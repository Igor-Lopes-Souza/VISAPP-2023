Epoch number: 75
fitting with batch size: 20
Epoch 1/75
4378/4378 - 80s - loss: 1.0236 - accuracy: 0.5972 - val_loss: 0.7783 - val_accuracy: 0.7234 - lr: 0.0010 - 80s/epoch - 18ms/step
Epoch 2/75
4378/4378 - 70s - loss: 0.8873 - accuracy: 0.6635 - val_loss: 0.8223 - val_accuracy: 0.6956 - lr: 0.0010 - 70s/epoch - 16ms/step
Epoch 3/75
4378/4378 - 70s - loss: 0.8553 - accuracy: 0.6767 - val_loss: 0.9648 - val_accuracy: 0.6222 - lr: 0.0010 - 70s/epoch - 16ms/step
Epoch 4/75
4378/4378 - 70s - loss: 0.8351 - accuracy: 0.6848 - val_loss: 0.7656 - val_accuracy: 0.6850 - lr: 0.0010 - 70s/epoch - 16ms/step
Epoch 5/75
4378/4378 - 71s - loss: 0.8223 - accuracy: 0.6901 - val_loss: 0.9855 - val_accuracy: 0.5921 - lr: 0.0010 - 71s/epoch - 16ms/step
Epoch 6/75
4378/4378 - 70s - loss: 0.8128 - accuracy: 0.6947 - val_loss: 0.8982 - val_accuracy: 0.6612 - lr: 0.0010 - 70s/epoch - 16ms/step
Epoch 7/75
4378/4378 - 70s - loss: 0.8047 - accuracy: 0.6964 - val_loss: 0.9346 - val_accuracy: 0.6041 - lr: 0.0010 - 70s/epoch - 16ms/step
Epoch 8/75
4378/4378 - 70s - loss: 0.8000 - accuracy: 0.6990 - val_loss: 0.8061 - val_accuracy: 0.7004 - lr: 0.0010 - 70s/epoch - 16ms/step
Epoch 9/75
4378/4378 - 71s - loss: 0.7908 - accuracy: 0.7019 - val_loss: 0.7753 - val_accuracy: 0.7149 - lr: 0.0010 - 71s/epoch - 16ms/step
Epoch 10/75
4378/4378 - 70s - loss: 0.7881 - accuracy: 0.7038 - val_loss: 0.8922 - val_accuracy: 0.6589 - lr: 0.0010 - 70s/epoch - 16ms/step
Epoch 11/75
4378/4378 - 70s - loss: 0.7830 - accuracy: 0.7050 - val_loss: 0.7895 - val_accuracy: 0.7226 - lr: 0.0010 - 70s/epoch - 16ms/step
Epoch 12/75
4378/4378 - 71s - loss: 0.7776 - accuracy: 0.7090 - val_loss: 0.7797 - val_accuracy: 0.7323 - lr: 0.0010 - 71s/epoch - 16ms/step
Epoch 13/75
4378/4378 - 71s - loss: 0.7738 - accuracy: 0.7072 - val_loss: 0.7317 - val_accuracy: 0.7372 - lr: 0.0010 - 71s/epoch - 16ms/step
Epoch 14/75
4378/4378 - 70s - loss: 0.7700 - accuracy: 0.7110 - val_loss: 0.7881 - val_accuracy: 0.7124 - lr: 0.0010 - 70s/epoch - 16ms/step
Epoch 15/75
4378/4378 - 71s - loss: 0.7669 - accuracy: 0.7112 - val_loss: 0.8884 - val_accuracy: 0.6770 - lr: 0.0010 - 71s/epoch - 16ms/step
Epoch 16/75
4378/4378 - 70s - loss: 0.7657 - accuracy: 0.7126 - val_loss: 0.8025 - val_accuracy: 0.6945 - lr: 0.0010 - 70s/epoch - 16ms/step
Epoch 17/75
4378/4378 - 70s - loss: 0.7593 - accuracy: 0.7149 - val_loss: 0.7817 - val_accuracy: 0.6991 - lr: 0.0010 - 70s/epoch - 16ms/step
Epoch 18/75
4378/4378 - 70s - loss: 0.7579 - accuracy: 0.7157 - val_loss: 0.8016 - val_accuracy: 0.7137 - lr: 0.0010 - 70s/epoch - 16ms/step
Epoch 19/75
4378/4378 - 70s - loss: 0.7562 - accuracy: 0.7155 - val_loss: 0.7673 - val_accuracy: 0.7226 - lr: 0.0010 - 70s/epoch - 16ms/step
Epoch 20/75
4378/4378 - 70s - loss: 0.7564 - accuracy: 0.7166 - val_loss: 0.8320 - val_accuracy: 0.6551 - lr: 0.0010 - 70s/epoch - 16ms/step
Epoch 21/75
4378/4378 - 71s - loss: 0.7541 - accuracy: 0.7160 - val_loss: 0.8173 - val_accuracy: 0.6880 - lr: 0.0010 - 71s/epoch - 16ms/step
Epoch 22/75
4378/4378 - 70s - loss: 0.7494 - accuracy: 0.7191 - val_loss: 0.8012 - val_accuracy: 0.6886 - lr: 0.0010 - 70s/epoch - 16ms/step
Epoch 23/75
4378/4378 - 70s - loss: 0.7509 - accuracy: 0.7185 - val_loss: 0.8328 - val_accuracy: 0.6848 - lr: 0.0010 - 70s/epoch - 16ms/step
Epoch 24/75
4378/4378 - 71s - loss: 0.7468 - accuracy: 0.7192 - val_loss: 0.7295 - val_accuracy: 0.7361 - lr: 0.0010 - 71s/epoch - 16ms/step
Epoch 25/75
4378/4378 - 70s - loss: 0.7482 - accuracy: 0.7188 - val_loss: 0.7739 - val_accuracy: 0.7509 - lr: 0.0010 - 70s/epoch - 16ms/step
Epoch 26/75
4378/4378 - 71s - loss: 0.7436 - accuracy: 0.7212 - val_loss: 0.8251 - val_accuracy: 0.6971 - lr: 0.0010 - 71s/epoch - 16ms/step
Epoch 27/75
4378/4378 - 71s - loss: 0.7424 - accuracy: 0.7204 - val_loss: 0.7931 - val_accuracy: 0.7108 - lr: 0.0010 - 71s/epoch - 16ms/step
Epoch 28/75
4378/4378 - 71s - loss: 0.7419 - accuracy: 0.7231 - val_loss: 0.8078 - val_accuracy: 0.6784 - lr: 0.0010 - 71s/epoch - 16ms/step
Epoch 29/75
4378/4378 - 70s - loss: 0.7394 - accuracy: 0.7208 - val_loss: 0.7888 - val_accuracy: 0.7202 - lr: 0.0010 - 70s/epoch - 16ms/step
Epoch 30/75
4378/4378 - 70s - loss: 0.7366 - accuracy: 0.7235 - val_loss: 0.7722 - val_accuracy: 0.7034 - lr: 0.0010 - 70s/epoch - 16ms/step
Epoch 31/75
4378/4378 - 70s - loss: 0.7389 - accuracy: 0.7235 - val_loss: 0.8111 - val_accuracy: 0.7172 - lr: 0.0010 - 70s/epoch - 16ms/step
Epoch 32/75
4378/4378 - 71s - loss: 0.7374 - accuracy: 0.7231 - val_loss: 0.8333 - val_accuracy: 0.6951 - lr: 0.0010 - 71s/epoch - 16ms/step
Epoch 33/75
4378/4378 - 74s - loss: 0.7358 - accuracy: 0.7234 - val_loss: 0.7910 - val_accuracy: 0.7091 - lr: 0.0010 - 74s/epoch - 17ms/step
Epoch 34/75
4378/4378 - 70s - loss: 0.7346 - accuracy: 0.7243 - val_loss: 0.7631 - val_accuracy: 0.7124 - lr: 0.0010 - 70s/epoch - 16ms/step
Epoch 35/75
4378/4378 - 70s - loss: 0.7342 - accuracy: 0.7253 - val_loss: 0.7621 - val_accuracy: 0.7338 - lr: 0.0010 - 70s/epoch - 16ms/step
Epoch 36/75
4378/4378 - 71s - loss: 0.7316 - accuracy: 0.7256 - val_loss: 0.8751 - val_accuracy: 0.6539 - lr: 0.0010 - 71s/epoch - 16ms/step
Epoch 37/75
4378/4378 - 71s - loss: 0.7311 - accuracy: 0.7252 - val_loss: 0.7072 - val_accuracy: 0.7387 - lr: 0.0010 - 71s/epoch - 16ms/step
Epoch 38/75
4378/4378 - 70s - loss: 0.7307 - accuracy: 0.7255 - val_loss: 0.8306 - val_accuracy: 0.7036 - lr: 0.0010 - 70s/epoch - 16ms/step
Epoch 39/75
4378/4378 - 71s - loss: 0.7272 - accuracy: 0.7268 - val_loss: 0.7691 - val_accuracy: 0.7440 - lr: 0.0010 - 71s/epoch - 16ms/step
Epoch 40/75
4378/4378 - 71s - loss: 0.7273 - accuracy: 0.7264 - val_loss: 0.7795 - val_accuracy: 0.7176 - lr: 0.0010 - 71s/epoch - 16ms/step
Epoch 41/75
4378/4378 - 71s - loss: 0.7294 - accuracy: 0.7248 - val_loss: 0.8167 - val_accuracy: 0.6933 - lr: 0.0010 - 71s/epoch - 16ms/step
Epoch 42/75
4378/4378 - 71s - loss: 0.7280 - accuracy: 0.7270 - val_loss: 0.8545 - val_accuracy: 0.6944 - lr: 0.0010 - 71s/epoch - 16ms/step
Epoch 43/75
4378/4378 - 71s - loss: 0.7261 - accuracy: 0.7275 - val_loss: 0.6974 - val_accuracy: 0.7578 - lr: 0.0010 - 71s/epoch - 16ms/step
Epoch 44/75
4378/4378 - 70s - loss: 0.7256 - accuracy: 0.7278 - val_loss: 0.7835 - val_accuracy: 0.7014 - lr: 0.0010 - 70s/epoch - 16ms/step
Epoch 45/75
4378/4378 - 71s - loss: 0.7234 - accuracy: 0.7289 - val_loss: 0.8357 - val_accuracy: 0.6707 - lr: 0.0010 - 71s/epoch - 16ms/step
Epoch 46/75
4378/4378 - 70s - loss: 0.7256 - accuracy: 0.7269 - val_loss: 0.8026 - val_accuracy: 0.7184 - lr: 0.0010 - 70s/epoch - 16ms/step
Epoch 47/75
4378/4378 - 71s - loss: 0.7246 - accuracy: 0.7280 - val_loss: 0.7879 - val_accuracy: 0.7191 - lr: 0.0010 - 71s/epoch - 16ms/step
Epoch 48/75
4378/4378 - 71s - loss: 0.7226 - accuracy: 0.7290 - val_loss: 0.7490 - val_accuracy: 0.7298 - lr: 0.0010 - 71s/epoch - 16ms/step
Epoch 49/75
4378/4378 - 71s - loss: 0.7240 - accuracy: 0.7292 - val_loss: 0.8155 - val_accuracy: 0.7171 - lr: 0.0010 - 71s/epoch - 16ms/step
Epoch 50/75
4378/4378 - 70s - loss: 0.7229 - accuracy: 0.7285 - val_loss: 0.7495 - val_accuracy: 0.7269 - lr: 0.0010 - 70s/epoch - 16ms/step
Epoch 51/75
4378/4378 - 70s - loss: 0.7225 - accuracy: 0.7305 - val_loss: 0.7527 - val_accuracy: 0.7226 - lr: 0.0010 - 70s/epoch - 16ms/step
Epoch 52/75
4378/4378 - 70s - loss: 0.7200 - accuracy: 0.7299 - val_loss: 0.7574 - val_accuracy: 0.6971 - lr: 0.0010 - 70s/epoch - 16ms/step
Epoch 53/75
4378/4378 - 70s - loss: 0.7221 - accuracy: 0.7291 - val_loss: 0.7988 - val_accuracy: 0.7103 - lr: 0.0010 - 70s/epoch - 16ms/step
Epoch 54/75
4378/4378 - 71s - loss: 0.7229 - accuracy: 0.7287 - val_loss: 0.9123 - val_accuracy: 0.6331 - lr: 0.0010 - 71s/epoch - 16ms/step
Epoch 55/75
4378/4378 - 71s - loss: 0.7226 - accuracy: 0.7290 - val_loss: 0.8696 - val_accuracy: 0.6859 - lr: 0.0010 - 71s/epoch - 16ms/step
Epoch 56/75
4378/4378 - 70s - loss: 0.7224 - accuracy: 0.7298 - val_loss: 0.7807 - val_accuracy: 0.7198 - lr: 0.0010 - 70s/epoch - 16ms/step
Epoch 57/75
4378/4378 - 71s - loss: 0.7227 - accuracy: 0.7294 - val_loss: 0.7084 - val_accuracy: 0.7499 - lr: 0.0010 - 71s/epoch - 16ms/step
Epoch 58/75
4378/4378 - 70s - loss: 0.7216 - accuracy: 0.7292 - val_loss: 0.7536 - val_accuracy: 0.7299 - lr: 0.0010 - 70s/epoch - 16ms/step
Epoch 59/75
4378/4378 - 70s - loss: 0.7235 - accuracy: 0.7282 - val_loss: 0.7168 - val_accuracy: 0.7488 - lr: 0.0010 - 70s/epoch - 16ms/step
Epoch 60/75
4378/4378 - 70s - loss: 0.7206 - accuracy: 0.7311 - val_loss: 0.6970 - val_accuracy: 0.7723 - lr: 0.0010 - 70s/epoch - 16ms/step
Epoch 61/75
4378/4378 - 71s - loss: 0.7212 - accuracy: 0.7292 - val_loss: 0.8417 - val_accuracy: 0.6956 - lr: 0.0010 - 71s/epoch - 16ms/step
Epoch 62/75
4378/4378 - 71s - loss: 0.7198 - accuracy: 0.7305 - val_loss: 0.8007 - val_accuracy: 0.7221 - lr: 0.0010 - 71s/epoch - 16ms/step
Epoch 63/75
4378/4378 - 71s - loss: 0.7193 - accuracy: 0.7303 - val_loss: 0.7125 - val_accuracy: 0.7501 - lr: 0.0010 - 71s/epoch - 16ms/step
Epoch 64/75
4378/4378 - 70s - loss: 0.7433 - accuracy: 0.7285 - val_loss: 0.7561 - val_accuracy: 0.7395 - lr: 0.0010 - 70s/epoch - 16ms/step
Epoch 65/75
4378/4378 - 70s - loss: 0.7211 - accuracy: 0.7297 - val_loss: 0.7398 - val_accuracy: 0.7460 - lr: 0.0010 - 70s/epoch - 16ms/step
Epoch 66/75
4378/4378 - 71s - loss: 0.7200 - accuracy: 0.7320 - val_loss: 0.8175 - val_accuracy: 0.7084 - lr: 0.0010 - 71s/epoch - 16ms/step
Epoch 67/75
4378/4378 - 70s - loss: 0.7222 - accuracy: 0.7300 - val_loss: 0.9010 - val_accuracy: 0.6465 - lr: 0.0010 - 70s/epoch - 16ms/step
Epoch 68/75
4378/4378 - 70s - loss: 0.7229 - accuracy: 0.7282 - val_loss: 0.8051 - val_accuracy: 0.6877 - lr: 0.0010 - 70s/epoch - 16ms/step
Epoch 69/75
4378/4378 - 71s - loss: 0.7276 - accuracy: 0.7298 - val_loss: 0.8865 - val_accuracy: 0.6574 - lr: 0.0010 - 71s/epoch - 16ms/step
Epoch 70/75
4378/4378 - 71s - loss: 0.7193 - accuracy: 0.7293 - val_loss: 0.8035 - val_accuracy: 0.7128 - lr: 0.0010 - 71s/epoch - 16ms/step
Epoch 71/75
4378/4378 - 71s - loss: 0.7301 - accuracy: 0.7295 - val_loss: 0.7570 - val_accuracy: 0.7299 - lr: 0.0010 - 71s/epoch - 16ms/step
Epoch 72/75
4378/4378 - 70s - loss: 0.7224 - accuracy: 0.7296 - val_loss: 0.7572 - val_accuracy: 0.7384 - lr: 0.0010 - 70s/epoch - 16ms/step
Epoch 73/75
4378/4378 - 71s - loss: 0.7253 - accuracy: 0.7280 - val_loss: 0.9417 - val_accuracy: 0.6368 - lr: 0.0010 - 71s/epoch - 16ms/step
Epoch 74/75
4378/4378 - 71s - loss: 0.7260 - accuracy: 0.7281 - val_loss: 0.7609 - val_accuracy: 0.7527 - lr: 0.0010 - 71s/epoch - 16ms/step
Epoch 75/75
4378/4378 - 71s - loss: 0.7238 - accuracy: 0.7290 - val_loss: 0.8284 - val_accuracy: 0.6948 - lr: 0.0010 - 71s/epoch - 16ms/step
fitting with batch size: 100
Epoch 1/75
876/876 - 21s - loss: 0.6762 - accuracy: 0.7456 - val_loss: 0.7554 - val_accuracy: 0.7241 - lr: 0.0010 - 21s/epoch - 24ms/step
Epoch 2/75
876/876 - 17s - loss: 0.6674 - accuracy: 0.7492 - val_loss: 0.7289 - val_accuracy: 0.7392 - lr: 0.0010 - 17s/epoch - 19ms/step
Epoch 3/75
876/876 - 17s - loss: 0.6596 - accuracy: 0.7509 - val_loss: 0.7699 - val_accuracy: 0.7300 - lr: 0.0010 - 17s/epoch - 20ms/step
Epoch 4/75
876/876 - 17s - loss: 0.6570 - accuracy: 0.7519 - val_loss: 0.7461 - val_accuracy: 0.7301 - lr: 0.0010 - 17s/epoch - 19ms/step
Epoch 5/75
876/876 - 17s - loss: 0.6520 - accuracy: 0.7544 - val_loss: 0.7423 - val_accuracy: 0.7318 - lr: 0.0010 - 17s/epoch - 19ms/step
Epoch 6/75
876/876 - 17s - loss: 0.6497 - accuracy: 0.7547 - val_loss: 0.7361 - val_accuracy: 0.7266 - lr: 0.0010 - 17s/epoch - 20ms/step
Epoch 7/75
876/876 - 17s - loss: 0.6504 - accuracy: 0.7557 - val_loss: 0.7326 - val_accuracy: 0.7347 - lr: 0.0010 - 17s/epoch - 20ms/step
Epoch 8/75
876/876 - 17s - loss: 0.6447 - accuracy: 0.7578 - val_loss: 0.7713 - val_accuracy: 0.7105 - lr: 0.0010 - 17s/epoch - 20ms/step
Epoch 9/75
876/876 - 17s - loss: 0.6412 - accuracy: 0.7572 - val_loss: 0.7262 - val_accuracy: 0.7333 - lr: 0.0010 - 17s/epoch - 20ms/step
Epoch 10/75
876/876 - 17s - loss: 0.6410 - accuracy: 0.7594 - val_loss: 0.7425 - val_accuracy: 0.7337 - lr: 0.0010 - 17s/epoch - 19ms/step
Epoch 11/75
876/876 - 17s - loss: 0.6391 - accuracy: 0.7593 - val_loss: 0.7862 - val_accuracy: 0.7176 - lr: 0.0010 - 17s/epoch - 20ms/step
Epoch 12/75
876/876 - 17s - loss: 0.6340 - accuracy: 0.7596 - val_loss: 0.7747 - val_accuracy: 0.7031 - lr: 0.0010 - 17s/epoch - 20ms/step
Epoch 13/75
876/876 - 17s - loss: 0.6353 - accuracy: 0.7599 - val_loss: 0.7707 - val_accuracy: 0.7179 - lr: 0.0010 - 17s/epoch - 20ms/step
Epoch 14/75
876/876 - 17s - loss: 0.6321 - accuracy: 0.7626 - val_loss: 0.7268 - val_accuracy: 0.7432 - lr: 0.0010 - 17s/epoch - 19ms/step
Epoch 15/75
876/876 - 17s - loss: 0.6311 - accuracy: 0.7605 - val_loss: 0.7579 - val_accuracy: 0.7213 - lr: 0.0010 - 17s/epoch - 20ms/step
Epoch 16/75
876/876 - 17s - loss: 0.6351 - accuracy: 0.7608 - val_loss: 0.8277 - val_accuracy: 0.6870 - lr: 0.0010 - 17s/epoch - 19ms/step
Epoch 17/75
876/876 - 17s - loss: 0.6262 - accuracy: 0.7631 - val_loss: 0.7701 - val_accuracy: 0.7166 - lr: 0.0010 - 17s/epoch - 20ms/step
Epoch 18/75
876/876 - 17s - loss: 0.6253 - accuracy: 0.7626 - val_loss: 0.7870 - val_accuracy: 0.7030 - lr: 0.0010 - 17s/epoch - 20ms/step
Epoch 19/75
876/876 - 17s - loss: 0.6281 - accuracy: 0.7632 - val_loss: 0.7481 - val_accuracy: 0.7373 - lr: 0.0010 - 17s/epoch - 20ms/step
Epoch 20/75
876/876 - 17s - loss: 0.6220 - accuracy: 0.7655 - val_loss: 0.7682 - val_accuracy: 0.7120 - lr: 0.0010 - 17s/epoch - 20ms/step
Epoch 21/75
876/876 - 17s - loss: 0.6207 - accuracy: 0.7658 - val_loss: 0.7133 - val_accuracy: 0.7452 - lr: 0.0010 - 17s/epoch - 20ms/step
Epoch 22/75
876/876 - 17s - loss: 0.6183 - accuracy: 0.7659 - val_loss: 0.7457 - val_accuracy: 0.7339 - lr: 0.0010 - 17s/epoch - 20ms/step
Epoch 23/75
876/876 - 17s - loss: 0.6190 - accuracy: 0.7661 - val_loss: 0.8005 - val_accuracy: 0.7045 - lr: 0.0010 - 17s/epoch - 19ms/step
Epoch 24/75
876/876 - 17s - loss: 0.6199 - accuracy: 0.7647 - val_loss: 0.7198 - val_accuracy: 0.7473 - lr: 0.0010 - 17s/epoch - 20ms/step
Epoch 25/75
876/876 - 17s - loss: 0.6161 - accuracy: 0.7666 - val_loss: 0.6845 - val_accuracy: 0.7529 - lr: 0.0010 - 17s/epoch - 20ms/step
Epoch 26/75
876/876 - 17s - loss: 0.6125 - accuracy: 0.7690 - val_loss: 0.6777 - val_accuracy: 0.7511 - lr: 0.0010 - 17s/epoch - 20ms/step
Epoch 27/75
876/876 - 17s - loss: 0.6111 - accuracy: 0.7704 - val_loss: 0.7483 - val_accuracy: 0.7327 - lr: 0.0010 - 17s/epoch - 20ms/step
Epoch 28/75
876/876 - 17s - loss: 0.6097 - accuracy: 0.7694 - val_loss: 0.7761 - val_accuracy: 0.7074 - lr: 0.0010 - 17s/epoch - 19ms/step
Epoch 29/75
876/876 - 17s - loss: 0.6092 - accuracy: 0.7689 - val_loss: 0.7637 - val_accuracy: 0.7236 - lr: 0.0010 - 17s/epoch - 20ms/step
Epoch 30/75
876/876 - 17s - loss: 0.6063 - accuracy: 0.7705 - val_loss: 0.6946 - val_accuracy: 0.7406 - lr: 0.0010 - 17s/epoch - 19ms/step
Epoch 31/75
876/876 - 17s - loss: 0.6070 - accuracy: 0.7691 - val_loss: 0.7939 - val_accuracy: 0.7250 - lr: 0.0010 - 17s/epoch - 20ms/step
Epoch 32/75
876/876 - 17s - loss: 0.6060 - accuracy: 0.7705 - val_loss: 0.7338 - val_accuracy: 0.7239 - lr: 0.0010 - 17s/epoch - 20ms/step
Epoch 33/75
876/876 - 17s - loss: 0.6042 - accuracy: 0.7712 - val_loss: 0.7404 - val_accuracy: 0.7243 - lr: 0.0010 - 17s/epoch - 20ms/step
Epoch 34/75
876/876 - 17s - loss: 0.6003 - accuracy: 0.7729 - val_loss: 0.7559 - val_accuracy: 0.7103 - lr: 0.0010 - 17s/epoch - 20ms/step
Epoch 35/75
876/876 - 18s - loss: 0.6016 - accuracy: 0.7726 - val_loss: 0.8214 - val_accuracy: 0.6889 - lr: 0.0010 - 18s/epoch - 21ms/step
Epoch 36/75
876/876 - 18s - loss: 0.6003 - accuracy: 0.7730 - val_loss: 0.7349 - val_accuracy: 0.7299 - lr: 0.0010 - 18s/epoch - 20ms/step
Epoch 37/75
876/876 - 17s - loss: 0.5979 - accuracy: 0.7733 - val_loss: 0.7995 - val_accuracy: 0.7099 - lr: 0.0010 - 17s/epoch - 20ms/step
Epoch 38/75
876/876 - 17s - loss: 0.5997 - accuracy: 0.7739 - val_loss: 0.7882 - val_accuracy: 0.7148 - lr: 0.0010 - 17s/epoch - 19ms/step
Epoch 39/75
876/876 - 17s - loss: 0.5986 - accuracy: 0.7744 - val_loss: 0.7326 - val_accuracy: 0.7341 - lr: 0.0010 - 17s/epoch - 19ms/step
Epoch 40/75
876/876 - 17s - loss: 0.5944 - accuracy: 0.7750 - val_loss: 0.7787 - val_accuracy: 0.7113 - lr: 0.0010 - 17s/epoch - 20ms/step
Epoch 41/75
876/876 - 17s - loss: 0.5965 - accuracy: 0.7733 - val_loss: 0.7363 - val_accuracy: 0.7309 - lr: 0.0010 - 17s/epoch - 20ms/step
Epoch 42/75
876/876 - 17s - loss: 0.5959 - accuracy: 0.7759 - val_loss: 0.7444 - val_accuracy: 0.7274 - lr: 0.0010 - 17s/epoch - 20ms/step
Epoch 43/75
876/876 - 17s - loss: 0.5916 - accuracy: 0.7761 - val_loss: 0.7830 - val_accuracy: 0.7014 - lr: 0.0010 - 17s/epoch - 20ms/step
Epoch 44/75
876/876 - 17s - loss: 0.5918 - accuracy: 0.7762 - val_loss: 0.7482 - val_accuracy: 0.7264 - lr: 0.0010 - 17s/epoch - 19ms/step
Epoch 45/75
876/876 - 17s - loss: 0.5876 - accuracy: 0.7776 - val_loss: 0.6922 - val_accuracy: 0.7640 - lr: 0.0010 - 17s/epoch - 20ms/step
Epoch 46/75
876/876 - 17s - loss: 0.5894 - accuracy: 0.7759 - val_loss: 0.7375 - val_accuracy: 0.7348 - lr: 0.0010 - 17s/epoch - 19ms/step
Epoch 47/75
876/876 - 17s - loss: 0.5887 - accuracy: 0.7762 - val_loss: 0.7268 - val_accuracy: 0.7420 - lr: 0.0010 - 17s/epoch - 20ms/step
Epoch 48/75
876/876 - 17s - loss: 0.5916 - accuracy: 0.7766 - val_loss: 0.7892 - val_accuracy: 0.7060 - lr: 0.0010 - 17s/epoch - 20ms/step
Epoch 49/75
876/876 - 17s - loss: 0.5880 - accuracy: 0.7768 - val_loss: 0.7653 - val_accuracy: 0.7371 - lr: 0.0010 - 17s/epoch - 19ms/step
Epoch 50/75
876/876 - 17s - loss: 0.5881 - accuracy: 0.7765 - val_loss: 0.7240 - val_accuracy: 0.7273 - lr: 0.0010 - 17s/epoch - 20ms/step
Epoch 51/75
876/876 - 17s - loss: 0.5836 - accuracy: 0.7794 - val_loss: 0.7457 - val_accuracy: 0.7368 - lr: 0.0010 - 17s/epoch - 20ms/step
Epoch 52/75
876/876 - 17s - loss: 0.5836 - accuracy: 0.7779 - val_loss: 0.7281 - val_accuracy: 0.7183 - lr: 0.0010 - 17s/epoch - 20ms/step
Epoch 53/75
876/876 - 17s - loss: 0.5854 - accuracy: 0.7780 - val_loss: 0.7552 - val_accuracy: 0.7241 - lr: 0.0010 - 17s/epoch - 20ms/step
Epoch 54/75
876/876 - 17s - loss: 0.5827 - accuracy: 0.7790 - val_loss: 0.8178 - val_accuracy: 0.6961 - lr: 0.0010 - 17s/epoch - 20ms/step
Epoch 55/75
876/876 - 17s - loss: 0.5804 - accuracy: 0.7809 - val_loss: 0.7348 - val_accuracy: 0.7277 - lr: 0.0010 - 17s/epoch - 20ms/step
Epoch 56/75
876/876 - 17s - loss: 0.5855 - accuracy: 0.7788 - val_loss: 0.7564 - val_accuracy: 0.7357 - lr: 0.0010 - 17s/epoch - 19ms/step
Epoch 57/75
876/876 - 17s - loss: 0.5814 - accuracy: 0.7795 - val_loss: 0.7604 - val_accuracy: 0.7277 - lr: 0.0010 - 17s/epoch - 20ms/step
Epoch 58/75
876/876 - 17s - loss: 0.5801 - accuracy: 0.7799 - val_loss: 0.8161 - val_accuracy: 0.7056 - lr: 0.0010 - 17s/epoch - 20ms/step
Epoch 59/75
876/876 - 17s - loss: 0.5807 - accuracy: 0.7796 - val_loss: 0.7327 - val_accuracy: 0.7250 - lr: 0.0010 - 17s/epoch - 20ms/step
Epoch 60/75
876/876 - 17s - loss: 0.5799 - accuracy: 0.7797 - val_loss: 0.7676 - val_accuracy: 0.7227 - lr: 0.0010 - 17s/epoch - 20ms/step
Epoch 61/75
876/876 - 17s - loss: 0.5757 - accuracy: 0.7820 - val_loss: 0.7565 - val_accuracy: 0.7186 - lr: 0.0010 - 17s/epoch - 20ms/step
Epoch 62/75
876/876 - 17s - loss: 0.5790 - accuracy: 0.7811 - val_loss: 0.8011 - val_accuracy: 0.7021 - lr: 0.0010 - 17s/epoch - 19ms/step
Epoch 63/75
876/876 - 17s - loss: 0.5785 - accuracy: 0.7797 - val_loss: 0.7186 - val_accuracy: 0.7598 - lr: 0.0010 - 17s/epoch - 20ms/step
Epoch 64/75
876/876 - 17s - loss: 0.5725 - accuracy: 0.7834 - val_loss: 0.7226 - val_accuracy: 0.7442 - lr: 0.0010 - 17s/epoch - 19ms/step
Epoch 65/75
876/876 - 17s - loss: 0.5740 - accuracy: 0.7824 - val_loss: 0.7849 - val_accuracy: 0.7032 - lr: 0.0010 - 17s/epoch - 20ms/step
Epoch 66/75
876/876 - 17s - loss: 0.5752 - accuracy: 0.7833 - val_loss: 0.7819 - val_accuracy: 0.7051 - lr: 0.0010 - 17s/epoch - 20ms/step
Epoch 67/75
876/876 - 17s - loss: 0.5710 - accuracy: 0.7828 - val_loss: 0.7318 - val_accuracy: 0.7408 - lr: 0.0010 - 17s/epoch - 19ms/step
Epoch 68/75
876/876 - 17s - loss: 0.5710 - accuracy: 0.7843 - val_loss: 0.7427 - val_accuracy: 0.7331 - lr: 0.0010 - 17s/epoch - 20ms/step
Epoch 69/75
876/876 - 17s - loss: 0.5711 - accuracy: 0.7841 - val_loss: 0.7840 - val_accuracy: 0.6954 - lr: 0.0010 - 17s/epoch - 20ms/step
Epoch 70/75
876/876 - 17s - loss: 0.5718 - accuracy: 0.7838 - val_loss: 0.7059 - val_accuracy: 0.7570 - lr: 0.0010 - 17s/epoch - 20ms/step
Epoch 71/75
876/876 - 17s - loss: 0.5708 - accuracy: 0.7836 - val_loss: 0.7785 - val_accuracy: 0.7115 - lr: 0.0010 - 17s/epoch - 20ms/step
Epoch 72/75
876/876 - 17s - loss: 0.5724 - accuracy: 0.7825 - val_loss: 0.7548 - val_accuracy: 0.7294 - lr: 0.0010 - 17s/epoch - 20ms/step
Epoch 73/75
876/876 - 17s - loss: 0.5675 - accuracy: 0.7852 - val_loss: 0.7268 - val_accuracy: 0.7380 - lr: 0.0010 - 17s/epoch - 19ms/step
Epoch 74/75
876/876 - 17s - loss: 0.5703 - accuracy: 0.7830 - val_loss: 0.7906 - val_accuracy: 0.7110 - lr: 0.0010 - 17s/epoch - 20ms/step
Epoch 75/75
876/876 - 17s - loss: 0.5684 - accuracy: 0.7848 - val_loss: 0.7173 - val_accuracy: 0.7455 - lr: 0.0010 - 17s/epoch - 20ms/step
fitting with batch size: 500
Epoch 1/75
176/176 - 12s - loss: 0.5275 - accuracy: 0.8014 - val_loss: 0.7425 - val_accuracy: 0.7211 - lr: 0.0010 - 12s/epoch - 68ms/step
Epoch 2/75
176/176 - 9s - loss: 0.5225 - accuracy: 0.8031 - val_loss: 0.7854 - val_accuracy: 0.7083 - lr: 0.0010 - 9s/epoch - 49ms/step
Epoch 3/75
176/176 - 9s - loss: 0.5211 - accuracy: 0.8037 - val_loss: 0.7623 - val_accuracy: 0.7178 - lr: 0.0010 - 9s/epoch - 49ms/step
Epoch 4/75
176/176 - 9s - loss: 0.5195 - accuracy: 0.8043 - val_loss: 0.7209 - val_accuracy: 0.7394 - lr: 0.0010 - 9s/epoch - 49ms/step
Epoch 5/75
176/176 - 9s - loss: 0.5160 - accuracy: 0.8047 - val_loss: 0.7492 - val_accuracy: 0.7186 - lr: 0.0010 - 9s/epoch - 49ms/step
Epoch 6/75
176/176 - 9s - loss: 0.5140 - accuracy: 0.8050 - val_loss: 0.7703 - val_accuracy: 0.7174 - lr: 0.0010 - 9s/epoch - 49ms/step
Epoch 7/75
176/176 - 9s - loss: 0.5141 - accuracy: 0.8048 - val_loss: 0.7114 - val_accuracy: 0.7382 - lr: 0.0010 - 9s/epoch - 49ms/step
Epoch 8/75
176/176 - 9s - loss: 0.5110 - accuracy: 0.8070 - val_loss: 0.7458 - val_accuracy: 0.7252 - lr: 0.0010 - 9s/epoch - 49ms/step
Epoch 9/75
176/176 - 9s - loss: 0.5107 - accuracy: 0.8072 - val_loss: 0.7788 - val_accuracy: 0.7098 - lr: 0.0010 - 9s/epoch - 49ms/step
Epoch 10/75
176/176 - 9s - loss: 0.5099 - accuracy: 0.8067 - val_loss: 0.7762 - val_accuracy: 0.7132 - lr: 0.0010 - 9s/epoch - 49ms/step
Epoch 11/75
176/176 - 9s - loss: 0.5056 - accuracy: 0.8085 - val_loss: 0.7555 - val_accuracy: 0.7257 - lr: 0.0010 - 9s/epoch - 49ms/step
Epoch 12/75
176/176 - 9s - loss: 0.5056 - accuracy: 0.8082 - val_loss: 0.7846 - val_accuracy: 0.7103 - lr: 0.0010 - 9s/epoch - 49ms/step
Epoch 13/75
176/176 - 9s - loss: 0.5042 - accuracy: 0.8096 - val_loss: 0.7416 - val_accuracy: 0.7281 - lr: 0.0010 - 9s/epoch - 49ms/step
Epoch 14/75
176/176 - 9s - loss: 0.5030 - accuracy: 0.8102 - val_loss: 0.7508 - val_accuracy: 0.7255 - lr: 0.0010 - 9s/epoch - 49ms/step
Epoch 15/75
176/176 - 9s - loss: 0.5030 - accuracy: 0.8089 - val_loss: 0.7735 - val_accuracy: 0.7133 - lr: 0.0010 - 9s/epoch - 49ms/step
Epoch 16/75
176/176 - 9s - loss: 0.5006 - accuracy: 0.8105 - val_loss: 0.7477 - val_accuracy: 0.7183 - lr: 0.0010 - 9s/epoch - 49ms/step
Epoch 17/75
176/176 - 9s - loss: 0.5009 - accuracy: 0.8094 - val_loss: 0.7524 - val_accuracy: 0.7225 - lr: 0.0010 - 9s/epoch - 49ms/step
Epoch 18/75
176/176 - 9s - loss: 0.5018 - accuracy: 0.8103 - val_loss: 0.7627 - val_accuracy: 0.7181 - lr: 0.0010 - 9s/epoch - 49ms/step
Epoch 19/75
176/176 - 9s - loss: 0.4975 - accuracy: 0.8117 - val_loss: 0.7517 - val_accuracy: 0.7260 - lr: 0.0010 - 9s/epoch - 49ms/step
Epoch 20/75
176/176 - 9s - loss: 0.4987 - accuracy: 0.8107 - val_loss: 0.7284 - val_accuracy: 0.7367 - lr: 0.0010 - 9s/epoch - 49ms/step
Epoch 21/75
176/176 - 9s - loss: 0.4972 - accuracy: 0.8123 - val_loss: 0.7687 - val_accuracy: 0.7190 - lr: 0.0010 - 9s/epoch - 49ms/step
Epoch 22/75
176/176 - 9s - loss: 0.4968 - accuracy: 0.8121 - val_loss: 0.7484 - val_accuracy: 0.7283 - lr: 0.0010 - 9s/epoch - 49ms/step
Epoch 23/75
176/176 - 9s - loss: 0.4945 - accuracy: 0.8115 - val_loss: 0.7025 - val_accuracy: 0.7408 - lr: 0.0010 - 9s/epoch - 49ms/step
Epoch 24/75
176/176 - 9s - loss: 0.4930 - accuracy: 0.8141 - val_loss: 0.7746 - val_accuracy: 0.7186 - lr: 0.0010 - 9s/epoch - 49ms/step
Epoch 25/75
176/176 - 9s - loss: 0.4915 - accuracy: 0.8155 - val_loss: 0.7676 - val_accuracy: 0.7257 - lr: 0.0010 - 9s/epoch - 49ms/step
Epoch 26/75
176/176 - 9s - loss: 0.4918 - accuracy: 0.8135 - val_loss: 0.7566 - val_accuracy: 0.7228 - lr: 0.0010 - 9s/epoch - 49ms/step
Epoch 27/75
176/176 - 9s - loss: 0.4928 - accuracy: 0.8144 - val_loss: 0.7587 - val_accuracy: 0.7282 - lr: 0.0010 - 9s/epoch - 49ms/step
Epoch 28/75
176/176 - 9s - loss: 0.4904 - accuracy: 0.8143 - val_loss: 0.7464 - val_accuracy: 0.7252 - lr: 0.0010 - 9s/epoch - 49ms/step
Epoch 29/75
176/176 - 9s - loss: 0.4890 - accuracy: 0.8168 - val_loss: 0.7948 - val_accuracy: 0.7085 - lr: 0.0010 - 9s/epoch - 49ms/step
Epoch 30/75
176/176 - 9s - loss: 0.4924 - accuracy: 0.8145 - val_loss: 0.7493 - val_accuracy: 0.7236 - lr: 0.0010 - 9s/epoch - 49ms/step
Epoch 31/75
176/176 - 9s - loss: 0.4868 - accuracy: 0.8170 - val_loss: 0.7189 - val_accuracy: 0.7451 - lr: 0.0010 - 9s/epoch - 49ms/step
Epoch 32/75
176/176 - 9s - loss: 0.4887 - accuracy: 0.8160 - val_loss: 0.7839 - val_accuracy: 0.7102 - lr: 0.0010 - 9s/epoch - 49ms/step
Epoch 33/75
176/176 - 9s - loss: 0.4873 - accuracy: 0.8165 - val_loss: 0.7375 - val_accuracy: 0.7401 - lr: 0.0010 - 9s/epoch - 49ms/step
Epoch 34/75
176/176 - 9s - loss: 0.4860 - accuracy: 0.8168 - val_loss: 0.7778 - val_accuracy: 0.7179 - lr: 0.0010 - 9s/epoch - 49ms/step
Epoch 35/75
176/176 - 9s - loss: 0.4892 - accuracy: 0.8152 - val_loss: 0.7516 - val_accuracy: 0.7161 - lr: 0.0010 - 9s/epoch - 49ms/step
Epoch 36/75
176/176 - 9s - loss: 0.4873 - accuracy: 0.8153 - val_loss: 0.7468 - val_accuracy: 0.7269 - lr: 0.0010 - 9s/epoch - 49ms/step
Epoch 37/75
176/176 - 9s - loss: 0.4847 - accuracy: 0.8169 - val_loss: 0.7509 - val_accuracy: 0.7280 - lr: 0.0010 - 9s/epoch - 49ms/step
Epoch 38/75
176/176 - 9s - loss: 0.4851 - accuracy: 0.8171 - val_loss: 0.7691 - val_accuracy: 0.7203 - lr: 0.0010 - 9s/epoch - 49ms/step
Epoch 39/75
176/176 - 9s - loss: 0.4840 - accuracy: 0.8169 - val_loss: 0.7939 - val_accuracy: 0.7087 - lr: 0.0010 - 9s/epoch - 49ms/step
Epoch 40/75
176/176 - 9s - loss: 0.4845 - accuracy: 0.8173 - val_loss: 0.7801 - val_accuracy: 0.7124 - lr: 0.0010 - 9s/epoch - 49ms/step
Epoch 41/75
176/176 - 9s - loss: 0.4773 - accuracy: 0.8199 - val_loss: 0.7810 - val_accuracy: 0.7226 - lr: 0.0010 - 9s/epoch - 49ms/step
Epoch 42/75
176/176 - 9s - loss: 0.4825 - accuracy: 0.8169 - val_loss: 0.7552 - val_accuracy: 0.7227 - lr: 0.0010 - 9s/epoch - 49ms/step
Epoch 43/75
176/176 - 9s - loss: 0.4794 - accuracy: 0.8192 - val_loss: 0.7658 - val_accuracy: 0.7185 - lr: 0.0010 - 9s/epoch - 49ms/step
Epoch 44/75
176/176 - 9s - loss: 0.4827 - accuracy: 0.8175 - val_loss: 0.7626 - val_accuracy: 0.7204 - lr: 0.0010 - 9s/epoch - 49ms/step
Epoch 45/75
176/176 - 9s - loss: 0.4803 - accuracy: 0.8175 - val_loss: 0.7607 - val_accuracy: 0.7241 - lr: 0.0010 - 9s/epoch - 49ms/step
Epoch 46/75
176/176 - 9s - loss: 0.4779 - accuracy: 0.8206 - val_loss: 0.7730 - val_accuracy: 0.7086 - lr: 0.0010 - 9s/epoch - 49ms/step
Epoch 47/75
176/176 - 9s - loss: 0.4781 - accuracy: 0.8191 - val_loss: 0.7416 - val_accuracy: 0.7317 - lr: 0.0010 - 9s/epoch - 49ms/step
Epoch 48/75
176/176 - 9s - loss: 0.4803 - accuracy: 0.8183 - val_loss: 0.7601 - val_accuracy: 0.7199 - lr: 0.0010 - 9s/epoch - 49ms/step
Epoch 49/75
176/176 - 9s - loss: 0.4760 - accuracy: 0.8195 - val_loss: 0.7793 - val_accuracy: 0.7205 - lr: 0.0010 - 9s/epoch - 49ms/step
Epoch 50/75
176/176 - 9s - loss: 0.4766 - accuracy: 0.8204 - val_loss: 0.8046 - val_accuracy: 0.7046 - lr: 0.0010 - 9s/epoch - 49ms/step
Epoch 51/75
176/176 - 9s - loss: 0.4761 - accuracy: 0.8203 - val_loss: 0.7898 - val_accuracy: 0.7082 - lr: 0.0010 - 9s/epoch - 49ms/step
Epoch 52/75
176/176 - 9s - loss: 0.4750 - accuracy: 0.8208 - val_loss: 0.7771 - val_accuracy: 0.7110 - lr: 0.0010 - 9s/epoch - 49ms/step
Epoch 53/75
176/176 - 9s - loss: 0.4751 - accuracy: 0.8206 - val_loss: 0.7754 - val_accuracy: 0.7177 - lr: 0.0010 - 9s/epoch - 49ms/step
Epoch 54/75
176/176 - 9s - loss: 0.4713 - accuracy: 0.8226 - val_loss: 0.7663 - val_accuracy: 0.7246 - lr: 0.0010 - 9s/epoch - 49ms/step
Epoch 55/75
176/176 - 9s - loss: 0.4708 - accuracy: 0.8216 - val_loss: 0.8079 - val_accuracy: 0.7081 - lr: 0.0010 - 9s/epoch - 49ms/step
Epoch 56/75
176/176 - 9s - loss: 0.4746 - accuracy: 0.8215 - val_loss: 0.7854 - val_accuracy: 0.7120 - lr: 0.0010 - 9s/epoch - 49ms/step
Epoch 57/75
176/176 - 9s - loss: 0.4742 - accuracy: 0.8210 - val_loss: 0.8015 - val_accuracy: 0.7064 - lr: 0.0010 - 9s/epoch - 49ms/step
Epoch 58/75
176/176 - 9s - loss: 0.4737 - accuracy: 0.8210 - val_loss: 0.8091 - val_accuracy: 0.7023 - lr: 0.0010 - 9s/epoch - 49ms/step
Epoch 59/75
176/176 - 9s - loss: 0.4742 - accuracy: 0.8220 - val_loss: 0.7605 - val_accuracy: 0.7230 - lr: 0.0010 - 9s/epoch - 49ms/step
Epoch 60/75
176/176 - 9s - loss: 0.4692 - accuracy: 0.8246 - val_loss: 0.7684 - val_accuracy: 0.7206 - lr: 0.0010 - 9s/epoch - 49ms/step
Epoch 61/75
176/176 - 9s - loss: 0.4733 - accuracy: 0.8229 - val_loss: 0.7309 - val_accuracy: 0.7391 - lr: 0.0010 - 9s/epoch - 49ms/step
Epoch 62/75
176/176 - 9s - loss: 0.4736 - accuracy: 0.8220 - val_loss: 0.8273 - val_accuracy: 0.6874 - lr: 0.0010 - 9s/epoch - 49ms/step
Epoch 63/75
176/176 - 9s - loss: 0.4701 - accuracy: 0.8227 - val_loss: 0.7904 - val_accuracy: 0.7114 - lr: 0.0010 - 9s/epoch - 49ms/step
Epoch 64/75
176/176 - 9s - loss: 0.4732 - accuracy: 0.8213 - val_loss: 0.7777 - val_accuracy: 0.7123 - lr: 0.0010 - 9s/epoch - 49ms/step
Epoch 65/75
176/176 - 9s - loss: 0.4699 - accuracy: 0.8220 - val_loss: 0.8039 - val_accuracy: 0.7083 - lr: 0.0010 - 9s/epoch - 49ms/step
Epoch 66/75
176/176 - 9s - loss: 0.4681 - accuracy: 0.8243 - val_loss: 0.7575 - val_accuracy: 0.7266 - lr: 0.0010 - 9s/epoch - 49ms/step
Epoch 67/75
176/176 - 9s - loss: 0.4688 - accuracy: 0.8238 - val_loss: 0.7528 - val_accuracy: 0.7255 - lr: 0.0010 - 9s/epoch - 49ms/step
Epoch 68/75
176/176 - 9s - loss: 0.4690 - accuracy: 0.8236 - val_loss: 0.7778 - val_accuracy: 0.7167 - lr: 0.0010 - 9s/epoch - 49ms/step
Epoch 69/75
176/176 - 9s - loss: 0.4708 - accuracy: 0.8215 - val_loss: 0.7780 - val_accuracy: 0.7116 - lr: 0.0010 - 9s/epoch - 49ms/step
Epoch 70/75
176/176 - 9s - loss: 0.4670 - accuracy: 0.8240 - val_loss: 0.7995 - val_accuracy: 0.7077 - lr: 0.0010 - 9s/epoch - 49ms/step
Epoch 71/75
176/176 - 9s - loss: 0.4706 - accuracy: 0.8215 - val_loss: 0.7777 - val_accuracy: 0.7113 - lr: 0.0010 - 9s/epoch - 49ms/step
Epoch 72/75
176/176 - 9s - loss: 0.4654 - accuracy: 0.8239 - val_loss: 0.7428 - val_accuracy: 0.7207 - lr: 0.0010 - 9s/epoch - 49ms/step
Epoch 73/75
176/176 - 9s - loss: 0.4680 - accuracy: 0.8228 - val_loss: 0.7992 - val_accuracy: 0.7048 - lr: 0.0010 - 9s/epoch - 49ms/step
Epoch 74/75
176/176 - 9s - loss: 0.4666 - accuracy: 0.8236 - val_loss: 0.7446 - val_accuracy: 0.7310 - lr: 0.0010 - 9s/epoch - 49ms/step
Epoch 75/75
176/176 - 9s - loss: 0.4651 - accuracy: 0.8248 - val_loss: 0.7877 - val_accuracy: 0.7089 - lr: 0.0010 - 9s/epoch - 49ms/step
fitting with batch size: 1500
Epoch 1/75
59/59 - 11s - loss: 0.4472 - accuracy: 0.8326 - val_loss: 0.7897 - val_accuracy: 0.7168 - lr: 0.0010 - 11s/epoch - 186ms/step
Epoch 2/75
59/59 - 8s - loss: 0.4390 - accuracy: 0.8364 - val_loss: 0.7616 - val_accuracy: 0.7230 - lr: 0.0010 - 8s/epoch - 132ms/step
Epoch 3/75
59/59 - 8s - loss: 0.4376 - accuracy: 0.8364 - val_loss: 0.7515 - val_accuracy: 0.7202 - lr: 0.0010 - 8s/epoch - 132ms/step
Epoch 4/75
59/59 - 8s - loss: 0.4364 - accuracy: 0.8372 - val_loss: 0.7599 - val_accuracy: 0.7240 - lr: 0.0010 - 8s/epoch - 133ms/step
Epoch 5/75
59/59 - 8s - loss: 0.4390 - accuracy: 0.8360 - val_loss: 0.7772 - val_accuracy: 0.7097 - lr: 0.0010 - 8s/epoch - 133ms/step
Epoch 6/75
59/59 - 8s - loss: 0.4379 - accuracy: 0.8356 - val_loss: 0.7718 - val_accuracy: 0.7178 - lr: 0.0010 - 8s/epoch - 132ms/step
Epoch 7/75
59/59 - 8s - loss: 0.4368 - accuracy: 0.8352 - val_loss: 0.8013 - val_accuracy: 0.7045 - lr: 0.0010 - 8s/epoch - 133ms/step
Epoch 8/75
59/59 - 8s - loss: 0.4382 - accuracy: 0.8355 - val_loss: 0.7689 - val_accuracy: 0.7174 - lr: 0.0010 - 8s/epoch - 133ms/step
Epoch 9/75
59/59 - 8s - loss: 0.4380 - accuracy: 0.8363 - val_loss: 0.8108 - val_accuracy: 0.6953 - lr: 0.0010 - 8s/epoch - 133ms/step
Epoch 10/75
59/59 - 8s - loss: 0.4365 - accuracy: 0.8371 - val_loss: 0.7918 - val_accuracy: 0.7065 - lr: 0.0010 - 8s/epoch - 133ms/step
Epoch 11/75
59/59 - 8s - loss: 0.4387 - accuracy: 0.8360 - val_loss: 0.7940 - val_accuracy: 0.7036 - lr: 0.0010 - 8s/epoch - 132ms/step
Epoch 12/75
59/59 - 8s - loss: 0.4360 - accuracy: 0.8367 - val_loss: 0.7855 - val_accuracy: 0.7084 - lr: 0.0010 - 8s/epoch - 133ms/step
Epoch 13/75
59/59 - 8s - loss: 0.4351 - accuracy: 0.8368 - val_loss: 0.7785 - val_accuracy: 0.7119 - lr: 0.0010 - 8s/epoch - 132ms/step
Epoch 14/75
59/59 - 8s - loss: 0.4357 - accuracy: 0.8376 - val_loss: 0.7761 - val_accuracy: 0.7137 - lr: 0.0010 - 8s/epoch - 133ms/step
Epoch 15/75
59/59 - 8s - loss: 0.4326 - accuracy: 0.8383 - val_loss: 0.7966 - val_accuracy: 0.7014 - lr: 0.0010 - 8s/epoch - 133ms/step
Epoch 16/75
59/59 - 8s - loss: 0.4344 - accuracy: 0.8371 - val_loss: 0.7799 - val_accuracy: 0.7124 - lr: 0.0010 - 8s/epoch - 133ms/step
Epoch 17/75
59/59 - 8s - loss: 0.4328 - accuracy: 0.8387 - val_loss: 0.7994 - val_accuracy: 0.7018 - lr: 0.0010 - 8s/epoch - 133ms/step
Epoch 18/75
59/59 - 8s - loss: 0.4314 - accuracy: 0.8387 - val_loss: 0.7695 - val_accuracy: 0.7149 - lr: 0.0010 - 8s/epoch - 132ms/step
Epoch 19/75
59/59 - 8s - loss: 0.4303 - accuracy: 0.8402 - val_loss: 0.8050 - val_accuracy: 0.7001 - lr: 0.0010 - 8s/epoch - 133ms/step
Epoch 20/75
59/59 - 8s - loss: 0.4310 - accuracy: 0.8386 - val_loss: 0.8055 - val_accuracy: 0.6967 - lr: 0.0010 - 8s/epoch - 133ms/step
Epoch 21/75
59/59 - 8s - loss: 0.4348 - accuracy: 0.8363 - val_loss: 0.7701 - val_accuracy: 0.7183 - lr: 0.0010 - 8s/epoch - 132ms/step
Epoch 22/75
59/59 - 8s - loss: 0.4318 - accuracy: 0.8381 - val_loss: 0.7514 - val_accuracy: 0.7214 - lr: 0.0010 - 8s/epoch - 133ms/step
Epoch 23/75
59/59 - 8s - loss: 0.4286 - accuracy: 0.8400 - val_loss: 0.7755 - val_accuracy: 0.7174 - lr: 0.0010 - 8s/epoch - 132ms/step
Epoch 24/75
59/59 - 8s - loss: 0.4282 - accuracy: 0.8399 - val_loss: 0.7947 - val_accuracy: 0.7054 - lr: 0.0010 - 8s/epoch - 133ms/step
Epoch 25/75
59/59 - 8s - loss: 0.4283 - accuracy: 0.8401 - val_loss: 0.8145 - val_accuracy: 0.7015 - lr: 0.0010 - 8s/epoch - 133ms/step
Epoch 26/75
59/59 - 8s - loss: 0.4279 - accuracy: 0.8401 - val_loss: 0.8089 - val_accuracy: 0.7039 - lr: 0.0010 - 8s/epoch - 133ms/step
Epoch 27/75
59/59 - 8s - loss: 0.4312 - accuracy: 0.8388 - val_loss: 0.7558 - val_accuracy: 0.7247 - lr: 0.0010 - 8s/epoch - 132ms/step
Epoch 28/75
59/59 - 8s - loss: 0.4292 - accuracy: 0.8396 - val_loss: 0.7795 - val_accuracy: 0.7092 - lr: 0.0010 - 8s/epoch - 132ms/step
Epoch 29/75
59/59 - 8s - loss: 0.4297 - accuracy: 0.8394 - val_loss: 0.7893 - val_accuracy: 0.7086 - lr: 0.0010 - 8s/epoch - 133ms/step
Epoch 30/75
59/59 - 8s - loss: 0.4277 - accuracy: 0.8407 - val_loss: 0.8019 - val_accuracy: 0.7027 - lr: 0.0010 - 8s/epoch - 133ms/step
Epoch 31/75
59/59 - 8s - loss: 0.4264 - accuracy: 0.8412 - val_loss: 0.7936 - val_accuracy: 0.7082 - lr: 0.0010 - 8s/epoch - 133ms/step
Epoch 32/75
59/59 - 8s - loss: 0.4253 - accuracy: 0.8413 - val_loss: 0.7997 - val_accuracy: 0.6994 - lr: 0.0010 - 8s/epoch - 133ms/step
Epoch 33/75
59/59 - 8s - loss: 0.4251 - accuracy: 0.8407 - val_loss: 0.7888 - val_accuracy: 0.7062 - lr: 0.0010 - 8s/epoch - 133ms/step
Epoch 34/75
59/59 - 8s - loss: 0.4271 - accuracy: 0.8408 - val_loss: 0.7713 - val_accuracy: 0.7160 - lr: 0.0010 - 8s/epoch - 132ms/step
Epoch 35/75
59/59 - 8s - loss: 0.4247 - accuracy: 0.8422 - val_loss: 0.7837 - val_accuracy: 0.7125 - lr: 0.0010 - 8s/epoch - 133ms/step
Epoch 36/75
59/59 - 8s - loss: 0.4235 - accuracy: 0.8419 - val_loss: 0.8386 - val_accuracy: 0.6896 - lr: 0.0010 - 8s/epoch - 133ms/step
Epoch 37/75
59/59 - 8s - loss: 0.4248 - accuracy: 0.8420 - val_loss: 0.7766 - val_accuracy: 0.7100 - lr: 0.0010 - 8s/epoch - 133ms/step
Epoch 38/75
59/59 - 8s - loss: 0.4248 - accuracy: 0.8415 - val_loss: 0.7876 - val_accuracy: 0.7048 - lr: 0.0010 - 8s/epoch - 132ms/step
Epoch 39/75
59/59 - 8s - loss: 0.4215 - accuracy: 0.8431 - val_loss: 0.7763 - val_accuracy: 0.7125 - lr: 0.0010 - 8s/epoch - 133ms/step
Epoch 40/75
59/59 - 8s - loss: 0.4207 - accuracy: 0.8435 - val_loss: 0.8066 - val_accuracy: 0.7022 - lr: 0.0010 - 8s/epoch - 133ms/step
Epoch 41/75
59/59 - 8s - loss: 0.4238 - accuracy: 0.8410 - val_loss: 0.7818 - val_accuracy: 0.7128 - lr: 0.0010 - 8s/epoch - 133ms/step
Epoch 42/75
59/59 - 8s - loss: 0.4235 - accuracy: 0.8419 - val_loss: 0.8343 - val_accuracy: 0.6910 - lr: 0.0010 - 8s/epoch - 132ms/step
Epoch 43/75
59/59 - 8s - loss: 0.4228 - accuracy: 0.8422 - val_loss: 0.8414 - val_accuracy: 0.6861 - lr: 0.0010 - 8s/epoch - 133ms/step
Epoch 44/75
59/59 - 8s - loss: 0.4267 - accuracy: 0.8406 - val_loss: 0.8105 - val_accuracy: 0.7027 - lr: 0.0010 - 8s/epoch - 133ms/step
Epoch 45/75
59/59 - 8s - loss: 0.4229 - accuracy: 0.8423 - val_loss: 0.8251 - val_accuracy: 0.6950 - lr: 0.0010 - 8s/epoch - 133ms/step
Epoch 46/75
59/59 - 8s - loss: 0.4197 - accuracy: 0.8426 - val_loss: 0.8294 - val_accuracy: 0.6930 - lr: 0.0010 - 8s/epoch - 133ms/step
Epoch 47/75
59/59 - 8s - loss: 0.4223 - accuracy: 0.8427 - val_loss: 0.8220 - val_accuracy: 0.7001 - lr: 0.0010 - 8s/epoch - 133ms/step
Epoch 48/75
59/59 - 8s - loss: 0.4215 - accuracy: 0.8438 - val_loss: 0.7919 - val_accuracy: 0.7104 - lr: 0.0010 - 8s/epoch - 133ms/step
Epoch 49/75
59/59 - 8s - loss: 0.4186 - accuracy: 0.8446 - val_loss: 0.8036 - val_accuracy: 0.7014 - lr: 0.0010 - 8s/epoch - 133ms/step
Epoch 50/75
59/59 - 8s - loss: 0.4210 - accuracy: 0.8434 - val_loss: 0.8026 - val_accuracy: 0.7068 - lr: 0.0010 - 8s/epoch - 133ms/step
Epoch 51/75
59/59 - 8s - loss: 0.4219 - accuracy: 0.8425 - val_loss: 0.8113 - val_accuracy: 0.6940 - lr: 0.0010 - 8s/epoch - 133ms/step
Epoch 52/75
59/59 - 8s - loss: 0.4179 - accuracy: 0.8448 - val_loss: 0.7913 - val_accuracy: 0.7060 - lr: 0.0010 - 8s/epoch - 132ms/step
Epoch 53/75
59/59 - 8s - loss: 0.4178 - accuracy: 0.8449 - val_loss: 0.8072 - val_accuracy: 0.7032 - lr: 0.0010 - 8s/epoch - 133ms/step
Epoch 54/75
59/59 - 8s - loss: 0.4195 - accuracy: 0.8428 - val_loss: 0.7753 - val_accuracy: 0.7167 - lr: 0.0010 - 8s/epoch - 133ms/step
Epoch 55/75
59/59 - 8s - loss: 0.4167 - accuracy: 0.8443 - val_loss: 0.8009 - val_accuracy: 0.7009 - lr: 0.0010 - 8s/epoch - 133ms/step
Epoch 56/75
59/59 - 8s - loss: 0.4190 - accuracy: 0.8443 - val_loss: 0.8191 - val_accuracy: 0.7003 - lr: 0.0010 - 8s/epoch - 133ms/step
Epoch 57/75
59/59 - 8s - loss: 0.4190 - accuracy: 0.8438 - val_loss: 0.8138 - val_accuracy: 0.6991 - lr: 0.0010 - 8s/epoch - 132ms/step
Epoch 58/75
59/59 - 8s - loss: 0.4181 - accuracy: 0.8445 - val_loss: 0.7977 - val_accuracy: 0.7055 - lr: 0.0010 - 8s/epoch - 132ms/step
Epoch 59/75
59/59 - 8s - loss: 0.4197 - accuracy: 0.8434 - val_loss: 0.7725 - val_accuracy: 0.7158 - lr: 0.0010 - 8s/epoch - 132ms/step
Epoch 60/75
59/59 - 8s - loss: 0.4174 - accuracy: 0.8434 - val_loss: 0.8025 - val_accuracy: 0.7087 - lr: 0.0010 - 8s/epoch - 133ms/step
Epoch 61/75
59/59 - 8s - loss: 0.4156 - accuracy: 0.8452 - val_loss: 0.7941 - val_accuracy: 0.6994 - lr: 0.0010 - 8s/epoch - 133ms/step
Epoch 62/75
59/59 - 8s - loss: 0.4174 - accuracy: 0.8446 - val_loss: 0.7696 - val_accuracy: 0.7169 - lr: 0.0010 - 8s/epoch - 133ms/step
Epoch 63/75
59/59 - 8s - loss: 0.4183 - accuracy: 0.8437 - val_loss: 0.7889 - val_accuracy: 0.7077 - lr: 0.0010 - 8s/epoch - 132ms/step
Epoch 64/75
59/59 - 8s - loss: 0.4177 - accuracy: 0.8445 - val_loss: 0.8413 - val_accuracy: 0.6872 - lr: 0.0010 - 8s/epoch - 132ms/step
Epoch 65/75
59/59 - 8s - loss: 0.4170 - accuracy: 0.8439 - val_loss: 0.8396 - val_accuracy: 0.6948 - lr: 0.0010 - 8s/epoch - 133ms/step
Epoch 66/75
59/59 - 8s - loss: 0.4161 - accuracy: 0.8453 - val_loss: 0.8029 - val_accuracy: 0.7012 - lr: 0.0010 - 8s/epoch - 132ms/step
Epoch 67/75
59/59 - 8s - loss: 0.4163 - accuracy: 0.8447 - val_loss: 0.8013 - val_accuracy: 0.7056 - lr: 0.0010 - 8s/epoch - 132ms/step
Epoch 68/75
59/59 - 8s - loss: 0.4171 - accuracy: 0.8443 - val_loss: 0.8054 - val_accuracy: 0.7043 - lr: 0.0010 - 8s/epoch - 132ms/step
Epoch 69/75
59/59 - 8s - loss: 0.4165 - accuracy: 0.8448 - val_loss: 0.7896 - val_accuracy: 0.7029 - lr: 0.0010 - 8s/epoch - 133ms/step
Epoch 70/75
59/59 - 8s - loss: 0.4149 - accuracy: 0.8457 - val_loss: 0.7801 - val_accuracy: 0.7096 - lr: 0.0010 - 8s/epoch - 132ms/step
Epoch 71/75
59/59 - 8s - loss: 0.4164 - accuracy: 0.8459 - val_loss: 0.7746 - val_accuracy: 0.7146 - lr: 0.0010 - 8s/epoch - 132ms/step
Epoch 72/75
59/59 - 8s - loss: 0.4149 - accuracy: 0.8445 - val_loss: 0.7933 - val_accuracy: 0.7091 - lr: 0.0010 - 8s/epoch - 132ms/step
Epoch 73/75
59/59 - 8s - loss: 0.4119 - accuracy: 0.8464 - val_loss: 0.8026 - val_accuracy: 0.6986 - lr: 0.0010 - 8s/epoch - 132ms/step
Epoch 74/75
59/59 - 8s - loss: 0.4151 - accuracy: 0.8463 - val_loss: 0.8534 - val_accuracy: 0.6801 - lr: 0.0010 - 8s/epoch - 133ms/step
Epoch 75/75
59/59 - 8s - loss: 0.4151 - accuracy: 0.8448 - val_loss: 0.8379 - val_accuracy: 0.6925 - lr: 0.0010 - 8s/epoch - 132ms/step
fitting with batch size: 2500
Epoch 1/75
36/36 - 11s - loss: 0.4070 - accuracy: 0.8494 - val_loss: 0.8115 - val_accuracy: 0.7031 - lr: 0.0010 - 11s/epoch - 300ms/step
Epoch 2/75
36/36 - 8s - loss: 0.4105 - accuracy: 0.8475 - val_loss: 0.8063 - val_accuracy: 0.6992 - lr: 0.0010 - 8s/epoch - 208ms/step
Epoch 3/75
36/36 - 8s - loss: 0.4087 - accuracy: 0.8479 - val_loss: 0.8126 - val_accuracy: 0.6983 - lr: 0.0010 - 8s/epoch - 209ms/step
Epoch 4/75
36/36 - 8s - loss: 0.4126 - accuracy: 0.8469 - val_loss: 0.8134 - val_accuracy: 0.7014 - lr: 0.0010 - 8s/epoch - 208ms/step
Epoch 5/75
36/36 - 8s - loss: 0.4086 - accuracy: 0.8484 - val_loss: 0.8045 - val_accuracy: 0.7050 - lr: 0.0010 - 8s/epoch - 209ms/step
Epoch 6/75
36/36 - 8s - loss: 0.4099 - accuracy: 0.8475 - val_loss: 0.7959 - val_accuracy: 0.7035 - lr: 0.0010 - 8s/epoch - 208ms/step
Epoch 7/75
36/36 - 7s - loss: 0.4065 - accuracy: 0.8489 - val_loss: 0.8237 - val_accuracy: 0.6917 - lr: 0.0010 - 7s/epoch - 208ms/step
Epoch 8/75
36/36 - 8s - loss: 0.4148 - accuracy: 0.8455 - val_loss: 0.8161 - val_accuracy: 0.6985 - lr: 0.0010 - 8s/epoch - 208ms/step
Epoch 9/75
36/36 - 8s - loss: 0.4352 - accuracy: 0.8373 - val_loss: 0.8525 - val_accuracy: 0.6863 - lr: 0.0010 - 8s/epoch - 209ms/step
Epoch 10/75
36/36 - 8s - loss: 0.4125 - accuracy: 0.8455 - val_loss: 0.8199 - val_accuracy: 0.6941 - lr: 0.0010 - 8s/epoch - 208ms/step
Epoch 11/75
36/36 - 8s - loss: 0.4128 - accuracy: 0.8460 - val_loss: 0.8128 - val_accuracy: 0.6995 - lr: 0.0010 - 8s/epoch - 208ms/step
Epoch 12/75
36/36 - 8s - loss: 0.4142 - accuracy: 0.8461 - val_loss: 0.8002 - val_accuracy: 0.7014 - lr: 0.0010 - 8s/epoch - 208ms/step
Epoch 13/75
36/36 - 8s - loss: 0.4133 - accuracy: 0.8454 - val_loss: 0.8117 - val_accuracy: 0.7025 - lr: 0.0010 - 8s/epoch - 208ms/step
Epoch 14/75
36/36 - 8s - loss: 0.4106 - accuracy: 0.8468 - val_loss: 0.8279 - val_accuracy: 0.6951 - lr: 0.0010 - 8s/epoch - 209ms/step
Epoch 15/75
36/36 - 8s - loss: 0.4038 - accuracy: 0.8505 - val_loss: 0.8148 - val_accuracy: 0.6981 - lr: 0.0010 - 8s/epoch - 208ms/step
Epoch 16/75
36/36 - 8s - loss: 0.4077 - accuracy: 0.8483 - val_loss: 0.8226 - val_accuracy: 0.6979 - lr: 0.0010 - 8s/epoch - 209ms/step
Epoch 17/75
36/36 - 8s - loss: 0.4073 - accuracy: 0.8487 - val_loss: 0.7898 - val_accuracy: 0.7136 - lr: 0.0010 - 8s/epoch - 208ms/step
Epoch 18/75
36/36 - 8s - loss: 0.4065 - accuracy: 0.8486 - val_loss: 0.8268 - val_accuracy: 0.6908 - lr: 0.0010 - 8s/epoch - 208ms/step
Epoch 19/75
36/36 - 8s - loss: 0.4164 - accuracy: 0.8458 - val_loss: 0.8105 - val_accuracy: 0.6961 - lr: 0.0010 - 8s/epoch - 208ms/step
Epoch 20/75
36/36 - 8s - loss: 0.4098 - accuracy: 0.8474 - val_loss: 0.8089 - val_accuracy: 0.6999 - lr: 0.0010 - 8s/epoch - 209ms/step
Epoch 21/75
36/36 - 7s - loss: 0.4173 - accuracy: 0.8442 - val_loss: 0.8267 - val_accuracy: 0.6936 - lr: 0.0010 - 7s/epoch - 208ms/step
Epoch 22/75
36/36 - 7s - loss: 0.4116 - accuracy: 0.8474 - val_loss: 0.8247 - val_accuracy: 0.6978 - lr: 0.0010 - 7s/epoch - 208ms/step
Epoch 23/75
36/36 - 8s - loss: 0.4095 - accuracy: 0.8473 - val_loss: 0.8002 - val_accuracy: 0.7029 - lr: 0.0010 - 8s/epoch - 208ms/step
Epoch 24/75
36/36 - 8s - loss: 0.4088 - accuracy: 0.8475 - val_loss: 0.7875 - val_accuracy: 0.7061 - lr: 0.0010 - 8s/epoch - 208ms/step
Epoch 25/75
36/36 - 8s - loss: 0.4143 - accuracy: 0.8460 - val_loss: 0.8079 - val_accuracy: 0.6976 - lr: 0.0010 - 8s/epoch - 208ms/step
Epoch 26/75
36/36 - 8s - loss: 0.4115 - accuracy: 0.8468 - val_loss: 0.8104 - val_accuracy: 0.6967 - lr: 0.0010 - 8s/epoch - 208ms/step
Epoch 27/75
36/36 - 8s - loss: 0.4311 - accuracy: 0.8388 - val_loss: 0.8155 - val_accuracy: 0.6973 - lr: 0.0010 - 8s/epoch - 209ms/step
Epoch 28/75
36/36 - 8s - loss: 0.4159 - accuracy: 0.8448 - val_loss: 0.8170 - val_accuracy: 0.7010 - lr: 0.0010 - 8s/epoch - 208ms/step
Epoch 29/75
36/36 - 8s - loss: 0.4015 - accuracy: 0.8507 - val_loss: 0.8252 - val_accuracy: 0.6955 - lr: 0.0010 - 8s/epoch - 208ms/step
Epoch 30/75
36/36 - 8s - loss: 0.4163 - accuracy: 0.8451 - val_loss: 0.8150 - val_accuracy: 0.6987 - lr: 0.0010 - 8s/epoch - 208ms/step
Epoch 31/75
36/36 - 8s - loss: 0.4095 - accuracy: 0.8480 - val_loss: 0.8217 - val_accuracy: 0.6969 - lr: 0.0010 - 8s/epoch - 209ms/step
Epoch 32/75
36/36 - 8s - loss: 0.4085 - accuracy: 0.8474 - val_loss: 0.7990 - val_accuracy: 0.7049 - lr: 0.0010 - 8s/epoch - 208ms/step
Epoch 33/75
36/36 - 8s - loss: 0.4051 - accuracy: 0.8492 - val_loss: 0.7923 - val_accuracy: 0.7089 - lr: 0.0010 - 8s/epoch - 208ms/step
Epoch 34/75
36/36 - 8s - loss: 0.4096 - accuracy: 0.8472 - val_loss: 0.8094 - val_accuracy: 0.7014 - lr: 0.0010 - 8s/epoch - 208ms/step
Epoch 35/75
36/36 - 8s - loss: 0.4025 - accuracy: 0.8513 - val_loss: 0.8167 - val_accuracy: 0.6992 - lr: 0.0010 - 8s/epoch - 209ms/step
Epoch 36/75
36/36 - 8s - loss: 0.4071 - accuracy: 0.8484 - val_loss: 0.7902 - val_accuracy: 0.7111 - lr: 0.0010 - 8s/epoch - 209ms/step
Epoch 37/75
36/36 - 8s - loss: 0.4085 - accuracy: 0.8489 - val_loss: 0.7842 - val_accuracy: 0.7135 - lr: 0.0010 - 8s/epoch - 208ms/step
Epoch 38/75
36/36 - 8s - loss: 0.4093 - accuracy: 0.8478 - val_loss: 0.7885 - val_accuracy: 0.7089 - lr: 0.0010 - 8s/epoch - 208ms/step
Epoch 39/75
36/36 - 7s - loss: 0.4079 - accuracy: 0.8475 - val_loss: 0.8110 - val_accuracy: 0.6986 - lr: 0.0010 - 7s/epoch - 208ms/step
Epoch 40/75
36/36 - 8s - loss: 0.4060 - accuracy: 0.8485 - val_loss: 0.7936 - val_accuracy: 0.7069 - lr: 0.0010 - 8s/epoch - 208ms/step
Epoch 41/75
36/36 - 8s - loss: 0.4169 - accuracy: 0.8442 - val_loss: 0.8237 - val_accuracy: 0.6922 - lr: 0.0010 - 8s/epoch - 209ms/step
Epoch 42/75
36/36 - 7s - loss: 0.4055 - accuracy: 0.8493 - val_loss: 0.7948 - val_accuracy: 0.7025 - lr: 0.0010 - 7s/epoch - 208ms/step
Epoch 43/75
36/36 - 7s - loss: 0.4063 - accuracy: 0.8483 - val_loss: 0.8038 - val_accuracy: 0.7074 - lr: 0.0010 - 7s/epoch - 208ms/step
Epoch 44/75
36/36 - 8s - loss: 0.4089 - accuracy: 0.8480 - val_loss: 0.8176 - val_accuracy: 0.6959 - lr: 0.0010 - 8s/epoch - 208ms/step
Epoch 45/75
36/36 - 7s - loss: 0.4033 - accuracy: 0.8504 - val_loss: 0.8275 - val_accuracy: 0.6922 - lr: 0.0010 - 7s/epoch - 208ms/step
Epoch 46/75
36/36 - 8s - loss: 0.4091 - accuracy: 0.8480 - val_loss: 0.8220 - val_accuracy: 0.6962 - lr: 0.0010 - 8s/epoch - 209ms/step
Epoch 47/75
36/36 - 8s - loss: 0.4039 - accuracy: 0.8494 - val_loss: 0.8044 - val_accuracy: 0.6961 - lr: 0.0010 - 8s/epoch - 208ms/step
Epoch 48/75
36/36 - 8s - loss: 0.4079 - accuracy: 0.8485 - val_loss: 0.8119 - val_accuracy: 0.7003 - lr: 0.0010 - 8s/epoch - 208ms/step
Epoch 49/75
36/36 - 8s - loss: 0.4019 - accuracy: 0.8515 - val_loss: 0.7779 - val_accuracy: 0.7125 - lr: 0.0010 - 8s/epoch - 208ms/step
Epoch 50/75
36/36 - 8s - loss: 0.4065 - accuracy: 0.8488 - val_loss: 0.8014 - val_accuracy: 0.7031 - lr: 0.0010 - 8s/epoch - 208ms/step
Epoch 51/75
36/36 - 8s - loss: 0.4027 - accuracy: 0.8506 - val_loss: 0.7925 - val_accuracy: 0.7061 - lr: 0.0010 - 8s/epoch - 208ms/step
Epoch 52/75
36/36 - 7s - loss: 0.4141 - accuracy: 0.8456 - val_loss: 0.8352 - val_accuracy: 0.6903 - lr: 0.0010 - 7s/epoch - 208ms/step
Epoch 53/75
36/36 - 8s - loss: 0.4040 - accuracy: 0.8503 - val_loss: 0.8304 - val_accuracy: 0.6901 - lr: 0.0010 - 8s/epoch - 209ms/step
Epoch 54/75
36/36 - 8s - loss: 0.4060 - accuracy: 0.8485 - val_loss: 0.8203 - val_accuracy: 0.7000 - lr: 0.0010 - 8s/epoch - 208ms/step
Epoch 55/75
36/36 - 8s - loss: 0.4023 - accuracy: 0.8507 - val_loss: 0.8040 - val_accuracy: 0.7061 - lr: 0.0010 - 8s/epoch - 208ms/step
Epoch 56/75
36/36 - 8s - loss: 0.4123 - accuracy: 0.8472 - val_loss: 0.8416 - val_accuracy: 0.6901 - lr: 0.0010 - 8s/epoch - 209ms/step
Epoch 57/75
36/36 - 8s - loss: 0.4128 - accuracy: 0.8467 - val_loss: 0.8232 - val_accuracy: 0.6930 - lr: 0.0010 - 8s/epoch - 208ms/step
Epoch 58/75
36/36 - 8s - loss: 0.4053 - accuracy: 0.8490 - val_loss: 0.8211 - val_accuracy: 0.6947 - lr: 0.0010 - 8s/epoch - 208ms/step
Epoch 59/75
36/36 - 8s - loss: 0.3975 - accuracy: 0.8529 - val_loss: 0.8470 - val_accuracy: 0.6871 - lr: 0.0010 - 8s/epoch - 208ms/step
Epoch 60/75
36/36 - 7s - loss: 0.3999 - accuracy: 0.8523 - val_loss: 0.8379 - val_accuracy: 0.6874 - lr: 0.0010 - 7s/epoch - 208ms/step
Epoch 61/75
36/36 - 8s - loss: 0.4054 - accuracy: 0.8494 - val_loss: 0.8172 - val_accuracy: 0.6975 - lr: 0.0010 - 8s/epoch - 208ms/step
Epoch 62/75
36/36 - 8s - loss: 0.4090 - accuracy: 0.8476 - val_loss: 0.8207 - val_accuracy: 0.7004 - lr: 0.0010 - 8s/epoch - 208ms/step
Epoch 63/75
36/36 - 8s - loss: 0.4021 - accuracy: 0.8513 - val_loss: 0.8629 - val_accuracy: 0.6833 - lr: 0.0010 - 8s/epoch - 208ms/step
Epoch 64/75
36/36 - 8s - loss: 0.4064 - accuracy: 0.8484 - val_loss: 0.7704 - val_accuracy: 0.7159 - lr: 0.0010 - 8s/epoch - 208ms/step
Epoch 65/75
36/36 - 7s - loss: 0.4167 - accuracy: 0.8444 - val_loss: 0.8266 - val_accuracy: 0.6924 - lr: 0.0010 - 7s/epoch - 208ms/step
Epoch 66/75
36/36 - 8s - loss: 0.4055 - accuracy: 0.8505 - val_loss: 0.8389 - val_accuracy: 0.6935 - lr: 0.0010 - 8s/epoch - 209ms/step
Epoch 67/75
36/36 - 7s - loss: 0.4007 - accuracy: 0.8512 - val_loss: 0.8142 - val_accuracy: 0.7035 - lr: 0.0010 - 7s/epoch - 208ms/step
Epoch 68/75
36/36 - 8s - loss: 0.4037 - accuracy: 0.8492 - val_loss: 0.8499 - val_accuracy: 0.6880 - lr: 0.0010 - 8s/epoch - 208ms/step
Epoch 69/75
36/36 - 8s - loss: 0.4314 - accuracy: 0.8376 - val_loss: 0.8145 - val_accuracy: 0.7012 - lr: 0.0010 - 8s/epoch - 209ms/step
Epoch 70/75
36/36 - 8s - loss: 0.4018 - accuracy: 0.8518 - val_loss: 0.7848 - val_accuracy: 0.7119 - lr: 0.0010 - 8s/epoch - 208ms/step
Epoch 71/75
36/36 - 8s - loss: 0.4039 - accuracy: 0.8497 - val_loss: 0.8271 - val_accuracy: 0.6968 - lr: 0.0010 - 8s/epoch - 209ms/step
Epoch 72/75
36/36 - 8s - loss: 0.4077 - accuracy: 0.8472 - val_loss: 0.8311 - val_accuracy: 0.6967 - lr: 0.0010 - 8s/epoch - 208ms/step
Epoch 73/75
36/36 - 8s - loss: 0.4100 - accuracy: 0.8473 - val_loss: 0.8048 - val_accuracy: 0.6997 - lr: 0.0010 - 8s/epoch - 208ms/step
Epoch 74/75
36/36 - 8s - loss: 0.4236 - accuracy: 0.8417 - val_loss: 0.7736 - val_accuracy: 0.7160 - lr: 0.0010 - 8s/epoch - 208ms/step
Epoch 75/75
36/36 - 7s - loss: 0.4101 - accuracy: 0.8474 - val_loss: 0.8053 - val_accuracy: 0.7077 - lr: 0.0010 - 7s/epoch - 208ms/step
