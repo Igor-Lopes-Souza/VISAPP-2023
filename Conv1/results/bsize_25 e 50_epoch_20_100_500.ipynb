Loss: categorical_crossentropy
Epoch number: 25
fitting with batch size: 20
Epoch 1/25
4378/4378 - 94s - loss: 0.7166 - accuracy: 0.7370 - val_loss: 0.7680 - val_accuracy: 0.7394 - lr: 0.0010 - 94s/epoch - 21ms/step
Epoch 2/25
4378/4378 - 86s - loss: 0.7093 - accuracy: 0.7379 - val_loss: 0.6892 - val_accuracy: 0.7418 - lr: 0.0010 - 86s/epoch - 20ms/step
Epoch 3/25
4378/4378 - 83s - loss: 0.7078 - accuracy: 0.7391 - val_loss: 0.8817 - val_accuracy: 0.6823 - lr: 0.0010 - 83s/epoch - 19ms/step
Epoch 4/25
4378/4378 - 89s - loss: 0.7034 - accuracy: 0.7404 - val_loss: 0.8662 - val_accuracy: 0.6845 - lr: 0.0010 - 89s/epoch - 20ms/step
Epoch 5/25
4378/4378 - 88s - loss: 0.7018 - accuracy: 0.7413 - val_loss: 0.8031 - val_accuracy: 0.7278 - lr: 0.0010 - 88s/epoch - 20ms/step
Epoch 6/25
4378/4378 - 89s - loss: 0.6992 - accuracy: 0.7413 - val_loss: 0.7990 - val_accuracy: 0.7414 - lr: 0.0010 - 89s/epoch - 20ms/step
Epoch 7/25
4378/4378 - 89s - loss: 0.8313 - accuracy: 0.7341 - val_loss: 0.8049 - val_accuracy: 0.6994 - lr: 0.0010 - 89s/epoch - 20ms/step
Epoch 8/25
4378/4378 - 94s - loss: 0.7050 - accuracy: 0.7406 - val_loss: 0.9410 - val_accuracy: 0.6722 - lr: 0.0010 - 94s/epoch - 21ms/step
Epoch 9/25
4378/4378 - 87s - loss: 0.7080 - accuracy: 0.7393 - val_loss: 0.7905 - val_accuracy: 0.7129 - lr: 0.0010 - 87s/epoch - 20ms/step
Epoch 10/25
4378/4378 - 91s - loss: 0.7014 - accuracy: 0.7405 - val_loss: 0.6959 - val_accuracy: 0.7627 - lr: 0.0010 - 91s/epoch - 21ms/step
Epoch 11/25
4378/4378 - 85s - loss: 0.7109 - accuracy: 0.7399 - val_loss: 0.7613 - val_accuracy: 0.7176 - lr: 0.0010 - 85s/epoch - 19ms/step
Epoch 12/25
4378/4378 - 89s - loss: 0.7137 - accuracy: 0.7380 - val_loss: 0.7430 - val_accuracy: 0.7518 - lr: 0.0010 - 89s/epoch - 20ms/step
Epoch 13/25
4378/4378 - 89s - loss: 0.7314 - accuracy: 0.7351 - val_loss: 0.6756 - val_accuracy: 0.7854 - lr: 0.0010 - 89s/epoch - 20ms/step
Epoch 14/25
4378/4378 - 89s - loss: 1.4689 - accuracy: 0.7217 - val_loss: 0.7869 - val_accuracy: 0.7331 - lr: 0.0010 - 89s/epoch - 20ms/step
Epoch 15/25
4378/4378 - 90s - loss: 0.7034 - accuracy: 0.7407 - val_loss: 0.6771 - val_accuracy: 0.7722 - lr: 0.0010 - 90s/epoch - 21ms/step
Epoch 16/25
4378/4378 - 92s - loss: 0.8226 - accuracy: 0.7391 - val_loss: 0.7148 - val_accuracy: 0.7548 - lr: 0.0010 - 92s/epoch - 21ms/step
Epoch 17/25
4378/4378 - 91s - loss: 0.7018 - accuracy: 0.7427 - val_loss: 0.7126 - val_accuracy: 0.7272 - lr: 0.0010 - 91s/epoch - 21ms/step
Epoch 18/25
4378/4378 - 93s - loss: 0.7121 - accuracy: 0.7384 - val_loss: 0.8304 - val_accuracy: 0.7497 - lr: 0.0010 - 93s/epoch - 21ms/step
Epoch 19/25
4378/4378 - 92s - loss: 0.7306 - accuracy: 0.7308 - val_loss: 0.6555 - val_accuracy: 0.7812 - lr: 0.0010 - 92s/epoch - 21ms/step
Epoch 20/25
4378/4378 - 87s - loss: 0.7088 - accuracy: 0.7386 - val_loss: 0.7941 - val_accuracy: 0.7407 - lr: 0.0010 - 87s/epoch - 20ms/step
Epoch 21/25
4378/4378 - 90s - loss: 0.7102 - accuracy: 0.7399 - val_loss: 0.7458 - val_accuracy: 0.7151 - lr: 0.0010 - 90s/epoch - 21ms/step
Epoch 22/25
4378/4378 - 92s - loss: 0.7226 - accuracy: 0.7393 - val_loss: 0.6797 - val_accuracy: 0.7574 - lr: 0.0010 - 92s/epoch - 21ms/step
Epoch 23/25
4378/4378 - 89s - loss: 0.7177 - accuracy: 0.7403 - val_loss: 0.9165 - val_accuracy: 0.6558 - lr: 0.0010 - 89s/epoch - 20ms/step
Epoch 24/25
4378/4378 - 94s - loss: 0.7430 - accuracy: 0.7393 - val_loss: 0.7446 - val_accuracy: 0.7083 - lr: 0.0010 - 94s/epoch - 21ms/step
Epoch 25/25
4378/4378 - 92s - loss: 0.7077 - accuracy: 0.7402 - val_loss: 0.5905 - val_accuracy: 0.7924 - lr: 0.0010 - 92s/epoch - 21ms/step
fitting with batch size: 100
Epoch 1/25
876/876 - 30s - loss: 0.6355 - accuracy: 0.7642 - val_loss: 0.7079 - val_accuracy: 0.7373 - lr: 0.0010 - 30s/epoch - 34ms/step
Epoch 2/25
876/876 - 26s - loss: 0.6245 - accuracy: 0.7674 - val_loss: 0.7360 - val_accuracy: 0.7432 - lr: 0.0010 - 26s/epoch - 30ms/step
Epoch 3/25
876/876 - 27s - loss: 0.6216 - accuracy: 0.7691 - val_loss: 0.6307 - val_accuracy: 0.7978 - lr: 0.0010 - 27s/epoch - 31ms/step
Epoch 4/25
876/876 - 27s - loss: 0.6179 - accuracy: 0.7710 - val_loss: 0.7466 - val_accuracy: 0.7308 - lr: 0.0010 - 27s/epoch - 31ms/step
Epoch 5/25
876/876 - 27s - loss: 0.6096 - accuracy: 0.7734 - val_loss: 0.6113 - val_accuracy: 0.7814 - lr: 0.0010 - 27s/epoch - 31ms/step
Epoch 6/25
876/876 - 27s - loss: 0.6067 - accuracy: 0.7740 - val_loss: 0.6981 - val_accuracy: 0.7466 - lr: 0.0010 - 27s/epoch - 31ms/step
Epoch 7/25
876/876 - 28s - loss: 0.6055 - accuracy: 0.7746 - val_loss: 0.7412 - val_accuracy: 0.7351 - lr: 0.0010 - 28s/epoch - 31ms/step
Epoch 8/25
876/876 - 27s - loss: 0.6102 - accuracy: 0.7746 - val_loss: 0.6277 - val_accuracy: 0.7773 - lr: 0.0010 - 27s/epoch - 31ms/step
Epoch 9/25
876/876 - 27s - loss: 0.5990 - accuracy: 0.7765 - val_loss: 0.6923 - val_accuracy: 0.7553 - lr: 0.0010 - 27s/epoch - 31ms/step
Epoch 10/25
876/876 - 28s - loss: 0.5956 - accuracy: 0.7784 - val_loss: 0.6634 - val_accuracy: 0.7473 - lr: 0.0010 - 28s/epoch - 32ms/step
Epoch 11/25
876/876 - 28s - loss: 0.5966 - accuracy: 0.7773 - val_loss: 0.6947 - val_accuracy: 0.7453 - lr: 0.0010 - 28s/epoch - 31ms/step
Epoch 12/25
876/876 - 26s - loss: 0.5902 - accuracy: 0.7800 - val_loss: 0.7062 - val_accuracy: 0.7296 - lr: 0.0010 - 26s/epoch - 30ms/step
Epoch 13/25
876/876 - 24s - loss: 0.5860 - accuracy: 0.7807 - val_loss: 0.6634 - val_accuracy: 0.7599 - lr: 0.0010 - 24s/epoch - 27ms/step
Epoch 14/25
876/876 - 27s - loss: 0.5884 - accuracy: 0.7804 - val_loss: 0.6883 - val_accuracy: 0.7486 - lr: 0.0010 - 27s/epoch - 31ms/step
Epoch 15/25
876/876 - 27s - loss: 0.5843 - accuracy: 0.7811 - val_loss: 0.6895 - val_accuracy: 0.7450 - lr: 0.0010 - 27s/epoch - 31ms/step
Epoch 16/25
876/876 - 28s - loss: 0.5840 - accuracy: 0.7803 - val_loss: 0.6975 - val_accuracy: 0.7463 - lr: 0.0010 - 28s/epoch - 32ms/step
Epoch 17/25
876/876 - 28s - loss: 0.5908 - accuracy: 0.7805 - val_loss: 0.6667 - val_accuracy: 0.7793 - lr: 0.0010 - 28s/epoch - 32ms/step
Epoch 18/25
876/876 - 28s - loss: 0.5805 - accuracy: 0.7832 - val_loss: 0.6435 - val_accuracy: 0.7742 - lr: 0.0010 - 28s/epoch - 32ms/step
Epoch 19/25
876/876 - 27s - loss: 0.5761 - accuracy: 0.7845 - val_loss: 0.7149 - val_accuracy: 0.7188 - lr: 0.0010 - 27s/epoch - 31ms/step
Epoch 20/25
876/876 - 28s - loss: 0.5762 - accuracy: 0.7856 - val_loss: 0.7682 - val_accuracy: 0.7166 - lr: 0.0010 - 28s/epoch - 32ms/step
Epoch 21/25
876/876 - 28s - loss: 0.5789 - accuracy: 0.7841 - val_loss: 0.7237 - val_accuracy: 0.7383 - lr: 0.0010 - 28s/epoch - 32ms/step
Epoch 22/25
876/876 - 27s - loss: 0.5785 - accuracy: 0.7851 - val_loss: 0.7001 - val_accuracy: 0.7532 - lr: 0.0010 - 27s/epoch - 31ms/step
Epoch 23/25
876/876 - 25s - loss: 0.6321 - accuracy: 0.7852 - val_loss: 0.7286 - val_accuracy: 0.7352 - lr: 0.0010 - 25s/epoch - 28ms/step
Epoch 24/25
876/876 - 25s - loss: 0.5712 - accuracy: 0.7865 - val_loss: 0.6233 - val_accuracy: 0.7882 - lr: 0.0010 - 25s/epoch - 28ms/step
Epoch 25/25
876/876 - 25s - loss: 0.5730 - accuracy: 0.7864 - val_loss: 0.5924 - val_accuracy: 0.8027 - lr: 0.0010 - 25s/epoch - 29ms/step
fitting with batch size: 500
Epoch 1/25
176/176 - 17s - loss: 0.5330 - accuracy: 0.7990 - val_loss: 0.6710 - val_accuracy: 0.7527 - lr: 0.0010 - 17s/epoch - 94ms/step
Epoch 2/25
176/176 - 14s - loss: 0.5269 - accuracy: 0.8018 - val_loss: 0.6810 - val_accuracy: 0.7416 - lr: 0.0010 - 14s/epoch - 78ms/step
Epoch 3/25
176/176 - 15s - loss: 0.5258 - accuracy: 0.8033 - val_loss: 0.7020 - val_accuracy: 0.7275 - lr: 0.0010 - 15s/epoch - 84ms/step
Epoch 4/25
176/176 - 15s - loss: 0.5255 - accuracy: 0.8023 - val_loss: 0.6607 - val_accuracy: 0.7562 - lr: 0.0010 - 15s/epoch - 84ms/step
Epoch 5/25
176/176 - 15s - loss: 0.5228 - accuracy: 0.8043 - val_loss: 0.6466 - val_accuracy: 0.7576 - lr: 0.0010 - 15s/epoch - 83ms/step
Epoch 6/25
176/176 - 14s - loss: 0.5193 - accuracy: 0.8058 - val_loss: 0.6922 - val_accuracy: 0.7414 - lr: 0.0010 - 14s/epoch - 82ms/step
Epoch 7/25
176/176 - 13s - loss: 0.5195 - accuracy: 0.8062 - val_loss: 0.6793 - val_accuracy: 0.7452 - lr: 0.0010 - 13s/epoch - 75ms/step
Epoch 8/25
176/176 - 13s - loss: 0.5175 - accuracy: 0.8072 - val_loss: 0.6523 - val_accuracy: 0.7578 - lr: 0.0010 - 13s/epoch - 76ms/step
Epoch 9/25
176/176 - 14s - loss: 0.5142 - accuracy: 0.8077 - val_loss: 0.6759 - val_accuracy: 0.7447 - lr: 0.0010 - 14s/epoch - 81ms/step
Epoch 10/25
176/176 - 15s - loss: 0.5154 - accuracy: 0.8066 - val_loss: 0.6681 - val_accuracy: 0.7513 - lr: 0.0010 - 15s/epoch - 84ms/step
Epoch 11/25
176/176 - 14s - loss: 0.5104 - accuracy: 0.8089 - val_loss: 0.6862 - val_accuracy: 0.7436 - lr: 0.0010 - 14s/epoch - 80ms/step
Epoch 12/25
176/176 - 15s - loss: 0.5117 - accuracy: 0.8082 - val_loss: 0.6845 - val_accuracy: 0.7483 - lr: 0.0010 - 15s/epoch - 84ms/step
Epoch 13/25
176/176 - 15s - loss: 0.5099 - accuracy: 0.8089 - val_loss: 0.6677 - val_accuracy: 0.7525 - lr: 0.0010 - 15s/epoch - 88ms/step
Epoch 14/25
176/176 - 15s - loss: 0.5163 - accuracy: 0.8068 - val_loss: 0.6821 - val_accuracy: 0.7388 - lr: 0.0010 - 15s/epoch - 87ms/step
Epoch 15/25
176/176 - 11s - loss: 0.5071 - accuracy: 0.8111 - val_loss: 0.7293 - val_accuracy: 0.7192 - lr: 0.0010 - 11s/epoch - 60ms/step
Epoch 16/25
176/176 - 11s - loss: 0.5068 - accuracy: 0.8108 - val_loss: 0.7233 - val_accuracy: 0.7173 - lr: 0.0010 - 11s/epoch - 60ms/step
Epoch 17/25
176/176 - 11s - loss: 0.5053 - accuracy: 0.8121 - val_loss: 0.6479 - val_accuracy: 0.7700 - lr: 0.0010 - 11s/epoch - 60ms/step
Epoch 18/25
176/176 - 15s - loss: 0.5030 - accuracy: 0.8118 - val_loss: 0.6728 - val_accuracy: 0.7547 - lr: 0.0010 - 15s/epoch - 85ms/step
Epoch 19/25
176/176 - 15s - loss: 0.5034 - accuracy: 0.8115 - val_loss: 0.7078 - val_accuracy: 0.7280 - lr: 0.0010 - 15s/epoch - 85ms/step
Epoch 20/25
176/176 - 14s - loss: 0.5004 - accuracy: 0.8132 - val_loss: 0.6360 - val_accuracy: 0.7686 - lr: 0.0010 - 14s/epoch - 80ms/step
Epoch 21/25
176/176 - 15s - loss: 0.5012 - accuracy: 0.8120 - val_loss: 0.6140 - val_accuracy: 0.7859 - lr: 0.0010 - 15s/epoch - 85ms/step
Epoch 22/25
176/176 - 16s - loss: 0.4973 - accuracy: 0.8161 - val_loss: 0.6784 - val_accuracy: 0.7547 - lr: 0.0010 - 16s/epoch - 90ms/step
Epoch 23/25
176/176 - 14s - loss: 0.4986 - accuracy: 0.8145 - val_loss: 0.6641 - val_accuracy: 0.7558 - lr: 0.0010 - 14s/epoch - 82ms/step
Epoch 24/25
176/176 - 15s - loss: 0.4999 - accuracy: 0.8137 - val_loss: 0.6973 - val_accuracy: 0.7329 - lr: 0.0010 - 15s/epoch - 84ms/step
Epoch 25/25
176/176 - 15s - loss: 0.5064 - accuracy: 0.8125 - val_loss: 0.6615 - val_accuracy: 0.7580 - lr: 0.0010 - 15s/epoch - 84ms/step
Epoch number: 50
fitting with batch size: 20
Epoch 1/50
4378/4378 - 92s - loss: 0.6606 - accuracy: 0.7550 - val_loss: 0.8256 - val_accuracy: 0.6895 - lr: 0.0010 - 92s/epoch - 21ms/step
Epoch 2/50
4378/4378 - 89s - loss: 0.6705 - accuracy: 0.7525 - val_loss: 0.7408 - val_accuracy: 0.7352 - lr: 0.0010 - 89s/epoch - 20ms/step
Epoch 3/50
4378/4378 - 90s - loss: 1.3731 - accuracy: 0.7400 - val_loss: 0.7679 - val_accuracy: 0.7478 - lr: 0.0010 - 90s/epoch - 20ms/step
Epoch 4/50
4378/4378 - 87s - loss: 0.6964 - accuracy: 0.7479 - val_loss: 0.8639 - val_accuracy: 0.6901 - lr: 0.0010 - 87s/epoch - 20ms/step
Epoch 5/50
4378/4378 - 89s - loss: 0.6897 - accuracy: 0.7456 - val_loss: 0.7636 - val_accuracy: 0.7157 - lr: 0.0010 - 89s/epoch - 20ms/step
Epoch 6/50
4378/4378 - 87s - loss: 0.6805 - accuracy: 0.7490 - val_loss: 0.8594 - val_accuracy: 0.6961 - lr: 0.0010 - 87s/epoch - 20ms/step
Epoch 7/50
4378/4378 - 87s - loss: 0.7016 - accuracy: 0.7462 - val_loss: 0.6841 - val_accuracy: 0.7635 - lr: 0.0010 - 87s/epoch - 20ms/step
Epoch 8/50
4378/4378 - 88s - loss: 0.7679 - accuracy: 0.7401 - val_loss: 0.6611 - val_accuracy: 0.7688 - lr: 0.0010 - 88s/epoch - 20ms/step
Epoch 9/50
4378/4378 - 88s - loss: 0.7109 - accuracy: 0.7414 - val_loss: 0.6844 - val_accuracy: 0.7664 - lr: 0.0010 - 88s/epoch - 20ms/step
Epoch 10/50
4378/4378 - 89s - loss: 0.6980 - accuracy: 0.7450 - val_loss: 0.6169 - val_accuracy: 0.8109 - lr: 0.0010 - 89s/epoch - 20ms/step
Epoch 11/50
4378/4378 - 86s - loss: 0.7000 - accuracy: 0.7433 - val_loss: 0.7488 - val_accuracy: 0.7537 - lr: 0.0010 - 86s/epoch - 20ms/step
Epoch 12/50
4378/4378 - 86s - loss: 0.6922 - accuracy: 0.7453 - val_loss: 0.6628 - val_accuracy: 0.7759 - lr: 0.0010 - 86s/epoch - 20ms/step
Epoch 13/50
4378/4378 - 85s - loss: 0.7153 - accuracy: 0.7438 - val_loss: 0.7981 - val_accuracy: 0.7532 - lr: 0.0010 - 85s/epoch - 19ms/step
Epoch 14/50
4378/4378 - 88s - loss: 0.6935 - accuracy: 0.7457 - val_loss: 0.6945 - val_accuracy: 0.7516 - lr: 0.0010 - 88s/epoch - 20ms/step
Epoch 15/50
4378/4378 - 89s - loss: 0.6914 - accuracy: 0.7446 - val_loss: 0.7609 - val_accuracy: 0.7341 - lr: 0.0010 - 89s/epoch - 20ms/step
Epoch 16/50
4378/4378 - 87s - loss: 0.6852 - accuracy: 0.7466 - val_loss: 0.5884 - val_accuracy: 0.8086 - lr: 0.0010 - 87s/epoch - 20ms/step
Epoch 17/50
4378/4378 - 88s - loss: 0.7502 - accuracy: 0.7453 - val_loss: 0.7506 - val_accuracy: 0.7465 - lr: 0.0010 - 88s/epoch - 20ms/step
Epoch 18/50
4378/4378 - 88s - loss: 0.7027 - accuracy: 0.7415 - val_loss: 0.7247 - val_accuracy: 0.7541 - lr: 0.0010 - 88s/epoch - 20ms/step
Epoch 19/50
4378/4378 - 88s - loss: 0.7005 - accuracy: 0.7428 - val_loss: 0.7529 - val_accuracy: 0.7249 - lr: 0.0010 - 88s/epoch - 20ms/step
Epoch 20/50
4378/4378 - 90s - loss: 0.6953 - accuracy: 0.7444 - val_loss: 0.7777 - val_accuracy: 0.7499 - lr: 0.0010 - 90s/epoch - 21ms/step
Epoch 21/50
4378/4378 - 90s - loss: 0.8380 - accuracy: 0.7430 - val_loss: 0.8249 - val_accuracy: 0.7472 - lr: 0.0010 - 90s/epoch - 21ms/step
Epoch 22/50
4378/4378 - 88s - loss: 0.7167 - accuracy: 0.7415 - val_loss: 0.7095 - val_accuracy: 0.7622 - lr: 0.0010 - 88s/epoch - 20ms/step
Epoch 23/50
4378/4378 - 88s - loss: 0.6921 - accuracy: 0.7464 - val_loss: 0.7119 - val_accuracy: 0.7542 - lr: 0.0010 - 88s/epoch - 20ms/step
Epoch 24/50
4378/4378 - 88s - loss: 0.6897 - accuracy: 0.7463 - val_loss: 0.7744 - val_accuracy: 0.7410 - lr: 0.0010 - 88s/epoch - 20ms/step
Epoch 25/50
4378/4378 - 90s - loss: 0.6916 - accuracy: 0.7460 - val_loss: 0.6720 - val_accuracy: 0.7585 - lr: 0.0010 - 90s/epoch - 21ms/step
Epoch 26/50
4378/4378 - 90s - loss: 0.7234 - accuracy: 0.7419 - val_loss: 0.6032 - val_accuracy: 0.7827 - lr: 0.0010 - 90s/epoch - 20ms/step
Epoch 27/50
4378/4378 - 88s - loss: 0.7023 - accuracy: 0.7419 - val_loss: 0.7419 - val_accuracy: 0.7458 - lr: 0.0010 - 88s/epoch - 20ms/step
Epoch 28/50
4378/4378 - 89s - loss: 0.7002 - accuracy: 0.7434 - val_loss: 0.7243 - val_accuracy: 0.7627 - lr: 0.0010 - 89s/epoch - 20ms/step
Epoch 29/50
4378/4378 - 92s - loss: 0.6996 - accuracy: 0.7422 - val_loss: 0.6513 - val_accuracy: 0.7777 - lr: 0.0010 - 92s/epoch - 21ms/step
Epoch 30/50
4378/4378 - 91s - loss: 0.7409 - accuracy: 0.7376 - val_loss: 0.6842 - val_accuracy: 0.7711 - lr: 0.0010 - 91s/epoch - 21ms/step
Epoch 31/50
4378/4378 - 92s - loss: 0.7041 - accuracy: 0.7420 - val_loss: 0.8191 - val_accuracy: 0.6946 - lr: 0.0010 - 92s/epoch - 21ms/step
Epoch 32/50
4378/4378 - 87s - loss: 0.7182 - accuracy: 0.7383 - val_loss: 0.6863 - val_accuracy: 0.8127 - lr: 0.0010 - 87s/epoch - 20ms/step
Epoch 33/50
4378/4378 - 89s - loss: 0.7030 - accuracy: 0.7425 - val_loss: 0.7361 - val_accuracy: 0.7367 - lr: 0.0010 - 89s/epoch - 20ms/step
Epoch 34/50
4378/4378 - 89s - loss: 0.7221 - accuracy: 0.7385 - val_loss: 0.8362 - val_accuracy: 0.7182 - lr: 0.0010 - 89s/epoch - 20ms/step
Epoch 35/50
4378/4378 - 89s - loss: 0.6994 - accuracy: 0.7428 - val_loss: 0.9195 - val_accuracy: 0.6547 - lr: 0.0010 - 89s/epoch - 20ms/step
Epoch 36/50
4378/4378 - 92s - loss: 0.7069 - accuracy: 0.7412 - val_loss: 0.8996 - val_accuracy: 0.6745 - lr: 0.0010 - 92s/epoch - 21ms/step
Epoch 37/50
4378/4378 - 91s - loss: 0.7355 - accuracy: 0.7378 - val_loss: 0.8106 - val_accuracy: 0.7043 - lr: 0.0010 - 91s/epoch - 21ms/step
Epoch 38/50
4378/4378 - 92s - loss: 0.7106 - accuracy: 0.7395 - val_loss: 0.6767 - val_accuracy: 0.7550 - lr: 0.0010 - 92s/epoch - 21ms/step
Epoch 39/50
4378/4378 - 91s - loss: 0.7059 - accuracy: 0.7417 - val_loss: 0.8119 - val_accuracy: 0.7564 - lr: 0.0010 - 91s/epoch - 21ms/step
Epoch 40/50
4378/4378 - 91s - loss: 0.7147 - accuracy: 0.7374 - val_loss: 0.7133 - val_accuracy: 0.7157 - lr: 0.0010 - 91s/epoch - 21ms/step
Epoch 41/50
4378/4378 - 87s - loss: 0.7041 - accuracy: 0.7404 - val_loss: 0.7217 - val_accuracy: 0.7260 - lr: 0.0010 - 87s/epoch - 20ms/step
Epoch 42/50
4378/4378 - 87s - loss: 1.4576 - accuracy: 0.7382 - val_loss: 0.7534 - val_accuracy: 0.7495 - lr: 0.0010 - 87s/epoch - 20ms/step
Epoch 43/50
4378/4378 - 90s - loss: 0.7070 - accuracy: 0.7406 - val_loss: 0.7691 - val_accuracy: 0.7474 - lr: 0.0010 - 90s/epoch - 20ms/step
Epoch 44/50
4378/4378 - 87s - loss: 0.7024 - accuracy: 0.7421 - val_loss: 0.6323 - val_accuracy: 0.8146 - lr: 0.0010 - 87s/epoch - 20ms/step
Epoch 45/50
4378/4378 - 89s - loss: 0.7037 - accuracy: 0.7413 - val_loss: 0.7785 - val_accuracy: 0.7057 - lr: 0.0010 - 89s/epoch - 20ms/step
Epoch 46/50
4378/4378 - 90s - loss: 0.7134 - accuracy: 0.7382 - val_loss: 0.7974 - val_accuracy: 0.7013 - lr: 0.0010 - 90s/epoch - 21ms/step
Epoch 47/50
4378/4378 - 87s - loss: 0.7035 - accuracy: 0.7407 - val_loss: 0.7793 - val_accuracy: 0.7132 - lr: 0.0010 - 87s/epoch - 20ms/step
Epoch 48/50
4378/4378 - 84s - loss: 0.8336 - accuracy: 0.7387 - val_loss: 0.6634 - val_accuracy: 0.7754 - lr: 0.0010 - 84s/epoch - 19ms/step
Epoch 49/50
4378/4378 - 85s - loss: 0.6975 - accuracy: 0.7433 - val_loss: 0.7296 - val_accuracy: 0.7312 - lr: 0.0010 - 85s/epoch - 20ms/step
Epoch 50/50
4378/4378 - 85s - loss: 0.7106 - accuracy: 0.7382 - val_loss: 0.7069 - val_accuracy: 0.7685 - lr: 0.0010 - 85s/epoch - 19ms/step
fitting with batch size: 100
Epoch 1/50
876/876 - 26s - loss: 0.6335 - accuracy: 0.7633 - val_loss: 0.7331 - val_accuracy: 0.7415 - lr: 0.0010 - 26s/epoch - 29ms/step
Epoch 2/50
876/876 - 22s - loss: 0.6219 - accuracy: 0.7682 - val_loss: 0.6120 - val_accuracy: 0.7896 - lr: 0.0010 - 22s/epoch - 25ms/step
Epoch 3/50
876/876 - 21s - loss: 0.6118 - accuracy: 0.7696 - val_loss: 0.6964 - val_accuracy: 0.7474 - lr: 0.0010 - 21s/epoch - 24ms/step
Epoch 4/50
876/876 - 21s - loss: 0.6047 - accuracy: 0.7749 - val_loss: 0.6991 - val_accuracy: 0.7553 - lr: 0.0010 - 21s/epoch - 24ms/step
Epoch 5/50
876/876 - 21s - loss: 0.6004 - accuracy: 0.7752 - val_loss: 0.7736 - val_accuracy: 0.7182 - lr: 0.0010 - 21s/epoch - 24ms/step
Epoch 6/50
876/876 - 23s - loss: 0.6305 - accuracy: 0.7725 - val_loss: 0.6691 - val_accuracy: 0.7483 - lr: 0.0010 - 23s/epoch - 26ms/step
Epoch 7/50
876/876 - 23s - loss: 0.5965 - accuracy: 0.7770 - val_loss: 0.7121 - val_accuracy: 0.7405 - lr: 0.0010 - 23s/epoch - 26ms/step
Epoch 8/50
876/876 - 23s - loss: 0.5915 - accuracy: 0.7793 - val_loss: 0.7281 - val_accuracy: 0.7261 - lr: 0.0010 - 23s/epoch - 26ms/step
Epoch 9/50
876/876 - 23s - loss: 0.5915 - accuracy: 0.7785 - val_loss: 0.6876 - val_accuracy: 0.7471 - lr: 0.0010 - 23s/epoch - 26ms/step
Epoch 10/50
876/876 - 23s - loss: 0.5881 - accuracy: 0.7802 - val_loss: 0.6680 - val_accuracy: 0.7410 - lr: 0.0010 - 23s/epoch - 26ms/step
Epoch 11/50
876/876 - 23s - loss: 0.5891 - accuracy: 0.7815 - val_loss: 0.6945 - val_accuracy: 0.7509 - lr: 0.0010 - 23s/epoch - 27ms/step
Epoch 12/50
876/876 - 24s - loss: 0.5844 - accuracy: 0.7816 - val_loss: 0.6498 - val_accuracy: 0.7608 - lr: 0.0010 - 24s/epoch - 28ms/step
Epoch 13/50
876/876 - 23s - loss: 0.5897 - accuracy: 0.7806 - val_loss: 0.6546 - val_accuracy: 0.7760 - lr: 0.0010 - 23s/epoch - 26ms/step
Epoch 14/50
876/876 - 25s - loss: 0.5748 - accuracy: 0.7854 - val_loss: 0.7100 - val_accuracy: 0.7607 - lr: 0.0010 - 25s/epoch - 28ms/step
Epoch 15/50
876/876 - 25s - loss: 0.5772 - accuracy: 0.7842 - val_loss: 0.7331 - val_accuracy: 0.7126 - lr: 0.0010 - 25s/epoch - 28ms/step
Epoch 16/50
876/876 - 25s - loss: 0.5775 - accuracy: 0.7835 - val_loss: 0.5993 - val_accuracy: 0.7905 - lr: 0.0010 - 25s/epoch - 29ms/step
Epoch 17/50
876/876 - 25s - loss: 0.5775 - accuracy: 0.7849 - val_loss: 0.6903 - val_accuracy: 0.7479 - lr: 0.0010 - 25s/epoch - 28ms/step
Epoch 18/50
876/876 - 25s - loss: 0.5761 - accuracy: 0.7840 - val_loss: 0.5851 - val_accuracy: 0.7910 - lr: 0.0010 - 25s/epoch - 28ms/step
Epoch 19/50
876/876 - 24s - loss: 0.5764 - accuracy: 0.7856 - val_loss: 0.7010 - val_accuracy: 0.7517 - lr: 0.0010 - 24s/epoch - 28ms/step
Epoch 20/50
876/876 - 25s - loss: 0.5672 - accuracy: 0.7882 - val_loss: 0.7115 - val_accuracy: 0.7418 - lr: 0.0010 - 25s/epoch - 29ms/step
Epoch 21/50
876/876 - 24s - loss: 0.5770 - accuracy: 0.7861 - val_loss: 0.6727 - val_accuracy: 0.7624 - lr: 0.0010 - 24s/epoch - 28ms/step
Epoch 22/50
876/876 - 25s - loss: 0.5697 - accuracy: 0.7882 - val_loss: 0.6636 - val_accuracy: 0.7659 - lr: 0.0010 - 25s/epoch - 28ms/step
Epoch 23/50
876/876 - 25s - loss: 0.5701 - accuracy: 0.7866 - val_loss: 0.7126 - val_accuracy: 0.7439 - lr: 0.0010 - 25s/epoch - 29ms/step
Epoch 24/50
876/876 - 25s - loss: 0.5681 - accuracy: 0.7882 - val_loss: 0.6404 - val_accuracy: 0.7643 - lr: 0.0010 - 25s/epoch - 28ms/step
Epoch 25/50
876/876 - 25s - loss: 0.5623 - accuracy: 0.7898 - val_loss: 0.6724 - val_accuracy: 0.7611 - lr: 0.0010 - 25s/epoch - 29ms/step
Epoch 26/50
876/876 - 25s - loss: 0.5653 - accuracy: 0.7890 - val_loss: 0.6574 - val_accuracy: 0.7525 - lr: 0.0010 - 25s/epoch - 29ms/step
Epoch 27/50
876/876 - 25s - loss: 0.5658 - accuracy: 0.7885 - val_loss: 0.6556 - val_accuracy: 0.7793 - lr: 0.0010 - 25s/epoch - 29ms/step
Epoch 28/50
876/876 - 25s - loss: 0.5599 - accuracy: 0.7909 - val_loss: 0.6857 - val_accuracy: 0.7536 - lr: 0.0010 - 25s/epoch - 29ms/step
Epoch 29/50
876/876 - 24s - loss: 0.5603 - accuracy: 0.7913 - val_loss: 0.6667 - val_accuracy: 0.7732 - lr: 0.0010 - 24s/epoch - 28ms/step
Epoch 30/50
876/876 - 25s - loss: 0.5561 - accuracy: 0.7943 - val_loss: 0.5842 - val_accuracy: 0.7941 - lr: 0.0010 - 25s/epoch - 28ms/step
Epoch 31/50
876/876 - 24s - loss: 0.5527 - accuracy: 0.7938 - val_loss: 0.7347 - val_accuracy: 0.7359 - lr: 0.0010 - 24s/epoch - 27ms/step
Epoch 32/50
876/876 - 25s - loss: 0.5739 - accuracy: 0.7915 - val_loss: 0.6827 - val_accuracy: 0.7607 - lr: 0.0010 - 25s/epoch - 29ms/step
Epoch 33/50
876/876 - 24s - loss: 0.5528 - accuracy: 0.7929 - val_loss: 0.7621 - val_accuracy: 0.7372 - lr: 0.0010 - 24s/epoch - 27ms/step
Epoch 34/50
876/876 - 25s - loss: 0.5582 - accuracy: 0.7919 - val_loss: 0.7316 - val_accuracy: 0.7232 - lr: 0.0010 - 25s/epoch - 28ms/step
Epoch 35/50
876/876 - 24s - loss: 0.5625 - accuracy: 0.7916 - val_loss: 0.6981 - val_accuracy: 0.7327 - lr: 0.0010 - 24s/epoch - 27ms/step
Epoch 36/50
876/876 - 26s - loss: 0.5591 - accuracy: 0.7919 - val_loss: 0.6981 - val_accuracy: 0.7588 - lr: 0.0010 - 26s/epoch - 30ms/step
Epoch 37/50
876/876 - 26s - loss: 0.5542 - accuracy: 0.7930 - val_loss: 0.6993 - val_accuracy: 0.7602 - lr: 0.0010 - 26s/epoch - 29ms/step
Epoch 38/50
876/876 - 25s - loss: 0.5545 - accuracy: 0.7945 - val_loss: 0.7418 - val_accuracy: 0.7315 - lr: 0.0010 - 25s/epoch - 28ms/step
Epoch 39/50
876/876 - 25s - loss: 0.5534 - accuracy: 0.7927 - val_loss: 0.6919 - val_accuracy: 0.7493 - lr: 0.0010 - 25s/epoch - 28ms/step
Epoch 40/50
876/876 - 25s - loss: 0.5561 - accuracy: 0.7923 - val_loss: 0.6456 - val_accuracy: 0.7662 - lr: 0.0010 - 25s/epoch - 29ms/step
Epoch 41/50
876/876 - 25s - loss: 0.5529 - accuracy: 0.7954 - val_loss: 0.6811 - val_accuracy: 0.7701 - lr: 0.0010 - 25s/epoch - 28ms/step
Epoch 42/50
876/876 - 27s - loss: 0.5481 - accuracy: 0.7955 - val_loss: 0.6625 - val_accuracy: 0.7787 - lr: 0.0010 - 27s/epoch - 30ms/step
Epoch 43/50
876/876 - 24s - loss: 0.5575 - accuracy: 0.7934 - val_loss: 0.7145 - val_accuracy: 0.7539 - lr: 0.0010 - 24s/epoch - 28ms/step
Epoch 44/50
876/876 - 24s - loss: 0.5523 - accuracy: 0.7943 - val_loss: 0.6866 - val_accuracy: 0.7574 - lr: 0.0010 - 24s/epoch - 27ms/step
Epoch 45/50
876/876 - 24s - loss: 0.5435 - accuracy: 0.7973 - val_loss: 0.6641 - val_accuracy: 0.7775 - lr: 0.0010 - 24s/epoch - 27ms/step
Epoch 46/50
876/876 - 25s - loss: 0.5490 - accuracy: 0.7944 - val_loss: 0.5680 - val_accuracy: 0.7915 - lr: 0.0010 - 25s/epoch - 28ms/step
Epoch 47/50
876/876 - 25s - loss: 0.5480 - accuracy: 0.7965 - val_loss: 0.6339 - val_accuracy: 0.7802 - lr: 0.0010 - 25s/epoch - 29ms/step
Epoch 48/50
876/876 - 24s - loss: 0.5487 - accuracy: 0.7954 - val_loss: 0.6156 - val_accuracy: 0.7942 - lr: 0.0010 - 24s/epoch - 28ms/step
Epoch 49/50
876/876 - 24s - loss: 0.5890 - accuracy: 0.7895 - val_loss: 0.7174 - val_accuracy: 0.7539 - lr: 0.0010 - 24s/epoch - 28ms/step
Epoch 50/50
876/876 - 25s - loss: 0.5492 - accuracy: 0.7956 - val_loss: 0.6642 - val_accuracy: 0.7773 - lr: 0.0010 - 25s/epoch - 29ms/step
fitting with batch size: 500
Epoch 1/50
176/176 - 18s - loss: 0.5007 - accuracy: 0.8137 - val_loss: 0.6558 - val_accuracy: 0.7575 - lr: 0.0010 - 18s/epoch - 102ms/step
Epoch 2/50
176/176 - 15s - loss: 0.4983 - accuracy: 0.8133 - val_loss: 0.6711 - val_accuracy: 0.7615 - lr: 0.0010 - 15s/epoch - 84ms/step
Epoch 3/50
176/176 - 14s - loss: 0.5228 - accuracy: 0.8091 - val_loss: 0.6525 - val_accuracy: 0.7679 - lr: 0.0010 - 14s/epoch - 81ms/step
Epoch 4/50
176/176 - 14s - loss: 0.4964 - accuracy: 0.8151 - val_loss: 0.6343 - val_accuracy: 0.7688 - lr: 0.0010 - 14s/epoch - 78ms/step
Epoch 5/50
176/176 - 14s - loss: 0.4940 - accuracy: 0.8151 - val_loss: 0.6570 - val_accuracy: 0.7543 - lr: 0.0010 - 14s/epoch - 79ms/step
Epoch 6/50
176/176 - 14s - loss: 0.4942 - accuracy: 0.8156 - val_loss: 0.6966 - val_accuracy: 0.7464 - lr: 0.0010 - 14s/epoch - 79ms/step
Epoch 7/50
176/176 - 14s - loss: 0.4861 - accuracy: 0.8181 - val_loss: 0.6632 - val_accuracy: 0.7475 - lr: 0.0010 - 14s/epoch - 78ms/step
Epoch 8/50
176/176 - 14s - loss: 0.4890 - accuracy: 0.8189 - val_loss: 0.6705 - val_accuracy: 0.7432 - lr: 0.0010 - 14s/epoch - 79ms/step
Epoch 9/50
176/176 - 14s - loss: 0.4868 - accuracy: 0.8187 - val_loss: 0.6334 - val_accuracy: 0.7723 - lr: 0.0010 - 14s/epoch - 81ms/step
Epoch 10/50
176/176 - 15s - loss: 0.4847 - accuracy: 0.8194 - val_loss: 0.7153 - val_accuracy: 0.7296 - lr: 0.0010 - 15s/epoch - 83ms/step
Epoch 11/50
176/176 - 14s - loss: 0.4834 - accuracy: 0.8188 - val_loss: 0.6427 - val_accuracy: 0.7593 - lr: 0.0010 - 14s/epoch - 81ms/step
Epoch 12/50
176/176 - 14s - loss: 0.4829 - accuracy: 0.8200 - val_loss: 0.6013 - val_accuracy: 0.7753 - lr: 0.0010 - 14s/epoch - 80ms/step
Epoch 13/50
176/176 - 14s - loss: 0.4828 - accuracy: 0.8199 - val_loss: 0.6512 - val_accuracy: 0.7649 - lr: 0.0010 - 14s/epoch - 81ms/step
Epoch 14/50
176/176 - 14s - loss: 0.4835 - accuracy: 0.8200 - val_loss: 0.6457 - val_accuracy: 0.7630 - lr: 0.0010 - 14s/epoch - 80ms/step
Epoch 15/50
176/176 - 13s - loss: 0.4758 - accuracy: 0.8221 - val_loss: 0.7066 - val_accuracy: 0.7413 - lr: 0.0010 - 13s/epoch - 76ms/step
Epoch 16/50
176/176 - 13s - loss: 0.4814 - accuracy: 0.8201 - val_loss: 0.6253 - val_accuracy: 0.7755 - lr: 0.0010 - 13s/epoch - 75ms/step
Epoch 17/50
176/176 - 13s - loss: 0.4811 - accuracy: 0.8206 - val_loss: 0.6630 - val_accuracy: 0.7582 - lr: 0.0010 - 13s/epoch - 77ms/step
Epoch 18/50
176/176 - 15s - loss: 0.4790 - accuracy: 0.8221 - val_loss: 0.6579 - val_accuracy: 0.7561 - lr: 0.0010 - 15s/epoch - 82ms/step
Epoch 19/50
176/176 - 16s - loss: 0.4766 - accuracy: 0.8230 - val_loss: 0.6929 - val_accuracy: 0.7505 - lr: 0.0010 - 16s/epoch - 89ms/step
Epoch 20/50
176/176 - 15s - loss: 0.4761 - accuracy: 0.8230 - val_loss: 0.6944 - val_accuracy: 0.7459 - lr: 0.0010 - 15s/epoch - 87ms/step
Epoch 21/50
176/176 - 16s - loss: 0.4726 - accuracy: 0.8235 - val_loss: 0.6705 - val_accuracy: 0.7527 - lr: 0.0010 - 16s/epoch - 92ms/step
Epoch 22/50
176/176 - 15s - loss: 0.4726 - accuracy: 0.8232 - val_loss: 0.6140 - val_accuracy: 0.7723 - lr: 0.0010 - 15s/epoch - 84ms/step
Epoch 23/50
176/176 - 15s - loss: 0.4728 - accuracy: 0.8234 - val_loss: 0.6515 - val_accuracy: 0.7685 - lr: 0.0010 - 15s/epoch - 85ms/step
Epoch 24/50
176/176 - 15s - loss: 0.4719 - accuracy: 0.8238 - val_loss: 0.6514 - val_accuracy: 0.7709 - lr: 0.0010 - 15s/epoch - 86ms/step
Epoch 25/50
176/176 - 16s - loss: 0.4744 - accuracy: 0.8212 - val_loss: 0.6837 - val_accuracy: 0.7574 - lr: 0.0010 - 16s/epoch - 91ms/step
Epoch 26/50
176/176 - 15s - loss: 0.4712 - accuracy: 0.8242 - val_loss: 0.6230 - val_accuracy: 0.7785 - lr: 0.0010 - 15s/epoch - 87ms/step
Epoch 27/50
176/176 - 16s - loss: 0.4697 - accuracy: 0.8250 - val_loss: 0.6571 - val_accuracy: 0.7617 - lr: 0.0010 - 16s/epoch - 90ms/step
Epoch 28/50
176/176 - 15s - loss: 0.4696 - accuracy: 0.8239 - val_loss: 0.7049 - val_accuracy: 0.7355 - lr: 0.0010 - 15s/epoch - 85ms/step
Epoch 29/50
176/176 - 15s - loss: 0.4771 - accuracy: 0.8218 - val_loss: 0.6765 - val_accuracy: 0.7514 - lr: 0.0010 - 15s/epoch - 84ms/step
Epoch 30/50
176/176 - 15s - loss: 0.4679 - accuracy: 0.8253 - val_loss: 0.6871 - val_accuracy: 0.7563 - lr: 0.0010 - 15s/epoch - 83ms/step
Epoch 31/50
176/176 - 14s - loss: 0.4672 - accuracy: 0.8256 - val_loss: 0.6475 - val_accuracy: 0.7640 - lr: 0.0010 - 14s/epoch - 80ms/step
Epoch 32/50
176/176 - 15s - loss: 0.4721 - accuracy: 0.8238 - val_loss: 0.6829 - val_accuracy: 0.7633 - lr: 0.0010 - 15s/epoch - 87ms/step
Epoch 33/50
176/176 - 15s - loss: 0.4727 - accuracy: 0.8230 - val_loss: 0.6841 - val_accuracy: 0.7595 - lr: 0.0010 - 15s/epoch - 86ms/step
Epoch 34/50
176/176 - 14s - loss: 0.4690 - accuracy: 0.8256 - val_loss: 0.6818 - val_accuracy: 0.7499 - lr: 0.0010 - 14s/epoch - 80ms/step
Epoch 35/50
176/176 - 15s - loss: 0.4635 - accuracy: 0.8279 - val_loss: 0.6674 - val_accuracy: 0.7569 - lr: 0.0010 - 15s/epoch - 85ms/step
Epoch 36/50
176/176 - 15s - loss: 0.4625 - accuracy: 0.8277 - val_loss: 0.6690 - val_accuracy: 0.7610 - lr: 0.0010 - 15s/epoch - 86ms/step
Epoch 37/50
176/176 - 14s - loss: 0.4612 - accuracy: 0.8272 - val_loss: 0.6191 - val_accuracy: 0.7766 - lr: 0.0010 - 14s/epoch - 81ms/step
Epoch 38/50
176/176 - 15s - loss: 0.4638 - accuracy: 0.8274 - val_loss: 0.6766 - val_accuracy: 0.7593 - lr: 0.0010 - 15s/epoch - 86ms/step
Epoch 39/50
176/176 - 15s - loss: 0.4631 - accuracy: 0.8267 - val_loss: 0.7368 - val_accuracy: 0.7371 - lr: 0.0010 - 15s/epoch - 86ms/step
Epoch 40/50
176/176 - 16s - loss: 0.4607 - accuracy: 0.8287 - val_loss: 0.6879 - val_accuracy: 0.7533 - lr: 0.0010 - 16s/epoch - 90ms/step
Epoch 41/50
176/176 - 15s - loss: 0.4622 - accuracy: 0.8277 - val_loss: 0.7053 - val_accuracy: 0.7333 - lr: 0.0010 - 15s/epoch - 87ms/step
Epoch 42/50
176/176 - 16s - loss: 0.4629 - accuracy: 0.8272 - val_loss: 0.6551 - val_accuracy: 0.7664 - lr: 0.0010 - 16s/epoch - 89ms/step
Epoch 43/50
176/176 - 15s - loss: 0.4558 - accuracy: 0.8307 - val_loss: 0.6724 - val_accuracy: 0.7630 - lr: 0.0010 - 15s/epoch - 86ms/step
Epoch 44/50
176/176 - 15s - loss: 0.4599 - accuracy: 0.8286 - val_loss: 0.6436 - val_accuracy: 0.7724 - lr: 0.0010 - 15s/epoch - 86ms/step
Epoch 45/50
176/176 - 14s - loss: 0.4583 - accuracy: 0.8280 - val_loss: 0.6943 - val_accuracy: 0.7433 - lr: 0.0010 - 14s/epoch - 78ms/step
Epoch 46/50
176/176 - 14s - loss: 0.4552 - accuracy: 0.8304 - val_loss: 0.7767 - val_accuracy: 0.7182 - lr: 0.0010 - 14s/epoch - 78ms/step
Epoch 47/50
176/176 - 14s - loss: 0.4677 - accuracy: 0.8258 - val_loss: 0.6161 - val_accuracy: 0.7779 - lr: 0.0010 - 14s/epoch - 80ms/step
Epoch 48/50
176/176 - 15s - loss: 0.4582 - accuracy: 0.8291 - val_loss: 0.6268 - val_accuracy: 0.7732 - lr: 0.0010 - 15s/epoch - 84ms/step
Epoch 49/50
176/176 - 15s - loss: 0.4671 - accuracy: 0.8256 - val_loss: 0.6616 - val_accuracy: 0.7624 - lr: 0.0010 - 15s/epoch - 87ms/step
Epoch 50/50
176/176 - 16s - loss: 0.4584 - accuracy: 0.8287 - val_loss: 0.6764 - val_accuracy: 0.7659 - lr: 0.0010 - 16s/epoch - 88ms/step
Loss: binary_crossentropy
Epoch number: 25
fitting with batch size: 20
Epoch 1/25
4378/4378 - 116s - loss: 0.2234 - accuracy: 0.7596 - val_loss: 0.2649 - val_accuracy: 0.7389 - lr: 0.0010 - 116s/epoch - 27ms/step
Epoch 2/25
4378/4378 - 99s - loss: 0.2310 - accuracy: 0.7521 - val_loss: 0.2831 - val_accuracy: 0.7601 - lr: 0.0010 - 99s/epoch - 23ms/step
Epoch 3/25
4378/4378 - 104s - loss: 0.2301 - accuracy: 0.7531 - val_loss: 0.2647 - val_accuracy: 0.7578 - lr: 0.0010 - 104s/epoch - 24ms/step
Epoch 4/25
4378/4378 - 100s - loss: 0.2319 - accuracy: 0.7508 - val_loss: 0.2507 - val_accuracy: 0.7584 - lr: 0.0010 - 100s/epoch - 23ms/step
Epoch 5/25
4378/4378 - 98s - loss: 0.2350 - accuracy: 0.7475 - val_loss: 0.2742 - val_accuracy: 0.7501 - lr: 0.0010 - 98s/epoch - 22ms/step
Epoch 6/25
4378/4378 - 100s - loss: 0.2372 - accuracy: 0.7445 - val_loss: 0.2324 - val_accuracy: 0.7946 - lr: 0.0010 - 100s/epoch - 23ms/step
Epoch 7/25
4378/4378 - 98s - loss: 0.2336 - accuracy: 0.7504 - val_loss: 0.2613 - val_accuracy: 0.7609 - lr: 0.0010 - 98s/epoch - 22ms/step
Epoch 8/25
4378/4378 - 96s - loss: 0.2378 - accuracy: 0.7457 - val_loss: 0.2300 - val_accuracy: 0.7750 - lr: 0.0010 - 96s/epoch - 22ms/step
Epoch 9/25
4378/4378 - 98s - loss: 0.2387 - accuracy: 0.7435 - val_loss: 0.2696 - val_accuracy: 0.7425 - lr: 0.0010 - 98s/epoch - 22ms/step
Epoch 10/25
4378/4378 - 99s - loss: 0.2348 - accuracy: 0.7485 - val_loss: 0.2070 - val_accuracy: 0.8093 - lr: 0.0010 - 99s/epoch - 23ms/step
Epoch 11/25
4378/4378 - 98s - loss: 0.2390 - accuracy: 0.7446 - val_loss: 0.2907 - val_accuracy: 0.7324 - lr: 0.0010 - 98s/epoch - 22ms/step
Epoch 12/25
4378/4378 - 101s - loss: 0.2380 - accuracy: 0.7452 - val_loss: 0.2919 - val_accuracy: 0.7272 - lr: 0.0010 - 101s/epoch - 23ms/step
Epoch 13/25
4378/4378 - 98s - loss: 0.2376 - accuracy: 0.7445 - val_loss: 0.2759 - val_accuracy: 0.7336 - lr: 0.0010 - 98s/epoch - 22ms/step
Epoch 14/25
4378/4378 - 96s - loss: 0.2376 - accuracy: 0.7453 - val_loss: 0.2384 - val_accuracy: 0.7537 - lr: 0.0010 - 96s/epoch - 22ms/step
Epoch 15/25
4378/4378 - 99s - loss: 0.2410 - accuracy: 0.7400 - val_loss: 0.2525 - val_accuracy: 0.7461 - lr: 0.0010 - 99s/epoch - 23ms/step
Epoch 16/25
4378/4378 - 96s - loss: 0.2372 - accuracy: 0.7444 - val_loss: 0.2899 - val_accuracy: 0.7275 - lr: 0.0010 - 96s/epoch - 22ms/step
Epoch 17/25
4378/4378 - 96s - loss: 0.2396 - accuracy: 0.7451 - val_loss: 0.2128 - val_accuracy: 0.8078 - lr: 0.0010 - 96s/epoch - 22ms/step
Epoch 18/25
4378/4378 - 98s - loss: 0.2378 - accuracy: 0.7450 - val_loss: 0.2973 - val_accuracy: 0.6960 - lr: 0.0010 - 98s/epoch - 22ms/step
Epoch 19/25
4378/4378 - 98s - loss: 0.2391 - accuracy: 0.7434 - val_loss: 0.2612 - val_accuracy: 0.7654 - lr: 0.0010 - 98s/epoch - 22ms/step
Epoch 20/25
4378/4378 - 99s - loss: 0.2397 - accuracy: 0.7446 - val_loss: 0.3073 - val_accuracy: 0.6675 - lr: 0.0010 - 99s/epoch - 23ms/step
Epoch 21/25
4378/4378 - 98s - loss: 0.2405 - accuracy: 0.7437 - val_loss: 0.2360 - val_accuracy: 0.7796 - lr: 0.0010 - 98s/epoch - 22ms/step
Epoch 22/25
4378/4378 - 98s - loss: 0.2395 - accuracy: 0.7452 - val_loss: 0.2730 - val_accuracy: 0.7626 - lr: 0.0010 - 98s/epoch - 22ms/step
Epoch 23/25
4378/4378 - 98s - loss: 0.3286 - accuracy: 0.6944 - val_loss: 0.3045 - val_accuracy: 0.6994 - lr: 0.0010 - 98s/epoch - 22ms/step
Epoch 24/25
4378/4378 - 97s - loss: 0.3405 - accuracy: 0.6651 - val_loss: 0.2858 - val_accuracy: 0.7274 - lr: 0.0010 - 97s/epoch - 22ms/step
Epoch 25/25
4378/4378 - 99s - loss: 0.2430 - accuracy: 0.7396 - val_loss: 0.2493 - val_accuracy: 0.7682 - lr: 0.0010 - 99s/epoch - 23ms/step
fitting with batch size: 100
Epoch 1/25
876/876 - 30s - loss: 0.2171 - accuracy: 0.7654 - val_loss: 0.2450 - val_accuracy: 0.7688 - lr: 0.0010 - 30s/epoch - 34ms/step
Epoch 2/25
876/876 - 26s - loss: 0.2125 - accuracy: 0.7717 - val_loss: 0.2496 - val_accuracy: 0.7698 - lr: 0.0010 - 26s/epoch - 30ms/step
Epoch 3/25
876/876 - 26s - loss: 0.2081 - accuracy: 0.7752 - val_loss: 0.2443 - val_accuracy: 0.7564 - lr: 0.0010 - 26s/epoch - 29ms/step
Epoch 4/25
876/876 - 27s - loss: 0.2037 - accuracy: 0.7790 - val_loss: 0.2390 - val_accuracy: 0.7667 - lr: 0.0010 - 27s/epoch - 30ms/step
Epoch 5/25
876/876 - 28s - loss: 0.2013 - accuracy: 0.7830 - val_loss: 0.2294 - val_accuracy: 0.7674 - lr: 0.0010 - 28s/epoch - 32ms/step
Epoch 6/25
876/876 - 27s - loss: 0.2020 - accuracy: 0.7823 - val_loss: 0.2385 - val_accuracy: 0.7628 - lr: 0.0010 - 27s/epoch - 31ms/step
Epoch 7/25
876/876 - 26s - loss: 0.1984 - accuracy: 0.7846 - val_loss: 0.2375 - val_accuracy: 0.7560 - lr: 0.0010 - 26s/epoch - 30ms/step
Epoch 8/25
876/876 - 25s - loss: 0.1987 - accuracy: 0.7860 - val_loss: 0.2513 - val_accuracy: 0.7501 - lr: 0.0010 - 25s/epoch - 29ms/step
Epoch 9/25
876/876 - 27s - loss: 0.1983 - accuracy: 0.7861 - val_loss: 0.2371 - val_accuracy: 0.7664 - lr: 0.0010 - 27s/epoch - 31ms/step
Epoch 10/25
876/876 - 27s - loss: 0.1955 - accuracy: 0.7903 - val_loss: 0.2337 - val_accuracy: 0.7579 - lr: 0.0010 - 27s/epoch - 31ms/step
Epoch 11/25
876/876 - 27s - loss: 0.1960 - accuracy: 0.7891 - val_loss: 0.2395 - val_accuracy: 0.7798 - lr: 0.0010 - 27s/epoch - 30ms/step
Epoch 12/25
876/876 - 26s - loss: 0.1942 - accuracy: 0.7916 - val_loss: 0.2415 - val_accuracy: 0.7485 - lr: 0.0010 - 26s/epoch - 30ms/step
Epoch 13/25
876/876 - 26s - loss: 0.1943 - accuracy: 0.7908 - val_loss: 0.2567 - val_accuracy: 0.7394 - lr: 0.0010 - 26s/epoch - 30ms/step
Epoch 14/25
876/876 - 27s - loss: 0.1938 - accuracy: 0.7907 - val_loss: 0.2528 - val_accuracy: 0.7426 - lr: 0.0010 - 27s/epoch - 31ms/step
Epoch 15/25
876/876 - 27s - loss: 0.1930 - accuracy: 0.7918 - val_loss: 0.2556 - val_accuracy: 0.7546 - lr: 0.0010 - 27s/epoch - 31ms/step
Epoch 16/25
876/876 - 27s - loss: 0.1927 - accuracy: 0.7920 - val_loss: 0.2460 - val_accuracy: 0.7563 - lr: 0.0010 - 27s/epoch - 31ms/step
Epoch 17/25
876/876 - 27s - loss: 0.1934 - accuracy: 0.7922 - val_loss: 0.2169 - val_accuracy: 0.7841 - lr: 0.0010 - 27s/epoch - 31ms/step
Epoch 18/25
876/876 - 24s - loss: 0.1908 - accuracy: 0.7940 - val_loss: 0.2492 - val_accuracy: 0.7541 - lr: 0.0010 - 24s/epoch - 28ms/step
Epoch 19/25
876/876 - 25s - loss: 0.1913 - accuracy: 0.7941 - val_loss: 0.2460 - val_accuracy: 0.7619 - lr: 0.0010 - 25s/epoch - 29ms/step
Epoch 20/25
876/876 - 28s - loss: 0.1916 - accuracy: 0.7931 - val_loss: 0.2436 - val_accuracy: 0.7575 - lr: 0.0010 - 28s/epoch - 31ms/step
Epoch 21/25
876/876 - 26s - loss: 0.1912 - accuracy: 0.7929 - val_loss: 0.2558 - val_accuracy: 0.7385 - lr: 0.0010 - 26s/epoch - 30ms/step
Epoch 22/25
876/876 - 25s - loss: 0.1895 - accuracy: 0.7950 - val_loss: 0.2491 - val_accuracy: 0.7580 - lr: 0.0010 - 25s/epoch - 29ms/step
Epoch 23/25
876/876 - 25s - loss: 0.1898 - accuracy: 0.7953 - val_loss: 0.2039 - val_accuracy: 0.8088 - lr: 0.0010 - 25s/epoch - 28ms/step
Epoch 24/25
876/876 - 25s - loss: 0.1897 - accuracy: 0.7964 - val_loss: 0.2268 - val_accuracy: 0.7891 - lr: 0.0010 - 25s/epoch - 29ms/step
Epoch 25/25
876/876 - 26s - loss: 0.1900 - accuracy: 0.7957 - val_loss: 0.2373 - val_accuracy: 0.7542 - lr: 0.0010 - 26s/epoch - 30ms/step
fitting with batch size: 500
Epoch 1/25
176/176 - 18s - loss: 0.1763 - accuracy: 0.8116 - val_loss: 0.2359 - val_accuracy: 0.7658 - lr: 0.0010 - 18s/epoch - 101ms/step
Epoch 2/25
176/176 - 15s - loss: 0.1719 - accuracy: 0.8146 - val_loss: 0.2310 - val_accuracy: 0.7575 - lr: 0.0010 - 15s/epoch - 88ms/step
Epoch 3/25
176/176 - 15s - loss: 0.1734 - accuracy: 0.8137 - val_loss: 0.2287 - val_accuracy: 0.7673 - lr: 0.0010 - 15s/epoch - 86ms/step
Epoch 4/25
176/176 - 17s - loss: 0.1693 - accuracy: 0.8180 - val_loss: 0.2504 - val_accuracy: 0.7468 - lr: 0.0010 - 17s/epoch - 94ms/step
Epoch 5/25
176/176 - 14s - loss: 0.1688 - accuracy: 0.8191 - val_loss: 0.2452 - val_accuracy: 0.7529 - lr: 0.0010 - 14s/epoch - 82ms/step
Epoch 6/25
176/176 - 14s - loss: 0.1720 - accuracy: 0.8139 - val_loss: 0.2357 - val_accuracy: 0.7603 - lr: 0.0010 - 14s/epoch - 82ms/step
Epoch 7/25
176/176 - 14s - loss: 0.1697 - accuracy: 0.8174 - val_loss: 0.2386 - val_accuracy: 0.7504 - lr: 0.0010 - 14s/epoch - 80ms/step
Epoch 8/25
176/176 - 15s - loss: 0.1679 - accuracy: 0.8186 - val_loss: 0.2493 - val_accuracy: 0.7485 - lr: 0.0010 - 15s/epoch - 87ms/step
Epoch 9/25
176/176 - 16s - loss: 0.1671 - accuracy: 0.8210 - val_loss: 0.2436 - val_accuracy: 0.7657 - lr: 0.0010 - 16s/epoch - 91ms/step
Epoch 10/25
176/176 - 16s - loss: 0.1674 - accuracy: 0.8196 - val_loss: 0.2462 - val_accuracy: 0.7589 - lr: 0.0010 - 16s/epoch - 90ms/step
Epoch 11/25
176/176 - 15s - loss: 0.1661 - accuracy: 0.8211 - val_loss: 0.2277 - val_accuracy: 0.7700 - lr: 0.0010 - 15s/epoch - 83ms/step
Epoch 12/25
176/176 - 14s - loss: 0.1654 - accuracy: 0.8215 - val_loss: 0.2468 - val_accuracy: 0.7490 - lr: 0.0010 - 14s/epoch - 82ms/step
Epoch 13/25
176/176 - 15s - loss: 0.1685 - accuracy: 0.8186 - val_loss: 0.2497 - val_accuracy: 0.7527 - lr: 0.0010 - 15s/epoch - 86ms/step
Epoch 14/25
176/176 - 15s - loss: 0.1644 - accuracy: 0.8233 - val_loss: 0.2423 - val_accuracy: 0.7604 - lr: 0.0010 - 15s/epoch - 85ms/step
Epoch 15/25
176/176 - 16s - loss: 0.1652 - accuracy: 0.8216 - val_loss: 0.2692 - val_accuracy: 0.7285 - lr: 0.0010 - 16s/epoch - 89ms/step
Epoch 16/25
176/176 - 16s - loss: 0.1636 - accuracy: 0.8244 - val_loss: 0.2415 - val_accuracy: 0.7615 - lr: 0.0010 - 16s/epoch - 89ms/step
Epoch 17/25
176/176 - 15s - loss: 0.1645 - accuracy: 0.8229 - val_loss: 0.2629 - val_accuracy: 0.7362 - lr: 0.0010 - 15s/epoch - 84ms/step
Epoch 18/25
176/176 - 14s - loss: 0.1645 - accuracy: 0.8233 - val_loss: 0.2489 - val_accuracy: 0.7455 - lr: 0.0010 - 14s/epoch - 79ms/step
Epoch 19/25
176/176 - 14s - loss: 0.1666 - accuracy: 0.8205 - val_loss: 0.2301 - val_accuracy: 0.7678 - lr: 0.0010 - 14s/epoch - 82ms/step
Epoch 20/25
176/176 - 16s - loss: 0.1632 - accuracy: 0.8238 - val_loss: 0.2219 - val_accuracy: 0.7756 - lr: 0.0010 - 16s/epoch - 88ms/step
Epoch 21/25
176/176 - 15s - loss: 0.1637 - accuracy: 0.8249 - val_loss: 0.2359 - val_accuracy: 0.7619 - lr: 0.0010 - 15s/epoch - 87ms/step
Epoch 22/25
176/176 - 16s - loss: 0.1627 - accuracy: 0.8247 - val_loss: 0.2279 - val_accuracy: 0.7703 - lr: 0.0010 - 16s/epoch - 90ms/step
Epoch 23/25
176/176 - 15s - loss: 0.1624 - accuracy: 0.8243 - val_loss: 0.2336 - val_accuracy: 0.7637 - lr: 0.0010 - 15s/epoch - 85ms/step
Epoch 24/25
176/176 - 15s - loss: 0.1619 - accuracy: 0.8259 - val_loss: 0.2482 - val_accuracy: 0.7495 - lr: 0.0010 - 15s/epoch - 83ms/step
Epoch 25/25
176/176 - 15s - loss: 0.1626 - accuracy: 0.8255 - val_loss: 0.2277 - val_accuracy: 0.7751 - lr: 0.0010 - 15s/epoch - 83ms/step
Epoch number: 50
fitting with batch size: 20
Epoch 1/50
4378/4378 - 106s - loss: 0.2238 - accuracy: 0.7608 - val_loss: 0.2206 - val_accuracy: 0.7937 - lr: 0.0010 - 106s/epoch - 24ms/step
Epoch 2/50
4378/4378 - 99s - loss: 0.2347 - accuracy: 0.7517 - val_loss: 0.2850 - val_accuracy: 0.7304 - lr: 0.0010 - 99s/epoch - 23ms/step
Epoch 3/50
4378/4378 - 99s - loss: 0.2337 - accuracy: 0.7505 - val_loss: 0.2431 - val_accuracy: 0.7853 - lr: 0.0010 - 99s/epoch - 23ms/step
Epoch 4/50
4378/4378 - 99s - loss: 0.2319 - accuracy: 0.7521 - val_loss: 0.2550 - val_accuracy: 0.7566 - lr: 0.0010 - 99s/epoch - 23ms/step
Epoch 5/50
4378/4378 - 100s - loss: 0.2361 - accuracy: 0.7474 - val_loss: 0.2633 - val_accuracy: 0.7313 - lr: 0.0010 - 100s/epoch - 23ms/step
Epoch 6/50
4378/4378 - 100s - loss: 0.2367 - accuracy: 0.7471 - val_loss: 0.2553 - val_accuracy: 0.7699 - lr: 0.0010 - 100s/epoch - 23ms/step
Epoch 7/50
4378/4378 - 99s - loss: 0.2341 - accuracy: 0.7506 - val_loss: 0.2573 - val_accuracy: 0.7517 - lr: 0.0010 - 99s/epoch - 23ms/step
Epoch 8/50
4378/4378 - 101s - loss: 0.2362 - accuracy: 0.7484 - val_loss: 0.2690 - val_accuracy: 0.7721 - lr: 0.0010 - 101s/epoch - 23ms/step
Epoch 9/50
4378/4378 - 98s - loss: 0.2393 - accuracy: 0.7448 - val_loss: 0.2548 - val_accuracy: 0.7578 - lr: 0.0010 - 98s/epoch - 22ms/step
Epoch 10/50
4378/4378 - 105s - loss: 0.2416 - accuracy: 0.7414 - val_loss: 0.2700 - val_accuracy: 0.7476 - lr: 0.0010 - 105s/epoch - 24ms/step
Epoch 11/50
4378/4378 - 98s - loss: 0.2384 - accuracy: 0.7457 - val_loss: 0.2488 - val_accuracy: 0.7463 - lr: 0.0010 - 98s/epoch - 22ms/step
Epoch 12/50
4378/4378 - 99s - loss: 0.2372 - accuracy: 0.7468 - val_loss: 0.2396 - val_accuracy: 0.7627 - lr: 0.0010 - 99s/epoch - 23ms/step
Epoch 13/50
4378/4378 - 97s - loss: 0.2421 - accuracy: 0.7429 - val_loss: 0.2433 - val_accuracy: 0.7556 - lr: 0.0010 - 97s/epoch - 22ms/step
Epoch 14/50
4378/4378 - 97s - loss: 0.2438 - accuracy: 0.7400 - val_loss: 0.2121 - val_accuracy: 0.7965 - lr: 0.0010 - 97s/epoch - 22ms/step
Epoch 15/50
4378/4378 - 99s - loss: 0.2434 - accuracy: 0.7430 - val_loss: 0.2647 - val_accuracy: 0.8080 - lr: 0.0010 - 99s/epoch - 23ms/step
Epoch 16/50
4378/4378 - 98s - loss: 0.2392 - accuracy: 0.7451 - val_loss: 0.2292 - val_accuracy: 0.7938 - lr: 0.0010 - 98s/epoch - 22ms/step
Epoch 17/50
4378/4378 - 96s - loss: 0.2432 - accuracy: 0.7422 - val_loss: 0.2796 - val_accuracy: 0.7270 - lr: 0.0010 - 96s/epoch - 22ms/step
Epoch 18/50
4378/4378 - 95s - loss: 0.2494 - accuracy: 0.7405 - val_loss: 0.2321 - val_accuracy: 0.7891 - lr: 0.0010 - 95s/epoch - 22ms/step
Epoch 19/50
4378/4378 - 96s - loss: 0.2464 - accuracy: 0.7414 - val_loss: 0.2462 - val_accuracy: 0.7579 - lr: 0.0010 - 96s/epoch - 22ms/step
Epoch 20/50
4378/4378 - 97s - loss: 0.2497 - accuracy: 0.7361 - val_loss: 0.2585 - val_accuracy: 0.7861 - lr: 0.0010 - 97s/epoch - 22ms/step
Epoch 21/50
4378/4378 - 96s - loss: 0.3097 - accuracy: 0.6896 - val_loss: 0.2425 - val_accuracy: 0.7946 - lr: 0.0010 - 96s/epoch - 22ms/step
Epoch 22/50
4378/4378 - 94s - loss: 0.2483 - accuracy: 0.7375 - val_loss: 0.2749 - val_accuracy: 0.7758 - lr: 0.0010 - 94s/epoch - 22ms/step
Epoch 23/50
4378/4378 - 97s - loss: 0.2417 - accuracy: 0.7389 - val_loss: 0.2774 - val_accuracy: 0.7392 - lr: 0.0010 - 97s/epoch - 22ms/step
Epoch 24/50
4378/4378 - 98s - loss: 0.2441 - accuracy: 0.7390 - val_loss: 0.2436 - val_accuracy: 0.7437 - lr: 0.0010 - 98s/epoch - 22ms/step
Epoch 25/50
4378/4378 - 99s - loss: 0.2444 - accuracy: 0.7396 - val_loss: 0.3068 - val_accuracy: 0.7028 - lr: 0.0010 - 99s/epoch - 23ms/step
Epoch 26/50
4378/4378 - 97s - loss: 0.2378 - accuracy: 0.7479 - val_loss: 0.2309 - val_accuracy: 0.7938 - lr: 0.0010 - 97s/epoch - 22ms/step
Epoch 27/50
4378/4378 - 97s - loss: 0.2395 - accuracy: 0.7448 - val_loss: 0.2335 - val_accuracy: 0.7860 - lr: 0.0010 - 97s/epoch - 22ms/step
Epoch 28/50
4378/4378 - 103s - loss: 0.2398 - accuracy: 0.7428 - val_loss: 0.2399 - val_accuracy: 0.7618 - lr: 0.0010 - 103s/epoch - 24ms/step
Epoch 29/50
4378/4378 - 100s - loss: 0.2461 - accuracy: 0.7377 - val_loss: 0.2535 - val_accuracy: 0.7468 - lr: 0.0010 - 100s/epoch - 23ms/step
Epoch 30/50
4378/4378 - 101s - loss: 0.2427 - accuracy: 0.7418 - val_loss: 0.2767 - val_accuracy: 0.7604 - lr: 0.0010 - 101s/epoch - 23ms/step
Epoch 31/50
4378/4378 - 100s - loss: 0.2401 - accuracy: 0.7427 - val_loss: 0.2437 - val_accuracy: 0.7598 - lr: 0.0010 - 100s/epoch - 23ms/step
Epoch 32/50
4378/4378 - 100s - loss: 0.2389 - accuracy: 0.7443 - val_loss: 0.2713 - val_accuracy: 0.7044 - lr: 0.0010 - 100s/epoch - 23ms/step
Epoch 33/50
4378/4378 - 98s - loss: 0.2404 - accuracy: 0.7430 - val_loss: 0.2601 - val_accuracy: 0.7443 - lr: 0.0010 - 98s/epoch - 22ms/step
Epoch 34/50
4378/4378 - 99s - loss: 0.2412 - accuracy: 0.7421 - val_loss: 0.2410 - val_accuracy: 0.7674 - lr: 0.0010 - 99s/epoch - 23ms/step
Epoch 35/50
4378/4378 - 100s - loss: 0.2676 - accuracy: 0.7287 - val_loss: 0.2839 - val_accuracy: 0.7329 - lr: 0.0010 - 100s/epoch - 23ms/step
Epoch 36/50
4378/4378 - 101s - loss: 0.2426 - accuracy: 0.7400 - val_loss: 0.2641 - val_accuracy: 0.7516 - lr: 0.0010 - 101s/epoch - 23ms/step
Epoch 37/50
4378/4378 - 104s - loss: 0.2449 - accuracy: 0.7376 - val_loss: 0.3127 - val_accuracy: 0.6838 - lr: 0.0010 - 104s/epoch - 24ms/step
Epoch 38/50
4378/4378 - 100s - loss: 0.2432 - accuracy: 0.7397 - val_loss: 0.2551 - val_accuracy: 0.7632 - lr: 0.0010 - 100s/epoch - 23ms/step
Epoch 39/50
4378/4378 - 100s - loss: 0.2446 - accuracy: 0.7388 - val_loss: 0.2742 - val_accuracy: 0.7433 - lr: 0.0010 - 100s/epoch - 23ms/step
Epoch 40/50
4378/4378 - 104s - loss: 0.2424 - accuracy: 0.7414 - val_loss: 0.2781 - val_accuracy: 0.7098 - lr: 0.0010 - 104s/epoch - 24ms/step
Epoch 41/50
4378/4378 - 97s - loss: 0.2451 - accuracy: 0.7409 - val_loss: 0.3043 - val_accuracy: 0.6977 - lr: 0.0010 - 97s/epoch - 22ms/step
Epoch 42/50
4378/4378 - 98s - loss: 0.2453 - accuracy: 0.7396 - val_loss: 0.2497 - val_accuracy: 0.7807 - lr: 0.0010 - 98s/epoch - 22ms/step
Epoch 43/50
4378/4378 - 96s - loss: 0.2487 - accuracy: 0.7356 - val_loss: 0.2839 - val_accuracy: 0.7175 - lr: 0.0010 - 96s/epoch - 22ms/step
Epoch 44/50
4378/4378 - 98s - loss: 0.2499 - accuracy: 0.7327 - val_loss: 0.2575 - val_accuracy: 0.7677 - lr: 0.0010 - 98s/epoch - 22ms/step
Epoch 45/50
4378/4378 - 98s - loss: 0.2637 - accuracy: 0.7326 - val_loss: 0.2645 - val_accuracy: 0.7606 - lr: 0.0010 - 98s/epoch - 22ms/step
Epoch 46/50
4378/4378 - 100s - loss: 0.2511 - accuracy: 0.7324 - val_loss: 0.3122 - val_accuracy: 0.7091 - lr: 0.0010 - 100s/epoch - 23ms/step
Epoch 47/50
4378/4378 - 93s - loss: 0.2507 - accuracy: 0.7326 - val_loss: 0.3108 - val_accuracy: 0.7162 - lr: 0.0010 - 93s/epoch - 21ms/step
Epoch 48/50
4378/4378 - 97s - loss: 0.2523 - accuracy: 0.7321 - val_loss: 0.2626 - val_accuracy: 0.7680 - lr: 0.0010 - 97s/epoch - 22ms/step
Epoch 49/50
4378/4378 - 96s - loss: 0.2484 - accuracy: 0.7326 - val_loss: 0.2531 - val_accuracy: 0.7380 - lr: 0.0010 - 96s/epoch - 22ms/step
Epoch 50/50
4378/4378 - 92s - loss: 0.2499 - accuracy: 0.7334 - val_loss: 0.2635 - val_accuracy: 0.7551 - lr: 0.0010 - 92s/epoch - 21ms/step
fitting with batch size: 100
Epoch 1/50
876/876 - 22s - loss: 0.2213 - accuracy: 0.7618 - val_loss: 0.2650 - val_accuracy: 0.7374 - lr: 0.0010 - 22s/epoch - 25ms/step
Epoch 2/50
876/876 - 19s - loss: 0.2175 - accuracy: 0.7646 - val_loss: 0.2570 - val_accuracy: 0.7465 - lr: 0.0010 - 19s/epoch - 22ms/step
Epoch 3/50
876/876 - 19s - loss: 0.2137 - accuracy: 0.7675 - val_loss: 0.2445 - val_accuracy: 0.7634 - lr: 0.0010 - 19s/epoch - 22ms/step
Epoch 4/50
876/876 - 19s - loss: 0.2116 - accuracy: 0.7700 - val_loss: 0.2454 - val_accuracy: 0.7634 - lr: 0.0010 - 19s/epoch - 21ms/step
Epoch 5/50
876/876 - 18s - loss: 0.2105 - accuracy: 0.7730 - val_loss: 0.2513 - val_accuracy: 0.7517 - lr: 0.0010 - 18s/epoch - 21ms/step
Epoch 6/50
876/876 - 18s - loss: 0.2102 - accuracy: 0.7726 - val_loss: 0.2583 - val_accuracy: 0.7342 - lr: 0.0010 - 18s/epoch - 21ms/step
Epoch 7/50
876/876 - 18s - loss: 0.2077 - accuracy: 0.7761 - val_loss: 0.2485 - val_accuracy: 0.7617 - lr: 0.0010 - 18s/epoch - 21ms/step
Epoch 8/50
876/876 - 18s - loss: 0.2096 - accuracy: 0.7738 - val_loss: 0.2544 - val_accuracy: 0.7666 - lr: 0.0010 - 18s/epoch - 21ms/step
Epoch 9/50
876/876 - 18s - loss: 0.2074 - accuracy: 0.7755 - val_loss: 0.2583 - val_accuracy: 0.7673 - lr: 0.0010 - 18s/epoch - 21ms/step
Epoch 10/50
876/876 - 18s - loss: 0.2047 - accuracy: 0.7780 - val_loss: 0.2392 - val_accuracy: 0.7775 - lr: 0.0010 - 18s/epoch - 21ms/step
Epoch 11/50
876/876 - 18s - loss: 0.2032 - accuracy: 0.7805 - val_loss: 0.2497 - val_accuracy: 0.7708 - lr: 0.0010 - 18s/epoch - 21ms/step
Epoch 12/50
876/876 - 18s - loss: 0.2037 - accuracy: 0.7794 - val_loss: 0.2360 - val_accuracy: 0.7670 - lr: 0.0010 - 18s/epoch - 21ms/step
Epoch 13/50
876/876 - 18s - loss: 0.2017 - accuracy: 0.7830 - val_loss: 0.2325 - val_accuracy: 0.7594 - lr: 0.0010 - 18s/epoch - 21ms/step
Epoch 14/50
876/876 - 18s - loss: 0.2040 - accuracy: 0.7804 - val_loss: 0.2355 - val_accuracy: 0.7648 - lr: 0.0010 - 18s/epoch - 21ms/step
Epoch 15/50
876/876 - 18s - loss: 0.2030 - accuracy: 0.7802 - val_loss: 0.2370 - val_accuracy: 0.7846 - lr: 0.0010 - 18s/epoch - 21ms/step
Epoch 16/50
876/876 - 18s - loss: 0.2022 - accuracy: 0.7809 - val_loss: 0.2636 - val_accuracy: 0.7347 - lr: 0.0010 - 18s/epoch - 21ms/step
Epoch 17/50
876/876 - 18s - loss: 0.1996 - accuracy: 0.7838 - val_loss: 0.2539 - val_accuracy: 0.7446 - lr: 0.0010 - 18s/epoch - 21ms/step
Epoch 18/50
876/876 - 18s - loss: 0.1991 - accuracy: 0.7852 - val_loss: 0.2203 - val_accuracy: 0.7797 - lr: 0.0010 - 18s/epoch - 21ms/step
Epoch 19/50
876/876 - 18s - loss: 0.2012 - accuracy: 0.7838 - val_loss: 0.2531 - val_accuracy: 0.7335 - lr: 0.0010 - 18s/epoch - 21ms/step
Epoch 20/50
876/876 - 18s - loss: 0.1981 - accuracy: 0.7867 - val_loss: 0.2623 - val_accuracy: 0.7396 - lr: 0.0010 - 18s/epoch - 21ms/step
Epoch 21/50
876/876 - 18s - loss: 0.1982 - accuracy: 0.7870 - val_loss: 0.2501 - val_accuracy: 0.7501 - lr: 0.0010 - 18s/epoch - 21ms/step
Epoch 22/50
876/876 - 18s - loss: 0.1967 - accuracy: 0.7867 - val_loss: 0.2390 - val_accuracy: 0.7693 - lr: 0.0010 - 18s/epoch - 21ms/step
Epoch 23/50
876/876 - 18s - loss: 0.1978 - accuracy: 0.7878 - val_loss: 0.2851 - val_accuracy: 0.7603 - lr: 0.0010 - 18s/epoch - 21ms/step
Epoch 24/50
876/876 - 18s - loss: 0.1980 - accuracy: 0.7856 - val_loss: 0.2664 - val_accuracy: 0.7417 - lr: 0.0010 - 18s/epoch - 21ms/step
Epoch 25/50
876/876 - 18s - loss: 0.2016 - accuracy: 0.7822 - val_loss: 0.2441 - val_accuracy: 0.7606 - lr: 0.0010 - 18s/epoch - 21ms/step
Epoch 26/50
876/876 - 18s - loss: 0.1987 - accuracy: 0.7856 - val_loss: 0.2523 - val_accuracy: 0.7350 - lr: 0.0010 - 18s/epoch - 21ms/step
Epoch 27/50
876/876 - 18s - loss: 0.1959 - accuracy: 0.7894 - val_loss: 0.2218 - val_accuracy: 0.8036 - lr: 0.0010 - 18s/epoch - 21ms/step
Epoch 28/50
876/876 - 18s - loss: 0.1963 - accuracy: 0.7891 - val_loss: 0.2569 - val_accuracy: 0.7354 - lr: 0.0010 - 18s/epoch - 21ms/step
Epoch 29/50
876/876 - 18s - loss: 0.1938 - accuracy: 0.7906 - val_loss: 0.2501 - val_accuracy: 0.7669 - lr: 0.0010 - 18s/epoch - 21ms/step
Epoch 30/50
876/876 - 18s - loss: 0.1965 - accuracy: 0.7892 - val_loss: 0.2510 - val_accuracy: 0.7559 - lr: 0.0010 - 18s/epoch - 21ms/step
Epoch 31/50
876/876 - 18s - loss: 0.1957 - accuracy: 0.7892 - val_loss: 0.2558 - val_accuracy: 0.7495 - lr: 0.0010 - 18s/epoch - 21ms/step
Epoch 32/50
876/876 - 18s - loss: 0.1949 - accuracy: 0.7896 - val_loss: 0.2757 - val_accuracy: 0.7529 - lr: 0.0010 - 18s/epoch - 21ms/step
Epoch 33/50
876/876 - 18s - loss: 0.1918 - accuracy: 0.7929 - val_loss: 0.2531 - val_accuracy: 0.7576 - lr: 0.0010 - 18s/epoch - 21ms/step
Epoch 34/50
876/876 - 18s - loss: 0.1942 - accuracy: 0.7909 - val_loss: 0.2240 - val_accuracy: 0.7936 - lr: 0.0010 - 18s/epoch - 21ms/step
Epoch 35/50
876/876 - 18s - loss: 0.1925 - accuracy: 0.7917 - val_loss: 0.2354 - val_accuracy: 0.7587 - lr: 0.0010 - 18s/epoch - 21ms/step
Epoch 36/50
876/876 - 18s - loss: 0.1938 - accuracy: 0.7908 - val_loss: 0.2263 - val_accuracy: 0.7943 - lr: 0.0010 - 18s/epoch - 21ms/step
Epoch 37/50
876/876 - 18s - loss: 0.1933 - accuracy: 0.7914 - val_loss: 0.2500 - val_accuracy: 0.7662 - lr: 0.0010 - 18s/epoch - 21ms/step
Epoch 38/50
876/876 - 18s - loss: 0.1923 - accuracy: 0.7929 - val_loss: 0.2637 - val_accuracy: 0.7344 - lr: 0.0010 - 18s/epoch - 21ms/step
Epoch 39/50
876/876 - 18s - loss: 0.1910 - accuracy: 0.7944 - val_loss: 0.2211 - val_accuracy: 0.7885 - lr: 0.0010 - 18s/epoch - 21ms/step
Epoch 40/50
876/876 - 18s - loss: 0.1910 - accuracy: 0.7937 - val_loss: 0.2406 - val_accuracy: 0.7674 - lr: 0.0010 - 18s/epoch - 21ms/step
Epoch 41/50
876/876 - 18s - loss: 0.1911 - accuracy: 0.7953 - val_loss: 0.2347 - val_accuracy: 0.7643 - lr: 0.0010 - 18s/epoch - 21ms/step
Epoch 42/50
876/876 - 18s - loss: 0.1912 - accuracy: 0.7934 - val_loss: 0.2290 - val_accuracy: 0.7862 - lr: 0.0010 - 18s/epoch - 21ms/step
Epoch 43/50
876/876 - 18s - loss: 0.1935 - accuracy: 0.7918 - val_loss: 0.2488 - val_accuracy: 0.7622 - lr: 0.0010 - 18s/epoch - 21ms/step
Epoch 44/50
876/876 - 18s - loss: 0.1938 - accuracy: 0.7917 - val_loss: 0.2674 - val_accuracy: 0.7449 - lr: 0.0010 - 18s/epoch - 21ms/step
Epoch 45/50
876/876 - 18s - loss: 0.1910 - accuracy: 0.7943 - val_loss: 0.2238 - val_accuracy: 0.7802 - lr: 0.0010 - 18s/epoch - 21ms/step
Epoch 46/50
876/876 - 18s - loss: 0.1882 - accuracy: 0.7971 - val_loss: 0.2414 - val_accuracy: 0.7529 - lr: 0.0010 - 18s/epoch - 21ms/step
Epoch 47/50
876/876 - 18s - loss: 0.1902 - accuracy: 0.7948 - val_loss: 0.2341 - val_accuracy: 0.7854 - lr: 0.0010 - 18s/epoch - 21ms/step
Epoch 48/50
876/876 - 18s - loss: 0.1891 - accuracy: 0.7962 - val_loss: 0.2161 - val_accuracy: 0.7980 - lr: 0.0010 - 18s/epoch - 21ms/step
Epoch 49/50
876/876 - 18s - loss: 0.1906 - accuracy: 0.7951 - val_loss: 0.2261 - val_accuracy: 0.7690 - lr: 0.0010 - 18s/epoch - 21ms/step
Epoch 50/50
876/876 - 18s - loss: 0.1907 - accuracy: 0.7951 - val_loss: 0.2236 - val_accuracy: 0.7766 - lr: 0.0010 - 18s/epoch - 21ms/step
fitting with batch size: 500
Epoch 1/50
176/176 - 11s - loss: 0.1755 - accuracy: 0.8107 - val_loss: 0.2130 - val_accuracy: 0.7967 - lr: 0.0010 - 11s/epoch - 64ms/step
Epoch 2/50
176/176 - 9s - loss: 0.1714 - accuracy: 0.8141 - val_loss: 0.2450 - val_accuracy: 0.7588 - lr: 0.0010 - 9s/epoch - 51ms/step
Epoch 3/50
176/176 - 9s - loss: 0.1715 - accuracy: 0.8146 - val_loss: 0.2442 - val_accuracy: 0.7526 - lr: 0.0010 - 9s/epoch - 51ms/step
Epoch 4/50
176/176 - 9s - loss: 0.1706 - accuracy: 0.8158 - val_loss: 0.2224 - val_accuracy: 0.7862 - lr: 0.0010 - 9s/epoch - 51ms/step
Epoch 5/50
176/176 - 9s - loss: 0.1711 - accuracy: 0.8150 - val_loss: 0.2262 - val_accuracy: 0.7871 - lr: 0.0010 - 9s/epoch - 50ms/step
Epoch 6/50
176/176 - 9s - loss: 0.1702 - accuracy: 0.8159 - val_loss: 0.2509 - val_accuracy: 0.7580 - lr: 0.0010 - 9s/epoch - 50ms/step
Epoch 7/50
176/176 - 9s - loss: 0.1698 - accuracy: 0.8166 - val_loss: 0.2360 - val_accuracy: 0.7675 - lr: 0.0010 - 9s/epoch - 50ms/step
Epoch 8/50
176/176 - 9s - loss: 0.1704 - accuracy: 0.8159 - val_loss: 0.2398 - val_accuracy: 0.7548 - lr: 0.0010 - 9s/epoch - 50ms/step
Epoch 9/50
176/176 - 9s - loss: 0.1686 - accuracy: 0.8175 - val_loss: 0.2398 - val_accuracy: 0.7602 - lr: 0.0010 - 9s/epoch - 51ms/step
Epoch 10/50
176/176 - 9s - loss: 0.1716 - accuracy: 0.8148 - val_loss: 0.2482 - val_accuracy: 0.7511 - lr: 0.0010 - 9s/epoch - 51ms/step
Epoch 11/50
176/176 - 9s - loss: 0.1690 - accuracy: 0.8179 - val_loss: 0.2207 - val_accuracy: 0.7717 - lr: 0.0010 - 9s/epoch - 50ms/step
Epoch 12/50
176/176 - 9s - loss: 0.1670 - accuracy: 0.8196 - val_loss: 0.2402 - val_accuracy: 0.7611 - lr: 0.0010 - 9s/epoch - 50ms/step
Epoch 13/50
176/176 - 9s - loss: 0.1677 - accuracy: 0.8195 - val_loss: 0.2462 - val_accuracy: 0.7588 - lr: 0.0010 - 9s/epoch - 50ms/step
Epoch 14/50
176/176 - 9s - loss: 0.1659 - accuracy: 0.8213 - val_loss: 0.2538 - val_accuracy: 0.7585 - lr: 0.0010 - 9s/epoch - 50ms/step
Epoch 15/50
176/176 - 9s - loss: 0.1684 - accuracy: 0.8184 - val_loss: 0.2282 - val_accuracy: 0.7780 - lr: 0.0010 - 9s/epoch - 51ms/step
Epoch 16/50
176/176 - 9s - loss: 0.1704 - accuracy: 0.8151 - val_loss: 0.2560 - val_accuracy: 0.7478 - lr: 0.0010 - 9s/epoch - 50ms/step
Epoch 17/50
176/176 - 9s - loss: 0.1653 - accuracy: 0.8214 - val_loss: 0.2553 - val_accuracy: 0.7357 - lr: 0.0010 - 9s/epoch - 51ms/step
Epoch 18/50
176/176 - 9s - loss: 0.1655 - accuracy: 0.8216 - val_loss: 0.2543 - val_accuracy: 0.7429 - lr: 0.0010 - 9s/epoch - 50ms/step
Epoch 19/50
176/176 - 9s - loss: 0.1651 - accuracy: 0.8210 - val_loss: 0.2342 - val_accuracy: 0.7701 - lr: 0.0010 - 9s/epoch - 51ms/step
Epoch 20/50
176/176 - 9s - loss: 0.1644 - accuracy: 0.8223 - val_loss: 0.2512 - val_accuracy: 0.7565 - lr: 0.0010 - 9s/epoch - 50ms/step
Epoch 21/50
176/176 - 9s - loss: 0.1656 - accuracy: 0.8207 - val_loss: 0.2336 - val_accuracy: 0.7699 - lr: 0.0010 - 9s/epoch - 51ms/step
Epoch 22/50
176/176 - 9s - loss: 0.1655 - accuracy: 0.8221 - val_loss: 0.2359 - val_accuracy: 0.7708 - lr: 0.0010 - 9s/epoch - 50ms/step
Epoch 23/50
176/176 - 9s - loss: 0.1640 - accuracy: 0.8232 - val_loss: 0.2492 - val_accuracy: 0.7465 - lr: 0.0010 - 9s/epoch - 50ms/step
Epoch 24/50
176/176 - 9s - loss: 0.1630 - accuracy: 0.8247 - val_loss: 0.2325 - val_accuracy: 0.7653 - lr: 0.0010 - 9s/epoch - 50ms/step
Epoch 25/50
176/176 - 9s - loss: 0.1653 - accuracy: 0.8206 - val_loss: 0.2405 - val_accuracy: 0.7647 - lr: 0.0010 - 9s/epoch - 50ms/step
Epoch 26/50
176/176 - 9s - loss: 0.1647 - accuracy: 0.8220 - val_loss: 0.2473 - val_accuracy: 0.7587 - lr: 0.0010 - 9s/epoch - 50ms/step
Epoch 27/50
176/176 - 9s - loss: 0.1632 - accuracy: 0.8244 - val_loss: 0.2238 - val_accuracy: 0.7724 - lr: 0.0010 - 9s/epoch - 51ms/step
Epoch 28/50
176/176 - 9s - loss: 0.1649 - accuracy: 0.8223 - val_loss: 0.2352 - val_accuracy: 0.7575 - lr: 0.0010 - 9s/epoch - 50ms/step
Epoch 29/50
176/176 - 9s - loss: 0.1634 - accuracy: 0.8244 - val_loss: 0.2460 - val_accuracy: 0.7598 - lr: 0.0010 - 9s/epoch - 50ms/step
Epoch 30/50
176/176 - 9s - loss: 0.1632 - accuracy: 0.8239 - val_loss: 0.2387 - val_accuracy: 0.7634 - lr: 0.0010 - 9s/epoch - 50ms/step
Epoch 31/50
176/176 - 9s - loss: 0.1685 - accuracy: 0.8187 - val_loss: 0.2397 - val_accuracy: 0.7665 - lr: 0.0010 - 9s/epoch - 50ms/step
Epoch 32/50
176/176 - 9s - loss: 0.1635 - accuracy: 0.8230 - val_loss: 0.2720 - val_accuracy: 0.7289 - lr: 0.0010 - 9s/epoch - 51ms/step
Epoch 33/50
176/176 - 9s - loss: 0.1626 - accuracy: 0.8247 - val_loss: 0.2349 - val_accuracy: 0.7640 - lr: 0.0010 - 9s/epoch - 50ms/step
Epoch 34/50
176/176 - 9s - loss: 0.1625 - accuracy: 0.8242 - val_loss: 0.2455 - val_accuracy: 0.7505 - lr: 0.0010 - 9s/epoch - 50ms/step
Epoch 35/50
176/176 - 9s - loss: 0.1611 - accuracy: 0.8271 - val_loss: 0.2240 - val_accuracy: 0.7837 - lr: 0.0010 - 9s/epoch - 51ms/step
Epoch 36/50
176/176 - 9s - loss: 0.1625 - accuracy: 0.8259 - val_loss: 0.2527 - val_accuracy: 0.7645 - lr: 0.0010 - 9s/epoch - 50ms/step
Epoch 37/50
176/176 - 9s - loss: 0.1616 - accuracy: 0.8261 - val_loss: 0.2557 - val_accuracy: 0.7508 - lr: 0.0010 - 9s/epoch - 51ms/step
Epoch 38/50
176/176 - 9s - loss: 0.1614 - accuracy: 0.8266 - val_loss: 0.2632 - val_accuracy: 0.7373 - lr: 0.0010 - 9s/epoch - 51ms/step
Epoch 39/50
176/176 - 9s - loss: 0.1609 - accuracy: 0.8265 - val_loss: 0.2397 - val_accuracy: 0.7724 - lr: 0.0010 - 9s/epoch - 50ms/step
Epoch 40/50
176/176 - 9s - loss: 0.1598 - accuracy: 0.8287 - val_loss: 0.2440 - val_accuracy: 0.7687 - lr: 0.0010 - 9s/epoch - 50ms/step
Epoch 41/50
176/176 - 9s - loss: 0.1610 - accuracy: 0.8280 - val_loss: 0.2430 - val_accuracy: 0.7621 - lr: 0.0010 - 9s/epoch - 51ms/step
Epoch 42/50
176/176 - 9s - loss: 0.1593 - accuracy: 0.8285 - val_loss: 0.2635 - val_accuracy: 0.7436 - lr: 0.0010 - 9s/epoch - 50ms/step
Epoch 43/50
176/176 - 9s - loss: 0.1595 - accuracy: 0.8281 - val_loss: 0.2585 - val_accuracy: 0.7583 - lr: 0.0010 - 9s/epoch - 51ms/step
Epoch 44/50
176/176 - 9s - loss: 0.1588 - accuracy: 0.8293 - val_loss: 0.2444 - val_accuracy: 0.7711 - lr: 0.0010 - 9s/epoch - 51ms/step
Epoch 45/50
176/176 - 9s - loss: 0.1605 - accuracy: 0.8272 - val_loss: 0.2415 - val_accuracy: 0.7690 - lr: 0.0010 - 9s/epoch - 50ms/step
Epoch 46/50
176/176 - 9s - loss: 0.1597 - accuracy: 0.8287 - val_loss: 0.2736 - val_accuracy: 0.7499 - lr: 0.0010 - 9s/epoch - 50ms/step
Epoch 47/50
176/176 - 9s - loss: 0.1590 - accuracy: 0.8293 - val_loss: 0.2486 - val_accuracy: 0.7637 - lr: 0.0010 - 9s/epoch - 51ms/step
Epoch 48/50
176/176 - 9s - loss: 0.1602 - accuracy: 0.8277 - val_loss: 0.2634 - val_accuracy: 0.7449 - lr: 0.0010 - 9s/epoch - 51ms/step
Epoch 49/50
176/176 - 9s - loss: 0.1587 - accuracy: 0.8285 - val_loss: 0.2375 - val_accuracy: 0.7826 - lr: 0.0010 - 9s/epoch - 51ms/step
Epoch 50/50
176/176 - 9s - loss: 0.1603 - accuracy: 0.8278 - val_loss: 0.2438 - val_accuracy: 0.7711 - lr: 0.0010 - 9s/epoch - 51ms/step
Loss: huber_loss
Epoch number: 25
fitting with batch size: 20
Epoch 1/25
4378/4378 - 77s - loss: 0.0354 - accuracy: 0.7488 - val_loss: 0.0475 - val_accuracy: 0.7299 - lr: 0.0010 - 77s/epoch - 18ms/step
Epoch 2/25
4378/4378 - 75s - loss: 0.0369 - accuracy: 0.7397 - val_loss: 0.0385 - val_accuracy: 0.7930 - lr: 0.0010 - 75s/epoch - 17ms/step
Epoch 3/25
4378/4378 - 75s - loss: 0.0382 - accuracy: 0.7294 - val_loss: 0.0396 - val_accuracy: 0.7941 - lr: 0.0010 - 75s/epoch - 17ms/step
Epoch 4/25
4378/4378 - 75s - loss: 0.0371 - accuracy: 0.7377 - val_loss: 0.0434 - val_accuracy: 0.7455 - lr: 0.0010 - 75s/epoch - 17ms/step
Epoch 5/25
4378/4378 - 75s - loss: 0.0381 - accuracy: 0.7311 - val_loss: 0.0373 - val_accuracy: 0.7854 - lr: 0.0010 - 75s/epoch - 17ms/step
Epoch 6/25
4378/4378 - 75s - loss: 0.0364 - accuracy: 0.7438 - val_loss: 0.0375 - val_accuracy: 0.7923 - lr: 0.0010 - 75s/epoch - 17ms/step
Epoch 7/25
4378/4378 - 75s - loss: 0.0365 - accuracy: 0.7424 - val_loss: 0.0498 - val_accuracy: 0.6728 - lr: 0.0010 - 75s/epoch - 17ms/step
Epoch 8/25
4378/4378 - 75s - loss: 0.0363 - accuracy: 0.7450 - val_loss: 0.0370 - val_accuracy: 0.7730 - lr: 0.0010 - 75s/epoch - 17ms/step
Epoch 9/25
4378/4378 - 75s - loss: 0.0368 - accuracy: 0.7404 - val_loss: 0.0383 - val_accuracy: 0.7667 - lr: 0.0010 - 75s/epoch - 17ms/step
Epoch 10/25
4378/4378 - 74s - loss: 0.0370 - accuracy: 0.7395 - val_loss: 0.0346 - val_accuracy: 0.7980 - lr: 0.0010 - 74s/epoch - 17ms/step
Epoch 11/25
4378/4378 - 75s - loss: 0.0366 - accuracy: 0.7418 - val_loss: 0.0427 - val_accuracy: 0.7569 - lr: 0.0010 - 75s/epoch - 17ms/step
Epoch 12/25
4378/4378 - 75s - loss: 0.0369 - accuracy: 0.7401 - val_loss: 0.0282 - val_accuracy: 0.8267 - lr: 0.0010 - 75s/epoch - 17ms/step
Epoch 13/25
4378/4378 - 75s - loss: 0.0368 - accuracy: 0.7416 - val_loss: 0.0390 - val_accuracy: 0.7880 - lr: 0.0010 - 75s/epoch - 17ms/step
Epoch 14/25
4378/4378 - 74s - loss: 0.0369 - accuracy: 0.7404 - val_loss: 0.0400 - val_accuracy: 0.7702 - lr: 0.0010 - 74s/epoch - 17ms/step
Epoch 15/25
4378/4378 - 75s - loss: 0.0368 - accuracy: 0.7411 - val_loss: 0.0477 - val_accuracy: 0.7036 - lr: 0.0010 - 75s/epoch - 17ms/step
Epoch 16/25
4378/4378 - 74s - loss: 0.0369 - accuracy: 0.7400 - val_loss: 0.0421 - val_accuracy: 0.7697 - lr: 0.0010 - 74s/epoch - 17ms/step
Epoch 17/25
4378/4378 - 75s - loss: 0.0367 - accuracy: 0.7419 - val_loss: 0.0410 - val_accuracy: 0.7526 - lr: 0.0010 - 75s/epoch - 17ms/step
Epoch 18/25
4378/4378 - 74s - loss: 0.0377 - accuracy: 0.7365 - val_loss: 0.0379 - val_accuracy: 0.7827 - lr: 0.0010 - 74s/epoch - 17ms/step
Epoch 19/25
4378/4378 - 75s - loss: 0.0371 - accuracy: 0.7423 - val_loss: 0.0459 - val_accuracy: 0.7199 - lr: 0.0010 - 75s/epoch - 17ms/step
Epoch 20/25
4378/4378 - 75s - loss: 0.0372 - accuracy: 0.7402 - val_loss: 0.0444 - val_accuracy: 0.7440 - lr: 0.0010 - 75s/epoch - 17ms/step
Epoch 21/25
4378/4378 - 74s - loss: 0.0368 - accuracy: 0.7423 - val_loss: 0.0379 - val_accuracy: 0.7877 - lr: 0.0010 - 74s/epoch - 17ms/step
Epoch 22/25
4378/4378 - 74s - loss: 0.0370 - accuracy: 0.7404 - val_loss: 0.0396 - val_accuracy: 0.7471 - lr: 0.0010 - 74s/epoch - 17ms/step
Epoch 23/25
4378/4378 - 74s - loss: 0.0405 - accuracy: 0.7203 - val_loss: 0.0666 - val_accuracy: 0.6919 - lr: 0.0010 - 74s/epoch - 17ms/step
Epoch 24/25
4378/4378 - 75s - loss: 0.0433 - accuracy: 0.6924 - val_loss: 0.0472 - val_accuracy: 0.7068 - lr: 0.0010 - 75s/epoch - 17ms/step
Epoch 25/25
4378/4378 - 74s - loss: 0.0375 - accuracy: 0.7369 - val_loss: 0.0394 - val_accuracy: 0.7778 - lr: 0.0010 - 74s/epoch - 17ms/step
fitting with batch size: 100
Epoch 1/25
876/876 - 20s - loss: 0.0335 - accuracy: 0.7652 - val_loss: 0.0369 - val_accuracy: 0.7773 - lr: 0.0010 - 20s/epoch - 23ms/step
Epoch 2/25
876/876 - 18s - loss: 0.0324 - accuracy: 0.7732 - val_loss: 0.0323 - val_accuracy: 0.8019 - lr: 0.0010 - 18s/epoch - 20ms/step
Epoch 3/25
876/876 - 18s - loss: 0.0321 - accuracy: 0.7753 - val_loss: 0.0370 - val_accuracy: 0.7709 - lr: 0.0010 - 18s/epoch - 20ms/step
Epoch 4/25
876/876 - 18s - loss: 0.0313 - accuracy: 0.7791 - val_loss: 0.0352 - val_accuracy: 0.7841 - lr: 0.0010 - 18s/epoch - 20ms/step
Epoch 5/25
876/876 - 18s - loss: 0.0310 - accuracy: 0.7829 - val_loss: 0.0379 - val_accuracy: 0.7602 - lr: 0.0010 - 18s/epoch - 20ms/step
Epoch 6/25
876/876 - 18s - loss: 0.0308 - accuracy: 0.7833 - val_loss: 0.0321 - val_accuracy: 0.7948 - lr: 0.0010 - 18s/epoch - 20ms/step
Epoch 7/25
876/876 - 18s - loss: 0.0305 - accuracy: 0.7858 - val_loss: 0.0337 - val_accuracy: 0.7859 - lr: 0.0010 - 18s/epoch - 20ms/step
Epoch 8/25
876/876 - 18s - loss: 0.0304 - accuracy: 0.7868 - val_loss: 0.0375 - val_accuracy: 0.7677 - lr: 0.0010 - 18s/epoch - 20ms/step
Epoch 9/25
876/876 - 18s - loss: 0.0300 - accuracy: 0.7896 - val_loss: 0.0391 - val_accuracy: 0.7618 - lr: 0.0010 - 18s/epoch - 20ms/step
Epoch 10/25
876/876 - 18s - loss: 0.0301 - accuracy: 0.7890 - val_loss: 0.0373 - val_accuracy: 0.7800 - lr: 0.0010 - 18s/epoch - 21ms/step
Epoch 11/25
876/876 - 18s - loss: 0.0297 - accuracy: 0.7932 - val_loss: 0.0332 - val_accuracy: 0.7783 - lr: 0.0010 - 18s/epoch - 20ms/step
Epoch 12/25
876/876 - 18s - loss: 0.0297 - accuracy: 0.7906 - val_loss: 0.0339 - val_accuracy: 0.7985 - lr: 0.0010 - 18s/epoch - 20ms/step
Epoch 13/25
876/876 - 18s - loss: 0.0296 - accuracy: 0.7928 - val_loss: 0.0341 - val_accuracy: 0.7899 - lr: 0.0010 - 18s/epoch - 20ms/step
Epoch 14/25
876/876 - 18s - loss: 0.0294 - accuracy: 0.7952 - val_loss: 0.0363 - val_accuracy: 0.7754 - lr: 0.0010 - 18s/epoch - 20ms/step
Epoch 15/25
876/876 - 18s - loss: 0.0292 - accuracy: 0.7958 - val_loss: 0.0341 - val_accuracy: 0.7840 - lr: 0.0010 - 18s/epoch - 20ms/step
Epoch 16/25
876/876 - 18s - loss: 0.0295 - accuracy: 0.7932 - val_loss: 0.0369 - val_accuracy: 0.7714 - lr: 0.0010 - 18s/epoch - 20ms/step
Epoch 17/25
876/876 - 18s - loss: 0.0293 - accuracy: 0.7958 - val_loss: 0.0393 - val_accuracy: 0.7567 - lr: 0.0010 - 18s/epoch - 20ms/step
Epoch 18/25
876/876 - 18s - loss: 0.0291 - accuracy: 0.7956 - val_loss: 0.0293 - val_accuracy: 0.8168 - lr: 0.0010 - 18s/epoch - 20ms/step
Epoch 19/25
876/876 - 18s - loss: 0.0287 - accuracy: 0.8000 - val_loss: 0.0335 - val_accuracy: 0.7829 - lr: 0.0010 - 18s/epoch - 20ms/step
Epoch 20/25
876/876 - 18s - loss: 0.0288 - accuracy: 0.7984 - val_loss: 0.0380 - val_accuracy: 0.7659 - lr: 0.0010 - 18s/epoch - 20ms/step
Epoch 21/25
876/876 - 18s - loss: 0.0287 - accuracy: 0.8003 - val_loss: 0.0341 - val_accuracy: 0.7869 - lr: 0.0010 - 18s/epoch - 20ms/step
Epoch 22/25
876/876 - 18s - loss: 0.0285 - accuracy: 0.8017 - val_loss: 0.0332 - val_accuracy: 0.7982 - lr: 0.0010 - 18s/epoch - 20ms/step
Epoch 23/25
876/876 - 18s - loss: 0.0285 - accuracy: 0.8009 - val_loss: 0.0412 - val_accuracy: 0.7456 - lr: 0.0010 - 18s/epoch - 20ms/step
Epoch 24/25
876/876 - 18s - loss: 0.0286 - accuracy: 0.8001 - val_loss: 0.0396 - val_accuracy: 0.7626 - lr: 0.0010 - 18s/epoch - 20ms/step
Epoch 25/25
876/876 - 18s - loss: 0.0285 - accuracy: 0.8017 - val_loss: 0.0413 - val_accuracy: 0.7473 - lr: 0.0010 - 18s/epoch - 20ms/step
fitting with batch size: 500
Epoch 1/25
176/176 - 21s - loss: 0.0264 - accuracy: 0.8154 - val_loss: 0.0338 - val_accuracy: 0.7881 - lr: 0.0010 - 21s/epoch - 121ms/step
Epoch 2/25
176/176 - 9s - loss: 0.0260 - accuracy: 0.8184 - val_loss: 0.0383 - val_accuracy: 0.7604 - lr: 0.0010 - 9s/epoch - 50ms/step
Epoch 3/25
176/176 - 9s - loss: 0.0258 - accuracy: 0.8203 - val_loss: 0.0370 - val_accuracy: 0.7648 - lr: 0.0010 - 9s/epoch - 51ms/step
Epoch 4/25
176/176 - 9s - loss: 0.0256 - accuracy: 0.8217 - val_loss: 0.0370 - val_accuracy: 0.7730 - lr: 0.0010 - 9s/epoch - 50ms/step
Epoch 5/25
176/176 - 9s - loss: 0.0258 - accuracy: 0.8200 - val_loss: 0.0372 - val_accuracy: 0.7669 - lr: 0.0010 - 9s/epoch - 50ms/step
Epoch 6/25
176/176 - 9s - loss: 0.0255 - accuracy: 0.8236 - val_loss: 0.0369 - val_accuracy: 0.7666 - lr: 0.0010 - 9s/epoch - 51ms/step
Epoch 7/25
176/176 - 9s - loss: 0.0254 - accuracy: 0.8238 - val_loss: 0.0370 - val_accuracy: 0.7686 - lr: 0.0010 - 9s/epoch - 51ms/step
Epoch 8/25
176/176 - 9s - loss: 0.0253 - accuracy: 0.8246 - val_loss: 0.0364 - val_accuracy: 0.7700 - lr: 0.0010 - 9s/epoch - 51ms/step
Epoch 9/25
176/176 - 9s - loss: 0.0253 - accuracy: 0.8243 - val_loss: 0.0375 - val_accuracy: 0.7658 - lr: 0.0010 - 9s/epoch - 51ms/step
Epoch 10/25
176/176 - 9s - loss: 0.0252 - accuracy: 0.8258 - val_loss: 0.0359 - val_accuracy: 0.7830 - lr: 0.0010 - 9s/epoch - 51ms/step
Epoch 11/25
176/176 - 9s - loss: 0.0256 - accuracy: 0.8220 - val_loss: 0.0338 - val_accuracy: 0.7912 - lr: 0.0010 - 9s/epoch - 51ms/step
Epoch 12/25
176/176 - 9s - loss: 0.0250 - accuracy: 0.8264 - val_loss: 0.0392 - val_accuracy: 0.7494 - lr: 0.0010 - 9s/epoch - 50ms/step
Epoch 13/25
176/176 - 9s - loss: 0.0247 - accuracy: 0.8295 - val_loss: 0.0359 - val_accuracy: 0.7761 - lr: 0.0010 - 9s/epoch - 51ms/step
Epoch 14/25
176/176 - 9s - loss: 0.0249 - accuracy: 0.8273 - val_loss: 0.0338 - val_accuracy: 0.7898 - lr: 0.0010 - 9s/epoch - 50ms/step
Epoch 15/25
176/176 - 9s - loss: 0.0249 - accuracy: 0.8279 - val_loss: 0.0371 - val_accuracy: 0.7615 - lr: 0.0010 - 9s/epoch - 51ms/step
Epoch 16/25
176/176 - 9s - loss: 0.0247 - accuracy: 0.8298 - val_loss: 0.0346 - val_accuracy: 0.7814 - lr: 0.0010 - 9s/epoch - 50ms/step
Epoch 17/25
176/176 - 9s - loss: 0.0249 - accuracy: 0.8281 - val_loss: 0.0372 - val_accuracy: 0.7634 - lr: 0.0010 - 9s/epoch - 51ms/step
Epoch 18/25
176/176 - 9s - loss: 0.0249 - accuracy: 0.8279 - val_loss: 0.0372 - val_accuracy: 0.7710 - lr: 0.0010 - 9s/epoch - 51ms/step
Epoch 19/25
176/176 - 9s - loss: 0.0247 - accuracy: 0.8285 - val_loss: 0.0346 - val_accuracy: 0.7893 - lr: 0.0010 - 9s/epoch - 51ms/step
Epoch 20/25
176/176 - 9s - loss: 0.0247 - accuracy: 0.8291 - val_loss: 0.0371 - val_accuracy: 0.7656 - lr: 0.0010 - 9s/epoch - 51ms/step
Epoch 21/25
176/176 - 9s - loss: 0.0244 - accuracy: 0.8306 - val_loss: 0.0377 - val_accuracy: 0.7631 - lr: 0.0010 - 9s/epoch - 51ms/step
Epoch 22/25
176/176 - 9s - loss: 0.0244 - accuracy: 0.8322 - val_loss: 0.0341 - val_accuracy: 0.7824 - lr: 0.0010 - 9s/epoch - 50ms/step
Epoch 23/25
176/176 - 9s - loss: 0.0246 - accuracy: 0.8301 - val_loss: 0.0375 - val_accuracy: 0.7644 - lr: 0.0010 - 9s/epoch - 51ms/step
Epoch 24/25
176/176 - 9s - loss: 0.0244 - accuracy: 0.8317 - val_loss: 0.0370 - val_accuracy: 0.7652 - lr: 0.0010 - 9s/epoch - 51ms/step
Epoch 25/25
176/176 - 9s - loss: 0.0242 - accuracy: 0.8331 - val_loss: 0.0371 - val_accuracy: 0.7661 - lr: 0.0010 - 9s/epoch - 51ms/step
Epoch number: 50
fitting with batch size: 20
Epoch 1/50
4378/4378 - 77s - loss: 0.0332 - accuracy: 0.7698 - val_loss: 0.0434 - val_accuracy: 0.7454 - lr: 0.0010 - 77s/epoch - 18ms/step
Epoch 2/50
4378/4378 - 74s - loss: 0.0346 - accuracy: 0.7608 - val_loss: 0.0429 - val_accuracy: 0.7584 - lr: 0.0010 - 74s/epoch - 17ms/step
Epoch 3/50
4378/4378 - 75s - loss: 0.0348 - accuracy: 0.7574 - val_loss: 0.0400 - val_accuracy: 0.7503 - lr: 0.0010 - 75s/epoch - 17ms/step
Epoch 4/50
4378/4378 - 74s - loss: 0.0349 - accuracy: 0.7579 - val_loss: 0.0347 - val_accuracy: 0.7985 - lr: 0.0010 - 74s/epoch - 17ms/step
Epoch 5/50
4378/4378 - 74s - loss: 0.0349 - accuracy: 0.7576 - val_loss: 0.0425 - val_accuracy: 0.7553 - lr: 0.0010 - 74s/epoch - 17ms/step
Epoch 6/50
4378/4378 - 74s - loss: 0.0353 - accuracy: 0.7552 - val_loss: 0.0519 - val_accuracy: 0.7432 - lr: 0.0010 - 74s/epoch - 17ms/step
Epoch 7/50
4378/4378 - 74s - loss: 0.0358 - accuracy: 0.7520 - val_loss: 0.0401 - val_accuracy: 0.7634 - lr: 0.0010 - 74s/epoch - 17ms/step
Epoch 8/50
4378/4378 - 74s - loss: 0.0353 - accuracy: 0.7546 - val_loss: 0.0343 - val_accuracy: 0.8098 - lr: 0.0010 - 74s/epoch - 17ms/step
Epoch 9/50
4378/4378 - 74s - loss: 0.0352 - accuracy: 0.7553 - val_loss: 0.0375 - val_accuracy: 0.7805 - lr: 0.0010 - 74s/epoch - 17ms/step
Epoch 10/50
4378/4378 - 74s - loss: 0.0354 - accuracy: 0.7537 - val_loss: 0.0412 - val_accuracy: 0.7751 - lr: 0.0010 - 74s/epoch - 17ms/step
Epoch 11/50
4378/4378 - 74s - loss: 0.0351 - accuracy: 0.7565 - val_loss: 0.0332 - val_accuracy: 0.7827 - lr: 0.0010 - 74s/epoch - 17ms/step
Epoch 12/50
4378/4378 - 74s - loss: 0.0355 - accuracy: 0.7530 - val_loss: 0.0473 - val_accuracy: 0.7359 - lr: 0.0010 - 74s/epoch - 17ms/step
Epoch 13/50
4378/4378 - 75s - loss: 0.0353 - accuracy: 0.7540 - val_loss: 0.0453 - val_accuracy: 0.7690 - lr: 0.0010 - 75s/epoch - 17ms/step
Epoch 14/50
4378/4378 - 75s - loss: 0.0358 - accuracy: 0.7516 - val_loss: 0.0405 - val_accuracy: 0.7703 - lr: 0.0010 - 75s/epoch - 17ms/step
Epoch 15/50
4378/4378 - 74s - loss: 0.0359 - accuracy: 0.7513 - val_loss: 0.0400 - val_accuracy: 0.7886 - lr: 0.0010 - 74s/epoch - 17ms/step
Epoch 16/50
4378/4378 - 75s - loss: 0.0361 - accuracy: 0.7501 - val_loss: 0.0339 - val_accuracy: 0.8063 - lr: 0.0010 - 75s/epoch - 17ms/step
Epoch 17/50
4378/4378 - 75s - loss: 0.0356 - accuracy: 0.7530 - val_loss: 0.0404 - val_accuracy: 0.7675 - lr: 0.0010 - 75s/epoch - 17ms/step
Epoch 18/50
4378/4378 - 74s - loss: 0.0353 - accuracy: 0.7554 - val_loss: 0.0396 - val_accuracy: 0.7791 - lr: 0.0010 - 74s/epoch - 17ms/step
Epoch 19/50
4378/4378 - 75s - loss: 0.0356 - accuracy: 0.7533 - val_loss: 0.0400 - val_accuracy: 0.8150 - lr: 0.0010 - 75s/epoch - 17ms/step
Epoch 20/50
4378/4378 - 74s - loss: 0.0350 - accuracy: 0.7566 - val_loss: 0.0420 - val_accuracy: 0.7646 - lr: 0.0010 - 74s/epoch - 17ms/step
Epoch 21/50
4378/4378 - 75s - loss: 0.0358 - accuracy: 0.7511 - val_loss: 0.0506 - val_accuracy: 0.7122 - lr: 0.0010 - 75s/epoch - 17ms/step
Epoch 22/50
4378/4378 - 74s - loss: 0.0357 - accuracy: 0.7519 - val_loss: 0.0401 - val_accuracy: 0.7844 - lr: 0.0010 - 74s/epoch - 17ms/step
Epoch 23/50
4378/4378 - 74s - loss: 0.0355 - accuracy: 0.7545 - val_loss: 0.0386 - val_accuracy: 0.7622 - lr: 0.0010 - 74s/epoch - 17ms/step
Epoch 24/50
4378/4378 - 74s - loss: 0.0354 - accuracy: 0.7541 - val_loss: 0.0337 - val_accuracy: 0.8080 - lr: 0.0010 - 74s/epoch - 17ms/step
Epoch 25/50
4378/4378 - 75s - loss: 0.0356 - accuracy: 0.7537 - val_loss: 0.0370 - val_accuracy: 0.7906 - lr: 0.0010 - 75s/epoch - 17ms/step
Epoch 26/50
4378/4378 - 74s - loss: 0.0356 - accuracy: 0.7538 - val_loss: 0.0365 - val_accuracy: 0.8003 - lr: 0.0010 - 74s/epoch - 17ms/step
Epoch 27/50
4378/4378 - 74s - loss: 0.0356 - accuracy: 0.7535 - val_loss: 0.0368 - val_accuracy: 0.7888 - lr: 0.0010 - 74s/epoch - 17ms/step
Epoch 28/50
4378/4378 - 75s - loss: 0.0352 - accuracy: 0.7563 - val_loss: 0.0354 - val_accuracy: 0.8083 - lr: 0.0010 - 75s/epoch - 17ms/step
Epoch 29/50
4378/4378 - 74s - loss: 0.0355 - accuracy: 0.7534 - val_loss: 0.0400 - val_accuracy: 0.8092 - lr: 0.0010 - 74s/epoch - 17ms/step
Epoch 30/50
4378/4378 - 74s - loss: 0.0360 - accuracy: 0.7506 - val_loss: 0.0378 - val_accuracy: 0.7986 - lr: 0.0010 - 74s/epoch - 17ms/step
Epoch 31/50
4378/4378 - 74s - loss: 0.0356 - accuracy: 0.7530 - val_loss: 0.0383 - val_accuracy: 0.7970 - lr: 0.0010 - 74s/epoch - 17ms/step
Epoch 32/50
4378/4378 - 75s - loss: 0.0362 - accuracy: 0.7491 - val_loss: 0.0359 - val_accuracy: 0.8031 - lr: 0.0010 - 75s/epoch - 17ms/step
Epoch 33/50
4378/4378 - 74s - loss: 0.0360 - accuracy: 0.7506 - val_loss: 0.0458 - val_accuracy: 0.7465 - lr: 0.0010 - 74s/epoch - 17ms/step
Epoch 34/50
4378/4378 - 75s - loss: 0.0360 - accuracy: 0.7516 - val_loss: 0.0456 - val_accuracy: 0.7612 - lr: 0.0010 - 75s/epoch - 17ms/step
Epoch 35/50
4378/4378 - 75s - loss: 0.0359 - accuracy: 0.7528 - val_loss: 0.0379 - val_accuracy: 0.7850 - lr: 0.0010 - 75s/epoch - 17ms/step
Epoch 36/50
4378/4378 - 74s - loss: 0.0354 - accuracy: 0.7553 - val_loss: 0.0395 - val_accuracy: 0.7653 - lr: 0.0010 - 74s/epoch - 17ms/step
Epoch 37/50
4378/4378 - 74s - loss: 0.0357 - accuracy: 0.7527 - val_loss: 0.0384 - val_accuracy: 0.7861 - lr: 0.0010 - 74s/epoch - 17ms/step
Epoch 38/50
4378/4378 - 74s - loss: 0.0356 - accuracy: 0.7526 - val_loss: 0.0454 - val_accuracy: 0.7558 - lr: 0.0010 - 74s/epoch - 17ms/step
Epoch 39/50
4378/4378 - 74s - loss: 0.0361 - accuracy: 0.7511 - val_loss: 0.0402 - val_accuracy: 0.7869 - lr: 0.0010 - 74s/epoch - 17ms/step
Epoch 40/50
4378/4378 - 74s - loss: 0.0358 - accuracy: 0.7525 - val_loss: 0.0395 - val_accuracy: 0.7809 - lr: 0.0010 - 74s/epoch - 17ms/step
Epoch 41/50
4378/4378 - 74s - loss: 0.0358 - accuracy: 0.7519 - val_loss: 0.0401 - val_accuracy: 0.7671 - lr: 0.0010 - 74s/epoch - 17ms/step
Epoch 42/50
4378/4378 - 74s - loss: 0.0359 - accuracy: 0.7512 - val_loss: 0.0417 - val_accuracy: 0.7907 - lr: 0.0010 - 74s/epoch - 17ms/step
Epoch 43/50
4378/4378 - 74s - loss: 0.0361 - accuracy: 0.7494 - val_loss: 0.0373 - val_accuracy: 0.7850 - lr: 0.0010 - 74s/epoch - 17ms/step
Epoch 44/50
4378/4378 - 74s - loss: 0.0352 - accuracy: 0.7562 - val_loss: 0.0400 - val_accuracy: 0.7801 - lr: 0.0010 - 74s/epoch - 17ms/step
Epoch 45/50
4378/4378 - 74s - loss: 0.0357 - accuracy: 0.7541 - val_loss: 0.0365 - val_accuracy: 0.7858 - lr: 0.0010 - 74s/epoch - 17ms/step
Epoch 46/50
4378/4378 - 74s - loss: 0.0354 - accuracy: 0.7567 - val_loss: 0.0414 - val_accuracy: 0.7792 - lr: 0.0010 - 74s/epoch - 17ms/step
Epoch 47/50
4378/4378 - 74s - loss: 0.0357 - accuracy: 0.7532 - val_loss: 0.0454 - val_accuracy: 0.7791 - lr: 0.0010 - 74s/epoch - 17ms/step
Epoch 48/50
4378/4378 - 74s - loss: 0.0357 - accuracy: 0.7534 - val_loss: 0.0396 - val_accuracy: 0.8024 - lr: 0.0010 - 74s/epoch - 17ms/step
Epoch 49/50
4378/4378 - 74s - loss: 0.0353 - accuracy: 0.7569 - val_loss: 0.0397 - val_accuracy: 0.7748 - lr: 0.0010 - 74s/epoch - 17ms/step
Epoch 50/50
4378/4378 - 74s - loss: 0.0353 - accuracy: 0.7558 - val_loss: 0.0406 - val_accuracy: 0.7763 - lr: 0.0010 - 74s/epoch - 17ms/step
fitting with batch size: 100
Epoch 1/50
876/876 - 20s - loss: 0.0317 - accuracy: 0.7814 - val_loss: 0.0373 - val_accuracy: 0.7887 - lr: 0.0010 - 20s/epoch - 23ms/step
Epoch 2/50
876/876 - 18s - loss: 0.0309 - accuracy: 0.7862 - val_loss: 0.0372 - val_accuracy: 0.7833 - lr: 0.0010 - 18s/epoch - 20ms/step
Epoch 3/50
876/876 - 18s - loss: 0.0307 - accuracy: 0.7872 - val_loss: 0.0361 - val_accuracy: 0.7865 - lr: 0.0010 - 18s/epoch - 20ms/step
Epoch 4/50
876/876 - 18s - loss: 0.0302 - accuracy: 0.7908 - val_loss: 0.0356 - val_accuracy: 0.7894 - lr: 0.0010 - 18s/epoch - 20ms/step
Epoch 5/50
876/876 - 18s - loss: 0.0301 - accuracy: 0.7918 - val_loss: 0.0363 - val_accuracy: 0.7844 - lr: 0.0010 - 18s/epoch - 21ms/step
Epoch 6/50
876/876 - 18s - loss: 0.0298 - accuracy: 0.7943 - val_loss: 0.0342 - val_accuracy: 0.7999 - lr: 0.0010 - 18s/epoch - 20ms/step
Epoch 7/50
876/876 - 18s - loss: 0.0294 - accuracy: 0.7973 - val_loss: 0.0337 - val_accuracy: 0.8002 - lr: 0.0010 - 18s/epoch - 20ms/step
Epoch 8/50
876/876 - 18s - loss: 0.0298 - accuracy: 0.7957 - val_loss: 0.0369 - val_accuracy: 0.7796 - lr: 0.0010 - 18s/epoch - 20ms/step
Epoch 9/50
876/876 - 18s - loss: 0.0294 - accuracy: 0.7968 - val_loss: 0.0377 - val_accuracy: 0.7829 - lr: 0.0010 - 18s/epoch - 20ms/step
Epoch 10/50
876/876 - 18s - loss: 0.0292 - accuracy: 0.7990 - val_loss: 0.0348 - val_accuracy: 0.7778 - lr: 0.0010 - 18s/epoch - 20ms/step
Epoch 11/50
876/876 - 18s - loss: 0.0290 - accuracy: 0.7996 - val_loss: 0.0354 - val_accuracy: 0.7910 - lr: 0.0010 - 18s/epoch - 20ms/step
Epoch 12/50
876/876 - 18s - loss: 0.0289 - accuracy: 0.8008 - val_loss: 0.0353 - val_accuracy: 0.7918 - lr: 0.0010 - 18s/epoch - 20ms/step
Epoch 13/50
876/876 - 18s - loss: 0.0289 - accuracy: 0.8010 - val_loss: 0.0382 - val_accuracy: 0.7835 - lr: 0.0010 - 18s/epoch - 20ms/step
Epoch 14/50
876/876 - 18s - loss: 0.0289 - accuracy: 0.8007 - val_loss: 0.0386 - val_accuracy: 0.7649 - lr: 0.0010 - 18s/epoch - 20ms/step
Epoch 15/50
876/876 - 18s - loss: 0.0288 - accuracy: 0.8020 - val_loss: 0.0354 - val_accuracy: 0.7886 - lr: 0.0010 - 18s/epoch - 20ms/step
Epoch 16/50
876/876 - 18s - loss: 0.0287 - accuracy: 0.8027 - val_loss: 0.0391 - val_accuracy: 0.7683 - lr: 0.0010 - 18s/epoch - 20ms/step
Epoch 17/50
876/876 - 18s - loss: 0.0285 - accuracy: 0.8043 - val_loss: 0.0386 - val_accuracy: 0.7723 - lr: 0.0010 - 18s/epoch - 20ms/step
Epoch 18/50
876/876 - 18s - loss: 0.0283 - accuracy: 0.8050 - val_loss: 0.0346 - val_accuracy: 0.7760 - lr: 0.0010 - 18s/epoch - 20ms/step
Epoch 19/50
876/876 - 18s - loss: 0.0282 - accuracy: 0.8065 - val_loss: 0.0345 - val_accuracy: 0.7945 - lr: 0.0010 - 18s/epoch - 20ms/step
Epoch 20/50
876/876 - 18s - loss: 0.0283 - accuracy: 0.8057 - val_loss: 0.0327 - val_accuracy: 0.8061 - lr: 0.0010 - 18s/epoch - 20ms/step
Epoch 21/50
876/876 - 18s - loss: 0.0281 - accuracy: 0.8062 - val_loss: 0.0335 - val_accuracy: 0.7969 - lr: 0.0010 - 18s/epoch - 20ms/step
Epoch 22/50
876/876 - 18s - loss: 0.0283 - accuracy: 0.8050 - val_loss: 0.0362 - val_accuracy: 0.7888 - lr: 0.0010 - 18s/epoch - 20ms/step
Epoch 23/50
876/876 - 18s - loss: 0.0281 - accuracy: 0.8065 - val_loss: 0.0362 - val_accuracy: 0.7840 - lr: 0.0010 - 18s/epoch - 20ms/step
Epoch 24/50
876/876 - 18s - loss: 0.0279 - accuracy: 0.8078 - val_loss: 0.0359 - val_accuracy: 0.7790 - lr: 0.0010 - 18s/epoch - 20ms/step
Epoch 25/50
876/876 - 17s - loss: 0.0279 - accuracy: 0.8078 - val_loss: 0.0361 - val_accuracy: 0.7849 - lr: 0.0010 - 17s/epoch - 19ms/step
Epoch 26/50
876/876 - 18s - loss: 0.0278 - accuracy: 0.8099 - val_loss: 0.0382 - val_accuracy: 0.7731 - lr: 0.0010 - 18s/epoch - 20ms/step
Epoch 27/50
876/876 - 18s - loss: 0.0278 - accuracy: 0.8099 - val_loss: 0.0339 - val_accuracy: 0.7981 - lr: 0.0010 - 18s/epoch - 20ms/step
Epoch 28/50
876/876 - 18s - loss: 0.0277 - accuracy: 0.8098 - val_loss: 0.0337 - val_accuracy: 0.7949 - lr: 0.0010 - 18s/epoch - 20ms/step
Epoch 29/50
876/876 - 18s - loss: 0.0274 - accuracy: 0.8123 - val_loss: 0.0336 - val_accuracy: 0.7989 - lr: 0.0010 - 18s/epoch - 20ms/step
Epoch 30/50
876/876 - 18s - loss: 0.0275 - accuracy: 0.8115 - val_loss: 0.0336 - val_accuracy: 0.7982 - lr: 0.0010 - 18s/epoch - 20ms/step
Epoch 31/50
876/876 - 18s - loss: 0.0274 - accuracy: 0.8120 - val_loss: 0.0332 - val_accuracy: 0.8004 - lr: 0.0010 - 18s/epoch - 20ms/step
Epoch 32/50
876/876 - 18s - loss: 0.0275 - accuracy: 0.8111 - val_loss: 0.0378 - val_accuracy: 0.7608 - lr: 0.0010 - 18s/epoch - 20ms/step
Epoch 33/50
876/876 - 18s - loss: 0.0274 - accuracy: 0.8124 - val_loss: 0.0339 - val_accuracy: 0.8071 - lr: 0.0010 - 18s/epoch - 20ms/step
Epoch 34/50
876/876 - 18s - loss: 0.0275 - accuracy: 0.8120 - val_loss: 0.0374 - val_accuracy: 0.7703 - lr: 0.0010 - 18s/epoch - 20ms/step
Epoch 35/50
876/876 - 18s - loss: 0.0273 - accuracy: 0.8127 - val_loss: 0.0362 - val_accuracy: 0.7869 - lr: 0.0010 - 18s/epoch - 20ms/step
Epoch 36/50
876/876 - 18s - loss: 0.0272 - accuracy: 0.8146 - val_loss: 0.0366 - val_accuracy: 0.7927 - lr: 0.0010 - 18s/epoch - 20ms/step
Epoch 37/50
876/876 - 18s - loss: 0.0274 - accuracy: 0.8120 - val_loss: 0.0385 - val_accuracy: 0.7731 - lr: 0.0010 - 18s/epoch - 20ms/step
Epoch 38/50
876/876 - 18s - loss: 0.0271 - accuracy: 0.8153 - val_loss: 0.0357 - val_accuracy: 0.7695 - lr: 0.0010 - 18s/epoch - 20ms/step
Epoch 39/50
876/876 - 18s - loss: 0.0269 - accuracy: 0.8159 - val_loss: 0.0345 - val_accuracy: 0.7918 - lr: 0.0010 - 18s/epoch - 20ms/step
Epoch 40/50
876/876 - 18s - loss: 0.0270 - accuracy: 0.8169 - val_loss: 0.0389 - val_accuracy: 0.7629 - lr: 0.0010 - 18s/epoch - 20ms/step
Epoch 41/50
876/876 - 18s - loss: 0.0272 - accuracy: 0.8143 - val_loss: 0.0373 - val_accuracy: 0.7780 - lr: 0.0010 - 18s/epoch - 20ms/step
Epoch 42/50
876/876 - 18s - loss: 0.0272 - accuracy: 0.8148 - val_loss: 0.0365 - val_accuracy: 0.7826 - lr: 0.0010 - 18s/epoch - 20ms/step
Epoch 43/50
876/876 - 18s - loss: 0.0271 - accuracy: 0.8155 - val_loss: 0.0396 - val_accuracy: 0.7667 - lr: 0.0010 - 18s/epoch - 20ms/step
Epoch 44/50
876/876 - 18s - loss: 0.0269 - accuracy: 0.8163 - val_loss: 0.0357 - val_accuracy: 0.7756 - lr: 0.0010 - 18s/epoch - 20ms/step
Epoch 45/50
876/876 - 18s - loss: 0.0270 - accuracy: 0.8167 - val_loss: 0.0354 - val_accuracy: 0.7856 - lr: 0.0010 - 18s/epoch - 20ms/step
Epoch 46/50
876/876 - 18s - loss: 0.0270 - accuracy: 0.8156 - val_loss: 0.0359 - val_accuracy: 0.7831 - lr: 0.0010 - 18s/epoch - 20ms/step
Epoch 47/50
876/876 - 18s - loss: 0.0270 - accuracy: 0.8158 - val_loss: 0.0346 - val_accuracy: 0.7902 - lr: 0.0010 - 18s/epoch - 20ms/step
Epoch 48/50
876/876 - 18s - loss: 0.0273 - accuracy: 0.8140 - val_loss: 0.0387 - val_accuracy: 0.7704 - lr: 0.0010 - 18s/epoch - 20ms/step
Epoch 49/50
876/876 - 18s - loss: 0.0269 - accuracy: 0.8166 - val_loss: 0.0366 - val_accuracy: 0.7868 - lr: 0.0010 - 18s/epoch - 20ms/step
Epoch 50/50
876/876 - 18s - loss: 0.0266 - accuracy: 0.8176 - val_loss: 0.0341 - val_accuracy: 0.7934 - lr: 0.0010 - 18s/epoch - 20ms/step
fitting with batch size: 500
Epoch 1/50
176/176 - 11s - loss: 0.0246 - accuracy: 0.8332 - val_loss: 0.0384 - val_accuracy: 0.7718 - lr: 0.0010 - 11s/epoch - 64ms/step
Epoch 2/50
176/176 - 9s - loss: 0.0243 - accuracy: 0.8352 - val_loss: 0.0355 - val_accuracy: 0.7778 - lr: 0.0010 - 9s/epoch - 50ms/step
Epoch 3/50
176/176 - 9s - loss: 0.0242 - accuracy: 0.8357 - val_loss: 0.0374 - val_accuracy: 0.7801 - lr: 0.0010 - 9s/epoch - 51ms/step
Epoch 4/50
176/176 - 9s - loss: 0.0241 - accuracy: 0.8364 - val_loss: 0.0350 - val_accuracy: 0.7805 - lr: 0.0010 - 9s/epoch - 51ms/step
Epoch 5/50
176/176 - 9s - loss: 0.0240 - accuracy: 0.8375 - val_loss: 0.0348 - val_accuracy: 0.7822 - lr: 0.0010 - 9s/epoch - 51ms/step
Epoch 6/50
176/176 - 9s - loss: 0.0241 - accuracy: 0.8371 - val_loss: 0.0339 - val_accuracy: 0.7890 - lr: 0.0010 - 9s/epoch - 51ms/step
Epoch 7/50
176/176 - 9s - loss: 0.0241 - accuracy: 0.8372 - val_loss: 0.0393 - val_accuracy: 0.7640 - lr: 0.0010 - 9s/epoch - 51ms/step
Epoch 8/50
176/176 - 9s - loss: 0.0238 - accuracy: 0.8388 - val_loss: 0.0365 - val_accuracy: 0.7765 - lr: 0.0010 - 9s/epoch - 51ms/step
Epoch 9/50
176/176 - 9s - loss: 0.0240 - accuracy: 0.8376 - val_loss: 0.0351 - val_accuracy: 0.7827 - lr: 0.0010 - 9s/epoch - 51ms/step
Epoch 10/50
176/176 - 9s - loss: 0.0238 - accuracy: 0.8383 - val_loss: 0.0388 - val_accuracy: 0.7708 - lr: 0.0010 - 9s/epoch - 51ms/step
Epoch 11/50
176/176 - 9s - loss: 0.0240 - accuracy: 0.8379 - val_loss: 0.0374 - val_accuracy: 0.7779 - lr: 0.0010 - 9s/epoch - 51ms/step
Epoch 12/50
176/176 - 9s - loss: 0.0237 - accuracy: 0.8400 - val_loss: 0.0372 - val_accuracy: 0.7778 - lr: 0.0010 - 9s/epoch - 51ms/step
Epoch 13/50
176/176 - 9s - loss: 0.0235 - accuracy: 0.8407 - val_loss: 0.0362 - val_accuracy: 0.7768 - lr: 0.0010 - 9s/epoch - 51ms/step
Epoch 14/50
176/176 - 9s - loss: 0.0236 - accuracy: 0.8402 - val_loss: 0.0374 - val_accuracy: 0.7797 - lr: 0.0010 - 9s/epoch - 51ms/step
Epoch 15/50
176/176 - 9s - loss: 0.0234 - accuracy: 0.8423 - val_loss: 0.0393 - val_accuracy: 0.7675 - lr: 0.0010 - 9s/epoch - 51ms/step
Epoch 16/50
176/176 - 9s - loss: 0.0234 - accuracy: 0.8423 - val_loss: 0.0364 - val_accuracy: 0.7768 - lr: 0.0010 - 9s/epoch - 51ms/step
Epoch 17/50
176/176 - 9s - loss: 0.0232 - accuracy: 0.8431 - val_loss: 0.0363 - val_accuracy: 0.7820 - lr: 0.0010 - 9s/epoch - 51ms/step
Epoch 18/50
176/176 - 9s - loss: 0.0233 - accuracy: 0.8435 - val_loss: 0.0348 - val_accuracy: 0.7875 - lr: 0.0010 - 9s/epoch - 51ms/step
Epoch 19/50
176/176 - 9s - loss: 0.0235 - accuracy: 0.8417 - val_loss: 0.0390 - val_accuracy: 0.7656 - lr: 0.0010 - 9s/epoch - 51ms/step
Epoch 20/50
176/176 - 9s - loss: 0.0232 - accuracy: 0.8439 - val_loss: 0.0362 - val_accuracy: 0.7813 - lr: 0.0010 - 9s/epoch - 51ms/step
Epoch 21/50
176/176 - 9s - loss: 0.0232 - accuracy: 0.8451 - val_loss: 0.0373 - val_accuracy: 0.7765 - lr: 0.0010 - 9s/epoch - 51ms/step
Epoch 22/50
176/176 - 9s - loss: 0.0232 - accuracy: 0.8437 - val_loss: 0.0357 - val_accuracy: 0.7850 - lr: 0.0010 - 9s/epoch - 51ms/step
Epoch 23/50
176/176 - 9s - loss: 0.0232 - accuracy: 0.8432 - val_loss: 0.0386 - val_accuracy: 0.7675 - lr: 0.0010 - 9s/epoch - 51ms/step
Epoch 24/50
176/176 - 9s - loss: 0.0234 - accuracy: 0.8425 - val_loss: 0.0371 - val_accuracy: 0.7778 - lr: 0.0010 - 9s/epoch - 51ms/step
Epoch 25/50
176/176 - 9s - loss: 0.0231 - accuracy: 0.8448 - val_loss: 0.0369 - val_accuracy: 0.7761 - lr: 0.0010 - 9s/epoch - 51ms/step
Epoch 26/50
176/176 - 9s - loss: 0.0230 - accuracy: 0.8458 - val_loss: 0.0379 - val_accuracy: 0.7666 - lr: 0.0010 - 9s/epoch - 51ms/step
Epoch 27/50
176/176 - 9s - loss: 0.0230 - accuracy: 0.8443 - val_loss: 0.0350 - val_accuracy: 0.7844 - lr: 0.0010 - 9s/epoch - 51ms/step
Epoch 28/50
176/176 - 9s - loss: 0.0229 - accuracy: 0.8463 - val_loss: 0.0377 - val_accuracy: 0.7782 - lr: 0.0010 - 9s/epoch - 51ms/step
Epoch 29/50
176/176 - 9s - loss: 0.0230 - accuracy: 0.8453 - val_loss: 0.0370 - val_accuracy: 0.7778 - lr: 0.0010 - 9s/epoch - 51ms/step
Epoch 30/50
176/176 - 9s - loss: 0.0228 - accuracy: 0.8475 - val_loss: 0.0386 - val_accuracy: 0.7629 - lr: 0.0010 - 9s/epoch - 51ms/step
Epoch 31/50
176/176 - 9s - loss: 0.0230 - accuracy: 0.8460 - val_loss: 0.0374 - val_accuracy: 0.7729 - lr: 0.0010 - 9s/epoch - 51ms/step
Epoch 32/50
176/176 - 9s - loss: 0.0228 - accuracy: 0.8476 - val_loss: 0.0394 - val_accuracy: 0.7604 - lr: 0.0010 - 9s/epoch - 51ms/step
Epoch 33/50
176/176 - 9s - loss: 0.0228 - accuracy: 0.8471 - val_loss: 0.0356 - val_accuracy: 0.7837 - lr: 0.0010 - 9s/epoch - 51ms/step
Epoch 34/50
176/176 - 9s - loss: 0.0226 - accuracy: 0.8492 - val_loss: 0.0370 - val_accuracy: 0.7736 - lr: 0.0010 - 9s/epoch - 51ms/step
Epoch 35/50
176/176 - 9s - loss: 0.0226 - accuracy: 0.8489 - val_loss: 0.0378 - val_accuracy: 0.7703 - lr: 0.0010 - 9s/epoch - 51ms/step
Epoch 36/50
176/176 - 9s - loss: 0.0228 - accuracy: 0.8471 - val_loss: 0.0363 - val_accuracy: 0.7790 - lr: 0.0010 - 9s/epoch - 51ms/step
Epoch 37/50
176/176 - 9s - loss: 0.0225 - accuracy: 0.8484 - val_loss: 0.0352 - val_accuracy: 0.7893 - lr: 0.0010 - 9s/epoch - 51ms/step
Epoch 38/50
176/176 - 9s - loss: 0.0228 - accuracy: 0.8475 - val_loss: 0.0397 - val_accuracy: 0.7696 - lr: 0.0010 - 9s/epoch - 51ms/step
Epoch 39/50
176/176 - 9s - loss: 0.0225 - accuracy: 0.8490 - val_loss: 0.0370 - val_accuracy: 0.7819 - lr: 0.0010 - 9s/epoch - 51ms/step
Epoch 40/50
176/176 - 9s - loss: 0.0226 - accuracy: 0.8490 - val_loss: 0.0367 - val_accuracy: 0.7753 - lr: 0.0010 - 9s/epoch - 51ms/step
Epoch 41/50
176/176 - 9s - loss: 0.0229 - accuracy: 0.8469 - val_loss: 0.0370 - val_accuracy: 0.7767 - lr: 0.0010 - 9s/epoch - 51ms/step
Epoch 42/50
176/176 - 9s - loss: 0.0223 - accuracy: 0.8506 - val_loss: 0.0402 - val_accuracy: 0.7611 - lr: 0.0010 - 9s/epoch - 51ms/step
Epoch 43/50
176/176 - 9s - loss: 0.0224 - accuracy: 0.8508 - val_loss: 0.0372 - val_accuracy: 0.7743 - lr: 0.0010 - 9s/epoch - 51ms/step
Epoch 44/50
176/176 - 9s - loss: 0.0229 - accuracy: 0.8462 - val_loss: 0.0399 - val_accuracy: 0.7631 - lr: 0.0010 - 9s/epoch - 51ms/step
Epoch 45/50
176/176 - 9s - loss: 0.0225 - accuracy: 0.8496 - val_loss: 0.0384 - val_accuracy: 0.7699 - lr: 0.0010 - 9s/epoch - 51ms/step
Epoch 46/50
176/176 - 9s - loss: 0.0224 - accuracy: 0.8505 - val_loss: 0.0346 - val_accuracy: 0.7872 - lr: 0.0010 - 9s/epoch - 51ms/step
Epoch 47/50
176/176 - 9s - loss: 0.0222 - accuracy: 0.8517 - val_loss: 0.0370 - val_accuracy: 0.7855 - lr: 0.0010 - 9s/epoch - 51ms/step
Epoch 48/50
176/176 - 9s - loss: 0.0221 - accuracy: 0.8519 - val_loss: 0.0361 - val_accuracy: 0.7892 - lr: 0.0010 - 9s/epoch - 51ms/step
Epoch 49/50
176/176 - 9s - loss: 0.0223 - accuracy: 0.8508 - val_loss: 0.0416 - val_accuracy: 0.7537 - lr: 0.0010 - 9s/epoch - 51ms/step
Epoch 50/50
176/176 - 9s - loss: 0.0222 - accuracy: 0.8516 - val_loss: 0.0397 - val_accuracy: 0.7632 - lr: 0.0010 - 9s/epoch - 51ms/step
Loss: kullback_leibler_divergence
Epoch number: 25
fitting with batch size: 20
Epoch 1/25
4378/4378 - 77s - loss: 0.6720 - accuracy: 0.7792 - val_loss: 0.7897 - val_accuracy: 0.7896 - lr: 0.0010 - 77s/epoch - 18ms/step
Epoch 2/25
4378/4378 - 74s - loss: 0.6698 - accuracy: 0.7761 - val_loss: 0.6537 - val_accuracy: 0.7879 - lr: 0.0010 - 74s/epoch - 17ms/step
Epoch 3/25
4378/4378 - 74s - loss: 0.6768 - accuracy: 0.7732 - val_loss: 0.7407 - val_accuracy: 0.7511 - lr: 0.0010 - 74s/epoch - 17ms/step
Epoch 4/25
4378/4378 - 74s - loss: 0.6698 - accuracy: 0.7746 - val_loss: 0.7010 - val_accuracy: 0.7646 - lr: 0.0010 - 74s/epoch - 17ms/step
Epoch 5/25
4378/4378 - 74s - loss: 0.6702 - accuracy: 0.7751 - val_loss: 0.6215 - val_accuracy: 0.8144 - lr: 0.0010 - 74s/epoch - 17ms/step
Epoch 6/25
4378/4378 - 74s - loss: 0.6743 - accuracy: 0.7722 - val_loss: 0.5424 - val_accuracy: 0.8329 - lr: 0.0010 - 74s/epoch - 17ms/step
Epoch 7/25
4378/4378 - 74s - loss: 0.6728 - accuracy: 0.7714 - val_loss: 0.8098 - val_accuracy: 0.7478 - lr: 0.0010 - 74s/epoch - 17ms/step
Epoch 8/25
4378/4378 - 73s - loss: 0.6776 - accuracy: 0.7682 - val_loss: 0.6957 - val_accuracy: 0.7889 - lr: 0.0010 - 73s/epoch - 17ms/step
Epoch 9/25
4378/4378 - 74s - loss: 0.6699 - accuracy: 0.7716 - val_loss: 0.6848 - val_accuracy: 0.8032 - lr: 0.0010 - 74s/epoch - 17ms/step
Epoch 10/25
4378/4378 - 74s - loss: 0.6718 - accuracy: 0.7722 - val_loss: 0.6846 - val_accuracy: 0.8042 - lr: 0.0010 - 74s/epoch - 17ms/step
Epoch 11/25
4378/4378 - 74s - loss: 0.6787 - accuracy: 0.7670 - val_loss: 0.6794 - val_accuracy: 0.7651 - lr: 0.0010 - 74s/epoch - 17ms/step
Epoch 12/25
4378/4378 - 74s - loss: 0.6742 - accuracy: 0.7683 - val_loss: 0.7134 - val_accuracy: 0.7780 - lr: 0.0010 - 74s/epoch - 17ms/step
Epoch 13/25
4378/4378 - 74s - loss: 0.6790 - accuracy: 0.7680 - val_loss: 0.6901 - val_accuracy: 0.7840 - lr: 0.0010 - 74s/epoch - 17ms/step
Epoch 14/25
4378/4378 - 74s - loss: 0.6804 - accuracy: 0.7663 - val_loss: 0.6861 - val_accuracy: 0.7719 - lr: 0.0010 - 74s/epoch - 17ms/step
Epoch 15/25
4378/4378 - 74s - loss: 0.6860 - accuracy: 0.7632 - val_loss: 0.7213 - val_accuracy: 0.7622 - lr: 0.0010 - 74s/epoch - 17ms/step
Epoch 16/25
4378/4378 - 74s - loss: 0.6751 - accuracy: 0.7682 - val_loss: 0.8655 - val_accuracy: 0.7212 - lr: 0.0010 - 74s/epoch - 17ms/step
Epoch 17/25
4378/4378 - 74s - loss: 0.6884 - accuracy: 0.7642 - val_loss: 0.7142 - val_accuracy: 0.7917 - lr: 0.0010 - 74s/epoch - 17ms/step
Epoch 18/25
4378/4378 - 74s - loss: 0.6803 - accuracy: 0.7661 - val_loss: 0.8807 - val_accuracy: 0.7283 - lr: 0.0010 - 74s/epoch - 17ms/step
Epoch 19/25
4378/4378 - 74s - loss: 0.6819 - accuracy: 0.7639 - val_loss: 0.6988 - val_accuracy: 0.7767 - lr: 0.0010 - 74s/epoch - 17ms/step
Epoch 20/25
4378/4378 - 74s - loss: 0.6795 - accuracy: 0.7645 - val_loss: 0.7851 - val_accuracy: 0.7568 - lr: 0.0010 - 74s/epoch - 17ms/step
Epoch 21/25
4378/4378 - 75s - loss: 0.6759 - accuracy: 0.7652 - val_loss: 0.7754 - val_accuracy: 0.7588 - lr: 0.0010 - 75s/epoch - 17ms/step
Epoch 22/25
4378/4378 - 75s - loss: 0.6857 - accuracy: 0.7646 - val_loss: 0.7244 - val_accuracy: 0.7605 - lr: 0.0010 - 75s/epoch - 17ms/step
Epoch 23/25
4378/4378 - 74s - loss: 0.6880 - accuracy: 0.7643 - val_loss: 0.8942 - val_accuracy: 0.7347 - lr: 0.0010 - 74s/epoch - 17ms/step
Epoch 24/25
4378/4378 - 74s - loss: 0.6986 - accuracy: 0.7606 - val_loss: 0.6835 - val_accuracy: 0.7738 - lr: 0.0010 - 74s/epoch - 17ms/step
Epoch 25/25
4378/4378 - 75s - loss: 0.6901 - accuracy: 0.7598 - val_loss: 0.7663 - val_accuracy: 0.7884 - lr: 0.0010 - 75s/epoch - 17ms/step
fitting with batch size: 100
Epoch 1/25
876/876 - 20s - loss: 0.6164 - accuracy: 0.7839 - val_loss: 0.6932 - val_accuracy: 0.7705 - lr: 0.0010 - 20s/epoch - 23ms/step
Epoch 2/25
876/876 - 18s - loss: 0.5937 - accuracy: 0.7915 - val_loss: 0.7168 - val_accuracy: 0.7447 - lr: 0.0010 - 18s/epoch - 21ms/step
Epoch 3/25
876/876 - 18s - loss: 0.5850 - accuracy: 0.7951 - val_loss: 0.6274 - val_accuracy: 0.7750 - lr: 0.0010 - 18s/epoch - 20ms/step
Epoch 4/25
876/876 - 18s - loss: 0.5714 - accuracy: 0.8010 - val_loss: 0.7469 - val_accuracy: 0.7546 - lr: 0.0010 - 18s/epoch - 21ms/step
Epoch 5/25
876/876 - 18s - loss: 0.5706 - accuracy: 0.8010 - val_loss: 0.7565 - val_accuracy: 0.7452 - lr: 0.0010 - 18s/epoch - 21ms/step
Epoch 6/25
876/876 - 18s - loss: 0.5621 - accuracy: 0.8042 - val_loss: 0.6518 - val_accuracy: 0.7589 - lr: 0.0010 - 18s/epoch - 20ms/step
Epoch 7/25
876/876 - 18s - loss: 0.5612 - accuracy: 0.8052 - val_loss: 0.7334 - val_accuracy: 0.7776 - lr: 0.0010 - 18s/epoch - 20ms/step
Epoch 8/25
876/876 - 18s - loss: 0.5600 - accuracy: 0.8055 - val_loss: 0.7098 - val_accuracy: 0.7647 - lr: 0.0010 - 18s/epoch - 21ms/step
Epoch 9/25
876/876 - 18s - loss: 0.5573 - accuracy: 0.8055 - val_loss: 0.6696 - val_accuracy: 0.7644 - lr: 0.0010 - 18s/epoch - 20ms/step
Epoch 10/25
876/876 - 18s - loss: 0.5541 - accuracy: 0.8061 - val_loss: 0.6234 - val_accuracy: 0.7891 - lr: 0.0010 - 18s/epoch - 20ms/step
Epoch 11/25
876/876 - 18s - loss: 0.5466 - accuracy: 0.8104 - val_loss: 0.7232 - val_accuracy: 0.7580 - lr: 0.0010 - 18s/epoch - 20ms/step
Epoch 12/25
876/876 - 18s - loss: 0.5520 - accuracy: 0.8076 - val_loss: 0.6626 - val_accuracy: 0.7830 - lr: 0.0010 - 18s/epoch - 21ms/step
Epoch 13/25
876/876 - 18s - loss: 0.5512 - accuracy: 0.8077 - val_loss: 0.6524 - val_accuracy: 0.7862 - lr: 0.0010 - 18s/epoch - 20ms/step
Epoch 14/25
876/876 - 18s - loss: 0.5490 - accuracy: 0.8089 - val_loss: 0.6807 - val_accuracy: 0.7554 - lr: 0.0010 - 18s/epoch - 20ms/step
Epoch 15/25
876/876 - 18s - loss: 0.5479 - accuracy: 0.8097 - val_loss: 0.7139 - val_accuracy: 0.7536 - lr: 0.0010 - 18s/epoch - 21ms/step
Epoch 16/25
876/876 - 18s - loss: 0.5446 - accuracy: 0.8111 - val_loss: 0.6862 - val_accuracy: 0.7823 - lr: 0.0010 - 18s/epoch - 20ms/step
Epoch 17/25
876/876 - 19s - loss: 0.5411 - accuracy: 0.8114 - val_loss: 0.6903 - val_accuracy: 0.7647 - lr: 0.0010 - 19s/epoch - 21ms/step
Epoch 18/25
876/876 - 18s - loss: 0.5418 - accuracy: 0.8114 - val_loss: 0.7256 - val_accuracy: 0.7658 - lr: 0.0010 - 18s/epoch - 21ms/step
Epoch 19/25
876/876 - 18s - loss: 0.5444 - accuracy: 0.8102 - val_loss: 0.6530 - val_accuracy: 0.7631 - lr: 0.0010 - 18s/epoch - 20ms/step
Epoch 20/25
876/876 - 18s - loss: 0.5383 - accuracy: 0.8123 - val_loss: 0.6168 - val_accuracy: 0.7803 - lr: 0.0010 - 18s/epoch - 20ms/step
Epoch 21/25
876/876 - 18s - loss: 0.5343 - accuracy: 0.8134 - val_loss: 0.7371 - val_accuracy: 0.7366 - lr: 0.0010 - 18s/epoch - 20ms/step
Epoch 22/25
876/876 - 18s - loss: 0.5408 - accuracy: 0.8115 - val_loss: 0.6742 - val_accuracy: 0.7649 - lr: 0.0010 - 18s/epoch - 20ms/step
Epoch 23/25
876/876 - 18s - loss: 0.5375 - accuracy: 0.8128 - val_loss: 0.7322 - val_accuracy: 0.7555 - lr: 0.0010 - 18s/epoch - 20ms/step
Epoch 24/25
876/876 - 18s - loss: 0.5392 - accuracy: 0.8129 - val_loss: 0.6424 - val_accuracy: 0.7815 - lr: 0.0010 - 18s/epoch - 21ms/step
Epoch 25/25
876/876 - 18s - loss: 0.5346 - accuracy: 0.8139 - val_loss: 0.6638 - val_accuracy: 0.7860 - lr: 0.0010 - 18s/epoch - 20ms/step
fitting with batch size: 500
Epoch 1/25
176/176 - 11s - loss: 0.4969 - accuracy: 0.8266 - val_loss: 0.6485 - val_accuracy: 0.7700 - lr: 0.0010 - 11s/epoch - 63ms/step
Epoch 2/25
176/176 - 9s - loss: 0.4938 - accuracy: 0.8275 - val_loss: 0.6779 - val_accuracy: 0.7722 - lr: 0.0010 - 9s/epoch - 50ms/step
Epoch 3/25
176/176 - 9s - loss: 0.4855 - accuracy: 0.8310 - val_loss: 0.6797 - val_accuracy: 0.7653 - lr: 0.0010 - 9s/epoch - 50ms/step
Epoch 4/25
176/176 - 9s - loss: 0.4897 - accuracy: 0.8299 - val_loss: 0.6499 - val_accuracy: 0.7747 - lr: 0.0010 - 9s/epoch - 50ms/step
Epoch 5/25
176/176 - 9s - loss: 0.4865 - accuracy: 0.8308 - val_loss: 0.6764 - val_accuracy: 0.7640 - lr: 0.0010 - 9s/epoch - 50ms/step
Epoch 6/25
176/176 - 9s - loss: 0.4832 - accuracy: 0.8332 - val_loss: 0.6556 - val_accuracy: 0.7775 - lr: 0.0010 - 9s/epoch - 51ms/step
Epoch 7/25
176/176 - 9s - loss: 0.4790 - accuracy: 0.8336 - val_loss: 0.7013 - val_accuracy: 0.7646 - lr: 0.0010 - 9s/epoch - 50ms/step
Epoch 8/25
176/176 - 9s - loss: 0.4846 - accuracy: 0.8317 - val_loss: 0.7630 - val_accuracy: 0.7462 - lr: 0.0010 - 9s/epoch - 50ms/step
Epoch 9/25
176/176 - 9s - loss: 0.4779 - accuracy: 0.8347 - val_loss: 0.6381 - val_accuracy: 0.7753 - lr: 0.0010 - 9s/epoch - 50ms/step
Epoch 10/25
176/176 - 9s - loss: 0.4767 - accuracy: 0.8346 - val_loss: 0.6657 - val_accuracy: 0.7721 - lr: 0.0010 - 9s/epoch - 51ms/step
Epoch 11/25
176/176 - 9s - loss: 0.4753 - accuracy: 0.8358 - val_loss: 0.6416 - val_accuracy: 0.7768 - lr: 0.0010 - 9s/epoch - 50ms/step
Epoch 12/25
176/176 - 9s - loss: 0.4782 - accuracy: 0.8352 - val_loss: 0.6414 - val_accuracy: 0.7716 - lr: 0.0010 - 9s/epoch - 50ms/step
Epoch 13/25
176/176 - 9s - loss: 0.4734 - accuracy: 0.8364 - val_loss: 0.6807 - val_accuracy: 0.7681 - lr: 0.0010 - 9s/epoch - 50ms/step
Epoch 14/25
176/176 - 9s - loss: 0.4719 - accuracy: 0.8369 - val_loss: 0.6825 - val_accuracy: 0.7607 - lr: 0.0010 - 9s/epoch - 50ms/step
Epoch 15/25
176/176 - 9s - loss: 0.4743 - accuracy: 0.8349 - val_loss: 0.7086 - val_accuracy: 0.7379 - lr: 0.0010 - 9s/epoch - 50ms/step
Epoch 16/25
176/176 - 9s - loss: 0.4730 - accuracy: 0.8356 - val_loss: 0.6904 - val_accuracy: 0.7613 - lr: 0.0010 - 9s/epoch - 51ms/step
Epoch 17/25
176/176 - 9s - loss: 0.4755 - accuracy: 0.8351 - val_loss: 0.6798 - val_accuracy: 0.7631 - lr: 0.0010 - 9s/epoch - 50ms/step
Epoch 18/25
176/176 - 9s - loss: 0.4709 - accuracy: 0.8376 - val_loss: 0.6925 - val_accuracy: 0.7600 - lr: 0.0010 - 9s/epoch - 50ms/step
Epoch 19/25
176/176 - 9s - loss: 0.4659 - accuracy: 0.8388 - val_loss: 0.7192 - val_accuracy: 0.7569 - lr: 0.0010 - 9s/epoch - 50ms/step
Epoch 20/25
176/176 - 9s - loss: 0.4713 - accuracy: 0.8376 - val_loss: 0.6737 - val_accuracy: 0.7703 - lr: 0.0010 - 9s/epoch - 51ms/step
Epoch 21/25
176/176 - 9s - loss: 0.4673 - accuracy: 0.8389 - val_loss: 0.6317 - val_accuracy: 0.7802 - lr: 0.0010 - 9s/epoch - 50ms/step
Epoch 22/25
176/176 - 9s - loss: 0.4633 - accuracy: 0.8408 - val_loss: 0.7075 - val_accuracy: 0.7511 - lr: 0.0010 - 9s/epoch - 51ms/step
Epoch 23/25
176/176 - 9s - loss: 0.4651 - accuracy: 0.8391 - val_loss: 0.6184 - val_accuracy: 0.7835 - lr: 0.0010 - 9s/epoch - 50ms/step
Epoch 24/25
176/176 - 9s - loss: 0.4612 - accuracy: 0.8410 - val_loss: 0.6614 - val_accuracy: 0.7674 - lr: 0.0010 - 9s/epoch - 50ms/step
Epoch 25/25
176/176 - 9s - loss: 0.4665 - accuracy: 0.8383 - val_loss: 0.6897 - val_accuracy: 0.7589 - lr: 0.0010 - 9s/epoch - 50ms/step
Epoch number: 50
fitting with batch size: 20
Epoch 1/50
4378/4378 - 76s - loss: 0.6353 - accuracy: 0.7796 - val_loss: 0.7902 - val_accuracy: 0.7485 - lr: 0.0010 - 76s/epoch - 17ms/step
Epoch 2/50
4378/4378 - 75s - loss: 0.6476 - accuracy: 0.7743 - val_loss: 0.7569 - val_accuracy: 0.7602 - lr: 0.0010 - 75s/epoch - 17ms/step
Epoch 3/50
4378/4378 - 75s - loss: 0.6545 - accuracy: 0.7715 - val_loss: 0.7510 - val_accuracy: 0.7499 - lr: 0.0010 - 75s/epoch - 17ms/step
Epoch 4/50
4378/4378 - 76s - loss: 0.6733 - accuracy: 0.7658 - val_loss: 0.7923 - val_accuracy: 0.7567 - lr: 0.0010 - 76s/epoch - 17ms/step
Epoch 5/50
4378/4378 - 76s - loss: 0.6627 - accuracy: 0.7700 - val_loss: 0.7673 - val_accuracy: 0.7682 - lr: 0.0010 - 76s/epoch - 17ms/step
Epoch 6/50
4378/4378 - 76s - loss: 0.6675 - accuracy: 0.7692 - val_loss: 0.8022 - val_accuracy: 0.7483 - lr: 0.0010 - 76s/epoch - 17ms/step
Epoch 7/50
4378/4378 - 75s - loss: 0.6607 - accuracy: 0.7691 - val_loss: 0.7445 - val_accuracy: 0.7605 - lr: 0.0010 - 75s/epoch - 17ms/step
Epoch 8/50
4378/4378 - 76s - loss: 0.6672 - accuracy: 0.7678 - val_loss: 0.7190 - val_accuracy: 0.7513 - lr: 0.0010 - 76s/epoch - 17ms/step
Epoch 9/50
4378/4378 - 76s - loss: 0.6761 - accuracy: 0.7637 - val_loss: 0.7818 - val_accuracy: 0.7998 - lr: 0.0010 - 76s/epoch - 17ms/step
Epoch 10/50
4378/4378 - 76s - loss: 0.6752 - accuracy: 0.7635 - val_loss: 0.8392 - val_accuracy: 0.7308 - lr: 0.0010 - 76s/epoch - 17ms/step
Epoch 11/50
4378/4378 - 76s - loss: 0.6805 - accuracy: 0.7615 - val_loss: 0.7419 - val_accuracy: 0.7483 - lr: 0.0010 - 76s/epoch - 17ms/step
Epoch 12/50
4378/4378 - 76s - loss: 0.6784 - accuracy: 0.7620 - val_loss: 0.7168 - val_accuracy: 0.7906 - lr: 0.0010 - 76s/epoch - 17ms/step
Epoch 13/50
4378/4378 - 76s - loss: 0.6731 - accuracy: 0.7642 - val_loss: 0.7842 - val_accuracy: 0.7539 - lr: 0.0010 - 76s/epoch - 17ms/step
Epoch 14/50
4378/4378 - 76s - loss: 0.6749 - accuracy: 0.7644 - val_loss: 0.6671 - val_accuracy: 0.7890 - lr: 0.0010 - 76s/epoch - 17ms/step
Epoch 15/50
4378/4378 - 76s - loss: 0.6899 - accuracy: 0.7598 - val_loss: 0.6413 - val_accuracy: 0.8093 - lr: 0.0010 - 76s/epoch - 17ms/step
Epoch 16/50
4378/4378 - 75s - loss: 0.6860 - accuracy: 0.7600 - val_loss: 0.7949 - val_accuracy: 0.7707 - lr: 0.0010 - 75s/epoch - 17ms/step
Epoch 17/50
4378/4378 - 75s - loss: 0.6995 - accuracy: 0.7574 - val_loss: 0.7475 - val_accuracy: 0.7308 - lr: 0.0010 - 75s/epoch - 17ms/step
Epoch 18/50
4378/4378 - 75s - loss: 0.6896 - accuracy: 0.7585 - val_loss: 0.7375 - val_accuracy: 0.7900 - lr: 0.0010 - 75s/epoch - 17ms/step
Epoch 19/50
4378/4378 - 74s - loss: 0.6920 - accuracy: 0.7567 - val_loss: 0.7061 - val_accuracy: 0.7660 - lr: 0.0010 - 74s/epoch - 17ms/step
Epoch 20/50
4378/4378 - 75s - loss: 0.6982 - accuracy: 0.7562 - val_loss: 0.6329 - val_accuracy: 0.8107 - lr: 0.0010 - 75s/epoch - 17ms/step
Epoch 21/50
4378/4378 - 74s - loss: 0.6971 - accuracy: 0.7569 - val_loss: 0.7531 - val_accuracy: 0.7631 - lr: 0.0010 - 74s/epoch - 17ms/step
Epoch 22/50
4378/4378 - 75s - loss: 0.6873 - accuracy: 0.7584 - val_loss: 0.7158 - val_accuracy: 0.7986 - lr: 0.0010 - 75s/epoch - 17ms/step
Epoch 23/50
4378/4378 - 75s - loss: 0.6860 - accuracy: 0.7599 - val_loss: 0.8386 - val_accuracy: 0.7505 - lr: 0.0010 - 75s/epoch - 17ms/step
Epoch 24/50
4378/4378 - 74s - loss: 0.6920 - accuracy: 0.7576 - val_loss: 0.6509 - val_accuracy: 0.8032 - lr: 0.0010 - 74s/epoch - 17ms/step
Epoch 25/50
4378/4378 - 75s - loss: 0.6909 - accuracy: 0.7571 - val_loss: 0.7232 - val_accuracy: 0.7992 - lr: 0.0010 - 75s/epoch - 17ms/step
Epoch 26/50
4378/4378 - 75s - loss: 0.7023 - accuracy: 0.7528 - val_loss: 0.7776 - val_accuracy: 0.7411 - lr: 0.0010 - 75s/epoch - 17ms/step
Epoch 27/50
4378/4378 - 75s - loss: 0.6950 - accuracy: 0.7554 - val_loss: 0.7112 - val_accuracy: 0.7817 - lr: 0.0010 - 75s/epoch - 17ms/step
Epoch 28/50
4378/4378 - 74s - loss: 0.6972 - accuracy: 0.7527 - val_loss: 0.7030 - val_accuracy: 0.8073 - lr: 0.0010 - 74s/epoch - 17ms/step
Epoch 29/50
4378/4378 - 75s - loss: 0.6981 - accuracy: 0.7572 - val_loss: 0.8060 - val_accuracy: 0.7602 - lr: 0.0010 - 75s/epoch - 17ms/step
Epoch 30/50
4378/4378 - 74s - loss: 0.7094 - accuracy: 0.7545 - val_loss: 0.7285 - val_accuracy: 0.7619 - lr: 0.0010 - 74s/epoch - 17ms/step
Epoch 31/50
4378/4378 - 75s - loss: 0.6932 - accuracy: 0.7571 - val_loss: 0.7939 - val_accuracy: 0.7539 - lr: 0.0010 - 75s/epoch - 17ms/step
Epoch 32/50
4378/4378 - 74s - loss: 0.7005 - accuracy: 0.7543 - val_loss: 0.7095 - val_accuracy: 0.7755 - lr: 0.0010 - 74s/epoch - 17ms/step
Epoch 33/50
4378/4378 - 74s - loss: 0.7038 - accuracy: 0.7546 - val_loss: 0.7896 - val_accuracy: 0.7384 - lr: 0.0010 - 74s/epoch - 17ms/step
Epoch 34/50
4378/4378 - 75s - loss: 0.6976 - accuracy: 0.7535 - val_loss: 0.8960 - val_accuracy: 0.7342 - lr: 0.0010 - 75s/epoch - 17ms/step
Epoch 35/50
4378/4378 - 74s - loss: 0.7176 - accuracy: 0.7495 - val_loss: 0.8290 - val_accuracy: 0.7272 - lr: 0.0010 - 74s/epoch - 17ms/step
Epoch 36/50
4378/4378 - 74s - loss: 0.7034 - accuracy: 0.7531 - val_loss: 0.6822 - val_accuracy: 0.8226 - lr: 0.0010 - 74s/epoch - 17ms/step
Epoch 37/50
4378/4378 - 74s - loss: 0.7102 - accuracy: 0.7518 - val_loss: 0.7222 - val_accuracy: 0.7640 - lr: 0.0010 - 74s/epoch - 17ms/step
Epoch 38/50
4378/4378 - 74s - loss: 0.7575 - accuracy: 0.7442 - val_loss: 0.8254 - val_accuracy: 0.7329 - lr: 0.0010 - 74s/epoch - 17ms/step
Epoch 39/50
4378/4378 - 75s - loss: 0.7114 - accuracy: 0.7514 - val_loss: 0.6289 - val_accuracy: 0.8183 - lr: 0.0010 - 75s/epoch - 17ms/step
Epoch 40/50
4378/4378 - 75s - loss: 0.7114 - accuracy: 0.7501 - val_loss: 0.8483 - val_accuracy: 0.7517 - lr: 0.0010 - 75s/epoch - 17ms/step
Epoch 41/50
4378/4378 - 74s - loss: 0.7185 - accuracy: 0.7471 - val_loss: 0.8280 - val_accuracy: 0.7343 - lr: 0.0010 - 74s/epoch - 17ms/step
Epoch 42/50
4378/4378 - 75s - loss: 0.7244 - accuracy: 0.7457 - val_loss: 0.7413 - val_accuracy: 0.7437 - lr: 0.0010 - 75s/epoch - 17ms/step
Epoch 43/50
4378/4378 - 75s - loss: 0.7233 - accuracy: 0.7447 - val_loss: 0.6744 - val_accuracy: 0.7813 - lr: 0.0010 - 75s/epoch - 17ms/step
Epoch 44/50
4378/4378 - 74s - loss: 0.7206 - accuracy: 0.7466 - val_loss: 0.5904 - val_accuracy: 0.8093 - lr: 0.0010 - 74s/epoch - 17ms/step
Epoch 45/50
4378/4378 - 75s - loss: 0.7208 - accuracy: 0.7459 - val_loss: 0.8077 - val_accuracy: 0.7587 - lr: 0.0010 - 75s/epoch - 17ms/step
Epoch 46/50
4378/4378 - 75s - loss: 0.7289 - accuracy: 0.7444 - val_loss: 0.8049 - val_accuracy: 0.7188 - lr: 0.0010 - 75s/epoch - 17ms/step
Epoch 47/50
4378/4378 - 74s - loss: 0.7310 - accuracy: 0.7457 - val_loss: 0.7982 - val_accuracy: 0.7432 - lr: 0.0010 - 74s/epoch - 17ms/step
Epoch 48/50
4378/4378 - 75s - loss: 0.7215 - accuracy: 0.7452 - val_loss: 0.8052 - val_accuracy: 0.7466 - lr: 0.0010 - 75s/epoch - 17ms/step
Epoch 49/50
4378/4378 - 75s - loss: 0.7284 - accuracy: 0.7431 - val_loss: 0.5804 - val_accuracy: 0.8302 - lr: 0.0010 - 75s/epoch - 17ms/step
Epoch 50/50
4378/4378 - 75s - loss: 0.7237 - accuracy: 0.7459 - val_loss: 0.7610 - val_accuracy: 0.7262 - lr: 0.0010 - 75s/epoch - 17ms/step
fitting with batch size: 100
Epoch 1/50
876/876 - 20s - loss: 0.6320 - accuracy: 0.7744 - val_loss: 0.7117 - val_accuracy: 0.7429 - lr: 0.0010 - 20s/epoch - 23ms/step
Epoch 2/50
876/876 - 18s - loss: 0.6232 - accuracy: 0.7773 - val_loss: 0.7709 - val_accuracy: 0.7192 - lr: 0.0010 - 18s/epoch - 20ms/step
Epoch 3/50
876/876 - 18s - loss: 0.6072 - accuracy: 0.7837 - val_loss: 0.7284 - val_accuracy: 0.7531 - lr: 0.0010 - 18s/epoch - 20ms/step
Epoch 4/50
876/876 - 18s - loss: 0.6076 - accuracy: 0.7835 - val_loss: 0.6823 - val_accuracy: 0.7563 - lr: 0.0010 - 18s/epoch - 20ms/step
Epoch 5/50
876/876 - 18s - loss: 0.5997 - accuracy: 0.7851 - val_loss: 0.7812 - val_accuracy: 0.7380 - lr: 0.0010 - 18s/epoch - 20ms/step
Epoch 6/50
876/876 - 18s - loss: 0.5926 - accuracy: 0.7888 - val_loss: 0.7114 - val_accuracy: 0.7477 - lr: 0.0010 - 18s/epoch - 20ms/step
Epoch 7/50
876/876 - 18s - loss: 0.5841 - accuracy: 0.7920 - val_loss: 0.7293 - val_accuracy: 0.7578 - lr: 0.0010 - 18s/epoch - 20ms/step
Epoch 8/50
876/876 - 18s - loss: 0.5925 - accuracy: 0.7886 - val_loss: 0.6822 - val_accuracy: 0.7581 - lr: 0.0010 - 18s/epoch - 20ms/step
Epoch 9/50
876/876 - 18s - loss: 0.5839 - accuracy: 0.7912 - val_loss: 0.6898 - val_accuracy: 0.7717 - lr: 0.0010 - 18s/epoch - 20ms/step
Epoch 10/50
876/876 - 18s - loss: 0.5822 - accuracy: 0.7928 - val_loss: 0.7414 - val_accuracy: 0.7434 - lr: 0.0010 - 18s/epoch - 20ms/step
Epoch 11/50
876/876 - 18s - loss: 0.5824 - accuracy: 0.7940 - val_loss: 0.7049 - val_accuracy: 0.7503 - lr: 0.0010 - 18s/epoch - 20ms/step
Epoch 12/50
876/876 - 18s - loss: 0.5772 - accuracy: 0.7952 - val_loss: 0.6301 - val_accuracy: 0.7880 - lr: 0.0010 - 18s/epoch - 20ms/step
Epoch 13/50
876/876 - 18s - loss: 0.5711 - accuracy: 0.7966 - val_loss: 0.6254 - val_accuracy: 0.7797 - lr: 0.0010 - 18s/epoch - 20ms/step
Epoch 14/50
876/876 - 18s - loss: 0.5762 - accuracy: 0.7948 - val_loss: 0.7176 - val_accuracy: 0.7513 - lr: 0.0010 - 18s/epoch - 20ms/step
Epoch 15/50
876/876 - 18s - loss: 0.5699 - accuracy: 0.7971 - val_loss: 0.6946 - val_accuracy: 0.7558 - lr: 0.0010 - 18s/epoch - 21ms/step
Epoch 16/50
876/876 - 18s - loss: 0.5710 - accuracy: 0.7971 - val_loss: 0.7360 - val_accuracy: 0.7404 - lr: 0.0010 - 18s/epoch - 21ms/step
Epoch 17/50
876/876 - 18s - loss: 0.5679 - accuracy: 0.7971 - val_loss: 0.6937 - val_accuracy: 0.7563 - lr: 0.0010 - 18s/epoch - 20ms/step
Epoch 18/50
876/876 - 18s - loss: 0.5694 - accuracy: 0.7974 - val_loss: 0.7263 - val_accuracy: 0.7379 - lr: 0.0010 - 18s/epoch - 20ms/step
Epoch 19/50
876/876 - 18s - loss: 0.5706 - accuracy: 0.7978 - val_loss: 0.6481 - val_accuracy: 0.7907 - lr: 0.0010 - 18s/epoch - 20ms/step
Epoch 20/50
876/876 - 18s - loss: 0.5636 - accuracy: 0.7997 - val_loss: 0.6686 - val_accuracy: 0.7673 - lr: 0.0010 - 18s/epoch - 21ms/step
Epoch 21/50
876/876 - 18s - loss: 0.5583 - accuracy: 0.8022 - val_loss: 0.7366 - val_accuracy: 0.7421 - lr: 0.0010 - 18s/epoch - 20ms/step
Epoch 22/50
876/876 - 18s - loss: 0.5653 - accuracy: 0.7992 - val_loss: 0.6885 - val_accuracy: 0.7532 - lr: 0.0010 - 18s/epoch - 20ms/step
Epoch 23/50
876/876 - 18s - loss: 0.5521 - accuracy: 0.8041 - val_loss: 0.7258 - val_accuracy: 0.7604 - lr: 0.0010 - 18s/epoch - 21ms/step
Epoch 24/50
876/876 - 18s - loss: 0.5623 - accuracy: 0.8006 - val_loss: 0.7805 - val_accuracy: 0.7452 - lr: 0.0010 - 18s/epoch - 20ms/step
Epoch 25/50
876/876 - 18s - loss: 0.5606 - accuracy: 0.8012 - val_loss: 0.6898 - val_accuracy: 0.7618 - lr: 0.0010 - 18s/epoch - 20ms/step
Epoch 26/50
876/876 - 18s - loss: 0.5556 - accuracy: 0.8030 - val_loss: 0.7078 - val_accuracy: 0.7589 - lr: 0.0010 - 18s/epoch - 21ms/step
Epoch 27/50
876/876 - 18s - loss: 0.5568 - accuracy: 0.8021 - val_loss: 0.7634 - val_accuracy: 0.7343 - lr: 0.0010 - 18s/epoch - 20ms/step
Epoch 28/50
876/876 - 18s - loss: 0.5532 - accuracy: 0.8039 - val_loss: 0.7195 - val_accuracy: 0.7491 - lr: 0.0010 - 18s/epoch - 20ms/step
Epoch 29/50
876/876 - 18s - loss: 0.5551 - accuracy: 0.8019 - val_loss: 0.7408 - val_accuracy: 0.7407 - lr: 0.0010 - 18s/epoch - 20ms/step
Epoch 30/50
876/876 - 18s - loss: 0.5726 - accuracy: 0.7975 - val_loss: 0.7469 - val_accuracy: 0.7618 - lr: 0.0010 - 18s/epoch - 21ms/step
Epoch 31/50
876/876 - 18s - loss: 0.5503 - accuracy: 0.8065 - val_loss: 0.7205 - val_accuracy: 0.7614 - lr: 0.0010 - 18s/epoch - 20ms/step
Epoch 32/50
876/876 - 18s - loss: 0.5684 - accuracy: 0.7989 - val_loss: 0.7045 - val_accuracy: 0.7500 - lr: 0.0010 - 18s/epoch - 20ms/step
Epoch 33/50
876/876 - 18s - loss: 0.5467 - accuracy: 0.8066 - val_loss: 0.7737 - val_accuracy: 0.7366 - lr: 0.0010 - 18s/epoch - 21ms/step
Epoch 34/50
876/876 - 18s - loss: 0.5480 - accuracy: 0.8058 - val_loss: 0.8281 - val_accuracy: 0.7351 - lr: 0.0010 - 18s/epoch - 20ms/step
Epoch 35/50
876/876 - 18s - loss: 0.5543 - accuracy: 0.8048 - val_loss: 0.6438 - val_accuracy: 0.7742 - lr: 0.0010 - 18s/epoch - 20ms/step
Epoch 36/50
876/876 - 18s - loss: 0.5502 - accuracy: 0.8048 - val_loss: 0.6732 - val_accuracy: 0.7581 - lr: 0.0010 - 18s/epoch - 20ms/step
Epoch 37/50
876/876 - 18s - loss: 0.5468 - accuracy: 0.8068 - val_loss: 0.7273 - val_accuracy: 0.7513 - lr: 0.0010 - 18s/epoch - 21ms/step
Epoch 38/50
876/876 - 18s - loss: 0.5421 - accuracy: 0.8084 - val_loss: 0.6874 - val_accuracy: 0.7769 - lr: 0.0010 - 18s/epoch - 20ms/step
Epoch 39/50
876/876 - 18s - loss: 0.5424 - accuracy: 0.8075 - val_loss: 0.6952 - val_accuracy: 0.7628 - lr: 0.0010 - 18s/epoch - 21ms/step
Epoch 40/50
876/876 - 18s - loss: 0.5428 - accuracy: 0.8089 - val_loss: 0.6913 - val_accuracy: 0.7666 - lr: 0.0010 - 18s/epoch - 21ms/step
Epoch 41/50
876/876 - 18s - loss: 0.5445 - accuracy: 0.8062 - val_loss: 0.6403 - val_accuracy: 0.7872 - lr: 0.0010 - 18s/epoch - 20ms/step
Epoch 42/50
876/876 - 18s - loss: 0.5384 - accuracy: 0.8105 - val_loss: 0.7188 - val_accuracy: 0.7437 - lr: 0.0010 - 18s/epoch - 20ms/step
Epoch 43/50
876/876 - 18s - loss: 0.5517 - accuracy: 0.8043 - val_loss: 0.7338 - val_accuracy: 0.7516 - lr: 0.0010 - 18s/epoch - 20ms/step
Epoch 44/50
876/876 - 18s - loss: 0.5394 - accuracy: 0.8088 - val_loss: 0.6946 - val_accuracy: 0.7858 - lr: 0.0010 - 18s/epoch - 20ms/step
Epoch 45/50
876/876 - 18s - loss: 0.5373 - accuracy: 0.8097 - val_loss: 0.6613 - val_accuracy: 0.7836 - lr: 0.0010 - 18s/epoch - 20ms/step
Epoch 46/50
876/876 - 18s - loss: 0.5352 - accuracy: 0.8103 - val_loss: 0.7037 - val_accuracy: 0.7625 - lr: 0.0010 - 18s/epoch - 20ms/step
Epoch 47/50
876/876 - 18s - loss: 0.5379 - accuracy: 0.8094 - val_loss: 0.6921 - val_accuracy: 0.7807 - lr: 0.0010 - 18s/epoch - 21ms/step
Epoch 48/50
876/876 - 18s - loss: 0.5451 - accuracy: 0.8075 - val_loss: 0.6785 - val_accuracy: 0.7567 - lr: 0.0010 - 18s/epoch - 20ms/step
Epoch 49/50
876/876 - 18s - loss: 0.5406 - accuracy: 0.8079 - val_loss: 0.7115 - val_accuracy: 0.7636 - lr: 0.0010 - 18s/epoch - 20ms/step
Epoch 50/50
876/876 - 18s - loss: 0.5314 - accuracy: 0.8114 - val_loss: 0.7315 - val_accuracy: 0.7552 - lr: 0.0010 - 18s/epoch - 21ms/step
fitting with batch size: 500
Epoch 1/50
176/176 - 14s - loss: 0.4946 - accuracy: 0.8251 - val_loss: 0.6987 - val_accuracy: 0.7623 - lr: 0.0010 - 14s/epoch - 77ms/step
Epoch 2/50
176/176 - 9s - loss: 0.4876 - accuracy: 0.8279 - val_loss: 0.7198 - val_accuracy: 0.7530 - lr: 0.0010 - 9s/epoch - 50ms/step
Epoch 3/50
176/176 - 9s - loss: 0.4836 - accuracy: 0.8290 - val_loss: 0.7206 - val_accuracy: 0.7530 - lr: 0.0010 - 9s/epoch - 50ms/step
Epoch 4/50
176/176 - 9s - loss: 0.4915 - accuracy: 0.8260 - val_loss: 0.7139 - val_accuracy: 0.7602 - lr: 0.0010 - 9s/epoch - 51ms/step
Epoch 5/50
176/176 - 9s - loss: 0.4861 - accuracy: 0.8279 - val_loss: 0.7105 - val_accuracy: 0.7517 - lr: 0.0010 - 9s/epoch - 51ms/step
Epoch 6/50
176/176 - 9s - loss: 0.4835 - accuracy: 0.8279 - val_loss: 0.6982 - val_accuracy: 0.7613 - lr: 0.0010 - 9s/epoch - 51ms/step
Epoch 7/50
176/176 - 9s - loss: 0.4844 - accuracy: 0.8279 - val_loss: 0.6773 - val_accuracy: 0.7617 - lr: 0.0010 - 9s/epoch - 51ms/step
Epoch 8/50
176/176 - 9s - loss: 0.4818 - accuracy: 0.8295 - val_loss: 0.6718 - val_accuracy: 0.7664 - lr: 0.0010 - 9s/epoch - 51ms/step
Epoch 9/50
176/176 - 9s - loss: 0.4852 - accuracy: 0.8289 - val_loss: 0.6878 - val_accuracy: 0.7543 - lr: 0.0010 - 9s/epoch - 51ms/step
Epoch 10/50
176/176 - 9s - loss: 0.4861 - accuracy: 0.8290 - val_loss: 0.6713 - val_accuracy: 0.7621 - lr: 0.0010 - 9s/epoch - 51ms/step
Epoch 11/50
176/176 - 9s - loss: 0.4780 - accuracy: 0.8315 - val_loss: 0.6606 - val_accuracy: 0.7689 - lr: 0.0010 - 9s/epoch - 51ms/step
Epoch 12/50
176/176 - 9s - loss: 0.4811 - accuracy: 0.8300 - val_loss: 0.6912 - val_accuracy: 0.7658 - lr: 0.0010 - 9s/epoch - 51ms/step
Epoch 13/50
176/176 - 9s - loss: 0.4773 - accuracy: 0.8318 - val_loss: 0.6911 - val_accuracy: 0.7593 - lr: 0.0010 - 9s/epoch - 51ms/step
Epoch 14/50
176/176 - 9s - loss: 0.4803 - accuracy: 0.8302 - val_loss: 0.7100 - val_accuracy: 0.7562 - lr: 0.0010 - 9s/epoch - 51ms/step
Epoch 15/50
176/176 - 9s - loss: 0.4775 - accuracy: 0.8302 - val_loss: 0.6704 - val_accuracy: 0.7742 - lr: 0.0010 - 9s/epoch - 51ms/step
Epoch 16/50
176/176 - 9s - loss: 0.4823 - accuracy: 0.8294 - val_loss: 0.6555 - val_accuracy: 0.7755 - lr: 0.0010 - 9s/epoch - 51ms/step
Epoch 17/50
176/176 - 9s - loss: 0.4707 - accuracy: 0.8342 - val_loss: 0.6577 - val_accuracy: 0.7905 - lr: 0.0010 - 9s/epoch - 51ms/step
Epoch 18/50
176/176 - 9s - loss: 0.4766 - accuracy: 0.8322 - val_loss: 0.7363 - val_accuracy: 0.7516 - lr: 0.0010 - 9s/epoch - 51ms/step
Epoch 19/50
176/176 - 9s - loss: 0.4679 - accuracy: 0.8351 - val_loss: 0.6842 - val_accuracy: 0.7686 - lr: 0.0010 - 9s/epoch - 51ms/step
Epoch 20/50
176/176 - 9s - loss: 0.4703 - accuracy: 0.8339 - val_loss: 0.7422 - val_accuracy: 0.7589 - lr: 0.0010 - 9s/epoch - 51ms/step
Epoch 21/50
176/176 - 9s - loss: 0.4669 - accuracy: 0.8359 - val_loss: 0.6526 - val_accuracy: 0.7653 - lr: 0.0010 - 9s/epoch - 51ms/step
Epoch 22/50
176/176 - 9s - loss: 0.4696 - accuracy: 0.8335 - val_loss: 0.6965 - val_accuracy: 0.7586 - lr: 0.0010 - 9s/epoch - 51ms/step
Epoch 23/50
176/176 - 9s - loss: 0.4696 - accuracy: 0.8347 - val_loss: 0.6617 - val_accuracy: 0.7780 - lr: 0.0010 - 9s/epoch - 51ms/step
Epoch 24/50
176/176 - 9s - loss: 0.4619 - accuracy: 0.8376 - val_loss: 0.6652 - val_accuracy: 0.7757 - lr: 0.0010 - 9s/epoch - 51ms/step
Epoch 25/50
176/176 - 9s - loss: 0.4695 - accuracy: 0.8336 - val_loss: 0.6389 - val_accuracy: 0.7884 - lr: 0.0010 - 9s/epoch - 51ms/step
Epoch 26/50
176/176 - 9s - loss: 0.4663 - accuracy: 0.8360 - val_loss: 0.6863 - val_accuracy: 0.7654 - lr: 0.0010 - 9s/epoch - 51ms/step
Epoch 27/50
176/176 - 9s - loss: 0.4599 - accuracy: 0.8381 - val_loss: 0.6482 - val_accuracy: 0.7759 - lr: 0.0010 - 9s/epoch - 51ms/step
Epoch 28/50
176/176 - 9s - loss: 0.4633 - accuracy: 0.8374 - val_loss: 0.7190 - val_accuracy: 0.7545 - lr: 0.0010 - 9s/epoch - 51ms/step
Epoch 29/50
176/176 - 9s - loss: 0.4730 - accuracy: 0.8323 - val_loss: 0.7468 - val_accuracy: 0.7564 - lr: 0.0010 - 9s/epoch - 51ms/step
Epoch 30/50
176/176 - 9s - loss: 0.4584 - accuracy: 0.8384 - val_loss: 0.6663 - val_accuracy: 0.7796 - lr: 0.0010 - 9s/epoch - 51ms/step
Epoch 31/50
176/176 - 9s - loss: 0.4648 - accuracy: 0.8348 - val_loss: 0.6352 - val_accuracy: 0.7743 - lr: 0.0010 - 9s/epoch - 50ms/step
Epoch 32/50
176/176 - 9s - loss: 0.4582 - accuracy: 0.8389 - val_loss: 0.6478 - val_accuracy: 0.7771 - lr: 0.0010 - 9s/epoch - 51ms/step
Epoch 33/50
176/176 - 9s - loss: 0.4616 - accuracy: 0.8373 - val_loss: 0.7226 - val_accuracy: 0.7534 - lr: 0.0010 - 9s/epoch - 51ms/step
Epoch 34/50
176/176 - 9s - loss: 0.4704 - accuracy: 0.8329 - val_loss: 0.6801 - val_accuracy: 0.7609 - lr: 0.0010 - 9s/epoch - 51ms/step
Epoch 35/50
176/176 - 9s - loss: 0.4560 - accuracy: 0.8396 - val_loss: 0.7044 - val_accuracy: 0.7645 - lr: 0.0010 - 9s/epoch - 51ms/step
Epoch 36/50
176/176 - 9s - loss: 0.4623 - accuracy: 0.8366 - val_loss: 0.6948 - val_accuracy: 0.7632 - lr: 0.0010 - 9s/epoch - 51ms/step
Epoch 37/50
176/176 - 9s - loss: 0.4556 - accuracy: 0.8395 - val_loss: 0.7100 - val_accuracy: 0.7528 - lr: 0.0010 - 9s/epoch - 51ms/step
Epoch 38/50
176/176 - 9s - loss: 0.4611 - accuracy: 0.8364 - val_loss: 0.6888 - val_accuracy: 0.7648 - lr: 0.0010 - 9s/epoch - 51ms/step
Epoch 39/50
176/176 - 9s - loss: 0.4597 - accuracy: 0.8381 - val_loss: 0.6495 - val_accuracy: 0.7781 - lr: 0.0010 - 9s/epoch - 51ms/step
Epoch 40/50
176/176 - 9s - loss: 0.4543 - accuracy: 0.8395 - val_loss: 0.6575 - val_accuracy: 0.7793 - lr: 0.0010 - 9s/epoch - 51ms/step
Epoch 41/50
176/176 - 9s - loss: 0.4545 - accuracy: 0.8388 - val_loss: 0.7056 - val_accuracy: 0.7476 - lr: 0.0010 - 9s/epoch - 51ms/step
Epoch 42/50
176/176 - 9s - loss: 0.4565 - accuracy: 0.8382 - val_loss: 0.6665 - val_accuracy: 0.7702 - lr: 0.0010 - 9s/epoch - 51ms/step
Epoch 43/50
176/176 - 9s - loss: 0.4568 - accuracy: 0.8386 - val_loss: 0.7075 - val_accuracy: 0.7621 - lr: 0.0010 - 9s/epoch - 51ms/step
Epoch 44/50
176/176 - 9s - loss: 0.4564 - accuracy: 0.8388 - val_loss: 0.6248 - val_accuracy: 0.7773 - lr: 0.0010 - 9s/epoch - 51ms/step
Epoch 45/50
176/176 - 9s - loss: 0.4488 - accuracy: 0.8417 - val_loss: 0.6996 - val_accuracy: 0.7611 - lr: 0.0010 - 9s/epoch - 51ms/step
Epoch 46/50
176/176 - 9s - loss: 0.4552 - accuracy: 0.8387 - val_loss: 0.6734 - val_accuracy: 0.7738 - lr: 0.0010 - 9s/epoch - 51ms/step
Epoch 47/50
176/176 - 9s - loss: 0.4703 - accuracy: 0.8336 - val_loss: 0.6895 - val_accuracy: 0.7666 - lr: 0.0010 - 9s/epoch - 51ms/step
Epoch 48/50
176/176 - 9s - loss: 0.4509 - accuracy: 0.8417 - val_loss: 0.6445 - val_accuracy: 0.7839 - lr: 0.0010 - 9s/epoch - 51ms/step
Epoch 49/50
176/176 - 9s - loss: 0.4531 - accuracy: 0.8398 - val_loss: 0.7000 - val_accuracy: 0.7642 - lr: 0.0010 - 9s/epoch - 51ms/step
Epoch 50/50
176/176 - 9s - loss: 0.4512 - accuracy: 0.8407 - val_loss: 0.7064 - val_accuracy: 0.7645 - lr: 0.0010 - 9s/epoch - 51ms/step
Loss: poisson
Epoch number: 25
fitting with batch size: 20
Epoch 1/25
4378/4378 - 76s - loss: 0.3309 - accuracy: 0.7697 - val_loss: 0.3602 - val_accuracy: 0.7405 - lr: 0.0010 - 76s/epoch - 17ms/step
Epoch 2/25
4378/4378 - 74s - loss: 0.3396 - accuracy: 0.7575 - val_loss: 0.3346 - val_accuracy: 0.8131 - lr: 0.0010 - 74s/epoch - 17ms/step
Epoch 3/25
4378/4378 - 74s - loss: 0.3372 - accuracy: 0.7594 - val_loss: 0.3401 - val_accuracy: 0.7566 - lr: 0.0010 - 74s/epoch - 17ms/step
Epoch 4/25
4378/4378 - 74s - loss: 0.3361 - accuracy: 0.7614 - val_loss: 0.3567 - val_accuracy: 0.7370 - lr: 0.0010 - 74s/epoch - 17ms/step
Epoch 5/25
4378/4378 - 74s - loss: 0.3373 - accuracy: 0.7583 - val_loss: 0.3638 - val_accuracy: 0.7612 - lr: 0.0010 - 74s/epoch - 17ms/step
Epoch 6/25
4378/4378 - 74s - loss: 0.3374 - accuracy: 0.7581 - val_loss: 0.3608 - val_accuracy: 0.7062 - lr: 0.0010 - 74s/epoch - 17ms/step
Epoch 7/25
4378/4378 - 73s - loss: 0.3376 - accuracy: 0.7579 - val_loss: 0.3505 - val_accuracy: 0.7569 - lr: 0.0010 - 73s/epoch - 17ms/step
Epoch 8/25
4378/4378 - 74s - loss: 0.3396 - accuracy: 0.7549 - val_loss: 0.3481 - val_accuracy: 0.7580 - lr: 0.0010 - 74s/epoch - 17ms/step
Epoch 9/25
4378/4378 - 73s - loss: 0.3365 - accuracy: 0.7579 - val_loss: 0.3400 - val_accuracy: 0.7707 - lr: 0.0010 - 73s/epoch - 17ms/step
Epoch 10/25
4378/4378 - 74s - loss: 0.3387 - accuracy: 0.7559 - val_loss: 0.3299 - val_accuracy: 0.7750 - lr: 0.0010 - 74s/epoch - 17ms/step
Epoch 11/25
4378/4378 - 74s - loss: 0.7673 - accuracy: 0.6343 - val_loss: 0.3679 - val_accuracy: 0.7375 - lr: 0.0010 - 74s/epoch - 17ms/step
Epoch 12/25
4378/4378 - 74s - loss: 0.3425 - accuracy: 0.7517 - val_loss: 0.3512 - val_accuracy: 0.7492 - lr: 0.0010 - 74s/epoch - 17ms/step
Epoch 13/25
4378/4378 - 73s - loss: 0.3441 - accuracy: 0.7471 - val_loss: 0.3570 - val_accuracy: 0.7775 - lr: 0.0010 - 73s/epoch - 17ms/step
Epoch 14/25
4378/4378 - 73s - loss: 0.3399 - accuracy: 0.7534 - val_loss: 0.3288 - val_accuracy: 0.8034 - lr: 0.0010 - 73s/epoch - 17ms/step
Epoch 15/25
4378/4378 - 74s - loss: 0.3382 - accuracy: 0.7562 - val_loss: 0.3313 - val_accuracy: 0.7852 - lr: 0.0010 - 74s/epoch - 17ms/step
Epoch 16/25
4378/4378 - 74s - loss: 0.3442 - accuracy: 0.7479 - val_loss: 0.3485 - val_accuracy: 0.7509 - lr: 0.0010 - 74s/epoch - 17ms/step
Epoch 17/25
4378/4378 - 74s - loss: 0.3466 - accuracy: 0.7458 - val_loss: 0.3563 - val_accuracy: 0.7574 - lr: 0.0010 - 74s/epoch - 17ms/step
Epoch 18/25
4378/4378 - 74s - loss: 0.3445 - accuracy: 0.7446 - val_loss: 0.3584 - val_accuracy: 0.7174 - lr: 0.0010 - 74s/epoch - 17ms/step
Epoch 19/25
4378/4378 - 73s - loss: 0.3413 - accuracy: 0.7488 - val_loss: 0.3605 - val_accuracy: 0.7151 - lr: 0.0010 - 73s/epoch - 17ms/step
Epoch 20/25
4378/4378 - 74s - loss: 0.3405 - accuracy: 0.7539 - val_loss: 0.3480 - val_accuracy: 0.7664 - lr: 0.0010 - 74s/epoch - 17ms/step
Epoch 21/25
4378/4378 - 74s - loss: 0.3439 - accuracy: 0.7459 - val_loss: 0.3652 - val_accuracy: 0.7324 - lr: 0.0010 - 74s/epoch - 17ms/step
Epoch 22/25
4378/4378 - 74s - loss: 0.3413 - accuracy: 0.7507 - val_loss: 0.3630 - val_accuracy: 0.7290 - lr: 0.0010 - 74s/epoch - 17ms/step
Epoch 23/25
4378/4378 - 74s - loss: 0.3486 - accuracy: 0.7406 - val_loss: 0.3313 - val_accuracy: 0.8084 - lr: 0.0010 - 74s/epoch - 17ms/step
Epoch 24/25
4378/4378 - 74s - loss: 0.3470 - accuracy: 0.7439 - val_loss: 0.3367 - val_accuracy: 0.7865 - lr: 0.0010 - 74s/epoch - 17ms/step
Epoch 25/25
4378/4378 - 74s - loss: 0.3438 - accuracy: 0.7466 - val_loss: 0.3559 - val_accuracy: 0.7539 - lr: 0.0010 - 74s/epoch - 17ms/step
fitting with batch size: 100
Epoch 1/25
876/876 - 20s - loss: 0.3279 - accuracy: 0.7721 - val_loss: 0.3265 - val_accuracy: 0.8005 - lr: 0.0010 - 20s/epoch - 23ms/step
Epoch 2/25
876/876 - 18s - loss: 0.3191 - accuracy: 0.7875 - val_loss: 0.3342 - val_accuracy: 0.7803 - lr: 0.0010 - 18s/epoch - 20ms/step
Epoch 3/25
876/876 - 18s - loss: 0.3175 - accuracy: 0.7899 - val_loss: 0.3477 - val_accuracy: 0.7524 - lr: 0.0010 - 18s/epoch - 20ms/step
Epoch 4/25
876/876 - 18s - loss: 0.3162 - accuracy: 0.7938 - val_loss: 0.3218 - val_accuracy: 0.7900 - lr: 0.0010 - 18s/epoch - 20ms/step
Epoch 5/25
876/876 - 18s - loss: 0.3148 - accuracy: 0.7973 - val_loss: 0.3307 - val_accuracy: 0.7857 - lr: 0.0010 - 18s/epoch - 20ms/step
Epoch 6/25
876/876 - 18s - loss: 0.3144 - accuracy: 0.7974 - val_loss: 0.3539 - val_accuracy: 0.7456 - lr: 0.0010 - 18s/epoch - 20ms/step
Epoch 7/25
876/876 - 18s - loss: 0.3134 - accuracy: 0.7984 - val_loss: 0.3390 - val_accuracy: 0.7578 - lr: 0.0010 - 18s/epoch - 20ms/step
Epoch 8/25
876/876 - 18s - loss: 0.3118 - accuracy: 0.8013 - val_loss: 0.3350 - val_accuracy: 0.7600 - lr: 0.0010 - 18s/epoch - 20ms/step
Epoch 9/25
876/876 - 18s - loss: 0.3118 - accuracy: 0.7998 - val_loss: 0.3225 - val_accuracy: 0.8001 - lr: 0.0010 - 18s/epoch - 20ms/step
Epoch 10/25
876/876 - 18s - loss: 0.3112 - accuracy: 0.8032 - val_loss: 0.3342 - val_accuracy: 0.7765 - lr: 0.0010 - 18s/epoch - 20ms/step
Epoch 11/25
876/876 - 18s - loss: 0.3106 - accuracy: 0.8031 - val_loss: 0.3419 - val_accuracy: 0.7770 - lr: 0.0010 - 18s/epoch - 20ms/step
Epoch 12/25
876/876 - 18s - loss: 0.3098 - accuracy: 0.8052 - val_loss: 0.3669 - val_accuracy: 0.7206 - lr: 0.0010 - 18s/epoch - 20ms/step
Epoch 13/25
876/876 - 18s - loss: 0.3088 - accuracy: 0.8068 - val_loss: 0.3412 - val_accuracy: 0.7621 - lr: 0.0010 - 18s/epoch - 20ms/step
Epoch 14/25
876/876 - 18s - loss: 0.3088 - accuracy: 0.8074 - val_loss: 0.3444 - val_accuracy: 0.7547 - lr: 0.0010 - 18s/epoch - 20ms/step
Epoch 15/25
876/876 - 18s - loss: 0.3084 - accuracy: 0.8081 - val_loss: 0.3426 - val_accuracy: 0.7597 - lr: 0.0010 - 18s/epoch - 20ms/step
Epoch 16/25
876/876 - 18s - loss: 0.3077 - accuracy: 0.8103 - val_loss: 0.3452 - val_accuracy: 0.7591 - lr: 0.0010 - 18s/epoch - 20ms/step
Epoch 17/25
876/876 - 18s - loss: 0.3095 - accuracy: 0.8051 - val_loss: 0.3390 - val_accuracy: 0.7662 - lr: 0.0010 - 18s/epoch - 20ms/step
Epoch 18/25
876/876 - 18s - loss: 0.3069 - accuracy: 0.8095 - val_loss: 0.3422 - val_accuracy: 0.7722 - lr: 0.0010 - 18s/epoch - 20ms/step
Epoch 19/25
876/876 - 18s - loss: 0.3096 - accuracy: 0.8064 - val_loss: 0.3298 - val_accuracy: 0.7739 - lr: 0.0010 - 18s/epoch - 20ms/step
Epoch 20/25
876/876 - 18s - loss: 0.3071 - accuracy: 0.8108 - val_loss: 0.3387 - val_accuracy: 0.7622 - lr: 0.0010 - 18s/epoch - 20ms/step
Epoch 21/25
876/876 - 18s - loss: 0.3063 - accuracy: 0.8111 - val_loss: 0.3489 - val_accuracy: 0.7532 - lr: 0.0010 - 18s/epoch - 20ms/step
Epoch 22/25
876/876 - 18s - loss: 0.3055 - accuracy: 0.8126 - val_loss: 0.3372 - val_accuracy: 0.7727 - lr: 0.0010 - 18s/epoch - 20ms/step
Epoch 23/25
876/876 - 18s - loss: 0.3070 - accuracy: 0.8103 - val_loss: 0.3464 - val_accuracy: 0.7566 - lr: 0.0010 - 18s/epoch - 20ms/step
Epoch 24/25
876/876 - 18s - loss: 0.3065 - accuracy: 0.8104 - val_loss: 0.3358 - val_accuracy: 0.7717 - lr: 0.0010 - 18s/epoch - 20ms/step
Epoch 25/25
876/876 - 18s - loss: 0.3055 - accuracy: 0.8115 - val_loss: 0.3393 - val_accuracy: 0.7484 - lr: 0.0010 - 18s/epoch - 20ms/step
fitting with batch size: 500
Epoch 1/25
176/176 - 11s - loss: 0.2968 - accuracy: 0.8278 - val_loss: 0.3408 - val_accuracy: 0.7551 - lr: 0.0010 - 11s/epoch - 64ms/step
Epoch 2/25
176/176 - 9s - loss: 0.2952 - accuracy: 0.8307 - val_loss: 0.3392 - val_accuracy: 0.7592 - lr: 0.0010 - 9s/epoch - 50ms/step
Epoch 3/25
176/176 - 9s - loss: 0.2948 - accuracy: 0.8314 - val_loss: 0.3374 - val_accuracy: 0.7696 - lr: 0.0010 - 9s/epoch - 50ms/step
Epoch 4/25
176/176 - 9s - loss: 0.2947 - accuracy: 0.8322 - val_loss: 0.3341 - val_accuracy: 0.7654 - lr: 0.0010 - 9s/epoch - 50ms/step
Epoch 5/25
176/176 - 9s - loss: 0.2950 - accuracy: 0.8303 - val_loss: 0.3410 - val_accuracy: 0.7674 - lr: 0.0010 - 9s/epoch - 50ms/step
Epoch 6/25
176/176 - 9s - loss: 0.2940 - accuracy: 0.8327 - val_loss: 0.3424 - val_accuracy: 0.7601 - lr: 0.0010 - 9s/epoch - 50ms/step
Epoch 7/25
176/176 - 9s - loss: 0.2965 - accuracy: 0.8278 - val_loss: 0.3343 - val_accuracy: 0.7563 - lr: 0.0010 - 9s/epoch - 50ms/step
Epoch 8/25
176/176 - 9s - loss: 0.2968 - accuracy: 0.8273 - val_loss: 0.3344 - val_accuracy: 0.7680 - lr: 0.0010 - 9s/epoch - 50ms/step
Epoch 9/25
176/176 - 9s - loss: 0.2940 - accuracy: 0.8338 - val_loss: 0.3413 - val_accuracy: 0.7642 - lr: 0.0010 - 9s/epoch - 50ms/step
Epoch 10/25
176/176 - 9s - loss: 0.2935 - accuracy: 0.8344 - val_loss: 0.3399 - val_accuracy: 0.7515 - lr: 0.0010 - 9s/epoch - 50ms/step
Epoch 11/25
176/176 - 9s - loss: 0.2933 - accuracy: 0.8339 - val_loss: 0.3381 - val_accuracy: 0.7672 - lr: 0.0010 - 9s/epoch - 50ms/step
Epoch 12/25
176/176 - 9s - loss: 0.2922 - accuracy: 0.8365 - val_loss: 0.3348 - val_accuracy: 0.7654 - lr: 0.0010 - 9s/epoch - 50ms/step
Epoch 13/25
176/176 - 9s - loss: 0.2925 - accuracy: 0.8358 - val_loss: 0.3404 - val_accuracy: 0.7650 - lr: 0.0010 - 9s/epoch - 50ms/step
Epoch 14/25
176/176 - 9s - loss: 0.2934 - accuracy: 0.8344 - val_loss: 0.3494 - val_accuracy: 0.7420 - lr: 0.0010 - 9s/epoch - 50ms/step
Epoch 15/25
176/176 - 9s - loss: 0.2955 - accuracy: 0.8310 - val_loss: 0.3430 - val_accuracy: 0.7597 - lr: 0.0010 - 9s/epoch - 50ms/step
Epoch 16/25
176/176 - 9s - loss: 0.2924 - accuracy: 0.8368 - val_loss: 0.3396 - val_accuracy: 0.7674 - lr: 0.0010 - 9s/epoch - 50ms/step
Epoch 17/25
176/176 - 9s - loss: 0.2924 - accuracy: 0.8371 - val_loss: 0.3412 - val_accuracy: 0.7548 - lr: 0.0010 - 9s/epoch - 50ms/step
Epoch 18/25
176/176 - 9s - loss: 0.2913 - accuracy: 0.8388 - val_loss: 0.3361 - val_accuracy: 0.7738 - lr: 0.0010 - 9s/epoch - 50ms/step
Epoch 19/25
176/176 - 9s - loss: 0.2916 - accuracy: 0.8382 - val_loss: 0.3386 - val_accuracy: 0.7626 - lr: 0.0010 - 9s/epoch - 50ms/step
Epoch 20/25
176/176 - 9s - loss: 0.2910 - accuracy: 0.8384 - val_loss: 0.3503 - val_accuracy: 0.7495 - lr: 0.0010 - 9s/epoch - 50ms/step
Epoch 21/25
176/176 - 9s - loss: 0.2909 - accuracy: 0.8389 - val_loss: 0.3339 - val_accuracy: 0.7732 - lr: 0.0010 - 9s/epoch - 50ms/step
Epoch 22/25
176/176 - 9s - loss: 0.2907 - accuracy: 0.8390 - val_loss: 0.3388 - val_accuracy: 0.7755 - lr: 0.0010 - 9s/epoch - 50ms/step
Epoch 23/25
176/176 - 9s - loss: 0.2910 - accuracy: 0.8391 - val_loss: 0.3456 - val_accuracy: 0.7637 - lr: 0.0010 - 9s/epoch - 50ms/step
Epoch 24/25
176/176 - 9s - loss: 0.2901 - accuracy: 0.8410 - val_loss: 0.3360 - val_accuracy: 0.7669 - lr: 0.0010 - 9s/epoch - 50ms/step
Epoch 25/25
176/176 - 9s - loss: 0.2900 - accuracy: 0.8412 - val_loss: 0.3423 - val_accuracy: 0.7637 - lr: 0.0010 - 9s/epoch - 50ms/step
Epoch number: 50
fitting with batch size: 20
Epoch 1/50
4378/4378 - 76s - loss: 0.3306 - accuracy: 0.7721 - val_loss: 0.3290 - val_accuracy: 0.8012 - lr: 0.0010 - 76s/epoch - 17ms/step
Epoch 2/50
4378/4378 - 73s - loss: 0.3337 - accuracy: 0.7658 - val_loss: 0.3743 - val_accuracy: 0.7197 - lr: 0.0010 - 73s/epoch - 17ms/step
Epoch 3/50
4378/4378 - 73s - loss: 0.3350 - accuracy: 0.7615 - val_loss: 0.3370 - val_accuracy: 0.7971 - lr: 0.0010 - 73s/epoch - 17ms/step
Epoch 4/50
4378/4378 - 73s - loss: 0.3359 - accuracy: 0.7617 - val_loss: 0.3605 - val_accuracy: 0.7374 - lr: 0.0010 - 73s/epoch - 17ms/step
Epoch 5/50
4378/4378 - 73s - loss: 0.3495 - accuracy: 0.7541 - val_loss: 0.3613 - val_accuracy: 0.7346 - lr: 0.0010 - 73s/epoch - 17ms/step
Epoch 6/50
4378/4378 - 74s - loss: 0.3410 - accuracy: 0.7533 - val_loss: 0.3367 - val_accuracy: 0.7734 - lr: 0.0010 - 74s/epoch - 17ms/step
Epoch 7/50
4378/4378 - 74s - loss: 0.3392 - accuracy: 0.7558 - val_loss: 0.3471 - val_accuracy: 0.7401 - lr: 0.0010 - 74s/epoch - 17ms/step
Epoch 8/50
4378/4378 - 73s - loss: 0.3423 - accuracy: 0.7520 - val_loss: 0.3667 - val_accuracy: 0.7342 - lr: 0.0010 - 73s/epoch - 17ms/step
Epoch 9/50
4378/4378 - 74s - loss: 0.3367 - accuracy: 0.7587 - val_loss: 0.3813 - val_accuracy: 0.7455 - lr: 0.0010 - 74s/epoch - 17ms/step
Epoch 10/50
4378/4378 - 74s - loss: 0.3366 - accuracy: 0.7595 - val_loss: 0.3286 - val_accuracy: 0.7953 - lr: 0.0010 - 74s/epoch - 17ms/step
Epoch 11/50
4378/4378 - 73s - loss: 0.3425 - accuracy: 0.7514 - val_loss: 0.3547 - val_accuracy: 0.7653 - lr: 0.0010 - 73s/epoch - 17ms/step
Epoch 12/50
4378/4378 - 73s - loss: 0.3412 - accuracy: 0.7535 - val_loss: 0.3437 - val_accuracy: 0.7983 - lr: 0.0010 - 73s/epoch - 17ms/step
Epoch 13/50
4378/4378 - 73s - loss: 0.3428 - accuracy: 0.7480 - val_loss: 0.3568 - val_accuracy: 0.7343 - lr: 0.0010 - 73s/epoch - 17ms/step
Epoch 14/50
4378/4378 - 73s - loss: 0.3398 - accuracy: 0.7556 - val_loss: 0.3656 - val_accuracy: 0.7648 - lr: 0.0010 - 73s/epoch - 17ms/step
Epoch 15/50
4378/4378 - 73s - loss: 0.3422 - accuracy: 0.7497 - val_loss: 0.3436 - val_accuracy: 0.7714 - lr: 0.0010 - 73s/epoch - 17ms/step
Epoch 16/50
4378/4378 - 73s - loss: 0.3418 - accuracy: 0.7509 - val_loss: 0.3780 - val_accuracy: 0.7104 - lr: 0.0010 - 73s/epoch - 17ms/step
Epoch 17/50
4378/4378 - 73s - loss: 0.3391 - accuracy: 0.7548 - val_loss: 0.3441 - val_accuracy: 0.7800 - lr: 0.0010 - 73s/epoch - 17ms/step
Epoch 18/50
4378/4378 - 73s - loss: 0.3389 - accuracy: 0.7558 - val_loss: 0.3561 - val_accuracy: 0.7542 - lr: 0.0010 - 73s/epoch - 17ms/step
Epoch 19/50
4378/4378 - 74s - loss: 0.3393 - accuracy: 0.7557 - val_loss: 0.3384 - val_accuracy: 0.8038 - lr: 0.0010 - 74s/epoch - 17ms/step
Epoch 20/50
4378/4378 - 73s - loss: 0.3393 - accuracy: 0.7534 - val_loss: 0.3756 - val_accuracy: 0.7040 - lr: 0.0010 - 73s/epoch - 17ms/step
Epoch 21/50
4378/4378 - 73s - loss: 0.3408 - accuracy: 0.7514 - val_loss: 0.3635 - val_accuracy: 0.7240 - lr: 0.0010 - 73s/epoch - 17ms/step
Epoch 22/50
4378/4378 - 73s - loss: 0.3396 - accuracy: 0.7542 - val_loss: 0.3712 - val_accuracy: 0.6853 - lr: 0.0010 - 73s/epoch - 17ms/step
Epoch 23/50
4378/4378 - 73s - loss: 0.3469 - accuracy: 0.7424 - val_loss: 0.3662 - val_accuracy: 0.7009 - lr: 0.0010 - 73s/epoch - 17ms/step
Epoch 24/50
4378/4378 - 73s - loss: 0.3429 - accuracy: 0.7483 - val_loss: 0.3463 - val_accuracy: 0.7824 - lr: 0.0010 - 73s/epoch - 17ms/step
Epoch 25/50
4378/4378 - 74s - loss: 0.3439 - accuracy: 0.7490 - val_loss: 0.3870 - val_accuracy: 0.7273 - lr: 0.0010 - 74s/epoch - 17ms/step
Epoch 26/50
4378/4378 - 73s - loss: 0.3431 - accuracy: 0.7476 - val_loss: 0.3485 - val_accuracy: 0.7404 - lr: 0.0010 - 73s/epoch - 17ms/step
Epoch 27/50
4378/4378 - 74s - loss: 0.3439 - accuracy: 0.7470 - val_loss: 0.3567 - val_accuracy: 0.7526 - lr: 0.0010 - 74s/epoch - 17ms/step
Epoch 28/50
4378/4378 - 73s - loss: 0.3422 - accuracy: 0.7491 - val_loss: 0.3604 - val_accuracy: 0.7662 - lr: 0.0010 - 73s/epoch - 17ms/step
Epoch 29/50
4378/4378 - 73s - loss: 0.3428 - accuracy: 0.7477 - val_loss: 0.3360 - val_accuracy: 0.7825 - lr: 0.0010 - 73s/epoch - 17ms/step
Epoch 30/50
4378/4378 - 73s - loss: 0.3417 - accuracy: 0.7491 - val_loss: 0.3494 - val_accuracy: 0.7637 - lr: 0.0010 - 73s/epoch - 17ms/step
Epoch 31/50
4378/4378 - 73s - loss: 0.3439 - accuracy: 0.7472 - val_loss: 0.3550 - val_accuracy: 0.7420 - lr: 0.0010 - 73s/epoch - 17ms/step
Epoch 32/50
4378/4378 - 73s - loss: 0.3431 - accuracy: 0.7487 - val_loss: 0.3502 - val_accuracy: 0.7645 - lr: 0.0010 - 73s/epoch - 17ms/step
Epoch 33/50
4378/4378 - 73s - loss: 0.3418 - accuracy: 0.7488 - val_loss: 0.3425 - val_accuracy: 0.7694 - lr: 0.0010 - 73s/epoch - 17ms/step
Epoch 34/50
4378/4378 - 73s - loss: 0.3442 - accuracy: 0.7448 - val_loss: 0.3592 - val_accuracy: 0.7452 - lr: 0.0010 - 73s/epoch - 17ms/step
Epoch 35/50
4378/4378 - 73s - loss: 0.3412 - accuracy: 0.7495 - val_loss: 0.3593 - val_accuracy: 0.7528 - lr: 0.0010 - 73s/epoch - 17ms/step
Epoch 36/50
4378/4378 - 73s - loss: 0.3416 - accuracy: 0.7503 - val_loss: 0.3546 - val_accuracy: 0.7595 - lr: 0.0010 - 73s/epoch - 17ms/step
Epoch 37/50
4378/4378 - 73s - loss: 0.3473 - accuracy: 0.7397 - val_loss: 0.3290 - val_accuracy: 0.7935 - lr: 0.0010 - 73s/epoch - 17ms/step
Epoch 38/50
4378/4378 - 73s - loss: 0.3428 - accuracy: 0.7475 - val_loss: 0.3668 - val_accuracy: 0.7429 - lr: 0.0010 - 73s/epoch - 17ms/step
Epoch 39/50
4378/4378 - 73s - loss: 0.3415 - accuracy: 0.7510 - val_loss: 0.3401 - val_accuracy: 0.7866 - lr: 0.0010 - 73s/epoch - 17ms/step
Epoch 40/50
4378/4378 - 73s - loss: 0.3440 - accuracy: 0.7466 - val_loss: 0.3676 - val_accuracy: 0.7390 - lr: 0.0010 - 73s/epoch - 17ms/step
Epoch 41/50
4378/4378 - 73s - loss: 0.3434 - accuracy: 0.7473 - val_loss: 0.3237 - val_accuracy: 0.8224 - lr: 0.0010 - 73s/epoch - 17ms/step
Epoch 42/50
4378/4378 - 73s - loss: 0.3457 - accuracy: 0.7432 - val_loss: 0.3794 - val_accuracy: 0.6729 - lr: 0.0010 - 73s/epoch - 17ms/step
Epoch 43/50
4378/4378 - 73s - loss: 0.3411 - accuracy: 0.7508 - val_loss: 0.3619 - val_accuracy: 0.7528 - lr: 0.0010 - 73s/epoch - 17ms/step
Epoch 44/50
4378/4378 - 73s - loss: 0.3445 - accuracy: 0.7448 - val_loss: 0.3418 - val_accuracy: 0.7444 - lr: 0.0010 - 73s/epoch - 17ms/step
Epoch 45/50
4378/4378 - 74s - loss: 0.3431 - accuracy: 0.7472 - val_loss: 0.3706 - val_accuracy: 0.7119 - lr: 0.0010 - 74s/epoch - 17ms/step
Epoch 46/50
4378/4378 - 73s - loss: 0.3448 - accuracy: 0.7469 - val_loss: 0.3721 - val_accuracy: 0.7354 - lr: 0.0010 - 73s/epoch - 17ms/step
Epoch 47/50
4378/4378 - 73s - loss: 0.3458 - accuracy: 0.7431 - val_loss: 0.3449 - val_accuracy: 0.7626 - lr: 0.0010 - 73s/epoch - 17ms/step
Epoch 48/50
4378/4378 - 73s - loss: 0.3427 - accuracy: 0.7484 - val_loss: 0.3412 - val_accuracy: 0.7643 - lr: 0.0010 - 73s/epoch - 17ms/step
Epoch 49/50
4378/4378 - 73s - loss: 0.3428 - accuracy: 0.7484 - val_loss: 0.3353 - val_accuracy: 0.7984 - lr: 0.0010 - 73s/epoch - 17ms/step
Epoch 50/50
4378/4378 - 74s - loss: 0.3438 - accuracy: 0.7484 - val_loss: 0.3369 - val_accuracy: 0.7537 - lr: 0.0010 - 74s/epoch - 17ms/step
fitting with batch size: 100
Epoch 1/50
876/876 - 20s - loss: 0.3245 - accuracy: 0.7764 - val_loss: 0.3421 - val_accuracy: 0.7616 - lr: 0.0010 - 20s/epoch - 23ms/step
Epoch 2/50
876/876 - 18s - loss: 0.3224 - accuracy: 0.7807 - val_loss: 0.3382 - val_accuracy: 0.7647 - lr: 0.0010 - 18s/epoch - 20ms/step
Epoch 3/50
876/876 - 18s - loss: 0.3207 - accuracy: 0.7844 - val_loss: 0.3314 - val_accuracy: 0.7648 - lr: 0.0010 - 18s/epoch - 20ms/step
Epoch 4/50
876/876 - 18s - loss: 0.3190 - accuracy: 0.7871 - val_loss: 0.3256 - val_accuracy: 0.7711 - lr: 0.0010 - 18s/epoch - 20ms/step
Epoch 5/50
876/876 - 18s - loss: 0.3231 - accuracy: 0.7824 - val_loss: 0.3230 - val_accuracy: 0.7961 - lr: 0.0010 - 18s/epoch - 20ms/step
Epoch 6/50
876/876 - 18s - loss: 0.3177 - accuracy: 0.7892 - val_loss: 0.3482 - val_accuracy: 0.7497 - lr: 0.0010 - 18s/epoch - 20ms/step
Epoch 7/50
876/876 - 18s - loss: 0.3171 - accuracy: 0.7899 - val_loss: 0.3255 - val_accuracy: 0.7691 - lr: 0.0010 - 18s/epoch - 20ms/step
Epoch 8/50
876/876 - 18s - loss: 0.3165 - accuracy: 0.7920 - val_loss: 0.3338 - val_accuracy: 0.7841 - lr: 0.0010 - 18s/epoch - 20ms/step
Epoch 9/50
876/876 - 17s - loss: 0.3158 - accuracy: 0.7925 - val_loss: 0.3440 - val_accuracy: 0.7583 - lr: 0.0010 - 17s/epoch - 20ms/step
Epoch 10/50
876/876 - 18s - loss: 0.3152 - accuracy: 0.7935 - val_loss: 0.3350 - val_accuracy: 0.7771 - lr: 0.0010 - 18s/epoch - 20ms/step
Epoch 11/50
876/876 - 18s - loss: 0.3133 - accuracy: 0.7976 - val_loss: 0.3442 - val_accuracy: 0.7647 - lr: 0.0010 - 18s/epoch - 20ms/step
Epoch 12/50
876/876 - 18s - loss: 0.3153 - accuracy: 0.7937 - val_loss: 0.3473 - val_accuracy: 0.7574 - lr: 0.0010 - 18s/epoch - 20ms/step
Epoch 13/50
876/876 - 18s - loss: 0.3145 - accuracy: 0.7951 - val_loss: 0.3274 - val_accuracy: 0.7924 - lr: 0.0010 - 18s/epoch - 20ms/step
Epoch 14/50
876/876 - 18s - loss: 0.3138 - accuracy: 0.7960 - val_loss: 0.3428 - val_accuracy: 0.7568 - lr: 0.0010 - 18s/epoch - 20ms/step
Epoch 15/50
876/876 - 18s - loss: 0.3142 - accuracy: 0.7965 - val_loss: 0.3420 - val_accuracy: 0.7760 - lr: 0.0010 - 18s/epoch - 20ms/step
Epoch 16/50
876/876 - 18s - loss: 0.3132 - accuracy: 0.7977 - val_loss: 0.3583 - val_accuracy: 0.7283 - lr: 0.0010 - 18s/epoch - 20ms/step
Epoch 17/50
876/876 - 18s - loss: 0.3136 - accuracy: 0.7962 - val_loss: 0.3246 - val_accuracy: 0.7971 - lr: 0.0010 - 18s/epoch - 20ms/step
Epoch 18/50
876/876 - 18s - loss: 0.3125 - accuracy: 0.8000 - val_loss: 0.3347 - val_accuracy: 0.7677 - lr: 0.0010 - 18s/epoch - 20ms/step
Epoch 19/50
876/876 - 18s - loss: 0.3117 - accuracy: 0.7998 - val_loss: 0.3399 - val_accuracy: 0.7595 - lr: 0.0010 - 18s/epoch - 20ms/step
Epoch 20/50
876/876 - 18s - loss: 0.3109 - accuracy: 0.8024 - val_loss: 0.3482 - val_accuracy: 0.7636 - lr: 0.0010 - 18s/epoch - 20ms/step
Epoch 21/50
876/876 - 18s - loss: 0.3115 - accuracy: 0.8015 - val_loss: 0.3441 - val_accuracy: 0.7555 - lr: 0.0010 - 18s/epoch - 20ms/step
Epoch 22/50
876/876 - 18s - loss: 0.3107 - accuracy: 0.8025 - val_loss: 0.3496 - val_accuracy: 0.7460 - lr: 0.0010 - 18s/epoch - 20ms/step
Epoch 23/50
876/876 - 18s - loss: 0.3126 - accuracy: 0.7985 - val_loss: 0.3293 - val_accuracy: 0.7876 - lr: 0.0010 - 18s/epoch - 20ms/step
Epoch 24/50
876/876 - 18s - loss: 0.3094 - accuracy: 0.8044 - val_loss: 0.3347 - val_accuracy: 0.7772 - lr: 0.0010 - 18s/epoch - 20ms/step
Epoch 25/50
876/876 - 17s - loss: 0.3097 - accuracy: 0.8044 - val_loss: 0.3257 - val_accuracy: 0.8011 - lr: 0.0010 - 17s/epoch - 20ms/step
Epoch 26/50
876/876 - 18s - loss: 0.3100 - accuracy: 0.8043 - val_loss: 0.3356 - val_accuracy: 0.7718 - lr: 0.0010 - 18s/epoch - 20ms/step
Epoch 27/50
876/876 - 17s - loss: 0.3105 - accuracy: 0.8031 - val_loss: 0.3431 - val_accuracy: 0.7624 - lr: 0.0010 - 17s/epoch - 20ms/step
Epoch 28/50
876/876 - 18s - loss: 0.3092 - accuracy: 0.8054 - val_loss: 0.3308 - val_accuracy: 0.7717 - lr: 0.0010 - 18s/epoch - 20ms/step
Epoch 29/50
876/876 - 18s - loss: 0.3095 - accuracy: 0.8046 - val_loss: 0.3453 - val_accuracy: 0.7515 - lr: 0.0010 - 18s/epoch - 20ms/step
Epoch 30/50
876/876 - 18s - loss: 0.3110 - accuracy: 0.8027 - val_loss: 0.3439 - val_accuracy: 0.7740 - lr: 0.0010 - 18s/epoch - 20ms/step
Epoch 31/50
876/876 - 18s - loss: 0.3111 - accuracy: 0.8010 - val_loss: 0.3291 - val_accuracy: 0.7944 - lr: 0.0010 - 18s/epoch - 20ms/step
Epoch 32/50
876/876 - 18s - loss: 0.3098 - accuracy: 0.8054 - val_loss: 0.3345 - val_accuracy: 0.7787 - lr: 0.0010 - 18s/epoch - 20ms/step
Epoch 33/50
876/876 - 18s - loss: 0.3112 - accuracy: 0.8007 - val_loss: 0.3464 - val_accuracy: 0.7461 - lr: 0.0010 - 18s/epoch - 20ms/step
Epoch 34/50
876/876 - 18s - loss: 0.3084 - accuracy: 0.8070 - val_loss: 0.3348 - val_accuracy: 0.7822 - lr: 0.0010 - 18s/epoch - 20ms/step
Epoch 35/50
876/876 - 18s - loss: 0.3089 - accuracy: 0.8060 - val_loss: 0.3483 - val_accuracy: 0.7580 - lr: 0.0010 - 18s/epoch - 20ms/step
Epoch 36/50
876/876 - 17s - loss: 0.3093 - accuracy: 0.8052 - val_loss: 0.3236 - val_accuracy: 0.7921 - lr: 0.0010 - 17s/epoch - 20ms/step
Epoch 37/50
876/876 - 18s - loss: 0.3089 - accuracy: 0.8068 - val_loss: 0.3582 - val_accuracy: 0.7456 - lr: 0.0010 - 18s/epoch - 20ms/step
Epoch 38/50
876/876 - 18s - loss: 0.3091 - accuracy: 0.8056 - val_loss: 0.3310 - val_accuracy: 0.7874 - lr: 0.0010 - 18s/epoch - 20ms/step
Epoch 39/50
876/876 - 18s - loss: 0.3074 - accuracy: 0.8091 - val_loss: 0.3420 - val_accuracy: 0.7600 - lr: 0.0010 - 18s/epoch - 20ms/step
Epoch 40/50
876/876 - 18s - loss: 0.3070 - accuracy: 0.8094 - val_loss: 0.3455 - val_accuracy: 0.7910 - lr: 0.0010 - 18s/epoch - 20ms/step
Epoch 41/50
876/876 - 18s - loss: 0.3074 - accuracy: 0.8089 - val_loss: 0.3603 - val_accuracy: 0.7329 - lr: 0.0010 - 18s/epoch - 20ms/step
Epoch 42/50
876/876 - 18s - loss: 0.3086 - accuracy: 0.8062 - val_loss: 0.3435 - val_accuracy: 0.7567 - lr: 0.0010 - 18s/epoch - 20ms/step
Epoch 43/50
876/876 - 17s - loss: 0.3078 - accuracy: 0.8088 - val_loss: 0.3292 - val_accuracy: 0.7708 - lr: 0.0010 - 17s/epoch - 20ms/step
Epoch 44/50
876/876 - 18s - loss: 0.3067 - accuracy: 0.8113 - val_loss: 0.3301 - val_accuracy: 0.7775 - lr: 0.0010 - 18s/epoch - 20ms/step
Epoch 45/50
876/876 - 18s - loss: 0.3065 - accuracy: 0.8123 - val_loss: 0.3437 - val_accuracy: 0.7411 - lr: 0.0010 - 18s/epoch - 20ms/step
Epoch 46/50
876/876 - 18s - loss: 0.3062 - accuracy: 0.8114 - val_loss: 0.3394 - val_accuracy: 0.7564 - lr: 0.0010 - 18s/epoch - 20ms/step
Epoch 47/50
876/876 - 17s - loss: 0.3051 - accuracy: 0.8128 - val_loss: 0.3408 - val_accuracy: 0.7552 - lr: 0.0010 - 17s/epoch - 20ms/step
Epoch 48/50
876/876 - 18s - loss: 0.3054 - accuracy: 0.8129 - val_loss: 0.3180 - val_accuracy: 0.7976 - lr: 0.0010 - 18s/epoch - 20ms/step
Epoch 49/50
876/876 - 18s - loss: 0.3052 - accuracy: 0.8127 - val_loss: 0.3380 - val_accuracy: 0.7761 - lr: 0.0010 - 18s/epoch - 20ms/step
Epoch 50/50
876/876 - 17s - loss: 0.3059 - accuracy: 0.8126 - val_loss: 0.3382 - val_accuracy: 0.7393 - lr: 0.0010 - 17s/epoch - 20ms/step
fitting with batch size: 500
Epoch 1/50
176/176 - 11s - loss: 0.2960 - accuracy: 0.8292 - val_loss: 0.3368 - val_accuracy: 0.7627 - lr: 0.0010 - 11s/epoch - 63ms/step
Epoch 2/50
176/176 - 9s - loss: 0.2951 - accuracy: 0.8301 - val_loss: 0.3351 - val_accuracy: 0.7612 - lr: 0.0010 - 9s/epoch - 50ms/step
Epoch 3/50
176/176 - 9s - loss: 0.2940 - accuracy: 0.8333 - val_loss: 0.3379 - val_accuracy: 0.7671 - lr: 0.0010 - 9s/epoch - 50ms/step
Epoch 4/50
176/176 - 9s - loss: 0.2951 - accuracy: 0.8310 - val_loss: 0.3303 - val_accuracy: 0.7778 - lr: 0.0010 - 9s/epoch - 50ms/step
Epoch 5/50
176/176 - 9s - loss: 0.2943 - accuracy: 0.8313 - val_loss: 0.3431 - val_accuracy: 0.7587 - lr: 0.0010 - 9s/epoch - 50ms/step
Epoch 6/50
176/176 - 9s - loss: 0.2935 - accuracy: 0.8346 - val_loss: 0.3391 - val_accuracy: 0.7684 - lr: 0.0010 - 9s/epoch - 50ms/step
Epoch 7/50
176/176 - 9s - loss: 0.2948 - accuracy: 0.8310 - val_loss: 0.3291 - val_accuracy: 0.7740 - lr: 0.0010 - 9s/epoch - 50ms/step
Epoch 8/50
176/176 - 9s - loss: 0.2941 - accuracy: 0.8331 - val_loss: 0.3413 - val_accuracy: 0.7495 - lr: 0.0010 - 9s/epoch - 50ms/step
Epoch 9/50
176/176 - 9s - loss: 0.2938 - accuracy: 0.8330 - val_loss: 0.3314 - val_accuracy: 0.7643 - lr: 0.0010 - 9s/epoch - 50ms/step
Epoch 10/50
176/176 - 9s - loss: 0.2926 - accuracy: 0.8354 - val_loss: 0.3342 - val_accuracy: 0.7617 - lr: 0.0010 - 9s/epoch - 50ms/step
Epoch 11/50
176/176 - 9s - loss: 0.2918 - accuracy: 0.8376 - val_loss: 0.3352 - val_accuracy: 0.7577 - lr: 0.0010 - 9s/epoch - 50ms/step
Epoch 12/50
176/176 - 9s - loss: 0.2929 - accuracy: 0.8356 - val_loss: 0.3350 - val_accuracy: 0.7587 - lr: 0.0010 - 9s/epoch - 50ms/step
Epoch 13/50
176/176 - 9s - loss: 0.2918 - accuracy: 0.8372 - val_loss: 0.3319 - val_accuracy: 0.7655 - lr: 0.0010 - 9s/epoch - 50ms/step
Epoch 14/50
176/176 - 9s - loss: 0.2961 - accuracy: 0.8306 - val_loss: 0.3321 - val_accuracy: 0.7767 - lr: 0.0010 - 9s/epoch - 50ms/step
Epoch 15/50
176/176 - 9s - loss: 0.2912 - accuracy: 0.8379 - val_loss: 0.3380 - val_accuracy: 0.7652 - lr: 0.0010 - 9s/epoch - 50ms/step
Epoch 16/50
176/176 - 9s - loss: 0.2917 - accuracy: 0.8378 - val_loss: 0.3393 - val_accuracy: 0.7549 - lr: 0.0010 - 9s/epoch - 50ms/step
Epoch 17/50
176/176 - 9s - loss: 0.2916 - accuracy: 0.8372 - val_loss: 0.3377 - val_accuracy: 0.7574 - lr: 0.0010 - 9s/epoch - 50ms/step
Epoch 18/50
176/176 - 9s - loss: 0.2917 - accuracy: 0.8375 - val_loss: 0.3431 - val_accuracy: 0.7568 - lr: 0.0010 - 9s/epoch - 50ms/step
Epoch 19/50
176/176 - 9s - loss: 0.2915 - accuracy: 0.8378 - val_loss: 0.3381 - val_accuracy: 0.7750 - lr: 0.0010 - 9s/epoch - 50ms/step
Epoch 20/50
176/176 - 9s - loss: 0.2923 - accuracy: 0.8359 - val_loss: 0.3436 - val_accuracy: 0.7594 - lr: 0.0010 - 9s/epoch - 50ms/step
Epoch 21/50
176/176 - 9s - loss: 0.2930 - accuracy: 0.8356 - val_loss: 0.3398 - val_accuracy: 0.7581 - lr: 0.0010 - 9s/epoch - 50ms/step
Epoch 22/50
176/176 - 9s - loss: 0.2914 - accuracy: 0.8388 - val_loss: 0.3283 - val_accuracy: 0.7807 - lr: 0.0010 - 9s/epoch - 50ms/step
Epoch 23/50
176/176 - 9s - loss: 0.2909 - accuracy: 0.8395 - val_loss: 0.3357 - val_accuracy: 0.7702 - lr: 0.0010 - 9s/epoch - 50ms/step
Epoch 24/50
176/176 - 9s - loss: 0.2902 - accuracy: 0.8411 - val_loss: 0.3373 - val_accuracy: 0.7630 - lr: 0.0010 - 9s/epoch - 50ms/step
Epoch 25/50
176/176 - 9s - loss: 0.2965 - accuracy: 0.8294 - val_loss: 0.3457 - val_accuracy: 0.7473 - lr: 0.0010 - 9s/epoch - 50ms/step
Epoch 26/50
176/176 - 9s - loss: 0.2914 - accuracy: 0.8380 - val_loss: 0.3367 - val_accuracy: 0.7672 - lr: 0.0010 - 9s/epoch - 50ms/step
Epoch 27/50
176/176 - 9s - loss: 0.2921 - accuracy: 0.8367 - val_loss: 0.3327 - val_accuracy: 0.7756 - lr: 0.0010 - 9s/epoch - 50ms/step
Epoch 28/50
176/176 - 9s - loss: 0.2936 - accuracy: 0.8336 - val_loss: 0.3315 - val_accuracy: 0.7733 - lr: 0.0010 - 9s/epoch - 50ms/step
Epoch 29/50
176/176 - 9s - loss: 0.2896 - accuracy: 0.8416 - val_loss: 0.3424 - val_accuracy: 0.7564 - lr: 0.0010 - 9s/epoch - 50ms/step
Epoch 30/50
176/176 - 9s - loss: 0.2903 - accuracy: 0.8397 - val_loss: 0.3473 - val_accuracy: 0.7560 - lr: 0.0010 - 9s/epoch - 50ms/step
Epoch 31/50
176/176 - 9s - loss: 0.2889 - accuracy: 0.8425 - val_loss: 0.3279 - val_accuracy: 0.7747 - lr: 0.0010 - 9s/epoch - 50ms/step
Epoch 32/50
176/176 - 9s - loss: 0.2904 - accuracy: 0.8395 - val_loss: 0.3389 - val_accuracy: 0.7652 - lr: 0.0010 - 9s/epoch - 50ms/step
Epoch 33/50
176/176 - 9s - loss: 0.2901 - accuracy: 0.8400 - val_loss: 0.3460 - val_accuracy: 0.7650 - lr: 0.0010 - 9s/epoch - 50ms/step
Epoch 34/50
176/176 - 9s - loss: 0.2896 - accuracy: 0.8417 - val_loss: 0.3424 - val_accuracy: 0.7653 - lr: 0.0010 - 9s/epoch - 50ms/step
Epoch 35/50
176/176 - 9s - loss: 0.2899 - accuracy: 0.8404 - val_loss: 0.3391 - val_accuracy: 0.7563 - lr: 0.0010 - 9s/epoch - 50ms/step
Epoch 36/50
176/176 - 9s - loss: 0.2886 - accuracy: 0.8430 - val_loss: 0.3435 - val_accuracy: 0.7638 - lr: 0.0010 - 9s/epoch - 50ms/step
Epoch 37/50
176/176 - 9s - loss: 0.2889 - accuracy: 0.8429 - val_loss: 0.3361 - val_accuracy: 0.7743 - lr: 0.0010 - 9s/epoch - 50ms/step
Epoch 38/50
176/176 - 9s - loss: 0.2892 - accuracy: 0.8422 - val_loss: 0.3397 - val_accuracy: 0.7602 - lr: 0.0010 - 9s/epoch - 50ms/step
Epoch 39/50
176/176 - 9s - loss: 0.2894 - accuracy: 0.8419 - val_loss: 0.3363 - val_accuracy: 0.7742 - lr: 0.0010 - 9s/epoch - 50ms/step
Epoch 40/50
176/176 - 9s - loss: 0.2885 - accuracy: 0.8434 - val_loss: 0.3444 - val_accuracy: 0.7579 - lr: 0.0010 - 9s/epoch - 50ms/step
Epoch 41/50
176/176 - 9s - loss: 0.2887 - accuracy: 0.8432 - val_loss: 0.3396 - val_accuracy: 0.7674 - lr: 0.0010 - 9s/epoch - 50ms/step
Epoch 42/50
176/176 - 9s - loss: 0.2891 - accuracy: 0.8429 - val_loss: 0.3384 - val_accuracy: 0.7749 - lr: 0.0010 - 9s/epoch - 50ms/step
Epoch 43/50
176/176 - 9s - loss: 0.2883 - accuracy: 0.8440 - val_loss: 0.3345 - val_accuracy: 0.7693 - lr: 0.0010 - 9s/epoch - 50ms/step
Epoch 44/50
176/176 - 9s - loss: 0.2891 - accuracy: 0.8423 - val_loss: 0.3348 - val_accuracy: 0.7802 - lr: 0.0010 - 9s/epoch - 50ms/step
Epoch 45/50
176/176 - 9s - loss: 0.2880 - accuracy: 0.8439 - val_loss: 0.3404 - val_accuracy: 0.7663 - lr: 0.0010 - 9s/epoch - 50ms/step
Epoch 46/50
176/176 - 9s - loss: 0.2877 - accuracy: 0.8458 - val_loss: 0.3484 - val_accuracy: 0.7619 - lr: 0.0010 - 9s/epoch - 50ms/step
Epoch 47/50
176/176 - 9s - loss: 0.2876 - accuracy: 0.8453 - val_loss: 0.3512 - val_accuracy: 0.7528 - lr: 0.0010 - 9s/epoch - 50ms/step
Epoch 48/50
176/176 - 9s - loss: 0.2889 - accuracy: 0.8426 - val_loss: 0.3454 - val_accuracy: 0.7592 - lr: 0.0010 - 9s/epoch - 50ms/step
Epoch 49/50
176/176 - 9s - loss: 0.2901 - accuracy: 0.8418 - val_loss: 0.3343 - val_accuracy: 0.7713 - lr: 0.0010 - 9s/epoch - 50ms/step
Epoch 50/50
176/176 - 9s - loss: 0.2896 - accuracy: 0.8419 - val_loss: 0.3482 - val_accuracy: 0.7606 - lr: 0.0010 - 9s/epoch - 50ms/step
Loss: kullback_leibler_divergence
Epoch number: 25
fitting with batch size: 20
Epoch 1/25
4378/4378 - 75s - loss: 0.6642 - accuracy: 0.7678 - val_loss: 0.7790 - val_accuracy: 0.7913 - lr: 0.0010 - 75s/epoch - 17ms/step
Epoch 2/25
4378/4378 - 73s - loss: 0.6733 - accuracy: 0.7643 - val_loss: 0.8213 - val_accuracy: 0.7360 - lr: 0.0010 - 73s/epoch - 17ms/step
Epoch 3/25
4378/4378 - 74s - loss: 0.7203 - accuracy: 0.7466 - val_loss: 0.8359 - val_accuracy: 0.7500 - lr: 0.0010 - 74s/epoch - 17ms/step
Epoch 4/25
4378/4378 - 73s - loss: 0.7072 - accuracy: 0.7506 - val_loss: 0.6376 - val_accuracy: 0.8391 - lr: 0.0010 - 73s/epoch - 17ms/step
Epoch 5/25
4378/4378 - 73s - loss: 0.6903 - accuracy: 0.7555 - val_loss: 0.6997 - val_accuracy: 0.7557 - lr: 0.0010 - 73s/epoch - 17ms/step
Epoch 6/25
4378/4378 - 74s - loss: 0.7137 - accuracy: 0.7520 - val_loss: 0.8429 - val_accuracy: 0.7553 - lr: 0.0010 - 74s/epoch - 17ms/step
Epoch 7/25
4378/4378 - 74s - loss: 0.7276 - accuracy: 0.7432 - val_loss: 0.7167 - val_accuracy: 0.7853 - lr: 0.0010 - 74s/epoch - 17ms/step
Epoch 8/25
4378/4378 - 73s - loss: 0.7060 - accuracy: 0.7522 - val_loss: 0.8924 - val_accuracy: 0.7204 - lr: 0.0010 - 73s/epoch - 17ms/step
Epoch 9/25
4378/4378 - 73s - loss: 0.7108 - accuracy: 0.7500 - val_loss: 0.8603 - val_accuracy: 0.7207 - lr: 0.0010 - 73s/epoch - 17ms/step
Epoch 10/25
4378/4378 - 74s - loss: 0.7178 - accuracy: 0.7468 - val_loss: 0.7691 - val_accuracy: 0.7558 - lr: 0.0010 - 74s/epoch - 17ms/step
Epoch 11/25
4378/4378 - 74s - loss: 0.7311 - accuracy: 0.7438 - val_loss: 0.7753 - val_accuracy: 0.8047 - lr: 0.0010 - 74s/epoch - 17ms/step
Epoch 12/25
4378/4378 - 74s - loss: 0.7921 - accuracy: 0.7351 - val_loss: 0.7973 - val_accuracy: 0.7657 - lr: 0.0010 - 74s/epoch - 17ms/step
Epoch 13/25
4378/4378 - 74s - loss: 0.7675 - accuracy: 0.7306 - val_loss: 0.7849 - val_accuracy: 0.7494 - lr: 0.0010 - 74s/epoch - 17ms/step
Epoch 14/25
4378/4378 - 74s - loss: 0.7603 - accuracy: 0.7361 - val_loss: 0.8003 - val_accuracy: 0.7730 - lr: 0.0010 - 74s/epoch - 17ms/step
Epoch 15/25
4378/4378 - 74s - loss: 0.7236 - accuracy: 0.7461 - val_loss: 0.8344 - val_accuracy: 0.7610 - lr: 0.0010 - 74s/epoch - 17ms/step
Epoch 16/25
4378/4378 - 74s - loss: 0.7401 - accuracy: 0.7403 - val_loss: 0.6956 - val_accuracy: 0.7754 - lr: 0.0010 - 74s/epoch - 17ms/step
Epoch 17/25
4378/4378 - 74s - loss: 0.7352 - accuracy: 0.7448 - val_loss: 0.7098 - val_accuracy: 0.7983 - lr: 0.0010 - 74s/epoch - 17ms/step
Epoch 18/25
4378/4378 - 74s - loss: 0.7302 - accuracy: 0.7429 - val_loss: 0.8345 - val_accuracy: 0.7619 - lr: 0.0010 - 74s/epoch - 17ms/step
Epoch 19/25
4378/4378 - 74s - loss: 0.8239 - accuracy: 0.7224 - val_loss: 0.7740 - val_accuracy: 0.7511 - lr: 0.0010 - 74s/epoch - 17ms/step
Epoch 20/25
4378/4378 - 74s - loss: 0.7953 - accuracy: 0.7327 - val_loss: 0.7516 - val_accuracy: 0.7631 - lr: 0.0010 - 74s/epoch - 17ms/step
Epoch 21/25
4378/4378 - 74s - loss: 0.7207 - accuracy: 0.7470 - val_loss: 0.8017 - val_accuracy: 0.7633 - lr: 0.0010 - 74s/epoch - 17ms/step
Epoch 22/25
4378/4378 - 75s - loss: 0.7376 - accuracy: 0.7411 - val_loss: 0.8293 - val_accuracy: 0.7498 - lr: 0.0010 - 75s/epoch - 17ms/step
Epoch 23/25
4378/4378 - 74s - loss: 0.7234 - accuracy: 0.7451 - val_loss: 0.7152 - val_accuracy: 0.7823 - lr: 0.0010 - 74s/epoch - 17ms/step
Epoch 24/25
4378/4378 - 74s - loss: 0.7407 - accuracy: 0.7409 - val_loss: 0.9265 - val_accuracy: 0.6887 - lr: 0.0010 - 74s/epoch - 17ms/step
Epoch 25/25
4378/4378 - 74s - loss: 0.7272 - accuracy: 0.7447 - val_loss: 0.6697 - val_accuracy: 0.7673 - lr: 0.0010 - 74s/epoch - 17ms/step
fitting with batch size: 100
Epoch 1/25
876/876 - 20s - loss: 0.6447 - accuracy: 0.7699 - val_loss: 0.6679 - val_accuracy: 0.7906 - lr: 0.0010 - 20s/epoch - 23ms/step
Epoch 2/25
876/876 - 18s - loss: 0.6232 - accuracy: 0.7787 - val_loss: 0.6254 - val_accuracy: 0.7965 - lr: 0.0010 - 18s/epoch - 20ms/step
Epoch 3/25
876/876 - 18s - loss: 0.5985 - accuracy: 0.7866 - val_loss: 0.6058 - val_accuracy: 0.7870 - lr: 0.0010 - 18s/epoch - 20ms/step
Epoch 4/25
876/876 - 18s - loss: 0.5989 - accuracy: 0.7847 - val_loss: 0.6177 - val_accuracy: 0.7874 - lr: 0.0010 - 18s/epoch - 20ms/step
Epoch 5/25
876/876 - 18s - loss: 0.5856 - accuracy: 0.7909 - val_loss: 0.7183 - val_accuracy: 0.7768 - lr: 0.0010 - 18s/epoch - 20ms/step
Epoch 6/25
876/876 - 18s - loss: 0.5765 - accuracy: 0.7939 - val_loss: 0.6681 - val_accuracy: 0.7726 - lr: 0.0010 - 18s/epoch - 20ms/step
Epoch 7/25
876/876 - 18s - loss: 0.5718 - accuracy: 0.7962 - val_loss: 0.7218 - val_accuracy: 0.7675 - lr: 0.0010 - 18s/epoch - 20ms/step
Epoch 8/25
876/876 - 18s - loss: 0.5768 - accuracy: 0.7945 - val_loss: 0.7901 - val_accuracy: 0.7579 - lr: 0.0010 - 18s/epoch - 20ms/step
Epoch 9/25
876/876 - 18s - loss: 0.5699 - accuracy: 0.7960 - val_loss: 0.7602 - val_accuracy: 0.7381 - lr: 0.0010 - 18s/epoch - 20ms/step
Epoch 10/25
876/876 - 18s - loss: 0.5649 - accuracy: 0.7977 - val_loss: 0.6451 - val_accuracy: 0.7717 - lr: 0.0010 - 18s/epoch - 20ms/step
Epoch 11/25
876/876 - 18s - loss: 0.5658 - accuracy: 0.7989 - val_loss: 0.6990 - val_accuracy: 0.7678 - lr: 0.0010 - 18s/epoch - 20ms/step
Epoch 12/25
876/876 - 18s - loss: 0.5659 - accuracy: 0.7987 - val_loss: 0.6973 - val_accuracy: 0.7550 - lr: 0.0010 - 18s/epoch - 20ms/step
Epoch 13/25
876/876 - 18s - loss: 0.5525 - accuracy: 0.8015 - val_loss: 0.6843 - val_accuracy: 0.7682 - lr: 0.0010 - 18s/epoch - 20ms/step
Epoch 14/25
876/876 - 18s - loss: 0.5553 - accuracy: 0.8014 - val_loss: 0.6347 - val_accuracy: 0.8036 - lr: 0.0010 - 18s/epoch - 20ms/step
Epoch 15/25
876/876 - 18s - loss: 0.5498 - accuracy: 0.8037 - val_loss: 0.7480 - val_accuracy: 0.7500 - lr: 0.0010 - 18s/epoch - 20ms/step
Epoch 16/25
876/876 - 18s - loss: 0.5534 - accuracy: 0.8016 - val_loss: 0.6342 - val_accuracy: 0.7850 - lr: 0.0010 - 18s/epoch - 20ms/step
Epoch 17/25
876/876 - 18s - loss: 0.5551 - accuracy: 0.8020 - val_loss: 0.6912 - val_accuracy: 0.7667 - lr: 0.0010 - 18s/epoch - 20ms/step
Epoch 18/25
876/876 - 18s - loss: 0.5423 - accuracy: 0.8067 - val_loss: 0.6995 - val_accuracy: 0.7567 - lr: 0.0010 - 18s/epoch - 20ms/step
Epoch 19/25
876/876 - 18s - loss: 0.5418 - accuracy: 0.8058 - val_loss: 0.7403 - val_accuracy: 0.7476 - lr: 0.0010 - 18s/epoch - 20ms/step
Epoch 20/25
876/876 - 18s - loss: 0.5469 - accuracy: 0.8059 - val_loss: 0.7310 - val_accuracy: 0.7416 - lr: 0.0010 - 18s/epoch - 20ms/step
Epoch 21/25
876/876 - 18s - loss: 0.5470 - accuracy: 0.8063 - val_loss: 0.7090 - val_accuracy: 0.7500 - lr: 0.0010 - 18s/epoch - 20ms/step
Epoch 22/25
876/876 - 18s - loss: 0.5509 - accuracy: 0.8048 - val_loss: 0.6911 - val_accuracy: 0.7579 - lr: 0.0010 - 18s/epoch - 20ms/step
Epoch 23/25
876/876 - 18s - loss: 0.5367 - accuracy: 0.8096 - val_loss: 0.7609 - val_accuracy: 0.7370 - lr: 0.0010 - 18s/epoch - 20ms/step
Epoch 24/25
876/876 - 18s - loss: 0.5573 - accuracy: 0.8024 - val_loss: 0.7093 - val_accuracy: 0.7821 - lr: 0.0010 - 18s/epoch - 20ms/step
Epoch 25/25
876/876 - 18s - loss: 0.5527 - accuracy: 0.8038 - val_loss: 0.7122 - val_accuracy: 0.7723 - lr: 0.0010 - 18s/epoch - 20ms/step
fitting with batch size: 500
Epoch 1/25
176/176 - 11s - loss: 0.4985 - accuracy: 0.8217 - val_loss: 0.7259 - val_accuracy: 0.7628 - lr: 0.0010 - 11s/epoch - 64ms/step
Epoch 2/25
176/176 - 9s - loss: 0.4897 - accuracy: 0.8248 - val_loss: 0.6727 - val_accuracy: 0.7772 - lr: 0.0010 - 9s/epoch - 51ms/step
Epoch 3/25
176/176 - 9s - loss: 0.4875 - accuracy: 0.8257 - val_loss: 0.6920 - val_accuracy: 0.7656 - lr: 0.0010 - 9s/epoch - 50ms/step
Epoch 4/25
176/176 - 9s - loss: 0.4804 - accuracy: 0.8276 - val_loss: 0.7084 - val_accuracy: 0.7615 - lr: 0.0010 - 9s/epoch - 50ms/step
Epoch 5/25
176/176 - 9s - loss: 0.4956 - accuracy: 0.8219 - val_loss: 0.6916 - val_accuracy: 0.7714 - lr: 0.0010 - 9s/epoch - 50ms/step
Epoch 6/25
176/176 - 9s - loss: 0.4884 - accuracy: 0.8255 - val_loss: 0.6576 - val_accuracy: 0.7820 - lr: 0.0010 - 9s/epoch - 50ms/step
Epoch 7/25
176/176 - 9s - loss: 0.5202 - accuracy: 0.8129 - val_loss: 0.6611 - val_accuracy: 0.7736 - lr: 0.0010 - 9s/epoch - 51ms/step
Epoch 8/25
176/176 - 9s - loss: 0.4843 - accuracy: 0.8264 - val_loss: 0.7429 - val_accuracy: 0.7616 - lr: 0.0010 - 9s/epoch - 51ms/step
Epoch 9/25
176/176 - 9s - loss: 0.4974 - accuracy: 0.8258 - val_loss: 0.6884 - val_accuracy: 0.7648 - lr: 0.0010 - 9s/epoch - 51ms/step
Epoch 10/25
176/176 - 9s - loss: 0.4750 - accuracy: 0.8304 - val_loss: 0.6901 - val_accuracy: 0.7741 - lr: 0.0010 - 9s/epoch - 51ms/step
Epoch 11/25
176/176 - 9s - loss: 0.4814 - accuracy: 0.8290 - val_loss: 0.6541 - val_accuracy: 0.7723 - lr: 0.0010 - 9s/epoch - 51ms/step
Epoch 12/25
176/176 - 9s - loss: 0.4783 - accuracy: 0.8288 - val_loss: 0.6894 - val_accuracy: 0.7708 - lr: 0.0010 - 9s/epoch - 51ms/step
Epoch 13/25
176/176 - 9s - loss: 0.4798 - accuracy: 0.8285 - val_loss: 0.7549 - val_accuracy: 0.7414 - lr: 0.0010 - 9s/epoch - 51ms/step
Epoch 14/25
176/176 - 9s - loss: 0.4664 - accuracy: 0.8338 - val_loss: 0.7441 - val_accuracy: 0.7558 - lr: 0.0010 - 9s/epoch - 51ms/step
Epoch 15/25
176/176 - 9s - loss: 0.4776 - accuracy: 0.8309 - val_loss: 0.6677 - val_accuracy: 0.7777 - lr: 0.0010 - 9s/epoch - 51ms/step
Epoch 16/25
176/176 - 9s - loss: 0.4689 - accuracy: 0.8330 - val_loss: 0.6787 - val_accuracy: 0.7614 - lr: 0.0010 - 9s/epoch - 51ms/step
Epoch 17/25
176/176 - 9s - loss: 0.4659 - accuracy: 0.8335 - val_loss: 0.6781 - val_accuracy: 0.7692 - lr: 0.0010 - 9s/epoch - 51ms/step
Epoch 18/25
176/176 - 9s - loss: 0.4692 - accuracy: 0.8319 - val_loss: 0.7241 - val_accuracy: 0.7619 - lr: 0.0010 - 9s/epoch - 51ms/step
Epoch 19/25
176/176 - 9s - loss: 0.4686 - accuracy: 0.8332 - val_loss: 0.6842 - val_accuracy: 0.7754 - lr: 0.0010 - 9s/epoch - 51ms/step
Epoch 20/25
176/176 - 9s - loss: 0.4666 - accuracy: 0.8346 - val_loss: 0.6808 - val_accuracy: 0.7683 - lr: 0.0010 - 9s/epoch - 51ms/step
Epoch 21/25
176/176 - 9s - loss: 0.4606 - accuracy: 0.8366 - val_loss: 0.6886 - val_accuracy: 0.7715 - lr: 0.0010 - 9s/epoch - 51ms/step
Epoch 22/25
176/176 - 9s - loss: 0.4612 - accuracy: 0.8359 - val_loss: 0.7099 - val_accuracy: 0.7783 - lr: 0.0010 - 9s/epoch - 51ms/step
Epoch 23/25
176/176 - 9s - loss: 0.4658 - accuracy: 0.8341 - val_loss: 0.6819 - val_accuracy: 0.7709 - lr: 0.0010 - 9s/epoch - 51ms/step
Epoch 24/25
176/176 - 9s - loss: 0.4669 - accuracy: 0.8341 - val_loss: 0.6522 - val_accuracy: 0.7793 - lr: 0.0010 - 9s/epoch - 51ms/step
Epoch 25/25
176/176 - 9s - loss: 0.4801 - accuracy: 0.8301 - val_loss: 0.7355 - val_accuracy: 0.7557 - lr: 0.0010 - 9s/epoch - 51ms/step
Epoch number: 50
fitting with batch size: 20
Epoch 1/50
4378/4378 - 76s - loss: 0.6756 - accuracy: 0.7628 - val_loss: 0.6948 - val_accuracy: 0.7850 - lr: 0.0010 - 76s/epoch - 17ms/step
Epoch 2/50
4378/4378 - 74s - loss: 0.7326 - accuracy: 0.7509 - val_loss: 0.6980 - val_accuracy: 0.8063 - lr: 0.0010 - 74s/epoch - 17ms/step
Epoch 3/50
4378/4378 - 74s - loss: 0.6852 - accuracy: 0.7596 - val_loss: 0.7875 - val_accuracy: 0.7950 - lr: 0.0010 - 74s/epoch - 17ms/step
Epoch 4/50
4378/4378 - 73s - loss: 0.6927 - accuracy: 0.7574 - val_loss: 0.7843 - val_accuracy: 0.7646 - lr: 0.0010 - 73s/epoch - 17ms/step
Epoch 5/50
4378/4378 - 74s - loss: 0.6932 - accuracy: 0.7567 - val_loss: 0.7283 - val_accuracy: 0.7926 - lr: 0.0010 - 74s/epoch - 17ms/step
Epoch 6/50
4378/4378 - 74s - loss: 0.7123 - accuracy: 0.7501 - val_loss: 0.9051 - val_accuracy: 0.6653 - lr: 0.0010 - 74s/epoch - 17ms/step
Epoch 7/50
4378/4378 - 73s - loss: 0.7148 - accuracy: 0.7512 - val_loss: 0.7508 - val_accuracy: 0.7646 - lr: 0.0010 - 73s/epoch - 17ms/step
Epoch 8/50
4378/4378 - 74s - loss: 0.7202 - accuracy: 0.7492 - val_loss: 0.7577 - val_accuracy: 0.7548 - lr: 0.0010 - 74s/epoch - 17ms/step
Epoch 9/50
4378/4378 - 74s - loss: 0.7065 - accuracy: 0.7498 - val_loss: 0.7293 - val_accuracy: 0.7759 - lr: 0.0010 - 74s/epoch - 17ms/step
Epoch 10/50
4378/4378 - 73s - loss: 0.7242 - accuracy: 0.7467 - val_loss: 0.9071 - val_accuracy: 0.7501 - lr: 0.0010 - 73s/epoch - 17ms/step
Epoch 11/50
4378/4378 - 73s - loss: 0.7045 - accuracy: 0.7514 - val_loss: 0.6878 - val_accuracy: 0.7530 - lr: 0.0010 - 73s/epoch - 17ms/step
Epoch 12/50
4378/4378 - 73s - loss: 0.7340 - accuracy: 0.7457 - val_loss: 0.8534 - val_accuracy: 0.7320 - lr: 0.0010 - 73s/epoch - 17ms/step
Epoch 13/50
4378/4378 - 74s - loss: 0.7204 - accuracy: 0.7478 - val_loss: 0.9053 - val_accuracy: 0.7113 - lr: 0.0010 - 74s/epoch - 17ms/step
Epoch 14/50
4378/4378 - 74s - loss: 0.7345 - accuracy: 0.7408 - val_loss: 0.8833 - val_accuracy: 0.7081 - lr: 0.0010 - 74s/epoch - 17ms/step
Epoch 15/50
4378/4378 - 74s - loss: 0.7459 - accuracy: 0.7383 - val_loss: 0.7201 - val_accuracy: 0.7580 - lr: 0.0010 - 74s/epoch - 17ms/step
Epoch 16/50
4378/4378 - 74s - loss: 0.7612 - accuracy: 0.7351 - val_loss: 0.6594 - val_accuracy: 0.7986 - lr: 0.0010 - 74s/epoch - 17ms/step
Epoch 17/50
4378/4378 - 74s - loss: 0.7376 - accuracy: 0.7426 - val_loss: 0.7919 - val_accuracy: 0.7611 - lr: 0.0010 - 74s/epoch - 17ms/step
Epoch 18/50
4378/4378 - 74s - loss: 0.7758 - accuracy: 0.7269 - val_loss: 0.8762 - val_accuracy: 0.7440 - lr: 0.0010 - 74s/epoch - 17ms/step
Epoch 19/50
4378/4378 - 74s - loss: 0.7825 - accuracy: 0.7283 - val_loss: 0.6684 - val_accuracy: 0.8098 - lr: 0.0010 - 74s/epoch - 17ms/step
Epoch 20/50
4378/4378 - 74s - loss: 0.7649 - accuracy: 0.7331 - val_loss: 0.7721 - val_accuracy: 0.7766 - lr: 0.0010 - 74s/epoch - 17ms/step
Epoch 21/50
4378/4378 - 74s - loss: 0.7601 - accuracy: 0.7335 - val_loss: 0.8033 - val_accuracy: 0.7653 - lr: 0.0010 - 74s/epoch - 17ms/step
Epoch 22/50
4378/4378 - 74s - loss: 0.7499 - accuracy: 0.7370 - val_loss: 0.7089 - val_accuracy: 0.7989 - lr: 0.0010 - 74s/epoch - 17ms/step
Epoch 23/50
4378/4378 - 74s - loss: 0.7601 - accuracy: 0.7353 - val_loss: 0.7732 - val_accuracy: 0.7857 - lr: 0.0010 - 74s/epoch - 17ms/step
Epoch 24/50
4378/4378 - 74s - loss: 0.7806 - accuracy: 0.7248 - val_loss: 0.7340 - val_accuracy: 0.7929 - lr: 0.0010 - 74s/epoch - 17ms/step
Epoch 25/50
4378/4378 - 74s - loss: 0.7671 - accuracy: 0.7317 - val_loss: 0.6624 - val_accuracy: 0.7830 - lr: 0.0010 - 74s/epoch - 17ms/step
Epoch 26/50
4378/4378 - 74s - loss: 0.8508 - accuracy: 0.7181 - val_loss: 0.7081 - val_accuracy: 0.7817 - lr: 0.0010 - 74s/epoch - 17ms/step
Epoch 27/50
4378/4378 - 74s - loss: 0.7858 - accuracy: 0.7285 - val_loss: 0.9613 - val_accuracy: 0.7382 - lr: 0.0010 - 74s/epoch - 17ms/step
Epoch 28/50
4378/4378 - 74s - loss: 0.8016 - accuracy: 0.7202 - val_loss: 0.9652 - val_accuracy: 0.6994 - lr: 0.0010 - 74s/epoch - 17ms/step
Epoch 29/50
4378/4378 - 74s - loss: 0.7683 - accuracy: 0.7292 - val_loss: 0.8110 - val_accuracy: 0.7663 - lr: 0.0010 - 74s/epoch - 17ms/step
Epoch 30/50
4378/4378 - 74s - loss: 0.7953 - accuracy: 0.7198 - val_loss: 0.7647 - val_accuracy: 0.8081 - lr: 0.0010 - 74s/epoch - 17ms/step
Epoch 31/50
4378/4378 - 74s - loss: 0.7876 - accuracy: 0.7270 - val_loss: 0.8133 - val_accuracy: 0.7438 - lr: 0.0010 - 74s/epoch - 17ms/step
Epoch 32/50
4378/4378 - 74s - loss: 0.9322 - accuracy: 0.7137 - val_loss: 0.8685 - val_accuracy: 0.7172 - lr: 0.0010 - 74s/epoch - 17ms/step
Epoch 33/50
4378/4378 - 74s - loss: 0.7791 - accuracy: 0.7271 - val_loss: 0.7654 - val_accuracy: 0.7604 - lr: 0.0010 - 74s/epoch - 17ms/step
Epoch 34/50
4378/4378 - 74s - loss: 0.7962 - accuracy: 0.7266 - val_loss: 0.7468 - val_accuracy: 0.8046 - lr: 0.0010 - 74s/epoch - 17ms/step
Epoch 35/50
4378/4378 - 74s - loss: 0.7769 - accuracy: 0.7283 - val_loss: 0.8146 - val_accuracy: 0.7726 - lr: 0.0010 - 74s/epoch - 17ms/step
Epoch 36/50
4378/4378 - 74s - loss: 0.7763 - accuracy: 0.7286 - val_loss: 0.8529 - val_accuracy: 0.7840 - lr: 0.0010 - 74s/epoch - 17ms/step
Epoch 37/50
4378/4378 - 74s - loss: 0.7736 - accuracy: 0.7275 - val_loss: 0.8112 - val_accuracy: 0.7282 - lr: 0.0010 - 74s/epoch - 17ms/step
Epoch 38/50
4378/4378 - 74s - loss: 0.7700 - accuracy: 0.7321 - val_loss: 0.7968 - val_accuracy: 0.7433 - lr: 0.0010 - 74s/epoch - 17ms/step
Epoch 39/50
4378/4378 - 74s - loss: 0.7525 - accuracy: 0.7359 - val_loss: 0.8145 - val_accuracy: 0.7538 - lr: 0.0010 - 74s/epoch - 17ms/step
Epoch 40/50
4378/4378 - 74s - loss: 0.7652 - accuracy: 0.7331 - val_loss: 0.6948 - val_accuracy: 0.7520 - lr: 0.0010 - 74s/epoch - 17ms/step
Epoch 41/50
4378/4378 - 74s - loss: 0.7661 - accuracy: 0.7308 - val_loss: 0.7923 - val_accuracy: 0.7646 - lr: 0.0010 - 74s/epoch - 17ms/step
Epoch 42/50
4378/4378 - 74s - loss: 0.8164 - accuracy: 0.7164 - val_loss: 0.8656 - val_accuracy: 0.7265 - lr: 0.0010 - 74s/epoch - 17ms/step
Epoch 43/50
4378/4378 - 74s - loss: 0.7793 - accuracy: 0.7267 - val_loss: 0.8942 - val_accuracy: 0.6996 - lr: 0.0010 - 74s/epoch - 17ms/step
Epoch 44/50
4378/4378 - 74s - loss: 1.3644 - accuracy: 0.6942 - val_loss: 14.1610 - val_accuracy: 0.0693 - lr: 0.0010 - 74s/epoch - 17ms/step
Epoch 45/50
4378/4378 - 74s - loss: 1.5510 - accuracy: 0.6585 - val_loss: 0.6924 - val_accuracy: 0.7944 - lr: 0.0010 - 74s/epoch - 17ms/step
Epoch 46/50
4378/4378 - 74s - loss: 0.8075 - accuracy: 0.7164 - val_loss: 0.6380 - val_accuracy: 0.8403 - lr: 0.0010 - 74s/epoch - 17ms/step
Epoch 47/50
4378/4378 - 74s - loss: 0.8170 - accuracy: 0.7200 - val_loss: 0.9446 - val_accuracy: 0.7036 - lr: 0.0010 - 74s/epoch - 17ms/step
Epoch 48/50
4378/4378 - 74s - loss: 0.7740 - accuracy: 0.7253 - val_loss: 0.7922 - val_accuracy: 0.7329 - lr: 0.0010 - 74s/epoch - 17ms/step
Epoch 49/50
4378/4378 - 74s - loss: 0.8003 - accuracy: 0.7230 - val_loss: 0.8419 - val_accuracy: 0.7230 - lr: 0.0010 - 74s/epoch - 17ms/step
Epoch 50/50
4378/4378 - 74s - loss: 0.8147 - accuracy: 0.7144 - val_loss: 0.9822 - val_accuracy: 0.6976 - lr: 0.0010 - 74s/epoch - 17ms/step
fitting with batch size: 100
Epoch 1/50
876/876 - 23s - loss: 0.7074 - accuracy: 0.7457 - val_loss: 0.6413 - val_accuracy: 0.7966 - lr: 0.0010 - 23s/epoch - 26ms/step
Epoch 2/50
876/876 - 18s - loss: 0.6872 - accuracy: 0.7535 - val_loss: 0.7334 - val_accuracy: 0.7605 - lr: 0.0010 - 18s/epoch - 20ms/step
Epoch 3/50
876/876 - 18s - loss: 0.6770 - accuracy: 0.7571 - val_loss: 0.7202 - val_accuracy: 0.7629 - lr: 0.0010 - 18s/epoch - 20ms/step
Epoch 4/50
876/876 - 18s - loss: 0.6597 - accuracy: 0.7624 - val_loss: 0.7522 - val_accuracy: 0.7549 - lr: 0.0010 - 18s/epoch - 20ms/step
Epoch 5/50
876/876 - 18s - loss: 0.6550 - accuracy: 0.7653 - val_loss: 0.6888 - val_accuracy: 0.7734 - lr: 0.0010 - 18s/epoch - 20ms/step
Epoch 6/50
876/876 - 18s - loss: 0.6670 - accuracy: 0.7626 - val_loss: 0.7940 - val_accuracy: 0.7420 - lr: 0.0010 - 18s/epoch - 21ms/step
Epoch 7/50
876/876 - 18s - loss: 0.6535 - accuracy: 0.7643 - val_loss: 0.7184 - val_accuracy: 0.7707 - lr: 0.0010 - 18s/epoch - 20ms/step
Epoch 8/50
876/876 - 18s - loss: 0.6515 - accuracy: 0.7674 - val_loss: 0.7439 - val_accuracy: 0.7167 - lr: 0.0010 - 18s/epoch - 20ms/step
Epoch 9/50
876/876 - 18s - loss: 0.6444 - accuracy: 0.7700 - val_loss: 0.7308 - val_accuracy: 0.7616 - lr: 0.0010 - 18s/epoch - 20ms/step
Epoch 10/50
876/876 - 18s - loss: 0.6465 - accuracy: 0.7682 - val_loss: 0.6862 - val_accuracy: 0.7727 - lr: 0.0010 - 18s/epoch - 20ms/step
Epoch 11/50
876/876 - 18s - loss: 0.6400 - accuracy: 0.7707 - val_loss: 0.6708 - val_accuracy: 0.7721 - lr: 0.0010 - 18s/epoch - 20ms/step
Epoch 12/50
876/876 - 18s - loss: 0.6398 - accuracy: 0.7686 - val_loss: 0.6860 - val_accuracy: 0.7779 - lr: 0.0010 - 18s/epoch - 20ms/step
Epoch 13/50
876/876 - 18s - loss: 0.6381 - accuracy: 0.7719 - val_loss: 0.6466 - val_accuracy: 0.7802 - lr: 0.0010 - 18s/epoch - 20ms/step
Epoch 14/50
876/876 - 18s - loss: 0.6279 - accuracy: 0.7757 - val_loss: 0.7188 - val_accuracy: 0.7607 - lr: 0.0010 - 18s/epoch - 21ms/step
Epoch 15/50
876/876 - 18s - loss: 0.6295 - accuracy: 0.7760 - val_loss: 0.7561 - val_accuracy: 0.7500 - lr: 0.0010 - 18s/epoch - 21ms/step
Epoch 16/50
876/876 - 18s - loss: 0.6230 - accuracy: 0.7776 - val_loss: 0.6736 - val_accuracy: 0.7730 - lr: 0.0010 - 18s/epoch - 20ms/step
Epoch 17/50
876/876 - 18s - loss: 0.6139 - accuracy: 0.7804 - val_loss: 0.7854 - val_accuracy: 0.7689 - lr: 0.0010 - 18s/epoch - 20ms/step
Epoch 18/50
876/876 - 18s - loss: 0.6171 - accuracy: 0.7779 - val_loss: 0.7264 - val_accuracy: 0.7341 - lr: 0.0010 - 18s/epoch - 20ms/step
Epoch 19/50
876/876 - 18s - loss: 0.6255 - accuracy: 0.7764 - val_loss: 0.6725 - val_accuracy: 0.7632 - lr: 0.0010 - 18s/epoch - 20ms/step
Epoch 20/50
876/876 - 18s - loss: 0.6301 - accuracy: 0.7734 - val_loss: 0.6367 - val_accuracy: 0.7921 - lr: 0.0010 - 18s/epoch - 20ms/step
Epoch 21/50
876/876 - 18s - loss: 0.6175 - accuracy: 0.7793 - val_loss: 0.7100 - val_accuracy: 0.7610 - lr: 0.0010 - 18s/epoch - 21ms/step
Epoch 22/50
876/876 - 18s - loss: 0.6068 - accuracy: 0.7815 - val_loss: 0.7291 - val_accuracy: 0.7621 - lr: 0.0010 - 18s/epoch - 20ms/step
Epoch 23/50
876/876 - 18s - loss: 0.6090 - accuracy: 0.7838 - val_loss: 0.6516 - val_accuracy: 0.7688 - lr: 0.0010 - 18s/epoch - 20ms/step
Epoch 24/50
876/876 - 18s - loss: 0.6207 - accuracy: 0.7779 - val_loss: 0.7604 - val_accuracy: 0.7314 - lr: 0.0010 - 18s/epoch - 20ms/step
Epoch 25/50
876/876 - 18s - loss: 0.6105 - accuracy: 0.7800 - val_loss: 0.6536 - val_accuracy: 0.7973 - lr: 0.0010 - 18s/epoch - 21ms/step
Epoch 26/50
876/876 - 18s - loss: 0.6011 - accuracy: 0.7841 - val_loss: 0.6973 - val_accuracy: 0.7432 - lr: 0.0010 - 18s/epoch - 20ms/step
Epoch 27/50
876/876 - 18s - loss: 0.5962 - accuracy: 0.7867 - val_loss: 0.7063 - val_accuracy: 0.7426 - lr: 0.0010 - 18s/epoch - 20ms/step
Epoch 28/50
876/876 - 18s - loss: 0.6004 - accuracy: 0.7854 - val_loss: 0.7282 - val_accuracy: 0.7795 - lr: 0.0010 - 18s/epoch - 20ms/step
Epoch 29/50
876/876 - 18s - loss: 0.5971 - accuracy: 0.7877 - val_loss: 0.6287 - val_accuracy: 0.8090 - lr: 0.0010 - 18s/epoch - 20ms/step
Epoch 30/50
876/876 - 18s - loss: 0.6041 - accuracy: 0.7838 - val_loss: 0.5925 - val_accuracy: 0.8251 - lr: 0.0010 - 18s/epoch - 20ms/step
Epoch 31/50
876/876 - 18s - loss: 0.5970 - accuracy: 0.7864 - val_loss: 0.7909 - val_accuracy: 0.7492 - lr: 0.0010 - 18s/epoch - 20ms/step
Epoch 32/50
876/876 - 18s - loss: 0.5955 - accuracy: 0.7859 - val_loss: 0.6531 - val_accuracy: 0.8026 - lr: 0.0010 - 18s/epoch - 20ms/step
Epoch 33/50
876/876 - 18s - loss: 0.5993 - accuracy: 0.7875 - val_loss: 0.6971 - val_accuracy: 0.7706 - lr: 0.0010 - 18s/epoch - 21ms/step
Epoch 34/50
876/876 - 18s - loss: 0.6096 - accuracy: 0.7842 - val_loss: 0.7000 - val_accuracy: 0.8167 - lr: 0.0010 - 18s/epoch - 20ms/step
Epoch 35/50
876/876 - 18s - loss: 0.6093 - accuracy: 0.7832 - val_loss: 0.7419 - val_accuracy: 0.7675 - lr: 0.0010 - 18s/epoch - 21ms/step
Epoch 36/50
876/876 - 18s - loss: 0.5985 - accuracy: 0.7868 - val_loss: 0.7302 - val_accuracy: 0.7641 - lr: 0.0010 - 18s/epoch - 21ms/step
Epoch 37/50
876/876 - 18s - loss: 0.6020 - accuracy: 0.7861 - val_loss: 0.7708 - val_accuracy: 0.7416 - lr: 0.0010 - 18s/epoch - 20ms/step
Epoch 38/50
876/876 - 18s - loss: 0.6068 - accuracy: 0.7832 - val_loss: 0.6667 - val_accuracy: 0.7739 - lr: 0.0010 - 18s/epoch - 20ms/step
Epoch 39/50
876/876 - 18s - loss: 0.6017 - accuracy: 0.7867 - val_loss: 0.6342 - val_accuracy: 0.8083 - lr: 0.0010 - 18s/epoch - 20ms/step
Epoch 40/50
876/876 - 18s - loss: 0.5953 - accuracy: 0.7879 - val_loss: 0.8340 - val_accuracy: 0.7412 - lr: 0.0010 - 18s/epoch - 20ms/step
Epoch 41/50
876/876 - 18s - loss: 0.5915 - accuracy: 0.7881 - val_loss: 0.7068 - val_accuracy: 0.7815 - lr: 0.0010 - 18s/epoch - 20ms/step
Epoch 42/50
876/876 - 18s - loss: 0.5977 - accuracy: 0.7865 - val_loss: 0.7397 - val_accuracy: 0.7486 - lr: 0.0010 - 18s/epoch - 20ms/step
Epoch 43/50
876/876 - 18s - loss: 0.5881 - accuracy: 0.7888 - val_loss: 0.6736 - val_accuracy: 0.7738 - lr: 0.0010 - 18s/epoch - 20ms/step
Epoch 44/50
876/876 - 18s - loss: 0.5845 - accuracy: 0.7906 - val_loss: 0.6821 - val_accuracy: 0.7561 - lr: 0.0010 - 18s/epoch - 20ms/step
Epoch 45/50
876/876 - 18s - loss: 0.5787 - accuracy: 0.7941 - val_loss: 0.7236 - val_accuracy: 0.7609 - lr: 0.0010 - 18s/epoch - 20ms/step
Epoch 46/50
876/876 - 18s - loss: 0.5822 - accuracy: 0.7922 - val_loss: 0.6842 - val_accuracy: 0.7563 - lr: 0.0010 - 18s/epoch - 20ms/step
Epoch 47/50
876/876 - 18s - loss: 0.5849 - accuracy: 0.7931 - val_loss: 0.7176 - val_accuracy: 0.7447 - lr: 0.0010 - 18s/epoch - 20ms/step
Epoch 48/50
876/876 - 18s - loss: 0.5813 - accuracy: 0.7925 - val_loss: 0.7221 - val_accuracy: 0.7740 - lr: 0.0010 - 18s/epoch - 20ms/step
Epoch 49/50
876/876 - 18s - loss: 0.5785 - accuracy: 0.7935 - val_loss: 0.6660 - val_accuracy: 0.7700 - lr: 0.0010 - 18s/epoch - 20ms/step
Epoch 50/50
876/876 - 18s - loss: 0.5764 - accuracy: 0.7939 - val_loss: 0.7565 - val_accuracy: 0.7395 - lr: 0.0010 - 18s/epoch - 20ms/step
fitting with batch size: 500
Epoch 1/50
176/176 - 11s - loss: 0.5320 - accuracy: 0.8097 - val_loss: 0.6990 - val_accuracy: 0.7587 - lr: 0.0010 - 11s/epoch - 63ms/step
Epoch 2/50
176/176 - 9s - loss: 0.5266 - accuracy: 0.8131 - val_loss: 0.7663 - val_accuracy: 0.7335 - lr: 0.0010 - 9s/epoch - 50ms/step
Epoch 3/50
176/176 - 9s - loss: 0.5216 - accuracy: 0.8136 - val_loss: 0.7047 - val_accuracy: 0.7774 - lr: 0.0010 - 9s/epoch - 50ms/step
Epoch 4/50
176/176 - 9s - loss: 0.5328 - accuracy: 0.8094 - val_loss: 0.6412 - val_accuracy: 0.7856 - lr: 0.0010 - 9s/epoch - 50ms/step
Epoch 5/50
176/176 - 9s - loss: 0.5191 - accuracy: 0.8134 - val_loss: 0.6949 - val_accuracy: 0.7596 - lr: 0.0010 - 9s/epoch - 50ms/step
Epoch 6/50
176/176 - 9s - loss: 0.5186 - accuracy: 0.8137 - val_loss: 0.6286 - val_accuracy: 0.7870 - lr: 0.0010 - 9s/epoch - 50ms/step
Epoch 7/50
176/176 - 9s - loss: 0.5216 - accuracy: 0.8132 - val_loss: 0.7168 - val_accuracy: 0.7667 - lr: 0.0010 - 9s/epoch - 50ms/step
Epoch 8/50
176/176 - 9s - loss: 0.5187 - accuracy: 0.8141 - val_loss: 0.7214 - val_accuracy: 0.7490 - lr: 0.0010 - 9s/epoch - 50ms/step
Epoch 9/50
176/176 - 9s - loss: 0.5110 - accuracy: 0.8179 - val_loss: 0.6939 - val_accuracy: 0.7552 - lr: 0.0010 - 9s/epoch - 51ms/step
Epoch 10/50
176/176 - 9s - loss: 0.5156 - accuracy: 0.8148 - val_loss: 0.6910 - val_accuracy: 0.7561 - lr: 0.0010 - 9s/epoch - 51ms/step
Epoch 11/50
176/176 - 9s - loss: 0.5087 - accuracy: 0.8182 - val_loss: 0.6966 - val_accuracy: 0.7583 - lr: 0.0010 - 9s/epoch - 50ms/step
Epoch 12/50
176/176 - 9s - loss: 0.5195 - accuracy: 0.8136 - val_loss: 0.6610 - val_accuracy: 0.7712 - lr: 0.0010 - 9s/epoch - 51ms/step
Epoch 13/50
176/176 - 9s - loss: 0.5111 - accuracy: 0.8174 - val_loss: 0.7011 - val_accuracy: 0.7559 - lr: 0.0010 - 9s/epoch - 50ms/step
Epoch 14/50
176/176 - 9s - loss: 0.5074 - accuracy: 0.8188 - val_loss: 0.6836 - val_accuracy: 0.7711 - lr: 0.0010 - 9s/epoch - 51ms/step
Epoch 15/50
176/176 - 9s - loss: 0.5355 - accuracy: 0.8090 - val_loss: 0.6668 - val_accuracy: 0.7625 - lr: 0.0010 - 9s/epoch - 51ms/step
Epoch 16/50
176/176 - 9s - loss: 0.5058 - accuracy: 0.8192 - val_loss: 0.6662 - val_accuracy: 0.7768 - lr: 0.0010 - 9s/epoch - 51ms/step
Epoch 17/50
176/176 - 9s - loss: 0.5011 - accuracy: 0.8220 - val_loss: 0.6863 - val_accuracy: 0.7765 - lr: 0.0010 - 9s/epoch - 51ms/step
Epoch 18/50
176/176 - 9s - loss: 0.5018 - accuracy: 0.8203 - val_loss: 0.7156 - val_accuracy: 0.7554 - lr: 0.0010 - 9s/epoch - 50ms/step
Epoch 19/50
176/176 - 9s - loss: 0.5029 - accuracy: 0.8201 - val_loss: 0.6768 - val_accuracy: 0.7681 - lr: 0.0010 - 9s/epoch - 51ms/step
Epoch 20/50
176/176 - 9s - loss: 0.4988 - accuracy: 0.8224 - val_loss: 0.6884 - val_accuracy: 0.7624 - lr: 0.0010 - 9s/epoch - 51ms/step
Epoch 21/50
176/176 - 9s - loss: 0.4988 - accuracy: 0.8219 - val_loss: 0.6830 - val_accuracy: 0.7668 - lr: 0.0010 - 9s/epoch - 51ms/step
Epoch 22/50
176/176 - 9s - loss: 0.5062 - accuracy: 0.8179 - val_loss: 0.6500 - val_accuracy: 0.7878 - lr: 0.0010 - 9s/epoch - 51ms/step
Epoch 23/50
176/176 - 9s - loss: 0.4993 - accuracy: 0.8204 - val_loss: 0.6684 - val_accuracy: 0.7742 - lr: 0.0010 - 9s/epoch - 51ms/step
Epoch 24/50
176/176 - 9s - loss: 0.5016 - accuracy: 0.8200 - val_loss: 0.6864 - val_accuracy: 0.7552 - lr: 0.0010 - 9s/epoch - 51ms/step
Epoch 25/50
176/176 - 9s - loss: 0.5000 - accuracy: 0.8216 - val_loss: 0.6639 - val_accuracy: 0.7760 - lr: 0.0010 - 9s/epoch - 51ms/step
Epoch 26/50
176/176 - 9s - loss: 0.5067 - accuracy: 0.8184 - val_loss: 0.6529 - val_accuracy: 0.7763 - lr: 0.0010 - 9s/epoch - 51ms/step
Epoch 27/50
176/176 - 9s - loss: 0.4920 - accuracy: 0.8249 - val_loss: 0.7006 - val_accuracy: 0.7654 - lr: 0.0010 - 9s/epoch - 50ms/step
Epoch 28/50
176/176 - 9s - loss: 0.5032 - accuracy: 0.8214 - val_loss: 0.6963 - val_accuracy: 0.7699 - lr: 0.0010 - 9s/epoch - 51ms/step
Epoch 29/50
176/176 - 9s - loss: 0.4996 - accuracy: 0.8217 - val_loss: 0.6701 - val_accuracy: 0.7670 - lr: 0.0010 - 9s/epoch - 51ms/step
Epoch 30/50
176/176 - 9s - loss: 0.5060 - accuracy: 0.8201 - val_loss: 0.6890 - val_accuracy: 0.7600 - lr: 0.0010 - 9s/epoch - 50ms/step
Epoch 31/50
176/176 - 9s - loss: 0.4927 - accuracy: 0.8247 - val_loss: 0.7222 - val_accuracy: 0.7437 - lr: 0.0010 - 9s/epoch - 51ms/step
Epoch 32/50
176/176 - 9s - loss: 0.4911 - accuracy: 0.8245 - val_loss: 0.6316 - val_accuracy: 0.7791 - lr: 0.0010 - 9s/epoch - 51ms/step
Epoch 33/50
176/176 - 9s - loss: 0.4899 - accuracy: 0.8260 - val_loss: 0.7147 - val_accuracy: 0.7522 - lr: 0.0010 - 9s/epoch - 51ms/step
Epoch 34/50
176/176 - 9s - loss: 0.5214 - accuracy: 0.8145 - val_loss: 0.6846 - val_accuracy: 0.7696 - lr: 0.0010 - 9s/epoch - 50ms/step
Epoch 35/50
176/176 - 9s - loss: 0.5058 - accuracy: 0.8195 - val_loss: 0.7515 - val_accuracy: 0.7539 - lr: 0.0010 - 9s/epoch - 51ms/step
Epoch 36/50
176/176 - 9s - loss: 0.4856 - accuracy: 0.8272 - val_loss: 0.7065 - val_accuracy: 0.7526 - lr: 0.0010 - 9s/epoch - 51ms/step
Epoch 37/50
176/176 - 9s - loss: 0.4852 - accuracy: 0.8269 - val_loss: 0.7033 - val_accuracy: 0.7580 - lr: 0.0010 - 9s/epoch - 50ms/step
Epoch 38/50
176/176 - 9s - loss: 0.4961 - accuracy: 0.8237 - val_loss: 0.6604 - val_accuracy: 0.7522 - lr: 0.0010 - 9s/epoch - 51ms/step
Epoch 39/50
176/176 - 9s - loss: 0.4927 - accuracy: 0.8247 - val_loss: 0.7250 - val_accuracy: 0.7618 - lr: 0.0010 - 9s/epoch - 50ms/step
Epoch 40/50
176/176 - 9s - loss: 0.4984 - accuracy: 0.8229 - val_loss: 0.7555 - val_accuracy: 0.7523 - lr: 0.0010 - 9s/epoch - 51ms/step
Epoch 41/50
176/176 - 9s - loss: 0.4918 - accuracy: 0.8247 - val_loss: 0.6708 - val_accuracy: 0.7678 - lr: 0.0010 - 9s/epoch - 50ms/step
Epoch 42/50
176/176 - 9s - loss: 0.4799 - accuracy: 0.8291 - val_loss: 0.6625 - val_accuracy: 0.7748 - lr: 0.0010 - 9s/epoch - 50ms/step
Epoch 43/50
176/176 - 9s - loss: 0.4845 - accuracy: 0.8271 - val_loss: 0.6957 - val_accuracy: 0.7609 - lr: 0.0010 - 9s/epoch - 50ms/step
Epoch 44/50
176/176 - 9s - loss: 0.4899 - accuracy: 0.8258 - val_loss: 0.7154 - val_accuracy: 0.7493 - lr: 0.0010 - 9s/epoch - 51ms/step
Epoch 45/50
176/176 - 9s - loss: 0.4872 - accuracy: 0.8275 - val_loss: 0.7257 - val_accuracy: 0.7528 - lr: 0.0010 - 9s/epoch - 51ms/step
Epoch 46/50
176/176 - 9s - loss: 0.4858 - accuracy: 0.8270 - val_loss: 0.7372 - val_accuracy: 0.7526 - lr: 0.0010 - 9s/epoch - 51ms/step
Epoch 47/50
176/176 - 9s - loss: 0.4912 - accuracy: 0.8255 - val_loss: 0.7098 - val_accuracy: 0.7567 - lr: 0.0010 - 9s/epoch - 51ms/step
Epoch 48/50
176/176 - 9s - loss: 0.4788 - accuracy: 0.8296 - val_loss: 0.6875 - val_accuracy: 0.7498 - lr: 0.0010 - 9s/epoch - 51ms/step
Epoch 49/50
176/176 - 9s - loss: 0.4861 - accuracy: 0.8268 - val_loss: 0.6868 - val_accuracy: 0.7671 - lr: 0.0010 - 9s/epoch - 51ms/step
Epoch 50/50
176/176 - 9s - loss: 0.4804 - accuracy: 0.8291 - val_loss: 0.6538 - val_accuracy: 0.7856 - lr: 0.0010 - 9s/epoch - 51ms/step
