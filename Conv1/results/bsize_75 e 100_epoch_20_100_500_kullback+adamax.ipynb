Loss: huber_loss
Epoch number: 75
fitting with batch size: 20
Epoch 1/75
4378/4378 - 75s - loss: 0.0538 - accuracy: 0.5881 - val_loss: 0.0507 - val_accuracy: 0.6189 - lr: 0.0010 - 75s/epoch - 17ms/step
Epoch 2/75
4378/4378 - 72s - loss: 0.0465 - accuracy: 0.6595 - val_loss: 0.0502 - val_accuracy: 0.6846 - lr: 0.0010 - 72s/epoch - 17ms/step
Epoch 3/75
4378/4378 - 68s - loss: 0.0447 - accuracy: 0.6734 - val_loss: 0.0504 - val_accuracy: 0.6718 - lr: 0.0010 - 68s/epoch - 15ms/step
Epoch 4/75
4378/4378 - 68s - loss: 0.0437 - accuracy: 0.6826 - val_loss: 0.0506 - val_accuracy: 0.6781 - lr: 0.0010 - 68s/epoch - 16ms/step
Epoch 5/75
4378/4378 - 68s - loss: 0.0427 - accuracy: 0.6897 - val_loss: 0.0405 - val_accuracy: 0.7503 - lr: 0.0010 - 68s/epoch - 15ms/step
Epoch 6/75
4378/4378 - 68s - loss: 0.0422 - accuracy: 0.6943 - val_loss: 0.0464 - val_accuracy: 0.6855 - lr: 0.0010 - 68s/epoch - 16ms/step
Epoch 7/75
4378/4378 - 67s - loss: 0.0415 - accuracy: 0.6997 - val_loss: 0.0452 - val_accuracy: 0.7342 - lr: 0.0010 - 67s/epoch - 15ms/step
Epoch 8/75
4378/4378 - 69s - loss: 0.0412 - accuracy: 0.7045 - val_loss: 0.0520 - val_accuracy: 0.6496 - lr: 0.0010 - 69s/epoch - 16ms/step
Epoch 9/75
4378/4378 - 81s - loss: 0.0408 - accuracy: 0.7068 - val_loss: 0.0480 - val_accuracy: 0.6977 - lr: 0.0010 - 81s/epoch - 19ms/step
Epoch 10/75
4378/4378 - 75s - loss: 0.0404 - accuracy: 0.7092 - val_loss: 0.0391 - val_accuracy: 0.7690 - lr: 0.0010 - 75s/epoch - 17ms/step
Epoch 11/75
4378/4378 - 75s - loss: 0.0400 - accuracy: 0.7113 - val_loss: 0.0404 - val_accuracy: 0.7588 - lr: 0.0010 - 75s/epoch - 17ms/step
Epoch 12/75
4378/4378 - 81s - loss: 0.0398 - accuracy: 0.7143 - val_loss: 0.0494 - val_accuracy: 0.6860 - lr: 0.0010 - 81s/epoch - 18ms/step
Epoch 13/75
4378/4378 - 67s - loss: 0.0396 - accuracy: 0.7159 - val_loss: 0.0403 - val_accuracy: 0.7459 - lr: 0.0010 - 67s/epoch - 15ms/step
Epoch 14/75
4378/4378 - 69s - loss: 0.0393 - accuracy: 0.7188 - val_loss: 0.0377 - val_accuracy: 0.7657 - lr: 0.0010 - 69s/epoch - 16ms/step
Epoch 15/75
4378/4378 - 68s - loss: 0.0390 - accuracy: 0.7205 - val_loss: 0.0396 - val_accuracy: 0.7585 - lr: 0.0010 - 68s/epoch - 16ms/step
Epoch 16/75
4378/4378 - 67s - loss: 0.0388 - accuracy: 0.7222 - val_loss: 0.0381 - val_accuracy: 0.7526 - lr: 0.0010 - 67s/epoch - 15ms/step
Epoch 17/75
4378/4378 - 68s - loss: 0.0386 - accuracy: 0.7234 - val_loss: 0.0340 - val_accuracy: 0.7929 - lr: 0.0010 - 68s/epoch - 15ms/step
Epoch 18/75
4378/4378 - 68s - loss: 0.0383 - accuracy: 0.7259 - val_loss: 0.0423 - val_accuracy: 0.7430 - lr: 0.0010 - 68s/epoch - 15ms/step
Epoch 19/75
4378/4378 - 67s - loss: 0.0380 - accuracy: 0.7292 - val_loss: 0.0386 - val_accuracy: 0.7606 - lr: 0.0010 - 67s/epoch - 15ms/step
Epoch 20/75
4378/4378 - 67s - loss: 0.0378 - accuracy: 0.7308 - val_loss: 0.0378 - val_accuracy: 0.7686 - lr: 0.0010 - 67s/epoch - 15ms/step
Epoch 21/75
4378/4378 - 68s - loss: 0.0375 - accuracy: 0.7343 - val_loss: 0.0398 - val_accuracy: 0.7700 - lr: 0.0010 - 68s/epoch - 16ms/step
Epoch 22/75
4378/4378 - 67s - loss: 0.0375 - accuracy: 0.7338 - val_loss: 0.0384 - val_accuracy: 0.7470 - lr: 0.0010 - 67s/epoch - 15ms/step
Epoch 23/75
4378/4378 - 68s - loss: 0.0373 - accuracy: 0.7358 - val_loss: 0.0425 - val_accuracy: 0.7548 - lr: 0.0010 - 68s/epoch - 15ms/step
Epoch 24/75
4378/4378 - 67s - loss: 0.0371 - accuracy: 0.7368 - val_loss: 0.0372 - val_accuracy: 0.7568 - lr: 0.0010 - 67s/epoch - 15ms/step
Epoch 25/75
4378/4378 - 68s - loss: 0.0369 - accuracy: 0.7395 - val_loss: 0.0368 - val_accuracy: 0.7865 - lr: 0.0010 - 68s/epoch - 15ms/step
Epoch 26/75
4378/4378 - 67s - loss: 0.0367 - accuracy: 0.7416 - val_loss: 0.0422 - val_accuracy: 0.7193 - lr: 0.0010 - 67s/epoch - 15ms/step
Epoch 27/75
4378/4378 - 68s - loss: 0.0366 - accuracy: 0.7399 - val_loss: 0.0418 - val_accuracy: 0.7178 - lr: 0.0010 - 68s/epoch - 15ms/step
Epoch 28/75
4378/4378 - 67s - loss: 0.0363 - accuracy: 0.7431 - val_loss: 0.0325 - val_accuracy: 0.7971 - lr: 0.0010 - 67s/epoch - 15ms/step
Epoch 29/75
4378/4378 - 68s - loss: 0.0363 - accuracy: 0.7435 - val_loss: 0.0309 - val_accuracy: 0.8171 - lr: 0.0010 - 68s/epoch - 15ms/step
Epoch 30/75
4378/4378 - 67s - loss: 0.0361 - accuracy: 0.7464 - val_loss: 0.0322 - val_accuracy: 0.8227 - lr: 0.0010 - 67s/epoch - 15ms/step
Epoch 31/75
4378/4378 - 67s - loss: 0.0358 - accuracy: 0.7480 - val_loss: 0.0363 - val_accuracy: 0.7903 - lr: 0.0010 - 67s/epoch - 15ms/step
Epoch 32/75
4378/4378 - 68s - loss: 0.0357 - accuracy: 0.7487 - val_loss: 0.0399 - val_accuracy: 0.7578 - lr: 0.0010 - 68s/epoch - 15ms/step
Epoch 33/75
4378/4378 - 68s - loss: 0.0356 - accuracy: 0.7495 - val_loss: 0.0345 - val_accuracy: 0.8017 - lr: 0.0010 - 68s/epoch - 16ms/step
Epoch 34/75
4378/4378 - 68s - loss: 0.0353 - accuracy: 0.7516 - val_loss: 0.0351 - val_accuracy: 0.7744 - lr: 0.0010 - 68s/epoch - 15ms/step
Epoch 35/75
4378/4378 - 68s - loss: 0.0352 - accuracy: 0.7532 - val_loss: 0.0384 - val_accuracy: 0.7814 - lr: 0.0010 - 68s/epoch - 15ms/step
Epoch 36/75
4378/4378 - 67s - loss: 0.0350 - accuracy: 0.7555 - val_loss: 0.0378 - val_accuracy: 0.7649 - lr: 0.0010 - 67s/epoch - 15ms/step
Epoch 37/75
4378/4378 - 67s - loss: 0.0349 - accuracy: 0.7551 - val_loss: 0.0366 - val_accuracy: 0.7805 - lr: 0.0010 - 67s/epoch - 15ms/step
Epoch 38/75
4378/4378 - 68s - loss: 0.0347 - accuracy: 0.7569 - val_loss: 0.0352 - val_accuracy: 0.7750 - lr: 0.0010 - 68s/epoch - 15ms/step
Epoch 39/75
4378/4378 - 68s - loss: 0.0346 - accuracy: 0.7572 - val_loss: 0.0336 - val_accuracy: 0.8062 - lr: 0.0010 - 68s/epoch - 15ms/step
Epoch 40/75
4378/4378 - 67s - loss: 0.0343 - accuracy: 0.7598 - val_loss: 0.0411 - val_accuracy: 0.7512 - lr: 0.0010 - 67s/epoch - 15ms/step
Epoch 41/75
4378/4378 - 68s - loss: 0.0342 - accuracy: 0.7606 - val_loss: 0.0383 - val_accuracy: 0.7442 - lr: 0.0010 - 68s/epoch - 15ms/step
Epoch 42/75
4378/4378 - 67s - loss: 0.0339 - accuracy: 0.7630 - val_loss: 0.0367 - val_accuracy: 0.7631 - lr: 0.0010 - 67s/epoch - 15ms/step
Epoch 43/75
4378/4378 - 68s - loss: 0.0339 - accuracy: 0.7632 - val_loss: 0.0349 - val_accuracy: 0.7975 - lr: 0.0010 - 68s/epoch - 15ms/step
Epoch 44/75
4378/4378 - 67s - loss: 0.0337 - accuracy: 0.7644 - val_loss: 0.0338 - val_accuracy: 0.7975 - lr: 0.0010 - 67s/epoch - 15ms/step
Epoch 45/75
4378/4378 - 68s - loss: 0.0336 - accuracy: 0.7656 - val_loss: 0.0376 - val_accuracy: 0.7765 - lr: 0.0010 - 68s/epoch - 15ms/step
Epoch 46/75
4378/4378 - 68s - loss: 0.0334 - accuracy: 0.7672 - val_loss: 0.0341 - val_accuracy: 0.7806 - lr: 0.0010 - 68s/epoch - 15ms/step
Epoch 47/75
4378/4378 - 68s - loss: 0.0333 - accuracy: 0.7676 - val_loss: 0.0364 - val_accuracy: 0.7876 - lr: 0.0010 - 68s/epoch - 15ms/step
Epoch 48/75
4378/4378 - 67s - loss: 0.0332 - accuracy: 0.7689 - val_loss: 0.0381 - val_accuracy: 0.7795 - lr: 0.0010 - 67s/epoch - 15ms/step
Epoch 49/75
4378/4378 - 67s - loss: 0.0330 - accuracy: 0.7718 - val_loss: 0.0348 - val_accuracy: 0.7883 - lr: 0.0010 - 67s/epoch - 15ms/step
Epoch 50/75
4378/4378 - 68s - loss: 0.0329 - accuracy: 0.7708 - val_loss: 0.0337 - val_accuracy: 0.7904 - lr: 0.0010 - 68s/epoch - 15ms/step
Epoch 51/75
4378/4378 - 68s - loss: 0.0329 - accuracy: 0.7720 - val_loss: 0.0341 - val_accuracy: 0.7822 - lr: 0.0010 - 68s/epoch - 15ms/step
Epoch 52/75
4378/4378 - 68s - loss: 0.0326 - accuracy: 0.7739 - val_loss: 0.0357 - val_accuracy: 0.7764 - lr: 0.0010 - 68s/epoch - 15ms/step
Epoch 53/75
4378/4378 - 67s - loss: 0.0325 - accuracy: 0.7744 - val_loss: 0.0421 - val_accuracy: 0.7309 - lr: 0.0010 - 67s/epoch - 15ms/step
Epoch 54/75
4378/4378 - 67s - loss: 0.0324 - accuracy: 0.7764 - val_loss: 0.0347 - val_accuracy: 0.7874 - lr: 0.0010 - 67s/epoch - 15ms/step
Epoch 55/75
4378/4378 - 67s - loss: 0.0322 - accuracy: 0.7777 - val_loss: 0.0337 - val_accuracy: 0.7927 - lr: 0.0010 - 67s/epoch - 15ms/step
Epoch 56/75
4378/4378 - 68s - loss: 0.0320 - accuracy: 0.7790 - val_loss: 0.0329 - val_accuracy: 0.8115 - lr: 0.0010 - 68s/epoch - 15ms/step
Epoch 57/75
4378/4378 - 68s - loss: 0.0319 - accuracy: 0.7800 - val_loss: 0.0341 - val_accuracy: 0.7933 - lr: 0.0010 - 68s/epoch - 15ms/step
Epoch 58/75
4378/4378 - 68s - loss: 0.0319 - accuracy: 0.7796 - val_loss: 0.0336 - val_accuracy: 0.8167 - lr: 0.0010 - 68s/epoch - 16ms/step
Epoch 59/75
4378/4378 - 67s - loss: 0.0317 - accuracy: 0.7817 - val_loss: 0.0376 - val_accuracy: 0.7725 - lr: 0.0010 - 67s/epoch - 15ms/step
Epoch 60/75
4378/4378 - 68s - loss: 0.0315 - accuracy: 0.7834 - val_loss: 0.0395 - val_accuracy: 0.7512 - lr: 0.0010 - 68s/epoch - 15ms/step
Epoch 61/75
4378/4378 - 67s - loss: 0.0315 - accuracy: 0.7828 - val_loss: 0.0365 - val_accuracy: 0.7917 - lr: 0.0010 - 67s/epoch - 15ms/step
Epoch 62/75
4378/4378 - 68s - loss: 0.0315 - accuracy: 0.7836 - val_loss: 0.0334 - val_accuracy: 0.8001 - lr: 0.0010 - 68s/epoch - 15ms/step
Epoch 63/75
4378/4378 - 68s - loss: 0.0313 - accuracy: 0.7850 - val_loss: 0.0331 - val_accuracy: 0.8079 - lr: 0.0010 - 68s/epoch - 15ms/step
Epoch 64/75
4378/4378 - 67s - loss: 0.0310 - accuracy: 0.7866 - val_loss: 0.0338 - val_accuracy: 0.7957 - lr: 0.0010 - 67s/epoch - 15ms/step
Epoch 65/75
4378/4378 - 68s - loss: 0.0309 - accuracy: 0.7880 - val_loss: 0.0360 - val_accuracy: 0.7744 - lr: 0.0010 - 68s/epoch - 15ms/step
Epoch 66/75
4378/4378 - 67s - loss: 0.0309 - accuracy: 0.7869 - val_loss: 0.0343 - val_accuracy: 0.7947 - lr: 0.0010 - 67s/epoch - 15ms/step
Epoch 67/75
4378/4378 - 69s - loss: 0.0308 - accuracy: 0.7886 - val_loss: 0.0367 - val_accuracy: 0.7821 - lr: 0.0010 - 69s/epoch - 16ms/step
Epoch 68/75
4378/4378 - 68s - loss: 0.0308 - accuracy: 0.7888 - val_loss: 0.0284 - val_accuracy: 0.8334 - lr: 0.0010 - 68s/epoch - 16ms/step
Epoch 69/75
4378/4378 - 68s - loss: 0.0306 - accuracy: 0.7894 - val_loss: 0.0333 - val_accuracy: 0.8017 - lr: 0.0010 - 68s/epoch - 15ms/step
Epoch 70/75
4378/4378 - 67s - loss: 0.0304 - accuracy: 0.7910 - val_loss: 0.0274 - val_accuracy: 0.8279 - lr: 0.0010 - 67s/epoch - 15ms/step
Epoch 71/75
4378/4378 - 68s - loss: 0.0303 - accuracy: 0.7931 - val_loss: 0.0338 - val_accuracy: 0.7916 - lr: 0.0010 - 68s/epoch - 15ms/step
Epoch 72/75
4378/4378 - 67s - loss: 0.0304 - accuracy: 0.7922 - val_loss: 0.0356 - val_accuracy: 0.7933 - lr: 0.0010 - 67s/epoch - 15ms/step
Epoch 73/75
4378/4378 - 67s - loss: 0.0302 - accuracy: 0.7940 - val_loss: 0.0310 - val_accuracy: 0.8130 - lr: 0.0010 - 67s/epoch - 15ms/step
Epoch 74/75
4378/4378 - 67s - loss: 0.0301 - accuracy: 0.7926 - val_loss: 0.0335 - val_accuracy: 0.8009 - lr: 0.0010 - 67s/epoch - 15ms/step
Epoch 75/75
4378/4378 - 68s - loss: 0.0299 - accuracy: 0.7962 - val_loss: 0.0366 - val_accuracy: 0.7797 - lr: 0.0010 - 68s/epoch - 15ms/step
fitting with batch size: 100
Epoch 1/75
876/876 - 19s - loss: 0.0276 - accuracy: 0.8129 - val_loss: 0.0322 - val_accuracy: 0.8014 - lr: 0.0010 - 19s/epoch - 22ms/step
Epoch 2/75
876/876 - 17s - loss: 0.0267 - accuracy: 0.8190 - val_loss: 0.0355 - val_accuracy: 0.7827 - lr: 0.0010 - 17s/epoch - 19ms/step
Epoch 3/75
876/876 - 17s - loss: 0.0263 - accuracy: 0.8218 - val_loss: 0.0355 - val_accuracy: 0.7817 - lr: 0.0010 - 17s/epoch - 19ms/step
Epoch 4/75
876/876 - 17s - loss: 0.0260 - accuracy: 0.8254 - val_loss: 0.0346 - val_accuracy: 0.7927 - lr: 0.0010 - 17s/epoch - 19ms/step
Epoch 5/75
876/876 - 17s - loss: 0.0258 - accuracy: 0.8251 - val_loss: 0.0322 - val_accuracy: 0.8032 - lr: 0.0010 - 17s/epoch - 19ms/step
Epoch 6/75
876/876 - 17s - loss: 0.0256 - accuracy: 0.8275 - val_loss: 0.0330 - val_accuracy: 0.8008 - lr: 0.0010 - 17s/epoch - 19ms/step
Epoch 7/75
876/876 - 17s - loss: 0.0255 - accuracy: 0.8285 - val_loss: 0.0315 - val_accuracy: 0.8048 - lr: 0.0010 - 17s/epoch - 19ms/step
Epoch 8/75
876/876 - 17s - loss: 0.0251 - accuracy: 0.8311 - val_loss: 0.0342 - val_accuracy: 0.7886 - lr: 0.0010 - 17s/epoch - 19ms/step
Epoch 9/75
876/876 - 17s - loss: 0.0250 - accuracy: 0.8321 - val_loss: 0.0300 - val_accuracy: 0.8209 - lr: 0.0010 - 17s/epoch - 19ms/step
Epoch 10/75
876/876 - 17s - loss: 0.0248 - accuracy: 0.8340 - val_loss: 0.0344 - val_accuracy: 0.7876 - lr: 0.0010 - 17s/epoch - 19ms/step
Epoch 11/75
876/876 - 17s - loss: 0.0247 - accuracy: 0.8338 - val_loss: 0.0300 - val_accuracy: 0.8163 - lr: 0.0010 - 17s/epoch - 19ms/step
Epoch 12/75
876/876 - 17s - loss: 0.0246 - accuracy: 0.8358 - val_loss: 0.0314 - val_accuracy: 0.8067 - lr: 0.0010 - 17s/epoch - 19ms/step
Epoch 13/75
876/876 - 17s - loss: 0.0244 - accuracy: 0.8372 - val_loss: 0.0361 - val_accuracy: 0.7738 - lr: 0.0010 - 17s/epoch - 19ms/step
Epoch 14/75
876/876 - 17s - loss: 0.0242 - accuracy: 0.8381 - val_loss: 0.0314 - val_accuracy: 0.8074 - lr: 0.0010 - 17s/epoch - 19ms/step
Epoch 15/75
876/876 - 17s - loss: 0.0242 - accuracy: 0.8389 - val_loss: 0.0306 - val_accuracy: 0.8076 - lr: 0.0010 - 17s/epoch - 19ms/step
Epoch 16/75
876/876 - 17s - loss: 0.0241 - accuracy: 0.8394 - val_loss: 0.0340 - val_accuracy: 0.7882 - lr: 0.0010 - 17s/epoch - 19ms/step
Epoch 17/75
876/876 - 17s - loss: 0.0238 - accuracy: 0.8415 - val_loss: 0.0283 - val_accuracy: 0.8246 - lr: 0.0010 - 17s/epoch - 19ms/step
Epoch 18/75
876/876 - 17s - loss: 0.0238 - accuracy: 0.8413 - val_loss: 0.0331 - val_accuracy: 0.7949 - lr: 0.0010 - 17s/epoch - 19ms/step
Epoch 19/75
876/876 - 17s - loss: 0.0236 - accuracy: 0.8429 - val_loss: 0.0359 - val_accuracy: 0.7795 - lr: 0.0010 - 17s/epoch - 19ms/step
Epoch 20/75
876/876 - 17s - loss: 0.0235 - accuracy: 0.8432 - val_loss: 0.0329 - val_accuracy: 0.7967 - lr: 0.0010 - 17s/epoch - 19ms/step
Epoch 21/75
876/876 - 17s - loss: 0.0234 - accuracy: 0.8440 - val_loss: 0.0309 - val_accuracy: 0.8154 - lr: 0.0010 - 17s/epoch - 19ms/step
Epoch 22/75
876/876 - 17s - loss: 0.0233 - accuracy: 0.8450 - val_loss: 0.0333 - val_accuracy: 0.7939 - lr: 0.0010 - 17s/epoch - 19ms/step
Epoch 23/75
876/876 - 17s - loss: 0.0232 - accuracy: 0.8462 - val_loss: 0.0328 - val_accuracy: 0.7998 - lr: 0.0010 - 17s/epoch - 19ms/step
Epoch 24/75
876/876 - 17s - loss: 0.0231 - accuracy: 0.8468 - val_loss: 0.0302 - val_accuracy: 0.8094 - lr: 0.0010 - 17s/epoch - 19ms/step
Epoch 25/75
876/876 - 17s - loss: 0.0229 - accuracy: 0.8484 - val_loss: 0.0370 - val_accuracy: 0.7686 - lr: 0.0010 - 17s/epoch - 19ms/step
Epoch 26/75
876/876 - 17s - loss: 0.0229 - accuracy: 0.8469 - val_loss: 0.0349 - val_accuracy: 0.7818 - lr: 0.0010 - 17s/epoch - 19ms/step
Epoch 27/75
876/876 - 17s - loss: 0.0229 - accuracy: 0.8483 - val_loss: 0.0326 - val_accuracy: 0.8039 - lr: 0.0010 - 17s/epoch - 19ms/step
Epoch 28/75
876/876 - 17s - loss: 0.0227 - accuracy: 0.8493 - val_loss: 0.0386 - val_accuracy: 0.7577 - lr: 0.0010 - 17s/epoch - 19ms/step
Epoch 29/75
876/876 - 17s - loss: 0.0226 - accuracy: 0.8504 - val_loss: 0.0357 - val_accuracy: 0.7816 - lr: 0.0010 - 17s/epoch - 19ms/step
Epoch 30/75
876/876 - 17s - loss: 0.0225 - accuracy: 0.8513 - val_loss: 0.0320 - val_accuracy: 0.8000 - lr: 0.0010 - 17s/epoch - 19ms/step
Epoch 31/75
876/876 - 17s - loss: 0.0225 - accuracy: 0.8511 - val_loss: 0.0334 - val_accuracy: 0.7969 - lr: 0.0010 - 17s/epoch - 19ms/step
Epoch 32/75
876/876 - 17s - loss: 0.0223 - accuracy: 0.8528 - val_loss: 0.0305 - val_accuracy: 0.8100 - lr: 0.0010 - 17s/epoch - 19ms/step
Epoch 33/75
876/876 - 17s - loss: 0.0223 - accuracy: 0.8530 - val_loss: 0.0322 - val_accuracy: 0.7972 - lr: 0.0010 - 17s/epoch - 19ms/step
Epoch 34/75
876/876 - 17s - loss: 0.0222 - accuracy: 0.8525 - val_loss: 0.0331 - val_accuracy: 0.8038 - lr: 0.0010 - 17s/epoch - 19ms/step
Epoch 35/75
876/876 - 17s - loss: 0.0221 - accuracy: 0.8537 - val_loss: 0.0354 - val_accuracy: 0.7820 - lr: 0.0010 - 17s/epoch - 19ms/step
Epoch 36/75
876/876 - 17s - loss: 0.0218 - accuracy: 0.8557 - val_loss: 0.0380 - val_accuracy: 0.7666 - lr: 0.0010 - 17s/epoch - 19ms/step
Epoch 37/75
876/876 - 17s - loss: 0.0219 - accuracy: 0.8558 - val_loss: 0.0377 - val_accuracy: 0.7713 - lr: 0.0010 - 17s/epoch - 19ms/step
Epoch 38/75
876/876 - 17s - loss: 0.0219 - accuracy: 0.8553 - val_loss: 0.0350 - val_accuracy: 0.7889 - lr: 0.0010 - 17s/epoch - 19ms/step
Epoch 39/75
876/876 - 17s - loss: 0.0219 - accuracy: 0.8553 - val_loss: 0.0342 - val_accuracy: 0.7875 - lr: 0.0010 - 17s/epoch - 19ms/step
Epoch 40/75
876/876 - 17s - loss: 0.0216 - accuracy: 0.8576 - val_loss: 0.0294 - val_accuracy: 0.8258 - lr: 0.0010 - 17s/epoch - 19ms/step
Epoch 41/75
876/876 - 17s - loss: 0.0218 - accuracy: 0.8557 - val_loss: 0.0355 - val_accuracy: 0.7804 - lr: 0.0010 - 17s/epoch - 19ms/step
Epoch 42/75
876/876 - 17s - loss: 0.0217 - accuracy: 0.8569 - val_loss: 0.0305 - val_accuracy: 0.8109 - lr: 0.0010 - 17s/epoch - 19ms/step
Epoch 43/75
876/876 - 17s - loss: 0.0215 - accuracy: 0.8574 - val_loss: 0.0330 - val_accuracy: 0.7999 - lr: 0.0010 - 17s/epoch - 19ms/step
Epoch 44/75
876/876 - 17s - loss: 0.0215 - accuracy: 0.8588 - val_loss: 0.0326 - val_accuracy: 0.7976 - lr: 0.0010 - 17s/epoch - 19ms/step
Epoch 45/75
876/876 - 17s - loss: 0.0214 - accuracy: 0.8582 - val_loss: 0.0333 - val_accuracy: 0.7952 - lr: 0.0010 - 17s/epoch - 19ms/step
Epoch 46/75
876/876 - 17s - loss: 0.0214 - accuracy: 0.8593 - val_loss: 0.0356 - val_accuracy: 0.7827 - lr: 0.0010 - 17s/epoch - 19ms/step
Epoch 47/75
876/876 - 17s - loss: 0.0213 - accuracy: 0.8601 - val_loss: 0.0354 - val_accuracy: 0.7786 - lr: 0.0010 - 17s/epoch - 19ms/step
Epoch 48/75
876/876 - 17s - loss: 0.0213 - accuracy: 0.8595 - val_loss: 0.0328 - val_accuracy: 0.8030 - lr: 0.0010 - 17s/epoch - 19ms/step
Epoch 49/75
876/876 - 17s - loss: 0.0212 - accuracy: 0.8601 - val_loss: 0.0332 - val_accuracy: 0.7939 - lr: 0.0010 - 17s/epoch - 19ms/step
Epoch 50/75
876/876 - 17s - loss: 0.0212 - accuracy: 0.8606 - val_loss: 0.0342 - val_accuracy: 0.7908 - lr: 0.0010 - 17s/epoch - 19ms/step
Epoch 51/75
876/876 - 17s - loss: 0.0210 - accuracy: 0.8616 - val_loss: 0.0350 - val_accuracy: 0.7820 - lr: 0.0010 - 17s/epoch - 19ms/step
Epoch 52/75
876/876 - 17s - loss: 0.0209 - accuracy: 0.8630 - val_loss: 0.0318 - val_accuracy: 0.8029 - lr: 0.0010 - 17s/epoch - 19ms/step
Epoch 53/75
876/876 - 17s - loss: 0.0210 - accuracy: 0.8627 - val_loss: 0.0310 - val_accuracy: 0.8089 - lr: 0.0010 - 17s/epoch - 19ms/step
Epoch 54/75
876/876 - 17s - loss: 0.0207 - accuracy: 0.8641 - val_loss: 0.0349 - val_accuracy: 0.7824 - lr: 0.0010 - 17s/epoch - 19ms/step
Epoch 55/75
876/876 - 17s - loss: 0.0209 - accuracy: 0.8625 - val_loss: 0.0357 - val_accuracy: 0.7708 - lr: 0.0010 - 17s/epoch - 19ms/step
Epoch 56/75
876/876 - 17s - loss: 0.0207 - accuracy: 0.8636 - val_loss: 0.0330 - val_accuracy: 0.7909 - lr: 0.0010 - 17s/epoch - 19ms/step
Epoch 57/75
876/876 - 17s - loss: 0.0207 - accuracy: 0.8652 - val_loss: 0.0324 - val_accuracy: 0.7995 - lr: 0.0010 - 17s/epoch - 19ms/step
Epoch 58/75
876/876 - 17s - loss: 0.0207 - accuracy: 0.8643 - val_loss: 0.0354 - val_accuracy: 0.7800 - lr: 0.0010 - 17s/epoch - 19ms/step
Epoch 59/75
876/876 - 17s - loss: 0.0206 - accuracy: 0.8655 - val_loss: 0.0319 - val_accuracy: 0.8001 - lr: 0.0010 - 17s/epoch - 19ms/step
Epoch 60/75
876/876 - 17s - loss: 0.0206 - accuracy: 0.8649 - val_loss: 0.0328 - val_accuracy: 0.7919 - lr: 0.0010 - 17s/epoch - 19ms/step
Epoch 61/75
876/876 - 17s - loss: 0.0205 - accuracy: 0.8661 - val_loss: 0.0335 - val_accuracy: 0.7929 - lr: 0.0010 - 17s/epoch - 20ms/step
Epoch 62/75
876/876 - 18s - loss: 0.0204 - accuracy: 0.8660 - val_loss: 0.0354 - val_accuracy: 0.7794 - lr: 0.0010 - 18s/epoch - 21ms/step
Epoch 63/75
876/876 - 18s - loss: 0.0204 - accuracy: 0.8661 - val_loss: 0.0357 - val_accuracy: 0.7758 - lr: 0.0010 - 18s/epoch - 21ms/step
Epoch 64/75
876/876 - 18s - loss: 0.0203 - accuracy: 0.8670 - val_loss: 0.0349 - val_accuracy: 0.7825 - lr: 0.0010 - 18s/epoch - 21ms/step
Epoch 65/75
876/876 - 18s - loss: 0.0203 - accuracy: 0.8674 - val_loss: 0.0321 - val_accuracy: 0.8007 - lr: 0.0010 - 18s/epoch - 21ms/step
Epoch 66/75
876/876 - 18s - loss: 0.0202 - accuracy: 0.8682 - val_loss: 0.0323 - val_accuracy: 0.7986 - lr: 0.0010 - 18s/epoch - 21ms/step
Epoch 67/75
876/876 - 18s - loss: 0.0202 - accuracy: 0.8684 - val_loss: 0.0332 - val_accuracy: 0.7957 - lr: 0.0010 - 18s/epoch - 21ms/step
Epoch 68/75
876/876 - 18s - loss: 0.0201 - accuracy: 0.8689 - val_loss: 0.0342 - val_accuracy: 0.7854 - lr: 0.0010 - 18s/epoch - 20ms/step
Epoch 69/75
876/876 - 18s - loss: 0.0202 - accuracy: 0.8687 - val_loss: 0.0326 - val_accuracy: 0.7986 - lr: 0.0010 - 18s/epoch - 21ms/step
Epoch 70/75
876/876 - 18s - loss: 0.0200 - accuracy: 0.8693 - val_loss: 0.0347 - val_accuracy: 0.7849 - lr: 0.0010 - 18s/epoch - 20ms/step
Epoch 71/75
876/876 - 18s - loss: 0.0201 - accuracy: 0.8689 - val_loss: 0.0319 - val_accuracy: 0.7997 - lr: 0.0010 - 18s/epoch - 20ms/step
Epoch 72/75
876/876 - 18s - loss: 0.0200 - accuracy: 0.8692 - val_loss: 0.0338 - val_accuracy: 0.7921 - lr: 0.0010 - 18s/epoch - 21ms/step
Epoch 73/75
876/876 - 18s - loss: 0.0199 - accuracy: 0.8696 - val_loss: 0.0336 - val_accuracy: 0.7954 - lr: 0.0010 - 18s/epoch - 20ms/step
Epoch 74/75
876/876 - 18s - loss: 0.0201 - accuracy: 0.8692 - val_loss: 0.0351 - val_accuracy: 0.7829 - lr: 0.0010 - 18s/epoch - 20ms/step
Epoch 75/75
876/876 - 18s - loss: 0.0198 - accuracy: 0.8711 - val_loss: 0.0342 - val_accuracy: 0.7846 - lr: 0.0010 - 18s/epoch - 21ms/step
fitting with batch size: 500
Epoch 1/75
176/176 - 13s - loss: 0.0178 - accuracy: 0.8849 - val_loss: 0.0352 - val_accuracy: 0.7798 - lr: 0.0010 - 13s/epoch - 77ms/step
Epoch 2/75
176/176 - 10s - loss: 0.0174 - accuracy: 0.8888 - val_loss: 0.0375 - val_accuracy: 0.7687 - lr: 0.0010 - 10s/epoch - 55ms/step
Epoch 3/75
176/176 - 10s - loss: 0.0171 - accuracy: 0.8909 - val_loss: 0.0349 - val_accuracy: 0.7867 - lr: 0.0010 - 10s/epoch - 55ms/step
Epoch 4/75
176/176 - 10s - loss: 0.0171 - accuracy: 0.8905 - val_loss: 0.0364 - val_accuracy: 0.7766 - lr: 0.0010 - 10s/epoch - 55ms/step
Epoch 5/75
176/176 - 10s - loss: 0.0169 - accuracy: 0.8912 - val_loss: 0.0357 - val_accuracy: 0.7824 - lr: 0.0010 - 10s/epoch - 54ms/step
Epoch 6/75
176/176 - 10s - loss: 0.0168 - accuracy: 0.8926 - val_loss: 0.0377 - val_accuracy: 0.7667 - lr: 0.0010 - 10s/epoch - 55ms/step
Epoch 7/75
176/176 - 10s - loss: 0.0167 - accuracy: 0.8929 - val_loss: 0.0386 - val_accuracy: 0.7613 - lr: 0.0010 - 10s/epoch - 55ms/step
Epoch 8/75
176/176 - 10s - loss: 0.0167 - accuracy: 0.8931 - val_loss: 0.0356 - val_accuracy: 0.7814 - lr: 0.0010 - 10s/epoch - 55ms/step
Epoch 9/75
176/176 - 10s - loss: 0.0165 - accuracy: 0.8934 - val_loss: 0.0337 - val_accuracy: 0.7939 - lr: 0.0010 - 10s/epoch - 55ms/step
Epoch 10/75
176/176 - 10s - loss: 0.0165 - accuracy: 0.8938 - val_loss: 0.0341 - val_accuracy: 0.7920 - lr: 0.0010 - 10s/epoch - 55ms/step
Epoch 11/75
176/176 - 10s - loss: 0.0166 - accuracy: 0.8940 - val_loss: 0.0365 - val_accuracy: 0.7786 - lr: 0.0010 - 10s/epoch - 55ms/step
Epoch 12/75
176/176 - 10s - loss: 0.0165 - accuracy: 0.8945 - val_loss: 0.0369 - val_accuracy: 0.7770 - lr: 0.0010 - 10s/epoch - 55ms/step
Epoch 13/75
176/176 - 10s - loss: 0.0164 - accuracy: 0.8959 - val_loss: 0.0382 - val_accuracy: 0.7683 - lr: 0.0010 - 10s/epoch - 55ms/step
Epoch 14/75
176/176 - 10s - loss: 0.0164 - accuracy: 0.8959 - val_loss: 0.0364 - val_accuracy: 0.7803 - lr: 0.0010 - 10s/epoch - 55ms/step
Epoch 15/75
176/176 - 10s - loss: 0.0163 - accuracy: 0.8956 - val_loss: 0.0346 - val_accuracy: 0.7912 - lr: 0.0010 - 10s/epoch - 55ms/step
Epoch 16/75
176/176 - 10s - loss: 0.0162 - accuracy: 0.8958 - val_loss: 0.0356 - val_accuracy: 0.7855 - lr: 0.0010 - 10s/epoch - 55ms/step
Epoch 17/75
176/176 - 10s - loss: 0.0160 - accuracy: 0.8980 - val_loss: 0.0360 - val_accuracy: 0.7812 - lr: 0.0010 - 10s/epoch - 55ms/step
Epoch 18/75
176/176 - 10s - loss: 0.0160 - accuracy: 0.8983 - val_loss: 0.0376 - val_accuracy: 0.7738 - lr: 0.0010 - 10s/epoch - 55ms/step
Epoch 19/75
176/176 - 10s - loss: 0.0160 - accuracy: 0.8978 - val_loss: 0.0393 - val_accuracy: 0.7615 - lr: 0.0010 - 10s/epoch - 55ms/step
Epoch 20/75
176/176 - 10s - loss: 0.0159 - accuracy: 0.8987 - val_loss: 0.0368 - val_accuracy: 0.7782 - lr: 0.0010 - 10s/epoch - 55ms/step
Epoch 21/75
176/176 - 10s - loss: 0.0160 - accuracy: 0.8987 - val_loss: 0.0372 - val_accuracy: 0.7751 - lr: 0.0010 - 10s/epoch - 55ms/step
Epoch 22/75
176/176 - 10s - loss: 0.0159 - accuracy: 0.8987 - val_loss: 0.0356 - val_accuracy: 0.7834 - lr: 0.0010 - 10s/epoch - 55ms/step
Epoch 23/75
176/176 - 10s - loss: 0.0160 - accuracy: 0.8980 - val_loss: 0.0395 - val_accuracy: 0.7611 - lr: 0.0010 - 10s/epoch - 55ms/step
Epoch 24/75
176/176 - 10s - loss: 0.0158 - accuracy: 0.8991 - val_loss: 0.0381 - val_accuracy: 0.7709 - lr: 0.0010 - 10s/epoch - 55ms/step
Epoch 25/75
176/176 - 10s - loss: 0.0160 - accuracy: 0.8983 - val_loss: 0.0390 - val_accuracy: 0.7630 - lr: 0.0010 - 10s/epoch - 55ms/step
Epoch 26/75
176/176 - 10s - loss: 0.0158 - accuracy: 0.8994 - val_loss: 0.0381 - val_accuracy: 0.7680 - lr: 0.0010 - 10s/epoch - 55ms/step
Epoch 27/75
176/176 - 10s - loss: 0.0159 - accuracy: 0.8982 - val_loss: 0.0373 - val_accuracy: 0.7737 - lr: 0.0010 - 10s/epoch - 56ms/step
Epoch 28/75
176/176 - 10s - loss: 0.0157 - accuracy: 0.9007 - val_loss: 0.0378 - val_accuracy: 0.7721 - lr: 0.0010 - 10s/epoch - 55ms/step
Epoch 29/75
176/176 - 10s - loss: 0.0157 - accuracy: 0.9008 - val_loss: 0.0369 - val_accuracy: 0.7746 - lr: 0.0010 - 10s/epoch - 55ms/step
Epoch 30/75
176/176 - 10s - loss: 0.0157 - accuracy: 0.9005 - val_loss: 0.0365 - val_accuracy: 0.7801 - lr: 0.0010 - 10s/epoch - 55ms/step
Epoch 31/75
176/176 - 10s - loss: 0.0157 - accuracy: 0.9005 - val_loss: 0.0371 - val_accuracy: 0.7763 - lr: 0.0010 - 10s/epoch - 55ms/step
Epoch 32/75
176/176 - 10s - loss: 0.0158 - accuracy: 0.9002 - val_loss: 0.0373 - val_accuracy: 0.7765 - lr: 0.0010 - 10s/epoch - 55ms/step
Epoch 33/75
176/176 - 10s - loss: 0.0154 - accuracy: 0.9023 - val_loss: 0.0340 - val_accuracy: 0.7949 - lr: 0.0010 - 10s/epoch - 55ms/step
Epoch 34/75
176/176 - 10s - loss: 0.0155 - accuracy: 0.9015 - val_loss: 0.0373 - val_accuracy: 0.7758 - lr: 0.0010 - 10s/epoch - 55ms/step
Epoch 35/75
176/176 - 10s - loss: 0.0155 - accuracy: 0.9016 - val_loss: 0.0334 - val_accuracy: 0.7974 - lr: 0.0010 - 10s/epoch - 55ms/step
Epoch 36/75
176/176 - 10s - loss: 0.0153 - accuracy: 0.9032 - val_loss: 0.0377 - val_accuracy: 0.7735 - lr: 0.0010 - 10s/epoch - 55ms/step
Epoch 37/75
176/176 - 10s - loss: 0.0154 - accuracy: 0.9026 - val_loss: 0.0369 - val_accuracy: 0.7791 - lr: 0.0010 - 10s/epoch - 55ms/step
Epoch 38/75
176/176 - 10s - loss: 0.0152 - accuracy: 0.9032 - val_loss: 0.0385 - val_accuracy: 0.7695 - lr: 0.0010 - 10s/epoch - 55ms/step
Epoch 39/75
176/176 - 10s - loss: 0.0153 - accuracy: 0.9031 - val_loss: 0.0378 - val_accuracy: 0.7746 - lr: 0.0010 - 10s/epoch - 55ms/step
Epoch 40/75
176/176 - 10s - loss: 0.0154 - accuracy: 0.9028 - val_loss: 0.0362 - val_accuracy: 0.7804 - lr: 0.0010 - 10s/epoch - 55ms/step
Epoch 41/75
176/176 - 10s - loss: 0.0155 - accuracy: 0.9023 - val_loss: 0.0374 - val_accuracy: 0.7753 - lr: 0.0010 - 10s/epoch - 58ms/step
Epoch 42/75
176/176 - 10s - loss: 0.0155 - accuracy: 0.9014 - val_loss: 0.0393 - val_accuracy: 0.7626 - lr: 0.0010 - 10s/epoch - 58ms/step
Epoch 43/75
176/176 - 10s - loss: 0.0155 - accuracy: 0.9024 - val_loss: 0.0386 - val_accuracy: 0.7701 - lr: 0.0010 - 10s/epoch - 58ms/step
Epoch 44/75
176/176 - 10s - loss: 0.0154 - accuracy: 0.9024 - val_loss: 0.0400 - val_accuracy: 0.7602 - lr: 0.0010 - 10s/epoch - 57ms/step
Epoch 45/75
176/176 - 10s - loss: 0.0154 - accuracy: 0.9030 - val_loss: 0.0379 - val_accuracy: 0.7720 - lr: 0.0010 - 10s/epoch - 57ms/step
Epoch 46/75
176/176 - 10s - loss: 0.0154 - accuracy: 0.9025 - val_loss: 0.0400 - val_accuracy: 0.7606 - lr: 0.0010 - 10s/epoch - 55ms/step
Epoch 47/75
176/176 - 10s - loss: 0.0152 - accuracy: 0.9042 - val_loss: 0.0390 - val_accuracy: 0.7632 - lr: 0.0010 - 10s/epoch - 55ms/step
Epoch 48/75
176/176 - 10s - loss: 0.0151 - accuracy: 0.9046 - val_loss: 0.0377 - val_accuracy: 0.7730 - lr: 0.0010 - 10s/epoch - 55ms/step
Epoch 49/75
176/176 - 10s - loss: 0.0152 - accuracy: 0.9038 - val_loss: 0.0374 - val_accuracy: 0.7706 - lr: 0.0010 - 10s/epoch - 55ms/step
Epoch 50/75
176/176 - 10s - loss: 0.0152 - accuracy: 0.9036 - val_loss: 0.0418 - val_accuracy: 0.7468 - lr: 0.0010 - 10s/epoch - 55ms/step
Epoch 51/75
176/176 - 10s - loss: 0.0152 - accuracy: 0.9033 - val_loss: 0.0375 - val_accuracy: 0.7746 - lr: 0.0010 - 10s/epoch - 55ms/step
Epoch 52/75
176/176 - 10s - loss: 0.0151 - accuracy: 0.9049 - val_loss: 0.0364 - val_accuracy: 0.7796 - lr: 0.0010 - 10s/epoch - 55ms/step
Epoch 53/75
176/176 - 10s - loss: 0.0152 - accuracy: 0.9037 - val_loss: 0.0395 - val_accuracy: 0.7633 - lr: 0.0010 - 10s/epoch - 55ms/step
Epoch 54/75
176/176 - 10s - loss: 0.0151 - accuracy: 0.9049 - val_loss: 0.0386 - val_accuracy: 0.7682 - lr: 0.0010 - 10s/epoch - 55ms/step
Epoch 55/75
176/176 - 10s - loss: 0.0149 - accuracy: 0.9060 - val_loss: 0.0381 - val_accuracy: 0.7714 - lr: 0.0010 - 10s/epoch - 55ms/step
Epoch 56/75
176/176 - 10s - loss: 0.0149 - accuracy: 0.9057 - val_loss: 0.0404 - val_accuracy: 0.7579 - lr: 0.0010 - 10s/epoch - 55ms/step
Epoch 57/75
176/176 - 10s - loss: 0.0150 - accuracy: 0.9049 - val_loss: 0.0390 - val_accuracy: 0.7647 - lr: 0.0010 - 10s/epoch - 55ms/step
Epoch 58/75
176/176 - 10s - loss: 0.0149 - accuracy: 0.9065 - val_loss: 0.0375 - val_accuracy: 0.7749 - lr: 0.0010 - 10s/epoch - 55ms/step
Epoch 59/75
176/176 - 10s - loss: 0.0150 - accuracy: 0.9055 - val_loss: 0.0380 - val_accuracy: 0.7697 - lr: 0.0010 - 10s/epoch - 55ms/step
Epoch 60/75
176/176 - 10s - loss: 0.0147 - accuracy: 0.9073 - val_loss: 0.0388 - val_accuracy: 0.7668 - lr: 0.0010 - 10s/epoch - 55ms/step
Epoch 61/75
176/176 - 10s - loss: 0.0149 - accuracy: 0.9062 - val_loss: 0.0385 - val_accuracy: 0.7691 - lr: 0.0010 - 10s/epoch - 55ms/step
Epoch 62/75
176/176 - 10s - loss: 0.0148 - accuracy: 0.9060 - val_loss: 0.0402 - val_accuracy: 0.7607 - lr: 0.0010 - 10s/epoch - 55ms/step
Epoch 63/75
176/176 - 10s - loss: 0.0149 - accuracy: 0.9068 - val_loss: 0.0381 - val_accuracy: 0.7727 - lr: 0.0010 - 10s/epoch - 55ms/step
Epoch 64/75
176/176 - 10s - loss: 0.0149 - accuracy: 0.9062 - val_loss: 0.0369 - val_accuracy: 0.7768 - lr: 0.0010 - 10s/epoch - 55ms/step
Epoch 65/75
176/176 - 10s - loss: 0.0150 - accuracy: 0.9054 - val_loss: 0.0372 - val_accuracy: 0.7784 - lr: 0.0010 - 10s/epoch - 55ms/step
Epoch 66/75
176/176 - 10s - loss: 0.0149 - accuracy: 0.9064 - val_loss: 0.0378 - val_accuracy: 0.7733 - lr: 0.0010 - 10s/epoch - 55ms/step
Epoch 67/75
176/176 - 10s - loss: 0.0147 - accuracy: 0.9070 - val_loss: 0.0379 - val_accuracy: 0.7734 - lr: 0.0010 - 10s/epoch - 55ms/step
Epoch 68/75
176/176 - 10s - loss: 0.0150 - accuracy: 0.9049 - val_loss: 0.0377 - val_accuracy: 0.7759 - lr: 0.0010 - 10s/epoch - 55ms/step
Epoch 69/75
176/176 - 10s - loss: 0.0148 - accuracy: 0.9065 - val_loss: 0.0405 - val_accuracy: 0.7579 - lr: 0.0010 - 10s/epoch - 55ms/step
Epoch 70/75
176/176 - 10s - loss: 0.0149 - accuracy: 0.9065 - val_loss: 0.0394 - val_accuracy: 0.7663 - lr: 0.0010 - 10s/epoch - 55ms/step
Epoch 71/75
176/176 - 10s - loss: 0.0149 - accuracy: 0.9062 - val_loss: 0.0400 - val_accuracy: 0.7605 - lr: 0.0010 - 10s/epoch - 55ms/step
Epoch 72/75
176/176 - 10s - loss: 0.0148 - accuracy: 0.9067 - val_loss: 0.0383 - val_accuracy: 0.7719 - lr: 0.0010 - 10s/epoch - 55ms/step
Epoch 73/75
176/176 - 10s - loss: 0.0148 - accuracy: 0.9075 - val_loss: 0.0399 - val_accuracy: 0.7614 - lr: 0.0010 - 10s/epoch - 55ms/step
Epoch 74/75
176/176 - 10s - loss: 0.0147 - accuracy: 0.9075 - val_loss: 0.0384 - val_accuracy: 0.7687 - lr: 0.0010 - 10s/epoch - 55ms/step
Epoch 75/75
176/176 - 10s - loss: 0.0146 - accuracy: 0.9080 - val_loss: 0.0384 - val_accuracy: 0.7685 - lr: 0.0010 - 10s/epoch - 55ms/step
Epoch number: 100
fitting with batch size: 20
Epoch 1/100
4378/4378 - 75s - loss: 0.0243 - accuracy: 0.8396 - val_loss: 0.0348 - val_accuracy: 0.7943 - lr: 0.0010 - 75s/epoch - 17ms/step
Epoch 2/100
4378/4378 - 74s - loss: 0.0252 - accuracy: 0.8312 - val_loss: 0.0335 - val_accuracy: 0.7911 - lr: 0.0010 - 74s/epoch - 17ms/step
Epoch 3/100
4378/4378 - 73s - loss: 0.0256 - accuracy: 0.8292 - val_loss: 0.0295 - val_accuracy: 0.8239 - lr: 0.0010 - 73s/epoch - 17ms/step
Epoch 4/100
4378/4378 - 73s - loss: 0.0254 - accuracy: 0.8299 - val_loss: 0.0370 - val_accuracy: 0.7693 - lr: 0.0010 - 73s/epoch - 17ms/step
Epoch 5/100
4378/4378 - 73s - loss: 0.0254 - accuracy: 0.8301 - val_loss: 0.0316 - val_accuracy: 0.8081 - lr: 0.0010 - 73s/epoch - 17ms/step
Epoch 6/100
4378/4378 - 73s - loss: 0.0256 - accuracy: 0.8281 - val_loss: 0.0345 - val_accuracy: 0.7875 - lr: 0.0010 - 73s/epoch - 17ms/step
Epoch 7/100
4378/4378 - 73s - loss: 0.0255 - accuracy: 0.8286 - val_loss: 0.0308 - val_accuracy: 0.8128 - lr: 0.0010 - 73s/epoch - 17ms/step
Epoch 8/100
4378/4378 - 73s - loss: 0.0254 - accuracy: 0.8310 - val_loss: 0.0296 - val_accuracy: 0.8223 - lr: 0.0010 - 73s/epoch - 17ms/step
Epoch 9/100
4378/4378 - 73s - loss: 0.0252 - accuracy: 0.8315 - val_loss: 0.0316 - val_accuracy: 0.8000 - lr: 0.0010 - 73s/epoch - 17ms/step
Epoch 10/100
4378/4378 - 73s - loss: 0.0253 - accuracy: 0.8307 - val_loss: 0.0302 - val_accuracy: 0.8205 - lr: 0.0010 - 73s/epoch - 17ms/step
Epoch 11/100
4378/4378 - 73s - loss: 0.0253 - accuracy: 0.8315 - val_loss: 0.0351 - val_accuracy: 0.7906 - lr: 0.0010 - 73s/epoch - 17ms/step
Epoch 12/100
4378/4378 - 73s - loss: 0.0253 - accuracy: 0.8315 - val_loss: 0.0329 - val_accuracy: 0.8021 - lr: 0.0010 - 73s/epoch - 17ms/step
Epoch 13/100
4378/4378 - 73s - loss: 0.0253 - accuracy: 0.8306 - val_loss: 0.0338 - val_accuracy: 0.7964 - lr: 0.0010 - 73s/epoch - 17ms/step
Epoch 14/100
4378/4378 - 73s - loss: 0.0252 - accuracy: 0.8309 - val_loss: 0.0309 - val_accuracy: 0.8092 - lr: 0.0010 - 73s/epoch - 17ms/step
Epoch 15/100
4378/4378 - 74s - loss: 0.0252 - accuracy: 0.8319 - val_loss: 0.0294 - val_accuracy: 0.8165 - lr: 0.0010 - 74s/epoch - 17ms/step
Epoch 16/100
4378/4378 - 73s - loss: 0.0252 - accuracy: 0.8318 - val_loss: 0.0330 - val_accuracy: 0.8051 - lr: 0.0010 - 73s/epoch - 17ms/step
Epoch 17/100
4378/4378 - 73s - loss: 0.0251 - accuracy: 0.8328 - val_loss: 0.0346 - val_accuracy: 0.7883 - lr: 0.0010 - 73s/epoch - 17ms/step
Epoch 18/100
4378/4378 - 73s - loss: 0.0249 - accuracy: 0.8335 - val_loss: 0.0330 - val_accuracy: 0.7965 - lr: 0.0010 - 73s/epoch - 17ms/step
Epoch 19/100
4378/4378 - 73s - loss: 0.0252 - accuracy: 0.8313 - val_loss: 0.0267 - val_accuracy: 0.8372 - lr: 0.0010 - 73s/epoch - 17ms/step
Epoch 20/100
4378/4378 - 73s - loss: 0.0250 - accuracy: 0.8334 - val_loss: 0.0330 - val_accuracy: 0.7995 - lr: 0.0010 - 73s/epoch - 17ms/step
Epoch 21/100
4378/4378 - 73s - loss: 0.0251 - accuracy: 0.8329 - val_loss: 0.0303 - val_accuracy: 0.8121 - lr: 0.0010 - 73s/epoch - 17ms/step
Epoch 22/100
4378/4378 - 73s - loss: 0.0250 - accuracy: 0.8323 - val_loss: 0.0318 - val_accuracy: 0.7975 - lr: 0.0010 - 73s/epoch - 17ms/step
Epoch 23/100
4378/4378 - 73s - loss: 0.0250 - accuracy: 0.8339 - val_loss: 0.0321 - val_accuracy: 0.8063 - lr: 0.0010 - 73s/epoch - 17ms/step
Epoch 24/100
4378/4378 - 73s - loss: 0.0250 - accuracy: 0.8332 - val_loss: 0.0333 - val_accuracy: 0.7964 - lr: 0.0010 - 73s/epoch - 17ms/step
Epoch 25/100
4378/4378 - 73s - loss: 0.0249 - accuracy: 0.8336 - val_loss: 0.0312 - val_accuracy: 0.8036 - lr: 0.0010 - 73s/epoch - 17ms/step
Epoch 26/100
4378/4378 - 73s - loss: 0.0248 - accuracy: 0.8346 - val_loss: 0.0252 - val_accuracy: 0.8458 - lr: 0.0010 - 73s/epoch - 17ms/step
Epoch 27/100
4378/4378 - 73s - loss: 0.0248 - accuracy: 0.8349 - val_loss: 0.0345 - val_accuracy: 0.7939 - lr: 0.0010 - 73s/epoch - 17ms/step
Epoch 28/100
4378/4378 - 73s - loss: 0.0247 - accuracy: 0.8356 - val_loss: 0.0342 - val_accuracy: 0.7943 - lr: 0.0010 - 73s/epoch - 17ms/step
Epoch 29/100
4378/4378 - 73s - loss: 0.0248 - accuracy: 0.8352 - val_loss: 0.0288 - val_accuracy: 0.8269 - lr: 0.0010 - 73s/epoch - 17ms/step
Epoch 30/100
4378/4378 - 73s - loss: 0.0247 - accuracy: 0.8348 - val_loss: 0.0293 - val_accuracy: 0.8235 - lr: 0.0010 - 73s/epoch - 17ms/step
Epoch 31/100
4378/4378 - 73s - loss: 0.0247 - accuracy: 0.8358 - val_loss: 0.0304 - val_accuracy: 0.8129 - lr: 0.0010 - 73s/epoch - 17ms/step
Epoch 32/100
4378/4378 - 73s - loss: 0.0246 - accuracy: 0.8358 - val_loss: 0.0389 - val_accuracy: 0.7628 - lr: 0.0010 - 73s/epoch - 17ms/step
Epoch 33/100
4378/4378 - 73s - loss: 0.0246 - accuracy: 0.8352 - val_loss: 0.0308 - val_accuracy: 0.8098 - lr: 0.0010 - 73s/epoch - 17ms/step
Epoch 34/100
4378/4378 - 73s - loss: 0.0246 - accuracy: 0.8359 - val_loss: 0.0297 - val_accuracy: 0.8127 - lr: 0.0010 - 73s/epoch - 17ms/step
Epoch 35/100
4378/4378 - 73s - loss: 0.0246 - accuracy: 0.8377 - val_loss: 0.0333 - val_accuracy: 0.7931 - lr: 0.0010 - 73s/epoch - 17ms/step
Epoch 36/100
4378/4378 - 73s - loss: 0.0245 - accuracy: 0.8372 - val_loss: 0.0294 - val_accuracy: 0.8226 - lr: 0.0010 - 73s/epoch - 17ms/step
Epoch 37/100
4378/4378 - 73s - loss: 0.0244 - accuracy: 0.8381 - val_loss: 0.0331 - val_accuracy: 0.8073 - lr: 0.0010 - 73s/epoch - 17ms/step
Epoch 38/100
4378/4378 - 73s - loss: 0.0244 - accuracy: 0.8372 - val_loss: 0.0345 - val_accuracy: 0.7824 - lr: 0.0010 - 73s/epoch - 17ms/step
Epoch 39/100
4378/4378 - 73s - loss: 0.0243 - accuracy: 0.8380 - val_loss: 0.0312 - val_accuracy: 0.8101 - lr: 0.0010 - 73s/epoch - 17ms/step
Epoch 40/100
4378/4378 - 73s - loss: 0.0245 - accuracy: 0.8367 - val_loss: 0.0361 - val_accuracy: 0.7819 - lr: 0.0010 - 73s/epoch - 17ms/step
Epoch 41/100
4378/4378 - 73s - loss: 0.0244 - accuracy: 0.8376 - val_loss: 0.0347 - val_accuracy: 0.7872 - lr: 0.0010 - 73s/epoch - 17ms/step
Epoch 42/100
4378/4378 - 73s - loss: 0.0243 - accuracy: 0.8380 - val_loss: 0.0326 - val_accuracy: 0.8092 - lr: 0.0010 - 73s/epoch - 17ms/step
Epoch 43/100
4378/4378 - 73s - loss: 0.0242 - accuracy: 0.8400 - val_loss: 0.0331 - val_accuracy: 0.8040 - lr: 0.0010 - 73s/epoch - 17ms/step
Epoch 44/100
4378/4378 - 73s - loss: 0.0241 - accuracy: 0.8396 - val_loss: 0.0348 - val_accuracy: 0.7905 - lr: 0.0010 - 73s/epoch - 17ms/step
Epoch 45/100
4378/4378 - 73s - loss: 0.0241 - accuracy: 0.8401 - val_loss: 0.0318 - val_accuracy: 0.8041 - lr: 0.0010 - 73s/epoch - 17ms/step
Epoch 46/100
4378/4378 - 73s - loss: 0.0240 - accuracy: 0.8400 - val_loss: 0.0313 - val_accuracy: 0.8042 - lr: 0.0010 - 73s/epoch - 17ms/step
Epoch 47/100
4378/4378 - 73s - loss: 0.0241 - accuracy: 0.8407 - val_loss: 0.0319 - val_accuracy: 0.8034 - lr: 0.0010 - 73s/epoch - 17ms/step
Epoch 48/100
4378/4378 - 73s - loss: 0.0239 - accuracy: 0.8415 - val_loss: 0.0325 - val_accuracy: 0.8072 - lr: 0.0010 - 73s/epoch - 17ms/step
Epoch 49/100
4378/4378 - 73s - loss: 0.0242 - accuracy: 0.8393 - val_loss: 0.0293 - val_accuracy: 0.8280 - lr: 0.0010 - 73s/epoch - 17ms/step
Epoch 50/100
4378/4378 - 73s - loss: 0.0241 - accuracy: 0.8398 - val_loss: 0.0333 - val_accuracy: 0.8007 - lr: 0.0010 - 73s/epoch - 17ms/step
Epoch 51/100
4378/4378 - 73s - loss: 0.0241 - accuracy: 0.8403 - val_loss: 0.0302 - val_accuracy: 0.8202 - lr: 0.0010 - 73s/epoch - 17ms/step
Epoch 52/100
4378/4378 - 73s - loss: 0.0240 - accuracy: 0.8404 - val_loss: 0.0283 - val_accuracy: 0.8381 - lr: 0.0010 - 73s/epoch - 17ms/step
Epoch 53/100
4378/4378 - 73s - loss: 0.0238 - accuracy: 0.8419 - val_loss: 0.0345 - val_accuracy: 0.7902 - lr: 0.0010 - 73s/epoch - 17ms/step
Epoch 54/100
4378/4378 - 73s - loss: 0.0237 - accuracy: 0.8422 - val_loss: 0.0339 - val_accuracy: 0.7885 - lr: 0.0010 - 73s/epoch - 17ms/step
Epoch 55/100
4378/4378 - 74s - loss: 0.0237 - accuracy: 0.8445 - val_loss: 0.0358 - val_accuracy: 0.7764 - lr: 0.0010 - 74s/epoch - 17ms/step
Epoch 56/100
4378/4378 - 73s - loss: 0.0239 - accuracy: 0.8415 - val_loss: 0.0276 - val_accuracy: 0.8346 - lr: 0.0010 - 73s/epoch - 17ms/step
Epoch 57/100
4378/4378 - 73s - loss: 0.0239 - accuracy: 0.8417 - val_loss: 0.0326 - val_accuracy: 0.8015 - lr: 0.0010 - 73s/epoch - 17ms/step
Epoch 58/100
4378/4378 - 73s - loss: 0.0238 - accuracy: 0.8423 - val_loss: 0.0318 - val_accuracy: 0.8125 - lr: 0.0010 - 73s/epoch - 17ms/step
Epoch 59/100
4378/4378 - 73s - loss: 0.0237 - accuracy: 0.8426 - val_loss: 0.0354 - val_accuracy: 0.7875 - lr: 0.0010 - 73s/epoch - 17ms/step
Epoch 60/100
4378/4378 - 73s - loss: 0.0236 - accuracy: 0.8437 - val_loss: 0.0339 - val_accuracy: 0.7915 - lr: 0.0010 - 73s/epoch - 17ms/step
Epoch 61/100
4378/4378 - 73s - loss: 0.0235 - accuracy: 0.8444 - val_loss: 0.0361 - val_accuracy: 0.7764 - lr: 0.0010 - 73s/epoch - 17ms/step
Epoch 62/100
4378/4378 - 73s - loss: 0.0237 - accuracy: 0.8423 - val_loss: 0.0356 - val_accuracy: 0.7901 - lr: 0.0010 - 73s/epoch - 17ms/step
Epoch 63/100
4378/4378 - 73s - loss: 0.0237 - accuracy: 0.8438 - val_loss: 0.0324 - val_accuracy: 0.8090 - lr: 0.0010 - 73s/epoch - 17ms/step
Epoch 64/100
4378/4378 - 77s - loss: 0.0236 - accuracy: 0.8438 - val_loss: 0.0361 - val_accuracy: 0.7780 - lr: 0.0010 - 77s/epoch - 18ms/step
Epoch 65/100
4378/4378 - 73s - loss: 0.0236 - accuracy: 0.8443 - val_loss: 0.0359 - val_accuracy: 0.7792 - lr: 0.0010 - 73s/epoch - 17ms/step
Epoch 66/100
4378/4378 - 73s - loss: 0.0233 - accuracy: 0.8449 - val_loss: 0.0310 - val_accuracy: 0.8214 - lr: 0.0010 - 73s/epoch - 17ms/step
Epoch 67/100
4378/4378 - 73s - loss: 0.0236 - accuracy: 0.8439 - val_loss: 0.0324 - val_accuracy: 0.8036 - lr: 0.0010 - 73s/epoch - 17ms/step
Epoch 68/100
4378/4378 - 76s - loss: 0.0235 - accuracy: 0.8442 - val_loss: 0.0342 - val_accuracy: 0.7906 - lr: 0.0010 - 76s/epoch - 17ms/step
Epoch 69/100
4378/4378 - 73s - loss: 0.0235 - accuracy: 0.8449 - val_loss: 0.0365 - val_accuracy: 0.7816 - lr: 0.0010 - 73s/epoch - 17ms/step
Epoch 70/100
4378/4378 - 73s - loss: 0.0233 - accuracy: 0.8456 - val_loss: 0.0359 - val_accuracy: 0.7842 - lr: 0.0010 - 73s/epoch - 17ms/step
Epoch 71/100
4378/4378 - 73s - loss: 0.0234 - accuracy: 0.8452 - val_loss: 0.0333 - val_accuracy: 0.8001 - lr: 0.0010 - 73s/epoch - 17ms/step
Epoch 72/100
4378/4378 - 73s - loss: 0.0233 - accuracy: 0.8457 - val_loss: 0.0373 - val_accuracy: 0.7745 - lr: 0.0010 - 73s/epoch - 17ms/step
Epoch 73/100
4378/4378 - 73s - loss: 0.0233 - accuracy: 0.8457 - val_loss: 0.0332 - val_accuracy: 0.7938 - lr: 0.0010 - 73s/epoch - 17ms/step
Epoch 74/100
4378/4378 - 73s - loss: 0.0233 - accuracy: 0.8456 - val_loss: 0.0337 - val_accuracy: 0.7865 - lr: 0.0010 - 73s/epoch - 17ms/step
Epoch 75/100
4378/4378 - 74s - loss: 0.0232 - accuracy: 0.8467 - val_loss: 0.0339 - val_accuracy: 0.7890 - lr: 0.0010 - 74s/epoch - 17ms/step
Epoch 76/100
4378/4378 - 73s - loss: 0.0233 - accuracy: 0.8467 - val_loss: 0.0326 - val_accuracy: 0.8037 - lr: 0.0010 - 73s/epoch - 17ms/step
Epoch 77/100
4378/4378 - 73s - loss: 0.0232 - accuracy: 0.8475 - val_loss: 0.0349 - val_accuracy: 0.7882 - lr: 0.0010 - 73s/epoch - 17ms/step
Epoch 78/100
4378/4378 - 73s - loss: 0.0229 - accuracy: 0.8493 - val_loss: 0.0338 - val_accuracy: 0.7926 - lr: 0.0010 - 73s/epoch - 17ms/step
Epoch 79/100
4378/4378 - 73s - loss: 0.0230 - accuracy: 0.8471 - val_loss: 0.0336 - val_accuracy: 0.7988 - lr: 0.0010 - 73s/epoch - 17ms/step
Epoch 80/100
4378/4378 - 73s - loss: 0.0229 - accuracy: 0.8489 - val_loss: 0.0331 - val_accuracy: 0.7979 - lr: 0.0010 - 73s/epoch - 17ms/step
Epoch 81/100
4378/4378 - 73s - loss: 0.0230 - accuracy: 0.8483 - val_loss: 0.0361 - val_accuracy: 0.7785 - lr: 0.0010 - 73s/epoch - 17ms/step
Epoch 82/100
4378/4378 - 73s - loss: 0.0230 - accuracy: 0.8487 - val_loss: 0.0359 - val_accuracy: 0.7872 - lr: 0.0010 - 73s/epoch - 17ms/step
Epoch 83/100
4378/4378 - 73s - loss: 0.0231 - accuracy: 0.8483 - val_loss: 0.0354 - val_accuracy: 0.7918 - lr: 0.0010 - 73s/epoch - 17ms/step
Epoch 84/100
4378/4378 - 73s - loss: 0.0227 - accuracy: 0.8505 - val_loss: 0.0359 - val_accuracy: 0.7851 - lr: 0.0010 - 73s/epoch - 17ms/step
Epoch 85/100
4378/4378 - 73s - loss: 0.0228 - accuracy: 0.8501 - val_loss: 0.0309 - val_accuracy: 0.8251 - lr: 0.0010 - 73s/epoch - 17ms/step
Epoch 86/100
4378/4378 - 74s - loss: 0.0229 - accuracy: 0.8487 - val_loss: 0.0307 - val_accuracy: 0.8116 - lr: 0.0010 - 74s/epoch - 17ms/step
Epoch 87/100
4378/4378 - 74s - loss: 0.0228 - accuracy: 0.8500 - val_loss: 0.0356 - val_accuracy: 0.7826 - lr: 0.0010 - 74s/epoch - 17ms/step
Epoch 88/100
4378/4378 - 73s - loss: 0.0227 - accuracy: 0.8501 - val_loss: 0.0328 - val_accuracy: 0.8007 - lr: 0.0010 - 73s/epoch - 17ms/step
Epoch 89/100
4378/4378 - 73s - loss: 0.0228 - accuracy: 0.8505 - val_loss: 0.0366 - val_accuracy: 0.7870 - lr: 0.0010 - 73s/epoch - 17ms/step
Epoch 90/100
4378/4378 - 73s - loss: 0.0227 - accuracy: 0.8504 - val_loss: 0.0347 - val_accuracy: 0.7849 - lr: 0.0010 - 73s/epoch - 17ms/step
Epoch 91/100
4378/4378 - 73s - loss: 0.0228 - accuracy: 0.8500 - val_loss: 0.0325 - val_accuracy: 0.7987 - lr: 0.0010 - 73s/epoch - 17ms/step
Epoch 92/100
4378/4378 - 73s - loss: 0.0225 - accuracy: 0.8518 - val_loss: 0.0345 - val_accuracy: 0.7888 - lr: 0.0010 - 73s/epoch - 17ms/step
Epoch 93/100
4378/4378 - 73s - loss: 0.0226 - accuracy: 0.8515 - val_loss: 0.0324 - val_accuracy: 0.7982 - lr: 0.0010 - 73s/epoch - 17ms/step
Epoch 94/100
4378/4378 - 73s - loss: 0.0226 - accuracy: 0.8513 - val_loss: 0.0310 - val_accuracy: 0.8091 - lr: 0.0010 - 73s/epoch - 17ms/step
Epoch 95/100
4378/4378 - 73s - loss: 0.0225 - accuracy: 0.8509 - val_loss: 0.0347 - val_accuracy: 0.7880 - lr: 0.0010 - 73s/epoch - 17ms/step
Epoch 96/100
4378/4378 - 73s - loss: 0.0227 - accuracy: 0.8499 - val_loss: 0.0343 - val_accuracy: 0.7969 - lr: 0.0010 - 73s/epoch - 17ms/step
Epoch 97/100
4378/4378 - 73s - loss: 0.0225 - accuracy: 0.8528 - val_loss: 0.0355 - val_accuracy: 0.7861 - lr: 0.0010 - 73s/epoch - 17ms/step
Epoch 98/100
4378/4378 - 73s - loss: 0.0226 - accuracy: 0.8513 - val_loss: 0.0353 - val_accuracy: 0.7896 - lr: 0.0010 - 73s/epoch - 17ms/step
Epoch 99/100
4378/4378 - 73s - loss: 0.0225 - accuracy: 0.8523 - val_loss: 0.0356 - val_accuracy: 0.7866 - lr: 0.0010 - 73s/epoch - 17ms/step
Epoch 100/100
4378/4378 - 73s - loss: 0.0226 - accuracy: 0.8510 - val_loss: 0.0363 - val_accuracy: 0.7799 - lr: 0.0010 - 73s/epoch - 17ms/step
fitting with batch size: 100
Epoch 1/100
876/876 - 21s - loss: 0.0196 - accuracy: 0.8721 - val_loss: 0.0364 - val_accuracy: 0.7792 - lr: 0.0010 - 21s/epoch - 23ms/step
Epoch 2/100
876/876 - 18s - loss: 0.0188 - accuracy: 0.8780 - val_loss: 0.0393 - val_accuracy: 0.7631 - lr: 0.0010 - 18s/epoch - 20ms/step
Epoch 3/100
876/876 - 18s - loss: 0.0183 - accuracy: 0.8811 - val_loss: 0.0336 - val_accuracy: 0.7964 - lr: 0.0010 - 18s/epoch - 20ms/step
Epoch 4/100
876/876 - 18s - loss: 0.0180 - accuracy: 0.8832 - val_loss: 0.0369 - val_accuracy: 0.7772 - lr: 0.0010 - 18s/epoch - 20ms/step
Epoch 5/100
876/876 - 18s - loss: 0.0181 - accuracy: 0.8832 - val_loss: 0.0373 - val_accuracy: 0.7714 - lr: 0.0010 - 18s/epoch - 20ms/step
Epoch 6/100
876/876 - 18s - loss: 0.0180 - accuracy: 0.8841 - val_loss: 0.0378 - val_accuracy: 0.7733 - lr: 0.0010 - 18s/epoch - 21ms/step
Epoch 7/100
876/876 - 18s - loss: 0.0177 - accuracy: 0.8860 - val_loss: 0.0370 - val_accuracy: 0.7775 - lr: 0.0010 - 18s/epoch - 20ms/step
Epoch 8/100
876/876 - 18s - loss: 0.0175 - accuracy: 0.8868 - val_loss: 0.0357 - val_accuracy: 0.7828 - lr: 0.0010 - 18s/epoch - 20ms/step
Epoch 9/100
876/876 - 18s - loss: 0.0173 - accuracy: 0.8883 - val_loss: 0.0386 - val_accuracy: 0.7628 - lr: 0.0010 - 18s/epoch - 20ms/step
Epoch 10/100
876/876 - 18s - loss: 0.0172 - accuracy: 0.8888 - val_loss: 0.0365 - val_accuracy: 0.7777 - lr: 0.0010 - 18s/epoch - 20ms/step
Epoch 11/100
876/876 - 18s - loss: 0.0172 - accuracy: 0.8897 - val_loss: 0.0345 - val_accuracy: 0.7916 - lr: 0.0010 - 18s/epoch - 20ms/step
Epoch 12/100
876/876 - 18s - loss: 0.0171 - accuracy: 0.8897 - val_loss: 0.0392 - val_accuracy: 0.7622 - lr: 0.0010 - 18s/epoch - 20ms/step
Epoch 13/100
876/876 - 18s - loss: 0.0170 - accuracy: 0.8902 - val_loss: 0.0376 - val_accuracy: 0.7715 - lr: 0.0010 - 18s/epoch - 20ms/step
Epoch 14/100
876/876 - 18s - loss: 0.0171 - accuracy: 0.8903 - val_loss: 0.0351 - val_accuracy: 0.7858 - lr: 0.0010 - 18s/epoch - 20ms/step
Epoch 15/100
876/876 - 18s - loss: 0.0170 - accuracy: 0.8911 - val_loss: 0.0396 - val_accuracy: 0.7626 - lr: 0.0010 - 18s/epoch - 21ms/step
Epoch 16/100
876/876 - 18s - loss: 0.0169 - accuracy: 0.8910 - val_loss: 0.0354 - val_accuracy: 0.7866 - lr: 0.0010 - 18s/epoch - 20ms/step
Epoch 17/100
876/876 - 18s - loss: 0.0169 - accuracy: 0.8921 - val_loss: 0.0352 - val_accuracy: 0.7864 - lr: 0.0010 - 18s/epoch - 21ms/step
Epoch 18/100
876/876 - 18s - loss: 0.0168 - accuracy: 0.8917 - val_loss: 0.0339 - val_accuracy: 0.7933 - lr: 0.0010 - 18s/epoch - 20ms/step
Epoch 19/100
876/876 - 18s - loss: 0.0166 - accuracy: 0.8928 - val_loss: 0.0369 - val_accuracy: 0.7761 - lr: 0.0010 - 18s/epoch - 20ms/step
Epoch 20/100
876/876 - 18s - loss: 0.0167 - accuracy: 0.8928 - val_loss: 0.0351 - val_accuracy: 0.7886 - lr: 0.0010 - 18s/epoch - 20ms/step
Epoch 21/100
876/876 - 18s - loss: 0.0165 - accuracy: 0.8947 - val_loss: 0.0404 - val_accuracy: 0.7581 - lr: 0.0010 - 18s/epoch - 21ms/step
Epoch 22/100
876/876 - 18s - loss: 0.0164 - accuracy: 0.8948 - val_loss: 0.0367 - val_accuracy: 0.7808 - lr: 0.0010 - 18s/epoch - 20ms/step
Epoch 23/100
876/876 - 18s - loss: 0.0164 - accuracy: 0.8942 - val_loss: 0.0358 - val_accuracy: 0.7849 - lr: 0.0010 - 18s/epoch - 20ms/step
Epoch 24/100
876/876 - 18s - loss: 0.0163 - accuracy: 0.8949 - val_loss: 0.0402 - val_accuracy: 0.7586 - lr: 0.0010 - 18s/epoch - 20ms/step
Epoch 25/100
876/876 - 18s - loss: 0.0163 - accuracy: 0.8950 - val_loss: 0.0375 - val_accuracy: 0.7764 - lr: 0.0010 - 18s/epoch - 20ms/step
Epoch 26/100
876/876 - 18s - loss: 0.0163 - accuracy: 0.8956 - val_loss: 0.0385 - val_accuracy: 0.7698 - lr: 0.0010 - 18s/epoch - 20ms/step
Epoch 27/100
876/876 - 18s - loss: 0.0163 - accuracy: 0.8964 - val_loss: 0.0363 - val_accuracy: 0.7836 - lr: 0.0010 - 18s/epoch - 20ms/step
Epoch 28/100
876/876 - 18s - loss: 0.0162 - accuracy: 0.8959 - val_loss: 0.0398 - val_accuracy: 0.7614 - lr: 0.0010 - 18s/epoch - 20ms/step
Epoch 29/100
876/876 - 18s - loss: 0.0162 - accuracy: 0.8965 - val_loss: 0.0371 - val_accuracy: 0.7765 - lr: 0.0010 - 18s/epoch - 20ms/step
Epoch 30/100
876/876 - 18s - loss: 0.0161 - accuracy: 0.8971 - val_loss: 0.0374 - val_accuracy: 0.7767 - lr: 0.0010 - 18s/epoch - 20ms/step
Epoch 31/100
876/876 - 18s - loss: 0.0161 - accuracy: 0.8971 - val_loss: 0.0341 - val_accuracy: 0.7986 - lr: 0.0010 - 18s/epoch - 20ms/step
Epoch 32/100
876/876 - 18s - loss: 0.0161 - accuracy: 0.8971 - val_loss: 0.0341 - val_accuracy: 0.7954 - lr: 0.0010 - 18s/epoch - 20ms/step
Epoch 33/100
876/876 - 18s - loss: 0.0161 - accuracy: 0.8975 - val_loss: 0.0366 - val_accuracy: 0.7783 - lr: 0.0010 - 18s/epoch - 20ms/step
Epoch 34/100
876/876 - 18s - loss: 0.0160 - accuracy: 0.8986 - val_loss: 0.0382 - val_accuracy: 0.7722 - lr: 0.0010 - 18s/epoch - 20ms/step
Epoch 35/100
876/876 - 18s - loss: 0.0159 - accuracy: 0.8993 - val_loss: 0.0376 - val_accuracy: 0.7744 - lr: 0.0010 - 18s/epoch - 20ms/step
Epoch 36/100
876/876 - 18s - loss: 0.0159 - accuracy: 0.8984 - val_loss: 0.0401 - val_accuracy: 0.7578 - lr: 0.0010 - 18s/epoch - 20ms/step
Epoch 37/100
876/876 - 18s - loss: 0.0159 - accuracy: 0.8983 - val_loss: 0.0355 - val_accuracy: 0.7863 - lr: 0.0010 - 18s/epoch - 21ms/step
Epoch 38/100
876/876 - 18s - loss: 0.0158 - accuracy: 0.8990 - val_loss: 0.0372 - val_accuracy: 0.7738 - lr: 0.0010 - 18s/epoch - 20ms/step
Epoch 39/100
876/876 - 18s - loss: 0.0158 - accuracy: 0.9003 - val_loss: 0.0406 - val_accuracy: 0.7559 - lr: 0.0010 - 18s/epoch - 20ms/step
Epoch 40/100
876/876 - 18s - loss: 0.0159 - accuracy: 0.8983 - val_loss: 0.0383 - val_accuracy: 0.7684 - lr: 0.0010 - 18s/epoch - 20ms/step
Epoch 41/100
876/876 - 18s - loss: 0.0157 - accuracy: 0.9000 - val_loss: 0.0387 - val_accuracy: 0.7695 - lr: 0.0010 - 18s/epoch - 20ms/step
Epoch 42/100
876/876 - 18s - loss: 0.0157 - accuracy: 0.9000 - val_loss: 0.0359 - val_accuracy: 0.7810 - lr: 0.0010 - 18s/epoch - 20ms/step
Epoch 43/100
876/876 - 18s - loss: 0.0156 - accuracy: 0.9002 - val_loss: 0.0382 - val_accuracy: 0.7741 - lr: 0.0010 - 18s/epoch - 20ms/step
Epoch 44/100
876/876 - 18s - loss: 0.0157 - accuracy: 0.9000 - val_loss: 0.0388 - val_accuracy: 0.7681 - lr: 0.0010 - 18s/epoch - 20ms/step
Epoch 45/100
876/876 - 18s - loss: 0.0156 - accuracy: 0.9010 - val_loss: 0.0383 - val_accuracy: 0.7689 - lr: 0.0010 - 18s/epoch - 20ms/step
Epoch 46/100
876/876 - 18s - loss: 0.0155 - accuracy: 0.9011 - val_loss: 0.0381 - val_accuracy: 0.7698 - lr: 0.0010 - 18s/epoch - 20ms/step
Epoch 47/100
876/876 - 18s - loss: 0.0157 - accuracy: 0.9000 - val_loss: 0.0387 - val_accuracy: 0.7668 - lr: 0.0010 - 18s/epoch - 20ms/step
Epoch 48/100
876/876 - 18s - loss: 0.0156 - accuracy: 0.9012 - val_loss: 0.0405 - val_accuracy: 0.7574 - lr: 0.0010 - 18s/epoch - 20ms/step
Epoch 49/100
876/876 - 18s - loss: 0.0156 - accuracy: 0.9008 - val_loss: 0.0359 - val_accuracy: 0.7833 - lr: 0.0010 - 18s/epoch - 20ms/step
Epoch 50/100
876/876 - 18s - loss: 0.0155 - accuracy: 0.9018 - val_loss: 0.0391 - val_accuracy: 0.7654 - lr: 0.0010 - 18s/epoch - 20ms/step
Epoch 51/100
876/876 - 18s - loss: 0.0154 - accuracy: 0.9016 - val_loss: 0.0365 - val_accuracy: 0.7812 - lr: 0.0010 - 18s/epoch - 20ms/step
Epoch 52/100
876/876 - 18s - loss: 0.0156 - accuracy: 0.9007 - val_loss: 0.0383 - val_accuracy: 0.7711 - lr: 0.0010 - 18s/epoch - 21ms/step
Epoch 53/100
876/876 - 18s - loss: 0.0153 - accuracy: 0.9027 - val_loss: 0.0383 - val_accuracy: 0.7682 - lr: 0.0010 - 18s/epoch - 20ms/step
Epoch 54/100
876/876 - 18s - loss: 0.0154 - accuracy: 0.9016 - val_loss: 0.0398 - val_accuracy: 0.7570 - lr: 0.0010 - 18s/epoch - 20ms/step
Epoch 55/100
876/876 - 18s - loss: 0.0155 - accuracy: 0.9018 - val_loss: 0.0389 - val_accuracy: 0.7673 - lr: 0.0010 - 18s/epoch - 20ms/step
Epoch 56/100
876/876 - 18s - loss: 0.0153 - accuracy: 0.9027 - val_loss: 0.0376 - val_accuracy: 0.7748 - lr: 0.0010 - 18s/epoch - 20ms/step
Epoch 57/100
876/876 - 18s - loss: 0.0152 - accuracy: 0.9038 - val_loss: 0.0360 - val_accuracy: 0.7837 - lr: 0.0010 - 18s/epoch - 20ms/step
Epoch 58/100
876/876 - 18s - loss: 0.0153 - accuracy: 0.9027 - val_loss: 0.0358 - val_accuracy: 0.7833 - lr: 0.0010 - 18s/epoch - 20ms/step
Epoch 59/100
876/876 - 18s - loss: 0.0153 - accuracy: 0.9028 - val_loss: 0.0375 - val_accuracy: 0.7740 - lr: 0.0010 - 18s/epoch - 20ms/step
Epoch 60/100
876/876 - 18s - loss: 0.0152 - accuracy: 0.9036 - val_loss: 0.0380 - val_accuracy: 0.7705 - lr: 0.0010 - 18s/epoch - 20ms/step
Epoch 61/100
876/876 - 18s - loss: 0.0151 - accuracy: 0.9043 - val_loss: 0.0363 - val_accuracy: 0.7825 - lr: 0.0010 - 18s/epoch - 20ms/step
Epoch 62/100
876/876 - 18s - loss: 0.0152 - accuracy: 0.9032 - val_loss: 0.0398 - val_accuracy: 0.7581 - lr: 0.0010 - 18s/epoch - 21ms/step
Epoch 63/100
876/876 - 18s - loss: 0.0153 - accuracy: 0.9036 - val_loss: 0.0395 - val_accuracy: 0.7607 - lr: 0.0010 - 18s/epoch - 20ms/step
Epoch 64/100
876/876 - 18s - loss: 0.0152 - accuracy: 0.9033 - val_loss: 0.0390 - val_accuracy: 0.7640 - lr: 0.0010 - 18s/epoch - 20ms/step
Epoch 65/100
876/876 - 18s - loss: 0.0151 - accuracy: 0.9043 - val_loss: 0.0406 - val_accuracy: 0.7570 - lr: 0.0010 - 18s/epoch - 20ms/step
Epoch 66/100
876/876 - 18s - loss: 0.0150 - accuracy: 0.9047 - val_loss: 0.0380 - val_accuracy: 0.7714 - lr: 0.0010 - 18s/epoch - 20ms/step
Epoch 67/100
876/876 - 18s - loss: 0.0150 - accuracy: 0.9051 - val_loss: 0.0388 - val_accuracy: 0.7670 - lr: 0.0010 - 18s/epoch - 20ms/step
Epoch 68/100
876/876 - 18s - loss: 0.0152 - accuracy: 0.9033 - val_loss: 0.0403 - val_accuracy: 0.7596 - lr: 0.0010 - 18s/epoch - 20ms/step
Epoch 69/100
876/876 - 18s - loss: 0.0152 - accuracy: 0.9036 - val_loss: 0.0384 - val_accuracy: 0.7700 - lr: 0.0010 - 18s/epoch - 20ms/step
Epoch 70/100
876/876 - 18s - loss: 0.0150 - accuracy: 0.9047 - val_loss: 0.0421 - val_accuracy: 0.7467 - lr: 0.0010 - 18s/epoch - 21ms/step
Epoch 71/100
876/876 - 18s - loss: 0.0150 - accuracy: 0.9051 - val_loss: 0.0378 - val_accuracy: 0.7723 - lr: 0.0010 - 18s/epoch - 20ms/step
Epoch 72/100
876/876 - 18s - loss: 0.0150 - accuracy: 0.9045 - val_loss: 0.0381 - val_accuracy: 0.7695 - lr: 0.0010 - 18s/epoch - 20ms/step
Epoch 73/100
876/876 - 18s - loss: 0.0149 - accuracy: 0.9060 - val_loss: 0.0381 - val_accuracy: 0.7702 - lr: 0.0010 - 18s/epoch - 20ms/step
Epoch 74/100
876/876 - 18s - loss: 0.0150 - accuracy: 0.9046 - val_loss: 0.0385 - val_accuracy: 0.7687 - lr: 0.0010 - 18s/epoch - 21ms/step
Epoch 75/100
876/876 - 18s - loss: 0.0150 - accuracy: 0.9048 - val_loss: 0.0379 - val_accuracy: 0.7739 - lr: 0.0010 - 18s/epoch - 21ms/step
Epoch 76/100
876/876 - 18s - loss: 0.0148 - accuracy: 0.9060 - val_loss: 0.0427 - val_accuracy: 0.7471 - lr: 0.0010 - 18s/epoch - 20ms/step
Epoch 77/100
876/876 - 18s - loss: 0.0149 - accuracy: 0.9059 - val_loss: 0.0370 - val_accuracy: 0.7806 - lr: 0.0010 - 18s/epoch - 21ms/step
Epoch 78/100
876/876 - 18s - loss: 0.0149 - accuracy: 0.9064 - val_loss: 0.0376 - val_accuracy: 0.7762 - lr: 0.0010 - 18s/epoch - 20ms/step
Epoch 79/100
876/876 - 18s - loss: 0.0150 - accuracy: 0.9048 - val_loss: 0.0377 - val_accuracy: 0.7740 - lr: 0.0010 - 18s/epoch - 20ms/step
Epoch 80/100
876/876 - 18s - loss: 0.0149 - accuracy: 0.9053 - val_loss: 0.0358 - val_accuracy: 0.7861 - lr: 0.0010 - 18s/epoch - 20ms/step
Epoch 81/100
876/876 - 18s - loss: 0.0148 - accuracy: 0.9069 - val_loss: 0.0392 - val_accuracy: 0.7651 - lr: 0.0010 - 18s/epoch - 20ms/step
Epoch 82/100
876/876 - 18s - loss: 0.0149 - accuracy: 0.9061 - val_loss: 0.0401 - val_accuracy: 0.7582 - lr: 0.0010 - 18s/epoch - 21ms/step
Epoch 83/100
876/876 - 18s - loss: 0.0148 - accuracy: 0.9065 - val_loss: 0.0408 - val_accuracy: 0.7548 - lr: 0.0010 - 18s/epoch - 20ms/step
Epoch 84/100
876/876 - 18s - loss: 0.0148 - accuracy: 0.9066 - val_loss: 0.0375 - val_accuracy: 0.7724 - lr: 0.0010 - 18s/epoch - 20ms/step
Epoch 85/100
876/876 - 18s - loss: 0.0147 - accuracy: 0.9073 - val_loss: 0.0383 - val_accuracy: 0.7680 - lr: 0.0010 - 18s/epoch - 21ms/step
Epoch 86/100
876/876 - 18s - loss: 0.0149 - accuracy: 0.9059 - val_loss: 0.0392 - val_accuracy: 0.7655 - lr: 0.0010 - 18s/epoch - 21ms/step
Epoch 87/100
876/876 - 18s - loss: 0.0149 - accuracy: 0.9058 - val_loss: 0.0374 - val_accuracy: 0.7744 - lr: 0.0010 - 18s/epoch - 20ms/step
Epoch 88/100
876/876 - 18s - loss: 0.0147 - accuracy: 0.9068 - val_loss: 0.0377 - val_accuracy: 0.7750 - lr: 0.0010 - 18s/epoch - 21ms/step
Epoch 89/100
876/876 - 18s - loss: 0.0146 - accuracy: 0.9081 - val_loss: 0.0358 - val_accuracy: 0.7855 - lr: 0.0010 - 18s/epoch - 21ms/step
Epoch 90/100
876/876 - 18s - loss: 0.0148 - accuracy: 0.9066 - val_loss: 0.0369 - val_accuracy: 0.7748 - lr: 0.0010 - 18s/epoch - 20ms/step
Epoch 91/100
876/876 - 18s - loss: 0.0147 - accuracy: 0.9072 - val_loss: 0.0395 - val_accuracy: 0.7603 - lr: 0.0010 - 18s/epoch - 20ms/step
Epoch 92/100
876/876 - 18s - loss: 0.0148 - accuracy: 0.9063 - val_loss: 0.0393 - val_accuracy: 0.7647 - lr: 0.0010 - 18s/epoch - 20ms/step
Epoch 93/100
876/876 - 18s - loss: 0.0146 - accuracy: 0.9080 - val_loss: 0.0407 - val_accuracy: 0.7561 - lr: 0.0010 - 18s/epoch - 21ms/step
Epoch 94/100
876/876 - 18s - loss: 0.0147 - accuracy: 0.9076 - val_loss: 0.0365 - val_accuracy: 0.7782 - lr: 0.0010 - 18s/epoch - 21ms/step
Epoch 95/100
876/876 - 18s - loss: 0.0147 - accuracy: 0.9076 - val_loss: 0.0392 - val_accuracy: 0.7660 - lr: 0.0010 - 18s/epoch - 20ms/step
Epoch 96/100
876/876 - 18s - loss: 0.0145 - accuracy: 0.9079 - val_loss: 0.0350 - val_accuracy: 0.7897 - lr: 0.0010 - 18s/epoch - 21ms/step
Epoch 97/100
876/876 - 18s - loss: 0.0147 - accuracy: 0.9061 - val_loss: 0.0388 - val_accuracy: 0.7658 - lr: 0.0010 - 18s/epoch - 21ms/step
Epoch 98/100
876/876 - 18s - loss: 0.0147 - accuracy: 0.9070 - val_loss: 0.0414 - val_accuracy: 0.7521 - lr: 0.0010 - 18s/epoch - 21ms/step
Epoch 99/100
876/876 - 18s - loss: 0.0144 - accuracy: 0.9096 - val_loss: 0.0391 - val_accuracy: 0.7670 - lr: 0.0010 - 18s/epoch - 20ms/step
Epoch 100/100
876/876 - 18s - loss: 0.0146 - accuracy: 0.9076 - val_loss: 0.0400 - val_accuracy: 0.7635 - lr: 0.0010 - 18s/epoch - 20ms/step
fitting with batch size: 500
Epoch 1/100
176/176 - 12s - loss: 0.0127 - accuracy: 0.9201 - val_loss: 0.0419 - val_accuracy: 0.7516 - lr: 0.0010 - 12s/epoch - 68ms/step
Epoch 2/100
176/176 - 10s - loss: 0.0124 - accuracy: 0.9232 - val_loss: 0.0409 - val_accuracy: 0.7546 - lr: 0.0010 - 10s/epoch - 55ms/step
Epoch 3/100
176/176 - 10s - loss: 0.0124 - accuracy: 0.9226 - val_loss: 0.0414 - val_accuracy: 0.7529 - lr: 0.0010 - 10s/epoch - 55ms/step
Epoch 4/100
176/176 - 10s - loss: 0.0123 - accuracy: 0.9232 - val_loss: 0.0414 - val_accuracy: 0.7537 - lr: 0.0010 - 10s/epoch - 55ms/step
Epoch 5/100
176/176 - 10s - loss: 0.0121 - accuracy: 0.9243 - val_loss: 0.0423 - val_accuracy: 0.7487 - lr: 0.0010 - 10s/epoch - 56ms/step
Epoch 6/100
176/176 - 10s - loss: 0.0120 - accuracy: 0.9254 - val_loss: 0.0412 - val_accuracy: 0.7566 - lr: 0.0010 - 10s/epoch - 55ms/step
Epoch 7/100
176/176 - 10s - loss: 0.0121 - accuracy: 0.9248 - val_loss: 0.0428 - val_accuracy: 0.7468 - lr: 0.0010 - 10s/epoch - 55ms/step
Epoch 8/100
176/176 - 10s - loss: 0.0120 - accuracy: 0.9257 - val_loss: 0.0443 - val_accuracy: 0.7385 - lr: 0.0010 - 10s/epoch - 55ms/step
Epoch 9/100
176/176 - 10s - loss: 0.0119 - accuracy: 0.9257 - val_loss: 0.0433 - val_accuracy: 0.7437 - lr: 0.0010 - 10s/epoch - 55ms/step
Epoch 10/100
176/176 - 10s - loss: 0.0116 - accuracy: 0.9279 - val_loss: 0.0413 - val_accuracy: 0.7565 - lr: 0.0010 - 10s/epoch - 55ms/step
Epoch 11/100
176/176 - 10s - loss: 0.0119 - accuracy: 0.9263 - val_loss: 0.0428 - val_accuracy: 0.7499 - lr: 0.0010 - 10s/epoch - 55ms/step
Epoch 12/100
176/176 - 10s - loss: 0.0118 - accuracy: 0.9262 - val_loss: 0.0427 - val_accuracy: 0.7483 - lr: 0.0010 - 10s/epoch - 55ms/step
Epoch 13/100
176/176 - 10s - loss: 0.0119 - accuracy: 0.9267 - val_loss: 0.0429 - val_accuracy: 0.7484 - lr: 0.0010 - 10s/epoch - 55ms/step
Epoch 14/100
176/176 - 10s - loss: 0.0118 - accuracy: 0.9263 - val_loss: 0.0435 - val_accuracy: 0.7427 - lr: 0.0010 - 10s/epoch - 55ms/step
Epoch 15/100
176/176 - 10s - loss: 0.0118 - accuracy: 0.9263 - val_loss: 0.0433 - val_accuracy: 0.7453 - lr: 0.0010 - 10s/epoch - 55ms/step
Epoch 16/100
176/176 - 10s - loss: 0.0117 - accuracy: 0.9272 - val_loss: 0.0442 - val_accuracy: 0.7388 - lr: 0.0010 - 10s/epoch - 55ms/step
Epoch 17/100
176/176 - 10s - loss: 0.0117 - accuracy: 0.9273 - val_loss: 0.0416 - val_accuracy: 0.7540 - lr: 0.0010 - 10s/epoch - 55ms/step
Epoch 18/100
176/176 - 10s - loss: 0.0115 - accuracy: 0.9282 - val_loss: 0.0431 - val_accuracy: 0.7457 - lr: 0.0010 - 10s/epoch - 56ms/step
Epoch 19/100
176/176 - 10s - loss: 0.0116 - accuracy: 0.9282 - val_loss: 0.0441 - val_accuracy: 0.7395 - lr: 0.0010 - 10s/epoch - 55ms/step
Epoch 20/100
176/176 - 10s - loss: 0.0116 - accuracy: 0.9278 - val_loss: 0.0420 - val_accuracy: 0.7550 - lr: 0.0010 - 10s/epoch - 55ms/step
Epoch 21/100
176/176 - 10s - loss: 0.0116 - accuracy: 0.9280 - val_loss: 0.0432 - val_accuracy: 0.7433 - lr: 0.0010 - 10s/epoch - 56ms/step
Epoch 22/100
176/176 - 10s - loss: 0.0116 - accuracy: 0.9277 - val_loss: 0.0426 - val_accuracy: 0.7506 - lr: 0.0010 - 10s/epoch - 55ms/step
Epoch 23/100
176/176 - 10s - loss: 0.0114 - accuracy: 0.9289 - val_loss: 0.0451 - val_accuracy: 0.7355 - lr: 0.0010 - 10s/epoch - 55ms/step
Epoch 24/100
176/176 - 10s - loss: 0.0115 - accuracy: 0.9286 - val_loss: 0.0420 - val_accuracy: 0.7524 - lr: 0.0010 - 10s/epoch - 55ms/step
Epoch 25/100
176/176 - 10s - loss: 0.0115 - accuracy: 0.9287 - val_loss: 0.0449 - val_accuracy: 0.7367 - lr: 0.0010 - 10s/epoch - 55ms/step
Epoch 26/100
176/176 - 10s - loss: 0.0115 - accuracy: 0.9286 - val_loss: 0.0451 - val_accuracy: 0.7350 - lr: 0.0010 - 10s/epoch - 56ms/step
Epoch 27/100
176/176 - 10s - loss: 0.0115 - accuracy: 0.9290 - val_loss: 0.0416 - val_accuracy: 0.7539 - lr: 0.0010 - 10s/epoch - 56ms/step
Epoch 28/100
176/176 - 10s - loss: 0.0115 - accuracy: 0.9287 - val_loss: 0.0418 - val_accuracy: 0.7539 - lr: 0.0010 - 10s/epoch - 55ms/step
Epoch 29/100
176/176 - 10s - loss: 0.0114 - accuracy: 0.9287 - val_loss: 0.0434 - val_accuracy: 0.7439 - lr: 0.0010 - 10s/epoch - 55ms/step
Epoch 30/100
176/176 - 10s - loss: 0.0116 - accuracy: 0.9284 - val_loss: 0.0435 - val_accuracy: 0.7448 - lr: 0.0010 - 10s/epoch - 55ms/step
Epoch 31/100
176/176 - 10s - loss: 0.0114 - accuracy: 0.9298 - val_loss: 0.0416 - val_accuracy: 0.7540 - lr: 0.0010 - 10s/epoch - 55ms/step
Epoch 32/100
176/176 - 10s - loss: 0.0114 - accuracy: 0.9293 - val_loss: 0.0449 - val_accuracy: 0.7392 - lr: 0.0010 - 10s/epoch - 55ms/step
Epoch 33/100
176/176 - 10s - loss: 0.0114 - accuracy: 0.9297 - val_loss: 0.0454 - val_accuracy: 0.7328 - lr: 0.0010 - 10s/epoch - 55ms/step
Epoch 34/100
176/176 - 10s - loss: 0.0114 - accuracy: 0.9293 - val_loss: 0.0437 - val_accuracy: 0.7435 - lr: 0.0010 - 10s/epoch - 55ms/step
Epoch 35/100
176/176 - 10s - loss: 0.0112 - accuracy: 0.9312 - val_loss: 0.0437 - val_accuracy: 0.7442 - lr: 0.0010 - 10s/epoch - 55ms/step
Epoch 36/100
176/176 - 10s - loss: 0.0113 - accuracy: 0.9305 - val_loss: 0.0441 - val_accuracy: 0.7426 - lr: 0.0010 - 10s/epoch - 55ms/step
Epoch 37/100
176/176 - 10s - loss: 0.0114 - accuracy: 0.9298 - val_loss: 0.0437 - val_accuracy: 0.7445 - lr: 0.0010 - 10s/epoch - 55ms/step
Epoch 38/100
176/176 - 10s - loss: 0.0114 - accuracy: 0.9297 - val_loss: 0.0452 - val_accuracy: 0.7368 - lr: 0.0010 - 10s/epoch - 55ms/step
Epoch 39/100
176/176 - 10s - loss: 0.0114 - accuracy: 0.9301 - val_loss: 0.0452 - val_accuracy: 0.7351 - lr: 0.0010 - 10s/epoch - 55ms/step
Epoch 40/100
176/176 - 10s - loss: 0.0113 - accuracy: 0.9303 - val_loss: 0.0443 - val_accuracy: 0.7394 - lr: 0.0010 - 10s/epoch - 56ms/step
Epoch 41/100
176/176 - 10s - loss: 0.0112 - accuracy: 0.9308 - val_loss: 0.0436 - val_accuracy: 0.7426 - lr: 0.0010 - 10s/epoch - 55ms/step
Epoch 42/100
176/176 - 10s - loss: 0.0113 - accuracy: 0.9299 - val_loss: 0.0454 - val_accuracy: 0.7313 - lr: 0.0010 - 10s/epoch - 56ms/step
Epoch 43/100
176/176 - 10s - loss: 0.0113 - accuracy: 0.9305 - val_loss: 0.0457 - val_accuracy: 0.7329 - lr: 0.0010 - 10s/epoch - 55ms/step
Epoch 44/100
176/176 - 10s - loss: 0.0113 - accuracy: 0.9306 - val_loss: 0.0454 - val_accuracy: 0.7348 - lr: 0.0010 - 10s/epoch - 55ms/step
Epoch 45/100
176/176 - 10s - loss: 0.0111 - accuracy: 0.9311 - val_loss: 0.0448 - val_accuracy: 0.7389 - lr: 0.0010 - 10s/epoch - 55ms/step
Epoch 46/100
176/176 - 10s - loss: 0.0113 - accuracy: 0.9305 - val_loss: 0.0436 - val_accuracy: 0.7458 - lr: 0.0010 - 10s/epoch - 55ms/step
Epoch 47/100
176/176 - 10s - loss: 0.0112 - accuracy: 0.9310 - val_loss: 0.0432 - val_accuracy: 0.7471 - lr: 0.0010 - 10s/epoch - 55ms/step
Epoch 48/100
176/176 - 10s - loss: 0.0112 - accuracy: 0.9307 - val_loss: 0.0444 - val_accuracy: 0.7398 - lr: 0.0010 - 10s/epoch - 55ms/step
Epoch 49/100
176/176 - 10s - loss: 0.0112 - accuracy: 0.9307 - val_loss: 0.0446 - val_accuracy: 0.7408 - lr: 0.0010 - 10s/epoch - 55ms/step
Epoch 50/100
176/176 - 10s - loss: 0.0112 - accuracy: 0.9311 - val_loss: 0.0464 - val_accuracy: 0.7299 - lr: 0.0010 - 10s/epoch - 56ms/step
Epoch 51/100
176/176 - 10s - loss: 0.0112 - accuracy: 0.9319 - val_loss: 0.0432 - val_accuracy: 0.7478 - lr: 0.0010 - 10s/epoch - 55ms/step
Epoch 52/100
176/176 - 10s - loss: 0.0111 - accuracy: 0.9316 - val_loss: 0.0436 - val_accuracy: 0.7437 - lr: 0.0010 - 10s/epoch - 55ms/step
Epoch 53/100
176/176 - 10s - loss: 0.0110 - accuracy: 0.9322 - val_loss: 0.0443 - val_accuracy: 0.7395 - lr: 0.0010 - 10s/epoch - 58ms/step
Epoch 54/100
176/176 - 10s - loss: 0.0111 - accuracy: 0.9315 - val_loss: 0.0435 - val_accuracy: 0.7456 - lr: 0.0010 - 10s/epoch - 58ms/step
Epoch 55/100
176/176 - 10s - loss: 0.0111 - accuracy: 0.9320 - val_loss: 0.0439 - val_accuracy: 0.7415 - lr: 0.0010 - 10s/epoch - 58ms/step
Epoch 56/100
176/176 - 10s - loss: 0.0111 - accuracy: 0.9319 - val_loss: 0.0429 - val_accuracy: 0.7496 - lr: 0.0010 - 10s/epoch - 58ms/step
Epoch 57/100
176/176 - 10s - loss: 0.0112 - accuracy: 0.9316 - val_loss: 0.0441 - val_accuracy: 0.7444 - lr: 0.0010 - 10s/epoch - 56ms/step
Epoch 58/100
176/176 - 10s - loss: 0.0111 - accuracy: 0.9311 - val_loss: 0.0455 - val_accuracy: 0.7331 - lr: 0.0010 - 10s/epoch - 55ms/step
Epoch 59/100
176/176 - 10s - loss: 0.0111 - accuracy: 0.9313 - val_loss: 0.0442 - val_accuracy: 0.7416 - lr: 0.0010 - 10s/epoch - 56ms/step
Epoch 60/100
176/176 - 10s - loss: 0.0111 - accuracy: 0.9315 - val_loss: 0.0422 - val_accuracy: 0.7540 - lr: 0.0010 - 10s/epoch - 55ms/step
Epoch 61/100
176/176 - 10s - loss: 0.0111 - accuracy: 0.9318 - val_loss: 0.0447 - val_accuracy: 0.7393 - lr: 0.0010 - 10s/epoch - 55ms/step
Epoch 62/100
176/176 - 10s - loss: 0.0111 - accuracy: 0.9317 - val_loss: 0.0440 - val_accuracy: 0.7422 - lr: 0.0010 - 10s/epoch - 55ms/step
Epoch 63/100
176/176 - 10s - loss: 0.0110 - accuracy: 0.9321 - val_loss: 0.0431 - val_accuracy: 0.7497 - lr: 0.0010 - 10s/epoch - 55ms/step
Epoch 64/100
176/176 - 9s - loss: 0.0110 - accuracy: 0.9317 - val_loss: 0.0448 - val_accuracy: 0.7379 - lr: 0.0010 - 9s/epoch - 53ms/step
Epoch 65/100
176/176 - 9s - loss: 0.0110 - accuracy: 0.9321 - val_loss: 0.0457 - val_accuracy: 0.7328 - lr: 0.0010 - 9s/epoch - 50ms/step
Epoch 66/100
176/176 - 9s - loss: 0.0110 - accuracy: 0.9322 - val_loss: 0.0432 - val_accuracy: 0.7481 - lr: 0.0010 - 9s/epoch - 51ms/step
Epoch 67/100
176/176 - 9s - loss: 0.0110 - accuracy: 0.9328 - val_loss: 0.0458 - val_accuracy: 0.7336 - lr: 0.0010 - 9s/epoch - 51ms/step
Epoch 68/100
176/176 - 9s - loss: 0.0111 - accuracy: 0.9314 - val_loss: 0.0455 - val_accuracy: 0.7345 - lr: 0.0010 - 9s/epoch - 51ms/step
Epoch 69/100
176/176 - 9s - loss: 0.0109 - accuracy: 0.9329 - val_loss: 0.0434 - val_accuracy: 0.7465 - lr: 0.0010 - 9s/epoch - 50ms/step
Epoch 70/100
176/176 - 9s - loss: 0.0110 - accuracy: 0.9321 - val_loss: 0.0450 - val_accuracy: 0.7378 - lr: 0.0010 - 9s/epoch - 51ms/step
Epoch 71/100
176/176 - 9s - loss: 0.0109 - accuracy: 0.9324 - val_loss: 0.0439 - val_accuracy: 0.7450 - lr: 0.0010 - 9s/epoch - 51ms/step
Epoch 72/100
176/176 - 9s - loss: 0.0110 - accuracy: 0.9322 - val_loss: 0.0456 - val_accuracy: 0.7363 - lr: 0.0010 - 9s/epoch - 51ms/step
Epoch 73/100
176/176 - 9s - loss: 0.0109 - accuracy: 0.9333 - val_loss: 0.0444 - val_accuracy: 0.7433 - lr: 0.0010 - 9s/epoch - 49ms/step
Epoch 74/100
176/176 - 10s - loss: 0.0110 - accuracy: 0.9329 - val_loss: 0.0455 - val_accuracy: 0.7358 - lr: 0.0010 - 10s/epoch - 57ms/step
Epoch 75/100
176/176 - 10s - loss: 0.0109 - accuracy: 0.9330 - val_loss: 0.0471 - val_accuracy: 0.7257 - lr: 0.0010 - 10s/epoch - 55ms/step
Epoch 76/100
176/176 - 10s - loss: 0.0109 - accuracy: 0.9329 - val_loss: 0.0459 - val_accuracy: 0.7312 - lr: 0.0010 - 10s/epoch - 55ms/step
Epoch 77/100
176/176 - 10s - loss: 0.0109 - accuracy: 0.9329 - val_loss: 0.0448 - val_accuracy: 0.7370 - lr: 0.0010 - 10s/epoch - 56ms/step
Epoch 78/100
176/176 - 10s - loss: 0.0109 - accuracy: 0.9329 - val_loss: 0.0460 - val_accuracy: 0.7320 - lr: 0.0010 - 10s/epoch - 55ms/step
Epoch 79/100
176/176 - 10s - loss: 0.0110 - accuracy: 0.9326 - val_loss: 0.0453 - val_accuracy: 0.7375 - lr: 0.0010 - 10s/epoch - 55ms/step
Epoch 80/100
176/176 - 10s - loss: 0.0108 - accuracy: 0.9336 - val_loss: 0.0461 - val_accuracy: 0.7323 - lr: 0.0010 - 10s/epoch - 55ms/step
Epoch 81/100
176/176 - 10s - loss: 0.0109 - accuracy: 0.9330 - val_loss: 0.0444 - val_accuracy: 0.7404 - lr: 0.0010 - 10s/epoch - 55ms/step
Epoch 82/100
176/176 - 10s - loss: 0.0109 - accuracy: 0.9326 - val_loss: 0.0461 - val_accuracy: 0.7308 - lr: 0.0010 - 10s/epoch - 55ms/step
Epoch 83/100
176/176 - 10s - loss: 0.0108 - accuracy: 0.9339 - val_loss: 0.0463 - val_accuracy: 0.7298 - lr: 0.0010 - 10s/epoch - 55ms/step
Epoch 84/100
176/176 - 10s - loss: 0.0107 - accuracy: 0.9340 - val_loss: 0.0456 - val_accuracy: 0.7364 - lr: 0.0010 - 10s/epoch - 55ms/step
Epoch 85/100
176/176 - 10s - loss: 0.0107 - accuracy: 0.9342 - val_loss: 0.0450 - val_accuracy: 0.7387 - lr: 0.0010 - 10s/epoch - 55ms/step
Epoch 86/100
176/176 - 10s - loss: 0.0108 - accuracy: 0.9338 - val_loss: 0.0463 - val_accuracy: 0.7304 - lr: 0.0010 - 10s/epoch - 55ms/step
Epoch 87/100
176/176 - 10s - loss: 0.0109 - accuracy: 0.9335 - val_loss: 0.0441 - val_accuracy: 0.7457 - lr: 0.0010 - 10s/epoch - 55ms/step
Epoch 88/100
176/176 - 10s - loss: 0.0108 - accuracy: 0.9334 - val_loss: 0.0468 - val_accuracy: 0.7288 - lr: 0.0010 - 10s/epoch - 55ms/step
Epoch 89/100
176/176 - 10s - loss: 0.0107 - accuracy: 0.9345 - val_loss: 0.0434 - val_accuracy: 0.7463 - lr: 0.0010 - 10s/epoch - 55ms/step
Epoch 90/100
176/176 - 10s - loss: 0.0109 - accuracy: 0.9334 - val_loss: 0.0441 - val_accuracy: 0.7427 - lr: 0.0010 - 10s/epoch - 55ms/step
Epoch 91/100
176/176 - 10s - loss: 0.0109 - accuracy: 0.9329 - val_loss: 0.0444 - val_accuracy: 0.7440 - lr: 0.0010 - 10s/epoch - 56ms/step
Epoch 92/100
176/176 - 10s - loss: 0.0107 - accuracy: 0.9342 - val_loss: 0.0441 - val_accuracy: 0.7427 - lr: 0.0010 - 10s/epoch - 55ms/step
Epoch 93/100
176/176 - 10s - loss: 0.0108 - accuracy: 0.9343 - val_loss: 0.0450 - val_accuracy: 0.7381 - lr: 0.0010 - 10s/epoch - 55ms/step
Epoch 94/100
176/176 - 10s - loss: 0.0108 - accuracy: 0.9341 - val_loss: 0.0432 - val_accuracy: 0.7477 - lr: 0.0010 - 10s/epoch - 56ms/step
Epoch 95/100
176/176 - 10s - loss: 0.0108 - accuracy: 0.9341 - val_loss: 0.0434 - val_accuracy: 0.7484 - lr: 0.0010 - 10s/epoch - 55ms/step
Epoch 96/100
176/176 - 10s - loss: 0.0108 - accuracy: 0.9334 - val_loss: 0.0473 - val_accuracy: 0.7241 - lr: 0.0010 - 10s/epoch - 55ms/step
Epoch 97/100
176/176 - 10s - loss: 0.0108 - accuracy: 0.9340 - val_loss: 0.0461 - val_accuracy: 0.7315 - lr: 0.0010 - 10s/epoch - 55ms/step
Epoch 98/100
176/176 - 10s - loss: 0.0107 - accuracy: 0.9350 - val_loss: 0.0451 - val_accuracy: 0.7398 - lr: 0.0010 - 10s/epoch - 55ms/step
Epoch 99/100
176/176 - 10s - loss: 0.0107 - accuracy: 0.9347 - val_loss: 0.0475 - val_accuracy: 0.7236 - lr: 0.0010 - 10s/epoch - 55ms/step
Epoch 100/100
176/176 - 10s - loss: 0.0107 - accuracy: 0.9344 - val_loss: 0.0467 - val_accuracy: 0.7266 - lr: 0.0010 - 10s/epoch - 55ms/step
Loss: kullback_leibler_divergence
Epoch number: 75
fitting with batch size: 20
Epoch 1/75
4378/4378 - 76s - loss: 0.5078 - accuracy: 0.8743 - val_loss: 0.7736 - val_accuracy: 0.7382 - lr: 0.0010 - 76s/epoch - 17ms/step
Epoch 2/75
4378/4378 - 73s - loss: 0.4828 - accuracy: 0.8671 - val_loss: 0.6791 - val_accuracy: 0.7454 - lr: 0.0010 - 73s/epoch - 17ms/step
Epoch 3/75
4378/4378 - 73s - loss: 0.4794 - accuracy: 0.8640 - val_loss: 0.6753 - val_accuracy: 0.7643 - lr: 0.0010 - 73s/epoch - 17ms/step
Epoch 4/75
4378/4378 - 73s - loss: 0.4770 - accuracy: 0.8625 - val_loss: 0.6619 - val_accuracy: 0.7639 - lr: 0.0010 - 73s/epoch - 17ms/step
Epoch 5/75
4378/4378 - 73s - loss: 0.4739 - accuracy: 0.8612 - val_loss: 0.7476 - val_accuracy: 0.7452 - lr: 0.0010 - 73s/epoch - 17ms/step
Epoch 6/75
4378/4378 - 73s - loss: 0.4737 - accuracy: 0.8614 - val_loss: 0.6139 - val_accuracy: 0.7733 - lr: 0.0010 - 73s/epoch - 17ms/step
Epoch 7/75
4378/4378 - 74s - loss: 0.4739 - accuracy: 0.8614 - val_loss: 0.6787 - val_accuracy: 0.7672 - lr: 0.0010 - 74s/epoch - 17ms/step
Epoch 8/75
4378/4378 - 73s - loss: 0.4710 - accuracy: 0.8590 - val_loss: 0.6769 - val_accuracy: 0.7681 - lr: 0.0010 - 73s/epoch - 17ms/step
Epoch 9/75
4378/4378 - 73s - loss: 0.4700 - accuracy: 0.8600 - val_loss: 0.7171 - val_accuracy: 0.7487 - lr: 0.0010 - 73s/epoch - 17ms/step
Epoch 10/75
4378/4378 - 73s - loss: 0.4744 - accuracy: 0.8574 - val_loss: 0.7125 - val_accuracy: 0.7547 - lr: 0.0010 - 73s/epoch - 17ms/step
Epoch 11/75
4378/4378 - 73s - loss: 0.4715 - accuracy: 0.8577 - val_loss: 0.7101 - val_accuracy: 0.7554 - lr: 0.0010 - 73s/epoch - 17ms/step
Epoch 12/75
4378/4378 - 73s - loss: 0.4701 - accuracy: 0.8580 - val_loss: 0.6982 - val_accuracy: 0.7573 - lr: 0.0010 - 73s/epoch - 17ms/step
Epoch 13/75
4378/4378 - 73s - loss: 0.4690 - accuracy: 0.8568 - val_loss: 0.6357 - val_accuracy: 0.7658 - lr: 0.0010 - 73s/epoch - 17ms/step
Epoch 14/75
4378/4378 - 73s - loss: 0.4697 - accuracy: 0.8568 - val_loss: 0.5904 - val_accuracy: 0.7925 - lr: 0.0010 - 73s/epoch - 17ms/step
Epoch 15/75
4378/4378 - 73s - loss: 0.4709 - accuracy: 0.8561 - val_loss: 0.6244 - val_accuracy: 0.7802 - lr: 0.0010 - 73s/epoch - 17ms/step
Epoch 16/75
4378/4378 - 73s - loss: 0.4738 - accuracy: 0.8548 - val_loss: 0.6069 - val_accuracy: 0.7764 - lr: 0.0010 - 73s/epoch - 17ms/step
Epoch 17/75
4378/4378 - 73s - loss: 0.4692 - accuracy: 0.8561 - val_loss: 0.6236 - val_accuracy: 0.7832 - lr: 0.0010 - 73s/epoch - 17ms/step
Epoch 18/75
4378/4378 - 73s - loss: 0.4689 - accuracy: 0.8566 - val_loss: 0.6151 - val_accuracy: 0.7857 - lr: 0.0010 - 73s/epoch - 17ms/step
Epoch 19/75
4378/4378 - 73s - loss: 0.4703 - accuracy: 0.8547 - val_loss: 0.7615 - val_accuracy: 0.7414 - lr: 0.0010 - 73s/epoch - 17ms/step
Epoch 20/75
4378/4378 - 73s - loss: 0.4700 - accuracy: 0.8539 - val_loss: 0.6218 - val_accuracy: 0.7824 - lr: 0.0010 - 73s/epoch - 17ms/step
Epoch 21/75
4378/4378 - 73s - loss: 0.4705 - accuracy: 0.8546 - val_loss: 0.5798 - val_accuracy: 0.8070 - lr: 0.0010 - 73s/epoch - 17ms/step
Epoch 22/75
4378/4378 - 73s - loss: 0.4676 - accuracy: 0.8549 - val_loss: 0.6875 - val_accuracy: 0.7712 - lr: 0.0010 - 73s/epoch - 17ms/step
Epoch 23/75
4378/4378 - 73s - loss: 0.4672 - accuracy: 0.8554 - val_loss: 0.6478 - val_accuracy: 0.7766 - lr: 0.0010 - 73s/epoch - 17ms/step
Epoch 24/75
4378/4378 - 74s - loss: 0.4668 - accuracy: 0.8539 - val_loss: 0.6631 - val_accuracy: 0.7684 - lr: 0.0010 - 74s/epoch - 17ms/step
Epoch 25/75
4378/4378 - 73s - loss: 0.4639 - accuracy: 0.8554 - val_loss: 0.6250 - val_accuracy: 0.7890 - lr: 0.0010 - 73s/epoch - 17ms/step
Epoch 26/75
4378/4378 - 73s - loss: 0.4690 - accuracy: 0.8533 - val_loss: 0.6353 - val_accuracy: 0.7891 - lr: 0.0010 - 73s/epoch - 17ms/step
Epoch 27/75
4378/4378 - 73s - loss: 0.4678 - accuracy: 0.8534 - val_loss: 0.7080 - val_accuracy: 0.7518 - lr: 0.0010 - 73s/epoch - 17ms/step
Epoch 28/75
4378/4378 - 73s - loss: 0.4668 - accuracy: 0.8531 - val_loss: 0.6832 - val_accuracy: 0.7633 - lr: 0.0010 - 73s/epoch - 17ms/step
Epoch 29/75
4378/4378 - 73s - loss: 0.4652 - accuracy: 0.8541 - val_loss: 0.6513 - val_accuracy: 0.7829 - lr: 0.0010 - 73s/epoch - 17ms/step
Epoch 30/75
4378/4378 - 73s - loss: 0.4648 - accuracy: 0.8527 - val_loss: 0.6878 - val_accuracy: 0.7572 - lr: 0.0010 - 73s/epoch - 17ms/step
Epoch 31/75
4378/4378 - 73s - loss: 0.4678 - accuracy: 0.8525 - val_loss: 0.6855 - val_accuracy: 0.7798 - lr: 0.0010 - 73s/epoch - 17ms/step
Epoch 32/75
4378/4378 - 73s - loss: 0.4648 - accuracy: 0.8527 - val_loss: 0.6216 - val_accuracy: 0.7992 - lr: 0.0010 - 73s/epoch - 17ms/step
Epoch 33/75
4378/4378 - 73s - loss: 0.4635 - accuracy: 0.8540 - val_loss: 0.6787 - val_accuracy: 0.7795 - lr: 0.0010 - 73s/epoch - 17ms/step
Epoch 34/75
4378/4378 - 73s - loss: 0.4652 - accuracy: 0.8539 - val_loss: 0.8279 - val_accuracy: 0.7252 - lr: 0.0010 - 73s/epoch - 17ms/step
Epoch 35/75
4378/4378 - 73s - loss: 0.4643 - accuracy: 0.8515 - val_loss: 0.7235 - val_accuracy: 0.7639 - lr: 0.0010 - 73s/epoch - 17ms/step
Epoch 36/75
4378/4378 - 73s - loss: 0.4614 - accuracy: 0.8533 - val_loss: 0.6796 - val_accuracy: 0.7629 - lr: 0.0010 - 73s/epoch - 17ms/step
Epoch 37/75
4378/4378 - 73s - loss: 0.4627 - accuracy: 0.8526 - val_loss: 0.7698 - val_accuracy: 0.7412 - lr: 0.0010 - 73s/epoch - 17ms/step
Epoch 38/75
4378/4378 - 73s - loss: 0.4636 - accuracy: 0.8521 - val_loss: 0.6560 - val_accuracy: 0.7812 - lr: 0.0010 - 73s/epoch - 17ms/step
Epoch 39/75
4378/4378 - 73s - loss: 0.4602 - accuracy: 0.8550 - val_loss: 0.5866 - val_accuracy: 0.8088 - lr: 0.0010 - 73s/epoch - 17ms/step
Epoch 40/75
4378/4378 - 73s - loss: 0.4594 - accuracy: 0.8535 - val_loss: 0.6873 - val_accuracy: 0.7724 - lr: 0.0010 - 73s/epoch - 17ms/step
Epoch 41/75
4378/4378 - 73s - loss: 0.4600 - accuracy: 0.8536 - val_loss: 0.8042 - val_accuracy: 0.7356 - lr: 0.0010 - 73s/epoch - 17ms/step
Epoch 42/75
4378/4378 - 73s - loss: 0.4599 - accuracy: 0.8525 - val_loss: 0.7515 - val_accuracy: 0.7436 - lr: 0.0010 - 73s/epoch - 17ms/step
Epoch 43/75
4378/4378 - 73s - loss: 0.4630 - accuracy: 0.8522 - val_loss: 0.7681 - val_accuracy: 0.7647 - lr: 0.0010 - 73s/epoch - 17ms/step
Epoch 44/75
4378/4378 - 73s - loss: 0.4578 - accuracy: 0.8543 - val_loss: 0.6937 - val_accuracy: 0.7677 - lr: 0.0010 - 73s/epoch - 17ms/step
Epoch 45/75
4378/4378 - 73s - loss: 0.4609 - accuracy: 0.8536 - val_loss: 0.6596 - val_accuracy: 0.7807 - lr: 0.0010 - 73s/epoch - 17ms/step
Epoch 46/75
4378/4378 - 73s - loss: 0.4627 - accuracy: 0.8513 - val_loss: 0.6081 - val_accuracy: 0.7949 - lr: 0.0010 - 73s/epoch - 17ms/step
Epoch 47/75
4378/4378 - 73s - loss: 0.4586 - accuracy: 0.8537 - val_loss: 0.6925 - val_accuracy: 0.7678 - lr: 0.0010 - 73s/epoch - 17ms/step
Epoch 48/75
4378/4378 - 73s - loss: 0.4586 - accuracy: 0.8527 - val_loss: 0.6745 - val_accuracy: 0.7625 - lr: 0.0010 - 73s/epoch - 17ms/step
Epoch 49/75
4378/4378 - 73s - loss: 0.4573 - accuracy: 0.8539 - val_loss: 0.7590 - val_accuracy: 0.7593 - lr: 0.0010 - 73s/epoch - 17ms/step
Epoch 50/75
4378/4378 - 73s - loss: 0.4550 - accuracy: 0.8544 - val_loss: 0.8191 - val_accuracy: 0.7434 - lr: 0.0010 - 73s/epoch - 17ms/step
Epoch 51/75
4378/4378 - 73s - loss: 0.4584 - accuracy: 0.8543 - val_loss: 0.6709 - val_accuracy: 0.7807 - lr: 0.0010 - 73s/epoch - 17ms/step
Epoch 52/75
4378/4378 - 73s - loss: 0.4592 - accuracy: 0.8515 - val_loss: 0.6950 - val_accuracy: 0.7505 - lr: 0.0010 - 73s/epoch - 17ms/step
Epoch 53/75
4378/4378 - 73s - loss: 0.4596 - accuracy: 0.8526 - val_loss: 0.7033 - val_accuracy: 0.7761 - lr: 0.0010 - 73s/epoch - 17ms/step
Epoch 54/75
4378/4378 - 74s - loss: 0.4594 - accuracy: 0.8503 - val_loss: 0.6498 - val_accuracy: 0.7866 - lr: 0.0010 - 74s/epoch - 17ms/step
Epoch 55/75
4378/4378 - 73s - loss: 0.4568 - accuracy: 0.8529 - val_loss: 0.6985 - val_accuracy: 0.7756 - lr: 0.0010 - 73s/epoch - 17ms/step
Epoch 56/75
4378/4378 - 73s - loss: 0.4568 - accuracy: 0.8520 - val_loss: 0.6373 - val_accuracy: 0.7754 - lr: 0.0010 - 73s/epoch - 17ms/step
Epoch 57/75
4378/4378 - 73s - loss: 0.4572 - accuracy: 0.8517 - val_loss: 0.6426 - val_accuracy: 0.7791 - lr: 0.0010 - 73s/epoch - 17ms/step
Epoch 58/75
4378/4378 - 73s - loss: 0.4591 - accuracy: 0.8512 - val_loss: 0.5490 - val_accuracy: 0.8191 - lr: 0.0010 - 73s/epoch - 17ms/step
Epoch 59/75
4378/4378 - 73s - loss: 0.4583 - accuracy: 0.8521 - val_loss: 0.6048 - val_accuracy: 0.8063 - lr: 0.0010 - 73s/epoch - 17ms/step
Epoch 60/75
4378/4378 - 73s - loss: 0.4577 - accuracy: 0.8522 - val_loss: 0.6843 - val_accuracy: 0.7752 - lr: 0.0010 - 73s/epoch - 17ms/step
Epoch 61/75
4378/4378 - 73s - loss: 0.4575 - accuracy: 0.8516 - val_loss: 0.6333 - val_accuracy: 0.7969 - lr: 0.0010 - 73s/epoch - 17ms/step
Epoch 62/75
4378/4378 - 73s - loss: 0.4572 - accuracy: 0.8519 - val_loss: 0.6927 - val_accuracy: 0.7726 - lr: 0.0010 - 73s/epoch - 17ms/step
Epoch 63/75
4378/4378 - 73s - loss: 0.4531 - accuracy: 0.8522 - val_loss: 0.7591 - val_accuracy: 0.7533 - lr: 0.0010 - 73s/epoch - 17ms/step
Epoch 64/75
4378/4378 - 73s - loss: 0.4527 - accuracy: 0.8531 - val_loss: 0.7338 - val_accuracy: 0.7595 - lr: 0.0010 - 73s/epoch - 17ms/step
Epoch 65/75
4378/4378 - 73s - loss: 0.4585 - accuracy: 0.8521 - val_loss: 0.6306 - val_accuracy: 0.7849 - lr: 0.0010 - 73s/epoch - 17ms/step
Epoch 66/75
4378/4378 - 73s - loss: 0.4520 - accuracy: 0.8535 - val_loss: 0.5808 - val_accuracy: 0.8049 - lr: 0.0010 - 73s/epoch - 17ms/step
Epoch 67/75
4378/4378 - 73s - loss: 0.4543 - accuracy: 0.8522 - val_loss: 0.7673 - val_accuracy: 0.7675 - lr: 0.0010 - 73s/epoch - 17ms/step
Epoch 68/75
4378/4378 - 73s - loss: 0.4526 - accuracy: 0.8527 - val_loss: 0.7161 - val_accuracy: 0.7564 - lr: 0.0010 - 73s/epoch - 17ms/step
Epoch 69/75
4378/4378 - 73s - loss: 0.4535 - accuracy: 0.8516 - val_loss: 0.7135 - val_accuracy: 0.7742 - lr: 0.0010 - 73s/epoch - 17ms/step
Epoch 70/75
4378/4378 - 73s - loss: 0.4548 - accuracy: 0.8507 - val_loss: 0.8246 - val_accuracy: 0.7445 - lr: 0.0010 - 73s/epoch - 17ms/step
Epoch 71/75
4378/4378 - 73s - loss: 0.4545 - accuracy: 0.8526 - val_loss: 0.7118 - val_accuracy: 0.7498 - lr: 0.0010 - 73s/epoch - 17ms/step
Epoch 72/75
4378/4378 - 73s - loss: 0.4533 - accuracy: 0.8533 - val_loss: 0.7095 - val_accuracy: 0.7644 - lr: 0.0010 - 73s/epoch - 17ms/step
Epoch 73/75
4378/4378 - 74s - loss: 0.4525 - accuracy: 0.8520 - val_loss: 0.6643 - val_accuracy: 0.7859 - lr: 0.0010 - 74s/epoch - 17ms/step
Epoch 74/75
4378/4378 - 73s - loss: 0.4521 - accuracy: 0.8519 - val_loss: 0.7658 - val_accuracy: 0.7637 - lr: 0.0010 - 73s/epoch - 17ms/step
Epoch 75/75
4378/4378 - 73s - loss: 0.4503 - accuracy: 0.8514 - val_loss: 0.6826 - val_accuracy: 0.7670 - lr: 0.0010 - 73s/epoch - 17ms/step
fitting with batch size: 100
Epoch 1/75
876/876 - 20s - loss: 0.3840 - accuracy: 0.8752 - val_loss: 0.7216 - val_accuracy: 0.7607 - lr: 0.0010 - 20s/epoch - 23ms/step
Epoch 2/75
876/876 - 18s - loss: 0.3634 - accuracy: 0.8814 - val_loss: 0.7083 - val_accuracy: 0.7812 - lr: 0.0010 - 18s/epoch - 21ms/step
Epoch 3/75
876/876 - 18s - loss: 0.3560 - accuracy: 0.8843 - val_loss: 0.7298 - val_accuracy: 0.7776 - lr: 0.0010 - 18s/epoch - 21ms/step
Epoch 4/75
876/876 - 18s - loss: 0.3502 - accuracy: 0.8859 - val_loss: 0.7716 - val_accuracy: 0.7548 - lr: 0.0010 - 18s/epoch - 21ms/step
Epoch 5/75
876/876 - 18s - loss: 0.3451 - accuracy: 0.8879 - val_loss: 0.6536 - val_accuracy: 0.7802 - lr: 0.0010 - 18s/epoch - 21ms/step
Epoch 6/75
876/876 - 18s - loss: 0.3397 - accuracy: 0.8896 - val_loss: 0.7005 - val_accuracy: 0.7833 - lr: 0.0010 - 18s/epoch - 21ms/step
Epoch 7/75
876/876 - 18s - loss: 0.3360 - accuracy: 0.8912 - val_loss: 0.7529 - val_accuracy: 0.7672 - lr: 0.0010 - 18s/epoch - 21ms/step
Epoch 8/75
876/876 - 18s - loss: 0.3346 - accuracy: 0.8910 - val_loss: 0.8402 - val_accuracy: 0.7538 - lr: 0.0010 - 18s/epoch - 21ms/step
Epoch 9/75
876/876 - 18s - loss: 0.3284 - accuracy: 0.8913 - val_loss: 0.7756 - val_accuracy: 0.7671 - lr: 0.0010 - 18s/epoch - 21ms/step
Epoch 10/75
876/876 - 18s - loss: 0.3288 - accuracy: 0.8930 - val_loss: 0.6716 - val_accuracy: 0.7852 - lr: 0.0010 - 18s/epoch - 21ms/step
Epoch 11/75
876/876 - 18s - loss: 0.3235 - accuracy: 0.8948 - val_loss: 0.8575 - val_accuracy: 0.7519 - lr: 0.0010 - 18s/epoch - 20ms/step
Epoch 12/75
876/876 - 18s - loss: 0.3218 - accuracy: 0.8956 - val_loss: 0.8113 - val_accuracy: 0.7580 - lr: 0.0010 - 18s/epoch - 21ms/step
Epoch 13/75
876/876 - 18s - loss: 0.3208 - accuracy: 0.8946 - val_loss: 0.7494 - val_accuracy: 0.7773 - lr: 0.0010 - 18s/epoch - 21ms/step
Epoch 14/75
876/876 - 18s - loss: 0.3210 - accuracy: 0.8944 - val_loss: 0.7451 - val_accuracy: 0.7785 - lr: 0.0010 - 18s/epoch - 21ms/step
Epoch 15/75
876/876 - 18s - loss: 0.3180 - accuracy: 0.8961 - val_loss: 0.7021 - val_accuracy: 0.7841 - lr: 0.0010 - 18s/epoch - 21ms/step
Epoch 16/75
876/876 - 18s - loss: 0.3173 - accuracy: 0.8964 - val_loss: 0.7258 - val_accuracy: 0.7735 - lr: 0.0010 - 18s/epoch - 21ms/step
Epoch 17/75
876/876 - 18s - loss: 0.3118 - accuracy: 0.8983 - val_loss: 0.7847 - val_accuracy: 0.7704 - lr: 0.0010 - 18s/epoch - 21ms/step
Epoch 18/75
876/876 - 18s - loss: 0.3135 - accuracy: 0.8984 - val_loss: 0.7314 - val_accuracy: 0.7846 - lr: 0.0010 - 18s/epoch - 21ms/step
Epoch 19/75
876/876 - 18s - loss: 0.3108 - accuracy: 0.8983 - val_loss: 0.7668 - val_accuracy: 0.7770 - lr: 0.0010 - 18s/epoch - 21ms/step
Epoch 20/75
876/876 - 18s - loss: 0.3073 - accuracy: 0.8989 - val_loss: 0.8401 - val_accuracy: 0.7578 - lr: 0.0010 - 18s/epoch - 21ms/step
Epoch 21/75
876/876 - 18s - loss: 0.3060 - accuracy: 0.8992 - val_loss: 0.7709 - val_accuracy: 0.7726 - lr: 0.0010 - 18s/epoch - 21ms/step
Epoch 22/75
876/876 - 18s - loss: 0.3031 - accuracy: 0.9003 - val_loss: 0.7569 - val_accuracy: 0.7674 - lr: 0.0010 - 18s/epoch - 21ms/step
Epoch 23/75
876/876 - 18s - loss: 0.3063 - accuracy: 0.8997 - val_loss: 0.8006 - val_accuracy: 0.7734 - lr: 0.0010 - 18s/epoch - 21ms/step
Epoch 24/75
876/876 - 18s - loss: 0.3048 - accuracy: 0.9001 - val_loss: 0.7245 - val_accuracy: 0.7849 - lr: 0.0010 - 18s/epoch - 21ms/step
Epoch 25/75
876/876 - 18s - loss: 0.3001 - accuracy: 0.9017 - val_loss: 0.8359 - val_accuracy: 0.7506 - lr: 0.0010 - 18s/epoch - 21ms/step
Epoch 26/75
876/876 - 18s - loss: 0.2989 - accuracy: 0.9021 - val_loss: 0.7315 - val_accuracy: 0.7807 - lr: 0.0010 - 18s/epoch - 21ms/step
Epoch 27/75
876/876 - 18s - loss: 0.2993 - accuracy: 0.9017 - val_loss: 0.7959 - val_accuracy: 0.7629 - lr: 0.0010 - 18s/epoch - 21ms/step
Epoch 28/75
876/876 - 18s - loss: 0.2966 - accuracy: 0.9027 - val_loss: 0.8597 - val_accuracy: 0.7607 - lr: 0.0010 - 18s/epoch - 21ms/step
Epoch 29/75
876/876 - 18s - loss: 0.2972 - accuracy: 0.9021 - val_loss: 0.7796 - val_accuracy: 0.7781 - lr: 0.0010 - 18s/epoch - 21ms/step
Epoch 30/75
876/876 - 18s - loss: 0.2967 - accuracy: 0.9021 - val_loss: 0.7106 - val_accuracy: 0.7892 - lr: 0.0010 - 18s/epoch - 21ms/step
Epoch 31/75
876/876 - 18s - loss: 0.2907 - accuracy: 0.9033 - val_loss: 0.7313 - val_accuracy: 0.7906 - lr: 0.0010 - 18s/epoch - 21ms/step
Epoch 32/75
876/876 - 18s - loss: 0.2946 - accuracy: 0.9021 - val_loss: 0.8448 - val_accuracy: 0.7727 - lr: 0.0010 - 18s/epoch - 21ms/step
Epoch 33/75
876/876 - 18s - loss: 0.2906 - accuracy: 0.9039 - val_loss: 0.8949 - val_accuracy: 0.7607 - lr: 0.0010 - 18s/epoch - 21ms/step
Epoch 34/75
876/876 - 18s - loss: 0.2873 - accuracy: 0.9050 - val_loss: 0.9295 - val_accuracy: 0.7666 - lr: 0.0010 - 18s/epoch - 20ms/step
Epoch 35/75
876/876 - 18s - loss: 0.2923 - accuracy: 0.9030 - val_loss: 0.8259 - val_accuracy: 0.7768 - lr: 0.0010 - 18s/epoch - 21ms/step
Epoch 36/75
876/876 - 18s - loss: 0.2886 - accuracy: 0.9049 - val_loss: 0.7268 - val_accuracy: 0.7911 - lr: 0.0010 - 18s/epoch - 21ms/step
Epoch 37/75
876/876 - 18s - loss: 0.2894 - accuracy: 0.9039 - val_loss: 0.8081 - val_accuracy: 0.7803 - lr: 0.0010 - 18s/epoch - 21ms/step
Epoch 38/75
876/876 - 18s - loss: 0.2871 - accuracy: 0.9051 - val_loss: 0.8743 - val_accuracy: 0.7627 - lr: 0.0010 - 18s/epoch - 21ms/step
Epoch 39/75
876/876 - 18s - loss: 0.2864 - accuracy: 0.9050 - val_loss: 0.7094 - val_accuracy: 0.8055 - lr: 0.0010 - 18s/epoch - 21ms/step
Epoch 40/75
876/876 - 18s - loss: 0.2844 - accuracy: 0.9055 - val_loss: 0.7877 - val_accuracy: 0.7771 - lr: 0.0010 - 18s/epoch - 21ms/step
Epoch 41/75
876/876 - 18s - loss: 0.2858 - accuracy: 0.9046 - val_loss: 0.7631 - val_accuracy: 0.7837 - lr: 0.0010 - 18s/epoch - 21ms/step
Epoch 42/75
876/876 - 18s - loss: 0.2833 - accuracy: 0.9070 - val_loss: 0.8344 - val_accuracy: 0.7704 - lr: 0.0010 - 18s/epoch - 21ms/step
Epoch 43/75
876/876 - 18s - loss: 0.2805 - accuracy: 0.9077 - val_loss: 0.8103 - val_accuracy: 0.7737 - lr: 0.0010 - 18s/epoch - 21ms/step
Epoch 44/75
876/876 - 18s - loss: 0.2833 - accuracy: 0.9065 - val_loss: 0.8652 - val_accuracy: 0.7615 - lr: 0.0010 - 18s/epoch - 21ms/step
Epoch 45/75
876/876 - 18s - loss: 0.2788 - accuracy: 0.9082 - val_loss: 0.8129 - val_accuracy: 0.7736 - lr: 0.0010 - 18s/epoch - 21ms/step
Epoch 46/75
876/876 - 18s - loss: 0.2817 - accuracy: 0.9069 - val_loss: 0.7672 - val_accuracy: 0.7819 - lr: 0.0010 - 18s/epoch - 21ms/step
Epoch 47/75
876/876 - 18s - loss: 0.2790 - accuracy: 0.9068 - val_loss: 0.9726 - val_accuracy: 0.7451 - lr: 0.0010 - 18s/epoch - 21ms/step
Epoch 48/75
876/876 - 18s - loss: 0.2794 - accuracy: 0.9073 - val_loss: 0.9221 - val_accuracy: 0.7572 - lr: 0.0010 - 18s/epoch - 21ms/step
Epoch 49/75
876/876 - 18s - loss: 0.2767 - accuracy: 0.9080 - val_loss: 0.8588 - val_accuracy: 0.7689 - lr: 0.0010 - 18s/epoch - 21ms/step
Epoch 50/75
876/876 - 18s - loss: 0.2792 - accuracy: 0.9077 - val_loss: 0.8073 - val_accuracy: 0.7876 - lr: 0.0010 - 18s/epoch - 21ms/step
Epoch 51/75
876/876 - 18s - loss: 0.2744 - accuracy: 0.9088 - val_loss: 0.8143 - val_accuracy: 0.7666 - lr: 0.0010 - 18s/epoch - 21ms/step
Epoch 52/75
876/876 - 18s - loss: 0.2763 - accuracy: 0.9086 - val_loss: 0.6787 - val_accuracy: 0.8064 - lr: 0.0010 - 18s/epoch - 21ms/step
Epoch 53/75
876/876 - 18s - loss: 0.2774 - accuracy: 0.9078 - val_loss: 0.7593 - val_accuracy: 0.7913 - lr: 0.0010 - 18s/epoch - 21ms/step
Epoch 54/75
876/876 - 17s - loss: 0.2757 - accuracy: 0.9083 - val_loss: 0.8071 - val_accuracy: 0.7774 - lr: 0.0010 - 17s/epoch - 20ms/step
Epoch 55/75
876/876 - 18s - loss: 0.2734 - accuracy: 0.9093 - val_loss: 0.8719 - val_accuracy: 0.7743 - lr: 0.0010 - 18s/epoch - 21ms/step
Epoch 56/75
876/876 - 18s - loss: 0.2721 - accuracy: 0.9091 - val_loss: 0.8738 - val_accuracy: 0.7685 - lr: 0.0010 - 18s/epoch - 21ms/step
Epoch 57/75
876/876 - 18s - loss: 0.2735 - accuracy: 0.9090 - val_loss: 0.8476 - val_accuracy: 0.7720 - lr: 0.0010 - 18s/epoch - 21ms/step
Epoch 58/75
876/876 - 18s - loss: 0.2727 - accuracy: 0.9094 - val_loss: 0.8460 - val_accuracy: 0.7731 - lr: 0.0010 - 18s/epoch - 21ms/step
Epoch 59/75
876/876 - 18s - loss: 0.2713 - accuracy: 0.9096 - val_loss: 0.8663 - val_accuracy: 0.7721 - lr: 0.0010 - 18s/epoch - 21ms/step
Epoch 60/75
876/876 - 18s - loss: 0.2718 - accuracy: 0.9084 - val_loss: 0.8533 - val_accuracy: 0.7690 - lr: 0.0010 - 18s/epoch - 21ms/step
Epoch 61/75
876/876 - 18s - loss: 0.2682 - accuracy: 0.9099 - val_loss: 0.7810 - val_accuracy: 0.7929 - lr: 0.0010 - 18s/epoch - 21ms/step
Epoch 62/75
876/876 - 18s - loss: 0.2718 - accuracy: 0.9092 - val_loss: 0.7754 - val_accuracy: 0.7928 - lr: 0.0010 - 18s/epoch - 21ms/step
Epoch 63/75
876/876 - 18s - loss: 0.2700 - accuracy: 0.9095 - val_loss: 0.8538 - val_accuracy: 0.7761 - lr: 0.0010 - 18s/epoch - 21ms/step
Epoch 64/75
876/876 - 18s - loss: 0.2681 - accuracy: 0.9102 - val_loss: 0.7769 - val_accuracy: 0.7942 - lr: 0.0010 - 18s/epoch - 21ms/step
Epoch 65/75
876/876 - 18s - loss: 0.2689 - accuracy: 0.9102 - val_loss: 0.8274 - val_accuracy: 0.7852 - lr: 0.0010 - 18s/epoch - 21ms/step
Epoch 66/75
876/876 - 18s - loss: 0.2668 - accuracy: 0.9098 - val_loss: 0.8366 - val_accuracy: 0.7815 - lr: 0.0010 - 18s/epoch - 21ms/step
Epoch 67/75
876/876 - 18s - loss: 0.2663 - accuracy: 0.9120 - val_loss: 0.8188 - val_accuracy: 0.7834 - lr: 0.0010 - 18s/epoch - 21ms/step
Epoch 68/75
876/876 - 18s - loss: 0.2659 - accuracy: 0.9113 - val_loss: 0.7911 - val_accuracy: 0.7856 - lr: 0.0010 - 18s/epoch - 21ms/step
Epoch 69/75
876/876 - 18s - loss: 0.2623 - accuracy: 0.9126 - val_loss: 0.7207 - val_accuracy: 0.8051 - lr: 0.0010 - 18s/epoch - 21ms/step
Epoch 70/75
876/876 - 18s - loss: 0.2666 - accuracy: 0.9114 - val_loss: 0.7642 - val_accuracy: 0.7925 - lr: 0.0010 - 18s/epoch - 21ms/step
Epoch 71/75
876/876 - 18s - loss: 0.2673 - accuracy: 0.9106 - val_loss: 0.8390 - val_accuracy: 0.7839 - lr: 0.0010 - 18s/epoch - 21ms/step
Epoch 72/75
876/876 - 18s - loss: 0.2629 - accuracy: 0.9122 - val_loss: 0.8396 - val_accuracy: 0.7836 - lr: 0.0010 - 18s/epoch - 21ms/step
Epoch 73/75
876/876 - 18s - loss: 0.2642 - accuracy: 0.9116 - val_loss: 0.8458 - val_accuracy: 0.7730 - lr: 0.0010 - 18s/epoch - 21ms/step
Epoch 74/75
876/876 - 18s - loss: 0.2628 - accuracy: 0.9122 - val_loss: 0.7647 - val_accuracy: 0.7980 - lr: 0.0010 - 18s/epoch - 21ms/step
Epoch 75/75
876/876 - 18s - loss: 0.2631 - accuracy: 0.9121 - val_loss: 0.7884 - val_accuracy: 0.8050 - lr: 0.0010 - 18s/epoch - 21ms/step
fitting with batch size: 500
Epoch 1/75
176/176 - 12s - loss: 0.2177 - accuracy: 0.9269 - val_loss: 0.9266 - val_accuracy: 0.7824 - lr: 0.0010 - 12s/epoch - 68ms/step
Epoch 2/75
176/176 - 10s - loss: 0.2074 - accuracy: 0.9305 - val_loss: 1.0767 - val_accuracy: 0.7615 - lr: 0.0010 - 10s/epoch - 55ms/step
Epoch 3/75
176/176 - 10s - loss: 0.2040 - accuracy: 0.9317 - val_loss: 0.9576 - val_accuracy: 0.7865 - lr: 0.0010 - 10s/epoch - 55ms/step
Epoch 4/75
176/176 - 10s - loss: 0.2004 - accuracy: 0.9324 - val_loss: 1.0626 - val_accuracy: 0.7741 - lr: 0.0010 - 10s/epoch - 55ms/step
Epoch 5/75
176/176 - 10s - loss: 0.1991 - accuracy: 0.9337 - val_loss: 0.9728 - val_accuracy: 0.7809 - lr: 0.0010 - 10s/epoch - 55ms/step
Epoch 6/75
176/176 - 10s - loss: 0.1996 - accuracy: 0.9332 - val_loss: 1.0775 - val_accuracy: 0.7719 - lr: 0.0010 - 10s/epoch - 55ms/step
Epoch 7/75
176/176 - 10s - loss: 0.1962 - accuracy: 0.9336 - val_loss: 1.0563 - val_accuracy: 0.7700 - lr: 0.0010 - 10s/epoch - 56ms/step
Epoch 8/75
176/176 - 10s - loss: 0.1957 - accuracy: 0.9338 - val_loss: 0.9985 - val_accuracy: 0.7784 - lr: 0.0010 - 10s/epoch - 56ms/step
Epoch 9/75
176/176 - 10s - loss: 0.1900 - accuracy: 0.9357 - val_loss: 1.1463 - val_accuracy: 0.7688 - lr: 0.0010 - 10s/epoch - 56ms/step
Epoch 10/75
176/176 - 10s - loss: 0.1916 - accuracy: 0.9347 - val_loss: 1.0748 - val_accuracy: 0.7771 - lr: 0.0010 - 10s/epoch - 55ms/step
Epoch 11/75
176/176 - 10s - loss: 0.1890 - accuracy: 0.9359 - val_loss: 1.1069 - val_accuracy: 0.7727 - lr: 0.0010 - 10s/epoch - 55ms/step
Epoch 12/75
176/176 - 10s - loss: 0.1919 - accuracy: 0.9353 - val_loss: 1.0698 - val_accuracy: 0.7730 - lr: 0.0010 - 10s/epoch - 55ms/step
Epoch 13/75
176/176 - 10s - loss: 0.1885 - accuracy: 0.9364 - val_loss: 1.0788 - val_accuracy: 0.7739 - lr: 0.0010 - 10s/epoch - 55ms/step
Epoch 14/75
176/176 - 10s - loss: 0.1893 - accuracy: 0.9361 - val_loss: 1.1330 - val_accuracy: 0.7685 - lr: 0.0010 - 10s/epoch - 55ms/step
Epoch 15/75
176/176 - 10s - loss: 0.1868 - accuracy: 0.9362 - val_loss: 1.0874 - val_accuracy: 0.7754 - lr: 0.0010 - 10s/epoch - 55ms/step
Epoch 16/75
176/176 - 10s - loss: 0.1873 - accuracy: 0.9368 - val_loss: 1.0938 - val_accuracy: 0.7804 - lr: 0.0010 - 10s/epoch - 56ms/step
Epoch 17/75
176/176 - 10s - loss: 0.1863 - accuracy: 0.9368 - val_loss: 1.1460 - val_accuracy: 0.7698 - lr: 0.0010 - 10s/epoch - 55ms/step
Epoch 18/75
176/176 - 10s - loss: 0.1852 - accuracy: 0.9374 - val_loss: 1.1050 - val_accuracy: 0.7715 - lr: 0.0010 - 10s/epoch - 55ms/step
Epoch 19/75
176/176 - 10s - loss: 0.1831 - accuracy: 0.9376 - val_loss: 1.1157 - val_accuracy: 0.7711 - lr: 0.0010 - 10s/epoch - 55ms/step
Epoch 20/75
176/176 - 10s - loss: 0.1809 - accuracy: 0.9380 - val_loss: 1.1018 - val_accuracy: 0.7750 - lr: 0.0010 - 10s/epoch - 55ms/step
Epoch 21/75
176/176 - 10s - loss: 0.1834 - accuracy: 0.9374 - val_loss: 1.0801 - val_accuracy: 0.7789 - lr: 0.0010 - 10s/epoch - 55ms/step
Epoch 22/75
176/176 - 10s - loss: 0.1847 - accuracy: 0.9371 - val_loss: 1.0661 - val_accuracy: 0.7871 - lr: 0.0010 - 10s/epoch - 56ms/step
Epoch 23/75
176/176 - 10s - loss: 0.1819 - accuracy: 0.9383 - val_loss: 1.2105 - val_accuracy: 0.7695 - lr: 0.0010 - 10s/epoch - 55ms/step
Epoch 24/75
176/176 - 10s - loss: 0.1779 - accuracy: 0.9394 - val_loss: 1.0583 - val_accuracy: 0.7826 - lr: 0.0010 - 10s/epoch - 55ms/step
Epoch 25/75
176/176 - 10s - loss: 0.1820 - accuracy: 0.9377 - val_loss: 1.1312 - val_accuracy: 0.7716 - lr: 0.0010 - 10s/epoch - 55ms/step
Epoch 26/75
176/176 - 10s - loss: 0.1795 - accuracy: 0.9393 - val_loss: 1.1585 - val_accuracy: 0.7736 - lr: 0.0010 - 10s/epoch - 55ms/step
Epoch 27/75
176/176 - 10s - loss: 0.1813 - accuracy: 0.9384 - val_loss: 1.0770 - val_accuracy: 0.7836 - lr: 0.0010 - 10s/epoch - 55ms/step
Epoch 28/75
176/176 - 10s - loss: 0.1802 - accuracy: 0.9390 - val_loss: 1.0882 - val_accuracy: 0.7791 - lr: 0.0010 - 10s/epoch - 56ms/step
Epoch 29/75
176/176 - 10s - loss: 0.1764 - accuracy: 0.9406 - val_loss: 1.1359 - val_accuracy: 0.7799 - lr: 0.0010 - 10s/epoch - 56ms/step
Epoch 30/75
176/176 - 10s - loss: 0.1743 - accuracy: 0.9407 - val_loss: 1.1362 - val_accuracy: 0.7814 - lr: 0.0010 - 10s/epoch - 55ms/step
Epoch 31/75
176/176 - 10s - loss: 0.1770 - accuracy: 0.9392 - val_loss: 1.2138 - val_accuracy: 0.7669 - lr: 0.0010 - 10s/epoch - 55ms/step
Epoch 32/75
176/176 - 10s - loss: 0.1777 - accuracy: 0.9388 - val_loss: 1.2360 - val_accuracy: 0.7617 - lr: 0.0010 - 10s/epoch - 55ms/step
Epoch 33/75
176/176 - 10s - loss: 0.1772 - accuracy: 0.9400 - val_loss: 1.1082 - val_accuracy: 0.7831 - lr: 0.0010 - 10s/epoch - 55ms/step
Epoch 34/75
176/176 - 10s - loss: 0.1738 - accuracy: 0.9403 - val_loss: 1.2031 - val_accuracy: 0.7711 - lr: 0.0010 - 10s/epoch - 55ms/step
Epoch 35/75
176/176 - 10s - loss: 0.1747 - accuracy: 0.9404 - val_loss: 1.2245 - val_accuracy: 0.7682 - lr: 0.0010 - 10s/epoch - 55ms/step
Epoch 36/75
176/176 - 10s - loss: 0.1758 - accuracy: 0.9396 - val_loss: 1.2258 - val_accuracy: 0.7691 - lr: 0.0010 - 10s/epoch - 55ms/step
Epoch 37/75
176/176 - 10s - loss: 0.1760 - accuracy: 0.9398 - val_loss: 1.1540 - val_accuracy: 0.7773 - lr: 0.0010 - 10s/epoch - 55ms/step
Epoch 38/75
176/176 - 10s - loss: 0.1740 - accuracy: 0.9406 - val_loss: 1.1966 - val_accuracy: 0.7704 - lr: 0.0010 - 10s/epoch - 55ms/step
Epoch 39/75
176/176 - 10s - loss: 0.1721 - accuracy: 0.9418 - val_loss: 1.2166 - val_accuracy: 0.7755 - lr: 0.0010 - 10s/epoch - 56ms/step
Epoch 40/75
176/176 - 10s - loss: 0.1723 - accuracy: 0.9401 - val_loss: 1.1109 - val_accuracy: 0.7875 - lr: 0.0010 - 10s/epoch - 55ms/step
Epoch 41/75
176/176 - 10s - loss: 0.1721 - accuracy: 0.9408 - val_loss: 1.1294 - val_accuracy: 0.7873 - lr: 0.0010 - 10s/epoch - 55ms/step
Epoch 42/75
176/176 - 10s - loss: 0.1706 - accuracy: 0.9408 - val_loss: 1.1387 - val_accuracy: 0.7842 - lr: 0.0010 - 10s/epoch - 55ms/step
Epoch 43/75
176/176 - 10s - loss: 0.1727 - accuracy: 0.9404 - val_loss: 1.1421 - val_accuracy: 0.7781 - lr: 0.0010 - 10s/epoch - 55ms/step
Epoch 44/75
176/176 - 10s - loss: 0.1732 - accuracy: 0.9410 - val_loss: 1.2195 - val_accuracy: 0.7683 - lr: 0.0010 - 10s/epoch - 55ms/step
Epoch 45/75
176/176 - 10s - loss: 0.1709 - accuracy: 0.9414 - val_loss: 1.3018 - val_accuracy: 0.7617 - lr: 0.0010 - 10s/epoch - 55ms/step
Epoch 46/75
176/176 - 10s - loss: 0.1734 - accuracy: 0.9406 - val_loss: 1.2461 - val_accuracy: 0.7687 - lr: 0.0010 - 10s/epoch - 55ms/step
Epoch 47/75
176/176 - 10s - loss: 0.1709 - accuracy: 0.9420 - val_loss: 1.2106 - val_accuracy: 0.7754 - lr: 0.0010 - 10s/epoch - 55ms/step
Epoch 48/75
176/176 - 10s - loss: 0.1698 - accuracy: 0.9420 - val_loss: 1.1696 - val_accuracy: 0.7825 - lr: 0.0010 - 10s/epoch - 55ms/step
Epoch 49/75
176/176 - 10s - loss: 0.1714 - accuracy: 0.9415 - val_loss: 1.2278 - val_accuracy: 0.7681 - lr: 0.0010 - 10s/epoch - 56ms/step
Epoch 50/75
176/176 - 10s - loss: 0.1678 - accuracy: 0.9429 - val_loss: 1.1769 - val_accuracy: 0.7801 - lr: 0.0010 - 10s/epoch - 56ms/step
Epoch 51/75
176/176 - 10s - loss: 0.1657 - accuracy: 0.9430 - val_loss: 1.2147 - val_accuracy: 0.7764 - lr: 0.0010 - 10s/epoch - 55ms/step
Epoch 52/75
176/176 - 10s - loss: 0.1677 - accuracy: 0.9422 - val_loss: 1.1579 - val_accuracy: 0.7805 - lr: 0.0010 - 10s/epoch - 55ms/step
Epoch 53/75
176/176 - 10s - loss: 0.1687 - accuracy: 0.9418 - val_loss: 1.1900 - val_accuracy: 0.7817 - lr: 0.0010 - 10s/epoch - 55ms/step
Epoch 54/75
176/176 - 10s - loss: 0.1665 - accuracy: 0.9426 - val_loss: 1.2291 - val_accuracy: 0.7699 - lr: 0.0010 - 10s/epoch - 55ms/step
Epoch 55/75
176/176 - 10s - loss: 0.1697 - accuracy: 0.9424 - val_loss: 1.2018 - val_accuracy: 0.7757 - lr: 0.0010 - 10s/epoch - 56ms/step
Epoch 56/75
176/176 - 10s - loss: 0.1655 - accuracy: 0.9434 - val_loss: 1.3210 - val_accuracy: 0.7537 - lr: 0.0010 - 10s/epoch - 55ms/step
Epoch 57/75
176/176 - 10s - loss: 0.1690 - accuracy: 0.9425 - val_loss: 1.1805 - val_accuracy: 0.7830 - lr: 0.0010 - 10s/epoch - 55ms/step
Epoch 58/75
176/176 - 10s - loss: 0.1701 - accuracy: 0.9411 - val_loss: 1.2035 - val_accuracy: 0.7757 - lr: 0.0010 - 10s/epoch - 55ms/step
Epoch 59/75
176/176 - 10s - loss: 0.1667 - accuracy: 0.9424 - val_loss: 1.1314 - val_accuracy: 0.7928 - lr: 0.0010 - 10s/epoch - 55ms/step
Epoch 60/75
176/176 - 10s - loss: 0.1649 - accuracy: 0.9437 - val_loss: 1.3146 - val_accuracy: 0.7654 - lr: 0.0010 - 10s/epoch - 55ms/step
Epoch 61/75
176/176 - 10s - loss: 0.1642 - accuracy: 0.9432 - val_loss: 1.2511 - val_accuracy: 0.7717 - lr: 0.0010 - 10s/epoch - 55ms/step
Epoch 62/75
176/176 - 10s - loss: 0.1647 - accuracy: 0.9432 - val_loss: 1.2635 - val_accuracy: 0.7664 - lr: 0.0010 - 10s/epoch - 56ms/step
Epoch 63/75
176/176 - 10s - loss: 0.1654 - accuracy: 0.9436 - val_loss: 1.2158 - val_accuracy: 0.7753 - lr: 0.0010 - 10s/epoch - 56ms/step
Epoch 64/75
176/176 - 10s - loss: 0.1627 - accuracy: 0.9443 - val_loss: 1.1043 - val_accuracy: 0.7949 - lr: 0.0010 - 10s/epoch - 55ms/step
Epoch 65/75
176/176 - 10s - loss: 0.1636 - accuracy: 0.9442 - val_loss: 1.2754 - val_accuracy: 0.7648 - lr: 0.0010 - 10s/epoch - 55ms/step
Epoch 66/75
176/176 - 10s - loss: 0.1662 - accuracy: 0.9433 - val_loss: 1.2073 - val_accuracy: 0.7726 - lr: 0.0010 - 10s/epoch - 56ms/step
Epoch 67/75
176/176 - 10s - loss: 0.1633 - accuracy: 0.9437 - val_loss: 1.1726 - val_accuracy: 0.7812 - lr: 0.0010 - 10s/epoch - 55ms/step
Epoch 68/75
176/176 - 10s - loss: 0.1633 - accuracy: 0.9442 - val_loss: 1.2631 - val_accuracy: 0.7701 - lr: 0.0010 - 10s/epoch - 55ms/step
Epoch 69/75
176/176 - 10s - loss: 0.1625 - accuracy: 0.9438 - val_loss: 1.2682 - val_accuracy: 0.7705 - lr: 0.0010 - 10s/epoch - 56ms/step
Epoch 70/75
176/176 - 10s - loss: 0.1614 - accuracy: 0.9443 - val_loss: 1.2752 - val_accuracy: 0.7724 - lr: 0.0010 - 10s/epoch - 59ms/step
Epoch 71/75
176/176 - 10s - loss: 0.1636 - accuracy: 0.9441 - val_loss: 1.2330 - val_accuracy: 0.7801 - lr: 0.0010 - 10s/epoch - 57ms/step
Epoch 72/75
176/176 - 10s - loss: 0.1617 - accuracy: 0.9441 - val_loss: 1.1936 - val_accuracy: 0.7767 - lr: 0.0010 - 10s/epoch - 55ms/step
Epoch 73/75
176/176 - 10s - loss: 0.1584 - accuracy: 0.9463 - val_loss: 1.1983 - val_accuracy: 0.7859 - lr: 0.0010 - 10s/epoch - 56ms/step
Epoch 74/75
176/176 - 10s - loss: 0.1609 - accuracy: 0.9446 - val_loss: 1.2040 - val_accuracy: 0.7833 - lr: 0.0010 - 10s/epoch - 55ms/step
Epoch 75/75
176/176 - 10s - loss: 0.1604 - accuracy: 0.9444 - val_loss: 1.1807 - val_accuracy: 0.7885 - lr: 0.0010 - 10s/epoch - 55ms/step
Epoch number: 100
fitting with batch size: 20
Epoch 1/100
4378/4378 - 76s - loss: 0.3527 - accuracy: 0.8819 - val_loss: 0.6993 - val_accuracy: 0.8092 - lr: 0.0010 - 76s/epoch - 17ms/step
Epoch 2/100
4378/4378 - 73s - loss: 0.3896 - accuracy: 0.8698 - val_loss: 0.7815 - val_accuracy: 0.7713 - lr: 0.0010 - 73s/epoch - 17ms/step
Epoch 3/100
4378/4378 - 73s - loss: 0.3955 - accuracy: 0.8682 - val_loss: 0.7291 - val_accuracy: 0.8003 - lr: 0.0010 - 73s/epoch - 17ms/step
Epoch 4/100
4378/4378 - 73s - loss: 0.3989 - accuracy: 0.8659 - val_loss: 0.5934 - val_accuracy: 0.8366 - lr: 0.0010 - 73s/epoch - 17ms/step
Epoch 5/100
4378/4378 - 73s - loss: 0.3994 - accuracy: 0.8671 - val_loss: 0.6951 - val_accuracy: 0.7934 - lr: 0.0010 - 73s/epoch - 17ms/step
Epoch 6/100
4378/4378 - 73s - loss: 0.4022 - accuracy: 0.8646 - val_loss: 0.7027 - val_accuracy: 0.7931 - lr: 0.0010 - 73s/epoch - 17ms/step
Epoch 7/100
4378/4378 - 73s - loss: 0.4026 - accuracy: 0.8655 - val_loss: 0.7000 - val_accuracy: 0.8025 - lr: 0.0010 - 73s/epoch - 17ms/step
Epoch 8/100
4378/4378 - 73s - loss: 0.4082 - accuracy: 0.8630 - val_loss: 0.6819 - val_accuracy: 0.7955 - lr: 0.0010 - 73s/epoch - 17ms/step
Epoch 9/100
4378/4378 - 73s - loss: 0.4023 - accuracy: 0.8656 - val_loss: 0.6376 - val_accuracy: 0.8176 - lr: 0.0010 - 73s/epoch - 17ms/step
Epoch 10/100
4378/4378 - 73s - loss: 0.4078 - accuracy: 0.8635 - val_loss: 0.7120 - val_accuracy: 0.7993 - lr: 0.0010 - 73s/epoch - 17ms/step
Epoch 11/100
4378/4378 - 73s - loss: 0.4041 - accuracy: 0.8642 - val_loss: 0.6974 - val_accuracy: 0.7930 - lr: 0.0010 - 73s/epoch - 17ms/step
Epoch 12/100
4378/4378 - 73s - loss: 0.4019 - accuracy: 0.8647 - val_loss: 0.8191 - val_accuracy: 0.7713 - lr: 0.0010 - 73s/epoch - 17ms/step
Epoch 13/100
4378/4378 - 73s - loss: 0.4054 - accuracy: 0.8653 - val_loss: 0.7411 - val_accuracy: 0.7818 - lr: 0.0010 - 73s/epoch - 17ms/step
Epoch 14/100
4378/4378 - 73s - loss: 0.4029 - accuracy: 0.8652 - val_loss: 0.6405 - val_accuracy: 0.8107 - lr: 0.0010 - 73s/epoch - 17ms/step
Epoch 15/100
4378/4378 - 73s - loss: 0.4030 - accuracy: 0.8645 - val_loss: 0.7751 - val_accuracy: 0.7766 - lr: 0.0010 - 73s/epoch - 17ms/step
Epoch 16/100
4378/4378 - 73s - loss: 0.4048 - accuracy: 0.8652 - val_loss: 0.7883 - val_accuracy: 0.7669 - lr: 0.0010 - 73s/epoch - 17ms/step
Epoch 17/100
4378/4378 - 73s - loss: 0.4058 - accuracy: 0.8645 - val_loss: 0.6815 - val_accuracy: 0.8026 - lr: 0.0010 - 73s/epoch - 17ms/step
Epoch 18/100
4378/4378 - 73s - loss: 0.4059 - accuracy: 0.8638 - val_loss: 0.6991 - val_accuracy: 0.8013 - lr: 0.0010 - 73s/epoch - 17ms/step
Epoch 19/100
4378/4378 - 74s - loss: 0.4056 - accuracy: 0.8646 - val_loss: 0.6518 - val_accuracy: 0.8070 - lr: 0.0010 - 74s/epoch - 17ms/step
Epoch 20/100
4378/4378 - 74s - loss: 0.4085 - accuracy: 0.8648 - val_loss: 0.7750 - val_accuracy: 0.7704 - lr: 0.0010 - 74s/epoch - 17ms/step
Epoch 21/100
4378/4378 - 73s - loss: 0.4013 - accuracy: 0.8660 - val_loss: 0.7179 - val_accuracy: 0.7824 - lr: 0.0010 - 73s/epoch - 17ms/step
Epoch 22/100
4378/4378 - 73s - loss: 0.4027 - accuracy: 0.8656 - val_loss: 0.6298 - val_accuracy: 0.8070 - lr: 0.0010 - 73s/epoch - 17ms/step
Epoch 23/100
4378/4378 - 73s - loss: 0.4073 - accuracy: 0.8637 - val_loss: 0.6955 - val_accuracy: 0.7870 - lr: 0.0010 - 73s/epoch - 17ms/step
Epoch 24/100
4378/4378 - 73s - loss: 0.4044 - accuracy: 0.8642 - val_loss: 0.6406 - val_accuracy: 0.8103 - lr: 0.0010 - 73s/epoch - 17ms/step
Epoch 25/100
4378/4378 - 73s - loss: 0.4071 - accuracy: 0.8645 - val_loss: 0.6296 - val_accuracy: 0.8140 - lr: 0.0010 - 73s/epoch - 17ms/step
Epoch 26/100
4378/4378 - 73s - loss: 0.4069 - accuracy: 0.8634 - val_loss: 0.6953 - val_accuracy: 0.7875 - lr: 0.0010 - 73s/epoch - 17ms/step
Epoch 27/100
4378/4378 - 73s - loss: 0.4068 - accuracy: 0.8637 - val_loss: 0.6583 - val_accuracy: 0.7990 - lr: 0.0010 - 73s/epoch - 17ms/step
Epoch 28/100
4378/4378 - 73s - loss: 0.4116 - accuracy: 0.8620 - val_loss: 0.6512 - val_accuracy: 0.8077 - lr: 0.0010 - 73s/epoch - 17ms/step
Epoch 29/100
4378/4378 - 73s - loss: 0.4114 - accuracy: 0.8614 - val_loss: 0.6430 - val_accuracy: 0.8102 - lr: 0.0010 - 73s/epoch - 17ms/step
Epoch 30/100
4378/4378 - 73s - loss: 0.4072 - accuracy: 0.8634 - val_loss: 0.7438 - val_accuracy: 0.7712 - lr: 0.0010 - 73s/epoch - 17ms/step
Epoch 31/100
4378/4378 - 74s - loss: 0.4066 - accuracy: 0.8635 - val_loss: 0.5889 - val_accuracy: 0.8277 - lr: 0.0010 - 74s/epoch - 17ms/step
Epoch 32/100
4378/4378 - 73s - loss: 0.4063 - accuracy: 0.8635 - val_loss: 0.7112 - val_accuracy: 0.7921 - lr: 0.0010 - 73s/epoch - 17ms/step
Epoch 33/100
4378/4378 - 73s - loss: 0.4090 - accuracy: 0.8635 - val_loss: 0.6615 - val_accuracy: 0.8067 - lr: 0.0010 - 73s/epoch - 17ms/step
Epoch 34/100
4378/4378 - 73s - loss: 0.4085 - accuracy: 0.8630 - val_loss: 0.7991 - val_accuracy: 0.7737 - lr: 0.0010 - 73s/epoch - 17ms/step
Epoch 35/100
4378/4378 - 73s - loss: 0.4079 - accuracy: 0.8632 - val_loss: 0.6825 - val_accuracy: 0.8123 - lr: 0.0010 - 73s/epoch - 17ms/step
Epoch 36/100
4378/4378 - 73s - loss: 0.4086 - accuracy: 0.8630 - val_loss: 0.6587 - val_accuracy: 0.8174 - lr: 0.0010 - 73s/epoch - 17ms/step
Epoch 37/100
4378/4378 - 74s - loss: 0.4110 - accuracy: 0.8628 - val_loss: 0.6441 - val_accuracy: 0.8124 - lr: 0.0010 - 74s/epoch - 17ms/step
Epoch 38/100
4378/4378 - 73s - loss: 0.4090 - accuracy: 0.8615 - val_loss: 0.7544 - val_accuracy: 0.7821 - lr: 0.0010 - 73s/epoch - 17ms/step
Epoch 39/100
4378/4378 - 74s - loss: 0.4080 - accuracy: 0.8626 - val_loss: 0.6997 - val_accuracy: 0.7927 - lr: 0.0010 - 74s/epoch - 17ms/step
Epoch 40/100
4378/4378 - 74s - loss: 0.4074 - accuracy: 0.8630 - val_loss: 0.6914 - val_accuracy: 0.8071 - lr: 0.0010 - 74s/epoch - 17ms/step
Epoch 41/100
4378/4378 - 73s - loss: 0.4066 - accuracy: 0.8629 - val_loss: 0.7540 - val_accuracy: 0.7790 - lr: 0.0010 - 73s/epoch - 17ms/step
Epoch 42/100
4378/4378 - 73s - loss: 0.4087 - accuracy: 0.8622 - val_loss: 0.7470 - val_accuracy: 0.7954 - lr: 0.0010 - 73s/epoch - 17ms/step
Epoch 43/100
4378/4378 - 78s - loss: 0.4061 - accuracy: 0.8638 - val_loss: 0.7202 - val_accuracy: 0.7817 - lr: 0.0010 - 78s/epoch - 18ms/step
Epoch 44/100
4378/4378 - 74s - loss: 0.4094 - accuracy: 0.8619 - val_loss: 0.7232 - val_accuracy: 0.7834 - lr: 0.0010 - 74s/epoch - 17ms/step
Epoch 45/100
4378/4378 - 73s - loss: 0.4082 - accuracy: 0.8631 - val_loss: 0.6746 - val_accuracy: 0.8071 - lr: 0.0010 - 73s/epoch - 17ms/step
Epoch 46/100
4378/4378 - 73s - loss: 0.4083 - accuracy: 0.8625 - val_loss: 0.7474 - val_accuracy: 0.7856 - lr: 0.0010 - 73s/epoch - 17ms/step
Epoch 47/100
4378/4378 - 73s - loss: 0.4031 - accuracy: 0.8648 - val_loss: 0.8383 - val_accuracy: 0.7724 - lr: 0.0010 - 73s/epoch - 17ms/step
Epoch 48/100
4378/4378 - 73s - loss: 0.4076 - accuracy: 0.8633 - val_loss: 0.6298 - val_accuracy: 0.8166 - lr: 0.0010 - 73s/epoch - 17ms/step
Epoch 49/100
4378/4378 - 73s - loss: 0.4110 - accuracy: 0.8625 - val_loss: 0.6946 - val_accuracy: 0.8069 - lr: 0.0010 - 73s/epoch - 17ms/step
Epoch 50/100
4378/4378 - 73s - loss: 0.4099 - accuracy: 0.8634 - val_loss: 0.7323 - val_accuracy: 0.7933 - lr: 0.0010 - 73s/epoch - 17ms/step
Epoch 51/100
4378/4378 - 73s - loss: 0.4068 - accuracy: 0.8634 - val_loss: 0.7079 - val_accuracy: 0.8030 - lr: 0.0010 - 73s/epoch - 17ms/step
Epoch 52/100
4378/4378 - 73s - loss: 0.4075 - accuracy: 0.8628 - val_loss: 0.7047 - val_accuracy: 0.8160 - lr: 0.0010 - 73s/epoch - 17ms/step
Epoch 53/100
4378/4378 - 73s - loss: 0.4120 - accuracy: 0.8621 - val_loss: 0.7207 - val_accuracy: 0.7907 - lr: 0.0010 - 73s/epoch - 17ms/step
Epoch 54/100
4378/4378 - 73s - loss: 0.4075 - accuracy: 0.8639 - val_loss: 0.7366 - val_accuracy: 0.7873 - lr: 0.0010 - 73s/epoch - 17ms/step
Epoch 55/100
4378/4378 - 73s - loss: 0.4089 - accuracy: 0.8638 - val_loss: 0.8230 - val_accuracy: 0.7730 - lr: 0.0010 - 73s/epoch - 17ms/step
Epoch 56/100
4378/4378 - 73s - loss: 0.4094 - accuracy: 0.8631 - val_loss: 0.7947 - val_accuracy: 0.7850 - lr: 0.0010 - 73s/epoch - 17ms/step
Epoch 57/100
4378/4378 - 73s - loss: 0.4048 - accuracy: 0.8650 - val_loss: 0.7708 - val_accuracy: 0.7976 - lr: 0.0010 - 73s/epoch - 17ms/step
Epoch 58/100
4378/4378 - 73s - loss: 0.4099 - accuracy: 0.8625 - val_loss: 0.6107 - val_accuracy: 0.8248 - lr: 0.0010 - 73s/epoch - 17ms/step
Epoch 59/100
4378/4378 - 73s - loss: 0.4125 - accuracy: 0.8625 - val_loss: 0.7058 - val_accuracy: 0.8082 - lr: 0.0010 - 73s/epoch - 17ms/step
Epoch 60/100
4378/4378 - 73s - loss: 0.4065 - accuracy: 0.8639 - val_loss: 0.6753 - val_accuracy: 0.7980 - lr: 0.0010 - 73s/epoch - 17ms/step
Epoch 61/100
4378/4378 - 73s - loss: 0.4054 - accuracy: 0.8642 - val_loss: 0.7286 - val_accuracy: 0.7882 - lr: 0.0010 - 73s/epoch - 17ms/step
Epoch 62/100
4378/4378 - 73s - loss: 0.4058 - accuracy: 0.8633 - val_loss: 0.7379 - val_accuracy: 0.7904 - lr: 0.0010 - 73s/epoch - 17ms/step
Epoch 63/100
4378/4378 - 73s - loss: 0.4027 - accuracy: 0.8653 - val_loss: 0.7370 - val_accuracy: 0.7820 - lr: 0.0010 - 73s/epoch - 17ms/step
Epoch 64/100
4378/4378 - 73s - loss: 0.4066 - accuracy: 0.8634 - val_loss: 0.7666 - val_accuracy: 0.7836 - lr: 0.0010 - 73s/epoch - 17ms/step
Epoch 65/100
4378/4378 - 73s - loss: 0.4084 - accuracy: 0.8635 - val_loss: 0.6679 - val_accuracy: 0.8132 - lr: 0.0010 - 73s/epoch - 17ms/step
Epoch 66/100
4378/4378 - 74s - loss: 0.4074 - accuracy: 0.8630 - val_loss: 0.6893 - val_accuracy: 0.8037 - lr: 0.0010 - 74s/epoch - 17ms/step
Epoch 67/100
4378/4378 - 73s - loss: 0.4079 - accuracy: 0.8638 - val_loss: 0.8090 - val_accuracy: 0.7670 - lr: 0.0010 - 73s/epoch - 17ms/step
Epoch 68/100
4378/4378 - 73s - loss: 0.4106 - accuracy: 0.8622 - val_loss: 0.6722 - val_accuracy: 0.8180 - lr: 0.0010 - 73s/epoch - 17ms/step
Epoch 69/100
4378/4378 - 73s - loss: 0.4098 - accuracy: 0.8626 - val_loss: 0.7507 - val_accuracy: 0.7787 - lr: 0.0010 - 73s/epoch - 17ms/step
Epoch 70/100
4378/4378 - 74s - loss: 0.4097 - accuracy: 0.8619 - val_loss: 0.6650 - val_accuracy: 0.8057 - lr: 0.0010 - 74s/epoch - 17ms/step
Epoch 71/100
4378/4378 - 73s - loss: 0.4119 - accuracy: 0.8621 - val_loss: 0.7297 - val_accuracy: 0.7996 - lr: 0.0010 - 73s/epoch - 17ms/step
Epoch 72/100
4378/4378 - 73s - loss: 0.4086 - accuracy: 0.8624 - val_loss: 0.6728 - val_accuracy: 0.8071 - lr: 0.0010 - 73s/epoch - 17ms/step
Epoch 73/100
4378/4378 - 73s - loss: 0.4089 - accuracy: 0.8633 - val_loss: 0.7828 - val_accuracy: 0.7832 - lr: 0.0010 - 73s/epoch - 17ms/step
Epoch 74/100
4378/4378 - 73s - loss: 0.4114 - accuracy: 0.8619 - val_loss: 0.7157 - val_accuracy: 0.8094 - lr: 0.0010 - 73s/epoch - 17ms/step
Epoch 75/100
4378/4378 - 73s - loss: 0.4115 - accuracy: 0.8612 - val_loss: 0.7336 - val_accuracy: 0.7992 - lr: 0.0010 - 73s/epoch - 17ms/step
Epoch 76/100
4378/4378 - 73s - loss: 0.4067 - accuracy: 0.8642 - val_loss: 0.7086 - val_accuracy: 0.8033 - lr: 0.0010 - 73s/epoch - 17ms/step
Epoch 77/100
4378/4378 - 73s - loss: 0.4098 - accuracy: 0.8629 - val_loss: 0.6517 - val_accuracy: 0.8181 - lr: 0.0010 - 73s/epoch - 17ms/step
Epoch 78/100
4378/4378 - 73s - loss: 0.4077 - accuracy: 0.8632 - val_loss: 0.7999 - val_accuracy: 0.7761 - lr: 0.0010 - 73s/epoch - 17ms/step
Epoch 79/100
4378/4378 - 73s - loss: 0.4147 - accuracy: 0.8605 - val_loss: 0.7119 - val_accuracy: 0.8020 - lr: 0.0010 - 73s/epoch - 17ms/step
Epoch 80/100
4378/4378 - 73s - loss: 0.4148 - accuracy: 0.8606 - val_loss: 0.8536 - val_accuracy: 0.7549 - lr: 0.0010 - 73s/epoch - 17ms/step
Epoch 81/100
4378/4378 - 74s - loss: 0.4088 - accuracy: 0.8621 - val_loss: 0.7785 - val_accuracy: 0.7824 - lr: 0.0010 - 74s/epoch - 17ms/step
Epoch 82/100
4378/4378 - 73s - loss: 0.4130 - accuracy: 0.8609 - val_loss: 0.7016 - val_accuracy: 0.8040 - lr: 0.0010 - 73s/epoch - 17ms/step
Epoch 83/100
4378/4378 - 73s - loss: 0.4098 - accuracy: 0.8614 - val_loss: 0.7029 - val_accuracy: 0.7987 - lr: 0.0010 - 73s/epoch - 17ms/step
Epoch 84/100
4378/4378 - 73s - loss: 0.4098 - accuracy: 0.8625 - val_loss: 0.7429 - val_accuracy: 0.7960 - lr: 0.0010 - 73s/epoch - 17ms/step
Epoch 85/100
4378/4378 - 73s - loss: 0.4066 - accuracy: 0.8634 - val_loss: 0.7224 - val_accuracy: 0.8143 - lr: 0.0010 - 73s/epoch - 17ms/step
Epoch 86/100
4378/4378 - 74s - loss: 0.4046 - accuracy: 0.8640 - val_loss: 0.7434 - val_accuracy: 0.7947 - lr: 0.0010 - 74s/epoch - 17ms/step
Epoch 87/100
4378/4378 - 73s - loss: 0.4117 - accuracy: 0.8613 - val_loss: 0.6809 - val_accuracy: 0.8048 - lr: 0.0010 - 73s/epoch - 17ms/step
Epoch 88/100
4378/4378 - 73s - loss: 0.4080 - accuracy: 0.8623 - val_loss: 0.7415 - val_accuracy: 0.8009 - lr: 0.0010 - 73s/epoch - 17ms/step
Epoch 89/100
4378/4378 - 73s - loss: 0.4094 - accuracy: 0.8609 - val_loss: 0.7674 - val_accuracy: 0.7969 - lr: 0.0010 - 73s/epoch - 17ms/step
Epoch 90/100
4378/4378 - 73s - loss: 0.4123 - accuracy: 0.8613 - val_loss: 0.7276 - val_accuracy: 0.7933 - lr: 0.0010 - 73s/epoch - 17ms/step
Epoch 91/100
4378/4378 - 73s - loss: 0.4077 - accuracy: 0.8630 - val_loss: 0.7132 - val_accuracy: 0.7977 - lr: 0.0010 - 73s/epoch - 17ms/step
Epoch 92/100
4378/4378 - 73s - loss: 0.4079 - accuracy: 0.8622 - val_loss: 0.7007 - val_accuracy: 0.8127 - lr: 0.0010 - 73s/epoch - 17ms/step
Epoch 93/100
4378/4378 - 73s - loss: 0.4098 - accuracy: 0.8616 - val_loss: 0.7945 - val_accuracy: 0.7843 - lr: 0.0010 - 73s/epoch - 17ms/step
Epoch 94/100
4378/4378 - 73s - loss: 0.4075 - accuracy: 0.8638 - val_loss: 0.8033 - val_accuracy: 0.7787 - lr: 0.0010 - 73s/epoch - 17ms/step
Epoch 95/100
4378/4378 - 73s - loss: 0.4069 - accuracy: 0.8632 - val_loss: 0.9856 - val_accuracy: 0.7556 - lr: 0.0010 - 73s/epoch - 17ms/step
Epoch 96/100
4378/4378 - 73s - loss: 0.4087 - accuracy: 0.8630 - val_loss: 0.8103 - val_accuracy: 0.7825 - lr: 0.0010 - 73s/epoch - 17ms/step
Epoch 97/100
4378/4378 - 73s - loss: 0.4106 - accuracy: 0.8611 - val_loss: 0.7511 - val_accuracy: 0.8000 - lr: 0.0010 - 73s/epoch - 17ms/step
Epoch 98/100
4378/4378 - 73s - loss: 0.4104 - accuracy: 0.8616 - val_loss: 0.6425 - val_accuracy: 0.8177 - lr: 0.0010 - 73s/epoch - 17ms/step
Epoch 99/100
4378/4378 - 73s - loss: 0.4099 - accuracy: 0.8605 - val_loss: 0.7910 - val_accuracy: 0.7939 - lr: 0.0010 - 73s/epoch - 17ms/step
Epoch 100/100
4378/4378 - 73s - loss: 0.4093 - accuracy: 0.8625 - val_loss: 0.6938 - val_accuracy: 0.8106 - lr: 0.0010 - 73s/epoch - 17ms/step
fitting with batch size: 100
Epoch 1/100
876/876 - 20s - loss: 0.3365 - accuracy: 0.8855 - val_loss: 0.8060 - val_accuracy: 0.7907 - lr: 0.0010 - 20s/epoch - 23ms/step
Epoch 2/100
876/876 - 18s - loss: 0.3118 - accuracy: 0.8934 - val_loss: 0.8477 - val_accuracy: 0.7898 - lr: 0.0010 - 18s/epoch - 21ms/step
Epoch 3/100
876/876 - 18s - loss: 0.3060 - accuracy: 0.8957 - val_loss: 0.8538 - val_accuracy: 0.7895 - lr: 0.0010 - 18s/epoch - 21ms/step
Epoch 4/100
876/876 - 18s - loss: 0.2982 - accuracy: 0.8980 - val_loss: 0.7372 - val_accuracy: 0.8210 - lr: 0.0010 - 18s/epoch - 21ms/step
Epoch 5/100
876/876 - 18s - loss: 0.2929 - accuracy: 0.8998 - val_loss: 0.8866 - val_accuracy: 0.7830 - lr: 0.0010 - 18s/epoch - 21ms/step
Epoch 6/100
876/876 - 18s - loss: 0.2904 - accuracy: 0.9002 - val_loss: 0.8695 - val_accuracy: 0.7875 - lr: 0.0010 - 18s/epoch - 21ms/step
Epoch 7/100
876/876 - 18s - loss: 0.2857 - accuracy: 0.9014 - val_loss: 0.9216 - val_accuracy: 0.7830 - lr: 0.0010 - 18s/epoch - 21ms/step
Epoch 8/100
876/876 - 18s - loss: 0.2865 - accuracy: 0.9023 - val_loss: 0.9156 - val_accuracy: 0.7778 - lr: 0.0010 - 18s/epoch - 21ms/step
Epoch 9/100
876/876 - 18s - loss: 0.2799 - accuracy: 0.9046 - val_loss: 0.9917 - val_accuracy: 0.7784 - lr: 0.0010 - 18s/epoch - 21ms/step
Epoch 10/100
876/876 - 18s - loss: 0.2795 - accuracy: 0.9045 - val_loss: 0.9573 - val_accuracy: 0.7715 - lr: 0.0010 - 18s/epoch - 21ms/step
Epoch 11/100
876/876 - 18s - loss: 0.2732 - accuracy: 0.9066 - val_loss: 0.8917 - val_accuracy: 0.7926 - lr: 0.0010 - 18s/epoch - 21ms/step
Epoch 12/100
876/876 - 18s - loss: 0.2745 - accuracy: 0.9066 - val_loss: 0.9101 - val_accuracy: 0.7912 - lr: 0.0010 - 18s/epoch - 21ms/step
Epoch 13/100
876/876 - 18s - loss: 0.2738 - accuracy: 0.9066 - val_loss: 0.9287 - val_accuracy: 0.7797 - lr: 0.0010 - 18s/epoch - 21ms/step
Epoch 14/100
876/876 - 18s - loss: 0.2696 - accuracy: 0.9069 - val_loss: 0.8865 - val_accuracy: 0.7931 - lr: 0.0010 - 18s/epoch - 21ms/step
Epoch 15/100
876/876 - 18s - loss: 0.2703 - accuracy: 0.9070 - val_loss: 0.9867 - val_accuracy: 0.7706 - lr: 0.0010 - 18s/epoch - 20ms/step
Epoch 16/100
876/876 - 18s - loss: 0.2700 - accuracy: 0.9067 - val_loss: 0.9487 - val_accuracy: 0.7863 - lr: 0.0010 - 18s/epoch - 21ms/step
Epoch 17/100
876/876 - 18s - loss: 0.2665 - accuracy: 0.9093 - val_loss: 0.8773 - val_accuracy: 0.7940 - lr: 0.0010 - 18s/epoch - 21ms/step
Epoch 18/100
876/876 - 18s - loss: 0.2631 - accuracy: 0.9098 - val_loss: 0.9155 - val_accuracy: 0.7833 - lr: 0.0010 - 18s/epoch - 21ms/step
Epoch 19/100
876/876 - 18s - loss: 0.2673 - accuracy: 0.9085 - val_loss: 0.8621 - val_accuracy: 0.7917 - lr: 0.0010 - 18s/epoch - 21ms/step
Epoch 20/100
876/876 - 18s - loss: 0.2642 - accuracy: 0.9085 - val_loss: 0.9318 - val_accuracy: 0.7886 - lr: 0.0010 - 18s/epoch - 21ms/step
Epoch 21/100
876/876 - 18s - loss: 0.2605 - accuracy: 0.9101 - val_loss: 0.9586 - val_accuracy: 0.7807 - lr: 0.0010 - 18s/epoch - 21ms/step
Epoch 22/100
876/876 - 18s - loss: 0.2602 - accuracy: 0.9100 - val_loss: 0.8987 - val_accuracy: 0.7923 - lr: 0.0010 - 18s/epoch - 21ms/step
Epoch 23/100
876/876 - 18s - loss: 0.2612 - accuracy: 0.9106 - val_loss: 0.9490 - val_accuracy: 0.7823 - lr: 0.0010 - 18s/epoch - 21ms/step
Epoch 24/100
876/876 - 18s - loss: 0.2565 - accuracy: 0.9111 - val_loss: 0.9481 - val_accuracy: 0.7963 - lr: 0.0010 - 18s/epoch - 20ms/step
Epoch 25/100
876/876 - 18s - loss: 0.2577 - accuracy: 0.9110 - val_loss: 0.9465 - val_accuracy: 0.7863 - lr: 0.0010 - 18s/epoch - 21ms/step
Epoch 26/100
876/876 - 18s - loss: 0.2575 - accuracy: 0.9102 - val_loss: 0.9107 - val_accuracy: 0.7878 - lr: 0.0010 - 18s/epoch - 21ms/step
Epoch 27/100
876/876 - 18s - loss: 0.2585 - accuracy: 0.9103 - val_loss: 1.0223 - val_accuracy: 0.7743 - lr: 0.0010 - 18s/epoch - 21ms/step
Epoch 28/100
876/876 - 18s - loss: 0.2558 - accuracy: 0.9122 - val_loss: 0.9712 - val_accuracy: 0.7728 - lr: 0.0010 - 18s/epoch - 21ms/step
Epoch 29/100
876/876 - 18s - loss: 0.2537 - accuracy: 0.9123 - val_loss: 0.9166 - val_accuracy: 0.7992 - lr: 0.0010 - 18s/epoch - 21ms/step
Epoch 30/100
876/876 - 18s - loss: 0.2532 - accuracy: 0.9136 - val_loss: 0.9550 - val_accuracy: 0.7993 - lr: 0.0010 - 18s/epoch - 21ms/step
Epoch 31/100
876/876 - 18s - loss: 0.2527 - accuracy: 0.9133 - val_loss: 1.0436 - val_accuracy: 0.7760 - lr: 0.0010 - 18s/epoch - 21ms/step
Epoch 32/100
876/876 - 18s - loss: 0.2532 - accuracy: 0.9127 - val_loss: 1.0068 - val_accuracy: 0.7661 - lr: 0.0010 - 18s/epoch - 21ms/step
Epoch 33/100
876/876 - 18s - loss: 0.2515 - accuracy: 0.9133 - val_loss: 0.9620 - val_accuracy: 0.7890 - lr: 0.0010 - 18s/epoch - 21ms/step
Epoch 34/100
876/876 - 18s - loss: 0.2509 - accuracy: 0.9143 - val_loss: 0.9381 - val_accuracy: 0.7914 - lr: 0.0010 - 18s/epoch - 21ms/step
Epoch 35/100
876/876 - 18s - loss: 0.2490 - accuracy: 0.9133 - val_loss: 1.0111 - val_accuracy: 0.7733 - lr: 0.0010 - 18s/epoch - 21ms/step
Epoch 36/100
876/876 - 18s - loss: 0.2475 - accuracy: 0.9144 - val_loss: 0.9250 - val_accuracy: 0.7978 - lr: 0.0010 - 18s/epoch - 21ms/step
Epoch 37/100
876/876 - 18s - loss: 0.2470 - accuracy: 0.9148 - val_loss: 1.0480 - val_accuracy: 0.7797 - lr: 0.0010 - 18s/epoch - 21ms/step
Epoch 38/100
876/876 - 18s - loss: 0.2477 - accuracy: 0.9142 - val_loss: 1.0344 - val_accuracy: 0.7791 - lr: 0.0010 - 18s/epoch - 21ms/step
Epoch 39/100
876/876 - 18s - loss: 0.2463 - accuracy: 0.9150 - val_loss: 1.0937 - val_accuracy: 0.7681 - lr: 0.0010 - 18s/epoch - 21ms/step
Epoch 40/100
876/876 - 18s - loss: 0.2485 - accuracy: 0.9143 - val_loss: 0.9616 - val_accuracy: 0.7870 - lr: 0.0010 - 18s/epoch - 21ms/step
Epoch 41/100
876/876 - 18s - loss: 0.2434 - accuracy: 0.9162 - val_loss: 0.8229 - val_accuracy: 0.8215 - lr: 0.0010 - 18s/epoch - 21ms/step
Epoch 42/100
876/876 - 18s - loss: 0.2436 - accuracy: 0.9156 - val_loss: 1.0056 - val_accuracy: 0.7867 - lr: 0.0010 - 18s/epoch - 21ms/step
Epoch 43/100
876/876 - 18s - loss: 0.2461 - accuracy: 0.9153 - val_loss: 0.9524 - val_accuracy: 0.7991 - lr: 0.0010 - 18s/epoch - 21ms/step
Epoch 44/100
876/876 - 18s - loss: 0.2463 - accuracy: 0.9141 - val_loss: 1.0076 - val_accuracy: 0.7826 - lr: 0.0010 - 18s/epoch - 21ms/step
Epoch 45/100
876/876 - 18s - loss: 0.2409 - accuracy: 0.9168 - val_loss: 0.9912 - val_accuracy: 0.7914 - lr: 0.0010 - 18s/epoch - 21ms/step
Epoch 46/100
876/876 - 18s - loss: 0.2439 - accuracy: 0.9150 - val_loss: 0.9277 - val_accuracy: 0.8006 - lr: 0.0010 - 18s/epoch - 21ms/step
Epoch 47/100
876/876 - 18s - loss: 0.2409 - accuracy: 0.9163 - val_loss: 0.9988 - val_accuracy: 0.7839 - lr: 0.0010 - 18s/epoch - 21ms/step
Epoch 48/100
876/876 - 18s - loss: 0.2406 - accuracy: 0.9164 - val_loss: 1.0886 - val_accuracy: 0.7739 - lr: 0.0010 - 18s/epoch - 21ms/step
Epoch 49/100
876/876 - 18s - loss: 0.2398 - accuracy: 0.9177 - val_loss: 1.0670 - val_accuracy: 0.7788 - lr: 0.0010 - 18s/epoch - 21ms/step
Epoch 50/100
876/876 - 18s - loss: 0.2418 - accuracy: 0.9165 - val_loss: 1.0262 - val_accuracy: 0.7851 - lr: 0.0010 - 18s/epoch - 21ms/step
Epoch 51/100
876/876 - 18s - loss: 0.2397 - accuracy: 0.9168 - val_loss: 1.0102 - val_accuracy: 0.7878 - lr: 0.0010 - 18s/epoch - 21ms/step
Epoch 52/100
876/876 - 18s - loss: 0.2386 - accuracy: 0.9174 - val_loss: 0.9796 - val_accuracy: 0.7892 - lr: 0.0010 - 18s/epoch - 21ms/step
Epoch 53/100
876/876 - 18s - loss: 0.2417 - accuracy: 0.9173 - val_loss: 0.9550 - val_accuracy: 0.7951 - lr: 0.0010 - 18s/epoch - 21ms/step
Epoch 54/100
876/876 - 18s - loss: 0.2394 - accuracy: 0.9171 - val_loss: 0.9029 - val_accuracy: 0.8062 - lr: 0.0010 - 18s/epoch - 21ms/step
Epoch 55/100
876/876 - 18s - loss: 0.2366 - accuracy: 0.9182 - val_loss: 1.0267 - val_accuracy: 0.7976 - lr: 0.0010 - 18s/epoch - 21ms/step
Epoch 56/100
876/876 - 18s - loss: 0.2387 - accuracy: 0.9169 - val_loss: 0.9729 - val_accuracy: 0.7924 - lr: 0.0010 - 18s/epoch - 21ms/step
Epoch 57/100
876/876 - 18s - loss: 0.2381 - accuracy: 0.9177 - val_loss: 0.9320 - val_accuracy: 0.7920 - lr: 0.0010 - 18s/epoch - 21ms/step
Epoch 58/100
876/876 - 18s - loss: 0.2338 - accuracy: 0.9193 - val_loss: 0.9669 - val_accuracy: 0.7975 - lr: 0.0010 - 18s/epoch - 21ms/step
Epoch 59/100
876/876 - 18s - loss: 0.2347 - accuracy: 0.9187 - val_loss: 0.9843 - val_accuracy: 0.7964 - lr: 0.0010 - 18s/epoch - 21ms/step
Epoch 60/100
876/876 - 18s - loss: 0.2366 - accuracy: 0.9176 - val_loss: 0.9812 - val_accuracy: 0.7946 - lr: 0.0010 - 18s/epoch - 21ms/step
Epoch 61/100
876/876 - 18s - loss: 0.2346 - accuracy: 0.9194 - val_loss: 0.9975 - val_accuracy: 0.8016 - lr: 0.0010 - 18s/epoch - 21ms/step
Epoch 62/100
876/876 - 18s - loss: 0.2350 - accuracy: 0.9187 - val_loss: 1.0263 - val_accuracy: 0.7947 - lr: 0.0010 - 18s/epoch - 21ms/step
Epoch 63/100
876/876 - 18s - loss: 0.2350 - accuracy: 0.9187 - val_loss: 1.0147 - val_accuracy: 0.7903 - lr: 0.0010 - 18s/epoch - 21ms/step
Epoch 64/100
876/876 - 18s - loss: 0.2323 - accuracy: 0.9196 - val_loss: 0.9579 - val_accuracy: 0.8041 - lr: 0.0010 - 18s/epoch - 21ms/step
Epoch 65/100
876/876 - 18s - loss: 0.2317 - accuracy: 0.9193 - val_loss: 1.0099 - val_accuracy: 0.7902 - lr: 0.0010 - 18s/epoch - 21ms/step
Epoch 66/100
876/876 - 18s - loss: 0.2334 - accuracy: 0.9195 - val_loss: 0.9950 - val_accuracy: 0.7970 - lr: 0.0010 - 18s/epoch - 21ms/step
Epoch 67/100
876/876 - 18s - loss: 0.2313 - accuracy: 0.9193 - val_loss: 0.9821 - val_accuracy: 0.7965 - lr: 0.0010 - 18s/epoch - 21ms/step
Epoch 68/100
876/876 - 18s - loss: 0.2286 - accuracy: 0.9202 - val_loss: 1.0305 - val_accuracy: 0.7960 - lr: 0.0010 - 18s/epoch - 21ms/step
Epoch 69/100
876/876 - 18s - loss: 0.2281 - accuracy: 0.9217 - val_loss: 1.0982 - val_accuracy: 0.7793 - lr: 0.0010 - 18s/epoch - 21ms/step
Epoch 70/100
876/876 - 18s - loss: 0.2300 - accuracy: 0.9194 - val_loss: 0.9621 - val_accuracy: 0.8018 - lr: 0.0010 - 18s/epoch - 21ms/step
Epoch 71/100
876/876 - 18s - loss: 0.2304 - accuracy: 0.9199 - val_loss: 0.9928 - val_accuracy: 0.7917 - lr: 0.0010 - 18s/epoch - 21ms/step
Epoch 72/100
876/876 - 18s - loss: 0.2331 - accuracy: 0.9193 - val_loss: 1.0071 - val_accuracy: 0.7923 - lr: 0.0010 - 18s/epoch - 21ms/step
Epoch 73/100
876/876 - 18s - loss: 0.2293 - accuracy: 0.9207 - val_loss: 1.0857 - val_accuracy: 0.7873 - lr: 0.0010 - 18s/epoch - 21ms/step
Epoch 74/100
876/876 - 18s - loss: 0.2316 - accuracy: 0.9203 - val_loss: 1.0130 - val_accuracy: 0.7944 - lr: 0.0010 - 18s/epoch - 21ms/step
Epoch 75/100
876/876 - 18s - loss: 0.2288 - accuracy: 0.9206 - val_loss: 1.0741 - val_accuracy: 0.7825 - lr: 0.0010 - 18s/epoch - 21ms/step
Epoch 76/100
876/876 - 18s - loss: 0.2284 - accuracy: 0.9210 - val_loss: 1.0409 - val_accuracy: 0.7894 - lr: 0.0010 - 18s/epoch - 21ms/step
Epoch 77/100
876/876 - 18s - loss: 0.2279 - accuracy: 0.9212 - val_loss: 0.9715 - val_accuracy: 0.8027 - lr: 0.0010 - 18s/epoch - 21ms/step
Epoch 78/100
876/876 - 18s - loss: 0.2259 - accuracy: 0.9213 - val_loss: 1.1356 - val_accuracy: 0.7758 - lr: 0.0010 - 18s/epoch - 21ms/step
Epoch 79/100
876/876 - 18s - loss: 0.2262 - accuracy: 0.9209 - val_loss: 1.1757 - val_accuracy: 0.7767 - lr: 0.0010 - 18s/epoch - 21ms/step
Epoch 80/100
876/876 - 18s - loss: 0.2271 - accuracy: 0.9214 - val_loss: 1.0457 - val_accuracy: 0.7966 - lr: 0.0010 - 18s/epoch - 21ms/step
Epoch 81/100
876/876 - 18s - loss: 0.2270 - accuracy: 0.9207 - val_loss: 1.0979 - val_accuracy: 0.7878 - lr: 0.0010 - 18s/epoch - 21ms/step
Epoch 82/100
876/876 - 18s - loss: 0.2254 - accuracy: 0.9221 - val_loss: 1.1614 - val_accuracy: 0.7791 - lr: 0.0010 - 18s/epoch - 21ms/step
Epoch 83/100
876/876 - 18s - loss: 0.2280 - accuracy: 0.9206 - val_loss: 1.0437 - val_accuracy: 0.7866 - lr: 0.0010 - 18s/epoch - 21ms/step
Epoch 84/100
876/876 - 18s - loss: 0.2278 - accuracy: 0.9209 - val_loss: 1.1936 - val_accuracy: 0.7726 - lr: 0.0010 - 18s/epoch - 21ms/step
Epoch 85/100
876/876 - 18s - loss: 0.2264 - accuracy: 0.9211 - val_loss: 1.0662 - val_accuracy: 0.7801 - lr: 0.0010 - 18s/epoch - 21ms/step
Epoch 86/100
876/876 - 18s - loss: 0.2226 - accuracy: 0.9223 - val_loss: 0.9724 - val_accuracy: 0.7995 - lr: 0.0010 - 18s/epoch - 21ms/step
Epoch 87/100
876/876 - 18s - loss: 0.2265 - accuracy: 0.9217 - val_loss: 1.1551 - val_accuracy: 0.7746 - lr: 0.0010 - 18s/epoch - 21ms/step
Epoch 88/100
876/876 - 18s - loss: 0.2228 - accuracy: 0.9223 - val_loss: 1.0388 - val_accuracy: 0.7853 - lr: 0.0010 - 18s/epoch - 21ms/step
Epoch 89/100
876/876 - 18s - loss: 0.2245 - accuracy: 0.9221 - val_loss: 1.1783 - val_accuracy: 0.7779 - lr: 0.0010 - 18s/epoch - 21ms/step
Epoch 90/100
876/876 - 18s - loss: 0.2229 - accuracy: 0.9227 - val_loss: 0.9889 - val_accuracy: 0.7951 - lr: 0.0010 - 18s/epoch - 21ms/step
Epoch 91/100
876/876 - 18s - loss: 0.2251 - accuracy: 0.9211 - val_loss: 1.0716 - val_accuracy: 0.7884 - lr: 0.0010 - 18s/epoch - 21ms/step
Epoch 92/100
876/876 - 18s - loss: 0.2224 - accuracy: 0.9232 - val_loss: 1.2765 - val_accuracy: 0.7549 - lr: 0.0010 - 18s/epoch - 21ms/step
Epoch 93/100
876/876 - 18s - loss: 0.2214 - accuracy: 0.9238 - val_loss: 1.1052 - val_accuracy: 0.7819 - lr: 0.0010 - 18s/epoch - 21ms/step
Epoch 94/100
876/876 - 18s - loss: 0.2236 - accuracy: 0.9221 - val_loss: 1.1490 - val_accuracy: 0.7775 - lr: 0.0010 - 18s/epoch - 21ms/step
Epoch 95/100
876/876 - 18s - loss: 0.2259 - accuracy: 0.9218 - val_loss: 1.0273 - val_accuracy: 0.8083 - lr: 0.0010 - 18s/epoch - 21ms/step
Epoch 96/100
876/876 - 18s - loss: 0.2237 - accuracy: 0.9221 - val_loss: 1.1556 - val_accuracy: 0.7826 - lr: 0.0010 - 18s/epoch - 21ms/step
Epoch 97/100
876/876 - 18s - loss: 0.2221 - accuracy: 0.9233 - val_loss: 1.1401 - val_accuracy: 0.7819 - lr: 0.0010 - 18s/epoch - 21ms/step
Epoch 98/100
876/876 - 18s - loss: 0.2206 - accuracy: 0.9238 - val_loss: 1.1346 - val_accuracy: 0.7843 - lr: 0.0010 - 18s/epoch - 21ms/step
Epoch 99/100
876/876 - 18s - loss: 0.2216 - accuracy: 0.9241 - val_loss: 1.1301 - val_accuracy: 0.7821 - lr: 0.0010 - 18s/epoch - 21ms/step
Epoch 100/100
876/876 - 18s - loss: 0.2219 - accuracy: 0.9229 - val_loss: 1.0325 - val_accuracy: 0.7980 - lr: 0.0010 - 18s/epoch - 21ms/step
fitting with batch size: 500
Epoch 1/100
176/176 - 12s - loss: 0.1755 - accuracy: 0.9393 - val_loss: 1.2140 - val_accuracy: 0.7866 - lr: 0.0010 - 12s/epoch - 67ms/step
Epoch 2/100
176/176 - 10s - loss: 0.1710 - accuracy: 0.9407 - val_loss: 1.2934 - val_accuracy: 0.7843 - lr: 0.0010 - 10s/epoch - 55ms/step
Epoch 3/100
176/176 - 10s - loss: 0.1650 - accuracy: 0.9416 - val_loss: 1.3340 - val_accuracy: 0.7852 - lr: 0.0010 - 10s/epoch - 55ms/step
Epoch 4/100
176/176 - 10s - loss: 0.1649 - accuracy: 0.9415 - val_loss: 1.2737 - val_accuracy: 0.7948 - lr: 0.0010 - 10s/epoch - 55ms/step
Epoch 5/100
176/176 - 10s - loss: 0.1622 - accuracy: 0.9430 - val_loss: 1.3442 - val_accuracy: 0.7841 - lr: 0.0010 - 10s/epoch - 55ms/step
Epoch 6/100
176/176 - 10s - loss: 0.1599 - accuracy: 0.9435 - val_loss: 1.3594 - val_accuracy: 0.7865 - lr: 0.0010 - 10s/epoch - 55ms/step
Epoch 7/100
176/176 - 10s - loss: 0.1582 - accuracy: 0.9447 - val_loss: 1.3672 - val_accuracy: 0.7880 - lr: 0.0010 - 10s/epoch - 55ms/step
Epoch 8/100
176/176 - 10s - loss: 0.1585 - accuracy: 0.9442 - val_loss: 1.3399 - val_accuracy: 0.7912 - lr: 0.0010 - 10s/epoch - 55ms/step
Epoch 9/100
176/176 - 10s - loss: 0.1539 - accuracy: 0.9456 - val_loss: 1.4100 - val_accuracy: 0.7823 - lr: 0.0010 - 10s/epoch - 55ms/step
Epoch 10/100
176/176 - 10s - loss: 0.1565 - accuracy: 0.9450 - val_loss: 1.3484 - val_accuracy: 0.7884 - lr: 0.0010 - 10s/epoch - 55ms/step
Epoch 11/100
176/176 - 10s - loss: 0.1567 - accuracy: 0.9444 - val_loss: 1.3906 - val_accuracy: 0.7882 - lr: 0.0010 - 10s/epoch - 55ms/step
Epoch 12/100
176/176 - 10s - loss: 0.1496 - accuracy: 0.9465 - val_loss: 1.4273 - val_accuracy: 0.7834 - lr: 0.0010 - 10s/epoch - 55ms/step
Epoch 13/100
176/176 - 10s - loss: 0.1541 - accuracy: 0.9456 - val_loss: 1.4107 - val_accuracy: 0.7835 - lr: 0.0010 - 10s/epoch - 55ms/step
Epoch 14/100
176/176 - 10s - loss: 0.1522 - accuracy: 0.9458 - val_loss: 1.3991 - val_accuracy: 0.7875 - lr: 0.0010 - 10s/epoch - 55ms/step
Epoch 15/100
176/176 - 10s - loss: 0.1510 - accuracy: 0.9464 - val_loss: 1.4525 - val_accuracy: 0.7791 - lr: 0.0010 - 10s/epoch - 55ms/step
Epoch 16/100
176/176 - 10s - loss: 0.1512 - accuracy: 0.9465 - val_loss: 1.3249 - val_accuracy: 0.7914 - lr: 0.0010 - 10s/epoch - 55ms/step
Epoch 17/100
176/176 - 10s - loss: 0.1528 - accuracy: 0.9463 - val_loss: 1.4470 - val_accuracy: 0.7835 - lr: 0.0010 - 10s/epoch - 55ms/step
Epoch 18/100
176/176 - 10s - loss: 0.1493 - accuracy: 0.9473 - val_loss: 1.4601 - val_accuracy: 0.7849 - lr: 0.0010 - 10s/epoch - 57ms/step
Epoch 19/100
176/176 - 10s - loss: 0.1483 - accuracy: 0.9475 - val_loss: 1.4047 - val_accuracy: 0.7849 - lr: 0.0010 - 10s/epoch - 55ms/step
Epoch 20/100
176/176 - 10s - loss: 0.1518 - accuracy: 0.9464 - val_loss: 1.4538 - val_accuracy: 0.7831 - lr: 0.0010 - 10s/epoch - 55ms/step
Epoch 21/100
176/176 - 10s - loss: 0.1511 - accuracy: 0.9467 - val_loss: 1.4629 - val_accuracy: 0.7827 - lr: 0.0010 - 10s/epoch - 55ms/step
Epoch 22/100
176/176 - 10s - loss: 0.1481 - accuracy: 0.9477 - val_loss: 1.4069 - val_accuracy: 0.7881 - lr: 0.0010 - 10s/epoch - 55ms/step
Epoch 23/100
176/176 - 10s - loss: 0.1503 - accuracy: 0.9465 - val_loss: 1.4587 - val_accuracy: 0.7765 - lr: 0.0010 - 10s/epoch - 56ms/step
Epoch 24/100
176/176 - 10s - loss: 0.1518 - accuracy: 0.9467 - val_loss: 1.3803 - val_accuracy: 0.7913 - lr: 0.0010 - 10s/epoch - 56ms/step
Epoch 25/100
176/176 - 10s - loss: 0.1488 - accuracy: 0.9474 - val_loss: 1.4940 - val_accuracy: 0.7841 - lr: 0.0010 - 10s/epoch - 55ms/step
Epoch 26/100
176/176 - 10s - loss: 0.1487 - accuracy: 0.9470 - val_loss: 1.4256 - val_accuracy: 0.7931 - lr: 0.0010 - 10s/epoch - 55ms/step
Epoch 27/100
176/176 - 10s - loss: 0.1501 - accuracy: 0.9470 - val_loss: 1.4904 - val_accuracy: 0.7822 - lr: 0.0010 - 10s/epoch - 56ms/step
Epoch 28/100
176/176 - 10s - loss: 0.1471 - accuracy: 0.9477 - val_loss: 1.5199 - val_accuracy: 0.7786 - lr: 0.0010 - 10s/epoch - 55ms/step
Epoch 29/100
176/176 - 10s - loss: 0.1480 - accuracy: 0.9478 - val_loss: 1.3662 - val_accuracy: 0.7902 - lr: 0.0010 - 10s/epoch - 55ms/step
Epoch 30/100
176/176 - 10s - loss: 0.1463 - accuracy: 0.9482 - val_loss: 1.4565 - val_accuracy: 0.7866 - lr: 0.0010 - 10s/epoch - 56ms/step
Epoch 31/100
176/176 - 10s - loss: 0.1456 - accuracy: 0.9491 - val_loss: 1.4471 - val_accuracy: 0.7832 - lr: 0.0010 - 10s/epoch - 56ms/step
Epoch 32/100
176/176 - 10s - loss: 0.1455 - accuracy: 0.9484 - val_loss: 1.4527 - val_accuracy: 0.7876 - lr: 0.0010 - 10s/epoch - 55ms/step
Epoch 33/100
176/176 - 10s - loss: 0.1477 - accuracy: 0.9470 - val_loss: 1.4998 - val_accuracy: 0.7780 - lr: 0.0010 - 10s/epoch - 55ms/step
Epoch 34/100
176/176 - 10s - loss: 0.1464 - accuracy: 0.9483 - val_loss: 1.4595 - val_accuracy: 0.7875 - lr: 0.0010 - 10s/epoch - 55ms/step
Epoch 35/100
176/176 - 10s - loss: 0.1442 - accuracy: 0.9487 - val_loss: 1.5475 - val_accuracy: 0.7708 - lr: 0.0010 - 10s/epoch - 55ms/step
Epoch 36/100
176/176 - 10s - loss: 0.1455 - accuracy: 0.9487 - val_loss: 1.4949 - val_accuracy: 0.7839 - lr: 0.0010 - 10s/epoch - 56ms/step
Epoch 37/100
176/176 - 10s - loss: 0.1450 - accuracy: 0.9481 - val_loss: 1.4485 - val_accuracy: 0.7903 - lr: 0.0010 - 10s/epoch - 55ms/step
Epoch 38/100
176/176 - 10s - loss: 0.1422 - accuracy: 0.9495 - val_loss: 1.6496 - val_accuracy: 0.7650 - lr: 0.0010 - 10s/epoch - 55ms/step
Epoch 39/100
176/176 - 10s - loss: 0.1451 - accuracy: 0.9490 - val_loss: 1.5568 - val_accuracy: 0.7685 - lr: 0.0010 - 10s/epoch - 55ms/step
Epoch 40/100
176/176 - 10s - loss: 0.1433 - accuracy: 0.9486 - val_loss: 1.4644 - val_accuracy: 0.7838 - lr: 0.0010 - 10s/epoch - 56ms/step
Epoch 41/100
176/176 - 10s - loss: 0.1427 - accuracy: 0.9494 - val_loss: 1.5398 - val_accuracy: 0.7780 - lr: 0.0010 - 10s/epoch - 56ms/step
Epoch 42/100
176/176 - 10s - loss: 0.1426 - accuracy: 0.9490 - val_loss: 1.4454 - val_accuracy: 0.7814 - lr: 0.0010 - 10s/epoch - 55ms/step
Epoch 43/100
176/176 - 10s - loss: 0.1420 - accuracy: 0.9497 - val_loss: 1.5822 - val_accuracy: 0.7730 - lr: 0.0010 - 10s/epoch - 55ms/step
Epoch 44/100
176/176 - 10s - loss: 0.1459 - accuracy: 0.9482 - val_loss: 1.5258 - val_accuracy: 0.7727 - lr: 0.0010 - 10s/epoch - 55ms/step
Epoch 45/100
176/176 - 10s - loss: 0.1420 - accuracy: 0.9494 - val_loss: 1.5416 - val_accuracy: 0.7780 - lr: 0.0010 - 10s/epoch - 55ms/step
Epoch 46/100
176/176 - 10s - loss: 0.1447 - accuracy: 0.9493 - val_loss: 1.5141 - val_accuracy: 0.7757 - lr: 0.0010 - 10s/epoch - 55ms/step
Epoch 47/100
176/176 - 10s - loss: 0.1416 - accuracy: 0.9498 - val_loss: 1.5897 - val_accuracy: 0.7738 - lr: 0.0010 - 10s/epoch - 55ms/step
Epoch 48/100
176/176 - 10s - loss: 0.1430 - accuracy: 0.9499 - val_loss: 1.4831 - val_accuracy: 0.7844 - lr: 0.0010 - 10s/epoch - 55ms/step
Epoch 49/100
176/176 - 10s - loss: 0.1408 - accuracy: 0.9494 - val_loss: 1.5367 - val_accuracy: 0.7818 - lr: 0.0010 - 10s/epoch - 55ms/step
Epoch 50/100
176/176 - 10s - loss: 0.1412 - accuracy: 0.9494 - val_loss: 1.5578 - val_accuracy: 0.7764 - lr: 0.0010 - 10s/epoch - 56ms/step
Epoch 51/100
176/176 - 10s - loss: 0.1407 - accuracy: 0.9502 - val_loss: 1.4724 - val_accuracy: 0.7851 - lr: 0.0010 - 10s/epoch - 55ms/step
Epoch 52/100
176/176 - 10s - loss: 0.1406 - accuracy: 0.9492 - val_loss: 1.4987 - val_accuracy: 0.7805 - lr: 0.0010 - 10s/epoch - 55ms/step
Epoch 53/100
176/176 - 10s - loss: 0.1411 - accuracy: 0.9497 - val_loss: 1.5679 - val_accuracy: 0.7715 - lr: 0.0010 - 10s/epoch - 55ms/step
Epoch 54/100
176/176 - 10s - loss: 0.1407 - accuracy: 0.9497 - val_loss: 1.5243 - val_accuracy: 0.7708 - lr: 0.0010 - 10s/epoch - 55ms/step
Epoch 55/100
176/176 - 10s - loss: 0.1410 - accuracy: 0.9489 - val_loss: 1.6236 - val_accuracy: 0.7664 - lr: 0.0010 - 10s/epoch - 55ms/step
Epoch 56/100
176/176 - 10s - loss: 0.1385 - accuracy: 0.9503 - val_loss: 1.5812 - val_accuracy: 0.7738 - lr: 0.0010 - 10s/epoch - 55ms/step
Epoch 57/100
176/176 - 10s - loss: 0.1390 - accuracy: 0.9503 - val_loss: 1.6187 - val_accuracy: 0.7765 - lr: 0.0010 - 10s/epoch - 55ms/step
Epoch 58/100
176/176 - 10s - loss: 0.1413 - accuracy: 0.9496 - val_loss: 1.4703 - val_accuracy: 0.7854 - lr: 0.0010 - 10s/epoch - 54ms/step
Epoch 59/100
176/176 - 10s - loss: 0.1366 - accuracy: 0.9511 - val_loss: 1.6036 - val_accuracy: 0.7761 - lr: 0.0010 - 10s/epoch - 55ms/step
Epoch 60/100
176/176 - 10s - loss: 0.1399 - accuracy: 0.9501 - val_loss: 1.6152 - val_accuracy: 0.7674 - lr: 0.0010 - 10s/epoch - 55ms/step
Epoch 61/100
176/176 - 10s - loss: 0.1387 - accuracy: 0.9508 - val_loss: 1.5924 - val_accuracy: 0.7769 - lr: 0.0010 - 10s/epoch - 55ms/step
Epoch 62/100
176/176 - 10s - loss: 0.1398 - accuracy: 0.9500 - val_loss: 1.3958 - val_accuracy: 0.7947 - lr: 0.0010 - 10s/epoch - 55ms/step
Epoch 63/100
176/176 - 10s - loss: 0.1410 - accuracy: 0.9498 - val_loss: 1.5518 - val_accuracy: 0.7847 - lr: 0.0010 - 10s/epoch - 55ms/step
Epoch 64/100
176/176 - 10s - loss: 0.1375 - accuracy: 0.9507 - val_loss: 1.5467 - val_accuracy: 0.7802 - lr: 0.0010 - 10s/epoch - 55ms/step
Epoch 65/100
176/176 - 10s - loss: 0.1353 - accuracy: 0.9513 - val_loss: 1.6133 - val_accuracy: 0.7793 - lr: 0.0010 - 10s/epoch - 56ms/step
Epoch 66/100
176/176 - 10s - loss: 0.1376 - accuracy: 0.9514 - val_loss: 1.5555 - val_accuracy: 0.7858 - lr: 0.0010 - 10s/epoch - 55ms/step
Epoch 67/100
176/176 - 10s - loss: 0.1393 - accuracy: 0.9501 - val_loss: 1.5627 - val_accuracy: 0.7754 - lr: 0.0010 - 10s/epoch - 55ms/step
Epoch 68/100
176/176 - 10s - loss: 0.1407 - accuracy: 0.9494 - val_loss: 1.6248 - val_accuracy: 0.7740 - lr: 0.0010 - 10s/epoch - 55ms/step
Epoch 69/100
176/176 - 10s - loss: 0.1369 - accuracy: 0.9514 - val_loss: 1.6241 - val_accuracy: 0.7692 - lr: 0.0010 - 10s/epoch - 55ms/step
Epoch 70/100
176/176 - 10s - loss: 0.1347 - accuracy: 0.9522 - val_loss: 1.5455 - val_accuracy: 0.7842 - lr: 0.0010 - 10s/epoch - 56ms/step
Epoch 71/100
176/176 - 10s - loss: 0.1363 - accuracy: 0.9511 - val_loss: 1.5913 - val_accuracy: 0.7762 - lr: 0.0010 - 10s/epoch - 56ms/step
Epoch 72/100
176/176 - 10s - loss: 0.1366 - accuracy: 0.9513 - val_loss: 1.5524 - val_accuracy: 0.7743 - lr: 0.0010 - 10s/epoch - 55ms/step
Epoch 73/100
176/176 - 10s - loss: 0.1400 - accuracy: 0.9504 - val_loss: 1.5785 - val_accuracy: 0.7724 - lr: 0.0010 - 10s/epoch - 55ms/step
Epoch 74/100
176/176 - 10s - loss: 0.1355 - accuracy: 0.9522 - val_loss: 1.6790 - val_accuracy: 0.7674 - lr: 0.0010 - 10s/epoch - 55ms/step
Epoch 75/100
176/176 - 10s - loss: 0.1319 - accuracy: 0.9523 - val_loss: 1.4956 - val_accuracy: 0.7808 - lr: 0.0010 - 10s/epoch - 56ms/step
Epoch 76/100
176/176 - 10s - loss: 0.1339 - accuracy: 0.9521 - val_loss: 1.5148 - val_accuracy: 0.7791 - lr: 0.0010 - 10s/epoch - 55ms/step
Epoch 77/100
176/176 - 10s - loss: 0.1361 - accuracy: 0.9511 - val_loss: 1.6884 - val_accuracy: 0.7611 - lr: 0.0010 - 10s/epoch - 55ms/step
Epoch 78/100
176/176 - 10s - loss: 0.1371 - accuracy: 0.9506 - val_loss: 1.5699 - val_accuracy: 0.7793 - lr: 0.0010 - 10s/epoch - 55ms/step
Epoch 79/100
176/176 - 10s - loss: 0.1364 - accuracy: 0.9519 - val_loss: 1.4431 - val_accuracy: 0.7823 - lr: 0.0010 - 10s/epoch - 55ms/step
Epoch 80/100
176/176 - 10s - loss: 0.1355 - accuracy: 0.9508 - val_loss: 1.4780 - val_accuracy: 0.7877 - lr: 0.0010 - 10s/epoch - 55ms/step
Epoch 81/100
176/176 - 10s - loss: 0.1323 - accuracy: 0.9523 - val_loss: 1.6039 - val_accuracy: 0.7741 - lr: 0.0010 - 10s/epoch - 55ms/step
Epoch 82/100
176/176 - 10s - loss: 0.1354 - accuracy: 0.9513 - val_loss: 1.6396 - val_accuracy: 0.7616 - lr: 0.0010 - 10s/epoch - 56ms/step
Epoch 83/100
176/176 - 10s - loss: 0.1347 - accuracy: 0.9519 - val_loss: 1.6427 - val_accuracy: 0.7674 - lr: 0.0010 - 10s/epoch - 55ms/step
Epoch 84/100
176/176 - 10s - loss: 0.1325 - accuracy: 0.9530 - val_loss: 1.6165 - val_accuracy: 0.7729 - lr: 0.0010 - 10s/epoch - 55ms/step
Epoch 85/100
176/176 - 10s - loss: 0.1363 - accuracy: 0.9508 - val_loss: 1.5241 - val_accuracy: 0.7781 - lr: 0.0010 - 10s/epoch - 55ms/step
Epoch 86/100
176/176 - 10s - loss: 0.1332 - accuracy: 0.9528 - val_loss: 1.5956 - val_accuracy: 0.7744 - lr: 0.0010 - 10s/epoch - 55ms/step
Epoch 87/100
176/176 - 10s - loss: 0.1335 - accuracy: 0.9521 - val_loss: 1.6528 - val_accuracy: 0.7724 - lr: 0.0010 - 10s/epoch - 55ms/step
Epoch 88/100
176/176 - 10s - loss: 0.1324 - accuracy: 0.9526 - val_loss: 1.6788 - val_accuracy: 0.7588 - lr: 0.0010 - 10s/epoch - 55ms/step
Epoch 89/100
176/176 - 10s - loss: 0.1332 - accuracy: 0.9518 - val_loss: 1.7451 - val_accuracy: 0.7633 - lr: 0.0010 - 10s/epoch - 55ms/step
Epoch 90/100
176/176 - 10s - loss: 0.1350 - accuracy: 0.9517 - val_loss: 1.6233 - val_accuracy: 0.7746 - lr: 0.0010 - 10s/epoch - 55ms/step
Epoch 91/100
176/176 - 10s - loss: 0.1365 - accuracy: 0.9512 - val_loss: 1.7114 - val_accuracy: 0.7661 - lr: 0.0010 - 10s/epoch - 56ms/step
Epoch 92/100
176/176 - 10s - loss: 0.1351 - accuracy: 0.9514 - val_loss: 1.6991 - val_accuracy: 0.7652 - lr: 0.0010 - 10s/epoch - 55ms/step
Epoch 93/100
176/176 - 10s - loss: 0.1333 - accuracy: 0.9534 - val_loss: 1.6065 - val_accuracy: 0.7667 - lr: 0.0010 - 10s/epoch - 55ms/step
Epoch 94/100
176/176 - 10s - loss: 0.1325 - accuracy: 0.9521 - val_loss: 1.6149 - val_accuracy: 0.7710 - lr: 0.0010 - 10s/epoch - 55ms/step
Epoch 95/100
176/176 - 10s - loss: 0.1380 - accuracy: 0.9508 - val_loss: 1.6221 - val_accuracy: 0.7692 - lr: 0.0010 - 10s/epoch - 55ms/step
Epoch 96/100
176/176 - 10s - loss: 0.1355 - accuracy: 0.9514 - val_loss: 1.6021 - val_accuracy: 0.7755 - lr: 0.0010 - 10s/epoch - 55ms/step
Epoch 97/100
176/176 - 10s - loss: 0.1350 - accuracy: 0.9522 - val_loss: 1.5063 - val_accuracy: 0.7859 - lr: 0.0010 - 10s/epoch - 55ms/step
Epoch 98/100
176/176 - 10s - loss: 0.1348 - accuracy: 0.9521 - val_loss: 1.5711 - val_accuracy: 0.7733 - lr: 0.0010 - 10s/epoch - 56ms/step
Epoch 99/100
176/176 - 10s - loss: 0.1333 - accuracy: 0.9527 - val_loss: 1.5472 - val_accuracy: 0.7899 - lr: 0.0010 - 10s/epoch - 56ms/step
Epoch 100/100
176/176 - 10s - loss: 0.1327 - accuracy: 0.9524 - val_loss: 1.6421 - val_accuracy: 0.7727 - lr: 0.0010 - 10s/epoch - 55ms/step
Loss: poisson
Epoch number: 75
fitting with batch size: 20
Epoch 1/75
4378/4378 - 76s - loss: 0.2628 - accuracy: 0.8928 - val_loss: 0.3866 - val_accuracy: 0.7910 - lr: 0.0010 - 76s/epoch - 17ms/step
Epoch 2/75
4378/4378 - 73s - loss: 0.2706 - accuracy: 0.8802 - val_loss: 0.3556 - val_accuracy: 0.7867 - lr: 0.0010 - 73s/epoch - 17ms/step
Epoch 3/75
4378/4378 - 73s - loss: 0.2709 - accuracy: 0.8797 - val_loss: 0.3635 - val_accuracy: 0.7886 - lr: 0.0010 - 73s/epoch - 17ms/step
Epoch 4/75
4378/4378 - 73s - loss: 0.2733 - accuracy: 0.8750 - val_loss: 0.3499 - val_accuracy: 0.8134 - lr: 0.0010 - 73s/epoch - 17ms/step
Epoch 5/75
4378/4378 - 73s - loss: 0.2730 - accuracy: 0.8749 - val_loss: 0.3597 - val_accuracy: 0.7845 - lr: 0.0010 - 73s/epoch - 17ms/step
Epoch 6/75
4378/4378 - 73s - loss: 0.2736 - accuracy: 0.8751 - val_loss: 0.3667 - val_accuracy: 0.7943 - lr: 0.0010 - 73s/epoch - 17ms/step
Epoch 7/75
4378/4378 - 73s - loss: 0.2746 - accuracy: 0.8730 - val_loss: 0.3398 - val_accuracy: 0.8026 - lr: 0.0010 - 73s/epoch - 17ms/step
Epoch 8/75
4378/4378 - 73s - loss: 0.2739 - accuracy: 0.8730 - val_loss: 0.3563 - val_accuracy: 0.8057 - lr: 0.0010 - 73s/epoch - 17ms/step
Epoch 9/75
4378/4378 - 73s - loss: 0.2754 - accuracy: 0.8720 - val_loss: 0.3631 - val_accuracy: 0.8023 - lr: 0.0010 - 73s/epoch - 17ms/step
Epoch 10/75
4378/4378 - 74s - loss: 0.2754 - accuracy: 0.8722 - val_loss: 0.3610 - val_accuracy: 0.7901 - lr: 0.0010 - 74s/epoch - 17ms/step
Epoch 11/75
4378/4378 - 73s - loss: 0.2751 - accuracy: 0.8723 - val_loss: 0.3626 - val_accuracy: 0.7958 - lr: 0.0010 - 73s/epoch - 17ms/step
Epoch 12/75
4378/4378 - 73s - loss: 0.2752 - accuracy: 0.8735 - val_loss: 0.3685 - val_accuracy: 0.7851 - lr: 0.0010 - 73s/epoch - 17ms/step
Epoch 13/75
4378/4378 - 73s - loss: 0.2754 - accuracy: 0.8726 - val_loss: 0.3663 - val_accuracy: 0.7844 - lr: 0.0010 - 73s/epoch - 17ms/step
Epoch 14/75
4378/4378 - 73s - loss: 0.2756 - accuracy: 0.8707 - val_loss: 0.3674 - val_accuracy: 0.7902 - lr: 0.0010 - 73s/epoch - 17ms/step
Epoch 15/75
4378/4378 - 73s - loss: 0.2764 - accuracy: 0.8708 - val_loss: 0.3594 - val_accuracy: 0.7907 - lr: 0.0010 - 73s/epoch - 17ms/step
Epoch 16/75
4378/4378 - 73s - loss: 0.2756 - accuracy: 0.8721 - val_loss: 0.3625 - val_accuracy: 0.8023 - lr: 0.0010 - 73s/epoch - 17ms/step
Epoch 17/75
4378/4378 - 73s - loss: 0.2753 - accuracy: 0.8713 - val_loss: 0.3737 - val_accuracy: 0.7847 - lr: 0.0010 - 73s/epoch - 17ms/step
Epoch 18/75
4378/4378 - 74s - loss: 0.2752 - accuracy: 0.8716 - val_loss: 0.3627 - val_accuracy: 0.7828 - lr: 0.0010 - 74s/epoch - 17ms/step
Epoch 19/75
4378/4378 - 73s - loss: 0.2759 - accuracy: 0.8713 - val_loss: 0.3652 - val_accuracy: 0.7742 - lr: 0.0010 - 73s/epoch - 17ms/step
Epoch 20/75
4378/4378 - 73s - loss: 0.2754 - accuracy: 0.8723 - val_loss: 0.3352 - val_accuracy: 0.8080 - lr: 0.0010 - 73s/epoch - 17ms/step
Epoch 21/75
4378/4378 - 73s - loss: 0.2757 - accuracy: 0.8715 - val_loss: 0.3703 - val_accuracy: 0.7801 - lr: 0.0010 - 73s/epoch - 17ms/step
Epoch 22/75
4378/4378 - 73s - loss: 0.2755 - accuracy: 0.8719 - val_loss: 0.3557 - val_accuracy: 0.8159 - lr: 0.0010 - 73s/epoch - 17ms/step
Epoch 23/75
4378/4378 - 73s - loss: 0.2758 - accuracy: 0.8707 - val_loss: 0.3419 - val_accuracy: 0.8192 - lr: 0.0010 - 73s/epoch - 17ms/step
Epoch 24/75
4378/4378 - 73s - loss: 0.2754 - accuracy: 0.8723 - val_loss: 0.3756 - val_accuracy: 0.7726 - lr: 0.0010 - 73s/epoch - 17ms/step
Epoch 25/75
4378/4378 - 74s - loss: 0.2758 - accuracy: 0.8727 - val_loss: 0.3648 - val_accuracy: 0.7936 - lr: 0.0010 - 74s/epoch - 17ms/step
Epoch 26/75
4378/4378 - 73s - loss: 0.2766 - accuracy: 0.8699 - val_loss: 0.3393 - val_accuracy: 0.8162 - lr: 0.0010 - 73s/epoch - 17ms/step
Epoch 27/75
4378/4378 - 74s - loss: 0.2760 - accuracy: 0.8717 - val_loss: 0.3360 - val_accuracy: 0.8177 - lr: 0.0010 - 74s/epoch - 17ms/step
Epoch 28/75
4378/4378 - 74s - loss: 0.2769 - accuracy: 0.8695 - val_loss: 0.3384 - val_accuracy: 0.8132 - lr: 0.0010 - 74s/epoch - 17ms/step
Epoch 29/75
4378/4378 - 73s - loss: 0.2763 - accuracy: 0.8710 - val_loss: 0.3520 - val_accuracy: 0.7898 - lr: 0.0010 - 73s/epoch - 17ms/step
Epoch 30/75
4378/4378 - 73s - loss: 0.2771 - accuracy: 0.8697 - val_loss: 0.3693 - val_accuracy: 0.7824 - lr: 0.0010 - 73s/epoch - 17ms/step
Epoch 31/75
4378/4378 - 73s - loss: 0.2761 - accuracy: 0.8719 - val_loss: 0.3576 - val_accuracy: 0.8080 - lr: 0.0010 - 73s/epoch - 17ms/step
Epoch 32/75
4378/4378 - 73s - loss: 0.2766 - accuracy: 0.8695 - val_loss: 0.3558 - val_accuracy: 0.7960 - lr: 0.0010 - 73s/epoch - 17ms/step
Epoch 33/75
4378/4378 - 73s - loss: 0.2760 - accuracy: 0.8707 - val_loss: 0.3524 - val_accuracy: 0.7986 - lr: 0.0010 - 73s/epoch - 17ms/step
Epoch 34/75
4378/4378 - 73s - loss: 0.2777 - accuracy: 0.8690 - val_loss: 0.3612 - val_accuracy: 0.7939 - lr: 0.0010 - 73s/epoch - 17ms/step
Epoch 35/75
4378/4378 - 73s - loss: 0.2769 - accuracy: 0.8701 - val_loss: 0.3784 - val_accuracy: 0.7812 - lr: 0.0010 - 73s/epoch - 17ms/step
Epoch 36/75
4378/4378 - 73s - loss: 0.2766 - accuracy: 0.8700 - val_loss: 0.3924 - val_accuracy: 0.7661 - lr: 0.0010 - 73s/epoch - 17ms/step
Epoch 37/75
4378/4378 - 73s - loss: 0.2771 - accuracy: 0.8689 - val_loss: 0.3679 - val_accuracy: 0.7894 - lr: 0.0010 - 73s/epoch - 17ms/step
Epoch 38/75
4378/4378 - 73s - loss: 0.2760 - accuracy: 0.8706 - val_loss: 0.3443 - val_accuracy: 0.8152 - lr: 0.0010 - 73s/epoch - 17ms/step
Epoch 39/75
4378/4378 - 73s - loss: 0.2764 - accuracy: 0.8709 - val_loss: 0.3573 - val_accuracy: 0.8134 - lr: 0.0010 - 73s/epoch - 17ms/step
Epoch 40/75
4378/4378 - 73s - loss: 0.2769 - accuracy: 0.8690 - val_loss: 0.3692 - val_accuracy: 0.7665 - lr: 0.0010 - 73s/epoch - 17ms/step
Epoch 41/75
4378/4378 - 73s - loss: 0.2769 - accuracy: 0.8701 - val_loss: 0.3507 - val_accuracy: 0.8084 - lr: 0.0010 - 73s/epoch - 17ms/step
Epoch 42/75
4378/4378 - 74s - loss: 0.2761 - accuracy: 0.8700 - val_loss: 0.3801 - val_accuracy: 0.7588 - lr: 0.0010 - 74s/epoch - 17ms/step
Epoch 43/75
4378/4378 - 73s - loss: 0.2768 - accuracy: 0.8699 - val_loss: 0.3620 - val_accuracy: 0.7882 - lr: 0.0010 - 73s/epoch - 17ms/step
Epoch 44/75
4378/4378 - 74s - loss: 0.2775 - accuracy: 0.8692 - val_loss: 0.3685 - val_accuracy: 0.7756 - lr: 0.0010 - 74s/epoch - 17ms/step
Epoch 45/75
4378/4378 - 73s - loss: 0.2770 - accuracy: 0.8690 - val_loss: 0.3803 - val_accuracy: 0.7624 - lr: 0.0010 - 73s/epoch - 17ms/step
Epoch 46/75
4378/4378 - 73s - loss: 0.2769 - accuracy: 0.8694 - val_loss: 0.3760 - val_accuracy: 0.7947 - lr: 0.0010 - 73s/epoch - 17ms/step
Epoch 47/75
4378/4378 - 73s - loss: 0.2767 - accuracy: 0.8698 - val_loss: 0.3647 - val_accuracy: 0.7798 - lr: 0.0010 - 73s/epoch - 17ms/step
Epoch 48/75
4378/4378 - 73s - loss: 0.2768 - accuracy: 0.8694 - val_loss: 0.3624 - val_accuracy: 0.7798 - lr: 0.0010 - 73s/epoch - 17ms/step
Epoch 49/75
4378/4378 - 73s - loss: 0.2774 - accuracy: 0.8685 - val_loss: 0.3481 - val_accuracy: 0.8004 - lr: 0.0010 - 73s/epoch - 17ms/step
Epoch 50/75
4378/4378 - 73s - loss: 0.2768 - accuracy: 0.8685 - val_loss: 0.3600 - val_accuracy: 0.7938 - lr: 0.0010 - 73s/epoch - 17ms/step
Epoch 51/75
4378/4378 - 73s - loss: 0.2771 - accuracy: 0.8696 - val_loss: 0.3633 - val_accuracy: 0.7829 - lr: 0.0010 - 73s/epoch - 17ms/step
Epoch 52/75
4378/4378 - 73s - loss: 0.2771 - accuracy: 0.8702 - val_loss: 0.3549 - val_accuracy: 0.7967 - lr: 0.0010 - 73s/epoch - 17ms/step
Epoch 53/75
4378/4378 - 73s - loss: 0.2776 - accuracy: 0.8678 - val_loss: 0.3528 - val_accuracy: 0.8006 - lr: 0.0010 - 73s/epoch - 17ms/step
Epoch 54/75
4378/4378 - 73s - loss: 0.2763 - accuracy: 0.8704 - val_loss: 0.3603 - val_accuracy: 0.8038 - lr: 0.0010 - 73s/epoch - 17ms/step
Epoch 55/75
4378/4378 - 73s - loss: 0.2774 - accuracy: 0.8684 - val_loss: 0.3868 - val_accuracy: 0.7460 - lr: 0.0010 - 73s/epoch - 17ms/step
Epoch 56/75
4378/4378 - 73s - loss: 0.2769 - accuracy: 0.8682 - val_loss: 0.3783 - val_accuracy: 0.7933 - lr: 0.0010 - 73s/epoch - 17ms/step
Epoch 57/75
4378/4378 - 73s - loss: 0.2772 - accuracy: 0.8684 - val_loss: 0.3519 - val_accuracy: 0.7884 - lr: 0.0010 - 73s/epoch - 17ms/step
Epoch 58/75
4378/4378 - 73s - loss: 0.2780 - accuracy: 0.8683 - val_loss: 0.3850 - val_accuracy: 0.7536 - lr: 0.0010 - 73s/epoch - 17ms/step
Epoch 59/75
4378/4378 - 73s - loss: 0.2768 - accuracy: 0.8692 - val_loss: 0.3637 - val_accuracy: 0.7810 - lr: 0.0010 - 73s/epoch - 17ms/step
Epoch 60/75
4378/4378 - 73s - loss: 0.2762 - accuracy: 0.8713 - val_loss: 0.3972 - val_accuracy: 0.7597 - lr: 0.0010 - 73s/epoch - 17ms/step
Epoch 61/75
4378/4378 - 73s - loss: 0.2769 - accuracy: 0.8693 - val_loss: 0.3920 - val_accuracy: 0.7639 - lr: 0.0010 - 73s/epoch - 17ms/step
Epoch 62/75
4378/4378 - 73s - loss: 0.2772 - accuracy: 0.8697 - val_loss: 0.3605 - val_accuracy: 0.8049 - lr: 0.0010 - 73s/epoch - 17ms/step
Epoch 63/75
4378/4378 - 73s - loss: 0.2771 - accuracy: 0.8691 - val_loss: 0.3705 - val_accuracy: 0.8085 - lr: 0.0010 - 73s/epoch - 17ms/step
Epoch 64/75
4378/4378 - 73s - loss: 0.2775 - accuracy: 0.8688 - val_loss: 0.3508 - val_accuracy: 0.8020 - lr: 0.0010 - 73s/epoch - 17ms/step
Epoch 65/75
4378/4378 - 73s - loss: 0.2780 - accuracy: 0.8669 - val_loss: 0.3904 - val_accuracy: 0.7732 - lr: 0.0010 - 73s/epoch - 17ms/step
Epoch 66/75
4378/4378 - 73s - loss: 0.2763 - accuracy: 0.8712 - val_loss: 0.3742 - val_accuracy: 0.7673 - lr: 0.0010 - 73s/epoch - 17ms/step
Epoch 67/75
4378/4378 - 73s - loss: 0.2777 - accuracy: 0.8682 - val_loss: 0.3409 - val_accuracy: 0.8216 - lr: 0.0010 - 73s/epoch - 17ms/step
Epoch 68/75
4378/4378 - 73s - loss: 0.2776 - accuracy: 0.8674 - val_loss: 0.3614 - val_accuracy: 0.7815 - lr: 0.0010 - 73s/epoch - 17ms/step
Epoch 69/75
4378/4378 - 73s - loss: 0.2775 - accuracy: 0.8677 - val_loss: 0.4154 - val_accuracy: 0.7348 - lr: 0.0010 - 73s/epoch - 17ms/step
Epoch 70/75
4378/4378 - 73s - loss: 0.2777 - accuracy: 0.8678 - val_loss: 0.3621 - val_accuracy: 0.7917 - lr: 0.0010 - 73s/epoch - 17ms/step
Epoch 71/75
4378/4378 - 74s - loss: 0.2765 - accuracy: 0.8699 - val_loss: 0.3827 - val_accuracy: 0.7638 - lr: 0.0010 - 74s/epoch - 17ms/step
Epoch 72/75
4378/4378 - 73s - loss: 0.2771 - accuracy: 0.8695 - val_loss: 0.3572 - val_accuracy: 0.8035 - lr: 0.0010 - 73s/epoch - 17ms/step
Epoch 73/75
4378/4378 - 73s - loss: 0.2770 - accuracy: 0.8691 - val_loss: 0.3668 - val_accuracy: 0.7863 - lr: 0.0010 - 73s/epoch - 17ms/step
Epoch 74/75
4378/4378 - 74s - loss: 0.2775 - accuracy: 0.8676 - val_loss: 0.3633 - val_accuracy: 0.8076 - lr: 0.0010 - 74s/epoch - 17ms/step
Epoch 75/75
4378/4378 - 74s - loss: 0.2762 - accuracy: 0.8687 - val_loss: 0.3710 - val_accuracy: 0.7821 - lr: 0.0010 - 74s/epoch - 17ms/step
fitting with batch size: 100
Epoch 1/75
876/876 - 20s - loss: 0.2612 - accuracy: 0.8942 - val_loss: 0.3770 - val_accuracy: 0.7916 - lr: 0.0010 - 20s/epoch - 23ms/step
Epoch 2/75
876/876 - 18s - loss: 0.2580 - accuracy: 0.9003 - val_loss: 0.3952 - val_accuracy: 0.7770 - lr: 0.0010 - 18s/epoch - 21ms/step
Epoch 3/75
876/876 - 18s - loss: 0.2552 - accuracy: 0.9044 - val_loss: 0.3552 - val_accuracy: 0.8171 - lr: 0.0010 - 18s/epoch - 20ms/step
Epoch 4/75
876/876 - 18s - loss: 0.2533 - accuracy: 0.9074 - val_loss: 0.3975 - val_accuracy: 0.7823 - lr: 0.0010 - 18s/epoch - 21ms/step
Epoch 5/75
876/876 - 18s - loss: 0.2528 - accuracy: 0.9087 - val_loss: 0.3857 - val_accuracy: 0.7975 - lr: 0.0010 - 18s/epoch - 20ms/step
Epoch 6/75
876/876 - 18s - loss: 0.2524 - accuracy: 0.9098 - val_loss: 0.3934 - val_accuracy: 0.7817 - lr: 0.0010 - 18s/epoch - 21ms/step
Epoch 7/75
876/876 - 18s - loss: 0.2518 - accuracy: 0.9099 - val_loss: 0.3858 - val_accuracy: 0.7983 - lr: 0.0010 - 18s/epoch - 21ms/step
Epoch 8/75
876/876 - 18s - loss: 0.2505 - accuracy: 0.9120 - val_loss: 0.3805 - val_accuracy: 0.8021 - lr: 0.0010 - 18s/epoch - 21ms/step
Epoch 9/75
876/876 - 18s - loss: 0.2501 - accuracy: 0.9129 - val_loss: 0.4048 - val_accuracy: 0.7801 - lr: 0.0010 - 18s/epoch - 21ms/step
Epoch 10/75
876/876 - 18s - loss: 0.2494 - accuracy: 0.9137 - val_loss: 0.3970 - val_accuracy: 0.7780 - lr: 0.0010 - 18s/epoch - 21ms/step
Epoch 11/75
876/876 - 18s - loss: 0.2497 - accuracy: 0.9124 - val_loss: 0.4011 - val_accuracy: 0.7767 - lr: 0.0010 - 18s/epoch - 21ms/step
Epoch 12/75
876/876 - 18s - loss: 0.2493 - accuracy: 0.9135 - val_loss: 0.4078 - val_accuracy: 0.7755 - lr: 0.0010 - 18s/epoch - 21ms/step
Epoch 13/75
876/876 - 18s - loss: 0.2484 - accuracy: 0.9157 - val_loss: 0.4104 - val_accuracy: 0.7716 - lr: 0.0010 - 18s/epoch - 21ms/step
Epoch 14/75
876/876 - 18s - loss: 0.2484 - accuracy: 0.9152 - val_loss: 0.3826 - val_accuracy: 0.7987 - lr: 0.0010 - 18s/epoch - 21ms/step
Epoch 15/75
876/876 - 18s - loss: 0.2490 - accuracy: 0.9144 - val_loss: 0.4168 - val_accuracy: 0.7748 - lr: 0.0010 - 18s/epoch - 21ms/step
Epoch 16/75
876/876 - 18s - loss: 0.2480 - accuracy: 0.9165 - val_loss: 0.4221 - val_accuracy: 0.7695 - lr: 0.0010 - 18s/epoch - 21ms/step
Epoch 17/75
876/876 - 18s - loss: 0.2480 - accuracy: 0.9169 - val_loss: 0.4138 - val_accuracy: 0.7695 - lr: 0.0010 - 18s/epoch - 21ms/step
Epoch 18/75
876/876 - 18s - loss: 0.2480 - accuracy: 0.9167 - val_loss: 0.3827 - val_accuracy: 0.7859 - lr: 0.0010 - 18s/epoch - 21ms/step
Epoch 19/75
876/876 - 18s - loss: 0.2470 - accuracy: 0.9175 - val_loss: 0.4063 - val_accuracy: 0.7813 - lr: 0.0010 - 18s/epoch - 21ms/step
Epoch 20/75
876/876 - 18s - loss: 0.2471 - accuracy: 0.9181 - val_loss: 0.3932 - val_accuracy: 0.7932 - lr: 0.0010 - 18s/epoch - 21ms/step
Epoch 21/75
876/876 - 18s - loss: 0.2469 - accuracy: 0.9175 - val_loss: 0.4105 - val_accuracy: 0.7694 - lr: 0.0010 - 18s/epoch - 21ms/step
Epoch 22/75
876/876 - 18s - loss: 0.2460 - accuracy: 0.9189 - val_loss: 0.4104 - val_accuracy: 0.7848 - lr: 0.0010 - 18s/epoch - 21ms/step
Epoch 23/75
876/876 - 18s - loss: 0.2467 - accuracy: 0.9191 - val_loss: 0.4224 - val_accuracy: 0.7637 - lr: 0.0010 - 18s/epoch - 21ms/step
Epoch 24/75
876/876 - 18s - loss: 0.2466 - accuracy: 0.9188 - val_loss: 0.4162 - val_accuracy: 0.7766 - lr: 0.0010 - 18s/epoch - 21ms/step
Epoch 25/75
876/876 - 18s - loss: 0.2462 - accuracy: 0.9203 - val_loss: 0.4345 - val_accuracy: 0.7711 - lr: 0.0010 - 18s/epoch - 21ms/step
Epoch 26/75
876/876 - 18s - loss: 0.2458 - accuracy: 0.9189 - val_loss: 0.4033 - val_accuracy: 0.7844 - lr: 0.0010 - 18s/epoch - 21ms/step
Epoch 27/75
876/876 - 18s - loss: 0.2455 - accuracy: 0.9209 - val_loss: 0.4129 - val_accuracy: 0.7838 - lr: 0.0010 - 18s/epoch - 20ms/step
Epoch 28/75
876/876 - 18s - loss: 0.2455 - accuracy: 0.9193 - val_loss: 0.4171 - val_accuracy: 0.7709 - lr: 0.0010 - 18s/epoch - 21ms/step
Epoch 29/75
876/876 - 18s - loss: 0.2447 - accuracy: 0.9216 - val_loss: 0.4208 - val_accuracy: 0.7750 - lr: 0.0010 - 18s/epoch - 21ms/step
Epoch 30/75
876/876 - 18s - loss: 0.2458 - accuracy: 0.9202 - val_loss: 0.4066 - val_accuracy: 0.7920 - lr: 0.0010 - 18s/epoch - 21ms/step
Epoch 31/75
876/876 - 18s - loss: 0.2447 - accuracy: 0.9221 - val_loss: 0.4273 - val_accuracy: 0.7799 - lr: 0.0010 - 18s/epoch - 21ms/step
Epoch 32/75
876/876 - 18s - loss: 0.2453 - accuracy: 0.9207 - val_loss: 0.4103 - val_accuracy: 0.7840 - lr: 0.0010 - 18s/epoch - 21ms/step
Epoch 33/75
876/876 - 18s - loss: 0.2454 - accuracy: 0.9208 - val_loss: 0.4105 - val_accuracy: 0.7793 - lr: 0.0010 - 18s/epoch - 20ms/step
Epoch 34/75
876/876 - 18s - loss: 0.2441 - accuracy: 0.9227 - val_loss: 0.4120 - val_accuracy: 0.7865 - lr: 0.0010 - 18s/epoch - 21ms/step
Epoch 35/75
876/876 - 18s - loss: 0.2453 - accuracy: 0.9211 - val_loss: 0.3917 - val_accuracy: 0.7986 - lr: 0.0010 - 18s/epoch - 20ms/step
Epoch 36/75
876/876 - 18s - loss: 0.2441 - accuracy: 0.9225 - val_loss: 0.4433 - val_accuracy: 0.7603 - lr: 0.0010 - 18s/epoch - 21ms/step
Epoch 37/75
876/876 - 18s - loss: 0.2441 - accuracy: 0.9219 - val_loss: 0.4242 - val_accuracy: 0.7812 - lr: 0.0010 - 18s/epoch - 21ms/step
Epoch 38/75
876/876 - 18s - loss: 0.2446 - accuracy: 0.9217 - val_loss: 0.4259 - val_accuracy: 0.7746 - lr: 0.0010 - 18s/epoch - 21ms/step
Epoch 39/75
876/876 - 18s - loss: 0.2446 - accuracy: 0.9213 - val_loss: 0.4379 - val_accuracy: 0.7653 - lr: 0.0010 - 18s/epoch - 21ms/step
Epoch 40/75
876/876 - 18s - loss: 0.2437 - accuracy: 0.9234 - val_loss: 0.4244 - val_accuracy: 0.7738 - lr: 0.0010 - 18s/epoch - 21ms/step
Epoch 41/75
876/876 - 18s - loss: 0.2438 - accuracy: 0.9237 - val_loss: 0.4053 - val_accuracy: 0.7825 - lr: 0.0010 - 18s/epoch - 21ms/step
Epoch 42/75
876/876 - 18s - loss: 0.2440 - accuracy: 0.9226 - val_loss: 0.4303 - val_accuracy: 0.7716 - lr: 0.0010 - 18s/epoch - 20ms/step
Epoch 43/75
876/876 - 18s - loss: 0.2436 - accuracy: 0.9242 - val_loss: 0.4258 - val_accuracy: 0.7776 - lr: 0.0010 - 18s/epoch - 21ms/step
Epoch 44/75
876/876 - 18s - loss: 0.2439 - accuracy: 0.9235 - val_loss: 0.4087 - val_accuracy: 0.7761 - lr: 0.0010 - 18s/epoch - 20ms/step
Epoch 45/75
876/876 - 18s - loss: 0.2436 - accuracy: 0.9237 - val_loss: 0.4353 - val_accuracy: 0.7759 - lr: 0.0010 - 18s/epoch - 21ms/step
Epoch 46/75
876/876 - 18s - loss: 0.2431 - accuracy: 0.9250 - val_loss: 0.4391 - val_accuracy: 0.7666 - lr: 0.0010 - 18s/epoch - 21ms/step
Epoch 47/75
876/876 - 18s - loss: 0.2432 - accuracy: 0.9249 - val_loss: 0.4305 - val_accuracy: 0.7707 - lr: 0.0010 - 18s/epoch - 21ms/step
Epoch 48/75
876/876 - 18s - loss: 0.2424 - accuracy: 0.9261 - val_loss: 0.4410 - val_accuracy: 0.7645 - lr: 0.0010 - 18s/epoch - 20ms/step
Epoch 49/75
876/876 - 18s - loss: 0.2427 - accuracy: 0.9254 - val_loss: 0.4463 - val_accuracy: 0.7581 - lr: 0.0010 - 18s/epoch - 21ms/step
Epoch 50/75
876/876 - 18s - loss: 0.2434 - accuracy: 0.9244 - val_loss: 0.4118 - val_accuracy: 0.7799 - lr: 0.0010 - 18s/epoch - 21ms/step
Epoch 51/75
876/876 - 18s - loss: 0.2432 - accuracy: 0.9241 - val_loss: 0.4278 - val_accuracy: 0.7685 - lr: 0.0010 - 18s/epoch - 21ms/step
Epoch 52/75
876/876 - 18s - loss: 0.2430 - accuracy: 0.9246 - val_loss: 0.4466 - val_accuracy: 0.7620 - lr: 0.0010 - 18s/epoch - 21ms/step
Epoch 53/75
876/876 - 18s - loss: 0.2431 - accuracy: 0.9240 - val_loss: 0.4295 - val_accuracy: 0.7757 - lr: 0.0010 - 18s/epoch - 21ms/step
Epoch 54/75
876/876 - 18s - loss: 0.2430 - accuracy: 0.9244 - val_loss: 0.4706 - val_accuracy: 0.7353 - lr: 0.0010 - 18s/epoch - 21ms/step
Epoch 55/75
876/876 - 18s - loss: 0.2424 - accuracy: 0.9258 - val_loss: 0.4098 - val_accuracy: 0.7862 - lr: 0.0010 - 18s/epoch - 20ms/step
Epoch 56/75
876/876 - 18s - loss: 0.2430 - accuracy: 0.9237 - val_loss: 0.4092 - val_accuracy: 0.7825 - lr: 0.0010 - 18s/epoch - 21ms/step
Epoch 57/75
876/876 - 18s - loss: 0.2431 - accuracy: 0.9245 - val_loss: 0.4350 - val_accuracy: 0.7708 - lr: 0.0010 - 18s/epoch - 21ms/step
Epoch 58/75
876/876 - 18s - loss: 0.2423 - accuracy: 0.9254 - val_loss: 0.4359 - val_accuracy: 0.7797 - lr: 0.0010 - 18s/epoch - 20ms/step
Epoch 59/75
876/876 - 18s - loss: 0.2428 - accuracy: 0.9251 - val_loss: 0.4255 - val_accuracy: 0.7605 - lr: 0.0010 - 18s/epoch - 21ms/step
Epoch 60/75
876/876 - 18s - loss: 0.2425 - accuracy: 0.9250 - val_loss: 0.4497 - val_accuracy: 0.7751 - lr: 0.0010 - 18s/epoch - 21ms/step
Epoch 61/75
876/876 - 18s - loss: 0.2424 - accuracy: 0.9263 - val_loss: 0.4572 - val_accuracy: 0.7573 - lr: 0.0010 - 18s/epoch - 21ms/step
Epoch 62/75
876/876 - 18s - loss: 0.2415 - accuracy: 0.9276 - val_loss: 0.4256 - val_accuracy: 0.7842 - lr: 0.0010 - 18s/epoch - 21ms/step
Epoch 63/75
876/876 - 18s - loss: 0.2423 - accuracy: 0.9257 - val_loss: 0.4336 - val_accuracy: 0.7771 - lr: 0.0010 - 18s/epoch - 21ms/step
Epoch 64/75
876/876 - 18s - loss: 0.2422 - accuracy: 0.9259 - val_loss: 0.4450 - val_accuracy: 0.7708 - lr: 0.0010 - 18s/epoch - 21ms/step
Epoch 65/75
876/876 - 18s - loss: 0.2417 - accuracy: 0.9260 - val_loss: 0.4283 - val_accuracy: 0.7792 - lr: 0.0010 - 18s/epoch - 21ms/step
Epoch 66/75
876/876 - 18s - loss: 0.2418 - accuracy: 0.9272 - val_loss: 0.4331 - val_accuracy: 0.7595 - lr: 0.0010 - 18s/epoch - 20ms/step
Epoch 67/75
876/876 - 18s - loss: 0.2417 - accuracy: 0.9274 - val_loss: 0.4324 - val_accuracy: 0.7665 - lr: 0.0010 - 18s/epoch - 21ms/step
Epoch 68/75
876/876 - 18s - loss: 0.2413 - accuracy: 0.9278 - val_loss: 0.4410 - val_accuracy: 0.7711 - lr: 0.0010 - 18s/epoch - 21ms/step
Epoch 69/75
876/876 - 18s - loss: 0.2417 - accuracy: 0.9262 - val_loss: 0.4282 - val_accuracy: 0.7812 - lr: 0.0010 - 18s/epoch - 21ms/step
Epoch 70/75
876/876 - 18s - loss: 0.2419 - accuracy: 0.9263 - val_loss: 0.4442 - val_accuracy: 0.7638 - lr: 0.0010 - 18s/epoch - 20ms/step
Epoch 71/75
876/876 - 18s - loss: 0.2422 - accuracy: 0.9255 - val_loss: 0.4066 - val_accuracy: 0.7919 - lr: 0.0010 - 18s/epoch - 20ms/step
Epoch 72/75
876/876 - 18s - loss: 0.2419 - accuracy: 0.9267 - val_loss: 0.4344 - val_accuracy: 0.7675 - lr: 0.0010 - 18s/epoch - 21ms/step
Epoch 73/75
876/876 - 18s - loss: 0.2425 - accuracy: 0.9249 - val_loss: 0.4449 - val_accuracy: 0.7651 - lr: 0.0010 - 18s/epoch - 21ms/step
Epoch 74/75
876/876 - 18s - loss: 0.2414 - accuracy: 0.9275 - val_loss: 0.4411 - val_accuracy: 0.7634 - lr: 0.0010 - 18s/epoch - 21ms/step
Epoch 75/75
876/876 - 18s - loss: 0.2409 - accuracy: 0.9286 - val_loss: 0.4533 - val_accuracy: 0.7587 - lr: 0.0010 - 18s/epoch - 20ms/step
fitting with batch size: 500
Epoch 1/75
176/176 - 12s - loss: 0.2328 - accuracy: 0.9418 - val_loss: 0.4633 - val_accuracy: 0.7708 - lr: 0.0010 - 12s/epoch - 68ms/step
Epoch 2/75
176/176 - 10s - loss: 0.2319 - accuracy: 0.9436 - val_loss: 0.5015 - val_accuracy: 0.7494 - lr: 0.0010 - 10s/epoch - 56ms/step
Epoch 3/75
176/176 - 10s - loss: 0.2308 - accuracy: 0.9444 - val_loss: 0.4791 - val_accuracy: 0.7698 - lr: 0.0010 - 10s/epoch - 55ms/step
Epoch 4/75
176/176 - 10s - loss: 0.2308 - accuracy: 0.9448 - val_loss: 0.4934 - val_accuracy: 0.7577 - lr: 0.0010 - 10s/epoch - 55ms/step
Epoch 5/75
176/176 - 10s - loss: 0.2300 - accuracy: 0.9464 - val_loss: 0.5031 - val_accuracy: 0.7572 - lr: 0.0010 - 10s/epoch - 56ms/step
Epoch 6/75
176/176 - 10s - loss: 0.2300 - accuracy: 0.9461 - val_loss: 0.4898 - val_accuracy: 0.7532 - lr: 0.0010 - 10s/epoch - 55ms/step
Epoch 7/75
176/176 - 10s - loss: 0.2300 - accuracy: 0.9462 - val_loss: 0.5082 - val_accuracy: 0.7499 - lr: 0.0010 - 10s/epoch - 55ms/step
Epoch 8/75
176/176 - 10s - loss: 0.2291 - accuracy: 0.9470 - val_loss: 0.5066 - val_accuracy: 0.7570 - lr: 0.0010 - 10s/epoch - 56ms/step
Epoch 9/75
176/176 - 10s - loss: 0.2294 - accuracy: 0.9471 - val_loss: 0.5186 - val_accuracy: 0.7519 - lr: 0.0010 - 10s/epoch - 56ms/step
Epoch 10/75
176/176 - 10s - loss: 0.2283 - accuracy: 0.9488 - val_loss: 0.4928 - val_accuracy: 0.7634 - lr: 0.0010 - 10s/epoch - 55ms/step
Epoch 11/75
176/176 - 10s - loss: 0.2290 - accuracy: 0.9479 - val_loss: 0.4857 - val_accuracy: 0.7725 - lr: 0.0010 - 10s/epoch - 55ms/step
Epoch 12/75
176/176 - 10s - loss: 0.2288 - accuracy: 0.9487 - val_loss: 0.5253 - val_accuracy: 0.7466 - lr: 0.0010 - 10s/epoch - 56ms/step
Epoch 13/75
176/176 - 10s - loss: 0.2283 - accuracy: 0.9480 - val_loss: 0.5199 - val_accuracy: 0.7537 - lr: 0.0010 - 10s/epoch - 55ms/step
Epoch 14/75
176/176 - 10s - loss: 0.2290 - accuracy: 0.9475 - val_loss: 0.5409 - val_accuracy: 0.7316 - lr: 0.0010 - 10s/epoch - 55ms/step
Epoch 15/75
176/176 - 10s - loss: 0.2286 - accuracy: 0.9486 - val_loss: 0.5118 - val_accuracy: 0.7560 - lr: 0.0010 - 10s/epoch - 56ms/step
Epoch 16/75
176/176 - 10s - loss: 0.2282 - accuracy: 0.9489 - val_loss: 0.5182 - val_accuracy: 0.7592 - lr: 0.0010 - 10s/epoch - 55ms/step
Epoch 17/75
176/176 - 10s - loss: 0.2285 - accuracy: 0.9488 - val_loss: 0.5255 - val_accuracy: 0.7517 - lr: 0.0010 - 10s/epoch - 55ms/step
Epoch 18/75
176/176 - 10s - loss: 0.2284 - accuracy: 0.9489 - val_loss: 0.4976 - val_accuracy: 0.7644 - lr: 0.0010 - 10s/epoch - 55ms/step
Epoch 19/75
176/176 - 10s - loss: 0.2286 - accuracy: 0.9478 - val_loss: 0.5243 - val_accuracy: 0.7464 - lr: 0.0010 - 10s/epoch - 56ms/step
Epoch 20/75
176/176 - 10s - loss: 0.2280 - accuracy: 0.9497 - val_loss: 0.5137 - val_accuracy: 0.7563 - lr: 0.0010 - 10s/epoch - 55ms/step
Epoch 21/75
176/176 - 10s - loss: 0.2278 - accuracy: 0.9502 - val_loss: 0.5379 - val_accuracy: 0.7485 - lr: 0.0010 - 10s/epoch - 56ms/step
Epoch 22/75
176/176 - 10s - loss: 0.2282 - accuracy: 0.9487 - val_loss: 0.5354 - val_accuracy: 0.7470 - lr: 0.0010 - 10s/epoch - 56ms/step
Epoch 23/75
176/176 - 10s - loss: 0.2280 - accuracy: 0.9496 - val_loss: 0.5105 - val_accuracy: 0.7580 - lr: 0.0010 - 10s/epoch - 55ms/step
Epoch 24/75
176/176 - 10s - loss: 0.2278 - accuracy: 0.9501 - val_loss: 0.5238 - val_accuracy: 0.7475 - lr: 0.0010 - 10s/epoch - 55ms/step
Epoch 25/75
176/176 - 10s - loss: 0.2281 - accuracy: 0.9491 - val_loss: 0.5116 - val_accuracy: 0.7529 - lr: 0.0010 - 10s/epoch - 56ms/step
Epoch 26/75
176/176 - 10s - loss: 0.2281 - accuracy: 0.9493 - val_loss: 0.5178 - val_accuracy: 0.7537 - lr: 0.0010 - 10s/epoch - 56ms/step
Epoch 27/75
176/176 - 10s - loss: 0.2276 - accuracy: 0.9503 - val_loss: 0.5270 - val_accuracy: 0.7469 - lr: 0.0010 - 10s/epoch - 55ms/step
Epoch 28/75
176/176 - 10s - loss: 0.2270 - accuracy: 0.9510 - val_loss: 0.5273 - val_accuracy: 0.7583 - lr: 0.0010 - 10s/epoch - 56ms/step
Epoch 29/75
176/176 - 10s - loss: 0.2278 - accuracy: 0.9499 - val_loss: 0.5182 - val_accuracy: 0.7555 - lr: 0.0010 - 10s/epoch - 55ms/step
Epoch 30/75
176/176 - 10s - loss: 0.2276 - accuracy: 0.9501 - val_loss: 0.5105 - val_accuracy: 0.7602 - lr: 0.0010 - 10s/epoch - 55ms/step
Epoch 31/75
176/176 - 10s - loss: 0.2273 - accuracy: 0.9506 - val_loss: 0.5156 - val_accuracy: 0.7581 - lr: 0.0010 - 10s/epoch - 55ms/step
Epoch 32/75
176/176 - 10s - loss: 0.2276 - accuracy: 0.9499 - val_loss: 0.5430 - val_accuracy: 0.7392 - lr: 0.0010 - 10s/epoch - 56ms/step
Epoch 33/75
176/176 - 10s - loss: 0.2272 - accuracy: 0.9506 - val_loss: 0.5310 - val_accuracy: 0.7506 - lr: 0.0010 - 10s/epoch - 55ms/step
Epoch 34/75
176/176 - 10s - loss: 0.2279 - accuracy: 0.9495 - val_loss: 0.5284 - val_accuracy: 0.7558 - lr: 0.0010 - 10s/epoch - 55ms/step
Epoch 35/75
176/176 - 10s - loss: 0.2272 - accuracy: 0.9505 - val_loss: 0.5209 - val_accuracy: 0.7602 - lr: 0.0010 - 10s/epoch - 56ms/step
Epoch 36/75
176/176 - 10s - loss: 0.2273 - accuracy: 0.9505 - val_loss: 0.5162 - val_accuracy: 0.7603 - lr: 0.0010 - 10s/epoch - 56ms/step
Epoch 37/75
176/176 - 10s - loss: 0.2270 - accuracy: 0.9506 - val_loss: 0.5428 - val_accuracy: 0.7427 - lr: 0.0010 - 10s/epoch - 55ms/step
Epoch 38/75
176/176 - 10s - loss: 0.2268 - accuracy: 0.9509 - val_loss: 0.5470 - val_accuracy: 0.7440 - lr: 0.0010 - 10s/epoch - 55ms/step
Epoch 39/75
176/176 - 10s - loss: 0.2268 - accuracy: 0.9508 - val_loss: 0.5130 - val_accuracy: 0.7644 - lr: 0.0010 - 10s/epoch - 56ms/step
Epoch 40/75
176/176 - 10s - loss: 0.2268 - accuracy: 0.9512 - val_loss: 0.5444 - val_accuracy: 0.7472 - lr: 0.0010 - 10s/epoch - 55ms/step
Epoch 41/75
176/176 - 10s - loss: 0.2258 - accuracy: 0.9526 - val_loss: 0.5616 - val_accuracy: 0.7326 - lr: 0.0010 - 10s/epoch - 55ms/step
Epoch 42/75
176/176 - 10s - loss: 0.2271 - accuracy: 0.9509 - val_loss: 0.5207 - val_accuracy: 0.7579 - lr: 0.0010 - 10s/epoch - 56ms/step
Epoch 43/75
176/176 - 10s - loss: 0.2261 - accuracy: 0.9531 - val_loss: 0.5581 - val_accuracy: 0.7315 - lr: 0.0010 - 10s/epoch - 56ms/step
Epoch 44/75
176/176 - 10s - loss: 0.2268 - accuracy: 0.9520 - val_loss: 0.5374 - val_accuracy: 0.7512 - lr: 0.0010 - 10s/epoch - 55ms/step
Epoch 45/75
176/176 - 10s - loss: 0.2265 - accuracy: 0.9523 - val_loss: 0.5682 - val_accuracy: 0.7347 - lr: 0.0010 - 10s/epoch - 56ms/step
Epoch 46/75
176/176 - 10s - loss: 0.2254 - accuracy: 0.9540 - val_loss: 0.5742 - val_accuracy: 0.7315 - lr: 0.0010 - 10s/epoch - 56ms/step
Epoch 47/75
176/176 - 10s - loss: 0.2262 - accuracy: 0.9521 - val_loss: 0.5521 - val_accuracy: 0.7413 - lr: 0.0010 - 10s/epoch - 55ms/step
Epoch 48/75
176/176 - 10s - loss: 0.2260 - accuracy: 0.9522 - val_loss: 0.5570 - val_accuracy: 0.7431 - lr: 0.0010 - 10s/epoch - 56ms/step
Epoch 49/75
176/176 - 10s - loss: 0.2267 - accuracy: 0.9518 - val_loss: 0.5563 - val_accuracy: 0.7428 - lr: 0.0010 - 10s/epoch - 56ms/step
Epoch 50/75
176/176 - 10s - loss: 0.2259 - accuracy: 0.9532 - val_loss: 0.5433 - val_accuracy: 0.7373 - lr: 0.0010 - 10s/epoch - 55ms/step
Epoch 51/75
176/176 - 10s - loss: 0.2265 - accuracy: 0.9526 - val_loss: 0.5404 - val_accuracy: 0.7410 - lr: 0.0010 - 10s/epoch - 55ms/step
Epoch 52/75
176/176 - 10s - loss: 0.2268 - accuracy: 0.9515 - val_loss: 0.5608 - val_accuracy: 0.7368 - lr: 0.0010 - 10s/epoch - 56ms/step
Epoch 53/75
176/176 - 10s - loss: 0.2260 - accuracy: 0.9526 - val_loss: 0.5238 - val_accuracy: 0.7605 - lr: 0.0010 - 10s/epoch - 55ms/step
Epoch 54/75
176/176 - 10s - loss: 0.2262 - accuracy: 0.9529 - val_loss: 0.5456 - val_accuracy: 0.7442 - lr: 0.0010 - 10s/epoch - 55ms/step
Epoch 55/75
176/176 - 10s - loss: 0.2257 - accuracy: 0.9538 - val_loss: 0.5332 - val_accuracy: 0.7484 - lr: 0.0010 - 10s/epoch - 55ms/step
Epoch 56/75
176/176 - 10s - loss: 0.2268 - accuracy: 0.9523 - val_loss: 0.5333 - val_accuracy: 0.7540 - lr: 0.0010 - 10s/epoch - 56ms/step
Epoch 57/75
176/176 - 10s - loss: 0.2260 - accuracy: 0.9529 - val_loss: 0.5531 - val_accuracy: 0.7501 - lr: 0.0010 - 10s/epoch - 55ms/step
Epoch 58/75
176/176 - 10s - loss: 0.2260 - accuracy: 0.9539 - val_loss: 0.5450 - val_accuracy: 0.7479 - lr: 0.0010 - 10s/epoch - 55ms/step
Epoch 59/75
176/176 - 10s - loss: 0.2264 - accuracy: 0.9524 - val_loss: 0.5393 - val_accuracy: 0.7477 - lr: 0.0010 - 10s/epoch - 55ms/step
Epoch 60/75
176/176 - 10s - loss: 0.2253 - accuracy: 0.9540 - val_loss: 0.5790 - val_accuracy: 0.7271 - lr: 0.0010 - 10s/epoch - 55ms/step
Epoch 61/75
176/176 - 10s - loss: 0.2258 - accuracy: 0.9531 - val_loss: 0.5373 - val_accuracy: 0.7471 - lr: 0.0010 - 10s/epoch - 55ms/step
Epoch 62/75
176/176 - 10s - loss: 0.2259 - accuracy: 0.9526 - val_loss: 0.5309 - val_accuracy: 0.7576 - lr: 0.0010 - 10s/epoch - 55ms/step
Epoch 63/75
176/176 - 10s - loss: 0.2259 - accuracy: 0.9527 - val_loss: 0.5557 - val_accuracy: 0.7472 - lr: 0.0010 - 10s/epoch - 56ms/step
Epoch 64/75
176/176 - 10s - loss: 0.2259 - accuracy: 0.9527 - val_loss: 0.5584 - val_accuracy: 0.7410 - lr: 0.0010 - 10s/epoch - 55ms/step
Epoch 65/75
176/176 - 10s - loss: 0.2256 - accuracy: 0.9535 - val_loss: 0.5471 - val_accuracy: 0.7565 - lr: 0.0010 - 10s/epoch - 55ms/step
Epoch 66/75
176/176 - 10s - loss: 0.2259 - accuracy: 0.9531 - val_loss: 0.5475 - val_accuracy: 0.7452 - lr: 0.0010 - 10s/epoch - 55ms/step
Epoch 67/75
176/176 - 10s - loss: 0.2254 - accuracy: 0.9536 - val_loss: 0.5531 - val_accuracy: 0.7419 - lr: 0.0010 - 10s/epoch - 55ms/step
Epoch 68/75
176/176 - 10s - loss: 0.2259 - accuracy: 0.9528 - val_loss: 0.5520 - val_accuracy: 0.7282 - lr: 0.0010 - 10s/epoch - 55ms/step
Epoch 69/75
176/176 - 10s - loss: 0.2257 - accuracy: 0.9535 - val_loss: 0.5508 - val_accuracy: 0.7439 - lr: 0.0010 - 10s/epoch - 55ms/step
Epoch 70/75
176/176 - 10s - loss: 0.2258 - accuracy: 0.9528 - val_loss: 0.5408 - val_accuracy: 0.7537 - lr: 0.0010 - 10s/epoch - 56ms/step
Epoch 71/75
176/176 - 10s - loss: 0.2253 - accuracy: 0.9540 - val_loss: 0.5498 - val_accuracy: 0.7363 - lr: 0.0010 - 10s/epoch - 55ms/step
Epoch 72/75
176/176 - 10s - loss: 0.2252 - accuracy: 0.9538 - val_loss: 0.5375 - val_accuracy: 0.7503 - lr: 0.0010 - 10s/epoch - 55ms/step
Epoch 73/75
176/176 - 10s - loss: 0.2250 - accuracy: 0.9544 - val_loss: 0.5514 - val_accuracy: 0.7402 - lr: 0.0010 - 10s/epoch - 55ms/step
Epoch 74/75
176/176 - 10s - loss: 0.2259 - accuracy: 0.9529 - val_loss: 0.5321 - val_accuracy: 0.7458 - lr: 0.0010 - 10s/epoch - 55ms/step
Epoch 75/75
176/176 - 10s - loss: 0.2255 - accuracy: 0.9535 - val_loss: 0.5507 - val_accuracy: 0.7498 - lr: 0.0010 - 10s/epoch - 55ms/step
Epoch number: 100
fitting with batch size: 20
Epoch 1/100
4378/4378 - 76s - loss: 0.2611 - accuracy: 0.8971 - val_loss: 0.3931 - val_accuracy: 0.7658 - lr: 0.0010 - 76s/epoch - 17ms/step
Epoch 2/100
4378/4378 - 73s - loss: 0.2661 - accuracy: 0.8859 - val_loss: 0.3514 - val_accuracy: 0.8047 - lr: 0.0010 - 73s/epoch - 17ms/step
Epoch 3/100
4378/4378 - 73s - loss: 0.2682 - accuracy: 0.8838 - val_loss: 0.3777 - val_accuracy: 0.7731 - lr: 0.0010 - 73s/epoch - 17ms/step
Epoch 4/100
4378/4378 - 73s - loss: 0.2688 - accuracy: 0.8818 - val_loss: 0.3927 - val_accuracy: 0.7740 - lr: 0.0010 - 73s/epoch - 17ms/step
Epoch 5/100
4378/4378 - 73s - loss: 0.2694 - accuracy: 0.8816 - val_loss: 0.3552 - val_accuracy: 0.7858 - lr: 0.0010 - 73s/epoch - 17ms/step
Epoch 6/100
4378/4378 - 73s - loss: 0.2690 - accuracy: 0.8831 - val_loss: 0.3660 - val_accuracy: 0.7935 - lr: 0.0010 - 73s/epoch - 17ms/step
Epoch 7/100
4378/4378 - 73s - loss: 0.2690 - accuracy: 0.8823 - val_loss: 0.3827 - val_accuracy: 0.7860 - lr: 0.0010 - 73s/epoch - 17ms/step
Epoch 8/100
4378/4378 - 73s - loss: 0.2692 - accuracy: 0.8830 - val_loss: 0.3905 - val_accuracy: 0.7680 - lr: 0.0010 - 73s/epoch - 17ms/step
Epoch 9/100
4378/4378 - 73s - loss: 0.2699 - accuracy: 0.8809 - val_loss: 0.3764 - val_accuracy: 0.7849 - lr: 0.0010 - 73s/epoch - 17ms/step
Epoch 10/100
4378/4378 - 73s - loss: 0.2690 - accuracy: 0.8817 - val_loss: 0.3788 - val_accuracy: 0.7928 - lr: 0.0010 - 73s/epoch - 17ms/step
Epoch 11/100
4378/4378 - 74s - loss: 0.2702 - accuracy: 0.8796 - val_loss: 0.4062 - val_accuracy: 0.7579 - lr: 0.0010 - 74s/epoch - 17ms/step
Epoch 12/100
4378/4378 - 73s - loss: 0.2701 - accuracy: 0.8802 - val_loss: 0.3756 - val_accuracy: 0.7787 - lr: 0.0010 - 73s/epoch - 17ms/step
Epoch 13/100
4378/4378 - 73s - loss: 0.2702 - accuracy: 0.8809 - val_loss: 0.3516 - val_accuracy: 0.8118 - lr: 0.0010 - 73s/epoch - 17ms/step
Epoch 14/100
4378/4378 - 73s - loss: 0.2703 - accuracy: 0.8799 - val_loss: 0.3747 - val_accuracy: 0.7989 - lr: 0.0010 - 73s/epoch - 17ms/step
Epoch 15/100
4378/4378 - 73s - loss: 0.2706 - accuracy: 0.8797 - val_loss: 0.3806 - val_accuracy: 0.7878 - lr: 0.0010 - 73s/epoch - 17ms/step
Epoch 16/100
4378/4378 - 73s - loss: 0.2705 - accuracy: 0.8796 - val_loss: 0.3857 - val_accuracy: 0.7774 - lr: 0.0010 - 73s/epoch - 17ms/step
Epoch 17/100
4378/4378 - 73s - loss: 0.2713 - accuracy: 0.8790 - val_loss: 0.3739 - val_accuracy: 0.7930 - lr: 0.0010 - 73s/epoch - 17ms/step
Epoch 18/100
4378/4378 - 73s - loss: 0.2716 - accuracy: 0.8791 - val_loss: 0.3732 - val_accuracy: 0.7990 - lr: 0.0010 - 73s/epoch - 17ms/step
Epoch 19/100
4378/4378 - 73s - loss: 0.2714 - accuracy: 0.8771 - val_loss: 0.3757 - val_accuracy: 0.7964 - lr: 0.0010 - 73s/epoch - 17ms/step
Epoch 20/100
4378/4378 - 73s - loss: 0.2713 - accuracy: 0.8793 - val_loss: 0.3717 - val_accuracy: 0.7961 - lr: 0.0010 - 73s/epoch - 17ms/step
Epoch 21/100
4378/4378 - 74s - loss: 0.2722 - accuracy: 0.8779 - val_loss: 0.3733 - val_accuracy: 0.7974 - lr: 0.0010 - 74s/epoch - 17ms/step
Epoch 22/100
4378/4378 - 73s - loss: 0.2714 - accuracy: 0.8779 - val_loss: 0.3835 - val_accuracy: 0.7727 - lr: 0.0010 - 73s/epoch - 17ms/step
Epoch 23/100
4378/4378 - 74s - loss: 0.2717 - accuracy: 0.8781 - val_loss: 0.3985 - val_accuracy: 0.7702 - lr: 0.0010 - 74s/epoch - 17ms/step
Epoch 24/100
4378/4378 - 74s - loss: 0.2713 - accuracy: 0.8785 - val_loss: 0.3966 - val_accuracy: 0.7742 - lr: 0.0010 - 74s/epoch - 17ms/step
Epoch 25/100
4378/4378 - 73s - loss: 0.2717 - accuracy: 0.8778 - val_loss: 0.3663 - val_accuracy: 0.7924 - lr: 0.0010 - 73s/epoch - 17ms/step
Epoch 26/100
4378/4378 - 73s - loss: 0.2727 - accuracy: 0.8759 - val_loss: 0.3837 - val_accuracy: 0.8013 - lr: 0.0010 - 73s/epoch - 17ms/step
Epoch 27/100
4378/4378 - 73s - loss: 0.2717 - accuracy: 0.8787 - val_loss: 0.3814 - val_accuracy: 0.7846 - lr: 0.0010 - 73s/epoch - 17ms/step
Epoch 28/100
4378/4378 - 73s - loss: 0.2706 - accuracy: 0.8804 - val_loss: 0.3894 - val_accuracy: 0.7693 - lr: 0.0010 - 73s/epoch - 17ms/step
Epoch 29/100
4378/4378 - 73s - loss: 0.2724 - accuracy: 0.8765 - val_loss: 0.3664 - val_accuracy: 0.7968 - lr: 0.0010 - 73s/epoch - 17ms/step
Epoch 30/100
4378/4378 - 73s - loss: 0.2715 - accuracy: 0.8799 - val_loss: 0.3898 - val_accuracy: 0.7780 - lr: 0.0010 - 73s/epoch - 17ms/step
Epoch 31/100
4378/4378 - 73s - loss: 0.2711 - accuracy: 0.8796 - val_loss: 0.3686 - val_accuracy: 0.8026 - lr: 0.0010 - 73s/epoch - 17ms/step
Epoch 32/100
4378/4378 - 73s - loss: 0.2712 - accuracy: 0.8786 - val_loss: 0.3640 - val_accuracy: 0.7924 - lr: 0.0010 - 73s/epoch - 17ms/step
Epoch 33/100
4378/4378 - 73s - loss: 0.2723 - accuracy: 0.8769 - val_loss: 0.3552 - val_accuracy: 0.8120 - lr: 0.0010 - 73s/epoch - 17ms/step
Epoch 34/100
4378/4378 - 73s - loss: 0.2723 - accuracy: 0.8756 - val_loss: 0.3788 - val_accuracy: 0.7918 - lr: 0.0010 - 73s/epoch - 17ms/step
Epoch 35/100
4378/4378 - 73s - loss: 0.2716 - accuracy: 0.8775 - val_loss: 0.3571 - val_accuracy: 0.8051 - lr: 0.0010 - 73s/epoch - 17ms/step
Epoch 36/100
4378/4378 - 73s - loss: 0.2720 - accuracy: 0.8776 - val_loss: 0.3476 - val_accuracy: 0.8293 - lr: 0.0010 - 73s/epoch - 17ms/step
Epoch 37/100
4378/4378 - 73s - loss: 0.2718 - accuracy: 0.8774 - val_loss: 0.3878 - val_accuracy: 0.7801 - lr: 0.0010 - 73s/epoch - 17ms/step
Epoch 38/100
4378/4378 - 73s - loss: 0.2722 - accuracy: 0.8772 - val_loss: 0.3659 - val_accuracy: 0.7986 - lr: 0.0010 - 73s/epoch - 17ms/step
Epoch 39/100
4378/4378 - 73s - loss: 0.2733 - accuracy: 0.8755 - val_loss: 0.3483 - val_accuracy: 0.8193 - lr: 0.0010 - 73s/epoch - 17ms/step
Epoch 40/100
4378/4378 - 73s - loss: 0.2719 - accuracy: 0.8769 - val_loss: 0.4032 - val_accuracy: 0.7584 - lr: 0.0010 - 73s/epoch - 17ms/step
Epoch 41/100
4378/4378 - 72s - loss: 0.2728 - accuracy: 0.8756 - val_loss: 0.3840 - val_accuracy: 0.7863 - lr: 0.0010 - 72s/epoch - 17ms/step
Epoch 42/100
4378/4378 - 73s - loss: 0.2713 - accuracy: 0.8780 - val_loss: 0.3886 - val_accuracy: 0.7871 - lr: 0.0010 - 73s/epoch - 17ms/step
Epoch 43/100
4378/4378 - 74s - loss: 0.2727 - accuracy: 0.8761 - val_loss: 0.3658 - val_accuracy: 0.7920 - lr: 0.0010 - 74s/epoch - 17ms/step
Epoch 44/100
4378/4378 - 73s - loss: 0.2714 - accuracy: 0.8784 - val_loss: 0.3867 - val_accuracy: 0.7943 - lr: 0.0010 - 73s/epoch - 17ms/step
Epoch 45/100
4378/4378 - 73s - loss: 0.2713 - accuracy: 0.8787 - val_loss: 0.3705 - val_accuracy: 0.7970 - lr: 0.0010 - 73s/epoch - 17ms/step
Epoch 46/100
4378/4378 - 73s - loss: 0.2725 - accuracy: 0.8763 - val_loss: 0.4156 - val_accuracy: 0.7563 - lr: 0.0010 - 73s/epoch - 17ms/step
Epoch 47/100
4378/4378 - 73s - loss: 0.2718 - accuracy: 0.8772 - val_loss: 0.3782 - val_accuracy: 0.7874 - lr: 0.0010 - 73s/epoch - 17ms/step
Epoch 48/100
4378/4378 - 73s - loss: 0.2722 - accuracy: 0.8776 - val_loss: 0.3776 - val_accuracy: 0.8090 - lr: 0.0010 - 73s/epoch - 17ms/step
Epoch 49/100
4378/4378 - 74s - loss: 0.2723 - accuracy: 0.8766 - val_loss: 0.3982 - val_accuracy: 0.7765 - lr: 0.0010 - 74s/epoch - 17ms/step
Epoch 50/100
4378/4378 - 73s - loss: 0.2709 - accuracy: 0.8803 - val_loss: 0.3532 - val_accuracy: 0.8208 - lr: 0.0010 - 73s/epoch - 17ms/step
Epoch 51/100
4378/4378 - 73s - loss: 0.2721 - accuracy: 0.8783 - val_loss: 0.3826 - val_accuracy: 0.7843 - lr: 0.0010 - 73s/epoch - 17ms/step
Epoch 52/100
4378/4378 - 73s - loss: 0.2716 - accuracy: 0.8780 - val_loss: 0.3809 - val_accuracy: 0.7855 - lr: 0.0010 - 73s/epoch - 17ms/step
Epoch 53/100
4378/4378 - 73s - loss: 0.2723 - accuracy: 0.8762 - val_loss: 0.4016 - val_accuracy: 0.7849 - lr: 0.0010 - 73s/epoch - 17ms/step
Epoch 54/100
4378/4378 - 73s - loss: 0.2723 - accuracy: 0.8774 - val_loss: 0.3542 - val_accuracy: 0.8084 - lr: 0.0010 - 73s/epoch - 17ms/step
Epoch 55/100
4378/4378 - 73s - loss: 0.2724 - accuracy: 0.8768 - val_loss: 0.3700 - val_accuracy: 0.7992 - lr: 0.0010 - 73s/epoch - 17ms/step
Epoch 56/100
4378/4378 - 73s - loss: 0.2726 - accuracy: 0.8759 - val_loss: 0.4351 - val_accuracy: 0.7296 - lr: 0.0010 - 73s/epoch - 17ms/step
Epoch 57/100
4378/4378 - 73s - loss: 0.2719 - accuracy: 0.8788 - val_loss: 0.3636 - val_accuracy: 0.7974 - lr: 0.0010 - 73s/epoch - 17ms/step
Epoch 58/100
4378/4378 - 73s - loss: 0.2720 - accuracy: 0.8766 - val_loss: 0.3660 - val_accuracy: 0.7957 - lr: 0.0010 - 73s/epoch - 17ms/step
Epoch 59/100
4378/4378 - 74s - loss: 0.2728 - accuracy: 0.8760 - val_loss: 0.3687 - val_accuracy: 0.7999 - lr: 0.0010 - 74s/epoch - 17ms/step
Epoch 60/100
4378/4378 - 73s - loss: 0.2728 - accuracy: 0.8763 - val_loss: 0.3812 - val_accuracy: 0.7759 - lr: 0.0010 - 73s/epoch - 17ms/step
Epoch 61/100
4378/4378 - 73s - loss: 0.2725 - accuracy: 0.8768 - val_loss: 0.4062 - val_accuracy: 0.7735 - lr: 0.0010 - 73s/epoch - 17ms/step
Epoch 62/100
4378/4378 - 73s - loss: 0.2737 - accuracy: 0.8744 - val_loss: 0.3855 - val_accuracy: 0.7873 - lr: 0.0010 - 73s/epoch - 17ms/step
Epoch 63/100
4378/4378 - 73s - loss: 0.2729 - accuracy: 0.8758 - val_loss: 0.3888 - val_accuracy: 0.7825 - lr: 0.0010 - 73s/epoch - 17ms/step
Epoch 64/100
4378/4378 - 73s - loss: 0.2723 - accuracy: 0.8761 - val_loss: 0.3752 - val_accuracy: 0.7989 - lr: 0.0010 - 73s/epoch - 17ms/step
Epoch 65/100
4378/4378 - 73s - loss: 0.2728 - accuracy: 0.8763 - val_loss: 0.3864 - val_accuracy: 0.7973 - lr: 0.0010 - 73s/epoch - 17ms/step
Epoch 66/100
4378/4378 - 73s - loss: 0.2733 - accuracy: 0.8759 - val_loss: 0.4167 - val_accuracy: 0.7735 - lr: 0.0010 - 73s/epoch - 17ms/step
Epoch 67/100
4378/4378 - 73s - loss: 0.2732 - accuracy: 0.8739 - val_loss: 0.3964 - val_accuracy: 0.7648 - lr: 0.0010 - 73s/epoch - 17ms/step
Epoch 68/100
4378/4378 - 73s - loss: 0.2733 - accuracy: 0.8758 - val_loss: 0.3656 - val_accuracy: 0.8090 - lr: 0.0010 - 73s/epoch - 17ms/step
Epoch 69/100
4378/4378 - 74s - loss: 0.2732 - accuracy: 0.8754 - val_loss: 0.4018 - val_accuracy: 0.7670 - lr: 0.0010 - 74s/epoch - 17ms/step
Epoch 70/100
4378/4378 - 73s - loss: 0.2732 - accuracy: 0.8754 - val_loss: 0.3712 - val_accuracy: 0.7949 - lr: 0.0010 - 73s/epoch - 17ms/step
Epoch 71/100
4378/4378 - 73s - loss: 0.2736 - accuracy: 0.8741 - val_loss: 0.3634 - val_accuracy: 0.7999 - lr: 0.0010 - 73s/epoch - 17ms/step
Epoch 72/100
4378/4378 - 74s - loss: 0.2729 - accuracy: 0.8752 - val_loss: 0.3862 - val_accuracy: 0.7900 - lr: 0.0010 - 74s/epoch - 17ms/step
Epoch 73/100
4378/4378 - 73s - loss: 0.2727 - accuracy: 0.8771 - val_loss: 0.3817 - val_accuracy: 0.7844 - lr: 0.0010 - 73s/epoch - 17ms/step
Epoch 74/100
4378/4378 - 72s - loss: 0.2727 - accuracy: 0.8760 - val_loss: 0.4022 - val_accuracy: 0.7719 - lr: 0.0010 - 72s/epoch - 17ms/step
Epoch 75/100
4378/4378 - 73s - loss: 0.2722 - accuracy: 0.8774 - val_loss: 0.4008 - val_accuracy: 0.7626 - lr: 0.0010 - 73s/epoch - 17ms/step
Epoch 76/100
4378/4378 - 73s - loss: 0.2748 - accuracy: 0.8726 - val_loss: 0.4179 - val_accuracy: 0.7442 - lr: 0.0010 - 73s/epoch - 17ms/step
Epoch 77/100
4378/4378 - 73s - loss: 0.2739 - accuracy: 0.8744 - val_loss: 0.3661 - val_accuracy: 0.8079 - lr: 0.0010 - 73s/epoch - 17ms/step
Epoch 78/100
4378/4378 - 73s - loss: 0.2743 - accuracy: 0.8740 - val_loss: 0.3846 - val_accuracy: 0.7770 - lr: 0.0010 - 73s/epoch - 17ms/step
Epoch 79/100
4378/4378 - 73s - loss: 0.2742 - accuracy: 0.8733 - val_loss: 0.4071 - val_accuracy: 0.7651 - lr: 0.0010 - 73s/epoch - 17ms/step
Epoch 80/100
4378/4378 - 73s - loss: 0.2730 - accuracy: 0.8755 - val_loss: 0.3885 - val_accuracy: 0.7920 - lr: 0.0010 - 73s/epoch - 17ms/step
Epoch 81/100
4378/4378 - 73s - loss: 0.2743 - accuracy: 0.8744 - val_loss: 0.3802 - val_accuracy: 0.7947 - lr: 0.0010 - 73s/epoch - 17ms/step
Epoch 82/100
4378/4378 - 73s - loss: 0.2728 - accuracy: 0.8752 - val_loss: 0.3817 - val_accuracy: 0.7763 - lr: 0.0010 - 73s/epoch - 17ms/step
Epoch 83/100
4378/4378 - 73s - loss: 0.2733 - accuracy: 0.8756 - val_loss: 0.3508 - val_accuracy: 0.8207 - lr: 0.0010 - 73s/epoch - 17ms/step
Epoch 84/100
4378/4378 - 73s - loss: 0.2741 - accuracy: 0.8739 - val_loss: 0.3658 - val_accuracy: 0.8278 - lr: 0.0010 - 73s/epoch - 17ms/step
Epoch 85/100
4378/4378 - 73s - loss: 0.2739 - accuracy: 0.8746 - val_loss: 0.3767 - val_accuracy: 0.8027 - lr: 0.0010 - 73s/epoch - 17ms/step
Epoch 86/100
4378/4378 - 73s - loss: 0.2730 - accuracy: 0.8754 - val_loss: 0.3468 - val_accuracy: 0.8305 - lr: 0.0010 - 73s/epoch - 17ms/step
Epoch 87/100
4378/4378 - 73s - loss: 0.2730 - accuracy: 0.8745 - val_loss: 0.3916 - val_accuracy: 0.7783 - lr: 0.0010 - 73s/epoch - 17ms/step
Epoch 88/100
4378/4378 - 73s - loss: 0.2737 - accuracy: 0.8736 - val_loss: 0.3678 - val_accuracy: 0.8022 - lr: 0.0010 - 73s/epoch - 17ms/step
Epoch 89/100
4378/4378 - 73s - loss: 0.2731 - accuracy: 0.8756 - val_loss: 0.4455 - val_accuracy: 0.7520 - lr: 0.0010 - 73s/epoch - 17ms/step
Epoch 90/100
4378/4378 - 73s - loss: 0.2735 - accuracy: 0.8744 - val_loss: 0.3879 - val_accuracy: 0.7686 - lr: 0.0010 - 73s/epoch - 17ms/step
Epoch 91/100
4378/4378 - 73s - loss: 0.2735 - accuracy: 0.8748 - val_loss: 0.3696 - val_accuracy: 0.7874 - lr: 0.0010 - 73s/epoch - 17ms/step
Epoch 92/100
4378/4378 - 73s - loss: 0.2743 - accuracy: 0.8737 - val_loss: 0.4025 - val_accuracy: 0.7755 - lr: 0.0010 - 73s/epoch - 17ms/step
Epoch 93/100
4378/4378 - 73s - loss: 0.2739 - accuracy: 0.8735 - val_loss: 0.3843 - val_accuracy: 0.7876 - lr: 0.0010 - 73s/epoch - 17ms/step
Epoch 94/100
4378/4378 - 73s - loss: 0.2743 - accuracy: 0.8750 - val_loss: 0.3995 - val_accuracy: 0.7639 - lr: 0.0010 - 73s/epoch - 17ms/step
Epoch 95/100
4378/4378 - 72s - loss: 0.2740 - accuracy: 0.8737 - val_loss: 0.3917 - val_accuracy: 0.7777 - lr: 0.0010 - 72s/epoch - 17ms/step
Epoch 96/100
4378/4378 - 73s - loss: 0.2745 - accuracy: 0.8723 - val_loss: 0.3698 - val_accuracy: 0.7921 - lr: 0.0010 - 73s/epoch - 17ms/step
Epoch 97/100
4378/4378 - 73s - loss: 0.2743 - accuracy: 0.8743 - val_loss: 0.3580 - val_accuracy: 0.8032 - lr: 0.0010 - 73s/epoch - 17ms/step
Epoch 98/100
4378/4378 - 73s - loss: 0.2750 - accuracy: 0.8736 - val_loss: 0.3846 - val_accuracy: 0.7773 - lr: 0.0010 - 73s/epoch - 17ms/step
Epoch 99/100
4378/4378 - 72s - loss: 0.2753 - accuracy: 0.8712 - val_loss: 0.4055 - val_accuracy: 0.7759 - lr: 0.0010 - 72s/epoch - 17ms/step
Epoch 100/100
4378/4378 - 73s - loss: 0.2744 - accuracy: 0.8740 - val_loss: 0.4006 - val_accuracy: 0.7662 - lr: 0.0010 - 73s/epoch - 17ms/step
fitting with batch size: 100
Epoch 1/100
876/876 - 20s - loss: 0.2589 - accuracy: 0.8977 - val_loss: 0.3794 - val_accuracy: 0.7919 - lr: 0.0010 - 20s/epoch - 23ms/step
Epoch 2/100
876/876 - 18s - loss: 0.2543 - accuracy: 0.9062 - val_loss: 0.4281 - val_accuracy: 0.7637 - lr: 0.0010 - 18s/epoch - 21ms/step
Epoch 3/100
876/876 - 18s - loss: 0.2525 - accuracy: 0.9090 - val_loss: 0.4341 - val_accuracy: 0.7657 - lr: 0.0010 - 18s/epoch - 21ms/step
Epoch 4/100
876/876 - 18s - loss: 0.2507 - accuracy: 0.9120 - val_loss: 0.4342 - val_accuracy: 0.7773 - lr: 0.0010 - 18s/epoch - 21ms/step
Epoch 5/100
876/876 - 18s - loss: 0.2500 - accuracy: 0.9130 - val_loss: 0.4292 - val_accuracy: 0.7610 - lr: 0.0010 - 18s/epoch - 21ms/step
Epoch 6/100
876/876 - 18s - loss: 0.2494 - accuracy: 0.9127 - val_loss: 0.4381 - val_accuracy: 0.7593 - lr: 0.0010 - 18s/epoch - 21ms/step
Epoch 7/100
876/876 - 18s - loss: 0.2491 - accuracy: 0.9141 - val_loss: 0.4616 - val_accuracy: 0.7604 - lr: 0.0010 - 18s/epoch - 21ms/step
Epoch 8/100
876/876 - 18s - loss: 0.2485 - accuracy: 0.9155 - val_loss: 0.4190 - val_accuracy: 0.7722 - lr: 0.0010 - 18s/epoch - 21ms/step
Epoch 9/100
876/876 - 18s - loss: 0.2485 - accuracy: 0.9158 - val_loss: 0.4496 - val_accuracy: 0.7515 - lr: 0.0010 - 18s/epoch - 21ms/step
Epoch 10/100
876/876 - 18s - loss: 0.2475 - accuracy: 0.9172 - val_loss: 0.4159 - val_accuracy: 0.7707 - lr: 0.0010 - 18s/epoch - 21ms/step
Epoch 11/100
876/876 - 18s - loss: 0.2469 - accuracy: 0.9179 - val_loss: 0.4329 - val_accuracy: 0.7672 - lr: 0.0010 - 18s/epoch - 21ms/step
Epoch 12/100
876/876 - 18s - loss: 0.2473 - accuracy: 0.9175 - val_loss: 0.4565 - val_accuracy: 0.7506 - lr: 0.0010 - 18s/epoch - 21ms/step
Epoch 13/100
876/876 - 18s - loss: 0.2466 - accuracy: 0.9192 - val_loss: 0.4396 - val_accuracy: 0.7726 - lr: 0.0010 - 18s/epoch - 21ms/step
Epoch 14/100
876/876 - 18s - loss: 0.2468 - accuracy: 0.9186 - val_loss: 0.4457 - val_accuracy: 0.7521 - lr: 0.0010 - 18s/epoch - 21ms/step
Epoch 15/100
876/876 - 18s - loss: 0.2465 - accuracy: 0.9190 - val_loss: 0.4575 - val_accuracy: 0.7487 - lr: 0.0010 - 18s/epoch - 21ms/step
Epoch 16/100
876/876 - 18s - loss: 0.2455 - accuracy: 0.9204 - val_loss: 0.4734 - val_accuracy: 0.7496 - lr: 0.0010 - 18s/epoch - 21ms/step
Epoch 17/100
876/876 - 18s - loss: 0.2454 - accuracy: 0.9212 - val_loss: 0.4436 - val_accuracy: 0.7665 - lr: 0.0010 - 18s/epoch - 21ms/step
Epoch 18/100
876/876 - 18s - loss: 0.2450 - accuracy: 0.9213 - val_loss: 0.4255 - val_accuracy: 0.7725 - lr: 0.0010 - 18s/epoch - 21ms/step
Epoch 19/100
876/876 - 18s - loss: 0.2448 - accuracy: 0.9211 - val_loss: 0.4454 - val_accuracy: 0.7460 - lr: 0.0010 - 18s/epoch - 21ms/step
Epoch 20/100
876/876 - 18s - loss: 0.2459 - accuracy: 0.9194 - val_loss: 0.4477 - val_accuracy: 0.7672 - lr: 0.0010 - 18s/epoch - 21ms/step
Epoch 21/100
876/876 - 18s - loss: 0.2444 - accuracy: 0.9224 - val_loss: 0.4279 - val_accuracy: 0.7748 - lr: 0.0010 - 18s/epoch - 21ms/step
Epoch 22/100
876/876 - 18s - loss: 0.2451 - accuracy: 0.9207 - val_loss: 0.4287 - val_accuracy: 0.7687 - lr: 0.0010 - 18s/epoch - 21ms/step
Epoch 23/100
876/876 - 18s - loss: 0.2438 - accuracy: 0.9227 - val_loss: 0.4467 - val_accuracy: 0.7679 - lr: 0.0010 - 18s/epoch - 21ms/step
Epoch 24/100
876/876 - 18s - loss: 0.2447 - accuracy: 0.9218 - val_loss: 0.4376 - val_accuracy: 0.7587 - lr: 0.0010 - 18s/epoch - 21ms/step
Epoch 25/100
876/876 - 18s - loss: 0.2441 - accuracy: 0.9229 - val_loss: 0.4526 - val_accuracy: 0.7681 - lr: 0.0010 - 18s/epoch - 21ms/step
Epoch 26/100
876/876 - 18s - loss: 0.2444 - accuracy: 0.9222 - val_loss: 0.4606 - val_accuracy: 0.7643 - lr: 0.0010 - 18s/epoch - 21ms/step
Epoch 27/100
876/876 - 18s - loss: 0.2436 - accuracy: 0.9243 - val_loss: 0.4458 - val_accuracy: 0.7569 - lr: 0.0010 - 18s/epoch - 21ms/step
Epoch 28/100
876/876 - 18s - loss: 0.2440 - accuracy: 0.9227 - val_loss: 0.4664 - val_accuracy: 0.7479 - lr: 0.0010 - 18s/epoch - 21ms/step
Epoch 29/100
876/876 - 18s - loss: 0.2430 - accuracy: 0.9244 - val_loss: 0.4916 - val_accuracy: 0.7298 - lr: 0.0010 - 18s/epoch - 21ms/step
Epoch 30/100
876/876 - 18s - loss: 0.2434 - accuracy: 0.9241 - val_loss: 0.4853 - val_accuracy: 0.7417 - lr: 0.0010 - 18s/epoch - 21ms/step
Epoch 31/100
876/876 - 18s - loss: 0.2436 - accuracy: 0.9238 - val_loss: 0.4800 - val_accuracy: 0.7566 - lr: 0.0010 - 18s/epoch - 21ms/step
Epoch 32/100
876/876 - 18s - loss: 0.2435 - accuracy: 0.9228 - val_loss: 0.4492 - val_accuracy: 0.7565 - lr: 0.0010 - 18s/epoch - 21ms/step
Epoch 33/100
876/876 - 18s - loss: 0.2426 - accuracy: 0.9254 - val_loss: 0.4757 - val_accuracy: 0.7415 - lr: 0.0010 - 18s/epoch - 21ms/step
Epoch 34/100
876/876 - 18s - loss: 0.2430 - accuracy: 0.9245 - val_loss: 0.4516 - val_accuracy: 0.7581 - lr: 0.0010 - 18s/epoch - 21ms/step
Epoch 35/100
876/876 - 18s - loss: 0.2433 - accuracy: 0.9248 - val_loss: 0.4583 - val_accuracy: 0.7560 - lr: 0.0010 - 18s/epoch - 21ms/step
Epoch 36/100
876/876 - 18s - loss: 0.2426 - accuracy: 0.9254 - val_loss: 0.4549 - val_accuracy: 0.7666 - lr: 0.0010 - 18s/epoch - 21ms/step
Epoch 37/100
876/876 - 18s - loss: 0.2423 - accuracy: 0.9253 - val_loss: 0.4806 - val_accuracy: 0.7642 - lr: 0.0010 - 18s/epoch - 21ms/step
Epoch 38/100
876/876 - 18s - loss: 0.2430 - accuracy: 0.9246 - val_loss: 0.4663 - val_accuracy: 0.7613 - lr: 0.0010 - 18s/epoch - 21ms/step
Epoch 39/100
876/876 - 18s - loss: 0.2425 - accuracy: 0.9261 - val_loss: 0.4444 - val_accuracy: 0.7636 - lr: 0.0010 - 18s/epoch - 21ms/step
Epoch 40/100
876/876 - 18s - loss: 0.2426 - accuracy: 0.9254 - val_loss: 0.4721 - val_accuracy: 0.7550 - lr: 0.0010 - 18s/epoch - 21ms/step
Epoch 41/100
876/876 - 18s - loss: 0.2416 - accuracy: 0.9272 - val_loss: 0.4738 - val_accuracy: 0.7669 - lr: 0.0010 - 18s/epoch - 21ms/step
Epoch 42/100
876/876 - 18s - loss: 0.2426 - accuracy: 0.9261 - val_loss: 0.4519 - val_accuracy: 0.7649 - lr: 0.0010 - 18s/epoch - 21ms/step
Epoch 43/100
876/876 - 18s - loss: 0.2418 - accuracy: 0.9257 - val_loss: 0.4726 - val_accuracy: 0.7521 - lr: 0.0010 - 18s/epoch - 21ms/step
Epoch 44/100
876/876 - 18s - loss: 0.2421 - accuracy: 0.9267 - val_loss: 0.4594 - val_accuracy: 0.7438 - lr: 0.0010 - 18s/epoch - 21ms/step
Epoch 45/100
876/876 - 18s - loss: 0.2422 - accuracy: 0.9264 - val_loss: 0.4477 - val_accuracy: 0.7551 - lr: 0.0010 - 18s/epoch - 21ms/step
Epoch 46/100
876/876 - 18s - loss: 0.2416 - accuracy: 0.9273 - val_loss: 0.4892 - val_accuracy: 0.7512 - lr: 0.0010 - 18s/epoch - 21ms/step
Epoch 47/100
876/876 - 18s - loss: 0.2420 - accuracy: 0.9259 - val_loss: 0.4475 - val_accuracy: 0.7501 - lr: 0.0010 - 18s/epoch - 21ms/step
Epoch 48/100
876/876 - 18s - loss: 0.2419 - accuracy: 0.9272 - val_loss: 0.4365 - val_accuracy: 0.7760 - lr: 0.0010 - 18s/epoch - 21ms/step
Epoch 49/100
876/876 - 18s - loss: 0.2413 - accuracy: 0.9275 - val_loss: 0.4670 - val_accuracy: 0.7585 - lr: 0.0010 - 18s/epoch - 21ms/step
Epoch 50/100
876/876 - 18s - loss: 0.2412 - accuracy: 0.9272 - val_loss: 0.4455 - val_accuracy: 0.7664 - lr: 0.0010 - 18s/epoch - 21ms/step
Epoch 51/100
876/876 - 18s - loss: 0.2415 - accuracy: 0.9273 - val_loss: 0.4660 - val_accuracy: 0.7659 - lr: 0.0010 - 18s/epoch - 21ms/step
Epoch 52/100
876/876 - 18s - loss: 0.2419 - accuracy: 0.9262 - val_loss: 0.4769 - val_accuracy: 0.7457 - lr: 0.0010 - 18s/epoch - 21ms/step
Epoch 53/100
876/876 - 18s - loss: 0.2417 - accuracy: 0.9266 - val_loss: 0.4529 - val_accuracy: 0.7680 - lr: 0.0010 - 18s/epoch - 21ms/step
Epoch 54/100
876/876 - 18s - loss: 0.2411 - accuracy: 0.9280 - val_loss: 0.4843 - val_accuracy: 0.7504 - lr: 0.0010 - 18s/epoch - 21ms/step
Epoch 55/100
876/876 - 18s - loss: 0.2407 - accuracy: 0.9286 - val_loss: 0.4771 - val_accuracy: 0.7589 - lr: 0.0010 - 18s/epoch - 21ms/step
Epoch 56/100
876/876 - 18s - loss: 0.2415 - accuracy: 0.9265 - val_loss: 0.4650 - val_accuracy: 0.7615 - lr: 0.0010 - 18s/epoch - 21ms/step
Epoch 57/100
876/876 - 18s - loss: 0.2415 - accuracy: 0.9276 - val_loss: 0.4755 - val_accuracy: 0.7430 - lr: 0.0010 - 18s/epoch - 21ms/step
Epoch 58/100
876/876 - 18s - loss: 0.2410 - accuracy: 0.9285 - val_loss: 0.4612 - val_accuracy: 0.7652 - lr: 0.0010 - 18s/epoch - 21ms/step
Epoch 59/100
876/876 - 18s - loss: 0.2412 - accuracy: 0.9273 - val_loss: 0.4481 - val_accuracy: 0.7756 - lr: 0.0010 - 18s/epoch - 21ms/step
Epoch 60/100
876/876 - 18s - loss: 0.2409 - accuracy: 0.9282 - val_loss: 0.4442 - val_accuracy: 0.7669 - lr: 0.0010 - 18s/epoch - 21ms/step
Epoch 61/100
876/876 - 18s - loss: 0.2400 - accuracy: 0.9301 - val_loss: 0.4414 - val_accuracy: 0.7823 - lr: 0.0010 - 18s/epoch - 21ms/step
Epoch 62/100
876/876 - 18s - loss: 0.2404 - accuracy: 0.9284 - val_loss: 0.4754 - val_accuracy: 0.7594 - lr: 0.0010 - 18s/epoch - 21ms/step
Epoch 63/100
876/876 - 18s - loss: 0.2406 - accuracy: 0.9291 - val_loss: 0.4484 - val_accuracy: 0.7769 - lr: 0.0010 - 18s/epoch - 20ms/step
Epoch 64/100
876/876 - 18s - loss: 0.2408 - accuracy: 0.9282 - val_loss: 0.4522 - val_accuracy: 0.7664 - lr: 0.0010 - 18s/epoch - 21ms/step
Epoch 65/100
876/876 - 18s - loss: 0.2407 - accuracy: 0.9291 - val_loss: 0.4639 - val_accuracy: 0.7545 - lr: 0.0010 - 18s/epoch - 21ms/step
Epoch 66/100
876/876 - 18s - loss: 0.2404 - accuracy: 0.9299 - val_loss: 0.4544 - val_accuracy: 0.7673 - lr: 0.0010 - 18s/epoch - 21ms/step
Epoch 67/100
876/876 - 18s - loss: 0.2405 - accuracy: 0.9289 - val_loss: 0.4854 - val_accuracy: 0.7600 - lr: 0.0010 - 18s/epoch - 20ms/step
Epoch 68/100
876/876 - 18s - loss: 0.2400 - accuracy: 0.9295 - val_loss: 0.4679 - val_accuracy: 0.7696 - lr: 0.0010 - 18s/epoch - 21ms/step
Epoch 69/100
876/876 - 18s - loss: 0.2398 - accuracy: 0.9301 - val_loss: 0.4730 - val_accuracy: 0.7566 - lr: 0.0010 - 18s/epoch - 21ms/step
Epoch 70/100
876/876 - 18s - loss: 0.2405 - accuracy: 0.9285 - val_loss: 0.4571 - val_accuracy: 0.7611 - lr: 0.0010 - 18s/epoch - 21ms/step
Epoch 71/100
876/876 - 18s - loss: 0.2401 - accuracy: 0.9298 - val_loss: 0.4823 - val_accuracy: 0.7554 - lr: 0.0010 - 18s/epoch - 21ms/step
Epoch 72/100
876/876 - 18s - loss: 0.2402 - accuracy: 0.9298 - val_loss: 0.4751 - val_accuracy: 0.7597 - lr: 0.0010 - 18s/epoch - 21ms/step
Epoch 73/100
876/876 - 18s - loss: 0.2396 - accuracy: 0.9301 - val_loss: 0.4231 - val_accuracy: 0.7812 - lr: 0.0010 - 18s/epoch - 21ms/step
Epoch 74/100
876/876 - 18s - loss: 0.2393 - accuracy: 0.9309 - val_loss: 0.4845 - val_accuracy: 0.7480 - lr: 0.0010 - 18s/epoch - 21ms/step
Epoch 75/100
876/876 - 18s - loss: 0.2402 - accuracy: 0.9291 - val_loss: 0.4460 - val_accuracy: 0.7726 - lr: 0.0010 - 18s/epoch - 21ms/step
Epoch 76/100
876/876 - 18s - loss: 0.2398 - accuracy: 0.9299 - val_loss: 0.4520 - val_accuracy: 0.7693 - lr: 0.0010 - 18s/epoch - 21ms/step
Epoch 77/100
876/876 - 18s - loss: 0.2402 - accuracy: 0.9287 - val_loss: 0.4416 - val_accuracy: 0.7742 - lr: 0.0010 - 18s/epoch - 21ms/step
Epoch 78/100
876/876 - 18s - loss: 0.2401 - accuracy: 0.9295 - val_loss: 0.4534 - val_accuracy: 0.7690 - lr: 0.0010 - 18s/epoch - 21ms/step
Epoch 79/100
876/876 - 18s - loss: 0.2398 - accuracy: 0.9301 - val_loss: 0.4589 - val_accuracy: 0.7711 - lr: 0.0010 - 18s/epoch - 21ms/step
Epoch 80/100
876/876 - 18s - loss: 0.2397 - accuracy: 0.9304 - val_loss: 0.4922 - val_accuracy: 0.7344 - lr: 0.0010 - 18s/epoch - 21ms/step
Epoch 81/100
876/876 - 18s - loss: 0.2385 - accuracy: 0.9312 - val_loss: 0.4700 - val_accuracy: 0.7660 - lr: 0.0010 - 18s/epoch - 21ms/step
Epoch 82/100
876/876 - 18s - loss: 0.2395 - accuracy: 0.9308 - val_loss: 0.4350 - val_accuracy: 0.7819 - lr: 0.0010 - 18s/epoch - 21ms/step
Epoch 83/100
876/876 - 18s - loss: 0.2389 - accuracy: 0.9317 - val_loss: 0.4752 - val_accuracy: 0.7583 - lr: 0.0010 - 18s/epoch - 21ms/step
Epoch 84/100
876/876 - 18s - loss: 0.2396 - accuracy: 0.9305 - val_loss: 0.4462 - val_accuracy: 0.7720 - lr: 0.0010 - 18s/epoch - 21ms/step
Epoch 85/100
876/876 - 18s - loss: 0.2396 - accuracy: 0.9310 - val_loss: 0.4319 - val_accuracy: 0.7690 - lr: 0.0010 - 18s/epoch - 21ms/step
Epoch 86/100
876/876 - 18s - loss: 0.2393 - accuracy: 0.9312 - val_loss: 0.4708 - val_accuracy: 0.7553 - lr: 0.0010 - 18s/epoch - 21ms/step
Epoch 87/100
876/876 - 18s - loss: 0.2394 - accuracy: 0.9314 - val_loss: 0.4721 - val_accuracy: 0.7575 - lr: 0.0010 - 18s/epoch - 21ms/step
Epoch 88/100
876/876 - 18s - loss: 0.2391 - accuracy: 0.9310 - val_loss: 0.4597 - val_accuracy: 0.7591 - lr: 0.0010 - 18s/epoch - 21ms/step
Epoch 89/100
876/876 - 18s - loss: 0.2398 - accuracy: 0.9307 - val_loss: 0.4608 - val_accuracy: 0.7637 - lr: 0.0010 - 18s/epoch - 21ms/step
Epoch 90/100
876/876 - 18s - loss: 0.2392 - accuracy: 0.9314 - val_loss: 0.4601 - val_accuracy: 0.7682 - lr: 0.0010 - 18s/epoch - 21ms/step
Epoch 91/100
876/876 - 18s - loss: 0.2393 - accuracy: 0.9313 - val_loss: 0.4527 - val_accuracy: 0.7656 - lr: 0.0010 - 18s/epoch - 21ms/step
Epoch 92/100
876/876 - 18s - loss: 0.2391 - accuracy: 0.9318 - val_loss: 0.4567 - val_accuracy: 0.7737 - lr: 0.0010 - 18s/epoch - 21ms/step
Epoch 93/100
876/876 - 18s - loss: 0.2392 - accuracy: 0.9315 - val_loss: 0.4591 - val_accuracy: 0.7575 - lr: 0.0010 - 18s/epoch - 21ms/step
Epoch 94/100
876/876 - 18s - loss: 0.2384 - accuracy: 0.9320 - val_loss: 0.4559 - val_accuracy: 0.7591 - lr: 0.0010 - 18s/epoch - 21ms/step
Epoch 95/100
876/876 - 18s - loss: 0.2385 - accuracy: 0.9326 - val_loss: 0.4810 - val_accuracy: 0.7462 - lr: 0.0010 - 18s/epoch - 21ms/step
Epoch 96/100
876/876 - 18s - loss: 0.2390 - accuracy: 0.9318 - val_loss: 0.4776 - val_accuracy: 0.7490 - lr: 0.0010 - 18s/epoch - 21ms/step
Epoch 97/100
876/876 - 18s - loss: 0.2385 - accuracy: 0.9322 - val_loss: 0.4584 - val_accuracy: 0.7645 - lr: 0.0010 - 18s/epoch - 21ms/step
Epoch 98/100
876/876 - 18s - loss: 0.2393 - accuracy: 0.9318 - val_loss: 0.4659 - val_accuracy: 0.7472 - lr: 0.0010 - 18s/epoch - 21ms/step
Epoch 99/100
876/876 - 18s - loss: 0.2389 - accuracy: 0.9324 - val_loss: 0.4756 - val_accuracy: 0.7626 - lr: 0.0010 - 18s/epoch - 21ms/step
Epoch 100/100
876/876 - 18s - loss: 0.2382 - accuracy: 0.9328 - val_loss: 0.4826 - val_accuracy: 0.7643 - lr: 0.0010 - 18s/epoch - 21ms/step
fitting with batch size: 500
Epoch 1/100
176/176 - 12s - loss: 0.2300 - accuracy: 0.9473 - val_loss: 0.5234 - val_accuracy: 0.7445 - lr: 0.0010 - 12s/epoch - 68ms/step
Epoch 2/100
176/176 - 10s - loss: 0.2283 - accuracy: 0.9490 - val_loss: 0.5049 - val_accuracy: 0.7693 - lr: 0.0010 - 10s/epoch - 56ms/step
Epoch 3/100
176/176 - 10s - loss: 0.2284 - accuracy: 0.9489 - val_loss: 0.5526 - val_accuracy: 0.7366 - lr: 0.0010 - 10s/epoch - 57ms/step
Epoch 4/100
176/176 - 10s - loss: 0.2279 - accuracy: 0.9501 - val_loss: 0.5402 - val_accuracy: 0.7492 - lr: 0.0010 - 10s/epoch - 56ms/step
Epoch 5/100
176/176 - 10s - loss: 0.2278 - accuracy: 0.9505 - val_loss: 0.5648 - val_accuracy: 0.7440 - lr: 0.0010 - 10s/epoch - 55ms/step
Epoch 6/100
176/176 - 10s - loss: 0.2276 - accuracy: 0.9502 - val_loss: 0.5297 - val_accuracy: 0.7592 - lr: 0.0010 - 10s/epoch - 55ms/step
Epoch 7/100
176/176 - 10s - loss: 0.2273 - accuracy: 0.9512 - val_loss: 0.5454 - val_accuracy: 0.7558 - lr: 0.0010 - 10s/epoch - 55ms/step
Epoch 8/100
176/176 - 10s - loss: 0.2269 - accuracy: 0.9514 - val_loss: 0.5391 - val_accuracy: 0.7512 - lr: 0.0010 - 10s/epoch - 56ms/step
Epoch 9/100
176/176 - 10s - loss: 0.2273 - accuracy: 0.9510 - val_loss: 0.5290 - val_accuracy: 0.7525 - lr: 0.0010 - 10s/epoch - 56ms/step
Epoch 10/100
176/176 - 10s - loss: 0.2275 - accuracy: 0.9501 - val_loss: 0.5494 - val_accuracy: 0.7484 - lr: 0.0010 - 10s/epoch - 56ms/step
Epoch 11/100
176/176 - 10s - loss: 0.2266 - accuracy: 0.9518 - val_loss: 0.5627 - val_accuracy: 0.7373 - lr: 0.0010 - 10s/epoch - 56ms/step
Epoch 12/100
176/176 - 10s - loss: 0.2267 - accuracy: 0.9517 - val_loss: 0.5584 - val_accuracy: 0.7380 - lr: 0.0010 - 10s/epoch - 55ms/step
Epoch 13/100
176/176 - 10s - loss: 0.2265 - accuracy: 0.9527 - val_loss: 0.5629 - val_accuracy: 0.7414 - lr: 0.0010 - 10s/epoch - 55ms/step
Epoch 14/100
176/176 - 10s - loss: 0.2267 - accuracy: 0.9519 - val_loss: 0.5582 - val_accuracy: 0.7500 - lr: 0.0010 - 10s/epoch - 55ms/step
Epoch 15/100
176/176 - 10s - loss: 0.2261 - accuracy: 0.9532 - val_loss: 0.5434 - val_accuracy: 0.7599 - lr: 0.0010 - 10s/epoch - 56ms/step
Epoch 16/100
176/176 - 10s - loss: 0.2259 - accuracy: 0.9528 - val_loss: 0.5778 - val_accuracy: 0.7383 - lr: 0.0010 - 10s/epoch - 56ms/step
Epoch 17/100
176/176 - 10s - loss: 0.2263 - accuracy: 0.9525 - val_loss: 0.5485 - val_accuracy: 0.7476 - lr: 0.0010 - 10s/epoch - 55ms/step
Epoch 18/100
176/176 - 10s - loss: 0.2259 - accuracy: 0.9533 - val_loss: 0.5523 - val_accuracy: 0.7516 - lr: 0.0010 - 10s/epoch - 55ms/step
Epoch 19/100
176/176 - 10s - loss: 0.2263 - accuracy: 0.9535 - val_loss: 0.5728 - val_accuracy: 0.7406 - lr: 0.0010 - 10s/epoch - 55ms/step
Epoch 20/100
176/176 - 10s - loss: 0.2257 - accuracy: 0.9537 - val_loss: 0.5614 - val_accuracy: 0.7467 - lr: 0.0010 - 10s/epoch - 55ms/step
Epoch 21/100
176/176 - 10s - loss: 0.2260 - accuracy: 0.9528 - val_loss: 0.5877 - val_accuracy: 0.7381 - lr: 0.0010 - 10s/epoch - 56ms/step
Epoch 22/100
176/176 - 10s - loss: 0.2253 - accuracy: 0.9539 - val_loss: 0.5650 - val_accuracy: 0.7489 - lr: 0.0010 - 10s/epoch - 55ms/step
Epoch 23/100
176/176 - 10s - loss: 0.2261 - accuracy: 0.9527 - val_loss: 0.5834 - val_accuracy: 0.7374 - lr: 0.0010 - 10s/epoch - 55ms/step
Epoch 24/100
176/176 - 10s - loss: 0.2257 - accuracy: 0.9536 - val_loss: 0.5503 - val_accuracy: 0.7558 - lr: 0.0010 - 10s/epoch - 55ms/step
Epoch 25/100
176/176 - 10s - loss: 0.2256 - accuracy: 0.9532 - val_loss: 0.5530 - val_accuracy: 0.7527 - lr: 0.0010 - 10s/epoch - 55ms/step
Epoch 26/100
176/176 - 10s - loss: 0.2257 - accuracy: 0.9530 - val_loss: 0.5758 - val_accuracy: 0.7379 - lr: 0.0010 - 10s/epoch - 55ms/step
Epoch 27/100
176/176 - 10s - loss: 0.2247 - accuracy: 0.9543 - val_loss: 0.5814 - val_accuracy: 0.7443 - lr: 0.0010 - 10s/epoch - 55ms/step
Epoch 28/100
176/176 - 10s - loss: 0.2255 - accuracy: 0.9545 - val_loss: 0.5858 - val_accuracy: 0.7330 - lr: 0.0010 - 10s/epoch - 55ms/step
Epoch 29/100
176/176 - 10s - loss: 0.2253 - accuracy: 0.9540 - val_loss: 0.5498 - val_accuracy: 0.7543 - lr: 0.0010 - 10s/epoch - 55ms/step
Epoch 30/100
176/176 - 10s - loss: 0.2253 - accuracy: 0.9538 - val_loss: 0.5617 - val_accuracy: 0.7457 - lr: 0.0010 - 10s/epoch - 56ms/step
Epoch 31/100
176/176 - 10s - loss: 0.2252 - accuracy: 0.9540 - val_loss: 0.5845 - val_accuracy: 0.7278 - lr: 0.0010 - 10s/epoch - 56ms/step
Epoch 32/100
176/176 - 10s - loss: 0.2254 - accuracy: 0.9540 - val_loss: 0.5886 - val_accuracy: 0.7418 - lr: 0.0010 - 10s/epoch - 56ms/step
Epoch 33/100
176/176 - 10s - loss: 0.2253 - accuracy: 0.9538 - val_loss: 0.5644 - val_accuracy: 0.7380 - lr: 0.0010 - 10s/epoch - 55ms/step
Epoch 34/100
176/176 - 10s - loss: 0.2250 - accuracy: 0.9548 - val_loss: 0.5816 - val_accuracy: 0.7464 - lr: 0.0010 - 10s/epoch - 55ms/step
Epoch 35/100
176/176 - 10s - loss: 0.2247 - accuracy: 0.9553 - val_loss: 0.5832 - val_accuracy: 0.7426 - lr: 0.0010 - 10s/epoch - 56ms/step
Epoch 36/100
176/176 - 10s - loss: 0.2253 - accuracy: 0.9539 - val_loss: 0.5803 - val_accuracy: 0.7349 - lr: 0.0010 - 10s/epoch - 56ms/step
Epoch 37/100
176/176 - 10s - loss: 0.2251 - accuracy: 0.9545 - val_loss: 0.5764 - val_accuracy: 0.7455 - lr: 0.0010 - 10s/epoch - 56ms/step
Epoch 38/100
176/176 - 10s - loss: 0.2251 - accuracy: 0.9546 - val_loss: 0.5491 - val_accuracy: 0.7521 - lr: 0.0010 - 10s/epoch - 55ms/step
Epoch 39/100
176/176 - 10s - loss: 0.2252 - accuracy: 0.9543 - val_loss: 0.5556 - val_accuracy: 0.7553 - lr: 0.0010 - 10s/epoch - 55ms/step
Epoch 40/100
176/176 - 10s - loss: 0.2244 - accuracy: 0.9551 - val_loss: 0.5983 - val_accuracy: 0.7360 - lr: 0.0010 - 10s/epoch - 55ms/step
Epoch 41/100
176/176 - 10s - loss: 0.2243 - accuracy: 0.9564 - val_loss: 0.5770 - val_accuracy: 0.7379 - lr: 0.0010 - 10s/epoch - 55ms/step
Epoch 42/100
176/176 - 10s - loss: 0.2247 - accuracy: 0.9551 - val_loss: 0.5740 - val_accuracy: 0.7453 - lr: 0.0010 - 10s/epoch - 56ms/step
Epoch 43/100
176/176 - 10s - loss: 0.2246 - accuracy: 0.9550 - val_loss: 0.5755 - val_accuracy: 0.7439 - lr: 0.0010 - 10s/epoch - 56ms/step
Epoch 44/100
176/176 - 10s - loss: 0.2255 - accuracy: 0.9544 - val_loss: 0.5872 - val_accuracy: 0.7337 - lr: 0.0010 - 10s/epoch - 56ms/step
Epoch 45/100
176/176 - 10s - loss: 0.2246 - accuracy: 0.9547 - val_loss: 0.5815 - val_accuracy: 0.7484 - lr: 0.0010 - 10s/epoch - 58ms/step
Epoch 46/100
176/176 - 10s - loss: 0.2251 - accuracy: 0.9545 - val_loss: 0.5911 - val_accuracy: 0.7394 - lr: 0.0010 - 10s/epoch - 57ms/step
Epoch 47/100
176/176 - 10s - loss: 0.2248 - accuracy: 0.9547 - val_loss: 0.5710 - val_accuracy: 0.7395 - lr: 0.0010 - 10s/epoch - 55ms/step
Epoch 48/100
176/176 - 10s - loss: 0.2249 - accuracy: 0.9548 - val_loss: 0.5796 - val_accuracy: 0.7289 - lr: 0.0010 - 10s/epoch - 55ms/step
Epoch 49/100
176/176 - 10s - loss: 0.2245 - accuracy: 0.9556 - val_loss: 0.5881 - val_accuracy: 0.7385 - lr: 0.0010 - 10s/epoch - 56ms/step
Epoch 50/100
176/176 - 10s - loss: 0.2245 - accuracy: 0.9561 - val_loss: 0.5869 - val_accuracy: 0.7426 - lr: 0.0010 - 10s/epoch - 55ms/step
Epoch 51/100
176/176 - 10s - loss: 0.2239 - accuracy: 0.9564 - val_loss: 0.5746 - val_accuracy: 0.7500 - lr: 0.0010 - 10s/epoch - 56ms/step
Epoch 52/100
176/176 - 10s - loss: 0.2248 - accuracy: 0.9554 - val_loss: 0.5891 - val_accuracy: 0.7369 - lr: 0.0010 - 10s/epoch - 56ms/step
Epoch 53/100
176/176 - 10s - loss: 0.2242 - accuracy: 0.9556 - val_loss: 0.5793 - val_accuracy: 0.7485 - lr: 0.0010 - 10s/epoch - 55ms/step
Epoch 54/100
176/176 - 10s - loss: 0.2246 - accuracy: 0.9551 - val_loss: 0.5553 - val_accuracy: 0.7537 - lr: 0.0010 - 10s/epoch - 55ms/step
Epoch 55/100
176/176 - 10s - loss: 0.2241 - accuracy: 0.9567 - val_loss: 0.5908 - val_accuracy: 0.7372 - lr: 0.0010 - 10s/epoch - 56ms/step
Epoch 56/100
176/176 - 10s - loss: 0.2246 - accuracy: 0.9554 - val_loss: 0.5879 - val_accuracy: 0.7280 - lr: 0.0010 - 10s/epoch - 58ms/step
Epoch 57/100
176/176 - 10s - loss: 0.2247 - accuracy: 0.9552 - val_loss: 0.5538 - val_accuracy: 0.7537 - lr: 0.0010 - 10s/epoch - 58ms/step
Epoch 58/100
176/176 - 10s - loss: 0.2247 - accuracy: 0.9554 - val_loss: 0.5824 - val_accuracy: 0.7395 - lr: 0.0010 - 10s/epoch - 55ms/step
Epoch 59/100
176/176 - 10s - loss: 0.2241 - accuracy: 0.9558 - val_loss: 0.5836 - val_accuracy: 0.7417 - lr: 0.0010 - 10s/epoch - 55ms/step
Epoch 60/100
176/176 - 10s - loss: 0.2244 - accuracy: 0.9556 - val_loss: 0.5750 - val_accuracy: 0.7405 - lr: 0.0010 - 10s/epoch - 55ms/step
Epoch 61/100
176/176 - 10s - loss: 0.2231 - accuracy: 0.9572 - val_loss: 0.5809 - val_accuracy: 0.7276 - lr: 0.0010 - 10s/epoch - 55ms/step
Epoch 62/100
176/176 - 10s - loss: 0.2234 - accuracy: 0.9574 - val_loss: 0.5664 - val_accuracy: 0.7535 - lr: 0.0010 - 10s/epoch - 55ms/step
Epoch 63/100
176/176 - 10s - loss: 0.2245 - accuracy: 0.9551 - val_loss: 0.5953 - val_accuracy: 0.7316 - lr: 0.0010 - 10s/epoch - 56ms/step
Epoch 64/100
176/176 - 10s - loss: 0.2243 - accuracy: 0.9554 - val_loss: 0.5790 - val_accuracy: 0.7458 - lr: 0.0010 - 10s/epoch - 55ms/step
Epoch 65/100
176/176 - 10s - loss: 0.2239 - accuracy: 0.9571 - val_loss: 0.5894 - val_accuracy: 0.7301 - lr: 0.0010 - 10s/epoch - 55ms/step
Epoch 66/100
176/176 - 10s - loss: 0.2238 - accuracy: 0.9573 - val_loss: 0.5896 - val_accuracy: 0.7461 - lr: 0.0010 - 10s/epoch - 56ms/step
Epoch 67/100
176/176 - 10s - loss: 0.2244 - accuracy: 0.9557 - val_loss: 0.5946 - val_accuracy: 0.7342 - lr: 0.0010 - 10s/epoch - 55ms/step
Epoch 68/100
176/176 - 10s - loss: 0.2240 - accuracy: 0.9562 - val_loss: 0.5688 - val_accuracy: 0.7461 - lr: 0.0010 - 10s/epoch - 55ms/step
Epoch 69/100
176/176 - 10s - loss: 0.2237 - accuracy: 0.9567 - val_loss: 0.5893 - val_accuracy: 0.7413 - lr: 0.0010 - 10s/epoch - 55ms/step
Epoch 70/100
176/176 - 10s - loss: 0.2245 - accuracy: 0.9562 - val_loss: 0.5732 - val_accuracy: 0.7416 - lr: 0.0010 - 10s/epoch - 54ms/step
Epoch 71/100
176/176 - 10s - loss: 0.2239 - accuracy: 0.9564 - val_loss: 0.6011 - val_accuracy: 0.7271 - lr: 0.0010 - 10s/epoch - 55ms/step
Epoch 72/100
176/176 - 10s - loss: 0.2234 - accuracy: 0.9570 - val_loss: 0.5747 - val_accuracy: 0.7418 - lr: 0.0010 - 10s/epoch - 56ms/step
Epoch 73/100
176/176 - 10s - loss: 0.2234 - accuracy: 0.9575 - val_loss: 0.5891 - val_accuracy: 0.7426 - lr: 0.0010 - 10s/epoch - 56ms/step
Epoch 74/100
176/176 - 10s - loss: 0.2236 - accuracy: 0.9568 - val_loss: 0.5915 - val_accuracy: 0.7456 - lr: 0.0010 - 10s/epoch - 55ms/step
Epoch 75/100
176/176 - 10s - loss: 0.2235 - accuracy: 0.9572 - val_loss: 0.5800 - val_accuracy: 0.7378 - lr: 0.0010 - 10s/epoch - 55ms/step
Epoch 76/100
176/176 - 10s - loss: 0.2241 - accuracy: 0.9556 - val_loss: 0.5628 - val_accuracy: 0.7550 - lr: 0.0010 - 10s/epoch - 56ms/step
Epoch 77/100
176/176 - 10s - loss: 0.2233 - accuracy: 0.9571 - val_loss: 0.5959 - val_accuracy: 0.7296 - lr: 0.0010 - 10s/epoch - 56ms/step
Epoch 78/100
176/176 - 10s - loss: 0.2236 - accuracy: 0.9572 - val_loss: 0.5769 - val_accuracy: 0.7451 - lr: 0.0010 - 10s/epoch - 56ms/step
Epoch 79/100
176/176 - 10s - loss: 0.2240 - accuracy: 0.9563 - val_loss: 0.5722 - val_accuracy: 0.7475 - lr: 0.0010 - 10s/epoch - 56ms/step
Epoch 80/100
176/176 - 10s - loss: 0.2235 - accuracy: 0.9573 - val_loss: 0.5837 - val_accuracy: 0.7399 - lr: 0.0010 - 10s/epoch - 55ms/step
Epoch 81/100
176/176 - 10s - loss: 0.2233 - accuracy: 0.9574 - val_loss: 0.5883 - val_accuracy: 0.7332 - lr: 0.0010 - 10s/epoch - 55ms/step
Epoch 82/100
176/176 - 10s - loss: 0.2220 - accuracy: 0.9599 - val_loss: 0.6077 - val_accuracy: 0.7347 - lr: 0.0010 - 10s/epoch - 55ms/step
Epoch 83/100
176/176 - 10s - loss: 0.2232 - accuracy: 0.9581 - val_loss: 0.5863 - val_accuracy: 0.7373 - lr: 0.0010 - 10s/epoch - 54ms/step
Epoch 84/100
176/176 - 10s - loss: 0.2237 - accuracy: 0.9574 - val_loss: 0.5759 - val_accuracy: 0.7359 - lr: 0.0010 - 10s/epoch - 55ms/step
Epoch 85/100
176/176 - 10s - loss: 0.2241 - accuracy: 0.9564 - val_loss: 0.5548 - val_accuracy: 0.7524 - lr: 0.0010 - 10s/epoch - 54ms/step
Epoch 86/100
176/176 - 10s - loss: 0.2238 - accuracy: 0.9575 - val_loss: 0.5898 - val_accuracy: 0.7412 - lr: 0.0010 - 10s/epoch - 54ms/step
Epoch 87/100
176/176 - 10s - loss: 0.2236 - accuracy: 0.9570 - val_loss: 0.5782 - val_accuracy: 0.7328 - lr: 0.0010 - 10s/epoch - 57ms/step
Epoch 88/100
176/176 - 10s - loss: 0.2236 - accuracy: 0.9577 - val_loss: 0.5828 - val_accuracy: 0.7346 - lr: 0.0010 - 10s/epoch - 55ms/step
Epoch 89/100
176/176 - 10s - loss: 0.2234 - accuracy: 0.9570 - val_loss: 0.5708 - val_accuracy: 0.7425 - lr: 0.0010 - 10s/epoch - 55ms/step
Epoch 90/100
176/176 - 10s - loss: 0.2234 - accuracy: 0.9572 - val_loss: 0.5685 - val_accuracy: 0.7459 - lr: 0.0010 - 10s/epoch - 56ms/step
Epoch 91/100
176/176 - 10s - loss: 0.2235 - accuracy: 0.9563 - val_loss: 0.5741 - val_accuracy: 0.7284 - lr: 0.0010 - 10s/epoch - 55ms/step
Epoch 92/100
176/176 - 10s - loss: 0.2236 - accuracy: 0.9568 - val_loss: 0.5703 - val_accuracy: 0.7443 - lr: 0.0010 - 10s/epoch - 56ms/step
Epoch 93/100
176/176 - 10s - loss: 0.2235 - accuracy: 0.9577 - val_loss: 0.5764 - val_accuracy: 0.7390 - lr: 0.0010 - 10s/epoch - 56ms/step
Epoch 94/100
176/176 - 10s - loss: 0.2229 - accuracy: 0.9580 - val_loss: 0.5868 - val_accuracy: 0.7379 - lr: 0.0010 - 10s/epoch - 55ms/step
Epoch 95/100
176/176 - 10s - loss: 0.2235 - accuracy: 0.9580 - val_loss: 0.5821 - val_accuracy: 0.7354 - lr: 0.0010 - 10s/epoch - 55ms/step
Epoch 96/100
176/176 - 10s - loss: 0.2226 - accuracy: 0.9589 - val_loss: 0.5809 - val_accuracy: 0.7527 - lr: 0.0010 - 10s/epoch - 56ms/step
Epoch 97/100
176/176 - 10s - loss: 0.2238 - accuracy: 0.9567 - val_loss: 0.6049 - val_accuracy: 0.7175 - lr: 0.0010 - 10s/epoch - 56ms/step
Epoch 98/100
176/176 - 10s - loss: 0.2240 - accuracy: 0.9568 - val_loss: 0.5827 - val_accuracy: 0.7311 - lr: 0.0010 - 10s/epoch - 56ms/step
Epoch 99/100
176/176 - 10s - loss: 0.2233 - accuracy: 0.9567 - val_loss: 0.5777 - val_accuracy: 0.7392 - lr: 0.0010 - 10s/epoch - 56ms/step
Epoch 100/100
176/176 - 10s - loss: 0.2233 - accuracy: 0.9579 - val_loss: 0.5779 - val_accuracy: 0.7435 - lr: 0.0010 - 10s/epoch - 55ms/step
Loss: kullback_leibler_divergence
Epoch number: 75
fitting with batch size: 20
Epoch 1/75
4378/4378 - 75s - loss: 0.2909 - accuracy: 0.9006 - val_loss: 0.9540 - val_accuracy: 0.7784 - lr: 0.0010 - 75s/epoch - 17ms/step
Epoch 2/75
4378/4378 - 73s - loss: 0.3251 - accuracy: 0.8898 - val_loss: 0.9359 - val_accuracy: 0.7692 - lr: 0.0010 - 73s/epoch - 17ms/step
Epoch 3/75
4378/4378 - 73s - loss: 0.3313 - accuracy: 0.8868 - val_loss: 1.1698 - val_accuracy: 0.7479 - lr: 0.0010 - 73s/epoch - 17ms/step
Epoch 4/75
4378/4378 - 73s - loss: 0.3304 - accuracy: 0.8872 - val_loss: 1.0389 - val_accuracy: 0.7609 - lr: 0.0010 - 73s/epoch - 17ms/step
Epoch 5/75
4378/4378 - 73s - loss: 0.3313 - accuracy: 0.8868 - val_loss: 0.9946 - val_accuracy: 0.7577 - lr: 0.0010 - 73s/epoch - 17ms/step
Epoch 6/75
4378/4378 - 73s - loss: 0.3356 - accuracy: 0.8855 - val_loss: 1.0284 - val_accuracy: 0.7493 - lr: 0.0010 - 73s/epoch - 17ms/step
Epoch 7/75
4378/4378 - 74s - loss: 0.3375 - accuracy: 0.8852 - val_loss: 1.0790 - val_accuracy: 0.7595 - lr: 0.0010 - 74s/epoch - 17ms/step
Epoch 8/75
4378/4378 - 74s - loss: 0.3425 - accuracy: 0.8835 - val_loss: 1.0617 - val_accuracy: 0.7525 - lr: 0.0010 - 74s/epoch - 17ms/step
Epoch 9/75
4378/4378 - 74s - loss: 0.3420 - accuracy: 0.8849 - val_loss: 0.8055 - val_accuracy: 0.7919 - lr: 0.0010 - 74s/epoch - 17ms/step
Epoch 10/75
4378/4378 - 74s - loss: 0.3411 - accuracy: 0.8844 - val_loss: 0.9218 - val_accuracy: 0.7620 - lr: 0.0010 - 74s/epoch - 17ms/step
Epoch 11/75
4378/4378 - 73s - loss: 0.3380 - accuracy: 0.8844 - val_loss: 1.0273 - val_accuracy: 0.7590 - lr: 0.0010 - 73s/epoch - 17ms/step
Epoch 12/75
4378/4378 - 73s - loss: 0.3446 - accuracy: 0.8832 - val_loss: 0.9356 - val_accuracy: 0.7850 - lr: 0.0010 - 73s/epoch - 17ms/step
Epoch 13/75
4378/4378 - 73s - loss: 0.3423 - accuracy: 0.8835 - val_loss: 1.2039 - val_accuracy: 0.7367 - lr: 0.0010 - 73s/epoch - 17ms/step
Epoch 14/75
4378/4378 - 73s - loss: 0.3435 - accuracy: 0.8833 - val_loss: 0.9747 - val_accuracy: 0.7722 - lr: 0.0010 - 73s/epoch - 17ms/step
Epoch 15/75
4378/4378 - 73s - loss: 0.3420 - accuracy: 0.8842 - val_loss: 0.9452 - val_accuracy: 0.7820 - lr: 0.0010 - 73s/epoch - 17ms/step
Epoch 16/75
4378/4378 - 73s - loss: 0.3479 - accuracy: 0.8827 - val_loss: 1.1629 - val_accuracy: 0.7531 - lr: 0.0010 - 73s/epoch - 17ms/step
Epoch 17/75
4378/4378 - 73s - loss: 0.3493 - accuracy: 0.8816 - val_loss: 1.0198 - val_accuracy: 0.7418 - lr: 0.0010 - 73s/epoch - 17ms/step
Epoch 18/75
4378/4378 - 73s - loss: 0.3463 - accuracy: 0.8826 - val_loss: 1.0515 - val_accuracy: 0.7557 - lr: 0.0010 - 73s/epoch - 17ms/step
Epoch 19/75
4378/4378 - 73s - loss: 0.3435 - accuracy: 0.8826 - val_loss: 1.0427 - val_accuracy: 0.7701 - lr: 0.0010 - 73s/epoch - 17ms/step
Epoch 20/75
4378/4378 - 74s - loss: 0.3485 - accuracy: 0.8823 - val_loss: 0.9234 - val_accuracy: 0.7945 - lr: 0.0010 - 74s/epoch - 17ms/step
Epoch 21/75
4378/4378 - 74s - loss: 0.3458 - accuracy: 0.8810 - val_loss: 1.0192 - val_accuracy: 0.7452 - lr: 0.0010 - 74s/epoch - 17ms/step
Epoch 22/75
4378/4378 - 73s - loss: 0.3475 - accuracy: 0.8829 - val_loss: 0.9213 - val_accuracy: 0.8054 - lr: 0.0010 - 73s/epoch - 17ms/step
Epoch 23/75
4378/4378 - 73s - loss: 0.3478 - accuracy: 0.8821 - val_loss: 1.0403 - val_accuracy: 0.7748 - lr: 0.0010 - 73s/epoch - 17ms/step
Epoch 24/75
4378/4378 - 73s - loss: 0.3448 - accuracy: 0.8830 - val_loss: 0.8904 - val_accuracy: 0.8092 - lr: 0.0010 - 73s/epoch - 17ms/step
Epoch 25/75
4378/4378 - 73s - loss: 0.3484 - accuracy: 0.8819 - val_loss: 1.0071 - val_accuracy: 0.7747 - lr: 0.0010 - 73s/epoch - 17ms/step
Epoch 26/75
4378/4378 - 73s - loss: 0.3413 - accuracy: 0.8834 - val_loss: 1.0543 - val_accuracy: 0.7585 - lr: 0.0010 - 73s/epoch - 17ms/step
Epoch 27/75
4378/4378 - 73s - loss: 0.3491 - accuracy: 0.8808 - val_loss: 0.9812 - val_accuracy: 0.7764 - lr: 0.0010 - 73s/epoch - 17ms/step
Epoch 28/75
4378/4378 - 73s - loss: 0.3460 - accuracy: 0.8817 - val_loss: 0.8994 - val_accuracy: 0.7767 - lr: 0.0010 - 73s/epoch - 17ms/step
Epoch 29/75
4378/4378 - 73s - loss: 0.3414 - accuracy: 0.8849 - val_loss: 0.9460 - val_accuracy: 0.7890 - lr: 0.0010 - 73s/epoch - 17ms/step
Epoch 30/75
4378/4378 - 73s - loss: 0.3451 - accuracy: 0.8829 - val_loss: 1.0755 - val_accuracy: 0.7854 - lr: 0.0010 - 73s/epoch - 17ms/step
Epoch 31/75
4378/4378 - 73s - loss: 0.3503 - accuracy: 0.8813 - val_loss: 0.8509 - val_accuracy: 0.7926 - lr: 0.0010 - 73s/epoch - 17ms/step
Epoch 32/75
4378/4378 - 73s - loss: 0.3495 - accuracy: 0.8810 - val_loss: 0.8382 - val_accuracy: 0.7901 - lr: 0.0010 - 73s/epoch - 17ms/step
Epoch 33/75
4378/4378 - 74s - loss: 0.3475 - accuracy: 0.8818 - val_loss: 0.7617 - val_accuracy: 0.8196 - lr: 0.0010 - 74s/epoch - 17ms/step
Epoch 34/75
4378/4378 - 73s - loss: 0.3457 - accuracy: 0.8829 - val_loss: 0.9389 - val_accuracy: 0.7935 - lr: 0.0010 - 73s/epoch - 17ms/step
Epoch 35/75
4378/4378 - 73s - loss: 0.3461 - accuracy: 0.8824 - val_loss: 0.8539 - val_accuracy: 0.7978 - lr: 0.0010 - 73s/epoch - 17ms/step
Epoch 36/75
4378/4378 - 73s - loss: 0.3520 - accuracy: 0.8803 - val_loss: 1.1160 - val_accuracy: 0.7530 - lr: 0.0010 - 73s/epoch - 17ms/step
Epoch 37/75
4378/4378 - 73s - loss: 0.3518 - accuracy: 0.8807 - val_loss: 0.8346 - val_accuracy: 0.8016 - lr: 0.0010 - 73s/epoch - 17ms/step
Epoch 38/75
4378/4378 - 73s - loss: 0.3473 - accuracy: 0.8811 - val_loss: 0.9958 - val_accuracy: 0.7873 - lr: 0.0010 - 73s/epoch - 17ms/step
Epoch 39/75
4378/4378 - 74s - loss: 0.3503 - accuracy: 0.8820 - val_loss: 0.9285 - val_accuracy: 0.7899 - lr: 0.0010 - 74s/epoch - 17ms/step
Epoch 40/75
4378/4378 - 73s - loss: 0.3519 - accuracy: 0.8805 - val_loss: 0.8698 - val_accuracy: 0.7890 - lr: 0.0010 - 73s/epoch - 17ms/step
Epoch 41/75
4378/4378 - 73s - loss: 0.3481 - accuracy: 0.8818 - val_loss: 1.2437 - val_accuracy: 0.7299 - lr: 0.0010 - 73s/epoch - 17ms/step
Epoch 42/75
4378/4378 - 73s - loss: 0.3515 - accuracy: 0.8803 - val_loss: 0.9089 - val_accuracy: 0.7913 - lr: 0.0010 - 73s/epoch - 17ms/step
Epoch 43/75
4378/4378 - 73s - loss: 0.3470 - accuracy: 0.8822 - val_loss: 0.8143 - val_accuracy: 0.7979 - lr: 0.0010 - 73s/epoch - 17ms/step
Epoch 44/75
4378/4378 - 73s - loss: 0.3512 - accuracy: 0.8817 - val_loss: 1.0222 - val_accuracy: 0.7643 - lr: 0.0010 - 73s/epoch - 17ms/step
Epoch 45/75
4378/4378 - 73s - loss: 0.3542 - accuracy: 0.8782 - val_loss: 0.9637 - val_accuracy: 0.7787 - lr: 0.0010 - 73s/epoch - 17ms/step
Epoch 46/75
4378/4378 - 73s - loss: 0.3484 - accuracy: 0.8812 - val_loss: 0.8594 - val_accuracy: 0.7949 - lr: 0.0010 - 73s/epoch - 17ms/step
Epoch 47/75
4378/4378 - 73s - loss: 0.3518 - accuracy: 0.8802 - val_loss: 0.9502 - val_accuracy: 0.7933 - lr: 0.0010 - 73s/epoch - 17ms/step
Epoch 48/75
4378/4378 - 73s - loss: 0.3547 - accuracy: 0.8796 - val_loss: 0.9566 - val_accuracy: 0.7629 - lr: 0.0010 - 73s/epoch - 17ms/step
Epoch 49/75
4378/4378 - 73s - loss: 0.3538 - accuracy: 0.8797 - val_loss: 1.1965 - val_accuracy: 0.7431 - lr: 0.0010 - 73s/epoch - 17ms/step
Epoch 50/75
4378/4378 - 73s - loss: 0.3457 - accuracy: 0.8822 - val_loss: 1.1697 - val_accuracy: 0.7561 - lr: 0.0010 - 73s/epoch - 17ms/step
Epoch 51/75
4378/4378 - 73s - loss: 0.3536 - accuracy: 0.8800 - val_loss: 1.0117 - val_accuracy: 0.7829 - lr: 0.0010 - 73s/epoch - 17ms/step
Epoch 52/75
4378/4378 - 73s - loss: 0.3484 - accuracy: 0.8821 - val_loss: 1.1150 - val_accuracy: 0.7492 - lr: 0.0010 - 73s/epoch - 17ms/step
Epoch 53/75
4378/4378 - 72s - loss: 0.3455 - accuracy: 0.8835 - val_loss: 0.8272 - val_accuracy: 0.8021 - lr: 0.0010 - 72s/epoch - 17ms/step
Epoch 54/75
4378/4378 - 73s - loss: 0.3477 - accuracy: 0.8818 - val_loss: 0.9140 - val_accuracy: 0.7862 - lr: 0.0010 - 73s/epoch - 17ms/step
Epoch 55/75
4378/4378 - 73s - loss: 0.3522 - accuracy: 0.8809 - val_loss: 0.9308 - val_accuracy: 0.7812 - lr: 0.0010 - 73s/epoch - 17ms/step
Epoch 56/75
4378/4378 - 73s - loss: 0.3503 - accuracy: 0.8804 - val_loss: 0.9911 - val_accuracy: 0.7822 - lr: 0.0010 - 73s/epoch - 17ms/step
Epoch 57/75
4378/4378 - 73s - loss: 0.3514 - accuracy: 0.8810 - val_loss: 0.8397 - val_accuracy: 0.8030 - lr: 0.0010 - 73s/epoch - 17ms/step
Epoch 58/75
4378/4378 - 73s - loss: 0.3508 - accuracy: 0.8803 - val_loss: 1.0980 - val_accuracy: 0.7572 - lr: 0.0010 - 73s/epoch - 17ms/step
Epoch 59/75
4378/4378 - 73s - loss: 0.3518 - accuracy: 0.8796 - val_loss: 0.9999 - val_accuracy: 0.7716 - lr: 0.0010 - 73s/epoch - 17ms/step
Epoch 60/75
4378/4378 - 73s - loss: 0.3534 - accuracy: 0.8796 - val_loss: 1.0296 - val_accuracy: 0.7792 - lr: 0.0010 - 73s/epoch - 17ms/step
Epoch 61/75
4378/4378 - 73s - loss: 0.3486 - accuracy: 0.8819 - val_loss: 0.8533 - val_accuracy: 0.8022 - lr: 0.0010 - 73s/epoch - 17ms/step
Epoch 62/75
4378/4378 - 73s - loss: 0.3501 - accuracy: 0.8817 - val_loss: 0.9398 - val_accuracy: 0.7730 - lr: 0.0010 - 73s/epoch - 17ms/step
Epoch 63/75
4378/4378 - 73s - loss: 0.3516 - accuracy: 0.8803 - val_loss: 0.9926 - val_accuracy: 0.7791 - lr: 0.0010 - 73s/epoch - 17ms/step
Epoch 64/75
4378/4378 - 74s - loss: 0.3510 - accuracy: 0.8805 - val_loss: 1.1564 - val_accuracy: 0.7550 - lr: 0.0010 - 74s/epoch - 17ms/step
Epoch 65/75
4378/4378 - 74s - loss: 0.3564 - accuracy: 0.8792 - val_loss: 0.9038 - val_accuracy: 0.8018 - lr: 0.0010 - 74s/epoch - 17ms/step
Epoch 66/75
4378/4378 - 74s - loss: 0.3524 - accuracy: 0.8805 - val_loss: 0.9835 - val_accuracy: 0.7783 - lr: 0.0010 - 74s/epoch - 17ms/step
Epoch 67/75
4378/4378 - 74s - loss: 0.3572 - accuracy: 0.8786 - val_loss: 1.1353 - val_accuracy: 0.7498 - lr: 0.0010 - 74s/epoch - 17ms/step
Epoch 68/75
4378/4378 - 75s - loss: 0.3518 - accuracy: 0.8797 - val_loss: 1.0517 - val_accuracy: 0.7649 - lr: 0.0010 - 75s/epoch - 17ms/step
Epoch 69/75
4378/4378 - 75s - loss: 0.3595 - accuracy: 0.8792 - val_loss: 0.9058 - val_accuracy: 0.7873 - lr: 0.0010 - 75s/epoch - 17ms/step
Epoch 70/75
4378/4378 - 75s - loss: 0.3536 - accuracy: 0.8803 - val_loss: 1.0017 - val_accuracy: 0.7773 - lr: 0.0010 - 75s/epoch - 17ms/step
Epoch 71/75
4378/4378 - 74s - loss: 0.3545 - accuracy: 0.8796 - val_loss: 0.9301 - val_accuracy: 0.7925 - lr: 0.0010 - 74s/epoch - 17ms/step
Epoch 72/75
4378/4378 - 75s - loss: 0.3578 - accuracy: 0.8781 - val_loss: 0.8963 - val_accuracy: 0.7864 - lr: 0.0010 - 75s/epoch - 17ms/step
Epoch 73/75
4378/4378 - 74s - loss: 0.3521 - accuracy: 0.8802 - val_loss: 0.9625 - val_accuracy: 0.7868 - lr: 0.0010 - 74s/epoch - 17ms/step
Epoch 74/75
4378/4378 - 74s - loss: 0.3513 - accuracy: 0.8813 - val_loss: 0.9102 - val_accuracy: 0.7910 - lr: 0.0010 - 74s/epoch - 17ms/step
Epoch 75/75
4378/4378 - 73s - loss: 0.3592 - accuracy: 0.8776 - val_loss: 0.9720 - val_accuracy: 0.7759 - lr: 0.0010 - 73s/epoch - 17ms/step
fitting with batch size: 100
Epoch 1/75
876/876 - 21s - loss: 0.2734 - accuracy: 0.9051 - val_loss: 1.1184 - val_accuracy: 0.7707 - lr: 0.0010 - 21s/epoch - 24ms/step
Epoch 2/75
876/876 - 18s - loss: 0.2543 - accuracy: 0.9110 - val_loss: 1.1369 - val_accuracy: 0.7827 - lr: 0.0010 - 18s/epoch - 21ms/step
Epoch 3/75
876/876 - 18s - loss: 0.2461 - accuracy: 0.9140 - val_loss: 1.2398 - val_accuracy: 0.7526 - lr: 0.0010 - 18s/epoch - 21ms/step
Epoch 4/75
876/876 - 18s - loss: 0.2379 - accuracy: 0.9172 - val_loss: 1.2020 - val_accuracy: 0.7648 - lr: 0.0010 - 18s/epoch - 21ms/step
Epoch 5/75
876/876 - 18s - loss: 0.2343 - accuracy: 0.9188 - val_loss: 1.2442 - val_accuracy: 0.7619 - lr: 0.0010 - 18s/epoch - 21ms/step
Epoch 6/75
876/876 - 18s - loss: 0.2306 - accuracy: 0.9192 - val_loss: 1.1624 - val_accuracy: 0.7704 - lr: 0.0010 - 18s/epoch - 21ms/step
Epoch 7/75
876/876 - 18s - loss: 0.2277 - accuracy: 0.9198 - val_loss: 1.1010 - val_accuracy: 0.7880 - lr: 0.0010 - 18s/epoch - 21ms/step
Epoch 8/75
876/876 - 18s - loss: 0.2250 - accuracy: 0.9212 - val_loss: 1.2054 - val_accuracy: 0.7582 - lr: 0.0010 - 18s/epoch - 21ms/step
Epoch 9/75
876/876 - 18s - loss: 0.2196 - accuracy: 0.9232 - val_loss: 1.2946 - val_accuracy: 0.7675 - lr: 0.0010 - 18s/epoch - 21ms/step
Epoch 10/75
876/876 - 18s - loss: 0.2244 - accuracy: 0.9222 - val_loss: 1.2104 - val_accuracy: 0.7645 - lr: 0.0010 - 18s/epoch - 21ms/step
Epoch 11/75
876/876 - 18s - loss: 0.2185 - accuracy: 0.9234 - val_loss: 1.0942 - val_accuracy: 0.8005 - lr: 0.0010 - 18s/epoch - 21ms/step
Epoch 12/75
876/876 - 18s - loss: 0.2204 - accuracy: 0.9231 - val_loss: 1.2116 - val_accuracy: 0.7653 - lr: 0.0010 - 18s/epoch - 21ms/step
Epoch 13/75
876/876 - 18s - loss: 0.2158 - accuracy: 0.9254 - val_loss: 1.1439 - val_accuracy: 0.7786 - lr: 0.0010 - 18s/epoch - 21ms/step
Epoch 14/75
876/876 - 18s - loss: 0.2178 - accuracy: 0.9234 - val_loss: 1.2586 - val_accuracy: 0.7705 - lr: 0.0010 - 18s/epoch - 21ms/step
Epoch 15/75
876/876 - 18s - loss: 0.2156 - accuracy: 0.9241 - val_loss: 1.2488 - val_accuracy: 0.7560 - lr: 0.0010 - 18s/epoch - 21ms/step
Epoch 16/75
876/876 - 18s - loss: 0.2127 - accuracy: 0.9252 - val_loss: 1.3433 - val_accuracy: 0.7527 - lr: 0.0010 - 18s/epoch - 21ms/step
Epoch 17/75
876/876 - 18s - loss: 0.2128 - accuracy: 0.9253 - val_loss: 1.2531 - val_accuracy: 0.7771 - lr: 0.0010 - 18s/epoch - 21ms/step
Epoch 18/75
876/876 - 18s - loss: 0.2068 - accuracy: 0.9273 - val_loss: 1.2222 - val_accuracy: 0.7817 - lr: 0.0010 - 18s/epoch - 21ms/step
Epoch 19/75
876/876 - 18s - loss: 0.2094 - accuracy: 0.9270 - val_loss: 1.2720 - val_accuracy: 0.7647 - lr: 0.0010 - 18s/epoch - 21ms/step
Epoch 20/75
876/876 - 19s - loss: 0.2083 - accuracy: 0.9262 - val_loss: 1.1061 - val_accuracy: 0.7925 - lr: 0.0010 - 19s/epoch - 21ms/step
Epoch 21/75
876/876 - 18s - loss: 0.2085 - accuracy: 0.9270 - val_loss: 1.3926 - val_accuracy: 0.7545 - lr: 0.0010 - 18s/epoch - 21ms/step
Epoch 22/75
876/876 - 18s - loss: 0.2061 - accuracy: 0.9273 - val_loss: 1.1934 - val_accuracy: 0.7808 - lr: 0.0010 - 18s/epoch - 21ms/step
Epoch 23/75
876/876 - 18s - loss: 0.2071 - accuracy: 0.9274 - val_loss: 1.1946 - val_accuracy: 0.7815 - lr: 0.0010 - 18s/epoch - 21ms/step
Epoch 24/75
876/876 - 19s - loss: 0.2069 - accuracy: 0.9268 - val_loss: 1.1987 - val_accuracy: 0.7823 - lr: 0.0010 - 19s/epoch - 21ms/step
Epoch 25/75
876/876 - 19s - loss: 0.2052 - accuracy: 0.9285 - val_loss: 1.2245 - val_accuracy: 0.7708 - lr: 0.0010 - 19s/epoch - 21ms/step
Epoch 26/75
876/876 - 18s - loss: 0.2048 - accuracy: 0.9290 - val_loss: 1.3212 - val_accuracy: 0.7628 - lr: 0.0010 - 18s/epoch - 21ms/step
Epoch 27/75
876/876 - 18s - loss: 0.2028 - accuracy: 0.9295 - val_loss: 1.1539 - val_accuracy: 0.7893 - lr: 0.0010 - 18s/epoch - 21ms/step
Epoch 28/75
876/876 - 18s - loss: 0.2039 - accuracy: 0.9291 - val_loss: 1.2546 - val_accuracy: 0.7681 - lr: 0.0010 - 18s/epoch - 21ms/step
Epoch 29/75
876/876 - 18s - loss: 0.2047 - accuracy: 0.9285 - val_loss: 1.2666 - val_accuracy: 0.7670 - lr: 0.0010 - 18s/epoch - 21ms/step
Epoch 30/75
876/876 - 18s - loss: 0.2020 - accuracy: 0.9289 - val_loss: 1.2957 - val_accuracy: 0.7673 - lr: 0.0010 - 18s/epoch - 21ms/step
Epoch 31/75
876/876 - 19s - loss: 0.2033 - accuracy: 0.9290 - val_loss: 1.2802 - val_accuracy: 0.7726 - lr: 0.0010 - 19s/epoch - 21ms/step
Epoch 32/75
876/876 - 19s - loss: 0.1992 - accuracy: 0.9296 - val_loss: 1.3655 - val_accuracy: 0.7646 - lr: 0.0010 - 19s/epoch - 22ms/step
Epoch 33/75
876/876 - 19s - loss: 0.2009 - accuracy: 0.9302 - val_loss: 1.2828 - val_accuracy: 0.7683 - lr: 0.0010 - 19s/epoch - 22ms/step
Epoch 34/75
876/876 - 19s - loss: 0.2003 - accuracy: 0.9300 - val_loss: 1.3121 - val_accuracy: 0.7680 - lr: 0.0010 - 19s/epoch - 21ms/step
Epoch 35/75
876/876 - 18s - loss: 0.1973 - accuracy: 0.9316 - val_loss: 1.3642 - val_accuracy: 0.7600 - lr: 0.0010 - 18s/epoch - 21ms/step
Epoch 36/75
876/876 - 18s - loss: 0.1989 - accuracy: 0.9307 - val_loss: 1.1747 - val_accuracy: 0.7773 - lr: 0.0010 - 18s/epoch - 21ms/step
Epoch 37/75
876/876 - 18s - loss: 0.2016 - accuracy: 0.9297 - val_loss: 1.3186 - val_accuracy: 0.7619 - lr: 0.0010 - 18s/epoch - 21ms/step
Epoch 38/75
876/876 - 18s - loss: 0.1962 - accuracy: 0.9306 - val_loss: 1.2922 - val_accuracy: 0.7707 - lr: 0.0010 - 18s/epoch - 21ms/step
Epoch 39/75
876/876 - 18s - loss: 0.1992 - accuracy: 0.9310 - val_loss: 1.4538 - val_accuracy: 0.7534 - lr: 0.0010 - 18s/epoch - 21ms/step
Epoch 40/75
876/876 - 18s - loss: 0.1987 - accuracy: 0.9301 - val_loss: 1.3364 - val_accuracy: 0.7719 - lr: 0.0010 - 18s/epoch - 21ms/step
Epoch 41/75
876/876 - 18s - loss: 0.1967 - accuracy: 0.9304 - val_loss: 1.2628 - val_accuracy: 0.7822 - lr: 0.0010 - 18s/epoch - 21ms/step
Epoch 42/75
876/876 - 18s - loss: 0.1996 - accuracy: 0.9299 - val_loss: 1.2952 - val_accuracy: 0.7707 - lr: 0.0010 - 18s/epoch - 21ms/step
Epoch 43/75
876/876 - 18s - loss: 0.1960 - accuracy: 0.9312 - val_loss: 1.2170 - val_accuracy: 0.7836 - lr: 0.0010 - 18s/epoch - 21ms/step
Epoch 44/75
876/876 - 18s - loss: 0.1967 - accuracy: 0.9304 - val_loss: 1.3548 - val_accuracy: 0.7577 - lr: 0.0010 - 18s/epoch - 21ms/step
Epoch 45/75
876/876 - 18s - loss: 0.1921 - accuracy: 0.9323 - val_loss: 1.1883 - val_accuracy: 0.7842 - lr: 0.0010 - 18s/epoch - 21ms/step
Epoch 46/75
876/876 - 18s - loss: 0.1926 - accuracy: 0.9322 - val_loss: 1.2539 - val_accuracy: 0.7812 - lr: 0.0010 - 18s/epoch - 21ms/step
Epoch 47/75
876/876 - 18s - loss: 0.1943 - accuracy: 0.9314 - val_loss: 1.4589 - val_accuracy: 0.7448 - lr: 0.0010 - 18s/epoch - 21ms/step
Epoch 48/75
876/876 - 18s - loss: 0.1930 - accuracy: 0.9319 - val_loss: 1.2738 - val_accuracy: 0.7733 - lr: 0.0010 - 18s/epoch - 21ms/step
Epoch 49/75
876/876 - 18s - loss: 0.1923 - accuracy: 0.9323 - val_loss: 1.5343 - val_accuracy: 0.7398 - lr: 0.0010 - 18s/epoch - 21ms/step
Epoch 50/75
876/876 - 18s - loss: 0.1932 - accuracy: 0.9320 - val_loss: 1.2488 - val_accuracy: 0.7634 - lr: 0.0010 - 18s/epoch - 21ms/step
Epoch 51/75
876/876 - 18s - loss: 0.1935 - accuracy: 0.9319 - val_loss: 1.2943 - val_accuracy: 0.7640 - lr: 0.0010 - 18s/epoch - 21ms/step
Epoch 52/75
876/876 - 18s - loss: 0.1922 - accuracy: 0.9331 - val_loss: 1.5127 - val_accuracy: 0.7379 - lr: 0.0010 - 18s/epoch - 21ms/step
Epoch 53/75
876/876 - 19s - loss: 0.1952 - accuracy: 0.9314 - val_loss: 1.3780 - val_accuracy: 0.7609 - lr: 0.0010 - 19s/epoch - 21ms/step
Epoch 54/75
876/876 - 18s - loss: 0.1922 - accuracy: 0.9323 - val_loss: 1.3033 - val_accuracy: 0.7550 - lr: 0.0010 - 18s/epoch - 21ms/step
Epoch 55/75
876/876 - 18s - loss: 0.1902 - accuracy: 0.9334 - val_loss: 1.4049 - val_accuracy: 0.7545 - lr: 0.0010 - 18s/epoch - 21ms/step
Epoch 56/75
876/876 - 18s - loss: 0.1878 - accuracy: 0.9335 - val_loss: 1.4956 - val_accuracy: 0.7304 - lr: 0.0010 - 18s/epoch - 21ms/step
Epoch 57/75
876/876 - 18s - loss: 0.1914 - accuracy: 0.9331 - val_loss: 1.2536 - val_accuracy: 0.7722 - lr: 0.0010 - 18s/epoch - 21ms/step
Epoch 58/75
876/876 - 18s - loss: 0.1909 - accuracy: 0.9335 - val_loss: 1.3398 - val_accuracy: 0.7579 - lr: 0.0010 - 18s/epoch - 21ms/step
Epoch 59/75
876/876 - 18s - loss: 0.1898 - accuracy: 0.9334 - val_loss: 1.2122 - val_accuracy: 0.7649 - lr: 0.0010 - 18s/epoch - 21ms/step
Epoch 60/75
876/876 - 18s - loss: 0.1909 - accuracy: 0.9328 - val_loss: 1.2810 - val_accuracy: 0.7736 - lr: 0.0010 - 18s/epoch - 21ms/step
Epoch 61/75
876/876 - 18s - loss: 0.1914 - accuracy: 0.9330 - val_loss: 1.2263 - val_accuracy: 0.7697 - lr: 0.0010 - 18s/epoch - 21ms/step
Epoch 62/75
876/876 - 18s - loss: 0.1887 - accuracy: 0.9337 - val_loss: 1.4588 - val_accuracy: 0.7511 - lr: 0.0010 - 18s/epoch - 21ms/step
Epoch 63/75
876/876 - 18s - loss: 0.1876 - accuracy: 0.9343 - val_loss: 1.2873 - val_accuracy: 0.7734 - lr: 0.0010 - 18s/epoch - 21ms/step
Epoch 64/75
876/876 - 18s - loss: 0.1845 - accuracy: 0.9355 - val_loss: 1.3207 - val_accuracy: 0.7777 - lr: 0.0010 - 18s/epoch - 21ms/step
Epoch 65/75
876/876 - 18s - loss: 0.1890 - accuracy: 0.9343 - val_loss: 1.3803 - val_accuracy: 0.7583 - lr: 0.0010 - 18s/epoch - 21ms/step
Epoch 66/75
876/876 - 18s - loss: 0.1868 - accuracy: 0.9348 - val_loss: 1.4870 - val_accuracy: 0.7577 - lr: 0.0010 - 18s/epoch - 21ms/step
Epoch 67/75
876/876 - 18s - loss: 0.1887 - accuracy: 0.9338 - val_loss: 1.3882 - val_accuracy: 0.7538 - lr: 0.0010 - 18s/epoch - 21ms/step
Epoch 68/75
876/876 - 18s - loss: 0.1873 - accuracy: 0.9351 - val_loss: 1.2639 - val_accuracy: 0.7733 - lr: 0.0010 - 18s/epoch - 21ms/step
Epoch 69/75
876/876 - 18s - loss: 0.1911 - accuracy: 0.9345 - val_loss: 1.3357 - val_accuracy: 0.7613 - lr: 0.0010 - 18s/epoch - 21ms/step
Epoch 70/75
876/876 - 18s - loss: 0.1873 - accuracy: 0.9341 - val_loss: 1.4611 - val_accuracy: 0.7350 - lr: 0.0010 - 18s/epoch - 21ms/step
Epoch 71/75
876/876 - 18s - loss: 0.1854 - accuracy: 0.9358 - val_loss: 1.3112 - val_accuracy: 0.7660 - lr: 0.0010 - 18s/epoch - 21ms/step
Epoch 72/75
876/876 - 18s - loss: 0.1865 - accuracy: 0.9348 - val_loss: 1.4153 - val_accuracy: 0.7454 - lr: 0.0010 - 18s/epoch - 21ms/step
Epoch 73/75
876/876 - 18s - loss: 0.1869 - accuracy: 0.9351 - val_loss: 1.4083 - val_accuracy: 0.7467 - lr: 0.0010 - 18s/epoch - 21ms/step
Epoch 74/75
876/876 - 18s - loss: 0.1854 - accuracy: 0.9347 - val_loss: 1.3189 - val_accuracy: 0.7517 - lr: 0.0010 - 18s/epoch - 21ms/step
Epoch 75/75
876/876 - 18s - loss: 0.1843 - accuracy: 0.9359 - val_loss: 1.3452 - val_accuracy: 0.7625 - lr: 0.0010 - 18s/epoch - 21ms/step
fitting with batch size: 500
Epoch 1/75
176/176 - 12s - loss: 0.1413 - accuracy: 0.9492 - val_loss: 1.6013 - val_accuracy: 0.7507 - lr: 0.0010 - 12s/epoch - 68ms/step
Epoch 2/75
176/176 - 10s - loss: 0.1417 - accuracy: 0.9492 - val_loss: 1.6163 - val_accuracy: 0.7451 - lr: 0.0010 - 10s/epoch - 55ms/step
Epoch 3/75
176/176 - 10s - loss: 0.1363 - accuracy: 0.9511 - val_loss: 1.6512 - val_accuracy: 0.7506 - lr: 0.0010 - 10s/epoch - 56ms/step
Epoch 4/75
176/176 - 10s - loss: 0.1329 - accuracy: 0.9520 - val_loss: 1.7672 - val_accuracy: 0.7455 - lr: 0.0010 - 10s/epoch - 56ms/step
Epoch 5/75
176/176 - 10s - loss: 0.1311 - accuracy: 0.9528 - val_loss: 1.8106 - val_accuracy: 0.7469 - lr: 0.0010 - 10s/epoch - 56ms/step
Epoch 6/75
176/176 - 10s - loss: 0.1309 - accuracy: 0.9523 - val_loss: 1.6561 - val_accuracy: 0.7641 - lr: 0.0010 - 10s/epoch - 56ms/step
Epoch 7/75
176/176 - 10s - loss: 0.1290 - accuracy: 0.9537 - val_loss: 1.5836 - val_accuracy: 0.7731 - lr: 0.0010 - 10s/epoch - 55ms/step
Epoch 8/75
176/176 - 10s - loss: 0.1329 - accuracy: 0.9525 - val_loss: 1.8060 - val_accuracy: 0.7480 - lr: 0.0010 - 10s/epoch - 56ms/step
Epoch 9/75
176/176 - 10s - loss: 0.1306 - accuracy: 0.9535 - val_loss: 1.8048 - val_accuracy: 0.7402 - lr: 0.0010 - 10s/epoch - 56ms/step
Epoch 10/75
176/176 - 10s - loss: 0.1299 - accuracy: 0.9531 - val_loss: 1.6866 - val_accuracy: 0.7536 - lr: 0.0010 - 10s/epoch - 56ms/step
Epoch 11/75
176/176 - 10s - loss: 0.1265 - accuracy: 0.9546 - val_loss: 1.7682 - val_accuracy: 0.7459 - lr: 0.0010 - 10s/epoch - 56ms/step
Epoch 12/75
176/176 - 10s - loss: 0.1284 - accuracy: 0.9537 - val_loss: 1.6846 - val_accuracy: 0.7565 - lr: 0.0010 - 10s/epoch - 56ms/step
Epoch 13/75
176/176 - 10s - loss: 0.1243 - accuracy: 0.9549 - val_loss: 1.8530 - val_accuracy: 0.7340 - lr: 0.0010 - 10s/epoch - 55ms/step
Epoch 14/75
176/176 - 10s - loss: 0.1250 - accuracy: 0.9545 - val_loss: 1.7496 - val_accuracy: 0.7498 - lr: 0.0010 - 10s/epoch - 55ms/step
Epoch 15/75
176/176 - 10s - loss: 0.1189 - accuracy: 0.9567 - val_loss: 1.8822 - val_accuracy: 0.7320 - lr: 0.0010 - 10s/epoch - 56ms/step
Epoch 16/75
176/176 - 10s - loss: 0.1268 - accuracy: 0.9537 - val_loss: 1.7517 - val_accuracy: 0.7486 - lr: 0.0010 - 10s/epoch - 56ms/step
Epoch 17/75
176/176 - 10s - loss: 0.1253 - accuracy: 0.9548 - val_loss: 1.7333 - val_accuracy: 0.7592 - lr: 0.0010 - 10s/epoch - 56ms/step
Epoch 18/75
176/176 - 10s - loss: 0.1261 - accuracy: 0.9545 - val_loss: 1.7658 - val_accuracy: 0.7466 - lr: 0.0010 - 10s/epoch - 56ms/step
Epoch 19/75
176/176 - 10s - loss: 0.1220 - accuracy: 0.9562 - val_loss: 1.6845 - val_accuracy: 0.7524 - lr: 0.0010 - 10s/epoch - 56ms/step
Epoch 20/75
176/176 - 10s - loss: 0.1237 - accuracy: 0.9546 - val_loss: 1.7900 - val_accuracy: 0.7431 - lr: 0.0010 - 10s/epoch - 56ms/step
Epoch 21/75
176/176 - 10s - loss: 0.1215 - accuracy: 0.9553 - val_loss: 1.7472 - val_accuracy: 0.7483 - lr: 0.0010 - 10s/epoch - 55ms/step
Epoch 22/75
176/176 - 10s - loss: 0.1188 - accuracy: 0.9573 - val_loss: 1.8411 - val_accuracy: 0.7329 - lr: 0.0010 - 10s/epoch - 55ms/step
Epoch 23/75
176/176 - 10s - loss: 0.1243 - accuracy: 0.9550 - val_loss: 1.8726 - val_accuracy: 0.7366 - lr: 0.0010 - 10s/epoch - 58ms/step
Epoch 24/75
176/176 - 10s - loss: 0.1222 - accuracy: 0.9559 - val_loss: 1.9122 - val_accuracy: 0.7281 - lr: 0.0010 - 10s/epoch - 58ms/step
Epoch 25/75
176/176 - 10s - loss: 0.1213 - accuracy: 0.9559 - val_loss: 1.7712 - val_accuracy: 0.7411 - lr: 0.0010 - 10s/epoch - 57ms/step
Epoch 26/75
176/176 - 10s - loss: 0.1171 - accuracy: 0.9572 - val_loss: 1.9083 - val_accuracy: 0.7431 - lr: 0.0010 - 10s/epoch - 56ms/step
Epoch 27/75
176/176 - 10s - loss: 0.1228 - accuracy: 0.9562 - val_loss: 1.8061 - val_accuracy: 0.7480 - lr: 0.0010 - 10s/epoch - 56ms/step
Epoch 28/75
176/176 - 10s - loss: 0.1223 - accuracy: 0.9558 - val_loss: 1.7913 - val_accuracy: 0.7430 - lr: 0.0010 - 10s/epoch - 55ms/step
Epoch 29/75
176/176 - 10s - loss: 0.1201 - accuracy: 0.9565 - val_loss: 1.9645 - val_accuracy: 0.7318 - lr: 0.0010 - 10s/epoch - 55ms/step
Epoch 30/75
176/176 - 10s - loss: 0.1207 - accuracy: 0.9561 - val_loss: 1.8322 - val_accuracy: 0.7358 - lr: 0.0010 - 10s/epoch - 56ms/step
Epoch 31/75
176/176 - 10s - loss: 0.1234 - accuracy: 0.9553 - val_loss: 1.8098 - val_accuracy: 0.7391 - lr: 0.0010 - 10s/epoch - 56ms/step
Epoch 32/75
176/176 - 10s - loss: 0.1189 - accuracy: 0.9559 - val_loss: 1.9494 - val_accuracy: 0.7265 - lr: 0.0010 - 10s/epoch - 56ms/step
Epoch 33/75
176/176 - 10s - loss: 0.1198 - accuracy: 0.9567 - val_loss: 1.8635 - val_accuracy: 0.7428 - lr: 0.0010 - 10s/epoch - 59ms/step
Epoch 34/75
176/176 - 10s - loss: 0.1187 - accuracy: 0.9573 - val_loss: 1.8949 - val_accuracy: 0.7345 - lr: 0.0010 - 10s/epoch - 58ms/step
Epoch 35/75
176/176 - 10s - loss: 0.1209 - accuracy: 0.9562 - val_loss: 1.7332 - val_accuracy: 0.7532 - lr: 0.0010 - 10s/epoch - 55ms/step
Epoch 36/75
176/176 - 10s - loss: 0.1187 - accuracy: 0.9571 - val_loss: 1.7726 - val_accuracy: 0.7463 - lr: 0.0010 - 10s/epoch - 56ms/step
Epoch 37/75
176/176 - 10s - loss: 0.1217 - accuracy: 0.9556 - val_loss: 1.9209 - val_accuracy: 0.7345 - lr: 0.0010 - 10s/epoch - 58ms/step
Epoch 38/75
176/176 - 10s - loss: 0.1201 - accuracy: 0.9557 - val_loss: 1.9000 - val_accuracy: 0.7333 - lr: 0.0010 - 10s/epoch - 58ms/step
Epoch 39/75
176/176 - 10s - loss: 0.1171 - accuracy: 0.9570 - val_loss: 1.7895 - val_accuracy: 0.7503 - lr: 0.0010 - 10s/epoch - 55ms/step
Epoch 40/75
176/176 - 10s - loss: 0.1189 - accuracy: 0.9567 - val_loss: 1.8380 - val_accuracy: 0.7455 - lr: 0.0010 - 10s/epoch - 55ms/step
Epoch 41/75
176/176 - 10s - loss: 0.1173 - accuracy: 0.9576 - val_loss: 1.7243 - val_accuracy: 0.7606 - lr: 0.0010 - 10s/epoch - 55ms/step
Epoch 42/75
176/176 - 10s - loss: 0.1164 - accuracy: 0.9568 - val_loss: 1.8158 - val_accuracy: 0.7549 - lr: 0.0010 - 10s/epoch - 55ms/step
Epoch 43/75
176/176 - 10s - loss: 0.1171 - accuracy: 0.9570 - val_loss: 1.7892 - val_accuracy: 0.7540 - lr: 0.0010 - 10s/epoch - 56ms/step
Epoch 44/75
176/176 - 10s - loss: 0.1182 - accuracy: 0.9572 - val_loss: 1.8793 - val_accuracy: 0.7369 - lr: 0.0010 - 10s/epoch - 56ms/step
Epoch 45/75
176/176 - 10s - loss: 0.1203 - accuracy: 0.9568 - val_loss: 1.7506 - val_accuracy: 0.7580 - lr: 0.0010 - 10s/epoch - 58ms/step
Epoch 46/75
176/176 - 10s - loss: 0.1211 - accuracy: 0.9561 - val_loss: 1.7428 - val_accuracy: 0.7532 - lr: 0.0010 - 10s/epoch - 55ms/step
Epoch 47/75
176/176 - 10s - loss: 0.1187 - accuracy: 0.9569 - val_loss: 1.7497 - val_accuracy: 0.7509 - lr: 0.0010 - 10s/epoch - 56ms/step
Epoch 48/75
176/176 - 10s - loss: 0.1150 - accuracy: 0.9588 - val_loss: 1.8183 - val_accuracy: 0.7401 - lr: 0.0010 - 10s/epoch - 56ms/step
Epoch 49/75
176/176 - 10s - loss: 0.1177 - accuracy: 0.9574 - val_loss: 1.9331 - val_accuracy: 0.7258 - lr: 0.0010 - 10s/epoch - 55ms/step
Epoch 50/75
176/176 - 10s - loss: 0.1156 - accuracy: 0.9580 - val_loss: 1.8246 - val_accuracy: 0.7479 - lr: 0.0010 - 10s/epoch - 56ms/step
Epoch 51/75
176/176 - 10s - loss: 0.1136 - accuracy: 0.9588 - val_loss: 1.8249 - val_accuracy: 0.7508 - lr: 0.0010 - 10s/epoch - 56ms/step
Epoch 52/75
176/176 - 10s - loss: 0.1138 - accuracy: 0.9582 - val_loss: 1.8621 - val_accuracy: 0.7417 - lr: 0.0010 - 10s/epoch - 56ms/step
Epoch 53/75
176/176 - 10s - loss: 0.1174 - accuracy: 0.9573 - val_loss: 1.7424 - val_accuracy: 0.7523 - lr: 0.0010 - 10s/epoch - 58ms/step
Epoch 54/75
176/176 - 10s - loss: 0.1178 - accuracy: 0.9572 - val_loss: 1.9255 - val_accuracy: 0.7344 - lr: 0.0010 - 10s/epoch - 59ms/step
Epoch 55/75
176/176 - 10s - loss: 0.1165 - accuracy: 0.9572 - val_loss: 1.8673 - val_accuracy: 0.7396 - lr: 0.0010 - 10s/epoch - 55ms/step
Epoch 56/75
176/176 - 10s - loss: 0.1158 - accuracy: 0.9581 - val_loss: 1.7596 - val_accuracy: 0.7477 - lr: 0.0010 - 10s/epoch - 56ms/step
Epoch 57/75
176/176 - 10s - loss: 0.1187 - accuracy: 0.9577 - val_loss: 1.6000 - val_accuracy: 0.7656 - lr: 0.0010 - 10s/epoch - 56ms/step
Epoch 58/75
176/176 - 10s - loss: 0.1143 - accuracy: 0.9589 - val_loss: 1.8998 - val_accuracy: 0.7323 - lr: 0.0010 - 10s/epoch - 56ms/step
Epoch 59/75
176/176 - 10s - loss: 0.1164 - accuracy: 0.9579 - val_loss: 1.7622 - val_accuracy: 0.7458 - lr: 0.0010 - 10s/epoch - 56ms/step
Epoch 60/75
176/176 - 10s - loss: 0.1164 - accuracy: 0.9577 - val_loss: 1.8941 - val_accuracy: 0.7254 - lr: 0.0010 - 10s/epoch - 56ms/step
Epoch 61/75
176/176 - 10s - loss: 0.1153 - accuracy: 0.9580 - val_loss: 1.9262 - val_accuracy: 0.7363 - lr: 0.0010 - 10s/epoch - 55ms/step
Epoch 62/75
176/176 - 10s - loss: 0.1179 - accuracy: 0.9572 - val_loss: 1.8707 - val_accuracy: 0.7393 - lr: 0.0010 - 10s/epoch - 55ms/step
Epoch 63/75
176/176 - 10s - loss: 0.1147 - accuracy: 0.9583 - val_loss: 1.8033 - val_accuracy: 0.7397 - lr: 0.0010 - 10s/epoch - 56ms/step
Epoch 64/75
176/176 - 10s - loss: 0.1142 - accuracy: 0.9586 - val_loss: 1.7729 - val_accuracy: 0.7403 - lr: 0.0010 - 10s/epoch - 56ms/step
Epoch 65/75
176/176 - 10s - loss: 0.1163 - accuracy: 0.9579 - val_loss: 1.9351 - val_accuracy: 0.7204 - lr: 0.0010 - 10s/epoch - 56ms/step
Epoch 66/75
176/176 - 10s - loss: 0.1133 - accuracy: 0.9584 - val_loss: 1.9040 - val_accuracy: 0.7428 - lr: 0.0010 - 10s/epoch - 55ms/step
Epoch 67/75
176/176 - 10s - loss: 0.1143 - accuracy: 0.9584 - val_loss: 1.8543 - val_accuracy: 0.7453 - lr: 0.0010 - 10s/epoch - 56ms/step
Epoch 68/75
176/176 - 10s - loss: 0.1163 - accuracy: 0.9579 - val_loss: 1.9134 - val_accuracy: 0.7353 - lr: 0.0010 - 10s/epoch - 56ms/step
Epoch 69/75
176/176 - 10s - loss: 0.1149 - accuracy: 0.9580 - val_loss: 1.7969 - val_accuracy: 0.7546 - lr: 0.0010 - 10s/epoch - 56ms/step
Epoch 70/75
176/176 - 10s - loss: 0.1163 - accuracy: 0.9576 - val_loss: 1.7850 - val_accuracy: 0.7440 - lr: 0.0010 - 10s/epoch - 56ms/step
Epoch 71/75
176/176 - 10s - loss: 0.1076 - accuracy: 0.9606 - val_loss: 1.8981 - val_accuracy: 0.7286 - lr: 0.0010 - 10s/epoch - 56ms/step
Epoch 72/75
176/176 - 10s - loss: 0.1092 - accuracy: 0.9604 - val_loss: 1.8668 - val_accuracy: 0.7408 - lr: 0.0010 - 10s/epoch - 56ms/step
Epoch 73/75
176/176 - 10s - loss: 0.1130 - accuracy: 0.9587 - val_loss: 1.8456 - val_accuracy: 0.7445 - lr: 0.0010 - 10s/epoch - 56ms/step
Epoch 74/75
176/176 - 10s - loss: 0.1126 - accuracy: 0.9592 - val_loss: 1.9643 - val_accuracy: 0.7303 - lr: 0.0010 - 10s/epoch - 56ms/step
Epoch 75/75
176/176 - 10s - loss: 0.1079 - accuracy: 0.9603 - val_loss: 2.0511 - val_accuracy: 0.7250 - lr: 0.0010 - 10s/epoch - 56ms/step
Epoch number: 100
fitting with batch size: 20
Epoch 1/100
4378/4378 - 76s - loss: 0.2772 - accuracy: 0.9062 - val_loss: 1.1665 - val_accuracy: 0.7554 - lr: 0.0010 - 76s/epoch - 17ms/step
Epoch 2/100
4378/4378 - 74s - loss: 0.3027 - accuracy: 0.8975 - val_loss: 1.1170 - val_accuracy: 0.7558 - lr: 0.0010 - 74s/epoch - 17ms/step
Epoch 3/100
4378/4378 - 73s - loss: 0.3159 - accuracy: 0.8926 - val_loss: 0.8715 - val_accuracy: 0.7895 - lr: 0.0010 - 73s/epoch - 17ms/step
Epoch 4/100
4378/4378 - 73s - loss: 0.3137 - accuracy: 0.8926 - val_loss: 0.9773 - val_accuracy: 0.7760 - lr: 0.0010 - 73s/epoch - 17ms/step
Epoch 5/100
4378/4378 - 73s - loss: 0.3175 - accuracy: 0.8926 - val_loss: 0.8859 - val_accuracy: 0.7868 - lr: 0.0010 - 73s/epoch - 17ms/step
Epoch 6/100
4378/4378 - 73s - loss: 0.3177 - accuracy: 0.8926 - val_loss: 1.1661 - val_accuracy: 0.7378 - lr: 0.0010 - 73s/epoch - 17ms/step
Epoch 7/100
4378/4378 - 73s - loss: 0.3247 - accuracy: 0.8891 - val_loss: 0.8884 - val_accuracy: 0.7920 - lr: 0.0010 - 73s/epoch - 17ms/step
Epoch 8/100
4378/4378 - 73s - loss: 0.3293 - accuracy: 0.8881 - val_loss: 1.1516 - val_accuracy: 0.7475 - lr: 0.0010 - 73s/epoch - 17ms/step
Epoch 9/100
4378/4378 - 73s - loss: 0.3314 - accuracy: 0.8868 - val_loss: 1.0507 - val_accuracy: 0.7608 - lr: 0.0010 - 73s/epoch - 17ms/step
Epoch 10/100
4378/4378 - 73s - loss: 0.3292 - accuracy: 0.8882 - val_loss: 0.9745 - val_accuracy: 0.7778 - lr: 0.0010 - 73s/epoch - 17ms/step
Epoch 11/100
4378/4378 - 73s - loss: 0.3285 - accuracy: 0.8884 - val_loss: 1.1299 - val_accuracy: 0.7593 - lr: 0.0010 - 73s/epoch - 17ms/step
Epoch 12/100
4378/4378 - 75s - loss: 0.3348 - accuracy: 0.8863 - val_loss: 0.9527 - val_accuracy: 0.7742 - lr: 0.0010 - 75s/epoch - 17ms/step
Epoch 13/100
4378/4378 - 73s - loss: 0.3348 - accuracy: 0.8858 - val_loss: 0.8975 - val_accuracy: 0.7754 - lr: 0.0010 - 73s/epoch - 17ms/step
Epoch 14/100
4378/4378 - 73s - loss: 0.3333 - accuracy: 0.8859 - val_loss: 0.8672 - val_accuracy: 0.7860 - lr: 0.0010 - 73s/epoch - 17ms/step
Epoch 15/100
4378/4378 - 75s - loss: 0.3269 - accuracy: 0.8877 - val_loss: 0.8128 - val_accuracy: 0.8094 - lr: 0.0010 - 75s/epoch - 17ms/step
Epoch 16/100
4378/4378 - 73s - loss: 0.3272 - accuracy: 0.8891 - val_loss: 1.0120 - val_accuracy: 0.7734 - lr: 0.0010 - 73s/epoch - 17ms/step
Epoch 17/100
4378/4378 - 73s - loss: 0.3290 - accuracy: 0.8886 - val_loss: 1.0710 - val_accuracy: 0.7496 - lr: 0.0010 - 73s/epoch - 17ms/step
Epoch 18/100
4378/4378 - 73s - loss: 0.3311 - accuracy: 0.8873 - val_loss: 1.0304 - val_accuracy: 0.7838 - lr: 0.0010 - 73s/epoch - 17ms/step
Epoch 19/100
4378/4378 - 73s - loss: 0.3342 - accuracy: 0.8861 - val_loss: 0.8219 - val_accuracy: 0.8163 - lr: 0.0010 - 73s/epoch - 17ms/step
Epoch 20/100
4378/4378 - 73s - loss: 0.3351 - accuracy: 0.8862 - val_loss: 0.9907 - val_accuracy: 0.7748 - lr: 0.0010 - 73s/epoch - 17ms/step
Epoch 21/100
4378/4378 - 73s - loss: 0.3399 - accuracy: 0.8851 - val_loss: 0.9688 - val_accuracy: 0.7697 - lr: 0.0010 - 73s/epoch - 17ms/step
Epoch 22/100
4378/4378 - 73s - loss: 0.3294 - accuracy: 0.8877 - val_loss: 0.8228 - val_accuracy: 0.8060 - lr: 0.0010 - 73s/epoch - 17ms/step
Epoch 23/100
4378/4378 - 73s - loss: 0.3310 - accuracy: 0.8876 - val_loss: 0.9297 - val_accuracy: 0.7720 - lr: 0.0010 - 73s/epoch - 17ms/step
Epoch 24/100
4378/4378 - 73s - loss: 0.3350 - accuracy: 0.8854 - val_loss: 1.2763 - val_accuracy: 0.7357 - lr: 0.0010 - 73s/epoch - 17ms/step
Epoch 25/100
4378/4378 - 73s - loss: 0.3375 - accuracy: 0.8849 - val_loss: 0.9390 - val_accuracy: 0.7877 - lr: 0.0010 - 73s/epoch - 17ms/step
Epoch 26/100
4378/4378 - 73s - loss: 0.3343 - accuracy: 0.8851 - val_loss: 1.0680 - val_accuracy: 0.7644 - lr: 0.0010 - 73s/epoch - 17ms/step
Epoch 27/100
4378/4378 - 73s - loss: 0.3387 - accuracy: 0.8850 - val_loss: 1.0735 - val_accuracy: 0.7688 - lr: 0.0010 - 73s/epoch - 17ms/step
Epoch 28/100
4378/4378 - 73s - loss: 0.3356 - accuracy: 0.8862 - val_loss: 0.9944 - val_accuracy: 0.7828 - lr: 0.0010 - 73s/epoch - 17ms/step
Epoch 29/100
4378/4378 - 73s - loss: 0.3388 - accuracy: 0.8860 - val_loss: 0.7741 - val_accuracy: 0.8273 - lr: 0.0010 - 73s/epoch - 17ms/step
Epoch 30/100
4378/4378 - 73s - loss: 0.3314 - accuracy: 0.8866 - val_loss: 1.0374 - val_accuracy: 0.7824 - lr: 0.0010 - 73s/epoch - 17ms/step
Epoch 31/100
4378/4378 - 73s - loss: 0.3369 - accuracy: 0.8858 - val_loss: 1.1548 - val_accuracy: 0.7606 - lr: 0.0010 - 73s/epoch - 17ms/step
Epoch 32/100
4378/4378 - 73s - loss: 0.3349 - accuracy: 0.8859 - val_loss: 0.9886 - val_accuracy: 0.7856 - lr: 0.0010 - 73s/epoch - 17ms/step
Epoch 33/100
4378/4378 - 73s - loss: 0.3365 - accuracy: 0.8854 - val_loss: 1.0125 - val_accuracy: 0.7715 - lr: 0.0010 - 73s/epoch - 17ms/step
Epoch 34/100
4378/4378 - 73s - loss: 0.3380 - accuracy: 0.8853 - val_loss: 0.9242 - val_accuracy: 0.7975 - lr: 0.0010 - 73s/epoch - 17ms/step
Epoch 35/100
4378/4378 - 73s - loss: 0.3352 - accuracy: 0.8860 - val_loss: 0.9126 - val_accuracy: 0.7838 - lr: 0.0010 - 73s/epoch - 17ms/step
Epoch 36/100
4378/4378 - 73s - loss: 0.3343 - accuracy: 0.8851 - val_loss: 1.0632 - val_accuracy: 0.7621 - lr: 0.0010 - 73s/epoch - 17ms/step
Epoch 37/100
4378/4378 - 73s - loss: 0.3356 - accuracy: 0.8858 - val_loss: 1.1267 - val_accuracy: 0.7698 - lr: 0.0010 - 73s/epoch - 17ms/step
Epoch 38/100
4378/4378 - 73s - loss: 0.3363 - accuracy: 0.8854 - val_loss: 0.8554 - val_accuracy: 0.8069 - lr: 0.0010 - 73s/epoch - 17ms/step
Epoch 39/100
4378/4378 - 73s - loss: 0.3419 - accuracy: 0.8834 - val_loss: 0.9172 - val_accuracy: 0.7829 - lr: 0.0010 - 73s/epoch - 17ms/step
Epoch 40/100
4378/4378 - 73s - loss: 0.3369 - accuracy: 0.8860 - val_loss: 0.8353 - val_accuracy: 0.7926 - lr: 0.0010 - 73s/epoch - 17ms/step
Epoch 41/100
4378/4378 - 73s - loss: 0.3391 - accuracy: 0.8849 - val_loss: 0.9694 - val_accuracy: 0.7897 - lr: 0.0010 - 73s/epoch - 17ms/step
Epoch 42/100
4378/4378 - 73s - loss: 0.3401 - accuracy: 0.8848 - val_loss: 0.9031 - val_accuracy: 0.7907 - lr: 0.0010 - 73s/epoch - 17ms/step
Epoch 43/100
4378/4378 - 73s - loss: 0.3377 - accuracy: 0.8851 - val_loss: 0.8085 - val_accuracy: 0.8074 - lr: 0.0010 - 73s/epoch - 17ms/step
Epoch 44/100
4378/4378 - 73s - loss: 0.3375 - accuracy: 0.8857 - val_loss: 0.8917 - val_accuracy: 0.8066 - lr: 0.0010 - 73s/epoch - 17ms/step
Epoch 45/100
4378/4378 - 74s - loss: 0.3405 - accuracy: 0.8842 - val_loss: 0.9866 - val_accuracy: 0.7979 - lr: 0.0010 - 74s/epoch - 17ms/step
Epoch 46/100
4378/4378 - 73s - loss: 0.3416 - accuracy: 0.8838 - val_loss: 1.0389 - val_accuracy: 0.7711 - lr: 0.0010 - 73s/epoch - 17ms/step
Epoch 47/100
4378/4378 - 73s - loss: 0.3453 - accuracy: 0.8826 - val_loss: 0.8328 - val_accuracy: 0.7995 - lr: 0.0010 - 73s/epoch - 17ms/step
Epoch 48/100
4378/4378 - 73s - loss: 0.3394 - accuracy: 0.8841 - val_loss: 0.9138 - val_accuracy: 0.7928 - lr: 0.0010 - 73s/epoch - 17ms/step
Epoch 49/100
4378/4378 - 73s - loss: 0.3396 - accuracy: 0.8850 - val_loss: 1.0735 - val_accuracy: 0.7719 - lr: 0.0010 - 73s/epoch - 17ms/step
Epoch 50/100
4378/4378 - 73s - loss: 0.3400 - accuracy: 0.8842 - val_loss: 1.2727 - val_accuracy: 0.7369 - lr: 0.0010 - 73s/epoch - 17ms/step
Epoch 51/100
4378/4378 - 73s - loss: 0.3435 - accuracy: 0.8845 - val_loss: 1.1048 - val_accuracy: 0.7484 - lr: 0.0010 - 73s/epoch - 17ms/step
Epoch 52/100
4378/4378 - 73s - loss: 0.3415 - accuracy: 0.8850 - val_loss: 0.8353 - val_accuracy: 0.8139 - lr: 0.0010 - 73s/epoch - 17ms/step
Epoch 53/100
4378/4378 - 73s - loss: 0.3405 - accuracy: 0.8839 - val_loss: 1.4665 - val_accuracy: 0.7289 - lr: 0.0010 - 73s/epoch - 17ms/step
Epoch 54/100
4378/4378 - 73s - loss: 0.3432 - accuracy: 0.8835 - val_loss: 0.9168 - val_accuracy: 0.7854 - lr: 0.0010 - 73s/epoch - 17ms/step
Epoch 55/100
4378/4378 - 73s - loss: 0.3448 - accuracy: 0.8828 - val_loss: 0.9274 - val_accuracy: 0.8005 - lr: 0.0010 - 73s/epoch - 17ms/step
Epoch 56/100
4378/4378 - 73s - loss: 0.3387 - accuracy: 0.8851 - val_loss: 0.7388 - val_accuracy: 0.8316 - lr: 0.0010 - 73s/epoch - 17ms/step
Epoch 57/100
4378/4378 - 73s - loss: 0.3456 - accuracy: 0.8831 - val_loss: 0.8740 - val_accuracy: 0.7923 - lr: 0.0010 - 73s/epoch - 17ms/step
Epoch 58/100
4378/4378 - 73s - loss: 0.3455 - accuracy: 0.8835 - val_loss: 0.9531 - val_accuracy: 0.7783 - lr: 0.0010 - 73s/epoch - 17ms/step
Epoch 59/100
4378/4378 - 73s - loss: 0.3466 - accuracy: 0.8818 - val_loss: 0.9505 - val_accuracy: 0.7869 - lr: 0.0010 - 73s/epoch - 17ms/step
Epoch 60/100
4378/4378 - 73s - loss: 0.3498 - accuracy: 0.8827 - val_loss: 0.8430 - val_accuracy: 0.7918 - lr: 0.0010 - 73s/epoch - 17ms/step
Epoch 61/100
4378/4378 - 73s - loss: 0.3464 - accuracy: 0.8820 - val_loss: 1.0191 - val_accuracy: 0.7649 - lr: 0.0010 - 73s/epoch - 17ms/step
Epoch 62/100
4378/4378 - 73s - loss: 0.3451 - accuracy: 0.8824 - val_loss: 1.0454 - val_accuracy: 0.7737 - lr: 0.0010 - 73s/epoch - 17ms/step
Epoch 63/100
4378/4378 - 73s - loss: 0.3444 - accuracy: 0.8833 - val_loss: 1.0383 - val_accuracy: 0.7634 - lr: 0.0010 - 73s/epoch - 17ms/step
Epoch 64/100
4378/4378 - 73s - loss: 0.3464 - accuracy: 0.8837 - val_loss: 0.8374 - val_accuracy: 0.7927 - lr: 0.0010 - 73s/epoch - 17ms/step
Epoch 65/100
4378/4378 - 73s - loss: 0.3406 - accuracy: 0.8840 - val_loss: 1.1366 - val_accuracy: 0.7639 - lr: 0.0010 - 73s/epoch - 17ms/step
Epoch 66/100
4378/4378 - 73s - loss: 0.3442 - accuracy: 0.8833 - val_loss: 1.0639 - val_accuracy: 0.7670 - lr: 0.0010 - 73s/epoch - 17ms/step
Epoch 67/100
4378/4378 - 73s - loss: 0.3460 - accuracy: 0.8833 - val_loss: 0.9651 - val_accuracy: 0.7931 - lr: 0.0010 - 73s/epoch - 17ms/step
Epoch 68/100
4378/4378 - 73s - loss: 0.3450 - accuracy: 0.8830 - val_loss: 0.9423 - val_accuracy: 0.7960 - lr: 0.0010 - 73s/epoch - 17ms/step
Epoch 69/100
4378/4378 - 73s - loss: 0.3455 - accuracy: 0.8827 - val_loss: 0.8100 - val_accuracy: 0.8217 - lr: 0.0010 - 73s/epoch - 17ms/step
Epoch 70/100
4378/4378 - 73s - loss: 0.3491 - accuracy: 0.8813 - val_loss: 1.0037 - val_accuracy: 0.7629 - lr: 0.0010 - 73s/epoch - 17ms/step
Epoch 71/100
4378/4378 - 73s - loss: 0.3459 - accuracy: 0.8813 - val_loss: 1.0633 - val_accuracy: 0.7611 - lr: 0.0010 - 73s/epoch - 17ms/step
Epoch 72/100
4378/4378 - 73s - loss: 0.3473 - accuracy: 0.8823 - val_loss: 1.2252 - val_accuracy: 0.7523 - lr: 0.0010 - 73s/epoch - 17ms/step
Epoch 73/100
4378/4378 - 73s - loss: 0.3503 - accuracy: 0.8827 - val_loss: 1.0032 - val_accuracy: 0.7720 - lr: 0.0010 - 73s/epoch - 17ms/step
Epoch 74/100
4378/4378 - 73s - loss: 0.3507 - accuracy: 0.8808 - val_loss: 0.9001 - val_accuracy: 0.7921 - lr: 0.0010 - 73s/epoch - 17ms/step
Epoch 75/100
4378/4378 - 73s - loss: 0.3530 - accuracy: 0.8786 - val_loss: 0.9991 - val_accuracy: 0.7841 - lr: 0.0010 - 73s/epoch - 17ms/step
Epoch 76/100
4378/4378 - 74s - loss: 0.3488 - accuracy: 0.8814 - val_loss: 0.8232 - val_accuracy: 0.8124 - lr: 0.0010 - 74s/epoch - 17ms/step
Epoch 77/100
4378/4378 - 73s - loss: 0.3438 - accuracy: 0.8837 - val_loss: 1.0919 - val_accuracy: 0.7613 - lr: 0.0010 - 73s/epoch - 17ms/step
Epoch 78/100
4378/4378 - 74s - loss: 0.3531 - accuracy: 0.8803 - val_loss: 1.0865 - val_accuracy: 0.7504 - lr: 0.0010 - 74s/epoch - 17ms/step
Epoch 79/100
4378/4378 - 73s - loss: 0.3480 - accuracy: 0.8817 - val_loss: 1.0002 - val_accuracy: 0.7985 - lr: 0.0010 - 73s/epoch - 17ms/step
Epoch 80/100
4378/4378 - 73s - loss: 0.3510 - accuracy: 0.8801 - val_loss: 0.8366 - val_accuracy: 0.8072 - lr: 0.0010 - 73s/epoch - 17ms/step
Epoch 81/100
4378/4378 - 73s - loss: 0.3516 - accuracy: 0.8811 - val_loss: 0.8806 - val_accuracy: 0.7951 - lr: 0.0010 - 73s/epoch - 17ms/step
Epoch 82/100
4378/4378 - 73s - loss: 0.3508 - accuracy: 0.8818 - val_loss: 1.0370 - val_accuracy: 0.7636 - lr: 0.0010 - 73s/epoch - 17ms/step
Epoch 83/100
4378/4378 - 73s - loss: 0.3505 - accuracy: 0.8809 - val_loss: 0.9931 - val_accuracy: 0.7747 - lr: 0.0010 - 73s/epoch - 17ms/step
Epoch 84/100
4378/4378 - 73s - loss: 0.3515 - accuracy: 0.8791 - val_loss: 0.9921 - val_accuracy: 0.7959 - lr: 0.0010 - 73s/epoch - 17ms/step
Epoch 85/100
4378/4378 - 73s - loss: 0.3517 - accuracy: 0.8804 - val_loss: 0.9482 - val_accuracy: 0.8000 - lr: 0.0010 - 73s/epoch - 17ms/step
Epoch 86/100
4378/4378 - 73s - loss: 0.3499 - accuracy: 0.8819 - val_loss: 1.1179 - val_accuracy: 0.7627 - lr: 0.0010 - 73s/epoch - 17ms/step
Epoch 87/100
4378/4378 - 73s - loss: 0.3492 - accuracy: 0.8814 - val_loss: 0.9280 - val_accuracy: 0.7862 - lr: 0.0010 - 73s/epoch - 17ms/step
Epoch 88/100
4378/4378 - 73s - loss: 0.3505 - accuracy: 0.8811 - val_loss: 1.0455 - val_accuracy: 0.7732 - lr: 0.0010 - 73s/epoch - 17ms/step
Epoch 89/100
4378/4378 - 73s - loss: 0.3511 - accuracy: 0.8794 - val_loss: 0.7871 - val_accuracy: 0.8335 - lr: 0.0010 - 73s/epoch - 17ms/step
Epoch 90/100
4378/4378 - 73s - loss: 0.3518 - accuracy: 0.8822 - val_loss: 0.8963 - val_accuracy: 0.7715 - lr: 0.0010 - 73s/epoch - 17ms/step
Epoch 91/100
4378/4378 - 73s - loss: 0.3477 - accuracy: 0.8824 - val_loss: 0.8354 - val_accuracy: 0.7979 - lr: 0.0010 - 73s/epoch - 17ms/step
Epoch 92/100
4378/4378 - 73s - loss: 0.3518 - accuracy: 0.8810 - val_loss: 0.9012 - val_accuracy: 0.8058 - lr: 0.0010 - 73s/epoch - 17ms/step
Epoch 93/100
4378/4378 - 73s - loss: 0.3540 - accuracy: 0.8801 - val_loss: 0.9416 - val_accuracy: 0.8003 - lr: 0.0010 - 73s/epoch - 17ms/step
Epoch 94/100
4378/4378 - 73s - loss: 0.3542 - accuracy: 0.8804 - val_loss: 0.8913 - val_accuracy: 0.7827 - lr: 0.0010 - 73s/epoch - 17ms/step
Epoch 95/100
4378/4378 - 73s - loss: 0.3557 - accuracy: 0.8798 - val_loss: 0.8989 - val_accuracy: 0.7981 - lr: 0.0010 - 73s/epoch - 17ms/step
Epoch 96/100
4378/4378 - 73s - loss: 0.3572 - accuracy: 0.8794 - val_loss: 1.1103 - val_accuracy: 0.7586 - lr: 0.0010 - 73s/epoch - 17ms/step
Epoch 97/100
4378/4378 - 73s - loss: 0.3563 - accuracy: 0.8800 - val_loss: 1.2700 - val_accuracy: 0.7608 - lr: 0.0010 - 73s/epoch - 17ms/step
Epoch 98/100
4378/4378 - 73s - loss: 0.3494 - accuracy: 0.8814 - val_loss: 0.9157 - val_accuracy: 0.8000 - lr: 0.0010 - 73s/epoch - 17ms/step
Epoch 99/100
4378/4378 - 73s - loss: 0.3506 - accuracy: 0.8802 - val_loss: 1.0873 - val_accuracy: 0.7735 - lr: 0.0010 - 73s/epoch - 17ms/step
Epoch 100/100
4378/4378 - 73s - loss: 0.3505 - accuracy: 0.8811 - val_loss: 1.1045 - val_accuracy: 0.7643 - lr: 0.0010 - 73s/epoch - 17ms/step
fitting with batch size: 100
Epoch 1/100
876/876 - 21s - loss: 0.2675 - accuracy: 0.9075 - val_loss: 1.1336 - val_accuracy: 0.7680 - lr: 0.0010 - 21s/epoch - 23ms/step
Epoch 2/100
876/876 - 18s - loss: 0.2489 - accuracy: 0.9134 - val_loss: 1.1060 - val_accuracy: 0.7848 - lr: 0.0010 - 18s/epoch - 21ms/step
Epoch 3/100
876/876 - 18s - loss: 0.2388 - accuracy: 0.9172 - val_loss: 1.1457 - val_accuracy: 0.7793 - lr: 0.0010 - 18s/epoch - 21ms/step
Epoch 4/100
876/876 - 18s - loss: 0.2327 - accuracy: 0.9181 - val_loss: 1.1713 - val_accuracy: 0.7582 - lr: 0.0010 - 18s/epoch - 21ms/step
Epoch 5/100
876/876 - 18s - loss: 0.2280 - accuracy: 0.9205 - val_loss: 1.2312 - val_accuracy: 0.7644 - lr: 0.0010 - 18s/epoch - 21ms/step
Epoch 6/100
876/876 - 18s - loss: 0.2288 - accuracy: 0.9195 - val_loss: 1.2967 - val_accuracy: 0.7626 - lr: 0.0010 - 18s/epoch - 21ms/step
Epoch 7/100
876/876 - 18s - loss: 0.2255 - accuracy: 0.9219 - val_loss: 1.2571 - val_accuracy: 0.7603 - lr: 0.0010 - 18s/epoch - 21ms/step
Epoch 8/100
876/876 - 18s - loss: 0.2235 - accuracy: 0.9227 - val_loss: 1.2007 - val_accuracy: 0.7794 - lr: 0.0010 - 18s/epoch - 21ms/step
Epoch 9/100
876/876 - 18s - loss: 0.2200 - accuracy: 0.9230 - val_loss: 1.2168 - val_accuracy: 0.7615 - lr: 0.0010 - 18s/epoch - 21ms/step
Epoch 10/100
876/876 - 18s - loss: 0.2154 - accuracy: 0.9249 - val_loss: 1.3167 - val_accuracy: 0.7656 - lr: 0.0010 - 18s/epoch - 21ms/step
Epoch 11/100
876/876 - 18s - loss: 0.2186 - accuracy: 0.9237 - val_loss: 1.1667 - val_accuracy: 0.7627 - lr: 0.0010 - 18s/epoch - 21ms/step
Epoch 12/100
876/876 - 18s - loss: 0.2136 - accuracy: 0.9264 - val_loss: 1.2323 - val_accuracy: 0.7630 - lr: 0.0010 - 18s/epoch - 21ms/step
Epoch 13/100
876/876 - 18s - loss: 0.2122 - accuracy: 0.9266 - val_loss: 1.1806 - val_accuracy: 0.7703 - lr: 0.0010 - 18s/epoch - 21ms/step
Epoch 14/100
876/876 - 18s - loss: 0.2128 - accuracy: 0.9254 - val_loss: 1.2502 - val_accuracy: 0.7632 - lr: 0.0010 - 18s/epoch - 21ms/step
Epoch 15/100
876/876 - 18s - loss: 0.2079 - accuracy: 0.9278 - val_loss: 1.0587 - val_accuracy: 0.7937 - lr: 0.0010 - 18s/epoch - 21ms/step
Epoch 16/100
876/876 - 18s - loss: 0.2097 - accuracy: 0.9276 - val_loss: 1.3791 - val_accuracy: 0.7564 - lr: 0.0010 - 18s/epoch - 21ms/step
Epoch 17/100
876/876 - 18s - loss: 0.2093 - accuracy: 0.9270 - val_loss: 1.3030 - val_accuracy: 0.7725 - lr: 0.0010 - 18s/epoch - 21ms/step
Epoch 18/100
876/876 - 18s - loss: 0.2114 - accuracy: 0.9260 - val_loss: 1.3132 - val_accuracy: 0.7688 - lr: 0.0010 - 18s/epoch - 21ms/step
Epoch 19/100
876/876 - 18s - loss: 0.2063 - accuracy: 0.9274 - val_loss: 1.4466 - val_accuracy: 0.7377 - lr: 0.0010 - 18s/epoch - 21ms/step
Epoch 20/100
876/876 - 18s - loss: 0.2046 - accuracy: 0.9286 - val_loss: 1.3670 - val_accuracy: 0.7559 - lr: 0.0010 - 18s/epoch - 21ms/step
Epoch 21/100
876/876 - 18s - loss: 0.2058 - accuracy: 0.9283 - val_loss: 1.2261 - val_accuracy: 0.7585 - lr: 0.0010 - 18s/epoch - 21ms/step
Epoch 22/100
876/876 - 18s - loss: 0.2066 - accuracy: 0.9275 - val_loss: 1.2472 - val_accuracy: 0.7736 - lr: 0.0010 - 18s/epoch - 21ms/step
Epoch 23/100
876/876 - 18s - loss: 0.2050 - accuracy: 0.9294 - val_loss: 1.2700 - val_accuracy: 0.7704 - lr: 0.0010 - 18s/epoch - 21ms/step
Epoch 24/100
876/876 - 18s - loss: 0.2049 - accuracy: 0.9291 - val_loss: 1.4444 - val_accuracy: 0.7450 - lr: 0.0010 - 18s/epoch - 21ms/step
Epoch 25/100
876/876 - 18s - loss: 0.2025 - accuracy: 0.9292 - val_loss: 1.5199 - val_accuracy: 0.7405 - lr: 0.0010 - 18s/epoch - 21ms/step
Epoch 26/100
876/876 - 18s - loss: 0.1994 - accuracy: 0.9305 - val_loss: 1.3653 - val_accuracy: 0.7391 - lr: 0.0010 - 18s/epoch - 21ms/step
Epoch 27/100
876/876 - 18s - loss: 0.1990 - accuracy: 0.9301 - val_loss: 1.1168 - val_accuracy: 0.7950 - lr: 0.0010 - 18s/epoch - 21ms/step
Epoch 28/100
876/876 - 18s - loss: 0.2007 - accuracy: 0.9293 - val_loss: 1.3659 - val_accuracy: 0.7493 - lr: 0.0010 - 18s/epoch - 21ms/step
Epoch 29/100
876/876 - 18s - loss: 0.1982 - accuracy: 0.9306 - val_loss: 1.2955 - val_accuracy: 0.7538 - lr: 0.0010 - 18s/epoch - 21ms/step
Epoch 30/100
876/876 - 18s - loss: 0.1960 - accuracy: 0.9309 - val_loss: 1.1894 - val_accuracy: 0.7712 - lr: 0.0010 - 18s/epoch - 21ms/step
Epoch 31/100
876/876 - 18s - loss: 0.2003 - accuracy: 0.9302 - val_loss: 1.2602 - val_accuracy: 0.7765 - lr: 0.0010 - 18s/epoch - 21ms/step
Epoch 32/100
876/876 - 18s - loss: 0.1975 - accuracy: 0.9320 - val_loss: 1.2663 - val_accuracy: 0.7798 - lr: 0.0010 - 18s/epoch - 21ms/step
Epoch 33/100
876/876 - 18s - loss: 0.1967 - accuracy: 0.9311 - val_loss: 1.3021 - val_accuracy: 0.7691 - lr: 0.0010 - 18s/epoch - 21ms/step
Epoch 34/100
876/876 - 18s - loss: 0.1892 - accuracy: 0.9339 - val_loss: 1.4095 - val_accuracy: 0.7480 - lr: 0.0010 - 18s/epoch - 21ms/step
Epoch 35/100
876/876 - 18s - loss: 0.1951 - accuracy: 0.9327 - val_loss: 1.3091 - val_accuracy: 0.7712 - lr: 0.0010 - 18s/epoch - 21ms/step
Epoch 36/100
876/876 - 18s - loss: 0.1969 - accuracy: 0.9311 - val_loss: 1.4378 - val_accuracy: 0.7503 - lr: 0.0010 - 18s/epoch - 21ms/step
Epoch 37/100
876/876 - 18s - loss: 0.1944 - accuracy: 0.9325 - val_loss: 1.2492 - val_accuracy: 0.7859 - lr: 0.0010 - 18s/epoch - 21ms/step
Epoch 38/100
876/876 - 18s - loss: 0.1940 - accuracy: 0.9324 - val_loss: 1.2549 - val_accuracy: 0.7627 - lr: 0.0010 - 18s/epoch - 21ms/step
Epoch 39/100
876/876 - 18s - loss: 0.1913 - accuracy: 0.9331 - val_loss: 1.2416 - val_accuracy: 0.7700 - lr: 0.0010 - 18s/epoch - 21ms/step
Epoch 40/100
876/876 - 18s - loss: 0.1937 - accuracy: 0.9322 - val_loss: 1.3898 - val_accuracy: 0.7489 - lr: 0.0010 - 18s/epoch - 21ms/step
Epoch 41/100
876/876 - 18s - loss: 0.1944 - accuracy: 0.9322 - val_loss: 1.3580 - val_accuracy: 0.7495 - lr: 0.0010 - 18s/epoch - 21ms/step
Epoch 42/100
876/876 - 18s - loss: 0.1897 - accuracy: 0.9336 - val_loss: 1.2102 - val_accuracy: 0.7766 - lr: 0.0010 - 18s/epoch - 21ms/step
Epoch 43/100
876/876 - 18s - loss: 0.1951 - accuracy: 0.9317 - val_loss: 1.2744 - val_accuracy: 0.7611 - lr: 0.0010 - 18s/epoch - 21ms/step
Epoch 44/100
876/876 - 18s - loss: 0.1919 - accuracy: 0.9322 - val_loss: 1.2819 - val_accuracy: 0.7829 - lr: 0.0010 - 18s/epoch - 21ms/step
Epoch 45/100
876/876 - 18s - loss: 0.1906 - accuracy: 0.9336 - val_loss: 1.3183 - val_accuracy: 0.7605 - lr: 0.0010 - 18s/epoch - 21ms/step
Epoch 46/100
876/876 - 18s - loss: 0.1898 - accuracy: 0.9343 - val_loss: 1.3310 - val_accuracy: 0.7581 - lr: 0.0010 - 18s/epoch - 21ms/step
Epoch 47/100
876/876 - 18s - loss: 0.1907 - accuracy: 0.9335 - val_loss: 1.3206 - val_accuracy: 0.7736 - lr: 0.0010 - 18s/epoch - 21ms/step
Epoch 48/100
876/876 - 18s - loss: 0.1904 - accuracy: 0.9333 - val_loss: 1.3076 - val_accuracy: 0.7656 - lr: 0.0010 - 18s/epoch - 21ms/step
Epoch 49/100
876/876 - 18s - loss: 0.1887 - accuracy: 0.9340 - val_loss: 1.2594 - val_accuracy: 0.7833 - lr: 0.0010 - 18s/epoch - 21ms/step
Epoch 50/100
876/876 - 18s - loss: 0.1904 - accuracy: 0.9342 - val_loss: 1.3627 - val_accuracy: 0.7494 - lr: 0.0010 - 18s/epoch - 21ms/step
Epoch 51/100
876/876 - 18s - loss: 0.1863 - accuracy: 0.9348 - val_loss: 1.3190 - val_accuracy: 0.7628 - lr: 0.0010 - 18s/epoch - 21ms/step
Epoch 52/100
876/876 - 18s - loss: 0.1905 - accuracy: 0.9333 - val_loss: 1.4453 - val_accuracy: 0.7658 - lr: 0.0010 - 18s/epoch - 21ms/step
Epoch 53/100
876/876 - 18s - loss: 0.1897 - accuracy: 0.9335 - val_loss: 1.3454 - val_accuracy: 0.7606 - lr: 0.0010 - 18s/epoch - 21ms/step
Epoch 54/100
876/876 - 18s - loss: 0.1900 - accuracy: 0.9333 - val_loss: 1.2233 - val_accuracy: 0.7682 - lr: 0.0010 - 18s/epoch - 21ms/step
Epoch 55/100
876/876 - 18s - loss: 0.1865 - accuracy: 0.9359 - val_loss: 1.3694 - val_accuracy: 0.7679 - lr: 0.0010 - 18s/epoch - 21ms/step
Epoch 56/100
876/876 - 18s - loss: 0.1858 - accuracy: 0.9343 - val_loss: 1.1626 - val_accuracy: 0.7841 - lr: 0.0010 - 18s/epoch - 21ms/step
Epoch 57/100
876/876 - 18s - loss: 0.1833 - accuracy: 0.9355 - val_loss: 1.3750 - val_accuracy: 0.7593 - lr: 0.0010 - 18s/epoch - 21ms/step
Epoch 58/100
876/876 - 18s - loss: 0.1876 - accuracy: 0.9340 - val_loss: 1.3308 - val_accuracy: 0.7500 - lr: 0.0010 - 18s/epoch - 21ms/step
Epoch 59/100
876/876 - 18s - loss: 0.1865 - accuracy: 0.9342 - val_loss: 1.4977 - val_accuracy: 0.7410 - lr: 0.0010 - 18s/epoch - 21ms/step
Epoch 60/100
876/876 - 18s - loss: 0.1891 - accuracy: 0.9345 - val_loss: 1.2203 - val_accuracy: 0.7645 - lr: 0.0010 - 18s/epoch - 21ms/step
Epoch 61/100
876/876 - 18s - loss: 0.1882 - accuracy: 0.9344 - val_loss: 1.2754 - val_accuracy: 0.7659 - lr: 0.0010 - 18s/epoch - 21ms/step
Epoch 62/100
876/876 - 18s - loss: 0.1836 - accuracy: 0.9355 - val_loss: 1.5415 - val_accuracy: 0.7248 - lr: 0.0010 - 18s/epoch - 21ms/step
Epoch 63/100
876/876 - 18s - loss: 0.1877 - accuracy: 0.9349 - val_loss: 1.3521 - val_accuracy: 0.7568 - lr: 0.0010 - 18s/epoch - 21ms/step
Epoch 64/100
876/876 - 18s - loss: 0.1871 - accuracy: 0.9347 - val_loss: 1.3576 - val_accuracy: 0.7443 - lr: 0.0010 - 18s/epoch - 21ms/step
Epoch 65/100
876/876 - 18s - loss: 0.1824 - accuracy: 0.9356 - val_loss: 1.3364 - val_accuracy: 0.7674 - lr: 0.0010 - 18s/epoch - 21ms/step
Epoch 66/100
876/876 - 18s - loss: 0.1891 - accuracy: 0.9345 - val_loss: 1.2649 - val_accuracy: 0.7749 - lr: 0.0010 - 18s/epoch - 21ms/step
Epoch 67/100
876/876 - 18s - loss: 0.1861 - accuracy: 0.9347 - val_loss: 1.2179 - val_accuracy: 0.7835 - lr: 0.0010 - 18s/epoch - 21ms/step
Epoch 68/100
876/876 - 18s - loss: 0.1866 - accuracy: 0.9348 - val_loss: 1.4554 - val_accuracy: 0.7678 - lr: 0.0010 - 18s/epoch - 21ms/step
Epoch 69/100
876/876 - 19s - loss: 0.1808 - accuracy: 0.9362 - val_loss: 1.5313 - val_accuracy: 0.7385 - lr: 0.0010 - 19s/epoch - 21ms/step
Epoch 70/100
876/876 - 18s - loss: 0.1840 - accuracy: 0.9363 - val_loss: 1.3315 - val_accuracy: 0.7692 - lr: 0.0010 - 18s/epoch - 21ms/step
Epoch 71/100
876/876 - 18s - loss: 0.1862 - accuracy: 0.9348 - val_loss: 1.2958 - val_accuracy: 0.7637 - lr: 0.0010 - 18s/epoch - 21ms/step
Epoch 72/100
876/876 - 18s - loss: 0.1849 - accuracy: 0.9354 - val_loss: 1.3049 - val_accuracy: 0.7657 - lr: 0.0010 - 18s/epoch - 21ms/step
Epoch 73/100
876/876 - 18s - loss: 0.1866 - accuracy: 0.9350 - val_loss: 1.3583 - val_accuracy: 0.7687 - lr: 0.0010 - 18s/epoch - 21ms/step
Epoch 74/100
876/876 - 18s - loss: 0.1810 - accuracy: 0.9369 - val_loss: 1.2266 - val_accuracy: 0.7700 - lr: 0.0010 - 18s/epoch - 21ms/step
Epoch 75/100
876/876 - 18s - loss: 0.1831 - accuracy: 0.9358 - val_loss: 1.2460 - val_accuracy: 0.7631 - lr: 0.0010 - 18s/epoch - 21ms/step
Epoch 76/100
876/876 - 18s - loss: 0.1835 - accuracy: 0.9359 - val_loss: 1.3174 - val_accuracy: 0.7658 - lr: 0.0010 - 18s/epoch - 21ms/step
Epoch 77/100
876/876 - 18s - loss: 0.1825 - accuracy: 0.9355 - val_loss: 1.3674 - val_accuracy: 0.7604 - lr: 0.0010 - 18s/epoch - 21ms/step
Epoch 78/100
876/876 - 18s - loss: 0.1838 - accuracy: 0.9356 - val_loss: 1.5401 - val_accuracy: 0.7379 - lr: 0.0010 - 18s/epoch - 21ms/step
Epoch 79/100
876/876 - 18s - loss: 0.1801 - accuracy: 0.9368 - val_loss: 1.4354 - val_accuracy: 0.7385 - lr: 0.0010 - 18s/epoch - 21ms/step
Epoch 80/100
876/876 - 18s - loss: 0.1815 - accuracy: 0.9371 - val_loss: 1.3311 - val_accuracy: 0.7708 - lr: 0.0010 - 18s/epoch - 21ms/step
Epoch 81/100
876/876 - 18s - loss: 0.1850 - accuracy: 0.9347 - val_loss: 1.3995 - val_accuracy: 0.7478 - lr: 0.0010 - 18s/epoch - 21ms/step
Epoch 82/100
876/876 - 18s - loss: 0.1821 - accuracy: 0.9364 - val_loss: 1.3833 - val_accuracy: 0.7644 - lr: 0.0010 - 18s/epoch - 21ms/step
Epoch 83/100
876/876 - 18s - loss: 0.1837 - accuracy: 0.9360 - val_loss: 1.4200 - val_accuracy: 0.7552 - lr: 0.0010 - 18s/epoch - 21ms/step
Epoch 84/100
876/876 - 18s - loss: 0.1805 - accuracy: 0.9376 - val_loss: 1.3269 - val_accuracy: 0.7610 - lr: 0.0010 - 18s/epoch - 21ms/step
Epoch 85/100
876/876 - 18s - loss: 0.1824 - accuracy: 0.9364 - val_loss: 1.4638 - val_accuracy: 0.7405 - lr: 0.0010 - 18s/epoch - 21ms/step
Epoch 86/100
876/876 - 18s - loss: 0.1807 - accuracy: 0.9375 - val_loss: 1.5806 - val_accuracy: 0.7319 - lr: 0.0010 - 18s/epoch - 21ms/step
Epoch 87/100
876/876 - 18s - loss: 0.1812 - accuracy: 0.9363 - val_loss: 1.3119 - val_accuracy: 0.7542 - lr: 0.0010 - 18s/epoch - 21ms/step
Epoch 88/100
876/876 - 18s - loss: 0.1806 - accuracy: 0.9377 - val_loss: 1.3596 - val_accuracy: 0.7665 - lr: 0.0010 - 18s/epoch - 21ms/step
Epoch 89/100
876/876 - 18s - loss: 0.1789 - accuracy: 0.9370 - val_loss: 1.3876 - val_accuracy: 0.7605 - lr: 0.0010 - 18s/epoch - 21ms/step
Epoch 90/100
876/876 - 18s - loss: 0.1833 - accuracy: 0.9360 - val_loss: 1.2698 - val_accuracy: 0.7783 - lr: 0.0010 - 18s/epoch - 21ms/step
Epoch 91/100
876/876 - 18s - loss: 0.1787 - accuracy: 0.9385 - val_loss: 1.2945 - val_accuracy: 0.7675 - lr: 0.0010 - 18s/epoch - 21ms/step
Epoch 92/100
876/876 - 18s - loss: 0.1795 - accuracy: 0.9368 - val_loss: 1.4852 - val_accuracy: 0.7295 - lr: 0.0010 - 18s/epoch - 21ms/step
Epoch 93/100
876/876 - 18s - loss: 0.1809 - accuracy: 0.9365 - val_loss: 1.3030 - val_accuracy: 0.7755 - lr: 0.0010 - 18s/epoch - 21ms/step
Epoch 94/100
876/876 - 18s - loss: 0.1789 - accuracy: 0.9379 - val_loss: 1.2729 - val_accuracy: 0.7821 - lr: 0.0010 - 18s/epoch - 21ms/step
Epoch 95/100
876/876 - 18s - loss: 0.1734 - accuracy: 0.9398 - val_loss: 1.4658 - val_accuracy: 0.7521 - lr: 0.0010 - 18s/epoch - 21ms/step
Epoch 96/100
876/876 - 18s - loss: 0.1815 - accuracy: 0.9372 - val_loss: 1.3385 - val_accuracy: 0.7701 - lr: 0.0010 - 18s/epoch - 21ms/step
Epoch 97/100
876/876 - 18s - loss: 0.1796 - accuracy: 0.9371 - val_loss: 1.5111 - val_accuracy: 0.7481 - lr: 0.0010 - 18s/epoch - 21ms/step
Epoch 98/100
876/876 - 19s - loss: 0.1806 - accuracy: 0.9369 - val_loss: 1.5097 - val_accuracy: 0.7569 - lr: 0.0010 - 19s/epoch - 21ms/step
Epoch 99/100
876/876 - 19s - loss: 0.1818 - accuracy: 0.9365 - val_loss: 1.4258 - val_accuracy: 0.7589 - lr: 0.0010 - 19s/epoch - 21ms/step
Epoch 100/100
876/876 - 19s - loss: 0.1782 - accuracy: 0.9376 - val_loss: 1.3687 - val_accuracy: 0.7617 - lr: 0.0010 - 19s/epoch - 21ms/step
fitting with batch size: 500
Epoch 1/100
176/176 - 12s - loss: 0.1395 - accuracy: 0.9499 - val_loss: 1.5725 - val_accuracy: 0.7606 - lr: 0.0010 - 12s/epoch - 67ms/step
Epoch 2/100
176/176 - 10s - loss: 0.1342 - accuracy: 0.9517 - val_loss: 1.4505 - val_accuracy: 0.7727 - lr: 0.0010 - 10s/epoch - 56ms/step
Epoch 3/100
176/176 - 10s - loss: 0.1299 - accuracy: 0.9535 - val_loss: 1.8039 - val_accuracy: 0.7500 - lr: 0.0010 - 10s/epoch - 56ms/step
Epoch 4/100
176/176 - 10s - loss: 0.1253 - accuracy: 0.9547 - val_loss: 1.6911 - val_accuracy: 0.7571 - lr: 0.0010 - 10s/epoch - 55ms/step
Epoch 5/100
176/176 - 10s - loss: 0.1278 - accuracy: 0.9541 - val_loss: 1.6263 - val_accuracy: 0.7700 - lr: 0.0010 - 10s/epoch - 56ms/step
Epoch 6/100
176/176 - 10s - loss: 0.1259 - accuracy: 0.9545 - val_loss: 1.5690 - val_accuracy: 0.7775 - lr: 0.0010 - 10s/epoch - 56ms/step
Epoch 7/100
176/176 - 10s - loss: 0.1238 - accuracy: 0.9557 - val_loss: 1.8072 - val_accuracy: 0.7382 - lr: 0.0010 - 10s/epoch - 55ms/step
Epoch 8/100
176/176 - 10s - loss: 0.1262 - accuracy: 0.9554 - val_loss: 1.7575 - val_accuracy: 0.7442 - lr: 0.0010 - 10s/epoch - 55ms/step
Epoch 9/100
176/176 - 10s - loss: 0.1224 - accuracy: 0.9563 - val_loss: 1.8615 - val_accuracy: 0.7414 - lr: 0.0010 - 10s/epoch - 55ms/step
Epoch 10/100
176/176 - 10s - loss: 0.1204 - accuracy: 0.9562 - val_loss: 1.6216 - val_accuracy: 0.7598 - lr: 0.0010 - 10s/epoch - 55ms/step
Epoch 11/100
176/176 - 10s - loss: 0.1231 - accuracy: 0.9554 - val_loss: 1.7243 - val_accuracy: 0.7604 - lr: 0.0010 - 10s/epoch - 56ms/step
Epoch 12/100
176/176 - 10s - loss: 0.1209 - accuracy: 0.9561 - val_loss: 1.6504 - val_accuracy: 0.7581 - lr: 0.0010 - 10s/epoch - 56ms/step
Epoch 13/100
176/176 - 10s - loss: 0.1218 - accuracy: 0.9566 - val_loss: 1.6501 - val_accuracy: 0.7630 - lr: 0.0010 - 10s/epoch - 56ms/step
Epoch 14/100
176/176 - 10s - loss: 0.1235 - accuracy: 0.9558 - val_loss: 1.6339 - val_accuracy: 0.7666 - lr: 0.0010 - 10s/epoch - 55ms/step
Epoch 15/100
176/176 - 10s - loss: 0.1222 - accuracy: 0.9557 - val_loss: 1.8671 - val_accuracy: 0.7387 - lr: 0.0010 - 10s/epoch - 55ms/step
Epoch 16/100
176/176 - 10s - loss: 0.1231 - accuracy: 0.9562 - val_loss: 1.6511 - val_accuracy: 0.7515 - lr: 0.0010 - 10s/epoch - 55ms/step
Epoch 17/100
176/176 - 10s - loss: 0.1181 - accuracy: 0.9574 - val_loss: 1.7224 - val_accuracy: 0.7569 - lr: 0.0010 - 10s/epoch - 55ms/step
Epoch 18/100
176/176 - 10s - loss: 0.1181 - accuracy: 0.9574 - val_loss: 1.7441 - val_accuracy: 0.7590 - lr: 0.0010 - 10s/epoch - 55ms/step
Epoch 19/100
176/176 - 10s - loss: 0.1211 - accuracy: 0.9567 - val_loss: 1.6921 - val_accuracy: 0.7695 - lr: 0.0010 - 10s/epoch - 56ms/step
Epoch 20/100
176/176 - 10s - loss: 0.1218 - accuracy: 0.9569 - val_loss: 1.6657 - val_accuracy: 0.7524 - lr: 0.0010 - 10s/epoch - 56ms/step
Epoch 21/100
176/176 - 10s - loss: 0.1179 - accuracy: 0.9575 - val_loss: 1.6599 - val_accuracy: 0.7637 - lr: 0.0010 - 10s/epoch - 55ms/step
Epoch 22/100
176/176 - 10s - loss: 0.1195 - accuracy: 0.9571 - val_loss: 1.6895 - val_accuracy: 0.7590 - lr: 0.0010 - 10s/epoch - 55ms/step
Epoch 23/100
176/176 - 10s - loss: 0.1202 - accuracy: 0.9566 - val_loss: 1.6598 - val_accuracy: 0.7535 - lr: 0.0010 - 10s/epoch - 56ms/step
Epoch 24/100
176/176 - 10s - loss: 0.1191 - accuracy: 0.9568 - val_loss: 1.7671 - val_accuracy: 0.7579 - lr: 0.0010 - 10s/epoch - 55ms/step
Epoch 25/100
176/176 - 10s - loss: 0.1141 - accuracy: 0.9582 - val_loss: 1.7238 - val_accuracy: 0.7568 - lr: 0.0010 - 10s/epoch - 56ms/step
Epoch 26/100
176/176 - 10s - loss: 0.1163 - accuracy: 0.9576 - val_loss: 1.7634 - val_accuracy: 0.7488 - lr: 0.0010 - 10s/epoch - 56ms/step
Epoch 27/100
176/176 - 10s - loss: 0.1192 - accuracy: 0.9567 - val_loss: 1.7388 - val_accuracy: 0.7557 - lr: 0.0010 - 10s/epoch - 56ms/step
Epoch 28/100
176/176 - 10s - loss: 0.1174 - accuracy: 0.9577 - val_loss: 1.7463 - val_accuracy: 0.7592 - lr: 0.0010 - 10s/epoch - 55ms/step
Epoch 29/100
176/176 - 10s - loss: 0.1179 - accuracy: 0.9574 - val_loss: 1.7937 - val_accuracy: 0.7365 - lr: 0.0010 - 10s/epoch - 56ms/step
Epoch 30/100
176/176 - 10s - loss: 0.1172 - accuracy: 0.9578 - val_loss: 1.8456 - val_accuracy: 0.7412 - lr: 0.0010 - 10s/epoch - 56ms/step
Epoch 31/100
176/176 - 10s - loss: 0.1182 - accuracy: 0.9574 - val_loss: 1.6495 - val_accuracy: 0.7605 - lr: 0.0010 - 10s/epoch - 55ms/step
Epoch 32/100
176/176 - 10s - loss: 0.1175 - accuracy: 0.9572 - val_loss: 1.6727 - val_accuracy: 0.7652 - lr: 0.0010 - 10s/epoch - 56ms/step
Epoch 33/100
176/176 - 10s - loss: 0.1140 - accuracy: 0.9583 - val_loss: 1.8867 - val_accuracy: 0.7395 - lr: 0.0010 - 10s/epoch - 56ms/step
Epoch 34/100
176/176 - 10s - loss: 0.1140 - accuracy: 0.9588 - val_loss: 1.7278 - val_accuracy: 0.7643 - lr: 0.0010 - 10s/epoch - 55ms/step
Epoch 35/100
176/176 - 10s - loss: 0.1169 - accuracy: 0.9579 - val_loss: 1.6140 - val_accuracy: 0.7683 - lr: 0.0010 - 10s/epoch - 55ms/step
Epoch 36/100
176/176 - 10s - loss: 0.1188 - accuracy: 0.9574 - val_loss: 1.7745 - val_accuracy: 0.7555 - lr: 0.0010 - 10s/epoch - 56ms/step
Epoch 37/100
176/176 - 10s - loss: 0.1134 - accuracy: 0.9593 - val_loss: 1.7998 - val_accuracy: 0.7584 - lr: 0.0010 - 10s/epoch - 56ms/step
Epoch 38/100
176/176 - 10s - loss: 0.1152 - accuracy: 0.9583 - val_loss: 1.8334 - val_accuracy: 0.7309 - lr: 0.0010 - 10s/epoch - 58ms/step
Epoch 39/100
176/176 - 10s - loss: 0.1166 - accuracy: 0.9579 - val_loss: 1.7318 - val_accuracy: 0.7610 - lr: 0.0010 - 10s/epoch - 55ms/step
Epoch 40/100
176/176 - 10s - loss: 0.1165 - accuracy: 0.9582 - val_loss: 1.8324 - val_accuracy: 0.7426 - lr: 0.0010 - 10s/epoch - 55ms/step
Epoch 41/100
176/176 - 10s - loss: 0.1160 - accuracy: 0.9582 - val_loss: 1.7054 - val_accuracy: 0.7585 - lr: 0.0010 - 10s/epoch - 56ms/step
Epoch 42/100
176/176 - 10s - loss: 0.1115 - accuracy: 0.9591 - val_loss: 1.8535 - val_accuracy: 0.7417 - lr: 0.0010 - 10s/epoch - 55ms/step
Epoch 43/100
176/176 - 10s - loss: 0.1129 - accuracy: 0.9594 - val_loss: 1.7487 - val_accuracy: 0.7550 - lr: 0.0010 - 10s/epoch - 59ms/step
Epoch 44/100
176/176 - 10s - loss: 0.1143 - accuracy: 0.9582 - val_loss: 1.8254 - val_accuracy: 0.7393 - lr: 0.0010 - 10s/epoch - 59ms/step
Epoch 45/100
176/176 - 10s - loss: 0.1140 - accuracy: 0.9588 - val_loss: 1.7677 - val_accuracy: 0.7529 - lr: 0.0010 - 10s/epoch - 56ms/step
Epoch 46/100
176/176 - 10s - loss: 0.1133 - accuracy: 0.9590 - val_loss: 1.9808 - val_accuracy: 0.7329 - lr: 0.0010 - 10s/epoch - 55ms/step
Epoch 47/100
176/176 - 10s - loss: 0.1128 - accuracy: 0.9593 - val_loss: 1.8426 - val_accuracy: 0.7513 - lr: 0.0010 - 10s/epoch - 55ms/step
Epoch 48/100
176/176 - 10s - loss: 0.1126 - accuracy: 0.9597 - val_loss: 1.7149 - val_accuracy: 0.7559 - lr: 0.0010 - 10s/epoch - 55ms/step
Epoch 49/100
176/176 - 10s - loss: 0.1112 - accuracy: 0.9596 - val_loss: 1.6992 - val_accuracy: 0.7634 - lr: 0.0010 - 10s/epoch - 55ms/step
Epoch 50/100
176/176 - 10s - loss: 0.1112 - accuracy: 0.9590 - val_loss: 1.7932 - val_accuracy: 0.7567 - lr: 0.0010 - 10s/epoch - 58ms/step
Epoch 51/100
176/176 - 10s - loss: 0.1127 - accuracy: 0.9587 - val_loss: 1.6367 - val_accuracy: 0.7746 - lr: 0.0010 - 10s/epoch - 58ms/step
Epoch 52/100
176/176 - 10s - loss: 0.1146 - accuracy: 0.9581 - val_loss: 1.7251 - val_accuracy: 0.7519 - lr: 0.0010 - 10s/epoch - 56ms/step
Epoch 53/100
176/176 - 10s - loss: 0.1116 - accuracy: 0.9592 - val_loss: 1.7540 - val_accuracy: 0.7634 - lr: 0.0010 - 10s/epoch - 55ms/step
Epoch 54/100
176/176 - 10s - loss: 0.1145 - accuracy: 0.9585 - val_loss: 1.9638 - val_accuracy: 0.7310 - lr: 0.0010 - 10s/epoch - 55ms/step
Epoch 55/100
176/176 - 10s - loss: 0.1081 - accuracy: 0.9599 - val_loss: 1.9449 - val_accuracy: 0.7404 - lr: 0.0010 - 10s/epoch - 55ms/step
Epoch 56/100
176/176 - 10s - loss: 0.1129 - accuracy: 0.9590 - val_loss: 1.9488 - val_accuracy: 0.7349 - lr: 0.0010 - 10s/epoch - 56ms/step
Epoch 57/100
176/176 - 10s - loss: 0.1161 - accuracy: 0.9590 - val_loss: 1.8804 - val_accuracy: 0.7461 - lr: 0.0010 - 10s/epoch - 55ms/step
Epoch 58/100
176/176 - 10s - loss: 0.1134 - accuracy: 0.9585 - val_loss: 1.7491 - val_accuracy: 0.7598 - lr: 0.0010 - 10s/epoch - 55ms/step
Epoch 59/100
176/176 - 10s - loss: 0.1121 - accuracy: 0.9595 - val_loss: 1.8271 - val_accuracy: 0.7610 - lr: 0.0010 - 10s/epoch - 56ms/step
Epoch 60/100
176/176 - 10s - loss: 0.1127 - accuracy: 0.9592 - val_loss: 1.9004 - val_accuracy: 0.7523 - lr: 0.0010 - 10s/epoch - 56ms/step
Epoch 61/100
176/176 - 10s - loss: 0.1090 - accuracy: 0.9605 - val_loss: 1.9269 - val_accuracy: 0.7442 - lr: 0.0010 - 10s/epoch - 57ms/step
Epoch 62/100
176/176 - 10s - loss: 0.1167 - accuracy: 0.9579 - val_loss: 1.7654 - val_accuracy: 0.7487 - lr: 0.0010 - 10s/epoch - 55ms/step
Epoch 63/100
176/176 - 10s - loss: 0.1099 - accuracy: 0.9602 - val_loss: 1.8223 - val_accuracy: 0.7440 - lr: 0.0010 - 10s/epoch - 55ms/step
Epoch 64/100
176/176 - 10s - loss: 0.1114 - accuracy: 0.9594 - val_loss: 1.8781 - val_accuracy: 0.7389 - lr: 0.0010 - 10s/epoch - 56ms/step
Epoch 65/100
176/176 - 10s - loss: 0.1125 - accuracy: 0.9585 - val_loss: 1.7557 - val_accuracy: 0.7519 - lr: 0.0010 - 10s/epoch - 55ms/step
Epoch 66/100
176/176 - 10s - loss: 0.1101 - accuracy: 0.9602 - val_loss: 1.8585 - val_accuracy: 0.7345 - lr: 0.0010 - 10s/epoch - 55ms/step
Epoch 67/100
176/176 - 10s - loss: 0.1083 - accuracy: 0.9600 - val_loss: 1.9286 - val_accuracy: 0.7416 - lr: 0.0010 - 10s/epoch - 54ms/step
Epoch 68/100
176/176 - 10s - loss: 0.1117 - accuracy: 0.9591 - val_loss: 1.7698 - val_accuracy: 0.7556 - lr: 0.0010 - 10s/epoch - 55ms/step
Epoch 69/100
176/176 - 10s - loss: 0.1125 - accuracy: 0.9593 - val_loss: 1.7286 - val_accuracy: 0.7526 - lr: 0.0010 - 10s/epoch - 55ms/step
Epoch 70/100
176/176 - 10s - loss: 0.1084 - accuracy: 0.9600 - val_loss: 1.8555 - val_accuracy: 0.7466 - lr: 0.0010 - 10s/epoch - 55ms/step
Epoch 71/100
176/176 - 10s - loss: 0.1100 - accuracy: 0.9597 - val_loss: 1.9462 - val_accuracy: 0.7321 - lr: 0.0010 - 10s/epoch - 56ms/step
Epoch 72/100
176/176 - 10s - loss: 0.1093 - accuracy: 0.9602 - val_loss: 1.7421 - val_accuracy: 0.7625 - lr: 0.0010 - 10s/epoch - 55ms/step
Epoch 73/100
176/176 - 10s - loss: 0.1126 - accuracy: 0.9590 - val_loss: 1.8819 - val_accuracy: 0.7514 - lr: 0.0010 - 10s/epoch - 56ms/step
Epoch 74/100
176/176 - 10s - loss: 0.1100 - accuracy: 0.9603 - val_loss: 2.0053 - val_accuracy: 0.7309 - lr: 0.0010 - 10s/epoch - 56ms/step
Epoch 75/100
176/176 - 10s - loss: 0.1107 - accuracy: 0.9590 - val_loss: 1.9871 - val_accuracy: 0.7298 - lr: 0.0010 - 10s/epoch - 55ms/step
Epoch 76/100
176/176 - 10s - loss: 0.1101 - accuracy: 0.9601 - val_loss: 1.7964 - val_accuracy: 0.7466 - lr: 0.0010 - 10s/epoch - 55ms/step
Epoch 77/100
176/176 - 10s - loss: 0.1104 - accuracy: 0.9602 - val_loss: 1.7862 - val_accuracy: 0.7365 - lr: 0.0010 - 10s/epoch - 55ms/step
Epoch 78/100
176/176 - 10s - loss: 0.1082 - accuracy: 0.9600 - val_loss: 1.9980 - val_accuracy: 0.7214 - lr: 0.0010 - 10s/epoch - 55ms/step
Epoch 79/100
176/176 - 10s - loss: 0.1097 - accuracy: 0.9595 - val_loss: 1.7769 - val_accuracy: 0.7578 - lr: 0.0010 - 10s/epoch - 55ms/step
Epoch 80/100
176/176 - 10s - loss: 0.1065 - accuracy: 0.9608 - val_loss: 2.1099 - val_accuracy: 0.7184 - lr: 0.0010 - 10s/epoch - 56ms/step
Epoch 81/100
176/176 - 10s - loss: 0.1088 - accuracy: 0.9602 - val_loss: 1.8658 - val_accuracy: 0.7474 - lr: 0.0010 - 10s/epoch - 55ms/step
Epoch 82/100
176/176 - 10s - loss: 0.1115 - accuracy: 0.9598 - val_loss: 1.8814 - val_accuracy: 0.7385 - lr: 0.0010 - 10s/epoch - 55ms/step
Epoch 83/100
176/176 - 10s - loss: 0.1072 - accuracy: 0.9610 - val_loss: 2.0186 - val_accuracy: 0.7301 - lr: 0.0010 - 10s/epoch - 56ms/step
Epoch 84/100
176/176 - 10s - loss: 0.1108 - accuracy: 0.9604 - val_loss: 1.8120 - val_accuracy: 0.7494 - lr: 0.0010 - 10s/epoch - 56ms/step
Epoch 85/100
176/176 - 10s - loss: 0.1080 - accuracy: 0.9603 - val_loss: 1.9738 - val_accuracy: 0.7220 - lr: 0.0010 - 10s/epoch - 58ms/step
Epoch 86/100
176/176 - 10s - loss: 0.1083 - accuracy: 0.9603 - val_loss: 1.8509 - val_accuracy: 0.7366 - lr: 0.0010 - 10s/epoch - 56ms/step
Epoch 87/100
176/176 - 10s - loss: 0.1095 - accuracy: 0.9601 - val_loss: 1.9036 - val_accuracy: 0.7429 - lr: 0.0010 - 10s/epoch - 56ms/step
Epoch 88/100
176/176 - 10s - loss: 0.1057 - accuracy: 0.9620 - val_loss: 1.8513 - val_accuracy: 0.7443 - lr: 0.0010 - 10s/epoch - 55ms/step
Epoch 89/100
176/176 - 10s - loss: 0.1063 - accuracy: 0.9615 - val_loss: 1.8973 - val_accuracy: 0.7441 - lr: 0.0010 - 10s/epoch - 56ms/step
Epoch 90/100
176/176 - 10s - loss: 0.1104 - accuracy: 0.9601 - val_loss: 1.8373 - val_accuracy: 0.7480 - lr: 0.0010 - 10s/epoch - 56ms/step
Epoch 91/100
176/176 - 10s - loss: 0.1091 - accuracy: 0.9599 - val_loss: 1.8364 - val_accuracy: 0.7486 - lr: 0.0010 - 10s/epoch - 56ms/step
Epoch 92/100
176/176 - 10s - loss: 0.1096 - accuracy: 0.9603 - val_loss: 1.9473 - val_accuracy: 0.7437 - lr: 0.0010 - 10s/epoch - 58ms/step
Epoch 93/100
176/176 - 10s - loss: 0.1098 - accuracy: 0.9596 - val_loss: 1.8567 - val_accuracy: 0.7427 - lr: 0.0010 - 10s/epoch - 55ms/step
Epoch 94/100
176/176 - 10s - loss: 0.1104 - accuracy: 0.9594 - val_loss: 1.8268 - val_accuracy: 0.7490 - lr: 0.0010 - 10s/epoch - 55ms/step
Epoch 95/100
176/176 - 10s - loss: 0.1092 - accuracy: 0.9606 - val_loss: 1.8522 - val_accuracy: 0.7333 - lr: 0.0010 - 10s/epoch - 56ms/step
Epoch 96/100
176/176 - 10s - loss: 0.1059 - accuracy: 0.9604 - val_loss: 1.9007 - val_accuracy: 0.7318 - lr: 0.0010 - 10s/epoch - 55ms/step
Epoch 97/100
176/176 - 10s - loss: 0.1076 - accuracy: 0.9610 - val_loss: 1.8353 - val_accuracy: 0.7411 - lr: 0.0010 - 10s/epoch - 56ms/step
Epoch 98/100
176/176 - 10s - loss: 0.1077 - accuracy: 0.9608 - val_loss: 1.9242 - val_accuracy: 0.7308 - lr: 0.0010 - 10s/epoch - 56ms/step
Epoch 99/100
176/176 - 10s - loss: 0.1069 - accuracy: 0.9610 - val_loss: 1.9439 - val_accuracy: 0.7399 - lr: 0.0010 - 10s/epoch - 56ms/step
Epoch 100/100
176/176 - 10s - loss: 0.1069 - accuracy: 0.9616 - val_loss: 1.9014 - val_accuracy: 0.7338 - lr: 0.0010 - 10s/epoch - 56ms/step
