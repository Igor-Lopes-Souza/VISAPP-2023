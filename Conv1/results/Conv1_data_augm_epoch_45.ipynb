Epoch number: 45
fitting with batch size: 20
Epoch 1/45
4378/4378 - 92s - loss: 0.9211 - accuracy: 0.6766 - val_loss: 1.0482 - val_accuracy: 0.6724 - lr: 0.0010 - 92s/epoch - 21ms/step
Epoch 2/45
4378/4378 - 83s - loss: 1.0086 - accuracy: 0.6635 - val_loss: 0.9474 - val_accuracy: 0.6717 - lr: 0.0010 - 83s/epoch - 19ms/step
Epoch 3/45
4378/4378 - 84s - loss: 0.8843 - accuracy: 0.6761 - val_loss: 0.9183 - val_accuracy: 0.7158 - lr: 0.0010 - 84s/epoch - 19ms/step
Epoch 4/45
4378/4378 - 83s - loss: 0.8769 - accuracy: 0.6786 - val_loss: 0.7898 - val_accuracy: 0.7640 - lr: 0.0010 - 83s/epoch - 19ms/step
Epoch 5/45
4378/4378 - 83s - loss: 0.8842 - accuracy: 0.6788 - val_loss: 0.7977 - val_accuracy: 0.7700 - lr: 0.0010 - 83s/epoch - 19ms/step
Epoch 6/45
4378/4378 - 83s - loss: 1.0560 - accuracy: 0.6837 - val_loss: 0.8549 - val_accuracy: 0.7514 - lr: 0.0010 - 83s/epoch - 19ms/step
Epoch 7/45
4378/4378 - 83s - loss: 0.8773 - accuracy: 0.6820 - val_loss: 0.7682 - val_accuracy: 0.7712 - lr: 0.0010 - 83s/epoch - 19ms/step
Epoch 8/45
4378/4378 - 83s - loss: 0.8794 - accuracy: 0.6816 - val_loss: 1.0437 - val_accuracy: 0.6586 - lr: 0.0010 - 83s/epoch - 19ms/step
Epoch 9/45
4378/4378 - 82s - loss: 0.8744 - accuracy: 0.6796 - val_loss: 0.8636 - val_accuracy: 0.7314 - lr: 0.0010 - 82s/epoch - 19ms/step
Epoch 10/45
4378/4378 - 82s - loss: 0.9016 - accuracy: 0.6661 - val_loss: 0.8080 - val_accuracy: 0.7327 - lr: 0.0010 - 82s/epoch - 19ms/step
Epoch 11/45
4378/4378 - 83s - loss: 0.8951 - accuracy: 0.6753 - val_loss: 0.9336 - val_accuracy: 0.6893 - lr: 0.0010 - 83s/epoch - 19ms/step
Epoch 12/45
4378/4378 - 83s - loss: 0.8928 - accuracy: 0.6707 - val_loss: 0.9616 - val_accuracy: 0.6992 - lr: 0.0010 - 83s/epoch - 19ms/step
Epoch 13/45
4378/4378 - 83s - loss: 0.9428 - accuracy: 0.6722 - val_loss: 1.0266 - val_accuracy: 0.6193 - lr: 0.0010 - 83s/epoch - 19ms/step
Epoch 14/45
4378/4378 - 83s - loss: 0.8845 - accuracy: 0.6764 - val_loss: 0.9516 - val_accuracy: 0.6686 - lr: 0.0010 - 83s/epoch - 19ms/step
Epoch 15/45
4378/4378 - 83s - loss: 0.8943 - accuracy: 0.6777 - val_loss: 0.8866 - val_accuracy: 0.7107 - lr: 0.0010 - 83s/epoch - 19ms/step
Epoch 16/45
4378/4378 - 83s - loss: 0.8776 - accuracy: 0.6804 - val_loss: 0.9834 - val_accuracy: 0.6497 - lr: 0.0010 - 83s/epoch - 19ms/step
Epoch 17/45
4378/4378 - 83s - loss: 0.8716 - accuracy: 0.6825 - val_loss: 0.8786 - val_accuracy: 0.6926 - lr: 0.0010 - 83s/epoch - 19ms/step
Epoch 18/45
4378/4378 - 83s - loss: 0.9140 - accuracy: 0.6693 - val_loss: 0.8258 - val_accuracy: 0.7072 - lr: 0.0010 - 83s/epoch - 19ms/step
Epoch 19/45
4378/4378 - 83s - loss: 0.8821 - accuracy: 0.6790 - val_loss: 0.8736 - val_accuracy: 0.7212 - lr: 0.0010 - 83s/epoch - 19ms/step
Epoch 20/45
4378/4378 - 83s - loss: 0.9058 - accuracy: 0.6727 - val_loss: 0.8799 - val_accuracy: 0.6871 - lr: 0.0010 - 83s/epoch - 19ms/step
Epoch 21/45
4378/4378 - 83s - loss: 1.1652 - accuracy: 0.6774 - val_loss: 0.9090 - val_accuracy: 0.7084 - lr: 0.0010 - 83s/epoch - 19ms/step
Epoch 22/45
4378/4378 - 82s - loss: 15.3462 - accuracy: 0.6427 - val_loss: 1.4088 - val_accuracy: 0.3819 - lr: 0.0010 - 82s/epoch - 19ms/step
Epoch 23/45
4378/4378 - 82s - loss: 29.7059 - accuracy: 0.6302 - val_loss: 1.0910 - val_accuracy: 0.5414 - lr: 0.0010 - 82s/epoch - 19ms/step
Epoch 24/45
4378/4378 - 82s - loss: 0.8879 - accuracy: 0.6746 - val_loss: 0.7971 - val_accuracy: 0.7616 - lr: 0.0010 - 82s/epoch - 19ms/step
Epoch 25/45
4378/4378 - 82s - loss: 0.9294 - accuracy: 0.6707 - val_loss: 1.3569 - val_accuracy: 0.7591 - lr: 0.0010 - 82s/epoch - 19ms/step
Epoch 26/45
4378/4378 - 83s - loss: 2.5884 - accuracy: 0.5818 - val_loss: 0.8264 - val_accuracy: 0.7636 - lr: 0.0010 - 83s/epoch - 19ms/step
Epoch 27/45
4378/4378 - 83s - loss: 0.8928 - accuracy: 0.6734 - val_loss: 0.8847 - val_accuracy: 0.7118 - lr: 0.0010 - 83s/epoch - 19ms/step
Epoch 28/45
4378/4378 - 83s - loss: 0.8990 - accuracy: 0.6736 - val_loss: 1.0908 - val_accuracy: 0.6865 - lr: 0.0010 - 83s/epoch - 19ms/step
Epoch 29/45
4378/4378 - 83s - loss: 0.8860 - accuracy: 0.6768 - val_loss: 1.0830 - val_accuracy: 0.5997 - lr: 0.0010 - 83s/epoch - 19ms/step
Epoch 30/45
4378/4378 - 82s - loss: 0.8846 - accuracy: 0.6793 - val_loss: 1.0137 - val_accuracy: 0.6398 - lr: 0.0010 - 82s/epoch - 19ms/step
Epoch 31/45
4378/4378 - 82s - loss: 0.8738 - accuracy: 0.6808 - val_loss: 0.9167 - val_accuracy: 0.7011 - lr: 0.0010 - 82s/epoch - 19ms/step
Epoch 32/45
4378/4378 - 83s - loss: 0.8739 - accuracy: 0.6802 - val_loss: 1.0112 - val_accuracy: 0.6476 - lr: 0.0010 - 83s/epoch - 19ms/step
Epoch 33/45
4378/4378 - 83s - loss: 0.8928 - accuracy: 0.6780 - val_loss: 1.0655 - val_accuracy: 0.6318 - lr: 0.0010 - 83s/epoch - 19ms/step
Epoch 34/45
4378/4378 - 82s - loss: 0.8764 - accuracy: 0.6814 - val_loss: 0.7958 - val_accuracy: 0.7680 - lr: 0.0010 - 82s/epoch - 19ms/step
Epoch 35/45
4378/4378 - 81s - loss: 0.8802 - accuracy: 0.6812 - val_loss: 0.8160 - val_accuracy: 0.7231 - lr: 0.0010 - 81s/epoch - 18ms/step
Epoch 36/45
4378/4378 - 80s - loss: 0.9143 - accuracy: 0.6682 - val_loss: 0.8388 - val_accuracy: 0.7329 - lr: 0.0010 - 80s/epoch - 18ms/step
Epoch 37/45
4378/4378 - 81s - loss: 0.8921 - accuracy: 0.6754 - val_loss: 0.9194 - val_accuracy: 0.7378 - lr: 0.0010 - 81s/epoch - 18ms/step
Epoch 38/45
4378/4378 - 81s - loss: 0.8846 - accuracy: 0.6792 - val_loss: 0.9992 - val_accuracy: 0.6053 - lr: 0.0010 - 81s/epoch - 18ms/step
Epoch 39/45
4378/4378 - 81s - loss: 0.8794 - accuracy: 0.6793 - val_loss: 1.0488 - val_accuracy: 0.5874 - lr: 0.0010 - 81s/epoch - 18ms/step
Epoch 40/45
4378/4378 - 81s - loss: 0.8947 - accuracy: 0.6757 - val_loss: 1.0402 - val_accuracy: 0.5988 - lr: 0.0010 - 81s/epoch - 19ms/step
Epoch 41/45
4378/4378 - 80s - loss: 0.9015 - accuracy: 0.6746 - val_loss: 0.8682 - val_accuracy: 0.7153 - lr: 0.0010 - 80s/epoch - 18ms/step
Epoch 42/45
4378/4378 - 81s - loss: 0.8739 - accuracy: 0.6814 - val_loss: 0.8948 - val_accuracy: 0.6914 - lr: 0.0010 - 81s/epoch - 18ms/step
Epoch 43/45
4378/4378 - 81s - loss: 0.9255 - accuracy: 0.6626 - val_loss: 1.5123 - val_accuracy: 0.5505 - lr: 0.0010 - 81s/epoch - 18ms/step
Epoch 44/45
4378/4378 - 81s - loss: 4.6510 - accuracy: 0.5927 - val_loss: 1.1492 - val_accuracy: 0.5648 - lr: 0.0010 - 81s/epoch - 18ms/step
Epoch 45/45
4378/4378 - 81s - loss: 0.8854 - accuracy: 0.6752 - val_loss: 1.0713 - val_accuracy: 0.6853 - lr: 0.0010 - 81s/epoch - 18ms/step
fitting with batch size: 100
Epoch 1/45
876/876 - 21s - loss: 0.8175 - accuracy: 0.6997 - val_loss: 0.9102 - val_accuracy: 0.6872 - lr: 0.0010 - 21s/epoch - 24ms/step
Epoch 2/45
876/876 - 18s - loss: 0.8035 - accuracy: 0.7052 - val_loss: 0.7219 - val_accuracy: 0.7733 - lr: 0.0010 - 18s/epoch - 20ms/step
Epoch 3/45
876/876 - 18s - loss: 0.7941 - accuracy: 0.7071 - val_loss: 0.7543 - val_accuracy: 0.7536 - lr: 0.0010 - 18s/epoch - 20ms/step
Epoch 4/45
876/876 - 17s - loss: 0.7894 - accuracy: 0.7084 - val_loss: 0.8404 - val_accuracy: 0.7253 - lr: 0.0010 - 17s/epoch - 20ms/step
Epoch 5/45
876/876 - 18s - loss: 0.7928 - accuracy: 0.7076 - val_loss: 0.8370 - val_accuracy: 0.7712 - lr: 0.0010 - 18s/epoch - 20ms/step
Epoch 6/45
876/876 - 19s - loss: 0.7935 - accuracy: 0.7088 - val_loss: 0.8570 - val_accuracy: 0.7049 - lr: 0.0010 - 19s/epoch - 21ms/step
Epoch 7/45
876/876 - 18s - loss: 0.7871 - accuracy: 0.7099 - val_loss: 0.9407 - val_accuracy: 0.6657 - lr: 0.0010 - 18s/epoch - 20ms/step
Epoch 8/45
876/876 - 18s - loss: 0.7878 - accuracy: 0.7097 - val_loss: 0.7461 - val_accuracy: 0.7412 - lr: 0.0010 - 18s/epoch - 21ms/step
Epoch 9/45
876/876 - 19s - loss: 0.7858 - accuracy: 0.7111 - val_loss: 0.8593 - val_accuracy: 0.7365 - lr: 0.0010 - 19s/epoch - 22ms/step
Epoch 10/45
876/876 - 18s - loss: 0.7844 - accuracy: 0.7122 - val_loss: 0.7750 - val_accuracy: 0.7191 - lr: 0.0010 - 18s/epoch - 20ms/step
Epoch 11/45
876/876 - 18s - loss: 1.0416 - accuracy: 0.6840 - val_loss: 1.0174 - val_accuracy: 0.6383 - lr: 0.0010 - 18s/epoch - 20ms/step
Epoch 12/45
876/876 - 18s - loss: 6.5399 - accuracy: 0.5143 - val_loss: 1.0354 - val_accuracy: 0.6051 - lr: 0.0010 - 18s/epoch - 20ms/step
Epoch 13/45
876/876 - 18s - loss: 0.8488 - accuracy: 0.6884 - val_loss: 0.7198 - val_accuracy: 0.7837 - lr: 0.0010 - 18s/epoch - 20ms/step
Epoch 14/45
876/876 - 17s - loss: 0.7916 - accuracy: 0.7088 - val_loss: 0.7949 - val_accuracy: 0.7716 - lr: 0.0010 - 17s/epoch - 20ms/step
Epoch 15/45
876/876 - 18s - loss: 0.7902 - accuracy: 0.7087 - val_loss: 0.8619 - val_accuracy: 0.7117 - lr: 0.0010 - 18s/epoch - 20ms/step
Epoch 16/45
876/876 - 18s - loss: 0.7950 - accuracy: 0.7075 - val_loss: 0.8454 - val_accuracy: 0.6664 - lr: 0.0010 - 18s/epoch - 20ms/step
Epoch 17/45
876/876 - 17s - loss: 0.7906 - accuracy: 0.7112 - val_loss: 0.8200 - val_accuracy: 0.7112 - lr: 0.0010 - 17s/epoch - 20ms/step
Epoch 18/45
876/876 - 18s - loss: 0.8125 - accuracy: 0.7038 - val_loss: 0.7325 - val_accuracy: 0.7636 - lr: 0.0010 - 18s/epoch - 20ms/step
Epoch 19/45
876/876 - 18s - loss: 0.7886 - accuracy: 0.7095 - val_loss: 0.8881 - val_accuracy: 0.7286 - lr: 0.0010 - 18s/epoch - 20ms/step
Epoch 20/45
876/876 - 18s - loss: 0.7874 - accuracy: 0.7107 - val_loss: 0.8204 - val_accuracy: 0.7104 - lr: 0.0010 - 18s/epoch - 20ms/step
Epoch 21/45
876/876 - 17s - loss: 0.7829 - accuracy: 0.7122 - val_loss: 0.7993 - val_accuracy: 0.7517 - lr: 0.0010 - 17s/epoch - 20ms/step
Epoch 22/45
876/876 - 18s - loss: 0.7795 - accuracy: 0.7126 - val_loss: 0.7861 - val_accuracy: 0.7485 - lr: 0.0010 - 18s/epoch - 20ms/step
Epoch 23/45
876/876 - 18s - loss: 0.7710 - accuracy: 0.7163 - val_loss: 0.8115 - val_accuracy: 0.7087 - lr: 0.0010 - 18s/epoch - 20ms/step
Epoch 24/45
876/876 - 18s - loss: 0.7871 - accuracy: 0.7121 - val_loss: 0.7032 - val_accuracy: 0.7496 - lr: 0.0010 - 18s/epoch - 20ms/step
Epoch 25/45
876/876 - 18s - loss: 0.8135 - accuracy: 0.7053 - val_loss: 0.7771 - val_accuracy: 0.7406 - lr: 0.0010 - 18s/epoch - 20ms/step
Epoch 26/45
876/876 - 18s - loss: 0.7752 - accuracy: 0.7151 - val_loss: 0.7249 - val_accuracy: 0.7780 - lr: 0.0010 - 18s/epoch - 20ms/step
Epoch 27/45
876/876 - 18s - loss: 0.7780 - accuracy: 0.7130 - val_loss: 0.8497 - val_accuracy: 0.7453 - lr: 0.0010 - 18s/epoch - 20ms/step
Epoch 28/45
876/876 - 18s - loss: 0.7840 - accuracy: 0.7126 - val_loss: 0.6749 - val_accuracy: 0.7902 - lr: 0.0010 - 18s/epoch - 20ms/step
Epoch 29/45
876/876 - 18s - loss: 0.7744 - accuracy: 0.7146 - val_loss: 0.8032 - val_accuracy: 0.7423 - lr: 0.0010 - 18s/epoch - 20ms/step
Epoch 30/45
876/876 - 18s - loss: 0.7876 - accuracy: 0.7092 - val_loss: 0.7576 - val_accuracy: 0.7851 - lr: 0.0010 - 18s/epoch - 20ms/step
Epoch 31/45
876/876 - 17s - loss: 0.7789 - accuracy: 0.7135 - val_loss: 0.7803 - val_accuracy: 0.7347 - lr: 0.0010 - 17s/epoch - 20ms/step
Epoch 32/45
876/876 - 17s - loss: 0.7730 - accuracy: 0.7141 - val_loss: 0.7755 - val_accuracy: 0.7613 - lr: 0.0010 - 17s/epoch - 20ms/step
Epoch 33/45
876/876 - 18s - loss: 0.7744 - accuracy: 0.7147 - val_loss: 0.7824 - val_accuracy: 0.7405 - lr: 0.0010 - 18s/epoch - 20ms/step
Epoch 34/45
876/876 - 18s - loss: 0.7885 - accuracy: 0.7110 - val_loss: 0.8468 - val_accuracy: 0.7255 - lr: 0.0010 - 18s/epoch - 20ms/step
Epoch 35/45
876/876 - 17s - loss: 0.7686 - accuracy: 0.7162 - val_loss: 0.9297 - val_accuracy: 0.6964 - lr: 0.0010 - 17s/epoch - 20ms/step
Epoch 36/45
876/876 - 17s - loss: 0.7733 - accuracy: 0.7148 - val_loss: 0.8175 - val_accuracy: 0.7761 - lr: 0.0010 - 17s/epoch - 20ms/step
Epoch 37/45
876/876 - 17s - loss: 0.7786 - accuracy: 0.7144 - val_loss: 0.7678 - val_accuracy: 0.7405 - lr: 0.0010 - 17s/epoch - 20ms/step
Epoch 38/45
876/876 - 17s - loss: 0.7718 - accuracy: 0.7149 - val_loss: 0.6711 - val_accuracy: 0.7889 - lr: 0.0010 - 17s/epoch - 20ms/step
Epoch 39/45
876/876 - 17s - loss: 0.7701 - accuracy: 0.7168 - val_loss: 0.8191 - val_accuracy: 0.6977 - lr: 0.0010 - 17s/epoch - 20ms/step
Epoch 40/45
876/876 - 18s - loss: 0.7698 - accuracy: 0.7161 - val_loss: 0.7426 - val_accuracy: 0.7583 - lr: 0.0010 - 18s/epoch - 20ms/step
Epoch 41/45
876/876 - 18s - loss: 0.7696 - accuracy: 0.7167 - val_loss: 0.8055 - val_accuracy: 0.7261 - lr: 0.0010 - 18s/epoch - 20ms/step
Epoch 42/45
876/876 - 18s - loss: 0.7823 - accuracy: 0.7135 - val_loss: 0.7205 - val_accuracy: 0.7742 - lr: 0.0010 - 18s/epoch - 20ms/step
Epoch 43/45
876/876 - 18s - loss: 0.7728 - accuracy: 0.7160 - val_loss: 0.7692 - val_accuracy: 0.7537 - lr: 0.0010 - 18s/epoch - 20ms/step
Epoch 44/45
876/876 - 18s - loss: 0.7705 - accuracy: 0.7177 - val_loss: 0.7440 - val_accuracy: 0.7673 - lr: 0.0010 - 18s/epoch - 20ms/step
Epoch 45/45
876/876 - 17s - loss: 0.7742 - accuracy: 0.7147 - val_loss: 0.8248 - val_accuracy: 0.6908 - lr: 0.0010 - 17s/epoch - 20ms/step
fitting with batch size: 500
Epoch 1/45
176/176 - 11s - loss: 0.7351 - accuracy: 0.7277 - val_loss: 0.7270 - val_accuracy: 0.7707 - lr: 0.0010 - 11s/epoch - 63ms/step
Epoch 2/45
176/176 - 9s - loss: 0.7326 - accuracy: 0.7280 - val_loss: 0.7531 - val_accuracy: 0.7483 - lr: 0.0010 - 9s/epoch - 50ms/step
Epoch 3/45
176/176 - 9s - loss: 0.7340 - accuracy: 0.7275 - val_loss: 0.8176 - val_accuracy: 0.7334 - lr: 0.0010 - 9s/epoch - 49ms/step
Epoch 4/45
176/176 - 9s - loss: 0.7366 - accuracy: 0.7257 - val_loss: 0.7249 - val_accuracy: 0.7704 - lr: 0.0010 - 9s/epoch - 49ms/step
Epoch 5/45
176/176 - 9s - loss: 0.7387 - accuracy: 0.7273 - val_loss: 0.7489 - val_accuracy: 0.7840 - lr: 0.0010 - 9s/epoch - 50ms/step
Epoch 6/45
176/176 - 9s - loss: 0.7385 - accuracy: 0.7262 - val_loss: 0.7164 - val_accuracy: 0.7651 - lr: 0.0010 - 9s/epoch - 49ms/step
Epoch 7/45
176/176 - 9s - loss: 0.7314 - accuracy: 0.7278 - val_loss: 0.8399 - val_accuracy: 0.7115 - lr: 0.0010 - 9s/epoch - 50ms/step
Epoch 8/45
176/176 - 9s - loss: 0.7306 - accuracy: 0.7295 - val_loss: 0.7625 - val_accuracy: 0.7518 - lr: 0.0010 - 9s/epoch - 51ms/step
Epoch 9/45
176/176 - 9s - loss: 0.7372 - accuracy: 0.7254 - val_loss: 0.7740 - val_accuracy: 0.7442 - lr: 0.0010 - 9s/epoch - 50ms/step
Epoch 10/45
176/176 - 9s - loss: 0.7402 - accuracy: 0.7264 - val_loss: 0.7887 - val_accuracy: 0.7411 - lr: 0.0010 - 9s/epoch - 49ms/step
Epoch 11/45
176/176 - 9s - loss: 0.7287 - accuracy: 0.7288 - val_loss: 0.8004 - val_accuracy: 0.7275 - lr: 0.0010 - 9s/epoch - 50ms/step
Epoch 12/45
176/176 - 9s - loss: 0.7352 - accuracy: 0.7292 - val_loss: 0.6968 - val_accuracy: 0.7849 - lr: 0.0010 - 9s/epoch - 50ms/step
Epoch 13/45
176/176 - 9s - loss: 0.7344 - accuracy: 0.7289 - val_loss: 0.7469 - val_accuracy: 0.7495 - lr: 0.0010 - 9s/epoch - 50ms/step
Epoch 14/45
176/176 - 9s - loss: 0.7336 - accuracy: 0.7281 - val_loss: 0.6831 - val_accuracy: 0.7755 - lr: 0.0010 - 9s/epoch - 49ms/step
Epoch 15/45
176/176 - 9s - loss: 0.7281 - accuracy: 0.7291 - val_loss: 0.6285 - val_accuracy: 0.8004 - lr: 0.0010 - 9s/epoch - 50ms/step
Epoch 16/45
176/176 - 9s - loss: 0.7289 - accuracy: 0.7284 - val_loss: 0.7628 - val_accuracy: 0.7429 - lr: 0.0010 - 9s/epoch - 49ms/step
Epoch 17/45
176/176 - 9s - loss: 0.7270 - accuracy: 0.7299 - val_loss: 0.7255 - val_accuracy: 0.7619 - lr: 0.0010 - 9s/epoch - 50ms/step
Epoch 18/45
176/176 - 9s - loss: 0.7272 - accuracy: 0.7301 - val_loss: 0.7423 - val_accuracy: 0.7525 - lr: 0.0010 - 9s/epoch - 49ms/step
Epoch 19/45
176/176 - 9s - loss: 0.7353 - accuracy: 0.7270 - val_loss: 0.7237 - val_accuracy: 0.7889 - lr: 0.0010 - 9s/epoch - 50ms/step
Epoch 20/45
176/176 - 9s - loss: 0.7270 - accuracy: 0.7289 - val_loss: 0.7801 - val_accuracy: 0.7424 - lr: 0.0010 - 9s/epoch - 50ms/step
Epoch 21/45
176/176 - 9s - loss: 0.7239 - accuracy: 0.7300 - val_loss: 0.7681 - val_accuracy: 0.7562 - lr: 0.0010 - 9s/epoch - 49ms/step
Epoch 22/45
176/176 - 9s - loss: 0.7269 - accuracy: 0.7309 - val_loss: 0.7950 - val_accuracy: 0.7536 - lr: 0.0010 - 9s/epoch - 50ms/step
Epoch 23/45
176/176 - 9s - loss: 0.7273 - accuracy: 0.7299 - val_loss: 0.7859 - val_accuracy: 0.7373 - lr: 0.0010 - 9s/epoch - 49ms/step
Epoch 24/45
176/176 - 9s - loss: 0.7271 - accuracy: 0.7303 - val_loss: 0.7581 - val_accuracy: 0.7486 - lr: 0.0010 - 9s/epoch - 50ms/step
Epoch 25/45
176/176 - 9s - loss: 0.7337 - accuracy: 0.7269 - val_loss: 0.7772 - val_accuracy: 0.7484 - lr: 0.0010 - 9s/epoch - 50ms/step
Epoch 26/45
176/176 - 9s - loss: 0.7245 - accuracy: 0.7319 - val_loss: 0.7932 - val_accuracy: 0.7552 - lr: 0.0010 - 9s/epoch - 50ms/step
Epoch 27/45
176/176 - 9s - loss: 0.7246 - accuracy: 0.7315 - val_loss: 0.7358 - val_accuracy: 0.7600 - lr: 0.0010 - 9s/epoch - 49ms/step
Epoch 28/45
176/176 - 9s - loss: 0.7297 - accuracy: 0.7296 - val_loss: 0.7185 - val_accuracy: 0.7937 - lr: 0.0010 - 9s/epoch - 50ms/step
Epoch 29/45
176/176 - 9s - loss: 0.7349 - accuracy: 0.7287 - val_loss: 0.7080 - val_accuracy: 0.7791 - lr: 0.0010 - 9s/epoch - 50ms/step
Epoch 30/45
176/176 - 9s - loss: 0.7262 - accuracy: 0.7304 - val_loss: 0.8417 - val_accuracy: 0.7208 - lr: 0.0010 - 9s/epoch - 49ms/step
Epoch 31/45
176/176 - 9s - loss: 0.7238 - accuracy: 0.7315 - val_loss: 0.7539 - val_accuracy: 0.7662 - lr: 0.0010 - 9s/epoch - 50ms/step
Epoch 32/45
176/176 - 9s - loss: 0.7282 - accuracy: 0.7285 - val_loss: 0.8047 - val_accuracy: 0.7236 - lr: 0.0010 - 9s/epoch - 50ms/step
Epoch 33/45
176/176 - 9s - loss: 0.7371 - accuracy: 0.7262 - val_loss: 0.9142 - val_accuracy: 0.6798 - lr: 0.0010 - 9s/epoch - 49ms/step
Epoch 34/45
176/176 - 9s - loss: 0.7254 - accuracy: 0.7289 - val_loss: 0.7162 - val_accuracy: 0.7663 - lr: 0.0010 - 9s/epoch - 50ms/step
Epoch 35/45
176/176 - 9s - loss: 0.7226 - accuracy: 0.7316 - val_loss: 0.7224 - val_accuracy: 0.7581 - lr: 0.0010 - 9s/epoch - 49ms/step
Epoch 36/45
176/176 - 9s - loss: 0.7305 - accuracy: 0.7284 - val_loss: 0.7455 - val_accuracy: 0.7683 - lr: 0.0010 - 9s/epoch - 50ms/step
Epoch 37/45
176/176 - 9s - loss: 0.7225 - accuracy: 0.7319 - val_loss: 0.7149 - val_accuracy: 0.7652 - lr: 0.0010 - 9s/epoch - 50ms/step
Epoch 38/45
176/176 - 9s - loss: 0.7296 - accuracy: 0.7296 - val_loss: 0.8149 - val_accuracy: 0.7338 - lr: 0.0010 - 9s/epoch - 50ms/step
Epoch 39/45
176/176 - 9s - loss: 0.7298 - accuracy: 0.7285 - val_loss: 0.7394 - val_accuracy: 0.7696 - lr: 0.0010 - 9s/epoch - 50ms/step
Epoch 40/45
176/176 - 9s - loss: 0.7209 - accuracy: 0.7326 - val_loss: 0.7332 - val_accuracy: 0.7533 - lr: 0.0010 - 9s/epoch - 49ms/step
Epoch 41/45
176/176 - 9s - loss: 0.7267 - accuracy: 0.7298 - val_loss: 0.7464 - val_accuracy: 0.7571 - lr: 0.0010 - 9s/epoch - 50ms/step
Epoch 42/45
176/176 - 9s - loss: 0.7205 - accuracy: 0.7323 - val_loss: 0.7514 - val_accuracy: 0.7764 - lr: 0.0010 - 9s/epoch - 50ms/step
Epoch 43/45
176/176 - 9s - loss: 0.7241 - accuracy: 0.7301 - val_loss: 0.7600 - val_accuracy: 0.7463 - lr: 0.0010 - 9s/epoch - 50ms/step
Epoch 44/45
176/176 - 9s - loss: 0.7246 - accuracy: 0.7308 - val_loss: 0.7053 - val_accuracy: 0.7805 - lr: 0.0010 - 9s/epoch - 49ms/step
Epoch 45/45
176/176 - 9s - loss: 0.7213 - accuracy: 0.7306 - val_loss: 0.7271 - val_accuracy: 0.7667 - lr: 0.0010 - 9s/epoch - 50ms/step
fitting with batch size: 2500
Epoch 1/45
36/36 - 10s - loss: 0.7139 - accuracy: 0.7336 - val_loss: 0.7476 - val_accuracy: 0.7537 - lr: 0.0010 - 10s/epoch - 273ms/step
Epoch 2/45
36/36 - 7s - loss: 0.7098 - accuracy: 0.7355 - val_loss: 0.7183 - val_accuracy: 0.7720 - lr: 0.0010 - 7s/epoch - 207ms/step
Epoch 3/45
36/36 - 7s - loss: 0.7117 - accuracy: 0.7352 - val_loss: 0.7343 - val_accuracy: 0.7628 - lr: 0.0010 - 7s/epoch - 207ms/step
Epoch 4/45
36/36 - 7s - loss: 0.7486 - accuracy: 0.7314 - val_loss: 0.7427 - val_accuracy: 0.7776 - lr: 0.0010 - 7s/epoch - 207ms/step
Epoch 5/45
36/36 - 7s - loss: 13.3651 - accuracy: 0.6873 - val_loss: 0.8177 - val_accuracy: 0.7313 - lr: 0.0010 - 7s/epoch - 207ms/step
Epoch 6/45
36/36 - 7s - loss: 0.7897 - accuracy: 0.7166 - val_loss: 0.7052 - val_accuracy: 0.7640 - lr: 0.0010 - 7s/epoch - 207ms/step
Epoch 7/45
36/36 - 8s - loss: 0.7498 - accuracy: 0.7252 - val_loss: 0.7789 - val_accuracy: 0.7332 - lr: 0.0010 - 8s/epoch - 208ms/step
Epoch 8/45
36/36 - 7s - loss: 0.7452 - accuracy: 0.7266 - val_loss: 0.7172 - val_accuracy: 0.7555 - lr: 0.0010 - 7s/epoch - 207ms/step
Epoch 9/45
36/36 - 7s - loss: 0.7369 - accuracy: 0.7284 - val_loss: 0.7316 - val_accuracy: 0.7489 - lr: 0.0010 - 7s/epoch - 207ms/step
Epoch 10/45
36/36 - 7s - loss: 0.7303 - accuracy: 0.7311 - val_loss: 0.7310 - val_accuracy: 0.7541 - lr: 0.0010 - 7s/epoch - 207ms/step
Epoch 11/45
36/36 - 7s - loss: 0.7258 - accuracy: 0.7325 - val_loss: 0.7200 - val_accuracy: 0.7559 - lr: 0.0010 - 7s/epoch - 206ms/step
Epoch 12/45
36/36 - 8s - loss: 0.7218 - accuracy: 0.7324 - val_loss: 0.7254 - val_accuracy: 0.7538 - lr: 0.0010 - 8s/epoch - 208ms/step
Epoch 13/45
36/36 - 7s - loss: 0.7235 - accuracy: 0.7321 - val_loss: 0.7150 - val_accuracy: 0.7661 - lr: 0.0010 - 7s/epoch - 207ms/step
Epoch 14/45
36/36 - 7s - loss: 0.7188 - accuracy: 0.7332 - val_loss: 0.7136 - val_accuracy: 0.7657 - lr: 0.0010 - 7s/epoch - 208ms/step
Epoch 15/45
36/36 - 7s - loss: 0.7211 - accuracy: 0.7323 - val_loss: 0.7285 - val_accuracy: 0.7508 - lr: 0.0010 - 7s/epoch - 207ms/step
Epoch 16/45
36/36 - 7s - loss: 0.7254 - accuracy: 0.7312 - val_loss: 0.7644 - val_accuracy: 0.7352 - lr: 0.0010 - 7s/epoch - 207ms/step
Epoch 17/45
36/36 - 7s - loss: 0.7159 - accuracy: 0.7347 - val_loss: 0.6865 - val_accuracy: 0.7721 - lr: 0.0010 - 7s/epoch - 207ms/step
Epoch 18/45
36/36 - 7s - loss: 0.7184 - accuracy: 0.7330 - val_loss: 0.7323 - val_accuracy: 0.7601 - lr: 0.0010 - 7s/epoch - 207ms/step
Epoch 19/45
36/36 - 7s - loss: 0.7156 - accuracy: 0.7334 - val_loss: 0.6965 - val_accuracy: 0.7711 - lr: 0.0010 - 7s/epoch - 207ms/step
Epoch 20/45
36/36 - 7s - loss: 0.7129 - accuracy: 0.7355 - val_loss: 0.6734 - val_accuracy: 0.7705 - lr: 0.0010 - 7s/epoch - 207ms/step
Epoch 21/45
36/36 - 7s - loss: 0.7294 - accuracy: 0.7325 - val_loss: 0.7624 - val_accuracy: 0.7320 - lr: 0.0010 - 7s/epoch - 207ms/step
Epoch 22/45
36/36 - 7s - loss: 0.8441 - accuracy: 0.7233 - val_loss: 0.7192 - val_accuracy: 0.7451 - lr: 0.0010 - 7s/epoch - 208ms/step
Epoch 23/45
36/36 - 7s - loss: 0.7274 - accuracy: 0.7303 - val_loss: 0.7744 - val_accuracy: 0.7455 - lr: 0.0010 - 7s/epoch - 207ms/step
Epoch 24/45
36/36 - 7s - loss: 0.7298 - accuracy: 0.7293 - val_loss: 0.7095 - val_accuracy: 0.7495 - lr: 0.0010 - 7s/epoch - 207ms/step
Epoch 25/45
36/36 - 7s - loss: 0.7231 - accuracy: 0.7313 - val_loss: 0.7046 - val_accuracy: 0.7631 - lr: 0.0010 - 7s/epoch - 207ms/step
Epoch 26/45
36/36 - 7s - loss: 0.7151 - accuracy: 0.7353 - val_loss: 0.7461 - val_accuracy: 0.7555 - lr: 0.0010 - 7s/epoch - 207ms/step
Epoch 27/45
36/36 - 7s - loss: 0.7181 - accuracy: 0.7320 - val_loss: 0.6997 - val_accuracy: 0.7628 - lr: 0.0010 - 7s/epoch - 207ms/step
Epoch 28/45
36/36 - 7s - loss: 0.7131 - accuracy: 0.7352 - val_loss: 0.6680 - val_accuracy: 0.7810 - lr: 0.0010 - 7s/epoch - 207ms/step
Epoch 29/45
36/36 - 8s - loss: 0.7137 - accuracy: 0.7329 - val_loss: 0.7183 - val_accuracy: 0.7679 - lr: 0.0010 - 8s/epoch - 208ms/step
Epoch 30/45
36/36 - 7s - loss: 0.7134 - accuracy: 0.7344 - val_loss: 0.7609 - val_accuracy: 0.7391 - lr: 0.0010 - 7s/epoch - 207ms/step
Epoch 31/45
36/36 - 7s - loss: 0.7144 - accuracy: 0.7341 - val_loss: 0.7395 - val_accuracy: 0.7467 - lr: 0.0010 - 7s/epoch - 207ms/step
Epoch 32/45
36/36 - 7s - loss: 0.7143 - accuracy: 0.7341 - val_loss: 0.7187 - val_accuracy: 0.7561 - lr: 0.0010 - 7s/epoch - 207ms/step
Epoch 33/45
36/36 - 7s - loss: 0.7091 - accuracy: 0.7363 - val_loss: 0.7829 - val_accuracy: 0.7327 - lr: 0.0010 - 7s/epoch - 207ms/step
Epoch 34/45
36/36 - 7s - loss: 0.7113 - accuracy: 0.7355 - val_loss: 0.7384 - val_accuracy: 0.7548 - lr: 0.0010 - 7s/epoch - 207ms/step
Epoch 35/45
36/36 - 7s - loss: 0.7115 - accuracy: 0.7360 - val_loss: 0.7133 - val_accuracy: 0.7656 - lr: 0.0010 - 7s/epoch - 207ms/step
Epoch 36/45
36/36 - 7s - loss: 0.7128 - accuracy: 0.7340 - val_loss: 0.7268 - val_accuracy: 0.7568 - lr: 0.0010 - 7s/epoch - 207ms/step
Epoch 37/45
36/36 - 7s - loss: 0.7103 - accuracy: 0.7360 - val_loss: 0.7670 - val_accuracy: 0.7437 - lr: 0.0010 - 7s/epoch - 207ms/step
Epoch 38/45
36/36 - 7s - loss: 0.7121 - accuracy: 0.7348 - val_loss: 0.7215 - val_accuracy: 0.7537 - lr: 0.0010 - 7s/epoch - 207ms/step
Epoch 39/45
36/36 - 7s - loss: 0.7103 - accuracy: 0.7365 - val_loss: 0.6742 - val_accuracy: 0.7804 - lr: 0.0010 - 7s/epoch - 207ms/step
Epoch 40/45
36/36 - 7s - loss: 0.7089 - accuracy: 0.7362 - val_loss: 0.7235 - val_accuracy: 0.7614 - lr: 0.0010 - 7s/epoch - 207ms/step
Epoch 41/45
36/36 - 7s - loss: 0.7111 - accuracy: 0.7353 - val_loss: 0.6799 - val_accuracy: 0.7786 - lr: 0.0010 - 7s/epoch - 207ms/step
Epoch 42/45
36/36 - 7s - loss: 0.7111 - accuracy: 0.7356 - val_loss: 0.6778 - val_accuracy: 0.7830 - lr: 0.0010 - 7s/epoch - 207ms/step
Epoch 43/45
36/36 - 7s - loss: 0.7098 - accuracy: 0.7371 - val_loss: 0.6948 - val_accuracy: 0.7745 - lr: 0.0010 - 7s/epoch - 207ms/step
Epoch 44/45
36/36 - 7s - loss: 0.7090 - accuracy: 0.7357 - val_loss: 0.7374 - val_accuracy: 0.7586 - lr: 0.0010 - 7s/epoch - 207ms/step
Epoch 45/45
36/36 - 7s - loss: 0.7097 - accuracy: 0.7353 - val_loss: 0.7633 - val_accuracy: 0.7495 - lr: 0.0010 - 7s/epoch - 208ms/step
