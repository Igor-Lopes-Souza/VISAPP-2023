Loss: huber_loss
Epoch number: 25
fitting with batch size: 1500
Epoch 1/25
59/59 - 12s - loss: 0.0578 - accuracy: 0.5589 - val_loss: 0.0689 - val_accuracy: 0.4244 - lr: 0.0010 - 12s/epoch - 203ms/step
Epoch 2/25
59/59 - 8s - loss: 0.0579 - accuracy: 0.5559 - val_loss: 0.0689 - val_accuracy: 0.4242 - lr: 0.0010 - 8s/epoch - 142ms/step
Epoch 3/25
59/59 - 8s - loss: 0.0578 - accuracy: 0.5577 - val_loss: 0.0690 - val_accuracy: 0.4236 - lr: 0.0010 - 8s/epoch - 138ms/step
Epoch 4/25
59/59 - 8s - loss: 0.0579 - accuracy: 0.5565 - val_loss: 0.0690 - val_accuracy: 0.4234 - lr: 0.0010 - 8s/epoch - 143ms/step
Epoch 5/25
59/59 - 9s - loss: 0.0578 - accuracy: 0.5580 - val_loss: 0.0690 - val_accuracy: 0.4233 - lr: 0.0010 - 9s/epoch - 145ms/step
Epoch 6/25
59/59 - 8s - loss: 0.0578 - accuracy: 0.5586 - val_loss: 0.0691 - val_accuracy: 0.4231 - lr: 0.0010 - 8s/epoch - 142ms/step
Epoch 7/25
59/59 - 14s - loss: 0.0579 - accuracy: 0.5580 - val_loss: 0.0691 - val_accuracy: 0.4224 - lr: 0.0010 - 14s/epoch - 236ms/step
Epoch 8/25
59/59 - 15s - loss: 0.0576 - accuracy: 0.5611 - val_loss: 0.0692 - val_accuracy: 0.4223 - lr: 0.0010 - 15s/epoch - 247ms/step
Epoch 9/25
59/59 - 15s - loss: 0.0577 - accuracy: 0.5585 - val_loss: 0.0692 - val_accuracy: 0.4223 - lr: 0.0010 - 15s/epoch - 258ms/step
Epoch 10/25
59/59 - 15s - loss: 0.0578 - accuracy: 0.5588 - val_loss: 0.0692 - val_accuracy: 0.4225 - lr: 0.0010 - 15s/epoch - 248ms/step
Epoch 11/25
59/59 - 15s - loss: 0.0578 - accuracy: 0.5578 - val_loss: 0.0692 - val_accuracy: 0.4225 - lr: 0.0010 - 15s/epoch - 262ms/step
Epoch 12/25
59/59 - 16s - loss: 0.0578 - accuracy: 0.5586 - val_loss: 0.0692 - val_accuracy: 0.4227 - lr: 0.0010 - 16s/epoch - 265ms/step
Epoch 13/25
59/59 - 15s - loss: 0.0576 - accuracy: 0.5615 - val_loss: 0.0693 - val_accuracy: 0.4223 - lr: 0.0010 - 15s/epoch - 263ms/step
Epoch 14/25
59/59 - 15s - loss: 0.0578 - accuracy: 0.5578 - val_loss: 0.0693 - val_accuracy: 0.4222 - lr: 0.0010 - 15s/epoch - 259ms/step
Epoch 15/25
59/59 - 15s - loss: 0.0577 - accuracy: 0.5606 - val_loss: 0.0693 - val_accuracy: 0.4222 - lr: 0.0010 - 15s/epoch - 249ms/step
Epoch 16/25
59/59 - 15s - loss: 0.0577 - accuracy: 0.5583 - val_loss: 0.0693 - val_accuracy: 0.4218 - lr: 0.0010 - 15s/epoch - 252ms/step
Epoch 17/25
59/59 - 14s - loss: 0.0577 - accuracy: 0.5614 - val_loss: 0.0693 - val_accuracy: 0.4218 - lr: 0.0010 - 14s/epoch - 241ms/step
Epoch 18/25
59/59 - 13s - loss: 0.0577 - accuracy: 0.5597 - val_loss: 0.0694 - val_accuracy: 0.4217 - lr: 0.0010 - 13s/epoch - 226ms/step
Epoch 19/25
59/59 - 14s - loss: 0.0577 - accuracy: 0.5580 - val_loss: 0.0693 - val_accuracy: 0.4228 - lr: 0.0010 - 14s/epoch - 238ms/step
Epoch 20/25
59/59 - 13s - loss: 0.0577 - accuracy: 0.5601 - val_loss: 0.0693 - val_accuracy: 0.4223 - lr: 0.0010 - 13s/epoch - 225ms/step
Epoch 21/25
59/59 - 12s - loss: 0.0577 - accuracy: 0.5600 - val_loss: 0.0693 - val_accuracy: 0.4228 - lr: 0.0010 - 12s/epoch - 207ms/step
Epoch 22/25
59/59 - 13s - loss: 0.0577 - accuracy: 0.5605 - val_loss: 0.0693 - val_accuracy: 0.4228 - lr: 0.0010 - 13s/epoch - 218ms/step
Epoch 23/25
59/59 - 14s - loss: 0.0576 - accuracy: 0.5601 - val_loss: 0.0694 - val_accuracy: 0.4223 - lr: 0.0010 - 14s/epoch - 245ms/step
Epoch 24/25
59/59 - 15s - loss: 0.0577 - accuracy: 0.5600 - val_loss: 0.0694 - val_accuracy: 0.4232 - lr: 0.0010 - 15s/epoch - 255ms/step
Epoch 25/25
59/59 - 14s - loss: 0.0577 - accuracy: 0.5607 - val_loss: 0.0693 - val_accuracy: 0.4237 - lr: 0.0010 - 14s/epoch - 246ms/step
fitting with batch size: 2500
Epoch 1/25
36/36 - 17s - loss: 0.0577 - accuracy: 0.5595 - val_loss: 0.0693 - val_accuracy: 0.4248 - lr: 0.0010 - 17s/epoch - 471ms/step
Epoch 2/25
36/36 - 13s - loss: 0.0576 - accuracy: 0.5596 - val_loss: 0.0694 - val_accuracy: 0.4235 - lr: 0.0010 - 13s/epoch - 366ms/step
Epoch 3/25
36/36 - 13s - loss: 0.0577 - accuracy: 0.5591 - val_loss: 0.0694 - val_accuracy: 0.4240 - lr: 0.0010 - 13s/epoch - 371ms/step
Epoch 4/25
36/36 - 13s - loss: 0.0577 - accuracy: 0.5599 - val_loss: 0.0693 - val_accuracy: 0.4247 - lr: 0.0010 - 13s/epoch - 348ms/step
Epoch 5/25
36/36 - 12s - loss: 0.0578 - accuracy: 0.5597 - val_loss: 0.0694 - val_accuracy: 0.4239 - lr: 0.0010 - 12s/epoch - 334ms/step
Epoch 6/25
36/36 - 13s - loss: 0.0576 - accuracy: 0.5618 - val_loss: 0.0694 - val_accuracy: 0.4237 - lr: 0.0010 - 13s/epoch - 356ms/step
Epoch 7/25
36/36 - 13s - loss: 0.0576 - accuracy: 0.5588 - val_loss: 0.0694 - val_accuracy: 0.4236 - lr: 0.0010 - 13s/epoch - 373ms/step
Epoch 8/25
36/36 - 13s - loss: 0.0577 - accuracy: 0.5605 - val_loss: 0.0693 - val_accuracy: 0.4244 - lr: 0.0010 - 13s/epoch - 364ms/step
Epoch 9/25
36/36 - 14s - loss: 0.0577 - accuracy: 0.5587 - val_loss: 0.0693 - val_accuracy: 0.4248 - lr: 0.0010 - 14s/epoch - 387ms/step
Epoch 10/25
36/36 - 13s - loss: 0.0576 - accuracy: 0.5613 - val_loss: 0.0693 - val_accuracy: 0.4255 - lr: 0.0010 - 13s/epoch - 370ms/step
Epoch 11/25
36/36 - 14s - loss: 0.0577 - accuracy: 0.5589 - val_loss: 0.0693 - val_accuracy: 0.4258 - lr: 0.0010 - 14s/epoch - 385ms/step
Epoch 12/25
36/36 - 14s - loss: 0.0576 - accuracy: 0.5596 - val_loss: 0.0693 - val_accuracy: 0.4256 - lr: 0.0010 - 14s/epoch - 385ms/step
Epoch 13/25
36/36 - 13s - loss: 0.0577 - accuracy: 0.5612 - val_loss: 0.0693 - val_accuracy: 0.4259 - lr: 0.0010 - 13s/epoch - 370ms/step
Epoch 14/25
36/36 - 14s - loss: 0.0577 - accuracy: 0.5612 - val_loss: 0.0694 - val_accuracy: 0.4255 - lr: 0.0010 - 14s/epoch - 378ms/step
Epoch 15/25
36/36 - 14s - loss: 0.0577 - accuracy: 0.5585 - val_loss: 0.0694 - val_accuracy: 0.4239 - lr: 0.0010 - 14s/epoch - 384ms/step
Epoch 16/25
36/36 - 14s - loss: 0.0576 - accuracy: 0.5611 - val_loss: 0.0694 - val_accuracy: 0.4242 - lr: 0.0010 - 14s/epoch - 388ms/step
Epoch 17/25
36/36 - 13s - loss: 0.0575 - accuracy: 0.5621 - val_loss: 0.0694 - val_accuracy: 0.4256 - lr: 0.0010 - 13s/epoch - 373ms/step
Epoch 18/25
36/36 - 13s - loss: 0.0576 - accuracy: 0.5602 - val_loss: 0.0694 - val_accuracy: 0.4249 - lr: 0.0010 - 13s/epoch - 354ms/step
Epoch 19/25
36/36 - 14s - loss: 0.0576 - accuracy: 0.5604 - val_loss: 0.0693 - val_accuracy: 0.4265 - lr: 0.0010 - 14s/epoch - 389ms/step
Epoch 20/25
36/36 - 15s - loss: 0.0576 - accuracy: 0.5599 - val_loss: 0.0693 - val_accuracy: 0.4268 - lr: 0.0010 - 15s/epoch - 408ms/step
Epoch 21/25
36/36 - 14s - loss: 0.0576 - accuracy: 0.5609 - val_loss: 0.0693 - val_accuracy: 0.4270 - lr: 0.0010 - 14s/epoch - 394ms/step
Epoch 22/25
36/36 - 13s - loss: 0.0575 - accuracy: 0.5621 - val_loss: 0.0693 - val_accuracy: 0.4278 - lr: 0.0010 - 13s/epoch - 370ms/step
Epoch 23/25
36/36 - 14s - loss: 0.0576 - accuracy: 0.5595 - val_loss: 0.0692 - val_accuracy: 0.4288 - lr: 0.0010 - 14s/epoch - 396ms/step
Epoch 24/25
36/36 - 15s - loss: 0.0576 - accuracy: 0.5619 - val_loss: 0.0693 - val_accuracy: 0.4276 - lr: 0.0010 - 15s/epoch - 410ms/step
Epoch 25/25
36/36 - 14s - loss: 0.0576 - accuracy: 0.5611 - val_loss: 0.0693 - val_accuracy: 0.4272 - lr: 0.0010 - 14s/epoch - 395ms/step
Epoch number: 50
fitting with batch size: 1500
Epoch 1/50
59/59 - 23s - loss: 0.0575 - accuracy: 0.5615 - val_loss: 0.0693 - val_accuracy: 0.4271 - lr: 0.0010 - 23s/epoch - 396ms/step
Epoch 2/50
59/59 - 15s - loss: 0.0576 - accuracy: 0.5608 - val_loss: 0.0693 - val_accuracy: 0.4274 - lr: 0.0010 - 15s/epoch - 252ms/step
Epoch 3/50
59/59 - 15s - loss: 0.0577 - accuracy: 0.5602 - val_loss: 0.0693 - val_accuracy: 0.4271 - lr: 0.0010 - 15s/epoch - 256ms/step
Epoch 4/50
59/59 - 14s - loss: 0.0576 - accuracy: 0.5627 - val_loss: 0.0693 - val_accuracy: 0.4273 - lr: 0.0010 - 14s/epoch - 237ms/step
Epoch 5/50
59/59 - 15s - loss: 0.0575 - accuracy: 0.5616 - val_loss: 0.0693 - val_accuracy: 0.4274 - lr: 0.0010 - 15s/epoch - 250ms/step
Epoch 6/50
59/59 - 15s - loss: 0.0575 - accuracy: 0.5626 - val_loss: 0.0693 - val_accuracy: 0.4275 - lr: 0.0010 - 15s/epoch - 257ms/step
Epoch 7/50
59/59 - 17s - loss: 0.0575 - accuracy: 0.5600 - val_loss: 0.0693 - val_accuracy: 0.4276 - lr: 0.0010 - 17s/epoch - 289ms/step
Epoch 8/50
59/59 - 15s - loss: 0.0575 - accuracy: 0.5613 - val_loss: 0.0694 - val_accuracy: 0.4276 - lr: 0.0010 - 15s/epoch - 261ms/step
Epoch 9/50
59/59 - 16s - loss: 0.0575 - accuracy: 0.5612 - val_loss: 0.0694 - val_accuracy: 0.4276 - lr: 0.0010 - 16s/epoch - 270ms/step
Epoch 10/50
59/59 - 16s - loss: 0.0575 - accuracy: 0.5611 - val_loss: 0.0693 - val_accuracy: 0.4282 - lr: 0.0010 - 16s/epoch - 269ms/step
Epoch 11/50
59/59 - 17s - loss: 0.0574 - accuracy: 0.5628 - val_loss: 0.0693 - val_accuracy: 0.4280 - lr: 0.0010 - 17s/epoch - 291ms/step
Epoch 12/50
59/59 - 15s - loss: 0.0574 - accuracy: 0.5620 - val_loss: 0.0693 - val_accuracy: 0.4282 - lr: 0.0010 - 15s/epoch - 250ms/step
Epoch 13/50
59/59 - 15s - loss: 0.0575 - accuracy: 0.5603 - val_loss: 0.0693 - val_accuracy: 0.4288 - lr: 0.0010 - 15s/epoch - 254ms/step
Epoch 14/50
59/59 - 16s - loss: 0.0575 - accuracy: 0.5620 - val_loss: 0.0693 - val_accuracy: 0.4291 - lr: 0.0010 - 16s/epoch - 266ms/step
Epoch 15/50
59/59 - 15s - loss: 0.0574 - accuracy: 0.5625 - val_loss: 0.0693 - val_accuracy: 0.4291 - lr: 0.0010 - 15s/epoch - 262ms/step
Epoch 16/50
59/59 - 15s - loss: 0.0575 - accuracy: 0.5623 - val_loss: 0.0693 - val_accuracy: 0.4293 - lr: 0.0010 - 15s/epoch - 260ms/step
Epoch 17/50
59/59 - 15s - loss: 0.0575 - accuracy: 0.5628 - val_loss: 0.0693 - val_accuracy: 0.4297 - lr: 0.0010 - 15s/epoch - 261ms/step
Epoch 18/50
59/59 - 15s - loss: 0.0575 - accuracy: 0.5617 - val_loss: 0.0693 - val_accuracy: 0.4298 - lr: 0.0010 - 15s/epoch - 251ms/step
Epoch 19/50
59/59 - 15s - loss: 0.0574 - accuracy: 0.5637 - val_loss: 0.0693 - val_accuracy: 0.4302 - lr: 0.0010 - 15s/epoch - 260ms/step
Epoch 20/50
59/59 - 16s - loss: 0.0574 - accuracy: 0.5627 - val_loss: 0.0693 - val_accuracy: 0.4294 - lr: 0.0010 - 16s/epoch - 267ms/step
Epoch 21/50
59/59 - 17s - loss: 0.0574 - accuracy: 0.5622 - val_loss: 0.0693 - val_accuracy: 0.4292 - lr: 0.0010 - 17s/epoch - 286ms/step
Epoch 22/50
59/59 - 18s - loss: 0.0576 - accuracy: 0.5612 - val_loss: 0.0693 - val_accuracy: 0.4295 - lr: 0.0010 - 18s/epoch - 297ms/step
Epoch 23/50
59/59 - 17s - loss: 0.0574 - accuracy: 0.5615 - val_loss: 0.0693 - val_accuracy: 0.4300 - lr: 0.0010 - 17s/epoch - 281ms/step
Epoch 24/50
59/59 - 15s - loss: 0.0574 - accuracy: 0.5622 - val_loss: 0.0693 - val_accuracy: 0.4300 - lr: 0.0010 - 15s/epoch - 257ms/step
Epoch 25/50
59/59 - 10s - loss: 0.0574 - accuracy: 0.5618 - val_loss: 0.0693 - val_accuracy: 0.4299 - lr: 0.0010 - 10s/epoch - 175ms/step
Epoch 26/50
59/59 - 9s - loss: 0.0576 - accuracy: 0.5617 - val_loss: 0.0693 - val_accuracy: 0.4300 - lr: 0.0010 - 9s/epoch - 160ms/step
Epoch 27/50
59/59 - 10s - loss: 0.0574 - accuracy: 0.5630 - val_loss: 0.0693 - val_accuracy: 0.4298 - lr: 0.0010 - 10s/epoch - 162ms/step
Epoch 28/50
59/59 - 16s - loss: 0.0574 - accuracy: 0.5632 - val_loss: 0.0693 - val_accuracy: 0.4304 - lr: 0.0010 - 16s/epoch - 268ms/step
Epoch 29/50
59/59 - 15s - loss: 0.0574 - accuracy: 0.5628 - val_loss: 0.0693 - val_accuracy: 0.4305 - lr: 0.0010 - 15s/epoch - 256ms/step
Epoch 30/50
59/59 - 16s - loss: 0.0575 - accuracy: 0.5623 - val_loss: 0.0693 - val_accuracy: 0.4306 - lr: 0.0010 - 16s/epoch - 264ms/step
Epoch 31/50
59/59 - 16s - loss: 0.0574 - accuracy: 0.5635 - val_loss: 0.0693 - val_accuracy: 0.4302 - lr: 0.0010 - 16s/epoch - 277ms/step
Epoch 32/50
59/59 - 17s - loss: 0.0574 - accuracy: 0.5609 - val_loss: 0.0693 - val_accuracy: 0.4298 - lr: 0.0010 - 17s/epoch - 287ms/step
Epoch 33/50
59/59 - 15s - loss: 0.0574 - accuracy: 0.5623 - val_loss: 0.0693 - val_accuracy: 0.4304 - lr: 0.0010 - 15s/epoch - 261ms/step
Epoch 34/50
59/59 - 14s - loss: 0.0574 - accuracy: 0.5621 - val_loss: 0.0693 - val_accuracy: 0.4308 - lr: 0.0010 - 14s/epoch - 243ms/step
Epoch 35/50
59/59 - 15s - loss: 0.0574 - accuracy: 0.5626 - val_loss: 0.0693 - val_accuracy: 0.4308 - lr: 0.0010 - 15s/epoch - 246ms/step
Epoch 36/50
59/59 - 15s - loss: 0.0574 - accuracy: 0.5641 - val_loss: 0.0693 - val_accuracy: 0.4304 - lr: 0.0010 - 15s/epoch - 261ms/step
Epoch 37/50
59/59 - 15s - loss: 0.0573 - accuracy: 0.5617 - val_loss: 0.0693 - val_accuracy: 0.4315 - lr: 0.0010 - 15s/epoch - 256ms/step
Epoch 38/50
59/59 - 14s - loss: 0.0574 - accuracy: 0.5639 - val_loss: 0.0693 - val_accuracy: 0.4312 - lr: 0.0010 - 14s/epoch - 242ms/step
Epoch 39/50
59/59 - 14s - loss: 0.0574 - accuracy: 0.5641 - val_loss: 0.0693 - val_accuracy: 0.4316 - lr: 0.0010 - 14s/epoch - 234ms/step
Epoch 40/50
59/59 - 14s - loss: 0.0573 - accuracy: 0.5644 - val_loss: 0.0692 - val_accuracy: 0.4323 - lr: 0.0010 - 14s/epoch - 230ms/step
Epoch 41/50
59/59 - 14s - loss: 0.0573 - accuracy: 0.5643 - val_loss: 0.0692 - val_accuracy: 0.4322 - lr: 0.0010 - 14s/epoch - 233ms/step
Epoch 42/50
59/59 - 14s - loss: 0.0574 - accuracy: 0.5641 - val_loss: 0.0692 - val_accuracy: 0.4323 - lr: 0.0010 - 14s/epoch - 230ms/step
Epoch 43/50
59/59 - 14s - loss: 0.0572 - accuracy: 0.5647 - val_loss: 0.0692 - val_accuracy: 0.4318 - lr: 0.0010 - 14s/epoch - 241ms/step
Epoch 44/50
59/59 - 13s - loss: 0.0573 - accuracy: 0.5640 - val_loss: 0.0692 - val_accuracy: 0.4328 - lr: 0.0010 - 13s/epoch - 222ms/step
Epoch 45/50
59/59 - 13s - loss: 0.0573 - accuracy: 0.5624 - val_loss: 0.0692 - val_accuracy: 0.4328 - lr: 0.0010 - 13s/epoch - 224ms/step
Epoch 46/50
59/59 - 13s - loss: 0.0572 - accuracy: 0.5637 - val_loss: 0.0692 - val_accuracy: 0.4335 - lr: 0.0010 - 13s/epoch - 213ms/step
Epoch 47/50
59/59 - 14s - loss: 0.0572 - accuracy: 0.5654 - val_loss: 0.0692 - val_accuracy: 0.4340 - lr: 0.0010 - 14s/epoch - 232ms/step
Epoch 48/50
59/59 - 14s - loss: 0.0574 - accuracy: 0.5632 - val_loss: 0.0692 - val_accuracy: 0.4337 - lr: 0.0010 - 14s/epoch - 240ms/step
Epoch 49/50
59/59 - 15s - loss: 0.0573 - accuracy: 0.5653 - val_loss: 0.0692 - val_accuracy: 0.4338 - lr: 0.0010 - 15s/epoch - 250ms/step
Epoch 50/50
59/59 - 14s - loss: 0.0572 - accuracy: 0.5637 - val_loss: 0.0692 - val_accuracy: 0.4331 - lr: 0.0010 - 14s/epoch - 243ms/step
fitting with batch size: 2500
Epoch 1/50
36/36 - 17s - loss: 0.0573 - accuracy: 0.5644 - val_loss: 0.0692 - val_accuracy: 0.4331 - lr: 0.0010 - 17s/epoch - 467ms/step
Epoch 2/50
36/36 - 13s - loss: 0.0573 - accuracy: 0.5650 - val_loss: 0.0692 - val_accuracy: 0.4331 - lr: 0.0010 - 13s/epoch - 348ms/step
Epoch 3/50
36/36 - 13s - loss: 0.0573 - accuracy: 0.5630 - val_loss: 0.0692 - val_accuracy: 0.4345 - lr: 0.0010 - 13s/epoch - 366ms/step
Epoch 4/50
36/36 - 12s - loss: 0.0572 - accuracy: 0.5661 - val_loss: 0.0692 - val_accuracy: 0.4325 - lr: 0.0010 - 12s/epoch - 347ms/step
Epoch 5/50
36/36 - 13s - loss: 0.0572 - accuracy: 0.5655 - val_loss: 0.0692 - val_accuracy: 0.4333 - lr: 0.0010 - 13s/epoch - 367ms/step
Epoch 6/50
36/36 - 13s - loss: 0.0573 - accuracy: 0.5631 - val_loss: 0.0692 - val_accuracy: 0.4331 - lr: 0.0010 - 13s/epoch - 358ms/step
Epoch 7/50
36/36 - 13s - loss: 0.0572 - accuracy: 0.5643 - val_loss: 0.0692 - val_accuracy: 0.4340 - lr: 0.0010 - 13s/epoch - 363ms/step
Epoch 8/50
36/36 - 13s - loss: 0.0573 - accuracy: 0.5643 - val_loss: 0.0692 - val_accuracy: 0.4343 - lr: 0.0010 - 13s/epoch - 361ms/step
Epoch 9/50
36/36 - 13s - loss: 0.0573 - accuracy: 0.5629 - val_loss: 0.0692 - val_accuracy: 0.4342 - lr: 0.0010 - 13s/epoch - 361ms/step
Epoch 10/50
36/36 - 12s - loss: 0.0572 - accuracy: 0.5651 - val_loss: 0.0691 - val_accuracy: 0.4354 - lr: 0.0010 - 12s/epoch - 338ms/step
Epoch 11/50
36/36 - 12s - loss: 0.0573 - accuracy: 0.5643 - val_loss: 0.0692 - val_accuracy: 0.4337 - lr: 0.0010 - 12s/epoch - 333ms/step
Epoch 12/50
36/36 - 14s - loss: 0.0573 - accuracy: 0.5632 - val_loss: 0.0692 - val_accuracy: 0.4334 - lr: 0.0010 - 14s/epoch - 385ms/step
Epoch 13/50
36/36 - 13s - loss: 0.0573 - accuracy: 0.5637 - val_loss: 0.0692 - val_accuracy: 0.4339 - lr: 0.0010 - 13s/epoch - 374ms/step
Epoch 14/50
36/36 - 13s - loss: 0.0573 - accuracy: 0.5620 - val_loss: 0.0692 - val_accuracy: 0.4341 - lr: 0.0010 - 13s/epoch - 364ms/step
Epoch 15/50
36/36 - 13s - loss: 0.0572 - accuracy: 0.5652 - val_loss: 0.0692 - val_accuracy: 0.4336 - lr: 0.0010 - 13s/epoch - 355ms/step
Epoch 16/50
36/36 - 13s - loss: 0.0572 - accuracy: 0.5649 - val_loss: 0.0692 - val_accuracy: 0.4342 - lr: 0.0010 - 13s/epoch - 362ms/step
Epoch 17/50
36/36 - 12s - loss: 0.0572 - accuracy: 0.5631 - val_loss: 0.0692 - val_accuracy: 0.4341 - lr: 0.0010 - 12s/epoch - 334ms/step
Epoch 18/50
36/36 - 12s - loss: 0.0571 - accuracy: 0.5652 - val_loss: 0.0692 - val_accuracy: 0.4345 - lr: 0.0010 - 12s/epoch - 337ms/step
Epoch 19/50
36/36 - 13s - loss: 0.0573 - accuracy: 0.5657 - val_loss: 0.0692 - val_accuracy: 0.4354 - lr: 0.0010 - 13s/epoch - 363ms/step
Epoch 20/50
36/36 - 12s - loss: 0.0572 - accuracy: 0.5639 - val_loss: 0.0691 - val_accuracy: 0.4363 - lr: 0.0010 - 12s/epoch - 341ms/step
Epoch 21/50
36/36 - 13s - loss: 0.0573 - accuracy: 0.5640 - val_loss: 0.0691 - val_accuracy: 0.4360 - lr: 0.0010 - 13s/epoch - 363ms/step
Epoch 22/50
36/36 - 13s - loss: 0.0573 - accuracy: 0.5634 - val_loss: 0.0692 - val_accuracy: 0.4355 - lr: 0.0010 - 13s/epoch - 359ms/step
Epoch 23/50
36/36 - 13s - loss: 0.0572 - accuracy: 0.5636 - val_loss: 0.0692 - val_accuracy: 0.4343 - lr: 0.0010 - 13s/epoch - 369ms/step
Epoch 24/50
36/36 - 13s - loss: 0.0572 - accuracy: 0.5638 - val_loss: 0.0692 - val_accuracy: 0.4351 - lr: 0.0010 - 13s/epoch - 359ms/step
Epoch 25/50
36/36 - 13s - loss: 0.0573 - accuracy: 0.5640 - val_loss: 0.0692 - val_accuracy: 0.4350 - lr: 0.0010 - 13s/epoch - 362ms/step
Epoch 26/50
36/36 - 13s - loss: 0.0572 - accuracy: 0.5657 - val_loss: 0.0692 - val_accuracy: 0.4350 - lr: 0.0010 - 13s/epoch - 355ms/step
Epoch 27/50
36/36 - 13s - loss: 0.0572 - accuracy: 0.5649 - val_loss: 0.0692 - val_accuracy: 0.4358 - lr: 0.0010 - 13s/epoch - 359ms/step
Epoch 28/50
36/36 - 13s - loss: 0.0571 - accuracy: 0.5673 - val_loss: 0.0692 - val_accuracy: 0.4365 - lr: 0.0010 - 13s/epoch - 357ms/step
Epoch 29/50
36/36 - 13s - loss: 0.0572 - accuracy: 0.5657 - val_loss: 0.0692 - val_accuracy: 0.4364 - lr: 0.0010 - 13s/epoch - 355ms/step
Epoch 30/50
36/36 - 13s - loss: 0.0573 - accuracy: 0.5652 - val_loss: 0.0692 - val_accuracy: 0.4368 - lr: 0.0010 - 13s/epoch - 353ms/step
Epoch 31/50
36/36 - 14s - loss: 0.0571 - accuracy: 0.5661 - val_loss: 0.0691 - val_accuracy: 0.4367 - lr: 0.0010 - 14s/epoch - 382ms/step
Epoch 32/50
36/36 - 14s - loss: 0.0573 - accuracy: 0.5642 - val_loss: 0.0691 - val_accuracy: 0.4381 - lr: 0.0010 - 14s/epoch - 388ms/step
Epoch 33/50
36/36 - 14s - loss: 0.0572 - accuracy: 0.5648 - val_loss: 0.0691 - val_accuracy: 0.4376 - lr: 0.0010 - 14s/epoch - 376ms/step
Epoch 34/50
36/36 - 14s - loss: 0.0572 - accuracy: 0.5644 - val_loss: 0.0691 - val_accuracy: 0.4377 - lr: 0.0010 - 14s/epoch - 386ms/step
Epoch 35/50
36/36 - 15s - loss: 0.0572 - accuracy: 0.5638 - val_loss: 0.0691 - val_accuracy: 0.4374 - lr: 0.0010 - 15s/epoch - 410ms/step
Epoch 36/50
36/36 - 14s - loss: 0.0572 - accuracy: 0.5649 - val_loss: 0.0691 - val_accuracy: 0.4383 - lr: 0.0010 - 14s/epoch - 396ms/step
Epoch 37/50
36/36 - 14s - loss: 0.0572 - accuracy: 0.5649 - val_loss: 0.0690 - val_accuracy: 0.4392 - lr: 0.0010 - 14s/epoch - 392ms/step
Epoch 38/50
36/36 - 12s - loss: 0.0572 - accuracy: 0.5658 - val_loss: 0.0690 - val_accuracy: 0.4391 - lr: 0.0010 - 12s/epoch - 334ms/step
Epoch 39/50
36/36 - 12s - loss: 0.0572 - accuracy: 0.5645 - val_loss: 0.0691 - val_accuracy: 0.4386 - lr: 0.0010 - 12s/epoch - 345ms/step
Epoch 40/50
36/36 - 12s - loss: 0.0573 - accuracy: 0.5642 - val_loss: 0.0691 - val_accuracy: 0.4382 - lr: 0.0010 - 12s/epoch - 332ms/step
Epoch 41/50
36/36 - 12s - loss: 0.0572 - accuracy: 0.5654 - val_loss: 0.0691 - val_accuracy: 0.4378 - lr: 0.0010 - 12s/epoch - 325ms/step
Epoch 42/50
36/36 - 9s - loss: 0.0571 - accuracy: 0.5654 - val_loss: 0.0691 - val_accuracy: 0.4385 - lr: 0.0010 - 9s/epoch - 256ms/step
Epoch 43/50
36/36 - 9s - loss: 0.0572 - accuracy: 0.5649 - val_loss: 0.0691 - val_accuracy: 0.4370 - lr: 0.0010 - 9s/epoch - 247ms/step
Epoch 44/50
36/36 - 9s - loss: 0.0571 - accuracy: 0.5675 - val_loss: 0.0692 - val_accuracy: 0.4367 - lr: 0.0010 - 9s/epoch - 242ms/step
Epoch 45/50
36/36 - 9s - loss: 0.0572 - accuracy: 0.5656 - val_loss: 0.0691 - val_accuracy: 0.4374 - lr: 0.0010 - 9s/epoch - 241ms/step
Epoch 46/50
36/36 - 9s - loss: 0.0571 - accuracy: 0.5664 - val_loss: 0.0691 - val_accuracy: 0.4377 - lr: 0.0010 - 9s/epoch - 242ms/step
Epoch 47/50
36/36 - 9s - loss: 0.0572 - accuracy: 0.5666 - val_loss: 0.0691 - val_accuracy: 0.4380 - lr: 0.0010 - 9s/epoch - 241ms/step
Epoch 48/50
36/36 - 9s - loss: 0.0572 - accuracy: 0.5659 - val_loss: 0.0690 - val_accuracy: 0.4391 - lr: 0.0010 - 9s/epoch - 243ms/step
Epoch 49/50
36/36 - 9s - loss: 0.0571 - accuracy: 0.5665 - val_loss: 0.0690 - val_accuracy: 0.4397 - lr: 0.0010 - 9s/epoch - 243ms/step
Epoch 50/50
36/36 - 9s - loss: 0.0571 - accuracy: 0.5656 - val_loss: 0.0690 - val_accuracy: 0.4396 - lr: 0.0010 - 9s/epoch - 243ms/step
Loss: kullback_leibler_divergence
Epoch number: 25
fitting with batch size: 1500
Epoch 1/25
59/59 - 13s - loss: 1.1175 - accuracy: 0.5635 - val_loss: 1.2661 - val_accuracy: 0.4577 - lr: 0.0010 - 13s/epoch - 215ms/step
Epoch 2/25
59/59 - 9s - loss: 1.1143 - accuracy: 0.5637 - val_loss: 1.2666 - val_accuracy: 0.4540 - lr: 0.0010 - 9s/epoch - 152ms/step
Epoch 3/25
59/59 - 9s - loss: 1.1117 - accuracy: 0.5660 - val_loss: 1.2691 - val_accuracy: 0.4500 - lr: 0.0010 - 9s/epoch - 153ms/step
Epoch 4/25
59/59 - 9s - loss: 1.1089 - accuracy: 0.5672 - val_loss: 1.2639 - val_accuracy: 0.4551 - lr: 0.0010 - 9s/epoch - 153ms/step
Epoch 5/25
59/59 - 9s - loss: 1.1080 - accuracy: 0.5664 - val_loss: 1.2617 - val_accuracy: 0.4564 - lr: 0.0010 - 9s/epoch - 152ms/step
Epoch 6/25
59/59 - 9s - loss: 1.1046 - accuracy: 0.5680 - val_loss: 1.2617 - val_accuracy: 0.4545 - lr: 0.0010 - 9s/epoch - 153ms/step
Epoch 7/25
59/59 - 9s - loss: 1.1057 - accuracy: 0.5669 - val_loss: 1.2515 - val_accuracy: 0.4683 - lr: 0.0010 - 9s/epoch - 152ms/step
Epoch 8/25
59/59 - 9s - loss: 1.1044 - accuracy: 0.5676 - val_loss: 1.2465 - val_accuracy: 0.4712 - lr: 0.0010 - 9s/epoch - 153ms/step
Epoch 9/25
59/59 - 9s - loss: 1.1020 - accuracy: 0.5668 - val_loss: 1.2488 - val_accuracy: 0.4651 - lr: 0.0010 - 9s/epoch - 153ms/step
Epoch 10/25
59/59 - 9s - loss: 1.1001 - accuracy: 0.5692 - val_loss: 1.2476 - val_accuracy: 0.4679 - lr: 0.0010 - 9s/epoch - 151ms/step
Epoch 11/25
59/59 - 9s - loss: 1.0986 - accuracy: 0.5710 - val_loss: 1.2473 - val_accuracy: 0.4646 - lr: 0.0010 - 9s/epoch - 151ms/step
Epoch 12/25
59/59 - 9s - loss: 1.0976 - accuracy: 0.5719 - val_loss: 1.2484 - val_accuracy: 0.4613 - lr: 0.0010 - 9s/epoch - 152ms/step
Epoch 13/25
59/59 - 9s - loss: 1.0969 - accuracy: 0.5701 - val_loss: 1.2389 - val_accuracy: 0.4737 - lr: 0.0010 - 9s/epoch - 152ms/step
Epoch 14/25
59/59 - 9s - loss: 1.0944 - accuracy: 0.5708 - val_loss: 1.2392 - val_accuracy: 0.4709 - lr: 0.0010 - 9s/epoch - 151ms/step
Epoch 15/25
59/59 - 9s - loss: 1.0940 - accuracy: 0.5724 - val_loss: 1.2402 - val_accuracy: 0.4673 - lr: 0.0010 - 9s/epoch - 151ms/step
Epoch 16/25
59/59 - 9s - loss: 1.0931 - accuracy: 0.5735 - val_loss: 1.2364 - val_accuracy: 0.4713 - lr: 0.0010 - 9s/epoch - 156ms/step
Epoch 17/25
59/59 - 13s - loss: 1.0898 - accuracy: 0.5739 - val_loss: 1.2329 - val_accuracy: 0.4793 - lr: 0.0010 - 13s/epoch - 219ms/step
Epoch 18/25
59/59 - 13s - loss: 1.0886 - accuracy: 0.5750 - val_loss: 1.2388 - val_accuracy: 0.4696 - lr: 0.0010 - 13s/epoch - 220ms/step
Epoch 19/25
59/59 - 13s - loss: 1.0884 - accuracy: 0.5744 - val_loss: 1.2381 - val_accuracy: 0.4681 - lr: 0.0010 - 13s/epoch - 224ms/step
Epoch 20/25
59/59 - 13s - loss: 1.0850 - accuracy: 0.5763 - val_loss: 1.2404 - val_accuracy: 0.4670 - lr: 0.0010 - 13s/epoch - 222ms/step
Epoch 21/25
59/59 - 13s - loss: 1.0852 - accuracy: 0.5751 - val_loss: 1.2433 - val_accuracy: 0.4646 - lr: 0.0010 - 13s/epoch - 223ms/step
Epoch 22/25
59/59 - 14s - loss: 1.0832 - accuracy: 0.5764 - val_loss: 1.2380 - val_accuracy: 0.4676 - lr: 0.0010 - 14s/epoch - 245ms/step
Epoch 23/25
59/59 - 14s - loss: 1.0838 - accuracy: 0.5776 - val_loss: 1.2283 - val_accuracy: 0.4762 - lr: 0.0010 - 14s/epoch - 243ms/step
Epoch 24/25
59/59 - 14s - loss: 1.0799 - accuracy: 0.5802 - val_loss: 1.2346 - val_accuracy: 0.4680 - lr: 0.0010 - 14s/epoch - 244ms/step
Epoch 25/25
59/59 - 14s - loss: 1.0793 - accuracy: 0.5794 - val_loss: 1.2314 - val_accuracy: 0.4730 - lr: 0.0010 - 14s/epoch - 239ms/step
fitting with batch size: 2500
Epoch 1/25
36/36 - 16s - loss: 1.0787 - accuracy: 0.5787 - val_loss: 1.2154 - val_accuracy: 0.4921 - lr: 0.0010 - 16s/epoch - 446ms/step
Epoch 2/25
36/36 - 12s - loss: 1.0777 - accuracy: 0.5798 - val_loss: 1.2549 - val_accuracy: 0.4495 - lr: 0.0010 - 12s/epoch - 335ms/step
Epoch 3/25
36/36 - 14s - loss: 1.0781 - accuracy: 0.5800 - val_loss: 1.2114 - val_accuracy: 0.4898 - lr: 0.0010 - 14s/epoch - 389ms/step
Epoch 4/25
36/36 - 14s - loss: 1.0764 - accuracy: 0.5815 - val_loss: 1.2306 - val_accuracy: 0.4760 - lr: 0.0010 - 14s/epoch - 381ms/step
Epoch 5/25
36/36 - 14s - loss: 1.0760 - accuracy: 0.5799 - val_loss: 1.2389 - val_accuracy: 0.4710 - lr: 0.0010 - 14s/epoch - 375ms/step
Epoch 6/25
36/36 - 13s - loss: 1.0766 - accuracy: 0.5796 - val_loss: 1.2371 - val_accuracy: 0.4679 - lr: 0.0010 - 13s/epoch - 363ms/step
Epoch 7/25
36/36 - 13s - loss: 1.0749 - accuracy: 0.5820 - val_loss: 1.2600 - val_accuracy: 0.4494 - lr: 0.0010 - 13s/epoch - 355ms/step
Epoch 8/25
36/36 - 13s - loss: 1.0731 - accuracy: 0.5822 - val_loss: 1.2248 - val_accuracy: 0.4850 - lr: 0.0010 - 13s/epoch - 352ms/step
Epoch 9/25
36/36 - 13s - loss: 1.0714 - accuracy: 0.5830 - val_loss: 1.2301 - val_accuracy: 0.4694 - lr: 0.0010 - 13s/epoch - 366ms/step
Epoch 10/25
36/36 - 12s - loss: 1.0733 - accuracy: 0.5814 - val_loss: 1.2306 - val_accuracy: 0.4701 - lr: 0.0010 - 12s/epoch - 326ms/step
Epoch 11/25
36/36 - 9s - loss: 1.0703 - accuracy: 0.5833 - val_loss: 1.2041 - val_accuracy: 0.4974 - lr: 0.0010 - 9s/epoch - 257ms/step
Epoch 12/25
36/36 - 9s - loss: 1.0709 - accuracy: 0.5847 - val_loss: 1.2411 - val_accuracy: 0.4659 - lr: 0.0010 - 9s/epoch - 252ms/step
Epoch 13/25
36/36 - 9s - loss: 1.0691 - accuracy: 0.5839 - val_loss: 1.2205 - val_accuracy: 0.4766 - lr: 0.0010 - 9s/epoch - 251ms/step
Epoch 14/25
36/36 - 9s - loss: 1.0704 - accuracy: 0.5843 - val_loss: 1.2114 - val_accuracy: 0.4910 - lr: 0.0010 - 9s/epoch - 254ms/step
Epoch 15/25
36/36 - 9s - loss: 1.0686 - accuracy: 0.5841 - val_loss: 1.2377 - val_accuracy: 0.4651 - lr: 0.0010 - 9s/epoch - 252ms/step
Epoch 16/25
36/36 - 12s - loss: 1.0684 - accuracy: 0.5855 - val_loss: 1.1834 - val_accuracy: 0.5069 - lr: 0.0010 - 12s/epoch - 337ms/step
Epoch 17/25
36/36 - 12s - loss: 1.0683 - accuracy: 0.5861 - val_loss: 1.2205 - val_accuracy: 0.4745 - lr: 0.0010 - 12s/epoch - 338ms/step
Epoch 18/25
36/36 - 14s - loss: 1.0674 - accuracy: 0.5861 - val_loss: 1.2106 - val_accuracy: 0.4786 - lr: 0.0010 - 14s/epoch - 393ms/step
Epoch 19/25
36/36 - 13s - loss: 1.0678 - accuracy: 0.5841 - val_loss: 1.1955 - val_accuracy: 0.5051 - lr: 0.0010 - 13s/epoch - 371ms/step
Epoch 20/25
36/36 - 12s - loss: 1.0641 - accuracy: 0.5871 - val_loss: 1.2206 - val_accuracy: 0.4793 - lr: 0.0010 - 12s/epoch - 343ms/step
Epoch 21/25
36/36 - 15s - loss: 1.0646 - accuracy: 0.5878 - val_loss: 1.2002 - val_accuracy: 0.4934 - lr: 0.0010 - 15s/epoch - 410ms/step
Epoch 22/25
36/36 - 15s - loss: 1.0656 - accuracy: 0.5842 - val_loss: 1.2216 - val_accuracy: 0.4778 - lr: 0.0010 - 15s/epoch - 416ms/step
Epoch 23/25
36/36 - 16s - loss: 1.0628 - accuracy: 0.5870 - val_loss: 1.2366 - val_accuracy: 0.4694 - lr: 0.0010 - 16s/epoch - 442ms/step
Epoch 24/25
36/36 - 16s - loss: 1.0632 - accuracy: 0.5866 - val_loss: 1.2254 - val_accuracy: 0.4804 - lr: 0.0010 - 16s/epoch - 432ms/step
Epoch 25/25
36/36 - 15s - loss: 1.0604 - accuracy: 0.5863 - val_loss: 1.1990 - val_accuracy: 0.4970 - lr: 0.0010 - 15s/epoch - 410ms/step
Epoch number: 50
fitting with batch size: 1500
Epoch 1/50
59/59 - 21s - loss: 1.0611 - accuracy: 0.5885 - val_loss: 1.2005 - val_accuracy: 0.4928 - lr: 0.0010 - 21s/epoch - 359ms/step
Epoch 2/50
59/59 - 13s - loss: 1.0597 - accuracy: 0.5884 - val_loss: 1.2036 - val_accuracy: 0.4909 - lr: 0.0010 - 13s/epoch - 223ms/step
Epoch 3/50
59/59 - 13s - loss: 1.0591 - accuracy: 0.5899 - val_loss: 1.2049 - val_accuracy: 0.4884 - lr: 0.0010 - 13s/epoch - 218ms/step
Epoch 4/50
59/59 - 13s - loss: 1.0576 - accuracy: 0.5887 - val_loss: 1.1947 - val_accuracy: 0.4942 - lr: 0.0010 - 13s/epoch - 218ms/step
Epoch 5/50
59/59 - 13s - loss: 1.0583 - accuracy: 0.5894 - val_loss: 1.2020 - val_accuracy: 0.4896 - lr: 0.0010 - 13s/epoch - 214ms/step
Epoch 6/50
59/59 - 14s - loss: 1.0568 - accuracy: 0.5908 - val_loss: 1.1966 - val_accuracy: 0.4968 - lr: 0.0010 - 14s/epoch - 232ms/step
Epoch 7/50
59/59 - 13s - loss: 1.0549 - accuracy: 0.5894 - val_loss: 1.1894 - val_accuracy: 0.4991 - lr: 0.0010 - 13s/epoch - 218ms/step
Epoch 8/50
59/59 - 10s - loss: 1.0542 - accuracy: 0.5910 - val_loss: 1.1885 - val_accuracy: 0.5010 - lr: 0.0010 - 10s/epoch - 171ms/step
Epoch 9/50
59/59 - 9s - loss: 1.0541 - accuracy: 0.5908 - val_loss: 1.1888 - val_accuracy: 0.4989 - lr: 0.0010 - 9s/epoch - 155ms/step
Epoch 10/50
59/59 - 12s - loss: 1.0504 - accuracy: 0.5928 - val_loss: 1.1957 - val_accuracy: 0.4955 - lr: 0.0010 - 12s/epoch - 205ms/step
Epoch 11/50
59/59 - 13s - loss: 1.0490 - accuracy: 0.5950 - val_loss: 1.1922 - val_accuracy: 0.4988 - lr: 0.0010 - 13s/epoch - 216ms/step
Epoch 12/50
59/59 - 13s - loss: 1.0514 - accuracy: 0.5938 - val_loss: 1.1914 - val_accuracy: 0.4955 - lr: 0.0010 - 13s/epoch - 217ms/step
Epoch 13/50
59/59 - 12s - loss: 1.0490 - accuracy: 0.5933 - val_loss: 1.1894 - val_accuracy: 0.4979 - lr: 0.0010 - 12s/epoch - 208ms/step
Epoch 14/50
59/59 - 14s - loss: 1.0482 - accuracy: 0.5951 - val_loss: 1.1810 - val_accuracy: 0.5052 - lr: 0.0010 - 14s/epoch - 232ms/step
Epoch 15/50
59/59 - 14s - loss: 1.0456 - accuracy: 0.5945 - val_loss: 1.1853 - val_accuracy: 0.5014 - lr: 0.0010 - 14s/epoch - 231ms/step
Epoch 16/50
59/59 - 14s - loss: 1.0455 - accuracy: 0.5948 - val_loss: 1.1839 - val_accuracy: 0.4968 - lr: 0.0010 - 14s/epoch - 245ms/step
Epoch 17/50
59/59 - 13s - loss: 1.0446 - accuracy: 0.5962 - val_loss: 1.1814 - val_accuracy: 0.4973 - lr: 0.0010 - 13s/epoch - 223ms/step
Epoch 18/50
59/59 - 14s - loss: 1.0440 - accuracy: 0.5965 - val_loss: 1.1752 - val_accuracy: 0.5026 - lr: 0.0010 - 14s/epoch - 231ms/step
Epoch 19/50
59/59 - 14s - loss: 1.0428 - accuracy: 0.5966 - val_loss: 1.1799 - val_accuracy: 0.5006 - lr: 0.0010 - 14s/epoch - 235ms/step
Epoch 20/50
59/59 - 15s - loss: 1.0403 - accuracy: 0.5970 - val_loss: 1.1884 - val_accuracy: 0.4930 - lr: 0.0010 - 15s/epoch - 250ms/step
Epoch 21/50
59/59 - 15s - loss: 1.0413 - accuracy: 0.5973 - val_loss: 1.1793 - val_accuracy: 0.5003 - lr: 0.0010 - 15s/epoch - 258ms/step
Epoch 22/50
59/59 - 15s - loss: 1.0384 - accuracy: 0.5975 - val_loss: 1.1874 - val_accuracy: 0.4953 - lr: 0.0010 - 15s/epoch - 255ms/step
Epoch 23/50
59/59 - 15s - loss: 1.0397 - accuracy: 0.5985 - val_loss: 1.1722 - val_accuracy: 0.5036 - lr: 0.0010 - 15s/epoch - 246ms/step
Epoch 24/50
59/59 - 14s - loss: 1.0403 - accuracy: 0.5972 - val_loss: 1.1713 - val_accuracy: 0.5039 - lr: 0.0010 - 14s/epoch - 242ms/step
Epoch 25/50
59/59 - 15s - loss: 1.0382 - accuracy: 0.5973 - val_loss: 1.1716 - val_accuracy: 0.5044 - lr: 0.0010 - 15s/epoch - 253ms/step
Epoch 26/50
59/59 - 15s - loss: 1.0333 - accuracy: 0.6022 - val_loss: 1.1846 - val_accuracy: 0.4999 - lr: 0.0010 - 15s/epoch - 260ms/step
Epoch 27/50
59/59 - 14s - loss: 1.0356 - accuracy: 0.6008 - val_loss: 1.1619 - val_accuracy: 0.5097 - lr: 0.0010 - 14s/epoch - 236ms/step
Epoch 28/50
59/59 - 14s - loss: 1.0343 - accuracy: 0.5992 - val_loss: 1.1851 - val_accuracy: 0.4967 - lr: 0.0010 - 14s/epoch - 236ms/step
Epoch 29/50
59/59 - 13s - loss: 1.0349 - accuracy: 0.5993 - val_loss: 1.1741 - val_accuracy: 0.5003 - lr: 0.0010 - 13s/epoch - 227ms/step
Epoch 30/50
59/59 - 14s - loss: 1.0332 - accuracy: 0.6005 - val_loss: 1.1512 - val_accuracy: 0.5140 - lr: 0.0010 - 14s/epoch - 233ms/step
Epoch 31/50
59/59 - 14s - loss: 1.0322 - accuracy: 0.6013 - val_loss: 1.1764 - val_accuracy: 0.5013 - lr: 0.0010 - 14s/epoch - 244ms/step
Epoch 32/50
59/59 - 15s - loss: 1.0327 - accuracy: 0.6024 - val_loss: 1.1617 - val_accuracy: 0.5036 - lr: 0.0010 - 15s/epoch - 247ms/step
Epoch 33/50
59/59 - 15s - loss: 1.0304 - accuracy: 0.6025 - val_loss: 1.1736 - val_accuracy: 0.4985 - lr: 0.0010 - 15s/epoch - 251ms/step
Epoch 34/50
59/59 - 15s - loss: 1.0305 - accuracy: 0.6032 - val_loss: 1.1616 - val_accuracy: 0.5053 - lr: 0.0010 - 15s/epoch - 246ms/step
Epoch 35/50
59/59 - 16s - loss: 1.0264 - accuracy: 0.6034 - val_loss: 1.1550 - val_accuracy: 0.5142 - lr: 0.0010 - 16s/epoch - 264ms/step
Epoch 36/50
59/59 - 15s - loss: 1.0272 - accuracy: 0.6041 - val_loss: 1.1593 - val_accuracy: 0.5063 - lr: 0.0010 - 15s/epoch - 257ms/step
Epoch 37/50
59/59 - 15s - loss: 1.0275 - accuracy: 0.6032 - val_loss: 1.1548 - val_accuracy: 0.5068 - lr: 0.0010 - 15s/epoch - 246ms/step
Epoch 38/50
59/59 - 15s - loss: 1.0261 - accuracy: 0.6049 - val_loss: 1.1658 - val_accuracy: 0.5016 - lr: 0.0010 - 15s/epoch - 247ms/step
Epoch 39/50
59/59 - 15s - loss: 1.0259 - accuracy: 0.6038 - val_loss: 1.1611 - val_accuracy: 0.5057 - lr: 0.0010 - 15s/epoch - 255ms/step
Epoch 40/50
59/59 - 15s - loss: 1.0267 - accuracy: 0.6040 - val_loss: 1.1429 - val_accuracy: 0.5144 - lr: 0.0010 - 15s/epoch - 258ms/step
Epoch 41/50
59/59 - 13s - loss: 1.0236 - accuracy: 0.6061 - val_loss: 1.1537 - val_accuracy: 0.5066 - lr: 0.0010 - 13s/epoch - 219ms/step
Epoch 42/50
59/59 - 9s - loss: 1.0246 - accuracy: 0.6032 - val_loss: 1.1581 - val_accuracy: 0.5080 - lr: 0.0010 - 9s/epoch - 156ms/step
Epoch 43/50
59/59 - 9s - loss: 1.0244 - accuracy: 0.6049 - val_loss: 1.1531 - val_accuracy: 0.5082 - lr: 0.0010 - 9s/epoch - 154ms/step
Epoch 44/50
59/59 - 9s - loss: 1.0214 - accuracy: 0.6061 - val_loss: 1.1505 - val_accuracy: 0.5064 - lr: 0.0010 - 9s/epoch - 157ms/step
Epoch 45/50
59/59 - 14s - loss: 1.0236 - accuracy: 0.6050 - val_loss: 1.1635 - val_accuracy: 0.5017 - lr: 0.0010 - 14s/epoch - 230ms/step
Epoch 46/50
59/59 - 14s - loss: 1.0211 - accuracy: 0.6050 - val_loss: 1.1680 - val_accuracy: 0.4992 - lr: 0.0010 - 14s/epoch - 244ms/step
Epoch 47/50
59/59 - 15s - loss: 1.0181 - accuracy: 0.6082 - val_loss: 1.1479 - val_accuracy: 0.5074 - lr: 0.0010 - 15s/epoch - 251ms/step
Epoch 48/50
59/59 - 14s - loss: 1.0211 - accuracy: 0.6061 - val_loss: 1.1492 - val_accuracy: 0.5093 - lr: 0.0010 - 14s/epoch - 245ms/step
Epoch 49/50
59/59 - 13s - loss: 1.0193 - accuracy: 0.6081 - val_loss: 1.1594 - val_accuracy: 0.5027 - lr: 0.0010 - 13s/epoch - 227ms/step
Epoch 50/50
59/59 - 14s - loss: 1.0177 - accuracy: 0.6079 - val_loss: 1.1339 - val_accuracy: 0.5161 - lr: 0.0010 - 14s/epoch - 239ms/step
fitting with batch size: 2500
Epoch 1/50
36/36 - 15s - loss: 1.0189 - accuracy: 0.6080 - val_loss: 1.1384 - val_accuracy: 0.5126 - lr: 0.0010 - 15s/epoch - 424ms/step
Epoch 2/50
36/36 - 12s - loss: 1.0184 - accuracy: 0.6077 - val_loss: 1.1238 - val_accuracy: 0.5238 - lr: 0.0010 - 12s/epoch - 337ms/step
Epoch 3/50
36/36 - 13s - loss: 1.0185 - accuracy: 0.6083 - val_loss: 1.1076 - val_accuracy: 0.5256 - lr: 0.0010 - 13s/epoch - 372ms/step
Epoch 4/50
36/36 - 15s - loss: 1.0175 - accuracy: 0.6066 - val_loss: 1.1294 - val_accuracy: 0.5148 - lr: 0.0010 - 15s/epoch - 420ms/step
Epoch 5/50
36/36 - 15s - loss: 1.0183 - accuracy: 0.6074 - val_loss: 1.1835 - val_accuracy: 0.4897 - lr: 0.0010 - 15s/epoch - 407ms/step
Epoch 6/50
36/36 - 13s - loss: 1.0162 - accuracy: 0.6090 - val_loss: 1.1865 - val_accuracy: 0.4881 - lr: 0.0010 - 13s/epoch - 363ms/step
Epoch 7/50
36/36 - 13s - loss: 1.0145 - accuracy: 0.6082 - val_loss: 1.1251 - val_accuracy: 0.5241 - lr: 0.0010 - 13s/epoch - 356ms/step
Epoch 8/50
36/36 - 13s - loss: 1.0155 - accuracy: 0.6094 - val_loss: 1.1398 - val_accuracy: 0.5152 - lr: 0.0010 - 13s/epoch - 349ms/step
Epoch 9/50
36/36 - 13s - loss: 1.0146 - accuracy: 0.6088 - val_loss: 1.1713 - val_accuracy: 0.4952 - lr: 0.0010 - 13s/epoch - 348ms/step
Epoch 10/50
36/36 - 12s - loss: 1.0121 - accuracy: 0.6081 - val_loss: 1.1149 - val_accuracy: 0.5260 - lr: 0.0010 - 12s/epoch - 346ms/step
Epoch 11/50
36/36 - 13s - loss: 1.0144 - accuracy: 0.6083 - val_loss: 1.1228 - val_accuracy: 0.5243 - lr: 0.0010 - 13s/epoch - 349ms/step
Epoch 12/50
36/36 - 12s - loss: 1.0123 - accuracy: 0.6095 - val_loss: 1.1486 - val_accuracy: 0.5104 - lr: 0.0010 - 12s/epoch - 346ms/step
Epoch 13/50
36/36 - 13s - loss: 1.0145 - accuracy: 0.6100 - val_loss: 1.1420 - val_accuracy: 0.5222 - lr: 0.0010 - 13s/epoch - 353ms/step
Epoch 14/50
36/36 - 13s - loss: 1.0158 - accuracy: 0.6071 - val_loss: 1.1306 - val_accuracy: 0.5141 - lr: 0.0010 - 13s/epoch - 350ms/step
Epoch 15/50
36/36 - 12s - loss: 1.0152 - accuracy: 0.6092 - val_loss: 1.1596 - val_accuracy: 0.4955 - lr: 0.0010 - 12s/epoch - 345ms/step
Epoch 16/50
36/36 - 13s - loss: 1.0134 - accuracy: 0.6098 - val_loss: 1.1561 - val_accuracy: 0.4988 - lr: 0.0010 - 13s/epoch - 365ms/step
Epoch 17/50
36/36 - 14s - loss: 1.0114 - accuracy: 0.6095 - val_loss: 1.1624 - val_accuracy: 0.4961 - lr: 0.0010 - 14s/epoch - 399ms/step
Epoch 18/50
36/36 - 15s - loss: 1.0114 - accuracy: 0.6106 - val_loss: 1.0984 - val_accuracy: 0.5383 - lr: 0.0010 - 15s/epoch - 407ms/step
Epoch 19/50
36/36 - 15s - loss: 1.0117 - accuracy: 0.6095 - val_loss: 1.1168 - val_accuracy: 0.5206 - lr: 0.0010 - 15s/epoch - 429ms/step
Epoch 20/50
36/36 - 15s - loss: 1.0103 - accuracy: 0.6109 - val_loss: 1.1426 - val_accuracy: 0.5124 - lr: 0.0010 - 15s/epoch - 424ms/step
Epoch 21/50
36/36 - 15s - loss: 1.0124 - accuracy: 0.6101 - val_loss: 1.1241 - val_accuracy: 0.5108 - lr: 0.0010 - 15s/epoch - 424ms/step
Epoch 22/50
36/36 - 13s - loss: 1.0099 - accuracy: 0.6104 - val_loss: 1.1262 - val_accuracy: 0.5183 - lr: 0.0010 - 13s/epoch - 361ms/step
Epoch 23/50
36/36 - 13s - loss: 1.0102 - accuracy: 0.6108 - val_loss: 1.1767 - val_accuracy: 0.4971 - lr: 0.0010 - 13s/epoch - 360ms/step
Epoch 24/50
36/36 - 13s - loss: 1.0107 - accuracy: 0.6102 - val_loss: 1.1194 - val_accuracy: 0.5206 - lr: 0.0010 - 13s/epoch - 358ms/step
Epoch 25/50
36/36 - 14s - loss: 1.0089 - accuracy: 0.6111 - val_loss: 1.1517 - val_accuracy: 0.5069 - lr: 0.0010 - 14s/epoch - 380ms/step
Epoch 26/50
36/36 - 13s - loss: 1.0077 - accuracy: 0.6118 - val_loss: 1.1183 - val_accuracy: 0.5270 - lr: 0.0010 - 13s/epoch - 369ms/step
Epoch 27/50
36/36 - 13s - loss: 1.0081 - accuracy: 0.6116 - val_loss: 1.1459 - val_accuracy: 0.5074 - lr: 0.0010 - 13s/epoch - 361ms/step
Epoch 28/50
36/36 - 15s - loss: 1.0070 - accuracy: 0.6127 - val_loss: 1.1482 - val_accuracy: 0.5057 - lr: 0.0010 - 15s/epoch - 421ms/step
Epoch 29/50
36/36 - 17s - loss: 1.0070 - accuracy: 0.6125 - val_loss: 1.1743 - val_accuracy: 0.4931 - lr: 0.0010 - 17s/epoch - 479ms/step
Epoch 30/50
36/36 - 13s - loss: 1.0064 - accuracy: 0.6111 - val_loss: 1.1416 - val_accuracy: 0.5058 - lr: 0.0010 - 13s/epoch - 369ms/step
Epoch 31/50
36/36 - 14s - loss: 1.0058 - accuracy: 0.6118 - val_loss: 1.1551 - val_accuracy: 0.5071 - lr: 0.0010 - 14s/epoch - 388ms/step
Epoch 32/50
36/36 - 14s - loss: 1.0052 - accuracy: 0.6118 - val_loss: 1.1390 - val_accuracy: 0.4989 - lr: 0.0010 - 14s/epoch - 378ms/step
Epoch 33/50
36/36 - 13s - loss: 1.0042 - accuracy: 0.6114 - val_loss: 1.1202 - val_accuracy: 0.5189 - lr: 0.0010 - 13s/epoch - 360ms/step
Epoch 34/50
36/36 - 14s - loss: 1.0057 - accuracy: 0.6115 - val_loss: 1.1136 - val_accuracy: 0.5224 - lr: 0.0010 - 14s/epoch - 394ms/step
Epoch 35/50
36/36 - 14s - loss: 1.0075 - accuracy: 0.6105 - val_loss: 1.1229 - val_accuracy: 0.5244 - lr: 0.0010 - 14s/epoch - 400ms/step
Epoch 36/50
36/36 - 15s - loss: 1.0048 - accuracy: 0.6115 - val_loss: 1.1444 - val_accuracy: 0.5057 - lr: 0.0010 - 15s/epoch - 403ms/step
Epoch 37/50
36/36 - 15s - loss: 1.0031 - accuracy: 0.6116 - val_loss: 1.1280 - val_accuracy: 0.5199 - lr: 0.0010 - 15s/epoch - 410ms/step
Epoch 38/50
36/36 - 15s - loss: 1.0036 - accuracy: 0.6132 - val_loss: 1.1270 - val_accuracy: 0.5092 - lr: 0.0010 - 15s/epoch - 411ms/step
Epoch 39/50
36/36 - 14s - loss: 1.0038 - accuracy: 0.6145 - val_loss: 1.1281 - val_accuracy: 0.5139 - lr: 0.0010 - 14s/epoch - 393ms/step
Epoch 40/50
36/36 - 13s - loss: 1.0040 - accuracy: 0.6141 - val_loss: 1.0932 - val_accuracy: 0.5288 - lr: 0.0010 - 13s/epoch - 360ms/step
Epoch 41/50
36/36 - 13s - loss: 1.0026 - accuracy: 0.6136 - val_loss: 1.1121 - val_accuracy: 0.5232 - lr: 0.0010 - 13s/epoch - 365ms/step
Epoch 42/50
36/36 - 12s - loss: 1.0022 - accuracy: 0.6147 - val_loss: 1.1249 - val_accuracy: 0.5117 - lr: 0.0010 - 12s/epoch - 332ms/step
Epoch 43/50
36/36 - 13s - loss: 1.0028 - accuracy: 0.6149 - val_loss: 1.0865 - val_accuracy: 0.5322 - lr: 0.0010 - 13s/epoch - 360ms/step
Epoch 44/50
36/36 - 13s - loss: 1.0029 - accuracy: 0.6136 - val_loss: 1.1187 - val_accuracy: 0.5202 - lr: 0.0010 - 13s/epoch - 354ms/step
Epoch 45/50
36/36 - 12s - loss: 1.0023 - accuracy: 0.6142 - val_loss: 1.1295 - val_accuracy: 0.5058 - lr: 0.0010 - 12s/epoch - 338ms/step
Epoch 46/50
36/36 - 13s - loss: 1.0029 - accuracy: 0.6132 - val_loss: 1.1153 - val_accuracy: 0.5216 - lr: 0.0010 - 13s/epoch - 374ms/step
Epoch 47/50
36/36 - 14s - loss: 1.0022 - accuracy: 0.6121 - val_loss: 1.0919 - val_accuracy: 0.5324 - lr: 0.0010 - 14s/epoch - 400ms/step
Epoch 48/50
36/36 - 14s - loss: 1.0023 - accuracy: 0.6149 - val_loss: 1.1376 - val_accuracy: 0.5062 - lr: 0.0010 - 14s/epoch - 401ms/step
Epoch 49/50
36/36 - 13s - loss: 1.0005 - accuracy: 0.6151 - val_loss: 1.1003 - val_accuracy: 0.5267 - lr: 0.0010 - 13s/epoch - 356ms/step
Epoch 50/50
36/36 - 15s - loss: 0.9985 - accuracy: 0.6165 - val_loss: 1.0794 - val_accuracy: 0.5369 - lr: 0.0010 - 15s/epoch - 411ms/step
Loss: poisson
Epoch number: 25
fitting with batch size: 1500
Epoch 1/25
59/59 - 20s - loss: 0.3999 - accuracy: 0.6155 - val_loss: 0.4227 - val_accuracy: 0.5195 - lr: 0.0010 - 20s/epoch - 336ms/step
Epoch 2/25
59/59 - 15s - loss: 0.4003 - accuracy: 0.6148 - val_loss: 0.4232 - val_accuracy: 0.5182 - lr: 0.0010 - 15s/epoch - 261ms/step
Epoch 3/25
59/59 - 16s - loss: 0.3996 - accuracy: 0.6149 - val_loss: 0.4237 - val_accuracy: 0.5167 - lr: 0.0010 - 16s/epoch - 266ms/step
Epoch 4/25
59/59 - 14s - loss: 0.3996 - accuracy: 0.6155 - val_loss: 0.4235 - val_accuracy: 0.5165 - lr: 0.0010 - 14s/epoch - 245ms/step
Epoch 5/25
59/59 - 15s - loss: 0.3997 - accuracy: 0.6163 - val_loss: 0.4228 - val_accuracy: 0.5177 - lr: 0.0010 - 15s/epoch - 248ms/step
Epoch 6/25
59/59 - 15s - loss: 0.3997 - accuracy: 0.6153 - val_loss: 0.4230 - val_accuracy: 0.5174 - lr: 0.0010 - 15s/epoch - 258ms/step
Epoch 7/25
59/59 - 16s - loss: 0.3996 - accuracy: 0.6163 - val_loss: 0.4232 - val_accuracy: 0.5170 - lr: 0.0010 - 16s/epoch - 269ms/step
Epoch 8/25
59/59 - 16s - loss: 0.3999 - accuracy: 0.6156 - val_loss: 0.4238 - val_accuracy: 0.5156 - lr: 0.0010 - 16s/epoch - 273ms/step
Epoch 9/25
59/59 - 16s - loss: 0.3995 - accuracy: 0.6164 - val_loss: 0.4227 - val_accuracy: 0.5181 - lr: 0.0010 - 16s/epoch - 271ms/step
Epoch 10/25
59/59 - 16s - loss: 0.3996 - accuracy: 0.6165 - val_loss: 0.4231 - val_accuracy: 0.5167 - lr: 0.0010 - 16s/epoch - 267ms/step
Epoch 11/25
59/59 - 15s - loss: 0.3998 - accuracy: 0.6142 - val_loss: 0.4238 - val_accuracy: 0.5154 - lr: 0.0010 - 15s/epoch - 250ms/step
Epoch 12/25
59/59 - 15s - loss: 0.3999 - accuracy: 0.6157 - val_loss: 0.4227 - val_accuracy: 0.5181 - lr: 0.0010 - 15s/epoch - 258ms/step
Epoch 13/25
59/59 - 16s - loss: 0.4000 - accuracy: 0.6160 - val_loss: 0.4230 - val_accuracy: 0.5179 - lr: 0.0010 - 16s/epoch - 266ms/step
Epoch 14/25
59/59 - 16s - loss: 0.3995 - accuracy: 0.6158 - val_loss: 0.4226 - val_accuracy: 0.5179 - lr: 0.0010 - 16s/epoch - 268ms/step
Epoch 15/25
59/59 - 15s - loss: 0.4000 - accuracy: 0.6151 - val_loss: 0.4240 - val_accuracy: 0.5154 - lr: 0.0010 - 15s/epoch - 251ms/step
Epoch 16/25
59/59 - 15s - loss: 0.3995 - accuracy: 0.6189 - val_loss: 0.4227 - val_accuracy: 0.5182 - lr: 0.0010 - 15s/epoch - 256ms/step
Epoch 17/25
59/59 - 16s - loss: 0.3994 - accuracy: 0.6164 - val_loss: 0.4228 - val_accuracy: 0.5175 - lr: 0.0010 - 16s/epoch - 271ms/step
Epoch 18/25
59/59 - 16s - loss: 0.3993 - accuracy: 0.6166 - val_loss: 0.4226 - val_accuracy: 0.5184 - lr: 0.0010 - 16s/epoch - 271ms/step
Epoch 19/25
59/59 - 16s - loss: 0.3994 - accuracy: 0.6160 - val_loss: 0.4229 - val_accuracy: 0.5177 - lr: 0.0010 - 16s/epoch - 275ms/step
Epoch 20/25
59/59 - 15s - loss: 0.3991 - accuracy: 0.6173 - val_loss: 0.4221 - val_accuracy: 0.5201 - lr: 0.0010 - 15s/epoch - 253ms/step
Epoch 21/25
59/59 - 15s - loss: 0.4000 - accuracy: 0.6149 - val_loss: 0.4229 - val_accuracy: 0.5176 - lr: 0.0010 - 15s/epoch - 255ms/step
Epoch 22/25
59/59 - 15s - loss: 0.3990 - accuracy: 0.6172 - val_loss: 0.4230 - val_accuracy: 0.5170 - lr: 0.0010 - 15s/epoch - 254ms/step
Epoch 23/25
59/59 - 15s - loss: 0.3992 - accuracy: 0.6180 - val_loss: 0.4221 - val_accuracy: 0.5194 - lr: 0.0010 - 15s/epoch - 255ms/step
Epoch 24/25
59/59 - 15s - loss: 0.3996 - accuracy: 0.6171 - val_loss: 0.4222 - val_accuracy: 0.5196 - lr: 0.0010 - 15s/epoch - 253ms/step
Epoch 25/25
59/59 - 15s - loss: 0.4000 - accuracy: 0.6134 - val_loss: 0.4231 - val_accuracy: 0.5170 - lr: 0.0010 - 15s/epoch - 259ms/step
fitting with batch size: 2500
Epoch 1/25
36/36 - 17s - loss: 0.3996 - accuracy: 0.6163 - val_loss: 0.4234 - val_accuracy: 0.5152 - lr: 0.0010 - 17s/epoch - 469ms/step
Epoch 2/25
36/36 - 14s - loss: 0.3994 - accuracy: 0.6155 - val_loss: 0.4220 - val_accuracy: 0.5201 - lr: 0.0010 - 14s/epoch - 395ms/step
Epoch 3/25
36/36 - 15s - loss: 0.3997 - accuracy: 0.6164 - val_loss: 0.4230 - val_accuracy: 0.5168 - lr: 0.0010 - 15s/epoch - 411ms/step
Epoch 4/25
36/36 - 15s - loss: 0.3994 - accuracy: 0.6172 - val_loss: 0.4220 - val_accuracy: 0.5195 - lr: 0.0010 - 15s/epoch - 409ms/step
Epoch 5/25
36/36 - 15s - loss: 0.3996 - accuracy: 0.6155 - val_loss: 0.4226 - val_accuracy: 0.5178 - lr: 0.0010 - 15s/epoch - 407ms/step
Epoch 6/25
36/36 - 13s - loss: 0.3993 - accuracy: 0.6157 - val_loss: 0.4240 - val_accuracy: 0.5152 - lr: 0.0010 - 13s/epoch - 366ms/step
Epoch 7/25
36/36 - 9s - loss: 0.3993 - accuracy: 0.6171 - val_loss: 0.4247 - val_accuracy: 0.5138 - lr: 0.0010 - 9s/epoch - 255ms/step
Epoch 8/25
36/36 - 13s - loss: 0.3994 - accuracy: 0.6162 - val_loss: 0.4240 - val_accuracy: 0.5146 - lr: 0.0010 - 13s/epoch - 355ms/step
Epoch 9/25
36/36 - 13s - loss: 0.3992 - accuracy: 0.6161 - val_loss: 0.4230 - val_accuracy: 0.5166 - lr: 0.0010 - 13s/epoch - 356ms/step
Epoch 10/25
36/36 - 12s - loss: 0.3994 - accuracy: 0.6173 - val_loss: 0.4236 - val_accuracy: 0.5159 - lr: 0.0010 - 12s/epoch - 343ms/step
Epoch 11/25
36/36 - 12s - loss: 0.3994 - accuracy: 0.6152 - val_loss: 0.4221 - val_accuracy: 0.5184 - lr: 0.0010 - 12s/epoch - 336ms/step
Epoch 12/25
36/36 - 13s - loss: 0.3992 - accuracy: 0.6159 - val_loss: 0.4230 - val_accuracy: 0.5162 - lr: 0.0010 - 13s/epoch - 348ms/step
Epoch 13/25
36/36 - 14s - loss: 0.3989 - accuracy: 0.6170 - val_loss: 0.4221 - val_accuracy: 0.5186 - lr: 0.0010 - 14s/epoch - 389ms/step
Epoch 14/25
36/36 - 16s - loss: 0.3991 - accuracy: 0.6171 - val_loss: 0.4221 - val_accuracy: 0.5185 - lr: 0.0010 - 16s/epoch - 446ms/step
Epoch 15/25
36/36 - 17s - loss: 0.3991 - accuracy: 0.6176 - val_loss: 0.4219 - val_accuracy: 0.5177 - lr: 0.0010 - 17s/epoch - 481ms/step
Epoch 16/25
36/36 - 17s - loss: 0.3991 - accuracy: 0.6171 - val_loss: 0.4221 - val_accuracy: 0.5180 - lr: 0.0010 - 17s/epoch - 472ms/step
Epoch 17/25
36/36 - 15s - loss: 0.3990 - accuracy: 0.6155 - val_loss: 0.4228 - val_accuracy: 0.5171 - lr: 0.0010 - 15s/epoch - 423ms/step
Epoch 18/25
36/36 - 15s - loss: 0.3988 - accuracy: 0.6168 - val_loss: 0.4213 - val_accuracy: 0.5192 - lr: 0.0010 - 15s/epoch - 414ms/step
Epoch 19/25
36/36 - 16s - loss: 0.3991 - accuracy: 0.6166 - val_loss: 0.4226 - val_accuracy: 0.5171 - lr: 0.0010 - 16s/epoch - 439ms/step
Epoch 20/25
36/36 - 16s - loss: 0.3995 - accuracy: 0.6168 - val_loss: 0.4232 - val_accuracy: 0.5159 - lr: 0.0010 - 16s/epoch - 447ms/step
Epoch 21/25
36/36 - 14s - loss: 0.3989 - accuracy: 0.6179 - val_loss: 0.4228 - val_accuracy: 0.5173 - lr: 0.0010 - 14s/epoch - 383ms/step
Epoch 22/25
36/36 - 12s - loss: 0.3994 - accuracy: 0.6180 - val_loss: 0.4213 - val_accuracy: 0.5205 - lr: 0.0010 - 12s/epoch - 341ms/step
Epoch 23/25
36/36 - 12s - loss: 0.3995 - accuracy: 0.6153 - val_loss: 0.4231 - val_accuracy: 0.5151 - lr: 0.0010 - 12s/epoch - 332ms/step
Epoch 24/25
36/36 - 12s - loss: 0.3988 - accuracy: 0.6185 - val_loss: 0.4230 - val_accuracy: 0.5144 - lr: 0.0010 - 12s/epoch - 338ms/step
Epoch 25/25
36/36 - 13s - loss: 0.3992 - accuracy: 0.6174 - val_loss: 0.4217 - val_accuracy: 0.5184 - lr: 0.0010 - 13s/epoch - 366ms/step
Epoch number: 50
fitting with batch size: 1500
Epoch 1/50
59/59 - 18s - loss: 0.3995 - accuracy: 0.6163 - val_loss: 0.4223 - val_accuracy: 0.5180 - lr: 0.0010 - 18s/epoch - 306ms/step
Epoch 2/50
59/59 - 15s - loss: 0.3992 - accuracy: 0.6159 - val_loss: 0.4219 - val_accuracy: 0.5186 - lr: 0.0010 - 15s/epoch - 246ms/step
Epoch 3/50
59/59 - 14s - loss: 0.3988 - accuracy: 0.6163 - val_loss: 0.4219 - val_accuracy: 0.5181 - lr: 0.0010 - 14s/epoch - 236ms/step
Epoch 4/50
59/59 - 14s - loss: 0.3996 - accuracy: 0.6161 - val_loss: 0.4212 - val_accuracy: 0.5199 - lr: 0.0010 - 14s/epoch - 239ms/step
Epoch 5/50
59/59 - 14s - loss: 0.3990 - accuracy: 0.6162 - val_loss: 0.4215 - val_accuracy: 0.5197 - lr: 0.0010 - 14s/epoch - 238ms/step
Epoch 6/50
59/59 - 15s - loss: 0.3987 - accuracy: 0.6172 - val_loss: 0.4214 - val_accuracy: 0.5192 - lr: 0.0010 - 15s/epoch - 250ms/step
Epoch 7/50
59/59 - 14s - loss: 0.3989 - accuracy: 0.6171 - val_loss: 0.4221 - val_accuracy: 0.5172 - lr: 0.0010 - 14s/epoch - 242ms/step
Epoch 8/50
59/59 - 14s - loss: 0.3991 - accuracy: 0.6163 - val_loss: 0.4224 - val_accuracy: 0.5184 - lr: 0.0010 - 14s/epoch - 231ms/step
Epoch 9/50
59/59 - 14s - loss: 0.3989 - accuracy: 0.6150 - val_loss: 0.4226 - val_accuracy: 0.5174 - lr: 0.0010 - 14s/epoch - 235ms/step
Epoch 10/50
59/59 - 15s - loss: 0.3987 - accuracy: 0.6187 - val_loss: 0.4220 - val_accuracy: 0.5185 - lr: 0.0010 - 15s/epoch - 251ms/step
Epoch 11/50
59/59 - 15s - loss: 0.3986 - accuracy: 0.6172 - val_loss: 0.4208 - val_accuracy: 0.5206 - lr: 0.0010 - 15s/epoch - 260ms/step
Epoch 12/50
59/59 - 14s - loss: 0.3987 - accuracy: 0.6173 - val_loss: 0.4224 - val_accuracy: 0.5173 - lr: 0.0010 - 14s/epoch - 236ms/step
Epoch 13/50
59/59 - 14s - loss: 0.3989 - accuracy: 0.6182 - val_loss: 0.4219 - val_accuracy: 0.5180 - lr: 0.0010 - 14s/epoch - 235ms/step
Epoch 14/50
59/59 - 15s - loss: 0.3992 - accuracy: 0.6165 - val_loss: 0.4220 - val_accuracy: 0.5179 - lr: 0.0010 - 15s/epoch - 249ms/step
Epoch 15/50
59/59 - 15s - loss: 0.3983 - accuracy: 0.6186 - val_loss: 0.4213 - val_accuracy: 0.5189 - lr: 0.0010 - 15s/epoch - 248ms/step
Epoch 16/50
59/59 - 14s - loss: 0.3988 - accuracy: 0.6182 - val_loss: 0.4212 - val_accuracy: 0.5201 - lr: 0.0010 - 14s/epoch - 230ms/step
Epoch 17/50
59/59 - 14s - loss: 0.3987 - accuracy: 0.6180 - val_loss: 0.4214 - val_accuracy: 0.5190 - lr: 0.0010 - 14s/epoch - 240ms/step
Epoch 18/50
59/59 - 14s - loss: 0.3987 - accuracy: 0.6174 - val_loss: 0.4220 - val_accuracy: 0.5183 - lr: 0.0010 - 14s/epoch - 234ms/step
Epoch 19/50
59/59 - 14s - loss: 0.3986 - accuracy: 0.6169 - val_loss: 0.4217 - val_accuracy: 0.5186 - lr: 0.0010 - 14s/epoch - 235ms/step
Epoch 20/50
59/59 - 14s - loss: 0.3987 - accuracy: 0.6175 - val_loss: 0.4214 - val_accuracy: 0.5195 - lr: 0.0010 - 14s/epoch - 246ms/step
Epoch 21/50
59/59 - 14s - loss: 0.3990 - accuracy: 0.6180 - val_loss: 0.4211 - val_accuracy: 0.5201 - lr: 0.0010 - 14s/epoch - 232ms/step
Epoch 22/50
59/59 - 14s - loss: 0.3988 - accuracy: 0.6169 - val_loss: 0.4218 - val_accuracy: 0.5185 - lr: 0.0010 - 14s/epoch - 229ms/step
Epoch 23/50
59/59 - 15s - loss: 0.3985 - accuracy: 0.6179 - val_loss: 0.4219 - val_accuracy: 0.5181 - lr: 0.0010 - 15s/epoch - 248ms/step
Epoch 24/50
59/59 - 15s - loss: 0.3981 - accuracy: 0.6197 - val_loss: 0.4214 - val_accuracy: 0.5194 - lr: 0.0010 - 15s/epoch - 252ms/step
Epoch 25/50
59/59 - 14s - loss: 0.3985 - accuracy: 0.6179 - val_loss: 0.4210 - val_accuracy: 0.5205 - lr: 0.0010 - 14s/epoch - 237ms/step
Epoch 26/50
59/59 - 14s - loss: 0.3985 - accuracy: 0.6190 - val_loss: 0.4213 - val_accuracy: 0.5198 - lr: 0.0010 - 14s/epoch - 239ms/step
Epoch 27/50
59/59 - 11s - loss: 0.3988 - accuracy: 0.6164 - val_loss: 0.4207 - val_accuracy: 0.5206 - lr: 0.0010 - 11s/epoch - 191ms/step
Epoch 28/50
59/59 - 13s - loss: 0.3984 - accuracy: 0.6181 - val_loss: 0.4210 - val_accuracy: 0.5201 - lr: 0.0010 - 13s/epoch - 228ms/step
Epoch 29/50
59/59 - 14s - loss: 0.3985 - accuracy: 0.6181 - val_loss: 0.4199 - val_accuracy: 0.5228 - lr: 0.0010 - 14s/epoch - 238ms/step
Epoch 30/50
59/59 - 13s - loss: 0.3987 - accuracy: 0.6175 - val_loss: 0.4206 - val_accuracy: 0.5211 - lr: 0.0010 - 13s/epoch - 224ms/step
Epoch 31/50
59/59 - 12s - loss: 0.3984 - accuracy: 0.6173 - val_loss: 0.4216 - val_accuracy: 0.5180 - lr: 0.0010 - 12s/epoch - 207ms/step
Epoch 32/50
59/59 - 13s - loss: 0.3986 - accuracy: 0.6179 - val_loss: 0.4203 - val_accuracy: 0.5215 - lr: 0.0010 - 13s/epoch - 223ms/step
Epoch 33/50
59/59 - 13s - loss: 0.3985 - accuracy: 0.6181 - val_loss: 0.4214 - val_accuracy: 0.5191 - lr: 0.0010 - 13s/epoch - 226ms/step
Epoch 34/50
59/59 - 14s - loss: 0.3984 - accuracy: 0.6163 - val_loss: 0.4206 - val_accuracy: 0.5208 - lr: 0.0010 - 14s/epoch - 241ms/step
Epoch 35/50
59/59 - 14s - loss: 0.3984 - accuracy: 0.6171 - val_loss: 0.4208 - val_accuracy: 0.5202 - lr: 0.0010 - 14s/epoch - 240ms/step
Epoch 36/50
59/59 - 17s - loss: 0.3982 - accuracy: 0.6182 - val_loss: 0.4211 - val_accuracy: 0.5187 - lr: 0.0010 - 17s/epoch - 284ms/step
Epoch 37/50
59/59 - 17s - loss: 0.3984 - accuracy: 0.6178 - val_loss: 0.4213 - val_accuracy: 0.5181 - lr: 0.0010 - 17s/epoch - 281ms/step
Epoch 38/50
59/59 - 15s - loss: 0.3987 - accuracy: 0.6173 - val_loss: 0.4209 - val_accuracy: 0.5205 - lr: 0.0010 - 15s/epoch - 258ms/step
Epoch 39/50
59/59 - 17s - loss: 0.3986 - accuracy: 0.6171 - val_loss: 0.4209 - val_accuracy: 0.5189 - lr: 0.0010 - 17s/epoch - 285ms/step
Epoch 40/50
59/59 - 16s - loss: 0.3979 - accuracy: 0.6199 - val_loss: 0.4210 - val_accuracy: 0.5187 - lr: 0.0010 - 16s/epoch - 277ms/step
Epoch 41/50
59/59 - 16s - loss: 0.3986 - accuracy: 0.6184 - val_loss: 0.4207 - val_accuracy: 0.5202 - lr: 0.0010 - 16s/epoch - 272ms/step
Epoch 42/50
59/59 - 14s - loss: 0.3982 - accuracy: 0.6177 - val_loss: 0.4202 - val_accuracy: 0.5211 - lr: 0.0010 - 14s/epoch - 241ms/step
Epoch 43/50
59/59 - 14s - loss: 0.3980 - accuracy: 0.6192 - val_loss: 0.4205 - val_accuracy: 0.5207 - lr: 0.0010 - 14s/epoch - 235ms/step
Epoch 44/50
59/59 - 14s - loss: 0.3983 - accuracy: 0.6179 - val_loss: 0.4203 - val_accuracy: 0.5206 - lr: 0.0010 - 14s/epoch - 230ms/step
Epoch 45/50
59/59 - 13s - loss: 0.3983 - accuracy: 0.6179 - val_loss: 0.4204 - val_accuracy: 0.5211 - lr: 0.0010 - 13s/epoch - 212ms/step
Epoch 46/50
59/59 - 15s - loss: 0.3981 - accuracy: 0.6194 - val_loss: 0.4214 - val_accuracy: 0.5191 - lr: 0.0010 - 15s/epoch - 247ms/step
Epoch 47/50
59/59 - 14s - loss: 0.3976 - accuracy: 0.6208 - val_loss: 0.4202 - val_accuracy: 0.5210 - lr: 0.0010 - 14s/epoch - 233ms/step
Epoch 48/50
59/59 - 14s - loss: 0.3982 - accuracy: 0.6190 - val_loss: 0.4200 - val_accuracy: 0.5217 - lr: 0.0010 - 14s/epoch - 233ms/step
Epoch 49/50
59/59 - 11s - loss: 0.3983 - accuracy: 0.6188 - val_loss: 0.4196 - val_accuracy: 0.5223 - lr: 0.0010 - 11s/epoch - 181ms/step
Epoch 50/50
59/59 - 9s - loss: 0.3981 - accuracy: 0.6203 - val_loss: 0.4208 - val_accuracy: 0.5200 - lr: 0.0010 - 9s/epoch - 159ms/step
fitting with batch size: 2500
Epoch 1/50
36/36 - 13s - loss: 0.3980 - accuracy: 0.6199 - val_loss: 0.4198 - val_accuracy: 0.5216 - lr: 0.0010 - 13s/epoch - 362ms/step
Epoch 2/50
36/36 - 9s - loss: 0.3979 - accuracy: 0.6198 - val_loss: 0.4213 - val_accuracy: 0.5187 - lr: 0.0010 - 9s/epoch - 247ms/step
Epoch 3/50
36/36 - 9s - loss: 0.3986 - accuracy: 0.6191 - val_loss: 0.4197 - val_accuracy: 0.5212 - lr: 0.0010 - 9s/epoch - 248ms/step
Epoch 4/50
36/36 - 9s - loss: 0.3980 - accuracy: 0.6192 - val_loss: 0.4215 - val_accuracy: 0.5188 - lr: 0.0010 - 9s/epoch - 247ms/step
Epoch 5/50
36/36 - 9s - loss: 0.3987 - accuracy: 0.6181 - val_loss: 0.4191 - val_accuracy: 0.5237 - lr: 0.0010 - 9s/epoch - 246ms/step
Epoch 6/50
36/36 - 9s - loss: 0.3977 - accuracy: 0.6183 - val_loss: 0.4216 - val_accuracy: 0.5180 - lr: 0.0010 - 9s/epoch - 247ms/step
Epoch 7/50
36/36 - 9s - loss: 0.3978 - accuracy: 0.6193 - val_loss: 0.4208 - val_accuracy: 0.5188 - lr: 0.0010 - 9s/epoch - 245ms/step
Epoch 8/50
36/36 - 9s - loss: 0.3982 - accuracy: 0.6177 - val_loss: 0.4206 - val_accuracy: 0.5207 - lr: 0.0010 - 9s/epoch - 246ms/step
Epoch 9/50
36/36 - 9s - loss: 0.3983 - accuracy: 0.6183 - val_loss: 0.4193 - val_accuracy: 0.5237 - lr: 0.0010 - 9s/epoch - 246ms/step
Epoch 10/50
36/36 - 9s - loss: 0.3979 - accuracy: 0.6192 - val_loss: 0.4191 - val_accuracy: 0.5235 - lr: 0.0010 - 9s/epoch - 252ms/step
Epoch 11/50
36/36 - 15s - loss: 0.3982 - accuracy: 0.6188 - val_loss: 0.4207 - val_accuracy: 0.5195 - lr: 0.0010 - 15s/epoch - 416ms/step
Epoch 12/50
36/36 - 16s - loss: 0.3982 - accuracy: 0.6196 - val_loss: 0.4209 - val_accuracy: 0.5187 - lr: 0.0010 - 16s/epoch - 440ms/step
Epoch 13/50
36/36 - 14s - loss: 0.3981 - accuracy: 0.6199 - val_loss: 0.4194 - val_accuracy: 0.5209 - lr: 0.0010 - 14s/epoch - 397ms/step
Epoch 14/50
36/36 - 12s - loss: 0.3980 - accuracy: 0.6181 - val_loss: 0.4210 - val_accuracy: 0.5186 - lr: 0.0010 - 12s/epoch - 345ms/step
Epoch 15/50
36/36 - 12s - loss: 0.3980 - accuracy: 0.6195 - val_loss: 0.4191 - val_accuracy: 0.5223 - lr: 0.0010 - 12s/epoch - 340ms/step
Epoch 16/50
36/36 - 12s - loss: 0.3979 - accuracy: 0.6194 - val_loss: 0.4195 - val_accuracy: 0.5214 - lr: 0.0010 - 12s/epoch - 341ms/step
Epoch 17/50
36/36 - 17s - loss: 0.3979 - accuracy: 0.6188 - val_loss: 0.4192 - val_accuracy: 0.5216 - lr: 0.0010 - 17s/epoch - 482ms/step
Epoch 18/50
36/36 - 14s - loss: 0.3979 - accuracy: 0.6188 - val_loss: 0.4194 - val_accuracy: 0.5223 - lr: 0.0010 - 14s/epoch - 389ms/step
Epoch 19/50
36/36 - 15s - loss: 0.3978 - accuracy: 0.6202 - val_loss: 0.4205 - val_accuracy: 0.5201 - lr: 0.0010 - 15s/epoch - 420ms/step
Epoch 20/50
36/36 - 14s - loss: 0.3980 - accuracy: 0.6194 - val_loss: 0.4197 - val_accuracy: 0.5205 - lr: 0.0010 - 14s/epoch - 381ms/step
Epoch 21/50
36/36 - 14s - loss: 0.3976 - accuracy: 0.6189 - val_loss: 0.4207 - val_accuracy: 0.5188 - lr: 0.0010 - 14s/epoch - 395ms/step
Epoch 22/50
36/36 - 14s - loss: 0.3978 - accuracy: 0.6205 - val_loss: 0.4192 - val_accuracy: 0.5229 - lr: 0.0010 - 14s/epoch - 387ms/step
Epoch 23/50
36/36 - 13s - loss: 0.3978 - accuracy: 0.6198 - val_loss: 0.4191 - val_accuracy: 0.5235 - lr: 0.0010 - 13s/epoch - 373ms/step
Epoch 24/50
36/36 - 13s - loss: 0.3977 - accuracy: 0.6181 - val_loss: 0.4185 - val_accuracy: 0.5231 - lr: 0.0010 - 13s/epoch - 355ms/step
Epoch 25/50
36/36 - 13s - loss: 0.3982 - accuracy: 0.6181 - val_loss: 0.4202 - val_accuracy: 0.5202 - lr: 0.0010 - 13s/epoch - 368ms/step
Epoch 26/50
36/36 - 13s - loss: 0.3975 - accuracy: 0.6203 - val_loss: 0.4175 - val_accuracy: 0.5270 - lr: 0.0010 - 13s/epoch - 374ms/step
Epoch 27/50
36/36 - 14s - loss: 0.3978 - accuracy: 0.6197 - val_loss: 0.4188 - val_accuracy: 0.5246 - lr: 0.0010 - 14s/epoch - 377ms/step
Epoch 28/50
36/36 - 14s - loss: 0.3980 - accuracy: 0.6186 - val_loss: 0.4198 - val_accuracy: 0.5212 - lr: 0.0010 - 14s/epoch - 396ms/step
Epoch 29/50
36/36 - 14s - loss: 0.3976 - accuracy: 0.6195 - val_loss: 0.4190 - val_accuracy: 0.5236 - lr: 0.0010 - 14s/epoch - 380ms/step
Epoch 30/50
36/36 - 14s - loss: 0.3976 - accuracy: 0.6196 - val_loss: 0.4193 - val_accuracy: 0.5234 - lr: 0.0010 - 14s/epoch - 381ms/step
Epoch 31/50
36/36 - 14s - loss: 0.3978 - accuracy: 0.6202 - val_loss: 0.4201 - val_accuracy: 0.5207 - lr: 0.0010 - 14s/epoch - 383ms/step
Epoch 32/50
36/36 - 13s - loss: 0.3980 - accuracy: 0.6184 - val_loss: 0.4222 - val_accuracy: 0.5171 - lr: 0.0010 - 13s/epoch - 367ms/step
Epoch 33/50
36/36 - 9s - loss: 0.3976 - accuracy: 0.6209 - val_loss: 0.4200 - val_accuracy: 0.5209 - lr: 0.0010 - 9s/epoch - 250ms/step
Epoch 34/50
36/36 - 8s - loss: 0.3976 - accuracy: 0.6184 - val_loss: 0.4192 - val_accuracy: 0.5229 - lr: 0.0010 - 8s/epoch - 214ms/step
Epoch 35/50
36/36 - 8s - loss: 0.3976 - accuracy: 0.6202 - val_loss: 0.4205 - val_accuracy: 0.5193 - lr: 0.0010 - 8s/epoch - 211ms/step
Epoch 36/50
36/36 - 8s - loss: 0.3977 - accuracy: 0.6209 - val_loss: 0.4202 - val_accuracy: 0.5195 - lr: 0.0010 - 8s/epoch - 212ms/step
Epoch 37/50
36/36 - 8s - loss: 0.3976 - accuracy: 0.6189 - val_loss: 0.4185 - val_accuracy: 0.5229 - lr: 0.0010 - 8s/epoch - 212ms/step
Epoch 38/50
36/36 - 8s - loss: 0.3979 - accuracy: 0.6196 - val_loss: 0.4198 - val_accuracy: 0.5214 - lr: 0.0010 - 8s/epoch - 212ms/step
Epoch 39/50
36/36 - 8s - loss: 0.3976 - accuracy: 0.6198 - val_loss: 0.4176 - val_accuracy: 0.5255 - lr: 0.0010 - 8s/epoch - 212ms/step
Epoch 40/50
36/36 - 8s - loss: 0.3978 - accuracy: 0.6203 - val_loss: 0.4190 - val_accuracy: 0.5232 - lr: 0.0010 - 8s/epoch - 212ms/step
Epoch 41/50
36/36 - 8s - loss: 0.3980 - accuracy: 0.6189 - val_loss: 0.4194 - val_accuracy: 0.5225 - lr: 0.0010 - 8s/epoch - 212ms/step
Epoch 42/50
36/36 - 8s - loss: 0.3979 - accuracy: 0.6213 - val_loss: 0.4209 - val_accuracy: 0.5203 - lr: 0.0010 - 8s/epoch - 212ms/step
Epoch 43/50
36/36 - 8s - loss: 0.3975 - accuracy: 0.6203 - val_loss: 0.4189 - val_accuracy: 0.5240 - lr: 0.0010 - 8s/epoch - 212ms/step
Epoch 44/50
36/36 - 8s - loss: 0.3978 - accuracy: 0.6186 - val_loss: 0.4202 - val_accuracy: 0.5201 - lr: 0.0010 - 8s/epoch - 212ms/step
Epoch 45/50
36/36 - 8s - loss: 0.3975 - accuracy: 0.6195 - val_loss: 0.4199 - val_accuracy: 0.5213 - lr: 0.0010 - 8s/epoch - 214ms/step
Epoch 46/50
36/36 - 8s - loss: 0.3973 - accuracy: 0.6204 - val_loss: 0.4193 - val_accuracy: 0.5224 - lr: 0.0010 - 8s/epoch - 213ms/step
Epoch 47/50
36/36 - 8s - loss: 0.3975 - accuracy: 0.6197 - val_loss: 0.4207 - val_accuracy: 0.5194 - lr: 0.0010 - 8s/epoch - 212ms/step
Epoch 48/50
36/36 - 8s - loss: 0.3979 - accuracy: 0.6211 - val_loss: 0.4198 - val_accuracy: 0.5207 - lr: 0.0010 - 8s/epoch - 212ms/step
Epoch 49/50
36/36 - 8s - loss: 0.3978 - accuracy: 0.6193 - val_loss: 0.4206 - val_accuracy: 0.5190 - lr: 0.0010 - 8s/epoch - 213ms/step
Epoch 50/50
36/36 - 8s - loss: 0.3973 - accuracy: 0.6210 - val_loss: 0.4197 - val_accuracy: 0.5213 - lr: 0.0010 - 8s/epoch - 212ms/step
