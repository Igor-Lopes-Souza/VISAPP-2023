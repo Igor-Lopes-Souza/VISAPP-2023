Loss: huber_loss
Epoch number: 25
fitting with batch size: 20
Epoch 1/25
4378/4378 - 82s - loss: 0.0560 - accuracy: 0.5671 - val_loss: 0.0482 - val_accuracy: 0.6657 - lr: 0.0010 - 82s/epoch - 19ms/step
Epoch 2/25
4378/4378 - 78s - loss: 0.0483 - accuracy: 0.6433 - val_loss: 0.0520 - val_accuracy: 0.6431 - lr: 0.0010 - 78s/epoch - 18ms/step
Epoch 3/25
4378/4378 - 75s - loss: 0.0462 - accuracy: 0.6605 - val_loss: 0.0470 - val_accuracy: 0.6830 - lr: 0.0010 - 75s/epoch - 17ms/step
Epoch 4/25
4378/4378 - 75s - loss: 0.0448 - accuracy: 0.6713 - val_loss: 0.0452 - val_accuracy: 0.7210 - lr: 0.0010 - 75s/epoch - 17ms/step
Epoch 5/25
4378/4378 - 75s - loss: 0.0437 - accuracy: 0.6803 - val_loss: 0.0474 - val_accuracy: 0.6962 - lr: 0.0010 - 75s/epoch - 17ms/step
Epoch 6/25
4378/4378 - 75s - loss: 0.0429 - accuracy: 0.6892 - val_loss: 0.0397 - val_accuracy: 0.7547 - lr: 0.0010 - 75s/epoch - 17ms/step
Epoch 7/25
4378/4378 - 75s - loss: 0.0421 - accuracy: 0.6954 - val_loss: 0.0332 - val_accuracy: 0.7974 - lr: 0.0010 - 75s/epoch - 17ms/step
Epoch 8/25
4378/4378 - 75s - loss: 0.0416 - accuracy: 0.6992 - val_loss: 0.0420 - val_accuracy: 0.7341 - lr: 0.0010 - 75s/epoch - 17ms/step
Epoch 9/25
4378/4378 - 75s - loss: 0.0412 - accuracy: 0.7031 - val_loss: 0.0376 - val_accuracy: 0.7876 - lr: 0.0010 - 75s/epoch - 17ms/step
Epoch 10/25
4378/4378 - 75s - loss: 0.0407 - accuracy: 0.7057 - val_loss: 0.0415 - val_accuracy: 0.7526 - lr: 0.0010 - 75s/epoch - 17ms/step
Epoch 11/25
4378/4378 - 75s - loss: 0.0403 - accuracy: 0.7095 - val_loss: 0.0371 - val_accuracy: 0.8057 - lr: 0.0010 - 75s/epoch - 17ms/step
Epoch 12/25
4378/4378 - 75s - loss: 0.0399 - accuracy: 0.7119 - val_loss: 0.0402 - val_accuracy: 0.7552 - lr: 0.0010 - 75s/epoch - 17ms/step
Epoch 13/25
4378/4378 - 75s - loss: 0.0396 - accuracy: 0.7138 - val_loss: 0.0426 - val_accuracy: 0.7255 - lr: 0.0010 - 75s/epoch - 17ms/step
Epoch 14/25
4378/4378 - 75s - loss: 0.0392 - accuracy: 0.7196 - val_loss: 0.0373 - val_accuracy: 0.7630 - lr: 0.0010 - 75s/epoch - 17ms/step
Epoch 15/25
4378/4378 - 75s - loss: 0.0389 - accuracy: 0.7216 - val_loss: 0.0361 - val_accuracy: 0.7976 - lr: 0.0010 - 75s/epoch - 17ms/step
Epoch 16/25
4378/4378 - 75s - loss: 0.0386 - accuracy: 0.7234 - val_loss: 0.0387 - val_accuracy: 0.7741 - lr: 0.0010 - 75s/epoch - 17ms/step
Epoch 17/25
4378/4378 - 75s - loss: 0.0384 - accuracy: 0.7258 - val_loss: 0.0360 - val_accuracy: 0.7901 - lr: 0.0010 - 75s/epoch - 17ms/step
Epoch 18/25
4378/4378 - 74s - loss: 0.0381 - accuracy: 0.7279 - val_loss: 0.0353 - val_accuracy: 0.7793 - lr: 0.0010 - 74s/epoch - 17ms/step
Epoch 19/25
4378/4378 - 75s - loss: 0.0379 - accuracy: 0.7296 - val_loss: 0.0325 - val_accuracy: 0.7929 - lr: 0.0010 - 75s/epoch - 17ms/step
Epoch 20/25
4378/4378 - 75s - loss: 0.0376 - accuracy: 0.7317 - val_loss: 0.0397 - val_accuracy: 0.7640 - lr: 0.0010 - 75s/epoch - 17ms/step
Epoch 21/25
4378/4378 - 75s - loss: 0.0373 - accuracy: 0.7350 - val_loss: 0.0370 - val_accuracy: 0.7762 - lr: 0.0010 - 75s/epoch - 17ms/step
Epoch 22/25
4378/4378 - 75s - loss: 0.0372 - accuracy: 0.7354 - val_loss: 0.0367 - val_accuracy: 0.7753 - lr: 0.0010 - 75s/epoch - 17ms/step
Epoch 23/25
4378/4378 - 75s - loss: 0.0369 - accuracy: 0.7390 - val_loss: 0.0325 - val_accuracy: 0.8097 - lr: 0.0010 - 75s/epoch - 17ms/step
Epoch 24/25
4378/4378 - 75s - loss: 0.0365 - accuracy: 0.7408 - val_loss: 0.0339 - val_accuracy: 0.7907 - lr: 0.0010 - 75s/epoch - 17ms/step
Epoch 25/25
4378/4378 - 75s - loss: 0.0364 - accuracy: 0.7425 - val_loss: 0.0370 - val_accuracy: 0.7716 - lr: 0.0010 - 75s/epoch - 17ms/step
fitting with batch size: 100
Epoch 1/25
876/876 - 22s - loss: 0.0345 - accuracy: 0.7579 - val_loss: 0.0321 - val_accuracy: 0.7975 - lr: 0.0010 - 22s/epoch - 25ms/step
Epoch 2/25
876/876 - 18s - loss: 0.0346 - accuracy: 0.7577 - val_loss: 0.0364 - val_accuracy: 0.7807 - lr: 0.0010 - 18s/epoch - 21ms/step
Epoch 3/25
876/876 - 18s - loss: 0.0342 - accuracy: 0.7612 - val_loss: 0.0333 - val_accuracy: 0.7991 - lr: 0.0010 - 18s/epoch - 21ms/step
Epoch 4/25
876/876 - 18s - loss: 0.0340 - accuracy: 0.7623 - val_loss: 0.0338 - val_accuracy: 0.7992 - lr: 0.0010 - 18s/epoch - 21ms/step
Epoch 5/25
876/876 - 18s - loss: 0.0337 - accuracy: 0.7663 - val_loss: 0.0345 - val_accuracy: 0.7884 - lr: 0.0010 - 18s/epoch - 21ms/step
Epoch 6/25
876/876 - 18s - loss: 0.0335 - accuracy: 0.7676 - val_loss: 0.0353 - val_accuracy: 0.7812 - lr: 0.0010 - 18s/epoch - 21ms/step
Epoch 7/25
876/876 - 18s - loss: 0.0333 - accuracy: 0.7687 - val_loss: 0.0298 - val_accuracy: 0.8136 - lr: 0.0010 - 18s/epoch - 21ms/step
Epoch 8/25
876/876 - 18s - loss: 0.0330 - accuracy: 0.7704 - val_loss: 0.0295 - val_accuracy: 0.8276 - lr: 0.0010 - 18s/epoch - 21ms/step
Epoch 9/25
876/876 - 18s - loss: 0.0328 - accuracy: 0.7734 - val_loss: 0.0316 - val_accuracy: 0.8187 - lr: 0.0010 - 18s/epoch - 21ms/step
Epoch 10/25
876/876 - 18s - loss: 0.0325 - accuracy: 0.7755 - val_loss: 0.0314 - val_accuracy: 0.8124 - lr: 0.0010 - 18s/epoch - 21ms/step
Epoch 11/25
876/876 - 18s - loss: 0.0323 - accuracy: 0.7776 - val_loss: 0.0314 - val_accuracy: 0.8066 - lr: 0.0010 - 18s/epoch - 21ms/step
Epoch 12/25
876/876 - 18s - loss: 0.0321 - accuracy: 0.7798 - val_loss: 0.0305 - val_accuracy: 0.8161 - lr: 0.0010 - 18s/epoch - 21ms/step
Epoch 13/25
876/876 - 18s - loss: 0.0318 - accuracy: 0.7810 - val_loss: 0.0319 - val_accuracy: 0.8010 - lr: 0.0010 - 18s/epoch - 21ms/step
Epoch 14/25
876/876 - 18s - loss: 0.0316 - accuracy: 0.7839 - val_loss: 0.0298 - val_accuracy: 0.8257 - lr: 0.0010 - 18s/epoch - 21ms/step
Epoch 15/25
876/876 - 18s - loss: 0.0315 - accuracy: 0.7846 - val_loss: 0.0300 - val_accuracy: 0.8146 - lr: 0.0010 - 18s/epoch - 21ms/step
Epoch 16/25
876/876 - 18s - loss: 0.0313 - accuracy: 0.7857 - val_loss: 0.0317 - val_accuracy: 0.8061 - lr: 0.0010 - 18s/epoch - 21ms/step
Epoch 17/25
876/876 - 18s - loss: 0.0310 - accuracy: 0.7882 - val_loss: 0.0320 - val_accuracy: 0.7958 - lr: 0.0010 - 18s/epoch - 21ms/step
Epoch 18/25
876/876 - 18s - loss: 0.0308 - accuracy: 0.7906 - val_loss: 0.0302 - val_accuracy: 0.8190 - lr: 0.0010 - 18s/epoch - 21ms/step
Epoch 19/25
876/876 - 18s - loss: 0.0307 - accuracy: 0.7907 - val_loss: 0.0298 - val_accuracy: 0.8244 - lr: 0.0010 - 18s/epoch - 21ms/step
Epoch 20/25
876/876 - 18s - loss: 0.0304 - accuracy: 0.7938 - val_loss: 0.0298 - val_accuracy: 0.8238 - lr: 0.0010 - 18s/epoch - 21ms/step
Epoch 21/25
876/876 - 18s - loss: 0.0302 - accuracy: 0.7960 - val_loss: 0.0321 - val_accuracy: 0.8117 - lr: 0.0010 - 18s/epoch - 21ms/step
Epoch 22/25
876/876 - 18s - loss: 0.0301 - accuracy: 0.7964 - val_loss: 0.0313 - val_accuracy: 0.8145 - lr: 0.0010 - 18s/epoch - 21ms/step
Epoch 23/25
876/876 - 18s - loss: 0.0299 - accuracy: 0.7976 - val_loss: 0.0297 - val_accuracy: 0.8206 - lr: 0.0010 - 18s/epoch - 21ms/step
Epoch 24/25
876/876 - 18s - loss: 0.0298 - accuracy: 0.7987 - val_loss: 0.0303 - val_accuracy: 0.8196 - lr: 0.0010 - 18s/epoch - 21ms/step
Epoch 25/25
876/876 - 18s - loss: 0.0295 - accuracy: 0.8006 - val_loss: 0.0305 - val_accuracy: 0.8139 - lr: 0.0010 - 18s/epoch - 21ms/step
fitting with batch size: 500
Epoch 1/25
176/176 - 13s - loss: 0.0276 - accuracy: 0.8162 - val_loss: 0.0314 - val_accuracy: 0.8038 - lr: 0.0010 - 13s/epoch - 74ms/step
Epoch 2/25
176/176 - 10s - loss: 0.0271 - accuracy: 0.8210 - val_loss: 0.0300 - val_accuracy: 0.8134 - lr: 0.0010 - 10s/epoch - 55ms/step
Epoch 3/25
176/176 - 10s - loss: 0.0271 - accuracy: 0.8212 - val_loss: 0.0306 - val_accuracy: 0.8060 - lr: 0.0010 - 10s/epoch - 55ms/step
Epoch 4/25
176/176 - 10s - loss: 0.0270 - accuracy: 0.8210 - val_loss: 0.0303 - val_accuracy: 0.8111 - lr: 0.0010 - 10s/epoch - 56ms/step
Epoch 5/25
176/176 - 10s - loss: 0.0268 - accuracy: 0.8225 - val_loss: 0.0299 - val_accuracy: 0.8100 - lr: 0.0010 - 10s/epoch - 55ms/step
Epoch 6/25
176/176 - 10s - loss: 0.0268 - accuracy: 0.8232 - val_loss: 0.0304 - val_accuracy: 0.8113 - lr: 0.0010 - 10s/epoch - 55ms/step
Epoch 7/25
176/176 - 10s - loss: 0.0266 - accuracy: 0.8252 - val_loss: 0.0314 - val_accuracy: 0.8047 - lr: 0.0010 - 10s/epoch - 55ms/step
Epoch 8/25
176/176 - 10s - loss: 0.0264 - accuracy: 0.8265 - val_loss: 0.0323 - val_accuracy: 0.7989 - lr: 0.0010 - 10s/epoch - 56ms/step
Epoch 9/25
176/176 - 10s - loss: 0.0262 - accuracy: 0.8281 - val_loss: 0.0327 - val_accuracy: 0.7962 - lr: 0.0010 - 10s/epoch - 55ms/step
Epoch 10/25
176/176 - 10s - loss: 0.0261 - accuracy: 0.8289 - val_loss: 0.0324 - val_accuracy: 0.7970 - lr: 0.0010 - 10s/epoch - 55ms/step
Epoch 11/25
176/176 - 10s - loss: 0.0260 - accuracy: 0.8295 - val_loss: 0.0327 - val_accuracy: 0.7951 - lr: 0.0010 - 10s/epoch - 55ms/step
Epoch 12/25
176/176 - 10s - loss: 0.0259 - accuracy: 0.8307 - val_loss: 0.0306 - val_accuracy: 0.8073 - lr: 0.0010 - 10s/epoch - 55ms/step
Epoch 13/25
176/176 - 10s - loss: 0.0257 - accuracy: 0.8320 - val_loss: 0.0319 - val_accuracy: 0.8033 - lr: 0.0010 - 10s/epoch - 55ms/step
Epoch 14/25
176/176 - 10s - loss: 0.0257 - accuracy: 0.8308 - val_loss: 0.0310 - val_accuracy: 0.8065 - lr: 0.0010 - 10s/epoch - 55ms/step
Epoch 15/25
176/176 - 10s - loss: 0.0256 - accuracy: 0.8336 - val_loss: 0.0315 - val_accuracy: 0.8044 - lr: 0.0010 - 10s/epoch - 55ms/step
Epoch 16/25
176/176 - 10s - loss: 0.0255 - accuracy: 0.8331 - val_loss: 0.0325 - val_accuracy: 0.7946 - lr: 0.0010 - 10s/epoch - 55ms/step
Epoch 17/25
176/176 - 10s - loss: 0.0254 - accuracy: 0.8352 - val_loss: 0.0313 - val_accuracy: 0.8040 - lr: 0.0010 - 10s/epoch - 55ms/step
Epoch 18/25
176/176 - 10s - loss: 0.0254 - accuracy: 0.8348 - val_loss: 0.0322 - val_accuracy: 0.8015 - lr: 0.0010 - 10s/epoch - 55ms/step
Epoch 19/25
176/176 - 10s - loss: 0.0252 - accuracy: 0.8358 - val_loss: 0.0327 - val_accuracy: 0.7941 - lr: 0.0010 - 10s/epoch - 55ms/step
Epoch 20/25
176/176 - 10s - loss: 0.0251 - accuracy: 0.8370 - val_loss: 0.0328 - val_accuracy: 0.7962 - lr: 0.0010 - 10s/epoch - 55ms/step
Epoch 21/25
176/176 - 10s - loss: 0.0251 - accuracy: 0.8366 - val_loss: 0.0317 - val_accuracy: 0.8028 - lr: 0.0010 - 10s/epoch - 56ms/step
Epoch 22/25
176/176 - 10s - loss: 0.0248 - accuracy: 0.8394 - val_loss: 0.0330 - val_accuracy: 0.7960 - lr: 0.0010 - 10s/epoch - 55ms/step
Epoch 23/25
176/176 - 10s - loss: 0.0246 - accuracy: 0.8408 - val_loss: 0.0311 - val_accuracy: 0.8030 - lr: 0.0010 - 10s/epoch - 55ms/step
Epoch 24/25
176/176 - 10s - loss: 0.0245 - accuracy: 0.8412 - val_loss: 0.0325 - val_accuracy: 0.7973 - lr: 0.0010 - 10s/epoch - 55ms/step
Epoch 25/25
176/176 - 10s - loss: 0.0245 - accuracy: 0.8413 - val_loss: 0.0330 - val_accuracy: 0.7928 - lr: 0.0010 - 10s/epoch - 56ms/step
fitting with batch size: 1500
Epoch 1/25
59/59 - 13s - loss: 0.0237 - accuracy: 0.8482 - val_loss: 0.0304 - val_accuracy: 0.8117 - lr: 0.0010 - 13s/epoch - 218ms/step
Epoch 2/25
59/59 - 9s - loss: 0.0232 - accuracy: 0.8514 - val_loss: 0.0309 - val_accuracy: 0.8079 - lr: 0.0010 - 9s/epoch - 155ms/step
Epoch 3/25
59/59 - 9s - loss: 0.0232 - accuracy: 0.8515 - val_loss: 0.0327 - val_accuracy: 0.7964 - lr: 0.0010 - 9s/epoch - 154ms/step
Epoch 4/25
59/59 - 9s - loss: 0.0232 - accuracy: 0.8517 - val_loss: 0.0323 - val_accuracy: 0.7990 - lr: 0.0010 - 9s/epoch - 156ms/step
Epoch 5/25
59/59 - 9s - loss: 0.0231 - accuracy: 0.8528 - val_loss: 0.0325 - val_accuracy: 0.7981 - lr: 0.0010 - 9s/epoch - 155ms/step
Epoch 6/25
59/59 - 9s - loss: 0.0231 - accuracy: 0.8525 - val_loss: 0.0326 - val_accuracy: 0.7960 - lr: 0.0010 - 9s/epoch - 155ms/step
Epoch 7/25
59/59 - 9s - loss: 0.0231 - accuracy: 0.8533 - val_loss: 0.0311 - val_accuracy: 0.8050 - lr: 0.0010 - 9s/epoch - 155ms/step
Epoch 8/25
59/59 - 9s - loss: 0.0229 - accuracy: 0.8537 - val_loss: 0.0328 - val_accuracy: 0.7950 - lr: 0.0010 - 9s/epoch - 155ms/step
Epoch 9/25
59/59 - 9s - loss: 0.0229 - accuracy: 0.8545 - val_loss: 0.0323 - val_accuracy: 0.7981 - lr: 0.0010 - 9s/epoch - 155ms/step
Epoch 10/25
59/59 - 9s - loss: 0.0228 - accuracy: 0.8547 - val_loss: 0.0326 - val_accuracy: 0.7977 - lr: 0.0010 - 9s/epoch - 155ms/step
Epoch 11/25
59/59 - 9s - loss: 0.0229 - accuracy: 0.8543 - val_loss: 0.0328 - val_accuracy: 0.7971 - lr: 0.0010 - 9s/epoch - 155ms/step
Epoch 12/25
59/59 - 9s - loss: 0.0229 - accuracy: 0.8534 - val_loss: 0.0333 - val_accuracy: 0.7940 - lr: 0.0010 - 9s/epoch - 155ms/step
Epoch 13/25
59/59 - 9s - loss: 0.0228 - accuracy: 0.8548 - val_loss: 0.0316 - val_accuracy: 0.8052 - lr: 0.0010 - 9s/epoch - 154ms/step
Epoch 14/25
59/59 - 9s - loss: 0.0228 - accuracy: 0.8546 - val_loss: 0.0314 - val_accuracy: 0.8054 - lr: 0.0010 - 9s/epoch - 155ms/step
Epoch 15/25
59/59 - 9s - loss: 0.0227 - accuracy: 0.8551 - val_loss: 0.0334 - val_accuracy: 0.7925 - lr: 0.0010 - 9s/epoch - 155ms/step
Epoch 16/25
59/59 - 9s - loss: 0.0228 - accuracy: 0.8544 - val_loss: 0.0326 - val_accuracy: 0.7981 - lr: 0.0010 - 9s/epoch - 155ms/step
Epoch 17/25
59/59 - 9s - loss: 0.0227 - accuracy: 0.8556 - val_loss: 0.0334 - val_accuracy: 0.7941 - lr: 0.0010 - 9s/epoch - 155ms/step
Epoch 18/25
59/59 - 9s - loss: 0.0225 - accuracy: 0.8567 - val_loss: 0.0335 - val_accuracy: 0.7914 - lr: 0.0010 - 9s/epoch - 158ms/step
Epoch 19/25
59/59 - 9s - loss: 0.0226 - accuracy: 0.8565 - val_loss: 0.0339 - val_accuracy: 0.7880 - lr: 0.0010 - 9s/epoch - 156ms/step
Epoch 20/25
59/59 - 9s - loss: 0.0225 - accuracy: 0.8570 - val_loss: 0.0341 - val_accuracy: 0.7893 - lr: 0.0010 - 9s/epoch - 159ms/step
Epoch 21/25
59/59 - 9s - loss: 0.0224 - accuracy: 0.8576 - val_loss: 0.0352 - val_accuracy: 0.7798 - lr: 0.0010 - 9s/epoch - 157ms/step
Epoch 22/25
59/59 - 9s - loss: 0.0224 - accuracy: 0.8576 - val_loss: 0.0322 - val_accuracy: 0.7983 - lr: 0.0010 - 9s/epoch - 157ms/step
Epoch 23/25
59/59 - 9s - loss: 0.0223 - accuracy: 0.8577 - val_loss: 0.0325 - val_accuracy: 0.7990 - lr: 0.0010 - 9s/epoch - 157ms/step
Epoch 24/25
59/59 - 9s - loss: 0.0223 - accuracy: 0.8585 - val_loss: 0.0336 - val_accuracy: 0.7906 - lr: 0.0010 - 9s/epoch - 156ms/step
Epoch 25/25
59/59 - 9s - loss: 0.0222 - accuracy: 0.8596 - val_loss: 0.0332 - val_accuracy: 0.7959 - lr: 0.0010 - 9s/epoch - 158ms/step
fitting with batch size: 2500
Epoch 1/25
36/36 - 12s - loss: 0.0220 - accuracy: 0.8614 - val_loss: 0.0327 - val_accuracy: 0.7981 - lr: 0.0010 - 12s/epoch - 330ms/step
Epoch 2/25
36/36 - 9s - loss: 0.0217 - accuracy: 0.8624 - val_loss: 0.0329 - val_accuracy: 0.7969 - lr: 0.0010 - 9s/epoch - 237ms/step
Epoch 3/25
36/36 - 9s - loss: 0.0218 - accuracy: 0.8624 - val_loss: 0.0334 - val_accuracy: 0.7931 - lr: 0.0010 - 9s/epoch - 239ms/step
Epoch 4/25
36/36 - 9s - loss: 0.0216 - accuracy: 0.8645 - val_loss: 0.0324 - val_accuracy: 0.8005 - lr: 0.0010 - 9s/epoch - 242ms/step
Epoch 5/25
36/36 - 9s - loss: 0.0214 - accuracy: 0.8656 - val_loss: 0.0335 - val_accuracy: 0.7928 - lr: 0.0010 - 9s/epoch - 240ms/step
Epoch 6/25
36/36 - 9s - loss: 0.0214 - accuracy: 0.8657 - val_loss: 0.0330 - val_accuracy: 0.7975 - lr: 0.0010 - 9s/epoch - 240ms/step
Epoch 7/25
36/36 - 9s - loss: 0.0213 - accuracy: 0.8656 - val_loss: 0.0329 - val_accuracy: 0.7972 - lr: 0.0010 - 9s/epoch - 240ms/step
Epoch 8/25
36/36 - 9s - loss: 0.0214 - accuracy: 0.8655 - val_loss: 0.0334 - val_accuracy: 0.7939 - lr: 0.0010 - 9s/epoch - 240ms/step
Epoch 9/25
36/36 - 9s - loss: 0.0212 - accuracy: 0.8675 - val_loss: 0.0335 - val_accuracy: 0.7932 - lr: 0.0010 - 9s/epoch - 239ms/step
Epoch 10/25
36/36 - 9s - loss: 0.0212 - accuracy: 0.8666 - val_loss: 0.0335 - val_accuracy: 0.7933 - lr: 0.0010 - 9s/epoch - 239ms/step
Epoch 11/25
36/36 - 9s - loss: 0.0211 - accuracy: 0.8678 - val_loss: 0.0333 - val_accuracy: 0.7945 - lr: 0.0010 - 9s/epoch - 240ms/step
Epoch 12/25
36/36 - 9s - loss: 0.0212 - accuracy: 0.8668 - val_loss: 0.0336 - val_accuracy: 0.7924 - lr: 0.0010 - 9s/epoch - 240ms/step
Epoch 13/25
36/36 - 9s - loss: 0.0214 - accuracy: 0.8645 - val_loss: 0.0338 - val_accuracy: 0.7919 - lr: 0.0010 - 9s/epoch - 241ms/step
Epoch 14/25
36/36 - 9s - loss: 0.0211 - accuracy: 0.8679 - val_loss: 0.0332 - val_accuracy: 0.7960 - lr: 0.0010 - 9s/epoch - 239ms/step
Epoch 15/25
36/36 - 9s - loss: 0.0210 - accuracy: 0.8678 - val_loss: 0.0335 - val_accuracy: 0.7933 - lr: 0.0010 - 9s/epoch - 240ms/step
Epoch 16/25
36/36 - 9s - loss: 0.0211 - accuracy: 0.8682 - val_loss: 0.0330 - val_accuracy: 0.7981 - lr: 0.0010 - 9s/epoch - 240ms/step
Epoch 17/25
36/36 - 9s - loss: 0.0210 - accuracy: 0.8677 - val_loss: 0.0334 - val_accuracy: 0.7939 - lr: 0.0010 - 9s/epoch - 238ms/step
Epoch 18/25
36/36 - 9s - loss: 0.0210 - accuracy: 0.8681 - val_loss: 0.0340 - val_accuracy: 0.7906 - lr: 0.0010 - 9s/epoch - 239ms/step
Epoch 19/25
36/36 - 9s - loss: 0.0212 - accuracy: 0.8680 - val_loss: 0.0336 - val_accuracy: 0.7945 - lr: 0.0010 - 9s/epoch - 240ms/step
Epoch 20/25
36/36 - 9s - loss: 0.0210 - accuracy: 0.8680 - val_loss: 0.0338 - val_accuracy: 0.7929 - lr: 0.0010 - 9s/epoch - 242ms/step
Epoch 21/25
36/36 - 9s - loss: 0.0210 - accuracy: 0.8685 - val_loss: 0.0337 - val_accuracy: 0.7933 - lr: 0.0010 - 9s/epoch - 240ms/step
Epoch 22/25
36/36 - 9s - loss: 0.0210 - accuracy: 0.8683 - val_loss: 0.0338 - val_accuracy: 0.7923 - lr: 0.0010 - 9s/epoch - 240ms/step
Epoch 23/25
36/36 - 9s - loss: 0.0209 - accuracy: 0.8693 - val_loss: 0.0341 - val_accuracy: 0.7909 - lr: 0.0010 - 9s/epoch - 240ms/step
Epoch 24/25
36/36 - 9s - loss: 0.0209 - accuracy: 0.8691 - val_loss: 0.0336 - val_accuracy: 0.7944 - lr: 0.0010 - 9s/epoch - 240ms/step
Epoch 25/25
36/36 - 9s - loss: 0.0208 - accuracy: 0.8700 - val_loss: 0.0340 - val_accuracy: 0.7909 - lr: 0.0010 - 9s/epoch - 240ms/step
Epoch number: 50
fitting with batch size: 20
Epoch 1/50
4378/4378 - 78s - loss: 0.0302 - accuracy: 0.7973 - val_loss: 0.0287 - val_accuracy: 0.8354 - lr: 0.0010 - 78s/epoch - 18ms/step
Epoch 2/50
4378/4378 - 74s - loss: 0.0307 - accuracy: 0.7912 - val_loss: 0.0328 - val_accuracy: 0.7974 - lr: 0.0010 - 74s/epoch - 17ms/step
Epoch 3/50
4378/4378 - 75s - loss: 0.0308 - accuracy: 0.7900 - val_loss: 0.0373 - val_accuracy: 0.7632 - lr: 0.0010 - 75s/epoch - 17ms/step
Epoch 4/50
4378/4378 - 75s - loss: 0.0305 - accuracy: 0.7919 - val_loss: 0.0352 - val_accuracy: 0.7776 - lr: 0.0010 - 75s/epoch - 17ms/step
Epoch 5/50
4378/4378 - 75s - loss: 0.0307 - accuracy: 0.7920 - val_loss: 0.0331 - val_accuracy: 0.7946 - lr: 0.0010 - 75s/epoch - 17ms/step
Epoch 6/50
4378/4378 - 75s - loss: 0.0304 - accuracy: 0.7928 - val_loss: 0.0303 - val_accuracy: 0.8272 - lr: 0.0010 - 75s/epoch - 17ms/step
Epoch 7/50
4378/4378 - 75s - loss: 0.0303 - accuracy: 0.7940 - val_loss: 0.0340 - val_accuracy: 0.7919 - lr: 0.0010 - 75s/epoch - 17ms/step
Epoch 8/50
4378/4378 - 75s - loss: 0.0302 - accuracy: 0.7956 - val_loss: 0.0335 - val_accuracy: 0.7992 - lr: 0.0010 - 75s/epoch - 17ms/step
Epoch 9/50
4378/4378 - 75s - loss: 0.0299 - accuracy: 0.7976 - val_loss: 0.0314 - val_accuracy: 0.8122 - lr: 0.0010 - 75s/epoch - 17ms/step
Epoch 10/50
4378/4378 - 75s - loss: 0.0300 - accuracy: 0.7959 - val_loss: 0.0362 - val_accuracy: 0.7727 - lr: 0.0010 - 75s/epoch - 17ms/step
Epoch 11/50
4378/4378 - 75s - loss: 0.0300 - accuracy: 0.7959 - val_loss: 0.0277 - val_accuracy: 0.8353 - lr: 0.0010 - 75s/epoch - 17ms/step
Epoch 12/50
4378/4378 - 75s - loss: 0.0297 - accuracy: 0.7969 - val_loss: 0.0271 - val_accuracy: 0.8344 - lr: 0.0010 - 75s/epoch - 17ms/step
Epoch 13/50
4378/4378 - 75s - loss: 0.0297 - accuracy: 0.7984 - val_loss: 0.0282 - val_accuracy: 0.8251 - lr: 0.0010 - 75s/epoch - 17ms/step
Epoch 14/50
4378/4378 - 75s - loss: 0.0295 - accuracy: 0.8012 - val_loss: 0.0294 - val_accuracy: 0.8192 - lr: 0.0010 - 75s/epoch - 17ms/step
Epoch 15/50
4378/4378 - 75s - loss: 0.0297 - accuracy: 0.8000 - val_loss: 0.0280 - val_accuracy: 0.8414 - lr: 0.0010 - 75s/epoch - 17ms/step
Epoch 16/50
4378/4378 - 75s - loss: 0.0294 - accuracy: 0.8001 - val_loss: 0.0280 - val_accuracy: 0.8283 - lr: 0.0010 - 75s/epoch - 17ms/step
Epoch 17/50
4378/4378 - 75s - loss: 0.0293 - accuracy: 0.8018 - val_loss: 0.0301 - val_accuracy: 0.8171 - lr: 0.0010 - 75s/epoch - 17ms/step
Epoch 18/50
4378/4378 - 75s - loss: 0.0293 - accuracy: 0.8015 - val_loss: 0.0305 - val_accuracy: 0.8162 - lr: 0.0010 - 75s/epoch - 17ms/step
Epoch 19/50
4378/4378 - 75s - loss: 0.0292 - accuracy: 0.8024 - val_loss: 0.0287 - val_accuracy: 0.8291 - lr: 0.0010 - 75s/epoch - 17ms/step
Epoch 20/50
4378/4378 - 75s - loss: 0.0291 - accuracy: 0.8033 - val_loss: 0.0298 - val_accuracy: 0.8105 - lr: 0.0010 - 75s/epoch - 17ms/step
Epoch 21/50
4378/4378 - 75s - loss: 0.0290 - accuracy: 0.8036 - val_loss: 0.0263 - val_accuracy: 0.8376 - lr: 0.0010 - 75s/epoch - 17ms/step
Epoch 22/50
4378/4378 - 75s - loss: 0.0290 - accuracy: 0.8030 - val_loss: 0.0305 - val_accuracy: 0.8134 - lr: 0.0010 - 75s/epoch - 17ms/step
Epoch 23/50
4378/4378 - 75s - loss: 0.0289 - accuracy: 0.8042 - val_loss: 0.0271 - val_accuracy: 0.8308 - lr: 0.0010 - 75s/epoch - 17ms/step
Epoch 24/50
4378/4378 - 75s - loss: 0.0285 - accuracy: 0.8072 - val_loss: 0.0291 - val_accuracy: 0.8163 - lr: 0.0010 - 75s/epoch - 17ms/step
Epoch 25/50
4378/4378 - 75s - loss: 0.0287 - accuracy: 0.8064 - val_loss: 0.0328 - val_accuracy: 0.7959 - lr: 0.0010 - 75s/epoch - 17ms/step
Epoch 26/50
4378/4378 - 75s - loss: 0.0285 - accuracy: 0.8077 - val_loss: 0.0283 - val_accuracy: 0.8165 - lr: 0.0010 - 75s/epoch - 17ms/step
Epoch 27/50
4378/4378 - 75s - loss: 0.0285 - accuracy: 0.8076 - val_loss: 0.0293 - val_accuracy: 0.8127 - lr: 0.0010 - 75s/epoch - 17ms/step
Epoch 28/50
4378/4378 - 75s - loss: 0.0284 - accuracy: 0.8090 - val_loss: 0.0271 - val_accuracy: 0.8326 - lr: 0.0010 - 75s/epoch - 17ms/step
Epoch 29/50
4378/4378 - 75s - loss: 0.0283 - accuracy: 0.8097 - val_loss: 0.0277 - val_accuracy: 0.8258 - lr: 0.0010 - 75s/epoch - 17ms/step
Epoch 30/50
4378/4378 - 75s - loss: 0.0281 - accuracy: 0.8118 - val_loss: 0.0288 - val_accuracy: 0.8267 - lr: 0.0010 - 75s/epoch - 17ms/step
Epoch 31/50
4378/4378 - 75s - loss: 0.0281 - accuracy: 0.8115 - val_loss: 0.0359 - val_accuracy: 0.7801 - lr: 0.0010 - 75s/epoch - 17ms/step
Epoch 32/50
4378/4378 - 75s - loss: 0.0278 - accuracy: 0.8123 - val_loss: 0.0332 - val_accuracy: 0.7997 - lr: 0.0010 - 75s/epoch - 17ms/step
Epoch 33/50
4378/4378 - 75s - loss: 0.0280 - accuracy: 0.8113 - val_loss: 0.0279 - val_accuracy: 0.8296 - lr: 0.0010 - 75s/epoch - 17ms/step
Epoch 34/50
4378/4378 - 76s - loss: 0.0278 - accuracy: 0.8124 - val_loss: 0.0329 - val_accuracy: 0.8097 - lr: 0.0010 - 76s/epoch - 17ms/step
Epoch 35/50
4378/4378 - 75s - loss: 0.0278 - accuracy: 0.8128 - val_loss: 0.0300 - val_accuracy: 0.8337 - lr: 0.0010 - 75s/epoch - 17ms/step
Epoch 36/50
4378/4378 - 75s - loss: 0.0275 - accuracy: 0.8151 - val_loss: 0.0277 - val_accuracy: 0.8383 - lr: 0.0010 - 75s/epoch - 17ms/step
Epoch 37/50
4378/4378 - 75s - loss: 0.0276 - accuracy: 0.8141 - val_loss: 0.0308 - val_accuracy: 0.8103 - lr: 0.0010 - 75s/epoch - 17ms/step
Epoch 38/50
4378/4378 - 75s - loss: 0.0275 - accuracy: 0.8158 - val_loss: 0.0310 - val_accuracy: 0.8076 - lr: 0.0010 - 75s/epoch - 17ms/step
Epoch 39/50
4378/4378 - 75s - loss: 0.0274 - accuracy: 0.8160 - val_loss: 0.0265 - val_accuracy: 0.8404 - lr: 0.0010 - 75s/epoch - 17ms/step
Epoch 40/50
4378/4378 - 75s - loss: 0.0273 - accuracy: 0.8169 - val_loss: 0.0306 - val_accuracy: 0.8123 - lr: 0.0010 - 75s/epoch - 17ms/step
Epoch 41/50
4378/4378 - 76s - loss: 0.0272 - accuracy: 0.8201 - val_loss: 0.0282 - val_accuracy: 0.8300 - lr: 0.0010 - 76s/epoch - 17ms/step
Epoch 42/50
4378/4378 - 75s - loss: 0.0269 - accuracy: 0.8200 - val_loss: 0.0295 - val_accuracy: 0.8116 - lr: 0.0010 - 75s/epoch - 17ms/step
Epoch 43/50
4378/4378 - 75s - loss: 0.0270 - accuracy: 0.8195 - val_loss: 0.0290 - val_accuracy: 0.8231 - lr: 0.0010 - 75s/epoch - 17ms/step
Epoch 44/50
4378/4378 - 75s - loss: 0.0270 - accuracy: 0.8190 - val_loss: 0.0292 - val_accuracy: 0.8242 - lr: 0.0010 - 75s/epoch - 17ms/step
Epoch 45/50
4378/4378 - 75s - loss: 0.0268 - accuracy: 0.8207 - val_loss: 0.0323 - val_accuracy: 0.8062 - lr: 0.0010 - 75s/epoch - 17ms/step
Epoch 46/50
4378/4378 - 75s - loss: 0.0266 - accuracy: 0.8229 - val_loss: 0.0298 - val_accuracy: 0.8099 - lr: 0.0010 - 75s/epoch - 17ms/step
Epoch 47/50
4378/4378 - 75s - loss: 0.0268 - accuracy: 0.8211 - val_loss: 0.0295 - val_accuracy: 0.8193 - lr: 0.0010 - 75s/epoch - 17ms/step
Epoch 48/50
4378/4378 - 75s - loss: 0.0267 - accuracy: 0.8213 - val_loss: 0.0303 - val_accuracy: 0.8107 - lr: 0.0010 - 75s/epoch - 17ms/step
Epoch 49/50
4378/4378 - 75s - loss: 0.0264 - accuracy: 0.8240 - val_loss: 0.0263 - val_accuracy: 0.8353 - lr: 0.0010 - 75s/epoch - 17ms/step
Epoch 50/50
4378/4378 - 75s - loss: 0.0265 - accuracy: 0.8233 - val_loss: 0.0276 - val_accuracy: 0.8332 - lr: 0.0010 - 75s/epoch - 17ms/step
fitting with batch size: 100
Epoch 1/50
876/876 - 21s - loss: 0.0232 - accuracy: 0.8490 - val_loss: 0.0289 - val_accuracy: 0.8220 - lr: 0.0010 - 21s/epoch - 24ms/step
Epoch 2/50
876/876 - 18s - loss: 0.0232 - accuracy: 0.8490 - val_loss: 0.0276 - val_accuracy: 0.8268 - lr: 0.0010 - 18s/epoch - 21ms/step
Epoch 3/50
876/876 - 18s - loss: 0.0232 - accuracy: 0.8481 - val_loss: 0.0268 - val_accuracy: 0.8323 - lr: 0.0010 - 18s/epoch - 21ms/step
Epoch 4/50
876/876 - 18s - loss: 0.0231 - accuracy: 0.8490 - val_loss: 0.0249 - val_accuracy: 0.8404 - lr: 0.0010 - 18s/epoch - 21ms/step
Epoch 5/50
876/876 - 18s - loss: 0.0228 - accuracy: 0.8515 - val_loss: 0.0253 - val_accuracy: 0.8426 - lr: 0.0010 - 18s/epoch - 21ms/step
Epoch 6/50
876/876 - 18s - loss: 0.0226 - accuracy: 0.8525 - val_loss: 0.0279 - val_accuracy: 0.8252 - lr: 0.0010 - 18s/epoch - 21ms/step
Epoch 7/50
876/876 - 18s - loss: 0.0224 - accuracy: 0.8542 - val_loss: 0.0287 - val_accuracy: 0.8208 - lr: 0.0010 - 18s/epoch - 21ms/step
Epoch 8/50
876/876 - 18s - loss: 0.0224 - accuracy: 0.8546 - val_loss: 0.0281 - val_accuracy: 0.8222 - lr: 0.0010 - 18s/epoch - 21ms/step
Epoch 9/50
876/876 - 18s - loss: 0.0222 - accuracy: 0.8560 - val_loss: 0.0295 - val_accuracy: 0.8128 - lr: 0.0010 - 18s/epoch - 21ms/step
Epoch 10/50
876/876 - 18s - loss: 0.0221 - accuracy: 0.8567 - val_loss: 0.0296 - val_accuracy: 0.8152 - lr: 0.0010 - 18s/epoch - 21ms/step
Epoch 11/50
876/876 - 18s - loss: 0.0220 - accuracy: 0.8574 - val_loss: 0.0279 - val_accuracy: 0.8237 - lr: 0.0010 - 18s/epoch - 21ms/step
Epoch 12/50
876/876 - 18s - loss: 0.0219 - accuracy: 0.8578 - val_loss: 0.0310 - val_accuracy: 0.8044 - lr: 0.0010 - 18s/epoch - 21ms/step
Epoch 13/50
876/876 - 18s - loss: 0.0218 - accuracy: 0.8593 - val_loss: 0.0297 - val_accuracy: 0.8138 - lr: 0.0010 - 18s/epoch - 21ms/step
Epoch 14/50
876/876 - 18s - loss: 0.0216 - accuracy: 0.8611 - val_loss: 0.0262 - val_accuracy: 0.8385 - lr: 0.0010 - 18s/epoch - 21ms/step
Epoch 15/50
876/876 - 18s - loss: 0.0216 - accuracy: 0.8607 - val_loss: 0.0280 - val_accuracy: 0.8269 - lr: 0.0010 - 18s/epoch - 21ms/step
Epoch 16/50
876/876 - 18s - loss: 0.0214 - accuracy: 0.8605 - val_loss: 0.0316 - val_accuracy: 0.7991 - lr: 0.0010 - 18s/epoch - 21ms/step
Epoch 17/50
876/876 - 18s - loss: 0.0214 - accuracy: 0.8609 - val_loss: 0.0294 - val_accuracy: 0.8203 - lr: 0.0010 - 18s/epoch - 21ms/step
Epoch 18/50
876/876 - 18s - loss: 0.0213 - accuracy: 0.8630 - val_loss: 0.0287 - val_accuracy: 0.8253 - lr: 0.0010 - 18s/epoch - 21ms/step
Epoch 19/50
876/876 - 18s - loss: 0.0213 - accuracy: 0.8619 - val_loss: 0.0292 - val_accuracy: 0.8199 - lr: 0.0010 - 18s/epoch - 21ms/step
Epoch 20/50
876/876 - 18s - loss: 0.0212 - accuracy: 0.8627 - val_loss: 0.0306 - val_accuracy: 0.8128 - lr: 0.0010 - 18s/epoch - 21ms/step
Epoch 21/50
876/876 - 18s - loss: 0.0210 - accuracy: 0.8648 - val_loss: 0.0296 - val_accuracy: 0.8168 - lr: 0.0010 - 18s/epoch - 21ms/step
Epoch 22/50
876/876 - 18s - loss: 0.0210 - accuracy: 0.8643 - val_loss: 0.0314 - val_accuracy: 0.8024 - lr: 0.0010 - 18s/epoch - 21ms/step
Epoch 23/50
876/876 - 18s - loss: 0.0209 - accuracy: 0.8650 - val_loss: 0.0301 - val_accuracy: 0.8146 - lr: 0.0010 - 18s/epoch - 21ms/step
Epoch 24/50
876/876 - 18s - loss: 0.0209 - accuracy: 0.8655 - val_loss: 0.0297 - val_accuracy: 0.8136 - lr: 0.0010 - 18s/epoch - 21ms/step
Epoch 25/50
876/876 - 18s - loss: 0.0207 - accuracy: 0.8671 - val_loss: 0.0296 - val_accuracy: 0.8202 - lr: 0.0010 - 18s/epoch - 21ms/step
Epoch 26/50
876/876 - 18s - loss: 0.0206 - accuracy: 0.8667 - val_loss: 0.0300 - val_accuracy: 0.8134 - lr: 0.0010 - 18s/epoch - 21ms/step
Epoch 27/50
876/876 - 18s - loss: 0.0208 - accuracy: 0.8661 - val_loss: 0.0298 - val_accuracy: 0.8153 - lr: 0.0010 - 18s/epoch - 21ms/step
Epoch 28/50
876/876 - 18s - loss: 0.0205 - accuracy: 0.8678 - val_loss: 0.0283 - val_accuracy: 0.8218 - lr: 0.0010 - 18s/epoch - 21ms/step
Epoch 29/50
876/876 - 18s - loss: 0.0206 - accuracy: 0.8673 - val_loss: 0.0287 - val_accuracy: 0.8205 - lr: 0.0010 - 18s/epoch - 21ms/step
Epoch 30/50
876/876 - 18s - loss: 0.0203 - accuracy: 0.8703 - val_loss: 0.0303 - val_accuracy: 0.8115 - lr: 0.0010 - 18s/epoch - 21ms/step
Epoch 31/50
876/876 - 18s - loss: 0.0203 - accuracy: 0.8695 - val_loss: 0.0307 - val_accuracy: 0.8073 - lr: 0.0010 - 18s/epoch - 21ms/step
Epoch 32/50
876/876 - 18s - loss: 0.0203 - accuracy: 0.8702 - val_loss: 0.0290 - val_accuracy: 0.8225 - lr: 0.0010 - 18s/epoch - 21ms/step
Epoch 33/50
876/876 - 18s - loss: 0.0202 - accuracy: 0.8700 - val_loss: 0.0297 - val_accuracy: 0.8169 - lr: 0.0010 - 18s/epoch - 21ms/step
Epoch 34/50
876/876 - 18s - loss: 0.0201 - accuracy: 0.8708 - val_loss: 0.0327 - val_accuracy: 0.8005 - lr: 0.0010 - 18s/epoch - 21ms/step
Epoch 35/50
876/876 - 18s - loss: 0.0202 - accuracy: 0.8702 - val_loss: 0.0322 - val_accuracy: 0.8008 - lr: 0.0010 - 18s/epoch - 21ms/step
Epoch 36/50
876/876 - 18s - loss: 0.0200 - accuracy: 0.8721 - val_loss: 0.0303 - val_accuracy: 0.8099 - lr: 0.0010 - 18s/epoch - 21ms/step
Epoch 37/50
876/876 - 18s - loss: 0.0200 - accuracy: 0.8717 - val_loss: 0.0318 - val_accuracy: 0.8005 - lr: 0.0010 - 18s/epoch - 21ms/step
Epoch 38/50
876/876 - 18s - loss: 0.0199 - accuracy: 0.8724 - val_loss: 0.0310 - val_accuracy: 0.8039 - lr: 0.0010 - 18s/epoch - 21ms/step
Epoch 39/50
876/876 - 18s - loss: 0.0200 - accuracy: 0.8718 - val_loss: 0.0315 - val_accuracy: 0.8033 - lr: 0.0010 - 18s/epoch - 21ms/step
Epoch 40/50
876/876 - 18s - loss: 0.0199 - accuracy: 0.8714 - val_loss: 0.0312 - val_accuracy: 0.8060 - lr: 0.0010 - 18s/epoch - 21ms/step
Epoch 41/50
876/876 - 18s - loss: 0.0198 - accuracy: 0.8727 - val_loss: 0.0282 - val_accuracy: 0.8247 - lr: 0.0010 - 18s/epoch - 21ms/step
Epoch 42/50
876/876 - 18s - loss: 0.0197 - accuracy: 0.8744 - val_loss: 0.0342 - val_accuracy: 0.7875 - lr: 0.0010 - 18s/epoch - 21ms/step
Epoch 43/50
876/876 - 18s - loss: 0.0197 - accuracy: 0.8736 - val_loss: 0.0358 - val_accuracy: 0.7800 - lr: 0.0010 - 18s/epoch - 21ms/step
Epoch 44/50
876/876 - 18s - loss: 0.0196 - accuracy: 0.8740 - val_loss: 0.0328 - val_accuracy: 0.7925 - lr: 0.0010 - 18s/epoch - 21ms/step
Epoch 45/50
876/876 - 18s - loss: 0.0196 - accuracy: 0.8750 - val_loss: 0.0316 - val_accuracy: 0.8057 - lr: 0.0010 - 18s/epoch - 21ms/step
Epoch 46/50
876/876 - 18s - loss: 0.0195 - accuracy: 0.8754 - val_loss: 0.0318 - val_accuracy: 0.8039 - lr: 0.0010 - 18s/epoch - 21ms/step
Epoch 47/50
876/876 - 18s - loss: 0.0195 - accuracy: 0.8753 - val_loss: 0.0300 - val_accuracy: 0.8136 - lr: 0.0010 - 18s/epoch - 21ms/step
Epoch 48/50
876/876 - 18s - loss: 0.0195 - accuracy: 0.8754 - val_loss: 0.0306 - val_accuracy: 0.8106 - lr: 0.0010 - 18s/epoch - 21ms/step
Epoch 49/50
876/876 - 18s - loss: 0.0195 - accuracy: 0.8751 - val_loss: 0.0298 - val_accuracy: 0.8182 - lr: 0.0010 - 18s/epoch - 21ms/step
Epoch 50/50
876/876 - 18s - loss: 0.0196 - accuracy: 0.8746 - val_loss: 0.0330 - val_accuracy: 0.7960 - lr: 0.0010 - 18s/epoch - 21ms/step
fitting with batch size: 500
Epoch 1/50
176/176 - 12s - loss: 0.0174 - accuracy: 0.8904 - val_loss: 0.0320 - val_accuracy: 0.8013 - lr: 0.0010 - 12s/epoch - 70ms/step
Epoch 2/50
176/176 - 10s - loss: 0.0166 - accuracy: 0.8960 - val_loss: 0.0316 - val_accuracy: 0.8038 - lr: 0.0010 - 10s/epoch - 55ms/step
Epoch 3/50
176/176 - 10s - loss: 0.0164 - accuracy: 0.8972 - val_loss: 0.0326 - val_accuracy: 0.7982 - lr: 0.0010 - 10s/epoch - 56ms/step
Epoch 4/50
176/176 - 10s - loss: 0.0164 - accuracy: 0.8980 - val_loss: 0.0311 - val_accuracy: 0.8071 - lr: 0.0010 - 10s/epoch - 55ms/step
Epoch 5/50
176/176 - 10s - loss: 0.0166 - accuracy: 0.8964 - val_loss: 0.0315 - val_accuracy: 0.8056 - lr: 0.0010 - 10s/epoch - 55ms/step
Epoch 6/50
176/176 - 10s - loss: 0.0166 - accuracy: 0.8958 - val_loss: 0.0322 - val_accuracy: 0.8013 - lr: 0.0010 - 10s/epoch - 55ms/step
Epoch 7/50
176/176 - 10s - loss: 0.0167 - accuracy: 0.8954 - val_loss: 0.0324 - val_accuracy: 0.7988 - lr: 0.0010 - 10s/epoch - 55ms/step
Epoch 8/50
176/176 - 10s - loss: 0.0167 - accuracy: 0.8960 - val_loss: 0.0354 - val_accuracy: 0.7854 - lr: 0.0010 - 10s/epoch - 55ms/step
Epoch 9/50
176/176 - 10s - loss: 0.0166 - accuracy: 0.8963 - val_loss: 0.0334 - val_accuracy: 0.7943 - lr: 0.0010 - 10s/epoch - 55ms/step
Epoch 10/50
176/176 - 10s - loss: 0.0165 - accuracy: 0.8961 - val_loss: 0.0325 - val_accuracy: 0.7997 - lr: 0.0010 - 10s/epoch - 56ms/step
Epoch 11/50
176/176 - 10s - loss: 0.0164 - accuracy: 0.8973 - val_loss: 0.0322 - val_accuracy: 0.8011 - lr: 0.0010 - 10s/epoch - 55ms/step
Epoch 12/50
176/176 - 10s - loss: 0.0164 - accuracy: 0.8980 - val_loss: 0.0313 - val_accuracy: 0.8068 - lr: 0.0010 - 10s/epoch - 55ms/step
Epoch 13/50
176/176 - 10s - loss: 0.0163 - accuracy: 0.8980 - val_loss: 0.0316 - val_accuracy: 0.8070 - lr: 0.0010 - 10s/epoch - 55ms/step
Epoch 14/50
176/176 - 10s - loss: 0.0161 - accuracy: 0.8995 - val_loss: 0.0321 - val_accuracy: 0.8026 - lr: 0.0010 - 10s/epoch - 55ms/step
Epoch 15/50
176/176 - 10s - loss: 0.0160 - accuracy: 0.9007 - val_loss: 0.0327 - val_accuracy: 0.8010 - lr: 0.0010 - 10s/epoch - 55ms/step
Epoch 16/50
176/176 - 10s - loss: 0.0160 - accuracy: 0.9006 - val_loss: 0.0328 - val_accuracy: 0.7981 - lr: 0.0010 - 10s/epoch - 56ms/step
Epoch 17/50
176/176 - 10s - loss: 0.0161 - accuracy: 0.8994 - val_loss: 0.0324 - val_accuracy: 0.8013 - lr: 0.0010 - 10s/epoch - 55ms/step
Epoch 18/50
176/176 - 10s - loss: 0.0160 - accuracy: 0.9009 - val_loss: 0.0334 - val_accuracy: 0.7970 - lr: 0.0010 - 10s/epoch - 56ms/step
Epoch 19/50
176/176 - 10s - loss: 0.0160 - accuracy: 0.9001 - val_loss: 0.0318 - val_accuracy: 0.8057 - lr: 0.0010 - 10s/epoch - 55ms/step
Epoch 20/50
176/176 - 10s - loss: 0.0159 - accuracy: 0.9015 - val_loss: 0.0325 - val_accuracy: 0.8000 - lr: 0.0010 - 10s/epoch - 55ms/step
Epoch 21/50
176/176 - 10s - loss: 0.0158 - accuracy: 0.9012 - val_loss: 0.0322 - val_accuracy: 0.8036 - lr: 0.0010 - 10s/epoch - 55ms/step
Epoch 22/50
176/176 - 10s - loss: 0.0157 - accuracy: 0.9020 - val_loss: 0.0328 - val_accuracy: 0.7999 - lr: 0.0010 - 10s/epoch - 56ms/step
Epoch 23/50
176/176 - 10s - loss: 0.0156 - accuracy: 0.9029 - val_loss: 0.0337 - val_accuracy: 0.7961 - lr: 0.0010 - 10s/epoch - 55ms/step
Epoch 24/50
176/176 - 10s - loss: 0.0156 - accuracy: 0.9033 - val_loss: 0.0329 - val_accuracy: 0.7988 - lr: 0.0010 - 10s/epoch - 56ms/step
Epoch 25/50
176/176 - 10s - loss: 0.0156 - accuracy: 0.9035 - val_loss: 0.0346 - val_accuracy: 0.7888 - lr: 0.0010 - 10s/epoch - 55ms/step
Epoch 26/50
176/176 - 10s - loss: 0.0156 - accuracy: 0.9032 - val_loss: 0.0333 - val_accuracy: 0.8004 - lr: 0.0010 - 10s/epoch - 55ms/step
Epoch 27/50
176/176 - 10s - loss: 0.0156 - accuracy: 0.9030 - val_loss: 0.0355 - val_accuracy: 0.7847 - lr: 0.0010 - 10s/epoch - 55ms/step
Epoch 28/50
176/176 - 10s - loss: 0.0156 - accuracy: 0.9033 - val_loss: 0.0338 - val_accuracy: 0.7959 - lr: 0.0010 - 10s/epoch - 55ms/step
Epoch 29/50
176/176 - 10s - loss: 0.0156 - accuracy: 0.9027 - val_loss: 0.0333 - val_accuracy: 0.7990 - lr: 0.0010 - 10s/epoch - 55ms/step
Epoch 30/50
176/176 - 10s - loss: 0.0155 - accuracy: 0.9043 - val_loss: 0.0322 - val_accuracy: 0.8039 - lr: 0.0010 - 10s/epoch - 55ms/step
Epoch 31/50
176/176 - 10s - loss: 0.0153 - accuracy: 0.9054 - val_loss: 0.0341 - val_accuracy: 0.7935 - lr: 0.0010 - 10s/epoch - 56ms/step
Epoch 32/50
176/176 - 10s - loss: 0.0154 - accuracy: 0.9042 - val_loss: 0.0348 - val_accuracy: 0.7889 - lr: 0.0010 - 10s/epoch - 56ms/step
Epoch 33/50
176/176 - 10s - loss: 0.0155 - accuracy: 0.9031 - val_loss: 0.0355 - val_accuracy: 0.7837 - lr: 0.0010 - 10s/epoch - 55ms/step
Epoch 34/50
176/176 - 10s - loss: 0.0155 - accuracy: 0.9040 - val_loss: 0.0342 - val_accuracy: 0.7927 - lr: 0.0010 - 10s/epoch - 55ms/step
Epoch 35/50
176/176 - 10s - loss: 0.0155 - accuracy: 0.9037 - val_loss: 0.0345 - val_accuracy: 0.7905 - lr: 0.0010 - 10s/epoch - 55ms/step
Epoch 36/50
176/176 - 10s - loss: 0.0154 - accuracy: 0.9039 - val_loss: 0.0324 - val_accuracy: 0.8030 - lr: 0.0010 - 10s/epoch - 55ms/step
Epoch 37/50
176/176 - 10s - loss: 0.0155 - accuracy: 0.9041 - val_loss: 0.0340 - val_accuracy: 0.7942 - lr: 0.0010 - 10s/epoch - 55ms/step
Epoch 38/50
176/176 - 10s - loss: 0.0154 - accuracy: 0.9039 - val_loss: 0.0364 - val_accuracy: 0.7794 - lr: 0.0010 - 10s/epoch - 55ms/step
Epoch 39/50
176/176 - 10s - loss: 0.0153 - accuracy: 0.9047 - val_loss: 0.0333 - val_accuracy: 0.7969 - lr: 0.0010 - 10s/epoch - 55ms/step
Epoch 40/50
176/176 - 10s - loss: 0.0152 - accuracy: 0.9056 - val_loss: 0.0360 - val_accuracy: 0.7821 - lr: 0.0010 - 10s/epoch - 56ms/step
Epoch 41/50
176/176 - 10s - loss: 0.0151 - accuracy: 0.9072 - val_loss: 0.0343 - val_accuracy: 0.7932 - lr: 0.0010 - 10s/epoch - 56ms/step
Epoch 42/50
176/176 - 10s - loss: 0.0151 - accuracy: 0.9071 - val_loss: 0.0337 - val_accuracy: 0.7958 - lr: 0.0010 - 10s/epoch - 55ms/step
Epoch 43/50
176/176 - 10s - loss: 0.0150 - accuracy: 0.9079 - val_loss: 0.0347 - val_accuracy: 0.7900 - lr: 0.0010 - 10s/epoch - 55ms/step
Epoch 44/50
176/176 - 10s - loss: 0.0151 - accuracy: 0.9061 - val_loss: 0.0334 - val_accuracy: 0.7977 - lr: 0.0010 - 10s/epoch - 55ms/step
Epoch 45/50
176/176 - 10s - loss: 0.0150 - accuracy: 0.9068 - val_loss: 0.0330 - val_accuracy: 0.7999 - lr: 0.0010 - 10s/epoch - 55ms/step
Epoch 46/50
176/176 - 10s - loss: 0.0149 - accuracy: 0.9082 - val_loss: 0.0324 - val_accuracy: 0.8033 - lr: 0.0010 - 10s/epoch - 55ms/step
Epoch 47/50
176/176 - 10s - loss: 0.0149 - accuracy: 0.9081 - val_loss: 0.0353 - val_accuracy: 0.7857 - lr: 0.0010 - 10s/epoch - 56ms/step
Epoch 48/50
176/176 - 10s - loss: 0.0148 - accuracy: 0.9091 - val_loss: 0.0342 - val_accuracy: 0.7928 - lr: 0.0010 - 10s/epoch - 55ms/step
Epoch 49/50
176/176 - 10s - loss: 0.0149 - accuracy: 0.9079 - val_loss: 0.0339 - val_accuracy: 0.7944 - lr: 0.0010 - 10s/epoch - 56ms/step
Epoch 50/50
176/176 - 10s - loss: 0.0149 - accuracy: 0.9073 - val_loss: 0.0339 - val_accuracy: 0.7932 - lr: 0.0010 - 10s/epoch - 55ms/step
fitting with batch size: 1500
Epoch 1/50
59/59 - 12s - loss: 0.0143 - accuracy: 0.9119 - val_loss: 0.0341 - val_accuracy: 0.7932 - lr: 0.0010 - 12s/epoch - 210ms/step
Epoch 2/50
59/59 - 9s - loss: 0.0137 - accuracy: 0.9156 - val_loss: 0.0348 - val_accuracy: 0.7903 - lr: 0.0010 - 9s/epoch - 156ms/step
Epoch 3/50
59/59 - 9s - loss: 0.0136 - accuracy: 0.9170 - val_loss: 0.0340 - val_accuracy: 0.7934 - lr: 0.0010 - 9s/epoch - 156ms/step
Epoch 4/50
59/59 - 9s - loss: 0.0136 - accuracy: 0.9170 - val_loss: 0.0340 - val_accuracy: 0.7943 - lr: 0.0010 - 9s/epoch - 156ms/step
Epoch 5/50
59/59 - 9s - loss: 0.0135 - accuracy: 0.9172 - val_loss: 0.0339 - val_accuracy: 0.7952 - lr: 0.0010 - 9s/epoch - 156ms/step
Epoch 6/50
59/59 - 9s - loss: 0.0135 - accuracy: 0.9177 - val_loss: 0.0343 - val_accuracy: 0.7934 - lr: 0.0010 - 9s/epoch - 157ms/step
Epoch 7/50
59/59 - 9s - loss: 0.0134 - accuracy: 0.9183 - val_loss: 0.0331 - val_accuracy: 0.8011 - lr: 0.0010 - 9s/epoch - 154ms/step
Epoch 8/50
59/59 - 9s - loss: 0.0136 - accuracy: 0.9163 - val_loss: 0.0346 - val_accuracy: 0.7907 - lr: 0.0010 - 9s/epoch - 157ms/step
Epoch 9/50
59/59 - 9s - loss: 0.0135 - accuracy: 0.9179 - val_loss: 0.0346 - val_accuracy: 0.7918 - lr: 0.0010 - 9s/epoch - 155ms/step
Epoch 10/50
59/59 - 9s - loss: 0.0135 - accuracy: 0.9171 - val_loss: 0.0345 - val_accuracy: 0.7919 - lr: 0.0010 - 9s/epoch - 154ms/step
Epoch 11/50
59/59 - 9s - loss: 0.0135 - accuracy: 0.9176 - val_loss: 0.0351 - val_accuracy: 0.7869 - lr: 0.0010 - 9s/epoch - 157ms/step
Epoch 12/50
59/59 - 9s - loss: 0.0137 - accuracy: 0.9161 - val_loss: 0.0345 - val_accuracy: 0.7911 - lr: 0.0010 - 9s/epoch - 157ms/step
Epoch 13/50
59/59 - 9s - loss: 0.0137 - accuracy: 0.9163 - val_loss: 0.0344 - val_accuracy: 0.7950 - lr: 0.0010 - 9s/epoch - 157ms/step
Epoch 14/50
59/59 - 9s - loss: 0.0136 - accuracy: 0.9171 - val_loss: 0.0348 - val_accuracy: 0.7890 - lr: 0.0010 - 9s/epoch - 155ms/step
Epoch 15/50
59/59 - 9s - loss: 0.0137 - accuracy: 0.9164 - val_loss: 0.0354 - val_accuracy: 0.7874 - lr: 0.0010 - 9s/epoch - 156ms/step
Epoch 16/50
59/59 - 9s - loss: 0.0137 - accuracy: 0.9163 - val_loss: 0.0371 - val_accuracy: 0.7778 - lr: 0.0010 - 9s/epoch - 156ms/step
Epoch 17/50
59/59 - 9s - loss: 0.0136 - accuracy: 0.9164 - val_loss: 0.0363 - val_accuracy: 0.7838 - lr: 0.0010 - 9s/epoch - 156ms/step
Epoch 18/50
59/59 - 9s - loss: 0.0136 - accuracy: 0.9175 - val_loss: 0.0348 - val_accuracy: 0.7925 - lr: 0.0010 - 9s/epoch - 156ms/step
Epoch 19/50
59/59 - 9s - loss: 0.0136 - accuracy: 0.9173 - val_loss: 0.0342 - val_accuracy: 0.7954 - lr: 0.0010 - 9s/epoch - 155ms/step
Epoch 20/50
59/59 - 9s - loss: 0.0137 - accuracy: 0.9167 - val_loss: 0.0348 - val_accuracy: 0.7920 - lr: 0.0010 - 9s/epoch - 156ms/step
Epoch 21/50
59/59 - 9s - loss: 0.0137 - accuracy: 0.9160 - val_loss: 0.0354 - val_accuracy: 0.7872 - lr: 0.0010 - 9s/epoch - 156ms/step
Epoch 22/50
59/59 - 9s - loss: 0.0136 - accuracy: 0.9170 - val_loss: 0.0348 - val_accuracy: 0.7909 - lr: 0.0010 - 9s/epoch - 156ms/step
Epoch 23/50
59/59 - 9s - loss: 0.0136 - accuracy: 0.9170 - val_loss: 0.0362 - val_accuracy: 0.7836 - lr: 0.0010 - 9s/epoch - 155ms/step
Epoch 24/50
59/59 - 9s - loss: 0.0137 - accuracy: 0.9167 - val_loss: 0.0356 - val_accuracy: 0.7883 - lr: 0.0010 - 9s/epoch - 157ms/step
Epoch 25/50
59/59 - 9s - loss: 0.0135 - accuracy: 0.9179 - val_loss: 0.0353 - val_accuracy: 0.7887 - lr: 0.0010 - 9s/epoch - 156ms/step
Epoch 26/50
59/59 - 9s - loss: 0.0135 - accuracy: 0.9179 - val_loss: 0.0363 - val_accuracy: 0.7833 - lr: 0.0010 - 9s/epoch - 156ms/step
Epoch 27/50
59/59 - 9s - loss: 0.0135 - accuracy: 0.9181 - val_loss: 0.0345 - val_accuracy: 0.7926 - lr: 0.0010 - 9s/epoch - 156ms/step
Epoch 28/50
59/59 - 9s - loss: 0.0135 - accuracy: 0.9178 - val_loss: 0.0358 - val_accuracy: 0.7844 - lr: 0.0010 - 9s/epoch - 155ms/step
Epoch 29/50
59/59 - 9s - loss: 0.0136 - accuracy: 0.9181 - val_loss: 0.0344 - val_accuracy: 0.7936 - lr: 0.0010 - 9s/epoch - 155ms/step
Epoch 30/50
59/59 - 9s - loss: 0.0135 - accuracy: 0.9175 - val_loss: 0.0346 - val_accuracy: 0.7935 - lr: 0.0010 - 9s/epoch - 156ms/step
Epoch 31/50
59/59 - 9s - loss: 0.0134 - accuracy: 0.9186 - val_loss: 0.0342 - val_accuracy: 0.7963 - lr: 0.0010 - 9s/epoch - 156ms/step
Epoch 32/50
59/59 - 9s - loss: 0.0134 - accuracy: 0.9175 - val_loss: 0.0352 - val_accuracy: 0.7896 - lr: 0.0010 - 9s/epoch - 155ms/step
Epoch 33/50
59/59 - 9s - loss: 0.0136 - accuracy: 0.9177 - val_loss: 0.0349 - val_accuracy: 0.7923 - lr: 0.0010 - 9s/epoch - 157ms/step
Epoch 34/50
59/59 - 9s - loss: 0.0134 - accuracy: 0.9187 - val_loss: 0.0346 - val_accuracy: 0.7923 - lr: 0.0010 - 9s/epoch - 156ms/step
Epoch 35/50
59/59 - 9s - loss: 0.0134 - accuracy: 0.9185 - val_loss: 0.0358 - val_accuracy: 0.7862 - lr: 0.0010 - 9s/epoch - 154ms/step
Epoch 36/50
59/59 - 9s - loss: 0.0134 - accuracy: 0.9186 - val_loss: 0.0347 - val_accuracy: 0.7932 - lr: 0.0010 - 9s/epoch - 156ms/step
Epoch 37/50
59/59 - 9s - loss: 0.0134 - accuracy: 0.9186 - val_loss: 0.0343 - val_accuracy: 0.7956 - lr: 0.0010 - 9s/epoch - 157ms/step
Epoch 38/50
59/59 - 9s - loss: 0.0135 - accuracy: 0.9179 - val_loss: 0.0335 - val_accuracy: 0.7976 - lr: 0.0010 - 9s/epoch - 156ms/step
Epoch 39/50
59/59 - 9s - loss: 0.0135 - accuracy: 0.9177 - val_loss: 0.0349 - val_accuracy: 0.7909 - lr: 0.0010 - 9s/epoch - 156ms/step
Epoch 40/50
59/59 - 9s - loss: 0.0133 - accuracy: 0.9195 - val_loss: 0.0363 - val_accuracy: 0.7844 - lr: 0.0010 - 9s/epoch - 156ms/step
Epoch 41/50
59/59 - 9s - loss: 0.0133 - accuracy: 0.9201 - val_loss: 0.0348 - val_accuracy: 0.7913 - lr: 0.0010 - 9s/epoch - 157ms/step
Epoch 42/50
59/59 - 9s - loss: 0.0134 - accuracy: 0.9184 - val_loss: 0.0372 - val_accuracy: 0.7779 - lr: 0.0010 - 9s/epoch - 156ms/step
Epoch 43/50
59/59 - 9s - loss: 0.0133 - accuracy: 0.9190 - val_loss: 0.0351 - val_accuracy: 0.7905 - lr: 0.0010 - 9s/epoch - 156ms/step
Epoch 44/50
59/59 - 9s - loss: 0.0132 - accuracy: 0.9202 - val_loss: 0.0358 - val_accuracy: 0.7864 - lr: 0.0010 - 9s/epoch - 156ms/step
Epoch 45/50
59/59 - 9s - loss: 0.0134 - accuracy: 0.9189 - val_loss: 0.0360 - val_accuracy: 0.7848 - lr: 0.0010 - 9s/epoch - 156ms/step
Epoch 46/50
59/59 - 9s - loss: 0.0134 - accuracy: 0.9186 - val_loss: 0.0356 - val_accuracy: 0.7877 - lr: 0.0010 - 9s/epoch - 156ms/step
Epoch 47/50
59/59 - 9s - loss: 0.0133 - accuracy: 0.9189 - val_loss: 0.0356 - val_accuracy: 0.7887 - lr: 0.0010 - 9s/epoch - 156ms/step
Epoch 48/50
59/59 - 9s - loss: 0.0133 - accuracy: 0.9196 - val_loss: 0.0356 - val_accuracy: 0.7865 - lr: 0.0010 - 9s/epoch - 158ms/step
Epoch 49/50
59/59 - 9s - loss: 0.0132 - accuracy: 0.9198 - val_loss: 0.0340 - val_accuracy: 0.7965 - lr: 0.0010 - 9s/epoch - 156ms/step
Epoch 50/50
59/59 - 9s - loss: 0.0132 - accuracy: 0.9196 - val_loss: 0.0357 - val_accuracy: 0.7854 - lr: 0.0010 - 9s/epoch - 157ms/step
fitting with batch size: 2500
Epoch 1/50
36/36 - 11s - loss: 0.0130 - accuracy: 0.9212 - val_loss: 0.0375 - val_accuracy: 0.7770 - lr: 0.0010 - 11s/epoch - 306ms/step
Epoch 2/50
36/36 - 9s - loss: 0.0129 - accuracy: 0.9218 - val_loss: 0.0359 - val_accuracy: 0.7851 - lr: 0.0010 - 9s/epoch - 239ms/step
Epoch 3/50
36/36 - 9s - loss: 0.0126 - accuracy: 0.9230 - val_loss: 0.0359 - val_accuracy: 0.7869 - lr: 0.0010 - 9s/epoch - 238ms/step
Epoch 4/50
36/36 - 9s - loss: 0.0126 - accuracy: 0.9242 - val_loss: 0.0366 - val_accuracy: 0.7822 - lr: 0.0010 - 9s/epoch - 239ms/step
Epoch 5/50
36/36 - 9s - loss: 0.0126 - accuracy: 0.9240 - val_loss: 0.0356 - val_accuracy: 0.7870 - lr: 0.0010 - 9s/epoch - 238ms/step
Epoch 6/50
36/36 - 9s - loss: 0.0124 - accuracy: 0.9256 - val_loss: 0.0362 - val_accuracy: 0.7845 - lr: 0.0010 - 9s/epoch - 238ms/step
Epoch 7/50
36/36 - 9s - loss: 0.0124 - accuracy: 0.9251 - val_loss: 0.0370 - val_accuracy: 0.7800 - lr: 0.0010 - 9s/epoch - 237ms/step
Epoch 8/50
36/36 - 9s - loss: 0.0123 - accuracy: 0.9257 - val_loss: 0.0360 - val_accuracy: 0.7864 - lr: 0.0010 - 9s/epoch - 239ms/step
Epoch 9/50
36/36 - 9s - loss: 0.0124 - accuracy: 0.9256 - val_loss: 0.0356 - val_accuracy: 0.7875 - lr: 0.0010 - 9s/epoch - 237ms/step
Epoch 10/50
36/36 - 9s - loss: 0.0123 - accuracy: 0.9257 - val_loss: 0.0362 - val_accuracy: 0.7842 - lr: 0.0010 - 9s/epoch - 238ms/step
Epoch 11/50
36/36 - 9s - loss: 0.0122 - accuracy: 0.9261 - val_loss: 0.0362 - val_accuracy: 0.7841 - lr: 0.0010 - 9s/epoch - 238ms/step
Epoch 12/50
36/36 - 9s - loss: 0.0123 - accuracy: 0.9254 - val_loss: 0.0363 - val_accuracy: 0.7828 - lr: 0.0010 - 9s/epoch - 238ms/step
Epoch 13/50
36/36 - 9s - loss: 0.0124 - accuracy: 0.9256 - val_loss: 0.0364 - val_accuracy: 0.7833 - lr: 0.0010 - 9s/epoch - 237ms/step
Epoch 14/50
36/36 - 9s - loss: 0.0122 - accuracy: 0.9270 - val_loss: 0.0370 - val_accuracy: 0.7807 - lr: 0.0010 - 9s/epoch - 238ms/step
Epoch 15/50
36/36 - 9s - loss: 0.0122 - accuracy: 0.9263 - val_loss: 0.0362 - val_accuracy: 0.7849 - lr: 0.0010 - 9s/epoch - 238ms/step
Epoch 16/50
36/36 - 9s - loss: 0.0120 - accuracy: 0.9281 - val_loss: 0.0359 - val_accuracy: 0.7865 - lr: 0.0010 - 9s/epoch - 238ms/step
Epoch 17/50
36/36 - 9s - loss: 0.0123 - accuracy: 0.9261 - val_loss: 0.0371 - val_accuracy: 0.7788 - lr: 0.0010 - 9s/epoch - 239ms/step
Epoch 18/50
36/36 - 9s - loss: 0.0122 - accuracy: 0.9265 - val_loss: 0.0360 - val_accuracy: 0.7865 - lr: 0.0010 - 9s/epoch - 238ms/step
Epoch 19/50
36/36 - 9s - loss: 0.0121 - accuracy: 0.9270 - val_loss: 0.0368 - val_accuracy: 0.7814 - lr: 0.0010 - 9s/epoch - 239ms/step
Epoch 20/50
36/36 - 9s - loss: 0.0120 - accuracy: 0.9279 - val_loss: 0.0365 - val_accuracy: 0.7831 - lr: 0.0010 - 9s/epoch - 237ms/step
Epoch 21/50
36/36 - 9s - loss: 0.0121 - accuracy: 0.9271 - val_loss: 0.0371 - val_accuracy: 0.7790 - lr: 0.0010 - 9s/epoch - 238ms/step
Epoch 22/50
36/36 - 9s - loss: 0.0122 - accuracy: 0.9264 - val_loss: 0.0367 - val_accuracy: 0.7807 - lr: 0.0010 - 9s/epoch - 239ms/step
Epoch 23/50
36/36 - 9s - loss: 0.0122 - accuracy: 0.9266 - val_loss: 0.0353 - val_accuracy: 0.7897 - lr: 0.0010 - 9s/epoch - 237ms/step
Epoch 24/50
36/36 - 9s - loss: 0.0123 - accuracy: 0.9263 - val_loss: 0.0373 - val_accuracy: 0.7781 - lr: 0.0010 - 9s/epoch - 237ms/step
Epoch 25/50
36/36 - 9s - loss: 0.0121 - accuracy: 0.9270 - val_loss: 0.0358 - val_accuracy: 0.7864 - lr: 0.0010 - 9s/epoch - 239ms/step
Epoch 26/50
36/36 - 9s - loss: 0.0120 - accuracy: 0.9282 - val_loss: 0.0359 - val_accuracy: 0.7861 - lr: 0.0010 - 9s/epoch - 239ms/step
Epoch 27/50
36/36 - 9s - loss: 0.0123 - accuracy: 0.9259 - val_loss: 0.0369 - val_accuracy: 0.7808 - lr: 0.0010 - 9s/epoch - 237ms/step
Epoch 28/50
36/36 - 9s - loss: 0.0122 - accuracy: 0.9267 - val_loss: 0.0362 - val_accuracy: 0.7846 - lr: 0.0010 - 9s/epoch - 239ms/step
Epoch 29/50
36/36 - 9s - loss: 0.0121 - accuracy: 0.9273 - val_loss: 0.0362 - val_accuracy: 0.7859 - lr: 0.0010 - 9s/epoch - 238ms/step
Epoch 30/50
36/36 - 9s - loss: 0.0122 - accuracy: 0.9268 - val_loss: 0.0361 - val_accuracy: 0.7845 - lr: 0.0010 - 9s/epoch - 238ms/step
Epoch 31/50
36/36 - 9s - loss: 0.0120 - accuracy: 0.9278 - val_loss: 0.0368 - val_accuracy: 0.7812 - lr: 0.0010 - 9s/epoch - 237ms/step
Epoch 32/50
36/36 - 9s - loss: 0.0120 - accuracy: 0.9281 - val_loss: 0.0370 - val_accuracy: 0.7795 - lr: 0.0010 - 9s/epoch - 237ms/step
Epoch 33/50
36/36 - 9s - loss: 0.0120 - accuracy: 0.9279 - val_loss: 0.0366 - val_accuracy: 0.7827 - lr: 0.0010 - 9s/epoch - 238ms/step
Epoch 34/50
36/36 - 9s - loss: 0.0119 - accuracy: 0.9285 - val_loss: 0.0371 - val_accuracy: 0.7788 - lr: 0.0010 - 9s/epoch - 238ms/step
Epoch 35/50
36/36 - 9s - loss: 0.0121 - accuracy: 0.9277 - val_loss: 0.0369 - val_accuracy: 0.7816 - lr: 0.0010 - 9s/epoch - 238ms/step
Epoch 36/50
36/36 - 9s - loss: 0.0120 - accuracy: 0.9280 - val_loss: 0.0364 - val_accuracy: 0.7841 - lr: 0.0010 - 9s/epoch - 237ms/step
Epoch 37/50
36/36 - 9s - loss: 0.0121 - accuracy: 0.9273 - val_loss: 0.0365 - val_accuracy: 0.7834 - lr: 0.0010 - 9s/epoch - 238ms/step
Epoch 38/50
36/36 - 9s - loss: 0.0123 - accuracy: 0.9263 - val_loss: 0.0367 - val_accuracy: 0.7819 - lr: 0.0010 - 9s/epoch - 239ms/step
Epoch 39/50
36/36 - 9s - loss: 0.0120 - accuracy: 0.9281 - val_loss: 0.0368 - val_accuracy: 0.7816 - lr: 0.0010 - 9s/epoch - 237ms/step
Epoch 40/50
36/36 - 9s - loss: 0.0120 - accuracy: 0.9286 - val_loss: 0.0372 - val_accuracy: 0.7790 - lr: 0.0010 - 9s/epoch - 239ms/step
Epoch 41/50
36/36 - 9s - loss: 0.0118 - accuracy: 0.9291 - val_loss: 0.0376 - val_accuracy: 0.7769 - lr: 0.0010 - 9s/epoch - 238ms/step
Epoch 42/50
36/36 - 9s - loss: 0.0119 - accuracy: 0.9286 - val_loss: 0.0371 - val_accuracy: 0.7791 - lr: 0.0010 - 9s/epoch - 238ms/step
Epoch 43/50
36/36 - 9s - loss: 0.0120 - accuracy: 0.9281 - val_loss: 0.0369 - val_accuracy: 0.7807 - lr: 0.0010 - 9s/epoch - 238ms/step
Epoch 44/50
36/36 - 9s - loss: 0.0118 - accuracy: 0.9298 - val_loss: 0.0376 - val_accuracy: 0.7772 - lr: 0.0010 - 9s/epoch - 238ms/step
Epoch 45/50
36/36 - 9s - loss: 0.0121 - accuracy: 0.9274 - val_loss: 0.0367 - val_accuracy: 0.7827 - lr: 0.0010 - 9s/epoch - 243ms/step
Epoch 46/50
36/36 - 9s - loss: 0.0120 - accuracy: 0.9286 - val_loss: 0.0375 - val_accuracy: 0.7777 - lr: 0.0010 - 9s/epoch - 237ms/step
Epoch 47/50
36/36 - 9s - loss: 0.0119 - accuracy: 0.9291 - val_loss: 0.0373 - val_accuracy: 0.7786 - lr: 0.0010 - 9s/epoch - 238ms/step
Epoch 48/50
36/36 - 9s - loss: 0.0120 - accuracy: 0.9282 - val_loss: 0.0368 - val_accuracy: 0.7819 - lr: 0.0010 - 9s/epoch - 238ms/step
Epoch 49/50
36/36 - 9s - loss: 0.0118 - accuracy: 0.9292 - val_loss: 0.0374 - val_accuracy: 0.7777 - lr: 0.0010 - 9s/epoch - 238ms/step
Epoch 50/50
36/36 - 9s - loss: 0.0119 - accuracy: 0.9282 - val_loss: 0.0368 - val_accuracy: 0.7817 - lr: 0.0010 - 9s/epoch - 237ms/step
Loss: kullback_leibler_divergence
Epoch number: 25
fitting with batch size: 20
Epoch 1/25
4378/4378 - 77s - loss: 0.6023 - accuracy: 0.8401 - val_loss: 0.6304 - val_accuracy: 0.7979 - lr: 0.0010 - 77s/epoch - 18ms/step
Epoch 2/25
4378/4378 - 75s - loss: 0.5471 - accuracy: 0.8352 - val_loss: 0.6425 - val_accuracy: 0.7852 - lr: 0.0010 - 75s/epoch - 17ms/step
Epoch 3/25
4378/4378 - 75s - loss: 0.5312 - accuracy: 0.8381 - val_loss: 0.6129 - val_accuracy: 0.7850 - lr: 0.0010 - 75s/epoch - 17ms/step
Epoch 4/25
4378/4378 - 75s - loss: 0.5214 - accuracy: 0.8401 - val_loss: 0.6021 - val_accuracy: 0.7959 - lr: 0.0010 - 75s/epoch - 17ms/step
Epoch 5/25
4378/4378 - 74s - loss: 0.5190 - accuracy: 0.8394 - val_loss: 0.6225 - val_accuracy: 0.7901 - lr: 0.0010 - 74s/epoch - 17ms/step
Epoch 6/25
4378/4378 - 75s - loss: 0.5107 - accuracy: 0.8417 - val_loss: 0.6822 - val_accuracy: 0.7677 - lr: 0.0010 - 75s/epoch - 17ms/step
Epoch 7/25
4378/4378 - 75s - loss: 0.5153 - accuracy: 0.8383 - val_loss: 0.6085 - val_accuracy: 0.8039 - lr: 0.0010 - 75s/epoch - 17ms/step
Epoch 8/25
4378/4378 - 74s - loss: 0.5103 - accuracy: 0.8406 - val_loss: 0.7223 - val_accuracy: 0.7487 - lr: 0.0010 - 74s/epoch - 17ms/step
Epoch 9/25
4378/4378 - 75s - loss: 0.5074 - accuracy: 0.8393 - val_loss: 0.5851 - val_accuracy: 0.8097 - lr: 0.0010 - 75s/epoch - 17ms/step
Epoch 10/25
4378/4378 - 75s - loss: 0.5037 - accuracy: 0.8416 - val_loss: 0.6233 - val_accuracy: 0.7884 - lr: 0.0010 - 75s/epoch - 17ms/step
Epoch 11/25
4378/4378 - 75s - loss: 0.5049 - accuracy: 0.8405 - val_loss: 0.6148 - val_accuracy: 0.7993 - lr: 0.0010 - 75s/epoch - 17ms/step
Epoch 12/25
4378/4378 - 75s - loss: 0.5011 - accuracy: 0.8413 - val_loss: 0.5995 - val_accuracy: 0.7931 - lr: 0.0010 - 75s/epoch - 17ms/step
Epoch 13/25
4378/4378 - 75s - loss: 0.4991 - accuracy: 0.8424 - val_loss: 0.5672 - val_accuracy: 0.8119 - lr: 0.0010 - 75s/epoch - 17ms/step
Epoch 14/25
4378/4378 - 75s - loss: 0.4981 - accuracy: 0.8410 - val_loss: 0.6946 - val_accuracy: 0.7612 - lr: 0.0010 - 75s/epoch - 17ms/step
Epoch 15/25
4378/4378 - 75s - loss: 0.5007 - accuracy: 0.8403 - val_loss: 0.6118 - val_accuracy: 0.8069 - lr: 0.0010 - 75s/epoch - 17ms/step
Epoch 16/25
4378/4378 - 74s - loss: 0.4959 - accuracy: 0.8424 - val_loss: 0.6020 - val_accuracy: 0.7960 - lr: 0.0010 - 74s/epoch - 17ms/step
Epoch 17/25
4378/4378 - 75s - loss: 0.4953 - accuracy: 0.8416 - val_loss: 0.5931 - val_accuracy: 0.8179 - lr: 0.0010 - 75s/epoch - 17ms/step
Epoch 18/25
4378/4378 - 75s - loss: 0.4938 - accuracy: 0.8425 - val_loss: 0.5624 - val_accuracy: 0.8124 - lr: 0.0010 - 75s/epoch - 17ms/step
Epoch 19/25
4378/4378 - 75s - loss: 0.4935 - accuracy: 0.8404 - val_loss: 0.5784 - val_accuracy: 0.8103 - lr: 0.0010 - 75s/epoch - 17ms/step
Epoch 20/25
4378/4378 - 75s - loss: 0.4942 - accuracy: 0.8410 - val_loss: 0.7111 - val_accuracy: 0.7529 - lr: 0.0010 - 75s/epoch - 17ms/step
Epoch 21/25
4378/4378 - 75s - loss: 0.4897 - accuracy: 0.8432 - val_loss: 0.6620 - val_accuracy: 0.7710 - lr: 0.0010 - 75s/epoch - 17ms/step
Epoch 22/25
4378/4378 - 74s - loss: 0.4888 - accuracy: 0.8425 - val_loss: 0.6077 - val_accuracy: 0.7918 - lr: 0.0010 - 74s/epoch - 17ms/step
Epoch 23/25
4378/4378 - 74s - loss: 0.4854 - accuracy: 0.8452 - val_loss: 0.6505 - val_accuracy: 0.7828 - lr: 0.0010 - 74s/epoch - 17ms/step
Epoch 24/25
4378/4378 - 75s - loss: 0.4876 - accuracy: 0.8431 - val_loss: 0.6313 - val_accuracy: 0.7777 - lr: 0.0010 - 75s/epoch - 17ms/step
Epoch 25/25
4378/4378 - 74s - loss: 0.4874 - accuracy: 0.8442 - val_loss: 0.6419 - val_accuracy: 0.7835 - lr: 0.0010 - 74s/epoch - 17ms/step
fitting with batch size: 100
Epoch 1/25
876/876 - 21s - loss: 0.4180 - accuracy: 0.8720 - val_loss: 0.5816 - val_accuracy: 0.7958 - lr: 0.0010 - 21s/epoch - 24ms/step
Epoch 2/25
876/876 - 18s - loss: 0.4172 - accuracy: 0.8713 - val_loss: 0.6307 - val_accuracy: 0.7811 - lr: 0.0010 - 18s/epoch - 21ms/step
Epoch 3/25
876/876 - 18s - loss: 0.4141 - accuracy: 0.8720 - val_loss: 0.6550 - val_accuracy: 0.7712 - lr: 0.0010 - 18s/epoch - 21ms/step
Epoch 4/25
876/876 - 18s - loss: 0.4137 - accuracy: 0.8726 - val_loss: 0.6354 - val_accuracy: 0.7762 - lr: 0.0010 - 18s/epoch - 21ms/step
Epoch 5/25
876/876 - 18s - loss: 0.4061 - accuracy: 0.8752 - val_loss: 0.6344 - val_accuracy: 0.7812 - lr: 0.0010 - 18s/epoch - 21ms/step
Epoch 6/25
876/876 - 18s - loss: 0.4027 - accuracy: 0.8755 - val_loss: 0.6348 - val_accuracy: 0.7849 - lr: 0.0010 - 18s/epoch - 21ms/step
Epoch 7/25
876/876 - 18s - loss: 0.4030 - accuracy: 0.8751 - val_loss: 0.7074 - val_accuracy: 0.7594 - lr: 0.0010 - 18s/epoch - 21ms/step
Epoch 8/25
876/876 - 18s - loss: 0.3980 - accuracy: 0.8780 - val_loss: 0.7041 - val_accuracy: 0.7564 - lr: 0.0010 - 18s/epoch - 21ms/step
Epoch 9/25
876/876 - 18s - loss: 0.3943 - accuracy: 0.8782 - val_loss: 0.6908 - val_accuracy: 0.7650 - lr: 0.0010 - 18s/epoch - 21ms/step
Epoch 10/25
876/876 - 18s - loss: 0.3926 - accuracy: 0.8792 - val_loss: 0.6414 - val_accuracy: 0.7817 - lr: 0.0010 - 18s/epoch - 21ms/step
Epoch 11/25
876/876 - 18s - loss: 0.3938 - accuracy: 0.8780 - val_loss: 0.6100 - val_accuracy: 0.7959 - lr: 0.0010 - 18s/epoch - 21ms/step
Epoch 12/25
876/876 - 18s - loss: 0.3899 - accuracy: 0.8804 - val_loss: 0.7138 - val_accuracy: 0.7579 - lr: 0.0010 - 18s/epoch - 21ms/step
Epoch 13/25
876/876 - 18s - loss: 0.3857 - accuracy: 0.8816 - val_loss: 0.6693 - val_accuracy: 0.7773 - lr: 0.0010 - 18s/epoch - 21ms/step
Epoch 14/25
876/876 - 18s - loss: 0.3850 - accuracy: 0.8803 - val_loss: 0.7058 - val_accuracy: 0.7643 - lr: 0.0010 - 18s/epoch - 21ms/step
Epoch 15/25
876/876 - 18s - loss: 0.3828 - accuracy: 0.8824 - val_loss: 0.7371 - val_accuracy: 0.7431 - lr: 0.0010 - 18s/epoch - 21ms/step
Epoch 16/25
876/876 - 18s - loss: 0.3819 - accuracy: 0.8808 - val_loss: 0.7428 - val_accuracy: 0.7474 - lr: 0.0010 - 18s/epoch - 21ms/step
Epoch 17/25
876/876 - 18s - loss: 0.3799 - accuracy: 0.8823 - val_loss: 0.6981 - val_accuracy: 0.7643 - lr: 0.0010 - 18s/epoch - 21ms/step
Epoch 18/25
876/876 - 18s - loss: 0.3763 - accuracy: 0.8833 - val_loss: 0.6770 - val_accuracy: 0.7753 - lr: 0.0010 - 18s/epoch - 21ms/step
Epoch 19/25
876/876 - 18s - loss: 0.3780 - accuracy: 0.8830 - val_loss: 0.6659 - val_accuracy: 0.7768 - lr: 0.0010 - 18s/epoch - 21ms/step
Epoch 20/25
876/876 - 18s - loss: 0.3771 - accuracy: 0.8831 - val_loss: 0.7102 - val_accuracy: 0.7642 - lr: 0.0010 - 18s/epoch - 21ms/step
Epoch 21/25
876/876 - 18s - loss: 0.3745 - accuracy: 0.8825 - val_loss: 0.7344 - val_accuracy: 0.7563 - lr: 0.0010 - 18s/epoch - 21ms/step
Epoch 22/25
876/876 - 18s - loss: 0.3706 - accuracy: 0.8852 - val_loss: 0.6807 - val_accuracy: 0.7729 - lr: 0.0010 - 18s/epoch - 21ms/step
Epoch 23/25
876/876 - 18s - loss: 0.3718 - accuracy: 0.8839 - val_loss: 0.7441 - val_accuracy: 0.7494 - lr: 0.0010 - 18s/epoch - 21ms/step
Epoch 24/25
876/876 - 18s - loss: 0.3713 - accuracy: 0.8849 - val_loss: 0.7568 - val_accuracy: 0.7478 - lr: 0.0010 - 18s/epoch - 21ms/step
Epoch 25/25
876/876 - 18s - loss: 0.3698 - accuracy: 0.8859 - val_loss: 0.7037 - val_accuracy: 0.7628 - lr: 0.0010 - 18s/epoch - 21ms/step
fitting with batch size: 500
Epoch 1/25
176/176 - 12s - loss: 0.3237 - accuracy: 0.9023 - val_loss: 0.7291 - val_accuracy: 0.7575 - lr: 0.0010 - 12s/epoch - 69ms/step
Epoch 2/25
176/176 - 10s - loss: 0.3096 - accuracy: 0.9083 - val_loss: 0.7365 - val_accuracy: 0.7559 - lr: 0.0010 - 10s/epoch - 55ms/step
Epoch 3/25
176/176 - 10s - loss: 0.3058 - accuracy: 0.9090 - val_loss: 0.7197 - val_accuracy: 0.7617 - lr: 0.0010 - 10s/epoch - 55ms/step
Epoch 4/25
176/176 - 10s - loss: 0.3060 - accuracy: 0.9088 - val_loss: 0.7387 - val_accuracy: 0.7550 - lr: 0.0010 - 10s/epoch - 55ms/step
Epoch 5/25
176/176 - 10s - loss: 0.3056 - accuracy: 0.9094 - val_loss: 0.7251 - val_accuracy: 0.7635 - lr: 0.0010 - 10s/epoch - 55ms/step
Epoch 6/25
176/176 - 10s - loss: 0.3056 - accuracy: 0.9086 - val_loss: 0.7570 - val_accuracy: 0.7522 - lr: 0.0010 - 10s/epoch - 55ms/step
Epoch 7/25
176/176 - 10s - loss: 0.3015 - accuracy: 0.9095 - val_loss: 0.7835 - val_accuracy: 0.7450 - lr: 0.0010 - 10s/epoch - 55ms/step
Epoch 8/25
176/176 - 10s - loss: 0.3044 - accuracy: 0.9084 - val_loss: 0.7949 - val_accuracy: 0.7438 - lr: 0.0010 - 10s/epoch - 55ms/step
Epoch 9/25
176/176 - 10s - loss: 0.3032 - accuracy: 0.9083 - val_loss: 0.8164 - val_accuracy: 0.7391 - lr: 0.0010 - 10s/epoch - 55ms/step
Epoch 10/25
176/176 - 10s - loss: 0.2989 - accuracy: 0.9111 - val_loss: 0.7811 - val_accuracy: 0.7489 - lr: 0.0010 - 10s/epoch - 56ms/step
Epoch 11/25
176/176 - 10s - loss: 0.2975 - accuracy: 0.9103 - val_loss: 0.7614 - val_accuracy: 0.7544 - lr: 0.0010 - 10s/epoch - 55ms/step
Epoch 12/25
176/176 - 10s - loss: 0.2976 - accuracy: 0.9108 - val_loss: 0.8219 - val_accuracy: 0.7370 - lr: 0.0010 - 10s/epoch - 55ms/step
Epoch 13/25
176/176 - 10s - loss: 0.2956 - accuracy: 0.9112 - val_loss: 0.8660 - val_accuracy: 0.7188 - lr: 0.0010 - 10s/epoch - 56ms/step
Epoch 14/25
176/176 - 10s - loss: 0.2984 - accuracy: 0.9094 - val_loss: 0.8192 - val_accuracy: 0.7365 - lr: 0.0010 - 10s/epoch - 55ms/step
Epoch 15/25
176/176 - 10s - loss: 0.2931 - accuracy: 0.9114 - val_loss: 0.8085 - val_accuracy: 0.7416 - lr: 0.0010 - 10s/epoch - 55ms/step
Epoch 16/25
176/176 - 10s - loss: 0.2899 - accuracy: 0.9132 - val_loss: 0.8097 - val_accuracy: 0.7413 - lr: 0.0010 - 10s/epoch - 55ms/step
Epoch 17/25
176/176 - 10s - loss: 0.2906 - accuracy: 0.9123 - val_loss: 0.8762 - val_accuracy: 0.7241 - lr: 0.0010 - 10s/epoch - 55ms/step
Epoch 18/25
176/176 - 10s - loss: 0.2854 - accuracy: 0.9146 - val_loss: 0.8546 - val_accuracy: 0.7309 - lr: 0.0010 - 10s/epoch - 55ms/step
Epoch 19/25
176/176 - 10s - loss: 0.2838 - accuracy: 0.9154 - val_loss: 0.8237 - val_accuracy: 0.7417 - lr: 0.0010 - 10s/epoch - 55ms/step
Epoch 20/25
176/176 - 10s - loss: 0.2787 - accuracy: 0.9171 - val_loss: 0.8067 - val_accuracy: 0.7478 - lr: 0.0010 - 10s/epoch - 56ms/step
Epoch 21/25
176/176 - 10s - loss: 0.2819 - accuracy: 0.9157 - val_loss: 0.8373 - val_accuracy: 0.7415 - lr: 0.0010 - 10s/epoch - 55ms/step
Epoch 22/25
176/176 - 10s - loss: 0.2816 - accuracy: 0.9155 - val_loss: 0.9133 - val_accuracy: 0.7160 - lr: 0.0010 - 10s/epoch - 55ms/step
Epoch 23/25
176/176 - 10s - loss: 0.2807 - accuracy: 0.9160 - val_loss: 0.8647 - val_accuracy: 0.7288 - lr: 0.0010 - 10s/epoch - 55ms/step
Epoch 24/25
176/176 - 10s - loss: 0.2813 - accuracy: 0.9150 - val_loss: 0.8546 - val_accuracy: 0.7384 - lr: 0.0010 - 10s/epoch - 55ms/step
Epoch 25/25
176/176 - 10s - loss: 0.2838 - accuracy: 0.9145 - val_loss: 0.8278 - val_accuracy: 0.7402 - lr: 0.0010 - 10s/epoch - 55ms/step
fitting with batch size: 1500
Epoch 1/25
59/59 - 12s - loss: 0.2674 - accuracy: 0.9202 - val_loss: 0.8492 - val_accuracy: 0.7340 - lr: 0.0010 - 12s/epoch - 197ms/step
Epoch 2/25
59/59 - 9s - loss: 0.2565 - accuracy: 0.9235 - val_loss: 0.8684 - val_accuracy: 0.7341 - lr: 0.0010 - 9s/epoch - 156ms/step
Epoch 3/25
59/59 - 9s - loss: 0.2540 - accuracy: 0.9256 - val_loss: 0.8475 - val_accuracy: 0.7399 - lr: 0.0010 - 9s/epoch - 157ms/step
Epoch 4/25
59/59 - 9s - loss: 0.2520 - accuracy: 0.9265 - val_loss: 0.8711 - val_accuracy: 0.7350 - lr: 0.0010 - 9s/epoch - 156ms/step
Epoch 5/25
59/59 - 9s - loss: 0.2511 - accuracy: 0.9254 - val_loss: 0.8685 - val_accuracy: 0.7380 - lr: 0.0010 - 9s/epoch - 157ms/step
Epoch 6/25
59/59 - 9s - loss: 0.2486 - accuracy: 0.9264 - val_loss: 0.8955 - val_accuracy: 0.7275 - lr: 0.0010 - 9s/epoch - 156ms/step
Epoch 7/25
59/59 - 9s - loss: 0.2474 - accuracy: 0.9269 - val_loss: 0.8651 - val_accuracy: 0.7389 - lr: 0.0010 - 9s/epoch - 156ms/step
Epoch 8/25
59/59 - 9s - loss: 0.2490 - accuracy: 0.9265 - val_loss: 0.8971 - val_accuracy: 0.7305 - lr: 0.0010 - 9s/epoch - 157ms/step
Epoch 9/25
59/59 - 9s - loss: 0.2496 - accuracy: 0.9257 - val_loss: 0.9230 - val_accuracy: 0.7239 - lr: 0.0010 - 9s/epoch - 157ms/step
Epoch 10/25
59/59 - 9s - loss: 0.2476 - accuracy: 0.9267 - val_loss: 0.9109 - val_accuracy: 0.7289 - lr: 0.0010 - 9s/epoch - 156ms/step
Epoch 11/25
59/59 - 9s - loss: 0.2491 - accuracy: 0.9258 - val_loss: 0.8622 - val_accuracy: 0.7415 - lr: 0.0010 - 9s/epoch - 157ms/step
Epoch 12/25
59/59 - 9s - loss: 0.2482 - accuracy: 0.9266 - val_loss: 0.8998 - val_accuracy: 0.7285 - lr: 0.0010 - 9s/epoch - 157ms/step
Epoch 13/25
59/59 - 9s - loss: 0.2491 - accuracy: 0.9265 - val_loss: 0.9044 - val_accuracy: 0.7307 - lr: 0.0010 - 9s/epoch - 156ms/step
Epoch 14/25
59/59 - 9s - loss: 0.2508 - accuracy: 0.9251 - val_loss: 0.8831 - val_accuracy: 0.7341 - lr: 0.0010 - 9s/epoch - 157ms/step
Epoch 15/25
59/59 - 9s - loss: 0.2476 - accuracy: 0.9263 - val_loss: 0.9299 - val_accuracy: 0.7210 - lr: 0.0010 - 9s/epoch - 158ms/step
Epoch 16/25
59/59 - 9s - loss: 0.2498 - accuracy: 0.9258 - val_loss: 0.8648 - val_accuracy: 0.7430 - lr: 0.0010 - 9s/epoch - 156ms/step
Epoch 17/25
59/59 - 9s - loss: 0.2493 - accuracy: 0.9259 - val_loss: 0.9117 - val_accuracy: 0.7313 - lr: 0.0010 - 9s/epoch - 155ms/step
Epoch 18/25
59/59 - 9s - loss: 0.2499 - accuracy: 0.9261 - val_loss: 0.9142 - val_accuracy: 0.7278 - lr: 0.0010 - 9s/epoch - 156ms/step
Epoch 19/25
59/59 - 9s - loss: 0.2487 - accuracy: 0.9264 - val_loss: 0.9103 - val_accuracy: 0.7289 - lr: 0.0010 - 9s/epoch - 157ms/step
Epoch 20/25
59/59 - 9s - loss: 0.2501 - accuracy: 0.9249 - val_loss: 0.9026 - val_accuracy: 0.7277 - lr: 0.0010 - 9s/epoch - 156ms/step
Epoch 21/25
59/59 - 9s - loss: 0.2501 - accuracy: 0.9245 - val_loss: 0.8822 - val_accuracy: 0.7340 - lr: 0.0010 - 9s/epoch - 156ms/step
Epoch 22/25
59/59 - 9s - loss: 0.2473 - accuracy: 0.9259 - val_loss: 0.9363 - val_accuracy: 0.7196 - lr: 0.0010 - 9s/epoch - 158ms/step
Epoch 23/25
59/59 - 9s - loss: 0.2459 - accuracy: 0.9272 - val_loss: 0.9213 - val_accuracy: 0.7256 - lr: 0.0010 - 9s/epoch - 156ms/step
Epoch 24/25
59/59 - 9s - loss: 0.2484 - accuracy: 0.9256 - val_loss: 0.9207 - val_accuracy: 0.7265 - lr: 0.0010 - 9s/epoch - 158ms/step
Epoch 25/25
59/59 - 9s - loss: 0.2446 - accuracy: 0.9261 - val_loss: 0.9376 - val_accuracy: 0.7230 - lr: 0.0010 - 9s/epoch - 157ms/step
fitting with batch size: 2500
Epoch 1/25
36/36 - 12s - loss: 0.2413 - accuracy: 0.9282 - val_loss: 0.9446 - val_accuracy: 0.7220 - lr: 0.0010 - 12s/epoch - 321ms/step
Epoch 2/25
36/36 - 9s - loss: 0.2368 - accuracy: 0.9295 - val_loss: 0.9352 - val_accuracy: 0.7263 - lr: 0.0010 - 9s/epoch - 238ms/step
Epoch 3/25
36/36 - 9s - loss: 0.2363 - accuracy: 0.9294 - val_loss: 0.9419 - val_accuracy: 0.7253 - lr: 0.0010 - 9s/epoch - 239ms/step
Epoch 4/25
36/36 - 9s - loss: 0.2302 - accuracy: 0.9314 - val_loss: 0.9496 - val_accuracy: 0.7241 - lr: 0.0010 - 9s/epoch - 238ms/step
Epoch 5/25
36/36 - 9s - loss: 0.2309 - accuracy: 0.9315 - val_loss: 0.9275 - val_accuracy: 0.7275 - lr: 0.0010 - 9s/epoch - 239ms/step
Epoch 6/25
36/36 - 9s - loss: 0.2310 - accuracy: 0.9310 - val_loss: 0.9418 - val_accuracy: 0.7262 - lr: 0.0010 - 9s/epoch - 240ms/step
Epoch 7/25
36/36 - 9s - loss: 0.2308 - accuracy: 0.9317 - val_loss: 0.9561 - val_accuracy: 0.7215 - lr: 0.0010 - 9s/epoch - 240ms/step
Epoch 8/25
36/36 - 9s - loss: 0.2262 - accuracy: 0.9331 - val_loss: 0.9546 - val_accuracy: 0.7210 - lr: 0.0010 - 9s/epoch - 240ms/step
Epoch 9/25
36/36 - 9s - loss: 0.2261 - accuracy: 0.9332 - val_loss: 0.9641 - val_accuracy: 0.7211 - lr: 0.0010 - 9s/epoch - 239ms/step
Epoch 10/25
36/36 - 9s - loss: 0.2239 - accuracy: 0.9333 - val_loss: 0.9484 - val_accuracy: 0.7241 - lr: 0.0010 - 9s/epoch - 241ms/step
Epoch 11/25
36/36 - 9s - loss: 0.2237 - accuracy: 0.9339 - val_loss: 0.9525 - val_accuracy: 0.7243 - lr: 0.0010 - 9s/epoch - 239ms/step
Epoch 12/25
36/36 - 9s - loss: 0.2240 - accuracy: 0.9342 - val_loss: 0.9682 - val_accuracy: 0.7202 - lr: 0.0010 - 9s/epoch - 239ms/step
Epoch 13/25
36/36 - 9s - loss: 0.2250 - accuracy: 0.9333 - val_loss: 0.9518 - val_accuracy: 0.7248 - lr: 0.0010 - 9s/epoch - 239ms/step
Epoch 14/25
36/36 - 9s - loss: 0.2231 - accuracy: 0.9345 - val_loss: 0.9699 - val_accuracy: 0.7189 - lr: 0.0010 - 9s/epoch - 239ms/step
Epoch 15/25
36/36 - 9s - loss: 0.2196 - accuracy: 0.9350 - val_loss: 0.9578 - val_accuracy: 0.7255 - lr: 0.0010 - 9s/epoch - 240ms/step
Epoch 16/25
36/36 - 9s - loss: 0.2204 - accuracy: 0.9349 - val_loss: 0.9509 - val_accuracy: 0.7257 - lr: 0.0010 - 9s/epoch - 239ms/step
Epoch 17/25
36/36 - 9s - loss: 0.2232 - accuracy: 0.9339 - val_loss: 0.9636 - val_accuracy: 0.7216 - lr: 0.0010 - 9s/epoch - 239ms/step
Epoch 18/25
36/36 - 9s - loss: 0.2216 - accuracy: 0.9346 - val_loss: 0.9411 - val_accuracy: 0.7287 - lr: 0.0010 - 9s/epoch - 240ms/step
Epoch 19/25
36/36 - 9s - loss: 0.2231 - accuracy: 0.9334 - val_loss: 0.9622 - val_accuracy: 0.7228 - lr: 0.0010 - 9s/epoch - 239ms/step
Epoch 20/25
36/36 - 9s - loss: 0.2201 - accuracy: 0.9356 - val_loss: 0.9646 - val_accuracy: 0.7256 - lr: 0.0010 - 9s/epoch - 238ms/step
Epoch 21/25
36/36 - 9s - loss: 0.2185 - accuracy: 0.9354 - val_loss: 0.9643 - val_accuracy: 0.7238 - lr: 0.0010 - 9s/epoch - 239ms/step
Epoch 22/25
36/36 - 9s - loss: 0.2171 - accuracy: 0.9359 - val_loss: 0.9690 - val_accuracy: 0.7240 - lr: 0.0010 - 9s/epoch - 239ms/step
Epoch 23/25
36/36 - 9s - loss: 0.2198 - accuracy: 0.9351 - val_loss: 0.9844 - val_accuracy: 0.7189 - lr: 0.0010 - 9s/epoch - 238ms/step
Epoch 24/25
36/36 - 9s - loss: 0.2217 - accuracy: 0.9345 - val_loss: 0.9775 - val_accuracy: 0.7215 - lr: 0.0010 - 9s/epoch - 239ms/step
Epoch 25/25
36/36 - 9s - loss: 0.2179 - accuracy: 0.9361 - val_loss: 0.9743 - val_accuracy: 0.7240 - lr: 0.0010 - 9s/epoch - 240ms/step
Epoch number: 50
fitting with batch size: 20
Epoch 1/50
4378/4378 - 77s - loss: 0.4333 - accuracy: 0.8585 - val_loss: 0.7317 - val_accuracy: 0.7574 - lr: 0.0010 - 77s/epoch - 18ms/step
Epoch 2/50
4378/4378 - 75s - loss: 0.4444 - accuracy: 0.8543 - val_loss: 0.7954 - val_accuracy: 0.7312 - lr: 0.0010 - 75s/epoch - 17ms/step
Epoch 3/50
4378/4378 - 75s - loss: 0.4458 - accuracy: 0.8528 - val_loss: 0.6844 - val_accuracy: 0.7668 - lr: 0.0010 - 75s/epoch - 17ms/step
Epoch 4/50
4378/4378 - 75s - loss: 0.4506 - accuracy: 0.8516 - val_loss: 0.7281 - val_accuracy: 0.7644 - lr: 0.0010 - 75s/epoch - 17ms/step
Epoch 5/50
4378/4378 - 76s - loss: 0.4508 - accuracy: 0.8519 - val_loss: 0.7761 - val_accuracy: 0.7403 - lr: 0.0010 - 76s/epoch - 17ms/step
Epoch 6/50
4378/4378 - 75s - loss: 0.4499 - accuracy: 0.8515 - val_loss: 0.6802 - val_accuracy: 0.7713 - lr: 0.0010 - 75s/epoch - 17ms/step
Epoch 7/50
4378/4378 - 75s - loss: 0.4486 - accuracy: 0.8528 - val_loss: 0.7014 - val_accuracy: 0.7656 - lr: 0.0010 - 75s/epoch - 17ms/step
Epoch 8/50
4378/4378 - 75s - loss: 0.4532 - accuracy: 0.8502 - val_loss: 0.6925 - val_accuracy: 0.7617 - lr: 0.0010 - 75s/epoch - 17ms/step
Epoch 9/50
4378/4378 - 76s - loss: 0.4488 - accuracy: 0.8526 - val_loss: 0.7187 - val_accuracy: 0.7484 - lr: 0.0010 - 76s/epoch - 17ms/step
Epoch 10/50
4378/4378 - 75s - loss: 0.4439 - accuracy: 0.8547 - val_loss: 0.7408 - val_accuracy: 0.7465 - lr: 0.0010 - 75s/epoch - 17ms/step
Epoch 11/50
4378/4378 - 75s - loss: 0.4491 - accuracy: 0.8521 - val_loss: 0.6977 - val_accuracy: 0.7583 - lr: 0.0010 - 75s/epoch - 17ms/step
Epoch 12/50
4378/4378 - 75s - loss: 0.4458 - accuracy: 0.8534 - val_loss: 0.6964 - val_accuracy: 0.7527 - lr: 0.0010 - 75s/epoch - 17ms/step
Epoch 13/50
4378/4378 - 75s - loss: 0.4488 - accuracy: 0.8529 - val_loss: 0.7821 - val_accuracy: 0.7326 - lr: 0.0010 - 75s/epoch - 17ms/step
Epoch 14/50
4378/4378 - 75s - loss: 0.4459 - accuracy: 0.8536 - val_loss: 0.7493 - val_accuracy: 0.7372 - lr: 0.0010 - 75s/epoch - 17ms/step
Epoch 15/50
4378/4378 - 75s - loss: 0.4441 - accuracy: 0.8538 - val_loss: 0.6863 - val_accuracy: 0.7635 - lr: 0.0010 - 75s/epoch - 17ms/step
Epoch 16/50
4378/4378 - 75s - loss: 0.4415 - accuracy: 0.8546 - val_loss: 0.6646 - val_accuracy: 0.7656 - lr: 0.0010 - 75s/epoch - 17ms/step
Epoch 17/50
4378/4378 - 75s - loss: 0.4428 - accuracy: 0.8541 - val_loss: 0.6628 - val_accuracy: 0.7706 - lr: 0.0010 - 75s/epoch - 17ms/step
Epoch 18/50
4378/4378 - 75s - loss: 0.4416 - accuracy: 0.8544 - val_loss: 0.6448 - val_accuracy: 0.7778 - lr: 0.0010 - 75s/epoch - 17ms/step
Epoch 19/50
4378/4378 - 75s - loss: 0.4398 - accuracy: 0.8557 - val_loss: 0.6880 - val_accuracy: 0.7620 - lr: 0.0010 - 75s/epoch - 17ms/step
Epoch 20/50
4378/4378 - 75s - loss: 0.4416 - accuracy: 0.8553 - val_loss: 0.7356 - val_accuracy: 0.7428 - lr: 0.0010 - 75s/epoch - 17ms/step
Epoch 21/50
4378/4378 - 75s - loss: 0.4431 - accuracy: 0.8538 - val_loss: 0.6923 - val_accuracy: 0.7680 - lr: 0.0010 - 75s/epoch - 17ms/step
Epoch 22/50
4378/4378 - 75s - loss: 0.4402 - accuracy: 0.8549 - val_loss: 0.6379 - val_accuracy: 0.7861 - lr: 0.0010 - 75s/epoch - 17ms/step
Epoch 23/50
4378/4378 - 75s - loss: 0.4394 - accuracy: 0.8553 - val_loss: 0.7303 - val_accuracy: 0.7477 - lr: 0.0010 - 75s/epoch - 17ms/step
Epoch 24/50
4378/4378 - 75s - loss: 0.4409 - accuracy: 0.8549 - val_loss: 0.6929 - val_accuracy: 0.7588 - lr: 0.0010 - 75s/epoch - 17ms/step
Epoch 25/50
4378/4378 - 75s - loss: 0.4383 - accuracy: 0.8545 - val_loss: 0.7264 - val_accuracy: 0.7447 - lr: 0.0010 - 75s/epoch - 17ms/step
Epoch 26/50
4378/4378 - 75s - loss: 0.4363 - accuracy: 0.8576 - val_loss: 0.6868 - val_accuracy: 0.7589 - lr: 0.0010 - 75s/epoch - 17ms/step
Epoch 27/50
4378/4378 - 75s - loss: 0.4344 - accuracy: 0.8572 - val_loss: 0.6192 - val_accuracy: 0.7828 - lr: 0.0010 - 75s/epoch - 17ms/step
Epoch 28/50
4378/4378 - 75s - loss: 0.4353 - accuracy: 0.8554 - val_loss: 0.7025 - val_accuracy: 0.7436 - lr: 0.0010 - 75s/epoch - 17ms/step
Epoch 29/50
4378/4378 - 75s - loss: 0.4355 - accuracy: 0.8561 - val_loss: 0.6594 - val_accuracy: 0.7793 - lr: 0.0010 - 75s/epoch - 17ms/step
Epoch 30/50
4378/4378 - 75s - loss: 0.4324 - accuracy: 0.8578 - val_loss: 0.7192 - val_accuracy: 0.7525 - lr: 0.0010 - 75s/epoch - 17ms/step
Epoch 31/50
4378/4378 - 75s - loss: 0.4344 - accuracy: 0.8558 - val_loss: 0.7224 - val_accuracy: 0.7512 - lr: 0.0010 - 75s/epoch - 17ms/step
Epoch 32/50
4378/4378 - 75s - loss: 0.4302 - accuracy: 0.8590 - val_loss: 0.6851 - val_accuracy: 0.7615 - lr: 0.0010 - 75s/epoch - 17ms/step
Epoch 33/50
4378/4378 - 75s - loss: 0.4298 - accuracy: 0.8572 - val_loss: 0.6967 - val_accuracy: 0.7536 - lr: 0.0010 - 75s/epoch - 17ms/step
Epoch 34/50
4378/4378 - 75s - loss: 0.4314 - accuracy: 0.8571 - val_loss: 0.6647 - val_accuracy: 0.7644 - lr: 0.0010 - 75s/epoch - 17ms/step
Epoch 35/50
4378/4378 - 75s - loss: 0.4296 - accuracy: 0.8587 - val_loss: 0.6962 - val_accuracy: 0.7569 - lr: 0.0010 - 75s/epoch - 17ms/step
Epoch 36/50
4378/4378 - 75s - loss: 0.4308 - accuracy: 0.8581 - val_loss: 0.6609 - val_accuracy: 0.7794 - lr: 0.0010 - 75s/epoch - 17ms/step
Epoch 37/50
4378/4378 - 75s - loss: 0.4302 - accuracy: 0.8585 - val_loss: 0.7154 - val_accuracy: 0.7550 - lr: 0.0010 - 75s/epoch - 17ms/step
Epoch 38/50
4378/4378 - 75s - loss: 0.4287 - accuracy: 0.8580 - val_loss: 0.7132 - val_accuracy: 0.7513 - lr: 0.0010 - 75s/epoch - 17ms/step
Epoch 39/50
4378/4378 - 75s - loss: 0.4287 - accuracy: 0.8585 - val_loss: 0.6542 - val_accuracy: 0.7704 - lr: 0.0010 - 75s/epoch - 17ms/step
Epoch 40/50
4378/4378 - 75s - loss: 0.4263 - accuracy: 0.8584 - val_loss: 0.7260 - val_accuracy: 0.7540 - lr: 0.0010 - 75s/epoch - 17ms/step
Epoch 41/50
4378/4378 - 75s - loss: 0.4289 - accuracy: 0.8575 - val_loss: 0.6760 - val_accuracy: 0.7574 - lr: 0.0010 - 75s/epoch - 17ms/step
Epoch 42/50
4378/4378 - 75s - loss: 0.4262 - accuracy: 0.8584 - val_loss: 0.7107 - val_accuracy: 0.7643 - lr: 0.0010 - 75s/epoch - 17ms/step
Epoch 43/50
4378/4378 - 75s - loss: 0.4244 - accuracy: 0.8593 - val_loss: 0.6490 - val_accuracy: 0.7829 - lr: 0.0010 - 75s/epoch - 17ms/step
Epoch 44/50
4378/4378 - 75s - loss: 0.4248 - accuracy: 0.8595 - val_loss: 0.7051 - val_accuracy: 0.7525 - lr: 0.0010 - 75s/epoch - 17ms/step
Epoch 45/50
4378/4378 - 75s - loss: 0.4242 - accuracy: 0.8583 - val_loss: 0.7010 - val_accuracy: 0.7710 - lr: 0.0010 - 75s/epoch - 17ms/step
Epoch 46/50
4378/4378 - 75s - loss: 0.4196 - accuracy: 0.8612 - val_loss: 0.6691 - val_accuracy: 0.7768 - lr: 0.0010 - 75s/epoch - 17ms/step
Epoch 47/50
4378/4378 - 75s - loss: 0.4278 - accuracy: 0.8580 - val_loss: 0.6625 - val_accuracy: 0.7804 - lr: 0.0010 - 75s/epoch - 17ms/step
Epoch 48/50
4378/4378 - 75s - loss: 0.4259 - accuracy: 0.8595 - val_loss: 0.6647 - val_accuracy: 0.7759 - lr: 0.0010 - 75s/epoch - 17ms/step
Epoch 49/50
4378/4378 - 75s - loss: 0.4233 - accuracy: 0.8590 - val_loss: 0.6542 - val_accuracy: 0.7752 - lr: 0.0010 - 75s/epoch - 17ms/step
Epoch 50/50
4378/4378 - 75s - loss: 0.4241 - accuracy: 0.8593 - val_loss: 0.6189 - val_accuracy: 0.7937 - lr: 0.0010 - 75s/epoch - 17ms/step
fitting with batch size: 100
Epoch 1/50
876/876 - 21s - loss: 0.3459 - accuracy: 0.8895 - val_loss: 0.6766 - val_accuracy: 0.7629 - lr: 0.0010 - 21s/epoch - 24ms/step
Epoch 2/50
876/876 - 18s - loss: 0.3473 - accuracy: 0.8873 - val_loss: 0.7103 - val_accuracy: 0.7596 - lr: 0.0010 - 18s/epoch - 21ms/step
Epoch 3/50
876/876 - 18s - loss: 0.3490 - accuracy: 0.8871 - val_loss: 0.7305 - val_accuracy: 0.7417 - lr: 0.0010 - 18s/epoch - 21ms/step
Epoch 4/50
876/876 - 18s - loss: 0.3403 - accuracy: 0.8902 - val_loss: 0.6871 - val_accuracy: 0.7662 - lr: 0.0010 - 18s/epoch - 21ms/step
Epoch 5/50
876/876 - 18s - loss: 0.3360 - accuracy: 0.8908 - val_loss: 0.6815 - val_accuracy: 0.7634 - lr: 0.0010 - 18s/epoch - 21ms/step
Epoch 6/50
876/876 - 18s - loss: 0.3336 - accuracy: 0.8919 - val_loss: 0.6687 - val_accuracy: 0.7703 - lr: 0.0010 - 18s/epoch - 21ms/step
Epoch 7/50
876/876 - 18s - loss: 0.3316 - accuracy: 0.8924 - val_loss: 0.7082 - val_accuracy: 0.7485 - lr: 0.0010 - 18s/epoch - 21ms/step
Epoch 8/50
876/876 - 18s - loss: 0.3292 - accuracy: 0.8935 - val_loss: 0.6979 - val_accuracy: 0.7572 - lr: 0.0010 - 18s/epoch - 21ms/step
Epoch 9/50
876/876 - 18s - loss: 0.3265 - accuracy: 0.8939 - val_loss: 0.6795 - val_accuracy: 0.7720 - lr: 0.0010 - 18s/epoch - 21ms/step
Epoch 10/50
876/876 - 18s - loss: 0.3237 - accuracy: 0.8958 - val_loss: 0.6916 - val_accuracy: 0.7650 - lr: 0.0010 - 18s/epoch - 21ms/step
Epoch 11/50
876/876 - 18s - loss: 0.3239 - accuracy: 0.8957 - val_loss: 0.7528 - val_accuracy: 0.7429 - lr: 0.0010 - 18s/epoch - 21ms/step
Epoch 12/50
876/876 - 18s - loss: 0.3206 - accuracy: 0.8964 - val_loss: 0.7251 - val_accuracy: 0.7507 - lr: 0.0010 - 18s/epoch - 21ms/step
Epoch 13/50
876/876 - 18s - loss: 0.3214 - accuracy: 0.8954 - val_loss: 0.6642 - val_accuracy: 0.7724 - lr: 0.0010 - 18s/epoch - 21ms/step
Epoch 14/50
876/876 - 18s - loss: 0.3175 - accuracy: 0.8978 - val_loss: 0.7147 - val_accuracy: 0.7565 - lr: 0.0010 - 18s/epoch - 21ms/step
Epoch 15/50
876/876 - 18s - loss: 0.3166 - accuracy: 0.8968 - val_loss: 0.7347 - val_accuracy: 0.7516 - lr: 0.0010 - 18s/epoch - 21ms/step
Epoch 16/50
876/876 - 18s - loss: 0.3169 - accuracy: 0.8976 - val_loss: 0.7281 - val_accuracy: 0.7424 - lr: 0.0010 - 18s/epoch - 21ms/step
Epoch 17/50
876/876 - 18s - loss: 0.3139 - accuracy: 0.8975 - val_loss: 0.6711 - val_accuracy: 0.7753 - lr: 0.0010 - 18s/epoch - 21ms/step
Epoch 18/50
876/876 - 18s - loss: 0.3116 - accuracy: 0.9002 - val_loss: 0.7301 - val_accuracy: 0.7554 - lr: 0.0010 - 18s/epoch - 21ms/step
Epoch 19/50
876/876 - 18s - loss: 0.3136 - accuracy: 0.8980 - val_loss: 0.7034 - val_accuracy: 0.7613 - lr: 0.0010 - 18s/epoch - 21ms/step
Epoch 20/50
876/876 - 18s - loss: 0.3117 - accuracy: 0.8991 - val_loss: 0.7239 - val_accuracy: 0.7560 - lr: 0.0010 - 18s/epoch - 21ms/step
Epoch 21/50
876/876 - 18s - loss: 0.3094 - accuracy: 0.8997 - val_loss: 0.7153 - val_accuracy: 0.7576 - lr: 0.0010 - 18s/epoch - 21ms/step
Epoch 22/50
876/876 - 18s - loss: 0.3093 - accuracy: 0.8993 - val_loss: 0.7416 - val_accuracy: 0.7530 - lr: 0.0010 - 18s/epoch - 21ms/step
Epoch 23/50
876/876 - 18s - loss: 0.3112 - accuracy: 0.8987 - val_loss: 0.8068 - val_accuracy: 0.7303 - lr: 0.0010 - 18s/epoch - 21ms/step
Epoch 24/50
876/876 - 18s - loss: 0.3051 - accuracy: 0.9015 - val_loss: 0.7078 - val_accuracy: 0.7593 - lr: 0.0010 - 18s/epoch - 21ms/step
Epoch 25/50
876/876 - 18s - loss: 0.3069 - accuracy: 0.9003 - val_loss: 0.7235 - val_accuracy: 0.7523 - lr: 0.0010 - 18s/epoch - 21ms/step
Epoch 26/50
876/876 - 19s - loss: 0.3063 - accuracy: 0.9006 - val_loss: 0.7474 - val_accuracy: 0.7503 - lr: 0.0010 - 19s/epoch - 21ms/step
Epoch 27/50
876/876 - 19s - loss: 0.3045 - accuracy: 0.9011 - val_loss: 0.7265 - val_accuracy: 0.7556 - lr: 0.0010 - 19s/epoch - 21ms/step
Epoch 28/50
876/876 - 18s - loss: 0.3033 - accuracy: 0.9014 - val_loss: 0.7462 - val_accuracy: 0.7523 - lr: 0.0010 - 18s/epoch - 21ms/step
Epoch 29/50
876/876 - 18s - loss: 0.3017 - accuracy: 0.9016 - val_loss: 0.7556 - val_accuracy: 0.7434 - lr: 0.0010 - 18s/epoch - 21ms/step
Epoch 30/50
876/876 - 18s - loss: 0.3001 - accuracy: 0.9020 - val_loss: 0.8054 - val_accuracy: 0.7346 - lr: 0.0010 - 18s/epoch - 21ms/step
Epoch 31/50
876/876 - 18s - loss: 0.2988 - accuracy: 0.9029 - val_loss: 0.7758 - val_accuracy: 0.7413 - lr: 0.0010 - 18s/epoch - 21ms/step
Epoch 32/50
876/876 - 18s - loss: 0.2976 - accuracy: 0.9038 - val_loss: 0.7493 - val_accuracy: 0.7532 - lr: 0.0010 - 18s/epoch - 21ms/step
Epoch 33/50
876/876 - 18s - loss: 0.2996 - accuracy: 0.9031 - val_loss: 0.7588 - val_accuracy: 0.7511 - lr: 0.0010 - 18s/epoch - 21ms/step
Epoch 34/50
876/876 - 18s - loss: 0.3001 - accuracy: 0.9028 - val_loss: 0.7542 - val_accuracy: 0.7492 - lr: 0.0010 - 18s/epoch - 21ms/step
Epoch 35/50
876/876 - 18s - loss: 0.2978 - accuracy: 0.9038 - val_loss: 0.7105 - val_accuracy: 0.7648 - lr: 0.0010 - 18s/epoch - 21ms/step
Epoch 36/50
876/876 - 18s - loss: 0.2974 - accuracy: 0.9030 - val_loss: 0.7181 - val_accuracy: 0.7595 - lr: 0.0010 - 18s/epoch - 21ms/step
Epoch 37/50
876/876 - 18s - loss: 0.2938 - accuracy: 0.9039 - val_loss: 0.7177 - val_accuracy: 0.7699 - lr: 0.0010 - 18s/epoch - 21ms/step
Epoch 38/50
876/876 - 18s - loss: 0.2947 - accuracy: 0.9041 - val_loss: 0.7515 - val_accuracy: 0.7541 - lr: 0.0010 - 18s/epoch - 21ms/step
Epoch 39/50
876/876 - 18s - loss: 0.2945 - accuracy: 0.9050 - val_loss: 0.7251 - val_accuracy: 0.7591 - lr: 0.0010 - 18s/epoch - 21ms/step
Epoch 40/50
876/876 - 18s - loss: 0.2927 - accuracy: 0.9046 - val_loss: 0.8228 - val_accuracy: 0.7283 - lr: 0.0010 - 18s/epoch - 21ms/step
Epoch 41/50
876/876 - 18s - loss: 0.2938 - accuracy: 0.9039 - val_loss: 0.7893 - val_accuracy: 0.7323 - lr: 0.0010 - 18s/epoch - 21ms/step
Epoch 42/50
876/876 - 18s - loss: 0.2940 - accuracy: 0.9043 - val_loss: 0.7189 - val_accuracy: 0.7653 - lr: 0.0010 - 18s/epoch - 21ms/step
Epoch 43/50
876/876 - 18s - loss: 0.2930 - accuracy: 0.9046 - val_loss: 0.7872 - val_accuracy: 0.7439 - lr: 0.0010 - 18s/epoch - 21ms/step
Epoch 44/50
876/876 - 18s - loss: 0.2921 - accuracy: 0.9043 - val_loss: 0.7738 - val_accuracy: 0.7433 - lr: 0.0010 - 18s/epoch - 21ms/step
Epoch 45/50
876/876 - 18s - loss: 0.2909 - accuracy: 0.9051 - val_loss: 0.8254 - val_accuracy: 0.7292 - lr: 0.0010 - 18s/epoch - 21ms/step
Epoch 46/50
876/876 - 18s - loss: 0.2927 - accuracy: 0.9048 - val_loss: 0.7112 - val_accuracy: 0.7697 - lr: 0.0010 - 18s/epoch - 21ms/step
Epoch 47/50
876/876 - 18s - loss: 0.2882 - accuracy: 0.9062 - val_loss: 0.7468 - val_accuracy: 0.7584 - lr: 0.0010 - 18s/epoch - 21ms/step
Epoch 48/50
876/876 - 18s - loss: 0.2858 - accuracy: 0.9074 - val_loss: 0.7365 - val_accuracy: 0.7571 - lr: 0.0010 - 18s/epoch - 21ms/step
Epoch 49/50
876/876 - 18s - loss: 0.2887 - accuracy: 0.9060 - val_loss: 0.7849 - val_accuracy: 0.7398 - lr: 0.0010 - 18s/epoch - 21ms/step
Epoch 50/50
876/876 - 18s - loss: 0.2850 - accuracy: 0.9066 - val_loss: 0.8046 - val_accuracy: 0.7356 - lr: 0.0010 - 18s/epoch - 21ms/step
fitting with batch size: 500
Epoch 1/50
176/176 - 12s - loss: 0.2401 - accuracy: 0.9236 - val_loss: 0.7840 - val_accuracy: 0.7457 - lr: 0.0010 - 12s/epoch - 69ms/step
Epoch 2/50
176/176 - 10s - loss: 0.2220 - accuracy: 0.9304 - val_loss: 0.7973 - val_accuracy: 0.7496 - lr: 0.0010 - 10s/epoch - 55ms/step
Epoch 3/50
176/176 - 10s - loss: 0.2173 - accuracy: 0.9318 - val_loss: 0.8117 - val_accuracy: 0.7454 - lr: 0.0010 - 10s/epoch - 55ms/step
Epoch 4/50
176/176 - 10s - loss: 0.2196 - accuracy: 0.9305 - val_loss: 0.8538 - val_accuracy: 0.7361 - lr: 0.0010 - 10s/epoch - 55ms/step
Epoch 5/50
176/176 - 10s - loss: 0.2193 - accuracy: 0.9305 - val_loss: 0.8350 - val_accuracy: 0.7405 - lr: 0.0010 - 10s/epoch - 55ms/step
Epoch 6/50
176/176 - 10s - loss: 0.2213 - accuracy: 0.9298 - val_loss: 0.8156 - val_accuracy: 0.7495 - lr: 0.0010 - 10s/epoch - 55ms/step
Epoch 7/50
176/176 - 10s - loss: 0.2227 - accuracy: 0.9290 - val_loss: 0.8338 - val_accuracy: 0.7449 - lr: 0.0010 - 10s/epoch - 55ms/step
Epoch 8/50
176/176 - 10s - loss: 0.2227 - accuracy: 0.9288 - val_loss: 0.8225 - val_accuracy: 0.7525 - lr: 0.0010 - 10s/epoch - 55ms/step
Epoch 9/50
176/176 - 10s - loss: 0.2201 - accuracy: 0.9307 - val_loss: 0.8265 - val_accuracy: 0.7482 - lr: 0.0010 - 10s/epoch - 55ms/step
Epoch 10/50
176/176 - 10s - loss: 0.2186 - accuracy: 0.9293 - val_loss: 0.8163 - val_accuracy: 0.7516 - lr: 0.0010 - 10s/epoch - 55ms/step
Epoch 11/50
176/176 - 10s - loss: 0.2184 - accuracy: 0.9301 - val_loss: 0.8203 - val_accuracy: 0.7495 - lr: 0.0010 - 10s/epoch - 55ms/step
Epoch 12/50
176/176 - 9s - loss: 0.2190 - accuracy: 0.9294 - val_loss: 0.8559 - val_accuracy: 0.7425 - lr: 0.0010 - 9s/epoch - 52ms/step
Epoch 13/50
176/176 - 10s - loss: 0.2203 - accuracy: 0.9298 - val_loss: 0.8900 - val_accuracy: 0.7290 - lr: 0.0010 - 10s/epoch - 55ms/step
Epoch 14/50
176/176 - 10s - loss: 0.2187 - accuracy: 0.9303 - val_loss: 0.8613 - val_accuracy: 0.7356 - lr: 0.0010 - 10s/epoch - 59ms/step
Epoch 15/50
176/176 - 11s - loss: 0.2150 - accuracy: 0.9315 - val_loss: 0.8493 - val_accuracy: 0.7427 - lr: 0.0010 - 11s/epoch - 64ms/step
Epoch 16/50
176/176 - 12s - loss: 0.2150 - accuracy: 0.9313 - val_loss: 0.8948 - val_accuracy: 0.7336 - lr: 0.0010 - 12s/epoch - 66ms/step
Epoch 17/50
176/176 - 12s - loss: 0.2136 - accuracy: 0.9309 - val_loss: 0.8891 - val_accuracy: 0.7346 - lr: 0.0010 - 12s/epoch - 70ms/step
Epoch 18/50
176/176 - 12s - loss: 0.2110 - accuracy: 0.9334 - val_loss: 0.8805 - val_accuracy: 0.7384 - lr: 0.0010 - 12s/epoch - 67ms/step
Epoch 19/50
176/176 - 12s - loss: 0.2107 - accuracy: 0.9327 - val_loss: 0.8911 - val_accuracy: 0.7305 - lr: 0.0010 - 12s/epoch - 66ms/step
Epoch 20/50
176/176 - 11s - loss: 0.2123 - accuracy: 0.9319 - val_loss: 0.8570 - val_accuracy: 0.7465 - lr: 0.0010 - 11s/epoch - 63ms/step
Epoch 21/50
176/176 - 12s - loss: 0.2142 - accuracy: 0.9311 - val_loss: 0.8324 - val_accuracy: 0.7523 - lr: 0.0010 - 12s/epoch - 71ms/step
Epoch 22/50
176/176 - 12s - loss: 0.2108 - accuracy: 0.9329 - val_loss: 0.8672 - val_accuracy: 0.7388 - lr: 0.0010 - 12s/epoch - 68ms/step
Epoch 23/50
176/176 - 12s - loss: 0.2065 - accuracy: 0.9337 - val_loss: 0.8930 - val_accuracy: 0.7421 - lr: 0.0010 - 12s/epoch - 69ms/step
Epoch 24/50
176/176 - 12s - loss: 0.1995 - accuracy: 0.9366 - val_loss: 0.9289 - val_accuracy: 0.7327 - lr: 0.0010 - 12s/epoch - 68ms/step
Epoch 25/50
176/176 - 12s - loss: 0.1971 - accuracy: 0.9374 - val_loss: 0.8982 - val_accuracy: 0.7373 - lr: 0.0010 - 12s/epoch - 68ms/step
Epoch 26/50
176/176 - 12s - loss: 0.1983 - accuracy: 0.9374 - val_loss: 0.8427 - val_accuracy: 0.7541 - lr: 0.0010 - 12s/epoch - 67ms/step
Epoch 27/50
176/176 - 12s - loss: 0.1986 - accuracy: 0.9359 - val_loss: 0.9087 - val_accuracy: 0.7338 - lr: 0.0010 - 12s/epoch - 65ms/step
Epoch 28/50
176/176 - 13s - loss: 0.2011 - accuracy: 0.9354 - val_loss: 0.9233 - val_accuracy: 0.7323 - lr: 0.0010 - 13s/epoch - 72ms/step
Epoch 29/50
176/176 - 12s - loss: 0.2038 - accuracy: 0.9354 - val_loss: 0.8936 - val_accuracy: 0.7374 - lr: 0.0010 - 12s/epoch - 67ms/step
Epoch 30/50
176/176 - 11s - loss: 0.2028 - accuracy: 0.9346 - val_loss: 0.9384 - val_accuracy: 0.7251 - lr: 0.0010 - 11s/epoch - 65ms/step
Epoch 31/50
176/176 - 12s - loss: 0.2059 - accuracy: 0.9340 - val_loss: 0.9404 - val_accuracy: 0.7257 - lr: 0.0010 - 12s/epoch - 66ms/step
Epoch 32/50
176/176 - 13s - loss: 0.2038 - accuracy: 0.9342 - val_loss: 0.8779 - val_accuracy: 0.7449 - lr: 0.0010 - 13s/epoch - 72ms/step
Epoch 33/50
176/176 - 13s - loss: 0.2029 - accuracy: 0.9343 - val_loss: 0.8976 - val_accuracy: 0.7358 - lr: 0.0010 - 13s/epoch - 72ms/step
Epoch 34/50
176/176 - 12s - loss: 0.2020 - accuracy: 0.9355 - val_loss: 0.9309 - val_accuracy: 0.7314 - lr: 0.0010 - 12s/epoch - 69ms/step
Epoch 35/50
176/176 - 12s - loss: 0.2006 - accuracy: 0.9345 - val_loss: 0.9770 - val_accuracy: 0.7179 - lr: 0.0010 - 12s/epoch - 68ms/step
Epoch 36/50
176/176 - 12s - loss: 0.2009 - accuracy: 0.9349 - val_loss: 0.9099 - val_accuracy: 0.7334 - lr: 0.0010 - 12s/epoch - 70ms/step
Epoch 37/50
176/176 - 12s - loss: 0.1983 - accuracy: 0.9360 - val_loss: 0.9056 - val_accuracy: 0.7378 - lr: 0.0010 - 12s/epoch - 69ms/step
Epoch 38/50
176/176 - 12s - loss: 0.1977 - accuracy: 0.9359 - val_loss: 0.8896 - val_accuracy: 0.7491 - lr: 0.0010 - 12s/epoch - 71ms/step
Epoch 39/50
176/176 - 13s - loss: 0.1935 - accuracy: 0.9385 - val_loss: 0.9497 - val_accuracy: 0.7273 - lr: 0.0010 - 13s/epoch - 74ms/step
Epoch 40/50
176/176 - 13s - loss: 0.1944 - accuracy: 0.9380 - val_loss: 0.9200 - val_accuracy: 0.7343 - lr: 0.0010 - 13s/epoch - 74ms/step
Epoch 41/50
176/176 - 12s - loss: 0.1914 - accuracy: 0.9389 - val_loss: 0.9677 - val_accuracy: 0.7260 - lr: 0.0010 - 12s/epoch - 71ms/step
Epoch 42/50
176/176 - 13s - loss: 0.2000 - accuracy: 0.9347 - val_loss: 0.9541 - val_accuracy: 0.7280 - lr: 0.0010 - 13s/epoch - 73ms/step
Epoch 43/50
176/176 - 13s - loss: 0.1987 - accuracy: 0.9351 - val_loss: 0.9536 - val_accuracy: 0.7286 - lr: 0.0010 - 13s/epoch - 71ms/step
Epoch 44/50
176/176 - 13s - loss: 0.1981 - accuracy: 0.9355 - val_loss: 0.9195 - val_accuracy: 0.7391 - lr: 0.0010 - 13s/epoch - 71ms/step
Epoch 45/50
176/176 - 11s - loss: 0.2021 - accuracy: 0.9346 - val_loss: 0.9288 - val_accuracy: 0.7319 - lr: 0.0010 - 11s/epoch - 61ms/step
Epoch 46/50
176/176 - 10s - loss: 0.1973 - accuracy: 0.9365 - val_loss: 0.8838 - val_accuracy: 0.7460 - lr: 0.0010 - 10s/epoch - 59ms/step
Epoch 47/50
176/176 - 11s - loss: 0.2010 - accuracy: 0.9347 - val_loss: 0.9361 - val_accuracy: 0.7337 - lr: 0.0010 - 11s/epoch - 60ms/step
Epoch 48/50
176/176 - 12s - loss: 0.1996 - accuracy: 0.9358 - val_loss: 0.9457 - val_accuracy: 0.7289 - lr: 0.0010 - 12s/epoch - 67ms/step
Epoch 49/50
176/176 - 13s - loss: 0.1954 - accuracy: 0.9373 - val_loss: 0.9665 - val_accuracy: 0.7239 - lr: 0.0010 - 13s/epoch - 75ms/step
Epoch 50/50
176/176 - 13s - loss: 0.1950 - accuracy: 0.9370 - val_loss: 0.9489 - val_accuracy: 0.7330 - lr: 0.0010 - 13s/epoch - 74ms/step
fitting with batch size: 1500
Epoch 1/50
59/59 - 19s - loss: 0.1779 - accuracy: 0.9434 - val_loss: 0.9584 - val_accuracy: 0.7308 - lr: 0.0010 - 19s/epoch - 329ms/step
Epoch 2/50
59/59 - 11s - loss: 0.1675 - accuracy: 0.9472 - val_loss: 0.9593 - val_accuracy: 0.7338 - lr: 0.0010 - 11s/epoch - 193ms/step
Epoch 3/50
59/59 - 11s - loss: 0.1657 - accuracy: 0.9478 - val_loss: 0.9430 - val_accuracy: 0.7389 - lr: 0.0010 - 11s/epoch - 187ms/step
Epoch 4/50
59/59 - 12s - loss: 0.1642 - accuracy: 0.9480 - val_loss: 0.9703 - val_accuracy: 0.7359 - lr: 0.0010 - 12s/epoch - 201ms/step
Epoch 5/50
59/59 - 12s - loss: 0.1610 - accuracy: 0.9492 - val_loss: 0.9835 - val_accuracy: 0.7350 - lr: 0.0010 - 12s/epoch - 198ms/step
Epoch 6/50
59/59 - 11s - loss: 0.1624 - accuracy: 0.9488 - val_loss: 1.0004 - val_accuracy: 0.7272 - lr: 0.0010 - 11s/epoch - 193ms/step
Epoch 7/50
59/59 - 11s - loss: 0.1628 - accuracy: 0.9489 - val_loss: 1.0154 - val_accuracy: 0.7247 - lr: 0.0010 - 11s/epoch - 192ms/step
Epoch 8/50
59/59 - 12s - loss: 0.1627 - accuracy: 0.9491 - val_loss: 1.0012 - val_accuracy: 0.7271 - lr: 0.0010 - 12s/epoch - 195ms/step
Epoch 9/50
59/59 - 11s - loss: 0.1648 - accuracy: 0.9490 - val_loss: 1.0197 - val_accuracy: 0.7274 - lr: 0.0010 - 11s/epoch - 193ms/step
Epoch 10/50
59/59 - 12s - loss: 0.1657 - accuracy: 0.9482 - val_loss: 0.9877 - val_accuracy: 0.7349 - lr: 0.0010 - 12s/epoch - 199ms/step
Epoch 11/50
59/59 - 12s - loss: 0.1665 - accuracy: 0.9480 - val_loss: 1.0262 - val_accuracy: 0.7275 - lr: 0.0010 - 12s/epoch - 203ms/step
Epoch 12/50
59/59 - 12s - loss: 0.1699 - accuracy: 0.9461 - val_loss: 1.0316 - val_accuracy: 0.7261 - lr: 0.0010 - 12s/epoch - 207ms/step
Epoch 13/50
59/59 - 12s - loss: 0.1700 - accuracy: 0.9456 - val_loss: 1.0225 - val_accuracy: 0.7296 - lr: 0.0010 - 12s/epoch - 204ms/step
Epoch 14/50
59/59 - 12s - loss: 0.1691 - accuracy: 0.9472 - val_loss: 1.0011 - val_accuracy: 0.7348 - lr: 0.0010 - 12s/epoch - 209ms/step
Epoch 15/50
59/59 - 12s - loss: 0.1659 - accuracy: 0.9474 - val_loss: 1.0139 - val_accuracy: 0.7289 - lr: 0.0010 - 12s/epoch - 198ms/step
Epoch 16/50
59/59 - 12s - loss: 0.1690 - accuracy: 0.9465 - val_loss: 0.9788 - val_accuracy: 0.7375 - lr: 0.0010 - 12s/epoch - 202ms/step
Epoch 17/50
59/59 - 12s - loss: 0.1684 - accuracy: 0.9460 - val_loss: 1.0193 - val_accuracy: 0.7308 - lr: 0.0010 - 12s/epoch - 206ms/step
Epoch 18/50
59/59 - 12s - loss: 0.1678 - accuracy: 0.9469 - val_loss: 1.0211 - val_accuracy: 0.7273 - lr: 0.0010 - 12s/epoch - 196ms/step
Epoch 19/50
59/59 - 12s - loss: 0.1699 - accuracy: 0.9458 - val_loss: 0.9972 - val_accuracy: 0.7323 - lr: 0.0010 - 12s/epoch - 200ms/step
Epoch 20/50
59/59 - 12s - loss: 0.1680 - accuracy: 0.9464 - val_loss: 1.0381 - val_accuracy: 0.7208 - lr: 0.0010 - 12s/epoch - 203ms/step
Epoch 21/50
59/59 - 12s - loss: 0.1680 - accuracy: 0.9472 - val_loss: 1.0131 - val_accuracy: 0.7275 - lr: 0.0010 - 12s/epoch - 200ms/step
Epoch 22/50
59/59 - 12s - loss: 0.1664 - accuracy: 0.9472 - val_loss: 0.9772 - val_accuracy: 0.7420 - lr: 0.0010 - 12s/epoch - 206ms/step
Epoch 23/50
59/59 - 12s - loss: 0.1688 - accuracy: 0.9463 - val_loss: 0.9818 - val_accuracy: 0.7359 - lr: 0.0010 - 12s/epoch - 199ms/step
Epoch 24/50
59/59 - 12s - loss: 0.1693 - accuracy: 0.9454 - val_loss: 1.0336 - val_accuracy: 0.7225 - lr: 0.0010 - 12s/epoch - 203ms/step
Epoch 25/50
59/59 - 12s - loss: 0.1655 - accuracy: 0.9474 - val_loss: 0.9939 - val_accuracy: 0.7386 - lr: 0.0010 - 12s/epoch - 203ms/step
Epoch 26/50
59/59 - 12s - loss: 0.1677 - accuracy: 0.9472 - val_loss: 1.0329 - val_accuracy: 0.7291 - lr: 0.0010 - 12s/epoch - 203ms/step
Epoch 27/50
59/59 - 12s - loss: 0.1673 - accuracy: 0.9468 - val_loss: 1.0434 - val_accuracy: 0.7211 - lr: 0.0010 - 12s/epoch - 199ms/step
Epoch 28/50
59/59 - 12s - loss: 0.1684 - accuracy: 0.9462 - val_loss: 1.0355 - val_accuracy: 0.7241 - lr: 0.0010 - 12s/epoch - 201ms/step
Epoch 29/50
59/59 - 12s - loss: 0.1695 - accuracy: 0.9464 - val_loss: 1.0240 - val_accuracy: 0.7267 - lr: 0.0010 - 12s/epoch - 202ms/step
Epoch 30/50
59/59 - 12s - loss: 0.1654 - accuracy: 0.9478 - val_loss: 1.0326 - val_accuracy: 0.7269 - lr: 0.0010 - 12s/epoch - 203ms/step
Epoch 31/50
59/59 - 12s - loss: 0.1656 - accuracy: 0.9465 - val_loss: 1.0187 - val_accuracy: 0.7312 - lr: 0.0010 - 12s/epoch - 207ms/step
Epoch 32/50
59/59 - 12s - loss: 0.1654 - accuracy: 0.9473 - val_loss: 1.0124 - val_accuracy: 0.7328 - lr: 0.0010 - 12s/epoch - 204ms/step
Epoch 33/50
59/59 - 12s - loss: 0.1650 - accuracy: 0.9473 - val_loss: 0.9985 - val_accuracy: 0.7341 - lr: 0.0010 - 12s/epoch - 198ms/step
Epoch 34/50
59/59 - 11s - loss: 0.1643 - accuracy: 0.9480 - val_loss: 1.0295 - val_accuracy: 0.7264 - lr: 0.0010 - 11s/epoch - 189ms/step
Epoch 35/50
59/59 - 11s - loss: 0.1650 - accuracy: 0.9475 - val_loss: 1.0554 - val_accuracy: 0.7236 - lr: 0.0010 - 11s/epoch - 195ms/step
Epoch 36/50
59/59 - 11s - loss: 0.1669 - accuracy: 0.9469 - val_loss: 1.0728 - val_accuracy: 0.7178 - lr: 0.0010 - 11s/epoch - 191ms/step
Epoch 37/50
59/59 - 12s - loss: 0.1624 - accuracy: 0.9482 - val_loss: 1.0186 - val_accuracy: 0.7269 - lr: 0.0010 - 12s/epoch - 203ms/step
Epoch 38/50
59/59 - 12s - loss: 0.1645 - accuracy: 0.9477 - val_loss: 1.0368 - val_accuracy: 0.7260 - lr: 0.0010 - 12s/epoch - 204ms/step
Epoch 39/50
59/59 - 12s - loss: 0.1614 - accuracy: 0.9489 - val_loss: 1.0101 - val_accuracy: 0.7358 - lr: 0.0010 - 12s/epoch - 204ms/step
Epoch 40/50
59/59 - 12s - loss: 0.1644 - accuracy: 0.9480 - val_loss: 1.0363 - val_accuracy: 0.7257 - lr: 0.0010 - 12s/epoch - 203ms/step
Epoch 41/50
59/59 - 12s - loss: 0.1670 - accuracy: 0.9473 - val_loss: 1.0227 - val_accuracy: 0.7259 - lr: 0.0010 - 12s/epoch - 204ms/step
Epoch 42/50
59/59 - 12s - loss: 0.1654 - accuracy: 0.9472 - val_loss: 1.0539 - val_accuracy: 0.7209 - lr: 0.0010 - 12s/epoch - 206ms/step
Epoch 43/50
59/59 - 12s - loss: 0.1618 - accuracy: 0.9486 - val_loss: 1.0824 - val_accuracy: 0.7163 - lr: 0.0010 - 12s/epoch - 196ms/step
Epoch 44/50
59/59 - 12s - loss: 0.1654 - accuracy: 0.9473 - val_loss: 1.0590 - val_accuracy: 0.7221 - lr: 0.0010 - 12s/epoch - 211ms/step
Epoch 45/50
59/59 - 12s - loss: 0.1636 - accuracy: 0.9481 - val_loss: 1.0609 - val_accuracy: 0.7182 - lr: 0.0010 - 12s/epoch - 199ms/step
Epoch 46/50
59/59 - 12s - loss: 0.1631 - accuracy: 0.9481 - val_loss: 1.0466 - val_accuracy: 0.7248 - lr: 0.0010 - 12s/epoch - 198ms/step
Epoch 47/50
59/59 - 12s - loss: 0.1628 - accuracy: 0.9486 - val_loss: 1.0614 - val_accuracy: 0.7163 - lr: 0.0010 - 12s/epoch - 196ms/step
Epoch 48/50
59/59 - 12s - loss: 0.1643 - accuracy: 0.9470 - val_loss: 1.0456 - val_accuracy: 0.7233 - lr: 0.0010 - 12s/epoch - 196ms/step
Epoch 49/50
59/59 - 12s - loss: 0.1633 - accuracy: 0.9482 - val_loss: 1.0503 - val_accuracy: 0.7261 - lr: 0.0010 - 12s/epoch - 200ms/step
Epoch 50/50
59/59 - 12s - loss: 0.1622 - accuracy: 0.9489 - val_loss: 1.0766 - val_accuracy: 0.7185 - lr: 0.0010 - 12s/epoch - 209ms/step
fitting with batch size: 2500
Epoch 1/50
36/36 - 15s - loss: 0.1564 - accuracy: 0.9503 - val_loss: 1.0385 - val_accuracy: 0.7285 - lr: 0.0010 - 15s/epoch - 407ms/step
Epoch 2/50
36/36 - 11s - loss: 0.1519 - accuracy: 0.9522 - val_loss: 1.0452 - val_accuracy: 0.7263 - lr: 0.0010 - 11s/epoch - 311ms/step
Epoch 3/50
36/36 - 12s - loss: 0.1534 - accuracy: 0.9523 - val_loss: 1.0385 - val_accuracy: 0.7304 - lr: 0.0010 - 12s/epoch - 321ms/step
Epoch 4/50
36/36 - 12s - loss: 0.1449 - accuracy: 0.9544 - val_loss: 1.0592 - val_accuracy: 0.7256 - lr: 0.0010 - 12s/epoch - 333ms/step
Epoch 5/50
36/36 - 13s - loss: 0.1471 - accuracy: 0.9536 - val_loss: 1.0452 - val_accuracy: 0.7289 - lr: 0.0010 - 13s/epoch - 349ms/step
Epoch 6/50
36/36 - 12s - loss: 0.1472 - accuracy: 0.9542 - val_loss: 1.0749 - val_accuracy: 0.7249 - lr: 0.0010 - 12s/epoch - 335ms/step
Epoch 7/50
36/36 - 12s - loss: 0.1488 - accuracy: 0.9531 - val_loss: 1.0603 - val_accuracy: 0.7272 - lr: 0.0010 - 12s/epoch - 329ms/step
Epoch 8/50
36/36 - 12s - loss: 0.1481 - accuracy: 0.9535 - val_loss: 1.0753 - val_accuracy: 0.7235 - lr: 0.0010 - 12s/epoch - 320ms/step
Epoch 9/50
36/36 - 11s - loss: 0.1423 - accuracy: 0.9553 - val_loss: 1.0751 - val_accuracy: 0.7221 - lr: 0.0010 - 11s/epoch - 319ms/step
Epoch 10/50
36/36 - 11s - loss: 0.1416 - accuracy: 0.9555 - val_loss: 1.0803 - val_accuracy: 0.7257 - lr: 0.0010 - 11s/epoch - 313ms/step
Epoch 11/50
36/36 - 12s - loss: 0.1393 - accuracy: 0.9569 - val_loss: 1.0665 - val_accuracy: 0.7283 - lr: 0.0010 - 12s/epoch - 335ms/step
Epoch 12/50
36/36 - 12s - loss: 0.1435 - accuracy: 0.9555 - val_loss: 1.0712 - val_accuracy: 0.7280 - lr: 0.0010 - 12s/epoch - 330ms/step
Epoch 13/50
36/36 - 12s - loss: 0.1422 - accuracy: 0.9555 - val_loss: 1.0605 - val_accuracy: 0.7318 - lr: 0.0010 - 12s/epoch - 326ms/step
Epoch 14/50
36/36 - 12s - loss: 0.1401 - accuracy: 0.9569 - val_loss: 1.0847 - val_accuracy: 0.7239 - lr: 0.0010 - 12s/epoch - 320ms/step
Epoch 15/50
36/36 - 12s - loss: 0.1382 - accuracy: 0.9573 - val_loss: 1.0936 - val_accuracy: 0.7245 - lr: 0.0010 - 12s/epoch - 322ms/step
Epoch 16/50
36/36 - 11s - loss: 0.1395 - accuracy: 0.9572 - val_loss: 1.0844 - val_accuracy: 0.7254 - lr: 0.0010 - 11s/epoch - 315ms/step
Epoch 17/50
36/36 - 12s - loss: 0.1375 - accuracy: 0.9573 - val_loss: 1.0983 - val_accuracy: 0.7251 - lr: 0.0010 - 12s/epoch - 325ms/step
Epoch 18/50
36/36 - 12s - loss: 0.1388 - accuracy: 0.9562 - val_loss: 1.0814 - val_accuracy: 0.7277 - lr: 0.0010 - 12s/epoch - 325ms/step
Epoch 19/50
36/36 - 12s - loss: 0.1394 - accuracy: 0.9567 - val_loss: 1.1024 - val_accuracy: 0.7240 - lr: 0.0010 - 12s/epoch - 331ms/step
Epoch 20/50
36/36 - 12s - loss: 0.1382 - accuracy: 0.9572 - val_loss: 1.1015 - val_accuracy: 0.7252 - lr: 0.0010 - 12s/epoch - 321ms/step
Epoch 21/50
36/36 - 11s - loss: 0.1391 - accuracy: 0.9566 - val_loss: 1.0987 - val_accuracy: 0.7267 - lr: 0.0010 - 11s/epoch - 302ms/step
Epoch 22/50
36/36 - 12s - loss: 0.1389 - accuracy: 0.9563 - val_loss: 1.0900 - val_accuracy: 0.7286 - lr: 0.0010 - 12s/epoch - 323ms/step
Epoch 23/50
36/36 - 12s - loss: 0.1386 - accuracy: 0.9571 - val_loss: 1.1027 - val_accuracy: 0.7236 - lr: 0.0010 - 12s/epoch - 332ms/step
Epoch 24/50
36/36 - 12s - loss: 0.1352 - accuracy: 0.9580 - val_loss: 1.0945 - val_accuracy: 0.7268 - lr: 0.0010 - 12s/epoch - 325ms/step
Epoch 25/50
36/36 - 12s - loss: 0.1360 - accuracy: 0.9580 - val_loss: 1.1075 - val_accuracy: 0.7263 - lr: 0.0010 - 12s/epoch - 336ms/step
Epoch 26/50
36/36 - 12s - loss: 0.1356 - accuracy: 0.9581 - val_loss: 1.1199 - val_accuracy: 0.7208 - lr: 0.0010 - 12s/epoch - 332ms/step
Epoch 27/50
36/36 - 12s - loss: 0.1352 - accuracy: 0.9580 - val_loss: 1.1009 - val_accuracy: 0.7281 - lr: 0.0010 - 12s/epoch - 337ms/step
Epoch 28/50
36/36 - 12s - loss: 0.1363 - accuracy: 0.9582 - val_loss: 1.1225 - val_accuracy: 0.7230 - lr: 0.0010 - 12s/epoch - 330ms/step
Epoch 29/50
36/36 - 12s - loss: 0.1335 - accuracy: 0.9583 - val_loss: 1.1167 - val_accuracy: 0.7237 - lr: 0.0010 - 12s/epoch - 323ms/step
Epoch 30/50
36/36 - 12s - loss: 0.1377 - accuracy: 0.9566 - val_loss: 1.1067 - val_accuracy: 0.7286 - lr: 0.0010 - 12s/epoch - 321ms/step
Epoch 31/50
36/36 - 11s - loss: 0.1371 - accuracy: 0.9576 - val_loss: 1.0993 - val_accuracy: 0.7290 - lr: 0.0010 - 11s/epoch - 317ms/step
Epoch 32/50
36/36 - 12s - loss: 0.1370 - accuracy: 0.9575 - val_loss: 1.0905 - val_accuracy: 0.7329 - lr: 0.0010 - 12s/epoch - 322ms/step
Epoch 33/50
36/36 - 9s - loss: 0.1352 - accuracy: 0.9577 - val_loss: 1.1032 - val_accuracy: 0.7294 - lr: 0.0010 - 9s/epoch - 247ms/step
Epoch 34/50
36/36 - 11s - loss: 0.1327 - accuracy: 0.9587 - val_loss: 1.1305 - val_accuracy: 0.7247 - lr: 0.0010 - 11s/epoch - 294ms/step
Epoch 35/50
36/36 - 12s - loss: 0.1367 - accuracy: 0.9571 - val_loss: 1.1234 - val_accuracy: 0.7258 - lr: 0.0010 - 12s/epoch - 325ms/step
Epoch 36/50
36/36 - 12s - loss: 0.1375 - accuracy: 0.9572 - val_loss: 1.1252 - val_accuracy: 0.7249 - lr: 0.0010 - 12s/epoch - 324ms/step
Epoch 37/50
36/36 - 11s - loss: 0.1329 - accuracy: 0.9595 - val_loss: 1.1188 - val_accuracy: 0.7258 - lr: 0.0010 - 11s/epoch - 319ms/step
Epoch 38/50
36/36 - 12s - loss: 0.1355 - accuracy: 0.9579 - val_loss: 1.1192 - val_accuracy: 0.7256 - lr: 0.0010 - 12s/epoch - 331ms/step
Epoch 39/50
36/36 - 12s - loss: 0.1367 - accuracy: 0.9576 - val_loss: 1.1147 - val_accuracy: 0.7282 - lr: 0.0010 - 12s/epoch - 334ms/step
Epoch 40/50
36/36 - 11s - loss: 0.1331 - accuracy: 0.9589 - val_loss: 1.1400 - val_accuracy: 0.7218 - lr: 0.0010 - 11s/epoch - 319ms/step
Epoch 41/50
36/36 - 11s - loss: 0.1313 - accuracy: 0.9593 - val_loss: 1.1343 - val_accuracy: 0.7240 - lr: 0.0010 - 11s/epoch - 312ms/step
Epoch 42/50
36/36 - 11s - loss: 0.1321 - accuracy: 0.9595 - val_loss: 1.1418 - val_accuracy: 0.7239 - lr: 0.0010 - 11s/epoch - 313ms/step
Epoch 43/50
36/36 - 11s - loss: 0.1341 - accuracy: 0.9582 - val_loss: 1.1378 - val_accuracy: 0.7240 - lr: 0.0010 - 11s/epoch - 319ms/step
Epoch 44/50
36/36 - 10s - loss: 0.1394 - accuracy: 0.9565 - val_loss: 1.1373 - val_accuracy: 0.7221 - lr: 0.0010 - 10s/epoch - 290ms/step
Epoch 45/50
36/36 - 11s - loss: 0.1355 - accuracy: 0.9578 - val_loss: 1.1473 - val_accuracy: 0.7217 - lr: 0.0010 - 11s/epoch - 300ms/step
Epoch 46/50
36/36 - 11s - loss: 0.1366 - accuracy: 0.9577 - val_loss: 1.1254 - val_accuracy: 0.7270 - lr: 0.0010 - 11s/epoch - 304ms/step
Epoch 47/50
36/36 - 11s - loss: 0.1354 - accuracy: 0.9583 - val_loss: 1.1319 - val_accuracy: 0.7262 - lr: 0.0010 - 11s/epoch - 304ms/step
Epoch 48/50
36/36 - 11s - loss: 0.1369 - accuracy: 0.9577 - val_loss: 1.1244 - val_accuracy: 0.7258 - lr: 0.0010 - 11s/epoch - 311ms/step
Epoch 49/50
36/36 - 12s - loss: 0.1398 - accuracy: 0.9567 - val_loss: 1.1213 - val_accuracy: 0.7271 - lr: 0.0010 - 12s/epoch - 325ms/step
Epoch 50/50
36/36 - 12s - loss: 0.1378 - accuracy: 0.9570 - val_loss: 1.1085 - val_accuracy: 0.7282 - lr: 0.0010 - 12s/epoch - 323ms/step
Loss: poisson
Epoch number: 25
fitting with batch size: 20
Epoch 1/25
4378/4378 - 96s - loss: 0.2751 - accuracy: 0.8758 - val_loss: 0.3634 - val_accuracy: 0.7257 - lr: 0.0010 - 96s/epoch - 22ms/step
Epoch 2/25
4378/4378 - 93s - loss: 0.2766 - accuracy: 0.8697 - val_loss: 0.3630 - val_accuracy: 0.7084 - lr: 0.0010 - 93s/epoch - 21ms/step
Epoch 3/25
4378/4378 - 93s - loss: 0.2774 - accuracy: 0.8679 - val_loss: 0.3318 - val_accuracy: 0.7837 - lr: 0.0010 - 93s/epoch - 21ms/step
Epoch 4/25
4378/4378 - 94s - loss: 0.2781 - accuracy: 0.8675 - val_loss: 0.3379 - val_accuracy: 0.7583 - lr: 0.0010 - 94s/epoch - 21ms/step
Epoch 5/25
4378/4378 - 90s - loss: 0.2770 - accuracy: 0.8695 - val_loss: 0.3408 - val_accuracy: 0.7581 - lr: 0.0010 - 90s/epoch - 21ms/step
Epoch 6/25
4378/4378 - 86s - loss: 0.2770 - accuracy: 0.8688 - val_loss: 0.3404 - val_accuracy: 0.7527 - lr: 0.0010 - 86s/epoch - 20ms/step
Epoch 7/25
4378/4378 - 85s - loss: 0.2771 - accuracy: 0.8695 - val_loss: 0.3479 - val_accuracy: 0.7450 - lr: 0.0010 - 85s/epoch - 19ms/step
Epoch 8/25
4378/4378 - 84s - loss: 0.2784 - accuracy: 0.8671 - val_loss: 0.3277 - val_accuracy: 0.7894 - lr: 0.0010 - 84s/epoch - 19ms/step
Epoch 9/25
4378/4378 - 85s - loss: 0.2771 - accuracy: 0.8691 - val_loss: 0.3439 - val_accuracy: 0.7487 - lr: 0.0010 - 85s/epoch - 19ms/step
Epoch 10/25
4378/4378 - 86s - loss: 0.2778 - accuracy: 0.8689 - val_loss: 0.3289 - val_accuracy: 0.7780 - lr: 0.0010 - 86s/epoch - 20ms/step
Epoch 11/25
4378/4378 - 86s - loss: 0.2775 - accuracy: 0.8680 - val_loss: 0.3551 - val_accuracy: 0.7351 - lr: 0.0010 - 86s/epoch - 20ms/step
Epoch 12/25
4378/4378 - 88s - loss: 0.2761 - accuracy: 0.8713 - val_loss: 0.3510 - val_accuracy: 0.7433 - lr: 0.0010 - 88s/epoch - 20ms/step
Epoch 13/25
4378/4378 - 82s - loss: 0.2771 - accuracy: 0.8698 - val_loss: 0.3374 - val_accuracy: 0.7590 - lr: 0.0010 - 82s/epoch - 19ms/step
Epoch 14/25
4378/4378 - 80s - loss: 0.2763 - accuracy: 0.8700 - val_loss: 0.3485 - val_accuracy: 0.7421 - lr: 0.0010 - 80s/epoch - 18ms/step
Epoch 15/25
4378/4378 - 85s - loss: 0.2770 - accuracy: 0.8701 - val_loss: 0.3209 - val_accuracy: 0.7975 - lr: 0.0010 - 85s/epoch - 19ms/step
Epoch 16/25
4378/4378 - 86s - loss: 0.2753 - accuracy: 0.8724 - val_loss: 0.3333 - val_accuracy: 0.7670 - lr: 0.0010 - 86s/epoch - 20ms/step
Epoch 17/25
4378/4378 - 88s - loss: 0.2758 - accuracy: 0.8714 - val_loss: 0.3292 - val_accuracy: 0.7785 - lr: 0.0010 - 88s/epoch - 20ms/step
Epoch 18/25
4378/4378 - 86s - loss: 0.2754 - accuracy: 0.8724 - val_loss: 0.3334 - val_accuracy: 0.7679 - lr: 0.0010 - 86s/epoch - 20ms/step
Epoch 19/25
4378/4378 - 87s - loss: 0.2765 - accuracy: 0.8696 - val_loss: 0.3357 - val_accuracy: 0.7687 - lr: 0.0010 - 87s/epoch - 20ms/step
Epoch 20/25
4378/4378 - 88s - loss: 0.2768 - accuracy: 0.8695 - val_loss: 0.3401 - val_accuracy: 0.7548 - lr: 0.0010 - 88s/epoch - 20ms/step
Epoch 21/25
4378/4378 - 88s - loss: 0.2762 - accuracy: 0.8702 - val_loss: 0.3358 - val_accuracy: 0.7614 - lr: 0.0010 - 88s/epoch - 20ms/step
Epoch 22/25
4378/4378 - 88s - loss: 0.2760 - accuracy: 0.8709 - val_loss: 0.3458 - val_accuracy: 0.7459 - lr: 0.0010 - 88s/epoch - 20ms/step
Epoch 23/25
4378/4378 - 89s - loss: 0.2757 - accuracy: 0.8715 - val_loss: 0.3379 - val_accuracy: 0.7620 - lr: 0.0010 - 89s/epoch - 20ms/step
Epoch 24/25
4378/4378 - 89s - loss: 0.2765 - accuracy: 0.8688 - val_loss: 0.3358 - val_accuracy: 0.7613 - lr: 0.0010 - 89s/epoch - 20ms/step
Epoch 25/25
4378/4378 - 90s - loss: 0.2753 - accuracy: 0.8721 - val_loss: 0.3308 - val_accuracy: 0.7699 - lr: 0.0010 - 90s/epoch - 21ms/step
fitting with batch size: 100
Epoch 1/25
876/876 - 25s - loss: 0.2590 - accuracy: 0.9024 - val_loss: 0.3340 - val_accuracy: 0.7646 - lr: 0.0010 - 25s/epoch - 29ms/step
Epoch 2/25
876/876 - 23s - loss: 0.2592 - accuracy: 0.9021 - val_loss: 0.3397 - val_accuracy: 0.7617 - lr: 0.0010 - 23s/epoch - 26ms/step
Epoch 3/25
876/876 - 22s - loss: 0.2593 - accuracy: 0.9022 - val_loss: 0.3352 - val_accuracy: 0.7731 - lr: 0.0010 - 22s/epoch - 26ms/step
Epoch 4/25
876/876 - 23s - loss: 0.2583 - accuracy: 0.9026 - val_loss: 0.3522 - val_accuracy: 0.7389 - lr: 0.0010 - 23s/epoch - 26ms/step
Epoch 5/25
876/876 - 23s - loss: 0.2575 - accuracy: 0.9037 - val_loss: 0.3440 - val_accuracy: 0.7531 - lr: 0.0010 - 23s/epoch - 27ms/step
Epoch 6/25
876/876 - 23s - loss: 0.2576 - accuracy: 0.9034 - val_loss: 0.3534 - val_accuracy: 0.7351 - lr: 0.0010 - 23s/epoch - 26ms/step
Epoch 7/25
876/876 - 24s - loss: 0.2568 - accuracy: 0.9055 - val_loss: 0.3551 - val_accuracy: 0.7431 - lr: 0.0010 - 24s/epoch - 27ms/step
Epoch 8/25
876/876 - 24s - loss: 0.2554 - accuracy: 0.9082 - val_loss: 0.3402 - val_accuracy: 0.7654 - lr: 0.0010 - 24s/epoch - 27ms/step
Epoch 9/25
876/876 - 24s - loss: 0.2550 - accuracy: 0.9083 - val_loss: 0.3441 - val_accuracy: 0.7557 - lr: 0.0010 - 24s/epoch - 27ms/step
Epoch 10/25
876/876 - 25s - loss: 0.2554 - accuracy: 0.9078 - val_loss: 0.3451 - val_accuracy: 0.7597 - lr: 0.0010 - 25s/epoch - 28ms/step
Epoch 11/25
876/876 - 24s - loss: 0.2547 - accuracy: 0.9088 - val_loss: 0.3474 - val_accuracy: 0.7578 - lr: 0.0010 - 24s/epoch - 27ms/step
Epoch 12/25
876/876 - 23s - loss: 0.2542 - accuracy: 0.9099 - val_loss: 0.3535 - val_accuracy: 0.7396 - lr: 0.0010 - 23s/epoch - 26ms/step
Epoch 13/25
876/876 - 24s - loss: 0.2543 - accuracy: 0.9107 - val_loss: 0.3588 - val_accuracy: 0.7405 - lr: 0.0010 - 24s/epoch - 28ms/step
Epoch 14/25
876/876 - 24s - loss: 0.2543 - accuracy: 0.9098 - val_loss: 0.3535 - val_accuracy: 0.7465 - lr: 0.0010 - 24s/epoch - 27ms/step
Epoch 15/25
876/876 - 23s - loss: 0.2531 - accuracy: 0.9113 - val_loss: 0.3463 - val_accuracy: 0.7590 - lr: 0.0010 - 23s/epoch - 27ms/step
Epoch 16/25
876/876 - 24s - loss: 0.2531 - accuracy: 0.9125 - val_loss: 0.3465 - val_accuracy: 0.7569 - lr: 0.0010 - 24s/epoch - 28ms/step
Epoch 17/25
876/876 - 23s - loss: 0.2525 - accuracy: 0.9129 - val_loss: 0.3517 - val_accuracy: 0.7472 - lr: 0.0010 - 23s/epoch - 26ms/step
Epoch 18/25
876/876 - 24s - loss: 0.2536 - accuracy: 0.9103 - val_loss: 0.3560 - val_accuracy: 0.7381 - lr: 0.0010 - 24s/epoch - 27ms/step
Epoch 19/25
876/876 - 25s - loss: 0.2537 - accuracy: 0.9107 - val_loss: 0.3507 - val_accuracy: 0.7421 - lr: 0.0010 - 25s/epoch - 28ms/step
Epoch 20/25
876/876 - 24s - loss: 0.2526 - accuracy: 0.9125 - val_loss: 0.3605 - val_accuracy: 0.7300 - lr: 0.0010 - 24s/epoch - 28ms/step
Epoch 21/25
876/876 - 24s - loss: 0.2524 - accuracy: 0.9134 - val_loss: 0.3475 - val_accuracy: 0.7559 - lr: 0.0010 - 24s/epoch - 27ms/step
Epoch 22/25
876/876 - 23s - loss: 0.2523 - accuracy: 0.9121 - val_loss: 0.3665 - val_accuracy: 0.7226 - lr: 0.0010 - 23s/epoch - 26ms/step
Epoch 23/25
876/876 - 23s - loss: 0.2528 - accuracy: 0.9120 - val_loss: 0.3588 - val_accuracy: 0.7376 - lr: 0.0010 - 23s/epoch - 26ms/step
Epoch 24/25
876/876 - 23s - loss: 0.2521 - accuracy: 0.9128 - val_loss: 0.3660 - val_accuracy: 0.7257 - lr: 0.0010 - 23s/epoch - 27ms/step
Epoch 25/25
876/876 - 23s - loss: 0.2512 - accuracy: 0.9147 - val_loss: 0.3478 - val_accuracy: 0.7573 - lr: 0.0010 - 23s/epoch - 26ms/step
fitting with batch size: 500
Epoch 1/25
176/176 - 16s - loss: 0.2426 - accuracy: 0.9299 - val_loss: 0.3581 - val_accuracy: 0.7473 - lr: 0.0010 - 16s/epoch - 92ms/step
Epoch 2/25
176/176 - 12s - loss: 0.2394 - accuracy: 0.9362 - val_loss: 0.3637 - val_accuracy: 0.7431 - lr: 0.0010 - 12s/epoch - 70ms/step
Epoch 3/25
176/176 - 12s - loss: 0.2384 - accuracy: 0.9371 - val_loss: 0.3718 - val_accuracy: 0.7339 - lr: 0.0010 - 12s/epoch - 70ms/step
Epoch 4/25
176/176 - 12s - loss: 0.2388 - accuracy: 0.9372 - val_loss: 0.3681 - val_accuracy: 0.7426 - lr: 0.0010 - 12s/epoch - 71ms/step
Epoch 5/25
176/176 - 13s - loss: 0.2391 - accuracy: 0.9360 - val_loss: 0.3725 - val_accuracy: 0.7415 - lr: 0.0010 - 13s/epoch - 71ms/step
Epoch 6/25
176/176 - 12s - loss: 0.2390 - accuracy: 0.9365 - val_loss: 0.3769 - val_accuracy: 0.7351 - lr: 0.0010 - 12s/epoch - 71ms/step
Epoch 7/25
176/176 - 12s - loss: 0.2397 - accuracy: 0.9348 - val_loss: 0.3739 - val_accuracy: 0.7362 - lr: 0.0010 - 12s/epoch - 70ms/step
Epoch 8/25
176/176 - 12s - loss: 0.2390 - accuracy: 0.9358 - val_loss: 0.3692 - val_accuracy: 0.7438 - lr: 0.0010 - 12s/epoch - 70ms/step
Epoch 9/25
176/176 - 12s - loss: 0.2392 - accuracy: 0.9361 - val_loss: 0.3737 - val_accuracy: 0.7441 - lr: 0.0010 - 12s/epoch - 70ms/step
Epoch 10/25
176/176 - 12s - loss: 0.2383 - accuracy: 0.9364 - val_loss: 0.3810 - val_accuracy: 0.7306 - lr: 0.0010 - 12s/epoch - 69ms/step
Epoch 11/25
176/176 - 12s - loss: 0.2382 - accuracy: 0.9376 - val_loss: 0.3763 - val_accuracy: 0.7410 - lr: 0.0010 - 12s/epoch - 69ms/step
Epoch 12/25
176/176 - 12s - loss: 0.2388 - accuracy: 0.9366 - val_loss: 0.3707 - val_accuracy: 0.7461 - lr: 0.0010 - 12s/epoch - 70ms/step
Epoch 13/25
176/176 - 12s - loss: 0.2383 - accuracy: 0.9372 - val_loss: 0.3788 - val_accuracy: 0.7331 - lr: 0.0010 - 12s/epoch - 69ms/step
Epoch 14/25
176/176 - 12s - loss: 0.2386 - accuracy: 0.9370 - val_loss: 0.3702 - val_accuracy: 0.7465 - lr: 0.0010 - 12s/epoch - 69ms/step
Epoch 15/25
176/176 - 12s - loss: 0.2389 - accuracy: 0.9358 - val_loss: 0.3779 - val_accuracy: 0.7344 - lr: 0.0010 - 12s/epoch - 70ms/step
Epoch 16/25
176/176 - 12s - loss: 0.2381 - accuracy: 0.9372 - val_loss: 0.3751 - val_accuracy: 0.7375 - lr: 0.0010 - 12s/epoch - 69ms/step
Epoch 17/25
176/176 - 12s - loss: 0.2383 - accuracy: 0.9374 - val_loss: 0.3794 - val_accuracy: 0.7374 - lr: 0.0010 - 12s/epoch - 69ms/step
Epoch 18/25
176/176 - 12s - loss: 0.2381 - accuracy: 0.9374 - val_loss: 0.3780 - val_accuracy: 0.7371 - lr: 0.0010 - 12s/epoch - 69ms/step
Epoch 19/25
176/176 - 12s - loss: 0.2371 - accuracy: 0.9399 - val_loss: 0.3814 - val_accuracy: 0.7358 - lr: 0.0010 - 12s/epoch - 70ms/step
Epoch 20/25
176/176 - 12s - loss: 0.2367 - accuracy: 0.9397 - val_loss: 0.3780 - val_accuracy: 0.7389 - lr: 0.0010 - 12s/epoch - 69ms/step
Epoch 21/25
176/176 - 12s - loss: 0.2365 - accuracy: 0.9394 - val_loss: 0.3772 - val_accuracy: 0.7411 - lr: 0.0010 - 12s/epoch - 70ms/step
Epoch 22/25
176/176 - 12s - loss: 0.2367 - accuracy: 0.9406 - val_loss: 0.3774 - val_accuracy: 0.7428 - lr: 0.0010 - 12s/epoch - 69ms/step
Epoch 23/25
176/176 - 12s - loss: 0.2363 - accuracy: 0.9403 - val_loss: 0.3901 - val_accuracy: 0.7236 - lr: 0.0010 - 12s/epoch - 70ms/step
Epoch 24/25
176/176 - 12s - loss: 0.2363 - accuracy: 0.9402 - val_loss: 0.3811 - val_accuracy: 0.7365 - lr: 0.0010 - 12s/epoch - 71ms/step
Epoch 25/25
176/176 - 12s - loss: 0.2364 - accuracy: 0.9397 - val_loss: 0.3835 - val_accuracy: 0.7326 - lr: 0.0010 - 12s/epoch - 70ms/step
fitting with batch size: 1500
Epoch 1/25
59/59 - 14s - loss: 0.2329 - accuracy: 0.9466 - val_loss: 0.3906 - val_accuracy: 0.7290 - lr: 0.0010 - 14s/epoch - 232ms/step
Epoch 2/25
59/59 - 11s - loss: 0.2306 - accuracy: 0.9512 - val_loss: 0.3943 - val_accuracy: 0.7287 - lr: 0.0010 - 11s/epoch - 191ms/step
Epoch 3/25
59/59 - 11s - loss: 0.2302 - accuracy: 0.9516 - val_loss: 0.3928 - val_accuracy: 0.7307 - lr: 0.0010 - 11s/epoch - 191ms/step
Epoch 4/25
59/59 - 11s - loss: 0.2303 - accuracy: 0.9505 - val_loss: 0.3952 - val_accuracy: 0.7335 - lr: 0.0010 - 11s/epoch - 191ms/step
Epoch 5/25
59/59 - 11s - loss: 0.2300 - accuracy: 0.9517 - val_loss: 0.4001 - val_accuracy: 0.7242 - lr: 0.0010 - 11s/epoch - 193ms/step
Epoch 6/25
59/59 - 11s - loss: 0.2297 - accuracy: 0.9520 - val_loss: 0.4024 - val_accuracy: 0.7226 - lr: 0.0010 - 11s/epoch - 190ms/step
Epoch 7/25
59/59 - 11s - loss: 0.2302 - accuracy: 0.9515 - val_loss: 0.3976 - val_accuracy: 0.7324 - lr: 0.0010 - 11s/epoch - 192ms/step
Epoch 8/25
59/59 - 11s - loss: 0.2306 - accuracy: 0.9510 - val_loss: 0.3938 - val_accuracy: 0.7333 - lr: 0.0010 - 11s/epoch - 191ms/step
Epoch 9/25
59/59 - 11s - loss: 0.2303 - accuracy: 0.9517 - val_loss: 0.4047 - val_accuracy: 0.7208 - lr: 0.0010 - 11s/epoch - 193ms/step
Epoch 10/25
59/59 - 11s - loss: 0.2305 - accuracy: 0.9507 - val_loss: 0.4031 - val_accuracy: 0.7263 - lr: 0.0010 - 11s/epoch - 193ms/step
Epoch 11/25
59/59 - 11s - loss: 0.2304 - accuracy: 0.9513 - val_loss: 0.3992 - val_accuracy: 0.7316 - lr: 0.0010 - 11s/epoch - 188ms/step
Epoch 12/25
59/59 - 11s - loss: 0.2309 - accuracy: 0.9507 - val_loss: 0.3988 - val_accuracy: 0.7381 - lr: 0.0010 - 11s/epoch - 191ms/step
Epoch 13/25
59/59 - 11s - loss: 0.2307 - accuracy: 0.9508 - val_loss: 0.3987 - val_accuracy: 0.7289 - lr: 0.0010 - 11s/epoch - 191ms/step
Epoch 14/25
59/59 - 11s - loss: 0.2305 - accuracy: 0.9506 - val_loss: 0.4065 - val_accuracy: 0.7207 - lr: 0.0010 - 11s/epoch - 191ms/step
Epoch 15/25
59/59 - 11s - loss: 0.2313 - accuracy: 0.9502 - val_loss: 0.4041 - val_accuracy: 0.7298 - lr: 0.0010 - 11s/epoch - 191ms/step
Epoch 16/25
59/59 - 11s - loss: 0.2312 - accuracy: 0.9497 - val_loss: 0.4057 - val_accuracy: 0.7249 - lr: 0.0010 - 11s/epoch - 191ms/step
Epoch 17/25
59/59 - 11s - loss: 0.2308 - accuracy: 0.9499 - val_loss: 0.4015 - val_accuracy: 0.7315 - lr: 0.0010 - 11s/epoch - 191ms/step
Epoch 18/25
59/59 - 11s - loss: 0.2310 - accuracy: 0.9502 - val_loss: 0.3981 - val_accuracy: 0.7305 - lr: 0.0010 - 11s/epoch - 191ms/step
Epoch 19/25
59/59 - 11s - loss: 0.2316 - accuracy: 0.9492 - val_loss: 0.4056 - val_accuracy: 0.7295 - lr: 0.0010 - 11s/epoch - 192ms/step
Epoch 20/25
59/59 - 11s - loss: 0.2316 - accuracy: 0.9488 - val_loss: 0.4006 - val_accuracy: 0.7320 - lr: 0.0010 - 11s/epoch - 193ms/step
Epoch 21/25
59/59 - 11s - loss: 0.2304 - accuracy: 0.9512 - val_loss: 0.4031 - val_accuracy: 0.7346 - lr: 0.0010 - 11s/epoch - 193ms/step
Epoch 22/25
59/59 - 11s - loss: 0.2306 - accuracy: 0.9501 - val_loss: 0.4090 - val_accuracy: 0.7261 - lr: 0.0010 - 11s/epoch - 193ms/step
Epoch 23/25
59/59 - 11s - loss: 0.2306 - accuracy: 0.9506 - val_loss: 0.4109 - val_accuracy: 0.7178 - lr: 0.0010 - 11s/epoch - 192ms/step
Epoch 24/25
59/59 - 11s - loss: 0.2305 - accuracy: 0.9507 - val_loss: 0.4075 - val_accuracy: 0.7283 - lr: 0.0010 - 11s/epoch - 192ms/step
Epoch 25/25
59/59 - 11s - loss: 0.2308 - accuracy: 0.9501 - val_loss: 0.4022 - val_accuracy: 0.7295 - lr: 0.0010 - 11s/epoch - 192ms/step
fitting with batch size: 2500
Epoch 1/25
36/36 - 14s - loss: 0.2299 - accuracy: 0.9517 - val_loss: 0.4080 - val_accuracy: 0.7241 - lr: 0.0010 - 14s/epoch - 376ms/step
Epoch 2/25
36/36 - 11s - loss: 0.2283 - accuracy: 0.9546 - val_loss: 0.4100 - val_accuracy: 0.7240 - lr: 0.0010 - 11s/epoch - 303ms/step
Epoch 3/25
36/36 - 11s - loss: 0.2281 - accuracy: 0.9539 - val_loss: 0.4107 - val_accuracy: 0.7239 - lr: 0.0010 - 11s/epoch - 301ms/step
Epoch 4/25
36/36 - 11s - loss: 0.2279 - accuracy: 0.9556 - val_loss: 0.4111 - val_accuracy: 0.7255 - lr: 0.0010 - 11s/epoch - 301ms/step
Epoch 5/25
36/36 - 11s - loss: 0.2283 - accuracy: 0.9555 - val_loss: 0.4178 - val_accuracy: 0.7210 - lr: 0.0010 - 11s/epoch - 303ms/step
Epoch 6/25
36/36 - 11s - loss: 0.2275 - accuracy: 0.9564 - val_loss: 0.4190 - val_accuracy: 0.7202 - lr: 0.0010 - 11s/epoch - 300ms/step
Epoch 7/25
36/36 - 11s - loss: 0.2277 - accuracy: 0.9556 - val_loss: 0.4116 - val_accuracy: 0.7273 - lr: 0.0010 - 11s/epoch - 303ms/step
Epoch 8/25
36/36 - 11s - loss: 0.2271 - accuracy: 0.9566 - val_loss: 0.4154 - val_accuracy: 0.7255 - lr: 0.0010 - 11s/epoch - 303ms/step
Epoch 9/25
36/36 - 11s - loss: 0.2272 - accuracy: 0.9572 - val_loss: 0.4157 - val_accuracy: 0.7259 - lr: 0.0010 - 11s/epoch - 301ms/step
Epoch 10/25
36/36 - 11s - loss: 0.2261 - accuracy: 0.9585 - val_loss: 0.4173 - val_accuracy: 0.7231 - lr: 0.0010 - 11s/epoch - 306ms/step
Epoch 11/25
36/36 - 11s - loss: 0.2270 - accuracy: 0.9574 - val_loss: 0.4149 - val_accuracy: 0.7264 - lr: 0.0010 - 11s/epoch - 302ms/step
Epoch 12/25
36/36 - 11s - loss: 0.2270 - accuracy: 0.9572 - val_loss: 0.4180 - val_accuracy: 0.7227 - lr: 0.0010 - 11s/epoch - 301ms/step
Epoch 13/25
36/36 - 11s - loss: 0.2261 - accuracy: 0.9586 - val_loss: 0.4194 - val_accuracy: 0.7217 - lr: 0.0010 - 11s/epoch - 303ms/step
Epoch 14/25
36/36 - 11s - loss: 0.2269 - accuracy: 0.9570 - val_loss: 0.4172 - val_accuracy: 0.7257 - lr: 0.0010 - 11s/epoch - 304ms/step
Epoch 15/25
36/36 - 11s - loss: 0.2264 - accuracy: 0.9574 - val_loss: 0.4167 - val_accuracy: 0.7267 - lr: 0.0010 - 11s/epoch - 303ms/step
Epoch 16/25
36/36 - 11s - loss: 0.2281 - accuracy: 0.9547 - val_loss: 0.4156 - val_accuracy: 0.7297 - lr: 0.0010 - 11s/epoch - 302ms/step
Epoch 17/25
36/36 - 11s - loss: 0.2264 - accuracy: 0.9578 - val_loss: 0.4196 - val_accuracy: 0.7235 - lr: 0.0010 - 11s/epoch - 301ms/step
Epoch 18/25
36/36 - 11s - loss: 0.2258 - accuracy: 0.9591 - val_loss: 0.4178 - val_accuracy: 0.7243 - lr: 0.0010 - 11s/epoch - 304ms/step
Epoch 19/25
36/36 - 11s - loss: 0.2256 - accuracy: 0.9595 - val_loss: 0.4214 - val_accuracy: 0.7218 - lr: 0.0010 - 11s/epoch - 302ms/step
Epoch 20/25
36/36 - 11s - loss: 0.2255 - accuracy: 0.9598 - val_loss: 0.4188 - val_accuracy: 0.7257 - lr: 0.0010 - 11s/epoch - 303ms/step
Epoch 21/25
36/36 - 11s - loss: 0.2264 - accuracy: 0.9590 - val_loss: 0.4160 - val_accuracy: 0.7280 - lr: 0.0010 - 11s/epoch - 303ms/step
Epoch 22/25
36/36 - 11s - loss: 0.2259 - accuracy: 0.9591 - val_loss: 0.4183 - val_accuracy: 0.7281 - lr: 0.0010 - 11s/epoch - 303ms/step
Epoch 23/25
36/36 - 11s - loss: 0.2253 - accuracy: 0.9601 - val_loss: 0.4199 - val_accuracy: 0.7270 - lr: 0.0010 - 11s/epoch - 302ms/step
Epoch 24/25
36/36 - 11s - loss: 0.2253 - accuracy: 0.9597 - val_loss: 0.4179 - val_accuracy: 0.7286 - lr: 0.0010 - 11s/epoch - 303ms/step
Epoch 25/25
36/36 - 11s - loss: 0.2251 - accuracy: 0.9606 - val_loss: 0.4199 - val_accuracy: 0.7248 - lr: 0.0010 - 11s/epoch - 304ms/step
Epoch number: 50
fitting with batch size: 20
Epoch 1/50
4378/4378 - 89s - loss: 0.2690 - accuracy: 0.8838 - val_loss: 0.3527 - val_accuracy: 0.7364 - lr: 0.0010 - 89s/epoch - 20ms/step
Epoch 2/50
4378/4378 - 86s - loss: 0.2714 - accuracy: 0.8781 - val_loss: 0.3530 - val_accuracy: 0.7272 - lr: 0.0010 - 86s/epoch - 20ms/step
Epoch 3/50
4378/4378 - 86s - loss: 0.2728 - accuracy: 0.8748 - val_loss: 0.3571 - val_accuracy: 0.7193 - lr: 0.0010 - 86s/epoch - 20ms/step
Epoch 4/50
4378/4378 - 86s - loss: 0.2725 - accuracy: 0.8755 - val_loss: 0.3517 - val_accuracy: 0.7305 - lr: 0.0010 - 86s/epoch - 20ms/step
Epoch 5/50
4378/4378 - 86s - loss: 0.2734 - accuracy: 0.8740 - val_loss: 0.3466 - val_accuracy: 0.7352 - lr: 0.0010 - 86s/epoch - 20ms/step
Epoch 6/50
4378/4378 - 86s - loss: 0.2718 - accuracy: 0.8782 - val_loss: 0.3465 - val_accuracy: 0.7384 - lr: 0.0010 - 86s/epoch - 20ms/step
Epoch 7/50
4378/4378 - 86s - loss: 0.2715 - accuracy: 0.8784 - val_loss: 0.3330 - val_accuracy: 0.7727 - lr: 0.0010 - 86s/epoch - 20ms/step
Epoch 8/50
4378/4378 - 86s - loss: 0.2717 - accuracy: 0.8782 - val_loss: 0.3476 - val_accuracy: 0.7484 - lr: 0.0010 - 86s/epoch - 20ms/step
Epoch 9/50
4378/4378 - 86s - loss: 0.2726 - accuracy: 0.8761 - val_loss: 0.3361 - val_accuracy: 0.7634 - lr: 0.0010 - 86s/epoch - 20ms/step
Epoch 10/50
4378/4378 - 87s - loss: 0.2721 - accuracy: 0.8773 - val_loss: 0.3491 - val_accuracy: 0.7293 - lr: 0.0010 - 87s/epoch - 20ms/step
Epoch 11/50
4378/4378 - 86s - loss: 0.2726 - accuracy: 0.8772 - val_loss: 0.3396 - val_accuracy: 0.7526 - lr: 0.0010 - 86s/epoch - 20ms/step
Epoch 12/50
4378/4378 - 86s - loss: 0.2723 - accuracy: 0.8774 - val_loss: 0.3442 - val_accuracy: 0.7475 - lr: 0.0010 - 86s/epoch - 20ms/step
Epoch 13/50
4378/4378 - 86s - loss: 0.2723 - accuracy: 0.8767 - val_loss: 0.3382 - val_accuracy: 0.7619 - lr: 0.0010 - 86s/epoch - 20ms/step
Epoch 14/50
4378/4378 - 86s - loss: 0.2720 - accuracy: 0.8775 - val_loss: 0.3415 - val_accuracy: 0.7472 - lr: 0.0010 - 86s/epoch - 20ms/step
Epoch 15/50
4378/4378 - 86s - loss: 0.2731 - accuracy: 0.8757 - val_loss: 0.3399 - val_accuracy: 0.7512 - lr: 0.0010 - 86s/epoch - 20ms/step
Epoch 16/50
4378/4378 - 88s - loss: 0.2726 - accuracy: 0.8763 - val_loss: 0.3461 - val_accuracy: 0.7387 - lr: 0.0010 - 88s/epoch - 20ms/step
Epoch 17/50
4378/4378 - 87s - loss: 0.2721 - accuracy: 0.8763 - val_loss: 0.3553 - val_accuracy: 0.7156 - lr: 0.0010 - 87s/epoch - 20ms/step
Epoch 18/50
4378/4378 - 90s - loss: 0.2727 - accuracy: 0.8763 - val_loss: 0.3363 - val_accuracy: 0.7612 - lr: 0.0010 - 90s/epoch - 21ms/step
Epoch 19/50
4378/4378 - 88s - loss: 0.2730 - accuracy: 0.8755 - val_loss: 0.3462 - val_accuracy: 0.7362 - lr: 0.0010 - 88s/epoch - 20ms/step
Epoch 20/50
4378/4378 - 89s - loss: 0.2720 - accuracy: 0.8773 - val_loss: 0.3590 - val_accuracy: 0.7192 - lr: 0.0010 - 89s/epoch - 20ms/step
Epoch 21/50
4378/4378 - 90s - loss: 0.2724 - accuracy: 0.8776 - val_loss: 0.3484 - val_accuracy: 0.7381 - lr: 0.0010 - 90s/epoch - 20ms/step
Epoch 22/50
4378/4378 - 91s - loss: 0.2723 - accuracy: 0.8768 - val_loss: 0.3541 - val_accuracy: 0.7164 - lr: 0.0010 - 91s/epoch - 21ms/step
Epoch 23/50
4378/4378 - 88s - loss: 0.2724 - accuracy: 0.8763 - val_loss: 0.3397 - val_accuracy: 0.7500 - lr: 0.0010 - 88s/epoch - 20ms/step
Epoch 24/50
4378/4378 - 91s - loss: 0.2727 - accuracy: 0.8753 - val_loss: 0.3476 - val_accuracy: 0.7310 - lr: 0.0010 - 91s/epoch - 21ms/step
Epoch 25/50
4378/4378 - 92s - loss: 0.2726 - accuracy: 0.8755 - val_loss: 0.3395 - val_accuracy: 0.7540 - lr: 0.0010 - 92s/epoch - 21ms/step
Epoch 26/50
4378/4378 - 94s - loss: 0.2712 - accuracy: 0.8783 - val_loss: 0.3364 - val_accuracy: 0.7613 - lr: 0.0010 - 94s/epoch - 21ms/step
Epoch 27/50
4378/4378 - 96s - loss: 0.2720 - accuracy: 0.8771 - val_loss: 0.3494 - val_accuracy: 0.7331 - lr: 0.0010 - 96s/epoch - 22ms/step
Epoch 28/50
4378/4378 - 89s - loss: 0.2713 - accuracy: 0.8787 - val_loss: 0.3545 - val_accuracy: 0.7257 - lr: 0.0010 - 89s/epoch - 20ms/step
Epoch 29/50
4378/4378 - 85s - loss: 0.2725 - accuracy: 0.8754 - val_loss: 0.3306 - val_accuracy: 0.7763 - lr: 0.0010 - 85s/epoch - 19ms/step
Epoch 30/50
4378/4378 - 84s - loss: 0.2722 - accuracy: 0.8770 - val_loss: 0.3320 - val_accuracy: 0.7802 - lr: 0.0010 - 84s/epoch - 19ms/step
Epoch 31/50
4378/4378 - 84s - loss: 0.2711 - accuracy: 0.8779 - val_loss: 0.3305 - val_accuracy: 0.7711 - lr: 0.0010 - 84s/epoch - 19ms/step
Epoch 32/50
4378/4378 - 84s - loss: 0.2715 - accuracy: 0.8775 - val_loss: 0.3441 - val_accuracy: 0.7426 - lr: 0.0010 - 84s/epoch - 19ms/step
Epoch 33/50
4378/4378 - 84s - loss: 0.2722 - accuracy: 0.8765 - val_loss: 0.3365 - val_accuracy: 0.7561 - lr: 0.0010 - 84s/epoch - 19ms/step
Epoch 34/50
4378/4378 - 84s - loss: 0.2717 - accuracy: 0.8776 - val_loss: 0.3437 - val_accuracy: 0.7472 - lr: 0.0010 - 84s/epoch - 19ms/step
Epoch 35/50
4378/4378 - 84s - loss: 0.2717 - accuracy: 0.8764 - val_loss: 0.3525 - val_accuracy: 0.7295 - lr: 0.0010 - 84s/epoch - 19ms/step
Epoch 36/50
4378/4378 - 84s - loss: 0.2713 - accuracy: 0.8783 - val_loss: 0.3238 - val_accuracy: 0.7813 - lr: 0.0010 - 84s/epoch - 19ms/step
Epoch 37/50
4378/4378 - 84s - loss: 0.2717 - accuracy: 0.8774 - val_loss: 0.3477 - val_accuracy: 0.7240 - lr: 0.0010 - 84s/epoch - 19ms/step
Epoch 38/50
4378/4378 - 85s - loss: 0.2712 - accuracy: 0.8780 - val_loss: 0.3438 - val_accuracy: 0.7431 - lr: 0.0010 - 85s/epoch - 19ms/step
Epoch 39/50
4378/4378 - 84s - loss: 0.2706 - accuracy: 0.8792 - val_loss: 0.3504 - val_accuracy: 0.7379 - lr: 0.0010 - 84s/epoch - 19ms/step
Epoch 40/50
4378/4378 - 85s - loss: 0.2714 - accuracy: 0.8783 - val_loss: 0.3521 - val_accuracy: 0.7259 - lr: 0.0010 - 85s/epoch - 19ms/step
Epoch 41/50
4378/4378 - 84s - loss: 0.2712 - accuracy: 0.8791 - val_loss: 0.3300 - val_accuracy: 0.7712 - lr: 0.0010 - 84s/epoch - 19ms/step
Epoch 42/50
4378/4378 - 84s - loss: 0.2706 - accuracy: 0.8791 - val_loss: 0.3539 - val_accuracy: 0.7166 - lr: 0.0010 - 84s/epoch - 19ms/step
Epoch 43/50
4378/4378 - 85s - loss: 0.2703 - accuracy: 0.8803 - val_loss: 0.3513 - val_accuracy: 0.7214 - lr: 0.0010 - 85s/epoch - 19ms/step
Epoch 44/50
4378/4378 - 88s - loss: 0.2712 - accuracy: 0.8780 - val_loss: 0.3399 - val_accuracy: 0.7469 - lr: 0.0010 - 88s/epoch - 20ms/step
Epoch 45/50
4378/4378 - 89s - loss: 0.2705 - accuracy: 0.8789 - val_loss: 0.3335 - val_accuracy: 0.7659 - lr: 0.0010 - 89s/epoch - 20ms/step
Epoch 46/50
4378/4378 - 88s - loss: 0.2713 - accuracy: 0.8786 - val_loss: 0.3354 - val_accuracy: 0.7553 - lr: 0.0010 - 88s/epoch - 20ms/step
Epoch 47/50
4378/4378 - 88s - loss: 0.2709 - accuracy: 0.8789 - val_loss: 0.3444 - val_accuracy: 0.7302 - lr: 0.0010 - 88s/epoch - 20ms/step
Epoch 48/50
4378/4378 - 91s - loss: 0.2712 - accuracy: 0.8778 - val_loss: 0.3413 - val_accuracy: 0.7369 - lr: 0.0010 - 91s/epoch - 21ms/step
Epoch 49/50
4378/4378 - 89s - loss: 0.2697 - accuracy: 0.8817 - val_loss: 0.3456 - val_accuracy: 0.7352 - lr: 0.0010 - 89s/epoch - 20ms/step
Epoch 50/50
4378/4378 - 87s - loss: 0.2695 - accuracy: 0.8810 - val_loss: 0.3486 - val_accuracy: 0.7311 - lr: 0.0010 - 87s/epoch - 20ms/step
fitting with batch size: 100
Epoch 1/50
876/876 - 26s - loss: 0.2535 - accuracy: 0.9106 - val_loss: 0.3595 - val_accuracy: 0.7214 - lr: 0.0010 - 26s/epoch - 30ms/step
Epoch 2/50
876/876 - 22s - loss: 0.2540 - accuracy: 0.9093 - val_loss: 0.3515 - val_accuracy: 0.7379 - lr: 0.0010 - 22s/epoch - 26ms/step
Epoch 3/50
876/876 - 22s - loss: 0.2545 - accuracy: 0.9083 - val_loss: 0.3603 - val_accuracy: 0.7127 - lr: 0.0010 - 22s/epoch - 26ms/step
Epoch 4/50
876/876 - 23s - loss: 0.2533 - accuracy: 0.9110 - val_loss: 0.3389 - val_accuracy: 0.7632 - lr: 0.0010 - 23s/epoch - 27ms/step
Epoch 5/50
876/876 - 23s - loss: 0.2529 - accuracy: 0.9103 - val_loss: 0.3474 - val_accuracy: 0.7437 - lr: 0.0010 - 23s/epoch - 26ms/step
Epoch 6/50
876/876 - 23s - loss: 0.2526 - accuracy: 0.9108 - val_loss: 0.3519 - val_accuracy: 0.7382 - lr: 0.0010 - 23s/epoch - 26ms/step
Epoch 7/50
876/876 - 24s - loss: 0.2525 - accuracy: 0.9118 - val_loss: 0.3427 - val_accuracy: 0.7559 - lr: 0.0010 - 24s/epoch - 27ms/step
Epoch 8/50
876/876 - 24s - loss: 0.2521 - accuracy: 0.9115 - val_loss: 0.3621 - val_accuracy: 0.7174 - lr: 0.0010 - 24s/epoch - 27ms/step
Epoch 9/50
876/876 - 22s - loss: 0.2509 - accuracy: 0.9148 - val_loss: 0.3582 - val_accuracy: 0.7327 - lr: 0.0010 - 22s/epoch - 25ms/step
Epoch 10/50
876/876 - 22s - loss: 0.2497 - accuracy: 0.9168 - val_loss: 0.3578 - val_accuracy: 0.7286 - lr: 0.0010 - 22s/epoch - 25ms/step
Epoch 11/50
876/876 - 21s - loss: 0.2503 - accuracy: 0.9142 - val_loss: 0.3516 - val_accuracy: 0.7444 - lr: 0.0010 - 21s/epoch - 24ms/step
Epoch 12/50
876/876 - 22s - loss: 0.2505 - accuracy: 0.9149 - val_loss: 0.3492 - val_accuracy: 0.7442 - lr: 0.0010 - 22s/epoch - 26ms/step
Epoch 13/50
876/876 - 22s - loss: 0.2496 - accuracy: 0.9157 - val_loss: 0.3565 - val_accuracy: 0.7344 - lr: 0.0010 - 22s/epoch - 25ms/step
Epoch 14/50
876/876 - 22s - loss: 0.2494 - accuracy: 0.9172 - val_loss: 0.3568 - val_accuracy: 0.7286 - lr: 0.0010 - 22s/epoch - 25ms/step
Epoch 15/50
876/876 - 21s - loss: 0.2501 - accuracy: 0.9154 - val_loss: 0.3513 - val_accuracy: 0.7413 - lr: 0.0010 - 21s/epoch - 24ms/step
Epoch 16/50
876/876 - 21s - loss: 0.2492 - accuracy: 0.9175 - val_loss: 0.3632 - val_accuracy: 0.7296 - lr: 0.0010 - 21s/epoch - 24ms/step
Epoch 17/50
876/876 - 22s - loss: 0.2487 - accuracy: 0.9179 - val_loss: 0.3519 - val_accuracy: 0.7424 - lr: 0.0010 - 22s/epoch - 25ms/step
Epoch 18/50
876/876 - 22s - loss: 0.2489 - accuracy: 0.9176 - val_loss: 0.3451 - val_accuracy: 0.7526 - lr: 0.0010 - 22s/epoch - 25ms/step
Epoch 19/50
876/876 - 22s - loss: 0.2490 - accuracy: 0.9183 - val_loss: 0.3520 - val_accuracy: 0.7448 - lr: 0.0010 - 22s/epoch - 25ms/step
Epoch 20/50
876/876 - 22s - loss: 0.2488 - accuracy: 0.9177 - val_loss: 0.3545 - val_accuracy: 0.7401 - lr: 0.0010 - 22s/epoch - 25ms/step
Epoch 21/50
876/876 - 22s - loss: 0.2480 - accuracy: 0.9186 - val_loss: 0.3457 - val_accuracy: 0.7572 - lr: 0.0010 - 22s/epoch - 26ms/step
Epoch 22/50
876/876 - 23s - loss: 0.2488 - accuracy: 0.9173 - val_loss: 0.3584 - val_accuracy: 0.7406 - lr: 0.0010 - 23s/epoch - 26ms/step
Epoch 23/50
876/876 - 22s - loss: 0.2480 - accuracy: 0.9189 - val_loss: 0.3454 - val_accuracy: 0.7655 - lr: 0.0010 - 22s/epoch - 26ms/step
Epoch 24/50
876/876 - 23s - loss: 0.2484 - accuracy: 0.9178 - val_loss: 0.3577 - val_accuracy: 0.7379 - lr: 0.0010 - 23s/epoch - 26ms/step
Epoch 25/50
876/876 - 23s - loss: 0.2482 - accuracy: 0.9191 - val_loss: 0.3594 - val_accuracy: 0.7365 - lr: 0.0010 - 23s/epoch - 26ms/step
Epoch 26/50
876/876 - 23s - loss: 0.2480 - accuracy: 0.9191 - val_loss: 0.3632 - val_accuracy: 0.7261 - lr: 0.0010 - 23s/epoch - 26ms/step
Epoch 27/50
876/876 - 23s - loss: 0.2481 - accuracy: 0.9185 - val_loss: 0.3652 - val_accuracy: 0.7187 - lr: 0.0010 - 23s/epoch - 26ms/step
Epoch 28/50
876/876 - 23s - loss: 0.2475 - accuracy: 0.9193 - val_loss: 0.3431 - val_accuracy: 0.7606 - lr: 0.0010 - 23s/epoch - 26ms/step
Epoch 29/50
876/876 - 23s - loss: 0.2472 - accuracy: 0.9207 - val_loss: 0.3640 - val_accuracy: 0.7403 - lr: 0.0010 - 23s/epoch - 26ms/step
Epoch 30/50
876/876 - 23s - loss: 0.2478 - accuracy: 0.9196 - val_loss: 0.3673 - val_accuracy: 0.7246 - lr: 0.0010 - 23s/epoch - 27ms/step
Epoch 31/50
876/876 - 23s - loss: 0.2473 - accuracy: 0.9192 - val_loss: 0.3635 - val_accuracy: 0.7306 - lr: 0.0010 - 23s/epoch - 26ms/step
Epoch 32/50
876/876 - 23s - loss: 0.2468 - accuracy: 0.9211 - val_loss: 0.3667 - val_accuracy: 0.7390 - lr: 0.0010 - 23s/epoch - 27ms/step
Epoch 33/50
876/876 - 23s - loss: 0.2462 - accuracy: 0.9218 - val_loss: 0.3678 - val_accuracy: 0.7271 - lr: 0.0010 - 23s/epoch - 26ms/step
Epoch 34/50
876/876 - 22s - loss: 0.2469 - accuracy: 0.9208 - val_loss: 0.3644 - val_accuracy: 0.7331 - lr: 0.0010 - 22s/epoch - 25ms/step
Epoch 35/50
876/876 - 22s - loss: 0.2473 - accuracy: 0.9200 - val_loss: 0.3669 - val_accuracy: 0.7193 - lr: 0.0010 - 22s/epoch - 25ms/step
Epoch 36/50
876/876 - 23s - loss: 0.2474 - accuracy: 0.9198 - val_loss: 0.3756 - val_accuracy: 0.7100 - lr: 0.0010 - 23s/epoch - 26ms/step
Epoch 37/50
876/876 - 23s - loss: 0.2468 - accuracy: 0.9213 - val_loss: 0.3631 - val_accuracy: 0.7323 - lr: 0.0010 - 23s/epoch - 26ms/step
Epoch 38/50
876/876 - 24s - loss: 0.2469 - accuracy: 0.9208 - val_loss: 0.3538 - val_accuracy: 0.7446 - lr: 0.0010 - 24s/epoch - 27ms/step
Epoch 39/50
876/876 - 23s - loss: 0.2457 - accuracy: 0.9218 - val_loss: 0.3643 - val_accuracy: 0.7352 - lr: 0.0010 - 23s/epoch - 26ms/step
Epoch 40/50
876/876 - 24s - loss: 0.2460 - accuracy: 0.9228 - val_loss: 0.3684 - val_accuracy: 0.7213 - lr: 0.0010 - 24s/epoch - 27ms/step
Epoch 41/50
876/876 - 23s - loss: 0.2468 - accuracy: 0.9207 - val_loss: 0.3603 - val_accuracy: 0.7376 - lr: 0.0010 - 23s/epoch - 26ms/step
Epoch 42/50
876/876 - 23s - loss: 0.2466 - accuracy: 0.9207 - val_loss: 0.3598 - val_accuracy: 0.7370 - lr: 0.0010 - 23s/epoch - 27ms/step
Epoch 43/50
876/876 - 24s - loss: 0.2463 - accuracy: 0.9218 - val_loss: 0.3564 - val_accuracy: 0.7383 - lr: 0.0010 - 24s/epoch - 28ms/step
Epoch 44/50
876/876 - 23s - loss: 0.2464 - accuracy: 0.9211 - val_loss: 0.3617 - val_accuracy: 0.7359 - lr: 0.0010 - 23s/epoch - 26ms/step
Epoch 45/50
876/876 - 23s - loss: 0.2461 - accuracy: 0.9215 - val_loss: 0.3623 - val_accuracy: 0.7312 - lr: 0.0010 - 23s/epoch - 26ms/step
Epoch 46/50
876/876 - 24s - loss: 0.2462 - accuracy: 0.9223 - val_loss: 0.3615 - val_accuracy: 0.7356 - lr: 0.0010 - 24s/epoch - 27ms/step
Epoch 47/50
876/876 - 25s - loss: 0.2462 - accuracy: 0.9220 - val_loss: 0.3803 - val_accuracy: 0.7139 - lr: 0.0010 - 25s/epoch - 28ms/step
Epoch 48/50
876/876 - 24s - loss: 0.2452 - accuracy: 0.9234 - val_loss: 0.3577 - val_accuracy: 0.7425 - lr: 0.0010 - 24s/epoch - 27ms/step
Epoch 49/50
876/876 - 24s - loss: 0.2457 - accuracy: 0.9219 - val_loss: 0.3731 - val_accuracy: 0.7205 - lr: 0.0010 - 24s/epoch - 28ms/step
Epoch 50/50
876/876 - 24s - loss: 0.2461 - accuracy: 0.9220 - val_loss: 0.3696 - val_accuracy: 0.7211 - lr: 0.0010 - 24s/epoch - 27ms/step
fitting with batch size: 500
Epoch 1/50
176/176 - 17s - loss: 0.2367 - accuracy: 0.9390 - val_loss: 0.3736 - val_accuracy: 0.7225 - lr: 0.0010 - 17s/epoch - 98ms/step
Epoch 2/50
176/176 - 13s - loss: 0.2331 - accuracy: 0.9460 - val_loss: 0.3741 - val_accuracy: 0.7297 - lr: 0.0010 - 13s/epoch - 76ms/step
Epoch 3/50
176/176 - 14s - loss: 0.2322 - accuracy: 0.9471 - val_loss: 0.3894 - val_accuracy: 0.7164 - lr: 0.0010 - 14s/epoch - 77ms/step
Epoch 4/50
176/176 - 14s - loss: 0.2322 - accuracy: 0.9472 - val_loss: 0.3878 - val_accuracy: 0.7180 - lr: 0.0010 - 14s/epoch - 77ms/step
Epoch 5/50
176/176 - 13s - loss: 0.2326 - accuracy: 0.9461 - val_loss: 0.3804 - val_accuracy: 0.7337 - lr: 0.0010 - 13s/epoch - 76ms/step
Epoch 6/50
176/176 - 13s - loss: 0.2332 - accuracy: 0.9448 - val_loss: 0.3808 - val_accuracy: 0.7336 - lr: 0.0010 - 13s/epoch - 74ms/step
Epoch 7/50
176/176 - 13s - loss: 0.2345 - accuracy: 0.9430 - val_loss: 0.3795 - val_accuracy: 0.7281 - lr: 0.0010 - 13s/epoch - 73ms/step
Epoch 8/50
176/176 - 13s - loss: 0.2334 - accuracy: 0.9448 - val_loss: 0.3921 - val_accuracy: 0.7176 - lr: 0.0010 - 13s/epoch - 76ms/step
Epoch 9/50
176/176 - 14s - loss: 0.2328 - accuracy: 0.9460 - val_loss: 0.3800 - val_accuracy: 0.7410 - lr: 0.0010 - 14s/epoch - 77ms/step
Epoch 10/50
176/176 - 13s - loss: 0.2328 - accuracy: 0.9454 - val_loss: 0.3914 - val_accuracy: 0.7252 - lr: 0.0010 - 13s/epoch - 73ms/step
Epoch 11/50
176/176 - 13s - loss: 0.2327 - accuracy: 0.9459 - val_loss: 0.3872 - val_accuracy: 0.7306 - lr: 0.0010 - 13s/epoch - 73ms/step
Epoch 12/50
176/176 - 13s - loss: 0.2314 - accuracy: 0.9481 - val_loss: 0.3929 - val_accuracy: 0.7273 - lr: 0.0010 - 13s/epoch - 73ms/step
Epoch 13/50
176/176 - 13s - loss: 0.2316 - accuracy: 0.9476 - val_loss: 0.3914 - val_accuracy: 0.7270 - lr: 0.0010 - 13s/epoch - 72ms/step
Epoch 14/50
176/176 - 13s - loss: 0.2323 - accuracy: 0.9466 - val_loss: 0.3947 - val_accuracy: 0.7276 - lr: 0.0010 - 13s/epoch - 72ms/step
Epoch 15/50
176/176 - 13s - loss: 0.2326 - accuracy: 0.9456 - val_loss: 0.3823 - val_accuracy: 0.7463 - lr: 0.0010 - 13s/epoch - 76ms/step
Epoch 16/50
176/176 - 13s - loss: 0.2312 - accuracy: 0.9483 - val_loss: 0.3922 - val_accuracy: 0.7312 - lr: 0.0010 - 13s/epoch - 76ms/step
Epoch 17/50
176/176 - 13s - loss: 0.2298 - accuracy: 0.9506 - val_loss: 0.4075 - val_accuracy: 0.7169 - lr: 0.0010 - 13s/epoch - 76ms/step
Epoch 18/50
176/176 - 13s - loss: 0.2296 - accuracy: 0.9513 - val_loss: 0.3973 - val_accuracy: 0.7323 - lr: 0.0010 - 13s/epoch - 76ms/step
Epoch 19/50
176/176 - 13s - loss: 0.2296 - accuracy: 0.9515 - val_loss: 0.4093 - val_accuracy: 0.7136 - lr: 0.0010 - 13s/epoch - 75ms/step
Epoch 20/50
176/176 - 13s - loss: 0.2302 - accuracy: 0.9502 - val_loss: 0.4077 - val_accuracy: 0.7178 - lr: 0.0010 - 13s/epoch - 73ms/step
Epoch 21/50
176/176 - 13s - loss: 0.2308 - accuracy: 0.9490 - val_loss: 0.4013 - val_accuracy: 0.7332 - lr: 0.0010 - 13s/epoch - 73ms/step
Epoch 22/50
176/176 - 12s - loss: 0.2314 - accuracy: 0.9483 - val_loss: 0.3971 - val_accuracy: 0.7331 - lr: 0.0010 - 12s/epoch - 69ms/step
Epoch 23/50
176/176 - 13s - loss: 0.2318 - accuracy: 0.9469 - val_loss: 0.4044 - val_accuracy: 0.7198 - lr: 0.0010 - 13s/epoch - 73ms/step
Epoch 24/50
176/176 - 13s - loss: 0.2316 - accuracy: 0.9471 - val_loss: 0.4022 - val_accuracy: 0.7273 - lr: 0.0010 - 13s/epoch - 76ms/step
Epoch 25/50
176/176 - 13s - loss: 0.2322 - accuracy: 0.9464 - val_loss: 0.4016 - val_accuracy: 0.7270 - lr: 0.0010 - 13s/epoch - 74ms/step
Epoch 26/50
176/176 - 13s - loss: 0.2320 - accuracy: 0.9475 - val_loss: 0.4082 - val_accuracy: 0.7174 - lr: 0.0010 - 13s/epoch - 74ms/step
Epoch 27/50
176/176 - 14s - loss: 0.2302 - accuracy: 0.9501 - val_loss: 0.4018 - val_accuracy: 0.7293 - lr: 0.0010 - 14s/epoch - 81ms/step
Epoch 28/50
176/176 - 13s - loss: 0.2296 - accuracy: 0.9508 - val_loss: 0.4006 - val_accuracy: 0.7314 - lr: 0.0010 - 13s/epoch - 75ms/step
Epoch 29/50
176/176 - 12s - loss: 0.2303 - accuracy: 0.9498 - val_loss: 0.3939 - val_accuracy: 0.7385 - lr: 0.0010 - 12s/epoch - 69ms/step
Epoch 30/50
176/176 - 12s - loss: 0.2306 - accuracy: 0.9493 - val_loss: 0.4147 - val_accuracy: 0.7138 - lr: 0.0010 - 12s/epoch - 70ms/step
Epoch 31/50
176/176 - 11s - loss: 0.2308 - accuracy: 0.9493 - val_loss: 0.4087 - val_accuracy: 0.7185 - lr: 0.0010 - 11s/epoch - 65ms/step
Epoch 32/50
176/176 - 12s - loss: 0.2307 - accuracy: 0.9488 - val_loss: 0.4012 - val_accuracy: 0.7297 - lr: 0.0010 - 12s/epoch - 69ms/step
Epoch 33/50
176/176 - 12s - loss: 0.2316 - accuracy: 0.9480 - val_loss: 0.3977 - val_accuracy: 0.7301 - lr: 0.0010 - 12s/epoch - 70ms/step
Epoch 34/50
176/176 - 13s - loss: 0.2308 - accuracy: 0.9490 - val_loss: 0.4063 - val_accuracy: 0.7193 - lr: 0.0010 - 13s/epoch - 74ms/step
Epoch 35/50
176/176 - 13s - loss: 0.2319 - accuracy: 0.9460 - val_loss: 0.4009 - val_accuracy: 0.7295 - lr: 0.0010 - 13s/epoch - 75ms/step
Epoch 36/50
176/176 - 13s - loss: 0.2314 - accuracy: 0.9479 - val_loss: 0.4006 - val_accuracy: 0.7293 - lr: 0.0010 - 13s/epoch - 75ms/step
Epoch 37/50
176/176 - 13s - loss: 0.2308 - accuracy: 0.9487 - val_loss: 0.4156 - val_accuracy: 0.7150 - lr: 0.0010 - 13s/epoch - 74ms/step
Epoch 38/50
176/176 - 13s - loss: 0.2315 - accuracy: 0.9468 - val_loss: 0.4113 - val_accuracy: 0.7174 - lr: 0.0010 - 13s/epoch - 73ms/step
Epoch 39/50
176/176 - 13s - loss: 0.2306 - accuracy: 0.9486 - val_loss: 0.4064 - val_accuracy: 0.7290 - lr: 0.0010 - 13s/epoch - 74ms/step
Epoch 40/50
176/176 - 14s - loss: 0.2300 - accuracy: 0.9504 - val_loss: 0.4073 - val_accuracy: 0.7273 - lr: 0.0010 - 14s/epoch - 77ms/step
Epoch 41/50
176/176 - 14s - loss: 0.2292 - accuracy: 0.9518 - val_loss: 0.4048 - val_accuracy: 0.7287 - lr: 0.0010 - 14s/epoch - 78ms/step
Epoch 42/50
176/176 - 13s - loss: 0.2296 - accuracy: 0.9503 - val_loss: 0.4022 - val_accuracy: 0.7372 - lr: 0.0010 - 13s/epoch - 73ms/step
Epoch 43/50
176/176 - 13s - loss: 0.2293 - accuracy: 0.9514 - val_loss: 0.4074 - val_accuracy: 0.7268 - lr: 0.0010 - 13s/epoch - 75ms/step
Epoch 44/50
176/176 - 13s - loss: 0.2290 - accuracy: 0.9508 - val_loss: 0.4138 - val_accuracy: 0.7236 - lr: 0.0010 - 13s/epoch - 75ms/step
Epoch 45/50
176/176 - 13s - loss: 0.2304 - accuracy: 0.9492 - val_loss: 0.4039 - val_accuracy: 0.7328 - lr: 0.0010 - 13s/epoch - 75ms/step
Epoch 46/50
176/176 - 12s - loss: 0.2293 - accuracy: 0.9515 - val_loss: 0.4026 - val_accuracy: 0.7364 - lr: 0.0010 - 12s/epoch - 71ms/step
Epoch 47/50
176/176 - 13s - loss: 0.2291 - accuracy: 0.9522 - val_loss: 0.4031 - val_accuracy: 0.7346 - lr: 0.0010 - 13s/epoch - 73ms/step
Epoch 48/50
176/176 - 13s - loss: 0.2298 - accuracy: 0.9503 - val_loss: 0.4156 - val_accuracy: 0.7257 - lr: 0.0010 - 13s/epoch - 72ms/step
Epoch 49/50
176/176 - 13s - loss: 0.2297 - accuracy: 0.9510 - val_loss: 0.4099 - val_accuracy: 0.7289 - lr: 0.0010 - 13s/epoch - 72ms/step
Epoch 50/50
176/176 - 13s - loss: 0.2299 - accuracy: 0.9499 - val_loss: 0.4007 - val_accuracy: 0.7418 - lr: 0.0010 - 13s/epoch - 75ms/step
fitting with batch size: 1500
Epoch 1/50
59/59 - 15s - loss: 0.2272 - accuracy: 0.9552 - val_loss: 0.4130 - val_accuracy: 0.7299 - lr: 0.0010 - 15s/epoch - 255ms/step
Epoch 2/50
59/59 - 12s - loss: 0.2246 - accuracy: 0.9598 - val_loss: 0.4150 - val_accuracy: 0.7304 - lr: 0.0010 - 12s/epoch - 204ms/step
Epoch 3/50
59/59 - 12s - loss: 0.2243 - accuracy: 0.9607 - val_loss: 0.4117 - val_accuracy: 0.7351 - lr: 0.0010 - 12s/epoch - 211ms/step
Epoch 4/50
59/59 - 12s - loss: 0.2238 - accuracy: 0.9619 - val_loss: 0.4151 - val_accuracy: 0.7352 - lr: 0.0010 - 12s/epoch - 199ms/step
Epoch 5/50
59/59 - 11s - loss: 0.2235 - accuracy: 0.9620 - val_loss: 0.4191 - val_accuracy: 0.7331 - lr: 0.0010 - 11s/epoch - 187ms/step
Epoch 6/50
59/59 - 11s - loss: 0.2241 - accuracy: 0.9608 - val_loss: 0.4137 - val_accuracy: 0.7363 - lr: 0.0010 - 11s/epoch - 189ms/step
Epoch 7/50
59/59 - 11s - loss: 0.2239 - accuracy: 0.9613 - val_loss: 0.4189 - val_accuracy: 0.7332 - lr: 0.0010 - 11s/epoch - 189ms/step
Epoch 8/50
59/59 - 12s - loss: 0.2237 - accuracy: 0.9610 - val_loss: 0.4184 - val_accuracy: 0.7364 - lr: 0.0010 - 12s/epoch - 203ms/step
Epoch 9/50
59/59 - 12s - loss: 0.2240 - accuracy: 0.9606 - val_loss: 0.4227 - val_accuracy: 0.7333 - lr: 0.0010 - 12s/epoch - 204ms/step
Epoch 10/50
59/59 - 12s - loss: 0.2242 - accuracy: 0.9606 - val_loss: 0.4247 - val_accuracy: 0.7317 - lr: 0.0010 - 12s/epoch - 203ms/step
Epoch 11/50
59/59 - 12s - loss: 0.2243 - accuracy: 0.9602 - val_loss: 0.4253 - val_accuracy: 0.7313 - lr: 0.0010 - 12s/epoch - 201ms/step
Epoch 12/50
59/59 - 12s - loss: 0.2249 - accuracy: 0.9597 - val_loss: 0.4224 - val_accuracy: 0.7347 - lr: 0.0010 - 12s/epoch - 202ms/step
Epoch 13/50
59/59 - 12s - loss: 0.2250 - accuracy: 0.9599 - val_loss: 0.4200 - val_accuracy: 0.7370 - lr: 0.0010 - 12s/epoch - 197ms/step
Epoch 14/50
59/59 - 13s - loss: 0.2254 - accuracy: 0.9582 - val_loss: 0.4259 - val_accuracy: 0.7309 - lr: 0.0010 - 13s/epoch - 212ms/step
Epoch 15/50
59/59 - 13s - loss: 0.2250 - accuracy: 0.9587 - val_loss: 0.4237 - val_accuracy: 0.7259 - lr: 0.0010 - 13s/epoch - 219ms/step
Epoch 16/50
59/59 - 12s - loss: 0.2250 - accuracy: 0.9587 - val_loss: 0.4207 - val_accuracy: 0.7342 - lr: 0.0010 - 12s/epoch - 211ms/step
Epoch 17/50
59/59 - 13s - loss: 0.2252 - accuracy: 0.9590 - val_loss: 0.4216 - val_accuracy: 0.7356 - lr: 0.0010 - 13s/epoch - 214ms/step
Epoch 18/50
59/59 - 13s - loss: 0.2258 - accuracy: 0.9573 - val_loss: 0.4245 - val_accuracy: 0.7284 - lr: 0.0010 - 13s/epoch - 215ms/step
Epoch 19/50
59/59 - 13s - loss: 0.2251 - accuracy: 0.9580 - val_loss: 0.4241 - val_accuracy: 0.7275 - lr: 0.0010 - 13s/epoch - 212ms/step
Epoch 20/50
59/59 - 12s - loss: 0.2251 - accuracy: 0.9581 - val_loss: 0.4166 - val_accuracy: 0.7403 - lr: 0.0010 - 12s/epoch - 206ms/step
Epoch 21/50
59/59 - 12s - loss: 0.2245 - accuracy: 0.9603 - val_loss: 0.4251 - val_accuracy: 0.7314 - lr: 0.0010 - 12s/epoch - 207ms/step
Epoch 22/50
59/59 - 12s - loss: 0.2246 - accuracy: 0.9599 - val_loss: 0.4219 - val_accuracy: 0.7351 - lr: 0.0010 - 12s/epoch - 207ms/step
Epoch 23/50
59/59 - 12s - loss: 0.2249 - accuracy: 0.9590 - val_loss: 0.4264 - val_accuracy: 0.7257 - lr: 0.0010 - 12s/epoch - 204ms/step
Epoch 24/50
59/59 - 13s - loss: 0.2250 - accuracy: 0.9587 - val_loss: 0.4214 - val_accuracy: 0.7317 - lr: 0.0010 - 13s/epoch - 218ms/step
Epoch 25/50
59/59 - 13s - loss: 0.2248 - accuracy: 0.9592 - val_loss: 0.4280 - val_accuracy: 0.7213 - lr: 0.0010 - 13s/epoch - 221ms/step
Epoch 26/50
59/59 - 12s - loss: 0.2249 - accuracy: 0.9587 - val_loss: 0.4296 - val_accuracy: 0.7303 - lr: 0.0010 - 12s/epoch - 203ms/step
Epoch 27/50
59/59 - 12s - loss: 0.2247 - accuracy: 0.9596 - val_loss: 0.4239 - val_accuracy: 0.7314 - lr: 0.0010 - 12s/epoch - 205ms/step
Epoch 28/50
59/59 - 11s - loss: 0.2247 - accuracy: 0.9595 - val_loss: 0.4320 - val_accuracy: 0.7252 - lr: 0.0010 - 11s/epoch - 194ms/step
Epoch 29/50
59/59 - 12s - loss: 0.2249 - accuracy: 0.9583 - val_loss: 0.4193 - val_accuracy: 0.7361 - lr: 0.0010 - 12s/epoch - 199ms/step
Epoch 30/50
59/59 - 12s - loss: 0.2243 - accuracy: 0.9602 - val_loss: 0.4299 - val_accuracy: 0.7280 - lr: 0.0010 - 12s/epoch - 199ms/step
Epoch 31/50
59/59 - 12s - loss: 0.2246 - accuracy: 0.9589 - val_loss: 0.4291 - val_accuracy: 0.7242 - lr: 0.0010 - 12s/epoch - 207ms/step
Epoch 32/50
59/59 - 13s - loss: 0.2243 - accuracy: 0.9597 - val_loss: 0.4318 - val_accuracy: 0.7221 - lr: 0.0010 - 13s/epoch - 215ms/step
Epoch 33/50
59/59 - 13s - loss: 0.2253 - accuracy: 0.9585 - val_loss: 0.4296 - val_accuracy: 0.7268 - lr: 0.0010 - 13s/epoch - 213ms/step
Epoch 34/50
59/59 - 13s - loss: 0.2243 - accuracy: 0.9602 - val_loss: 0.4205 - val_accuracy: 0.7333 - lr: 0.0010 - 13s/epoch - 214ms/step
Epoch 35/50
59/59 - 13s - loss: 0.2247 - accuracy: 0.9593 - val_loss: 0.4216 - val_accuracy: 0.7340 - lr: 0.0010 - 13s/epoch - 219ms/step
Epoch 36/50
59/59 - 13s - loss: 0.2241 - accuracy: 0.9603 - val_loss: 0.4320 - val_accuracy: 0.7216 - lr: 0.0010 - 13s/epoch - 216ms/step
Epoch 37/50
59/59 - 13s - loss: 0.2250 - accuracy: 0.9584 - val_loss: 0.4301 - val_accuracy: 0.7236 - lr: 0.0010 - 13s/epoch - 217ms/step
Epoch 38/50
59/59 - 13s - loss: 0.2243 - accuracy: 0.9600 - val_loss: 0.4301 - val_accuracy: 0.7258 - lr: 0.0010 - 13s/epoch - 214ms/step
Epoch 39/50
59/59 - 12s - loss: 0.2244 - accuracy: 0.9593 - val_loss: 0.4254 - val_accuracy: 0.7257 - lr: 0.0010 - 12s/epoch - 209ms/step
Epoch 40/50
59/59 - 12s - loss: 0.2242 - accuracy: 0.9595 - val_loss: 0.4198 - val_accuracy: 0.7369 - lr: 0.0010 - 12s/epoch - 210ms/step
Epoch 41/50
59/59 - 12s - loss: 0.2246 - accuracy: 0.9591 - val_loss: 0.4288 - val_accuracy: 0.7253 - lr: 0.0010 - 12s/epoch - 207ms/step
Epoch 42/50
59/59 - 13s - loss: 0.2241 - accuracy: 0.9607 - val_loss: 0.4256 - val_accuracy: 0.7334 - lr: 0.0010 - 13s/epoch - 220ms/step
Epoch 43/50
59/59 - 11s - loss: 0.2246 - accuracy: 0.9601 - val_loss: 0.4266 - val_accuracy: 0.7283 - lr: 0.0010 - 11s/epoch - 192ms/step
Epoch 44/50
59/59 - 12s - loss: 0.2242 - accuracy: 0.9602 - val_loss: 0.4345 - val_accuracy: 0.7221 - lr: 0.0010 - 12s/epoch - 200ms/step
Epoch 45/50
59/59 - 11s - loss: 0.2244 - accuracy: 0.9603 - val_loss: 0.4335 - val_accuracy: 0.7233 - lr: 0.0010 - 11s/epoch - 191ms/step
Epoch 46/50
59/59 - 11s - loss: 0.2243 - accuracy: 0.9602 - val_loss: 0.4303 - val_accuracy: 0.7247 - lr: 0.0010 - 11s/epoch - 182ms/step
Epoch 47/50
59/59 - 11s - loss: 0.2241 - accuracy: 0.9612 - val_loss: 0.4293 - val_accuracy: 0.7319 - lr: 0.0010 - 11s/epoch - 193ms/step
Epoch 48/50
59/59 - 11s - loss: 0.2239 - accuracy: 0.9606 - val_loss: 0.4397 - val_accuracy: 0.7223 - lr: 0.0010 - 11s/epoch - 186ms/step
Epoch 49/50
59/59 - 12s - loss: 0.2243 - accuracy: 0.9600 - val_loss: 0.4311 - val_accuracy: 0.7303 - lr: 0.0010 - 12s/epoch - 195ms/step
Epoch 50/50
59/59 - 11s - loss: 0.2243 - accuracy: 0.9601 - val_loss: 0.4316 - val_accuracy: 0.7252 - lr: 0.0010 - 11s/epoch - 194ms/step
fitting with batch size: 2500
Epoch 1/50
36/36 - 13s - loss: 0.2228 - accuracy: 0.9632 - val_loss: 0.4368 - val_accuracy: 0.7243 - lr: 0.0010 - 13s/epoch - 362ms/step
Epoch 2/50
36/36 - 11s - loss: 0.2230 - accuracy: 0.9623 - val_loss: 0.4432 - val_accuracy: 0.7176 - lr: 0.0010 - 11s/epoch - 293ms/step
Epoch 3/50
36/36 - 11s - loss: 0.2222 - accuracy: 0.9642 - val_loss: 0.4362 - val_accuracy: 0.7230 - lr: 0.0010 - 11s/epoch - 297ms/step
Epoch 4/50
36/36 - 10s - loss: 0.2213 - accuracy: 0.9652 - val_loss: 0.4378 - val_accuracy: 0.7266 - lr: 0.0010 - 10s/epoch - 285ms/step
Epoch 5/50
36/36 - 10s - loss: 0.2215 - accuracy: 0.9658 - val_loss: 0.4450 - val_accuracy: 0.7163 - lr: 0.0010 - 10s/epoch - 286ms/step
Epoch 6/50
36/36 - 10s - loss: 0.2209 - accuracy: 0.9656 - val_loss: 0.4429 - val_accuracy: 0.7214 - lr: 0.0010 - 10s/epoch - 288ms/step
Epoch 7/50
36/36 - 10s - loss: 0.2207 - accuracy: 0.9664 - val_loss: 0.4428 - val_accuracy: 0.7219 - lr: 0.0010 - 10s/epoch - 286ms/step
Epoch 8/50
36/36 - 10s - loss: 0.2206 - accuracy: 0.9667 - val_loss: 0.4444 - val_accuracy: 0.7192 - lr: 0.0010 - 10s/epoch - 290ms/step
Epoch 9/50
36/36 - 10s - loss: 0.2216 - accuracy: 0.9654 - val_loss: 0.4412 - val_accuracy: 0.7235 - lr: 0.0010 - 10s/epoch - 289ms/step
Epoch 10/50
36/36 - 10s - loss: 0.2205 - accuracy: 0.9672 - val_loss: 0.4461 - val_accuracy: 0.7199 - lr: 0.0010 - 10s/epoch - 285ms/step
Epoch 11/50
36/36 - 10s - loss: 0.2208 - accuracy: 0.9666 - val_loss: 0.4412 - val_accuracy: 0.7260 - lr: 0.0010 - 10s/epoch - 288ms/step
Epoch 12/50
36/36 - 10s - loss: 0.2202 - accuracy: 0.9673 - val_loss: 0.4454 - val_accuracy: 0.7206 - lr: 0.0010 - 10s/epoch - 286ms/step
Epoch 13/50
36/36 - 11s - loss: 0.2204 - accuracy: 0.9673 - val_loss: 0.4471 - val_accuracy: 0.7212 - lr: 0.0010 - 11s/epoch - 312ms/step
Epoch 14/50
36/36 - 11s - loss: 0.2199 - accuracy: 0.9679 - val_loss: 0.4463 - val_accuracy: 0.7211 - lr: 0.0010 - 11s/epoch - 301ms/step
Epoch 15/50
36/36 - 11s - loss: 0.2198 - accuracy: 0.9684 - val_loss: 0.4476 - val_accuracy: 0.7194 - lr: 0.0010 - 11s/epoch - 298ms/step
Epoch 16/50
36/36 - 11s - loss: 0.2206 - accuracy: 0.9667 - val_loss: 0.4473 - val_accuracy: 0.7189 - lr: 0.0010 - 11s/epoch - 297ms/step
Epoch 17/50
36/36 - 10s - loss: 0.2202 - accuracy: 0.9678 - val_loss: 0.4528 - val_accuracy: 0.7182 - lr: 0.0010 - 10s/epoch - 272ms/step
Epoch 18/50
36/36 - 9s - loss: 0.2197 - accuracy: 0.9686 - val_loss: 0.4481 - val_accuracy: 0.7234 - lr: 0.0010 - 9s/epoch - 240ms/step
Epoch 19/50
36/36 - 11s - loss: 0.2199 - accuracy: 0.9675 - val_loss: 0.4533 - val_accuracy: 0.7164 - lr: 0.0010 - 11s/epoch - 309ms/step
Epoch 20/50
36/36 - 10s - loss: 0.2203 - accuracy: 0.9679 - val_loss: 0.4535 - val_accuracy: 0.7193 - lr: 0.0010 - 10s/epoch - 288ms/step
Epoch 21/50
36/36 - 10s - loss: 0.2198 - accuracy: 0.9683 - val_loss: 0.4516 - val_accuracy: 0.7196 - lr: 0.0010 - 10s/epoch - 284ms/step
Epoch 22/50
36/36 - 10s - loss: 0.2197 - accuracy: 0.9689 - val_loss: 0.4495 - val_accuracy: 0.7237 - lr: 0.0010 - 10s/epoch - 288ms/step
Epoch 23/50
36/36 - 10s - loss: 0.2198 - accuracy: 0.9685 - val_loss: 0.4483 - val_accuracy: 0.7234 - lr: 0.0010 - 10s/epoch - 289ms/step
Epoch 24/50
36/36 - 10s - loss: 0.2198 - accuracy: 0.9679 - val_loss: 0.4496 - val_accuracy: 0.7233 - lr: 0.0010 - 10s/epoch - 289ms/step
Epoch 25/50
36/36 - 11s - loss: 0.2199 - accuracy: 0.9677 - val_loss: 0.4475 - val_accuracy: 0.7229 - lr: 0.0010 - 11s/epoch - 292ms/step
Epoch 26/50
36/36 - 11s - loss: 0.2203 - accuracy: 0.9676 - val_loss: 0.4515 - val_accuracy: 0.7191 - lr: 0.0010 - 11s/epoch - 296ms/step
Epoch 27/50
36/36 - 11s - loss: 0.2196 - accuracy: 0.9685 - val_loss: 0.4560 - val_accuracy: 0.7156 - lr: 0.0010 - 11s/epoch - 315ms/step
Epoch 28/50
36/36 - 11s - loss: 0.2199 - accuracy: 0.9680 - val_loss: 0.4518 - val_accuracy: 0.7200 - lr: 0.0010 - 11s/epoch - 305ms/step
Epoch 29/50
36/36 - 11s - loss: 0.2204 - accuracy: 0.9666 - val_loss: 0.4520 - val_accuracy: 0.7189 - lr: 0.0010 - 11s/epoch - 294ms/step
Epoch 30/50
36/36 - 11s - loss: 0.2197 - accuracy: 0.9680 - val_loss: 0.4531 - val_accuracy: 0.7206 - lr: 0.0010 - 11s/epoch - 297ms/step
Epoch 31/50
36/36 - 11s - loss: 0.2193 - accuracy: 0.9692 - val_loss: 0.4536 - val_accuracy: 0.7173 - lr: 0.0010 - 11s/epoch - 296ms/step
Epoch 32/50
36/36 - 11s - loss: 0.2199 - accuracy: 0.9679 - val_loss: 0.4524 - val_accuracy: 0.7199 - lr: 0.0010 - 11s/epoch - 293ms/step
Epoch 33/50
36/36 - 11s - loss: 0.2199 - accuracy: 0.9678 - val_loss: 0.4520 - val_accuracy: 0.7213 - lr: 0.0010 - 11s/epoch - 315ms/step
Epoch 34/50
36/36 - 11s - loss: 0.2194 - accuracy: 0.9689 - val_loss: 0.4562 - val_accuracy: 0.7202 - lr: 0.0010 - 11s/epoch - 304ms/step
Epoch 35/50
36/36 - 11s - loss: 0.2193 - accuracy: 0.9690 - val_loss: 0.4554 - val_accuracy: 0.7183 - lr: 0.0010 - 11s/epoch - 294ms/step
Epoch 36/50
36/36 - 11s - loss: 0.2200 - accuracy: 0.9689 - val_loss: 0.4480 - val_accuracy: 0.7262 - lr: 0.0010 - 11s/epoch - 292ms/step
Epoch 37/50
36/36 - 10s - loss: 0.2196 - accuracy: 0.9679 - val_loss: 0.4552 - val_accuracy: 0.7212 - lr: 0.0010 - 10s/epoch - 287ms/step
Epoch 38/50
36/36 - 11s - loss: 0.2190 - accuracy: 0.9694 - val_loss: 0.4575 - val_accuracy: 0.7226 - lr: 0.0010 - 11s/epoch - 296ms/step
Epoch 39/50
36/36 - 11s - loss: 0.2201 - accuracy: 0.9678 - val_loss: 0.4548 - val_accuracy: 0.7225 - lr: 0.0010 - 11s/epoch - 304ms/step
Epoch 40/50
36/36 - 11s - loss: 0.2190 - accuracy: 0.9695 - val_loss: 0.4569 - val_accuracy: 0.7209 - lr: 0.0010 - 11s/epoch - 305ms/step
Epoch 41/50
36/36 - 11s - loss: 0.2191 - accuracy: 0.9698 - val_loss: 0.4597 - val_accuracy: 0.7186 - lr: 0.0010 - 11s/epoch - 295ms/step
Epoch 42/50
36/36 - 12s - loss: 0.2190 - accuracy: 0.9687 - val_loss: 0.4621 - val_accuracy: 0.7148 - lr: 0.0010 - 12s/epoch - 326ms/step
Epoch 43/50
36/36 - 11s - loss: 0.2194 - accuracy: 0.9683 - val_loss: 0.4597 - val_accuracy: 0.7216 - lr: 0.0010 - 11s/epoch - 303ms/step
Epoch 44/50
36/36 - 11s - loss: 0.2193 - accuracy: 0.9694 - val_loss: 0.4591 - val_accuracy: 0.7189 - lr: 0.0010 - 11s/epoch - 302ms/step
Epoch 45/50
36/36 - 11s - loss: 0.2188 - accuracy: 0.9698 - val_loss: 0.4629 - val_accuracy: 0.7177 - lr: 0.0010 - 11s/epoch - 312ms/step
Epoch 46/50
36/36 - 11s - loss: 0.2195 - accuracy: 0.9685 - val_loss: 0.4635 - val_accuracy: 0.7159 - lr: 0.0010 - 11s/epoch - 296ms/step
Epoch 47/50
36/36 - 11s - loss: 0.2190 - accuracy: 0.9691 - val_loss: 0.4623 - val_accuracy: 0.7180 - lr: 0.0010 - 11s/epoch - 295ms/step
Epoch 48/50
36/36 - 10s - loss: 0.2191 - accuracy: 0.9689 - val_loss: 0.4566 - val_accuracy: 0.7228 - lr: 0.0010 - 10s/epoch - 288ms/step
Epoch 49/50
36/36 - 10s - loss: 0.2191 - accuracy: 0.9698 - val_loss: 0.4543 - val_accuracy: 0.7267 - lr: 0.0010 - 10s/epoch - 285ms/step
Epoch 50/50
36/36 - 10s - loss: 0.2193 - accuracy: 0.9690 - val_loss: 0.4542 - val_accuracy: 0.7264 - lr: 0.0010 - 10s/epoch - 288ms/step
