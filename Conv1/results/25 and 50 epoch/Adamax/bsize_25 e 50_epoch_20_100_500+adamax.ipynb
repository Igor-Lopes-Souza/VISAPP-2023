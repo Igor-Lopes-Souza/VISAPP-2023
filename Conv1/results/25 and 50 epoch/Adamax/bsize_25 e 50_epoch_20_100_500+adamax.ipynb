Loss: categorical_crossentropy
Epoch number: 25
fitting with batch size: 20
Epoch 1/25
4378/4378 - 104s - loss: 0.3687 - accuracy: 0.8697 - val_loss: 0.8372 - val_accuracy: 0.7833 - lr: 0.0010 - 104s/epoch - 24ms/step
Epoch 2/25
4378/4378 - 110s - loss: 0.3901 - accuracy: 0.8603 - val_loss: 0.9096 - val_accuracy: 0.7579 - lr: 0.0010 - 110s/epoch - 25ms/step
Epoch 3/25
4378/4378 - 142s - loss: 0.3963 - accuracy: 0.8572 - val_loss: 0.8361 - val_accuracy: 0.7727 - lr: 0.0010 - 142s/epoch - 32ms/step
Epoch 4/25
4378/4378 - 95s - loss: 0.4066 - accuracy: 0.8522 - val_loss: 0.8312 - val_accuracy: 0.7909 - lr: 0.0010 - 95s/epoch - 22ms/step
Epoch 5/25
4378/4378 - 97s - loss: 0.4076 - accuracy: 0.8530 - val_loss: 0.7688 - val_accuracy: 0.7892 - lr: 0.0010 - 97s/epoch - 22ms/step
Epoch 6/25
4378/4378 - 105s - loss: 0.4120 - accuracy: 0.8539 - val_loss: 0.8566 - val_accuracy: 0.7622 - lr: 0.0010 - 105s/epoch - 24ms/step
Epoch 7/25
4378/4378 - 81s - loss: 0.3996 - accuracy: 0.8555 - val_loss: 0.7622 - val_accuracy: 0.8016 - lr: 0.0010 - 81s/epoch - 18ms/step
Epoch 8/25
4378/4378 - 94s - loss: 0.4063 - accuracy: 0.8543 - val_loss: 0.8534 - val_accuracy: 0.7711 - lr: 0.0010 - 94s/epoch - 21ms/step
Epoch 9/25
4378/4378 - 103s - loss: 0.4062 - accuracy: 0.8532 - val_loss: 0.8396 - val_accuracy: 0.7744 - lr: 0.0010 - 103s/epoch - 23ms/step
Epoch 10/25
4378/4378 - 80s - loss: 0.4096 - accuracy: 0.8537 - val_loss: 0.8318 - val_accuracy: 0.7746 - lr: 0.0010 - 80s/epoch - 18ms/step
Epoch 11/25
4378/4378 - 82s - loss: 0.4129 - accuracy: 0.8537 - val_loss: 0.8766 - val_accuracy: 0.7540 - lr: 0.0010 - 82s/epoch - 19ms/step
Epoch 12/25
4378/4378 - 90s - loss: 0.4017 - accuracy: 0.8537 - val_loss: 0.8194 - val_accuracy: 0.7735 - lr: 0.0010 - 90s/epoch - 20ms/step
Epoch 13/25
4378/4378 - 92s - loss: 0.4091 - accuracy: 0.8542 - val_loss: 0.7782 - val_accuracy: 0.7916 - lr: 0.0010 - 92s/epoch - 21ms/step
Epoch 14/25
4378/4378 - 123s - loss: 0.4067 - accuracy: 0.8533 - val_loss: 0.6791 - val_accuracy: 0.8302 - lr: 0.0010 - 123s/epoch - 28ms/step
Epoch 15/25
4378/4378 - 83s - loss: 0.4105 - accuracy: 0.8520 - val_loss: 0.7821 - val_accuracy: 0.7840 - lr: 0.0010 - 83s/epoch - 19ms/step
Epoch 16/25
4378/4378 - 113s - loss: 0.4127 - accuracy: 0.8502 - val_loss: 0.9476 - val_accuracy: 0.7513 - lr: 0.0010 - 113s/epoch - 26ms/step
Epoch 17/25
4378/4378 - 85s - loss: 0.4176 - accuracy: 0.8487 - val_loss: 0.7781 - val_accuracy: 0.8067 - lr: 0.0010 - 85s/epoch - 19ms/step
Epoch 18/25
4378/4378 - 86s - loss: 0.4159 - accuracy: 0.8487 - val_loss: 0.8018 - val_accuracy: 0.7972 - lr: 0.0010 - 86s/epoch - 20ms/step
Epoch 19/25
4378/4378 - 76s - loss: 0.4042 - accuracy: 0.8549 - val_loss: 0.9124 - val_accuracy: 0.7881 - lr: 0.0010 - 76s/epoch - 17ms/step
Epoch 20/25
4378/4378 - 81s - loss: 0.4093 - accuracy: 0.8522 - val_loss: 0.7563 - val_accuracy: 0.7924 - lr: 0.0010 - 81s/epoch - 18ms/step
Epoch 21/25
4378/4378 - 77s - loss: 0.4105 - accuracy: 0.8510 - val_loss: 0.8025 - val_accuracy: 0.7826 - lr: 0.0010 - 77s/epoch - 17ms/step
Epoch 22/25
4378/4378 - 80s - loss: 0.4099 - accuracy: 0.8519 - val_loss: 0.7951 - val_accuracy: 0.7801 - lr: 0.0010 - 80s/epoch - 18ms/step
Epoch 23/25
4378/4378 - 81s - loss: 0.4092 - accuracy: 0.8534 - val_loss: 0.7921 - val_accuracy: 0.7859 - lr: 0.0010 - 81s/epoch - 18ms/step
Epoch 24/25
4378/4378 - 79s - loss: 0.4120 - accuracy: 0.8512 - val_loss: 0.7734 - val_accuracy: 0.7929 - lr: 0.0010 - 79s/epoch - 18ms/step
Epoch 25/25
4378/4378 - 81s - loss: 0.4184 - accuracy: 0.8486 - val_loss: 0.9868 - val_accuracy: 0.7275 - lr: 0.0010 - 81s/epoch - 19ms/step
fitting with batch size: 100
Epoch 1/25
876/876 - 24s - loss: 0.3253 - accuracy: 0.8808 - val_loss: 1.0402 - val_accuracy: 0.7425 - lr: 0.0010 - 24s/epoch - 28ms/step
Epoch 2/25
876/876 - 20s - loss: 0.2997 - accuracy: 0.8884 - val_loss: 0.9562 - val_accuracy: 0.7645 - lr: 0.0010 - 20s/epoch - 23ms/step
Epoch 3/25
876/876 - 20s - loss: 0.3016 - accuracy: 0.8883 - val_loss: 1.0362 - val_accuracy: 0.7510 - lr: 0.0010 - 20s/epoch - 23ms/step
Epoch 4/25
876/876 - 20s - loss: 0.2841 - accuracy: 0.8952 - val_loss: 1.0086 - val_accuracy: 0.7600 - lr: 0.0010 - 20s/epoch - 23ms/step
Epoch 5/25
876/876 - 20s - loss: 0.2895 - accuracy: 0.8923 - val_loss: 1.0567 - val_accuracy: 0.7395 - lr: 0.0010 - 20s/epoch - 23ms/step
Epoch 6/25
876/876 - 20s - loss: 0.2819 - accuracy: 0.8950 - val_loss: 1.0077 - val_accuracy: 0.7624 - lr: 0.0010 - 20s/epoch - 23ms/step
Epoch 7/25
876/876 - 20s - loss: 0.2808 - accuracy: 0.8949 - val_loss: 0.9651 - val_accuracy: 0.7725 - lr: 0.0010 - 20s/epoch - 23ms/step
Epoch 8/25
876/876 - 21s - loss: 0.2790 - accuracy: 0.8955 - val_loss: 0.9275 - val_accuracy: 0.7723 - lr: 0.0010 - 21s/epoch - 24ms/step
Epoch 9/25
876/876 - 22s - loss: 0.2745 - accuracy: 0.8980 - val_loss: 0.9568 - val_accuracy: 0.7656 - lr: 0.0010 - 22s/epoch - 25ms/step
Epoch 10/25
876/876 - 22s - loss: 0.2719 - accuracy: 0.8985 - val_loss: 0.9696 - val_accuracy: 0.7647 - lr: 0.0010 - 22s/epoch - 25ms/step
Epoch 11/25
876/876 - 27s - loss: 0.2756 - accuracy: 0.8980 - val_loss: 0.9477 - val_accuracy: 0.7593 - lr: 0.0010 - 27s/epoch - 31ms/step
Epoch 12/25
876/876 - 22s - loss: 0.2700 - accuracy: 0.8993 - val_loss: 0.9591 - val_accuracy: 0.7691 - lr: 0.0010 - 22s/epoch - 25ms/step
Epoch 13/25
876/876 - 22s - loss: 0.2679 - accuracy: 0.9001 - val_loss: 0.9388 - val_accuracy: 0.7748 - lr: 0.0010 - 22s/epoch - 25ms/step
Epoch 14/25
876/876 - 23s - loss: 0.2604 - accuracy: 0.9027 - val_loss: 1.0623 - val_accuracy: 0.7504 - lr: 0.0010 - 23s/epoch - 27ms/step
Epoch 15/25
876/876 - 23s - loss: 0.2660 - accuracy: 0.9007 - val_loss: 1.0153 - val_accuracy: 0.7580 - lr: 0.0010 - 23s/epoch - 26ms/step
Epoch 16/25
876/876 - 23s - loss: 0.2593 - accuracy: 0.9039 - val_loss: 1.0156 - val_accuracy: 0.7649 - lr: 0.0010 - 23s/epoch - 27ms/step
Epoch 17/25
876/876 - 22s - loss: 0.2644 - accuracy: 0.9018 - val_loss: 0.9900 - val_accuracy: 0.7648 - lr: 0.0010 - 22s/epoch - 26ms/step
Epoch 18/25
876/876 - 21s - loss: 0.2654 - accuracy: 0.9012 - val_loss: 1.0226 - val_accuracy: 0.7606 - lr: 0.0010 - 21s/epoch - 24ms/step
Epoch 19/25
876/876 - 22s - loss: 0.2626 - accuracy: 0.9019 - val_loss: 1.0119 - val_accuracy: 0.7643 - lr: 0.0010 - 22s/epoch - 25ms/step
Epoch 20/25
876/876 - 22s - loss: 0.2598 - accuracy: 0.9032 - val_loss: 1.1687 - val_accuracy: 0.7435 - lr: 0.0010 - 22s/epoch - 25ms/step
Epoch 21/25
876/876 - 23s - loss: 0.2584 - accuracy: 0.9044 - val_loss: 0.9413 - val_accuracy: 0.7675 - lr: 0.0010 - 23s/epoch - 26ms/step
Epoch 22/25
876/876 - 23s - loss: 0.2557 - accuracy: 0.9049 - val_loss: 0.9864 - val_accuracy: 0.7618 - lr: 0.0010 - 23s/epoch - 26ms/step
Epoch 23/25
876/876 - 23s - loss: 0.2616 - accuracy: 0.9016 - val_loss: 1.0153 - val_accuracy: 0.7617 - lr: 0.0010 - 23s/epoch - 27ms/step
Epoch 24/25
876/876 - 23s - loss: 0.2578 - accuracy: 0.9036 - val_loss: 0.9820 - val_accuracy: 0.7663 - lr: 0.0010 - 23s/epoch - 26ms/step
Epoch 25/25
876/876 - 23s - loss: 0.2605 - accuracy: 0.9031 - val_loss: 0.9442 - val_accuracy: 0.7827 - lr: 0.0010 - 23s/epoch - 26ms/step
fitting with batch size: 500
Epoch 1/25
176/176 - 19s - loss: 0.2144 - accuracy: 0.9197 - val_loss: 1.3101 - val_accuracy: 0.7304 - lr: 0.0010 - 19s/epoch - 109ms/step
Epoch 2/25
176/176 - 13s - loss: 0.2067 - accuracy: 0.9222 - val_loss: 1.1724 - val_accuracy: 0.7444 - lr: 0.0010 - 13s/epoch - 73ms/step
Epoch 3/25
176/176 - 13s - loss: 0.2021 - accuracy: 0.9238 - val_loss: 1.3000 - val_accuracy: 0.7428 - lr: 0.0010 - 13s/epoch - 73ms/step
Epoch 4/25
176/176 - 13s - loss: 0.2000 - accuracy: 0.9240 - val_loss: 1.2220 - val_accuracy: 0.7512 - lr: 0.0010 - 13s/epoch - 75ms/step
Epoch 5/25
176/176 - 13s - loss: 0.1955 - accuracy: 0.9265 - val_loss: 1.2930 - val_accuracy: 0.7419 - lr: 0.0010 - 13s/epoch - 74ms/step
Epoch 6/25
176/176 - 13s - loss: 0.1948 - accuracy: 0.9261 - val_loss: 1.3605 - val_accuracy: 0.7373 - lr: 0.0010 - 13s/epoch - 74ms/step
Epoch 7/25
176/176 - 13s - loss: 0.1938 - accuracy: 0.9268 - val_loss: 1.3816 - val_accuracy: 0.7423 - lr: 0.0010 - 13s/epoch - 74ms/step
Epoch 8/25
176/176 - 13s - loss: 0.1928 - accuracy: 0.9272 - val_loss: 1.3476 - val_accuracy: 0.7474 - lr: 0.0010 - 13s/epoch - 75ms/step
Epoch 9/25
176/176 - 13s - loss: 0.1929 - accuracy: 0.9263 - val_loss: 1.4489 - val_accuracy: 0.7375 - lr: 0.0010 - 13s/epoch - 74ms/step
Epoch 10/25
176/176 - 13s - loss: 0.1875 - accuracy: 0.9284 - val_loss: 1.3840 - val_accuracy: 0.7418 - lr: 0.0010 - 13s/epoch - 74ms/step
Epoch 11/25
176/176 - 13s - loss: 0.1909 - accuracy: 0.9279 - val_loss: 1.4274 - val_accuracy: 0.7377 - lr: 0.0010 - 13s/epoch - 74ms/step
Epoch 12/25
176/176 - 13s - loss: 0.1902 - accuracy: 0.9278 - val_loss: 1.4213 - val_accuracy: 0.7416 - lr: 0.0010 - 13s/epoch - 74ms/step
Epoch 13/25
176/176 - 13s - loss: 0.1894 - accuracy: 0.9287 - val_loss: 1.3253 - val_accuracy: 0.7455 - lr: 0.0010 - 13s/epoch - 74ms/step
Epoch 14/25
176/176 - 13s - loss: 0.1873 - accuracy: 0.9301 - val_loss: 1.3407 - val_accuracy: 0.7407 - lr: 0.0010 - 13s/epoch - 74ms/step
Epoch 15/25
176/176 - 13s - loss: 0.1872 - accuracy: 0.9291 - val_loss: 1.3250 - val_accuracy: 0.7532 - lr: 0.0010 - 13s/epoch - 74ms/step
Epoch 16/25
176/176 - 13s - loss: 0.1850 - accuracy: 0.9304 - val_loss: 1.4041 - val_accuracy: 0.7419 - lr: 0.0010 - 13s/epoch - 74ms/step
Epoch 17/25
176/176 - 13s - loss: 0.1852 - accuracy: 0.9303 - val_loss: 1.4677 - val_accuracy: 0.7342 - lr: 0.0010 - 13s/epoch - 74ms/step
Epoch 18/25
176/176 - 13s - loss: 0.1867 - accuracy: 0.9297 - val_loss: 1.4309 - val_accuracy: 0.7381 - lr: 0.0010 - 13s/epoch - 73ms/step
Epoch 19/25
176/176 - 13s - loss: 0.1813 - accuracy: 0.9315 - val_loss: 1.3797 - val_accuracy: 0.7455 - lr: 0.0010 - 13s/epoch - 73ms/step
Epoch 20/25
176/176 - 13s - loss: 0.1851 - accuracy: 0.9301 - val_loss: 1.3316 - val_accuracy: 0.7519 - lr: 0.0010 - 13s/epoch - 73ms/step
Epoch 21/25
176/176 - 13s - loss: 0.1816 - accuracy: 0.9314 - val_loss: 1.4138 - val_accuracy: 0.7380 - lr: 0.0010 - 13s/epoch - 73ms/step
Epoch 22/25
176/176 - 13s - loss: 0.1805 - accuracy: 0.9313 - val_loss: 1.5333 - val_accuracy: 0.7291 - lr: 0.0010 - 13s/epoch - 74ms/step
Epoch 23/25
176/176 - 13s - loss: 0.1824 - accuracy: 0.9306 - val_loss: 1.3558 - val_accuracy: 0.7601 - lr: 0.0010 - 13s/epoch - 73ms/step
Epoch 24/25
176/176 - 13s - loss: 0.1791 - accuracy: 0.9321 - val_loss: 1.5340 - val_accuracy: 0.7226 - lr: 0.0010 - 13s/epoch - 73ms/step
Epoch 25/25
176/176 - 13s - loss: 0.1819 - accuracy: 0.9316 - val_loss: 1.4273 - val_accuracy: 0.7429 - lr: 0.0010 - 13s/epoch - 74ms/step
Epoch number: 50
fitting with batch size: 20
Epoch 1/50
4378/4378 - 85s - loss: 0.3635 - accuracy: 0.8688 - val_loss: 0.8172 - val_accuracy: 0.7879 - lr: 0.0010 - 85s/epoch - 19ms/step
Epoch 2/50
4378/4378 - 82s - loss: 0.3841 - accuracy: 0.8618 - val_loss: 0.7151 - val_accuracy: 0.8192 - lr: 0.0010 - 82s/epoch - 19ms/step
Epoch 3/50
4378/4378 - 82s - loss: 0.3902 - accuracy: 0.8594 - val_loss: 0.9384 - val_accuracy: 0.7470 - lr: 0.0010 - 82s/epoch - 19ms/step
Epoch 4/50
4378/4378 - 82s - loss: 0.3909 - accuracy: 0.8596 - val_loss: 0.8709 - val_accuracy: 0.7549 - lr: 0.0010 - 82s/epoch - 19ms/step
Epoch 5/50
4378/4378 - 82s - loss: 0.3957 - accuracy: 0.8567 - val_loss: 0.6932 - val_accuracy: 0.8103 - lr: 0.0010 - 82s/epoch - 19ms/step
Epoch 6/50
4378/4378 - 83s - loss: 0.3937 - accuracy: 0.8585 - val_loss: 0.9972 - val_accuracy: 0.7484 - lr: 0.0010 - 83s/epoch - 19ms/step
Epoch 7/50
4378/4378 - 82s - loss: 0.3957 - accuracy: 0.8563 - val_loss: 0.8136 - val_accuracy: 0.7926 - lr: 0.0010 - 82s/epoch - 19ms/step
Epoch 8/50
4378/4378 - 82s - loss: 0.3953 - accuracy: 0.8582 - val_loss: 0.6991 - val_accuracy: 0.8101 - lr: 0.0010 - 82s/epoch - 19ms/step
Epoch 9/50
4378/4378 - 82s - loss: 0.3965 - accuracy: 0.8566 - val_loss: 0.8011 - val_accuracy: 0.7865 - lr: 0.0010 - 82s/epoch - 19ms/step
Epoch 10/50
4378/4378 - 90s - loss: 0.3965 - accuracy: 0.8563 - val_loss: 0.8157 - val_accuracy: 0.7870 - lr: 0.0010 - 90s/epoch - 20ms/step
Epoch 11/50
4378/4378 - 88s - loss: 0.3987 - accuracy: 0.8553 - val_loss: 0.7834 - val_accuracy: 0.7850 - lr: 0.0010 - 88s/epoch - 20ms/step
Epoch 12/50
4378/4378 - 104s - loss: 0.3985 - accuracy: 0.8567 - val_loss: 0.9209 - val_accuracy: 0.7551 - lr: 0.0010 - 104s/epoch - 24ms/step
Epoch 13/50
4378/4378 - 88s - loss: 0.4062 - accuracy: 0.8531 - val_loss: 0.7890 - val_accuracy: 0.7849 - lr: 0.0010 - 88s/epoch - 20ms/step
Epoch 14/50
4378/4378 - 88s - loss: 0.4063 - accuracy: 0.8538 - val_loss: 0.8092 - val_accuracy: 0.7827 - lr: 0.0010 - 88s/epoch - 20ms/step
Epoch 15/50
4378/4378 - 85s - loss: 0.4094 - accuracy: 0.8510 - val_loss: 0.7362 - val_accuracy: 0.8113 - lr: 0.0010 - 85s/epoch - 19ms/step
Epoch 16/50
4378/4378 - 84s - loss: 0.4039 - accuracy: 0.8544 - val_loss: 0.8645 - val_accuracy: 0.7622 - lr: 0.0010 - 84s/epoch - 19ms/step
Epoch 17/50
4378/4378 - 82s - loss: 0.4038 - accuracy: 0.8540 - val_loss: 0.7551 - val_accuracy: 0.7912 - lr: 0.0010 - 82s/epoch - 19ms/step
Epoch 18/50
4378/4378 - 83s - loss: 0.4010 - accuracy: 0.8546 - val_loss: 0.8088 - val_accuracy: 0.7810 - lr: 0.0010 - 83s/epoch - 19ms/step
Epoch 19/50
4378/4378 - 84s - loss: 0.4049 - accuracy: 0.8538 - val_loss: 0.7430 - val_accuracy: 0.7979 - lr: 0.0010 - 84s/epoch - 19ms/step
Epoch 20/50
4378/4378 - 87s - loss: 0.4124 - accuracy: 0.8521 - val_loss: 0.8198 - val_accuracy: 0.7812 - lr: 0.0010 - 87s/epoch - 20ms/step
Epoch 21/50
4378/4378 - 95s - loss: 0.4061 - accuracy: 0.8533 - val_loss: 0.9472 - val_accuracy: 0.7648 - lr: 0.0010 - 95s/epoch - 22ms/step
Epoch 22/50
4378/4378 - 85s - loss: 0.4078 - accuracy: 0.8533 - val_loss: 0.9609 - val_accuracy: 0.7462 - lr: 0.0010 - 85s/epoch - 20ms/step
Epoch 23/50
4378/4378 - 86s - loss: 0.4053 - accuracy: 0.8545 - val_loss: 0.7861 - val_accuracy: 0.7916 - lr: 0.0010 - 86s/epoch - 20ms/step
Epoch 24/50
4378/4378 - 85s - loss: 0.4066 - accuracy: 0.8517 - val_loss: 0.8366 - val_accuracy: 0.7796 - lr: 0.0010 - 85s/epoch - 19ms/step
Epoch 25/50
4378/4378 - 86s - loss: 0.4060 - accuracy: 0.8534 - val_loss: 0.7645 - val_accuracy: 0.7930 - lr: 0.0010 - 86s/epoch - 20ms/step
Epoch 26/50
4378/4378 - 85s - loss: 0.4088 - accuracy: 0.8518 - val_loss: 0.7566 - val_accuracy: 0.7988 - lr: 0.0010 - 85s/epoch - 20ms/step
Epoch 27/50
4378/4378 - 83s - loss: 0.4076 - accuracy: 0.8537 - val_loss: 0.7959 - val_accuracy: 0.8037 - lr: 0.0010 - 83s/epoch - 19ms/step
Epoch 28/50
4378/4378 - 82s - loss: 0.4096 - accuracy: 0.8520 - val_loss: 0.8642 - val_accuracy: 0.7626 - lr: 0.0010 - 82s/epoch - 19ms/step
Epoch 29/50
4378/4378 - 83s - loss: 0.4054 - accuracy: 0.8546 - val_loss: 0.7480 - val_accuracy: 0.8049 - lr: 0.0010 - 83s/epoch - 19ms/step
Epoch 30/50
4378/4378 - 82s - loss: 0.4069 - accuracy: 0.8527 - val_loss: 0.8232 - val_accuracy: 0.7848 - lr: 0.0010 - 82s/epoch - 19ms/step
Epoch 31/50
4378/4378 - 90s - loss: 0.4105 - accuracy: 0.8528 - val_loss: 0.9023 - val_accuracy: 0.7593 - lr: 0.0010 - 90s/epoch - 20ms/step
Epoch 32/50
4378/4378 - 85s - loss: 0.4162 - accuracy: 0.8497 - val_loss: 0.7868 - val_accuracy: 0.7930 - lr: 0.0010 - 85s/epoch - 20ms/step
Epoch 33/50
4378/4378 - 87s - loss: 0.4177 - accuracy: 0.8506 - val_loss: 0.8286 - val_accuracy: 0.7824 - lr: 0.0010 - 87s/epoch - 20ms/step
Epoch 34/50
4378/4378 - 84s - loss: 0.4130 - accuracy: 0.8511 - val_loss: 0.8660 - val_accuracy: 0.7472 - lr: 0.0010 - 84s/epoch - 19ms/step
Epoch 35/50
4378/4378 - 81s - loss: 0.4020 - accuracy: 0.8551 - val_loss: 0.8683 - val_accuracy: 0.7782 - lr: 0.0010 - 81s/epoch - 19ms/step
Epoch 36/50
4378/4378 - 81s - loss: 0.4125 - accuracy: 0.8509 - val_loss: 0.8037 - val_accuracy: 0.7880 - lr: 0.0010 - 81s/epoch - 19ms/step
Epoch 37/50
4378/4378 - 82s - loss: 0.4091 - accuracy: 0.8508 - val_loss: 0.7817 - val_accuracy: 0.7898 - lr: 0.0010 - 82s/epoch - 19ms/step
Epoch 38/50
4378/4378 - 82s - loss: 0.4073 - accuracy: 0.8532 - val_loss: 0.7882 - val_accuracy: 0.7989 - lr: 0.0010 - 82s/epoch - 19ms/step
Epoch 39/50
4378/4378 - 83s - loss: 0.4134 - accuracy: 0.8512 - val_loss: 0.7668 - val_accuracy: 0.7912 - lr: 0.0010 - 83s/epoch - 19ms/step
Epoch 40/50
4378/4378 - 86s - loss: 0.4111 - accuracy: 0.8518 - val_loss: 0.7880 - val_accuracy: 0.8072 - lr: 0.0010 - 86s/epoch - 20ms/step
Epoch 41/50
4378/4378 - 85s - loss: 0.4216 - accuracy: 0.8542 - val_loss: 0.7688 - val_accuracy: 0.8113 - lr: 0.0010 - 85s/epoch - 19ms/step
Epoch 42/50
4378/4378 - 85s - loss: 0.4086 - accuracy: 0.8526 - val_loss: 0.7653 - val_accuracy: 0.8038 - lr: 0.0010 - 85s/epoch - 19ms/step
Epoch 43/50
4378/4378 - 83s - loss: 0.4068 - accuracy: 0.8537 - val_loss: 0.7237 - val_accuracy: 0.8194 - lr: 0.0010 - 83s/epoch - 19ms/step
Epoch 44/50
4378/4378 - 86s - loss: 0.4114 - accuracy: 0.8508 - val_loss: 0.7520 - val_accuracy: 0.8094 - lr: 0.0010 - 86s/epoch - 20ms/step
Epoch 45/50
4378/4378 - 85s - loss: 0.4156 - accuracy: 0.8501 - val_loss: 0.9061 - val_accuracy: 0.7750 - lr: 0.0010 - 85s/epoch - 19ms/step
Epoch 46/50
4378/4378 - 84s - loss: 0.4206 - accuracy: 0.8482 - val_loss: 0.8665 - val_accuracy: 0.7636 - lr: 0.0010 - 84s/epoch - 19ms/step
Epoch 47/50
4378/4378 - 101s - loss: 0.4164 - accuracy: 0.8482 - val_loss: 0.7313 - val_accuracy: 0.7957 - lr: 0.0010 - 101s/epoch - 23ms/step
Epoch 48/50
4378/4378 - 97s - loss: 0.4167 - accuracy: 0.8498 - val_loss: 0.8023 - val_accuracy: 0.7768 - lr: 0.0010 - 97s/epoch - 22ms/step
Epoch 49/50
4378/4378 - 96s - loss: 0.4118 - accuracy: 0.8526 - val_loss: 0.7331 - val_accuracy: 0.8101 - lr: 0.0010 - 96s/epoch - 22ms/step
Epoch 50/50
4378/4378 - 94s - loss: 0.4120 - accuracy: 0.8509 - val_loss: 0.9499 - val_accuracy: 0.7451 - lr: 0.0010 - 94s/epoch - 21ms/step
fitting with batch size: 100
Epoch 1/50
876/876 - 26s - loss: 0.3297 - accuracy: 0.8779 - val_loss: 0.8637 - val_accuracy: 0.7700 - lr: 0.0010 - 26s/epoch - 30ms/step
Epoch 2/50
876/876 - 23s - loss: 0.3066 - accuracy: 0.8859 - val_loss: 0.8337 - val_accuracy: 0.7907 - lr: 0.0010 - 23s/epoch - 26ms/step
Epoch 3/50
876/876 - 24s - loss: 0.3022 - accuracy: 0.8881 - val_loss: 0.9391 - val_accuracy: 0.7626 - lr: 0.0010 - 24s/epoch - 28ms/step
Epoch 4/50
876/876 - 22s - loss: 0.2941 - accuracy: 0.8897 - val_loss: 0.9380 - val_accuracy: 0.7585 - lr: 0.0010 - 22s/epoch - 25ms/step
Epoch 5/50
876/876 - 25s - loss: 0.2884 - accuracy: 0.8927 - val_loss: 0.8648 - val_accuracy: 0.7833 - lr: 0.0010 - 25s/epoch - 28ms/step
Epoch 6/50
876/876 - 25s - loss: 0.2869 - accuracy: 0.8921 - val_loss: 0.8616 - val_accuracy: 0.7928 - lr: 0.0010 - 25s/epoch - 29ms/step
Epoch 7/50
876/876 - 24s - loss: 0.2836 - accuracy: 0.8946 - val_loss: 0.8714 - val_accuracy: 0.7841 - lr: 0.0010 - 24s/epoch - 28ms/step
Epoch 8/50
876/876 - 24s - loss: 0.2820 - accuracy: 0.8941 - val_loss: 0.8441 - val_accuracy: 0.7962 - lr: 0.0010 - 24s/epoch - 27ms/step
Epoch 9/50
876/876 - 23s - loss: 0.2790 - accuracy: 0.8960 - val_loss: 0.9270 - val_accuracy: 0.7784 - lr: 0.0010 - 23s/epoch - 26ms/step
Epoch 10/50
876/876 - 22s - loss: 0.2801 - accuracy: 0.8958 - val_loss: 0.8990 - val_accuracy: 0.7883 - lr: 0.0010 - 22s/epoch - 25ms/step
Epoch 11/50
876/876 - 22s - loss: 0.2768 - accuracy: 0.8981 - val_loss: 0.9441 - val_accuracy: 0.7721 - lr: 0.0010 - 22s/epoch - 25ms/step
Epoch 12/50
876/876 - 25s - loss: 0.2766 - accuracy: 0.8971 - val_loss: 0.9399 - val_accuracy: 0.7698 - lr: 0.0010 - 25s/epoch - 28ms/step
Epoch 13/50
876/876 - 24s - loss: 0.2729 - accuracy: 0.8975 - val_loss: 0.8616 - val_accuracy: 0.7916 - lr: 0.0010 - 24s/epoch - 28ms/step
Epoch 14/50
876/876 - 24s - loss: 0.2706 - accuracy: 0.8984 - val_loss: 0.8175 - val_accuracy: 0.7979 - lr: 0.0010 - 24s/epoch - 28ms/step
Epoch 15/50
876/876 - 23s - loss: 0.2699 - accuracy: 0.8993 - val_loss: 0.9524 - val_accuracy: 0.7849 - lr: 0.0010 - 23s/epoch - 27ms/step
Epoch 16/50
876/876 - 23s - loss: 0.2728 - accuracy: 0.8978 - val_loss: 0.9055 - val_accuracy: 0.7833 - lr: 0.0010 - 23s/epoch - 26ms/step
Epoch 17/50
876/876 - 24s - loss: 0.2652 - accuracy: 0.9017 - val_loss: 0.9831 - val_accuracy: 0.7673 - lr: 0.0010 - 24s/epoch - 27ms/step
Epoch 18/50
876/876 - 24s - loss: 0.2569 - accuracy: 0.9041 - val_loss: 1.1066 - val_accuracy: 0.7432 - lr: 0.0010 - 24s/epoch - 28ms/step
Epoch 19/50
876/876 - 24s - loss: 0.2632 - accuracy: 0.9020 - val_loss: 1.0482 - val_accuracy: 0.7542 - lr: 0.0010 - 24s/epoch - 28ms/step
Epoch 20/50
876/876 - 25s - loss: 0.2649 - accuracy: 0.9010 - val_loss: 0.8979 - val_accuracy: 0.7923 - lr: 0.0010 - 25s/epoch - 28ms/step
Epoch 21/50
876/876 - 24s - loss: 0.2571 - accuracy: 0.9033 - val_loss: 1.0092 - val_accuracy: 0.7613 - lr: 0.0010 - 24s/epoch - 28ms/step
Epoch 22/50
876/876 - 23s - loss: 0.2617 - accuracy: 0.9015 - val_loss: 0.9100 - val_accuracy: 0.7771 - lr: 0.0010 - 23s/epoch - 26ms/step
Epoch 23/50
876/876 - 24s - loss: 0.2646 - accuracy: 0.9024 - val_loss: 1.0646 - val_accuracy: 0.7503 - lr: 0.0010 - 24s/epoch - 27ms/step
Epoch 24/50
876/876 - 34s - loss: 0.2620 - accuracy: 0.9027 - val_loss: 0.9744 - val_accuracy: 0.7706 - lr: 0.0010 - 34s/epoch - 39ms/step
Epoch 25/50
876/876 - 26s - loss: 0.2630 - accuracy: 0.9029 - val_loss: 0.9968 - val_accuracy: 0.7708 - lr: 0.0010 - 26s/epoch - 29ms/step
Epoch 26/50
876/876 - 26s - loss: 0.2579 - accuracy: 0.9045 - val_loss: 0.9826 - val_accuracy: 0.7767 - lr: 0.0010 - 26s/epoch - 30ms/step
Epoch 27/50
876/876 - 24s - loss: 0.2638 - accuracy: 0.9016 - val_loss: 0.9936 - val_accuracy: 0.7768 - lr: 0.0010 - 24s/epoch - 27ms/step
Epoch 28/50
876/876 - 25s - loss: 0.2571 - accuracy: 0.9041 - val_loss: 1.0220 - val_accuracy: 0.7603 - lr: 0.0010 - 25s/epoch - 28ms/step
Epoch 29/50
876/876 - 25s - loss: 0.2603 - accuracy: 0.9031 - val_loss: 1.0022 - val_accuracy: 0.7618 - lr: 0.0010 - 25s/epoch - 29ms/step
Epoch 30/50
876/876 - 24s - loss: 0.2548 - accuracy: 0.9051 - val_loss: 1.1335 - val_accuracy: 0.7498 - lr: 0.0010 - 24s/epoch - 28ms/step
Epoch 31/50
876/876 - 24s - loss: 0.2514 - accuracy: 0.9060 - val_loss: 1.0714 - val_accuracy: 0.7482 - lr: 0.0010 - 24s/epoch - 28ms/step
Epoch 32/50
876/876 - 24s - loss: 0.2553 - accuracy: 0.9048 - val_loss: 1.0354 - val_accuracy: 0.7559 - lr: 0.0010 - 24s/epoch - 28ms/step
Epoch 33/50
876/876 - 24s - loss: 0.2539 - accuracy: 0.9063 - val_loss: 0.9697 - val_accuracy: 0.7709 - lr: 0.0010 - 24s/epoch - 27ms/step
Epoch 34/50
876/876 - 26s - loss: 0.2562 - accuracy: 0.9048 - val_loss: 0.9202 - val_accuracy: 0.7713 - lr: 0.0010 - 26s/epoch - 30ms/step
Epoch 35/50
876/876 - 26s - loss: 0.2509 - accuracy: 0.9057 - val_loss: 0.9872 - val_accuracy: 0.7711 - lr: 0.0010 - 26s/epoch - 30ms/step
Epoch 36/50
876/876 - 25s - loss: 0.2563 - accuracy: 0.9045 - val_loss: 0.9376 - val_accuracy: 0.7844 - lr: 0.0010 - 25s/epoch - 29ms/step
Epoch 37/50
876/876 - 24s - loss: 0.2553 - accuracy: 0.9050 - val_loss: 0.9960 - val_accuracy: 0.7718 - lr: 0.0010 - 24s/epoch - 28ms/step
Epoch 38/50
876/876 - 23s - loss: 0.2540 - accuracy: 0.9053 - val_loss: 0.9340 - val_accuracy: 0.7798 - lr: 0.0010 - 23s/epoch - 26ms/step
Epoch 39/50
876/876 - 25s - loss: 0.2522 - accuracy: 0.9057 - val_loss: 0.9090 - val_accuracy: 0.7845 - lr: 0.0010 - 25s/epoch - 28ms/step
Epoch 40/50
876/876 - 27s - loss: 0.2490 - accuracy: 0.9081 - val_loss: 0.9570 - val_accuracy: 0.7845 - lr: 0.0010 - 27s/epoch - 30ms/step
Epoch 41/50
876/876 - 30s - loss: 0.2491 - accuracy: 0.9070 - val_loss: 1.0851 - val_accuracy: 0.7477 - lr: 0.0010 - 30s/epoch - 34ms/step
Epoch 42/50
876/876 - 30s - loss: 0.2512 - accuracy: 0.9061 - val_loss: 1.0020 - val_accuracy: 0.7626 - lr: 0.0010 - 30s/epoch - 34ms/step
Epoch 43/50
876/876 - 26s - loss: 0.2528 - accuracy: 0.9053 - val_loss: 1.0350 - val_accuracy: 0.7539 - lr: 0.0010 - 26s/epoch - 30ms/step
Epoch 44/50
876/876 - 27s - loss: 0.2495 - accuracy: 0.9083 - val_loss: 1.1056 - val_accuracy: 0.7569 - lr: 0.0010 - 27s/epoch - 30ms/step
Epoch 45/50
876/876 - 26s - loss: 0.2488 - accuracy: 0.9072 - val_loss: 0.9748 - val_accuracy: 0.7749 - lr: 0.0010 - 26s/epoch - 30ms/step
Epoch 46/50
876/876 - 26s - loss: 0.2545 - accuracy: 0.9059 - val_loss: 0.9821 - val_accuracy: 0.7697 - lr: 0.0010 - 26s/epoch - 30ms/step
Epoch 47/50
876/876 - 24s - loss: 0.2435 - accuracy: 0.9090 - val_loss: 0.9276 - val_accuracy: 0.7923 - lr: 0.0010 - 24s/epoch - 28ms/step
Epoch 48/50
876/876 - 25s - loss: 0.2483 - accuracy: 0.9076 - val_loss: 0.9368 - val_accuracy: 0.7806 - lr: 0.0010 - 25s/epoch - 29ms/step
Epoch 49/50
876/876 - 25s - loss: 0.2436 - accuracy: 0.9099 - val_loss: 1.1637 - val_accuracy: 0.7357 - lr: 0.0010 - 25s/epoch - 29ms/step
Epoch 50/50
876/876 - 27s - loss: 0.2428 - accuracy: 0.9091 - val_loss: 0.9358 - val_accuracy: 0.7873 - lr: 0.0010 - 27s/epoch - 30ms/step
fitting with batch size: 500
Epoch 1/50
176/176 - 16s - loss: 0.2012 - accuracy: 0.9238 - val_loss: 1.1783 - val_accuracy: 0.7529 - lr: 0.0010 - 16s/epoch - 91ms/step
Epoch 2/50
176/176 - 13s - loss: 0.1941 - accuracy: 0.9268 - val_loss: 1.2379 - val_accuracy: 0.7427 - lr: 0.0010 - 13s/epoch - 73ms/step
Epoch 3/50
176/176 - 13s - loss: 0.1908 - accuracy: 0.9270 - val_loss: 1.2710 - val_accuracy: 0.7618 - lr: 0.0010 - 13s/epoch - 74ms/step
Epoch 4/50
176/176 - 13s - loss: 0.1922 - accuracy: 0.9266 - val_loss: 1.2218 - val_accuracy: 0.7637 - lr: 0.0010 - 13s/epoch - 74ms/step
Epoch 5/50
176/176 - 15s - loss: 0.1873 - accuracy: 0.9286 - val_loss: 1.3325 - val_accuracy: 0.7495 - lr: 0.0010 - 15s/epoch - 86ms/step
Epoch 6/50
176/176 - 13s - loss: 0.1864 - accuracy: 0.9289 - val_loss: 1.2710 - val_accuracy: 0.7574 - lr: 0.0010 - 13s/epoch - 73ms/step
Epoch 7/50
176/176 - 13s - loss: 0.1869 - accuracy: 0.9300 - val_loss: 1.2558 - val_accuracy: 0.7616 - lr: 0.0010 - 13s/epoch - 73ms/step
Epoch 8/50
176/176 - 13s - loss: 0.1880 - accuracy: 0.9291 - val_loss: 1.3104 - val_accuracy: 0.7553 - lr: 0.0010 - 13s/epoch - 74ms/step
Epoch 9/50
176/176 - 13s - loss: 0.1851 - accuracy: 0.9300 - val_loss: 1.3953 - val_accuracy: 0.7381 - lr: 0.0010 - 13s/epoch - 72ms/step
Epoch 10/50
176/176 - 13s - loss: 0.1791 - accuracy: 0.9322 - val_loss: 1.3493 - val_accuracy: 0.7556 - lr: 0.0010 - 13s/epoch - 76ms/step
Epoch 11/50
176/176 - 14s - loss: 0.1843 - accuracy: 0.9304 - val_loss: 1.3868 - val_accuracy: 0.7398 - lr: 0.0010 - 14s/epoch - 78ms/step
Epoch 12/50
176/176 - 15s - loss: 0.1829 - accuracy: 0.9306 - val_loss: 1.3779 - val_accuracy: 0.7398 - lr: 0.0010 - 15s/epoch - 85ms/step
Epoch 13/50
176/176 - 18s - loss: 0.1762 - accuracy: 0.9331 - val_loss: 1.4465 - val_accuracy: 0.7428 - lr: 0.0010 - 18s/epoch - 104ms/step
Epoch 14/50
176/176 - 19s - loss: 0.1794 - accuracy: 0.9322 - val_loss: 1.4804 - val_accuracy: 0.7333 - lr: 0.0010 - 19s/epoch - 109ms/step
Epoch 15/50
176/176 - 21s - loss: 0.1799 - accuracy: 0.9316 - val_loss: 1.4223 - val_accuracy: 0.7521 - lr: 0.0010 - 21s/epoch - 117ms/step
Epoch 16/50
176/176 - 15s - loss: 0.1784 - accuracy: 0.9331 - val_loss: 1.4132 - val_accuracy: 0.7532 - lr: 0.0010 - 15s/epoch - 85ms/step
Epoch 17/50
176/176 - 16s - loss: 0.1765 - accuracy: 0.9331 - val_loss: 1.4582 - val_accuracy: 0.7334 - lr: 0.0010 - 16s/epoch - 91ms/step
Epoch 18/50
176/176 - 15s - loss: 0.1780 - accuracy: 0.9320 - val_loss: 1.5320 - val_accuracy: 0.7375 - lr: 0.0010 - 15s/epoch - 87ms/step
Epoch 19/50
176/176 - 17s - loss: 0.1794 - accuracy: 0.9326 - val_loss: 1.3845 - val_accuracy: 0.7474 - lr: 0.0010 - 17s/epoch - 99ms/step
Epoch 20/50
176/176 - 15s - loss: 0.1763 - accuracy: 0.9329 - val_loss: 1.4669 - val_accuracy: 0.7416 - lr: 0.0010 - 15s/epoch - 87ms/step
Epoch 21/50
176/176 - 16s - loss: 0.1772 - accuracy: 0.9332 - val_loss: 1.5217 - val_accuracy: 0.7469 - lr: 0.0010 - 16s/epoch - 90ms/step
Epoch 22/50
176/176 - 16s - loss: 0.1710 - accuracy: 0.9351 - val_loss: 1.5625 - val_accuracy: 0.7456 - lr: 0.0010 - 16s/epoch - 89ms/step
Epoch 23/50
176/176 - 16s - loss: 0.1713 - accuracy: 0.9346 - val_loss: 1.5386 - val_accuracy: 0.7398 - lr: 0.0010 - 16s/epoch - 93ms/step
Epoch 24/50
176/176 - 15s - loss: 0.1711 - accuracy: 0.9347 - val_loss: 1.5651 - val_accuracy: 0.7364 - lr: 0.0010 - 15s/epoch - 88ms/step
Epoch 25/50
176/176 - 14s - loss: 0.1733 - accuracy: 0.9349 - val_loss: 1.5276 - val_accuracy: 0.7339 - lr: 0.0010 - 14s/epoch - 82ms/step
Epoch 26/50
176/176 - 14s - loss: 0.1724 - accuracy: 0.9345 - val_loss: 1.5388 - val_accuracy: 0.7447 - lr: 0.0010 - 14s/epoch - 80ms/step
Epoch 27/50
176/176 - 15s - loss: 0.1705 - accuracy: 0.9358 - val_loss: 1.5828 - val_accuracy: 0.7354 - lr: 0.0010 - 15s/epoch - 87ms/step
Epoch 28/50
176/176 - 14s - loss: 0.1719 - accuracy: 0.9350 - val_loss: 1.4980 - val_accuracy: 0.7384 - lr: 0.0010 - 14s/epoch - 78ms/step
Epoch 29/50
176/176 - 13s - loss: 0.1686 - accuracy: 0.9354 - val_loss: 1.5141 - val_accuracy: 0.7542 - lr: 0.0010 - 13s/epoch - 76ms/step
Epoch 30/50
176/176 - 16s - loss: 0.1687 - accuracy: 0.9354 - val_loss: 1.6028 - val_accuracy: 0.7334 - lr: 0.0010 - 16s/epoch - 89ms/step
Epoch 31/50
176/176 - 15s - loss: 0.1729 - accuracy: 0.9339 - val_loss: 1.4786 - val_accuracy: 0.7437 - lr: 0.0010 - 15s/epoch - 86ms/step
Epoch 32/50
176/176 - 15s - loss: 0.1683 - accuracy: 0.9362 - val_loss: 1.7422 - val_accuracy: 0.7193 - lr: 0.0010 - 15s/epoch - 84ms/step
Epoch 33/50
176/176 - 15s - loss: 0.1660 - accuracy: 0.9367 - val_loss: 1.5022 - val_accuracy: 0.7454 - lr: 0.0010 - 15s/epoch - 84ms/step
Epoch 34/50
176/176 - 15s - loss: 0.1678 - accuracy: 0.9358 - val_loss: 1.7103 - val_accuracy: 0.7183 - lr: 0.0010 - 15s/epoch - 86ms/step
Epoch 35/50
176/176 - 16s - loss: 0.1717 - accuracy: 0.9347 - val_loss: 1.5940 - val_accuracy: 0.7430 - lr: 0.0010 - 16s/epoch - 89ms/step
Epoch 36/50
176/176 - 15s - loss: 0.1724 - accuracy: 0.9354 - val_loss: 1.4124 - val_accuracy: 0.7531 - lr: 0.0010 - 15s/epoch - 83ms/step
Epoch 37/50
176/176 - 13s - loss: 0.1703 - accuracy: 0.9351 - val_loss: 1.5246 - val_accuracy: 0.7420 - lr: 0.0010 - 13s/epoch - 76ms/step
Epoch 38/50
176/176 - 13s - loss: 0.1688 - accuracy: 0.9354 - val_loss: 1.5841 - val_accuracy: 0.7290 - lr: 0.0010 - 13s/epoch - 76ms/step
Epoch 39/50
176/176 - 13s - loss: 0.1674 - accuracy: 0.9367 - val_loss: 1.6311 - val_accuracy: 0.7320 - lr: 0.0010 - 13s/epoch - 76ms/step
Epoch 40/50
176/176 - 13s - loss: 0.1711 - accuracy: 0.9347 - val_loss: 1.6160 - val_accuracy: 0.7250 - lr: 0.0010 - 13s/epoch - 76ms/step
Epoch 41/50
176/176 - 13s - loss: 0.1666 - accuracy: 0.9362 - val_loss: 1.4860 - val_accuracy: 0.7424 - lr: 0.0010 - 13s/epoch - 75ms/step
Epoch 42/50
176/176 - 14s - loss: 0.1697 - accuracy: 0.9354 - val_loss: 1.6622 - val_accuracy: 0.7257 - lr: 0.0010 - 14s/epoch - 80ms/step
Epoch 43/50
176/176 - 14s - loss: 0.1676 - accuracy: 0.9363 - val_loss: 1.6207 - val_accuracy: 0.7275 - lr: 0.0010 - 14s/epoch - 82ms/step
Epoch 44/50
176/176 - 16s - loss: 0.1641 - accuracy: 0.9379 - val_loss: 1.5113 - val_accuracy: 0.7498 - lr: 0.0010 - 16s/epoch - 89ms/step
Epoch 45/50
176/176 - 16s - loss: 0.1668 - accuracy: 0.9368 - val_loss: 1.4743 - val_accuracy: 0.7493 - lr: 0.0010 - 16s/epoch - 89ms/step
Epoch 46/50
176/176 - 15s - loss: 0.1649 - accuracy: 0.9369 - val_loss: 1.4997 - val_accuracy: 0.7507 - lr: 0.0010 - 15s/epoch - 86ms/step
Epoch 47/50
176/176 - 13s - loss: 0.1679 - accuracy: 0.9365 - val_loss: 1.6411 - val_accuracy: 0.7316 - lr: 0.0010 - 13s/epoch - 75ms/step
Epoch 48/50
176/176 - 13s - loss: 0.1648 - accuracy: 0.9376 - val_loss: 1.6113 - val_accuracy: 0.7400 - lr: 0.0010 - 13s/epoch - 74ms/step
Epoch 49/50
176/176 - 15s - loss: 0.1708 - accuracy: 0.9355 - val_loss: 1.4506 - val_accuracy: 0.7388 - lr: 0.0010 - 15s/epoch - 84ms/step
Epoch 50/50
176/176 - 15s - loss: 0.1634 - accuracy: 0.9386 - val_loss: 1.6137 - val_accuracy: 0.7343 - lr: 0.0010 - 15s/epoch - 85ms/step
Loss: binary_crossentropy
Epoch number: 25
fitting with batch size: 20
Epoch 1/25
4378/4378 - 109s - loss: 0.1239 - accuracy: 0.8718 - val_loss: 0.3221 - val_accuracy: 0.7653 - lr: 0.0010 - 109s/epoch - 25ms/step
Epoch 2/25
4378/4378 - 102s - loss: 0.1317 - accuracy: 0.8630 - val_loss: 0.2615 - val_accuracy: 0.8081 - lr: 0.0010 - 102s/epoch - 23ms/step
Epoch 3/25
4378/4378 - 96s - loss: 0.1304 - accuracy: 0.8645 - val_loss: 0.3503 - val_accuracy: 0.7556 - lr: 0.0010 - 96s/epoch - 22ms/step
Epoch 4/25
4378/4378 - 100s - loss: 0.1324 - accuracy: 0.8618 - val_loss: 0.3409 - val_accuracy: 0.7396 - lr: 0.0010 - 100s/epoch - 23ms/step
Epoch 5/25
4378/4378 - 96s - loss: 0.1326 - accuracy: 0.8622 - val_loss: 0.3111 - val_accuracy: 0.7737 - lr: 0.0010 - 96s/epoch - 22ms/step
Epoch 6/25
4378/4378 - 97s - loss: 0.1321 - accuracy: 0.8637 - val_loss: 0.2940 - val_accuracy: 0.7908 - lr: 0.0010 - 97s/epoch - 22ms/step
Epoch 7/25
4378/4378 - 98s - loss: 0.1348 - accuracy: 0.8610 - val_loss: 0.3173 - val_accuracy: 0.7681 - lr: 0.0010 - 98s/epoch - 22ms/step
Epoch 8/25
4378/4378 - 95s - loss: 0.1317 - accuracy: 0.8635 - val_loss: 0.2991 - val_accuracy: 0.7772 - lr: 0.0010 - 95s/epoch - 22ms/step
Epoch 9/25
4378/4378 - 97s - loss: 0.1327 - accuracy: 0.8619 - val_loss: 0.3051 - val_accuracy: 0.7864 - lr: 0.0010 - 97s/epoch - 22ms/step
Epoch 10/25
4378/4378 - 97s - loss: 0.1345 - accuracy: 0.8600 - val_loss: 0.2935 - val_accuracy: 0.7932 - lr: 0.0010 - 97s/epoch - 22ms/step
Epoch 11/25
4378/4378 - 97s - loss: 0.1354 - accuracy: 0.8586 - val_loss: 0.2913 - val_accuracy: 0.7816 - lr: 0.0010 - 97s/epoch - 22ms/step
Epoch 12/25
4378/4378 - 96s - loss: 0.1351 - accuracy: 0.8587 - val_loss: 0.3026 - val_accuracy: 0.7617 - lr: 0.0010 - 96s/epoch - 22ms/step
Epoch 13/25
4378/4378 - 100s - loss: 0.1364 - accuracy: 0.8591 - val_loss: 0.3525 - val_accuracy: 0.7559 - lr: 0.0010 - 100s/epoch - 23ms/step
Epoch 14/25
4378/4378 - 95s - loss: 0.1349 - accuracy: 0.8593 - val_loss: 0.3101 - val_accuracy: 0.7778 - lr: 0.0010 - 95s/epoch - 22ms/step
Epoch 15/25
4378/4378 - 96s - loss: 0.1359 - accuracy: 0.8584 - val_loss: 0.3030 - val_accuracy: 0.7717 - lr: 0.0010 - 96s/epoch - 22ms/step
Epoch 16/25
4378/4378 - 86s - loss: 0.1388 - accuracy: 0.8549 - val_loss: 0.3248 - val_accuracy: 0.7660 - lr: 0.0010 - 86s/epoch - 20ms/step
Epoch 17/25
4378/4378 - 87s - loss: 0.1338 - accuracy: 0.8597 - val_loss: 0.3100 - val_accuracy: 0.7831 - lr: 0.0010 - 87s/epoch - 20ms/step
Epoch 18/25
4378/4378 - 97s - loss: 0.1361 - accuracy: 0.8588 - val_loss: 0.2806 - val_accuracy: 0.8011 - lr: 0.0010 - 97s/epoch - 22ms/step
Epoch 19/25
4378/4378 - 99s - loss: 0.1361 - accuracy: 0.8592 - val_loss: 0.3140 - val_accuracy: 0.7780 - lr: 0.0010 - 99s/epoch - 23ms/step
Epoch 20/25
4378/4378 - 95s - loss: 0.1358 - accuracy: 0.8589 - val_loss: 0.2777 - val_accuracy: 0.8066 - lr: 0.0010 - 95s/epoch - 22ms/step
Epoch 21/25
4378/4378 - 95s - loss: 0.1353 - accuracy: 0.8583 - val_loss: 0.2980 - val_accuracy: 0.7781 - lr: 0.0010 - 95s/epoch - 22ms/step
Epoch 22/25
4378/4378 - 97s - loss: 0.1382 - accuracy: 0.8558 - val_loss: 0.2724 - val_accuracy: 0.8095 - lr: 0.0010 - 97s/epoch - 22ms/step
Epoch 23/25
4378/4378 - 97s - loss: 0.1363 - accuracy: 0.8583 - val_loss: 0.3045 - val_accuracy: 0.7877 - lr: 0.0010 - 97s/epoch - 22ms/step
Epoch 24/25
4378/4378 - 95s - loss: 0.1373 - accuracy: 0.8577 - val_loss: 0.3117 - val_accuracy: 0.7789 - lr: 0.0010 - 95s/epoch - 22ms/step
Epoch 25/25
4378/4378 - 97s - loss: 0.1388 - accuracy: 0.8556 - val_loss: 0.2875 - val_accuracy: 0.7829 - lr: 0.0010 - 97s/epoch - 22ms/step
fitting with batch size: 100
Epoch 1/25
876/876 - 31s - loss: 0.1085 - accuracy: 0.8846 - val_loss: 0.3249 - val_accuracy: 0.7852 - lr: 0.0010 - 31s/epoch - 35ms/step
Epoch 2/25
876/876 - 26s - loss: 0.0996 - accuracy: 0.8933 - val_loss: 0.3379 - val_accuracy: 0.7772 - lr: 0.0010 - 26s/epoch - 30ms/step
Epoch 3/25
876/876 - 26s - loss: 0.0978 - accuracy: 0.8954 - val_loss: 0.3172 - val_accuracy: 0.7980 - lr: 0.0010 - 26s/epoch - 29ms/step
Epoch 4/25
876/876 - 25s - loss: 0.0951 - accuracy: 0.8984 - val_loss: 0.3316 - val_accuracy: 0.7869 - lr: 0.0010 - 25s/epoch - 29ms/step
Epoch 5/25
876/876 - 24s - loss: 0.0935 - accuracy: 0.8992 - val_loss: 0.3229 - val_accuracy: 0.7956 - lr: 0.0010 - 24s/epoch - 27ms/step
Epoch 6/25
876/876 - 26s - loss: 0.0946 - accuracy: 0.8983 - val_loss: 0.3360 - val_accuracy: 0.7811 - lr: 0.0010 - 26s/epoch - 30ms/step
Epoch 7/25
876/876 - 27s - loss: 0.0925 - accuracy: 0.8999 - val_loss: 0.3314 - val_accuracy: 0.7840 - lr: 0.0010 - 27s/epoch - 31ms/step
Epoch 8/25
876/876 - 27s - loss: 0.0931 - accuracy: 0.9002 - val_loss: 0.3225 - val_accuracy: 0.7949 - lr: 0.0010 - 27s/epoch - 30ms/step
Epoch 9/25
876/876 - 27s - loss: 0.0905 - accuracy: 0.9021 - val_loss: 0.3594 - val_accuracy: 0.7735 - lr: 0.0010 - 27s/epoch - 31ms/step
Epoch 10/25
876/876 - 27s - loss: 0.0875 - accuracy: 0.9053 - val_loss: 0.3197 - val_accuracy: 0.7919 - lr: 0.0010 - 27s/epoch - 30ms/step
Epoch 11/25
876/876 - 26s - loss: 0.0899 - accuracy: 0.9029 - val_loss: 0.3642 - val_accuracy: 0.7721 - lr: 0.0010 - 26s/epoch - 29ms/step
Epoch 12/25
876/876 - 26s - loss: 0.0883 - accuracy: 0.9050 - val_loss: 0.3449 - val_accuracy: 0.7869 - lr: 0.0010 - 26s/epoch - 30ms/step
Epoch 13/25
876/876 - 26s - loss: 0.0868 - accuracy: 0.9058 - val_loss: 0.3590 - val_accuracy: 0.7673 - lr: 0.0010 - 26s/epoch - 29ms/step
Epoch 14/25
876/876 - 22s - loss: 0.0870 - accuracy: 0.9060 - val_loss: 0.3455 - val_accuracy: 0.7857 - lr: 0.0010 - 22s/epoch - 26ms/step
Epoch 15/25
876/876 - 24s - loss: 0.0882 - accuracy: 0.9057 - val_loss: 0.3724 - val_accuracy: 0.7705 - lr: 0.0010 - 24s/epoch - 28ms/step
Epoch 16/25
876/876 - 26s - loss: 0.0873 - accuracy: 0.9068 - val_loss: 0.3717 - val_accuracy: 0.7643 - lr: 0.0010 - 26s/epoch - 30ms/step
Epoch 17/25
876/876 - 25s - loss: 0.0866 - accuracy: 0.9072 - val_loss: 0.4143 - val_accuracy: 0.7381 - lr: 0.0010 - 25s/epoch - 29ms/step
Epoch 18/25
876/876 - 25s - loss: 0.0863 - accuracy: 0.9075 - val_loss: 0.3948 - val_accuracy: 0.7558 - lr: 0.0010 - 25s/epoch - 29ms/step
Epoch 19/25
876/876 - 26s - loss: 0.0862 - accuracy: 0.9076 - val_loss: 0.3606 - val_accuracy: 0.7823 - lr: 0.0010 - 26s/epoch - 30ms/step
Epoch 20/25
876/876 - 27s - loss: 0.0860 - accuracy: 0.9069 - val_loss: 0.3603 - val_accuracy: 0.7821 - lr: 0.0010 - 27s/epoch - 31ms/step
Epoch 21/25
876/876 - 25s - loss: 0.0866 - accuracy: 0.9059 - val_loss: 0.3641 - val_accuracy: 0.7744 - lr: 0.0010 - 25s/epoch - 29ms/step
Epoch 22/25
876/876 - 26s - loss: 0.0863 - accuracy: 0.9070 - val_loss: 0.4005 - val_accuracy: 0.7599 - lr: 0.0010 - 26s/epoch - 30ms/step
Epoch 23/25
876/876 - 27s - loss: 0.0852 - accuracy: 0.9081 - val_loss: 0.3934 - val_accuracy: 0.7379 - lr: 0.0010 - 27s/epoch - 30ms/step
Epoch 24/25
876/876 - 27s - loss: 0.0852 - accuracy: 0.9082 - val_loss: 0.3740 - val_accuracy: 0.7599 - lr: 0.0010 - 27s/epoch - 31ms/step
Epoch 25/25
876/876 - 26s - loss: 0.0835 - accuracy: 0.9105 - val_loss: 0.3826 - val_accuracy: 0.7503 - lr: 0.0010 - 26s/epoch - 29ms/step
fitting with batch size: 500
Epoch 1/25
176/176 - 17s - loss: 0.0683 - accuracy: 0.9250 - val_loss: 0.4375 - val_accuracy: 0.7472 - lr: 0.0010 - 17s/epoch - 99ms/step
Epoch 2/25
176/176 - 13s - loss: 0.0660 - accuracy: 0.9275 - val_loss: 0.4692 - val_accuracy: 0.7493 - lr: 0.0010 - 13s/epoch - 74ms/step
Epoch 3/25
176/176 - 14s - loss: 0.0658 - accuracy: 0.9272 - val_loss: 0.4816 - val_accuracy: 0.7416 - lr: 0.0010 - 14s/epoch - 81ms/step
Epoch 4/25
176/176 - 14s - loss: 0.0656 - accuracy: 0.9284 - val_loss: 0.4416 - val_accuracy: 0.7595 - lr: 0.0010 - 14s/epoch - 80ms/step
Epoch 5/25
176/176 - 14s - loss: 0.0645 - accuracy: 0.9288 - val_loss: 0.4415 - val_accuracy: 0.7626 - lr: 0.0010 - 14s/epoch - 81ms/step
Epoch 6/25
176/176 - 15s - loss: 0.0632 - accuracy: 0.9300 - val_loss: 0.4668 - val_accuracy: 0.7507 - lr: 0.0010 - 15s/epoch - 84ms/step
Epoch 7/25
176/176 - 14s - loss: 0.0642 - accuracy: 0.9295 - val_loss: 0.4419 - val_accuracy: 0.7720 - lr: 0.0010 - 14s/epoch - 82ms/step
Epoch 8/25
176/176 - 14s - loss: 0.0630 - accuracy: 0.9314 - val_loss: 0.4840 - val_accuracy: 0.7448 - lr: 0.0010 - 14s/epoch - 80ms/step
Epoch 9/25
176/176 - 14s - loss: 0.0630 - accuracy: 0.9303 - val_loss: 0.5021 - val_accuracy: 0.7373 - lr: 0.0010 - 14s/epoch - 82ms/step
Epoch 10/25
176/176 - 16s - loss: 0.0634 - accuracy: 0.9307 - val_loss: 0.4780 - val_accuracy: 0.7395 - lr: 0.0010 - 16s/epoch - 90ms/step
Epoch 11/25
176/176 - 17s - loss: 0.0619 - accuracy: 0.9318 - val_loss: 0.4669 - val_accuracy: 0.7539 - lr: 0.0010 - 17s/epoch - 96ms/step
Epoch 12/25
176/176 - 15s - loss: 0.0624 - accuracy: 0.9317 - val_loss: 0.5030 - val_accuracy: 0.7415 - lr: 0.0010 - 15s/epoch - 86ms/step
Epoch 13/25
176/176 - 14s - loss: 0.0625 - accuracy: 0.9311 - val_loss: 0.4796 - val_accuracy: 0.7464 - lr: 0.0010 - 14s/epoch - 81ms/step
Epoch 14/25
176/176 - 15s - loss: 0.0606 - accuracy: 0.9329 - val_loss: 0.4712 - val_accuracy: 0.7500 - lr: 0.0010 - 15s/epoch - 85ms/step
Epoch 15/25
176/176 - 15s - loss: 0.0619 - accuracy: 0.9318 - val_loss: 0.4874 - val_accuracy: 0.7387 - lr: 0.0010 - 15s/epoch - 86ms/step
Epoch 16/25
176/176 - 15s - loss: 0.0611 - accuracy: 0.9335 - val_loss: 0.4902 - val_accuracy: 0.7496 - lr: 0.0010 - 15s/epoch - 85ms/step
Epoch 17/25
176/176 - 15s - loss: 0.0588 - accuracy: 0.9350 - val_loss: 0.4715 - val_accuracy: 0.7555 - lr: 0.0010 - 15s/epoch - 87ms/step
Epoch 18/25
176/176 - 16s - loss: 0.0604 - accuracy: 0.9346 - val_loss: 0.4814 - val_accuracy: 0.7627 - lr: 0.0010 - 16s/epoch - 91ms/step
Epoch 19/25
176/176 - 16s - loss: 0.0580 - accuracy: 0.9357 - val_loss: 0.5085 - val_accuracy: 0.7512 - lr: 0.0010 - 16s/epoch - 88ms/step
Epoch 20/25
176/176 - 15s - loss: 0.0579 - accuracy: 0.9362 - val_loss: 0.5099 - val_accuracy: 0.7393 - lr: 0.0010 - 15s/epoch - 85ms/step
Epoch 21/25
176/176 - 14s - loss: 0.0604 - accuracy: 0.9332 - val_loss: 0.4979 - val_accuracy: 0.7383 - lr: 0.0010 - 14s/epoch - 80ms/step
Epoch 22/25
176/176 - 15s - loss: 0.0595 - accuracy: 0.9349 - val_loss: 0.4984 - val_accuracy: 0.7501 - lr: 0.0010 - 15s/epoch - 83ms/step
Epoch 23/25
176/176 - 15s - loss: 0.0595 - accuracy: 0.9340 - val_loss: 0.4822 - val_accuracy: 0.7553 - lr: 0.0010 - 15s/epoch - 84ms/step
Epoch 24/25
176/176 - 15s - loss: 0.0593 - accuracy: 0.9346 - val_loss: 0.4755 - val_accuracy: 0.7655 - lr: 0.0010 - 15s/epoch - 87ms/step
Epoch 25/25
176/176 - 15s - loss: 0.0599 - accuracy: 0.9346 - val_loss: 0.5087 - val_accuracy: 0.7415 - lr: 0.0010 - 15s/epoch - 84ms/step
Epoch number: 50
fitting with batch size: 20
Epoch 1/50
4378/4378 - 112s - loss: 0.1182 - accuracy: 0.8783 - val_loss: 0.2797 - val_accuracy: 0.8000 - lr: 0.0010 - 112s/epoch - 26ms/step
Epoch 2/50
4378/4378 - 95s - loss: 0.1274 - accuracy: 0.8680 - val_loss: 0.3429 - val_accuracy: 0.7505 - lr: 0.0010 - 95s/epoch - 22ms/step
Epoch 3/50
4378/4378 - 99s - loss: 0.1255 - accuracy: 0.8702 - val_loss: 0.3125 - val_accuracy: 0.7690 - lr: 0.0010 - 99s/epoch - 23ms/step
Epoch 4/50
4378/4378 - 100s - loss: 0.1283 - accuracy: 0.8674 - val_loss: 0.3138 - val_accuracy: 0.7855 - lr: 0.0010 - 100s/epoch - 23ms/step
Epoch 5/50
4378/4378 - 103s - loss: 0.1324 - accuracy: 0.8630 - val_loss: 0.3049 - val_accuracy: 0.7772 - lr: 0.0010 - 103s/epoch - 23ms/step
Epoch 6/50
4378/4378 - 100s - loss: 0.1318 - accuracy: 0.8631 - val_loss: 0.3162 - val_accuracy: 0.7820 - lr: 0.0010 - 100s/epoch - 23ms/step
Epoch 7/50
4378/4378 - 96s - loss: 0.1306 - accuracy: 0.8648 - val_loss: 0.3033 - val_accuracy: 0.7952 - lr: 0.0010 - 96s/epoch - 22ms/step
Epoch 8/50
4378/4378 - 100s - loss: 0.1316 - accuracy: 0.8644 - val_loss: 0.2958 - val_accuracy: 0.7853 - lr: 0.0010 - 100s/epoch - 23ms/step
Epoch 9/50
4378/4378 - 99s - loss: 0.1280 - accuracy: 0.8663 - val_loss: 0.3270 - val_accuracy: 0.7725 - lr: 0.0010 - 99s/epoch - 23ms/step
Epoch 10/50
4378/4378 - 101s - loss: 0.1339 - accuracy: 0.8618 - val_loss: 0.3063 - val_accuracy: 0.7921 - lr: 0.0010 - 101s/epoch - 23ms/step
Epoch 11/50
4378/4378 - 95s - loss: 0.1315 - accuracy: 0.8627 - val_loss: 0.3350 - val_accuracy: 0.7786 - lr: 0.0010 - 95s/epoch - 22ms/step
Epoch 12/50
4378/4378 - 98s - loss: 0.1336 - accuracy: 0.8613 - val_loss: 0.2938 - val_accuracy: 0.7958 - lr: 0.0010 - 98s/epoch - 22ms/step
Epoch 13/50
4378/4378 - 97s - loss: 0.1339 - accuracy: 0.8615 - val_loss: 0.2963 - val_accuracy: 0.7846 - lr: 0.0010 - 97s/epoch - 22ms/step
Epoch 14/50
4378/4378 - 97s - loss: 0.1352 - accuracy: 0.8609 - val_loss: 0.3536 - val_accuracy: 0.7417 - lr: 0.0010 - 97s/epoch - 22ms/step
Epoch 15/50
4378/4378 - 96s - loss: 0.1336 - accuracy: 0.8624 - val_loss: 0.3014 - val_accuracy: 0.7776 - lr: 0.0010 - 96s/epoch - 22ms/step
Epoch 16/50
4378/4378 - 102s - loss: 0.1319 - accuracy: 0.8634 - val_loss: 0.2720 - val_accuracy: 0.7854 - lr: 0.0010 - 102s/epoch - 23ms/step
Epoch 17/50
4378/4378 - 97s - loss: 0.1323 - accuracy: 0.8635 - val_loss: 0.3225 - val_accuracy: 0.7597 - lr: 0.0010 - 97s/epoch - 22ms/step
Epoch 18/50
4378/4378 - 97s - loss: 0.1327 - accuracy: 0.8618 - val_loss: 0.3496 - val_accuracy: 0.7624 - lr: 0.0010 - 97s/epoch - 22ms/step
Epoch 19/50
4378/4378 - 99s - loss: 0.1350 - accuracy: 0.8603 - val_loss: 0.3153 - val_accuracy: 0.7699 - lr: 0.0010 - 99s/epoch - 23ms/step
Epoch 20/50
4378/4378 - 100s - loss: 0.1341 - accuracy: 0.8605 - val_loss: 0.3703 - val_accuracy: 0.7447 - lr: 0.0010 - 100s/epoch - 23ms/step
Epoch 21/50
4378/4378 - 98s - loss: 0.1347 - accuracy: 0.8610 - val_loss: 0.2935 - val_accuracy: 0.7970 - lr: 0.0010 - 98s/epoch - 22ms/step
Epoch 22/50
4378/4378 - 101s - loss: 0.1351 - accuracy: 0.8607 - val_loss: 0.2936 - val_accuracy: 0.7981 - lr: 0.0010 - 101s/epoch - 23ms/step
Epoch 23/50
4378/4378 - 96s - loss: 0.1349 - accuracy: 0.8602 - val_loss: 0.3398 - val_accuracy: 0.7640 - lr: 0.0010 - 96s/epoch - 22ms/step
Epoch 24/50
4378/4378 - 94s - loss: 0.1381 - accuracy: 0.8563 - val_loss: 0.3055 - val_accuracy: 0.7717 - lr: 0.0010 - 94s/epoch - 21ms/step
Epoch 25/50
4378/4378 - 76s - loss: 0.1357 - accuracy: 0.8595 - val_loss: 0.3400 - val_accuracy: 0.7444 - lr: 0.0010 - 76s/epoch - 17ms/step
Epoch 26/50
4378/4378 - 75s - loss: 0.1369 - accuracy: 0.8591 - val_loss: 0.3276 - val_accuracy: 0.7630 - lr: 0.0010 - 75s/epoch - 17ms/step
Epoch 27/50
4378/4378 - 75s - loss: 0.1369 - accuracy: 0.8578 - val_loss: 0.3105 - val_accuracy: 0.7810 - lr: 0.0010 - 75s/epoch - 17ms/step
Epoch 28/50
4378/4378 - 75s - loss: 0.1355 - accuracy: 0.8597 - val_loss: 0.2809 - val_accuracy: 0.8118 - lr: 0.0010 - 75s/epoch - 17ms/step
Epoch 29/50
4378/4378 - 75s - loss: 0.1382 - accuracy: 0.8566 - val_loss: 0.3112 - val_accuracy: 0.8005 - lr: 0.0010 - 75s/epoch - 17ms/step
Epoch 30/50
4378/4378 - 75s - loss: 0.1349 - accuracy: 0.8607 - val_loss: 0.2900 - val_accuracy: 0.7917 - lr: 0.0010 - 75s/epoch - 17ms/step
Epoch 31/50
4378/4378 - 75s - loss: 0.1352 - accuracy: 0.8606 - val_loss: 0.2769 - val_accuracy: 0.8126 - lr: 0.0010 - 75s/epoch - 17ms/step
Epoch 32/50
4378/4378 - 75s - loss: 0.1370 - accuracy: 0.8582 - val_loss: 0.2906 - val_accuracy: 0.7958 - lr: 0.0010 - 75s/epoch - 17ms/step
Epoch 33/50
4378/4378 - 74s - loss: 0.1367 - accuracy: 0.8583 - val_loss: 0.3089 - val_accuracy: 0.7834 - lr: 0.0010 - 74s/epoch - 17ms/step
Epoch 34/50
4378/4378 - 76s - loss: 0.1341 - accuracy: 0.8612 - val_loss: 0.2769 - val_accuracy: 0.8050 - lr: 0.0010 - 76s/epoch - 17ms/step
Epoch 35/50
4378/4378 - 74s - loss: 0.1382 - accuracy: 0.8565 - val_loss: 0.3106 - val_accuracy: 0.7828 - lr: 0.0010 - 74s/epoch - 17ms/step
Epoch 36/50
4378/4378 - 73s - loss: 0.1378 - accuracy: 0.8578 - val_loss: 0.3087 - val_accuracy: 0.7812 - lr: 0.0010 - 73s/epoch - 17ms/step
Epoch 37/50
4378/4378 - 73s - loss: 0.1350 - accuracy: 0.8605 - val_loss: 0.3037 - val_accuracy: 0.7944 - lr: 0.0010 - 73s/epoch - 17ms/step
Epoch 38/50
4378/4378 - 74s - loss: 0.1369 - accuracy: 0.8581 - val_loss: 0.2711 - val_accuracy: 0.8131 - lr: 0.0010 - 74s/epoch - 17ms/step
Epoch 39/50
4378/4378 - 73s - loss: 0.1363 - accuracy: 0.8585 - val_loss: 0.2964 - val_accuracy: 0.7883 - lr: 0.0010 - 73s/epoch - 17ms/step
Epoch 40/50
4378/4378 - 73s - loss: 0.1393 - accuracy: 0.8560 - val_loss: 0.3328 - val_accuracy: 0.7741 - lr: 0.0010 - 73s/epoch - 17ms/step
Epoch 41/50
4378/4378 - 74s - loss: 0.1386 - accuracy: 0.8566 - val_loss: 0.2762 - val_accuracy: 0.8094 - lr: 0.0010 - 74s/epoch - 17ms/step
Epoch 42/50
4378/4378 - 73s - loss: 0.1357 - accuracy: 0.8595 - val_loss: 0.2800 - val_accuracy: 0.7867 - lr: 0.0010 - 73s/epoch - 17ms/step
Epoch 43/50
4378/4378 - 73s - loss: 0.1358 - accuracy: 0.8597 - val_loss: 0.3045 - val_accuracy: 0.7944 - lr: 0.0010 - 73s/epoch - 17ms/step
Epoch 44/50
4378/4378 - 73s - loss: 0.1394 - accuracy: 0.8571 - val_loss: 0.2919 - val_accuracy: 0.7858 - lr: 0.0010 - 73s/epoch - 17ms/step
Epoch 45/50
4378/4378 - 73s - loss: 0.1367 - accuracy: 0.8585 - val_loss: 0.2656 - val_accuracy: 0.8131 - lr: 0.0010 - 73s/epoch - 17ms/step
Epoch 46/50
4378/4378 - 73s - loss: 0.1373 - accuracy: 0.8574 - val_loss: 0.3347 - val_accuracy: 0.7689 - lr: 0.0010 - 73s/epoch - 17ms/step
Epoch 47/50
4378/4378 - 74s - loss: 0.1382 - accuracy: 0.8577 - val_loss: 0.2912 - val_accuracy: 0.8019 - lr: 0.0010 - 74s/epoch - 17ms/step
Epoch 48/50
4378/4378 - 74s - loss: 0.1372 - accuracy: 0.8592 - val_loss: 0.3420 - val_accuracy: 0.7584 - lr: 0.0010 - 74s/epoch - 17ms/step
Epoch 49/50
4378/4378 - 73s - loss: 0.1379 - accuracy: 0.8570 - val_loss: 0.3035 - val_accuracy: 0.7647 - lr: 0.0010 - 73s/epoch - 17ms/step
Epoch 50/50
4378/4378 - 73s - loss: 0.1362 - accuracy: 0.8590 - val_loss: 0.2377 - val_accuracy: 0.8409 - lr: 0.0010 - 73s/epoch - 17ms/step
fitting with batch size: 100
Epoch 1/50
876/876 - 21s - loss: 0.1086 - accuracy: 0.8845 - val_loss: 0.3128 - val_accuracy: 0.7937 - lr: 0.0010 - 21s/epoch - 24ms/step
Epoch 2/50
876/876 - 18s - loss: 0.1019 - accuracy: 0.8904 - val_loss: 0.3152 - val_accuracy: 0.7805 - lr: 0.0010 - 18s/epoch - 21ms/step
Epoch 3/50
876/876 - 18s - loss: 0.0990 - accuracy: 0.8940 - val_loss: 0.3161 - val_accuracy: 0.7901 - lr: 0.0010 - 18s/epoch - 20ms/step
Epoch 4/50
876/876 - 18s - loss: 0.0996 - accuracy: 0.8940 - val_loss: 0.3397 - val_accuracy: 0.7688 - lr: 0.0010 - 18s/epoch - 21ms/step
Epoch 5/50
876/876 - 18s - loss: 0.0969 - accuracy: 0.8967 - val_loss: 0.3388 - val_accuracy: 0.7818 - lr: 0.0010 - 18s/epoch - 20ms/step
Epoch 6/50
876/876 - 18s - loss: 0.0968 - accuracy: 0.8959 - val_loss: 0.3017 - val_accuracy: 0.8020 - lr: 0.0010 - 18s/epoch - 20ms/step
Epoch 7/50
876/876 - 18s - loss: 0.0938 - accuracy: 0.8996 - val_loss: 0.3087 - val_accuracy: 0.7870 - lr: 0.0010 - 18s/epoch - 20ms/step
Epoch 8/50
876/876 - 18s - loss: 0.0932 - accuracy: 0.8996 - val_loss: 0.3269 - val_accuracy: 0.7908 - lr: 0.0010 - 18s/epoch - 20ms/step
Epoch 9/50
876/876 - 18s - loss: 0.0939 - accuracy: 0.8985 - val_loss: 0.3488 - val_accuracy: 0.7845 - lr: 0.0010 - 18s/epoch - 20ms/step
Epoch 10/50
876/876 - 18s - loss: 0.0921 - accuracy: 0.9005 - val_loss: 0.3281 - val_accuracy: 0.7860 - lr: 0.0010 - 18s/epoch - 20ms/step
Epoch 11/50
876/876 - 18s - loss: 0.0919 - accuracy: 0.9014 - val_loss: 0.3625 - val_accuracy: 0.7655 - lr: 0.0010 - 18s/epoch - 20ms/step
Epoch 12/50
876/876 - 18s - loss: 0.0919 - accuracy: 0.9014 - val_loss: 0.3585 - val_accuracy: 0.7716 - lr: 0.0010 - 18s/epoch - 20ms/step
Epoch 13/50
876/876 - 18s - loss: 0.0910 - accuracy: 0.9020 - val_loss: 0.3284 - val_accuracy: 0.7760 - lr: 0.0010 - 18s/epoch - 20ms/step
Epoch 14/50
876/876 - 18s - loss: 0.0908 - accuracy: 0.9024 - val_loss: 0.3731 - val_accuracy: 0.7664 - lr: 0.0010 - 18s/epoch - 20ms/step
Epoch 15/50
876/876 - 18s - loss: 0.0905 - accuracy: 0.9035 - val_loss: 0.3878 - val_accuracy: 0.7607 - lr: 0.0010 - 18s/epoch - 20ms/step
Epoch 16/50
876/876 - 18s - loss: 0.0893 - accuracy: 0.9031 - val_loss: 0.3740 - val_accuracy: 0.7694 - lr: 0.0010 - 18s/epoch - 20ms/step
Epoch 17/50
876/876 - 18s - loss: 0.0897 - accuracy: 0.9043 - val_loss: 0.3313 - val_accuracy: 0.7872 - lr: 0.0010 - 18s/epoch - 20ms/step
Epoch 18/50
876/876 - 18s - loss: 0.0902 - accuracy: 0.9030 - val_loss: 0.3756 - val_accuracy: 0.7611 - lr: 0.0010 - 18s/epoch - 20ms/step
Epoch 19/50
876/876 - 18s - loss: 0.0879 - accuracy: 0.9054 - val_loss: 0.3018 - val_accuracy: 0.8039 - lr: 0.0010 - 18s/epoch - 20ms/step
Epoch 20/50
876/876 - 18s - loss: 0.0891 - accuracy: 0.9051 - val_loss: 0.3266 - val_accuracy: 0.7948 - lr: 0.0010 - 18s/epoch - 20ms/step
Epoch 21/50
876/876 - 18s - loss: 0.0887 - accuracy: 0.9045 - val_loss: 0.3607 - val_accuracy: 0.7873 - lr: 0.0010 - 18s/epoch - 20ms/step
Epoch 22/50
876/876 - 18s - loss: 0.0889 - accuracy: 0.9058 - val_loss: 0.3492 - val_accuracy: 0.7883 - lr: 0.0010 - 18s/epoch - 20ms/step
Epoch 23/50
876/876 - 18s - loss: 0.0868 - accuracy: 0.9075 - val_loss: 0.3423 - val_accuracy: 0.7824 - lr: 0.0010 - 18s/epoch - 20ms/step
Epoch 24/50
876/876 - 18s - loss: 0.0862 - accuracy: 0.9072 - val_loss: 0.3778 - val_accuracy: 0.7869 - lr: 0.0010 - 18s/epoch - 20ms/step
Epoch 25/50
876/876 - 18s - loss: 0.0881 - accuracy: 0.9055 - val_loss: 0.3473 - val_accuracy: 0.7955 - lr: 0.0010 - 18s/epoch - 20ms/step
Epoch 26/50
876/876 - 18s - loss: 0.0873 - accuracy: 0.9077 - val_loss: 0.3385 - val_accuracy: 0.7858 - lr: 0.0010 - 18s/epoch - 20ms/step
Epoch 27/50
876/876 - 18s - loss: 0.0870 - accuracy: 0.9058 - val_loss: 0.3545 - val_accuracy: 0.7811 - lr: 0.0010 - 18s/epoch - 20ms/step
Epoch 28/50
876/876 - 18s - loss: 0.0864 - accuracy: 0.9075 - val_loss: 0.3688 - val_accuracy: 0.7713 - lr: 0.0010 - 18s/epoch - 20ms/step
Epoch 29/50
876/876 - 18s - loss: 0.0850 - accuracy: 0.9081 - val_loss: 0.3767 - val_accuracy: 0.7609 - lr: 0.0010 - 18s/epoch - 20ms/step
Epoch 30/50
876/876 - 18s - loss: 0.0879 - accuracy: 0.9062 - val_loss: 0.3442 - val_accuracy: 0.7866 - lr: 0.0010 - 18s/epoch - 20ms/step
Epoch 31/50
876/876 - 18s - loss: 0.0857 - accuracy: 0.9090 - val_loss: 0.3847 - val_accuracy: 0.7523 - lr: 0.0010 - 18s/epoch - 20ms/step
Epoch 32/50
876/876 - 18s - loss: 0.0844 - accuracy: 0.9084 - val_loss: 0.3299 - val_accuracy: 0.7812 - lr: 0.0010 - 18s/epoch - 20ms/step
Epoch 33/50
876/876 - 18s - loss: 0.0819 - accuracy: 0.9113 - val_loss: 0.4142 - val_accuracy: 0.7527 - lr: 0.0010 - 18s/epoch - 20ms/step
Epoch 34/50
876/876 - 18s - loss: 0.0864 - accuracy: 0.9083 - val_loss: 0.3481 - val_accuracy: 0.7839 - lr: 0.0010 - 18s/epoch - 20ms/step
Epoch 35/50
876/876 - 18s - loss: 0.0841 - accuracy: 0.9091 - val_loss: 0.3813 - val_accuracy: 0.7718 - lr: 0.0010 - 18s/epoch - 20ms/step
Epoch 36/50
876/876 - 18s - loss: 0.0841 - accuracy: 0.9103 - val_loss: 0.3830 - val_accuracy: 0.7679 - lr: 0.0010 - 18s/epoch - 20ms/step
Epoch 37/50
876/876 - 18s - loss: 0.0854 - accuracy: 0.9097 - val_loss: 0.3108 - val_accuracy: 0.8035 - lr: 0.0010 - 18s/epoch - 20ms/step
Epoch 38/50
876/876 - 18s - loss: 0.0842 - accuracy: 0.9100 - val_loss: 0.3731 - val_accuracy: 0.7706 - lr: 0.0010 - 18s/epoch - 20ms/step
Epoch 39/50
876/876 - 18s - loss: 0.0830 - accuracy: 0.9110 - val_loss: 0.3631 - val_accuracy: 0.7763 - lr: 0.0010 - 18s/epoch - 20ms/step
Epoch 40/50
876/876 - 18s - loss: 0.0836 - accuracy: 0.9103 - val_loss: 0.3122 - val_accuracy: 0.7966 - lr: 0.0010 - 18s/epoch - 20ms/step
Epoch 41/50
876/876 - 18s - loss: 0.0820 - accuracy: 0.9111 - val_loss: 0.3955 - val_accuracy: 0.7524 - lr: 0.0010 - 18s/epoch - 20ms/step
Epoch 42/50
876/876 - 18s - loss: 0.0811 - accuracy: 0.9134 - val_loss: 0.3557 - val_accuracy: 0.7809 - lr: 0.0010 - 18s/epoch - 20ms/step
Epoch 43/50
876/876 - 18s - loss: 0.0830 - accuracy: 0.9107 - val_loss: 0.3406 - val_accuracy: 0.7812 - lr: 0.0010 - 18s/epoch - 20ms/step
Epoch 44/50
876/876 - 18s - loss: 0.0819 - accuracy: 0.9131 - val_loss: 0.3840 - val_accuracy: 0.7742 - lr: 0.0010 - 18s/epoch - 20ms/step
Epoch 45/50
876/876 - 18s - loss: 0.0821 - accuracy: 0.9128 - val_loss: 0.3614 - val_accuracy: 0.7680 - lr: 0.0010 - 18s/epoch - 20ms/step
Epoch 46/50
876/876 - 18s - loss: 0.0822 - accuracy: 0.9121 - val_loss: 0.3904 - val_accuracy: 0.7620 - lr: 0.0010 - 18s/epoch - 20ms/step
Epoch 47/50
876/876 - 18s - loss: 0.0811 - accuracy: 0.9135 - val_loss: 0.3665 - val_accuracy: 0.7657 - lr: 0.0010 - 18s/epoch - 20ms/step
Epoch 48/50
876/876 - 18s - loss: 0.0820 - accuracy: 0.9113 - val_loss: 0.3808 - val_accuracy: 0.7679 - lr: 0.0010 - 18s/epoch - 20ms/step
Epoch 49/50
876/876 - 18s - loss: 0.0822 - accuracy: 0.9121 - val_loss: 0.3377 - val_accuracy: 0.7940 - lr: 0.0010 - 18s/epoch - 20ms/step
Epoch 50/50
876/876 - 18s - loss: 0.0831 - accuracy: 0.9116 - val_loss: 0.3970 - val_accuracy: 0.7642 - lr: 0.0010 - 18s/epoch - 20ms/step
fitting with batch size: 500
Epoch 1/50
176/176 - 11s - loss: 0.0666 - accuracy: 0.9271 - val_loss: 0.4291 - val_accuracy: 0.7562 - lr: 0.0010 - 11s/epoch - 60ms/step
Epoch 2/50
176/176 - 8s - loss: 0.0663 - accuracy: 0.9276 - val_loss: 0.4545 - val_accuracy: 0.7497 - lr: 0.0010 - 8s/epoch - 48ms/step
Epoch 3/50
176/176 - 8s - loss: 0.0621 - accuracy: 0.9314 - val_loss: 0.4271 - val_accuracy: 0.7656 - lr: 0.0010 - 8s/epoch - 48ms/step
Epoch 4/50
176/176 - 8s - loss: 0.0613 - accuracy: 0.9324 - val_loss: 0.4499 - val_accuracy: 0.7685 - lr: 0.0010 - 8s/epoch - 48ms/step
Epoch 5/50
176/176 - 8s - loss: 0.0625 - accuracy: 0.9308 - val_loss: 0.4386 - val_accuracy: 0.7621 - lr: 0.0010 - 8s/epoch - 48ms/step
Epoch 6/50
176/176 - 8s - loss: 0.0632 - accuracy: 0.9316 - val_loss: 0.4615 - val_accuracy: 0.7579 - lr: 0.0010 - 8s/epoch - 48ms/step
Epoch 7/50
176/176 - 8s - loss: 0.0616 - accuracy: 0.9325 - val_loss: 0.4470 - val_accuracy: 0.7651 - lr: 0.0010 - 8s/epoch - 48ms/step
Epoch 8/50
176/176 - 9s - loss: 0.0615 - accuracy: 0.9319 - val_loss: 0.4431 - val_accuracy: 0.7599 - lr: 0.0010 - 9s/epoch - 48ms/step
Epoch 9/50
176/176 - 9s - loss: 0.0623 - accuracy: 0.9322 - val_loss: 0.4898 - val_accuracy: 0.7509 - lr: 0.0010 - 9s/epoch - 48ms/step
Epoch 10/50
176/176 - 9s - loss: 0.0616 - accuracy: 0.9323 - val_loss: 0.4929 - val_accuracy: 0.7412 - lr: 0.0010 - 9s/epoch - 48ms/step
Epoch 11/50
176/176 - 9s - loss: 0.0608 - accuracy: 0.9335 - val_loss: 0.5039 - val_accuracy: 0.7405 - lr: 0.0010 - 9s/epoch - 48ms/step
Epoch 12/50
176/176 - 8s - loss: 0.0604 - accuracy: 0.9338 - val_loss: 0.4748 - val_accuracy: 0.7517 - lr: 0.0010 - 8s/epoch - 48ms/step
Epoch 13/50
176/176 - 8s - loss: 0.0586 - accuracy: 0.9355 - val_loss: 0.4680 - val_accuracy: 0.7582 - lr: 0.0010 - 8s/epoch - 48ms/step
Epoch 14/50
176/176 - 9s - loss: 0.0605 - accuracy: 0.9337 - val_loss: 0.4211 - val_accuracy: 0.7746 - lr: 0.0010 - 9s/epoch - 48ms/step
Epoch 15/50
176/176 - 8s - loss: 0.0587 - accuracy: 0.9352 - val_loss: 0.4891 - val_accuracy: 0.7491 - lr: 0.0010 - 8s/epoch - 48ms/step
Epoch 16/50
176/176 - 8s - loss: 0.0610 - accuracy: 0.9330 - val_loss: 0.4651 - val_accuracy: 0.7614 - lr: 0.0010 - 8s/epoch - 48ms/step
Epoch 17/50
176/176 - 9s - loss: 0.0596 - accuracy: 0.9347 - val_loss: 0.4841 - val_accuracy: 0.7619 - lr: 0.0010 - 9s/epoch - 48ms/step
Epoch 18/50
176/176 - 9s - loss: 0.0597 - accuracy: 0.9348 - val_loss: 0.4427 - val_accuracy: 0.7689 - lr: 0.0010 - 9s/epoch - 48ms/step
Epoch 19/50
176/176 - 9s - loss: 0.0608 - accuracy: 0.9335 - val_loss: 0.4638 - val_accuracy: 0.7607 - lr: 0.0010 - 9s/epoch - 48ms/step
Epoch 20/50
176/176 - 8s - loss: 0.0568 - accuracy: 0.9373 - val_loss: 0.5018 - val_accuracy: 0.7576 - lr: 0.0010 - 8s/epoch - 48ms/step
Epoch 21/50
176/176 - 8s - loss: 0.0572 - accuracy: 0.9376 - val_loss: 0.5512 - val_accuracy: 0.7285 - lr: 0.0010 - 8s/epoch - 48ms/step
Epoch 22/50
176/176 - 9s - loss: 0.0580 - accuracy: 0.9365 - val_loss: 0.5003 - val_accuracy: 0.7569 - lr: 0.0010 - 9s/epoch - 48ms/step
Epoch 23/50
176/176 - 9s - loss: 0.0579 - accuracy: 0.9367 - val_loss: 0.4877 - val_accuracy: 0.7518 - lr: 0.0010 - 9s/epoch - 48ms/step
Epoch 24/50
176/176 - 9s - loss: 0.0571 - accuracy: 0.9373 - val_loss: 0.4835 - val_accuracy: 0.7618 - lr: 0.0010 - 9s/epoch - 48ms/step
Epoch 25/50
176/176 - 9s - loss: 0.0576 - accuracy: 0.9366 - val_loss: 0.5233 - val_accuracy: 0.7526 - lr: 0.0010 - 9s/epoch - 48ms/step
Epoch 26/50
176/176 - 8s - loss: 0.0594 - accuracy: 0.9358 - val_loss: 0.4888 - val_accuracy: 0.7558 - lr: 0.0010 - 8s/epoch - 48ms/step
Epoch 27/50
176/176 - 9s - loss: 0.0584 - accuracy: 0.9376 - val_loss: 0.5362 - val_accuracy: 0.7312 - lr: 0.0010 - 9s/epoch - 48ms/step
Epoch 28/50
176/176 - 9s - loss: 0.0575 - accuracy: 0.9366 - val_loss: 0.4686 - val_accuracy: 0.7684 - lr: 0.0010 - 9s/epoch - 48ms/step
Epoch 29/50
176/176 - 8s - loss: 0.0585 - accuracy: 0.9359 - val_loss: 0.4580 - val_accuracy: 0.7708 - lr: 0.0010 - 8s/epoch - 48ms/step
Epoch 30/50
176/176 - 8s - loss: 0.0588 - accuracy: 0.9359 - val_loss: 0.4656 - val_accuracy: 0.7558 - lr: 0.0010 - 8s/epoch - 48ms/step
Epoch 31/50
176/176 - 9s - loss: 0.0577 - accuracy: 0.9368 - val_loss: 0.4981 - val_accuracy: 0.7454 - lr: 0.0010 - 9s/epoch - 48ms/step
Epoch 32/50
176/176 - 8s - loss: 0.0561 - accuracy: 0.9390 - val_loss: 0.4974 - val_accuracy: 0.7566 - lr: 0.0010 - 8s/epoch - 48ms/step
Epoch 33/50
176/176 - 8s - loss: 0.0550 - accuracy: 0.9390 - val_loss: 0.4946 - val_accuracy: 0.7596 - lr: 0.0010 - 8s/epoch - 48ms/step
Epoch 34/50
176/176 - 9s - loss: 0.0578 - accuracy: 0.9378 - val_loss: 0.4584 - val_accuracy: 0.7727 - lr: 0.0010 - 9s/epoch - 48ms/step
Epoch 35/50
176/176 - 9s - loss: 0.0570 - accuracy: 0.9369 - val_loss: 0.5145 - val_accuracy: 0.7472 - lr: 0.0010 - 9s/epoch - 48ms/step
Epoch 36/50
176/176 - 9s - loss: 0.0577 - accuracy: 0.9368 - val_loss: 0.4873 - val_accuracy: 0.7635 - lr: 0.0010 - 9s/epoch - 48ms/step
Epoch 37/50
176/176 - 8s - loss: 0.0575 - accuracy: 0.9368 - val_loss: 0.4923 - val_accuracy: 0.7568 - lr: 0.0010 - 8s/epoch - 48ms/step
Epoch 38/50
176/176 - 9s - loss: 0.0565 - accuracy: 0.9383 - val_loss: 0.4915 - val_accuracy: 0.7607 - lr: 0.0010 - 9s/epoch - 48ms/step
Epoch 39/50
176/176 - 9s - loss: 0.0560 - accuracy: 0.9389 - val_loss: 0.4878 - val_accuracy: 0.7496 - lr: 0.0010 - 9s/epoch - 48ms/step
Epoch 40/50
176/176 - 8s - loss: 0.0576 - accuracy: 0.9377 - val_loss: 0.4728 - val_accuracy: 0.7559 - lr: 0.0010 - 8s/epoch - 48ms/step
Epoch 41/50
176/176 - 9s - loss: 0.0579 - accuracy: 0.9368 - val_loss: 0.4759 - val_accuracy: 0.7623 - lr: 0.0010 - 9s/epoch - 48ms/step
Epoch 42/50
176/176 - 8s - loss: 0.0567 - accuracy: 0.9381 - val_loss: 0.4774 - val_accuracy: 0.7655 - lr: 0.0010 - 8s/epoch - 48ms/step
Epoch 43/50
176/176 - 9s - loss: 0.0570 - accuracy: 0.9385 - val_loss: 0.4944 - val_accuracy: 0.7534 - lr: 0.0010 - 9s/epoch - 48ms/step
Epoch 44/50
176/176 - 8s - loss: 0.0572 - accuracy: 0.9380 - val_loss: 0.4977 - val_accuracy: 0.7394 - lr: 0.0010 - 8s/epoch - 48ms/step
Epoch 45/50
176/176 - 8s - loss: 0.0581 - accuracy: 0.9367 - val_loss: 0.4806 - val_accuracy: 0.7546 - lr: 0.0010 - 8s/epoch - 48ms/step
Epoch 46/50
176/176 - 9s - loss: 0.0560 - accuracy: 0.9390 - val_loss: 0.4943 - val_accuracy: 0.7522 - lr: 0.0010 - 9s/epoch - 48ms/step
Epoch 47/50
176/176 - 9s - loss: 0.0573 - accuracy: 0.9380 - val_loss: 0.5425 - val_accuracy: 0.7413 - lr: 0.0010 - 9s/epoch - 48ms/step
Epoch 48/50
176/176 - 8s - loss: 0.0565 - accuracy: 0.9389 - val_loss: 0.5320 - val_accuracy: 0.7361 - lr: 0.0010 - 8s/epoch - 48ms/step
Epoch 49/50
176/176 - 8s - loss: 0.0571 - accuracy: 0.9381 - val_loss: 0.5335 - val_accuracy: 0.7405 - lr: 0.0010 - 8s/epoch - 48ms/step
Epoch 50/50
176/176 - 8s - loss: 0.0564 - accuracy: 0.9386 - val_loss: 0.5217 - val_accuracy: 0.7422 - lr: 0.0010 - 8s/epoch - 48ms/step
