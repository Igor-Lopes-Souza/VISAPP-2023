Loss: categorical_crossentropy
Epoch number: 25
fitting with batch size: 1500
Epoch 1/25
59/59 - 14s - loss: 1.5738 - accuracy: 0.2849 - val_loss: 1.6112 - val_accuracy: 0.0787 - lr: 0.0010 - 14s/epoch - 234ms/step
Epoch 2/25
59/59 - 8s - loss: 1.3505 - accuracy: 0.4279 - val_loss: 1.6059 - val_accuracy: 0.1068 - lr: 0.0010 - 8s/epoch - 136ms/step
Epoch 3/25
59/59 - 8s - loss: 1.1725 - accuracy: 0.5288 - val_loss: 1.4538 - val_accuracy: 0.2062 - lr: 0.0010 - 8s/epoch - 136ms/step
Epoch 4/25
59/59 - 8s - loss: 1.0534 - accuracy: 0.5866 - val_loss: 1.2992 - val_accuracy: 0.4276 - lr: 0.0010 - 8s/epoch - 135ms/step
Epoch 5/25
59/59 - 8s - loss: 0.9874 - accuracy: 0.6173 - val_loss: 1.1068 - val_accuracy: 0.5658 - lr: 0.0010 - 8s/epoch - 135ms/step
Epoch 6/25
59/59 - 8s - loss: 0.9521 - accuracy: 0.6328 - val_loss: 1.1328 - val_accuracy: 0.5245 - lr: 0.0010 - 8s/epoch - 143ms/step
Epoch 7/25
59/59 - 9s - loss: 0.9255 - accuracy: 0.6440 - val_loss: 1.0135 - val_accuracy: 0.5856 - lr: 0.0010 - 9s/epoch - 160ms/step
Epoch 8/25
59/59 - 11s - loss: 0.9094 - accuracy: 0.6497 - val_loss: 0.9636 - val_accuracy: 0.6281 - lr: 0.0010 - 11s/epoch - 179ms/step
Epoch 9/25
59/59 - 10s - loss: 0.8953 - accuracy: 0.6564 - val_loss: 0.9718 - val_accuracy: 0.5936 - lr: 0.0010 - 10s/epoch - 175ms/step
Epoch 10/25
59/59 - 11s - loss: 0.8796 - accuracy: 0.6622 - val_loss: 0.9284 - val_accuracy: 0.6451 - lr: 0.0010 - 11s/epoch - 179ms/step
Epoch 11/25
59/59 - 10s - loss: 0.8694 - accuracy: 0.6682 - val_loss: 0.9099 - val_accuracy: 0.6423 - lr: 0.0010 - 10s/epoch - 174ms/step
Epoch 12/25
59/59 - 10s - loss: 0.8624 - accuracy: 0.6711 - val_loss: 0.9168 - val_accuracy: 0.6110 - lr: 0.0010 - 10s/epoch - 172ms/step
Epoch 13/25
59/59 - 10s - loss: 0.8529 - accuracy: 0.6738 - val_loss: 0.8037 - val_accuracy: 0.7009 - lr: 0.0010 - 10s/epoch - 176ms/step
Epoch 14/25
59/59 - 10s - loss: 0.8454 - accuracy: 0.6780 - val_loss: 0.8746 - val_accuracy: 0.6581 - lr: 0.0010 - 10s/epoch - 164ms/step
Epoch 15/25
59/59 - 11s - loss: 0.8390 - accuracy: 0.6802 - val_loss: 0.8375 - val_accuracy: 0.6819 - lr: 0.0010 - 11s/epoch - 181ms/step
Epoch 16/25
59/59 - 10s - loss: 0.8320 - accuracy: 0.6835 - val_loss: 0.7435 - val_accuracy: 0.7439 - lr: 0.0010 - 10s/epoch - 175ms/step
Epoch 17/25
59/59 - 10s - loss: 0.8253 - accuracy: 0.6858 - val_loss: 0.7661 - val_accuracy: 0.7339 - lr: 0.0010 - 10s/epoch - 175ms/step
Epoch 18/25
59/59 - 10s - loss: 0.8197 - accuracy: 0.6898 - val_loss: 0.7587 - val_accuracy: 0.7544 - lr: 0.0010 - 10s/epoch - 173ms/step
Epoch 19/25
59/59 - 10s - loss: 0.8166 - accuracy: 0.6885 - val_loss: 0.7911 - val_accuracy: 0.7371 - lr: 0.0010 - 10s/epoch - 172ms/step
Epoch 20/25
59/59 - 10s - loss: 0.8122 - accuracy: 0.6915 - val_loss: 0.7805 - val_accuracy: 0.7363 - lr: 0.0010 - 10s/epoch - 177ms/step
Epoch 21/25
59/59 - 10s - loss: 0.8054 - accuracy: 0.6948 - val_loss: 0.7077 - val_accuracy: 0.7950 - lr: 0.0010 - 10s/epoch - 173ms/step
Epoch 22/25
59/59 - 11s - loss: 0.8010 - accuracy: 0.6956 - val_loss: 0.7591 - val_accuracy: 0.7371 - lr: 0.0010 - 11s/epoch - 181ms/step
Epoch 23/25
59/59 - 10s - loss: 0.7987 - accuracy: 0.6958 - val_loss: 0.7550 - val_accuracy: 0.7405 - lr: 0.0010 - 10s/epoch - 177ms/step
Epoch 24/25
59/59 - 11s - loss: 0.7965 - accuracy: 0.6974 - val_loss: 0.7596 - val_accuracy: 0.7246 - lr: 0.0010 - 11s/epoch - 181ms/step
Epoch 25/25
59/59 - 11s - loss: 0.7944 - accuracy: 0.6994 - val_loss: 0.7178 - val_accuracy: 0.7841 - lr: 0.0010 - 11s/epoch - 180ms/step
fitting with batch size: 2500
Epoch 1/25
36/36 - 14s - loss: 0.7866 - accuracy: 0.7014 - val_loss: 0.7133 - val_accuracy: 0.7566 - lr: 0.0010 - 14s/epoch - 401ms/step
Epoch 2/25
36/36 - 10s - loss: 0.7836 - accuracy: 0.7027 - val_loss: 0.7510 - val_accuracy: 0.7423 - lr: 0.0010 - 10s/epoch - 265ms/step
Epoch 3/25
36/36 - 9s - loss: 0.7792 - accuracy: 0.7045 - val_loss: 0.7477 - val_accuracy: 0.7438 - lr: 0.0010 - 9s/epoch - 245ms/step
Epoch 4/25
36/36 - 9s - loss: 0.7797 - accuracy: 0.7026 - val_loss: 0.7466 - val_accuracy: 0.7582 - lr: 0.0010 - 9s/epoch - 246ms/step
Epoch 5/25
36/36 - 9s - loss: 0.7769 - accuracy: 0.7055 - val_loss: 0.7250 - val_accuracy: 0.7490 - lr: 0.0010 - 9s/epoch - 248ms/step
Epoch 6/25
36/36 - 9s - loss: 0.7760 - accuracy: 0.7062 - val_loss: 0.7392 - val_accuracy: 0.7341 - lr: 0.0010 - 9s/epoch - 248ms/step
Epoch 7/25
36/36 - 9s - loss: 0.7770 - accuracy: 0.7067 - val_loss: 0.7715 - val_accuracy: 0.7249 - lr: 0.0010 - 9s/epoch - 243ms/step
Epoch 8/25
36/36 - 9s - loss: 0.7726 - accuracy: 0.7071 - val_loss: 0.7356 - val_accuracy: 0.7519 - lr: 0.0010 - 9s/epoch - 240ms/step
Epoch 9/25
36/36 - 9s - loss: 0.7701 - accuracy: 0.7087 - val_loss: 0.7171 - val_accuracy: 0.7783 - lr: 0.0010 - 9s/epoch - 248ms/step
Epoch 10/25
36/36 - 9s - loss: 0.7721 - accuracy: 0.7083 - val_loss: 0.7149 - val_accuracy: 0.7463 - lr: 0.0010 - 9s/epoch - 246ms/step
Epoch 11/25
36/36 - 9s - loss: 0.7702 - accuracy: 0.7088 - val_loss: 0.7101 - val_accuracy: 0.7473 - lr: 0.0010 - 9s/epoch - 246ms/step
Epoch 12/25
36/36 - 9s - loss: 0.7684 - accuracy: 0.7091 - val_loss: 0.7462 - val_accuracy: 0.7409 - lr: 0.0010 - 9s/epoch - 248ms/step
Epoch 13/25
36/36 - 9s - loss: 0.7700 - accuracy: 0.7091 - val_loss: 0.6706 - val_accuracy: 0.7746 - lr: 0.0010 - 9s/epoch - 247ms/step
Epoch 14/25
36/36 - 9s - loss: 0.7678 - accuracy: 0.7095 - val_loss: 0.7307 - val_accuracy: 0.7581 - lr: 0.0010 - 9s/epoch - 248ms/step
Epoch 15/25
36/36 - 9s - loss: 0.7625 - accuracy: 0.7120 - val_loss: 0.7158 - val_accuracy: 0.7641 - lr: 0.0010 - 9s/epoch - 241ms/step
Epoch 16/25
36/36 - 11s - loss: 0.7622 - accuracy: 0.7104 - val_loss: 0.6878 - val_accuracy: 0.7713 - lr: 0.0010 - 11s/epoch - 295ms/step
Epoch 17/25
36/36 - 10s - loss: 0.7637 - accuracy: 0.7112 - val_loss: 0.6841 - val_accuracy: 0.8031 - lr: 0.0010 - 10s/epoch - 286ms/step
Epoch 18/25
36/36 - 16s - loss: 0.7594 - accuracy: 0.7123 - val_loss: 0.6714 - val_accuracy: 0.7777 - lr: 0.0010 - 16s/epoch - 437ms/step
Epoch 19/25
36/36 - 10s - loss: 0.7597 - accuracy: 0.7123 - val_loss: 0.6914 - val_accuracy: 0.7704 - lr: 0.0010 - 10s/epoch - 277ms/step
Epoch 20/25
36/36 - 10s - loss: 0.7586 - accuracy: 0.7130 - val_loss: 0.6607 - val_accuracy: 0.7982 - lr: 0.0010 - 10s/epoch - 278ms/step
Epoch 21/25
36/36 - 10s - loss: 0.7590 - accuracy: 0.7143 - val_loss: 0.7139 - val_accuracy: 0.7775 - lr: 0.0010 - 10s/epoch - 290ms/step
Epoch 22/25
36/36 - 11s - loss: 0.7564 - accuracy: 0.7152 - val_loss: 0.7081 - val_accuracy: 0.7693 - lr: 0.0010 - 11s/epoch - 294ms/step
Epoch 23/25
36/36 - 11s - loss: 0.7583 - accuracy: 0.7129 - val_loss: 0.7110 - val_accuracy: 0.7698 - lr: 0.0010 - 11s/epoch - 295ms/step
Epoch 24/25
36/36 - 11s - loss: 0.7546 - accuracy: 0.7140 - val_loss: 0.7303 - val_accuracy: 0.7559 - lr: 0.0010 - 11s/epoch - 304ms/step
Epoch 25/25
36/36 - 11s - loss: 0.7530 - accuracy: 0.7146 - val_loss: 0.7491 - val_accuracy: 0.7631 - lr: 0.0010 - 11s/epoch - 305ms/step
Epoch number: 50
fitting with batch size: 1500
Epoch 1/50
59/59 - 27s - loss: 0.7578 - accuracy: 0.7131 - val_loss: 0.7084 - val_accuracy: 0.7666 - lr: 0.0010 - 27s/epoch - 449ms/step
Epoch 2/50
59/59 - 11s - loss: 0.7563 - accuracy: 0.7131 - val_loss: 0.6519 - val_accuracy: 0.7966 - lr: 0.0010 - 11s/epoch - 190ms/step
Epoch 3/50
59/59 - 11s - loss: 0.7566 - accuracy: 0.7128 - val_loss: 0.6751 - val_accuracy: 0.8041 - lr: 0.0010 - 11s/epoch - 189ms/step
Epoch 4/50
59/59 - 11s - loss: 0.7517 - accuracy: 0.7161 - val_loss: 0.6727 - val_accuracy: 0.8024 - lr: 0.0010 - 11s/epoch - 187ms/step
Epoch 5/50
59/59 - 10s - loss: 0.7502 - accuracy: 0.7158 - val_loss: 0.6859 - val_accuracy: 0.7917 - lr: 0.0010 - 10s/epoch - 176ms/step
Epoch 6/50
59/59 - 11s - loss: 0.7503 - accuracy: 0.7150 - val_loss: 0.7032 - val_accuracy: 0.7625 - lr: 0.0010 - 11s/epoch - 188ms/step
Epoch 7/50
59/59 - 11s - loss: 0.7448 - accuracy: 0.7186 - val_loss: 0.7173 - val_accuracy: 0.7631 - lr: 0.0010 - 11s/epoch - 192ms/step
Epoch 8/50
59/59 - 11s - loss: 0.7446 - accuracy: 0.7187 - val_loss: 0.6689 - val_accuracy: 0.7962 - lr: 0.0010 - 11s/epoch - 187ms/step
Epoch 9/50
59/59 - 11s - loss: 0.7442 - accuracy: 0.7177 - val_loss: 0.6897 - val_accuracy: 0.7962 - lr: 0.0010 - 11s/epoch - 188ms/step
Epoch 10/50
59/59 - 12s - loss: 0.7416 - accuracy: 0.7191 - val_loss: 0.6915 - val_accuracy: 0.7933 - lr: 0.0010 - 12s/epoch - 199ms/step
Epoch 11/50
59/59 - 12s - loss: 0.7380 - accuracy: 0.7207 - val_loss: 0.7001 - val_accuracy: 0.7821 - lr: 0.0010 - 12s/epoch - 196ms/step
Epoch 12/50
59/59 - 12s - loss: 0.7383 - accuracy: 0.7201 - val_loss: 0.6682 - val_accuracy: 0.7844 - lr: 0.0010 - 12s/epoch - 202ms/step
Epoch 13/50
59/59 - 12s - loss: 0.7366 - accuracy: 0.7204 - val_loss: 0.6888 - val_accuracy: 0.7890 - lr: 0.0010 - 12s/epoch - 204ms/step
Epoch 14/50
59/59 - 12s - loss: 0.7335 - accuracy: 0.7227 - val_loss: 0.6805 - val_accuracy: 0.7739 - lr: 0.0010 - 12s/epoch - 204ms/step
Epoch 15/50
59/59 - 12s - loss: 0.7349 - accuracy: 0.7213 - val_loss: 0.6417 - val_accuracy: 0.8193 - lr: 0.0010 - 12s/epoch - 196ms/step
Epoch 16/50
59/59 - 12s - loss: 0.7303 - accuracy: 0.7246 - val_loss: 0.6825 - val_accuracy: 0.7925 - lr: 0.0010 - 12s/epoch - 202ms/step
Epoch 17/50
59/59 - 12s - loss: 0.7280 - accuracy: 0.7237 - val_loss: 0.6732 - val_accuracy: 0.7908 - lr: 0.0010 - 12s/epoch - 208ms/step
Epoch 18/50
59/59 - 12s - loss: 0.7300 - accuracy: 0.7244 - val_loss: 0.7191 - val_accuracy: 0.7877 - lr: 0.0010 - 12s/epoch - 204ms/step
Epoch 19/50
59/59 - 12s - loss: 0.7271 - accuracy: 0.7245 - val_loss: 0.6615 - val_accuracy: 0.7979 - lr: 0.0010 - 12s/epoch - 206ms/step
Epoch 20/50
59/59 - 12s - loss: 0.7232 - accuracy: 0.7259 - val_loss: 0.6756 - val_accuracy: 0.7913 - lr: 0.0010 - 12s/epoch - 201ms/step
Epoch 21/50
59/59 - 14s - loss: 0.7256 - accuracy: 0.7254 - val_loss: 0.6529 - val_accuracy: 0.8047 - lr: 0.0010 - 14s/epoch - 234ms/step
Epoch 22/50
59/59 - 11s - loss: 0.7238 - accuracy: 0.7250 - val_loss: 0.6706 - val_accuracy: 0.7924 - lr: 0.0010 - 11s/epoch - 192ms/step
Epoch 23/50
59/59 - 11s - loss: 0.7237 - accuracy: 0.7271 - val_loss: 0.6417 - val_accuracy: 0.8039 - lr: 0.0010 - 11s/epoch - 185ms/step
Epoch 24/50
59/59 - 12s - loss: 0.7164 - accuracy: 0.7277 - val_loss: 0.6523 - val_accuracy: 0.8080 - lr: 0.0010 - 12s/epoch - 200ms/step
Epoch 25/50
59/59 - 12s - loss: 0.7167 - accuracy: 0.7290 - val_loss: 0.6472 - val_accuracy: 0.7945 - lr: 0.0010 - 12s/epoch - 196ms/step
Epoch 26/50
59/59 - 11s - loss: 0.7153 - accuracy: 0.7293 - val_loss: 0.6802 - val_accuracy: 0.7848 - lr: 0.0010 - 11s/epoch - 190ms/step
Epoch 27/50
59/59 - 11s - loss: 0.7192 - accuracy: 0.7279 - val_loss: 0.6684 - val_accuracy: 0.7862 - lr: 0.0010 - 11s/epoch - 193ms/step
Epoch 28/50
59/59 - 12s - loss: 0.7103 - accuracy: 0.7317 - val_loss: 0.7457 - val_accuracy: 0.7491 - lr: 0.0010 - 12s/epoch - 196ms/step
Epoch 29/50
59/59 - 11s - loss: 0.7122 - accuracy: 0.7318 - val_loss: 0.6537 - val_accuracy: 0.8048 - lr: 0.0010 - 11s/epoch - 191ms/step
Epoch 30/50
59/59 - 11s - loss: 0.7093 - accuracy: 0.7316 - val_loss: 0.6418 - val_accuracy: 0.8070 - lr: 0.0010 - 11s/epoch - 187ms/step
Epoch 31/50
59/59 - 12s - loss: 0.7076 - accuracy: 0.7309 - val_loss: 0.6438 - val_accuracy: 0.8004 - lr: 0.0010 - 12s/epoch - 201ms/step
Epoch 32/50
59/59 - 12s - loss: 0.7065 - accuracy: 0.7331 - val_loss: 0.6481 - val_accuracy: 0.7892 - lr: 0.0010 - 12s/epoch - 202ms/step
Epoch 33/50
59/59 - 11s - loss: 0.7049 - accuracy: 0.7337 - val_loss: 0.6646 - val_accuracy: 0.8025 - lr: 0.0010 - 11s/epoch - 186ms/step
Epoch 34/50
59/59 - 11s - loss: 0.7037 - accuracy: 0.7337 - val_loss: 0.6867 - val_accuracy: 0.7944 - lr: 0.0010 - 11s/epoch - 184ms/step
Epoch 35/50
59/59 - 11s - loss: 0.7016 - accuracy: 0.7349 - val_loss: 0.6304 - val_accuracy: 0.8089 - lr: 0.0010 - 11s/epoch - 193ms/step
Epoch 36/50
59/59 - 12s - loss: 0.7020 - accuracy: 0.7341 - val_loss: 0.6281 - val_accuracy: 0.8183 - lr: 0.0010 - 12s/epoch - 208ms/step
Epoch 37/50
59/59 - 12s - loss: 0.6967 - accuracy: 0.7353 - val_loss: 0.6510 - val_accuracy: 0.7930 - lr: 0.0010 - 12s/epoch - 208ms/step
Epoch 38/50
59/59 - 12s - loss: 0.6985 - accuracy: 0.7363 - val_loss: 0.6622 - val_accuracy: 0.7906 - lr: 0.0010 - 12s/epoch - 200ms/step
Epoch 39/50
59/59 - 12s - loss: 0.6990 - accuracy: 0.7364 - val_loss: 0.6683 - val_accuracy: 0.7965 - lr: 0.0010 - 12s/epoch - 196ms/step
Epoch 40/50
59/59 - 12s - loss: 0.6929 - accuracy: 0.7365 - val_loss: 0.6015 - val_accuracy: 0.8274 - lr: 0.0010 - 12s/epoch - 199ms/step
Epoch 41/50
59/59 - 12s - loss: 0.6939 - accuracy: 0.7368 - val_loss: 0.6639 - val_accuracy: 0.7924 - lr: 0.0010 - 12s/epoch - 205ms/step
Epoch 42/50
59/59 - 12s - loss: 0.6919 - accuracy: 0.7378 - val_loss: 0.6195 - val_accuracy: 0.8222 - lr: 0.0010 - 12s/epoch - 206ms/step
Epoch 43/50
59/59 - 12s - loss: 0.6893 - accuracy: 0.7393 - val_loss: 0.5835 - val_accuracy: 0.8308 - lr: 0.0010 - 12s/epoch - 204ms/step
Epoch 44/50
59/59 - 12s - loss: 0.6901 - accuracy: 0.7386 - val_loss: 0.6260 - val_accuracy: 0.8057 - lr: 0.0010 - 12s/epoch - 203ms/step
Epoch 45/50
59/59 - 12s - loss: 0.6852 - accuracy: 0.7407 - val_loss: 0.6113 - val_accuracy: 0.8213 - lr: 0.0010 - 12s/epoch - 202ms/step
Epoch 46/50
59/59 - 11s - loss: 0.6854 - accuracy: 0.7396 - val_loss: 0.6575 - val_accuracy: 0.8047 - lr: 0.0010 - 11s/epoch - 194ms/step
Epoch 47/50
59/59 - 12s - loss: 0.6847 - accuracy: 0.7400 - val_loss: 0.6425 - val_accuracy: 0.8052 - lr: 0.0010 - 12s/epoch - 199ms/step
Epoch 48/50
59/59 - 12s - loss: 0.6818 - accuracy: 0.7414 - val_loss: 0.6474 - val_accuracy: 0.8078 - lr: 0.0010 - 12s/epoch - 196ms/step
Epoch 49/50
59/59 - 11s - loss: 0.6844 - accuracy: 0.7401 - val_loss: 0.6586 - val_accuracy: 0.7919 - lr: 0.0010 - 11s/epoch - 183ms/step
Epoch 50/50
59/59 - 11s - loss: 0.6818 - accuracy: 0.7406 - val_loss: 0.6210 - val_accuracy: 0.8137 - lr: 0.0010 - 11s/epoch - 187ms/step
fitting with batch size: 2500
Epoch 1/50
36/36 - 15s - loss: 0.6730 - accuracy: 0.7433 - val_loss: 0.6449 - val_accuracy: 0.8044 - lr: 0.0010 - 15s/epoch - 403ms/step
Epoch 2/50
36/36 - 11s - loss: 0.6753 - accuracy: 0.7435 - val_loss: 0.6549 - val_accuracy: 0.7995 - lr: 0.0010 - 11s/epoch - 316ms/step
Epoch 3/50
36/36 - 11s - loss: 0.6724 - accuracy: 0.7457 - val_loss: 0.6498 - val_accuracy: 0.7972 - lr: 0.0010 - 11s/epoch - 303ms/step
Epoch 4/50
36/36 - 11s - loss: 0.6696 - accuracy: 0.7461 - val_loss: 0.6551 - val_accuracy: 0.8013 - lr: 0.0010 - 11s/epoch - 297ms/step
Epoch 5/50
36/36 - 11s - loss: 0.6678 - accuracy: 0.7466 - val_loss: 0.6326 - val_accuracy: 0.7970 - lr: 0.0010 - 11s/epoch - 298ms/step
Epoch 6/50
36/36 - 11s - loss: 0.6714 - accuracy: 0.7457 - val_loss: 0.6519 - val_accuracy: 0.7868 - lr: 0.0010 - 11s/epoch - 312ms/step
Epoch 7/50
36/36 - 12s - loss: 0.6640 - accuracy: 0.7479 - val_loss: 0.6257 - val_accuracy: 0.8253 - lr: 0.0010 - 12s/epoch - 327ms/step
Epoch 8/50
36/36 - 9s - loss: 0.6692 - accuracy: 0.7458 - val_loss: 0.5973 - val_accuracy: 0.8224 - lr: 0.0010 - 9s/epoch - 256ms/step
Epoch 9/50
36/36 - 9s - loss: 0.6662 - accuracy: 0.7471 - val_loss: 0.6009 - val_accuracy: 0.8228 - lr: 0.0010 - 9s/epoch - 244ms/step
Epoch 10/50
36/36 - 9s - loss: 0.6630 - accuracy: 0.7496 - val_loss: 0.6129 - val_accuracy: 0.8203 - lr: 0.0010 - 9s/epoch - 247ms/step
Epoch 11/50
36/36 - 9s - loss: 0.6620 - accuracy: 0.7484 - val_loss: 0.6199 - val_accuracy: 0.8040 - lr: 0.0010 - 9s/epoch - 245ms/step
Epoch 12/50
36/36 - 11s - loss: 0.6637 - accuracy: 0.7490 - val_loss: 0.5936 - val_accuracy: 0.8341 - lr: 0.0010 - 11s/epoch - 301ms/step
Epoch 13/50
36/36 - 12s - loss: 0.6645 - accuracy: 0.7486 - val_loss: 0.6416 - val_accuracy: 0.8034 - lr: 0.0010 - 12s/epoch - 331ms/step
Epoch 14/50
36/36 - 12s - loss: 0.6589 - accuracy: 0.7500 - val_loss: 0.5941 - val_accuracy: 0.8351 - lr: 0.0010 - 12s/epoch - 335ms/step
Epoch 15/50
36/36 - 12s - loss: 0.6562 - accuracy: 0.7516 - val_loss: 0.5834 - val_accuracy: 0.8298 - lr: 0.0010 - 12s/epoch - 331ms/step
Epoch 16/50
36/36 - 11s - loss: 0.6596 - accuracy: 0.7498 - val_loss: 0.6334 - val_accuracy: 0.8018 - lr: 0.0010 - 11s/epoch - 305ms/step
Epoch 17/50
36/36 - 11s - loss: 0.6568 - accuracy: 0.7508 - val_loss: 0.6175 - val_accuracy: 0.8045 - lr: 0.0010 - 11s/epoch - 317ms/step
Epoch 18/50
36/36 - 11s - loss: 0.6586 - accuracy: 0.7516 - val_loss: 0.6200 - val_accuracy: 0.8103 - lr: 0.0010 - 11s/epoch - 300ms/step
Epoch 19/50
36/36 - 12s - loss: 0.6603 - accuracy: 0.7487 - val_loss: 0.6306 - val_accuracy: 0.8149 - lr: 0.0010 - 12s/epoch - 326ms/step
Epoch 20/50
36/36 - 12s - loss: 0.6551 - accuracy: 0.7506 - val_loss: 0.6483 - val_accuracy: 0.8017 - lr: 0.0010 - 12s/epoch - 326ms/step
Epoch 21/50
36/36 - 12s - loss: 0.6551 - accuracy: 0.7513 - val_loss: 0.5968 - val_accuracy: 0.8240 - lr: 0.0010 - 12s/epoch - 329ms/step
Epoch 22/50
36/36 - 12s - loss: 0.6552 - accuracy: 0.7511 - val_loss: 0.6381 - val_accuracy: 0.8053 - lr: 0.0010 - 12s/epoch - 334ms/step
Epoch 23/50
36/36 - 12s - loss: 0.6527 - accuracy: 0.7526 - val_loss: 0.5498 - val_accuracy: 0.8442 - lr: 0.0010 - 12s/epoch - 327ms/step
Epoch 24/50
36/36 - 12s - loss: 0.6564 - accuracy: 0.7513 - val_loss: 0.6086 - val_accuracy: 0.8122 - lr: 0.0010 - 12s/epoch - 333ms/step
Epoch 25/50
36/36 - 13s - loss: 0.6560 - accuracy: 0.7508 - val_loss: 0.6030 - val_accuracy: 0.8310 - lr: 0.0010 - 13s/epoch - 354ms/step
Epoch 26/50
36/36 - 12s - loss: 0.6531 - accuracy: 0.7520 - val_loss: 0.6542 - val_accuracy: 0.7920 - lr: 0.0010 - 12s/epoch - 330ms/step
Epoch 27/50
36/36 - 11s - loss: 0.6516 - accuracy: 0.7529 - val_loss: 0.6038 - val_accuracy: 0.8180 - lr: 0.0010 - 11s/epoch - 303ms/step
Epoch 28/50
36/36 - 12s - loss: 0.6527 - accuracy: 0.7534 - val_loss: 0.6006 - val_accuracy: 0.8151 - lr: 0.0010 - 12s/epoch - 325ms/step
Epoch 29/50
36/36 - 12s - loss: 0.6495 - accuracy: 0.7544 - val_loss: 0.5998 - val_accuracy: 0.8281 - lr: 0.0010 - 12s/epoch - 329ms/step
Epoch 30/50
36/36 - 12s - loss: 0.6476 - accuracy: 0.7545 - val_loss: 0.6366 - val_accuracy: 0.8005 - lr: 0.0010 - 12s/epoch - 327ms/step
Epoch 31/50
36/36 - 12s - loss: 0.6487 - accuracy: 0.7543 - val_loss: 0.5662 - val_accuracy: 0.8299 - lr: 0.0010 - 12s/epoch - 325ms/step
Epoch 32/50
36/36 - 12s - loss: 0.6476 - accuracy: 0.7557 - val_loss: 0.6595 - val_accuracy: 0.7953 - lr: 0.0010 - 12s/epoch - 323ms/step
Epoch 33/50
36/36 - 11s - loss: 0.6487 - accuracy: 0.7536 - val_loss: 0.5831 - val_accuracy: 0.8288 - lr: 0.0010 - 11s/epoch - 317ms/step
Epoch 34/50
36/36 - 11s - loss: 0.6450 - accuracy: 0.7554 - val_loss: 0.5720 - val_accuracy: 0.8283 - lr: 0.0010 - 11s/epoch - 318ms/step
Epoch 35/50
36/36 - 13s - loss: 0.6457 - accuracy: 0.7550 - val_loss: 0.6206 - val_accuracy: 0.8081 - lr: 0.0010 - 13s/epoch - 349ms/step
Epoch 36/50
36/36 - 12s - loss: 0.6428 - accuracy: 0.7574 - val_loss: 0.5700 - val_accuracy: 0.8354 - lr: 0.0010 - 12s/epoch - 340ms/step
Epoch 37/50
36/36 - 12s - loss: 0.6443 - accuracy: 0.7567 - val_loss: 0.6024 - val_accuracy: 0.8265 - lr: 0.0010 - 12s/epoch - 343ms/step
Epoch 38/50
36/36 - 12s - loss: 0.6441 - accuracy: 0.7559 - val_loss: 0.5875 - val_accuracy: 0.8146 - lr: 0.0010 - 12s/epoch - 338ms/step
Epoch 39/50
36/36 - 12s - loss: 0.6445 - accuracy: 0.7557 - val_loss: 0.5743 - val_accuracy: 0.8337 - lr: 0.0010 - 12s/epoch - 323ms/step
Epoch 40/50
36/36 - 12s - loss: 0.6428 - accuracy: 0.7568 - val_loss: 0.6169 - val_accuracy: 0.8150 - lr: 0.0010 - 12s/epoch - 329ms/step
Epoch 41/50
36/36 - 12s - loss: 0.6401 - accuracy: 0.7568 - val_loss: 0.5928 - val_accuracy: 0.8325 - lr: 0.0010 - 12s/epoch - 340ms/step
Epoch 42/50
36/36 - 12s - loss: 0.6424 - accuracy: 0.7562 - val_loss: 0.5850 - val_accuracy: 0.8313 - lr: 0.0010 - 12s/epoch - 340ms/step
Epoch 43/50
36/36 - 12s - loss: 0.6412 - accuracy: 0.7555 - val_loss: 0.6388 - val_accuracy: 0.8068 - lr: 0.0010 - 12s/epoch - 341ms/step
Epoch 44/50
36/36 - 12s - loss: 0.6431 - accuracy: 0.7548 - val_loss: 0.6268 - val_accuracy: 0.8058 - lr: 0.0010 - 12s/epoch - 342ms/step
Epoch 45/50
36/36 - 12s - loss: 0.6424 - accuracy: 0.7562 - val_loss: 0.6399 - val_accuracy: 0.8070 - lr: 0.0010 - 12s/epoch - 331ms/step
Epoch 46/50
36/36 - 12s - loss: 0.6415 - accuracy: 0.7568 - val_loss: 0.5560 - val_accuracy: 0.8412 - lr: 0.0010 - 12s/epoch - 333ms/step
Epoch 47/50
36/36 - 12s - loss: 0.6400 - accuracy: 0.7570 - val_loss: 0.6135 - val_accuracy: 0.8177 - lr: 0.0010 - 12s/epoch - 320ms/step
Epoch 48/50
36/36 - 11s - loss: 0.6340 - accuracy: 0.7597 - val_loss: 0.6334 - val_accuracy: 0.8089 - lr: 0.0010 - 11s/epoch - 314ms/step
Epoch 49/50
36/36 - 11s - loss: 0.6362 - accuracy: 0.7572 - val_loss: 0.6045 - val_accuracy: 0.8224 - lr: 0.0010 - 11s/epoch - 317ms/step
Epoch 50/50
36/36 - 12s - loss: 0.6351 - accuracy: 0.7599 - val_loss: 0.6516 - val_accuracy: 0.8076 - lr: 0.0010 - 12s/epoch - 330ms/step
Loss: binary_crossentropy
Epoch number: 25
fitting with batch size: 1500
Epoch 1/25
59/59 - 16s - loss: 0.2200 - accuracy: 0.7580 - val_loss: 0.2119 - val_accuracy: 0.8271 - lr: 0.0010 - 16s/epoch - 273ms/step
Epoch 2/25
59/59 - 12s - loss: 0.2179 - accuracy: 0.7597 - val_loss: 0.2286 - val_accuracy: 0.8055 - lr: 0.0010 - 12s/epoch - 203ms/step
Epoch 3/25
59/59 - 12s - loss: 0.2193 - accuracy: 0.7599 - val_loss: 0.2277 - val_accuracy: 0.8028 - lr: 0.0010 - 12s/epoch - 197ms/step
Epoch 4/25
59/59 - 12s - loss: 0.2209 - accuracy: 0.7564 - val_loss: 0.2096 - val_accuracy: 0.8301 - lr: 0.0010 - 12s/epoch - 210ms/step
Epoch 5/25
59/59 - 12s - loss: 0.2218 - accuracy: 0.7559 - val_loss: 0.2116 - val_accuracy: 0.8340 - lr: 0.0010 - 12s/epoch - 207ms/step
Epoch 6/25
59/59 - 12s - loss: 0.2206 - accuracy: 0.7567 - val_loss: 0.2221 - val_accuracy: 0.8102 - lr: 0.0010 - 12s/epoch - 208ms/step
Epoch 7/25
59/59 - 12s - loss: 0.2207 - accuracy: 0.7579 - val_loss: 0.2217 - val_accuracy: 0.8176 - lr: 0.0010 - 12s/epoch - 206ms/step
Epoch 8/25
59/59 - 12s - loss: 0.2206 - accuracy: 0.7571 - val_loss: 0.2159 - val_accuracy: 0.8200 - lr: 0.0010 - 12s/epoch - 208ms/step
Epoch 9/25
59/59 - 12s - loss: 0.2196 - accuracy: 0.7580 - val_loss: 0.2307 - val_accuracy: 0.8207 - lr: 0.0010 - 12s/epoch - 198ms/step
Epoch 10/25
59/59 - 12s - loss: 0.2191 - accuracy: 0.7577 - val_loss: 0.2253 - val_accuracy: 0.8129 - lr: 0.0010 - 12s/epoch - 207ms/step
Epoch 11/25
59/59 - 12s - loss: 0.2199 - accuracy: 0.7580 - val_loss: 0.2284 - val_accuracy: 0.8064 - lr: 0.0010 - 12s/epoch - 206ms/step
Epoch 12/25
59/59 - 12s - loss: 0.2187 - accuracy: 0.7585 - val_loss: 0.2290 - val_accuracy: 0.8104 - lr: 0.0010 - 12s/epoch - 210ms/step
Epoch 13/25
59/59 - 12s - loss: 0.2177 - accuracy: 0.7594 - val_loss: 0.2201 - val_accuracy: 0.8238 - lr: 0.0010 - 12s/epoch - 208ms/step
Epoch 14/25
59/59 - 12s - loss: 0.2180 - accuracy: 0.7605 - val_loss: 0.2381 - val_accuracy: 0.7997 - lr: 0.0010 - 12s/epoch - 208ms/step
Epoch 15/25
59/59 - 12s - loss: 0.2183 - accuracy: 0.7598 - val_loss: 0.2208 - val_accuracy: 0.8160 - lr: 0.0010 - 12s/epoch - 209ms/step
Epoch 16/25
59/59 - 12s - loss: 0.2172 - accuracy: 0.7613 - val_loss: 0.2097 - val_accuracy: 0.8304 - lr: 0.0010 - 12s/epoch - 209ms/step
Epoch 17/25
59/59 - 12s - loss: 0.2172 - accuracy: 0.7622 - val_loss: 0.2170 - val_accuracy: 0.8291 - lr: 0.0010 - 12s/epoch - 208ms/step
Epoch 18/25
59/59 - 12s - loss: 0.2161 - accuracy: 0.7617 - val_loss: 0.2381 - val_accuracy: 0.8066 - lr: 0.0010 - 12s/epoch - 206ms/step
Epoch 19/25
59/59 - 11s - loss: 0.2166 - accuracy: 0.7627 - val_loss: 0.2197 - val_accuracy: 0.8171 - lr: 0.0010 - 11s/epoch - 193ms/step
Epoch 20/25
59/59 - 12s - loss: 0.2154 - accuracy: 0.7636 - val_loss: 0.2214 - val_accuracy: 0.8262 - lr: 0.0010 - 12s/epoch - 198ms/step
Epoch 21/25
59/59 - 11s - loss: 0.2148 - accuracy: 0.7648 - val_loss: 0.2199 - val_accuracy: 0.8150 - lr: 0.0010 - 11s/epoch - 189ms/step
Epoch 22/25
59/59 - 11s - loss: 0.2148 - accuracy: 0.7647 - val_loss: 0.2339 - val_accuracy: 0.8050 - lr: 0.0010 - 11s/epoch - 193ms/step
Epoch 23/25
59/59 - 12s - loss: 0.2136 - accuracy: 0.7652 - val_loss: 0.2091 - val_accuracy: 0.8179 - lr: 0.0010 - 12s/epoch - 202ms/step
Epoch 24/25
59/59 - 12s - loss: 0.2143 - accuracy: 0.7647 - val_loss: 0.2123 - val_accuracy: 0.8272 - lr: 0.0010 - 12s/epoch - 203ms/step
Epoch 25/25
59/59 - 12s - loss: 0.2149 - accuracy: 0.7646 - val_loss: 0.2131 - val_accuracy: 0.8281 - lr: 0.0010 - 12s/epoch - 205ms/step
fitting with batch size: 2500
Epoch 1/25
36/36 - 15s - loss: 0.2104 - accuracy: 0.7695 - val_loss: 0.2166 - val_accuracy: 0.8227 - lr: 0.0010 - 15s/epoch - 416ms/step
Epoch 2/25
36/36 - 12s - loss: 0.2108 - accuracy: 0.7693 - val_loss: 0.2029 - val_accuracy: 0.8409 - lr: 0.0010 - 12s/epoch - 333ms/step
Epoch 3/25
36/36 - 12s - loss: 0.2111 - accuracy: 0.7680 - val_loss: 0.2216 - val_accuracy: 0.8274 - lr: 0.0010 - 12s/epoch - 333ms/step
Epoch 4/25
36/36 - 12s - loss: 0.2087 - accuracy: 0.7722 - val_loss: 0.2151 - val_accuracy: 0.8212 - lr: 0.0010 - 12s/epoch - 330ms/step
Epoch 5/25
36/36 - 12s - loss: 0.2083 - accuracy: 0.7715 - val_loss: 0.2246 - val_accuracy: 0.8077 - lr: 0.0010 - 12s/epoch - 329ms/step
Epoch 6/25
36/36 - 12s - loss: 0.2078 - accuracy: 0.7724 - val_loss: 0.2352 - val_accuracy: 0.8038 - lr: 0.0010 - 12s/epoch - 336ms/step
Epoch 7/25
36/36 - 12s - loss: 0.2088 - accuracy: 0.7704 - val_loss: 0.2390 - val_accuracy: 0.7936 - lr: 0.0010 - 12s/epoch - 333ms/step
Epoch 8/25
36/36 - 12s - loss: 0.2081 - accuracy: 0.7729 - val_loss: 0.2186 - val_accuracy: 0.8162 - lr: 0.0010 - 12s/epoch - 334ms/step
Epoch 9/25
36/36 - 12s - loss: 0.2095 - accuracy: 0.7710 - val_loss: 0.2288 - val_accuracy: 0.8134 - lr: 0.0010 - 12s/epoch - 330ms/step
Epoch 10/25
36/36 - 12s - loss: 0.2081 - accuracy: 0.7717 - val_loss: 0.2138 - val_accuracy: 0.8270 - lr: 0.0010 - 12s/epoch - 332ms/step
Epoch 11/25
36/36 - 11s - loss: 0.2074 - accuracy: 0.7730 - val_loss: 0.2288 - val_accuracy: 0.7998 - lr: 0.0010 - 11s/epoch - 318ms/step
Epoch 12/25
36/36 - 12s - loss: 0.2073 - accuracy: 0.7740 - val_loss: 0.2235 - val_accuracy: 0.8154 - lr: 0.0010 - 12s/epoch - 326ms/step
Epoch 13/25
36/36 - 12s - loss: 0.2073 - accuracy: 0.7739 - val_loss: 0.2209 - val_accuracy: 0.8166 - lr: 0.0010 - 12s/epoch - 327ms/step
Epoch 14/25
36/36 - 12s - loss: 0.2060 - accuracy: 0.7746 - val_loss: 0.2199 - val_accuracy: 0.8251 - lr: 0.0010 - 12s/epoch - 326ms/step
Epoch 15/25
36/36 - 12s - loss: 0.2067 - accuracy: 0.7724 - val_loss: 0.2130 - val_accuracy: 0.8240 - lr: 0.0010 - 12s/epoch - 325ms/step
Epoch 16/25
36/36 - 12s - loss: 0.2064 - accuracy: 0.7735 - val_loss: 0.2211 - val_accuracy: 0.8092 - lr: 0.0010 - 12s/epoch - 332ms/step
Epoch 17/25
36/36 - 11s - loss: 0.2057 - accuracy: 0.7761 - val_loss: 0.2167 - val_accuracy: 0.8242 - lr: 0.0010 - 11s/epoch - 318ms/step
Epoch 18/25
36/36 - 12s - loss: 0.2064 - accuracy: 0.7747 - val_loss: 0.2130 - val_accuracy: 0.8242 - lr: 0.0010 - 12s/epoch - 328ms/step
Epoch 19/25
36/36 - 12s - loss: 0.2055 - accuracy: 0.7751 - val_loss: 0.2112 - val_accuracy: 0.8352 - lr: 0.0010 - 12s/epoch - 325ms/step
Epoch 20/25
36/36 - 12s - loss: 0.2059 - accuracy: 0.7753 - val_loss: 0.2285 - val_accuracy: 0.8079 - lr: 0.0010 - 12s/epoch - 334ms/step
Epoch 21/25
36/36 - 12s - loss: 0.2053 - accuracy: 0.7760 - val_loss: 0.2194 - val_accuracy: 0.8170 - lr: 0.0010 - 12s/epoch - 330ms/step
Epoch 22/25
36/36 - 12s - loss: 0.2054 - accuracy: 0.7746 - val_loss: 0.2256 - val_accuracy: 0.8124 - lr: 0.0010 - 12s/epoch - 328ms/step
Epoch 23/25
36/36 - 12s - loss: 0.2048 - accuracy: 0.7752 - val_loss: 0.2113 - val_accuracy: 0.8272 - lr: 0.0010 - 12s/epoch - 325ms/step
Epoch 24/25
36/36 - 12s - loss: 0.2044 - accuracy: 0.7772 - val_loss: 0.2142 - val_accuracy: 0.8248 - lr: 0.0010 - 12s/epoch - 324ms/step
Epoch 25/25
36/36 - 12s - loss: 0.2047 - accuracy: 0.7755 - val_loss: 0.2128 - val_accuracy: 0.8248 - lr: 0.0010 - 12s/epoch - 330ms/step
Epoch number: 50
fitting with batch size: 1500
Epoch 1/50
59/59 - 17s - loss: 0.2073 - accuracy: 0.7732 - val_loss: 0.2219 - val_accuracy: 0.8228 - lr: 0.0010 - 17s/epoch - 282ms/step
Epoch 2/50
59/59 - 13s - loss: 0.2055 - accuracy: 0.7752 - val_loss: 0.2132 - val_accuracy: 0.8266 - lr: 0.0010 - 13s/epoch - 214ms/step
Epoch 3/50
59/59 - 13s - loss: 0.2075 - accuracy: 0.7727 - val_loss: 0.2168 - val_accuracy: 0.8338 - lr: 0.0010 - 13s/epoch - 214ms/step
Epoch 4/50
59/59 - 13s - loss: 0.2077 - accuracy: 0.7715 - val_loss: 0.2108 - val_accuracy: 0.8274 - lr: 0.0010 - 13s/epoch - 215ms/step
Epoch 5/50
59/59 - 13s - loss: 0.2087 - accuracy: 0.7713 - val_loss: 0.2125 - val_accuracy: 0.8253 - lr: 0.0010 - 13s/epoch - 217ms/step
Epoch 6/50
59/59 - 13s - loss: 0.2075 - accuracy: 0.7737 - val_loss: 0.2263 - val_accuracy: 0.8140 - lr: 0.0010 - 13s/epoch - 213ms/step
Epoch 7/50
59/59 - 12s - loss: 0.2073 - accuracy: 0.7735 - val_loss: 0.2434 - val_accuracy: 0.7931 - lr: 0.0010 - 12s/epoch - 200ms/step
Epoch 8/50
59/59 - 12s - loss: 0.2067 - accuracy: 0.7738 - val_loss: 0.2290 - val_accuracy: 0.8137 - lr: 0.0010 - 12s/epoch - 206ms/step
Epoch 9/50
59/59 - 12s - loss: 0.2057 - accuracy: 0.7746 - val_loss: 0.2179 - val_accuracy: 0.8298 - lr: 0.0010 - 12s/epoch - 210ms/step
Epoch 10/50
59/59 - 12s - loss: 0.2070 - accuracy: 0.7730 - val_loss: 0.2346 - val_accuracy: 0.8027 - lr: 0.0010 - 12s/epoch - 212ms/step
Epoch 11/50
59/59 - 12s - loss: 0.2056 - accuracy: 0.7746 - val_loss: 0.2032 - val_accuracy: 0.8382 - lr: 0.0010 - 12s/epoch - 211ms/step
Epoch 12/50
59/59 - 12s - loss: 0.2040 - accuracy: 0.7763 - val_loss: 0.2219 - val_accuracy: 0.8268 - lr: 0.0010 - 12s/epoch - 211ms/step
Epoch 13/50
59/59 - 12s - loss: 0.2047 - accuracy: 0.7747 - val_loss: 0.2205 - val_accuracy: 0.8160 - lr: 0.0010 - 12s/epoch - 207ms/step
Epoch 14/50
59/59 - 12s - loss: 0.2051 - accuracy: 0.7755 - val_loss: 0.2073 - val_accuracy: 0.8305 - lr: 0.0010 - 12s/epoch - 204ms/step
Epoch 15/50
59/59 - 13s - loss: 0.2054 - accuracy: 0.7737 - val_loss: 0.2317 - val_accuracy: 0.7991 - lr: 0.0010 - 13s/epoch - 217ms/step
Epoch 16/50
59/59 - 13s - loss: 0.2037 - accuracy: 0.7766 - val_loss: 0.1995 - val_accuracy: 0.8454 - lr: 0.0010 - 13s/epoch - 213ms/step
Epoch 17/50
59/59 - 13s - loss: 0.2038 - accuracy: 0.7765 - val_loss: 0.2149 - val_accuracy: 0.8180 - lr: 0.0010 - 13s/epoch - 219ms/step
Epoch 18/50
59/59 - 13s - loss: 0.2040 - accuracy: 0.7758 - val_loss: 0.1980 - val_accuracy: 0.8386 - lr: 0.0010 - 13s/epoch - 217ms/step
Epoch 19/50
59/59 - 13s - loss: 0.2028 - accuracy: 0.7781 - val_loss: 0.2053 - val_accuracy: 0.8464 - lr: 0.0010 - 13s/epoch - 217ms/step
Epoch 20/50
59/59 - 13s - loss: 0.2020 - accuracy: 0.7792 - val_loss: 0.2399 - val_accuracy: 0.7937 - lr: 0.0010 - 13s/epoch - 216ms/step
Epoch 21/50
59/59 - 13s - loss: 0.2016 - accuracy: 0.7792 - val_loss: 0.2350 - val_accuracy: 0.8125 - lr: 0.0010 - 13s/epoch - 218ms/step
Epoch 22/50
59/59 - 13s - loss: 0.2021 - accuracy: 0.7788 - val_loss: 0.2248 - val_accuracy: 0.8086 - lr: 0.0010 - 13s/epoch - 218ms/step
Epoch 23/50
59/59 - 13s - loss: 0.2012 - accuracy: 0.7795 - val_loss: 0.2293 - val_accuracy: 0.8032 - lr: 0.0010 - 13s/epoch - 226ms/step
Epoch 24/50
59/59 - 13s - loss: 0.2013 - accuracy: 0.7791 - val_loss: 0.2135 - val_accuracy: 0.8246 - lr: 0.0010 - 13s/epoch - 223ms/step
Epoch 25/50
59/59 - 12s - loss: 0.2017 - accuracy: 0.7790 - val_loss: 0.2247 - val_accuracy: 0.8171 - lr: 0.0010 - 12s/epoch - 211ms/step
Epoch 26/50
59/59 - 12s - loss: 0.2002 - accuracy: 0.7815 - val_loss: 0.2244 - val_accuracy: 0.8129 - lr: 0.0010 - 12s/epoch - 205ms/step
Epoch 27/50
59/59 - 12s - loss: 0.2000 - accuracy: 0.7825 - val_loss: 0.2247 - val_accuracy: 0.8159 - lr: 0.0010 - 12s/epoch - 200ms/step
Epoch 28/50
59/59 - 12s - loss: 0.2002 - accuracy: 0.7806 - val_loss: 0.2251 - val_accuracy: 0.8077 - lr: 0.0010 - 12s/epoch - 204ms/step
Epoch 29/50
59/59 - 12s - loss: 0.1997 - accuracy: 0.7806 - val_loss: 0.2234 - val_accuracy: 0.8242 - lr: 0.0010 - 12s/epoch - 205ms/step
Epoch 30/50
59/59 - 12s - loss: 0.1993 - accuracy: 0.7811 - val_loss: 0.2065 - val_accuracy: 0.8386 - lr: 0.0010 - 12s/epoch - 205ms/step
Epoch 31/50
59/59 - 12s - loss: 0.1996 - accuracy: 0.7814 - val_loss: 0.2242 - val_accuracy: 0.8115 - lr: 0.0010 - 12s/epoch - 206ms/step
Epoch 32/50
59/59 - 12s - loss: 0.1989 - accuracy: 0.7819 - val_loss: 0.2096 - val_accuracy: 0.8313 - lr: 0.0010 - 12s/epoch - 211ms/step
Epoch 33/50
59/59 - 12s - loss: 0.1983 - accuracy: 0.7831 - val_loss: 0.2058 - val_accuracy: 0.8288 - lr: 0.0010 - 12s/epoch - 207ms/step
Epoch 34/50
59/59 - 12s - loss: 0.1981 - accuracy: 0.7835 - val_loss: 0.2256 - val_accuracy: 0.8096 - lr: 0.0010 - 12s/epoch - 205ms/step
Epoch 35/50
59/59 - 11s - loss: 0.1984 - accuracy: 0.7825 - val_loss: 0.2132 - val_accuracy: 0.8187 - lr: 0.0010 - 11s/epoch - 190ms/step
Epoch 36/50
59/59 - 11s - loss: 0.1968 - accuracy: 0.7859 - val_loss: 0.2299 - val_accuracy: 0.8140 - lr: 0.0010 - 11s/epoch - 192ms/step
Epoch 37/50
59/59 - 12s - loss: 0.1980 - accuracy: 0.7829 - val_loss: 0.2224 - val_accuracy: 0.8218 - lr: 0.0010 - 12s/epoch - 205ms/step
Epoch 38/50
59/59 - 13s - loss: 0.1963 - accuracy: 0.7845 - val_loss: 0.2038 - val_accuracy: 0.8310 - lr: 0.0010 - 13s/epoch - 214ms/step
Epoch 39/50
59/59 - 12s - loss: 0.1962 - accuracy: 0.7860 - val_loss: 0.2129 - val_accuracy: 0.8306 - lr: 0.0010 - 12s/epoch - 206ms/step
Epoch 40/50
59/59 - 12s - loss: 0.1970 - accuracy: 0.7848 - val_loss: 0.2098 - val_accuracy: 0.8310 - lr: 0.0010 - 12s/epoch - 210ms/step
Epoch 41/50
59/59 - 13s - loss: 0.1952 - accuracy: 0.7864 - val_loss: 0.2301 - val_accuracy: 0.8053 - lr: 0.0010 - 13s/epoch - 216ms/step
Epoch 42/50
59/59 - 13s - loss: 0.1944 - accuracy: 0.7872 - val_loss: 0.2088 - val_accuracy: 0.8277 - lr: 0.0010 - 13s/epoch - 221ms/step
Epoch 43/50
59/59 - 13s - loss: 0.1957 - accuracy: 0.7852 - val_loss: 0.2270 - val_accuracy: 0.8146 - lr: 0.0010 - 13s/epoch - 214ms/step
Epoch 44/50
59/59 - 13s - loss: 0.1939 - accuracy: 0.7884 - val_loss: 0.2199 - val_accuracy: 0.8215 - lr: 0.0010 - 13s/epoch - 215ms/step
Epoch 45/50
59/59 - 13s - loss: 0.1944 - accuracy: 0.7878 - val_loss: 0.2385 - val_accuracy: 0.8002 - lr: 0.0010 - 13s/epoch - 214ms/step
Epoch 46/50
59/59 - 13s - loss: 0.1935 - accuracy: 0.7899 - val_loss: 0.2155 - val_accuracy: 0.8246 - lr: 0.0010 - 13s/epoch - 214ms/step
Epoch 47/50
59/59 - 13s - loss: 0.1933 - accuracy: 0.7889 - val_loss: 0.2123 - val_accuracy: 0.8274 - lr: 0.0010 - 13s/epoch - 215ms/step
Epoch 48/50
59/59 - 13s - loss: 0.1932 - accuracy: 0.7886 - val_loss: 0.2119 - val_accuracy: 0.8372 - lr: 0.0010 - 13s/epoch - 220ms/step
Epoch 49/50
59/59 - 13s - loss: 0.1928 - accuracy: 0.7879 - val_loss: 0.2219 - val_accuracy: 0.8153 - lr: 0.0010 - 13s/epoch - 219ms/step
Epoch 50/50
59/59 - 13s - loss: 0.1929 - accuracy: 0.7894 - val_loss: 0.2114 - val_accuracy: 0.8261 - lr: 0.0010 - 13s/epoch - 224ms/step
fitting with batch size: 2500
Epoch 1/50
36/36 - 15s - loss: 0.1888 - accuracy: 0.7929 - val_loss: 0.2123 - val_accuracy: 0.8261 - lr: 0.0010 - 15s/epoch - 413ms/step
Epoch 2/50
36/36 - 12s - loss: 0.1887 - accuracy: 0.7948 - val_loss: 0.2467 - val_accuracy: 0.7746 - lr: 0.0010 - 12s/epoch - 324ms/step
Epoch 3/50
36/36 - 11s - loss: 0.1885 - accuracy: 0.7940 - val_loss: 0.2108 - val_accuracy: 0.8258 - lr: 0.0010 - 11s/epoch - 315ms/step
Epoch 4/50
36/36 - 11s - loss: 0.1877 - accuracy: 0.7948 - val_loss: 0.2248 - val_accuracy: 0.8150 - lr: 0.0010 - 11s/epoch - 304ms/step
Epoch 5/50
36/36 - 11s - loss: 0.1852 - accuracy: 0.7974 - val_loss: 0.2301 - val_accuracy: 0.8130 - lr: 0.0010 - 11s/epoch - 316ms/step
Epoch 6/50
36/36 - 11s - loss: 0.1876 - accuracy: 0.7964 - val_loss: 0.2094 - val_accuracy: 0.8304 - lr: 0.0010 - 11s/epoch - 314ms/step
Epoch 7/50
36/36 - 12s - loss: 0.1866 - accuracy: 0.7973 - val_loss: 0.2210 - val_accuracy: 0.8189 - lr: 0.0010 - 12s/epoch - 325ms/step
Epoch 8/50
36/36 - 12s - loss: 0.1847 - accuracy: 0.7987 - val_loss: 0.2132 - val_accuracy: 0.8211 - lr: 0.0010 - 12s/epoch - 326ms/step
Epoch 9/50
36/36 - 11s - loss: 0.1845 - accuracy: 0.7993 - val_loss: 0.2333 - val_accuracy: 0.8017 - lr: 0.0010 - 11s/epoch - 299ms/step
Epoch 10/50
36/36 - 10s - loss: 0.1856 - accuracy: 0.7988 - val_loss: 0.2154 - val_accuracy: 0.8275 - lr: 0.0010 - 10s/epoch - 290ms/step
Epoch 11/50
36/36 - 11s - loss: 0.1842 - accuracy: 0.8002 - val_loss: 0.2209 - val_accuracy: 0.8131 - lr: 0.0010 - 11s/epoch - 297ms/step
Epoch 12/50
36/36 - 12s - loss: 0.1867 - accuracy: 0.7962 - val_loss: 0.2310 - val_accuracy: 0.8056 - lr: 0.0010 - 12s/epoch - 322ms/step
Epoch 13/50
36/36 - 12s - loss: 0.1855 - accuracy: 0.7978 - val_loss: 0.2197 - val_accuracy: 0.8178 - lr: 0.0010 - 12s/epoch - 326ms/step
Epoch 14/50
36/36 - 12s - loss: 0.1844 - accuracy: 0.8002 - val_loss: 0.2119 - val_accuracy: 0.8280 - lr: 0.0010 - 12s/epoch - 329ms/step
Epoch 15/50
36/36 - 12s - loss: 0.1853 - accuracy: 0.7987 - val_loss: 0.2260 - val_accuracy: 0.8103 - lr: 0.0010 - 12s/epoch - 320ms/step
Epoch 16/50
36/36 - 9s - loss: 0.1843 - accuracy: 0.7990 - val_loss: 0.2110 - val_accuracy: 0.8224 - lr: 0.0010 - 9s/epoch - 243ms/step
Epoch 17/50
36/36 - 10s - loss: 0.1842 - accuracy: 0.7997 - val_loss: 0.2325 - val_accuracy: 0.8079 - lr: 0.0010 - 10s/epoch - 284ms/step
Epoch 18/50
36/36 - 11s - loss: 0.1853 - accuracy: 0.7980 - val_loss: 0.2265 - val_accuracy: 0.8133 - lr: 0.0010 - 11s/epoch - 317ms/step
Epoch 19/50
36/36 - 11s - loss: 0.1843 - accuracy: 0.7990 - val_loss: 0.2123 - val_accuracy: 0.8229 - lr: 0.0010 - 11s/epoch - 316ms/step
Epoch 20/50
36/36 - 11s - loss: 0.1838 - accuracy: 0.7994 - val_loss: 0.2312 - val_accuracy: 0.8076 - lr: 0.0010 - 11s/epoch - 308ms/step
Epoch 21/50
36/36 - 11s - loss: 0.1832 - accuracy: 0.8016 - val_loss: 0.2282 - val_accuracy: 0.8108 - lr: 0.0010 - 11s/epoch - 318ms/step
Epoch 22/50
36/36 - 11s - loss: 0.1827 - accuracy: 0.8019 - val_loss: 0.2284 - val_accuracy: 0.8058 - lr: 0.0010 - 11s/epoch - 313ms/step
Epoch 23/50
36/36 - 11s - loss: 0.1837 - accuracy: 0.7996 - val_loss: 0.2245 - val_accuracy: 0.8113 - lr: 0.0010 - 11s/epoch - 315ms/step
Epoch 24/50
36/36 - 11s - loss: 0.1824 - accuracy: 0.8014 - val_loss: 0.2173 - val_accuracy: 0.8179 - lr: 0.0010 - 11s/epoch - 310ms/step
Epoch 25/50
36/36 - 11s - loss: 0.1831 - accuracy: 0.8005 - val_loss: 0.2205 - val_accuracy: 0.8138 - lr: 0.0010 - 11s/epoch - 316ms/step
Epoch 26/50
36/36 - 11s - loss: 0.1832 - accuracy: 0.8004 - val_loss: 0.2161 - val_accuracy: 0.8248 - lr: 0.0010 - 11s/epoch - 303ms/step
Epoch 27/50
36/36 - 11s - loss: 0.1834 - accuracy: 0.8003 - val_loss: 0.2326 - val_accuracy: 0.8030 - lr: 0.0010 - 11s/epoch - 300ms/step
Epoch 28/50
36/36 - 12s - loss: 0.1833 - accuracy: 0.8004 - val_loss: 0.2051 - val_accuracy: 0.8327 - lr: 0.0010 - 12s/epoch - 321ms/step
Epoch 29/50
36/36 - 11s - loss: 0.1816 - accuracy: 0.8034 - val_loss: 0.2275 - val_accuracy: 0.8140 - lr: 0.0010 - 11s/epoch - 313ms/step
Epoch 30/50
36/36 - 11s - loss: 0.1817 - accuracy: 0.8020 - val_loss: 0.2281 - val_accuracy: 0.8133 - lr: 0.0010 - 11s/epoch - 317ms/step
Epoch 31/50
36/36 - 11s - loss: 0.1819 - accuracy: 0.8018 - val_loss: 0.2170 - val_accuracy: 0.8215 - lr: 0.0010 - 11s/epoch - 315ms/step
Epoch 32/50
36/36 - 11s - loss: 0.1812 - accuracy: 0.8033 - val_loss: 0.2452 - val_accuracy: 0.7903 - lr: 0.0010 - 11s/epoch - 311ms/step
Epoch 33/50
36/36 - 11s - loss: 0.1815 - accuracy: 0.8030 - val_loss: 0.2215 - val_accuracy: 0.8129 - lr: 0.0010 - 11s/epoch - 308ms/step
Epoch 34/50
36/36 - 12s - loss: 0.1813 - accuracy: 0.8028 - val_loss: 0.2146 - val_accuracy: 0.8231 - lr: 0.0010 - 12s/epoch - 321ms/step
Epoch 35/50
36/36 - 11s - loss: 0.1817 - accuracy: 0.8033 - val_loss: 0.2207 - val_accuracy: 0.8140 - lr: 0.0010 - 11s/epoch - 292ms/step
Epoch 36/50
36/36 - 11s - loss: 0.1808 - accuracy: 0.8034 - val_loss: 0.2136 - val_accuracy: 0.8291 - lr: 0.0010 - 11s/epoch - 294ms/step
Epoch 37/50
36/36 - 11s - loss: 0.1813 - accuracy: 0.8021 - val_loss: 0.2260 - val_accuracy: 0.8144 - lr: 0.0010 - 11s/epoch - 300ms/step
Epoch 38/50
36/36 - 11s - loss: 0.1801 - accuracy: 0.8040 - val_loss: 0.1932 - val_accuracy: 0.8446 - lr: 0.0010 - 11s/epoch - 302ms/step
Epoch 39/50
36/36 - 11s - loss: 0.1815 - accuracy: 0.8027 - val_loss: 0.2287 - val_accuracy: 0.8179 - lr: 0.0010 - 11s/epoch - 302ms/step
Epoch 40/50
36/36 - 11s - loss: 0.1801 - accuracy: 0.8031 - val_loss: 0.2386 - val_accuracy: 0.8011 - lr: 0.0010 - 11s/epoch - 302ms/step
Epoch 41/50
36/36 - 11s - loss: 0.1817 - accuracy: 0.8017 - val_loss: 0.2192 - val_accuracy: 0.8180 - lr: 0.0010 - 11s/epoch - 306ms/step
Epoch 42/50
36/36 - 11s - loss: 0.1792 - accuracy: 0.8051 - val_loss: 0.2269 - val_accuracy: 0.8165 - lr: 0.0010 - 11s/epoch - 302ms/step
Epoch 43/50
36/36 - 11s - loss: 0.1809 - accuracy: 0.8033 - val_loss: 0.2185 - val_accuracy: 0.8267 - lr: 0.0010 - 11s/epoch - 296ms/step
Epoch 44/50
36/36 - 11s - loss: 0.1803 - accuracy: 0.8042 - val_loss: 0.2191 - val_accuracy: 0.8207 - lr: 0.0010 - 11s/epoch - 298ms/step
Epoch 45/50
36/36 - 11s - loss: 0.1798 - accuracy: 0.8046 - val_loss: 0.2246 - val_accuracy: 0.8150 - lr: 0.0010 - 11s/epoch - 294ms/step
Epoch 46/50
36/36 - 11s - loss: 0.1805 - accuracy: 0.8036 - val_loss: 0.2245 - val_accuracy: 0.8157 - lr: 0.0010 - 11s/epoch - 303ms/step
Epoch 47/50
36/36 - 11s - loss: 0.1789 - accuracy: 0.8045 - val_loss: 0.2176 - val_accuracy: 0.8189 - lr: 0.0010 - 11s/epoch - 308ms/step
Epoch 48/50
36/36 - 11s - loss: 0.1806 - accuracy: 0.8038 - val_loss: 0.2200 - val_accuracy: 0.8196 - lr: 0.0010 - 11s/epoch - 301ms/step
Epoch 49/50
36/36 - 11s - loss: 0.1783 - accuracy: 0.8064 - val_loss: 0.2151 - val_accuracy: 0.8219 - lr: 0.0010 - 11s/epoch - 299ms/step
Epoch 50/50
36/36 - 11s - loss: 0.1780 - accuracy: 0.8069 - val_loss: 0.2188 - val_accuracy: 0.8231 - lr: 0.0010 - 11s/epoch - 298ms/step
