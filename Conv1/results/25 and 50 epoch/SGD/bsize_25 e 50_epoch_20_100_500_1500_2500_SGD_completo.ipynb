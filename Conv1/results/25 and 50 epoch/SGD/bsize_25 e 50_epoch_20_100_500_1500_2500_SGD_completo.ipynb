Loss: categorical_crossentropy
Epoch number: 25
fitting with batch size: 20
Epoch 1/25
4378/4378 - 85s - loss: 1.5104 - accuracy: 0.3124 - val_loss: 1.5172 - val_accuracy: 0.3081 - lr: 0.0010 - 85s/epoch - 19ms/step
Epoch 2/25
4378/4378 - 74s - loss: 1.3245 - accuracy: 0.4451 - val_loss: 1.3387 - val_accuracy: 0.4199 - lr: 0.0010 - 74s/epoch - 17ms/step
Epoch 3/25
4378/4378 - 75s - loss: 1.1709 - accuracy: 0.5378 - val_loss: 1.2370 - val_accuracy: 0.4750 - lr: 0.0010 - 75s/epoch - 17ms/step
Epoch 4/25
4378/4378 - 79s - loss: 1.0708 - accuracy: 0.5805 - val_loss: 1.0934 - val_accuracy: 0.5441 - lr: 0.0010 - 79s/epoch - 18ms/step
Epoch 5/25
4378/4378 - 72s - loss: 1.0159 - accuracy: 0.6050 - val_loss: 1.0289 - val_accuracy: 0.5708 - lr: 0.0010 - 72s/epoch - 16ms/step
Epoch 6/25
4378/4378 - 65s - loss: 0.9856 - accuracy: 0.6169 - val_loss: 1.0617 - val_accuracy: 0.5634 - lr: 0.0010 - 65s/epoch - 15ms/step
Epoch 7/25
4378/4378 - 69s - loss: 0.9616 - accuracy: 0.6258 - val_loss: 1.0123 - val_accuracy: 0.5909 - lr: 0.0010 - 69s/epoch - 16ms/step
Epoch 8/25
4378/4378 - 66s - loss: 0.9444 - accuracy: 0.6352 - val_loss: 1.0047 - val_accuracy: 0.5812 - lr: 0.0010 - 66s/epoch - 15ms/step
Epoch 9/25
4378/4378 - 66s - loss: 0.9317 - accuracy: 0.6407 - val_loss: 0.9380 - val_accuracy: 0.6130 - lr: 0.0010 - 66s/epoch - 15ms/step
Epoch 10/25
4378/4378 - 69s - loss: 0.9215 - accuracy: 0.6468 - val_loss: 0.9710 - val_accuracy: 0.6205 - lr: 0.0010 - 69s/epoch - 16ms/step
Epoch 11/25
4378/4378 - 74s - loss: 0.9118 - accuracy: 0.6497 - val_loss: 0.9101 - val_accuracy: 0.6355 - lr: 0.0010 - 74s/epoch - 17ms/step
Epoch 12/25
4378/4378 - 66s - loss: 0.9043 - accuracy: 0.6527 - val_loss: 0.9642 - val_accuracy: 0.6129 - lr: 0.0010 - 66s/epoch - 15ms/step
Epoch 13/25
4378/4378 - 66s - loss: 0.8970 - accuracy: 0.6573 - val_loss: 0.8965 - val_accuracy: 0.6498 - lr: 0.0010 - 66s/epoch - 15ms/step
Epoch 14/25
4378/4378 - 65s - loss: 0.8901 - accuracy: 0.6597 - val_loss: 0.9231 - val_accuracy: 0.6193 - lr: 0.0010 - 65s/epoch - 15ms/step
Epoch 15/25
4378/4378 - 65s - loss: 0.8821 - accuracy: 0.6630 - val_loss: 0.8688 - val_accuracy: 0.6546 - lr: 0.0010 - 65s/epoch - 15ms/step
Epoch 16/25
4378/4378 - 65s - loss: 0.8776 - accuracy: 0.6644 - val_loss: 0.8936 - val_accuracy: 0.6455 - lr: 0.0010 - 65s/epoch - 15ms/step
Epoch 17/25
4378/4378 - 64s - loss: 0.8708 - accuracy: 0.6674 - val_loss: 0.9121 - val_accuracy: 0.6607 - lr: 0.0010 - 64s/epoch - 15ms/step
Epoch 18/25
4378/4378 - 64s - loss: 0.8658 - accuracy: 0.6710 - val_loss: 0.9566 - val_accuracy: 0.6298 - lr: 0.0010 - 64s/epoch - 15ms/step
Epoch 19/25
4378/4378 - 68s - loss: 0.8621 - accuracy: 0.6721 - val_loss: 0.8346 - val_accuracy: 0.6682 - lr: 0.0010 - 68s/epoch - 16ms/step
Epoch 20/25
4378/4378 - 65s - loss: 0.8549 - accuracy: 0.6762 - val_loss: 0.9256 - val_accuracy: 0.6465 - lr: 0.0010 - 65s/epoch - 15ms/step
Epoch 21/25
4378/4378 - 64s - loss: 0.8504 - accuracy: 0.6771 - val_loss: 0.8102 - val_accuracy: 0.7118 - lr: 0.0010 - 64s/epoch - 15ms/step
Epoch 22/25
4378/4378 - 65s - loss: 0.8478 - accuracy: 0.6772 - val_loss: 0.8870 - val_accuracy: 0.6819 - lr: 0.0010 - 65s/epoch - 15ms/step
Epoch 23/25
4378/4378 - 76s - loss: 0.8419 - accuracy: 0.6804 - val_loss: 0.8940 - val_accuracy: 0.6774 - lr: 0.0010 - 76s/epoch - 17ms/step
Epoch 24/25
4378/4378 - 77s - loss: 0.8391 - accuracy: 0.6817 - val_loss: 0.8366 - val_accuracy: 0.7086 - lr: 0.0010 - 77s/epoch - 18ms/step
Epoch 25/25
4378/4378 - 74s - loss: 0.8343 - accuracy: 0.6849 - val_loss: 0.7961 - val_accuracy: 0.7222 - lr: 0.0010 - 74s/epoch - 17ms/step
fitting with batch size: 100
Epoch 1/25
876/876 - 20s - loss: 0.8200 - accuracy: 0.6894 - val_loss: 0.8076 - val_accuracy: 0.7079 - lr: 0.0010 - 20s/epoch - 23ms/step
Epoch 2/25
876/876 - 17s - loss: 0.8173 - accuracy: 0.6905 - val_loss: 0.8270 - val_accuracy: 0.6968 - lr: 0.0010 - 17s/epoch - 19ms/step
Epoch 3/25
876/876 - 17s - loss: 0.8177 - accuracy: 0.6906 - val_loss: 0.8481 - val_accuracy: 0.6905 - lr: 0.0010 - 17s/epoch - 19ms/step
Epoch 4/25
876/876 - 16s - loss: 0.8142 - accuracy: 0.6923 - val_loss: 0.7815 - val_accuracy: 0.7212 - lr: 0.0010 - 16s/epoch - 18ms/step
Epoch 5/25
876/876 - 16s - loss: 0.8141 - accuracy: 0.6918 - val_loss: 0.7930 - val_accuracy: 0.7200 - lr: 0.0010 - 16s/epoch - 18ms/step
Epoch 6/25
876/876 - 16s - loss: 0.8133 - accuracy: 0.6915 - val_loss: 0.8320 - val_accuracy: 0.7025 - lr: 0.0010 - 16s/epoch - 18ms/step
Epoch 7/25
876/876 - 16s - loss: 0.8140 - accuracy: 0.6929 - val_loss: 0.7937 - val_accuracy: 0.7156 - lr: 0.0010 - 16s/epoch - 18ms/step
Epoch 8/25
876/876 - 16s - loss: 0.8113 - accuracy: 0.6926 - val_loss: 0.8372 - val_accuracy: 0.6983 - lr: 0.0010 - 16s/epoch - 18ms/step
Epoch 9/25
876/876 - 16s - loss: 0.8106 - accuracy: 0.6935 - val_loss: 0.7954 - val_accuracy: 0.7129 - lr: 0.0010 - 16s/epoch - 18ms/step
Epoch 10/25
876/876 - 16s - loss: 0.8109 - accuracy: 0.6932 - val_loss: 0.7760 - val_accuracy: 0.7176 - lr: 0.0010 - 16s/epoch - 18ms/step
Epoch 11/25
876/876 - 16s - loss: 0.8096 - accuracy: 0.6940 - val_loss: 0.7884 - val_accuracy: 0.7190 - lr: 0.0010 - 16s/epoch - 18ms/step
Epoch 12/25
876/876 - 16s - loss: 0.8112 - accuracy: 0.6940 - val_loss: 0.7981 - val_accuracy: 0.7225 - lr: 0.0010 - 16s/epoch - 18ms/step
Epoch 13/25
876/876 - 16s - loss: 0.8074 - accuracy: 0.6955 - val_loss: 0.8210 - val_accuracy: 0.7031 - lr: 0.0010 - 16s/epoch - 18ms/step
Epoch 14/25
876/876 - 16s - loss: 0.8082 - accuracy: 0.6951 - val_loss: 0.8120 - val_accuracy: 0.7146 - lr: 0.0010 - 16s/epoch - 18ms/step
Epoch 15/25
876/876 - 16s - loss: 0.8072 - accuracy: 0.6956 - val_loss: 0.7739 - val_accuracy: 0.7233 - lr: 0.0010 - 16s/epoch - 18ms/step
Epoch 16/25
876/876 - 16s - loss: 0.8072 - accuracy: 0.6948 - val_loss: 0.8108 - val_accuracy: 0.7088 - lr: 0.0010 - 16s/epoch - 18ms/step
Epoch 17/25
876/876 - 16s - loss: 0.8055 - accuracy: 0.6959 - val_loss: 0.8075 - val_accuracy: 0.7195 - lr: 0.0010 - 16s/epoch - 18ms/step
Epoch 18/25
876/876 - 16s - loss: 0.8051 - accuracy: 0.6956 - val_loss: 0.7843 - val_accuracy: 0.7195 - lr: 0.0010 - 16s/epoch - 18ms/step
Epoch 19/25
876/876 - 16s - loss: 0.8043 - accuracy: 0.6957 - val_loss: 0.7898 - val_accuracy: 0.7184 - lr: 0.0010 - 16s/epoch - 18ms/step
Epoch 20/25
876/876 - 15s - loss: 0.8036 - accuracy: 0.6971 - val_loss: 0.7914 - val_accuracy: 0.7234 - lr: 0.0010 - 15s/epoch - 18ms/step
Epoch 21/25
876/876 - 16s - loss: 0.8023 - accuracy: 0.6959 - val_loss: 0.8170 - val_accuracy: 0.7136 - lr: 0.0010 - 16s/epoch - 18ms/step
Epoch 22/25
876/876 - 16s - loss: 0.8007 - accuracy: 0.6980 - val_loss: 0.8018 - val_accuracy: 0.7216 - lr: 0.0010 - 16s/epoch - 18ms/step
Epoch 23/25
876/876 - 16s - loss: 0.8019 - accuracy: 0.6959 - val_loss: 0.7804 - val_accuracy: 0.7247 - lr: 0.0010 - 16s/epoch - 18ms/step
Epoch 24/25
876/876 - 16s - loss: 0.8008 - accuracy: 0.6977 - val_loss: 0.8019 - val_accuracy: 0.7155 - lr: 0.0010 - 16s/epoch - 18ms/step
Epoch 25/25
876/876 - 16s - loss: 0.8008 - accuracy: 0.6977 - val_loss: 0.7774 - val_accuracy: 0.7326 - lr: 0.0010 - 16s/epoch - 18ms/step
fitting with batch size: 500
Epoch 1/25
176/176 - 12s - loss: 0.7970 - accuracy: 0.6988 - val_loss: 0.7774 - val_accuracy: 0.7216 - lr: 0.0010 - 12s/epoch - 66ms/step
Epoch 2/25
176/176 - 8s - loss: 0.7961 - accuracy: 0.6993 - val_loss: 0.7978 - val_accuracy: 0.7178 - lr: 0.0010 - 8s/epoch - 46ms/step
Epoch 3/25
176/176 - 8s - loss: 0.7965 - accuracy: 0.7003 - val_loss: 0.8030 - val_accuracy: 0.7162 - lr: 0.0010 - 8s/epoch - 46ms/step
Epoch 4/25
176/176 - 8s - loss: 0.7954 - accuracy: 0.6989 - val_loss: 0.7803 - val_accuracy: 0.7219 - lr: 0.0010 - 8s/epoch - 46ms/step
Epoch 5/25
176/176 - 8s - loss: 0.7952 - accuracy: 0.6991 - val_loss: 0.7967 - val_accuracy: 0.7192 - lr: 0.0010 - 8s/epoch - 46ms/step
Epoch 6/25
176/176 - 8s - loss: 0.7953 - accuracy: 0.7006 - val_loss: 0.8112 - val_accuracy: 0.7122 - lr: 0.0010 - 8s/epoch - 46ms/step
Epoch 7/25
176/176 - 8s - loss: 0.7951 - accuracy: 0.6992 - val_loss: 0.7880 - val_accuracy: 0.7227 - lr: 0.0010 - 8s/epoch - 46ms/step
Epoch 8/25
176/176 - 8s - loss: 0.7959 - accuracy: 0.7001 - val_loss: 0.7862 - val_accuracy: 0.7251 - lr: 0.0010 - 8s/epoch - 46ms/step
Epoch 9/25
176/176 - 8s - loss: 0.7948 - accuracy: 0.7004 - val_loss: 0.7812 - val_accuracy: 0.7220 - lr: 0.0010 - 8s/epoch - 46ms/step
Epoch 10/25
176/176 - 8s - loss: 0.7957 - accuracy: 0.7004 - val_loss: 0.8098 - val_accuracy: 0.7168 - lr: 0.0010 - 8s/epoch - 46ms/step
Epoch 11/25
176/176 - 8s - loss: 0.7937 - accuracy: 0.7003 - val_loss: 0.7822 - val_accuracy: 0.7215 - lr: 0.0010 - 8s/epoch - 47ms/step
Epoch 12/25
176/176 - 8s - loss: 0.7959 - accuracy: 0.6993 - val_loss: 0.7777 - val_accuracy: 0.7246 - lr: 0.0010 - 8s/epoch - 47ms/step
Epoch 13/25
176/176 - 8s - loss: 0.7940 - accuracy: 0.6997 - val_loss: 0.8031 - val_accuracy: 0.7141 - lr: 0.0010 - 8s/epoch - 47ms/step
Epoch 14/25
176/176 - 8s - loss: 0.7928 - accuracy: 0.7011 - val_loss: 0.7857 - val_accuracy: 0.7251 - lr: 0.0010 - 8s/epoch - 47ms/step
Epoch 15/25
176/176 - 8s - loss: 0.7944 - accuracy: 0.6996 - val_loss: 0.7771 - val_accuracy: 0.7246 - lr: 0.0010 - 8s/epoch - 47ms/step
Epoch 16/25
176/176 - 8s - loss: 0.7953 - accuracy: 0.6991 - val_loss: 0.7840 - val_accuracy: 0.7260 - lr: 0.0010 - 8s/epoch - 47ms/step
Epoch 17/25
176/176 - 8s - loss: 0.7942 - accuracy: 0.6994 - val_loss: 0.7854 - val_accuracy: 0.7227 - lr: 0.0010 - 8s/epoch - 47ms/step
Epoch 18/25
176/176 - 8s - loss: 0.7941 - accuracy: 0.7001 - val_loss: 0.7881 - val_accuracy: 0.7234 - lr: 0.0010 - 8s/epoch - 47ms/step
Epoch 19/25
176/176 - 8s - loss: 0.7937 - accuracy: 0.7004 - val_loss: 0.7876 - val_accuracy: 0.7269 - lr: 0.0010 - 8s/epoch - 47ms/step
Epoch 20/25
176/176 - 8s - loss: 0.7954 - accuracy: 0.7000 - val_loss: 0.8105 - val_accuracy: 0.7140 - lr: 0.0010 - 8s/epoch - 47ms/step
Epoch 21/25
176/176 - 8s - loss: 0.7937 - accuracy: 0.7003 - val_loss: 0.8033 - val_accuracy: 0.7176 - lr: 0.0010 - 8s/epoch - 47ms/step
Epoch 22/25
176/176 - 8s - loss: 0.7935 - accuracy: 0.7000 - val_loss: 0.7915 - val_accuracy: 0.7200 - lr: 0.0010 - 8s/epoch - 47ms/step
Epoch 23/25
176/176 - 8s - loss: 0.7928 - accuracy: 0.6999 - val_loss: 0.8125 - val_accuracy: 0.7158 - lr: 0.0010 - 8s/epoch - 47ms/step
Epoch 24/25
176/176 - 8s - loss: 0.7938 - accuracy: 0.6998 - val_loss: 0.7920 - val_accuracy: 0.7230 - lr: 0.0010 - 8s/epoch - 47ms/step
Epoch 25/25
176/176 - 8s - loss: 0.7925 - accuracy: 0.7004 - val_loss: 0.8093 - val_accuracy: 0.7156 - lr: 0.0010 - 8s/epoch - 47ms/step
fitting with batch size: 1500
Epoch 1/25
59/59 - 10s - loss: 0.7919 - accuracy: 0.7005 - val_loss: 0.7926 - val_accuracy: 0.7199 - lr: 0.0010 - 10s/epoch - 172ms/step
Epoch 2/25
59/59 - 8s - loss: 0.7935 - accuracy: 0.7005 - val_loss: 0.7934 - val_accuracy: 0.7195 - lr: 0.0010 - 8s/epoch - 127ms/step
Epoch 3/25
59/59 - 7s - loss: 0.7922 - accuracy: 0.7017 - val_loss: 0.7915 - val_accuracy: 0.7208 - lr: 0.0010 - 7s/epoch - 126ms/step
Epoch 4/25
59/59 - 7s - loss: 0.7924 - accuracy: 0.7017 - val_loss: 0.7833 - val_accuracy: 0.7238 - lr: 0.0010 - 7s/epoch - 126ms/step
Epoch 5/25
59/59 - 7s - loss: 0.7931 - accuracy: 0.7002 - val_loss: 0.7873 - val_accuracy: 0.7225 - lr: 0.0010 - 7s/epoch - 126ms/step
Epoch 6/25
59/59 - 7s - loss: 0.7915 - accuracy: 0.7008 - val_loss: 0.7867 - val_accuracy: 0.7219 - lr: 0.0010 - 7s/epoch - 126ms/step
Epoch 7/25
59/59 - 7s - loss: 0.7933 - accuracy: 0.6997 - val_loss: 0.7903 - val_accuracy: 0.7225 - lr: 0.0010 - 7s/epoch - 126ms/step
Epoch 8/25
59/59 - 7s - loss: 0.7921 - accuracy: 0.7013 - val_loss: 0.7909 - val_accuracy: 0.7236 - lr: 0.0010 - 7s/epoch - 126ms/step
Epoch 9/25
59/59 - 7s - loss: 0.7918 - accuracy: 0.7004 - val_loss: 0.7881 - val_accuracy: 0.7210 - lr: 0.0010 - 7s/epoch - 126ms/step
Epoch 10/25
59/59 - 7s - loss: 0.7913 - accuracy: 0.7019 - val_loss: 0.7867 - val_accuracy: 0.7230 - lr: 0.0010 - 7s/epoch - 126ms/step
Epoch 11/25
59/59 - 7s - loss: 0.7920 - accuracy: 0.7009 - val_loss: 0.7850 - val_accuracy: 0.7233 - lr: 0.0010 - 7s/epoch - 126ms/step
Epoch 12/25
59/59 - 7s - loss: 0.7913 - accuracy: 0.7015 - val_loss: 0.7834 - val_accuracy: 0.7232 - lr: 0.0010 - 7s/epoch - 126ms/step
Epoch 13/25
59/59 - 7s - loss: 0.7922 - accuracy: 0.7011 - val_loss: 0.8010 - val_accuracy: 0.7172 - lr: 0.0010 - 7s/epoch - 126ms/step
Epoch 14/25
59/59 - 7s - loss: 0.7929 - accuracy: 0.7002 - val_loss: 0.7870 - val_accuracy: 0.7233 - lr: 0.0010 - 7s/epoch - 126ms/step
Epoch 15/25
59/59 - 7s - loss: 0.7933 - accuracy: 0.7011 - val_loss: 0.7888 - val_accuracy: 0.7235 - lr: 0.0010 - 7s/epoch - 126ms/step
Epoch 16/25
59/59 - 7s - loss: 0.7918 - accuracy: 0.7017 - val_loss: 0.7884 - val_accuracy: 0.7219 - lr: 0.0010 - 7s/epoch - 126ms/step
Epoch 17/25
59/59 - 7s - loss: 0.7927 - accuracy: 0.6999 - val_loss: 0.7911 - val_accuracy: 0.7225 - lr: 0.0010 - 7s/epoch - 126ms/step
Epoch 18/25
59/59 - 7s - loss: 0.7910 - accuracy: 0.7015 - val_loss: 0.7877 - val_accuracy: 0.7216 - lr: 0.0010 - 7s/epoch - 126ms/step
Epoch 19/25
59/59 - 7s - loss: 0.7925 - accuracy: 0.7005 - val_loss: 0.7819 - val_accuracy: 0.7249 - lr: 0.0010 - 7s/epoch - 126ms/step
Epoch 20/25
59/59 - 7s - loss: 0.7910 - accuracy: 0.7013 - val_loss: 0.7814 - val_accuracy: 0.7245 - lr: 0.0010 - 7s/epoch - 126ms/step
Epoch 21/25
59/59 - 7s - loss: 0.7916 - accuracy: 0.7010 - val_loss: 0.7921 - val_accuracy: 0.7214 - lr: 0.0010 - 7s/epoch - 125ms/step
Epoch 22/25
59/59 - 7s - loss: 0.7913 - accuracy: 0.7008 - val_loss: 0.7796 - val_accuracy: 0.7253 - lr: 0.0010 - 7s/epoch - 126ms/step
Epoch 23/25
59/59 - 7s - loss: 0.7921 - accuracy: 0.7008 - val_loss: 0.7909 - val_accuracy: 0.7217 - lr: 0.0010 - 7s/epoch - 126ms/step
Epoch 24/25
59/59 - 7s - loss: 0.7922 - accuracy: 0.7007 - val_loss: 0.7870 - val_accuracy: 0.7239 - lr: 0.0010 - 7s/epoch - 126ms/step
Epoch 25/25
59/59 - 7s - loss: 0.7921 - accuracy: 0.7018 - val_loss: 0.7877 - val_accuracy: 0.7214 - lr: 0.0010 - 7s/epoch - 126ms/step
fitting with batch size: 2500
Epoch 1/25
36/36 - 10s - loss: 0.7925 - accuracy: 0.7035 - val_loss: 0.7921 - val_accuracy: 0.7217 - lr: 0.0010 - 10s/epoch - 277ms/step
Epoch 2/25
36/36 - 7s - loss: 0.7922 - accuracy: 0.7011 - val_loss: 0.7916 - val_accuracy: 0.7181 - lr: 0.0010 - 7s/epoch - 199ms/step
Epoch 3/25
36/36 - 7s - loss: 0.7907 - accuracy: 0.7014 - val_loss: 0.7795 - val_accuracy: 0.7278 - lr: 0.0010 - 7s/epoch - 199ms/step
Epoch 4/25
36/36 - 7s - loss: 0.7934 - accuracy: 0.7010 - val_loss: 0.7919 - val_accuracy: 0.7213 - lr: 0.0010 - 7s/epoch - 199ms/step
Epoch 5/25
36/36 - 7s - loss: 0.7929 - accuracy: 0.7000 - val_loss: 0.7978 - val_accuracy: 0.7179 - lr: 0.0010 - 7s/epoch - 199ms/step
Epoch 6/25
36/36 - 7s - loss: 0.7918 - accuracy: 0.7013 - val_loss: 0.7757 - val_accuracy: 0.7313 - lr: 0.0010 - 7s/epoch - 199ms/step
Epoch 7/25
36/36 - 7s - loss: 0.7928 - accuracy: 0.7003 - val_loss: 0.7843 - val_accuracy: 0.7267 - lr: 0.0010 - 7s/epoch - 199ms/step
Epoch 8/25
36/36 - 7s - loss: 0.7912 - accuracy: 0.7016 - val_loss: 0.7999 - val_accuracy: 0.7191 - lr: 0.0010 - 7s/epoch - 199ms/step
Epoch 9/25
36/36 - 7s - loss: 0.7915 - accuracy: 0.7010 - val_loss: 0.7831 - val_accuracy: 0.7248 - lr: 0.0010 - 7s/epoch - 199ms/step
Epoch 10/25
36/36 - 7s - loss: 0.7904 - accuracy: 0.7026 - val_loss: 0.7932 - val_accuracy: 0.7208 - lr: 0.0010 - 7s/epoch - 199ms/step
Epoch 11/25
36/36 - 7s - loss: 0.7905 - accuracy: 0.7018 - val_loss: 0.7965 - val_accuracy: 0.7170 - lr: 0.0010 - 7s/epoch - 200ms/step
Epoch 12/25
36/36 - 7s - loss: 0.7912 - accuracy: 0.6997 - val_loss: 0.7911 - val_accuracy: 0.7204 - lr: 0.0010 - 7s/epoch - 199ms/step
Epoch 13/25
36/36 - 7s - loss: 0.7929 - accuracy: 0.7011 - val_loss: 0.7744 - val_accuracy: 0.7276 - lr: 0.0010 - 7s/epoch - 199ms/step
Epoch 14/25
36/36 - 7s - loss: 0.7905 - accuracy: 0.7015 - val_loss: 0.7787 - val_accuracy: 0.7250 - lr: 0.0010 - 7s/epoch - 199ms/step
Epoch 15/25
36/36 - 7s - loss: 0.7908 - accuracy: 0.7009 - val_loss: 0.7880 - val_accuracy: 0.7210 - lr: 0.0010 - 7s/epoch - 199ms/step
Epoch 16/25
36/36 - 7s - loss: 0.7917 - accuracy: 0.7002 - val_loss: 0.7831 - val_accuracy: 0.7247 - lr: 0.0010 - 7s/epoch - 199ms/step
Epoch 17/25
36/36 - 7s - loss: 0.7891 - accuracy: 0.7021 - val_loss: 0.7851 - val_accuracy: 0.7213 - lr: 0.0010 - 7s/epoch - 199ms/step
Epoch 18/25
36/36 - 7s - loss: 0.7913 - accuracy: 0.7019 - val_loss: 0.7990 - val_accuracy: 0.7206 - lr: 0.0010 - 7s/epoch - 199ms/step
Epoch 19/25
36/36 - 7s - loss: 0.7904 - accuracy: 0.7010 - val_loss: 0.7921 - val_accuracy: 0.7205 - lr: 0.0010 - 7s/epoch - 199ms/step
Epoch 20/25
36/36 - 7s - loss: 0.7922 - accuracy: 0.7011 - val_loss: 0.7774 - val_accuracy: 0.7252 - lr: 0.0010 - 7s/epoch - 199ms/step
Epoch 21/25
36/36 - 7s - loss: 0.7921 - accuracy: 0.7018 - val_loss: 0.7870 - val_accuracy: 0.7210 - lr: 0.0010 - 7s/epoch - 199ms/step
Epoch 22/25
36/36 - 7s - loss: 0.7903 - accuracy: 0.7031 - val_loss: 0.7788 - val_accuracy: 0.7255 - lr: 0.0010 - 7s/epoch - 199ms/step
Epoch 23/25
36/36 - 7s - loss: 0.7920 - accuracy: 0.7027 - val_loss: 0.7769 - val_accuracy: 0.7251 - lr: 0.0010 - 7s/epoch - 199ms/step
Epoch 24/25
36/36 - 7s - loss: 0.7920 - accuracy: 0.7002 - val_loss: 0.7822 - val_accuracy: 0.7205 - lr: 0.0010 - 7s/epoch - 200ms/step
Epoch 25/25
36/36 - 7s - loss: 0.7920 - accuracy: 0.7014 - val_loss: 0.7847 - val_accuracy: 0.7236 - lr: 0.0010 - 7s/epoch - 200ms/step
Epoch number: 50
fitting with batch size: 20
Epoch 1/50
4378/4378 - 71s - loss: 0.8115 - accuracy: 0.6935 - val_loss: 0.7980 - val_accuracy: 0.7163 - lr: 0.0010 - 71s/epoch - 16ms/step
Epoch 2/50
4378/4378 - 70s - loss: 0.8096 - accuracy: 0.6938 - val_loss: 0.7317 - val_accuracy: 0.7402 - lr: 0.0010 - 70s/epoch - 16ms/step
Epoch 3/50
4378/4378 - 70s - loss: 0.8069 - accuracy: 0.6948 - val_loss: 0.8308 - val_accuracy: 0.7192 - lr: 0.0010 - 70s/epoch - 16ms/step
Epoch 4/50
4378/4378 - 70s - loss: 0.8037 - accuracy: 0.6962 - val_loss: 0.7943 - val_accuracy: 0.7326 - lr: 0.0010 - 70s/epoch - 16ms/step
Epoch 5/50
4378/4378 - 70s - loss: 0.8003 - accuracy: 0.6963 - val_loss: 0.7932 - val_accuracy: 0.7354 - lr: 0.0010 - 70s/epoch - 16ms/step
Epoch 6/50
4378/4378 - 70s - loss: 0.7992 - accuracy: 0.6974 - val_loss: 0.7359 - val_accuracy: 0.7371 - lr: 0.0010 - 70s/epoch - 16ms/step
Epoch 7/50
4378/4378 - 71s - loss: 0.7973 - accuracy: 0.6989 - val_loss: 0.7671 - val_accuracy: 0.7453 - lr: 0.0010 - 71s/epoch - 16ms/step
Epoch 8/50
4378/4378 - 70s - loss: 0.7956 - accuracy: 0.6999 - val_loss: 0.7637 - val_accuracy: 0.7317 - lr: 0.0010 - 70s/epoch - 16ms/step
Epoch 9/50
4378/4378 - 71s - loss: 0.7938 - accuracy: 0.7009 - val_loss: 0.7784 - val_accuracy: 0.7240 - lr: 0.0010 - 71s/epoch - 16ms/step
Epoch 10/50
4378/4378 - 76s - loss: 0.7918 - accuracy: 0.7024 - val_loss: 0.7566 - val_accuracy: 0.7337 - lr: 0.0010 - 76s/epoch - 17ms/step
Epoch 11/50
4378/4378 - 75s - loss: 0.7888 - accuracy: 0.7030 - val_loss: 0.7676 - val_accuracy: 0.7171 - lr: 0.0010 - 75s/epoch - 17ms/step
Epoch 12/50
4378/4378 - 73s - loss: 0.7876 - accuracy: 0.7024 - val_loss: 0.7503 - val_accuracy: 0.7307 - lr: 0.0010 - 73s/epoch - 17ms/step
Epoch 13/50
4378/4378 - 70s - loss: 0.7872 - accuracy: 0.7033 - val_loss: 0.7833 - val_accuracy: 0.7303 - lr: 0.0010 - 70s/epoch - 16ms/step
Epoch 14/50
4378/4378 - 65s - loss: 0.7850 - accuracy: 0.7042 - val_loss: 0.7908 - val_accuracy: 0.7259 - lr: 0.0010 - 65s/epoch - 15ms/step
Epoch 15/50
4378/4378 - 71s - loss: 0.7845 - accuracy: 0.7054 - val_loss: 0.7771 - val_accuracy: 0.7242 - lr: 0.0010 - 71s/epoch - 16ms/step
Epoch 16/50
4378/4378 - 78s - loss: 0.7802 - accuracy: 0.7061 - val_loss: 0.7533 - val_accuracy: 0.7355 - lr: 0.0010 - 78s/epoch - 18ms/step
Epoch 17/50
4378/4378 - 75s - loss: 0.7792 - accuracy: 0.7057 - val_loss: 0.7811 - val_accuracy: 0.7295 - lr: 0.0010 - 75s/epoch - 17ms/step
Epoch 18/50
4378/4378 - 75s - loss: 0.7795 - accuracy: 0.7071 - val_loss: 0.7780 - val_accuracy: 0.7300 - lr: 0.0010 - 75s/epoch - 17ms/step
Epoch 19/50
4378/4378 - 73s - loss: 0.7764 - accuracy: 0.7076 - val_loss: 0.8424 - val_accuracy: 0.7013 - lr: 0.0010 - 73s/epoch - 17ms/step
Epoch 20/50
4378/4378 - 68s - loss: 0.7757 - accuracy: 0.7076 - val_loss: 0.7293 - val_accuracy: 0.7583 - lr: 0.0010 - 68s/epoch - 16ms/step
Epoch 21/50
4378/4378 - 72s - loss: 0.7728 - accuracy: 0.7089 - val_loss: 0.7202 - val_accuracy: 0.7599 - lr: 0.0010 - 72s/epoch - 16ms/step
Epoch 22/50
4378/4378 - 71s - loss: 0.7718 - accuracy: 0.7086 - val_loss: 0.8006 - val_accuracy: 0.7312 - lr: 0.0010 - 71s/epoch - 16ms/step
Epoch 23/50
4378/4378 - 64s - loss: 0.7719 - accuracy: 0.7100 - val_loss: 0.7972 - val_accuracy: 0.7154 - lr: 0.0010 - 64s/epoch - 15ms/step
Epoch 24/50
4378/4378 - 65s - loss: 0.7716 - accuracy: 0.7089 - val_loss: 0.7654 - val_accuracy: 0.7345 - lr: 0.0010 - 65s/epoch - 15ms/step
Epoch 25/50
4378/4378 - 66s - loss: 0.7703 - accuracy: 0.7095 - val_loss: 0.7319 - val_accuracy: 0.7525 - lr: 0.0010 - 66s/epoch - 15ms/step
Epoch 26/50
4378/4378 - 68s - loss: 0.7684 - accuracy: 0.7105 - val_loss: 0.7461 - val_accuracy: 0.7403 - lr: 0.0010 - 68s/epoch - 15ms/step
Epoch 27/50
4378/4378 - 70s - loss: 0.7678 - accuracy: 0.7122 - val_loss: 0.7488 - val_accuracy: 0.7545 - lr: 0.0010 - 70s/epoch - 16ms/step
Epoch 28/50
4378/4378 - 69s - loss: 0.7646 - accuracy: 0.7126 - val_loss: 0.6954 - val_accuracy: 0.7650 - lr: 0.0010 - 69s/epoch - 16ms/step
Epoch 29/50
4378/4378 - 66s - loss: 0.7646 - accuracy: 0.7119 - val_loss: 0.7473 - val_accuracy: 0.7364 - lr: 0.0010 - 66s/epoch - 15ms/step
Epoch 30/50
4378/4378 - 71s - loss: 0.7631 - accuracy: 0.7142 - val_loss: 0.7434 - val_accuracy: 0.7551 - lr: 0.0010 - 71s/epoch - 16ms/step
Epoch 31/50
4378/4378 - 66s - loss: 0.7611 - accuracy: 0.7126 - val_loss: 0.7468 - val_accuracy: 0.7500 - lr: 0.0010 - 66s/epoch - 15ms/step
Epoch 32/50
4378/4378 - 66s - loss: 0.7610 - accuracy: 0.7136 - val_loss: 0.7445 - val_accuracy: 0.7524 - lr: 0.0010 - 66s/epoch - 15ms/step
Epoch 33/50
4378/4378 - 70s - loss: 0.7594 - accuracy: 0.7148 - val_loss: 0.7223 - val_accuracy: 0.7516 - lr: 0.0010 - 70s/epoch - 16ms/step
Epoch 34/50
4378/4378 - 68s - loss: 0.7595 - accuracy: 0.7146 - val_loss: 0.8126 - val_accuracy: 0.7170 - lr: 0.0010 - 68s/epoch - 16ms/step
Epoch 35/50
4378/4378 - 65s - loss: 0.7576 - accuracy: 0.7140 - val_loss: 0.7591 - val_accuracy: 0.7434 - lr: 0.0010 - 65s/epoch - 15ms/step
Epoch 36/50
4378/4378 - 73s - loss: 0.7569 - accuracy: 0.7153 - val_loss: 0.7880 - val_accuracy: 0.7366 - lr: 0.0010 - 73s/epoch - 17ms/step
Epoch 37/50
4378/4378 - 71s - loss: 0.7550 - accuracy: 0.7166 - val_loss: 0.7515 - val_accuracy: 0.7474 - lr: 0.0010 - 71s/epoch - 16ms/step
Epoch 38/50
4378/4378 - 73s - loss: 0.7546 - accuracy: 0.7163 - val_loss: 0.7202 - val_accuracy: 0.7447 - lr: 0.0010 - 73s/epoch - 17ms/step
Epoch 39/50
4378/4378 - 74s - loss: 0.7537 - accuracy: 0.7176 - val_loss: 0.7049 - val_accuracy: 0.7590 - lr: 0.0010 - 74s/epoch - 17ms/step
Epoch 40/50
4378/4378 - 69s - loss: 0.7535 - accuracy: 0.7147 - val_loss: 0.7417 - val_accuracy: 0.7384 - lr: 0.0010 - 69s/epoch - 16ms/step
Epoch 41/50
4378/4378 - 67s - loss: 0.7503 - accuracy: 0.7176 - val_loss: 0.7048 - val_accuracy: 0.7726 - lr: 0.0010 - 67s/epoch - 15ms/step
Epoch 42/50
4378/4378 - 68s - loss: 0.7503 - accuracy: 0.7176 - val_loss: 0.7549 - val_accuracy: 0.7370 - lr: 0.0010 - 68s/epoch - 15ms/step
Epoch 43/50
4378/4378 - 70s - loss: 0.7478 - accuracy: 0.7187 - val_loss: 0.7444 - val_accuracy: 0.7489 - lr: 0.0010 - 70s/epoch - 16ms/step
Epoch 44/50
4378/4378 - 75s - loss: 0.7471 - accuracy: 0.7176 - val_loss: 0.7677 - val_accuracy: 0.7291 - lr: 0.0010 - 75s/epoch - 17ms/step
Epoch 45/50
4378/4378 - 75s - loss: 0.7470 - accuracy: 0.7194 - val_loss: 0.7361 - val_accuracy: 0.7668 - lr: 0.0010 - 75s/epoch - 17ms/step
Epoch 46/50
4378/4378 - 75s - loss: 0.7469 - accuracy: 0.7183 - val_loss: 0.7311 - val_accuracy: 0.7498 - lr: 0.0010 - 75s/epoch - 17ms/step
Epoch 47/50
4378/4378 - 76s - loss: 0.7472 - accuracy: 0.7184 - val_loss: 0.6571 - val_accuracy: 0.8067 - lr: 0.0010 - 76s/epoch - 17ms/step
Epoch 48/50
4378/4378 - 72s - loss: 0.7443 - accuracy: 0.7193 - val_loss: 0.7265 - val_accuracy: 0.7517 - lr: 0.0010 - 72s/epoch - 17ms/step
Epoch 49/50
4378/4378 - 67s - loss: 0.7439 - accuracy: 0.7199 - val_loss: 0.6949 - val_accuracy: 0.7684 - lr: 0.0010 - 67s/epoch - 15ms/step
Epoch 50/50
4378/4378 - 67s - loss: 0.7419 - accuracy: 0.7211 - val_loss: 0.6967 - val_accuracy: 0.7711 - lr: 0.0010 - 67s/epoch - 15ms/step
fitting with batch size: 100
Epoch 1/50
876/876 - 39s - loss: 0.7297 - accuracy: 0.7260 - val_loss: 0.7238 - val_accuracy: 0.7618 - lr: 0.0010 - 39s/epoch - 44ms/step
Epoch 2/50
876/876 - 19s - loss: 0.7269 - accuracy: 0.7266 - val_loss: 0.7218 - val_accuracy: 0.7583 - lr: 0.0010 - 19s/epoch - 22ms/step
Epoch 3/50
876/876 - 17s - loss: 0.7252 - accuracy: 0.7273 - val_loss: 0.6926 - val_accuracy: 0.7695 - lr: 0.0010 - 17s/epoch - 20ms/step
Epoch 4/50
876/876 - 17s - loss: 0.7258 - accuracy: 0.7271 - val_loss: 0.7041 - val_accuracy: 0.7776 - lr: 0.0010 - 17s/epoch - 19ms/step
Epoch 5/50
876/876 - 19s - loss: 0.7258 - accuracy: 0.7276 - val_loss: 0.7211 - val_accuracy: 0.7671 - lr: 0.0010 - 19s/epoch - 21ms/step
Epoch 6/50
876/876 - 18s - loss: 0.7253 - accuracy: 0.7271 - val_loss: 0.6915 - val_accuracy: 0.7721 - lr: 0.0010 - 18s/epoch - 21ms/step
Epoch 7/50
876/876 - 27s - loss: 0.7250 - accuracy: 0.7269 - val_loss: 0.7001 - val_accuracy: 0.7720 - lr: 0.0010 - 27s/epoch - 31ms/step
Epoch 8/50
876/876 - 247s - loss: 0.7240 - accuracy: 0.7273 - val_loss: 0.7141 - val_accuracy: 0.7720 - lr: 0.0010 - 247s/epoch - 282ms/step
Epoch 9/50
876/876 - 21s - loss: 0.7226 - accuracy: 0.7278 - val_loss: 0.7301 - val_accuracy: 0.7553 - lr: 0.0010 - 21s/epoch - 25ms/step
Epoch 10/50
876/876 - 21s - loss: 0.7238 - accuracy: 0.7285 - val_loss: 0.7154 - val_accuracy: 0.7627 - lr: 0.0010 - 21s/epoch - 24ms/step
Epoch 11/50
876/876 - 18s - loss: 0.7220 - accuracy: 0.7286 - val_loss: 0.7000 - val_accuracy: 0.7683 - lr: 0.0010 - 18s/epoch - 21ms/step
Epoch 12/50
876/876 - 19s - loss: 0.7223 - accuracy: 0.7295 - val_loss: 0.6975 - val_accuracy: 0.7726 - lr: 0.0010 - 19s/epoch - 22ms/step
Epoch 13/50
876/876 - 20s - loss: 0.7228 - accuracy: 0.7293 - val_loss: 0.7115 - val_accuracy: 0.7725 - lr: 0.0010 - 20s/epoch - 23ms/step
Epoch 14/50
876/876 - 36s - loss: 0.7237 - accuracy: 0.7284 - val_loss: 0.6945 - val_accuracy: 0.7805 - lr: 0.0010 - 36s/epoch - 41ms/step
Epoch 15/50
876/876 - 18s - loss: 0.7217 - accuracy: 0.7291 - val_loss: 0.6993 - val_accuracy: 0.7706 - lr: 0.0010 - 18s/epoch - 20ms/step
Epoch 16/50
876/876 - 27s - loss: 0.7224 - accuracy: 0.7285 - val_loss: 0.7109 - val_accuracy: 0.7646 - lr: 0.0010 - 27s/epoch - 31ms/step
Epoch 17/50
876/876 - 56s - loss: 0.7212 - accuracy: 0.7282 - val_loss: 0.7153 - val_accuracy: 0.7705 - lr: 0.0010 - 56s/epoch - 64ms/step
Epoch 18/50
876/876 - 20s - loss: 0.7216 - accuracy: 0.7296 - val_loss: 0.7040 - val_accuracy: 0.7707 - lr: 0.0010 - 20s/epoch - 23ms/step
Epoch 19/50
876/876 - 19s - loss: 0.7209 - accuracy: 0.7295 - val_loss: 0.7185 - val_accuracy: 0.7630 - lr: 0.0010 - 19s/epoch - 22ms/step
Epoch 20/50
876/876 - 18s - loss: 0.7200 - accuracy: 0.7308 - val_loss: 0.6782 - val_accuracy: 0.7823 - lr: 0.0010 - 18s/epoch - 21ms/step
Epoch 21/50
876/876 - 17s - loss: 0.7208 - accuracy: 0.7288 - val_loss: 0.7002 - val_accuracy: 0.7749 - lr: 0.0010 - 17s/epoch - 19ms/step
Epoch 22/50
876/876 - 16s - loss: 0.7188 - accuracy: 0.7294 - val_loss: 0.6887 - val_accuracy: 0.7771 - lr: 0.0010 - 16s/epoch - 19ms/step
Epoch 23/50
876/876 - 16s - loss: 0.7204 - accuracy: 0.7288 - val_loss: 0.7298 - val_accuracy: 0.7601 - lr: 0.0010 - 16s/epoch - 18ms/step
Epoch 24/50
876/876 - 16s - loss: 0.7199 - accuracy: 0.7298 - val_loss: 0.7075 - val_accuracy: 0.7694 - lr: 0.0010 - 16s/epoch - 19ms/step
Epoch 25/50
876/876 - 18s - loss: 0.7204 - accuracy: 0.7300 - val_loss: 0.7241 - val_accuracy: 0.7578 - lr: 0.0010 - 18s/epoch - 20ms/step
Epoch 26/50
876/876 - 17s - loss: 0.7207 - accuracy: 0.7297 - val_loss: 0.7288 - val_accuracy: 0.7608 - lr: 0.0010 - 17s/epoch - 19ms/step
Epoch 27/50
876/876 - 17s - loss: 0.7188 - accuracy: 0.7301 - val_loss: 0.6927 - val_accuracy: 0.7734 - lr: 0.0010 - 17s/epoch - 19ms/step
Epoch 28/50
876/876 - 18s - loss: 0.7213 - accuracy: 0.7291 - val_loss: 0.7158 - val_accuracy: 0.7687 - lr: 0.0010 - 18s/epoch - 21ms/step
Epoch 29/50
876/876 - 18s - loss: 0.7179 - accuracy: 0.7303 - val_loss: 0.7233 - val_accuracy: 0.7641 - lr: 0.0010 - 18s/epoch - 20ms/step
Epoch 30/50
876/876 - 16s - loss: 0.7184 - accuracy: 0.7309 - val_loss: 0.7206 - val_accuracy: 0.7542 - lr: 0.0010 - 16s/epoch - 18ms/step
Epoch 31/50
876/876 - 17s - loss: 0.7168 - accuracy: 0.7310 - val_loss: 0.7213 - val_accuracy: 0.7630 - lr: 0.0010 - 17s/epoch - 19ms/step
Epoch 32/50
876/876 - 17s - loss: 0.7178 - accuracy: 0.7304 - val_loss: 0.6985 - val_accuracy: 0.7700 - lr: 0.0010 - 17s/epoch - 20ms/step
Epoch 33/50
876/876 - 20s - loss: 0.7177 - accuracy: 0.7293 - val_loss: 0.6827 - val_accuracy: 0.7783 - lr: 0.0010 - 20s/epoch - 23ms/step
Epoch 34/50
876/876 - 18s - loss: 0.7160 - accuracy: 0.7323 - val_loss: 0.7053 - val_accuracy: 0.7672 - lr: 0.0010 - 18s/epoch - 21ms/step
Epoch 35/50
876/876 - 16s - loss: 0.7172 - accuracy: 0.7303 - val_loss: 0.7222 - val_accuracy: 0.7596 - lr: 0.0010 - 16s/epoch - 18ms/step
Epoch 36/50
876/876 - 17s - loss: 0.7179 - accuracy: 0.7309 - val_loss: 0.6745 - val_accuracy: 0.7845 - lr: 0.0010 - 17s/epoch - 19ms/step
Epoch 37/50
876/876 - 17s - loss: 0.7171 - accuracy: 0.7305 - val_loss: 0.7139 - val_accuracy: 0.7709 - lr: 0.0010 - 17s/epoch - 19ms/step
Epoch 38/50
876/876 - 16s - loss: 0.7168 - accuracy: 0.7309 - val_loss: 0.7259 - val_accuracy: 0.7596 - lr: 0.0010 - 16s/epoch - 19ms/step
Epoch 39/50
876/876 - 16s - loss: 0.7150 - accuracy: 0.7319 - val_loss: 0.6952 - val_accuracy: 0.7801 - lr: 0.0010 - 16s/epoch - 19ms/step
Epoch 40/50
876/876 - 16s - loss: 0.7155 - accuracy: 0.7310 - val_loss: 0.7102 - val_accuracy: 0.7702 - lr: 0.0010 - 16s/epoch - 19ms/step
Epoch 41/50
876/876 - 16s - loss: 0.7148 - accuracy: 0.7309 - val_loss: 0.7102 - val_accuracy: 0.7759 - lr: 0.0010 - 16s/epoch - 18ms/step
Epoch 42/50
876/876 - 17s - loss: 0.7164 - accuracy: 0.7325 - val_loss: 0.6857 - val_accuracy: 0.7831 - lr: 0.0010 - 17s/epoch - 19ms/step
Epoch 43/50
876/876 - 16s - loss: 0.7151 - accuracy: 0.7312 - val_loss: 0.7058 - val_accuracy: 0.7624 - lr: 0.0010 - 16s/epoch - 19ms/step
Epoch 44/50
876/876 - 16s - loss: 0.7140 - accuracy: 0.7315 - val_loss: 0.7023 - val_accuracy: 0.7723 - lr: 0.0010 - 16s/epoch - 19ms/step
Epoch 45/50
876/876 - 20s - loss: 0.7133 - accuracy: 0.7320 - val_loss: 0.7054 - val_accuracy: 0.7703 - lr: 0.0010 - 20s/epoch - 23ms/step
Epoch 46/50
876/876 - 17s - loss: 0.7150 - accuracy: 0.7310 - val_loss: 0.6817 - val_accuracy: 0.7863 - lr: 0.0010 - 17s/epoch - 19ms/step
Epoch 47/50
876/876 - 17s - loss: 0.7121 - accuracy: 0.7323 - val_loss: 0.6880 - val_accuracy: 0.7753 - lr: 0.0010 - 17s/epoch - 19ms/step
Epoch 48/50
876/876 - 16s - loss: 0.7133 - accuracy: 0.7335 - val_loss: 0.7341 - val_accuracy: 0.7541 - lr: 0.0010 - 16s/epoch - 18ms/step
Epoch 49/50
876/876 - 16s - loss: 0.7143 - accuracy: 0.7321 - val_loss: 0.6893 - val_accuracy: 0.7819 - lr: 0.0010 - 16s/epoch - 18ms/step
Epoch 50/50
876/876 - 16s - loss: 0.7136 - accuracy: 0.7327 - val_loss: 0.7070 - val_accuracy: 0.7670 - lr: 0.0010 - 16s/epoch - 18ms/step
fitting with batch size: 500
Epoch 1/50
176/176 - 14s - loss: 0.7099 - accuracy: 0.7345 - val_loss: 0.6851 - val_accuracy: 0.7764 - lr: 0.0010 - 14s/epoch - 79ms/step
Epoch 2/50
176/176 - 9s - loss: 0.7091 - accuracy: 0.7345 - val_loss: 0.7206 - val_accuracy: 0.7634 - lr: 0.0010 - 9s/epoch - 49ms/step
Epoch 3/50
176/176 - 8s - loss: 0.7088 - accuracy: 0.7332 - val_loss: 0.6943 - val_accuracy: 0.7719 - lr: 0.0010 - 8s/epoch - 48ms/step
Epoch 4/50
176/176 - 8s - loss: 0.7087 - accuracy: 0.7339 - val_loss: 0.6998 - val_accuracy: 0.7712 - lr: 0.0010 - 8s/epoch - 47ms/step
Epoch 5/50
176/176 - 8s - loss: 0.7102 - accuracy: 0.7317 - val_loss: 0.6886 - val_accuracy: 0.7793 - lr: 0.0010 - 8s/epoch - 47ms/step
Epoch 6/50
176/176 - 8s - loss: 0.7087 - accuracy: 0.7327 - val_loss: 0.7023 - val_accuracy: 0.7712 - lr: 0.0010 - 8s/epoch - 47ms/step
Epoch 7/50
176/176 - 8s - loss: 0.7091 - accuracy: 0.7338 - val_loss: 0.6866 - val_accuracy: 0.7822 - lr: 0.0010 - 8s/epoch - 47ms/step
Epoch 8/50
176/176 - 8s - loss: 0.7092 - accuracy: 0.7347 - val_loss: 0.6958 - val_accuracy: 0.7748 - lr: 0.0010 - 8s/epoch - 47ms/step
Epoch 9/50
176/176 - 8s - loss: 0.7095 - accuracy: 0.7325 - val_loss: 0.6882 - val_accuracy: 0.7810 - lr: 0.0010 - 8s/epoch - 48ms/step
Epoch 10/50
176/176 - 8s - loss: 0.7086 - accuracy: 0.7345 - val_loss: 0.6857 - val_accuracy: 0.7833 - lr: 0.0010 - 8s/epoch - 47ms/step
Epoch 11/50
176/176 - 8s - loss: 0.7098 - accuracy: 0.7350 - val_loss: 0.6816 - val_accuracy: 0.7839 - lr: 0.0010 - 8s/epoch - 47ms/step
Epoch 12/50
176/176 - 8s - loss: 0.7065 - accuracy: 0.7343 - val_loss: 0.6925 - val_accuracy: 0.7772 - lr: 0.0010 - 8s/epoch - 48ms/step
Epoch 13/50
176/176 - 10s - loss: 0.7081 - accuracy: 0.7343 - val_loss: 0.6998 - val_accuracy: 0.7740 - lr: 0.0010 - 10s/epoch - 57ms/step
Epoch 14/50
176/176 - 9s - loss: 0.7087 - accuracy: 0.7346 - val_loss: 0.6979 - val_accuracy: 0.7756 - lr: 0.0010 - 9s/epoch - 52ms/step
Epoch 15/50
176/176 - 9s - loss: 0.7089 - accuracy: 0.7336 - val_loss: 0.7068 - val_accuracy: 0.7684 - lr: 0.0010 - 9s/epoch - 51ms/step
Epoch 16/50
176/176 - 9s - loss: 0.7092 - accuracy: 0.7330 - val_loss: 0.6915 - val_accuracy: 0.7780 - lr: 0.0010 - 9s/epoch - 51ms/step
Epoch 17/50
176/176 - 9s - loss: 0.7094 - accuracy: 0.7351 - val_loss: 0.6969 - val_accuracy: 0.7795 - lr: 0.0010 - 9s/epoch - 51ms/step
Epoch 18/50
176/176 - 9s - loss: 0.7071 - accuracy: 0.7342 - val_loss: 0.7041 - val_accuracy: 0.7737 - lr: 0.0010 - 9s/epoch - 50ms/step
Epoch 19/50
176/176 - 9s - loss: 0.7083 - accuracy: 0.7352 - val_loss: 0.6867 - val_accuracy: 0.7825 - lr: 0.0010 - 9s/epoch - 51ms/step
Epoch 20/50
176/176 - 9s - loss: 0.7083 - accuracy: 0.7326 - val_loss: 0.6856 - val_accuracy: 0.7791 - lr: 0.0010 - 9s/epoch - 51ms/step
Epoch 21/50
176/176 - 9s - loss: 0.7071 - accuracy: 0.7337 - val_loss: 0.6840 - val_accuracy: 0.7802 - lr: 0.0010 - 9s/epoch - 51ms/step
Epoch 22/50
176/176 - 9s - loss: 0.7083 - accuracy: 0.7342 - val_loss: 0.6999 - val_accuracy: 0.7745 - lr: 0.0010 - 9s/epoch - 50ms/step
Epoch 23/50
176/176 - 9s - loss: 0.7081 - accuracy: 0.7335 - val_loss: 0.7004 - val_accuracy: 0.7785 - lr: 0.0010 - 9s/epoch - 53ms/step
Epoch 24/50
176/176 - 9s - loss: 0.7076 - accuracy: 0.7344 - val_loss: 0.6914 - val_accuracy: 0.7775 - lr: 0.0010 - 9s/epoch - 50ms/step
Epoch 25/50
176/176 - 9s - loss: 0.7086 - accuracy: 0.7339 - val_loss: 0.6906 - val_accuracy: 0.7821 - lr: 0.0010 - 9s/epoch - 51ms/step
Epoch 26/50
176/176 - 8s - loss: 0.7083 - accuracy: 0.7354 - val_loss: 0.6818 - val_accuracy: 0.7815 - lr: 0.0010 - 8s/epoch - 47ms/step
Epoch 27/50
176/176 - 9s - loss: 0.7080 - accuracy: 0.7347 - val_loss: 0.6949 - val_accuracy: 0.7791 - lr: 0.0010 - 9s/epoch - 50ms/step
Epoch 28/50
176/176 - 8s - loss: 0.7086 - accuracy: 0.7342 - val_loss: 0.6971 - val_accuracy: 0.7746 - lr: 0.0010 - 8s/epoch - 47ms/step
Epoch 29/50
176/176 - 8s - loss: 0.7077 - accuracy: 0.7351 - val_loss: 0.7076 - val_accuracy: 0.7711 - lr: 0.0010 - 8s/epoch - 47ms/step
Epoch 30/50
176/176 - 8s - loss: 0.7076 - accuracy: 0.7335 - val_loss: 0.7008 - val_accuracy: 0.7775 - lr: 0.0010 - 8s/epoch - 48ms/step
Epoch 31/50
176/176 - 8s - loss: 0.7065 - accuracy: 0.7361 - val_loss: 0.7048 - val_accuracy: 0.7741 - lr: 0.0010 - 8s/epoch - 47ms/step
Epoch 32/50
176/176 - 8s - loss: 0.7075 - accuracy: 0.7357 - val_loss: 0.6925 - val_accuracy: 0.7780 - lr: 0.0010 - 8s/epoch - 47ms/step
Epoch 33/50
176/176 - 8s - loss: 0.7067 - accuracy: 0.7342 - val_loss: 0.6961 - val_accuracy: 0.7754 - lr: 0.0010 - 8s/epoch - 47ms/step
Epoch 34/50
176/176 - 8s - loss: 0.7061 - accuracy: 0.7351 - val_loss: 0.7063 - val_accuracy: 0.7678 - lr: 0.0010 - 8s/epoch - 47ms/step
Epoch 35/50
176/176 - 8s - loss: 0.7066 - accuracy: 0.7340 - val_loss: 0.6917 - val_accuracy: 0.7755 - lr: 0.0010 - 8s/epoch - 48ms/step
Epoch 36/50
176/176 - 8s - loss: 0.7068 - accuracy: 0.7349 - val_loss: 0.6913 - val_accuracy: 0.7793 - lr: 0.0010 - 8s/epoch - 47ms/step
Epoch 37/50
176/176 - 9s - loss: 0.7069 - accuracy: 0.7347 - val_loss: 0.7031 - val_accuracy: 0.7710 - lr: 0.0010 - 9s/epoch - 53ms/step
Epoch 38/50
176/176 - 8s - loss: 0.7071 - accuracy: 0.7351 - val_loss: 0.6919 - val_accuracy: 0.7787 - lr: 0.0010 - 8s/epoch - 48ms/step
Epoch 39/50
176/176 - 8s - loss: 0.7063 - accuracy: 0.7342 - val_loss: 0.6993 - val_accuracy: 0.7690 - lr: 0.0010 - 8s/epoch - 47ms/step
Epoch 40/50
176/176 - 9s - loss: 0.7069 - accuracy: 0.7362 - val_loss: 0.7155 - val_accuracy: 0.7638 - lr: 0.0010 - 9s/epoch - 51ms/step
Epoch 41/50
176/176 - 9s - loss: 0.7054 - accuracy: 0.7356 - val_loss: 0.6883 - val_accuracy: 0.7802 - lr: 0.0010 - 9s/epoch - 50ms/step
Epoch 42/50
176/176 - 8s - loss: 0.7080 - accuracy: 0.7344 - val_loss: 0.6939 - val_accuracy: 0.7767 - lr: 0.0010 - 8s/epoch - 47ms/step
Epoch 43/50
176/176 - 8s - loss: 0.7078 - accuracy: 0.7351 - val_loss: 0.6926 - val_accuracy: 0.7781 - lr: 0.0010 - 8s/epoch - 48ms/step
Epoch 44/50
176/176 - 8s - loss: 0.7067 - accuracy: 0.7345 - val_loss: 0.6930 - val_accuracy: 0.7790 - lr: 0.0010 - 8s/epoch - 48ms/step
Epoch 45/50
176/176 - 8s - loss: 0.7063 - accuracy: 0.7346 - val_loss: 0.7107 - val_accuracy: 0.7674 - lr: 0.0010 - 8s/epoch - 47ms/step
Epoch 46/50
176/176 - 9s - loss: 0.7074 - accuracy: 0.7350 - val_loss: 0.7059 - val_accuracy: 0.7676 - lr: 0.0010 - 9s/epoch - 53ms/step
Epoch 47/50
176/176 - 9s - loss: 0.7066 - accuracy: 0.7344 - val_loss: 0.7017 - val_accuracy: 0.7692 - lr: 0.0010 - 9s/epoch - 53ms/step
Epoch 48/50
176/176 - 9s - loss: 0.7067 - accuracy: 0.7352 - val_loss: 0.6893 - val_accuracy: 0.7764 - lr: 0.0010 - 9s/epoch - 51ms/step
Epoch 49/50
176/176 - 8s - loss: 0.7079 - accuracy: 0.7347 - val_loss: 0.7068 - val_accuracy: 0.7713 - lr: 0.0010 - 8s/epoch - 48ms/step
Epoch 50/50
176/176 - 8s - loss: 0.7055 - accuracy: 0.7366 - val_loss: 0.6935 - val_accuracy: 0.7785 - lr: 0.0010 - 8s/epoch - 47ms/step
fitting with batch size: 1500
Epoch 1/50
59/59 - 9s - loss: 0.7062 - accuracy: 0.7347 - val_loss: 0.6949 - val_accuracy: 0.7767 - lr: 0.0010 - 9s/epoch - 158ms/step
Epoch 2/50
59/59 - 7s - loss: 0.7057 - accuracy: 0.7354 - val_loss: 0.6948 - val_accuracy: 0.7762 - lr: 0.0010 - 7s/epoch - 126ms/step
Epoch 3/50
59/59 - 7s - loss: 0.7064 - accuracy: 0.7350 - val_loss: 0.6967 - val_accuracy: 0.7754 - lr: 0.0010 - 7s/epoch - 126ms/step
Epoch 4/50
59/59 - 8s - loss: 0.7049 - accuracy: 0.7356 - val_loss: 0.6943 - val_accuracy: 0.7760 - lr: 0.0010 - 8s/epoch - 136ms/step
Epoch 5/50
59/59 - 8s - loss: 0.7044 - accuracy: 0.7361 - val_loss: 0.6888 - val_accuracy: 0.7796 - lr: 0.0010 - 8s/epoch - 133ms/step
Epoch 6/50
59/59 - 8s - loss: 0.7054 - accuracy: 0.7349 - val_loss: 0.6956 - val_accuracy: 0.7762 - lr: 0.0010 - 8s/epoch - 128ms/step
Epoch 7/50
59/59 - 7s - loss: 0.7054 - accuracy: 0.7357 - val_loss: 0.6935 - val_accuracy: 0.7766 - lr: 0.0010 - 7s/epoch - 127ms/step
Epoch 8/50
59/59 - 8s - loss: 0.7067 - accuracy: 0.7338 - val_loss: 0.6972 - val_accuracy: 0.7747 - lr: 0.0010 - 8s/epoch - 133ms/step
Epoch 9/50
59/59 - 8s - loss: 0.7055 - accuracy: 0.7358 - val_loss: 0.6930 - val_accuracy: 0.7786 - lr: 0.0010 - 8s/epoch - 137ms/step
Epoch 10/50
59/59 - 8s - loss: 0.7056 - accuracy: 0.7362 - val_loss: 0.6980 - val_accuracy: 0.7754 - lr: 0.0010 - 8s/epoch - 143ms/step
Epoch 11/50
59/59 - 8s - loss: 0.7036 - accuracy: 0.7351 - val_loss: 0.6996 - val_accuracy: 0.7742 - lr: 0.0010 - 8s/epoch - 136ms/step
Epoch 12/50
59/59 - 8s - loss: 0.7054 - accuracy: 0.7353 - val_loss: 0.7004 - val_accuracy: 0.7738 - lr: 0.0010 - 8s/epoch - 135ms/step
Epoch 13/50
59/59 - 8s - loss: 0.7054 - accuracy: 0.7350 - val_loss: 0.6936 - val_accuracy: 0.7781 - lr: 0.0010 - 8s/epoch - 136ms/step
Epoch 14/50
59/59 - 8s - loss: 0.7032 - accuracy: 0.7356 - val_loss: 0.6925 - val_accuracy: 0.7772 - lr: 0.0010 - 8s/epoch - 136ms/step
Epoch 15/50
59/59 - 8s - loss: 0.7045 - accuracy: 0.7344 - val_loss: 0.6943 - val_accuracy: 0.7778 - lr: 0.0010 - 8s/epoch - 136ms/step
Epoch 16/50
59/59 - 8s - loss: 0.7054 - accuracy: 0.7350 - val_loss: 0.6980 - val_accuracy: 0.7758 - lr: 0.0010 - 8s/epoch - 136ms/step
Epoch 17/50
59/59 - 8s - loss: 0.7049 - accuracy: 0.7351 - val_loss: 0.6969 - val_accuracy: 0.7755 - lr: 0.0010 - 8s/epoch - 136ms/step
Epoch 18/50
59/59 - 8s - loss: 0.7052 - accuracy: 0.7352 - val_loss: 0.6892 - val_accuracy: 0.7786 - lr: 0.0010 - 8s/epoch - 138ms/step
Epoch 19/50
59/59 - 8s - loss: 0.7053 - accuracy: 0.7361 - val_loss: 0.6973 - val_accuracy: 0.7757 - lr: 0.0010 - 8s/epoch - 138ms/step
Epoch 20/50
59/59 - 8s - loss: 0.7051 - accuracy: 0.7348 - val_loss: 0.6903 - val_accuracy: 0.7791 - lr: 0.0010 - 8s/epoch - 132ms/step
Epoch 21/50
59/59 - 8s - loss: 0.7056 - accuracy: 0.7353 - val_loss: 0.6919 - val_accuracy: 0.7781 - lr: 0.0010 - 8s/epoch - 128ms/step
Epoch 22/50
59/59 - 8s - loss: 0.7055 - accuracy: 0.7359 - val_loss: 0.6971 - val_accuracy: 0.7750 - lr: 0.0010 - 8s/epoch - 130ms/step
Epoch 23/50
59/59 - 7s - loss: 0.7059 - accuracy: 0.7356 - val_loss: 0.6925 - val_accuracy: 0.7769 - lr: 0.0010 - 7s/epoch - 126ms/step
Epoch 24/50
59/59 - 7s - loss: 0.7041 - accuracy: 0.7370 - val_loss: 0.6949 - val_accuracy: 0.7760 - lr: 0.0010 - 7s/epoch - 126ms/step
Epoch 25/50
59/59 - 7s - loss: 0.7062 - accuracy: 0.7346 - val_loss: 0.6958 - val_accuracy: 0.7756 - lr: 0.0010 - 7s/epoch - 126ms/step
Epoch 26/50
59/59 - 7s - loss: 0.7052 - accuracy: 0.7359 - val_loss: 0.6957 - val_accuracy: 0.7749 - lr: 0.0010 - 7s/epoch - 125ms/step
Epoch 27/50
59/59 - 7s - loss: 0.7050 - accuracy: 0.7358 - val_loss: 0.6941 - val_accuracy: 0.7779 - lr: 0.0010 - 7s/epoch - 126ms/step
Epoch 28/50
59/59 - 7s - loss: 0.7051 - accuracy: 0.7360 - val_loss: 0.6893 - val_accuracy: 0.7808 - lr: 0.0010 - 7s/epoch - 126ms/step
Epoch 29/50
59/59 - 8s - loss: 0.7064 - accuracy: 0.7352 - val_loss: 0.6982 - val_accuracy: 0.7750 - lr: 0.0010 - 8s/epoch - 131ms/step
Epoch 30/50
59/59 - 9s - loss: 0.7039 - accuracy: 0.7355 - val_loss: 0.6993 - val_accuracy: 0.7739 - lr: 0.0010 - 9s/epoch - 149ms/step
Epoch 31/50
59/59 - 9s - loss: 0.7039 - accuracy: 0.7366 - val_loss: 0.6966 - val_accuracy: 0.7748 - lr: 0.0010 - 9s/epoch - 156ms/step
Epoch 32/50
59/59 - 9s - loss: 0.7047 - accuracy: 0.7363 - val_loss: 0.6996 - val_accuracy: 0.7738 - lr: 0.0010 - 9s/epoch - 152ms/step
Epoch 33/50
59/59 - 9s - loss: 0.7049 - accuracy: 0.7353 - val_loss: 0.6986 - val_accuracy: 0.7745 - lr: 0.0010 - 9s/epoch - 153ms/step
Epoch 34/50
59/59 - 9s - loss: 0.7037 - accuracy: 0.7364 - val_loss: 0.6896 - val_accuracy: 0.7765 - lr: 0.0010 - 9s/epoch - 152ms/step
Epoch 35/50
59/59 - 9s - loss: 0.7045 - accuracy: 0.7357 - val_loss: 0.6970 - val_accuracy: 0.7743 - lr: 0.0010 - 9s/epoch - 153ms/step
Epoch 36/50
59/59 - 9s - loss: 0.7047 - accuracy: 0.7367 - val_loss: 0.7032 - val_accuracy: 0.7737 - lr: 0.0010 - 9s/epoch - 153ms/step
Epoch 37/50
59/59 - 9s - loss: 0.7054 - accuracy: 0.7366 - val_loss: 0.6898 - val_accuracy: 0.7785 - lr: 0.0010 - 9s/epoch - 148ms/step
Epoch 38/50
59/59 - 9s - loss: 0.7042 - accuracy: 0.7362 - val_loss: 0.6933 - val_accuracy: 0.7796 - lr: 0.0010 - 9s/epoch - 150ms/step
Epoch 39/50
59/59 - 9s - loss: 0.7055 - accuracy: 0.7354 - val_loss: 0.6911 - val_accuracy: 0.7780 - lr: 0.0010 - 9s/epoch - 153ms/step
Epoch 40/50
59/59 - 9s - loss: 0.7053 - accuracy: 0.7345 - val_loss: 0.7014 - val_accuracy: 0.7737 - lr: 0.0010 - 9s/epoch - 153ms/step
Epoch 41/50
59/59 - 9s - loss: 0.7054 - accuracy: 0.7361 - val_loss: 0.6971 - val_accuracy: 0.7764 - lr: 0.0010 - 9s/epoch - 152ms/step
Epoch 42/50
59/59 - 9s - loss: 0.7035 - accuracy: 0.7355 - val_loss: 0.6906 - val_accuracy: 0.7785 - lr: 0.0010 - 9s/epoch - 154ms/step
Epoch 43/50
59/59 - 9s - loss: 0.7057 - accuracy: 0.7358 - val_loss: 0.6897 - val_accuracy: 0.7783 - lr: 0.0010 - 9s/epoch - 153ms/step
Epoch 44/50
59/59 - 9s - loss: 0.7040 - accuracy: 0.7364 - val_loss: 0.6972 - val_accuracy: 0.7752 - lr: 0.0010 - 9s/epoch - 150ms/step
Epoch 45/50
59/59 - 9s - loss: 0.7028 - accuracy: 0.7363 - val_loss: 0.6939 - val_accuracy: 0.7770 - lr: 0.0010 - 9s/epoch - 149ms/step
Epoch 46/50
59/59 - 9s - loss: 0.7050 - accuracy: 0.7343 - val_loss: 0.6965 - val_accuracy: 0.7746 - lr: 0.0010 - 9s/epoch - 154ms/step
Epoch 47/50
59/59 - 9s - loss: 0.7050 - accuracy: 0.7352 - val_loss: 0.6930 - val_accuracy: 0.7766 - lr: 0.0010 - 9s/epoch - 153ms/step
Epoch 48/50
59/59 - 9s - loss: 0.7046 - accuracy: 0.7354 - val_loss: 0.6926 - val_accuracy: 0.7769 - lr: 0.0010 - 9s/epoch - 152ms/step
Epoch 49/50
59/59 - 9s - loss: 0.7046 - accuracy: 0.7362 - val_loss: 0.6940 - val_accuracy: 0.7762 - lr: 0.0010 - 9s/epoch - 152ms/step
Epoch 50/50
59/59 - 9s - loss: 0.7055 - accuracy: 0.7359 - val_loss: 0.6935 - val_accuracy: 0.7771 - lr: 0.0010 - 9s/epoch - 153ms/step
fitting with batch size: 2500
Epoch 1/50
36/36 - 11s - loss: 0.7043 - accuracy: 0.7356 - val_loss: 0.6891 - val_accuracy: 0.7781 - lr: 0.0010 - 11s/epoch - 296ms/step
Epoch 2/50
36/36 - 8s - loss: 0.7041 - accuracy: 0.7359 - val_loss: 0.7020 - val_accuracy: 0.7739 - lr: 0.0010 - 8s/epoch - 236ms/step
Epoch 3/50
36/36 - 9s - loss: 0.7053 - accuracy: 0.7354 - val_loss: 0.6944 - val_accuracy: 0.7758 - lr: 0.0010 - 9s/epoch - 242ms/step
Epoch 4/50
36/36 - 9s - loss: 0.7038 - accuracy: 0.7353 - val_loss: 0.6952 - val_accuracy: 0.7764 - lr: 0.0010 - 9s/epoch - 241ms/step
Epoch 5/50
36/36 - 9s - loss: 0.7041 - accuracy: 0.7360 - val_loss: 0.6978 - val_accuracy: 0.7759 - lr: 0.0010 - 9s/epoch - 242ms/step
Epoch 6/50
36/36 - 9s - loss: 0.7053 - accuracy: 0.7354 - val_loss: 0.6901 - val_accuracy: 0.7834 - lr: 0.0010 - 9s/epoch - 242ms/step
Epoch 7/50
36/36 - 9s - loss: 0.7041 - accuracy: 0.7355 - val_loss: 0.6918 - val_accuracy: 0.7807 - lr: 0.0010 - 9s/epoch - 243ms/step
Epoch 8/50
36/36 - 9s - loss: 0.7053 - accuracy: 0.7347 - val_loss: 0.7008 - val_accuracy: 0.7772 - lr: 0.0010 - 9s/epoch - 240ms/step
Epoch 9/50
36/36 - 8s - loss: 0.7036 - accuracy: 0.7363 - val_loss: 0.6869 - val_accuracy: 0.7826 - lr: 0.0010 - 8s/epoch - 236ms/step
Epoch 10/50
36/36 - 9s - loss: 0.7044 - accuracy: 0.7358 - val_loss: 0.6975 - val_accuracy: 0.7760 - lr: 0.0010 - 9s/epoch - 239ms/step
Epoch 11/50
36/36 - 9s - loss: 0.7048 - accuracy: 0.7363 - val_loss: 0.6895 - val_accuracy: 0.7828 - lr: 0.0010 - 9s/epoch - 241ms/step
Epoch 12/50
36/36 - 9s - loss: 0.7049 - accuracy: 0.7356 - val_loss: 0.6888 - val_accuracy: 0.7808 - lr: 0.0010 - 9s/epoch - 241ms/step
Epoch 13/50
36/36 - 9s - loss: 0.7032 - accuracy: 0.7360 - val_loss: 0.7105 - val_accuracy: 0.7682 - lr: 0.0010 - 9s/epoch - 241ms/step
Epoch 14/50
36/36 - 9s - loss: 0.7055 - accuracy: 0.7362 - val_loss: 0.6822 - val_accuracy: 0.7822 - lr: 0.0010 - 9s/epoch - 242ms/step
Epoch 15/50
36/36 - 9s - loss: 0.7041 - accuracy: 0.7359 - val_loss: 0.6887 - val_accuracy: 0.7777 - lr: 0.0010 - 9s/epoch - 243ms/step
Epoch 16/50
36/36 - 9s - loss: 0.7047 - accuracy: 0.7362 - val_loss: 0.6905 - val_accuracy: 0.7751 - lr: 0.0010 - 9s/epoch - 238ms/step
Epoch 17/50
36/36 - 9s - loss: 0.7036 - accuracy: 0.7356 - val_loss: 0.6993 - val_accuracy: 0.7731 - lr: 0.0010 - 9s/epoch - 236ms/step
Epoch 18/50
36/36 - 9s - loss: 0.7053 - accuracy: 0.7364 - val_loss: 0.6980 - val_accuracy: 0.7757 - lr: 0.0010 - 9s/epoch - 242ms/step
Epoch 19/50
36/36 - 9s - loss: 0.7048 - accuracy: 0.7349 - val_loss: 0.7042 - val_accuracy: 0.7763 - lr: 0.0010 - 9s/epoch - 242ms/step
Epoch 20/50
36/36 - 9s - loss: 0.7044 - accuracy: 0.7358 - val_loss: 0.7136 - val_accuracy: 0.7674 - lr: 0.0010 - 9s/epoch - 242ms/step
Epoch 21/50
36/36 - 9s - loss: 0.7051 - accuracy: 0.7358 - val_loss: 0.7036 - val_accuracy: 0.7709 - lr: 0.0010 - 9s/epoch - 241ms/step
Epoch 22/50
36/36 - 9s - loss: 0.7054 - accuracy: 0.7351 - val_loss: 0.7065 - val_accuracy: 0.7727 - lr: 0.0010 - 9s/epoch - 243ms/step
Epoch 23/50
36/36 - 9s - loss: 0.7049 - accuracy: 0.7360 - val_loss: 0.6956 - val_accuracy: 0.7738 - lr: 0.0010 - 9s/epoch - 257ms/step
Epoch 24/50
36/36 - 9s - loss: 0.7053 - accuracy: 0.7358 - val_loss: 0.6868 - val_accuracy: 0.7805 - lr: 0.0010 - 9s/epoch - 255ms/step
Epoch 25/50
36/36 - 10s - loss: 0.7045 - accuracy: 0.7358 - val_loss: 0.6908 - val_accuracy: 0.7753 - lr: 0.0010 - 10s/epoch - 273ms/step
Epoch 26/50
36/36 - 10s - loss: 0.7062 - accuracy: 0.7344 - val_loss: 0.6898 - val_accuracy: 0.7796 - lr: 0.0010 - 10s/epoch - 277ms/step
Epoch 27/50
36/36 - 10s - loss: 0.7045 - accuracy: 0.7357 - val_loss: 0.6910 - val_accuracy: 0.7801 - lr: 0.0010 - 10s/epoch - 268ms/step
Epoch 28/50
36/36 - 9s - loss: 0.7053 - accuracy: 0.7350 - val_loss: 0.6908 - val_accuracy: 0.7776 - lr: 0.0010 - 9s/epoch - 254ms/step
Epoch 29/50
36/36 - 9s - loss: 0.7046 - accuracy: 0.7344 - val_loss: 0.6995 - val_accuracy: 0.7720 - lr: 0.0010 - 9s/epoch - 261ms/step
Epoch 30/50
36/36 - 10s - loss: 0.7048 - accuracy: 0.7354 - val_loss: 0.6929 - val_accuracy: 0.7756 - lr: 0.0010 - 10s/epoch - 287ms/step
Epoch 31/50
36/36 - 10s - loss: 0.7042 - accuracy: 0.7367 - val_loss: 0.6830 - val_accuracy: 0.7818 - lr: 0.0010 - 10s/epoch - 277ms/step
Epoch 32/50
36/36 - 10s - loss: 0.7059 - accuracy: 0.7351 - val_loss: 0.6883 - val_accuracy: 0.7807 - lr: 0.0010 - 10s/epoch - 280ms/step
Epoch 33/50
36/36 - 11s - loss: 0.7050 - accuracy: 0.7353 - val_loss: 0.6768 - val_accuracy: 0.7833 - lr: 0.0010 - 11s/epoch - 301ms/step
Epoch 34/50
36/36 - 10s - loss: 0.7045 - accuracy: 0.7366 - val_loss: 0.6855 - val_accuracy: 0.7796 - lr: 0.0010 - 10s/epoch - 286ms/step
Epoch 35/50
36/36 - 10s - loss: 0.7044 - accuracy: 0.7360 - val_loss: 0.6977 - val_accuracy: 0.7778 - lr: 0.0010 - 10s/epoch - 273ms/step
Epoch 36/50
36/36 - 10s - loss: 0.7056 - accuracy: 0.7363 - val_loss: 0.6816 - val_accuracy: 0.7808 - lr: 0.0010 - 10s/epoch - 267ms/step
Epoch 37/50
36/36 - 9s - loss: 0.7036 - accuracy: 0.7364 - val_loss: 0.6887 - val_accuracy: 0.7776 - lr: 0.0010 - 9s/epoch - 252ms/step
Epoch 38/50
36/36 - 9s - loss: 0.7051 - accuracy: 0.7357 - val_loss: 0.7020 - val_accuracy: 0.7733 - lr: 0.0010 - 9s/epoch - 249ms/step
Epoch 39/50
36/36 - 9s - loss: 0.7038 - accuracy: 0.7370 - val_loss: 0.6893 - val_accuracy: 0.7814 - lr: 0.0010 - 9s/epoch - 264ms/step
Epoch 40/50
36/36 - 9s - loss: 0.7047 - accuracy: 0.7355 - val_loss: 0.7016 - val_accuracy: 0.7705 - lr: 0.0010 - 9s/epoch - 260ms/step
Epoch 41/50
36/36 - 9s - loss: 0.7061 - accuracy: 0.7359 - val_loss: 0.6811 - val_accuracy: 0.7819 - lr: 0.0010 - 9s/epoch - 250ms/step
Epoch 42/50
36/36 - 9s - loss: 0.7041 - accuracy: 0.7365 - val_loss: 0.6938 - val_accuracy: 0.7762 - lr: 0.0010 - 9s/epoch - 241ms/step
Epoch 43/50
36/36 - 9s - loss: 0.7057 - accuracy: 0.7358 - val_loss: 0.6947 - val_accuracy: 0.7795 - lr: 0.0010 - 9s/epoch - 241ms/step
Epoch 44/50
36/36 - 9s - loss: 0.7047 - accuracy: 0.7358 - val_loss: 0.6867 - val_accuracy: 0.7783 - lr: 0.0010 - 9s/epoch - 239ms/step
Epoch 45/50
36/36 - 8s - loss: 0.7043 - accuracy: 0.7365 - val_loss: 0.6936 - val_accuracy: 0.7758 - lr: 0.0010 - 8s/epoch - 234ms/step
Epoch 46/50
36/36 - 9s - loss: 0.7033 - accuracy: 0.7365 - val_loss: 0.6995 - val_accuracy: 0.7746 - lr: 0.0010 - 9s/epoch - 239ms/step
Epoch 47/50
36/36 - 9s - loss: 0.7062 - accuracy: 0.7360 - val_loss: 0.6983 - val_accuracy: 0.7755 - lr: 0.0010 - 9s/epoch - 241ms/step
Epoch 48/50
36/36 - 9s - loss: 0.7037 - accuracy: 0.7361 - val_loss: 0.6941 - val_accuracy: 0.7773 - lr: 0.0010 - 9s/epoch - 241ms/step
Epoch 49/50
36/36 - 9s - loss: 0.7036 - accuracy: 0.7370 - val_loss: 0.6876 - val_accuracy: 0.7807 - lr: 0.0010 - 9s/epoch - 245ms/step
Epoch 50/50
36/36 - 9s - loss: 0.7036 - accuracy: 0.7365 - val_loss: 0.6972 - val_accuracy: 0.7777 - lr: 0.0010 - 9s/epoch - 249ms/step
Loss: binary_crossentropy
Epoch number: 25
fitting with batch size: 20
Epoch 1/25
4378/4378 - 73s - loss: 0.2429 - accuracy: 0.7326 - val_loss: 0.2553 - val_accuracy: 0.7599 - lr: 0.0010 - 73s/epoch - 17ms/step
Epoch 2/25
4378/4378 - 71s - loss: 0.2432 - accuracy: 0.7326 - val_loss: 0.2547 - val_accuracy: 0.7686 - lr: 0.0010 - 71s/epoch - 16ms/step
Epoch 3/25
4378/4378 - 71s - loss: 0.2434 - accuracy: 0.7320 - val_loss: 0.2543 - val_accuracy: 0.7669 - lr: 0.0010 - 71s/epoch - 16ms/step
Epoch 4/25
4378/4378 - 70s - loss: 0.2430 - accuracy: 0.7321 - val_loss: 0.2516 - val_accuracy: 0.7784 - lr: 0.0010 - 70s/epoch - 16ms/step
Epoch 5/25
4378/4378 - 70s - loss: 0.2426 - accuracy: 0.7325 - val_loss: 0.2470 - val_accuracy: 0.7771 - lr: 0.0010 - 70s/epoch - 16ms/step
Epoch 6/25
4378/4378 - 70s - loss: 0.2429 - accuracy: 0.7312 - val_loss: 0.2543 - val_accuracy: 0.7656 - lr: 0.0010 - 70s/epoch - 16ms/step
Epoch 7/25
4378/4378 - 70s - loss: 0.2425 - accuracy: 0.7337 - val_loss: 0.2562 - val_accuracy: 0.7645 - lr: 0.0010 - 70s/epoch - 16ms/step
Epoch 8/25
4378/4378 - 70s - loss: 0.2425 - accuracy: 0.7330 - val_loss: 0.2483 - val_accuracy: 0.7699 - lr: 0.0010 - 70s/epoch - 16ms/step
Epoch 9/25
4378/4378 - 70s - loss: 0.2423 - accuracy: 0.7332 - val_loss: 0.2505 - val_accuracy: 0.7710 - lr: 0.0010 - 70s/epoch - 16ms/step
Epoch 10/25
4378/4378 - 70s - loss: 0.2419 - accuracy: 0.7334 - val_loss: 0.2428 - val_accuracy: 0.7822 - lr: 0.0010 - 70s/epoch - 16ms/step
Epoch 11/25
4378/4378 - 70s - loss: 0.2419 - accuracy: 0.7339 - val_loss: 0.2506 - val_accuracy: 0.7703 - lr: 0.0010 - 70s/epoch - 16ms/step
Epoch 12/25
4378/4378 - 70s - loss: 0.2420 - accuracy: 0.7330 - val_loss: 0.2461 - val_accuracy: 0.7724 - lr: 0.0010 - 70s/epoch - 16ms/step
Epoch 13/25
4378/4378 - 70s - loss: 0.2417 - accuracy: 0.7348 - val_loss: 0.2480 - val_accuracy: 0.7695 - lr: 0.0010 - 70s/epoch - 16ms/step
Epoch 14/25
4378/4378 - 70s - loss: 0.2419 - accuracy: 0.7337 - val_loss: 0.2507 - val_accuracy: 0.7747 - lr: 0.0010 - 70s/epoch - 16ms/step
Epoch 15/25
4378/4378 - 71s - loss: 0.2413 - accuracy: 0.7344 - val_loss: 0.2579 - val_accuracy: 0.7553 - lr: 0.0010 - 71s/epoch - 16ms/step
Epoch 16/25
4378/4378 - 70s - loss: 0.2416 - accuracy: 0.7338 - val_loss: 0.2626 - val_accuracy: 0.7520 - lr: 0.0010 - 70s/epoch - 16ms/step
Epoch 17/25
4378/4378 - 70s - loss: 0.2416 - accuracy: 0.7346 - val_loss: 0.2624 - val_accuracy: 0.7587 - lr: 0.0010 - 70s/epoch - 16ms/step
Epoch 18/25
4378/4378 - 70s - loss: 0.2417 - accuracy: 0.7341 - val_loss: 0.2497 - val_accuracy: 0.7814 - lr: 0.0010 - 70s/epoch - 16ms/step
Epoch 19/25
4378/4378 - 70s - loss: 0.2410 - accuracy: 0.7355 - val_loss: 0.2446 - val_accuracy: 0.7814 - lr: 0.0010 - 70s/epoch - 16ms/step
Epoch 20/25
4378/4378 - 70s - loss: 0.2412 - accuracy: 0.7345 - val_loss: 0.2445 - val_accuracy: 0.7828 - lr: 0.0010 - 70s/epoch - 16ms/step
Epoch 21/25
4378/4378 - 70s - loss: 0.2409 - accuracy: 0.7358 - val_loss: 0.2428 - val_accuracy: 0.7888 - lr: 0.0010 - 70s/epoch - 16ms/step
Epoch 22/25
4378/4378 - 70s - loss: 0.2407 - accuracy: 0.7356 - val_loss: 0.2477 - val_accuracy: 0.7725 - lr: 0.0010 - 70s/epoch - 16ms/step
Epoch 23/25
4378/4378 - 70s - loss: 0.2404 - accuracy: 0.7357 - val_loss: 0.2490 - val_accuracy: 0.7669 - lr: 0.0010 - 70s/epoch - 16ms/step
Epoch 24/25
4378/4378 - 70s - loss: 0.2406 - accuracy: 0.7350 - val_loss: 0.2491 - val_accuracy: 0.7844 - lr: 0.0010 - 70s/epoch - 16ms/step
Epoch 25/25
4378/4378 - 70s - loss: 0.2408 - accuracy: 0.7350 - val_loss: 0.2514 - val_accuracy: 0.7679 - lr: 0.0010 - 70s/epoch - 16ms/step
fitting with batch size: 100
Epoch 1/25
876/876 - 20s - loss: 0.2381 - accuracy: 0.7380 - val_loss: 0.2504 - val_accuracy: 0.7706 - lr: 0.0010 - 20s/epoch - 23ms/step
Epoch 2/25
876/876 - 18s - loss: 0.2380 - accuracy: 0.7382 - val_loss: 0.2476 - val_accuracy: 0.7754 - lr: 0.0010 - 18s/epoch - 20ms/step
Epoch 3/25
876/876 - 18s - loss: 0.2375 - accuracy: 0.7392 - val_loss: 0.2464 - val_accuracy: 0.7800 - lr: 0.0010 - 18s/epoch - 20ms/step
Epoch 4/25
876/876 - 18s - loss: 0.2380 - accuracy: 0.7394 - val_loss: 0.2521 - val_accuracy: 0.7711 - lr: 0.0010 - 18s/epoch - 20ms/step
Epoch 5/25
876/876 - 17s - loss: 0.2382 - accuracy: 0.7398 - val_loss: 0.2468 - val_accuracy: 0.7771 - lr: 0.0010 - 17s/epoch - 20ms/step
Epoch 6/25
876/876 - 17s - loss: 0.2384 - accuracy: 0.7388 - val_loss: 0.2461 - val_accuracy: 0.7839 - lr: 0.0010 - 17s/epoch - 20ms/step
Epoch 7/25
876/876 - 18s - loss: 0.2378 - accuracy: 0.7382 - val_loss: 0.2476 - val_accuracy: 0.7788 - lr: 0.0010 - 18s/epoch - 20ms/step
Epoch 8/25
876/876 - 18s - loss: 0.2383 - accuracy: 0.7374 - val_loss: 0.2455 - val_accuracy: 0.7812 - lr: 0.0010 - 18s/epoch - 20ms/step
Epoch 9/25
876/876 - 18s - loss: 0.2379 - accuracy: 0.7390 - val_loss: 0.2466 - val_accuracy: 0.7774 - lr: 0.0010 - 18s/epoch - 20ms/step
Epoch 10/25
876/876 - 18s - loss: 0.2377 - accuracy: 0.7392 - val_loss: 0.2444 - val_accuracy: 0.7848 - lr: 0.0010 - 18s/epoch - 20ms/step
Epoch 11/25
876/876 - 18s - loss: 0.2376 - accuracy: 0.7381 - val_loss: 0.2517 - val_accuracy: 0.7713 - lr: 0.0010 - 18s/epoch - 20ms/step
Epoch 12/25
876/876 - 18s - loss: 0.2376 - accuracy: 0.7393 - val_loss: 0.2457 - val_accuracy: 0.7815 - lr: 0.0010 - 18s/epoch - 20ms/step
Epoch 13/25
876/876 - 18s - loss: 0.2373 - accuracy: 0.7402 - val_loss: 0.2491 - val_accuracy: 0.7770 - lr: 0.0010 - 18s/epoch - 20ms/step
Epoch 14/25
876/876 - 18s - loss: 0.2377 - accuracy: 0.7395 - val_loss: 0.2472 - val_accuracy: 0.7765 - lr: 0.0010 - 18s/epoch - 20ms/step
Epoch 15/25
876/876 - 18s - loss: 0.2377 - accuracy: 0.7395 - val_loss: 0.2471 - val_accuracy: 0.7781 - lr: 0.0010 - 18s/epoch - 20ms/step
Epoch 16/25
876/876 - 18s - loss: 0.2377 - accuracy: 0.7392 - val_loss: 0.2472 - val_accuracy: 0.7801 - lr: 0.0010 - 18s/epoch - 20ms/step
Epoch 17/25
876/876 - 18s - loss: 0.2372 - accuracy: 0.7402 - val_loss: 0.2496 - val_accuracy: 0.7724 - lr: 0.0010 - 18s/epoch - 20ms/step
Epoch 18/25
876/876 - 18s - loss: 0.2375 - accuracy: 0.7390 - val_loss: 0.2480 - val_accuracy: 0.7770 - lr: 0.0010 - 18s/epoch - 20ms/step
Epoch 19/25
876/876 - 18s - loss: 0.2379 - accuracy: 0.7387 - val_loss: 0.2483 - val_accuracy: 0.7776 - lr: 0.0010 - 18s/epoch - 20ms/step
Epoch 20/25
876/876 - 18s - loss: 0.2377 - accuracy: 0.7394 - val_loss: 0.2451 - val_accuracy: 0.7797 - lr: 0.0010 - 18s/epoch - 20ms/step
Epoch 21/25
876/876 - 17s - loss: 0.2370 - accuracy: 0.7401 - val_loss: 0.2473 - val_accuracy: 0.7765 - lr: 0.0010 - 17s/epoch - 20ms/step
Epoch 22/25
876/876 - 17s - loss: 0.2377 - accuracy: 0.7390 - val_loss: 0.2483 - val_accuracy: 0.7761 - lr: 0.0010 - 17s/epoch - 20ms/step
Epoch 23/25
876/876 - 18s - loss: 0.2373 - accuracy: 0.7401 - val_loss: 0.2503 - val_accuracy: 0.7742 - lr: 0.0010 - 18s/epoch - 20ms/step
Epoch 24/25
876/876 - 18s - loss: 0.2376 - accuracy: 0.7396 - val_loss: 0.2485 - val_accuracy: 0.7758 - lr: 0.0010 - 18s/epoch - 20ms/step
Epoch 25/25
876/876 - 17s - loss: 0.2370 - accuracy: 0.7404 - val_loss: 0.2433 - val_accuracy: 0.7827 - lr: 0.0010 - 17s/epoch - 20ms/step
fitting with batch size: 500
Epoch 1/25
176/176 - 12s - loss: 0.2369 - accuracy: 0.7396 - val_loss: 0.2464 - val_accuracy: 0.7791 - lr: 0.0010 - 12s/epoch - 70ms/step
Epoch 2/25
176/176 - 10s - loss: 0.2372 - accuracy: 0.7406 - val_loss: 0.2455 - val_accuracy: 0.7808 - lr: 0.0010 - 10s/epoch - 55ms/step
Epoch 3/25
176/176 - 10s - loss: 0.2366 - accuracy: 0.7408 - val_loss: 0.2465 - val_accuracy: 0.7793 - lr: 0.0010 - 10s/epoch - 55ms/step
Epoch 4/25
176/176 - 10s - loss: 0.2369 - accuracy: 0.7394 - val_loss: 0.2485 - val_accuracy: 0.7771 - lr: 0.0010 - 10s/epoch - 55ms/step
Epoch 5/25
176/176 - 10s - loss: 0.2367 - accuracy: 0.7404 - val_loss: 0.2478 - val_accuracy: 0.7777 - lr: 0.0010 - 10s/epoch - 55ms/step
Epoch 6/25
176/176 - 10s - loss: 0.2363 - accuracy: 0.7413 - val_loss: 0.2460 - val_accuracy: 0.7808 - lr: 0.0010 - 10s/epoch - 55ms/step
Epoch 7/25
176/176 - 10s - loss: 0.2367 - accuracy: 0.7398 - val_loss: 0.2463 - val_accuracy: 0.7793 - lr: 0.0010 - 10s/epoch - 55ms/step
Epoch 8/25
176/176 - 10s - loss: 0.2367 - accuracy: 0.7410 - val_loss: 0.2475 - val_accuracy: 0.7774 - lr: 0.0010 - 10s/epoch - 56ms/step
Epoch 9/25
176/176 - 10s - loss: 0.2362 - accuracy: 0.7408 - val_loss: 0.2449 - val_accuracy: 0.7821 - lr: 0.0010 - 10s/epoch - 55ms/step
Epoch 10/25
176/176 - 10s - loss: 0.2366 - accuracy: 0.7405 - val_loss: 0.2454 - val_accuracy: 0.7810 - lr: 0.0010 - 10s/epoch - 56ms/step
Epoch 11/25
176/176 - 10s - loss: 0.2368 - accuracy: 0.7410 - val_loss: 0.2461 - val_accuracy: 0.7794 - lr: 0.0010 - 10s/epoch - 55ms/step
Epoch 12/25
176/176 - 10s - loss: 0.2370 - accuracy: 0.7385 - val_loss: 0.2483 - val_accuracy: 0.7772 - lr: 0.0010 - 10s/epoch - 55ms/step
Epoch 13/25
176/176 - 10s - loss: 0.2366 - accuracy: 0.7403 - val_loss: 0.2452 - val_accuracy: 0.7815 - lr: 0.0010 - 10s/epoch - 55ms/step
Epoch 14/25
176/176 - 10s - loss: 0.2363 - accuracy: 0.7400 - val_loss: 0.2480 - val_accuracy: 0.7771 - lr: 0.0010 - 10s/epoch - 55ms/step
Epoch 15/25
176/176 - 10s - loss: 0.2366 - accuracy: 0.7396 - val_loss: 0.2482 - val_accuracy: 0.7763 - lr: 0.0010 - 10s/epoch - 55ms/step
Epoch 16/25
176/176 - 10s - loss: 0.2360 - accuracy: 0.7415 - val_loss: 0.2464 - val_accuracy: 0.7791 - lr: 0.0010 - 10s/epoch - 55ms/step
Epoch 17/25
176/176 - 10s - loss: 0.2367 - accuracy: 0.7409 - val_loss: 0.2465 - val_accuracy: 0.7785 - lr: 0.0010 - 10s/epoch - 55ms/step
Epoch 18/25
176/176 - 10s - loss: 0.2364 - accuracy: 0.7406 - val_loss: 0.2471 - val_accuracy: 0.7786 - lr: 0.0010 - 10s/epoch - 55ms/step
Epoch 19/25
176/176 - 10s - loss: 0.2366 - accuracy: 0.7402 - val_loss: 0.2469 - val_accuracy: 0.7791 - lr: 0.0010 - 10s/epoch - 55ms/step
Epoch 20/25
176/176 - 10s - loss: 0.2366 - accuracy: 0.7411 - val_loss: 0.2454 - val_accuracy: 0.7807 - lr: 0.0010 - 10s/epoch - 55ms/step
Epoch 21/25
176/176 - 10s - loss: 0.2369 - accuracy: 0.7408 - val_loss: 0.2480 - val_accuracy: 0.7775 - lr: 0.0010 - 10s/epoch - 55ms/step
Epoch 22/25
176/176 - 10s - loss: 0.2367 - accuracy: 0.7406 - val_loss: 0.2469 - val_accuracy: 0.7790 - lr: 0.0010 - 10s/epoch - 55ms/step
Epoch 23/25
176/176 - 10s - loss: 0.2363 - accuracy: 0.7407 - val_loss: 0.2485 - val_accuracy: 0.7773 - lr: 0.0010 - 10s/epoch - 55ms/step
Epoch 24/25
176/176 - 10s - loss: 0.2365 - accuracy: 0.7420 - val_loss: 0.2460 - val_accuracy: 0.7791 - lr: 0.0010 - 10s/epoch - 55ms/step
Epoch 25/25
176/176 - 10s - loss: 0.2366 - accuracy: 0.7410 - val_loss: 0.2471 - val_accuracy: 0.7782 - lr: 0.0010 - 10s/epoch - 55ms/step
fitting with batch size: 1500
Epoch 1/25
59/59 - 11s - loss: 0.2365 - accuracy: 0.7414 - val_loss: 0.2471 - val_accuracy: 0.7781 - lr: 0.0010 - 11s/epoch - 187ms/step
Epoch 2/25
59/59 - 9s - loss: 0.2366 - accuracy: 0.7408 - val_loss: 0.2468 - val_accuracy: 0.7790 - lr: 0.0010 - 9s/epoch - 149ms/step
Epoch 3/25
59/59 - 9s - loss: 0.2362 - accuracy: 0.7415 - val_loss: 0.2473 - val_accuracy: 0.7779 - lr: 0.0010 - 9s/epoch - 152ms/step
Epoch 4/25
59/59 - 9s - loss: 0.2363 - accuracy: 0.7403 - val_loss: 0.2477 - val_accuracy: 0.7780 - lr: 0.0010 - 9s/epoch - 154ms/step
Epoch 5/25
59/59 - 9s - loss: 0.2365 - accuracy: 0.7412 - val_loss: 0.2472 - val_accuracy: 0.7789 - lr: 0.0010 - 9s/epoch - 152ms/step
Epoch 6/25
59/59 - 9s - loss: 0.2359 - accuracy: 0.7413 - val_loss: 0.2484 - val_accuracy: 0.7772 - lr: 0.0010 - 9s/epoch - 154ms/step
Epoch 7/25
59/59 - 9s - loss: 0.2365 - accuracy: 0.7428 - val_loss: 0.2471 - val_accuracy: 0.7788 - lr: 0.0010 - 9s/epoch - 153ms/step
Epoch 8/25
59/59 - 9s - loss: 0.2363 - accuracy: 0.7402 - val_loss: 0.2477 - val_accuracy: 0.7775 - lr: 0.0010 - 9s/epoch - 151ms/step
Epoch 9/25
59/59 - 9s - loss: 0.2363 - accuracy: 0.7397 - val_loss: 0.2480 - val_accuracy: 0.7777 - lr: 0.0010 - 9s/epoch - 147ms/step
Epoch 10/25
59/59 - 9s - loss: 0.2362 - accuracy: 0.7414 - val_loss: 0.2472 - val_accuracy: 0.7787 - lr: 0.0010 - 9s/epoch - 153ms/step
Epoch 11/25
59/59 - 9s - loss: 0.2358 - accuracy: 0.7417 - val_loss: 0.2465 - val_accuracy: 0.7795 - lr: 0.0010 - 9s/epoch - 153ms/step
Epoch 12/25
59/59 - 9s - loss: 0.2362 - accuracy: 0.7417 - val_loss: 0.2464 - val_accuracy: 0.7793 - lr: 0.0010 - 9s/epoch - 152ms/step
Epoch 13/25
59/59 - 9s - loss: 0.2366 - accuracy: 0.7405 - val_loss: 0.2474 - val_accuracy: 0.7779 - lr: 0.0010 - 9s/epoch - 154ms/step
Epoch 14/25
59/59 - 9s - loss: 0.2366 - accuracy: 0.7405 - val_loss: 0.2481 - val_accuracy: 0.7769 - lr: 0.0010 - 9s/epoch - 153ms/step
Epoch 15/25
59/59 - 9s - loss: 0.2362 - accuracy: 0.7417 - val_loss: 0.2469 - val_accuracy: 0.7784 - lr: 0.0010 - 9s/epoch - 152ms/step
Epoch 16/25
59/59 - 9s - loss: 0.2366 - accuracy: 0.7403 - val_loss: 0.2474 - val_accuracy: 0.7783 - lr: 0.0010 - 9s/epoch - 148ms/step
Epoch 17/25
59/59 - 9s - loss: 0.2367 - accuracy: 0.7396 - val_loss: 0.2479 - val_accuracy: 0.7778 - lr: 0.0010 - 9s/epoch - 152ms/step
Epoch 18/25
59/59 - 9s - loss: 0.2362 - accuracy: 0.7416 - val_loss: 0.2463 - val_accuracy: 0.7801 - lr: 0.0010 - 9s/epoch - 153ms/step
Epoch 19/25
59/59 - 9s - loss: 0.2362 - accuracy: 0.7411 - val_loss: 0.2469 - val_accuracy: 0.7790 - lr: 0.0010 - 9s/epoch - 153ms/step
Epoch 20/25
59/59 - 9s - loss: 0.2357 - accuracy: 0.7414 - val_loss: 0.2469 - val_accuracy: 0.7790 - lr: 0.0010 - 9s/epoch - 153ms/step
Epoch 21/25
59/59 - 9s - loss: 0.2363 - accuracy: 0.7416 - val_loss: 0.2466 - val_accuracy: 0.7792 - lr: 0.0010 - 9s/epoch - 154ms/step
Epoch 22/25
59/59 - 9s - loss: 0.2364 - accuracy: 0.7414 - val_loss: 0.2466 - val_accuracy: 0.7795 - lr: 0.0010 - 9s/epoch - 153ms/step
Epoch 23/25
59/59 - 9s - loss: 0.2359 - accuracy: 0.7408 - val_loss: 0.2475 - val_accuracy: 0.7781 - lr: 0.0010 - 9s/epoch - 148ms/step
Epoch 24/25
59/59 - 9s - loss: 0.2369 - accuracy: 0.7401 - val_loss: 0.2469 - val_accuracy: 0.7796 - lr: 0.0010 - 9s/epoch - 150ms/step
Epoch 25/25
59/59 - 9s - loss: 0.2358 - accuracy: 0.7412 - val_loss: 0.2478 - val_accuracy: 0.7782 - lr: 0.0010 - 9s/epoch - 154ms/step
fitting with batch size: 2500
Epoch 1/25
36/36 - 11s - loss: 0.2363 - accuracy: 0.7410 - val_loss: 0.2485 - val_accuracy: 0.7755 - lr: 0.0010 - 11s/epoch - 300ms/step
Epoch 2/25
36/36 - 9s - loss: 0.2364 - accuracy: 0.7414 - val_loss: 0.2487 - val_accuracy: 0.7763 - lr: 0.0010 - 9s/epoch - 240ms/step
Epoch 3/25
36/36 - 9s - loss: 0.2365 - accuracy: 0.7410 - val_loss: 0.2476 - val_accuracy: 0.7775 - lr: 0.0010 - 9s/epoch - 242ms/step
Epoch 4/25
36/36 - 9s - loss: 0.2368 - accuracy: 0.7400 - val_loss: 0.2473 - val_accuracy: 0.7784 - lr: 0.0010 - 9s/epoch - 241ms/step
Epoch 5/25
36/36 - 9s - loss: 0.2363 - accuracy: 0.7424 - val_loss: 0.2487 - val_accuracy: 0.7752 - lr: 0.0010 - 9s/epoch - 237ms/step
Epoch 6/25
36/36 - 9s - loss: 0.2368 - accuracy: 0.7398 - val_loss: 0.2483 - val_accuracy: 0.7761 - lr: 0.0010 - 9s/epoch - 236ms/step
Epoch 7/25
36/36 - 9s - loss: 0.2361 - accuracy: 0.7416 - val_loss: 0.2466 - val_accuracy: 0.7789 - lr: 0.0010 - 9s/epoch - 242ms/step
Epoch 8/25
36/36 - 9s - loss: 0.2362 - accuracy: 0.7404 - val_loss: 0.2470 - val_accuracy: 0.7777 - lr: 0.0010 - 9s/epoch - 242ms/step
Epoch 9/25
36/36 - 9s - loss: 0.2362 - accuracy: 0.7412 - val_loss: 0.2483 - val_accuracy: 0.7764 - lr: 0.0010 - 9s/epoch - 241ms/step
Epoch 10/25
36/36 - 9s - loss: 0.2356 - accuracy: 0.7406 - val_loss: 0.2468 - val_accuracy: 0.7797 - lr: 0.0010 - 9s/epoch - 242ms/step
Epoch 11/25
36/36 - 9s - loss: 0.2365 - accuracy: 0.7403 - val_loss: 0.2455 - val_accuracy: 0.7796 - lr: 0.0010 - 9s/epoch - 242ms/step
Epoch 12/25
36/36 - 9s - loss: 0.2364 - accuracy: 0.7409 - val_loss: 0.2472 - val_accuracy: 0.7774 - lr: 0.0010 - 9s/epoch - 241ms/step
Epoch 13/25
36/36 - 8s - loss: 0.2365 - accuracy: 0.7403 - val_loss: 0.2470 - val_accuracy: 0.7774 - lr: 0.0010 - 8s/epoch - 236ms/step
Epoch 14/25
36/36 - 9s - loss: 0.2366 - accuracy: 0.7411 - val_loss: 0.2457 - val_accuracy: 0.7796 - lr: 0.0010 - 9s/epoch - 239ms/step
Epoch 15/25
36/36 - 9s - loss: 0.2358 - accuracy: 0.7408 - val_loss: 0.2469 - val_accuracy: 0.7772 - lr: 0.0010 - 9s/epoch - 242ms/step
Epoch 16/25
36/36 - 9s - loss: 0.2364 - accuracy: 0.7416 - val_loss: 0.2475 - val_accuracy: 0.7777 - lr: 0.0010 - 9s/epoch - 241ms/step
Epoch 17/25
36/36 - 9s - loss: 0.2362 - accuracy: 0.7416 - val_loss: 0.2475 - val_accuracy: 0.7772 - lr: 0.0010 - 9s/epoch - 240ms/step
Epoch 18/25
36/36 - 9s - loss: 0.2363 - accuracy: 0.7407 - val_loss: 0.2470 - val_accuracy: 0.7784 - lr: 0.0010 - 9s/epoch - 242ms/step
Epoch 19/25
36/36 - 9s - loss: 0.2362 - accuracy: 0.7425 - val_loss: 0.2470 - val_accuracy: 0.7783 - lr: 0.0010 - 9s/epoch - 241ms/step
Epoch 20/25
36/36 - 9s - loss: 0.2364 - accuracy: 0.7416 - val_loss: 0.2465 - val_accuracy: 0.7804 - lr: 0.0010 - 9s/epoch - 238ms/step
Epoch 21/25
36/36 - 8s - loss: 0.2362 - accuracy: 0.7407 - val_loss: 0.2477 - val_accuracy: 0.7782 - lr: 0.0010 - 8s/epoch - 235ms/step
Epoch 22/25
36/36 - 9s - loss: 0.2367 - accuracy: 0.7406 - val_loss: 0.2468 - val_accuracy: 0.7795 - lr: 0.0010 - 9s/epoch - 240ms/step
Epoch 23/25
36/36 - 9s - loss: 0.2359 - accuracy: 0.7403 - val_loss: 0.2479 - val_accuracy: 0.7762 - lr: 0.0010 - 9s/epoch - 241ms/step
Epoch 24/25
36/36 - 9s - loss: 0.2365 - accuracy: 0.7400 - val_loss: 0.2473 - val_accuracy: 0.7776 - lr: 0.0010 - 9s/epoch - 242ms/step
Epoch 25/25
36/36 - 9s - loss: 0.2361 - accuracy: 0.7408 - val_loss: 0.2446 - val_accuracy: 0.7813 - lr: 0.0010 - 9s/epoch - 240ms/step
Epoch number: 50
fitting with batch size: 20
Epoch 1/50
4378/4378 - 72s - loss: 0.2397 - accuracy: 0.7359 - val_loss: 0.2521 - val_accuracy: 0.7674 - lr: 0.0010 - 72s/epoch - 17ms/step
Epoch 2/50
4378/4378 - 70s - loss: 0.2396 - accuracy: 0.7357 - val_loss: 0.2377 - val_accuracy: 0.7858 - lr: 0.0010 - 70s/epoch - 16ms/step
Epoch 3/50
4378/4378 - 71s - loss: 0.2394 - accuracy: 0.7361 - val_loss: 0.2528 - val_accuracy: 0.7662 - lr: 0.0010 - 71s/epoch - 16ms/step
Epoch 4/50
4378/4378 - 70s - loss: 0.2394 - accuracy: 0.7364 - val_loss: 0.2508 - val_accuracy: 0.7692 - lr: 0.0010 - 70s/epoch - 16ms/step
Epoch 5/50
4378/4378 - 70s - loss: 0.2393 - accuracy: 0.7370 - val_loss: 0.2378 - val_accuracy: 0.7928 - lr: 0.0010 - 70s/epoch - 16ms/step
Epoch 6/50
4378/4378 - 70s - loss: 0.2392 - accuracy: 0.7384 - val_loss: 0.2534 - val_accuracy: 0.7716 - lr: 0.0010 - 70s/epoch - 16ms/step
Epoch 7/50
4378/4378 - 70s - loss: 0.2389 - accuracy: 0.7390 - val_loss: 0.2543 - val_accuracy: 0.7775 - lr: 0.0010 - 70s/epoch - 16ms/step
Epoch 8/50
4378/4378 - 71s - loss: 0.2390 - accuracy: 0.7361 - val_loss: 0.2405 - val_accuracy: 0.7839 - lr: 0.0010 - 71s/epoch - 16ms/step
Epoch 9/50
4378/4378 - 71s - loss: 0.2386 - accuracy: 0.7378 - val_loss: 0.2405 - val_accuracy: 0.7864 - lr: 0.0010 - 71s/epoch - 16ms/step
Epoch 10/50
4378/4378 - 70s - loss: 0.2391 - accuracy: 0.7383 - val_loss: 0.2442 - val_accuracy: 0.7782 - lr: 0.0010 - 70s/epoch - 16ms/step
Epoch 11/50
4378/4378 - 70s - loss: 0.2386 - accuracy: 0.7383 - val_loss: 0.2506 - val_accuracy: 0.7785 - lr: 0.0010 - 70s/epoch - 16ms/step
Epoch 12/50
4378/4378 - 70s - loss: 0.2385 - accuracy: 0.7386 - val_loss: 0.2575 - val_accuracy: 0.7638 - lr: 0.0010 - 70s/epoch - 16ms/step
Epoch 13/50
4378/4378 - 71s - loss: 0.2381 - accuracy: 0.7386 - val_loss: 0.2473 - val_accuracy: 0.7835 - lr: 0.0010 - 71s/epoch - 16ms/step
Epoch 14/50
4378/4378 - 70s - loss: 0.2387 - accuracy: 0.7375 - val_loss: 0.2453 - val_accuracy: 0.7805 - lr: 0.0010 - 70s/epoch - 16ms/step
Epoch 15/50
4378/4378 - 70s - loss: 0.2385 - accuracy: 0.7381 - val_loss: 0.2576 - val_accuracy: 0.7651 - lr: 0.0010 - 70s/epoch - 16ms/step
Epoch 16/50
4378/4378 - 70s - loss: 0.2380 - accuracy: 0.7387 - val_loss: 0.2493 - val_accuracy: 0.7762 - lr: 0.0010 - 70s/epoch - 16ms/step
Epoch 17/50
4378/4378 - 70s - loss: 0.2379 - accuracy: 0.7391 - val_loss: 0.2500 - val_accuracy: 0.7733 - lr: 0.0010 - 70s/epoch - 16ms/step
Epoch 18/50
4378/4378 - 70s - loss: 0.2379 - accuracy: 0.7395 - val_loss: 0.2505 - val_accuracy: 0.7701 - lr: 0.0010 - 70s/epoch - 16ms/step
Epoch 19/50
4378/4378 - 70s - loss: 0.2377 - accuracy: 0.7388 - val_loss: 0.2554 - val_accuracy: 0.7684 - lr: 0.0010 - 70s/epoch - 16ms/step
Epoch 20/50
4378/4378 - 70s - loss: 0.2374 - accuracy: 0.7393 - val_loss: 0.2367 - val_accuracy: 0.7986 - lr: 0.0010 - 70s/epoch - 16ms/step
Epoch 21/50
4378/4378 - 71s - loss: 0.2375 - accuracy: 0.7387 - val_loss: 0.2352 - val_accuracy: 0.7948 - lr: 0.0010 - 71s/epoch - 16ms/step
Epoch 22/50
4378/4378 - 71s - loss: 0.2376 - accuracy: 0.7397 - val_loss: 0.2468 - val_accuracy: 0.7741 - lr: 0.0010 - 71s/epoch - 16ms/step
Epoch 23/50
4378/4378 - 70s - loss: 0.2376 - accuracy: 0.7393 - val_loss: 0.2516 - val_accuracy: 0.7741 - lr: 0.0010 - 70s/epoch - 16ms/step
Epoch 24/50
4378/4378 - 70s - loss: 0.2365 - accuracy: 0.7411 - val_loss: 0.2496 - val_accuracy: 0.7723 - lr: 0.0010 - 70s/epoch - 16ms/step
Epoch 25/50
4378/4378 - 71s - loss: 0.2366 - accuracy: 0.7401 - val_loss: 0.2471 - val_accuracy: 0.7850 - lr: 0.0010 - 71s/epoch - 16ms/step
Epoch 26/50
4378/4378 - 70s - loss: 0.2375 - accuracy: 0.7386 - val_loss: 0.2595 - val_accuracy: 0.7574 - lr: 0.0010 - 70s/epoch - 16ms/step
Epoch 27/50
4378/4378 - 70s - loss: 0.2366 - accuracy: 0.7414 - val_loss: 0.2400 - val_accuracy: 0.7929 - lr: 0.0010 - 70s/epoch - 16ms/step
Epoch 28/50
4378/4378 - 70s - loss: 0.2367 - accuracy: 0.7404 - val_loss: 0.2470 - val_accuracy: 0.7856 - lr: 0.0010 - 70s/epoch - 16ms/step
Epoch 29/50
4378/4378 - 71s - loss: 0.2367 - accuracy: 0.7403 - val_loss: 0.2505 - val_accuracy: 0.7718 - lr: 0.0010 - 71s/epoch - 16ms/step
Epoch 30/50
4378/4378 - 70s - loss: 0.2367 - accuracy: 0.7405 - val_loss: 0.2582 - val_accuracy: 0.7625 - lr: 0.0010 - 70s/epoch - 16ms/step
Epoch 31/50
4378/4378 - 70s - loss: 0.2362 - accuracy: 0.7408 - val_loss: 0.2545 - val_accuracy: 0.7683 - lr: 0.0010 - 70s/epoch - 16ms/step
Epoch 32/50
4378/4378 - 70s - loss: 0.2364 - accuracy: 0.7395 - val_loss: 0.2412 - val_accuracy: 0.7852 - lr: 0.0010 - 70s/epoch - 16ms/step
Epoch 33/50
4378/4378 - 70s - loss: 0.2356 - accuracy: 0.7413 - val_loss: 0.2316 - val_accuracy: 0.7968 - lr: 0.0010 - 70s/epoch - 16ms/step
Epoch 34/50
4378/4378 - 70s - loss: 0.2365 - accuracy: 0.7399 - val_loss: 0.2449 - val_accuracy: 0.7804 - lr: 0.0010 - 70s/epoch - 16ms/step
Epoch 35/50
4378/4378 - 70s - loss: 0.2361 - accuracy: 0.7397 - val_loss: 0.2411 - val_accuracy: 0.7891 - lr: 0.0010 - 70s/epoch - 16ms/step
Epoch 36/50
4378/4378 - 70s - loss: 0.2361 - accuracy: 0.7405 - val_loss: 0.2437 - val_accuracy: 0.7776 - lr: 0.0010 - 70s/epoch - 16ms/step
Epoch 37/50
4378/4378 - 71s - loss: 0.2353 - accuracy: 0.7412 - val_loss: 0.2461 - val_accuracy: 0.7796 - lr: 0.0010 - 71s/epoch - 16ms/step
Epoch 38/50
4378/4378 - 70s - loss: 0.2360 - accuracy: 0.7420 - val_loss: 0.2354 - val_accuracy: 0.8078 - lr: 0.0010 - 70s/epoch - 16ms/step
Epoch 39/50
4378/4378 - 71s - loss: 0.2360 - accuracy: 0.7416 - val_loss: 0.2464 - val_accuracy: 0.7715 - lr: 0.0010 - 71s/epoch - 16ms/step
Epoch 40/50
4378/4378 - 70s - loss: 0.2356 - accuracy: 0.7423 - val_loss: 0.2399 - val_accuracy: 0.7866 - lr: 0.0010 - 70s/epoch - 16ms/step
Epoch 41/50
4378/4378 - 70s - loss: 0.2356 - accuracy: 0.7406 - val_loss: 0.2472 - val_accuracy: 0.7854 - lr: 0.0010 - 70s/epoch - 16ms/step
Epoch 42/50
4378/4378 - 70s - loss: 0.2352 - accuracy: 0.7423 - val_loss: 0.2366 - val_accuracy: 0.7900 - lr: 0.0010 - 70s/epoch - 16ms/step
Epoch 43/50
4378/4378 - 70s - loss: 0.2354 - accuracy: 0.7409 - val_loss: 0.2465 - val_accuracy: 0.7734 - lr: 0.0010 - 70s/epoch - 16ms/step
Epoch 44/50
4378/4378 - 70s - loss: 0.2348 - accuracy: 0.7419 - val_loss: 0.2338 - val_accuracy: 0.7932 - lr: 0.0010 - 70s/epoch - 16ms/step
Epoch 45/50
4378/4378 - 70s - loss: 0.2351 - accuracy: 0.7438 - val_loss: 0.2375 - val_accuracy: 0.7868 - lr: 0.0010 - 70s/epoch - 16ms/step
Epoch 46/50
4378/4378 - 70s - loss: 0.2350 - accuracy: 0.7420 - val_loss: 0.2511 - val_accuracy: 0.7707 - lr: 0.0010 - 70s/epoch - 16ms/step
Epoch 47/50
4378/4378 - 70s - loss: 0.2351 - accuracy: 0.7424 - val_loss: 0.2423 - val_accuracy: 0.7885 - lr: 0.0010 - 70s/epoch - 16ms/step
Epoch 48/50
4378/4378 - 70s - loss: 0.2348 - accuracy: 0.7416 - val_loss: 0.2497 - val_accuracy: 0.7764 - lr: 0.0010 - 70s/epoch - 16ms/step
Epoch 49/50
4378/4378 - 70s - loss: 0.2344 - accuracy: 0.7423 - val_loss: 0.2574 - val_accuracy: 0.7653 - lr: 0.0010 - 70s/epoch - 16ms/step
Epoch 50/50
4378/4378 - 70s - loss: 0.2343 - accuracy: 0.7434 - val_loss: 0.2457 - val_accuracy: 0.7833 - lr: 0.0010 - 70s/epoch - 16ms/step
fitting with batch size: 100
Epoch 1/50
876/876 - 20s - loss: 0.2313 - accuracy: 0.7470 - val_loss: 0.2435 - val_accuracy: 0.7822 - lr: 0.0010 - 20s/epoch - 23ms/step
Epoch 2/50
876/876 - 18s - loss: 0.2313 - accuracy: 0.7467 - val_loss: 0.2496 - val_accuracy: 0.7717 - lr: 0.0010 - 18s/epoch - 20ms/step
Epoch 3/50
876/876 - 18s - loss: 0.2312 - accuracy: 0.7469 - val_loss: 0.2488 - val_accuracy: 0.7764 - lr: 0.0010 - 18s/epoch - 20ms/step
Epoch 4/50
876/876 - 17s - loss: 0.2312 - accuracy: 0.7473 - val_loss: 0.2472 - val_accuracy: 0.7749 - lr: 0.0010 - 17s/epoch - 20ms/step
Epoch 5/50
876/876 - 17s - loss: 0.2312 - accuracy: 0.7466 - val_loss: 0.2423 - val_accuracy: 0.7838 - lr: 0.0010 - 17s/epoch - 20ms/step
Epoch 6/50
876/876 - 17s - loss: 0.2309 - accuracy: 0.7471 - val_loss: 0.2427 - val_accuracy: 0.7803 - lr: 0.0010 - 17s/epoch - 20ms/step
Epoch 7/50
876/876 - 17s - loss: 0.2307 - accuracy: 0.7476 - val_loss: 0.2478 - val_accuracy: 0.7743 - lr: 0.0010 - 17s/epoch - 20ms/step
Epoch 8/50
876/876 - 17s - loss: 0.2309 - accuracy: 0.7476 - val_loss: 0.2493 - val_accuracy: 0.7762 - lr: 0.0010 - 17s/epoch - 20ms/step
Epoch 9/50
876/876 - 17s - loss: 0.2306 - accuracy: 0.7477 - val_loss: 0.2431 - val_accuracy: 0.7821 - lr: 0.0010 - 17s/epoch - 20ms/step
Epoch 10/50
876/876 - 18s - loss: 0.2310 - accuracy: 0.7469 - val_loss: 0.2434 - val_accuracy: 0.7828 - lr: 0.0010 - 18s/epoch - 20ms/step
Epoch 11/50
876/876 - 18s - loss: 0.2308 - accuracy: 0.7475 - val_loss: 0.2442 - val_accuracy: 0.7816 - lr: 0.0010 - 18s/epoch - 20ms/step
Epoch 12/50
876/876 - 18s - loss: 0.2305 - accuracy: 0.7482 - val_loss: 0.2434 - val_accuracy: 0.7829 - lr: 0.0010 - 18s/epoch - 20ms/step
Epoch 13/50
876/876 - 18s - loss: 0.2309 - accuracy: 0.7472 - val_loss: 0.2388 - val_accuracy: 0.7859 - lr: 0.0010 - 18s/epoch - 20ms/step
Epoch 14/50
876/876 - 17s - loss: 0.2307 - accuracy: 0.7469 - val_loss: 0.2428 - val_accuracy: 0.7849 - lr: 0.0010 - 17s/epoch - 20ms/step
Epoch 15/50
876/876 - 18s - loss: 0.2310 - accuracy: 0.7467 - val_loss: 0.2427 - val_accuracy: 0.7861 - lr: 0.0010 - 18s/epoch - 20ms/step
Epoch 16/50
876/876 - 17s - loss: 0.2304 - accuracy: 0.7483 - val_loss: 0.2416 - val_accuracy: 0.7831 - lr: 0.0010 - 17s/epoch - 20ms/step
Epoch 17/50
876/876 - 18s - loss: 0.2308 - accuracy: 0.7488 - val_loss: 0.2431 - val_accuracy: 0.7817 - lr: 0.0010 - 18s/epoch - 20ms/step
Epoch 18/50
876/876 - 18s - loss: 0.2304 - accuracy: 0.7472 - val_loss: 0.2462 - val_accuracy: 0.7778 - lr: 0.0010 - 18s/epoch - 20ms/step
Epoch 19/50
876/876 - 18s - loss: 0.2307 - accuracy: 0.7477 - val_loss: 0.2443 - val_accuracy: 0.7808 - lr: 0.0010 - 18s/epoch - 20ms/step
Epoch 20/50
876/876 - 18s - loss: 0.2304 - accuracy: 0.7467 - val_loss: 0.2476 - val_accuracy: 0.7765 - lr: 0.0010 - 18s/epoch - 20ms/step
Epoch 21/50
876/876 - 18s - loss: 0.2302 - accuracy: 0.7480 - val_loss: 0.2425 - val_accuracy: 0.7851 - lr: 0.0010 - 18s/epoch - 20ms/step
Epoch 22/50
876/876 - 18s - loss: 0.2306 - accuracy: 0.7476 - val_loss: 0.2455 - val_accuracy: 0.7823 - lr: 0.0010 - 18s/epoch - 20ms/step
Epoch 23/50
876/876 - 18s - loss: 0.2305 - accuracy: 0.7483 - val_loss: 0.2467 - val_accuracy: 0.7762 - lr: 0.0010 - 18s/epoch - 20ms/step
Epoch 24/50
876/876 - 18s - loss: 0.2311 - accuracy: 0.7468 - val_loss: 0.2409 - val_accuracy: 0.7849 - lr: 0.0010 - 18s/epoch - 20ms/step
Epoch 25/50
876/876 - 18s - loss: 0.2309 - accuracy: 0.7482 - val_loss: 0.2457 - val_accuracy: 0.7796 - lr: 0.0010 - 18s/epoch - 20ms/step
Epoch 26/50
876/876 - 18s - loss: 0.2302 - accuracy: 0.7472 - val_loss: 0.2489 - val_accuracy: 0.7741 - lr: 0.0010 - 18s/epoch - 20ms/step
Epoch 27/50
876/876 - 17s - loss: 0.2305 - accuracy: 0.7475 - val_loss: 0.2458 - val_accuracy: 0.7780 - lr: 0.0010 - 17s/epoch - 20ms/step
Epoch 28/50
876/876 - 17s - loss: 0.2304 - accuracy: 0.7489 - val_loss: 0.2433 - val_accuracy: 0.7837 - lr: 0.0010 - 17s/epoch - 20ms/step
Epoch 29/50
876/876 - 18s - loss: 0.2309 - accuracy: 0.7466 - val_loss: 0.2456 - val_accuracy: 0.7806 - lr: 0.0010 - 18s/epoch - 20ms/step
Epoch 30/50
876/876 - 17s - loss: 0.2303 - accuracy: 0.7479 - val_loss: 0.2474 - val_accuracy: 0.7776 - lr: 0.0010 - 17s/epoch - 20ms/step
Epoch 31/50
876/876 - 17s - loss: 0.2303 - accuracy: 0.7481 - val_loss: 0.2411 - val_accuracy: 0.7878 - lr: 0.0010 - 17s/epoch - 20ms/step
Epoch 32/50
876/876 - 17s - loss: 0.2303 - accuracy: 0.7488 - val_loss: 0.2456 - val_accuracy: 0.7828 - lr: 0.0010 - 17s/epoch - 20ms/step
Epoch 33/50
876/876 - 18s - loss: 0.2301 - accuracy: 0.7482 - val_loss: 0.2465 - val_accuracy: 0.7802 - lr: 0.0010 - 18s/epoch - 20ms/step
Epoch 34/50
876/876 - 18s - loss: 0.2302 - accuracy: 0.7470 - val_loss: 0.2465 - val_accuracy: 0.7810 - lr: 0.0010 - 18s/epoch - 20ms/step
Epoch 35/50
876/876 - 17s - loss: 0.2304 - accuracy: 0.7480 - val_loss: 0.2454 - val_accuracy: 0.7828 - lr: 0.0010 - 17s/epoch - 20ms/step
Epoch 36/50
876/876 - 18s - loss: 0.2301 - accuracy: 0.7484 - val_loss: 0.2427 - val_accuracy: 0.7856 - lr: 0.0010 - 18s/epoch - 20ms/step
Epoch 37/50
876/876 - 18s - loss: 0.2295 - accuracy: 0.7496 - val_loss: 0.2440 - val_accuracy: 0.7815 - lr: 0.0010 - 18s/epoch - 20ms/step
Epoch 38/50
876/876 - 18s - loss: 0.2298 - accuracy: 0.7478 - val_loss: 0.2426 - val_accuracy: 0.7880 - lr: 0.0010 - 18s/epoch - 20ms/step
Epoch 39/50
876/876 - 18s - loss: 0.2298 - accuracy: 0.7491 - val_loss: 0.2506 - val_accuracy: 0.7720 - lr: 0.0010 - 18s/epoch - 21ms/step
Epoch 40/50
876/876 - 18s - loss: 0.2304 - accuracy: 0.7483 - val_loss: 0.2442 - val_accuracy: 0.7780 - lr: 0.0010 - 18s/epoch - 20ms/step
Epoch 41/50
876/876 - 18s - loss: 0.2302 - accuracy: 0.7482 - val_loss: 0.2462 - val_accuracy: 0.7796 - lr: 0.0010 - 18s/epoch - 20ms/step
Epoch 42/50
876/876 - 17s - loss: 0.2297 - accuracy: 0.7498 - val_loss: 0.2418 - val_accuracy: 0.7872 - lr: 0.0010 - 17s/epoch - 20ms/step
Epoch 43/50
876/876 - 18s - loss: 0.2298 - accuracy: 0.7481 - val_loss: 0.2425 - val_accuracy: 0.7839 - lr: 0.0010 - 18s/epoch - 20ms/step
Epoch 44/50
876/876 - 18s - loss: 0.2303 - accuracy: 0.7479 - val_loss: 0.2472 - val_accuracy: 0.7767 - lr: 0.0010 - 18s/epoch - 20ms/step
Epoch 45/50
876/876 - 18s - loss: 0.2299 - accuracy: 0.7495 - val_loss: 0.2472 - val_accuracy: 0.7788 - lr: 0.0010 - 18s/epoch - 20ms/step
Epoch 46/50
876/876 - 17s - loss: 0.2294 - accuracy: 0.7492 - val_loss: 0.2409 - val_accuracy: 0.7863 - lr: 0.0010 - 17s/epoch - 20ms/step
Epoch 47/50
876/876 - 18s - loss: 0.2298 - accuracy: 0.7491 - val_loss: 0.2451 - val_accuracy: 0.7806 - lr: 0.0010 - 18s/epoch - 20ms/step
Epoch 48/50
876/876 - 18s - loss: 0.2299 - accuracy: 0.7483 - val_loss: 0.2451 - val_accuracy: 0.7799 - lr: 0.0010 - 18s/epoch - 20ms/step
Epoch 49/50
876/876 - 17s - loss: 0.2297 - accuracy: 0.7481 - val_loss: 0.2496 - val_accuracy: 0.7770 - lr: 0.0010 - 17s/epoch - 20ms/step
Epoch 50/50
876/876 - 18s - loss: 0.2301 - accuracy: 0.7482 - val_loss: 0.2405 - val_accuracy: 0.7889 - lr: 0.0010 - 18s/epoch - 20ms/step
fitting with batch size: 500
Epoch 1/50
176/176 - 12s - loss: 0.2291 - accuracy: 0.7492 - val_loss: 0.2434 - val_accuracy: 0.7828 - lr: 0.0010 - 12s/epoch - 67ms/step
Epoch 2/50
176/176 - 10s - loss: 0.2287 - accuracy: 0.7503 - val_loss: 0.2429 - val_accuracy: 0.7819 - lr: 0.0010 - 10s/epoch - 55ms/step
Epoch 3/50
176/176 - 10s - loss: 0.2288 - accuracy: 0.7493 - val_loss: 0.2449 - val_accuracy: 0.7796 - lr: 0.0010 - 10s/epoch - 55ms/step
Epoch 4/50
176/176 - 10s - loss: 0.2285 - accuracy: 0.7502 - val_loss: 0.2456 - val_accuracy: 0.7796 - lr: 0.0010 - 10s/epoch - 55ms/step
Epoch 5/50
176/176 - 10s - loss: 0.2290 - accuracy: 0.7510 - val_loss: 0.2443 - val_accuracy: 0.7805 - lr: 0.0010 - 10s/epoch - 55ms/step
Epoch 6/50
176/176 - 10s - loss: 0.2285 - accuracy: 0.7495 - val_loss: 0.2473 - val_accuracy: 0.7775 - lr: 0.0010 - 10s/epoch - 55ms/step
Epoch 7/50
176/176 - 10s - loss: 0.2294 - accuracy: 0.7492 - val_loss: 0.2465 - val_accuracy: 0.7793 - lr: 0.0010 - 10s/epoch - 55ms/step
Epoch 8/50
176/176 - 10s - loss: 0.2295 - accuracy: 0.7495 - val_loss: 0.2445 - val_accuracy: 0.7801 - lr: 0.0010 - 10s/epoch - 56ms/step
Epoch 9/50
176/176 - 10s - loss: 0.2292 - accuracy: 0.7482 - val_loss: 0.2449 - val_accuracy: 0.7803 - lr: 0.0010 - 10s/epoch - 55ms/step
Epoch 10/50
176/176 - 10s - loss: 0.2288 - accuracy: 0.7500 - val_loss: 0.2435 - val_accuracy: 0.7823 - lr: 0.0010 - 10s/epoch - 55ms/step
Epoch 11/50
176/176 - 10s - loss: 0.2291 - accuracy: 0.7490 - val_loss: 0.2447 - val_accuracy: 0.7801 - lr: 0.0010 - 10s/epoch - 55ms/step
Epoch 12/50
176/176 - 10s - loss: 0.2289 - accuracy: 0.7508 - val_loss: 0.2443 - val_accuracy: 0.7808 - lr: 0.0010 - 10s/epoch - 54ms/step
Epoch 13/50
176/176 - 10s - loss: 0.2289 - accuracy: 0.7500 - val_loss: 0.2482 - val_accuracy: 0.7769 - lr: 0.0010 - 10s/epoch - 55ms/step
Epoch 14/50
176/176 - 10s - loss: 0.2286 - accuracy: 0.7489 - val_loss: 0.2442 - val_accuracy: 0.7817 - lr: 0.0010 - 10s/epoch - 55ms/step
Epoch 15/50
176/176 - 10s - loss: 0.2290 - accuracy: 0.7491 - val_loss: 0.2449 - val_accuracy: 0.7813 - lr: 0.0010 - 10s/epoch - 56ms/step
Epoch 16/50
176/176 - 10s - loss: 0.2286 - accuracy: 0.7489 - val_loss: 0.2443 - val_accuracy: 0.7820 - lr: 0.0010 - 10s/epoch - 55ms/step
Epoch 17/50
176/176 - 10s - loss: 0.2287 - accuracy: 0.7510 - val_loss: 0.2446 - val_accuracy: 0.7807 - lr: 0.0010 - 10s/epoch - 56ms/step
Epoch 18/50
176/176 - 10s - loss: 0.2286 - accuracy: 0.7506 - val_loss: 0.2443 - val_accuracy: 0.7820 - lr: 0.0010 - 10s/epoch - 55ms/step
Epoch 19/50
176/176 - 10s - loss: 0.2288 - accuracy: 0.7508 - val_loss: 0.2452 - val_accuracy: 0.7801 - lr: 0.0010 - 10s/epoch - 55ms/step
Epoch 20/50
176/176 - 10s - loss: 0.2280 - accuracy: 0.7508 - val_loss: 0.2458 - val_accuracy: 0.7792 - lr: 0.0010 - 10s/epoch - 55ms/step
Epoch 21/50
176/176 - 10s - loss: 0.2288 - accuracy: 0.7495 - val_loss: 0.2428 - val_accuracy: 0.7823 - lr: 0.0010 - 10s/epoch - 56ms/step
Epoch 22/50
176/176 - 10s - loss: 0.2287 - accuracy: 0.7494 - val_loss: 0.2449 - val_accuracy: 0.7816 - lr: 0.0010 - 10s/epoch - 56ms/step
Epoch 23/50
176/176 - 10s - loss: 0.2293 - accuracy: 0.7502 - val_loss: 0.2448 - val_accuracy: 0.7829 - lr: 0.0010 - 10s/epoch - 55ms/step
Epoch 24/50
176/176 - 10s - loss: 0.2287 - accuracy: 0.7507 - val_loss: 0.2452 - val_accuracy: 0.7799 - lr: 0.0010 - 10s/epoch - 55ms/step
Epoch 25/50
176/176 - 10s - loss: 0.2286 - accuracy: 0.7501 - val_loss: 0.2468 - val_accuracy: 0.7771 - lr: 0.0010 - 10s/epoch - 55ms/step
Epoch 26/50
176/176 - 10s - loss: 0.2295 - accuracy: 0.7501 - val_loss: 0.2453 - val_accuracy: 0.7796 - lr: 0.0010 - 10s/epoch - 55ms/step
Epoch 27/50
176/176 - 10s - loss: 0.2287 - accuracy: 0.7519 - val_loss: 0.2475 - val_accuracy: 0.7772 - lr: 0.0010 - 10s/epoch - 55ms/step
Epoch 28/50
176/176 - 10s - loss: 0.2287 - accuracy: 0.7489 - val_loss: 0.2463 - val_accuracy: 0.7795 - lr: 0.0010 - 10s/epoch - 55ms/step
Epoch 29/50
176/176 - 10s - loss: 0.2290 - accuracy: 0.7489 - val_loss: 0.2473 - val_accuracy: 0.7772 - lr: 0.0010 - 10s/epoch - 55ms/step
Epoch 30/50
176/176 - 10s - loss: 0.2290 - accuracy: 0.7493 - val_loss: 0.2422 - val_accuracy: 0.7833 - lr: 0.0010 - 10s/epoch - 56ms/step
Epoch 31/50
176/176 - 10s - loss: 0.2289 - accuracy: 0.7492 - val_loss: 0.2469 - val_accuracy: 0.7766 - lr: 0.0010 - 10s/epoch - 56ms/step
Epoch 32/50
176/176 - 10s - loss: 0.2288 - accuracy: 0.7491 - val_loss: 0.2455 - val_accuracy: 0.7780 - lr: 0.0010 - 10s/epoch - 55ms/step
Epoch 33/50
176/176 - 10s - loss: 0.2286 - accuracy: 0.7507 - val_loss: 0.2439 - val_accuracy: 0.7818 - lr: 0.0010 - 10s/epoch - 55ms/step
Epoch 34/50
176/176 - 10s - loss: 0.2288 - accuracy: 0.7501 - val_loss: 0.2440 - val_accuracy: 0.7834 - lr: 0.0010 - 10s/epoch - 55ms/step
Epoch 35/50
176/176 - 10s - loss: 0.2286 - accuracy: 0.7500 - val_loss: 0.2442 - val_accuracy: 0.7817 - lr: 0.0010 - 10s/epoch - 55ms/step
Epoch 36/50
176/176 - 10s - loss: 0.2288 - accuracy: 0.7504 - val_loss: 0.2434 - val_accuracy: 0.7838 - lr: 0.0010 - 10s/epoch - 55ms/step
Epoch 37/50
176/176 - 10s - loss: 0.2287 - accuracy: 0.7493 - val_loss: 0.2456 - val_accuracy: 0.7798 - lr: 0.0010 - 10s/epoch - 55ms/step
Epoch 38/50
176/176 - 10s - loss: 0.2281 - accuracy: 0.7506 - val_loss: 0.2451 - val_accuracy: 0.7786 - lr: 0.0010 - 10s/epoch - 56ms/step
Epoch 39/50
176/176 - 10s - loss: 0.2288 - accuracy: 0.7499 - val_loss: 0.2436 - val_accuracy: 0.7826 - lr: 0.0010 - 10s/epoch - 55ms/step
Epoch 40/50
176/176 - 10s - loss: 0.2289 - accuracy: 0.7503 - val_loss: 0.2439 - val_accuracy: 0.7821 - lr: 0.0010 - 10s/epoch - 55ms/step
Epoch 41/50
176/176 - 10s - loss: 0.2288 - accuracy: 0.7498 - val_loss: 0.2410 - val_accuracy: 0.7881 - lr: 0.0010 - 10s/epoch - 55ms/step
Epoch 42/50
176/176 - 10s - loss: 0.2284 - accuracy: 0.7501 - val_loss: 0.2429 - val_accuracy: 0.7835 - lr: 0.0010 - 10s/epoch - 55ms/step
Epoch 43/50
176/176 - 10s - loss: 0.2290 - accuracy: 0.7504 - val_loss: 0.2440 - val_accuracy: 0.7814 - lr: 0.0010 - 10s/epoch - 55ms/step
Epoch 44/50
176/176 - 10s - loss: 0.2285 - accuracy: 0.7503 - val_loss: 0.2449 - val_accuracy: 0.7794 - lr: 0.0010 - 10s/epoch - 55ms/step
Epoch 45/50
176/176 - 10s - loss: 0.2286 - accuracy: 0.7511 - val_loss: 0.2486 - val_accuracy: 0.7763 - lr: 0.0010 - 10s/epoch - 55ms/step
Epoch 46/50
176/176 - 10s - loss: 0.2291 - accuracy: 0.7502 - val_loss: 0.2460 - val_accuracy: 0.7783 - lr: 0.0010 - 10s/epoch - 55ms/step
Epoch 47/50
176/176 - 10s - loss: 0.2287 - accuracy: 0.7502 - val_loss: 0.2488 - val_accuracy: 0.7742 - lr: 0.0010 - 10s/epoch - 55ms/step
Epoch 48/50
176/176 - 10s - loss: 0.2292 - accuracy: 0.7494 - val_loss: 0.2452 - val_accuracy: 0.7789 - lr: 0.0010 - 10s/epoch - 55ms/step
Epoch 49/50
176/176 - 10s - loss: 0.2289 - accuracy: 0.7489 - val_loss: 0.2453 - val_accuracy: 0.7808 - lr: 0.0010 - 10s/epoch - 55ms/step
Epoch 50/50
176/176 - 10s - loss: 0.2286 - accuracy: 0.7502 - val_loss: 0.2456 - val_accuracy: 0.7798 - lr: 0.0010 - 10s/epoch - 55ms/step
fitting with batch size: 1500
Epoch 1/50
59/59 - 11s - loss: 0.2284 - accuracy: 0.7504 - val_loss: 0.2454 - val_accuracy: 0.7796 - lr: 0.0010 - 11s/epoch - 188ms/step
Epoch 2/50
59/59 - 9s - loss: 0.2283 - accuracy: 0.7501 - val_loss: 0.2450 - val_accuracy: 0.7804 - lr: 0.0010 - 9s/epoch - 150ms/step
Epoch 3/50
59/59 - 9s - loss: 0.2280 - accuracy: 0.7501 - val_loss: 0.2452 - val_accuracy: 0.7796 - lr: 0.0010 - 9s/epoch - 148ms/step
Epoch 4/50
59/59 - 9s - loss: 0.2280 - accuracy: 0.7502 - val_loss: 0.2443 - val_accuracy: 0.7813 - lr: 0.0010 - 9s/epoch - 153ms/step
Epoch 5/50
59/59 - 9s - loss: 0.2284 - accuracy: 0.7504 - val_loss: 0.2445 - val_accuracy: 0.7813 - lr: 0.0010 - 9s/epoch - 154ms/step
Epoch 6/50
59/59 - 9s - loss: 0.2281 - accuracy: 0.7509 - val_loss: 0.2445 - val_accuracy: 0.7808 - lr: 0.0010 - 9s/epoch - 153ms/step
Epoch 7/50
59/59 - 9s - loss: 0.2285 - accuracy: 0.7503 - val_loss: 0.2450 - val_accuracy: 0.7798 - lr: 0.0010 - 9s/epoch - 153ms/step
Epoch 8/50
59/59 - 9s - loss: 0.2281 - accuracy: 0.7513 - val_loss: 0.2450 - val_accuracy: 0.7800 - lr: 0.0010 - 9s/epoch - 153ms/step
Epoch 9/50
59/59 - 9s - loss: 0.2281 - accuracy: 0.7510 - val_loss: 0.2436 - val_accuracy: 0.7818 - lr: 0.0010 - 9s/epoch - 152ms/step
Epoch 10/50
59/59 - 9s - loss: 0.2284 - accuracy: 0.7507 - val_loss: 0.2455 - val_accuracy: 0.7804 - lr: 0.0010 - 9s/epoch - 148ms/step
Epoch 11/50
59/59 - 9s - loss: 0.2283 - accuracy: 0.7515 - val_loss: 0.2441 - val_accuracy: 0.7817 - lr: 0.0010 - 9s/epoch - 151ms/step
Epoch 12/50
59/59 - 9s - loss: 0.2287 - accuracy: 0.7495 - val_loss: 0.2449 - val_accuracy: 0.7809 - lr: 0.0010 - 9s/epoch - 154ms/step
Epoch 13/50
59/59 - 9s - loss: 0.2286 - accuracy: 0.7498 - val_loss: 0.2451 - val_accuracy: 0.7801 - lr: 0.0010 - 9s/epoch - 153ms/step
Epoch 14/50
59/59 - 9s - loss: 0.2290 - accuracy: 0.7497 - val_loss: 0.2456 - val_accuracy: 0.7796 - lr: 0.0010 - 9s/epoch - 153ms/step
Epoch 15/50
59/59 - 9s - loss: 0.2284 - accuracy: 0.7508 - val_loss: 0.2445 - val_accuracy: 0.7808 - lr: 0.0010 - 9s/epoch - 153ms/step
Epoch 16/50
59/59 - 9s - loss: 0.2280 - accuracy: 0.7511 - val_loss: 0.2445 - val_accuracy: 0.7817 - lr: 0.0010 - 9s/epoch - 153ms/step
Epoch 17/50
59/59 - 9s - loss: 0.2284 - accuracy: 0.7502 - val_loss: 0.2455 - val_accuracy: 0.7801 - lr: 0.0010 - 9s/epoch - 149ms/step
Epoch 18/50
59/59 - 9s - loss: 0.2282 - accuracy: 0.7505 - val_loss: 0.2447 - val_accuracy: 0.7805 - lr: 0.0010 - 9s/epoch - 151ms/step
Epoch 19/50
59/59 - 9s - loss: 0.2285 - accuracy: 0.7493 - val_loss: 0.2451 - val_accuracy: 0.7797 - lr: 0.0010 - 9s/epoch - 153ms/step
Epoch 20/50
59/59 - 9s - loss: 0.2284 - accuracy: 0.7510 - val_loss: 0.2447 - val_accuracy: 0.7810 - lr: 0.0010 - 9s/epoch - 153ms/step
Epoch 21/50
59/59 - 9s - loss: 0.2287 - accuracy: 0.7503 - val_loss: 0.2450 - val_accuracy: 0.7801 - lr: 0.0010 - 9s/epoch - 153ms/step
Epoch 22/50
59/59 - 9s - loss: 0.2280 - accuracy: 0.7509 - val_loss: 0.2449 - val_accuracy: 0.7803 - lr: 0.0010 - 9s/epoch - 153ms/step
Epoch 23/50
59/59 - 9s - loss: 0.2275 - accuracy: 0.7516 - val_loss: 0.2446 - val_accuracy: 0.7807 - lr: 0.0010 - 9s/epoch - 153ms/step
Epoch 24/50
59/59 - 9s - loss: 0.2282 - accuracy: 0.7496 - val_loss: 0.2447 - val_accuracy: 0.7807 - lr: 0.0010 - 9s/epoch - 150ms/step
Epoch 25/50
59/59 - 9s - loss: 0.2288 - accuracy: 0.7495 - val_loss: 0.2454 - val_accuracy: 0.7803 - lr: 0.0010 - 9s/epoch - 148ms/step
Epoch 26/50
59/59 - 9s - loss: 0.2283 - accuracy: 0.7501 - val_loss: 0.2453 - val_accuracy: 0.7796 - lr: 0.0010 - 9s/epoch - 154ms/step
Epoch 27/50
59/59 - 9s - loss: 0.2285 - accuracy: 0.7513 - val_loss: 0.2450 - val_accuracy: 0.7801 - lr: 0.0010 - 9s/epoch - 151ms/step
Epoch 28/50
59/59 - 9s - loss: 0.2282 - accuracy: 0.7505 - val_loss: 0.2453 - val_accuracy: 0.7799 - lr: 0.0010 - 9s/epoch - 149ms/step
Epoch 29/50
59/59 - 9s - loss: 0.2280 - accuracy: 0.7501 - val_loss: 0.2447 - val_accuracy: 0.7809 - lr: 0.0010 - 9s/epoch - 153ms/step
Epoch 30/50
59/59 - 9s - loss: 0.2281 - accuracy: 0.7503 - val_loss: 0.2448 - val_accuracy: 0.7806 - lr: 0.0010 - 9s/epoch - 152ms/step
Epoch 31/50
59/59 - 9s - loss: 0.2281 - accuracy: 0.7518 - val_loss: 0.2452 - val_accuracy: 0.7803 - lr: 0.0010 - 9s/epoch - 152ms/step
Epoch 32/50
59/59 - 9s - loss: 0.2283 - accuracy: 0.7497 - val_loss: 0.2445 - val_accuracy: 0.7810 - lr: 0.0010 - 9s/epoch - 148ms/step
Epoch 33/50
59/59 - 9s - loss: 0.2281 - accuracy: 0.7503 - val_loss: 0.2449 - val_accuracy: 0.7807 - lr: 0.0010 - 9s/epoch - 152ms/step
Epoch 34/50
59/59 - 9s - loss: 0.2283 - accuracy: 0.7499 - val_loss: 0.2437 - val_accuracy: 0.7816 - lr: 0.0010 - 9s/epoch - 153ms/step
Epoch 35/50
59/59 - 9s - loss: 0.2285 - accuracy: 0.7500 - val_loss: 0.2435 - val_accuracy: 0.7822 - lr: 0.0010 - 9s/epoch - 153ms/step
Epoch 36/50
59/59 - 9s - loss: 0.2281 - accuracy: 0.7509 - val_loss: 0.2442 - val_accuracy: 0.7811 - lr: 0.0010 - 9s/epoch - 154ms/step
Epoch 37/50
59/59 - 9s - loss: 0.2280 - accuracy: 0.7508 - val_loss: 0.2443 - val_accuracy: 0.7818 - lr: 0.0010 - 9s/epoch - 153ms/step
Epoch 38/50
59/59 - 9s - loss: 0.2283 - accuracy: 0.7513 - val_loss: 0.2442 - val_accuracy: 0.7820 - lr: 0.0010 - 9s/epoch - 153ms/step
Epoch 39/50
59/59 - 9s - loss: 0.2284 - accuracy: 0.7502 - val_loss: 0.2454 - val_accuracy: 0.7801 - lr: 0.0010 - 9s/epoch - 149ms/step
Epoch 40/50
59/59 - 9s - loss: 0.2281 - accuracy: 0.7506 - val_loss: 0.2445 - val_accuracy: 0.7815 - lr: 0.0010 - 9s/epoch - 152ms/step
Epoch 41/50
59/59 - 9s - loss: 0.2289 - accuracy: 0.7506 - val_loss: 0.2440 - val_accuracy: 0.7818 - lr: 0.0010 - 9s/epoch - 153ms/step
Epoch 42/50
59/59 - 9s - loss: 0.2283 - accuracy: 0.7516 - val_loss: 0.2448 - val_accuracy: 0.7800 - lr: 0.0010 - 9s/epoch - 153ms/step
Epoch 43/50
59/59 - 9s - loss: 0.2285 - accuracy: 0.7500 - val_loss: 0.2444 - val_accuracy: 0.7815 - lr: 0.0010 - 9s/epoch - 153ms/step
Epoch 44/50
59/59 - 9s - loss: 0.2277 - accuracy: 0.7514 - val_loss: 0.2442 - val_accuracy: 0.7816 - lr: 0.0010 - 9s/epoch - 152ms/step
Epoch 45/50
59/59 - 9s - loss: 0.2286 - accuracy: 0.7506 - val_loss: 0.2452 - val_accuracy: 0.7805 - lr: 0.0010 - 9s/epoch - 153ms/step
Epoch 46/50
59/59 - 9s - loss: 0.2282 - accuracy: 0.7511 - val_loss: 0.2448 - val_accuracy: 0.7801 - lr: 0.0010 - 9s/epoch - 149ms/step
Epoch 47/50
59/59 - 9s - loss: 0.2286 - accuracy: 0.7499 - val_loss: 0.2451 - val_accuracy: 0.7812 - lr: 0.0010 - 9s/epoch - 150ms/step
Epoch 48/50
59/59 - 9s - loss: 0.2284 - accuracy: 0.7495 - val_loss: 0.2449 - val_accuracy: 0.7810 - lr: 0.0010 - 9s/epoch - 153ms/step
Epoch 49/50
59/59 - 9s - loss: 0.2279 - accuracy: 0.7512 - val_loss: 0.2447 - val_accuracy: 0.7804 - lr: 0.0010 - 9s/epoch - 153ms/step
Epoch 50/50
59/59 - 9s - loss: 0.2285 - accuracy: 0.7493 - val_loss: 0.2445 - val_accuracy: 0.7813 - lr: 0.0010 - 9s/epoch - 153ms/step
fitting with batch size: 2500
Epoch 1/50
36/36 - 11s - loss: 0.2284 - accuracy: 0.7494 - val_loss: 0.2466 - val_accuracy: 0.7776 - lr: 0.0010 - 11s/epoch - 300ms/step
Epoch 2/50
36/36 - 9s - loss: 0.2287 - accuracy: 0.7505 - val_loss: 0.2462 - val_accuracy: 0.7789 - lr: 0.0010 - 9s/epoch - 242ms/step
Epoch 3/50
36/36 - 9s - loss: 0.2286 - accuracy: 0.7498 - val_loss: 0.2466 - val_accuracy: 0.7784 - lr: 0.0010 - 9s/epoch - 239ms/step
Epoch 4/50
36/36 - 8s - loss: 0.2284 - accuracy: 0.7501 - val_loss: 0.2468 - val_accuracy: 0.7780 - lr: 0.0010 - 8s/epoch - 235ms/step
Epoch 5/50
36/36 - 9s - loss: 0.2282 - accuracy: 0.7492 - val_loss: 0.2466 - val_accuracy: 0.7783 - lr: 0.0010 - 9s/epoch - 241ms/step
Epoch 6/50
36/36 - 9s - loss: 0.2285 - accuracy: 0.7505 - val_loss: 0.2447 - val_accuracy: 0.7797 - lr: 0.0010 - 9s/epoch - 241ms/step
Epoch 7/50
36/36 - 9s - loss: 0.2281 - accuracy: 0.7507 - val_loss: 0.2441 - val_accuracy: 0.7819 - lr: 0.0010 - 9s/epoch - 242ms/step
Epoch 8/50
36/36 - 9s - loss: 0.2287 - accuracy: 0.7497 - val_loss: 0.2444 - val_accuracy: 0.7806 - lr: 0.0010 - 9s/epoch - 241ms/step
Epoch 9/50
36/36 - 9s - loss: 0.2287 - accuracy: 0.7507 - val_loss: 0.2447 - val_accuracy: 0.7792 - lr: 0.0010 - 9s/epoch - 242ms/step
Epoch 10/50
36/36 - 9s - loss: 0.2278 - accuracy: 0.7507 - val_loss: 0.2451 - val_accuracy: 0.7804 - lr: 0.0010 - 9s/epoch - 241ms/step
Epoch 11/50
36/36 - 8s - loss: 0.2286 - accuracy: 0.7503 - val_loss: 0.2434 - val_accuracy: 0.7823 - lr: 0.0010 - 8s/epoch - 235ms/step
Epoch 12/50
36/36 - 9s - loss: 0.2281 - accuracy: 0.7501 - val_loss: 0.2417 - val_accuracy: 0.7856 - lr: 0.0010 - 9s/epoch - 237ms/step
Epoch 13/50
36/36 - 9s - loss: 0.2285 - accuracy: 0.7515 - val_loss: 0.2428 - val_accuracy: 0.7843 - lr: 0.0010 - 9s/epoch - 242ms/step
Epoch 14/50
36/36 - 9s - loss: 0.2281 - accuracy: 0.7512 - val_loss: 0.2436 - val_accuracy: 0.7827 - lr: 0.0010 - 9s/epoch - 241ms/step
Epoch 15/50
36/36 - 9s - loss: 0.2286 - accuracy: 0.7507 - val_loss: 0.2456 - val_accuracy: 0.7793 - lr: 0.0010 - 9s/epoch - 240ms/step
Epoch 16/50
36/36 - 9s - loss: 0.2284 - accuracy: 0.7499 - val_loss: 0.2449 - val_accuracy: 0.7816 - lr: 0.0010 - 9s/epoch - 242ms/step
Epoch 17/50
36/36 - 9s - loss: 0.2282 - accuracy: 0.7508 - val_loss: 0.2442 - val_accuracy: 0.7828 - lr: 0.0010 - 9s/epoch - 241ms/step
Epoch 18/50
36/36 - 9s - loss: 0.2286 - accuracy: 0.7497 - val_loss: 0.2444 - val_accuracy: 0.7813 - lr: 0.0010 - 9s/epoch - 239ms/step
Epoch 19/50
36/36 - 8s - loss: 0.2284 - accuracy: 0.7506 - val_loss: 0.2453 - val_accuracy: 0.7794 - lr: 0.0010 - 8s/epoch - 236ms/step
Epoch 20/50
36/36 - 9s - loss: 0.2287 - accuracy: 0.7501 - val_loss: 0.2443 - val_accuracy: 0.7806 - lr: 0.0010 - 9s/epoch - 241ms/step
Epoch 21/50
36/36 - 9s - loss: 0.2287 - accuracy: 0.7496 - val_loss: 0.2431 - val_accuracy: 0.7817 - lr: 0.0010 - 9s/epoch - 240ms/step
Epoch 22/50
36/36 - 9s - loss: 0.2284 - accuracy: 0.7503 - val_loss: 0.2447 - val_accuracy: 0.7801 - lr: 0.0010 - 9s/epoch - 240ms/step
Epoch 23/50
36/36 - 9s - loss: 0.2283 - accuracy: 0.7498 - val_loss: 0.2457 - val_accuracy: 0.7797 - lr: 0.0010 - 9s/epoch - 241ms/step
Epoch 24/50
36/36 - 9s - loss: 0.2285 - accuracy: 0.7512 - val_loss: 0.2449 - val_accuracy: 0.7802 - lr: 0.0010 - 9s/epoch - 240ms/step
Epoch 25/50
36/36 - 9s - loss: 0.2278 - accuracy: 0.7515 - val_loss: 0.2434 - val_accuracy: 0.7812 - lr: 0.0010 - 9s/epoch - 241ms/step
Epoch 26/50
36/36 - 8s - loss: 0.2277 - accuracy: 0.7512 - val_loss: 0.2413 - val_accuracy: 0.7854 - lr: 0.0010 - 8s/epoch - 235ms/step
Epoch 27/50
36/36 - 9s - loss: 0.2283 - accuracy: 0.7504 - val_loss: 0.2456 - val_accuracy: 0.7804 - lr: 0.0010 - 9s/epoch - 236ms/step
Epoch 28/50
36/36 - 9s - loss: 0.2283 - accuracy: 0.7498 - val_loss: 0.2433 - val_accuracy: 0.7847 - lr: 0.0010 - 9s/epoch - 241ms/step
Epoch 29/50
36/36 - 9s - loss: 0.2280 - accuracy: 0.7499 - val_loss: 0.2445 - val_accuracy: 0.7802 - lr: 0.0010 - 9s/epoch - 241ms/step
Epoch 30/50
36/36 - 9s - loss: 0.2279 - accuracy: 0.7505 - val_loss: 0.2460 - val_accuracy: 0.7794 - lr: 0.0010 - 9s/epoch - 242ms/step
Epoch 31/50
36/36 - 9s - loss: 0.2283 - accuracy: 0.7505 - val_loss: 0.2434 - val_accuracy: 0.7825 - lr: 0.0010 - 9s/epoch - 242ms/step
Epoch 32/50
36/36 - 9s - loss: 0.2283 - accuracy: 0.7509 - val_loss: 0.2449 - val_accuracy: 0.7834 - lr: 0.0010 - 9s/epoch - 242ms/step
Epoch 33/50
36/36 - 9s - loss: 0.2283 - accuracy: 0.7500 - val_loss: 0.2443 - val_accuracy: 0.7816 - lr: 0.0010 - 9s/epoch - 240ms/step
Epoch 34/50
36/36 - 8s - loss: 0.2282 - accuracy: 0.7512 - val_loss: 0.2459 - val_accuracy: 0.7801 - lr: 0.0010 - 8s/epoch - 234ms/step
Epoch 35/50
36/36 - 9s - loss: 0.2283 - accuracy: 0.7500 - val_loss: 0.2479 - val_accuracy: 0.7759 - lr: 0.0010 - 9s/epoch - 239ms/step
Epoch 36/50
36/36 - 9s - loss: 0.2287 - accuracy: 0.7498 - val_loss: 0.2448 - val_accuracy: 0.7799 - lr: 0.0010 - 9s/epoch - 241ms/step
Epoch 37/50
36/36 - 9s - loss: 0.2288 - accuracy: 0.7490 - val_loss: 0.2460 - val_accuracy: 0.7783 - lr: 0.0010 - 9s/epoch - 241ms/step
Epoch 38/50
36/36 - 9s - loss: 0.2285 - accuracy: 0.7500 - val_loss: 0.2429 - val_accuracy: 0.7833 - lr: 0.0010 - 9s/epoch - 242ms/step
Epoch 39/50
36/36 - 9s - loss: 0.2281 - accuracy: 0.7512 - val_loss: 0.2465 - val_accuracy: 0.7789 - lr: 0.0010 - 9s/epoch - 242ms/step
Epoch 40/50
36/36 - 9s - loss: 0.2279 - accuracy: 0.7502 - val_loss: 0.2451 - val_accuracy: 0.7803 - lr: 0.0010 - 9s/epoch - 241ms/step
Epoch 41/50
36/36 - 9s - loss: 0.2283 - accuracy: 0.7504 - val_loss: 0.2447 - val_accuracy: 0.7808 - lr: 0.0010 - 9s/epoch - 237ms/step
Epoch 42/50
36/36 - 8s - loss: 0.2282 - accuracy: 0.7501 - val_loss: 0.2436 - val_accuracy: 0.7813 - lr: 0.0010 - 8s/epoch - 235ms/step
Epoch 43/50
36/36 - 9s - loss: 0.2282 - accuracy: 0.7504 - val_loss: 0.2460 - val_accuracy: 0.7782 - lr: 0.0010 - 9s/epoch - 242ms/step
Epoch 44/50
36/36 - 9s - loss: 0.2279 - accuracy: 0.7512 - val_loss: 0.2459 - val_accuracy: 0.7797 - lr: 0.0010 - 9s/epoch - 241ms/step
Epoch 45/50
36/36 - 9s - loss: 0.2280 - accuracy: 0.7511 - val_loss: 0.2448 - val_accuracy: 0.7797 - lr: 0.0010 - 9s/epoch - 241ms/step
Epoch 46/50
36/36 - 9s - loss: 0.2281 - accuracy: 0.7496 - val_loss: 0.2468 - val_accuracy: 0.7787 - lr: 0.0010 - 9s/epoch - 241ms/step
Epoch 47/50
36/36 - 9s - loss: 0.2283 - accuracy: 0.7514 - val_loss: 0.2439 - val_accuracy: 0.7846 - lr: 0.0010 - 9s/epoch - 237ms/step
Epoch 48/50
36/36 - 9s - loss: 0.2273 - accuracy: 0.7517 - val_loss: 0.2428 - val_accuracy: 0.7823 - lr: 0.0010 - 9s/epoch - 239ms/step
Epoch 49/50
36/36 - 8s - loss: 0.2283 - accuracy: 0.7509 - val_loss: 0.2434 - val_accuracy: 0.7832 - lr: 0.0010 - 8s/epoch - 235ms/step
Epoch 50/50
36/36 - 9s - loss: 0.2278 - accuracy: 0.7518 - val_loss: 0.2438 - val_accuracy: 0.7822 - lr: 0.0010 - 9s/epoch - 237ms/step
Loss: huber_loss
Epoch number: 25
fitting with batch size: 20
Epoch 1/25
4378/4378 - 71s - loss: 0.0347 - accuracy: 0.7495 - val_loss: 0.0370 - val_accuracy: 0.7820 - lr: 0.0010 - 71s/epoch - 16ms/step
Epoch 2/25
4378/4378 - 69s - loss: 0.0347 - accuracy: 0.7504 - val_loss: 0.0374 - val_accuracy: 0.7743 - lr: 0.0010 - 69s/epoch - 16ms/step
Epoch 3/25
4378/4378 - 69s - loss: 0.0348 - accuracy: 0.7497 - val_loss: 0.0375 - val_accuracy: 0.7775 - lr: 0.0010 - 69s/epoch - 16ms/step
Epoch 4/25
4378/4378 - 69s - loss: 0.0346 - accuracy: 0.7504 - val_loss: 0.0370 - val_accuracy: 0.7781 - lr: 0.0010 - 69s/epoch - 16ms/step
Epoch 5/25
4378/4378 - 68s - loss: 0.0347 - accuracy: 0.7510 - val_loss: 0.0364 - val_accuracy: 0.7838 - lr: 0.0010 - 68s/epoch - 16ms/step
Epoch 6/25
4378/4378 - 68s - loss: 0.0346 - accuracy: 0.7503 - val_loss: 0.0383 - val_accuracy: 0.7736 - lr: 0.0010 - 68s/epoch - 16ms/step
Epoch 7/25
4378/4378 - 68s - loss: 0.0347 - accuracy: 0.7507 - val_loss: 0.0375 - val_accuracy: 0.7720 - lr: 0.0010 - 68s/epoch - 16ms/step
Epoch 8/25
4378/4378 - 69s - loss: 0.0347 - accuracy: 0.7508 - val_loss: 0.0375 - val_accuracy: 0.7773 - lr: 0.0010 - 69s/epoch - 16ms/step
Epoch 9/25
4378/4378 - 68s - loss: 0.0347 - accuracy: 0.7499 - val_loss: 0.0378 - val_accuracy: 0.7747 - lr: 0.0010 - 68s/epoch - 16ms/step
Epoch 10/25
4378/4378 - 68s - loss: 0.0346 - accuracy: 0.7504 - val_loss: 0.0378 - val_accuracy: 0.7741 - lr: 0.0010 - 68s/epoch - 16ms/step
Epoch 11/25
4378/4378 - 71s - loss: 0.0347 - accuracy: 0.7502 - val_loss: 0.0380 - val_accuracy: 0.7746 - lr: 0.0010 - 71s/epoch - 16ms/step
Epoch 12/25
4378/4378 - 69s - loss: 0.0347 - accuracy: 0.7512 - val_loss: 0.0370 - val_accuracy: 0.7812 - lr: 0.0010 - 69s/epoch - 16ms/step
Epoch 13/25
4378/4378 - 70s - loss: 0.0346 - accuracy: 0.7506 - val_loss: 0.0371 - val_accuracy: 0.7793 - lr: 0.0010 - 70s/epoch - 16ms/step
Epoch 14/25
4378/4378 - 69s - loss: 0.0346 - accuracy: 0.7506 - val_loss: 0.0376 - val_accuracy: 0.7775 - lr: 0.0010 - 69s/epoch - 16ms/step
Epoch 15/25
4378/4378 - 69s - loss: 0.0346 - accuracy: 0.7504 - val_loss: 0.0372 - val_accuracy: 0.7808 - lr: 0.0010 - 69s/epoch - 16ms/step
Epoch 16/25
4378/4378 - 69s - loss: 0.0346 - accuracy: 0.7519 - val_loss: 0.0370 - val_accuracy: 0.7787 - lr: 0.0010 - 69s/epoch - 16ms/step
Epoch 17/25
4378/4378 - 68s - loss: 0.0345 - accuracy: 0.7509 - val_loss: 0.0366 - val_accuracy: 0.7822 - lr: 0.0010 - 68s/epoch - 16ms/step
Epoch 18/25
4378/4378 - 68s - loss: 0.0346 - accuracy: 0.7506 - val_loss: 0.0378 - val_accuracy: 0.7783 - lr: 0.0010 - 68s/epoch - 16ms/step
Epoch 19/25
4378/4378 - 69s - loss: 0.0346 - accuracy: 0.7511 - val_loss: 0.0371 - val_accuracy: 0.7782 - lr: 0.0010 - 69s/epoch - 16ms/step
Epoch 20/25
4378/4378 - 69s - loss: 0.0346 - accuracy: 0.7506 - val_loss: 0.0373 - val_accuracy: 0.7747 - lr: 0.0010 - 69s/epoch - 16ms/step
Epoch 21/25
4378/4378 - 68s - loss: 0.0345 - accuracy: 0.7514 - val_loss: 0.0372 - val_accuracy: 0.7752 - lr: 0.0010 - 68s/epoch - 16ms/step
Epoch 22/25
4378/4378 - 68s - loss: 0.0345 - accuracy: 0.7515 - val_loss: 0.0363 - val_accuracy: 0.7859 - lr: 0.0010 - 68s/epoch - 16ms/step
Epoch 23/25
4378/4378 - 68s - loss: 0.0346 - accuracy: 0.7509 - val_loss: 0.0371 - val_accuracy: 0.7832 - lr: 0.0010 - 68s/epoch - 16ms/step
Epoch 24/25
4378/4378 - 68s - loss: 0.0346 - accuracy: 0.7515 - val_loss: 0.0368 - val_accuracy: 0.7836 - lr: 0.0010 - 68s/epoch - 16ms/step
Epoch 25/25
4378/4378 - 68s - loss: 0.0345 - accuracy: 0.7510 - val_loss: 0.0374 - val_accuracy: 0.7753 - lr: 0.0010 - 68s/epoch - 16ms/step
fitting with batch size: 100
Epoch 1/25
876/876 - 20s - loss: 0.0345 - accuracy: 0.7526 - val_loss: 0.0371 - val_accuracy: 0.7817 - lr: 0.0010 - 20s/epoch - 22ms/step
Epoch 2/25
876/876 - 17s - loss: 0.0344 - accuracy: 0.7523 - val_loss: 0.0369 - val_accuracy: 0.7813 - lr: 0.0010 - 17s/epoch - 20ms/step
Epoch 3/25
876/876 - 17s - loss: 0.0344 - accuracy: 0.7512 - val_loss: 0.0372 - val_accuracy: 0.7804 - lr: 0.0010 - 17s/epoch - 20ms/step
Epoch 4/25
876/876 - 17s - loss: 0.0344 - accuracy: 0.7530 - val_loss: 0.0369 - val_accuracy: 0.7794 - lr: 0.0010 - 17s/epoch - 19ms/step
Epoch 5/25
876/876 - 17s - loss: 0.0344 - accuracy: 0.7529 - val_loss: 0.0373 - val_accuracy: 0.7783 - lr: 0.0010 - 17s/epoch - 20ms/step
Epoch 6/25
876/876 - 17s - loss: 0.0345 - accuracy: 0.7520 - val_loss: 0.0370 - val_accuracy: 0.7791 - lr: 0.0010 - 17s/epoch - 20ms/step
Epoch 7/25
876/876 - 17s - loss: 0.0344 - accuracy: 0.7529 - val_loss: 0.0370 - val_accuracy: 0.7808 - lr: 0.0010 - 17s/epoch - 19ms/step
Epoch 8/25
876/876 - 17s - loss: 0.0345 - accuracy: 0.7516 - val_loss: 0.0373 - val_accuracy: 0.7778 - lr: 0.0010 - 17s/epoch - 20ms/step
Epoch 9/25
876/876 - 17s - loss: 0.0344 - accuracy: 0.7525 - val_loss: 0.0373 - val_accuracy: 0.7781 - lr: 0.0010 - 17s/epoch - 20ms/step
Epoch 10/25
876/876 - 17s - loss: 0.0344 - accuracy: 0.7530 - val_loss: 0.0372 - val_accuracy: 0.7787 - lr: 0.0010 - 17s/epoch - 20ms/step
Epoch 11/25
876/876 - 17s - loss: 0.0345 - accuracy: 0.7522 - val_loss: 0.0370 - val_accuracy: 0.7804 - lr: 0.0010 - 17s/epoch - 20ms/step
Epoch 12/25
876/876 - 17s - loss: 0.0344 - accuracy: 0.7519 - val_loss: 0.0374 - val_accuracy: 0.7754 - lr: 0.0010 - 17s/epoch - 20ms/step
Epoch 13/25
876/876 - 17s - loss: 0.0344 - accuracy: 0.7526 - val_loss: 0.0374 - val_accuracy: 0.7773 - lr: 0.0010 - 17s/epoch - 20ms/step
Epoch 14/25
876/876 - 17s - loss: 0.0344 - accuracy: 0.7519 - val_loss: 0.0370 - val_accuracy: 0.7794 - lr: 0.0010 - 17s/epoch - 20ms/step
Epoch 15/25
876/876 - 17s - loss: 0.0344 - accuracy: 0.7525 - val_loss: 0.0367 - val_accuracy: 0.7830 - lr: 0.0010 - 17s/epoch - 20ms/step
Epoch 16/25
876/876 - 17s - loss: 0.0344 - accuracy: 0.7527 - val_loss: 0.0371 - val_accuracy: 0.7789 - lr: 0.0010 - 17s/epoch - 20ms/step
Epoch 17/25
876/876 - 17s - loss: 0.0344 - accuracy: 0.7527 - val_loss: 0.0369 - val_accuracy: 0.7806 - lr: 0.0010 - 17s/epoch - 20ms/step
Epoch 18/25
876/876 - 18s - loss: 0.0345 - accuracy: 0.7533 - val_loss: 0.0368 - val_accuracy: 0.7823 - lr: 0.0010 - 18s/epoch - 20ms/step
Epoch 19/25
876/876 - 17s - loss: 0.0344 - accuracy: 0.7531 - val_loss: 0.0367 - val_accuracy: 0.7813 - lr: 0.0010 - 17s/epoch - 20ms/step
Epoch 20/25
876/876 - 17s - loss: 0.0344 - accuracy: 0.7524 - val_loss: 0.0370 - val_accuracy: 0.7803 - lr: 0.0010 - 17s/epoch - 20ms/step
Epoch 21/25
876/876 - 17s - loss: 0.0344 - accuracy: 0.7532 - val_loss: 0.0369 - val_accuracy: 0.7815 - lr: 0.0010 - 17s/epoch - 20ms/step
Epoch 22/25
876/876 - 17s - loss: 0.0344 - accuracy: 0.7525 - val_loss: 0.0372 - val_accuracy: 0.7791 - lr: 0.0010 - 17s/epoch - 20ms/step
Epoch 23/25
876/876 - 17s - loss: 0.0344 - accuracy: 0.7525 - val_loss: 0.0370 - val_accuracy: 0.7807 - lr: 0.0010 - 17s/epoch - 20ms/step
Epoch 24/25
876/876 - 17s - loss: 0.0344 - accuracy: 0.7533 - val_loss: 0.0373 - val_accuracy: 0.7792 - lr: 0.0010 - 17s/epoch - 20ms/step
Epoch 25/25
876/876 - 17s - loss: 0.0345 - accuracy: 0.7526 - val_loss: 0.0369 - val_accuracy: 0.7839 - lr: 0.0010 - 17s/epoch - 20ms/step
fitting with batch size: 500
Epoch 1/25
176/176 - 12s - loss: 0.0344 - accuracy: 0.7527 - val_loss: 0.0370 - val_accuracy: 0.7807 - lr: 0.0010 - 12s/epoch - 66ms/step
Epoch 2/25
176/176 - 10s - loss: 0.0343 - accuracy: 0.7533 - val_loss: 0.0370 - val_accuracy: 0.7814 - lr: 0.0010 - 10s/epoch - 54ms/step
Epoch 3/25
176/176 - 10s - loss: 0.0344 - accuracy: 0.7533 - val_loss: 0.0370 - val_accuracy: 0.7802 - lr: 0.0010 - 10s/epoch - 55ms/step
Epoch 4/25
176/176 - 10s - loss: 0.0344 - accuracy: 0.7525 - val_loss: 0.0370 - val_accuracy: 0.7805 - lr: 0.0010 - 10s/epoch - 55ms/step
Epoch 5/25
176/176 - 10s - loss: 0.0345 - accuracy: 0.7525 - val_loss: 0.0370 - val_accuracy: 0.7802 - lr: 0.0010 - 10s/epoch - 55ms/step
Epoch 6/25
176/176 - 10s - loss: 0.0343 - accuracy: 0.7530 - val_loss: 0.0371 - val_accuracy: 0.7803 - lr: 0.0010 - 10s/epoch - 55ms/step
Epoch 7/25
176/176 - 10s - loss: 0.0343 - accuracy: 0.7537 - val_loss: 0.0371 - val_accuracy: 0.7796 - lr: 0.0010 - 10s/epoch - 55ms/step
Epoch 8/25
176/176 - 10s - loss: 0.0343 - accuracy: 0.7536 - val_loss: 0.0370 - val_accuracy: 0.7802 - lr: 0.0010 - 10s/epoch - 54ms/step
Epoch 9/25
176/176 - 10s - loss: 0.0344 - accuracy: 0.7526 - val_loss: 0.0371 - val_accuracy: 0.7799 - lr: 0.0010 - 10s/epoch - 55ms/step
Epoch 10/25
176/176 - 10s - loss: 0.0344 - accuracy: 0.7527 - val_loss: 0.0371 - val_accuracy: 0.7799 - lr: 0.0010 - 10s/epoch - 55ms/step
Epoch 11/25
176/176 - 10s - loss: 0.0344 - accuracy: 0.7523 - val_loss: 0.0371 - val_accuracy: 0.7792 - lr: 0.0010 - 10s/epoch - 55ms/step
Epoch 12/25
176/176 - 10s - loss: 0.0344 - accuracy: 0.7517 - val_loss: 0.0370 - val_accuracy: 0.7801 - lr: 0.0010 - 10s/epoch - 55ms/step
Epoch 13/25
176/176 - 10s - loss: 0.0344 - accuracy: 0.7523 - val_loss: 0.0370 - val_accuracy: 0.7802 - lr: 0.0010 - 10s/epoch - 55ms/step
Epoch 14/25
176/176 - 10s - loss: 0.0343 - accuracy: 0.7543 - val_loss: 0.0370 - val_accuracy: 0.7791 - lr: 0.0010 - 10s/epoch - 55ms/step
Epoch 15/25
176/176 - 10s - loss: 0.0344 - accuracy: 0.7539 - val_loss: 0.0371 - val_accuracy: 0.7790 - lr: 0.0010 - 10s/epoch - 54ms/step
Epoch 16/25
176/176 - 10s - loss: 0.0343 - accuracy: 0.7535 - val_loss: 0.0371 - val_accuracy: 0.7797 - lr: 0.0010 - 10s/epoch - 55ms/step
Epoch 17/25
176/176 - 10s - loss: 0.0344 - accuracy: 0.7542 - val_loss: 0.0370 - val_accuracy: 0.7803 - lr: 0.0010 - 10s/epoch - 55ms/step
Epoch 18/25
176/176 - 10s - loss: 0.0343 - accuracy: 0.7534 - val_loss: 0.0372 - val_accuracy: 0.7791 - lr: 0.0010 - 10s/epoch - 55ms/step
Epoch 19/25
176/176 - 10s - loss: 0.0343 - accuracy: 0.7538 - val_loss: 0.0371 - val_accuracy: 0.7798 - lr: 0.0010 - 10s/epoch - 55ms/step
Epoch 20/25
176/176 - 10s - loss: 0.0344 - accuracy: 0.7533 - val_loss: 0.0371 - val_accuracy: 0.7787 - lr: 0.0010 - 10s/epoch - 55ms/step
Epoch 21/25
176/176 - 10s - loss: 0.0344 - accuracy: 0.7522 - val_loss: 0.0371 - val_accuracy: 0.7801 - lr: 0.0010 - 10s/epoch - 55ms/step
Epoch 22/25
176/176 - 10s - loss: 0.0344 - accuracy: 0.7531 - val_loss: 0.0372 - val_accuracy: 0.7791 - lr: 0.0010 - 10s/epoch - 54ms/step
Epoch 23/25
176/176 - 10s - loss: 0.0344 - accuracy: 0.7523 - val_loss: 0.0371 - val_accuracy: 0.7799 - lr: 0.0010 - 10s/epoch - 55ms/step
Epoch 24/25
176/176 - 10s - loss: 0.0343 - accuracy: 0.7538 - val_loss: 0.0370 - val_accuracy: 0.7803 - lr: 0.0010 - 10s/epoch - 55ms/step
Epoch 25/25
176/176 - 10s - loss: 0.0344 - accuracy: 0.7524 - val_loss: 0.0372 - val_accuracy: 0.7787 - lr: 0.0010 - 10s/epoch - 56ms/step
fitting with batch size: 1500
Epoch 1/25
59/59 - 11s - loss: 0.0344 - accuracy: 0.7537 - val_loss: 0.0371 - val_accuracy: 0.7791 - lr: 0.0010 - 11s/epoch - 192ms/step
Epoch 2/25
59/59 - 9s - loss: 0.0344 - accuracy: 0.7543 - val_loss: 0.0371 - val_accuracy: 0.7795 - lr: 0.0010 - 9s/epoch - 155ms/step
Epoch 3/25
59/59 - 9s - loss: 0.0344 - accuracy: 0.7524 - val_loss: 0.0371 - val_accuracy: 0.7795 - lr: 0.0010 - 9s/epoch - 153ms/step
Epoch 4/25
59/59 - 9s - loss: 0.0345 - accuracy: 0.7517 - val_loss: 0.0371 - val_accuracy: 0.7797 - lr: 0.0010 - 9s/epoch - 150ms/step
Epoch 5/25
59/59 - 9s - loss: 0.0344 - accuracy: 0.7537 - val_loss: 0.0371 - val_accuracy: 0.7797 - lr: 0.0010 - 9s/epoch - 155ms/step
Epoch 6/25
59/59 - 10s - loss: 0.0344 - accuracy: 0.7536 - val_loss: 0.0371 - val_accuracy: 0.7793 - lr: 0.0010 - 10s/epoch - 161ms/step
Epoch 7/25
59/59 - 10s - loss: 0.0343 - accuracy: 0.7541 - val_loss: 0.0371 - val_accuracy: 0.7797 - lr: 0.0010 - 10s/epoch - 162ms/step
Epoch 8/25
59/59 - 9s - loss: 0.0344 - accuracy: 0.7537 - val_loss: 0.0371 - val_accuracy: 0.7795 - lr: 0.0010 - 9s/epoch - 151ms/step
Epoch 9/25
59/59 - 9s - loss: 0.0344 - accuracy: 0.7535 - val_loss: 0.0371 - val_accuracy: 0.7792 - lr: 0.0010 - 9s/epoch - 154ms/step
Epoch 10/25
59/59 - 9s - loss: 0.0344 - accuracy: 0.7521 - val_loss: 0.0371 - val_accuracy: 0.7798 - lr: 0.0010 - 9s/epoch - 149ms/step
Epoch 11/25
59/59 - 9s - loss: 0.0344 - accuracy: 0.7528 - val_loss: 0.0371 - val_accuracy: 0.7796 - lr: 0.0010 - 9s/epoch - 148ms/step
Epoch 12/25
59/59 - 9s - loss: 0.0344 - accuracy: 0.7521 - val_loss: 0.0371 - val_accuracy: 0.7800 - lr: 0.0010 - 9s/epoch - 152ms/step
Epoch 13/25
59/59 - 9s - loss: 0.0344 - accuracy: 0.7520 - val_loss: 0.0371 - val_accuracy: 0.7799 - lr: 0.0010 - 9s/epoch - 160ms/step
Epoch 14/25
59/59 - 10s - loss: 0.0343 - accuracy: 0.7533 - val_loss: 0.0371 - val_accuracy: 0.7798 - lr: 0.0010 - 10s/epoch - 162ms/step
Epoch 15/25
59/59 - 9s - loss: 0.0343 - accuracy: 0.7535 - val_loss: 0.0370 - val_accuracy: 0.7797 - lr: 0.0010 - 9s/epoch - 154ms/step
Epoch 16/25
59/59 - 9s - loss: 0.0343 - accuracy: 0.7550 - val_loss: 0.0371 - val_accuracy: 0.7796 - lr: 0.0010 - 9s/epoch - 152ms/step
Epoch 17/25
59/59 - 9s - loss: 0.0343 - accuracy: 0.7543 - val_loss: 0.0370 - val_accuracy: 0.7801 - lr: 0.0010 - 9s/epoch - 152ms/step
Epoch 18/25
59/59 - 9s - loss: 0.0343 - accuracy: 0.7542 - val_loss: 0.0370 - val_accuracy: 0.7807 - lr: 0.0010 - 9s/epoch - 149ms/step
Epoch 19/25
59/59 - 9s - loss: 0.0344 - accuracy: 0.7530 - val_loss: 0.0370 - val_accuracy: 0.7803 - lr: 0.0010 - 9s/epoch - 150ms/step
Epoch 20/25
59/59 - 9s - loss: 0.0343 - accuracy: 0.7531 - val_loss: 0.0371 - val_accuracy: 0.7799 - lr: 0.0010 - 9s/epoch - 153ms/step
Epoch 21/25
59/59 - 9s - loss: 0.0343 - accuracy: 0.7537 - val_loss: 0.0370 - val_accuracy: 0.7802 - lr: 0.0010 - 9s/epoch - 152ms/step
Epoch 22/25
59/59 - 9s - loss: 0.0344 - accuracy: 0.7534 - val_loss: 0.0370 - val_accuracy: 0.7801 - lr: 0.0010 - 9s/epoch - 152ms/step
Epoch 23/25
59/59 - 9s - loss: 0.0344 - accuracy: 0.7533 - val_loss: 0.0371 - val_accuracy: 0.7795 - lr: 0.0010 - 9s/epoch - 153ms/step
Epoch 24/25
59/59 - 9s - loss: 0.0344 - accuracy: 0.7530 - val_loss: 0.0371 - val_accuracy: 0.7796 - lr: 0.0010 - 9s/epoch - 153ms/step
Epoch 25/25
59/59 - 9s - loss: 0.0344 - accuracy: 0.7533 - val_loss: 0.0370 - val_accuracy: 0.7798 - lr: 0.0010 - 9s/epoch - 151ms/step
fitting with batch size: 2500
Epoch 1/25
36/36 - 11s - loss: 0.0344 - accuracy: 0.7526 - val_loss: 0.0370 - val_accuracy: 0.7801 - lr: 0.0010 - 11s/epoch - 314ms/step
Epoch 2/25
36/36 - 9s - loss: 0.0344 - accuracy: 0.7533 - val_loss: 0.0370 - val_accuracy: 0.7801 - lr: 0.0010 - 9s/epoch - 241ms/step
Epoch 3/25
36/36 - 9s - loss: 0.0344 - accuracy: 0.7530 - val_loss: 0.0371 - val_accuracy: 0.7796 - lr: 0.0010 - 9s/epoch - 240ms/step
Epoch 4/25
36/36 - 9s - loss: 0.0344 - accuracy: 0.7529 - val_loss: 0.0372 - val_accuracy: 0.7788 - lr: 0.0010 - 9s/epoch - 240ms/step
Epoch 5/25
36/36 - 9s - loss: 0.0344 - accuracy: 0.7525 - val_loss: 0.0372 - val_accuracy: 0.7785 - lr: 0.0010 - 9s/epoch - 241ms/step
Epoch 6/25
36/36 - 9s - loss: 0.0343 - accuracy: 0.7537 - val_loss: 0.0372 - val_accuracy: 0.7783 - lr: 0.0010 - 9s/epoch - 240ms/step
Epoch 7/25
36/36 - 9s - loss: 0.0344 - accuracy: 0.7526 - val_loss: 0.0372 - val_accuracy: 0.7783 - lr: 0.0010 - 9s/epoch - 237ms/step
Epoch 8/25
36/36 - 8s - loss: 0.0344 - accuracy: 0.7524 - val_loss: 0.0372 - val_accuracy: 0.7784 - lr: 0.0010 - 8s/epoch - 234ms/step
Epoch 9/25
36/36 - 9s - loss: 0.0344 - accuracy: 0.7529 - val_loss: 0.0372 - val_accuracy: 0.7782 - lr: 0.0010 - 9s/epoch - 240ms/step
Epoch 10/25
36/36 - 9s - loss: 0.0344 - accuracy: 0.7531 - val_loss: 0.0371 - val_accuracy: 0.7791 - lr: 0.0010 - 9s/epoch - 240ms/step
Epoch 11/25
36/36 - 9s - loss: 0.0344 - accuracy: 0.7534 - val_loss: 0.0371 - val_accuracy: 0.7793 - lr: 0.0010 - 9s/epoch - 239ms/step
Epoch 12/25
36/36 - 9s - loss: 0.0344 - accuracy: 0.7541 - val_loss: 0.0371 - val_accuracy: 0.7796 - lr: 0.0010 - 9s/epoch - 240ms/step
Epoch 13/25
36/36 - 9s - loss: 0.0344 - accuracy: 0.7523 - val_loss: 0.0371 - val_accuracy: 0.7801 - lr: 0.0010 - 9s/epoch - 242ms/step
Epoch 14/25
36/36 - 9s - loss: 0.0343 - accuracy: 0.7530 - val_loss: 0.0370 - val_accuracy: 0.7803 - lr: 0.0010 - 9s/epoch - 242ms/step
Epoch 15/25
36/36 - 8s - loss: 0.0343 - accuracy: 0.7537 - val_loss: 0.0371 - val_accuracy: 0.7800 - lr: 0.0010 - 8s/epoch - 233ms/step
Epoch 16/25
36/36 - 9s - loss: 0.0344 - accuracy: 0.7525 - val_loss: 0.0371 - val_accuracy: 0.7792 - lr: 0.0010 - 9s/epoch - 237ms/step
Epoch 17/25
36/36 - 9s - loss: 0.0343 - accuracy: 0.7535 - val_loss: 0.0372 - val_accuracy: 0.7790 - lr: 0.0010 - 9s/epoch - 240ms/step
Epoch 18/25
36/36 - 9s - loss: 0.0345 - accuracy: 0.7516 - val_loss: 0.0371 - val_accuracy: 0.7791 - lr: 0.0010 - 9s/epoch - 241ms/step
Epoch 19/25
36/36 - 9s - loss: 0.0344 - accuracy: 0.7534 - val_loss: 0.0371 - val_accuracy: 0.7801 - lr: 0.0010 - 9s/epoch - 239ms/step
Epoch 20/25
36/36 - 9s - loss: 0.0343 - accuracy: 0.7529 - val_loss: 0.0370 - val_accuracy: 0.7800 - lr: 0.0010 - 9s/epoch - 241ms/step
Epoch 21/25
36/36 - 9s - loss: 0.0344 - accuracy: 0.7539 - val_loss: 0.0371 - val_accuracy: 0.7798 - lr: 0.0010 - 9s/epoch - 241ms/step
Epoch 22/25
36/36 - 9s - loss: 0.0343 - accuracy: 0.7535 - val_loss: 0.0370 - val_accuracy: 0.7804 - lr: 0.0010 - 9s/epoch - 238ms/step
Epoch 23/25
36/36 - 8s - loss: 0.0343 - accuracy: 0.7540 - val_loss: 0.0370 - val_accuracy: 0.7802 - lr: 0.0010 - 8s/epoch - 234ms/step
Epoch 24/25
36/36 - 9s - loss: 0.0343 - accuracy: 0.7539 - val_loss: 0.0370 - val_accuracy: 0.7803 - lr: 0.0010 - 9s/epoch - 239ms/step
Epoch 25/25
36/36 - 9s - loss: 0.0344 - accuracy: 0.7533 - val_loss: 0.0370 - val_accuracy: 0.7801 - lr: 0.0010 - 9s/epoch - 243ms/step
Epoch number: 50
fitting with batch size: 20
Epoch 1/50
4378/4378 - 71s - loss: 0.0345 - accuracy: 0.7524 - val_loss: 0.0356 - val_accuracy: 0.7929 - lr: 0.0010 - 71s/epoch - 16ms/step
Epoch 2/50
4378/4378 - 70s - loss: 0.0345 - accuracy: 0.7529 - val_loss: 0.0372 - val_accuracy: 0.7796 - lr: 0.0010 - 70s/epoch - 16ms/step
Epoch 3/50
4378/4378 - 69s - loss: 0.0345 - accuracy: 0.7523 - val_loss: 0.0373 - val_accuracy: 0.7774 - lr: 0.0010 - 69s/epoch - 16ms/step
Epoch 4/50
4378/4378 - 68s - loss: 0.0344 - accuracy: 0.7525 - val_loss: 0.0376 - val_accuracy: 0.7782 - lr: 0.0010 - 68s/epoch - 16ms/step
Epoch 5/50
4378/4378 - 69s - loss: 0.0345 - accuracy: 0.7532 - val_loss: 0.0372 - val_accuracy: 0.7783 - lr: 0.0010 - 69s/epoch - 16ms/step
Epoch 6/50
4378/4378 - 68s - loss: 0.0345 - accuracy: 0.7524 - val_loss: 0.0373 - val_accuracy: 0.7784 - lr: 0.0010 - 68s/epoch - 16ms/step
Epoch 7/50
4378/4378 - 68s - loss: 0.0344 - accuracy: 0.7534 - val_loss: 0.0372 - val_accuracy: 0.7788 - lr: 0.0010 - 68s/epoch - 16ms/step
Epoch 8/50
4378/4378 - 68s - loss: 0.0345 - accuracy: 0.7529 - val_loss: 0.0368 - val_accuracy: 0.7801 - lr: 0.0010 - 68s/epoch - 16ms/step
Epoch 9/50
4378/4378 - 68s - loss: 0.0345 - accuracy: 0.7514 - val_loss: 0.0373 - val_accuracy: 0.7807 - lr: 0.0010 - 68s/epoch - 16ms/step
Epoch 10/50
4378/4378 - 68s - loss: 0.0344 - accuracy: 0.7526 - val_loss: 0.0376 - val_accuracy: 0.7744 - lr: 0.0010 - 68s/epoch - 16ms/step
Epoch 11/50
4378/4378 - 68s - loss: 0.0345 - accuracy: 0.7524 - val_loss: 0.0378 - val_accuracy: 0.7733 - lr: 0.0010 - 68s/epoch - 16ms/step
Epoch 12/50
4378/4378 - 68s - loss: 0.0345 - accuracy: 0.7519 - val_loss: 0.0380 - val_accuracy: 0.7727 - lr: 0.0010 - 68s/epoch - 16ms/step
Epoch 13/50
4378/4378 - 68s - loss: 0.0344 - accuracy: 0.7540 - val_loss: 0.0370 - val_accuracy: 0.7812 - lr: 0.0010 - 68s/epoch - 16ms/step
Epoch 14/50
4378/4378 - 68s - loss: 0.0345 - accuracy: 0.7537 - val_loss: 0.0364 - val_accuracy: 0.7838 - lr: 0.0010 - 68s/epoch - 16ms/step
Epoch 15/50
4378/4378 - 68s - loss: 0.0345 - accuracy: 0.7521 - val_loss: 0.0369 - val_accuracy: 0.7825 - lr: 0.0010 - 68s/epoch - 16ms/step
Epoch 16/50
4378/4378 - 68s - loss: 0.0344 - accuracy: 0.7536 - val_loss: 0.0375 - val_accuracy: 0.7795 - lr: 0.0010 - 68s/epoch - 16ms/step
Epoch 17/50
4378/4378 - 68s - loss: 0.0345 - accuracy: 0.7527 - val_loss: 0.0379 - val_accuracy: 0.7755 - lr: 0.0010 - 68s/epoch - 16ms/step
Epoch 18/50
4378/4378 - 68s - loss: 0.0344 - accuracy: 0.7526 - val_loss: 0.0367 - val_accuracy: 0.7855 - lr: 0.0010 - 68s/epoch - 16ms/step
Epoch 19/50
4378/4378 - 68s - loss: 0.0345 - accuracy: 0.7524 - val_loss: 0.0374 - val_accuracy: 0.7757 - lr: 0.0010 - 68s/epoch - 16ms/step
Epoch 20/50
4378/4378 - 68s - loss: 0.0344 - accuracy: 0.7529 - val_loss: 0.0374 - val_accuracy: 0.7797 - lr: 0.0010 - 68s/epoch - 16ms/step
Epoch 21/50
4378/4378 - 68s - loss: 0.0344 - accuracy: 0.7530 - val_loss: 0.0370 - val_accuracy: 0.7796 - lr: 0.0010 - 68s/epoch - 16ms/step
Epoch 22/50
4378/4378 - 68s - loss: 0.0345 - accuracy: 0.7529 - val_loss: 0.0368 - val_accuracy: 0.7829 - lr: 0.0010 - 68s/epoch - 16ms/step
Epoch 23/50
4378/4378 - 68s - loss: 0.0344 - accuracy: 0.7528 - val_loss: 0.0374 - val_accuracy: 0.7770 - lr: 0.0010 - 68s/epoch - 16ms/step
Epoch 24/50
4378/4378 - 68s - loss: 0.0344 - accuracy: 0.7535 - val_loss: 0.0368 - val_accuracy: 0.7831 - lr: 0.0010 - 68s/epoch - 16ms/step
Epoch 25/50
4378/4378 - 68s - loss: 0.0345 - accuracy: 0.7527 - val_loss: 0.0367 - val_accuracy: 0.7831 - lr: 0.0010 - 68s/epoch - 16ms/step
Epoch 26/50
4378/4378 - 67s - loss: 0.0343 - accuracy: 0.7531 - val_loss: 0.0372 - val_accuracy: 0.7835 - lr: 0.0010 - 67s/epoch - 15ms/step
Epoch 27/50
4378/4378 - 68s - loss: 0.0344 - accuracy: 0.7546 - val_loss: 0.0375 - val_accuracy: 0.7757 - lr: 0.0010 - 68s/epoch - 16ms/step
Epoch 28/50
4378/4378 - 68s - loss: 0.0344 - accuracy: 0.7532 - val_loss: 0.0364 - val_accuracy: 0.7870 - lr: 0.0010 - 68s/epoch - 15ms/step
Epoch 29/50
4378/4378 - 68s - loss: 0.0343 - accuracy: 0.7532 - val_loss: 0.0375 - val_accuracy: 0.7787 - lr: 0.0010 - 68s/epoch - 15ms/step
Epoch 30/50
4378/4378 - 68s - loss: 0.0343 - accuracy: 0.7540 - val_loss: 0.0372 - val_accuracy: 0.7805 - lr: 0.0010 - 68s/epoch - 16ms/step
Epoch 31/50
4378/4378 - 68s - loss: 0.0344 - accuracy: 0.7539 - val_loss: 0.0368 - val_accuracy: 0.7803 - lr: 0.0010 - 68s/epoch - 16ms/step
Epoch 32/50
4378/4378 - 68s - loss: 0.0344 - accuracy: 0.7539 - val_loss: 0.0382 - val_accuracy: 0.7728 - lr: 0.0010 - 68s/epoch - 16ms/step
Epoch 33/50
4378/4378 - 69s - loss: 0.0344 - accuracy: 0.7530 - val_loss: 0.0363 - val_accuracy: 0.7856 - lr: 0.0010 - 69s/epoch - 16ms/step
Epoch 34/50
4378/4378 - 68s - loss: 0.0344 - accuracy: 0.7535 - val_loss: 0.0375 - val_accuracy: 0.7757 - lr: 0.0010 - 68s/epoch - 16ms/step
Epoch 35/50
4378/4378 - 68s - loss: 0.0344 - accuracy: 0.7548 - val_loss: 0.0372 - val_accuracy: 0.7770 - lr: 0.0010 - 68s/epoch - 15ms/step
Epoch 36/50
4378/4378 - 68s - loss: 0.0344 - accuracy: 0.7544 - val_loss: 0.0372 - val_accuracy: 0.7794 - lr: 0.0010 - 68s/epoch - 15ms/step
Epoch 37/50
4378/4378 - 68s - loss: 0.0343 - accuracy: 0.7550 - val_loss: 0.0373 - val_accuracy: 0.7774 - lr: 0.0010 - 68s/epoch - 15ms/step
Epoch 38/50
4378/4378 - 68s - loss: 0.0344 - accuracy: 0.7543 - val_loss: 0.0370 - val_accuracy: 0.7846 - lr: 0.0010 - 68s/epoch - 15ms/step
Epoch 39/50
4378/4378 - 68s - loss: 0.0343 - accuracy: 0.7537 - val_loss: 0.0378 - val_accuracy: 0.7724 - lr: 0.0010 - 68s/epoch - 15ms/step
Epoch 40/50
4378/4378 - 68s - loss: 0.0343 - accuracy: 0.7545 - val_loss: 0.0370 - val_accuracy: 0.7801 - lr: 0.0010 - 68s/epoch - 16ms/step
Epoch 41/50
4378/4378 - 69s - loss: 0.0343 - accuracy: 0.7541 - val_loss: 0.0362 - val_accuracy: 0.7869 - lr: 0.0010 - 69s/epoch - 16ms/step
Epoch 42/50
4378/4378 - 67s - loss: 0.0343 - accuracy: 0.7542 - val_loss: 0.0371 - val_accuracy: 0.7832 - lr: 0.0010 - 67s/epoch - 15ms/step
Epoch 43/50
4378/4378 - 68s - loss: 0.0343 - accuracy: 0.7538 - val_loss: 0.0369 - val_accuracy: 0.7818 - lr: 0.0010 - 68s/epoch - 16ms/step
Epoch 44/50
4378/4378 - 68s - loss: 0.0342 - accuracy: 0.7548 - val_loss: 0.0369 - val_accuracy: 0.7813 - lr: 0.0010 - 68s/epoch - 16ms/step
Epoch 45/50
4378/4378 - 68s - loss: 0.0342 - accuracy: 0.7550 - val_loss: 0.0369 - val_accuracy: 0.7816 - lr: 0.0010 - 68s/epoch - 15ms/step
Epoch 46/50
4378/4378 - 68s - loss: 0.0343 - accuracy: 0.7538 - val_loss: 0.0381 - val_accuracy: 0.7705 - lr: 0.0010 - 68s/epoch - 15ms/step
Epoch 47/50
4378/4378 - 68s - loss: 0.0343 - accuracy: 0.7537 - val_loss: 0.0370 - val_accuracy: 0.7845 - lr: 0.0010 - 68s/epoch - 16ms/step
Epoch 48/50
4378/4378 - 68s - loss: 0.0343 - accuracy: 0.7538 - val_loss: 0.0377 - val_accuracy: 0.7755 - lr: 0.0010 - 68s/epoch - 16ms/step
Epoch 49/50
4378/4378 - 68s - loss: 0.0343 - accuracy: 0.7548 - val_loss: 0.0377 - val_accuracy: 0.7792 - lr: 0.0010 - 68s/epoch - 16ms/step
Epoch 50/50
4378/4378 - 68s - loss: 0.0343 - accuracy: 0.7544 - val_loss: 0.0375 - val_accuracy: 0.7799 - lr: 0.0010 - 68s/epoch - 16ms/step
fitting with batch size: 100
Epoch 1/50
876/876 - 20s - loss: 0.0341 - accuracy: 0.7566 - val_loss: 0.0372 - val_accuracy: 0.7790 - lr: 0.0010 - 20s/epoch - 22ms/step
Epoch 2/50
876/876 - 17s - loss: 0.0341 - accuracy: 0.7545 - val_loss: 0.0368 - val_accuracy: 0.7799 - lr: 0.0010 - 17s/epoch - 20ms/step
Epoch 3/50
876/876 - 17s - loss: 0.0341 - accuracy: 0.7550 - val_loss: 0.0371 - val_accuracy: 0.7793 - lr: 0.0010 - 17s/epoch - 20ms/step
Epoch 4/50
876/876 - 17s - loss: 0.0341 - accuracy: 0.7563 - val_loss: 0.0370 - val_accuracy: 0.7818 - lr: 0.0010 - 17s/epoch - 20ms/step
Epoch 5/50
876/876 - 17s - loss: 0.0341 - accuracy: 0.7547 - val_loss: 0.0370 - val_accuracy: 0.7823 - lr: 0.0010 - 17s/epoch - 20ms/step
Epoch 6/50
876/876 - 17s - loss: 0.0342 - accuracy: 0.7552 - val_loss: 0.0369 - val_accuracy: 0.7819 - lr: 0.0010 - 17s/epoch - 20ms/step
Epoch 7/50
876/876 - 17s - loss: 0.0342 - accuracy: 0.7547 - val_loss: 0.0371 - val_accuracy: 0.7816 - lr: 0.0010 - 17s/epoch - 20ms/step
Epoch 8/50
876/876 - 17s - loss: 0.0342 - accuracy: 0.7558 - val_loss: 0.0371 - val_accuracy: 0.7804 - lr: 0.0010 - 17s/epoch - 20ms/step
Epoch 9/50
876/876 - 17s - loss: 0.0341 - accuracy: 0.7562 - val_loss: 0.0369 - val_accuracy: 0.7823 - lr: 0.0010 - 17s/epoch - 20ms/step
Epoch 10/50
876/876 - 17s - loss: 0.0341 - accuracy: 0.7557 - val_loss: 0.0370 - val_accuracy: 0.7818 - lr: 0.0010 - 17s/epoch - 20ms/step
Epoch 11/50
876/876 - 17s - loss: 0.0341 - accuracy: 0.7563 - val_loss: 0.0372 - val_accuracy: 0.7798 - lr: 0.0010 - 17s/epoch - 20ms/step
Epoch 12/50
876/876 - 17s - loss: 0.0340 - accuracy: 0.7570 - val_loss: 0.0376 - val_accuracy: 0.7772 - lr: 0.0010 - 17s/epoch - 20ms/step
Epoch 13/50
876/876 - 17s - loss: 0.0341 - accuracy: 0.7558 - val_loss: 0.0368 - val_accuracy: 0.7817 - lr: 0.0010 - 17s/epoch - 20ms/step
Epoch 14/50
876/876 - 17s - loss: 0.0342 - accuracy: 0.7546 - val_loss: 0.0372 - val_accuracy: 0.7793 - lr: 0.0010 - 17s/epoch - 20ms/step
Epoch 15/50
876/876 - 17s - loss: 0.0341 - accuracy: 0.7562 - val_loss: 0.0368 - val_accuracy: 0.7836 - lr: 0.0010 - 17s/epoch - 20ms/step
Epoch 16/50
876/876 - 17s - loss: 0.0341 - accuracy: 0.7561 - val_loss: 0.0372 - val_accuracy: 0.7786 - lr: 0.0010 - 17s/epoch - 20ms/step
Epoch 17/50
876/876 - 18s - loss: 0.0341 - accuracy: 0.7569 - val_loss: 0.0372 - val_accuracy: 0.7800 - lr: 0.0010 - 18s/epoch - 20ms/step
Epoch 18/50
876/876 - 18s - loss: 0.0342 - accuracy: 0.7556 - val_loss: 0.0370 - val_accuracy: 0.7809 - lr: 0.0010 - 18s/epoch - 20ms/step
Epoch 19/50
876/876 - 17s - loss: 0.0340 - accuracy: 0.7547 - val_loss: 0.0366 - val_accuracy: 0.7853 - lr: 0.0010 - 17s/epoch - 20ms/step
Epoch 20/50
876/876 - 17s - loss: 0.0341 - accuracy: 0.7557 - val_loss: 0.0373 - val_accuracy: 0.7785 - lr: 0.0010 - 17s/epoch - 20ms/step
Epoch 21/50
876/876 - 17s - loss: 0.0342 - accuracy: 0.7539 - val_loss: 0.0371 - val_accuracy: 0.7815 - lr: 0.0010 - 17s/epoch - 20ms/step
Epoch 22/50
876/876 - 17s - loss: 0.0342 - accuracy: 0.7555 - val_loss: 0.0374 - val_accuracy: 0.7788 - lr: 0.0010 - 17s/epoch - 20ms/step
Epoch 23/50
876/876 - 17s - loss: 0.0340 - accuracy: 0.7567 - val_loss: 0.0371 - val_accuracy: 0.7801 - lr: 0.0010 - 17s/epoch - 20ms/step
Epoch 24/50
876/876 - 17s - loss: 0.0341 - accuracy: 0.7555 - val_loss: 0.0374 - val_accuracy: 0.7785 - lr: 0.0010 - 17s/epoch - 20ms/step
Epoch 25/50
876/876 - 17s - loss: 0.0340 - accuracy: 0.7568 - val_loss: 0.0374 - val_accuracy: 0.7780 - lr: 0.0010 - 17s/epoch - 20ms/step
Epoch 26/50
876/876 - 17s - loss: 0.0341 - accuracy: 0.7561 - val_loss: 0.0371 - val_accuracy: 0.7791 - lr: 0.0010 - 17s/epoch - 20ms/step
Epoch 27/50
876/876 - 17s - loss: 0.0341 - accuracy: 0.7560 - val_loss: 0.0374 - val_accuracy: 0.7793 - lr: 0.0010 - 17s/epoch - 20ms/step
Epoch 28/50
876/876 - 18s - loss: 0.0341 - accuracy: 0.7558 - val_loss: 0.0372 - val_accuracy: 0.7810 - lr: 0.0010 - 18s/epoch - 20ms/step
Epoch 29/50
876/876 - 17s - loss: 0.0341 - accuracy: 0.7568 - val_loss: 0.0372 - val_accuracy: 0.7803 - lr: 0.0010 - 17s/epoch - 20ms/step
Epoch 30/50
876/876 - 17s - loss: 0.0341 - accuracy: 0.7554 - val_loss: 0.0371 - val_accuracy: 0.7811 - lr: 0.0010 - 17s/epoch - 20ms/step
Epoch 31/50
876/876 - 17s - loss: 0.0340 - accuracy: 0.7568 - val_loss: 0.0367 - val_accuracy: 0.7839 - lr: 0.0010 - 17s/epoch - 19ms/step
Epoch 32/50
876/876 - 17s - loss: 0.0341 - accuracy: 0.7560 - val_loss: 0.0369 - val_accuracy: 0.7841 - lr: 0.0010 - 17s/epoch - 20ms/step
Epoch 33/50
876/876 - 17s - loss: 0.0341 - accuracy: 0.7566 - val_loss: 0.0367 - val_accuracy: 0.7843 - lr: 0.0010 - 17s/epoch - 20ms/step
Epoch 34/50
876/876 - 17s - loss: 0.0340 - accuracy: 0.7574 - val_loss: 0.0370 - val_accuracy: 0.7819 - lr: 0.0010 - 17s/epoch - 20ms/step
Epoch 35/50
876/876 - 17s - loss: 0.0340 - accuracy: 0.7555 - val_loss: 0.0365 - val_accuracy: 0.7868 - lr: 0.0010 - 17s/epoch - 20ms/step
Epoch 36/50
876/876 - 17s - loss: 0.0341 - accuracy: 0.7572 - val_loss: 0.0369 - val_accuracy: 0.7822 - lr: 0.0010 - 17s/epoch - 20ms/step
Epoch 37/50
876/876 - 17s - loss: 0.0341 - accuracy: 0.7556 - val_loss: 0.0373 - val_accuracy: 0.7802 - lr: 0.0010 - 17s/epoch - 20ms/step
Epoch 38/50
876/876 - 17s - loss: 0.0341 - accuracy: 0.7558 - val_loss: 0.0368 - val_accuracy: 0.7823 - lr: 0.0010 - 17s/epoch - 20ms/step
Epoch 39/50
876/876 - 17s - loss: 0.0340 - accuracy: 0.7571 - val_loss: 0.0373 - val_accuracy: 0.7791 - lr: 0.0010 - 17s/epoch - 20ms/step
Epoch 40/50
876/876 - 17s - loss: 0.0341 - accuracy: 0.7551 - val_loss: 0.0371 - val_accuracy: 0.7803 - lr: 0.0010 - 17s/epoch - 20ms/step
Epoch 41/50
876/876 - 17s - loss: 0.0342 - accuracy: 0.7550 - val_loss: 0.0370 - val_accuracy: 0.7807 - lr: 0.0010 - 17s/epoch - 20ms/step
Epoch 42/50
876/876 - 17s - loss: 0.0341 - accuracy: 0.7554 - val_loss: 0.0371 - val_accuracy: 0.7816 - lr: 0.0010 - 17s/epoch - 20ms/step
Epoch 43/50
876/876 - 17s - loss: 0.0340 - accuracy: 0.7572 - val_loss: 0.0369 - val_accuracy: 0.7818 - lr: 0.0010 - 17s/epoch - 20ms/step
Epoch 44/50
876/876 - 17s - loss: 0.0341 - accuracy: 0.7556 - val_loss: 0.0370 - val_accuracy: 0.7830 - lr: 0.0010 - 17s/epoch - 20ms/step
Epoch 45/50
876/876 - 18s - loss: 0.0340 - accuracy: 0.7579 - val_loss: 0.0371 - val_accuracy: 0.7815 - lr: 0.0010 - 18s/epoch - 20ms/step
Epoch 46/50
876/876 - 17s - loss: 0.0342 - accuracy: 0.7557 - val_loss: 0.0369 - val_accuracy: 0.7821 - lr: 0.0010 - 17s/epoch - 20ms/step
Epoch 47/50
876/876 - 17s - loss: 0.0340 - accuracy: 0.7564 - val_loss: 0.0370 - val_accuracy: 0.7815 - lr: 0.0010 - 17s/epoch - 20ms/step
Epoch 48/50
876/876 - 17s - loss: 0.0340 - accuracy: 0.7569 - val_loss: 0.0370 - val_accuracy: 0.7814 - lr: 0.0010 - 17s/epoch - 20ms/step
Epoch 49/50
876/876 - 17s - loss: 0.0341 - accuracy: 0.7554 - val_loss: 0.0374 - val_accuracy: 0.7788 - lr: 0.0010 - 17s/epoch - 20ms/step
Epoch 50/50
876/876 - 17s - loss: 0.0340 - accuracy: 0.7576 - val_loss: 0.0371 - val_accuracy: 0.7780 - lr: 0.0010 - 17s/epoch - 20ms/step
fitting with batch size: 500
Epoch 1/50
176/176 - 12s - loss: 0.0340 - accuracy: 0.7572 - val_loss: 0.0369 - val_accuracy: 0.7818 - lr: 0.0010 - 12s/epoch - 67ms/step
Epoch 2/50
176/176 - 10s - loss: 0.0340 - accuracy: 0.7566 - val_loss: 0.0371 - val_accuracy: 0.7804 - lr: 0.0010 - 10s/epoch - 55ms/step
Epoch 3/50
176/176 - 10s - loss: 0.0341 - accuracy: 0.7564 - val_loss: 0.0370 - val_accuracy: 0.7807 - lr: 0.0010 - 10s/epoch - 55ms/step
Epoch 4/50
176/176 - 10s - loss: 0.0340 - accuracy: 0.7578 - val_loss: 0.0371 - val_accuracy: 0.7801 - lr: 0.0010 - 10s/epoch - 54ms/step
Epoch 5/50
176/176 - 10s - loss: 0.0341 - accuracy: 0.7553 - val_loss: 0.0372 - val_accuracy: 0.7801 - lr: 0.0010 - 10s/epoch - 55ms/step
Epoch 6/50
176/176 - 9s - loss: 0.0341 - accuracy: 0.7559 - val_loss: 0.0373 - val_accuracy: 0.7796 - lr: 0.0010 - 9s/epoch - 54ms/step
Epoch 7/50
176/176 - 9s - loss: 0.0340 - accuracy: 0.7581 - val_loss: 0.0371 - val_accuracy: 0.7814 - lr: 0.0010 - 9s/epoch - 54ms/step
Epoch 8/50
176/176 - 10s - loss: 0.0341 - accuracy: 0.7556 - val_loss: 0.0370 - val_accuracy: 0.7817 - lr: 0.0010 - 10s/epoch - 55ms/step
Epoch 9/50
176/176 - 10s - loss: 0.0340 - accuracy: 0.7559 - val_loss: 0.0370 - val_accuracy: 0.7814 - lr: 0.0010 - 10s/epoch - 54ms/step
Epoch 10/50
176/176 - 10s - loss: 0.0340 - accuracy: 0.7579 - val_loss: 0.0370 - val_accuracy: 0.7813 - lr: 0.0010 - 10s/epoch - 55ms/step
Epoch 11/50
176/176 - 10s - loss: 0.0340 - accuracy: 0.7560 - val_loss: 0.0371 - val_accuracy: 0.7804 - lr: 0.0010 - 10s/epoch - 54ms/step
Epoch 12/50
176/176 - 10s - loss: 0.0340 - accuracy: 0.7561 - val_loss: 0.0373 - val_accuracy: 0.7797 - lr: 0.0010 - 10s/epoch - 55ms/step
Epoch 13/50
176/176 - 9s - loss: 0.0341 - accuracy: 0.7556 - val_loss: 0.0371 - val_accuracy: 0.7811 - lr: 0.0010 - 9s/epoch - 54ms/step
Epoch 14/50
176/176 - 10s - loss: 0.0340 - accuracy: 0.7568 - val_loss: 0.0371 - val_accuracy: 0.7809 - lr: 0.0010 - 10s/epoch - 54ms/step
Epoch 15/50
176/176 - 10s - loss: 0.0340 - accuracy: 0.7577 - val_loss: 0.0373 - val_accuracy: 0.7794 - lr: 0.0010 - 10s/epoch - 55ms/step
Epoch 16/50
176/176 - 10s - loss: 0.0341 - accuracy: 0.7564 - val_loss: 0.0372 - val_accuracy: 0.7801 - lr: 0.0010 - 10s/epoch - 54ms/step
Epoch 17/50
176/176 - 10s - loss: 0.0340 - accuracy: 0.7572 - val_loss: 0.0372 - val_accuracy: 0.7802 - lr: 0.0010 - 10s/epoch - 55ms/step
Epoch 18/50
176/176 - 10s - loss: 0.0340 - accuracy: 0.7570 - val_loss: 0.0372 - val_accuracy: 0.7796 - lr: 0.0010 - 10s/epoch - 55ms/step
Epoch 19/50
176/176 - 10s - loss: 0.0340 - accuracy: 0.7564 - val_loss: 0.0372 - val_accuracy: 0.7806 - lr: 0.0010 - 10s/epoch - 55ms/step
Epoch 20/50
176/176 - 10s - loss: 0.0340 - accuracy: 0.7561 - val_loss: 0.0371 - val_accuracy: 0.7810 - lr: 0.0010 - 10s/epoch - 54ms/step
Epoch 21/50
176/176 - 10s - loss: 0.0340 - accuracy: 0.7566 - val_loss: 0.0370 - val_accuracy: 0.7814 - lr: 0.0010 - 10s/epoch - 55ms/step
Epoch 22/50
176/176 - 10s - loss: 0.0340 - accuracy: 0.7561 - val_loss: 0.0372 - val_accuracy: 0.7802 - lr: 0.0010 - 10s/epoch - 55ms/step
Epoch 23/50
176/176 - 10s - loss: 0.0341 - accuracy: 0.7558 - val_loss: 0.0372 - val_accuracy: 0.7803 - lr: 0.0010 - 10s/epoch - 55ms/step
Epoch 24/50
176/176 - 10s - loss: 0.0341 - accuracy: 0.7575 - val_loss: 0.0372 - val_accuracy: 0.7804 - lr: 0.0010 - 10s/epoch - 54ms/step
Epoch 25/50
176/176 - 10s - loss: 0.0341 - accuracy: 0.7561 - val_loss: 0.0371 - val_accuracy: 0.7810 - lr: 0.0010 - 10s/epoch - 56ms/step
Epoch 26/50
176/176 - 10s - loss: 0.0340 - accuracy: 0.7577 - val_loss: 0.0370 - val_accuracy: 0.7816 - lr: 0.0010 - 10s/epoch - 58ms/step
Epoch 27/50
176/176 - 10s - loss: 0.0341 - accuracy: 0.7558 - val_loss: 0.0369 - val_accuracy: 0.7822 - lr: 0.0010 - 10s/epoch - 54ms/step
Epoch 28/50
176/176 - 10s - loss: 0.0341 - accuracy: 0.7558 - val_loss: 0.0370 - val_accuracy: 0.7822 - lr: 0.0010 - 10s/epoch - 55ms/step
Epoch 29/50
176/176 - 10s - loss: 0.0340 - accuracy: 0.7575 - val_loss: 0.0371 - val_accuracy: 0.7817 - lr: 0.0010 - 10s/epoch - 57ms/step
Epoch 30/50
176/176 - 10s - loss: 0.0340 - accuracy: 0.7572 - val_loss: 0.0371 - val_accuracy: 0.7817 - lr: 0.0010 - 10s/epoch - 58ms/step
Epoch 31/50
176/176 - 10s - loss: 0.0341 - accuracy: 0.7554 - val_loss: 0.0371 - val_accuracy: 0.7815 - lr: 0.0010 - 10s/epoch - 55ms/step
Epoch 32/50
176/176 - 10s - loss: 0.0340 - accuracy: 0.7568 - val_loss: 0.0372 - val_accuracy: 0.7806 - lr: 0.0010 - 10s/epoch - 55ms/step
Epoch 33/50
176/176 - 10s - loss: 0.0340 - accuracy: 0.7560 - val_loss: 0.0369 - val_accuracy: 0.7824 - lr: 0.0010 - 10s/epoch - 54ms/step
Epoch 34/50
176/176 - 10s - loss: 0.0341 - accuracy: 0.7566 - val_loss: 0.0370 - val_accuracy: 0.7820 - lr: 0.0010 - 10s/epoch - 54ms/step
Epoch 35/50
176/176 - 10s - loss: 0.0340 - accuracy: 0.7571 - val_loss: 0.0371 - val_accuracy: 0.7807 - lr: 0.0010 - 10s/epoch - 55ms/step
Epoch 36/50
176/176 - 10s - loss: 0.0340 - accuracy: 0.7564 - val_loss: 0.0370 - val_accuracy: 0.7818 - lr: 0.0010 - 10s/epoch - 55ms/step
Epoch 37/50
176/176 - 10s - loss: 0.0340 - accuracy: 0.7565 - val_loss: 0.0370 - val_accuracy: 0.7817 - lr: 0.0010 - 10s/epoch - 55ms/step
Epoch 38/50
176/176 - 10s - loss: 0.0340 - accuracy: 0.7571 - val_loss: 0.0370 - val_accuracy: 0.7819 - lr: 0.0010 - 10s/epoch - 55ms/step
Epoch 39/50
176/176 - 10s - loss: 0.0339 - accuracy: 0.7565 - val_loss: 0.0369 - val_accuracy: 0.7817 - lr: 0.0010 - 10s/epoch - 55ms/step
Epoch 40/50
176/176 - 10s - loss: 0.0341 - accuracy: 0.7552 - val_loss: 0.0371 - val_accuracy: 0.7815 - lr: 0.0010 - 10s/epoch - 55ms/step
Epoch 41/50
176/176 - 10s - loss: 0.0341 - accuracy: 0.7567 - val_loss: 0.0370 - val_accuracy: 0.7812 - lr: 0.0010 - 10s/epoch - 55ms/step
Epoch 42/50
176/176 - 10s - loss: 0.0341 - accuracy: 0.7567 - val_loss: 0.0370 - val_accuracy: 0.7815 - lr: 0.0010 - 10s/epoch - 55ms/step
Epoch 43/50
176/176 - 10s - loss: 0.0340 - accuracy: 0.7572 - val_loss: 0.0370 - val_accuracy: 0.7818 - lr: 0.0010 - 10s/epoch - 55ms/step
Epoch 44/50
176/176 - 10s - loss: 0.0340 - accuracy: 0.7583 - val_loss: 0.0369 - val_accuracy: 0.7821 - lr: 0.0010 - 10s/epoch - 55ms/step
Epoch 45/50
176/176 - 10s - loss: 0.0340 - accuracy: 0.7575 - val_loss: 0.0370 - val_accuracy: 0.7812 - lr: 0.0010 - 10s/epoch - 55ms/step
Epoch 46/50
176/176 - 10s - loss: 0.0340 - accuracy: 0.7570 - val_loss: 0.0371 - val_accuracy: 0.7816 - lr: 0.0010 - 10s/epoch - 55ms/step
Epoch 47/50
176/176 - 10s - loss: 0.0341 - accuracy: 0.7573 - val_loss: 0.0371 - val_accuracy: 0.7809 - lr: 0.0010 - 10s/epoch - 54ms/step
Epoch 48/50
176/176 - 10s - loss: 0.0340 - accuracy: 0.7567 - val_loss: 0.0370 - val_accuracy: 0.7820 - lr: 0.0010 - 10s/epoch - 55ms/step
Epoch 49/50
176/176 - 10s - loss: 0.0339 - accuracy: 0.7575 - val_loss: 0.0370 - val_accuracy: 0.7817 - lr: 0.0010 - 10s/epoch - 55ms/step
Epoch 50/50
176/176 - 10s - loss: 0.0340 - accuracy: 0.7560 - val_loss: 0.0371 - val_accuracy: 0.7805 - lr: 0.0010 - 10s/epoch - 55ms/step
fitting with batch size: 1500
Epoch 1/50
59/59 - 11s - loss: 0.0341 - accuracy: 0.7561 - val_loss: 0.0371 - val_accuracy: 0.7805 - lr: 0.0010 - 11s/epoch - 187ms/step
Epoch 2/50
59/59 - 9s - loss: 0.0340 - accuracy: 0.7565 - val_loss: 0.0371 - val_accuracy: 0.7811 - lr: 0.0010 - 9s/epoch - 152ms/step
Epoch 3/50
59/59 - 9s - loss: 0.0341 - accuracy: 0.7562 - val_loss: 0.0371 - val_accuracy: 0.7808 - lr: 0.0010 - 9s/epoch - 152ms/step
Epoch 4/50
59/59 - 9s - loss: 0.0340 - accuracy: 0.7572 - val_loss: 0.0371 - val_accuracy: 0.7810 - lr: 0.0010 - 9s/epoch - 147ms/step
Epoch 5/50
59/59 - 9s - loss: 0.0340 - accuracy: 0.7576 - val_loss: 0.0371 - val_accuracy: 0.7809 - lr: 0.0010 - 9s/epoch - 151ms/step
Epoch 6/50
59/59 - 9s - loss: 0.0340 - accuracy: 0.7566 - val_loss: 0.0371 - val_accuracy: 0.7809 - lr: 0.0010 - 9s/epoch - 152ms/step
Epoch 7/50
59/59 - 9s - loss: 0.0340 - accuracy: 0.7569 - val_loss: 0.0371 - val_accuracy: 0.7810 - lr: 0.0010 - 9s/epoch - 151ms/step
Epoch 8/50
59/59 - 9s - loss: 0.0340 - accuracy: 0.7563 - val_loss: 0.0371 - val_accuracy: 0.7812 - lr: 0.0010 - 9s/epoch - 153ms/step
Epoch 9/50
59/59 - 9s - loss: 0.0341 - accuracy: 0.7555 - val_loss: 0.0371 - val_accuracy: 0.7815 - lr: 0.0010 - 9s/epoch - 152ms/step
Epoch 10/50
59/59 - 9s - loss: 0.0341 - accuracy: 0.7561 - val_loss: 0.0371 - val_accuracy: 0.7811 - lr: 0.0010 - 9s/epoch - 152ms/step
Epoch 11/50
59/59 - 9s - loss: 0.0341 - accuracy: 0.7566 - val_loss: 0.0371 - val_accuracy: 0.7812 - lr: 0.0010 - 9s/epoch - 149ms/step
Epoch 12/50
59/59 - 9s - loss: 0.0341 - accuracy: 0.7568 - val_loss: 0.0371 - val_accuracy: 0.7809 - lr: 0.0010 - 9s/epoch - 150ms/step
Epoch 13/50
59/59 - 10s - loss: 0.0340 - accuracy: 0.7566 - val_loss: 0.0371 - val_accuracy: 0.7811 - lr: 0.0010 - 10s/epoch - 162ms/step
Epoch 14/50
59/59 - 10s - loss: 0.0341 - accuracy: 0.7569 - val_loss: 0.0371 - val_accuracy: 0.7812 - lr: 0.0010 - 10s/epoch - 162ms/step
Epoch 15/50
59/59 - 9s - loss: 0.0340 - accuracy: 0.7561 - val_loss: 0.0371 - val_accuracy: 0.7813 - lr: 0.0010 - 9s/epoch - 158ms/step
Epoch 16/50
59/59 - 9s - loss: 0.0339 - accuracy: 0.7575 - val_loss: 0.0370 - val_accuracy: 0.7817 - lr: 0.0010 - 9s/epoch - 153ms/step
Epoch 17/50
59/59 - 9s - loss: 0.0340 - accuracy: 0.7571 - val_loss: 0.0370 - val_accuracy: 0.7817 - lr: 0.0010 - 9s/epoch - 152ms/step
Epoch 18/50
59/59 - 9s - loss: 0.0340 - accuracy: 0.7570 - val_loss: 0.0371 - val_accuracy: 0.7812 - lr: 0.0010 - 9s/epoch - 149ms/step
Epoch 19/50
59/59 - 9s - loss: 0.0341 - accuracy: 0.7557 - val_loss: 0.0371 - val_accuracy: 0.7808 - lr: 0.0010 - 9s/epoch - 148ms/step
Epoch 20/50
59/59 - 9s - loss: 0.0340 - accuracy: 0.7568 - val_loss: 0.0371 - val_accuracy: 0.7814 - lr: 0.0010 - 9s/epoch - 152ms/step
Epoch 21/50
59/59 - 9s - loss: 0.0341 - accuracy: 0.7566 - val_loss: 0.0371 - val_accuracy: 0.7811 - lr: 0.0010 - 9s/epoch - 152ms/step
Epoch 22/50
59/59 - 9s - loss: 0.0339 - accuracy: 0.7570 - val_loss: 0.0371 - val_accuracy: 0.7814 - lr: 0.0010 - 9s/epoch - 152ms/step
Epoch 23/50
59/59 - 9s - loss: 0.0340 - accuracy: 0.7555 - val_loss: 0.0370 - val_accuracy: 0.7817 - lr: 0.0010 - 9s/epoch - 152ms/step
Epoch 24/50
59/59 - 9s - loss: 0.0340 - accuracy: 0.7563 - val_loss: 0.0371 - val_accuracy: 0.7813 - lr: 0.0010 - 9s/epoch - 153ms/step
Epoch 25/50
59/59 - 9s - loss: 0.0341 - accuracy: 0.7556 - val_loss: 0.0370 - val_accuracy: 0.7816 - lr: 0.0010 - 9s/epoch - 150ms/step
Epoch 26/50
59/59 - 9s - loss: 0.0340 - accuracy: 0.7582 - val_loss: 0.0370 - val_accuracy: 0.7813 - lr: 0.0010 - 9s/epoch - 148ms/step
Epoch 27/50
59/59 - 9s - loss: 0.0341 - accuracy: 0.7547 - val_loss: 0.0371 - val_accuracy: 0.7814 - lr: 0.0010 - 9s/epoch - 151ms/step
Epoch 28/50
59/59 - 9s - loss: 0.0341 - accuracy: 0.7564 - val_loss: 0.0370 - val_accuracy: 0.7816 - lr: 0.0010 - 9s/epoch - 152ms/step
Epoch 29/50
59/59 - 9s - loss: 0.0340 - accuracy: 0.7570 - val_loss: 0.0370 - val_accuracy: 0.7815 - lr: 0.0010 - 9s/epoch - 152ms/step
Epoch 30/50
59/59 - 9s - loss: 0.0340 - accuracy: 0.7570 - val_loss: 0.0370 - val_accuracy: 0.7817 - lr: 0.0010 - 9s/epoch - 152ms/step
Epoch 31/50
59/59 - 9s - loss: 0.0340 - accuracy: 0.7574 - val_loss: 0.0371 - val_accuracy: 0.7814 - lr: 0.0010 - 9s/epoch - 153ms/step
Epoch 32/50
59/59 - 9s - loss: 0.0341 - accuracy: 0.7555 - val_loss: 0.0370 - val_accuracy: 0.7817 - lr: 0.0010 - 9s/epoch - 152ms/step
Epoch 33/50
59/59 - 9s - loss: 0.0340 - accuracy: 0.7566 - val_loss: 0.0371 - val_accuracy: 0.7814 - lr: 0.0010 - 9s/epoch - 149ms/step
Epoch 34/50
59/59 - 9s - loss: 0.0341 - accuracy: 0.7569 - val_loss: 0.0371 - val_accuracy: 0.7817 - lr: 0.0010 - 9s/epoch - 150ms/step
Epoch 35/50
59/59 - 9s - loss: 0.0340 - accuracy: 0.7565 - val_loss: 0.0370 - val_accuracy: 0.7818 - lr: 0.0010 - 9s/epoch - 153ms/step
Epoch 36/50
59/59 - 9s - loss: 0.0340 - accuracy: 0.7575 - val_loss: 0.0371 - val_accuracy: 0.7813 - lr: 0.0010 - 9s/epoch - 152ms/step
Epoch 37/50
59/59 - 9s - loss: 0.0340 - accuracy: 0.7567 - val_loss: 0.0371 - val_accuracy: 0.7812 - lr: 0.0010 - 9s/epoch - 153ms/step
Epoch 38/50
59/59 - 9s - loss: 0.0340 - accuracy: 0.7556 - val_loss: 0.0371 - val_accuracy: 0.7812 - lr: 0.0010 - 9s/epoch - 152ms/step
Epoch 39/50
59/59 - 9s - loss: 0.0340 - accuracy: 0.7569 - val_loss: 0.0370 - val_accuracy: 0.7815 - lr: 0.0010 - 9s/epoch - 153ms/step
Epoch 40/50
59/59 - 9s - loss: 0.0340 - accuracy: 0.7565 - val_loss: 0.0370 - val_accuracy: 0.7816 - lr: 0.0010 - 9s/epoch - 150ms/step
Epoch 41/50
59/59 - 9s - loss: 0.0340 - accuracy: 0.7578 - val_loss: 0.0371 - val_accuracy: 0.7815 - lr: 0.0010 - 9s/epoch - 150ms/step
Epoch 42/50
59/59 - 9s - loss: 0.0340 - accuracy: 0.7567 - val_loss: 0.0370 - val_accuracy: 0.7816 - lr: 0.0010 - 9s/epoch - 152ms/step
Epoch 43/50
59/59 - 9s - loss: 0.0340 - accuracy: 0.7569 - val_loss: 0.0370 - val_accuracy: 0.7816 - lr: 0.0010 - 9s/epoch - 160ms/step
Epoch 44/50
59/59 - 9s - loss: 0.0340 - accuracy: 0.7581 - val_loss: 0.0370 - val_accuracy: 0.7820 - lr: 0.0010 - 9s/epoch - 159ms/step
Epoch 45/50
59/59 - 9s - loss: 0.0340 - accuracy: 0.7566 - val_loss: 0.0370 - val_accuracy: 0.7820 - lr: 0.0010 - 9s/epoch - 152ms/step
Epoch 46/50
59/59 - 9s - loss: 0.0340 - accuracy: 0.7565 - val_loss: 0.0370 - val_accuracy: 0.7817 - lr: 0.0010 - 9s/epoch - 152ms/step
Epoch 47/50
59/59 - 9s - loss: 0.0341 - accuracy: 0.7563 - val_loss: 0.0371 - val_accuracy: 0.7809 - lr: 0.0010 - 9s/epoch - 150ms/step
Epoch 48/50
59/59 - 9s - loss: 0.0340 - accuracy: 0.7580 - val_loss: 0.0371 - val_accuracy: 0.7812 - lr: 0.0010 - 9s/epoch - 149ms/step
Epoch 49/50
59/59 - 9s - loss: 0.0340 - accuracy: 0.7565 - val_loss: 0.0371 - val_accuracy: 0.7814 - lr: 0.0010 - 9s/epoch - 151ms/step
Epoch 50/50
59/59 - 9s - loss: 0.0340 - accuracy: 0.7579 - val_loss: 0.0370 - val_accuracy: 0.7818 - lr: 0.0010 - 9s/epoch - 153ms/step
fitting with batch size: 2500
Epoch 1/50
36/36 - 11s - loss: 0.0340 - accuracy: 0.7575 - val_loss: 0.0370 - val_accuracy: 0.7817 - lr: 0.0010 - 11s/epoch - 319ms/step
Epoch 2/50
36/36 - 9s - loss: 0.0340 - accuracy: 0.7558 - val_loss: 0.0370 - val_accuracy: 0.7813 - lr: 0.0010 - 9s/epoch - 242ms/step
Epoch 3/50
36/36 - 9s - loss: 0.0339 - accuracy: 0.7581 - val_loss: 0.0370 - val_accuracy: 0.7812 - lr: 0.0010 - 9s/epoch - 241ms/step
Epoch 4/50
36/36 - 9s - loss: 0.0340 - accuracy: 0.7563 - val_loss: 0.0370 - val_accuracy: 0.7817 - lr: 0.0010 - 9s/epoch - 239ms/step
Epoch 5/50
36/36 - 8s - loss: 0.0340 - accuracy: 0.7569 - val_loss: 0.0370 - val_accuracy: 0.7819 - lr: 0.0010 - 8s/epoch - 235ms/step
Epoch 6/50
36/36 - 9s - loss: 0.0340 - accuracy: 0.7575 - val_loss: 0.0371 - val_accuracy: 0.7812 - lr: 0.0010 - 9s/epoch - 238ms/step
Epoch 7/50
36/36 - 9s - loss: 0.0340 - accuracy: 0.7575 - val_loss: 0.0371 - val_accuracy: 0.7815 - lr: 0.0010 - 9s/epoch - 239ms/step
Epoch 8/50
36/36 - 8s - loss: 0.0341 - accuracy: 0.7565 - val_loss: 0.0370 - val_accuracy: 0.7822 - lr: 0.0010 - 8s/epoch - 235ms/step
Epoch 9/50
36/36 - 9s - loss: 0.0340 - accuracy: 0.7574 - val_loss: 0.0369 - val_accuracy: 0.7828 - lr: 0.0010 - 9s/epoch - 239ms/step
Epoch 10/50
36/36 - 9s - loss: 0.0340 - accuracy: 0.7569 - val_loss: 0.0370 - val_accuracy: 0.7821 - lr: 0.0010 - 9s/epoch - 241ms/step
Epoch 11/50
36/36 - 9s - loss: 0.0341 - accuracy: 0.7560 - val_loss: 0.0370 - val_accuracy: 0.7818 - lr: 0.0010 - 9s/epoch - 240ms/step
Epoch 12/50
36/36 - 8s - loss: 0.0341 - accuracy: 0.7573 - val_loss: 0.0370 - val_accuracy: 0.7816 - lr: 0.0010 - 8s/epoch - 236ms/step
Epoch 13/50
36/36 - 8s - loss: 0.0340 - accuracy: 0.7578 - val_loss: 0.0371 - val_accuracy: 0.7815 - lr: 0.0010 - 8s/epoch - 235ms/step
Epoch 14/50
36/36 - 9s - loss: 0.0340 - accuracy: 0.7563 - val_loss: 0.0370 - val_accuracy: 0.7821 - lr: 0.0010 - 9s/epoch - 240ms/step
Epoch 15/50
36/36 - 9s - loss: 0.0340 - accuracy: 0.7576 - val_loss: 0.0370 - val_accuracy: 0.7823 - lr: 0.0010 - 9s/epoch - 240ms/step
Epoch 16/50
36/36 - 9s - loss: 0.0340 - accuracy: 0.7566 - val_loss: 0.0369 - val_accuracy: 0.7832 - lr: 0.0010 - 9s/epoch - 238ms/step
Epoch 17/50
36/36 - 9s - loss: 0.0341 - accuracy: 0.7562 - val_loss: 0.0369 - val_accuracy: 0.7827 - lr: 0.0010 - 9s/epoch - 241ms/step
Epoch 18/50
36/36 - 9s - loss: 0.0339 - accuracy: 0.7579 - val_loss: 0.0370 - val_accuracy: 0.7821 - lr: 0.0010 - 9s/epoch - 241ms/step
Epoch 19/50
36/36 - 9s - loss: 0.0339 - accuracy: 0.7576 - val_loss: 0.0370 - val_accuracy: 0.7814 - lr: 0.0010 - 9s/epoch - 241ms/step
Epoch 20/50
36/36 - 8s - loss: 0.0340 - accuracy: 0.7577 - val_loss: 0.0370 - val_accuracy: 0.7820 - lr: 0.0010 - 8s/epoch - 234ms/step
Epoch 21/50
36/36 - 9s - loss: 0.0340 - accuracy: 0.7573 - val_loss: 0.0370 - val_accuracy: 0.7821 - lr: 0.0010 - 9s/epoch - 237ms/step
Epoch 22/50
36/36 - 9s - loss: 0.0340 - accuracy: 0.7582 - val_loss: 0.0370 - val_accuracy: 0.7824 - lr: 0.0010 - 9s/epoch - 240ms/step
Epoch 23/50
36/36 - 9s - loss: 0.0340 - accuracy: 0.7576 - val_loss: 0.0371 - val_accuracy: 0.7815 - lr: 0.0010 - 9s/epoch - 241ms/step
Epoch 24/50
36/36 - 9s - loss: 0.0340 - accuracy: 0.7562 - val_loss: 0.0370 - val_accuracy: 0.7813 - lr: 0.0010 - 9s/epoch - 241ms/step
Epoch 25/50
36/36 - 9s - loss: 0.0341 - accuracy: 0.7562 - val_loss: 0.0370 - val_accuracy: 0.7811 - lr: 0.0010 - 9s/epoch - 241ms/step
Epoch 26/50
36/36 - 9s - loss: 0.0341 - accuracy: 0.7569 - val_loss: 0.0370 - val_accuracy: 0.7810 - lr: 0.0010 - 9s/epoch - 241ms/step
Epoch 27/50
36/36 - 9s - loss: 0.0341 - accuracy: 0.7560 - val_loss: 0.0370 - val_accuracy: 0.7816 - lr: 0.0010 - 9s/epoch - 238ms/step
Epoch 28/50
36/36 - 8s - loss: 0.0340 - accuracy: 0.7569 - val_loss: 0.0370 - val_accuracy: 0.7820 - lr: 0.0010 - 8s/epoch - 234ms/step
Epoch 29/50
36/36 - 9s - loss: 0.0339 - accuracy: 0.7575 - val_loss: 0.0370 - val_accuracy: 0.7817 - lr: 0.0010 - 9s/epoch - 241ms/step
Epoch 30/50
36/36 - 9s - loss: 0.0341 - accuracy: 0.7566 - val_loss: 0.0370 - val_accuracy: 0.7815 - lr: 0.0010 - 9s/epoch - 245ms/step
Epoch 31/50
36/36 - 9s - loss: 0.0340 - accuracy: 0.7561 - val_loss: 0.0370 - val_accuracy: 0.7817 - lr: 0.0010 - 9s/epoch - 258ms/step
Epoch 32/50
36/36 - 9s - loss: 0.0340 - accuracy: 0.7564 - val_loss: 0.0370 - val_accuracy: 0.7817 - lr: 0.0010 - 9s/epoch - 242ms/step
Epoch 33/50
36/36 - 9s - loss: 0.0339 - accuracy: 0.7573 - val_loss: 0.0370 - val_accuracy: 0.7819 - lr: 0.0010 - 9s/epoch - 242ms/step
Epoch 34/50
36/36 - 9s - loss: 0.0341 - accuracy: 0.7558 - val_loss: 0.0370 - val_accuracy: 0.7822 - lr: 0.0010 - 9s/epoch - 241ms/step
Epoch 35/50
36/36 - 8s - loss: 0.0339 - accuracy: 0.7568 - val_loss: 0.0370 - val_accuracy: 0.7820 - lr: 0.0010 - 8s/epoch - 235ms/step
Epoch 36/50
36/36 - 9s - loss: 0.0339 - accuracy: 0.7574 - val_loss: 0.0370 - val_accuracy: 0.7817 - lr: 0.0010 - 9s/epoch - 237ms/step
Epoch 37/50
36/36 - 9s - loss: 0.0341 - accuracy: 0.7556 - val_loss: 0.0370 - val_accuracy: 0.7817 - lr: 0.0010 - 9s/epoch - 257ms/step
Epoch 38/50
36/36 - 9s - loss: 0.0340 - accuracy: 0.7577 - val_loss: 0.0370 - val_accuracy: 0.7814 - lr: 0.0010 - 9s/epoch - 256ms/step
Epoch 39/50
36/36 - 9s - loss: 0.0340 - accuracy: 0.7568 - val_loss: 0.0370 - val_accuracy: 0.7822 - lr: 0.0010 - 9s/epoch - 248ms/step
Epoch 40/50
36/36 - 9s - loss: 0.0340 - accuracy: 0.7571 - val_loss: 0.0369 - val_accuracy: 0.7830 - lr: 0.0010 - 9s/epoch - 241ms/step
Epoch 41/50
36/36 - 9s - loss: 0.0341 - accuracy: 0.7562 - val_loss: 0.0370 - val_accuracy: 0.7817 - lr: 0.0010 - 9s/epoch - 237ms/step
Epoch 42/50
36/36 - 8s - loss: 0.0340 - accuracy: 0.7568 - val_loss: 0.0370 - val_accuracy: 0.7818 - lr: 0.0010 - 8s/epoch - 235ms/step
Epoch 43/50
36/36 - 8s - loss: 0.0340 - accuracy: 0.7566 - val_loss: 0.0370 - val_accuracy: 0.7819 - lr: 0.0010 - 8s/epoch - 235ms/step
Epoch 44/50
36/36 - 9s - loss: 0.0340 - accuracy: 0.7564 - val_loss: 0.0371 - val_accuracy: 0.7819 - lr: 0.0010 - 9s/epoch - 248ms/step
Epoch 45/50
36/36 - 9s - loss: 0.0340 - accuracy: 0.7573 - val_loss: 0.0371 - val_accuracy: 0.7818 - lr: 0.0010 - 9s/epoch - 242ms/step
Epoch 46/50
36/36 - 9s - loss: 0.0340 - accuracy: 0.7568 - val_loss: 0.0371 - val_accuracy: 0.7818 - lr: 0.0010 - 9s/epoch - 240ms/step
Epoch 47/50
36/36 - 9s - loss: 0.0340 - accuracy: 0.7567 - val_loss: 0.0371 - val_accuracy: 0.7815 - lr: 0.0010 - 9s/epoch - 241ms/step
Epoch 48/50
36/36 - 9s - loss: 0.0340 - accuracy: 0.7570 - val_loss: 0.0371 - val_accuracy: 0.7815 - lr: 0.0010 - 9s/epoch - 241ms/step
Epoch 49/50
36/36 - 9s - loss: 0.0341 - accuracy: 0.7567 - val_loss: 0.0371 - val_accuracy: 0.7810 - lr: 0.0010 - 9s/epoch - 240ms/step
Epoch 50/50
36/36 - 8s - loss: 0.0340 - accuracy: 0.7581 - val_loss: 0.0371 - val_accuracy: 0.7805 - lr: 0.0010 - 8s/epoch - 234ms/step
Loss: kullback_leibler_divergence
Epoch number: 25
fitting with batch size: 20
Epoch 1/25
4378/4378 - 71s - loss: 0.7103 - accuracy: 0.7359 - val_loss: 0.6340 - val_accuracy: 0.8021 - lr: 0.0010 - 71s/epoch - 16ms/step
Epoch 2/25
4378/4378 - 69s - loss: 0.7072 - accuracy: 0.7364 - val_loss: 0.7095 - val_accuracy: 0.7755 - lr: 0.0010 - 69s/epoch - 16ms/step
Epoch 3/25
4378/4378 - 69s - loss: 0.7010 - accuracy: 0.7377 - val_loss: 0.7464 - val_accuracy: 0.7672 - lr: 0.0010 - 69s/epoch - 16ms/step
Epoch 4/25
4378/4378 - 69s - loss: 0.7015 - accuracy: 0.7372 - val_loss: 0.7301 - val_accuracy: 0.7494 - lr: 0.0010 - 69s/epoch - 16ms/step
Epoch 5/25
4378/4378 - 69s - loss: 0.7019 - accuracy: 0.7366 - val_loss: 0.6931 - val_accuracy: 0.7811 - lr: 0.0010 - 69s/epoch - 16ms/step
Epoch 6/25
4378/4378 - 69s - loss: 0.6993 - accuracy: 0.7386 - val_loss: 0.6569 - val_accuracy: 0.8033 - lr: 0.0010 - 69s/epoch - 16ms/step
Epoch 7/25
4378/4378 - 69s - loss: 0.6989 - accuracy: 0.7372 - val_loss: 0.6487 - val_accuracy: 0.8153 - lr: 0.0010 - 69s/epoch - 16ms/step
Epoch 8/25
4378/4378 - 69s - loss: 0.6979 - accuracy: 0.7393 - val_loss: 0.6005 - val_accuracy: 0.8226 - lr: 0.0010 - 69s/epoch - 16ms/step
Epoch 9/25
4378/4378 - 68s - loss: 0.6955 - accuracy: 0.7398 - val_loss: 0.7207 - val_accuracy: 0.7793 - lr: 0.0010 - 68s/epoch - 16ms/step
Epoch 10/25
4378/4378 - 69s - loss: 0.6966 - accuracy: 0.7385 - val_loss: 0.7078 - val_accuracy: 0.7780 - lr: 0.0010 - 69s/epoch - 16ms/step
Epoch 11/25
4378/4378 - 69s - loss: 0.6943 - accuracy: 0.7392 - val_loss: 0.6763 - val_accuracy: 0.8017 - lr: 0.0010 - 69s/epoch - 16ms/step
Epoch 12/25
4378/4378 - 69s - loss: 0.6933 - accuracy: 0.7412 - val_loss: 0.7258 - val_accuracy: 0.7539 - lr: 0.0010 - 69s/epoch - 16ms/step
Epoch 13/25
4378/4378 - 69s - loss: 0.6935 - accuracy: 0.7406 - val_loss: 0.6953 - val_accuracy: 0.7657 - lr: 0.0010 - 69s/epoch - 16ms/step
Epoch 14/25
4378/4378 - 68s - loss: 0.6907 - accuracy: 0.7424 - val_loss: 0.6242 - val_accuracy: 0.8126 - lr: 0.0010 - 68s/epoch - 16ms/step
Epoch 15/25
4378/4378 - 69s - loss: 0.6910 - accuracy: 0.7402 - val_loss: 0.6365 - val_accuracy: 0.7980 - lr: 0.0010 - 69s/epoch - 16ms/step
Epoch 16/25
4378/4378 - 68s - loss: 0.6900 - accuracy: 0.7422 - val_loss: 0.5885 - val_accuracy: 0.8352 - lr: 0.0010 - 68s/epoch - 16ms/step
Epoch 17/25
4378/4378 - 68s - loss: 0.6886 - accuracy: 0.7410 - val_loss: 0.6468 - val_accuracy: 0.8152 - lr: 0.0010 - 68s/epoch - 16ms/step
Epoch 18/25
4378/4378 - 68s - loss: 0.6871 - accuracy: 0.7429 - val_loss: 0.7566 - val_accuracy: 0.7354 - lr: 0.0010 - 68s/epoch - 16ms/step
Epoch 19/25
4378/4378 - 69s - loss: 0.6884 - accuracy: 0.7422 - val_loss: 0.6453 - val_accuracy: 0.8043 - lr: 0.0010 - 69s/epoch - 16ms/step
Epoch 20/25
4378/4378 - 69s - loss: 0.6879 - accuracy: 0.7417 - val_loss: 0.6764 - val_accuracy: 0.7791 - lr: 0.0010 - 69s/epoch - 16ms/step
Epoch 21/25
4378/4378 - 69s - loss: 0.6864 - accuracy: 0.7424 - val_loss: 0.6598 - val_accuracy: 0.7865 - lr: 0.0010 - 69s/epoch - 16ms/step
Epoch 22/25
4378/4378 - 69s - loss: 0.6863 - accuracy: 0.7431 - val_loss: 0.5812 - val_accuracy: 0.8244 - lr: 0.0010 - 69s/epoch - 16ms/step
Epoch 23/25
4378/4378 - 69s - loss: 0.6825 - accuracy: 0.7438 - val_loss: 0.6507 - val_accuracy: 0.7809 - lr: 0.0010 - 69s/epoch - 16ms/step
Epoch 24/25
4378/4378 - 69s - loss: 0.6837 - accuracy: 0.7437 - val_loss: 0.6294 - val_accuracy: 0.8058 - lr: 0.0010 - 69s/epoch - 16ms/step
Epoch 25/25
4378/4378 - 68s - loss: 0.6817 - accuracy: 0.7424 - val_loss: 0.7120 - val_accuracy: 0.7896 - lr: 0.0010 - 68s/epoch - 16ms/step
fitting with batch size: 100
Epoch 1/25
876/876 - 20s - loss: 0.6583 - accuracy: 0.7552 - val_loss: 0.6383 - val_accuracy: 0.8025 - lr: 0.0010 - 20s/epoch - 22ms/step
Epoch 2/25
876/876 - 17s - loss: 0.6550 - accuracy: 0.7544 - val_loss: 0.6450 - val_accuracy: 0.8037 - lr: 0.0010 - 17s/epoch - 20ms/step
Epoch 3/25
876/876 - 17s - loss: 0.6553 - accuracy: 0.7552 - val_loss: 0.6350 - val_accuracy: 0.7980 - lr: 0.0010 - 17s/epoch - 20ms/step
Epoch 4/25
876/876 - 17s - loss: 0.6536 - accuracy: 0.7553 - val_loss: 0.6185 - val_accuracy: 0.8118 - lr: 0.0010 - 17s/epoch - 20ms/step
Epoch 5/25
876/876 - 17s - loss: 0.6521 - accuracy: 0.7558 - val_loss: 0.6741 - val_accuracy: 0.7844 - lr: 0.0010 - 17s/epoch - 20ms/step
Epoch 6/25
876/876 - 17s - loss: 0.6536 - accuracy: 0.7569 - val_loss: 0.6252 - val_accuracy: 0.8164 - lr: 0.0010 - 17s/epoch - 20ms/step
Epoch 7/25
876/876 - 17s - loss: 0.6516 - accuracy: 0.7570 - val_loss: 0.6490 - val_accuracy: 0.8026 - lr: 0.0010 - 17s/epoch - 20ms/step
Epoch 8/25
876/876 - 17s - loss: 0.6541 - accuracy: 0.7574 - val_loss: 0.6572 - val_accuracy: 0.7877 - lr: 0.0010 - 17s/epoch - 20ms/step
Epoch 9/25
876/876 - 17s - loss: 0.6507 - accuracy: 0.7578 - val_loss: 0.6355 - val_accuracy: 0.8053 - lr: 0.0010 - 17s/epoch - 20ms/step
Epoch 10/25
876/876 - 17s - loss: 0.6501 - accuracy: 0.7571 - val_loss: 0.6532 - val_accuracy: 0.7917 - lr: 0.0010 - 17s/epoch - 20ms/step
Epoch 11/25
876/876 - 17s - loss: 0.6498 - accuracy: 0.7565 - val_loss: 0.6542 - val_accuracy: 0.7976 - lr: 0.0010 - 17s/epoch - 19ms/step
Epoch 12/25
876/876 - 17s - loss: 0.6515 - accuracy: 0.7567 - val_loss: 0.6830 - val_accuracy: 0.7856 - lr: 0.0010 - 17s/epoch - 20ms/step
Epoch 13/25
876/876 - 17s - loss: 0.6503 - accuracy: 0.7561 - val_loss: 0.6406 - val_accuracy: 0.8008 - lr: 0.0010 - 17s/epoch - 20ms/step
Epoch 14/25
876/876 - 17s - loss: 0.6506 - accuracy: 0.7578 - val_loss: 0.6673 - val_accuracy: 0.7908 - lr: 0.0010 - 17s/epoch - 20ms/step
Epoch 15/25
876/876 - 17s - loss: 0.6493 - accuracy: 0.7577 - val_loss: 0.6518 - val_accuracy: 0.7987 - lr: 0.0010 - 17s/epoch - 20ms/step
Epoch 16/25
876/876 - 17s - loss: 0.6482 - accuracy: 0.7568 - val_loss: 0.6690 - val_accuracy: 0.7928 - lr: 0.0010 - 17s/epoch - 19ms/step
Epoch 17/25
876/876 - 17s - loss: 0.6483 - accuracy: 0.7592 - val_loss: 0.6548 - val_accuracy: 0.7937 - lr: 0.0010 - 17s/epoch - 20ms/step
Epoch 18/25
876/876 - 17s - loss: 0.6490 - accuracy: 0.7570 - val_loss: 0.6353 - val_accuracy: 0.7997 - lr: 0.0010 - 17s/epoch - 20ms/step
Epoch 19/25
876/876 - 17s - loss: 0.6493 - accuracy: 0.7569 - val_loss: 0.6732 - val_accuracy: 0.7884 - lr: 0.0010 - 17s/epoch - 20ms/step
Epoch 20/25
876/876 - 17s - loss: 0.6462 - accuracy: 0.7578 - val_loss: 0.6622 - val_accuracy: 0.7908 - lr: 0.0010 - 17s/epoch - 20ms/step
Epoch 21/25
876/876 - 17s - loss: 0.6475 - accuracy: 0.7585 - val_loss: 0.6597 - val_accuracy: 0.8016 - lr: 0.0010 - 17s/epoch - 20ms/step
Epoch 22/25
876/876 - 17s - loss: 0.6475 - accuracy: 0.7570 - val_loss: 0.6446 - val_accuracy: 0.8084 - lr: 0.0010 - 17s/epoch - 20ms/step
Epoch 23/25
876/876 - 17s - loss: 0.6458 - accuracy: 0.7594 - val_loss: 0.6295 - val_accuracy: 0.8074 - lr: 0.0010 - 17s/epoch - 19ms/step
Epoch 24/25
876/876 - 17s - loss: 0.6479 - accuracy: 0.7582 - val_loss: 0.6313 - val_accuracy: 0.8089 - lr: 0.0010 - 17s/epoch - 20ms/step
Epoch 25/25
876/876 - 17s - loss: 0.6462 - accuracy: 0.7577 - val_loss: 0.6278 - val_accuracy: 0.8043 - lr: 0.0010 - 17s/epoch - 20ms/step
fitting with batch size: 500
Epoch 1/25
176/176 - 12s - loss: 0.6413 - accuracy: 0.7617 - val_loss: 0.6388 - val_accuracy: 0.8060 - lr: 0.0010 - 12s/epoch - 70ms/step
Epoch 2/25
176/176 - 10s - loss: 0.6405 - accuracy: 0.7616 - val_loss: 0.6511 - val_accuracy: 0.8009 - lr: 0.0010 - 10s/epoch - 57ms/step
Epoch 3/25
176/176 - 10s - loss: 0.6404 - accuracy: 0.7617 - val_loss: 0.6403 - val_accuracy: 0.8029 - lr: 0.0010 - 10s/epoch - 55ms/step
Epoch 4/25
176/176 - 10s - loss: 0.6372 - accuracy: 0.7635 - val_loss: 0.6509 - val_accuracy: 0.7976 - lr: 0.0010 - 10s/epoch - 55ms/step
Epoch 5/25
176/176 - 10s - loss: 0.6378 - accuracy: 0.7626 - val_loss: 0.6286 - val_accuracy: 0.8093 - lr: 0.0010 - 10s/epoch - 55ms/step
Epoch 6/25
176/176 - 10s - loss: 0.6384 - accuracy: 0.7621 - val_loss: 0.6437 - val_accuracy: 0.8038 - lr: 0.0010 - 10s/epoch - 55ms/step
Epoch 7/25
176/176 - 10s - loss: 0.6382 - accuracy: 0.7629 - val_loss: 0.6460 - val_accuracy: 0.8002 - lr: 0.0010 - 10s/epoch - 55ms/step
Epoch 8/25
176/176 - 10s - loss: 0.6390 - accuracy: 0.7609 - val_loss: 0.6526 - val_accuracy: 0.8008 - lr: 0.0010 - 10s/epoch - 55ms/step
Epoch 9/25
176/176 - 10s - loss: 0.6385 - accuracy: 0.7616 - val_loss: 0.6435 - val_accuracy: 0.8054 - lr: 0.0010 - 10s/epoch - 55ms/step
Epoch 10/25
176/176 - 10s - loss: 0.6382 - accuracy: 0.7624 - val_loss: 0.6411 - val_accuracy: 0.8028 - lr: 0.0010 - 10s/epoch - 55ms/step
Epoch 11/25
176/176 - 10s - loss: 0.6386 - accuracy: 0.7618 - val_loss: 0.6579 - val_accuracy: 0.7891 - lr: 0.0010 - 10s/epoch - 55ms/step
Epoch 12/25
176/176 - 10s - loss: 0.6374 - accuracy: 0.7637 - val_loss: 0.6492 - val_accuracy: 0.7989 - lr: 0.0010 - 10s/epoch - 55ms/step
Epoch 13/25
176/176 - 10s - loss: 0.6368 - accuracy: 0.7626 - val_loss: 0.6590 - val_accuracy: 0.7960 - lr: 0.0010 - 10s/epoch - 55ms/step
Epoch 14/25
176/176 - 10s - loss: 0.6369 - accuracy: 0.7626 - val_loss: 0.6374 - val_accuracy: 0.8041 - lr: 0.0010 - 10s/epoch - 55ms/step
Epoch 15/25
176/176 - 10s - loss: 0.6394 - accuracy: 0.7619 - val_loss: 0.6333 - val_accuracy: 0.8082 - lr: 0.0010 - 10s/epoch - 55ms/step
Epoch 16/25
176/176 - 10s - loss: 0.6379 - accuracy: 0.7634 - val_loss: 0.6526 - val_accuracy: 0.7982 - lr: 0.0010 - 10s/epoch - 54ms/step
Epoch 17/25
176/176 - 10s - loss: 0.6373 - accuracy: 0.7611 - val_loss: 0.6416 - val_accuracy: 0.7996 - lr: 0.0010 - 10s/epoch - 55ms/step
Epoch 18/25
176/176 - 10s - loss: 0.6368 - accuracy: 0.7628 - val_loss: 0.6448 - val_accuracy: 0.7948 - lr: 0.0010 - 10s/epoch - 55ms/step
Epoch 19/25
176/176 - 10s - loss: 0.6373 - accuracy: 0.7630 - val_loss: 0.6336 - val_accuracy: 0.8049 - lr: 0.0010 - 10s/epoch - 55ms/step
Epoch 20/25
176/176 - 10s - loss: 0.6365 - accuracy: 0.7628 - val_loss: 0.6530 - val_accuracy: 0.7949 - lr: 0.0010 - 10s/epoch - 55ms/step
Epoch 21/25
176/176 - 10s - loss: 0.6369 - accuracy: 0.7621 - val_loss: 0.6349 - val_accuracy: 0.8053 - lr: 0.0010 - 10s/epoch - 55ms/step
Epoch 22/25
176/176 - 10s - loss: 0.6360 - accuracy: 0.7629 - val_loss: 0.6504 - val_accuracy: 0.7991 - lr: 0.0010 - 10s/epoch - 55ms/step
Epoch 23/25
176/176 - 10s - loss: 0.6392 - accuracy: 0.7613 - val_loss: 0.6361 - val_accuracy: 0.8016 - lr: 0.0010 - 10s/epoch - 55ms/step
Epoch 24/25
176/176 - 10s - loss: 0.6375 - accuracy: 0.7632 - val_loss: 0.6450 - val_accuracy: 0.8040 - lr: 0.0010 - 10s/epoch - 55ms/step
Epoch 25/25
176/176 - 10s - loss: 0.6382 - accuracy: 0.7622 - val_loss: 0.6403 - val_accuracy: 0.8012 - lr: 0.0010 - 10s/epoch - 55ms/step
fitting with batch size: 1500
Epoch 1/25
59/59 - 11s - loss: 0.6352 - accuracy: 0.7630 - val_loss: 0.6420 - val_accuracy: 0.8020 - lr: 0.0010 - 11s/epoch - 185ms/step
Epoch 2/25
59/59 - 9s - loss: 0.6356 - accuracy: 0.7634 - val_loss: 0.6449 - val_accuracy: 0.8010 - lr: 0.0010 - 9s/epoch - 152ms/step
Epoch 3/25
59/59 - 9s - loss: 0.6368 - accuracy: 0.7629 - val_loss: 0.6464 - val_accuracy: 0.7995 - lr: 0.0010 - 9s/epoch - 152ms/step
Epoch 4/25
59/59 - 9s - loss: 0.6362 - accuracy: 0.7624 - val_loss: 0.6458 - val_accuracy: 0.8002 - lr: 0.0010 - 9s/epoch - 152ms/step
Epoch 5/25
59/59 - 9s - loss: 0.6345 - accuracy: 0.7627 - val_loss: 0.6471 - val_accuracy: 0.8008 - lr: 0.0010 - 9s/epoch - 147ms/step
Epoch 6/25
59/59 - 9s - loss: 0.6338 - accuracy: 0.7647 - val_loss: 0.6438 - val_accuracy: 0.8018 - lr: 0.0010 - 9s/epoch - 150ms/step
Epoch 7/25
59/59 - 10s - loss: 0.6359 - accuracy: 0.7638 - val_loss: 0.6438 - val_accuracy: 0.8026 - lr: 0.0010 - 10s/epoch - 161ms/step
Epoch 8/25
59/59 - 9s - loss: 0.6349 - accuracy: 0.7639 - val_loss: 0.6471 - val_accuracy: 0.8002 - lr: 0.0010 - 9s/epoch - 161ms/step
Epoch 9/25
59/59 - 9s - loss: 0.6360 - accuracy: 0.7640 - val_loss: 0.6435 - val_accuracy: 0.8006 - lr: 0.0010 - 9s/epoch - 153ms/step
Epoch 10/25
59/59 - 9s - loss: 0.6333 - accuracy: 0.7639 - val_loss: 0.6474 - val_accuracy: 0.7991 - lr: 0.0010 - 9s/epoch - 152ms/step
Epoch 11/25
59/59 - 9s - loss: 0.6355 - accuracy: 0.7634 - val_loss: 0.6448 - val_accuracy: 0.8018 - lr: 0.0010 - 9s/epoch - 153ms/step
Epoch 12/25
59/59 - 9s - loss: 0.6353 - accuracy: 0.7644 - val_loss: 0.6521 - val_accuracy: 0.7977 - lr: 0.0010 - 9s/epoch - 147ms/step
Epoch 13/25
59/59 - 9s - loss: 0.6363 - accuracy: 0.7630 - val_loss: 0.6426 - val_accuracy: 0.8026 - lr: 0.0010 - 9s/epoch - 150ms/step
Epoch 14/25
59/59 - 9s - loss: 0.6337 - accuracy: 0.7635 - val_loss: 0.6449 - val_accuracy: 0.8027 - lr: 0.0010 - 9s/epoch - 152ms/step
Epoch 15/25
59/59 - 9s - loss: 0.6360 - accuracy: 0.7634 - val_loss: 0.6515 - val_accuracy: 0.8003 - lr: 0.0010 - 9s/epoch - 148ms/step
Epoch 16/25
59/59 - 9s - loss: 0.6348 - accuracy: 0.7634 - val_loss: 0.6422 - val_accuracy: 0.8047 - lr: 0.0010 - 9s/epoch - 148ms/step
Epoch 17/25
59/59 - 9s - loss: 0.6357 - accuracy: 0.7630 - val_loss: 0.6477 - val_accuracy: 0.8002 - lr: 0.0010 - 9s/epoch - 151ms/step
Epoch 18/25
59/59 - 9s - loss: 0.6353 - accuracy: 0.7624 - val_loss: 0.6468 - val_accuracy: 0.8005 - lr: 0.0010 - 9s/epoch - 152ms/step
Epoch 19/25
59/59 - 9s - loss: 0.6342 - accuracy: 0.7642 - val_loss: 0.6446 - val_accuracy: 0.8001 - lr: 0.0010 - 9s/epoch - 150ms/step
Epoch 20/25
59/59 - 9s - loss: 0.6330 - accuracy: 0.7656 - val_loss: 0.6465 - val_accuracy: 0.8014 - lr: 0.0010 - 9s/epoch - 147ms/step
Epoch 21/25
59/59 - 9s - loss: 0.6347 - accuracy: 0.7634 - val_loss: 0.6438 - val_accuracy: 0.8013 - lr: 0.0010 - 9s/epoch - 160ms/step
Epoch 22/25
59/59 - 10s - loss: 0.6342 - accuracy: 0.7631 - val_loss: 0.6526 - val_accuracy: 0.7964 - lr: 0.0010 - 10s/epoch - 161ms/step
Epoch 23/25
59/59 - 9s - loss: 0.6364 - accuracy: 0.7630 - val_loss: 0.6474 - val_accuracy: 0.7986 - lr: 0.0010 - 9s/epoch - 159ms/step
Epoch 24/25
59/59 - 9s - loss: 0.6362 - accuracy: 0.7630 - val_loss: 0.6449 - val_accuracy: 0.8018 - lr: 0.0010 - 9s/epoch - 152ms/step
Epoch 25/25
59/59 - 9s - loss: 0.6346 - accuracy: 0.7643 - val_loss: 0.6424 - val_accuracy: 0.8039 - lr: 0.0010 - 9s/epoch - 153ms/step
fitting with batch size: 2500
Epoch 1/25
36/36 - 11s - loss: 0.6357 - accuracy: 0.7630 - val_loss: 0.6563 - val_accuracy: 0.7944 - lr: 0.0010 - 11s/epoch - 293ms/step
Epoch 2/25
36/36 - 8s - loss: 0.6361 - accuracy: 0.7623 - val_loss: 0.6577 - val_accuracy: 0.7936 - lr: 0.0010 - 8s/epoch - 233ms/step
Epoch 3/25
36/36 - 9s - loss: 0.6355 - accuracy: 0.7635 - val_loss: 0.6449 - val_accuracy: 0.8036 - lr: 0.0010 - 9s/epoch - 239ms/step
Epoch 4/25
36/36 - 9s - loss: 0.6346 - accuracy: 0.7636 - val_loss: 0.6590 - val_accuracy: 0.7958 - lr: 0.0010 - 9s/epoch - 240ms/step
Epoch 5/25
36/36 - 9s - loss: 0.6358 - accuracy: 0.7630 - val_loss: 0.6557 - val_accuracy: 0.7986 - lr: 0.0010 - 9s/epoch - 241ms/step
Epoch 6/25
36/36 - 9s - loss: 0.6348 - accuracy: 0.7650 - val_loss: 0.6394 - val_accuracy: 0.8033 - lr: 0.0010 - 9s/epoch - 241ms/step
Epoch 7/25
36/36 - 9s - loss: 0.6355 - accuracy: 0.7630 - val_loss: 0.6428 - val_accuracy: 0.8053 - lr: 0.0010 - 9s/epoch - 240ms/step
Epoch 8/25
36/36 - 9s - loss: 0.6352 - accuracy: 0.7638 - val_loss: 0.6635 - val_accuracy: 0.7935 - lr: 0.0010 - 9s/epoch - 240ms/step
Epoch 9/25
36/36 - 8s - loss: 0.6339 - accuracy: 0.7641 - val_loss: 0.6541 - val_accuracy: 0.7982 - lr: 0.0010 - 8s/epoch - 234ms/step
Epoch 10/25
36/36 - 8s - loss: 0.6347 - accuracy: 0.7630 - val_loss: 0.6399 - val_accuracy: 0.8039 - lr: 0.0010 - 8s/epoch - 236ms/step
Epoch 11/25
36/36 - 9s - loss: 0.6339 - accuracy: 0.7635 - val_loss: 0.6385 - val_accuracy: 0.8094 - lr: 0.0010 - 9s/epoch - 241ms/step
Epoch 12/25
36/36 - 9s - loss: 0.6353 - accuracy: 0.7632 - val_loss: 0.6423 - val_accuracy: 0.8037 - lr: 0.0010 - 9s/epoch - 236ms/step
Epoch 13/25
36/36 - 9s - loss: 0.6352 - accuracy: 0.7630 - val_loss: 0.6367 - val_accuracy: 0.8088 - lr: 0.0010 - 9s/epoch - 238ms/step
Epoch 14/25
36/36 - 9s - loss: 0.6345 - accuracy: 0.7642 - val_loss: 0.6435 - val_accuracy: 0.8020 - lr: 0.0010 - 9s/epoch - 241ms/step
Epoch 15/25
36/36 - 9s - loss: 0.6343 - accuracy: 0.7643 - val_loss: 0.6361 - val_accuracy: 0.8077 - lr: 0.0010 - 9s/epoch - 241ms/step
Epoch 16/25
36/36 - 9s - loss: 0.6337 - accuracy: 0.7640 - val_loss: 0.6354 - val_accuracy: 0.8075 - lr: 0.0010 - 9s/epoch - 238ms/step
Epoch 17/25
36/36 - 8s - loss: 0.6366 - accuracy: 0.7631 - val_loss: 0.6445 - val_accuracy: 0.8038 - lr: 0.0010 - 8s/epoch - 236ms/step
Epoch 18/25
36/36 - 9s - loss: 0.6349 - accuracy: 0.7641 - val_loss: 0.6535 - val_accuracy: 0.8001 - lr: 0.0010 - 9s/epoch - 240ms/step
Epoch 19/25
36/36 - 9s - loss: 0.6353 - accuracy: 0.7633 - val_loss: 0.6338 - val_accuracy: 0.8076 - lr: 0.0010 - 9s/epoch - 241ms/step
Epoch 20/25
36/36 - 9s - loss: 0.6340 - accuracy: 0.7626 - val_loss: 0.6538 - val_accuracy: 0.7988 - lr: 0.0010 - 9s/epoch - 239ms/step
Epoch 21/25
36/36 - 9s - loss: 0.6350 - accuracy: 0.7635 - val_loss: 0.6330 - val_accuracy: 0.8092 - lr: 0.0010 - 9s/epoch - 240ms/step
Epoch 22/25
36/36 - 9s - loss: 0.6333 - accuracy: 0.7638 - val_loss: 0.6569 - val_accuracy: 0.7962 - lr: 0.0010 - 9s/epoch - 240ms/step
Epoch 23/25
36/36 - 9s - loss: 0.6352 - accuracy: 0.7638 - val_loss: 0.6429 - val_accuracy: 0.8005 - lr: 0.0010 - 9s/epoch - 250ms/step
Epoch 24/25
36/36 - 9s - loss: 0.6343 - accuracy: 0.7639 - val_loss: 0.6470 - val_accuracy: 0.8039 - lr: 0.0010 - 9s/epoch - 240ms/step
Epoch 25/25
36/36 - 8s - loss: 0.6336 - accuracy: 0.7636 - val_loss: 0.6506 - val_accuracy: 0.8054 - lr: 0.0010 - 8s/epoch - 235ms/step
Epoch number: 50
fitting with batch size: 20
Epoch 1/50
4378/4378 - 71s - loss: 0.6790 - accuracy: 0.7454 - val_loss: 0.6510 - val_accuracy: 0.7975 - lr: 0.0010 - 71s/epoch - 16ms/step
Epoch 2/50
4378/4378 - 70s - loss: 0.6775 - accuracy: 0.7463 - val_loss: 0.6426 - val_accuracy: 0.7978 - lr: 0.0010 - 70s/epoch - 16ms/step
Epoch 3/50
4378/4378 - 70s - loss: 0.6753 - accuracy: 0.7462 - val_loss: 0.6218 - val_accuracy: 0.8019 - lr: 0.0010 - 70s/epoch - 16ms/step
Epoch 4/50
4378/4378 - 69s - loss: 0.6747 - accuracy: 0.7464 - val_loss: 0.6651 - val_accuracy: 0.7739 - lr: 0.0010 - 69s/epoch - 16ms/step
Epoch 5/50
4378/4378 - 69s - loss: 0.6737 - accuracy: 0.7468 - val_loss: 0.6384 - val_accuracy: 0.8166 - lr: 0.0010 - 69s/epoch - 16ms/step
Epoch 6/50
4378/4378 - 69s - loss: 0.6741 - accuracy: 0.7464 - val_loss: 0.6350 - val_accuracy: 0.8019 - lr: 0.0010 - 69s/epoch - 16ms/step
Epoch 7/50
4378/4378 - 69s - loss: 0.6733 - accuracy: 0.7461 - val_loss: 0.6479 - val_accuracy: 0.7891 - lr: 0.0010 - 69s/epoch - 16ms/step
Epoch 8/50
4378/4378 - 69s - loss: 0.6726 - accuracy: 0.7482 - val_loss: 0.6095 - val_accuracy: 0.8113 - lr: 0.0010 - 69s/epoch - 16ms/step
Epoch 9/50
4378/4378 - 68s - loss: 0.6724 - accuracy: 0.7474 - val_loss: 0.6641 - val_accuracy: 0.7845 - lr: 0.0010 - 68s/epoch - 16ms/step
Epoch 10/50
4378/4378 - 69s - loss: 0.6709 - accuracy: 0.7477 - val_loss: 0.7051 - val_accuracy: 0.7833 - lr: 0.0010 - 69s/epoch - 16ms/step
Epoch 11/50
4378/4378 - 69s - loss: 0.6692 - accuracy: 0.7476 - val_loss: 0.6703 - val_accuracy: 0.7870 - lr: 0.0010 - 69s/epoch - 16ms/step
Epoch 12/50
4378/4378 - 69s - loss: 0.6687 - accuracy: 0.7486 - val_loss: 0.6051 - val_accuracy: 0.8136 - lr: 0.0010 - 69s/epoch - 16ms/step
Epoch 13/50
4378/4378 - 68s - loss: 0.6666 - accuracy: 0.7481 - val_loss: 0.6435 - val_accuracy: 0.7930 - lr: 0.0010 - 68s/epoch - 16ms/step
Epoch 14/50
4378/4378 - 68s - loss: 0.6658 - accuracy: 0.7487 - val_loss: 0.6301 - val_accuracy: 0.8109 - lr: 0.0010 - 68s/epoch - 16ms/step
Epoch 15/50
4378/4378 - 69s - loss: 0.6667 - accuracy: 0.7479 - val_loss: 0.6609 - val_accuracy: 0.7993 - lr: 0.0010 - 69s/epoch - 16ms/step
Epoch 16/50
4378/4378 - 69s - loss: 0.6652 - accuracy: 0.7501 - val_loss: 0.6235 - val_accuracy: 0.7960 - lr: 0.0010 - 69s/epoch - 16ms/step
Epoch 17/50
4378/4378 - 69s - loss: 0.6652 - accuracy: 0.7500 - val_loss: 0.6097 - val_accuracy: 0.8184 - lr: 0.0010 - 69s/epoch - 16ms/step
Epoch 18/50
4378/4378 - 69s - loss: 0.6641 - accuracy: 0.7501 - val_loss: 0.6438 - val_accuracy: 0.7981 - lr: 0.0010 - 69s/epoch - 16ms/step
Epoch 19/50
4378/4378 - 69s - loss: 0.6635 - accuracy: 0.7511 - val_loss: 0.6392 - val_accuracy: 0.8068 - lr: 0.0010 - 69s/epoch - 16ms/step
Epoch 20/50
4378/4378 - 69s - loss: 0.6638 - accuracy: 0.7506 - val_loss: 0.6365 - val_accuracy: 0.8079 - lr: 0.0010 - 69s/epoch - 16ms/step
Epoch 21/50
4378/4378 - 69s - loss: 0.6603 - accuracy: 0.7514 - val_loss: 0.6642 - val_accuracy: 0.7920 - lr: 0.0010 - 69s/epoch - 16ms/step
Epoch 22/50
4378/4378 - 70s - loss: 0.6625 - accuracy: 0.7503 - val_loss: 0.6339 - val_accuracy: 0.8157 - lr: 0.0010 - 70s/epoch - 16ms/step
Epoch 23/50
4378/4378 - 68s - loss: 0.6601 - accuracy: 0.7520 - val_loss: 0.6451 - val_accuracy: 0.8112 - lr: 0.0010 - 68s/epoch - 16ms/step
Epoch 24/50
4378/4378 - 69s - loss: 0.6600 - accuracy: 0.7515 - val_loss: 0.6470 - val_accuracy: 0.7950 - lr: 0.0010 - 69s/epoch - 16ms/step
Epoch 25/50
4378/4378 - 69s - loss: 0.6585 - accuracy: 0.7531 - val_loss: 0.6347 - val_accuracy: 0.8074 - lr: 0.0010 - 69s/epoch - 16ms/step
Epoch 26/50
4378/4378 - 68s - loss: 0.6581 - accuracy: 0.7523 - val_loss: 0.6926 - val_accuracy: 0.7801 - lr: 0.0010 - 68s/epoch - 16ms/step
Epoch 27/50
4378/4378 - 69s - loss: 0.6554 - accuracy: 0.7534 - val_loss: 0.6215 - val_accuracy: 0.8152 - lr: 0.0010 - 69s/epoch - 16ms/step
Epoch 28/50
4378/4378 - 69s - loss: 0.6558 - accuracy: 0.7537 - val_loss: 0.5555 - val_accuracy: 0.8534 - lr: 0.0010 - 69s/epoch - 16ms/step
Epoch 29/50
4378/4378 - 69s - loss: 0.6569 - accuracy: 0.7520 - val_loss: 0.6305 - val_accuracy: 0.8083 - lr: 0.0010 - 69s/epoch - 16ms/step
Epoch 30/50
4378/4378 - 69s - loss: 0.6544 - accuracy: 0.7536 - val_loss: 0.6363 - val_accuracy: 0.7981 - lr: 0.0010 - 69s/epoch - 16ms/step
Epoch 31/50
4378/4378 - 68s - loss: 0.6530 - accuracy: 0.7547 - val_loss: 0.6803 - val_accuracy: 0.7950 - lr: 0.0010 - 68s/epoch - 16ms/step
Epoch 32/50
4378/4378 - 69s - loss: 0.6533 - accuracy: 0.7541 - val_loss: 0.6804 - val_accuracy: 0.7970 - lr: 0.0010 - 69s/epoch - 16ms/step
Epoch 33/50
4378/4378 - 69s - loss: 0.6551 - accuracy: 0.7536 - val_loss: 0.6716 - val_accuracy: 0.7955 - lr: 0.0010 - 69s/epoch - 16ms/step
Epoch 34/50
4378/4378 - 69s - loss: 0.6508 - accuracy: 0.7549 - val_loss: 0.7002 - val_accuracy: 0.7970 - lr: 0.0010 - 69s/epoch - 16ms/step
Epoch 35/50
4378/4378 - 69s - loss: 0.6522 - accuracy: 0.7543 - val_loss: 0.6473 - val_accuracy: 0.7997 - lr: 0.0010 - 69s/epoch - 16ms/step
Epoch 36/50
4378/4378 - 69s - loss: 0.6505 - accuracy: 0.7558 - val_loss: 0.6166 - val_accuracy: 0.8217 - lr: 0.0010 - 69s/epoch - 16ms/step
Epoch 37/50
4378/4378 - 68s - loss: 0.6495 - accuracy: 0.7562 - val_loss: 0.5982 - val_accuracy: 0.8220 - lr: 0.0010 - 68s/epoch - 16ms/step
Epoch 38/50
4378/4378 - 69s - loss: 0.6501 - accuracy: 0.7541 - val_loss: 0.6601 - val_accuracy: 0.8019 - lr: 0.0010 - 69s/epoch - 16ms/step
Epoch 39/50
4378/4378 - 68s - loss: 0.6484 - accuracy: 0.7557 - val_loss: 0.6833 - val_accuracy: 0.7743 - lr: 0.0010 - 68s/epoch - 16ms/step
Epoch 40/50
4378/4378 - 69s - loss: 0.6487 - accuracy: 0.7554 - val_loss: 0.6508 - val_accuracy: 0.8182 - lr: 0.0010 - 69s/epoch - 16ms/step
Epoch 41/50
4378/4378 - 69s - loss: 0.6478 - accuracy: 0.7554 - val_loss: 0.6514 - val_accuracy: 0.7941 - lr: 0.0010 - 69s/epoch - 16ms/step
Epoch 42/50
4378/4378 - 68s - loss: 0.6447 - accuracy: 0.7584 - val_loss: 0.6660 - val_accuracy: 0.7925 - lr: 0.0010 - 68s/epoch - 16ms/step
Epoch 43/50
4378/4378 - 69s - loss: 0.6439 - accuracy: 0.7572 - val_loss: 0.6116 - val_accuracy: 0.8192 - lr: 0.0010 - 69s/epoch - 16ms/step
Epoch 44/50
4378/4378 - 69s - loss: 0.6448 - accuracy: 0.7574 - val_loss: 0.6345 - val_accuracy: 0.7941 - lr: 0.0010 - 69s/epoch - 16ms/step
Epoch 45/50
4378/4378 - 68s - loss: 0.6442 - accuracy: 0.7583 - val_loss: 0.6447 - val_accuracy: 0.8156 - lr: 0.0010 - 68s/epoch - 16ms/step
Epoch 46/50
4378/4378 - 69s - loss: 0.6446 - accuracy: 0.7579 - val_loss: 0.6780 - val_accuracy: 0.7878 - lr: 0.0010 - 69s/epoch - 16ms/step
Epoch 47/50
4378/4378 - 69s - loss: 0.6428 - accuracy: 0.7569 - val_loss: 0.6441 - val_accuracy: 0.7874 - lr: 0.0010 - 69s/epoch - 16ms/step
Epoch 48/50
4378/4378 - 69s - loss: 0.6424 - accuracy: 0.7569 - val_loss: 0.5695 - val_accuracy: 0.8293 - lr: 0.0010 - 69s/epoch - 16ms/step
Epoch 49/50
4378/4378 - 69s - loss: 0.6426 - accuracy: 0.7585 - val_loss: 0.7017 - val_accuracy: 0.7832 - lr: 0.0010 - 69s/epoch - 16ms/step
Epoch 50/50
4378/4378 - 69s - loss: 0.6399 - accuracy: 0.7597 - val_loss: 0.6665 - val_accuracy: 0.7923 - lr: 0.0010 - 69s/epoch - 16ms/step
fitting with batch size: 100
Epoch 1/50
876/876 - 20s - loss: 0.6107 - accuracy: 0.7710 - val_loss: 0.5997 - val_accuracy: 0.8297 - lr: 0.0010 - 20s/epoch - 23ms/step
Epoch 2/50
876/876 - 17s - loss: 0.6044 - accuracy: 0.7745 - val_loss: 0.6197 - val_accuracy: 0.8194 - lr: 0.0010 - 17s/epoch - 20ms/step
Epoch 3/50
876/876 - 17s - loss: 0.6055 - accuracy: 0.7741 - val_loss: 0.6080 - val_accuracy: 0.8237 - lr: 0.0010 - 17s/epoch - 20ms/step
Epoch 4/50
876/876 - 17s - loss: 0.6031 - accuracy: 0.7746 - val_loss: 0.6059 - val_accuracy: 0.8256 - lr: 0.0010 - 17s/epoch - 20ms/step
Epoch 5/50
876/876 - 17s - loss: 0.6025 - accuracy: 0.7730 - val_loss: 0.6228 - val_accuracy: 0.8163 - lr: 0.0010 - 17s/epoch - 20ms/step
Epoch 6/50
876/876 - 17s - loss: 0.6008 - accuracy: 0.7752 - val_loss: 0.5908 - val_accuracy: 0.8335 - lr: 0.0010 - 17s/epoch - 20ms/step
Epoch 7/50
876/876 - 17s - loss: 0.6014 - accuracy: 0.7741 - val_loss: 0.6462 - val_accuracy: 0.8075 - lr: 0.0010 - 17s/epoch - 20ms/step
Epoch 8/50
876/876 - 17s - loss: 0.6006 - accuracy: 0.7754 - val_loss: 0.6128 - val_accuracy: 0.8166 - lr: 0.0010 - 17s/epoch - 20ms/step
Epoch 9/50
876/876 - 17s - loss: 0.6013 - accuracy: 0.7756 - val_loss: 0.6302 - val_accuracy: 0.8185 - lr: 0.0010 - 17s/epoch - 20ms/step
Epoch 10/50
876/876 - 17s - loss: 0.6001 - accuracy: 0.7756 - val_loss: 0.6187 - val_accuracy: 0.8197 - lr: 0.0010 - 17s/epoch - 20ms/step
Epoch 11/50
876/876 - 17s - loss: 0.6007 - accuracy: 0.7757 - val_loss: 0.6198 - val_accuracy: 0.8174 - lr: 0.0010 - 17s/epoch - 20ms/step
Epoch 12/50
876/876 - 17s - loss: 0.5982 - accuracy: 0.7762 - val_loss: 0.6381 - val_accuracy: 0.8084 - lr: 0.0010 - 17s/epoch - 20ms/step
Epoch 13/50
876/876 - 17s - loss: 0.5989 - accuracy: 0.7762 - val_loss: 0.6167 - val_accuracy: 0.8218 - lr: 0.0010 - 17s/epoch - 20ms/step
Epoch 14/50
876/876 - 17s - loss: 0.5970 - accuracy: 0.7763 - val_loss: 0.5944 - val_accuracy: 0.8266 - lr: 0.0010 - 17s/epoch - 20ms/step
Epoch 15/50
876/876 - 17s - loss: 0.5974 - accuracy: 0.7769 - val_loss: 0.6045 - val_accuracy: 0.8298 - lr: 0.0010 - 17s/epoch - 20ms/step
Epoch 16/50
876/876 - 17s - loss: 0.5975 - accuracy: 0.7763 - val_loss: 0.6264 - val_accuracy: 0.8179 - lr: 0.0010 - 17s/epoch - 20ms/step
Epoch 17/50
876/876 - 17s - loss: 0.5960 - accuracy: 0.7766 - val_loss: 0.6522 - val_accuracy: 0.8114 - lr: 0.0010 - 17s/epoch - 20ms/step
Epoch 18/50
876/876 - 17s - loss: 0.5969 - accuracy: 0.7767 - val_loss: 0.6248 - val_accuracy: 0.8147 - lr: 0.0010 - 17s/epoch - 20ms/step
Epoch 19/50
876/876 - 17s - loss: 0.5967 - accuracy: 0.7773 - val_loss: 0.6470 - val_accuracy: 0.8059 - lr: 0.0010 - 17s/epoch - 20ms/step
Epoch 20/50
876/876 - 17s - loss: 0.5947 - accuracy: 0.7781 - val_loss: 0.6504 - val_accuracy: 0.8054 - lr: 0.0010 - 17s/epoch - 20ms/step
Epoch 21/50
876/876 - 17s - loss: 0.5927 - accuracy: 0.7775 - val_loss: 0.6319 - val_accuracy: 0.8086 - lr: 0.0010 - 17s/epoch - 20ms/step
Epoch 22/50
876/876 - 17s - loss: 0.5938 - accuracy: 0.7783 - val_loss: 0.6336 - val_accuracy: 0.8127 - lr: 0.0010 - 17s/epoch - 20ms/step
Epoch 23/50
876/876 - 17s - loss: 0.5950 - accuracy: 0.7787 - val_loss: 0.6163 - val_accuracy: 0.8189 - lr: 0.0010 - 17s/epoch - 19ms/step
Epoch 24/50
876/876 - 17s - loss: 0.5942 - accuracy: 0.7775 - val_loss: 0.6482 - val_accuracy: 0.8113 - lr: 0.0010 - 17s/epoch - 20ms/step
Epoch 25/50
876/876 - 17s - loss: 0.5938 - accuracy: 0.7787 - val_loss: 0.6360 - val_accuracy: 0.8154 - lr: 0.0010 - 17s/epoch - 20ms/step
Epoch 26/50
876/876 - 17s - loss: 0.5932 - accuracy: 0.7779 - val_loss: 0.6308 - val_accuracy: 0.8132 - lr: 0.0010 - 17s/epoch - 20ms/step
Epoch 27/50
876/876 - 17s - loss: 0.5924 - accuracy: 0.7782 - val_loss: 0.6555 - val_accuracy: 0.8026 - lr: 0.0010 - 17s/epoch - 20ms/step
Epoch 28/50
876/876 - 17s - loss: 0.5925 - accuracy: 0.7788 - val_loss: 0.6189 - val_accuracy: 0.8177 - lr: 0.0010 - 17s/epoch - 20ms/step
Epoch 29/50
876/876 - 17s - loss: 0.5899 - accuracy: 0.7779 - val_loss: 0.6180 - val_accuracy: 0.8203 - lr: 0.0010 - 17s/epoch - 20ms/step
Epoch 30/50
876/876 - 17s - loss: 0.5919 - accuracy: 0.7781 - val_loss: 0.6379 - val_accuracy: 0.8120 - lr: 0.0010 - 17s/epoch - 19ms/step
Epoch 31/50
876/876 - 17s - loss: 0.5914 - accuracy: 0.7784 - val_loss: 0.6355 - val_accuracy: 0.8126 - lr: 0.0010 - 17s/epoch - 20ms/step
Epoch 32/50
876/876 - 17s - loss: 0.5914 - accuracy: 0.7787 - val_loss: 0.6136 - val_accuracy: 0.8223 - lr: 0.0010 - 17s/epoch - 20ms/step
Epoch 33/50
876/876 - 17s - loss: 0.5875 - accuracy: 0.7814 - val_loss: 0.6176 - val_accuracy: 0.8239 - lr: 0.0010 - 17s/epoch - 20ms/step
Epoch 34/50
876/876 - 17s - loss: 0.5897 - accuracy: 0.7793 - val_loss: 0.6186 - val_accuracy: 0.8185 - lr: 0.0010 - 17s/epoch - 20ms/step
Epoch 35/50
876/876 - 17s - loss: 0.5895 - accuracy: 0.7809 - val_loss: 0.6275 - val_accuracy: 0.8193 - lr: 0.0010 - 17s/epoch - 20ms/step
Epoch 36/50
876/876 - 17s - loss: 0.5889 - accuracy: 0.7793 - val_loss: 0.6393 - val_accuracy: 0.8074 - lr: 0.0010 - 17s/epoch - 20ms/step
Epoch 37/50
876/876 - 17s - loss: 0.5880 - accuracy: 0.7794 - val_loss: 0.6266 - val_accuracy: 0.8077 - lr: 0.0010 - 17s/epoch - 20ms/step
Epoch 38/50
876/876 - 17s - loss: 0.5890 - accuracy: 0.7793 - val_loss: 0.6258 - val_accuracy: 0.8157 - lr: 0.0010 - 17s/epoch - 20ms/step
Epoch 39/50
876/876 - 17s - loss: 0.5882 - accuracy: 0.7801 - val_loss: 0.6278 - val_accuracy: 0.8202 - lr: 0.0010 - 17s/epoch - 20ms/step
Epoch 40/50
876/876 - 17s - loss: 0.5885 - accuracy: 0.7804 - val_loss: 0.6218 - val_accuracy: 0.8225 - lr: 0.0010 - 17s/epoch - 20ms/step
Epoch 41/50
876/876 - 17s - loss: 0.5878 - accuracy: 0.7804 - val_loss: 0.5982 - val_accuracy: 0.8262 - lr: 0.0010 - 17s/epoch - 20ms/step
Epoch 42/50
876/876 - 17s - loss: 0.5865 - accuracy: 0.7812 - val_loss: 0.6342 - val_accuracy: 0.8132 - lr: 0.0010 - 17s/epoch - 20ms/step
Epoch 43/50
876/876 - 17s - loss: 0.5864 - accuracy: 0.7811 - val_loss: 0.6013 - val_accuracy: 0.8266 - lr: 0.0010 - 17s/epoch - 20ms/step
Epoch 44/50
876/876 - 17s - loss: 0.5870 - accuracy: 0.7787 - val_loss: 0.6290 - val_accuracy: 0.8124 - lr: 0.0010 - 17s/epoch - 20ms/step
Epoch 45/50
876/876 - 17s - loss: 0.5848 - accuracy: 0.7809 - val_loss: 0.5995 - val_accuracy: 0.8273 - lr: 0.0010 - 17s/epoch - 20ms/step
Epoch 46/50
876/876 - 17s - loss: 0.5856 - accuracy: 0.7810 - val_loss: 0.6003 - val_accuracy: 0.8256 - lr: 0.0010 - 17s/epoch - 20ms/step
Epoch 47/50
876/876 - 17s - loss: 0.5867 - accuracy: 0.7806 - val_loss: 0.6235 - val_accuracy: 0.8154 - lr: 0.0010 - 17s/epoch - 20ms/step
Epoch 48/50
876/876 - 17s - loss: 0.5849 - accuracy: 0.7817 - val_loss: 0.6220 - val_accuracy: 0.8216 - lr: 0.0010 - 17s/epoch - 20ms/step
Epoch 49/50
876/876 - 17s - loss: 0.5841 - accuracy: 0.7811 - val_loss: 0.6454 - val_accuracy: 0.8101 - lr: 0.0010 - 17s/epoch - 20ms/step
Epoch 50/50
876/876 - 17s - loss: 0.5844 - accuracy: 0.7811 - val_loss: 0.6407 - val_accuracy: 0.8095 - lr: 0.0010 - 17s/epoch - 20ms/step
fitting with batch size: 500
Epoch 1/50
176/176 - 12s - loss: 0.5752 - accuracy: 0.7845 - val_loss: 0.6433 - val_accuracy: 0.8077 - lr: 0.0010 - 12s/epoch - 67ms/step
Epoch 2/50
176/176 - 10s - loss: 0.5749 - accuracy: 0.7865 - val_loss: 0.6275 - val_accuracy: 0.8181 - lr: 0.0010 - 10s/epoch - 55ms/step
Epoch 3/50
176/176 - 10s - loss: 0.5748 - accuracy: 0.7853 - val_loss: 0.6166 - val_accuracy: 0.8201 - lr: 0.0010 - 10s/epoch - 55ms/step
Epoch 4/50
176/176 - 10s - loss: 0.5744 - accuracy: 0.7859 - val_loss: 0.6409 - val_accuracy: 0.8098 - lr: 0.0010 - 10s/epoch - 55ms/step
Epoch 5/50
176/176 - 10s - loss: 0.5748 - accuracy: 0.7845 - val_loss: 0.6340 - val_accuracy: 0.8113 - lr: 0.0010 - 10s/epoch - 55ms/step
Epoch 6/50
176/176 - 10s - loss: 0.5746 - accuracy: 0.7855 - val_loss: 0.6327 - val_accuracy: 0.8141 - lr: 0.0010 - 10s/epoch - 54ms/step
Epoch 7/50
176/176 - 10s - loss: 0.5741 - accuracy: 0.7854 - val_loss: 0.6390 - val_accuracy: 0.8147 - lr: 0.0010 - 10s/epoch - 55ms/step
Epoch 8/50
176/176 - 10s - loss: 0.5744 - accuracy: 0.7857 - val_loss: 0.6213 - val_accuracy: 0.8187 - lr: 0.0010 - 10s/epoch - 55ms/step
Epoch 9/50
176/176 - 10s - loss: 0.5723 - accuracy: 0.7861 - val_loss: 0.6193 - val_accuracy: 0.8192 - lr: 0.0010 - 10s/epoch - 55ms/step
Epoch 10/50
176/176 - 10s - loss: 0.5739 - accuracy: 0.7856 - val_loss: 0.6397 - val_accuracy: 0.8108 - lr: 0.0010 - 10s/epoch - 56ms/step
Epoch 11/50
176/176 - 10s - loss: 0.5724 - accuracy: 0.7851 - val_loss: 0.6372 - val_accuracy: 0.8156 - lr: 0.0010 - 10s/epoch - 55ms/step
Epoch 12/50
176/176 - 10s - loss: 0.5732 - accuracy: 0.7848 - val_loss: 0.6266 - val_accuracy: 0.8161 - lr: 0.0010 - 10s/epoch - 54ms/step
Epoch 13/50
176/176 - 10s - loss: 0.5731 - accuracy: 0.7862 - val_loss: 0.6391 - val_accuracy: 0.8116 - lr: 0.0010 - 10s/epoch - 55ms/step
Epoch 14/50
176/176 - 10s - loss: 0.5715 - accuracy: 0.7869 - val_loss: 0.6295 - val_accuracy: 0.8138 - lr: 0.0010 - 10s/epoch - 55ms/step
Epoch 15/50
176/176 - 10s - loss: 0.5717 - accuracy: 0.7867 - val_loss: 0.6285 - val_accuracy: 0.8157 - lr: 0.0010 - 10s/epoch - 55ms/step
Epoch 16/50
176/176 - 10s - loss: 0.5731 - accuracy: 0.7866 - val_loss: 0.6141 - val_accuracy: 0.8237 - lr: 0.0010 - 10s/epoch - 55ms/step
Epoch 17/50
176/176 - 10s - loss: 0.5729 - accuracy: 0.7855 - val_loss: 0.6396 - val_accuracy: 0.8085 - lr: 0.0010 - 10s/epoch - 55ms/step
Epoch 18/50
176/176 - 10s - loss: 0.5733 - accuracy: 0.7865 - val_loss: 0.6252 - val_accuracy: 0.8180 - lr: 0.0010 - 10s/epoch - 55ms/step
Epoch 19/50
176/176 - 9s - loss: 0.5721 - accuracy: 0.7856 - val_loss: 0.6243 - val_accuracy: 0.8178 - lr: 0.0010 - 9s/epoch - 54ms/step
Epoch 20/50
176/176 - 10s - loss: 0.5724 - accuracy: 0.7870 - val_loss: 0.6303 - val_accuracy: 0.8146 - lr: 0.0010 - 10s/epoch - 55ms/step
Epoch 21/50
176/176 - 10s - loss: 0.5728 - accuracy: 0.7851 - val_loss: 0.6425 - val_accuracy: 0.8077 - lr: 0.0010 - 10s/epoch - 55ms/step
Epoch 22/50
176/176 - 10s - loss: 0.5702 - accuracy: 0.7868 - val_loss: 0.6215 - val_accuracy: 0.8168 - lr: 0.0010 - 10s/epoch - 55ms/step
Epoch 23/50
176/176 - 10s - loss: 0.5715 - accuracy: 0.7860 - val_loss: 0.6428 - val_accuracy: 0.8116 - lr: 0.0010 - 10s/epoch - 55ms/step
Epoch 24/50
176/176 - 10s - loss: 0.5726 - accuracy: 0.7863 - val_loss: 0.6373 - val_accuracy: 0.8140 - lr: 0.0010 - 10s/epoch - 56ms/step
Epoch 25/50
176/176 - 10s - loss: 0.5726 - accuracy: 0.7853 - val_loss: 0.6345 - val_accuracy: 0.8149 - lr: 0.0010 - 10s/epoch - 55ms/step
Epoch 26/50
176/176 - 10s - loss: 0.5712 - accuracy: 0.7861 - val_loss: 0.6212 - val_accuracy: 0.8229 - lr: 0.0010 - 10s/epoch - 54ms/step
Epoch 27/50
176/176 - 10s - loss: 0.5719 - accuracy: 0.7862 - val_loss: 0.6369 - val_accuracy: 0.8109 - lr: 0.0010 - 10s/epoch - 55ms/step
Epoch 28/50
176/176 - 10s - loss: 0.5719 - accuracy: 0.7861 - val_loss: 0.6461 - val_accuracy: 0.8060 - lr: 0.0010 - 10s/epoch - 55ms/step
Epoch 29/50
176/176 - 10s - loss: 0.5713 - accuracy: 0.7870 - val_loss: 0.6334 - val_accuracy: 0.8148 - lr: 0.0010 - 10s/epoch - 55ms/step
Epoch 30/50
176/176 - 10s - loss: 0.5714 - accuracy: 0.7860 - val_loss: 0.6376 - val_accuracy: 0.8102 - lr: 0.0010 - 10s/epoch - 55ms/step
Epoch 31/50
176/176 - 10s - loss: 0.5700 - accuracy: 0.7873 - val_loss: 0.6236 - val_accuracy: 0.8172 - lr: 0.0010 - 10s/epoch - 55ms/step
Epoch 32/50
176/176 - 10s - loss: 0.5705 - accuracy: 0.7875 - val_loss: 0.6201 - val_accuracy: 0.8173 - lr: 0.0010 - 10s/epoch - 55ms/step
Epoch 33/50
176/176 - 10s - loss: 0.5699 - accuracy: 0.7869 - val_loss: 0.6276 - val_accuracy: 0.8156 - lr: 0.0010 - 10s/epoch - 55ms/step
Epoch 34/50
176/176 - 10s - loss: 0.5714 - accuracy: 0.7869 - val_loss: 0.6293 - val_accuracy: 0.8167 - lr: 0.0010 - 10s/epoch - 55ms/step
Epoch 35/50
176/176 - 10s - loss: 0.5710 - accuracy: 0.7857 - val_loss: 0.6315 - val_accuracy: 0.8150 - lr: 0.0010 - 10s/epoch - 55ms/step
Epoch 36/50
176/176 - 10s - loss: 0.5707 - accuracy: 0.7864 - val_loss: 0.6329 - val_accuracy: 0.8115 - lr: 0.0010 - 10s/epoch - 55ms/step
Epoch 37/50
176/176 - 10s - loss: 0.5713 - accuracy: 0.7860 - val_loss: 0.6311 - val_accuracy: 0.8145 - lr: 0.0010 - 10s/epoch - 58ms/step
Epoch 38/50
176/176 - 10s - loss: 0.5701 - accuracy: 0.7878 - val_loss: 0.6255 - val_accuracy: 0.8168 - lr: 0.0010 - 10s/epoch - 55ms/step
Epoch 39/50
176/176 - 10s - loss: 0.5706 - accuracy: 0.7874 - val_loss: 0.6315 - val_accuracy: 0.8165 - lr: 0.0010 - 10s/epoch - 54ms/step
Epoch 40/50
176/176 - 10s - loss: 0.5697 - accuracy: 0.7875 - val_loss: 0.6209 - val_accuracy: 0.8189 - lr: 0.0010 - 10s/epoch - 55ms/step
Epoch 41/50
176/176 - 10s - loss: 0.5721 - accuracy: 0.7870 - val_loss: 0.6339 - val_accuracy: 0.8143 - lr: 0.0010 - 10s/epoch - 55ms/step
Epoch 42/50
176/176 - 10s - loss: 0.5697 - accuracy: 0.7882 - val_loss: 0.6437 - val_accuracy: 0.8097 - lr: 0.0010 - 10s/epoch - 55ms/step
Epoch 43/50
176/176 - 10s - loss: 0.5702 - accuracy: 0.7868 - val_loss: 0.6306 - val_accuracy: 0.8139 - lr: 0.0010 - 10s/epoch - 55ms/step
Epoch 44/50
176/176 - 10s - loss: 0.5701 - accuracy: 0.7873 - val_loss: 0.6497 - val_accuracy: 0.8090 - lr: 0.0010 - 10s/epoch - 56ms/step
Epoch 45/50
176/176 - 10s - loss: 0.5693 - accuracy: 0.7878 - val_loss: 0.6407 - val_accuracy: 0.8112 - lr: 0.0010 - 10s/epoch - 55ms/step
Epoch 46/50
176/176 - 10s - loss: 0.5692 - accuracy: 0.7859 - val_loss: 0.6060 - val_accuracy: 0.8256 - lr: 0.0010 - 10s/epoch - 54ms/step
Epoch 47/50
176/176 - 10s - loss: 0.5694 - accuracy: 0.7877 - val_loss: 0.6223 - val_accuracy: 0.8155 - lr: 0.0010 - 10s/epoch - 55ms/step
Epoch 48/50
176/176 - 10s - loss: 0.5699 - accuracy: 0.7881 - val_loss: 0.6350 - val_accuracy: 0.8106 - lr: 0.0010 - 10s/epoch - 55ms/step
Epoch 49/50
176/176 - 10s - loss: 0.5698 - accuracy: 0.7871 - val_loss: 0.6175 - val_accuracy: 0.8198 - lr: 0.0010 - 10s/epoch - 55ms/step
Epoch 50/50
176/176 - 10s - loss: 0.5702 - accuracy: 0.7860 - val_loss: 0.6406 - val_accuracy: 0.8102 - lr: 0.0010 - 10s/epoch - 55ms/step
fitting with batch size: 1500
Epoch 1/50
59/59 - 11s - loss: 0.5669 - accuracy: 0.7889 - val_loss: 0.6318 - val_accuracy: 0.8158 - lr: 0.0010 - 11s/epoch - 188ms/step
Epoch 2/50
59/59 - 9s - loss: 0.5676 - accuracy: 0.7870 - val_loss: 0.6300 - val_accuracy: 0.8149 - lr: 0.0010 - 9s/epoch - 151ms/step
Epoch 3/50
59/59 - 9s - loss: 0.5681 - accuracy: 0.7882 - val_loss: 0.6381 - val_accuracy: 0.8110 - lr: 0.0010 - 9s/epoch - 148ms/step
Epoch 4/50
59/59 - 9s - loss: 0.5669 - accuracy: 0.7874 - val_loss: 0.6270 - val_accuracy: 0.8161 - lr: 0.0010 - 9s/epoch - 152ms/step
Epoch 5/50
59/59 - 9s - loss: 0.5670 - accuracy: 0.7886 - val_loss: 0.6342 - val_accuracy: 0.8144 - lr: 0.0010 - 9s/epoch - 152ms/step
Epoch 6/50
59/59 - 9s - loss: 0.5685 - accuracy: 0.7875 - val_loss: 0.6325 - val_accuracy: 0.8143 - lr: 0.0010 - 9s/epoch - 152ms/step
Epoch 7/50
59/59 - 9s - loss: 0.5671 - accuracy: 0.7878 - val_loss: 0.6362 - val_accuracy: 0.8131 - lr: 0.0010 - 9s/epoch - 153ms/step
Epoch 8/50
59/59 - 9s - loss: 0.5666 - accuracy: 0.7884 - val_loss: 0.6290 - val_accuracy: 0.8155 - lr: 0.0010 - 9s/epoch - 152ms/step
Epoch 9/50
59/59 - 9s - loss: 0.5673 - accuracy: 0.7883 - val_loss: 0.6411 - val_accuracy: 0.8091 - lr: 0.0010 - 9s/epoch - 151ms/step
Epoch 10/50
59/59 - 9s - loss: 0.5681 - accuracy: 0.7872 - val_loss: 0.6322 - val_accuracy: 0.8139 - lr: 0.0010 - 9s/epoch - 148ms/step
Epoch 11/50
59/59 - 9s - loss: 0.5652 - accuracy: 0.7893 - val_loss: 0.6270 - val_accuracy: 0.8163 - lr: 0.0010 - 9s/epoch - 150ms/step
Epoch 12/50
59/59 - 9s - loss: 0.5681 - accuracy: 0.7878 - val_loss: 0.6363 - val_accuracy: 0.8126 - lr: 0.0010 - 9s/epoch - 152ms/step
Epoch 13/50
59/59 - 9s - loss: 0.5664 - accuracy: 0.7874 - val_loss: 0.6374 - val_accuracy: 0.8137 - lr: 0.0010 - 9s/epoch - 152ms/step
Epoch 14/50
59/59 - 9s - loss: 0.5672 - accuracy: 0.7887 - val_loss: 0.6351 - val_accuracy: 0.8130 - lr: 0.0010 - 9s/epoch - 151ms/step
Epoch 15/50
59/59 - 9s - loss: 0.5656 - accuracy: 0.7890 - val_loss: 0.6350 - val_accuracy: 0.8134 - lr: 0.0010 - 9s/epoch - 152ms/step
Epoch 16/50
59/59 - 9s - loss: 0.5667 - accuracy: 0.7889 - val_loss: 0.6335 - val_accuracy: 0.8131 - lr: 0.0010 - 9s/epoch - 151ms/step
Epoch 17/50
59/59 - 9s - loss: 0.5666 - accuracy: 0.7882 - val_loss: 0.6320 - val_accuracy: 0.8150 - lr: 0.0010 - 9s/epoch - 149ms/step
Epoch 18/50
59/59 - 9s - loss: 0.5662 - accuracy: 0.7881 - val_loss: 0.6332 - val_accuracy: 0.8147 - lr: 0.0010 - 9s/epoch - 149ms/step
Epoch 19/50
59/59 - 9s - loss: 0.5657 - accuracy: 0.7874 - val_loss: 0.6375 - val_accuracy: 0.8125 - lr: 0.0010 - 9s/epoch - 152ms/step
Epoch 20/50
59/59 - 9s - loss: 0.5675 - accuracy: 0.7883 - val_loss: 0.6405 - val_accuracy: 0.8108 - lr: 0.0010 - 9s/epoch - 151ms/step
Epoch 21/50
59/59 - 9s - loss: 0.5677 - accuracy: 0.7884 - val_loss: 0.6306 - val_accuracy: 0.8145 - lr: 0.0010 - 9s/epoch - 151ms/step
Epoch 22/50
59/59 - 9s - loss: 0.5660 - accuracy: 0.7884 - val_loss: 0.6428 - val_accuracy: 0.8107 - lr: 0.0010 - 9s/epoch - 153ms/step
Epoch 23/50
59/59 - 9s - loss: 0.5648 - accuracy: 0.7892 - val_loss: 0.6343 - val_accuracy: 0.8134 - lr: 0.0010 - 9s/epoch - 151ms/step
Epoch 24/50
59/59 - 9s - loss: 0.5670 - accuracy: 0.7887 - val_loss: 0.6347 - val_accuracy: 0.8137 - lr: 0.0010 - 9s/epoch - 150ms/step
Epoch 25/50
59/59 - 9s - loss: 0.5660 - accuracy: 0.7888 - val_loss: 0.6274 - val_accuracy: 0.8168 - lr: 0.0010 - 9s/epoch - 148ms/step
Epoch 26/50
59/59 - 9s - loss: 0.5669 - accuracy: 0.7887 - val_loss: 0.6360 - val_accuracy: 0.8125 - lr: 0.0010 - 9s/epoch - 151ms/step
Epoch 27/50
59/59 - 9s - loss: 0.5659 - accuracy: 0.7907 - val_loss: 0.6336 - val_accuracy: 0.8134 - lr: 0.0010 - 9s/epoch - 153ms/step
Epoch 28/50
59/59 - 9s - loss: 0.5668 - accuracy: 0.7890 - val_loss: 0.6345 - val_accuracy: 0.8146 - lr: 0.0010 - 9s/epoch - 152ms/step
Epoch 29/50
59/59 - 9s - loss: 0.5676 - accuracy: 0.7879 - val_loss: 0.6289 - val_accuracy: 0.8160 - lr: 0.0010 - 9s/epoch - 152ms/step
Epoch 30/50
59/59 - 9s - loss: 0.5655 - accuracy: 0.7888 - val_loss: 0.6304 - val_accuracy: 0.8155 - lr: 0.0010 - 9s/epoch - 153ms/step
Epoch 31/50
59/59 - 9s - loss: 0.5652 - accuracy: 0.7887 - val_loss: 0.6289 - val_accuracy: 0.8151 - lr: 0.0010 - 9s/epoch - 152ms/step
Epoch 32/50
59/59 - 9s - loss: 0.5655 - accuracy: 0.7889 - val_loss: 0.6331 - val_accuracy: 0.8137 - lr: 0.0010 - 9s/epoch - 148ms/step
Epoch 33/50
59/59 - 9s - loss: 0.5661 - accuracy: 0.7887 - val_loss: 0.6314 - val_accuracy: 0.8157 - lr: 0.0010 - 9s/epoch - 151ms/step
Epoch 34/50
59/59 - 9s - loss: 0.5675 - accuracy: 0.7878 - val_loss: 0.6316 - val_accuracy: 0.8145 - lr: 0.0010 - 9s/epoch - 153ms/step
Epoch 35/50
59/59 - 9s - loss: 0.5667 - accuracy: 0.7879 - val_loss: 0.6335 - val_accuracy: 0.8130 - lr: 0.0010 - 9s/epoch - 153ms/step
Epoch 36/50
59/59 - 9s - loss: 0.5664 - accuracy: 0.7881 - val_loss: 0.6349 - val_accuracy: 0.8129 - lr: 0.0010 - 9s/epoch - 152ms/step
Epoch 37/50
59/59 - 9s - loss: 0.5664 - accuracy: 0.7882 - val_loss: 0.6286 - val_accuracy: 0.8158 - lr: 0.0010 - 9s/epoch - 151ms/step
Epoch 38/50
59/59 - 9s - loss: 0.5651 - accuracy: 0.7902 - val_loss: 0.6379 - val_accuracy: 0.8122 - lr: 0.0010 - 9s/epoch - 152ms/step
Epoch 39/50
59/59 - 9s - loss: 0.5657 - accuracy: 0.7888 - val_loss: 0.6313 - val_accuracy: 0.8136 - lr: 0.0010 - 9s/epoch - 149ms/step
Epoch 40/50
59/59 - 9s - loss: 0.5662 - accuracy: 0.7878 - val_loss: 0.6298 - val_accuracy: 0.8152 - lr: 0.0010 - 9s/epoch - 148ms/step
Epoch 41/50
59/59 - 9s - loss: 0.5651 - accuracy: 0.7891 - val_loss: 0.6308 - val_accuracy: 0.8159 - lr: 0.0010 - 9s/epoch - 152ms/step
Epoch 42/50
59/59 - 9s - loss: 0.5658 - accuracy: 0.7881 - val_loss: 0.6384 - val_accuracy: 0.8122 - lr: 0.0010 - 9s/epoch - 151ms/step
Epoch 43/50
59/59 - 9s - loss: 0.5649 - accuracy: 0.7893 - val_loss: 0.6336 - val_accuracy: 0.8143 - lr: 0.0010 - 9s/epoch - 152ms/step
Epoch 44/50
59/59 - 9s - loss: 0.5656 - accuracy: 0.7888 - val_loss: 0.6379 - val_accuracy: 0.8133 - lr: 0.0010 - 9s/epoch - 152ms/step
Epoch 45/50
59/59 - 9s - loss: 0.5645 - accuracy: 0.7885 - val_loss: 0.6369 - val_accuracy: 0.8122 - lr: 0.0010 - 9s/epoch - 152ms/step
Epoch 46/50
59/59 - 9s - loss: 0.5669 - accuracy: 0.7873 - val_loss: 0.6350 - val_accuracy: 0.8129 - lr: 0.0010 - 9s/epoch - 150ms/step
Epoch 47/50
59/59 - 9s - loss: 0.5657 - accuracy: 0.7891 - val_loss: 0.6366 - val_accuracy: 0.8129 - lr: 0.0010 - 9s/epoch - 148ms/step
Epoch 48/50
59/59 - 9s - loss: 0.5662 - accuracy: 0.7901 - val_loss: 0.6354 - val_accuracy: 0.8127 - lr: 0.0010 - 9s/epoch - 151ms/step
Epoch 49/50
59/59 - 9s - loss: 0.5651 - accuracy: 0.7888 - val_loss: 0.6353 - val_accuracy: 0.8125 - lr: 0.0010 - 9s/epoch - 153ms/step
Epoch 50/50
59/59 - 9s - loss: 0.5662 - accuracy: 0.7883 - val_loss: 0.6348 - val_accuracy: 0.8134 - lr: 0.0010 - 9s/epoch - 153ms/step
fitting with batch size: 2500
Epoch 1/50
36/36 - 11s - loss: 0.5647 - accuracy: 0.7890 - val_loss: 0.6608 - val_accuracy: 0.8017 - lr: 0.0010 - 11s/epoch - 297ms/step
Epoch 2/50
36/36 - 9s - loss: 0.5659 - accuracy: 0.7888 - val_loss: 0.6385 - val_accuracy: 0.8121 - lr: 0.0010 - 9s/epoch - 240ms/step
Epoch 3/50
36/36 - 9s - loss: 0.5655 - accuracy: 0.7886 - val_loss: 0.6218 - val_accuracy: 0.8180 - lr: 0.0010 - 9s/epoch - 240ms/step
Epoch 4/50
36/36 - 8s - loss: 0.5666 - accuracy: 0.7889 - val_loss: 0.6290 - val_accuracy: 0.8179 - lr: 0.0010 - 8s/epoch - 234ms/step
Epoch 5/50
36/36 - 9s - loss: 0.5652 - accuracy: 0.7901 - val_loss: 0.6290 - val_accuracy: 0.8150 - lr: 0.0010 - 9s/epoch - 238ms/step
Epoch 6/50
36/36 - 9s - loss: 0.5648 - accuracy: 0.7882 - val_loss: 0.6363 - val_accuracy: 0.8142 - lr: 0.0010 - 9s/epoch - 240ms/step
Epoch 7/50
36/36 - 9s - loss: 0.5651 - accuracy: 0.7883 - val_loss: 0.6400 - val_accuracy: 0.8137 - lr: 0.0010 - 9s/epoch - 240ms/step
Epoch 8/50
36/36 - 9s - loss: 0.5655 - accuracy: 0.7893 - val_loss: 0.6220 - val_accuracy: 0.8177 - lr: 0.0010 - 9s/epoch - 239ms/step
Epoch 9/50
36/36 - 9s - loss: 0.5653 - accuracy: 0.7886 - val_loss: 0.6429 - val_accuracy: 0.8102 - lr: 0.0010 - 9s/epoch - 239ms/step
Epoch 10/50
36/36 - 9s - loss: 0.5659 - accuracy: 0.7879 - val_loss: 0.6583 - val_accuracy: 0.8019 - lr: 0.0010 - 9s/epoch - 239ms/step
Epoch 11/50
36/36 - 9s - loss: 0.5657 - accuracy: 0.7891 - val_loss: 0.6369 - val_accuracy: 0.8127 - lr: 0.0010 - 9s/epoch - 237ms/step
Epoch 12/50
36/36 - 8s - loss: 0.5658 - accuracy: 0.7879 - val_loss: 0.6178 - val_accuracy: 0.8207 - lr: 0.0010 - 8s/epoch - 236ms/step
Epoch 13/50
36/36 - 9s - loss: 0.5664 - accuracy: 0.7887 - val_loss: 0.6279 - val_accuracy: 0.8215 - lr: 0.0010 - 9s/epoch - 240ms/step
Epoch 14/50
36/36 - 9s - loss: 0.5657 - accuracy: 0.7888 - val_loss: 0.6308 - val_accuracy: 0.8145 - lr: 0.0010 - 9s/epoch - 239ms/step
Epoch 15/50
36/36 - 9s - loss: 0.5650 - accuracy: 0.7887 - val_loss: 0.6352 - val_accuracy: 0.8097 - lr: 0.0010 - 9s/epoch - 240ms/step
Epoch 16/50
36/36 - 9s - loss: 0.5652 - accuracy: 0.7883 - val_loss: 0.6288 - val_accuracy: 0.8158 - lr: 0.0010 - 9s/epoch - 240ms/step
Epoch 17/50
36/36 - 9s - loss: 0.5653 - accuracy: 0.7891 - val_loss: 0.6471 - val_accuracy: 0.8102 - lr: 0.0010 - 9s/epoch - 240ms/step
Epoch 18/50
36/36 - 9s - loss: 0.5651 - accuracy: 0.7895 - val_loss: 0.6217 - val_accuracy: 0.8188 - lr: 0.0010 - 9s/epoch - 240ms/step
Epoch 19/50
36/36 - 8s - loss: 0.5653 - accuracy: 0.7890 - val_loss: 0.6447 - val_accuracy: 0.8135 - lr: 0.0010 - 8s/epoch - 235ms/step
Epoch 20/50
36/36 - 9s - loss: 0.5664 - accuracy: 0.7882 - val_loss: 0.6318 - val_accuracy: 0.8131 - lr: 0.0010 - 9s/epoch - 237ms/step
Epoch 21/50
36/36 - 9s - loss: 0.5654 - accuracy: 0.7884 - val_loss: 0.6369 - val_accuracy: 0.8146 - lr: 0.0010 - 9s/epoch - 241ms/step
Epoch 22/50
36/36 - 9s - loss: 0.5653 - accuracy: 0.7897 - val_loss: 0.6353 - val_accuracy: 0.8117 - lr: 0.0010 - 9s/epoch - 241ms/step
Epoch 23/50
36/36 - 9s - loss: 0.5649 - accuracy: 0.7883 - val_loss: 0.6485 - val_accuracy: 0.8054 - lr: 0.0010 - 9s/epoch - 239ms/step
Epoch 24/50
36/36 - 9s - loss: 0.5651 - accuracy: 0.7880 - val_loss: 0.6404 - val_accuracy: 0.8087 - lr: 0.0010 - 9s/epoch - 255ms/step
Epoch 25/50
36/36 - 9s - loss: 0.5643 - accuracy: 0.7884 - val_loss: 0.6375 - val_accuracy: 0.8121 - lr: 0.0010 - 9s/epoch - 238ms/step
Epoch 26/50
36/36 - 9s - loss: 0.5656 - accuracy: 0.7891 - val_loss: 0.6485 - val_accuracy: 0.8030 - lr: 0.0010 - 9s/epoch - 237ms/step
Epoch 27/50
36/36 - 8s - loss: 0.5649 - accuracy: 0.7887 - val_loss: 0.6227 - val_accuracy: 0.8184 - lr: 0.0010 - 8s/epoch - 235ms/step
Epoch 28/50
36/36 - 9s - loss: 0.5641 - accuracy: 0.7904 - val_loss: 0.6308 - val_accuracy: 0.8145 - lr: 0.0010 - 9s/epoch - 241ms/step
Epoch 29/50
36/36 - 9s - loss: 0.5656 - accuracy: 0.7880 - val_loss: 0.6330 - val_accuracy: 0.8148 - lr: 0.0010 - 9s/epoch - 242ms/step
Epoch 30/50
36/36 - 9s - loss: 0.5656 - accuracy: 0.7891 - val_loss: 0.6443 - val_accuracy: 0.8097 - lr: 0.0010 - 9s/epoch - 242ms/step
Epoch 31/50
36/36 - 9s - loss: 0.5659 - accuracy: 0.7872 - val_loss: 0.6318 - val_accuracy: 0.8110 - lr: 0.0010 - 9s/epoch - 241ms/step
Epoch 32/50
36/36 - 9s - loss: 0.5659 - accuracy: 0.7888 - val_loss: 0.6372 - val_accuracy: 0.8121 - lr: 0.0010 - 9s/epoch - 241ms/step
Epoch 33/50
36/36 - 9s - loss: 0.5650 - accuracy: 0.7888 - val_loss: 0.6396 - val_accuracy: 0.8103 - lr: 0.0010 - 9s/epoch - 242ms/step
Epoch 34/50
36/36 - 8s - loss: 0.5648 - accuracy: 0.7882 - val_loss: 0.6439 - val_accuracy: 0.8101 - lr: 0.0010 - 8s/epoch - 234ms/step
Epoch 35/50
36/36 - 9s - loss: 0.5639 - accuracy: 0.7895 - val_loss: 0.6363 - val_accuracy: 0.8155 - lr: 0.0010 - 9s/epoch - 236ms/step
Epoch 36/50
36/36 - 9s - loss: 0.5641 - accuracy: 0.7895 - val_loss: 0.6261 - val_accuracy: 0.8169 - lr: 0.0010 - 9s/epoch - 241ms/step
Epoch 37/50
36/36 - 9s - loss: 0.5647 - accuracy: 0.7889 - val_loss: 0.6558 - val_accuracy: 0.8037 - lr: 0.0010 - 9s/epoch - 241ms/step
Epoch 38/50
36/36 - 9s - loss: 0.5661 - accuracy: 0.7882 - val_loss: 0.6360 - val_accuracy: 0.8119 - lr: 0.0010 - 9s/epoch - 242ms/step
Epoch 39/50
36/36 - 9s - loss: 0.5638 - accuracy: 0.7889 - val_loss: 0.6239 - val_accuracy: 0.8175 - lr: 0.0010 - 9s/epoch - 241ms/step
Epoch 40/50
36/36 - 9s - loss: 0.5643 - accuracy: 0.7887 - val_loss: 0.6247 - val_accuracy: 0.8175 - lr: 0.0010 - 9s/epoch - 241ms/step
Epoch 41/50
36/36 - 9s - loss: 0.5642 - accuracy: 0.7891 - val_loss: 0.6298 - val_accuracy: 0.8161 - lr: 0.0010 - 9s/epoch - 239ms/step
Epoch 42/50
36/36 - 8s - loss: 0.5641 - accuracy: 0.7890 - val_loss: 0.6468 - val_accuracy: 0.8090 - lr: 0.0010 - 8s/epoch - 234ms/step
Epoch 43/50
36/36 - 9s - loss: 0.5650 - accuracy: 0.7875 - val_loss: 0.6466 - val_accuracy: 0.8088 - lr: 0.0010 - 9s/epoch - 241ms/step
Epoch 44/50
36/36 - 9s - loss: 0.5641 - accuracy: 0.7898 - val_loss: 0.6353 - val_accuracy: 0.8135 - lr: 0.0010 - 9s/epoch - 243ms/step
Epoch 45/50
36/36 - 9s - loss: 0.5648 - accuracy: 0.7874 - val_loss: 0.6301 - val_accuracy: 0.8155 - lr: 0.0010 - 9s/epoch - 241ms/step
Epoch 46/50
36/36 - 9s - loss: 0.5650 - accuracy: 0.7889 - val_loss: 0.6180 - val_accuracy: 0.8198 - lr: 0.0010 - 9s/epoch - 241ms/step
Epoch 47/50
36/36 - 9s - loss: 0.5650 - accuracy: 0.7892 - val_loss: 0.6421 - val_accuracy: 0.8108 - lr: 0.0010 - 9s/epoch - 242ms/step
Epoch 48/50
36/36 - 9s - loss: 0.5644 - accuracy: 0.7888 - val_loss: 0.6320 - val_accuracy: 0.8151 - lr: 0.0010 - 9s/epoch - 241ms/step
Epoch 49/50
36/36 - 9s - loss: 0.5643 - accuracy: 0.7882 - val_loss: 0.6454 - val_accuracy: 0.8089 - lr: 0.0010 - 9s/epoch - 236ms/step
Epoch 50/50
36/36 - 8s - loss: 0.5632 - accuracy: 0.7904 - val_loss: 0.6301 - val_accuracy: 0.8155 - lr: 0.0010 - 8s/epoch - 236ms/step
Loss: poisson
Epoch number: 25
fitting with batch size: 20
Epoch 1/25
4378/4378 - 71s - loss: 0.3154 - accuracy: 0.7847 - val_loss: 0.3240 - val_accuracy: 0.8217 - lr: 0.0010 - 71s/epoch - 16ms/step
Epoch 2/25
4378/4378 - 68s - loss: 0.3154 - accuracy: 0.7835 - val_loss: 0.3353 - val_accuracy: 0.7910 - lr: 0.0010 - 68s/epoch - 16ms/step
Epoch 3/25
4378/4378 - 68s - loss: 0.3158 - accuracy: 0.7826 - val_loss: 0.3242 - val_accuracy: 0.8203 - lr: 0.0010 - 68s/epoch - 16ms/step
Epoch 4/25
4378/4378 - 69s - loss: 0.3154 - accuracy: 0.7835 - val_loss: 0.3263 - val_accuracy: 0.8134 - lr: 0.0010 - 69s/epoch - 16ms/step
Epoch 5/25
4378/4378 - 68s - loss: 0.3155 - accuracy: 0.7844 - val_loss: 0.3278 - val_accuracy: 0.8124 - lr: 0.0010 - 68s/epoch - 16ms/step
Epoch 6/25
4378/4378 - 68s - loss: 0.3152 - accuracy: 0.7844 - val_loss: 0.3309 - val_accuracy: 0.8023 - lr: 0.0010 - 68s/epoch - 16ms/step
Epoch 7/25
4378/4378 - 68s - loss: 0.3155 - accuracy: 0.7838 - val_loss: 0.3268 - val_accuracy: 0.8137 - lr: 0.0010 - 68s/epoch - 16ms/step
Epoch 8/25
4378/4378 - 68s - loss: 0.3152 - accuracy: 0.7838 - val_loss: 0.3221 - val_accuracy: 0.8231 - lr: 0.0010 - 68s/epoch - 16ms/step
Epoch 9/25
4378/4378 - 68s - loss: 0.3152 - accuracy: 0.7843 - val_loss: 0.3253 - val_accuracy: 0.8211 - lr: 0.0010 - 68s/epoch - 15ms/step
Epoch 10/25
4378/4378 - 68s - loss: 0.3147 - accuracy: 0.7855 - val_loss: 0.3268 - val_accuracy: 0.8169 - lr: 0.0010 - 68s/epoch - 16ms/step
Epoch 11/25
4378/4378 - 68s - loss: 0.3149 - accuracy: 0.7843 - val_loss: 0.3278 - val_accuracy: 0.8092 - lr: 0.0010 - 68s/epoch - 15ms/step
Epoch 12/25
4378/4378 - 68s - loss: 0.3149 - accuracy: 0.7841 - val_loss: 0.3269 - val_accuracy: 0.8151 - lr: 0.0010 - 68s/epoch - 15ms/step
Epoch 13/25
4378/4378 - 68s - loss: 0.3147 - accuracy: 0.7848 - val_loss: 0.3251 - val_accuracy: 0.8215 - lr: 0.0010 - 68s/epoch - 15ms/step
Epoch 14/25
4378/4378 - 68s - loss: 0.3148 - accuracy: 0.7847 - val_loss: 0.3231 - val_accuracy: 0.8233 - lr: 0.0010 - 68s/epoch - 16ms/step
Epoch 15/25
4378/4378 - 68s - loss: 0.3145 - accuracy: 0.7862 - val_loss: 0.3297 - val_accuracy: 0.8115 - lr: 0.0010 - 68s/epoch - 16ms/step
Epoch 16/25
4378/4378 - 68s - loss: 0.3145 - accuracy: 0.7850 - val_loss: 0.3355 - val_accuracy: 0.7956 - lr: 0.0010 - 68s/epoch - 16ms/step
Epoch 17/25
4378/4378 - 68s - loss: 0.3146 - accuracy: 0.7852 - val_loss: 0.3284 - val_accuracy: 0.8127 - lr: 0.0010 - 68s/epoch - 16ms/step
Epoch 18/25
4378/4378 - 68s - loss: 0.3147 - accuracy: 0.7858 - val_loss: 0.3251 - val_accuracy: 0.8157 - lr: 0.0010 - 68s/epoch - 16ms/step
Epoch 19/25
4378/4378 - 68s - loss: 0.3146 - accuracy: 0.7843 - val_loss: 0.3215 - val_accuracy: 0.8245 - lr: 0.0010 - 68s/epoch - 16ms/step
Epoch 20/25
4378/4378 - 69s - loss: 0.3144 - accuracy: 0.7857 - val_loss: 0.3303 - val_accuracy: 0.8037 - lr: 0.0010 - 69s/epoch - 16ms/step
Epoch 21/25
4378/4378 - 69s - loss: 0.3147 - accuracy: 0.7855 - val_loss: 0.3274 - val_accuracy: 0.8125 - lr: 0.0010 - 69s/epoch - 16ms/step
Epoch 22/25
4378/4378 - 68s - loss: 0.3142 - accuracy: 0.7853 - val_loss: 0.3285 - val_accuracy: 0.8111 - lr: 0.0010 - 68s/epoch - 16ms/step
Epoch 23/25
4378/4378 - 68s - loss: 0.3143 - accuracy: 0.7867 - val_loss: 0.3251 - val_accuracy: 0.8214 - lr: 0.0010 - 68s/epoch - 16ms/step
Epoch 24/25
4378/4378 - 68s - loss: 0.3145 - accuracy: 0.7852 - val_loss: 0.3273 - val_accuracy: 0.8106 - lr: 0.0010 - 68s/epoch - 16ms/step
Epoch 25/25
4378/4378 - 68s - loss: 0.3140 - accuracy: 0.7865 - val_loss: 0.3265 - val_accuracy: 0.8149 - lr: 0.0010 - 68s/epoch - 15ms/step
fitting with batch size: 100
Epoch 1/25
876/876 - 19s - loss: 0.3120 - accuracy: 0.7894 - val_loss: 0.3264 - val_accuracy: 0.8132 - lr: 0.0010 - 19s/epoch - 22ms/step
Epoch 2/25
876/876 - 17s - loss: 0.3120 - accuracy: 0.7904 - val_loss: 0.3259 - val_accuracy: 0.8150 - lr: 0.0010 - 17s/epoch - 19ms/step
Epoch 3/25
876/876 - 17s - loss: 0.3118 - accuracy: 0.7910 - val_loss: 0.3253 - val_accuracy: 0.8180 - lr: 0.0010 - 17s/epoch - 20ms/step
Epoch 4/25
876/876 - 17s - loss: 0.3117 - accuracy: 0.7919 - val_loss: 0.3259 - val_accuracy: 0.8157 - lr: 0.0010 - 17s/epoch - 19ms/step
Epoch 5/25
876/876 - 17s - loss: 0.3118 - accuracy: 0.7907 - val_loss: 0.3262 - val_accuracy: 0.8160 - lr: 0.0010 - 17s/epoch - 20ms/step
Epoch 6/25
876/876 - 17s - loss: 0.3116 - accuracy: 0.7922 - val_loss: 0.3266 - val_accuracy: 0.8140 - lr: 0.0010 - 17s/epoch - 19ms/step
Epoch 7/25
876/876 - 17s - loss: 0.3117 - accuracy: 0.7910 - val_loss: 0.3271 - val_accuracy: 0.8141 - lr: 0.0010 - 17s/epoch - 19ms/step
Epoch 8/25
876/876 - 17s - loss: 0.3116 - accuracy: 0.7910 - val_loss: 0.3293 - val_accuracy: 0.8080 - lr: 0.0010 - 17s/epoch - 19ms/step
Epoch 9/25
876/876 - 17s - loss: 0.3118 - accuracy: 0.7915 - val_loss: 0.3283 - val_accuracy: 0.8108 - lr: 0.0010 - 17s/epoch - 19ms/step
Epoch 10/25
876/876 - 17s - loss: 0.3114 - accuracy: 0.7927 - val_loss: 0.3280 - val_accuracy: 0.8121 - lr: 0.0010 - 17s/epoch - 20ms/step
Epoch 11/25
876/876 - 17s - loss: 0.3114 - accuracy: 0.7919 - val_loss: 0.3264 - val_accuracy: 0.8146 - lr: 0.0010 - 17s/epoch - 20ms/step
Epoch 12/25
876/876 - 17s - loss: 0.3113 - accuracy: 0.7914 - val_loss: 0.3275 - val_accuracy: 0.8119 - lr: 0.0010 - 17s/epoch - 19ms/step
Epoch 13/25
876/876 - 17s - loss: 0.3115 - accuracy: 0.7917 - val_loss: 0.3287 - val_accuracy: 0.8120 - lr: 0.0010 - 17s/epoch - 19ms/step
Epoch 14/25
876/876 - 17s - loss: 0.3117 - accuracy: 0.7909 - val_loss: 0.3275 - val_accuracy: 0.8132 - lr: 0.0010 - 17s/epoch - 20ms/step
Epoch 15/25
876/876 - 17s - loss: 0.3116 - accuracy: 0.7913 - val_loss: 0.3273 - val_accuracy: 0.8130 - lr: 0.0010 - 17s/epoch - 20ms/step
Epoch 16/25
876/876 - 17s - loss: 0.3113 - accuracy: 0.7915 - val_loss: 0.3274 - val_accuracy: 0.8121 - lr: 0.0010 - 17s/epoch - 19ms/step
Epoch 17/25
876/876 - 17s - loss: 0.3115 - accuracy: 0.7920 - val_loss: 0.3283 - val_accuracy: 0.8127 - lr: 0.0010 - 17s/epoch - 19ms/step
Epoch 18/25
876/876 - 17s - loss: 0.3111 - accuracy: 0.7924 - val_loss: 0.3270 - val_accuracy: 0.8139 - lr: 0.0010 - 17s/epoch - 19ms/step
Epoch 19/25
876/876 - 17s - loss: 0.3115 - accuracy: 0.7912 - val_loss: 0.3275 - val_accuracy: 0.8134 - lr: 0.0010 - 17s/epoch - 20ms/step
Epoch 20/25
876/876 - 17s - loss: 0.3112 - accuracy: 0.7920 - val_loss: 0.3241 - val_accuracy: 0.8201 - lr: 0.0010 - 17s/epoch - 20ms/step
Epoch 21/25
876/876 - 17s - loss: 0.3112 - accuracy: 0.7925 - val_loss: 0.3292 - val_accuracy: 0.8105 - lr: 0.0010 - 17s/epoch - 19ms/step
Epoch 22/25
876/876 - 17s - loss: 0.3113 - accuracy: 0.7925 - val_loss: 0.3291 - val_accuracy: 0.8097 - lr: 0.0010 - 17s/epoch - 19ms/step
Epoch 23/25
876/876 - 17s - loss: 0.3114 - accuracy: 0.7916 - val_loss: 0.3280 - val_accuracy: 0.8108 - lr: 0.0010 - 17s/epoch - 19ms/step
Epoch 24/25
876/876 - 17s - loss: 0.3112 - accuracy: 0.7928 - val_loss: 0.3264 - val_accuracy: 0.8154 - lr: 0.0010 - 17s/epoch - 19ms/step
Epoch 25/25
876/876 - 17s - loss: 0.3113 - accuracy: 0.7911 - val_loss: 0.3279 - val_accuracy: 0.8119 - lr: 0.0010 - 17s/epoch - 19ms/step
fitting with batch size: 500
Epoch 1/25
176/176 - 12s - loss: 0.3108 - accuracy: 0.7933 - val_loss: 0.3263 - val_accuracy: 0.8155 - lr: 0.0010 - 12s/epoch - 67ms/step
Epoch 2/25
176/176 - 10s - loss: 0.3110 - accuracy: 0.7924 - val_loss: 0.3270 - val_accuracy: 0.8134 - lr: 0.0010 - 10s/epoch - 55ms/step
Epoch 3/25
176/176 - 10s - loss: 0.3107 - accuracy: 0.7943 - val_loss: 0.3277 - val_accuracy: 0.8121 - lr: 0.0010 - 10s/epoch - 55ms/step
Epoch 4/25
176/176 - 9s - loss: 0.3105 - accuracy: 0.7947 - val_loss: 0.3278 - val_accuracy: 0.8109 - lr: 0.0010 - 9s/epoch - 54ms/step
Epoch 5/25
176/176 - 10s - loss: 0.3106 - accuracy: 0.7943 - val_loss: 0.3262 - val_accuracy: 0.8159 - lr: 0.0010 - 10s/epoch - 55ms/step
Epoch 6/25
176/176 - 10s - loss: 0.3108 - accuracy: 0.7930 - val_loss: 0.3275 - val_accuracy: 0.8131 - lr: 0.0010 - 10s/epoch - 55ms/step
Epoch 7/25
176/176 - 10s - loss: 0.3106 - accuracy: 0.7944 - val_loss: 0.3284 - val_accuracy: 0.8105 - lr: 0.0010 - 10s/epoch - 55ms/step
Epoch 8/25
176/176 - 10s - loss: 0.3106 - accuracy: 0.7947 - val_loss: 0.3276 - val_accuracy: 0.8128 - lr: 0.0010 - 10s/epoch - 55ms/step
Epoch 9/25
176/176 - 10s - loss: 0.3107 - accuracy: 0.7937 - val_loss: 0.3273 - val_accuracy: 0.8126 - lr: 0.0010 - 10s/epoch - 55ms/step
Epoch 10/25
176/176 - 10s - loss: 0.3105 - accuracy: 0.7932 - val_loss: 0.3272 - val_accuracy: 0.8140 - lr: 0.0010 - 10s/epoch - 57ms/step
Epoch 11/25
176/176 - 10s - loss: 0.3109 - accuracy: 0.7931 - val_loss: 0.3266 - val_accuracy: 0.8142 - lr: 0.0010 - 10s/epoch - 54ms/step
Epoch 12/25
176/176 - 10s - loss: 0.3108 - accuracy: 0.7927 - val_loss: 0.3269 - val_accuracy: 0.8141 - lr: 0.0010 - 10s/epoch - 55ms/step
Epoch 13/25
176/176 - 10s - loss: 0.3106 - accuracy: 0.7935 - val_loss: 0.3272 - val_accuracy: 0.8136 - lr: 0.0010 - 10s/epoch - 55ms/step
Epoch 14/25
176/176 - 10s - loss: 0.3106 - accuracy: 0.7940 - val_loss: 0.3259 - val_accuracy: 0.8164 - lr: 0.0010 - 10s/epoch - 55ms/step
Epoch 15/25
176/176 - 10s - loss: 0.3109 - accuracy: 0.7928 - val_loss: 0.3266 - val_accuracy: 0.8145 - lr: 0.0010 - 10s/epoch - 55ms/step
Epoch 16/25
176/176 - 10s - loss: 0.3111 - accuracy: 0.7913 - val_loss: 0.3270 - val_accuracy: 0.8139 - lr: 0.0010 - 10s/epoch - 56ms/step
Epoch 17/25
176/176 - 10s - loss: 0.3104 - accuracy: 0.7942 - val_loss: 0.3277 - val_accuracy: 0.8118 - lr: 0.0010 - 10s/epoch - 54ms/step
Epoch 18/25
176/176 - 10s - loss: 0.3108 - accuracy: 0.7936 - val_loss: 0.3272 - val_accuracy: 0.8132 - lr: 0.0010 - 10s/epoch - 54ms/step
Epoch 19/25
176/176 - 10s - loss: 0.3108 - accuracy: 0.7935 - val_loss: 0.3270 - val_accuracy: 0.8143 - lr: 0.0010 - 10s/epoch - 56ms/step
Epoch 20/25
176/176 - 10s - loss: 0.3107 - accuracy: 0.7934 - val_loss: 0.3267 - val_accuracy: 0.8140 - lr: 0.0010 - 10s/epoch - 55ms/step
Epoch 21/25
176/176 - 10s - loss: 0.3106 - accuracy: 0.7941 - val_loss: 0.3266 - val_accuracy: 0.8138 - lr: 0.0010 - 10s/epoch - 55ms/step
Epoch 22/25
176/176 - 10s - loss: 0.3108 - accuracy: 0.7931 - val_loss: 0.3278 - val_accuracy: 0.8131 - lr: 0.0010 - 10s/epoch - 55ms/step
Epoch 23/25
176/176 - 10s - loss: 0.3106 - accuracy: 0.7932 - val_loss: 0.3266 - val_accuracy: 0.8144 - lr: 0.0010 - 10s/epoch - 55ms/step
Epoch 24/25
176/176 - 10s - loss: 0.3107 - accuracy: 0.7933 - val_loss: 0.3266 - val_accuracy: 0.8147 - lr: 0.0010 - 10s/epoch - 55ms/step
Epoch 25/25
176/176 - 10s - loss: 0.3104 - accuracy: 0.7938 - val_loss: 0.3273 - val_accuracy: 0.8124 - lr: 0.0010 - 10s/epoch - 54ms/step
fitting with batch size: 1500
Epoch 1/25
59/59 - 11s - loss: 0.3106 - accuracy: 0.7935 - val_loss: 0.3274 - val_accuracy: 0.8128 - lr: 0.0010 - 11s/epoch - 190ms/step
Epoch 2/25
59/59 - 9s - loss: 0.3104 - accuracy: 0.7948 - val_loss: 0.3275 - val_accuracy: 0.8130 - lr: 0.0010 - 9s/epoch - 152ms/step
Epoch 3/25
59/59 - 9s - loss: 0.3104 - accuracy: 0.7939 - val_loss: 0.3272 - val_accuracy: 0.8130 - lr: 0.0010 - 9s/epoch - 152ms/step
Epoch 4/25
59/59 - 9s - loss: 0.3104 - accuracy: 0.7944 - val_loss: 0.3271 - val_accuracy: 0.8135 - lr: 0.0010 - 9s/epoch - 153ms/step
Epoch 5/25
59/59 - 9s - loss: 0.3104 - accuracy: 0.7946 - val_loss: 0.3272 - val_accuracy: 0.8132 - lr: 0.0010 - 9s/epoch - 152ms/step
Epoch 6/25
59/59 - 9s - loss: 0.3107 - accuracy: 0.7953 - val_loss: 0.3269 - val_accuracy: 0.8134 - lr: 0.0010 - 9s/epoch - 149ms/step
Epoch 7/25
59/59 - 9s - loss: 0.3104 - accuracy: 0.7944 - val_loss: 0.3269 - val_accuracy: 0.8139 - lr: 0.0010 - 9s/epoch - 149ms/step
Epoch 8/25
59/59 - 9s - loss: 0.3103 - accuracy: 0.7944 - val_loss: 0.3272 - val_accuracy: 0.8129 - lr: 0.0010 - 9s/epoch - 152ms/step
Epoch 9/25
59/59 - 9s - loss: 0.3102 - accuracy: 0.7947 - val_loss: 0.3275 - val_accuracy: 0.8127 - lr: 0.0010 - 9s/epoch - 152ms/step
Epoch 10/25
59/59 - 9s - loss: 0.3105 - accuracy: 0.7941 - val_loss: 0.3275 - val_accuracy: 0.8126 - lr: 0.0010 - 9s/epoch - 152ms/step
Epoch 11/25
59/59 - 9s - loss: 0.3108 - accuracy: 0.7934 - val_loss: 0.3272 - val_accuracy: 0.8135 - lr: 0.0010 - 9s/epoch - 152ms/step
Epoch 12/25
59/59 - 9s - loss: 0.3108 - accuracy: 0.7931 - val_loss: 0.3274 - val_accuracy: 0.8129 - lr: 0.0010 - 9s/epoch - 152ms/step
Epoch 13/25
59/59 - 9s - loss: 0.3107 - accuracy: 0.7933 - val_loss: 0.3273 - val_accuracy: 0.8131 - lr: 0.0010 - 9s/epoch - 150ms/step
Epoch 14/25
59/59 - 9s - loss: 0.3108 - accuracy: 0.7939 - val_loss: 0.3274 - val_accuracy: 0.8131 - lr: 0.0010 - 9s/epoch - 149ms/step
Epoch 15/25
59/59 - 9s - loss: 0.3106 - accuracy: 0.7935 - val_loss: 0.3274 - val_accuracy: 0.8128 - lr: 0.0010 - 9s/epoch - 152ms/step
Epoch 16/25
59/59 - 9s - loss: 0.3104 - accuracy: 0.7940 - val_loss: 0.3277 - val_accuracy: 0.8122 - lr: 0.0010 - 9s/epoch - 153ms/step
Epoch 17/25
59/59 - 9s - loss: 0.3108 - accuracy: 0.7933 - val_loss: 0.3273 - val_accuracy: 0.8128 - lr: 0.0010 - 9s/epoch - 160ms/step
Epoch 18/25
59/59 - 9s - loss: 0.3103 - accuracy: 0.7927 - val_loss: 0.3273 - val_accuracy: 0.8128 - lr: 0.0010 - 9s/epoch - 152ms/step
Epoch 19/25
59/59 - 9s - loss: 0.3104 - accuracy: 0.7950 - val_loss: 0.3275 - val_accuracy: 0.8125 - lr: 0.0010 - 9s/epoch - 153ms/step
Epoch 20/25
59/59 - 9s - loss: 0.3104 - accuracy: 0.7938 - val_loss: 0.3277 - val_accuracy: 0.8121 - lr: 0.0010 - 9s/epoch - 151ms/step
Epoch 21/25
59/59 - 9s - loss: 0.3107 - accuracy: 0.7928 - val_loss: 0.3275 - val_accuracy: 0.8124 - lr: 0.0010 - 9s/epoch - 148ms/step
Epoch 22/25
59/59 - 9s - loss: 0.3103 - accuracy: 0.7944 - val_loss: 0.3271 - val_accuracy: 0.8132 - lr: 0.0010 - 9s/epoch - 151ms/step
Epoch 23/25
59/59 - 9s - loss: 0.3104 - accuracy: 0.7935 - val_loss: 0.3272 - val_accuracy: 0.8128 - lr: 0.0010 - 9s/epoch - 153ms/step
Epoch 24/25
59/59 - 9s - loss: 0.3104 - accuracy: 0.7932 - val_loss: 0.3268 - val_accuracy: 0.8136 - lr: 0.0010 - 9s/epoch - 152ms/step
Epoch 25/25
59/59 - 9s - loss: 0.3103 - accuracy: 0.7928 - val_loss: 0.3272 - val_accuracy: 0.8133 - lr: 0.0010 - 9s/epoch - 152ms/step
fitting with batch size: 2500
Epoch 1/25
36/36 - 11s - loss: 0.3107 - accuracy: 0.7928 - val_loss: 0.3274 - val_accuracy: 0.8128 - lr: 0.0010 - 11s/epoch - 298ms/step
Epoch 2/25
36/36 - 9s - loss: 0.3107 - accuracy: 0.7930 - val_loss: 0.3271 - val_accuracy: 0.8142 - lr: 0.0010 - 9s/epoch - 239ms/step
Epoch 3/25
36/36 - 8s - loss: 0.3105 - accuracy: 0.7937 - val_loss: 0.3265 - val_accuracy: 0.8147 - lr: 0.0010 - 8s/epoch - 235ms/step
Epoch 4/25
36/36 - 9s - loss: 0.3104 - accuracy: 0.7942 - val_loss: 0.3276 - val_accuracy: 0.8121 - lr: 0.0010 - 9s/epoch - 239ms/step
Epoch 5/25
36/36 - 9s - loss: 0.3104 - accuracy: 0.7941 - val_loss: 0.3274 - val_accuracy: 0.8134 - lr: 0.0010 - 9s/epoch - 241ms/step
Epoch 6/25
36/36 - 9s - loss: 0.3103 - accuracy: 0.7938 - val_loss: 0.3272 - val_accuracy: 0.8136 - lr: 0.0010 - 9s/epoch - 239ms/step
Epoch 7/25
36/36 - 9s - loss: 0.3109 - accuracy: 0.7930 - val_loss: 0.3276 - val_accuracy: 0.8131 - lr: 0.0010 - 9s/epoch - 241ms/step
Epoch 8/25
36/36 - 9s - loss: 0.3103 - accuracy: 0.7938 - val_loss: 0.3272 - val_accuracy: 0.8134 - lr: 0.0010 - 9s/epoch - 242ms/step
Epoch 9/25
36/36 - 9s - loss: 0.3102 - accuracy: 0.7930 - val_loss: 0.3275 - val_accuracy: 0.8124 - lr: 0.0010 - 9s/epoch - 240ms/step
Epoch 10/25
36/36 - 9s - loss: 0.3104 - accuracy: 0.7934 - val_loss: 0.3274 - val_accuracy: 0.8124 - lr: 0.0010 - 9s/epoch - 239ms/step
Epoch 11/25
36/36 - 8s - loss: 0.3106 - accuracy: 0.7929 - val_loss: 0.3275 - val_accuracy: 0.8132 - lr: 0.0010 - 8s/epoch - 234ms/step
Epoch 12/25
36/36 - 9s - loss: 0.3105 - accuracy: 0.7945 - val_loss: 0.3271 - val_accuracy: 0.8132 - lr: 0.0010 - 9s/epoch - 256ms/step
Epoch 13/25
36/36 - 9s - loss: 0.3107 - accuracy: 0.7936 - val_loss: 0.3268 - val_accuracy: 0.8141 - lr: 0.0010 - 9s/epoch - 258ms/step
Epoch 14/25
36/36 - 9s - loss: 0.3104 - accuracy: 0.7942 - val_loss: 0.3272 - val_accuracy: 0.8137 - lr: 0.0010 - 9s/epoch - 254ms/step
Epoch 15/25
36/36 - 9s - loss: 0.3103 - accuracy: 0.7953 - val_loss: 0.3276 - val_accuracy: 0.8125 - lr: 0.0010 - 9s/epoch - 241ms/step
Epoch 16/25
36/36 - 9s - loss: 0.3106 - accuracy: 0.7938 - val_loss: 0.3270 - val_accuracy: 0.8134 - lr: 0.0010 - 9s/epoch - 241ms/step
Epoch 17/25
36/36 - 9s - loss: 0.3105 - accuracy: 0.7931 - val_loss: 0.3279 - val_accuracy: 0.8116 - lr: 0.0010 - 9s/epoch - 242ms/step
Epoch 18/25
36/36 - 8s - loss: 0.3107 - accuracy: 0.7937 - val_loss: 0.3270 - val_accuracy: 0.8140 - lr: 0.0010 - 8s/epoch - 234ms/step
Epoch 19/25
36/36 - 9s - loss: 0.3104 - accuracy: 0.7945 - val_loss: 0.3269 - val_accuracy: 0.8133 - lr: 0.0010 - 9s/epoch - 237ms/step
Epoch 20/25
36/36 - 9s - loss: 0.3109 - accuracy: 0.7927 - val_loss: 0.3271 - val_accuracy: 0.8131 - lr: 0.0010 - 9s/epoch - 240ms/step
Epoch 21/25
36/36 - 9s - loss: 0.3104 - accuracy: 0.7936 - val_loss: 0.3276 - val_accuracy: 0.8122 - lr: 0.0010 - 9s/epoch - 241ms/step
Epoch 22/25
36/36 - 9s - loss: 0.3106 - accuracy: 0.7934 - val_loss: 0.3271 - val_accuracy: 0.8133 - lr: 0.0010 - 9s/epoch - 240ms/step
Epoch 23/25
36/36 - 9s - loss: 0.3106 - accuracy: 0.7931 - val_loss: 0.3274 - val_accuracy: 0.8128 - lr: 0.0010 - 9s/epoch - 240ms/step
Epoch 24/25
36/36 - 9s - loss: 0.3107 - accuracy: 0.7939 - val_loss: 0.3268 - val_accuracy: 0.8141 - lr: 0.0010 - 9s/epoch - 241ms/step
Epoch 25/25
36/36 - 9s - loss: 0.3106 - accuracy: 0.7936 - val_loss: 0.3276 - val_accuracy: 0.8122 - lr: 0.0010 - 9s/epoch - 238ms/step
Epoch number: 50
fitting with batch size: 20
Epoch 1/50
4378/4378 - 70s - loss: 0.3132 - accuracy: 0.7884 - val_loss: 0.3195 - val_accuracy: 0.8267 - lr: 0.0010 - 70s/epoch - 16ms/step
Epoch 2/50
4378/4378 - 68s - loss: 0.3136 - accuracy: 0.7869 - val_loss: 0.3304 - val_accuracy: 0.8063 - lr: 0.0010 - 68s/epoch - 16ms/step
Epoch 3/50
4378/4378 - 68s - loss: 0.3135 - accuracy: 0.7885 - val_loss: 0.3280 - val_accuracy: 0.8081 - lr: 0.0010 - 68s/epoch - 16ms/step
Epoch 4/50
4378/4378 - 67s - loss: 0.3132 - accuracy: 0.7886 - val_loss: 0.3306 - val_accuracy: 0.8163 - lr: 0.0010 - 67s/epoch - 15ms/step
Epoch 5/50
4378/4378 - 67s - loss: 0.3134 - accuracy: 0.7879 - val_loss: 0.3276 - val_accuracy: 0.8127 - lr: 0.0010 - 67s/epoch - 15ms/step
Epoch 6/50
4378/4378 - 67s - loss: 0.3136 - accuracy: 0.7869 - val_loss: 0.3264 - val_accuracy: 0.8167 - lr: 0.0010 - 67s/epoch - 15ms/step
Epoch 7/50
4378/4378 - 67s - loss: 0.3133 - accuracy: 0.7875 - val_loss: 0.3333 - val_accuracy: 0.8005 - lr: 0.0010 - 67s/epoch - 15ms/step
Epoch 8/50
4378/4378 - 67s - loss: 0.3128 - accuracy: 0.7892 - val_loss: 0.3301 - val_accuracy: 0.8093 - lr: 0.0010 - 67s/epoch - 15ms/step
Epoch 9/50
4378/4378 - 67s - loss: 0.3132 - accuracy: 0.7873 - val_loss: 0.3272 - val_accuracy: 0.8161 - lr: 0.0010 - 67s/epoch - 15ms/step
Epoch 10/50
4378/4378 - 67s - loss: 0.3134 - accuracy: 0.7873 - val_loss: 0.3287 - val_accuracy: 0.8164 - lr: 0.0010 - 67s/epoch - 15ms/step
Epoch 11/50
4378/4378 - 67s - loss: 0.3133 - accuracy: 0.7880 - val_loss: 0.3235 - val_accuracy: 0.8216 - lr: 0.0010 - 67s/epoch - 15ms/step
Epoch 12/50
4378/4378 - 67s - loss: 0.3132 - accuracy: 0.7879 - val_loss: 0.3241 - val_accuracy: 0.8212 - lr: 0.0010 - 67s/epoch - 15ms/step
Epoch 13/50
4378/4378 - 67s - loss: 0.3132 - accuracy: 0.7881 - val_loss: 0.3217 - val_accuracy: 0.8267 - lr: 0.0010 - 67s/epoch - 15ms/step
Epoch 14/50
4378/4378 - 67s - loss: 0.3127 - accuracy: 0.7885 - val_loss: 0.3249 - val_accuracy: 0.8202 - lr: 0.0010 - 67s/epoch - 15ms/step
Epoch 15/50
4378/4378 - 67s - loss: 0.3129 - accuracy: 0.7890 - val_loss: 0.3285 - val_accuracy: 0.8136 - lr: 0.0010 - 67s/epoch - 15ms/step
Epoch 16/50
4378/4378 - 67s - loss: 0.3126 - accuracy: 0.7885 - val_loss: 0.3239 - val_accuracy: 0.8213 - lr: 0.0010 - 67s/epoch - 15ms/step
Epoch 17/50
4378/4378 - 68s - loss: 0.3125 - accuracy: 0.7898 - val_loss: 0.3241 - val_accuracy: 0.8183 - lr: 0.0010 - 68s/epoch - 15ms/step
Epoch 18/50
4378/4378 - 68s - loss: 0.3126 - accuracy: 0.7879 - val_loss: 0.3285 - val_accuracy: 0.8103 - lr: 0.0010 - 68s/epoch - 15ms/step
Epoch 19/50
4378/4378 - 67s - loss: 0.3124 - accuracy: 0.7894 - val_loss: 0.3277 - val_accuracy: 0.8147 - lr: 0.0010 - 67s/epoch - 15ms/step
Epoch 20/50
4378/4378 - 67s - loss: 0.3126 - accuracy: 0.7888 - val_loss: 0.3307 - val_accuracy: 0.8067 - lr: 0.0010 - 67s/epoch - 15ms/step
Epoch 21/50
4378/4378 - 67s - loss: 0.3126 - accuracy: 0.7893 - val_loss: 0.3247 - val_accuracy: 0.8134 - lr: 0.0010 - 67s/epoch - 15ms/step
Epoch 22/50
4378/4378 - 67s - loss: 0.3119 - accuracy: 0.7907 - val_loss: 0.3264 - val_accuracy: 0.8163 - lr: 0.0010 - 67s/epoch - 15ms/step
Epoch 23/50
4378/4378 - 67s - loss: 0.3123 - accuracy: 0.7887 - val_loss: 0.3281 - val_accuracy: 0.8126 - lr: 0.0010 - 67s/epoch - 15ms/step
Epoch 24/50
4378/4378 - 67s - loss: 0.3123 - accuracy: 0.7894 - val_loss: 0.3308 - val_accuracy: 0.8093 - lr: 0.0010 - 67s/epoch - 15ms/step
Epoch 25/50
4378/4378 - 67s - loss: 0.3125 - accuracy: 0.7897 - val_loss: 0.3325 - val_accuracy: 0.8017 - lr: 0.0010 - 67s/epoch - 15ms/step
Epoch 26/50
4378/4378 - 67s - loss: 0.3122 - accuracy: 0.7885 - val_loss: 0.3256 - val_accuracy: 0.8160 - lr: 0.0010 - 67s/epoch - 15ms/step
Epoch 27/50
4378/4378 - 67s - loss: 0.3125 - accuracy: 0.7903 - val_loss: 0.3319 - val_accuracy: 0.8040 - lr: 0.0010 - 67s/epoch - 15ms/step
Epoch 28/50
4378/4378 - 67s - loss: 0.3126 - accuracy: 0.7888 - val_loss: 0.3258 - val_accuracy: 0.8162 - lr: 0.0010 - 67s/epoch - 15ms/step
Epoch 29/50
4378/4378 - 67s - loss: 0.3121 - accuracy: 0.7901 - val_loss: 0.3276 - val_accuracy: 0.8146 - lr: 0.0010 - 67s/epoch - 15ms/step
Epoch 30/50
4378/4378 - 67s - loss: 0.3120 - accuracy: 0.7901 - val_loss: 0.3299 - val_accuracy: 0.8059 - lr: 0.0010 - 67s/epoch - 15ms/step
Epoch 31/50
4378/4378 - 67s - loss: 0.3116 - accuracy: 0.7914 - val_loss: 0.3288 - val_accuracy: 0.8102 - lr: 0.0010 - 67s/epoch - 15ms/step
Epoch 32/50
4378/4378 - 67s - loss: 0.3119 - accuracy: 0.7904 - val_loss: 0.3268 - val_accuracy: 0.8163 - lr: 0.0010 - 67s/epoch - 15ms/step
Epoch 33/50
4378/4378 - 67s - loss: 0.3121 - accuracy: 0.7899 - val_loss: 0.3290 - val_accuracy: 0.8134 - lr: 0.0010 - 67s/epoch - 15ms/step
Epoch 34/50
4378/4378 - 67s - loss: 0.3116 - accuracy: 0.7912 - val_loss: 0.3221 - val_accuracy: 0.8245 - lr: 0.0010 - 67s/epoch - 15ms/step
Epoch 35/50
4378/4378 - 67s - loss: 0.3116 - accuracy: 0.7901 - val_loss: 0.3243 - val_accuracy: 0.8161 - lr: 0.0010 - 67s/epoch - 15ms/step
Epoch 36/50
4378/4378 - 67s - loss: 0.3117 - accuracy: 0.7912 - val_loss: 0.3258 - val_accuracy: 0.8153 - lr: 0.0010 - 67s/epoch - 15ms/step
Epoch 37/50
4378/4378 - 67s - loss: 0.3114 - accuracy: 0.7908 - val_loss: 0.3260 - val_accuracy: 0.8173 - lr: 0.0010 - 67s/epoch - 15ms/step
Epoch 38/50
4378/4378 - 67s - loss: 0.3114 - accuracy: 0.7903 - val_loss: 0.3255 - val_accuracy: 0.8155 - lr: 0.0010 - 67s/epoch - 15ms/step
Epoch 39/50
4378/4378 - 67s - loss: 0.3117 - accuracy: 0.7894 - val_loss: 0.3275 - val_accuracy: 0.8109 - lr: 0.0010 - 67s/epoch - 15ms/step
Epoch 40/50
4378/4378 - 67s - loss: 0.3113 - accuracy: 0.7909 - val_loss: 0.3284 - val_accuracy: 0.8155 - lr: 0.0010 - 67s/epoch - 15ms/step
Epoch 41/50
4378/4378 - 67s - loss: 0.3117 - accuracy: 0.7909 - val_loss: 0.3291 - val_accuracy: 0.8128 - lr: 0.0010 - 67s/epoch - 15ms/step
Epoch 42/50
4378/4378 - 67s - loss: 0.3111 - accuracy: 0.7918 - val_loss: 0.3279 - val_accuracy: 0.8130 - lr: 0.0010 - 67s/epoch - 15ms/step
Epoch 43/50
4378/4378 - 67s - loss: 0.3115 - accuracy: 0.7917 - val_loss: 0.3281 - val_accuracy: 0.8142 - lr: 0.0010 - 67s/epoch - 15ms/step
Epoch 44/50
4378/4378 - 67s - loss: 0.3113 - accuracy: 0.7919 - val_loss: 0.3241 - val_accuracy: 0.8210 - lr: 0.0010 - 67s/epoch - 15ms/step
Epoch 45/50
4378/4378 - 67s - loss: 0.3110 - accuracy: 0.7916 - val_loss: 0.3250 - val_accuracy: 0.8206 - lr: 0.0010 - 67s/epoch - 15ms/step
Epoch 46/50
4378/4378 - 67s - loss: 0.3113 - accuracy: 0.7916 - val_loss: 0.3264 - val_accuracy: 0.8173 - lr: 0.0010 - 67s/epoch - 15ms/step
Epoch 47/50
4378/4378 - 67s - loss: 0.3111 - accuracy: 0.7926 - val_loss: 0.3314 - val_accuracy: 0.8049 - lr: 0.0010 - 67s/epoch - 15ms/step
Epoch 48/50
4378/4378 - 67s - loss: 0.3109 - accuracy: 0.7920 - val_loss: 0.3248 - val_accuracy: 0.8227 - lr: 0.0010 - 67s/epoch - 15ms/step
Epoch 49/50
4378/4378 - 67s - loss: 0.3111 - accuracy: 0.7926 - val_loss: 0.3226 - val_accuracy: 0.8228 - lr: 0.0010 - 67s/epoch - 15ms/step
Epoch 50/50
4378/4378 - 67s - loss: 0.3109 - accuracy: 0.7927 - val_loss: 0.3266 - val_accuracy: 0.8185 - lr: 0.0010 - 67s/epoch - 15ms/step
fitting with batch size: 100
Epoch 1/50
876/876 - 19s - loss: 0.3086 - accuracy: 0.7966 - val_loss: 0.3259 - val_accuracy: 0.8188 - lr: 0.0010 - 19s/epoch - 22ms/step
Epoch 2/50
876/876 - 17s - loss: 0.3085 - accuracy: 0.7977 - val_loss: 0.3279 - val_accuracy: 0.8142 - lr: 0.0010 - 17s/epoch - 20ms/step
Epoch 3/50
876/876 - 17s - loss: 0.3083 - accuracy: 0.7981 - val_loss: 0.3277 - val_accuracy: 0.8145 - lr: 0.0010 - 17s/epoch - 19ms/step
Epoch 4/50
876/876 - 17s - loss: 0.3082 - accuracy: 0.7981 - val_loss: 0.3278 - val_accuracy: 0.8126 - lr: 0.0010 - 17s/epoch - 19ms/step
Epoch 5/50
876/876 - 17s - loss: 0.3081 - accuracy: 0.7982 - val_loss: 0.3266 - val_accuracy: 0.8140 - lr: 0.0010 - 17s/epoch - 20ms/step
Epoch 6/50
876/876 - 17s - loss: 0.3080 - accuracy: 0.7992 - val_loss: 0.3260 - val_accuracy: 0.8154 - lr: 0.0010 - 17s/epoch - 20ms/step
Epoch 7/50
876/876 - 17s - loss: 0.3080 - accuracy: 0.7991 - val_loss: 0.3284 - val_accuracy: 0.8127 - lr: 0.0010 - 17s/epoch - 19ms/step
Epoch 8/50
876/876 - 17s - loss: 0.3079 - accuracy: 0.7988 - val_loss: 0.3281 - val_accuracy: 0.8115 - lr: 0.0010 - 17s/epoch - 20ms/step
Epoch 9/50
876/876 - 17s - loss: 0.3080 - accuracy: 0.7989 - val_loss: 0.3296 - val_accuracy: 0.8092 - lr: 0.0010 - 17s/epoch - 19ms/step
Epoch 10/50
876/876 - 17s - loss: 0.3078 - accuracy: 0.7984 - val_loss: 0.3243 - val_accuracy: 0.8190 - lr: 0.0010 - 17s/epoch - 19ms/step
Epoch 11/50
876/876 - 17s - loss: 0.3080 - accuracy: 0.7974 - val_loss: 0.3276 - val_accuracy: 0.8126 - lr: 0.0010 - 17s/epoch - 19ms/step
Epoch 12/50
876/876 - 17s - loss: 0.3082 - accuracy: 0.7970 - val_loss: 0.3262 - val_accuracy: 0.8168 - lr: 0.0010 - 17s/epoch - 20ms/step
Epoch 13/50
876/876 - 17s - loss: 0.3080 - accuracy: 0.7993 - val_loss: 0.3274 - val_accuracy: 0.8139 - lr: 0.0010 - 17s/epoch - 19ms/step
Epoch 14/50
876/876 - 17s - loss: 0.3079 - accuracy: 0.7975 - val_loss: 0.3282 - val_accuracy: 0.8129 - lr: 0.0010 - 17s/epoch - 19ms/step
Epoch 15/50
876/876 - 17s - loss: 0.3076 - accuracy: 0.7997 - val_loss: 0.3289 - val_accuracy: 0.8110 - lr: 0.0010 - 17s/epoch - 19ms/step
Epoch 16/50
876/876 - 17s - loss: 0.3076 - accuracy: 0.7994 - val_loss: 0.3291 - val_accuracy: 0.8120 - lr: 0.0010 - 17s/epoch - 20ms/step
Epoch 17/50
876/876 - 17s - loss: 0.3075 - accuracy: 0.7991 - val_loss: 0.3279 - val_accuracy: 0.8140 - lr: 0.0010 - 17s/epoch - 20ms/step
Epoch 18/50
876/876 - 17s - loss: 0.3081 - accuracy: 0.7977 - val_loss: 0.3301 - val_accuracy: 0.8088 - lr: 0.0010 - 17s/epoch - 19ms/step
Epoch 19/50
876/876 - 17s - loss: 0.3082 - accuracy: 0.7979 - val_loss: 0.3282 - val_accuracy: 0.8124 - lr: 0.0010 - 17s/epoch - 19ms/step
Epoch 20/50
876/876 - 17s - loss: 0.3080 - accuracy: 0.7987 - val_loss: 0.3270 - val_accuracy: 0.8132 - lr: 0.0010 - 17s/epoch - 20ms/step
Epoch 21/50
876/876 - 17s - loss: 0.3077 - accuracy: 0.7996 - val_loss: 0.3290 - val_accuracy: 0.8106 - lr: 0.0010 - 17s/epoch - 19ms/step
Epoch 22/50
876/876 - 17s - loss: 0.3077 - accuracy: 0.7990 - val_loss: 0.3284 - val_accuracy: 0.8105 - lr: 0.0010 - 17s/epoch - 19ms/step
Epoch 23/50
876/876 - 17s - loss: 0.3075 - accuracy: 0.7993 - val_loss: 0.3247 - val_accuracy: 0.8198 - lr: 0.0010 - 17s/epoch - 19ms/step
Epoch 24/50
876/876 - 17s - loss: 0.3074 - accuracy: 0.7994 - val_loss: 0.3274 - val_accuracy: 0.8141 - lr: 0.0010 - 17s/epoch - 19ms/step
Epoch 25/50
876/876 - 17s - loss: 0.3075 - accuracy: 0.7993 - val_loss: 0.3296 - val_accuracy: 0.8120 - lr: 0.0010 - 17s/epoch - 19ms/step
Epoch 26/50
876/876 - 18s - loss: 0.3077 - accuracy: 0.7995 - val_loss: 0.3289 - val_accuracy: 0.8124 - lr: 0.0010 - 18s/epoch - 20ms/step
Epoch 27/50
876/876 - 17s - loss: 0.3079 - accuracy: 0.7987 - val_loss: 0.3286 - val_accuracy: 0.8119 - lr: 0.0010 - 17s/epoch - 19ms/step
Epoch 28/50
876/876 - 17s - loss: 0.3077 - accuracy: 0.7997 - val_loss: 0.3275 - val_accuracy: 0.8128 - lr: 0.0010 - 17s/epoch - 20ms/step
Epoch 29/50
876/876 - 17s - loss: 0.3076 - accuracy: 0.7989 - val_loss: 0.3268 - val_accuracy: 0.8157 - lr: 0.0010 - 17s/epoch - 19ms/step
Epoch 30/50
876/876 - 17s - loss: 0.3077 - accuracy: 0.7995 - val_loss: 0.3276 - val_accuracy: 0.8112 - lr: 0.0010 - 17s/epoch - 19ms/step
Epoch 31/50
876/876 - 17s - loss: 0.3077 - accuracy: 0.7992 - val_loss: 0.3282 - val_accuracy: 0.8145 - lr: 0.0010 - 17s/epoch - 19ms/step
Epoch 32/50
876/876 - 17s - loss: 0.3071 - accuracy: 0.7991 - val_loss: 0.3268 - val_accuracy: 0.8150 - lr: 0.0010 - 17s/epoch - 19ms/step
Epoch 33/50
876/876 - 17s - loss: 0.3076 - accuracy: 0.7991 - val_loss: 0.3301 - val_accuracy: 0.8062 - lr: 0.0010 - 17s/epoch - 19ms/step
Epoch 34/50
876/876 - 17s - loss: 0.3073 - accuracy: 0.7991 - val_loss: 0.3260 - val_accuracy: 0.8157 - lr: 0.0010 - 17s/epoch - 20ms/step
Epoch 35/50
876/876 - 17s - loss: 0.3073 - accuracy: 0.8004 - val_loss: 0.3279 - val_accuracy: 0.8120 - lr: 0.0010 - 17s/epoch - 20ms/step
Epoch 36/50
876/876 - 17s - loss: 0.3073 - accuracy: 0.8005 - val_loss: 0.3285 - val_accuracy: 0.8107 - lr: 0.0010 - 17s/epoch - 19ms/step
Epoch 37/50
876/876 - 17s - loss: 0.3075 - accuracy: 0.7975 - val_loss: 0.3280 - val_accuracy: 0.8097 - lr: 0.0010 - 17s/epoch - 19ms/step
Epoch 38/50
876/876 - 17s - loss: 0.3073 - accuracy: 0.7996 - val_loss: 0.3256 - val_accuracy: 0.8181 - lr: 0.0010 - 17s/epoch - 19ms/step
Epoch 39/50
876/876 - 17s - loss: 0.3074 - accuracy: 0.7993 - val_loss: 0.3295 - val_accuracy: 0.8127 - lr: 0.0010 - 17s/epoch - 19ms/step
Epoch 40/50
876/876 - 17s - loss: 0.3072 - accuracy: 0.8006 - val_loss: 0.3272 - val_accuracy: 0.8171 - lr: 0.0010 - 17s/epoch - 19ms/step
Epoch 41/50
876/876 - 17s - loss: 0.3073 - accuracy: 0.7999 - val_loss: 0.3282 - val_accuracy: 0.8135 - lr: 0.0010 - 17s/epoch - 20ms/step
Epoch 42/50
876/876 - 17s - loss: 0.3072 - accuracy: 0.7996 - val_loss: 0.3291 - val_accuracy: 0.8098 - lr: 0.0010 - 17s/epoch - 19ms/step
Epoch 43/50
876/876 - 17s - loss: 0.3072 - accuracy: 0.7998 - val_loss: 0.3303 - val_accuracy: 0.8082 - lr: 0.0010 - 17s/epoch - 19ms/step
Epoch 44/50
876/876 - 17s - loss: 0.3073 - accuracy: 0.8003 - val_loss: 0.3299 - val_accuracy: 0.8100 - lr: 0.0010 - 17s/epoch - 19ms/step
Epoch 45/50
876/876 - 17s - loss: 0.3078 - accuracy: 0.7994 - val_loss: 0.3284 - val_accuracy: 0.8119 - lr: 0.0010 - 17s/epoch - 19ms/step
Epoch 46/50
876/876 - 17s - loss: 0.3074 - accuracy: 0.8007 - val_loss: 0.3294 - val_accuracy: 0.8109 - lr: 0.0010 - 17s/epoch - 19ms/step
Epoch 47/50
876/876 - 17s - loss: 0.3070 - accuracy: 0.8002 - val_loss: 0.3267 - val_accuracy: 0.8161 - lr: 0.0010 - 17s/epoch - 19ms/step
Epoch 48/50
876/876 - 17s - loss: 0.3068 - accuracy: 0.8007 - val_loss: 0.3263 - val_accuracy: 0.8163 - lr: 0.0010 - 17s/epoch - 19ms/step
Epoch 49/50
876/876 - 17s - loss: 0.3073 - accuracy: 0.7996 - val_loss: 0.3260 - val_accuracy: 0.8171 - lr: 0.0010 - 17s/epoch - 20ms/step
Epoch 50/50
876/876 - 17s - loss: 0.3074 - accuracy: 0.7992 - val_loss: 0.3264 - val_accuracy: 0.8175 - lr: 0.0010 - 17s/epoch - 20ms/step
fitting with batch size: 500
Epoch 1/50
176/176 - 12s - loss: 0.3068 - accuracy: 0.8010 - val_loss: 0.3284 - val_accuracy: 0.8118 - lr: 0.0010 - 12s/epoch - 67ms/step
Epoch 2/50
176/176 - 10s - loss: 0.3063 - accuracy: 0.8017 - val_loss: 0.3282 - val_accuracy: 0.8126 - lr: 0.0010 - 10s/epoch - 54ms/step
Epoch 3/50
176/176 - 10s - loss: 0.3065 - accuracy: 0.8011 - val_loss: 0.3283 - val_accuracy: 0.8122 - lr: 0.0010 - 10s/epoch - 54ms/step
Epoch 4/50
176/176 - 10s - loss: 0.3070 - accuracy: 0.8004 - val_loss: 0.3278 - val_accuracy: 0.8139 - lr: 0.0010 - 10s/epoch - 55ms/step
Epoch 5/50
176/176 - 10s - loss: 0.3069 - accuracy: 0.8016 - val_loss: 0.3286 - val_accuracy: 0.8109 - lr: 0.0010 - 10s/epoch - 55ms/step
Epoch 6/50
176/176 - 10s - loss: 0.3065 - accuracy: 0.8011 - val_loss: 0.3289 - val_accuracy: 0.8105 - lr: 0.0010 - 10s/epoch - 54ms/step
Epoch 7/50
176/176 - 10s - loss: 0.3064 - accuracy: 0.8024 - val_loss: 0.3284 - val_accuracy: 0.8123 - lr: 0.0010 - 10s/epoch - 55ms/step
Epoch 8/50
176/176 - 10s - loss: 0.3067 - accuracy: 0.8006 - val_loss: 0.3291 - val_accuracy: 0.8100 - lr: 0.0010 - 10s/epoch - 55ms/step
Epoch 9/50
176/176 - 10s - loss: 0.3067 - accuracy: 0.8013 - val_loss: 0.3278 - val_accuracy: 0.8124 - lr: 0.0010 - 10s/epoch - 54ms/step
Epoch 10/50
176/176 - 11s - loss: 0.3070 - accuracy: 0.8004 - val_loss: 0.3297 - val_accuracy: 0.8099 - lr: 0.0010 - 11s/epoch - 61ms/step
Epoch 11/50
176/176 - 11s - loss: 0.3067 - accuracy: 0.8015 - val_loss: 0.3282 - val_accuracy: 0.8120 - lr: 0.0010 - 11s/epoch - 60ms/step
Epoch 12/50
176/176 - 10s - loss: 0.3066 - accuracy: 0.8024 - val_loss: 0.3282 - val_accuracy: 0.8120 - lr: 0.0010 - 10s/epoch - 58ms/step
Epoch 13/50
176/176 - 10s - loss: 0.3068 - accuracy: 0.8008 - val_loss: 0.3298 - val_accuracy: 0.8088 - lr: 0.0010 - 10s/epoch - 56ms/step
Epoch 14/50
176/176 - 10s - loss: 0.3065 - accuracy: 0.8014 - val_loss: 0.3286 - val_accuracy: 0.8127 - lr: 0.0010 - 10s/epoch - 55ms/step
Epoch 15/50
176/176 - 10s - loss: 0.3069 - accuracy: 0.8010 - val_loss: 0.3284 - val_accuracy: 0.8119 - lr: 0.0010 - 10s/epoch - 55ms/step
Epoch 16/50
176/176 - 10s - loss: 0.3065 - accuracy: 0.8020 - val_loss: 0.3280 - val_accuracy: 0.8121 - lr: 0.0010 - 10s/epoch - 55ms/step
Epoch 17/50
176/176 - 10s - loss: 0.3063 - accuracy: 0.8017 - val_loss: 0.3265 - val_accuracy: 0.8164 - lr: 0.0010 - 10s/epoch - 55ms/step
Epoch 18/50
176/176 - 10s - loss: 0.3069 - accuracy: 0.8006 - val_loss: 0.3272 - val_accuracy: 0.8143 - lr: 0.0010 - 10s/epoch - 55ms/step
Epoch 19/50
176/176 - 10s - loss: 0.3065 - accuracy: 0.8018 - val_loss: 0.3290 - val_accuracy: 0.8105 - lr: 0.0010 - 10s/epoch - 55ms/step
Epoch 20/50
176/176 - 10s - loss: 0.3066 - accuracy: 0.8001 - val_loss: 0.3282 - val_accuracy: 0.8122 - lr: 0.0010 - 10s/epoch - 56ms/step
Epoch 21/50
176/176 - 10s - loss: 0.3065 - accuracy: 0.8015 - val_loss: 0.3265 - val_accuracy: 0.8169 - lr: 0.0010 - 10s/epoch - 55ms/step
Epoch 22/50
176/176 - 10s - loss: 0.3068 - accuracy: 0.8012 - val_loss: 0.3285 - val_accuracy: 0.8124 - lr: 0.0010 - 10s/epoch - 55ms/step
Epoch 23/50
176/176 - 10s - loss: 0.3068 - accuracy: 0.8018 - val_loss: 0.3278 - val_accuracy: 0.8133 - lr: 0.0010 - 10s/epoch - 55ms/step
Epoch 24/50
176/176 - 10s - loss: 0.3066 - accuracy: 0.8015 - val_loss: 0.3283 - val_accuracy: 0.8124 - lr: 0.0010 - 10s/epoch - 56ms/step
Epoch 25/50
176/176 - 10s - loss: 0.3066 - accuracy: 0.8015 - val_loss: 0.3287 - val_accuracy: 0.8120 - lr: 0.0010 - 10s/epoch - 55ms/step
Epoch 26/50
176/176 - 10s - loss: 0.3064 - accuracy: 0.8008 - val_loss: 0.3292 - val_accuracy: 0.8102 - lr: 0.0010 - 10s/epoch - 54ms/step
Epoch 27/50
176/176 - 10s - loss: 0.3067 - accuracy: 0.8014 - val_loss: 0.3272 - val_accuracy: 0.8150 - lr: 0.0010 - 10s/epoch - 55ms/step
Epoch 28/50
176/176 - 10s - loss: 0.3066 - accuracy: 0.8013 - val_loss: 0.3281 - val_accuracy: 0.8117 - lr: 0.0010 - 10s/epoch - 55ms/step
Epoch 29/50
176/176 - 10s - loss: 0.3064 - accuracy: 0.8021 - val_loss: 0.3284 - val_accuracy: 0.8119 - lr: 0.0010 - 10s/epoch - 54ms/step
Epoch 30/50
176/176 - 10s - loss: 0.3068 - accuracy: 0.8006 - val_loss: 0.3290 - val_accuracy: 0.8115 - lr: 0.0010 - 10s/epoch - 55ms/step
Epoch 31/50
176/176 - 10s - loss: 0.3065 - accuracy: 0.8014 - val_loss: 0.3290 - val_accuracy: 0.8113 - lr: 0.0010 - 10s/epoch - 54ms/step
Epoch 32/50
176/176 - 10s - loss: 0.3062 - accuracy: 0.8016 - val_loss: 0.3293 - val_accuracy: 0.8089 - lr: 0.0010 - 10s/epoch - 55ms/step
Epoch 33/50
176/176 - 10s - loss: 0.3064 - accuracy: 0.8018 - val_loss: 0.3286 - val_accuracy: 0.8124 - lr: 0.0010 - 10s/epoch - 55ms/step
Epoch 34/50
176/176 - 10s - loss: 0.3067 - accuracy: 0.8015 - val_loss: 0.3290 - val_accuracy: 0.8114 - lr: 0.0010 - 10s/epoch - 55ms/step
Epoch 35/50
176/176 - 10s - loss: 0.3066 - accuracy: 0.8017 - val_loss: 0.3283 - val_accuracy: 0.8123 - lr: 0.0010 - 10s/epoch - 56ms/step
Epoch 36/50
176/176 - 10s - loss: 0.3061 - accuracy: 0.8025 - val_loss: 0.3293 - val_accuracy: 0.8116 - lr: 0.0010 - 10s/epoch - 54ms/step
Epoch 37/50
176/176 - 10s - loss: 0.3065 - accuracy: 0.8018 - val_loss: 0.3275 - val_accuracy: 0.8139 - lr: 0.0010 - 10s/epoch - 55ms/step
Epoch 38/50
176/176 - 10s - loss: 0.3064 - accuracy: 0.8019 - val_loss: 0.3279 - val_accuracy: 0.8140 - lr: 0.0010 - 10s/epoch - 55ms/step
Epoch 39/50
176/176 - 10s - loss: 0.3065 - accuracy: 0.8021 - val_loss: 0.3273 - val_accuracy: 0.8146 - lr: 0.0010 - 10s/epoch - 55ms/step
Epoch 40/50
176/176 - 10s - loss: 0.3063 - accuracy: 0.8018 - val_loss: 0.3273 - val_accuracy: 0.8151 - lr: 0.0010 - 10s/epoch - 55ms/step
Epoch 41/50
176/176 - 10s - loss: 0.3066 - accuracy: 0.8007 - val_loss: 0.3282 - val_accuracy: 0.8131 - lr: 0.0010 - 10s/epoch - 55ms/step
Epoch 42/50
176/176 - 10s - loss: 0.3065 - accuracy: 0.8020 - val_loss: 0.3281 - val_accuracy: 0.8124 - lr: 0.0010 - 10s/epoch - 55ms/step
Epoch 43/50
176/176 - 10s - loss: 0.3061 - accuracy: 0.8024 - val_loss: 0.3283 - val_accuracy: 0.8121 - lr: 0.0010 - 10s/epoch - 55ms/step
Epoch 44/50
176/176 - 10s - loss: 0.3064 - accuracy: 0.8012 - val_loss: 0.3286 - val_accuracy: 0.8121 - lr: 0.0010 - 10s/epoch - 55ms/step
Epoch 45/50
176/176 - 10s - loss: 0.3063 - accuracy: 0.8011 - val_loss: 0.3283 - val_accuracy: 0.8126 - lr: 0.0010 - 10s/epoch - 56ms/step
Epoch 46/50
176/176 - 10s - loss: 0.3063 - accuracy: 0.8025 - val_loss: 0.3277 - val_accuracy: 0.8150 - lr: 0.0010 - 10s/epoch - 55ms/step
Epoch 47/50
176/176 - 10s - loss: 0.3066 - accuracy: 0.8023 - val_loss: 0.3273 - val_accuracy: 0.8145 - lr: 0.0010 - 10s/epoch - 55ms/step
Epoch 48/50
176/176 - 10s - loss: 0.3061 - accuracy: 0.8026 - val_loss: 0.3274 - val_accuracy: 0.8147 - lr: 0.0010 - 10s/epoch - 55ms/step
Epoch 49/50
176/176 - 10s - loss: 0.3061 - accuracy: 0.8028 - val_loss: 0.3302 - val_accuracy: 0.8066 - lr: 0.0010 - 10s/epoch - 55ms/step
Epoch 50/50
176/176 - 10s - loss: 0.3064 - accuracy: 0.8011 - val_loss: 0.3271 - val_accuracy: 0.8150 - lr: 0.0010 - 10s/epoch - 55ms/step
fitting with batch size: 1500
Epoch 1/50
59/59 - 12s - loss: 0.3062 - accuracy: 0.8028 - val_loss: 0.3280 - val_accuracy: 0.8133 - lr: 0.0010 - 12s/epoch - 207ms/step
Epoch 2/50
59/59 - 10s - loss: 0.3063 - accuracy: 0.8018 - val_loss: 0.3282 - val_accuracy: 0.8129 - lr: 0.0010 - 10s/epoch - 162ms/step
Epoch 3/50
59/59 - 9s - loss: 0.3060 - accuracy: 0.8026 - val_loss: 0.3283 - val_accuracy: 0.8128 - lr: 0.0010 - 9s/epoch - 156ms/step
Epoch 4/50
59/59 - 9s - loss: 0.3062 - accuracy: 0.8021 - val_loss: 0.3281 - val_accuracy: 0.8131 - lr: 0.0010 - 9s/epoch - 153ms/step
Epoch 5/50
59/59 - 9s - loss: 0.3060 - accuracy: 0.8020 - val_loss: 0.3280 - val_accuracy: 0.8133 - lr: 0.0010 - 9s/epoch - 154ms/step
Epoch 6/50
59/59 - 9s - loss: 0.3065 - accuracy: 0.8012 - val_loss: 0.3282 - val_accuracy: 0.8132 - lr: 0.0010 - 9s/epoch - 149ms/step
Epoch 7/50
59/59 - 9s - loss: 0.3064 - accuracy: 0.8006 - val_loss: 0.3278 - val_accuracy: 0.8133 - lr: 0.0010 - 9s/epoch - 150ms/step
Epoch 8/50
59/59 - 9s - loss: 0.3065 - accuracy: 0.8023 - val_loss: 0.3280 - val_accuracy: 0.8133 - lr: 0.0010 - 9s/epoch - 153ms/step
Epoch 9/50
59/59 - 9s - loss: 0.3058 - accuracy: 0.8017 - val_loss: 0.3279 - val_accuracy: 0.8134 - lr: 0.0010 - 9s/epoch - 153ms/step
Epoch 10/50
59/59 - 9s - loss: 0.3064 - accuracy: 0.8014 - val_loss: 0.3280 - val_accuracy: 0.8129 - lr: 0.0010 - 9s/epoch - 154ms/step
Epoch 11/50
59/59 - 9s - loss: 0.3066 - accuracy: 0.8012 - val_loss: 0.3285 - val_accuracy: 0.8123 - lr: 0.0010 - 9s/epoch - 153ms/step
Epoch 12/50
59/59 - 9s - loss: 0.3067 - accuracy: 0.8018 - val_loss: 0.3284 - val_accuracy: 0.8124 - lr: 0.0010 - 9s/epoch - 152ms/step
Epoch 13/50
59/59 - 9s - loss: 0.3063 - accuracy: 0.8014 - val_loss: 0.3284 - val_accuracy: 0.8126 - lr: 0.0010 - 9s/epoch - 150ms/step
Epoch 14/50
59/59 - 9s - loss: 0.3060 - accuracy: 0.8032 - val_loss: 0.3279 - val_accuracy: 0.8132 - lr: 0.0010 - 9s/epoch - 149ms/step
Epoch 15/50
59/59 - 9s - loss: 0.3062 - accuracy: 0.8010 - val_loss: 0.3281 - val_accuracy: 0.8124 - lr: 0.0010 - 9s/epoch - 154ms/step
Epoch 16/50
59/59 - 9s - loss: 0.3063 - accuracy: 0.8022 - val_loss: 0.3277 - val_accuracy: 0.8138 - lr: 0.0010 - 9s/epoch - 154ms/step
Epoch 17/50
59/59 - 9s - loss: 0.3063 - accuracy: 0.8021 - val_loss: 0.3283 - val_accuracy: 0.8132 - lr: 0.0010 - 9s/epoch - 153ms/step
Epoch 18/50
59/59 - 9s - loss: 0.3062 - accuracy: 0.8030 - val_loss: 0.3281 - val_accuracy: 0.8134 - lr: 0.0010 - 9s/epoch - 153ms/step
Epoch 19/50
59/59 - 9s - loss: 0.3063 - accuracy: 0.8013 - val_loss: 0.3283 - val_accuracy: 0.8126 - lr: 0.0010 - 9s/epoch - 153ms/step
Epoch 20/50
59/59 - 9s - loss: 0.3066 - accuracy: 0.8016 - val_loss: 0.3280 - val_accuracy: 0.8133 - lr: 0.0010 - 9s/epoch - 152ms/step
Epoch 21/50
59/59 - 9s - loss: 0.3064 - accuracy: 0.8028 - val_loss: 0.3280 - val_accuracy: 0.8129 - lr: 0.0010 - 9s/epoch - 149ms/step
Epoch 22/50
59/59 - 9s - loss: 0.3060 - accuracy: 0.8033 - val_loss: 0.3281 - val_accuracy: 0.8128 - lr: 0.0010 - 9s/epoch - 152ms/step
Epoch 23/50
59/59 - 9s - loss: 0.3060 - accuracy: 0.8035 - val_loss: 0.3279 - val_accuracy: 0.8140 - lr: 0.0010 - 9s/epoch - 154ms/step
Epoch 24/50
59/59 - 9s - loss: 0.3061 - accuracy: 0.8021 - val_loss: 0.3282 - val_accuracy: 0.8125 - lr: 0.0010 - 9s/epoch - 153ms/step
Epoch 25/50
59/59 - 9s - loss: 0.3060 - accuracy: 0.8032 - val_loss: 0.3281 - val_accuracy: 0.8129 - lr: 0.0010 - 9s/epoch - 153ms/step
Epoch 26/50
59/59 - 9s - loss: 0.3061 - accuracy: 0.8019 - val_loss: 0.3278 - val_accuracy: 0.8136 - lr: 0.0010 - 9s/epoch - 153ms/step
Epoch 27/50
59/59 - 9s - loss: 0.3064 - accuracy: 0.8014 - val_loss: 0.3280 - val_accuracy: 0.8134 - lr: 0.0010 - 9s/epoch - 154ms/step
Epoch 28/50
59/59 - 9s - loss: 0.3061 - accuracy: 0.8026 - val_loss: 0.3284 - val_accuracy: 0.8128 - lr: 0.0010 - 9s/epoch - 148ms/step
Epoch 29/50
59/59 - 9s - loss: 0.3061 - accuracy: 0.8017 - val_loss: 0.3285 - val_accuracy: 0.8126 - lr: 0.0010 - 9s/epoch - 151ms/step
Epoch 30/50
59/59 - 9s - loss: 0.3064 - accuracy: 0.8011 - val_loss: 0.3282 - val_accuracy: 0.8123 - lr: 0.0010 - 9s/epoch - 152ms/step
Epoch 31/50
59/59 - 9s - loss: 0.3063 - accuracy: 0.8024 - val_loss: 0.3283 - val_accuracy: 0.8128 - lr: 0.0010 - 9s/epoch - 153ms/step
Epoch 32/50
59/59 - 9s - loss: 0.3064 - accuracy: 0.8014 - val_loss: 0.3281 - val_accuracy: 0.8130 - lr: 0.0010 - 9s/epoch - 152ms/step
Epoch 33/50
59/59 - 9s - loss: 0.3063 - accuracy: 0.8013 - val_loss: 0.3281 - val_accuracy: 0.8133 - lr: 0.0010 - 9s/epoch - 152ms/step
Epoch 34/50
59/59 - 9s - loss: 0.3064 - accuracy: 0.8014 - val_loss: 0.3283 - val_accuracy: 0.8121 - lr: 0.0010 - 9s/epoch - 153ms/step
Epoch 35/50
59/59 - 9s - loss: 0.3068 - accuracy: 0.8011 - val_loss: 0.3288 - val_accuracy: 0.8114 - lr: 0.0010 - 9s/epoch - 150ms/step
Epoch 36/50
59/59 - 9s - loss: 0.3058 - accuracy: 0.8031 - val_loss: 0.3282 - val_accuracy: 0.8128 - lr: 0.0010 - 9s/epoch - 149ms/step
Epoch 37/50
59/59 - 9s - loss: 0.3060 - accuracy: 0.8026 - val_loss: 0.3284 - val_accuracy: 0.8120 - lr: 0.0010 - 9s/epoch - 153ms/step
Epoch 38/50
59/59 - 9s - loss: 0.3060 - accuracy: 0.8024 - val_loss: 0.3281 - val_accuracy: 0.8129 - lr: 0.0010 - 9s/epoch - 154ms/step
Epoch 39/50
59/59 - 9s - loss: 0.3062 - accuracy: 0.8022 - val_loss: 0.3282 - val_accuracy: 0.8125 - lr: 0.0010 - 9s/epoch - 153ms/step
Epoch 40/50
59/59 - 9s - loss: 0.3063 - accuracy: 0.8016 - val_loss: 0.3281 - val_accuracy: 0.8129 - lr: 0.0010 - 9s/epoch - 154ms/step
Epoch 41/50
59/59 - 9s - loss: 0.3065 - accuracy: 0.8024 - val_loss: 0.3276 - val_accuracy: 0.8140 - lr: 0.0010 - 9s/epoch - 152ms/step
Epoch 42/50
59/59 - 9s - loss: 0.3063 - accuracy: 0.8010 - val_loss: 0.3284 - val_accuracy: 0.8124 - lr: 0.0010 - 9s/epoch - 151ms/step
Epoch 43/50
59/59 - 9s - loss: 0.3062 - accuracy: 0.8018 - val_loss: 0.3280 - val_accuracy: 0.8132 - lr: 0.0010 - 9s/epoch - 148ms/step
Epoch 44/50
59/59 - 9s - loss: 0.3059 - accuracy: 0.8028 - val_loss: 0.3279 - val_accuracy: 0.8131 - lr: 0.0010 - 9s/epoch - 152ms/step
Epoch 45/50
59/59 - 9s - loss: 0.3066 - accuracy: 0.8017 - val_loss: 0.3281 - val_accuracy: 0.8133 - lr: 0.0010 - 9s/epoch - 153ms/step
Epoch 46/50
59/59 - 9s - loss: 0.3062 - accuracy: 0.8017 - val_loss: 0.3282 - val_accuracy: 0.8130 - lr: 0.0010 - 9s/epoch - 153ms/step
Epoch 47/50
59/59 - 9s - loss: 0.3065 - accuracy: 0.8017 - val_loss: 0.3283 - val_accuracy: 0.8124 - lr: 0.0010 - 9s/epoch - 152ms/step
Epoch 48/50
59/59 - 9s - loss: 0.3062 - accuracy: 0.8009 - val_loss: 0.3283 - val_accuracy: 0.8123 - lr: 0.0010 - 9s/epoch - 152ms/step
Epoch 49/50
59/59 - 9s - loss: 0.3064 - accuracy: 0.8026 - val_loss: 0.3282 - val_accuracy: 0.8124 - lr: 0.0010 - 9s/epoch - 153ms/step
Epoch 50/50
59/59 - 9s - loss: 0.3064 - accuracy: 0.8017 - val_loss: 0.3286 - val_accuracy: 0.8123 - lr: 0.0010 - 9s/epoch - 148ms/step
fitting with batch size: 2500
Epoch 1/50
36/36 - 11s - loss: 0.3060 - accuracy: 0.8022 - val_loss: 0.3285 - val_accuracy: 0.8124 - lr: 0.0010 - 11s/epoch - 298ms/step
Epoch 2/50
36/36 - 9s - loss: 0.3061 - accuracy: 0.8032 - val_loss: 0.3292 - val_accuracy: 0.8116 - lr: 0.0010 - 9s/epoch - 241ms/step
Epoch 3/50
36/36 - 9s - loss: 0.3061 - accuracy: 0.8016 - val_loss: 0.3287 - val_accuracy: 0.8128 - lr: 0.0010 - 9s/epoch - 242ms/step
Epoch 4/50
36/36 - 9s - loss: 0.3065 - accuracy: 0.8013 - val_loss: 0.3289 - val_accuracy: 0.8114 - lr: 0.0010 - 9s/epoch - 240ms/step
Epoch 5/50
36/36 - 9s - loss: 0.3062 - accuracy: 0.8022 - val_loss: 0.3280 - val_accuracy: 0.8137 - lr: 0.0010 - 9s/epoch - 241ms/step
Epoch 6/50
36/36 - 9s - loss: 0.3063 - accuracy: 0.8020 - val_loss: 0.3275 - val_accuracy: 0.8143 - lr: 0.0010 - 9s/epoch - 241ms/step
Epoch 7/50
36/36 - 9s - loss: 0.3064 - accuracy: 0.8017 - val_loss: 0.3284 - val_accuracy: 0.8119 - lr: 0.0010 - 9s/epoch - 238ms/step
Epoch 8/50
36/36 - 8s - loss: 0.3061 - accuracy: 0.8022 - val_loss: 0.3284 - val_accuracy: 0.8120 - lr: 0.0010 - 8s/epoch - 236ms/step
Epoch 9/50
36/36 - 9s - loss: 0.3065 - accuracy: 0.8024 - val_loss: 0.3289 - val_accuracy: 0.8107 - lr: 0.0010 - 9s/epoch - 242ms/step
Epoch 10/50
36/36 - 9s - loss: 0.3065 - accuracy: 0.8014 - val_loss: 0.3280 - val_accuracy: 0.8124 - lr: 0.0010 - 9s/epoch - 256ms/step
Epoch 11/50
36/36 - 9s - loss: 0.3061 - accuracy: 0.8024 - val_loss: 0.3279 - val_accuracy: 0.8128 - lr: 0.0010 - 9s/epoch - 256ms/step
Epoch 12/50
36/36 - 9s - loss: 0.3061 - accuracy: 0.8021 - val_loss: 0.3278 - val_accuracy: 0.8140 - lr: 0.0010 - 9s/epoch - 242ms/step
Epoch 13/50
36/36 - 9s - loss: 0.3062 - accuracy: 0.8026 - val_loss: 0.3288 - val_accuracy: 0.8111 - lr: 0.0010 - 9s/epoch - 243ms/step
Epoch 14/50
36/36 - 9s - loss: 0.3066 - accuracy: 0.8017 - val_loss: 0.3281 - val_accuracy: 0.8129 - lr: 0.0010 - 9s/epoch - 249ms/step
Epoch 15/50
36/36 - 8s - loss: 0.3063 - accuracy: 0.8021 - val_loss: 0.3286 - val_accuracy: 0.8111 - lr: 0.0010 - 8s/epoch - 234ms/step
Epoch 16/50
36/36 - 9s - loss: 0.3063 - accuracy: 0.8018 - val_loss: 0.3278 - val_accuracy: 0.8133 - lr: 0.0010 - 9s/epoch - 240ms/step
Epoch 17/50
36/36 - 9s - loss: 0.3063 - accuracy: 0.8029 - val_loss: 0.3283 - val_accuracy: 0.8128 - lr: 0.0010 - 9s/epoch - 242ms/step
Epoch 18/50
36/36 - 9s - loss: 0.3062 - accuracy: 0.8009 - val_loss: 0.3278 - val_accuracy: 0.8141 - lr: 0.0010 - 9s/epoch - 241ms/step
Epoch 19/50
36/36 - 9s - loss: 0.3059 - accuracy: 0.8031 - val_loss: 0.3280 - val_accuracy: 0.8129 - lr: 0.0010 - 9s/epoch - 242ms/step
Epoch 20/50
36/36 - 9s - loss: 0.3064 - accuracy: 0.8011 - val_loss: 0.3282 - val_accuracy: 0.8124 - lr: 0.0010 - 9s/epoch - 242ms/step
Epoch 21/50
36/36 - 9s - loss: 0.3062 - accuracy: 0.8026 - val_loss: 0.3276 - val_accuracy: 0.8140 - lr: 0.0010 - 9s/epoch - 242ms/step
Epoch 22/50
36/36 - 9s - loss: 0.3065 - accuracy: 0.8019 - val_loss: 0.3283 - val_accuracy: 0.8136 - lr: 0.0010 - 9s/epoch - 237ms/step
Epoch 23/50
36/36 - 9s - loss: 0.3064 - accuracy: 0.8021 - val_loss: 0.3290 - val_accuracy: 0.8120 - lr: 0.0010 - 9s/epoch - 236ms/step
Epoch 24/50
36/36 - 9s - loss: 0.3060 - accuracy: 0.8025 - val_loss: 0.3288 - val_accuracy: 0.8113 - lr: 0.0010 - 9s/epoch - 243ms/step
Epoch 25/50
36/36 - 9s - loss: 0.3064 - accuracy: 0.8014 - val_loss: 0.3286 - val_accuracy: 0.8122 - lr: 0.0010 - 9s/epoch - 258ms/step
Epoch 26/50
36/36 - 9s - loss: 0.3059 - accuracy: 0.8016 - val_loss: 0.3286 - val_accuracy: 0.8119 - lr: 0.0010 - 9s/epoch - 252ms/step
Epoch 27/50
36/36 - 9s - loss: 0.3059 - accuracy: 0.8026 - val_loss: 0.3289 - val_accuracy: 0.8119 - lr: 0.0010 - 9s/epoch - 241ms/step
Epoch 28/50
36/36 - 9s - loss: 0.3059 - accuracy: 0.8022 - val_loss: 0.3285 - val_accuracy: 0.8122 - lr: 0.0010 - 9s/epoch - 239ms/step
Epoch 29/50
36/36 - 9s - loss: 0.3061 - accuracy: 0.8017 - val_loss: 0.3282 - val_accuracy: 0.8135 - lr: 0.0010 - 9s/epoch - 236ms/step
Epoch 30/50
36/36 - 8s - loss: 0.3062 - accuracy: 0.8015 - val_loss: 0.3274 - val_accuracy: 0.8146 - lr: 0.0010 - 8s/epoch - 235ms/step
Epoch 31/50
36/36 - 9s - loss: 0.3061 - accuracy: 0.8033 - val_loss: 0.3281 - val_accuracy: 0.8131 - lr: 0.0010 - 9s/epoch - 240ms/step
Epoch 32/50
36/36 - 9s - loss: 0.3063 - accuracy: 0.8029 - val_loss: 0.3284 - val_accuracy: 0.8124 - lr: 0.0010 - 9s/epoch - 242ms/step
Epoch 33/50
36/36 - 9s - loss: 0.3062 - accuracy: 0.8018 - val_loss: 0.3282 - val_accuracy: 0.8131 - lr: 0.0010 - 9s/epoch - 242ms/step
Epoch 34/50
36/36 - 9s - loss: 0.3065 - accuracy: 0.8032 - val_loss: 0.3284 - val_accuracy: 0.8127 - lr: 0.0010 - 9s/epoch - 241ms/step
Epoch 35/50
36/36 - 9s - loss: 0.3065 - accuracy: 0.8019 - val_loss: 0.3284 - val_accuracy: 0.8129 - lr: 0.0010 - 9s/epoch - 242ms/step
Epoch 36/50
36/36 - 9s - loss: 0.3064 - accuracy: 0.8017 - val_loss: 0.3283 - val_accuracy: 0.8125 - lr: 0.0010 - 9s/epoch - 241ms/step
Epoch 37/50
36/36 - 9s - loss: 0.3062 - accuracy: 0.8023 - val_loss: 0.3279 - val_accuracy: 0.8137 - lr: 0.0010 - 9s/epoch - 236ms/step
Epoch 38/50
36/36 - 9s - loss: 0.3063 - accuracy: 0.8018 - val_loss: 0.3278 - val_accuracy: 0.8143 - lr: 0.0010 - 9s/epoch - 238ms/step
Epoch 39/50
36/36 - 9s - loss: 0.3065 - accuracy: 0.8028 - val_loss: 0.3285 - val_accuracy: 0.8121 - lr: 0.0010 - 9s/epoch - 237ms/step
Epoch 40/50
36/36 - 9s - loss: 0.3060 - accuracy: 0.8025 - val_loss: 0.3290 - val_accuracy: 0.8116 - lr: 0.0010 - 9s/epoch - 237ms/step
Epoch 41/50
36/36 - 9s - loss: 0.3061 - accuracy: 0.8023 - val_loss: 0.3279 - val_accuracy: 0.8139 - lr: 0.0010 - 9s/epoch - 237ms/step
Epoch 42/50
36/36 - 9s - loss: 0.3064 - accuracy: 0.8007 - val_loss: 0.3283 - val_accuracy: 0.8129 - lr: 0.0010 - 9s/epoch - 238ms/step
Epoch 43/50
36/36 - 9s - loss: 0.3061 - accuracy: 0.8019 - val_loss: 0.3296 - val_accuracy: 0.8096 - lr: 0.0010 - 9s/epoch - 237ms/step
Epoch 44/50
36/36 - 9s - loss: 0.3062 - accuracy: 0.8012 - val_loss: 0.3290 - val_accuracy: 0.8116 - lr: 0.0010 - 9s/epoch - 236ms/step
Epoch 45/50
36/36 - 9s - loss: 0.3060 - accuracy: 0.8032 - val_loss: 0.3281 - val_accuracy: 0.8126 - lr: 0.0010 - 9s/epoch - 236ms/step
Epoch 46/50
36/36 - 9s - loss: 0.3058 - accuracy: 0.8034 - val_loss: 0.3268 - val_accuracy: 0.8157 - lr: 0.0010 - 9s/epoch - 240ms/step
Epoch 47/50
36/36 - 9s - loss: 0.3066 - accuracy: 0.8024 - val_loss: 0.3286 - val_accuracy: 0.8120 - lr: 0.0010 - 9s/epoch - 260ms/step
Epoch 48/50
36/36 - 9s - loss: 0.3060 - accuracy: 0.8035 - val_loss: 0.3284 - val_accuracy: 0.8126 - lr: 0.0010 - 9s/epoch - 263ms/step
Epoch 49/50
36/36 - 9s - loss: 0.3064 - accuracy: 0.8030 - val_loss: 0.3277 - val_accuracy: 0.8136 - lr: 0.0010 - 9s/epoch - 248ms/step
Epoch 50/50
36/36 - 9s - loss: 0.3061 - accuracy: 0.8023 - val_loss: 0.3285 - val_accuracy: 0.8119 - lr: 0.0010 - 9s/epoch - 241ms/step
