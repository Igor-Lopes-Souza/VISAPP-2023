Loss: categorical_crossentropy
Epoch number: 25
fitting with batch size: 1500
Epoch 1/25
59/59 - 13s - loss: 1.7556 - accuracy: 0.2014 - val_loss: 1.6528 - val_accuracy: 0.0448 - lr: 0.0010 - 13s/epoch - 213ms/step
Epoch 2/25
59/59 - 9s - loss: 1.6562 - accuracy: 0.2042 - val_loss: 1.6233 - val_accuracy: 0.0625 - lr: 0.0010 - 9s/epoch - 155ms/step
Epoch 3/25
59/59 - 9s - loss: 1.6397 - accuracy: 0.2084 - val_loss: 1.6093 - val_accuracy: 0.0986 - lr: 0.0010 - 9s/epoch - 155ms/step
Epoch 4/25
59/59 - 9s - loss: 1.6337 - accuracy: 0.2099 - val_loss: 1.6067 - val_accuracy: 0.1170 - lr: 0.0010 - 9s/epoch - 153ms/step
Epoch 5/25
59/59 - 9s - loss: 1.6305 - accuracy: 0.2123 - val_loss: 1.6030 - val_accuracy: 0.1514 - lr: 0.0010 - 9s/epoch - 156ms/step
Epoch 6/25
59/59 - 9s - loss: 1.6261 - accuracy: 0.2145 - val_loss: 1.6018 - val_accuracy: 0.1699 - lr: 0.0010 - 9s/epoch - 154ms/step
Epoch 7/25
59/59 - 9s - loss: 1.6243 - accuracy: 0.2127 - val_loss: 1.6019 - val_accuracy: 0.1747 - lr: 0.0010 - 9s/epoch - 152ms/step
Epoch 8/25
59/59 - 9s - loss: 1.6203 - accuracy: 0.2160 - val_loss: 1.6018 - val_accuracy: 0.1800 - lr: 0.0010 - 9s/epoch - 154ms/step
Epoch 9/25
59/59 - 9s - loss: 1.6195 - accuracy: 0.2146 - val_loss: 1.6024 - val_accuracy: 0.1760 - lr: 0.0010 - 9s/epoch - 152ms/step
Epoch 10/25
59/59 - 11s - loss: 1.6172 - accuracy: 0.2185 - val_loss: 1.6012 - val_accuracy: 0.1809 - lr: 0.0010 - 11s/epoch - 183ms/step
Epoch 11/25
59/59 - 14s - loss: 1.6137 - accuracy: 0.2236 - val_loss: 1.6016 - val_accuracy: 0.1752 - lr: 0.0010 - 14s/epoch - 234ms/step
Epoch 12/25
59/59 - 14s - loss: 1.6143 - accuracy: 0.2202 - val_loss: 1.6030 - val_accuracy: 0.1586 - lr: 0.0010 - 14s/epoch - 229ms/step
Epoch 13/25
59/59 - 13s - loss: 1.6107 - accuracy: 0.2233 - val_loss: 1.6035 - val_accuracy: 0.1550 - lr: 0.0010 - 13s/epoch - 217ms/step
Epoch 14/25
59/59 - 13s - loss: 1.6098 - accuracy: 0.2252 - val_loss: 1.6034 - val_accuracy: 0.1554 - lr: 0.0010 - 13s/epoch - 213ms/step
Epoch 15/25
59/59 - 12s - loss: 1.6071 - accuracy: 0.2285 - val_loss: 1.6064 - val_accuracy: 0.1414 - lr: 0.0010 - 12s/epoch - 210ms/step
Epoch 16/25
59/59 - 12s - loss: 1.6055 - accuracy: 0.2315 - val_loss: 1.6086 - val_accuracy: 0.1316 - lr: 0.0010 - 12s/epoch - 197ms/step
Epoch 17/25
59/59 - 13s - loss: 1.6045 - accuracy: 0.2306 - val_loss: 1.6125 - val_accuracy: 0.1231 - lr: 0.0010 - 13s/epoch - 213ms/step
Epoch 18/25
59/59 - 13s - loss: 1.6024 - accuracy: 0.2349 - val_loss: 1.6172 - val_accuracy: 0.1169 - lr: 0.0010 - 13s/epoch - 227ms/step
Epoch 19/25
59/59 - 12s - loss: 1.6001 - accuracy: 0.2397 - val_loss: 1.6227 - val_accuracy: 0.1110 - lr: 0.0010 - 12s/epoch - 211ms/step
Epoch 20/25
59/59 - 13s - loss: 1.5983 - accuracy: 0.2389 - val_loss: 1.6263 - val_accuracy: 0.1090 - lr: 0.0010 - 13s/epoch - 212ms/step
Epoch 21/25
59/59 - 13s - loss: 1.5962 - accuracy: 0.2423 - val_loss: 1.6316 - val_accuracy: 0.1056 - lr: 0.0010 - 13s/epoch - 220ms/step
Epoch 22/25
59/59 - 13s - loss: 1.5935 - accuracy: 0.2452 - val_loss: 1.6366 - val_accuracy: 0.1045 - lr: 0.0010 - 13s/epoch - 221ms/step
Epoch 23/25
59/59 - 13s - loss: 1.5913 - accuracy: 0.2497 - val_loss: 1.6436 - val_accuracy: 0.1016 - lr: 0.0010 - 13s/epoch - 218ms/step
Epoch 24/25
59/59 - 13s - loss: 1.5882 - accuracy: 0.2512 - val_loss: 1.6495 - val_accuracy: 0.1006 - lr: 0.0010 - 13s/epoch - 217ms/step
Epoch 25/25
59/59 - 13s - loss: 1.5859 - accuracy: 0.2525 - val_loss: 1.6552 - val_accuracy: 0.0988 - lr: 0.0010 - 13s/epoch - 224ms/step
fitting with batch size: 2500
Epoch 1/25
36/36 - 16s - loss: 1.5837 - accuracy: 0.2541 - val_loss: 1.6609 - val_accuracy: 0.0978 - lr: 0.0010 - 16s/epoch - 447ms/step
Epoch 2/25
36/36 - 12s - loss: 1.5815 - accuracy: 0.2582 - val_loss: 1.6637 - val_accuracy: 0.0981 - lr: 0.0010 - 12s/epoch - 343ms/step
Epoch 3/25
36/36 - 13s - loss: 1.5791 - accuracy: 0.2602 - val_loss: 1.6658 - val_accuracy: 0.0993 - lr: 0.0010 - 13s/epoch - 363ms/step
Epoch 4/25
36/36 - 13s - loss: 1.5773 - accuracy: 0.2630 - val_loss: 1.6715 - val_accuracy: 0.0990 - lr: 0.0010 - 13s/epoch - 352ms/step
Epoch 5/25
36/36 - 13s - loss: 1.5748 - accuracy: 0.2651 - val_loss: 1.6719 - val_accuracy: 0.0994 - lr: 0.0010 - 13s/epoch - 352ms/step
Epoch 6/25
36/36 - 13s - loss: 1.5721 - accuracy: 0.2683 - val_loss: 1.6750 - val_accuracy: 0.0994 - lr: 0.0010 - 13s/epoch - 354ms/step
Epoch 7/25
36/36 - 13s - loss: 1.5708 - accuracy: 0.2685 - val_loss: 1.6829 - val_accuracy: 0.0974 - lr: 0.0010 - 13s/epoch - 353ms/step
Epoch 8/25
36/36 - 12s - loss: 1.5694 - accuracy: 0.2673 - val_loss: 1.6805 - val_accuracy: 0.1009 - lr: 0.0010 - 12s/epoch - 325ms/step
Epoch 9/25
36/36 - 11s - loss: 1.5662 - accuracy: 0.2721 - val_loss: 1.6828 - val_accuracy: 0.1011 - lr: 0.0010 - 11s/epoch - 318ms/step
Epoch 10/25
36/36 - 12s - loss: 1.5649 - accuracy: 0.2748 - val_loss: 1.6831 - val_accuracy: 0.1015 - lr: 0.0010 - 12s/epoch - 344ms/step
Epoch 11/25
36/36 - 12s - loss: 1.5608 - accuracy: 0.2785 - val_loss: 1.6959 - val_accuracy: 0.0958 - lr: 0.0010 - 12s/epoch - 325ms/step
Epoch 12/25
36/36 - 12s - loss: 1.5586 - accuracy: 0.2790 - val_loss: 1.6959 - val_accuracy: 0.0968 - lr: 0.0010 - 12s/epoch - 329ms/step
Epoch 13/25
36/36 - 12s - loss: 1.5563 - accuracy: 0.2809 - val_loss: 1.7032 - val_accuracy: 0.0957 - lr: 0.0010 - 12s/epoch - 331ms/step
Epoch 14/25
36/36 - 13s - loss: 1.5525 - accuracy: 0.2870 - val_loss: 1.7057 - val_accuracy: 0.0957 - lr: 0.0010 - 13s/epoch - 352ms/step
Epoch 15/25
36/36 - 13s - loss: 1.5512 - accuracy: 0.2849 - val_loss: 1.7090 - val_accuracy: 0.0955 - lr: 0.0010 - 13s/epoch - 350ms/step
Epoch 16/25
36/36 - 12s - loss: 1.5488 - accuracy: 0.2894 - val_loss: 1.7145 - val_accuracy: 0.0949 - lr: 0.0010 - 12s/epoch - 339ms/step
Epoch 17/25
36/36 - 10s - loss: 1.5447 - accuracy: 0.2907 - val_loss: 1.7204 - val_accuracy: 0.0941 - lr: 0.0010 - 10s/epoch - 282ms/step
Epoch 18/25
36/36 - 9s - loss: 1.5416 - accuracy: 0.2928 - val_loss: 1.7214 - val_accuracy: 0.0947 - lr: 0.0010 - 9s/epoch - 245ms/step
Epoch 19/25
36/36 - 9s - loss: 1.5383 - accuracy: 0.2971 - val_loss: 1.7253 - val_accuracy: 0.0948 - lr: 0.0010 - 9s/epoch - 238ms/step
Epoch 20/25
36/36 - 9s - loss: 1.5350 - accuracy: 0.3026 - val_loss: 1.7279 - val_accuracy: 0.0950 - lr: 0.0010 - 9s/epoch - 240ms/step
Epoch 21/25
36/36 - 9s - loss: 1.5325 - accuracy: 0.2991 - val_loss: 1.7277 - val_accuracy: 0.0961 - lr: 0.0010 - 9s/epoch - 242ms/step
Epoch 22/25
36/36 - 9s - loss: 1.5289 - accuracy: 0.3016 - val_loss: 1.7295 - val_accuracy: 0.0956 - lr: 0.0010 - 9s/epoch - 238ms/step
Epoch 23/25
36/36 - 9s - loss: 1.5266 - accuracy: 0.3064 - val_loss: 1.7325 - val_accuracy: 0.0956 - lr: 0.0010 - 9s/epoch - 243ms/step
Epoch 24/25
36/36 - 11s - loss: 1.5228 - accuracy: 0.3064 - val_loss: 1.7320 - val_accuracy: 0.0970 - lr: 0.0010 - 11s/epoch - 292ms/step
Epoch 25/25
36/36 - 12s - loss: 1.5194 - accuracy: 0.3098 - val_loss: 1.7364 - val_accuracy: 0.0967 - lr: 0.0010 - 12s/epoch - 346ms/step
Epoch number: 50
fitting with batch size: 1500
Epoch 1/50
59/59 - 18s - loss: 1.5151 - accuracy: 0.3127 - val_loss: 1.7445 - val_accuracy: 0.0957 - lr: 0.0010 - 18s/epoch - 305ms/step
Epoch 2/50
59/59 - 13s - loss: 1.5088 - accuracy: 0.3176 - val_loss: 1.7494 - val_accuracy: 0.0956 - lr: 0.0010 - 13s/epoch - 213ms/step
Epoch 3/50
59/59 - 13s - loss: 1.5034 - accuracy: 0.3220 - val_loss: 1.7547 - val_accuracy: 0.0951 - lr: 0.0010 - 13s/epoch - 224ms/step
Epoch 4/50
59/59 - 13s - loss: 1.4978 - accuracy: 0.3255 - val_loss: 1.7593 - val_accuracy: 0.0956 - lr: 0.0010 - 13s/epoch - 219ms/step
Epoch 5/50
59/59 - 13s - loss: 1.4937 - accuracy: 0.3273 - val_loss: 1.7607 - val_accuracy: 0.0964 - lr: 0.0010 - 13s/epoch - 220ms/step
Epoch 6/50
59/59 - 13s - loss: 1.4873 - accuracy: 0.3329 - val_loss: 1.7651 - val_accuracy: 0.0970 - lr: 0.0010 - 13s/epoch - 220ms/step
Epoch 7/50
59/59 - 13s - loss: 1.4813 - accuracy: 0.3376 - val_loss: 1.7677 - val_accuracy: 0.0975 - lr: 0.0010 - 13s/epoch - 227ms/step
Epoch 8/50
59/59 - 14s - loss: 1.4770 - accuracy: 0.3384 - val_loss: 1.7676 - val_accuracy: 0.0983 - lr: 0.0010 - 14s/epoch - 230ms/step
Epoch 9/50
59/59 - 15s - loss: 1.4715 - accuracy: 0.3436 - val_loss: 1.7686 - val_accuracy: 0.0988 - lr: 0.0010 - 15s/epoch - 248ms/step
Epoch 10/50
59/59 - 14s - loss: 1.4675 - accuracy: 0.3451 - val_loss: 1.7681 - val_accuracy: 0.0994 - lr: 0.0010 - 14s/epoch - 234ms/step
Epoch 11/50
59/59 - 14s - loss: 1.4616 - accuracy: 0.3489 - val_loss: 1.7684 - val_accuracy: 0.0998 - lr: 0.0010 - 14s/epoch - 235ms/step
Epoch 12/50
59/59 - 14s - loss: 1.4561 - accuracy: 0.3528 - val_loss: 1.7640 - val_accuracy: 0.1011 - lr: 0.0010 - 14s/epoch - 236ms/step
Epoch 13/50
59/59 - 14s - loss: 1.4523 - accuracy: 0.3550 - val_loss: 1.7632 - val_accuracy: 0.1011 - lr: 0.0010 - 14s/epoch - 240ms/step
Epoch 14/50
59/59 - 13s - loss: 1.4477 - accuracy: 0.3556 - val_loss: 1.7580 - val_accuracy: 0.1023 - lr: 0.0010 - 13s/epoch - 228ms/step
Epoch 15/50
59/59 - 14s - loss: 1.4427 - accuracy: 0.3636 - val_loss: 1.7564 - val_accuracy: 0.1025 - lr: 0.0010 - 14s/epoch - 233ms/step
Epoch 16/50
59/59 - 14s - loss: 1.4403 - accuracy: 0.3632 - val_loss: 1.7514 - val_accuracy: 0.1034 - lr: 0.0010 - 14s/epoch - 232ms/step
Epoch 17/50
59/59 - 13s - loss: 1.4354 - accuracy: 0.3660 - val_loss: 1.7482 - val_accuracy: 0.1039 - lr: 0.0010 - 13s/epoch - 223ms/step
Epoch 18/50
59/59 - 13s - loss: 1.4311 - accuracy: 0.3669 - val_loss: 1.7419 - val_accuracy: 0.1052 - lr: 0.0010 - 13s/epoch - 227ms/step
Epoch 19/50
59/59 - 13s - loss: 1.4262 - accuracy: 0.3721 - val_loss: 1.7370 - val_accuracy: 0.1059 - lr: 0.0010 - 13s/epoch - 217ms/step
Epoch 20/50
59/59 - 12s - loss: 1.4230 - accuracy: 0.3722 - val_loss: 1.7320 - val_accuracy: 0.1068 - lr: 0.0010 - 12s/epoch - 211ms/step
Epoch 21/50
59/59 - 13s - loss: 1.4212 - accuracy: 0.3749 - val_loss: 1.7260 - val_accuracy: 0.1073 - lr: 0.0010 - 13s/epoch - 212ms/step
Epoch 22/50
59/59 - 13s - loss: 1.4165 - accuracy: 0.3776 - val_loss: 1.7197 - val_accuracy: 0.1080 - lr: 0.0010 - 13s/epoch - 218ms/step
Epoch 23/50
59/59 - 13s - loss: 1.4119 - accuracy: 0.3792 - val_loss: 1.7141 - val_accuracy: 0.1086 - lr: 0.0010 - 13s/epoch - 222ms/step
Epoch 24/50
59/59 - 13s - loss: 1.4089 - accuracy: 0.3835 - val_loss: 1.7047 - val_accuracy: 0.1102 - lr: 0.0010 - 13s/epoch - 227ms/step
Epoch 25/50
59/59 - 14s - loss: 1.4047 - accuracy: 0.3849 - val_loss: 1.6993 - val_accuracy: 0.1109 - lr: 0.0010 - 14s/epoch - 231ms/step
Epoch 26/50
59/59 - 14s - loss: 1.4023 - accuracy: 0.3870 - val_loss: 1.6957 - val_accuracy: 0.1111 - lr: 0.0010 - 14s/epoch - 236ms/step
Epoch 27/50
59/59 - 13s - loss: 1.3981 - accuracy: 0.3899 - val_loss: 1.6878 - val_accuracy: 0.1136 - lr: 0.0010 - 13s/epoch - 226ms/step
Epoch 28/50
59/59 - 9s - loss: 1.3964 - accuracy: 0.3904 - val_loss: 1.6800 - val_accuracy: 0.1157 - lr: 0.0010 - 9s/epoch - 158ms/step
Epoch 29/50
59/59 - 9s - loss: 1.3934 - accuracy: 0.3933 - val_loss: 1.6748 - val_accuracy: 0.1178 - lr: 0.0010 - 9s/epoch - 156ms/step
Epoch 30/50
59/59 - 11s - loss: 1.3917 - accuracy: 0.3936 - val_loss: 1.6683 - val_accuracy: 0.1197 - lr: 0.0010 - 11s/epoch - 184ms/step
Epoch 31/50
59/59 - 13s - loss: 1.3886 - accuracy: 0.3976 - val_loss: 1.6659 - val_accuracy: 0.1199 - lr: 0.0010 - 13s/epoch - 225ms/step
Epoch 32/50
59/59 - 13s - loss: 1.3856 - accuracy: 0.3994 - val_loss: 1.6627 - val_accuracy: 0.1196 - lr: 0.0010 - 13s/epoch - 214ms/step
Epoch 33/50
59/59 - 13s - loss: 1.3834 - accuracy: 0.4007 - val_loss: 1.6490 - val_accuracy: 0.1290 - lr: 0.0010 - 13s/epoch - 212ms/step
Epoch 34/50
59/59 - 12s - loss: 1.3792 - accuracy: 0.4039 - val_loss: 1.6454 - val_accuracy: 0.1304 - lr: 0.0010 - 12s/epoch - 207ms/step
Epoch 35/50
59/59 - 13s - loss: 1.3757 - accuracy: 0.4051 - val_loss: 1.6425 - val_accuracy: 0.1311 - lr: 0.0010 - 13s/epoch - 212ms/step
Epoch 36/50
59/59 - 12s - loss: 1.3739 - accuracy: 0.4062 - val_loss: 1.6330 - val_accuracy: 0.1374 - lr: 0.0010 - 12s/epoch - 209ms/step
Epoch 37/50
59/59 - 12s - loss: 1.3690 - accuracy: 0.4118 - val_loss: 1.6292 - val_accuracy: 0.1402 - lr: 0.0010 - 12s/epoch - 208ms/step
Epoch 38/50
59/59 - 13s - loss: 1.3676 - accuracy: 0.4104 - val_loss: 1.6217 - val_accuracy: 0.1457 - lr: 0.0010 - 13s/epoch - 215ms/step
Epoch 39/50
59/59 - 13s - loss: 1.3638 - accuracy: 0.4138 - val_loss: 1.6155 - val_accuracy: 0.1505 - lr: 0.0010 - 13s/epoch - 217ms/step
Epoch 40/50
59/59 - 13s - loss: 1.3601 - accuracy: 0.4163 - val_loss: 1.6091 - val_accuracy: 0.1553 - lr: 0.0010 - 13s/epoch - 217ms/step
Epoch 41/50
59/59 - 12s - loss: 1.3580 - accuracy: 0.4191 - val_loss: 1.6063 - val_accuracy: 0.1555 - lr: 0.0010 - 12s/epoch - 209ms/step
Epoch 42/50
59/59 - 12s - loss: 1.3555 - accuracy: 0.4195 - val_loss: 1.5959 - val_accuracy: 0.1644 - lr: 0.0010 - 12s/epoch - 211ms/step
Epoch 43/50
59/59 - 13s - loss: 1.3514 - accuracy: 0.4218 - val_loss: 1.5864 - val_accuracy: 0.1726 - lr: 0.0010 - 13s/epoch - 227ms/step
Epoch 44/50
59/59 - 14s - loss: 1.3490 - accuracy: 0.4239 - val_loss: 1.5841 - val_accuracy: 0.1716 - lr: 0.0010 - 14s/epoch - 238ms/step
Epoch 45/50
59/59 - 14s - loss: 1.3467 - accuracy: 0.4257 - val_loss: 1.5792 - val_accuracy: 0.1747 - lr: 0.0010 - 14s/epoch - 236ms/step
Epoch 46/50
59/59 - 14s - loss: 1.3444 - accuracy: 0.4268 - val_loss: 1.5668 - val_accuracy: 0.1830 - lr: 0.0010 - 14s/epoch - 240ms/step
Epoch 47/50
59/59 - 14s - loss: 1.3400 - accuracy: 0.4304 - val_loss: 1.5647 - val_accuracy: 0.1827 - lr: 0.0010 - 14s/epoch - 232ms/step
Epoch 48/50
59/59 - 14s - loss: 1.3358 - accuracy: 0.4320 - val_loss: 1.5587 - val_accuracy: 0.1876 - lr: 0.0010 - 14s/epoch - 234ms/step
Epoch 49/50
59/59 - 14s - loss: 1.3327 - accuracy: 0.4327 - val_loss: 1.5534 - val_accuracy: 0.1888 - lr: 0.0010 - 14s/epoch - 236ms/step
Epoch 50/50
59/59 - 14s - loss: 1.3309 - accuracy: 0.4346 - val_loss: 1.5481 - val_accuracy: 0.1918 - lr: 0.0010 - 14s/epoch - 242ms/step
fitting with batch size: 2500
Epoch 1/50
36/36 - 16s - loss: 1.3279 - accuracy: 0.4375 - val_loss: 1.5436 - val_accuracy: 0.1904 - lr: 0.0010 - 16s/epoch - 454ms/step
Epoch 2/50
36/36 - 14s - loss: 1.3247 - accuracy: 0.4385 - val_loss: 1.5325 - val_accuracy: 0.2085 - lr: 0.0010 - 14s/epoch - 376ms/step
Epoch 3/50
36/36 - 13s - loss: 1.3235 - accuracy: 0.4393 - val_loss: 1.5358 - val_accuracy: 0.2016 - lr: 0.0010 - 13s/epoch - 353ms/step
Epoch 4/50
36/36 - 13s - loss: 1.3203 - accuracy: 0.4423 - val_loss: 1.5336 - val_accuracy: 0.2040 - lr: 0.0010 - 13s/epoch - 357ms/step
Epoch 5/50
36/36 - 12s - loss: 1.3190 - accuracy: 0.4429 - val_loss: 1.5285 - val_accuracy: 0.2104 - lr: 0.0010 - 12s/epoch - 337ms/step
Epoch 6/50
36/36 - 12s - loss: 1.3187 - accuracy: 0.4428 - val_loss: 1.5302 - val_accuracy: 0.2101 - lr: 0.0010 - 12s/epoch - 346ms/step
Epoch 7/50
36/36 - 13s - loss: 1.3157 - accuracy: 0.4438 - val_loss: 1.5279 - val_accuracy: 0.2045 - lr: 0.0010 - 13s/epoch - 360ms/step
Epoch 8/50
36/36 - 13s - loss: 1.3142 - accuracy: 0.4464 - val_loss: 1.5180 - val_accuracy: 0.2158 - lr: 0.0010 - 13s/epoch - 372ms/step
Epoch 9/50
36/36 - 14s - loss: 1.3114 - accuracy: 0.4479 - val_loss: 1.5134 - val_accuracy: 0.2315 - lr: 0.0010 - 14s/epoch - 388ms/step
Epoch 10/50
36/36 - 13s - loss: 1.3078 - accuracy: 0.4495 - val_loss: 1.5096 - val_accuracy: 0.2334 - lr: 0.0010 - 13s/epoch - 351ms/step
Epoch 11/50
36/36 - 13s - loss: 1.3078 - accuracy: 0.4496 - val_loss: 1.4992 - val_accuracy: 0.2653 - lr: 0.0010 - 13s/epoch - 355ms/step
Epoch 12/50
36/36 - 14s - loss: 1.3069 - accuracy: 0.4503 - val_loss: 1.4982 - val_accuracy: 0.2600 - lr: 0.0010 - 14s/epoch - 378ms/step
Epoch 13/50
36/36 - 13s - loss: 1.3046 - accuracy: 0.4513 - val_loss: 1.5062 - val_accuracy: 0.2450 - lr: 0.0010 - 13s/epoch - 350ms/step
Epoch 14/50
36/36 - 13s - loss: 1.3010 - accuracy: 0.4536 - val_loss: 1.4944 - val_accuracy: 0.2692 - lr: 0.0010 - 13s/epoch - 366ms/step
Epoch 15/50
36/36 - 13s - loss: 1.3001 - accuracy: 0.4552 - val_loss: 1.4844 - val_accuracy: 0.2944 - lr: 0.0010 - 13s/epoch - 371ms/step
Epoch 16/50
36/36 - 13s - loss: 1.2969 - accuracy: 0.4581 - val_loss: 1.4968 - val_accuracy: 0.2648 - lr: 0.0010 - 13s/epoch - 366ms/step
Epoch 17/50
36/36 - 14s - loss: 1.2948 - accuracy: 0.4573 - val_loss: 1.4907 - val_accuracy: 0.2786 - lr: 0.0010 - 14s/epoch - 387ms/step
Epoch 18/50
36/36 - 15s - loss: 1.2930 - accuracy: 0.4585 - val_loss: 1.4828 - val_accuracy: 0.3118 - lr: 0.0010 - 15s/epoch - 407ms/step
Epoch 19/50
36/36 - 14s - loss: 1.2915 - accuracy: 0.4598 - val_loss: 1.4823 - val_accuracy: 0.3068 - lr: 0.0010 - 14s/epoch - 387ms/step
Epoch 20/50
36/36 - 13s - loss: 1.2887 - accuracy: 0.4620 - val_loss: 1.4752 - val_accuracy: 0.3241 - lr: 0.0010 - 13s/epoch - 374ms/step
Epoch 21/50
36/36 - 14s - loss: 1.2855 - accuracy: 0.4643 - val_loss: 1.4738 - val_accuracy: 0.3243 - lr: 0.0010 - 14s/epoch - 381ms/step
Epoch 22/50
36/36 - 13s - loss: 1.2840 - accuracy: 0.4627 - val_loss: 1.4682 - val_accuracy: 0.3303 - lr: 0.0010 - 13s/epoch - 358ms/step
Epoch 23/50
36/36 - 14s - loss: 1.2822 - accuracy: 0.4666 - val_loss: 1.4676 - val_accuracy: 0.3356 - lr: 0.0010 - 14s/epoch - 381ms/step
Epoch 24/50
36/36 - 13s - loss: 1.2809 - accuracy: 0.4651 - val_loss: 1.4541 - val_accuracy: 0.3618 - lr: 0.0010 - 13s/epoch - 354ms/step
Epoch 25/50
36/36 - 14s - loss: 1.2777 - accuracy: 0.4671 - val_loss: 1.4628 - val_accuracy: 0.3424 - lr: 0.0010 - 14s/epoch - 381ms/step
Epoch 26/50
36/36 - 14s - loss: 1.2748 - accuracy: 0.4717 - val_loss: 1.4612 - val_accuracy: 0.3465 - lr: 0.0010 - 14s/epoch - 401ms/step
Epoch 27/50
36/36 - 14s - loss: 1.2745 - accuracy: 0.4711 - val_loss: 1.4525 - val_accuracy: 0.3626 - lr: 0.0010 - 14s/epoch - 386ms/step
Epoch 28/50
36/36 - 14s - loss: 1.2700 - accuracy: 0.4713 - val_loss: 1.4488 - val_accuracy: 0.3697 - lr: 0.0010 - 14s/epoch - 375ms/step
Epoch 29/50
36/36 - 14s - loss: 1.2674 - accuracy: 0.4739 - val_loss: 1.4466 - val_accuracy: 0.3728 - lr: 0.0010 - 14s/epoch - 386ms/step
Epoch 30/50
36/36 - 13s - loss: 1.2667 - accuracy: 0.4754 - val_loss: 1.4429 - val_accuracy: 0.3795 - lr: 0.0010 - 13s/epoch - 360ms/step
Epoch 31/50
36/36 - 13s - loss: 1.2648 - accuracy: 0.4767 - val_loss: 1.4295 - val_accuracy: 0.4016 - lr: 0.0010 - 13s/epoch - 373ms/step
Epoch 32/50
36/36 - 13s - loss: 1.2611 - accuracy: 0.4770 - val_loss: 1.4249 - val_accuracy: 0.4174 - lr: 0.0010 - 13s/epoch - 351ms/step
Epoch 33/50
36/36 - 13s - loss: 1.2573 - accuracy: 0.4812 - val_loss: 1.4337 - val_accuracy: 0.3937 - lr: 0.0010 - 13s/epoch - 351ms/step
Epoch 34/50
36/36 - 13s - loss: 1.2576 - accuracy: 0.4782 - val_loss: 1.4210 - val_accuracy: 0.4141 - lr: 0.0010 - 13s/epoch - 350ms/step
Epoch 35/50
36/36 - 12s - loss: 1.2541 - accuracy: 0.4819 - val_loss: 1.4268 - val_accuracy: 0.4050 - lr: 0.0010 - 12s/epoch - 346ms/step
Epoch 36/50
36/36 - 13s - loss: 1.2519 - accuracy: 0.4827 - val_loss: 1.4134 - val_accuracy: 0.4317 - lr: 0.0010 - 13s/epoch - 348ms/step
Epoch 37/50
36/36 - 13s - loss: 1.2493 - accuracy: 0.4842 - val_loss: 1.4105 - val_accuracy: 0.4403 - lr: 0.0010 - 13s/epoch - 369ms/step
Epoch 38/50
36/36 - 13s - loss: 1.2466 - accuracy: 0.4839 - val_loss: 1.3979 - val_accuracy: 0.4547 - lr: 0.0010 - 13s/epoch - 349ms/step
Epoch 39/50
36/36 - 12s - loss: 1.2451 - accuracy: 0.4871 - val_loss: 1.4018 - val_accuracy: 0.4538 - lr: 0.0010 - 12s/epoch - 340ms/step
Epoch 40/50
36/36 - 13s - loss: 1.2442 - accuracy: 0.4877 - val_loss: 1.4066 - val_accuracy: 0.4355 - lr: 0.0010 - 13s/epoch - 350ms/step
Epoch 41/50
36/36 - 15s - loss: 1.2418 - accuracy: 0.4902 - val_loss: 1.3965 - val_accuracy: 0.4507 - lr: 0.0010 - 15s/epoch - 415ms/step
Epoch 42/50
36/36 - 15s - loss: 1.2390 - accuracy: 0.4912 - val_loss: 1.4094 - val_accuracy: 0.4261 - lr: 0.0010 - 15s/epoch - 427ms/step
Epoch 43/50
36/36 - 14s - loss: 1.2345 - accuracy: 0.4945 - val_loss: 1.4000 - val_accuracy: 0.4479 - lr: 0.0010 - 14s/epoch - 402ms/step
Epoch 44/50
36/36 - 14s - loss: 1.2335 - accuracy: 0.4928 - val_loss: 1.3881 - val_accuracy: 0.4510 - lr: 0.0010 - 14s/epoch - 376ms/step
Epoch 45/50
36/36 - 14s - loss: 1.2331 - accuracy: 0.4976 - val_loss: 1.3875 - val_accuracy: 0.4604 - lr: 0.0010 - 14s/epoch - 386ms/step
Epoch 46/50
36/36 - 13s - loss: 1.2287 - accuracy: 0.4971 - val_loss: 1.3975 - val_accuracy: 0.4383 - lr: 0.0010 - 13s/epoch - 362ms/step
Epoch 47/50
36/36 - 14s - loss: 1.2277 - accuracy: 0.4989 - val_loss: 1.3966 - val_accuracy: 0.4376 - lr: 0.0010 - 14s/epoch - 385ms/step
Epoch 48/50
36/36 - 14s - loss: 1.2246 - accuracy: 0.5008 - val_loss: 1.3818 - val_accuracy: 0.4548 - lr: 0.0010 - 14s/epoch - 393ms/step
Epoch 49/50
36/36 - 14s - loss: 1.2229 - accuracy: 0.5008 - val_loss: 1.3788 - val_accuracy: 0.4568 - lr: 0.0010 - 14s/epoch - 383ms/step
Epoch 50/50
36/36 - 14s - loss: 1.2194 - accuracy: 0.5016 - val_loss: 1.3767 - val_accuracy: 0.4610 - lr: 0.0010 - 14s/epoch - 385ms/step
Loss: binary_crossentropy
Epoch number: 25
fitting with batch size: 1500
Epoch 1/25
59/59 - 18s - loss: 0.3970 - accuracy: 0.5035 - val_loss: 0.4453 - val_accuracy: 0.4435 - lr: 0.0010 - 18s/epoch - 311ms/step
Epoch 2/25
59/59 - 15s - loss: 0.3966 - accuracy: 0.5046 - val_loss: 0.4466 - val_accuracy: 0.4351 - lr: 0.0010 - 15s/epoch - 247ms/step
Epoch 3/25
59/59 - 14s - loss: 0.3965 - accuracy: 0.5035 - val_loss: 0.4460 - val_accuracy: 0.4354 - lr: 0.0010 - 14s/epoch - 238ms/step
Epoch 4/25
59/59 - 14s - loss: 0.3960 - accuracy: 0.5052 - val_loss: 0.4465 - val_accuracy: 0.4306 - lr: 0.0010 - 14s/epoch - 243ms/step
Epoch 5/25
59/59 - 13s - loss: 0.3958 - accuracy: 0.5038 - val_loss: 0.4461 - val_accuracy: 0.4327 - lr: 0.0010 - 13s/epoch - 228ms/step
Epoch 6/25
59/59 - 14s - loss: 0.3954 - accuracy: 0.5048 - val_loss: 0.4459 - val_accuracy: 0.4317 - lr: 0.0010 - 14s/epoch - 235ms/step
Epoch 7/25
59/59 - 15s - loss: 0.3953 - accuracy: 0.5061 - val_loss: 0.4459 - val_accuracy: 0.4317 - lr: 0.0010 - 15s/epoch - 247ms/step
Epoch 8/25
59/59 - 14s - loss: 0.3953 - accuracy: 0.5064 - val_loss: 0.4450 - val_accuracy: 0.4349 - lr: 0.0010 - 14s/epoch - 244ms/step
Epoch 9/25
59/59 - 15s - loss: 0.3945 - accuracy: 0.5075 - val_loss: 0.4448 - val_accuracy: 0.4347 - lr: 0.0010 - 15s/epoch - 248ms/step
Epoch 10/25
59/59 - 14s - loss: 0.3939 - accuracy: 0.5074 - val_loss: 0.4448 - val_accuracy: 0.4328 - lr: 0.0010 - 14s/epoch - 244ms/step
Epoch 11/25
59/59 - 15s - loss: 0.3944 - accuracy: 0.5091 - val_loss: 0.4447 - val_accuracy: 0.4329 - lr: 0.0010 - 15s/epoch - 251ms/step
Epoch 12/25
59/59 - 15s - loss: 0.3931 - accuracy: 0.5098 - val_loss: 0.4445 - val_accuracy: 0.4323 - lr: 0.0010 - 15s/epoch - 251ms/step
Epoch 13/25
59/59 - 15s - loss: 0.3929 - accuracy: 0.5110 - val_loss: 0.4445 - val_accuracy: 0.4308 - lr: 0.0010 - 15s/epoch - 250ms/step
Epoch 14/25
59/59 - 15s - loss: 0.3926 - accuracy: 0.5111 - val_loss: 0.4441 - val_accuracy: 0.4319 - lr: 0.0010 - 15s/epoch - 246ms/step
Epoch 15/25
59/59 - 15s - loss: 0.3927 - accuracy: 0.5112 - val_loss: 0.4435 - val_accuracy: 0.4326 - lr: 0.0010 - 15s/epoch - 249ms/step
Epoch 16/25
59/59 - 13s - loss: 0.3926 - accuracy: 0.5111 - val_loss: 0.4432 - val_accuracy: 0.4328 - lr: 0.0010 - 13s/epoch - 228ms/step
Epoch 17/25
59/59 - 10s - loss: 0.3924 - accuracy: 0.5128 - val_loss: 0.4430 - val_accuracy: 0.4318 - lr: 0.0010 - 10s/epoch - 175ms/step
Epoch 18/25
59/59 - 9s - loss: 0.3924 - accuracy: 0.5144 - val_loss: 0.4430 - val_accuracy: 0.4299 - lr: 0.0010 - 9s/epoch - 156ms/step
Epoch 19/25
59/59 - 9s - loss: 0.3912 - accuracy: 0.5128 - val_loss: 0.4429 - val_accuracy: 0.4296 - lr: 0.0010 - 9s/epoch - 155ms/step
Epoch 20/25
59/59 - 9s - loss: 0.3913 - accuracy: 0.5154 - val_loss: 0.4430 - val_accuracy: 0.4274 - lr: 0.0010 - 9s/epoch - 154ms/step
Epoch 21/25
59/59 - 9s - loss: 0.3910 - accuracy: 0.5147 - val_loss: 0.4424 - val_accuracy: 0.4292 - lr: 0.0010 - 9s/epoch - 155ms/step
Epoch 22/25
59/59 - 9s - loss: 0.3911 - accuracy: 0.5159 - val_loss: 0.4418 - val_accuracy: 0.4302 - lr: 0.0010 - 9s/epoch - 155ms/step
Epoch 23/25
59/59 - 9s - loss: 0.3910 - accuracy: 0.5147 - val_loss: 0.4413 - val_accuracy: 0.4317 - lr: 0.0010 - 9s/epoch - 153ms/step
Epoch 24/25
59/59 - 9s - loss: 0.3904 - accuracy: 0.5173 - val_loss: 0.4416 - val_accuracy: 0.4304 - lr: 0.0010 - 9s/epoch - 154ms/step
Epoch 25/25
59/59 - 10s - loss: 0.3906 - accuracy: 0.5171 - val_loss: 0.4414 - val_accuracy: 0.4301 - lr: 0.0010 - 10s/epoch - 162ms/step
fitting with batch size: 2500
Epoch 1/25
36/36 - 12s - loss: 0.3896 - accuracy: 0.5199 - val_loss: 0.4407 - val_accuracy: 0.4312 - lr: 0.0010 - 12s/epoch - 342ms/step
Epoch 2/25
36/36 - 13s - loss: 0.3903 - accuracy: 0.5151 - val_loss: 0.4404 - val_accuracy: 0.4329 - lr: 0.0010 - 13s/epoch - 347ms/step
Epoch 3/25
36/36 - 14s - loss: 0.3895 - accuracy: 0.5185 - val_loss: 0.4413 - val_accuracy: 0.4292 - lr: 0.0010 - 14s/epoch - 380ms/step
Epoch 4/25
36/36 - 13s - loss: 0.3901 - accuracy: 0.5161 - val_loss: 0.4413 - val_accuracy: 0.4272 - lr: 0.0010 - 13s/epoch - 364ms/step
Epoch 5/25
36/36 - 14s - loss: 0.3891 - accuracy: 0.5192 - val_loss: 0.4406 - val_accuracy: 0.4273 - lr: 0.0010 - 14s/epoch - 376ms/step
Epoch 6/25
36/36 - 14s - loss: 0.3887 - accuracy: 0.5217 - val_loss: 0.4402 - val_accuracy: 0.4302 - lr: 0.0010 - 14s/epoch - 392ms/step
Epoch 7/25
36/36 - 13s - loss: 0.3896 - accuracy: 0.5183 - val_loss: 0.4396 - val_accuracy: 0.4326 - lr: 0.0010 - 13s/epoch - 374ms/step
Epoch 8/25
36/36 - 15s - loss: 0.3888 - accuracy: 0.5208 - val_loss: 0.4398 - val_accuracy: 0.4307 - lr: 0.0010 - 15s/epoch - 410ms/step
Epoch 9/25
36/36 - 14s - loss: 0.3887 - accuracy: 0.5190 - val_loss: 0.4405 - val_accuracy: 0.4281 - lr: 0.0010 - 14s/epoch - 392ms/step
Epoch 10/25
36/36 - 14s - loss: 0.3886 - accuracy: 0.5206 - val_loss: 0.4401 - val_accuracy: 0.4288 - lr: 0.0010 - 14s/epoch - 388ms/step
Epoch 11/25
36/36 - 14s - loss: 0.3885 - accuracy: 0.5202 - val_loss: 0.4404 - val_accuracy: 0.4283 - lr: 0.0010 - 14s/epoch - 397ms/step
Epoch 12/25
36/36 - 14s - loss: 0.3880 - accuracy: 0.5202 - val_loss: 0.4394 - val_accuracy: 0.4300 - lr: 0.0010 - 14s/epoch - 396ms/step
Epoch 13/25
36/36 - 14s - loss: 0.3885 - accuracy: 0.5213 - val_loss: 0.4393 - val_accuracy: 0.4295 - lr: 0.0010 - 14s/epoch - 397ms/step
Epoch 14/25
36/36 - 14s - loss: 0.3874 - accuracy: 0.5214 - val_loss: 0.4394 - val_accuracy: 0.4276 - lr: 0.0010 - 14s/epoch - 379ms/step
Epoch 15/25
36/36 - 13s - loss: 0.3876 - accuracy: 0.5214 - val_loss: 0.4392 - val_accuracy: 0.4281 - lr: 0.0010 - 13s/epoch - 366ms/step
Epoch 16/25
36/36 - 14s - loss: 0.3878 - accuracy: 0.5213 - val_loss: 0.4388 - val_accuracy: 0.4278 - lr: 0.0010 - 14s/epoch - 385ms/step
Epoch 17/25
36/36 - 15s - loss: 0.3876 - accuracy: 0.5244 - val_loss: 0.4395 - val_accuracy: 0.4261 - lr: 0.0010 - 15s/epoch - 410ms/step
Epoch 18/25
36/36 - 15s - loss: 0.3874 - accuracy: 0.5221 - val_loss: 0.4395 - val_accuracy: 0.4245 - lr: 0.0010 - 15s/epoch - 411ms/step
Epoch 19/25
36/36 - 15s - loss: 0.3870 - accuracy: 0.5240 - val_loss: 0.4397 - val_accuracy: 0.4250 - lr: 0.0010 - 15s/epoch - 403ms/step
Epoch 20/25
36/36 - 15s - loss: 0.3871 - accuracy: 0.5244 - val_loss: 0.4389 - val_accuracy: 0.4281 - lr: 0.0010 - 15s/epoch - 420ms/step
Epoch 21/25
36/36 - 15s - loss: 0.3875 - accuracy: 0.5227 - val_loss: 0.4389 - val_accuracy: 0.4260 - lr: 0.0010 - 15s/epoch - 416ms/step
Epoch 22/25
36/36 - 15s - loss: 0.3863 - accuracy: 0.5248 - val_loss: 0.4377 - val_accuracy: 0.4304 - lr: 0.0010 - 15s/epoch - 415ms/step
Epoch 23/25
36/36 - 14s - loss: 0.3865 - accuracy: 0.5240 - val_loss: 0.4373 - val_accuracy: 0.4316 - lr: 0.0010 - 14s/epoch - 390ms/step
Epoch 24/25
36/36 - 14s - loss: 0.3861 - accuracy: 0.5248 - val_loss: 0.4378 - val_accuracy: 0.4286 - lr: 0.0010 - 14s/epoch - 387ms/step
Epoch 25/25
36/36 - 13s - loss: 0.3867 - accuracy: 0.5233 - val_loss: 0.4374 - val_accuracy: 0.4307 - lr: 0.0010 - 13s/epoch - 370ms/step
Epoch number: 50
fitting with batch size: 1500
Epoch 1/50
59/59 - 18s - loss: 0.3856 - accuracy: 0.5266 - val_loss: 0.4374 - val_accuracy: 0.4297 - lr: 0.0010 - 18s/epoch - 306ms/step
Epoch 2/50
59/59 - 15s - loss: 0.3859 - accuracy: 0.5257 - val_loss: 0.4375 - val_accuracy: 0.4279 - lr: 0.0010 - 15s/epoch - 247ms/step
Epoch 3/50
59/59 - 14s - loss: 0.3850 - accuracy: 0.5290 - val_loss: 0.4373 - val_accuracy: 0.4288 - lr: 0.0010 - 14s/epoch - 244ms/step
Epoch 4/50
59/59 - 14s - loss: 0.3851 - accuracy: 0.5273 - val_loss: 0.4374 - val_accuracy: 0.4263 - lr: 0.0010 - 14s/epoch - 245ms/step
Epoch 5/50
59/59 - 15s - loss: 0.3851 - accuracy: 0.5280 - val_loss: 0.4371 - val_accuracy: 0.4276 - lr: 0.0010 - 15s/epoch - 256ms/step
Epoch 6/50
59/59 - 14s - loss: 0.3847 - accuracy: 0.5275 - val_loss: 0.4367 - val_accuracy: 0.4277 - lr: 0.0010 - 14s/epoch - 245ms/step
Epoch 7/50
59/59 - 14s - loss: 0.3845 - accuracy: 0.5276 - val_loss: 0.4362 - val_accuracy: 0.4285 - lr: 0.0010 - 14s/epoch - 243ms/step
Epoch 8/50
59/59 - 15s - loss: 0.3841 - accuracy: 0.5290 - val_loss: 0.4359 - val_accuracy: 0.4286 - lr: 0.0010 - 15s/epoch - 249ms/step
Epoch 9/50
59/59 - 15s - loss: 0.3836 - accuracy: 0.5304 - val_loss: 0.4356 - val_accuracy: 0.4292 - lr: 0.0010 - 15s/epoch - 249ms/step
Epoch 10/50
59/59 - 14s - loss: 0.3839 - accuracy: 0.5303 - val_loss: 0.4356 - val_accuracy: 0.4290 - lr: 0.0010 - 14s/epoch - 245ms/step
Epoch 11/50
59/59 - 15s - loss: 0.3835 - accuracy: 0.5308 - val_loss: 0.4354 - val_accuracy: 0.4285 - lr: 0.0010 - 15s/epoch - 248ms/step
Epoch 12/50
59/59 - 15s - loss: 0.3838 - accuracy: 0.5302 - val_loss: 0.4353 - val_accuracy: 0.4269 - lr: 0.0010 - 15s/epoch - 255ms/step
Epoch 13/50
59/59 - 14s - loss: 0.3832 - accuracy: 0.5325 - val_loss: 0.4352 - val_accuracy: 0.4258 - lr: 0.0010 - 14s/epoch - 235ms/step
Epoch 14/50
59/59 - 13s - loss: 0.3823 - accuracy: 0.5343 - val_loss: 0.4351 - val_accuracy: 0.4257 - lr: 0.0010 - 13s/epoch - 226ms/step
Epoch 15/50
59/59 - 14s - loss: 0.3823 - accuracy: 0.5328 - val_loss: 0.4345 - val_accuracy: 0.4259 - lr: 0.0010 - 14s/epoch - 234ms/step
Epoch 16/50
59/59 - 15s - loss: 0.3824 - accuracy: 0.5336 - val_loss: 0.4342 - val_accuracy: 0.4265 - lr: 0.0010 - 15s/epoch - 247ms/step
Epoch 17/50
59/59 - 14s - loss: 0.3821 - accuracy: 0.5342 - val_loss: 0.4342 - val_accuracy: 0.4254 - lr: 0.0010 - 14s/epoch - 246ms/step
Epoch 18/50
59/59 - 15s - loss: 0.3824 - accuracy: 0.5332 - val_loss: 0.4338 - val_accuracy: 0.4247 - lr: 0.0010 - 15s/epoch - 253ms/step
Epoch 19/50
59/59 - 14s - loss: 0.3817 - accuracy: 0.5328 - val_loss: 0.4334 - val_accuracy: 0.4265 - lr: 0.0010 - 14s/epoch - 242ms/step
Epoch 20/50
59/59 - 14s - loss: 0.3818 - accuracy: 0.5328 - val_loss: 0.4337 - val_accuracy: 0.4245 - lr: 0.0010 - 14s/epoch - 245ms/step
Epoch 21/50
59/59 - 14s - loss: 0.3815 - accuracy: 0.5363 - val_loss: 0.4334 - val_accuracy: 0.4243 - lr: 0.0010 - 14s/epoch - 235ms/step
Epoch 22/50
59/59 - 14s - loss: 0.3818 - accuracy: 0.5338 - val_loss: 0.4334 - val_accuracy: 0.4244 - lr: 0.0010 - 14s/epoch - 246ms/step
Epoch 23/50
59/59 - 15s - loss: 0.3804 - accuracy: 0.5359 - val_loss: 0.4330 - val_accuracy: 0.4249 - lr: 0.0010 - 15s/epoch - 250ms/step
Epoch 24/50
59/59 - 15s - loss: 0.3802 - accuracy: 0.5375 - val_loss: 0.4328 - val_accuracy: 0.4228 - lr: 0.0010 - 15s/epoch - 252ms/step
Epoch 25/50
59/59 - 16s - loss: 0.3807 - accuracy: 0.5364 - val_loss: 0.4330 - val_accuracy: 0.4213 - lr: 0.0010 - 16s/epoch - 263ms/step
Epoch 26/50
59/59 - 16s - loss: 0.3798 - accuracy: 0.5372 - val_loss: 0.4327 - val_accuracy: 0.4209 - lr: 0.0010 - 16s/epoch - 273ms/step
Epoch 27/50
59/59 - 15s - loss: 0.3795 - accuracy: 0.5392 - val_loss: 0.4324 - val_accuracy: 0.4213 - lr: 0.0010 - 15s/epoch - 260ms/step
Epoch 28/50
59/59 - 13s - loss: 0.3796 - accuracy: 0.5384 - val_loss: 0.4329 - val_accuracy: 0.4197 - lr: 0.0010 - 13s/epoch - 228ms/step
Epoch 29/50
59/59 - 14s - loss: 0.3796 - accuracy: 0.5384 - val_loss: 0.4322 - val_accuracy: 0.4221 - lr: 0.0010 - 14s/epoch - 235ms/step
Epoch 30/50
59/59 - 13s - loss: 0.3797 - accuracy: 0.5389 - val_loss: 0.4317 - val_accuracy: 0.4228 - lr: 0.0010 - 13s/epoch - 229ms/step
Epoch 31/50
59/59 - 14s - loss: 0.3793 - accuracy: 0.5389 - val_loss: 0.4314 - val_accuracy: 0.4229 - lr: 0.0010 - 14s/epoch - 240ms/step
Epoch 32/50
59/59 - 15s - loss: 0.3788 - accuracy: 0.5405 - val_loss: 0.4313 - val_accuracy: 0.4233 - lr: 0.0010 - 15s/epoch - 250ms/step
Epoch 33/50
59/59 - 14s - loss: 0.3781 - accuracy: 0.5411 - val_loss: 0.4313 - val_accuracy: 0.4225 - lr: 0.0010 - 14s/epoch - 241ms/step
Epoch 34/50
59/59 - 14s - loss: 0.3782 - accuracy: 0.5408 - val_loss: 0.4306 - val_accuracy: 0.4236 - lr: 0.0010 - 14s/epoch - 240ms/step
Epoch 35/50
59/59 - 14s - loss: 0.3778 - accuracy: 0.5430 - val_loss: 0.4309 - val_accuracy: 0.4217 - lr: 0.0010 - 14s/epoch - 245ms/step
Epoch 36/50
59/59 - 14s - loss: 0.3783 - accuracy: 0.5429 - val_loss: 0.4304 - val_accuracy: 0.4223 - lr: 0.0010 - 14s/epoch - 244ms/step
Epoch 37/50
59/59 - 14s - loss: 0.3779 - accuracy: 0.5419 - val_loss: 0.4297 - val_accuracy: 0.4248 - lr: 0.0010 - 14s/epoch - 244ms/step
Epoch 38/50
59/59 - 15s - loss: 0.3781 - accuracy: 0.5405 - val_loss: 0.4299 - val_accuracy: 0.4231 - lr: 0.0010 - 15s/epoch - 256ms/step
Epoch 39/50
59/59 - 15s - loss: 0.3769 - accuracy: 0.5422 - val_loss: 0.4307 - val_accuracy: 0.4197 - lr: 0.0010 - 15s/epoch - 255ms/step
Epoch 40/50
59/59 - 15s - loss: 0.3770 - accuracy: 0.5436 - val_loss: 0.4298 - val_accuracy: 0.4219 - lr: 0.0010 - 15s/epoch - 253ms/step
Epoch 41/50
59/59 - 14s - loss: 0.3774 - accuracy: 0.5441 - val_loss: 0.4294 - val_accuracy: 0.4234 - lr: 0.0010 - 14s/epoch - 244ms/step
Epoch 42/50
59/59 - 15s - loss: 0.3767 - accuracy: 0.5451 - val_loss: 0.4295 - val_accuracy: 0.4227 - lr: 0.0010 - 15s/epoch - 253ms/step
Epoch 43/50
59/59 - 15s - loss: 0.3764 - accuracy: 0.5448 - val_loss: 0.4291 - val_accuracy: 0.4233 - lr: 0.0010 - 15s/epoch - 254ms/step
Epoch 44/50
59/59 - 14s - loss: 0.3766 - accuracy: 0.5446 - val_loss: 0.4286 - val_accuracy: 0.4235 - lr: 0.0010 - 14s/epoch - 244ms/step
Epoch 45/50
59/59 - 14s - loss: 0.3764 - accuracy: 0.5451 - val_loss: 0.4283 - val_accuracy: 0.4239 - lr: 0.0010 - 14s/epoch - 243ms/step
Epoch 46/50
59/59 - 14s - loss: 0.3762 - accuracy: 0.5454 - val_loss: 0.4278 - val_accuracy: 0.4258 - lr: 0.0010 - 14s/epoch - 243ms/step
Epoch 47/50
59/59 - 13s - loss: 0.3757 - accuracy: 0.5458 - val_loss: 0.4284 - val_accuracy: 0.4228 - lr: 0.0010 - 13s/epoch - 225ms/step
Epoch 48/50
59/59 - 14s - loss: 0.3758 - accuracy: 0.5462 - val_loss: 0.4279 - val_accuracy: 0.4239 - lr: 0.0010 - 14s/epoch - 230ms/step
Epoch 49/50
59/59 - 13s - loss: 0.3751 - accuracy: 0.5464 - val_loss: 0.4277 - val_accuracy: 0.4247 - lr: 0.0010 - 13s/epoch - 218ms/step
Epoch 50/50
59/59 - 13s - loss: 0.3753 - accuracy: 0.5484 - val_loss: 0.4274 - val_accuracy: 0.4253 - lr: 0.0010 - 13s/epoch - 228ms/step
fitting with batch size: 2500
Epoch 1/50
36/36 - 16s - loss: 0.3751 - accuracy: 0.5475 - val_loss: 0.4275 - val_accuracy: 0.4240 - lr: 0.0010 - 16s/epoch - 445ms/step
Epoch 2/50
36/36 - 13s - loss: 0.3751 - accuracy: 0.5473 - val_loss: 0.4273 - val_accuracy: 0.4273 - lr: 0.0010 - 13s/epoch - 353ms/step
Epoch 3/50
36/36 - 13s - loss: 0.3750 - accuracy: 0.5488 - val_loss: 0.4275 - val_accuracy: 0.4246 - lr: 0.0010 - 13s/epoch - 359ms/step
Epoch 4/50
36/36 - 13s - loss: 0.3748 - accuracy: 0.5468 - val_loss: 0.4276 - val_accuracy: 0.4229 - lr: 0.0010 - 13s/epoch - 347ms/step
Epoch 5/50
36/36 - 12s - loss: 0.3743 - accuracy: 0.5481 - val_loss: 0.4271 - val_accuracy: 0.4256 - lr: 0.0010 - 12s/epoch - 346ms/step
Epoch 6/50
36/36 - 13s - loss: 0.3742 - accuracy: 0.5487 - val_loss: 0.4279 - val_accuracy: 0.4212 - lr: 0.0010 - 13s/epoch - 356ms/step
Epoch 7/50
36/36 - 11s - loss: 0.3749 - accuracy: 0.5476 - val_loss: 0.4280 - val_accuracy: 0.4197 - lr: 0.0010 - 11s/epoch - 299ms/step
Epoch 8/50
36/36 - 10s - loss: 0.3749 - accuracy: 0.5476 - val_loss: 0.4270 - val_accuracy: 0.4232 - lr: 0.0010 - 10s/epoch - 271ms/step
Epoch 9/50
36/36 - 12s - loss: 0.3742 - accuracy: 0.5485 - val_loss: 0.4278 - val_accuracy: 0.4207 - lr: 0.0010 - 12s/epoch - 337ms/step
Epoch 10/50
36/36 - 12s - loss: 0.3743 - accuracy: 0.5505 - val_loss: 0.4269 - val_accuracy: 0.4235 - lr: 0.0010 - 12s/epoch - 333ms/step
Epoch 11/50
36/36 - 12s - loss: 0.3745 - accuracy: 0.5498 - val_loss: 0.4265 - val_accuracy: 0.4256 - lr: 0.0010 - 12s/epoch - 327ms/step
Epoch 12/50
36/36 - 12s - loss: 0.3742 - accuracy: 0.5486 - val_loss: 0.4270 - val_accuracy: 0.4238 - lr: 0.0010 - 12s/epoch - 332ms/step
Epoch 13/50
36/36 - 13s - loss: 0.3733 - accuracy: 0.5502 - val_loss: 0.4267 - val_accuracy: 0.4225 - lr: 0.0010 - 13s/epoch - 349ms/step
Epoch 14/50
36/36 - 13s - loss: 0.3735 - accuracy: 0.5509 - val_loss: 0.4271 - val_accuracy: 0.4234 - lr: 0.0010 - 13s/epoch - 353ms/step
Epoch 15/50
36/36 - 13s - loss: 0.3731 - accuracy: 0.5518 - val_loss: 0.4270 - val_accuracy: 0.4210 - lr: 0.0010 - 13s/epoch - 364ms/step
Epoch 16/50
36/36 - 13s - loss: 0.3734 - accuracy: 0.5512 - val_loss: 0.4261 - val_accuracy: 0.4259 - lr: 0.0010 - 13s/epoch - 350ms/step
Epoch 17/50
36/36 - 13s - loss: 0.3734 - accuracy: 0.5505 - val_loss: 0.4263 - val_accuracy: 0.4246 - lr: 0.0010 - 13s/epoch - 371ms/step
Epoch 18/50
36/36 - 13s - loss: 0.3735 - accuracy: 0.5505 - val_loss: 0.4279 - val_accuracy: 0.4151 - lr: 0.0010 - 13s/epoch - 358ms/step
Epoch 19/50
36/36 - 13s - loss: 0.3728 - accuracy: 0.5495 - val_loss: 0.4260 - val_accuracy: 0.4231 - lr: 0.0010 - 13s/epoch - 349ms/step
Epoch 20/50
36/36 - 12s - loss: 0.3727 - accuracy: 0.5506 - val_loss: 0.4282 - val_accuracy: 0.4136 - lr: 0.0010 - 12s/epoch - 347ms/step
Epoch 21/50
36/36 - 12s - loss: 0.3724 - accuracy: 0.5523 - val_loss: 0.4258 - val_accuracy: 0.4232 - lr: 0.0010 - 12s/epoch - 339ms/step
Epoch 22/50
36/36 - 13s - loss: 0.3726 - accuracy: 0.5502 - val_loss: 0.4260 - val_accuracy: 0.4222 - lr: 0.0010 - 13s/epoch - 357ms/step
Epoch 23/50
36/36 - 12s - loss: 0.3729 - accuracy: 0.5511 - val_loss: 0.4251 - val_accuracy: 0.4264 - lr: 0.0010 - 12s/epoch - 340ms/step
Epoch 24/50
36/36 - 12s - loss: 0.3728 - accuracy: 0.5513 - val_loss: 0.4247 - val_accuracy: 0.4265 - lr: 0.0010 - 12s/epoch - 335ms/step
Epoch 25/50
36/36 - 13s - loss: 0.3725 - accuracy: 0.5547 - val_loss: 0.4255 - val_accuracy: 0.4216 - lr: 0.0010 - 13s/epoch - 359ms/step
Epoch 26/50
36/36 - 13s - loss: 0.3724 - accuracy: 0.5517 - val_loss: 0.4238 - val_accuracy: 0.4307 - lr: 0.0010 - 13s/epoch - 350ms/step
Epoch 27/50
36/36 - 13s - loss: 0.3723 - accuracy: 0.5536 - val_loss: 0.4243 - val_accuracy: 0.4271 - lr: 0.0010 - 13s/epoch - 353ms/step
Epoch 28/50
36/36 - 13s - loss: 0.3725 - accuracy: 0.5517 - val_loss: 0.4237 - val_accuracy: 0.4293 - lr: 0.0010 - 13s/epoch - 353ms/step
Epoch 29/50
36/36 - 13s - loss: 0.3718 - accuracy: 0.5547 - val_loss: 0.4235 - val_accuracy: 0.4317 - lr: 0.0010 - 13s/epoch - 371ms/step
Epoch 30/50
36/36 - 11s - loss: 0.3720 - accuracy: 0.5528 - val_loss: 0.4226 - val_accuracy: 0.4350 - lr: 0.0010 - 11s/epoch - 319ms/step
Epoch 31/50
36/36 - 12s - loss: 0.3715 - accuracy: 0.5535 - val_loss: 0.4230 - val_accuracy: 0.4350 - lr: 0.0010 - 12s/epoch - 333ms/step
Epoch 32/50
36/36 - 12s - loss: 0.3716 - accuracy: 0.5532 - val_loss: 0.4246 - val_accuracy: 0.4243 - lr: 0.0010 - 12s/epoch - 322ms/step
Epoch 33/50
36/36 - 12s - loss: 0.3712 - accuracy: 0.5557 - val_loss: 0.4244 - val_accuracy: 0.4258 - lr: 0.0010 - 12s/epoch - 326ms/step
Epoch 34/50
36/36 - 12s - loss: 0.3715 - accuracy: 0.5551 - val_loss: 0.4236 - val_accuracy: 0.4255 - lr: 0.0010 - 12s/epoch - 340ms/step
Epoch 35/50
36/36 - 12s - loss: 0.3712 - accuracy: 0.5538 - val_loss: 0.4251 - val_accuracy: 0.4193 - lr: 0.0010 - 12s/epoch - 339ms/step
Epoch 36/50
36/36 - 12s - loss: 0.3715 - accuracy: 0.5543 - val_loss: 0.4244 - val_accuracy: 0.4231 - lr: 0.0010 - 12s/epoch - 333ms/step
Epoch 37/50
36/36 - 12s - loss: 0.3712 - accuracy: 0.5536 - val_loss: 0.4242 - val_accuracy: 0.4231 - lr: 0.0010 - 12s/epoch - 331ms/step
Epoch 38/50
36/36 - 12s - loss: 0.3705 - accuracy: 0.5542 - val_loss: 0.4241 - val_accuracy: 0.4214 - lr: 0.0010 - 12s/epoch - 332ms/step
Epoch 39/50
36/36 - 12s - loss: 0.3712 - accuracy: 0.5548 - val_loss: 0.4232 - val_accuracy: 0.4269 - lr: 0.0010 - 12s/epoch - 345ms/step
Epoch 40/50
36/36 - 13s - loss: 0.3711 - accuracy: 0.5556 - val_loss: 0.4240 - val_accuracy: 0.4226 - lr: 0.0010 - 13s/epoch - 348ms/step
Epoch 41/50
36/36 - 12s - loss: 0.3713 - accuracy: 0.5559 - val_loss: 0.4231 - val_accuracy: 0.4281 - lr: 0.0010 - 12s/epoch - 342ms/step
Epoch 42/50
36/36 - 12s - loss: 0.3704 - accuracy: 0.5556 - val_loss: 0.4215 - val_accuracy: 0.4324 - lr: 0.0010 - 12s/epoch - 343ms/step
Epoch 43/50
36/36 - 13s - loss: 0.3703 - accuracy: 0.5540 - val_loss: 0.4236 - val_accuracy: 0.4240 - lr: 0.0010 - 13s/epoch - 357ms/step
Epoch 44/50
36/36 - 12s - loss: 0.3703 - accuracy: 0.5567 - val_loss: 0.4228 - val_accuracy: 0.4275 - lr: 0.0010 - 12s/epoch - 335ms/step
Epoch 45/50
36/36 - 12s - loss: 0.3705 - accuracy: 0.5552 - val_loss: 0.4232 - val_accuracy: 0.4247 - lr: 0.0010 - 12s/epoch - 342ms/step
Epoch 46/50
36/36 - 12s - loss: 0.3706 - accuracy: 0.5541 - val_loss: 0.4219 - val_accuracy: 0.4305 - lr: 0.0010 - 12s/epoch - 339ms/step
Epoch 47/50
36/36 - 12s - loss: 0.3699 - accuracy: 0.5561 - val_loss: 0.4210 - val_accuracy: 0.4341 - lr: 0.0010 - 12s/epoch - 339ms/step
Epoch 48/50
36/36 - 13s - loss: 0.3695 - accuracy: 0.5563 - val_loss: 0.4228 - val_accuracy: 0.4247 - lr: 0.0010 - 13s/epoch - 352ms/step
Epoch 49/50
36/36 - 13s - loss: 0.3700 - accuracy: 0.5577 - val_loss: 0.4226 - val_accuracy: 0.4247 - lr: 0.0010 - 13s/epoch - 360ms/step
Epoch 50/50
36/36 - 13s - loss: 0.3705 - accuracy: 0.5573 - val_loss: 0.4228 - val_accuracy: 0.4255 - lr: 0.0010 - 13s/epoch - 355ms/step
