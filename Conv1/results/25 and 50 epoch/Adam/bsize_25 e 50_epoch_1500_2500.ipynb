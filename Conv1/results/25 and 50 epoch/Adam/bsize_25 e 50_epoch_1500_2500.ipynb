Loss: categorical_crossentropy
Epoch number: 25
fitting with batch size: 1500
Epoch 1/25
59/59 - 28s - loss: 1.5173 - accuracy: 0.3193 - val_loss: 1.7495 - val_accuracy: 0.1037 - lr: 0.0010 - 28s/epoch - 479ms/step
Epoch 2/25
59/59 - 9s - loss: 1.2006 - accuracy: 0.5105 - val_loss: 1.4898 - val_accuracy: 0.2400 - lr: 0.0010 - 9s/epoch - 159ms/step
Epoch 3/25
59/59 - 9s - loss: 1.0188 - accuracy: 0.6030 - val_loss: 1.3348 - val_accuracy: 0.3492 - lr: 0.0010 - 9s/epoch - 158ms/step
Epoch 4/25
59/59 - 9s - loss: 0.9517 - accuracy: 0.6324 - val_loss: 1.0980 - val_accuracy: 0.5074 - lr: 0.0010 - 9s/epoch - 159ms/step
Epoch 5/25
59/59 - 10s - loss: 0.9138 - accuracy: 0.6479 - val_loss: 0.9850 - val_accuracy: 0.5584 - lr: 0.0010 - 10s/epoch - 162ms/step
Epoch 6/25
59/59 - 10s - loss: 0.8919 - accuracy: 0.6578 - val_loss: 0.8650 - val_accuracy: 0.6707 - lr: 0.0010 - 10s/epoch - 162ms/step
Epoch 7/25
59/59 - 10s - loss: 0.8668 - accuracy: 0.6680 - val_loss: 0.8613 - val_accuracy: 0.6855 - lr: 0.0010 - 10s/epoch - 162ms/step
Epoch 8/25
59/59 - 11s - loss: 0.8573 - accuracy: 0.6721 - val_loss: 0.8546 - val_accuracy: 0.6924 - lr: 0.0010 - 11s/epoch - 178ms/step
Epoch 9/25
59/59 - 10s - loss: 0.8458 - accuracy: 0.6775 - val_loss: 0.7689 - val_accuracy: 0.7426 - lr: 0.0010 - 10s/epoch - 165ms/step
Epoch 10/25
59/59 - 9s - loss: 0.8341 - accuracy: 0.6838 - val_loss: 0.8848 - val_accuracy: 0.6885 - lr: 0.0010 - 9s/epoch - 160ms/step
Epoch 11/25
59/59 - 10s - loss: 0.8251 - accuracy: 0.6866 - val_loss: 0.7521 - val_accuracy: 0.7402 - lr: 0.0010 - 10s/epoch - 161ms/step
Epoch 12/25
59/59 - 9s - loss: 0.8175 - accuracy: 0.6894 - val_loss: 0.7985 - val_accuracy: 0.7121 - lr: 0.0010 - 9s/epoch - 161ms/step
Epoch 13/25
59/59 - 9s - loss: 0.8095 - accuracy: 0.6924 - val_loss: 0.8359 - val_accuracy: 0.6902 - lr: 0.0010 - 9s/epoch - 160ms/step
Epoch 14/25
59/59 - 9s - loss: 0.8046 - accuracy: 0.6947 - val_loss: 0.7437 - val_accuracy: 0.7427 - lr: 0.0010 - 9s/epoch - 157ms/step
Epoch 15/25
59/59 - 9s - loss: 0.7955 - accuracy: 0.6988 - val_loss: 0.7925 - val_accuracy: 0.7001 - lr: 0.0010 - 9s/epoch - 152ms/step
Epoch 16/25
59/59 - 9s - loss: 0.7957 - accuracy: 0.6975 - val_loss: 0.7393 - val_accuracy: 0.7505 - lr: 0.0010 - 9s/epoch - 155ms/step
Epoch 17/25
59/59 - 9s - loss: 0.7917 - accuracy: 0.7007 - val_loss: 0.7536 - val_accuracy: 0.7300 - lr: 0.0010 - 9s/epoch - 154ms/step
Epoch 18/25
59/59 - 9s - loss: 0.7844 - accuracy: 0.7034 - val_loss: 0.7548 - val_accuracy: 0.7449 - lr: 0.0010 - 9s/epoch - 154ms/step
Epoch 19/25
59/59 - 9s - loss: 0.7815 - accuracy: 0.7043 - val_loss: 0.7275 - val_accuracy: 0.7427 - lr: 0.0010 - 9s/epoch - 150ms/step
Epoch 20/25
59/59 - 14s - loss: 0.7751 - accuracy: 0.7070 - val_loss: 0.6759 - val_accuracy: 0.7898 - lr: 0.0010 - 14s/epoch - 234ms/step
Epoch 21/25
59/59 - 15s - loss: 0.7728 - accuracy: 0.7086 - val_loss: 0.7031 - val_accuracy: 0.7696 - lr: 0.0010 - 15s/epoch - 246ms/step
Epoch 22/25
59/59 - 14s - loss: 0.7691 - accuracy: 0.7095 - val_loss: 0.7540 - val_accuracy: 0.7483 - lr: 0.0010 - 14s/epoch - 238ms/step
Epoch 23/25
59/59 - 13s - loss: 0.7668 - accuracy: 0.7109 - val_loss: 0.7793 - val_accuracy: 0.7366 - lr: 0.0010 - 13s/epoch - 222ms/step
Epoch 24/25
59/59 - 13s - loss: 0.7593 - accuracy: 0.7134 - val_loss: 0.6956 - val_accuracy: 0.7836 - lr: 0.0010 - 13s/epoch - 218ms/step
Epoch 25/25
59/59 - 13s - loss: 0.7564 - accuracy: 0.7153 - val_loss: 0.5891 - val_accuracy: 0.8116 - lr: 0.0010 - 13s/epoch - 219ms/step
fitting with batch size: 2500
Epoch 1/25
36/36 - 17s - loss: 0.7503 - accuracy: 0.7163 - val_loss: 0.6243 - val_accuracy: 0.8047 - lr: 0.0010 - 17s/epoch - 470ms/step
Epoch 2/25
36/36 - 13s - loss: 0.7536 - accuracy: 0.7167 - val_loss: 0.8040 - val_accuracy: 0.7183 - lr: 0.0010 - 13s/epoch - 361ms/step
Epoch 3/25
36/36 - 13s - loss: 0.7577 - accuracy: 0.7147 - val_loss: 0.6994 - val_accuracy: 0.7720 - lr: 0.0010 - 13s/epoch - 360ms/step
Epoch 4/25
36/36 - 13s - loss: 0.7566 - accuracy: 0.7148 - val_loss: 0.6551 - val_accuracy: 0.7967 - lr: 0.0010 - 13s/epoch - 357ms/step
Epoch 5/25
36/36 - 13s - loss: 0.7458 - accuracy: 0.7180 - val_loss: 0.6761 - val_accuracy: 0.7868 - lr: 0.0010 - 13s/epoch - 352ms/step
Epoch 6/25
36/36 - 13s - loss: 0.7504 - accuracy: 0.7167 - val_loss: 0.7174 - val_accuracy: 0.7718 - lr: 0.0010 - 13s/epoch - 361ms/step
Epoch 7/25
36/36 - 13s - loss: 0.7472 - accuracy: 0.7189 - val_loss: 0.6522 - val_accuracy: 0.8006 - lr: 0.0010 - 13s/epoch - 367ms/step
Epoch 8/25
36/36 - 13s - loss: 0.7455 - accuracy: 0.7177 - val_loss: 0.6773 - val_accuracy: 0.7977 - lr: 0.0010 - 13s/epoch - 368ms/step
Epoch 9/25
36/36 - 13s - loss: 0.7464 - accuracy: 0.7168 - val_loss: 0.6973 - val_accuracy: 0.7793 - lr: 0.0010 - 13s/epoch - 357ms/step
Epoch 10/25
36/36 - 13s - loss: 0.7451 - accuracy: 0.7168 - val_loss: 0.7174 - val_accuracy: 0.7665 - lr: 0.0010 - 13s/epoch - 353ms/step
Epoch 11/25
36/36 - 13s - loss: 0.7381 - accuracy: 0.7216 - val_loss: 0.6456 - val_accuracy: 0.7930 - lr: 0.0010 - 13s/epoch - 354ms/step
Epoch 12/25
36/36 - 13s - loss: 0.7454 - accuracy: 0.7188 - val_loss: 0.6448 - val_accuracy: 0.8258 - lr: 0.0010 - 13s/epoch - 370ms/step
Epoch 13/25
36/36 - 13s - loss: 0.7350 - accuracy: 0.7235 - val_loss: 0.7495 - val_accuracy: 0.7719 - lr: 0.0010 - 13s/epoch - 373ms/step
Epoch 14/25
36/36 - 13s - loss: 0.7384 - accuracy: 0.7226 - val_loss: 0.6476 - val_accuracy: 0.8011 - lr: 0.0010 - 13s/epoch - 358ms/step
Epoch 15/25
36/36 - 13s - loss: 0.7308 - accuracy: 0.7242 - val_loss: 0.7107 - val_accuracy: 0.7600 - lr: 0.0010 - 13s/epoch - 355ms/step
Epoch 16/25
36/36 - 13s - loss: 0.7377 - accuracy: 0.7207 - val_loss: 0.6519 - val_accuracy: 0.7772 - lr: 0.0010 - 13s/epoch - 348ms/step
Epoch 17/25
36/36 - 14s - loss: 0.7340 - accuracy: 0.7222 - val_loss: 0.7147 - val_accuracy: 0.7457 - lr: 0.0010 - 14s/epoch - 379ms/step
Epoch 18/25
36/36 - 13s - loss: 0.7330 - accuracy: 0.7234 - val_loss: 0.6949 - val_accuracy: 0.7727 - lr: 0.0010 - 13s/epoch - 371ms/step
Epoch 19/25
36/36 - 13s - loss: 0.7328 - accuracy: 0.7228 - val_loss: 0.7937 - val_accuracy: 0.7289 - lr: 0.0010 - 13s/epoch - 363ms/step
Epoch 20/25
36/36 - 13s - loss: 0.7230 - accuracy: 0.7280 - val_loss: 0.5905 - val_accuracy: 0.8224 - lr: 0.0010 - 13s/epoch - 364ms/step
Epoch 21/25
36/36 - 13s - loss: 0.7253 - accuracy: 0.7257 - val_loss: 0.6739 - val_accuracy: 0.7870 - lr: 0.0010 - 13s/epoch - 360ms/step
Epoch 22/25
36/36 - 13s - loss: 0.7251 - accuracy: 0.7264 - val_loss: 0.6511 - val_accuracy: 0.7876 - lr: 0.0010 - 13s/epoch - 354ms/step
Epoch 23/25
36/36 - 13s - loss: 0.7224 - accuracy: 0.7277 - val_loss: 0.5740 - val_accuracy: 0.8357 - lr: 0.0010 - 13s/epoch - 357ms/step
Epoch 24/25
36/36 - 13s - loss: 0.7237 - accuracy: 0.7271 - val_loss: 0.6526 - val_accuracy: 0.7957 - lr: 0.0010 - 13s/epoch - 361ms/step
Epoch 25/25
36/36 - 14s - loss: 0.7330 - accuracy: 0.7243 - val_loss: 0.6936 - val_accuracy: 0.7858 - lr: 0.0010 - 14s/epoch - 379ms/step
Epoch number: 50
fitting with batch size: 1500
Epoch 1/50
59/59 - 18s - loss: 0.7177 - accuracy: 0.7294 - val_loss: 0.6964 - val_accuracy: 0.7786 - lr: 0.0010 - 18s/epoch - 303ms/step
Epoch 2/50
59/59 - 14s - loss: 0.7126 - accuracy: 0.7321 - val_loss: 0.6690 - val_accuracy: 0.7841 - lr: 0.0010 - 14s/epoch - 243ms/step
Epoch 3/50
59/59 - 15s - loss: 0.7161 - accuracy: 0.7309 - val_loss: 0.6551 - val_accuracy: 0.7902 - lr: 0.0010 - 15s/epoch - 251ms/step
Epoch 4/50
59/59 - 15s - loss: 0.7074 - accuracy: 0.7334 - val_loss: 0.6762 - val_accuracy: 0.7740 - lr: 0.0010 - 15s/epoch - 249ms/step
Epoch 5/50
59/59 - 15s - loss: 0.7066 - accuracy: 0.7327 - val_loss: 0.6427 - val_accuracy: 0.7971 - lr: 0.0010 - 15s/epoch - 250ms/step
Epoch 6/50
59/59 - 15s - loss: 0.7025 - accuracy: 0.7351 - val_loss: 0.6799 - val_accuracy: 0.8067 - lr: 0.0010 - 15s/epoch - 252ms/step
Epoch 7/50
59/59 - 15s - loss: 0.6989 - accuracy: 0.7356 - val_loss: 0.6488 - val_accuracy: 0.7978 - lr: 0.0010 - 15s/epoch - 248ms/step
Epoch 8/50
59/59 - 15s - loss: 0.7010 - accuracy: 0.7344 - val_loss: 0.5923 - val_accuracy: 0.8147 - lr: 0.0010 - 15s/epoch - 252ms/step
Epoch 9/50
59/59 - 14s - loss: 0.6961 - accuracy: 0.7376 - val_loss: 0.5800 - val_accuracy: 0.8293 - lr: 0.0010 - 14s/epoch - 243ms/step
Epoch 10/50
59/59 - 14s - loss: 0.6919 - accuracy: 0.7404 - val_loss: 0.6218 - val_accuracy: 0.8189 - lr: 0.0010 - 14s/epoch - 245ms/step
Epoch 11/50
59/59 - 15s - loss: 0.6904 - accuracy: 0.7390 - val_loss: 0.6823 - val_accuracy: 0.7956 - lr: 0.0010 - 15s/epoch - 252ms/step
Epoch 12/50
59/59 - 15s - loss: 0.6887 - accuracy: 0.7412 - val_loss: 0.6822 - val_accuracy: 0.7835 - lr: 0.0010 - 15s/epoch - 251ms/step
Epoch 13/50
59/59 - 14s - loss: 0.6863 - accuracy: 0.7422 - val_loss: 0.6546 - val_accuracy: 0.7914 - lr: 0.0010 - 14s/epoch - 244ms/step
Epoch 14/50
59/59 - 15s - loss: 0.6815 - accuracy: 0.7422 - val_loss: 0.6666 - val_accuracy: 0.7832 - lr: 0.0010 - 15s/epoch - 246ms/step
Epoch 15/50
59/59 - 15s - loss: 0.6789 - accuracy: 0.7449 - val_loss: 0.6179 - val_accuracy: 0.8207 - lr: 0.0010 - 15s/epoch - 249ms/step
Epoch 16/50
59/59 - 14s - loss: 0.6765 - accuracy: 0.7446 - val_loss: 0.6390 - val_accuracy: 0.8076 - lr: 0.0010 - 14s/epoch - 243ms/step
Epoch 17/50
59/59 - 14s - loss: 0.6748 - accuracy: 0.7463 - val_loss: 0.6524 - val_accuracy: 0.8052 - lr: 0.0010 - 14s/epoch - 241ms/step
Epoch 18/50
59/59 - 12s - loss: 0.6708 - accuracy: 0.7466 - val_loss: 0.6001 - val_accuracy: 0.8183 - lr: 0.0010 - 12s/epoch - 211ms/step
Epoch 19/50
59/59 - 9s - loss: 0.6734 - accuracy: 0.7462 - val_loss: 0.6605 - val_accuracy: 0.7938 - lr: 0.0010 - 9s/epoch - 157ms/step
Epoch 20/50
59/59 - 9s - loss: 0.6700 - accuracy: 0.7478 - val_loss: 0.6722 - val_accuracy: 0.7884 - lr: 0.0010 - 9s/epoch - 157ms/step
Epoch 21/50
59/59 - 9s - loss: 0.6633 - accuracy: 0.7487 - val_loss: 0.6502 - val_accuracy: 0.7966 - lr: 0.0010 - 9s/epoch - 158ms/step
Epoch 22/50
59/59 - 13s - loss: 0.6637 - accuracy: 0.7496 - val_loss: 0.6839 - val_accuracy: 0.7812 - lr: 0.0010 - 13s/epoch - 224ms/step
Epoch 23/50
59/59 - 14s - loss: 0.6563 - accuracy: 0.7519 - val_loss: 0.6797 - val_accuracy: 0.7807 - lr: 0.0010 - 14s/epoch - 237ms/step
Epoch 24/50
59/59 - 14s - loss: 0.6591 - accuracy: 0.7505 - val_loss: 0.6980 - val_accuracy: 0.7750 - lr: 0.0010 - 14s/epoch - 242ms/step
Epoch 25/50
59/59 - 15s - loss: 0.6553 - accuracy: 0.7513 - val_loss: 0.5736 - val_accuracy: 0.8214 - lr: 0.0010 - 15s/epoch - 255ms/step
Epoch 26/50
59/59 - 15s - loss: 0.6502 - accuracy: 0.7553 - val_loss: 0.6637 - val_accuracy: 0.7886 - lr: 0.0010 - 15s/epoch - 256ms/step
Epoch 27/50
59/59 - 15s - loss: 0.6473 - accuracy: 0.7562 - val_loss: 0.6943 - val_accuracy: 0.7775 - lr: 0.0010 - 15s/epoch - 257ms/step
Epoch 28/50
59/59 - 15s - loss: 0.6466 - accuracy: 0.7555 - val_loss: 0.6287 - val_accuracy: 0.7986 - lr: 0.0010 - 15s/epoch - 256ms/step
Epoch 29/50
59/59 - 14s - loss: 0.6452 - accuracy: 0.7562 - val_loss: 0.6824 - val_accuracy: 0.7854 - lr: 0.0010 - 14s/epoch - 243ms/step
Epoch 30/50
59/59 - 14s - loss: 0.6433 - accuracy: 0.7577 - val_loss: 0.6199 - val_accuracy: 0.8152 - lr: 0.0010 - 14s/epoch - 233ms/step
Epoch 31/50
59/59 - 15s - loss: 0.6392 - accuracy: 0.7585 - val_loss: 0.6332 - val_accuracy: 0.8024 - lr: 0.0010 - 15s/epoch - 256ms/step
Epoch 32/50
59/59 - 15s - loss: 0.6404 - accuracy: 0.7586 - val_loss: 0.6435 - val_accuracy: 0.8150 - lr: 0.0010 - 15s/epoch - 254ms/step
Epoch 33/50
59/59 - 15s - loss: 0.6339 - accuracy: 0.7601 - val_loss: 0.6575 - val_accuracy: 0.7899 - lr: 0.0010 - 15s/epoch - 262ms/step
Epoch 34/50
59/59 - 15s - loss: 0.6345 - accuracy: 0.7607 - val_loss: 0.6246 - val_accuracy: 0.8004 - lr: 0.0010 - 15s/epoch - 252ms/step
Epoch 35/50
59/59 - 15s - loss: 0.6291 - accuracy: 0.7626 - val_loss: 0.5842 - val_accuracy: 0.8308 - lr: 0.0010 - 15s/epoch - 260ms/step
Epoch 36/50
59/59 - 14s - loss: 0.6230 - accuracy: 0.7636 - val_loss: 0.6735 - val_accuracy: 0.7775 - lr: 0.0010 - 14s/epoch - 242ms/step
Epoch 37/50
59/59 - 14s - loss: 0.6239 - accuracy: 0.7652 - val_loss: 0.6313 - val_accuracy: 0.8070 - lr: 0.0010 - 14s/epoch - 238ms/step
Epoch 38/50
59/59 - 15s - loss: 0.6260 - accuracy: 0.7637 - val_loss: 0.6002 - val_accuracy: 0.8272 - lr: 0.0010 - 15s/epoch - 248ms/step
Epoch 39/50
59/59 - 14s - loss: 0.6227 - accuracy: 0.7641 - val_loss: 0.6541 - val_accuracy: 0.7933 - lr: 0.0010 - 14s/epoch - 243ms/step
Epoch 40/50
59/59 - 13s - loss: 0.6186 - accuracy: 0.7662 - val_loss: 0.6091 - val_accuracy: 0.8086 - lr: 0.0010 - 13s/epoch - 228ms/step
Epoch 41/50
59/59 - 15s - loss: 0.6150 - accuracy: 0.7661 - val_loss: 0.6995 - val_accuracy: 0.7689 - lr: 0.0010 - 15s/epoch - 253ms/step
Epoch 42/50
59/59 - 16s - loss: 0.6136 - accuracy: 0.7691 - val_loss: 0.6381 - val_accuracy: 0.8121 - lr: 0.0010 - 16s/epoch - 273ms/step
Epoch 43/50
59/59 - 15s - loss: 0.6121 - accuracy: 0.7690 - val_loss: 0.6518 - val_accuracy: 0.7806 - lr: 0.0010 - 15s/epoch - 250ms/step
Epoch 44/50
59/59 - 14s - loss: 0.6100 - accuracy: 0.7697 - val_loss: 0.6318 - val_accuracy: 0.7965 - lr: 0.0010 - 14s/epoch - 242ms/step
Epoch 45/50
59/59 - 13s - loss: 0.6071 - accuracy: 0.7702 - val_loss: 0.6317 - val_accuracy: 0.7928 - lr: 0.0010 - 13s/epoch - 225ms/step
Epoch 46/50
59/59 - 13s - loss: 0.6077 - accuracy: 0.7701 - val_loss: 0.6432 - val_accuracy: 0.8070 - lr: 0.0010 - 13s/epoch - 221ms/step
Epoch 47/50
59/59 - 14s - loss: 0.6014 - accuracy: 0.7727 - val_loss: 0.5808 - val_accuracy: 0.8182 - lr: 0.0010 - 14s/epoch - 233ms/step
Epoch 48/50
59/59 - 14s - loss: 0.5976 - accuracy: 0.7736 - val_loss: 0.6397 - val_accuracy: 0.7934 - lr: 0.0010 - 14s/epoch - 243ms/step
Epoch 49/50
59/59 - 16s - loss: 0.5992 - accuracy: 0.7728 - val_loss: 0.6705 - val_accuracy: 0.7846 - lr: 0.0010 - 16s/epoch - 276ms/step
Epoch 50/50
59/59 - 16s - loss: 0.6032 - accuracy: 0.7728 - val_loss: 0.6239 - val_accuracy: 0.7976 - lr: 0.0010 - 16s/epoch - 272ms/step
fitting with batch size: 2500
Epoch 1/50
36/36 - 17s - loss: 0.5830 - accuracy: 0.7797 - val_loss: 0.5853 - val_accuracy: 0.8058 - lr: 0.0010 - 17s/epoch - 475ms/step
Epoch 2/50
36/36 - 14s - loss: 0.6247 - accuracy: 0.7634 - val_loss: 0.5735 - val_accuracy: 0.8441 - lr: 0.0010 - 14s/epoch - 382ms/step
Epoch 3/50
36/36 - 15s - loss: 0.6126 - accuracy: 0.7681 - val_loss: 0.6410 - val_accuracy: 0.7875 - lr: 0.0010 - 15s/epoch - 430ms/step
Epoch 4/50
36/36 - 17s - loss: 0.5891 - accuracy: 0.7770 - val_loss: 0.5996 - val_accuracy: 0.8076 - lr: 0.0010 - 17s/epoch - 474ms/step
Epoch 5/50
36/36 - 15s - loss: 0.5946 - accuracy: 0.7739 - val_loss: 0.6270 - val_accuracy: 0.7786 - lr: 0.0010 - 15s/epoch - 423ms/step
Epoch 6/50
36/36 - 15s - loss: 0.6125 - accuracy: 0.7678 - val_loss: 0.5087 - val_accuracy: 0.8459 - lr: 0.0010 - 15s/epoch - 405ms/step
Epoch 7/50
36/36 - 14s - loss: 0.6068 - accuracy: 0.7690 - val_loss: 0.6031 - val_accuracy: 0.8005 - lr: 0.0010 - 14s/epoch - 401ms/step
Epoch 8/50
36/36 - 14s - loss: 0.6045 - accuracy: 0.7709 - val_loss: 0.6371 - val_accuracy: 0.7754 - lr: 0.0010 - 14s/epoch - 389ms/step
Epoch 9/50
36/36 - 14s - loss: 0.5935 - accuracy: 0.7759 - val_loss: 0.6396 - val_accuracy: 0.7974 - lr: 0.0010 - 14s/epoch - 387ms/step
Epoch 10/50
36/36 - 14s - loss: 0.5877 - accuracy: 0.7777 - val_loss: 0.6076 - val_accuracy: 0.8106 - lr: 0.0010 - 14s/epoch - 392ms/step
Epoch 11/50
36/36 - 14s - loss: 0.5871 - accuracy: 0.7778 - val_loss: 0.6313 - val_accuracy: 0.7912 - lr: 0.0010 - 14s/epoch - 385ms/step
Epoch 12/50
36/36 - 14s - loss: 0.5963 - accuracy: 0.7746 - val_loss: 0.6030 - val_accuracy: 0.8146 - lr: 0.0010 - 14s/epoch - 388ms/step
Epoch 13/50
36/36 - 14s - loss: 0.5891 - accuracy: 0.7770 - val_loss: 0.5783 - val_accuracy: 0.8056 - lr: 0.0010 - 14s/epoch - 400ms/step
Epoch 14/50
36/36 - 14s - loss: 0.5871 - accuracy: 0.7780 - val_loss: 0.5623 - val_accuracy: 0.8223 - lr: 0.0010 - 14s/epoch - 379ms/step
Epoch 15/50
36/36 - 13s - loss: 0.5946 - accuracy: 0.7744 - val_loss: 0.4850 - val_accuracy: 0.8579 - lr: 0.0010 - 13s/epoch - 370ms/step
Epoch 16/50
36/36 - 14s - loss: 0.5845 - accuracy: 0.7791 - val_loss: 0.5600 - val_accuracy: 0.8346 - lr: 0.0010 - 14s/epoch - 394ms/step
Epoch 17/50
36/36 - 12s - loss: 0.5779 - accuracy: 0.7801 - val_loss: 0.6623 - val_accuracy: 0.7711 - lr: 0.0010 - 12s/epoch - 335ms/step
Epoch 18/50
36/36 - 16s - loss: 0.5875 - accuracy: 0.7773 - val_loss: 0.6260 - val_accuracy: 0.7814 - lr: 0.0010 - 16s/epoch - 441ms/step
Epoch 19/50
36/36 - 16s - loss: 0.5930 - accuracy: 0.7744 - val_loss: 0.5839 - val_accuracy: 0.8123 - lr: 0.0010 - 16s/epoch - 448ms/step
Epoch 20/50
36/36 - 14s - loss: 0.5782 - accuracy: 0.7819 - val_loss: 0.7012 - val_accuracy: 0.7490 - lr: 0.0010 - 14s/epoch - 399ms/step
Epoch 21/50
36/36 - 15s - loss: 0.5772 - accuracy: 0.7802 - val_loss: 0.6449 - val_accuracy: 0.7847 - lr: 0.0010 - 15s/epoch - 412ms/step
Epoch 22/50
36/36 - 14s - loss: 0.5907 - accuracy: 0.7762 - val_loss: 0.6295 - val_accuracy: 0.7956 - lr: 0.0010 - 14s/epoch - 394ms/step
Epoch 23/50
36/36 - 16s - loss: 0.5833 - accuracy: 0.7786 - val_loss: 0.6547 - val_accuracy: 0.7753 - lr: 0.0010 - 16s/epoch - 439ms/step
Epoch 24/50
36/36 - 15s - loss: 0.5871 - accuracy: 0.7776 - val_loss: 0.7001 - val_accuracy: 0.7610 - lr: 0.0010 - 15s/epoch - 419ms/step
Epoch 25/50
36/36 - 15s - loss: 0.5752 - accuracy: 0.7824 - val_loss: 0.6559 - val_accuracy: 0.7648 - lr: 0.0010 - 15s/epoch - 410ms/step
Epoch 26/50
36/36 - 15s - loss: 0.5781 - accuracy: 0.7817 - val_loss: 0.6167 - val_accuracy: 0.8130 - lr: 0.0010 - 15s/epoch - 420ms/step
Epoch 27/50
36/36 - 15s - loss: 0.5765 - accuracy: 0.7803 - val_loss: 0.7225 - val_accuracy: 0.7364 - lr: 0.0010 - 15s/epoch - 423ms/step
Epoch 28/50
36/36 - 14s - loss: 0.5805 - accuracy: 0.7792 - val_loss: 0.6566 - val_accuracy: 0.7910 - lr: 0.0010 - 14s/epoch - 392ms/step
Epoch 29/50
36/36 - 13s - loss: 0.5800 - accuracy: 0.7785 - val_loss: 0.6759 - val_accuracy: 0.7587 - lr: 0.0010 - 13s/epoch - 374ms/step
Epoch 30/50
36/36 - 13s - loss: 0.5986 - accuracy: 0.7719 - val_loss: 0.7066 - val_accuracy: 0.7709 - lr: 0.0010 - 13s/epoch - 369ms/step
Epoch 31/50
36/36 - 13s - loss: 0.5766 - accuracy: 0.7828 - val_loss: 0.5551 - val_accuracy: 0.8203 - lr: 0.0010 - 13s/epoch - 351ms/step
Epoch 32/50
36/36 - 14s - loss: 0.5823 - accuracy: 0.7784 - val_loss: 0.5385 - val_accuracy: 0.8372 - lr: 0.0010 - 14s/epoch - 381ms/step
Epoch 33/50
36/36 - 13s - loss: 0.5659 - accuracy: 0.7852 - val_loss: 0.6215 - val_accuracy: 0.7883 - lr: 0.0010 - 13s/epoch - 363ms/step
Epoch 34/50
36/36 - 14s - loss: 0.5677 - accuracy: 0.7843 - val_loss: 0.6778 - val_accuracy: 0.7801 - lr: 0.0010 - 14s/epoch - 390ms/step
Epoch 35/50
36/36 - 14s - loss: 0.5904 - accuracy: 0.7756 - val_loss: 0.6964 - val_accuracy: 0.7626 - lr: 0.0010 - 14s/epoch - 392ms/step
Epoch 36/50
36/36 - 15s - loss: 0.5618 - accuracy: 0.7859 - val_loss: 0.5786 - val_accuracy: 0.8229 - lr: 0.0010 - 15s/epoch - 428ms/step
Epoch 37/50
36/36 - 16s - loss: 0.5721 - accuracy: 0.7823 - val_loss: 0.5484 - val_accuracy: 0.8217 - lr: 0.0010 - 16s/epoch - 431ms/step
Epoch 38/50
36/36 - 15s - loss: 0.5731 - accuracy: 0.7823 - val_loss: 0.6536 - val_accuracy: 0.7811 - lr: 0.0010 - 15s/epoch - 409ms/step
Epoch 39/50
36/36 - 14s - loss: 0.5907 - accuracy: 0.7761 - val_loss: 0.7063 - val_accuracy: 0.7364 - lr: 0.0010 - 14s/epoch - 399ms/step
Epoch 40/50
36/36 - 16s - loss: 0.5866 - accuracy: 0.7772 - val_loss: 0.6000 - val_accuracy: 0.7933 - lr: 0.0010 - 16s/epoch - 437ms/step
Epoch 41/50
36/36 - 17s - loss: 0.5612 - accuracy: 0.7874 - val_loss: 0.5544 - val_accuracy: 0.8204 - lr: 0.0010 - 17s/epoch - 461ms/step
Epoch 42/50
36/36 - 15s - loss: 0.5566 - accuracy: 0.7882 - val_loss: 0.6489 - val_accuracy: 0.7848 - lr: 0.0010 - 15s/epoch - 420ms/step
Epoch 43/50
36/36 - 16s - loss: 0.5641 - accuracy: 0.7858 - val_loss: 0.6095 - val_accuracy: 0.7942 - lr: 0.0010 - 16s/epoch - 447ms/step
Epoch 44/50
36/36 - 16s - loss: 0.5534 - accuracy: 0.7900 - val_loss: 0.6304 - val_accuracy: 0.7973 - lr: 0.0010 - 16s/epoch - 439ms/step
Epoch 45/50
36/36 - 16s - loss: 0.5480 - accuracy: 0.7918 - val_loss: 0.6344 - val_accuracy: 0.8043 - lr: 0.0010 - 16s/epoch - 434ms/step
Epoch 46/50
36/36 - 16s - loss: 0.5705 - accuracy: 0.7821 - val_loss: 0.7249 - val_accuracy: 0.7520 - lr: 0.0010 - 16s/epoch - 435ms/step
Epoch 47/50
36/36 - 15s - loss: 0.5625 - accuracy: 0.7851 - val_loss: 0.5312 - val_accuracy: 0.8420 - lr: 0.0010 - 15s/epoch - 417ms/step
Epoch 48/50
36/36 - 16s - loss: 0.5671 - accuracy: 0.7850 - val_loss: 0.5837 - val_accuracy: 0.8253 - lr: 0.0010 - 16s/epoch - 453ms/step
Epoch 49/50
36/36 - 16s - loss: 0.5618 - accuracy: 0.7865 - val_loss: 0.5823 - val_accuracy: 0.8272 - lr: 0.0010 - 16s/epoch - 438ms/step
Epoch 50/50
36/36 - 15s - loss: 0.5654 - accuracy: 0.7855 - val_loss: 0.6066 - val_accuracy: 0.8081 - lr: 0.0010 - 15s/epoch - 430ms/step
Loss: binary_crossentropy
Epoch number: 25
fitting with batch size: 1500
Epoch 1/25
59/59 - 20s - loss: 0.1949 - accuracy: 0.7866 - val_loss: 0.2213 - val_accuracy: 0.8043 - lr: 0.0010 - 20s/epoch - 331ms/step
Epoch 2/25
59/59 - 15s - loss: 0.1810 - accuracy: 0.8045 - val_loss: 0.2289 - val_accuracy: 0.7810 - lr: 0.0010 - 15s/epoch - 261ms/step
Epoch 3/25
59/59 - 15s - loss: 0.1821 - accuracy: 0.8033 - val_loss: 0.2105 - val_accuracy: 0.8110 - lr: 0.0010 - 15s/epoch - 259ms/step
Epoch 4/25
59/59 - 16s - loss: 0.1822 - accuracy: 0.8016 - val_loss: 0.2001 - val_accuracy: 0.8309 - lr: 0.0010 - 16s/epoch - 266ms/step
Epoch 5/25
59/59 - 16s - loss: 0.1839 - accuracy: 0.8005 - val_loss: 0.2328 - val_accuracy: 0.7825 - lr: 0.0010 - 16s/epoch - 264ms/step
Epoch 6/25
59/59 - 14s - loss: 0.1860 - accuracy: 0.7983 - val_loss: 0.2231 - val_accuracy: 0.7962 - lr: 0.0010 - 14s/epoch - 242ms/step
Epoch 7/25
59/59 - 15s - loss: 0.1873 - accuracy: 0.7955 - val_loss: 0.2252 - val_accuracy: 0.8070 - lr: 0.0010 - 15s/epoch - 258ms/step
Epoch 8/25
59/59 - 15s - loss: 0.1865 - accuracy: 0.7974 - val_loss: 0.2533 - val_accuracy: 0.7508 - lr: 0.0010 - 15s/epoch - 254ms/step
Epoch 9/25
59/59 - 17s - loss: 0.1870 - accuracy: 0.7954 - val_loss: 0.2252 - val_accuracy: 0.7903 - lr: 0.0010 - 17s/epoch - 280ms/step
Epoch 10/25
59/59 - 16s - loss: 0.1874 - accuracy: 0.7963 - val_loss: 0.2467 - val_accuracy: 0.7764 - lr: 0.0010 - 16s/epoch - 277ms/step
Epoch 11/25
59/59 - 16s - loss: 0.1853 - accuracy: 0.7983 - val_loss: 0.2243 - val_accuracy: 0.7940 - lr: 0.0010 - 16s/epoch - 274ms/step
Epoch 12/25
59/59 - 16s - loss: 0.1858 - accuracy: 0.7973 - val_loss: 0.2523 - val_accuracy: 0.7560 - lr: 0.0010 - 16s/epoch - 266ms/step
Epoch 13/25
59/59 - 15s - loss: 0.1867 - accuracy: 0.7972 - val_loss: 0.2446 - val_accuracy: 0.7579 - lr: 0.0010 - 15s/epoch - 257ms/step
Epoch 14/25
59/59 - 16s - loss: 0.1839 - accuracy: 0.8011 - val_loss: 0.2089 - val_accuracy: 0.8168 - lr: 0.0010 - 16s/epoch - 266ms/step
Epoch 15/25
59/59 - 16s - loss: 0.1830 - accuracy: 0.8010 - val_loss: 0.2130 - val_accuracy: 0.8113 - lr: 0.0010 - 16s/epoch - 268ms/step
Epoch 16/25
59/59 - 16s - loss: 0.1847 - accuracy: 0.7991 - val_loss: 0.2360 - val_accuracy: 0.7972 - lr: 0.0010 - 16s/epoch - 276ms/step
Epoch 17/25
59/59 - 15s - loss: 0.1830 - accuracy: 0.8009 - val_loss: 0.2494 - val_accuracy: 0.7783 - lr: 0.0010 - 15s/epoch - 253ms/step
Epoch 18/25
59/59 - 15s - loss: 0.1842 - accuracy: 0.7993 - val_loss: 0.2347 - val_accuracy: 0.7936 - lr: 0.0010 - 15s/epoch - 249ms/step
Epoch 19/25
59/59 - 15s - loss: 0.1810 - accuracy: 0.8028 - val_loss: 0.2369 - val_accuracy: 0.7815 - lr: 0.0010 - 15s/epoch - 247ms/step
Epoch 20/25
59/59 - 15s - loss: 0.1812 - accuracy: 0.8022 - val_loss: 0.2277 - val_accuracy: 0.7902 - lr: 0.0010 - 15s/epoch - 249ms/step
Epoch 21/25
59/59 - 17s - loss: 0.1815 - accuracy: 0.8024 - val_loss: 0.2260 - val_accuracy: 0.7859 - lr: 0.0010 - 17s/epoch - 285ms/step
Epoch 22/25
59/59 - 17s - loss: 0.1803 - accuracy: 0.8037 - val_loss: 0.2480 - val_accuracy: 0.7674 - lr: 0.0010 - 17s/epoch - 284ms/step
Epoch 23/25
59/59 - 16s - loss: 0.1837 - accuracy: 0.8000 - val_loss: 0.2305 - val_accuracy: 0.7880 - lr: 0.0010 - 16s/epoch - 264ms/step
Epoch 24/25
59/59 - 16s - loss: 0.1793 - accuracy: 0.8061 - val_loss: 0.2355 - val_accuracy: 0.7702 - lr: 0.0010 - 16s/epoch - 276ms/step
Epoch 25/25
59/59 - 15s - loss: 0.1809 - accuracy: 0.8023 - val_loss: 0.2361 - val_accuracy: 0.7700 - lr: 0.0010 - 15s/epoch - 257ms/step
fitting with batch size: 2500
Epoch 1/25
36/36 - 18s - loss: 0.1730 - accuracy: 0.8135 - val_loss: 0.2713 - val_accuracy: 0.7242 - lr: 0.0010 - 18s/epoch - 494ms/step
Epoch 2/25
36/36 - 13s - loss: 0.1835 - accuracy: 0.8017 - val_loss: 0.2393 - val_accuracy: 0.7722 - lr: 0.0010 - 13s/epoch - 364ms/step
Epoch 3/25
36/36 - 13s - loss: 0.1805 - accuracy: 0.8046 - val_loss: 0.2123 - val_accuracy: 0.8139 - lr: 0.0010 - 13s/epoch - 373ms/step
Epoch 4/25
36/36 - 13s - loss: 0.1789 - accuracy: 0.8052 - val_loss: 0.2239 - val_accuracy: 0.7840 - lr: 0.0010 - 13s/epoch - 374ms/step
Epoch 5/25
36/36 - 14s - loss: 0.1798 - accuracy: 0.8046 - val_loss: 0.2044 - val_accuracy: 0.8089 - lr: 0.0010 - 14s/epoch - 400ms/step
Epoch 6/25
36/36 - 14s - loss: 0.1843 - accuracy: 0.7995 - val_loss: 0.2250 - val_accuracy: 0.7792 - lr: 0.0010 - 14s/epoch - 396ms/step
Epoch 7/25
36/36 - 13s - loss: 0.1830 - accuracy: 0.8014 - val_loss: 0.1990 - val_accuracy: 0.8174 - lr: 0.0010 - 13s/epoch - 370ms/step
Epoch 8/25
36/36 - 13s - loss: 0.1792 - accuracy: 0.8056 - val_loss: 0.2208 - val_accuracy: 0.7912 - lr: 0.0010 - 13s/epoch - 373ms/step
Epoch 9/25
36/36 - 14s - loss: 0.1778 - accuracy: 0.8064 - val_loss: 0.2419 - val_accuracy: 0.7638 - lr: 0.0010 - 14s/epoch - 379ms/step
Epoch 10/25
36/36 - 13s - loss: 0.1810 - accuracy: 0.8042 - val_loss: 0.2104 - val_accuracy: 0.8091 - lr: 0.0010 - 13s/epoch - 373ms/step
Epoch 11/25
36/36 - 14s - loss: 0.1850 - accuracy: 0.7977 - val_loss: 0.2084 - val_accuracy: 0.8136 - lr: 0.0010 - 14s/epoch - 394ms/step
Epoch 12/25
36/36 - 14s - loss: 0.1787 - accuracy: 0.8046 - val_loss: 0.2235 - val_accuracy: 0.7959 - lr: 0.0010 - 14s/epoch - 402ms/step
Epoch 13/25
36/36 - 15s - loss: 0.1757 - accuracy: 0.8096 - val_loss: 0.2466 - val_accuracy: 0.7489 - lr: 0.0010 - 15s/epoch - 405ms/step
Epoch 14/25
36/36 - 15s - loss: 0.1722 - accuracy: 0.8133 - val_loss: 0.2206 - val_accuracy: 0.7955 - lr: 0.0010 - 15s/epoch - 417ms/step
Epoch 15/25
36/36 - 14s - loss: 0.1762 - accuracy: 0.8087 - val_loss: 0.2290 - val_accuracy: 0.7839 - lr: 0.0010 - 14s/epoch - 384ms/step
Epoch 16/25
36/36 - 13s - loss: 0.1756 - accuracy: 0.8077 - val_loss: 0.2606 - val_accuracy: 0.7415 - lr: 0.0010 - 13s/epoch - 362ms/step
Epoch 17/25
36/36 - 13s - loss: 0.1786 - accuracy: 0.8060 - val_loss: 0.2288 - val_accuracy: 0.7764 - lr: 0.0010 - 13s/epoch - 363ms/step
Epoch 18/25
36/36 - 14s - loss: 0.1834 - accuracy: 0.7999 - val_loss: 0.2249 - val_accuracy: 0.7917 - lr: 0.0010 - 14s/epoch - 394ms/step
Epoch 19/25
36/36 - 15s - loss: 0.1817 - accuracy: 0.8022 - val_loss: 0.2133 - val_accuracy: 0.8133 - lr: 0.0010 - 15s/epoch - 406ms/step
Epoch 20/25
36/36 - 15s - loss: 0.1865 - accuracy: 0.7957 - val_loss: 0.2319 - val_accuracy: 0.7736 - lr: 0.0010 - 15s/epoch - 411ms/step
Epoch 21/25
36/36 - 15s - loss: 0.1828 - accuracy: 0.8008 - val_loss: 0.2210 - val_accuracy: 0.8004 - lr: 0.0010 - 15s/epoch - 411ms/step
Epoch 22/25
36/36 - 13s - loss: 0.1744 - accuracy: 0.8108 - val_loss: 0.2236 - val_accuracy: 0.7943 - lr: 0.0010 - 13s/epoch - 375ms/step
Epoch 23/25
36/36 - 15s - loss: 0.1731 - accuracy: 0.8133 - val_loss: 0.2206 - val_accuracy: 0.7956 - lr: 0.0010 - 15s/epoch - 427ms/step
Epoch 24/25
36/36 - 15s - loss: 0.1769 - accuracy: 0.8087 - val_loss: 0.2171 - val_accuracy: 0.7981 - lr: 0.0010 - 15s/epoch - 418ms/step
Epoch 25/25
36/36 - 12s - loss: 0.1807 - accuracy: 0.8027 - val_loss: 0.2091 - val_accuracy: 0.8183 - lr: 0.0010 - 12s/epoch - 345ms/step
Epoch number: 50
fitting with batch size: 1500
Epoch 1/50
59/59 - 17s - loss: 0.1781 - accuracy: 0.8056 - val_loss: 0.2472 - val_accuracy: 0.7627 - lr: 0.0010 - 17s/epoch - 295ms/step
Epoch 2/50
59/59 - 14s - loss: 0.1719 - accuracy: 0.8129 - val_loss: 0.2163 - val_accuracy: 0.7999 - lr: 0.0010 - 14s/epoch - 232ms/step
Epoch 3/50
59/59 - 14s - loss: 0.1709 - accuracy: 0.8137 - val_loss: 0.2169 - val_accuracy: 0.8039 - lr: 0.0010 - 14s/epoch - 233ms/step
Epoch 4/50
59/59 - 14s - loss: 0.1735 - accuracy: 0.8114 - val_loss: 0.2098 - val_accuracy: 0.8084 - lr: 0.0010 - 14s/epoch - 243ms/step
Epoch 5/50
59/59 - 15s - loss: 0.1738 - accuracy: 0.8104 - val_loss: 0.2079 - val_accuracy: 0.8145 - lr: 0.0010 - 15s/epoch - 248ms/step
Epoch 6/50
59/59 - 15s - loss: 0.1720 - accuracy: 0.8131 - val_loss: 0.2084 - val_accuracy: 0.8121 - lr: 0.0010 - 15s/epoch - 262ms/step
Epoch 7/50
59/59 - 15s - loss: 0.1739 - accuracy: 0.8102 - val_loss: 0.2226 - val_accuracy: 0.7949 - lr: 0.0010 - 15s/epoch - 260ms/step
Epoch 8/50
59/59 - 15s - loss: 0.1712 - accuracy: 0.8125 - val_loss: 0.2275 - val_accuracy: 0.7853 - lr: 0.0010 - 15s/epoch - 258ms/step
Epoch 9/50
59/59 - 14s - loss: 0.1705 - accuracy: 0.8155 - val_loss: 0.2365 - val_accuracy: 0.7708 - lr: 0.0010 - 14s/epoch - 245ms/step
Epoch 10/50
59/59 - 15s - loss: 0.1713 - accuracy: 0.8140 - val_loss: 0.2503 - val_accuracy: 0.7534 - lr: 0.0010 - 15s/epoch - 258ms/step
Epoch 11/50
59/59 - 15s - loss: 0.1689 - accuracy: 0.8163 - val_loss: 0.2358 - val_accuracy: 0.7747 - lr: 0.0010 - 15s/epoch - 250ms/step
Epoch 12/50
59/59 - 14s - loss: 0.1709 - accuracy: 0.8135 - val_loss: 0.2312 - val_accuracy: 0.7794 - lr: 0.0010 - 14s/epoch - 244ms/step
Epoch 13/50
59/59 - 15s - loss: 0.1691 - accuracy: 0.8164 - val_loss: 0.2229 - val_accuracy: 0.8100 - lr: 0.0010 - 15s/epoch - 248ms/step
Epoch 14/50
59/59 - 15s - loss: 0.1702 - accuracy: 0.8146 - val_loss: 0.2297 - val_accuracy: 0.7754 - lr: 0.0010 - 15s/epoch - 252ms/step
Epoch 15/50
59/59 - 14s - loss: 0.1670 - accuracy: 0.8184 - val_loss: 0.2238 - val_accuracy: 0.7906 - lr: 0.0010 - 14s/epoch - 245ms/step
Epoch 16/50
59/59 - 14s - loss: 0.1692 - accuracy: 0.8166 - val_loss: 0.2385 - val_accuracy: 0.7647 - lr: 0.0010 - 14s/epoch - 238ms/step
Epoch 17/50
59/59 - 10s - loss: 0.1665 - accuracy: 0.8192 - val_loss: 0.2093 - val_accuracy: 0.8158 - lr: 0.0010 - 10s/epoch - 163ms/step
Epoch 18/50
59/59 - 9s - loss: 0.1680 - accuracy: 0.8178 - val_loss: 0.2120 - val_accuracy: 0.8109 - lr: 0.0010 - 9s/epoch - 159ms/step
Epoch 19/50
59/59 - 12s - loss: 0.1655 - accuracy: 0.8212 - val_loss: 0.2210 - val_accuracy: 0.8020 - lr: 0.0010 - 12s/epoch - 211ms/step
Epoch 20/50
59/59 - 14s - loss: 0.1650 - accuracy: 0.8218 - val_loss: 0.2175 - val_accuracy: 0.8076 - lr: 0.0010 - 14s/epoch - 241ms/step
Epoch 21/50
59/59 - 14s - loss: 0.1650 - accuracy: 0.8192 - val_loss: 0.2303 - val_accuracy: 0.8019 - lr: 0.0010 - 14s/epoch - 243ms/step
Epoch 22/50
59/59 - 14s - loss: 0.1657 - accuracy: 0.8200 - val_loss: 0.2463 - val_accuracy: 0.7710 - lr: 0.0010 - 14s/epoch - 244ms/step
Epoch 23/50
59/59 - 14s - loss: 0.1642 - accuracy: 0.8214 - val_loss: 0.2125 - val_accuracy: 0.8073 - lr: 0.0010 - 14s/epoch - 239ms/step
Epoch 24/50
59/59 - 14s - loss: 0.1653 - accuracy: 0.8201 - val_loss: 0.2193 - val_accuracy: 0.8033 - lr: 0.0010 - 14s/epoch - 243ms/step
Epoch 25/50
59/59 - 14s - loss: 0.1647 - accuracy: 0.8206 - val_loss: 0.2150 - val_accuracy: 0.8120 - lr: 0.0010 - 14s/epoch - 236ms/step
Epoch 26/50
59/59 - 14s - loss: 0.1622 - accuracy: 0.8236 - val_loss: 0.2228 - val_accuracy: 0.8023 - lr: 0.0010 - 14s/epoch - 238ms/step
Epoch 27/50
59/59 - 15s - loss: 0.1620 - accuracy: 0.8234 - val_loss: 0.2152 - val_accuracy: 0.8053 - lr: 0.0010 - 15s/epoch - 249ms/step
Epoch 28/50
59/59 - 15s - loss: 0.1642 - accuracy: 0.8205 - val_loss: 0.2293 - val_accuracy: 0.7930 - lr: 0.0010 - 15s/epoch - 259ms/step
Epoch 29/50
59/59 - 15s - loss: 0.1644 - accuracy: 0.8227 - val_loss: 0.2323 - val_accuracy: 0.7931 - lr: 0.0010 - 15s/epoch - 252ms/step
Epoch 30/50
59/59 - 15s - loss: 0.1649 - accuracy: 0.8213 - val_loss: 0.2217 - val_accuracy: 0.8076 - lr: 0.0010 - 15s/epoch - 261ms/step
Epoch 31/50
59/59 - 14s - loss: 0.1622 - accuracy: 0.8239 - val_loss: 0.1990 - val_accuracy: 0.8249 - lr: 0.0010 - 14s/epoch - 241ms/step
Epoch 32/50
59/59 - 13s - loss: 0.1617 - accuracy: 0.8249 - val_loss: 0.2098 - val_accuracy: 0.8264 - lr: 0.0010 - 13s/epoch - 215ms/step
Epoch 33/50
59/59 - 13s - loss: 0.1636 - accuracy: 0.8230 - val_loss: 0.2267 - val_accuracy: 0.7922 - lr: 0.0010 - 13s/epoch - 212ms/step
Epoch 34/50
59/59 - 13s - loss: 0.1617 - accuracy: 0.8251 - val_loss: 0.2207 - val_accuracy: 0.7980 - lr: 0.0010 - 13s/epoch - 213ms/step
Epoch 35/50
59/59 - 13s - loss: 0.1611 - accuracy: 0.8245 - val_loss: 0.2081 - val_accuracy: 0.8129 - lr: 0.0010 - 13s/epoch - 213ms/step
Epoch 36/50
59/59 - 12s - loss: 0.1604 - accuracy: 0.8263 - val_loss: 0.2307 - val_accuracy: 0.7924 - lr: 0.0010 - 12s/epoch - 212ms/step
Epoch 37/50
59/59 - 13s - loss: 0.1616 - accuracy: 0.8240 - val_loss: 0.2134 - val_accuracy: 0.8091 - lr: 0.0010 - 13s/epoch - 212ms/step
Epoch 38/50
59/59 - 12s - loss: 0.1601 - accuracy: 0.8262 - val_loss: 0.2147 - val_accuracy: 0.8140 - lr: 0.0010 - 12s/epoch - 210ms/step
Epoch 39/50
59/59 - 13s - loss: 0.1593 - accuracy: 0.8277 - val_loss: 0.2374 - val_accuracy: 0.7882 - lr: 0.0010 - 13s/epoch - 214ms/step
Epoch 40/50
59/59 - 13s - loss: 0.1613 - accuracy: 0.8244 - val_loss: 0.2147 - val_accuracy: 0.8123 - lr: 0.0010 - 13s/epoch - 213ms/step
Epoch 41/50
59/59 - 13s - loss: 0.1616 - accuracy: 0.8232 - val_loss: 0.2387 - val_accuracy: 0.7771 - lr: 0.0010 - 13s/epoch - 213ms/step
Epoch 42/50
59/59 - 13s - loss: 0.1586 - accuracy: 0.8288 - val_loss: 0.2246 - val_accuracy: 0.7953 - lr: 0.0010 - 13s/epoch - 221ms/step
Epoch 43/50
59/59 - 13s - loss: 0.1592 - accuracy: 0.8275 - val_loss: 0.2450 - val_accuracy: 0.7731 - lr: 0.0010 - 13s/epoch - 222ms/step
Epoch 44/50
59/59 - 12s - loss: 0.1591 - accuracy: 0.8273 - val_loss: 0.2517 - val_accuracy: 0.7653 - lr: 0.0010 - 12s/epoch - 211ms/step
Epoch 45/50
59/59 - 13s - loss: 0.1583 - accuracy: 0.8288 - val_loss: 0.2309 - val_accuracy: 0.7940 - lr: 0.0010 - 13s/epoch - 223ms/step
Epoch 46/50
59/59 - 14s - loss: 0.1570 - accuracy: 0.8305 - val_loss: 0.2288 - val_accuracy: 0.7914 - lr: 0.0010 - 14s/epoch - 243ms/step
Epoch 47/50
59/59 - 14s - loss: 0.1581 - accuracy: 0.8288 - val_loss: 0.2344 - val_accuracy: 0.7944 - lr: 0.0010 - 14s/epoch - 235ms/step
Epoch 48/50
59/59 - 14s - loss: 0.1586 - accuracy: 0.8274 - val_loss: 0.2266 - val_accuracy: 0.8031 - lr: 0.0010 - 14s/epoch - 230ms/step
Epoch 49/50
59/59 - 13s - loss: 0.1573 - accuracy: 0.8287 - val_loss: 0.2367 - val_accuracy: 0.7917 - lr: 0.0010 - 13s/epoch - 225ms/step
Epoch 50/50
59/59 - 13s - loss: 0.1571 - accuracy: 0.8289 - val_loss: 0.2142 - val_accuracy: 0.8162 - lr: 0.0010 - 13s/epoch - 225ms/step
fitting with batch size: 2500
Epoch 1/50
36/36 - 16s - loss: 0.1493 - accuracy: 0.8388 - val_loss: 0.2190 - val_accuracy: 0.8020 - lr: 0.0010 - 16s/epoch - 435ms/step
Epoch 2/50
36/36 - 12s - loss: 0.1587 - accuracy: 0.8274 - val_loss: 0.2086 - val_accuracy: 0.8188 - lr: 0.0010 - 12s/epoch - 336ms/step
Epoch 3/50
36/36 - 13s - loss: 0.1572 - accuracy: 0.8286 - val_loss: 0.2358 - val_accuracy: 0.7938 - lr: 0.0010 - 13s/epoch - 348ms/step
Epoch 4/50
36/36 - 13s - loss: 0.1653 - accuracy: 0.8199 - val_loss: 0.2260 - val_accuracy: 0.7914 - lr: 0.0010 - 13s/epoch - 350ms/step
Epoch 5/50
36/36 - 12s - loss: 0.1889 - accuracy: 0.7946 - val_loss: 0.2238 - val_accuracy: 0.8025 - lr: 0.0010 - 12s/epoch - 342ms/step
Epoch 6/50
36/36 - 13s - loss: 0.1650 - accuracy: 0.8212 - val_loss: 0.2287 - val_accuracy: 0.7984 - lr: 0.0010 - 13s/epoch - 356ms/step
Epoch 7/50
36/36 - 12s - loss: 0.1549 - accuracy: 0.8325 - val_loss: 0.1952 - val_accuracy: 0.8329 - lr: 0.0010 - 12s/epoch - 341ms/step
Epoch 8/50
36/36 - 12s - loss: 0.1704 - accuracy: 0.8150 - val_loss: 0.2044 - val_accuracy: 0.8239 - lr: 0.0010 - 12s/epoch - 328ms/step
Epoch 9/50
36/36 - 12s - loss: 0.1812 - accuracy: 0.8012 - val_loss: 0.2370 - val_accuracy: 0.7863 - lr: 0.0010 - 12s/epoch - 322ms/step
Epoch 10/50
36/36 - 12s - loss: 0.1617 - accuracy: 0.8243 - val_loss: 0.2164 - val_accuracy: 0.8037 - lr: 0.0010 - 12s/epoch - 328ms/step
Epoch 11/50
36/36 - 12s - loss: 0.1536 - accuracy: 0.8330 - val_loss: 0.2018 - val_accuracy: 0.8188 - lr: 0.0010 - 12s/epoch - 344ms/step
Epoch 12/50
36/36 - 14s - loss: 0.1592 - accuracy: 0.8268 - val_loss: 0.2150 - val_accuracy: 0.8093 - lr: 0.0010 - 14s/epoch - 392ms/step
Epoch 13/50
36/36 - 13s - loss: 0.1577 - accuracy: 0.8296 - val_loss: 0.2326 - val_accuracy: 0.7924 - lr: 0.0010 - 13s/epoch - 373ms/step
Epoch 14/50
36/36 - 13s - loss: 0.1576 - accuracy: 0.8283 - val_loss: 0.2391 - val_accuracy: 0.7949 - lr: 0.0010 - 13s/epoch - 347ms/step
Epoch 15/50
36/36 - 13s - loss: 0.1614 - accuracy: 0.8250 - val_loss: 0.2344 - val_accuracy: 0.7846 - lr: 0.0010 - 13s/epoch - 360ms/step
Epoch 16/50
36/36 - 13s - loss: 0.1527 - accuracy: 0.8354 - val_loss: 0.2015 - val_accuracy: 0.8245 - lr: 0.0010 - 13s/epoch - 352ms/step
Epoch 17/50
36/36 - 13s - loss: 0.1589 - accuracy: 0.8282 - val_loss: 0.2430 - val_accuracy: 0.7836 - lr: 0.0010 - 13s/epoch - 349ms/step
Epoch 18/50
36/36 - 12s - loss: 0.1584 - accuracy: 0.8282 - val_loss: 0.2079 - val_accuracy: 0.8186 - lr: 0.0010 - 12s/epoch - 347ms/step
Epoch 19/50
36/36 - 12s - loss: 0.1596 - accuracy: 0.8261 - val_loss: 0.2163 - val_accuracy: 0.7984 - lr: 0.0010 - 12s/epoch - 343ms/step
Epoch 20/50
36/36 - 11s - loss: 0.1800 - accuracy: 0.8034 - val_loss: 0.2400 - val_accuracy: 0.7802 - lr: 0.0010 - 11s/epoch - 299ms/step
Epoch 21/50
36/36 - 9s - loss: 0.1546 - accuracy: 0.8312 - val_loss: 0.2084 - val_accuracy: 0.8182 - lr: 0.0010 - 9s/epoch - 242ms/step
Epoch 22/50
36/36 - 9s - loss: 0.1515 - accuracy: 0.8354 - val_loss: 0.2276 - val_accuracy: 0.8103 - lr: 0.0010 - 9s/epoch - 253ms/step
Epoch 23/50
36/36 - 9s - loss: 0.1585 - accuracy: 0.8272 - val_loss: 0.2127 - val_accuracy: 0.8145 - lr: 0.0010 - 9s/epoch - 251ms/step
Epoch 24/50
36/36 - 9s - loss: 0.1588 - accuracy: 0.8282 - val_loss: 0.2144 - val_accuracy: 0.8106 - lr: 0.0010 - 9s/epoch - 252ms/step
Epoch 25/50
36/36 - 9s - loss: 0.1595 - accuracy: 0.8266 - val_loss: 0.1953 - val_accuracy: 0.8277 - lr: 0.0010 - 9s/epoch - 250ms/step
Epoch 26/50
36/36 - 13s - loss: 0.1607 - accuracy: 0.8249 - val_loss: 0.2334 - val_accuracy: 0.7938 - lr: 0.0010 - 13s/epoch - 360ms/step
Epoch 27/50
36/36 - 14s - loss: 0.1505 - accuracy: 0.8365 - val_loss: 0.2226 - val_accuracy: 0.8053 - lr: 0.0010 - 14s/epoch - 377ms/step
Epoch 28/50
36/36 - 13s - loss: 0.1484 - accuracy: 0.8385 - val_loss: 0.2585 - val_accuracy: 0.7675 - lr: 0.0010 - 13s/epoch - 374ms/step
Epoch 29/50
36/36 - 13s - loss: 0.1519 - accuracy: 0.8356 - val_loss: 0.2056 - val_accuracy: 0.8193 - lr: 0.0010 - 13s/epoch - 363ms/step
Epoch 30/50
36/36 - 13s - loss: 0.1556 - accuracy: 0.8312 - val_loss: 0.1959 - val_accuracy: 0.8241 - lr: 0.0010 - 13s/epoch - 354ms/step
Epoch 31/50
36/36 - 14s - loss: 0.1609 - accuracy: 0.8254 - val_loss: 0.2581 - val_accuracy: 0.7670 - lr: 0.0010 - 14s/epoch - 386ms/step
Epoch 32/50
36/36 - 14s - loss: 0.1541 - accuracy: 0.8332 - val_loss: 0.2335 - val_accuracy: 0.7963 - lr: 0.0010 - 14s/epoch - 384ms/step
Epoch 33/50
36/36 - 15s - loss: 0.1543 - accuracy: 0.8326 - val_loss: 0.2361 - val_accuracy: 0.7852 - lr: 0.0010 - 15s/epoch - 413ms/step
Epoch 34/50
36/36 - 15s - loss: 0.1502 - accuracy: 0.8378 - val_loss: 0.2462 - val_accuracy: 0.7782 - lr: 0.0010 - 15s/epoch - 413ms/step
Epoch 35/50
36/36 - 14s - loss: 0.1587 - accuracy: 0.8268 - val_loss: 0.2309 - val_accuracy: 0.7911 - lr: 0.0010 - 14s/epoch - 397ms/step
Epoch 36/50
36/36 - 14s - loss: 0.1526 - accuracy: 0.8340 - val_loss: 0.2409 - val_accuracy: 0.7886 - lr: 0.0010 - 14s/epoch - 398ms/step
Epoch 37/50
36/36 - 14s - loss: 0.1483 - accuracy: 0.8388 - val_loss: 0.2435 - val_accuracy: 0.7876 - lr: 0.0010 - 14s/epoch - 399ms/step
Epoch 38/50
36/36 - 14s - loss: 0.1505 - accuracy: 0.8368 - val_loss: 0.2181 - val_accuracy: 0.8265 - lr: 0.0010 - 14s/epoch - 402ms/step
Epoch 39/50
36/36 - 15s - loss: 0.1630 - accuracy: 0.8225 - val_loss: 0.2334 - val_accuracy: 0.7911 - lr: 0.0010 - 15s/epoch - 408ms/step
Epoch 40/50
36/36 - 15s - loss: 0.1666 - accuracy: 0.8174 - val_loss: 0.2176 - val_accuracy: 0.8066 - lr: 0.0010 - 15s/epoch - 403ms/step
Epoch 41/50
36/36 - 14s - loss: 0.1724 - accuracy: 0.8117 - val_loss: 0.2252 - val_accuracy: 0.8021 - lr: 0.0010 - 14s/epoch - 397ms/step
Epoch 42/50
36/36 - 14s - loss: 0.1551 - accuracy: 0.8323 - val_loss: 0.2437 - val_accuracy: 0.7705 - lr: 0.0010 - 14s/epoch - 400ms/step
Epoch 43/50
36/36 - 14s - loss: 0.1489 - accuracy: 0.8368 - val_loss: 0.1944 - val_accuracy: 0.8317 - lr: 0.0010 - 14s/epoch - 391ms/step
Epoch 44/50
36/36 - 13s - loss: 0.1470 - accuracy: 0.8411 - val_loss: 0.2508 - val_accuracy: 0.7654 - lr: 0.0010 - 13s/epoch - 353ms/step
Epoch 45/50
36/36 - 13s - loss: 0.1459 - accuracy: 0.8420 - val_loss: 0.2565 - val_accuracy: 0.7665 - lr: 0.0010 - 13s/epoch - 368ms/step
Epoch 46/50
36/36 - 13s - loss: 0.1474 - accuracy: 0.8400 - val_loss: 0.2269 - val_accuracy: 0.8074 - lr: 0.0010 - 13s/epoch - 359ms/step
Epoch 47/50
36/36 - 13s - loss: 0.1570 - accuracy: 0.8289 - val_loss: 0.2385 - val_accuracy: 0.7924 - lr: 0.0010 - 13s/epoch - 360ms/step
Epoch 48/50
36/36 - 14s - loss: 0.1566 - accuracy: 0.8305 - val_loss: 0.2081 - val_accuracy: 0.8148 - lr: 0.0010 - 14s/epoch - 377ms/step
Epoch 49/50
36/36 - 14s - loss: 0.1575 - accuracy: 0.8290 - val_loss: 0.2170 - val_accuracy: 0.8103 - lr: 0.0010 - 14s/epoch - 375ms/step
Epoch 50/50
36/36 - 13s - loss: 0.1507 - accuracy: 0.8368 - val_loss: 0.2137 - val_accuracy: 0.8140 - lr: 0.0010 - 13s/epoch - 361ms/step
Loss: huber_loss
Epoch number: 25
fitting with batch size: 1500
Epoch 1/25
59/59 - 17s - loss: 0.0304 - accuracy: 0.7822 - val_loss: 0.0317 - val_accuracy: 0.8030 - lr: 0.0010 - 17s/epoch - 294ms/step
Epoch 2/25
59/59 - 14s - loss: 0.0208 - accuracy: 0.8513 - val_loss: 0.0308 - val_accuracy: 0.8031 - lr: 0.0010 - 14s/epoch - 245ms/step
Epoch 3/25
59/59 - 15s - loss: 0.0196 - accuracy: 0.8598 - val_loss: 0.0318 - val_accuracy: 0.7983 - lr: 0.0010 - 15s/epoch - 257ms/step
Epoch 4/25
59/59 - 14s - loss: 0.0198 - accuracy: 0.8597 - val_loss: 0.0313 - val_accuracy: 0.7953 - lr: 0.0010 - 14s/epoch - 240ms/step
Epoch 5/25
59/59 - 15s - loss: 0.0201 - accuracy: 0.8566 - val_loss: 0.0353 - val_accuracy: 0.7715 - lr: 0.0010 - 15s/epoch - 250ms/step
Epoch 6/25
59/59 - 15s - loss: 0.0209 - accuracy: 0.8510 - val_loss: 0.0329 - val_accuracy: 0.7949 - lr: 0.0010 - 15s/epoch - 255ms/step
Epoch 7/25
59/59 - 14s - loss: 0.0216 - accuracy: 0.8452 - val_loss: 0.0288 - val_accuracy: 0.8137 - lr: 0.0010 - 14s/epoch - 242ms/step
Epoch 8/25
59/59 - 15s - loss: 0.0221 - accuracy: 0.8425 - val_loss: 0.0306 - val_accuracy: 0.8099 - lr: 0.0010 - 15s/epoch - 247ms/step
Epoch 9/25
59/59 - 16s - loss: 0.0224 - accuracy: 0.8404 - val_loss: 0.0284 - val_accuracy: 0.8245 - lr: 0.0010 - 16s/epoch - 266ms/step
Epoch 10/25
59/59 - 16s - loss: 0.0232 - accuracy: 0.8340 - val_loss: 0.0307 - val_accuracy: 0.8016 - lr: 0.0010 - 16s/epoch - 266ms/step
Epoch 11/25
59/59 - 16s - loss: 0.0228 - accuracy: 0.8364 - val_loss: 0.0321 - val_accuracy: 0.7917 - lr: 0.0010 - 16s/epoch - 269ms/step
Epoch 12/25
59/59 - 15s - loss: 0.0228 - accuracy: 0.8384 - val_loss: 0.0281 - val_accuracy: 0.8230 - lr: 0.0010 - 15s/epoch - 247ms/step
Epoch 13/25
59/59 - 14s - loss: 0.0229 - accuracy: 0.8382 - val_loss: 0.0340 - val_accuracy: 0.7813 - lr: 0.0010 - 14s/epoch - 242ms/step
Epoch 14/25
59/59 - 15s - loss: 0.0232 - accuracy: 0.8356 - val_loss: 0.0338 - val_accuracy: 0.7834 - lr: 0.0010 - 15s/epoch - 256ms/step
Epoch 15/25
59/59 - 16s - loss: 0.0232 - accuracy: 0.8348 - val_loss: 0.0325 - val_accuracy: 0.7952 - lr: 0.0010 - 16s/epoch - 263ms/step
Epoch 16/25
59/59 - 14s - loss: 0.0232 - accuracy: 0.8344 - val_loss: 0.0360 - val_accuracy: 0.7635 - lr: 0.0010 - 14s/epoch - 239ms/step
Epoch 17/25
59/59 - 15s - loss: 0.0230 - accuracy: 0.8370 - val_loss: 0.0333 - val_accuracy: 0.7913 - lr: 0.0010 - 15s/epoch - 255ms/step
Epoch 18/25
59/59 - 15s - loss: 0.0229 - accuracy: 0.8369 - val_loss: 0.0324 - val_accuracy: 0.7976 - lr: 0.0010 - 15s/epoch - 254ms/step
Epoch 19/25
59/59 - 16s - loss: 0.0230 - accuracy: 0.8378 - val_loss: 0.0373 - val_accuracy: 0.7659 - lr: 0.0010 - 16s/epoch - 268ms/step
Epoch 20/25
59/59 - 13s - loss: 0.0233 - accuracy: 0.8347 - val_loss: 0.0310 - val_accuracy: 0.8035 - lr: 0.0010 - 13s/epoch - 222ms/step
Epoch 21/25
59/59 - 10s - loss: 0.0230 - accuracy: 0.8389 - val_loss: 0.0266 - val_accuracy: 0.8330 - lr: 0.0010 - 10s/epoch - 165ms/step
Epoch 22/25
59/59 - 11s - loss: 0.0232 - accuracy: 0.8366 - val_loss: 0.0348 - val_accuracy: 0.7776 - lr: 0.0010 - 11s/epoch - 183ms/step
Epoch 23/25
59/59 - 16s - loss: 0.0227 - accuracy: 0.8400 - val_loss: 0.0319 - val_accuracy: 0.7936 - lr: 0.0010 - 16s/epoch - 270ms/step
Epoch 24/25
59/59 - 17s - loss: 0.0226 - accuracy: 0.8408 - val_loss: 0.0305 - val_accuracy: 0.8120 - lr: 0.0010 - 17s/epoch - 282ms/step
Epoch 25/25
59/59 - 16s - loss: 0.0229 - accuracy: 0.8377 - val_loss: 0.0309 - val_accuracy: 0.8070 - lr: 0.0010 - 16s/epoch - 273ms/step
fitting with batch size: 2500
Epoch 1/25
36/36 - 18s - loss: 0.0217 - accuracy: 0.8471 - val_loss: 0.0282 - val_accuracy: 0.8220 - lr: 0.0010 - 18s/epoch - 508ms/step
Epoch 2/25
36/36 - 14s - loss: 0.0227 - accuracy: 0.8407 - val_loss: 0.0300 - val_accuracy: 0.8063 - lr: 0.0010 - 14s/epoch - 383ms/step
Epoch 3/25
36/36 - 14s - loss: 0.0225 - accuracy: 0.8416 - val_loss: 0.0315 - val_accuracy: 0.8040 - lr: 0.0010 - 14s/epoch - 376ms/step
Epoch 4/25
36/36 - 13s - loss: 0.0237 - accuracy: 0.8330 - val_loss: 0.0292 - val_accuracy: 0.8116 - lr: 0.0010 - 13s/epoch - 364ms/step
Epoch 5/25
36/36 - 15s - loss: 0.0222 - accuracy: 0.8441 - val_loss: 0.0298 - val_accuracy: 0.8121 - lr: 0.0010 - 15s/epoch - 406ms/step
Epoch 6/25
36/36 - 15s - loss: 0.0227 - accuracy: 0.8391 - val_loss: 0.0331 - val_accuracy: 0.7913 - lr: 0.0010 - 15s/epoch - 425ms/step
Epoch 7/25
36/36 - 16s - loss: 0.0225 - accuracy: 0.8403 - val_loss: 0.0279 - val_accuracy: 0.8244 - lr: 0.0010 - 16s/epoch - 437ms/step
Epoch 8/25
36/36 - 18s - loss: 0.0224 - accuracy: 0.8426 - val_loss: 0.0289 - val_accuracy: 0.8200 - lr: 0.0010 - 18s/epoch - 494ms/step
Epoch 9/25
36/36 - 14s - loss: 0.0242 - accuracy: 0.8297 - val_loss: 0.0267 - val_accuracy: 0.8349 - lr: 0.0010 - 14s/epoch - 402ms/step
Epoch 10/25
36/36 - 15s - loss: 0.0239 - accuracy: 0.8315 - val_loss: 0.0344 - val_accuracy: 0.7730 - lr: 0.0010 - 15s/epoch - 405ms/step
Epoch 11/25
36/36 - 15s - loss: 0.0265 - accuracy: 0.8113 - val_loss: 0.0319 - val_accuracy: 0.7969 - lr: 0.0010 - 15s/epoch - 405ms/step
Epoch 12/25
36/36 - 15s - loss: 0.0222 - accuracy: 0.8441 - val_loss: 0.0332 - val_accuracy: 0.7845 - lr: 0.0010 - 15s/epoch - 430ms/step
Epoch 13/25
36/36 - 15s - loss: 0.0225 - accuracy: 0.8413 - val_loss: 0.0360 - val_accuracy: 0.7736 - lr: 0.0010 - 15s/epoch - 412ms/step
Epoch 14/25
36/36 - 14s - loss: 0.0248 - accuracy: 0.8238 - val_loss: 0.0285 - val_accuracy: 0.8174 - lr: 0.0010 - 14s/epoch - 396ms/step
Epoch 15/25
36/36 - 14s - loss: 0.0263 - accuracy: 0.8128 - val_loss: 0.0294 - val_accuracy: 0.8224 - lr: 0.0010 - 14s/epoch - 389ms/step
Epoch 16/25
36/36 - 14s - loss: 0.0245 - accuracy: 0.8263 - val_loss: 0.0287 - val_accuracy: 0.8157 - lr: 0.0010 - 14s/epoch - 393ms/step
Epoch 17/25
36/36 - 14s - loss: 0.0231 - accuracy: 0.8370 - val_loss: 0.0288 - val_accuracy: 0.8141 - lr: 0.0010 - 14s/epoch - 384ms/step
Epoch 18/25
36/36 - 14s - loss: 0.0215 - accuracy: 0.8491 - val_loss: 0.0299 - val_accuracy: 0.8076 - lr: 0.0010 - 14s/epoch - 388ms/step
Epoch 19/25
36/36 - 14s - loss: 0.0259 - accuracy: 0.8169 - val_loss: 0.0338 - val_accuracy: 0.7780 - lr: 0.0010 - 14s/epoch - 399ms/step
Epoch 20/25
36/36 - 9s - loss: 0.0226 - accuracy: 0.8414 - val_loss: 0.0327 - val_accuracy: 0.7908 - lr: 0.0010 - 9s/epoch - 263ms/step
Epoch 21/25
36/36 - 10s - loss: 0.0233 - accuracy: 0.8365 - val_loss: 0.0281 - val_accuracy: 0.8231 - lr: 0.0010 - 10s/epoch - 271ms/step
Epoch 22/25
36/36 - 12s - loss: 0.0249 - accuracy: 0.8234 - val_loss: 0.0272 - val_accuracy: 0.8332 - lr: 0.0010 - 12s/epoch - 325ms/step
Epoch 23/25
36/36 - 16s - loss: 0.0243 - accuracy: 0.8294 - val_loss: 0.0320 - val_accuracy: 0.7930 - lr: 0.0010 - 16s/epoch - 440ms/step
Epoch 24/25
36/36 - 15s - loss: 0.0248 - accuracy: 0.8262 - val_loss: 0.0303 - val_accuracy: 0.8124 - lr: 0.0010 - 15s/epoch - 416ms/step
Epoch 25/25
36/36 - 13s - loss: 0.0239 - accuracy: 0.8315 - val_loss: 0.0301 - val_accuracy: 0.8112 - lr: 0.0010 - 13s/epoch - 367ms/step
Epoch number: 50
fitting with batch size: 1500
Epoch 1/50
59/59 - 18s - loss: 0.0263 - accuracy: 0.8148 - val_loss: 0.0308 - val_accuracy: 0.8172 - lr: 0.0010 - 18s/epoch - 309ms/step
Epoch 2/50
59/59 - 16s - loss: 0.0222 - accuracy: 0.8438 - val_loss: 0.0298 - val_accuracy: 0.8248 - lr: 0.0010 - 16s/epoch - 265ms/step
Epoch 3/50
59/59 - 16s - loss: 0.0221 - accuracy: 0.8440 - val_loss: 0.0309 - val_accuracy: 0.8104 - lr: 0.0010 - 16s/epoch - 272ms/step
Epoch 4/50
59/59 - 17s - loss: 0.0221 - accuracy: 0.8448 - val_loss: 0.0303 - val_accuracy: 0.8080 - lr: 0.0010 - 17s/epoch - 290ms/step
Epoch 5/50
59/59 - 16s - loss: 0.0222 - accuracy: 0.8442 - val_loss: 0.0299 - val_accuracy: 0.8104 - lr: 0.0010 - 16s/epoch - 266ms/step
Epoch 6/50
59/59 - 15s - loss: 0.0224 - accuracy: 0.8428 - val_loss: 0.0296 - val_accuracy: 0.8105 - lr: 0.0010 - 15s/epoch - 259ms/step
Epoch 7/50
59/59 - 15s - loss: 0.0227 - accuracy: 0.8406 - val_loss: 0.0286 - val_accuracy: 0.8158 - lr: 0.0010 - 15s/epoch - 260ms/step
Epoch 8/50
59/59 - 15s - loss: 0.0223 - accuracy: 0.8436 - val_loss: 0.0294 - val_accuracy: 0.8150 - lr: 0.0010 - 15s/epoch - 258ms/step
Epoch 9/50
59/59 - 16s - loss: 0.0222 - accuracy: 0.8452 - val_loss: 0.0302 - val_accuracy: 0.8127 - lr: 0.0010 - 16s/epoch - 267ms/step
Epoch 10/50
59/59 - 16s - loss: 0.0221 - accuracy: 0.8453 - val_loss: 0.0298 - val_accuracy: 0.8128 - lr: 0.0010 - 16s/epoch - 266ms/step
Epoch 11/50
59/59 - 16s - loss: 0.0223 - accuracy: 0.8438 - val_loss: 0.0250 - val_accuracy: 0.8430 - lr: 0.0010 - 16s/epoch - 268ms/step
Epoch 12/50
59/59 - 16s - loss: 0.0228 - accuracy: 0.8396 - val_loss: 0.0293 - val_accuracy: 0.8158 - lr: 0.0010 - 16s/epoch - 267ms/step
Epoch 13/50
59/59 - 16s - loss: 0.0223 - accuracy: 0.8434 - val_loss: 0.0310 - val_accuracy: 0.8046 - lr: 0.0010 - 16s/epoch - 273ms/step
Epoch 14/50
59/59 - 17s - loss: 0.0223 - accuracy: 0.8437 - val_loss: 0.0346 - val_accuracy: 0.7790 - lr: 0.0010 - 17s/epoch - 283ms/step
Epoch 15/50
59/59 - 17s - loss: 0.0218 - accuracy: 0.8484 - val_loss: 0.0333 - val_accuracy: 0.7855 - lr: 0.0010 - 17s/epoch - 282ms/step
Epoch 16/50
59/59 - 17s - loss: 0.0223 - accuracy: 0.8447 - val_loss: 0.0334 - val_accuracy: 0.7885 - lr: 0.0010 - 17s/epoch - 283ms/step
Epoch 17/50
59/59 - 16s - loss: 0.0217 - accuracy: 0.8483 - val_loss: 0.0339 - val_accuracy: 0.7814 - lr: 0.0010 - 16s/epoch - 273ms/step
Epoch 18/50
59/59 - 16s - loss: 0.0220 - accuracy: 0.8466 - val_loss: 0.0295 - val_accuracy: 0.8157 - lr: 0.0010 - 16s/epoch - 270ms/step
Epoch 19/50
59/59 - 15s - loss: 0.0222 - accuracy: 0.8448 - val_loss: 0.0273 - val_accuracy: 0.8255 - lr: 0.0010 - 15s/epoch - 257ms/step
Epoch 20/50
59/59 - 14s - loss: 0.0221 - accuracy: 0.8456 - val_loss: 0.0318 - val_accuracy: 0.8003 - lr: 0.0010 - 14s/epoch - 239ms/step
Epoch 21/50
59/59 - 14s - loss: 0.0220 - accuracy: 0.8465 - val_loss: 0.0330 - val_accuracy: 0.7854 - lr: 0.0010 - 14s/epoch - 230ms/step
Epoch 22/50
59/59 - 13s - loss: 0.0220 - accuracy: 0.8460 - val_loss: 0.0288 - val_accuracy: 0.8161 - lr: 0.0010 - 13s/epoch - 224ms/step
Epoch 23/50
59/59 - 14s - loss: 0.0219 - accuracy: 0.8470 - val_loss: 0.0312 - val_accuracy: 0.8020 - lr: 0.0010 - 14s/epoch - 235ms/step
Epoch 24/50
59/59 - 14s - loss: 0.0215 - accuracy: 0.8498 - val_loss: 0.0313 - val_accuracy: 0.7972 - lr: 0.0010 - 14s/epoch - 238ms/step
Epoch 25/50
59/59 - 15s - loss: 0.0220 - accuracy: 0.8470 - val_loss: 0.0332 - val_accuracy: 0.7859 - lr: 0.0010 - 15s/epoch - 258ms/step
Epoch 26/50
59/59 - 16s - loss: 0.0213 - accuracy: 0.8522 - val_loss: 0.0295 - val_accuracy: 0.8098 - lr: 0.0010 - 16s/epoch - 268ms/step
Epoch 27/50
59/59 - 16s - loss: 0.0218 - accuracy: 0.8483 - val_loss: 0.0373 - val_accuracy: 0.7527 - lr: 0.0010 - 16s/epoch - 278ms/step
Epoch 28/50
59/59 - 15s - loss: 0.0214 - accuracy: 0.8504 - val_loss: 0.0321 - val_accuracy: 0.7944 - lr: 0.0010 - 15s/epoch - 247ms/step
Epoch 29/50
59/59 - 16s - loss: 0.0218 - accuracy: 0.8487 - val_loss: 0.0325 - val_accuracy: 0.7970 - lr: 0.0010 - 16s/epoch - 270ms/step
Epoch 30/50
59/59 - 16s - loss: 0.0216 - accuracy: 0.8496 - val_loss: 0.0324 - val_accuracy: 0.7964 - lr: 0.0010 - 16s/epoch - 271ms/step
Epoch 31/50
59/59 - 17s - loss: 0.0218 - accuracy: 0.8487 - val_loss: 0.0376 - val_accuracy: 0.7629 - lr: 0.0010 - 17s/epoch - 282ms/step
Epoch 32/50
59/59 - 17s - loss: 0.0215 - accuracy: 0.8509 - val_loss: 0.0319 - val_accuracy: 0.7988 - lr: 0.0010 - 17s/epoch - 286ms/step
Epoch 33/50
59/59 - 16s - loss: 0.0215 - accuracy: 0.8507 - val_loss: 0.0326 - val_accuracy: 0.7901 - lr: 0.0010 - 16s/epoch - 263ms/step
Epoch 34/50
59/59 - 15s - loss: 0.0218 - accuracy: 0.8493 - val_loss: 0.0288 - val_accuracy: 0.8151 - lr: 0.0010 - 15s/epoch - 254ms/step
Epoch 35/50
59/59 - 15s - loss: 0.0217 - accuracy: 0.8499 - val_loss: 0.0344 - val_accuracy: 0.7816 - lr: 0.0010 - 15s/epoch - 250ms/step
Epoch 36/50
59/59 - 15s - loss: 0.0214 - accuracy: 0.8505 - val_loss: 0.0332 - val_accuracy: 0.7906 - lr: 0.0010 - 15s/epoch - 249ms/step
Epoch 37/50
59/59 - 15s - loss: 0.0220 - accuracy: 0.8471 - val_loss: 0.0321 - val_accuracy: 0.7947 - lr: 0.0010 - 15s/epoch - 252ms/step
Epoch 38/50
59/59 - 15s - loss: 0.0216 - accuracy: 0.8499 - val_loss: 0.0318 - val_accuracy: 0.8028 - lr: 0.0010 - 15s/epoch - 260ms/step
Epoch 39/50
59/59 - 16s - loss: 0.0219 - accuracy: 0.8473 - val_loss: 0.0288 - val_accuracy: 0.8164 - lr: 0.0010 - 16s/epoch - 272ms/step
Epoch 40/50
59/59 - 16s - loss: 0.0218 - accuracy: 0.8486 - val_loss: 0.0313 - val_accuracy: 0.8061 - lr: 0.0010 - 16s/epoch - 269ms/step
Epoch 41/50
59/59 - 16s - loss: 0.0213 - accuracy: 0.8528 - val_loss: 0.0323 - val_accuracy: 0.7961 - lr: 0.0010 - 16s/epoch - 272ms/step
Epoch 42/50
59/59 - 16s - loss: 0.0216 - accuracy: 0.8498 - val_loss: 0.0343 - val_accuracy: 0.7809 - lr: 0.0010 - 16s/epoch - 267ms/step
Epoch 43/50
59/59 - 15s - loss: 0.0214 - accuracy: 0.8518 - val_loss: 0.0347 - val_accuracy: 0.7806 - lr: 0.0010 - 15s/epoch - 253ms/step
Epoch 44/50
59/59 - 16s - loss: 0.0210 - accuracy: 0.8550 - val_loss: 0.0259 - val_accuracy: 0.8389 - lr: 0.0010 - 16s/epoch - 264ms/step
Epoch 45/50
59/59 - 16s - loss: 0.0214 - accuracy: 0.8527 - val_loss: 0.0291 - val_accuracy: 0.8232 - lr: 0.0010 - 16s/epoch - 264ms/step
Epoch 46/50
59/59 - 16s - loss: 0.0209 - accuracy: 0.8552 - val_loss: 0.0311 - val_accuracy: 0.8033 - lr: 0.0010 - 16s/epoch - 269ms/step
Epoch 47/50
59/59 - 16s - loss: 0.0212 - accuracy: 0.8532 - val_loss: 0.0312 - val_accuracy: 0.8019 - lr: 0.0010 - 16s/epoch - 266ms/step
Epoch 48/50
59/59 - 16s - loss: 0.0211 - accuracy: 0.8537 - val_loss: 0.0329 - val_accuracy: 0.7919 - lr: 0.0010 - 16s/epoch - 278ms/step
Epoch 49/50
59/59 - 16s - loss: 0.0217 - accuracy: 0.8503 - val_loss: 0.0278 - val_accuracy: 0.8250 - lr: 0.0010 - 16s/epoch - 270ms/step
Epoch 50/50
59/59 - 15s - loss: 0.0217 - accuracy: 0.8491 - val_loss: 0.0310 - val_accuracy: 0.8074 - lr: 0.0010 - 15s/epoch - 251ms/step
fitting with batch size: 2500
Epoch 1/50
36/36 - 18s - loss: 0.0199 - accuracy: 0.8633 - val_loss: 0.0332 - val_accuracy: 0.7875 - lr: 0.0010 - 18s/epoch - 502ms/step
Epoch 2/50
36/36 - 15s - loss: 0.0202 - accuracy: 0.8613 - val_loss: 0.0327 - val_accuracy: 0.7994 - lr: 0.0010 - 15s/epoch - 403ms/step
Epoch 3/50
36/36 - 15s - loss: 0.0249 - accuracy: 0.8262 - val_loss: 0.0309 - val_accuracy: 0.8136 - lr: 0.0010 - 15s/epoch - 425ms/step
Epoch 4/50
36/36 - 15s - loss: 0.0237 - accuracy: 0.8340 - val_loss: 0.0302 - val_accuracy: 0.8084 - lr: 0.0010 - 15s/epoch - 424ms/step
Epoch 5/50
36/36 - 15s - loss: 0.0219 - accuracy: 0.8485 - val_loss: 0.0307 - val_accuracy: 0.8080 - lr: 0.0010 - 15s/epoch - 405ms/step
Epoch 6/50
36/36 - 15s - loss: 0.0206 - accuracy: 0.8578 - val_loss: 0.0316 - val_accuracy: 0.7998 - lr: 0.0010 - 15s/epoch - 403ms/step
Epoch 7/50
36/36 - 16s - loss: 0.0204 - accuracy: 0.8590 - val_loss: 0.0318 - val_accuracy: 0.8044 - lr: 0.0010 - 16s/epoch - 440ms/step
Epoch 8/50
36/36 - 15s - loss: 0.0210 - accuracy: 0.8549 - val_loss: 0.0283 - val_accuracy: 0.8221 - lr: 0.0010 - 15s/epoch - 426ms/step
Epoch 9/50
36/36 - 16s - loss: 0.0207 - accuracy: 0.8578 - val_loss: 0.0317 - val_accuracy: 0.7949 - lr: 0.0010 - 16s/epoch - 438ms/step
Epoch 10/50
36/36 - 16s - loss: 0.0229 - accuracy: 0.8416 - val_loss: 0.0387 - val_accuracy: 0.7503 - lr: 0.0010 - 16s/epoch - 433ms/step
Epoch 11/50
36/36 - 14s - loss: 0.0233 - accuracy: 0.8370 - val_loss: 0.0321 - val_accuracy: 0.7979 - lr: 0.0010 - 14s/epoch - 399ms/step
Epoch 12/50
36/36 - 14s - loss: 0.0224 - accuracy: 0.8456 - val_loss: 0.0343 - val_accuracy: 0.7772 - lr: 0.0010 - 14s/epoch - 390ms/step
Epoch 13/50
36/36 - 16s - loss: 0.0234 - accuracy: 0.8380 - val_loss: 0.0333 - val_accuracy: 0.7925 - lr: 0.0010 - 16s/epoch - 434ms/step
Epoch 14/50
36/36 - 16s - loss: 0.0248 - accuracy: 0.8271 - val_loss: 0.0318 - val_accuracy: 0.7996 - lr: 0.0010 - 16s/epoch - 431ms/step
Epoch 15/50
36/36 - 15s - loss: 0.0218 - accuracy: 0.8487 - val_loss: 0.0281 - val_accuracy: 0.8224 - lr: 0.0010 - 15s/epoch - 430ms/step
Epoch 16/50
36/36 - 16s - loss: 0.0208 - accuracy: 0.8559 - val_loss: 0.0288 - val_accuracy: 0.8197 - lr: 0.0010 - 16s/epoch - 455ms/step
Epoch 17/50
36/36 - 16s - loss: 0.0221 - accuracy: 0.8470 - val_loss: 0.0298 - val_accuracy: 0.8113 - lr: 0.0010 - 16s/epoch - 440ms/step
Epoch 18/50
36/36 - 16s - loss: 0.0229 - accuracy: 0.8415 - val_loss: 0.0323 - val_accuracy: 0.7910 - lr: 0.0010 - 16s/epoch - 443ms/step
Epoch 19/50
36/36 - 16s - loss: 0.0218 - accuracy: 0.8492 - val_loss: 0.0314 - val_accuracy: 0.7995 - lr: 0.0010 - 16s/epoch - 446ms/step
Epoch 20/50
36/36 - 15s - loss: 0.0212 - accuracy: 0.8528 - val_loss: 0.0318 - val_accuracy: 0.7929 - lr: 0.0010 - 15s/epoch - 423ms/step
Epoch 21/50
36/36 - 17s - loss: 0.0198 - accuracy: 0.8646 - val_loss: 0.0315 - val_accuracy: 0.8010 - lr: 0.0010 - 17s/epoch - 467ms/step
Epoch 22/50
36/36 - 15s - loss: 0.0203 - accuracy: 0.8610 - val_loss: 0.0295 - val_accuracy: 0.8140 - lr: 0.0010 - 15s/epoch - 417ms/step
Epoch 23/50
36/36 - 15s - loss: 0.0224 - accuracy: 0.8449 - val_loss: 0.0285 - val_accuracy: 0.8235 - lr: 0.0010 - 15s/epoch - 425ms/step
Epoch 24/50
36/36 - 14s - loss: 0.0235 - accuracy: 0.8366 - val_loss: 0.0323 - val_accuracy: 0.7968 - lr: 0.0010 - 14s/epoch - 387ms/step
Epoch 25/50
36/36 - 14s - loss: 0.0213 - accuracy: 0.8534 - val_loss: 0.0277 - val_accuracy: 0.8263 - lr: 0.0010 - 14s/epoch - 376ms/step
Epoch 26/50
36/36 - 14s - loss: 0.0210 - accuracy: 0.8562 - val_loss: 0.0279 - val_accuracy: 0.8262 - lr: 0.0010 - 14s/epoch - 386ms/step
Epoch 27/50
36/36 - 14s - loss: 0.0212 - accuracy: 0.8547 - val_loss: 0.0349 - val_accuracy: 0.7822 - lr: 0.0010 - 14s/epoch - 390ms/step
Epoch 28/50
36/36 - 13s - loss: 0.0196 - accuracy: 0.8661 - val_loss: 0.0317 - val_accuracy: 0.8044 - lr: 0.0010 - 13s/epoch - 363ms/step
Epoch 29/50
36/36 - 13s - loss: 0.0211 - accuracy: 0.8539 - val_loss: 0.0335 - val_accuracy: 0.7847 - lr: 0.0010 - 13s/epoch - 360ms/step
Epoch 30/50
36/36 - 13s - loss: 0.0201 - accuracy: 0.8607 - val_loss: 0.0322 - val_accuracy: 0.7937 - lr: 0.0010 - 13s/epoch - 369ms/step
Epoch 31/50
36/36 - 13s - loss: 0.0206 - accuracy: 0.8575 - val_loss: 0.0345 - val_accuracy: 0.7822 - lr: 0.0010 - 13s/epoch - 360ms/step
Epoch 32/50
36/36 - 15s - loss: 0.0229 - accuracy: 0.8409 - val_loss: 0.0261 - val_accuracy: 0.8362 - lr: 0.0010 - 15s/epoch - 407ms/step
Epoch 33/50
36/36 - 13s - loss: 0.0232 - accuracy: 0.8389 - val_loss: 0.0307 - val_accuracy: 0.8054 - lr: 0.0010 - 13s/epoch - 359ms/step
Epoch 34/50
36/36 - 13s - loss: 0.0211 - accuracy: 0.8547 - val_loss: 0.0289 - val_accuracy: 0.8224 - lr: 0.0010 - 13s/epoch - 351ms/step
Epoch 35/50
36/36 - 14s - loss: 0.0210 - accuracy: 0.8562 - val_loss: 0.0341 - val_accuracy: 0.7907 - lr: 0.0010 - 14s/epoch - 399ms/step
Epoch 36/50
36/36 - 14s - loss: 0.0215 - accuracy: 0.8514 - val_loss: 0.0316 - val_accuracy: 0.8016 - lr: 0.0010 - 14s/epoch - 396ms/step
Epoch 37/50
36/36 - 14s - loss: 0.0248 - accuracy: 0.8269 - val_loss: 0.0363 - val_accuracy: 0.7733 - lr: 0.0010 - 14s/epoch - 401ms/step
Epoch 38/50
36/36 - 14s - loss: 0.0221 - accuracy: 0.8472 - val_loss: 0.0320 - val_accuracy: 0.8016 - lr: 0.0010 - 14s/epoch - 399ms/step
Epoch 39/50
36/36 - 13s - loss: 0.0225 - accuracy: 0.8439 - val_loss: 0.0330 - val_accuracy: 0.7899 - lr: 0.0010 - 13s/epoch - 370ms/step
Epoch 40/50
36/36 - 14s - loss: 0.0214 - accuracy: 0.8531 - val_loss: 0.0338 - val_accuracy: 0.7870 - lr: 0.0010 - 14s/epoch - 391ms/step
Epoch 41/50
36/36 - 15s - loss: 0.0206 - accuracy: 0.8581 - val_loss: 0.0330 - val_accuracy: 0.7965 - lr: 0.0010 - 15s/epoch - 429ms/step
Epoch 42/50
36/36 - 14s - loss: 0.0204 - accuracy: 0.8590 - val_loss: 0.0301 - val_accuracy: 0.8034 - lr: 0.0010 - 14s/epoch - 384ms/step
Epoch 43/50
36/36 - 14s - loss: 0.0208 - accuracy: 0.8569 - val_loss: 0.0261 - val_accuracy: 0.8358 - lr: 0.0010 - 14s/epoch - 387ms/step
Epoch 44/50
36/36 - 14s - loss: 0.0202 - accuracy: 0.8619 - val_loss: 0.0269 - val_accuracy: 0.8275 - lr: 0.0010 - 14s/epoch - 395ms/step
Epoch 45/50
36/36 - 13s - loss: 0.0273 - accuracy: 0.8096 - val_loss: 0.0291 - val_accuracy: 0.8108 - lr: 0.0010 - 13s/epoch - 374ms/step
Epoch 46/50
36/36 - 13s - loss: 0.0243 - accuracy: 0.8303 - val_loss: 0.0346 - val_accuracy: 0.7759 - lr: 0.0010 - 13s/epoch - 372ms/step
Epoch 47/50
36/36 - 14s - loss: 0.0218 - accuracy: 0.8502 - val_loss: 0.0277 - val_accuracy: 0.8275 - lr: 0.0010 - 14s/epoch - 392ms/step
Epoch 48/50
36/36 - 14s - loss: 0.0205 - accuracy: 0.8587 - val_loss: 0.0305 - val_accuracy: 0.8100 - lr: 0.0010 - 14s/epoch - 398ms/step
Epoch 49/50
36/36 - 14s - loss: 0.0212 - accuracy: 0.8539 - val_loss: 0.0308 - val_accuracy: 0.8040 - lr: 0.0010 - 14s/epoch - 379ms/step
Epoch 50/50
36/36 - 14s - loss: 0.0199 - accuracy: 0.8633 - val_loss: 0.0298 - val_accuracy: 0.8168 - lr: 0.0010 - 14s/epoch - 391ms/step
Loss: kullback_leibler_divergence
Epoch number: 25
fitting with batch size: 1500
Epoch 1/25
59/59 - 18s - loss: 0.5336 - accuracy: 0.8106 - val_loss: 0.6008 - val_accuracy: 0.8237 - lr: 0.0010 - 18s/epoch - 304ms/step
Epoch 2/25
59/59 - 15s - loss: 0.4555 - accuracy: 0.8399 - val_loss: 0.7340 - val_accuracy: 0.7519 - lr: 0.0010 - 15s/epoch - 253ms/step
Epoch 3/25
59/59 - 15s - loss: 0.4276 - accuracy: 0.8526 - val_loss: 0.6525 - val_accuracy: 0.7944 - lr: 0.0010 - 15s/epoch - 255ms/step
Epoch 4/25
59/59 - 15s - loss: 0.4138 - accuracy: 0.8579 - val_loss: 0.6042 - val_accuracy: 0.8093 - lr: 0.0010 - 15s/epoch - 248ms/step
Epoch 5/25
59/59 - 15s - loss: 0.4036 - accuracy: 0.8603 - val_loss: 0.6294 - val_accuracy: 0.7928 - lr: 0.0010 - 15s/epoch - 246ms/step
Epoch 6/25
59/59 - 15s - loss: 0.4074 - accuracy: 0.8581 - val_loss: 0.6926 - val_accuracy: 0.7785 - lr: 0.0010 - 15s/epoch - 261ms/step
Epoch 7/25
59/59 - 15s - loss: 0.4046 - accuracy: 0.8583 - val_loss: 0.6495 - val_accuracy: 0.8020 - lr: 0.0010 - 15s/epoch - 249ms/step
Epoch 8/25
59/59 - 13s - loss: 0.3978 - accuracy: 0.8607 - val_loss: 0.6724 - val_accuracy: 0.7978 - lr: 0.0010 - 13s/epoch - 223ms/step
Epoch 9/25
59/59 - 13s - loss: 0.3994 - accuracy: 0.8591 - val_loss: 0.6746 - val_accuracy: 0.7950 - lr: 0.0010 - 13s/epoch - 214ms/step
Epoch 10/25
59/59 - 12s - loss: 0.3940 - accuracy: 0.8609 - val_loss: 0.6563 - val_accuracy: 0.7978 - lr: 0.0010 - 12s/epoch - 210ms/step
Epoch 11/25
59/59 - 13s - loss: 0.3945 - accuracy: 0.8613 - val_loss: 0.6486 - val_accuracy: 0.8027 - lr: 0.0010 - 13s/epoch - 216ms/step
Epoch 12/25
59/59 - 13s - loss: 0.3948 - accuracy: 0.8611 - val_loss: 0.7151 - val_accuracy: 0.7799 - lr: 0.0010 - 13s/epoch - 225ms/step
Epoch 13/25
59/59 - 14s - loss: 0.3964 - accuracy: 0.8595 - val_loss: 0.6113 - val_accuracy: 0.8145 - lr: 0.0010 - 14s/epoch - 236ms/step
Epoch 14/25
59/59 - 14s - loss: 0.3926 - accuracy: 0.8607 - val_loss: 0.6703 - val_accuracy: 0.7963 - lr: 0.0010 - 14s/epoch - 232ms/step
Epoch 15/25
59/59 - 14s - loss: 0.3932 - accuracy: 0.8604 - val_loss: 0.6341 - val_accuracy: 0.8102 - lr: 0.0010 - 14s/epoch - 235ms/step
Epoch 16/25
59/59 - 14s - loss: 0.3884 - accuracy: 0.8614 - val_loss: 0.6172 - val_accuracy: 0.8147 - lr: 0.0010 - 14s/epoch - 240ms/step
Epoch 17/25
59/59 - 15s - loss: 0.3862 - accuracy: 0.8627 - val_loss: 0.6484 - val_accuracy: 0.7984 - lr: 0.0010 - 15s/epoch - 251ms/step
Epoch 18/25
59/59 - 14s - loss: 0.3896 - accuracy: 0.8606 - val_loss: 0.5940 - val_accuracy: 0.8222 - lr: 0.0010 - 14s/epoch - 237ms/step
Epoch 19/25
59/59 - 14s - loss: 0.3879 - accuracy: 0.8615 - val_loss: 0.6843 - val_accuracy: 0.7897 - lr: 0.0010 - 14s/epoch - 243ms/step
Epoch 20/25
59/59 - 14s - loss: 0.3929 - accuracy: 0.8601 - val_loss: 0.6509 - val_accuracy: 0.7960 - lr: 0.0010 - 14s/epoch - 239ms/step
Epoch 21/25
59/59 - 15s - loss: 0.3764 - accuracy: 0.8664 - val_loss: 0.6835 - val_accuracy: 0.7854 - lr: 0.0010 - 15s/epoch - 246ms/step
Epoch 22/25
59/59 - 14s - loss: 0.3829 - accuracy: 0.8641 - val_loss: 0.6595 - val_accuracy: 0.8026 - lr: 0.0010 - 14s/epoch - 235ms/step
Epoch 23/25
59/59 - 14s - loss: 0.3844 - accuracy: 0.8620 - val_loss: 0.6847 - val_accuracy: 0.7902 - lr: 0.0010 - 14s/epoch - 236ms/step
Epoch 24/25
59/59 - 14s - loss: 0.3821 - accuracy: 0.8626 - val_loss: 0.7109 - val_accuracy: 0.7745 - lr: 0.0010 - 14s/epoch - 238ms/step
Epoch 25/25
59/59 - 15s - loss: 0.3793 - accuracy: 0.8639 - val_loss: 0.6801 - val_accuracy: 0.8016 - lr: 0.0010 - 15s/epoch - 258ms/step
fitting with batch size: 2500
Epoch 1/25
36/36 - 17s - loss: 0.3576 - accuracy: 0.8735 - val_loss: 0.6632 - val_accuracy: 0.7962 - lr: 0.0010 - 17s/epoch - 485ms/step
Epoch 2/25
36/36 - 14s - loss: 0.3948 - accuracy: 0.8580 - val_loss: 0.6207 - val_accuracy: 0.8076 - lr: 0.0010 - 14s/epoch - 397ms/step
Epoch 3/25
36/36 - 15s - loss: 0.3785 - accuracy: 0.8642 - val_loss: 0.6307 - val_accuracy: 0.8039 - lr: 0.0010 - 15s/epoch - 410ms/step
Epoch 4/25
36/36 - 14s - loss: 0.3801 - accuracy: 0.8630 - val_loss: 0.5897 - val_accuracy: 0.8172 - lr: 0.0010 - 14s/epoch - 391ms/step
Epoch 5/25
36/36 - 14s - loss: 0.3783 - accuracy: 0.8654 - val_loss: 0.7013 - val_accuracy: 0.7890 - lr: 0.0010 - 14s/epoch - 392ms/step
Epoch 6/25
36/36 - 13s - loss: 0.3670 - accuracy: 0.8690 - val_loss: 0.6769 - val_accuracy: 0.7981 - lr: 0.0010 - 13s/epoch - 365ms/step
Epoch 7/25
36/36 - 13s - loss: 0.3608 - accuracy: 0.8712 - val_loss: 0.6656 - val_accuracy: 0.8030 - lr: 0.0010 - 13s/epoch - 357ms/step
Epoch 8/25
36/36 - 13s - loss: 0.4000 - accuracy: 0.8557 - val_loss: 0.6669 - val_accuracy: 0.8024 - lr: 0.0010 - 13s/epoch - 352ms/step
Epoch 9/25
36/36 - 12s - loss: 0.4255 - accuracy: 0.8449 - val_loss: 0.6708 - val_accuracy: 0.7905 - lr: 0.0010 - 12s/epoch - 343ms/step
Epoch 10/25
36/36 - 12s - loss: 0.4158 - accuracy: 0.8494 - val_loss: 0.6329 - val_accuracy: 0.8018 - lr: 0.0010 - 12s/epoch - 347ms/step
Epoch 11/25
36/36 - 11s - loss: 0.3805 - accuracy: 0.8638 - val_loss: 0.6077 - val_accuracy: 0.8091 - lr: 0.0010 - 11s/epoch - 300ms/step
Epoch 12/25
36/36 - 9s - loss: 0.3664 - accuracy: 0.8683 - val_loss: 0.7200 - val_accuracy: 0.7760 - lr: 0.0010 - 9s/epoch - 248ms/step
Epoch 13/25
36/36 - 9s - loss: 0.3726 - accuracy: 0.8657 - val_loss: 0.6734 - val_accuracy: 0.7921 - lr: 0.0010 - 9s/epoch - 249ms/step
Epoch 14/25
36/36 - 9s - loss: 0.4024 - accuracy: 0.8548 - val_loss: 0.6963 - val_accuracy: 0.7978 - lr: 0.0010 - 9s/epoch - 247ms/step
Epoch 15/25
36/36 - 9s - loss: 0.3889 - accuracy: 0.8594 - val_loss: 0.6961 - val_accuracy: 0.7876 - lr: 0.0010 - 9s/epoch - 248ms/step
Epoch 16/25
36/36 - 9s - loss: 0.3898 - accuracy: 0.8591 - val_loss: 0.6943 - val_accuracy: 0.7859 - lr: 0.0010 - 9s/epoch - 247ms/step
Epoch 17/25
36/36 - 9s - loss: 0.4002 - accuracy: 0.8541 - val_loss: 0.6839 - val_accuracy: 0.7896 - lr: 0.0010 - 9s/epoch - 253ms/step
Epoch 18/25
36/36 - 9s - loss: 0.3629 - accuracy: 0.8686 - val_loss: 0.6537 - val_accuracy: 0.8008 - lr: 0.0010 - 9s/epoch - 248ms/step
Epoch 19/25
36/36 - 9s - loss: 0.4986 - accuracy: 0.8153 - val_loss: 0.5735 - val_accuracy: 0.8187 - lr: 0.0010 - 9s/epoch - 249ms/step
Epoch 20/25
36/36 - 9s - loss: 0.4005 - accuracy: 0.8544 - val_loss: 0.6347 - val_accuracy: 0.8023 - lr: 0.0010 - 9s/epoch - 249ms/step
Epoch 21/25
36/36 - 9s - loss: 0.3805 - accuracy: 0.8633 - val_loss: 0.6308 - val_accuracy: 0.8057 - lr: 0.0010 - 9s/epoch - 250ms/step
Epoch 22/25
36/36 - 9s - loss: 0.3786 - accuracy: 0.8640 - val_loss: 0.6746 - val_accuracy: 0.8027 - lr: 0.0010 - 9s/epoch - 251ms/step
Epoch 23/25
36/36 - 9s - loss: 0.3511 - accuracy: 0.8740 - val_loss: 0.6065 - val_accuracy: 0.8110 - lr: 0.0010 - 9s/epoch - 247ms/step
Epoch 24/25
36/36 - 9s - loss: 0.3891 - accuracy: 0.8591 - val_loss: 0.7763 - val_accuracy: 0.7506 - lr: 0.0010 - 9s/epoch - 251ms/step
Epoch 25/25
36/36 - 9s - loss: 0.3871 - accuracy: 0.8611 - val_loss: 0.6588 - val_accuracy: 0.7959 - lr: 0.0010 - 9s/epoch - 249ms/step
Epoch number: 50
fitting with batch size: 1500
Epoch 1/50
59/59 - 13s - loss: 0.3963 - accuracy: 0.8555 - val_loss: 0.7144 - val_accuracy: 0.7733 - lr: 0.0010 - 13s/epoch - 220ms/step
Epoch 2/50
59/59 - 9s - loss: 0.3808 - accuracy: 0.8607 - val_loss: 0.6315 - val_accuracy: 0.8118 - lr: 0.0010 - 9s/epoch - 159ms/step
Epoch 3/50
59/59 - 9s - loss: 0.3698 - accuracy: 0.8662 - val_loss: 0.6627 - val_accuracy: 0.7970 - lr: 0.0010 - 9s/epoch - 159ms/step
Epoch 4/50
59/59 - 9s - loss: 0.3750 - accuracy: 0.8639 - val_loss: 0.6474 - val_accuracy: 0.8102 - lr: 0.0010 - 9s/epoch - 158ms/step
Epoch 5/50
59/59 - 9s - loss: 0.3673 - accuracy: 0.8680 - val_loss: 0.6727 - val_accuracy: 0.7977 - lr: 0.0010 - 9s/epoch - 159ms/step
Epoch 6/50
59/59 - 9s - loss: 0.3715 - accuracy: 0.8657 - val_loss: 0.6551 - val_accuracy: 0.8013 - lr: 0.0010 - 9s/epoch - 158ms/step
Epoch 7/50
59/59 - 9s - loss: 0.3680 - accuracy: 0.8668 - val_loss: 0.7189 - val_accuracy: 0.7738 - lr: 0.0010 - 9s/epoch - 158ms/step
Epoch 8/50
59/59 - 9s - loss: 0.3791 - accuracy: 0.8622 - val_loss: 0.7004 - val_accuracy: 0.7853 - lr: 0.0010 - 9s/epoch - 158ms/step
Epoch 9/50
59/59 - 9s - loss: 0.3709 - accuracy: 0.8651 - val_loss: 0.7264 - val_accuracy: 0.7770 - lr: 0.0010 - 9s/epoch - 155ms/step
Epoch 10/50
59/59 - 9s - loss: 0.3703 - accuracy: 0.8652 - val_loss: 0.6922 - val_accuracy: 0.7926 - lr: 0.0010 - 9s/epoch - 153ms/step
Epoch 11/50
59/59 - 14s - loss: 0.3670 - accuracy: 0.8662 - val_loss: 0.6654 - val_accuracy: 0.7940 - lr: 0.0010 - 14s/epoch - 230ms/step
Epoch 12/50
59/59 - 14s - loss: 0.3682 - accuracy: 0.8661 - val_loss: 0.7395 - val_accuracy: 0.7831 - lr: 0.0010 - 14s/epoch - 239ms/step
Epoch 13/50
59/59 - 14s - loss: 0.3692 - accuracy: 0.8659 - val_loss: 0.6815 - val_accuracy: 0.7904 - lr: 0.0010 - 14s/epoch - 241ms/step
Epoch 14/50
59/59 - 14s - loss: 0.3688 - accuracy: 0.8657 - val_loss: 0.6471 - val_accuracy: 0.8128 - lr: 0.0010 - 14s/epoch - 238ms/step
Epoch 15/50
59/59 - 14s - loss: 0.3633 - accuracy: 0.8675 - val_loss: 0.7627 - val_accuracy: 0.7624 - lr: 0.0010 - 14s/epoch - 240ms/step
Epoch 16/50
59/59 - 14s - loss: 0.3649 - accuracy: 0.8678 - val_loss: 0.6856 - val_accuracy: 0.7960 - lr: 0.0010 - 14s/epoch - 237ms/step
Epoch 17/50
59/59 - 13s - loss: 0.3684 - accuracy: 0.8666 - val_loss: 0.7420 - val_accuracy: 0.7773 - lr: 0.0010 - 13s/epoch - 224ms/step
Epoch 18/50
59/59 - 14s - loss: 0.3646 - accuracy: 0.8677 - val_loss: 0.6722 - val_accuracy: 0.7963 - lr: 0.0010 - 14s/epoch - 232ms/step
Epoch 19/50
59/59 - 14s - loss: 0.3643 - accuracy: 0.8672 - val_loss: 0.7372 - val_accuracy: 0.7743 - lr: 0.0010 - 14s/epoch - 230ms/step
Epoch 20/50
59/59 - 13s - loss: 0.3667 - accuracy: 0.8659 - val_loss: 0.6632 - val_accuracy: 0.7968 - lr: 0.0010 - 13s/epoch - 223ms/step
Epoch 21/50
59/59 - 14s - loss: 0.3630 - accuracy: 0.8687 - val_loss: 0.6642 - val_accuracy: 0.7998 - lr: 0.0010 - 14s/epoch - 232ms/step
Epoch 22/50
59/59 - 14s - loss: 0.3617 - accuracy: 0.8688 - val_loss: 0.6979 - val_accuracy: 0.7881 - lr: 0.0010 - 14s/epoch - 244ms/step
Epoch 23/50
59/59 - 14s - loss: 0.3652 - accuracy: 0.8663 - val_loss: 0.6656 - val_accuracy: 0.7982 - lr: 0.0010 - 14s/epoch - 239ms/step
Epoch 24/50
59/59 - 15s - loss: 0.3617 - accuracy: 0.8678 - val_loss: 0.6836 - val_accuracy: 0.7865 - lr: 0.0010 - 15s/epoch - 250ms/step
Epoch 25/50
59/59 - 15s - loss: 0.3587 - accuracy: 0.8687 - val_loss: 0.6533 - val_accuracy: 0.7944 - lr: 0.0010 - 15s/epoch - 259ms/step
Epoch 26/50
59/59 - 16s - loss: 0.3614 - accuracy: 0.8687 - val_loss: 0.6901 - val_accuracy: 0.7797 - lr: 0.0010 - 16s/epoch - 266ms/step
Epoch 27/50
59/59 - 15s - loss: 0.3565 - accuracy: 0.8706 - val_loss: 0.7117 - val_accuracy: 0.7912 - lr: 0.0010 - 15s/epoch - 258ms/step
Epoch 28/50
59/59 - 15s - loss: 0.3678 - accuracy: 0.8659 - val_loss: 0.5851 - val_accuracy: 0.8251 - lr: 0.0010 - 15s/epoch - 253ms/step
Epoch 29/50
59/59 - 15s - loss: 0.3511 - accuracy: 0.8724 - val_loss: 0.6953 - val_accuracy: 0.7965 - lr: 0.0010 - 15s/epoch - 251ms/step
Epoch 30/50
59/59 - 14s - loss: 0.3572 - accuracy: 0.8692 - val_loss: 0.7032 - val_accuracy: 0.7939 - lr: 0.0010 - 14s/epoch - 240ms/step
Epoch 31/50
59/59 - 14s - loss: 0.3587 - accuracy: 0.8705 - val_loss: 0.7039 - val_accuracy: 0.7828 - lr: 0.0010 - 14s/epoch - 237ms/step
Epoch 32/50
59/59 - 14s - loss: 0.3633 - accuracy: 0.8679 - val_loss: 0.8140 - val_accuracy: 0.7469 - lr: 0.0010 - 14s/epoch - 233ms/step
Epoch 33/50
59/59 - 14s - loss: 0.3595 - accuracy: 0.8690 - val_loss: 0.7225 - val_accuracy: 0.7780 - lr: 0.0010 - 14s/epoch - 244ms/step
Epoch 34/50
59/59 - 14s - loss: 0.3683 - accuracy: 0.8651 - val_loss: 0.7772 - val_accuracy: 0.7694 - lr: 0.0010 - 14s/epoch - 244ms/step
Epoch 35/50
59/59 - 15s - loss: 0.3617 - accuracy: 0.8669 - val_loss: 0.6562 - val_accuracy: 0.8016 - lr: 0.0010 - 15s/epoch - 250ms/step
Epoch 36/50
59/59 - 15s - loss: 0.3591 - accuracy: 0.8687 - val_loss: 0.7249 - val_accuracy: 0.7757 - lr: 0.0010 - 15s/epoch - 247ms/step
Epoch 37/50
59/59 - 14s - loss: 0.3535 - accuracy: 0.8714 - val_loss: 0.6750 - val_accuracy: 0.7976 - lr: 0.0010 - 14s/epoch - 239ms/step
Epoch 38/50
59/59 - 14s - loss: 0.3593 - accuracy: 0.8689 - val_loss: 0.7116 - val_accuracy: 0.7939 - lr: 0.0010 - 14s/epoch - 246ms/step
Epoch 39/50
59/59 - 14s - loss: 0.3587 - accuracy: 0.8691 - val_loss: 0.6723 - val_accuracy: 0.7918 - lr: 0.0010 - 14s/epoch - 239ms/step
Epoch 40/50
59/59 - 15s - loss: 0.3563 - accuracy: 0.8690 - val_loss: 0.7111 - val_accuracy: 0.7736 - lr: 0.0010 - 15s/epoch - 253ms/step
Epoch 41/50
59/59 - 14s - loss: 0.3553 - accuracy: 0.8702 - val_loss: 0.6749 - val_accuracy: 0.8011 - lr: 0.0010 - 14s/epoch - 238ms/step
Epoch 42/50
59/59 - 14s - loss: 0.3550 - accuracy: 0.8696 - val_loss: 0.6761 - val_accuracy: 0.7939 - lr: 0.0010 - 14s/epoch - 236ms/step
Epoch 43/50
59/59 - 14s - loss: 0.3503 - accuracy: 0.8719 - val_loss: 0.7487 - val_accuracy: 0.7855 - lr: 0.0010 - 14s/epoch - 231ms/step
Epoch 44/50
59/59 - 15s - loss: 0.3536 - accuracy: 0.8693 - val_loss: 0.6751 - val_accuracy: 0.7941 - lr: 0.0010 - 15s/epoch - 259ms/step
Epoch 45/50
59/59 - 15s - loss: 0.3614 - accuracy: 0.8673 - val_loss: 0.7415 - val_accuracy: 0.7783 - lr: 0.0010 - 15s/epoch - 257ms/step
Epoch 46/50
59/59 - 15s - loss: 0.3517 - accuracy: 0.8707 - val_loss: 0.6466 - val_accuracy: 0.8008 - lr: 0.0010 - 15s/epoch - 252ms/step
Epoch 47/50
59/59 - 14s - loss: 0.3534 - accuracy: 0.8701 - val_loss: 0.6951 - val_accuracy: 0.7966 - lr: 0.0010 - 14s/epoch - 230ms/step
Epoch 48/50
59/59 - 13s - loss: 0.3554 - accuracy: 0.8686 - val_loss: 0.7193 - val_accuracy: 0.7818 - lr: 0.0010 - 13s/epoch - 225ms/step
Epoch 49/50
59/59 - 13s - loss: 0.3535 - accuracy: 0.8688 - val_loss: 0.6813 - val_accuracy: 0.7925 - lr: 0.0010 - 13s/epoch - 226ms/step
Epoch 50/50
59/59 - 13s - loss: 0.3569 - accuracy: 0.8691 - val_loss: 0.7461 - val_accuracy: 0.7830 - lr: 0.0010 - 13s/epoch - 225ms/step
fitting with batch size: 2500
Epoch 1/50
36/36 - 17s - loss: 0.3304 - accuracy: 0.8801 - val_loss: 0.5810 - val_accuracy: 0.8295 - lr: 0.0010 - 17s/epoch - 486ms/step
Epoch 2/50
36/36 - 15s - loss: 0.3651 - accuracy: 0.8656 - val_loss: 0.6553 - val_accuracy: 0.8038 - lr: 0.0010 - 15s/epoch - 403ms/step
Epoch 3/50
36/36 - 14s - loss: 0.3433 - accuracy: 0.8737 - val_loss: 0.6928 - val_accuracy: 0.7900 - lr: 0.0010 - 14s/epoch - 390ms/step
Epoch 4/50
36/36 - 14s - loss: 0.3900 - accuracy: 0.8560 - val_loss: 0.6838 - val_accuracy: 0.7901 - lr: 0.0010 - 14s/epoch - 390ms/step
Epoch 5/50
36/36 - 15s - loss: 0.3827 - accuracy: 0.8595 - val_loss: 0.8851 - val_accuracy: 0.7162 - lr: 0.0010 - 15s/epoch - 413ms/step
Epoch 6/50
36/36 - 15s - loss: 0.3584 - accuracy: 0.8680 - val_loss: 0.8874 - val_accuracy: 0.7253 - lr: 0.0010 - 15s/epoch - 422ms/step
Epoch 7/50
36/36 - 14s - loss: 0.3629 - accuracy: 0.8670 - val_loss: 0.6973 - val_accuracy: 0.7863 - lr: 0.0010 - 14s/epoch - 399ms/step
Epoch 8/50
36/36 - 14s - loss: 0.3546 - accuracy: 0.8693 - val_loss: 0.7811 - val_accuracy: 0.7695 - lr: 0.0010 - 14s/epoch - 387ms/step
Epoch 9/50
36/36 - 13s - loss: 0.3500 - accuracy: 0.8717 - val_loss: 0.7826 - val_accuracy: 0.7698 - lr: 0.0010 - 13s/epoch - 368ms/step
Epoch 10/50
36/36 - 13s - loss: 0.4247 - accuracy: 0.8441 - val_loss: 0.7977 - val_accuracy: 0.7500 - lr: 0.0010 - 13s/epoch - 363ms/step
Epoch 11/50
36/36 - 15s - loss: 0.3728 - accuracy: 0.8632 - val_loss: 0.6774 - val_accuracy: 0.7973 - lr: 0.0010 - 15s/epoch - 412ms/step
Epoch 12/50
36/36 - 13s - loss: 0.3293 - accuracy: 0.8802 - val_loss: 0.7006 - val_accuracy: 0.8018 - lr: 0.0010 - 13s/epoch - 365ms/step
Epoch 13/50
36/36 - 13s - loss: 0.3780 - accuracy: 0.8609 - val_loss: 0.6993 - val_accuracy: 0.7858 - lr: 0.0010 - 13s/epoch - 365ms/step
Epoch 14/50
36/36 - 13s - loss: 0.3595 - accuracy: 0.8688 - val_loss: 0.6319 - val_accuracy: 0.8045 - lr: 0.0010 - 13s/epoch - 363ms/step
Epoch 15/50
36/36 - 13s - loss: 0.3528 - accuracy: 0.8711 - val_loss: 0.5942 - val_accuracy: 0.8245 - lr: 0.0010 - 13s/epoch - 367ms/step
Epoch 16/50
36/36 - 10s - loss: 0.3809 - accuracy: 0.8593 - val_loss: 0.6366 - val_accuracy: 0.8039 - lr: 0.0010 - 10s/epoch - 271ms/step
Epoch 17/50
36/36 - 14s - loss: 0.3508 - accuracy: 0.8715 - val_loss: 0.6979 - val_accuracy: 0.7876 - lr: 0.0010 - 14s/epoch - 393ms/step
Epoch 18/50
36/36 - 13s - loss: 0.3885 - accuracy: 0.8566 - val_loss: 0.6289 - val_accuracy: 0.8133 - lr: 0.0010 - 13s/epoch - 374ms/step
Epoch 19/50
36/36 - 13s - loss: 0.3394 - accuracy: 0.8751 - val_loss: 0.7203 - val_accuracy: 0.7860 - lr: 0.0010 - 13s/epoch - 370ms/step
Epoch 20/50
36/36 - 13s - loss: 0.3470 - accuracy: 0.8728 - val_loss: 0.7610 - val_accuracy: 0.7704 - lr: 0.0010 - 13s/epoch - 358ms/step
Epoch 21/50
36/36 - 14s - loss: 0.3822 - accuracy: 0.8593 - val_loss: 0.6236 - val_accuracy: 0.8106 - lr: 0.0010 - 14s/epoch - 391ms/step
Epoch 22/50
36/36 - 14s - loss: 0.3224 - accuracy: 0.8819 - val_loss: 0.7321 - val_accuracy: 0.7758 - lr: 0.0010 - 14s/epoch - 382ms/step
Epoch 23/50
36/36 - 14s - loss: 0.3450 - accuracy: 0.8734 - val_loss: 0.7254 - val_accuracy: 0.7711 - lr: 0.0010 - 14s/epoch - 377ms/step
Epoch 24/50
36/36 - 13s - loss: 0.3180 - accuracy: 0.8835 - val_loss: 0.6836 - val_accuracy: 0.7925 - lr: 0.0010 - 13s/epoch - 359ms/step
Epoch 25/50
36/36 - 13s - loss: 0.4212 - accuracy: 0.8460 - val_loss: 0.6570 - val_accuracy: 0.7977 - lr: 0.0010 - 13s/epoch - 368ms/step
Epoch 26/50
36/36 - 12s - loss: 0.3562 - accuracy: 0.8686 - val_loss: 0.6476 - val_accuracy: 0.8004 - lr: 0.0010 - 12s/epoch - 344ms/step
Epoch 27/50
36/36 - 13s - loss: 0.3376 - accuracy: 0.8769 - val_loss: 0.7520 - val_accuracy: 0.7783 - lr: 0.0010 - 13s/epoch - 364ms/step
Epoch 28/50
36/36 - 14s - loss: 0.3183 - accuracy: 0.8833 - val_loss: 0.7115 - val_accuracy: 0.7812 - lr: 0.0010 - 14s/epoch - 380ms/step
Epoch 29/50
36/36 - 14s - loss: 0.3375 - accuracy: 0.8759 - val_loss: 0.7779 - val_accuracy: 0.7618 - lr: 0.0010 - 14s/epoch - 384ms/step
Epoch 30/50
36/36 - 13s - loss: 0.3778 - accuracy: 0.8601 - val_loss: 0.6440 - val_accuracy: 0.8095 - lr: 0.0010 - 13s/epoch - 365ms/step
Epoch 31/50
36/36 - 13s - loss: 0.3484 - accuracy: 0.8724 - val_loss: 0.7191 - val_accuracy: 0.7855 - lr: 0.0010 - 13s/epoch - 371ms/step
Epoch 32/50
36/36 - 15s - loss: 0.3293 - accuracy: 0.8791 - val_loss: 0.6796 - val_accuracy: 0.8022 - lr: 0.0010 - 15s/epoch - 420ms/step
Epoch 33/50
36/36 - 15s - loss: 0.3236 - accuracy: 0.8806 - val_loss: 0.6951 - val_accuracy: 0.7965 - lr: 0.0010 - 15s/epoch - 416ms/step
Epoch 34/50
36/36 - 15s - loss: 0.3751 - accuracy: 0.8610 - val_loss: 0.6983 - val_accuracy: 0.7944 - lr: 0.0010 - 15s/epoch - 425ms/step
Epoch 35/50
36/36 - 15s - loss: 0.3327 - accuracy: 0.8778 - val_loss: 0.7373 - val_accuracy: 0.7729 - lr: 0.0010 - 15s/epoch - 412ms/step
Epoch 36/50
36/36 - 15s - loss: 0.3773 - accuracy: 0.8606 - val_loss: 0.6104 - val_accuracy: 0.8171 - lr: 0.0010 - 15s/epoch - 406ms/step
Epoch 37/50
36/36 - 13s - loss: 0.3905 - accuracy: 0.8562 - val_loss: 0.7015 - val_accuracy: 0.7840 - lr: 0.0010 - 13s/epoch - 370ms/step
Epoch 38/50
36/36 - 16s - loss: 0.3449 - accuracy: 0.8724 - val_loss: 0.7118 - val_accuracy: 0.7815 - lr: 0.0010 - 16s/epoch - 434ms/step
Epoch 39/50
36/36 - 16s - loss: 0.3710 - accuracy: 0.8627 - val_loss: 0.7270 - val_accuracy: 0.7776 - lr: 0.0010 - 16s/epoch - 431ms/step
Epoch 40/50
36/36 - 16s - loss: 0.3353 - accuracy: 0.8762 - val_loss: 0.6970 - val_accuracy: 0.7911 - lr: 0.0010 - 16s/epoch - 431ms/step
Epoch 41/50
36/36 - 16s - loss: 0.3392 - accuracy: 0.8747 - val_loss: 0.7227 - val_accuracy: 0.7775 - lr: 0.0010 - 16s/epoch - 436ms/step
Epoch 42/50
36/36 - 15s - loss: 0.3672 - accuracy: 0.8652 - val_loss: 0.7691 - val_accuracy: 0.7672 - lr: 0.0010 - 15s/epoch - 421ms/step
Epoch 43/50
36/36 - 14s - loss: 0.3516 - accuracy: 0.8687 - val_loss: 0.7773 - val_accuracy: 0.7608 - lr: 0.0010 - 14s/epoch - 399ms/step
Epoch 44/50
36/36 - 14s - loss: 0.3537 - accuracy: 0.8699 - val_loss: 0.7294 - val_accuracy: 0.7713 - lr: 0.0010 - 14s/epoch - 378ms/step
Epoch 45/50
36/36 - 14s - loss: 0.3566 - accuracy: 0.8686 - val_loss: 0.7325 - val_accuracy: 0.7741 - lr: 0.0010 - 14s/epoch - 402ms/step
Epoch 46/50
36/36 - 14s - loss: 0.3843 - accuracy: 0.8573 - val_loss: 0.7404 - val_accuracy: 0.7590 - lr: 0.0010 - 14s/epoch - 382ms/step
Epoch 47/50
36/36 - 14s - loss: 0.3312 - accuracy: 0.8784 - val_loss: 0.7157 - val_accuracy: 0.7877 - lr: 0.0010 - 14s/epoch - 392ms/step
Epoch 48/50
36/36 - 14s - loss: 0.3074 - accuracy: 0.8887 - val_loss: 0.7945 - val_accuracy: 0.7662 - lr: 0.0010 - 14s/epoch - 389ms/step
Epoch 49/50
36/36 - 14s - loss: 0.3189 - accuracy: 0.8826 - val_loss: 0.7681 - val_accuracy: 0.7807 - lr: 0.0010 - 14s/epoch - 386ms/step
Epoch 50/50
36/36 - 14s - loss: 0.3534 - accuracy: 0.8689 - val_loss: 0.7158 - val_accuracy: 0.7809 - lr: 0.0010 - 14s/epoch - 397ms/step
Loss: poisson
Epoch number: 25
fitting with batch size: 1500
Epoch 1/25
59/59 - 19s - loss: 0.3082 - accuracy: 0.8009 - val_loss: 0.3344 - val_accuracy: 0.7923 - lr: 0.0010 - 19s/epoch - 328ms/step
Epoch 2/25
59/59 - 15s - loss: 0.2643 - accuracy: 0.8827 - val_loss: 0.3379 - val_accuracy: 0.7888 - lr: 0.0010 - 15s/epoch - 259ms/step
Epoch 3/25
59/59 - 15s - loss: 0.2573 - accuracy: 0.8958 - val_loss: 0.3437 - val_accuracy: 0.7901 - lr: 0.0010 - 15s/epoch - 255ms/step
Epoch 4/25
59/59 - 14s - loss: 0.2564 - accuracy: 0.8990 - val_loss: 0.3431 - val_accuracy: 0.7903 - lr: 0.0010 - 14s/epoch - 244ms/step
Epoch 5/25
59/59 - 14s - loss: 0.2584 - accuracy: 0.8933 - val_loss: 0.3705 - val_accuracy: 0.7588 - lr: 0.0010 - 14s/epoch - 242ms/step
Epoch 6/25
59/59 - 14s - loss: 0.2612 - accuracy: 0.8874 - val_loss: 0.3562 - val_accuracy: 0.7691 - lr: 0.0010 - 14s/epoch - 229ms/step
Epoch 7/25
59/59 - 12s - loss: 0.2628 - accuracy: 0.8840 - val_loss: 0.3490 - val_accuracy: 0.7761 - lr: 0.0010 - 12s/epoch - 202ms/step
Epoch 8/25
59/59 - 15s - loss: 0.2666 - accuracy: 0.8773 - val_loss: 0.3411 - val_accuracy: 0.7860 - lr: 0.0010 - 15s/epoch - 262ms/step
Epoch 9/25
59/59 - 16s - loss: 0.2660 - accuracy: 0.8779 - val_loss: 0.3399 - val_accuracy: 0.7878 - lr: 0.0010 - 16s/epoch - 273ms/step
Epoch 10/25
59/59 - 16s - loss: 0.2674 - accuracy: 0.8761 - val_loss: 0.3417 - val_accuracy: 0.7866 - lr: 0.0010 - 16s/epoch - 264ms/step
Epoch 11/25
59/59 - 15s - loss: 0.2683 - accuracy: 0.8738 - val_loss: 0.3414 - val_accuracy: 0.7854 - lr: 0.0010 - 15s/epoch - 253ms/step
Epoch 12/25
59/59 - 16s - loss: 0.2687 - accuracy: 0.8728 - val_loss: 0.3340 - val_accuracy: 0.7943 - lr: 0.0010 - 16s/epoch - 263ms/step
Epoch 13/25
59/59 - 15s - loss: 0.2663 - accuracy: 0.8783 - val_loss: 0.3395 - val_accuracy: 0.7874 - lr: 0.0010 - 15s/epoch - 263ms/step
Epoch 14/25
59/59 - 16s - loss: 0.2673 - accuracy: 0.8759 - val_loss: 0.3427 - val_accuracy: 0.7846 - lr: 0.0010 - 16s/epoch - 271ms/step
Epoch 15/25
59/59 - 16s - loss: 0.2686 - accuracy: 0.8744 - val_loss: 0.3421 - val_accuracy: 0.7925 - lr: 0.0010 - 16s/epoch - 266ms/step
Epoch 16/25
59/59 - 16s - loss: 0.2671 - accuracy: 0.8763 - val_loss: 0.3463 - val_accuracy: 0.7812 - lr: 0.0010 - 16s/epoch - 265ms/step
Epoch 17/25
59/59 - 15s - loss: 0.2676 - accuracy: 0.8751 - val_loss: 0.3311 - val_accuracy: 0.8060 - lr: 0.0010 - 15s/epoch - 254ms/step
Epoch 18/25
59/59 - 16s - loss: 0.2686 - accuracy: 0.8735 - val_loss: 0.3337 - val_accuracy: 0.7934 - lr: 0.0010 - 16s/epoch - 271ms/step
Epoch 19/25
59/59 - 16s - loss: 0.2668 - accuracy: 0.8774 - val_loss: 0.3328 - val_accuracy: 0.8010 - lr: 0.0010 - 16s/epoch - 269ms/step
Epoch 20/25
59/59 - 15s - loss: 0.2687 - accuracy: 0.8721 - val_loss: 0.3342 - val_accuracy: 0.8005 - lr: 0.0010 - 15s/epoch - 261ms/step
Epoch 21/25
59/59 - 16s - loss: 0.2685 - accuracy: 0.8730 - val_loss: 0.3403 - val_accuracy: 0.7898 - lr: 0.0010 - 16s/epoch - 280ms/step
Epoch 22/25
59/59 - 15s - loss: 0.2672 - accuracy: 0.8755 - val_loss: 0.3395 - val_accuracy: 0.7951 - lr: 0.0010 - 15s/epoch - 261ms/step
Epoch 23/25
59/59 - 17s - loss: 0.2659 - accuracy: 0.8793 - val_loss: 0.3511 - val_accuracy: 0.7856 - lr: 0.0010 - 17s/epoch - 287ms/step
Epoch 24/25
59/59 - 16s - loss: 0.2677 - accuracy: 0.8752 - val_loss: 0.3515 - val_accuracy: 0.7764 - lr: 0.0010 - 16s/epoch - 275ms/step
Epoch 25/25
59/59 - 16s - loss: 0.2676 - accuracy: 0.8752 - val_loss: 0.3315 - val_accuracy: 0.8081 - lr: 0.0010 - 16s/epoch - 268ms/step
fitting with batch size: 2500
Epoch 1/25
36/36 - 17s - loss: 0.2621 - accuracy: 0.8854 - val_loss: 0.3474 - val_accuracy: 0.7844 - lr: 0.0010 - 17s/epoch - 484ms/step
Epoch 2/25
36/36 - 14s - loss: 0.2675 - accuracy: 0.8753 - val_loss: 0.3549 - val_accuracy: 0.7690 - lr: 0.0010 - 14s/epoch - 401ms/step
Epoch 3/25
36/36 - 15s - loss: 0.2650 - accuracy: 0.8793 - val_loss: 0.3805 - val_accuracy: 0.7275 - lr: 0.0010 - 15s/epoch - 426ms/step
Epoch 4/25
36/36 - 16s - loss: 0.2704 - accuracy: 0.8693 - val_loss: 0.3371 - val_accuracy: 0.7989 - lr: 0.0010 - 16s/epoch - 433ms/step
Epoch 5/25
36/36 - 15s - loss: 0.2641 - accuracy: 0.8826 - val_loss: 0.3629 - val_accuracy: 0.7528 - lr: 0.0010 - 15s/epoch - 406ms/step
Epoch 6/25
36/36 - 15s - loss: 0.2628 - accuracy: 0.8839 - val_loss: 0.3693 - val_accuracy: 0.7522 - lr: 0.0010 - 15s/epoch - 425ms/step
Epoch 7/25
36/36 - 16s - loss: 0.2727 - accuracy: 0.8650 - val_loss: 0.3657 - val_accuracy: 0.7431 - lr: 0.0010 - 16s/epoch - 444ms/step
Epoch 8/25
36/36 - 15s - loss: 0.2649 - accuracy: 0.8798 - val_loss: 0.3567 - val_accuracy: 0.7563 - lr: 0.0010 - 15s/epoch - 422ms/step
Epoch 9/25
36/36 - 15s - loss: 0.2720 - accuracy: 0.8667 - val_loss: 0.3294 - val_accuracy: 0.8101 - lr: 0.0010 - 15s/epoch - 413ms/step
Epoch 10/25
36/36 - 15s - loss: 0.2774 - accuracy: 0.8568 - val_loss: 0.3230 - val_accuracy: 0.8144 - lr: 0.0010 - 15s/epoch - 404ms/step
Epoch 11/25
36/36 - 15s - loss: 0.2753 - accuracy: 0.8611 - val_loss: 0.3223 - val_accuracy: 0.8068 - lr: 0.0010 - 15s/epoch - 403ms/step
Epoch 12/25
36/36 - 15s - loss: 0.2630 - accuracy: 0.8856 - val_loss: 0.3327 - val_accuracy: 0.8022 - lr: 0.0010 - 15s/epoch - 417ms/step
Epoch 13/25
36/36 - 15s - loss: 0.2602 - accuracy: 0.8900 - val_loss: 0.3527 - val_accuracy: 0.7622 - lr: 0.0010 - 15s/epoch - 424ms/step
Epoch 14/25
36/36 - 15s - loss: 0.2794 - accuracy: 0.8544 - val_loss: 0.3559 - val_accuracy: 0.7811 - lr: 0.0010 - 15s/epoch - 405ms/step
Epoch 15/25
36/36 - 16s - loss: 0.2810 - accuracy: 0.8493 - val_loss: 0.3480 - val_accuracy: 0.7772 - lr: 0.0010 - 16s/epoch - 435ms/step
Epoch 16/25
36/36 - 16s - loss: 0.2629 - accuracy: 0.8844 - val_loss: 0.3399 - val_accuracy: 0.7896 - lr: 0.0010 - 16s/epoch - 441ms/step
Epoch 17/25
36/36 - 14s - loss: 0.2628 - accuracy: 0.8837 - val_loss: 0.3276 - val_accuracy: 0.8124 - lr: 0.0010 - 14s/epoch - 394ms/step
Epoch 18/25
36/36 - 14s - loss: 0.2773 - accuracy: 0.8582 - val_loss: 0.3405 - val_accuracy: 0.7914 - lr: 0.0010 - 14s/epoch - 391ms/step
Epoch 19/25
36/36 - 16s - loss: 0.2780 - accuracy: 0.8573 - val_loss: 0.3518 - val_accuracy: 0.7562 - lr: 0.0010 - 16s/epoch - 431ms/step
Epoch 20/25
36/36 - 16s - loss: 0.2763 - accuracy: 0.8582 - val_loss: 0.3384 - val_accuracy: 0.7886 - lr: 0.0010 - 16s/epoch - 448ms/step
Epoch 21/25
36/36 - 16s - loss: 0.2680 - accuracy: 0.8742 - val_loss: 0.3309 - val_accuracy: 0.8075 - lr: 0.0010 - 16s/epoch - 441ms/step
Epoch 22/25
36/36 - 16s - loss: 0.2640 - accuracy: 0.8823 - val_loss: 0.3433 - val_accuracy: 0.7856 - lr: 0.0010 - 16s/epoch - 437ms/step
Epoch 23/25
36/36 - 14s - loss: 0.2616 - accuracy: 0.8856 - val_loss: 0.3358 - val_accuracy: 0.7963 - lr: 0.0010 - 14s/epoch - 393ms/step
Epoch 24/25
36/36 - 14s - loss: 0.2709 - accuracy: 0.8693 - val_loss: 0.3288 - val_accuracy: 0.8048 - lr: 0.0010 - 14s/epoch - 387ms/step
Epoch 25/25
36/36 - 13s - loss: 0.2726 - accuracy: 0.8656 - val_loss: 0.3437 - val_accuracy: 0.7808 - lr: 0.0010 - 13s/epoch - 359ms/step
Epoch number: 50
fitting with batch size: 1500
Epoch 1/50
59/59 - 19s - loss: 0.2680 - accuracy: 0.8742 - val_loss: 0.3476 - val_accuracy: 0.7762 - lr: 0.0010 - 19s/epoch - 325ms/step
Epoch 2/50
59/59 - 14s - loss: 0.2654 - accuracy: 0.8797 - val_loss: 0.3413 - val_accuracy: 0.7877 - lr: 0.0010 - 14s/epoch - 240ms/step
Epoch 3/50
59/59 - 14s - loss: 0.2667 - accuracy: 0.8761 - val_loss: 0.3411 - val_accuracy: 0.7868 - lr: 0.0010 - 14s/epoch - 237ms/step
Epoch 4/50
59/59 - 15s - loss: 0.2677 - accuracy: 0.8741 - val_loss: 0.3336 - val_accuracy: 0.8017 - lr: 0.0010 - 15s/epoch - 258ms/step
Epoch 5/50
59/59 - 14s - loss: 0.2666 - accuracy: 0.8768 - val_loss: 0.3311 - val_accuracy: 0.8052 - lr: 0.0010 - 14s/epoch - 239ms/step
Epoch 6/50
59/59 - 14s - loss: 0.2666 - accuracy: 0.8762 - val_loss: 0.3367 - val_accuracy: 0.7990 - lr: 0.0010 - 14s/epoch - 237ms/step
Epoch 7/50
59/59 - 15s - loss: 0.2669 - accuracy: 0.8767 - val_loss: 0.3226 - val_accuracy: 0.8199 - lr: 0.0010 - 15s/epoch - 255ms/step
Epoch 8/50
59/59 - 15s - loss: 0.2661 - accuracy: 0.8781 - val_loss: 0.3360 - val_accuracy: 0.7954 - lr: 0.0010 - 15s/epoch - 258ms/step
Epoch 9/50
59/59 - 16s - loss: 0.2662 - accuracy: 0.8768 - val_loss: 0.3451 - val_accuracy: 0.7828 - lr: 0.0010 - 16s/epoch - 277ms/step
Epoch 10/50
59/59 - 15s - loss: 0.2658 - accuracy: 0.8787 - val_loss: 0.3398 - val_accuracy: 0.7902 - lr: 0.0010 - 15s/epoch - 250ms/step
Epoch 11/50
59/59 - 15s - loss: 0.2678 - accuracy: 0.8740 - val_loss: 0.3508 - val_accuracy: 0.7755 - lr: 0.0010 - 15s/epoch - 257ms/step
Epoch 12/50
59/59 - 13s - loss: 0.2661 - accuracy: 0.8792 - val_loss: 0.3389 - val_accuracy: 0.7994 - lr: 0.0010 - 13s/epoch - 220ms/step
Epoch 13/50
59/59 - 10s - loss: 0.2667 - accuracy: 0.8780 - val_loss: 0.3513 - val_accuracy: 0.7704 - lr: 0.0010 - 10s/epoch - 163ms/step
Epoch 14/50
59/59 - 10s - loss: 0.2666 - accuracy: 0.8776 - val_loss: 0.3568 - val_accuracy: 0.7579 - lr: 0.0010 - 10s/epoch - 162ms/step
Epoch 15/50
59/59 - 9s - loss: 0.2670 - accuracy: 0.8759 - val_loss: 0.3436 - val_accuracy: 0.7889 - lr: 0.0010 - 9s/epoch - 161ms/step
Epoch 16/50
59/59 - 10s - loss: 0.2654 - accuracy: 0.8799 - val_loss: 0.3567 - val_accuracy: 0.7614 - lr: 0.0010 - 10s/epoch - 163ms/step
Epoch 17/50
59/59 - 10s - loss: 0.2671 - accuracy: 0.8754 - val_loss: 0.3643 - val_accuracy: 0.7580 - lr: 0.0010 - 10s/epoch - 170ms/step
Epoch 18/50
59/59 - 10s - loss: 0.2660 - accuracy: 0.8774 - val_loss: 0.3517 - val_accuracy: 0.7725 - lr: 0.0010 - 10s/epoch - 168ms/step
Epoch 19/50
59/59 - 15s - loss: 0.2653 - accuracy: 0.8803 - val_loss: 0.3483 - val_accuracy: 0.7764 - lr: 0.0010 - 15s/epoch - 261ms/step
Epoch 20/50
59/59 - 15s - loss: 0.2647 - accuracy: 0.8799 - val_loss: 0.3503 - val_accuracy: 0.7680 - lr: 0.0010 - 15s/epoch - 247ms/step
Epoch 21/50
59/59 - 15s - loss: 0.2653 - accuracy: 0.8786 - val_loss: 0.3558 - val_accuracy: 0.7677 - lr: 0.0010 - 15s/epoch - 246ms/step
Epoch 22/50
59/59 - 14s - loss: 0.2646 - accuracy: 0.8807 - val_loss: 0.3495 - val_accuracy: 0.7822 - lr: 0.0010 - 14s/epoch - 243ms/step
Epoch 23/50
59/59 - 15s - loss: 0.2653 - accuracy: 0.8787 - val_loss: 0.3497 - val_accuracy: 0.7797 - lr: 0.0010 - 15s/epoch - 260ms/step
Epoch 24/50
59/59 - 15s - loss: 0.2644 - accuracy: 0.8804 - val_loss: 0.3553 - val_accuracy: 0.7717 - lr: 0.0010 - 15s/epoch - 254ms/step
Epoch 25/50
59/59 - 15s - loss: 0.2649 - accuracy: 0.8790 - val_loss: 0.3470 - val_accuracy: 0.7858 - lr: 0.0010 - 15s/epoch - 251ms/step
Epoch 26/50
59/59 - 16s - loss: 0.2653 - accuracy: 0.8793 - val_loss: 0.3461 - val_accuracy: 0.7869 - lr: 0.0010 - 16s/epoch - 263ms/step
Epoch 27/50
59/59 - 15s - loss: 0.2650 - accuracy: 0.8791 - val_loss: 0.3419 - val_accuracy: 0.7930 - lr: 0.0010 - 15s/epoch - 256ms/step
Epoch 28/50
59/59 - 14s - loss: 0.2651 - accuracy: 0.8793 - val_loss: 0.3580 - val_accuracy: 0.7699 - lr: 0.0010 - 14s/epoch - 232ms/step
Epoch 29/50
59/59 - 14s - loss: 0.2651 - accuracy: 0.8790 - val_loss: 0.3376 - val_accuracy: 0.8010 - lr: 0.0010 - 14s/epoch - 243ms/step
Epoch 30/50
59/59 - 16s - loss: 0.2650 - accuracy: 0.8791 - val_loss: 0.3470 - val_accuracy: 0.7817 - lr: 0.0010 - 16s/epoch - 266ms/step
Epoch 31/50
59/59 - 13s - loss: 0.2652 - accuracy: 0.8787 - val_loss: 0.3436 - val_accuracy: 0.7902 - lr: 0.0010 - 13s/epoch - 227ms/step
Epoch 32/50
59/59 - 13s - loss: 0.2642 - accuracy: 0.8801 - val_loss: 0.3458 - val_accuracy: 0.7840 - lr: 0.0010 - 13s/epoch - 226ms/step
Epoch 33/50
59/59 - 14s - loss: 0.2649 - accuracy: 0.8798 - val_loss: 0.3401 - val_accuracy: 0.7789 - lr: 0.0010 - 14s/epoch - 237ms/step
Epoch 34/50
59/59 - 14s - loss: 0.2645 - accuracy: 0.8807 - val_loss: 0.3466 - val_accuracy: 0.7807 - lr: 0.0010 - 14s/epoch - 242ms/step
Epoch 35/50
59/59 - 15s - loss: 0.2638 - accuracy: 0.8809 - val_loss: 0.3360 - val_accuracy: 0.8007 - lr: 0.0010 - 15s/epoch - 252ms/step
Epoch 36/50
59/59 - 14s - loss: 0.2647 - accuracy: 0.8812 - val_loss: 0.3414 - val_accuracy: 0.7928 - lr: 0.0010 - 14s/epoch - 241ms/step
Epoch 37/50
59/59 - 15s - loss: 0.2647 - accuracy: 0.8801 - val_loss: 0.3406 - val_accuracy: 0.7875 - lr: 0.0010 - 15s/epoch - 248ms/step
Epoch 38/50
59/59 - 14s - loss: 0.2644 - accuracy: 0.8804 - val_loss: 0.3431 - val_accuracy: 0.7905 - lr: 0.0010 - 14s/epoch - 239ms/step
Epoch 39/50
59/59 - 15s - loss: 0.2641 - accuracy: 0.8807 - val_loss: 0.3485 - val_accuracy: 0.7899 - lr: 0.0010 - 15s/epoch - 253ms/step
Epoch 40/50
59/59 - 14s - loss: 0.2638 - accuracy: 0.8822 - val_loss: 0.3563 - val_accuracy: 0.7815 - lr: 0.0010 - 14s/epoch - 232ms/step
Epoch 41/50
59/59 - 9s - loss: 0.2648 - accuracy: 0.8788 - val_loss: 0.3654 - val_accuracy: 0.7527 - lr: 0.0010 - 9s/epoch - 156ms/step
Epoch 42/50
59/59 - 9s - loss: 0.2638 - accuracy: 0.8820 - val_loss: 0.3449 - val_accuracy: 0.7883 - lr: 0.0010 - 9s/epoch - 160ms/step
Epoch 43/50
59/59 - 9s - loss: 0.2653 - accuracy: 0.8792 - val_loss: 0.3523 - val_accuracy: 0.7683 - lr: 0.0010 - 9s/epoch - 161ms/step
Epoch 44/50
59/59 - 9s - loss: 0.2654 - accuracy: 0.8780 - val_loss: 0.3412 - val_accuracy: 0.7891 - lr: 0.0010 - 9s/epoch - 159ms/step
Epoch 45/50
59/59 - 9s - loss: 0.2649 - accuracy: 0.8793 - val_loss: 0.3420 - val_accuracy: 0.7894 - lr: 0.0010 - 9s/epoch - 154ms/step
Epoch 46/50
59/59 - 9s - loss: 0.2647 - accuracy: 0.8803 - val_loss: 0.3405 - val_accuracy: 0.7898 - lr: 0.0010 - 9s/epoch - 160ms/step
Epoch 47/50
59/59 - 10s - loss: 0.2629 - accuracy: 0.8842 - val_loss: 0.3644 - val_accuracy: 0.7511 - lr: 0.0010 - 10s/epoch - 162ms/step
Epoch 48/50
59/59 - 9s - loss: 0.2654 - accuracy: 0.8778 - val_loss: 0.3554 - val_accuracy: 0.7751 - lr: 0.0010 - 9s/epoch - 161ms/step
Epoch 49/50
59/59 - 9s - loss: 0.2636 - accuracy: 0.8818 - val_loss: 0.3546 - val_accuracy: 0.7662 - lr: 0.0010 - 9s/epoch - 160ms/step
Epoch 50/50
59/59 - 10s - loss: 0.2646 - accuracy: 0.8802 - val_loss: 0.3325 - val_accuracy: 0.8051 - lr: 0.0010 - 10s/epoch - 161ms/step
fitting with batch size: 2500
Epoch 1/50
36/36 - 12s - loss: 0.2577 - accuracy: 0.8944 - val_loss: 0.3570 - val_accuracy: 0.7730 - lr: 0.0010 - 12s/epoch - 334ms/step
Epoch 2/50
36/36 - 9s - loss: 0.2576 - accuracy: 0.8937 - val_loss: 0.3321 - val_accuracy: 0.8035 - lr: 0.0010 - 9s/epoch - 252ms/step
Epoch 3/50
36/36 - 9s - loss: 0.2728 - accuracy: 0.8648 - val_loss: 0.3599 - val_accuracy: 0.7591 - lr: 0.0010 - 9s/epoch - 248ms/step
Epoch 4/50
36/36 - 9s - loss: 0.2742 - accuracy: 0.8616 - val_loss: 0.3369 - val_accuracy: 0.7960 - lr: 0.0010 - 9s/epoch - 248ms/step
Epoch 5/50
36/36 - 9s - loss: 0.2644 - accuracy: 0.8808 - val_loss: 0.3609 - val_accuracy: 0.7595 - lr: 0.0010 - 9s/epoch - 243ms/step
Epoch 6/50
36/36 - 9s - loss: 0.2662 - accuracy: 0.8774 - val_loss: 0.3496 - val_accuracy: 0.7660 - lr: 0.0010 - 9s/epoch - 240ms/step
Epoch 7/50
36/36 - 9s - loss: 0.2752 - accuracy: 0.8612 - val_loss: 0.3433 - val_accuracy: 0.7855 - lr: 0.0010 - 9s/epoch - 244ms/step
Epoch 8/50
36/36 - 9s - loss: 0.2772 - accuracy: 0.8569 - val_loss: 0.3279 - val_accuracy: 0.8081 - lr: 0.0010 - 9s/epoch - 247ms/step
Epoch 9/50
36/36 - 9s - loss: 0.2708 - accuracy: 0.8682 - val_loss: 0.3459 - val_accuracy: 0.7771 - lr: 0.0010 - 9s/epoch - 246ms/step
Epoch 10/50
36/36 - 9s - loss: 0.2735 - accuracy: 0.8634 - val_loss: 0.3457 - val_accuracy: 0.7764 - lr: 0.0010 - 9s/epoch - 245ms/step
Epoch 11/50
36/36 - 9s - loss: 0.2600 - accuracy: 0.8878 - val_loss: 0.3659 - val_accuracy: 0.7524 - lr: 0.0010 - 9s/epoch - 247ms/step
Epoch 12/50
36/36 - 9s - loss: 0.2605 - accuracy: 0.8878 - val_loss: 0.3775 - val_accuracy: 0.7384 - lr: 0.0010 - 9s/epoch - 255ms/step
Epoch 13/50
36/36 - 9s - loss: 0.2634 - accuracy: 0.8821 - val_loss: 0.3752 - val_accuracy: 0.7288 - lr: 0.0010 - 9s/epoch - 257ms/step
Epoch 14/50
36/36 - 9s - loss: 0.2753 - accuracy: 0.8591 - val_loss: 0.3488 - val_accuracy: 0.7773 - lr: 0.0010 - 9s/epoch - 260ms/step
Epoch 15/50
36/36 - 9s - loss: 0.2679 - accuracy: 0.8743 - val_loss: 0.3559 - val_accuracy: 0.7711 - lr: 0.0010 - 9s/epoch - 257ms/step
Epoch 16/50
36/36 - 9s - loss: 0.2619 - accuracy: 0.8851 - val_loss: 0.3436 - val_accuracy: 0.7881 - lr: 0.0010 - 9s/epoch - 252ms/step
Epoch 17/50
36/36 - 9s - loss: 0.2621 - accuracy: 0.8848 - val_loss: 0.3606 - val_accuracy: 0.7578 - lr: 0.0010 - 9s/epoch - 257ms/step
Epoch 18/50
36/36 - 9s - loss: 0.2725 - accuracy: 0.8656 - val_loss: 0.3383 - val_accuracy: 0.7909 - lr: 0.0010 - 9s/epoch - 257ms/step
Epoch 19/50
36/36 - 9s - loss: 0.2637 - accuracy: 0.8820 - val_loss: 0.3389 - val_accuracy: 0.7928 - lr: 0.0010 - 9s/epoch - 254ms/step
Epoch 20/50
36/36 - 9s - loss: 0.2731 - accuracy: 0.8637 - val_loss: 0.3339 - val_accuracy: 0.7958 - lr: 0.0010 - 9s/epoch - 259ms/step
Epoch 21/50
36/36 - 9s - loss: 0.2620 - accuracy: 0.8858 - val_loss: 0.3525 - val_accuracy: 0.7730 - lr: 0.0010 - 9s/epoch - 259ms/step
Epoch 22/50
36/36 - 11s - loss: 0.2616 - accuracy: 0.8852 - val_loss: 0.3305 - val_accuracy: 0.8077 - lr: 0.0010 - 11s/epoch - 300ms/step
Epoch 23/50
36/36 - 16s - loss: 0.2591 - accuracy: 0.8906 - val_loss: 0.3523 - val_accuracy: 0.7717 - lr: 0.0010 - 16s/epoch - 456ms/step
Epoch 24/50
36/36 - 16s - loss: 0.2677 - accuracy: 0.8748 - val_loss: 0.3509 - val_accuracy: 0.7810 - lr: 0.0010 - 16s/epoch - 445ms/step
Epoch 25/50
36/36 - 15s - loss: 0.2687 - accuracy: 0.8730 - val_loss: 0.3553 - val_accuracy: 0.7791 - lr: 0.0010 - 15s/epoch - 413ms/step
Epoch 26/50
36/36 - 14s - loss: 0.2823 - accuracy: 0.8489 - val_loss: 0.3473 - val_accuracy: 0.7779 - lr: 0.0010 - 14s/epoch - 377ms/step
Epoch 27/50
36/36 - 14s - loss: 0.2657 - accuracy: 0.8779 - val_loss: 0.3588 - val_accuracy: 0.7690 - lr: 0.0010 - 14s/epoch - 396ms/step
Epoch 28/50
36/36 - 14s - loss: 0.2688 - accuracy: 0.8725 - val_loss: 0.3523 - val_accuracy: 0.7701 - lr: 0.0010 - 14s/epoch - 394ms/step
Epoch 29/50
36/36 - 14s - loss: 0.2626 - accuracy: 0.8836 - val_loss: 0.3551 - val_accuracy: 0.7757 - lr: 0.0010 - 14s/epoch - 385ms/step
Epoch 30/50
36/36 - 14s - loss: 0.2680 - accuracy: 0.8721 - val_loss: 0.3255 - val_accuracy: 0.8138 - lr: 0.0010 - 14s/epoch - 382ms/step
Epoch 31/50
36/36 - 17s - loss: 0.2671 - accuracy: 0.8750 - val_loss: 0.3478 - val_accuracy: 0.7799 - lr: 0.0010 - 17s/epoch - 482ms/step
Epoch 32/50
36/36 - 17s - loss: 0.2637 - accuracy: 0.8825 - val_loss: 0.3608 - val_accuracy: 0.7579 - lr: 0.0010 - 17s/epoch - 464ms/step
Epoch 33/50
36/36 - 16s - loss: 0.2641 - accuracy: 0.8799 - val_loss: 0.3804 - val_accuracy: 0.7364 - lr: 0.0010 - 16s/epoch - 456ms/step
Epoch 34/50
36/36 - 13s - loss: 0.2695 - accuracy: 0.8707 - val_loss: 0.3437 - val_accuracy: 0.7932 - lr: 0.0010 - 13s/epoch - 353ms/step
Epoch 35/50
36/36 - 13s - loss: 0.2635 - accuracy: 0.8827 - val_loss: 0.3437 - val_accuracy: 0.7816 - lr: 0.0010 - 13s/epoch - 353ms/step
Epoch 36/50
36/36 - 12s - loss: 0.2682 - accuracy: 0.8735 - val_loss: 0.3342 - val_accuracy: 0.7990 - lr: 0.0010 - 12s/epoch - 338ms/step
Epoch 37/50
36/36 - 13s - loss: 0.2642 - accuracy: 0.8799 - val_loss: 0.3632 - val_accuracy: 0.7530 - lr: 0.0010 - 13s/epoch - 372ms/step
Epoch 38/50
36/36 - 14s - loss: 0.2674 - accuracy: 0.8757 - val_loss: 0.3604 - val_accuracy: 0.7602 - lr: 0.0010 - 14s/epoch - 379ms/step
Epoch 39/50
36/36 - 13s - loss: 0.2804 - accuracy: 0.8512 - val_loss: 0.3201 - val_accuracy: 0.8213 - lr: 0.0010 - 13s/epoch - 372ms/step
Epoch 40/50
36/36 - 13s - loss: 0.2651 - accuracy: 0.8794 - val_loss: 0.3419 - val_accuracy: 0.7877 - lr: 0.0010 - 13s/epoch - 372ms/step
Epoch 41/50
36/36 - 13s - loss: 0.2669 - accuracy: 0.8752 - val_loss: 0.3234 - val_accuracy: 0.8156 - lr: 0.0010 - 13s/epoch - 360ms/step
Epoch 42/50
36/36 - 8s - loss: 0.2610 - accuracy: 0.8860 - val_loss: 0.3544 - val_accuracy: 0.7675 - lr: 0.0010 - 8s/epoch - 222ms/step
Epoch 43/50
36/36 - 8s - loss: 0.2686 - accuracy: 0.8726 - val_loss: 0.3570 - val_accuracy: 0.7632 - lr: 0.0010 - 8s/epoch - 216ms/step
Epoch 44/50
36/36 - 8s - loss: 0.2654 - accuracy: 0.8777 - val_loss: 0.3487 - val_accuracy: 0.7827 - lr: 0.0010 - 8s/epoch - 222ms/step
Epoch 45/50
36/36 - 8s - loss: 0.2622 - accuracy: 0.8843 - val_loss: 0.3561 - val_accuracy: 0.7733 - lr: 0.0010 - 8s/epoch - 215ms/step
Epoch 46/50
36/36 - 8s - loss: 0.2576 - accuracy: 0.8943 - val_loss: 0.3439 - val_accuracy: 0.7959 - lr: 0.0010 - 8s/epoch - 219ms/step
Epoch 47/50
36/36 - 8s - loss: 0.2569 - accuracy: 0.8946 - val_loss: 0.3577 - val_accuracy: 0.7755 - lr: 0.0010 - 8s/epoch - 221ms/step
Epoch 48/50
36/36 - 8s - loss: 0.2626 - accuracy: 0.8834 - val_loss: 0.3344 - val_accuracy: 0.8055 - lr: 0.0010 - 8s/epoch - 210ms/step
Epoch 49/50
36/36 - 8s - loss: 0.2604 - accuracy: 0.8890 - val_loss: 0.3433 - val_accuracy: 0.7864 - lr: 0.0010 - 8s/epoch - 210ms/step
Epoch 50/50
36/36 - 8s - loss: 0.2593 - accuracy: 0.8889 - val_loss: 0.3489 - val_accuracy: 0.7894 - lr: 0.0010 - 8s/epoch - 210ms/step
Loss: kullback_leibler_divergence
Epoch number: 25
fitting with batch size: 1500
Epoch 1/25
59/59 - 10s - loss: 0.4452 - accuracy: 0.8345 - val_loss: 0.7265 - val_accuracy: 0.7622 - lr: 0.0010 - 10s/epoch - 175ms/step
Epoch 2/25
59/59 - 8s - loss: 0.3591 - accuracy: 0.8658 - val_loss: 0.6765 - val_accuracy: 0.7871 - lr: 0.0010 - 8s/epoch - 137ms/step
Epoch 3/25
59/59 - 8s - loss: 0.3375 - accuracy: 0.8742 - val_loss: 0.6733 - val_accuracy: 0.7974 - lr: 0.0010 - 8s/epoch - 136ms/step
Epoch 4/25
59/59 - 8s - loss: 0.3338 - accuracy: 0.8749 - val_loss: 0.6833 - val_accuracy: 0.7946 - lr: 0.0010 - 8s/epoch - 136ms/step
Epoch 5/25
59/59 - 8s - loss: 0.3200 - accuracy: 0.8816 - val_loss: 0.7072 - val_accuracy: 0.7952 - lr: 0.0010 - 8s/epoch - 136ms/step
Epoch 6/25
59/59 - 8s - loss: 0.3199 - accuracy: 0.8808 - val_loss: 0.7217 - val_accuracy: 0.7818 - lr: 0.0010 - 8s/epoch - 136ms/step
Epoch 7/25
59/59 - 8s - loss: 0.3155 - accuracy: 0.8840 - val_loss: 0.7946 - val_accuracy: 0.7615 - lr: 0.0010 - 8s/epoch - 136ms/step
Epoch 8/25
59/59 - 8s - loss: 0.3137 - accuracy: 0.8834 - val_loss: 0.7537 - val_accuracy: 0.7717 - lr: 0.0010 - 8s/epoch - 136ms/step
Epoch 9/25
59/59 - 8s - loss: 0.3145 - accuracy: 0.8822 - val_loss: 0.6957 - val_accuracy: 0.7868 - lr: 0.0010 - 8s/epoch - 136ms/step
Epoch 10/25
59/59 - 8s - loss: 0.3216 - accuracy: 0.8798 - val_loss: 0.7502 - val_accuracy: 0.7680 - lr: 0.0010 - 8s/epoch - 136ms/step
Epoch 11/25
59/59 - 8s - loss: 0.3147 - accuracy: 0.8827 - val_loss: 0.8516 - val_accuracy: 0.7461 - lr: 0.0010 - 8s/epoch - 136ms/step
Epoch 12/25
59/59 - 8s - loss: 0.3140 - accuracy: 0.8831 - val_loss: 0.7090 - val_accuracy: 0.8015 - lr: 0.0010 - 8s/epoch - 136ms/step
Epoch 13/25
59/59 - 8s - loss: 0.3147 - accuracy: 0.8825 - val_loss: 0.7459 - val_accuracy: 0.7802 - lr: 0.0010 - 8s/epoch - 136ms/step
Epoch 14/25
59/59 - 8s - loss: 0.3185 - accuracy: 0.8816 - val_loss: 0.8116 - val_accuracy: 0.7604 - lr: 0.0010 - 8s/epoch - 136ms/step
Epoch 15/25
59/59 - 8s - loss: 0.3263 - accuracy: 0.8785 - val_loss: 0.6425 - val_accuracy: 0.8070 - lr: 0.0010 - 8s/epoch - 136ms/step
Epoch 16/25
59/59 - 8s - loss: 0.3128 - accuracy: 0.8836 - val_loss: 0.6884 - val_accuracy: 0.7871 - lr: 0.0010 - 8s/epoch - 136ms/step
Epoch 17/25
59/59 - 8s - loss: 0.3074 - accuracy: 0.8852 - val_loss: 0.7359 - val_accuracy: 0.7816 - lr: 0.0010 - 8s/epoch - 136ms/step
Epoch 18/25
59/59 - 8s - loss: 0.3084 - accuracy: 0.8852 - val_loss: 0.8388 - val_accuracy: 0.7555 - lr: 0.0010 - 8s/epoch - 136ms/step
Epoch 19/25
59/59 - 8s - loss: 0.3129 - accuracy: 0.8838 - val_loss: 0.8189 - val_accuracy: 0.7599 - lr: 0.0010 - 8s/epoch - 136ms/step
Epoch 20/25
59/59 - 8s - loss: 0.3170 - accuracy: 0.8835 - val_loss: 0.7140 - val_accuracy: 0.7870 - lr: 0.0010 - 8s/epoch - 136ms/step
Epoch 21/25
59/59 - 8s - loss: 0.3125 - accuracy: 0.8845 - val_loss: 0.8502 - val_accuracy: 0.7408 - lr: 0.0010 - 8s/epoch - 136ms/step
Epoch 22/25
59/59 - 8s - loss: 0.3125 - accuracy: 0.8830 - val_loss: 0.7696 - val_accuracy: 0.7786 - lr: 0.0010 - 8s/epoch - 136ms/step
Epoch 23/25
59/59 - 8s - loss: 0.3143 - accuracy: 0.8832 - val_loss: 0.7103 - val_accuracy: 0.7968 - lr: 0.0010 - 8s/epoch - 136ms/step
Epoch 24/25
59/59 - 8s - loss: 0.3127 - accuracy: 0.8843 - val_loss: 0.7274 - val_accuracy: 0.7838 - lr: 0.0010 - 8s/epoch - 136ms/step
Epoch 25/25
59/59 - 8s - loss: 0.3048 - accuracy: 0.8865 - val_loss: 0.7938 - val_accuracy: 0.7745 - lr: 0.0010 - 8s/epoch - 135ms/step
fitting with batch size: 2500
Epoch 1/25
36/36 - 10s - loss: 0.2791 - accuracy: 0.8957 - val_loss: 0.7636 - val_accuracy: 0.7812 - lr: 0.0010 - 10s/epoch - 271ms/step
Epoch 2/25
36/36 - 8s - loss: 0.2785 - accuracy: 0.8972 - val_loss: 0.7164 - val_accuracy: 0.7981 - lr: 0.0010 - 8s/epoch - 210ms/step
Epoch 3/25
36/36 - 8s - loss: 0.3163 - accuracy: 0.8826 - val_loss: 0.7168 - val_accuracy: 0.7870 - lr: 0.0010 - 8s/epoch - 210ms/step
Epoch 4/25
36/36 - 8s - loss: 0.3079 - accuracy: 0.8858 - val_loss: 0.7599 - val_accuracy: 0.7773 - lr: 0.0010 - 8s/epoch - 210ms/step
Epoch 5/25
36/36 - 8s - loss: 0.3241 - accuracy: 0.8793 - val_loss: 0.7157 - val_accuracy: 0.7868 - lr: 0.0010 - 8s/epoch - 210ms/step
Epoch 6/25
36/36 - 8s - loss: 0.3351 - accuracy: 0.8749 - val_loss: 0.7328 - val_accuracy: 0.7748 - lr: 0.0010 - 8s/epoch - 210ms/step
Epoch 7/25
36/36 - 8s - loss: 0.3169 - accuracy: 0.8819 - val_loss: 0.7006 - val_accuracy: 0.7933 - lr: 0.0010 - 8s/epoch - 210ms/step
Epoch 8/25
36/36 - 8s - loss: 0.3173 - accuracy: 0.8817 - val_loss: 0.7262 - val_accuracy: 0.7840 - lr: 0.0010 - 8s/epoch - 210ms/step
Epoch 9/25
36/36 - 8s - loss: 0.3142 - accuracy: 0.8830 - val_loss: 0.8428 - val_accuracy: 0.7499 - lr: 0.0010 - 8s/epoch - 209ms/step
Epoch 10/25
36/36 - 8s - loss: 0.3240 - accuracy: 0.8790 - val_loss: 0.7286 - val_accuracy: 0.7884 - lr: 0.0010 - 8s/epoch - 210ms/step
Epoch 11/25
36/36 - 8s - loss: 0.3247 - accuracy: 0.8791 - val_loss: 0.7588 - val_accuracy: 0.7801 - lr: 0.0010 - 8s/epoch - 209ms/step
Epoch 12/25
36/36 - 8s - loss: 0.3772 - accuracy: 0.8599 - val_loss: 0.7345 - val_accuracy: 0.7766 - lr: 0.0010 - 8s/epoch - 211ms/step
Epoch 13/25
36/36 - 8s - loss: 0.3035 - accuracy: 0.8868 - val_loss: 0.7154 - val_accuracy: 0.7929 - lr: 0.0010 - 8s/epoch - 209ms/step
Epoch 14/25
36/36 - 8s - loss: 0.3169 - accuracy: 0.8827 - val_loss: 0.6802 - val_accuracy: 0.7969 - lr: 0.0010 - 8s/epoch - 210ms/step
Epoch 15/25
36/36 - 8s - loss: 0.3041 - accuracy: 0.8876 - val_loss: 0.8112 - val_accuracy: 0.7662 - lr: 0.0010 - 8s/epoch - 210ms/step
Epoch 16/25
36/36 - 8s - loss: 0.3569 - accuracy: 0.8671 - val_loss: 0.6583 - val_accuracy: 0.8023 - lr: 0.0010 - 8s/epoch - 209ms/step
Epoch 17/25
36/36 - 8s - loss: 0.3214 - accuracy: 0.8802 - val_loss: 0.7552 - val_accuracy: 0.7710 - lr: 0.0010 - 8s/epoch - 210ms/step
Epoch 18/25
36/36 - 8s - loss: 0.3222 - accuracy: 0.8804 - val_loss: 0.7837 - val_accuracy: 0.7689 - lr: 0.0010 - 8s/epoch - 210ms/step
Epoch 19/25
36/36 - 8s - loss: 0.3128 - accuracy: 0.8839 - val_loss: 0.6518 - val_accuracy: 0.8123 - lr: 0.0010 - 8s/epoch - 210ms/step
Epoch 20/25
36/36 - 8s - loss: 0.2898 - accuracy: 0.8918 - val_loss: 0.7263 - val_accuracy: 0.7853 - lr: 0.0010 - 8s/epoch - 210ms/step
Epoch 21/25
36/36 - 8s - loss: 0.3018 - accuracy: 0.8878 - val_loss: 0.7293 - val_accuracy: 0.7822 - lr: 0.0010 - 8s/epoch - 209ms/step
Epoch 22/25
36/36 - 8s - loss: 0.3044 - accuracy: 0.8860 - val_loss: 0.7464 - val_accuracy: 0.7837 - lr: 0.0010 - 8s/epoch - 210ms/step
Epoch 23/25
36/36 - 8s - loss: 0.3165 - accuracy: 0.8816 - val_loss: 0.7841 - val_accuracy: 0.7606 - lr: 0.0010 - 8s/epoch - 210ms/step
Epoch 24/25
36/36 - 8s - loss: 0.2996 - accuracy: 0.8890 - val_loss: 0.6943 - val_accuracy: 0.8030 - lr: 0.0010 - 8s/epoch - 209ms/step
Epoch 25/25
36/36 - 8s - loss: 0.3527 - accuracy: 0.8672 - val_loss: 0.6179 - val_accuracy: 0.8214 - lr: 0.0010 - 8s/epoch - 210ms/step
Epoch number: 50
fitting with batch size: 1500
Epoch 1/50
59/59 - 11s - loss: 0.3260 - accuracy: 0.8786 - val_loss: 0.6610 - val_accuracy: 0.8066 - lr: 0.0010 - 11s/epoch - 185ms/step
Epoch 2/50
59/59 - 8s - loss: 0.2976 - accuracy: 0.8895 - val_loss: 0.7481 - val_accuracy: 0.7809 - lr: 0.0010 - 8s/epoch - 136ms/step
Epoch 3/50
59/59 - 8s - loss: 0.3098 - accuracy: 0.8848 - val_loss: 0.7354 - val_accuracy: 0.7877 - lr: 0.0010 - 8s/epoch - 136ms/step
Epoch 4/50
59/59 - 8s - loss: 0.3099 - accuracy: 0.8848 - val_loss: 0.8200 - val_accuracy: 0.7688 - lr: 0.0010 - 8s/epoch - 136ms/step
Epoch 5/50
59/59 - 8s - loss: 0.3057 - accuracy: 0.8858 - val_loss: 0.8088 - val_accuracy: 0.7538 - lr: 0.0010 - 8s/epoch - 136ms/step
Epoch 6/50
59/59 - 8s - loss: 0.3029 - accuracy: 0.8863 - val_loss: 0.8185 - val_accuracy: 0.7611 - lr: 0.0010 - 8s/epoch - 136ms/step
Epoch 7/50
59/59 - 8s - loss: 0.3117 - accuracy: 0.8841 - val_loss: 0.7706 - val_accuracy: 0.7759 - lr: 0.0010 - 8s/epoch - 136ms/step
Epoch 8/50
59/59 - 8s - loss: 0.3041 - accuracy: 0.8866 - val_loss: 0.7781 - val_accuracy: 0.7801 - lr: 0.0010 - 8s/epoch - 136ms/step
Epoch 9/50
59/59 - 8s - loss: 0.3011 - accuracy: 0.8881 - val_loss: 0.7036 - val_accuracy: 0.7959 - lr: 0.0010 - 8s/epoch - 136ms/step
Epoch 10/50
59/59 - 8s - loss: 0.3166 - accuracy: 0.8819 - val_loss: 0.7484 - val_accuracy: 0.7836 - lr: 0.0010 - 8s/epoch - 136ms/step
Epoch 11/50
59/59 - 8s - loss: 0.3071 - accuracy: 0.8849 - val_loss: 0.7069 - val_accuracy: 0.7972 - lr: 0.0010 - 8s/epoch - 136ms/step
Epoch 12/50
59/59 - 8s - loss: 0.3037 - accuracy: 0.8869 - val_loss: 0.8830 - val_accuracy: 0.7362 - lr: 0.0010 - 8s/epoch - 136ms/step
Epoch 13/50
59/59 - 8s - loss: 0.3117 - accuracy: 0.8851 - val_loss: 0.8088 - val_accuracy: 0.7575 - lr: 0.0010 - 8s/epoch - 136ms/step
Epoch 14/50
59/59 - 8s - loss: 0.3053 - accuracy: 0.8856 - val_loss: 0.8046 - val_accuracy: 0.7658 - lr: 0.0010 - 8s/epoch - 136ms/step
Epoch 15/50
59/59 - 8s - loss: 0.3025 - accuracy: 0.8869 - val_loss: 0.8269 - val_accuracy: 0.7684 - lr: 0.0010 - 8s/epoch - 136ms/step
Epoch 16/50
59/59 - 8s - loss: 0.2996 - accuracy: 0.8882 - val_loss: 0.8239 - val_accuracy: 0.7541 - lr: 0.0010 - 8s/epoch - 136ms/step
Epoch 17/50
59/59 - 8s - loss: 0.3099 - accuracy: 0.8832 - val_loss: 0.7846 - val_accuracy: 0.7719 - lr: 0.0010 - 8s/epoch - 136ms/step
Epoch 18/50
59/59 - 8s - loss: 0.3007 - accuracy: 0.8885 - val_loss: 0.7795 - val_accuracy: 0.7770 - lr: 0.0010 - 8s/epoch - 136ms/step
Epoch 19/50
59/59 - 8s - loss: 0.3052 - accuracy: 0.8858 - val_loss: 0.7947 - val_accuracy: 0.7669 - lr: 0.0010 - 8s/epoch - 136ms/step
Epoch 20/50
59/59 - 8s - loss: 0.3048 - accuracy: 0.8866 - val_loss: 0.8501 - val_accuracy: 0.7558 - lr: 0.0010 - 8s/epoch - 136ms/step
Epoch 21/50
59/59 - 8s - loss: 0.3117 - accuracy: 0.8836 - val_loss: 0.8036 - val_accuracy: 0.7704 - lr: 0.0010 - 8s/epoch - 136ms/step
Epoch 22/50
59/59 - 8s - loss: 0.3021 - accuracy: 0.8884 - val_loss: 0.7397 - val_accuracy: 0.7824 - lr: 0.0010 - 8s/epoch - 136ms/step
Epoch 23/50
59/59 - 8s - loss: 0.3027 - accuracy: 0.8876 - val_loss: 0.8819 - val_accuracy: 0.7279 - lr: 0.0010 - 8s/epoch - 136ms/step
Epoch 24/50
59/59 - 8s - loss: 0.3052 - accuracy: 0.8865 - val_loss: 0.7992 - val_accuracy: 0.7639 - lr: 0.0010 - 8s/epoch - 136ms/step
Epoch 25/50
59/59 - 8s - loss: 0.2991 - accuracy: 0.8890 - val_loss: 0.7771 - val_accuracy: 0.7689 - lr: 0.0010 - 8s/epoch - 136ms/step
Epoch 26/50
59/59 - 8s - loss: 0.3051 - accuracy: 0.8867 - val_loss: 0.8372 - val_accuracy: 0.7563 - lr: 0.0010 - 8s/epoch - 136ms/step
Epoch 27/50
59/59 - 8s - loss: 0.3049 - accuracy: 0.8870 - val_loss: 0.7965 - val_accuracy: 0.7748 - lr: 0.0010 - 8s/epoch - 136ms/step
Epoch 28/50
59/59 - 8s - loss: 0.3036 - accuracy: 0.8874 - val_loss: 0.8163 - val_accuracy: 0.7571 - lr: 0.0010 - 8s/epoch - 136ms/step
Epoch 29/50
59/59 - 8s - loss: 0.2961 - accuracy: 0.8895 - val_loss: 0.8680 - val_accuracy: 0.7464 - lr: 0.0010 - 8s/epoch - 136ms/step
Epoch 30/50
59/59 - 8s - loss: 0.3019 - accuracy: 0.8869 - val_loss: 0.7972 - val_accuracy: 0.7733 - lr: 0.0010 - 8s/epoch - 136ms/step
Epoch 31/50
59/59 - 8s - loss: 0.3031 - accuracy: 0.8871 - val_loss: 0.8469 - val_accuracy: 0.7499 - lr: 0.0010 - 8s/epoch - 136ms/step
Epoch 32/50
59/59 - 8s - loss: 0.3047 - accuracy: 0.8864 - val_loss: 0.8196 - val_accuracy: 0.7597 - lr: 0.0010 - 8s/epoch - 136ms/step
Epoch 33/50
59/59 - 8s - loss: 0.3121 - accuracy: 0.8825 - val_loss: 0.7389 - val_accuracy: 0.7854 - lr: 0.0010 - 8s/epoch - 136ms/step
Epoch 34/50
59/59 - 8s - loss: 0.3015 - accuracy: 0.8876 - val_loss: 0.7195 - val_accuracy: 0.7910 - lr: 0.0010 - 8s/epoch - 136ms/step
Epoch 35/50
59/59 - 8s - loss: 0.2998 - accuracy: 0.8875 - val_loss: 0.8875 - val_accuracy: 0.7430 - lr: 0.0010 - 8s/epoch - 136ms/step
Epoch 36/50
59/59 - 8s - loss: 0.3041 - accuracy: 0.8863 - val_loss: 0.7929 - val_accuracy: 0.7694 - lr: 0.0010 - 8s/epoch - 136ms/step
Epoch 37/50
59/59 - 8s - loss: 0.2986 - accuracy: 0.8882 - val_loss: 0.7234 - val_accuracy: 0.7858 - lr: 0.0010 - 8s/epoch - 136ms/step
Epoch 38/50
59/59 - 8s - loss: 0.3037 - accuracy: 0.8865 - val_loss: 0.8305 - val_accuracy: 0.7563 - lr: 0.0010 - 8s/epoch - 136ms/step
Epoch 39/50
59/59 - 8s - loss: 0.2961 - accuracy: 0.8895 - val_loss: 0.8584 - val_accuracy: 0.7655 - lr: 0.0010 - 8s/epoch - 136ms/step
Epoch 40/50
59/59 - 8s - loss: 0.3074 - accuracy: 0.8850 - val_loss: 0.8041 - val_accuracy: 0.7648 - lr: 0.0010 - 8s/epoch - 136ms/step
Epoch 41/50
59/59 - 8s - loss: 0.2980 - accuracy: 0.8892 - val_loss: 0.7283 - val_accuracy: 0.7869 - lr: 0.0010 - 8s/epoch - 136ms/step
Epoch 42/50
59/59 - 8s - loss: 0.3027 - accuracy: 0.8870 - val_loss: 0.8196 - val_accuracy: 0.7576 - lr: 0.0010 - 8s/epoch - 136ms/step
Epoch 43/50
59/59 - 8s - loss: 0.2931 - accuracy: 0.8912 - val_loss: 0.7785 - val_accuracy: 0.7829 - lr: 0.0010 - 8s/epoch - 136ms/step
Epoch 44/50
59/59 - 8s - loss: 0.2951 - accuracy: 0.8899 - val_loss: 0.8273 - val_accuracy: 0.7540 - lr: 0.0010 - 8s/epoch - 137ms/step
Epoch 45/50
59/59 - 8s - loss: 0.2964 - accuracy: 0.8885 - val_loss: 0.8266 - val_accuracy: 0.7663 - lr: 0.0010 - 8s/epoch - 136ms/step
Epoch 46/50
59/59 - 8s - loss: 0.3000 - accuracy: 0.8880 - val_loss: 0.7839 - val_accuracy: 0.7735 - lr: 0.0010 - 8s/epoch - 136ms/step
Epoch 47/50
59/59 - 8s - loss: 0.3072 - accuracy: 0.8866 - val_loss: 0.7909 - val_accuracy: 0.7650 - lr: 0.0010 - 8s/epoch - 136ms/step
Epoch 48/50
59/59 - 8s - loss: 0.2995 - accuracy: 0.8879 - val_loss: 0.7791 - val_accuracy: 0.7716 - lr: 0.0010 - 8s/epoch - 136ms/step
Epoch 49/50
59/59 - 8s - loss: 0.2922 - accuracy: 0.8911 - val_loss: 0.7997 - val_accuracy: 0.7661 - lr: 0.0010 - 8s/epoch - 136ms/step
Epoch 50/50
59/59 - 8s - loss: 0.2937 - accuracy: 0.8901 - val_loss: 0.8825 - val_accuracy: 0.7388 - lr: 0.0010 - 8s/epoch - 136ms/step
fitting with batch size: 2500
Epoch 1/50
36/36 - 10s - loss: 0.2735 - accuracy: 0.8982 - val_loss: 0.8520 - val_accuracy: 0.7563 - lr: 0.0010 - 10s/epoch - 274ms/step
Epoch 2/50
36/36 - 8s - loss: 0.3128 - accuracy: 0.8842 - val_loss: 0.7423 - val_accuracy: 0.7821 - lr: 0.0010 - 8s/epoch - 211ms/step
Epoch 3/50
36/36 - 8s - loss: 0.3002 - accuracy: 0.8883 - val_loss: 0.7224 - val_accuracy: 0.7943 - lr: 0.0010 - 8s/epoch - 211ms/step
Epoch 4/50
36/36 - 8s - loss: 0.3119 - accuracy: 0.8839 - val_loss: 0.7545 - val_accuracy: 0.7864 - lr: 0.0010 - 8s/epoch - 211ms/step
Epoch 5/50
36/36 - 8s - loss: 0.3281 - accuracy: 0.8771 - val_loss: 0.8539 - val_accuracy: 0.7461 - lr: 0.0010 - 8s/epoch - 210ms/step
Epoch 6/50
36/36 - 8s - loss: 0.2822 - accuracy: 0.8946 - val_loss: 0.8621 - val_accuracy: 0.7457 - lr: 0.0010 - 8s/epoch - 210ms/step
Epoch 7/50
36/36 - 8s - loss: 0.3093 - accuracy: 0.8842 - val_loss: 0.8247 - val_accuracy: 0.7566 - lr: 0.0010 - 8s/epoch - 210ms/step
Epoch 8/50
36/36 - 8s - loss: 0.2775 - accuracy: 0.8961 - val_loss: 0.9338 - val_accuracy: 0.7278 - lr: 0.0010 - 8s/epoch - 211ms/step
Epoch 9/50
36/36 - 8s - loss: 0.3065 - accuracy: 0.8853 - val_loss: 0.9367 - val_accuracy: 0.7233 - lr: 0.0010 - 8s/epoch - 211ms/step
Epoch 10/50
36/36 - 8s - loss: 0.2946 - accuracy: 0.8895 - val_loss: 1.0109 - val_accuracy: 0.7089 - lr: 0.0010 - 8s/epoch - 211ms/step
Epoch 11/50
36/36 - 8s - loss: 0.3058 - accuracy: 0.8862 - val_loss: 0.8743 - val_accuracy: 0.7523 - lr: 0.0010 - 8s/epoch - 210ms/step
Epoch 12/50
36/36 - 8s - loss: 0.2968 - accuracy: 0.8903 - val_loss: 0.7698 - val_accuracy: 0.7878 - lr: 0.0010 - 8s/epoch - 211ms/step
Epoch 13/50
36/36 - 8s - loss: 0.2773 - accuracy: 0.8966 - val_loss: 0.9016 - val_accuracy: 0.7499 - lr: 0.0010 - 8s/epoch - 210ms/step
Epoch 14/50
36/36 - 8s - loss: 0.3048 - accuracy: 0.8874 - val_loss: 0.8185 - val_accuracy: 0.7537 - lr: 0.0010 - 8s/epoch - 210ms/step
Epoch 15/50
36/36 - 8s - loss: 0.3147 - accuracy: 0.8838 - val_loss: 0.7384 - val_accuracy: 0.7853 - lr: 0.0010 - 8s/epoch - 210ms/step
Epoch 16/50
36/36 - 8s - loss: 0.3951 - accuracy: 0.8551 - val_loss: 0.7381 - val_accuracy: 0.7738 - lr: 0.0010 - 8s/epoch - 211ms/step
Epoch 17/50
36/36 - 8s - loss: 0.3077 - accuracy: 0.8849 - val_loss: 0.7911 - val_accuracy: 0.7667 - lr: 0.0010 - 8s/epoch - 210ms/step
Epoch 18/50
36/36 - 8s - loss: 0.2967 - accuracy: 0.8893 - val_loss: 0.8515 - val_accuracy: 0.7491 - lr: 0.0010 - 8s/epoch - 210ms/step
Epoch 19/50
36/36 - 8s - loss: 0.2910 - accuracy: 0.8916 - val_loss: 0.9049 - val_accuracy: 0.7366 - lr: 0.0010 - 8s/epoch - 211ms/step
Epoch 20/50
36/36 - 8s - loss: 0.2780 - accuracy: 0.8961 - val_loss: 0.7306 - val_accuracy: 0.7910 - lr: 0.0010 - 8s/epoch - 210ms/step
Epoch 21/50
36/36 - 8s - loss: 0.2906 - accuracy: 0.8921 - val_loss: 0.8497 - val_accuracy: 0.7555 - lr: 0.0010 - 8s/epoch - 210ms/step
Epoch 22/50
36/36 - 8s - loss: 0.3115 - accuracy: 0.8845 - val_loss: 0.8201 - val_accuracy: 0.7586 - lr: 0.0010 - 8s/epoch - 210ms/step
Epoch 23/50
36/36 - 8s - loss: 0.3019 - accuracy: 0.8878 - val_loss: 0.7845 - val_accuracy: 0.7748 - lr: 0.0010 - 8s/epoch - 210ms/step
Epoch 24/50
36/36 - 8s - loss: 0.2822 - accuracy: 0.8944 - val_loss: 0.8904 - val_accuracy: 0.7361 - lr: 0.0010 - 8s/epoch - 210ms/step
Epoch 25/50
36/36 - 8s - loss: 0.3356 - accuracy: 0.8743 - val_loss: 0.9102 - val_accuracy: 0.7298 - lr: 0.0010 - 8s/epoch - 211ms/step
Epoch 26/50
36/36 - 8s - loss: 0.3055 - accuracy: 0.8857 - val_loss: 0.8350 - val_accuracy: 0.7651 - lr: 0.0010 - 8s/epoch - 210ms/step
Epoch 27/50
36/36 - 8s - loss: 0.2993 - accuracy: 0.8880 - val_loss: 0.7789 - val_accuracy: 0.7816 - lr: 0.0010 - 8s/epoch - 210ms/step
Epoch 28/50
36/36 - 8s - loss: 0.2664 - accuracy: 0.9008 - val_loss: 0.8127 - val_accuracy: 0.7708 - lr: 0.0010 - 8s/epoch - 210ms/step
Epoch 29/50
36/36 - 8s - loss: 0.3043 - accuracy: 0.8860 - val_loss: 0.7716 - val_accuracy: 0.7683 - lr: 0.0010 - 8s/epoch - 211ms/step
Epoch 30/50
36/36 - 8s - loss: 0.3157 - accuracy: 0.8819 - val_loss: 0.9231 - val_accuracy: 0.7422 - lr: 0.0010 - 8s/epoch - 210ms/step
Epoch 31/50
36/36 - 8s - loss: 0.2757 - accuracy: 0.8972 - val_loss: 0.8811 - val_accuracy: 0.7548 - lr: 0.0010 - 8s/epoch - 211ms/step
Epoch 32/50
36/36 - 8s - loss: 0.3409 - accuracy: 0.8733 - val_loss: 0.7780 - val_accuracy: 0.7650 - lr: 0.0010 - 8s/epoch - 210ms/step
Epoch 33/50
36/36 - 8s - loss: 0.2846 - accuracy: 0.8942 - val_loss: 0.8933 - val_accuracy: 0.7484 - lr: 0.0010 - 8s/epoch - 211ms/step
Epoch 34/50
36/36 - 8s - loss: 0.2869 - accuracy: 0.8934 - val_loss: 0.8171 - val_accuracy: 0.7663 - lr: 0.0010 - 8s/epoch - 211ms/step
Epoch 35/50
36/36 - 8s - loss: 0.3486 - accuracy: 0.8701 - val_loss: 0.7678 - val_accuracy: 0.7657 - lr: 0.0010 - 8s/epoch - 211ms/step
Epoch 36/50
36/36 - 8s - loss: 0.3522 - accuracy: 0.8693 - val_loss: 0.7713 - val_accuracy: 0.7731 - lr: 0.0010 - 8s/epoch - 210ms/step
Epoch 37/50
36/36 - 8s - loss: 0.2764 - accuracy: 0.8978 - val_loss: 0.8227 - val_accuracy: 0.7675 - lr: 0.0010 - 8s/epoch - 211ms/step
Epoch 38/50
36/36 - 8s - loss: 0.2799 - accuracy: 0.8951 - val_loss: 0.7714 - val_accuracy: 0.7838 - lr: 0.0010 - 8s/epoch - 210ms/step
Epoch 39/50
36/36 - 8s - loss: 0.3323 - accuracy: 0.8761 - val_loss: 0.8722 - val_accuracy: 0.7463 - lr: 0.0010 - 8s/epoch - 211ms/step
Epoch 40/50
36/36 - 8s - loss: 0.3218 - accuracy: 0.8799 - val_loss: 0.8465 - val_accuracy: 0.7533 - lr: 0.0010 - 8s/epoch - 210ms/step
Epoch 41/50
36/36 - 8s - loss: 0.3060 - accuracy: 0.8852 - val_loss: 0.9113 - val_accuracy: 0.7336 - lr: 0.0010 - 8s/epoch - 211ms/step
Epoch 42/50
36/36 - 8s - loss: 0.3167 - accuracy: 0.8820 - val_loss: 0.8765 - val_accuracy: 0.7402 - lr: 0.0010 - 8s/epoch - 210ms/step
Epoch 43/50
36/36 - 8s - loss: 0.3074 - accuracy: 0.8849 - val_loss: 0.8577 - val_accuracy: 0.7522 - lr: 0.0010 - 8s/epoch - 211ms/step
Epoch 44/50
36/36 - 8s - loss: 0.3200 - accuracy: 0.8803 - val_loss: 0.7753 - val_accuracy: 0.7736 - lr: 0.0010 - 8s/epoch - 211ms/step
Epoch 45/50
36/36 - 8s - loss: 0.2875 - accuracy: 0.8926 - val_loss: 0.7820 - val_accuracy: 0.7801 - lr: 0.0010 - 8s/epoch - 210ms/step
Epoch 46/50
36/36 - 8s - loss: 0.2917 - accuracy: 0.8919 - val_loss: 0.8589 - val_accuracy: 0.7510 - lr: 0.0010 - 8s/epoch - 210ms/step
Epoch 47/50
36/36 - 8s - loss: 0.3552 - accuracy: 0.8663 - val_loss: 0.8136 - val_accuracy: 0.7484 - lr: 0.0010 - 8s/epoch - 211ms/step
Epoch 48/50
36/36 - 8s - loss: 0.2829 - accuracy: 0.8951 - val_loss: 0.7891 - val_accuracy: 0.7758 - lr: 0.0010 - 8s/epoch - 211ms/step
Epoch 49/50
36/36 - 8s - loss: 0.2673 - accuracy: 0.9012 - val_loss: 0.9114 - val_accuracy: 0.7397 - lr: 0.0010 - 8s/epoch - 210ms/step
Epoch 50/50
36/36 - 8s - loss: 0.2917 - accuracy: 0.8910 - val_loss: 0.7355 - val_accuracy: 0.7908 - lr: 0.0010 - 8s/epoch - 210ms/step
