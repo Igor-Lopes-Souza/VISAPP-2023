Loss: categorical_crossentropy
Epoch number: 75
fitting with batch size: 20
Epoch 1/75
4378/4378 - 98s - loss: 1.0416 - accuracy: 0.5866 - val_loss: 0.9018 - val_accuracy: 0.6290 - lr: 0.0010 - 98s/epoch - 22ms/step
Epoch 2/75
4378/4378 - 85s - loss: 0.8889 - accuracy: 0.6603 - val_loss: 0.8557 - val_accuracy: 0.6916 - lr: 0.0010 - 85s/epoch - 20ms/step
Epoch 3/75
4378/4378 - 80s - loss: 0.8492 - accuracy: 0.6783 - val_loss: 0.8241 - val_accuracy: 0.6777 - lr: 0.0010 - 80s/epoch - 18ms/step
Epoch 4/75
4378/4378 - 75s - loss: 0.8274 - accuracy: 0.6873 - val_loss: 0.8670 - val_accuracy: 0.6739 - lr: 0.0010 - 75s/epoch - 17ms/step
Epoch 5/75
4378/4378 - 74s - loss: 0.8119 - accuracy: 0.6946 - val_loss: 0.8659 - val_accuracy: 0.6991 - lr: 0.0010 - 74s/epoch - 17ms/step
Epoch 6/75
4378/4378 - 74s - loss: 0.8008 - accuracy: 0.6993 - val_loss: 0.7649 - val_accuracy: 0.7316 - lr: 0.0010 - 74s/epoch - 17ms/step
Epoch 7/75
4378/4378 - 74s - loss: 0.7901 - accuracy: 0.7023 - val_loss: 0.8578 - val_accuracy: 0.6826 - lr: 0.0010 - 74s/epoch - 17ms/step
Epoch 8/75
4378/4378 - 86s - loss: 0.7834 - accuracy: 0.7058 - val_loss: 0.8320 - val_accuracy: 0.6912 - lr: 0.0010 - 86s/epoch - 20ms/step
Epoch 9/75
4378/4378 - 85s - loss: 0.7745 - accuracy: 0.7082 - val_loss: 0.8479 - val_accuracy: 0.6848 - lr: 0.0010 - 85s/epoch - 19ms/step
Epoch 10/75
4378/4378 - 81s - loss: 0.7694 - accuracy: 0.7121 - val_loss: 0.8264 - val_accuracy: 0.6937 - lr: 0.0010 - 81s/epoch - 18ms/step
Epoch 11/75
4378/4378 - 89s - loss: 0.7642 - accuracy: 0.7142 - val_loss: 0.7556 - val_accuracy: 0.7293 - lr: 0.0010 - 89s/epoch - 20ms/step
Epoch 12/75
4378/4378 - 97s - loss: 0.7572 - accuracy: 0.7172 - val_loss: 0.8580 - val_accuracy: 0.6871 - lr: 0.0010 - 97s/epoch - 22ms/step
Epoch 13/75
4378/4378 - 96s - loss: 0.7545 - accuracy: 0.7181 - val_loss: 0.7944 - val_accuracy: 0.7302 - lr: 0.0010 - 96s/epoch - 22ms/step
Epoch 14/75
4378/4378 - 95s - loss: 0.7492 - accuracy: 0.7189 - val_loss: 0.9230 - val_accuracy: 0.6563 - lr: 0.0010 - 95s/epoch - 22ms/step
Epoch 15/75
4378/4378 - 95s - loss: 0.7462 - accuracy: 0.7216 - val_loss: 0.8409 - val_accuracy: 0.7006 - lr: 0.0010 - 95s/epoch - 22ms/step
Epoch 16/75
4378/4378 - 93s - loss: 0.7422 - accuracy: 0.7223 - val_loss: 0.8196 - val_accuracy: 0.6977 - lr: 0.0010 - 93s/epoch - 21ms/step
Epoch 17/75
4378/4378 - 96s - loss: 0.7382 - accuracy: 0.7244 - val_loss: 0.8846 - val_accuracy: 0.6921 - lr: 0.0010 - 96s/epoch - 22ms/step
Epoch 18/75
4378/4378 - 94s - loss: 0.7353 - accuracy: 0.7256 - val_loss: 0.8929 - val_accuracy: 0.6823 - lr: 0.0010 - 94s/epoch - 21ms/step
Epoch 19/75
4378/4378 - 99s - loss: 0.7330 - accuracy: 0.7252 - val_loss: 0.8511 - val_accuracy: 0.7004 - lr: 0.0010 - 99s/epoch - 23ms/step
Epoch 20/75
4378/4378 - 100s - loss: 0.7308 - accuracy: 0.7276 - val_loss: 0.7839 - val_accuracy: 0.7479 - lr: 0.0010 - 100s/epoch - 23ms/step
Epoch 21/75
4378/4378 - 98s - loss: 0.7273 - accuracy: 0.7271 - val_loss: 0.7628 - val_accuracy: 0.7487 - lr: 0.0010 - 98s/epoch - 22ms/step
Epoch 22/75
4378/4378 - 101s - loss: 0.7252 - accuracy: 0.7298 - val_loss: 0.8941 - val_accuracy: 0.6986 - lr: 0.0010 - 101s/epoch - 23ms/step
Epoch 23/75
4378/4378 - 102s - loss: 0.7217 - accuracy: 0.7315 - val_loss: 0.7864 - val_accuracy: 0.7582 - lr: 0.0010 - 102s/epoch - 23ms/step
Epoch 24/75
4378/4378 - 101s - loss: 0.7178 - accuracy: 0.7323 - val_loss: 0.7754 - val_accuracy: 0.7497 - lr: 0.0010 - 101s/epoch - 23ms/step
Epoch 25/75
4378/4378 - 97s - loss: 0.7150 - accuracy: 0.7328 - val_loss: 0.7147 - val_accuracy: 0.7674 - lr: 0.0010 - 97s/epoch - 22ms/step
Epoch 26/75
4378/4378 - 100s - loss: 0.7145 - accuracy: 0.7339 - val_loss: 0.7144 - val_accuracy: 0.7969 - lr: 0.0010 - 100s/epoch - 23ms/step
Epoch 27/75
4378/4378 - 97s - loss: 0.7110 - accuracy: 0.7351 - val_loss: 0.7717 - val_accuracy: 0.7523 - lr: 0.0010 - 97s/epoch - 22ms/step
Epoch 28/75
4378/4378 - 78s - loss: 0.7078 - accuracy: 0.7362 - val_loss: 0.7386 - val_accuracy: 0.7618 - lr: 0.0010 - 78s/epoch - 18ms/step
Epoch 29/75
4378/4378 - 77s - loss: 0.7056 - accuracy: 0.7358 - val_loss: 0.7648 - val_accuracy: 0.7515 - lr: 0.0010 - 77s/epoch - 18ms/step
Epoch 30/75
4378/4378 - 99s - loss: 0.7052 - accuracy: 0.7372 - val_loss: 0.7662 - val_accuracy: 0.7353 - lr: 0.0010 - 99s/epoch - 23ms/step
Epoch 31/75
4378/4378 - 98s - loss: 0.7035 - accuracy: 0.7385 - val_loss: 0.6625 - val_accuracy: 0.7917 - lr: 0.0010 - 98s/epoch - 22ms/step
Epoch 32/75
4378/4378 - 102s - loss: 0.6987 - accuracy: 0.7391 - val_loss: 0.7584 - val_accuracy: 0.7521 - lr: 0.0010 - 102s/epoch - 23ms/step
Epoch 33/75
4378/4378 - 99s - loss: 0.6986 - accuracy: 0.7409 - val_loss: 0.8164 - val_accuracy: 0.7357 - lr: 0.0010 - 99s/epoch - 23ms/step
Epoch 34/75
4378/4378 - 100s - loss: 0.6975 - accuracy: 0.7392 - val_loss: 0.7561 - val_accuracy: 0.7706 - lr: 0.0010 - 100s/epoch - 23ms/step
Epoch 35/75
4378/4378 - 98s - loss: 0.6951 - accuracy: 0.7411 - val_loss: 0.7081 - val_accuracy: 0.7812 - lr: 0.0010 - 98s/epoch - 22ms/step
Epoch 36/75
4378/4378 - 94s - loss: 0.6907 - accuracy: 0.7418 - val_loss: 0.7937 - val_accuracy: 0.7459 - lr: 0.0010 - 94s/epoch - 21ms/step
Epoch 37/75
4378/4378 - 90s - loss: 0.6936 - accuracy: 0.7412 - val_loss: 0.7469 - val_accuracy: 0.7505 - lr: 0.0010 - 90s/epoch - 20ms/step
Epoch 38/75
4378/4378 - 89s - loss: 0.6937 - accuracy: 0.7427 - val_loss: 0.6888 - val_accuracy: 0.7683 - lr: 0.0010 - 89s/epoch - 20ms/step
Epoch 39/75
4378/4378 - 100s - loss: 0.6892 - accuracy: 0.7431 - val_loss: 0.8009 - val_accuracy: 0.7384 - lr: 0.0010 - 100s/epoch - 23ms/step
Epoch 40/75
4378/4378 - 91s - loss: 0.6895 - accuracy: 0.7436 - val_loss: 0.8581 - val_accuracy: 0.6745 - lr: 0.0010 - 91s/epoch - 21ms/step
Epoch 41/75
4378/4378 - 89s - loss: 0.6849 - accuracy: 0.7438 - val_loss: 0.7315 - val_accuracy: 0.7286 - lr: 0.0010 - 89s/epoch - 20ms/step
Epoch 42/75
4378/4378 - 96s - loss: 0.6856 - accuracy: 0.7458 - val_loss: 0.8676 - val_accuracy: 0.7055 - lr: 0.0010 - 96s/epoch - 22ms/step
Epoch 43/75
4378/4378 - 107s - loss: 0.6836 - accuracy: 0.7454 - val_loss: 0.8013 - val_accuracy: 0.7050 - lr: 0.0010 - 107s/epoch - 24ms/step
Epoch 44/75
4378/4378 - 101s - loss: 0.6824 - accuracy: 0.7451 - val_loss: 0.8782 - val_accuracy: 0.6723 - lr: 0.0010 - 101s/epoch - 23ms/step
Epoch 45/75
4378/4378 - 94s - loss: 0.6805 - accuracy: 0.7483 - val_loss: 0.7172 - val_accuracy: 0.7447 - lr: 0.0010 - 94s/epoch - 21ms/step
Epoch 46/75
4378/4378 - 97s - loss: 0.6802 - accuracy: 0.7472 - val_loss: 0.7575 - val_accuracy: 0.7368 - lr: 0.0010 - 97s/epoch - 22ms/step
Epoch 47/75
4378/4378 - 96s - loss: 0.6763 - accuracy: 0.7484 - val_loss: 0.7718 - val_accuracy: 0.7397 - lr: 0.0010 - 96s/epoch - 22ms/step
Epoch 48/75
4378/4378 - 97s - loss: 0.6758 - accuracy: 0.7484 - val_loss: 0.7450 - val_accuracy: 0.7516 - lr: 0.0010 - 97s/epoch - 22ms/step
Epoch 49/75
4378/4378 - 96s - loss: 0.6745 - accuracy: 0.7503 - val_loss: 0.9078 - val_accuracy: 0.6737 - lr: 0.0010 - 96s/epoch - 22ms/step
Epoch 50/75
4378/4378 - 99s - loss: 0.6735 - accuracy: 0.7500 - val_loss: 0.7817 - val_accuracy: 0.7165 - lr: 0.0010 - 99s/epoch - 23ms/step
Epoch 51/75
4378/4378 - 92s - loss: 0.6711 - accuracy: 0.7519 - val_loss: 0.7761 - val_accuracy: 0.7488 - lr: 0.0010 - 92s/epoch - 21ms/step
Epoch 52/75
4378/4378 - 93s - loss: 0.6715 - accuracy: 0.7504 - val_loss: 0.7758 - val_accuracy: 0.7293 - lr: 0.0010 - 93s/epoch - 21ms/step
Epoch 53/75
4378/4378 - 93s - loss: 0.6692 - accuracy: 0.7513 - val_loss: 0.7897 - val_accuracy: 0.7404 - lr: 0.0010 - 93s/epoch - 21ms/step
Epoch 54/75
4378/4378 - 93s - loss: 0.6683 - accuracy: 0.7531 - val_loss: 0.7704 - val_accuracy: 0.7008 - lr: 0.0010 - 93s/epoch - 21ms/step
Epoch 55/75
4378/4378 - 96s - loss: 0.6663 - accuracy: 0.7534 - val_loss: 0.6926 - val_accuracy: 0.7752 - lr: 0.0010 - 96s/epoch - 22ms/step
Epoch 56/75
4378/4378 - 95s - loss: 0.6653 - accuracy: 0.7528 - val_loss: 0.7888 - val_accuracy: 0.7222 - lr: 0.0010 - 95s/epoch - 22ms/step
Epoch 57/75
4378/4378 - 94s - loss: 0.6624 - accuracy: 0.7542 - val_loss: 0.8017 - val_accuracy: 0.7264 - lr: 0.0010 - 94s/epoch - 21ms/step
Epoch 58/75
4378/4378 - 96s - loss: 0.6614 - accuracy: 0.7545 - val_loss: 0.8309 - val_accuracy: 0.7365 - lr: 0.0010 - 96s/epoch - 22ms/step
Epoch 59/75
4378/4378 - 98s - loss: 0.6625 - accuracy: 0.7534 - val_loss: 0.8482 - val_accuracy: 0.7119 - lr: 0.0010 - 98s/epoch - 22ms/step
Epoch 60/75
4378/4378 - 91s - loss: 0.6589 - accuracy: 0.7547 - val_loss: 0.6965 - val_accuracy: 0.7945 - lr: 0.0010 - 91s/epoch - 21ms/step
Epoch 61/75
4378/4378 - 91s - loss: 0.6600 - accuracy: 0.7569 - val_loss: 0.7701 - val_accuracy: 0.7502 - lr: 0.0010 - 91s/epoch - 21ms/step
Epoch 62/75
4378/4378 - 93s - loss: 0.6593 - accuracy: 0.7562 - val_loss: 0.7092 - val_accuracy: 0.7647 - lr: 0.0010 - 93s/epoch - 21ms/step
Epoch 63/75
4378/4378 - 91s - loss: 0.6566 - accuracy: 0.7560 - val_loss: 0.7135 - val_accuracy: 0.7592 - lr: 0.0010 - 91s/epoch - 21ms/step
Epoch 64/75
4378/4378 - 94s - loss: 0.6559 - accuracy: 0.7566 - val_loss: 0.8600 - val_accuracy: 0.6836 - lr: 0.0010 - 94s/epoch - 21ms/step
Epoch 65/75
4378/4378 - 94s - loss: 0.6570 - accuracy: 0.7553 - val_loss: 0.8984 - val_accuracy: 0.6636 - lr: 0.0010 - 94s/epoch - 21ms/step
Epoch 66/75
4378/4378 - 92s - loss: 0.6554 - accuracy: 0.7572 - val_loss: 0.7552 - val_accuracy: 0.7581 - lr: 0.0010 - 92s/epoch - 21ms/step
Epoch 67/75
4378/4378 - 87s - loss: 0.6551 - accuracy: 0.7559 - val_loss: 0.6841 - val_accuracy: 0.7573 - lr: 0.0010 - 87s/epoch - 20ms/step
Epoch 68/75
4378/4378 - 92s - loss: 0.6519 - accuracy: 0.7586 - val_loss: 0.7864 - val_accuracy: 0.7274 - lr: 0.0010 - 92s/epoch - 21ms/step
Epoch 69/75
4378/4378 - 89s - loss: 0.6516 - accuracy: 0.7593 - val_loss: 0.7995 - val_accuracy: 0.7250 - lr: 0.0010 - 89s/epoch - 20ms/step
Epoch 70/75
4378/4378 - 92s - loss: 0.6477 - accuracy: 0.7580 - val_loss: 0.8284 - val_accuracy: 0.7175 - lr: 0.0010 - 92s/epoch - 21ms/step
Epoch 71/75
4378/4378 - 92s - loss: 0.6464 - accuracy: 0.7604 - val_loss: 0.7759 - val_accuracy: 0.7604 - lr: 0.0010 - 92s/epoch - 21ms/step
Epoch 72/75
4378/4378 - 95s - loss: 0.6457 - accuracy: 0.7608 - val_loss: 0.7233 - val_accuracy: 0.7672 - lr: 0.0010 - 95s/epoch - 22ms/step
Epoch 73/75
4378/4378 - 95s - loss: 0.6486 - accuracy: 0.7597 - val_loss: 0.7507 - val_accuracy: 0.7535 - lr: 0.0010 - 95s/epoch - 22ms/step
Epoch 74/75
4378/4378 - 94s - loss: 0.6416 - accuracy: 0.7619 - val_loss: 0.6748 - val_accuracy: 0.7643 - lr: 0.0010 - 94s/epoch - 21ms/step
Epoch 75/75
4378/4378 - 88s - loss: 0.6454 - accuracy: 0.7625 - val_loss: 0.7438 - val_accuracy: 0.7502 - lr: 0.0010 - 88s/epoch - 20ms/step
fitting with batch size: 100
Epoch 1/75
876/876 - 34s - loss: 0.5929 - accuracy: 0.7791 - val_loss: 0.7170 - val_accuracy: 0.7745 - lr: 0.0010 - 34s/epoch - 39ms/step
Epoch 2/75
876/876 - 25s - loss: 0.5789 - accuracy: 0.7855 - val_loss: 0.7359 - val_accuracy: 0.7431 - lr: 0.0010 - 25s/epoch - 29ms/step
Epoch 3/75
876/876 - 26s - loss: 0.5726 - accuracy: 0.7857 - val_loss: 0.6517 - val_accuracy: 0.7758 - lr: 0.0010 - 26s/epoch - 29ms/step
Epoch 4/75
876/876 - 26s - loss: 0.5658 - accuracy: 0.7890 - val_loss: 0.7286 - val_accuracy: 0.7390 - lr: 0.0010 - 26s/epoch - 30ms/step
Epoch 5/75
876/876 - 26s - loss: 0.5602 - accuracy: 0.7915 - val_loss: 0.7177 - val_accuracy: 0.7664 - lr: 0.0010 - 26s/epoch - 30ms/step
Epoch 6/75
876/876 - 26s - loss: 0.5535 - accuracy: 0.7940 - val_loss: 0.7069 - val_accuracy: 0.7631 - lr: 0.0010 - 26s/epoch - 29ms/step
Epoch 7/75
876/876 - 27s - loss: 0.5525 - accuracy: 0.7948 - val_loss: 0.7668 - val_accuracy: 0.7222 - lr: 0.0010 - 27s/epoch - 30ms/step
Epoch 8/75
876/876 - 26s - loss: 0.5464 - accuracy: 0.7961 - val_loss: 0.7010 - val_accuracy: 0.7479 - lr: 0.0010 - 26s/epoch - 30ms/step
Epoch 9/75
876/876 - 26s - loss: 0.5449 - accuracy: 0.7963 - val_loss: 0.6848 - val_accuracy: 0.7593 - lr: 0.0010 - 26s/epoch - 29ms/step
Epoch 10/75
876/876 - 26s - loss: 0.5363 - accuracy: 0.8011 - val_loss: 0.7831 - val_accuracy: 0.7234 - lr: 0.0010 - 26s/epoch - 29ms/step
Epoch 11/75
876/876 - 26s - loss: 0.5360 - accuracy: 0.7995 - val_loss: 0.6678 - val_accuracy: 0.7728 - lr: 0.0010 - 26s/epoch - 29ms/step
Epoch 12/75
876/876 - 26s - loss: 0.5357 - accuracy: 0.8002 - val_loss: 0.6830 - val_accuracy: 0.7564 - lr: 0.0010 - 26s/epoch - 29ms/step
Epoch 13/75
876/876 - 25s - loss: 0.5315 - accuracy: 0.8002 - val_loss: 0.6870 - val_accuracy: 0.7431 - lr: 0.0010 - 25s/epoch - 29ms/step
Epoch 14/75
876/876 - 25s - loss: 0.5272 - accuracy: 0.8035 - val_loss: 0.6757 - val_accuracy: 0.7567 - lr: 0.0010 - 25s/epoch - 29ms/step
Epoch 15/75
876/876 - 25s - loss: 0.5242 - accuracy: 0.8039 - val_loss: 0.7294 - val_accuracy: 0.7464 - lr: 0.0010 - 25s/epoch - 29ms/step
Epoch 16/75
876/876 - 26s - loss: 0.5219 - accuracy: 0.8057 - val_loss: 0.6573 - val_accuracy: 0.7654 - lr: 0.0010 - 26s/epoch - 29ms/step
Epoch 17/75
876/876 - 26s - loss: 0.5185 - accuracy: 0.8063 - val_loss: 0.6789 - val_accuracy: 0.7559 - lr: 0.0010 - 26s/epoch - 29ms/step
Epoch 18/75
876/876 - 25s - loss: 0.5136 - accuracy: 0.8081 - val_loss: 0.6907 - val_accuracy: 0.7520 - lr: 0.0010 - 25s/epoch - 29ms/step
Epoch 19/75
876/876 - 25s - loss: 0.5133 - accuracy: 0.8085 - val_loss: 0.6666 - val_accuracy: 0.7677 - lr: 0.0010 - 25s/epoch - 29ms/step
Epoch 20/75
876/876 - 26s - loss: 0.5111 - accuracy: 0.8090 - val_loss: 0.7290 - val_accuracy: 0.7352 - lr: 0.0010 - 26s/epoch - 29ms/step
Epoch 21/75
876/876 - 26s - loss: 0.5125 - accuracy: 0.8076 - val_loss: 0.6603 - val_accuracy: 0.7624 - lr: 0.0010 - 26s/epoch - 29ms/step
Epoch 22/75
876/876 - 25s - loss: 0.5063 - accuracy: 0.8093 - val_loss: 0.7283 - val_accuracy: 0.7332 - lr: 0.0010 - 25s/epoch - 29ms/step
Epoch 23/75
876/876 - 25s - loss: 0.5025 - accuracy: 0.8106 - val_loss: 0.6628 - val_accuracy: 0.7811 - lr: 0.0010 - 25s/epoch - 29ms/step
Epoch 24/75
876/876 - 25s - loss: 0.5036 - accuracy: 0.8122 - val_loss: 0.6898 - val_accuracy: 0.7511 - lr: 0.0010 - 25s/epoch - 29ms/step
Epoch 25/75
876/876 - 26s - loss: 0.4985 - accuracy: 0.8131 - val_loss: 0.6790 - val_accuracy: 0.7680 - lr: 0.0010 - 26s/epoch - 29ms/step
Epoch 26/75
876/876 - 25s - loss: 0.4978 - accuracy: 0.8147 - val_loss: 0.7410 - val_accuracy: 0.7287 - lr: 0.0010 - 25s/epoch - 29ms/step
Epoch 27/75
876/876 - 25s - loss: 0.4931 - accuracy: 0.8152 - val_loss: 0.6446 - val_accuracy: 0.7780 - lr: 0.0010 - 25s/epoch - 29ms/step
Epoch 28/75
876/876 - 26s - loss: 0.4903 - accuracy: 0.8164 - val_loss: 0.7422 - val_accuracy: 0.7316 - lr: 0.0010 - 26s/epoch - 29ms/step
Epoch 29/75
876/876 - 25s - loss: 0.4864 - accuracy: 0.8169 - val_loss: 0.8001 - val_accuracy: 0.6975 - lr: 0.0010 - 25s/epoch - 29ms/step
Epoch 30/75
876/876 - 26s - loss: 0.4864 - accuracy: 0.8185 - val_loss: 0.8121 - val_accuracy: 0.7066 - lr: 0.0010 - 26s/epoch - 29ms/step
Epoch 31/75
876/876 - 26s - loss: 0.4846 - accuracy: 0.8184 - val_loss: 0.6379 - val_accuracy: 0.7814 - lr: 0.0010 - 26s/epoch - 29ms/step
Epoch 32/75
876/876 - 26s - loss: 0.4828 - accuracy: 0.8190 - val_loss: 0.7065 - val_accuracy: 0.7464 - lr: 0.0010 - 26s/epoch - 29ms/step
Epoch 33/75
876/876 - 26s - loss: 0.4824 - accuracy: 0.8191 - val_loss: 0.7123 - val_accuracy: 0.7561 - lr: 0.0010 - 26s/epoch - 30ms/step
Epoch 34/75
876/876 - 26s - loss: 0.4784 - accuracy: 0.8201 - val_loss: 0.7639 - val_accuracy: 0.7265 - lr: 0.0010 - 26s/epoch - 29ms/step
Epoch 35/75
876/876 - 25s - loss: 0.4771 - accuracy: 0.8213 - val_loss: 0.7575 - val_accuracy: 0.7190 - lr: 0.0010 - 25s/epoch - 29ms/step
Epoch 36/75
876/876 - 26s - loss: 0.4719 - accuracy: 0.8232 - val_loss: 0.7066 - val_accuracy: 0.7394 - lr: 0.0010 - 26s/epoch - 29ms/step
Epoch 37/75
876/876 - 26s - loss: 0.4741 - accuracy: 0.8218 - val_loss: 0.7874 - val_accuracy: 0.7123 - lr: 0.0010 - 26s/epoch - 29ms/step
Epoch 38/75
876/876 - 26s - loss: 0.4703 - accuracy: 0.8234 - val_loss: 0.6726 - val_accuracy: 0.7506 - lr: 0.0010 - 26s/epoch - 29ms/step
Epoch 39/75
876/876 - 25s - loss: 0.4723 - accuracy: 0.8220 - val_loss: 0.6899 - val_accuracy: 0.7590 - lr: 0.0010 - 25s/epoch - 29ms/step
Epoch 40/75
876/876 - 26s - loss: 0.4679 - accuracy: 0.8243 - val_loss: 0.6925 - val_accuracy: 0.7568 - lr: 0.0010 - 26s/epoch - 29ms/step
Epoch 41/75
876/876 - 26s - loss: 0.4648 - accuracy: 0.8261 - val_loss: 0.7032 - val_accuracy: 0.7377 - lr: 0.0010 - 26s/epoch - 29ms/step
Epoch 42/75
876/876 - 26s - loss: 0.4618 - accuracy: 0.8261 - val_loss: 0.6308 - val_accuracy: 0.7748 - lr: 0.0010 - 26s/epoch - 29ms/step
Epoch 43/75
876/876 - 26s - loss: 0.4615 - accuracy: 0.8273 - val_loss: 0.7997 - val_accuracy: 0.7132 - lr: 0.0010 - 26s/epoch - 29ms/step
Epoch 44/75
876/876 - 25s - loss: 0.4574 - accuracy: 0.8282 - val_loss: 0.7230 - val_accuracy: 0.7299 - lr: 0.0010 - 25s/epoch - 29ms/step
Epoch 45/75
876/876 - 26s - loss: 0.4596 - accuracy: 0.8274 - val_loss: 0.6456 - val_accuracy: 0.7606 - lr: 0.0010 - 26s/epoch - 29ms/step
Epoch 46/75
876/876 - 26s - loss: 0.4572 - accuracy: 0.8274 - val_loss: 0.6687 - val_accuracy: 0.7577 - lr: 0.0010 - 26s/epoch - 29ms/step
Epoch 47/75
876/876 - 26s - loss: 0.4528 - accuracy: 0.8309 - val_loss: 0.7311 - val_accuracy: 0.7188 - lr: 0.0010 - 26s/epoch - 29ms/step
Epoch 48/75
876/876 - 26s - loss: 0.4510 - accuracy: 0.8309 - val_loss: 0.6969 - val_accuracy: 0.7368 - lr: 0.0010 - 26s/epoch - 30ms/step
Epoch 49/75
876/876 - 26s - loss: 0.4529 - accuracy: 0.8296 - val_loss: 0.6775 - val_accuracy: 0.7609 - lr: 0.0010 - 26s/epoch - 29ms/step
Epoch 50/75
876/876 - 25s - loss: 0.4541 - accuracy: 0.8304 - val_loss: 0.7543 - val_accuracy: 0.7388 - lr: 0.0010 - 25s/epoch - 29ms/step
Epoch 51/75
876/876 - 26s - loss: 0.4484 - accuracy: 0.8308 - val_loss: 0.6690 - val_accuracy: 0.7679 - lr: 0.0010 - 26s/epoch - 29ms/step
Epoch 52/75
876/876 - 26s - loss: 0.4479 - accuracy: 0.8310 - val_loss: 0.6977 - val_accuracy: 0.7504 - lr: 0.0010 - 26s/epoch - 30ms/step
Epoch 53/75
876/876 - 26s - loss: 0.4472 - accuracy: 0.8317 - val_loss: 0.6886 - val_accuracy: 0.7554 - lr: 0.0010 - 26s/epoch - 29ms/step
Epoch 54/75
876/876 - 25s - loss: 0.4450 - accuracy: 0.8336 - val_loss: 0.6949 - val_accuracy: 0.7457 - lr: 0.0010 - 25s/epoch - 29ms/step
Epoch 55/75
876/876 - 25s - loss: 0.4418 - accuracy: 0.8330 - val_loss: 0.6210 - val_accuracy: 0.7890 - lr: 0.0010 - 25s/epoch - 29ms/step
Epoch 56/75
876/876 - 26s - loss: 0.4389 - accuracy: 0.8346 - val_loss: 0.6892 - val_accuracy: 0.7548 - lr: 0.0010 - 26s/epoch - 29ms/step
Epoch 57/75
876/876 - 26s - loss: 0.4402 - accuracy: 0.8345 - val_loss: 0.6417 - val_accuracy: 0.7614 - lr: 0.0010 - 26s/epoch - 29ms/step
Epoch 58/75
876/876 - 26s - loss: 0.4389 - accuracy: 0.8343 - val_loss: 0.7140 - val_accuracy: 0.7391 - lr: 0.0010 - 26s/epoch - 29ms/step
Epoch 59/75
876/876 - 26s - loss: 0.4378 - accuracy: 0.8341 - val_loss: 0.7109 - val_accuracy: 0.7452 - lr: 0.0010 - 26s/epoch - 29ms/step
Epoch 60/75
876/876 - 26s - loss: 0.4371 - accuracy: 0.8346 - val_loss: 0.6537 - val_accuracy: 0.7520 - lr: 0.0010 - 26s/epoch - 29ms/step
Epoch 61/75
876/876 - 26s - loss: 0.4329 - accuracy: 0.8356 - val_loss: 0.7311 - val_accuracy: 0.7356 - lr: 0.0010 - 26s/epoch - 29ms/step
Epoch 62/75
876/876 - 26s - loss: 0.4343 - accuracy: 0.8356 - val_loss: 0.7062 - val_accuracy: 0.7412 - lr: 0.0010 - 26s/epoch - 30ms/step
Epoch 63/75
876/876 - 26s - loss: 0.4295 - accuracy: 0.8383 - val_loss: 0.7157 - val_accuracy: 0.7289 - lr: 0.0010 - 26s/epoch - 29ms/step
Epoch 64/75
876/876 - 26s - loss: 0.4290 - accuracy: 0.8380 - val_loss: 0.6735 - val_accuracy: 0.7662 - lr: 0.0010 - 26s/epoch - 29ms/step
Epoch 65/75
876/876 - 26s - loss: 0.4316 - accuracy: 0.8359 - val_loss: 0.6909 - val_accuracy: 0.7519 - lr: 0.0010 - 26s/epoch - 29ms/step
Epoch 66/75
876/876 - 26s - loss: 0.4296 - accuracy: 0.8377 - val_loss: 0.6785 - val_accuracy: 0.7624 - lr: 0.0010 - 26s/epoch - 29ms/step
Epoch 67/75
876/876 - 24s - loss: 0.4257 - accuracy: 0.8391 - val_loss: 0.6971 - val_accuracy: 0.7475 - lr: 0.0010 - 24s/epoch - 27ms/step
Epoch 68/75
876/876 - 22s - loss: 0.4255 - accuracy: 0.8398 - val_loss: 0.6692 - val_accuracy: 0.7744 - lr: 0.0010 - 22s/epoch - 26ms/step
Epoch 69/75
876/876 - 22s - loss: 0.4238 - accuracy: 0.8408 - val_loss: 0.6901 - val_accuracy: 0.7680 - lr: 0.0010 - 22s/epoch - 25ms/step
Epoch 70/75
876/876 - 22s - loss: 0.4227 - accuracy: 0.8403 - val_loss: 0.7092 - val_accuracy: 0.7510 - lr: 0.0010 - 22s/epoch - 25ms/step
Epoch 71/75
876/876 - 20s - loss: 0.4211 - accuracy: 0.8404 - val_loss: 0.6922 - val_accuracy: 0.7478 - lr: 0.0010 - 20s/epoch - 23ms/step
Epoch 72/75
876/876 - 27s - loss: 0.4224 - accuracy: 0.8412 - val_loss: 0.7085 - val_accuracy: 0.7388 - lr: 0.0010 - 27s/epoch - 31ms/step
Epoch 73/75
876/876 - 26s - loss: 0.4208 - accuracy: 0.8412 - val_loss: 0.7093 - val_accuracy: 0.7487 - lr: 0.0010 - 26s/epoch - 30ms/step
Epoch 74/75
876/876 - 27s - loss: 0.4146 - accuracy: 0.8435 - val_loss: 0.7192 - val_accuracy: 0.7344 - lr: 0.0010 - 27s/epoch - 30ms/step
Epoch 75/75
876/876 - 27s - loss: 0.4191 - accuracy: 0.8419 - val_loss: 0.7385 - val_accuracy: 0.7141 - lr: 0.0010 - 27s/epoch - 31ms/step
fitting with batch size: 500
Epoch 1/75
176/176 - 22s - loss: 0.3659 - accuracy: 0.8612 - val_loss: 0.7228 - val_accuracy: 0.7229 - lr: 0.0010 - 22s/epoch - 122ms/step
Epoch 2/75
176/176 - 15s - loss: 0.3593 - accuracy: 0.8644 - val_loss: 0.7727 - val_accuracy: 0.7133 - lr: 0.0010 - 15s/epoch - 83ms/step
Epoch 3/75
176/176 - 14s - loss: 0.3563 - accuracy: 0.8654 - val_loss: 0.7679 - val_accuracy: 0.7055 - lr: 0.0010 - 14s/epoch - 82ms/step
Epoch 4/75
176/176 - 16s - loss: 0.3519 - accuracy: 0.8670 - val_loss: 0.7449 - val_accuracy: 0.7157 - lr: 0.0010 - 16s/epoch - 90ms/step
Epoch 5/75
176/176 - 17s - loss: 0.3505 - accuracy: 0.8666 - val_loss: 0.6772 - val_accuracy: 0.7492 - lr: 0.0010 - 17s/epoch - 98ms/step
Epoch 6/75
176/176 - 16s - loss: 0.3426 - accuracy: 0.8690 - val_loss: 0.6780 - val_accuracy: 0.7449 - lr: 0.0010 - 16s/epoch - 93ms/step
Epoch 7/75
176/176 - 16s - loss: 0.3436 - accuracy: 0.8692 - val_loss: 0.6981 - val_accuracy: 0.7304 - lr: 0.0010 - 16s/epoch - 92ms/step
Epoch 8/75
176/176 - 16s - loss: 0.3422 - accuracy: 0.8701 - val_loss: 0.6837 - val_accuracy: 0.7408 - lr: 0.0010 - 16s/epoch - 90ms/step
Epoch 9/75
176/176 - 16s - loss: 0.3398 - accuracy: 0.8707 - val_loss: 0.7021 - val_accuracy: 0.7280 - lr: 0.0010 - 16s/epoch - 88ms/step
Epoch 10/75
176/176 - 15s - loss: 0.3380 - accuracy: 0.8714 - val_loss: 0.7535 - val_accuracy: 0.7166 - lr: 0.0010 - 15s/epoch - 83ms/step
Epoch 11/75
176/176 - 15s - loss: 0.3361 - accuracy: 0.8719 - val_loss: 0.7276 - val_accuracy: 0.7144 - lr: 0.0010 - 15s/epoch - 87ms/step
Epoch 12/75
176/176 - 14s - loss: 0.3332 - accuracy: 0.8732 - val_loss: 0.7435 - val_accuracy: 0.7243 - lr: 0.0010 - 14s/epoch - 79ms/step
Epoch 13/75
176/176 - 14s - loss: 0.3311 - accuracy: 0.8732 - val_loss: 0.6849 - val_accuracy: 0.7358 - lr: 0.0010 - 14s/epoch - 80ms/step
Epoch 14/75
176/176 - 15s - loss: 0.3276 - accuracy: 0.8750 - val_loss: 0.7424 - val_accuracy: 0.7183 - lr: 0.0010 - 15s/epoch - 83ms/step
Epoch 15/75
176/176 - 15s - loss: 0.3283 - accuracy: 0.8735 - val_loss: 0.7188 - val_accuracy: 0.7343 - lr: 0.0010 - 15s/epoch - 84ms/step
Epoch 16/75
176/176 - 15s - loss: 0.3271 - accuracy: 0.8752 - val_loss: 0.7382 - val_accuracy: 0.7215 - lr: 0.0010 - 15s/epoch - 86ms/step
Epoch 17/75
176/176 - 15s - loss: 0.3264 - accuracy: 0.8760 - val_loss: 0.7618 - val_accuracy: 0.7059 - lr: 0.0010 - 15s/epoch - 87ms/step
Epoch 18/75
176/176 - 14s - loss: 0.3240 - accuracy: 0.8760 - val_loss: 0.7055 - val_accuracy: 0.7407 - lr: 0.0010 - 14s/epoch - 79ms/step
Epoch 19/75
176/176 - 15s - loss: 0.3222 - accuracy: 0.8765 - val_loss: 0.7168 - val_accuracy: 0.7357 - lr: 0.0010 - 15s/epoch - 84ms/step
Epoch 20/75
176/176 - 15s - loss: 0.3243 - accuracy: 0.8762 - val_loss: 0.7193 - val_accuracy: 0.7198 - lr: 0.0010 - 15s/epoch - 83ms/step
Epoch 21/75
176/176 - 15s - loss: 0.3197 - accuracy: 0.8780 - val_loss: 0.7788 - val_accuracy: 0.7106 - lr: 0.0010 - 15s/epoch - 83ms/step
Epoch 22/75
176/176 - 15s - loss: 0.3202 - accuracy: 0.8768 - val_loss: 0.7354 - val_accuracy: 0.7321 - lr: 0.0010 - 15s/epoch - 84ms/step
Epoch 23/75
176/176 - 14s - loss: 0.3183 - accuracy: 0.8777 - val_loss: 0.7547 - val_accuracy: 0.7217 - lr: 0.0010 - 14s/epoch - 78ms/step
Epoch 24/75
176/176 - 14s - loss: 0.3156 - accuracy: 0.8788 - val_loss: 0.7295 - val_accuracy: 0.7297 - lr: 0.0010 - 14s/epoch - 78ms/step
Epoch 25/75
176/176 - 14s - loss: 0.3172 - accuracy: 0.8794 - val_loss: 0.7567 - val_accuracy: 0.7161 - lr: 0.0010 - 14s/epoch - 80ms/step
Epoch 26/75
176/176 - 14s - loss: 0.3163 - accuracy: 0.8789 - val_loss: 0.7633 - val_accuracy: 0.7175 - lr: 0.0010 - 14s/epoch - 81ms/step
Epoch 27/75
176/176 - 15s - loss: 0.3107 - accuracy: 0.8808 - val_loss: 0.7117 - val_accuracy: 0.7348 - lr: 0.0010 - 15s/epoch - 84ms/step
Epoch 28/75
176/176 - 16s - loss: 0.3131 - accuracy: 0.8805 - val_loss: 0.7581 - val_accuracy: 0.7148 - lr: 0.0010 - 16s/epoch - 89ms/step
Epoch 29/75
176/176 - 15s - loss: 0.3115 - accuracy: 0.8803 - val_loss: 0.7427 - val_accuracy: 0.7220 - lr: 0.0010 - 15s/epoch - 87ms/step
Epoch 30/75
176/176 - 15s - loss: 0.3105 - accuracy: 0.8806 - val_loss: 0.6681 - val_accuracy: 0.7569 - lr: 0.0010 - 15s/epoch - 86ms/step
Epoch 31/75
176/176 - 15s - loss: 0.3091 - accuracy: 0.8822 - val_loss: 0.7312 - val_accuracy: 0.7249 - lr: 0.0010 - 15s/epoch - 86ms/step
Epoch 32/75
176/176 - 14s - loss: 0.3067 - accuracy: 0.8826 - val_loss: 0.7902 - val_accuracy: 0.7058 - lr: 0.0010 - 14s/epoch - 81ms/step
Epoch 33/75
176/176 - 14s - loss: 0.3073 - accuracy: 0.8820 - val_loss: 0.7456 - val_accuracy: 0.7209 - lr: 0.0010 - 14s/epoch - 77ms/step
Epoch 34/75
176/176 - 14s - loss: 0.3088 - accuracy: 0.8819 - val_loss: 0.7941 - val_accuracy: 0.7041 - lr: 0.0010 - 14s/epoch - 82ms/step
Epoch 35/75
176/176 - 14s - loss: 0.3048 - accuracy: 0.8837 - val_loss: 0.7384 - val_accuracy: 0.7244 - lr: 0.0010 - 14s/epoch - 82ms/step
Epoch 36/75
176/176 - 17s - loss: 0.3065 - accuracy: 0.8819 - val_loss: 0.7416 - val_accuracy: 0.7303 - lr: 0.0010 - 17s/epoch - 97ms/step
Epoch 37/75
176/176 - 16s - loss: 0.3027 - accuracy: 0.8837 - val_loss: 0.7026 - val_accuracy: 0.7437 - lr: 0.0010 - 16s/epoch - 89ms/step
Epoch 38/75
176/176 - 15s - loss: 0.3049 - accuracy: 0.8827 - val_loss: 0.7673 - val_accuracy: 0.7278 - lr: 0.0010 - 15s/epoch - 83ms/step
Epoch 39/75
176/176 - 15s - loss: 0.3026 - accuracy: 0.8840 - val_loss: 0.7425 - val_accuracy: 0.7364 - lr: 0.0010 - 15s/epoch - 86ms/step
Epoch 40/75
176/176 - 15s - loss: 0.2995 - accuracy: 0.8851 - val_loss: 0.7704 - val_accuracy: 0.7246 - lr: 0.0010 - 15s/epoch - 84ms/step
Epoch 41/75
176/176 - 15s - loss: 0.2983 - accuracy: 0.8849 - val_loss: 0.7583 - val_accuracy: 0.7376 - lr: 0.0010 - 15s/epoch - 83ms/step
Epoch 42/75
176/176 - 15s - loss: 0.3008 - accuracy: 0.8854 - val_loss: 0.7463 - val_accuracy: 0.7291 - lr: 0.0010 - 15s/epoch - 85ms/step
Epoch 43/75
176/176 - 14s - loss: 0.3006 - accuracy: 0.8835 - val_loss: 0.7825 - val_accuracy: 0.7116 - lr: 0.0010 - 14s/epoch - 77ms/step
Epoch 44/75
176/176 - 15s - loss: 0.2962 - accuracy: 0.8866 - val_loss: 0.8057 - val_accuracy: 0.7086 - lr: 0.0010 - 15s/epoch - 84ms/step
Epoch 45/75
176/176 - 14s - loss: 0.2963 - accuracy: 0.8849 - val_loss: 0.7691 - val_accuracy: 0.7232 - lr: 0.0010 - 14s/epoch - 78ms/step
Epoch 46/75
176/176 - 13s - loss: 0.2946 - accuracy: 0.8869 - val_loss: 0.7420 - val_accuracy: 0.7315 - lr: 0.0010 - 13s/epoch - 76ms/step
Epoch 47/75
176/176 - 14s - loss: 0.2936 - accuracy: 0.8874 - val_loss: 0.8086 - val_accuracy: 0.7100 - lr: 0.0010 - 14s/epoch - 81ms/step
Epoch 48/75
176/176 - 15s - loss: 0.2934 - accuracy: 0.8866 - val_loss: 0.7652 - val_accuracy: 0.7220 - lr: 0.0010 - 15s/epoch - 82ms/step
Epoch 49/75
176/176 - 15s - loss: 0.2882 - accuracy: 0.8885 - val_loss: 0.7858 - val_accuracy: 0.7263 - lr: 0.0010 - 15s/epoch - 83ms/step
Epoch 50/75
176/176 - 15s - loss: 0.2909 - accuracy: 0.8871 - val_loss: 0.7807 - val_accuracy: 0.7260 - lr: 0.0010 - 15s/epoch - 86ms/step
Epoch 51/75
176/176 - 17s - loss: 0.2907 - accuracy: 0.8881 - val_loss: 0.8119 - val_accuracy: 0.7135 - lr: 0.0010 - 17s/epoch - 99ms/step
Epoch 52/75
176/176 - 18s - loss: 0.2916 - accuracy: 0.8873 - val_loss: 0.8007 - val_accuracy: 0.7194 - lr: 0.0010 - 18s/epoch - 104ms/step
Epoch 53/75
176/176 - 16s - loss: 0.2916 - accuracy: 0.8860 - val_loss: 0.7217 - val_accuracy: 0.7420 - lr: 0.0010 - 16s/epoch - 91ms/step
Epoch 54/75
176/176 - 16s - loss: 0.2826 - accuracy: 0.8917 - val_loss: 0.7550 - val_accuracy: 0.7334 - lr: 0.0010 - 16s/epoch - 92ms/step
Epoch 55/75
176/176 - 15s - loss: 0.2891 - accuracy: 0.8880 - val_loss: 0.7091 - val_accuracy: 0.7446 - lr: 0.0010 - 15s/epoch - 88ms/step
Epoch 56/75
176/176 - 15s - loss: 0.2874 - accuracy: 0.8892 - val_loss: 0.7362 - val_accuracy: 0.7388 - lr: 0.0010 - 15s/epoch - 83ms/step
Epoch 57/75
176/176 - 14s - loss: 0.2881 - accuracy: 0.8880 - val_loss: 0.7564 - val_accuracy: 0.7368 - lr: 0.0010 - 14s/epoch - 82ms/step
Epoch 58/75
176/176 - 15s - loss: 0.2855 - accuracy: 0.8889 - val_loss: 0.7203 - val_accuracy: 0.7501 - lr: 0.0010 - 15s/epoch - 83ms/step
Epoch 59/75
176/176 - 14s - loss: 0.2831 - accuracy: 0.8906 - val_loss: 0.8048 - val_accuracy: 0.7293 - lr: 0.0010 - 14s/epoch - 79ms/step
Epoch 60/75
176/176 - 15s - loss: 0.2836 - accuracy: 0.8895 - val_loss: 0.7782 - val_accuracy: 0.7302 - lr: 0.0010 - 15s/epoch - 85ms/step
Epoch 61/75
176/176 - 14s - loss: 0.2844 - accuracy: 0.8900 - val_loss: 0.8029 - val_accuracy: 0.7071 - lr: 0.0010 - 14s/epoch - 82ms/step
Epoch 62/75
176/176 - 15s - loss: 0.2837 - accuracy: 0.8904 - val_loss: 0.7886 - val_accuracy: 0.7156 - lr: 0.0010 - 15s/epoch - 84ms/step
Epoch 63/75
176/176 - 14s - loss: 0.2846 - accuracy: 0.8890 - val_loss: 0.8101 - val_accuracy: 0.7178 - lr: 0.0010 - 14s/epoch - 81ms/step
Epoch 64/75
176/176 - 15s - loss: 0.2822 - accuracy: 0.8918 - val_loss: 0.7604 - val_accuracy: 0.7291 - lr: 0.0010 - 15s/epoch - 83ms/step
Epoch 65/75
176/176 - 14s - loss: 0.2806 - accuracy: 0.8922 - val_loss: 0.7469 - val_accuracy: 0.7462 - lr: 0.0010 - 14s/epoch - 81ms/step
Epoch 66/75
176/176 - 14s - loss: 0.2839 - accuracy: 0.8895 - val_loss: 0.7497 - val_accuracy: 0.7293 - lr: 0.0010 - 14s/epoch - 81ms/step
Epoch 67/75
176/176 - 14s - loss: 0.2840 - accuracy: 0.8918 - val_loss: 0.7826 - val_accuracy: 0.7245 - lr: 0.0010 - 14s/epoch - 81ms/step
Epoch 68/75
176/176 - 13s - loss: 0.2802 - accuracy: 0.8923 - val_loss: 0.7381 - val_accuracy: 0.7473 - lr: 0.0010 - 13s/epoch - 76ms/step
Epoch 69/75
176/176 - 13s - loss: 0.2771 - accuracy: 0.8933 - val_loss: 0.7584 - val_accuracy: 0.7342 - lr: 0.0010 - 13s/epoch - 74ms/step
Epoch 70/75
176/176 - 14s - loss: 0.2806 - accuracy: 0.8911 - val_loss: 0.7938 - val_accuracy: 0.7130 - lr: 0.0010 - 14s/epoch - 80ms/step
Epoch 71/75
176/176 - 17s - loss: 0.2783 - accuracy: 0.8922 - val_loss: 0.8143 - val_accuracy: 0.7038 - lr: 0.0010 - 17s/epoch - 98ms/step
Epoch 72/75
176/176 - 15s - loss: 0.2765 - accuracy: 0.8928 - val_loss: 0.8003 - val_accuracy: 0.7148 - lr: 0.0010 - 15s/epoch - 84ms/step
Epoch 73/75
176/176 - 14s - loss: 0.2744 - accuracy: 0.8940 - val_loss: 0.7737 - val_accuracy: 0.7297 - lr: 0.0010 - 14s/epoch - 82ms/step
Epoch 74/75
176/176 - 14s - loss: 0.2747 - accuracy: 0.8943 - val_loss: 0.7374 - val_accuracy: 0.7475 - lr: 0.0010 - 14s/epoch - 82ms/step
Epoch 75/75
176/176 - 14s - loss: 0.2776 - accuracy: 0.8927 - val_loss: 0.8111 - val_accuracy: 0.7115 - lr: 0.0010 - 14s/epoch - 79ms/step
Epoch number: 100
fitting with batch size: 20
Epoch 1/100
4378/4378 - 102s - loss: 0.5321 - accuracy: 0.8028 - val_loss: 0.8311 - val_accuracy: 0.6567 - lr: 0.0010 - 102s/epoch - 23ms/step
Epoch 2/100
4378/4378 - 99s - loss: 0.5394 - accuracy: 0.7977 - val_loss: 0.7749 - val_accuracy: 0.7146 - lr: 0.0010 - 99s/epoch - 23ms/step
Epoch 3/100
4378/4378 - 97s - loss: 0.5427 - accuracy: 0.7972 - val_loss: 0.7114 - val_accuracy: 0.7499 - lr: 0.0010 - 97s/epoch - 22ms/step
Epoch 4/100
4378/4378 - 99s - loss: 0.5484 - accuracy: 0.7951 - val_loss: 0.8088 - val_accuracy: 0.7077 - lr: 0.0010 - 99s/epoch - 23ms/step
Epoch 5/100
4378/4378 - 101s - loss: 0.5430 - accuracy: 0.7967 - val_loss: 0.7495 - val_accuracy: 0.7425 - lr: 0.0010 - 101s/epoch - 23ms/step
Epoch 6/100
4378/4378 - 95s - loss: 0.5434 - accuracy: 0.7974 - val_loss: 0.8045 - val_accuracy: 0.6912 - lr: 0.0010 - 95s/epoch - 22ms/step
Epoch 7/100
4378/4378 - 101s - loss: 0.5389 - accuracy: 0.7977 - val_loss: 0.8476 - val_accuracy: 0.7185 - lr: 0.0010 - 101s/epoch - 23ms/step
Epoch 8/100
4378/4378 - 120s - loss: 0.5405 - accuracy: 0.7963 - val_loss: 0.7940 - val_accuracy: 0.7114 - lr: 0.0010 - 120s/epoch - 27ms/step
Epoch 9/100
4378/4378 - 104s - loss: 0.5358 - accuracy: 0.8003 - val_loss: 0.6716 - val_accuracy: 0.7661 - lr: 0.0010 - 104s/epoch - 24ms/step
Epoch 10/100
4378/4378 - 104s - loss: 0.5397 - accuracy: 0.7976 - val_loss: 0.6936 - val_accuracy: 0.7811 - lr: 0.0010 - 104s/epoch - 24ms/step
Epoch 11/100
4378/4378 - 102s - loss: 0.5367 - accuracy: 0.7981 - val_loss: 0.8282 - val_accuracy: 0.7246 - lr: 0.0010 - 102s/epoch - 23ms/step
Epoch 12/100
4378/4378 - 106s - loss: 0.5448 - accuracy: 0.7959 - val_loss: 0.6599 - val_accuracy: 0.7814 - lr: 0.0010 - 106s/epoch - 24ms/step
Epoch 13/100
4378/4378 - 102s - loss: 0.5421 - accuracy: 0.7964 - val_loss: 0.7501 - val_accuracy: 0.7150 - lr: 0.0010 - 102s/epoch - 23ms/step
Epoch 14/100
4378/4378 - 100s - loss: 0.5412 - accuracy: 0.7983 - val_loss: 0.7386 - val_accuracy: 0.7359 - lr: 0.0010 - 100s/epoch - 23ms/step
Epoch 15/100
4378/4378 - 104s - loss: 0.5435 - accuracy: 0.7977 - val_loss: 0.7764 - val_accuracy: 0.7294 - lr: 0.0010 - 104s/epoch - 24ms/step
Epoch 16/100
4378/4378 - 104s - loss: 0.5425 - accuracy: 0.7984 - val_loss: 0.7455 - val_accuracy: 0.7303 - lr: 0.0010 - 104s/epoch - 24ms/step
Epoch 17/100
4378/4378 - 103s - loss: 0.5380 - accuracy: 0.7987 - val_loss: 0.7775 - val_accuracy: 0.7466 - lr: 0.0010 - 103s/epoch - 23ms/step
Epoch 18/100
4378/4378 - 97s - loss: 0.5397 - accuracy: 0.7981 - val_loss: 0.6954 - val_accuracy: 0.7784 - lr: 0.0010 - 97s/epoch - 22ms/step
Epoch 19/100
4378/4378 - 97s - loss: 0.5385 - accuracy: 0.7999 - val_loss: 0.7928 - val_accuracy: 0.7270 - lr: 0.0010 - 97s/epoch - 22ms/step
Epoch 20/100
4378/4378 - 98s - loss: 0.5419 - accuracy: 0.7967 - val_loss: 0.6626 - val_accuracy: 0.7772 - lr: 0.0010 - 98s/epoch - 22ms/step
Epoch 21/100
4378/4378 - 97s - loss: 0.5383 - accuracy: 0.7988 - val_loss: 0.7731 - val_accuracy: 0.7141 - lr: 0.0010 - 97s/epoch - 22ms/step
Epoch 22/100
4378/4378 - 94s - loss: 0.5423 - accuracy: 0.7973 - val_loss: 0.7813 - val_accuracy: 0.7372 - lr: 0.0010 - 94s/epoch - 22ms/step
Epoch 23/100
4378/4378 - 97s - loss: 0.5352 - accuracy: 0.7997 - val_loss: 0.8240 - val_accuracy: 0.7121 - lr: 0.0010 - 97s/epoch - 22ms/step
Epoch 24/100
4378/4378 - 98s - loss: 0.5344 - accuracy: 0.8001 - val_loss: 0.7810 - val_accuracy: 0.7249 - lr: 0.0010 - 98s/epoch - 22ms/step
Epoch 25/100
4378/4378 - 98s - loss: 0.5355 - accuracy: 0.8008 - val_loss: 0.6759 - val_accuracy: 0.7750 - lr: 0.0010 - 98s/epoch - 22ms/step
Epoch 26/100
4378/4378 - 98s - loss: 0.5343 - accuracy: 0.7995 - val_loss: 0.6978 - val_accuracy: 0.7848 - lr: 0.0010 - 98s/epoch - 22ms/step
Epoch 27/100
4378/4378 - 98s - loss: 0.5354 - accuracy: 0.8009 - val_loss: 0.6676 - val_accuracy: 0.7624 - lr: 0.0010 - 98s/epoch - 22ms/step
Epoch 28/100
4378/4378 - 98s - loss: 0.5291 - accuracy: 0.8009 - val_loss: 0.6539 - val_accuracy: 0.7968 - lr: 0.0010 - 98s/epoch - 22ms/step
Epoch 29/100
4378/4378 - 102s - loss: 0.5401 - accuracy: 0.7984 - val_loss: 0.8542 - val_accuracy: 0.7246 - lr: 0.0010 - 102s/epoch - 23ms/step
Epoch 30/100
4378/4378 - 104s - loss: 0.5352 - accuracy: 0.8019 - val_loss: 0.7987 - val_accuracy: 0.7570 - lr: 0.0010 - 104s/epoch - 24ms/step
Epoch 31/100
4378/4378 - 102s - loss: 0.5301 - accuracy: 0.8022 - val_loss: 0.8646 - val_accuracy: 0.6943 - lr: 0.0010 - 102s/epoch - 23ms/step
Epoch 32/100
4378/4378 - 104s - loss: 0.5304 - accuracy: 0.8033 - val_loss: 0.7215 - val_accuracy: 0.7789 - lr: 0.0010 - 104s/epoch - 24ms/step
Epoch 33/100
4378/4378 - 106s - loss: 0.5341 - accuracy: 0.8003 - val_loss: 0.7565 - val_accuracy: 0.7421 - lr: 0.0010 - 106s/epoch - 24ms/step
Epoch 34/100
4378/4378 - 102s - loss: 0.5366 - accuracy: 0.8008 - val_loss: 0.6872 - val_accuracy: 0.7803 - lr: 0.0010 - 102s/epoch - 23ms/step
Epoch 35/100
4378/4378 - 100s - loss: 0.5323 - accuracy: 0.8024 - val_loss: 0.7021 - val_accuracy: 0.7603 - lr: 0.0010 - 100s/epoch - 23ms/step
Epoch 36/100
4378/4378 - 105s - loss: 0.5338 - accuracy: 0.8007 - val_loss: 0.6848 - val_accuracy: 0.8035 - lr: 0.0010 - 105s/epoch - 24ms/step
Epoch 37/100
4378/4378 - 103s - loss: 0.5364 - accuracy: 0.8006 - val_loss: 0.7017 - val_accuracy: 0.7788 - lr: 0.0010 - 103s/epoch - 24ms/step
Epoch 38/100
4378/4378 - 98s - loss: 0.5268 - accuracy: 0.8045 - val_loss: 0.6867 - val_accuracy: 0.8035 - lr: 0.0010 - 98s/epoch - 22ms/step
Epoch 39/100
4378/4378 - 101s - loss: 0.5290 - accuracy: 0.8030 - val_loss: 0.7370 - val_accuracy: 0.7549 - lr: 0.0010 - 101s/epoch - 23ms/step
Epoch 40/100
4378/4378 - 99s - loss: 0.5304 - accuracy: 0.8038 - val_loss: 0.6948 - val_accuracy: 0.8081 - lr: 0.0010 - 99s/epoch - 23ms/step
Epoch 41/100
4378/4378 - 102s - loss: 0.5333 - accuracy: 0.8032 - val_loss: 0.7336 - val_accuracy: 0.7881 - lr: 0.0010 - 102s/epoch - 23ms/step
Epoch 42/100
4378/4378 - 99s - loss: 0.5289 - accuracy: 0.8029 - val_loss: 0.7930 - val_accuracy: 0.7630 - lr: 0.0010 - 99s/epoch - 23ms/step
Epoch 43/100
4378/4378 - 112s - loss: 0.5315 - accuracy: 0.8021 - val_loss: 0.8003 - val_accuracy: 0.7574 - lr: 0.0010 - 112s/epoch - 26ms/step
Epoch 44/100
4378/4378 - 105s - loss: 0.5304 - accuracy: 0.8026 - val_loss: 0.9454 - val_accuracy: 0.6456 - lr: 0.0010 - 105s/epoch - 24ms/step
Epoch 45/100
4378/4378 - 99s - loss: 0.5308 - accuracy: 0.8031 - val_loss: 0.7849 - val_accuracy: 0.7487 - lr: 0.0010 - 99s/epoch - 23ms/step
Epoch 46/100
4378/4378 - 94s - loss: 0.5288 - accuracy: 0.8046 - val_loss: 0.8235 - val_accuracy: 0.7319 - lr: 0.0010 - 94s/epoch - 21ms/step
Epoch 47/100
4378/4378 - 92s - loss: 0.5317 - accuracy: 0.8016 - val_loss: 0.7365 - val_accuracy: 0.7937 - lr: 0.0010 - 92s/epoch - 21ms/step
Epoch 48/100
4378/4378 - 93s - loss: 0.5300 - accuracy: 0.8042 - val_loss: 0.8262 - val_accuracy: 0.7192 - lr: 0.0010 - 93s/epoch - 21ms/step
Epoch 49/100
4378/4378 - 93s - loss: 0.5300 - accuracy: 0.8033 - val_loss: 0.8564 - val_accuracy: 0.6845 - lr: 0.0010 - 93s/epoch - 21ms/step
Epoch 50/100
4378/4378 - 93s - loss: 0.5318 - accuracy: 0.8012 - val_loss: 0.8214 - val_accuracy: 0.7304 - lr: 0.0010 - 93s/epoch - 21ms/step
Epoch 51/100
4378/4378 - 93s - loss: 0.5280 - accuracy: 0.8044 - val_loss: 0.7912 - val_accuracy: 0.7438 - lr: 0.0010 - 93s/epoch - 21ms/step
Epoch 52/100
4378/4378 - 92s - loss: 0.5301 - accuracy: 0.8034 - val_loss: 0.7208 - val_accuracy: 0.7627 - lr: 0.0010 - 92s/epoch - 21ms/step
Epoch 53/100
4378/4378 - 92s - loss: 0.5310 - accuracy: 0.8041 - val_loss: 0.7472 - val_accuracy: 0.7532 - lr: 0.0010 - 92s/epoch - 21ms/step
Epoch 54/100
4378/4378 - 92s - loss: 0.5297 - accuracy: 0.8051 - val_loss: 0.7834 - val_accuracy: 0.7523 - lr: 0.0010 - 92s/epoch - 21ms/step
Epoch 55/100
4378/4378 - 93s - loss: 0.5291 - accuracy: 0.8047 - val_loss: 0.8243 - val_accuracy: 0.7135 - lr: 0.0010 - 93s/epoch - 21ms/step
Epoch 56/100
4378/4378 - 94s - loss: 0.5215 - accuracy: 0.8061 - val_loss: 0.7414 - val_accuracy: 0.7557 - lr: 0.0010 - 94s/epoch - 21ms/step
Epoch 57/100
4378/4378 - 93s - loss: 0.5274 - accuracy: 0.8038 - val_loss: 0.7317 - val_accuracy: 0.7754 - lr: 0.0010 - 93s/epoch - 21ms/step
Epoch 58/100
4378/4378 - 93s - loss: 0.5272 - accuracy: 0.8034 - val_loss: 0.7434 - val_accuracy: 0.7558 - lr: 0.0010 - 93s/epoch - 21ms/step
Epoch 59/100
4378/4378 - 95s - loss: 0.5303 - accuracy: 0.8038 - val_loss: 0.8722 - val_accuracy: 0.6985 - lr: 0.0010 - 95s/epoch - 22ms/step
Epoch 60/100
4378/4378 - 98s - loss: 0.5292 - accuracy: 0.8026 - val_loss: 0.8127 - val_accuracy: 0.7415 - lr: 0.0010 - 98s/epoch - 22ms/step
Epoch 61/100
4378/4378 - 97s - loss: 0.5311 - accuracy: 0.8038 - val_loss: 0.8079 - val_accuracy: 0.7106 - lr: 0.0010 - 97s/epoch - 22ms/step
Epoch 62/100
4378/4378 - 97s - loss: 0.5264 - accuracy: 0.8041 - val_loss: 0.7047 - val_accuracy: 0.7899 - lr: 0.0010 - 97s/epoch - 22ms/step
Epoch 63/100
4378/4378 - 95s - loss: 0.5268 - accuracy: 0.8066 - val_loss: 0.7367 - val_accuracy: 0.7586 - lr: 0.0010 - 95s/epoch - 22ms/step
Epoch 64/100
4378/4378 - 92s - loss: 0.5305 - accuracy: 0.8022 - val_loss: 0.6959 - val_accuracy: 0.7628 - lr: 0.0010 - 92s/epoch - 21ms/step
Epoch 65/100
4378/4378 - 93s - loss: 0.5263 - accuracy: 0.8053 - val_loss: 0.8048 - val_accuracy: 0.7496 - lr: 0.0010 - 93s/epoch - 21ms/step
Epoch 66/100
4378/4378 - 94s - loss: 0.5239 - accuracy: 0.8064 - val_loss: 0.6657 - val_accuracy: 0.7983 - lr: 0.0010 - 94s/epoch - 21ms/step
Epoch 67/100
4378/4378 - 95s - loss: 0.5277 - accuracy: 0.8042 - val_loss: 0.8935 - val_accuracy: 0.7088 - lr: 0.0010 - 95s/epoch - 22ms/step
Epoch 68/100
4378/4378 - 96s - loss: 0.5269 - accuracy: 0.8041 - val_loss: 0.6463 - val_accuracy: 0.7972 - lr: 0.0010 - 96s/epoch - 22ms/step
Epoch 69/100
4378/4378 - 96s - loss: 0.5265 - accuracy: 0.8042 - val_loss: 0.6438 - val_accuracy: 0.8245 - lr: 0.0010 - 96s/epoch - 22ms/step
Epoch 70/100
4378/4378 - 96s - loss: 0.5261 - accuracy: 0.8052 - val_loss: 0.7065 - val_accuracy: 0.8114 - lr: 0.0010 - 96s/epoch - 22ms/step
Epoch 71/100
4378/4378 - 94s - loss: 0.5231 - accuracy: 0.8064 - val_loss: 0.8191 - val_accuracy: 0.7400 - lr: 0.0010 - 94s/epoch - 22ms/step
Epoch 72/100
4378/4378 - 96s - loss: 0.5266 - accuracy: 0.8049 - val_loss: 0.6651 - val_accuracy: 0.7983 - lr: 0.0010 - 96s/epoch - 22ms/step
Epoch 73/100
4378/4378 - 93s - loss: 0.5242 - accuracy: 0.8062 - val_loss: 0.6657 - val_accuracy: 0.8240 - lr: 0.0010 - 93s/epoch - 21ms/step
Epoch 74/100
4378/4378 - 95s - loss: 0.5231 - accuracy: 0.8059 - val_loss: 0.6816 - val_accuracy: 0.7702 - lr: 0.0010 - 95s/epoch - 22ms/step
Epoch 75/100
4378/4378 - 94s - loss: 0.5191 - accuracy: 0.8076 - val_loss: 0.7578 - val_accuracy: 0.7504 - lr: 0.0010 - 94s/epoch - 21ms/step
Epoch 76/100
4378/4378 - 90s - loss: 0.5228 - accuracy: 0.8069 - val_loss: 0.7881 - val_accuracy: 0.7754 - lr: 0.0010 - 90s/epoch - 21ms/step
Epoch 77/100
4378/4378 - 96s - loss: 0.5242 - accuracy: 0.8056 - val_loss: 0.7448 - val_accuracy: 0.7768 - lr: 0.0010 - 96s/epoch - 22ms/step
Epoch 78/100
4378/4378 - 93s - loss: 0.5222 - accuracy: 0.8073 - val_loss: 0.8205 - val_accuracy: 0.7284 - lr: 0.0010 - 93s/epoch - 21ms/step
Epoch 79/100
4378/4378 - 92s - loss: 0.5221 - accuracy: 0.8068 - val_loss: 0.7627 - val_accuracy: 0.7858 - lr: 0.0010 - 92s/epoch - 21ms/step
Epoch 80/100
4378/4378 - 94s - loss: 0.5245 - accuracy: 0.8058 - val_loss: 0.7391 - val_accuracy: 0.7629 - lr: 0.0010 - 94s/epoch - 21ms/step
Epoch 81/100
4378/4378 - 103s - loss: 0.5268 - accuracy: 0.8043 - val_loss: 0.7548 - val_accuracy: 0.7634 - lr: 0.0010 - 103s/epoch - 23ms/step
Epoch 82/100
4378/4378 - 93s - loss: 0.5220 - accuracy: 0.8065 - val_loss: 0.8394 - val_accuracy: 0.7495 - lr: 0.0010 - 93s/epoch - 21ms/step
Epoch 83/100
4378/4378 - 96s - loss: 0.5212 - accuracy: 0.8081 - val_loss: 0.8113 - val_accuracy: 0.7220 - lr: 0.0010 - 96s/epoch - 22ms/step
Epoch 84/100
4378/4378 - 81s - loss: 0.5232 - accuracy: 0.8051 - val_loss: 0.7675 - val_accuracy: 0.7637 - lr: 0.0010 - 81s/epoch - 19ms/step
Epoch 85/100
4378/4378 - 81s - loss: 0.5233 - accuracy: 0.8049 - val_loss: 0.8014 - val_accuracy: 0.7589 - lr: 0.0010 - 81s/epoch - 19ms/step
Epoch 86/100
4378/4378 - 81s - loss: 0.5198 - accuracy: 0.8070 - val_loss: 0.6415 - val_accuracy: 0.8070 - lr: 0.0010 - 81s/epoch - 19ms/step
Epoch 87/100
4378/4378 - 81s - loss: 0.5212 - accuracy: 0.8061 - val_loss: 0.6778 - val_accuracy: 0.8171 - lr: 0.0010 - 81s/epoch - 18ms/step
Epoch 88/100
4378/4378 - 80s - loss: 0.5262 - accuracy: 0.8054 - val_loss: 0.8298 - val_accuracy: 0.7442 - lr: 0.0010 - 80s/epoch - 18ms/step
Epoch 89/100
4378/4378 - 81s - loss: 0.5227 - accuracy: 0.8067 - val_loss: 0.6657 - val_accuracy: 0.8152 - lr: 0.0010 - 81s/epoch - 18ms/step
Epoch 90/100
4378/4378 - 81s - loss: 0.5182 - accuracy: 0.8084 - val_loss: 0.7987 - val_accuracy: 0.7886 - lr: 0.0010 - 81s/epoch - 18ms/step
Epoch 91/100
4378/4378 - 80s - loss: 0.5207 - accuracy: 0.8076 - val_loss: 0.7812 - val_accuracy: 0.7419 - lr: 0.0010 - 80s/epoch - 18ms/step
Epoch 92/100
4378/4378 - 81s - loss: 0.5186 - accuracy: 0.8071 - val_loss: 0.7335 - val_accuracy: 0.8136 - lr: 0.0010 - 81s/epoch - 18ms/step
Epoch 93/100
4378/4378 - 80s - loss: 0.5181 - accuracy: 0.8077 - val_loss: 0.7663 - val_accuracy: 0.7725 - lr: 0.0010 - 80s/epoch - 18ms/step
Epoch 94/100
4378/4378 - 81s - loss: 0.5186 - accuracy: 0.8057 - val_loss: 0.7277 - val_accuracy: 0.8216 - lr: 0.0010 - 81s/epoch - 18ms/step
Epoch 95/100
4378/4378 - 81s - loss: 0.5196 - accuracy: 0.8072 - val_loss: 0.7431 - val_accuracy: 0.7843 - lr: 0.0010 - 81s/epoch - 19ms/step
Epoch 96/100
4378/4378 - 81s - loss: 0.5205 - accuracy: 0.8083 - val_loss: 0.7088 - val_accuracy: 0.7691 - lr: 0.0010 - 81s/epoch - 18ms/step
Epoch 97/100
4378/4378 - 81s - loss: 0.5181 - accuracy: 0.8080 - val_loss: 0.7420 - val_accuracy: 0.7863 - lr: 0.0010 - 81s/epoch - 18ms/step
Epoch 98/100
4378/4378 - 81s - loss: 0.5138 - accuracy: 0.8096 - val_loss: 0.7296 - val_accuracy: 0.7511 - lr: 0.0010 - 81s/epoch - 19ms/step
Epoch 99/100
4378/4378 - 81s - loss: 0.5146 - accuracy: 0.8097 - val_loss: 0.7119 - val_accuracy: 0.7976 - lr: 0.0010 - 81s/epoch - 19ms/step
Epoch 100/100
4378/4378 - 81s - loss: 0.5186 - accuracy: 0.8082 - val_loss: 0.8491 - val_accuracy: 0.7168 - lr: 0.0010 - 81s/epoch - 18ms/step
fitting with batch size: 100
Epoch 1/100
876/876 - 23s - loss: 0.4475 - accuracy: 0.8321 - val_loss: 0.7035 - val_accuracy: 0.8031 - lr: 0.0010 - 23s/epoch - 26ms/step
Epoch 2/100
876/876 - 18s - loss: 0.4303 - accuracy: 0.8384 - val_loss: 0.7859 - val_accuracy: 0.7625 - lr: 0.0010 - 18s/epoch - 20ms/step
Epoch 3/100
876/876 - 18s - loss: 0.4153 - accuracy: 0.8446 - val_loss: 0.7181 - val_accuracy: 0.7812 - lr: 0.0010 - 18s/epoch - 20ms/step
Epoch 4/100
876/876 - 18s - loss: 0.4146 - accuracy: 0.8444 - val_loss: 0.7946 - val_accuracy: 0.7428 - lr: 0.0010 - 18s/epoch - 20ms/step
Epoch 5/100
876/876 - 18s - loss: 0.4066 - accuracy: 0.8472 - val_loss: 0.7515 - val_accuracy: 0.7655 - lr: 0.0010 - 18s/epoch - 20ms/step
Epoch 6/100
876/876 - 18s - loss: 0.4057 - accuracy: 0.8465 - val_loss: 0.7982 - val_accuracy: 0.7557 - lr: 0.0010 - 18s/epoch - 20ms/step
Epoch 7/100
876/876 - 17s - loss: 0.4039 - accuracy: 0.8483 - val_loss: 0.7682 - val_accuracy: 0.7725 - lr: 0.0010 - 17s/epoch - 20ms/step
Epoch 8/100
876/876 - 17s - loss: 0.4038 - accuracy: 0.8482 - val_loss: 0.7675 - val_accuracy: 0.7504 - lr: 0.0010 - 17s/epoch - 20ms/step
Epoch 9/100
876/876 - 17s - loss: 0.3968 - accuracy: 0.8499 - val_loss: 0.7127 - val_accuracy: 0.7685 - lr: 0.0010 - 17s/epoch - 20ms/step
Epoch 10/100
876/876 - 17s - loss: 0.3936 - accuracy: 0.8504 - val_loss: 0.7584 - val_accuracy: 0.7661 - lr: 0.0010 - 17s/epoch - 20ms/step
Epoch 11/100
876/876 - 18s - loss: 0.3937 - accuracy: 0.8513 - val_loss: 0.7165 - val_accuracy: 0.7835 - lr: 0.0010 - 18s/epoch - 20ms/step
Epoch 12/100
876/876 - 17s - loss: 0.3896 - accuracy: 0.8526 - val_loss: 0.7440 - val_accuracy: 0.7898 - lr: 0.0010 - 17s/epoch - 20ms/step
Epoch 13/100
876/876 - 17s - loss: 0.3851 - accuracy: 0.8551 - val_loss: 0.7915 - val_accuracy: 0.7730 - lr: 0.0010 - 17s/epoch - 20ms/step
Epoch 14/100
876/876 - 17s - loss: 0.3830 - accuracy: 0.8564 - val_loss: 0.7730 - val_accuracy: 0.7852 - lr: 0.0010 - 17s/epoch - 20ms/step
Epoch 15/100
876/876 - 17s - loss: 0.3821 - accuracy: 0.8555 - val_loss: 0.6979 - val_accuracy: 0.7976 - lr: 0.0010 - 17s/epoch - 20ms/step
Epoch 16/100
876/876 - 17s - loss: 0.3786 - accuracy: 0.8568 - val_loss: 0.8030 - val_accuracy: 0.7453 - lr: 0.0010 - 17s/epoch - 20ms/step
Epoch 17/100
876/876 - 17s - loss: 0.3772 - accuracy: 0.8570 - val_loss: 0.7514 - val_accuracy: 0.7787 - lr: 0.0010 - 17s/epoch - 20ms/step
Epoch 18/100
876/876 - 17s - loss: 0.3765 - accuracy: 0.8571 - val_loss: 0.8216 - val_accuracy: 0.7424 - lr: 0.0010 - 17s/epoch - 20ms/step
Epoch 19/100
876/876 - 17s - loss: 0.3752 - accuracy: 0.8573 - val_loss: 0.7715 - val_accuracy: 0.7561 - lr: 0.0010 - 17s/epoch - 20ms/step
Epoch 20/100
876/876 - 17s - loss: 0.3703 - accuracy: 0.8593 - val_loss: 0.7556 - val_accuracy: 0.7688 - lr: 0.0010 - 17s/epoch - 20ms/step
Epoch 21/100
876/876 - 17s - loss: 0.3713 - accuracy: 0.8588 - val_loss: 0.7157 - val_accuracy: 0.7928 - lr: 0.0010 - 17s/epoch - 20ms/step
Epoch 22/100
876/876 - 18s - loss: 0.3689 - accuracy: 0.8602 - val_loss: 0.7925 - val_accuracy: 0.7548 - lr: 0.0010 - 18s/epoch - 20ms/step
Epoch 23/100
876/876 - 18s - loss: 0.3665 - accuracy: 0.8610 - val_loss: 0.7683 - val_accuracy: 0.7605 - lr: 0.0010 - 18s/epoch - 20ms/step
Epoch 24/100
876/876 - 17s - loss: 0.3697 - accuracy: 0.8605 - val_loss: 0.7400 - val_accuracy: 0.7736 - lr: 0.0010 - 17s/epoch - 20ms/step
Epoch 25/100
876/876 - 17s - loss: 0.3679 - accuracy: 0.8610 - val_loss: 0.8234 - val_accuracy: 0.7503 - lr: 0.0010 - 17s/epoch - 20ms/step
Epoch 26/100
876/876 - 18s - loss: 0.3670 - accuracy: 0.8619 - val_loss: 0.8470 - val_accuracy: 0.7425 - lr: 0.0010 - 18s/epoch - 20ms/step
Epoch 27/100
876/876 - 17s - loss: 0.3628 - accuracy: 0.8627 - val_loss: 0.7857 - val_accuracy: 0.7400 - lr: 0.0010 - 17s/epoch - 20ms/step
Epoch 28/100
876/876 - 17s - loss: 0.3620 - accuracy: 0.8627 - val_loss: 0.7767 - val_accuracy: 0.7595 - lr: 0.0010 - 17s/epoch - 20ms/step
Epoch 29/100
876/876 - 17s - loss: 0.3582 - accuracy: 0.8635 - val_loss: 0.7292 - val_accuracy: 0.7822 - lr: 0.0010 - 17s/epoch - 20ms/step
Epoch 30/100
876/876 - 18s - loss: 0.3588 - accuracy: 0.8628 - val_loss: 0.7014 - val_accuracy: 0.7936 - lr: 0.0010 - 18s/epoch - 20ms/step
Epoch 31/100
876/876 - 18s - loss: 0.3564 - accuracy: 0.8650 - val_loss: 0.8152 - val_accuracy: 0.7344 - lr: 0.0010 - 18s/epoch - 20ms/step
Epoch 32/100
876/876 - 17s - loss: 0.3590 - accuracy: 0.8635 - val_loss: 0.6936 - val_accuracy: 0.7835 - lr: 0.0010 - 17s/epoch - 20ms/step
Epoch 33/100
876/876 - 17s - loss: 0.3545 - accuracy: 0.8645 - val_loss: 0.7748 - val_accuracy: 0.7565 - lr: 0.0010 - 17s/epoch - 20ms/step
Epoch 34/100
876/876 - 18s - loss: 0.3548 - accuracy: 0.8655 - val_loss: 0.7577 - val_accuracy: 0.7778 - lr: 0.0010 - 18s/epoch - 20ms/step
Epoch 35/100
876/876 - 18s - loss: 0.3535 - accuracy: 0.8655 - val_loss: 0.7088 - val_accuracy: 0.7909 - lr: 0.0010 - 18s/epoch - 20ms/step
Epoch 36/100
876/876 - 17s - loss: 0.3500 - accuracy: 0.8670 - val_loss: 0.8175 - val_accuracy: 0.7519 - lr: 0.0010 - 17s/epoch - 20ms/step
Epoch 37/100
876/876 - 18s - loss: 0.3466 - accuracy: 0.8689 - val_loss: 0.7911 - val_accuracy: 0.7665 - lr: 0.0010 - 18s/epoch - 20ms/step
Epoch 38/100
876/876 - 17s - loss: 0.3481 - accuracy: 0.8673 - val_loss: 0.7880 - val_accuracy: 0.7559 - lr: 0.0010 - 17s/epoch - 20ms/step
Epoch 39/100
876/876 - 17s - loss: 0.3443 - accuracy: 0.8693 - val_loss: 0.7804 - val_accuracy: 0.7638 - lr: 0.0010 - 17s/epoch - 20ms/step
Epoch 40/100
876/876 - 18s - loss: 0.3451 - accuracy: 0.8680 - val_loss: 0.7334 - val_accuracy: 0.7896 - lr: 0.0010 - 18s/epoch - 20ms/step
Epoch 41/100
876/876 - 20s - loss: 0.3479 - accuracy: 0.8676 - val_loss: 0.8265 - val_accuracy: 0.7469 - lr: 0.0010 - 20s/epoch - 22ms/step
Epoch 42/100
876/876 - 19s - loss: 0.3446 - accuracy: 0.8696 - val_loss: 0.7907 - val_accuracy: 0.7535 - lr: 0.0010 - 19s/epoch - 22ms/step
Epoch 43/100
876/876 - 20s - loss: 0.3442 - accuracy: 0.8679 - val_loss: 0.7822 - val_accuracy: 0.7577 - lr: 0.0010 - 20s/epoch - 23ms/step
Epoch 44/100
876/876 - 20s - loss: 0.3428 - accuracy: 0.8691 - val_loss: 0.7347 - val_accuracy: 0.7944 - lr: 0.0010 - 20s/epoch - 23ms/step
Epoch 45/100
876/876 - 20s - loss: 0.3424 - accuracy: 0.8707 - val_loss: 0.7763 - val_accuracy: 0.7687 - lr: 0.0010 - 20s/epoch - 22ms/step
Epoch 46/100
876/876 - 19s - loss: 0.3386 - accuracy: 0.8711 - val_loss: 0.7309 - val_accuracy: 0.7682 - lr: 0.0010 - 19s/epoch - 22ms/step
Epoch 47/100
876/876 - 20s - loss: 0.3384 - accuracy: 0.8702 - val_loss: 0.7597 - val_accuracy: 0.7611 - lr: 0.0010 - 20s/epoch - 22ms/step
Epoch 48/100
876/876 - 19s - loss: 0.3392 - accuracy: 0.8700 - val_loss: 0.8090 - val_accuracy: 0.7523 - lr: 0.0010 - 19s/epoch - 22ms/step
Epoch 49/100
876/876 - 19s - loss: 0.3378 - accuracy: 0.8710 - val_loss: 0.6937 - val_accuracy: 0.7921 - lr: 0.0010 - 19s/epoch - 22ms/step
Epoch 50/100
876/876 - 20s - loss: 0.3377 - accuracy: 0.8711 - val_loss: 0.6999 - val_accuracy: 0.7995 - lr: 0.0010 - 20s/epoch - 22ms/step
Epoch 51/100
876/876 - 21s - loss: 0.3378 - accuracy: 0.8714 - val_loss: 0.7534 - val_accuracy: 0.7806 - lr: 0.0010 - 21s/epoch - 24ms/step
Epoch 52/100
876/876 - 20s - loss: 0.3354 - accuracy: 0.8722 - val_loss: 0.9136 - val_accuracy: 0.7095 - lr: 0.0010 - 20s/epoch - 23ms/step
Epoch 53/100
876/876 - 20s - loss: 0.3363 - accuracy: 0.8724 - val_loss: 0.8145 - val_accuracy: 0.7434 - lr: 0.0010 - 20s/epoch - 22ms/step
Epoch 54/100
876/876 - 20s - loss: 0.3350 - accuracy: 0.8725 - val_loss: 0.7164 - val_accuracy: 0.7863 - lr: 0.0010 - 20s/epoch - 23ms/step
Epoch 55/100
876/876 - 20s - loss: 0.3312 - accuracy: 0.8729 - val_loss: 0.8073 - val_accuracy: 0.7574 - lr: 0.0010 - 20s/epoch - 23ms/step
Epoch 56/100
876/876 - 21s - loss: 0.3328 - accuracy: 0.8733 - val_loss: 0.8239 - val_accuracy: 0.7395 - lr: 0.0010 - 21s/epoch - 24ms/step
Epoch 57/100
876/876 - 20s - loss: 0.3311 - accuracy: 0.8737 - val_loss: 0.7259 - val_accuracy: 0.7763 - lr: 0.0010 - 20s/epoch - 22ms/step
Epoch 58/100
876/876 - 21s - loss: 0.3286 - accuracy: 0.8742 - val_loss: 0.9898 - val_accuracy: 0.6958 - lr: 0.0010 - 21s/epoch - 24ms/step
Epoch 59/100
876/876 - 21s - loss: 0.3287 - accuracy: 0.8743 - val_loss: 0.8011 - val_accuracy: 0.7579 - lr: 0.0010 - 21s/epoch - 23ms/step
Epoch 60/100
876/876 - 20s - loss: 0.3271 - accuracy: 0.8740 - val_loss: 0.8629 - val_accuracy: 0.7327 - lr: 0.0010 - 20s/epoch - 23ms/step
Epoch 61/100
876/876 - 17s - loss: 0.3298 - accuracy: 0.8742 - val_loss: 0.8425 - val_accuracy: 0.7347 - lr: 0.0010 - 17s/epoch - 19ms/step
Epoch 62/100
876/876 - 17s - loss: 0.3281 - accuracy: 0.8745 - val_loss: 0.7995 - val_accuracy: 0.7592 - lr: 0.0010 - 17s/epoch - 20ms/step
Epoch 63/100
876/876 - 19s - loss: 0.3258 - accuracy: 0.8756 - val_loss: 0.8234 - val_accuracy: 0.7424 - lr: 0.0010 - 19s/epoch - 21ms/step
Epoch 64/100
876/876 - 18s - loss: 0.3282 - accuracy: 0.8753 - val_loss: 0.7623 - val_accuracy: 0.7644 - lr: 0.0010 - 18s/epoch - 20ms/step
Epoch 65/100
876/876 - 17s - loss: 0.3253 - accuracy: 0.8756 - val_loss: 0.8389 - val_accuracy: 0.7451 - lr: 0.0010 - 17s/epoch - 20ms/step
Epoch 66/100
876/876 - 18s - loss: 0.3263 - accuracy: 0.8758 - val_loss: 0.8209 - val_accuracy: 0.7517 - lr: 0.0010 - 18s/epoch - 20ms/step
Epoch 67/100
876/876 - 17s - loss: 0.3233 - accuracy: 0.8759 - val_loss: 0.8546 - val_accuracy: 0.7525 - lr: 0.0010 - 17s/epoch - 20ms/step
Epoch 68/100
876/876 - 19s - loss: 0.3244 - accuracy: 0.8753 - val_loss: 0.8290 - val_accuracy: 0.7484 - lr: 0.0010 - 19s/epoch - 22ms/step
Epoch 69/100
876/876 - 20s - loss: 0.3236 - accuracy: 0.8763 - val_loss: 0.8458 - val_accuracy: 0.7363 - lr: 0.0010 - 20s/epoch - 23ms/step
Epoch 70/100
876/876 - 17s - loss: 0.3218 - accuracy: 0.8774 - val_loss: 0.8480 - val_accuracy: 0.7403 - lr: 0.0010 - 17s/epoch - 20ms/step
Epoch 71/100
876/876 - 18s - loss: 0.3204 - accuracy: 0.8774 - val_loss: 0.8591 - val_accuracy: 0.7430 - lr: 0.0010 - 18s/epoch - 21ms/step
Epoch 72/100
876/876 - 19s - loss: 0.3218 - accuracy: 0.8758 - val_loss: 0.7972 - val_accuracy: 0.7680 - lr: 0.0010 - 19s/epoch - 22ms/step
Epoch 73/100
876/876 - 20s - loss: 0.3188 - accuracy: 0.8786 - val_loss: 0.8865 - val_accuracy: 0.7294 - lr: 0.0010 - 20s/epoch - 23ms/step
Epoch 74/100
876/876 - 18s - loss: 0.3206 - accuracy: 0.8776 - val_loss: 0.8007 - val_accuracy: 0.7521 - lr: 0.0010 - 18s/epoch - 21ms/step
Epoch 75/100
876/876 - 17s - loss: 0.3217 - accuracy: 0.8759 - val_loss: 0.8733 - val_accuracy: 0.7335 - lr: 0.0010 - 17s/epoch - 20ms/step
Epoch 76/100
876/876 - 19s - loss: 0.3183 - accuracy: 0.8785 - val_loss: 0.8898 - val_accuracy: 0.7385 - lr: 0.0010 - 19s/epoch - 22ms/step
Epoch 77/100
876/876 - 19s - loss: 0.3179 - accuracy: 0.8785 - val_loss: 0.7687 - val_accuracy: 0.7618 - lr: 0.0010 - 19s/epoch - 21ms/step
Epoch 78/100
876/876 - 23s - loss: 0.3193 - accuracy: 0.8778 - val_loss: 0.8014 - val_accuracy: 0.7709 - lr: 0.0010 - 23s/epoch - 26ms/step
Epoch 79/100
876/876 - 25s - loss: 0.3164 - accuracy: 0.8793 - val_loss: 0.8764 - val_accuracy: 0.7256 - lr: 0.0010 - 25s/epoch - 29ms/step
Epoch 80/100
876/876 - 18s - loss: 0.3146 - accuracy: 0.8804 - val_loss: 0.8043 - val_accuracy: 0.7622 - lr: 0.0010 - 18s/epoch - 21ms/step
Epoch 81/100
876/876 - 22s - loss: 0.3158 - accuracy: 0.8786 - val_loss: 0.7936 - val_accuracy: 0.7626 - lr: 0.0010 - 22s/epoch - 25ms/step
Epoch 82/100
876/876 - 22s - loss: 0.3151 - accuracy: 0.8795 - val_loss: 0.7587 - val_accuracy: 0.7856 - lr: 0.0010 - 22s/epoch - 25ms/step
Epoch 83/100
876/876 - 17s - loss: 0.3162 - accuracy: 0.8786 - val_loss: 0.7892 - val_accuracy: 0.7720 - lr: 0.0010 - 17s/epoch - 19ms/step
Epoch 84/100
876/876 - 21s - loss: 0.3131 - accuracy: 0.8797 - val_loss: 0.8395 - val_accuracy: 0.7426 - lr: 0.0010 - 21s/epoch - 24ms/step
Epoch 85/100
876/876 - 27s - loss: 0.3125 - accuracy: 0.8803 - val_loss: 0.7976 - val_accuracy: 0.7637 - lr: 0.0010 - 27s/epoch - 30ms/step
Epoch 86/100
876/876 - 24s - loss: 0.3135 - accuracy: 0.8808 - val_loss: 0.7607 - val_accuracy: 0.7775 - lr: 0.0010 - 24s/epoch - 28ms/step
Epoch 87/100
876/876 - 28s - loss: 0.3099 - accuracy: 0.8817 - val_loss: 0.7681 - val_accuracy: 0.7844 - lr: 0.0010 - 28s/epoch - 32ms/step
Epoch 88/100
876/876 - 18s - loss: 0.3113 - accuracy: 0.8806 - val_loss: 0.7721 - val_accuracy: 0.7757 - lr: 0.0010 - 18s/epoch - 21ms/step
Epoch 89/100
876/876 - 18s - loss: 0.3147 - accuracy: 0.8800 - val_loss: 0.7856 - val_accuracy: 0.7694 - lr: 0.0010 - 18s/epoch - 21ms/step
Epoch 90/100
876/876 - 19s - loss: 0.3106 - accuracy: 0.8815 - val_loss: 0.8277 - val_accuracy: 0.7442 - lr: 0.0010 - 19s/epoch - 21ms/step
Epoch 91/100
876/876 - 19s - loss: 0.3118 - accuracy: 0.8814 - val_loss: 0.8016 - val_accuracy: 0.7648 - lr: 0.0010 - 19s/epoch - 22ms/step
Epoch 92/100
876/876 - 23s - loss: 0.3126 - accuracy: 0.8806 - val_loss: 0.7723 - val_accuracy: 0.7665 - lr: 0.0010 - 23s/epoch - 26ms/step
Epoch 93/100
876/876 - 19s - loss: 0.3090 - accuracy: 0.8823 - val_loss: 0.8833 - val_accuracy: 0.7288 - lr: 0.0010 - 19s/epoch - 22ms/step
Epoch 94/100
876/876 - 25s - loss: 0.3100 - accuracy: 0.8819 - val_loss: 0.7964 - val_accuracy: 0.7606 - lr: 0.0010 - 25s/epoch - 28ms/step
Epoch 95/100
876/876 - 22s - loss: 0.3058 - accuracy: 0.8830 - val_loss: 0.8485 - val_accuracy: 0.7372 - lr: 0.0010 - 22s/epoch - 25ms/step
Epoch 96/100
876/876 - 22s - loss: 0.3074 - accuracy: 0.8830 - val_loss: 0.8277 - val_accuracy: 0.7569 - lr: 0.0010 - 22s/epoch - 25ms/step
Epoch 97/100
876/876 - 19s - loss: 0.3019 - accuracy: 0.8851 - val_loss: 0.7575 - val_accuracy: 0.7692 - lr: 0.0010 - 19s/epoch - 22ms/step
Epoch 98/100
876/876 - 19s - loss: 0.3056 - accuracy: 0.8848 - val_loss: 0.7829 - val_accuracy: 0.7702 - lr: 0.0010 - 19s/epoch - 22ms/step
Epoch 99/100
876/876 - 19s - loss: 0.3069 - accuracy: 0.8832 - val_loss: 0.8505 - val_accuracy: 0.7377 - lr: 0.0010 - 19s/epoch - 22ms/step
Epoch 100/100
876/876 - 19s - loss: 0.3046 - accuracy: 0.8831 - val_loss: 0.8521 - val_accuracy: 0.7548 - lr: 0.0010 - 19s/epoch - 22ms/step
fitting with batch size: 500
Epoch 1/100
176/176 - 11s - loss: 0.2570 - accuracy: 0.9007 - val_loss: 0.8724 - val_accuracy: 0.7511 - lr: 0.0010 - 11s/epoch - 65ms/step
Epoch 2/100
176/176 - 9s - loss: 0.2489 - accuracy: 0.9032 - val_loss: 0.9664 - val_accuracy: 0.7287 - lr: 0.0010 - 9s/epoch - 50ms/step
Epoch 3/100
176/176 - 9s - loss: 0.2428 - accuracy: 0.9067 - val_loss: 0.9341 - val_accuracy: 0.7363 - lr: 0.0010 - 9s/epoch - 49ms/step
Epoch 4/100
176/176 - 9s - loss: 0.2408 - accuracy: 0.9068 - val_loss: 0.8990 - val_accuracy: 0.7430 - lr: 0.0010 - 9s/epoch - 51ms/step
Epoch 5/100
176/176 - 9s - loss: 0.2375 - accuracy: 0.9083 - val_loss: 0.9290 - val_accuracy: 0.7391 - lr: 0.0010 - 9s/epoch - 50ms/step
Epoch 6/100
176/176 - 9s - loss: 0.2330 - accuracy: 0.9099 - val_loss: 0.8704 - val_accuracy: 0.7616 - lr: 0.0010 - 9s/epoch - 53ms/step
Epoch 7/100
176/176 - 9s - loss: 0.2301 - accuracy: 0.9109 - val_loss: 0.9431 - val_accuracy: 0.7468 - lr: 0.0010 - 9s/epoch - 50ms/step
Epoch 8/100
176/176 - 9s - loss: 0.2325 - accuracy: 0.9104 - val_loss: 1.0000 - val_accuracy: 0.7317 - lr: 0.0010 - 9s/epoch - 48ms/step
Epoch 9/100
176/176 - 9s - loss: 0.2326 - accuracy: 0.9097 - val_loss: 0.9445 - val_accuracy: 0.7388 - lr: 0.0010 - 9s/epoch - 49ms/step
Epoch 10/100
176/176 - 10s - loss: 0.2296 - accuracy: 0.9106 - val_loss: 0.9168 - val_accuracy: 0.7505 - lr: 0.0010 - 10s/epoch - 56ms/step
Epoch 11/100
176/176 - 10s - loss: 0.2301 - accuracy: 0.9106 - val_loss: 0.9785 - val_accuracy: 0.7308 - lr: 0.0010 - 10s/epoch - 58ms/step
Epoch 12/100
176/176 - 10s - loss: 0.2262 - accuracy: 0.9121 - val_loss: 0.9925 - val_accuracy: 0.7457 - lr: 0.0010 - 10s/epoch - 55ms/step
Epoch 13/100
176/176 - 10s - loss: 0.2247 - accuracy: 0.9129 - val_loss: 1.0398 - val_accuracy: 0.7385 - lr: 0.0010 - 10s/epoch - 56ms/step
Epoch 14/100
176/176 - 11s - loss: 0.2249 - accuracy: 0.9123 - val_loss: 1.0611 - val_accuracy: 0.7286 - lr: 0.0010 - 11s/epoch - 62ms/step
Epoch 15/100
176/176 - 10s - loss: 0.2238 - accuracy: 0.9132 - val_loss: 1.0193 - val_accuracy: 0.7335 - lr: 0.0010 - 10s/epoch - 58ms/step
Epoch 16/100
176/176 - 10s - loss: 0.2186 - accuracy: 0.9154 - val_loss: 1.0453 - val_accuracy: 0.7329 - lr: 0.0010 - 10s/epoch - 59ms/step
Epoch 17/100
176/176 - 11s - loss: 0.2230 - accuracy: 0.9134 - val_loss: 0.9864 - val_accuracy: 0.7423 - lr: 0.0010 - 11s/epoch - 60ms/step
Epoch 18/100
176/176 - 10s - loss: 0.2196 - accuracy: 0.9153 - val_loss: 0.9592 - val_accuracy: 0.7541 - lr: 0.0010 - 10s/epoch - 56ms/step
Epoch 19/100
176/176 - 10s - loss: 0.2215 - accuracy: 0.9144 - val_loss: 0.9621 - val_accuracy: 0.7472 - lr: 0.0010 - 10s/epoch - 56ms/step
Epoch 20/100
176/176 - 9s - loss: 0.2203 - accuracy: 0.9144 - val_loss: 1.0093 - val_accuracy: 0.7415 - lr: 0.0010 - 9s/epoch - 52ms/step
Epoch 21/100
176/176 - 10s - loss: 0.2214 - accuracy: 0.9136 - val_loss: 0.9933 - val_accuracy: 0.7480 - lr: 0.0010 - 10s/epoch - 55ms/step
Epoch 22/100
176/176 - 9s - loss: 0.2205 - accuracy: 0.9138 - val_loss: 0.9456 - val_accuracy: 0.7506 - lr: 0.0010 - 9s/epoch - 54ms/step
Epoch 23/100
176/176 - 9s - loss: 0.2204 - accuracy: 0.9149 - val_loss: 1.0504 - val_accuracy: 0.7330 - lr: 0.0010 - 9s/epoch - 52ms/step
Epoch 24/100
176/176 - 9s - loss: 0.2139 - accuracy: 0.9172 - val_loss: 0.9991 - val_accuracy: 0.7493 - lr: 0.0010 - 9s/epoch - 51ms/step
Epoch 25/100
176/176 - 10s - loss: 0.2187 - accuracy: 0.9146 - val_loss: 1.0970 - val_accuracy: 0.7295 - lr: 0.0010 - 10s/epoch - 58ms/step
Epoch 26/100
176/176 - 10s - loss: 0.2157 - accuracy: 0.9162 - val_loss: 1.0143 - val_accuracy: 0.7473 - lr: 0.0010 - 10s/epoch - 59ms/step
Epoch 27/100
176/176 - 10s - loss: 0.2126 - accuracy: 0.9174 - val_loss: 1.0248 - val_accuracy: 0.7541 - lr: 0.0010 - 10s/epoch - 58ms/step
Epoch 28/100
176/176 - 9s - loss: 0.2143 - accuracy: 0.9169 - val_loss: 1.0007 - val_accuracy: 0.7514 - lr: 0.0010 - 9s/epoch - 51ms/step
Epoch 29/100
176/176 - 10s - loss: 0.2150 - accuracy: 0.9169 - val_loss: 1.0580 - val_accuracy: 0.7460 - lr: 0.0010 - 10s/epoch - 56ms/step
Epoch 30/100
176/176 - 10s - loss: 0.2137 - accuracy: 0.9169 - val_loss: 0.9521 - val_accuracy: 0.7612 - lr: 0.0010 - 10s/epoch - 56ms/step
Epoch 31/100
176/176 - 10s - loss: 0.2176 - accuracy: 0.9157 - val_loss: 1.0386 - val_accuracy: 0.7410 - lr: 0.0010 - 10s/epoch - 56ms/step
Epoch 32/100
176/176 - 11s - loss: 0.2122 - accuracy: 0.9177 - val_loss: 1.0538 - val_accuracy: 0.7407 - lr: 0.0010 - 11s/epoch - 60ms/step
Epoch 33/100
176/176 - 10s - loss: 0.2124 - accuracy: 0.9170 - val_loss: 1.0804 - val_accuracy: 0.7354 - lr: 0.0010 - 10s/epoch - 56ms/step
Epoch 34/100
176/176 - 10s - loss: 0.2130 - accuracy: 0.9174 - val_loss: 1.0339 - val_accuracy: 0.7398 - lr: 0.0010 - 10s/epoch - 56ms/step
Epoch 35/100
176/176 - 10s - loss: 0.2143 - accuracy: 0.9175 - val_loss: 1.1027 - val_accuracy: 0.7162 - lr: 0.0010 - 10s/epoch - 56ms/step
Epoch 36/100
176/176 - 10s - loss: 0.2094 - accuracy: 0.9182 - val_loss: 1.0035 - val_accuracy: 0.7495 - lr: 0.0010 - 10s/epoch - 56ms/step
Epoch 37/100
176/176 - 10s - loss: 0.2049 - accuracy: 0.9204 - val_loss: 1.0619 - val_accuracy: 0.7374 - lr: 0.0010 - 10s/epoch - 56ms/step
Epoch 38/100
176/176 - 10s - loss: 0.2094 - accuracy: 0.9184 - val_loss: 1.0939 - val_accuracy: 0.7342 - lr: 0.0010 - 10s/epoch - 56ms/step
Epoch 39/100
176/176 - 10s - loss: 0.2089 - accuracy: 0.9186 - val_loss: 1.0586 - val_accuracy: 0.7490 - lr: 0.0010 - 10s/epoch - 56ms/step
Epoch 40/100
176/176 - 10s - loss: 0.2063 - accuracy: 0.9200 - val_loss: 1.0268 - val_accuracy: 0.7430 - lr: 0.0010 - 10s/epoch - 56ms/step
Epoch 41/100
176/176 - 10s - loss: 0.2082 - accuracy: 0.9194 - val_loss: 1.0413 - val_accuracy: 0.7461 - lr: 0.0010 - 10s/epoch - 56ms/step
Epoch 42/100
176/176 - 10s - loss: 0.2031 - accuracy: 0.9205 - val_loss: 1.0740 - val_accuracy: 0.7394 - lr: 0.0010 - 10s/epoch - 56ms/step
Epoch 43/100
176/176 - 10s - loss: 0.2097 - accuracy: 0.9192 - val_loss: 1.0070 - val_accuracy: 0.7475 - lr: 0.0010 - 10s/epoch - 56ms/step
Epoch 44/100
176/176 - 10s - loss: 0.2086 - accuracy: 0.9190 - val_loss: 1.0457 - val_accuracy: 0.7390 - lr: 0.0010 - 10s/epoch - 56ms/step
Epoch 45/100
176/176 - 10s - loss: 0.2052 - accuracy: 0.9206 - val_loss: 0.9618 - val_accuracy: 0.7620 - lr: 0.0010 - 10s/epoch - 57ms/step
Epoch 46/100
176/176 - 10s - loss: 0.2039 - accuracy: 0.9206 - val_loss: 1.1065 - val_accuracy: 0.7316 - lr: 0.0010 - 10s/epoch - 56ms/step
Epoch 47/100
176/176 - 10s - loss: 0.2056 - accuracy: 0.9189 - val_loss: 1.1023 - val_accuracy: 0.7393 - lr: 0.0010 - 10s/epoch - 56ms/step
Epoch 48/100
176/176 - 10s - loss: 0.2009 - accuracy: 0.9218 - val_loss: 1.0901 - val_accuracy: 0.7337 - lr: 0.0010 - 10s/epoch - 57ms/step
Epoch 49/100
176/176 - 10s - loss: 0.2041 - accuracy: 0.9205 - val_loss: 1.0750 - val_accuracy: 0.7424 - lr: 0.0010 - 10s/epoch - 56ms/step
Epoch 50/100
176/176 - 10s - loss: 0.2050 - accuracy: 0.9200 - val_loss: 1.1555 - val_accuracy: 0.7246 - lr: 0.0010 - 10s/epoch - 56ms/step
Epoch 51/100
176/176 - 10s - loss: 0.2036 - accuracy: 0.9214 - val_loss: 1.0977 - val_accuracy: 0.7419 - lr: 0.0010 - 10s/epoch - 57ms/step
Epoch 52/100
176/176 - 10s - loss: 0.2031 - accuracy: 0.9213 - val_loss: 1.0159 - val_accuracy: 0.7508 - lr: 0.0010 - 10s/epoch - 59ms/step
Epoch 53/100
176/176 - 10s - loss: 0.2000 - accuracy: 0.9219 - val_loss: 1.1060 - val_accuracy: 0.7359 - lr: 0.0010 - 10s/epoch - 56ms/step
Epoch 54/100
176/176 - 10s - loss: 0.2012 - accuracy: 0.9221 - val_loss: 1.0981 - val_accuracy: 0.7498 - lr: 0.0010 - 10s/epoch - 56ms/step
Epoch 55/100
176/176 - 10s - loss: 0.2033 - accuracy: 0.9205 - val_loss: 1.0694 - val_accuracy: 0.7468 - lr: 0.0010 - 10s/epoch - 56ms/step
Epoch 56/100
176/176 - 10s - loss: 0.2006 - accuracy: 0.9218 - val_loss: 1.1034 - val_accuracy: 0.7377 - lr: 0.0010 - 10s/epoch - 56ms/step
Epoch 57/100
176/176 - 10s - loss: 0.1991 - accuracy: 0.9225 - val_loss: 1.2146 - val_accuracy: 0.7241 - lr: 0.0010 - 10s/epoch - 56ms/step
Epoch 58/100
176/176 - 10s - loss: 0.2020 - accuracy: 0.9206 - val_loss: 1.1610 - val_accuracy: 0.7273 - lr: 0.0010 - 10s/epoch - 56ms/step
Epoch 59/100
176/176 - 10s - loss: 0.1989 - accuracy: 0.9231 - val_loss: 1.2360 - val_accuracy: 0.7207 - lr: 0.0010 - 10s/epoch - 56ms/step
Epoch 60/100
176/176 - 10s - loss: 0.2009 - accuracy: 0.9216 - val_loss: 1.1345 - val_accuracy: 0.7425 - lr: 0.0010 - 10s/epoch - 56ms/step
Epoch 61/100
176/176 - 9s - loss: 0.1996 - accuracy: 0.9217 - val_loss: 1.1680 - val_accuracy: 0.7340 - lr: 0.0010 - 9s/epoch - 53ms/step
Epoch 62/100
176/176 - 9s - loss: 0.1977 - accuracy: 0.9224 - val_loss: 1.1508 - val_accuracy: 0.7341 - lr: 0.0010 - 9s/epoch - 52ms/step
Epoch 63/100
176/176 - 9s - loss: 0.2015 - accuracy: 0.9207 - val_loss: 1.0699 - val_accuracy: 0.7480 - lr: 0.0010 - 9s/epoch - 49ms/step
Epoch 64/100
176/176 - 9s - loss: 0.1993 - accuracy: 0.9230 - val_loss: 1.1566 - val_accuracy: 0.7362 - lr: 0.0010 - 9s/epoch - 49ms/step
Epoch 65/100
176/176 - 9s - loss: 0.2014 - accuracy: 0.9219 - val_loss: 1.0785 - val_accuracy: 0.7515 - lr: 0.0010 - 9s/epoch - 49ms/step
Epoch 66/100
176/176 - 9s - loss: 0.1984 - accuracy: 0.9220 - val_loss: 1.2050 - val_accuracy: 0.7247 - lr: 0.0010 - 9s/epoch - 49ms/step
Epoch 67/100
176/176 - 9s - loss: 0.2035 - accuracy: 0.9207 - val_loss: 1.1681 - val_accuracy: 0.7273 - lr: 0.0010 - 9s/epoch - 52ms/step
Epoch 68/100
176/176 - 9s - loss: 0.1984 - accuracy: 0.9227 - val_loss: 1.2373 - val_accuracy: 0.7187 - lr: 0.0010 - 9s/epoch - 49ms/step
Epoch 69/100
176/176 - 9s - loss: 0.1934 - accuracy: 0.9252 - val_loss: 1.1865 - val_accuracy: 0.7273 - lr: 0.0010 - 9s/epoch - 50ms/step
Epoch 70/100
176/176 - 10s - loss: 0.1949 - accuracy: 0.9235 - val_loss: 1.1689 - val_accuracy: 0.7336 - lr: 0.0010 - 10s/epoch - 57ms/step
Epoch 71/100
176/176 - 10s - loss: 0.1984 - accuracy: 0.9221 - val_loss: 1.1544 - val_accuracy: 0.7345 - lr: 0.0010 - 10s/epoch - 56ms/step
Epoch 72/100
176/176 - 10s - loss: 0.1978 - accuracy: 0.9226 - val_loss: 1.2132 - val_accuracy: 0.7259 - lr: 0.0010 - 10s/epoch - 59ms/step
Epoch 73/100
176/176 - 9s - loss: 0.1953 - accuracy: 0.9242 - val_loss: 1.1302 - val_accuracy: 0.7341 - lr: 0.0010 - 9s/epoch - 50ms/step
Epoch 74/100
176/176 - 10s - loss: 0.1958 - accuracy: 0.9228 - val_loss: 1.1606 - val_accuracy: 0.7372 - lr: 0.0010 - 10s/epoch - 55ms/step
Epoch 75/100
176/176 - 9s - loss: 0.1947 - accuracy: 0.9240 - val_loss: 1.1642 - val_accuracy: 0.7402 - lr: 0.0010 - 9s/epoch - 51ms/step
Epoch 76/100
176/176 - 8s - loss: 0.1963 - accuracy: 0.9236 - val_loss: 1.1971 - val_accuracy: 0.7209 - lr: 0.0010 - 8s/epoch - 48ms/step
Epoch 77/100
176/176 - 9s - loss: 0.1930 - accuracy: 0.9243 - val_loss: 1.1319 - val_accuracy: 0.7478 - lr: 0.0010 - 9s/epoch - 49ms/step
Epoch 78/100
176/176 - 9s - loss: 0.1961 - accuracy: 0.9232 - val_loss: 1.1644 - val_accuracy: 0.7385 - lr: 0.0010 - 9s/epoch - 50ms/step
Epoch 79/100
176/176 - 10s - loss: 0.1917 - accuracy: 0.9249 - val_loss: 1.1438 - val_accuracy: 0.7360 - lr: 0.0010 - 10s/epoch - 57ms/step
Epoch 80/100
176/176 - 11s - loss: 0.1952 - accuracy: 0.9239 - val_loss: 1.1436 - val_accuracy: 0.7330 - lr: 0.0010 - 11s/epoch - 65ms/step
Epoch 81/100
176/176 - 10s - loss: 0.1897 - accuracy: 0.9259 - val_loss: 1.1837 - val_accuracy: 0.7304 - lr: 0.0010 - 10s/epoch - 57ms/step
Epoch 82/100
176/176 - 10s - loss: 0.1940 - accuracy: 0.9243 - val_loss: 1.1000 - val_accuracy: 0.7495 - lr: 0.0010 - 10s/epoch - 57ms/step
Epoch 83/100
176/176 - 10s - loss: 0.1947 - accuracy: 0.9233 - val_loss: 1.1926 - val_accuracy: 0.7327 - lr: 0.0010 - 10s/epoch - 55ms/step
Epoch 84/100
176/176 - 11s - loss: 0.1929 - accuracy: 0.9246 - val_loss: 1.2202 - val_accuracy: 0.7323 - lr: 0.0010 - 11s/epoch - 61ms/step
Epoch 85/100
176/176 - 10s - loss: 0.1926 - accuracy: 0.9251 - val_loss: 1.2588 - val_accuracy: 0.7304 - lr: 0.0010 - 10s/epoch - 57ms/step
Epoch 86/100
176/176 - 10s - loss: 0.1921 - accuracy: 0.9246 - val_loss: 1.1951 - val_accuracy: 0.7409 - lr: 0.0010 - 10s/epoch - 57ms/step
Epoch 87/100
176/176 - 10s - loss: 0.1894 - accuracy: 0.9263 - val_loss: 1.1831 - val_accuracy: 0.7363 - lr: 0.0010 - 10s/epoch - 57ms/step
Epoch 88/100
176/176 - 10s - loss: 0.1934 - accuracy: 0.9249 - val_loss: 1.2511 - val_accuracy: 0.7158 - lr: 0.0010 - 10s/epoch - 57ms/step
Epoch 89/100
176/176 - 10s - loss: 0.1924 - accuracy: 0.9245 - val_loss: 1.2205 - val_accuracy: 0.7310 - lr: 0.0010 - 10s/epoch - 56ms/step
Epoch 90/100
176/176 - 10s - loss: 0.1940 - accuracy: 0.9240 - val_loss: 1.1531 - val_accuracy: 0.7378 - lr: 0.0010 - 10s/epoch - 56ms/step
Epoch 91/100
176/176 - 10s - loss: 0.1901 - accuracy: 0.9262 - val_loss: 1.1464 - val_accuracy: 0.7438 - lr: 0.0010 - 10s/epoch - 57ms/step
Epoch 92/100
176/176 - 10s - loss: 0.1926 - accuracy: 0.9244 - val_loss: 1.2022 - val_accuracy: 0.7302 - lr: 0.0010 - 10s/epoch - 57ms/step
Epoch 93/100
176/176 - 10s - loss: 0.1937 - accuracy: 0.9245 - val_loss: 1.2503 - val_accuracy: 0.7313 - lr: 0.0010 - 10s/epoch - 57ms/step
Epoch 94/100
176/176 - 10s - loss: 0.1954 - accuracy: 0.9235 - val_loss: 1.0979 - val_accuracy: 0.7565 - lr: 0.0010 - 10s/epoch - 57ms/step
Epoch 95/100
176/176 - 10s - loss: 0.1897 - accuracy: 0.9263 - val_loss: 1.2525 - val_accuracy: 0.7284 - lr: 0.0010 - 10s/epoch - 56ms/step
Epoch 96/100
176/176 - 10s - loss: 0.1845 - accuracy: 0.9287 - val_loss: 1.2209 - val_accuracy: 0.7307 - lr: 0.0010 - 10s/epoch - 57ms/step
Epoch 97/100
176/176 - 10s - loss: 0.1899 - accuracy: 0.9259 - val_loss: 1.1982 - val_accuracy: 0.7331 - lr: 0.0010 - 10s/epoch - 57ms/step
Epoch 98/100
176/176 - 10s - loss: 0.1891 - accuracy: 0.9261 - val_loss: 1.2238 - val_accuracy: 0.7194 - lr: 0.0010 - 10s/epoch - 57ms/step
Epoch 99/100
176/176 - 10s - loss: 0.1894 - accuracy: 0.9266 - val_loss: 1.2906 - val_accuracy: 0.7152 - lr: 0.0010 - 10s/epoch - 57ms/step
Epoch 100/100
176/176 - 10s - loss: 0.1928 - accuracy: 0.9248 - val_loss: 1.1884 - val_accuracy: 0.7330 - lr: 0.0010 - 10s/epoch - 59ms/step
Loss: binary_crossentropy
Epoch number: 75
fitting with batch size: 20
Epoch 1/75
4378/4378 - 92s - loss: 0.1539 - accuracy: 0.8362 - val_loss: 0.2682 - val_accuracy: 0.7696 - lr: 0.0010 - 92s/epoch - 21ms/step
Epoch 2/75
4378/4378 - 80s - loss: 0.1556 - accuracy: 0.8345 - val_loss: 0.2615 - val_accuracy: 0.7914 - lr: 0.0010 - 80s/epoch - 18ms/step
Epoch 3/75
4378/4378 - 71s - loss: 0.1579 - accuracy: 0.8311 - val_loss: 0.2469 - val_accuracy: 0.7870 - lr: 0.0010 - 71s/epoch - 16ms/step
Epoch 4/75
4378/4378 - 72s - loss: 0.1573 - accuracy: 0.8311 - val_loss: 0.2870 - val_accuracy: 0.7572 - lr: 0.0010 - 72s/epoch - 16ms/step
Epoch 5/75
4378/4378 - 73s - loss: 0.1602 - accuracy: 0.8281 - val_loss: 0.2815 - val_accuracy: 0.7559 - lr: 0.0010 - 73s/epoch - 17ms/step
Epoch 6/75
4378/4378 - 72s - loss: 0.1586 - accuracy: 0.8302 - val_loss: 0.3156 - val_accuracy: 0.7380 - lr: 0.0010 - 72s/epoch - 16ms/step
Epoch 7/75
4378/4378 - 72s - loss: 0.1580 - accuracy: 0.8310 - val_loss: 0.2465 - val_accuracy: 0.7917 - lr: 0.0010 - 72s/epoch - 16ms/step
Epoch 8/75
4378/4378 - 72s - loss: 0.1586 - accuracy: 0.8300 - val_loss: 0.2546 - val_accuracy: 0.7761 - lr: 0.0010 - 72s/epoch - 16ms/step
Epoch 9/75
4378/4378 - 73s - loss: 0.1587 - accuracy: 0.8301 - val_loss: 0.3132 - val_accuracy: 0.7279 - lr: 0.0010 - 73s/epoch - 17ms/step
Epoch 10/75
4378/4378 - 81s - loss: 0.1577 - accuracy: 0.8317 - val_loss: 0.2700 - val_accuracy: 0.7833 - lr: 0.0010 - 81s/epoch - 19ms/step
Epoch 11/75
4378/4378 - 86s - loss: 0.1570 - accuracy: 0.8325 - val_loss: 0.2979 - val_accuracy: 0.7244 - lr: 0.0010 - 86s/epoch - 20ms/step
Epoch 12/75
4378/4378 - 86s - loss: 0.1570 - accuracy: 0.8314 - val_loss: 0.2739 - val_accuracy: 0.7808 - lr: 0.0010 - 86s/epoch - 20ms/step
Epoch 13/75
4378/4378 - 84s - loss: 0.1581 - accuracy: 0.8318 - val_loss: 0.2533 - val_accuracy: 0.7743 - lr: 0.0010 - 84s/epoch - 19ms/step
Epoch 14/75
4378/4378 - 85s - loss: 0.1595 - accuracy: 0.8283 - val_loss: 0.3083 - val_accuracy: 0.7389 - lr: 0.0010 - 85s/epoch - 19ms/step
Epoch 15/75
4378/4378 - 81s - loss: 0.1584 - accuracy: 0.8300 - val_loss: 0.3353 - val_accuracy: 0.7097 - lr: 0.0010 - 81s/epoch - 19ms/step
Epoch 16/75
4378/4378 - 81s - loss: 0.1589 - accuracy: 0.8285 - val_loss: 0.2387 - val_accuracy: 0.8163 - lr: 0.0010 - 81s/epoch - 19ms/step
Epoch 17/75
4378/4378 - 81s - loss: 0.1580 - accuracy: 0.8297 - val_loss: 0.2883 - val_accuracy: 0.7642 - lr: 0.0010 - 81s/epoch - 19ms/step
Epoch 18/75
4378/4378 - 83s - loss: 0.1598 - accuracy: 0.8284 - val_loss: 0.3051 - val_accuracy: 0.7216 - lr: 0.0010 - 83s/epoch - 19ms/step
Epoch 19/75
4378/4378 - 87s - loss: 0.1596 - accuracy: 0.8284 - val_loss: 0.2566 - val_accuracy: 0.8055 - lr: 0.0010 - 87s/epoch - 20ms/step
Epoch 20/75
4378/4378 - 85s - loss: 0.1579 - accuracy: 0.8322 - val_loss: 0.2488 - val_accuracy: 0.8022 - lr: 0.0010 - 85s/epoch - 19ms/step
Epoch 21/75
4378/4378 - 82s - loss: 0.1595 - accuracy: 0.8304 - val_loss: 0.2651 - val_accuracy: 0.7907 - lr: 0.0010 - 82s/epoch - 19ms/step
Epoch 22/75
4378/4378 - 82s - loss: 0.1581 - accuracy: 0.8307 - val_loss: 0.2779 - val_accuracy: 0.7901 - lr: 0.0010 - 82s/epoch - 19ms/step
Epoch 23/75
4378/4378 - 82s - loss: 0.1606 - accuracy: 0.8282 - val_loss: 0.2382 - val_accuracy: 0.8146 - lr: 0.0010 - 82s/epoch - 19ms/step
Epoch 24/75
4378/4378 - 82s - loss: 0.1601 - accuracy: 0.8300 - val_loss: 0.2522 - val_accuracy: 0.7921 - lr: 0.0010 - 82s/epoch - 19ms/step
Epoch 25/75
4378/4378 - 82s - loss: 0.1607 - accuracy: 0.8286 - val_loss: 0.2691 - val_accuracy: 0.7849 - lr: 0.0010 - 82s/epoch - 19ms/step
Epoch 26/75
4378/4378 - 82s - loss: 0.1597 - accuracy: 0.8296 - val_loss: 0.2282 - val_accuracy: 0.8017 - lr: 0.0010 - 82s/epoch - 19ms/step
Epoch 27/75
4378/4378 - 81s - loss: 0.1607 - accuracy: 0.8278 - val_loss: 0.3085 - val_accuracy: 0.7251 - lr: 0.0010 - 81s/epoch - 18ms/step
Epoch 28/75
4378/4378 - 88s - loss: 0.1603 - accuracy: 0.8291 - val_loss: 0.2550 - val_accuracy: 0.8022 - lr: 0.0010 - 88s/epoch - 20ms/step
Epoch 29/75
4378/4378 - 83s - loss: 0.1597 - accuracy: 0.8298 - val_loss: 0.2583 - val_accuracy: 0.7748 - lr: 0.0010 - 83s/epoch - 19ms/step
Epoch 30/75
4378/4378 - 80s - loss: 0.1605 - accuracy: 0.8292 - val_loss: 0.2342 - val_accuracy: 0.8139 - lr: 0.0010 - 80s/epoch - 18ms/step
Epoch 31/75
4378/4378 - 113s - loss: 0.1605 - accuracy: 0.8267 - val_loss: 0.2966 - val_accuracy: 0.7573 - lr: 0.0010 - 113s/epoch - 26ms/step
Epoch 32/75
4378/4378 - 91s - loss: 0.1617 - accuracy: 0.8279 - val_loss: 0.3017 - val_accuracy: 0.7344 - lr: 0.0010 - 91s/epoch - 21ms/step
Epoch 33/75
4378/4378 - 87s - loss: 0.1608 - accuracy: 0.8269 - val_loss: 0.2716 - val_accuracy: 0.7679 - lr: 0.0010 - 87s/epoch - 20ms/step
Epoch 34/75
4378/4378 - 90s - loss: 0.1608 - accuracy: 0.8295 - val_loss: 0.2852 - val_accuracy: 0.7814 - lr: 0.0010 - 90s/epoch - 21ms/step
Epoch 35/75
4378/4378 - 88s - loss: 0.1618 - accuracy: 0.8268 - val_loss: 0.2772 - val_accuracy: 0.7751 - lr: 0.0010 - 88s/epoch - 20ms/step
Epoch 36/75
4378/4378 - 88s - loss: 0.1599 - accuracy: 0.8298 - val_loss: 0.3062 - val_accuracy: 0.7541 - lr: 0.0010 - 88s/epoch - 20ms/step
Epoch 37/75
4378/4378 - 89s - loss: 0.1616 - accuracy: 0.8282 - val_loss: 0.3005 - val_accuracy: 0.7452 - lr: 0.0010 - 89s/epoch - 20ms/step
Epoch 38/75
4378/4378 - 87s - loss: 0.1592 - accuracy: 0.8291 - val_loss: 0.2867 - val_accuracy: 0.7663 - lr: 0.0010 - 87s/epoch - 20ms/step
Epoch 39/75
4378/4378 - 89s - loss: 0.1629 - accuracy: 0.8260 - val_loss: 0.2536 - val_accuracy: 0.7901 - lr: 0.0010 - 89s/epoch - 20ms/step
Epoch 40/75
4378/4378 - 87s - loss: 0.1605 - accuracy: 0.8290 - val_loss: 0.2651 - val_accuracy: 0.7970 - lr: 0.0010 - 87s/epoch - 20ms/step
Epoch 41/75
4378/4378 - 88s - loss: 0.1616 - accuracy: 0.8270 - val_loss: 0.3197 - val_accuracy: 0.7155 - lr: 0.0010 - 88s/epoch - 20ms/step
Epoch 42/75
4378/4378 - 88s - loss: 0.1611 - accuracy: 0.8284 - val_loss: 0.2607 - val_accuracy: 0.8047 - lr: 0.0010 - 88s/epoch - 20ms/step
Epoch 43/75
4378/4378 - 89s - loss: 0.1630 - accuracy: 0.8260 - val_loss: 0.2385 - val_accuracy: 0.8222 - lr: 0.0010 - 89s/epoch - 20ms/step
Epoch 44/75
4378/4378 - 90s - loss: 0.1626 - accuracy: 0.8269 - val_loss: 0.2461 - val_accuracy: 0.7870 - lr: 0.0010 - 90s/epoch - 20ms/step
Epoch 45/75
4378/4378 - 87s - loss: 0.1610 - accuracy: 0.8286 - val_loss: 0.2636 - val_accuracy: 0.7935 - lr: 0.0010 - 87s/epoch - 20ms/step
Epoch 46/75
4378/4378 - 87s - loss: 0.1628 - accuracy: 0.8268 - val_loss: 0.2512 - val_accuracy: 0.8028 - lr: 0.0010 - 87s/epoch - 20ms/step
Epoch 47/75
4378/4378 - 117s - loss: 0.1622 - accuracy: 0.8267 - val_loss: 0.2829 - val_accuracy: 0.7660 - lr: 0.0010 - 117s/epoch - 27ms/step
Epoch 48/75
4378/4378 - 88s - loss: 0.1593 - accuracy: 0.8308 - val_loss: 0.3010 - val_accuracy: 0.7711 - lr: 0.0010 - 88s/epoch - 20ms/step
Epoch 49/75
4378/4378 - 87s - loss: 0.1630 - accuracy: 0.8258 - val_loss: 0.2693 - val_accuracy: 0.7759 - lr: 0.0010 - 87s/epoch - 20ms/step
Epoch 50/75
4378/4378 - 89s - loss: 0.1626 - accuracy: 0.8266 - val_loss: 0.2881 - val_accuracy: 0.7452 - lr: 0.0010 - 89s/epoch - 20ms/step
Epoch 51/75
4378/4378 - 89s - loss: 0.1615 - accuracy: 0.8288 - val_loss: 0.2801 - val_accuracy: 0.7787 - lr: 0.0010 - 89s/epoch - 20ms/step
Epoch 52/75
4378/4378 - 85s - loss: 0.1626 - accuracy: 0.8258 - val_loss: 0.2766 - val_accuracy: 0.7584 - lr: 0.0010 - 85s/epoch - 19ms/step
Epoch 53/75
4378/4378 - 86s - loss: 0.1604 - accuracy: 0.8292 - val_loss: 0.2395 - val_accuracy: 0.8060 - lr: 0.0010 - 86s/epoch - 20ms/step
Epoch 54/75
4378/4378 - 91s - loss: 0.1631 - accuracy: 0.8258 - val_loss: 0.2481 - val_accuracy: 0.8101 - lr: 0.0010 - 91s/epoch - 21ms/step
Epoch 55/75
4378/4378 - 88s - loss: 0.1635 - accuracy: 0.8257 - val_loss: 0.2925 - val_accuracy: 0.7693 - lr: 0.0010 - 88s/epoch - 20ms/step
Epoch 56/75
4378/4378 - 86s - loss: 0.1632 - accuracy: 0.8264 - val_loss: 0.3229 - val_accuracy: 0.7271 - lr: 0.0010 - 86s/epoch - 20ms/step
Epoch 57/75
4378/4378 - 89s - loss: 0.1619 - accuracy: 0.8273 - val_loss: 0.2451 - val_accuracy: 0.8025 - lr: 0.0010 - 89s/epoch - 20ms/step
Epoch 58/75
4378/4378 - 87s - loss: 0.1641 - accuracy: 0.8254 - val_loss: 0.2700 - val_accuracy: 0.7792 - lr: 0.0010 - 87s/epoch - 20ms/step
Epoch 59/75
4378/4378 - 90s - loss: 0.1627 - accuracy: 0.8255 - val_loss: 0.2709 - val_accuracy: 0.7805 - lr: 0.0010 - 90s/epoch - 21ms/step
Epoch 60/75
4378/4378 - 89s - loss: 0.1642 - accuracy: 0.8238 - val_loss: 0.2648 - val_accuracy: 0.7697 - lr: 0.0010 - 89s/epoch - 20ms/step
Epoch 61/75
4378/4378 - 87s - loss: 0.1628 - accuracy: 0.8263 - val_loss: 0.2677 - val_accuracy: 0.8039 - lr: 0.0010 - 87s/epoch - 20ms/step
Epoch 62/75
4378/4378 - 87s - loss: 0.1615 - accuracy: 0.8271 - val_loss: 0.2830 - val_accuracy: 0.7668 - lr: 0.0010 - 87s/epoch - 20ms/step
Epoch 63/75
4378/4378 - 89s - loss: 0.1631 - accuracy: 0.8273 - val_loss: 0.2666 - val_accuracy: 0.7863 - lr: 0.0010 - 89s/epoch - 20ms/step
Epoch 64/75
4378/4378 - 90s - loss: 0.1609 - accuracy: 0.8281 - val_loss: 0.2642 - val_accuracy: 0.7972 - lr: 0.0010 - 90s/epoch - 21ms/step
Epoch 65/75
4378/4378 - 89s - loss: 0.1619 - accuracy: 0.8271 - val_loss: 0.2888 - val_accuracy: 0.7412 - lr: 0.0010 - 89s/epoch - 20ms/step
Epoch 66/75
4378/4378 - 87s - loss: 0.1631 - accuracy: 0.8254 - val_loss: 0.2632 - val_accuracy: 0.7844 - lr: 0.0010 - 87s/epoch - 20ms/step
Epoch 67/75
4378/4378 - 89s - loss: 0.1628 - accuracy: 0.8259 - val_loss: 0.2567 - val_accuracy: 0.7881 - lr: 0.0010 - 89s/epoch - 20ms/step
Epoch 68/75
4378/4378 - 88s - loss: 0.1643 - accuracy: 0.8240 - val_loss: 0.2795 - val_accuracy: 0.7640 - lr: 0.0010 - 88s/epoch - 20ms/step
Epoch 69/75
4378/4378 - 91s - loss: 0.1641 - accuracy: 0.8247 - val_loss: 0.2617 - val_accuracy: 0.8050 - lr: 0.0010 - 91s/epoch - 21ms/step
Epoch 70/75
4378/4378 - 90s - loss: 0.1644 - accuracy: 0.8235 - val_loss: 0.2893 - val_accuracy: 0.7629 - lr: 0.0010 - 90s/epoch - 21ms/step
Epoch 71/75
4378/4378 - 92s - loss: 0.1622 - accuracy: 0.8269 - val_loss: 0.3430 - val_accuracy: 0.6914 - lr: 0.0010 - 92s/epoch - 21ms/step
Epoch 72/75
4378/4378 - 89s - loss: 0.1645 - accuracy: 0.8240 - val_loss: 0.2561 - val_accuracy: 0.7879 - lr: 0.0010 - 89s/epoch - 20ms/step
Epoch 73/75
4378/4378 - 85s - loss: 0.1657 - accuracy: 0.8241 - val_loss: 0.2762 - val_accuracy: 0.7968 - lr: 0.0010 - 85s/epoch - 19ms/step
Epoch 74/75
4378/4378 - 92s - loss: 0.1638 - accuracy: 0.8249 - val_loss: 0.2822 - val_accuracy: 0.7786 - lr: 0.0010 - 92s/epoch - 21ms/step
Epoch 75/75
4378/4378 - 92s - loss: 0.1646 - accuracy: 0.8244 - val_loss: 0.3031 - val_accuracy: 0.7716 - lr: 0.0010 - 92s/epoch - 21ms/step
fitting with batch size: 100
Epoch 1/75
876/876 - 28s - loss: 0.1391 - accuracy: 0.8506 - val_loss: 0.2624 - val_accuracy: 0.7838 - lr: 0.0010 - 28s/epoch - 32ms/step
Epoch 2/75
876/876 - 23s - loss: 0.1329 - accuracy: 0.8559 - val_loss: 0.2632 - val_accuracy: 0.7885 - lr: 0.0010 - 23s/epoch - 26ms/step
Epoch 3/75
876/876 - 24s - loss: 0.1284 - accuracy: 0.8604 - val_loss: 0.2676 - val_accuracy: 0.7946 - lr: 0.0010 - 24s/epoch - 27ms/step
Epoch 4/75
876/876 - 24s - loss: 0.1262 - accuracy: 0.8634 - val_loss: 0.2996 - val_accuracy: 0.7639 - lr: 0.0010 - 24s/epoch - 27ms/step
Epoch 5/75
876/876 - 24s - loss: 0.1247 - accuracy: 0.8640 - val_loss: 0.2884 - val_accuracy: 0.7815 - lr: 0.0010 - 24s/epoch - 27ms/step
Epoch 6/75
876/876 - 24s - loss: 0.1221 - accuracy: 0.8673 - val_loss: 0.2632 - val_accuracy: 0.7928 - lr: 0.0010 - 24s/epoch - 27ms/step
Epoch 7/75
876/876 - 23s - loss: 0.1211 - accuracy: 0.8673 - val_loss: 0.2584 - val_accuracy: 0.7935 - lr: 0.0010 - 23s/epoch - 26ms/step
Epoch 8/75
876/876 - 36s - loss: 0.1208 - accuracy: 0.8681 - val_loss: 0.2817 - val_accuracy: 0.7822 - lr: 0.0010 - 36s/epoch - 41ms/step
Epoch 9/75
876/876 - 23s - loss: 0.1184 - accuracy: 0.8712 - val_loss: 0.2836 - val_accuracy: 0.7741 - lr: 0.0010 - 23s/epoch - 26ms/step
Epoch 10/75
876/876 - 23s - loss: 0.1191 - accuracy: 0.8695 - val_loss: 0.2732 - val_accuracy: 0.7864 - lr: 0.0010 - 23s/epoch - 27ms/step
Epoch 11/75
876/876 - 23s - loss: 0.1169 - accuracy: 0.8716 - val_loss: 0.2728 - val_accuracy: 0.7872 - lr: 0.0010 - 23s/epoch - 26ms/step
Epoch 12/75
876/876 - 24s - loss: 0.1163 - accuracy: 0.8726 - val_loss: 0.2778 - val_accuracy: 0.7937 - lr: 0.0010 - 24s/epoch - 27ms/step
Epoch 13/75
876/876 - 23s - loss: 0.1155 - accuracy: 0.8733 - val_loss: 0.3101 - val_accuracy: 0.7667 - lr: 0.0010 - 23s/epoch - 26ms/step
Epoch 14/75
876/876 - 22s - loss: 0.1137 - accuracy: 0.8757 - val_loss: 0.2623 - val_accuracy: 0.8061 - lr: 0.0010 - 22s/epoch - 26ms/step
Epoch 15/75
876/876 - 24s - loss: 0.1147 - accuracy: 0.8748 - val_loss: 0.3099 - val_accuracy: 0.7671 - lr: 0.0010 - 24s/epoch - 27ms/step
Epoch 16/75
876/876 - 24s - loss: 0.1139 - accuracy: 0.8752 - val_loss: 0.2856 - val_accuracy: 0.7718 - lr: 0.0010 - 24s/epoch - 27ms/step
Epoch 17/75
876/876 - 22s - loss: 0.1138 - accuracy: 0.8748 - val_loss: 0.3343 - val_accuracy: 0.7586 - lr: 0.0010 - 22s/epoch - 25ms/step
Epoch 18/75
876/876 - 23s - loss: 0.1131 - accuracy: 0.8762 - val_loss: 0.3307 - val_accuracy: 0.7602 - lr: 0.0010 - 23s/epoch - 26ms/step
Epoch 19/75
876/876 - 25s - loss: 0.1112 - accuracy: 0.8775 - val_loss: 0.2838 - val_accuracy: 0.7921 - lr: 0.0010 - 25s/epoch - 29ms/step
Epoch 20/75
876/876 - 25s - loss: 0.1125 - accuracy: 0.8762 - val_loss: 0.3034 - val_accuracy: 0.7729 - lr: 0.0010 - 25s/epoch - 29ms/step
Epoch 21/75
876/876 - 25s - loss: 0.1117 - accuracy: 0.8781 - val_loss: 0.2806 - val_accuracy: 0.7836 - lr: 0.0010 - 25s/epoch - 28ms/step
Epoch 22/75
876/876 - 25s - loss: 0.1108 - accuracy: 0.8784 - val_loss: 0.2901 - val_accuracy: 0.7875 - lr: 0.0010 - 25s/epoch - 28ms/step
Epoch 23/75
876/876 - 25s - loss: 0.1114 - accuracy: 0.8773 - val_loss: 0.2814 - val_accuracy: 0.7922 - lr: 0.0010 - 25s/epoch - 28ms/step
Epoch 24/75
876/876 - 24s - loss: 0.1111 - accuracy: 0.8787 - val_loss: 0.2687 - val_accuracy: 0.8084 - lr: 0.0010 - 24s/epoch - 27ms/step
Epoch 25/75
876/876 - 23s - loss: 0.1101 - accuracy: 0.8796 - val_loss: 0.3059 - val_accuracy: 0.7699 - lr: 0.0010 - 23s/epoch - 26ms/step
Epoch 26/75
876/876 - 23s - loss: 0.1108 - accuracy: 0.8792 - val_loss: 0.2854 - val_accuracy: 0.7994 - lr: 0.0010 - 23s/epoch - 26ms/step
Epoch 27/75
876/876 - 25s - loss: 0.1105 - accuracy: 0.8799 - val_loss: 0.3128 - val_accuracy: 0.7711 - lr: 0.0010 - 25s/epoch - 29ms/step
Epoch 28/75
876/876 - 24s - loss: 0.1096 - accuracy: 0.8794 - val_loss: 0.3209 - val_accuracy: 0.7669 - lr: 0.0010 - 24s/epoch - 28ms/step
Epoch 29/75
876/876 - 25s - loss: 0.1090 - accuracy: 0.8808 - val_loss: 0.2926 - val_accuracy: 0.7736 - lr: 0.0010 - 25s/epoch - 29ms/step
Epoch 30/75
876/876 - 25s - loss: 0.1077 - accuracy: 0.8817 - val_loss: 0.2803 - val_accuracy: 0.7912 - lr: 0.0010 - 25s/epoch - 29ms/step
Epoch 31/75
876/876 - 24s - loss: 0.1074 - accuracy: 0.8821 - val_loss: 0.2947 - val_accuracy: 0.7778 - lr: 0.0010 - 24s/epoch - 28ms/step
Epoch 32/75
876/876 - 23s - loss: 0.1077 - accuracy: 0.8822 - val_loss: 0.3096 - val_accuracy: 0.7653 - lr: 0.0010 - 23s/epoch - 27ms/step
Epoch 33/75
876/876 - 23s - loss: 0.1070 - accuracy: 0.8819 - val_loss: 0.2746 - val_accuracy: 0.8107 - lr: 0.0010 - 23s/epoch - 26ms/step
Epoch 34/75
876/876 - 22s - loss: 0.1074 - accuracy: 0.8829 - val_loss: 0.2845 - val_accuracy: 0.7943 - lr: 0.0010 - 22s/epoch - 25ms/step
Epoch 35/75
876/876 - 23s - loss: 0.1074 - accuracy: 0.8826 - val_loss: 0.3045 - val_accuracy: 0.7812 - lr: 0.0010 - 23s/epoch - 26ms/step
Epoch 36/75
876/876 - 23s - loss: 0.1069 - accuracy: 0.8823 - val_loss: 0.2891 - val_accuracy: 0.7826 - lr: 0.0010 - 23s/epoch - 26ms/step
Epoch 37/75
876/876 - 23s - loss: 0.1062 - accuracy: 0.8840 - val_loss: 0.3353 - val_accuracy: 0.7585 - lr: 0.0010 - 23s/epoch - 26ms/step
Epoch 38/75
876/876 - 22s - loss: 0.1055 - accuracy: 0.8849 - val_loss: 0.2885 - val_accuracy: 0.7859 - lr: 0.0010 - 22s/epoch - 26ms/step
Epoch 39/75
876/876 - 23s - loss: 0.1029 - accuracy: 0.8867 - val_loss: 0.2872 - val_accuracy: 0.7911 - lr: 0.0010 - 23s/epoch - 26ms/step
Epoch 40/75
876/876 - 23s - loss: 0.1051 - accuracy: 0.8844 - val_loss: 0.3121 - val_accuracy: 0.7648 - lr: 0.0010 - 23s/epoch - 26ms/step
Epoch 41/75
876/876 - 23s - loss: 0.1055 - accuracy: 0.8847 - val_loss: 0.2933 - val_accuracy: 0.7842 - lr: 0.0010 - 23s/epoch - 26ms/step
Epoch 42/75
876/876 - 23s - loss: 0.1037 - accuracy: 0.8867 - val_loss: 0.2882 - val_accuracy: 0.7812 - lr: 0.0010 - 23s/epoch - 26ms/step
Epoch 43/75
876/876 - 22s - loss: 0.1041 - accuracy: 0.8870 - val_loss: 0.3396 - val_accuracy: 0.7621 - lr: 0.0010 - 22s/epoch - 25ms/step
Epoch 44/75
876/876 - 23s - loss: 0.1042 - accuracy: 0.8862 - val_loss: 0.2938 - val_accuracy: 0.7885 - lr: 0.0010 - 23s/epoch - 26ms/step
Epoch 45/75
876/876 - 22s - loss: 0.1035 - accuracy: 0.8861 - val_loss: 0.3586 - val_accuracy: 0.7421 - lr: 0.0010 - 22s/epoch - 25ms/step
Epoch 46/75
876/876 - 22s - loss: 0.1053 - accuracy: 0.8848 - val_loss: 0.2959 - val_accuracy: 0.7907 - lr: 0.0010 - 22s/epoch - 25ms/step
Epoch 47/75
876/876 - 22s - loss: 0.1044 - accuracy: 0.8864 - val_loss: 0.2803 - val_accuracy: 0.7997 - lr: 0.0010 - 22s/epoch - 26ms/step
Epoch 48/75
876/876 - 22s - loss: 0.1031 - accuracy: 0.8866 - val_loss: 0.3085 - val_accuracy: 0.7573 - lr: 0.0010 - 22s/epoch - 25ms/step
Epoch 49/75
876/876 - 22s - loss: 0.1034 - accuracy: 0.8878 - val_loss: 0.2824 - val_accuracy: 0.8011 - lr: 0.0010 - 22s/epoch - 26ms/step
Epoch 50/75
876/876 - 23s - loss: 0.1024 - accuracy: 0.8881 - val_loss: 0.3355 - val_accuracy: 0.7610 - lr: 0.0010 - 23s/epoch - 26ms/step
Epoch 51/75
876/876 - 22s - loss: 0.1034 - accuracy: 0.8868 - val_loss: 0.3032 - val_accuracy: 0.7752 - lr: 0.0010 - 22s/epoch - 26ms/step
Epoch 52/75
876/876 - 22s - loss: 0.1036 - accuracy: 0.8866 - val_loss: 0.3000 - val_accuracy: 0.7921 - lr: 0.0010 - 22s/epoch - 25ms/step
Epoch 53/75
876/876 - 23s - loss: 0.1041 - accuracy: 0.8860 - val_loss: 0.3143 - val_accuracy: 0.7832 - lr: 0.0010 - 23s/epoch - 26ms/step
Epoch 54/75
876/876 - 22s - loss: 0.1033 - accuracy: 0.8865 - val_loss: 0.3309 - val_accuracy: 0.7587 - lr: 0.0010 - 22s/epoch - 26ms/step
Epoch 55/75
876/876 - 23s - loss: 0.1030 - accuracy: 0.8879 - val_loss: 0.3180 - val_accuracy: 0.7808 - lr: 0.0010 - 23s/epoch - 26ms/step
Epoch 56/75
876/876 - 22s - loss: 0.1015 - accuracy: 0.8887 - val_loss: 0.3294 - val_accuracy: 0.7539 - lr: 0.0010 - 22s/epoch - 25ms/step
Epoch 57/75
876/876 - 22s - loss: 0.1031 - accuracy: 0.8878 - val_loss: 0.2925 - val_accuracy: 0.7870 - lr: 0.0010 - 22s/epoch - 26ms/step
Epoch 58/75
876/876 - 23s - loss: 0.1001 - accuracy: 0.8898 - val_loss: 0.3415 - val_accuracy: 0.7515 - lr: 0.0010 - 23s/epoch - 26ms/step
Epoch 59/75
876/876 - 23s - loss: 0.1025 - accuracy: 0.8892 - val_loss: 0.3122 - val_accuracy: 0.7700 - lr: 0.0010 - 23s/epoch - 26ms/step
Epoch 60/75
876/876 - 22s - loss: 0.0990 - accuracy: 0.8910 - val_loss: 0.3461 - val_accuracy: 0.7556 - lr: 0.0010 - 22s/epoch - 26ms/step
Epoch 61/75
876/876 - 22s - loss: 0.1002 - accuracy: 0.8893 - val_loss: 0.3067 - val_accuracy: 0.7767 - lr: 0.0010 - 22s/epoch - 25ms/step
Epoch 62/75
876/876 - 23s - loss: 0.1011 - accuracy: 0.8909 - val_loss: 0.3838 - val_accuracy: 0.7223 - lr: 0.0010 - 23s/epoch - 26ms/step
Epoch 63/75
876/876 - 23s - loss: 0.0997 - accuracy: 0.8911 - val_loss: 0.3099 - val_accuracy: 0.7722 - lr: 0.0010 - 23s/epoch - 26ms/step
Epoch 64/75
876/876 - 22s - loss: 0.0996 - accuracy: 0.8911 - val_loss: 0.3039 - val_accuracy: 0.7887 - lr: 0.0010 - 22s/epoch - 26ms/step
Epoch 65/75
876/876 - 22s - loss: 0.1007 - accuracy: 0.8906 - val_loss: 0.3220 - val_accuracy: 0.7735 - lr: 0.0010 - 22s/epoch - 25ms/step
Epoch 66/75
876/876 - 22s - loss: 0.0973 - accuracy: 0.8940 - val_loss: 0.3164 - val_accuracy: 0.7701 - lr: 0.0010 - 22s/epoch - 26ms/step
Epoch 67/75
876/876 - 22s - loss: 0.1003 - accuracy: 0.8915 - val_loss: 0.3266 - val_accuracy: 0.7698 - lr: 0.0010 - 22s/epoch - 26ms/step
Epoch 68/75
876/876 - 22s - loss: 0.0998 - accuracy: 0.8917 - val_loss: 0.3321 - val_accuracy: 0.7681 - lr: 0.0010 - 22s/epoch - 25ms/step
Epoch 69/75
876/876 - 22s - loss: 0.1002 - accuracy: 0.8908 - val_loss: 0.3235 - val_accuracy: 0.7704 - lr: 0.0010 - 22s/epoch - 26ms/step
Epoch 70/75
876/876 - 22s - loss: 0.0994 - accuracy: 0.8915 - val_loss: 0.2803 - val_accuracy: 0.7927 - lr: 0.0010 - 22s/epoch - 25ms/step
Epoch 71/75
876/876 - 22s - loss: 0.0985 - accuracy: 0.8915 - val_loss: 0.2851 - val_accuracy: 0.7960 - lr: 0.0010 - 22s/epoch - 25ms/step
Epoch 72/75
876/876 - 22s - loss: 0.0991 - accuracy: 0.8927 - val_loss: 0.3199 - val_accuracy: 0.7734 - lr: 0.0010 - 22s/epoch - 25ms/step
Epoch 73/75
876/876 - 22s - loss: 0.0988 - accuracy: 0.8920 - val_loss: 0.2924 - val_accuracy: 0.7928 - lr: 0.0010 - 22s/epoch - 26ms/step
Epoch 74/75
876/876 - 22s - loss: 0.0989 - accuracy: 0.8924 - val_loss: 0.2920 - val_accuracy: 0.7963 - lr: 0.0010 - 22s/epoch - 25ms/step
Epoch 75/75
876/876 - 22s - loss: 0.0984 - accuracy: 0.8928 - val_loss: 0.3026 - val_accuracy: 0.7842 - lr: 0.0010 - 22s/epoch - 26ms/step
fitting with batch size: 500
Epoch 1/75
176/176 - 19s - loss: 0.0826 - accuracy: 0.9082 - val_loss: 0.3401 - val_accuracy: 0.7730 - lr: 0.0010 - 19s/epoch - 105ms/step
Epoch 2/75
176/176 - 13s - loss: 0.0797 - accuracy: 0.9110 - val_loss: 0.3282 - val_accuracy: 0.7833 - lr: 0.0010 - 13s/epoch - 72ms/step
Epoch 3/75
176/176 - 12s - loss: 0.0786 - accuracy: 0.9132 - val_loss: 0.3999 - val_accuracy: 0.7456 - lr: 0.0010 - 12s/epoch - 70ms/step
Epoch 4/75
176/176 - 13s - loss: 0.0771 - accuracy: 0.9139 - val_loss: 0.3523 - val_accuracy: 0.7720 - lr: 0.0010 - 13s/epoch - 71ms/step
Epoch 5/75
176/176 - 12s - loss: 0.0753 - accuracy: 0.9156 - val_loss: 0.3536 - val_accuracy: 0.7754 - lr: 0.0010 - 12s/epoch - 71ms/step
Epoch 6/75
176/176 - 12s - loss: 0.0746 - accuracy: 0.9164 - val_loss: 0.3753 - val_accuracy: 0.7733 - lr: 0.0010 - 12s/epoch - 70ms/step
Epoch 7/75
176/176 - 13s - loss: 0.0746 - accuracy: 0.9165 - val_loss: 0.3712 - val_accuracy: 0.7698 - lr: 0.0010 - 13s/epoch - 71ms/step
Epoch 8/75
176/176 - 12s - loss: 0.0736 - accuracy: 0.9176 - val_loss: 0.3703 - val_accuracy: 0.7720 - lr: 0.0010 - 12s/epoch - 70ms/step
Epoch 9/75
176/176 - 12s - loss: 0.0754 - accuracy: 0.9155 - val_loss: 0.4060 - val_accuracy: 0.7387 - lr: 0.0010 - 12s/epoch - 71ms/step
Epoch 10/75
176/176 - 13s - loss: 0.0743 - accuracy: 0.9170 - val_loss: 0.3871 - val_accuracy: 0.7544 - lr: 0.0010 - 13s/epoch - 71ms/step
Epoch 11/75
176/176 - 13s - loss: 0.0732 - accuracy: 0.9187 - val_loss: 0.3862 - val_accuracy: 0.7618 - lr: 0.0010 - 13s/epoch - 71ms/step
Epoch 12/75
176/176 - 12s - loss: 0.0742 - accuracy: 0.9169 - val_loss: 0.3943 - val_accuracy: 0.7674 - lr: 0.0010 - 12s/epoch - 71ms/step
Epoch 13/75
176/176 - 13s - loss: 0.0731 - accuracy: 0.9188 - val_loss: 0.3831 - val_accuracy: 0.7671 - lr: 0.0010 - 13s/epoch - 72ms/step
Epoch 14/75
176/176 - 12s - loss: 0.0726 - accuracy: 0.9190 - val_loss: 0.3672 - val_accuracy: 0.7776 - lr: 0.0010 - 12s/epoch - 70ms/step
Epoch 15/75
176/176 - 13s - loss: 0.0726 - accuracy: 0.9187 - val_loss: 0.4057 - val_accuracy: 0.7636 - lr: 0.0010 - 13s/epoch - 71ms/step
Epoch 16/75
176/176 - 12s - loss: 0.0734 - accuracy: 0.9181 - val_loss: 0.3976 - val_accuracy: 0.7632 - lr: 0.0010 - 12s/epoch - 70ms/step
Epoch 17/75
176/176 - 12s - loss: 0.0731 - accuracy: 0.9183 - val_loss: 0.4137 - val_accuracy: 0.7666 - lr: 0.0010 - 12s/epoch - 70ms/step
Epoch 18/75
176/176 - 12s - loss: 0.0732 - accuracy: 0.9192 - val_loss: 0.3689 - val_accuracy: 0.7796 - lr: 0.0010 - 12s/epoch - 71ms/step
Epoch 19/75
176/176 - 12s - loss: 0.0712 - accuracy: 0.9202 - val_loss: 0.4119 - val_accuracy: 0.7627 - lr: 0.0010 - 12s/epoch - 70ms/step
Epoch 20/75
176/176 - 12s - loss: 0.0697 - accuracy: 0.9216 - val_loss: 0.4253 - val_accuracy: 0.7479 - lr: 0.0010 - 12s/epoch - 70ms/step
Epoch 21/75
176/176 - 12s - loss: 0.0694 - accuracy: 0.9224 - val_loss: 0.4002 - val_accuracy: 0.7680 - lr: 0.0010 - 12s/epoch - 71ms/step
Epoch 22/75
176/176 - 12s - loss: 0.0713 - accuracy: 0.9207 - val_loss: 0.4249 - val_accuracy: 0.7570 - lr: 0.0010 - 12s/epoch - 70ms/step
Epoch 23/75
176/176 - 12s - loss: 0.0692 - accuracy: 0.9224 - val_loss: 0.4224 - val_accuracy: 0.7620 - lr: 0.0010 - 12s/epoch - 71ms/step
Epoch 24/75
176/176 - 13s - loss: 0.0724 - accuracy: 0.9195 - val_loss: 0.3657 - val_accuracy: 0.7839 - lr: 0.0010 - 13s/epoch - 71ms/step
Epoch 25/75
176/176 - 12s - loss: 0.0711 - accuracy: 0.9207 - val_loss: 0.4063 - val_accuracy: 0.7681 - lr: 0.0010 - 12s/epoch - 70ms/step
Epoch 26/75
176/176 - 12s - loss: 0.0730 - accuracy: 0.9191 - val_loss: 0.4271 - val_accuracy: 0.7447 - lr: 0.0010 - 12s/epoch - 70ms/step
Epoch 27/75
176/176 - 12s - loss: 0.0702 - accuracy: 0.9215 - val_loss: 0.4060 - val_accuracy: 0.7672 - lr: 0.0010 - 12s/epoch - 71ms/step
Epoch 28/75
176/176 - 12s - loss: 0.0695 - accuracy: 0.9221 - val_loss: 0.4713 - val_accuracy: 0.7401 - lr: 0.0010 - 12s/epoch - 70ms/step
Epoch 29/75
176/176 - 12s - loss: 0.0711 - accuracy: 0.9209 - val_loss: 0.4378 - val_accuracy: 0.7460 - lr: 0.0010 - 12s/epoch - 71ms/step
Epoch 30/75
176/176 - 13s - loss: 0.0695 - accuracy: 0.9228 - val_loss: 0.4289 - val_accuracy: 0.7587 - lr: 0.0010 - 13s/epoch - 71ms/step
Epoch 31/75
176/176 - 13s - loss: 0.0686 - accuracy: 0.9239 - val_loss: 0.4249 - val_accuracy: 0.7629 - lr: 0.0010 - 13s/epoch - 72ms/step
Epoch 32/75
176/176 - 12s - loss: 0.0713 - accuracy: 0.9207 - val_loss: 0.4415 - val_accuracy: 0.7480 - lr: 0.0010 - 12s/epoch - 70ms/step
Epoch 33/75
176/176 - 12s - loss: 0.0693 - accuracy: 0.9240 - val_loss: 0.4214 - val_accuracy: 0.7707 - lr: 0.0010 - 12s/epoch - 71ms/step
Epoch 34/75
176/176 - 13s - loss: 0.0698 - accuracy: 0.9218 - val_loss: 0.4092 - val_accuracy: 0.7571 - lr: 0.0010 - 13s/epoch - 72ms/step
Epoch 35/75
176/176 - 12s - loss: 0.0698 - accuracy: 0.9224 - val_loss: 0.4397 - val_accuracy: 0.7561 - lr: 0.0010 - 12s/epoch - 70ms/step
Epoch 36/75
176/176 - 12s - loss: 0.0685 - accuracy: 0.9236 - val_loss: 0.4367 - val_accuracy: 0.7595 - lr: 0.0010 - 12s/epoch - 70ms/step
Epoch 37/75
176/176 - 12s - loss: 0.0700 - accuracy: 0.9227 - val_loss: 0.4055 - val_accuracy: 0.7616 - lr: 0.0010 - 12s/epoch - 71ms/step
Epoch 38/75
176/176 - 12s - loss: 0.0689 - accuracy: 0.9228 - val_loss: 0.3888 - val_accuracy: 0.7690 - lr: 0.0010 - 12s/epoch - 70ms/step
Epoch 39/75
176/176 - 12s - loss: 0.0694 - accuracy: 0.9220 - val_loss: 0.4120 - val_accuracy: 0.7622 - lr: 0.0010 - 12s/epoch - 70ms/step
Epoch 40/75
176/176 - 12s - loss: 0.0690 - accuracy: 0.9231 - val_loss: 0.4240 - val_accuracy: 0.7595 - lr: 0.0010 - 12s/epoch - 71ms/step
Epoch 41/75
176/176 - 12s - loss: 0.0687 - accuracy: 0.9234 - val_loss: 0.4496 - val_accuracy: 0.7428 - lr: 0.0010 - 12s/epoch - 70ms/step
Epoch 42/75
176/176 - 13s - loss: 0.0684 - accuracy: 0.9234 - val_loss: 0.4561 - val_accuracy: 0.7435 - lr: 0.0010 - 13s/epoch - 72ms/step
Epoch 43/75
176/176 - 12s - loss: 0.0696 - accuracy: 0.9234 - val_loss: 0.4237 - val_accuracy: 0.7582 - lr: 0.0010 - 12s/epoch - 71ms/step
Epoch 44/75
176/176 - 13s - loss: 0.0676 - accuracy: 0.9250 - val_loss: 0.4082 - val_accuracy: 0.7723 - lr: 0.0010 - 13s/epoch - 72ms/step
Epoch 45/75
176/176 - 13s - loss: 0.0676 - accuracy: 0.9248 - val_loss: 0.4248 - val_accuracy: 0.7589 - lr: 0.0010 - 13s/epoch - 72ms/step
Epoch 46/75
176/176 - 13s - loss: 0.0680 - accuracy: 0.9241 - val_loss: 0.4220 - val_accuracy: 0.7620 - lr: 0.0010 - 13s/epoch - 72ms/step
Epoch 47/75
176/176 - 13s - loss: 0.0673 - accuracy: 0.9252 - val_loss: 0.4279 - val_accuracy: 0.7694 - lr: 0.0010 - 13s/epoch - 73ms/step
Epoch 48/75
176/176 - 13s - loss: 0.0679 - accuracy: 0.9246 - val_loss: 0.4136 - val_accuracy: 0.7673 - lr: 0.0010 - 13s/epoch - 73ms/step
Epoch 49/75
176/176 - 13s - loss: 0.0684 - accuracy: 0.9242 - val_loss: 0.4765 - val_accuracy: 0.7439 - lr: 0.0010 - 13s/epoch - 73ms/step
Epoch 50/75
176/176 - 13s - loss: 0.0679 - accuracy: 0.9251 - val_loss: 0.4405 - val_accuracy: 0.7497 - lr: 0.0010 - 13s/epoch - 72ms/step
Epoch 51/75
176/176 - 13s - loss: 0.0671 - accuracy: 0.9261 - val_loss: 0.3936 - val_accuracy: 0.7804 - lr: 0.0010 - 13s/epoch - 73ms/step
Epoch 52/75
176/176 - 13s - loss: 0.0676 - accuracy: 0.9249 - val_loss: 0.4171 - val_accuracy: 0.7648 - lr: 0.0010 - 13s/epoch - 73ms/step
Epoch 53/75
176/176 - 13s - loss: 0.0677 - accuracy: 0.9250 - val_loss: 0.4181 - val_accuracy: 0.7594 - lr: 0.0010 - 13s/epoch - 73ms/step
Epoch 54/75
176/176 - 13s - loss: 0.0681 - accuracy: 0.9253 - val_loss: 0.4041 - val_accuracy: 0.7692 - lr: 0.0010 - 13s/epoch - 72ms/step
Epoch 55/75
176/176 - 13s - loss: 0.0657 - accuracy: 0.9268 - val_loss: 0.4282 - val_accuracy: 0.7611 - lr: 0.0010 - 13s/epoch - 73ms/step
Epoch 56/75
176/176 - 13s - loss: 0.0676 - accuracy: 0.9255 - val_loss: 0.4516 - val_accuracy: 0.7606 - lr: 0.0010 - 13s/epoch - 72ms/step
Epoch 57/75
176/176 - 13s - loss: 0.0674 - accuracy: 0.9254 - val_loss: 0.4246 - val_accuracy: 0.7573 - lr: 0.0010 - 13s/epoch - 72ms/step
Epoch 58/75
176/176 - 13s - loss: 0.0667 - accuracy: 0.9264 - val_loss: 0.4230 - val_accuracy: 0.7736 - lr: 0.0010 - 13s/epoch - 72ms/step
Epoch 59/75
176/176 - 13s - loss: 0.0671 - accuracy: 0.9262 - val_loss: 0.4271 - val_accuracy: 0.7665 - lr: 0.0010 - 13s/epoch - 72ms/step
Epoch 60/75
176/176 - 13s - loss: 0.0676 - accuracy: 0.9250 - val_loss: 0.4047 - val_accuracy: 0.7764 - lr: 0.0010 - 13s/epoch - 72ms/step
Epoch 61/75
176/176 - 13s - loss: 0.0659 - accuracy: 0.9266 - val_loss: 0.4498 - val_accuracy: 0.7585 - lr: 0.0010 - 13s/epoch - 73ms/step
Epoch 62/75
176/176 - 13s - loss: 0.0669 - accuracy: 0.9256 - val_loss: 0.4165 - val_accuracy: 0.7641 - lr: 0.0010 - 13s/epoch - 72ms/step
Epoch 63/75
176/176 - 13s - loss: 0.0663 - accuracy: 0.9267 - val_loss: 0.4137 - val_accuracy: 0.7738 - lr: 0.0010 - 13s/epoch - 73ms/step
Epoch 64/75
176/176 - 12s - loss: 0.0658 - accuracy: 0.9270 - val_loss: 0.4529 - val_accuracy: 0.7595 - lr: 0.0010 - 12s/epoch - 70ms/step
Epoch 65/75
176/176 - 12s - loss: 0.0659 - accuracy: 0.9264 - val_loss: 0.4220 - val_accuracy: 0.7752 - lr: 0.0010 - 12s/epoch - 70ms/step
Epoch 66/75
176/176 - 12s - loss: 0.0648 - accuracy: 0.9287 - val_loss: 0.4289 - val_accuracy: 0.7661 - lr: 0.0010 - 12s/epoch - 70ms/step
Epoch 67/75
176/176 - 12s - loss: 0.0655 - accuracy: 0.9277 - val_loss: 0.4277 - val_accuracy: 0.7672 - lr: 0.0010 - 12s/epoch - 71ms/step
Epoch 68/75
176/176 - 12s - loss: 0.0662 - accuracy: 0.9260 - val_loss: 0.4641 - val_accuracy: 0.7548 - lr: 0.0010 - 12s/epoch - 70ms/step
Epoch 69/75
176/176 - 12s - loss: 0.0655 - accuracy: 0.9273 - val_loss: 0.4343 - val_accuracy: 0.7568 - lr: 0.0010 - 12s/epoch - 69ms/step
Epoch 70/75
176/176 - 12s - loss: 0.0665 - accuracy: 0.9263 - val_loss: 0.4657 - val_accuracy: 0.7485 - lr: 0.0010 - 12s/epoch - 71ms/step
Epoch 71/75
176/176 - 12s - loss: 0.0651 - accuracy: 0.9269 - val_loss: 0.4344 - val_accuracy: 0.7693 - lr: 0.0010 - 12s/epoch - 70ms/step
Epoch 72/75
176/176 - 13s - loss: 0.0646 - accuracy: 0.9285 - val_loss: 0.4528 - val_accuracy: 0.7682 - lr: 0.0010 - 13s/epoch - 71ms/step
Epoch 73/75
176/176 - 12s - loss: 0.0673 - accuracy: 0.9254 - val_loss: 0.4526 - val_accuracy: 0.7623 - lr: 0.0010 - 12s/epoch - 71ms/step
Epoch 74/75
176/176 - 12s - loss: 0.0665 - accuracy: 0.9263 - val_loss: 0.4325 - val_accuracy: 0.7604 - lr: 0.0010 - 12s/epoch - 70ms/step
Epoch 75/75
176/176 - 12s - loss: 0.0663 - accuracy: 0.9271 - val_loss: 0.4622 - val_accuracy: 0.7485 - lr: 0.0010 - 12s/epoch - 70ms/step
Epoch number: 100
fitting with batch size: 20
Epoch 1/100
4378/4378 - 90s - loss: 0.1385 - accuracy: 0.8533 - val_loss: 0.2415 - val_accuracy: 0.8148 - lr: 0.0010 - 90s/epoch - 21ms/step
Epoch 2/100
4378/4378 - 88s - loss: 0.1439 - accuracy: 0.8479 - val_loss: 0.2815 - val_accuracy: 0.7780 - lr: 0.0010 - 88s/epoch - 20ms/step
Epoch 3/100
4378/4378 - 88s - loss: 0.1449 - accuracy: 0.8472 - val_loss: 0.2606 - val_accuracy: 0.7952 - lr: 0.0010 - 88s/epoch - 20ms/step
Epoch 4/100
4378/4378 - 88s - loss: 0.1470 - accuracy: 0.8435 - val_loss: 0.2498 - val_accuracy: 0.7956 - lr: 0.0010 - 88s/epoch - 20ms/step
Epoch 5/100
4378/4378 - 88s - loss: 0.1476 - accuracy: 0.8448 - val_loss: 0.2806 - val_accuracy: 0.7701 - lr: 0.0010 - 88s/epoch - 20ms/step
Epoch 6/100
4378/4378 - 89s - loss: 0.1495 - accuracy: 0.8424 - val_loss: 0.2644 - val_accuracy: 0.7972 - lr: 0.0010 - 89s/epoch - 20ms/step
Epoch 7/100
4378/4378 - 88s - loss: 0.1477 - accuracy: 0.8428 - val_loss: 0.2701 - val_accuracy: 0.7696 - lr: 0.0010 - 88s/epoch - 20ms/step
Epoch 8/100
4378/4378 - 88s - loss: 0.1492 - accuracy: 0.8422 - val_loss: 0.2933 - val_accuracy: 0.7768 - lr: 0.0010 - 88s/epoch - 20ms/step
Epoch 9/100
4378/4378 - 89s - loss: 0.1473 - accuracy: 0.8441 - val_loss: 0.2722 - val_accuracy: 0.7936 - lr: 0.0010 - 89s/epoch - 20ms/step
Epoch 10/100
4378/4378 - 89s - loss: 0.1485 - accuracy: 0.8429 - val_loss: 0.2595 - val_accuracy: 0.8026 - lr: 0.0010 - 89s/epoch - 20ms/step
Epoch 11/100
4378/4378 - 88s - loss: 0.1472 - accuracy: 0.8431 - val_loss: 0.2645 - val_accuracy: 0.8034 - lr: 0.0010 - 88s/epoch - 20ms/step
Epoch 12/100
4378/4378 - 88s - loss: 0.1470 - accuracy: 0.8448 - val_loss: 0.2676 - val_accuracy: 0.7995 - lr: 0.0010 - 88s/epoch - 20ms/step
Epoch 13/100
4378/4378 - 88s - loss: 0.1489 - accuracy: 0.8421 - val_loss: 0.2668 - val_accuracy: 0.8107 - lr: 0.0010 - 88s/epoch - 20ms/step
Epoch 14/100
4378/4378 - 89s - loss: 0.1492 - accuracy: 0.8415 - val_loss: 0.2777 - val_accuracy: 0.7737 - lr: 0.0010 - 89s/epoch - 20ms/step
Epoch 15/100
4378/4378 - 88s - loss: 0.1512 - accuracy: 0.8404 - val_loss: 0.3081 - val_accuracy: 0.7504 - lr: 0.0010 - 88s/epoch - 20ms/step
Epoch 16/100
4378/4378 - 88s - loss: 0.1475 - accuracy: 0.8428 - val_loss: 0.2819 - val_accuracy: 0.7878 - lr: 0.0010 - 88s/epoch - 20ms/step
Epoch 17/100
4378/4378 - 88s - loss: 0.1522 - accuracy: 0.8393 - val_loss: 0.2657 - val_accuracy: 0.7877 - lr: 0.0010 - 88s/epoch - 20ms/step
Epoch 18/100
4378/4378 - 88s - loss: 0.1494 - accuracy: 0.8423 - val_loss: 0.2814 - val_accuracy: 0.7729 - lr: 0.0010 - 88s/epoch - 20ms/step
Epoch 19/100
4378/4378 - 88s - loss: 0.1499 - accuracy: 0.8407 - val_loss: 0.2846 - val_accuracy: 0.7912 - lr: 0.0010 - 88s/epoch - 20ms/step
Epoch 20/100
4378/4378 - 88s - loss: 0.1503 - accuracy: 0.8409 - val_loss: 0.3178 - val_accuracy: 0.7586 - lr: 0.0010 - 88s/epoch - 20ms/step
Epoch 21/100
4378/4378 - 88s - loss: 0.1514 - accuracy: 0.8404 - val_loss: 0.3186 - val_accuracy: 0.7457 - lr: 0.0010 - 88s/epoch - 20ms/step
Epoch 22/100
4378/4378 - 89s - loss: 0.1513 - accuracy: 0.8394 - val_loss: 0.2957 - val_accuracy: 0.7639 - lr: 0.0010 - 89s/epoch - 20ms/step
Epoch 23/100
4378/4378 - 88s - loss: 0.1526 - accuracy: 0.8392 - val_loss: 0.2449 - val_accuracy: 0.8297 - lr: 0.0010 - 88s/epoch - 20ms/step
Epoch 24/100
4378/4378 - 88s - loss: 0.1517 - accuracy: 0.8393 - val_loss: 0.2583 - val_accuracy: 0.8132 - lr: 0.0010 - 88s/epoch - 20ms/step
Epoch 25/100
4378/4378 - 88s - loss: 0.1541 - accuracy: 0.8382 - val_loss: 0.2662 - val_accuracy: 0.8023 - lr: 0.0010 - 88s/epoch - 20ms/step
Epoch 26/100
4378/4378 - 88s - loss: 0.1507 - accuracy: 0.8397 - val_loss: 0.2621 - val_accuracy: 0.8110 - lr: 0.0010 - 88s/epoch - 20ms/step
Epoch 27/100
4378/4378 - 88s - loss: 0.1529 - accuracy: 0.8375 - val_loss: 0.2722 - val_accuracy: 0.7880 - lr: 0.0010 - 88s/epoch - 20ms/step
Epoch 28/100
4378/4378 - 88s - loss: 0.1504 - accuracy: 0.8415 - val_loss: 0.2730 - val_accuracy: 0.7974 - lr: 0.0010 - 88s/epoch - 20ms/step
Epoch 29/100
4378/4378 - 88s - loss: 0.1535 - accuracy: 0.8363 - val_loss: 0.2564 - val_accuracy: 0.8031 - lr: 0.0010 - 88s/epoch - 20ms/step
Epoch 30/100
4378/4378 - 88s - loss: 0.1542 - accuracy: 0.8372 - val_loss: 0.2693 - val_accuracy: 0.7787 - lr: 0.0010 - 88s/epoch - 20ms/step
Epoch 31/100
4378/4378 - 89s - loss: 0.1544 - accuracy: 0.8372 - val_loss: 0.3077 - val_accuracy: 0.7355 - lr: 0.0010 - 89s/epoch - 20ms/step
Epoch 32/100
4378/4378 - 88s - loss: 0.1527 - accuracy: 0.8381 - val_loss: 0.2819 - val_accuracy: 0.7767 - lr: 0.0010 - 88s/epoch - 20ms/step
Epoch 33/100
4378/4378 - 88s - loss: 0.1529 - accuracy: 0.8393 - val_loss: 0.2579 - val_accuracy: 0.8060 - lr: 0.0010 - 88s/epoch - 20ms/step
Epoch 34/100
4378/4378 - 93s - loss: 0.1542 - accuracy: 0.8368 - val_loss: 0.2926 - val_accuracy: 0.7805 - lr: 0.0010 - 93s/epoch - 21ms/step
Epoch 35/100
4378/4378 - 90s - loss: 0.1548 - accuracy: 0.8365 - val_loss: 0.2243 - val_accuracy: 0.8433 - lr: 0.0010 - 90s/epoch - 21ms/step
Epoch 36/100
4378/4378 - 79s - loss: 0.1536 - accuracy: 0.8370 - val_loss: 0.2521 - val_accuracy: 0.7880 - lr: 0.0010 - 79s/epoch - 18ms/step
Epoch 37/100
4378/4378 - 78s - loss: 0.1534 - accuracy: 0.8377 - val_loss: 0.2994 - val_accuracy: 0.7609 - lr: 0.0010 - 78s/epoch - 18ms/step
Epoch 38/100
4378/4378 - 77s - loss: 0.1533 - accuracy: 0.8392 - val_loss: 0.2580 - val_accuracy: 0.8000 - lr: 0.0010 - 77s/epoch - 18ms/step
Epoch 39/100
4378/4378 - 77s - loss: 0.1535 - accuracy: 0.8383 - val_loss: 0.2664 - val_accuracy: 0.7878 - lr: 0.0010 - 77s/epoch - 18ms/step
Epoch 40/100
4378/4378 - 77s - loss: 0.1544 - accuracy: 0.8377 - val_loss: 0.2838 - val_accuracy: 0.7721 - lr: 0.0010 - 77s/epoch - 18ms/step
Epoch 41/100
4378/4378 - 77s - loss: 0.1545 - accuracy: 0.8368 - val_loss: 0.2798 - val_accuracy: 0.7873 - lr: 0.0010 - 77s/epoch - 18ms/step
Epoch 42/100
4378/4378 - 78s - loss: 0.1535 - accuracy: 0.8386 - val_loss: 0.3458 - val_accuracy: 0.7246 - lr: 0.0010 - 78s/epoch - 18ms/step
Epoch 43/100
4378/4378 - 77s - loss: 0.1524 - accuracy: 0.8387 - val_loss: 0.3129 - val_accuracy: 0.7364 - lr: 0.0010 - 77s/epoch - 18ms/step
Epoch 44/100
4378/4378 - 77s - loss: 0.1530 - accuracy: 0.8391 - val_loss: 0.2717 - val_accuracy: 0.7798 - lr: 0.0010 - 77s/epoch - 18ms/step
Epoch 45/100
4378/4378 - 77s - loss: 0.1537 - accuracy: 0.8388 - val_loss: 0.2906 - val_accuracy: 0.7743 - lr: 0.0010 - 77s/epoch - 18ms/step
Epoch 46/100
4378/4378 - 77s - loss: 0.1540 - accuracy: 0.8379 - val_loss: 0.3067 - val_accuracy: 0.7574 - lr: 0.0010 - 77s/epoch - 18ms/step
Epoch 47/100
4378/4378 - 77s - loss: 0.1549 - accuracy: 0.8371 - val_loss: 0.2840 - val_accuracy: 0.7734 - lr: 0.0010 - 77s/epoch - 18ms/step
Epoch 48/100
4378/4378 - 77s - loss: 0.1555 - accuracy: 0.8366 - val_loss: 0.2993 - val_accuracy: 0.7696 - lr: 0.0010 - 77s/epoch - 18ms/step
Epoch 49/100
4378/4378 - 77s - loss: 0.1565 - accuracy: 0.8351 - val_loss: 0.2883 - val_accuracy: 0.7707 - lr: 0.0010 - 77s/epoch - 18ms/step
Epoch 50/100
4378/4378 - 77s - loss: 0.1575 - accuracy: 0.8336 - val_loss: 0.3138 - val_accuracy: 0.7387 - lr: 0.0010 - 77s/epoch - 18ms/step
Epoch 51/100
4378/4378 - 77s - loss: 0.1580 - accuracy: 0.8326 - val_loss: 0.2657 - val_accuracy: 0.8075 - lr: 0.0010 - 77s/epoch - 18ms/step
Epoch 52/100
4378/4378 - 80s - loss: 0.1563 - accuracy: 0.8339 - val_loss: 0.2844 - val_accuracy: 0.7632 - lr: 0.0010 - 80s/epoch - 18ms/step
Epoch 53/100
4378/4378 - 78s - loss: 0.1544 - accuracy: 0.8371 - val_loss: 0.2759 - val_accuracy: 0.7892 - lr: 0.0010 - 78s/epoch - 18ms/step
Epoch 54/100
4378/4378 - 78s - loss: 0.1553 - accuracy: 0.8354 - val_loss: 0.2854 - val_accuracy: 0.7793 - lr: 0.0010 - 78s/epoch - 18ms/step
Epoch 55/100
4378/4378 - 78s - loss: 0.1555 - accuracy: 0.8363 - val_loss: 0.2821 - val_accuracy: 0.7647 - lr: 0.0010 - 78s/epoch - 18ms/step
Epoch 56/100
4378/4378 - 77s - loss: 0.1552 - accuracy: 0.8362 - val_loss: 0.2595 - val_accuracy: 0.8106 - lr: 0.0010 - 77s/epoch - 18ms/step
Epoch 57/100
4378/4378 - 77s - loss: 0.1544 - accuracy: 0.8360 - val_loss: 0.2984 - val_accuracy: 0.7405 - lr: 0.0010 - 77s/epoch - 18ms/step
Epoch 58/100
4378/4378 - 77s - loss: 0.1560 - accuracy: 0.8358 - val_loss: 0.2444 - val_accuracy: 0.8131 - lr: 0.0010 - 77s/epoch - 18ms/step
Epoch 59/100
4378/4378 - 77s - loss: 0.1581 - accuracy: 0.8322 - val_loss: 0.2740 - val_accuracy: 0.7864 - lr: 0.0010 - 77s/epoch - 18ms/step
Epoch 60/100
4378/4378 - 77s - loss: 0.1575 - accuracy: 0.8329 - val_loss: 0.2659 - val_accuracy: 0.7957 - lr: 0.0010 - 77s/epoch - 18ms/step
Epoch 61/100
4378/4378 - 77s - loss: 0.1555 - accuracy: 0.8352 - val_loss: 0.2678 - val_accuracy: 0.8028 - lr: 0.0010 - 77s/epoch - 18ms/step
Epoch 62/100
4378/4378 - 77s - loss: 0.1565 - accuracy: 0.8344 - val_loss: 0.2751 - val_accuracy: 0.7854 - lr: 0.0010 - 77s/epoch - 18ms/step
Epoch 63/100
4378/4378 - 77s - loss: 0.1551 - accuracy: 0.8359 - val_loss: 0.2526 - val_accuracy: 0.8025 - lr: 0.0010 - 77s/epoch - 18ms/step
Epoch 64/100
4378/4378 - 78s - loss: 0.1567 - accuracy: 0.8324 - val_loss: 0.2778 - val_accuracy: 0.7886 - lr: 0.0010 - 78s/epoch - 18ms/step
Epoch 65/100
4378/4378 - 77s - loss: 0.1564 - accuracy: 0.8342 - val_loss: 0.2780 - val_accuracy: 0.7807 - lr: 0.0010 - 77s/epoch - 18ms/step
Epoch 66/100
4378/4378 - 78s - loss: 0.1555 - accuracy: 0.8346 - val_loss: 0.2340 - val_accuracy: 0.8124 - lr: 0.0010 - 78s/epoch - 18ms/step
Epoch 67/100
4378/4378 - 77s - loss: 0.1563 - accuracy: 0.8332 - val_loss: 0.2654 - val_accuracy: 0.7969 - lr: 0.0010 - 77s/epoch - 18ms/step
Epoch 68/100
4378/4378 - 78s - loss: 0.1551 - accuracy: 0.8346 - val_loss: 0.2669 - val_accuracy: 0.7900 - lr: 0.0010 - 78s/epoch - 18ms/step
Epoch 69/100
4378/4378 - 77s - loss: 0.1565 - accuracy: 0.8354 - val_loss: 0.2472 - val_accuracy: 0.8109 - lr: 0.0010 - 77s/epoch - 18ms/step
Epoch 70/100
4378/4378 - 77s - loss: 0.1577 - accuracy: 0.8325 - val_loss: 0.2514 - val_accuracy: 0.8012 - lr: 0.0010 - 77s/epoch - 18ms/step
Epoch 71/100
4378/4378 - 77s - loss: 0.1575 - accuracy: 0.8328 - val_loss: 0.2849 - val_accuracy: 0.7576 - lr: 0.0010 - 77s/epoch - 18ms/step
Epoch 72/100
4378/4378 - 77s - loss: 0.1552 - accuracy: 0.8347 - val_loss: 0.2702 - val_accuracy: 0.7806 - lr: 0.0010 - 77s/epoch - 18ms/step
Epoch 73/100
4378/4378 - 77s - loss: 0.1562 - accuracy: 0.8347 - val_loss: 0.2659 - val_accuracy: 0.7838 - lr: 0.0010 - 77s/epoch - 18ms/step
Epoch 74/100
4378/4378 - 78s - loss: 0.1587 - accuracy: 0.8307 - val_loss: 0.2848 - val_accuracy: 0.7807 - lr: 0.0010 - 78s/epoch - 18ms/step
Epoch 75/100
4378/4378 - 78s - loss: 0.1581 - accuracy: 0.8321 - val_loss: 0.2740 - val_accuracy: 0.8066 - lr: 0.0010 - 78s/epoch - 18ms/step
Epoch 76/100
4378/4378 - 77s - loss: 0.1565 - accuracy: 0.8353 - val_loss: 0.2584 - val_accuracy: 0.7820 - lr: 0.0010 - 77s/epoch - 18ms/step
Epoch 77/100
4378/4378 - 77s - loss: 0.1589 - accuracy: 0.8322 - val_loss: 0.2612 - val_accuracy: 0.7981 - lr: 0.0010 - 77s/epoch - 18ms/step
Epoch 78/100
4378/4378 - 77s - loss: 0.1565 - accuracy: 0.8348 - val_loss: 0.2634 - val_accuracy: 0.7847 - lr: 0.0010 - 77s/epoch - 18ms/step
Epoch 79/100
4378/4378 - 77s - loss: 0.1557 - accuracy: 0.8339 - val_loss: 0.2619 - val_accuracy: 0.7819 - lr: 0.0010 - 77s/epoch - 18ms/step
Epoch 80/100
4378/4378 - 77s - loss: 0.1567 - accuracy: 0.8338 - val_loss: 0.2925 - val_accuracy: 0.7804 - lr: 0.0010 - 77s/epoch - 18ms/step
Epoch 81/100
4378/4378 - 78s - loss: 0.1563 - accuracy: 0.8339 - val_loss: 0.2415 - val_accuracy: 0.8103 - lr: 0.0010 - 78s/epoch - 18ms/step
Epoch 82/100
4378/4378 - 78s - loss: 0.1596 - accuracy: 0.8320 - val_loss: 0.2827 - val_accuracy: 0.7754 - lr: 0.0010 - 78s/epoch - 18ms/step
Epoch 83/100
4378/4378 - 78s - loss: 0.1575 - accuracy: 0.8336 - val_loss: 0.2669 - val_accuracy: 0.7967 - lr: 0.0010 - 78s/epoch - 18ms/step
Epoch 84/100
4378/4378 - 77s - loss: 0.1570 - accuracy: 0.8349 - val_loss: 0.2884 - val_accuracy: 0.7627 - lr: 0.0010 - 77s/epoch - 18ms/step
Epoch 85/100
4378/4378 - 78s - loss: 0.1582 - accuracy: 0.8320 - val_loss: 0.3000 - val_accuracy: 0.7387 - lr: 0.0010 - 78s/epoch - 18ms/step
Epoch 86/100
4378/4378 - 77s - loss: 0.1581 - accuracy: 0.8318 - val_loss: 0.2779 - val_accuracy: 0.7785 - lr: 0.0010 - 77s/epoch - 18ms/step
Epoch 87/100
4378/4378 - 77s - loss: 0.1567 - accuracy: 0.8339 - val_loss: 0.2923 - val_accuracy: 0.7659 - lr: 0.0010 - 77s/epoch - 18ms/step
Epoch 88/100
4378/4378 - 77s - loss: 0.1572 - accuracy: 0.8330 - val_loss: 0.2415 - val_accuracy: 0.8271 - lr: 0.0010 - 77s/epoch - 18ms/step
Epoch 89/100
4378/4378 - 77s - loss: 0.1584 - accuracy: 0.8335 - val_loss: 0.2760 - val_accuracy: 0.8102 - lr: 0.0010 - 77s/epoch - 18ms/step
Epoch 90/100
4378/4378 - 78s - loss: 0.1578 - accuracy: 0.8342 - val_loss: 0.2548 - val_accuracy: 0.8112 - lr: 0.0010 - 78s/epoch - 18ms/step
Epoch 91/100
4378/4378 - 77s - loss: 0.1581 - accuracy: 0.8343 - val_loss: 0.2659 - val_accuracy: 0.8133 - lr: 0.0010 - 77s/epoch - 18ms/step
Epoch 92/100
4378/4378 - 78s - loss: 0.1590 - accuracy: 0.8322 - val_loss: 0.2608 - val_accuracy: 0.8089 - lr: 0.0010 - 78s/epoch - 18ms/step
Epoch 93/100
4378/4378 - 77s - loss: 0.1559 - accuracy: 0.8344 - val_loss: 0.2861 - val_accuracy: 0.7687 - lr: 0.0010 - 77s/epoch - 18ms/step
Epoch 94/100
4378/4378 - 78s - loss: 0.1564 - accuracy: 0.8339 - val_loss: 0.2567 - val_accuracy: 0.8078 - lr: 0.0010 - 78s/epoch - 18ms/step
Epoch 95/100
4378/4378 - 77s - loss: 0.1587 - accuracy: 0.8323 - val_loss: 0.2627 - val_accuracy: 0.8104 - lr: 0.0010 - 77s/epoch - 18ms/step
Epoch 96/100
4378/4378 - 77s - loss: 0.1591 - accuracy: 0.8329 - val_loss: 0.2880 - val_accuracy: 0.7790 - lr: 0.0010 - 77s/epoch - 18ms/step
Epoch 97/100
4378/4378 - 78s - loss: 0.1586 - accuracy: 0.8319 - val_loss: 0.2947 - val_accuracy: 0.7866 - lr: 0.0010 - 78s/epoch - 18ms/step
Epoch 98/100
4378/4378 - 78s - loss: 0.1604 - accuracy: 0.8306 - val_loss: 0.2799 - val_accuracy: 0.8059 - lr: 0.0010 - 78s/epoch - 18ms/step
Epoch 99/100
4378/4378 - 77s - loss: 0.1600 - accuracy: 0.8307 - val_loss: 0.3026 - val_accuracy: 0.7778 - lr: 0.0010 - 77s/epoch - 18ms/step
Epoch 100/100
4378/4378 - 77s - loss: 0.1610 - accuracy: 0.8302 - val_loss: 0.2763 - val_accuracy: 0.8012 - lr: 0.0010 - 77s/epoch - 18ms/step
fitting with batch size: 100
Epoch 1/100
876/876 - 21s - loss: 0.1312 - accuracy: 0.8587 - val_loss: 0.2592 - val_accuracy: 0.8028 - lr: 0.0010 - 21s/epoch - 24ms/step
Epoch 2/100
876/876 - 19s - loss: 0.1249 - accuracy: 0.8654 - val_loss: 0.2745 - val_accuracy: 0.7954 - lr: 0.0010 - 19s/epoch - 22ms/step
Epoch 3/100
876/876 - 22s - loss: 0.1224 - accuracy: 0.8673 - val_loss: 0.3139 - val_accuracy: 0.7613 - lr: 0.0010 - 22s/epoch - 25ms/step
Epoch 4/100
876/876 - 19s - loss: 0.1193 - accuracy: 0.8702 - val_loss: 0.3118 - val_accuracy: 0.7664 - lr: 0.0010 - 19s/epoch - 21ms/step
Epoch 5/100
876/876 - 19s - loss: 0.1188 - accuracy: 0.8724 - val_loss: 0.3121 - val_accuracy: 0.7718 - lr: 0.0010 - 19s/epoch - 22ms/step
Epoch 6/100
876/876 - 19s - loss: 0.1189 - accuracy: 0.8713 - val_loss: 0.2777 - val_accuracy: 0.7949 - lr: 0.0010 - 19s/epoch - 22ms/step
Epoch 7/100
876/876 - 19s - loss: 0.1175 - accuracy: 0.8732 - val_loss: 0.3024 - val_accuracy: 0.7768 - lr: 0.0010 - 19s/epoch - 22ms/step
Epoch 8/100
876/876 - 19s - loss: 0.1139 - accuracy: 0.8761 - val_loss: 0.2806 - val_accuracy: 0.7922 - lr: 0.0010 - 19s/epoch - 22ms/step
Epoch 9/100
876/876 - 19s - loss: 0.1152 - accuracy: 0.8754 - val_loss: 0.3005 - val_accuracy: 0.7768 - lr: 0.0010 - 19s/epoch - 22ms/step
Epoch 10/100
876/876 - 19s - loss: 0.1132 - accuracy: 0.8769 - val_loss: 0.3102 - val_accuracy: 0.7760 - lr: 0.0010 - 19s/epoch - 22ms/step
Epoch 11/100
876/876 - 19s - loss: 0.1127 - accuracy: 0.8774 - val_loss: 0.2744 - val_accuracy: 0.7948 - lr: 0.0010 - 19s/epoch - 22ms/step
Epoch 12/100
876/876 - 19s - loss: 0.1110 - accuracy: 0.8795 - val_loss: 0.3338 - val_accuracy: 0.7384 - lr: 0.0010 - 19s/epoch - 22ms/step
Epoch 13/100
876/876 - 19s - loss: 0.1110 - accuracy: 0.8785 - val_loss: 0.3050 - val_accuracy: 0.7814 - lr: 0.0010 - 19s/epoch - 22ms/step
Epoch 14/100
876/876 - 19s - loss: 0.1109 - accuracy: 0.8798 - val_loss: 0.3079 - val_accuracy: 0.7719 - lr: 0.0010 - 19s/epoch - 22ms/step
Epoch 15/100
876/876 - 19s - loss: 0.1086 - accuracy: 0.8811 - val_loss: 0.3262 - val_accuracy: 0.7577 - lr: 0.0010 - 19s/epoch - 22ms/step
Epoch 16/100
876/876 - 19s - loss: 0.1086 - accuracy: 0.8821 - val_loss: 0.3201 - val_accuracy: 0.7637 - lr: 0.0010 - 19s/epoch - 22ms/step
Epoch 17/100
876/876 - 19s - loss: 0.1090 - accuracy: 0.8818 - val_loss: 0.3384 - val_accuracy: 0.7644 - lr: 0.0010 - 19s/epoch - 22ms/step
Epoch 18/100
876/876 - 19s - loss: 0.1059 - accuracy: 0.8850 - val_loss: 0.2973 - val_accuracy: 0.7801 - lr: 0.0010 - 19s/epoch - 21ms/step
Epoch 19/100
876/876 - 19s - loss: 0.1083 - accuracy: 0.8818 - val_loss: 0.3258 - val_accuracy: 0.7485 - lr: 0.0010 - 19s/epoch - 22ms/step
Epoch 20/100
876/876 - 19s - loss: 0.1085 - accuracy: 0.8826 - val_loss: 0.2983 - val_accuracy: 0.7727 - lr: 0.0010 - 19s/epoch - 22ms/step
Epoch 21/100
876/876 - 19s - loss: 0.1067 - accuracy: 0.8838 - val_loss: 0.2877 - val_accuracy: 0.7924 - lr: 0.0010 - 19s/epoch - 22ms/step
Epoch 22/100
876/876 - 19s - loss: 0.1064 - accuracy: 0.8840 - val_loss: 0.3061 - val_accuracy: 0.7816 - lr: 0.0010 - 19s/epoch - 22ms/step
Epoch 23/100
876/876 - 19s - loss: 0.1081 - accuracy: 0.8833 - val_loss: 0.3022 - val_accuracy: 0.7768 - lr: 0.0010 - 19s/epoch - 22ms/step
Epoch 24/100
876/876 - 19s - loss: 0.1057 - accuracy: 0.8855 - val_loss: 0.3068 - val_accuracy: 0.7813 - lr: 0.0010 - 19s/epoch - 22ms/step
Epoch 25/100
876/876 - 19s - loss: 0.1045 - accuracy: 0.8870 - val_loss: 0.3141 - val_accuracy: 0.7660 - lr: 0.0010 - 19s/epoch - 22ms/step
Epoch 26/100
876/876 - 19s - loss: 0.1033 - accuracy: 0.8874 - val_loss: 0.2958 - val_accuracy: 0.7913 - lr: 0.0010 - 19s/epoch - 22ms/step
Epoch 27/100
876/876 - 19s - loss: 0.1048 - accuracy: 0.8865 - val_loss: 0.3282 - val_accuracy: 0.7581 - lr: 0.0010 - 19s/epoch - 22ms/step
Epoch 28/100
876/876 - 19s - loss: 0.1052 - accuracy: 0.8856 - val_loss: 0.3304 - val_accuracy: 0.7564 - lr: 0.0010 - 19s/epoch - 22ms/step
Epoch 29/100
876/876 - 19s - loss: 0.1048 - accuracy: 0.8870 - val_loss: 0.3147 - val_accuracy: 0.7716 - lr: 0.0010 - 19s/epoch - 22ms/step
Epoch 30/100
876/876 - 19s - loss: 0.1027 - accuracy: 0.8885 - val_loss: 0.3133 - val_accuracy: 0.7799 - lr: 0.0010 - 19s/epoch - 21ms/step
Epoch 31/100
876/876 - 19s - loss: 0.1011 - accuracy: 0.8903 - val_loss: 0.3143 - val_accuracy: 0.7736 - lr: 0.0010 - 19s/epoch - 22ms/step
Epoch 32/100
876/876 - 19s - loss: 0.0988 - accuracy: 0.8923 - val_loss: 0.3422 - val_accuracy: 0.7596 - lr: 0.0010 - 19s/epoch - 22ms/step
Epoch 33/100
876/876 - 19s - loss: 0.1019 - accuracy: 0.8883 - val_loss: 0.3449 - val_accuracy: 0.7653 - lr: 0.0010 - 19s/epoch - 22ms/step
Epoch 34/100
876/876 - 19s - loss: 0.1028 - accuracy: 0.8890 - val_loss: 0.3006 - val_accuracy: 0.7936 - lr: 0.0010 - 19s/epoch - 22ms/step
Epoch 35/100
876/876 - 19s - loss: 0.1046 - accuracy: 0.8876 - val_loss: 0.3020 - val_accuracy: 0.7898 - lr: 0.0010 - 19s/epoch - 22ms/step
Epoch 36/100
876/876 - 19s - loss: 0.1018 - accuracy: 0.8900 - val_loss: 0.3146 - val_accuracy: 0.7734 - lr: 0.0010 - 19s/epoch - 22ms/step
Epoch 37/100
876/876 - 19s - loss: 0.1022 - accuracy: 0.8893 - val_loss: 0.3437 - val_accuracy: 0.7622 - lr: 0.0010 - 19s/epoch - 22ms/step
Epoch 38/100
876/876 - 19s - loss: 0.1005 - accuracy: 0.8906 - val_loss: 0.3211 - val_accuracy: 0.7856 - lr: 0.0010 - 19s/epoch - 22ms/step
Epoch 39/100
876/876 - 19s - loss: 0.1021 - accuracy: 0.8882 - val_loss: 0.3277 - val_accuracy: 0.7583 - lr: 0.0010 - 19s/epoch - 22ms/step
Epoch 40/100
876/876 - 19s - loss: 0.1002 - accuracy: 0.8915 - val_loss: 0.3298 - val_accuracy: 0.7627 - lr: 0.0010 - 19s/epoch - 22ms/step
Epoch 41/100
876/876 - 19s - loss: 0.1012 - accuracy: 0.8902 - val_loss: 0.3364 - val_accuracy: 0.7532 - lr: 0.0010 - 19s/epoch - 22ms/step
Epoch 42/100
876/876 - 19s - loss: 0.1007 - accuracy: 0.8915 - val_loss: 0.3341 - val_accuracy: 0.7605 - lr: 0.0010 - 19s/epoch - 21ms/step
Epoch 43/100
876/876 - 19s - loss: 0.1010 - accuracy: 0.8899 - val_loss: 0.3569 - val_accuracy: 0.7392 - lr: 0.0010 - 19s/epoch - 22ms/step
Epoch 44/100
876/876 - 19s - loss: 0.1005 - accuracy: 0.8903 - val_loss: 0.3324 - val_accuracy: 0.7779 - lr: 0.0010 - 19s/epoch - 22ms/step
Epoch 45/100
876/876 - 19s - loss: 0.1003 - accuracy: 0.8917 - val_loss: 0.3102 - val_accuracy: 0.7761 - lr: 0.0010 - 19s/epoch - 21ms/step
Epoch 46/100
876/876 - 19s - loss: 0.0985 - accuracy: 0.8933 - val_loss: 0.3246 - val_accuracy: 0.7644 - lr: 0.0010 - 19s/epoch - 21ms/step
Epoch 47/100
876/876 - 19s - loss: 0.0990 - accuracy: 0.8925 - val_loss: 0.3175 - val_accuracy: 0.7706 - lr: 0.0010 - 19s/epoch - 22ms/step
Epoch 48/100
876/876 - 19s - loss: 0.0994 - accuracy: 0.8907 - val_loss: 0.3453 - val_accuracy: 0.7528 - lr: 0.0010 - 19s/epoch - 22ms/step
Epoch 49/100
876/876 - 19s - loss: 0.0984 - accuracy: 0.8929 - val_loss: 0.3086 - val_accuracy: 0.7832 - lr: 0.0010 - 19s/epoch - 22ms/step
Epoch 50/100
876/876 - 19s - loss: 0.0993 - accuracy: 0.8922 - val_loss: 0.3558 - val_accuracy: 0.7476 - lr: 0.0010 - 19s/epoch - 21ms/step
Epoch 51/100
876/876 - 19s - loss: 0.0979 - accuracy: 0.8935 - val_loss: 0.3278 - val_accuracy: 0.7663 - lr: 0.0010 - 19s/epoch - 21ms/step
Epoch 52/100
876/876 - 19s - loss: 0.0965 - accuracy: 0.8952 - val_loss: 0.3176 - val_accuracy: 0.7794 - lr: 0.0010 - 19s/epoch - 22ms/step
Epoch 53/100
876/876 - 19s - loss: 0.0983 - accuracy: 0.8933 - val_loss: 0.3637 - val_accuracy: 0.7548 - lr: 0.0010 - 19s/epoch - 22ms/step
Epoch 54/100
876/876 - 19s - loss: 0.0969 - accuracy: 0.8947 - val_loss: 0.2913 - val_accuracy: 0.7979 - lr: 0.0010 - 19s/epoch - 22ms/step
Epoch 55/100
876/876 - 19s - loss: 0.0982 - accuracy: 0.8926 - val_loss: 0.2951 - val_accuracy: 0.7829 - lr: 0.0010 - 19s/epoch - 22ms/step
Epoch 56/100
876/876 - 19s - loss: 0.0937 - accuracy: 0.8975 - val_loss: 0.3538 - val_accuracy: 0.7524 - lr: 0.0010 - 19s/epoch - 22ms/step
Epoch 57/100
876/876 - 19s - loss: 0.0967 - accuracy: 0.8948 - val_loss: 0.3435 - val_accuracy: 0.7641 - lr: 0.0010 - 19s/epoch - 21ms/step
Epoch 58/100
876/876 - 19s - loss: 0.0977 - accuracy: 0.8939 - val_loss: 0.3188 - val_accuracy: 0.7818 - lr: 0.0010 - 19s/epoch - 22ms/step
Epoch 59/100
876/876 - 19s - loss: 0.0947 - accuracy: 0.8965 - val_loss: 0.3235 - val_accuracy: 0.7743 - lr: 0.0010 - 19s/epoch - 21ms/step
Epoch 60/100
876/876 - 19s - loss: 0.0949 - accuracy: 0.8964 - val_loss: 0.3024 - val_accuracy: 0.7868 - lr: 0.0010 - 19s/epoch - 21ms/step
Epoch 61/100
876/876 - 19s - loss: 0.0976 - accuracy: 0.8939 - val_loss: 0.3637 - val_accuracy: 0.7599 - lr: 0.0010 - 19s/epoch - 22ms/step
Epoch 62/100
876/876 - 19s - loss: 0.0966 - accuracy: 0.8952 - val_loss: 0.3452 - val_accuracy: 0.7596 - lr: 0.0010 - 19s/epoch - 22ms/step
Epoch 63/100
876/876 - 19s - loss: 0.0967 - accuracy: 0.8958 - val_loss: 0.3293 - val_accuracy: 0.7664 - lr: 0.0010 - 19s/epoch - 21ms/step
Epoch 64/100
876/876 - 19s - loss: 0.0960 - accuracy: 0.8952 - val_loss: 0.3285 - val_accuracy: 0.7685 - lr: 0.0010 - 19s/epoch - 22ms/step
Epoch 65/100
876/876 - 19s - loss: 0.0964 - accuracy: 0.8950 - val_loss: 0.3340 - val_accuracy: 0.7676 - lr: 0.0010 - 19s/epoch - 21ms/step
Epoch 66/100
876/876 - 19s - loss: 0.0959 - accuracy: 0.8953 - val_loss: 0.3835 - val_accuracy: 0.7370 - lr: 0.0010 - 19s/epoch - 22ms/step
Epoch 67/100
876/876 - 19s - loss: 0.0962 - accuracy: 0.8959 - val_loss: 0.3396 - val_accuracy: 0.7593 - lr: 0.0010 - 19s/epoch - 22ms/step
Epoch 68/100
876/876 - 19s - loss: 0.0961 - accuracy: 0.8958 - val_loss: 0.3462 - val_accuracy: 0.7633 - lr: 0.0010 - 19s/epoch - 22ms/step
Epoch 69/100
876/876 - 19s - loss: 0.0961 - accuracy: 0.8960 - val_loss: 0.3405 - val_accuracy: 0.7728 - lr: 0.0010 - 19s/epoch - 22ms/step
Epoch 70/100
876/876 - 19s - loss: 0.0949 - accuracy: 0.8967 - val_loss: 0.3568 - val_accuracy: 0.7619 - lr: 0.0010 - 19s/epoch - 22ms/step
Epoch 71/100
876/876 - 19s - loss: 0.0967 - accuracy: 0.8951 - val_loss: 0.3441 - val_accuracy: 0.7596 - lr: 0.0010 - 19s/epoch - 22ms/step
Epoch 72/100
876/876 - 19s - loss: 0.0957 - accuracy: 0.8960 - val_loss: 0.2901 - val_accuracy: 0.7981 - lr: 0.0010 - 19s/epoch - 22ms/step
Epoch 73/100
876/876 - 19s - loss: 0.0955 - accuracy: 0.8961 - val_loss: 0.3160 - val_accuracy: 0.7945 - lr: 0.0010 - 19s/epoch - 22ms/step
Epoch 74/100
876/876 - 19s - loss: 0.0965 - accuracy: 0.8954 - val_loss: 0.3179 - val_accuracy: 0.7838 - lr: 0.0010 - 19s/epoch - 22ms/step
Epoch 75/100
876/876 - 19s - loss: 0.0956 - accuracy: 0.8963 - val_loss: 0.3293 - val_accuracy: 0.7838 - lr: 0.0010 - 19s/epoch - 22ms/step
Epoch 76/100
876/876 - 24s - loss: 0.0942 - accuracy: 0.8969 - val_loss: 0.3715 - val_accuracy: 0.7495 - lr: 0.0010 - 24s/epoch - 28ms/step
Epoch 77/100
876/876 - 19s - loss: 0.0937 - accuracy: 0.8984 - val_loss: 0.3272 - val_accuracy: 0.7685 - lr: 0.0010 - 19s/epoch - 22ms/step
Epoch 78/100
876/876 - 19s - loss: 0.0904 - accuracy: 0.9021 - val_loss: 0.3434 - val_accuracy: 0.7585 - lr: 0.0010 - 19s/epoch - 22ms/step
Epoch 79/100
876/876 - 19s - loss: 0.0950 - accuracy: 0.8974 - val_loss: 0.3161 - val_accuracy: 0.7560 - lr: 0.0010 - 19s/epoch - 22ms/step
Epoch 80/100
876/876 - 19s - loss: 0.0952 - accuracy: 0.8969 - val_loss: 0.3565 - val_accuracy: 0.7606 - lr: 0.0010 - 19s/epoch - 22ms/step
Epoch 81/100
876/876 - 19s - loss: 0.0943 - accuracy: 0.8980 - val_loss: 0.3487 - val_accuracy: 0.7591 - lr: 0.0010 - 19s/epoch - 22ms/step
Epoch 82/100
876/876 - 19s - loss: 0.0939 - accuracy: 0.8982 - val_loss: 0.3966 - val_accuracy: 0.7352 - lr: 0.0010 - 19s/epoch - 22ms/step
Epoch 83/100
876/876 - 19s - loss: 0.0940 - accuracy: 0.8977 - val_loss: 0.3175 - val_accuracy: 0.7957 - lr: 0.0010 - 19s/epoch - 22ms/step
Epoch 84/100
876/876 - 19s - loss: 0.0947 - accuracy: 0.8975 - val_loss: 0.3399 - val_accuracy: 0.7643 - lr: 0.0010 - 19s/epoch - 22ms/step
Epoch 85/100
876/876 - 19s - loss: 0.0944 - accuracy: 0.8978 - val_loss: 0.3037 - val_accuracy: 0.7880 - lr: 0.0010 - 19s/epoch - 22ms/step
Epoch 86/100
876/876 - 19s - loss: 0.0931 - accuracy: 0.8990 - val_loss: 0.3493 - val_accuracy: 0.7675 - lr: 0.0010 - 19s/epoch - 21ms/step
Epoch 87/100
876/876 - 19s - loss: 0.0928 - accuracy: 0.8988 - val_loss: 0.3374 - val_accuracy: 0.7776 - lr: 0.0010 - 19s/epoch - 22ms/step
Epoch 88/100
876/876 - 19s - loss: 0.0919 - accuracy: 0.8990 - val_loss: 0.3408 - val_accuracy: 0.7599 - lr: 0.0010 - 19s/epoch - 21ms/step
Epoch 89/100
876/876 - 19s - loss: 0.0939 - accuracy: 0.8980 - val_loss: 0.3552 - val_accuracy: 0.7568 - lr: 0.0010 - 19s/epoch - 22ms/step
Epoch 90/100
876/876 - 19s - loss: 0.0951 - accuracy: 0.8962 - val_loss: 0.3222 - val_accuracy: 0.7783 - lr: 0.0010 - 19s/epoch - 21ms/step
Epoch 91/100
876/876 - 19s - loss: 0.0937 - accuracy: 0.8976 - val_loss: 0.3250 - val_accuracy: 0.7646 - lr: 0.0010 - 19s/epoch - 21ms/step
Epoch 92/100
876/876 - 19s - loss: 0.0936 - accuracy: 0.8987 - val_loss: 0.3384 - val_accuracy: 0.7681 - lr: 0.0010 - 19s/epoch - 22ms/step
Epoch 93/100
876/876 - 19s - loss: 0.0938 - accuracy: 0.8990 - val_loss: 0.3077 - val_accuracy: 0.7878 - lr: 0.0010 - 19s/epoch - 22ms/step
Epoch 94/100
876/876 - 19s - loss: 0.0935 - accuracy: 0.8980 - val_loss: 0.2967 - val_accuracy: 0.7960 - lr: 0.0010 - 19s/epoch - 22ms/step
Epoch 95/100
876/876 - 19s - loss: 0.0920 - accuracy: 0.9008 - val_loss: 0.4199 - val_accuracy: 0.7222 - lr: 0.0010 - 19s/epoch - 22ms/step
Epoch 96/100
876/876 - 19s - loss: 0.0908 - accuracy: 0.9018 - val_loss: 0.3560 - val_accuracy: 0.7623 - lr: 0.0010 - 19s/epoch - 22ms/step
Epoch 97/100
876/876 - 19s - loss: 0.0919 - accuracy: 0.9003 - val_loss: 0.3398 - val_accuracy: 0.7807 - lr: 0.0010 - 19s/epoch - 21ms/step
Epoch 98/100
876/876 - 19s - loss: 0.0926 - accuracy: 0.8993 - val_loss: 0.3694 - val_accuracy: 0.7521 - lr: 0.0010 - 19s/epoch - 22ms/step
Epoch 99/100
876/876 - 19s - loss: 0.0912 - accuracy: 0.9015 - val_loss: 0.3121 - val_accuracy: 0.7783 - lr: 0.0010 - 19s/epoch - 22ms/step
Epoch 100/100
876/876 - 19s - loss: 0.0913 - accuracy: 0.9000 - val_loss: 0.3545 - val_accuracy: 0.7666 - lr: 0.0010 - 19s/epoch - 22ms/step
fitting with batch size: 500
Epoch 1/100
176/176 - 13s - loss: 0.0767 - accuracy: 0.9154 - val_loss: 0.3796 - val_accuracy: 0.7627 - lr: 0.0010 - 13s/epoch - 71ms/step
Epoch 2/100
176/176 - 9s - loss: 0.0716 - accuracy: 0.9205 - val_loss: 0.3883 - val_accuracy: 0.7665 - lr: 0.0010 - 9s/epoch - 54ms/step
Epoch 3/100
176/176 - 9s - loss: 0.0729 - accuracy: 0.9194 - val_loss: 0.4063 - val_accuracy: 0.7603 - lr: 0.0010 - 9s/epoch - 54ms/step
Epoch 4/100
176/176 - 9s - loss: 0.0718 - accuracy: 0.9201 - val_loss: 0.4331 - val_accuracy: 0.7460 - lr: 0.0010 - 9s/epoch - 53ms/step
Epoch 5/100
176/176 - 9s - loss: 0.0710 - accuracy: 0.9207 - val_loss: 0.4029 - val_accuracy: 0.7705 - lr: 0.0010 - 9s/epoch - 54ms/step
Epoch 6/100
176/176 - 9s - loss: 0.0718 - accuracy: 0.9205 - val_loss: 0.4211 - val_accuracy: 0.7508 - lr: 0.0010 - 9s/epoch - 53ms/step
Epoch 7/100
176/176 - 9s - loss: 0.0704 - accuracy: 0.9218 - val_loss: 0.4199 - val_accuracy: 0.7544 - lr: 0.0010 - 9s/epoch - 54ms/step
Epoch 8/100
176/176 - 9s - loss: 0.0710 - accuracy: 0.9216 - val_loss: 0.3948 - val_accuracy: 0.7740 - lr: 0.0010 - 9s/epoch - 54ms/step
Epoch 9/100
176/176 - 9s - loss: 0.0699 - accuracy: 0.9222 - val_loss: 0.4484 - val_accuracy: 0.7490 - lr: 0.0010 - 9s/epoch - 53ms/step
Epoch 10/100
176/176 - 9s - loss: 0.0688 - accuracy: 0.9230 - val_loss: 0.4092 - val_accuracy: 0.7628 - lr: 0.0010 - 9s/epoch - 54ms/step
Epoch 11/100
176/176 - 9s - loss: 0.0693 - accuracy: 0.9228 - val_loss: 0.4060 - val_accuracy: 0.7595 - lr: 0.0010 - 9s/epoch - 54ms/step
Epoch 12/100
176/176 - 10s - loss: 0.0686 - accuracy: 0.9240 - val_loss: 0.4485 - val_accuracy: 0.7501 - lr: 0.0010 - 10s/epoch - 54ms/step
Epoch 13/100
176/176 - 9s - loss: 0.0697 - accuracy: 0.9229 - val_loss: 0.4612 - val_accuracy: 0.7465 - lr: 0.0010 - 9s/epoch - 53ms/step
Epoch 14/100
176/176 - 9s - loss: 0.0697 - accuracy: 0.9226 - val_loss: 0.4432 - val_accuracy: 0.7512 - lr: 0.0010 - 9s/epoch - 54ms/step
Epoch 15/100
176/176 - 9s - loss: 0.0674 - accuracy: 0.9247 - val_loss: 0.4641 - val_accuracy: 0.7445 - lr: 0.0010 - 9s/epoch - 54ms/step
Epoch 16/100
176/176 - 9s - loss: 0.0679 - accuracy: 0.9248 - val_loss: 0.4487 - val_accuracy: 0.7544 - lr: 0.0010 - 9s/epoch - 54ms/step
Epoch 17/100
176/176 - 9s - loss: 0.0679 - accuracy: 0.9252 - val_loss: 0.4040 - val_accuracy: 0.7664 - lr: 0.0010 - 9s/epoch - 54ms/step
Epoch 18/100
176/176 - 10s - loss: 0.0676 - accuracy: 0.9256 - val_loss: 0.4775 - val_accuracy: 0.7322 - lr: 0.0010 - 10s/epoch - 54ms/step
Epoch 19/100
176/176 - 9s - loss: 0.0686 - accuracy: 0.9238 - val_loss: 0.4581 - val_accuracy: 0.7416 - lr: 0.0010 - 9s/epoch - 53ms/step
Epoch 20/100
176/176 - 9s - loss: 0.0645 - accuracy: 0.9283 - val_loss: 0.4496 - val_accuracy: 0.7616 - lr: 0.0010 - 9s/epoch - 54ms/step
Epoch 21/100
176/176 - 9s - loss: 0.0673 - accuracy: 0.9252 - val_loss: 0.5070 - val_accuracy: 0.7238 - lr: 0.0010 - 9s/epoch - 54ms/step
Epoch 22/100
176/176 - 9s - loss: 0.0684 - accuracy: 0.9240 - val_loss: 0.4835 - val_accuracy: 0.7414 - lr: 0.0010 - 9s/epoch - 54ms/step
Epoch 23/100
176/176 - 9s - loss: 0.0681 - accuracy: 0.9243 - val_loss: 0.4290 - val_accuracy: 0.7523 - lr: 0.0010 - 9s/epoch - 53ms/step
Epoch 24/100
176/176 - 9s - loss: 0.0670 - accuracy: 0.9250 - val_loss: 0.4490 - val_accuracy: 0.7433 - lr: 0.0010 - 9s/epoch - 54ms/step
Epoch 25/100
176/176 - 9s - loss: 0.0675 - accuracy: 0.9254 - val_loss: 0.4201 - val_accuracy: 0.7562 - lr: 0.0010 - 9s/epoch - 54ms/step
Epoch 26/100
176/176 - 10s - loss: 0.0651 - accuracy: 0.9275 - val_loss: 0.4762 - val_accuracy: 0.7373 - lr: 0.0010 - 10s/epoch - 54ms/step
Epoch 27/100
176/176 - 9s - loss: 0.0673 - accuracy: 0.9265 - val_loss: 0.4712 - val_accuracy: 0.7426 - lr: 0.0010 - 9s/epoch - 54ms/step
Epoch 28/100
176/176 - 9s - loss: 0.0658 - accuracy: 0.9267 - val_loss: 0.4839 - val_accuracy: 0.7418 - lr: 0.0010 - 9s/epoch - 54ms/step
Epoch 29/100
176/176 - 9s - loss: 0.0663 - accuracy: 0.9265 - val_loss: 0.5028 - val_accuracy: 0.7262 - lr: 0.0010 - 9s/epoch - 54ms/step
Epoch 30/100
176/176 - 9s - loss: 0.0677 - accuracy: 0.9246 - val_loss: 0.5018 - val_accuracy: 0.7218 - lr: 0.0010 - 9s/epoch - 54ms/step
Epoch 31/100
176/176 - 9s - loss: 0.0659 - accuracy: 0.9267 - val_loss: 0.4415 - val_accuracy: 0.7684 - lr: 0.0010 - 9s/epoch - 54ms/step
Epoch 32/100
176/176 - 9s - loss: 0.0651 - accuracy: 0.9274 - val_loss: 0.4242 - val_accuracy: 0.7643 - lr: 0.0010 - 9s/epoch - 54ms/step
Epoch 33/100
176/176 - 9s - loss: 0.0652 - accuracy: 0.9273 - val_loss: 0.4640 - val_accuracy: 0.7476 - lr: 0.0010 - 9s/epoch - 54ms/step
Epoch 34/100
176/176 - 9s - loss: 0.0659 - accuracy: 0.9271 - val_loss: 0.4461 - val_accuracy: 0.7643 - lr: 0.0010 - 9s/epoch - 54ms/step
Epoch 35/100
176/176 - 9s - loss: 0.0641 - accuracy: 0.9286 - val_loss: 0.4995 - val_accuracy: 0.7484 - lr: 0.0010 - 9s/epoch - 54ms/step
Epoch 36/100
176/176 - 9s - loss: 0.0670 - accuracy: 0.9260 - val_loss: 0.4581 - val_accuracy: 0.7514 - lr: 0.0010 - 9s/epoch - 54ms/step
Epoch 37/100
176/176 - 9s - loss: 0.0655 - accuracy: 0.9279 - val_loss: 0.4598 - val_accuracy: 0.7523 - lr: 0.0010 - 9s/epoch - 54ms/step
Epoch 38/100
176/176 - 9s - loss: 0.0648 - accuracy: 0.9287 - val_loss: 0.4825 - val_accuracy: 0.7466 - lr: 0.0010 - 9s/epoch - 54ms/step
Epoch 39/100
176/176 - 9s - loss: 0.0651 - accuracy: 0.9275 - val_loss: 0.4539 - val_accuracy: 0.7489 - lr: 0.0010 - 9s/epoch - 53ms/step
Epoch 40/100
176/176 - 9s - loss: 0.0647 - accuracy: 0.9292 - val_loss: 0.4792 - val_accuracy: 0.7525 - lr: 0.0010 - 9s/epoch - 54ms/step
Epoch 41/100
176/176 - 9s - loss: 0.0643 - accuracy: 0.9287 - val_loss: 0.4793 - val_accuracy: 0.7315 - lr: 0.0010 - 9s/epoch - 54ms/step
Epoch 42/100
176/176 - 9s - loss: 0.0652 - accuracy: 0.9281 - val_loss: 0.4847 - val_accuracy: 0.7370 - lr: 0.0010 - 9s/epoch - 54ms/step
Epoch 43/100
176/176 - 9s - loss: 0.0650 - accuracy: 0.9287 - val_loss: 0.4598 - val_accuracy: 0.7507 - lr: 0.0010 - 9s/epoch - 53ms/step
Epoch 44/100
176/176 - 9s - loss: 0.0647 - accuracy: 0.9283 - val_loss: 0.4777 - val_accuracy: 0.7370 - lr: 0.0010 - 9s/epoch - 54ms/step
Epoch 45/100
176/176 - 9s - loss: 0.0640 - accuracy: 0.9293 - val_loss: 0.5046 - val_accuracy: 0.7395 - lr: 0.0010 - 9s/epoch - 54ms/step
Epoch 46/100
176/176 - 9s - loss: 0.0639 - accuracy: 0.9293 - val_loss: 0.4700 - val_accuracy: 0.7495 - lr: 0.0010 - 9s/epoch - 54ms/step
Epoch 47/100
176/176 - 9s - loss: 0.0644 - accuracy: 0.9299 - val_loss: 0.4640 - val_accuracy: 0.7572 - lr: 0.0010 - 9s/epoch - 54ms/step
Epoch 48/100
176/176 - 9s - loss: 0.0640 - accuracy: 0.9299 - val_loss: 0.4567 - val_accuracy: 0.7536 - lr: 0.0010 - 9s/epoch - 54ms/step
Epoch 49/100
176/176 - 9s - loss: 0.0649 - accuracy: 0.9276 - val_loss: 0.4744 - val_accuracy: 0.7445 - lr: 0.0010 - 9s/epoch - 54ms/step
Epoch 50/100
176/176 - 9s - loss: 0.0644 - accuracy: 0.9281 - val_loss: 0.5234 - val_accuracy: 0.7315 - lr: 0.0010 - 9s/epoch - 54ms/step
Epoch 51/100
176/176 - 9s - loss: 0.0624 - accuracy: 0.9309 - val_loss: 0.5284 - val_accuracy: 0.7275 - lr: 0.0010 - 9s/epoch - 54ms/step
Epoch 52/100
176/176 - 9s - loss: 0.0643 - accuracy: 0.9292 - val_loss: 0.4928 - val_accuracy: 0.7365 - lr: 0.0010 - 9s/epoch - 54ms/step
Epoch 53/100
176/176 - 9s - loss: 0.0617 - accuracy: 0.9322 - val_loss: 0.5016 - val_accuracy: 0.7332 - lr: 0.0010 - 9s/epoch - 54ms/step
Epoch 54/100
176/176 - 9s - loss: 0.0627 - accuracy: 0.9308 - val_loss: 0.5394 - val_accuracy: 0.7175 - lr: 0.0010 - 9s/epoch - 54ms/step
Epoch 55/100
176/176 - 9s - loss: 0.0630 - accuracy: 0.9305 - val_loss: 0.4949 - val_accuracy: 0.7446 - lr: 0.0010 - 9s/epoch - 54ms/step
Epoch 56/100
176/176 - 9s - loss: 0.0619 - accuracy: 0.9321 - val_loss: 0.5474 - val_accuracy: 0.7212 - lr: 0.0010 - 9s/epoch - 54ms/step
Epoch 57/100
176/176 - 9s - loss: 0.0624 - accuracy: 0.9307 - val_loss: 0.4701 - val_accuracy: 0.7516 - lr: 0.0010 - 9s/epoch - 54ms/step
Epoch 58/100
176/176 - 9s - loss: 0.0633 - accuracy: 0.9311 - val_loss: 0.4869 - val_accuracy: 0.7419 - lr: 0.0010 - 9s/epoch - 54ms/step
Epoch 59/100
176/176 - 9s - loss: 0.0605 - accuracy: 0.9331 - val_loss: 0.5181 - val_accuracy: 0.7283 - lr: 0.0010 - 9s/epoch - 54ms/step
Epoch 60/100
176/176 - 9s - loss: 0.0630 - accuracy: 0.9317 - val_loss: 0.4925 - val_accuracy: 0.7384 - lr: 0.0010 - 9s/epoch - 54ms/step
Epoch 61/100
176/176 - 9s - loss: 0.0634 - accuracy: 0.9307 - val_loss: 0.5092 - val_accuracy: 0.7319 - lr: 0.0010 - 9s/epoch - 54ms/step
Epoch 62/100
176/176 - 9s - loss: 0.0626 - accuracy: 0.9309 - val_loss: 0.4885 - val_accuracy: 0.7414 - lr: 0.0010 - 9s/epoch - 54ms/step
Epoch 63/100
176/176 - 9s - loss: 0.0642 - accuracy: 0.9299 - val_loss: 0.4701 - val_accuracy: 0.7538 - lr: 0.0010 - 9s/epoch - 53ms/step
Epoch 64/100
176/176 - 9s - loss: 0.0621 - accuracy: 0.9317 - val_loss: 0.4828 - val_accuracy: 0.7458 - lr: 0.0010 - 9s/epoch - 54ms/step
Epoch 65/100
176/176 - 9s - loss: 0.0617 - accuracy: 0.9318 - val_loss: 0.4764 - val_accuracy: 0.7525 - lr: 0.0010 - 9s/epoch - 53ms/step
Epoch 66/100
176/176 - 9s - loss: 0.0635 - accuracy: 0.9302 - val_loss: 0.4965 - val_accuracy: 0.7423 - lr: 0.0010 - 9s/epoch - 54ms/step
Epoch 67/100
176/176 - 9s - loss: 0.0628 - accuracy: 0.9306 - val_loss: 0.5009 - val_accuracy: 0.7333 - lr: 0.0010 - 9s/epoch - 54ms/step
Epoch 68/100
176/176 - 10s - loss: 0.0616 - accuracy: 0.9321 - val_loss: 0.5024 - val_accuracy: 0.7423 - lr: 0.0010 - 10s/epoch - 54ms/step
Epoch 69/100
176/176 - 9s - loss: 0.0616 - accuracy: 0.9328 - val_loss: 0.5146 - val_accuracy: 0.7312 - lr: 0.0010 - 9s/epoch - 54ms/step
Epoch 70/100
176/176 - 9s - loss: 0.0612 - accuracy: 0.9331 - val_loss: 0.4939 - val_accuracy: 0.7473 - lr: 0.0010 - 9s/epoch - 54ms/step
Epoch 71/100
176/176 - 10s - loss: 0.0631 - accuracy: 0.9310 - val_loss: 0.4800 - val_accuracy: 0.7371 - lr: 0.0010 - 10s/epoch - 54ms/step
Epoch 72/100
176/176 - 10s - loss: 0.0625 - accuracy: 0.9314 - val_loss: 0.4929 - val_accuracy: 0.7513 - lr: 0.0010 - 10s/epoch - 54ms/step
Epoch 73/100
176/176 - 9s - loss: 0.0632 - accuracy: 0.9311 - val_loss: 0.4720 - val_accuracy: 0.7495 - lr: 0.0010 - 9s/epoch - 54ms/step
Epoch 74/100
176/176 - 9s - loss: 0.0621 - accuracy: 0.9317 - val_loss: 0.5149 - val_accuracy: 0.7349 - lr: 0.0010 - 9s/epoch - 53ms/step
Epoch 75/100
176/176 - 9s - loss: 0.0606 - accuracy: 0.9330 - val_loss: 0.5140 - val_accuracy: 0.7389 - lr: 0.0010 - 9s/epoch - 54ms/step
Epoch 76/100
176/176 - 9s - loss: 0.0620 - accuracy: 0.9328 - val_loss: 0.4972 - val_accuracy: 0.7322 - lr: 0.0010 - 9s/epoch - 53ms/step
Epoch 77/100
176/176 - 9s - loss: 0.0616 - accuracy: 0.9327 - val_loss: 0.5020 - val_accuracy: 0.7362 - lr: 0.0010 - 9s/epoch - 54ms/step
Epoch 78/100
176/176 - 9s - loss: 0.0636 - accuracy: 0.9305 - val_loss: 0.4745 - val_accuracy: 0.7466 - lr: 0.0010 - 9s/epoch - 54ms/step
Epoch 79/100
176/176 - 9s - loss: 0.0616 - accuracy: 0.9328 - val_loss: 0.4991 - val_accuracy: 0.7361 - lr: 0.0010 - 9s/epoch - 54ms/step
Epoch 80/100
176/176 - 9s - loss: 0.0628 - accuracy: 0.9313 - val_loss: 0.4733 - val_accuracy: 0.7427 - lr: 0.0010 - 9s/epoch - 54ms/step
Epoch 81/100
176/176 - 9s - loss: 0.0612 - accuracy: 0.9330 - val_loss: 0.5145 - val_accuracy: 0.7246 - lr: 0.0010 - 9s/epoch - 54ms/step
Epoch 82/100
176/176 - 9s - loss: 0.0621 - accuracy: 0.9315 - val_loss: 0.4674 - val_accuracy: 0.7572 - lr: 0.0010 - 9s/epoch - 53ms/step
Epoch 83/100
176/176 - 9s - loss: 0.0621 - accuracy: 0.9321 - val_loss: 0.5086 - val_accuracy: 0.7272 - lr: 0.0010 - 9s/epoch - 53ms/step
Epoch 84/100
176/176 - 9s - loss: 0.0599 - accuracy: 0.9341 - val_loss: 0.4792 - val_accuracy: 0.7437 - lr: 0.0010 - 9s/epoch - 54ms/step
Epoch 85/100
176/176 - 9s - loss: 0.0600 - accuracy: 0.9333 - val_loss: 0.5390 - val_accuracy: 0.7292 - lr: 0.0010 - 9s/epoch - 53ms/step
Epoch 86/100
176/176 - 9s - loss: 0.0611 - accuracy: 0.9332 - val_loss: 0.4773 - val_accuracy: 0.7447 - lr: 0.0010 - 9s/epoch - 54ms/step
Epoch 87/100
176/176 - 9s - loss: 0.0611 - accuracy: 0.9336 - val_loss: 0.4435 - val_accuracy: 0.7546 - lr: 0.0010 - 9s/epoch - 54ms/step
Epoch 88/100
176/176 - 9s - loss: 0.0612 - accuracy: 0.9329 - val_loss: 0.5049 - val_accuracy: 0.7307 - lr: 0.0010 - 9s/epoch - 54ms/step
Epoch 89/100
176/176 - 9s - loss: 0.0620 - accuracy: 0.9319 - val_loss: 0.4389 - val_accuracy: 0.7631 - lr: 0.0010 - 9s/epoch - 53ms/step
Epoch 90/100
176/176 - 9s - loss: 0.0626 - accuracy: 0.9318 - val_loss: 0.5260 - val_accuracy: 0.7170 - lr: 0.0010 - 9s/epoch - 54ms/step
Epoch 91/100
176/176 - 9s - loss: 0.0615 - accuracy: 0.9318 - val_loss: 0.5424 - val_accuracy: 0.7141 - lr: 0.0010 - 9s/epoch - 54ms/step
Epoch 92/100
176/176 - 9s - loss: 0.0609 - accuracy: 0.9332 - val_loss: 0.5041 - val_accuracy: 0.7452 - lr: 0.0010 - 9s/epoch - 53ms/step
Epoch 93/100
176/176 - 9s - loss: 0.0605 - accuracy: 0.9339 - val_loss: 0.5123 - val_accuracy: 0.7282 - lr: 0.0010 - 9s/epoch - 53ms/step
Epoch 94/100
176/176 - 9s - loss: 0.0621 - accuracy: 0.9331 - val_loss: 0.4926 - val_accuracy: 0.7440 - lr: 0.0010 - 9s/epoch - 53ms/step
Epoch 95/100
176/176 - 9s - loss: 0.0628 - accuracy: 0.9310 - val_loss: 0.4544 - val_accuracy: 0.7565 - lr: 0.0010 - 9s/epoch - 54ms/step
Epoch 96/100
176/176 - 9s - loss: 0.0608 - accuracy: 0.9334 - val_loss: 0.5602 - val_accuracy: 0.7216 - lr: 0.0010 - 9s/epoch - 53ms/step
Epoch 97/100
176/176 - 9s - loss: 0.0617 - accuracy: 0.9330 - val_loss: 0.5013 - val_accuracy: 0.7346 - lr: 0.0010 - 9s/epoch - 54ms/step
Epoch 98/100
176/176 - 9s - loss: 0.0621 - accuracy: 0.9320 - val_loss: 0.4893 - val_accuracy: 0.7477 - lr: 0.0010 - 9s/epoch - 54ms/step
Epoch 99/100
176/176 - 9s - loss: 0.0603 - accuracy: 0.9343 - val_loss: 0.4723 - val_accuracy: 0.7521 - lr: 0.0010 - 9s/epoch - 53ms/step
Epoch 100/100
176/176 - 9s - loss: 0.0612 - accuracy: 0.9327 - val_loss: 0.4798 - val_accuracy: 0.7442 - lr: 0.0010 - 9s/epoch - 53ms/step
