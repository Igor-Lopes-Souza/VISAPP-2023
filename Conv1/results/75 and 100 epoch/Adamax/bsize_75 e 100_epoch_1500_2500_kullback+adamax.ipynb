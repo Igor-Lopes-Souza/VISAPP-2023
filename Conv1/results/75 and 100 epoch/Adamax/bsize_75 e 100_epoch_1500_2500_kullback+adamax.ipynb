Loss: huber_loss
Epoch number: 75
fitting with batch size: 1500
Epoch 1/75
59/59 - 16s - loss: 0.0049 - accuracy: 0.9683 - val_loss: 0.0464 - val_accuracy: 0.7247 - lr: 0.0010 - 16s/epoch - 265ms/step
Epoch 2/75
59/59 - 11s - loss: 0.0046 - accuracy: 0.9703 - val_loss: 0.0469 - val_accuracy: 0.7226 - lr: 0.0010 - 11s/epoch - 184ms/step
Epoch 3/75
59/59 - 8s - loss: 0.0045 - accuracy: 0.9711 - val_loss: 0.0469 - val_accuracy: 0.7233 - lr: 0.0010 - 8s/epoch - 137ms/step
Epoch 4/75
59/59 - 8s - loss: 0.0045 - accuracy: 0.9712 - val_loss: 0.0468 - val_accuracy: 0.7225 - lr: 0.0010 - 8s/epoch - 137ms/step
Epoch 5/75
59/59 - 8s - loss: 0.0045 - accuracy: 0.9710 - val_loss: 0.0475 - val_accuracy: 0.7198 - lr: 0.0010 - 8s/epoch - 138ms/step
Epoch 6/75
59/59 - 8s - loss: 0.0045 - accuracy: 0.9709 - val_loss: 0.0474 - val_accuracy: 0.7195 - lr: 0.0010 - 8s/epoch - 137ms/step
Epoch 7/75
59/59 - 8s - loss: 0.0045 - accuracy: 0.9706 - val_loss: 0.0471 - val_accuracy: 0.7217 - lr: 0.0010 - 8s/epoch - 141ms/step
Epoch 8/75
59/59 - 9s - loss: 0.0045 - accuracy: 0.9713 - val_loss: 0.0468 - val_accuracy: 0.7225 - lr: 0.0010 - 9s/epoch - 148ms/step
Epoch 9/75
59/59 - 9s - loss: 0.0046 - accuracy: 0.9706 - val_loss: 0.0468 - val_accuracy: 0.7228 - lr: 0.0010 - 9s/epoch - 150ms/step
Epoch 10/75
59/59 - 9s - loss: 0.0046 - accuracy: 0.9709 - val_loss: 0.0468 - val_accuracy: 0.7233 - lr: 0.0010 - 9s/epoch - 154ms/step
Epoch 11/75
59/59 - 8s - loss: 0.0045 - accuracy: 0.9710 - val_loss: 0.0478 - val_accuracy: 0.7158 - lr: 0.0010 - 8s/epoch - 139ms/step
Epoch 12/75
59/59 - 8s - loss: 0.0047 - accuracy: 0.9697 - val_loss: 0.0471 - val_accuracy: 0.7200 - lr: 0.0010 - 8s/epoch - 137ms/step
Epoch 13/75
59/59 - 8s - loss: 0.0047 - accuracy: 0.9693 - val_loss: 0.0468 - val_accuracy: 0.7231 - lr: 0.0010 - 8s/epoch - 132ms/step
Epoch 14/75
59/59 - 8s - loss: 0.0046 - accuracy: 0.9706 - val_loss: 0.0471 - val_accuracy: 0.7218 - lr: 0.0010 - 8s/epoch - 138ms/step
Epoch 15/75
59/59 - 8s - loss: 0.0048 - accuracy: 0.9696 - val_loss: 0.0469 - val_accuracy: 0.7233 - lr: 0.0010 - 8s/epoch - 141ms/step
Epoch 16/75
59/59 - 8s - loss: 0.0047 - accuracy: 0.9699 - val_loss: 0.0463 - val_accuracy: 0.7270 - lr: 0.0010 - 8s/epoch - 139ms/step
Epoch 17/75
59/59 - 8s - loss: 0.0048 - accuracy: 0.9694 - val_loss: 0.0473 - val_accuracy: 0.7218 - lr: 0.0010 - 8s/epoch - 136ms/step
Epoch 18/75
59/59 - 9s - loss: 0.0048 - accuracy: 0.9692 - val_loss: 0.0463 - val_accuracy: 0.7273 - lr: 0.0010 - 9s/epoch - 145ms/step
Epoch 19/75
59/59 - 9s - loss: 0.0050 - accuracy: 0.9675 - val_loss: 0.0483 - val_accuracy: 0.7149 - lr: 0.0010 - 9s/epoch - 145ms/step
Epoch 20/75
59/59 - 8s - loss: 0.0049 - accuracy: 0.9681 - val_loss: 0.0473 - val_accuracy: 0.7210 - lr: 0.0010 - 8s/epoch - 137ms/step
Epoch 21/75
59/59 - 10s - loss: 0.0050 - accuracy: 0.9671 - val_loss: 0.0477 - val_accuracy: 0.7184 - lr: 0.0010 - 10s/epoch - 172ms/step
Epoch 22/75
59/59 - 10s - loss: 0.0051 - accuracy: 0.9666 - val_loss: 0.0474 - val_accuracy: 0.7202 - lr: 0.0010 - 10s/epoch - 165ms/step
Epoch 23/75
59/59 - 10s - loss: 0.0053 - accuracy: 0.9660 - val_loss: 0.0476 - val_accuracy: 0.7206 - lr: 0.0010 - 10s/epoch - 166ms/step
Epoch 24/75
59/59 - 10s - loss: 0.0054 - accuracy: 0.9647 - val_loss: 0.0468 - val_accuracy: 0.7226 - lr: 0.0010 - 10s/epoch - 167ms/step
Epoch 25/75
59/59 - 10s - loss: 0.0055 - accuracy: 0.9643 - val_loss: 0.0496 - val_accuracy: 0.7076 - lr: 0.0010 - 10s/epoch - 165ms/step
Epoch 26/75
59/59 - 11s - loss: 0.0056 - accuracy: 0.9633 - val_loss: 0.0477 - val_accuracy: 0.7192 - lr: 0.0010 - 11s/epoch - 186ms/step
Epoch 27/75
59/59 - 10s - loss: 0.0055 - accuracy: 0.9645 - val_loss: 0.0475 - val_accuracy: 0.7215 - lr: 0.0010 - 10s/epoch - 172ms/step
Epoch 28/75
59/59 - 10s - loss: 0.0054 - accuracy: 0.9645 - val_loss: 0.0483 - val_accuracy: 0.7172 - lr: 0.0010 - 10s/epoch - 170ms/step
Epoch 29/75
59/59 - 10s - loss: 0.0058 - accuracy: 0.9617 - val_loss: 0.0475 - val_accuracy: 0.7208 - lr: 0.0010 - 10s/epoch - 170ms/step
Epoch 30/75
59/59 - 10s - loss: 0.0059 - accuracy: 0.9612 - val_loss: 0.0482 - val_accuracy: 0.7160 - lr: 0.0010 - 10s/epoch - 171ms/step
Epoch 31/75
59/59 - 10s - loss: 0.0059 - accuracy: 0.9617 - val_loss: 0.0472 - val_accuracy: 0.7211 - lr: 0.0010 - 10s/epoch - 170ms/step
Epoch 32/75
59/59 - 10s - loss: 0.0059 - accuracy: 0.9611 - val_loss: 0.0473 - val_accuracy: 0.7217 - lr: 0.0010 - 10s/epoch - 169ms/step
Epoch 33/75
59/59 - 10s - loss: 0.0060 - accuracy: 0.9609 - val_loss: 0.0496 - val_accuracy: 0.7093 - lr: 0.0010 - 10s/epoch - 170ms/step
Epoch 34/75
59/59 - 10s - loss: 0.0060 - accuracy: 0.9605 - val_loss: 0.0461 - val_accuracy: 0.7286 - lr: 0.0010 - 10s/epoch - 174ms/step
Epoch 35/75
59/59 - 17s - loss: 0.0060 - accuracy: 0.9607 - val_loss: 0.0487 - val_accuracy: 0.7152 - lr: 0.0010 - 17s/epoch - 286ms/step
Epoch 36/75
59/59 - 9s - loss: 0.0059 - accuracy: 0.9616 - val_loss: 0.0478 - val_accuracy: 0.7197 - lr: 0.0010 - 9s/epoch - 157ms/step
Epoch 37/75
59/59 - 9s - loss: 0.0060 - accuracy: 0.9607 - val_loss: 0.0480 - val_accuracy: 0.7177 - lr: 0.0010 - 9s/epoch - 158ms/step
Epoch 38/75
59/59 - 10s - loss: 0.0061 - accuracy: 0.9602 - val_loss: 0.0477 - val_accuracy: 0.7192 - lr: 0.0010 - 10s/epoch - 163ms/step
Epoch 39/75
59/59 - 9s - loss: 0.0061 - accuracy: 0.9601 - val_loss: 0.0477 - val_accuracy: 0.7193 - lr: 0.0010 - 9s/epoch - 160ms/step
Epoch 40/75
59/59 - 9s - loss: 0.0060 - accuracy: 0.9604 - val_loss: 0.0486 - val_accuracy: 0.7144 - lr: 0.0010 - 9s/epoch - 157ms/step
Epoch 41/75
59/59 - 9s - loss: 0.0061 - accuracy: 0.9604 - val_loss: 0.0476 - val_accuracy: 0.7194 - lr: 0.0010 - 9s/epoch - 152ms/step
Epoch 42/75
59/59 - 9s - loss: 0.0060 - accuracy: 0.9610 - val_loss: 0.0468 - val_accuracy: 0.7231 - lr: 0.0010 - 9s/epoch - 154ms/step
Epoch 43/75
59/59 - 9s - loss: 0.0062 - accuracy: 0.9593 - val_loss: 0.0460 - val_accuracy: 0.7262 - lr: 0.0010 - 9s/epoch - 156ms/step
Epoch 44/75
59/59 - 9s - loss: 0.0061 - accuracy: 0.9602 - val_loss: 0.0464 - val_accuracy: 0.7267 - lr: 0.0010 - 9s/epoch - 159ms/step
Epoch 45/75
59/59 - 9s - loss: 0.0062 - accuracy: 0.9599 - val_loss: 0.0479 - val_accuracy: 0.7183 - lr: 0.0010 - 9s/epoch - 159ms/step
Epoch 46/75
59/59 - 9s - loss: 0.0059 - accuracy: 0.9619 - val_loss: 0.0464 - val_accuracy: 0.7259 - lr: 0.0010 - 9s/epoch - 155ms/step
Epoch 47/75
59/59 - 9s - loss: 0.0059 - accuracy: 0.9614 - val_loss: 0.0463 - val_accuracy: 0.7268 - lr: 0.0010 - 9s/epoch - 153ms/step
Epoch 48/75
59/59 - 9s - loss: 0.0058 - accuracy: 0.9618 - val_loss: 0.0469 - val_accuracy: 0.7240 - lr: 0.0010 - 9s/epoch - 151ms/step
Epoch 49/75
59/59 - 9s - loss: 0.0058 - accuracy: 0.9624 - val_loss: 0.0482 - val_accuracy: 0.7147 - lr: 0.0010 - 9s/epoch - 150ms/step
Epoch 50/75
59/59 - 9s - loss: 0.0058 - accuracy: 0.9625 - val_loss: 0.0474 - val_accuracy: 0.7206 - lr: 0.0010 - 9s/epoch - 155ms/step
Epoch 51/75
59/59 - 9s - loss: 0.0059 - accuracy: 0.9617 - val_loss: 0.0456 - val_accuracy: 0.7303 - lr: 0.0010 - 9s/epoch - 156ms/step
Epoch 52/75
59/59 - 9s - loss: 0.0059 - accuracy: 0.9620 - val_loss: 0.0480 - val_accuracy: 0.7179 - lr: 0.0010 - 9s/epoch - 155ms/step
Epoch 53/75
59/59 - 11s - loss: 0.0060 - accuracy: 0.9611 - val_loss: 0.0478 - val_accuracy: 0.7192 - lr: 0.0010 - 11s/epoch - 194ms/step
Epoch 54/75
59/59 - 12s - loss: 0.0060 - accuracy: 0.9611 - val_loss: 0.0485 - val_accuracy: 0.7136 - lr: 0.0010 - 12s/epoch - 202ms/step
Epoch 55/75
59/59 - 12s - loss: 0.0059 - accuracy: 0.9622 - val_loss: 0.0476 - val_accuracy: 0.7186 - lr: 0.0010 - 12s/epoch - 199ms/step
Epoch 56/75
59/59 - 12s - loss: 0.0056 - accuracy: 0.9633 - val_loss: 0.0479 - val_accuracy: 0.7158 - lr: 0.0010 - 12s/epoch - 199ms/step
Epoch 57/75
59/59 - 10s - loss: 0.0059 - accuracy: 0.9618 - val_loss: 0.0481 - val_accuracy: 0.7142 - lr: 0.0010 - 10s/epoch - 178ms/step
Epoch 58/75
59/59 - 11s - loss: 0.0063 - accuracy: 0.9584 - val_loss: 0.0483 - val_accuracy: 0.7141 - lr: 0.0010 - 11s/epoch - 187ms/step
Epoch 59/75
59/59 - 12s - loss: 0.0060 - accuracy: 0.9616 - val_loss: 0.0475 - val_accuracy: 0.7191 - lr: 0.0010 - 12s/epoch - 205ms/step
Epoch 60/75
59/59 - 12s - loss: 0.0060 - accuracy: 0.9606 - val_loss: 0.0491 - val_accuracy: 0.7112 - lr: 0.0010 - 12s/epoch - 205ms/step
Epoch 61/75
59/59 - 12s - loss: 0.0058 - accuracy: 0.9623 - val_loss: 0.0488 - val_accuracy: 0.7137 - lr: 0.0010 - 12s/epoch - 201ms/step
Epoch 62/75
59/59 - 11s - loss: 0.0059 - accuracy: 0.9616 - val_loss: 0.0471 - val_accuracy: 0.7222 - lr: 0.0010 - 11s/epoch - 191ms/step
Epoch 63/75
59/59 - 12s - loss: 0.0058 - accuracy: 0.9621 - val_loss: 0.0482 - val_accuracy: 0.7140 - lr: 0.0010 - 12s/epoch - 199ms/step
Epoch 64/75
59/59 - 11s - loss: 0.0058 - accuracy: 0.9625 - val_loss: 0.0484 - val_accuracy: 0.7149 - lr: 0.0010 - 11s/epoch - 193ms/step
Epoch 65/75
59/59 - 11s - loss: 0.0059 - accuracy: 0.9623 - val_loss: 0.0464 - val_accuracy: 0.7274 - lr: 0.0010 - 11s/epoch - 181ms/step
Epoch 66/75
59/59 - 11s - loss: 0.0059 - accuracy: 0.9615 - val_loss: 0.0471 - val_accuracy: 0.7236 - lr: 0.0010 - 11s/epoch - 185ms/step
Epoch 67/75
59/59 - 12s - loss: 0.0061 - accuracy: 0.9605 - val_loss: 0.0479 - val_accuracy: 0.7181 - lr: 0.0010 - 12s/epoch - 206ms/step
Epoch 68/75
59/59 - 13s - loss: 0.0060 - accuracy: 0.9611 - val_loss: 0.0477 - val_accuracy: 0.7194 - lr: 0.0010 - 13s/epoch - 217ms/step
Epoch 69/75
59/59 - 12s - loss: 0.0059 - accuracy: 0.9619 - val_loss: 0.0480 - val_accuracy: 0.7169 - lr: 0.0010 - 12s/epoch - 196ms/step
Epoch 70/75
59/59 - 11s - loss: 0.0061 - accuracy: 0.9602 - val_loss: 0.0459 - val_accuracy: 0.7313 - lr: 0.0010 - 11s/epoch - 183ms/step
Epoch 71/75
59/59 - 11s - loss: 0.0059 - accuracy: 0.9616 - val_loss: 0.0476 - val_accuracy: 0.7195 - lr: 0.0010 - 11s/epoch - 185ms/step
Epoch 72/75
59/59 - 12s - loss: 0.0059 - accuracy: 0.9620 - val_loss: 0.0487 - val_accuracy: 0.7107 - lr: 0.0010 - 12s/epoch - 201ms/step
Epoch 73/75
59/59 - 12s - loss: 0.0060 - accuracy: 0.9617 - val_loss: 0.0494 - val_accuracy: 0.7086 - lr: 0.0010 - 12s/epoch - 204ms/step
Epoch 74/75
59/59 - 13s - loss: 0.0060 - accuracy: 0.9606 - val_loss: 0.0495 - val_accuracy: 0.7099 - lr: 0.0010 - 13s/epoch - 215ms/step
Epoch 75/75
59/59 - 13s - loss: 0.0061 - accuracy: 0.9606 - val_loss: 0.0462 - val_accuracy: 0.7278 - lr: 0.0010 - 13s/epoch - 227ms/step
fitting with batch size: 2500
Epoch 1/75
36/36 - 15s - loss: 0.0056 - accuracy: 0.9633 - val_loss: 0.0482 - val_accuracy: 0.7158 - lr: 0.0010 - 15s/epoch - 410ms/step
Epoch 2/75
36/36 - 10s - loss: 0.0054 - accuracy: 0.9657 - val_loss: 0.0489 - val_accuracy: 0.7118 - lr: 0.0010 - 10s/epoch - 284ms/step
Epoch 3/75
36/36 - 11s - loss: 0.0054 - accuracy: 0.9655 - val_loss: 0.0480 - val_accuracy: 0.7161 - lr: 0.0010 - 11s/epoch - 312ms/step
Epoch 4/75
36/36 - 12s - loss: 0.0053 - accuracy: 0.9655 - val_loss: 0.0489 - val_accuracy: 0.7124 - lr: 0.0010 - 12s/epoch - 327ms/step
Epoch 5/75
36/36 - 11s - loss: 0.0050 - accuracy: 0.9679 - val_loss: 0.0486 - val_accuracy: 0.7129 - lr: 0.0010 - 11s/epoch - 316ms/step
Epoch 6/75
36/36 - 11s - loss: 0.0051 - accuracy: 0.9671 - val_loss: 0.0487 - val_accuracy: 0.7137 - lr: 0.0010 - 11s/epoch - 308ms/step
Epoch 7/75
36/36 - 12s - loss: 0.0048 - accuracy: 0.9693 - val_loss: 0.0492 - val_accuracy: 0.7106 - lr: 0.0010 - 12s/epoch - 325ms/step
Epoch 8/75
36/36 - 11s - loss: 0.0048 - accuracy: 0.9694 - val_loss: 0.0489 - val_accuracy: 0.7122 - lr: 0.0010 - 11s/epoch - 319ms/step
Epoch 9/75
36/36 - 11s - loss: 0.0049 - accuracy: 0.9687 - val_loss: 0.0496 - val_accuracy: 0.7088 - lr: 0.0010 - 11s/epoch - 293ms/step
Epoch 10/75
36/36 - 10s - loss: 0.0049 - accuracy: 0.9690 - val_loss: 0.0487 - val_accuracy: 0.7147 - lr: 0.0010 - 10s/epoch - 278ms/step
Epoch 11/75
36/36 - 11s - loss: 0.0049 - accuracy: 0.9685 - val_loss: 0.0473 - val_accuracy: 0.7214 - lr: 0.0010 - 11s/epoch - 294ms/step
Epoch 12/75
36/36 - 11s - loss: 0.0046 - accuracy: 0.9705 - val_loss: 0.0491 - val_accuracy: 0.7124 - lr: 0.0010 - 11s/epoch - 313ms/step
Epoch 13/75
36/36 - 12s - loss: 0.0046 - accuracy: 0.9709 - val_loss: 0.0480 - val_accuracy: 0.7186 - lr: 0.0010 - 12s/epoch - 339ms/step
Epoch 14/75
36/36 - 10s - loss: 0.0046 - accuracy: 0.9709 - val_loss: 0.0489 - val_accuracy: 0.7134 - lr: 0.0010 - 10s/epoch - 288ms/step
Epoch 15/75
36/36 - 10s - loss: 0.0044 - accuracy: 0.9723 - val_loss: 0.0484 - val_accuracy: 0.7168 - lr: 0.0010 - 10s/epoch - 283ms/step
Epoch 16/75
36/36 - 9s - loss: 0.0046 - accuracy: 0.9707 - val_loss: 0.0493 - val_accuracy: 0.7116 - lr: 0.0010 - 9s/epoch - 264ms/step
Epoch 17/75
36/36 - 9s - loss: 0.0046 - accuracy: 0.9708 - val_loss: 0.0478 - val_accuracy: 0.7195 - lr: 0.0010 - 9s/epoch - 264ms/step
Epoch 18/75
36/36 - 10s - loss: 0.0046 - accuracy: 0.9705 - val_loss: 0.0494 - val_accuracy: 0.7110 - lr: 0.0010 - 10s/epoch - 279ms/step
Epoch 19/75
36/36 - 11s - loss: 0.0048 - accuracy: 0.9695 - val_loss: 0.0492 - val_accuracy: 0.7118 - lr: 0.0010 - 11s/epoch - 300ms/step
Epoch 20/75
36/36 - 11s - loss: 0.0045 - accuracy: 0.9714 - val_loss: 0.0498 - val_accuracy: 0.7095 - lr: 0.0010 - 11s/epoch - 302ms/step
Epoch 21/75
36/36 - 11s - loss: 0.0046 - accuracy: 0.9710 - val_loss: 0.0493 - val_accuracy: 0.7125 - lr: 0.0010 - 11s/epoch - 315ms/step
Epoch 22/75
36/36 - 10s - loss: 0.0047 - accuracy: 0.9704 - val_loss: 0.0485 - val_accuracy: 0.7161 - lr: 0.0010 - 10s/epoch - 279ms/step
Epoch 23/75
36/36 - 11s - loss: 0.0050 - accuracy: 0.9688 - val_loss: 0.0490 - val_accuracy: 0.7159 - lr: 0.0010 - 11s/epoch - 315ms/step
Epoch 24/75
36/36 - 11s - loss: 0.0046 - accuracy: 0.9709 - val_loss: 0.0481 - val_accuracy: 0.7181 - lr: 0.0010 - 11s/epoch - 298ms/step
Epoch 25/75
36/36 - 10s - loss: 0.0051 - accuracy: 0.9676 - val_loss: 0.0487 - val_accuracy: 0.7156 - lr: 0.0010 - 10s/epoch - 285ms/step
Epoch 26/75
36/36 - 10s - loss: 0.0049 - accuracy: 0.9689 - val_loss: 0.0483 - val_accuracy: 0.7185 - lr: 0.0010 - 10s/epoch - 268ms/step
Epoch 27/75
36/36 - 10s - loss: 0.0046 - accuracy: 0.9709 - val_loss: 0.0485 - val_accuracy: 0.7187 - lr: 0.0010 - 10s/epoch - 268ms/step
Epoch 28/75
36/36 - 11s - loss: 0.0045 - accuracy: 0.9715 - val_loss: 0.0481 - val_accuracy: 0.7199 - lr: 0.0010 - 11s/epoch - 305ms/step
Epoch 29/75
36/36 - 11s - loss: 0.0045 - accuracy: 0.9717 - val_loss: 0.0483 - val_accuracy: 0.7183 - lr: 0.0010 - 11s/epoch - 317ms/step
Epoch 30/75
36/36 - 11s - loss: 0.0044 - accuracy: 0.9720 - val_loss: 0.0487 - val_accuracy: 0.7172 - lr: 0.0010 - 11s/epoch - 293ms/step
Epoch 31/75
36/36 - 11s - loss: 0.0044 - accuracy: 0.9723 - val_loss: 0.0479 - val_accuracy: 0.7207 - lr: 0.0010 - 11s/epoch - 310ms/step
Epoch 32/75
36/36 - 11s - loss: 0.0047 - accuracy: 0.9699 - val_loss: 0.0497 - val_accuracy: 0.7104 - lr: 0.0010 - 11s/epoch - 315ms/step
Epoch 33/75
36/36 - 11s - loss: 0.0045 - accuracy: 0.9721 - val_loss: 0.0493 - val_accuracy: 0.7129 - lr: 0.0010 - 11s/epoch - 308ms/step
Epoch 34/75
36/36 - 11s - loss: 0.0045 - accuracy: 0.9715 - val_loss: 0.0489 - val_accuracy: 0.7159 - lr: 0.0010 - 11s/epoch - 303ms/step
Epoch 35/75
36/36 - 10s - loss: 0.0045 - accuracy: 0.9712 - val_loss: 0.0492 - val_accuracy: 0.7146 - lr: 0.0010 - 10s/epoch - 284ms/step
Epoch 36/75
36/36 - 11s - loss: 0.0045 - accuracy: 0.9709 - val_loss: 0.0486 - val_accuracy: 0.7172 - lr: 0.0010 - 11s/epoch - 297ms/step
Epoch 37/75
36/36 - 11s - loss: 0.0044 - accuracy: 0.9726 - val_loss: 0.0486 - val_accuracy: 0.7171 - lr: 0.0010 - 11s/epoch - 297ms/step
Epoch 38/75
36/36 - 11s - loss: 0.0043 - accuracy: 0.9727 - val_loss: 0.0490 - val_accuracy: 0.7149 - lr: 0.0010 - 11s/epoch - 298ms/step
Epoch 39/75
36/36 - 11s - loss: 0.0044 - accuracy: 0.9723 - val_loss: 0.0494 - val_accuracy: 0.7126 - lr: 0.0010 - 11s/epoch - 295ms/step
Epoch 40/75
36/36 - 11s - loss: 0.0044 - accuracy: 0.9722 - val_loss: 0.0489 - val_accuracy: 0.7159 - lr: 0.0010 - 11s/epoch - 316ms/step
Epoch 41/75
36/36 - 11s - loss: 0.0044 - accuracy: 0.9721 - val_loss: 0.0482 - val_accuracy: 0.7191 - lr: 0.0010 - 11s/epoch - 295ms/step
Epoch 42/75
36/36 - 13s - loss: 0.0043 - accuracy: 0.9728 - val_loss: 0.0496 - val_accuracy: 0.7111 - lr: 0.0010 - 13s/epoch - 357ms/step
Epoch 43/75
36/36 - 9s - loss: 0.0047 - accuracy: 0.9703 - val_loss: 0.0486 - val_accuracy: 0.7177 - lr: 0.0010 - 9s/epoch - 252ms/step
Epoch 44/75
36/36 - 8s - loss: 0.0043 - accuracy: 0.9728 - val_loss: 0.0491 - val_accuracy: 0.7144 - lr: 0.0010 - 8s/epoch - 224ms/step
Epoch 45/75
36/36 - 8s - loss: 0.0043 - accuracy: 0.9726 - val_loss: 0.0503 - val_accuracy: 0.7074 - lr: 0.0010 - 8s/epoch - 223ms/step
Epoch 46/75
36/36 - 8s - loss: 0.0043 - accuracy: 0.9731 - val_loss: 0.0490 - val_accuracy: 0.7141 - lr: 0.0010 - 8s/epoch - 222ms/step
Epoch 47/75
36/36 - 8s - loss: 0.0043 - accuracy: 0.9732 - val_loss: 0.0484 - val_accuracy: 0.7180 - lr: 0.0010 - 8s/epoch - 222ms/step
Epoch 48/75
36/36 - 8s - loss: 0.0042 - accuracy: 0.9735 - val_loss: 0.0492 - val_accuracy: 0.7137 - lr: 0.0010 - 8s/epoch - 222ms/step
Epoch 49/75
36/36 - 8s - loss: 0.0048 - accuracy: 0.9694 - val_loss: 0.0498 - val_accuracy: 0.7100 - lr: 0.0010 - 8s/epoch - 222ms/step
Epoch 50/75
36/36 - 8s - loss: 0.0046 - accuracy: 0.9707 - val_loss: 0.0493 - val_accuracy: 0.7128 - lr: 0.0010 - 8s/epoch - 222ms/step
Epoch 51/75
36/36 - 8s - loss: 0.0045 - accuracy: 0.9708 - val_loss: 0.0487 - val_accuracy: 0.7169 - lr: 0.0010 - 8s/epoch - 222ms/step
Epoch 52/75
36/36 - 8s - loss: 0.0046 - accuracy: 0.9708 - val_loss: 0.0480 - val_accuracy: 0.7196 - lr: 0.0010 - 8s/epoch - 222ms/step
Epoch 53/75
36/36 - 9s - loss: 0.0045 - accuracy: 0.9715 - val_loss: 0.0489 - val_accuracy: 0.7138 - lr: 0.0010 - 9s/epoch - 257ms/step
Epoch 54/75
36/36 - 10s - loss: 0.0045 - accuracy: 0.9714 - val_loss: 0.0497 - val_accuracy: 0.7109 - lr: 0.0010 - 10s/epoch - 264ms/step
Epoch 55/75
36/36 - 11s - loss: 0.0044 - accuracy: 0.9722 - val_loss: 0.0491 - val_accuracy: 0.7135 - lr: 0.0010 - 11s/epoch - 301ms/step
Epoch 56/75
36/36 - 11s - loss: 0.0043 - accuracy: 0.9727 - val_loss: 0.0490 - val_accuracy: 0.7145 - lr: 0.0010 - 11s/epoch - 310ms/step
Epoch 57/75
36/36 - 11s - loss: 0.0045 - accuracy: 0.9718 - val_loss: 0.0495 - val_accuracy: 0.7118 - lr: 0.0010 - 11s/epoch - 297ms/step
Epoch 58/75
36/36 - 11s - loss: 0.0045 - accuracy: 0.9714 - val_loss: 0.0484 - val_accuracy: 0.7185 - lr: 0.0010 - 11s/epoch - 302ms/step
Epoch 59/75
36/36 - 12s - loss: 0.0044 - accuracy: 0.9720 - val_loss: 0.0486 - val_accuracy: 0.7172 - lr: 0.0010 - 12s/epoch - 332ms/step
Epoch 60/75
36/36 - 11s - loss: 0.0043 - accuracy: 0.9728 - val_loss: 0.0491 - val_accuracy: 0.7159 - lr: 0.0010 - 11s/epoch - 297ms/step
Epoch 61/75
36/36 - 10s - loss: 0.0043 - accuracy: 0.9725 - val_loss: 0.0490 - val_accuracy: 0.7146 - lr: 0.0010 - 10s/epoch - 264ms/step
Epoch 62/75
36/36 - 10s - loss: 0.0042 - accuracy: 0.9730 - val_loss: 0.0485 - val_accuracy: 0.7180 - lr: 0.0010 - 10s/epoch - 265ms/step
Epoch 63/75
36/36 - 10s - loss: 0.0043 - accuracy: 0.9733 - val_loss: 0.0482 - val_accuracy: 0.7187 - lr: 0.0010 - 10s/epoch - 268ms/step
Epoch 64/75
36/36 - 11s - loss: 0.0044 - accuracy: 0.9723 - val_loss: 0.0489 - val_accuracy: 0.7147 - lr: 0.0010 - 11s/epoch - 305ms/step
Epoch 65/75
36/36 - 11s - loss: 0.0042 - accuracy: 0.9731 - val_loss: 0.0491 - val_accuracy: 0.7154 - lr: 0.0010 - 11s/epoch - 300ms/step
Epoch 66/75
36/36 - 10s - loss: 0.0047 - accuracy: 0.9696 - val_loss: 0.0495 - val_accuracy: 0.7114 - lr: 0.0010 - 10s/epoch - 290ms/step
Epoch 67/75
36/36 - 11s - loss: 0.0047 - accuracy: 0.9704 - val_loss: 0.0494 - val_accuracy: 0.7113 - lr: 0.0010 - 11s/epoch - 311ms/step
Epoch 68/75
36/36 - 11s - loss: 0.0044 - accuracy: 0.9716 - val_loss: 0.0488 - val_accuracy: 0.7171 - lr: 0.0010 - 11s/epoch - 300ms/step
Epoch 69/75
36/36 - 11s - loss: 0.0043 - accuracy: 0.9730 - val_loss: 0.0495 - val_accuracy: 0.7121 - lr: 0.0010 - 11s/epoch - 300ms/step
Epoch 70/75
36/36 - 11s - loss: 0.0046 - accuracy: 0.9706 - val_loss: 0.0497 - val_accuracy: 0.7124 - lr: 0.0010 - 11s/epoch - 305ms/step
Epoch 71/75
36/36 - 11s - loss: 0.0043 - accuracy: 0.9725 - val_loss: 0.0482 - val_accuracy: 0.7205 - lr: 0.0010 - 11s/epoch - 301ms/step
Epoch 72/75
36/36 - 10s - loss: 0.0043 - accuracy: 0.9732 - val_loss: 0.0485 - val_accuracy: 0.7179 - lr: 0.0010 - 10s/epoch - 284ms/step
Epoch 73/75
36/36 - 10s - loss: 0.0042 - accuracy: 0.9736 - val_loss: 0.0491 - val_accuracy: 0.7156 - lr: 0.0010 - 10s/epoch - 285ms/step
Epoch 74/75
36/36 - 10s - loss: 0.0043 - accuracy: 0.9733 - val_loss: 0.0489 - val_accuracy: 0.7150 - lr: 0.0010 - 10s/epoch - 265ms/step
Epoch 75/75
36/36 - 10s - loss: 0.0042 - accuracy: 0.9737 - val_loss: 0.0487 - val_accuracy: 0.7169 - lr: 0.0010 - 10s/epoch - 265ms/step
Epoch number: 100
fitting with batch size: 1500
Epoch 1/100
59/59 - 21s - loss: 0.0043 - accuracy: 0.9724 - val_loss: 0.0490 - val_accuracy: 0.7141 - lr: 0.0010 - 21s/epoch - 350ms/step
Epoch 2/100
59/59 - 13s - loss: 0.0044 - accuracy: 0.9721 - val_loss: 0.0496 - val_accuracy: 0.7115 - lr: 0.0010 - 13s/epoch - 222ms/step
Epoch 3/100
59/59 - 13s - loss: 0.0045 - accuracy: 0.9714 - val_loss: 0.0492 - val_accuracy: 0.7139 - lr: 0.0010 - 13s/epoch - 219ms/step
Epoch 4/100
59/59 - 13s - loss: 0.0046 - accuracy: 0.9708 - val_loss: 0.0495 - val_accuracy: 0.7115 - lr: 0.0010 - 13s/epoch - 218ms/step
Epoch 5/100
59/59 - 12s - loss: 0.0048 - accuracy: 0.9698 - val_loss: 0.0493 - val_accuracy: 0.7121 - lr: 0.0010 - 12s/epoch - 199ms/step
Epoch 6/100
59/59 - 10s - loss: 0.0048 - accuracy: 0.9691 - val_loss: 0.0493 - val_accuracy: 0.7125 - lr: 0.0010 - 10s/epoch - 178ms/step
Epoch 7/100
59/59 - 11s - loss: 0.0047 - accuracy: 0.9700 - val_loss: 0.0482 - val_accuracy: 0.7210 - lr: 0.0010 - 11s/epoch - 185ms/step
Epoch 8/100
59/59 - 12s - loss: 0.0049 - accuracy: 0.9684 - val_loss: 0.0490 - val_accuracy: 0.7153 - lr: 0.0010 - 12s/epoch - 200ms/step
Epoch 9/100
59/59 - 11s - loss: 0.0049 - accuracy: 0.9687 - val_loss: 0.0491 - val_accuracy: 0.7141 - lr: 0.0010 - 11s/epoch - 189ms/step
Epoch 10/100
59/59 - 12s - loss: 0.0050 - accuracy: 0.9680 - val_loss: 0.0488 - val_accuracy: 0.7164 - lr: 0.0010 - 12s/epoch - 203ms/step
Epoch 11/100
59/59 - 12s - loss: 0.0052 - accuracy: 0.9668 - val_loss: 0.0475 - val_accuracy: 0.7220 - lr: 0.0010 - 12s/epoch - 204ms/step
Epoch 12/100
59/59 - 11s - loss: 0.0053 - accuracy: 0.9661 - val_loss: 0.0483 - val_accuracy: 0.7183 - lr: 0.0010 - 11s/epoch - 189ms/step
Epoch 13/100
59/59 - 12s - loss: 0.0054 - accuracy: 0.9652 - val_loss: 0.0482 - val_accuracy: 0.7194 - lr: 0.0010 - 12s/epoch - 200ms/step
Epoch 14/100
59/59 - 12s - loss: 0.0053 - accuracy: 0.9657 - val_loss: 0.0486 - val_accuracy: 0.7162 - lr: 0.0010 - 12s/epoch - 211ms/step
Epoch 15/100
59/59 - 11s - loss: 0.0055 - accuracy: 0.9649 - val_loss: 0.0466 - val_accuracy: 0.7299 - lr: 0.0010 - 11s/epoch - 193ms/step
Epoch 16/100
59/59 - 10s - loss: 0.0056 - accuracy: 0.9639 - val_loss: 0.0471 - val_accuracy: 0.7224 - lr: 0.0010 - 10s/epoch - 170ms/step
Epoch 17/100
59/59 - 10s - loss: 0.0057 - accuracy: 0.9636 - val_loss: 0.0488 - val_accuracy: 0.7149 - lr: 0.0010 - 10s/epoch - 174ms/step
Epoch 18/100
59/59 - 10s - loss: 0.0058 - accuracy: 0.9626 - val_loss: 0.0476 - val_accuracy: 0.7216 - lr: 0.0010 - 10s/epoch - 174ms/step
Epoch 19/100
59/59 - 10s - loss: 0.0055 - accuracy: 0.9647 - val_loss: 0.0481 - val_accuracy: 0.7195 - lr: 0.0010 - 10s/epoch - 173ms/step
Epoch 20/100
59/59 - 10s - loss: 0.0055 - accuracy: 0.9642 - val_loss: 0.0480 - val_accuracy: 0.7209 - lr: 0.0010 - 10s/epoch - 171ms/step
Epoch 21/100
59/59 - 10s - loss: 0.0056 - accuracy: 0.9636 - val_loss: 0.0493 - val_accuracy: 0.7110 - lr: 0.0010 - 10s/epoch - 169ms/step
Epoch 22/100
59/59 - 10s - loss: 0.0057 - accuracy: 0.9630 - val_loss: 0.0499 - val_accuracy: 0.7101 - lr: 0.0010 - 10s/epoch - 170ms/step
Epoch 23/100
59/59 - 10s - loss: 0.0055 - accuracy: 0.9645 - val_loss: 0.0483 - val_accuracy: 0.7180 - lr: 0.0010 - 10s/epoch - 174ms/step
Epoch 24/100
59/59 - 11s - loss: 0.0057 - accuracy: 0.9634 - val_loss: 0.0485 - val_accuracy: 0.7182 - lr: 0.0010 - 11s/epoch - 186ms/step
Epoch 25/100
59/59 - 11s - loss: 0.0057 - accuracy: 0.9635 - val_loss: 0.0478 - val_accuracy: 0.7208 - lr: 0.0010 - 11s/epoch - 185ms/step
Epoch 26/100
59/59 - 11s - loss: 0.0059 - accuracy: 0.9625 - val_loss: 0.0479 - val_accuracy: 0.7190 - lr: 0.0010 - 11s/epoch - 184ms/step
Epoch 27/100
59/59 - 11s - loss: 0.0058 - accuracy: 0.9625 - val_loss: 0.0481 - val_accuracy: 0.7165 - lr: 0.0010 - 11s/epoch - 186ms/step
Epoch 28/100
59/59 - 11s - loss: 0.0057 - accuracy: 0.9632 - val_loss: 0.0500 - val_accuracy: 0.7084 - lr: 0.0010 - 11s/epoch - 187ms/step
Epoch 29/100
59/59 - 11s - loss: 0.0056 - accuracy: 0.9638 - val_loss: 0.0482 - val_accuracy: 0.7181 - lr: 0.0010 - 11s/epoch - 187ms/step
Epoch 30/100
59/59 - 11s - loss: 0.0057 - accuracy: 0.9636 - val_loss: 0.0497 - val_accuracy: 0.7094 - lr: 0.0010 - 11s/epoch - 187ms/step
Epoch 31/100
59/59 - 11s - loss: 0.0058 - accuracy: 0.9628 - val_loss: 0.0487 - val_accuracy: 0.7154 - lr: 0.0010 - 11s/epoch - 188ms/step
Epoch 32/100
59/59 - 11s - loss: 0.0057 - accuracy: 0.9629 - val_loss: 0.0488 - val_accuracy: 0.7130 - lr: 0.0010 - 11s/epoch - 185ms/step
Epoch 33/100
59/59 - 11s - loss: 0.0058 - accuracy: 0.9619 - val_loss: 0.0489 - val_accuracy: 0.7146 - lr: 0.0010 - 11s/epoch - 185ms/step
Epoch 34/100
59/59 - 11s - loss: 0.0059 - accuracy: 0.9622 - val_loss: 0.0499 - val_accuracy: 0.7075 - lr: 0.0010 - 11s/epoch - 189ms/step
Epoch 35/100
59/59 - 11s - loss: 0.0058 - accuracy: 0.9630 - val_loss: 0.0502 - val_accuracy: 0.7065 - lr: 0.0010 - 11s/epoch - 187ms/step
Epoch 36/100
59/59 - 11s - loss: 0.0055 - accuracy: 0.9647 - val_loss: 0.0467 - val_accuracy: 0.7266 - lr: 0.0010 - 11s/epoch - 186ms/step
Epoch 37/100
59/59 - 11s - loss: 0.0056 - accuracy: 0.9643 - val_loss: 0.0481 - val_accuracy: 0.7194 - lr: 0.0010 - 11s/epoch - 187ms/step
Epoch 38/100
59/59 - 11s - loss: 0.0057 - accuracy: 0.9639 - val_loss: 0.0497 - val_accuracy: 0.7082 - lr: 0.0010 - 11s/epoch - 188ms/step
Epoch 39/100
59/59 - 11s - loss: 0.0058 - accuracy: 0.9635 - val_loss: 0.0482 - val_accuracy: 0.7178 - lr: 0.0010 - 11s/epoch - 187ms/step
Epoch 40/100
59/59 - 11s - loss: 0.0056 - accuracy: 0.9640 - val_loss: 0.0512 - val_accuracy: 0.6989 - lr: 0.0010 - 11s/epoch - 184ms/step
Epoch 41/100
59/59 - 11s - loss: 0.0056 - accuracy: 0.9643 - val_loss: 0.0494 - val_accuracy: 0.7115 - lr: 0.0010 - 11s/epoch - 187ms/step
Epoch 42/100
59/59 - 11s - loss: 0.0056 - accuracy: 0.9636 - val_loss: 0.0470 - val_accuracy: 0.7252 - lr: 0.0010 - 11s/epoch - 186ms/step
Epoch 43/100
59/59 - 11s - loss: 0.0057 - accuracy: 0.9637 - val_loss: 0.0478 - val_accuracy: 0.7189 - lr: 0.0010 - 11s/epoch - 186ms/step
Epoch 44/100
59/59 - 11s - loss: 0.0056 - accuracy: 0.9645 - val_loss: 0.0486 - val_accuracy: 0.7167 - lr: 0.0010 - 11s/epoch - 187ms/step
Epoch 45/100
59/59 - 11s - loss: 0.0058 - accuracy: 0.9629 - val_loss: 0.0466 - val_accuracy: 0.7288 - lr: 0.0010 - 11s/epoch - 186ms/step
Epoch 46/100
59/59 - 11s - loss: 0.0057 - accuracy: 0.9626 - val_loss: 0.0491 - val_accuracy: 0.7125 - lr: 0.0010 - 11s/epoch - 187ms/step
Epoch 47/100
59/59 - 11s - loss: 0.0060 - accuracy: 0.9612 - val_loss: 0.0477 - val_accuracy: 0.7198 - lr: 0.0010 - 11s/epoch - 186ms/step
Epoch 48/100
59/59 - 11s - loss: 0.0059 - accuracy: 0.9619 - val_loss: 0.0486 - val_accuracy: 0.7151 - lr: 0.0010 - 11s/epoch - 187ms/step
Epoch 49/100
59/59 - 11s - loss: 0.0058 - accuracy: 0.9628 - val_loss: 0.0469 - val_accuracy: 0.7252 - lr: 0.0010 - 11s/epoch - 187ms/step
Epoch 50/100
59/59 - 11s - loss: 0.0060 - accuracy: 0.9612 - val_loss: 0.0477 - val_accuracy: 0.7215 - lr: 0.0010 - 11s/epoch - 186ms/step
Epoch 51/100
59/59 - 11s - loss: 0.0056 - accuracy: 0.9637 - val_loss: 0.0486 - val_accuracy: 0.7153 - lr: 0.0010 - 11s/epoch - 188ms/step
Epoch 52/100
59/59 - 11s - loss: 0.0057 - accuracy: 0.9638 - val_loss: 0.0477 - val_accuracy: 0.7202 - lr: 0.0010 - 11s/epoch - 186ms/step
Epoch 53/100
59/59 - 11s - loss: 0.0057 - accuracy: 0.9632 - val_loss: 0.0478 - val_accuracy: 0.7211 - lr: 0.0010 - 11s/epoch - 186ms/step
Epoch 54/100
59/59 - 11s - loss: 0.0058 - accuracy: 0.9632 - val_loss: 0.0479 - val_accuracy: 0.7199 - lr: 0.0010 - 11s/epoch - 187ms/step
Epoch 55/100
59/59 - 11s - loss: 0.0057 - accuracy: 0.9635 - val_loss: 0.0498 - val_accuracy: 0.7083 - lr: 0.0010 - 11s/epoch - 186ms/step
Epoch 56/100
59/59 - 11s - loss: 0.0059 - accuracy: 0.9620 - val_loss: 0.0470 - val_accuracy: 0.7245 - lr: 0.0010 - 11s/epoch - 187ms/step
Epoch 57/100
59/59 - 11s - loss: 0.0055 - accuracy: 0.9641 - val_loss: 0.0481 - val_accuracy: 0.7151 - lr: 0.0010 - 11s/epoch - 187ms/step
Epoch 58/100
59/59 - 11s - loss: 0.0056 - accuracy: 0.9644 - val_loss: 0.0487 - val_accuracy: 0.7125 - lr: 0.0010 - 11s/epoch - 187ms/step
Epoch 59/100
59/59 - 11s - loss: 0.0057 - accuracy: 0.9631 - val_loss: 0.0468 - val_accuracy: 0.7266 - lr: 0.0010 - 11s/epoch - 186ms/step
Epoch 60/100
59/59 - 11s - loss: 0.0056 - accuracy: 0.9638 - val_loss: 0.0470 - val_accuracy: 0.7232 - lr: 0.0010 - 11s/epoch - 188ms/step
Epoch 61/100
59/59 - 11s - loss: 0.0055 - accuracy: 0.9646 - val_loss: 0.0468 - val_accuracy: 0.7254 - lr: 0.0010 - 11s/epoch - 187ms/step
Epoch 62/100
59/59 - 11s - loss: 0.0057 - accuracy: 0.9640 - val_loss: 0.0481 - val_accuracy: 0.7151 - lr: 0.0010 - 11s/epoch - 185ms/step
Epoch 63/100
59/59 - 11s - loss: 0.0057 - accuracy: 0.9626 - val_loss: 0.0473 - val_accuracy: 0.7213 - lr: 0.0010 - 11s/epoch - 186ms/step
Epoch 64/100
59/59 - 11s - loss: 0.0057 - accuracy: 0.9634 - val_loss: 0.0480 - val_accuracy: 0.7168 - lr: 0.0010 - 11s/epoch - 186ms/step
Epoch 65/100
59/59 - 11s - loss: 0.0055 - accuracy: 0.9652 - val_loss: 0.0473 - val_accuracy: 0.7197 - lr: 0.0010 - 11s/epoch - 186ms/step
Epoch 66/100
59/59 - 11s - loss: 0.0056 - accuracy: 0.9640 - val_loss: 0.0496 - val_accuracy: 0.7093 - lr: 0.0010 - 11s/epoch - 186ms/step
Epoch 67/100
59/59 - 11s - loss: 0.0056 - accuracy: 0.9636 - val_loss: 0.0479 - val_accuracy: 0.7185 - lr: 0.0010 - 11s/epoch - 186ms/step
Epoch 68/100
59/59 - 11s - loss: 0.0057 - accuracy: 0.9634 - val_loss: 0.0480 - val_accuracy: 0.7197 - lr: 0.0010 - 11s/epoch - 185ms/step
Epoch 69/100
59/59 - 11s - loss: 0.0058 - accuracy: 0.9627 - val_loss: 0.0464 - val_accuracy: 0.7275 - lr: 0.0010 - 11s/epoch - 186ms/step
Epoch 70/100
59/59 - 11s - loss: 0.0058 - accuracy: 0.9627 - val_loss: 0.0486 - val_accuracy: 0.7164 - lr: 0.0010 - 11s/epoch - 186ms/step
Epoch 71/100
59/59 - 11s - loss: 0.0058 - accuracy: 0.9630 - val_loss: 0.0479 - val_accuracy: 0.7178 - lr: 0.0010 - 11s/epoch - 185ms/step
Epoch 72/100
59/59 - 11s - loss: 0.0058 - accuracy: 0.9626 - val_loss: 0.0471 - val_accuracy: 0.7255 - lr: 0.0010 - 11s/epoch - 185ms/step
Epoch 73/100
59/59 - 11s - loss: 0.0056 - accuracy: 0.9641 - val_loss: 0.0475 - val_accuracy: 0.7217 - lr: 0.0010 - 11s/epoch - 188ms/step
Epoch 74/100
59/59 - 11s - loss: 0.0056 - accuracy: 0.9638 - val_loss: 0.0489 - val_accuracy: 0.7123 - lr: 0.0010 - 11s/epoch - 186ms/step
Epoch 75/100
59/59 - 11s - loss: 0.0057 - accuracy: 0.9637 - val_loss: 0.0492 - val_accuracy: 0.7126 - lr: 0.0010 - 11s/epoch - 185ms/step
Epoch 76/100
59/59 - 11s - loss: 0.0055 - accuracy: 0.9645 - val_loss: 0.0484 - val_accuracy: 0.7149 - lr: 0.0010 - 11s/epoch - 184ms/step
Epoch 77/100
59/59 - 11s - loss: 0.0057 - accuracy: 0.9635 - val_loss: 0.0478 - val_accuracy: 0.7167 - lr: 0.0010 - 11s/epoch - 187ms/step
Epoch 78/100
59/59 - 11s - loss: 0.0058 - accuracy: 0.9624 - val_loss: 0.0467 - val_accuracy: 0.7267 - lr: 0.0010 - 11s/epoch - 190ms/step
Epoch 79/100
59/59 - 11s - loss: 0.0058 - accuracy: 0.9630 - val_loss: 0.0474 - val_accuracy: 0.7234 - lr: 0.0010 - 11s/epoch - 185ms/step
Epoch 80/100
59/59 - 11s - loss: 0.0056 - accuracy: 0.9633 - val_loss: 0.0463 - val_accuracy: 0.7288 - lr: 0.0010 - 11s/epoch - 188ms/step
Epoch 81/100
59/59 - 11s - loss: 0.0056 - accuracy: 0.9638 - val_loss: 0.0482 - val_accuracy: 0.7178 - lr: 0.0010 - 11s/epoch - 185ms/step
Epoch 82/100
59/59 - 11s - loss: 0.0058 - accuracy: 0.9628 - val_loss: 0.0485 - val_accuracy: 0.7163 - lr: 0.0010 - 11s/epoch - 187ms/step
Epoch 83/100
59/59 - 11s - loss: 0.0057 - accuracy: 0.9636 - val_loss: 0.0484 - val_accuracy: 0.7159 - lr: 0.0010 - 11s/epoch - 190ms/step
Epoch 84/100
59/59 - 11s - loss: 0.0059 - accuracy: 0.9620 - val_loss: 0.0468 - val_accuracy: 0.7239 - lr: 0.0010 - 11s/epoch - 188ms/step
Epoch 85/100
59/59 - 11s - loss: 0.0057 - accuracy: 0.9635 - val_loss: 0.0466 - val_accuracy: 0.7267 - lr: 0.0010 - 11s/epoch - 188ms/step
Epoch 86/100
59/59 - 11s - loss: 0.0057 - accuracy: 0.9634 - val_loss: 0.0485 - val_accuracy: 0.7168 - lr: 0.0010 - 11s/epoch - 187ms/step
Epoch 87/100
59/59 - 11s - loss: 0.0054 - accuracy: 0.9657 - val_loss: 0.0484 - val_accuracy: 0.7140 - lr: 0.0010 - 11s/epoch - 187ms/step
Epoch 88/100
59/59 - 11s - loss: 0.0057 - accuracy: 0.9633 - val_loss: 0.0477 - val_accuracy: 0.7185 - lr: 0.0010 - 11s/epoch - 186ms/step
Epoch 89/100
59/59 - 11s - loss: 0.0054 - accuracy: 0.9651 - val_loss: 0.0485 - val_accuracy: 0.7140 - lr: 0.0010 - 11s/epoch - 187ms/step
Epoch 90/100
59/59 - 11s - loss: 0.0056 - accuracy: 0.9637 - val_loss: 0.0482 - val_accuracy: 0.7183 - lr: 0.0010 - 11s/epoch - 187ms/step
Epoch 91/100
59/59 - 11s - loss: 0.0057 - accuracy: 0.9634 - val_loss: 0.0476 - val_accuracy: 0.7203 - lr: 0.0010 - 11s/epoch - 188ms/step
Epoch 92/100
59/59 - 11s - loss: 0.0057 - accuracy: 0.9629 - val_loss: 0.0482 - val_accuracy: 0.7179 - lr: 0.0010 - 11s/epoch - 188ms/step
Epoch 93/100
59/59 - 11s - loss: 0.0056 - accuracy: 0.9643 - val_loss: 0.0479 - val_accuracy: 0.7188 - lr: 0.0010 - 11s/epoch - 185ms/step
Epoch 94/100
59/59 - 11s - loss: 0.0055 - accuracy: 0.9648 - val_loss: 0.0473 - val_accuracy: 0.7209 - lr: 0.0010 - 11s/epoch - 184ms/step
Epoch 95/100
59/59 - 11s - loss: 0.0059 - accuracy: 0.9619 - val_loss: 0.0479 - val_accuracy: 0.7196 - lr: 0.0010 - 11s/epoch - 187ms/step
Epoch 96/100
59/59 - 11s - loss: 0.0056 - accuracy: 0.9637 - val_loss: 0.0473 - val_accuracy: 0.7244 - lr: 0.0010 - 11s/epoch - 186ms/step
Epoch 97/100
59/59 - 11s - loss: 0.0056 - accuracy: 0.9636 - val_loss: 0.0475 - val_accuracy: 0.7211 - lr: 0.0010 - 11s/epoch - 186ms/step
Epoch 98/100
59/59 - 11s - loss: 0.0054 - accuracy: 0.9654 - val_loss: 0.0476 - val_accuracy: 0.7215 - lr: 0.0010 - 11s/epoch - 185ms/step
Epoch 99/100
59/59 - 11s - loss: 0.0056 - accuracy: 0.9644 - val_loss: 0.0450 - val_accuracy: 0.7352 - lr: 0.0010 - 11s/epoch - 185ms/step
Epoch 100/100
59/59 - 11s - loss: 0.0058 - accuracy: 0.9627 - val_loss: 0.0477 - val_accuracy: 0.7207 - lr: 0.0010 - 11s/epoch - 187ms/step
fitting with batch size: 2500
Epoch 1/100
36/36 - 13s - loss: 0.0053 - accuracy: 0.9661 - val_loss: 0.0478 - val_accuracy: 0.7204 - lr: 0.0010 - 13s/epoch - 367ms/step
Epoch 2/100
36/36 - 11s - loss: 0.0049 - accuracy: 0.9687 - val_loss: 0.0479 - val_accuracy: 0.7193 - lr: 0.0010 - 11s/epoch - 296ms/step
Epoch 3/100
36/36 - 11s - loss: 0.0049 - accuracy: 0.9691 - val_loss: 0.0502 - val_accuracy: 0.7058 - lr: 0.0010 - 11s/epoch - 298ms/step
Epoch 4/100
36/36 - 11s - loss: 0.0049 - accuracy: 0.9694 - val_loss: 0.0477 - val_accuracy: 0.7211 - lr: 0.0010 - 11s/epoch - 297ms/step
Epoch 5/100
36/36 - 11s - loss: 0.0049 - accuracy: 0.9687 - val_loss: 0.0474 - val_accuracy: 0.7232 - lr: 0.0010 - 11s/epoch - 299ms/step
Epoch 6/100
36/36 - 11s - loss: 0.0047 - accuracy: 0.9700 - val_loss: 0.0472 - val_accuracy: 0.7229 - lr: 0.0010 - 11s/epoch - 300ms/step
Epoch 7/100
36/36 - 11s - loss: 0.0047 - accuracy: 0.9703 - val_loss: 0.0475 - val_accuracy: 0.7215 - lr: 0.0010 - 11s/epoch - 300ms/step
Epoch 8/100
36/36 - 11s - loss: 0.0048 - accuracy: 0.9697 - val_loss: 0.0499 - val_accuracy: 0.7079 - lr: 0.0010 - 11s/epoch - 298ms/step
Epoch 9/100
36/36 - 11s - loss: 0.0047 - accuracy: 0.9698 - val_loss: 0.0480 - val_accuracy: 0.7200 - lr: 0.0010 - 11s/epoch - 299ms/step
Epoch 10/100
36/36 - 11s - loss: 0.0048 - accuracy: 0.9699 - val_loss: 0.0493 - val_accuracy: 0.7142 - lr: 0.0010 - 11s/epoch - 299ms/step
Epoch 11/100
36/36 - 11s - loss: 0.0050 - accuracy: 0.9683 - val_loss: 0.0491 - val_accuracy: 0.7109 - lr: 0.0010 - 11s/epoch - 299ms/step
Epoch 12/100
36/36 - 11s - loss: 0.0047 - accuracy: 0.9699 - val_loss: 0.0485 - val_accuracy: 0.7156 - lr: 0.0010 - 11s/epoch - 301ms/step
Epoch 13/100
36/36 - 11s - loss: 0.0045 - accuracy: 0.9719 - val_loss: 0.0478 - val_accuracy: 0.7201 - lr: 0.0010 - 11s/epoch - 296ms/step
Epoch 14/100
36/36 - 11s - loss: 0.0045 - accuracy: 0.9717 - val_loss: 0.0490 - val_accuracy: 0.7118 - lr: 0.0010 - 11s/epoch - 298ms/step
Epoch 15/100
36/36 - 11s - loss: 0.0046 - accuracy: 0.9712 - val_loss: 0.0492 - val_accuracy: 0.7112 - lr: 0.0010 - 11s/epoch - 299ms/step
Epoch 16/100
36/36 - 11s - loss: 0.0048 - accuracy: 0.9700 - val_loss: 0.0483 - val_accuracy: 0.7183 - lr: 0.0010 - 11s/epoch - 296ms/step
Epoch 17/100
36/36 - 11s - loss: 0.0044 - accuracy: 0.9723 - val_loss: 0.0478 - val_accuracy: 0.7215 - lr: 0.0010 - 11s/epoch - 297ms/step
Epoch 18/100
36/36 - 11s - loss: 0.0043 - accuracy: 0.9733 - val_loss: 0.0481 - val_accuracy: 0.7196 - lr: 0.0010 - 11s/epoch - 297ms/step
Epoch 19/100
36/36 - 11s - loss: 0.0044 - accuracy: 0.9723 - val_loss: 0.0486 - val_accuracy: 0.7150 - lr: 0.0010 - 11s/epoch - 299ms/step
Epoch 20/100
36/36 - 11s - loss: 0.0048 - accuracy: 0.9697 - val_loss: 0.0480 - val_accuracy: 0.7199 - lr: 0.0010 - 11s/epoch - 298ms/step
Epoch 21/100
36/36 - 11s - loss: 0.0043 - accuracy: 0.9729 - val_loss: 0.0481 - val_accuracy: 0.7191 - lr: 0.0010 - 11s/epoch - 296ms/step
Epoch 22/100
36/36 - 11s - loss: 0.0042 - accuracy: 0.9733 - val_loss: 0.0495 - val_accuracy: 0.7107 - lr: 0.0010 - 11s/epoch - 296ms/step
Epoch 23/100
36/36 - 11s - loss: 0.0044 - accuracy: 0.9726 - val_loss: 0.0482 - val_accuracy: 0.7186 - lr: 0.0010 - 11s/epoch - 295ms/step
Epoch 24/100
36/36 - 11s - loss: 0.0042 - accuracy: 0.9734 - val_loss: 0.0485 - val_accuracy: 0.7175 - lr: 0.0010 - 11s/epoch - 298ms/step
Epoch 25/100
36/36 - 11s - loss: 0.0042 - accuracy: 0.9734 - val_loss: 0.0480 - val_accuracy: 0.7177 - lr: 0.0010 - 11s/epoch - 299ms/step
Epoch 26/100
36/36 - 11s - loss: 0.0044 - accuracy: 0.9725 - val_loss: 0.0480 - val_accuracy: 0.7188 - lr: 0.0010 - 11s/epoch - 301ms/step
Epoch 27/100
36/36 - 11s - loss: 0.0042 - accuracy: 0.9735 - val_loss: 0.0486 - val_accuracy: 0.7148 - lr: 0.0010 - 11s/epoch - 300ms/step
Epoch 28/100
36/36 - 11s - loss: 0.0041 - accuracy: 0.9744 - val_loss: 0.0484 - val_accuracy: 0.7176 - lr: 0.0010 - 11s/epoch - 297ms/step
Epoch 29/100
36/36 - 11s - loss: 0.0042 - accuracy: 0.9738 - val_loss: 0.0493 - val_accuracy: 0.7111 - lr: 0.0010 - 11s/epoch - 298ms/step
Epoch 30/100
36/36 - 11s - loss: 0.0044 - accuracy: 0.9725 - val_loss: 0.0480 - val_accuracy: 0.7204 - lr: 0.0010 - 11s/epoch - 300ms/step
Epoch 31/100
36/36 - 11s - loss: 0.0041 - accuracy: 0.9745 - val_loss: 0.0478 - val_accuracy: 0.7212 - lr: 0.0010 - 11s/epoch - 300ms/step
Epoch 32/100
36/36 - 11s - loss: 0.0043 - accuracy: 0.9729 - val_loss: 0.0487 - val_accuracy: 0.7164 - lr: 0.0010 - 11s/epoch - 296ms/step
Epoch 33/100
36/36 - 11s - loss: 0.0044 - accuracy: 0.9722 - val_loss: 0.0481 - val_accuracy: 0.7183 - lr: 0.0010 - 11s/epoch - 298ms/step
Epoch 34/100
36/36 - 11s - loss: 0.0042 - accuracy: 0.9740 - val_loss: 0.0494 - val_accuracy: 0.7117 - lr: 0.0010 - 11s/epoch - 295ms/step
Epoch 35/100
36/36 - 11s - loss: 0.0044 - accuracy: 0.9723 - val_loss: 0.0487 - val_accuracy: 0.7169 - lr: 0.0010 - 11s/epoch - 304ms/step
Epoch 36/100
36/36 - 11s - loss: 0.0042 - accuracy: 0.9737 - val_loss: 0.0482 - val_accuracy: 0.7186 - lr: 0.0010 - 11s/epoch - 298ms/step
Epoch 37/100
36/36 - 11s - loss: 0.0045 - accuracy: 0.9722 - val_loss: 0.0481 - val_accuracy: 0.7191 - lr: 0.0010 - 11s/epoch - 298ms/step
Epoch 38/100
36/36 - 11s - loss: 0.0041 - accuracy: 0.9745 - val_loss: 0.0491 - val_accuracy: 0.7146 - lr: 0.0010 - 11s/epoch - 295ms/step
Epoch 39/100
36/36 - 11s - loss: 0.0044 - accuracy: 0.9723 - val_loss: 0.0475 - val_accuracy: 0.7220 - lr: 0.0010 - 11s/epoch - 297ms/step
Epoch 40/100
36/36 - 11s - loss: 0.0041 - accuracy: 0.9741 - val_loss: 0.0479 - val_accuracy: 0.7202 - lr: 0.0010 - 11s/epoch - 300ms/step
Epoch 41/100
36/36 - 11s - loss: 0.0041 - accuracy: 0.9747 - val_loss: 0.0478 - val_accuracy: 0.7217 - lr: 0.0010 - 11s/epoch - 299ms/step
Epoch 42/100
36/36 - 11s - loss: 0.0042 - accuracy: 0.9741 - val_loss: 0.0485 - val_accuracy: 0.7162 - lr: 0.0010 - 11s/epoch - 301ms/step
Epoch 43/100
36/36 - 11s - loss: 0.0043 - accuracy: 0.9729 - val_loss: 0.0489 - val_accuracy: 0.7161 - lr: 0.0010 - 11s/epoch - 298ms/step
Epoch 44/100
36/36 - 11s - loss: 0.0041 - accuracy: 0.9746 - val_loss: 0.0489 - val_accuracy: 0.7132 - lr: 0.0010 - 11s/epoch - 299ms/step
Epoch 45/100
36/36 - 11s - loss: 0.0040 - accuracy: 0.9752 - val_loss: 0.0496 - val_accuracy: 0.7114 - lr: 0.0010 - 11s/epoch - 298ms/step
Epoch 46/100
36/36 - 11s - loss: 0.0041 - accuracy: 0.9744 - val_loss: 0.0483 - val_accuracy: 0.7179 - lr: 0.0010 - 11s/epoch - 296ms/step
Epoch 47/100
36/36 - 11s - loss: 0.0041 - accuracy: 0.9746 - val_loss: 0.0483 - val_accuracy: 0.7194 - lr: 0.0010 - 11s/epoch - 299ms/step
Epoch 48/100
36/36 - 11s - loss: 0.0041 - accuracy: 0.9746 - val_loss: 0.0491 - val_accuracy: 0.7153 - lr: 0.0010 - 11s/epoch - 297ms/step
Epoch 49/100
36/36 - 11s - loss: 0.0045 - accuracy: 0.9721 - val_loss: 0.0496 - val_accuracy: 0.7104 - lr: 0.0010 - 11s/epoch - 297ms/step
Epoch 50/100
36/36 - 11s - loss: 0.0042 - accuracy: 0.9738 - val_loss: 0.0481 - val_accuracy: 0.7209 - lr: 0.0010 - 11s/epoch - 297ms/step
Epoch 51/100
36/36 - 11s - loss: 0.0040 - accuracy: 0.9751 - val_loss: 0.0493 - val_accuracy: 0.7151 - lr: 0.0010 - 11s/epoch - 300ms/step
Epoch 52/100
36/36 - 11s - loss: 0.0041 - accuracy: 0.9745 - val_loss: 0.0482 - val_accuracy: 0.7194 - lr: 0.0010 - 11s/epoch - 296ms/step
Epoch 53/100
36/36 - 11s - loss: 0.0045 - accuracy: 0.9711 - val_loss: 0.0494 - val_accuracy: 0.7142 - lr: 0.0010 - 11s/epoch - 297ms/step
Epoch 54/100
36/36 - 11s - loss: 0.0047 - accuracy: 0.9701 - val_loss: 0.0493 - val_accuracy: 0.7134 - lr: 0.0010 - 11s/epoch - 300ms/step
Epoch 55/100
36/36 - 11s - loss: 0.0041 - accuracy: 0.9743 - val_loss: 0.0492 - val_accuracy: 0.7139 - lr: 0.0010 - 11s/epoch - 298ms/step
Epoch 56/100
36/36 - 11s - loss: 0.0044 - accuracy: 0.9723 - val_loss: 0.0491 - val_accuracy: 0.7130 - lr: 0.0010 - 11s/epoch - 297ms/step
Epoch 57/100
36/36 - 11s - loss: 0.0042 - accuracy: 0.9734 - val_loss: 0.0502 - val_accuracy: 0.7082 - lr: 0.0010 - 11s/epoch - 301ms/step
Epoch 58/100
36/36 - 11s - loss: 0.0044 - accuracy: 0.9720 - val_loss: 0.0489 - val_accuracy: 0.7135 - lr: 0.0010 - 11s/epoch - 300ms/step
Epoch 59/100
36/36 - 11s - loss: 0.0042 - accuracy: 0.9739 - val_loss: 0.0494 - val_accuracy: 0.7127 - lr: 0.0010 - 11s/epoch - 296ms/step
Epoch 60/100
36/36 - 11s - loss: 0.0040 - accuracy: 0.9757 - val_loss: 0.0490 - val_accuracy: 0.7137 - lr: 0.0010 - 11s/epoch - 299ms/step
Epoch 61/100
36/36 - 11s - loss: 0.0042 - accuracy: 0.9739 - val_loss: 0.0493 - val_accuracy: 0.7133 - lr: 0.0010 - 11s/epoch - 299ms/step
Epoch 62/100
36/36 - 11s - loss: 0.0042 - accuracy: 0.9737 - val_loss: 0.0491 - val_accuracy: 0.7151 - lr: 0.0010 - 11s/epoch - 296ms/step
Epoch 63/100
36/36 - 11s - loss: 0.0040 - accuracy: 0.9753 - val_loss: 0.0485 - val_accuracy: 0.7175 - lr: 0.0010 - 11s/epoch - 298ms/step
Epoch 64/100
36/36 - 11s - loss: 0.0040 - accuracy: 0.9748 - val_loss: 0.0493 - val_accuracy: 0.7140 - lr: 0.0010 - 11s/epoch - 298ms/step
Epoch 65/100
36/36 - 11s - loss: 0.0040 - accuracy: 0.9750 - val_loss: 0.0496 - val_accuracy: 0.7109 - lr: 0.0010 - 11s/epoch - 298ms/step
Epoch 66/100
36/36 - 11s - loss: 0.0042 - accuracy: 0.9742 - val_loss: 0.0501 - val_accuracy: 0.7086 - lr: 0.0010 - 11s/epoch - 301ms/step
Epoch 67/100
36/36 - 11s - loss: 0.0039 - accuracy: 0.9755 - val_loss: 0.0499 - val_accuracy: 0.7086 - lr: 0.0010 - 11s/epoch - 296ms/step
Epoch 68/100
36/36 - 11s - loss: 0.0040 - accuracy: 0.9752 - val_loss: 0.0496 - val_accuracy: 0.7123 - lr: 0.0010 - 11s/epoch - 297ms/step
Epoch 69/100
36/36 - 11s - loss: 0.0040 - accuracy: 0.9749 - val_loss: 0.0488 - val_accuracy: 0.7167 - lr: 0.0010 - 11s/epoch - 296ms/step
Epoch 70/100
36/36 - 11s - loss: 0.0039 - accuracy: 0.9756 - val_loss: 0.0495 - val_accuracy: 0.7135 - lr: 0.0010 - 11s/epoch - 297ms/step
Epoch 71/100
36/36 - 11s - loss: 0.0040 - accuracy: 0.9751 - val_loss: 0.0501 - val_accuracy: 0.7095 - lr: 0.0010 - 11s/epoch - 301ms/step
Epoch 72/100
36/36 - 11s - loss: 0.0040 - accuracy: 0.9750 - val_loss: 0.0499 - val_accuracy: 0.7114 - lr: 0.0010 - 11s/epoch - 296ms/step
Epoch 73/100
36/36 - 11s - loss: 0.0040 - accuracy: 0.9751 - val_loss: 0.0499 - val_accuracy: 0.7102 - lr: 0.0010 - 11s/epoch - 297ms/step
Epoch 74/100
36/36 - 11s - loss: 0.0039 - accuracy: 0.9759 - val_loss: 0.0504 - val_accuracy: 0.7083 - lr: 0.0010 - 11s/epoch - 298ms/step
Epoch 75/100
36/36 - 11s - loss: 0.0039 - accuracy: 0.9755 - val_loss: 0.0501 - val_accuracy: 0.7095 - lr: 0.0010 - 11s/epoch - 297ms/step
Epoch 76/100
36/36 - 11s - loss: 0.0040 - accuracy: 0.9750 - val_loss: 0.0499 - val_accuracy: 0.7099 - lr: 0.0010 - 11s/epoch - 298ms/step
Epoch 77/100
36/36 - 11s - loss: 0.0040 - accuracy: 0.9755 - val_loss: 0.0495 - val_accuracy: 0.7127 - lr: 0.0010 - 11s/epoch - 296ms/step
Epoch 78/100
36/36 - 11s - loss: 0.0041 - accuracy: 0.9745 - val_loss: 0.0493 - val_accuracy: 0.7141 - lr: 0.0010 - 11s/epoch - 298ms/step
Epoch 79/100
36/36 - 11s - loss: 0.0042 - accuracy: 0.9741 - val_loss: 0.0491 - val_accuracy: 0.7153 - lr: 0.0010 - 11s/epoch - 302ms/step
Epoch 80/100
36/36 - 11s - loss: 0.0040 - accuracy: 0.9751 - val_loss: 0.0493 - val_accuracy: 0.7145 - lr: 0.0010 - 11s/epoch - 299ms/step
Epoch 81/100
36/36 - 11s - loss: 0.0041 - accuracy: 0.9748 - val_loss: 0.0483 - val_accuracy: 0.7197 - lr: 0.0010 - 11s/epoch - 298ms/step
Epoch 82/100
36/36 - 11s - loss: 0.0040 - accuracy: 0.9748 - val_loss: 0.0495 - val_accuracy: 0.7120 - lr: 0.0010 - 11s/epoch - 295ms/step
Epoch 83/100
36/36 - 11s - loss: 0.0041 - accuracy: 0.9741 - val_loss: 0.0492 - val_accuracy: 0.7135 - lr: 0.0010 - 11s/epoch - 299ms/step
Epoch 84/100
36/36 - 11s - loss: 0.0039 - accuracy: 0.9755 - val_loss: 0.0498 - val_accuracy: 0.7119 - lr: 0.0010 - 11s/epoch - 299ms/step
Epoch 85/100
36/36 - 11s - loss: 0.0041 - accuracy: 0.9744 - val_loss: 0.0491 - val_accuracy: 0.7149 - lr: 0.0010 - 11s/epoch - 295ms/step
Epoch 86/100
36/36 - 11s - loss: 0.0046 - accuracy: 0.9709 - val_loss: 0.0495 - val_accuracy: 0.7119 - lr: 0.0010 - 11s/epoch - 295ms/step
Epoch 87/100
36/36 - 11s - loss: 0.0041 - accuracy: 0.9743 - val_loss: 0.0498 - val_accuracy: 0.7097 - lr: 0.0010 - 11s/epoch - 297ms/step
Epoch 88/100
36/36 - 11s - loss: 0.0040 - accuracy: 0.9748 - val_loss: 0.0491 - val_accuracy: 0.7151 - lr: 0.0010 - 11s/epoch - 300ms/step
Epoch 89/100
36/36 - 11s - loss: 0.0039 - accuracy: 0.9753 - val_loss: 0.0495 - val_accuracy: 0.7115 - lr: 0.0010 - 11s/epoch - 297ms/step
Epoch 90/100
36/36 - 11s - loss: 0.0040 - accuracy: 0.9754 - val_loss: 0.0484 - val_accuracy: 0.7188 - lr: 0.0010 - 11s/epoch - 295ms/step
Epoch 91/100
36/36 - 11s - loss: 0.0041 - accuracy: 0.9746 - val_loss: 0.0493 - val_accuracy: 0.7130 - lr: 0.0010 - 11s/epoch - 297ms/step
Epoch 92/100
36/36 - 11s - loss: 0.0039 - accuracy: 0.9755 - val_loss: 0.0491 - val_accuracy: 0.7153 - lr: 0.0010 - 11s/epoch - 298ms/step
Epoch 93/100
36/36 - 11s - loss: 0.0040 - accuracy: 0.9753 - val_loss: 0.0488 - val_accuracy: 0.7169 - lr: 0.0010 - 11s/epoch - 299ms/step
Epoch 94/100
36/36 - 11s - loss: 0.0040 - accuracy: 0.9751 - val_loss: 0.0483 - val_accuracy: 0.7204 - lr: 0.0010 - 11s/epoch - 299ms/step
Epoch 95/100
36/36 - 14s - loss: 0.0040 - accuracy: 0.9751 - val_loss: 0.0489 - val_accuracy: 0.7152 - lr: 0.0010 - 14s/epoch - 377ms/step
Epoch 96/100
36/36 - 13s - loss: 0.0038 - accuracy: 0.9761 - val_loss: 0.0491 - val_accuracy: 0.7155 - lr: 0.0010 - 13s/epoch - 351ms/step
Epoch 97/100
36/36 - 14s - loss: 0.0039 - accuracy: 0.9757 - val_loss: 0.0497 - val_accuracy: 0.7120 - lr: 0.0010 - 14s/epoch - 399ms/step
Epoch 98/100
36/36 - 14s - loss: 0.0040 - accuracy: 0.9753 - val_loss: 0.0500 - val_accuracy: 0.7094 - lr: 0.0010 - 14s/epoch - 398ms/step
Epoch 99/100
36/36 - 15s - loss: 0.0040 - accuracy: 0.9751 - val_loss: 0.0494 - val_accuracy: 0.7146 - lr: 0.0010 - 15s/epoch - 404ms/step
Epoch 100/100
36/36 - 12s - loss: 0.0041 - accuracy: 0.9745 - val_loss: 0.0492 - val_accuracy: 0.7153 - lr: 0.0010 - 12s/epoch - 345ms/step
Loss: kullback_leibler_divergence
Epoch number: 75
fitting with batch size: 1500
Epoch 1/75
59/59 - 15s - loss: 0.1243 - accuracy: 0.9649 - val_loss: 1.4653 - val_accuracy: 0.7183 - lr: 0.0010 - 15s/epoch - 254ms/step
Epoch 2/75
59/59 - 12s - loss: 0.1246 - accuracy: 0.9648 - val_loss: 1.4827 - val_accuracy: 0.7049 - lr: 0.0010 - 12s/epoch - 196ms/step
Epoch 3/75
59/59 - 12s - loss: 0.1151 - accuracy: 0.9665 - val_loss: 1.4006 - val_accuracy: 0.7158 - lr: 0.0010 - 12s/epoch - 198ms/step
Epoch 4/75
59/59 - 12s - loss: 0.1114 - accuracy: 0.9685 - val_loss: 1.3482 - val_accuracy: 0.7279 - lr: 0.0010 - 12s/epoch - 199ms/step
Epoch 5/75
59/59 - 12s - loss: 0.1084 - accuracy: 0.9681 - val_loss: 1.4028 - val_accuracy: 0.7057 - lr: 0.0010 - 12s/epoch - 195ms/step
Epoch 6/75
59/59 - 12s - loss: 0.1086 - accuracy: 0.9684 - val_loss: 1.3615 - val_accuracy: 0.7102 - lr: 0.0010 - 12s/epoch - 198ms/step
Epoch 7/75
59/59 - 15s - loss: 0.1125 - accuracy: 0.9663 - val_loss: 1.3133 - val_accuracy: 0.7174 - lr: 0.0010 - 15s/epoch - 250ms/step
Epoch 8/75
59/59 - 15s - loss: 0.1089 - accuracy: 0.9679 - val_loss: 1.3384 - val_accuracy: 0.7115 - lr: 0.0010 - 15s/epoch - 261ms/step
Epoch 9/75
59/59 - 14s - loss: 0.1088 - accuracy: 0.9675 - val_loss: 1.3103 - val_accuracy: 0.7180 - lr: 0.0010 - 14s/epoch - 245ms/step
Epoch 10/75
59/59 - 15s - loss: 0.1071 - accuracy: 0.9679 - val_loss: 1.2803 - val_accuracy: 0.7245 - lr: 0.0010 - 15s/epoch - 261ms/step
Epoch 11/75
59/59 - 14s - loss: 0.1104 - accuracy: 0.9668 - val_loss: 1.2792 - val_accuracy: 0.7202 - lr: 0.0010 - 14s/epoch - 245ms/step
Epoch 12/75
59/59 - 13s - loss: 0.1088 - accuracy: 0.9667 - val_loss: 1.3240 - val_accuracy: 0.7099 - lr: 0.0010 - 13s/epoch - 224ms/step
Epoch 13/75
59/59 - 15s - loss: 0.1088 - accuracy: 0.9672 - val_loss: 1.3007 - val_accuracy: 0.7069 - lr: 0.0010 - 15s/epoch - 251ms/step
Epoch 14/75
59/59 - 15s - loss: 0.1107 - accuracy: 0.9661 - val_loss: 1.3036 - val_accuracy: 0.7126 - lr: 0.0010 - 15s/epoch - 248ms/step
Epoch 15/75
59/59 - 16s - loss: 0.1095 - accuracy: 0.9672 - val_loss: 1.2647 - val_accuracy: 0.7225 - lr: 0.0010 - 16s/epoch - 267ms/step
Epoch 16/75
59/59 - 13s - loss: 0.1057 - accuracy: 0.9675 - val_loss: 1.2849 - val_accuracy: 0.7173 - lr: 0.0010 - 13s/epoch - 227ms/step
Epoch 17/75
59/59 - 14s - loss: 0.1073 - accuracy: 0.9671 - val_loss: 1.2901 - val_accuracy: 0.7179 - lr: 0.0010 - 14s/epoch - 232ms/step
Epoch 18/75
59/59 - 15s - loss: 0.1078 - accuracy: 0.9671 - val_loss: 1.2918 - val_accuracy: 0.7181 - lr: 0.0010 - 15s/epoch - 254ms/step
Epoch 19/75
59/59 - 15s - loss: 0.1086 - accuracy: 0.9671 - val_loss: 1.2457 - val_accuracy: 0.7252 - lr: 0.0010 - 15s/epoch - 260ms/step
Epoch 20/75
59/59 - 14s - loss: 0.1083 - accuracy: 0.9668 - val_loss: 1.2639 - val_accuracy: 0.7192 - lr: 0.0010 - 14s/epoch - 238ms/step
Epoch 21/75
59/59 - 16s - loss: 0.1072 - accuracy: 0.9672 - val_loss: 1.3516 - val_accuracy: 0.7009 - lr: 0.0010 - 16s/epoch - 263ms/step
Epoch 22/75
59/59 - 16s - loss: 0.1080 - accuracy: 0.9669 - val_loss: 1.2673 - val_accuracy: 0.7203 - lr: 0.0010 - 16s/epoch - 265ms/step
Epoch 23/75
59/59 - 15s - loss: 0.1073 - accuracy: 0.9675 - val_loss: 1.2634 - val_accuracy: 0.7212 - lr: 0.0010 - 15s/epoch - 255ms/step
Epoch 24/75
59/59 - 15s - loss: 0.1101 - accuracy: 0.9660 - val_loss: 1.2318 - val_accuracy: 0.7231 - lr: 0.0010 - 15s/epoch - 255ms/step
Epoch 25/75
59/59 - 11s - loss: 0.1096 - accuracy: 0.9660 - val_loss: 1.2828 - val_accuracy: 0.7151 - lr: 0.0010 - 11s/epoch - 184ms/step
Epoch 26/75
59/59 - 10s - loss: 0.1084 - accuracy: 0.9671 - val_loss: 1.3274 - val_accuracy: 0.7017 - lr: 0.0010 - 10s/epoch - 164ms/step
Epoch 27/75
59/59 - 9s - loss: 0.1086 - accuracy: 0.9665 - val_loss: 1.3214 - val_accuracy: 0.7077 - lr: 0.0010 - 9s/epoch - 154ms/step
Epoch 28/75
59/59 - 10s - loss: 0.1087 - accuracy: 0.9667 - val_loss: 1.2482 - val_accuracy: 0.7215 - lr: 0.0010 - 10s/epoch - 166ms/step
Epoch 29/75
59/59 - 15s - loss: 0.1089 - accuracy: 0.9659 - val_loss: 1.2651 - val_accuracy: 0.7202 - lr: 0.0010 - 15s/epoch - 258ms/step
Epoch 30/75
59/59 - 15s - loss: 0.1084 - accuracy: 0.9662 - val_loss: 1.3335 - val_accuracy: 0.7060 - lr: 0.0010 - 15s/epoch - 250ms/step
Epoch 31/75
59/59 - 14s - loss: 0.1058 - accuracy: 0.9673 - val_loss: 1.3208 - val_accuracy: 0.7085 - lr: 0.0010 - 14s/epoch - 245ms/step
Epoch 32/75
59/59 - 14s - loss: 0.1074 - accuracy: 0.9672 - val_loss: 1.2426 - val_accuracy: 0.7228 - lr: 0.0010 - 14s/epoch - 245ms/step
Epoch 33/75
59/59 - 15s - loss: 0.1059 - accuracy: 0.9673 - val_loss: 1.2363 - val_accuracy: 0.7222 - lr: 0.0010 - 15s/epoch - 249ms/step
Epoch 34/75
59/59 - 14s - loss: 0.1097 - accuracy: 0.9651 - val_loss: 1.2477 - val_accuracy: 0.7186 - lr: 0.0010 - 14s/epoch - 231ms/step
Epoch 35/75
59/59 - 14s - loss: 0.1069 - accuracy: 0.9667 - val_loss: 1.2702 - val_accuracy: 0.7133 - lr: 0.0010 - 14s/epoch - 242ms/step
Epoch 36/75
59/59 - 12s - loss: 0.1055 - accuracy: 0.9674 - val_loss: 1.3079 - val_accuracy: 0.7091 - lr: 0.0010 - 12s/epoch - 198ms/step
Epoch 37/75
59/59 - 15s - loss: 0.1087 - accuracy: 0.9665 - val_loss: 1.2790 - val_accuracy: 0.7134 - lr: 0.0010 - 15s/epoch - 252ms/step
Epoch 38/75
59/59 - 14s - loss: 0.1064 - accuracy: 0.9669 - val_loss: 1.3033 - val_accuracy: 0.7083 - lr: 0.0010 - 14s/epoch - 236ms/step
Epoch 39/75
59/59 - 14s - loss: 0.1076 - accuracy: 0.9669 - val_loss: 1.2602 - val_accuracy: 0.7182 - lr: 0.0010 - 14s/epoch - 230ms/step
Epoch 40/75
59/59 - 14s - loss: 0.1098 - accuracy: 0.9662 - val_loss: 1.2730 - val_accuracy: 0.7141 - lr: 0.0010 - 14s/epoch - 236ms/step
Epoch 41/75
59/59 - 13s - loss: 0.1048 - accuracy: 0.9676 - val_loss: 1.3044 - val_accuracy: 0.7088 - lr: 0.0010 - 13s/epoch - 228ms/step
Epoch 42/75
59/59 - 14s - loss: 0.1036 - accuracy: 0.9681 - val_loss: 1.3068 - val_accuracy: 0.7128 - lr: 0.0010 - 14s/epoch - 233ms/step
Epoch 43/75
59/59 - 13s - loss: 0.1061 - accuracy: 0.9662 - val_loss: 1.2769 - val_accuracy: 0.7163 - lr: 0.0010 - 13s/epoch - 216ms/step
Epoch 44/75
59/59 - 13s - loss: 0.1078 - accuracy: 0.9666 - val_loss: 1.3121 - val_accuracy: 0.7033 - lr: 0.0010 - 13s/epoch - 227ms/step
Epoch 45/75
59/59 - 14s - loss: 0.1053 - accuracy: 0.9674 - val_loss: 1.2958 - val_accuracy: 0.7138 - lr: 0.0010 - 14s/epoch - 233ms/step
Epoch 46/75
59/59 - 13s - loss: 0.1051 - accuracy: 0.9670 - val_loss: 1.3032 - val_accuracy: 0.7131 - lr: 0.0010 - 13s/epoch - 228ms/step
Epoch 47/75
59/59 - 14s - loss: 0.1053 - accuracy: 0.9679 - val_loss: 1.3070 - val_accuracy: 0.7120 - lr: 0.0010 - 14s/epoch - 229ms/step
Epoch 48/75
59/59 - 14s - loss: 0.1058 - accuracy: 0.9668 - val_loss: 1.2739 - val_accuracy: 0.7155 - lr: 0.0010 - 14s/epoch - 230ms/step
Epoch 49/75
59/59 - 13s - loss: 0.1062 - accuracy: 0.9671 - val_loss: 1.2571 - val_accuracy: 0.7105 - lr: 0.0010 - 13s/epoch - 228ms/step
Epoch 50/75
59/59 - 14s - loss: 0.1096 - accuracy: 0.9658 - val_loss: 1.2801 - val_accuracy: 0.7095 - lr: 0.0010 - 14s/epoch - 233ms/step
Epoch 51/75
59/59 - 14s - loss: 0.1018 - accuracy: 0.9674 - val_loss: 1.3016 - val_accuracy: 0.7008 - lr: 0.0010 - 14s/epoch - 238ms/step
Epoch 52/75
59/59 - 14s - loss: 0.1041 - accuracy: 0.9674 - val_loss: 1.2785 - val_accuracy: 0.7093 - lr: 0.0010 - 14s/epoch - 235ms/step
Epoch 53/75
59/59 - 14s - loss: 0.1028 - accuracy: 0.9684 - val_loss: 1.2933 - val_accuracy: 0.7142 - lr: 0.0010 - 14s/epoch - 241ms/step
Epoch 54/75
59/59 - 14s - loss: 0.1045 - accuracy: 0.9668 - val_loss: 1.3143 - val_accuracy: 0.7085 - lr: 0.0010 - 14s/epoch - 232ms/step
Epoch 55/75
59/59 - 13s - loss: 0.1050 - accuracy: 0.9671 - val_loss: 1.2819 - val_accuracy: 0.7114 - lr: 0.0010 - 13s/epoch - 221ms/step
Epoch 56/75
59/59 - 12s - loss: 0.1030 - accuracy: 0.9678 - val_loss: 1.3242 - val_accuracy: 0.7126 - lr: 0.0010 - 12s/epoch - 209ms/step
Epoch 57/75
59/59 - 12s - loss: 0.1053 - accuracy: 0.9667 - val_loss: 1.3147 - val_accuracy: 0.7018 - lr: 0.0010 - 12s/epoch - 201ms/step
Epoch 58/75
59/59 - 14s - loss: 0.1065 - accuracy: 0.9666 - val_loss: 1.2831 - val_accuracy: 0.7167 - lr: 0.0010 - 14s/epoch - 232ms/step
Epoch 59/75
59/59 - 15s - loss: 0.1057 - accuracy: 0.9682 - val_loss: 1.2898 - val_accuracy: 0.7107 - lr: 0.0010 - 15s/epoch - 255ms/step
Epoch 60/75
59/59 - 16s - loss: 0.1031 - accuracy: 0.9678 - val_loss: 1.2832 - val_accuracy: 0.7077 - lr: 0.0010 - 16s/epoch - 263ms/step
Epoch 61/75
59/59 - 14s - loss: 0.1007 - accuracy: 0.9683 - val_loss: 1.2531 - val_accuracy: 0.7182 - lr: 0.0010 - 14s/epoch - 236ms/step
Epoch 62/75
59/59 - 14s - loss: 0.0998 - accuracy: 0.9686 - val_loss: 1.3505 - val_accuracy: 0.7037 - lr: 0.0010 - 14s/epoch - 231ms/step
Epoch 63/75
59/59 - 13s - loss: 0.1034 - accuracy: 0.9681 - val_loss: 1.2880 - val_accuracy: 0.7116 - lr: 0.0010 - 13s/epoch - 226ms/step
Epoch 64/75
59/59 - 14s - loss: 0.1024 - accuracy: 0.9680 - val_loss: 1.2709 - val_accuracy: 0.7141 - lr: 0.0010 - 14s/epoch - 231ms/step
Epoch 65/75
59/59 - 14s - loss: 0.1046 - accuracy: 0.9672 - val_loss: 1.3103 - val_accuracy: 0.7079 - lr: 0.0010 - 14s/epoch - 241ms/step
Epoch 66/75
59/59 - 13s - loss: 0.1042 - accuracy: 0.9675 - val_loss: 1.3049 - val_accuracy: 0.7119 - lr: 0.0010 - 13s/epoch - 225ms/step
Epoch 67/75
59/59 - 14s - loss: 0.1050 - accuracy: 0.9669 - val_loss: 1.3165 - val_accuracy: 0.7052 - lr: 0.0010 - 14s/epoch - 234ms/step
Epoch 68/75
59/59 - 14s - loss: 0.1040 - accuracy: 0.9672 - val_loss: 1.2925 - val_accuracy: 0.7098 - lr: 0.0010 - 14s/epoch - 236ms/step
Epoch 69/75
59/59 - 13s - loss: 0.1059 - accuracy: 0.9670 - val_loss: 1.2963 - val_accuracy: 0.7066 - lr: 0.0010 - 13s/epoch - 223ms/step
Epoch 70/75
59/59 - 14s - loss: 0.1040 - accuracy: 0.9668 - val_loss: 1.2914 - val_accuracy: 0.7146 - lr: 0.0010 - 14s/epoch - 230ms/step
Epoch 71/75
59/59 - 14s - loss: 0.1066 - accuracy: 0.9666 - val_loss: 1.2843 - val_accuracy: 0.7161 - lr: 0.0010 - 14s/epoch - 242ms/step
Epoch 72/75
59/59 - 15s - loss: 0.1054 - accuracy: 0.9664 - val_loss: 1.3000 - val_accuracy: 0.7084 - lr: 0.0010 - 15s/epoch - 255ms/step
Epoch 73/75
59/59 - 14s - loss: 0.1035 - accuracy: 0.9675 - val_loss: 1.2758 - val_accuracy: 0.7127 - lr: 0.0010 - 14s/epoch - 242ms/step
Epoch 74/75
59/59 - 14s - loss: 0.1032 - accuracy: 0.9679 - val_loss: 1.2887 - val_accuracy: 0.7046 - lr: 0.0010 - 14s/epoch - 230ms/step
Epoch 75/75
59/59 - 14s - loss: 0.1050 - accuracy: 0.9667 - val_loss: 1.3223 - val_accuracy: 0.7054 - lr: 0.0010 - 14s/epoch - 229ms/step
fitting with batch size: 2500
Epoch 1/75
36/36 - 15s - loss: 0.0982 - accuracy: 0.9690 - val_loss: 1.2709 - val_accuracy: 0.7139 - lr: 0.0010 - 15s/epoch - 420ms/step
Epoch 2/75
36/36 - 13s - loss: 0.0939 - accuracy: 0.9703 - val_loss: 1.2768 - val_accuracy: 0.7169 - lr: 0.0010 - 13s/epoch - 349ms/step
Epoch 3/75
36/36 - 14s - loss: 0.0921 - accuracy: 0.9715 - val_loss: 1.2911 - val_accuracy: 0.7149 - lr: 0.0010 - 14s/epoch - 385ms/step
Epoch 4/75
36/36 - 12s - loss: 0.0949 - accuracy: 0.9704 - val_loss: 1.2951 - val_accuracy: 0.7160 - lr: 0.0010 - 12s/epoch - 344ms/step
Epoch 5/75
36/36 - 11s - loss: 0.0977 - accuracy: 0.9695 - val_loss: 1.2704 - val_accuracy: 0.7201 - lr: 0.0010 - 11s/epoch - 312ms/step
Epoch 6/75
36/36 - 12s - loss: 0.0907 - accuracy: 0.9711 - val_loss: 1.3265 - val_accuracy: 0.7108 - lr: 0.0010 - 12s/epoch - 340ms/step
Epoch 7/75
36/36 - 13s - loss: 0.0913 - accuracy: 0.9718 - val_loss: 1.3264 - val_accuracy: 0.7075 - lr: 0.0010 - 13s/epoch - 372ms/step
Epoch 8/75
36/36 - 13s - loss: 0.0907 - accuracy: 0.9723 - val_loss: 1.3254 - val_accuracy: 0.7093 - lr: 0.0010 - 13s/epoch - 371ms/step
Epoch 9/75
36/36 - 14s - loss: 0.0867 - accuracy: 0.9738 - val_loss: 1.3287 - val_accuracy: 0.7092 - lr: 0.0010 - 14s/epoch - 388ms/step
Epoch 10/75
36/36 - 14s - loss: 0.0855 - accuracy: 0.9739 - val_loss: 1.3292 - val_accuracy: 0.7087 - lr: 0.0010 - 14s/epoch - 398ms/step
Epoch 11/75
36/36 - 13s - loss: 0.0853 - accuracy: 0.9743 - val_loss: 1.3055 - val_accuracy: 0.7098 - lr: 0.0010 - 13s/epoch - 364ms/step
Epoch 12/75
36/36 - 14s - loss: 0.0924 - accuracy: 0.9711 - val_loss: 1.3203 - val_accuracy: 0.7105 - lr: 0.0010 - 14s/epoch - 400ms/step
Epoch 13/75
36/36 - 14s - loss: 0.0842 - accuracy: 0.9746 - val_loss: 1.3239 - val_accuracy: 0.7095 - lr: 0.0010 - 14s/epoch - 381ms/step
Epoch 14/75
36/36 - 13s - loss: 0.0852 - accuracy: 0.9738 - val_loss: 1.3489 - val_accuracy: 0.7082 - lr: 0.0010 - 13s/epoch - 351ms/step
Epoch 15/75
36/36 - 12s - loss: 0.0823 - accuracy: 0.9752 - val_loss: 1.3355 - val_accuracy: 0.7138 - lr: 0.0010 - 12s/epoch - 344ms/step
Epoch 16/75
36/36 - 13s - loss: 0.0850 - accuracy: 0.9739 - val_loss: 1.3312 - val_accuracy: 0.7150 - lr: 0.0010 - 13s/epoch - 364ms/step
Epoch 17/75
36/36 - 14s - loss: 0.0834 - accuracy: 0.9747 - val_loss: 1.3265 - val_accuracy: 0.7158 - lr: 0.0010 - 14s/epoch - 385ms/step
Epoch 18/75
36/36 - 12s - loss: 0.0857 - accuracy: 0.9738 - val_loss: 1.3269 - val_accuracy: 0.7131 - lr: 0.0010 - 12s/epoch - 340ms/step
Epoch 19/75
36/36 - 13s - loss: 0.0846 - accuracy: 0.9740 - val_loss: 1.3339 - val_accuracy: 0.7127 - lr: 0.0010 - 13s/epoch - 352ms/step
Epoch 20/75
36/36 - 12s - loss: 0.0842 - accuracy: 0.9748 - val_loss: 1.3655 - val_accuracy: 0.7099 - lr: 0.0010 - 12s/epoch - 335ms/step
Epoch 21/75
36/36 - 12s - loss: 0.0812 - accuracy: 0.9752 - val_loss: 1.3183 - val_accuracy: 0.7188 - lr: 0.0010 - 12s/epoch - 335ms/step
Epoch 22/75
36/36 - 13s - loss: 0.0834 - accuracy: 0.9749 - val_loss: 1.3508 - val_accuracy: 0.7139 - lr: 0.0010 - 13s/epoch - 363ms/step
Epoch 23/75
36/36 - 12s - loss: 0.0812 - accuracy: 0.9752 - val_loss: 1.3326 - val_accuracy: 0.7156 - lr: 0.0010 - 12s/epoch - 345ms/step
Epoch 24/75
36/36 - 12s - loss: 0.0826 - accuracy: 0.9747 - val_loss: 1.3516 - val_accuracy: 0.7133 - lr: 0.0010 - 12s/epoch - 347ms/step
Epoch 25/75
36/36 - 13s - loss: 0.0856 - accuracy: 0.9735 - val_loss: 1.3721 - val_accuracy: 0.7098 - lr: 0.0010 - 13s/epoch - 349ms/step
Epoch 26/75
36/36 - 12s - loss: 0.0828 - accuracy: 0.9749 - val_loss: 1.3390 - val_accuracy: 0.7163 - lr: 0.0010 - 12s/epoch - 339ms/step
Epoch 27/75
36/36 - 12s - loss: 0.0828 - accuracy: 0.9742 - val_loss: 1.3550 - val_accuracy: 0.7090 - lr: 0.0010 - 12s/epoch - 322ms/step
Epoch 28/75
36/36 - 11s - loss: 0.0834 - accuracy: 0.9746 - val_loss: 1.3871 - val_accuracy: 0.7082 - lr: 0.0010 - 11s/epoch - 314ms/step
Epoch 29/75
36/36 - 11s - loss: 0.0835 - accuracy: 0.9744 - val_loss: 1.3547 - val_accuracy: 0.7118 - lr: 0.0010 - 11s/epoch - 315ms/step
Epoch 30/75
36/36 - 11s - loss: 0.0854 - accuracy: 0.9742 - val_loss: 1.3685 - val_accuracy: 0.7128 - lr: 0.0010 - 11s/epoch - 311ms/step
Epoch 31/75
36/36 - 11s - loss: 0.0855 - accuracy: 0.9737 - val_loss: 1.3505 - val_accuracy: 0.7179 - lr: 0.0010 - 11s/epoch - 317ms/step
Epoch 32/75
36/36 - 11s - loss: 0.0835 - accuracy: 0.9745 - val_loss: 1.3890 - val_accuracy: 0.7068 - lr: 0.0010 - 11s/epoch - 309ms/step
Epoch 33/75
36/36 - 11s - loss: 0.0825 - accuracy: 0.9749 - val_loss: 1.3514 - val_accuracy: 0.7148 - lr: 0.0010 - 11s/epoch - 311ms/step
Epoch 34/75
36/36 - 11s - loss: 0.0827 - accuracy: 0.9748 - val_loss: 1.3802 - val_accuracy: 0.7126 - lr: 0.0010 - 11s/epoch - 316ms/step
Epoch 35/75
36/36 - 11s - loss: 0.0858 - accuracy: 0.9742 - val_loss: 1.3458 - val_accuracy: 0.7195 - lr: 0.0010 - 11s/epoch - 310ms/step
Epoch 36/75
36/36 - 11s - loss: 0.0842 - accuracy: 0.9743 - val_loss: 1.3690 - val_accuracy: 0.7127 - lr: 0.0010 - 11s/epoch - 312ms/step
Epoch 37/75
36/36 - 11s - loss: 0.0858 - accuracy: 0.9735 - val_loss: 1.3633 - val_accuracy: 0.7133 - lr: 0.0010 - 11s/epoch - 311ms/step
Epoch 38/75
36/36 - 11s - loss: 0.0839 - accuracy: 0.9744 - val_loss: 1.3593 - val_accuracy: 0.7128 - lr: 0.0010 - 11s/epoch - 314ms/step
Epoch 39/75
36/36 - 11s - loss: 0.0866 - accuracy: 0.9741 - val_loss: 1.3655 - val_accuracy: 0.7116 - lr: 0.0010 - 11s/epoch - 314ms/step
Epoch 40/75
36/36 - 11s - loss: 0.0834 - accuracy: 0.9742 - val_loss: 1.3728 - val_accuracy: 0.7101 - lr: 0.0010 - 11s/epoch - 314ms/step
Epoch 41/75
36/36 - 11s - loss: 0.0820 - accuracy: 0.9748 - val_loss: 1.3479 - val_accuracy: 0.7143 - lr: 0.0010 - 11s/epoch - 312ms/step
Epoch 42/75
36/36 - 11s - loss: 0.0871 - accuracy: 0.9730 - val_loss: 1.3767 - val_accuracy: 0.7101 - lr: 0.0010 - 11s/epoch - 309ms/step
Epoch 43/75
36/36 - 11s - loss: 0.0844 - accuracy: 0.9741 - val_loss: 1.3639 - val_accuracy: 0.7110 - lr: 0.0010 - 11s/epoch - 311ms/step
Epoch 44/75
36/36 - 11s - loss: 0.0806 - accuracy: 0.9751 - val_loss: 1.3741 - val_accuracy: 0.7110 - lr: 0.0010 - 11s/epoch - 313ms/step
Epoch 45/75
36/36 - 11s - loss: 0.0790 - accuracy: 0.9766 - val_loss: 1.3719 - val_accuracy: 0.7111 - lr: 0.0010 - 11s/epoch - 307ms/step
Epoch 46/75
36/36 - 11s - loss: 0.0833 - accuracy: 0.9742 - val_loss: 1.3712 - val_accuracy: 0.7128 - lr: 0.0010 - 11s/epoch - 312ms/step
Epoch 47/75
36/36 - 11s - loss: 0.0800 - accuracy: 0.9753 - val_loss: 1.3791 - val_accuracy: 0.7099 - lr: 0.0010 - 11s/epoch - 315ms/step
Epoch 48/75
36/36 - 11s - loss: 0.0836 - accuracy: 0.9748 - val_loss: 1.3908 - val_accuracy: 0.7112 - lr: 0.0010 - 11s/epoch - 312ms/step
Epoch 49/75
36/36 - 11s - loss: 0.0828 - accuracy: 0.9748 - val_loss: 1.3782 - val_accuracy: 0.7098 - lr: 0.0010 - 11s/epoch - 309ms/step
Epoch 50/75
36/36 - 11s - loss: 0.0810 - accuracy: 0.9749 - val_loss: 1.3986 - val_accuracy: 0.7087 - lr: 0.0010 - 11s/epoch - 312ms/step
Epoch 51/75
36/36 - 11s - loss: 0.0857 - accuracy: 0.9735 - val_loss: 1.3666 - val_accuracy: 0.7141 - lr: 0.0010 - 11s/epoch - 313ms/step
Epoch 52/75
36/36 - 11s - loss: 0.0826 - accuracy: 0.9746 - val_loss: 1.3646 - val_accuracy: 0.7153 - lr: 0.0010 - 11s/epoch - 311ms/step
Epoch 53/75
36/36 - 11s - loss: 0.0842 - accuracy: 0.9745 - val_loss: 1.3799 - val_accuracy: 0.7136 - lr: 0.0010 - 11s/epoch - 310ms/step
Epoch 54/75
36/36 - 11s - loss: 0.0846 - accuracy: 0.9739 - val_loss: 1.3656 - val_accuracy: 0.7141 - lr: 0.0010 - 11s/epoch - 312ms/step
Epoch 55/75
36/36 - 11s - loss: 0.0805 - accuracy: 0.9757 - val_loss: 1.3750 - val_accuracy: 0.7146 - lr: 0.0010 - 11s/epoch - 313ms/step
Epoch 56/75
36/36 - 11s - loss: 0.0809 - accuracy: 0.9758 - val_loss: 1.3888 - val_accuracy: 0.7087 - lr: 0.0010 - 11s/epoch - 314ms/step
Epoch 57/75
36/36 - 11s - loss: 0.0820 - accuracy: 0.9753 - val_loss: 1.3660 - val_accuracy: 0.7152 - lr: 0.0010 - 11s/epoch - 305ms/step
Epoch 58/75
36/36 - 11s - loss: 0.0828 - accuracy: 0.9745 - val_loss: 1.3818 - val_accuracy: 0.7133 - lr: 0.0010 - 11s/epoch - 305ms/step
Epoch 59/75
36/36 - 11s - loss: 0.0801 - accuracy: 0.9759 - val_loss: 1.3879 - val_accuracy: 0.7123 - lr: 0.0010 - 11s/epoch - 303ms/step
Epoch 60/75
36/36 - 11s - loss: 0.0827 - accuracy: 0.9746 - val_loss: 1.3927 - val_accuracy: 0.7113 - lr: 0.0010 - 11s/epoch - 306ms/step
Epoch 61/75
36/36 - 11s - loss: 0.0789 - accuracy: 0.9758 - val_loss: 1.3834 - val_accuracy: 0.7122 - lr: 0.0010 - 11s/epoch - 311ms/step
Epoch 62/75
36/36 - 11s - loss: 0.0786 - accuracy: 0.9764 - val_loss: 1.3939 - val_accuracy: 0.7122 - lr: 0.0010 - 11s/epoch - 309ms/step
Epoch 63/75
36/36 - 12s - loss: 0.0784 - accuracy: 0.9758 - val_loss: 1.3688 - val_accuracy: 0.7156 - lr: 0.0010 - 12s/epoch - 342ms/step
Epoch 64/75
36/36 - 12s - loss: 0.0777 - accuracy: 0.9760 - val_loss: 1.3969 - val_accuracy: 0.7120 - lr: 0.0010 - 12s/epoch - 335ms/step
Epoch 65/75
36/36 - 13s - loss: 0.0806 - accuracy: 0.9751 - val_loss: 1.3744 - val_accuracy: 0.7153 - lr: 0.0010 - 13s/epoch - 354ms/step
Epoch 66/75
36/36 - 15s - loss: 0.0785 - accuracy: 0.9766 - val_loss: 1.3651 - val_accuracy: 0.7174 - lr: 0.0010 - 15s/epoch - 411ms/step
Epoch 67/75
36/36 - 13s - loss: 0.0855 - accuracy: 0.9738 - val_loss: 1.3804 - val_accuracy: 0.7164 - lr: 0.0010 - 13s/epoch - 359ms/step
Epoch 68/75
36/36 - 13s - loss: 0.0807 - accuracy: 0.9754 - val_loss: 1.3731 - val_accuracy: 0.7165 - lr: 0.0010 - 13s/epoch - 362ms/step
Epoch 69/75
36/36 - 11s - loss: 0.0797 - accuracy: 0.9754 - val_loss: 1.3956 - val_accuracy: 0.7128 - lr: 0.0010 - 11s/epoch - 314ms/step
Epoch 70/75
36/36 - 13s - loss: 0.0849 - accuracy: 0.9742 - val_loss: 1.3599 - val_accuracy: 0.7150 - lr: 0.0010 - 13s/epoch - 373ms/step
Epoch 71/75
36/36 - 13s - loss: 0.0788 - accuracy: 0.9759 - val_loss: 1.4012 - val_accuracy: 0.7101 - lr: 0.0010 - 13s/epoch - 370ms/step
Epoch 72/75
36/36 - 14s - loss: 0.0806 - accuracy: 0.9758 - val_loss: 1.3675 - val_accuracy: 0.7159 - lr: 0.0010 - 14s/epoch - 387ms/step
Epoch 73/75
36/36 - 14s - loss: 0.0827 - accuracy: 0.9748 - val_loss: 1.3634 - val_accuracy: 0.7179 - lr: 0.0010 - 14s/epoch - 391ms/step
Epoch 74/75
36/36 - 14s - loss: 0.0813 - accuracy: 0.9752 - val_loss: 1.4147 - val_accuracy: 0.7099 - lr: 0.0010 - 14s/epoch - 376ms/step
Epoch 75/75
36/36 - 14s - loss: 0.0828 - accuracy: 0.9742 - val_loss: 1.4004 - val_accuracy: 0.7114 - lr: 0.0010 - 14s/epoch - 396ms/step
Epoch number: 100
fitting with batch size: 1500
Epoch 1/100
59/59 - 16s - loss: 0.0831 - accuracy: 0.9749 - val_loss: 1.3889 - val_accuracy: 0.7125 - lr: 0.0010 - 16s/epoch - 270ms/step
Epoch 2/100
59/59 - 13s - loss: 0.0851 - accuracy: 0.9740 - val_loss: 1.3754 - val_accuracy: 0.7162 - lr: 0.0010 - 13s/epoch - 219ms/step
Epoch 3/100
59/59 - 13s - loss: 0.0856 - accuracy: 0.9739 - val_loss: 1.3966 - val_accuracy: 0.7139 - lr: 0.0010 - 13s/epoch - 220ms/step
Epoch 4/100
59/59 - 12s - loss: 0.0874 - accuracy: 0.9729 - val_loss: 1.3791 - val_accuracy: 0.7107 - lr: 0.0010 - 12s/epoch - 212ms/step
Epoch 5/100
59/59 - 13s - loss: 0.0873 - accuracy: 0.9724 - val_loss: 1.3669 - val_accuracy: 0.7177 - lr: 0.0010 - 13s/epoch - 218ms/step
Epoch 6/100
59/59 - 13s - loss: 0.0894 - accuracy: 0.9721 - val_loss: 1.3343 - val_accuracy: 0.7246 - lr: 0.0010 - 13s/epoch - 218ms/step
Epoch 7/100
59/59 - 13s - loss: 0.0913 - accuracy: 0.9713 - val_loss: 1.3700 - val_accuracy: 0.7164 - lr: 0.0010 - 13s/epoch - 223ms/step
Epoch 8/100
59/59 - 13s - loss: 0.0947 - accuracy: 0.9706 - val_loss: 1.3947 - val_accuracy: 0.7081 - lr: 0.0010 - 13s/epoch - 219ms/step
Epoch 9/100
59/59 - 14s - loss: 0.0949 - accuracy: 0.9698 - val_loss: 1.3941 - val_accuracy: 0.7085 - lr: 0.0010 - 14s/epoch - 242ms/step
Epoch 10/100
59/59 - 13s - loss: 0.0971 - accuracy: 0.9692 - val_loss: 1.3284 - val_accuracy: 0.7213 - lr: 0.0010 - 13s/epoch - 228ms/step
Epoch 11/100
59/59 - 13s - loss: 0.0985 - accuracy: 0.9687 - val_loss: 1.3166 - val_accuracy: 0.7215 - lr: 0.0010 - 13s/epoch - 223ms/step
Epoch 12/100
59/59 - 13s - loss: 0.0958 - accuracy: 0.9694 - val_loss: 1.3471 - val_accuracy: 0.7151 - lr: 0.0010 - 13s/epoch - 224ms/step
Epoch 13/100
59/59 - 13s - loss: 0.0995 - accuracy: 0.9685 - val_loss: 1.3960 - val_accuracy: 0.7077 - lr: 0.0010 - 13s/epoch - 222ms/step
Epoch 14/100
59/59 - 13s - loss: 0.0930 - accuracy: 0.9705 - val_loss: 1.3279 - val_accuracy: 0.7169 - lr: 0.0010 - 13s/epoch - 218ms/step
Epoch 15/100
59/59 - 13s - loss: 0.0999 - accuracy: 0.9685 - val_loss: 1.3175 - val_accuracy: 0.7116 - lr: 0.0010 - 13s/epoch - 217ms/step
Epoch 16/100
59/59 - 13s - loss: 0.1010 - accuracy: 0.9671 - val_loss: 1.3080 - val_accuracy: 0.7186 - lr: 0.0010 - 13s/epoch - 217ms/step
Epoch 17/100
59/59 - 13s - loss: 0.1011 - accuracy: 0.9678 - val_loss: 1.3412 - val_accuracy: 0.7118 - lr: 0.0010 - 13s/epoch - 220ms/step
Epoch 18/100
59/59 - 13s - loss: 0.0999 - accuracy: 0.9682 - val_loss: 1.4161 - val_accuracy: 0.7030 - lr: 0.0010 - 13s/epoch - 222ms/step
Epoch 19/100
59/59 - 13s - loss: 0.0987 - accuracy: 0.9686 - val_loss: 1.3473 - val_accuracy: 0.7102 - lr: 0.0010 - 13s/epoch - 223ms/step
Epoch 20/100
59/59 - 12s - loss: 0.1030 - accuracy: 0.9674 - val_loss: 1.3936 - val_accuracy: 0.7041 - lr: 0.0010 - 12s/epoch - 200ms/step
Epoch 21/100
59/59 - 13s - loss: 0.1034 - accuracy: 0.9667 - val_loss: 1.3273 - val_accuracy: 0.7080 - lr: 0.0010 - 13s/epoch - 217ms/step
Epoch 22/100
59/59 - 13s - loss: 0.1047 - accuracy: 0.9663 - val_loss: 1.3217 - val_accuracy: 0.7106 - lr: 0.0010 - 13s/epoch - 219ms/step
Epoch 23/100
59/59 - 13s - loss: 0.1018 - accuracy: 0.9680 - val_loss: 1.3150 - val_accuracy: 0.7169 - lr: 0.0010 - 13s/epoch - 227ms/step
Epoch 24/100
59/59 - 14s - loss: 0.1038 - accuracy: 0.9673 - val_loss: 1.3557 - val_accuracy: 0.7053 - lr: 0.0010 - 14s/epoch - 238ms/step
Epoch 25/100
59/59 - 13s - loss: 0.0992 - accuracy: 0.9688 - val_loss: 1.3342 - val_accuracy: 0.7135 - lr: 0.0010 - 13s/epoch - 226ms/step
Epoch 26/100
59/59 - 13s - loss: 0.1011 - accuracy: 0.9680 - val_loss: 1.3686 - val_accuracy: 0.6974 - lr: 0.0010 - 13s/epoch - 219ms/step
Epoch 27/100
59/59 - 13s - loss: 0.1032 - accuracy: 0.9667 - val_loss: 1.3065 - val_accuracy: 0.7182 - lr: 0.0010 - 13s/epoch - 219ms/step
Epoch 28/100
59/59 - 12s - loss: 0.1041 - accuracy: 0.9664 - val_loss: 1.3274 - val_accuracy: 0.7130 - lr: 0.0010 - 12s/epoch - 204ms/step
Epoch 29/100
59/59 - 13s - loss: 0.0993 - accuracy: 0.9678 - val_loss: 1.2958 - val_accuracy: 0.7203 - lr: 0.0010 - 13s/epoch - 215ms/step
Epoch 30/100
59/59 - 13s - loss: 0.0988 - accuracy: 0.9687 - val_loss: 1.3106 - val_accuracy: 0.7092 - lr: 0.0010 - 13s/epoch - 216ms/step
Epoch 31/100
59/59 - 14s - loss: 0.0969 - accuracy: 0.9684 - val_loss: 1.2696 - val_accuracy: 0.7228 - lr: 0.0010 - 14s/epoch - 232ms/step
Epoch 32/100
59/59 - 12s - loss: 0.0984 - accuracy: 0.9689 - val_loss: 1.3135 - val_accuracy: 0.7149 - lr: 0.0010 - 12s/epoch - 197ms/step
Epoch 33/100
59/59 - 12s - loss: 0.1027 - accuracy: 0.9668 - val_loss: 1.3196 - val_accuracy: 0.7118 - lr: 0.0010 - 12s/epoch - 197ms/step
Epoch 34/100
59/59 - 13s - loss: 0.1024 - accuracy: 0.9673 - val_loss: 1.2914 - val_accuracy: 0.7217 - lr: 0.0010 - 13s/epoch - 214ms/step
Epoch 35/100
59/59 - 13s - loss: 0.1034 - accuracy: 0.9676 - val_loss: 1.2854 - val_accuracy: 0.7144 - lr: 0.0010 - 13s/epoch - 221ms/step
Epoch 36/100
59/59 - 12s - loss: 0.1017 - accuracy: 0.9669 - val_loss: 1.3215 - val_accuracy: 0.7145 - lr: 0.0010 - 12s/epoch - 208ms/step
Epoch 37/100
59/59 - 12s - loss: 0.1020 - accuracy: 0.9675 - val_loss: 1.2755 - val_accuracy: 0.7239 - lr: 0.0010 - 12s/epoch - 210ms/step
Epoch 38/100
59/59 - 12s - loss: 0.1041 - accuracy: 0.9667 - val_loss: 1.3176 - val_accuracy: 0.7151 - lr: 0.0010 - 12s/epoch - 209ms/step
Epoch 39/100
59/59 - 13s - loss: 0.1043 - accuracy: 0.9670 - val_loss: 1.3053 - val_accuracy: 0.7212 - lr: 0.0010 - 13s/epoch - 227ms/step
Epoch 40/100
59/59 - 11s - loss: 0.1040 - accuracy: 0.9662 - val_loss: 1.2906 - val_accuracy: 0.7159 - lr: 0.0010 - 11s/epoch - 193ms/step
Epoch 41/100
59/59 - 12s - loss: 0.1013 - accuracy: 0.9673 - val_loss: 1.2890 - val_accuracy: 0.7163 - lr: 0.0010 - 12s/epoch - 197ms/step
Epoch 42/100
59/59 - 13s - loss: 0.0998 - accuracy: 0.9683 - val_loss: 1.3207 - val_accuracy: 0.7097 - lr: 0.0010 - 13s/epoch - 228ms/step
Epoch 43/100
59/59 - 15s - loss: 0.1014 - accuracy: 0.9667 - val_loss: 1.3205 - val_accuracy: 0.7143 - lr: 0.0010 - 15s/epoch - 249ms/step
Epoch 44/100
59/59 - 14s - loss: 0.0978 - accuracy: 0.9690 - val_loss: 1.3489 - val_accuracy: 0.7145 - lr: 0.0010 - 14s/epoch - 241ms/step
Epoch 45/100
59/59 - 12s - loss: 0.1018 - accuracy: 0.9671 - val_loss: 1.3227 - val_accuracy: 0.7163 - lr: 0.0010 - 12s/epoch - 203ms/step
Epoch 46/100
59/59 - 12s - loss: 0.1004 - accuracy: 0.9677 - val_loss: 1.3434 - val_accuracy: 0.7101 - lr: 0.0010 - 12s/epoch - 203ms/step
Epoch 47/100
59/59 - 12s - loss: 0.1012 - accuracy: 0.9675 - val_loss: 1.3300 - val_accuracy: 0.7161 - lr: 0.0010 - 12s/epoch - 198ms/step
Epoch 48/100
59/59 - 13s - loss: 0.1021 - accuracy: 0.9667 - val_loss: 1.3199 - val_accuracy: 0.7170 - lr: 0.0010 - 13s/epoch - 226ms/step
Epoch 49/100
59/59 - 13s - loss: 0.1019 - accuracy: 0.9669 - val_loss: 1.3369 - val_accuracy: 0.7090 - lr: 0.0010 - 13s/epoch - 228ms/step
Epoch 50/100
59/59 - 14s - loss: 0.1004 - accuracy: 0.9674 - val_loss: 1.3129 - val_accuracy: 0.7116 - lr: 0.0010 - 14s/epoch - 233ms/step
Epoch 51/100
59/59 - 13s - loss: 0.1031 - accuracy: 0.9671 - val_loss: 1.2970 - val_accuracy: 0.7111 - lr: 0.0010 - 13s/epoch - 221ms/step
Epoch 52/100
59/59 - 14s - loss: 0.1034 - accuracy: 0.9667 - val_loss: 1.2793 - val_accuracy: 0.7169 - lr: 0.0010 - 14s/epoch - 229ms/step
Epoch 53/100
59/59 - 12s - loss: 0.0973 - accuracy: 0.9693 - val_loss: 1.3048 - val_accuracy: 0.7161 - lr: 0.0010 - 12s/epoch - 208ms/step
Epoch 54/100
59/59 - 12s - loss: 0.0991 - accuracy: 0.9681 - val_loss: 1.2903 - val_accuracy: 0.7180 - lr: 0.0010 - 12s/epoch - 209ms/step
Epoch 55/100
59/59 - 12s - loss: 0.1012 - accuracy: 0.9683 - val_loss: 1.3625 - val_accuracy: 0.7045 - lr: 0.0010 - 12s/epoch - 209ms/step
Epoch 56/100
59/59 - 12s - loss: 0.0976 - accuracy: 0.9682 - val_loss: 1.3334 - val_accuracy: 0.7107 - lr: 0.0010 - 12s/epoch - 209ms/step
Epoch 57/100
59/59 - 13s - loss: 0.1001 - accuracy: 0.9680 - val_loss: 1.2790 - val_accuracy: 0.7145 - lr: 0.0010 - 13s/epoch - 226ms/step
Epoch 58/100
59/59 - 14s - loss: 0.1036 - accuracy: 0.9672 - val_loss: 1.3146 - val_accuracy: 0.7090 - lr: 0.0010 - 14s/epoch - 233ms/step
Epoch 59/100
59/59 - 14s - loss: 0.1014 - accuracy: 0.9676 - val_loss: 1.2988 - val_accuracy: 0.7224 - lr: 0.0010 - 14s/epoch - 234ms/step
Epoch 60/100
59/59 - 13s - loss: 0.1045 - accuracy: 0.9665 - val_loss: 1.2877 - val_accuracy: 0.7191 - lr: 0.0010 - 13s/epoch - 215ms/step
Epoch 61/100
59/59 - 12s - loss: 0.1008 - accuracy: 0.9677 - val_loss: 1.3139 - val_accuracy: 0.7150 - lr: 0.0010 - 12s/epoch - 202ms/step
Epoch 62/100
59/59 - 13s - loss: 0.1011 - accuracy: 0.9675 - val_loss: 1.3230 - val_accuracy: 0.7148 - lr: 0.0010 - 13s/epoch - 224ms/step
Epoch 63/100
59/59 - 12s - loss: 0.1004 - accuracy: 0.9677 - val_loss: 1.3196 - val_accuracy: 0.7159 - lr: 0.0010 - 12s/epoch - 206ms/step
Epoch 64/100
59/59 - 13s - loss: 0.0990 - accuracy: 0.9683 - val_loss: 1.3195 - val_accuracy: 0.7124 - lr: 0.0010 - 13s/epoch - 218ms/step
Epoch 65/100
59/59 - 13s - loss: 0.0996 - accuracy: 0.9678 - val_loss: 1.3235 - val_accuracy: 0.7140 - lr: 0.0010 - 13s/epoch - 218ms/step
Epoch 66/100
59/59 - 14s - loss: 0.0995 - accuracy: 0.9684 - val_loss: 1.3215 - val_accuracy: 0.7112 - lr: 0.0010 - 14s/epoch - 233ms/step
Epoch 67/100
59/59 - 14s - loss: 0.1015 - accuracy: 0.9675 - val_loss: 1.3450 - val_accuracy: 0.7078 - lr: 0.0010 - 14s/epoch - 231ms/step
Epoch 68/100
59/59 - 14s - loss: 0.0986 - accuracy: 0.9687 - val_loss: 1.2908 - val_accuracy: 0.7156 - lr: 0.0010 - 14s/epoch - 238ms/step
Epoch 69/100
59/59 - 14s - loss: 0.0998 - accuracy: 0.9679 - val_loss: 1.3164 - val_accuracy: 0.7092 - lr: 0.0010 - 14s/epoch - 235ms/step
Epoch 70/100
59/59 - 14s - loss: 0.0962 - accuracy: 0.9691 - val_loss: 1.3137 - val_accuracy: 0.7129 - lr: 0.0010 - 14s/epoch - 243ms/step
Epoch 71/100
59/59 - 16s - loss: 0.1010 - accuracy: 0.9671 - val_loss: 1.3046 - val_accuracy: 0.7157 - lr: 0.0010 - 16s/epoch - 265ms/step
Epoch 72/100
59/59 - 15s - loss: 0.0968 - accuracy: 0.9684 - val_loss: 1.3020 - val_accuracy: 0.7172 - lr: 0.0010 - 15s/epoch - 255ms/step
Epoch 73/100
59/59 - 14s - loss: 0.0993 - accuracy: 0.9683 - val_loss: 1.2975 - val_accuracy: 0.7237 - lr: 0.0010 - 14s/epoch - 236ms/step
Epoch 74/100
59/59 - 14s - loss: 0.0967 - accuracy: 0.9688 - val_loss: 1.3231 - val_accuracy: 0.7122 - lr: 0.0010 - 14s/epoch - 233ms/step
Epoch 75/100
59/59 - 14s - loss: 0.1007 - accuracy: 0.9675 - val_loss: 1.3458 - val_accuracy: 0.7069 - lr: 0.0010 - 14s/epoch - 234ms/step
Epoch 76/100
59/59 - 13s - loss: 0.1004 - accuracy: 0.9680 - val_loss: 1.3406 - val_accuracy: 0.7151 - lr: 0.0010 - 13s/epoch - 227ms/step
Epoch 77/100
59/59 - 14s - loss: 0.1020 - accuracy: 0.9666 - val_loss: 1.3164 - val_accuracy: 0.7187 - lr: 0.0010 - 14s/epoch - 233ms/step
Epoch 78/100
59/59 - 12s - loss: 0.1004 - accuracy: 0.9679 - val_loss: 1.3101 - val_accuracy: 0.7178 - lr: 0.0010 - 12s/epoch - 208ms/step
Epoch 79/100
59/59 - 12s - loss: 0.1026 - accuracy: 0.9667 - val_loss: 1.3255 - val_accuracy: 0.7209 - lr: 0.0010 - 12s/epoch - 200ms/step
Epoch 80/100
59/59 - 12s - loss: 0.1043 - accuracy: 0.9661 - val_loss: 1.3014 - val_accuracy: 0.7173 - lr: 0.0010 - 12s/epoch - 197ms/step
Epoch 81/100
59/59 - 12s - loss: 0.0974 - accuracy: 0.9691 - val_loss: 1.3152 - val_accuracy: 0.7186 - lr: 0.0010 - 12s/epoch - 197ms/step
Epoch 82/100
59/59 - 12s - loss: 0.0974 - accuracy: 0.9688 - val_loss: 1.2873 - val_accuracy: 0.7175 - lr: 0.0010 - 12s/epoch - 196ms/step
Epoch 83/100
59/59 - 11s - loss: 0.1011 - accuracy: 0.9676 - val_loss: 1.3061 - val_accuracy: 0.7118 - lr: 0.0010 - 11s/epoch - 195ms/step
Epoch 84/100
59/59 - 11s - loss: 0.0976 - accuracy: 0.9684 - val_loss: 1.3237 - val_accuracy: 0.7175 - lr: 0.0010 - 11s/epoch - 192ms/step
Epoch 85/100
59/59 - 11s - loss: 0.0964 - accuracy: 0.9698 - val_loss: 1.3047 - val_accuracy: 0.7259 - lr: 0.0010 - 11s/epoch - 190ms/step
Epoch 86/100
59/59 - 11s - loss: 0.0987 - accuracy: 0.9679 - val_loss: 1.3478 - val_accuracy: 0.7126 - lr: 0.0010 - 11s/epoch - 191ms/step
Epoch 87/100
59/59 - 11s - loss: 0.1007 - accuracy: 0.9674 - val_loss: 1.3562 - val_accuracy: 0.7093 - lr: 0.0010 - 11s/epoch - 193ms/step
Epoch 88/100
59/59 - 11s - loss: 0.0977 - accuracy: 0.9691 - val_loss: 1.3025 - val_accuracy: 0.7173 - lr: 0.0010 - 11s/epoch - 193ms/step
Epoch 89/100
59/59 - 11s - loss: 0.1022 - accuracy: 0.9674 - val_loss: 1.3393 - val_accuracy: 0.7114 - lr: 0.0010 - 11s/epoch - 194ms/step
Epoch 90/100
59/59 - 12s - loss: 0.1017 - accuracy: 0.9673 - val_loss: 1.3253 - val_accuracy: 0.7133 - lr: 0.0010 - 12s/epoch - 198ms/step
Epoch 91/100
59/59 - 13s - loss: 0.0998 - accuracy: 0.9678 - val_loss: 1.3871 - val_accuracy: 0.7036 - lr: 0.0010 - 13s/epoch - 215ms/step
Epoch 92/100
59/59 - 13s - loss: 0.0952 - accuracy: 0.9693 - val_loss: 1.3534 - val_accuracy: 0.7125 - lr: 0.0010 - 13s/epoch - 222ms/step
Epoch 93/100
59/59 - 13s - loss: 0.0991 - accuracy: 0.9678 - val_loss: 1.2643 - val_accuracy: 0.7191 - lr: 0.0010 - 13s/epoch - 225ms/step
Epoch 94/100
59/59 - 13s - loss: 0.0981 - accuracy: 0.9687 - val_loss: 1.3109 - val_accuracy: 0.7135 - lr: 0.0010 - 13s/epoch - 222ms/step
Epoch 95/100
59/59 - 14s - loss: 0.0997 - accuracy: 0.9682 - val_loss: 1.3412 - val_accuracy: 0.7118 - lr: 0.0010 - 14s/epoch - 238ms/step
Epoch 96/100
59/59 - 13s - loss: 0.1009 - accuracy: 0.9681 - val_loss: 1.3516 - val_accuracy: 0.7056 - lr: 0.0010 - 13s/epoch - 219ms/step
Epoch 97/100
59/59 - 12s - loss: 0.0991 - accuracy: 0.9679 - val_loss: 1.2892 - val_accuracy: 0.7188 - lr: 0.0010 - 12s/epoch - 207ms/step
Epoch 98/100
59/59 - 14s - loss: 0.0990 - accuracy: 0.9679 - val_loss: 1.2993 - val_accuracy: 0.7230 - lr: 0.0010 - 14s/epoch - 243ms/step
Epoch 99/100
59/59 - 13s - loss: 0.0996 - accuracy: 0.9676 - val_loss: 1.3154 - val_accuracy: 0.7119 - lr: 0.0010 - 13s/epoch - 221ms/step
Epoch 100/100
59/59 - 11s - loss: 0.1009 - accuracy: 0.9665 - val_loss: 1.2948 - val_accuracy: 0.7175 - lr: 0.0010 - 11s/epoch - 194ms/step
fitting with batch size: 2500
Epoch 1/100
36/36 - 14s - loss: 0.0932 - accuracy: 0.9709 - val_loss: 1.3267 - val_accuracy: 0.7162 - lr: 0.0010 - 14s/epoch - 384ms/step
Epoch 2/100
36/36 - 11s - loss: 0.0926 - accuracy: 0.9704 - val_loss: 1.3115 - val_accuracy: 0.7156 - lr: 0.0010 - 11s/epoch - 308ms/step
Epoch 3/100
36/36 - 12s - loss: 0.0880 - accuracy: 0.9723 - val_loss: 1.3216 - val_accuracy: 0.7155 - lr: 0.0010 - 12s/epoch - 340ms/step
Epoch 4/100
36/36 - 12s - loss: 0.0904 - accuracy: 0.9715 - val_loss: 1.3219 - val_accuracy: 0.7160 - lr: 0.0010 - 12s/epoch - 336ms/step
Epoch 5/100
36/36 - 12s - loss: 0.0823 - accuracy: 0.9734 - val_loss: 1.3382 - val_accuracy: 0.7187 - lr: 0.0010 - 12s/epoch - 326ms/step
Epoch 6/100
36/36 - 15s - loss: 0.0807 - accuracy: 0.9747 - val_loss: 1.3572 - val_accuracy: 0.7134 - lr: 0.0010 - 15s/epoch - 404ms/step
Epoch 7/100
36/36 - 13s - loss: 0.0839 - accuracy: 0.9740 - val_loss: 1.3689 - val_accuracy: 0.7122 - lr: 0.0010 - 13s/epoch - 354ms/step
Epoch 8/100
36/36 - 13s - loss: 0.0820 - accuracy: 0.9747 - val_loss: 1.3853 - val_accuracy: 0.7093 - lr: 0.0010 - 13s/epoch - 361ms/step
Epoch 9/100
36/36 - 15s - loss: 0.0803 - accuracy: 0.9750 - val_loss: 1.3819 - val_accuracy: 0.7099 - lr: 0.0010 - 15s/epoch - 405ms/step
Epoch 10/100
36/36 - 14s - loss: 0.0815 - accuracy: 0.9745 - val_loss: 1.3653 - val_accuracy: 0.7152 - lr: 0.0010 - 14s/epoch - 389ms/step
Epoch 11/100
36/36 - 14s - loss: 0.0825 - accuracy: 0.9741 - val_loss: 1.3568 - val_accuracy: 0.7186 - lr: 0.0010 - 14s/epoch - 403ms/step
Epoch 12/100
36/36 - 12s - loss: 0.0791 - accuracy: 0.9750 - val_loss: 1.3561 - val_accuracy: 0.7189 - lr: 0.0010 - 12s/epoch - 340ms/step
Epoch 13/100
36/36 - 14s - loss: 0.0821 - accuracy: 0.9744 - val_loss: 1.3534 - val_accuracy: 0.7178 - lr: 0.0010 - 14s/epoch - 375ms/step
Epoch 14/100
36/36 - 14s - loss: 0.0836 - accuracy: 0.9737 - val_loss: 1.3756 - val_accuracy: 0.7186 - lr: 0.0010 - 14s/epoch - 375ms/step
Epoch 15/100
36/36 - 11s - loss: 0.0830 - accuracy: 0.9740 - val_loss: 1.3912 - val_accuracy: 0.7149 - lr: 0.0010 - 11s/epoch - 319ms/step
Epoch 16/100
36/36 - 11s - loss: 0.0789 - accuracy: 0.9753 - val_loss: 1.3788 - val_accuracy: 0.7171 - lr: 0.0010 - 11s/epoch - 315ms/step
Epoch 17/100
36/36 - 17s - loss: 0.0824 - accuracy: 0.9742 - val_loss: 1.3841 - val_accuracy: 0.7176 - lr: 0.0010 - 17s/epoch - 481ms/step
Epoch 18/100
36/36 - 13s - loss: 0.0826 - accuracy: 0.9740 - val_loss: 1.3947 - val_accuracy: 0.7150 - lr: 0.0010 - 13s/epoch - 352ms/step
Epoch 19/100
36/36 - 14s - loss: 0.0814 - accuracy: 0.9748 - val_loss: 1.3585 - val_accuracy: 0.7179 - lr: 0.0010 - 14s/epoch - 379ms/step
Epoch 20/100
36/36 - 13s - loss: 0.0833 - accuracy: 0.9743 - val_loss: 1.3705 - val_accuracy: 0.7165 - lr: 0.0010 - 13s/epoch - 349ms/step
Epoch 21/100
36/36 - 12s - loss: 0.0829 - accuracy: 0.9738 - val_loss: 1.3719 - val_accuracy: 0.7157 - lr: 0.0010 - 12s/epoch - 335ms/step
Epoch 22/100
36/36 - 12s - loss: 0.0804 - accuracy: 0.9745 - val_loss: 1.3547 - val_accuracy: 0.7183 - lr: 0.0010 - 12s/epoch - 342ms/step
Epoch 23/100
36/36 - 13s - loss: 0.0777 - accuracy: 0.9758 - val_loss: 1.3839 - val_accuracy: 0.7176 - lr: 0.0010 - 13s/epoch - 351ms/step
Epoch 24/100
36/36 - 13s - loss: 0.0783 - accuracy: 0.9754 - val_loss: 1.3834 - val_accuracy: 0.7186 - lr: 0.0010 - 13s/epoch - 349ms/step
Epoch 25/100
36/36 - 12s - loss: 0.0805 - accuracy: 0.9750 - val_loss: 1.3960 - val_accuracy: 0.7131 - lr: 0.0010 - 12s/epoch - 344ms/step
Epoch 26/100
36/36 - 12s - loss: 0.0793 - accuracy: 0.9751 - val_loss: 1.3883 - val_accuracy: 0.7174 - lr: 0.0010 - 12s/epoch - 344ms/step
Epoch 27/100
36/36 - 23s - loss: 0.0771 - accuracy: 0.9753 - val_loss: 1.4134 - val_accuracy: 0.7137 - lr: 0.0010 - 23s/epoch - 639ms/step
Epoch 28/100
36/36 - 11s - loss: 0.0746 - accuracy: 0.9762 - val_loss: 1.3846 - val_accuracy: 0.7190 - lr: 0.0010 - 11s/epoch - 314ms/step
Epoch 29/100
36/36 - 11s - loss: 0.0853 - accuracy: 0.9732 - val_loss: 1.3905 - val_accuracy: 0.7159 - lr: 0.0010 - 11s/epoch - 307ms/step
Epoch 30/100
36/36 - 11s - loss: 0.0762 - accuracy: 0.9764 - val_loss: 1.4024 - val_accuracy: 0.7156 - lr: 0.0010 - 11s/epoch - 304ms/step
Epoch 31/100
36/36 - 11s - loss: 0.0768 - accuracy: 0.9756 - val_loss: 1.3933 - val_accuracy: 0.7180 - lr: 0.0010 - 11s/epoch - 305ms/step
Epoch 32/100
36/36 - 11s - loss: 0.0803 - accuracy: 0.9748 - val_loss: 1.3740 - val_accuracy: 0.7193 - lr: 0.0010 - 11s/epoch - 304ms/step
Epoch 33/100
36/36 - 11s - loss: 0.0795 - accuracy: 0.9756 - val_loss: 1.3968 - val_accuracy: 0.7151 - lr: 0.0010 - 11s/epoch - 306ms/step
Epoch 34/100
36/36 - 11s - loss: 0.0797 - accuracy: 0.9752 - val_loss: 1.4103 - val_accuracy: 0.7145 - lr: 0.0010 - 11s/epoch - 306ms/step
Epoch 35/100
36/36 - 11s - loss: 0.0777 - accuracy: 0.9755 - val_loss: 1.4185 - val_accuracy: 0.7149 - lr: 0.0010 - 11s/epoch - 300ms/step
Epoch 36/100
36/36 - 11s - loss: 0.0750 - accuracy: 0.9767 - val_loss: 1.3973 - val_accuracy: 0.7146 - lr: 0.0010 - 11s/epoch - 303ms/step
Epoch 37/100
36/36 - 12s - loss: 0.0758 - accuracy: 0.9766 - val_loss: 1.4198 - val_accuracy: 0.7134 - lr: 0.0010 - 12s/epoch - 330ms/step
Epoch 38/100
36/36 - 12s - loss: 0.0768 - accuracy: 0.9760 - val_loss: 1.4271 - val_accuracy: 0.7136 - lr: 0.0010 - 12s/epoch - 338ms/step
Epoch 39/100
36/36 - 12s - loss: 0.0746 - accuracy: 0.9766 - val_loss: 1.4225 - val_accuracy: 0.7136 - lr: 0.0010 - 12s/epoch - 342ms/step
Epoch 40/100
36/36 - 13s - loss: 0.0760 - accuracy: 0.9768 - val_loss: 1.4331 - val_accuracy: 0.7126 - lr: 0.0010 - 13s/epoch - 352ms/step
Epoch 41/100
36/36 - 14s - loss: 0.0811 - accuracy: 0.9746 - val_loss: 1.4230 - val_accuracy: 0.7151 - lr: 0.0010 - 14s/epoch - 390ms/step
Epoch 42/100
36/36 - 13s - loss: 0.0805 - accuracy: 0.9746 - val_loss: 1.4327 - val_accuracy: 0.7128 - lr: 0.0010 - 13s/epoch - 355ms/step
Epoch 43/100
36/36 - 15s - loss: 0.0758 - accuracy: 0.9766 - val_loss: 1.4134 - val_accuracy: 0.7173 - lr: 0.0010 - 15s/epoch - 410ms/step
Epoch 44/100
36/36 - 15s - loss: 0.0748 - accuracy: 0.9770 - val_loss: 1.4310 - val_accuracy: 0.7161 - lr: 0.0010 - 15s/epoch - 422ms/step
Epoch 45/100
36/36 - 14s - loss: 0.0790 - accuracy: 0.9753 - val_loss: 1.4426 - val_accuracy: 0.7123 - lr: 0.0010 - 14s/epoch - 384ms/step
Epoch 46/100
36/36 - 11s - loss: 0.0772 - accuracy: 0.9762 - val_loss: 1.4237 - val_accuracy: 0.7141 - lr: 0.0010 - 11s/epoch - 315ms/step
Epoch 47/100
36/36 - 11s - loss: 0.0743 - accuracy: 0.9768 - val_loss: 1.4205 - val_accuracy: 0.7131 - lr: 0.0010 - 11s/epoch - 307ms/step
Epoch 48/100
36/36 - 12s - loss: 0.0805 - accuracy: 0.9746 - val_loss: 1.3933 - val_accuracy: 0.7184 - lr: 0.0010 - 12s/epoch - 322ms/step
Epoch 49/100
36/36 - 12s - loss: 0.0786 - accuracy: 0.9750 - val_loss: 1.4569 - val_accuracy: 0.7095 - lr: 0.0010 - 12s/epoch - 343ms/step
Epoch 50/100
36/36 - 12s - loss: 0.0759 - accuracy: 0.9767 - val_loss: 1.4142 - val_accuracy: 0.7180 - lr: 0.0010 - 12s/epoch - 341ms/step
Epoch 51/100
36/36 - 12s - loss: 0.0803 - accuracy: 0.9746 - val_loss: 1.3947 - val_accuracy: 0.7183 - lr: 0.0010 - 12s/epoch - 347ms/step
Epoch 52/100
36/36 - 13s - loss: 0.0776 - accuracy: 0.9754 - val_loss: 1.4008 - val_accuracy: 0.7165 - lr: 0.0010 - 13s/epoch - 371ms/step
Epoch 53/100
36/36 - 12s - loss: 0.0800 - accuracy: 0.9750 - val_loss: 1.4141 - val_accuracy: 0.7161 - lr: 0.0010 - 12s/epoch - 346ms/step
Epoch 54/100
36/36 - 11s - loss: 0.0768 - accuracy: 0.9760 - val_loss: 1.4481 - val_accuracy: 0.7063 - lr: 0.0010 - 11s/epoch - 308ms/step
Epoch 55/100
36/36 - 11s - loss: 0.0754 - accuracy: 0.9764 - val_loss: 1.3855 - val_accuracy: 0.7208 - lr: 0.0010 - 11s/epoch - 304ms/step
Epoch 56/100
36/36 - 11s - loss: 0.0778 - accuracy: 0.9756 - val_loss: 1.4107 - val_accuracy: 0.7177 - lr: 0.0010 - 11s/epoch - 309ms/step
Epoch 57/100
36/36 - 12s - loss: 0.0806 - accuracy: 0.9744 - val_loss: 1.4131 - val_accuracy: 0.7151 - lr: 0.0010 - 12s/epoch - 337ms/step
Epoch 58/100
36/36 - 12s - loss: 0.0802 - accuracy: 0.9754 - val_loss: 1.3914 - val_accuracy: 0.7194 - lr: 0.0010 - 12s/epoch - 339ms/step
Epoch 59/100
36/36 - 13s - loss: 0.0736 - accuracy: 0.9775 - val_loss: 1.3979 - val_accuracy: 0.7223 - lr: 0.0010 - 13s/epoch - 355ms/step
Epoch 60/100
36/36 - 13s - loss: 0.0743 - accuracy: 0.9765 - val_loss: 1.4208 - val_accuracy: 0.7178 - lr: 0.0010 - 13s/epoch - 351ms/step
Epoch 61/100
36/36 - 13s - loss: 0.0734 - accuracy: 0.9770 - val_loss: 1.4262 - val_accuracy: 0.7204 - lr: 0.0010 - 13s/epoch - 353ms/step
Epoch 62/100
36/36 - 13s - loss: 0.0755 - accuracy: 0.9767 - val_loss: 1.4449 - val_accuracy: 0.7180 - lr: 0.0010 - 13s/epoch - 349ms/step
Epoch 63/100
36/36 - 13s - loss: 0.0752 - accuracy: 0.9768 - val_loss: 1.4022 - val_accuracy: 0.7184 - lr: 0.0010 - 13s/epoch - 348ms/step
Epoch 64/100
36/36 - 12s - loss: 0.0813 - accuracy: 0.9747 - val_loss: 1.4504 - val_accuracy: 0.7114 - lr: 0.0010 - 12s/epoch - 325ms/step
Epoch 65/100
36/36 - 12s - loss: 0.0824 - accuracy: 0.9741 - val_loss: 1.4367 - val_accuracy: 0.7146 - lr: 0.0010 - 12s/epoch - 335ms/step
Epoch 66/100
36/36 - 12s - loss: 0.0746 - accuracy: 0.9764 - val_loss: 1.4206 - val_accuracy: 0.7194 - lr: 0.0010 - 12s/epoch - 343ms/step
Epoch 67/100
36/36 - 12s - loss: 0.0738 - accuracy: 0.9774 - val_loss: 1.4463 - val_accuracy: 0.7162 - lr: 0.0010 - 12s/epoch - 342ms/step
Epoch 68/100
36/36 - 12s - loss: 0.0733 - accuracy: 0.9776 - val_loss: 1.4044 - val_accuracy: 0.7219 - lr: 0.0010 - 12s/epoch - 325ms/step
Epoch 69/100
36/36 - 12s - loss: 0.0745 - accuracy: 0.9771 - val_loss: 1.4126 - val_accuracy: 0.7203 - lr: 0.0010 - 12s/epoch - 327ms/step
Epoch 70/100
36/36 - 12s - loss: 0.0795 - accuracy: 0.9753 - val_loss: 1.4199 - val_accuracy: 0.7212 - lr: 0.0010 - 12s/epoch - 328ms/step
Epoch 71/100
36/36 - 23s - loss: 0.0723 - accuracy: 0.9773 - val_loss: 1.4641 - val_accuracy: 0.7124 - lr: 0.0010 - 23s/epoch - 647ms/step
Epoch 72/100
36/36 - 13s - loss: 0.0802 - accuracy: 0.9750 - val_loss: 1.4539 - val_accuracy: 0.7149 - lr: 0.0010 - 13s/epoch - 349ms/step
Epoch 73/100
36/36 - 11s - loss: 0.0772 - accuracy: 0.9759 - val_loss: 1.4106 - val_accuracy: 0.7215 - lr: 0.0010 - 11s/epoch - 319ms/step
Epoch 74/100
36/36 - 12s - loss: 0.0778 - accuracy: 0.9762 - val_loss: 1.4396 - val_accuracy: 0.7183 - lr: 0.0010 - 12s/epoch - 327ms/step
Epoch 75/100
36/36 - 12s - loss: 0.0788 - accuracy: 0.9750 - val_loss: 1.4478 - val_accuracy: 0.7175 - lr: 0.0010 - 12s/epoch - 339ms/step
Epoch 76/100
36/36 - 15s - loss: 0.0774 - accuracy: 0.9756 - val_loss: 1.4568 - val_accuracy: 0.7146 - lr: 0.0010 - 15s/epoch - 413ms/step
Epoch 77/100
36/36 - 13s - loss: 0.0750 - accuracy: 0.9769 - val_loss: 1.4392 - val_accuracy: 0.7188 - lr: 0.0010 - 13s/epoch - 369ms/step
Epoch 78/100
36/36 - 12s - loss: 0.0735 - accuracy: 0.9773 - val_loss: 1.4574 - val_accuracy: 0.7157 - lr: 0.0010 - 12s/epoch - 345ms/step
Epoch 79/100
36/36 - 12s - loss: 0.0742 - accuracy: 0.9767 - val_loss: 1.4510 - val_accuracy: 0.7180 - lr: 0.0010 - 12s/epoch - 344ms/step
Epoch 80/100
36/36 - 12s - loss: 0.0776 - accuracy: 0.9757 - val_loss: 1.4254 - val_accuracy: 0.7250 - lr: 0.0010 - 12s/epoch - 340ms/step
Epoch 81/100
36/36 - 11s - loss: 0.0763 - accuracy: 0.9763 - val_loss: 1.4631 - val_accuracy: 0.7180 - lr: 0.0010 - 11s/epoch - 312ms/step
Epoch 82/100
36/36 - 11s - loss: 0.0766 - accuracy: 0.9757 - val_loss: 1.4662 - val_accuracy: 0.7156 - lr: 0.0010 - 11s/epoch - 310ms/step
Epoch 83/100
36/36 - 11s - loss: 0.0756 - accuracy: 0.9768 - val_loss: 1.4536 - val_accuracy: 0.7189 - lr: 0.0010 - 11s/epoch - 308ms/step
Epoch 84/100
36/36 - 11s - loss: 0.0728 - accuracy: 0.9767 - val_loss: 1.4572 - val_accuracy: 0.7174 - lr: 0.0010 - 11s/epoch - 309ms/step
Epoch 85/100
36/36 - 11s - loss: 0.0791 - accuracy: 0.9751 - val_loss: 1.4710 - val_accuracy: 0.7172 - lr: 0.0010 - 11s/epoch - 307ms/step
Epoch 86/100
36/36 - 11s - loss: 0.0752 - accuracy: 0.9769 - val_loss: 1.4843 - val_accuracy: 0.7138 - lr: 0.0010 - 11s/epoch - 309ms/step
Epoch 87/100
36/36 - 11s - loss: 0.0744 - accuracy: 0.9768 - val_loss: 1.4868 - val_accuracy: 0.7129 - lr: 0.0010 - 11s/epoch - 309ms/step
Epoch 88/100
36/36 - 11s - loss: 0.0784 - accuracy: 0.9750 - val_loss: 1.4250 - val_accuracy: 0.7211 - lr: 0.0010 - 11s/epoch - 306ms/step
Epoch 89/100
36/36 - 11s - loss: 0.0765 - accuracy: 0.9762 - val_loss: 1.4331 - val_accuracy: 0.7204 - lr: 0.0010 - 11s/epoch - 310ms/step
Epoch 90/100
36/36 - 12s - loss: 0.0827 - accuracy: 0.9743 - val_loss: 1.4219 - val_accuracy: 0.7205 - lr: 0.0010 - 12s/epoch - 335ms/step
Epoch 91/100
36/36 - 12s - loss: 0.0738 - accuracy: 0.9770 - val_loss: 1.4304 - val_accuracy: 0.7187 - lr: 0.0010 - 12s/epoch - 340ms/step
Epoch 92/100
36/36 - 13s - loss: 0.0794 - accuracy: 0.9745 - val_loss: 1.4410 - val_accuracy: 0.7174 - lr: 0.0010 - 13s/epoch - 348ms/step
Epoch 93/100
36/36 - 14s - loss: 0.0761 - accuracy: 0.9761 - val_loss: 1.4650 - val_accuracy: 0.7150 - lr: 0.0010 - 14s/epoch - 386ms/step
Epoch 94/100
36/36 - 13s - loss: 0.0730 - accuracy: 0.9769 - val_loss: 1.4353 - val_accuracy: 0.7193 - lr: 0.0010 - 13s/epoch - 349ms/step
Epoch 95/100
36/36 - 12s - loss: 0.0773 - accuracy: 0.9755 - val_loss: 1.4931 - val_accuracy: 0.7119 - lr: 0.0010 - 12s/epoch - 342ms/step
Epoch 96/100
36/36 - 12s - loss: 0.0756 - accuracy: 0.9767 - val_loss: 1.4474 - val_accuracy: 0.7153 - lr: 0.0010 - 12s/epoch - 323ms/step
Epoch 97/100
36/36 - 11s - loss: 0.0749 - accuracy: 0.9760 - val_loss: 1.4527 - val_accuracy: 0.7164 - lr: 0.0010 - 11s/epoch - 306ms/step
Epoch 98/100
36/36 - 11s - loss: 0.0741 - accuracy: 0.9770 - val_loss: 1.4478 - val_accuracy: 0.7198 - lr: 0.0010 - 11s/epoch - 311ms/step
Epoch 99/100
36/36 - 12s - loss: 0.0751 - accuracy: 0.9765 - val_loss: 1.4574 - val_accuracy: 0.7182 - lr: 0.0010 - 12s/epoch - 333ms/step
Epoch 100/100
36/36 - 13s - loss: 0.0744 - accuracy: 0.9774 - val_loss: 1.4439 - val_accuracy: 0.7196 - lr: 0.0010 - 13s/epoch - 356ms/step
Loss: poisson
Epoch number: 75
fitting with batch size: 1500
Epoch 1/75
59/59 - 17s - loss: 0.2160 - accuracy: 0.9752 - val_loss: 0.4887 - val_accuracy: 0.7177 - lr: 0.0010 - 17s/epoch - 289ms/step
Epoch 2/75
59/59 - 13s - loss: 0.2143 - accuracy: 0.9781 - val_loss: 0.4908 - val_accuracy: 0.7197 - lr: 0.0010 - 13s/epoch - 220ms/step
Epoch 3/75
59/59 - 13s - loss: 0.2138 - accuracy: 0.9784 - val_loss: 0.4933 - val_accuracy: 0.7170 - lr: 0.0010 - 13s/epoch - 224ms/step
Epoch 4/75
59/59 - 13s - loss: 0.2138 - accuracy: 0.9789 - val_loss: 0.4945 - val_accuracy: 0.7169 - lr: 0.0010 - 13s/epoch - 215ms/step
Epoch 5/75
59/59 - 13s - loss: 0.2139 - accuracy: 0.9786 - val_loss: 0.4891 - val_accuracy: 0.7209 - lr: 0.0010 - 13s/epoch - 221ms/step
Epoch 6/75
59/59 - 13s - loss: 0.2139 - accuracy: 0.9786 - val_loss: 0.4921 - val_accuracy: 0.7178 - lr: 0.0010 - 13s/epoch - 225ms/step
Epoch 7/75
59/59 - 14s - loss: 0.2139 - accuracy: 0.9783 - val_loss: 0.4929 - val_accuracy: 0.7173 - lr: 0.0010 - 14s/epoch - 245ms/step
Epoch 8/75
59/59 - 14s - loss: 0.2137 - accuracy: 0.9785 - val_loss: 0.4943 - val_accuracy: 0.7155 - lr: 0.0010 - 14s/epoch - 237ms/step
Epoch 9/75
59/59 - 13s - loss: 0.2134 - accuracy: 0.9789 - val_loss: 0.4926 - val_accuracy: 0.7176 - lr: 0.0010 - 13s/epoch - 213ms/step
Epoch 10/75
59/59 - 14s - loss: 0.2138 - accuracy: 0.9783 - val_loss: 0.4954 - val_accuracy: 0.7180 - lr: 0.0010 - 14s/epoch - 243ms/step
Epoch 11/75
59/59 - 12s - loss: 0.2138 - accuracy: 0.9790 - val_loss: 0.4960 - val_accuracy: 0.7159 - lr: 0.0010 - 12s/epoch - 195ms/step
Epoch 12/75
59/59 - 11s - loss: 0.2139 - accuracy: 0.9786 - val_loss: 0.4936 - val_accuracy: 0.7169 - lr: 0.0010 - 11s/epoch - 190ms/step
Epoch 13/75
59/59 - 11s - loss: 0.2140 - accuracy: 0.9787 - val_loss: 0.4907 - val_accuracy: 0.7192 - lr: 0.0010 - 11s/epoch - 192ms/step
Epoch 14/75
59/59 - 11s - loss: 0.2139 - accuracy: 0.9787 - val_loss: 0.4911 - val_accuracy: 0.7186 - lr: 0.0010 - 11s/epoch - 192ms/step
Epoch 15/75
59/59 - 12s - loss: 0.2139 - accuracy: 0.9788 - val_loss: 0.4953 - val_accuracy: 0.7144 - lr: 0.0010 - 12s/epoch - 200ms/step
Epoch 16/75
59/59 - 13s - loss: 0.2137 - accuracy: 0.9789 - val_loss: 0.4955 - val_accuracy: 0.7141 - lr: 0.0010 - 13s/epoch - 219ms/step
Epoch 17/75
59/59 - 13s - loss: 0.2139 - accuracy: 0.9785 - val_loss: 0.4924 - val_accuracy: 0.7168 - lr: 0.0010 - 13s/epoch - 220ms/step
Epoch 18/75
59/59 - 13s - loss: 0.2141 - accuracy: 0.9780 - val_loss: 0.4925 - val_accuracy: 0.7145 - lr: 0.0010 - 13s/epoch - 221ms/step
Epoch 19/75
59/59 - 13s - loss: 0.2143 - accuracy: 0.9781 - val_loss: 0.4975 - val_accuracy: 0.7150 - lr: 0.0010 - 13s/epoch - 216ms/step
Epoch 20/75
59/59 - 13s - loss: 0.2139 - accuracy: 0.9781 - val_loss: 0.4943 - val_accuracy: 0.7184 - lr: 0.0010 - 13s/epoch - 221ms/step
Epoch 21/75
59/59 - 13s - loss: 0.2144 - accuracy: 0.9785 - val_loss: 0.4963 - val_accuracy: 0.7134 - lr: 0.0010 - 13s/epoch - 216ms/step
Epoch 22/75
59/59 - 13s - loss: 0.2148 - accuracy: 0.9770 - val_loss: 0.4905 - val_accuracy: 0.7201 - lr: 0.0010 - 13s/epoch - 223ms/step
Epoch 23/75
59/59 - 13s - loss: 0.2146 - accuracy: 0.9770 - val_loss: 0.4967 - val_accuracy: 0.7156 - lr: 0.0010 - 13s/epoch - 217ms/step
Epoch 24/75
59/59 - 13s - loss: 0.2146 - accuracy: 0.9770 - val_loss: 0.4921 - val_accuracy: 0.7160 - lr: 0.0010 - 13s/epoch - 216ms/step
Epoch 25/75
59/59 - 13s - loss: 0.2144 - accuracy: 0.9776 - val_loss: 0.4945 - val_accuracy: 0.7178 - lr: 0.0010 - 13s/epoch - 215ms/step
Epoch 26/75
59/59 - 13s - loss: 0.2148 - accuracy: 0.9765 - val_loss: 0.4912 - val_accuracy: 0.7217 - lr: 0.0010 - 13s/epoch - 220ms/step
Epoch 27/75
59/59 - 13s - loss: 0.2153 - accuracy: 0.9764 - val_loss: 0.4873 - val_accuracy: 0.7201 - lr: 0.0010 - 13s/epoch - 223ms/step
Epoch 28/75
59/59 - 13s - loss: 0.2151 - accuracy: 0.9764 - val_loss: 0.5004 - val_accuracy: 0.7101 - lr: 0.0010 - 13s/epoch - 222ms/step
Epoch 29/75
59/59 - 13s - loss: 0.2158 - accuracy: 0.9749 - val_loss: 0.4955 - val_accuracy: 0.7109 - lr: 0.0010 - 13s/epoch - 219ms/step
Epoch 30/75
59/59 - 13s - loss: 0.2156 - accuracy: 0.9757 - val_loss: 0.4920 - val_accuracy: 0.7142 - lr: 0.0010 - 13s/epoch - 214ms/step
Epoch 31/75
59/59 - 13s - loss: 0.2160 - accuracy: 0.9749 - val_loss: 0.4982 - val_accuracy: 0.7072 - lr: 0.0010 - 13s/epoch - 216ms/step
Epoch 32/75
59/59 - 13s - loss: 0.2167 - accuracy: 0.9727 - val_loss: 0.4877 - val_accuracy: 0.7194 - lr: 0.0010 - 13s/epoch - 212ms/step
Epoch 33/75
59/59 - 13s - loss: 0.2169 - accuracy: 0.9736 - val_loss: 0.4862 - val_accuracy: 0.7167 - lr: 0.0010 - 13s/epoch - 219ms/step
Epoch 34/75
59/59 - 14s - loss: 0.2171 - accuracy: 0.9727 - val_loss: 0.4918 - val_accuracy: 0.7139 - lr: 0.0010 - 14s/epoch - 229ms/step
Epoch 35/75
59/59 - 13s - loss: 0.2170 - accuracy: 0.9728 - val_loss: 0.4943 - val_accuracy: 0.7125 - lr: 0.0010 - 13s/epoch - 223ms/step
Epoch 36/75
59/59 - 11s - loss: 0.2175 - accuracy: 0.9718 - val_loss: 0.4777 - val_accuracy: 0.7283 - lr: 0.0010 - 11s/epoch - 193ms/step
Epoch 37/75
59/59 - 12s - loss: 0.2181 - accuracy: 0.9709 - val_loss: 0.4860 - val_accuracy: 0.7158 - lr: 0.0010 - 12s/epoch - 195ms/step
Epoch 38/75
59/59 - 14s - loss: 0.2184 - accuracy: 0.9700 - val_loss: 0.4905 - val_accuracy: 0.7129 - lr: 0.0010 - 14s/epoch - 239ms/step
Epoch 39/75
59/59 - 14s - loss: 0.2188 - accuracy: 0.9693 - val_loss: 0.4875 - val_accuracy: 0.7105 - lr: 0.0010 - 14s/epoch - 235ms/step
Epoch 40/75
59/59 - 12s - loss: 0.2193 - accuracy: 0.9695 - val_loss: 0.4848 - val_accuracy: 0.7128 - lr: 0.0010 - 12s/epoch - 209ms/step
Epoch 41/75
59/59 - 13s - loss: 0.2181 - accuracy: 0.9710 - val_loss: 0.4832 - val_accuracy: 0.7134 - lr: 0.0010 - 13s/epoch - 217ms/step
Epoch 42/75
59/59 - 14s - loss: 0.2187 - accuracy: 0.9699 - val_loss: 0.4788 - val_accuracy: 0.7184 - lr: 0.0010 - 14s/epoch - 229ms/step
Epoch 43/75
59/59 - 13s - loss: 0.2186 - accuracy: 0.9707 - val_loss: 0.4794 - val_accuracy: 0.7188 - lr: 0.0010 - 13s/epoch - 222ms/step
Epoch 44/75
59/59 - 12s - loss: 0.2190 - accuracy: 0.9691 - val_loss: 0.4785 - val_accuracy: 0.7178 - lr: 0.0010 - 12s/epoch - 202ms/step
Epoch 45/75
59/59 - 11s - loss: 0.2194 - accuracy: 0.9687 - val_loss: 0.4872 - val_accuracy: 0.7054 - lr: 0.0010 - 11s/epoch - 189ms/step
Epoch 46/75
59/59 - 12s - loss: 0.2188 - accuracy: 0.9696 - val_loss: 0.4845 - val_accuracy: 0.7080 - lr: 0.0010 - 12s/epoch - 205ms/step
Epoch 47/75
59/59 - 13s - loss: 0.2200 - accuracy: 0.9671 - val_loss: 0.4715 - val_accuracy: 0.7149 - lr: 0.0010 - 13s/epoch - 218ms/step
Epoch 48/75
59/59 - 13s - loss: 0.2185 - accuracy: 0.9699 - val_loss: 0.4802 - val_accuracy: 0.7140 - lr: 0.0010 - 13s/epoch - 216ms/step
Epoch 49/75
59/59 - 13s - loss: 0.2190 - accuracy: 0.9691 - val_loss: 0.4859 - val_accuracy: 0.7042 - lr: 0.0010 - 13s/epoch - 214ms/step
Epoch 50/75
59/59 - 13s - loss: 0.2192 - accuracy: 0.9691 - val_loss: 0.4814 - val_accuracy: 0.7099 - lr: 0.0010 - 13s/epoch - 219ms/step
Epoch 51/75
59/59 - 13s - loss: 0.2193 - accuracy: 0.9693 - val_loss: 0.4791 - val_accuracy: 0.7105 - lr: 0.0010 - 13s/epoch - 216ms/step
Epoch 52/75
59/59 - 13s - loss: 0.2191 - accuracy: 0.9697 - val_loss: 0.4881 - val_accuracy: 0.7041 - lr: 0.0010 - 13s/epoch - 218ms/step
Epoch 53/75
59/59 - 13s - loss: 0.2191 - accuracy: 0.9681 - val_loss: 0.4733 - val_accuracy: 0.7152 - lr: 0.0010 - 13s/epoch - 222ms/step
Epoch 54/75
59/59 - 13s - loss: 0.2196 - accuracy: 0.9682 - val_loss: 0.4773 - val_accuracy: 0.7051 - lr: 0.0010 - 13s/epoch - 220ms/step
Epoch 55/75
59/59 - 14s - loss: 0.2197 - accuracy: 0.9681 - val_loss: 0.4792 - val_accuracy: 0.7109 - lr: 0.0010 - 14s/epoch - 242ms/step
Epoch 56/75
59/59 - 13s - loss: 0.2195 - accuracy: 0.9685 - val_loss: 0.4759 - val_accuracy: 0.7108 - lr: 0.0010 - 13s/epoch - 218ms/step
Epoch 57/75
59/59 - 13s - loss: 0.2191 - accuracy: 0.9695 - val_loss: 0.4849 - val_accuracy: 0.7014 - lr: 0.0010 - 13s/epoch - 216ms/step
Epoch 58/75
59/59 - 13s - loss: 0.2186 - accuracy: 0.9703 - val_loss: 0.4705 - val_accuracy: 0.7140 - lr: 0.0010 - 13s/epoch - 215ms/step
Epoch 59/75
59/59 - 12s - loss: 0.2195 - accuracy: 0.9687 - val_loss: 0.4765 - val_accuracy: 0.7069 - lr: 0.0010 - 12s/epoch - 204ms/step
Epoch 60/75
59/59 - 14s - loss: 0.2193 - accuracy: 0.9693 - val_loss: 0.4760 - val_accuracy: 0.7084 - lr: 0.0010 - 14s/epoch - 234ms/step
Epoch 61/75
59/59 - 14s - loss: 0.2191 - accuracy: 0.9695 - val_loss: 0.4717 - val_accuracy: 0.7140 - lr: 0.0010 - 14s/epoch - 240ms/step
Epoch 62/75
59/59 - 13s - loss: 0.2196 - accuracy: 0.9678 - val_loss: 0.4734 - val_accuracy: 0.7149 - lr: 0.0010 - 13s/epoch - 229ms/step
Epoch 63/75
59/59 - 13s - loss: 0.2202 - accuracy: 0.9673 - val_loss: 0.4725 - val_accuracy: 0.7119 - lr: 0.0010 - 13s/epoch - 221ms/step
Epoch 64/75
59/59 - 13s - loss: 0.2201 - accuracy: 0.9679 - val_loss: 0.4817 - val_accuracy: 0.7014 - lr: 0.0010 - 13s/epoch - 219ms/step
Epoch 65/75
59/59 - 13s - loss: 0.2197 - accuracy: 0.9675 - val_loss: 0.4856 - val_accuracy: 0.7011 - lr: 0.0010 - 13s/epoch - 220ms/step
Epoch 66/75
59/59 - 13s - loss: 0.2193 - accuracy: 0.9686 - val_loss: 0.4812 - val_accuracy: 0.7017 - lr: 0.0010 - 13s/epoch - 223ms/step
Epoch 67/75
59/59 - 13s - loss: 0.2196 - accuracy: 0.9681 - val_loss: 0.4789 - val_accuracy: 0.7071 - lr: 0.0010 - 13s/epoch - 219ms/step
Epoch 68/75
59/59 - 12s - loss: 0.2197 - accuracy: 0.9678 - val_loss: 0.4656 - val_accuracy: 0.7121 - lr: 0.0010 - 12s/epoch - 203ms/step
Epoch 69/75
59/59 - 13s - loss: 0.2191 - accuracy: 0.9697 - val_loss: 0.4805 - val_accuracy: 0.7060 - lr: 0.0010 - 13s/epoch - 215ms/step
Epoch 70/75
59/59 - 13s - loss: 0.2194 - accuracy: 0.9684 - val_loss: 0.4734 - val_accuracy: 0.7071 - lr: 0.0010 - 13s/epoch - 220ms/step
Epoch 71/75
59/59 - 14s - loss: 0.2194 - accuracy: 0.9680 - val_loss: 0.4704 - val_accuracy: 0.7112 - lr: 0.0010 - 14s/epoch - 236ms/step
Epoch 72/75
59/59 - 13s - loss: 0.2193 - accuracy: 0.9685 - val_loss: 0.4790 - val_accuracy: 0.7062 - lr: 0.0010 - 13s/epoch - 224ms/step
Epoch 73/75
59/59 - 13s - loss: 0.2198 - accuracy: 0.9673 - val_loss: 0.4731 - val_accuracy: 0.7003 - lr: 0.0010 - 13s/epoch - 215ms/step
Epoch 74/75
59/59 - 13s - loss: 0.2207 - accuracy: 0.9666 - val_loss: 0.4640 - val_accuracy: 0.7172 - lr: 0.0010 - 13s/epoch - 216ms/step
Epoch 75/75
59/59 - 13s - loss: 0.2190 - accuracy: 0.9695 - val_loss: 0.4648 - val_accuracy: 0.7169 - lr: 0.0010 - 13s/epoch - 219ms/step
fitting with batch size: 2500
Epoch 1/75
36/36 - 15s - loss: 0.2175 - accuracy: 0.9715 - val_loss: 0.4780 - val_accuracy: 0.7042 - lr: 0.0010 - 15s/epoch - 415ms/step
Epoch 2/75
36/36 - 12s - loss: 0.2172 - accuracy: 0.9729 - val_loss: 0.4714 - val_accuracy: 0.7164 - lr: 0.0010 - 12s/epoch - 336ms/step
Epoch 3/75
36/36 - 12s - loss: 0.2167 - accuracy: 0.9733 - val_loss: 0.4781 - val_accuracy: 0.7052 - lr: 0.0010 - 12s/epoch - 335ms/step
Epoch 4/75
36/36 - 12s - loss: 0.2160 - accuracy: 0.9744 - val_loss: 0.4742 - val_accuracy: 0.7133 - lr: 0.0010 - 12s/epoch - 339ms/step
Epoch 5/75
36/36 - 12s - loss: 0.2169 - accuracy: 0.9735 - val_loss: 0.4779 - val_accuracy: 0.7090 - lr: 0.0010 - 12s/epoch - 338ms/step
Epoch 6/75
36/36 - 12s - loss: 0.2159 - accuracy: 0.9752 - val_loss: 0.4772 - val_accuracy: 0.7112 - lr: 0.0010 - 12s/epoch - 335ms/step
Epoch 7/75
36/36 - 12s - loss: 0.2156 - accuracy: 0.9753 - val_loss: 0.4802 - val_accuracy: 0.7094 - lr: 0.0010 - 12s/epoch - 339ms/step
Epoch 8/75
36/36 - 12s - loss: 0.2159 - accuracy: 0.9754 - val_loss: 0.4752 - val_accuracy: 0.7179 - lr: 0.0010 - 12s/epoch - 343ms/step
Epoch 9/75
36/36 - 12s - loss: 0.2153 - accuracy: 0.9752 - val_loss: 0.4740 - val_accuracy: 0.7181 - lr: 0.0010 - 12s/epoch - 342ms/step
Epoch 10/75
36/36 - 12s - loss: 0.2158 - accuracy: 0.9750 - val_loss: 0.4825 - val_accuracy: 0.7103 - lr: 0.0010 - 12s/epoch - 339ms/step
Epoch 11/75
36/36 - 12s - loss: 0.2156 - accuracy: 0.9752 - val_loss: 0.4785 - val_accuracy: 0.7166 - lr: 0.0010 - 12s/epoch - 339ms/step
Epoch 12/75
36/36 - 17s - loss: 0.2159 - accuracy: 0.9749 - val_loss: 0.4744 - val_accuracy: 0.7183 - lr: 0.0010 - 17s/epoch - 483ms/step
Epoch 13/75
36/36 - 13s - loss: 0.2156 - accuracy: 0.9759 - val_loss: 0.4827 - val_accuracy: 0.7111 - lr: 0.0010 - 13s/epoch - 348ms/step
Epoch 14/75
36/36 - 13s - loss: 0.2153 - accuracy: 0.9756 - val_loss: 0.4813 - val_accuracy: 0.7096 - lr: 0.0010 - 13s/epoch - 349ms/step
Epoch 15/75
36/36 - 12s - loss: 0.2158 - accuracy: 0.9753 - val_loss: 0.4818 - val_accuracy: 0.7118 - lr: 0.0010 - 12s/epoch - 347ms/step
Epoch 16/75
36/36 - 13s - loss: 0.2151 - accuracy: 0.9763 - val_loss: 0.4799 - val_accuracy: 0.7153 - lr: 0.0010 - 13s/epoch - 347ms/step
Epoch 17/75
36/36 - 12s - loss: 0.2156 - accuracy: 0.9750 - val_loss: 0.4744 - val_accuracy: 0.7198 - lr: 0.0010 - 12s/epoch - 343ms/step
Epoch 18/75
36/36 - 12s - loss: 0.2155 - accuracy: 0.9756 - val_loss: 0.4874 - val_accuracy: 0.7092 - lr: 0.0010 - 12s/epoch - 342ms/step
Epoch 19/75
36/36 - 12s - loss: 0.2157 - accuracy: 0.9754 - val_loss: 0.4865 - val_accuracy: 0.7094 - lr: 0.0010 - 12s/epoch - 338ms/step
Epoch 20/75
36/36 - 10s - loss: 0.2164 - accuracy: 0.9742 - val_loss: 0.4903 - val_accuracy: 0.7038 - lr: 0.0010 - 10s/epoch - 265ms/step
Epoch 21/75
36/36 - 10s - loss: 0.2166 - accuracy: 0.9737 - val_loss: 0.4880 - val_accuracy: 0.7121 - lr: 0.0010 - 10s/epoch - 272ms/step
Epoch 22/75
36/36 - 8s - loss: 0.2153 - accuracy: 0.9754 - val_loss: 0.4879 - val_accuracy: 0.7134 - lr: 0.0010 - 8s/epoch - 223ms/step
Epoch 23/75
36/36 - 8s - loss: 0.2149 - accuracy: 0.9765 - val_loss: 0.4871 - val_accuracy: 0.7123 - lr: 0.0010 - 8s/epoch - 212ms/step
Epoch 24/75
36/36 - 7s - loss: 0.2158 - accuracy: 0.9755 - val_loss: 0.4846 - val_accuracy: 0.7146 - lr: 0.0010 - 7s/epoch - 203ms/step
Epoch 25/75
36/36 - 8s - loss: 0.2151 - accuracy: 0.9761 - val_loss: 0.4884 - val_accuracy: 0.7097 - lr: 0.0010 - 8s/epoch - 209ms/step
Epoch 26/75
36/36 - 8s - loss: 0.2149 - accuracy: 0.9767 - val_loss: 0.4852 - val_accuracy: 0.7141 - lr: 0.0010 - 8s/epoch - 226ms/step
Epoch 27/75
36/36 - 8s - loss: 0.2149 - accuracy: 0.9768 - val_loss: 0.4886 - val_accuracy: 0.7137 - lr: 0.0010 - 8s/epoch - 216ms/step
Epoch 28/75
36/36 - 8s - loss: 0.2152 - accuracy: 0.9760 - val_loss: 0.4915 - val_accuracy: 0.7082 - lr: 0.0010 - 8s/epoch - 213ms/step
Epoch 29/75
36/36 - 8s - loss: 0.2149 - accuracy: 0.9770 - val_loss: 0.4933 - val_accuracy: 0.7114 - lr: 0.0010 - 8s/epoch - 226ms/step
Epoch 30/75
36/36 - 9s - loss: 0.2148 - accuracy: 0.9764 - val_loss: 0.4858 - val_accuracy: 0.7170 - lr: 0.0010 - 9s/epoch - 258ms/step
Epoch 31/75
36/36 - 9s - loss: 0.2144 - accuracy: 0.9772 - val_loss: 0.4879 - val_accuracy: 0.7147 - lr: 0.0010 - 9s/epoch - 249ms/step
Epoch 32/75
36/36 - 9s - loss: 0.2155 - accuracy: 0.9754 - val_loss: 0.4862 - val_accuracy: 0.7133 - lr: 0.0010 - 9s/epoch - 247ms/step
Epoch 33/75
36/36 - 9s - loss: 0.2158 - accuracy: 0.9747 - val_loss: 0.4913 - val_accuracy: 0.7117 - lr: 0.0010 - 9s/epoch - 243ms/step
Epoch 34/75
36/36 - 9s - loss: 0.2162 - accuracy: 0.9748 - val_loss: 0.4902 - val_accuracy: 0.7083 - lr: 0.0010 - 9s/epoch - 243ms/step
Epoch 35/75
36/36 - 9s - loss: 0.2150 - accuracy: 0.9763 - val_loss: 0.4876 - val_accuracy: 0.7143 - lr: 0.0010 - 9s/epoch - 245ms/step
Epoch 36/75
36/36 - 9s - loss: 0.2149 - accuracy: 0.9772 - val_loss: 0.4889 - val_accuracy: 0.7115 - lr: 0.0010 - 9s/epoch - 248ms/step
Epoch 37/75
36/36 - 9s - loss: 0.2143 - accuracy: 0.9779 - val_loss: 0.4889 - val_accuracy: 0.7140 - lr: 0.0010 - 9s/epoch - 250ms/step
Epoch 38/75
36/36 - 9s - loss: 0.2149 - accuracy: 0.9763 - val_loss: 0.4904 - val_accuracy: 0.7142 - lr: 0.0010 - 9s/epoch - 250ms/step
Epoch 39/75
36/36 - 9s - loss: 0.2144 - accuracy: 0.9775 - val_loss: 0.4841 - val_accuracy: 0.7163 - lr: 0.0010 - 9s/epoch - 249ms/step
Epoch 40/75
36/36 - 9s - loss: 0.2146 - accuracy: 0.9772 - val_loss: 0.4883 - val_accuracy: 0.7141 - lr: 0.0010 - 9s/epoch - 247ms/step
Epoch 41/75
36/36 - 9s - loss: 0.2140 - accuracy: 0.9780 - val_loss: 0.4848 - val_accuracy: 0.7169 - lr: 0.0010 - 9s/epoch - 243ms/step
Epoch 42/75
36/36 - 9s - loss: 0.2148 - accuracy: 0.9764 - val_loss: 0.4924 - val_accuracy: 0.7101 - lr: 0.0010 - 9s/epoch - 243ms/step
Epoch 43/75
36/36 - 9s - loss: 0.2165 - accuracy: 0.9737 - val_loss: 0.4878 - val_accuracy: 0.7136 - lr: 0.0010 - 9s/epoch - 241ms/step
Epoch 44/75
36/36 - 9s - loss: 0.2151 - accuracy: 0.9758 - val_loss: 0.4916 - val_accuracy: 0.7136 - lr: 0.0010 - 9s/epoch - 247ms/step
Epoch 45/75
36/36 - 9s - loss: 0.2168 - accuracy: 0.9733 - val_loss: 0.4899 - val_accuracy: 0.7104 - lr: 0.0010 - 9s/epoch - 252ms/step
Epoch 46/75
36/36 - 9s - loss: 0.2163 - accuracy: 0.9748 - val_loss: 0.4906 - val_accuracy: 0.7131 - lr: 0.0010 - 9s/epoch - 239ms/step
Epoch 47/75
36/36 - 8s - loss: 0.2147 - accuracy: 0.9772 - val_loss: 0.4968 - val_accuracy: 0.7097 - lr: 0.0010 - 8s/epoch - 225ms/step
Epoch 48/75
36/36 - 9s - loss: 0.2144 - accuracy: 0.9775 - val_loss: 0.4949 - val_accuracy: 0.7103 - lr: 0.0010 - 9s/epoch - 237ms/step
Epoch 49/75
36/36 - 8s - loss: 0.2141 - accuracy: 0.9771 - val_loss: 0.4923 - val_accuracy: 0.7160 - lr: 0.0010 - 8s/epoch - 229ms/step
Epoch 50/75
36/36 - 9s - loss: 0.2147 - accuracy: 0.9772 - val_loss: 0.4902 - val_accuracy: 0.7159 - lr: 0.0010 - 9s/epoch - 237ms/step
Epoch 51/75
36/36 - 9s - loss: 0.2156 - accuracy: 0.9754 - val_loss: 0.4955 - val_accuracy: 0.7123 - lr: 0.0010 - 9s/epoch - 250ms/step
Epoch 52/75
36/36 - 9s - loss: 0.2147 - accuracy: 0.9769 - val_loss: 0.4950 - val_accuracy: 0.7131 - lr: 0.0010 - 9s/epoch - 244ms/step
Epoch 53/75
36/36 - 9s - loss: 0.2142 - accuracy: 0.9774 - val_loss: 0.4963 - val_accuracy: 0.7128 - lr: 0.0010 - 9s/epoch - 248ms/step
Epoch 54/75
36/36 - 9s - loss: 0.2141 - accuracy: 0.9775 - val_loss: 0.4941 - val_accuracy: 0.7132 - lr: 0.0010 - 9s/epoch - 236ms/step
Epoch 55/75
36/36 - 8s - loss: 0.2139 - accuracy: 0.9778 - val_loss: 0.4954 - val_accuracy: 0.7146 - lr: 0.0010 - 8s/epoch - 229ms/step
Epoch 56/75
36/36 - 9s - loss: 0.2139 - accuracy: 0.9780 - val_loss: 0.4927 - val_accuracy: 0.7141 - lr: 0.0010 - 9s/epoch - 239ms/step
Epoch 57/75
36/36 - 9s - loss: 0.2140 - accuracy: 0.9784 - val_loss: 0.4963 - val_accuracy: 0.7146 - lr: 0.0010 - 9s/epoch - 245ms/step
Epoch 58/75
36/36 - 9s - loss: 0.2155 - accuracy: 0.9764 - val_loss: 0.4941 - val_accuracy: 0.7150 - lr: 0.0010 - 9s/epoch - 245ms/step
Epoch 59/75
36/36 - 9s - loss: 0.2144 - accuracy: 0.9778 - val_loss: 0.4978 - val_accuracy: 0.7145 - lr: 0.0010 - 9s/epoch - 245ms/step
Epoch 60/75
36/36 - 9s - loss: 0.2142 - accuracy: 0.9780 - val_loss: 0.4941 - val_accuracy: 0.7160 - lr: 0.0010 - 9s/epoch - 245ms/step
Epoch 61/75
36/36 - 9s - loss: 0.2148 - accuracy: 0.9761 - val_loss: 0.4875 - val_accuracy: 0.7217 - lr: 0.0010 - 9s/epoch - 240ms/step
Epoch 62/75
36/36 - 9s - loss: 0.2139 - accuracy: 0.9780 - val_loss: 0.4961 - val_accuracy: 0.7153 - lr: 0.0010 - 9s/epoch - 240ms/step
Epoch 63/75
36/36 - 9s - loss: 0.2136 - accuracy: 0.9784 - val_loss: 0.4929 - val_accuracy: 0.7165 - lr: 0.0010 - 9s/epoch - 239ms/step
Epoch 64/75
36/36 - 9s - loss: 0.2138 - accuracy: 0.9782 - val_loss: 0.4958 - val_accuracy: 0.7157 - lr: 0.0010 - 9s/epoch - 244ms/step
Epoch 65/75
36/36 - 9s - loss: 0.2142 - accuracy: 0.9775 - val_loss: 0.4988 - val_accuracy: 0.7157 - lr: 0.0010 - 9s/epoch - 255ms/step
Epoch 66/75
36/36 - 9s - loss: 0.2139 - accuracy: 0.9784 - val_loss: 0.4980 - val_accuracy: 0.7157 - lr: 0.0010 - 9s/epoch - 258ms/step
Epoch 67/75
36/36 - 10s - loss: 0.2137 - accuracy: 0.9782 - val_loss: 0.4931 - val_accuracy: 0.7193 - lr: 0.0010 - 10s/epoch - 279ms/step
Epoch 68/75
36/36 - 10s - loss: 0.2139 - accuracy: 0.9782 - val_loss: 0.4938 - val_accuracy: 0.7175 - lr: 0.0010 - 10s/epoch - 270ms/step
Epoch 69/75
36/36 - 10s - loss: 0.2143 - accuracy: 0.9775 - val_loss: 0.4994 - val_accuracy: 0.7135 - lr: 0.0010 - 10s/epoch - 268ms/step
Epoch 70/75
36/36 - 9s - loss: 0.2141 - accuracy: 0.9779 - val_loss: 0.4999 - val_accuracy: 0.7141 - lr: 0.0010 - 9s/epoch - 258ms/step
Epoch 71/75
36/36 - 8s - loss: 0.2141 - accuracy: 0.9784 - val_loss: 0.5012 - val_accuracy: 0.7079 - lr: 0.0010 - 8s/epoch - 217ms/step
Epoch 72/75
36/36 - 8s - loss: 0.2148 - accuracy: 0.9766 - val_loss: 0.4919 - val_accuracy: 0.7169 - lr: 0.0010 - 8s/epoch - 212ms/step
Epoch 73/75
36/36 - 8s - loss: 0.2147 - accuracy: 0.9774 - val_loss: 0.4986 - val_accuracy: 0.7150 - lr: 0.0010 - 8s/epoch - 232ms/step
Epoch 74/75
36/36 - 8s - loss: 0.2138 - accuracy: 0.9785 - val_loss: 0.4985 - val_accuracy: 0.7138 - lr: 0.0010 - 8s/epoch - 220ms/step
Epoch 75/75
36/36 - 9s - loss: 0.2149 - accuracy: 0.9771 - val_loss: 0.4987 - val_accuracy: 0.7127 - lr: 0.0010 - 9s/epoch - 241ms/step
Epoch number: 100
fitting with batch size: 1500
Epoch 1/100
59/59 - 11s - loss: 0.2146 - accuracy: 0.9771 - val_loss: 0.4955 - val_accuracy: 0.7161 - lr: 0.0010 - 11s/epoch - 193ms/step
Epoch 2/100
59/59 - 8s - loss: 0.2149 - accuracy: 0.9764 - val_loss: 0.4960 - val_accuracy: 0.7133 - lr: 0.0010 - 8s/epoch - 144ms/step
Epoch 3/100
59/59 - 8s - loss: 0.2155 - accuracy: 0.9757 - val_loss: 0.4988 - val_accuracy: 0.7125 - lr: 0.0010 - 8s/epoch - 143ms/step
Epoch 4/100
59/59 - 8s - loss: 0.2152 - accuracy: 0.9762 - val_loss: 0.5030 - val_accuracy: 0.7105 - lr: 0.0010 - 8s/epoch - 143ms/step
Epoch 5/100
59/59 - 8s - loss: 0.2145 - accuracy: 0.9772 - val_loss: 0.4997 - val_accuracy: 0.7125 - lr: 0.0010 - 8s/epoch - 143ms/step
Epoch 6/100
59/59 - 8s - loss: 0.2151 - accuracy: 0.9759 - val_loss: 0.4959 - val_accuracy: 0.7154 - lr: 0.0010 - 8s/epoch - 143ms/step
Epoch 7/100
59/59 - 8s - loss: 0.2160 - accuracy: 0.9744 - val_loss: 0.4974 - val_accuracy: 0.7159 - lr: 0.0010 - 8s/epoch - 143ms/step
Epoch 8/100
59/59 - 8s - loss: 0.2167 - accuracy: 0.9735 - val_loss: 0.4915 - val_accuracy: 0.7162 - lr: 0.0010 - 8s/epoch - 143ms/step
Epoch 9/100
59/59 - 9s - loss: 0.2166 - accuracy: 0.9736 - val_loss: 0.4963 - val_accuracy: 0.7115 - lr: 0.0010 - 9s/epoch - 154ms/step
Epoch 10/100
59/59 - 9s - loss: 0.2170 - accuracy: 0.9730 - val_loss: 0.4819 - val_accuracy: 0.7217 - lr: 0.0010 - 9s/epoch - 149ms/step
Epoch 11/100
59/59 - 8s - loss: 0.2174 - accuracy: 0.9722 - val_loss: 0.4882 - val_accuracy: 0.7158 - lr: 0.0010 - 8s/epoch - 135ms/step
Epoch 12/100
59/59 - 8s - loss: 0.2170 - accuracy: 0.9728 - val_loss: 0.4968 - val_accuracy: 0.7134 - lr: 0.0010 - 8s/epoch - 143ms/step
Epoch 13/100
59/59 - 8s - loss: 0.2163 - accuracy: 0.9737 - val_loss: 0.5025 - val_accuracy: 0.7089 - lr: 0.0010 - 8s/epoch - 141ms/step
Epoch 14/100
59/59 - 8s - loss: 0.2184 - accuracy: 0.9705 - val_loss: 0.4919 - val_accuracy: 0.7110 - lr: 0.0010 - 8s/epoch - 143ms/step
Epoch 15/100
59/59 - 8s - loss: 0.2182 - accuracy: 0.9705 - val_loss: 0.4890 - val_accuracy: 0.7151 - lr: 0.0010 - 8s/epoch - 133ms/step
Epoch 16/100
59/59 - 8s - loss: 0.2180 - accuracy: 0.9707 - val_loss: 0.4987 - val_accuracy: 0.7014 - lr: 0.0010 - 8s/epoch - 131ms/step
Epoch 17/100
59/59 - 8s - loss: 0.2183 - accuracy: 0.9701 - val_loss: 0.4837 - val_accuracy: 0.7163 - lr: 0.0010 - 8s/epoch - 131ms/step
Epoch 18/100
59/59 - 8s - loss: 0.2184 - accuracy: 0.9703 - val_loss: 0.4898 - val_accuracy: 0.7087 - lr: 0.0010 - 8s/epoch - 131ms/step
Epoch 19/100
59/59 - 8s - loss: 0.2194 - accuracy: 0.9682 - val_loss: 0.4843 - val_accuracy: 0.7106 - lr: 0.0010 - 8s/epoch - 132ms/step
Epoch 20/100
59/59 - 8s - loss: 0.2193 - accuracy: 0.9679 - val_loss: 0.4815 - val_accuracy: 0.7183 - lr: 0.0010 - 8s/epoch - 131ms/step
Epoch 21/100
59/59 - 8s - loss: 0.2191 - accuracy: 0.9682 - val_loss: 0.4746 - val_accuracy: 0.7202 - lr: 0.0010 - 8s/epoch - 131ms/step
Epoch 22/100
59/59 - 8s - loss: 0.2190 - accuracy: 0.9691 - val_loss: 0.4891 - val_accuracy: 0.7141 - lr: 0.0010 - 8s/epoch - 133ms/step
Epoch 23/100
59/59 - 8s - loss: 0.2184 - accuracy: 0.9696 - val_loss: 0.4816 - val_accuracy: 0.7179 - lr: 0.0010 - 8s/epoch - 142ms/step
Epoch 24/100
59/59 - 8s - loss: 0.2182 - accuracy: 0.9704 - val_loss: 0.4870 - val_accuracy: 0.7120 - lr: 0.0010 - 8s/epoch - 138ms/step
Epoch 25/100
59/59 - 8s - loss: 0.2189 - accuracy: 0.9698 - val_loss: 0.4889 - val_accuracy: 0.7057 - lr: 0.0010 - 8s/epoch - 132ms/step
Epoch 26/100
59/59 - 8s - loss: 0.2194 - accuracy: 0.9683 - val_loss: 0.4755 - val_accuracy: 0.7190 - lr: 0.0010 - 8s/epoch - 130ms/step
Epoch 27/100
59/59 - 8s - loss: 0.2194 - accuracy: 0.9685 - val_loss: 0.4790 - val_accuracy: 0.7141 - lr: 0.0010 - 8s/epoch - 137ms/step
Epoch 28/100
59/59 - 8s - loss: 0.2193 - accuracy: 0.9681 - val_loss: 0.4873 - val_accuracy: 0.7022 - lr: 0.0010 - 8s/epoch - 134ms/step
Epoch 29/100
59/59 - 8s - loss: 0.2196 - accuracy: 0.9677 - val_loss: 0.4706 - val_accuracy: 0.7218 - lr: 0.0010 - 8s/epoch - 132ms/step
Epoch 30/100
59/59 - 9s - loss: 0.2182 - accuracy: 0.9700 - val_loss: 0.4837 - val_accuracy: 0.7107 - lr: 0.0010 - 9s/epoch - 146ms/step
Epoch 31/100
59/59 - 8s - loss: 0.2186 - accuracy: 0.9695 - val_loss: 0.4815 - val_accuracy: 0.7051 - lr: 0.0010 - 8s/epoch - 132ms/step
Epoch 32/100
59/59 - 8s - loss: 0.2186 - accuracy: 0.9699 - val_loss: 0.4801 - val_accuracy: 0.7127 - lr: 0.0010 - 8s/epoch - 139ms/step
Epoch 33/100
59/59 - 8s - loss: 0.2189 - accuracy: 0.9691 - val_loss: 0.4909 - val_accuracy: 0.6978 - lr: 0.0010 - 8s/epoch - 131ms/step
Epoch 34/100
59/59 - 8s - loss: 0.2190 - accuracy: 0.9693 - val_loss: 0.4634 - val_accuracy: 0.7222 - lr: 0.0010 - 8s/epoch - 139ms/step
Epoch 35/100
59/59 - 8s - loss: 0.2188 - accuracy: 0.9694 - val_loss: 0.4857 - val_accuracy: 0.7030 - lr: 0.0010 - 8s/epoch - 142ms/step
Epoch 36/100
59/59 - 9s - loss: 0.2192 - accuracy: 0.9684 - val_loss: 0.4820 - val_accuracy: 0.7059 - lr: 0.0010 - 9s/epoch - 146ms/step
Epoch 37/100
59/59 - 8s - loss: 0.2189 - accuracy: 0.9687 - val_loss: 0.4704 - val_accuracy: 0.7146 - lr: 0.0010 - 8s/epoch - 133ms/step
Epoch 38/100
59/59 - 8s - loss: 0.2188 - accuracy: 0.9699 - val_loss: 0.4768 - val_accuracy: 0.7070 - lr: 0.0010 - 8s/epoch - 132ms/step
Epoch 39/100
59/59 - 8s - loss: 0.2194 - accuracy: 0.9685 - val_loss: 0.4785 - val_accuracy: 0.7139 - lr: 0.0010 - 8s/epoch - 131ms/step
Epoch 40/100
59/59 - 8s - loss: 0.2194 - accuracy: 0.9683 - val_loss: 0.4890 - val_accuracy: 0.7003 - lr: 0.0010 - 8s/epoch - 130ms/step
Epoch 41/100
59/59 - 8s - loss: 0.2183 - accuracy: 0.9700 - val_loss: 0.4782 - val_accuracy: 0.7142 - lr: 0.0010 - 8s/epoch - 132ms/step
Epoch 42/100
59/59 - 8s - loss: 0.2188 - accuracy: 0.9693 - val_loss: 0.4859 - val_accuracy: 0.7027 - lr: 0.0010 - 8s/epoch - 136ms/step
Epoch 43/100
59/59 - 8s - loss: 0.2194 - accuracy: 0.9684 - val_loss: 0.4696 - val_accuracy: 0.7181 - lr: 0.0010 - 8s/epoch - 137ms/step
Epoch 44/100
59/59 - 8s - loss: 0.2191 - accuracy: 0.9690 - val_loss: 0.4866 - val_accuracy: 0.7082 - lr: 0.0010 - 8s/epoch - 134ms/step
Epoch 45/100
59/59 - 8s - loss: 0.2192 - accuracy: 0.9691 - val_loss: 0.4746 - val_accuracy: 0.7131 - lr: 0.0010 - 8s/epoch - 134ms/step
Epoch 46/100
59/59 - 8s - loss: 0.2184 - accuracy: 0.9705 - val_loss: 0.4855 - val_accuracy: 0.6990 - lr: 0.0010 - 8s/epoch - 137ms/step
Epoch 47/100
59/59 - 8s - loss: 0.2192 - accuracy: 0.9684 - val_loss: 0.4744 - val_accuracy: 0.7145 - lr: 0.0010 - 8s/epoch - 135ms/step
Epoch 48/100
59/59 - 8s - loss: 0.2195 - accuracy: 0.9680 - val_loss: 0.4773 - val_accuracy: 0.7150 - lr: 0.0010 - 8s/epoch - 134ms/step
Epoch 49/100
59/59 - 8s - loss: 0.2194 - accuracy: 0.9684 - val_loss: 0.4669 - val_accuracy: 0.7213 - lr: 0.0010 - 8s/epoch - 137ms/step
Epoch 50/100
59/59 - 8s - loss: 0.2196 - accuracy: 0.9682 - val_loss: 0.4714 - val_accuracy: 0.7157 - lr: 0.0010 - 8s/epoch - 132ms/step
Epoch 51/100
59/59 - 8s - loss: 0.2192 - accuracy: 0.9693 - val_loss: 0.4697 - val_accuracy: 0.7169 - lr: 0.0010 - 8s/epoch - 134ms/step
Epoch 52/100
59/59 - 8s - loss: 0.2192 - accuracy: 0.9691 - val_loss: 0.4735 - val_accuracy: 0.7105 - lr: 0.0010 - 8s/epoch - 131ms/step
Epoch 53/100
59/59 - 8s - loss: 0.2194 - accuracy: 0.9679 - val_loss: 0.4764 - val_accuracy: 0.7115 - lr: 0.0010 - 8s/epoch - 137ms/step
Epoch 54/100
59/59 - 8s - loss: 0.2188 - accuracy: 0.9689 - val_loss: 0.4725 - val_accuracy: 0.7104 - lr: 0.0010 - 8s/epoch - 140ms/step
Epoch 55/100
59/59 - 9s - loss: 0.2184 - accuracy: 0.9698 - val_loss: 0.4724 - val_accuracy: 0.7165 - lr: 0.0010 - 9s/epoch - 155ms/step
Epoch 56/100
59/59 - 9s - loss: 0.2187 - accuracy: 0.9699 - val_loss: 0.4792 - val_accuracy: 0.7098 - lr: 0.0010 - 9s/epoch - 149ms/step
Epoch 57/100
59/59 - 9s - loss: 0.2187 - accuracy: 0.9696 - val_loss: 0.4837 - val_accuracy: 0.7051 - lr: 0.0010 - 9s/epoch - 148ms/step
Epoch 58/100
59/59 - 9s - loss: 0.2198 - accuracy: 0.9671 - val_loss: 0.4753 - val_accuracy: 0.7096 - lr: 0.0010 - 9s/epoch - 146ms/step
Epoch 59/100
59/59 - 9s - loss: 0.2197 - accuracy: 0.9678 - val_loss: 0.4720 - val_accuracy: 0.7093 - lr: 0.0010 - 9s/epoch - 146ms/step
Epoch 60/100
59/59 - 9s - loss: 0.2191 - accuracy: 0.9685 - val_loss: 0.4766 - val_accuracy: 0.7053 - lr: 0.0010 - 9s/epoch - 146ms/step
Epoch 61/100
59/59 - 8s - loss: 0.2186 - accuracy: 0.9695 - val_loss: 0.4737 - val_accuracy: 0.7122 - lr: 0.0010 - 8s/epoch - 144ms/step
Epoch 62/100
59/59 - 9s - loss: 0.2182 - accuracy: 0.9698 - val_loss: 0.4830 - val_accuracy: 0.7080 - lr: 0.0010 - 9s/epoch - 144ms/step
Epoch 63/100
59/59 - 9s - loss: 0.2191 - accuracy: 0.9689 - val_loss: 0.4801 - val_accuracy: 0.7065 - lr: 0.0010 - 9s/epoch - 144ms/step
Epoch 64/100
59/59 - 9s - loss: 0.2188 - accuracy: 0.9691 - val_loss: 0.4766 - val_accuracy: 0.7115 - lr: 0.0010 - 9s/epoch - 144ms/step
Epoch 65/100
59/59 - 8s - loss: 0.2196 - accuracy: 0.9680 - val_loss: 0.4890 - val_accuracy: 0.7031 - lr: 0.0010 - 8s/epoch - 140ms/step
Epoch 66/100
59/59 - 9s - loss: 0.2191 - accuracy: 0.9691 - val_loss: 0.4799 - val_accuracy: 0.7066 - lr: 0.0010 - 9s/epoch - 147ms/step
Epoch 67/100
59/59 - 8s - loss: 0.2184 - accuracy: 0.9699 - val_loss: 0.4790 - val_accuracy: 0.7165 - lr: 0.0010 - 8s/epoch - 137ms/step
Epoch 68/100
59/59 - 8s - loss: 0.2176 - accuracy: 0.9708 - val_loss: 0.4730 - val_accuracy: 0.7172 - lr: 0.0010 - 8s/epoch - 132ms/step
Epoch 69/100
59/59 - 8s - loss: 0.2189 - accuracy: 0.9693 - val_loss: 0.4788 - val_accuracy: 0.7103 - lr: 0.0010 - 8s/epoch - 134ms/step
Epoch 70/100
59/59 - 8s - loss: 0.2188 - accuracy: 0.9691 - val_loss: 0.4804 - val_accuracy: 0.7133 - lr: 0.0010 - 8s/epoch - 131ms/step
Epoch 71/100
59/59 - 8s - loss: 0.2198 - accuracy: 0.9676 - val_loss: 0.4723 - val_accuracy: 0.7149 - lr: 0.0010 - 8s/epoch - 139ms/step
Epoch 72/100
59/59 - 8s - loss: 0.2189 - accuracy: 0.9691 - val_loss: 0.4739 - val_accuracy: 0.7096 - lr: 0.0010 - 8s/epoch - 131ms/step
Epoch 73/100
59/59 - 8s - loss: 0.2182 - accuracy: 0.9706 - val_loss: 0.4781 - val_accuracy: 0.7080 - lr: 0.0010 - 8s/epoch - 136ms/step
Epoch 74/100
59/59 - 8s - loss: 0.2184 - accuracy: 0.9699 - val_loss: 0.4737 - val_accuracy: 0.7149 - lr: 0.0010 - 8s/epoch - 139ms/step
Epoch 75/100
59/59 - 8s - loss: 0.2184 - accuracy: 0.9702 - val_loss: 0.4672 - val_accuracy: 0.7176 - lr: 0.0010 - 8s/epoch - 133ms/step
Epoch 76/100
59/59 - 9s - loss: 0.2188 - accuracy: 0.9697 - val_loss: 0.4758 - val_accuracy: 0.7124 - lr: 0.0010 - 9s/epoch - 146ms/step
Epoch 77/100
59/59 - 8s - loss: 0.2183 - accuracy: 0.9702 - val_loss: 0.4694 - val_accuracy: 0.7188 - lr: 0.0010 - 8s/epoch - 143ms/step
Epoch 78/100
59/59 - 8s - loss: 0.2177 - accuracy: 0.9709 - val_loss: 0.4709 - val_accuracy: 0.7154 - lr: 0.0010 - 8s/epoch - 131ms/step
Epoch 79/100
59/59 - 8s - loss: 0.2181 - accuracy: 0.9699 - val_loss: 0.4778 - val_accuracy: 0.7128 - lr: 0.0010 - 8s/epoch - 139ms/step
Epoch 80/100
59/59 - 8s - loss: 0.2188 - accuracy: 0.9687 - val_loss: 0.4744 - val_accuracy: 0.7146 - lr: 0.0010 - 8s/epoch - 132ms/step
Epoch 81/100
59/59 - 8s - loss: 0.2191 - accuracy: 0.9690 - val_loss: 0.4733 - val_accuracy: 0.7158 - lr: 0.0010 - 8s/epoch - 134ms/step
Epoch 82/100
59/59 - 8s - loss: 0.2194 - accuracy: 0.9686 - val_loss: 0.4790 - val_accuracy: 0.7171 - lr: 0.0010 - 8s/epoch - 137ms/step
Epoch 83/100
59/59 - 9s - loss: 0.2192 - accuracy: 0.9684 - val_loss: 0.4674 - val_accuracy: 0.7201 - lr: 0.0010 - 9s/epoch - 155ms/step
Epoch 84/100
59/59 - 9s - loss: 0.2188 - accuracy: 0.9695 - val_loss: 0.4696 - val_accuracy: 0.7135 - lr: 0.0010 - 9s/epoch - 145ms/step
Epoch 85/100
59/59 - 8s - loss: 0.2186 - accuracy: 0.9694 - val_loss: 0.4790 - val_accuracy: 0.7141 - lr: 0.0010 - 8s/epoch - 143ms/step
Epoch 86/100
59/59 - 8s - loss: 0.2190 - accuracy: 0.9693 - val_loss: 0.4685 - val_accuracy: 0.7228 - lr: 0.0010 - 8s/epoch - 142ms/step
Epoch 87/100
59/59 - 9s - loss: 0.2190 - accuracy: 0.9688 - val_loss: 0.4677 - val_accuracy: 0.7228 - lr: 0.0010 - 9s/epoch - 146ms/step
Epoch 88/100
59/59 - 8s - loss: 0.2188 - accuracy: 0.9693 - val_loss: 0.4689 - val_accuracy: 0.7206 - lr: 0.0010 - 8s/epoch - 133ms/step
Epoch 89/100
59/59 - 9s - loss: 0.2189 - accuracy: 0.9696 - val_loss: 0.4611 - val_accuracy: 0.7113 - lr: 0.0010 - 9s/epoch - 148ms/step
Epoch 90/100
59/59 - 9s - loss: 0.2187 - accuracy: 0.9696 - val_loss: 0.4711 - val_accuracy: 0.7146 - lr: 0.0010 - 9s/epoch - 151ms/step
Epoch 91/100
59/59 - 8s - loss: 0.2185 - accuracy: 0.9699 - val_loss: 0.4769 - val_accuracy: 0.7030 - lr: 0.0010 - 8s/epoch - 138ms/step
Epoch 92/100
59/59 - 9s - loss: 0.2192 - accuracy: 0.9686 - val_loss: 0.4754 - val_accuracy: 0.7051 - lr: 0.0010 - 9s/epoch - 150ms/step
Epoch 93/100
59/59 - 8s - loss: 0.2187 - accuracy: 0.9695 - val_loss: 0.4728 - val_accuracy: 0.7100 - lr: 0.0010 - 8s/epoch - 141ms/step
Epoch 94/100
59/59 - 81s - loss: 0.2186 - accuracy: 0.9698 - val_loss: 0.4753 - val_accuracy: 0.7147 - lr: 0.0010 - 81s/epoch - 1s/step
Epoch 95/100
59/59 - 10s - loss: 0.2186 - accuracy: 0.9696 - val_loss: 0.4725 - val_accuracy: 0.7175 - lr: 0.0010 - 10s/epoch - 176ms/step
Epoch 96/100
59/59 - 150s - loss: 0.2192 - accuracy: 0.9689 - val_loss: 0.4738 - val_accuracy: 0.7139 - lr: 0.0010 - 150s/epoch - 3s/step
Epoch 97/100
59/59 - 17s - loss: 0.2192 - accuracy: 0.9682 - val_loss: 0.4711 - val_accuracy: 0.7173 - lr: 0.0010 - 17s/epoch - 289ms/step
Epoch 98/100
59/59 - 89s - loss: 0.2189 - accuracy: 0.9698 - val_loss: 0.4741 - val_accuracy: 0.7199 - lr: 0.0010 - 89s/epoch - 2s/step
Epoch 99/100
59/59 - 11s - loss: 0.2182 - accuracy: 0.9705 - val_loss: 0.4784 - val_accuracy: 0.7142 - lr: 0.0010 - 11s/epoch - 190ms/step
Epoch 100/100
59/59 - 9s - loss: 0.2188 - accuracy: 0.9692 - val_loss: 0.4763 - val_accuracy: 0.7117 - lr: 0.0010 - 9s/epoch - 148ms/step
fitting with batch size: 2500
Epoch 1/100
36/36 - 12s - loss: 0.2178 - accuracy: 0.9714 - val_loss: 0.4773 - val_accuracy: 0.7098 - lr: 0.0010 - 12s/epoch - 329ms/step
Epoch 2/100
36/36 - 8s - loss: 0.2163 - accuracy: 0.9736 - val_loss: 0.4794 - val_accuracy: 0.7125 - lr: 0.0010 - 8s/epoch - 228ms/step
Epoch 3/100
36/36 - 8s - loss: 0.2172 - accuracy: 0.9726 - val_loss: 0.4772 - val_accuracy: 0.7131 - lr: 0.0010 - 8s/epoch - 228ms/step
Epoch 4/100
36/36 - 8s - loss: 0.2167 - accuracy: 0.9731 - val_loss: 0.4826 - val_accuracy: 0.7075 - lr: 0.0010 - 8s/epoch - 229ms/step
Epoch 5/100
36/36 - 8s - loss: 0.2160 - accuracy: 0.9751 - val_loss: 0.4888 - val_accuracy: 0.7067 - lr: 0.0010 - 8s/epoch - 229ms/step
Epoch 6/100
36/36 - 8s - loss: 0.2171 - accuracy: 0.9724 - val_loss: 0.4811 - val_accuracy: 0.7099 - lr: 0.0010 - 8s/epoch - 229ms/step
Epoch 7/100
36/36 - 8s - loss: 0.2160 - accuracy: 0.9744 - val_loss: 0.4845 - val_accuracy: 0.7069 - lr: 0.0010 - 8s/epoch - 223ms/step
Epoch 8/100
36/36 - 7s - loss: 0.2147 - accuracy: 0.9764 - val_loss: 0.4857 - val_accuracy: 0.7101 - lr: 0.0010 - 7s/epoch - 207ms/step
Epoch 9/100
36/36 - 7s - loss: 0.2153 - accuracy: 0.9752 - val_loss: 0.4836 - val_accuracy: 0.7072 - lr: 0.0010 - 7s/epoch - 207ms/step
Epoch 10/100
36/36 - 9s - loss: 0.2154 - accuracy: 0.9761 - val_loss: 0.4844 - val_accuracy: 0.7098 - lr: 0.0010 - 9s/epoch - 237ms/step
Epoch 11/100
36/36 - 8s - loss: 0.2144 - accuracy: 0.9774 - val_loss: 0.4909 - val_accuracy: 0.7064 - lr: 0.0010 - 8s/epoch - 232ms/step
Epoch 12/100
36/36 - 8s - loss: 0.2146 - accuracy: 0.9770 - val_loss: 0.4888 - val_accuracy: 0.7075 - lr: 0.0010 - 8s/epoch - 215ms/step
Epoch 13/100
36/36 - 8s - loss: 0.2145 - accuracy: 0.9773 - val_loss: 0.4900 - val_accuracy: 0.7112 - lr: 0.0010 - 8s/epoch - 216ms/step
Epoch 14/100
36/36 - 8s - loss: 0.2148 - accuracy: 0.9766 - val_loss: 0.4865 - val_accuracy: 0.7112 - lr: 0.0010 - 8s/epoch - 210ms/step
Epoch 15/100
36/36 - 9s - loss: 0.2142 - accuracy: 0.9779 - val_loss: 0.4848 - val_accuracy: 0.7157 - lr: 0.0010 - 9s/epoch - 258ms/step
Epoch 16/100
36/36 - 9s - loss: 0.2146 - accuracy: 0.9771 - val_loss: 0.4895 - val_accuracy: 0.7118 - lr: 0.0010 - 9s/epoch - 261ms/step
Epoch 17/100
36/36 - 9s - loss: 0.2134 - accuracy: 0.9784 - val_loss: 0.4943 - val_accuracy: 0.7048 - lr: 0.0010 - 9s/epoch - 257ms/step
Epoch 18/100
36/36 - 9s - loss: 0.2143 - accuracy: 0.9774 - val_loss: 0.4938 - val_accuracy: 0.7088 - lr: 0.0010 - 9s/epoch - 241ms/step
Epoch 19/100
36/36 - 9s - loss: 0.2144 - accuracy: 0.9773 - val_loss: 0.4988 - val_accuracy: 0.7040 - lr: 0.0010 - 9s/epoch - 245ms/step
Epoch 20/100
36/36 - 9s - loss: 0.2144 - accuracy: 0.9777 - val_loss: 0.4933 - val_accuracy: 0.7120 - lr: 0.0010 - 9s/epoch - 240ms/step
Epoch 21/100
36/36 - 9s - loss: 0.2147 - accuracy: 0.9765 - val_loss: 0.4969 - val_accuracy: 0.7056 - lr: 0.0010 - 9s/epoch - 240ms/step
Epoch 22/100
36/36 - 8s - loss: 0.2148 - accuracy: 0.9761 - val_loss: 0.4977 - val_accuracy: 0.7061 - lr: 0.0010 - 8s/epoch - 235ms/step
Epoch 23/100
36/36 - 9s - loss: 0.2145 - accuracy: 0.9775 - val_loss: 0.4966 - val_accuracy: 0.7093 - lr: 0.0010 - 9s/epoch - 238ms/step
Epoch 24/100
36/36 - 9s - loss: 0.2145 - accuracy: 0.9774 - val_loss: 0.4904 - val_accuracy: 0.7159 - lr: 0.0010 - 9s/epoch - 237ms/step
Epoch 25/100
36/36 - 9s - loss: 0.2142 - accuracy: 0.9772 - val_loss: 0.4991 - val_accuracy: 0.7111 - lr: 0.0010 - 9s/epoch - 238ms/step
Epoch 26/100
36/36 - 9s - loss: 0.2144 - accuracy: 0.9773 - val_loss: 0.4928 - val_accuracy: 0.7098 - lr: 0.0010 - 9s/epoch - 238ms/step
Epoch 27/100
36/36 - 9s - loss: 0.2145 - accuracy: 0.9774 - val_loss: 0.4987 - val_accuracy: 0.7067 - lr: 0.0010 - 9s/epoch - 242ms/step
Epoch 28/100
36/36 - 9s - loss: 0.2148 - accuracy: 0.9767 - val_loss: 0.4950 - val_accuracy: 0.7074 - lr: 0.0010 - 9s/epoch - 237ms/step
Epoch 29/100
36/36 - 9s - loss: 0.2144 - accuracy: 0.9772 - val_loss: 0.4994 - val_accuracy: 0.7067 - lr: 0.0010 - 9s/epoch - 241ms/step
Epoch 30/100
36/36 - 9s - loss: 0.2150 - accuracy: 0.9756 - val_loss: 0.4956 - val_accuracy: 0.7085 - lr: 0.0010 - 9s/epoch - 238ms/step
Epoch 31/100
36/36 - 9s - loss: 0.2153 - accuracy: 0.9761 - val_loss: 0.4896 - val_accuracy: 0.7142 - lr: 0.0010 - 9s/epoch - 239ms/step
Epoch 32/100
36/36 - 9s - loss: 0.2153 - accuracy: 0.9752 - val_loss: 0.4928 - val_accuracy: 0.7128 - lr: 0.0010 - 9s/epoch - 239ms/step
Epoch 33/100
36/36 - 9s - loss: 0.2144 - accuracy: 0.9774 - val_loss: 0.4952 - val_accuracy: 0.7130 - lr: 0.0010 - 9s/epoch - 237ms/step
Epoch 34/100
36/36 - 9s - loss: 0.2145 - accuracy: 0.9768 - val_loss: 0.4942 - val_accuracy: 0.7146 - lr: 0.0010 - 9s/epoch - 237ms/step
Epoch 35/100
36/36 - 9s - loss: 0.2139 - accuracy: 0.9779 - val_loss: 0.4898 - val_accuracy: 0.7137 - lr: 0.0010 - 9s/epoch - 236ms/step
Epoch 36/100
36/36 - 9s - loss: 0.2152 - accuracy: 0.9753 - val_loss: 0.4982 - val_accuracy: 0.7117 - lr: 0.0010 - 9s/epoch - 240ms/step
Epoch 37/100
36/36 - 9s - loss: 0.2150 - accuracy: 0.9760 - val_loss: 0.4922 - val_accuracy: 0.7162 - lr: 0.0010 - 9s/epoch - 238ms/step
Epoch 38/100
36/36 - 9s - loss: 0.2144 - accuracy: 0.9774 - val_loss: 0.4971 - val_accuracy: 0.7127 - lr: 0.0010 - 9s/epoch - 238ms/step
Epoch 39/100
36/36 - 9s - loss: 0.2140 - accuracy: 0.9776 - val_loss: 0.4996 - val_accuracy: 0.7124 - lr: 0.0010 - 9s/epoch - 237ms/step
Epoch 40/100
36/36 - 9s - loss: 0.2138 - accuracy: 0.9776 - val_loss: 0.4997 - val_accuracy: 0.7118 - lr: 0.0010 - 9s/epoch - 239ms/step
Epoch 41/100
36/36 - 9s - loss: 0.2152 - accuracy: 0.9759 - val_loss: 0.4972 - val_accuracy: 0.7097 - lr: 0.0010 - 9s/epoch - 238ms/step
Epoch 42/100
36/36 - 9s - loss: 0.2140 - accuracy: 0.9776 - val_loss: 0.5004 - val_accuracy: 0.7094 - lr: 0.0010 - 9s/epoch - 238ms/step
Epoch 43/100
36/36 - 9s - loss: 0.2141 - accuracy: 0.9784 - val_loss: 0.5015 - val_accuracy: 0.7107 - lr: 0.0010 - 9s/epoch - 238ms/step
Epoch 44/100
36/36 - 9s - loss: 0.2139 - accuracy: 0.9780 - val_loss: 0.4975 - val_accuracy: 0.7127 - lr: 0.0010 - 9s/epoch - 239ms/step
Epoch 45/100
36/36 - 9s - loss: 0.2138 - accuracy: 0.9779 - val_loss: 0.5009 - val_accuracy: 0.7124 - lr: 0.0010 - 9s/epoch - 238ms/step
Epoch 46/100
36/36 - 9s - loss: 0.2143 - accuracy: 0.9772 - val_loss: 0.4981 - val_accuracy: 0.7120 - lr: 0.0010 - 9s/epoch - 248ms/step
Epoch 47/100
36/36 - 9s - loss: 0.2145 - accuracy: 0.9771 - val_loss: 0.5009 - val_accuracy: 0.7073 - lr: 0.0010 - 9s/epoch - 245ms/step
Epoch 48/100
36/36 - 9s - loss: 0.2139 - accuracy: 0.9778 - val_loss: 0.4980 - val_accuracy: 0.7093 - lr: 0.0010 - 9s/epoch - 239ms/step
Epoch 49/100
36/36 - 9s - loss: 0.2140 - accuracy: 0.9780 - val_loss: 0.5012 - val_accuracy: 0.7100 - lr: 0.0010 - 9s/epoch - 238ms/step
Epoch 50/100
36/36 - 9s - loss: 0.2141 - accuracy: 0.9782 - val_loss: 0.4991 - val_accuracy: 0.7099 - lr: 0.0010 - 9s/epoch - 240ms/step
Epoch 51/100
36/36 - 9s - loss: 0.2142 - accuracy: 0.9782 - val_loss: 0.4962 - val_accuracy: 0.7134 - lr: 0.0010 - 9s/epoch - 259ms/step
Epoch 52/100
36/36 - 9s - loss: 0.2146 - accuracy: 0.9773 - val_loss: 0.4970 - val_accuracy: 0.7097 - lr: 0.0010 - 9s/epoch - 239ms/step
Epoch 53/100
36/36 - 8s - loss: 0.2147 - accuracy: 0.9766 - val_loss: 0.5002 - val_accuracy: 0.7090 - lr: 0.0010 - 8s/epoch - 236ms/step
Epoch 54/100
36/36 - 9s - loss: 0.2149 - accuracy: 0.9758 - val_loss: 0.4972 - val_accuracy: 0.7077 - lr: 0.0010 - 9s/epoch - 245ms/step
Epoch 55/100
36/36 - 9s - loss: 0.2155 - accuracy: 0.9750 - val_loss: 0.4967 - val_accuracy: 0.7079 - lr: 0.0010 - 9s/epoch - 262ms/step
Epoch 56/100
36/36 - 9s - loss: 0.2143 - accuracy: 0.9777 - val_loss: 0.5048 - val_accuracy: 0.7080 - lr: 0.0010 - 9s/epoch - 248ms/step
Epoch 57/100
36/36 - 22s - loss: 0.2141 - accuracy: 0.9778 - val_loss: 0.4985 - val_accuracy: 0.7143 - lr: 0.0010 - 22s/epoch - 602ms/step
Epoch 58/100
36/36 - 42s - loss: 0.2137 - accuracy: 0.9787 - val_loss: 0.5040 - val_accuracy: 0.7097 - lr: 0.0010 - 42s/epoch - 1s/step
Epoch 59/100
36/36 - 38s - loss: 0.2136 - accuracy: 0.9784 - val_loss: 0.5020 - val_accuracy: 0.7104 - lr: 0.0010 - 38s/epoch - 1s/step
Epoch 60/100
36/36 - 43s - loss: 0.2135 - accuracy: 0.9785 - val_loss: 0.5051 - val_accuracy: 0.7072 - lr: 0.0010 - 43s/epoch - 1s/step
Epoch 61/100
36/36 - 43s - loss: 0.2137 - accuracy: 0.9777 - val_loss: 0.4998 - val_accuracy: 0.7103 - lr: 0.0010 - 43s/epoch - 1s/step
Epoch 62/100
36/36 - 43s - loss: 0.2142 - accuracy: 0.9776 - val_loss: 0.5013 - val_accuracy: 0.7116 - lr: 0.0010 - 43s/epoch - 1s/step
Epoch 63/100
36/36 - 43s - loss: 0.2139 - accuracy: 0.9781 - val_loss: 0.5053 - val_accuracy: 0.7060 - lr: 0.0010 - 43s/epoch - 1s/step
Epoch 64/100
36/36 - 42s - loss: 0.2147 - accuracy: 0.9768 - val_loss: 0.5044 - val_accuracy: 0.7051 - lr: 0.0010 - 42s/epoch - 1s/step
Epoch 65/100
36/36 - 27s - loss: 0.2137 - accuracy: 0.9778 - val_loss: 0.5040 - val_accuracy: 0.7084 - lr: 0.0010 - 27s/epoch - 760ms/step
Epoch 66/100
36/36 - 9s - loss: 0.2139 - accuracy: 0.9785 - val_loss: 0.5013 - val_accuracy: 0.7109 - lr: 0.0010 - 9s/epoch - 237ms/step
Epoch 67/100
36/36 - 8s - loss: 0.2138 - accuracy: 0.9787 - val_loss: 0.5036 - val_accuracy: 0.7114 - lr: 0.0010 - 8s/epoch - 236ms/step
Epoch 68/100
36/36 - 8s - loss: 0.2139 - accuracy: 0.9784 - val_loss: 0.5059 - val_accuracy: 0.7074 - lr: 0.0010 - 8s/epoch - 236ms/step
Epoch 69/100
36/36 - 9s - loss: 0.2138 - accuracy: 0.9780 - val_loss: 0.5031 - val_accuracy: 0.7103 - lr: 0.0010 - 9s/epoch - 253ms/step
Epoch 70/100
36/36 - 11s - loss: 0.2157 - accuracy: 0.9743 - val_loss: 0.5006 - val_accuracy: 0.7133 - lr: 0.0010 - 11s/epoch - 310ms/step
Epoch 71/100
36/36 - 10s - loss: 0.2142 - accuracy: 0.9771 - val_loss: 0.5033 - val_accuracy: 0.7111 - lr: 0.0010 - 10s/epoch - 290ms/step
Epoch 72/100
36/36 - 9s - loss: 0.2142 - accuracy: 0.9779 - val_loss: 0.5065 - val_accuracy: 0.7067 - lr: 0.0010 - 9s/epoch - 261ms/step
Epoch 73/100
36/36 - 9s - loss: 0.2136 - accuracy: 0.9786 - val_loss: 0.5065 - val_accuracy: 0.7065 - lr: 0.0010 - 9s/epoch - 242ms/step
Epoch 74/100
36/36 - 8s - loss: 0.2144 - accuracy: 0.9769 - val_loss: 0.5064 - val_accuracy: 0.7091 - lr: 0.0010 - 8s/epoch - 210ms/step
Epoch 75/100
36/36 - 8s - loss: 0.2143 - accuracy: 0.9777 - val_loss: 0.5052 - val_accuracy: 0.7076 - lr: 0.0010 - 8s/epoch - 210ms/step
Epoch 76/100
36/36 - 8s - loss: 0.2138 - accuracy: 0.9781 - val_loss: 0.5084 - val_accuracy: 0.7071 - lr: 0.0010 - 8s/epoch - 209ms/step
Epoch 77/100
36/36 - 8s - loss: 0.2136 - accuracy: 0.9785 - val_loss: 0.5078 - val_accuracy: 0.7065 - lr: 0.0010 - 8s/epoch - 210ms/step
Epoch 78/100
36/36 - 8s - loss: 0.2138 - accuracy: 0.9783 - val_loss: 0.5061 - val_accuracy: 0.7067 - lr: 0.0010 - 8s/epoch - 209ms/step
Epoch 79/100
36/36 - 8s - loss: 0.2135 - accuracy: 0.9788 - val_loss: 0.5046 - val_accuracy: 0.7113 - lr: 0.0010 - 8s/epoch - 209ms/step
Epoch 80/100
36/36 - 8s - loss: 0.2137 - accuracy: 0.9781 - val_loss: 0.5036 - val_accuracy: 0.7118 - lr: 0.0010 - 8s/epoch - 209ms/step
Epoch 81/100
36/36 - 8s - loss: 0.2134 - accuracy: 0.9785 - val_loss: 0.5041 - val_accuracy: 0.7092 - lr: 0.0010 - 8s/epoch - 209ms/step
Epoch 82/100
36/36 - 8s - loss: 0.2141 - accuracy: 0.9782 - val_loss: 0.5008 - val_accuracy: 0.7103 - lr: 0.0010 - 8s/epoch - 209ms/step
Epoch 83/100
36/36 - 8s - loss: 0.2138 - accuracy: 0.9777 - val_loss: 0.5080 - val_accuracy: 0.7072 - lr: 0.0010 - 8s/epoch - 210ms/step
Epoch 84/100
36/36 - 8s - loss: 0.2135 - accuracy: 0.9787 - val_loss: 0.5101 - val_accuracy: 0.7090 - lr: 0.0010 - 8s/epoch - 209ms/step
Epoch 85/100
36/36 - 8s - loss: 0.2142 - accuracy: 0.9778 - val_loss: 0.5111 - val_accuracy: 0.7057 - lr: 0.0010 - 8s/epoch - 209ms/step
Epoch 86/100
36/36 - 8s - loss: 0.2136 - accuracy: 0.9786 - val_loss: 0.5032 - val_accuracy: 0.7092 - lr: 0.0010 - 8s/epoch - 209ms/step
Epoch 87/100
36/36 - 8s - loss: 0.2139 - accuracy: 0.9774 - val_loss: 0.5083 - val_accuracy: 0.7057 - lr: 0.0010 - 8s/epoch - 209ms/step
Epoch 88/100
36/36 - 8s - loss: 0.2142 - accuracy: 0.9775 - val_loss: 0.5073 - val_accuracy: 0.7053 - lr: 0.0010 - 8s/epoch - 209ms/step
Epoch 89/100
36/36 - 8s - loss: 0.2150 - accuracy: 0.9764 - val_loss: 0.5063 - val_accuracy: 0.7084 - lr: 0.0010 - 8s/epoch - 209ms/step
Epoch 90/100
36/36 - 8s - loss: 0.2141 - accuracy: 0.9773 - val_loss: 0.4975 - val_accuracy: 0.7172 - lr: 0.0010 - 8s/epoch - 209ms/step
Epoch 91/100
36/36 - 8s - loss: 0.2146 - accuracy: 0.9765 - val_loss: 0.5032 - val_accuracy: 0.7103 - lr: 0.0010 - 8s/epoch - 209ms/step
Epoch 92/100
36/36 - 8s - loss: 0.2141 - accuracy: 0.9774 - val_loss: 0.5071 - val_accuracy: 0.7108 - lr: 0.0010 - 8s/epoch - 211ms/step
Epoch 93/100
36/36 - 8s - loss: 0.2143 - accuracy: 0.9772 - val_loss: 0.5021 - val_accuracy: 0.7120 - lr: 0.0010 - 8s/epoch - 210ms/step
Epoch 94/100
36/36 - 8s - loss: 0.2139 - accuracy: 0.9777 - val_loss: 0.5070 - val_accuracy: 0.7076 - lr: 0.0010 - 8s/epoch - 210ms/step
Epoch 95/100
36/36 - 8s - loss: 0.2138 - accuracy: 0.9781 - val_loss: 0.4995 - val_accuracy: 0.7166 - lr: 0.0010 - 8s/epoch - 210ms/step
Epoch 96/100
36/36 - 8s - loss: 0.2143 - accuracy: 0.9771 - val_loss: 0.5038 - val_accuracy: 0.7131 - lr: 0.0010 - 8s/epoch - 210ms/step
Epoch 97/100
36/36 - 8s - loss: 0.2142 - accuracy: 0.9773 - val_loss: 0.5093 - val_accuracy: 0.7091 - lr: 0.0010 - 8s/epoch - 209ms/step
Epoch 98/100
36/36 - 8s - loss: 0.2150 - accuracy: 0.9761 - val_loss: 0.5010 - val_accuracy: 0.7146 - lr: 0.0010 - 8s/epoch - 210ms/step
Epoch 99/100
36/36 - 8s - loss: 0.2142 - accuracy: 0.9775 - val_loss: 0.5082 - val_accuracy: 0.7105 - lr: 0.0010 - 8s/epoch - 211ms/step
Epoch 100/100
36/36 - 8s - loss: 0.2136 - accuracy: 0.9784 - val_loss: 0.5067 - val_accuracy: 0.7104 - lr: 0.0010 - 8s/epoch - 210ms/step
