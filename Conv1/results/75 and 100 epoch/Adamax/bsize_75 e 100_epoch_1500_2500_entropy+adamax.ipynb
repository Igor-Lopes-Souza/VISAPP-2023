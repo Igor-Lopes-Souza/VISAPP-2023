Loss: categorical_crossentropy
Epoch number: 75
fitting with batch size: 1500
Epoch 1/75
59/59 - 16s - loss: 0.0956 - accuracy: 0.9682 - val_loss: 1.6189 - val_accuracy: 0.6973 - lr: 0.0010 - 16s/epoch - 273ms/step
Epoch 2/75
59/59 - 8s - loss: 0.1000 - accuracy: 0.9672 - val_loss: 1.5391 - val_accuracy: 0.7077 - lr: 0.0010 - 8s/epoch - 139ms/step
Epoch 3/75
59/59 - 9s - loss: 0.0963 - accuracy: 0.9682 - val_loss: 1.4811 - val_accuracy: 0.7156 - lr: 0.0010 - 9s/epoch - 158ms/step
Epoch 4/75
59/59 - 11s - loss: 0.0920 - accuracy: 0.9696 - val_loss: 1.4457 - val_accuracy: 0.7165 - lr: 0.0010 - 11s/epoch - 193ms/step
Epoch 5/75
59/59 - 10s - loss: 0.0964 - accuracy: 0.9686 - val_loss: 1.4570 - val_accuracy: 0.7034 - lr: 0.0010 - 10s/epoch - 169ms/step
Epoch 6/75
59/59 - 11s - loss: 0.0977 - accuracy: 0.9687 - val_loss: 1.4130 - val_accuracy: 0.7161 - lr: 0.0010 - 11s/epoch - 182ms/step
Epoch 7/75
59/59 - 11s - loss: 0.0916 - accuracy: 0.9700 - val_loss: 1.4577 - val_accuracy: 0.7127 - lr: 0.0010 - 11s/epoch - 186ms/step
Epoch 8/75
59/59 - 9s - loss: 0.0881 - accuracy: 0.9710 - val_loss: 1.4735 - val_accuracy: 0.7112 - lr: 0.0010 - 9s/epoch - 147ms/step
Epoch 9/75
59/59 - 8s - loss: 0.0881 - accuracy: 0.9709 - val_loss: 1.4303 - val_accuracy: 0.7139 - lr: 0.0010 - 8s/epoch - 144ms/step
Epoch 10/75
59/59 - 8s - loss: 0.0902 - accuracy: 0.9698 - val_loss: 1.4536 - val_accuracy: 0.7105 - lr: 0.0010 - 8s/epoch - 140ms/step
Epoch 11/75
59/59 - 8s - loss: 0.0892 - accuracy: 0.9709 - val_loss: 1.4952 - val_accuracy: 0.7026 - lr: 0.0010 - 8s/epoch - 141ms/step
Epoch 12/75
59/59 - 8s - loss: 0.0916 - accuracy: 0.9699 - val_loss: 1.5059 - val_accuracy: 0.7036 - lr: 0.0010 - 8s/epoch - 140ms/step
Epoch 13/75
59/59 - 9s - loss: 0.0919 - accuracy: 0.9702 - val_loss: 1.4929 - val_accuracy: 0.7049 - lr: 0.0010 - 9s/epoch - 145ms/step
Epoch 14/75
59/59 - 9s - loss: 0.0946 - accuracy: 0.9686 - val_loss: 1.4797 - val_accuracy: 0.7019 - lr: 0.0010 - 9s/epoch - 152ms/step
Epoch 15/75
59/59 - 8s - loss: 0.0941 - accuracy: 0.9689 - val_loss: 1.4296 - val_accuracy: 0.7066 - lr: 0.0010 - 8s/epoch - 144ms/step
Epoch 16/75
59/59 - 8s - loss: 0.0900 - accuracy: 0.9704 - val_loss: 1.4309 - val_accuracy: 0.7167 - lr: 0.0010 - 8s/epoch - 140ms/step
Epoch 17/75
59/59 - 8s - loss: 0.0917 - accuracy: 0.9697 - val_loss: 1.4655 - val_accuracy: 0.7052 - lr: 0.0010 - 8s/epoch - 139ms/step
Epoch 18/75
59/59 - 8s - loss: 0.0917 - accuracy: 0.9700 - val_loss: 1.5062 - val_accuracy: 0.6940 - lr: 0.0010 - 8s/epoch - 139ms/step
Epoch 19/75
59/59 - 8s - loss: 0.0913 - accuracy: 0.9708 - val_loss: 1.3996 - val_accuracy: 0.7181 - lr: 0.0010 - 8s/epoch - 139ms/step
Epoch 20/75
59/59 - 8s - loss: 0.0926 - accuracy: 0.9694 - val_loss: 1.4051 - val_accuracy: 0.7132 - lr: 0.0010 - 8s/epoch - 139ms/step
Epoch 21/75
59/59 - 8s - loss: 0.0956 - accuracy: 0.9685 - val_loss: 1.4230 - val_accuracy: 0.7116 - lr: 0.0010 - 8s/epoch - 140ms/step
Epoch 22/75
59/59 - 8s - loss: 0.0918 - accuracy: 0.9698 - val_loss: 1.4585 - val_accuracy: 0.7086 - lr: 0.0010 - 8s/epoch - 139ms/step
Epoch 23/75
59/59 - 8s - loss: 0.0907 - accuracy: 0.9698 - val_loss: 1.4819 - val_accuracy: 0.7025 - lr: 0.0010 - 8s/epoch - 140ms/step
Epoch 24/75
59/59 - 8s - loss: 0.0918 - accuracy: 0.9702 - val_loss: 1.4097 - val_accuracy: 0.7113 - lr: 0.0010 - 8s/epoch - 139ms/step
Epoch 25/75
59/59 - 8s - loss: 0.0939 - accuracy: 0.9689 - val_loss: 1.4191 - val_accuracy: 0.7114 - lr: 0.0010 - 8s/epoch - 139ms/step
Epoch 26/75
59/59 - 8s - loss: 0.0980 - accuracy: 0.9675 - val_loss: 1.4759 - val_accuracy: 0.7017 - lr: 0.0010 - 8s/epoch - 139ms/step
Epoch 27/75
59/59 - 8s - loss: 0.0951 - accuracy: 0.9687 - val_loss: 1.3875 - val_accuracy: 0.7124 - lr: 0.0010 - 8s/epoch - 139ms/step
Epoch 28/75
59/59 - 8s - loss: 0.0940 - accuracy: 0.9692 - val_loss: 1.4858 - val_accuracy: 0.6960 - lr: 0.0010 - 8s/epoch - 139ms/step
Epoch 29/75
59/59 - 8s - loss: 0.0931 - accuracy: 0.9693 - val_loss: 1.3904 - val_accuracy: 0.7146 - lr: 0.0010 - 8s/epoch - 139ms/step
Epoch 30/75
59/59 - 8s - loss: 0.0965 - accuracy: 0.9685 - val_loss: 1.4314 - val_accuracy: 0.7039 - lr: 0.0010 - 8s/epoch - 139ms/step
Epoch 31/75
59/59 - 8s - loss: 0.0976 - accuracy: 0.9680 - val_loss: 1.3988 - val_accuracy: 0.7161 - lr: 0.0010 - 8s/epoch - 140ms/step
Epoch 32/75
59/59 - 8s - loss: 0.0946 - accuracy: 0.9690 - val_loss: 1.4009 - val_accuracy: 0.7139 - lr: 0.0010 - 8s/epoch - 139ms/step
Epoch 33/75
59/59 - 8s - loss: 0.0888 - accuracy: 0.9711 - val_loss: 1.4535 - val_accuracy: 0.7064 - lr: 0.0010 - 8s/epoch - 139ms/step
Epoch 34/75
59/59 - 8s - loss: 0.0937 - accuracy: 0.9689 - val_loss: 1.3930 - val_accuracy: 0.7104 - lr: 0.0010 - 8s/epoch - 139ms/step
Epoch 35/75
59/59 - 8s - loss: 0.0960 - accuracy: 0.9690 - val_loss: 1.4009 - val_accuracy: 0.7178 - lr: 0.0010 - 8s/epoch - 139ms/step
Epoch 36/75
59/59 - 8s - loss: 0.0920 - accuracy: 0.9693 - val_loss: 1.4017 - val_accuracy: 0.7142 - lr: 0.0010 - 8s/epoch - 140ms/step
Epoch 37/75
59/59 - 8s - loss: 0.0925 - accuracy: 0.9703 - val_loss: 1.3926 - val_accuracy: 0.7184 - lr: 0.0010 - 8s/epoch - 139ms/step
Epoch 38/75
59/59 - 8s - loss: 0.0921 - accuracy: 0.9698 - val_loss: 1.4800 - val_accuracy: 0.7053 - lr: 0.0010 - 8s/epoch - 139ms/step
Epoch 39/75
59/59 - 8s - loss: 0.0914 - accuracy: 0.9700 - val_loss: 1.4242 - val_accuracy: 0.7149 - lr: 0.0010 - 8s/epoch - 139ms/step
Epoch 40/75
59/59 - 8s - loss: 0.0953 - accuracy: 0.9689 - val_loss: 1.4404 - val_accuracy: 0.6979 - lr: 0.0010 - 8s/epoch - 139ms/step
Epoch 41/75
59/59 - 8s - loss: 0.0952 - accuracy: 0.9691 - val_loss: 1.4388 - val_accuracy: 0.7063 - lr: 0.0010 - 8s/epoch - 139ms/step
Epoch 42/75
59/59 - 8s - loss: 0.0940 - accuracy: 0.9693 - val_loss: 1.4201 - val_accuracy: 0.7053 - lr: 0.0010 - 8s/epoch - 140ms/step
Epoch 43/75
59/59 - 8s - loss: 0.0932 - accuracy: 0.9689 - val_loss: 1.4246 - val_accuracy: 0.7106 - lr: 0.0010 - 8s/epoch - 139ms/step
Epoch 44/75
59/59 - 8s - loss: 0.0947 - accuracy: 0.9686 - val_loss: 1.4343 - val_accuracy: 0.7076 - lr: 0.0010 - 8s/epoch - 139ms/step
Epoch 45/75
59/59 - 8s - loss: 0.0933 - accuracy: 0.9690 - val_loss: 1.3912 - val_accuracy: 0.7103 - lr: 0.0010 - 8s/epoch - 139ms/step
Epoch 46/75
59/59 - 8s - loss: 0.0896 - accuracy: 0.9706 - val_loss: 1.4687 - val_accuracy: 0.7041 - lr: 0.0010 - 8s/epoch - 139ms/step
Epoch 47/75
59/59 - 8s - loss: 0.0918 - accuracy: 0.9700 - val_loss: 1.4534 - val_accuracy: 0.7061 - lr: 0.0010 - 8s/epoch - 139ms/step
Epoch 48/75
59/59 - 8s - loss: 0.0945 - accuracy: 0.9689 - val_loss: 1.4508 - val_accuracy: 0.7096 - lr: 0.0010 - 8s/epoch - 139ms/step
Epoch 49/75
59/59 - 8s - loss: 0.0940 - accuracy: 0.9703 - val_loss: 1.4193 - val_accuracy: 0.7132 - lr: 0.0010 - 8s/epoch - 139ms/step
Epoch 50/75
59/59 - 8s - loss: 0.0914 - accuracy: 0.9704 - val_loss: 1.4696 - val_accuracy: 0.7029 - lr: 0.0010 - 8s/epoch - 139ms/step
Epoch 51/75
59/59 - 8s - loss: 0.0926 - accuracy: 0.9701 - val_loss: 1.4420 - val_accuracy: 0.7062 - lr: 0.0010 - 8s/epoch - 142ms/step
Epoch 52/75
59/59 - 10s - loss: 0.0909 - accuracy: 0.9705 - val_loss: 1.4579 - val_accuracy: 0.7046 - lr: 0.0010 - 10s/epoch - 164ms/step
Epoch 53/75
59/59 - 10s - loss: 0.0908 - accuracy: 0.9708 - val_loss: 1.4412 - val_accuracy: 0.7045 - lr: 0.0010 - 10s/epoch - 161ms/step
Epoch 54/75
59/59 - 9s - loss: 0.0914 - accuracy: 0.9704 - val_loss: 1.4446 - val_accuracy: 0.7016 - lr: 0.0010 - 9s/epoch - 159ms/step
Epoch 55/75
59/59 - 9s - loss: 0.0934 - accuracy: 0.9692 - val_loss: 1.4573 - val_accuracy: 0.6982 - lr: 0.0010 - 9s/epoch - 157ms/step
Epoch 56/75
59/59 - 10s - loss: 0.0932 - accuracy: 0.9693 - val_loss: 1.4383 - val_accuracy: 0.7058 - lr: 0.0010 - 10s/epoch - 174ms/step
Epoch 57/75
59/59 - 11s - loss: 0.0897 - accuracy: 0.9705 - val_loss: 1.4891 - val_accuracy: 0.6976 - lr: 0.0010 - 11s/epoch - 189ms/step
Epoch 58/75
59/59 - 11s - loss: 0.0929 - accuracy: 0.9693 - val_loss: 1.4728 - val_accuracy: 0.6999 - lr: 0.0010 - 11s/epoch - 187ms/step
Epoch 59/75
59/59 - 11s - loss: 0.0893 - accuracy: 0.9706 - val_loss: 1.4694 - val_accuracy: 0.6981 - lr: 0.0010 - 11s/epoch - 185ms/step
Epoch 60/75
59/59 - 11s - loss: 0.0914 - accuracy: 0.9702 - val_loss: 1.4341 - val_accuracy: 0.7088 - lr: 0.0010 - 11s/epoch - 186ms/step
Epoch 61/75
59/59 - 11s - loss: 0.0900 - accuracy: 0.9709 - val_loss: 1.4604 - val_accuracy: 0.7038 - lr: 0.0010 - 11s/epoch - 189ms/step
Epoch 62/75
59/59 - 11s - loss: 0.0908 - accuracy: 0.9707 - val_loss: 1.3781 - val_accuracy: 0.7184 - lr: 0.0010 - 11s/epoch - 191ms/step
Epoch 63/75
59/59 - 11s - loss: 0.0925 - accuracy: 0.9694 - val_loss: 1.4505 - val_accuracy: 0.7050 - lr: 0.0010 - 11s/epoch - 186ms/step
Epoch 64/75
59/59 - 11s - loss: 0.0929 - accuracy: 0.9702 - val_loss: 1.4202 - val_accuracy: 0.7120 - lr: 0.0010 - 11s/epoch - 184ms/step
Epoch 65/75
59/59 - 11s - loss: 0.0911 - accuracy: 0.9697 - val_loss: 1.4169 - val_accuracy: 0.7128 - lr: 0.0010 - 11s/epoch - 188ms/step
Epoch 66/75
59/59 - 11s - loss: 0.0920 - accuracy: 0.9697 - val_loss: 1.4286 - val_accuracy: 0.7121 - lr: 0.0010 - 11s/epoch - 184ms/step
Epoch 67/75
59/59 - 11s - loss: 0.0924 - accuracy: 0.9694 - val_loss: 1.3920 - val_accuracy: 0.7131 - lr: 0.0010 - 11s/epoch - 188ms/step
Epoch 68/75
59/59 - 11s - loss: 0.0931 - accuracy: 0.9695 - val_loss: 1.4209 - val_accuracy: 0.7087 - lr: 0.0010 - 11s/epoch - 185ms/step
Epoch 69/75
59/59 - 11s - loss: 0.0913 - accuracy: 0.9703 - val_loss: 1.3778 - val_accuracy: 0.7127 - lr: 0.0010 - 11s/epoch - 187ms/step
Epoch 70/75
59/59 - 11s - loss: 0.0913 - accuracy: 0.9702 - val_loss: 1.4344 - val_accuracy: 0.7083 - lr: 0.0010 - 11s/epoch - 188ms/step
Epoch 71/75
59/59 - 10s - loss: 0.0895 - accuracy: 0.9709 - val_loss: 1.4304 - val_accuracy: 0.7070 - lr: 0.0010 - 10s/epoch - 175ms/step
Epoch 72/75
59/59 - 11s - loss: 0.0964 - accuracy: 0.9686 - val_loss: 1.4087 - val_accuracy: 0.7127 - lr: 0.0010 - 11s/epoch - 188ms/step
Epoch 73/75
59/59 - 11s - loss: 0.0961 - accuracy: 0.9682 - val_loss: 1.4119 - val_accuracy: 0.7168 - lr: 0.0010 - 11s/epoch - 190ms/step
Epoch 74/75
59/59 - 11s - loss: 0.0964 - accuracy: 0.9685 - val_loss: 1.4109 - val_accuracy: 0.7141 - lr: 0.0010 - 11s/epoch - 188ms/step
Epoch 75/75
59/59 - 11s - loss: 0.0959 - accuracy: 0.9680 - val_loss: 1.4209 - val_accuracy: 0.7068 - lr: 0.0010 - 11s/epoch - 188ms/step
fitting with batch size: 2500
Epoch 1/75
36/36 - 14s - loss: 0.0889 - accuracy: 0.9709 - val_loss: 1.3655 - val_accuracy: 0.7174 - lr: 0.0010 - 14s/epoch - 381ms/step
Epoch 2/75
36/36 - 11s - loss: 0.0803 - accuracy: 0.9740 - val_loss: 1.4230 - val_accuracy: 0.7074 - lr: 0.0010 - 11s/epoch - 301ms/step
Epoch 3/75
36/36 - 11s - loss: 0.0796 - accuracy: 0.9745 - val_loss: 1.4220 - val_accuracy: 0.7115 - lr: 0.0010 - 11s/epoch - 301ms/step
Epoch 4/75
36/36 - 11s - loss: 0.0794 - accuracy: 0.9743 - val_loss: 1.4853 - val_accuracy: 0.7015 - lr: 0.0010 - 11s/epoch - 304ms/step
Epoch 5/75
36/36 - 11s - loss: 0.0800 - accuracy: 0.9745 - val_loss: 1.4177 - val_accuracy: 0.7152 - lr: 0.0010 - 11s/epoch - 305ms/step
Epoch 6/75
36/36 - 11s - loss: 0.0754 - accuracy: 0.9753 - val_loss: 1.4341 - val_accuracy: 0.7088 - lr: 0.0010 - 11s/epoch - 303ms/step
Epoch 7/75
36/36 - 11s - loss: 0.0745 - accuracy: 0.9762 - val_loss: 1.4316 - val_accuracy: 0.7135 - lr: 0.0010 - 11s/epoch - 299ms/step
Epoch 8/75
36/36 - 11s - loss: 0.0770 - accuracy: 0.9751 - val_loss: 1.4441 - val_accuracy: 0.7098 - lr: 0.0010 - 11s/epoch - 308ms/step
Epoch 9/75
36/36 - 12s - loss: 0.0722 - accuracy: 0.9766 - val_loss: 1.4377 - val_accuracy: 0.7152 - lr: 0.0010 - 12s/epoch - 325ms/step
Epoch 10/75
36/36 - 11s - loss: 0.0737 - accuracy: 0.9763 - val_loss: 1.4798 - val_accuracy: 0.7081 - lr: 0.0010 - 11s/epoch - 312ms/step
Epoch 11/75
36/36 - 11s - loss: 0.0787 - accuracy: 0.9749 - val_loss: 1.4593 - val_accuracy: 0.7111 - lr: 0.0010 - 11s/epoch - 304ms/step
Epoch 12/75
36/36 - 9s - loss: 0.0767 - accuracy: 0.9758 - val_loss: 1.4566 - val_accuracy: 0.7096 - lr: 0.0010 - 9s/epoch - 261ms/step
Epoch 13/75
36/36 - 9s - loss: 0.0744 - accuracy: 0.9764 - val_loss: 1.4975 - val_accuracy: 0.7113 - lr: 0.0010 - 9s/epoch - 253ms/step
Epoch 14/75
36/36 - 11s - loss: 0.0775 - accuracy: 0.9755 - val_loss: 1.4946 - val_accuracy: 0.7098 - lr: 0.0010 - 11s/epoch - 319ms/step
Epoch 15/75
36/36 - 11s - loss: 0.0774 - accuracy: 0.9752 - val_loss: 1.4726 - val_accuracy: 0.7073 - lr: 0.0010 - 11s/epoch - 302ms/step
Epoch 16/75
36/36 - 10s - loss: 0.0718 - accuracy: 0.9769 - val_loss: 1.4870 - val_accuracy: 0.7073 - lr: 0.0010 - 10s/epoch - 265ms/step
Epoch 17/75
36/36 - 10s - loss: 0.0710 - accuracy: 0.9774 - val_loss: 1.4699 - val_accuracy: 0.7121 - lr: 0.0010 - 10s/epoch - 269ms/step
Epoch 18/75
36/36 - 10s - loss: 0.0707 - accuracy: 0.9775 - val_loss: 1.4924 - val_accuracy: 0.7091 - lr: 0.0010 - 10s/epoch - 269ms/step
Epoch 19/75
36/36 - 10s - loss: 0.0729 - accuracy: 0.9766 - val_loss: 1.4899 - val_accuracy: 0.7088 - lr: 0.0010 - 10s/epoch - 267ms/step
Epoch 20/75
36/36 - 10s - loss: 0.0707 - accuracy: 0.9778 - val_loss: 1.4492 - val_accuracy: 0.7186 - lr: 0.0010 - 10s/epoch - 267ms/step
Epoch 21/75
36/36 - 10s - loss: 0.0704 - accuracy: 0.9780 - val_loss: 1.4760 - val_accuracy: 0.7110 - lr: 0.0010 - 10s/epoch - 268ms/step
Epoch 22/75
36/36 - 10s - loss: 0.0717 - accuracy: 0.9772 - val_loss: 1.4884 - val_accuracy: 0.7134 - lr: 0.0010 - 10s/epoch - 269ms/step
Epoch 23/75
36/36 - 10s - loss: 0.0714 - accuracy: 0.9766 - val_loss: 1.5056 - val_accuracy: 0.7118 - lr: 0.0010 - 10s/epoch - 270ms/step
Epoch 24/75
36/36 - 10s - loss: 0.0737 - accuracy: 0.9766 - val_loss: 1.5209 - val_accuracy: 0.7072 - lr: 0.0010 - 10s/epoch - 267ms/step
Epoch 25/75
36/36 - 10s - loss: 0.0697 - accuracy: 0.9771 - val_loss: 1.5345 - val_accuracy: 0.7035 - lr: 0.0010 - 10s/epoch - 269ms/step
Epoch 26/75
36/36 - 10s - loss: 0.0740 - accuracy: 0.9761 - val_loss: 1.4729 - val_accuracy: 0.7146 - lr: 0.0010 - 10s/epoch - 268ms/step
Epoch 27/75
36/36 - 10s - loss: 0.0729 - accuracy: 0.9771 - val_loss: 1.4675 - val_accuracy: 0.7147 - lr: 0.0010 - 10s/epoch - 270ms/step
Epoch 28/75
36/36 - 10s - loss: 0.0712 - accuracy: 0.9773 - val_loss: 1.4988 - val_accuracy: 0.7105 - lr: 0.0010 - 10s/epoch - 269ms/step
Epoch 29/75
36/36 - 10s - loss: 0.0734 - accuracy: 0.9766 - val_loss: 1.5144 - val_accuracy: 0.7104 - lr: 0.0010 - 10s/epoch - 269ms/step
Epoch 30/75
36/36 - 10s - loss: 0.0758 - accuracy: 0.9758 - val_loss: 1.5311 - val_accuracy: 0.7045 - lr: 0.0010 - 10s/epoch - 269ms/step
Epoch 31/75
36/36 - 10s - loss: 0.0712 - accuracy: 0.9771 - val_loss: 1.5236 - val_accuracy: 0.7093 - lr: 0.0010 - 10s/epoch - 269ms/step
Epoch 32/75
36/36 - 10s - loss: 0.0699 - accuracy: 0.9777 - val_loss: 1.5367 - val_accuracy: 0.7092 - lr: 0.0010 - 10s/epoch - 270ms/step
Epoch 33/75
36/36 - 10s - loss: 0.0712 - accuracy: 0.9778 - val_loss: 1.5415 - val_accuracy: 0.7103 - lr: 0.0010 - 10s/epoch - 269ms/step
Epoch 34/75
36/36 - 10s - loss: 0.0707 - accuracy: 0.9771 - val_loss: 1.5102 - val_accuracy: 0.7119 - lr: 0.0010 - 10s/epoch - 266ms/step
Epoch 35/75
36/36 - 10s - loss: 0.0687 - accuracy: 0.9785 - val_loss: 1.5486 - val_accuracy: 0.7069 - lr: 0.0010 - 10s/epoch - 267ms/step
Epoch 36/75
36/36 - 10s - loss: 0.0718 - accuracy: 0.9773 - val_loss: 1.5076 - val_accuracy: 0.7152 - lr: 0.0010 - 10s/epoch - 267ms/step
Epoch 37/75
36/36 - 10s - loss: 0.0727 - accuracy: 0.9769 - val_loss: 1.5344 - val_accuracy: 0.7092 - lr: 0.0010 - 10s/epoch - 266ms/step
Epoch 38/75
36/36 - 10s - loss: 0.0714 - accuracy: 0.9772 - val_loss: 1.5242 - val_accuracy: 0.7093 - lr: 0.0010 - 10s/epoch - 267ms/step
Epoch 39/75
36/36 - 10s - loss: 0.0768 - accuracy: 0.9753 - val_loss: 1.5112 - val_accuracy: 0.7118 - lr: 0.0010 - 10s/epoch - 267ms/step
Epoch 40/75
36/36 - 10s - loss: 0.0716 - accuracy: 0.9767 - val_loss: 1.5230 - val_accuracy: 0.7122 - lr: 0.0010 - 10s/epoch - 267ms/step
Epoch 41/75
36/36 - 10s - loss: 0.0699 - accuracy: 0.9780 - val_loss: 1.5294 - val_accuracy: 0.7106 - lr: 0.0010 - 10s/epoch - 270ms/step
Epoch 42/75
36/36 - 10s - loss: 0.0694 - accuracy: 0.9785 - val_loss: 1.5231 - val_accuracy: 0.7122 - lr: 0.0010 - 10s/epoch - 270ms/step
Epoch 43/75
36/36 - 10s - loss: 0.0708 - accuracy: 0.9780 - val_loss: 1.5369 - val_accuracy: 0.7086 - lr: 0.0010 - 10s/epoch - 268ms/step
Epoch 44/75
36/36 - 10s - loss: 0.0682 - accuracy: 0.9781 - val_loss: 1.5144 - val_accuracy: 0.7125 - lr: 0.0010 - 10s/epoch - 269ms/step
Epoch 45/75
36/36 - 10s - loss: 0.0674 - accuracy: 0.9786 - val_loss: 1.5342 - val_accuracy: 0.7101 - lr: 0.0010 - 10s/epoch - 267ms/step
Epoch 46/75
36/36 - 9s - loss: 0.0691 - accuracy: 0.9781 - val_loss: 1.5206 - val_accuracy: 0.7092 - lr: 0.0010 - 9s/epoch - 263ms/step
Epoch 47/75
36/36 - 10s - loss: 0.0687 - accuracy: 0.9781 - val_loss: 1.5658 - val_accuracy: 0.7056 - lr: 0.0010 - 10s/epoch - 267ms/step
Epoch 48/75
36/36 - 10s - loss: 0.0685 - accuracy: 0.9785 - val_loss: 1.5492 - val_accuracy: 0.7093 - lr: 0.0010 - 10s/epoch - 267ms/step
Epoch 49/75
36/36 - 10s - loss: 0.0758 - accuracy: 0.9758 - val_loss: 1.5605 - val_accuracy: 0.7049 - lr: 0.0010 - 10s/epoch - 270ms/step
Epoch 50/75
36/36 - 10s - loss: 0.0691 - accuracy: 0.9785 - val_loss: 1.5389 - val_accuracy: 0.7109 - lr: 0.0010 - 10s/epoch - 269ms/step
Epoch 51/75
36/36 - 10s - loss: 0.0679 - accuracy: 0.9785 - val_loss: 1.5160 - val_accuracy: 0.7151 - lr: 0.0010 - 10s/epoch - 267ms/step
Epoch 52/75
36/36 - 10s - loss: 0.0681 - accuracy: 0.9785 - val_loss: 1.5517 - val_accuracy: 0.7071 - lr: 0.0010 - 10s/epoch - 268ms/step
Epoch 53/75
36/36 - 10s - loss: 0.0700 - accuracy: 0.9779 - val_loss: 1.5635 - val_accuracy: 0.7094 - lr: 0.0010 - 10s/epoch - 268ms/step
Epoch 54/75
36/36 - 10s - loss: 0.0689 - accuracy: 0.9782 - val_loss: 1.5722 - val_accuracy: 0.7061 - lr: 0.0010 - 10s/epoch - 268ms/step
Epoch 55/75
36/36 - 10s - loss: 0.0688 - accuracy: 0.9788 - val_loss: 1.5925 - val_accuracy: 0.7010 - lr: 0.0010 - 10s/epoch - 271ms/step
Epoch 56/75
36/36 - 10s - loss: 0.0674 - accuracy: 0.9788 - val_loss: 1.5358 - val_accuracy: 0.7111 - lr: 0.0010 - 10s/epoch - 268ms/step
Epoch 57/75
36/36 - 8s - loss: 0.0689 - accuracy: 0.9783 - val_loss: 1.5491 - val_accuracy: 0.7097 - lr: 0.0010 - 8s/epoch - 209ms/step
Epoch 58/75
36/36 - 8s - loss: 0.0740 - accuracy: 0.9765 - val_loss: 1.5296 - val_accuracy: 0.7100 - lr: 0.0010 - 8s/epoch - 221ms/step
Epoch 59/75
36/36 - 8s - loss: 0.0711 - accuracy: 0.9774 - val_loss: 1.5469 - val_accuracy: 0.7090 - lr: 0.0010 - 8s/epoch - 219ms/step
Epoch 60/75
36/36 - 9s - loss: 0.0698 - accuracy: 0.9772 - val_loss: 1.5403 - val_accuracy: 0.7098 - lr: 0.0010 - 9s/epoch - 238ms/step
Epoch 61/75
36/36 - 8s - loss: 0.0761 - accuracy: 0.9754 - val_loss: 1.5550 - val_accuracy: 0.7074 - lr: 0.0010 - 8s/epoch - 212ms/step
Epoch 62/75
36/36 - 8s - loss: 0.0724 - accuracy: 0.9772 - val_loss: 1.5414 - val_accuracy: 0.7145 - lr: 0.0010 - 8s/epoch - 235ms/step
Epoch 63/75
36/36 - 8s - loss: 0.0689 - accuracy: 0.9781 - val_loss: 1.5340 - val_accuracy: 0.7141 - lr: 0.0010 - 8s/epoch - 229ms/step
Epoch 64/75
36/36 - 8s - loss: 0.0720 - accuracy: 0.9774 - val_loss: 1.5348 - val_accuracy: 0.7130 - lr: 0.0010 - 8s/epoch - 226ms/step
Epoch 65/75
36/36 - 8s - loss: 0.0669 - accuracy: 0.9788 - val_loss: 1.5776 - val_accuracy: 0.7095 - lr: 0.0010 - 8s/epoch - 217ms/step
Epoch 66/75
36/36 - 8s - loss: 0.0694 - accuracy: 0.9774 - val_loss: 1.5553 - val_accuracy: 0.7116 - lr: 0.0010 - 8s/epoch - 220ms/step
Epoch 67/75
36/36 - 8s - loss: 0.0683 - accuracy: 0.9785 - val_loss: 1.5826 - val_accuracy: 0.7058 - lr: 0.0010 - 8s/epoch - 232ms/step
Epoch 68/75
36/36 - 8s - loss: 0.0675 - accuracy: 0.9779 - val_loss: 1.5225 - val_accuracy: 0.7132 - lr: 0.0010 - 8s/epoch - 228ms/step
Epoch 69/75
36/36 - 8s - loss: 0.0694 - accuracy: 0.9780 - val_loss: 1.5724 - val_accuracy: 0.7095 - lr: 0.0010 - 8s/epoch - 224ms/step
Epoch 70/75
36/36 - 8s - loss: 0.0734 - accuracy: 0.9764 - val_loss: 1.5629 - val_accuracy: 0.7077 - lr: 0.0010 - 8s/epoch - 226ms/step
Epoch 71/75
36/36 - 8s - loss: 0.0733 - accuracy: 0.9762 - val_loss: 1.5661 - val_accuracy: 0.7092 - lr: 0.0010 - 8s/epoch - 223ms/step
Epoch 72/75
36/36 - 8s - loss: 0.0661 - accuracy: 0.9788 - val_loss: 1.5651 - val_accuracy: 0.7072 - lr: 0.0010 - 8s/epoch - 223ms/step
Epoch 73/75
36/36 - 9s - loss: 0.0756 - accuracy: 0.9764 - val_loss: 1.5432 - val_accuracy: 0.7105 - lr: 0.0010 - 9s/epoch - 258ms/step
Epoch 74/75
36/36 - 25s - loss: 0.0717 - accuracy: 0.9770 - val_loss: 1.5630 - val_accuracy: 0.7053 - lr: 0.0010 - 25s/epoch - 681ms/step
Epoch 75/75
36/36 - 11s - loss: 0.0717 - accuracy: 0.9772 - val_loss: 1.5449 - val_accuracy: 0.7133 - lr: 0.0010 - 11s/epoch - 297ms/step
Epoch number: 100
fitting with batch size: 1500
Epoch 1/100
59/59 - 13s - loss: 0.0672 - accuracy: 0.9788 - val_loss: 1.5665 - val_accuracy: 0.7086 - lr: 0.0010 - 13s/epoch - 214ms/step
Epoch 2/100
59/59 - 11s - loss: 0.0684 - accuracy: 0.9778 - val_loss: 1.5302 - val_accuracy: 0.7124 - lr: 0.0010 - 11s/epoch - 181ms/step
Epoch 3/100
59/59 - 10s - loss: 0.0710 - accuracy: 0.9779 - val_loss: 1.5284 - val_accuracy: 0.7123 - lr: 0.0010 - 10s/epoch - 177ms/step
Epoch 4/100
59/59 - 11s - loss: 0.0715 - accuracy: 0.9770 - val_loss: 1.5376 - val_accuracy: 0.7159 - lr: 0.0010 - 11s/epoch - 180ms/step
Epoch 5/100
59/59 - 11s - loss: 0.0721 - accuracy: 0.9768 - val_loss: 1.5595 - val_accuracy: 0.7099 - lr: 0.0010 - 11s/epoch - 181ms/step
Epoch 6/100
59/59 - 11s - loss: 0.0692 - accuracy: 0.9772 - val_loss: 1.5516 - val_accuracy: 0.7106 - lr: 0.0010 - 11s/epoch - 188ms/step
Epoch 7/100
59/59 - 11s - loss: 0.0712 - accuracy: 0.9773 - val_loss: 1.5839 - val_accuracy: 0.7073 - lr: 0.0010 - 11s/epoch - 178ms/step
Epoch 8/100
59/59 - 10s - loss: 0.0751 - accuracy: 0.9761 - val_loss: 1.5566 - val_accuracy: 0.7075 - lr: 0.0010 - 10s/epoch - 166ms/step
Epoch 9/100
59/59 - 11s - loss: 0.0742 - accuracy: 0.9759 - val_loss: 1.5520 - val_accuracy: 0.7092 - lr: 0.0010 - 11s/epoch - 187ms/step
Epoch 10/100
59/59 - 11s - loss: 0.0768 - accuracy: 0.9748 - val_loss: 1.5325 - val_accuracy: 0.7157 - lr: 0.0010 - 11s/epoch - 181ms/step
Epoch 11/100
59/59 - 11s - loss: 0.0806 - accuracy: 0.9733 - val_loss: 1.5648 - val_accuracy: 0.7090 - lr: 0.0010 - 11s/epoch - 179ms/step
Epoch 12/100
59/59 - 10s - loss: 0.0847 - accuracy: 0.9726 - val_loss: 1.5449 - val_accuracy: 0.7076 - lr: 0.0010 - 10s/epoch - 178ms/step
Epoch 13/100
59/59 - 11s - loss: 0.0835 - accuracy: 0.9728 - val_loss: 1.5680 - val_accuracy: 0.7056 - lr: 0.0010 - 11s/epoch - 180ms/step
Epoch 14/100
59/59 - 11s - loss: 0.0828 - accuracy: 0.9735 - val_loss: 1.4861 - val_accuracy: 0.7147 - lr: 0.0010 - 11s/epoch - 181ms/step
Epoch 15/100
59/59 - 11s - loss: 0.0848 - accuracy: 0.9729 - val_loss: 1.5029 - val_accuracy: 0.7088 - lr: 0.0010 - 11s/epoch - 182ms/step
Epoch 16/100
59/59 - 11s - loss: 0.0842 - accuracy: 0.9727 - val_loss: 1.5341 - val_accuracy: 0.7069 - lr: 0.0010 - 11s/epoch - 181ms/step
Epoch 17/100
59/59 - 11s - loss: 0.0833 - accuracy: 0.9728 - val_loss: 1.5300 - val_accuracy: 0.7081 - lr: 0.0010 - 11s/epoch - 180ms/step
Epoch 18/100
59/59 - 11s - loss: 0.0874 - accuracy: 0.9719 - val_loss: 1.5356 - val_accuracy: 0.7074 - lr: 0.0010 - 11s/epoch - 179ms/step
Epoch 19/100
59/59 - 11s - loss: 0.0870 - accuracy: 0.9718 - val_loss: 1.4807 - val_accuracy: 0.7060 - lr: 0.0010 - 11s/epoch - 180ms/step
Epoch 20/100
59/59 - 11s - loss: 0.0862 - accuracy: 0.9719 - val_loss: 1.4755 - val_accuracy: 0.7134 - lr: 0.0010 - 11s/epoch - 179ms/step
Epoch 21/100
59/59 - 10s - loss: 0.0903 - accuracy: 0.9706 - val_loss: 1.4825 - val_accuracy: 0.7048 - lr: 0.0010 - 10s/epoch - 173ms/step
Epoch 22/100
59/59 - 10s - loss: 0.0912 - accuracy: 0.9698 - val_loss: 1.5293 - val_accuracy: 0.7024 - lr: 0.0010 - 10s/epoch - 164ms/step
Epoch 23/100
59/59 - 10s - loss: 0.0893 - accuracy: 0.9706 - val_loss: 1.4657 - val_accuracy: 0.7120 - lr: 0.0010 - 10s/epoch - 164ms/step
Epoch 24/100
59/59 - 10s - loss: 0.0881 - accuracy: 0.9708 - val_loss: 1.5366 - val_accuracy: 0.7011 - lr: 0.0010 - 10s/epoch - 165ms/step
Epoch 25/100
59/59 - 10s - loss: 0.0852 - accuracy: 0.9721 - val_loss: 1.4437 - val_accuracy: 0.7142 - lr: 0.0010 - 10s/epoch - 165ms/step
Epoch 26/100
59/59 - 10s - loss: 0.0927 - accuracy: 0.9691 - val_loss: 1.4591 - val_accuracy: 0.7078 - lr: 0.0010 - 10s/epoch - 170ms/step
Epoch 27/100
59/59 - 11s - loss: 0.0960 - accuracy: 0.9677 - val_loss: 1.4911 - val_accuracy: 0.7081 - lr: 0.0010 - 11s/epoch - 187ms/step
Epoch 28/100
59/59 - 12s - loss: 0.0924 - accuracy: 0.9696 - val_loss: 1.5138 - val_accuracy: 0.7019 - lr: 0.0010 - 12s/epoch - 196ms/step
Epoch 29/100
59/59 - 11s - loss: 0.0905 - accuracy: 0.9702 - val_loss: 1.4985 - val_accuracy: 0.7023 - lr: 0.0010 - 11s/epoch - 188ms/step
Epoch 30/100
59/59 - 12s - loss: 0.0868 - accuracy: 0.9709 - val_loss: 1.4945 - val_accuracy: 0.7022 - lr: 0.0010 - 12s/epoch - 201ms/step
Epoch 31/100
59/59 - 12s - loss: 0.0906 - accuracy: 0.9705 - val_loss: 1.5242 - val_accuracy: 0.6950 - lr: 0.0010 - 12s/epoch - 207ms/step
Epoch 32/100
59/59 - 13s - loss: 0.0972 - accuracy: 0.9680 - val_loss: 1.4527 - val_accuracy: 0.7087 - lr: 0.0010 - 13s/epoch - 212ms/step
Epoch 33/100
59/59 - 11s - loss: 0.0889 - accuracy: 0.9701 - val_loss: 1.4562 - val_accuracy: 0.7087 - lr: 0.0010 - 11s/epoch - 189ms/step
Epoch 34/100
59/59 - 11s - loss: 0.0917 - accuracy: 0.9698 - val_loss: 1.4763 - val_accuracy: 0.7043 - lr: 0.0010 - 11s/epoch - 179ms/step
Epoch 35/100
59/59 - 10s - loss: 0.0918 - accuracy: 0.9696 - val_loss: 1.4614 - val_accuracy: 0.7079 - lr: 0.0010 - 10s/epoch - 166ms/step
Epoch 36/100
59/59 - 10s - loss: 0.0927 - accuracy: 0.9697 - val_loss: 1.5061 - val_accuracy: 0.7008 - lr: 0.0010 - 10s/epoch - 169ms/step
Epoch 37/100
59/59 - 10s - loss: 0.0939 - accuracy: 0.9691 - val_loss: 1.4472 - val_accuracy: 0.7062 - lr: 0.0010 - 10s/epoch - 165ms/step
Epoch 38/100
59/59 - 10s - loss: 0.0969 - accuracy: 0.9677 - val_loss: 1.4198 - val_accuracy: 0.7060 - lr: 0.0010 - 10s/epoch - 168ms/step
Epoch 39/100
59/59 - 10s - loss: 0.0923 - accuracy: 0.9694 - val_loss: 1.4081 - val_accuracy: 0.7133 - lr: 0.0010 - 10s/epoch - 164ms/step
Epoch 40/100
59/59 - 10s - loss: 0.0877 - accuracy: 0.9712 - val_loss: 1.4757 - val_accuracy: 0.6987 - lr: 0.0010 - 10s/epoch - 165ms/step
Epoch 41/100
59/59 - 10s - loss: 0.0886 - accuracy: 0.9713 - val_loss: 1.4571 - val_accuracy: 0.7016 - lr: 0.0010 - 10s/epoch - 164ms/step
Epoch 42/100
59/59 - 10s - loss: 0.0907 - accuracy: 0.9697 - val_loss: 1.4675 - val_accuracy: 0.7029 - lr: 0.0010 - 10s/epoch - 168ms/step
Epoch 43/100
59/59 - 12s - loss: 0.0923 - accuracy: 0.9697 - val_loss: 1.4457 - val_accuracy: 0.7067 - lr: 0.0010 - 12s/epoch - 197ms/step
Epoch 44/100
59/59 - 13s - loss: 0.0922 - accuracy: 0.9703 - val_loss: 1.4382 - val_accuracy: 0.7060 - lr: 0.0010 - 13s/epoch - 216ms/step
Epoch 45/100
59/59 - 13s - loss: 0.0944 - accuracy: 0.9692 - val_loss: 1.3864 - val_accuracy: 0.7182 - lr: 0.0010 - 13s/epoch - 221ms/step
Epoch 46/100
59/59 - 13s - loss: 0.0911 - accuracy: 0.9702 - val_loss: 1.3702 - val_accuracy: 0.7155 - lr: 0.0010 - 13s/epoch - 218ms/step
Epoch 47/100
59/59 - 13s - loss: 0.0860 - accuracy: 0.9718 - val_loss: 1.4575 - val_accuracy: 0.7011 - lr: 0.0010 - 13s/epoch - 225ms/step
Epoch 48/100
59/59 - 13s - loss: 0.0895 - accuracy: 0.9708 - val_loss: 1.4511 - val_accuracy: 0.7044 - lr: 0.0010 - 13s/epoch - 219ms/step
Epoch 49/100
59/59 - 10s - loss: 0.0891 - accuracy: 0.9716 - val_loss: 1.4695 - val_accuracy: 0.7077 - lr: 0.0010 - 10s/epoch - 164ms/step
Epoch 50/100
59/59 - 9s - loss: 0.0963 - accuracy: 0.9686 - val_loss: 1.4124 - val_accuracy: 0.7125 - lr: 0.0010 - 9s/epoch - 153ms/step
Epoch 51/100
59/59 - 10s - loss: 0.0936 - accuracy: 0.9685 - val_loss: 1.4194 - val_accuracy: 0.7051 - lr: 0.0010 - 10s/epoch - 164ms/step
Epoch 52/100
59/59 - 10s - loss: 0.0927 - accuracy: 0.9692 - val_loss: 1.4647 - val_accuracy: 0.7001 - lr: 0.0010 - 10s/epoch - 168ms/step
Epoch 53/100
59/59 - 10s - loss: 0.0920 - accuracy: 0.9695 - val_loss: 1.4790 - val_accuracy: 0.6978 - lr: 0.0010 - 10s/epoch - 169ms/step
Epoch 54/100
59/59 - 10s - loss: 0.0885 - accuracy: 0.9707 - val_loss: 1.4526 - val_accuracy: 0.7017 - lr: 0.0010 - 10s/epoch - 166ms/step
Epoch 55/100
59/59 - 9s - loss: 0.0903 - accuracy: 0.9698 - val_loss: 1.4547 - val_accuracy: 0.7063 - lr: 0.0010 - 9s/epoch - 161ms/step
Epoch 56/100
59/59 - 11s - loss: 0.0875 - accuracy: 0.9713 - val_loss: 1.3933 - val_accuracy: 0.7130 - lr: 0.0010 - 11s/epoch - 191ms/step
Epoch 57/100
59/59 - 10s - loss: 0.0888 - accuracy: 0.9712 - val_loss: 1.5321 - val_accuracy: 0.6973 - lr: 0.0010 - 10s/epoch - 165ms/step
Epoch 58/100
59/59 - 10s - loss: 0.0933 - accuracy: 0.9694 - val_loss: 1.4045 - val_accuracy: 0.7148 - lr: 0.0010 - 10s/epoch - 166ms/step
Epoch 59/100
59/59 - 11s - loss: 0.0898 - accuracy: 0.9703 - val_loss: 1.4065 - val_accuracy: 0.7155 - lr: 0.0010 - 11s/epoch - 179ms/step
Epoch 60/100
59/59 - 10s - loss: 0.0903 - accuracy: 0.9697 - val_loss: 1.4713 - val_accuracy: 0.7108 - lr: 0.0010 - 10s/epoch - 165ms/step
Epoch 61/100
59/59 - 12s - loss: 0.0903 - accuracy: 0.9697 - val_loss: 1.4077 - val_accuracy: 0.7144 - lr: 0.0010 - 12s/epoch - 198ms/step
Epoch 62/100
59/59 - 13s - loss: 0.0906 - accuracy: 0.9703 - val_loss: 1.4435 - val_accuracy: 0.7069 - lr: 0.0010 - 13s/epoch - 226ms/step
Epoch 63/100
59/59 - 13s - loss: 0.0898 - accuracy: 0.9708 - val_loss: 1.4579 - val_accuracy: 0.7051 - lr: 0.0010 - 13s/epoch - 219ms/step
Epoch 64/100
59/59 - 14s - loss: 0.0860 - accuracy: 0.9709 - val_loss: 1.4160 - val_accuracy: 0.7135 - lr: 0.0010 - 14s/epoch - 233ms/step
Epoch 65/100
59/59 - 12s - loss: 0.0887 - accuracy: 0.9707 - val_loss: 1.4186 - val_accuracy: 0.7070 - lr: 0.0010 - 12s/epoch - 208ms/step
Epoch 66/100
59/59 - 10s - loss: 0.0902 - accuracy: 0.9701 - val_loss: 1.4711 - val_accuracy: 0.7079 - lr: 0.0010 - 10s/epoch - 169ms/step
Epoch 67/100
59/59 - 10s - loss: 0.0888 - accuracy: 0.9713 - val_loss: 1.4124 - val_accuracy: 0.7127 - lr: 0.0010 - 10s/epoch - 167ms/step
Epoch 68/100
59/59 - 10s - loss: 0.0872 - accuracy: 0.9716 - val_loss: 1.4133 - val_accuracy: 0.7161 - lr: 0.0010 - 10s/epoch - 170ms/step
Epoch 69/100
59/59 - 11s - loss: 0.0935 - accuracy: 0.9695 - val_loss: 1.3813 - val_accuracy: 0.7164 - lr: 0.0010 - 11s/epoch - 184ms/step
Epoch 70/100
59/59 - 12s - loss: 0.0919 - accuracy: 0.9694 - val_loss: 1.4482 - val_accuracy: 0.7081 - lr: 0.0010 - 12s/epoch - 203ms/step
Epoch 71/100
59/59 - 14s - loss: 0.0902 - accuracy: 0.9704 - val_loss: 1.4249 - val_accuracy: 0.7118 - lr: 0.0010 - 14s/epoch - 230ms/step
Epoch 72/100
59/59 - 14s - loss: 0.0907 - accuracy: 0.9701 - val_loss: 1.4535 - val_accuracy: 0.7091 - lr: 0.0010 - 14s/epoch - 231ms/step
Epoch 73/100
59/59 - 11s - loss: 0.0922 - accuracy: 0.9687 - val_loss: 1.4363 - val_accuracy: 0.7026 - lr: 0.0010 - 11s/epoch - 184ms/step
Epoch 74/100
59/59 - 12s - loss: 0.0868 - accuracy: 0.9709 - val_loss: 1.4360 - val_accuracy: 0.7134 - lr: 0.0010 - 12s/epoch - 195ms/step
Epoch 75/100
59/59 - 10s - loss: 0.0898 - accuracy: 0.9712 - val_loss: 1.4282 - val_accuracy: 0.7083 - lr: 0.0010 - 10s/epoch - 172ms/step
Epoch 76/100
59/59 - 10s - loss: 0.0910 - accuracy: 0.9701 - val_loss: 1.4816 - val_accuracy: 0.6995 - lr: 0.0010 - 10s/epoch - 167ms/step
Epoch 77/100
59/59 - 10s - loss: 0.0887 - accuracy: 0.9704 - val_loss: 1.4345 - val_accuracy: 0.7079 - lr: 0.0010 - 10s/epoch - 167ms/step
Epoch 78/100
59/59 - 10s - loss: 0.0893 - accuracy: 0.9708 - val_loss: 1.4111 - val_accuracy: 0.7116 - lr: 0.0010 - 10s/epoch - 165ms/step
Epoch 79/100
59/59 - 10s - loss: 0.0880 - accuracy: 0.9707 - val_loss: 1.4414 - val_accuracy: 0.7096 - lr: 0.0010 - 10s/epoch - 166ms/step
Epoch 80/100
59/59 - 10s - loss: 0.0902 - accuracy: 0.9707 - val_loss: 1.3830 - val_accuracy: 0.7149 - lr: 0.0010 - 10s/epoch - 167ms/step
Epoch 81/100
59/59 - 10s - loss: 0.0883 - accuracy: 0.9716 - val_loss: 1.4284 - val_accuracy: 0.7118 - lr: 0.0010 - 10s/epoch - 166ms/step
Epoch 82/100
59/59 - 10s - loss: 0.0887 - accuracy: 0.9711 - val_loss: 1.4946 - val_accuracy: 0.6971 - lr: 0.0010 - 10s/epoch - 166ms/step
Epoch 83/100
59/59 - 10s - loss: 0.0898 - accuracy: 0.9702 - val_loss: 1.4523 - val_accuracy: 0.7108 - lr: 0.0010 - 10s/epoch - 166ms/step
Epoch 84/100
59/59 - 10s - loss: 0.0946 - accuracy: 0.9686 - val_loss: 1.4272 - val_accuracy: 0.7094 - lr: 0.0010 - 10s/epoch - 165ms/step
Epoch 85/100
59/59 - 10s - loss: 0.0907 - accuracy: 0.9694 - val_loss: 1.3883 - val_accuracy: 0.7167 - lr: 0.0010 - 10s/epoch - 172ms/step
Epoch 86/100
59/59 - 11s - loss: 0.0857 - accuracy: 0.9722 - val_loss: 1.4220 - val_accuracy: 0.7206 - lr: 0.0010 - 11s/epoch - 192ms/step
Epoch 87/100
59/59 - 12s - loss: 0.0881 - accuracy: 0.9717 - val_loss: 1.4796 - val_accuracy: 0.7006 - lr: 0.0010 - 12s/epoch - 204ms/step
Epoch 88/100
59/59 - 13s - loss: 0.0887 - accuracy: 0.9716 - val_loss: 1.4624 - val_accuracy: 0.7063 - lr: 0.0010 - 13s/epoch - 213ms/step
Epoch 89/100
59/59 - 11s - loss: 0.0894 - accuracy: 0.9707 - val_loss: 1.4077 - val_accuracy: 0.7126 - lr: 0.0010 - 11s/epoch - 185ms/step
Epoch 90/100
59/59 - 11s - loss: 0.0881 - accuracy: 0.9705 - val_loss: 1.4763 - val_accuracy: 0.7003 - lr: 0.0010 - 11s/epoch - 183ms/step
Epoch 91/100
59/59 - 13s - loss: 0.0887 - accuracy: 0.9707 - val_loss: 1.4418 - val_accuracy: 0.7075 - lr: 0.0010 - 13s/epoch - 217ms/step
Epoch 92/100
59/59 - 13s - loss: 0.0899 - accuracy: 0.9704 - val_loss: 1.4274 - val_accuracy: 0.7072 - lr: 0.0010 - 13s/epoch - 217ms/step
Epoch 93/100
59/59 - 13s - loss: 0.0939 - accuracy: 0.9688 - val_loss: 1.4529 - val_accuracy: 0.6977 - lr: 0.0010 - 13s/epoch - 212ms/step
Epoch 94/100
59/59 - 13s - loss: 0.0913 - accuracy: 0.9698 - val_loss: 1.4236 - val_accuracy: 0.7047 - lr: 0.0010 - 13s/epoch - 221ms/step
Epoch 95/100
59/59 - 11s - loss: 0.0924 - accuracy: 0.9693 - val_loss: 1.3923 - val_accuracy: 0.7185 - lr: 0.0010 - 11s/epoch - 178ms/step
Epoch 96/100
59/59 - 10s - loss: 0.0905 - accuracy: 0.9703 - val_loss: 1.4128 - val_accuracy: 0.7080 - lr: 0.0010 - 10s/epoch - 169ms/step
Epoch 97/100
59/59 - 10s - loss: 0.0935 - accuracy: 0.9691 - val_loss: 1.5066 - val_accuracy: 0.6928 - lr: 0.0010 - 10s/epoch - 164ms/step
Epoch 98/100
59/59 - 10s - loss: 0.0923 - accuracy: 0.9697 - val_loss: 1.4797 - val_accuracy: 0.6990 - lr: 0.0010 - 10s/epoch - 164ms/step
Epoch 99/100
59/59 - 10s - loss: 0.0903 - accuracy: 0.9706 - val_loss: 1.4338 - val_accuracy: 0.7102 - lr: 0.0010 - 10s/epoch - 165ms/step
Epoch 100/100
59/59 - 12s - loss: 0.0891 - accuracy: 0.9708 - val_loss: 1.4475 - val_accuracy: 0.7081 - lr: 0.0010 - 12s/epoch - 201ms/step
fitting with batch size: 2500
Epoch 1/100
36/36 - 14s - loss: 0.0820 - accuracy: 0.9731 - val_loss: 1.4579 - val_accuracy: 0.7082 - lr: 0.0010 - 14s/epoch - 400ms/step
Epoch 2/100
36/36 - 12s - loss: 0.0775 - accuracy: 0.9756 - val_loss: 1.4805 - val_accuracy: 0.7049 - lr: 0.0010 - 12s/epoch - 331ms/step
Epoch 3/100
36/36 - 12s - loss: 0.0744 - accuracy: 0.9763 - val_loss: 1.4768 - val_accuracy: 0.7080 - lr: 0.0010 - 12s/epoch - 329ms/step
Epoch 4/100
36/36 - 12s - loss: 0.0778 - accuracy: 0.9744 - val_loss: 1.4702 - val_accuracy: 0.7066 - lr: 0.0010 - 12s/epoch - 330ms/step
Epoch 5/100
36/36 - 12s - loss: 0.0750 - accuracy: 0.9755 - val_loss: 1.4976 - val_accuracy: 0.7071 - lr: 0.0010 - 12s/epoch - 329ms/step
Epoch 6/100
36/36 - 12s - loss: 0.0799 - accuracy: 0.9739 - val_loss: 1.4979 - val_accuracy: 0.7069 - lr: 0.0010 - 12s/epoch - 336ms/step
Epoch 7/100
36/36 - 12s - loss: 0.0758 - accuracy: 0.9750 - val_loss: 1.4357 - val_accuracy: 0.7214 - lr: 0.0010 - 12s/epoch - 345ms/step
Epoch 8/100
36/36 - 12s - loss: 0.0725 - accuracy: 0.9769 - val_loss: 1.4636 - val_accuracy: 0.7164 - lr: 0.0010 - 12s/epoch - 332ms/step
Epoch 9/100
36/36 - 10s - loss: 0.0709 - accuracy: 0.9771 - val_loss: 1.4969 - val_accuracy: 0.7105 - lr: 0.0010 - 10s/epoch - 288ms/step
Epoch 10/100
36/36 - 10s - loss: 0.0702 - accuracy: 0.9776 - val_loss: 1.4971 - val_accuracy: 0.7130 - lr: 0.0010 - 10s/epoch - 271ms/step
Epoch 11/100
36/36 - 10s - loss: 0.0749 - accuracy: 0.9756 - val_loss: 1.4950 - val_accuracy: 0.7106 - lr: 0.0010 - 10s/epoch - 264ms/step
Epoch 12/100
36/36 - 9s - loss: 0.0721 - accuracy: 0.9775 - val_loss: 1.4877 - val_accuracy: 0.7120 - lr: 0.0010 - 9s/epoch - 264ms/step
Epoch 13/100
36/36 - 9s - loss: 0.0699 - accuracy: 0.9779 - val_loss: 1.4899 - val_accuracy: 0.7100 - lr: 0.0010 - 9s/epoch - 263ms/step
Epoch 14/100
36/36 - 11s - loss: 0.0730 - accuracy: 0.9770 - val_loss: 1.5102 - val_accuracy: 0.7041 - lr: 0.0010 - 11s/epoch - 292ms/step
Epoch 15/100
36/36 - 12s - loss: 0.0699 - accuracy: 0.9776 - val_loss: 1.5330 - val_accuracy: 0.7017 - lr: 0.0010 - 12s/epoch - 336ms/step
Epoch 16/100
36/36 - 12s - loss: 0.0727 - accuracy: 0.9769 - val_loss: 1.4974 - val_accuracy: 0.7114 - lr: 0.0010 - 12s/epoch - 336ms/step
Epoch 17/100
36/36 - 12s - loss: 0.0693 - accuracy: 0.9781 - val_loss: 1.4950 - val_accuracy: 0.7133 - lr: 0.0010 - 12s/epoch - 331ms/step
Epoch 18/100
36/36 - 12s - loss: 0.0678 - accuracy: 0.9778 - val_loss: 1.5092 - val_accuracy: 0.7098 - lr: 0.0010 - 12s/epoch - 342ms/step
Epoch 19/100
36/36 - 12s - loss: 0.0728 - accuracy: 0.9765 - val_loss: 1.5146 - val_accuracy: 0.7053 - lr: 0.0010 - 12s/epoch - 337ms/step
Epoch 20/100
36/36 - 12s - loss: 0.0688 - accuracy: 0.9779 - val_loss: 1.5045 - val_accuracy: 0.7097 - lr: 0.0010 - 12s/epoch - 335ms/step
Epoch 21/100
36/36 - 12s - loss: 0.0705 - accuracy: 0.9774 - val_loss: 1.5205 - val_accuracy: 0.7095 - lr: 0.0010 - 12s/epoch - 334ms/step
Epoch 22/100
36/36 - 10s - loss: 0.0674 - accuracy: 0.9784 - val_loss: 1.5045 - val_accuracy: 0.7140 - lr: 0.0010 - 10s/epoch - 272ms/step
Epoch 23/100
36/36 - 9s - loss: 0.0688 - accuracy: 0.9779 - val_loss: 1.5418 - val_accuracy: 0.7060 - lr: 0.0010 - 9s/epoch - 264ms/step
Epoch 24/100
36/36 - 10s - loss: 0.0703 - accuracy: 0.9773 - val_loss: 1.5391 - val_accuracy: 0.7068 - lr: 0.0010 - 10s/epoch - 264ms/step
Epoch 25/100
36/36 - 10s - loss: 0.0678 - accuracy: 0.9784 - val_loss: 1.5372 - val_accuracy: 0.7127 - lr: 0.0010 - 10s/epoch - 265ms/step
Epoch 26/100
36/36 - 11s - loss: 0.0695 - accuracy: 0.9783 - val_loss: 1.5239 - val_accuracy: 0.7101 - lr: 0.0010 - 11s/epoch - 303ms/step
Epoch 27/100
36/36 - 12s - loss: 0.0661 - accuracy: 0.9793 - val_loss: 1.5184 - val_accuracy: 0.7130 - lr: 0.0010 - 12s/epoch - 335ms/step
Epoch 28/100
36/36 - 12s - loss: 0.0685 - accuracy: 0.9780 - val_loss: 1.5174 - val_accuracy: 0.7126 - lr: 0.0010 - 12s/epoch - 332ms/step
Epoch 29/100
36/36 - 12s - loss: 0.0643 - accuracy: 0.9799 - val_loss: 1.5278 - val_accuracy: 0.7112 - lr: 0.0010 - 12s/epoch - 337ms/step
Epoch 30/100
36/36 - 12s - loss: 0.0666 - accuracy: 0.9791 - val_loss: 1.5216 - val_accuracy: 0.7105 - lr: 0.0010 - 12s/epoch - 340ms/step
Epoch 31/100
36/36 - 12s - loss: 0.0681 - accuracy: 0.9786 - val_loss: 1.5222 - val_accuracy: 0.7114 - lr: 0.0010 - 12s/epoch - 337ms/step
Epoch 32/100
36/36 - 11s - loss: 0.0700 - accuracy: 0.9773 - val_loss: 1.5304 - val_accuracy: 0.7093 - lr: 0.0010 - 11s/epoch - 304ms/step
Epoch 33/100
36/36 - 9s - loss: 0.0681 - accuracy: 0.9781 - val_loss: 1.5229 - val_accuracy: 0.7121 - lr: 0.0010 - 9s/epoch - 264ms/step
Epoch 34/100
36/36 - 11s - loss: 0.0686 - accuracy: 0.9782 - val_loss: 1.5320 - val_accuracy: 0.7093 - lr: 0.0010 - 11s/epoch - 304ms/step
Epoch 35/100
36/36 - 12s - loss: 0.0780 - accuracy: 0.9743 - val_loss: 1.5176 - val_accuracy: 0.7095 - lr: 0.0010 - 12s/epoch - 335ms/step
Epoch 36/100
36/36 - 12s - loss: 0.0690 - accuracy: 0.9781 - val_loss: 1.5276 - val_accuracy: 0.7124 - lr: 0.0010 - 12s/epoch - 336ms/step
Epoch 37/100
36/36 - 12s - loss: 0.0653 - accuracy: 0.9794 - val_loss: 1.5435 - val_accuracy: 0.7082 - lr: 0.0010 - 12s/epoch - 343ms/step
Epoch 38/100
36/36 - 12s - loss: 0.0645 - accuracy: 0.9795 - val_loss: 1.5328 - val_accuracy: 0.7130 - lr: 0.0010 - 12s/epoch - 342ms/step
Epoch 39/100
36/36 - 12s - loss: 0.0631 - accuracy: 0.9797 - val_loss: 1.5184 - val_accuracy: 0.7154 - lr: 0.0010 - 12s/epoch - 322ms/step
Epoch 40/100
36/36 - 10s - loss: 0.0663 - accuracy: 0.9789 - val_loss: 1.5578 - val_accuracy: 0.7093 - lr: 0.0010 - 10s/epoch - 281ms/step
Epoch 41/100
36/36 - 10s - loss: 0.0725 - accuracy: 0.9771 - val_loss: 1.5260 - val_accuracy: 0.7098 - lr: 0.0010 - 10s/epoch - 264ms/step
Epoch 42/100
36/36 - 10s - loss: 0.0666 - accuracy: 0.9789 - val_loss: 1.5485 - val_accuracy: 0.7096 - lr: 0.0010 - 10s/epoch - 264ms/step
Epoch 43/100
36/36 - 10s - loss: 0.0683 - accuracy: 0.9777 - val_loss: 1.5132 - val_accuracy: 0.7192 - lr: 0.0010 - 10s/epoch - 264ms/step
Epoch 44/100
36/36 - 9s - loss: 0.0661 - accuracy: 0.9791 - val_loss: 1.5300 - val_accuracy: 0.7124 - lr: 0.0010 - 9s/epoch - 264ms/step
Epoch 45/100
36/36 - 10s - loss: 0.0724 - accuracy: 0.9769 - val_loss: 1.5299 - val_accuracy: 0.7087 - lr: 0.0010 - 10s/epoch - 265ms/step
Epoch 46/100
36/36 - 9s - loss: 0.0655 - accuracy: 0.9793 - val_loss: 1.5320 - val_accuracy: 0.7115 - lr: 0.0010 - 9s/epoch - 263ms/step
Epoch 47/100
36/36 - 10s - loss: 0.0706 - accuracy: 0.9774 - val_loss: 1.5377 - val_accuracy: 0.7112 - lr: 0.0010 - 10s/epoch - 287ms/step
Epoch 48/100
36/36 - 12s - loss: 0.0628 - accuracy: 0.9796 - val_loss: 1.5194 - val_accuracy: 0.7176 - lr: 0.0010 - 12s/epoch - 329ms/step
Epoch 49/100
36/36 - 11s - loss: 0.0648 - accuracy: 0.9799 - val_loss: 1.5327 - val_accuracy: 0.7136 - lr: 0.0010 - 11s/epoch - 298ms/step
Epoch 50/100
36/36 - 12s - loss: 0.0646 - accuracy: 0.9793 - val_loss: 1.5411 - val_accuracy: 0.7146 - lr: 0.0010 - 12s/epoch - 334ms/step
Epoch 51/100
36/36 - 12s - loss: 0.0638 - accuracy: 0.9796 - val_loss: 1.5270 - val_accuracy: 0.7140 - lr: 0.0010 - 12s/epoch - 341ms/step
Epoch 52/100
36/36 - 12s - loss: 0.0658 - accuracy: 0.9798 - val_loss: 1.5326 - val_accuracy: 0.7134 - lr: 0.0010 - 12s/epoch - 340ms/step
Epoch 53/100
36/36 - 10s - loss: 0.0632 - accuracy: 0.9798 - val_loss: 1.5564 - val_accuracy: 0.7096 - lr: 0.0010 - 10s/epoch - 273ms/step
Epoch 54/100
36/36 - 12s - loss: 0.0647 - accuracy: 0.9798 - val_loss: 1.5451 - val_accuracy: 0.7103 - lr: 0.0010 - 12s/epoch - 336ms/step
Epoch 55/100
36/36 - 10s - loss: 0.0647 - accuracy: 0.9796 - val_loss: 1.5368 - val_accuracy: 0.7128 - lr: 0.0010 - 10s/epoch - 288ms/step
Epoch 56/100
36/36 - 10s - loss: 0.0637 - accuracy: 0.9793 - val_loss: 1.5457 - val_accuracy: 0.7125 - lr: 0.0010 - 10s/epoch - 266ms/step
Epoch 57/100
36/36 - 9s - loss: 0.0639 - accuracy: 0.9800 - val_loss: 1.5522 - val_accuracy: 0.7138 - lr: 0.0010 - 9s/epoch - 264ms/step
Epoch 58/100
36/36 - 10s - loss: 0.0673 - accuracy: 0.9785 - val_loss: 1.5554 - val_accuracy: 0.7107 - lr: 0.0010 - 10s/epoch - 264ms/step
Epoch 59/100
36/36 - 11s - loss: 0.0661 - accuracy: 0.9793 - val_loss: 1.5321 - val_accuracy: 0.7132 - lr: 0.0010 - 11s/epoch - 309ms/step
Epoch 60/100
36/36 - 12s - loss: 0.0671 - accuracy: 0.9786 - val_loss: 1.5620 - val_accuracy: 0.7080 - lr: 0.0010 - 12s/epoch - 336ms/step
Epoch 61/100
36/36 - 12s - loss: 0.0655 - accuracy: 0.9787 - val_loss: 1.5844 - val_accuracy: 0.7065 - lr: 0.0010 - 12s/epoch - 336ms/step
Epoch 62/100
36/36 - 12s - loss: 0.0665 - accuracy: 0.9788 - val_loss: 1.5797 - val_accuracy: 0.7067 - lr: 0.0010 - 12s/epoch - 338ms/step
Epoch 63/100
36/36 - 12s - loss: 0.0675 - accuracy: 0.9789 - val_loss: 1.5750 - val_accuracy: 0.7083 - lr: 0.0010 - 12s/epoch - 329ms/step
Epoch 64/100
36/36 - 11s - loss: 0.0690 - accuracy: 0.9778 - val_loss: 1.5734 - val_accuracy: 0.7132 - lr: 0.0010 - 11s/epoch - 296ms/step
Epoch 65/100
36/36 - 11s - loss: 0.0647 - accuracy: 0.9794 - val_loss: 1.5578 - val_accuracy: 0.7144 - lr: 0.0010 - 11s/epoch - 307ms/step
Epoch 66/100
36/36 - 12s - loss: 0.0650 - accuracy: 0.9798 - val_loss: 1.5702 - val_accuracy: 0.7108 - lr: 0.0010 - 12s/epoch - 331ms/step
Epoch 67/100
36/36 - 12s - loss: 0.0633 - accuracy: 0.9800 - val_loss: 1.5972 - val_accuracy: 0.7068 - lr: 0.0010 - 12s/epoch - 330ms/step
Epoch 68/100
36/36 - 12s - loss: 0.0653 - accuracy: 0.9792 - val_loss: 1.5730 - val_accuracy: 0.7111 - lr: 0.0010 - 12s/epoch - 343ms/step
Epoch 69/100
36/36 - 12s - loss: 0.0682 - accuracy: 0.9781 - val_loss: 1.5813 - val_accuracy: 0.7078 - lr: 0.0010 - 12s/epoch - 331ms/step
Epoch 70/100
36/36 - 10s - loss: 0.0640 - accuracy: 0.9792 - val_loss: 1.5535 - val_accuracy: 0.7125 - lr: 0.0010 - 10s/epoch - 283ms/step
Epoch 71/100
36/36 - 11s - loss: 0.0649 - accuracy: 0.9791 - val_loss: 1.5814 - val_accuracy: 0.7109 - lr: 0.0010 - 11s/epoch - 316ms/step
Epoch 72/100
36/36 - 12s - loss: 0.0660 - accuracy: 0.9789 - val_loss: 1.5623 - val_accuracy: 0.7108 - lr: 0.0010 - 12s/epoch - 332ms/step
Epoch 73/100
36/36 - 12s - loss: 0.0630 - accuracy: 0.9798 - val_loss: 1.5912 - val_accuracy: 0.7099 - lr: 0.0010 - 12s/epoch - 332ms/step
Epoch 74/100
36/36 - 12s - loss: 0.0681 - accuracy: 0.9778 - val_loss: 1.5848 - val_accuracy: 0.7083 - lr: 0.0010 - 12s/epoch - 340ms/step
Epoch 75/100
36/36 - 12s - loss: 0.0664 - accuracy: 0.9790 - val_loss: 1.5804 - val_accuracy: 0.7125 - lr: 0.0010 - 12s/epoch - 320ms/step
Epoch 76/100
36/36 - 10s - loss: 0.0639 - accuracy: 0.9797 - val_loss: 1.5916 - val_accuracy: 0.7072 - lr: 0.0010 - 10s/epoch - 284ms/step
Epoch 77/100
36/36 - 10s - loss: 0.0669 - accuracy: 0.9780 - val_loss: 1.5829 - val_accuracy: 0.7118 - lr: 0.0010 - 10s/epoch - 264ms/step
Epoch 78/100
36/36 - 9s - loss: 0.0664 - accuracy: 0.9785 - val_loss: 1.6166 - val_accuracy: 0.7052 - lr: 0.0010 - 9s/epoch - 262ms/step
Epoch 79/100
36/36 - 10s - loss: 0.0639 - accuracy: 0.9794 - val_loss: 1.5973 - val_accuracy: 0.7114 - lr: 0.0010 - 10s/epoch - 264ms/step
Epoch 80/100
36/36 - 10s - loss: 0.0640 - accuracy: 0.9799 - val_loss: 1.5951 - val_accuracy: 0.7129 - lr: 0.0010 - 10s/epoch - 270ms/step
Epoch 81/100
36/36 - 10s - loss: 0.0674 - accuracy: 0.9786 - val_loss: 1.5781 - val_accuracy: 0.7148 - lr: 0.0010 - 10s/epoch - 277ms/step
Epoch 82/100
36/36 - 10s - loss: 0.0640 - accuracy: 0.9800 - val_loss: 1.6260 - val_accuracy: 0.7056 - lr: 0.0010 - 10s/epoch - 281ms/step
Epoch 83/100
36/36 - 10s - loss: 0.0672 - accuracy: 0.9781 - val_loss: 1.6015 - val_accuracy: 0.7083 - lr: 0.0010 - 10s/epoch - 288ms/step
Epoch 84/100
36/36 - 10s - loss: 0.0660 - accuracy: 0.9790 - val_loss: 1.5985 - val_accuracy: 0.7125 - lr: 0.0010 - 10s/epoch - 283ms/step
Epoch 85/100
36/36 - 10s - loss: 0.0657 - accuracy: 0.9789 - val_loss: 1.6084 - val_accuracy: 0.7105 - lr: 0.0010 - 10s/epoch - 284ms/step
Epoch 86/100
36/36 - 10s - loss: 0.0644 - accuracy: 0.9790 - val_loss: 1.6084 - val_accuracy: 0.7093 - lr: 0.0010 - 10s/epoch - 279ms/step
Epoch 87/100
36/36 - 10s - loss: 0.0651 - accuracy: 0.9788 - val_loss: 1.6310 - val_accuracy: 0.7092 - lr: 0.0010 - 10s/epoch - 281ms/step
Epoch 88/100
36/36 - 10s - loss: 0.0660 - accuracy: 0.9787 - val_loss: 1.6270 - val_accuracy: 0.7025 - lr: 0.0010 - 10s/epoch - 286ms/step
Epoch 89/100
36/36 - 10s - loss: 0.0657 - accuracy: 0.9790 - val_loss: 1.6124 - val_accuracy: 0.7056 - lr: 0.0010 - 10s/epoch - 271ms/step
Epoch 90/100
36/36 - 10s - loss: 0.0703 - accuracy: 0.9779 - val_loss: 1.5960 - val_accuracy: 0.7077 - lr: 0.0010 - 10s/epoch - 266ms/step
Epoch 91/100
36/36 - 10s - loss: 0.0686 - accuracy: 0.9781 - val_loss: 1.6244 - val_accuracy: 0.7023 - lr: 0.0010 - 10s/epoch - 287ms/step
Epoch 92/100
36/36 - 10s - loss: 0.0730 - accuracy: 0.9765 - val_loss: 1.6131 - val_accuracy: 0.7045 - lr: 0.0010 - 10s/epoch - 287ms/step
Epoch 93/100
36/36 - 10s - loss: 0.0683 - accuracy: 0.9786 - val_loss: 1.5946 - val_accuracy: 0.7054 - lr: 0.0010 - 10s/epoch - 270ms/step
Epoch 94/100
36/36 - 10s - loss: 0.0727 - accuracy: 0.9768 - val_loss: 1.6260 - val_accuracy: 0.7043 - lr: 0.0010 - 10s/epoch - 275ms/step
Epoch 95/100
36/36 - 10s - loss: 0.0722 - accuracy: 0.9768 - val_loss: 1.6238 - val_accuracy: 0.7038 - lr: 0.0010 - 10s/epoch - 274ms/step
Epoch 96/100
36/36 - 10s - loss: 0.0656 - accuracy: 0.9789 - val_loss: 1.6194 - val_accuracy: 0.7090 - lr: 0.0010 - 10s/epoch - 285ms/step
Epoch 97/100
36/36 - 10s - loss: 0.0702 - accuracy: 0.9774 - val_loss: 1.6022 - val_accuracy: 0.7088 - lr: 0.0010 - 10s/epoch - 276ms/step
Epoch 98/100
36/36 - 10s - loss: 0.0664 - accuracy: 0.9790 - val_loss: 1.6128 - val_accuracy: 0.7080 - lr: 0.0010 - 10s/epoch - 280ms/step
Epoch 99/100
36/36 - 10s - loss: 0.0653 - accuracy: 0.9794 - val_loss: 1.6282 - val_accuracy: 0.7090 - lr: 0.0010 - 10s/epoch - 284ms/step
Epoch 100/100
36/36 - 10s - loss: 0.0670 - accuracy: 0.9788 - val_loss: 1.5988 - val_accuracy: 0.7103 - lr: 0.0010 - 10s/epoch - 265ms/step
Loss: binary_crossentropy
Epoch number: 75
fitting with batch size: 1500
Epoch 1/75
59/59 - 21s - loss: 0.0237 - accuracy: 0.9798 - val_loss: 0.5601 - val_accuracy: 0.7075 - lr: 0.0010 - 21s/epoch - 353ms/step
Epoch 2/75
59/59 - 11s - loss: 0.0239 - accuracy: 0.9795 - val_loss: 0.5548 - val_accuracy: 0.7098 - lr: 0.0010 - 11s/epoch - 179ms/step
Epoch 3/75
59/59 - 10s - loss: 0.0234 - accuracy: 0.9801 - val_loss: 0.5637 - val_accuracy: 0.7100 - lr: 0.0010 - 10s/epoch - 176ms/step
Epoch 4/75
59/59 - 10s - loss: 0.0229 - accuracy: 0.9804 - val_loss: 0.5706 - val_accuracy: 0.7082 - lr: 0.0010 - 10s/epoch - 177ms/step
Epoch 5/75
59/59 - 10s - loss: 0.0215 - accuracy: 0.9814 - val_loss: 0.5650 - val_accuracy: 0.7120 - lr: 0.0010 - 10s/epoch - 177ms/step
Epoch 6/75
59/59 - 10s - loss: 0.0226 - accuracy: 0.9811 - val_loss: 0.5711 - val_accuracy: 0.7093 - lr: 0.0010 - 10s/epoch - 178ms/step
Epoch 7/75
59/59 - 11s - loss: 0.0235 - accuracy: 0.9802 - val_loss: 0.5703 - val_accuracy: 0.7070 - lr: 0.0010 - 11s/epoch - 179ms/step
Epoch 8/75
59/59 - 11s - loss: 0.0231 - accuracy: 0.9804 - val_loss: 0.5686 - val_accuracy: 0.7074 - lr: 0.0010 - 11s/epoch - 179ms/step
Epoch 9/75
59/59 - 10s - loss: 0.0227 - accuracy: 0.9806 - val_loss: 0.5621 - val_accuracy: 0.7131 - lr: 0.0010 - 10s/epoch - 178ms/step
Epoch 10/75
59/59 - 10s - loss: 0.0242 - accuracy: 0.9800 - val_loss: 0.5604 - val_accuracy: 0.7139 - lr: 0.0010 - 10s/epoch - 178ms/step
Epoch 11/75
59/59 - 10s - loss: 0.0237 - accuracy: 0.9798 - val_loss: 0.5580 - val_accuracy: 0.7144 - lr: 0.0010 - 10s/epoch - 175ms/step
Epoch 12/75
59/59 - 10s - loss: 0.0227 - accuracy: 0.9803 - val_loss: 0.5682 - val_accuracy: 0.7130 - lr: 0.0010 - 10s/epoch - 178ms/step
Epoch 13/75
59/59 - 11s - loss: 0.0237 - accuracy: 0.9796 - val_loss: 0.5604 - val_accuracy: 0.7141 - lr: 0.0010 - 11s/epoch - 179ms/step
Epoch 14/75
59/59 - 10s - loss: 0.0237 - accuracy: 0.9802 - val_loss: 0.5672 - val_accuracy: 0.7131 - lr: 0.0010 - 10s/epoch - 176ms/step
Epoch 15/75
59/59 - 11s - loss: 0.0232 - accuracy: 0.9798 - val_loss: 0.5618 - val_accuracy: 0.7137 - lr: 0.0010 - 11s/epoch - 179ms/step
Epoch 16/75
59/59 - 11s - loss: 0.0237 - accuracy: 0.9798 - val_loss: 0.5625 - val_accuracy: 0.7124 - lr: 0.0010 - 11s/epoch - 181ms/step
Epoch 17/75
59/59 - 10s - loss: 0.0248 - accuracy: 0.9788 - val_loss: 0.5675 - val_accuracy: 0.7135 - lr: 0.0010 - 10s/epoch - 165ms/step
Epoch 18/75
59/59 - 10s - loss: 0.0247 - accuracy: 0.9785 - val_loss: 0.5672 - val_accuracy: 0.7126 - lr: 0.0010 - 10s/epoch - 164ms/step
Epoch 19/75
59/59 - 16s - loss: 0.0251 - accuracy: 0.9787 - val_loss: 0.5532 - val_accuracy: 0.7114 - lr: 0.0010 - 16s/epoch - 278ms/step
Epoch 20/75
59/59 - 10s - loss: 0.0268 - accuracy: 0.9772 - val_loss: 0.5523 - val_accuracy: 0.7104 - lr: 0.0010 - 10s/epoch - 173ms/step
Epoch 21/75
59/59 - 11s - loss: 0.0260 - accuracy: 0.9776 - val_loss: 0.5588 - val_accuracy: 0.7108 - lr: 0.0010 - 11s/epoch - 179ms/step
Epoch 22/75
59/59 - 11s - loss: 0.0275 - accuracy: 0.9763 - val_loss: 0.5534 - val_accuracy: 0.7065 - lr: 0.0010 - 11s/epoch - 180ms/step
Epoch 23/75
59/59 - 11s - loss: 0.0279 - accuracy: 0.9756 - val_loss: 0.5537 - val_accuracy: 0.7164 - lr: 0.0010 - 11s/epoch - 186ms/step
Epoch 24/75
59/59 - 11s - loss: 0.0274 - accuracy: 0.9762 - val_loss: 0.5572 - val_accuracy: 0.7107 - lr: 0.0010 - 11s/epoch - 186ms/step
Epoch 25/75
59/59 - 10s - loss: 0.0283 - accuracy: 0.9749 - val_loss: 0.5619 - val_accuracy: 0.7131 - lr: 0.0010 - 10s/epoch - 175ms/step
Epoch 26/75
59/59 - 11s - loss: 0.0287 - accuracy: 0.9750 - val_loss: 0.5655 - val_accuracy: 0.7059 - lr: 0.0010 - 11s/epoch - 181ms/step
Epoch 27/75
59/59 - 11s - loss: 0.0307 - accuracy: 0.9726 - val_loss: 0.5513 - val_accuracy: 0.7102 - lr: 0.0010 - 11s/epoch - 186ms/step
Epoch 28/75
59/59 - 11s - loss: 0.0316 - accuracy: 0.9715 - val_loss: 0.5385 - val_accuracy: 0.7127 - lr: 0.0010 - 11s/epoch - 184ms/step
Epoch 29/75
59/59 - 11s - loss: 0.0312 - accuracy: 0.9730 - val_loss: 0.5408 - val_accuracy: 0.7117 - lr: 0.0010 - 11s/epoch - 186ms/step
Epoch 30/75
59/59 - 11s - loss: 0.0313 - accuracy: 0.9724 - val_loss: 0.5506 - val_accuracy: 0.7088 - lr: 0.0010 - 11s/epoch - 186ms/step
Epoch 31/75
59/59 - 10s - loss: 0.0312 - accuracy: 0.9730 - val_loss: 0.5337 - val_accuracy: 0.7179 - lr: 0.0010 - 10s/epoch - 172ms/step
Epoch 32/75
59/59 - 10s - loss: 0.0316 - accuracy: 0.9725 - val_loss: 0.5295 - val_accuracy: 0.7116 - lr: 0.0010 - 10s/epoch - 166ms/step
Epoch 33/75
59/59 - 10s - loss: 0.0308 - accuracy: 0.9731 - val_loss: 0.5312 - val_accuracy: 0.7075 - lr: 0.0010 - 10s/epoch - 163ms/step
Epoch 34/75
59/59 - 10s - loss: 0.0317 - accuracy: 0.9722 - val_loss: 0.5540 - val_accuracy: 0.6992 - lr: 0.0010 - 10s/epoch - 176ms/step
Epoch 35/75
59/59 - 10s - loss: 0.0328 - accuracy: 0.9713 - val_loss: 0.5432 - val_accuracy: 0.7012 - lr: 0.0010 - 10s/epoch - 163ms/step
Epoch 36/75
59/59 - 10s - loss: 0.0319 - accuracy: 0.9716 - val_loss: 0.5303 - val_accuracy: 0.7124 - lr: 0.0010 - 10s/epoch - 165ms/step
Epoch 37/75
59/59 - 11s - loss: 0.0322 - accuracy: 0.9718 - val_loss: 0.5368 - val_accuracy: 0.7132 - lr: 0.0010 - 11s/epoch - 183ms/step
Epoch 38/75
59/59 - 11s - loss: 0.0326 - accuracy: 0.9708 - val_loss: 0.5284 - val_accuracy: 0.7145 - lr: 0.0010 - 11s/epoch - 183ms/step
Epoch 39/75
59/59 - 11s - loss: 0.0326 - accuracy: 0.9707 - val_loss: 0.5450 - val_accuracy: 0.6995 - lr: 0.0010 - 11s/epoch - 186ms/step
Epoch 40/75
59/59 - 11s - loss: 0.0339 - accuracy: 0.9693 - val_loss: 0.5285 - val_accuracy: 0.7073 - lr: 0.0010 - 11s/epoch - 185ms/step
Epoch 41/75
59/59 - 11s - loss: 0.0319 - accuracy: 0.9716 - val_loss: 0.5216 - val_accuracy: 0.7112 - lr: 0.0010 - 11s/epoch - 179ms/step
Epoch 42/75
59/59 - 11s - loss: 0.0320 - accuracy: 0.9722 - val_loss: 0.5354 - val_accuracy: 0.7021 - lr: 0.0010 - 11s/epoch - 181ms/step
Epoch 43/75
59/59 - 11s - loss: 0.0321 - accuracy: 0.9711 - val_loss: 0.5326 - val_accuracy: 0.6991 - lr: 0.0010 - 11s/epoch - 186ms/step
Epoch 44/75
59/59 - 11s - loss: 0.0319 - accuracy: 0.9720 - val_loss: 0.5255 - val_accuracy: 0.7079 - lr: 0.0010 - 11s/epoch - 192ms/step
Epoch 45/75
59/59 - 11s - loss: 0.0321 - accuracy: 0.9714 - val_loss: 0.5346 - val_accuracy: 0.7048 - lr: 0.0010 - 11s/epoch - 186ms/step
Epoch 46/75
59/59 - 11s - loss: 0.0330 - accuracy: 0.9708 - val_loss: 0.5194 - val_accuracy: 0.7092 - lr: 0.0010 - 11s/epoch - 185ms/step
Epoch 47/75
59/59 - 11s - loss: 0.0335 - accuracy: 0.9700 - val_loss: 0.5158 - val_accuracy: 0.7173 - lr: 0.0010 - 11s/epoch - 183ms/step
Epoch 48/75
59/59 - 11s - loss: 0.0332 - accuracy: 0.9702 - val_loss: 0.5233 - val_accuracy: 0.7047 - lr: 0.0010 - 11s/epoch - 185ms/step
Epoch 49/75
59/59 - 11s - loss: 0.0335 - accuracy: 0.9704 - val_loss: 0.5056 - val_accuracy: 0.7141 - lr: 0.0010 - 11s/epoch - 187ms/step
Epoch 50/75
59/59 - 11s - loss: 0.0317 - accuracy: 0.9718 - val_loss: 0.5267 - val_accuracy: 0.7115 - lr: 0.0010 - 11s/epoch - 180ms/step
Epoch 51/75
59/59 - 11s - loss: 0.0342 - accuracy: 0.9698 - val_loss: 0.5199 - val_accuracy: 0.7137 - lr: 0.0010 - 11s/epoch - 183ms/step
Epoch 52/75
59/59 - 11s - loss: 0.0324 - accuracy: 0.9713 - val_loss: 0.5118 - val_accuracy: 0.7115 - lr: 0.0010 - 11s/epoch - 183ms/step
Epoch 53/75
59/59 - 11s - loss: 0.0325 - accuracy: 0.9715 - val_loss: 0.5182 - val_accuracy: 0.7115 - lr: 0.0010 - 11s/epoch - 184ms/step
Epoch 54/75
59/59 - 11s - loss: 0.0329 - accuracy: 0.9704 - val_loss: 0.5199 - val_accuracy: 0.7076 - lr: 0.0010 - 11s/epoch - 185ms/step
Epoch 55/75
59/59 - 11s - loss: 0.0336 - accuracy: 0.9704 - val_loss: 0.5011 - val_accuracy: 0.7115 - lr: 0.0010 - 11s/epoch - 185ms/step
Epoch 56/75
59/59 - 11s - loss: 0.0328 - accuracy: 0.9709 - val_loss: 0.5348 - val_accuracy: 0.7000 - lr: 0.0010 - 11s/epoch - 183ms/step
Epoch 57/75
59/59 - 11s - loss: 0.0326 - accuracy: 0.9716 - val_loss: 0.5163 - val_accuracy: 0.7100 - lr: 0.0010 - 11s/epoch - 187ms/step
Epoch 58/75
59/59 - 11s - loss: 0.0322 - accuracy: 0.9713 - val_loss: 0.5179 - val_accuracy: 0.7082 - lr: 0.0010 - 11s/epoch - 179ms/step
Epoch 59/75
59/59 - 10s - loss: 0.0334 - accuracy: 0.9708 - val_loss: 0.5045 - val_accuracy: 0.7220 - lr: 0.0010 - 10s/epoch - 170ms/step
Epoch 60/75
59/59 - 11s - loss: 0.0324 - accuracy: 0.9712 - val_loss: 0.5224 - val_accuracy: 0.7031 - lr: 0.0010 - 11s/epoch - 182ms/step
Epoch 61/75
59/59 - 11s - loss: 0.0328 - accuracy: 0.9705 - val_loss: 0.5210 - val_accuracy: 0.7146 - lr: 0.0010 - 11s/epoch - 183ms/step
Epoch 62/75
59/59 - 11s - loss: 0.0326 - accuracy: 0.9711 - val_loss: 0.5305 - val_accuracy: 0.7129 - lr: 0.0010 - 11s/epoch - 183ms/step
Epoch 63/75
59/59 - 11s - loss: 0.0337 - accuracy: 0.9702 - val_loss: 0.5008 - val_accuracy: 0.7139 - lr: 0.0010 - 11s/epoch - 185ms/step
Epoch 64/75
59/59 - 11s - loss: 0.0360 - accuracy: 0.9676 - val_loss: 0.5067 - val_accuracy: 0.7099 - lr: 0.0010 - 11s/epoch - 182ms/step
Epoch 65/75
59/59 - 11s - loss: 0.0340 - accuracy: 0.9702 - val_loss: 0.5060 - val_accuracy: 0.7133 - lr: 0.0010 - 11s/epoch - 186ms/step
Epoch 66/75
59/59 - 11s - loss: 0.0336 - accuracy: 0.9703 - val_loss: 0.5180 - val_accuracy: 0.7078 - lr: 0.0010 - 11s/epoch - 190ms/step
Epoch 67/75
59/59 - 10s - loss: 0.0336 - accuracy: 0.9705 - val_loss: 0.5182 - val_accuracy: 0.7048 - lr: 0.0010 - 10s/epoch - 177ms/step
Epoch 68/75
59/59 - 10s - loss: 0.0342 - accuracy: 0.9687 - val_loss: 0.5373 - val_accuracy: 0.6967 - lr: 0.0010 - 10s/epoch - 164ms/step
Epoch 69/75
59/59 - 10s - loss: 0.0323 - accuracy: 0.9710 - val_loss: 0.5150 - val_accuracy: 0.7058 - lr: 0.0010 - 10s/epoch - 164ms/step
Epoch 70/75
59/59 - 10s - loss: 0.0316 - accuracy: 0.9719 - val_loss: 0.5154 - val_accuracy: 0.7033 - lr: 0.0010 - 10s/epoch - 164ms/step
Epoch 71/75
59/59 - 10s - loss: 0.0327 - accuracy: 0.9709 - val_loss: 0.5147 - val_accuracy: 0.7047 - lr: 0.0010 - 10s/epoch - 165ms/step
Epoch 72/75
59/59 - 10s - loss: 0.0322 - accuracy: 0.9715 - val_loss: 0.5127 - val_accuracy: 0.7090 - lr: 0.0010 - 10s/epoch - 164ms/step
Epoch 73/75
59/59 - 10s - loss: 0.0325 - accuracy: 0.9706 - val_loss: 0.5121 - val_accuracy: 0.7072 - lr: 0.0010 - 10s/epoch - 176ms/step
Epoch 74/75
59/59 - 11s - loss: 0.0333 - accuracy: 0.9706 - val_loss: 0.5151 - val_accuracy: 0.7099 - lr: 0.0010 - 11s/epoch - 185ms/step
Epoch 75/75
59/59 - 11s - loss: 0.0325 - accuracy: 0.9711 - val_loss: 0.5382 - val_accuracy: 0.7028 - lr: 0.0010 - 11s/epoch - 184ms/step
fitting with batch size: 2500
Epoch 1/75
36/36 - 13s - loss: 0.0310 - accuracy: 0.9729 - val_loss: 0.5187 - val_accuracy: 0.7052 - lr: 0.0010 - 13s/epoch - 368ms/step
Epoch 2/75
36/36 - 11s - loss: 0.0277 - accuracy: 0.9759 - val_loss: 0.5158 - val_accuracy: 0.7097 - lr: 0.0010 - 11s/epoch - 299ms/step
Epoch 3/75
36/36 - 11s - loss: 0.0282 - accuracy: 0.9752 - val_loss: 0.5194 - val_accuracy: 0.7112 - lr: 0.0010 - 11s/epoch - 298ms/step
Epoch 4/75
36/36 - 11s - loss: 0.0294 - accuracy: 0.9750 - val_loss: 0.5205 - val_accuracy: 0.7087 - lr: 0.0010 - 11s/epoch - 298ms/step
Epoch 5/75
36/36 - 11s - loss: 0.0286 - accuracy: 0.9754 - val_loss: 0.5363 - val_accuracy: 0.7034 - lr: 0.0010 - 11s/epoch - 296ms/step
Epoch 6/75
36/36 - 10s - loss: 0.0273 - accuracy: 0.9767 - val_loss: 0.5353 - val_accuracy: 0.7027 - lr: 0.0010 - 10s/epoch - 289ms/step
Epoch 7/75
36/36 - 11s - loss: 0.0253 - accuracy: 0.9784 - val_loss: 0.5506 - val_accuracy: 0.6996 - lr: 0.0010 - 11s/epoch - 293ms/step
Epoch 8/75
36/36 - 11s - loss: 0.0260 - accuracy: 0.9774 - val_loss: 0.5426 - val_accuracy: 0.7032 - lr: 0.0010 - 11s/epoch - 293ms/step
Epoch 9/75
36/36 - 11s - loss: 0.0259 - accuracy: 0.9782 - val_loss: 0.5428 - val_accuracy: 0.7056 - lr: 0.0010 - 11s/epoch - 303ms/step
Epoch 10/75
36/36 - 11s - loss: 0.0256 - accuracy: 0.9778 - val_loss: 0.5488 - val_accuracy: 0.6991 - lr: 0.0010 - 11s/epoch - 298ms/step
Epoch 11/75
36/36 - 11s - loss: 0.0248 - accuracy: 0.9788 - val_loss: 0.5432 - val_accuracy: 0.7077 - lr: 0.0010 - 11s/epoch - 298ms/step
Epoch 12/75
36/36 - 11s - loss: 0.0255 - accuracy: 0.9775 - val_loss: 0.5441 - val_accuracy: 0.7097 - lr: 0.0010 - 11s/epoch - 297ms/step
Epoch 13/75
36/36 - 11s - loss: 0.0256 - accuracy: 0.9779 - val_loss: 0.5329 - val_accuracy: 0.7103 - lr: 0.0010 - 11s/epoch - 301ms/step
Epoch 14/75
36/36 - 10s - loss: 0.0259 - accuracy: 0.9776 - val_loss: 0.5423 - val_accuracy: 0.7069 - lr: 0.0010 - 10s/epoch - 279ms/step
Epoch 15/75
36/36 - 10s - loss: 0.0251 - accuracy: 0.9784 - val_loss: 0.5496 - val_accuracy: 0.7054 - lr: 0.0010 - 10s/epoch - 265ms/step
Epoch 16/75
36/36 - 9s - loss: 0.0249 - accuracy: 0.9788 - val_loss: 0.5385 - val_accuracy: 0.7107 - lr: 0.0010 - 9s/epoch - 263ms/step
Epoch 17/75
36/36 - 10s - loss: 0.0270 - accuracy: 0.9770 - val_loss: 0.5334 - val_accuracy: 0.7124 - lr: 0.0010 - 10s/epoch - 265ms/step
Epoch 18/75
36/36 - 10s - loss: 0.0269 - accuracy: 0.9760 - val_loss: 0.5420 - val_accuracy: 0.7133 - lr: 0.0010 - 10s/epoch - 265ms/step
Epoch 19/75
36/36 - 10s - loss: 0.0252 - accuracy: 0.9781 - val_loss: 0.5355 - val_accuracy: 0.7155 - lr: 0.0010 - 10s/epoch - 271ms/step
Epoch 20/75
36/36 - 10s - loss: 0.0252 - accuracy: 0.9783 - val_loss: 0.5434 - val_accuracy: 0.7102 - lr: 0.0010 - 10s/epoch - 267ms/step
Epoch 21/75
36/36 - 10s - loss: 0.0244 - accuracy: 0.9790 - val_loss: 0.5390 - val_accuracy: 0.7142 - lr: 0.0010 - 10s/epoch - 267ms/step
Epoch 22/75
36/36 - 10s - loss: 0.0241 - accuracy: 0.9798 - val_loss: 0.5413 - val_accuracy: 0.7096 - lr: 0.0010 - 10s/epoch - 288ms/step
Epoch 23/75
36/36 - 10s - loss: 0.0259 - accuracy: 0.9777 - val_loss: 0.5518 - val_accuracy: 0.7136 - lr: 0.0010 - 10s/epoch - 287ms/step
Epoch 24/75
36/36 - 10s - loss: 0.0261 - accuracy: 0.9777 - val_loss: 0.5344 - val_accuracy: 0.7172 - lr: 0.0010 - 10s/epoch - 287ms/step
Epoch 25/75
36/36 - 10s - loss: 0.0272 - accuracy: 0.9764 - val_loss: 0.5430 - val_accuracy: 0.7077 - lr: 0.0010 - 10s/epoch - 291ms/step
Epoch 26/75
36/36 - 10s - loss: 0.0267 - accuracy: 0.9769 - val_loss: 0.5420 - val_accuracy: 0.7098 - lr: 0.0010 - 10s/epoch - 291ms/step
Epoch 27/75
36/36 - 10s - loss: 0.0266 - accuracy: 0.9770 - val_loss: 0.5393 - val_accuracy: 0.7125 - lr: 0.0010 - 10s/epoch - 289ms/step
Epoch 28/75
36/36 - 10s - loss: 0.0249 - accuracy: 0.9789 - val_loss: 0.5413 - val_accuracy: 0.7126 - lr: 0.0010 - 10s/epoch - 290ms/step
Epoch 29/75
36/36 - 11s - loss: 0.0261 - accuracy: 0.9774 - val_loss: 0.5462 - val_accuracy: 0.7092 - lr: 0.0010 - 11s/epoch - 295ms/step
Epoch 30/75
36/36 - 10s - loss: 0.0245 - accuracy: 0.9794 - val_loss: 0.5590 - val_accuracy: 0.7086 - lr: 0.0010 - 10s/epoch - 289ms/step
Epoch 31/75
36/36 - 10s - loss: 0.0249 - accuracy: 0.9785 - val_loss: 0.5437 - val_accuracy: 0.7160 - lr: 0.0010 - 10s/epoch - 288ms/step
Epoch 32/75
36/36 - 10s - loss: 0.0256 - accuracy: 0.9776 - val_loss: 0.5418 - val_accuracy: 0.7147 - lr: 0.0010 - 10s/epoch - 271ms/step
Epoch 33/75
36/36 - 10s - loss: 0.0246 - accuracy: 0.9787 - val_loss: 0.5553 - val_accuracy: 0.7100 - lr: 0.0010 - 10s/epoch - 266ms/step
Epoch 34/75
36/36 - 10s - loss: 0.0246 - accuracy: 0.9793 - val_loss: 0.5540 - val_accuracy: 0.7089 - lr: 0.0010 - 10s/epoch - 265ms/step
Epoch 35/75
36/36 - 10s - loss: 0.0242 - accuracy: 0.9791 - val_loss: 0.5491 - val_accuracy: 0.7108 - lr: 0.0010 - 10s/epoch - 266ms/step
Epoch 36/75
36/36 - 10s - loss: 0.0243 - accuracy: 0.9796 - val_loss: 0.5413 - val_accuracy: 0.7112 - lr: 0.0010 - 10s/epoch - 287ms/step
Epoch 37/75
36/36 - 11s - loss: 0.0253 - accuracy: 0.9780 - val_loss: 0.5452 - val_accuracy: 0.7107 - lr: 0.0010 - 11s/epoch - 292ms/step
Epoch 38/75
36/36 - 11s - loss: 0.0241 - accuracy: 0.9788 - val_loss: 0.5516 - val_accuracy: 0.7090 - lr: 0.0010 - 11s/epoch - 292ms/step
Epoch 39/75
36/36 - 10s - loss: 0.0243 - accuracy: 0.9794 - val_loss: 0.5498 - val_accuracy: 0.7127 - lr: 0.0010 - 10s/epoch - 276ms/step
Epoch 40/75
36/36 - 10s - loss: 0.0242 - accuracy: 0.9794 - val_loss: 0.5475 - val_accuracy: 0.7152 - lr: 0.0010 - 10s/epoch - 266ms/step
Epoch 41/75
36/36 - 10s - loss: 0.0238 - accuracy: 0.9795 - val_loss: 0.5571 - val_accuracy: 0.7106 - lr: 0.0010 - 10s/epoch - 265ms/step
Epoch 42/75
36/36 - 10s - loss: 0.0248 - accuracy: 0.9793 - val_loss: 0.5682 - val_accuracy: 0.7079 - lr: 0.0010 - 10s/epoch - 275ms/step
Epoch 43/75
36/36 - 10s - loss: 0.0269 - accuracy: 0.9768 - val_loss: 0.5715 - val_accuracy: 0.7035 - lr: 0.0010 - 10s/epoch - 288ms/step
Epoch 44/75
36/36 - 10s - loss: 0.0260 - accuracy: 0.9773 - val_loss: 0.5610 - val_accuracy: 0.7082 - lr: 0.0010 - 10s/epoch - 289ms/step
Epoch 45/75
36/36 - 10s - loss: 0.0258 - accuracy: 0.9777 - val_loss: 0.5565 - val_accuracy: 0.7063 - lr: 0.0010 - 10s/epoch - 288ms/step
Epoch 46/75
36/36 - 10s - loss: 0.0245 - accuracy: 0.9791 - val_loss: 0.5574 - val_accuracy: 0.7085 - lr: 0.0010 - 10s/epoch - 289ms/step
Epoch 47/75
36/36 - 10s - loss: 0.0238 - accuracy: 0.9798 - val_loss: 0.5553 - val_accuracy: 0.7130 - lr: 0.0010 - 10s/epoch - 289ms/step
Epoch 48/75
36/36 - 10s - loss: 0.0245 - accuracy: 0.9794 - val_loss: 0.5576 - val_accuracy: 0.7082 - lr: 0.0010 - 10s/epoch - 281ms/step
Epoch 49/75
36/36 - 10s - loss: 0.0238 - accuracy: 0.9795 - val_loss: 0.5507 - val_accuracy: 0.7158 - lr: 0.0010 - 10s/epoch - 290ms/step
Epoch 50/75
36/36 - 10s - loss: 0.0256 - accuracy: 0.9780 - val_loss: 0.5674 - val_accuracy: 0.7057 - lr: 0.0010 - 10s/epoch - 289ms/step
Epoch 51/75
36/36 - 10s - loss: 0.0244 - accuracy: 0.9794 - val_loss: 0.5685 - val_accuracy: 0.7058 - lr: 0.0010 - 10s/epoch - 289ms/step
Epoch 52/75
36/36 - 10s - loss: 0.0250 - accuracy: 0.9782 - val_loss: 0.5591 - val_accuracy: 0.7126 - lr: 0.0010 - 10s/epoch - 284ms/step
Epoch 53/75
36/36 - 10s - loss: 0.0237 - accuracy: 0.9799 - val_loss: 0.5602 - val_accuracy: 0.7127 - lr: 0.0010 - 10s/epoch - 289ms/step
Epoch 54/75
36/36 - 10s - loss: 0.0239 - accuracy: 0.9792 - val_loss: 0.5681 - val_accuracy: 0.7056 - lr: 0.0010 - 10s/epoch - 288ms/step
Epoch 55/75
36/36 - 10s - loss: 0.0244 - accuracy: 0.9795 - val_loss: 0.5585 - val_accuracy: 0.7144 - lr: 0.0010 - 10s/epoch - 285ms/step
Epoch 56/75
36/36 - 10s - loss: 0.0238 - accuracy: 0.9795 - val_loss: 0.5710 - val_accuracy: 0.7088 - lr: 0.0010 - 10s/epoch - 287ms/step
Epoch 57/75
36/36 - 10s - loss: 0.0237 - accuracy: 0.9795 - val_loss: 0.5780 - val_accuracy: 0.7037 - lr: 0.0010 - 10s/epoch - 287ms/step
Epoch 58/75
36/36 - 10s - loss: 0.0229 - accuracy: 0.9803 - val_loss: 0.5708 - val_accuracy: 0.7078 - lr: 0.0010 - 10s/epoch - 275ms/step
Epoch 59/75
36/36 - 10s - loss: 0.0241 - accuracy: 0.9791 - val_loss: 0.5630 - val_accuracy: 0.7092 - lr: 0.0010 - 10s/epoch - 265ms/step
Epoch 60/75
36/36 - 10s - loss: 0.0246 - accuracy: 0.9786 - val_loss: 0.5663 - val_accuracy: 0.7119 - lr: 0.0010 - 10s/epoch - 266ms/step
Epoch 61/75
36/36 - 10s - loss: 0.0240 - accuracy: 0.9790 - val_loss: 0.5702 - val_accuracy: 0.7104 - lr: 0.0010 - 10s/epoch - 266ms/step
Epoch 62/75
36/36 - 10s - loss: 0.0248 - accuracy: 0.9791 - val_loss: 0.5551 - val_accuracy: 0.7132 - lr: 0.0010 - 10s/epoch - 266ms/step
Epoch 63/75
36/36 - 10s - loss: 0.0248 - accuracy: 0.9788 - val_loss: 0.5701 - val_accuracy: 0.7067 - lr: 0.0010 - 10s/epoch - 266ms/step
Epoch 64/75
36/36 - 10s - loss: 0.0254 - accuracy: 0.9780 - val_loss: 0.5654 - val_accuracy: 0.7090 - lr: 0.0010 - 10s/epoch - 265ms/step
Epoch 65/75
36/36 - 10s - loss: 0.0246 - accuracy: 0.9787 - val_loss: 0.5739 - val_accuracy: 0.7048 - lr: 0.0010 - 10s/epoch - 277ms/step
Epoch 66/75
36/36 - 10s - loss: 0.0254 - accuracy: 0.9775 - val_loss: 0.5557 - val_accuracy: 0.7124 - lr: 0.0010 - 10s/epoch - 272ms/step
Epoch 67/75
36/36 - 10s - loss: 0.0231 - accuracy: 0.9801 - val_loss: 0.5464 - val_accuracy: 0.7198 - lr: 0.0010 - 10s/epoch - 279ms/step
Epoch 68/75
36/36 - 10s - loss: 0.0240 - accuracy: 0.9794 - val_loss: 0.5597 - val_accuracy: 0.7113 - lr: 0.0010 - 10s/epoch - 289ms/step
Epoch 69/75
36/36 - 10s - loss: 0.0240 - accuracy: 0.9789 - val_loss: 0.5634 - val_accuracy: 0.7119 - lr: 0.0010 - 10s/epoch - 286ms/step
Epoch 70/75
36/36 - 10s - loss: 0.0238 - accuracy: 0.9794 - val_loss: 0.5627 - val_accuracy: 0.7100 - lr: 0.0010 - 10s/epoch - 290ms/step
Epoch 71/75
36/36 - 10s - loss: 0.0252 - accuracy: 0.9784 - val_loss: 0.5567 - val_accuracy: 0.7114 - lr: 0.0010 - 10s/epoch - 275ms/step
Epoch 72/75
36/36 - 10s - loss: 0.0293 - accuracy: 0.9746 - val_loss: 0.5614 - val_accuracy: 0.7056 - lr: 0.0010 - 10s/epoch - 265ms/step
Epoch 73/75
36/36 - 10s - loss: 0.0250 - accuracy: 0.9780 - val_loss: 0.5638 - val_accuracy: 0.7116 - lr: 0.0010 - 10s/epoch - 265ms/step
Epoch 74/75
36/36 - 10s - loss: 0.0232 - accuracy: 0.9800 - val_loss: 0.5654 - val_accuracy: 0.7106 - lr: 0.0010 - 10s/epoch - 266ms/step
Epoch 75/75
36/36 - 10s - loss: 0.0233 - accuracy: 0.9803 - val_loss: 0.5696 - val_accuracy: 0.7093 - lr: 0.0010 - 10s/epoch - 265ms/step
Epoch number: 100
fitting with batch size: 1500
Epoch 1/100
59/59 - 12s - loss: 0.0234 - accuracy: 0.9799 - val_loss: 0.5628 - val_accuracy: 0.7110 - lr: 0.0010 - 12s/epoch - 207ms/step
Epoch 2/100
59/59 - 10s - loss: 0.0239 - accuracy: 0.9790 - val_loss: 0.5668 - val_accuracy: 0.7118 - lr: 0.0010 - 10s/epoch - 165ms/step
Epoch 3/100
59/59 - 10s - loss: 0.0243 - accuracy: 0.9800 - val_loss: 0.5649 - val_accuracy: 0.7125 - lr: 0.0010 - 10s/epoch - 165ms/step
Epoch 4/100
59/59 - 10s - loss: 0.0240 - accuracy: 0.9792 - val_loss: 0.5635 - val_accuracy: 0.7164 - lr: 0.0010 - 10s/epoch - 166ms/step
Epoch 5/100
59/59 - 10s - loss: 0.0252 - accuracy: 0.9783 - val_loss: 0.5613 - val_accuracy: 0.7104 - lr: 0.0010 - 10s/epoch - 165ms/step
Epoch 6/100
59/59 - 10s - loss: 0.0242 - accuracy: 0.9790 - val_loss: 0.5802 - val_accuracy: 0.7046 - lr: 0.0010 - 10s/epoch - 163ms/step
Epoch 7/100
59/59 - 10s - loss: 0.0245 - accuracy: 0.9791 - val_loss: 0.5745 - val_accuracy: 0.7095 - lr: 0.0010 - 10s/epoch - 172ms/step
Epoch 8/100
59/59 - 11s - loss: 0.0257 - accuracy: 0.9778 - val_loss: 0.5751 - val_accuracy: 0.7061 - lr: 0.0010 - 11s/epoch - 180ms/step
Epoch 9/100
59/59 - 11s - loss: 0.0252 - accuracy: 0.9784 - val_loss: 0.5798 - val_accuracy: 0.7048 - lr: 0.0010 - 11s/epoch - 178ms/step
Epoch 10/100
59/59 - 10s - loss: 0.0247 - accuracy: 0.9785 - val_loss: 0.5700 - val_accuracy: 0.7123 - lr: 0.0010 - 10s/epoch - 169ms/step
Epoch 11/100
59/59 - 10s - loss: 0.0256 - accuracy: 0.9779 - val_loss: 0.5884 - val_accuracy: 0.7005 - lr: 0.0010 - 10s/epoch - 175ms/step
Epoch 12/100
59/59 - 10s - loss: 0.0264 - accuracy: 0.9769 - val_loss: 0.5670 - val_accuracy: 0.7089 - lr: 0.0010 - 10s/epoch - 175ms/step
Epoch 13/100
59/59 - 10s - loss: 0.0256 - accuracy: 0.9779 - val_loss: 0.5681 - val_accuracy: 0.7053 - lr: 0.0010 - 10s/epoch - 167ms/step
Epoch 14/100
59/59 - 10s - loss: 0.0280 - accuracy: 0.9759 - val_loss: 0.5792 - val_accuracy: 0.7023 - lr: 0.0010 - 10s/epoch - 165ms/step
Epoch 15/100
59/59 - 10s - loss: 0.0274 - accuracy: 0.9764 - val_loss: 0.5719 - val_accuracy: 0.7065 - lr: 0.0010 - 10s/epoch - 163ms/step
Epoch 16/100
59/59 - 10s - loss: 0.0283 - accuracy: 0.9755 - val_loss: 0.5464 - val_accuracy: 0.7110 - lr: 0.0010 - 10s/epoch - 168ms/step
Epoch 17/100
59/59 - 11s - loss: 0.0276 - accuracy: 0.9755 - val_loss: 0.5720 - val_accuracy: 0.7030 - lr: 0.0010 - 11s/epoch - 180ms/step
Epoch 18/100
59/59 - 11s - loss: 0.0282 - accuracy: 0.9754 - val_loss: 0.5591 - val_accuracy: 0.7098 - lr: 0.0010 - 11s/epoch - 180ms/step
Epoch 19/100
59/59 - 11s - loss: 0.0284 - accuracy: 0.9752 - val_loss: 0.5587 - val_accuracy: 0.7062 - lr: 0.0010 - 11s/epoch - 181ms/step
Epoch 20/100
59/59 - 11s - loss: 0.0285 - accuracy: 0.9750 - val_loss: 0.5483 - val_accuracy: 0.7112 - lr: 0.0010 - 11s/epoch - 179ms/step
Epoch 21/100
59/59 - 10s - loss: 0.0290 - accuracy: 0.9743 - val_loss: 0.5572 - val_accuracy: 0.7120 - lr: 0.0010 - 10s/epoch - 170ms/step
Epoch 22/100
59/59 - 11s - loss: 0.0302 - accuracy: 0.9741 - val_loss: 0.5506 - val_accuracy: 0.7126 - lr: 0.0010 - 11s/epoch - 180ms/step
Epoch 23/100
59/59 - 11s - loss: 0.0318 - accuracy: 0.9720 - val_loss: 0.5348 - val_accuracy: 0.7111 - lr: 0.0010 - 11s/epoch - 182ms/step
Epoch 24/100
59/59 - 11s - loss: 0.0307 - accuracy: 0.9736 - val_loss: 0.5495 - val_accuracy: 0.7106 - lr: 0.0010 - 11s/epoch - 181ms/step
Epoch 25/100
59/59 - 11s - loss: 0.0305 - accuracy: 0.9732 - val_loss: 0.5551 - val_accuracy: 0.7070 - lr: 0.0010 - 11s/epoch - 181ms/step
Epoch 26/100
59/59 - 11s - loss: 0.0300 - accuracy: 0.9742 - val_loss: 0.5283 - val_accuracy: 0.7171 - lr: 0.0010 - 11s/epoch - 181ms/step
Epoch 27/100
59/59 - 11s - loss: 0.0292 - accuracy: 0.9747 - val_loss: 0.5503 - val_accuracy: 0.7123 - lr: 0.0010 - 11s/epoch - 180ms/step
Epoch 28/100
59/59 - 10s - loss: 0.0307 - accuracy: 0.9729 - val_loss: 0.5389 - val_accuracy: 0.7088 - lr: 0.0010 - 10s/epoch - 172ms/step
Epoch 29/100
59/59 - 11s - loss: 0.0298 - accuracy: 0.9736 - val_loss: 0.5433 - val_accuracy: 0.7095 - lr: 0.0010 - 11s/epoch - 180ms/step
Epoch 30/100
59/59 - 10s - loss: 0.0325 - accuracy: 0.9714 - val_loss: 0.5178 - val_accuracy: 0.7113 - lr: 0.0010 - 10s/epoch - 177ms/step
Epoch 31/100
59/59 - 10s - loss: 0.0303 - accuracy: 0.9731 - val_loss: 0.5402 - val_accuracy: 0.7056 - lr: 0.0010 - 10s/epoch - 167ms/step
Epoch 32/100
59/59 - 10s - loss: 0.0315 - accuracy: 0.9723 - val_loss: 0.5162 - val_accuracy: 0.7141 - lr: 0.0010 - 10s/epoch - 169ms/step
Epoch 33/100
59/59 - 10s - loss: 0.0310 - accuracy: 0.9724 - val_loss: 0.5345 - val_accuracy: 0.7070 - lr: 0.0010 - 10s/epoch - 168ms/step
Epoch 34/100
59/59 - 10s - loss: 0.0316 - accuracy: 0.9718 - val_loss: 0.5292 - val_accuracy: 0.7000 - lr: 0.0010 - 10s/epoch - 164ms/step
Epoch 35/100
59/59 - 10s - loss: 0.0318 - accuracy: 0.9716 - val_loss: 0.5152 - val_accuracy: 0.7151 - lr: 0.0010 - 10s/epoch - 173ms/step
Epoch 36/100
59/59 - 11s - loss: 0.0326 - accuracy: 0.9711 - val_loss: 0.5493 - val_accuracy: 0.6949 - lr: 0.0010 - 11s/epoch - 181ms/step
Epoch 37/100
59/59 - 11s - loss: 0.0338 - accuracy: 0.9706 - val_loss: 0.5343 - val_accuracy: 0.7050 - lr: 0.0010 - 11s/epoch - 183ms/step
Epoch 38/100
59/59 - 11s - loss: 0.0329 - accuracy: 0.9710 - val_loss: 0.5412 - val_accuracy: 0.7049 - lr: 0.0010 - 11s/epoch - 179ms/step
Epoch 39/100
59/59 - 11s - loss: 0.0322 - accuracy: 0.9712 - val_loss: 0.5162 - val_accuracy: 0.7127 - lr: 0.0010 - 11s/epoch - 181ms/step
Epoch 40/100
59/59 - 11s - loss: 0.0322 - accuracy: 0.9714 - val_loss: 0.5213 - val_accuracy: 0.7128 - lr: 0.0010 - 11s/epoch - 180ms/step
Epoch 41/100
59/59 - 11s - loss: 0.0320 - accuracy: 0.9714 - val_loss: 0.5253 - val_accuracy: 0.7147 - lr: 0.0010 - 11s/epoch - 180ms/step
Epoch 42/100
59/59 - 11s - loss: 0.0315 - accuracy: 0.9717 - val_loss: 0.5257 - val_accuracy: 0.7143 - lr: 0.0010 - 11s/epoch - 180ms/step
Epoch 43/100
59/59 - 11s - loss: 0.0317 - accuracy: 0.9720 - val_loss: 0.5143 - val_accuracy: 0.7174 - lr: 0.0010 - 11s/epoch - 181ms/step
Epoch 44/100
59/59 - 11s - loss: 0.0319 - accuracy: 0.9716 - val_loss: 0.5280 - val_accuracy: 0.7093 - lr: 0.0010 - 11s/epoch - 180ms/step
Epoch 45/100
59/59 - 11s - loss: 0.0326 - accuracy: 0.9713 - val_loss: 0.5305 - val_accuracy: 0.7025 - lr: 0.0010 - 11s/epoch - 181ms/step
Epoch 46/100
59/59 - 11s - loss: 0.0325 - accuracy: 0.9706 - val_loss: 0.5128 - val_accuracy: 0.7134 - lr: 0.0010 - 11s/epoch - 179ms/step
Epoch 47/100
59/59 - 11s - loss: 0.0326 - accuracy: 0.9717 - val_loss: 0.5224 - val_accuracy: 0.7046 - lr: 0.0010 - 11s/epoch - 179ms/step
Epoch 48/100
59/59 - 11s - loss: 0.0335 - accuracy: 0.9708 - val_loss: 0.5189 - val_accuracy: 0.7072 - lr: 0.0010 - 11s/epoch - 180ms/step
Epoch 49/100
59/59 - 11s - loss: 0.0317 - accuracy: 0.9719 - val_loss: 0.5150 - val_accuracy: 0.7131 - lr: 0.0010 - 11s/epoch - 182ms/step
Epoch 50/100
59/59 - 10s - loss: 0.0321 - accuracy: 0.9717 - val_loss: 0.5365 - val_accuracy: 0.6962 - lr: 0.0010 - 10s/epoch - 165ms/step
Epoch 51/100
59/59 - 10s - loss: 0.0337 - accuracy: 0.9704 - val_loss: 0.5245 - val_accuracy: 0.7022 - lr: 0.0010 - 10s/epoch - 165ms/step
Epoch 52/100
59/59 - 10s - loss: 0.0316 - accuracy: 0.9718 - val_loss: 0.5306 - val_accuracy: 0.7053 - lr: 0.0010 - 10s/epoch - 175ms/step
Epoch 53/100
59/59 - 11s - loss: 0.0316 - accuracy: 0.9719 - val_loss: 0.4917 - val_accuracy: 0.7144 - lr: 0.0010 - 11s/epoch - 181ms/step
Epoch 54/100
59/59 - 11s - loss: 0.0322 - accuracy: 0.9712 - val_loss: 0.5094 - val_accuracy: 0.7138 - lr: 0.0010 - 11s/epoch - 180ms/step
Epoch 55/100
59/59 - 11s - loss: 0.0324 - accuracy: 0.9715 - val_loss: 0.5084 - val_accuracy: 0.7111 - lr: 0.0010 - 11s/epoch - 181ms/step
Epoch 56/100
59/59 - 11s - loss: 0.0316 - accuracy: 0.9724 - val_loss: 0.5105 - val_accuracy: 0.7091 - lr: 0.0010 - 11s/epoch - 181ms/step
Epoch 57/100
59/59 - 11s - loss: 0.0317 - accuracy: 0.9718 - val_loss: 0.5251 - val_accuracy: 0.7108 - lr: 0.0010 - 11s/epoch - 181ms/step
Epoch 58/100
59/59 - 10s - loss: 0.0323 - accuracy: 0.9707 - val_loss: 0.5178 - val_accuracy: 0.7143 - lr: 0.0010 - 10s/epoch - 173ms/step
Epoch 59/100
59/59 - 10s - loss: 0.0321 - accuracy: 0.9712 - val_loss: 0.5256 - val_accuracy: 0.7060 - lr: 0.0010 - 10s/epoch - 167ms/step
Epoch 60/100
59/59 - 10s - loss: 0.0330 - accuracy: 0.9704 - val_loss: 0.5160 - val_accuracy: 0.7086 - lr: 0.0010 - 10s/epoch - 167ms/step
Epoch 61/100
59/59 - 10s - loss: 0.0337 - accuracy: 0.9692 - val_loss: 0.5085 - val_accuracy: 0.7142 - lr: 0.0010 - 10s/epoch - 166ms/step
Epoch 62/100
59/59 - 10s - loss: 0.0339 - accuracy: 0.9698 - val_loss: 0.4966 - val_accuracy: 0.7135 - lr: 0.0010 - 10s/epoch - 169ms/step
Epoch 63/100
59/59 - 10s - loss: 0.0322 - accuracy: 0.9713 - val_loss: 0.5119 - val_accuracy: 0.7015 - lr: 0.0010 - 10s/epoch - 169ms/step
Epoch 64/100
59/59 - 10s - loss: 0.0307 - accuracy: 0.9727 - val_loss: 0.4790 - val_accuracy: 0.7248 - lr: 0.0010 - 10s/epoch - 165ms/step
Epoch 65/100
59/59 - 10s - loss: 0.0315 - accuracy: 0.9720 - val_loss: 0.5170 - val_accuracy: 0.7096 - lr: 0.0010 - 10s/epoch - 165ms/step
Epoch 66/100
59/59 - 11s - loss: 0.0326 - accuracy: 0.9708 - val_loss: 0.5089 - val_accuracy: 0.7135 - lr: 0.0010 - 11s/epoch - 181ms/step
Epoch 67/100
59/59 - 11s - loss: 0.0337 - accuracy: 0.9699 - val_loss: 0.5090 - val_accuracy: 0.7111 - lr: 0.0010 - 11s/epoch - 183ms/step
Epoch 68/100
59/59 - 11s - loss: 0.0328 - accuracy: 0.9708 - val_loss: 0.5180 - val_accuracy: 0.7073 - lr: 0.0010 - 11s/epoch - 181ms/step
Epoch 69/100
59/59 - 10s - loss: 0.0320 - accuracy: 0.9713 - val_loss: 0.5351 - val_accuracy: 0.7056 - lr: 0.0010 - 10s/epoch - 173ms/step
Epoch 70/100
59/59 - 10s - loss: 0.0337 - accuracy: 0.9699 - val_loss: 0.5177 - val_accuracy: 0.7092 - lr: 0.0010 - 10s/epoch - 164ms/step
Epoch 71/100
59/59 - 10s - loss: 0.0335 - accuracy: 0.9704 - val_loss: 0.5112 - val_accuracy: 0.7026 - lr: 0.0010 - 10s/epoch - 165ms/step
Epoch 72/100
59/59 - 10s - loss: 0.0320 - accuracy: 0.9714 - val_loss: 0.5131 - val_accuracy: 0.7036 - lr: 0.0010 - 10s/epoch - 163ms/step
Epoch 73/100
59/59 - 10s - loss: 0.0328 - accuracy: 0.9710 - val_loss: 0.5233 - val_accuracy: 0.7081 - lr: 0.0010 - 10s/epoch - 163ms/step
Epoch 74/100
59/59 - 10s - loss: 0.0319 - accuracy: 0.9714 - val_loss: 0.5221 - val_accuracy: 0.7040 - lr: 0.0010 - 10s/epoch - 172ms/step
Epoch 75/100
59/59 - 11s - loss: 0.0322 - accuracy: 0.9713 - val_loss: 0.5046 - val_accuracy: 0.7133 - lr: 0.0010 - 11s/epoch - 179ms/step
Epoch 76/100
59/59 - 10s - loss: 0.0330 - accuracy: 0.9703 - val_loss: 0.5146 - val_accuracy: 0.7081 - lr: 0.0010 - 10s/epoch - 178ms/step
Epoch 77/100
59/59 - 10s - loss: 0.0328 - accuracy: 0.9705 - val_loss: 0.5324 - val_accuracy: 0.6994 - lr: 0.0010 - 10s/epoch - 172ms/step
Epoch 78/100
59/59 - 10s - loss: 0.0317 - accuracy: 0.9722 - val_loss: 0.5053 - val_accuracy: 0.7151 - lr: 0.0010 - 10s/epoch - 175ms/step
Epoch 79/100
59/59 - 11s - loss: 0.0323 - accuracy: 0.9714 - val_loss: 0.5042 - val_accuracy: 0.7136 - lr: 0.0010 - 11s/epoch - 182ms/step
Epoch 80/100
59/59 - 11s - loss: 0.0318 - accuracy: 0.9719 - val_loss: 0.5110 - val_accuracy: 0.7087 - lr: 0.0010 - 11s/epoch - 179ms/step
Epoch 81/100
59/59 - 10s - loss: 0.0333 - accuracy: 0.9703 - val_loss: 0.5099 - val_accuracy: 0.7028 - lr: 0.0010 - 10s/epoch - 175ms/step
Epoch 82/100
59/59 - 11s - loss: 0.0331 - accuracy: 0.9702 - val_loss: 0.5176 - val_accuracy: 0.7051 - lr: 0.0010 - 11s/epoch - 181ms/step
Epoch 83/100
59/59 - 11s - loss: 0.0313 - accuracy: 0.9723 - val_loss: 0.4996 - val_accuracy: 0.7114 - lr: 0.0010 - 11s/epoch - 182ms/step
Epoch 84/100
59/59 - 10s - loss: 0.0318 - accuracy: 0.9717 - val_loss: 0.5014 - val_accuracy: 0.7070 - lr: 0.0010 - 10s/epoch - 175ms/step
Epoch 85/100
59/59 - 11s - loss: 0.0322 - accuracy: 0.9716 - val_loss: 0.5305 - val_accuracy: 0.7001 - lr: 0.0010 - 11s/epoch - 181ms/step
Epoch 86/100
59/59 - 10s - loss: 0.0332 - accuracy: 0.9711 - val_loss: 0.5175 - val_accuracy: 0.7060 - lr: 0.0010 - 10s/epoch - 168ms/step
Epoch 87/100
59/59 - 10s - loss: 0.0337 - accuracy: 0.9695 - val_loss: 0.5237 - val_accuracy: 0.7027 - lr: 0.0010 - 10s/epoch - 164ms/step
Epoch 88/100
59/59 - 10s - loss: 0.0323 - accuracy: 0.9709 - val_loss: 0.5116 - val_accuracy: 0.7056 - lr: 0.0010 - 10s/epoch - 175ms/step
Epoch 89/100
59/59 - 11s - loss: 0.0330 - accuracy: 0.9709 - val_loss: 0.4913 - val_accuracy: 0.7115 - lr: 0.0010 - 11s/epoch - 182ms/step
Epoch 90/100
59/59 - 11s - loss: 0.0321 - accuracy: 0.9717 - val_loss: 0.5099 - val_accuracy: 0.7121 - lr: 0.0010 - 11s/epoch - 182ms/step
Epoch 91/100
59/59 - 11s - loss: 0.0324 - accuracy: 0.9711 - val_loss: 0.4990 - val_accuracy: 0.7204 - lr: 0.0010 - 11s/epoch - 181ms/step
Epoch 92/100
59/59 - 11s - loss: 0.0325 - accuracy: 0.9714 - val_loss: 0.5243 - val_accuracy: 0.7032 - lr: 0.0010 - 11s/epoch - 181ms/step
Epoch 93/100
59/59 - 11s - loss: 0.0318 - accuracy: 0.9717 - val_loss: 0.5236 - val_accuracy: 0.7063 - lr: 0.0010 - 11s/epoch - 182ms/step
Epoch 94/100
59/59 - 11s - loss: 0.0322 - accuracy: 0.9713 - val_loss: 0.5024 - val_accuracy: 0.7146 - lr: 0.0010 - 11s/epoch - 182ms/step
Epoch 95/100
59/59 - 11s - loss: 0.0329 - accuracy: 0.9712 - val_loss: 0.5148 - val_accuracy: 0.7091 - lr: 0.0010 - 11s/epoch - 179ms/step
Epoch 96/100
59/59 - 11s - loss: 0.0316 - accuracy: 0.9722 - val_loss: 0.5109 - val_accuracy: 0.7142 - lr: 0.0010 - 11s/epoch - 182ms/step
Epoch 97/100
59/59 - 11s - loss: 0.0323 - accuracy: 0.9712 - val_loss: 0.5179 - val_accuracy: 0.7019 - lr: 0.0010 - 11s/epoch - 181ms/step
Epoch 98/100
59/59 - 11s - loss: 0.0326 - accuracy: 0.9710 - val_loss: 0.5408 - val_accuracy: 0.7006 - lr: 0.0010 - 11s/epoch - 180ms/step
Epoch 99/100
59/59 - 11s - loss: 0.0328 - accuracy: 0.9708 - val_loss: 0.5110 - val_accuracy: 0.7063 - lr: 0.0010 - 11s/epoch - 183ms/step
Epoch 100/100
59/59 - 11s - loss: 0.0330 - accuracy: 0.9702 - val_loss: 0.5270 - val_accuracy: 0.7045 - lr: 0.0010 - 11s/epoch - 182ms/step
fitting with batch size: 2500
Epoch 1/100
36/36 - 13s - loss: 0.0297 - accuracy: 0.9741 - val_loss: 0.5260 - val_accuracy: 0.7036 - lr: 0.0010 - 13s/epoch - 363ms/step
Epoch 2/100
36/36 - 10s - loss: 0.0282 - accuracy: 0.9756 - val_loss: 0.5114 - val_accuracy: 0.7121 - lr: 0.0010 - 10s/epoch - 282ms/step
Epoch 3/100
36/36 - 9s - loss: 0.0306 - accuracy: 0.9738 - val_loss: 0.5307 - val_accuracy: 0.7017 - lr: 0.0010 - 9s/epoch - 263ms/step
Epoch 4/100
36/36 - 10s - loss: 0.0271 - accuracy: 0.9766 - val_loss: 0.5312 - val_accuracy: 0.7017 - lr: 0.0010 - 10s/epoch - 283ms/step
Epoch 5/100
36/36 - 10s - loss: 0.0268 - accuracy: 0.9768 - val_loss: 0.5268 - val_accuracy: 0.7067 - lr: 0.0010 - 10s/epoch - 287ms/step
Epoch 6/100
36/36 - 10s - loss: 0.0258 - accuracy: 0.9777 - val_loss: 0.5389 - val_accuracy: 0.7008 - lr: 0.0010 - 10s/epoch - 288ms/step
Epoch 7/100
36/36 - 10s - loss: 0.0269 - accuracy: 0.9769 - val_loss: 0.5232 - val_accuracy: 0.7062 - lr: 0.0010 - 10s/epoch - 282ms/step
Epoch 8/100
36/36 - 10s - loss: 0.0265 - accuracy: 0.9771 - val_loss: 0.5267 - val_accuracy: 0.7088 - lr: 0.0010 - 10s/epoch - 287ms/step
Epoch 9/100
36/36 - 10s - loss: 0.0272 - accuracy: 0.9760 - val_loss: 0.5249 - val_accuracy: 0.7104 - lr: 0.0010 - 10s/epoch - 287ms/step
Epoch 10/100
36/36 - 10s - loss: 0.0254 - accuracy: 0.9779 - val_loss: 0.5327 - val_accuracy: 0.7052 - lr: 0.0010 - 10s/epoch - 289ms/step
Epoch 11/100
36/36 - 10s - loss: 0.0254 - accuracy: 0.9780 - val_loss: 0.5477 - val_accuracy: 0.7031 - lr: 0.0010 - 10s/epoch - 273ms/step
Epoch 12/100
36/36 - 10s - loss: 0.0259 - accuracy: 0.9776 - val_loss: 0.5373 - val_accuracy: 0.7073 - lr: 0.0010 - 10s/epoch - 281ms/step
Epoch 13/100
36/36 - 10s - loss: 0.0259 - accuracy: 0.9777 - val_loss: 0.5481 - val_accuracy: 0.7033 - lr: 0.0010 - 10s/epoch - 288ms/step
Epoch 14/100
36/36 - 11s - loss: 0.0258 - accuracy: 0.9769 - val_loss: 0.5374 - val_accuracy: 0.7044 - lr: 0.0010 - 11s/epoch - 293ms/step
Epoch 15/100
36/36 - 10s - loss: 0.0263 - accuracy: 0.9776 - val_loss: 0.5353 - val_accuracy: 0.7097 - lr: 0.0010 - 10s/epoch - 290ms/step
Epoch 16/100
36/36 - 10s - loss: 0.0257 - accuracy: 0.9778 - val_loss: 0.5464 - val_accuracy: 0.7045 - lr: 0.0010 - 10s/epoch - 287ms/step
Epoch 17/100
36/36 - 10s - loss: 0.0266 - accuracy: 0.9768 - val_loss: 0.5543 - val_accuracy: 0.7023 - lr: 0.0010 - 10s/epoch - 278ms/step
Epoch 18/100
36/36 - 10s - loss: 0.0267 - accuracy: 0.9768 - val_loss: 0.5486 - val_accuracy: 0.7084 - lr: 0.0010 - 10s/epoch - 289ms/step
Epoch 19/100
36/36 - 10s - loss: 0.0256 - accuracy: 0.9779 - val_loss: 0.5437 - val_accuracy: 0.7078 - lr: 0.0010 - 10s/epoch - 288ms/step
Epoch 20/100
36/36 - 10s - loss: 0.0266 - accuracy: 0.9764 - val_loss: 0.5311 - val_accuracy: 0.7136 - lr: 0.0010 - 10s/epoch - 290ms/step
Epoch 21/100
36/36 - 10s - loss: 0.0265 - accuracy: 0.9770 - val_loss: 0.5471 - val_accuracy: 0.7101 - lr: 0.0010 - 10s/epoch - 290ms/step
Epoch 22/100
36/36 - 10s - loss: 0.0265 - accuracy: 0.9773 - val_loss: 0.5425 - val_accuracy: 0.7083 - lr: 0.0010 - 10s/epoch - 287ms/step
Epoch 23/100
36/36 - 11s - loss: 0.0268 - accuracy: 0.9765 - val_loss: 0.5521 - val_accuracy: 0.7037 - lr: 0.0010 - 11s/epoch - 292ms/step
Epoch 24/100
36/36 - 10s - loss: 0.0256 - accuracy: 0.9777 - val_loss: 0.5453 - val_accuracy: 0.7077 - lr: 0.0010 - 10s/epoch - 291ms/step
Epoch 25/100
36/36 - 10s - loss: 0.0269 - accuracy: 0.9762 - val_loss: 0.5466 - val_accuracy: 0.7080 - lr: 0.0010 - 10s/epoch - 291ms/step
Epoch 26/100
36/36 - 10s - loss: 0.0284 - accuracy: 0.9750 - val_loss: 0.5407 - val_accuracy: 0.7127 - lr: 0.0010 - 10s/epoch - 270ms/step
Epoch 27/100
36/36 - 10s - loss: 0.0248 - accuracy: 0.9784 - val_loss: 0.5475 - val_accuracy: 0.7109 - lr: 0.0010 - 10s/epoch - 284ms/step
Epoch 28/100
36/36 - 10s - loss: 0.0250 - accuracy: 0.9785 - val_loss: 0.5495 - val_accuracy: 0.7107 - lr: 0.0010 - 10s/epoch - 288ms/step
Epoch 29/100
36/36 - 10s - loss: 0.0251 - accuracy: 0.9784 - val_loss: 0.5431 - val_accuracy: 0.7093 - lr: 0.0010 - 10s/epoch - 287ms/step
Epoch 30/100
36/36 - 10s - loss: 0.0243 - accuracy: 0.9797 - val_loss: 0.5533 - val_accuracy: 0.7103 - lr: 0.0010 - 10s/epoch - 286ms/step
Epoch 31/100
36/36 - 10s - loss: 0.0243 - accuracy: 0.9798 - val_loss: 0.5557 - val_accuracy: 0.7049 - lr: 0.0010 - 10s/epoch - 291ms/step
Epoch 32/100
36/36 - 10s - loss: 0.0235 - accuracy: 0.9802 - val_loss: 0.5468 - val_accuracy: 0.7130 - lr: 0.0010 - 10s/epoch - 266ms/step
Epoch 33/100
36/36 - 10s - loss: 0.0242 - accuracy: 0.9793 - val_loss: 0.5560 - val_accuracy: 0.7089 - lr: 0.0010 - 10s/epoch - 266ms/step
Epoch 34/100
36/36 - 10s - loss: 0.0243 - accuracy: 0.9793 - val_loss: 0.5494 - val_accuracy: 0.7129 - lr: 0.0010 - 10s/epoch - 276ms/step
Epoch 35/100
36/36 - 11s - loss: 0.0240 - accuracy: 0.9796 - val_loss: 0.5535 - val_accuracy: 0.7052 - lr: 0.0010 - 11s/epoch - 293ms/step
Epoch 36/100
36/36 - 10s - loss: 0.0247 - accuracy: 0.9791 - val_loss: 0.5434 - val_accuracy: 0.7202 - lr: 0.0010 - 10s/epoch - 265ms/step
Epoch 37/100
36/36 - 10s - loss: 0.0246 - accuracy: 0.9790 - val_loss: 0.5303 - val_accuracy: 0.7211 - lr: 0.0010 - 10s/epoch - 271ms/step
Epoch 38/100
36/36 - 10s - loss: 0.0245 - accuracy: 0.9785 - val_loss: 0.5557 - val_accuracy: 0.7082 - lr: 0.0010 - 10s/epoch - 283ms/step
Epoch 39/100
36/36 - 10s - loss: 0.0264 - accuracy: 0.9766 - val_loss: 0.5466 - val_accuracy: 0.7086 - lr: 0.0010 - 10s/epoch - 287ms/step
Epoch 40/100
36/36 - 10s - loss: 0.0252 - accuracy: 0.9781 - val_loss: 0.5490 - val_accuracy: 0.7095 - lr: 0.0010 - 10s/epoch - 272ms/step
Epoch 41/100
36/36 - 9s - loss: 0.0251 - accuracy: 0.9786 - val_loss: 0.5527 - val_accuracy: 0.7125 - lr: 0.0010 - 9s/epoch - 263ms/step
Epoch 42/100
36/36 - 9s - loss: 0.0243 - accuracy: 0.9791 - val_loss: 0.5538 - val_accuracy: 0.7135 - lr: 0.0010 - 9s/epoch - 238ms/step
Epoch 43/100
36/36 - 9s - loss: 0.0255 - accuracy: 0.9781 - val_loss: 0.5464 - val_accuracy: 0.7131 - lr: 0.0010 - 9s/epoch - 236ms/step
Epoch 44/100
36/36 - 9s - loss: 0.0249 - accuracy: 0.9791 - val_loss: 0.5395 - val_accuracy: 0.7191 - lr: 0.0010 - 9s/epoch - 236ms/step
Epoch 45/100
36/36 - 9s - loss: 0.0237 - accuracy: 0.9798 - val_loss: 0.5505 - val_accuracy: 0.7149 - lr: 0.0010 - 9s/epoch - 238ms/step
Epoch 46/100
36/36 - 9s - loss: 0.0243 - accuracy: 0.9793 - val_loss: 0.5424 - val_accuracy: 0.7156 - lr: 0.0010 - 9s/epoch - 238ms/step
Epoch 47/100
36/36 - 9s - loss: 0.0249 - accuracy: 0.9780 - val_loss: 0.5469 - val_accuracy: 0.7142 - lr: 0.0010 - 9s/epoch - 249ms/step
Epoch 48/100
36/36 - 11s - loss: 0.0242 - accuracy: 0.9795 - val_loss: 0.5482 - val_accuracy: 0.7142 - lr: 0.0010 - 11s/epoch - 304ms/step
Epoch 49/100
36/36 - 9s - loss: 0.0226 - accuracy: 0.9803 - val_loss: 0.5607 - val_accuracy: 0.7114 - lr: 0.0010 - 9s/epoch - 263ms/step
Epoch 50/100
36/36 - 9s - loss: 0.0231 - accuracy: 0.9799 - val_loss: 0.5554 - val_accuracy: 0.7130 - lr: 0.0010 - 9s/epoch - 238ms/step
Epoch 51/100
36/36 - 9s - loss: 0.0248 - accuracy: 0.9782 - val_loss: 0.5563 - val_accuracy: 0.7124 - lr: 0.0010 - 9s/epoch - 237ms/step
Epoch 52/100
36/36 - 9s - loss: 0.0238 - accuracy: 0.9791 - val_loss: 0.5520 - val_accuracy: 0.7160 - lr: 0.0010 - 9s/epoch - 238ms/step
Epoch 53/100
36/36 - 9s - loss: 0.0237 - accuracy: 0.9800 - val_loss: 0.5628 - val_accuracy: 0.7113 - lr: 0.0010 - 9s/epoch - 237ms/step
Epoch 54/100
36/36 - 9s - loss: 0.0243 - accuracy: 0.9792 - val_loss: 0.5583 - val_accuracy: 0.7092 - lr: 0.0010 - 9s/epoch - 255ms/step
Epoch 55/100
36/36 - 9s - loss: 0.0238 - accuracy: 0.9796 - val_loss: 0.5574 - val_accuracy: 0.7086 - lr: 0.0010 - 9s/epoch - 258ms/step
Epoch 56/100
36/36 - 10s - loss: 0.0227 - accuracy: 0.9806 - val_loss: 0.5691 - val_accuracy: 0.7083 - lr: 0.0010 - 10s/epoch - 270ms/step
Epoch 57/100
36/36 - 9s - loss: 0.0245 - accuracy: 0.9787 - val_loss: 0.5597 - val_accuracy: 0.7127 - lr: 0.0010 - 9s/epoch - 254ms/step
Epoch 58/100
36/36 - 10s - loss: 0.0233 - accuracy: 0.9796 - val_loss: 0.5567 - val_accuracy: 0.7147 - lr: 0.0010 - 10s/epoch - 279ms/step
Epoch 59/100
36/36 - 11s - loss: 0.0230 - accuracy: 0.9804 - val_loss: 0.5688 - val_accuracy: 0.7099 - lr: 0.0010 - 11s/epoch - 310ms/step
Epoch 60/100
36/36 - 12s - loss: 0.0232 - accuracy: 0.9798 - val_loss: 0.5665 - val_accuracy: 0.7096 - lr: 0.0010 - 12s/epoch - 347ms/step
Epoch 61/100
36/36 - 12s - loss: 0.0232 - accuracy: 0.9801 - val_loss: 0.5664 - val_accuracy: 0.7109 - lr: 0.0010 - 12s/epoch - 338ms/step
Epoch 62/100
36/36 - 12s - loss: 0.0229 - accuracy: 0.9803 - val_loss: 0.5613 - val_accuracy: 0.7132 - lr: 0.0010 - 12s/epoch - 347ms/step
Epoch 63/100
36/36 - 12s - loss: 0.0240 - accuracy: 0.9795 - val_loss: 0.5665 - val_accuracy: 0.7077 - lr: 0.0010 - 12s/epoch - 331ms/step
Epoch 64/100
36/36 - 12s - loss: 0.0246 - accuracy: 0.9787 - val_loss: 0.5577 - val_accuracy: 0.7161 - lr: 0.0010 - 12s/epoch - 338ms/step
Epoch 65/100
36/36 - 12s - loss: 0.0251 - accuracy: 0.9786 - val_loss: 0.5601 - val_accuracy: 0.7095 - lr: 0.0010 - 12s/epoch - 336ms/step
Epoch 66/100
36/36 - 12s - loss: 0.0235 - accuracy: 0.9795 - val_loss: 0.5637 - val_accuracy: 0.7074 - lr: 0.0010 - 12s/epoch - 339ms/step
Epoch 67/100
36/36 - 12s - loss: 0.0237 - accuracy: 0.9795 - val_loss: 0.5535 - val_accuracy: 0.7123 - lr: 0.0010 - 12s/epoch - 328ms/step
Epoch 68/100
36/36 - 12s - loss: 0.0227 - accuracy: 0.9801 - val_loss: 0.5686 - val_accuracy: 0.7059 - lr: 0.0010 - 12s/epoch - 331ms/step
Epoch 69/100
36/36 - 12s - loss: 0.0233 - accuracy: 0.9795 - val_loss: 0.5532 - val_accuracy: 0.7157 - lr: 0.0010 - 12s/epoch - 342ms/step
Epoch 70/100
36/36 - 13s - loss: 0.0235 - accuracy: 0.9800 - val_loss: 0.5591 - val_accuracy: 0.7085 - lr: 0.0010 - 13s/epoch - 349ms/step
Epoch 71/100
36/36 - 12s - loss: 0.0247 - accuracy: 0.9789 - val_loss: 0.5660 - val_accuracy: 0.7098 - lr: 0.0010 - 12s/epoch - 337ms/step
Epoch 72/100
36/36 - 13s - loss: 0.0233 - accuracy: 0.9800 - val_loss: 0.5603 - val_accuracy: 0.7126 - lr: 0.0010 - 13s/epoch - 348ms/step
Epoch 73/100
36/36 - 12s - loss: 0.0230 - accuracy: 0.9802 - val_loss: 0.5673 - val_accuracy: 0.7116 - lr: 0.0010 - 12s/epoch - 347ms/step
Epoch 74/100
36/36 - 13s - loss: 0.0254 - accuracy: 0.9778 - val_loss: 0.5645 - val_accuracy: 0.7091 - lr: 0.0010 - 13s/epoch - 353ms/step
Epoch 75/100
36/36 - 13s - loss: 0.0266 - accuracy: 0.9767 - val_loss: 0.5577 - val_accuracy: 0.7136 - lr: 0.0010 - 13s/epoch - 355ms/step
Epoch 76/100
36/36 - 13s - loss: 0.0264 - accuracy: 0.9764 - val_loss: 0.5564 - val_accuracy: 0.7120 - lr: 0.0010 - 13s/epoch - 361ms/step
Epoch 77/100
36/36 - 12s - loss: 0.0261 - accuracy: 0.9770 - val_loss: 0.5545 - val_accuracy: 0.7133 - lr: 0.0010 - 12s/epoch - 343ms/step
Epoch 78/100
36/36 - 13s - loss: 0.0243 - accuracy: 0.9790 - val_loss: 0.5610 - val_accuracy: 0.7116 - lr: 0.0010 - 13s/epoch - 349ms/step
Epoch 79/100
36/36 - 12s - loss: 0.0241 - accuracy: 0.9790 - val_loss: 0.5596 - val_accuracy: 0.7126 - lr: 0.0010 - 12s/epoch - 325ms/step
Epoch 80/100
36/36 - 12s - loss: 0.0241 - accuracy: 0.9790 - val_loss: 0.5589 - val_accuracy: 0.7156 - lr: 0.0010 - 12s/epoch - 337ms/step
Epoch 81/100
36/36 - 13s - loss: 0.0242 - accuracy: 0.9788 - val_loss: 0.5597 - val_accuracy: 0.7130 - lr: 0.0010 - 13s/epoch - 348ms/step
Epoch 82/100
36/36 - 13s - loss: 0.0223 - accuracy: 0.9810 - val_loss: 0.5844 - val_accuracy: 0.7015 - lr: 0.0010 - 13s/epoch - 360ms/step
Epoch 83/100
36/36 - 13s - loss: 0.0245 - accuracy: 0.9788 - val_loss: 0.5611 - val_accuracy: 0.7118 - lr: 0.0010 - 13s/epoch - 361ms/step
Epoch 84/100
36/36 - 13s - loss: 0.0236 - accuracy: 0.9801 - val_loss: 0.5665 - val_accuracy: 0.7119 - lr: 0.0010 - 13s/epoch - 361ms/step
Epoch 85/100
36/36 - 13s - loss: 0.0248 - accuracy: 0.9785 - val_loss: 0.5728 - val_accuracy: 0.7041 - lr: 0.0010 - 13s/epoch - 359ms/step
Epoch 86/100
36/36 - 13s - loss: 0.0233 - accuracy: 0.9797 - val_loss: 0.5679 - val_accuracy: 0.7077 - lr: 0.0010 - 13s/epoch - 353ms/step
Epoch 87/100
36/36 - 13s - loss: 0.0231 - accuracy: 0.9799 - val_loss: 0.5623 - val_accuracy: 0.7138 - lr: 0.0010 - 13s/epoch - 371ms/step
Epoch 88/100
36/36 - 13s - loss: 0.0240 - accuracy: 0.9797 - val_loss: 0.5643 - val_accuracy: 0.7103 - lr: 0.0010 - 13s/epoch - 354ms/step
Epoch 89/100
36/36 - 13s - loss: 0.0228 - accuracy: 0.9802 - val_loss: 0.5776 - val_accuracy: 0.7097 - lr: 0.0010 - 13s/epoch - 373ms/step
Epoch 90/100
36/36 - 13s - loss: 0.0236 - accuracy: 0.9795 - val_loss: 0.5745 - val_accuracy: 0.7122 - lr: 0.0010 - 13s/epoch - 358ms/step
Epoch 91/100
36/36 - 14s - loss: 0.0227 - accuracy: 0.9806 - val_loss: 0.5834 - val_accuracy: 0.7075 - lr: 0.0010 - 14s/epoch - 384ms/step
Epoch 92/100
36/36 - 13s - loss: 0.0228 - accuracy: 0.9805 - val_loss: 0.5641 - val_accuracy: 0.7164 - lr: 0.0010 - 13s/epoch - 360ms/step
Epoch 93/100
36/36 - 13s - loss: 0.0227 - accuracy: 0.9804 - val_loss: 0.5742 - val_accuracy: 0.7078 - lr: 0.0010 - 13s/epoch - 347ms/step
Epoch 94/100
36/36 - 13s - loss: 0.0224 - accuracy: 0.9811 - val_loss: 0.5908 - val_accuracy: 0.7013 - lr: 0.0010 - 13s/epoch - 354ms/step
Epoch 95/100
36/36 - 13s - loss: 0.0232 - accuracy: 0.9799 - val_loss: 0.5651 - val_accuracy: 0.7165 - lr: 0.0010 - 13s/epoch - 354ms/step
Epoch 96/100
36/36 - 12s - loss: 0.0251 - accuracy: 0.9782 - val_loss: 0.5709 - val_accuracy: 0.7147 - lr: 0.0010 - 12s/epoch - 329ms/step
Epoch 97/100
36/36 - 14s - loss: 0.0229 - accuracy: 0.9803 - val_loss: 0.5737 - val_accuracy: 0.7112 - lr: 0.0010 - 14s/epoch - 379ms/step
Epoch 98/100
36/36 - 13s - loss: 0.0232 - accuracy: 0.9800 - val_loss: 0.5843 - val_accuracy: 0.7087 - lr: 0.0010 - 13s/epoch - 362ms/step
Epoch 99/100
36/36 - 13s - loss: 0.0232 - accuracy: 0.9800 - val_loss: 0.5907 - val_accuracy: 0.7063 - lr: 0.0010 - 13s/epoch - 368ms/step
Epoch 100/100
36/36 - 13s - loss: 0.0234 - accuracy: 0.9797 - val_loss: 0.5886 - val_accuracy: 0.7054 - lr: 0.0010 - 13s/epoch - 371ms/step
