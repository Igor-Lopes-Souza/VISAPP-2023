Loss: categorical_crossentropy
Epoch number: 75
fitting with batch size: 20
Epoch 1/75
4378/4378 - 98s - loss: 1.5067 - accuracy: 0.3086 - val_loss: 1.6845 - val_accuracy: 0.0882 - lr: 0.0010 - 98s/epoch - 22ms/step
Epoch 2/75
4378/4378 - 83s - loss: 1.2901 - accuracy: 0.4566 - val_loss: 1.3774 - val_accuracy: 0.4120 - lr: 0.0010 - 83s/epoch - 19ms/step
Epoch 3/75
4378/4378 - 82s - loss: 1.1021 - accuracy: 0.5601 - val_loss: 1.2620 - val_accuracy: 0.4413 - lr: 0.0010 - 82s/epoch - 19ms/step
Epoch 4/75
4378/4378 - 75s - loss: 1.0274 - accuracy: 0.5971 - val_loss: 1.1100 - val_accuracy: 0.4703 - lr: 0.0010 - 75s/epoch - 17ms/step
Epoch 5/75
4378/4378 - 80s - loss: 0.9924 - accuracy: 0.6114 - val_loss: 0.9846 - val_accuracy: 0.5752 - lr: 0.0010 - 80s/epoch - 18ms/step
Epoch 6/75
4378/4378 - 68s - loss: 0.9673 - accuracy: 0.6234 - val_loss: 1.0418 - val_accuracy: 0.5498 - lr: 0.0010 - 68s/epoch - 16ms/step
Epoch 7/75
4378/4378 - 69s - loss: 0.9503 - accuracy: 0.6320 - val_loss: 0.9635 - val_accuracy: 0.5926 - lr: 0.0010 - 69s/epoch - 16ms/step
Epoch 8/75
4378/4378 - 68s - loss: 0.9375 - accuracy: 0.6390 - val_loss: 0.9517 - val_accuracy: 0.5886 - lr: 0.0010 - 68s/epoch - 16ms/step
Epoch 9/75
4378/4378 - 70s - loss: 0.9250 - accuracy: 0.6435 - val_loss: 0.9085 - val_accuracy: 0.6108 - lr: 0.0010 - 70s/epoch - 16ms/step
Epoch 10/75
4378/4378 - 68s - loss: 0.9155 - accuracy: 0.6491 - val_loss: 0.9187 - val_accuracy: 0.6059 - lr: 0.0010 - 68s/epoch - 15ms/step
Epoch 11/75
4378/4378 - 69s - loss: 0.9047 - accuracy: 0.6537 - val_loss: 0.9280 - val_accuracy: 0.6121 - lr: 0.0010 - 69s/epoch - 16ms/step
Epoch 12/75
4378/4378 - 72s - loss: 0.8970 - accuracy: 0.6571 - val_loss: 0.9729 - val_accuracy: 0.5781 - lr: 0.0010 - 72s/epoch - 16ms/step
Epoch 13/75
4378/4378 - 73s - loss: 0.8900 - accuracy: 0.6602 - val_loss: 0.9629 - val_accuracy: 0.5998 - lr: 0.0010 - 73s/epoch - 17ms/step
Epoch 14/75
4378/4378 - 70s - loss: 0.8848 - accuracy: 0.6614 - val_loss: 0.7940 - val_accuracy: 0.7148 - lr: 0.0010 - 70s/epoch - 16ms/step
Epoch 15/75
4378/4378 - 68s - loss: 0.8769 - accuracy: 0.6661 - val_loss: 0.8813 - val_accuracy: 0.6469 - lr: 0.0010 - 68s/epoch - 15ms/step
Epoch 16/75
4378/4378 - 67s - loss: 0.8702 - accuracy: 0.6673 - val_loss: 0.9503 - val_accuracy: 0.5964 - lr: 0.0010 - 67s/epoch - 15ms/step
Epoch 17/75
4378/4378 - 67s - loss: 0.8648 - accuracy: 0.6709 - val_loss: 0.8784 - val_accuracy: 0.6570 - lr: 0.0010 - 67s/epoch - 15ms/step
Epoch 18/75
4378/4378 - 67s - loss: 0.8602 - accuracy: 0.6725 - val_loss: 0.9103 - val_accuracy: 0.6586 - lr: 0.0010 - 67s/epoch - 15ms/step
Epoch 19/75
4378/4378 - 80s - loss: 0.8575 - accuracy: 0.6737 - val_loss: 0.9532 - val_accuracy: 0.6147 - lr: 0.0010 - 80s/epoch - 18ms/step
Epoch 20/75
4378/4378 - 199s - loss: 0.8525 - accuracy: 0.6765 - val_loss: 0.9364 - val_accuracy: 0.6453 - lr: 0.0010 - 199s/epoch - 45ms/step
Epoch 21/75
4378/4378 - 212s - loss: 0.8485 - accuracy: 0.6768 - val_loss: 0.9508 - val_accuracy: 0.6427 - lr: 0.0010 - 212s/epoch - 49ms/step
Epoch 22/75
4378/4378 - 308s - loss: 0.8438 - accuracy: 0.6792 - val_loss: 0.8776 - val_accuracy: 0.6637 - lr: 0.0010 - 308s/epoch - 70ms/step
Epoch 23/75
4378/4378 - 286s - loss: 0.8418 - accuracy: 0.6802 - val_loss: 0.9182 - val_accuracy: 0.6430 - lr: 0.0010 - 286s/epoch - 65ms/step
Epoch 24/75
4378/4378 - 207s - loss: 0.8363 - accuracy: 0.6832 - val_loss: 0.8107 - val_accuracy: 0.6788 - lr: 0.0010 - 207s/epoch - 47ms/step
Epoch 25/75
4378/4378 - 257s - loss: 0.8331 - accuracy: 0.6837 - val_loss: 0.9126 - val_accuracy: 0.6483 - lr: 0.0010 - 257s/epoch - 59ms/step
Epoch 26/75
4378/4378 - 213s - loss: 0.8320 - accuracy: 0.6856 - val_loss: 0.8990 - val_accuracy: 0.6519 - lr: 0.0010 - 213s/epoch - 49ms/step
Epoch 27/75
4378/4378 - 141s - loss: 0.8271 - accuracy: 0.6872 - val_loss: 0.8583 - val_accuracy: 0.6771 - lr: 0.0010 - 141s/epoch - 32ms/step
Epoch 28/75
4378/4378 - 87s - loss: 0.8247 - accuracy: 0.6885 - val_loss: 0.8515 - val_accuracy: 0.6795 - lr: 0.0010 - 87s/epoch - 20ms/step
Epoch 29/75
4378/4378 - 81s - loss: 0.8224 - accuracy: 0.6888 - val_loss: 0.8057 - val_accuracy: 0.6916 - lr: 0.0010 - 81s/epoch - 19ms/step
Epoch 30/75
4378/4378 - 82s - loss: 0.8192 - accuracy: 0.6903 - val_loss: 0.8995 - val_accuracy: 0.6603 - lr: 0.0010 - 82s/epoch - 19ms/step
Epoch 31/75
4378/4378 - 83s - loss: 0.8162 - accuracy: 0.6903 - val_loss: 0.8263 - val_accuracy: 0.7076 - lr: 0.0010 - 83s/epoch - 19ms/step
Epoch 32/75
4378/4378 - 82s - loss: 0.8135 - accuracy: 0.6924 - val_loss: 0.9092 - val_accuracy: 0.6565 - lr: 0.0010 - 82s/epoch - 19ms/step
Epoch 33/75
4378/4378 - 81s - loss: 0.8121 - accuracy: 0.6934 - val_loss: 0.8801 - val_accuracy: 0.6678 - lr: 0.0010 - 81s/epoch - 19ms/step
Epoch 34/75
4378/4378 - 81s - loss: 0.8106 - accuracy: 0.6929 - val_loss: 0.8623 - val_accuracy: 0.6638 - lr: 0.0010 - 81s/epoch - 19ms/step
Epoch 35/75
4378/4378 - 81s - loss: 0.8067 - accuracy: 0.6953 - val_loss: 0.9171 - val_accuracy: 0.6533 - lr: 0.0010 - 81s/epoch - 18ms/step
Epoch 36/75
4378/4378 - 80s - loss: 0.8054 - accuracy: 0.6959 - val_loss: 0.8454 - val_accuracy: 0.6747 - lr: 0.0010 - 80s/epoch - 18ms/step
Epoch 37/75
4378/4378 - 81s - loss: 0.8025 - accuracy: 0.6963 - val_loss: 0.8590 - val_accuracy: 0.6778 - lr: 0.0010 - 81s/epoch - 18ms/step
Epoch 38/75
4378/4378 - 80s - loss: 0.8016 - accuracy: 0.6954 - val_loss: 0.8560 - val_accuracy: 0.6778 - lr: 0.0010 - 80s/epoch - 18ms/step
Epoch 39/75
4378/4378 - 75s - loss: 0.7987 - accuracy: 0.6984 - val_loss: 0.8639 - val_accuracy: 0.6661 - lr: 0.0010 - 75s/epoch - 17ms/step
Epoch 40/75
4378/4378 - 78s - loss: 0.7996 - accuracy: 0.6973 - val_loss: 0.7950 - val_accuracy: 0.6935 - lr: 0.0010 - 78s/epoch - 18ms/step
Epoch 41/75
4378/4378 - 73s - loss: 0.7938 - accuracy: 0.6989 - val_loss: 0.7726 - val_accuracy: 0.7100 - lr: 0.0010 - 73s/epoch - 17ms/step
Epoch 42/75
4378/4378 - 73s - loss: 0.7928 - accuracy: 0.6999 - val_loss: 0.8466 - val_accuracy: 0.6760 - lr: 0.0010 - 73s/epoch - 17ms/step
Epoch 43/75
4378/4378 - 73s - loss: 0.7906 - accuracy: 0.7014 - val_loss: 0.8001 - val_accuracy: 0.7104 - lr: 0.0010 - 73s/epoch - 17ms/step
Epoch 44/75
4378/4378 - 75s - loss: 0.7884 - accuracy: 0.7028 - val_loss: 0.8377 - val_accuracy: 0.6824 - lr: 0.0010 - 75s/epoch - 17ms/step
Epoch 45/75
4378/4378 - 76s - loss: 0.7872 - accuracy: 0.7030 - val_loss: 0.7944 - val_accuracy: 0.7098 - lr: 0.0010 - 76s/epoch - 17ms/step
Epoch 46/75
4378/4378 - 82s - loss: 0.7852 - accuracy: 0.7037 - val_loss: 0.8267 - val_accuracy: 0.6980 - lr: 0.0010 - 82s/epoch - 19ms/step
Epoch 47/75
4378/4378 - 82s - loss: 0.7862 - accuracy: 0.7026 - val_loss: 0.7934 - val_accuracy: 0.7015 - lr: 0.0010 - 82s/epoch - 19ms/step
Epoch 48/75
4378/4378 - 82s - loss: 0.7852 - accuracy: 0.7027 - val_loss: 0.7865 - val_accuracy: 0.7034 - lr: 0.0010 - 82s/epoch - 19ms/step
Epoch 49/75
4378/4378 - 90s - loss: 0.7813 - accuracy: 0.7035 - val_loss: 0.7798 - val_accuracy: 0.7115 - lr: 0.0010 - 90s/epoch - 21ms/step
Epoch 50/75
4378/4378 - 75s - loss: 0.7819 - accuracy: 0.7041 - val_loss: 0.7698 - val_accuracy: 0.7187 - lr: 0.0010 - 75s/epoch - 17ms/step
Epoch 51/75
4378/4378 - 72s - loss: 0.7784 - accuracy: 0.7061 - val_loss: 0.8279 - val_accuracy: 0.7155 - lr: 0.0010 - 72s/epoch - 16ms/step
Epoch 52/75
4378/4378 - 76s - loss: 0.7799 - accuracy: 0.7056 - val_loss: 0.7973 - val_accuracy: 0.7107 - lr: 0.0010 - 76s/epoch - 17ms/step
Epoch 53/75
4378/4378 - 74s - loss: 0.7762 - accuracy: 0.7071 - val_loss: 0.8018 - val_accuracy: 0.7137 - lr: 0.0010 - 74s/epoch - 17ms/step
Epoch 54/75
4378/4378 - 74s - loss: 0.7725 - accuracy: 0.7082 - val_loss: 0.7685 - val_accuracy: 0.7184 - lr: 0.0010 - 74s/epoch - 17ms/step
Epoch 55/75
4378/4378 - 75s - loss: 0.7738 - accuracy: 0.7087 - val_loss: 0.8171 - val_accuracy: 0.7163 - lr: 0.0010 - 75s/epoch - 17ms/step
Epoch 56/75
4378/4378 - 75s - loss: 0.7709 - accuracy: 0.7095 - val_loss: 0.8068 - val_accuracy: 0.7074 - lr: 0.0010 - 75s/epoch - 17ms/step
Epoch 57/75
4378/4378 - 76s - loss: 0.7718 - accuracy: 0.7083 - val_loss: 0.7555 - val_accuracy: 0.7280 - lr: 0.0010 - 76s/epoch - 17ms/step
Epoch 58/75
4378/4378 - 76s - loss: 0.7692 - accuracy: 0.7104 - val_loss: 0.7748 - val_accuracy: 0.7038 - lr: 0.0010 - 76s/epoch - 17ms/step
Epoch 59/75
4378/4378 - 75s - loss: 0.7667 - accuracy: 0.7109 - val_loss: 0.7860 - val_accuracy: 0.7346 - lr: 0.0010 - 75s/epoch - 17ms/step
Epoch 60/75
4378/4378 - 78s - loss: 0.7662 - accuracy: 0.7114 - val_loss: 0.7122 - val_accuracy: 0.7524 - lr: 0.0010 - 78s/epoch - 18ms/step
Epoch 61/75
4378/4378 - 74s - loss: 0.7648 - accuracy: 0.7105 - val_loss: 0.7609 - val_accuracy: 0.7383 - lr: 0.0010 - 74s/epoch - 17ms/step
Epoch 62/75
4378/4378 - 71s - loss: 0.7628 - accuracy: 0.7124 - val_loss: 0.7293 - val_accuracy: 0.7508 - lr: 0.0010 - 71s/epoch - 16ms/step
Epoch 63/75
4378/4378 - 74s - loss: 0.7640 - accuracy: 0.7118 - val_loss: 0.7376 - val_accuracy: 0.7440 - lr: 0.0010 - 74s/epoch - 17ms/step
Epoch 64/75
4378/4378 - 78s - loss: 0.7623 - accuracy: 0.7122 - val_loss: 0.7556 - val_accuracy: 0.7391 - lr: 0.0010 - 78s/epoch - 18ms/step
Epoch 65/75
4378/4378 - 75s - loss: 0.7619 - accuracy: 0.7113 - val_loss: 0.7003 - val_accuracy: 0.7632 - lr: 0.0010 - 75s/epoch - 17ms/step
Epoch 66/75
4378/4378 - 76s - loss: 0.7580 - accuracy: 0.7130 - val_loss: 0.8186 - val_accuracy: 0.6991 - lr: 0.0010 - 76s/epoch - 17ms/step
Epoch 67/75
4378/4378 - 68s - loss: 0.7583 - accuracy: 0.7131 - val_loss: 0.7280 - val_accuracy: 0.7681 - lr: 0.0010 - 68s/epoch - 16ms/step
Epoch 68/75
4378/4378 - 70s - loss: 0.7567 - accuracy: 0.7136 - val_loss: 0.7010 - val_accuracy: 0.7685 - lr: 0.0010 - 70s/epoch - 16ms/step
Epoch 69/75
4378/4378 - 70s - loss: 0.7565 - accuracy: 0.7145 - val_loss: 0.7235 - val_accuracy: 0.7539 - lr: 0.0010 - 70s/epoch - 16ms/step
Epoch 70/75
4378/4378 - 71s - loss: 0.7566 - accuracy: 0.7144 - val_loss: 0.7623 - val_accuracy: 0.7477 - lr: 0.0010 - 71s/epoch - 16ms/step
Epoch 71/75
4378/4378 - 76s - loss: 0.7540 - accuracy: 0.7142 - val_loss: 0.8157 - val_accuracy: 0.6859 - lr: 0.0010 - 76s/epoch - 17ms/step
Epoch 72/75
4378/4378 - 68s - loss: 0.7525 - accuracy: 0.7158 - val_loss: 0.7850 - val_accuracy: 0.7276 - lr: 0.0010 - 68s/epoch - 16ms/step
Epoch 73/75
4378/4378 - 72s - loss: 0.7512 - accuracy: 0.7170 - val_loss: 0.7510 - val_accuracy: 0.7387 - lr: 0.0010 - 72s/epoch - 16ms/step
Epoch 74/75
4378/4378 - 71s - loss: 0.7514 - accuracy: 0.7172 - val_loss: 0.7843 - val_accuracy: 0.7282 - lr: 0.0010 - 71s/epoch - 16ms/step
Epoch 75/75
4378/4378 - 72s - loss: 0.7503 - accuracy: 0.7162 - val_loss: 0.6873 - val_accuracy: 0.7837 - lr: 0.0010 - 72s/epoch - 16ms/step
fitting with batch size: 100
Epoch 1/75
876/876 - 20s - loss: 0.7347 - accuracy: 0.7230 - val_loss: 0.6903 - val_accuracy: 0.7743 - lr: 0.0010 - 20s/epoch - 23ms/step
Epoch 2/75
876/876 - 17s - loss: 0.7322 - accuracy: 0.7244 - val_loss: 0.7320 - val_accuracy: 0.7479 - lr: 0.0010 - 17s/epoch - 19ms/step
Epoch 3/75
876/876 - 16s - loss: 0.7331 - accuracy: 0.7247 - val_loss: 0.7381 - val_accuracy: 0.7522 - lr: 0.0010 - 16s/epoch - 19ms/step
Epoch 4/75
876/876 - 16s - loss: 0.7316 - accuracy: 0.7244 - val_loss: 0.7643 - val_accuracy: 0.7343 - lr: 0.0010 - 16s/epoch - 19ms/step
Epoch 5/75
876/876 - 17s - loss: 0.7329 - accuracy: 0.7234 - val_loss: 0.7370 - val_accuracy: 0.7603 - lr: 0.0010 - 17s/epoch - 19ms/step
Epoch 6/75
876/876 - 16s - loss: 0.7324 - accuracy: 0.7249 - val_loss: 0.7381 - val_accuracy: 0.7465 - lr: 0.0010 - 16s/epoch - 19ms/step
Epoch 7/75
876/876 - 17s - loss: 0.7315 - accuracy: 0.7239 - val_loss: 0.7200 - val_accuracy: 0.7618 - lr: 0.0010 - 17s/epoch - 19ms/step
Epoch 8/75
876/876 - 17s - loss: 0.7320 - accuracy: 0.7247 - val_loss: 0.7323 - val_accuracy: 0.7499 - lr: 0.0010 - 17s/epoch - 19ms/step
Epoch 9/75
876/876 - 16s - loss: 0.7296 - accuracy: 0.7257 - val_loss: 0.7417 - val_accuracy: 0.7526 - lr: 0.0010 - 16s/epoch - 19ms/step
Epoch 10/75
876/876 - 17s - loss: 0.7308 - accuracy: 0.7253 - val_loss: 0.7254 - val_accuracy: 0.7633 - lr: 0.0010 - 17s/epoch - 19ms/step
Epoch 11/75
876/876 - 16s - loss: 0.7292 - accuracy: 0.7267 - val_loss: 0.7303 - val_accuracy: 0.7651 - lr: 0.0010 - 16s/epoch - 19ms/step
Epoch 12/75
876/876 - 17s - loss: 0.7283 - accuracy: 0.7261 - val_loss: 0.7113 - val_accuracy: 0.7737 - lr: 0.0010 - 17s/epoch - 19ms/step
Epoch 13/75
876/876 - 16s - loss: 0.7292 - accuracy: 0.7252 - val_loss: 0.7406 - val_accuracy: 0.7550 - lr: 0.0010 - 16s/epoch - 19ms/step
Epoch 14/75
876/876 - 16s - loss: 0.7291 - accuracy: 0.7253 - val_loss: 0.7409 - val_accuracy: 0.7545 - lr: 0.0010 - 16s/epoch - 19ms/step
Epoch 15/75
876/876 - 17s - loss: 0.7280 - accuracy: 0.7261 - val_loss: 0.7027 - val_accuracy: 0.7710 - lr: 0.0010 - 17s/epoch - 19ms/step
Epoch 16/75
876/876 - 16s - loss: 0.7283 - accuracy: 0.7256 - val_loss: 0.7422 - val_accuracy: 0.7452 - lr: 0.0010 - 16s/epoch - 19ms/step
Epoch 17/75
876/876 - 16s - loss: 0.7271 - accuracy: 0.7260 - val_loss: 0.7014 - val_accuracy: 0.7805 - lr: 0.0010 - 16s/epoch - 19ms/step
Epoch 18/75
876/876 - 17s - loss: 0.7268 - accuracy: 0.7256 - val_loss: 0.7291 - val_accuracy: 0.7574 - lr: 0.0010 - 17s/epoch - 19ms/step
Epoch 19/75
876/876 - 16s - loss: 0.7293 - accuracy: 0.7243 - val_loss: 0.7298 - val_accuracy: 0.7595 - lr: 0.0010 - 16s/epoch - 19ms/step
Epoch 20/75
876/876 - 16s - loss: 0.7251 - accuracy: 0.7263 - val_loss: 0.7267 - val_accuracy: 0.7640 - lr: 0.0010 - 16s/epoch - 19ms/step
Epoch 21/75
876/876 - 16s - loss: 0.7281 - accuracy: 0.7250 - val_loss: 0.7295 - val_accuracy: 0.7547 - lr: 0.0010 - 16s/epoch - 19ms/step
Epoch 22/75
876/876 - 16s - loss: 0.7270 - accuracy: 0.7257 - val_loss: 0.7247 - val_accuracy: 0.7624 - lr: 0.0010 - 16s/epoch - 18ms/step
Epoch 23/75
876/876 - 16s - loss: 0.7265 - accuracy: 0.7265 - val_loss: 0.7154 - val_accuracy: 0.7645 - lr: 0.0010 - 16s/epoch - 18ms/step
Epoch 24/75
876/876 - 16s - loss: 0.7257 - accuracy: 0.7266 - val_loss: 0.7228 - val_accuracy: 0.7539 - lr: 0.0010 - 16s/epoch - 18ms/step
Epoch 25/75
876/876 - 17s - loss: 0.7256 - accuracy: 0.7273 - val_loss: 0.7513 - val_accuracy: 0.7503 - lr: 0.0010 - 17s/epoch - 19ms/step
Epoch 26/75
876/876 - 18s - loss: 0.7262 - accuracy: 0.7268 - val_loss: 0.7424 - val_accuracy: 0.7439 - lr: 0.0010 - 18s/epoch - 20ms/step
Epoch 27/75
876/876 - 17s - loss: 0.7255 - accuracy: 0.7270 - val_loss: 0.7401 - val_accuracy: 0.7611 - lr: 0.0010 - 17s/epoch - 19ms/step
Epoch 28/75
876/876 - 17s - loss: 0.7244 - accuracy: 0.7272 - val_loss: 0.7109 - val_accuracy: 0.7667 - lr: 0.0010 - 17s/epoch - 19ms/step
Epoch 29/75
876/876 - 17s - loss: 0.7239 - accuracy: 0.7264 - val_loss: 0.7152 - val_accuracy: 0.7647 - lr: 0.0010 - 17s/epoch - 19ms/step
Epoch 30/75
876/876 - 17s - loss: 0.7247 - accuracy: 0.7269 - val_loss: 0.7236 - val_accuracy: 0.7618 - lr: 0.0010 - 17s/epoch - 19ms/step
Epoch 31/75
876/876 - 17s - loss: 0.7243 - accuracy: 0.7279 - val_loss: 0.7068 - val_accuracy: 0.7724 - lr: 0.0010 - 17s/epoch - 19ms/step
Epoch 32/75
876/876 - 17s - loss: 0.7238 - accuracy: 0.7272 - val_loss: 0.7281 - val_accuracy: 0.7677 - lr: 0.0010 - 17s/epoch - 19ms/step
Epoch 33/75
876/876 - 17s - loss: 0.7248 - accuracy: 0.7270 - val_loss: 0.6926 - val_accuracy: 0.7819 - lr: 0.0010 - 17s/epoch - 19ms/step
Epoch 34/75
876/876 - 16s - loss: 0.7223 - accuracy: 0.7282 - val_loss: 0.6997 - val_accuracy: 0.7743 - lr: 0.0010 - 16s/epoch - 19ms/step
Epoch 35/75
876/876 - 17s - loss: 0.7222 - accuracy: 0.7277 - val_loss: 0.7249 - val_accuracy: 0.7737 - lr: 0.0010 - 17s/epoch - 19ms/step
Epoch 36/75
876/876 - 17s - loss: 0.7234 - accuracy: 0.7283 - val_loss: 0.7003 - val_accuracy: 0.7779 - lr: 0.0010 - 17s/epoch - 20ms/step
Epoch 37/75
876/876 - 17s - loss: 0.7227 - accuracy: 0.7281 - val_loss: 0.6860 - val_accuracy: 0.7844 - lr: 0.0010 - 17s/epoch - 20ms/step
Epoch 38/75
876/876 - 18s - loss: 0.7218 - accuracy: 0.7280 - val_loss: 0.7162 - val_accuracy: 0.7706 - lr: 0.0010 - 18s/epoch - 21ms/step
Epoch 39/75
876/876 - 18s - loss: 0.7210 - accuracy: 0.7286 - val_loss: 0.7094 - val_accuracy: 0.7729 - lr: 0.0010 - 18s/epoch - 21ms/step
Epoch 40/75
876/876 - 19s - loss: 0.7221 - accuracy: 0.7280 - val_loss: 0.6987 - val_accuracy: 0.7739 - lr: 0.0010 - 19s/epoch - 22ms/step
Epoch 41/75
876/876 - 18s - loss: 0.7212 - accuracy: 0.7279 - val_loss: 0.7131 - val_accuracy: 0.7622 - lr: 0.0010 - 18s/epoch - 21ms/step
Epoch 42/75
876/876 - 18s - loss: 0.7195 - accuracy: 0.7297 - val_loss: 0.7377 - val_accuracy: 0.7550 - lr: 0.0010 - 18s/epoch - 21ms/step
Epoch 43/75
876/876 - 18s - loss: 0.7211 - accuracy: 0.7286 - val_loss: 0.7376 - val_accuracy: 0.7633 - lr: 0.0010 - 18s/epoch - 21ms/step
Epoch 44/75
876/876 - 18s - loss: 0.7201 - accuracy: 0.7284 - val_loss: 0.7347 - val_accuracy: 0.7669 - lr: 0.0010 - 18s/epoch - 21ms/step
Epoch 45/75
876/876 - 20s - loss: 0.7194 - accuracy: 0.7291 - val_loss: 0.7127 - val_accuracy: 0.7690 - lr: 0.0010 - 20s/epoch - 22ms/step
Epoch 46/75
876/876 - 18s - loss: 0.7206 - accuracy: 0.7293 - val_loss: 0.7391 - val_accuracy: 0.7536 - lr: 0.0010 - 18s/epoch - 21ms/step
Epoch 47/75
876/876 - 18s - loss: 0.7195 - accuracy: 0.7287 - val_loss: 0.7258 - val_accuracy: 0.7647 - lr: 0.0010 - 18s/epoch - 20ms/step
Epoch 48/75
876/876 - 18s - loss: 0.7199 - accuracy: 0.7284 - val_loss: 0.7219 - val_accuracy: 0.7610 - lr: 0.0010 - 18s/epoch - 21ms/step
Epoch 49/75
876/876 - 18s - loss: 0.7181 - accuracy: 0.7299 - val_loss: 0.7193 - val_accuracy: 0.7706 - lr: 0.0010 - 18s/epoch - 21ms/step
Epoch 50/75
876/876 - 18s - loss: 0.7185 - accuracy: 0.7301 - val_loss: 0.7170 - val_accuracy: 0.7672 - lr: 0.0010 - 18s/epoch - 21ms/step
Epoch 51/75
876/876 - 18s - loss: 0.7189 - accuracy: 0.7287 - val_loss: 0.7166 - val_accuracy: 0.7715 - lr: 0.0010 - 18s/epoch - 21ms/step
Epoch 52/75
876/876 - 18s - loss: 0.7187 - accuracy: 0.7297 - val_loss: 0.7270 - val_accuracy: 0.7612 - lr: 0.0010 - 18s/epoch - 21ms/step
Epoch 53/75
876/876 - 18s - loss: 0.7173 - accuracy: 0.7300 - val_loss: 0.7352 - val_accuracy: 0.7503 - lr: 0.0010 - 18s/epoch - 21ms/step
Epoch 54/75
876/876 - 18s - loss: 0.7167 - accuracy: 0.7306 - val_loss: 0.7043 - val_accuracy: 0.7744 - lr: 0.0010 - 18s/epoch - 21ms/step
Epoch 55/75
876/876 - 18s - loss: 0.7183 - accuracy: 0.7300 - val_loss: 0.7333 - val_accuracy: 0.7653 - lr: 0.0010 - 18s/epoch - 21ms/step
Epoch 56/75
876/876 - 18s - loss: 0.7177 - accuracy: 0.7306 - val_loss: 0.7250 - val_accuracy: 0.7684 - lr: 0.0010 - 18s/epoch - 21ms/step
Epoch 57/75
876/876 - 18s - loss: 0.7170 - accuracy: 0.7302 - val_loss: 0.7082 - val_accuracy: 0.7740 - lr: 0.0010 - 18s/epoch - 21ms/step
Epoch 58/75
876/876 - 18s - loss: 0.7160 - accuracy: 0.7302 - val_loss: 0.7132 - val_accuracy: 0.7714 - lr: 0.0010 - 18s/epoch - 20ms/step
Epoch 59/75
876/876 - 19s - loss: 0.7168 - accuracy: 0.7302 - val_loss: 0.7108 - val_accuracy: 0.7565 - lr: 0.0010 - 19s/epoch - 21ms/step
Epoch 60/75
876/876 - 18s - loss: 0.7171 - accuracy: 0.7300 - val_loss: 0.7409 - val_accuracy: 0.7454 - lr: 0.0010 - 18s/epoch - 20ms/step
Epoch 61/75
876/876 - 19s - loss: 0.7167 - accuracy: 0.7302 - val_loss: 0.7230 - val_accuracy: 0.7666 - lr: 0.0010 - 19s/epoch - 21ms/step
Epoch 62/75
876/876 - 17s - loss: 0.7165 - accuracy: 0.7304 - val_loss: 0.7116 - val_accuracy: 0.7775 - lr: 0.0010 - 17s/epoch - 20ms/step
Epoch 63/75
876/876 - 17s - loss: 0.7149 - accuracy: 0.7316 - val_loss: 0.7018 - val_accuracy: 0.7881 - lr: 0.0010 - 17s/epoch - 20ms/step
Epoch 64/75
876/876 - 18s - loss: 0.7148 - accuracy: 0.7309 - val_loss: 0.7014 - val_accuracy: 0.7760 - lr: 0.0010 - 18s/epoch - 21ms/step
Epoch 65/75
876/876 - 16s - loss: 0.7152 - accuracy: 0.7308 - val_loss: 0.7392 - val_accuracy: 0.7575 - lr: 0.0010 - 16s/epoch - 18ms/step
Epoch 66/75
876/876 - 16s - loss: 0.7135 - accuracy: 0.7323 - val_loss: 0.7298 - val_accuracy: 0.7643 - lr: 0.0010 - 16s/epoch - 18ms/step
Epoch 67/75
876/876 - 16s - loss: 0.7146 - accuracy: 0.7313 - val_loss: 0.7289 - val_accuracy: 0.7542 - lr: 0.0010 - 16s/epoch - 18ms/step
Epoch 68/75
876/876 - 16s - loss: 0.7133 - accuracy: 0.7309 - val_loss: 0.6832 - val_accuracy: 0.7877 - lr: 0.0010 - 16s/epoch - 19ms/step
Epoch 69/75
876/876 - 16s - loss: 0.7130 - accuracy: 0.7315 - val_loss: 0.7289 - val_accuracy: 0.7542 - lr: 0.0010 - 16s/epoch - 19ms/step
Epoch 70/75
876/876 - 16s - loss: 0.7135 - accuracy: 0.7315 - val_loss: 0.7134 - val_accuracy: 0.7747 - lr: 0.0010 - 16s/epoch - 19ms/step
Epoch 71/75
876/876 - 17s - loss: 0.7131 - accuracy: 0.7325 - val_loss: 0.7631 - val_accuracy: 0.7448 - lr: 0.0010 - 17s/epoch - 19ms/step
Epoch 72/75
876/876 - 16s - loss: 0.7134 - accuracy: 0.7311 - val_loss: 0.6893 - val_accuracy: 0.7849 - lr: 0.0010 - 16s/epoch - 19ms/step
Epoch 73/75
876/876 - 16s - loss: 0.7129 - accuracy: 0.7314 - val_loss: 0.6996 - val_accuracy: 0.7720 - lr: 0.0010 - 16s/epoch - 19ms/step
Epoch 74/75
876/876 - 16s - loss: 0.7125 - accuracy: 0.7314 - val_loss: 0.7287 - val_accuracy: 0.7528 - lr: 0.0010 - 16s/epoch - 19ms/step
Epoch 75/75
876/876 - 16s - loss: 0.7119 - accuracy: 0.7317 - val_loss: 0.7179 - val_accuracy: 0.7695 - lr: 0.0010 - 16s/epoch - 19ms/step
fitting with batch size: 500
Epoch 1/75
176/176 - 21s - loss: 0.7085 - accuracy: 0.7334 - val_loss: 0.7314 - val_accuracy: 0.7639 - lr: 0.0010 - 21s/epoch - 118ms/step
Epoch 2/75
176/176 - 9s - loss: 0.7078 - accuracy: 0.7338 - val_loss: 0.7061 - val_accuracy: 0.7782 - lr: 0.0010 - 9s/epoch - 51ms/step
Epoch 3/75
176/176 - 9s - loss: 0.7090 - accuracy: 0.7331 - val_loss: 0.7112 - val_accuracy: 0.7725 - lr: 0.0010 - 9s/epoch - 50ms/step
Epoch 4/75
176/176 - 9s - loss: 0.7099 - accuracy: 0.7327 - val_loss: 0.7104 - val_accuracy: 0.7702 - lr: 0.0010 - 9s/epoch - 50ms/step
Epoch 5/75
176/176 - 9s - loss: 0.7076 - accuracy: 0.7344 - val_loss: 0.7498 - val_accuracy: 0.7528 - lr: 0.0010 - 9s/epoch - 50ms/step
Epoch 6/75
176/176 - 9s - loss: 0.7086 - accuracy: 0.7336 - val_loss: 0.7114 - val_accuracy: 0.7713 - lr: 0.0010 - 9s/epoch - 49ms/step
Epoch 7/75
176/176 - 8s - loss: 0.7069 - accuracy: 0.7340 - val_loss: 0.7287 - val_accuracy: 0.7643 - lr: 0.0010 - 8s/epoch - 47ms/step
Epoch 8/75
176/176 - 8s - loss: 0.7063 - accuracy: 0.7348 - val_loss: 0.7192 - val_accuracy: 0.7692 - lr: 0.0010 - 8s/epoch - 47ms/step
Epoch 9/75
176/176 - 9s - loss: 0.7078 - accuracy: 0.7344 - val_loss: 0.6959 - val_accuracy: 0.7831 - lr: 0.0010 - 9s/epoch - 49ms/step
Epoch 10/75
176/176 - 9s - loss: 0.7069 - accuracy: 0.7337 - val_loss: 0.7051 - val_accuracy: 0.7766 - lr: 0.0010 - 9s/epoch - 50ms/step
Epoch 11/75
176/176 - 9s - loss: 0.7066 - accuracy: 0.7345 - val_loss: 0.7104 - val_accuracy: 0.7791 - lr: 0.0010 - 9s/epoch - 50ms/step
Epoch 12/75
176/176 - 8s - loss: 0.7066 - accuracy: 0.7338 - val_loss: 0.7242 - val_accuracy: 0.7609 - lr: 0.0010 - 8s/epoch - 48ms/step
Epoch 13/75
176/176 - 9s - loss: 0.7053 - accuracy: 0.7340 - val_loss: 0.7262 - val_accuracy: 0.7643 - lr: 0.0010 - 9s/epoch - 49ms/step
Epoch 14/75
176/176 - 9s - loss: 0.7084 - accuracy: 0.7333 - val_loss: 0.7299 - val_accuracy: 0.7654 - lr: 0.0010 - 9s/epoch - 50ms/step
Epoch 15/75
176/176 - 9s - loss: 0.7063 - accuracy: 0.7340 - val_loss: 0.7241 - val_accuracy: 0.7630 - lr: 0.0010 - 9s/epoch - 49ms/step
Epoch 16/75
176/176 - 9s - loss: 0.7063 - accuracy: 0.7337 - val_loss: 0.7412 - val_accuracy: 0.7574 - lr: 0.0010 - 9s/epoch - 50ms/step
Epoch 17/75
176/176 - 9s - loss: 0.7069 - accuracy: 0.7351 - val_loss: 0.7121 - val_accuracy: 0.7690 - lr: 0.0010 - 9s/epoch - 51ms/step
Epoch 18/75
176/176 - 9s - loss: 0.7060 - accuracy: 0.7347 - val_loss: 0.7115 - val_accuracy: 0.7758 - lr: 0.0010 - 9s/epoch - 51ms/step
Epoch 19/75
176/176 - 9s - loss: 0.7063 - accuracy: 0.7346 - val_loss: 0.6970 - val_accuracy: 0.7800 - lr: 0.0010 - 9s/epoch - 50ms/step
Epoch 20/75
176/176 - 9s - loss: 0.7062 - accuracy: 0.7346 - val_loss: 0.7094 - val_accuracy: 0.7730 - lr: 0.0010 - 9s/epoch - 51ms/step
Epoch 21/75
176/176 - 9s - loss: 0.7063 - accuracy: 0.7344 - val_loss: 0.7023 - val_accuracy: 0.7744 - lr: 0.0010 - 9s/epoch - 50ms/step
Epoch 22/75
176/176 - 9s - loss: 0.7068 - accuracy: 0.7337 - val_loss: 0.6943 - val_accuracy: 0.7861 - lr: 0.0010 - 9s/epoch - 50ms/step
Epoch 23/75
176/176 - 9s - loss: 0.7048 - accuracy: 0.7350 - val_loss: 0.7184 - val_accuracy: 0.7713 - lr: 0.0010 - 9s/epoch - 49ms/step
Epoch 24/75
176/176 - 9s - loss: 0.7062 - accuracy: 0.7339 - val_loss: 0.7167 - val_accuracy: 0.7678 - lr: 0.0010 - 9s/epoch - 51ms/step
Epoch 25/75
176/176 - 9s - loss: 0.7070 - accuracy: 0.7347 - val_loss: 0.7257 - val_accuracy: 0.7646 - lr: 0.0010 - 9s/epoch - 49ms/step
Epoch 26/75
176/176 - 9s - loss: 0.7067 - accuracy: 0.7346 - val_loss: 0.7241 - val_accuracy: 0.7707 - lr: 0.0010 - 9s/epoch - 49ms/step
Epoch 27/75
176/176 - 9s - loss: 0.7069 - accuracy: 0.7347 - val_loss: 0.7117 - val_accuracy: 0.7749 - lr: 0.0010 - 9s/epoch - 49ms/step
Epoch 28/75
176/176 - 9s - loss: 0.7062 - accuracy: 0.7349 - val_loss: 0.7091 - val_accuracy: 0.7671 - lr: 0.0010 - 9s/epoch - 49ms/step
Epoch 29/75
176/176 - 8s - loss: 0.7061 - accuracy: 0.7355 - val_loss: 0.7375 - val_accuracy: 0.7522 - lr: 0.0010 - 8s/epoch - 48ms/step
Epoch 30/75
176/176 - 9s - loss: 0.7064 - accuracy: 0.7345 - val_loss: 0.7095 - val_accuracy: 0.7779 - lr: 0.0010 - 9s/epoch - 49ms/step
Epoch 31/75
176/176 - 9s - loss: 0.7059 - accuracy: 0.7354 - val_loss: 0.7184 - val_accuracy: 0.7679 - lr: 0.0010 - 9s/epoch - 49ms/step
Epoch 32/75
176/176 - 9s - loss: 0.7066 - accuracy: 0.7338 - val_loss: 0.7074 - val_accuracy: 0.7685 - lr: 0.0010 - 9s/epoch - 49ms/step
Epoch 33/75
176/176 - 8s - loss: 0.7065 - accuracy: 0.7337 - val_loss: 0.7343 - val_accuracy: 0.7632 - lr: 0.0010 - 8s/epoch - 48ms/step
Epoch 34/75
176/176 - 9s - loss: 0.7056 - accuracy: 0.7346 - val_loss: 0.6941 - val_accuracy: 0.7772 - lr: 0.0010 - 9s/epoch - 49ms/step
Epoch 35/75
176/176 - 9s - loss: 0.7048 - accuracy: 0.7347 - val_loss: 0.7160 - val_accuracy: 0.7651 - lr: 0.0010 - 9s/epoch - 50ms/step
Epoch 36/75
176/176 - 9s - loss: 0.7074 - accuracy: 0.7346 - val_loss: 0.7178 - val_accuracy: 0.7696 - lr: 0.0010 - 9s/epoch - 50ms/step
Epoch 37/75
176/176 - 9s - loss: 0.7054 - accuracy: 0.7349 - val_loss: 0.7068 - val_accuracy: 0.7751 - lr: 0.0010 - 9s/epoch - 49ms/step
Epoch 38/75
176/176 - 9s - loss: 0.7050 - accuracy: 0.7360 - val_loss: 0.7086 - val_accuracy: 0.7773 - lr: 0.0010 - 9s/epoch - 49ms/step
Epoch 39/75
176/176 - 9s - loss: 0.7056 - accuracy: 0.7357 - val_loss: 0.6807 - val_accuracy: 0.7889 - lr: 0.0010 - 9s/epoch - 49ms/step
Epoch 40/75
176/176 - 9s - loss: 0.7049 - accuracy: 0.7367 - val_loss: 0.7219 - val_accuracy: 0.7667 - lr: 0.0010 - 9s/epoch - 54ms/step
Epoch 41/75
176/176 - 9s - loss: 0.7074 - accuracy: 0.7341 - val_loss: 0.7160 - val_accuracy: 0.7756 - lr: 0.0010 - 9s/epoch - 52ms/step
Epoch 42/75
176/176 - 9s - loss: 0.7049 - accuracy: 0.7348 - val_loss: 0.7082 - val_accuracy: 0.7755 - lr: 0.0010 - 9s/epoch - 51ms/step
Epoch 43/75
176/176 - 9s - loss: 0.7060 - accuracy: 0.7352 - val_loss: 0.7339 - val_accuracy: 0.7636 - lr: 0.0010 - 9s/epoch - 51ms/step
Epoch 44/75
176/176 - 9s - loss: 0.7059 - accuracy: 0.7336 - val_loss: 0.7079 - val_accuracy: 0.7775 - lr: 0.0010 - 9s/epoch - 49ms/step
Epoch 45/75
176/176 - 9s - loss: 0.7043 - accuracy: 0.7345 - val_loss: 0.7144 - val_accuracy: 0.7729 - lr: 0.0010 - 9s/epoch - 50ms/step
Epoch 46/75
176/176 - 9s - loss: 0.7046 - accuracy: 0.7350 - val_loss: 0.6996 - val_accuracy: 0.7818 - lr: 0.0010 - 9s/epoch - 51ms/step
Epoch 47/75
176/176 - 9s - loss: 0.7051 - accuracy: 0.7356 - val_loss: 0.7230 - val_accuracy: 0.7699 - lr: 0.0010 - 9s/epoch - 50ms/step
Epoch 48/75
176/176 - 8s - loss: 0.7050 - accuracy: 0.7350 - val_loss: 0.7114 - val_accuracy: 0.7723 - lr: 0.0010 - 8s/epoch - 48ms/step
Epoch 49/75
176/176 - 9s - loss: 0.7039 - accuracy: 0.7358 - val_loss: 0.6963 - val_accuracy: 0.7798 - lr: 0.0010 - 9s/epoch - 48ms/step
Epoch 50/75
176/176 - 9s - loss: 0.7057 - accuracy: 0.7344 - val_loss: 0.7093 - val_accuracy: 0.7741 - lr: 0.0010 - 9s/epoch - 51ms/step
Epoch 51/75
176/176 - 9s - loss: 0.7055 - accuracy: 0.7347 - val_loss: 0.6860 - val_accuracy: 0.7883 - lr: 0.0010 - 9s/epoch - 51ms/step
Epoch 52/75
176/176 - 9s - loss: 0.7044 - accuracy: 0.7339 - val_loss: 0.7027 - val_accuracy: 0.7748 - lr: 0.0010 - 9s/epoch - 49ms/step
Epoch 53/75
176/176 - 9s - loss: 0.7052 - accuracy: 0.7350 - val_loss: 0.7162 - val_accuracy: 0.7657 - lr: 0.0010 - 9s/epoch - 49ms/step
Epoch 54/75
176/176 - 9s - loss: 0.7042 - accuracy: 0.7346 - val_loss: 0.7387 - val_accuracy: 0.7655 - lr: 0.0010 - 9s/epoch - 49ms/step
Epoch 55/75
176/176 - 9s - loss: 0.7055 - accuracy: 0.7350 - val_loss: 0.7231 - val_accuracy: 0.7724 - lr: 0.0010 - 9s/epoch - 51ms/step
Epoch 56/75
176/176 - 9s - loss: 0.7044 - accuracy: 0.7352 - val_loss: 0.7177 - val_accuracy: 0.7717 - lr: 0.0010 - 9s/epoch - 50ms/step
Epoch 57/75
176/176 - 9s - loss: 0.7050 - accuracy: 0.7359 - val_loss: 0.7061 - val_accuracy: 0.7780 - lr: 0.0010 - 9s/epoch - 50ms/step
Epoch 58/75
176/176 - 9s - loss: 0.7051 - accuracy: 0.7351 - val_loss: 0.7233 - val_accuracy: 0.7651 - lr: 0.0010 - 9s/epoch - 51ms/step
Epoch 59/75
176/176 - 9s - loss: 0.7058 - accuracy: 0.7344 - val_loss: 0.7121 - val_accuracy: 0.7725 - lr: 0.0010 - 9s/epoch - 50ms/step
Epoch 60/75
176/176 - 9s - loss: 0.7053 - accuracy: 0.7357 - val_loss: 0.7200 - val_accuracy: 0.7673 - lr: 0.0010 - 9s/epoch - 50ms/step
Epoch 61/75
176/176 - 9s - loss: 0.7050 - accuracy: 0.7353 - val_loss: 0.7213 - val_accuracy: 0.7677 - lr: 0.0010 - 9s/epoch - 49ms/step
Epoch 62/75
176/176 - 9s - loss: 0.7034 - accuracy: 0.7352 - val_loss: 0.7011 - val_accuracy: 0.7789 - lr: 0.0010 - 9s/epoch - 50ms/step
Epoch 63/75
176/176 - 9s - loss: 0.7033 - accuracy: 0.7359 - val_loss: 0.7344 - val_accuracy: 0.7579 - lr: 0.0010 - 9s/epoch - 51ms/step
Epoch 64/75
176/176 - 9s - loss: 0.7045 - accuracy: 0.7359 - val_loss: 0.7315 - val_accuracy: 0.7599 - lr: 0.0010 - 9s/epoch - 50ms/step
Epoch 65/75
176/176 - 9s - loss: 0.7035 - accuracy: 0.7359 - val_loss: 0.7185 - val_accuracy: 0.7653 - lr: 0.0010 - 9s/epoch - 50ms/step
Epoch 66/75
176/176 - 9s - loss: 0.7027 - accuracy: 0.7349 - val_loss: 0.7252 - val_accuracy: 0.7648 - lr: 0.0010 - 9s/epoch - 50ms/step
Epoch 67/75
176/176 - 9s - loss: 0.7038 - accuracy: 0.7361 - val_loss: 0.7165 - val_accuracy: 0.7685 - lr: 0.0010 - 9s/epoch - 50ms/step
Epoch 68/75
176/176 - 9s - loss: 0.7064 - accuracy: 0.7338 - val_loss: 0.7011 - val_accuracy: 0.7807 - lr: 0.0010 - 9s/epoch - 49ms/step
Epoch 69/75
176/176 - 8s - loss: 0.7047 - accuracy: 0.7359 - val_loss: 0.7140 - val_accuracy: 0.7706 - lr: 0.0010 - 8s/epoch - 48ms/step
Epoch 70/75
176/176 - 8s - loss: 0.7032 - accuracy: 0.7355 - val_loss: 0.7203 - val_accuracy: 0.7676 - lr: 0.0010 - 8s/epoch - 48ms/step
Epoch 71/75
176/176 - 9s - loss: 0.7027 - accuracy: 0.7357 - val_loss: 0.6971 - val_accuracy: 0.7806 - lr: 0.0010 - 9s/epoch - 52ms/step
Epoch 72/75
176/176 - 8s - loss: 0.7022 - accuracy: 0.7356 - val_loss: 0.7182 - val_accuracy: 0.7691 - lr: 0.0010 - 8s/epoch - 48ms/step
Epoch 73/75
176/176 - 8s - loss: 0.7048 - accuracy: 0.7349 - val_loss: 0.7078 - val_accuracy: 0.7783 - lr: 0.0010 - 8s/epoch - 48ms/step
Epoch 74/75
176/176 - 9s - loss: 0.7025 - accuracy: 0.7365 - val_loss: 0.7002 - val_accuracy: 0.7806 - lr: 0.0010 - 9s/epoch - 49ms/step
Epoch 75/75
176/176 - 9s - loss: 0.7036 - accuracy: 0.7350 - val_loss: 0.6853 - val_accuracy: 0.7844 - lr: 0.0010 - 9s/epoch - 49ms/step
fitting with batch size: 1500
Epoch 1/75
59/59 - 11s - loss: 0.7035 - accuracy: 0.7356 - val_loss: 0.7072 - val_accuracy: 0.7745 - lr: 0.0010 - 11s/epoch - 184ms/step
Epoch 2/75
59/59 - 8s - loss: 0.7013 - accuracy: 0.7365 - val_loss: 0.7235 - val_accuracy: 0.7656 - lr: 0.0010 - 8s/epoch - 135ms/step
Epoch 3/75
59/59 - 8s - loss: 0.7019 - accuracy: 0.7360 - val_loss: 0.7137 - val_accuracy: 0.7718 - lr: 0.0010 - 8s/epoch - 144ms/step
Epoch 4/75
59/59 - 9s - loss: 0.7028 - accuracy: 0.7371 - val_loss: 0.7162 - val_accuracy: 0.7702 - lr: 0.0010 - 9s/epoch - 150ms/step
Epoch 5/75
59/59 - 8s - loss: 0.7041 - accuracy: 0.7359 - val_loss: 0.7140 - val_accuracy: 0.7717 - lr: 0.0010 - 8s/epoch - 143ms/step
Epoch 6/75
59/59 - 8s - loss: 0.7023 - accuracy: 0.7372 - val_loss: 0.7166 - val_accuracy: 0.7688 - lr: 0.0010 - 8s/epoch - 138ms/step
Epoch 7/75
59/59 - 8s - loss: 0.7029 - accuracy: 0.7351 - val_loss: 0.7009 - val_accuracy: 0.7807 - lr: 0.0010 - 8s/epoch - 139ms/step
Epoch 8/75
59/59 - 9s - loss: 0.7017 - accuracy: 0.7372 - val_loss: 0.7044 - val_accuracy: 0.7761 - lr: 0.0010 - 9s/epoch - 147ms/step
Epoch 9/75
59/59 - 8s - loss: 0.7026 - accuracy: 0.7360 - val_loss: 0.7129 - val_accuracy: 0.7736 - lr: 0.0010 - 8s/epoch - 142ms/step
Epoch 10/75
59/59 - 9s - loss: 0.7031 - accuracy: 0.7356 - val_loss: 0.7195 - val_accuracy: 0.7696 - lr: 0.0010 - 9s/epoch - 145ms/step
Epoch 11/75
59/59 - 8s - loss: 0.7025 - accuracy: 0.7355 - val_loss: 0.7089 - val_accuracy: 0.7753 - lr: 0.0010 - 8s/epoch - 144ms/step
Epoch 12/75
59/59 - 8s - loss: 0.7021 - accuracy: 0.7355 - val_loss: 0.7121 - val_accuracy: 0.7738 - lr: 0.0010 - 8s/epoch - 142ms/step
Epoch 13/75
59/59 - 9s - loss: 0.7021 - accuracy: 0.7356 - val_loss: 0.7054 - val_accuracy: 0.7765 - lr: 0.0010 - 9s/epoch - 148ms/step
Epoch 14/75
59/59 - 9s - loss: 0.7027 - accuracy: 0.7358 - val_loss: 0.7155 - val_accuracy: 0.7715 - lr: 0.0010 - 9s/epoch - 154ms/step
Epoch 15/75
59/59 - 9s - loss: 0.7022 - accuracy: 0.7366 - val_loss: 0.7164 - val_accuracy: 0.7713 - lr: 0.0010 - 9s/epoch - 149ms/step
Epoch 16/75
59/59 - 9s - loss: 0.7025 - accuracy: 0.7374 - val_loss: 0.7166 - val_accuracy: 0.7704 - lr: 0.0010 - 9s/epoch - 147ms/step
Epoch 17/75
59/59 - 9s - loss: 0.7019 - accuracy: 0.7358 - val_loss: 0.7042 - val_accuracy: 0.7783 - lr: 0.0010 - 9s/epoch - 146ms/step
Epoch 18/75
59/59 - 10s - loss: 0.7036 - accuracy: 0.7347 - val_loss: 0.7114 - val_accuracy: 0.7751 - lr: 0.0010 - 10s/epoch - 171ms/step
Epoch 19/75
59/59 - 10s - loss: 0.7023 - accuracy: 0.7348 - val_loss: 0.7130 - val_accuracy: 0.7712 - lr: 0.0010 - 10s/epoch - 167ms/step
Epoch 20/75
59/59 - 10s - loss: 0.7014 - accuracy: 0.7366 - val_loss: 0.7041 - val_accuracy: 0.7783 - lr: 0.0010 - 10s/epoch - 163ms/step
Epoch 21/75
59/59 - 10s - loss: 0.7024 - accuracy: 0.7356 - val_loss: 0.7163 - val_accuracy: 0.7722 - lr: 0.0010 - 10s/epoch - 166ms/step
Epoch 22/75
59/59 - 9s - loss: 0.7016 - accuracy: 0.7373 - val_loss: 0.7077 - val_accuracy: 0.7766 - lr: 0.0010 - 9s/epoch - 158ms/step
Epoch 23/75
59/59 - 9s - loss: 0.7030 - accuracy: 0.7356 - val_loss: 0.7128 - val_accuracy: 0.7729 - lr: 0.0010 - 9s/epoch - 155ms/step
Epoch 24/75
59/59 - 10s - loss: 0.7022 - accuracy: 0.7360 - val_loss: 0.7149 - val_accuracy: 0.7739 - lr: 0.0010 - 10s/epoch - 163ms/step
Epoch 25/75
59/59 - 10s - loss: 0.7008 - accuracy: 0.7371 - val_loss: 0.7054 - val_accuracy: 0.7767 - lr: 0.0010 - 10s/epoch - 163ms/step
Epoch 26/75
59/59 - 10s - loss: 0.7015 - accuracy: 0.7357 - val_loss: 0.7137 - val_accuracy: 0.7712 - lr: 0.0010 - 10s/epoch - 161ms/step
Epoch 27/75
59/59 - 10s - loss: 0.7024 - accuracy: 0.7356 - val_loss: 0.7167 - val_accuracy: 0.7714 - lr: 0.0010 - 10s/epoch - 164ms/step
Epoch 28/75
59/59 - 9s - loss: 0.7011 - accuracy: 0.7374 - val_loss: 0.7163 - val_accuracy: 0.7690 - lr: 0.0010 - 9s/epoch - 157ms/step
Epoch 29/75
59/59 - 10s - loss: 0.7009 - accuracy: 0.7369 - val_loss: 0.7204 - val_accuracy: 0.7683 - lr: 0.0010 - 10s/epoch - 163ms/step
Epoch 30/75
59/59 - 10s - loss: 0.7011 - accuracy: 0.7364 - val_loss: 0.7175 - val_accuracy: 0.7693 - lr: 0.0010 - 10s/epoch - 162ms/step
Epoch 31/75
59/59 - 10s - loss: 0.7014 - accuracy: 0.7363 - val_loss: 0.7123 - val_accuracy: 0.7739 - lr: 0.0010 - 10s/epoch - 164ms/step
Epoch 32/75
59/59 - 9s - loss: 0.7013 - accuracy: 0.7362 - val_loss: 0.7045 - val_accuracy: 0.7781 - lr: 0.0010 - 9s/epoch - 148ms/step
Epoch 33/75
59/59 - 8s - loss: 0.7018 - accuracy: 0.7355 - val_loss: 0.7148 - val_accuracy: 0.7745 - lr: 0.0010 - 8s/epoch - 139ms/step
Epoch 34/75
59/59 - 9s - loss: 0.7015 - accuracy: 0.7362 - val_loss: 0.7175 - val_accuracy: 0.7719 - lr: 0.0010 - 9s/epoch - 145ms/step
Epoch 35/75
59/59 - 9s - loss: 0.7015 - accuracy: 0.7363 - val_loss: 0.7060 - val_accuracy: 0.7768 - lr: 0.0010 - 9s/epoch - 146ms/step
Epoch 36/75
59/59 - 8s - loss: 0.7009 - accuracy: 0.7370 - val_loss: 0.7065 - val_accuracy: 0.7766 - lr: 0.0010 - 8s/epoch - 129ms/step
Epoch 37/75
59/59 - 8s - loss: 0.7032 - accuracy: 0.7358 - val_loss: 0.7160 - val_accuracy: 0.7710 - lr: 0.0010 - 8s/epoch - 128ms/step
Epoch 38/75
59/59 - 8s - loss: 0.7008 - accuracy: 0.7368 - val_loss: 0.7177 - val_accuracy: 0.7701 - lr: 0.0010 - 8s/epoch - 128ms/step
Epoch 39/75
59/59 - 8s - loss: 0.7021 - accuracy: 0.7362 - val_loss: 0.7124 - val_accuracy: 0.7730 - lr: 0.0010 - 8s/epoch - 128ms/step
Epoch 40/75
59/59 - 8s - loss: 0.7033 - accuracy: 0.7347 - val_loss: 0.7070 - val_accuracy: 0.7754 - lr: 0.0010 - 8s/epoch - 128ms/step
Epoch 41/75
59/59 - 8s - loss: 0.7013 - accuracy: 0.7361 - val_loss: 0.7028 - val_accuracy: 0.7775 - lr: 0.0010 - 8s/epoch - 128ms/step
Epoch 42/75
59/59 - 8s - loss: 0.7028 - accuracy: 0.7368 - val_loss: 0.7128 - val_accuracy: 0.7739 - lr: 0.0010 - 8s/epoch - 128ms/step
Epoch 43/75
59/59 - 8s - loss: 0.7027 - accuracy: 0.7345 - val_loss: 0.7078 - val_accuracy: 0.7738 - lr: 0.0010 - 8s/epoch - 128ms/step
Epoch 44/75
59/59 - 8s - loss: 0.7008 - accuracy: 0.7366 - val_loss: 0.7097 - val_accuracy: 0.7753 - lr: 0.0010 - 8s/epoch - 135ms/step
Epoch 45/75
59/59 - 8s - loss: 0.7012 - accuracy: 0.7369 - val_loss: 0.7155 - val_accuracy: 0.7715 - lr: 0.0010 - 8s/epoch - 141ms/step
Epoch 46/75
59/59 - 8s - loss: 0.7028 - accuracy: 0.7354 - val_loss: 0.7064 - val_accuracy: 0.7784 - lr: 0.0010 - 8s/epoch - 134ms/step
Epoch 47/75
59/59 - 8s - loss: 0.7024 - accuracy: 0.7357 - val_loss: 0.7102 - val_accuracy: 0.7754 - lr: 0.0010 - 8s/epoch - 132ms/step
Epoch 48/75
59/59 - 8s - loss: 0.7028 - accuracy: 0.7361 - val_loss: 0.7121 - val_accuracy: 0.7755 - lr: 0.0010 - 8s/epoch - 133ms/step
Epoch 49/75
59/59 - 8s - loss: 0.7021 - accuracy: 0.7374 - val_loss: 0.7131 - val_accuracy: 0.7738 - lr: 0.0010 - 8s/epoch - 135ms/step
Epoch 50/75
59/59 - 8s - loss: 0.7034 - accuracy: 0.7365 - val_loss: 0.7194 - val_accuracy: 0.7703 - lr: 0.0010 - 8s/epoch - 136ms/step
Epoch 51/75
59/59 - 8s - loss: 0.7020 - accuracy: 0.7364 - val_loss: 0.7142 - val_accuracy: 0.7720 - lr: 0.0010 - 8s/epoch - 138ms/step
Epoch 52/75
59/59 - 8s - loss: 0.7019 - accuracy: 0.7363 - val_loss: 0.7126 - val_accuracy: 0.7732 - lr: 0.0010 - 8s/epoch - 132ms/step
Epoch 53/75
59/59 - 8s - loss: 0.7018 - accuracy: 0.7367 - val_loss: 0.7072 - val_accuracy: 0.7768 - lr: 0.0010 - 8s/epoch - 131ms/step
Epoch 54/75
59/59 - 8s - loss: 0.7016 - accuracy: 0.7361 - val_loss: 0.7172 - val_accuracy: 0.7726 - lr: 0.0010 - 8s/epoch - 128ms/step
Epoch 55/75
59/59 - 8s - loss: 0.7018 - accuracy: 0.7356 - val_loss: 0.7129 - val_accuracy: 0.7731 - lr: 0.0010 - 8s/epoch - 129ms/step
Epoch 56/75
59/59 - 8s - loss: 0.7020 - accuracy: 0.7352 - val_loss: 0.7125 - val_accuracy: 0.7715 - lr: 0.0010 - 8s/epoch - 129ms/step
Epoch 57/75
59/59 - 8s - loss: 0.7002 - accuracy: 0.7376 - val_loss: 0.7098 - val_accuracy: 0.7748 - lr: 0.0010 - 8s/epoch - 130ms/step
Epoch 58/75
59/59 - 8s - loss: 0.7014 - accuracy: 0.7374 - val_loss: 0.7089 - val_accuracy: 0.7736 - lr: 0.0010 - 8s/epoch - 129ms/step
Epoch 59/75
59/59 - 8s - loss: 0.7016 - accuracy: 0.7365 - val_loss: 0.7161 - val_accuracy: 0.7711 - lr: 0.0010 - 8s/epoch - 134ms/step
Epoch 60/75
59/59 - 8s - loss: 0.7017 - accuracy: 0.7362 - val_loss: 0.7164 - val_accuracy: 0.7717 - lr: 0.0010 - 8s/epoch - 130ms/step
Epoch 61/75
59/59 - 8s - loss: 0.7026 - accuracy: 0.7366 - val_loss: 0.7163 - val_accuracy: 0.7704 - lr: 0.0010 - 8s/epoch - 128ms/step
Epoch 62/75
59/59 - 8s - loss: 0.7010 - accuracy: 0.7359 - val_loss: 0.7120 - val_accuracy: 0.7736 - lr: 0.0010 - 8s/epoch - 129ms/step
Epoch 63/75
59/59 - 8s - loss: 0.7029 - accuracy: 0.7358 - val_loss: 0.7111 - val_accuracy: 0.7738 - lr: 0.0010 - 8s/epoch - 130ms/step
Epoch 64/75
59/59 - 8s - loss: 0.7021 - accuracy: 0.7364 - val_loss: 0.7146 - val_accuracy: 0.7715 - lr: 0.0010 - 8s/epoch - 128ms/step
Epoch 65/75
59/59 - 8s - loss: 0.7027 - accuracy: 0.7359 - val_loss: 0.7142 - val_accuracy: 0.7718 - lr: 0.0010 - 8s/epoch - 128ms/step
Epoch 66/75
59/59 - 8s - loss: 0.7020 - accuracy: 0.7360 - val_loss: 0.7078 - val_accuracy: 0.7758 - lr: 0.0010 - 8s/epoch - 128ms/step
Epoch 67/75
59/59 - 8s - loss: 0.6999 - accuracy: 0.7371 - val_loss: 0.7158 - val_accuracy: 0.7707 - lr: 0.0010 - 8s/epoch - 130ms/step
Epoch 68/75
59/59 - 8s - loss: 0.7017 - accuracy: 0.7370 - val_loss: 0.7159 - val_accuracy: 0.7726 - lr: 0.0010 - 8s/epoch - 130ms/step
Epoch 69/75
59/59 - 8s - loss: 0.7016 - accuracy: 0.7367 - val_loss: 0.7152 - val_accuracy: 0.7703 - lr: 0.0010 - 8s/epoch - 128ms/step
Epoch 70/75
59/59 - 8s - loss: 0.7009 - accuracy: 0.7368 - val_loss: 0.7157 - val_accuracy: 0.7721 - lr: 0.0010 - 8s/epoch - 143ms/step
Epoch 71/75
59/59 - 10s - loss: 0.7007 - accuracy: 0.7375 - val_loss: 0.7091 - val_accuracy: 0.7759 - lr: 0.0010 - 10s/epoch - 164ms/step
Epoch 72/75
59/59 - 9s - loss: 0.6997 - accuracy: 0.7376 - val_loss: 0.7030 - val_accuracy: 0.7764 - lr: 0.0010 - 9s/epoch - 147ms/step
Epoch 73/75
59/59 - 8s - loss: 0.6996 - accuracy: 0.7373 - val_loss: 0.7153 - val_accuracy: 0.7705 - lr: 0.0010 - 8s/epoch - 132ms/step
Epoch 74/75
59/59 - 8s - loss: 0.7003 - accuracy: 0.7373 - val_loss: 0.7129 - val_accuracy: 0.7724 - lr: 0.0010 - 8s/epoch - 139ms/step
Epoch 75/75
59/59 - 8s - loss: 0.7008 - accuracy: 0.7366 - val_loss: 0.7118 - val_accuracy: 0.7725 - lr: 0.0010 - 8s/epoch - 134ms/step
fitting with batch size: 2500
Epoch 1/75
36/36 - 11s - loss: 0.7019 - accuracy: 0.7363 - val_loss: 0.7231 - val_accuracy: 0.7662 - lr: 0.0010 - 11s/epoch - 298ms/step
Epoch 2/75
36/36 - 9s - loss: 0.7010 - accuracy: 0.7375 - val_loss: 0.7119 - val_accuracy: 0.7737 - lr: 0.0010 - 9s/epoch - 246ms/step
Epoch 3/75
36/36 - 9s - loss: 0.7004 - accuracy: 0.7369 - val_loss: 0.7136 - val_accuracy: 0.7712 - lr: 0.0010 - 9s/epoch - 238ms/step
Epoch 4/75
36/36 - 8s - loss: 0.7008 - accuracy: 0.7368 - val_loss: 0.7178 - val_accuracy: 0.7681 - lr: 0.0010 - 8s/epoch - 216ms/step
Epoch 5/75
36/36 - 9s - loss: 0.7018 - accuracy: 0.7371 - val_loss: 0.7145 - val_accuracy: 0.7714 - lr: 0.0010 - 9s/epoch - 255ms/step
Epoch 6/75
36/36 - 8s - loss: 0.7021 - accuracy: 0.7359 - val_loss: 0.7146 - val_accuracy: 0.7750 - lr: 0.0010 - 8s/epoch - 211ms/step
Epoch 7/75
36/36 - 7s - loss: 0.7020 - accuracy: 0.7363 - val_loss: 0.7107 - val_accuracy: 0.7711 - lr: 0.0010 - 7s/epoch - 206ms/step
Epoch 8/75
36/36 - 8s - loss: 0.7001 - accuracy: 0.7374 - val_loss: 0.7174 - val_accuracy: 0.7720 - lr: 0.0010 - 8s/epoch - 209ms/step
Epoch 9/75
36/36 - 8s - loss: 0.7010 - accuracy: 0.7367 - val_loss: 0.7307 - val_accuracy: 0.7612 - lr: 0.0010 - 8s/epoch - 210ms/step
Epoch 10/75
36/36 - 8s - loss: 0.7016 - accuracy: 0.7363 - val_loss: 0.7020 - val_accuracy: 0.7745 - lr: 0.0010 - 8s/epoch - 229ms/step
Epoch 11/75
36/36 - 8s - loss: 0.7023 - accuracy: 0.7367 - val_loss: 0.7069 - val_accuracy: 0.7822 - lr: 0.0010 - 8s/epoch - 223ms/step
Epoch 12/75
36/36 - 8s - loss: 0.7023 - accuracy: 0.7366 - val_loss: 0.7128 - val_accuracy: 0.7770 - lr: 0.0010 - 8s/epoch - 210ms/step
Epoch 13/75
36/36 - 7s - loss: 0.7020 - accuracy: 0.7376 - val_loss: 0.7121 - val_accuracy: 0.7807 - lr: 0.0010 - 7s/epoch - 204ms/step
Epoch 14/75
36/36 - 7s - loss: 0.7004 - accuracy: 0.7373 - val_loss: 0.7282 - val_accuracy: 0.7641 - lr: 0.0010 - 7s/epoch - 204ms/step
Epoch 15/75
36/36 - 7s - loss: 0.6993 - accuracy: 0.7366 - val_loss: 0.7167 - val_accuracy: 0.7698 - lr: 0.0010 - 7s/epoch - 205ms/step
Epoch 16/75
36/36 - 7s - loss: 0.7021 - accuracy: 0.7372 - val_loss: 0.7047 - val_accuracy: 0.7777 - lr: 0.0010 - 7s/epoch - 204ms/step
Epoch 17/75
36/36 - 7s - loss: 0.7013 - accuracy: 0.7366 - val_loss: 0.6896 - val_accuracy: 0.7865 - lr: 0.0010 - 7s/epoch - 205ms/step
Epoch 18/75
36/36 - 8s - loss: 0.7020 - accuracy: 0.7363 - val_loss: 0.7175 - val_accuracy: 0.7648 - lr: 0.0010 - 8s/epoch - 209ms/step
Epoch 19/75
36/36 - 9s - loss: 0.7005 - accuracy: 0.7362 - val_loss: 0.6957 - val_accuracy: 0.7820 - lr: 0.0010 - 9s/epoch - 249ms/step
Epoch 20/75
36/36 - 7s - loss: 0.7028 - accuracy: 0.7363 - val_loss: 0.7141 - val_accuracy: 0.7708 - lr: 0.0010 - 7s/epoch - 207ms/step
Epoch 21/75
36/36 - 8s - loss: 0.7018 - accuracy: 0.7364 - val_loss: 0.7228 - val_accuracy: 0.7676 - lr: 0.0010 - 8s/epoch - 230ms/step
Epoch 22/75
36/36 - 7s - loss: 0.7006 - accuracy: 0.7371 - val_loss: 0.7058 - val_accuracy: 0.7773 - lr: 0.0010 - 7s/epoch - 204ms/step
Epoch 23/75
36/36 - 7s - loss: 0.7003 - accuracy: 0.7379 - val_loss: 0.7097 - val_accuracy: 0.7733 - lr: 0.0010 - 7s/epoch - 206ms/step
Epoch 24/75
36/36 - 7s - loss: 0.7009 - accuracy: 0.7362 - val_loss: 0.7026 - val_accuracy: 0.7816 - lr: 0.0010 - 7s/epoch - 206ms/step
Epoch 25/75
36/36 - 8s - loss: 0.6996 - accuracy: 0.7370 - val_loss: 0.7329 - val_accuracy: 0.7634 - lr: 0.0010 - 8s/epoch - 213ms/step
Epoch 26/75
36/36 - 8s - loss: 0.7025 - accuracy: 0.7356 - val_loss: 0.7102 - val_accuracy: 0.7779 - lr: 0.0010 - 8s/epoch - 220ms/step
Epoch 27/75
36/36 - 8s - loss: 0.7015 - accuracy: 0.7363 - val_loss: 0.7029 - val_accuracy: 0.7802 - lr: 0.0010 - 8s/epoch - 223ms/step
Epoch 28/75
36/36 - 8s - loss: 0.7018 - accuracy: 0.7364 - val_loss: 0.6951 - val_accuracy: 0.7880 - lr: 0.0010 - 8s/epoch - 214ms/step
Epoch 29/75
36/36 - 8s - loss: 0.7005 - accuracy: 0.7361 - val_loss: 0.7154 - val_accuracy: 0.7649 - lr: 0.0010 - 8s/epoch - 232ms/step
Epoch 30/75
36/36 - 8s - loss: 0.7013 - accuracy: 0.7372 - val_loss: 0.7078 - val_accuracy: 0.7727 - lr: 0.0010 - 8s/epoch - 210ms/step
Epoch 31/75
36/36 - 7s - loss: 0.6981 - accuracy: 0.7370 - val_loss: 0.6992 - val_accuracy: 0.7784 - lr: 0.0010 - 7s/epoch - 205ms/step
Epoch 32/75
36/36 - 7s - loss: 0.7002 - accuracy: 0.7366 - val_loss: 0.7157 - val_accuracy: 0.7691 - lr: 0.0010 - 7s/epoch - 206ms/step
Epoch 33/75
36/36 - 8s - loss: 0.7016 - accuracy: 0.7357 - val_loss: 0.7209 - val_accuracy: 0.7656 - lr: 0.0010 - 8s/epoch - 213ms/step
Epoch 34/75
36/36 - 8s - loss: 0.6997 - accuracy: 0.7369 - val_loss: 0.7111 - val_accuracy: 0.7754 - lr: 0.0010 - 8s/epoch - 218ms/step
Epoch 35/75
36/36 - 8s - loss: 0.6996 - accuracy: 0.7366 - val_loss: 0.6943 - val_accuracy: 0.7881 - lr: 0.0010 - 8s/epoch - 223ms/step
Epoch 36/75
36/36 - 7s - loss: 0.7007 - accuracy: 0.7371 - val_loss: 0.7179 - val_accuracy: 0.7679 - lr: 0.0010 - 7s/epoch - 205ms/step
Epoch 37/75
36/36 - 8s - loss: 0.6999 - accuracy: 0.7365 - val_loss: 0.7105 - val_accuracy: 0.7776 - lr: 0.0010 - 8s/epoch - 224ms/step
Epoch 38/75
36/36 - 8s - loss: 0.6995 - accuracy: 0.7373 - val_loss: 0.7130 - val_accuracy: 0.7719 - lr: 0.0010 - 8s/epoch - 217ms/step
Epoch 39/75
36/36 - 10s - loss: 0.7014 - accuracy: 0.7349 - val_loss: 0.7294 - val_accuracy: 0.7653 - lr: 0.0010 - 10s/epoch - 282ms/step
Epoch 40/75
36/36 - 10s - loss: 0.7017 - accuracy: 0.7363 - val_loss: 0.6986 - val_accuracy: 0.7831 - lr: 0.0010 - 10s/epoch - 281ms/step
Epoch 41/75
36/36 - 10s - loss: 0.7001 - accuracy: 0.7370 - val_loss: 0.7074 - val_accuracy: 0.7818 - lr: 0.0010 - 10s/epoch - 273ms/step
Epoch 42/75
36/36 - 10s - loss: 0.7014 - accuracy: 0.7366 - val_loss: 0.6999 - val_accuracy: 0.7840 - lr: 0.0010 - 10s/epoch - 274ms/step
Epoch 43/75
36/36 - 10s - loss: 0.7011 - accuracy: 0.7378 - val_loss: 0.7066 - val_accuracy: 0.7743 - lr: 0.0010 - 10s/epoch - 273ms/step
Epoch 44/75
36/36 - 10s - loss: 0.7018 - accuracy: 0.7358 - val_loss: 0.7199 - val_accuracy: 0.7688 - lr: 0.0010 - 10s/epoch - 273ms/step
Epoch 45/75
36/36 - 10s - loss: 0.7017 - accuracy: 0.7352 - val_loss: 0.7110 - val_accuracy: 0.7717 - lr: 0.0010 - 10s/epoch - 275ms/step
Epoch 46/75
36/36 - 10s - loss: 0.7005 - accuracy: 0.7363 - val_loss: 0.7050 - val_accuracy: 0.7746 - lr: 0.0010 - 10s/epoch - 274ms/step
Epoch 47/75
36/36 - 10s - loss: 0.7010 - accuracy: 0.7363 - val_loss: 0.7098 - val_accuracy: 0.7764 - lr: 0.0010 - 10s/epoch - 276ms/step
Epoch 48/75
36/36 - 10s - loss: 0.7006 - accuracy: 0.7366 - val_loss: 0.7136 - val_accuracy: 0.7688 - lr: 0.0010 - 10s/epoch - 272ms/step
Epoch 49/75
36/36 - 10s - loss: 0.7005 - accuracy: 0.7373 - val_loss: 0.7192 - val_accuracy: 0.7734 - lr: 0.0010 - 10s/epoch - 274ms/step
Epoch 50/75
36/36 - 10s - loss: 0.7014 - accuracy: 0.7363 - val_loss: 0.7044 - val_accuracy: 0.7826 - lr: 0.0010 - 10s/epoch - 276ms/step
Epoch 51/75
36/36 - 10s - loss: 0.7001 - accuracy: 0.7364 - val_loss: 0.7171 - val_accuracy: 0.7747 - lr: 0.0010 - 10s/epoch - 275ms/step
Epoch 52/75
36/36 - 10s - loss: 0.7003 - accuracy: 0.7371 - val_loss: 0.7200 - val_accuracy: 0.7709 - lr: 0.0010 - 10s/epoch - 271ms/step
Epoch 53/75
36/36 - 10s - loss: 0.7005 - accuracy: 0.7361 - val_loss: 0.7273 - val_accuracy: 0.7718 - lr: 0.0010 - 10s/epoch - 274ms/step
Epoch 54/75
36/36 - 10s - loss: 0.7003 - accuracy: 0.7371 - val_loss: 0.7027 - val_accuracy: 0.7754 - lr: 0.0010 - 10s/epoch - 273ms/step
Epoch 55/75
36/36 - 10s - loss: 0.7002 - accuracy: 0.7362 - val_loss: 0.7159 - val_accuracy: 0.7723 - lr: 0.0010 - 10s/epoch - 272ms/step
Epoch 56/75
36/36 - 10s - loss: 0.6998 - accuracy: 0.7370 - val_loss: 0.7105 - val_accuracy: 0.7809 - lr: 0.0010 - 10s/epoch - 266ms/step
Epoch 57/75
36/36 - 8s - loss: 0.7018 - accuracy: 0.7366 - val_loss: 0.7258 - val_accuracy: 0.7660 - lr: 0.0010 - 8s/epoch - 220ms/step
Epoch 58/75
36/36 - 11s - loss: 0.7014 - accuracy: 0.7366 - val_loss: 0.6888 - val_accuracy: 0.7899 - lr: 0.0010 - 11s/epoch - 310ms/step
Epoch 59/75
36/36 - 10s - loss: 0.7017 - accuracy: 0.7375 - val_loss: 0.7175 - val_accuracy: 0.7716 - lr: 0.0010 - 10s/epoch - 280ms/step
Epoch 60/75
36/36 - 10s - loss: 0.6995 - accuracy: 0.7379 - val_loss: 0.7010 - val_accuracy: 0.7841 - lr: 0.0010 - 10s/epoch - 285ms/step
Epoch 61/75
36/36 - 10s - loss: 0.7012 - accuracy: 0.7361 - val_loss: 0.7167 - val_accuracy: 0.7739 - lr: 0.0010 - 10s/epoch - 279ms/step
Epoch 62/75
36/36 - 10s - loss: 0.7009 - accuracy: 0.7367 - val_loss: 0.6931 - val_accuracy: 0.7854 - lr: 0.0010 - 10s/epoch - 282ms/step
Epoch 63/75
36/36 - 10s - loss: 0.6989 - accuracy: 0.7378 - val_loss: 0.7117 - val_accuracy: 0.7733 - lr: 0.0010 - 10s/epoch - 275ms/step
Epoch 64/75
36/36 - 10s - loss: 0.7018 - accuracy: 0.7364 - val_loss: 0.7060 - val_accuracy: 0.7789 - lr: 0.0010 - 10s/epoch - 279ms/step
Epoch 65/75
36/36 - 10s - loss: 0.7019 - accuracy: 0.7371 - val_loss: 0.7213 - val_accuracy: 0.7634 - lr: 0.0010 - 10s/epoch - 279ms/step
Epoch 66/75
36/36 - 10s - loss: 0.7011 - accuracy: 0.7356 - val_loss: 0.7218 - val_accuracy: 0.7695 - lr: 0.0010 - 10s/epoch - 292ms/step
Epoch 67/75
36/36 - 8s - loss: 0.7009 - accuracy: 0.7377 - val_loss: 0.6996 - val_accuracy: 0.7819 - lr: 0.0010 - 8s/epoch - 209ms/step
Epoch 68/75
36/36 - 7s - loss: 0.7003 - accuracy: 0.7366 - val_loss: 0.6992 - val_accuracy: 0.7829 - lr: 0.0010 - 7s/epoch - 203ms/step
Epoch 69/75
36/36 - 7s - loss: 0.6999 - accuracy: 0.7378 - val_loss: 0.7191 - val_accuracy: 0.7734 - lr: 0.0010 - 7s/epoch - 203ms/step
Epoch 70/75
36/36 - 7s - loss: 0.7006 - accuracy: 0.7367 - val_loss: 0.7112 - val_accuracy: 0.7721 - lr: 0.0010 - 7s/epoch - 203ms/step
Epoch 71/75
36/36 - 7s - loss: 0.7005 - accuracy: 0.7359 - val_loss: 0.7258 - val_accuracy: 0.7665 - lr: 0.0010 - 7s/epoch - 204ms/step
Epoch 72/75
36/36 - 7s - loss: 0.7002 - accuracy: 0.7366 - val_loss: 0.7034 - val_accuracy: 0.7785 - lr: 0.0010 - 7s/epoch - 203ms/step
Epoch 73/75
36/36 - 7s - loss: 0.7022 - accuracy: 0.7359 - val_loss: 0.7154 - val_accuracy: 0.7774 - lr: 0.0010 - 7s/epoch - 204ms/step
Epoch 74/75
36/36 - 7s - loss: 0.7003 - accuracy: 0.7368 - val_loss: 0.6907 - val_accuracy: 0.7843 - lr: 0.0010 - 7s/epoch - 204ms/step
Epoch 75/75
36/36 - 7s - loss: 0.6998 - accuracy: 0.7375 - val_loss: 0.7068 - val_accuracy: 0.7728 - lr: 0.0010 - 7s/epoch - 204ms/step
Epoch number: 100
fitting with batch size: 20
Epoch 1/100
4378/4378 - 73s - loss: 0.7325 - accuracy: 0.7239 - val_loss: 0.7236 - val_accuracy: 0.7769 - lr: 0.0010 - 73s/epoch - 17ms/step
Epoch 2/100
4378/4378 - 72s - loss: 0.7303 - accuracy: 0.7262 - val_loss: 0.7606 - val_accuracy: 0.7542 - lr: 0.0010 - 72s/epoch - 16ms/step
Epoch 3/100
4378/4378 - 75s - loss: 0.7287 - accuracy: 0.7246 - val_loss: 0.7217 - val_accuracy: 0.7600 - lr: 0.0010 - 75s/epoch - 17ms/step
Epoch 4/100
4378/4378 - 76s - loss: 0.7273 - accuracy: 0.7264 - val_loss: 0.7207 - val_accuracy: 0.7735 - lr: 0.0010 - 76s/epoch - 17ms/step
Epoch 5/100
4378/4378 - 75s - loss: 0.7265 - accuracy: 0.7264 - val_loss: 0.6184 - val_accuracy: 0.8290 - lr: 0.0010 - 75s/epoch - 17ms/step
Epoch 6/100
4378/4378 - 73s - loss: 0.7250 - accuracy: 0.7262 - val_loss: 0.7836 - val_accuracy: 0.7342 - lr: 0.0010 - 73s/epoch - 17ms/step
Epoch 7/100
4378/4378 - 73s - loss: 0.7235 - accuracy: 0.7274 - val_loss: 0.7814 - val_accuracy: 0.7279 - lr: 0.0010 - 73s/epoch - 17ms/step
Epoch 8/100
4378/4378 - 73s - loss: 0.7243 - accuracy: 0.7267 - val_loss: 0.6638 - val_accuracy: 0.7928 - lr: 0.0010 - 73s/epoch - 17ms/step
Epoch 9/100
4378/4378 - 73s - loss: 0.7214 - accuracy: 0.7282 - val_loss: 0.7329 - val_accuracy: 0.7588 - lr: 0.0010 - 73s/epoch - 17ms/step
Epoch 10/100
4378/4378 - 73s - loss: 0.7219 - accuracy: 0.7290 - val_loss: 0.6972 - val_accuracy: 0.8004 - lr: 0.0010 - 73s/epoch - 17ms/step
Epoch 11/100
4378/4378 - 73s - loss: 0.7225 - accuracy: 0.7278 - val_loss: 0.7451 - val_accuracy: 0.7439 - lr: 0.0010 - 73s/epoch - 17ms/step
Epoch 12/100
4378/4378 - 73s - loss: 0.7197 - accuracy: 0.7285 - val_loss: 0.8098 - val_accuracy: 0.7313 - lr: 0.0010 - 73s/epoch - 17ms/step
Epoch 13/100
4378/4378 - 73s - loss: 0.7197 - accuracy: 0.7287 - val_loss: 0.6161 - val_accuracy: 0.8173 - lr: 0.0010 - 73s/epoch - 17ms/step
Epoch 14/100
4378/4378 - 73s - loss: 0.7174 - accuracy: 0.7287 - val_loss: 0.7485 - val_accuracy: 0.7573 - lr: 0.0010 - 73s/epoch - 17ms/step
Epoch 15/100
4378/4378 - 74s - loss: 0.7172 - accuracy: 0.7302 - val_loss: 0.7433 - val_accuracy: 0.7814 - lr: 0.0010 - 74s/epoch - 17ms/step
Epoch 16/100
4378/4378 - 73s - loss: 0.7184 - accuracy: 0.7296 - val_loss: 0.7537 - val_accuracy: 0.7500 - lr: 0.0010 - 73s/epoch - 17ms/step
Epoch 17/100
4378/4378 - 73s - loss: 0.7151 - accuracy: 0.7309 - val_loss: 0.6805 - val_accuracy: 0.8081 - lr: 0.0010 - 73s/epoch - 17ms/step
Epoch 18/100
4378/4378 - 73s - loss: 0.7149 - accuracy: 0.7296 - val_loss: 0.6796 - val_accuracy: 0.8035 - lr: 0.0010 - 73s/epoch - 17ms/step
Epoch 19/100
4378/4378 - 74s - loss: 0.7135 - accuracy: 0.7308 - val_loss: 0.6758 - val_accuracy: 0.7832 - lr: 0.0010 - 74s/epoch - 17ms/step
Epoch 20/100
4378/4378 - 73s - loss: 0.7127 - accuracy: 0.7306 - val_loss: 0.6808 - val_accuracy: 0.7867 - lr: 0.0010 - 73s/epoch - 17ms/step
Epoch 21/100
4378/4378 - 73s - loss: 0.7114 - accuracy: 0.7327 - val_loss: 0.6669 - val_accuracy: 0.8121 - lr: 0.0010 - 73s/epoch - 17ms/step
Epoch 22/100
4378/4378 - 73s - loss: 0.7113 - accuracy: 0.7313 - val_loss: 0.6518 - val_accuracy: 0.8145 - lr: 0.0010 - 73s/epoch - 17ms/step
Epoch 23/100
4378/4378 - 73s - loss: 0.7106 - accuracy: 0.7325 - val_loss: 0.6678 - val_accuracy: 0.7958 - lr: 0.0010 - 73s/epoch - 17ms/step
Epoch 24/100
4378/4378 - 73s - loss: 0.7100 - accuracy: 0.7334 - val_loss: 0.7474 - val_accuracy: 0.7734 - lr: 0.0010 - 73s/epoch - 17ms/step
Epoch 25/100
4378/4378 - 73s - loss: 0.7097 - accuracy: 0.7332 - val_loss: 0.6776 - val_accuracy: 0.7934 - lr: 0.0010 - 73s/epoch - 17ms/step
Epoch 26/100
4378/4378 - 73s - loss: 0.7077 - accuracy: 0.7335 - val_loss: 0.6802 - val_accuracy: 0.8061 - lr: 0.0010 - 73s/epoch - 17ms/step
Epoch 27/100
4378/4378 - 73s - loss: 0.7071 - accuracy: 0.7342 - val_loss: 0.6466 - val_accuracy: 0.8051 - lr: 0.0010 - 73s/epoch - 17ms/step
Epoch 28/100
4378/4378 - 75s - loss: 0.7047 - accuracy: 0.7347 - val_loss: 0.6440 - val_accuracy: 0.7897 - lr: 0.0010 - 75s/epoch - 17ms/step
Epoch 29/100
4378/4378 - 73s - loss: 0.7054 - accuracy: 0.7347 - val_loss: 0.7381 - val_accuracy: 0.7741 - lr: 0.0010 - 73s/epoch - 17ms/step
Epoch 30/100
4378/4378 - 75s - loss: 0.7036 - accuracy: 0.7347 - val_loss: 0.7468 - val_accuracy: 0.7620 - lr: 0.0010 - 75s/epoch - 17ms/step
Epoch 31/100
4378/4378 - 74s - loss: 0.7042 - accuracy: 0.7359 - val_loss: 0.6447 - val_accuracy: 0.7878 - lr: 0.0010 - 74s/epoch - 17ms/step
Epoch 32/100
4378/4378 - 72s - loss: 0.7050 - accuracy: 0.7355 - val_loss: 0.7260 - val_accuracy: 0.7817 - lr: 0.0010 - 72s/epoch - 16ms/step
Epoch 33/100
4378/4378 - 73s - loss: 0.7030 - accuracy: 0.7354 - val_loss: 0.6598 - val_accuracy: 0.8134 - lr: 0.0010 - 73s/epoch - 17ms/step
Epoch 34/100
4378/4378 - 74s - loss: 0.7008 - accuracy: 0.7379 - val_loss: 0.7316 - val_accuracy: 0.7738 - lr: 0.0010 - 74s/epoch - 17ms/step
Epoch 35/100
4378/4378 - 84s - loss: 0.7021 - accuracy: 0.7359 - val_loss: 0.6767 - val_accuracy: 0.7986 - lr: 0.0010 - 84s/epoch - 19ms/step
Epoch 36/100
4378/4378 - 90s - loss: 0.7011 - accuracy: 0.7364 - val_loss: 0.7074 - val_accuracy: 0.7922 - lr: 0.0010 - 90s/epoch - 21ms/step
Epoch 37/100
4378/4378 - 84s - loss: 0.6996 - accuracy: 0.7367 - val_loss: 0.7216 - val_accuracy: 0.7876 - lr: 0.0010 - 84s/epoch - 19ms/step
Epoch 38/100
4378/4378 - 93s - loss: 0.6984 - accuracy: 0.7382 - val_loss: 0.6901 - val_accuracy: 0.7992 - lr: 0.0010 - 93s/epoch - 21ms/step
Epoch 39/100
4378/4378 - 85s - loss: 0.6970 - accuracy: 0.7380 - val_loss: 0.7683 - val_accuracy: 0.7589 - lr: 0.0010 - 85s/epoch - 19ms/step
Epoch 40/100
4378/4378 - 81s - loss: 0.6956 - accuracy: 0.7389 - val_loss: 0.7081 - val_accuracy: 0.7976 - lr: 0.0010 - 81s/epoch - 18ms/step
Epoch 41/100
4378/4378 - 77s - loss: 0.6956 - accuracy: 0.7400 - val_loss: 0.6862 - val_accuracy: 0.8003 - lr: 0.0010 - 77s/epoch - 18ms/step
Epoch 42/100
4378/4378 - 77s - loss: 0.6967 - accuracy: 0.7379 - val_loss: 0.7521 - val_accuracy: 0.7890 - lr: 0.0010 - 77s/epoch - 18ms/step
Epoch 43/100
4378/4378 - 76s - loss: 0.6950 - accuracy: 0.7379 - val_loss: 0.6790 - val_accuracy: 0.7938 - lr: 0.0010 - 76s/epoch - 17ms/step
Epoch 44/100
4378/4378 - 77s - loss: 0.6934 - accuracy: 0.7398 - val_loss: 0.7067 - val_accuracy: 0.7933 - lr: 0.0010 - 77s/epoch - 18ms/step
Epoch 45/100
4378/4378 - 74s - loss: 0.6956 - accuracy: 0.7389 - val_loss: 0.7143 - val_accuracy: 0.7963 - lr: 0.0010 - 74s/epoch - 17ms/step
Epoch 46/100
4378/4378 - 73s - loss: 0.6933 - accuracy: 0.7397 - val_loss: 0.7078 - val_accuracy: 0.7933 - lr: 0.0010 - 73s/epoch - 17ms/step
Epoch 47/100
4378/4378 - 73s - loss: 0.6909 - accuracy: 0.7383 - val_loss: 0.7044 - val_accuracy: 0.7988 - lr: 0.0010 - 73s/epoch - 17ms/step
Epoch 48/100
4378/4378 - 72s - loss: 0.6907 - accuracy: 0.7414 - val_loss: 0.7274 - val_accuracy: 0.7790 - lr: 0.0010 - 72s/epoch - 17ms/step
Epoch 49/100
4378/4378 - 72s - loss: 0.6903 - accuracy: 0.7399 - val_loss: 0.7073 - val_accuracy: 0.8077 - lr: 0.0010 - 72s/epoch - 16ms/step
Epoch 50/100
4378/4378 - 73s - loss: 0.6863 - accuracy: 0.7418 - val_loss: 0.7391 - val_accuracy: 0.7802 - lr: 0.0010 - 73s/epoch - 17ms/step
Epoch 51/100
4378/4378 - 72s - loss: 0.6888 - accuracy: 0.7433 - val_loss: 0.6674 - val_accuracy: 0.8014 - lr: 0.0010 - 72s/epoch - 16ms/step
Epoch 52/100
4378/4378 - 69s - loss: 0.6870 - accuracy: 0.7404 - val_loss: 0.6875 - val_accuracy: 0.7929 - lr: 0.0010 - 69s/epoch - 16ms/step
Epoch 53/100
4378/4378 - 108s - loss: 0.6864 - accuracy: 0.7424 - val_loss: 0.6760 - val_accuracy: 0.8155 - lr: 0.0010 - 108s/epoch - 25ms/step
Epoch 54/100
4378/4378 - 75s - loss: 0.6864 - accuracy: 0.7418 - val_loss: 0.6903 - val_accuracy: 0.7981 - lr: 0.0010 - 75s/epoch - 17ms/step
Epoch 55/100
4378/4378 - 73s - loss: 0.6857 - accuracy: 0.7428 - val_loss: 0.6590 - val_accuracy: 0.8079 - lr: 0.0010 - 73s/epoch - 17ms/step
Epoch 56/100
4378/4378 - 73s - loss: 0.6853 - accuracy: 0.7432 - val_loss: 0.7093 - val_accuracy: 0.7758 - lr: 0.0010 - 73s/epoch - 17ms/step
Epoch 57/100
4378/4378 - 74s - loss: 0.6832 - accuracy: 0.7436 - val_loss: 0.6393 - val_accuracy: 0.8124 - lr: 0.0010 - 74s/epoch - 17ms/step
Epoch 58/100
4378/4378 - 74s - loss: 0.6827 - accuracy: 0.7434 - val_loss: 0.6938 - val_accuracy: 0.7983 - lr: 0.0010 - 74s/epoch - 17ms/step
Epoch 59/100
4378/4378 - 73s - loss: 0.6826 - accuracy: 0.7437 - val_loss: 0.6802 - val_accuracy: 0.7987 - lr: 0.0010 - 73s/epoch - 17ms/step
Epoch 60/100
4378/4378 - 74s - loss: 0.6808 - accuracy: 0.7441 - val_loss: 0.6481 - val_accuracy: 0.8304 - lr: 0.0010 - 74s/epoch - 17ms/step
Epoch 61/100
4378/4378 - 75s - loss: 0.6798 - accuracy: 0.7449 - val_loss: 0.7114 - val_accuracy: 0.7910 - lr: 0.0010 - 75s/epoch - 17ms/step
Epoch 62/100
4378/4378 - 74s - loss: 0.6811 - accuracy: 0.7438 - val_loss: 0.6498 - val_accuracy: 0.8220 - lr: 0.0010 - 74s/epoch - 17ms/step
Epoch 63/100
4378/4378 - 73s - loss: 0.6800 - accuracy: 0.7445 - val_loss: 0.7134 - val_accuracy: 0.7724 - lr: 0.0010 - 73s/epoch - 17ms/step
Epoch 64/100
4378/4378 - 76s - loss: 0.6782 - accuracy: 0.7443 - val_loss: 0.6575 - val_accuracy: 0.8082 - lr: 0.0010 - 76s/epoch - 17ms/step
Epoch 65/100
4378/4378 - 78s - loss: 0.6781 - accuracy: 0.7449 - val_loss: 0.6335 - val_accuracy: 0.8493 - lr: 0.0010 - 78s/epoch - 18ms/step
Epoch 66/100
4378/4378 - 77s - loss: 0.6780 - accuracy: 0.7453 - val_loss: 0.5879 - val_accuracy: 0.8329 - lr: 0.0010 - 77s/epoch - 18ms/step
Epoch 67/100
4378/4378 - 77s - loss: 0.6748 - accuracy: 0.7463 - val_loss: 0.6783 - val_accuracy: 0.8077 - lr: 0.0010 - 77s/epoch - 17ms/step
Epoch 68/100
4378/4378 - 77s - loss: 0.6754 - accuracy: 0.7466 - val_loss: 0.6992 - val_accuracy: 0.8078 - lr: 0.0010 - 77s/epoch - 18ms/step
Epoch 69/100
4378/4378 - 78s - loss: 0.6748 - accuracy: 0.7467 - val_loss: 0.6756 - val_accuracy: 0.8149 - lr: 0.0010 - 78s/epoch - 18ms/step
Epoch 70/100
4378/4378 - 77s - loss: 0.6739 - accuracy: 0.7472 - val_loss: 0.7178 - val_accuracy: 0.7913 - lr: 0.0010 - 77s/epoch - 18ms/step
Epoch 71/100
4378/4378 - 77s - loss: 0.6731 - accuracy: 0.7475 - val_loss: 0.6633 - val_accuracy: 0.8190 - lr: 0.0010 - 77s/epoch - 18ms/step
Epoch 72/100
4378/4378 - 77s - loss: 0.6733 - accuracy: 0.7469 - val_loss: 0.6508 - val_accuracy: 0.8166 - lr: 0.0010 - 77s/epoch - 18ms/step
Epoch 73/100
4378/4378 - 77s - loss: 0.6698 - accuracy: 0.7497 - val_loss: 0.6730 - val_accuracy: 0.8105 - lr: 0.0010 - 77s/epoch - 18ms/step
Epoch 74/100
4378/4378 - 78s - loss: 0.6714 - accuracy: 0.7478 - val_loss: 0.6653 - val_accuracy: 0.8240 - lr: 0.0010 - 78s/epoch - 18ms/step
Epoch 75/100
4378/4378 - 77s - loss: 0.6692 - accuracy: 0.7493 - val_loss: 0.6752 - val_accuracy: 0.8068 - lr: 0.0010 - 77s/epoch - 18ms/step
Epoch 76/100
4378/4378 - 74s - loss: 0.6691 - accuracy: 0.7507 - val_loss: 0.6040 - val_accuracy: 0.8346 - lr: 0.0010 - 74s/epoch - 17ms/step
Epoch 77/100
4378/4378 - 72s - loss: 0.6662 - accuracy: 0.7501 - val_loss: 0.6287 - val_accuracy: 0.8159 - lr: 0.0010 - 72s/epoch - 17ms/step
Epoch 78/100
4378/4378 - 74s - loss: 0.6674 - accuracy: 0.7497 - val_loss: 0.6763 - val_accuracy: 0.8136 - lr: 0.0010 - 74s/epoch - 17ms/step
Epoch 79/100
4378/4378 - 72s - loss: 0.6657 - accuracy: 0.7489 - val_loss: 0.6465 - val_accuracy: 0.8221 - lr: 0.0010 - 72s/epoch - 17ms/step
Epoch 80/100
4378/4378 - 73s - loss: 0.6659 - accuracy: 0.7502 - val_loss: 0.7154 - val_accuracy: 0.7942 - lr: 0.0010 - 73s/epoch - 17ms/step
Epoch 81/100
4378/4378 - 75s - loss: 0.6654 - accuracy: 0.7511 - val_loss: 0.6244 - val_accuracy: 0.8170 - lr: 0.0010 - 75s/epoch - 17ms/step
Epoch 82/100
4378/4378 - 75s - loss: 0.6648 - accuracy: 0.7508 - val_loss: 0.7012 - val_accuracy: 0.7865 - lr: 0.0010 - 75s/epoch - 17ms/step
Epoch 83/100
4378/4378 - 74s - loss: 0.6645 - accuracy: 0.7504 - val_loss: 0.6042 - val_accuracy: 0.8376 - lr: 0.0010 - 74s/epoch - 17ms/step
Epoch 84/100
4378/4378 - 75s - loss: 0.6626 - accuracy: 0.7507 - val_loss: 0.7002 - val_accuracy: 0.8052 - lr: 0.0010 - 75s/epoch - 17ms/step
Epoch 85/100
4378/4378 - 77s - loss: 0.6618 - accuracy: 0.7510 - val_loss: 0.7088 - val_accuracy: 0.8057 - lr: 0.0010 - 77s/epoch - 18ms/step
Epoch 86/100
4378/4378 - 77s - loss: 0.6603 - accuracy: 0.7525 - val_loss: 0.6330 - val_accuracy: 0.8158 - lr: 0.0010 - 77s/epoch - 18ms/step
Epoch 87/100
4378/4378 - 74s - loss: 0.6604 - accuracy: 0.7526 - val_loss: 0.6215 - val_accuracy: 0.8303 - lr: 0.0010 - 74s/epoch - 17ms/step
Epoch 88/100
4378/4378 - 74s - loss: 0.6591 - accuracy: 0.7533 - val_loss: 0.6596 - val_accuracy: 0.8092 - lr: 0.0010 - 74s/epoch - 17ms/step
Epoch 89/100
4378/4378 - 74s - loss: 0.6592 - accuracy: 0.7526 - val_loss: 0.6094 - val_accuracy: 0.8275 - lr: 0.0010 - 74s/epoch - 17ms/step
Epoch 90/100
4378/4378 - 74s - loss: 0.6569 - accuracy: 0.7533 - val_loss: 0.6934 - val_accuracy: 0.7963 - lr: 0.0010 - 74s/epoch - 17ms/step
Epoch 91/100
4378/4378 - 75s - loss: 0.6583 - accuracy: 0.7540 - val_loss: 0.6424 - val_accuracy: 0.8207 - lr: 0.0010 - 75s/epoch - 17ms/step
Epoch 92/100
4378/4378 - 75s - loss: 0.6574 - accuracy: 0.7549 - val_loss: 0.6533 - val_accuracy: 0.8098 - lr: 0.0010 - 75s/epoch - 17ms/step
Epoch 93/100
4378/4378 - 76s - loss: 0.6551 - accuracy: 0.7550 - val_loss: 0.6427 - val_accuracy: 0.8145 - lr: 0.0010 - 76s/epoch - 17ms/step
Epoch 94/100
4378/4378 - 81s - loss: 0.6570 - accuracy: 0.7537 - val_loss: 0.6941 - val_accuracy: 0.8104 - lr: 0.0010 - 81s/epoch - 19ms/step
Epoch 95/100
4378/4378 - 81s - loss: 0.6530 - accuracy: 0.7544 - val_loss: 0.7036 - val_accuracy: 0.8073 - lr: 0.0010 - 81s/epoch - 19ms/step
Epoch 96/100
4378/4378 - 79s - loss: 0.6550 - accuracy: 0.7549 - val_loss: 0.6869 - val_accuracy: 0.7956 - lr: 0.0010 - 79s/epoch - 18ms/step
Epoch 97/100
4378/4378 - 78s - loss: 0.6529 - accuracy: 0.7554 - val_loss: 0.6369 - val_accuracy: 0.8248 - lr: 0.0010 - 78s/epoch - 18ms/step
Epoch 98/100
4378/4378 - 78s - loss: 0.6526 - accuracy: 0.7561 - val_loss: 0.6389 - val_accuracy: 0.8294 - lr: 0.0010 - 78s/epoch - 18ms/step
Epoch 99/100
4378/4378 - 78s - loss: 0.6525 - accuracy: 0.7554 - val_loss: 0.6585 - val_accuracy: 0.8099 - lr: 0.0010 - 78s/epoch - 18ms/step
Epoch 100/100
4378/4378 - 77s - loss: 0.6523 - accuracy: 0.7560 - val_loss: 0.6906 - val_accuracy: 0.8061 - lr: 0.0010 - 77s/epoch - 18ms/step
fitting with batch size: 100
Epoch 1/100
876/876 - 20s - loss: 0.6245 - accuracy: 0.7673 - val_loss: 0.6341 - val_accuracy: 0.8270 - lr: 0.0010 - 20s/epoch - 23ms/step
Epoch 2/100
876/876 - 17s - loss: 0.6196 - accuracy: 0.7696 - val_loss: 0.6375 - val_accuracy: 0.8270 - lr: 0.0010 - 17s/epoch - 20ms/step
Epoch 3/100
876/876 - 17s - loss: 0.6182 - accuracy: 0.7700 - val_loss: 0.6385 - val_accuracy: 0.8214 - lr: 0.0010 - 17s/epoch - 19ms/step
Epoch 4/100
876/876 - 17s - loss: 0.6177 - accuracy: 0.7711 - val_loss: 0.6519 - val_accuracy: 0.8202 - lr: 0.0010 - 17s/epoch - 20ms/step
Epoch 5/100
876/876 - 18s - loss: 0.6176 - accuracy: 0.7692 - val_loss: 0.6313 - val_accuracy: 0.8277 - lr: 0.0010 - 18s/epoch - 20ms/step
Epoch 6/100
876/876 - 17s - loss: 0.6174 - accuracy: 0.7707 - val_loss: 0.6603 - val_accuracy: 0.8227 - lr: 0.0010 - 17s/epoch - 19ms/step
Epoch 7/100
876/876 - 17s - loss: 0.6155 - accuracy: 0.7703 - val_loss: 0.6685 - val_accuracy: 0.8180 - lr: 0.0010 - 17s/epoch - 19ms/step
Epoch 8/100
876/876 - 17s - loss: 0.6154 - accuracy: 0.7710 - val_loss: 0.6448 - val_accuracy: 0.8243 - lr: 0.0010 - 17s/epoch - 19ms/step
Epoch 9/100
876/876 - 17s - loss: 0.6146 - accuracy: 0.7714 - val_loss: 0.6543 - val_accuracy: 0.8246 - lr: 0.0010 - 17s/epoch - 20ms/step
Epoch 10/100
876/876 - 21s - loss: 0.6136 - accuracy: 0.7717 - val_loss: 0.6514 - val_accuracy: 0.8213 - lr: 0.0010 - 21s/epoch - 24ms/step
Epoch 11/100
876/876 - 18s - loss: 0.6149 - accuracy: 0.7708 - val_loss: 0.6269 - val_accuracy: 0.8267 - lr: 0.0010 - 18s/epoch - 20ms/step
Epoch 12/100
876/876 - 17s - loss: 0.6136 - accuracy: 0.7717 - val_loss: 0.6224 - val_accuracy: 0.8274 - lr: 0.0010 - 17s/epoch - 19ms/step
Epoch 13/100
876/876 - 17s - loss: 0.6118 - accuracy: 0.7735 - val_loss: 0.6464 - val_accuracy: 0.8291 - lr: 0.0010 - 17s/epoch - 20ms/step
Epoch 14/100
876/876 - 16s - loss: 0.6117 - accuracy: 0.7717 - val_loss: 0.6404 - val_accuracy: 0.8276 - lr: 0.0010 - 16s/epoch - 19ms/step
Epoch 15/100
876/876 - 16s - loss: 0.6126 - accuracy: 0.7722 - val_loss: 0.6278 - val_accuracy: 0.8303 - lr: 0.0010 - 16s/epoch - 19ms/step
Epoch 16/100
876/876 - 16s - loss: 0.6101 - accuracy: 0.7723 - val_loss: 0.6442 - val_accuracy: 0.8259 - lr: 0.0010 - 16s/epoch - 19ms/step
Epoch 17/100
876/876 - 17s - loss: 0.6119 - accuracy: 0.7723 - val_loss: 0.6441 - val_accuracy: 0.8262 - lr: 0.0010 - 17s/epoch - 19ms/step
Epoch 18/100
876/876 - 17s - loss: 0.6099 - accuracy: 0.7737 - val_loss: 0.6619 - val_accuracy: 0.8184 - lr: 0.0010 - 17s/epoch - 19ms/step
Epoch 19/100
876/876 - 19s - loss: 0.6103 - accuracy: 0.7727 - val_loss: 0.6280 - val_accuracy: 0.8288 - lr: 0.0010 - 19s/epoch - 22ms/step
Epoch 20/100
876/876 - 20s - loss: 0.6099 - accuracy: 0.7745 - val_loss: 0.6615 - val_accuracy: 0.8162 - lr: 0.0010 - 20s/epoch - 23ms/step
Epoch 21/100
876/876 - 19s - loss: 0.6099 - accuracy: 0.7741 - val_loss: 0.6474 - val_accuracy: 0.8195 - lr: 0.0010 - 19s/epoch - 21ms/step
Epoch 22/100
876/876 - 18s - loss: 0.6085 - accuracy: 0.7744 - val_loss: 0.6379 - val_accuracy: 0.8240 - lr: 0.0010 - 18s/epoch - 21ms/step
Epoch 23/100
876/876 - 24s - loss: 0.6077 - accuracy: 0.7742 - val_loss: 0.6141 - val_accuracy: 0.8291 - lr: 0.0010 - 24s/epoch - 28ms/step
Epoch 24/100
876/876 - 19s - loss: 0.6090 - accuracy: 0.7746 - val_loss: 0.6528 - val_accuracy: 0.8258 - lr: 0.0010 - 19s/epoch - 22ms/step
Epoch 25/100
876/876 - 20s - loss: 0.6087 - accuracy: 0.7739 - val_loss: 0.6049 - val_accuracy: 0.8368 - lr: 0.0010 - 20s/epoch - 23ms/step
Epoch 26/100
876/876 - 19s - loss: 0.6085 - accuracy: 0.7750 - val_loss: 0.6213 - val_accuracy: 0.8294 - lr: 0.0010 - 19s/epoch - 21ms/step
Epoch 27/100
876/876 - 19s - loss: 0.6092 - accuracy: 0.7731 - val_loss: 0.6460 - val_accuracy: 0.8240 - lr: 0.0010 - 19s/epoch - 21ms/step
Epoch 28/100
876/876 - 19s - loss: 0.6077 - accuracy: 0.7744 - val_loss: 0.6273 - val_accuracy: 0.8220 - lr: 0.0010 - 19s/epoch - 21ms/step
Epoch 29/100
876/876 - 19s - loss: 0.6071 - accuracy: 0.7744 - val_loss: 0.6525 - val_accuracy: 0.8246 - lr: 0.0010 - 19s/epoch - 21ms/step
Epoch 30/100
876/876 - 18s - loss: 0.6081 - accuracy: 0.7736 - val_loss: 0.6601 - val_accuracy: 0.8141 - lr: 0.0010 - 18s/epoch - 21ms/step
Epoch 31/100
876/876 - 19s - loss: 0.6055 - accuracy: 0.7755 - val_loss: 0.6225 - val_accuracy: 0.8374 - lr: 0.0010 - 19s/epoch - 21ms/step
Epoch 32/100
876/876 - 19s - loss: 0.6063 - accuracy: 0.7755 - val_loss: 0.6273 - val_accuracy: 0.8272 - lr: 0.0010 - 19s/epoch - 21ms/step
Epoch 33/100
876/876 - 19s - loss: 0.6040 - accuracy: 0.7753 - val_loss: 0.6499 - val_accuracy: 0.8215 - lr: 0.0010 - 19s/epoch - 21ms/step
Epoch 34/100
876/876 - 18s - loss: 0.6053 - accuracy: 0.7750 - val_loss: 0.6225 - val_accuracy: 0.8268 - lr: 0.0010 - 18s/epoch - 21ms/step
Epoch 35/100
876/876 - 18s - loss: 0.6064 - accuracy: 0.7750 - val_loss: 0.6555 - val_accuracy: 0.8195 - lr: 0.0010 - 18s/epoch - 21ms/step
Epoch 36/100
876/876 - 19s - loss: 0.6033 - accuracy: 0.7768 - val_loss: 0.6474 - val_accuracy: 0.8206 - lr: 0.0010 - 19s/epoch - 21ms/step
Epoch 37/100
876/876 - 19s - loss: 0.6042 - accuracy: 0.7755 - val_loss: 0.6601 - val_accuracy: 0.8177 - lr: 0.0010 - 19s/epoch - 21ms/step
Epoch 38/100
876/876 - 19s - loss: 0.6037 - accuracy: 0.7765 - val_loss: 0.6064 - val_accuracy: 0.8374 - lr: 0.0010 - 19s/epoch - 21ms/step
Epoch 39/100
876/876 - 19s - loss: 0.6036 - accuracy: 0.7759 - val_loss: 0.6423 - val_accuracy: 0.8211 - lr: 0.0010 - 19s/epoch - 21ms/step
Epoch 40/100
876/876 - 18s - loss: 0.6031 - accuracy: 0.7761 - val_loss: 0.6494 - val_accuracy: 0.8194 - lr: 0.0010 - 18s/epoch - 21ms/step
Epoch 41/100
876/876 - 19s - loss: 0.6015 - accuracy: 0.7770 - val_loss: 0.6588 - val_accuracy: 0.8250 - lr: 0.0010 - 19s/epoch - 21ms/step
Epoch 42/100
876/876 - 19s - loss: 0.6015 - accuracy: 0.7765 - val_loss: 0.6297 - val_accuracy: 0.8202 - lr: 0.0010 - 19s/epoch - 21ms/step
Epoch 43/100
876/876 - 19s - loss: 0.6022 - accuracy: 0.7770 - val_loss: 0.6625 - val_accuracy: 0.8206 - lr: 0.0010 - 19s/epoch - 21ms/step
Epoch 44/100
876/876 - 19s - loss: 0.6009 - accuracy: 0.7769 - val_loss: 0.6344 - val_accuracy: 0.8229 - lr: 0.0010 - 19s/epoch - 21ms/step
Epoch 45/100
876/876 - 19s - loss: 0.6015 - accuracy: 0.7774 - val_loss: 0.6193 - val_accuracy: 0.8293 - lr: 0.0010 - 19s/epoch - 21ms/step
Epoch 46/100
876/876 - 18s - loss: 0.6015 - accuracy: 0.7779 - val_loss: 0.6133 - val_accuracy: 0.8298 - lr: 0.0010 - 18s/epoch - 21ms/step
Epoch 47/100
876/876 - 19s - loss: 0.6018 - accuracy: 0.7773 - val_loss: 0.6013 - val_accuracy: 0.8372 - lr: 0.0010 - 19s/epoch - 21ms/step
Epoch 48/100
876/876 - 19s - loss: 0.6009 - accuracy: 0.7771 - val_loss: 0.6410 - val_accuracy: 0.8231 - lr: 0.0010 - 19s/epoch - 21ms/step
Epoch 49/100
876/876 - 19s - loss: 0.5991 - accuracy: 0.7782 - val_loss: 0.6515 - val_accuracy: 0.8221 - lr: 0.0010 - 19s/epoch - 21ms/step
Epoch 50/100
876/876 - 19s - loss: 0.6014 - accuracy: 0.7775 - val_loss: 0.6798 - val_accuracy: 0.8177 - lr: 0.0010 - 19s/epoch - 21ms/step
Epoch 51/100
876/876 - 18s - loss: 0.6005 - accuracy: 0.7766 - val_loss: 0.6584 - val_accuracy: 0.8135 - lr: 0.0010 - 18s/epoch - 21ms/step
Epoch 52/100
876/876 - 19s - loss: 0.6003 - accuracy: 0.7785 - val_loss: 0.6593 - val_accuracy: 0.8195 - lr: 0.0010 - 19s/epoch - 21ms/step
Epoch 53/100
876/876 - 19s - loss: 0.5998 - accuracy: 0.7784 - val_loss: 0.6347 - val_accuracy: 0.8251 - lr: 0.0010 - 19s/epoch - 21ms/step
Epoch 54/100
876/876 - 19s - loss: 0.5998 - accuracy: 0.7773 - val_loss: 0.6107 - val_accuracy: 0.8364 - lr: 0.0010 - 19s/epoch - 21ms/step
Epoch 55/100
876/876 - 19s - loss: 0.5999 - accuracy: 0.7771 - val_loss: 0.6427 - val_accuracy: 0.8246 - lr: 0.0010 - 19s/epoch - 21ms/step
Epoch 56/100
876/876 - 19s - loss: 0.5984 - accuracy: 0.7788 - val_loss: 0.6453 - val_accuracy: 0.8192 - lr: 0.0010 - 19s/epoch - 21ms/step
Epoch 57/100
876/876 - 18s - loss: 0.5975 - accuracy: 0.7787 - val_loss: 0.6499 - val_accuracy: 0.8246 - lr: 0.0010 - 18s/epoch - 21ms/step
Epoch 58/100
876/876 - 19s - loss: 0.5973 - accuracy: 0.7788 - val_loss: 0.6620 - val_accuracy: 0.8103 - lr: 0.0010 - 19s/epoch - 21ms/step
Epoch 59/100
876/876 - 19s - loss: 0.5967 - accuracy: 0.7801 - val_loss: 0.6412 - val_accuracy: 0.8235 - lr: 0.0010 - 19s/epoch - 21ms/step
Epoch 60/100
876/876 - 19s - loss: 0.5972 - accuracy: 0.7791 - val_loss: 0.6347 - val_accuracy: 0.8227 - lr: 0.0010 - 19s/epoch - 21ms/step
Epoch 61/100
876/876 - 19s - loss: 0.5964 - accuracy: 0.7788 - val_loss: 0.6427 - val_accuracy: 0.8299 - lr: 0.0010 - 19s/epoch - 21ms/step
Epoch 62/100
876/876 - 18s - loss: 0.5973 - accuracy: 0.7786 - val_loss: 0.6293 - val_accuracy: 0.8244 - lr: 0.0010 - 18s/epoch - 21ms/step
Epoch 63/100
876/876 - 19s - loss: 0.5966 - accuracy: 0.7771 - val_loss: 0.6475 - val_accuracy: 0.8237 - lr: 0.0010 - 19s/epoch - 21ms/step
Epoch 64/100
876/876 - 19s - loss: 0.5937 - accuracy: 0.7800 - val_loss: 0.6497 - val_accuracy: 0.8230 - lr: 0.0010 - 19s/epoch - 21ms/step
Epoch 65/100
876/876 - 19s - loss: 0.5956 - accuracy: 0.7785 - val_loss: 0.6292 - val_accuracy: 0.8346 - lr: 0.0010 - 19s/epoch - 21ms/step
Epoch 66/100
876/876 - 19s - loss: 0.5949 - accuracy: 0.7797 - val_loss: 0.6745 - val_accuracy: 0.8176 - lr: 0.0010 - 19s/epoch - 21ms/step
Epoch 67/100
876/876 - 19s - loss: 0.5954 - accuracy: 0.7790 - val_loss: 0.6298 - val_accuracy: 0.8271 - lr: 0.0010 - 19s/epoch - 22ms/step
Epoch 68/100
876/876 - 19s - loss: 0.5948 - accuracy: 0.7800 - val_loss: 0.6952 - val_accuracy: 0.8001 - lr: 0.0010 - 19s/epoch - 21ms/step
Epoch 69/100
876/876 - 19s - loss: 0.5946 - accuracy: 0.7805 - val_loss: 0.6481 - val_accuracy: 0.8171 - lr: 0.0010 - 19s/epoch - 21ms/step
Epoch 70/100
876/876 - 19s - loss: 0.5944 - accuracy: 0.7799 - val_loss: 0.6544 - val_accuracy: 0.8259 - lr: 0.0010 - 19s/epoch - 21ms/step
Epoch 71/100
876/876 - 19s - loss: 0.5926 - accuracy: 0.7811 - val_loss: 0.6357 - val_accuracy: 0.8232 - lr: 0.0010 - 19s/epoch - 21ms/step
Epoch 72/100
876/876 - 19s - loss: 0.5922 - accuracy: 0.7810 - val_loss: 0.6170 - val_accuracy: 0.8310 - lr: 0.0010 - 19s/epoch - 21ms/step
Epoch 73/100
876/876 - 18s - loss: 0.5915 - accuracy: 0.7818 - val_loss: 0.6296 - val_accuracy: 0.8266 - lr: 0.0010 - 18s/epoch - 21ms/step
Epoch 74/100
876/876 - 19s - loss: 0.5913 - accuracy: 0.7818 - val_loss: 0.6539 - val_accuracy: 0.8185 - lr: 0.0010 - 19s/epoch - 22ms/step
Epoch 75/100
876/876 - 19s - loss: 0.5930 - accuracy: 0.7801 - val_loss: 0.6500 - val_accuracy: 0.8198 - lr: 0.0010 - 19s/epoch - 21ms/step
Epoch 76/100
876/876 - 19s - loss: 0.5915 - accuracy: 0.7808 - val_loss: 0.6332 - val_accuracy: 0.8291 - lr: 0.0010 - 19s/epoch - 21ms/step
Epoch 77/100
876/876 - 19s - loss: 0.5901 - accuracy: 0.7817 - val_loss: 0.6626 - val_accuracy: 0.8112 - lr: 0.0010 - 19s/epoch - 21ms/step
Epoch 78/100
876/876 - 18s - loss: 0.5907 - accuracy: 0.7821 - val_loss: 0.6684 - val_accuracy: 0.8171 - lr: 0.0010 - 18s/epoch - 21ms/step
Epoch 79/100
876/876 - 19s - loss: 0.5903 - accuracy: 0.7818 - val_loss: 0.6409 - val_accuracy: 0.8247 - lr: 0.0010 - 19s/epoch - 21ms/step
Epoch 80/100
876/876 - 19s - loss: 0.5907 - accuracy: 0.7822 - val_loss: 0.6037 - val_accuracy: 0.8359 - lr: 0.0010 - 19s/epoch - 21ms/step
Epoch 81/100
876/876 - 19s - loss: 0.5903 - accuracy: 0.7810 - val_loss: 0.6316 - val_accuracy: 0.8261 - lr: 0.0010 - 19s/epoch - 21ms/step
Epoch 82/100
876/876 - 19s - loss: 0.5902 - accuracy: 0.7822 - val_loss: 0.6436 - val_accuracy: 0.8241 - lr: 0.0010 - 19s/epoch - 21ms/step
Epoch 83/100
876/876 - 18s - loss: 0.5879 - accuracy: 0.7818 - val_loss: 0.6458 - val_accuracy: 0.8249 - lr: 0.0010 - 18s/epoch - 21ms/step
Epoch 84/100
876/876 - 18s - loss: 0.5893 - accuracy: 0.7818 - val_loss: 0.6491 - val_accuracy: 0.8267 - lr: 0.0010 - 18s/epoch - 21ms/step
Epoch 85/100
876/876 - 19s - loss: 0.5889 - accuracy: 0.7831 - val_loss: 0.6417 - val_accuracy: 0.8195 - lr: 0.0010 - 19s/epoch - 21ms/step
Epoch 86/100
876/876 - 19s - loss: 0.5875 - accuracy: 0.7837 - val_loss: 0.6269 - val_accuracy: 0.8259 - lr: 0.0010 - 19s/epoch - 21ms/step
Epoch 87/100
876/876 - 19s - loss: 0.5902 - accuracy: 0.7821 - val_loss: 0.6328 - val_accuracy: 0.8205 - lr: 0.0010 - 19s/epoch - 21ms/step
Epoch 88/100
876/876 - 19s - loss: 0.5886 - accuracy: 0.7826 - val_loss: 0.6777 - val_accuracy: 0.8101 - lr: 0.0010 - 19s/epoch - 21ms/step
Epoch 89/100
876/876 - 19s - loss: 0.5894 - accuracy: 0.7814 - val_loss: 0.6412 - val_accuracy: 0.8214 - lr: 0.0010 - 19s/epoch - 21ms/step
Epoch 90/100
876/876 - 22s - loss: 0.5905 - accuracy: 0.7804 - val_loss: 0.5944 - val_accuracy: 0.8384 - lr: 0.0010 - 22s/epoch - 25ms/step
Epoch 91/100
876/876 - 20s - loss: 0.5886 - accuracy: 0.7815 - val_loss: 0.6232 - val_accuracy: 0.8340 - lr: 0.0010 - 20s/epoch - 23ms/step
Epoch 92/100
876/876 - 19s - loss: 0.5883 - accuracy: 0.7835 - val_loss: 0.6181 - val_accuracy: 0.8329 - lr: 0.0010 - 19s/epoch - 21ms/step
Epoch 93/100
876/876 - 20s - loss: 0.5859 - accuracy: 0.7833 - val_loss: 0.6392 - val_accuracy: 0.8224 - lr: 0.0010 - 20s/epoch - 23ms/step
Epoch 94/100
876/876 - 18s - loss: 0.5849 - accuracy: 0.7854 - val_loss: 0.6207 - val_accuracy: 0.8334 - lr: 0.0010 - 18s/epoch - 21ms/step
Epoch 95/100
876/876 - 19s - loss: 0.5864 - accuracy: 0.7833 - val_loss: 0.6269 - val_accuracy: 0.8326 - lr: 0.0010 - 19s/epoch - 21ms/step
Epoch 96/100
876/876 - 19s - loss: 0.5871 - accuracy: 0.7831 - val_loss: 0.6156 - val_accuracy: 0.8315 - lr: 0.0010 - 19s/epoch - 22ms/step
Epoch 97/100
876/876 - 23s - loss: 0.5868 - accuracy: 0.7829 - val_loss: 0.6328 - val_accuracy: 0.8330 - lr: 0.0010 - 23s/epoch - 26ms/step
Epoch 98/100
876/876 - 28s - loss: 0.5854 - accuracy: 0.7841 - val_loss: 0.6473 - val_accuracy: 0.8204 - lr: 0.0010 - 28s/epoch - 32ms/step
Epoch 99/100
876/876 - 20s - loss: 0.5850 - accuracy: 0.7847 - val_loss: 0.6413 - val_accuracy: 0.8272 - lr: 0.0010 - 20s/epoch - 23ms/step
Epoch 100/100
876/876 - 21s - loss: 0.5845 - accuracy: 0.7844 - val_loss: 0.6611 - val_accuracy: 0.8151 - lr: 0.0010 - 21s/epoch - 24ms/step
fitting with batch size: 500
Epoch 1/100
176/176 - 19s - loss: 0.5766 - accuracy: 0.7882 - val_loss: 0.6353 - val_accuracy: 0.8235 - lr: 0.0010 - 19s/epoch - 110ms/step
Epoch 2/100
176/176 - 10s - loss: 0.5743 - accuracy: 0.7888 - val_loss: 0.6470 - val_accuracy: 0.8222 - lr: 0.0010 - 10s/epoch - 55ms/step
Epoch 3/100
176/176 - 10s - loss: 0.5734 - accuracy: 0.7891 - val_loss: 0.6343 - val_accuracy: 0.8285 - lr: 0.0010 - 10s/epoch - 59ms/step
Epoch 4/100
176/176 - 10s - loss: 0.5754 - accuracy: 0.7897 - val_loss: 0.6292 - val_accuracy: 0.8248 - lr: 0.0010 - 10s/epoch - 56ms/step
Epoch 5/100
176/176 - 10s - loss: 0.5740 - accuracy: 0.7881 - val_loss: 0.6268 - val_accuracy: 0.8266 - lr: 0.0010 - 10s/epoch - 56ms/step
Epoch 6/100
176/176 - 10s - loss: 0.5752 - accuracy: 0.7883 - val_loss: 0.6424 - val_accuracy: 0.8216 - lr: 0.0010 - 10s/epoch - 57ms/step
Epoch 7/100
176/176 - 10s - loss: 0.5736 - accuracy: 0.7894 - val_loss: 0.6540 - val_accuracy: 0.8201 - lr: 0.0010 - 10s/epoch - 57ms/step
Epoch 8/100
176/176 - 10s - loss: 0.5743 - accuracy: 0.7894 - val_loss: 0.6310 - val_accuracy: 0.8257 - lr: 0.0010 - 10s/epoch - 56ms/step
Epoch 9/100
176/176 - 10s - loss: 0.5716 - accuracy: 0.7897 - val_loss: 0.6197 - val_accuracy: 0.8330 - lr: 0.0010 - 10s/epoch - 56ms/step
Epoch 10/100
176/176 - 10s - loss: 0.5739 - accuracy: 0.7905 - val_loss: 0.6397 - val_accuracy: 0.8244 - lr: 0.0010 - 10s/epoch - 57ms/step
Epoch 11/100
176/176 - 11s - loss: 0.5737 - accuracy: 0.7886 - val_loss: 0.6266 - val_accuracy: 0.8295 - lr: 0.0010 - 11s/epoch - 60ms/step
Epoch 12/100
176/176 - 16s - loss: 0.5722 - accuracy: 0.7906 - val_loss: 0.6337 - val_accuracy: 0.8293 - lr: 0.0010 - 16s/epoch - 93ms/step
Epoch 13/100
176/176 - 9s - loss: 0.5741 - accuracy: 0.7906 - val_loss: 0.6249 - val_accuracy: 0.8301 - lr: 0.0010 - 9s/epoch - 49ms/step
Epoch 14/100
176/176 - 12s - loss: 0.5743 - accuracy: 0.7880 - val_loss: 0.6146 - val_accuracy: 0.8303 - lr: 0.0010 - 12s/epoch - 68ms/step
Epoch 15/100
176/176 - 8s - loss: 0.5725 - accuracy: 0.7911 - val_loss: 0.6541 - val_accuracy: 0.8209 - lr: 0.0010 - 8s/epoch - 48ms/step
Epoch 16/100
176/176 - 9s - loss: 0.5721 - accuracy: 0.7909 - val_loss: 0.6614 - val_accuracy: 0.8132 - lr: 0.0010 - 9s/epoch - 52ms/step
Epoch 17/100
176/176 - 13s - loss: 0.5725 - accuracy: 0.7895 - val_loss: 0.6404 - val_accuracy: 0.8212 - lr: 0.0010 - 13s/epoch - 73ms/step
Epoch 18/100
176/176 - 12s - loss: 0.5751 - accuracy: 0.7890 - val_loss: 0.6527 - val_accuracy: 0.8194 - lr: 0.0010 - 12s/epoch - 67ms/step
Epoch 19/100
176/176 - 10s - loss: 0.5727 - accuracy: 0.7890 - val_loss: 0.6338 - val_accuracy: 0.8281 - lr: 0.0010 - 10s/epoch - 59ms/step
Epoch 20/100
176/176 - 10s - loss: 0.5734 - accuracy: 0.7902 - val_loss: 0.6367 - val_accuracy: 0.8260 - lr: 0.0010 - 10s/epoch - 57ms/step
Epoch 21/100
176/176 - 13s - loss: 0.5727 - accuracy: 0.7903 - val_loss: 0.6313 - val_accuracy: 0.8301 - lr: 0.0010 - 13s/epoch - 77ms/step
Epoch 22/100
176/176 - 18s - loss: 0.5719 - accuracy: 0.7899 - val_loss: 0.6249 - val_accuracy: 0.8276 - lr: 0.0010 - 18s/epoch - 105ms/step
Epoch 23/100
176/176 - 11s - loss: 0.5724 - accuracy: 0.7902 - val_loss: 0.6320 - val_accuracy: 0.8243 - lr: 0.0010 - 11s/epoch - 63ms/step
Epoch 24/100
176/176 - 10s - loss: 0.5707 - accuracy: 0.7887 - val_loss: 0.6184 - val_accuracy: 0.8315 - lr: 0.0010 - 10s/epoch - 58ms/step
Epoch 25/100
176/176 - 10s - loss: 0.5712 - accuracy: 0.7909 - val_loss: 0.6313 - val_accuracy: 0.8284 - lr: 0.0010 - 10s/epoch - 56ms/step
Epoch 26/100
176/176 - 10s - loss: 0.5717 - accuracy: 0.7886 - val_loss: 0.6288 - val_accuracy: 0.8257 - lr: 0.0010 - 10s/epoch - 59ms/step
Epoch 27/100
176/176 - 11s - loss: 0.5732 - accuracy: 0.7903 - val_loss: 0.6043 - val_accuracy: 0.8373 - lr: 0.0010 - 11s/epoch - 64ms/step
Epoch 28/100
176/176 - 10s - loss: 0.5708 - accuracy: 0.7912 - val_loss: 0.6467 - val_accuracy: 0.8213 - lr: 0.0010 - 10s/epoch - 57ms/step
Epoch 29/100
176/176 - 10s - loss: 0.5707 - accuracy: 0.7905 - val_loss: 0.6201 - val_accuracy: 0.8335 - lr: 0.0010 - 10s/epoch - 57ms/step
Epoch 30/100
176/176 - 10s - loss: 0.5727 - accuracy: 0.7891 - val_loss: 0.6291 - val_accuracy: 0.8259 - lr: 0.0010 - 10s/epoch - 57ms/step
Epoch 31/100
176/176 - 10s - loss: 0.5704 - accuracy: 0.7910 - val_loss: 0.6149 - val_accuracy: 0.8320 - lr: 0.0010 - 10s/epoch - 58ms/step
Epoch 32/100
176/176 - 10s - loss: 0.5711 - accuracy: 0.7906 - val_loss: 0.6131 - val_accuracy: 0.8372 - lr: 0.0010 - 10s/epoch - 58ms/step
Epoch 33/100
176/176 - 11s - loss: 0.5714 - accuracy: 0.7911 - val_loss: 0.6433 - val_accuracy: 0.8231 - lr: 0.0010 - 11s/epoch - 60ms/step
Epoch 34/100
176/176 - 12s - loss: 0.5731 - accuracy: 0.7898 - val_loss: 0.6346 - val_accuracy: 0.8270 - lr: 0.0010 - 12s/epoch - 69ms/step
Epoch 35/100
176/176 - 12s - loss: 0.5688 - accuracy: 0.7903 - val_loss: 0.6357 - val_accuracy: 0.8277 - lr: 0.0010 - 12s/epoch - 67ms/step
Epoch 36/100
176/176 - 11s - loss: 0.5704 - accuracy: 0.7914 - val_loss: 0.6584 - val_accuracy: 0.8210 - lr: 0.0010 - 11s/epoch - 64ms/step
Epoch 37/100
176/176 - 10s - loss: 0.5710 - accuracy: 0.7911 - val_loss: 0.6439 - val_accuracy: 0.8238 - lr: 0.0010 - 10s/epoch - 56ms/step
Epoch 38/100
176/176 - 10s - loss: 0.5706 - accuracy: 0.7917 - val_loss: 0.6458 - val_accuracy: 0.8182 - lr: 0.0010 - 10s/epoch - 56ms/step
Epoch 39/100
176/176 - 10s - loss: 0.5719 - accuracy: 0.7903 - val_loss: 0.6299 - val_accuracy: 0.8279 - lr: 0.0010 - 10s/epoch - 57ms/step
Epoch 40/100
176/176 - 13s - loss: 0.5707 - accuracy: 0.7899 - val_loss: 0.6521 - val_accuracy: 0.8167 - lr: 0.0010 - 13s/epoch - 72ms/step
Epoch 41/100
176/176 - 11s - loss: 0.5693 - accuracy: 0.7919 - val_loss: 0.6533 - val_accuracy: 0.8178 - lr: 0.0010 - 11s/epoch - 63ms/step
Epoch 42/100
176/176 - 10s - loss: 0.5705 - accuracy: 0.7899 - val_loss: 0.6234 - val_accuracy: 0.8275 - lr: 0.0010 - 10s/epoch - 59ms/step
Epoch 43/100
176/176 - 10s - loss: 0.5713 - accuracy: 0.7885 - val_loss: 0.6337 - val_accuracy: 0.8284 - lr: 0.0010 - 10s/epoch - 59ms/step
Epoch 44/100
176/176 - 11s - loss: 0.5699 - accuracy: 0.7908 - val_loss: 0.6374 - val_accuracy: 0.8285 - lr: 0.0010 - 11s/epoch - 63ms/step
Epoch 45/100
176/176 - 11s - loss: 0.5701 - accuracy: 0.7899 - val_loss: 0.6270 - val_accuracy: 0.8288 - lr: 0.0010 - 11s/epoch - 63ms/step
Epoch 46/100
176/176 - 10s - loss: 0.5703 - accuracy: 0.7905 - val_loss: 0.6038 - val_accuracy: 0.8384 - lr: 0.0010 - 10s/epoch - 59ms/step
Epoch 47/100
176/176 - 10s - loss: 0.5702 - accuracy: 0.7907 - val_loss: 0.6401 - val_accuracy: 0.8216 - lr: 0.0010 - 10s/epoch - 57ms/step
Epoch 48/100
176/176 - 12s - loss: 0.5710 - accuracy: 0.7911 - val_loss: 0.6430 - val_accuracy: 0.8232 - lr: 0.0010 - 12s/epoch - 67ms/step
Epoch 49/100
176/176 - 11s - loss: 0.5696 - accuracy: 0.7906 - val_loss: 0.6288 - val_accuracy: 0.8258 - lr: 0.0010 - 11s/epoch - 62ms/step
Epoch 50/100
176/176 - 10s - loss: 0.5696 - accuracy: 0.7914 - val_loss: 0.6553 - val_accuracy: 0.8185 - lr: 0.0010 - 10s/epoch - 55ms/step
Epoch 51/100
176/176 - 11s - loss: 0.5695 - accuracy: 0.7911 - val_loss: 0.6330 - val_accuracy: 0.8256 - lr: 0.0010 - 11s/epoch - 62ms/step
Epoch 52/100
176/176 - 11s - loss: 0.5705 - accuracy: 0.7907 - val_loss: 0.6456 - val_accuracy: 0.8208 - lr: 0.0010 - 11s/epoch - 65ms/step
Epoch 53/100
176/176 - 11s - loss: 0.5699 - accuracy: 0.7905 - val_loss: 0.6133 - val_accuracy: 0.8344 - lr: 0.0010 - 11s/epoch - 64ms/step
Epoch 54/100
176/176 - 11s - loss: 0.5695 - accuracy: 0.7916 - val_loss: 0.6200 - val_accuracy: 0.8301 - lr: 0.0010 - 11s/epoch - 64ms/step
Epoch 55/100
176/176 - 11s - loss: 0.5689 - accuracy: 0.7912 - val_loss: 0.6347 - val_accuracy: 0.8254 - lr: 0.0010 - 11s/epoch - 64ms/step
Epoch 56/100
176/176 - 11s - loss: 0.5695 - accuracy: 0.7908 - val_loss: 0.6468 - val_accuracy: 0.8237 - lr: 0.0010 - 11s/epoch - 64ms/step
Epoch 57/100
176/176 - 11s - loss: 0.5685 - accuracy: 0.7911 - val_loss: 0.6447 - val_accuracy: 0.8195 - lr: 0.0010 - 11s/epoch - 64ms/step
Epoch 58/100
176/176 - 11s - loss: 0.5700 - accuracy: 0.7906 - val_loss: 0.6534 - val_accuracy: 0.8194 - lr: 0.0010 - 11s/epoch - 64ms/step
Epoch 59/100
176/176 - 11s - loss: 0.5703 - accuracy: 0.7918 - val_loss: 0.6327 - val_accuracy: 0.8278 - lr: 0.0010 - 11s/epoch - 61ms/step
Epoch 60/100
176/176 - 11s - loss: 0.5697 - accuracy: 0.7906 - val_loss: 0.6332 - val_accuracy: 0.8314 - lr: 0.0010 - 11s/epoch - 63ms/step
Epoch 61/100
176/176 - 12s - loss: 0.5667 - accuracy: 0.7902 - val_loss: 0.6222 - val_accuracy: 0.8288 - lr: 0.0010 - 12s/epoch - 67ms/step
Epoch 62/100
176/176 - 12s - loss: 0.5697 - accuracy: 0.7910 - val_loss: 0.6309 - val_accuracy: 0.8268 - lr: 0.0010 - 12s/epoch - 67ms/step
Epoch 63/100
176/176 - 11s - loss: 0.5685 - accuracy: 0.7916 - val_loss: 0.6033 - val_accuracy: 0.8378 - lr: 0.0010 - 11s/epoch - 65ms/step
Epoch 64/100
176/176 - 11s - loss: 0.5688 - accuracy: 0.7909 - val_loss: 0.6376 - val_accuracy: 0.8229 - lr: 0.0010 - 11s/epoch - 64ms/step
Epoch 65/100
176/176 - 12s - loss: 0.5692 - accuracy: 0.7917 - val_loss: 0.6156 - val_accuracy: 0.8315 - lr: 0.0010 - 12s/epoch - 70ms/step
Epoch 66/100
176/176 - 13s - loss: 0.5671 - accuracy: 0.7916 - val_loss: 0.6268 - val_accuracy: 0.8305 - lr: 0.0010 - 13s/epoch - 72ms/step
Epoch 67/100
176/176 - 12s - loss: 0.5699 - accuracy: 0.7912 - val_loss: 0.6360 - val_accuracy: 0.8273 - lr: 0.0010 - 12s/epoch - 70ms/step
Epoch 68/100
176/176 - 12s - loss: 0.5696 - accuracy: 0.7906 - val_loss: 0.6271 - val_accuracy: 0.8239 - lr: 0.0010 - 12s/epoch - 69ms/step
Epoch 69/100
176/176 - 12s - loss: 0.5686 - accuracy: 0.7914 - val_loss: 0.6120 - val_accuracy: 0.8315 - lr: 0.0010 - 12s/epoch - 70ms/step
Epoch 70/100
176/176 - 12s - loss: 0.5686 - accuracy: 0.7915 - val_loss: 0.6178 - val_accuracy: 0.8308 - lr: 0.0010 - 12s/epoch - 69ms/step
Epoch 71/100
176/176 - 12s - loss: 0.5682 - accuracy: 0.7917 - val_loss: 0.6306 - val_accuracy: 0.8251 - lr: 0.0010 - 12s/epoch - 69ms/step
Epoch 72/100
176/176 - 12s - loss: 0.5684 - accuracy: 0.7904 - val_loss: 0.6504 - val_accuracy: 0.8182 - lr: 0.0010 - 12s/epoch - 70ms/step
Epoch 73/100
176/176 - 12s - loss: 0.5701 - accuracy: 0.7906 - val_loss: 0.6571 - val_accuracy: 0.8192 - lr: 0.0010 - 12s/epoch - 67ms/step
Epoch 74/100
176/176 - 12s - loss: 0.5665 - accuracy: 0.7926 - val_loss: 0.6371 - val_accuracy: 0.8254 - lr: 0.0010 - 12s/epoch - 67ms/step
Epoch 75/100
176/176 - 11s - loss: 0.5678 - accuracy: 0.7913 - val_loss: 0.6174 - val_accuracy: 0.8289 - lr: 0.0010 - 11s/epoch - 65ms/step
Epoch 76/100
176/176 - 11s - loss: 0.5688 - accuracy: 0.7921 - val_loss: 0.6557 - val_accuracy: 0.8177 - lr: 0.0010 - 11s/epoch - 64ms/step
Epoch 77/100
176/176 - 11s - loss: 0.5685 - accuracy: 0.7912 - val_loss: 0.6323 - val_accuracy: 0.8233 - lr: 0.0010 - 11s/epoch - 65ms/step
Epoch 78/100
176/176 - 11s - loss: 0.5680 - accuracy: 0.7921 - val_loss: 0.6432 - val_accuracy: 0.8240 - lr: 0.0010 - 11s/epoch - 65ms/step
Epoch 79/100
176/176 - 11s - loss: 0.5687 - accuracy: 0.7918 - val_loss: 0.6312 - val_accuracy: 0.8298 - lr: 0.0010 - 11s/epoch - 65ms/step
Epoch 80/100
176/176 - 12s - loss: 0.5679 - accuracy: 0.7909 - val_loss: 0.6305 - val_accuracy: 0.8246 - lr: 0.0010 - 12s/epoch - 70ms/step
Epoch 81/100
176/176 - 13s - loss: 0.5678 - accuracy: 0.7915 - val_loss: 0.6283 - val_accuracy: 0.8259 - lr: 0.0010 - 13s/epoch - 72ms/step
Epoch 82/100
176/176 - 13s - loss: 0.5656 - accuracy: 0.7929 - val_loss: 0.6321 - val_accuracy: 0.8244 - lr: 0.0010 - 13s/epoch - 72ms/step
Epoch 83/100
176/176 - 12s - loss: 0.5681 - accuracy: 0.7917 - val_loss: 0.6397 - val_accuracy: 0.8208 - lr: 0.0010 - 12s/epoch - 71ms/step
Epoch 84/100
176/176 - 12s - loss: 0.5675 - accuracy: 0.7924 - val_loss: 0.6440 - val_accuracy: 0.8228 - lr: 0.0010 - 12s/epoch - 70ms/step
Epoch 85/100
176/176 - 13s - loss: 0.5680 - accuracy: 0.7924 - val_loss: 0.6268 - val_accuracy: 0.8267 - lr: 0.0010 - 13s/epoch - 73ms/step
Epoch 86/100
176/176 - 13s - loss: 0.5674 - accuracy: 0.7925 - val_loss: 0.6252 - val_accuracy: 0.8299 - lr: 0.0010 - 13s/epoch - 74ms/step
Epoch 87/100
176/176 - 13s - loss: 0.5669 - accuracy: 0.7928 - val_loss: 0.6440 - val_accuracy: 0.8218 - lr: 0.0010 - 13s/epoch - 75ms/step
Epoch 88/100
176/176 - 13s - loss: 0.5669 - accuracy: 0.7937 - val_loss: 0.6386 - val_accuracy: 0.8214 - lr: 0.0010 - 13s/epoch - 72ms/step
Epoch 89/100
176/176 - 13s - loss: 0.5658 - accuracy: 0.7928 - val_loss: 0.6292 - val_accuracy: 0.8265 - lr: 0.0010 - 13s/epoch - 73ms/step
Epoch 90/100
176/176 - 13s - loss: 0.5664 - accuracy: 0.7931 - val_loss: 0.6289 - val_accuracy: 0.8276 - lr: 0.0010 - 13s/epoch - 73ms/step
Epoch 91/100
176/176 - 13s - loss: 0.5662 - accuracy: 0.7919 - val_loss: 0.6341 - val_accuracy: 0.8281 - lr: 0.0010 - 13s/epoch - 73ms/step
Epoch 92/100
176/176 - 13s - loss: 0.5662 - accuracy: 0.7915 - val_loss: 0.6359 - val_accuracy: 0.8219 - lr: 0.0010 - 13s/epoch - 73ms/step
Epoch 93/100
176/176 - 13s - loss: 0.5661 - accuracy: 0.7925 - val_loss: 0.6111 - val_accuracy: 0.8340 - lr: 0.0010 - 13s/epoch - 74ms/step
Epoch 94/100
176/176 - 13s - loss: 0.5664 - accuracy: 0.7923 - val_loss: 0.6056 - val_accuracy: 0.8383 - lr: 0.0010 - 13s/epoch - 75ms/step
Epoch 95/100
176/176 - 13s - loss: 0.5650 - accuracy: 0.7923 - val_loss: 0.6310 - val_accuracy: 0.8256 - lr: 0.0010 - 13s/epoch - 75ms/step
Epoch 96/100
176/176 - 13s - loss: 0.5663 - accuracy: 0.7926 - val_loss: 0.6242 - val_accuracy: 0.8277 - lr: 0.0010 - 13s/epoch - 71ms/step
Epoch 97/100
176/176 - 13s - loss: 0.5663 - accuracy: 0.7921 - val_loss: 0.6437 - val_accuracy: 0.8217 - lr: 0.0010 - 13s/epoch - 73ms/step
Epoch 98/100
176/176 - 12s - loss: 0.5657 - accuracy: 0.7930 - val_loss: 0.6584 - val_accuracy: 0.8155 - lr: 0.0010 - 12s/epoch - 68ms/step
Epoch 99/100
176/176 - 10s - loss: 0.5647 - accuracy: 0.7927 - val_loss: 0.6421 - val_accuracy: 0.8243 - lr: 0.0010 - 10s/epoch - 55ms/step
Epoch 100/100
176/176 - 9s - loss: 0.5651 - accuracy: 0.7926 - val_loss: 0.6376 - val_accuracy: 0.8225 - lr: 0.0010 - 9s/epoch - 49ms/step
fitting with batch size: 1500
Epoch 1/100
59/59 - 17s - loss: 0.5643 - accuracy: 0.7938 - val_loss: 0.6361 - val_accuracy: 0.8253 - lr: 0.0010 - 17s/epoch - 288ms/step
Epoch 2/100
59/59 - 13s - loss: 0.5644 - accuracy: 0.7935 - val_loss: 0.6384 - val_accuracy: 0.8251 - lr: 0.0010 - 13s/epoch - 223ms/step
Epoch 3/100
59/59 - 14s - loss: 0.5641 - accuracy: 0.7942 - val_loss: 0.6350 - val_accuracy: 0.8264 - lr: 0.0010 - 14s/epoch - 238ms/step
Epoch 4/100
59/59 - 15s - loss: 0.5652 - accuracy: 0.7932 - val_loss: 0.6327 - val_accuracy: 0.8264 - lr: 0.0010 - 15s/epoch - 246ms/step
Epoch 5/100
59/59 - 14s - loss: 0.5641 - accuracy: 0.7937 - val_loss: 0.6346 - val_accuracy: 0.8249 - lr: 0.0010 - 14s/epoch - 243ms/step
Epoch 6/100
59/59 - 14s - loss: 0.5638 - accuracy: 0.7943 - val_loss: 0.6331 - val_accuracy: 0.8250 - lr: 0.0010 - 14s/epoch - 244ms/step
Epoch 7/100
59/59 - 14s - loss: 0.5642 - accuracy: 0.7946 - val_loss: 0.6219 - val_accuracy: 0.8286 - lr: 0.0010 - 14s/epoch - 232ms/step
Epoch 8/100
59/59 - 13s - loss: 0.5636 - accuracy: 0.7939 - val_loss: 0.6345 - val_accuracy: 0.8253 - lr: 0.0010 - 13s/epoch - 225ms/step
Epoch 9/100
59/59 - 14s - loss: 0.5630 - accuracy: 0.7940 - val_loss: 0.6338 - val_accuracy: 0.8277 - lr: 0.0010 - 14s/epoch - 237ms/step
Epoch 10/100
59/59 - 14s - loss: 0.5631 - accuracy: 0.7938 - val_loss: 0.6275 - val_accuracy: 0.8284 - lr: 0.0010 - 14s/epoch - 237ms/step
Epoch 11/100
59/59 - 14s - loss: 0.5647 - accuracy: 0.7936 - val_loss: 0.6315 - val_accuracy: 0.8266 - lr: 0.0010 - 14s/epoch - 239ms/step
Epoch 12/100
59/59 - 13s - loss: 0.5641 - accuracy: 0.7930 - val_loss: 0.6350 - val_accuracy: 0.8239 - lr: 0.0010 - 13s/epoch - 227ms/step
Epoch 13/100
59/59 - 12s - loss: 0.5631 - accuracy: 0.7940 - val_loss: 0.6393 - val_accuracy: 0.8240 - lr: 0.0010 - 12s/epoch - 204ms/step
Epoch 14/100
59/59 - 14s - loss: 0.5635 - accuracy: 0.7928 - val_loss: 0.6380 - val_accuracy: 0.8240 - lr: 0.0010 - 14s/epoch - 233ms/step
Epoch 15/100
59/59 - 14s - loss: 0.5621 - accuracy: 0.7949 - val_loss: 0.6377 - val_accuracy: 0.8236 - lr: 0.0010 - 14s/epoch - 230ms/step
Epoch 16/100
59/59 - 14s - loss: 0.5639 - accuracy: 0.7933 - val_loss: 0.6377 - val_accuracy: 0.8252 - lr: 0.0010 - 14s/epoch - 234ms/step
Epoch 17/100
59/59 - 12s - loss: 0.5633 - accuracy: 0.7941 - val_loss: 0.6354 - val_accuracy: 0.8255 - lr: 0.0010 - 12s/epoch - 211ms/step
Epoch 18/100
59/59 - 13s - loss: 0.5614 - accuracy: 0.7950 - val_loss: 0.6329 - val_accuracy: 0.8272 - lr: 0.0010 - 13s/epoch - 224ms/step
Epoch 19/100
59/59 - 13s - loss: 0.5639 - accuracy: 0.7935 - val_loss: 0.6324 - val_accuracy: 0.8262 - lr: 0.0010 - 13s/epoch - 219ms/step
Epoch 20/100
59/59 - 13s - loss: 0.5626 - accuracy: 0.7942 - val_loss: 0.6225 - val_accuracy: 0.8292 - lr: 0.0010 - 13s/epoch - 223ms/step
Epoch 21/100
59/59 - 14s - loss: 0.5646 - accuracy: 0.7946 - val_loss: 0.6305 - val_accuracy: 0.8255 - lr: 0.0010 - 14s/epoch - 244ms/step
Epoch 22/100
59/59 - 15s - loss: 0.5640 - accuracy: 0.7925 - val_loss: 0.6359 - val_accuracy: 0.8249 - lr: 0.0010 - 15s/epoch - 247ms/step
Epoch 23/100
59/59 - 14s - loss: 0.5625 - accuracy: 0.7944 - val_loss: 0.6283 - val_accuracy: 0.8297 - lr: 0.0010 - 14s/epoch - 239ms/step
Epoch 24/100
59/59 - 13s - loss: 0.5614 - accuracy: 0.7940 - val_loss: 0.6397 - val_accuracy: 0.8239 - lr: 0.0010 - 13s/epoch - 212ms/step
Epoch 25/100
59/59 - 12s - loss: 0.5636 - accuracy: 0.7931 - val_loss: 0.6318 - val_accuracy: 0.8258 - lr: 0.0010 - 12s/epoch - 201ms/step
Epoch 26/100
59/59 - 12s - loss: 0.5634 - accuracy: 0.7941 - val_loss: 0.6313 - val_accuracy: 0.8274 - lr: 0.0010 - 12s/epoch - 207ms/step
Epoch 27/100
59/59 - 14s - loss: 0.5641 - accuracy: 0.7936 - val_loss: 0.6328 - val_accuracy: 0.8269 - lr: 0.0010 - 14s/epoch - 242ms/step
Epoch 28/100
59/59 - 15s - loss: 0.5638 - accuracy: 0.7931 - val_loss: 0.6289 - val_accuracy: 0.8279 - lr: 0.0010 - 15s/epoch - 246ms/step
Epoch 29/100
59/59 - 15s - loss: 0.5635 - accuracy: 0.7935 - val_loss: 0.6342 - val_accuracy: 0.8250 - lr: 0.0010 - 15s/epoch - 250ms/step
Epoch 30/100
59/59 - 14s - loss: 0.5637 - accuracy: 0.7940 - val_loss: 0.6361 - val_accuracy: 0.8256 - lr: 0.0010 - 14s/epoch - 245ms/step
Epoch 31/100
59/59 - 14s - loss: 0.5637 - accuracy: 0.7934 - val_loss: 0.6406 - val_accuracy: 0.8239 - lr: 0.0010 - 14s/epoch - 234ms/step
Epoch 32/100
59/59 - 14s - loss: 0.5636 - accuracy: 0.7933 - val_loss: 0.6387 - val_accuracy: 0.8229 - lr: 0.0010 - 14s/epoch - 242ms/step
Epoch 33/100
59/59 - 15s - loss: 0.5625 - accuracy: 0.7942 - val_loss: 0.6267 - val_accuracy: 0.8261 - lr: 0.0010 - 15s/epoch - 251ms/step
Epoch 34/100
59/59 - 14s - loss: 0.5622 - accuracy: 0.7945 - val_loss: 0.6346 - val_accuracy: 0.8266 - lr: 0.0010 - 14s/epoch - 243ms/step
Epoch 35/100
59/59 - 15s - loss: 0.5628 - accuracy: 0.7949 - val_loss: 0.6309 - val_accuracy: 0.8273 - lr: 0.0010 - 15s/epoch - 250ms/step
Epoch 36/100
59/59 - 14s - loss: 0.5632 - accuracy: 0.7937 - val_loss: 0.6377 - val_accuracy: 0.8252 - lr: 0.0010 - 14s/epoch - 243ms/step
Epoch 37/100
59/59 - 14s - loss: 0.5630 - accuracy: 0.7943 - val_loss: 0.6314 - val_accuracy: 0.8260 - lr: 0.0010 - 14s/epoch - 229ms/step
Epoch 38/100
59/59 - 13s - loss: 0.5636 - accuracy: 0.7931 - val_loss: 0.6316 - val_accuracy: 0.8262 - lr: 0.0010 - 13s/epoch - 228ms/step
Epoch 39/100
59/59 - 15s - loss: 0.5615 - accuracy: 0.7933 - val_loss: 0.6364 - val_accuracy: 0.8255 - lr: 0.0010 - 15s/epoch - 254ms/step
Epoch 40/100
59/59 - 16s - loss: 0.5620 - accuracy: 0.7943 - val_loss: 0.6363 - val_accuracy: 0.8248 - lr: 0.0010 - 16s/epoch - 263ms/step
Epoch 41/100
59/59 - 15s - loss: 0.5657 - accuracy: 0.7926 - val_loss: 0.6283 - val_accuracy: 0.8298 - lr: 0.0010 - 15s/epoch - 262ms/step
Epoch 42/100
59/59 - 14s - loss: 0.5629 - accuracy: 0.7941 - val_loss: 0.6327 - val_accuracy: 0.8272 - lr: 0.0010 - 14s/epoch - 242ms/step
Epoch 43/100
59/59 - 14s - loss: 0.5633 - accuracy: 0.7930 - val_loss: 0.6340 - val_accuracy: 0.8262 - lr: 0.0010 - 14s/epoch - 232ms/step
Epoch 44/100
59/59 - 15s - loss: 0.5623 - accuracy: 0.7938 - val_loss: 0.6359 - val_accuracy: 0.8259 - lr: 0.0010 - 15s/epoch - 251ms/step
Epoch 45/100
59/59 - 14s - loss: 0.5634 - accuracy: 0.7944 - val_loss: 0.6262 - val_accuracy: 0.8285 - lr: 0.0010 - 14s/epoch - 238ms/step
Epoch 46/100
59/59 - 14s - loss: 0.5623 - accuracy: 0.7941 - val_loss: 0.6287 - val_accuracy: 0.8273 - lr: 0.0010 - 14s/epoch - 229ms/step
Epoch 47/100
59/59 - 14s - loss: 0.5629 - accuracy: 0.7933 - val_loss: 0.6372 - val_accuracy: 0.8248 - lr: 0.0010 - 14s/epoch - 231ms/step
Epoch 48/100
59/59 - 14s - loss: 0.5642 - accuracy: 0.7949 - val_loss: 0.6331 - val_accuracy: 0.8264 - lr: 0.0010 - 14s/epoch - 232ms/step
Epoch 49/100
59/59 - 14s - loss: 0.5639 - accuracy: 0.7946 - val_loss: 0.6340 - val_accuracy: 0.8259 - lr: 0.0010 - 14s/epoch - 236ms/step
Epoch 50/100
59/59 - 14s - loss: 0.5622 - accuracy: 0.7949 - val_loss: 0.6373 - val_accuracy: 0.8256 - lr: 0.0010 - 14s/epoch - 241ms/step
Epoch 51/100
59/59 - 14s - loss: 0.5627 - accuracy: 0.7937 - val_loss: 0.6435 - val_accuracy: 0.8223 - lr: 0.0010 - 14s/epoch - 232ms/step
Epoch 52/100
59/59 - 15s - loss: 0.5617 - accuracy: 0.7948 - val_loss: 0.6403 - val_accuracy: 0.8240 - lr: 0.0010 - 15s/epoch - 248ms/step
Epoch 53/100
59/59 - 15s - loss: 0.5620 - accuracy: 0.7940 - val_loss: 0.6387 - val_accuracy: 0.8253 - lr: 0.0010 - 15s/epoch - 248ms/step
Epoch 54/100
59/59 - 14s - loss: 0.5624 - accuracy: 0.7935 - val_loss: 0.6312 - val_accuracy: 0.8289 - lr: 0.0010 - 14s/epoch - 242ms/step
Epoch 55/100
59/59 - 15s - loss: 0.5622 - accuracy: 0.7951 - val_loss: 0.6324 - val_accuracy: 0.8267 - lr: 0.0010 - 15s/epoch - 253ms/step
Epoch 56/100
59/59 - 14s - loss: 0.5630 - accuracy: 0.7946 - val_loss: 0.6409 - val_accuracy: 0.8237 - lr: 0.0010 - 14s/epoch - 235ms/step
Epoch 57/100
59/59 - 14s - loss: 0.5625 - accuracy: 0.7950 - val_loss: 0.6445 - val_accuracy: 0.8224 - lr: 0.0010 - 14s/epoch - 241ms/step
Epoch 58/100
59/59 - 14s - loss: 0.5626 - accuracy: 0.7939 - val_loss: 0.6281 - val_accuracy: 0.8281 - lr: 0.0010 - 14s/epoch - 229ms/step
Epoch 59/100
59/59 - 13s - loss: 0.5612 - accuracy: 0.7948 - val_loss: 0.6292 - val_accuracy: 0.8282 - lr: 0.0010 - 13s/epoch - 228ms/step
Epoch 60/100
59/59 - 13s - loss: 0.5625 - accuracy: 0.7938 - val_loss: 0.6380 - val_accuracy: 0.8254 - lr: 0.0010 - 13s/epoch - 228ms/step
Epoch 61/100
59/59 - 13s - loss: 0.5620 - accuracy: 0.7930 - val_loss: 0.6408 - val_accuracy: 0.8251 - lr: 0.0010 - 13s/epoch - 216ms/step
Epoch 62/100
59/59 - 13s - loss: 0.5620 - accuracy: 0.7943 - val_loss: 0.6316 - val_accuracy: 0.8271 - lr: 0.0010 - 13s/epoch - 226ms/step
Epoch 63/100
59/59 - 14s - loss: 0.5604 - accuracy: 0.7952 - val_loss: 0.6336 - val_accuracy: 0.8279 - lr: 0.0010 - 14s/epoch - 239ms/step
Epoch 64/100
59/59 - 14s - loss: 0.5611 - accuracy: 0.7945 - val_loss: 0.6335 - val_accuracy: 0.8286 - lr: 0.0010 - 14s/epoch - 243ms/step
Epoch 65/100
59/59 - 13s - loss: 0.5619 - accuracy: 0.7953 - val_loss: 0.6296 - val_accuracy: 0.8265 - lr: 0.0010 - 13s/epoch - 227ms/step
Epoch 66/100
59/59 - 13s - loss: 0.5623 - accuracy: 0.7955 - val_loss: 0.6323 - val_accuracy: 0.8256 - lr: 0.0010 - 13s/epoch - 224ms/step
Epoch 67/100
59/59 - 15s - loss: 0.5616 - accuracy: 0.7937 - val_loss: 0.6403 - val_accuracy: 0.8259 - lr: 0.0010 - 15s/epoch - 250ms/step
Epoch 68/100
59/59 - 15s - loss: 0.5610 - accuracy: 0.7949 - val_loss: 0.6359 - val_accuracy: 0.8266 - lr: 0.0010 - 15s/epoch - 252ms/step
Epoch 69/100
59/59 - 14s - loss: 0.5615 - accuracy: 0.7949 - val_loss: 0.6348 - val_accuracy: 0.8237 - lr: 0.0010 - 14s/epoch - 246ms/step
Epoch 70/100
59/59 - 14s - loss: 0.5606 - accuracy: 0.7945 - val_loss: 0.6436 - val_accuracy: 0.8228 - lr: 0.0010 - 14s/epoch - 242ms/step
Epoch 71/100
59/59 - 14s - loss: 0.5627 - accuracy: 0.7937 - val_loss: 0.6340 - val_accuracy: 0.8249 - lr: 0.0010 - 14s/epoch - 243ms/step
Epoch 72/100
59/59 - 14s - loss: 0.5601 - accuracy: 0.7953 - val_loss: 0.6362 - val_accuracy: 0.8258 - lr: 0.0010 - 14s/epoch - 246ms/step
Epoch 73/100
59/59 - 15s - loss: 0.5605 - accuracy: 0.7944 - val_loss: 0.6406 - val_accuracy: 0.8230 - lr: 0.0010 - 15s/epoch - 247ms/step
Epoch 74/100
59/59 - 14s - loss: 0.5618 - accuracy: 0.7938 - val_loss: 0.6417 - val_accuracy: 0.8244 - lr: 0.0010 - 14s/epoch - 239ms/step
Epoch 75/100
59/59 - 14s - loss: 0.5631 - accuracy: 0.7939 - val_loss: 0.6288 - val_accuracy: 0.8294 - lr: 0.0010 - 14s/epoch - 234ms/step
Epoch 76/100
59/59 - 14s - loss: 0.5615 - accuracy: 0.7946 - val_loss: 0.6375 - val_accuracy: 0.8249 - lr: 0.0010 - 14s/epoch - 236ms/step
Epoch 77/100
59/59 - 14s - loss: 0.5631 - accuracy: 0.7936 - val_loss: 0.6315 - val_accuracy: 0.8256 - lr: 0.0010 - 14s/epoch - 230ms/step
Epoch 78/100
59/59 - 14s - loss: 0.5629 - accuracy: 0.7949 - val_loss: 0.6426 - val_accuracy: 0.8225 - lr: 0.0010 - 14s/epoch - 238ms/step
Epoch 79/100
59/59 - 13s - loss: 0.5603 - accuracy: 0.7961 - val_loss: 0.6333 - val_accuracy: 0.8270 - lr: 0.0010 - 13s/epoch - 227ms/step
Epoch 80/100
59/59 - 14s - loss: 0.5618 - accuracy: 0.7941 - val_loss: 0.6255 - val_accuracy: 0.8291 - lr: 0.0010 - 14s/epoch - 242ms/step
Epoch 81/100
59/59 - 14s - loss: 0.5620 - accuracy: 0.7939 - val_loss: 0.6331 - val_accuracy: 0.8261 - lr: 0.0010 - 14s/epoch - 238ms/step
Epoch 82/100
59/59 - 14s - loss: 0.5608 - accuracy: 0.7948 - val_loss: 0.6379 - val_accuracy: 0.8246 - lr: 0.0010 - 14s/epoch - 241ms/step
Epoch 83/100
59/59 - 14s - loss: 0.5605 - accuracy: 0.7952 - val_loss: 0.6329 - val_accuracy: 0.8264 - lr: 0.0010 - 14s/epoch - 244ms/step
Epoch 84/100
59/59 - 15s - loss: 0.5627 - accuracy: 0.7941 - val_loss: 0.6376 - val_accuracy: 0.8245 - lr: 0.0010 - 15s/epoch - 248ms/step
Epoch 85/100
59/59 - 14s - loss: 0.5608 - accuracy: 0.7954 - val_loss: 0.6317 - val_accuracy: 0.8261 - lr: 0.0010 - 14s/epoch - 241ms/step
Epoch 86/100
59/59 - 14s - loss: 0.5619 - accuracy: 0.7941 - val_loss: 0.6344 - val_accuracy: 0.8266 - lr: 0.0010 - 14s/epoch - 241ms/step
Epoch 87/100
59/59 - 14s - loss: 0.5605 - accuracy: 0.7956 - val_loss: 0.6307 - val_accuracy: 0.8273 - lr: 0.0010 - 14s/epoch - 245ms/step
Epoch 88/100
59/59 - 15s - loss: 0.5613 - accuracy: 0.7946 - val_loss: 0.6279 - val_accuracy: 0.8284 - lr: 0.0010 - 15s/epoch - 249ms/step
Epoch 89/100
59/59 - 15s - loss: 0.5613 - accuracy: 0.7949 - val_loss: 0.6229 - val_accuracy: 0.8289 - lr: 0.0010 - 15s/epoch - 251ms/step
Epoch 90/100
59/59 - 15s - loss: 0.5602 - accuracy: 0.7951 - val_loss: 0.6340 - val_accuracy: 0.8257 - lr: 0.0010 - 15s/epoch - 246ms/step
Epoch 91/100
59/59 - 14s - loss: 0.5617 - accuracy: 0.7945 - val_loss: 0.6326 - val_accuracy: 0.8259 - lr: 0.0010 - 14s/epoch - 231ms/step
Epoch 92/100
59/59 - 15s - loss: 0.5603 - accuracy: 0.7944 - val_loss: 0.6306 - val_accuracy: 0.8271 - lr: 0.0010 - 15s/epoch - 252ms/step
Epoch 93/100
59/59 - 15s - loss: 0.5614 - accuracy: 0.7947 - val_loss: 0.6285 - val_accuracy: 0.8272 - lr: 0.0010 - 15s/epoch - 248ms/step
Epoch 94/100
59/59 - 14s - loss: 0.5615 - accuracy: 0.7947 - val_loss: 0.6324 - val_accuracy: 0.8269 - lr: 0.0010 - 14s/epoch - 245ms/step
Epoch 95/100
59/59 - 13s - loss: 0.5615 - accuracy: 0.7948 - val_loss: 0.6257 - val_accuracy: 0.8289 - lr: 0.0010 - 13s/epoch - 226ms/step
Epoch 96/100
59/59 - 14s - loss: 0.5613 - accuracy: 0.7937 - val_loss: 0.6303 - val_accuracy: 0.8265 - lr: 0.0010 - 14s/epoch - 235ms/step
Epoch 97/100
59/59 - 14s - loss: 0.5618 - accuracy: 0.7945 - val_loss: 0.6325 - val_accuracy: 0.8271 - lr: 0.0010 - 14s/epoch - 237ms/step
Epoch 98/100
59/59 - 14s - loss: 0.5614 - accuracy: 0.7946 - val_loss: 0.6362 - val_accuracy: 0.8253 - lr: 0.0010 - 14s/epoch - 240ms/step
Epoch 99/100
59/59 - 14s - loss: 0.5595 - accuracy: 0.7958 - val_loss: 0.6336 - val_accuracy: 0.8263 - lr: 0.0010 - 14s/epoch - 242ms/step
Epoch 100/100
59/59 - 14s - loss: 0.5615 - accuracy: 0.7945 - val_loss: 0.6339 - val_accuracy: 0.8257 - lr: 0.0010 - 14s/epoch - 230ms/step
fitting with batch size: 2500
Epoch 1/100
36/36 - 16s - loss: 0.5626 - accuracy: 0.7953 - val_loss: 0.6384 - val_accuracy: 0.8266 - lr: 0.0010 - 16s/epoch - 445ms/step
Epoch 2/100
36/36 - 13s - loss: 0.5604 - accuracy: 0.7955 - val_loss: 0.6153 - val_accuracy: 0.8356 - lr: 0.0010 - 13s/epoch - 366ms/step
Epoch 3/100
36/36 - 13s - loss: 0.5612 - accuracy: 0.7951 - val_loss: 0.6568 - val_accuracy: 0.8163 - lr: 0.0010 - 13s/epoch - 356ms/step
Epoch 4/100
36/36 - 13s - loss: 0.5616 - accuracy: 0.7947 - val_loss: 0.6485 - val_accuracy: 0.8215 - lr: 0.0010 - 13s/epoch - 355ms/step
Epoch 5/100
36/36 - 14s - loss: 0.5609 - accuracy: 0.7944 - val_loss: 0.6387 - val_accuracy: 0.8201 - lr: 0.0010 - 14s/epoch - 377ms/step
Epoch 6/100
36/36 - 14s - loss: 0.5601 - accuracy: 0.7944 - val_loss: 0.6413 - val_accuracy: 0.8215 - lr: 0.0010 - 14s/epoch - 380ms/step
Epoch 7/100
36/36 - 14s - loss: 0.5600 - accuracy: 0.7949 - val_loss: 0.6518 - val_accuracy: 0.8192 - lr: 0.0010 - 14s/epoch - 375ms/step
Epoch 8/100
36/36 - 14s - loss: 0.5615 - accuracy: 0.7947 - val_loss: 0.6553 - val_accuracy: 0.8178 - lr: 0.0010 - 14s/epoch - 382ms/step
Epoch 9/100
36/36 - 12s - loss: 0.5607 - accuracy: 0.7946 - val_loss: 0.6381 - val_accuracy: 0.8228 - lr: 0.0010 - 12s/epoch - 340ms/step
Epoch 10/100
36/36 - 13s - loss: 0.5622 - accuracy: 0.7946 - val_loss: 0.6472 - val_accuracy: 0.8187 - lr: 0.0010 - 13s/epoch - 349ms/step
Epoch 11/100
36/36 - 13s - loss: 0.5624 - accuracy: 0.7947 - val_loss: 0.6230 - val_accuracy: 0.8263 - lr: 0.0010 - 13s/epoch - 358ms/step
Epoch 12/100
36/36 - 14s - loss: 0.5613 - accuracy: 0.7952 - val_loss: 0.6416 - val_accuracy: 0.8254 - lr: 0.0010 - 14s/epoch - 384ms/step
Epoch 13/100
36/36 - 14s - loss: 0.5608 - accuracy: 0.7952 - val_loss: 0.6205 - val_accuracy: 0.8255 - lr: 0.0010 - 14s/epoch - 384ms/step
Epoch 14/100
36/36 - 14s - loss: 0.5610 - accuracy: 0.7942 - val_loss: 0.6192 - val_accuracy: 0.8277 - lr: 0.0010 - 14s/epoch - 395ms/step
Epoch 15/100
36/36 - 14s - loss: 0.5594 - accuracy: 0.7948 - val_loss: 0.6236 - val_accuracy: 0.8246 - lr: 0.0010 - 14s/epoch - 401ms/step
Epoch 16/100
36/36 - 14s - loss: 0.5610 - accuracy: 0.7951 - val_loss: 0.6702 - val_accuracy: 0.8119 - lr: 0.0010 - 14s/epoch - 393ms/step
Epoch 17/100
36/36 - 14s - loss: 0.5598 - accuracy: 0.7960 - val_loss: 0.6709 - val_accuracy: 0.8174 - lr: 0.0010 - 14s/epoch - 390ms/step
Epoch 18/100
36/36 - 14s - loss: 0.5614 - accuracy: 0.7939 - val_loss: 0.6284 - val_accuracy: 0.8247 - lr: 0.0010 - 14s/epoch - 398ms/step
Epoch 19/100
36/36 - 14s - loss: 0.5607 - accuracy: 0.7948 - val_loss: 0.6767 - val_accuracy: 0.8094 - lr: 0.0010 - 14s/epoch - 398ms/step
Epoch 20/100
36/36 - 14s - loss: 0.5610 - accuracy: 0.7950 - val_loss: 0.6482 - val_accuracy: 0.8222 - lr: 0.0010 - 14s/epoch - 375ms/step
Epoch 21/100
36/36 - 14s - loss: 0.5603 - accuracy: 0.7947 - val_loss: 0.6220 - val_accuracy: 0.8288 - lr: 0.0010 - 14s/epoch - 383ms/step
Epoch 22/100
36/36 - 13s - loss: 0.5614 - accuracy: 0.7947 - val_loss: 0.6695 - val_accuracy: 0.8160 - lr: 0.0010 - 13s/epoch - 369ms/step
Epoch 23/100
36/36 - 14s - loss: 0.5610 - accuracy: 0.7941 - val_loss: 0.6244 - val_accuracy: 0.8284 - lr: 0.0010 - 14s/epoch - 380ms/step
Epoch 24/100
36/36 - 13s - loss: 0.5589 - accuracy: 0.7961 - val_loss: 0.6416 - val_accuracy: 0.8203 - lr: 0.0010 - 13s/epoch - 370ms/step
Epoch 25/100
36/36 - 13s - loss: 0.5591 - accuracy: 0.7958 - val_loss: 0.6198 - val_accuracy: 0.8314 - lr: 0.0010 - 13s/epoch - 367ms/step
Epoch 26/100
36/36 - 13s - loss: 0.5604 - accuracy: 0.7939 - val_loss: 0.6309 - val_accuracy: 0.8257 - lr: 0.0010 - 13s/epoch - 371ms/step
Epoch 27/100
36/36 - 12s - loss: 0.5603 - accuracy: 0.7944 - val_loss: 0.6273 - val_accuracy: 0.8299 - lr: 0.0010 - 12s/epoch - 329ms/step
Epoch 28/100
36/36 - 13s - loss: 0.5604 - accuracy: 0.7950 - val_loss: 0.6530 - val_accuracy: 0.8172 - lr: 0.0010 - 13s/epoch - 354ms/step
Epoch 29/100
36/36 - 12s - loss: 0.5601 - accuracy: 0.7954 - val_loss: 0.6673 - val_accuracy: 0.8156 - lr: 0.0010 - 12s/epoch - 337ms/step
Epoch 30/100
36/36 - 13s - loss: 0.5612 - accuracy: 0.7951 - val_loss: 0.6427 - val_accuracy: 0.8173 - lr: 0.0010 - 13s/epoch - 350ms/step
Epoch 31/100
36/36 - 13s - loss: 0.5609 - accuracy: 0.7951 - val_loss: 0.6626 - val_accuracy: 0.8143 - lr: 0.0010 - 13s/epoch - 351ms/step
Epoch 32/100
36/36 - 12s - loss: 0.5608 - accuracy: 0.7939 - val_loss: 0.6449 - val_accuracy: 0.8223 - lr: 0.0010 - 12s/epoch - 347ms/step
Epoch 33/100
36/36 - 12s - loss: 0.5601 - accuracy: 0.7955 - val_loss: 0.6391 - val_accuracy: 0.8224 - lr: 0.0010 - 12s/epoch - 337ms/step
Epoch 34/100
36/36 - 12s - loss: 0.5600 - accuracy: 0.7950 - val_loss: 0.6494 - val_accuracy: 0.8194 - lr: 0.0010 - 12s/epoch - 336ms/step
Epoch 35/100
36/36 - 14s - loss: 0.5608 - accuracy: 0.7947 - val_loss: 0.6413 - val_accuracy: 0.8219 - lr: 0.0010 - 14s/epoch - 378ms/step
Epoch 36/100
36/36 - 14s - loss: 0.5620 - accuracy: 0.7938 - val_loss: 0.6142 - val_accuracy: 0.8319 - lr: 0.0010 - 14s/epoch - 398ms/step
Epoch 37/100
36/36 - 14s - loss: 0.5617 - accuracy: 0.7941 - val_loss: 0.6330 - val_accuracy: 0.8277 - lr: 0.0010 - 14s/epoch - 385ms/step
Epoch 38/100
36/36 - 13s - loss: 0.5607 - accuracy: 0.7947 - val_loss: 0.6498 - val_accuracy: 0.8151 - lr: 0.0010 - 13s/epoch - 357ms/step
Epoch 39/100
36/36 - 12s - loss: 0.5606 - accuracy: 0.7953 - val_loss: 0.6117 - val_accuracy: 0.8320 - lr: 0.0010 - 12s/epoch - 332ms/step
Epoch 40/100
36/36 - 13s - loss: 0.5622 - accuracy: 0.7953 - val_loss: 0.6210 - val_accuracy: 0.8305 - lr: 0.0010 - 13s/epoch - 356ms/step
Epoch 41/100
36/36 - 12s - loss: 0.5604 - accuracy: 0.7955 - val_loss: 0.6172 - val_accuracy: 0.8301 - lr: 0.0010 - 12s/epoch - 343ms/step
Epoch 42/100
36/36 - 12s - loss: 0.5608 - accuracy: 0.7941 - val_loss: 0.6419 - val_accuracy: 0.8215 - lr: 0.0010 - 12s/epoch - 347ms/step
Epoch 43/100
36/36 - 13s - loss: 0.5616 - accuracy: 0.7949 - val_loss: 0.6377 - val_accuracy: 0.8234 - lr: 0.0010 - 13s/epoch - 372ms/step
Epoch 44/100
36/36 - 13s - loss: 0.5601 - accuracy: 0.7951 - val_loss: 0.6287 - val_accuracy: 0.8288 - lr: 0.0010 - 13s/epoch - 371ms/step
Epoch 45/100
36/36 - 13s - loss: 0.5613 - accuracy: 0.7943 - val_loss: 0.6257 - val_accuracy: 0.8229 - lr: 0.0010 - 13s/epoch - 374ms/step
Epoch 46/100
36/36 - 13s - loss: 0.5603 - accuracy: 0.7947 - val_loss: 0.6448 - val_accuracy: 0.8275 - lr: 0.0010 - 13s/epoch - 354ms/step
Epoch 47/100
36/36 - 13s - loss: 0.5609 - accuracy: 0.7947 - val_loss: 0.6390 - val_accuracy: 0.8304 - lr: 0.0010 - 13s/epoch - 365ms/step
Epoch 48/100
36/36 - 13s - loss: 0.5609 - accuracy: 0.7947 - val_loss: 0.6097 - val_accuracy: 0.8361 - lr: 0.0010 - 13s/epoch - 364ms/step
Epoch 49/100
36/36 - 13s - loss: 0.5617 - accuracy: 0.7943 - val_loss: 0.6360 - val_accuracy: 0.8221 - lr: 0.0010 - 13s/epoch - 353ms/step
Epoch 50/100
36/36 - 13s - loss: 0.5613 - accuracy: 0.7952 - val_loss: 0.6414 - val_accuracy: 0.8232 - lr: 0.0010 - 13s/epoch - 366ms/step
Epoch 51/100
36/36 - 12s - loss: 0.5602 - accuracy: 0.7958 - val_loss: 0.6600 - val_accuracy: 0.8194 - lr: 0.0010 - 12s/epoch - 347ms/step
Epoch 52/100
36/36 - 12s - loss: 0.5606 - accuracy: 0.7947 - val_loss: 0.6510 - val_accuracy: 0.8182 - lr: 0.0010 - 12s/epoch - 344ms/step
Epoch 53/100
36/36 - 13s - loss: 0.5604 - accuracy: 0.7952 - val_loss: 0.6192 - val_accuracy: 0.8288 - lr: 0.0010 - 13s/epoch - 361ms/step
Epoch 54/100
36/36 - 13s - loss: 0.5589 - accuracy: 0.7955 - val_loss: 0.6525 - val_accuracy: 0.8205 - lr: 0.0010 - 13s/epoch - 363ms/step
Epoch 55/100
36/36 - 12s - loss: 0.5618 - accuracy: 0.7940 - val_loss: 0.6456 - val_accuracy: 0.8169 - lr: 0.0010 - 12s/epoch - 346ms/step
Epoch 56/100
36/36 - 13s - loss: 0.5598 - accuracy: 0.7945 - val_loss: 0.6250 - val_accuracy: 0.8262 - lr: 0.0010 - 13s/epoch - 357ms/step
Epoch 57/100
36/36 - 12s - loss: 0.5605 - accuracy: 0.7952 - val_loss: 0.6137 - val_accuracy: 0.8313 - lr: 0.0010 - 12s/epoch - 345ms/step
Epoch 58/100
36/36 - 12s - loss: 0.5596 - accuracy: 0.7960 - val_loss: 0.6629 - val_accuracy: 0.8161 - lr: 0.0010 - 12s/epoch - 334ms/step
Epoch 59/100
36/36 - 12s - loss: 0.5604 - accuracy: 0.7953 - val_loss: 0.6684 - val_accuracy: 0.8125 - lr: 0.0010 - 12s/epoch - 320ms/step
Epoch 60/100
36/36 - 11s - loss: 0.5613 - accuracy: 0.7944 - val_loss: 0.6517 - val_accuracy: 0.8174 - lr: 0.0010 - 11s/epoch - 319ms/step
Epoch 61/100
36/36 - 12s - loss: 0.5594 - accuracy: 0.7952 - val_loss: 0.6486 - val_accuracy: 0.8201 - lr: 0.0010 - 12s/epoch - 325ms/step
Epoch 62/100
36/36 - 12s - loss: 0.5594 - accuracy: 0.7947 - val_loss: 0.6182 - val_accuracy: 0.8291 - lr: 0.0010 - 12s/epoch - 345ms/step
Epoch 63/100
36/36 - 12s - loss: 0.5604 - accuracy: 0.7955 - val_loss: 0.6536 - val_accuracy: 0.8215 - lr: 0.0010 - 12s/epoch - 339ms/step
Epoch 64/100
36/36 - 12s - loss: 0.5598 - accuracy: 0.7933 - val_loss: 0.6451 - val_accuracy: 0.8214 - lr: 0.0010 - 12s/epoch - 343ms/step
Epoch 65/100
36/36 - 12s - loss: 0.5606 - accuracy: 0.7952 - val_loss: 0.6352 - val_accuracy: 0.8227 - lr: 0.0010 - 12s/epoch - 341ms/step
Epoch 66/100
36/36 - 12s - loss: 0.5590 - accuracy: 0.7955 - val_loss: 0.6578 - val_accuracy: 0.8146 - lr: 0.0010 - 12s/epoch - 344ms/step
Epoch 67/100
36/36 - 13s - loss: 0.5602 - accuracy: 0.7951 - val_loss: 0.6291 - val_accuracy: 0.8226 - lr: 0.0010 - 13s/epoch - 348ms/step
Epoch 68/100
36/36 - 12s - loss: 0.5588 - accuracy: 0.7962 - val_loss: 0.6469 - val_accuracy: 0.8207 - lr: 0.0010 - 12s/epoch - 338ms/step
Epoch 69/100
36/36 - 12s - loss: 0.5602 - accuracy: 0.7948 - val_loss: 0.6435 - val_accuracy: 0.8219 - lr: 0.0010 - 12s/epoch - 330ms/step
Epoch 70/100
36/36 - 12s - loss: 0.5605 - accuracy: 0.7945 - val_loss: 0.6588 - val_accuracy: 0.8145 - lr: 0.0010 - 12s/epoch - 339ms/step
Epoch 71/100
36/36 - 13s - loss: 0.5599 - accuracy: 0.7943 - val_loss: 0.5931 - val_accuracy: 0.8427 - lr: 0.0010 - 13s/epoch - 352ms/step
Epoch 72/100
36/36 - 12s - loss: 0.5606 - accuracy: 0.7946 - val_loss: 0.6227 - val_accuracy: 0.8294 - lr: 0.0010 - 12s/epoch - 335ms/step
Epoch 73/100
36/36 - 12s - loss: 0.5593 - accuracy: 0.7964 - val_loss: 0.6200 - val_accuracy: 0.8303 - lr: 0.0010 - 12s/epoch - 339ms/step
Epoch 74/100
36/36 - 12s - loss: 0.5618 - accuracy: 0.7944 - val_loss: 0.6485 - val_accuracy: 0.8214 - lr: 0.0010 - 12s/epoch - 347ms/step
Epoch 75/100
36/36 - 13s - loss: 0.5608 - accuracy: 0.7948 - val_loss: 0.6497 - val_accuracy: 0.8211 - lr: 0.0010 - 13s/epoch - 351ms/step
Epoch 76/100
36/36 - 13s - loss: 0.5594 - accuracy: 0.7954 - val_loss: 0.6343 - val_accuracy: 0.8224 - lr: 0.0010 - 13s/epoch - 360ms/step
Epoch 77/100
36/36 - 13s - loss: 0.5601 - accuracy: 0.7964 - val_loss: 0.6425 - val_accuracy: 0.8235 - lr: 0.0010 - 13s/epoch - 371ms/step
Epoch 78/100
36/36 - 14s - loss: 0.5601 - accuracy: 0.7949 - val_loss: 0.6208 - val_accuracy: 0.8293 - lr: 0.0010 - 14s/epoch - 376ms/step
Epoch 79/100
36/36 - 13s - loss: 0.5617 - accuracy: 0.7938 - val_loss: 0.6257 - val_accuracy: 0.8296 - lr: 0.0010 - 13s/epoch - 365ms/step
Epoch 80/100
36/36 - 13s - loss: 0.5608 - accuracy: 0.7943 - val_loss: 0.6503 - val_accuracy: 0.8177 - lr: 0.0010 - 13s/epoch - 369ms/step
Epoch 81/100
36/36 - 13s - loss: 0.5604 - accuracy: 0.7952 - val_loss: 0.6351 - val_accuracy: 0.8229 - lr: 0.0010 - 13s/epoch - 351ms/step
Epoch 82/100
36/36 - 12s - loss: 0.5616 - accuracy: 0.7946 - val_loss: 0.6475 - val_accuracy: 0.8156 - lr: 0.0010 - 12s/epoch - 335ms/step
Epoch 83/100
36/36 - 12s - loss: 0.5604 - accuracy: 0.7950 - val_loss: 0.6274 - val_accuracy: 0.8272 - lr: 0.0010 - 12s/epoch - 339ms/step
Epoch 84/100
36/36 - 12s - loss: 0.5598 - accuracy: 0.7952 - val_loss: 0.6426 - val_accuracy: 0.8231 - lr: 0.0010 - 12s/epoch - 338ms/step
Epoch 85/100
36/36 - 12s - loss: 0.5598 - accuracy: 0.7960 - val_loss: 0.6372 - val_accuracy: 0.8236 - lr: 0.0010 - 12s/epoch - 321ms/step
Epoch 86/100
36/36 - 11s - loss: 0.5600 - accuracy: 0.7950 - val_loss: 0.6217 - val_accuracy: 0.8288 - lr: 0.0010 - 11s/epoch - 318ms/step
Epoch 87/100
36/36 - 13s - loss: 0.5590 - accuracy: 0.7958 - val_loss: 0.6552 - val_accuracy: 0.8163 - lr: 0.0010 - 13s/epoch - 362ms/step
Epoch 88/100
36/36 - 13s - loss: 0.5597 - accuracy: 0.7958 - val_loss: 0.6325 - val_accuracy: 0.8245 - lr: 0.0010 - 13s/epoch - 356ms/step
Epoch 89/100
36/36 - 12s - loss: 0.5598 - accuracy: 0.7949 - val_loss: 0.6367 - val_accuracy: 0.8229 - lr: 0.0010 - 12s/epoch - 344ms/step
Epoch 90/100
36/36 - 12s - loss: 0.5605 - accuracy: 0.7954 - val_loss: 0.6005 - val_accuracy: 0.8355 - lr: 0.0010 - 12s/epoch - 344ms/step
Epoch 91/100
36/36 - 12s - loss: 0.5596 - accuracy: 0.7951 - val_loss: 0.6678 - val_accuracy: 0.8150 - lr: 0.0010 - 12s/epoch - 343ms/step
Epoch 92/100
36/36 - 12s - loss: 0.5612 - accuracy: 0.7944 - val_loss: 0.6280 - val_accuracy: 0.8296 - lr: 0.0010 - 12s/epoch - 340ms/step
Epoch 93/100
36/36 - 12s - loss: 0.5611 - accuracy: 0.7953 - val_loss: 0.6415 - val_accuracy: 0.8222 - lr: 0.0010 - 12s/epoch - 344ms/step
Epoch 94/100
36/36 - 12s - loss: 0.5601 - accuracy: 0.7953 - val_loss: 0.6309 - val_accuracy: 0.8295 - lr: 0.0010 - 12s/epoch - 335ms/step
Epoch 95/100
36/36 - 13s - loss: 0.5605 - accuracy: 0.7957 - val_loss: 0.6494 - val_accuracy: 0.8197 - lr: 0.0010 - 13s/epoch - 359ms/step
Epoch 96/100
36/36 - 14s - loss: 0.5593 - accuracy: 0.7961 - val_loss: 0.6380 - val_accuracy: 0.8249 - lr: 0.0010 - 14s/epoch - 398ms/step
Epoch 97/100
36/36 - 13s - loss: 0.5601 - accuracy: 0.7951 - val_loss: 0.6505 - val_accuracy: 0.8212 - lr: 0.0010 - 13s/epoch - 371ms/step
Epoch 98/100
36/36 - 12s - loss: 0.5596 - accuracy: 0.7959 - val_loss: 0.6673 - val_accuracy: 0.8187 - lr: 0.0010 - 12s/epoch - 347ms/step
Epoch 99/100
36/36 - 12s - loss: 0.5603 - accuracy: 0.7956 - val_loss: 0.6384 - val_accuracy: 0.8224 - lr: 0.0010 - 12s/epoch - 325ms/step
Epoch 100/100
36/36 - 12s - loss: 0.5600 - accuracy: 0.7951 - val_loss: 0.6284 - val_accuracy: 0.8261 - lr: 0.0010 - 12s/epoch - 330ms/step
Loss: binary_crossentropy
Epoch number: 75
fitting with batch size: 20
Epoch 1/75
4378/4378 - 92s - loss: 0.2029 - accuracy: 0.7831 - val_loss: 0.2133 - val_accuracy: 0.8404 - lr: 0.0010 - 92s/epoch - 21ms/step
Epoch 2/75
4378/4378 - 90s - loss: 0.2033 - accuracy: 0.7820 - val_loss: 0.2487 - val_accuracy: 0.8069 - lr: 0.0010 - 90s/epoch - 21ms/step
Epoch 3/75
4378/4378 - 91s - loss: 0.2025 - accuracy: 0.7824 - val_loss: 0.2420 - val_accuracy: 0.8202 - lr: 0.0010 - 91s/epoch - 21ms/step
Epoch 4/75
4378/4378 - 90s - loss: 0.2030 - accuracy: 0.7830 - val_loss: 0.2117 - val_accuracy: 0.8450 - lr: 0.0010 - 90s/epoch - 21ms/step
Epoch 5/75
4378/4378 - 92s - loss: 0.2022 - accuracy: 0.7839 - val_loss: 0.2318 - val_accuracy: 0.8220 - lr: 0.0010 - 92s/epoch - 21ms/step
Epoch 6/75
4378/4378 - 91s - loss: 0.2024 - accuracy: 0.7829 - val_loss: 0.2400 - val_accuracy: 0.8234 - lr: 0.0010 - 91s/epoch - 21ms/step
Epoch 7/75
4378/4378 - 93s - loss: 0.2020 - accuracy: 0.7840 - val_loss: 0.2243 - val_accuracy: 0.8277 - lr: 0.0010 - 93s/epoch - 21ms/step
Epoch 8/75
4378/4378 - 94s - loss: 0.2022 - accuracy: 0.7832 - val_loss: 0.2384 - val_accuracy: 0.8189 - lr: 0.0010 - 94s/epoch - 22ms/step
Epoch 9/75
4378/4378 - 93s - loss: 0.2020 - accuracy: 0.7830 - val_loss: 0.2239 - val_accuracy: 0.8311 - lr: 0.0010 - 93s/epoch - 21ms/step
Epoch 10/75
4378/4378 - 95s - loss: 0.2016 - accuracy: 0.7839 - val_loss: 0.2322 - val_accuracy: 0.8183 - lr: 0.0010 - 95s/epoch - 22ms/step
Epoch 11/75
4378/4378 - 91s - loss: 0.2012 - accuracy: 0.7851 - val_loss: 0.2339 - val_accuracy: 0.8208 - lr: 0.0010 - 91s/epoch - 21ms/step
Epoch 12/75
4378/4378 - 95s - loss: 0.2009 - accuracy: 0.7843 - val_loss: 0.2216 - val_accuracy: 0.8323 - lr: 0.0010 - 95s/epoch - 22ms/step
Epoch 13/75
4378/4378 - 95s - loss: 0.2017 - accuracy: 0.7832 - val_loss: 0.2352 - val_accuracy: 0.8183 - lr: 0.0010 - 95s/epoch - 22ms/step
Epoch 14/75
4378/4378 - 93s - loss: 0.2008 - accuracy: 0.7856 - val_loss: 0.2311 - val_accuracy: 0.8217 - lr: 0.0010 - 93s/epoch - 21ms/step
Epoch 15/75
4378/4378 - 94s - loss: 0.2005 - accuracy: 0.7844 - val_loss: 0.2375 - val_accuracy: 0.8245 - lr: 0.0010 - 94s/epoch - 21ms/step
Epoch 16/75
4378/4378 - 94s - loss: 0.2006 - accuracy: 0.7847 - val_loss: 0.2215 - val_accuracy: 0.8360 - lr: 0.0010 - 94s/epoch - 21ms/step
Epoch 17/75
4378/4378 - 94s - loss: 0.2007 - accuracy: 0.7863 - val_loss: 0.2229 - val_accuracy: 0.8317 - lr: 0.0010 - 94s/epoch - 22ms/step
Epoch 18/75
4378/4378 - 95s - loss: 0.2008 - accuracy: 0.7861 - val_loss: 0.2278 - val_accuracy: 0.8273 - lr: 0.0010 - 95s/epoch - 22ms/step
Epoch 19/75
4378/4378 - 95s - loss: 0.2006 - accuracy: 0.7856 - val_loss: 0.2386 - val_accuracy: 0.8131 - lr: 0.0010 - 95s/epoch - 22ms/step
Epoch 20/75
4378/4378 - 94s - loss: 0.2009 - accuracy: 0.7855 - val_loss: 0.2472 - val_accuracy: 0.8230 - lr: 0.0010 - 94s/epoch - 22ms/step
Epoch 21/75
4378/4378 - 93s - loss: 0.2003 - accuracy: 0.7866 - val_loss: 0.2321 - val_accuracy: 0.8203 - lr: 0.0010 - 93s/epoch - 21ms/step
Epoch 22/75
4378/4378 - 98s - loss: 0.2000 - accuracy: 0.7862 - val_loss: 0.2478 - val_accuracy: 0.8019 - lr: 0.0010 - 98s/epoch - 22ms/step
Epoch 23/75
4378/4378 - 93s - loss: 0.1999 - accuracy: 0.7866 - val_loss: 0.2299 - val_accuracy: 0.8264 - lr: 0.0010 - 93s/epoch - 21ms/step
Epoch 24/75
4378/4378 - 91s - loss: 0.1995 - accuracy: 0.7865 - val_loss: 0.2416 - val_accuracy: 0.8083 - lr: 0.0010 - 91s/epoch - 21ms/step
Epoch 25/75
4378/4378 - 93s - loss: 0.1992 - accuracy: 0.7872 - val_loss: 0.2380 - val_accuracy: 0.8113 - lr: 0.0010 - 93s/epoch - 21ms/step
Epoch 26/75
4378/4378 - 91s - loss: 0.1992 - accuracy: 0.7871 - val_loss: 0.2411 - val_accuracy: 0.8194 - lr: 0.0010 - 91s/epoch - 21ms/step
Epoch 27/75
4378/4378 - 93s - loss: 0.1997 - accuracy: 0.7864 - val_loss: 0.2465 - val_accuracy: 0.8059 - lr: 0.0010 - 93s/epoch - 21ms/step
Epoch 28/75
4378/4378 - 94s - loss: 0.1998 - accuracy: 0.7869 - val_loss: 0.2258 - val_accuracy: 0.8249 - lr: 0.0010 - 94s/epoch - 21ms/step
Epoch 29/75
4378/4378 - 92s - loss: 0.1996 - accuracy: 0.7860 - val_loss: 0.2360 - val_accuracy: 0.8195 - lr: 0.0010 - 92s/epoch - 21ms/step
Epoch 30/75
4378/4378 - 91s - loss: 0.1992 - accuracy: 0.7877 - val_loss: 0.2326 - val_accuracy: 0.8219 - lr: 0.0010 - 91s/epoch - 21ms/step
Epoch 31/75
4378/4378 - 93s - loss: 0.1982 - accuracy: 0.7892 - val_loss: 0.2470 - val_accuracy: 0.8086 - lr: 0.0010 - 93s/epoch - 21ms/step
Epoch 32/75
4378/4378 - 91s - loss: 0.1990 - accuracy: 0.7881 - val_loss: 0.2347 - val_accuracy: 0.8225 - lr: 0.0010 - 91s/epoch - 21ms/step
Epoch 33/75
4378/4378 - 89s - loss: 0.1991 - accuracy: 0.7867 - val_loss: 0.2242 - val_accuracy: 0.8361 - lr: 0.0010 - 89s/epoch - 20ms/step
Epoch 34/75
4378/4378 - 90s - loss: 0.1986 - accuracy: 0.7885 - val_loss: 0.2335 - val_accuracy: 0.8145 - lr: 0.0010 - 90s/epoch - 21ms/step
Epoch 35/75
4378/4378 - 91s - loss: 0.1994 - accuracy: 0.7874 - val_loss: 0.2290 - val_accuracy: 0.8218 - lr: 0.0010 - 91s/epoch - 21ms/step
Epoch 36/75
4378/4378 - 91s - loss: 0.1985 - accuracy: 0.7893 - val_loss: 0.2337 - val_accuracy: 0.8227 - lr: 0.0010 - 91s/epoch - 21ms/step
Epoch 37/75
4378/4378 - 85s - loss: 0.1981 - accuracy: 0.7896 - val_loss: 0.2297 - val_accuracy: 0.8239 - lr: 0.0010 - 85s/epoch - 19ms/step
Epoch 38/75
4378/4378 - 83s - loss: 0.1980 - accuracy: 0.7885 - val_loss: 0.2225 - val_accuracy: 0.8307 - lr: 0.0010 - 83s/epoch - 19ms/step
Epoch 39/75
4378/4378 - 73s - loss: 0.1988 - accuracy: 0.7886 - val_loss: 0.2285 - val_accuracy: 0.8300 - lr: 0.0010 - 73s/epoch - 17ms/step
Epoch 40/75
4378/4378 - 76s - loss: 0.1982 - accuracy: 0.7894 - val_loss: 0.2518 - val_accuracy: 0.8086 - lr: 0.0010 - 76s/epoch - 17ms/step
Epoch 41/75
4378/4378 - 85s - loss: 0.1979 - accuracy: 0.7887 - val_loss: 0.2295 - val_accuracy: 0.8349 - lr: 0.0010 - 85s/epoch - 19ms/step
Epoch 42/75
4378/4378 - 79s - loss: 0.1982 - accuracy: 0.7885 - val_loss: 0.2288 - val_accuracy: 0.8239 - lr: 0.0010 - 79s/epoch - 18ms/step
Epoch 43/75
4378/4378 - 73s - loss: 0.1980 - accuracy: 0.7900 - val_loss: 0.2270 - val_accuracy: 0.8317 - lr: 0.0010 - 73s/epoch - 17ms/step
Epoch 44/75
4378/4378 - 73s - loss: 0.1976 - accuracy: 0.7898 - val_loss: 0.2232 - val_accuracy: 0.8325 - lr: 0.0010 - 73s/epoch - 17ms/step
Epoch 45/75
4378/4378 - 73s - loss: 0.1971 - accuracy: 0.7901 - val_loss: 0.2186 - val_accuracy: 0.8333 - lr: 0.0010 - 73s/epoch - 17ms/step
Epoch 46/75
4378/4378 - 71s - loss: 0.1970 - accuracy: 0.7899 - val_loss: 0.2389 - val_accuracy: 0.8089 - lr: 0.0010 - 71s/epoch - 16ms/step
Epoch 47/75
4378/4378 - 73s - loss: 0.1972 - accuracy: 0.7904 - val_loss: 0.2104 - val_accuracy: 0.8492 - lr: 0.0010 - 73s/epoch - 17ms/step
Epoch 48/75
4378/4378 - 72s - loss: 0.1973 - accuracy: 0.7905 - val_loss: 0.2296 - val_accuracy: 0.8248 - lr: 0.0010 - 72s/epoch - 16ms/step
Epoch 49/75
4378/4378 - 72s - loss: 0.1962 - accuracy: 0.7915 - val_loss: 0.2301 - val_accuracy: 0.8319 - lr: 0.0010 - 72s/epoch - 16ms/step
Epoch 50/75
4378/4378 - 71s - loss: 0.1971 - accuracy: 0.7897 - val_loss: 0.2250 - val_accuracy: 0.8239 - lr: 0.0010 - 71s/epoch - 16ms/step
Epoch 51/75
4378/4378 - 81s - loss: 0.1972 - accuracy: 0.7907 - val_loss: 0.2296 - val_accuracy: 0.8277 - lr: 0.0010 - 81s/epoch - 18ms/step
Epoch 52/75
4378/4378 - 76s - loss: 0.1963 - accuracy: 0.7904 - val_loss: 0.2395 - val_accuracy: 0.8149 - lr: 0.0010 - 76s/epoch - 17ms/step
Epoch 53/75
4378/4378 - 72s - loss: 0.1966 - accuracy: 0.7902 - val_loss: 0.2288 - val_accuracy: 0.8348 - lr: 0.0010 - 72s/epoch - 16ms/step
Epoch 54/75
4378/4378 - 72s - loss: 0.1966 - accuracy: 0.7898 - val_loss: 0.2376 - val_accuracy: 0.8228 - lr: 0.0010 - 72s/epoch - 17ms/step
Epoch 55/75
4378/4378 - 72s - loss: 0.1963 - accuracy: 0.7912 - val_loss: 0.2521 - val_accuracy: 0.8062 - lr: 0.0010 - 72s/epoch - 16ms/step
Epoch 56/75
4378/4378 - 72s - loss: 0.1962 - accuracy: 0.7906 - val_loss: 0.2309 - val_accuracy: 0.8224 - lr: 0.0010 - 72s/epoch - 16ms/step
Epoch 57/75
4378/4378 - 72s - loss: 0.1961 - accuracy: 0.7913 - val_loss: 0.2315 - val_accuracy: 0.8272 - lr: 0.0010 - 72s/epoch - 16ms/step
Epoch 58/75
4378/4378 - 72s - loss: 0.1958 - accuracy: 0.7911 - val_loss: 0.2407 - val_accuracy: 0.8120 - lr: 0.0010 - 72s/epoch - 16ms/step
Epoch 59/75
4378/4378 - 72s - loss: 0.1961 - accuracy: 0.7909 - val_loss: 0.2105 - val_accuracy: 0.8388 - lr: 0.0010 - 72s/epoch - 16ms/step
Epoch 60/75
4378/4378 - 72s - loss: 0.1951 - accuracy: 0.7918 - val_loss: 0.2371 - val_accuracy: 0.8230 - lr: 0.0010 - 72s/epoch - 16ms/step
Epoch 61/75
4378/4378 - 72s - loss: 0.1954 - accuracy: 0.7930 - val_loss: 0.2365 - val_accuracy: 0.8129 - lr: 0.0010 - 72s/epoch - 16ms/step
Epoch 62/75
4378/4378 - 72s - loss: 0.1958 - accuracy: 0.7919 - val_loss: 0.2267 - val_accuracy: 0.8292 - lr: 0.0010 - 72s/epoch - 16ms/step
Epoch 63/75
4378/4378 - 72s - loss: 0.1955 - accuracy: 0.7917 - val_loss: 0.2300 - val_accuracy: 0.8226 - lr: 0.0010 - 72s/epoch - 16ms/step
Epoch 64/75
4378/4378 - 72s - loss: 0.1951 - accuracy: 0.7919 - val_loss: 0.2324 - val_accuracy: 0.8242 - lr: 0.0010 - 72s/epoch - 16ms/step
Epoch 65/75
4378/4378 - 72s - loss: 0.1955 - accuracy: 0.7923 - val_loss: 0.2405 - val_accuracy: 0.8141 - lr: 0.0010 - 72s/epoch - 16ms/step
Epoch 66/75
4378/4378 - 72s - loss: 0.1953 - accuracy: 0.7923 - val_loss: 0.2276 - val_accuracy: 0.8241 - lr: 0.0010 - 72s/epoch - 16ms/step
Epoch 67/75
4378/4378 - 72s - loss: 0.1947 - accuracy: 0.7934 - val_loss: 0.2152 - val_accuracy: 0.8408 - lr: 0.0010 - 72s/epoch - 16ms/step
Epoch 68/75
4378/4378 - 72s - loss: 0.1948 - accuracy: 0.7934 - val_loss: 0.2154 - val_accuracy: 0.8430 - lr: 0.0010 - 72s/epoch - 17ms/step
Epoch 69/75
4378/4378 - 72s - loss: 0.1942 - accuracy: 0.7930 - val_loss: 0.2281 - val_accuracy: 0.8269 - lr: 0.0010 - 72s/epoch - 16ms/step
Epoch 70/75
4378/4378 - 72s - loss: 0.1941 - accuracy: 0.7946 - val_loss: 0.2472 - val_accuracy: 0.8054 - lr: 0.0010 - 72s/epoch - 17ms/step
Epoch 71/75
4378/4378 - 72s - loss: 0.1946 - accuracy: 0.7920 - val_loss: 0.2336 - val_accuracy: 0.8304 - lr: 0.0010 - 72s/epoch - 16ms/step
Epoch 72/75
4378/4378 - 72s - loss: 0.1946 - accuracy: 0.7930 - val_loss: 0.2430 - val_accuracy: 0.8123 - lr: 0.0010 - 72s/epoch - 16ms/step
Epoch 73/75
4378/4378 - 72s - loss: 0.1945 - accuracy: 0.7923 - val_loss: 0.2327 - val_accuracy: 0.8255 - lr: 0.0010 - 72s/epoch - 16ms/step
Epoch 74/75
4378/4378 - 73s - loss: 0.1941 - accuracy: 0.7936 - val_loss: 0.2351 - val_accuracy: 0.8261 - lr: 0.0010 - 73s/epoch - 17ms/step
Epoch 75/75
4378/4378 - 72s - loss: 0.1940 - accuracy: 0.7938 - val_loss: 0.2304 - val_accuracy: 0.8290 - lr: 0.0010 - 72s/epoch - 17ms/step
fitting with batch size: 100
Epoch 1/75
876/876 - 21s - loss: 0.1867 - accuracy: 0.8048 - val_loss: 0.2310 - val_accuracy: 0.8259 - lr: 0.0010 - 21s/epoch - 24ms/step
Epoch 2/75
876/876 - 18s - loss: 0.1862 - accuracy: 0.8059 - val_loss: 0.2246 - val_accuracy: 0.8305 - lr: 0.0010 - 18s/epoch - 20ms/step
Epoch 3/75
876/876 - 18s - loss: 0.1855 - accuracy: 0.8050 - val_loss: 0.2236 - val_accuracy: 0.8333 - lr: 0.0010 - 18s/epoch - 20ms/step
Epoch 4/75
876/876 - 18s - loss: 0.1860 - accuracy: 0.8050 - val_loss: 0.2282 - val_accuracy: 0.8266 - lr: 0.0010 - 18s/epoch - 20ms/step
Epoch 5/75
876/876 - 18s - loss: 0.1854 - accuracy: 0.8060 - val_loss: 0.2248 - val_accuracy: 0.8304 - lr: 0.0010 - 18s/epoch - 20ms/step
Epoch 6/75
876/876 - 18s - loss: 0.1851 - accuracy: 0.8063 - val_loss: 0.2296 - val_accuracy: 0.8252 - lr: 0.0010 - 18s/epoch - 20ms/step
Epoch 7/75
876/876 - 18s - loss: 0.1847 - accuracy: 0.8060 - val_loss: 0.2254 - val_accuracy: 0.8289 - lr: 0.0010 - 18s/epoch - 20ms/step
Epoch 8/75
876/876 - 18s - loss: 0.1846 - accuracy: 0.8065 - val_loss: 0.2221 - val_accuracy: 0.8306 - lr: 0.0010 - 18s/epoch - 20ms/step
Epoch 9/75
876/876 - 18s - loss: 0.1852 - accuracy: 0.8066 - val_loss: 0.2253 - val_accuracy: 0.8273 - lr: 0.0010 - 18s/epoch - 20ms/step
Epoch 10/75
876/876 - 18s - loss: 0.1850 - accuracy: 0.8059 - val_loss: 0.2267 - val_accuracy: 0.8285 - lr: 0.0010 - 18s/epoch - 20ms/step
Epoch 11/75
876/876 - 18s - loss: 0.1848 - accuracy: 0.8057 - val_loss: 0.2238 - val_accuracy: 0.8307 - lr: 0.0010 - 18s/epoch - 20ms/step
Epoch 12/75
876/876 - 18s - loss: 0.1850 - accuracy: 0.8057 - val_loss: 0.2292 - val_accuracy: 0.8257 - lr: 0.0010 - 18s/epoch - 20ms/step
Epoch 13/75
876/876 - 18s - loss: 0.1850 - accuracy: 0.8059 - val_loss: 0.2282 - val_accuracy: 0.8256 - lr: 0.0010 - 18s/epoch - 20ms/step
Epoch 14/75
876/876 - 18s - loss: 0.1846 - accuracy: 0.8064 - val_loss: 0.2290 - val_accuracy: 0.8266 - lr: 0.0010 - 18s/epoch - 20ms/step
Epoch 15/75
876/876 - 18s - loss: 0.1843 - accuracy: 0.8067 - val_loss: 0.2279 - val_accuracy: 0.8269 - lr: 0.0010 - 18s/epoch - 20ms/step
Epoch 16/75
876/876 - 18s - loss: 0.1841 - accuracy: 0.8060 - val_loss: 0.2209 - val_accuracy: 0.8310 - lr: 0.0010 - 18s/epoch - 20ms/step
Epoch 17/75
876/876 - 18s - loss: 0.1848 - accuracy: 0.8069 - val_loss: 0.2368 - val_accuracy: 0.8219 - lr: 0.0010 - 18s/epoch - 20ms/step
Epoch 18/75
876/876 - 18s - loss: 0.1847 - accuracy: 0.8064 - val_loss: 0.2327 - val_accuracy: 0.8235 - lr: 0.0010 - 18s/epoch - 20ms/step
Epoch 19/75
876/876 - 18s - loss: 0.1849 - accuracy: 0.8068 - val_loss: 0.2323 - val_accuracy: 0.8230 - lr: 0.0010 - 18s/epoch - 20ms/step
Epoch 20/75
876/876 - 18s - loss: 0.1843 - accuracy: 0.8071 - val_loss: 0.2283 - val_accuracy: 0.8286 - lr: 0.0010 - 18s/epoch - 20ms/step
Epoch 21/75
876/876 - 18s - loss: 0.1842 - accuracy: 0.8069 - val_loss: 0.2255 - val_accuracy: 0.8288 - lr: 0.0010 - 18s/epoch - 20ms/step
Epoch 22/75
876/876 - 18s - loss: 0.1841 - accuracy: 0.8072 - val_loss: 0.2374 - val_accuracy: 0.8201 - lr: 0.0010 - 18s/epoch - 20ms/step
Epoch 23/75
876/876 - 18s - loss: 0.1844 - accuracy: 0.8065 - val_loss: 0.2269 - val_accuracy: 0.8265 - lr: 0.0010 - 18s/epoch - 20ms/step
Epoch 24/75
876/876 - 18s - loss: 0.1838 - accuracy: 0.8073 - val_loss: 0.2303 - val_accuracy: 0.8227 - lr: 0.0010 - 18s/epoch - 20ms/step
Epoch 25/75
876/876 - 18s - loss: 0.1840 - accuracy: 0.8086 - val_loss: 0.2273 - val_accuracy: 0.8258 - lr: 0.0010 - 18s/epoch - 21ms/step
Epoch 26/75
876/876 - 18s - loss: 0.1836 - accuracy: 0.8064 - val_loss: 0.2304 - val_accuracy: 0.8258 - lr: 0.0010 - 18s/epoch - 20ms/step
Epoch 27/75
876/876 - 18s - loss: 0.1838 - accuracy: 0.8078 - val_loss: 0.2342 - val_accuracy: 0.8203 - lr: 0.0010 - 18s/epoch - 20ms/step
Epoch 28/75
876/876 - 18s - loss: 0.1840 - accuracy: 0.8077 - val_loss: 0.2271 - val_accuracy: 0.8283 - lr: 0.0010 - 18s/epoch - 20ms/step
Epoch 29/75
876/876 - 18s - loss: 0.1841 - accuracy: 0.8076 - val_loss: 0.2277 - val_accuracy: 0.8242 - lr: 0.0010 - 18s/epoch - 20ms/step
Epoch 30/75
876/876 - 18s - loss: 0.1835 - accuracy: 0.8085 - val_loss: 0.2298 - val_accuracy: 0.8270 - lr: 0.0010 - 18s/epoch - 20ms/step
Epoch 31/75
876/876 - 18s - loss: 0.1842 - accuracy: 0.8057 - val_loss: 0.2341 - val_accuracy: 0.8251 - lr: 0.0010 - 18s/epoch - 20ms/step
Epoch 32/75
876/876 - 18s - loss: 0.1842 - accuracy: 0.8075 - val_loss: 0.2270 - val_accuracy: 0.8278 - lr: 0.0010 - 18s/epoch - 20ms/step
Epoch 33/75
876/876 - 18s - loss: 0.1836 - accuracy: 0.8084 - val_loss: 0.2267 - val_accuracy: 0.8276 - lr: 0.0010 - 18s/epoch - 20ms/step
Epoch 34/75
876/876 - 18s - loss: 0.1837 - accuracy: 0.8078 - val_loss: 0.2315 - val_accuracy: 0.8240 - lr: 0.0010 - 18s/epoch - 20ms/step
Epoch 35/75
876/876 - 18s - loss: 0.1835 - accuracy: 0.8074 - val_loss: 0.2285 - val_accuracy: 0.8258 - lr: 0.0010 - 18s/epoch - 20ms/step
Epoch 36/75
876/876 - 18s - loss: 0.1833 - accuracy: 0.8083 - val_loss: 0.2266 - val_accuracy: 0.8293 - lr: 0.0010 - 18s/epoch - 20ms/step
Epoch 37/75
876/876 - 18s - loss: 0.1835 - accuracy: 0.8077 - val_loss: 0.2231 - val_accuracy: 0.8317 - lr: 0.0010 - 18s/epoch - 20ms/step
Epoch 38/75
876/876 - 18s - loss: 0.1837 - accuracy: 0.8069 - val_loss: 0.2329 - val_accuracy: 0.8228 - lr: 0.0010 - 18s/epoch - 20ms/step
Epoch 39/75
876/876 - 18s - loss: 0.1837 - accuracy: 0.8072 - val_loss: 0.2349 - val_accuracy: 0.8209 - lr: 0.0010 - 18s/epoch - 20ms/step
Epoch 40/75
876/876 - 18s - loss: 0.1833 - accuracy: 0.8085 - val_loss: 0.2287 - val_accuracy: 0.8263 - lr: 0.0010 - 18s/epoch - 20ms/step
Epoch 41/75
876/876 - 18s - loss: 0.1839 - accuracy: 0.8077 - val_loss: 0.2304 - val_accuracy: 0.8272 - lr: 0.0010 - 18s/epoch - 20ms/step
Epoch 42/75
876/876 - 18s - loss: 0.1831 - accuracy: 0.8074 - val_loss: 0.2288 - val_accuracy: 0.8256 - lr: 0.0010 - 18s/epoch - 20ms/step
Epoch 43/75
876/876 - 18s - loss: 0.1832 - accuracy: 0.8085 - val_loss: 0.2261 - val_accuracy: 0.8289 - lr: 0.0010 - 18s/epoch - 20ms/step
Epoch 44/75
876/876 - 18s - loss: 0.1830 - accuracy: 0.8086 - val_loss: 0.2267 - val_accuracy: 0.8288 - lr: 0.0010 - 18s/epoch - 20ms/step
Epoch 45/75
876/876 - 18s - loss: 0.1834 - accuracy: 0.8078 - val_loss: 0.2310 - val_accuracy: 0.8264 - lr: 0.0010 - 18s/epoch - 20ms/step
Epoch 46/75
876/876 - 18s - loss: 0.1824 - accuracy: 0.8089 - val_loss: 0.2243 - val_accuracy: 0.8327 - lr: 0.0010 - 18s/epoch - 20ms/step
Epoch 47/75
876/876 - 18s - loss: 0.1828 - accuracy: 0.8095 - val_loss: 0.2333 - val_accuracy: 0.8238 - lr: 0.0010 - 18s/epoch - 21ms/step
Epoch 48/75
876/876 - 18s - loss: 0.1823 - accuracy: 0.8109 - val_loss: 0.2287 - val_accuracy: 0.8269 - lr: 0.0010 - 18s/epoch - 20ms/step
Epoch 49/75
876/876 - 18s - loss: 0.1829 - accuracy: 0.8096 - val_loss: 0.2299 - val_accuracy: 0.8255 - lr: 0.0010 - 18s/epoch - 20ms/step
Epoch 50/75
876/876 - 18s - loss: 0.1829 - accuracy: 0.8084 - val_loss: 0.2327 - val_accuracy: 0.8268 - lr: 0.0010 - 18s/epoch - 20ms/step
Epoch 51/75
876/876 - 18s - loss: 0.1835 - accuracy: 0.8086 - val_loss: 0.2263 - val_accuracy: 0.8306 - lr: 0.0010 - 18s/epoch - 20ms/step
Epoch 52/75
876/876 - 18s - loss: 0.1833 - accuracy: 0.8083 - val_loss: 0.2311 - val_accuracy: 0.8223 - lr: 0.0010 - 18s/epoch - 20ms/step
Epoch 53/75
876/876 - 18s - loss: 0.1821 - accuracy: 0.8101 - val_loss: 0.2298 - val_accuracy: 0.8247 - lr: 0.0010 - 18s/epoch - 20ms/step
Epoch 54/75
876/876 - 18s - loss: 0.1822 - accuracy: 0.8102 - val_loss: 0.2320 - val_accuracy: 0.8219 - lr: 0.0010 - 18s/epoch - 20ms/step
Epoch 55/75
876/876 - 18s - loss: 0.1822 - accuracy: 0.8087 - val_loss: 0.2281 - val_accuracy: 0.8277 - lr: 0.0010 - 18s/epoch - 20ms/step
Epoch 56/75
876/876 - 18s - loss: 0.1830 - accuracy: 0.8089 - val_loss: 0.2264 - val_accuracy: 0.8296 - lr: 0.0010 - 18s/epoch - 20ms/step
Epoch 57/75
876/876 - 18s - loss: 0.1828 - accuracy: 0.8082 - val_loss: 0.2291 - val_accuracy: 0.8256 - lr: 0.0010 - 18s/epoch - 20ms/step
Epoch 58/75
876/876 - 18s - loss: 0.1825 - accuracy: 0.8088 - val_loss: 0.2280 - val_accuracy: 0.8299 - lr: 0.0010 - 18s/epoch - 20ms/step
Epoch 59/75
876/876 - 18s - loss: 0.1825 - accuracy: 0.8090 - val_loss: 0.2237 - val_accuracy: 0.8313 - lr: 0.0010 - 18s/epoch - 20ms/step
Epoch 60/75
876/876 - 18s - loss: 0.1825 - accuracy: 0.8091 - val_loss: 0.2283 - val_accuracy: 0.8275 - lr: 0.0010 - 18s/epoch - 20ms/step
Epoch 61/75
876/876 - 18s - loss: 0.1824 - accuracy: 0.8095 - val_loss: 0.2253 - val_accuracy: 0.8294 - lr: 0.0010 - 18s/epoch - 20ms/step
Epoch 62/75
876/876 - 18s - loss: 0.1820 - accuracy: 0.8103 - val_loss: 0.2339 - val_accuracy: 0.8215 - lr: 0.0010 - 18s/epoch - 20ms/step
Epoch 63/75
876/876 - 18s - loss: 0.1820 - accuracy: 0.8094 - val_loss: 0.2339 - val_accuracy: 0.8215 - lr: 0.0010 - 18s/epoch - 20ms/step
Epoch 64/75
876/876 - 18s - loss: 0.1818 - accuracy: 0.8108 - val_loss: 0.2262 - val_accuracy: 0.8284 - lr: 0.0010 - 18s/epoch - 20ms/step
Epoch 65/75
876/876 - 18s - loss: 0.1823 - accuracy: 0.8099 - val_loss: 0.2285 - val_accuracy: 0.8265 - lr: 0.0010 - 18s/epoch - 20ms/step
Epoch 66/75
876/876 - 18s - loss: 0.1821 - accuracy: 0.8101 - val_loss: 0.2300 - val_accuracy: 0.8281 - lr: 0.0010 - 18s/epoch - 20ms/step
Epoch 67/75
876/876 - 18s - loss: 0.1817 - accuracy: 0.8098 - val_loss: 0.2263 - val_accuracy: 0.8288 - lr: 0.0010 - 18s/epoch - 20ms/step
Epoch 68/75
876/876 - 17s - loss: 0.1817 - accuracy: 0.8092 - val_loss: 0.2351 - val_accuracy: 0.8221 - lr: 0.0010 - 17s/epoch - 20ms/step
Epoch 69/75
876/876 - 18s - loss: 0.1817 - accuracy: 0.8106 - val_loss: 0.2340 - val_accuracy: 0.8289 - lr: 0.0010 - 18s/epoch - 20ms/step
Epoch 70/75
876/876 - 18s - loss: 0.1818 - accuracy: 0.8106 - val_loss: 0.2293 - val_accuracy: 0.8278 - lr: 0.0010 - 18s/epoch - 20ms/step
Epoch 71/75
876/876 - 18s - loss: 0.1819 - accuracy: 0.8082 - val_loss: 0.2360 - val_accuracy: 0.8208 - lr: 0.0010 - 18s/epoch - 20ms/step
Epoch 72/75
876/876 - 18s - loss: 0.1818 - accuracy: 0.8104 - val_loss: 0.2270 - val_accuracy: 0.8286 - lr: 0.0010 - 18s/epoch - 20ms/step
Epoch 73/75
876/876 - 18s - loss: 0.1813 - accuracy: 0.8102 - val_loss: 0.2271 - val_accuracy: 0.8303 - lr: 0.0010 - 18s/epoch - 20ms/step
Epoch 74/75
876/876 - 18s - loss: 0.1815 - accuracy: 0.8106 - val_loss: 0.2321 - val_accuracy: 0.8244 - lr: 0.0010 - 18s/epoch - 20ms/step
Epoch 75/75
876/876 - 18s - loss: 0.1817 - accuracy: 0.8099 - val_loss: 0.2293 - val_accuracy: 0.8278 - lr: 0.0010 - 18s/epoch - 20ms/step
fitting with batch size: 500
Epoch 1/75
176/176 - 11s - loss: 0.1798 - accuracy: 0.8132 - val_loss: 0.2273 - val_accuracy: 0.8274 - lr: 0.0010 - 11s/epoch - 64ms/step
Epoch 2/75
176/176 - 9s - loss: 0.1805 - accuracy: 0.8130 - val_loss: 0.2333 - val_accuracy: 0.8228 - lr: 0.0010 - 9s/epoch - 50ms/step
Epoch 3/75
176/176 - 9s - loss: 0.1802 - accuracy: 0.8126 - val_loss: 0.2240 - val_accuracy: 0.8297 - lr: 0.0010 - 9s/epoch - 50ms/step
Epoch 4/75
176/176 - 9s - loss: 0.1802 - accuracy: 0.8118 - val_loss: 0.2331 - val_accuracy: 0.8231 - lr: 0.0010 - 9s/epoch - 50ms/step
Epoch 5/75
176/176 - 9s - loss: 0.1798 - accuracy: 0.8133 - val_loss: 0.2270 - val_accuracy: 0.8293 - lr: 0.0010 - 9s/epoch - 50ms/step
Epoch 6/75
176/176 - 9s - loss: 0.1802 - accuracy: 0.8125 - val_loss: 0.2323 - val_accuracy: 0.8247 - lr: 0.0010 - 9s/epoch - 50ms/step
Epoch 7/75
176/176 - 9s - loss: 0.1799 - accuracy: 0.8132 - val_loss: 0.2272 - val_accuracy: 0.8285 - lr: 0.0010 - 9s/epoch - 50ms/step
Epoch 8/75
176/176 - 9s - loss: 0.1802 - accuracy: 0.8125 - val_loss: 0.2317 - val_accuracy: 0.8238 - lr: 0.0010 - 9s/epoch - 50ms/step
Epoch 9/75
176/176 - 9s - loss: 0.1792 - accuracy: 0.8136 - val_loss: 0.2276 - val_accuracy: 0.8288 - lr: 0.0010 - 9s/epoch - 50ms/step
Epoch 10/75
176/176 - 9s - loss: 0.1796 - accuracy: 0.8126 - val_loss: 0.2264 - val_accuracy: 0.8305 - lr: 0.0010 - 9s/epoch - 50ms/step
Epoch 11/75
176/176 - 9s - loss: 0.1799 - accuracy: 0.8126 - val_loss: 0.2262 - val_accuracy: 0.8297 - lr: 0.0010 - 9s/epoch - 50ms/step
Epoch 12/75
176/176 - 9s - loss: 0.1802 - accuracy: 0.8123 - val_loss: 0.2282 - val_accuracy: 0.8277 - lr: 0.0010 - 9s/epoch - 50ms/step
Epoch 13/75
176/176 - 9s - loss: 0.1796 - accuracy: 0.8114 - val_loss: 0.2214 - val_accuracy: 0.8314 - lr: 0.0010 - 9s/epoch - 50ms/step
Epoch 14/75
176/176 - 9s - loss: 0.1798 - accuracy: 0.8136 - val_loss: 0.2288 - val_accuracy: 0.8262 - lr: 0.0010 - 9s/epoch - 50ms/step
Epoch 15/75
176/176 - 9s - loss: 0.1799 - accuracy: 0.8136 - val_loss: 0.2250 - val_accuracy: 0.8308 - lr: 0.0010 - 9s/epoch - 50ms/step
Epoch 16/75
176/176 - 9s - loss: 0.1800 - accuracy: 0.8123 - val_loss: 0.2322 - val_accuracy: 0.8248 - lr: 0.0010 - 9s/epoch - 50ms/step
Epoch 17/75
176/176 - 9s - loss: 0.1797 - accuracy: 0.8131 - val_loss: 0.2281 - val_accuracy: 0.8282 - lr: 0.0010 - 9s/epoch - 50ms/step
Epoch 18/75
176/176 - 9s - loss: 0.1802 - accuracy: 0.8126 - val_loss: 0.2289 - val_accuracy: 0.8247 - lr: 0.0010 - 9s/epoch - 49ms/step
Epoch 19/75
176/176 - 9s - loss: 0.1805 - accuracy: 0.8114 - val_loss: 0.2304 - val_accuracy: 0.8248 - lr: 0.0010 - 9s/epoch - 49ms/step
Epoch 20/75
176/176 - 9s - loss: 0.1799 - accuracy: 0.8130 - val_loss: 0.2297 - val_accuracy: 0.8276 - lr: 0.0010 - 9s/epoch - 50ms/step
Epoch 21/75
176/176 - 9s - loss: 0.1796 - accuracy: 0.8125 - val_loss: 0.2318 - val_accuracy: 0.8244 - lr: 0.0010 - 9s/epoch - 50ms/step
Epoch 22/75
176/176 - 9s - loss: 0.1795 - accuracy: 0.8133 - val_loss: 0.2295 - val_accuracy: 0.8259 - lr: 0.0010 - 9s/epoch - 49ms/step
Epoch 23/75
176/176 - 9s - loss: 0.1796 - accuracy: 0.8132 - val_loss: 0.2268 - val_accuracy: 0.8288 - lr: 0.0010 - 9s/epoch - 50ms/step
Epoch 24/75
176/176 - 9s - loss: 0.1795 - accuracy: 0.8132 - val_loss: 0.2308 - val_accuracy: 0.8243 - lr: 0.0010 - 9s/epoch - 50ms/step
Epoch 25/75
176/176 - 9s - loss: 0.1799 - accuracy: 0.8133 - val_loss: 0.2320 - val_accuracy: 0.8247 - lr: 0.0010 - 9s/epoch - 49ms/step
Epoch 26/75
176/176 - 9s - loss: 0.1800 - accuracy: 0.8122 - val_loss: 0.2300 - val_accuracy: 0.8272 - lr: 0.0010 - 9s/epoch - 50ms/step
Epoch 27/75
176/176 - 9s - loss: 0.1799 - accuracy: 0.8117 - val_loss: 0.2260 - val_accuracy: 0.8279 - lr: 0.0010 - 9s/epoch - 50ms/step
Epoch 28/75
176/176 - 9s - loss: 0.1796 - accuracy: 0.8126 - val_loss: 0.2252 - val_accuracy: 0.8295 - lr: 0.0010 - 9s/epoch - 49ms/step
Epoch 29/75
176/176 - 9s - loss: 0.1797 - accuracy: 0.8128 - val_loss: 0.2294 - val_accuracy: 0.8260 - lr: 0.0010 - 9s/epoch - 50ms/step
Epoch 30/75
176/176 - 9s - loss: 0.1797 - accuracy: 0.8135 - val_loss: 0.2284 - val_accuracy: 0.8274 - lr: 0.0010 - 9s/epoch - 49ms/step
Epoch 31/75
176/176 - 9s - loss: 0.1797 - accuracy: 0.8132 - val_loss: 0.2274 - val_accuracy: 0.8279 - lr: 0.0010 - 9s/epoch - 50ms/step
Epoch 32/75
176/176 - 9s - loss: 0.1792 - accuracy: 0.8139 - val_loss: 0.2297 - val_accuracy: 0.8253 - lr: 0.0010 - 9s/epoch - 50ms/step
Epoch 33/75
176/176 - 9s - loss: 0.1796 - accuracy: 0.8127 - val_loss: 0.2320 - val_accuracy: 0.8251 - lr: 0.0010 - 9s/epoch - 50ms/step
Epoch 34/75
176/176 - 9s - loss: 0.1792 - accuracy: 0.8135 - val_loss: 0.2273 - val_accuracy: 0.8288 - lr: 0.0010 - 9s/epoch - 50ms/step
Epoch 35/75
176/176 - 9s - loss: 0.1793 - accuracy: 0.8133 - val_loss: 0.2282 - val_accuracy: 0.8268 - lr: 0.0010 - 9s/epoch - 49ms/step
Epoch 36/75
176/176 - 9s - loss: 0.1796 - accuracy: 0.8132 - val_loss: 0.2289 - val_accuracy: 0.8259 - lr: 0.0010 - 9s/epoch - 50ms/step
Epoch 37/75
176/176 - 9s - loss: 0.1799 - accuracy: 0.8120 - val_loss: 0.2292 - val_accuracy: 0.8261 - lr: 0.0010 - 9s/epoch - 50ms/step
Epoch 38/75
176/176 - 9s - loss: 0.1799 - accuracy: 0.8127 - val_loss: 0.2301 - val_accuracy: 0.8253 - lr: 0.0010 - 9s/epoch - 50ms/step
Epoch 39/75
176/176 - 9s - loss: 0.1796 - accuracy: 0.8124 - val_loss: 0.2315 - val_accuracy: 0.8252 - lr: 0.0010 - 9s/epoch - 50ms/step
Epoch 40/75
176/176 - 9s - loss: 0.1799 - accuracy: 0.8121 - val_loss: 0.2280 - val_accuracy: 0.8293 - lr: 0.0010 - 9s/epoch - 50ms/step
Epoch 41/75
176/176 - 9s - loss: 0.1795 - accuracy: 0.8130 - val_loss: 0.2275 - val_accuracy: 0.8276 - lr: 0.0010 - 9s/epoch - 49ms/step
Epoch 42/75
176/176 - 9s - loss: 0.1796 - accuracy: 0.8129 - val_loss: 0.2301 - val_accuracy: 0.8270 - lr: 0.0010 - 9s/epoch - 49ms/step
Epoch 43/75
176/176 - 9s - loss: 0.1793 - accuracy: 0.8139 - val_loss: 0.2317 - val_accuracy: 0.8252 - lr: 0.0010 - 9s/epoch - 50ms/step
Epoch 44/75
176/176 - 9s - loss: 0.1794 - accuracy: 0.8132 - val_loss: 0.2325 - val_accuracy: 0.8224 - lr: 0.0010 - 9s/epoch - 49ms/step
Epoch 45/75
176/176 - 9s - loss: 0.1798 - accuracy: 0.8127 - val_loss: 0.2320 - val_accuracy: 0.8238 - lr: 0.0010 - 9s/epoch - 50ms/step
Epoch 46/75
176/176 - 9s - loss: 0.1795 - accuracy: 0.8123 - val_loss: 0.2289 - val_accuracy: 0.8272 - lr: 0.0010 - 9s/epoch - 49ms/step
Epoch 47/75
176/176 - 9s - loss: 0.1796 - accuracy: 0.8136 - val_loss: 0.2303 - val_accuracy: 0.8266 - lr: 0.0010 - 9s/epoch - 50ms/step
Epoch 48/75
176/176 - 9s - loss: 0.1795 - accuracy: 0.8131 - val_loss: 0.2296 - val_accuracy: 0.8273 - lr: 0.0010 - 9s/epoch - 50ms/step
Epoch 49/75
176/176 - 9s - loss: 0.1795 - accuracy: 0.8133 - val_loss: 0.2281 - val_accuracy: 0.8283 - lr: 0.0010 - 9s/epoch - 50ms/step
Epoch 50/75
176/176 - 9s - loss: 0.1798 - accuracy: 0.8125 - val_loss: 0.2280 - val_accuracy: 0.8287 - lr: 0.0010 - 9s/epoch - 50ms/step
Epoch 51/75
176/176 - 9s - loss: 0.1792 - accuracy: 0.8134 - val_loss: 0.2295 - val_accuracy: 0.8261 - lr: 0.0010 - 9s/epoch - 50ms/step
Epoch 52/75
176/176 - 9s - loss: 0.1794 - accuracy: 0.8125 - val_loss: 0.2294 - val_accuracy: 0.8270 - lr: 0.0010 - 9s/epoch - 50ms/step
Epoch 53/75
176/176 - 9s - loss: 0.1791 - accuracy: 0.8127 - val_loss: 0.2344 - val_accuracy: 0.8217 - lr: 0.0010 - 9s/epoch - 50ms/step
Epoch 54/75
176/176 - 9s - loss: 0.1797 - accuracy: 0.8122 - val_loss: 0.2296 - val_accuracy: 0.8272 - lr: 0.0010 - 9s/epoch - 50ms/step
Epoch 55/75
176/176 - 9s - loss: 0.1796 - accuracy: 0.8126 - val_loss: 0.2258 - val_accuracy: 0.8288 - lr: 0.0010 - 9s/epoch - 50ms/step
Epoch 56/75
176/176 - 9s - loss: 0.1803 - accuracy: 0.8120 - val_loss: 0.2313 - val_accuracy: 0.8256 - lr: 0.0010 - 9s/epoch - 50ms/step
Epoch 57/75
176/176 - 9s - loss: 0.1795 - accuracy: 0.8125 - val_loss: 0.2237 - val_accuracy: 0.8319 - lr: 0.0010 - 9s/epoch - 50ms/step
Epoch 58/75
176/176 - 9s - loss: 0.1796 - accuracy: 0.8127 - val_loss: 0.2349 - val_accuracy: 0.8206 - lr: 0.0010 - 9s/epoch - 50ms/step
Epoch 59/75
176/176 - 9s - loss: 0.1791 - accuracy: 0.8143 - val_loss: 0.2298 - val_accuracy: 0.8261 - lr: 0.0010 - 9s/epoch - 50ms/step
Epoch 60/75
176/176 - 9s - loss: 0.1789 - accuracy: 0.8141 - val_loss: 0.2328 - val_accuracy: 0.8241 - lr: 0.0010 - 9s/epoch - 50ms/step
Epoch 61/75
176/176 - 9s - loss: 0.1790 - accuracy: 0.8137 - val_loss: 0.2302 - val_accuracy: 0.8259 - lr: 0.0010 - 9s/epoch - 50ms/step
Epoch 62/75
176/176 - 9s - loss: 0.1794 - accuracy: 0.8139 - val_loss: 0.2299 - val_accuracy: 0.8270 - lr: 0.0010 - 9s/epoch - 50ms/step
Epoch 63/75
176/176 - 9s - loss: 0.1795 - accuracy: 0.8118 - val_loss: 0.2299 - val_accuracy: 0.8256 - lr: 0.0010 - 9s/epoch - 49ms/step
Epoch 64/75
176/176 - 9s - loss: 0.1794 - accuracy: 0.8132 - val_loss: 0.2335 - val_accuracy: 0.8233 - lr: 0.0010 - 9s/epoch - 50ms/step
Epoch 65/75
176/176 - 9s - loss: 0.1792 - accuracy: 0.8141 - val_loss: 0.2303 - val_accuracy: 0.8247 - lr: 0.0010 - 9s/epoch - 50ms/step
Epoch 66/75
176/176 - 9s - loss: 0.1792 - accuracy: 0.8133 - val_loss: 0.2264 - val_accuracy: 0.8283 - lr: 0.0010 - 9s/epoch - 50ms/step
Epoch 67/75
176/176 - 9s - loss: 0.1789 - accuracy: 0.8131 - val_loss: 0.2262 - val_accuracy: 0.8275 - lr: 0.0010 - 9s/epoch - 50ms/step
Epoch 68/75
176/176 - 9s - loss: 0.1790 - accuracy: 0.8133 - val_loss: 0.2300 - val_accuracy: 0.8252 - lr: 0.0010 - 9s/epoch - 50ms/step
Epoch 69/75
176/176 - 9s - loss: 0.1791 - accuracy: 0.8126 - val_loss: 0.2280 - val_accuracy: 0.8290 - lr: 0.0010 - 9s/epoch - 50ms/step
Epoch 70/75
176/176 - 9s - loss: 0.1790 - accuracy: 0.8135 - val_loss: 0.2333 - val_accuracy: 0.8241 - lr: 0.0010 - 9s/epoch - 50ms/step
Epoch 71/75
176/176 - 9s - loss: 0.1791 - accuracy: 0.8136 - val_loss: 0.2307 - val_accuracy: 0.8256 - lr: 0.0010 - 9s/epoch - 50ms/step
Epoch 72/75
176/176 - 9s - loss: 0.1797 - accuracy: 0.8121 - val_loss: 0.2296 - val_accuracy: 0.8265 - lr: 0.0010 - 9s/epoch - 50ms/step
Epoch 73/75
176/176 - 9s - loss: 0.1794 - accuracy: 0.8129 - val_loss: 0.2289 - val_accuracy: 0.8271 - lr: 0.0010 - 9s/epoch - 50ms/step
Epoch 74/75
176/176 - 9s - loss: 0.1793 - accuracy: 0.8127 - val_loss: 0.2261 - val_accuracy: 0.8298 - lr: 0.0010 - 9s/epoch - 50ms/step
Epoch 75/75
176/176 - 9s - loss: 0.1786 - accuracy: 0.8146 - val_loss: 0.2314 - val_accuracy: 0.8238 - lr: 0.0010 - 9s/epoch - 50ms/step
fitting with batch size: 1500
Epoch 1/75
59/59 - 16s - loss: 0.1788 - accuracy: 0.8137 - val_loss: 0.2289 - val_accuracy: 0.8268 - lr: 0.0010 - 16s/epoch - 272ms/step
Epoch 2/75
59/59 - 8s - loss: 0.1786 - accuracy: 0.8147 - val_loss: 0.2302 - val_accuracy: 0.8257 - lr: 0.0010 - 8s/epoch - 132ms/step
Epoch 3/75
59/59 - 8s - loss: 0.1787 - accuracy: 0.8136 - val_loss: 0.2282 - val_accuracy: 0.8273 - lr: 0.0010 - 8s/epoch - 132ms/step
Epoch 4/75
59/59 - 8s - loss: 0.1790 - accuracy: 0.8131 - val_loss: 0.2292 - val_accuracy: 0.8264 - lr: 0.0010 - 8s/epoch - 132ms/step
Epoch 5/75
59/59 - 8s - loss: 0.1787 - accuracy: 0.8143 - val_loss: 0.2278 - val_accuracy: 0.8279 - lr: 0.0010 - 8s/epoch - 132ms/step
Epoch 6/75
59/59 - 8s - loss: 0.1790 - accuracy: 0.8144 - val_loss: 0.2290 - val_accuracy: 0.8270 - lr: 0.0010 - 8s/epoch - 132ms/step
Epoch 7/75
59/59 - 8s - loss: 0.1785 - accuracy: 0.8141 - val_loss: 0.2292 - val_accuracy: 0.8258 - lr: 0.0010 - 8s/epoch - 132ms/step
Epoch 8/75
59/59 - 8s - loss: 0.1787 - accuracy: 0.8139 - val_loss: 0.2297 - val_accuracy: 0.8256 - lr: 0.0010 - 8s/epoch - 132ms/step
Epoch 9/75
59/59 - 8s - loss: 0.1784 - accuracy: 0.8147 - val_loss: 0.2290 - val_accuracy: 0.8270 - lr: 0.0010 - 8s/epoch - 132ms/step
Epoch 10/75
59/59 - 8s - loss: 0.1785 - accuracy: 0.8133 - val_loss: 0.2294 - val_accuracy: 0.8261 - lr: 0.0010 - 8s/epoch - 132ms/step
Epoch 11/75
59/59 - 8s - loss: 0.1788 - accuracy: 0.8145 - val_loss: 0.2296 - val_accuracy: 0.8262 - lr: 0.0010 - 8s/epoch - 131ms/step
Epoch 12/75
59/59 - 8s - loss: 0.1787 - accuracy: 0.8142 - val_loss: 0.2279 - val_accuracy: 0.8276 - lr: 0.0010 - 8s/epoch - 132ms/step
Epoch 13/75
59/59 - 8s - loss: 0.1788 - accuracy: 0.8141 - val_loss: 0.2289 - val_accuracy: 0.8263 - lr: 0.0010 - 8s/epoch - 132ms/step
Epoch 14/75
59/59 - 8s - loss: 0.1789 - accuracy: 0.8144 - val_loss: 0.2293 - val_accuracy: 0.8261 - lr: 0.0010 - 8s/epoch - 132ms/step
Epoch 15/75
59/59 - 8s - loss: 0.1793 - accuracy: 0.8141 - val_loss: 0.2301 - val_accuracy: 0.8255 - lr: 0.0010 - 8s/epoch - 132ms/step
Epoch 16/75
59/59 - 8s - loss: 0.1791 - accuracy: 0.8139 - val_loss: 0.2298 - val_accuracy: 0.8258 - lr: 0.0010 - 8s/epoch - 132ms/step
Epoch 17/75
59/59 - 8s - loss: 0.1793 - accuracy: 0.8135 - val_loss: 0.2306 - val_accuracy: 0.8253 - lr: 0.0010 - 8s/epoch - 132ms/step
Epoch 18/75
59/59 - 8s - loss: 0.1784 - accuracy: 0.8142 - val_loss: 0.2302 - val_accuracy: 0.8255 - lr: 0.0010 - 8s/epoch - 132ms/step
Epoch 19/75
59/59 - 8s - loss: 0.1788 - accuracy: 0.8140 - val_loss: 0.2298 - val_accuracy: 0.8259 - lr: 0.0010 - 8s/epoch - 132ms/step
Epoch 20/75
59/59 - 8s - loss: 0.1780 - accuracy: 0.8152 - val_loss: 0.2299 - val_accuracy: 0.8257 - lr: 0.0010 - 8s/epoch - 132ms/step
Epoch 21/75
59/59 - 8s - loss: 0.1788 - accuracy: 0.8147 - val_loss: 0.2305 - val_accuracy: 0.8254 - lr: 0.0010 - 8s/epoch - 133ms/step
Epoch 22/75
59/59 - 8s - loss: 0.1785 - accuracy: 0.8144 - val_loss: 0.2285 - val_accuracy: 0.8275 - lr: 0.0010 - 8s/epoch - 132ms/step
Epoch 23/75
59/59 - 8s - loss: 0.1787 - accuracy: 0.8137 - val_loss: 0.2286 - val_accuracy: 0.8268 - lr: 0.0010 - 8s/epoch - 132ms/step
Epoch 24/75
59/59 - 8s - loss: 0.1789 - accuracy: 0.8129 - val_loss: 0.2308 - val_accuracy: 0.8253 - lr: 0.0010 - 8s/epoch - 132ms/step
Epoch 25/75
59/59 - 8s - loss: 0.1788 - accuracy: 0.8137 - val_loss: 0.2301 - val_accuracy: 0.8260 - lr: 0.0010 - 8s/epoch - 132ms/step
Epoch 26/75
59/59 - 8s - loss: 0.1788 - accuracy: 0.8139 - val_loss: 0.2306 - val_accuracy: 0.8251 - lr: 0.0010 - 8s/epoch - 132ms/step
Epoch 27/75
59/59 - 8s - loss: 0.1788 - accuracy: 0.8141 - val_loss: 0.2293 - val_accuracy: 0.8263 - lr: 0.0010 - 8s/epoch - 132ms/step
Epoch 28/75
59/59 - 8s - loss: 0.1791 - accuracy: 0.8134 - val_loss: 0.2288 - val_accuracy: 0.8267 - lr: 0.0010 - 8s/epoch - 132ms/step
Epoch 29/75
59/59 - 8s - loss: 0.1794 - accuracy: 0.8127 - val_loss: 0.2298 - val_accuracy: 0.8253 - lr: 0.0010 - 8s/epoch - 131ms/step
Epoch 30/75
59/59 - 8s - loss: 0.1790 - accuracy: 0.8128 - val_loss: 0.2299 - val_accuracy: 0.8261 - lr: 0.0010 - 8s/epoch - 132ms/step
Epoch 31/75
59/59 - 8s - loss: 0.1789 - accuracy: 0.8143 - val_loss: 0.2295 - val_accuracy: 0.8262 - lr: 0.0010 - 8s/epoch - 132ms/step
Epoch 32/75
59/59 - 8s - loss: 0.1783 - accuracy: 0.8141 - val_loss: 0.2298 - val_accuracy: 0.8259 - lr: 0.0010 - 8s/epoch - 132ms/step
Epoch 33/75
59/59 - 8s - loss: 0.1791 - accuracy: 0.8143 - val_loss: 0.2286 - val_accuracy: 0.8272 - lr: 0.0010 - 8s/epoch - 133ms/step
Epoch 34/75
59/59 - 8s - loss: 0.1789 - accuracy: 0.8142 - val_loss: 0.2305 - val_accuracy: 0.8254 - lr: 0.0010 - 8s/epoch - 132ms/step
Epoch 35/75
59/59 - 8s - loss: 0.1782 - accuracy: 0.8149 - val_loss: 0.2283 - val_accuracy: 0.8268 - lr: 0.0010 - 8s/epoch - 133ms/step
Epoch 36/75
59/59 - 8s - loss: 0.1787 - accuracy: 0.8146 - val_loss: 0.2289 - val_accuracy: 0.8267 - lr: 0.0010 - 8s/epoch - 132ms/step
Epoch 37/75
59/59 - 8s - loss: 0.1784 - accuracy: 0.8138 - val_loss: 0.2298 - val_accuracy: 0.8264 - lr: 0.0010 - 8s/epoch - 132ms/step
Epoch 38/75
59/59 - 8s - loss: 0.1784 - accuracy: 0.8152 - val_loss: 0.2309 - val_accuracy: 0.8250 - lr: 0.0010 - 8s/epoch - 132ms/step
Epoch 39/75
59/59 - 8s - loss: 0.1786 - accuracy: 0.8144 - val_loss: 0.2294 - val_accuracy: 0.8262 - lr: 0.0010 - 8s/epoch - 132ms/step
Epoch 40/75
59/59 - 8s - loss: 0.1783 - accuracy: 0.8158 - val_loss: 0.2296 - val_accuracy: 0.8262 - lr: 0.0010 - 8s/epoch - 132ms/step
Epoch 41/75
59/59 - 8s - loss: 0.1790 - accuracy: 0.8138 - val_loss: 0.2325 - val_accuracy: 0.8236 - lr: 0.0010 - 8s/epoch - 132ms/step
Epoch 42/75
59/59 - 8s - loss: 0.1791 - accuracy: 0.8136 - val_loss: 0.2294 - val_accuracy: 0.8261 - lr: 0.0010 - 8s/epoch - 132ms/step
Epoch 43/75
59/59 - 8s - loss: 0.1786 - accuracy: 0.8142 - val_loss: 0.2297 - val_accuracy: 0.8261 - lr: 0.0010 - 8s/epoch - 132ms/step
Epoch 44/75
59/59 - 8s - loss: 0.1784 - accuracy: 0.8137 - val_loss: 0.2298 - val_accuracy: 0.8261 - lr: 0.0010 - 8s/epoch - 132ms/step
Epoch 45/75
59/59 - 8s - loss: 0.1781 - accuracy: 0.8153 - val_loss: 0.2302 - val_accuracy: 0.8256 - lr: 0.0010 - 8s/epoch - 133ms/step
Epoch 46/75
59/59 - 8s - loss: 0.1786 - accuracy: 0.8145 - val_loss: 0.2294 - val_accuracy: 0.8262 - lr: 0.0010 - 8s/epoch - 132ms/step
Epoch 47/75
59/59 - 8s - loss: 0.1790 - accuracy: 0.8136 - val_loss: 0.2301 - val_accuracy: 0.8256 - lr: 0.0010 - 8s/epoch - 132ms/step
Epoch 48/75
59/59 - 8s - loss: 0.1786 - accuracy: 0.8151 - val_loss: 0.2310 - val_accuracy: 0.8249 - lr: 0.0010 - 8s/epoch - 132ms/step
Epoch 49/75
59/59 - 8s - loss: 0.1790 - accuracy: 0.8136 - val_loss: 0.2290 - val_accuracy: 0.8266 - lr: 0.0010 - 8s/epoch - 132ms/step
Epoch 50/75
59/59 - 8s - loss: 0.1791 - accuracy: 0.8138 - val_loss: 0.2301 - val_accuracy: 0.8260 - lr: 0.0010 - 8s/epoch - 133ms/step
Epoch 51/75
59/59 - 8s - loss: 0.1788 - accuracy: 0.8141 - val_loss: 0.2291 - val_accuracy: 0.8271 - lr: 0.0010 - 8s/epoch - 133ms/step
Epoch 52/75
59/59 - 8s - loss: 0.1783 - accuracy: 0.8131 - val_loss: 0.2284 - val_accuracy: 0.8267 - lr: 0.0010 - 8s/epoch - 132ms/step
Epoch 53/75
59/59 - 8s - loss: 0.1791 - accuracy: 0.8132 - val_loss: 0.2299 - val_accuracy: 0.8264 - lr: 0.0010 - 8s/epoch - 132ms/step
Epoch 54/75
59/59 - 8s - loss: 0.1785 - accuracy: 0.8145 - val_loss: 0.2298 - val_accuracy: 0.8262 - lr: 0.0010 - 8s/epoch - 132ms/step
Epoch 55/75
59/59 - 8s - loss: 0.1786 - accuracy: 0.8143 - val_loss: 0.2301 - val_accuracy: 0.8253 - lr: 0.0010 - 8s/epoch - 132ms/step
Epoch 56/75
59/59 - 8s - loss: 0.1788 - accuracy: 0.8139 - val_loss: 0.2298 - val_accuracy: 0.8261 - lr: 0.0010 - 8s/epoch - 132ms/step
Epoch 57/75
59/59 - 8s - loss: 0.1785 - accuracy: 0.8143 - val_loss: 0.2297 - val_accuracy: 0.8260 - lr: 0.0010 - 8s/epoch - 133ms/step
Epoch 58/75
59/59 - 8s - loss: 0.1790 - accuracy: 0.8137 - val_loss: 0.2297 - val_accuracy: 0.8265 - lr: 0.0010 - 8s/epoch - 132ms/step
Epoch 59/75
59/59 - 8s - loss: 0.1784 - accuracy: 0.8138 - val_loss: 0.2292 - val_accuracy: 0.8267 - lr: 0.0010 - 8s/epoch - 132ms/step
Epoch 60/75
59/59 - 8s - loss: 0.1785 - accuracy: 0.8144 - val_loss: 0.2284 - val_accuracy: 0.8272 - lr: 0.0010 - 8s/epoch - 133ms/step
Epoch 61/75
59/59 - 8s - loss: 0.1786 - accuracy: 0.8150 - val_loss: 0.2288 - val_accuracy: 0.8263 - lr: 0.0010 - 8s/epoch - 132ms/step
Epoch 62/75
59/59 - 8s - loss: 0.1779 - accuracy: 0.8149 - val_loss: 0.2299 - val_accuracy: 0.8258 - lr: 0.0010 - 8s/epoch - 132ms/step
Epoch 63/75
59/59 - 8s - loss: 0.1783 - accuracy: 0.8142 - val_loss: 0.2292 - val_accuracy: 0.8262 - lr: 0.0010 - 8s/epoch - 132ms/step
Epoch 64/75
59/59 - 8s - loss: 0.1781 - accuracy: 0.8149 - val_loss: 0.2300 - val_accuracy: 0.8259 - lr: 0.0010 - 8s/epoch - 132ms/step
Epoch 65/75
59/59 - 8s - loss: 0.1786 - accuracy: 0.8134 - val_loss: 0.2287 - val_accuracy: 0.8269 - lr: 0.0010 - 8s/epoch - 132ms/step
Epoch 66/75
59/59 - 8s - loss: 0.1783 - accuracy: 0.8149 - val_loss: 0.2290 - val_accuracy: 0.8263 - lr: 0.0010 - 8s/epoch - 132ms/step
Epoch 67/75
59/59 - 8s - loss: 0.1784 - accuracy: 0.8140 - val_loss: 0.2291 - val_accuracy: 0.8263 - lr: 0.0010 - 8s/epoch - 133ms/step
Epoch 68/75
59/59 - 8s - loss: 0.1782 - accuracy: 0.8156 - val_loss: 0.2300 - val_accuracy: 0.8261 - lr: 0.0010 - 8s/epoch - 132ms/step
Epoch 69/75
59/59 - 8s - loss: 0.1784 - accuracy: 0.8140 - val_loss: 0.2297 - val_accuracy: 0.8259 - lr: 0.0010 - 8s/epoch - 133ms/step
Epoch 70/75
59/59 - 8s - loss: 0.1784 - accuracy: 0.8141 - val_loss: 0.2287 - val_accuracy: 0.8269 - lr: 0.0010 - 8s/epoch - 133ms/step
Epoch 71/75
59/59 - 8s - loss: 0.1788 - accuracy: 0.8139 - val_loss: 0.2294 - val_accuracy: 0.8263 - lr: 0.0010 - 8s/epoch - 132ms/step
Epoch 72/75
59/59 - 8s - loss: 0.1791 - accuracy: 0.8140 - val_loss: 0.2285 - val_accuracy: 0.8276 - lr: 0.0010 - 8s/epoch - 132ms/step
Epoch 73/75
59/59 - 8s - loss: 0.1786 - accuracy: 0.8145 - val_loss: 0.2297 - val_accuracy: 0.8259 - lr: 0.0010 - 8s/epoch - 132ms/step
Epoch 74/75
59/59 - 8s - loss: 0.1782 - accuracy: 0.8148 - val_loss: 0.2303 - val_accuracy: 0.8254 - lr: 0.0010 - 8s/epoch - 132ms/step
Epoch 75/75
59/59 - 8s - loss: 0.1789 - accuracy: 0.8144 - val_loss: 0.2286 - val_accuracy: 0.8271 - lr: 0.0010 - 8s/epoch - 132ms/step
fitting with batch size: 2500
Epoch 1/75
36/36 - 10s - loss: 0.1784 - accuracy: 0.8141 - val_loss: 0.2333 - val_accuracy: 0.8229 - lr: 0.0010 - 10s/epoch - 282ms/step
Epoch 2/75
36/36 - 8s - loss: 0.1786 - accuracy: 0.8151 - val_loss: 0.2272 - val_accuracy: 0.8289 - lr: 0.0010 - 8s/epoch - 209ms/step
Epoch 3/75
36/36 - 8s - loss: 0.1785 - accuracy: 0.8146 - val_loss: 0.2345 - val_accuracy: 0.8220 - lr: 0.0010 - 8s/epoch - 209ms/step
Epoch 4/75
36/36 - 8s - loss: 0.1785 - accuracy: 0.8141 - val_loss: 0.2298 - val_accuracy: 0.8265 - lr: 0.0010 - 8s/epoch - 209ms/step
Epoch 5/75
36/36 - 8s - loss: 0.1784 - accuracy: 0.8141 - val_loss: 0.2277 - val_accuracy: 0.8274 - lr: 0.0010 - 8s/epoch - 209ms/step
Epoch 6/75
36/36 - 8s - loss: 0.1783 - accuracy: 0.8140 - val_loss: 0.2314 - val_accuracy: 0.8246 - lr: 0.0010 - 8s/epoch - 209ms/step
Epoch 7/75
36/36 - 8s - loss: 0.1788 - accuracy: 0.8149 - val_loss: 0.2305 - val_accuracy: 0.8256 - lr: 0.0010 - 8s/epoch - 210ms/step
Epoch 8/75
36/36 - 8s - loss: 0.1787 - accuracy: 0.8139 - val_loss: 0.2303 - val_accuracy: 0.8251 - lr: 0.0010 - 8s/epoch - 210ms/step
Epoch 9/75
36/36 - 8s - loss: 0.1791 - accuracy: 0.8134 - val_loss: 0.2277 - val_accuracy: 0.8284 - lr: 0.0010 - 8s/epoch - 209ms/step
Epoch 10/75
36/36 - 8s - loss: 0.1783 - accuracy: 0.8148 - val_loss: 0.2264 - val_accuracy: 0.8289 - lr: 0.0010 - 8s/epoch - 209ms/step
Epoch 11/75
36/36 - 8s - loss: 0.1787 - accuracy: 0.8145 - val_loss: 0.2273 - val_accuracy: 0.8289 - lr: 0.0010 - 8s/epoch - 209ms/step
Epoch 12/75
36/36 - 8s - loss: 0.1783 - accuracy: 0.8148 - val_loss: 0.2304 - val_accuracy: 0.8258 - lr: 0.0010 - 8s/epoch - 209ms/step
Epoch 13/75
36/36 - 8s - loss: 0.1786 - accuracy: 0.8143 - val_loss: 0.2291 - val_accuracy: 0.8269 - lr: 0.0010 - 8s/epoch - 209ms/step
Epoch 14/75
36/36 - 8s - loss: 0.1786 - accuracy: 0.8144 - val_loss: 0.2288 - val_accuracy: 0.8265 - lr: 0.0010 - 8s/epoch - 209ms/step
Epoch 15/75
36/36 - 8s - loss: 0.1789 - accuracy: 0.8140 - val_loss: 0.2303 - val_accuracy: 0.8257 - lr: 0.0010 - 8s/epoch - 210ms/step
Epoch 16/75
36/36 - 8s - loss: 0.1783 - accuracy: 0.8147 - val_loss: 0.2318 - val_accuracy: 0.8246 - lr: 0.0010 - 8s/epoch - 209ms/step
Epoch 17/75
36/36 - 8s - loss: 0.1787 - accuracy: 0.8138 - val_loss: 0.2247 - val_accuracy: 0.8323 - lr: 0.0010 - 8s/epoch - 210ms/step
Epoch 18/75
36/36 - 8s - loss: 0.1788 - accuracy: 0.8148 - val_loss: 0.2282 - val_accuracy: 0.8272 - lr: 0.0010 - 8s/epoch - 209ms/step
Epoch 19/75
36/36 - 8s - loss: 0.1787 - accuracy: 0.8141 - val_loss: 0.2298 - val_accuracy: 0.8266 - lr: 0.0010 - 8s/epoch - 210ms/step
Epoch 20/75
36/36 - 8s - loss: 0.1788 - accuracy: 0.8137 - val_loss: 0.2289 - val_accuracy: 0.8280 - lr: 0.0010 - 8s/epoch - 209ms/step
Epoch 21/75
36/36 - 8s - loss: 0.1784 - accuracy: 0.8144 - val_loss: 0.2315 - val_accuracy: 0.8240 - lr: 0.0010 - 8s/epoch - 209ms/step
Epoch 22/75
36/36 - 8s - loss: 0.1788 - accuracy: 0.8146 - val_loss: 0.2311 - val_accuracy: 0.8249 - lr: 0.0010 - 8s/epoch - 209ms/step
Epoch 23/75
36/36 - 8s - loss: 0.1789 - accuracy: 0.8140 - val_loss: 0.2338 - val_accuracy: 0.8224 - lr: 0.0010 - 8s/epoch - 210ms/step
Epoch 24/75
36/36 - 8s - loss: 0.1789 - accuracy: 0.8138 - val_loss: 0.2310 - val_accuracy: 0.8251 - lr: 0.0010 - 8s/epoch - 209ms/step
Epoch 25/75
36/36 - 8s - loss: 0.1787 - accuracy: 0.8134 - val_loss: 0.2298 - val_accuracy: 0.8265 - lr: 0.0010 - 8s/epoch - 210ms/step
Epoch 26/75
36/36 - 8s - loss: 0.1790 - accuracy: 0.8138 - val_loss: 0.2335 - val_accuracy: 0.8237 - lr: 0.0010 - 8s/epoch - 209ms/step
Epoch 27/75
36/36 - 8s - loss: 0.1782 - accuracy: 0.8153 - val_loss: 0.2298 - val_accuracy: 0.8262 - lr: 0.0010 - 8s/epoch - 209ms/step
Epoch 28/75
36/36 - 8s - loss: 0.1784 - accuracy: 0.8140 - val_loss: 0.2294 - val_accuracy: 0.8260 - lr: 0.0010 - 8s/epoch - 209ms/step
Epoch 29/75
36/36 - 8s - loss: 0.1782 - accuracy: 0.8143 - val_loss: 0.2304 - val_accuracy: 0.8255 - lr: 0.0010 - 8s/epoch - 210ms/step
Epoch 30/75
36/36 - 8s - loss: 0.1788 - accuracy: 0.8139 - val_loss: 0.2290 - val_accuracy: 0.8265 - lr: 0.0010 - 8s/epoch - 209ms/step
Epoch 31/75
36/36 - 8s - loss: 0.1788 - accuracy: 0.8134 - val_loss: 0.2284 - val_accuracy: 0.8282 - lr: 0.0010 - 8s/epoch - 209ms/step
Epoch 32/75
36/36 - 8s - loss: 0.1782 - accuracy: 0.8151 - val_loss: 0.2295 - val_accuracy: 0.8263 - lr: 0.0010 - 8s/epoch - 209ms/step
Epoch 33/75
36/36 - 8s - loss: 0.1781 - accuracy: 0.8147 - val_loss: 0.2300 - val_accuracy: 0.8256 - lr: 0.0010 - 8s/epoch - 209ms/step
Epoch 34/75
36/36 - 8s - loss: 0.1786 - accuracy: 0.8143 - val_loss: 0.2275 - val_accuracy: 0.8281 - lr: 0.0010 - 8s/epoch - 209ms/step
Epoch 35/75
36/36 - 8s - loss: 0.1782 - accuracy: 0.8141 - val_loss: 0.2297 - val_accuracy: 0.8265 - lr: 0.0010 - 8s/epoch - 210ms/step
Epoch 36/75
36/36 - 8s - loss: 0.1783 - accuracy: 0.8146 - val_loss: 0.2326 - val_accuracy: 0.8242 - lr: 0.0010 - 8s/epoch - 210ms/step
Epoch 37/75
36/36 - 8s - loss: 0.1777 - accuracy: 0.8156 - val_loss: 0.2323 - val_accuracy: 0.8240 - lr: 0.0010 - 8s/epoch - 209ms/step
Epoch 38/75
36/36 - 8s - loss: 0.1790 - accuracy: 0.8130 - val_loss: 0.2294 - val_accuracy: 0.8272 - lr: 0.0010 - 8s/epoch - 209ms/step
Epoch 39/75
36/36 - 8s - loss: 0.1785 - accuracy: 0.8150 - val_loss: 0.2333 - val_accuracy: 0.8234 - lr: 0.0010 - 8s/epoch - 209ms/step
Epoch 40/75
36/36 - 8s - loss: 0.1786 - accuracy: 0.8139 - val_loss: 0.2299 - val_accuracy: 0.8260 - lr: 0.0010 - 8s/epoch - 209ms/step
Epoch 41/75
36/36 - 8s - loss: 0.1784 - accuracy: 0.8148 - val_loss: 0.2255 - val_accuracy: 0.8297 - lr: 0.0010 - 8s/epoch - 210ms/step
Epoch 42/75
36/36 - 8s - loss: 0.1785 - accuracy: 0.8143 - val_loss: 0.2318 - val_accuracy: 0.8257 - lr: 0.0010 - 8s/epoch - 209ms/step
Epoch 43/75
36/36 - 8s - loss: 0.1785 - accuracy: 0.8154 - val_loss: 0.2310 - val_accuracy: 0.8243 - lr: 0.0010 - 8s/epoch - 209ms/step
Epoch 44/75
36/36 - 8s - loss: 0.1779 - accuracy: 0.8150 - val_loss: 0.2271 - val_accuracy: 0.8287 - lr: 0.0010 - 8s/epoch - 210ms/step
Epoch 45/75
36/36 - 8s - loss: 0.1787 - accuracy: 0.8147 - val_loss: 0.2308 - val_accuracy: 0.8246 - lr: 0.0010 - 8s/epoch - 209ms/step
Epoch 46/75
36/36 - 8s - loss: 0.1784 - accuracy: 0.8159 - val_loss: 0.2275 - val_accuracy: 0.8277 - lr: 0.0010 - 8s/epoch - 209ms/step
Epoch 47/75
36/36 - 8s - loss: 0.1789 - accuracy: 0.8143 - val_loss: 0.2297 - val_accuracy: 0.8258 - lr: 0.0010 - 8s/epoch - 209ms/step
Epoch 48/75
36/36 - 8s - loss: 0.1784 - accuracy: 0.8140 - val_loss: 0.2304 - val_accuracy: 0.8251 - lr: 0.0010 - 8s/epoch - 209ms/step
Epoch 49/75
36/36 - 8s - loss: 0.1784 - accuracy: 0.8148 - val_loss: 0.2318 - val_accuracy: 0.8242 - lr: 0.0010 - 8s/epoch - 209ms/step
Epoch 50/75
36/36 - 8s - loss: 0.1784 - accuracy: 0.8150 - val_loss: 0.2342 - val_accuracy: 0.8220 - lr: 0.0010 - 8s/epoch - 209ms/step
Epoch 51/75
36/36 - 8s - loss: 0.1787 - accuracy: 0.8143 - val_loss: 0.2282 - val_accuracy: 0.8281 - lr: 0.0010 - 8s/epoch - 210ms/step
Epoch 52/75
36/36 - 8s - loss: 0.1782 - accuracy: 0.8145 - val_loss: 0.2299 - val_accuracy: 0.8261 - lr: 0.0010 - 8s/epoch - 210ms/step
Epoch 53/75
36/36 - 8s - loss: 0.1782 - accuracy: 0.8139 - val_loss: 0.2292 - val_accuracy: 0.8269 - lr: 0.0010 - 8s/epoch - 209ms/step
Epoch 54/75
36/36 - 8s - loss: 0.1787 - accuracy: 0.8145 - val_loss: 0.2281 - val_accuracy: 0.8279 - lr: 0.0010 - 8s/epoch - 209ms/step
Epoch 55/75
36/36 - 8s - loss: 0.1787 - accuracy: 0.8131 - val_loss: 0.2307 - val_accuracy: 0.8255 - lr: 0.0010 - 8s/epoch - 209ms/step
Epoch 56/75
36/36 - 8s - loss: 0.1780 - accuracy: 0.8155 - val_loss: 0.2293 - val_accuracy: 0.8263 - lr: 0.0010 - 8s/epoch - 209ms/step
Epoch 57/75
36/36 - 8s - loss: 0.1782 - accuracy: 0.8151 - val_loss: 0.2306 - val_accuracy: 0.8264 - lr: 0.0010 - 8s/epoch - 209ms/step
Epoch 58/75
36/36 - 8s - loss: 0.1786 - accuracy: 0.8142 - val_loss: 0.2269 - val_accuracy: 0.8291 - lr: 0.0010 - 8s/epoch - 210ms/step
Epoch 59/75
36/36 - 8s - loss: 0.1786 - accuracy: 0.8139 - val_loss: 0.2319 - val_accuracy: 0.8238 - lr: 0.0010 - 8s/epoch - 209ms/step
Epoch 60/75
36/36 - 8s - loss: 0.1787 - accuracy: 0.8153 - val_loss: 0.2269 - val_accuracy: 0.8278 - lr: 0.0010 - 8s/epoch - 209ms/step
Epoch 61/75
36/36 - 8s - loss: 0.1783 - accuracy: 0.8143 - val_loss: 0.2288 - val_accuracy: 0.8261 - lr: 0.0010 - 8s/epoch - 209ms/step
Epoch 62/75
36/36 - 8s - loss: 0.1787 - accuracy: 0.8135 - val_loss: 0.2313 - val_accuracy: 0.8248 - lr: 0.0010 - 8s/epoch - 209ms/step
Epoch 63/75
36/36 - 8s - loss: 0.1786 - accuracy: 0.8128 - val_loss: 0.2315 - val_accuracy: 0.8252 - lr: 0.0010 - 8s/epoch - 209ms/step
Epoch 64/75
36/36 - 8s - loss: 0.1791 - accuracy: 0.8143 - val_loss: 0.2324 - val_accuracy: 0.8234 - lr: 0.0010 - 8s/epoch - 210ms/step
Epoch 65/75
36/36 - 8s - loss: 0.1784 - accuracy: 0.8145 - val_loss: 0.2278 - val_accuracy: 0.8269 - lr: 0.0010 - 8s/epoch - 210ms/step
Epoch 66/75
36/36 - 8s - loss: 0.1782 - accuracy: 0.8145 - val_loss: 0.2308 - val_accuracy: 0.8251 - lr: 0.0010 - 8s/epoch - 210ms/step
Epoch 67/75
36/36 - 8s - loss: 0.1787 - accuracy: 0.8139 - val_loss: 0.2290 - val_accuracy: 0.8265 - lr: 0.0010 - 8s/epoch - 209ms/step
Epoch 68/75
36/36 - 8s - loss: 0.1785 - accuracy: 0.8148 - val_loss: 0.2310 - val_accuracy: 0.8256 - lr: 0.0010 - 8s/epoch - 209ms/step
Epoch 69/75
36/36 - 8s - loss: 0.1785 - accuracy: 0.8138 - val_loss: 0.2309 - val_accuracy: 0.8258 - lr: 0.0010 - 8s/epoch - 210ms/step
Epoch 70/75
36/36 - 8s - loss: 0.1785 - accuracy: 0.8143 - val_loss: 0.2305 - val_accuracy: 0.8259 - lr: 0.0010 - 8s/epoch - 209ms/step
Epoch 71/75
36/36 - 8s - loss: 0.1780 - accuracy: 0.8154 - val_loss: 0.2233 - val_accuracy: 0.8317 - lr: 0.0010 - 8s/epoch - 209ms/step
Epoch 72/75
36/36 - 8s - loss: 0.1785 - accuracy: 0.8139 - val_loss: 0.2234 - val_accuracy: 0.8328 - lr: 0.0010 - 8s/epoch - 210ms/step
Epoch 73/75
36/36 - 8s - loss: 0.1788 - accuracy: 0.8143 - val_loss: 0.2283 - val_accuracy: 0.8275 - lr: 0.0010 - 8s/epoch - 210ms/step
Epoch 74/75
36/36 - 8s - loss: 0.1786 - accuracy: 0.8148 - val_loss: 0.2283 - val_accuracy: 0.8276 - lr: 0.0010 - 8s/epoch - 209ms/step
Epoch 75/75
36/36 - 8s - loss: 0.1781 - accuracy: 0.8144 - val_loss: 0.2335 - val_accuracy: 0.8224 - lr: 0.0010 - 8s/epoch - 210ms/step
Epoch number: 100
fitting with batch size: 20
Epoch 1/100
4378/4378 - 75s - loss: 0.1939 - accuracy: 0.7937 - val_loss: 0.2299 - val_accuracy: 0.8250 - lr: 0.0010 - 75s/epoch - 17ms/step
Epoch 2/100
4378/4378 - 72s - loss: 0.1929 - accuracy: 0.7943 - val_loss: 0.2387 - val_accuracy: 0.8172 - lr: 0.0010 - 72s/epoch - 16ms/step
Epoch 3/100
4378/4378 - 72s - loss: 0.1927 - accuracy: 0.7957 - val_loss: 0.2515 - val_accuracy: 0.8107 - lr: 0.0010 - 72s/epoch - 16ms/step
Epoch 4/100
4378/4378 - 72s - loss: 0.1926 - accuracy: 0.7952 - val_loss: 0.2261 - val_accuracy: 0.8277 - lr: 0.0010 - 72s/epoch - 16ms/step
Epoch 5/100
4378/4378 - 72s - loss: 0.1928 - accuracy: 0.7946 - val_loss: 0.2417 - val_accuracy: 0.8124 - lr: 0.0010 - 72s/epoch - 16ms/step
Epoch 6/100
4378/4378 - 72s - loss: 0.1925 - accuracy: 0.7948 - val_loss: 0.2164 - val_accuracy: 0.8316 - lr: 0.0010 - 72s/epoch - 16ms/step
Epoch 7/100
4378/4378 - 72s - loss: 0.1922 - accuracy: 0.7947 - val_loss: 0.2208 - val_accuracy: 0.8337 - lr: 0.0010 - 72s/epoch - 16ms/step
Epoch 8/100
4378/4378 - 72s - loss: 0.1920 - accuracy: 0.7956 - val_loss: 0.2377 - val_accuracy: 0.8138 - lr: 0.0010 - 72s/epoch - 16ms/step
Epoch 9/100
4378/4378 - 72s - loss: 0.1920 - accuracy: 0.7941 - val_loss: 0.2327 - val_accuracy: 0.8265 - lr: 0.0010 - 72s/epoch - 16ms/step
Epoch 10/100
4378/4378 - 72s - loss: 0.1916 - accuracy: 0.7966 - val_loss: 0.2260 - val_accuracy: 0.8285 - lr: 0.0010 - 72s/epoch - 16ms/step
Epoch 11/100
4378/4378 - 72s - loss: 0.1915 - accuracy: 0.7971 - val_loss: 0.2287 - val_accuracy: 0.8296 - lr: 0.0010 - 72s/epoch - 16ms/step
Epoch 12/100
4378/4378 - 72s - loss: 0.1917 - accuracy: 0.7964 - val_loss: 0.2377 - val_accuracy: 0.8204 - lr: 0.0010 - 72s/epoch - 16ms/step
Epoch 13/100
4378/4378 - 72s - loss: 0.1914 - accuracy: 0.7970 - val_loss: 0.2138 - val_accuracy: 0.8391 - lr: 0.0010 - 72s/epoch - 16ms/step
Epoch 14/100
4378/4378 - 72s - loss: 0.1913 - accuracy: 0.7970 - val_loss: 0.2333 - val_accuracy: 0.8243 - lr: 0.0010 - 72s/epoch - 16ms/step
Epoch 15/100
4378/4378 - 72s - loss: 0.1915 - accuracy: 0.7955 - val_loss: 0.2284 - val_accuracy: 0.8300 - lr: 0.0010 - 72s/epoch - 16ms/step
Epoch 16/100
4378/4378 - 72s - loss: 0.1905 - accuracy: 0.7981 - val_loss: 0.2225 - val_accuracy: 0.8334 - lr: 0.0010 - 72s/epoch - 16ms/step
Epoch 17/100
4378/4378 - 72s - loss: 0.1908 - accuracy: 0.7983 - val_loss: 0.2220 - val_accuracy: 0.8306 - lr: 0.0010 - 72s/epoch - 16ms/step
Epoch 18/100
4378/4378 - 72s - loss: 0.1908 - accuracy: 0.7967 - val_loss: 0.2377 - val_accuracy: 0.8171 - lr: 0.0010 - 72s/epoch - 17ms/step
Epoch 19/100
4378/4378 - 72s - loss: 0.1899 - accuracy: 0.7986 - val_loss: 0.2421 - val_accuracy: 0.8139 - lr: 0.0010 - 72s/epoch - 16ms/step
Epoch 20/100
4378/4378 - 72s - loss: 0.1907 - accuracy: 0.7981 - val_loss: 0.2371 - val_accuracy: 0.8227 - lr: 0.0010 - 72s/epoch - 16ms/step
Epoch 21/100
4378/4378 - 72s - loss: 0.1905 - accuracy: 0.7975 - val_loss: 0.2415 - val_accuracy: 0.8140 - lr: 0.0010 - 72s/epoch - 16ms/step
Epoch 22/100
4378/4378 - 72s - loss: 0.1899 - accuracy: 0.7988 - val_loss: 0.2491 - val_accuracy: 0.8110 - lr: 0.0010 - 72s/epoch - 16ms/step
Epoch 23/100
4378/4378 - 72s - loss: 0.1908 - accuracy: 0.7972 - val_loss: 0.2309 - val_accuracy: 0.8264 - lr: 0.0010 - 72s/epoch - 16ms/step
Epoch 24/100
4378/4378 - 72s - loss: 0.1906 - accuracy: 0.7962 - val_loss: 0.2317 - val_accuracy: 0.8269 - lr: 0.0010 - 72s/epoch - 16ms/step
Epoch 25/100
4378/4378 - 72s - loss: 0.1901 - accuracy: 0.7977 - val_loss: 0.2451 - val_accuracy: 0.8131 - lr: 0.0010 - 72s/epoch - 16ms/step
Epoch 26/100
4378/4378 - 72s - loss: 0.1898 - accuracy: 0.7986 - val_loss: 0.2302 - val_accuracy: 0.8247 - lr: 0.0010 - 72s/epoch - 16ms/step
Epoch 27/100
4378/4378 - 72s - loss: 0.1900 - accuracy: 0.7980 - val_loss: 0.2304 - val_accuracy: 0.8308 - lr: 0.0010 - 72s/epoch - 16ms/step
Epoch 28/100
4378/4378 - 72s - loss: 0.1904 - accuracy: 0.7981 - val_loss: 0.2368 - val_accuracy: 0.8216 - lr: 0.0010 - 72s/epoch - 16ms/step
Epoch 29/100
4378/4378 - 72s - loss: 0.1890 - accuracy: 0.7992 - val_loss: 0.2439 - val_accuracy: 0.8091 - lr: 0.0010 - 72s/epoch - 16ms/step
Epoch 30/100
4378/4378 - 72s - loss: 0.1896 - accuracy: 0.7991 - val_loss: 0.2317 - val_accuracy: 0.8285 - lr: 0.0010 - 72s/epoch - 16ms/step
Epoch 31/100
4378/4378 - 72s - loss: 0.1898 - accuracy: 0.7984 - val_loss: 0.2251 - val_accuracy: 0.8229 - lr: 0.0010 - 72s/epoch - 16ms/step
Epoch 32/100
4378/4378 - 72s - loss: 0.1896 - accuracy: 0.7996 - val_loss: 0.2388 - val_accuracy: 0.8225 - lr: 0.0010 - 72s/epoch - 16ms/step
Epoch 33/100
4378/4378 - 72s - loss: 0.1896 - accuracy: 0.7993 - val_loss: 0.2193 - val_accuracy: 0.8436 - lr: 0.0010 - 72s/epoch - 16ms/step
Epoch 34/100
4378/4378 - 72s - loss: 0.1888 - accuracy: 0.8004 - val_loss: 0.2397 - val_accuracy: 0.8165 - lr: 0.0010 - 72s/epoch - 17ms/step
Epoch 35/100
4378/4378 - 72s - loss: 0.1895 - accuracy: 0.7986 - val_loss: 0.2291 - val_accuracy: 0.8244 - lr: 0.0010 - 72s/epoch - 16ms/step
Epoch 36/100
4378/4378 - 72s - loss: 0.1889 - accuracy: 0.8000 - val_loss: 0.2365 - val_accuracy: 0.8150 - lr: 0.0010 - 72s/epoch - 16ms/step
Epoch 37/100
4378/4378 - 72s - loss: 0.1887 - accuracy: 0.7992 - val_loss: 0.2275 - val_accuracy: 0.8364 - lr: 0.0010 - 72s/epoch - 16ms/step
Epoch 38/100
4378/4378 - 72s - loss: 0.1892 - accuracy: 0.7991 - val_loss: 0.2219 - val_accuracy: 0.8375 - lr: 0.0010 - 72s/epoch - 16ms/step
Epoch 39/100
4378/4378 - 72s - loss: 0.1881 - accuracy: 0.8001 - val_loss: 0.2248 - val_accuracy: 0.8374 - lr: 0.0010 - 72s/epoch - 16ms/step
Epoch 40/100
4378/4378 - 72s - loss: 0.1886 - accuracy: 0.8000 - val_loss: 0.2255 - val_accuracy: 0.8282 - lr: 0.0010 - 72s/epoch - 16ms/step
Epoch 41/100
4378/4378 - 72s - loss: 0.1888 - accuracy: 0.7990 - val_loss: 0.2274 - val_accuracy: 0.8232 - lr: 0.0010 - 72s/epoch - 16ms/step
Epoch 42/100
4378/4378 - 72s - loss: 0.1885 - accuracy: 0.8006 - val_loss: 0.2346 - val_accuracy: 0.8198 - lr: 0.0010 - 72s/epoch - 16ms/step
Epoch 43/100
4378/4378 - 72s - loss: 0.1889 - accuracy: 0.8000 - val_loss: 0.2373 - val_accuracy: 0.8133 - lr: 0.0010 - 72s/epoch - 16ms/step
Epoch 44/100
4378/4378 - 72s - loss: 0.1885 - accuracy: 0.7988 - val_loss: 0.2412 - val_accuracy: 0.8154 - lr: 0.0010 - 72s/epoch - 16ms/step
Epoch 45/100
4378/4378 - 72s - loss: 0.1885 - accuracy: 0.7992 - val_loss: 0.2271 - val_accuracy: 0.8256 - lr: 0.0010 - 72s/epoch - 16ms/step
Epoch 46/100
4378/4378 - 72s - loss: 0.1882 - accuracy: 0.8003 - val_loss: 0.2265 - val_accuracy: 0.8335 - lr: 0.0010 - 72s/epoch - 16ms/step
Epoch 47/100
4378/4378 - 72s - loss: 0.1877 - accuracy: 0.8010 - val_loss: 0.2474 - val_accuracy: 0.8099 - lr: 0.0010 - 72s/epoch - 16ms/step
Epoch 48/100
4378/4378 - 72s - loss: 0.1875 - accuracy: 0.8006 - val_loss: 0.2368 - val_accuracy: 0.8131 - lr: 0.0010 - 72s/epoch - 16ms/step
Epoch 49/100
4378/4378 - 72s - loss: 0.1880 - accuracy: 0.8007 - val_loss: 0.2402 - val_accuracy: 0.8182 - lr: 0.0010 - 72s/epoch - 16ms/step
Epoch 50/100
4378/4378 - 72s - loss: 0.1873 - accuracy: 0.8000 - val_loss: 0.2180 - val_accuracy: 0.8358 - lr: 0.0010 - 72s/epoch - 16ms/step
Epoch 51/100
4378/4378 - 72s - loss: 0.1871 - accuracy: 0.8009 - val_loss: 0.2437 - val_accuracy: 0.8150 - lr: 0.0010 - 72s/epoch - 16ms/step
Epoch 52/100
4378/4378 - 72s - loss: 0.1877 - accuracy: 0.8004 - val_loss: 0.2228 - val_accuracy: 0.8372 - lr: 0.0010 - 72s/epoch - 16ms/step
Epoch 53/100
4378/4378 - 72s - loss: 0.1879 - accuracy: 0.8000 - val_loss: 0.2265 - val_accuracy: 0.8256 - lr: 0.0010 - 72s/epoch - 16ms/step
Epoch 54/100
4378/4378 - 72s - loss: 0.1871 - accuracy: 0.8008 - val_loss: 0.2235 - val_accuracy: 0.8254 - lr: 0.0010 - 72s/epoch - 16ms/step
Epoch 55/100
4378/4378 - 72s - loss: 0.1869 - accuracy: 0.8013 - val_loss: 0.2275 - val_accuracy: 0.8325 - lr: 0.0010 - 72s/epoch - 16ms/step
Epoch 56/100
4378/4378 - 72s - loss: 0.1878 - accuracy: 0.8000 - val_loss: 0.2194 - val_accuracy: 0.8390 - lr: 0.0010 - 72s/epoch - 16ms/step
Epoch 57/100
4378/4378 - 72s - loss: 0.1869 - accuracy: 0.8015 - val_loss: 0.2235 - val_accuracy: 0.8392 - lr: 0.0010 - 72s/epoch - 16ms/step
Epoch 58/100
4378/4378 - 72s - loss: 0.1874 - accuracy: 0.8007 - val_loss: 0.2380 - val_accuracy: 0.8211 - lr: 0.0010 - 72s/epoch - 16ms/step
Epoch 59/100
4378/4378 - 72s - loss: 0.1872 - accuracy: 0.8016 - val_loss: 0.2199 - val_accuracy: 0.8320 - lr: 0.0010 - 72s/epoch - 16ms/step
Epoch 60/100
4378/4378 - 72s - loss: 0.1872 - accuracy: 0.8023 - val_loss: 0.2407 - val_accuracy: 0.8216 - lr: 0.0010 - 72s/epoch - 16ms/step
Epoch 61/100
4378/4378 - 72s - loss: 0.1870 - accuracy: 0.8004 - val_loss: 0.2409 - val_accuracy: 0.8200 - lr: 0.0010 - 72s/epoch - 16ms/step
Epoch 62/100
4378/4378 - 72s - loss: 0.1868 - accuracy: 0.8018 - val_loss: 0.2529 - val_accuracy: 0.8150 - lr: 0.0010 - 72s/epoch - 16ms/step
Epoch 63/100
4378/4378 - 72s - loss: 0.1866 - accuracy: 0.8015 - val_loss: 0.2251 - val_accuracy: 0.8266 - lr: 0.0010 - 72s/epoch - 16ms/step
Epoch 64/100
4378/4378 - 72s - loss: 0.1866 - accuracy: 0.8029 - val_loss: 0.2336 - val_accuracy: 0.8275 - lr: 0.0010 - 72s/epoch - 16ms/step
Epoch 65/100
4378/4378 - 72s - loss: 0.1858 - accuracy: 0.8026 - val_loss: 0.2169 - val_accuracy: 0.8421 - lr: 0.0010 - 72s/epoch - 16ms/step
Epoch 66/100
4378/4378 - 72s - loss: 0.1863 - accuracy: 0.8024 - val_loss: 0.2492 - val_accuracy: 0.8093 - lr: 0.0010 - 72s/epoch - 16ms/step
Epoch 67/100
4378/4378 - 72s - loss: 0.1860 - accuracy: 0.8032 - val_loss: 0.2405 - val_accuracy: 0.8163 - lr: 0.0010 - 72s/epoch - 16ms/step
Epoch 68/100
4378/4378 - 73s - loss: 0.1858 - accuracy: 0.8029 - val_loss: 0.2237 - val_accuracy: 0.8303 - lr: 0.0010 - 73s/epoch - 17ms/step
Epoch 69/100
4378/4378 - 72s - loss: 0.1858 - accuracy: 0.8028 - val_loss: 0.2264 - val_accuracy: 0.8376 - lr: 0.0010 - 72s/epoch - 17ms/step
Epoch 70/100
4378/4378 - 73s - loss: 0.1856 - accuracy: 0.8030 - val_loss: 0.2278 - val_accuracy: 0.8304 - lr: 0.0010 - 73s/epoch - 17ms/step
Epoch 71/100
4378/4378 - 72s - loss: 0.1855 - accuracy: 0.8039 - val_loss: 0.2295 - val_accuracy: 0.8256 - lr: 0.0010 - 72s/epoch - 16ms/step
Epoch 72/100
4378/4378 - 72s - loss: 0.1860 - accuracy: 0.8025 - val_loss: 0.2408 - val_accuracy: 0.8142 - lr: 0.0010 - 72s/epoch - 16ms/step
Epoch 73/100
4378/4378 - 72s - loss: 0.1858 - accuracy: 0.8029 - val_loss: 0.2211 - val_accuracy: 0.8298 - lr: 0.0010 - 72s/epoch - 16ms/step
Epoch 74/100
4378/4378 - 72s - loss: 0.1856 - accuracy: 0.8028 - val_loss: 0.2171 - val_accuracy: 0.8362 - lr: 0.0010 - 72s/epoch - 16ms/step
Epoch 75/100
4378/4378 - 72s - loss: 0.1850 - accuracy: 0.8042 - val_loss: 0.2256 - val_accuracy: 0.8354 - lr: 0.0010 - 72s/epoch - 16ms/step
Epoch 76/100
4378/4378 - 72s - loss: 0.1858 - accuracy: 0.8018 - val_loss: 0.2166 - val_accuracy: 0.8358 - lr: 0.0010 - 72s/epoch - 16ms/step
Epoch 77/100
4378/4378 - 72s - loss: 0.1852 - accuracy: 0.8031 - val_loss: 0.2399 - val_accuracy: 0.8230 - lr: 0.0010 - 72s/epoch - 16ms/step
Epoch 78/100
4378/4378 - 72s - loss: 0.1853 - accuracy: 0.8041 - val_loss: 0.2550 - val_accuracy: 0.8046 - lr: 0.0010 - 72s/epoch - 16ms/step
Epoch 79/100
4378/4378 - 72s - loss: 0.1851 - accuracy: 0.8045 - val_loss: 0.2358 - val_accuracy: 0.8224 - lr: 0.0010 - 72s/epoch - 16ms/step
Epoch 80/100
4378/4378 - 72s - loss: 0.1854 - accuracy: 0.8021 - val_loss: 0.2408 - val_accuracy: 0.8179 - lr: 0.0010 - 72s/epoch - 16ms/step
Epoch 81/100
4378/4378 - 72s - loss: 0.1856 - accuracy: 0.8028 - val_loss: 0.2312 - val_accuracy: 0.8322 - lr: 0.0010 - 72s/epoch - 16ms/step
Epoch 82/100
4378/4378 - 72s - loss: 0.1858 - accuracy: 0.8028 - val_loss: 0.2333 - val_accuracy: 0.8261 - lr: 0.0010 - 72s/epoch - 16ms/step
Epoch 83/100
4378/4378 - 72s - loss: 0.1849 - accuracy: 0.8040 - val_loss: 0.2403 - val_accuracy: 0.8165 - lr: 0.0010 - 72s/epoch - 16ms/step
Epoch 84/100
4378/4378 - 72s - loss: 0.1837 - accuracy: 0.8051 - val_loss: 0.2287 - val_accuracy: 0.8293 - lr: 0.0010 - 72s/epoch - 16ms/step
Epoch 85/100
4378/4378 - 72s - loss: 0.1848 - accuracy: 0.8044 - val_loss: 0.2104 - val_accuracy: 0.8492 - lr: 0.0010 - 72s/epoch - 17ms/step
Epoch 86/100
4378/4378 - 72s - loss: 0.1839 - accuracy: 0.8046 - val_loss: 0.2374 - val_accuracy: 0.8172 - lr: 0.0010 - 72s/epoch - 16ms/step
Epoch 87/100
4378/4378 - 72s - loss: 0.1845 - accuracy: 0.8042 - val_loss: 0.2161 - val_accuracy: 0.8324 - lr: 0.0010 - 72s/epoch - 16ms/step
Epoch 88/100
4378/4378 - 72s - loss: 0.1841 - accuracy: 0.8047 - val_loss: 0.2311 - val_accuracy: 0.8244 - lr: 0.0010 - 72s/epoch - 16ms/step
Epoch 89/100
4378/4378 - 72s - loss: 0.1843 - accuracy: 0.8048 - val_loss: 0.2181 - val_accuracy: 0.8328 - lr: 0.0010 - 72s/epoch - 16ms/step
Epoch 90/100
4378/4378 - 72s - loss: 0.1846 - accuracy: 0.8044 - val_loss: 0.2263 - val_accuracy: 0.8252 - lr: 0.0010 - 72s/epoch - 16ms/step
Epoch 91/100
4378/4378 - 72s - loss: 0.1841 - accuracy: 0.8045 - val_loss: 0.2391 - val_accuracy: 0.8211 - lr: 0.0010 - 72s/epoch - 16ms/step
Epoch 92/100
4378/4378 - 72s - loss: 0.1840 - accuracy: 0.8048 - val_loss: 0.2413 - val_accuracy: 0.8212 - lr: 0.0010 - 72s/epoch - 16ms/step
Epoch 93/100
4378/4378 - 72s - loss: 0.1840 - accuracy: 0.8048 - val_loss: 0.2268 - val_accuracy: 0.8377 - lr: 0.0010 - 72s/epoch - 16ms/step
Epoch 94/100
4378/4378 - 72s - loss: 0.1841 - accuracy: 0.8049 - val_loss: 0.2307 - val_accuracy: 0.8297 - lr: 0.0010 - 72s/epoch - 16ms/step
Epoch 95/100
4378/4378 - 72s - loss: 0.1841 - accuracy: 0.8039 - val_loss: 0.2384 - val_accuracy: 0.8168 - lr: 0.0010 - 72s/epoch - 16ms/step
Epoch 96/100
4378/4378 - 72s - loss: 0.1838 - accuracy: 0.8045 - val_loss: 0.2289 - val_accuracy: 0.8336 - lr: 0.0010 - 72s/epoch - 16ms/step
Epoch 97/100
4378/4378 - 72s - loss: 0.1833 - accuracy: 0.8058 - val_loss: 0.2253 - val_accuracy: 0.8379 - lr: 0.0010 - 72s/epoch - 16ms/step
Epoch 98/100
4378/4378 - 72s - loss: 0.1837 - accuracy: 0.8057 - val_loss: 0.2478 - val_accuracy: 0.8125 - lr: 0.0010 - 72s/epoch - 16ms/step
Epoch 99/100
4378/4378 - 72s - loss: 0.1829 - accuracy: 0.8043 - val_loss: 0.2340 - val_accuracy: 0.8253 - lr: 0.0010 - 72s/epoch - 16ms/step
Epoch 100/100
4378/4378 - 72s - loss: 0.1826 - accuracy: 0.8056 - val_loss: 0.2494 - val_accuracy: 0.8091 - lr: 0.0010 - 72s/epoch - 16ms/step
fitting with batch size: 100
Epoch 1/100
876/876 - 20s - loss: 0.1737 - accuracy: 0.8178 - val_loss: 0.2319 - val_accuracy: 0.8272 - lr: 0.0010 - 20s/epoch - 23ms/step
Epoch 2/100
876/876 - 18s - loss: 0.1719 - accuracy: 0.8201 - val_loss: 0.2363 - val_accuracy: 0.8219 - lr: 0.0010 - 18s/epoch - 20ms/step
Epoch 3/100
876/876 - 18s - loss: 0.1712 - accuracy: 0.8208 - val_loss: 0.2397 - val_accuracy: 0.8192 - lr: 0.0010 - 18s/epoch - 21ms/step
Epoch 4/100
876/876 - 18s - loss: 0.1708 - accuracy: 0.8219 - val_loss: 0.2442 - val_accuracy: 0.8175 - lr: 0.0010 - 18s/epoch - 20ms/step
Epoch 5/100
876/876 - 18s - loss: 0.1709 - accuracy: 0.8225 - val_loss: 0.2432 - val_accuracy: 0.8214 - lr: 0.0010 - 18s/epoch - 20ms/step
Epoch 6/100
876/876 - 18s - loss: 0.1711 - accuracy: 0.8225 - val_loss: 0.2335 - val_accuracy: 0.8244 - lr: 0.0010 - 18s/epoch - 20ms/step
Epoch 7/100
876/876 - 18s - loss: 0.1703 - accuracy: 0.8227 - val_loss: 0.2329 - val_accuracy: 0.8263 - lr: 0.0010 - 18s/epoch - 20ms/step
Epoch 8/100
876/876 - 18s - loss: 0.1704 - accuracy: 0.8230 - val_loss: 0.2363 - val_accuracy: 0.8223 - lr: 0.0010 - 18s/epoch - 20ms/step
Epoch 9/100
876/876 - 18s - loss: 0.1704 - accuracy: 0.8226 - val_loss: 0.2413 - val_accuracy: 0.8192 - lr: 0.0010 - 18s/epoch - 20ms/step
Epoch 10/100
876/876 - 18s - loss: 0.1700 - accuracy: 0.8229 - val_loss: 0.2346 - val_accuracy: 0.8238 - lr: 0.0010 - 18s/epoch - 20ms/step
Epoch 11/100
876/876 - 18s - loss: 0.1698 - accuracy: 0.8228 - val_loss: 0.2332 - val_accuracy: 0.8267 - lr: 0.0010 - 18s/epoch - 20ms/step
Epoch 12/100
876/876 - 18s - loss: 0.1702 - accuracy: 0.8225 - val_loss: 0.2355 - val_accuracy: 0.8236 - lr: 0.0010 - 18s/epoch - 20ms/step
Epoch 13/100
876/876 - 18s - loss: 0.1700 - accuracy: 0.8225 - val_loss: 0.2352 - val_accuracy: 0.8245 - lr: 0.0010 - 18s/epoch - 20ms/step
Epoch 14/100
876/876 - 18s - loss: 0.1694 - accuracy: 0.8236 - val_loss: 0.2311 - val_accuracy: 0.8275 - lr: 0.0010 - 18s/epoch - 20ms/step
Epoch 15/100
876/876 - 18s - loss: 0.1700 - accuracy: 0.8232 - val_loss: 0.2405 - val_accuracy: 0.8206 - lr: 0.0010 - 18s/epoch - 20ms/step
Epoch 16/100
876/876 - 18s - loss: 0.1698 - accuracy: 0.8230 - val_loss: 0.2314 - val_accuracy: 0.8279 - lr: 0.0010 - 18s/epoch - 20ms/step
Epoch 17/100
876/876 - 18s - loss: 0.1696 - accuracy: 0.8232 - val_loss: 0.2417 - val_accuracy: 0.8200 - lr: 0.0010 - 18s/epoch - 20ms/step
Epoch 18/100
876/876 - 18s - loss: 0.1695 - accuracy: 0.8228 - val_loss: 0.2324 - val_accuracy: 0.8252 - lr: 0.0010 - 18s/epoch - 20ms/step
Epoch 19/100
876/876 - 18s - loss: 0.1691 - accuracy: 0.8244 - val_loss: 0.2275 - val_accuracy: 0.8292 - lr: 0.0010 - 18s/epoch - 20ms/step
Epoch 20/100
876/876 - 18s - loss: 0.1693 - accuracy: 0.8233 - val_loss: 0.2303 - val_accuracy: 0.8267 - lr: 0.0010 - 18s/epoch - 20ms/step
Epoch 21/100
876/876 - 18s - loss: 0.1693 - accuracy: 0.8237 - val_loss: 0.2303 - val_accuracy: 0.8282 - lr: 0.0010 - 18s/epoch - 20ms/step
Epoch 22/100
876/876 - 18s - loss: 0.1693 - accuracy: 0.8231 - val_loss: 0.2383 - val_accuracy: 0.8215 - lr: 0.0010 - 18s/epoch - 20ms/step
Epoch 23/100
876/876 - 18s - loss: 0.1696 - accuracy: 0.8241 - val_loss: 0.2346 - val_accuracy: 0.8261 - lr: 0.0010 - 18s/epoch - 20ms/step
Epoch 24/100
876/876 - 18s - loss: 0.1692 - accuracy: 0.8242 - val_loss: 0.2324 - val_accuracy: 0.8269 - lr: 0.0010 - 18s/epoch - 20ms/step
Epoch 25/100
876/876 - 18s - loss: 0.1686 - accuracy: 0.8243 - val_loss: 0.2294 - val_accuracy: 0.8282 - lr: 0.0010 - 18s/epoch - 20ms/step
Epoch 26/100
876/876 - 18s - loss: 0.1688 - accuracy: 0.8239 - val_loss: 0.2329 - val_accuracy: 0.8251 - lr: 0.0010 - 18s/epoch - 20ms/step
Epoch 27/100
876/876 - 18s - loss: 0.1685 - accuracy: 0.8239 - val_loss: 0.2329 - val_accuracy: 0.8267 - lr: 0.0010 - 18s/epoch - 20ms/step
Epoch 28/100
876/876 - 18s - loss: 0.1684 - accuracy: 0.8245 - val_loss: 0.2278 - val_accuracy: 0.8304 - lr: 0.0010 - 18s/epoch - 20ms/step
Epoch 29/100
876/876 - 18s - loss: 0.1693 - accuracy: 0.8243 - val_loss: 0.2365 - val_accuracy: 0.8240 - lr: 0.0010 - 18s/epoch - 20ms/step
Epoch 30/100
876/876 - 18s - loss: 0.1690 - accuracy: 0.8237 - val_loss: 0.2371 - val_accuracy: 0.8237 - lr: 0.0010 - 18s/epoch - 20ms/step
Epoch 31/100
876/876 - 18s - loss: 0.1682 - accuracy: 0.8247 - val_loss: 0.2297 - val_accuracy: 0.8303 - lr: 0.0010 - 18s/epoch - 20ms/step
Epoch 32/100
876/876 - 18s - loss: 0.1686 - accuracy: 0.8250 - val_loss: 0.2237 - val_accuracy: 0.8319 - lr: 0.0010 - 18s/epoch - 20ms/step
Epoch 33/100
876/876 - 18s - loss: 0.1684 - accuracy: 0.8250 - val_loss: 0.2347 - val_accuracy: 0.8239 - lr: 0.0010 - 18s/epoch - 20ms/step
Epoch 34/100
876/876 - 18s - loss: 0.1686 - accuracy: 0.8251 - val_loss: 0.2335 - val_accuracy: 0.8307 - lr: 0.0010 - 18s/epoch - 20ms/step
Epoch 35/100
876/876 - 18s - loss: 0.1686 - accuracy: 0.8246 - val_loss: 0.2400 - val_accuracy: 0.8207 - lr: 0.0010 - 18s/epoch - 20ms/step
Epoch 36/100
876/876 - 18s - loss: 0.1685 - accuracy: 0.8244 - val_loss: 0.2352 - val_accuracy: 0.8265 - lr: 0.0010 - 18s/epoch - 20ms/step
Epoch 37/100
876/876 - 18s - loss: 0.1679 - accuracy: 0.8241 - val_loss: 0.2381 - val_accuracy: 0.8219 - lr: 0.0010 - 18s/epoch - 20ms/step
Epoch 38/100
876/876 - 18s - loss: 0.1692 - accuracy: 0.8238 - val_loss: 0.2355 - val_accuracy: 0.8256 - lr: 0.0010 - 18s/epoch - 20ms/step
Epoch 39/100
876/876 - 18s - loss: 0.1680 - accuracy: 0.8250 - val_loss: 0.2398 - val_accuracy: 0.8220 - lr: 0.0010 - 18s/epoch - 20ms/step
Epoch 40/100
876/876 - 18s - loss: 0.1680 - accuracy: 0.8254 - val_loss: 0.2310 - val_accuracy: 0.8261 - lr: 0.0010 - 18s/epoch - 20ms/step
Epoch 41/100
876/876 - 18s - loss: 0.1677 - accuracy: 0.8258 - val_loss: 0.2327 - val_accuracy: 0.8256 - lr: 0.0010 - 18s/epoch - 20ms/step
Epoch 42/100
876/876 - 18s - loss: 0.1682 - accuracy: 0.8254 - val_loss: 0.2385 - val_accuracy: 0.8233 - lr: 0.0010 - 18s/epoch - 20ms/step
Epoch 43/100
876/876 - 18s - loss: 0.1680 - accuracy: 0.8254 - val_loss: 0.2371 - val_accuracy: 0.8219 - lr: 0.0010 - 18s/epoch - 20ms/step
Epoch 44/100
876/876 - 18s - loss: 0.1680 - accuracy: 0.8246 - val_loss: 0.2379 - val_accuracy: 0.8224 - lr: 0.0010 - 18s/epoch - 20ms/step
Epoch 45/100
876/876 - 18s - loss: 0.1678 - accuracy: 0.8253 - val_loss: 0.2404 - val_accuracy: 0.8217 - lr: 0.0010 - 18s/epoch - 20ms/step
Epoch 46/100
876/876 - 18s - loss: 0.1674 - accuracy: 0.8273 - val_loss: 0.2310 - val_accuracy: 0.8256 - lr: 0.0010 - 18s/epoch - 20ms/step
Epoch 47/100
876/876 - 18s - loss: 0.1676 - accuracy: 0.8250 - val_loss: 0.2413 - val_accuracy: 0.8205 - lr: 0.0010 - 18s/epoch - 20ms/step
Epoch 48/100
876/876 - 18s - loss: 0.1673 - accuracy: 0.8257 - val_loss: 0.2380 - val_accuracy: 0.8246 - lr: 0.0010 - 18s/epoch - 20ms/step
Epoch 49/100
876/876 - 18s - loss: 0.1676 - accuracy: 0.8257 - val_loss: 0.2327 - val_accuracy: 0.8277 - lr: 0.0010 - 18s/epoch - 20ms/step
Epoch 50/100
876/876 - 18s - loss: 0.1678 - accuracy: 0.8257 - val_loss: 0.2373 - val_accuracy: 0.8253 - lr: 0.0010 - 18s/epoch - 20ms/step
Epoch 51/100
876/876 - 18s - loss: 0.1672 - accuracy: 0.8259 - val_loss: 0.2403 - val_accuracy: 0.8213 - lr: 0.0010 - 18s/epoch - 20ms/step
Epoch 52/100
876/876 - 18s - loss: 0.1674 - accuracy: 0.8262 - val_loss: 0.2306 - val_accuracy: 0.8284 - lr: 0.0010 - 18s/epoch - 20ms/step
Epoch 53/100
876/876 - 18s - loss: 0.1677 - accuracy: 0.8258 - val_loss: 0.2357 - val_accuracy: 0.8243 - lr: 0.0010 - 18s/epoch - 20ms/step
Epoch 54/100
876/876 - 18s - loss: 0.1672 - accuracy: 0.8258 - val_loss: 0.2365 - val_accuracy: 0.8243 - lr: 0.0010 - 18s/epoch - 20ms/step
Epoch 55/100
876/876 - 18s - loss: 0.1674 - accuracy: 0.8265 - val_loss: 0.2339 - val_accuracy: 0.8249 - lr: 0.0010 - 18s/epoch - 20ms/step
Epoch 56/100
876/876 - 18s - loss: 0.1672 - accuracy: 0.8259 - val_loss: 0.2407 - val_accuracy: 0.8214 - lr: 0.0010 - 18s/epoch - 20ms/step
Epoch 57/100
876/876 - 18s - loss: 0.1674 - accuracy: 0.8265 - val_loss: 0.2367 - val_accuracy: 0.8254 - lr: 0.0010 - 18s/epoch - 20ms/step
Epoch 58/100
876/876 - 18s - loss: 0.1672 - accuracy: 0.8272 - val_loss: 0.2399 - val_accuracy: 0.8220 - lr: 0.0010 - 18s/epoch - 20ms/step
Epoch 59/100
876/876 - 18s - loss: 0.1667 - accuracy: 0.8278 - val_loss: 0.2352 - val_accuracy: 0.8256 - lr: 0.0010 - 18s/epoch - 20ms/step
Epoch 60/100
876/876 - 18s - loss: 0.1673 - accuracy: 0.8260 - val_loss: 0.2409 - val_accuracy: 0.8200 - lr: 0.0010 - 18s/epoch - 20ms/step
Epoch 61/100
876/876 - 18s - loss: 0.1673 - accuracy: 0.8262 - val_loss: 0.2391 - val_accuracy: 0.8250 - lr: 0.0010 - 18s/epoch - 20ms/step
Epoch 62/100
876/876 - 18s - loss: 0.1669 - accuracy: 0.8266 - val_loss: 0.2536 - val_accuracy: 0.8131 - lr: 0.0010 - 18s/epoch - 20ms/step
Epoch 63/100
876/876 - 18s - loss: 0.1669 - accuracy: 0.8267 - val_loss: 0.2317 - val_accuracy: 0.8273 - lr: 0.0010 - 18s/epoch - 20ms/step
Epoch 64/100
876/876 - 18s - loss: 0.1665 - accuracy: 0.8272 - val_loss: 0.2291 - val_accuracy: 0.8296 - lr: 0.0010 - 18s/epoch - 20ms/step
Epoch 65/100
876/876 - 18s - loss: 0.1668 - accuracy: 0.8273 - val_loss: 0.2364 - val_accuracy: 0.8240 - lr: 0.0010 - 18s/epoch - 20ms/step
Epoch 66/100
876/876 - 18s - loss: 0.1671 - accuracy: 0.8274 - val_loss: 0.2391 - val_accuracy: 0.8227 - lr: 0.0010 - 18s/epoch - 20ms/step
Epoch 67/100
876/876 - 18s - loss: 0.1664 - accuracy: 0.8262 - val_loss: 0.2420 - val_accuracy: 0.8197 - lr: 0.0010 - 18s/epoch - 20ms/step
Epoch 68/100
876/876 - 18s - loss: 0.1664 - accuracy: 0.8282 - val_loss: 0.2389 - val_accuracy: 0.8239 - lr: 0.0010 - 18s/epoch - 20ms/step
Epoch 69/100
876/876 - 18s - loss: 0.1667 - accuracy: 0.8264 - val_loss: 0.2476 - val_accuracy: 0.8177 - lr: 0.0010 - 18s/epoch - 20ms/step
Epoch 70/100
876/876 - 18s - loss: 0.1666 - accuracy: 0.8268 - val_loss: 0.2379 - val_accuracy: 0.8251 - lr: 0.0010 - 18s/epoch - 20ms/step
Epoch 71/100
876/876 - 18s - loss: 0.1671 - accuracy: 0.8251 - val_loss: 0.2201 - val_accuracy: 0.8357 - lr: 0.0010 - 18s/epoch - 20ms/step
Epoch 72/100
876/876 - 18s - loss: 0.1663 - accuracy: 0.8259 - val_loss: 0.2413 - val_accuracy: 0.8215 - lr: 0.0010 - 18s/epoch - 21ms/step
Epoch 73/100
876/876 - 18s - loss: 0.1665 - accuracy: 0.8264 - val_loss: 0.2520 - val_accuracy: 0.8133 - lr: 0.0010 - 18s/epoch - 20ms/step
Epoch 74/100
876/876 - 18s - loss: 0.1665 - accuracy: 0.8273 - val_loss: 0.2416 - val_accuracy: 0.8206 - lr: 0.0010 - 18s/epoch - 20ms/step
Epoch 75/100
876/876 - 18s - loss: 0.1659 - accuracy: 0.8267 - val_loss: 0.2383 - val_accuracy: 0.8219 - lr: 0.0010 - 18s/epoch - 20ms/step
Epoch 76/100
876/876 - 18s - loss: 0.1664 - accuracy: 0.8269 - val_loss: 0.2384 - val_accuracy: 0.8233 - lr: 0.0010 - 18s/epoch - 20ms/step
Epoch 77/100
876/876 - 18s - loss: 0.1658 - accuracy: 0.8272 - val_loss: 0.2450 - val_accuracy: 0.8187 - lr: 0.0010 - 18s/epoch - 20ms/step
Epoch 78/100
876/876 - 18s - loss: 0.1652 - accuracy: 0.8284 - val_loss: 0.2374 - val_accuracy: 0.8219 - lr: 0.0010 - 18s/epoch - 20ms/step
Epoch 79/100
876/876 - 18s - loss: 0.1662 - accuracy: 0.8277 - val_loss: 0.2419 - val_accuracy: 0.8217 - lr: 0.0010 - 18s/epoch - 20ms/step
Epoch 80/100
876/876 - 18s - loss: 0.1659 - accuracy: 0.8284 - val_loss: 0.2442 - val_accuracy: 0.8154 - lr: 0.0010 - 18s/epoch - 20ms/step
Epoch 81/100
876/876 - 18s - loss: 0.1661 - accuracy: 0.8278 - val_loss: 0.2351 - val_accuracy: 0.8251 - lr: 0.0010 - 18s/epoch - 20ms/step
Epoch 82/100
876/876 - 18s - loss: 0.1660 - accuracy: 0.8276 - val_loss: 0.2318 - val_accuracy: 0.8286 - lr: 0.0010 - 18s/epoch - 20ms/step
Epoch 83/100
876/876 - 18s - loss: 0.1660 - accuracy: 0.8279 - val_loss: 0.2445 - val_accuracy: 0.8199 - lr: 0.0010 - 18s/epoch - 20ms/step
Epoch 84/100
876/876 - 18s - loss: 0.1660 - accuracy: 0.8280 - val_loss: 0.2345 - val_accuracy: 0.8263 - lr: 0.0010 - 18s/epoch - 20ms/step
Epoch 85/100
876/876 - 18s - loss: 0.1655 - accuracy: 0.8276 - val_loss: 0.2397 - val_accuracy: 0.8224 - lr: 0.0010 - 18s/epoch - 20ms/step
Epoch 86/100
876/876 - 18s - loss: 0.1659 - accuracy: 0.8276 - val_loss: 0.2445 - val_accuracy: 0.8145 - lr: 0.0010 - 18s/epoch - 20ms/step
Epoch 87/100
876/876 - 18s - loss: 0.1656 - accuracy: 0.8283 - val_loss: 0.2344 - val_accuracy: 0.8251 - lr: 0.0010 - 18s/epoch - 20ms/step
Epoch 88/100
876/876 - 18s - loss: 0.1658 - accuracy: 0.8277 - val_loss: 0.2439 - val_accuracy: 0.8184 - lr: 0.0010 - 18s/epoch - 20ms/step
Epoch 89/100
876/876 - 18s - loss: 0.1659 - accuracy: 0.8284 - val_loss: 0.2414 - val_accuracy: 0.8261 - lr: 0.0010 - 18s/epoch - 20ms/step
Epoch 90/100
876/876 - 18s - loss: 0.1655 - accuracy: 0.8276 - val_loss: 0.2378 - val_accuracy: 0.8244 - lr: 0.0010 - 18s/epoch - 20ms/step
Epoch 91/100
876/876 - 18s - loss: 0.1653 - accuracy: 0.8289 - val_loss: 0.2415 - val_accuracy: 0.8211 - lr: 0.0010 - 18s/epoch - 20ms/step
Epoch 92/100
876/876 - 18s - loss: 0.1659 - accuracy: 0.8270 - val_loss: 0.2392 - val_accuracy: 0.8244 - lr: 0.0010 - 18s/epoch - 20ms/step
Epoch 93/100
876/876 - 18s - loss: 0.1655 - accuracy: 0.8283 - val_loss: 0.2438 - val_accuracy: 0.8205 - lr: 0.0010 - 18s/epoch - 20ms/step
Epoch 94/100
876/876 - 18s - loss: 0.1657 - accuracy: 0.8278 - val_loss: 0.2385 - val_accuracy: 0.8238 - lr: 0.0010 - 18s/epoch - 20ms/step
Epoch 95/100
876/876 - 18s - loss: 0.1656 - accuracy: 0.8282 - val_loss: 0.2322 - val_accuracy: 0.8268 - lr: 0.0010 - 18s/epoch - 20ms/step
Epoch 96/100
876/876 - 18s - loss: 0.1660 - accuracy: 0.8282 - val_loss: 0.2400 - val_accuracy: 0.8252 - lr: 0.0010 - 18s/epoch - 20ms/step
Epoch 97/100
876/876 - 18s - loss: 0.1657 - accuracy: 0.8297 - val_loss: 0.2426 - val_accuracy: 0.8228 - lr: 0.0010 - 18s/epoch - 20ms/step
Epoch 98/100
876/876 - 18s - loss: 0.1655 - accuracy: 0.8277 - val_loss: 0.2402 - val_accuracy: 0.8232 - lr: 0.0010 - 18s/epoch - 20ms/step
Epoch 99/100
876/876 - 18s - loss: 0.1652 - accuracy: 0.8277 - val_loss: 0.2412 - val_accuracy: 0.8229 - lr: 0.0010 - 18s/epoch - 20ms/step
Epoch 100/100
876/876 - 18s - loss: 0.1651 - accuracy: 0.8282 - val_loss: 0.2332 - val_accuracy: 0.8277 - lr: 0.0010 - 18s/epoch - 20ms/step
fitting with batch size: 500
Epoch 1/100
176/176 - 12s - loss: 0.1637 - accuracy: 0.8311 - val_loss: 0.2429 - val_accuracy: 0.8217 - lr: 0.0010 - 12s/epoch - 68ms/step
Epoch 2/100
176/176 - 9s - loss: 0.1635 - accuracy: 0.8313 - val_loss: 0.2378 - val_accuracy: 0.8242 - lr: 0.0010 - 9s/epoch - 50ms/step
Epoch 3/100
176/176 - 9s - loss: 0.1635 - accuracy: 0.8311 - val_loss: 0.2376 - val_accuracy: 0.8255 - lr: 0.0010 - 9s/epoch - 50ms/step
Epoch 4/100
176/176 - 9s - loss: 0.1632 - accuracy: 0.8320 - val_loss: 0.2356 - val_accuracy: 0.8259 - lr: 0.0010 - 9s/epoch - 50ms/step
Epoch 5/100
176/176 - 9s - loss: 0.1635 - accuracy: 0.8307 - val_loss: 0.2407 - val_accuracy: 0.8222 - lr: 0.0010 - 9s/epoch - 50ms/step
Epoch 6/100
176/176 - 9s - loss: 0.1631 - accuracy: 0.8311 - val_loss: 0.2437 - val_accuracy: 0.8208 - lr: 0.0010 - 9s/epoch - 50ms/step
Epoch 7/100
176/176 - 9s - loss: 0.1635 - accuracy: 0.8299 - val_loss: 0.2371 - val_accuracy: 0.8247 - lr: 0.0010 - 9s/epoch - 50ms/step
Epoch 8/100
176/176 - 9s - loss: 0.1636 - accuracy: 0.8309 - val_loss: 0.2452 - val_accuracy: 0.8191 - lr: 0.0010 - 9s/epoch - 50ms/step
Epoch 9/100
176/176 - 9s - loss: 0.1630 - accuracy: 0.8314 - val_loss: 0.2479 - val_accuracy: 0.8163 - lr: 0.0010 - 9s/epoch - 50ms/step
Epoch 10/100
176/176 - 9s - loss: 0.1627 - accuracy: 0.8315 - val_loss: 0.2377 - val_accuracy: 0.8251 - lr: 0.0010 - 9s/epoch - 50ms/step
Epoch 11/100
176/176 - 9s - loss: 0.1621 - accuracy: 0.8330 - val_loss: 0.2403 - val_accuracy: 0.8216 - lr: 0.0010 - 9s/epoch - 50ms/step
Epoch 12/100
176/176 - 9s - loss: 0.1630 - accuracy: 0.8311 - val_loss: 0.2393 - val_accuracy: 0.8234 - lr: 0.0010 - 9s/epoch - 50ms/step
Epoch 13/100
176/176 - 9s - loss: 0.1630 - accuracy: 0.8314 - val_loss: 0.2356 - val_accuracy: 0.8259 - lr: 0.0010 - 9s/epoch - 50ms/step
Epoch 14/100
176/176 - 9s - loss: 0.1629 - accuracy: 0.8315 - val_loss: 0.2464 - val_accuracy: 0.8199 - lr: 0.0010 - 9s/epoch - 50ms/step
Epoch 15/100
176/176 - 9s - loss: 0.1632 - accuracy: 0.8310 - val_loss: 0.2380 - val_accuracy: 0.8252 - lr: 0.0010 - 9s/epoch - 50ms/step
Epoch 16/100
176/176 - 9s - loss: 0.1632 - accuracy: 0.8309 - val_loss: 0.2449 - val_accuracy: 0.8204 - lr: 0.0010 - 9s/epoch - 50ms/step
Epoch 17/100
176/176 - 9s - loss: 0.1630 - accuracy: 0.8323 - val_loss: 0.2454 - val_accuracy: 0.8202 - lr: 0.0010 - 9s/epoch - 50ms/step
Epoch 18/100
176/176 - 9s - loss: 0.1624 - accuracy: 0.8317 - val_loss: 0.2373 - val_accuracy: 0.8246 - lr: 0.0010 - 9s/epoch - 50ms/step
Epoch 19/100
176/176 - 9s - loss: 0.1629 - accuracy: 0.8311 - val_loss: 0.2373 - val_accuracy: 0.8263 - lr: 0.0010 - 9s/epoch - 50ms/step
Epoch 20/100
176/176 - 9s - loss: 0.1629 - accuracy: 0.8315 - val_loss: 0.2389 - val_accuracy: 0.8234 - lr: 0.0010 - 9s/epoch - 50ms/step
Epoch 21/100
176/176 - 9s - loss: 0.1626 - accuracy: 0.8318 - val_loss: 0.2389 - val_accuracy: 0.8252 - lr: 0.0010 - 9s/epoch - 50ms/step
Epoch 22/100
176/176 - 9s - loss: 0.1631 - accuracy: 0.8305 - val_loss: 0.2397 - val_accuracy: 0.8239 - lr: 0.0010 - 9s/epoch - 50ms/step
Epoch 23/100
176/176 - 9s - loss: 0.1627 - accuracy: 0.8317 - val_loss: 0.2414 - val_accuracy: 0.8230 - lr: 0.0010 - 9s/epoch - 50ms/step
Epoch 24/100
176/176 - 9s - loss: 0.1627 - accuracy: 0.8313 - val_loss: 0.2430 - val_accuracy: 0.8229 - lr: 0.0010 - 9s/epoch - 49ms/step
Epoch 25/100
176/176 - 9s - loss: 0.1628 - accuracy: 0.8309 - val_loss: 0.2445 - val_accuracy: 0.8201 - lr: 0.0010 - 9s/epoch - 50ms/step
Epoch 26/100
176/176 - 9s - loss: 0.1627 - accuracy: 0.8325 - val_loss: 0.2442 - val_accuracy: 0.8178 - lr: 0.0010 - 9s/epoch - 50ms/step
Epoch 27/100
176/176 - 9s - loss: 0.1632 - accuracy: 0.8308 - val_loss: 0.2402 - val_accuracy: 0.8238 - lr: 0.0010 - 9s/epoch - 50ms/step
Epoch 28/100
176/176 - 9s - loss: 0.1631 - accuracy: 0.8314 - val_loss: 0.2430 - val_accuracy: 0.8220 - lr: 0.0010 - 9s/epoch - 50ms/step
Epoch 29/100
176/176 - 9s - loss: 0.1625 - accuracy: 0.8320 - val_loss: 0.2412 - val_accuracy: 0.8228 - lr: 0.0010 - 9s/epoch - 49ms/step
Epoch 30/100
176/176 - 9s - loss: 0.1630 - accuracy: 0.8317 - val_loss: 0.2431 - val_accuracy: 0.8221 - lr: 0.0010 - 9s/epoch - 50ms/step
Epoch 31/100
176/176 - 9s - loss: 0.1627 - accuracy: 0.8315 - val_loss: 0.2413 - val_accuracy: 0.8223 - lr: 0.0010 - 9s/epoch - 49ms/step
Epoch 32/100
176/176 - 9s - loss: 0.1628 - accuracy: 0.8313 - val_loss: 0.2437 - val_accuracy: 0.8207 - lr: 0.0010 - 9s/epoch - 50ms/step
Epoch 33/100
176/176 - 9s - loss: 0.1630 - accuracy: 0.8312 - val_loss: 0.2431 - val_accuracy: 0.8217 - lr: 0.0010 - 9s/epoch - 50ms/step
Epoch 34/100
176/176 - 9s - loss: 0.1628 - accuracy: 0.8315 - val_loss: 0.2367 - val_accuracy: 0.8250 - lr: 0.0010 - 9s/epoch - 50ms/step
Epoch 35/100
176/176 - 9s - loss: 0.1625 - accuracy: 0.8322 - val_loss: 0.2425 - val_accuracy: 0.8223 - lr: 0.0010 - 9s/epoch - 50ms/step
Epoch 36/100
176/176 - 9s - loss: 0.1628 - accuracy: 0.8315 - val_loss: 0.2416 - val_accuracy: 0.8229 - lr: 0.0010 - 9s/epoch - 50ms/step
Epoch 37/100
176/176 - 9s - loss: 0.1627 - accuracy: 0.8317 - val_loss: 0.2383 - val_accuracy: 0.8248 - lr: 0.0010 - 9s/epoch - 50ms/step
Epoch 38/100
176/176 - 9s - loss: 0.1633 - accuracy: 0.8306 - val_loss: 0.2400 - val_accuracy: 0.8237 - lr: 0.0010 - 9s/epoch - 50ms/step
Epoch 39/100
176/176 - 9s - loss: 0.1630 - accuracy: 0.8311 - val_loss: 0.2379 - val_accuracy: 0.8259 - lr: 0.0010 - 9s/epoch - 50ms/step
Epoch 40/100
176/176 - 9s - loss: 0.1626 - accuracy: 0.8323 - val_loss: 0.2435 - val_accuracy: 0.8204 - lr: 0.0010 - 9s/epoch - 50ms/step
Epoch 41/100
176/176 - 9s - loss: 0.1632 - accuracy: 0.8309 - val_loss: 0.2472 - val_accuracy: 0.8193 - lr: 0.0010 - 9s/epoch - 50ms/step
Epoch 42/100
176/176 - 9s - loss: 0.1627 - accuracy: 0.8313 - val_loss: 0.2362 - val_accuracy: 0.8255 - lr: 0.0010 - 9s/epoch - 50ms/step
Epoch 43/100
176/176 - 9s - loss: 0.1625 - accuracy: 0.8314 - val_loss: 0.2418 - val_accuracy: 0.8232 - lr: 0.0010 - 9s/epoch - 50ms/step
Epoch 44/100
176/176 - 9s - loss: 0.1623 - accuracy: 0.8330 - val_loss: 0.2398 - val_accuracy: 0.8240 - lr: 0.0010 - 9s/epoch - 50ms/step
Epoch 45/100
176/176 - 9s - loss: 0.1627 - accuracy: 0.8310 - val_loss: 0.2376 - val_accuracy: 0.8253 - lr: 0.0010 - 9s/epoch - 50ms/step
Epoch 46/100
176/176 - 9s - loss: 0.1628 - accuracy: 0.8320 - val_loss: 0.2385 - val_accuracy: 0.8230 - lr: 0.0010 - 9s/epoch - 50ms/step
Epoch 47/100
176/176 - 9s - loss: 0.1625 - accuracy: 0.8312 - val_loss: 0.2341 - val_accuracy: 0.8261 - lr: 0.0010 - 9s/epoch - 50ms/step
Epoch 48/100
176/176 - 9s - loss: 0.1626 - accuracy: 0.8327 - val_loss: 0.2445 - val_accuracy: 0.8205 - lr: 0.0010 - 9s/epoch - 50ms/step
Epoch 49/100
176/176 - 9s - loss: 0.1625 - accuracy: 0.8321 - val_loss: 0.2418 - val_accuracy: 0.8225 - lr: 0.0010 - 9s/epoch - 50ms/step
Epoch 50/100
176/176 - 9s - loss: 0.1623 - accuracy: 0.8317 - val_loss: 0.2439 - val_accuracy: 0.8217 - lr: 0.0010 - 9s/epoch - 50ms/step
Epoch 51/100
176/176 - 9s - loss: 0.1631 - accuracy: 0.8317 - val_loss: 0.2492 - val_accuracy: 0.8173 - lr: 0.0010 - 9s/epoch - 50ms/step
Epoch 52/100
176/176 - 9s - loss: 0.1627 - accuracy: 0.8315 - val_loss: 0.2351 - val_accuracy: 0.8272 - lr: 0.0010 - 9s/epoch - 50ms/step
Epoch 53/100
176/176 - 9s - loss: 0.1626 - accuracy: 0.8329 - val_loss: 0.2407 - val_accuracy: 0.8234 - lr: 0.0010 - 9s/epoch - 50ms/step
Epoch 54/100
176/176 - 9s - loss: 0.1628 - accuracy: 0.8319 - val_loss: 0.2397 - val_accuracy: 0.8241 - lr: 0.0010 - 9s/epoch - 50ms/step
Epoch 55/100
176/176 - 9s - loss: 0.1624 - accuracy: 0.8323 - val_loss: 0.2444 - val_accuracy: 0.8202 - lr: 0.0010 - 9s/epoch - 50ms/step
Epoch 56/100
176/176 - 9s - loss: 0.1623 - accuracy: 0.8326 - val_loss: 0.2375 - val_accuracy: 0.8256 - lr: 0.0010 - 9s/epoch - 50ms/step
Epoch 57/100
176/176 - 9s - loss: 0.1628 - accuracy: 0.8311 - val_loss: 0.2408 - val_accuracy: 0.8230 - lr: 0.0010 - 9s/epoch - 50ms/step
Epoch 58/100
176/176 - 9s - loss: 0.1625 - accuracy: 0.8321 - val_loss: 0.2444 - val_accuracy: 0.8204 - lr: 0.0010 - 9s/epoch - 49ms/step
Epoch 59/100
176/176 - 9s - loss: 0.1628 - accuracy: 0.8321 - val_loss: 0.2423 - val_accuracy: 0.8234 - lr: 0.0010 - 9s/epoch - 51ms/step
Epoch 60/100
176/176 - 9s - loss: 0.1623 - accuracy: 0.8320 - val_loss: 0.2410 - val_accuracy: 0.8219 - lr: 0.0010 - 9s/epoch - 50ms/step
Epoch 61/100
176/176 - 9s - loss: 0.1619 - accuracy: 0.8323 - val_loss: 0.2478 - val_accuracy: 0.8181 - lr: 0.0010 - 9s/epoch - 50ms/step
Epoch 62/100
176/176 - 9s - loss: 0.1626 - accuracy: 0.8321 - val_loss: 0.2439 - val_accuracy: 0.8207 - lr: 0.0010 - 9s/epoch - 50ms/step
Epoch 63/100
176/176 - 9s - loss: 0.1623 - accuracy: 0.8322 - val_loss: 0.2380 - val_accuracy: 0.8239 - lr: 0.0010 - 9s/epoch - 50ms/step
Epoch 64/100
176/176 - 9s - loss: 0.1622 - accuracy: 0.8321 - val_loss: 0.2389 - val_accuracy: 0.8242 - lr: 0.0010 - 9s/epoch - 50ms/step
Epoch 65/100
176/176 - 9s - loss: 0.1617 - accuracy: 0.8329 - val_loss: 0.2398 - val_accuracy: 0.8249 - lr: 0.0010 - 9s/epoch - 50ms/step
Epoch 66/100
176/176 - 9s - loss: 0.1626 - accuracy: 0.8325 - val_loss: 0.2399 - val_accuracy: 0.8242 - lr: 0.0010 - 9s/epoch - 50ms/step
Epoch 67/100
176/176 - 9s - loss: 0.1624 - accuracy: 0.8321 - val_loss: 0.2425 - val_accuracy: 0.8221 - lr: 0.0010 - 9s/epoch - 50ms/step
Epoch 68/100
176/176 - 9s - loss: 0.1621 - accuracy: 0.8326 - val_loss: 0.2411 - val_accuracy: 0.8229 - lr: 0.0010 - 9s/epoch - 50ms/step
Epoch 69/100
176/176 - 9s - loss: 0.1621 - accuracy: 0.8324 - val_loss: 0.2386 - val_accuracy: 0.8235 - lr: 0.0010 - 9s/epoch - 50ms/step
Epoch 70/100
176/176 - 9s - loss: 0.1619 - accuracy: 0.8325 - val_loss: 0.2477 - val_accuracy: 0.8172 - lr: 0.0010 - 9s/epoch - 50ms/step
Epoch 71/100
176/176 - 9s - loss: 0.1623 - accuracy: 0.8321 - val_loss: 0.2426 - val_accuracy: 0.8219 - lr: 0.0010 - 9s/epoch - 50ms/step
Epoch 72/100
176/176 - 9s - loss: 0.1620 - accuracy: 0.8324 - val_loss: 0.2429 - val_accuracy: 0.8228 - lr: 0.0010 - 9s/epoch - 50ms/step
Epoch 73/100
176/176 - 9s - loss: 0.1621 - accuracy: 0.8320 - val_loss: 0.2384 - val_accuracy: 0.8249 - lr: 0.0010 - 9s/epoch - 50ms/step
Epoch 74/100
176/176 - 9s - loss: 0.1623 - accuracy: 0.8321 - val_loss: 0.2376 - val_accuracy: 0.8253 - lr: 0.0010 - 9s/epoch - 50ms/step
Epoch 75/100
176/176 - 9s - loss: 0.1620 - accuracy: 0.8318 - val_loss: 0.2392 - val_accuracy: 0.8240 - lr: 0.0010 - 9s/epoch - 50ms/step
Epoch 76/100
176/176 - 9s - loss: 0.1626 - accuracy: 0.8323 - val_loss: 0.2514 - val_accuracy: 0.8146 - lr: 0.0010 - 9s/epoch - 50ms/step
Epoch 77/100
176/176 - 9s - loss: 0.1623 - accuracy: 0.8323 - val_loss: 0.2396 - val_accuracy: 0.8223 - lr: 0.0010 - 9s/epoch - 50ms/step
Epoch 78/100
176/176 - 9s - loss: 0.1621 - accuracy: 0.8329 - val_loss: 0.2421 - val_accuracy: 0.8226 - lr: 0.0010 - 9s/epoch - 52ms/step
Epoch 79/100
176/176 - 9s - loss: 0.1621 - accuracy: 0.8324 - val_loss: 0.2467 - val_accuracy: 0.8191 - lr: 0.0010 - 9s/epoch - 50ms/step
Epoch 80/100
176/176 - 9s - loss: 0.1623 - accuracy: 0.8324 - val_loss: 0.2465 - val_accuracy: 0.8186 - lr: 0.0010 - 9s/epoch - 50ms/step
Epoch 81/100
176/176 - 9s - loss: 0.1622 - accuracy: 0.8321 - val_loss: 0.2378 - val_accuracy: 0.8259 - lr: 0.0010 - 9s/epoch - 50ms/step
Epoch 82/100
176/176 - 9s - loss: 0.1622 - accuracy: 0.8326 - val_loss: 0.2419 - val_accuracy: 0.8240 - lr: 0.0010 - 9s/epoch - 49ms/step
Epoch 83/100
176/176 - 9s - loss: 0.1619 - accuracy: 0.8330 - val_loss: 0.2449 - val_accuracy: 0.8198 - lr: 0.0010 - 9s/epoch - 50ms/step
Epoch 84/100
176/176 - 9s - loss: 0.1627 - accuracy: 0.8317 - val_loss: 0.2446 - val_accuracy: 0.8216 - lr: 0.0010 - 9s/epoch - 50ms/step
Epoch 85/100
176/176 - 9s - loss: 0.1625 - accuracy: 0.8320 - val_loss: 0.2440 - val_accuracy: 0.8213 - lr: 0.0010 - 9s/epoch - 50ms/step
Epoch 86/100
176/176 - 9s - loss: 0.1626 - accuracy: 0.8318 - val_loss: 0.2415 - val_accuracy: 0.8225 - lr: 0.0010 - 9s/epoch - 50ms/step
Epoch 87/100
176/176 - 9s - loss: 0.1626 - accuracy: 0.8322 - val_loss: 0.2423 - val_accuracy: 0.8215 - lr: 0.0010 - 9s/epoch - 49ms/step
Epoch 88/100
176/176 - 9s - loss: 0.1614 - accuracy: 0.8330 - val_loss: 0.2406 - val_accuracy: 0.8235 - lr: 0.0010 - 9s/epoch - 50ms/step
Epoch 89/100
176/176 - 9s - loss: 0.1625 - accuracy: 0.8318 - val_loss: 0.2388 - val_accuracy: 0.8251 - lr: 0.0010 - 9s/epoch - 50ms/step
Epoch 90/100
176/176 - 9s - loss: 0.1620 - accuracy: 0.8327 - val_loss: 0.2415 - val_accuracy: 0.8224 - lr: 0.0010 - 9s/epoch - 50ms/step
Epoch 91/100
176/176 - 9s - loss: 0.1617 - accuracy: 0.8325 - val_loss: 0.2419 - val_accuracy: 0.8204 - lr: 0.0010 - 9s/epoch - 50ms/step
Epoch 92/100
176/176 - 9s - loss: 0.1620 - accuracy: 0.8328 - val_loss: 0.2420 - val_accuracy: 0.8235 - lr: 0.0010 - 9s/epoch - 50ms/step
Epoch 93/100
176/176 - 9s - loss: 0.1625 - accuracy: 0.8329 - val_loss: 0.2471 - val_accuracy: 0.8197 - lr: 0.0010 - 9s/epoch - 50ms/step
Epoch 94/100
176/176 - 9s - loss: 0.1622 - accuracy: 0.8328 - val_loss: 0.2442 - val_accuracy: 0.8220 - lr: 0.0010 - 9s/epoch - 50ms/step
Epoch 95/100
176/176 - 9s - loss: 0.1617 - accuracy: 0.8330 - val_loss: 0.2444 - val_accuracy: 0.8219 - lr: 0.0010 - 9s/epoch - 49ms/step
Epoch 96/100
176/176 - 9s - loss: 0.1620 - accuracy: 0.8324 - val_loss: 0.2425 - val_accuracy: 0.8225 - lr: 0.0010 - 9s/epoch - 50ms/step
Epoch 97/100
176/176 - 9s - loss: 0.1616 - accuracy: 0.8332 - val_loss: 0.2399 - val_accuracy: 0.8254 - lr: 0.0010 - 9s/epoch - 50ms/step
Epoch 98/100
176/176 - 9s - loss: 0.1622 - accuracy: 0.8323 - val_loss: 0.2422 - val_accuracy: 0.8240 - lr: 0.0010 - 9s/epoch - 50ms/step
Epoch 99/100
176/176 - 9s - loss: 0.1622 - accuracy: 0.8325 - val_loss: 0.2396 - val_accuracy: 0.8245 - lr: 0.0010 - 9s/epoch - 50ms/step
Epoch 100/100
176/176 - 9s - loss: 0.1620 - accuracy: 0.8328 - val_loss: 0.2374 - val_accuracy: 0.8268 - lr: 0.0010 - 9s/epoch - 50ms/step
fitting with batch size: 1500
Epoch 1/100
59/59 - 10s - loss: 0.1615 - accuracy: 0.8333 - val_loss: 0.2430 - val_accuracy: 0.8225 - lr: 0.0010 - 10s/epoch - 171ms/step
Epoch 2/100
59/59 - 8s - loss: 0.1614 - accuracy: 0.8335 - val_loss: 0.2417 - val_accuracy: 0.8231 - lr: 0.0010 - 8s/epoch - 131ms/step
Epoch 3/100
59/59 - 8s - loss: 0.1623 - accuracy: 0.8323 - val_loss: 0.2418 - val_accuracy: 0.8232 - lr: 0.0010 - 8s/epoch - 131ms/step
Epoch 4/100
59/59 - 8s - loss: 0.1613 - accuracy: 0.8335 - val_loss: 0.2413 - val_accuracy: 0.8234 - lr: 0.0010 - 8s/epoch - 131ms/step
Epoch 5/100
59/59 - 8s - loss: 0.1619 - accuracy: 0.8329 - val_loss: 0.2413 - val_accuracy: 0.8230 - lr: 0.0010 - 8s/epoch - 131ms/step
Epoch 6/100
59/59 - 8s - loss: 0.1616 - accuracy: 0.8331 - val_loss: 0.2426 - val_accuracy: 0.8222 - lr: 0.0010 - 8s/epoch - 132ms/step
Epoch 7/100
59/59 - 8s - loss: 0.1611 - accuracy: 0.8326 - val_loss: 0.2417 - val_accuracy: 0.8233 - lr: 0.0010 - 8s/epoch - 131ms/step
Epoch 8/100
59/59 - 8s - loss: 0.1614 - accuracy: 0.8337 - val_loss: 0.2411 - val_accuracy: 0.8233 - lr: 0.0010 - 8s/epoch - 131ms/step
Epoch 9/100
59/59 - 8s - loss: 0.1609 - accuracy: 0.8337 - val_loss: 0.2422 - val_accuracy: 0.8224 - lr: 0.0010 - 8s/epoch - 131ms/step
Epoch 10/100
59/59 - 8s - loss: 0.1616 - accuracy: 0.8335 - val_loss: 0.2413 - val_accuracy: 0.8230 - lr: 0.0010 - 8s/epoch - 131ms/step
Epoch 11/100
59/59 - 8s - loss: 0.1617 - accuracy: 0.8328 - val_loss: 0.2418 - val_accuracy: 0.8227 - lr: 0.0010 - 8s/epoch - 131ms/step
Epoch 12/100
59/59 - 8s - loss: 0.1621 - accuracy: 0.8321 - val_loss: 0.2433 - val_accuracy: 0.8223 - lr: 0.0010 - 8s/epoch - 131ms/step
Epoch 13/100
59/59 - 8s - loss: 0.1614 - accuracy: 0.8336 - val_loss: 0.2398 - val_accuracy: 0.8244 - lr: 0.0010 - 8s/epoch - 131ms/step
Epoch 14/100
59/59 - 8s - loss: 0.1612 - accuracy: 0.8334 - val_loss: 0.2417 - val_accuracy: 0.8233 - lr: 0.0010 - 8s/epoch - 132ms/step
Epoch 15/100
59/59 - 8s - loss: 0.1621 - accuracy: 0.8316 - val_loss: 0.2424 - val_accuracy: 0.8223 - lr: 0.0010 - 8s/epoch - 131ms/step
Epoch 16/100
59/59 - 8s - loss: 0.1615 - accuracy: 0.8338 - val_loss: 0.2415 - val_accuracy: 0.8232 - lr: 0.0010 - 8s/epoch - 131ms/step
Epoch 17/100
59/59 - 8s - loss: 0.1616 - accuracy: 0.8331 - val_loss: 0.2423 - val_accuracy: 0.8224 - lr: 0.0010 - 8s/epoch - 132ms/step
Epoch 18/100
59/59 - 8s - loss: 0.1617 - accuracy: 0.8323 - val_loss: 0.2420 - val_accuracy: 0.8222 - lr: 0.0010 - 8s/epoch - 132ms/step
Epoch 19/100
59/59 - 8s - loss: 0.1616 - accuracy: 0.8331 - val_loss: 0.2410 - val_accuracy: 0.8233 - lr: 0.0010 - 8s/epoch - 132ms/step
Epoch 20/100
59/59 - 8s - loss: 0.1616 - accuracy: 0.8329 - val_loss: 0.2416 - val_accuracy: 0.8234 - lr: 0.0010 - 8s/epoch - 132ms/step
Epoch 21/100
59/59 - 8s - loss: 0.1615 - accuracy: 0.8327 - val_loss: 0.2432 - val_accuracy: 0.8219 - lr: 0.0010 - 8s/epoch - 132ms/step
Epoch 22/100
59/59 - 8s - loss: 0.1619 - accuracy: 0.8323 - val_loss: 0.2419 - val_accuracy: 0.8224 - lr: 0.0010 - 8s/epoch - 132ms/step
Epoch 23/100
59/59 - 8s - loss: 0.1616 - accuracy: 0.8332 - val_loss: 0.2423 - val_accuracy: 0.8224 - lr: 0.0010 - 8s/epoch - 132ms/step
Epoch 24/100
59/59 - 8s - loss: 0.1616 - accuracy: 0.8334 - val_loss: 0.2409 - val_accuracy: 0.8234 - lr: 0.0010 - 8s/epoch - 132ms/step
Epoch 25/100
59/59 - 8s - loss: 0.1618 - accuracy: 0.8329 - val_loss: 0.2412 - val_accuracy: 0.8232 - lr: 0.0010 - 8s/epoch - 132ms/step
Epoch 26/100
59/59 - 8s - loss: 0.1611 - accuracy: 0.8332 - val_loss: 0.2443 - val_accuracy: 0.8204 - lr: 0.0010 - 8s/epoch - 132ms/step
Epoch 27/100
59/59 - 8s - loss: 0.1613 - accuracy: 0.8329 - val_loss: 0.2423 - val_accuracy: 0.8221 - lr: 0.0010 - 8s/epoch - 132ms/step
Epoch 28/100
59/59 - 8s - loss: 0.1617 - accuracy: 0.8330 - val_loss: 0.2434 - val_accuracy: 0.8209 - lr: 0.0010 - 8s/epoch - 132ms/step
Epoch 29/100
59/59 - 8s - loss: 0.1617 - accuracy: 0.8333 - val_loss: 0.2414 - val_accuracy: 0.8235 - lr: 0.0010 - 8s/epoch - 132ms/step
Epoch 30/100
59/59 - 8s - loss: 0.1611 - accuracy: 0.8337 - val_loss: 0.2419 - val_accuracy: 0.8225 - lr: 0.0010 - 8s/epoch - 132ms/step
Epoch 31/100
59/59 - 8s - loss: 0.1617 - accuracy: 0.8324 - val_loss: 0.2418 - val_accuracy: 0.8225 - lr: 0.0010 - 8s/epoch - 132ms/step
Epoch 32/100
59/59 - 8s - loss: 0.1619 - accuracy: 0.8328 - val_loss: 0.2399 - val_accuracy: 0.8240 - lr: 0.0010 - 8s/epoch - 132ms/step
Epoch 33/100
59/59 - 8s - loss: 0.1617 - accuracy: 0.8326 - val_loss: 0.2433 - val_accuracy: 0.8221 - lr: 0.0010 - 8s/epoch - 132ms/step
Epoch 34/100
59/59 - 8s - loss: 0.1617 - accuracy: 0.8338 - val_loss: 0.2439 - val_accuracy: 0.8213 - lr: 0.0010 - 8s/epoch - 132ms/step
Epoch 35/100
59/59 - 8s - loss: 0.1620 - accuracy: 0.8325 - val_loss: 0.2428 - val_accuracy: 0.8223 - lr: 0.0010 - 8s/epoch - 132ms/step
Epoch 36/100
59/59 - 8s - loss: 0.1619 - accuracy: 0.8343 - val_loss: 0.2421 - val_accuracy: 0.8224 - lr: 0.0010 - 8s/epoch - 132ms/step
Epoch 37/100
59/59 - 8s - loss: 0.1618 - accuracy: 0.8316 - val_loss: 0.2407 - val_accuracy: 0.8233 - lr: 0.0010 - 8s/epoch - 132ms/step
Epoch 38/100
59/59 - 8s - loss: 0.1617 - accuracy: 0.8332 - val_loss: 0.2427 - val_accuracy: 0.8218 - lr: 0.0010 - 8s/epoch - 132ms/step
Epoch 39/100
59/59 - 8s - loss: 0.1614 - accuracy: 0.8334 - val_loss: 0.2415 - val_accuracy: 0.8226 - lr: 0.0010 - 8s/epoch - 132ms/step
Epoch 40/100
59/59 - 8s - loss: 0.1614 - accuracy: 0.8330 - val_loss: 0.2434 - val_accuracy: 0.8219 - lr: 0.0010 - 8s/epoch - 132ms/step
Epoch 41/100
59/59 - 8s - loss: 0.1616 - accuracy: 0.8326 - val_loss: 0.2420 - val_accuracy: 0.8224 - lr: 0.0010 - 8s/epoch - 132ms/step
Epoch 42/100
59/59 - 8s - loss: 0.1615 - accuracy: 0.8326 - val_loss: 0.2416 - val_accuracy: 0.8233 - lr: 0.0010 - 8s/epoch - 132ms/step
Epoch 43/100
59/59 - 8s - loss: 0.1621 - accuracy: 0.8321 - val_loss: 0.2437 - val_accuracy: 0.8219 - lr: 0.0010 - 8s/epoch - 132ms/step
Epoch 44/100
59/59 - 8s - loss: 0.1612 - accuracy: 0.8338 - val_loss: 0.2435 - val_accuracy: 0.8213 - lr: 0.0010 - 8s/epoch - 132ms/step
Epoch 45/100
59/59 - 8s - loss: 0.1614 - accuracy: 0.8328 - val_loss: 0.2422 - val_accuracy: 0.8226 - lr: 0.0010 - 8s/epoch - 132ms/step
Epoch 46/100
59/59 - 8s - loss: 0.1614 - accuracy: 0.8344 - val_loss: 0.2442 - val_accuracy: 0.8213 - lr: 0.0010 - 8s/epoch - 132ms/step
Epoch 47/100
59/59 - 8s - loss: 0.1614 - accuracy: 0.8331 - val_loss: 0.2431 - val_accuracy: 0.8213 - lr: 0.0010 - 8s/epoch - 132ms/step
Epoch 48/100
59/59 - 8s - loss: 0.1616 - accuracy: 0.8331 - val_loss: 0.2421 - val_accuracy: 0.8223 - lr: 0.0010 - 8s/epoch - 132ms/step
Epoch 49/100
59/59 - 8s - loss: 0.1615 - accuracy: 0.8338 - val_loss: 0.2429 - val_accuracy: 0.8219 - lr: 0.0010 - 8s/epoch - 132ms/step
Epoch 50/100
59/59 - 8s - loss: 0.1617 - accuracy: 0.8333 - val_loss: 0.2448 - val_accuracy: 0.8204 - lr: 0.0010 - 8s/epoch - 132ms/step
Epoch 51/100
59/59 - 8s - loss: 0.1613 - accuracy: 0.8322 - val_loss: 0.2433 - val_accuracy: 0.8219 - lr: 0.0010 - 8s/epoch - 132ms/step
Epoch 52/100
59/59 - 8s - loss: 0.1620 - accuracy: 0.8333 - val_loss: 0.2421 - val_accuracy: 0.8228 - lr: 0.0010 - 8s/epoch - 132ms/step
Epoch 53/100
59/59 - 8s - loss: 0.1619 - accuracy: 0.8317 - val_loss: 0.2425 - val_accuracy: 0.8224 - lr: 0.0010 - 8s/epoch - 132ms/step
Epoch 54/100
59/59 - 8s - loss: 0.1611 - accuracy: 0.8335 - val_loss: 0.2414 - val_accuracy: 0.8231 - lr: 0.0010 - 8s/epoch - 132ms/step
Epoch 55/100
59/59 - 8s - loss: 0.1613 - accuracy: 0.8331 - val_loss: 0.2433 - val_accuracy: 0.8219 - lr: 0.0010 - 8s/epoch - 132ms/step
Epoch 56/100
59/59 - 8s - loss: 0.1613 - accuracy: 0.8339 - val_loss: 0.2416 - val_accuracy: 0.8230 - lr: 0.0010 - 8s/epoch - 132ms/step
Epoch 57/100
59/59 - 8s - loss: 0.1611 - accuracy: 0.8338 - val_loss: 0.2421 - val_accuracy: 0.8229 - lr: 0.0010 - 8s/epoch - 132ms/step
Epoch 58/100
59/59 - 8s - loss: 0.1612 - accuracy: 0.8337 - val_loss: 0.2431 - val_accuracy: 0.8221 - lr: 0.0010 - 8s/epoch - 132ms/step
Epoch 59/100
59/59 - 8s - loss: 0.1614 - accuracy: 0.8335 - val_loss: 0.2439 - val_accuracy: 0.8218 - lr: 0.0010 - 8s/epoch - 132ms/step
Epoch 60/100
59/59 - 8s - loss: 0.1612 - accuracy: 0.8335 - val_loss: 0.2422 - val_accuracy: 0.8227 - lr: 0.0010 - 8s/epoch - 132ms/step
Epoch 61/100
59/59 - 8s - loss: 0.1621 - accuracy: 0.8325 - val_loss: 0.2414 - val_accuracy: 0.8229 - lr: 0.0010 - 8s/epoch - 132ms/step
Epoch 62/100
59/59 - 8s - loss: 0.1617 - accuracy: 0.8329 - val_loss: 0.2434 - val_accuracy: 0.8219 - lr: 0.0010 - 8s/epoch - 132ms/step
Epoch 63/100
59/59 - 8s - loss: 0.1617 - accuracy: 0.8329 - val_loss: 0.2430 - val_accuracy: 0.8220 - lr: 0.0010 - 8s/epoch - 132ms/step
Epoch 64/100
59/59 - 8s - loss: 0.1620 - accuracy: 0.8333 - val_loss: 0.2412 - val_accuracy: 0.8235 - lr: 0.0010 - 8s/epoch - 132ms/step
Epoch 65/100
59/59 - 8s - loss: 0.1613 - accuracy: 0.8338 - val_loss: 0.2426 - val_accuracy: 0.8216 - lr: 0.0010 - 8s/epoch - 132ms/step
Epoch 66/100
59/59 - 8s - loss: 0.1609 - accuracy: 0.8331 - val_loss: 0.2411 - val_accuracy: 0.8233 - lr: 0.0010 - 8s/epoch - 132ms/step
Epoch 67/100
59/59 - 8s - loss: 0.1611 - accuracy: 0.8348 - val_loss: 0.2414 - val_accuracy: 0.8228 - lr: 0.0010 - 8s/epoch - 132ms/step
Epoch 68/100
59/59 - 8s - loss: 0.1613 - accuracy: 0.8333 - val_loss: 0.2426 - val_accuracy: 0.8222 - lr: 0.0010 - 8s/epoch - 132ms/step
Epoch 69/100
59/59 - 8s - loss: 0.1614 - accuracy: 0.8335 - val_loss: 0.2422 - val_accuracy: 0.8227 - lr: 0.0010 - 8s/epoch - 132ms/step
Epoch 70/100
59/59 - 8s - loss: 0.1612 - accuracy: 0.8340 - val_loss: 0.2432 - val_accuracy: 0.8216 - lr: 0.0010 - 8s/epoch - 132ms/step
Epoch 71/100
59/59 - 8s - loss: 0.1607 - accuracy: 0.8339 - val_loss: 0.2421 - val_accuracy: 0.8224 - lr: 0.0010 - 8s/epoch - 132ms/step
Epoch 72/100
59/59 - 8s - loss: 0.1614 - accuracy: 0.8337 - val_loss: 0.2432 - val_accuracy: 0.8219 - lr: 0.0010 - 8s/epoch - 132ms/step
Epoch 73/100
59/59 - 8s - loss: 0.1618 - accuracy: 0.8321 - val_loss: 0.2428 - val_accuracy: 0.8221 - lr: 0.0010 - 8s/epoch - 132ms/step
Epoch 74/100
59/59 - 8s - loss: 0.1619 - accuracy: 0.8327 - val_loss: 0.2428 - val_accuracy: 0.8222 - lr: 0.0010 - 8s/epoch - 132ms/step
Epoch 75/100
59/59 - 8s - loss: 0.1616 - accuracy: 0.8330 - val_loss: 0.2442 - val_accuracy: 0.8214 - lr: 0.0010 - 8s/epoch - 132ms/step
Epoch 76/100
59/59 - 8s - loss: 0.1616 - accuracy: 0.8343 - val_loss: 0.2420 - val_accuracy: 0.8228 - lr: 0.0010 - 8s/epoch - 132ms/step
Epoch 77/100
59/59 - 8s - loss: 0.1614 - accuracy: 0.8325 - val_loss: 0.2434 - val_accuracy: 0.8220 - lr: 0.0010 - 8s/epoch - 132ms/step
Epoch 78/100
59/59 - 8s - loss: 0.1614 - accuracy: 0.8343 - val_loss: 0.2423 - val_accuracy: 0.8224 - lr: 0.0010 - 8s/epoch - 132ms/step
Epoch 79/100
59/59 - 8s - loss: 0.1612 - accuracy: 0.8333 - val_loss: 0.2416 - val_accuracy: 0.8229 - lr: 0.0010 - 8s/epoch - 132ms/step
Epoch 80/100
59/59 - 8s - loss: 0.1618 - accuracy: 0.8327 - val_loss: 0.2419 - val_accuracy: 0.8224 - lr: 0.0010 - 8s/epoch - 132ms/step
Epoch 81/100
59/59 - 8s - loss: 0.1615 - accuracy: 0.8335 - val_loss: 0.2429 - val_accuracy: 0.8224 - lr: 0.0010 - 8s/epoch - 132ms/step
Epoch 82/100
59/59 - 8s - loss: 0.1613 - accuracy: 0.8326 - val_loss: 0.2442 - val_accuracy: 0.8213 - lr: 0.0010 - 8s/epoch - 132ms/step
Epoch 83/100
59/59 - 8s - loss: 0.1615 - accuracy: 0.8328 - val_loss: 0.2418 - val_accuracy: 0.8230 - lr: 0.0010 - 8s/epoch - 132ms/step
Epoch 84/100
59/59 - 8s - loss: 0.1613 - accuracy: 0.8342 - val_loss: 0.2426 - val_accuracy: 0.8224 - lr: 0.0010 - 8s/epoch - 132ms/step
Epoch 85/100
59/59 - 8s - loss: 0.1611 - accuracy: 0.8346 - val_loss: 0.2433 - val_accuracy: 0.8220 - lr: 0.0010 - 8s/epoch - 132ms/step
Epoch 86/100
59/59 - 8s - loss: 0.1616 - accuracy: 0.8338 - val_loss: 0.2438 - val_accuracy: 0.8212 - lr: 0.0010 - 8s/epoch - 132ms/step
Epoch 87/100
59/59 - 8s - loss: 0.1611 - accuracy: 0.8334 - val_loss: 0.2433 - val_accuracy: 0.8213 - lr: 0.0010 - 8s/epoch - 132ms/step
Epoch 88/100
59/59 - 8s - loss: 0.1616 - accuracy: 0.8326 - val_loss: 0.2434 - val_accuracy: 0.8215 - lr: 0.0010 - 8s/epoch - 132ms/step
Epoch 89/100
59/59 - 8s - loss: 0.1615 - accuracy: 0.8327 - val_loss: 0.2423 - val_accuracy: 0.8225 - lr: 0.0010 - 8s/epoch - 132ms/step
Epoch 90/100
59/59 - 8s - loss: 0.1613 - accuracy: 0.8330 - val_loss: 0.2414 - val_accuracy: 0.8232 - lr: 0.0010 - 8s/epoch - 132ms/step
Epoch 91/100
59/59 - 8s - loss: 0.1614 - accuracy: 0.8328 - val_loss: 0.2425 - val_accuracy: 0.8226 - lr: 0.0010 - 8s/epoch - 132ms/step
Epoch 92/100
59/59 - 8s - loss: 0.1613 - accuracy: 0.8339 - val_loss: 0.2429 - val_accuracy: 0.8219 - lr: 0.0010 - 8s/epoch - 132ms/step
Epoch 93/100
59/59 - 8s - loss: 0.1610 - accuracy: 0.8344 - val_loss: 0.2413 - val_accuracy: 0.8229 - lr: 0.0010 - 8s/epoch - 132ms/step
Epoch 94/100
59/59 - 8s - loss: 0.1612 - accuracy: 0.8339 - val_loss: 0.2421 - val_accuracy: 0.8224 - lr: 0.0010 - 8s/epoch - 132ms/step
Epoch 95/100
59/59 - 8s - loss: 0.1614 - accuracy: 0.8330 - val_loss: 0.2430 - val_accuracy: 0.8227 - lr: 0.0010 - 8s/epoch - 132ms/step
Epoch 96/100
59/59 - 8s - loss: 0.1611 - accuracy: 0.8334 - val_loss: 0.2431 - val_accuracy: 0.8221 - lr: 0.0010 - 8s/epoch - 132ms/step
Epoch 97/100
59/59 - 8s - loss: 0.1610 - accuracy: 0.8329 - val_loss: 0.2423 - val_accuracy: 0.8224 - lr: 0.0010 - 8s/epoch - 132ms/step
Epoch 98/100
59/59 - 8s - loss: 0.1617 - accuracy: 0.8331 - val_loss: 0.2437 - val_accuracy: 0.8219 - lr: 0.0010 - 8s/epoch - 132ms/step
Epoch 99/100
59/59 - 8s - loss: 0.1619 - accuracy: 0.8318 - val_loss: 0.2439 - val_accuracy: 0.8219 - lr: 0.0010 - 8s/epoch - 132ms/step
Epoch 100/100
59/59 - 8s - loss: 0.1613 - accuracy: 0.8334 - val_loss: 0.2432 - val_accuracy: 0.8220 - lr: 0.0010 - 8s/epoch - 132ms/step
fitting with batch size: 2500
Epoch 1/100
36/36 - 10s - loss: 0.1609 - accuracy: 0.8336 - val_loss: 0.2466 - val_accuracy: 0.8192 - lr: 0.0010 - 10s/epoch - 276ms/step
Epoch 2/100
36/36 - 8s - loss: 0.1609 - accuracy: 0.8337 - val_loss: 0.2379 - val_accuracy: 0.8252 - lr: 0.0010 - 8s/epoch - 209ms/step
Epoch 3/100
36/36 - 8s - loss: 0.1614 - accuracy: 0.8328 - val_loss: 0.2426 - val_accuracy: 0.8223 - lr: 0.0010 - 8s/epoch - 209ms/step
Epoch 4/100
36/36 - 8s - loss: 0.1611 - accuracy: 0.8335 - val_loss: 0.2424 - val_accuracy: 0.8232 - lr: 0.0010 - 8s/epoch - 209ms/step
Epoch 5/100
36/36 - 8s - loss: 0.1607 - accuracy: 0.8343 - val_loss: 0.2395 - val_accuracy: 0.8244 - lr: 0.0010 - 8s/epoch - 210ms/step
Epoch 6/100
36/36 - 8s - loss: 0.1613 - accuracy: 0.8332 - val_loss: 0.2416 - val_accuracy: 0.8229 - lr: 0.0010 - 8s/epoch - 209ms/step
Epoch 7/100
36/36 - 8s - loss: 0.1616 - accuracy: 0.8333 - val_loss: 0.2348 - val_accuracy: 0.8274 - lr: 0.0010 - 8s/epoch - 209ms/step
Epoch 8/100
36/36 - 8s - loss: 0.1613 - accuracy: 0.8341 - val_loss: 0.2426 - val_accuracy: 0.8231 - lr: 0.0010 - 8s/epoch - 209ms/step
Epoch 9/100
36/36 - 8s - loss: 0.1616 - accuracy: 0.8332 - val_loss: 0.2389 - val_accuracy: 0.8240 - lr: 0.0010 - 8s/epoch - 210ms/step
Epoch 10/100
36/36 - 8s - loss: 0.1612 - accuracy: 0.8333 - val_loss: 0.2430 - val_accuracy: 0.8219 - lr: 0.0010 - 8s/epoch - 209ms/step
Epoch 11/100
36/36 - 8s - loss: 0.1613 - accuracy: 0.8328 - val_loss: 0.2412 - val_accuracy: 0.8240 - lr: 0.0010 - 8s/epoch - 209ms/step
Epoch 12/100
36/36 - 8s - loss: 0.1613 - accuracy: 0.8333 - val_loss: 0.2416 - val_accuracy: 0.8226 - lr: 0.0010 - 8s/epoch - 209ms/step
Epoch 13/100
36/36 - 8s - loss: 0.1613 - accuracy: 0.8335 - val_loss: 0.2446 - val_accuracy: 0.8200 - lr: 0.0010 - 8s/epoch - 209ms/step
Epoch 14/100
36/36 - 8s - loss: 0.1618 - accuracy: 0.8325 - val_loss: 0.2424 - val_accuracy: 0.8237 - lr: 0.0010 - 8s/epoch - 209ms/step
Epoch 15/100
36/36 - 8s - loss: 0.1611 - accuracy: 0.8333 - val_loss: 0.2423 - val_accuracy: 0.8224 - lr: 0.0010 - 8s/epoch - 209ms/step
Epoch 16/100
36/36 - 8s - loss: 0.1615 - accuracy: 0.8330 - val_loss: 0.2430 - val_accuracy: 0.8224 - lr: 0.0010 - 8s/epoch - 209ms/step
Epoch 17/100
36/36 - 8s - loss: 0.1608 - accuracy: 0.8340 - val_loss: 0.2421 - val_accuracy: 0.8234 - lr: 0.0010 - 8s/epoch - 209ms/step
Epoch 18/100
36/36 - 8s - loss: 0.1608 - accuracy: 0.8328 - val_loss: 0.2428 - val_accuracy: 0.8213 - lr: 0.0010 - 8s/epoch - 210ms/step
Epoch 19/100
36/36 - 8s - loss: 0.1609 - accuracy: 0.8344 - val_loss: 0.2467 - val_accuracy: 0.8193 - lr: 0.0010 - 8s/epoch - 209ms/step
Epoch 20/100
36/36 - 8s - loss: 0.1613 - accuracy: 0.8331 - val_loss: 0.2415 - val_accuracy: 0.8232 - lr: 0.0010 - 8s/epoch - 209ms/step
Epoch 21/100
36/36 - 8s - loss: 0.1613 - accuracy: 0.8333 - val_loss: 0.2422 - val_accuracy: 0.8216 - lr: 0.0010 - 8s/epoch - 209ms/step
Epoch 22/100
36/36 - 8s - loss: 0.1616 - accuracy: 0.8331 - val_loss: 0.2475 - val_accuracy: 0.8186 - lr: 0.0010 - 8s/epoch - 209ms/step
Epoch 23/100
36/36 - 8s - loss: 0.1610 - accuracy: 0.8336 - val_loss: 0.2462 - val_accuracy: 0.8190 - lr: 0.0010 - 8s/epoch - 209ms/step
Epoch 24/100
36/36 - 8s - loss: 0.1611 - accuracy: 0.8338 - val_loss: 0.2410 - val_accuracy: 0.8225 - lr: 0.0010 - 8s/epoch - 209ms/step
Epoch 25/100
36/36 - 8s - loss: 0.1616 - accuracy: 0.8324 - val_loss: 0.2401 - val_accuracy: 0.8238 - lr: 0.0010 - 8s/epoch - 209ms/step
Epoch 26/100
36/36 - 8s - loss: 0.1612 - accuracy: 0.8333 - val_loss: 0.2437 - val_accuracy: 0.8215 - lr: 0.0010 - 8s/epoch - 209ms/step
Epoch 27/100
36/36 - 8s - loss: 0.1606 - accuracy: 0.8336 - val_loss: 0.2430 - val_accuracy: 0.8225 - lr: 0.0010 - 8s/epoch - 210ms/step
Epoch 28/100
36/36 - 8s - loss: 0.1606 - accuracy: 0.8346 - val_loss: 0.2417 - val_accuracy: 0.8235 - lr: 0.0010 - 8s/epoch - 209ms/step
Epoch 29/100
36/36 - 8s - loss: 0.1611 - accuracy: 0.8330 - val_loss: 0.2420 - val_accuracy: 0.8222 - lr: 0.0010 - 8s/epoch - 209ms/step
Epoch 30/100
36/36 - 8s - loss: 0.1610 - accuracy: 0.8334 - val_loss: 0.2447 - val_accuracy: 0.8192 - lr: 0.0010 - 8s/epoch - 209ms/step
Epoch 31/100
36/36 - 8s - loss: 0.1610 - accuracy: 0.8335 - val_loss: 0.2332 - val_accuracy: 0.8296 - lr: 0.0010 - 8s/epoch - 209ms/step
Epoch 32/100
36/36 - 8s - loss: 0.1619 - accuracy: 0.8327 - val_loss: 0.2463 - val_accuracy: 0.8201 - lr: 0.0010 - 8s/epoch - 209ms/step
Epoch 33/100
36/36 - 8s - loss: 0.1606 - accuracy: 0.8338 - val_loss: 0.2486 - val_accuracy: 0.8179 - lr: 0.0010 - 8s/epoch - 210ms/step
Epoch 34/100
36/36 - 8s - loss: 0.1608 - accuracy: 0.8334 - val_loss: 0.2461 - val_accuracy: 0.8193 - lr: 0.0010 - 8s/epoch - 209ms/step
Epoch 35/100
36/36 - 8s - loss: 0.1615 - accuracy: 0.8329 - val_loss: 0.2441 - val_accuracy: 0.8219 - lr: 0.0010 - 8s/epoch - 210ms/step
Epoch 36/100
36/36 - 8s - loss: 0.1610 - accuracy: 0.8344 - val_loss: 0.2485 - val_accuracy: 0.8184 - lr: 0.0010 - 8s/epoch - 210ms/step
Epoch 37/100
36/36 - 8s - loss: 0.1611 - accuracy: 0.8328 - val_loss: 0.2481 - val_accuracy: 0.8187 - lr: 0.0010 - 8s/epoch - 209ms/step
Epoch 38/100
36/36 - 8s - loss: 0.1615 - accuracy: 0.8325 - val_loss: 0.2416 - val_accuracy: 0.8237 - lr: 0.0010 - 8s/epoch - 209ms/step
Epoch 39/100
36/36 - 8s - loss: 0.1610 - accuracy: 0.8339 - val_loss: 0.2458 - val_accuracy: 0.8206 - lr: 0.0010 - 8s/epoch - 209ms/step
Epoch 40/100
36/36 - 8s - loss: 0.1614 - accuracy: 0.8333 - val_loss: 0.2376 - val_accuracy: 0.8248 - lr: 0.0010 - 8s/epoch - 210ms/step
Epoch 41/100
36/36 - 8s - loss: 0.1615 - accuracy: 0.8334 - val_loss: 0.2443 - val_accuracy: 0.8208 - lr: 0.0010 - 8s/epoch - 209ms/step
Epoch 42/100
36/36 - 8s - loss: 0.1615 - accuracy: 0.8329 - val_loss: 0.2432 - val_accuracy: 0.8206 - lr: 0.0010 - 8s/epoch - 209ms/step
Epoch 43/100
36/36 - 8s - loss: 0.1610 - accuracy: 0.8336 - val_loss: 0.2486 - val_accuracy: 0.8183 - lr: 0.0010 - 8s/epoch - 209ms/step
Epoch 44/100
36/36 - 8s - loss: 0.1619 - accuracy: 0.8334 - val_loss: 0.2447 - val_accuracy: 0.8198 - lr: 0.0010 - 8s/epoch - 209ms/step
Epoch 45/100
36/36 - 8s - loss: 0.1611 - accuracy: 0.8337 - val_loss: 0.2455 - val_accuracy: 0.8201 - lr: 0.0010 - 8s/epoch - 210ms/step
Epoch 46/100
36/36 - 8s - loss: 0.1610 - accuracy: 0.8340 - val_loss: 0.2435 - val_accuracy: 0.8217 - lr: 0.0010 - 8s/epoch - 209ms/step
Epoch 47/100
36/36 - 8s - loss: 0.1614 - accuracy: 0.8336 - val_loss: 0.2460 - val_accuracy: 0.8209 - lr: 0.0010 - 8s/epoch - 209ms/step
Epoch 48/100
36/36 - 8s - loss: 0.1613 - accuracy: 0.8330 - val_loss: 0.2341 - val_accuracy: 0.8287 - lr: 0.0010 - 8s/epoch - 209ms/step
Epoch 49/100
36/36 - 8s - loss: 0.1614 - accuracy: 0.8337 - val_loss: 0.2432 - val_accuracy: 0.8221 - lr: 0.0010 - 8s/epoch - 210ms/step
Epoch 50/100
36/36 - 8s - loss: 0.1616 - accuracy: 0.8331 - val_loss: 0.2435 - val_accuracy: 0.8210 - lr: 0.0010 - 8s/epoch - 210ms/step
Epoch 51/100
36/36 - 8s - loss: 0.1610 - accuracy: 0.8341 - val_loss: 0.2413 - val_accuracy: 0.8231 - lr: 0.0010 - 8s/epoch - 209ms/step
Epoch 52/100
36/36 - 8s - loss: 0.1613 - accuracy: 0.8340 - val_loss: 0.2412 - val_accuracy: 0.8240 - lr: 0.0010 - 8s/epoch - 209ms/step
Epoch 53/100
36/36 - 8s - loss: 0.1619 - accuracy: 0.8328 - val_loss: 0.2456 - val_accuracy: 0.8208 - lr: 0.0010 - 8s/epoch - 209ms/step
Epoch 54/100
36/36 - 8s - loss: 0.1613 - accuracy: 0.8317 - val_loss: 0.2433 - val_accuracy: 0.8217 - lr: 0.0010 - 8s/epoch - 210ms/step
Epoch 55/100
36/36 - 8s - loss: 0.1605 - accuracy: 0.8351 - val_loss: 0.2444 - val_accuracy: 0.8220 - lr: 0.0010 - 8s/epoch - 209ms/step
Epoch 56/100
36/36 - 8s - loss: 0.1610 - accuracy: 0.8336 - val_loss: 0.2448 - val_accuracy: 0.8214 - lr: 0.0010 - 8s/epoch - 209ms/step
Epoch 57/100
36/36 - 8s - loss: 0.1616 - accuracy: 0.8331 - val_loss: 0.2435 - val_accuracy: 0.8219 - lr: 0.0010 - 8s/epoch - 210ms/step
Epoch 58/100
36/36 - 8s - loss: 0.1615 - accuracy: 0.8340 - val_loss: 0.2429 - val_accuracy: 0.8223 - lr: 0.0010 - 8s/epoch - 210ms/step
Epoch 59/100
36/36 - 8s - loss: 0.1610 - accuracy: 0.8342 - val_loss: 0.2465 - val_accuracy: 0.8192 - lr: 0.0010 - 8s/epoch - 209ms/step
Epoch 60/100
36/36 - 8s - loss: 0.1616 - accuracy: 0.8329 - val_loss: 0.2399 - val_accuracy: 0.8233 - lr: 0.0010 - 8s/epoch - 209ms/step
Epoch 61/100
36/36 - 8s - loss: 0.1611 - accuracy: 0.8342 - val_loss: 0.2455 - val_accuracy: 0.8203 - lr: 0.0010 - 8s/epoch - 209ms/step
Epoch 62/100
36/36 - 8s - loss: 0.1608 - accuracy: 0.8329 - val_loss: 0.2412 - val_accuracy: 0.8215 - lr: 0.0010 - 8s/epoch - 209ms/step
Epoch 63/100
36/36 - 8s - loss: 0.1611 - accuracy: 0.8335 - val_loss: 0.2451 - val_accuracy: 0.8203 - lr: 0.0010 - 8s/epoch - 210ms/step
Epoch 64/100
36/36 - 8s - loss: 0.1616 - accuracy: 0.8336 - val_loss: 0.2464 - val_accuracy: 0.8193 - lr: 0.0010 - 8s/epoch - 209ms/step
Epoch 65/100
36/36 - 8s - loss: 0.1616 - accuracy: 0.8326 - val_loss: 0.2415 - val_accuracy: 0.8236 - lr: 0.0010 - 8s/epoch - 209ms/step
Epoch 66/100
36/36 - 8s - loss: 0.1612 - accuracy: 0.8331 - val_loss: 0.2422 - val_accuracy: 0.8223 - lr: 0.0010 - 8s/epoch - 209ms/step
Epoch 67/100
36/36 - 8s - loss: 0.1616 - accuracy: 0.8327 - val_loss: 0.2418 - val_accuracy: 0.8225 - lr: 0.0010 - 8s/epoch - 209ms/step
Epoch 68/100
36/36 - 8s - loss: 0.1612 - accuracy: 0.8336 - val_loss: 0.2426 - val_accuracy: 0.8231 - lr: 0.0010 - 8s/epoch - 210ms/step
Epoch 69/100
36/36 - 8s - loss: 0.1611 - accuracy: 0.8334 - val_loss: 0.2435 - val_accuracy: 0.8213 - lr: 0.0010 - 8s/epoch - 209ms/step
Epoch 70/100
36/36 - 8s - loss: 0.1615 - accuracy: 0.8337 - val_loss: 0.2428 - val_accuracy: 0.8222 - lr: 0.0010 - 8s/epoch - 209ms/step
Epoch 71/100
36/36 - 8s - loss: 0.1617 - accuracy: 0.8329 - val_loss: 0.2447 - val_accuracy: 0.8206 - lr: 0.0010 - 8s/epoch - 210ms/step
Epoch 72/100
36/36 - 8s - loss: 0.1608 - accuracy: 0.8342 - val_loss: 0.2418 - val_accuracy: 0.8217 - lr: 0.0010 - 8s/epoch - 209ms/step
Epoch 73/100
36/36 - 8s - loss: 0.1612 - accuracy: 0.8339 - val_loss: 0.2431 - val_accuracy: 0.8226 - lr: 0.0010 - 8s/epoch - 209ms/step
Epoch 74/100
36/36 - 8s - loss: 0.1609 - accuracy: 0.8346 - val_loss: 0.2431 - val_accuracy: 0.8220 - lr: 0.0010 - 8s/epoch - 209ms/step
Epoch 75/100
36/36 - 8s - loss: 0.1620 - accuracy: 0.8328 - val_loss: 0.2442 - val_accuracy: 0.8208 - lr: 0.0010 - 8s/epoch - 209ms/step
Epoch 76/100
36/36 - 8s - loss: 0.1614 - accuracy: 0.8325 - val_loss: 0.2481 - val_accuracy: 0.8185 - lr: 0.0010 - 8s/epoch - 210ms/step
Epoch 77/100
36/36 - 8s - loss: 0.1618 - accuracy: 0.8331 - val_loss: 0.2451 - val_accuracy: 0.8200 - lr: 0.0010 - 8s/epoch - 210ms/step
Epoch 78/100
36/36 - 8s - loss: 0.1614 - accuracy: 0.8333 - val_loss: 0.2505 - val_accuracy: 0.8176 - lr: 0.0010 - 8s/epoch - 209ms/step
Epoch 79/100
36/36 - 8s - loss: 0.1607 - accuracy: 0.8330 - val_loss: 0.2430 - val_accuracy: 0.8225 - lr: 0.0010 - 8s/epoch - 210ms/step
Epoch 80/100
36/36 - 8s - loss: 0.1613 - accuracy: 0.8335 - val_loss: 0.2451 - val_accuracy: 0.8196 - lr: 0.0010 - 8s/epoch - 209ms/step
Epoch 81/100
36/36 - 8s - loss: 0.1616 - accuracy: 0.8342 - val_loss: 0.2434 - val_accuracy: 0.8228 - lr: 0.0010 - 8s/epoch - 209ms/step
Epoch 82/100
36/36 - 8s - loss: 0.1602 - accuracy: 0.8342 - val_loss: 0.2411 - val_accuracy: 0.8236 - lr: 0.0010 - 8s/epoch - 209ms/step
Epoch 83/100
36/36 - 8s - loss: 0.1616 - accuracy: 0.8332 - val_loss: 0.2463 - val_accuracy: 0.8193 - lr: 0.0010 - 8s/epoch - 209ms/step
Epoch 84/100
36/36 - 8s - loss: 0.1611 - accuracy: 0.8336 - val_loss: 0.2444 - val_accuracy: 0.8203 - lr: 0.0010 - 8s/epoch - 209ms/step
Epoch 85/100
36/36 - 8s - loss: 0.1618 - accuracy: 0.8324 - val_loss: 0.2427 - val_accuracy: 0.8226 - lr: 0.0010 - 8s/epoch - 210ms/step
Epoch 86/100
36/36 - 8s - loss: 0.1613 - accuracy: 0.8341 - val_loss: 0.2438 - val_accuracy: 0.8214 - lr: 0.0010 - 8s/epoch - 209ms/step
Epoch 87/100
36/36 - 8s - loss: 0.1611 - accuracy: 0.8337 - val_loss: 0.2446 - val_accuracy: 0.8208 - lr: 0.0010 - 8s/epoch - 210ms/step
Epoch 88/100
36/36 - 8s - loss: 0.1608 - accuracy: 0.8340 - val_loss: 0.2452 - val_accuracy: 0.8207 - lr: 0.0010 - 8s/epoch - 209ms/step
Epoch 89/100
36/36 - 8s - loss: 0.1618 - accuracy: 0.8331 - val_loss: 0.2407 - val_accuracy: 0.8235 - lr: 0.0010 - 8s/epoch - 209ms/step
Epoch 90/100
36/36 - 8s - loss: 0.1611 - accuracy: 0.8340 - val_loss: 0.2444 - val_accuracy: 0.8204 - lr: 0.0010 - 8s/epoch - 209ms/step
Epoch 91/100
36/36 - 8s - loss: 0.1613 - accuracy: 0.8339 - val_loss: 0.2445 - val_accuracy: 0.8223 - lr: 0.0010 - 8s/epoch - 210ms/step
Epoch 92/100
36/36 - 8s - loss: 0.1610 - accuracy: 0.8344 - val_loss: 0.2459 - val_accuracy: 0.8202 - lr: 0.0010 - 8s/epoch - 211ms/step
Epoch 93/100
36/36 - 8s - loss: 0.1611 - accuracy: 0.8341 - val_loss: 0.2407 - val_accuracy: 0.8242 - lr: 0.0010 - 8s/epoch - 209ms/step
Epoch 94/100
36/36 - 8s - loss: 0.1608 - accuracy: 0.8332 - val_loss: 0.2431 - val_accuracy: 0.8227 - lr: 0.0010 - 8s/epoch - 209ms/step
Epoch 95/100
36/36 - 8s - loss: 0.1611 - accuracy: 0.8343 - val_loss: 0.2428 - val_accuracy: 0.8223 - lr: 0.0010 - 8s/epoch - 210ms/step
Epoch 96/100
36/36 - 8s - loss: 0.1613 - accuracy: 0.8332 - val_loss: 0.2424 - val_accuracy: 0.8232 - lr: 0.0010 - 8s/epoch - 210ms/step
Epoch 97/100
36/36 - 8s - loss: 0.1617 - accuracy: 0.8318 - val_loss: 0.2450 - val_accuracy: 0.8219 - lr: 0.0010 - 8s/epoch - 209ms/step
Epoch 98/100
36/36 - 8s - loss: 0.1616 - accuracy: 0.8331 - val_loss: 0.2428 - val_accuracy: 0.8229 - lr: 0.0010 - 8s/epoch - 209ms/step
Epoch 99/100
36/36 - 8s - loss: 0.1609 - accuracy: 0.8333 - val_loss: 0.2432 - val_accuracy: 0.8224 - lr: 0.0010 - 8s/epoch - 210ms/step
Epoch 100/100
36/36 - 8s - loss: 0.1608 - accuracy: 0.8345 - val_loss: 0.2413 - val_accuracy: 0.8227 - lr: 0.0010 - 8s/epoch - 209ms/step
Loss: huber_loss
Epoch number: 75
fitting with batch size: 20
Epoch 1/75
4378/4378 - 72s - loss: 0.0242 - accuracy: 0.8313 - val_loss: 0.0322 - val_accuracy: 0.8243 - lr: 0.0010 - 72s/epoch - 16ms/step
Epoch 2/75
4378/4378 - 70s - loss: 0.0242 - accuracy: 0.8307 - val_loss: 0.0332 - val_accuracy: 0.8173 - lr: 0.0010 - 70s/epoch - 16ms/step
Epoch 3/75
4378/4378 - 69s - loss: 0.0242 - accuracy: 0.8307 - val_loss: 0.0329 - val_accuracy: 0.8204 - lr: 0.0010 - 69s/epoch - 16ms/step
Epoch 4/75
4378/4378 - 70s - loss: 0.0241 - accuracy: 0.8320 - val_loss: 0.0329 - val_accuracy: 0.8172 - lr: 0.0010 - 70s/epoch - 16ms/step
Epoch 5/75
4378/4378 - 69s - loss: 0.0242 - accuracy: 0.8319 - val_loss: 0.0328 - val_accuracy: 0.8234 - lr: 0.0010 - 69s/epoch - 16ms/step
Epoch 6/75
4378/4378 - 70s - loss: 0.0241 - accuracy: 0.8316 - val_loss: 0.0327 - val_accuracy: 0.8201 - lr: 0.0010 - 70s/epoch - 16ms/step
Epoch 7/75
4378/4378 - 70s - loss: 0.0242 - accuracy: 0.8305 - val_loss: 0.0328 - val_accuracy: 0.8196 - lr: 0.0010 - 70s/epoch - 16ms/step
Epoch 8/75
4378/4378 - 70s - loss: 0.0241 - accuracy: 0.8319 - val_loss: 0.0319 - val_accuracy: 0.8256 - lr: 0.0010 - 70s/epoch - 16ms/step
Epoch 9/75
4378/4378 - 69s - loss: 0.0240 - accuracy: 0.8320 - val_loss: 0.0318 - val_accuracy: 0.8266 - lr: 0.0010 - 69s/epoch - 16ms/step
Epoch 10/75
4378/4378 - 70s - loss: 0.0240 - accuracy: 0.8325 - val_loss: 0.0328 - val_accuracy: 0.8188 - lr: 0.0010 - 70s/epoch - 16ms/step
Epoch 11/75
4378/4378 - 69s - loss: 0.0241 - accuracy: 0.8314 - val_loss: 0.0319 - val_accuracy: 0.8245 - lr: 0.0010 - 69s/epoch - 16ms/step
Epoch 12/75
4378/4378 - 69s - loss: 0.0242 - accuracy: 0.8312 - val_loss: 0.0319 - val_accuracy: 0.8250 - lr: 0.0010 - 69s/epoch - 16ms/step
Epoch 13/75
4378/4378 - 70s - loss: 0.0242 - accuracy: 0.8313 - val_loss: 0.0322 - val_accuracy: 0.8235 - lr: 0.0010 - 70s/epoch - 16ms/step
Epoch 14/75
4378/4378 - 69s - loss: 0.0241 - accuracy: 0.8323 - val_loss: 0.0324 - val_accuracy: 0.8212 - lr: 0.0010 - 69s/epoch - 16ms/step
Epoch 15/75
4378/4378 - 69s - loss: 0.0240 - accuracy: 0.8334 - val_loss: 0.0329 - val_accuracy: 0.8198 - lr: 0.0010 - 69s/epoch - 16ms/step
Epoch 16/75
4378/4378 - 69s - loss: 0.0241 - accuracy: 0.8311 - val_loss: 0.0329 - val_accuracy: 0.8222 - lr: 0.0010 - 69s/epoch - 16ms/step
Epoch 17/75
4378/4378 - 69s - loss: 0.0241 - accuracy: 0.8316 - val_loss: 0.0321 - val_accuracy: 0.8230 - lr: 0.0010 - 69s/epoch - 16ms/step
Epoch 18/75
4378/4378 - 69s - loss: 0.0240 - accuracy: 0.8331 - val_loss: 0.0332 - val_accuracy: 0.8170 - lr: 0.0010 - 69s/epoch - 16ms/step
Epoch 19/75
4378/4378 - 70s - loss: 0.0240 - accuracy: 0.8329 - val_loss: 0.0322 - val_accuracy: 0.8213 - lr: 0.0010 - 70s/epoch - 16ms/step
Epoch 20/75
4378/4378 - 69s - loss: 0.0241 - accuracy: 0.8321 - val_loss: 0.0332 - val_accuracy: 0.8173 - lr: 0.0010 - 69s/epoch - 16ms/step
Epoch 21/75
4378/4378 - 70s - loss: 0.0239 - accuracy: 0.8334 - val_loss: 0.0329 - val_accuracy: 0.8198 - lr: 0.0010 - 70s/epoch - 16ms/step
Epoch 22/75
4378/4378 - 70s - loss: 0.0240 - accuracy: 0.8323 - val_loss: 0.0326 - val_accuracy: 0.8222 - lr: 0.0010 - 70s/epoch - 16ms/step
Epoch 23/75
4378/4378 - 70s - loss: 0.0240 - accuracy: 0.8335 - val_loss: 0.0333 - val_accuracy: 0.8187 - lr: 0.0010 - 70s/epoch - 16ms/step
Epoch 24/75
4378/4378 - 69s - loss: 0.0240 - accuracy: 0.8331 - val_loss: 0.0322 - val_accuracy: 0.8219 - lr: 0.0010 - 69s/epoch - 16ms/step
Epoch 25/75
4378/4378 - 74s - loss: 0.0239 - accuracy: 0.8333 - val_loss: 0.0326 - val_accuracy: 0.8206 - lr: 0.0010 - 74s/epoch - 17ms/step
Epoch 26/75
4378/4378 - 79s - loss: 0.0240 - accuracy: 0.8328 - val_loss: 0.0327 - val_accuracy: 0.8212 - lr: 0.0010 - 79s/epoch - 18ms/step
Epoch 27/75
4378/4378 - 77s - loss: 0.0240 - accuracy: 0.8335 - val_loss: 0.0327 - val_accuracy: 0.8203 - lr: 0.0010 - 77s/epoch - 18ms/step
Epoch 28/75
4378/4378 - 78s - loss: 0.0239 - accuracy: 0.8347 - val_loss: 0.0328 - val_accuracy: 0.8172 - lr: 0.0010 - 78s/epoch - 18ms/step
Epoch 29/75
4378/4378 - 79s - loss: 0.0240 - accuracy: 0.8326 - val_loss: 0.0322 - val_accuracy: 0.8203 - lr: 0.0010 - 79s/epoch - 18ms/step
Epoch 30/75
4378/4378 - 78s - loss: 0.0240 - accuracy: 0.8328 - val_loss: 0.0318 - val_accuracy: 0.8259 - lr: 0.0010 - 78s/epoch - 18ms/step
Epoch 31/75
4378/4378 - 82s - loss: 0.0240 - accuracy: 0.8332 - val_loss: 0.0328 - val_accuracy: 0.8198 - lr: 0.0010 - 82s/epoch - 19ms/step
Epoch 32/75
4378/4378 - 76s - loss: 0.0240 - accuracy: 0.8327 - val_loss: 0.0336 - val_accuracy: 0.8134 - lr: 0.0010 - 76s/epoch - 17ms/step
Epoch 33/75
4378/4378 - 79s - loss: 0.0240 - accuracy: 0.8324 - val_loss: 0.0319 - val_accuracy: 0.8236 - lr: 0.0010 - 79s/epoch - 18ms/step
Epoch 34/75
4378/4378 - 78s - loss: 0.0239 - accuracy: 0.8338 - val_loss: 0.0322 - val_accuracy: 0.8202 - lr: 0.0010 - 78s/epoch - 18ms/step
Epoch 35/75
4378/4378 - 81s - loss: 0.0240 - accuracy: 0.8330 - val_loss: 0.0330 - val_accuracy: 0.8176 - lr: 0.0010 - 81s/epoch - 18ms/step
Epoch 36/75
4378/4378 - 79s - loss: 0.0239 - accuracy: 0.8332 - val_loss: 0.0326 - val_accuracy: 0.8207 - lr: 0.0010 - 79s/epoch - 18ms/step
Epoch 37/75
4378/4378 - 79s - loss: 0.0240 - accuracy: 0.8340 - val_loss: 0.0327 - val_accuracy: 0.8212 - lr: 0.0010 - 79s/epoch - 18ms/step
Epoch 38/75
4378/4378 - 78s - loss: 0.0240 - accuracy: 0.8328 - val_loss: 0.0328 - val_accuracy: 0.8194 - lr: 0.0010 - 78s/epoch - 18ms/step
Epoch 39/75
4378/4378 - 78s - loss: 0.0238 - accuracy: 0.8345 - val_loss: 0.0316 - val_accuracy: 0.8249 - lr: 0.0010 - 78s/epoch - 18ms/step
Epoch 40/75
4378/4378 - 77s - loss: 0.0239 - accuracy: 0.8345 - val_loss: 0.0337 - val_accuracy: 0.8142 - lr: 0.0010 - 77s/epoch - 18ms/step
Epoch 41/75
4378/4378 - 78s - loss: 0.0240 - accuracy: 0.8328 - val_loss: 0.0323 - val_accuracy: 0.8202 - lr: 0.0010 - 78s/epoch - 18ms/step
Epoch 42/75
4378/4378 - 78s - loss: 0.0239 - accuracy: 0.8355 - val_loss: 0.0325 - val_accuracy: 0.8206 - lr: 0.0010 - 78s/epoch - 18ms/step
Epoch 43/75
4378/4378 - 81s - loss: 0.0238 - accuracy: 0.8352 - val_loss: 0.0328 - val_accuracy: 0.8187 - lr: 0.0010 - 81s/epoch - 18ms/step
Epoch 44/75
4378/4378 - 79s - loss: 0.0239 - accuracy: 0.8345 - val_loss: 0.0322 - val_accuracy: 0.8202 - lr: 0.0010 - 79s/epoch - 18ms/step
Epoch 45/75
4378/4378 - 79s - loss: 0.0239 - accuracy: 0.8344 - val_loss: 0.0319 - val_accuracy: 0.8249 - lr: 0.0010 - 79s/epoch - 18ms/step
Epoch 46/75
4378/4378 - 78s - loss: 0.0238 - accuracy: 0.8354 - val_loss: 0.0323 - val_accuracy: 0.8212 - lr: 0.0010 - 78s/epoch - 18ms/step
Epoch 47/75
4378/4378 - 77s - loss: 0.0239 - accuracy: 0.8343 - val_loss: 0.0325 - val_accuracy: 0.8203 - lr: 0.0010 - 77s/epoch - 18ms/step
Epoch 48/75
4378/4378 - 78s - loss: 0.0237 - accuracy: 0.8361 - val_loss: 0.0325 - val_accuracy: 0.8203 - lr: 0.0010 - 78s/epoch - 18ms/step
Epoch 49/75
4378/4378 - 78s - loss: 0.0237 - accuracy: 0.8348 - val_loss: 0.0337 - val_accuracy: 0.8145 - lr: 0.0010 - 78s/epoch - 18ms/step
Epoch 50/75
4378/4378 - 78s - loss: 0.0239 - accuracy: 0.8335 - val_loss: 0.0323 - val_accuracy: 0.8228 - lr: 0.0010 - 78s/epoch - 18ms/step
Epoch 51/75
4378/4378 - 78s - loss: 0.0238 - accuracy: 0.8351 - val_loss: 0.0327 - val_accuracy: 0.8195 - lr: 0.0010 - 78s/epoch - 18ms/step
Epoch 52/75
4378/4378 - 80s - loss: 0.0239 - accuracy: 0.8345 - val_loss: 0.0326 - val_accuracy: 0.8199 - lr: 0.0010 - 80s/epoch - 18ms/step
Epoch 53/75
4378/4378 - 81s - loss: 0.0238 - accuracy: 0.8351 - val_loss: 0.0325 - val_accuracy: 0.8208 - lr: 0.0010 - 81s/epoch - 18ms/step
Epoch 54/75
4378/4378 - 85s - loss: 0.0238 - accuracy: 0.8350 - val_loss: 0.0327 - val_accuracy: 0.8192 - lr: 0.0010 - 85s/epoch - 19ms/step
Epoch 55/75
4378/4378 - 80s - loss: 0.0239 - accuracy: 0.8352 - val_loss: 0.0331 - val_accuracy: 0.8176 - lr: 0.0010 - 80s/epoch - 18ms/step
Epoch 56/75
4378/4378 - 82s - loss: 0.0238 - accuracy: 0.8343 - val_loss: 0.0330 - val_accuracy: 0.8168 - lr: 0.0010 - 82s/epoch - 19ms/step
Epoch 57/75
4378/4378 - 76s - loss: 0.0238 - accuracy: 0.8351 - val_loss: 0.0329 - val_accuracy: 0.8187 - lr: 0.0010 - 76s/epoch - 17ms/step
Epoch 58/75
4378/4378 - 71s - loss: 0.0238 - accuracy: 0.8352 - val_loss: 0.0324 - val_accuracy: 0.8223 - lr: 0.0010 - 71s/epoch - 16ms/step
Epoch 59/75
4378/4378 - 71s - loss: 0.0238 - accuracy: 0.8354 - val_loss: 0.0327 - val_accuracy: 0.8185 - lr: 0.0010 - 71s/epoch - 16ms/step
Epoch 60/75
4378/4378 - 70s - loss: 0.0237 - accuracy: 0.8365 - val_loss: 0.0331 - val_accuracy: 0.8181 - lr: 0.0010 - 70s/epoch - 16ms/step
Epoch 61/75
4378/4378 - 71s - loss: 0.0238 - accuracy: 0.8346 - val_loss: 0.0323 - val_accuracy: 0.8209 - lr: 0.0010 - 71s/epoch - 16ms/step
Epoch 62/75
4378/4378 - 71s - loss: 0.0238 - accuracy: 0.8342 - val_loss: 0.0321 - val_accuracy: 0.8220 - lr: 0.0010 - 71s/epoch - 16ms/step
Epoch 63/75
4378/4378 - 71s - loss: 0.0238 - accuracy: 0.8342 - val_loss: 0.0316 - val_accuracy: 0.8251 - lr: 0.0010 - 71s/epoch - 16ms/step
Epoch 64/75
4378/4378 - 71s - loss: 0.0238 - accuracy: 0.8357 - val_loss: 0.0313 - val_accuracy: 0.8258 - lr: 0.0010 - 71s/epoch - 16ms/step
Epoch 65/75
4378/4378 - 71s - loss: 0.0238 - accuracy: 0.8355 - val_loss: 0.0317 - val_accuracy: 0.8231 - lr: 0.0010 - 71s/epoch - 16ms/step
Epoch 66/75
4378/4378 - 70s - loss: 0.0237 - accuracy: 0.8356 - val_loss: 0.0315 - val_accuracy: 0.8239 - lr: 0.0010 - 70s/epoch - 16ms/step
Epoch 67/75
4378/4378 - 71s - loss: 0.0238 - accuracy: 0.8356 - val_loss: 0.0334 - val_accuracy: 0.8157 - lr: 0.0010 - 71s/epoch - 16ms/step
Epoch 68/75
4378/4378 - 70s - loss: 0.0237 - accuracy: 0.8365 - val_loss: 0.0324 - val_accuracy: 0.8208 - lr: 0.0010 - 70s/epoch - 16ms/step
Epoch 69/75
4378/4378 - 71s - loss: 0.0237 - accuracy: 0.8362 - val_loss: 0.0325 - val_accuracy: 0.8197 - lr: 0.0010 - 71s/epoch - 16ms/step
Epoch 70/75
4378/4378 - 70s - loss: 0.0237 - accuracy: 0.8357 - val_loss: 0.0324 - val_accuracy: 0.8184 - lr: 0.0010 - 70s/epoch - 16ms/step
Epoch 71/75
4378/4378 - 71s - loss: 0.0237 - accuracy: 0.8355 - val_loss: 0.0327 - val_accuracy: 0.8177 - lr: 0.0010 - 71s/epoch - 16ms/step
Epoch 72/75
4378/4378 - 71s - loss: 0.0237 - accuracy: 0.8356 - val_loss: 0.0320 - val_accuracy: 0.8224 - lr: 0.0010 - 71s/epoch - 16ms/step
Epoch 73/75
4378/4378 - 71s - loss: 0.0237 - accuracy: 0.8359 - val_loss: 0.0337 - val_accuracy: 0.8134 - lr: 0.0010 - 71s/epoch - 16ms/step
Epoch 74/75
4378/4378 - 71s - loss: 0.0237 - accuracy: 0.8365 - val_loss: 0.0324 - val_accuracy: 0.8200 - lr: 0.0010 - 71s/epoch - 16ms/step
Epoch 75/75
4378/4378 - 71s - loss: 0.0237 - accuracy: 0.8359 - val_loss: 0.0332 - val_accuracy: 0.8133 - lr: 0.0010 - 71s/epoch - 16ms/step
fitting with batch size: 100
Epoch 1/75
876/876 - 25s - loss: 0.0234 - accuracy: 0.8387 - val_loss: 0.0326 - val_accuracy: 0.8193 - lr: 0.0010 - 25s/epoch - 29ms/step
Epoch 2/75
876/876 - 17s - loss: 0.0233 - accuracy: 0.8397 - val_loss: 0.0327 - val_accuracy: 0.8180 - lr: 0.0010 - 17s/epoch - 19ms/step
Epoch 3/75
876/876 - 17s - loss: 0.0232 - accuracy: 0.8395 - val_loss: 0.0328 - val_accuracy: 0.8172 - lr: 0.0010 - 17s/epoch - 19ms/step
Epoch 4/75
876/876 - 17s - loss: 0.0232 - accuracy: 0.8401 - val_loss: 0.0326 - val_accuracy: 0.8186 - lr: 0.0010 - 17s/epoch - 19ms/step
Epoch 5/75
876/876 - 16s - loss: 0.0232 - accuracy: 0.8401 - val_loss: 0.0327 - val_accuracy: 0.8171 - lr: 0.0010 - 16s/epoch - 19ms/step
Epoch 6/75
876/876 - 16s - loss: 0.0233 - accuracy: 0.8400 - val_loss: 0.0327 - val_accuracy: 0.8172 - lr: 0.0010 - 16s/epoch - 19ms/step
Epoch 7/75
876/876 - 16s - loss: 0.0233 - accuracy: 0.8393 - val_loss: 0.0325 - val_accuracy: 0.8179 - lr: 0.0010 - 16s/epoch - 19ms/step
Epoch 8/75
876/876 - 16s - loss: 0.0233 - accuracy: 0.8400 - val_loss: 0.0327 - val_accuracy: 0.8176 - lr: 0.0010 - 16s/epoch - 19ms/step
Epoch 9/75
876/876 - 16s - loss: 0.0232 - accuracy: 0.8403 - val_loss: 0.0326 - val_accuracy: 0.8186 - lr: 0.0010 - 16s/epoch - 19ms/step
Epoch 10/75
876/876 - 16s - loss: 0.0234 - accuracy: 0.8395 - val_loss: 0.0325 - val_accuracy: 0.8194 - lr: 0.0010 - 16s/epoch - 19ms/step
Epoch 11/75
876/876 - 16s - loss: 0.0231 - accuracy: 0.8418 - val_loss: 0.0328 - val_accuracy: 0.8170 - lr: 0.0010 - 16s/epoch - 19ms/step
Epoch 12/75
876/876 - 17s - loss: 0.0232 - accuracy: 0.8397 - val_loss: 0.0323 - val_accuracy: 0.8199 - lr: 0.0010 - 17s/epoch - 19ms/step
Epoch 13/75
876/876 - 16s - loss: 0.0233 - accuracy: 0.8396 - val_loss: 0.0325 - val_accuracy: 0.8188 - lr: 0.0010 - 16s/epoch - 19ms/step
Epoch 14/75
876/876 - 17s - loss: 0.0233 - accuracy: 0.8391 - val_loss: 0.0325 - val_accuracy: 0.8185 - lr: 0.0010 - 17s/epoch - 19ms/step
Epoch 15/75
876/876 - 16s - loss: 0.0232 - accuracy: 0.8399 - val_loss: 0.0327 - val_accuracy: 0.8185 - lr: 0.0010 - 16s/epoch - 19ms/step
Epoch 16/75
876/876 - 16s - loss: 0.0232 - accuracy: 0.8397 - val_loss: 0.0327 - val_accuracy: 0.8177 - lr: 0.0010 - 16s/epoch - 19ms/step
Epoch 17/75
876/876 - 16s - loss: 0.0232 - accuracy: 0.8407 - val_loss: 0.0327 - val_accuracy: 0.8172 - lr: 0.0010 - 16s/epoch - 19ms/step
Epoch 18/75
876/876 - 16s - loss: 0.0232 - accuracy: 0.8395 - val_loss: 0.0329 - val_accuracy: 0.8176 - lr: 0.0010 - 16s/epoch - 19ms/step
Epoch 19/75
876/876 - 16s - loss: 0.0233 - accuracy: 0.8396 - val_loss: 0.0326 - val_accuracy: 0.8184 - lr: 0.0010 - 16s/epoch - 19ms/step
Epoch 20/75
876/876 - 16s - loss: 0.0233 - accuracy: 0.8394 - val_loss: 0.0325 - val_accuracy: 0.8187 - lr: 0.0010 - 16s/epoch - 19ms/step
Epoch 21/75
876/876 - 16s - loss: 0.0233 - accuracy: 0.8393 - val_loss: 0.0327 - val_accuracy: 0.8168 - lr: 0.0010 - 16s/epoch - 19ms/step
Epoch 22/75
876/876 - 16s - loss: 0.0232 - accuracy: 0.8402 - val_loss: 0.0323 - val_accuracy: 0.8208 - lr: 0.0010 - 16s/epoch - 19ms/step
Epoch 23/75
876/876 - 16s - loss: 0.0232 - accuracy: 0.8407 - val_loss: 0.0326 - val_accuracy: 0.8177 - lr: 0.0010 - 16s/epoch - 19ms/step
Epoch 24/75
876/876 - 16s - loss: 0.0233 - accuracy: 0.8392 - val_loss: 0.0331 - val_accuracy: 0.8158 - lr: 0.0010 - 16s/epoch - 19ms/step
Epoch 25/75
876/876 - 16s - loss: 0.0232 - accuracy: 0.8391 - val_loss: 0.0325 - val_accuracy: 0.8188 - lr: 0.0010 - 16s/epoch - 19ms/step
Epoch 26/75
876/876 - 16s - loss: 0.0233 - accuracy: 0.8393 - val_loss: 0.0326 - val_accuracy: 0.8187 - lr: 0.0010 - 16s/epoch - 19ms/step
Epoch 27/75
876/876 - 16s - loss: 0.0232 - accuracy: 0.8398 - val_loss: 0.0326 - val_accuracy: 0.8185 - lr: 0.0010 - 16s/epoch - 19ms/step
Epoch 28/75
876/876 - 16s - loss: 0.0233 - accuracy: 0.8400 - val_loss: 0.0328 - val_accuracy: 0.8174 - lr: 0.0010 - 16s/epoch - 19ms/step
Epoch 29/75
876/876 - 16s - loss: 0.0232 - accuracy: 0.8411 - val_loss: 0.0323 - val_accuracy: 0.8208 - lr: 0.0010 - 16s/epoch - 19ms/step
Epoch 30/75
876/876 - 16s - loss: 0.0232 - accuracy: 0.8400 - val_loss: 0.0329 - val_accuracy: 0.8163 - lr: 0.0010 - 16s/epoch - 19ms/step
Epoch 31/75
876/876 - 16s - loss: 0.0232 - accuracy: 0.8408 - val_loss: 0.0326 - val_accuracy: 0.8182 - lr: 0.0010 - 16s/epoch - 19ms/step
Epoch 32/75
876/876 - 16s - loss: 0.0233 - accuracy: 0.8392 - val_loss: 0.0325 - val_accuracy: 0.8187 - lr: 0.0010 - 16s/epoch - 19ms/step
Epoch 33/75
876/876 - 16s - loss: 0.0232 - accuracy: 0.8407 - val_loss: 0.0328 - val_accuracy: 0.8173 - lr: 0.0010 - 16s/epoch - 19ms/step
Epoch 34/75
876/876 - 16s - loss: 0.0233 - accuracy: 0.8397 - val_loss: 0.0327 - val_accuracy: 0.8172 - lr: 0.0010 - 16s/epoch - 19ms/step
Epoch 35/75
876/876 - 16s - loss: 0.0233 - accuracy: 0.8398 - val_loss: 0.0326 - val_accuracy: 0.8171 - lr: 0.0010 - 16s/epoch - 19ms/step
Epoch 36/75
876/876 - 16s - loss: 0.0232 - accuracy: 0.8401 - val_loss: 0.0325 - val_accuracy: 0.8188 - lr: 0.0010 - 16s/epoch - 19ms/step
Epoch 37/75
876/876 - 16s - loss: 0.0233 - accuracy: 0.8402 - val_loss: 0.0327 - val_accuracy: 0.8179 - lr: 0.0010 - 16s/epoch - 19ms/step
Epoch 38/75
876/876 - 16s - loss: 0.0232 - accuracy: 0.8404 - val_loss: 0.0325 - val_accuracy: 0.8184 - lr: 0.0010 - 16s/epoch - 19ms/step
Epoch 39/75
876/876 - 16s - loss: 0.0232 - accuracy: 0.8403 - val_loss: 0.0327 - val_accuracy: 0.8170 - lr: 0.0010 - 16s/epoch - 19ms/step
Epoch 40/75
876/876 - 16s - loss: 0.0232 - accuracy: 0.8405 - val_loss: 0.0324 - val_accuracy: 0.8186 - lr: 0.0010 - 16s/epoch - 19ms/step
Epoch 41/75
876/876 - 16s - loss: 0.0232 - accuracy: 0.8411 - val_loss: 0.0325 - val_accuracy: 0.8184 - lr: 0.0010 - 16s/epoch - 19ms/step
Epoch 42/75
876/876 - 16s - loss: 0.0232 - accuracy: 0.8397 - val_loss: 0.0325 - val_accuracy: 0.8184 - lr: 0.0010 - 16s/epoch - 19ms/step
Epoch 43/75
876/876 - 16s - loss: 0.0233 - accuracy: 0.8399 - val_loss: 0.0328 - val_accuracy: 0.8168 - lr: 0.0010 - 16s/epoch - 19ms/step
Epoch 44/75
876/876 - 17s - loss: 0.0233 - accuracy: 0.8394 - val_loss: 0.0329 - val_accuracy: 0.8167 - lr: 0.0010 - 17s/epoch - 19ms/step
Epoch 45/75
876/876 - 16s - loss: 0.0232 - accuracy: 0.8401 - val_loss: 0.0328 - val_accuracy: 0.8175 - lr: 0.0010 - 16s/epoch - 19ms/step
Epoch 46/75
876/876 - 16s - loss: 0.0232 - accuracy: 0.8396 - val_loss: 0.0328 - val_accuracy: 0.8174 - lr: 0.0010 - 16s/epoch - 19ms/step
Epoch 47/75
876/876 - 16s - loss: 0.0232 - accuracy: 0.8405 - val_loss: 0.0326 - val_accuracy: 0.8177 - lr: 0.0010 - 16s/epoch - 19ms/step
Epoch 48/75
876/876 - 16s - loss: 0.0231 - accuracy: 0.8405 - val_loss: 0.0326 - val_accuracy: 0.8184 - lr: 0.0010 - 16s/epoch - 19ms/step
Epoch 49/75
876/876 - 16s - loss: 0.0232 - accuracy: 0.8407 - val_loss: 0.0326 - val_accuracy: 0.8181 - lr: 0.0010 - 16s/epoch - 19ms/step
Epoch 50/75
876/876 - 16s - loss: 0.0232 - accuracy: 0.8412 - val_loss: 0.0326 - val_accuracy: 0.8187 - lr: 0.0010 - 16s/epoch - 19ms/step
Epoch 51/75
876/876 - 16s - loss: 0.0231 - accuracy: 0.8412 - val_loss: 0.0326 - val_accuracy: 0.8182 - lr: 0.0010 - 16s/epoch - 19ms/step
Epoch 52/75
876/876 - 17s - loss: 0.0232 - accuracy: 0.8401 - val_loss: 0.0324 - val_accuracy: 0.8196 - lr: 0.0010 - 17s/epoch - 19ms/step
Epoch 53/75
876/876 - 16s - loss: 0.0232 - accuracy: 0.8405 - val_loss: 0.0326 - val_accuracy: 0.8191 - lr: 0.0010 - 16s/epoch - 19ms/step
Epoch 54/75
876/876 - 16s - loss: 0.0231 - accuracy: 0.8411 - val_loss: 0.0327 - val_accuracy: 0.8174 - lr: 0.0010 - 16s/epoch - 19ms/step
Epoch 55/75
876/876 - 17s - loss: 0.0231 - accuracy: 0.8409 - val_loss: 0.0323 - val_accuracy: 0.8195 - lr: 0.0010 - 17s/epoch - 19ms/step
Epoch 56/75
876/876 - 16s - loss: 0.0232 - accuracy: 0.8399 - val_loss: 0.0327 - val_accuracy: 0.8183 - lr: 0.0010 - 16s/epoch - 19ms/step
Epoch 57/75
876/876 - 16s - loss: 0.0231 - accuracy: 0.8411 - val_loss: 0.0328 - val_accuracy: 0.8174 - lr: 0.0010 - 16s/epoch - 19ms/step
Epoch 58/75
876/876 - 16s - loss: 0.0232 - accuracy: 0.8400 - val_loss: 0.0326 - val_accuracy: 0.8188 - lr: 0.0010 - 16s/epoch - 19ms/step
Epoch 59/75
876/876 - 16s - loss: 0.0232 - accuracy: 0.8406 - val_loss: 0.0324 - val_accuracy: 0.8185 - lr: 0.0010 - 16s/epoch - 19ms/step
Epoch 60/75
876/876 - 16s - loss: 0.0232 - accuracy: 0.8402 - val_loss: 0.0330 - val_accuracy: 0.8161 - lr: 0.0010 - 16s/epoch - 19ms/step
Epoch 61/75
876/876 - 16s - loss: 0.0232 - accuracy: 0.8404 - val_loss: 0.0325 - val_accuracy: 0.8178 - lr: 0.0010 - 16s/epoch - 19ms/step
Epoch 62/75
876/876 - 16s - loss: 0.0232 - accuracy: 0.8399 - val_loss: 0.0327 - val_accuracy: 0.8166 - lr: 0.0010 - 16s/epoch - 19ms/step
Epoch 63/75
876/876 - 16s - loss: 0.0233 - accuracy: 0.8391 - val_loss: 0.0325 - val_accuracy: 0.8187 - lr: 0.0010 - 16s/epoch - 19ms/step
Epoch 64/75
876/876 - 16s - loss: 0.0232 - accuracy: 0.8392 - val_loss: 0.0324 - val_accuracy: 0.8188 - lr: 0.0010 - 16s/epoch - 19ms/step
Epoch 65/75
876/876 - 17s - loss: 0.0231 - accuracy: 0.8419 - val_loss: 0.0326 - val_accuracy: 0.8175 - lr: 0.0010 - 17s/epoch - 19ms/step
Epoch 66/75
876/876 - 16s - loss: 0.0231 - accuracy: 0.8413 - val_loss: 0.0327 - val_accuracy: 0.8165 - lr: 0.0010 - 16s/epoch - 19ms/step
Epoch 67/75
876/876 - 16s - loss: 0.0232 - accuracy: 0.8404 - val_loss: 0.0327 - val_accuracy: 0.8174 - lr: 0.0010 - 16s/epoch - 19ms/step
Epoch 68/75
876/876 - 16s - loss: 0.0231 - accuracy: 0.8408 - val_loss: 0.0326 - val_accuracy: 0.8179 - lr: 0.0010 - 16s/epoch - 19ms/step
Epoch 69/75
876/876 - 17s - loss: 0.0232 - accuracy: 0.8398 - val_loss: 0.0326 - val_accuracy: 0.8181 - lr: 0.0010 - 17s/epoch - 19ms/step
Epoch 70/75
876/876 - 16s - loss: 0.0233 - accuracy: 0.8398 - val_loss: 0.0324 - val_accuracy: 0.8184 - lr: 0.0010 - 16s/epoch - 19ms/step
Epoch 71/75
876/876 - 16s - loss: 0.0231 - accuracy: 0.8413 - val_loss: 0.0326 - val_accuracy: 0.8186 - lr: 0.0010 - 16s/epoch - 19ms/step
Epoch 72/75
876/876 - 16s - loss: 0.0232 - accuracy: 0.8403 - val_loss: 0.0323 - val_accuracy: 0.8193 - lr: 0.0010 - 16s/epoch - 19ms/step
Epoch 73/75
876/876 - 16s - loss: 0.0232 - accuracy: 0.8403 - val_loss: 0.0327 - val_accuracy: 0.8176 - lr: 0.0010 - 16s/epoch - 19ms/step
Epoch 74/75
876/876 - 16s - loss: 0.0231 - accuracy: 0.8412 - val_loss: 0.0327 - val_accuracy: 0.8181 - lr: 0.0010 - 16s/epoch - 19ms/step
Epoch 75/75
876/876 - 16s - loss: 0.0231 - accuracy: 0.8412 - val_loss: 0.0329 - val_accuracy: 0.8161 - lr: 0.0010 - 16s/epoch - 19ms/step
fitting with batch size: 500
Epoch 1/75
176/176 - 11s - loss: 0.0231 - accuracy: 0.8415 - val_loss: 0.0327 - val_accuracy: 0.8166 - lr: 0.0010 - 11s/epoch - 60ms/step
Epoch 2/75
176/176 - 8s - loss: 0.0231 - accuracy: 0.8408 - val_loss: 0.0328 - val_accuracy: 0.8161 - lr: 0.0010 - 8s/epoch - 48ms/step
Epoch 3/75
176/176 - 8s - loss: 0.0230 - accuracy: 0.8415 - val_loss: 0.0328 - val_accuracy: 0.8162 - lr: 0.0010 - 8s/epoch - 48ms/step
Epoch 4/75
176/176 - 8s - loss: 0.0231 - accuracy: 0.8410 - val_loss: 0.0326 - val_accuracy: 0.8182 - lr: 0.0010 - 8s/epoch - 48ms/step
Epoch 5/75
176/176 - 8s - loss: 0.0231 - accuracy: 0.8413 - val_loss: 0.0325 - val_accuracy: 0.8190 - lr: 0.0010 - 8s/epoch - 48ms/step
Epoch 6/75
176/176 - 8s - loss: 0.0231 - accuracy: 0.8407 - val_loss: 0.0325 - val_accuracy: 0.8190 - lr: 0.0010 - 8s/epoch - 48ms/step
Epoch 7/75
176/176 - 8s - loss: 0.0230 - accuracy: 0.8417 - val_loss: 0.0326 - val_accuracy: 0.8182 - lr: 0.0010 - 8s/epoch - 48ms/step
Epoch 8/75
176/176 - 8s - loss: 0.0231 - accuracy: 0.8411 - val_loss: 0.0326 - val_accuracy: 0.8177 - lr: 0.0010 - 8s/epoch - 48ms/step
Epoch 9/75
176/176 - 8s - loss: 0.0231 - accuracy: 0.8415 - val_loss: 0.0326 - val_accuracy: 0.8179 - lr: 0.0010 - 8s/epoch - 48ms/step
Epoch 10/75
176/176 - 8s - loss: 0.0231 - accuracy: 0.8424 - val_loss: 0.0326 - val_accuracy: 0.8170 - lr: 0.0010 - 8s/epoch - 48ms/step
Epoch 11/75
176/176 - 8s - loss: 0.0231 - accuracy: 0.8410 - val_loss: 0.0326 - val_accuracy: 0.8177 - lr: 0.0010 - 8s/epoch - 48ms/step
Epoch 12/75
176/176 - 8s - loss: 0.0231 - accuracy: 0.8414 - val_loss: 0.0328 - val_accuracy: 0.8167 - lr: 0.0010 - 8s/epoch - 48ms/step
Epoch 13/75
176/176 - 8s - loss: 0.0231 - accuracy: 0.8422 - val_loss: 0.0327 - val_accuracy: 0.8167 - lr: 0.0010 - 8s/epoch - 48ms/step
Epoch 14/75
176/176 - 8s - loss: 0.0230 - accuracy: 0.8426 - val_loss: 0.0326 - val_accuracy: 0.8176 - lr: 0.0010 - 8s/epoch - 48ms/step
Epoch 15/75
176/176 - 8s - loss: 0.0230 - accuracy: 0.8416 - val_loss: 0.0326 - val_accuracy: 0.8177 - lr: 0.0010 - 8s/epoch - 48ms/step
Epoch 16/75
176/176 - 8s - loss: 0.0231 - accuracy: 0.8410 - val_loss: 0.0327 - val_accuracy: 0.8171 - lr: 0.0010 - 8s/epoch - 48ms/step
Epoch 17/75
176/176 - 8s - loss: 0.0231 - accuracy: 0.8408 - val_loss: 0.0326 - val_accuracy: 0.8176 - lr: 0.0010 - 8s/epoch - 48ms/step
Epoch 18/75
176/176 - 8s - loss: 0.0232 - accuracy: 0.8399 - val_loss: 0.0326 - val_accuracy: 0.8180 - lr: 0.0010 - 8s/epoch - 48ms/step
Epoch 19/75
176/176 - 8s - loss: 0.0230 - accuracy: 0.8416 - val_loss: 0.0326 - val_accuracy: 0.8177 - lr: 0.0010 - 8s/epoch - 48ms/step
Epoch 20/75
176/176 - 8s - loss: 0.0230 - accuracy: 0.8419 - val_loss: 0.0326 - val_accuracy: 0.8177 - lr: 0.0010 - 8s/epoch - 48ms/step
Epoch 21/75
176/176 - 8s - loss: 0.0231 - accuracy: 0.8403 - val_loss: 0.0328 - val_accuracy: 0.8170 - lr: 0.0010 - 8s/epoch - 48ms/step
Epoch 22/75
176/176 - 8s - loss: 0.0231 - accuracy: 0.8415 - val_loss: 0.0325 - val_accuracy: 0.8187 - lr: 0.0010 - 8s/epoch - 48ms/step
Epoch 23/75
176/176 - 8s - loss: 0.0230 - accuracy: 0.8415 - val_loss: 0.0327 - val_accuracy: 0.8173 - lr: 0.0010 - 8s/epoch - 48ms/step
Epoch 24/75
176/176 - 8s - loss: 0.0230 - accuracy: 0.8411 - val_loss: 0.0326 - val_accuracy: 0.8180 - lr: 0.0010 - 8s/epoch - 48ms/step
Epoch 25/75
176/176 - 8s - loss: 0.0231 - accuracy: 0.8419 - val_loss: 0.0325 - val_accuracy: 0.8182 - lr: 0.0010 - 8s/epoch - 48ms/step
Epoch 26/75
176/176 - 8s - loss: 0.0230 - accuracy: 0.8413 - val_loss: 0.0327 - val_accuracy: 0.8172 - lr: 0.0010 - 8s/epoch - 48ms/step
Epoch 27/75
176/176 - 8s - loss: 0.0231 - accuracy: 0.8403 - val_loss: 0.0326 - val_accuracy: 0.8173 - lr: 0.0010 - 8s/epoch - 48ms/step
Epoch 28/75
176/176 - 8s - loss: 0.0231 - accuracy: 0.8401 - val_loss: 0.0328 - val_accuracy: 0.8168 - lr: 0.0010 - 8s/epoch - 48ms/step
Epoch 29/75
176/176 - 8s - loss: 0.0231 - accuracy: 0.8405 - val_loss: 0.0327 - val_accuracy: 0.8174 - lr: 0.0010 - 8s/epoch - 48ms/step
Epoch 30/75
176/176 - 8s - loss: 0.0230 - accuracy: 0.8412 - val_loss: 0.0326 - val_accuracy: 0.8177 - lr: 0.0010 - 8s/epoch - 48ms/step
Epoch 31/75
176/176 - 8s - loss: 0.0231 - accuracy: 0.8405 - val_loss: 0.0325 - val_accuracy: 0.8183 - lr: 0.0010 - 8s/epoch - 48ms/step
Epoch 32/75
176/176 - 8s - loss: 0.0231 - accuracy: 0.8410 - val_loss: 0.0327 - val_accuracy: 0.8170 - lr: 0.0010 - 8s/epoch - 48ms/step
Epoch 33/75
176/176 - 8s - loss: 0.0230 - accuracy: 0.8416 - val_loss: 0.0328 - val_accuracy: 0.8166 - lr: 0.0010 - 8s/epoch - 48ms/step
Epoch 34/75
176/176 - 8s - loss: 0.0230 - accuracy: 0.8417 - val_loss: 0.0326 - val_accuracy: 0.8176 - lr: 0.0010 - 8s/epoch - 48ms/step
Epoch 35/75
176/176 - 8s - loss: 0.0231 - accuracy: 0.8414 - val_loss: 0.0325 - val_accuracy: 0.8182 - lr: 0.0010 - 8s/epoch - 48ms/step
Epoch 36/75
176/176 - 8s - loss: 0.0231 - accuracy: 0.8414 - val_loss: 0.0324 - val_accuracy: 0.8193 - lr: 0.0010 - 8s/epoch - 48ms/step
Epoch 37/75
176/176 - 8s - loss: 0.0231 - accuracy: 0.8405 - val_loss: 0.0325 - val_accuracy: 0.8186 - lr: 0.0010 - 8s/epoch - 48ms/step
Epoch 38/75
176/176 - 8s - loss: 0.0230 - accuracy: 0.8415 - val_loss: 0.0326 - val_accuracy: 0.8179 - lr: 0.0010 - 8s/epoch - 48ms/step
Epoch 39/75
176/176 - 8s - loss: 0.0231 - accuracy: 0.8410 - val_loss: 0.0327 - val_accuracy: 0.8172 - lr: 0.0010 - 8s/epoch - 48ms/step
Epoch 40/75
176/176 - 8s - loss: 0.0231 - accuracy: 0.8410 - val_loss: 0.0326 - val_accuracy: 0.8173 - lr: 0.0010 - 8s/epoch - 48ms/step
Epoch 41/75
176/176 - 8s - loss: 0.0231 - accuracy: 0.8417 - val_loss: 0.0326 - val_accuracy: 0.8178 - lr: 0.0010 - 8s/epoch - 48ms/step
Epoch 42/75
176/176 - 8s - loss: 0.0231 - accuracy: 0.8410 - val_loss: 0.0326 - val_accuracy: 0.8176 - lr: 0.0010 - 8s/epoch - 48ms/step
Epoch 43/75
176/176 - 8s - loss: 0.0229 - accuracy: 0.8428 - val_loss: 0.0325 - val_accuracy: 0.8184 - lr: 0.0010 - 8s/epoch - 48ms/step
Epoch 44/75
176/176 - 8s - loss: 0.0231 - accuracy: 0.8409 - val_loss: 0.0326 - val_accuracy: 0.8183 - lr: 0.0010 - 8s/epoch - 48ms/step
Epoch 45/75
176/176 - 8s - loss: 0.0231 - accuracy: 0.8408 - val_loss: 0.0325 - val_accuracy: 0.8188 - lr: 0.0010 - 8s/epoch - 48ms/step
Epoch 46/75
176/176 - 8s - loss: 0.0230 - accuracy: 0.8413 - val_loss: 0.0326 - val_accuracy: 0.8185 - lr: 0.0010 - 8s/epoch - 48ms/step
Epoch 47/75
176/176 - 8s - loss: 0.0231 - accuracy: 0.8410 - val_loss: 0.0327 - val_accuracy: 0.8170 - lr: 0.0010 - 8s/epoch - 48ms/step
Epoch 48/75
176/176 - 8s - loss: 0.0230 - accuracy: 0.8421 - val_loss: 0.0326 - val_accuracy: 0.8176 - lr: 0.0010 - 8s/epoch - 48ms/step
Epoch 49/75
176/176 - 8s - loss: 0.0231 - accuracy: 0.8415 - val_loss: 0.0326 - val_accuracy: 0.8176 - lr: 0.0010 - 8s/epoch - 48ms/step
Epoch 50/75
176/176 - 8s - loss: 0.0230 - accuracy: 0.8415 - val_loss: 0.0325 - val_accuracy: 0.8181 - lr: 0.0010 - 8s/epoch - 48ms/step
Epoch 51/75
176/176 - 8s - loss: 0.0231 - accuracy: 0.8415 - val_loss: 0.0325 - val_accuracy: 0.8180 - lr: 0.0010 - 8s/epoch - 48ms/step
Epoch 52/75
176/176 - 8s - loss: 0.0231 - accuracy: 0.8407 - val_loss: 0.0327 - val_accuracy: 0.8167 - lr: 0.0010 - 8s/epoch - 48ms/step
Epoch 53/75
176/176 - 8s - loss: 0.0230 - accuracy: 0.8417 - val_loss: 0.0327 - val_accuracy: 0.8169 - lr: 0.0010 - 8s/epoch - 48ms/step
Epoch 54/75
176/176 - 8s - loss: 0.0231 - accuracy: 0.8407 - val_loss: 0.0327 - val_accuracy: 0.8173 - lr: 0.0010 - 8s/epoch - 48ms/step
Epoch 55/75
176/176 - 8s - loss: 0.0230 - accuracy: 0.8414 - val_loss: 0.0326 - val_accuracy: 0.8182 - lr: 0.0010 - 8s/epoch - 48ms/step
Epoch 56/75
176/176 - 8s - loss: 0.0231 - accuracy: 0.8413 - val_loss: 0.0325 - val_accuracy: 0.8182 - lr: 0.0010 - 8s/epoch - 48ms/step
Epoch 57/75
176/176 - 8s - loss: 0.0232 - accuracy: 0.8406 - val_loss: 0.0327 - val_accuracy: 0.8168 - lr: 0.0010 - 8s/epoch - 48ms/step
Epoch 58/75
176/176 - 8s - loss: 0.0230 - accuracy: 0.8416 - val_loss: 0.0326 - val_accuracy: 0.8178 - lr: 0.0010 - 8s/epoch - 48ms/step
Epoch 59/75
176/176 - 8s - loss: 0.0231 - accuracy: 0.8408 - val_loss: 0.0325 - val_accuracy: 0.8183 - lr: 0.0010 - 8s/epoch - 48ms/step
Epoch 60/75
176/176 - 8s - loss: 0.0230 - accuracy: 0.8412 - val_loss: 0.0326 - val_accuracy: 0.8178 - lr: 0.0010 - 8s/epoch - 48ms/step
Epoch 61/75
176/176 - 8s - loss: 0.0231 - accuracy: 0.8420 - val_loss: 0.0325 - val_accuracy: 0.8187 - lr: 0.0010 - 8s/epoch - 48ms/step
Epoch 62/75
176/176 - 8s - loss: 0.0231 - accuracy: 0.8412 - val_loss: 0.0326 - val_accuracy: 0.8171 - lr: 0.0010 - 8s/epoch - 48ms/step
Epoch 63/75
176/176 - 8s - loss: 0.0231 - accuracy: 0.8405 - val_loss: 0.0327 - val_accuracy: 0.8167 - lr: 0.0010 - 8s/epoch - 48ms/step
Epoch 64/75
176/176 - 8s - loss: 0.0231 - accuracy: 0.8413 - val_loss: 0.0327 - val_accuracy: 0.8172 - lr: 0.0010 - 8s/epoch - 48ms/step
Epoch 65/75
176/176 - 8s - loss: 0.0230 - accuracy: 0.8423 - val_loss: 0.0324 - val_accuracy: 0.8182 - lr: 0.0010 - 8s/epoch - 48ms/step
Epoch 66/75
176/176 - 8s - loss: 0.0231 - accuracy: 0.8407 - val_loss: 0.0325 - val_accuracy: 0.8183 - lr: 0.0010 - 8s/epoch - 48ms/step
Epoch 67/75
176/176 - 8s - loss: 0.0230 - accuracy: 0.8426 - val_loss: 0.0326 - val_accuracy: 0.8172 - lr: 0.0010 - 8s/epoch - 48ms/step
Epoch 68/75
176/176 - 8s - loss: 0.0230 - accuracy: 0.8416 - val_loss: 0.0326 - val_accuracy: 0.8177 - lr: 0.0010 - 8s/epoch - 48ms/step
Epoch 69/75
176/176 - 8s - loss: 0.0230 - accuracy: 0.8413 - val_loss: 0.0326 - val_accuracy: 0.8183 - lr: 0.0010 - 8s/epoch - 48ms/step
Epoch 70/75
176/176 - 8s - loss: 0.0230 - accuracy: 0.8422 - val_loss: 0.0326 - val_accuracy: 0.8177 - lr: 0.0010 - 8s/epoch - 48ms/step
Epoch 71/75
176/176 - 8s - loss: 0.0230 - accuracy: 0.8416 - val_loss: 0.0325 - val_accuracy: 0.8175 - lr: 0.0010 - 8s/epoch - 48ms/step
Epoch 72/75
176/176 - 8s - loss: 0.0231 - accuracy: 0.8418 - val_loss: 0.0325 - val_accuracy: 0.8186 - lr: 0.0010 - 8s/epoch - 48ms/step
Epoch 73/75
176/176 - 8s - loss: 0.0232 - accuracy: 0.8409 - val_loss: 0.0326 - val_accuracy: 0.8182 - lr: 0.0010 - 8s/epoch - 48ms/step
Epoch 74/75
176/176 - 8s - loss: 0.0230 - accuracy: 0.8404 - val_loss: 0.0325 - val_accuracy: 0.8181 - lr: 0.0010 - 8s/epoch - 48ms/step
Epoch 75/75
176/176 - 8s - loss: 0.0231 - accuracy: 0.8412 - val_loss: 0.0326 - val_accuracy: 0.8178 - lr: 0.0010 - 8s/epoch - 48ms/step
fitting with batch size: 1500
Epoch 1/75
59/59 - 10s - loss: 0.0231 - accuracy: 0.8411 - val_loss: 0.0326 - val_accuracy: 0.8177 - lr: 0.0010 - 10s/epoch - 162ms/step
Epoch 2/75
59/59 - 7s - loss: 0.0230 - accuracy: 0.8428 - val_loss: 0.0326 - val_accuracy: 0.8176 - lr: 0.0010 - 7s/epoch - 127ms/step
Epoch 3/75
59/59 - 7s - loss: 0.0230 - accuracy: 0.8413 - val_loss: 0.0326 - val_accuracy: 0.8180 - lr: 0.0010 - 7s/epoch - 127ms/step
Epoch 4/75
59/59 - 7s - loss: 0.0231 - accuracy: 0.8402 - val_loss: 0.0326 - val_accuracy: 0.8177 - lr: 0.0010 - 7s/epoch - 127ms/step
Epoch 5/75
59/59 - 7s - loss: 0.0230 - accuracy: 0.8421 - val_loss: 0.0325 - val_accuracy: 0.8179 - lr: 0.0010 - 7s/epoch - 127ms/step
Epoch 6/75
59/59 - 7s - loss: 0.0231 - accuracy: 0.8404 - val_loss: 0.0326 - val_accuracy: 0.8179 - lr: 0.0010 - 7s/epoch - 127ms/step
Epoch 7/75
59/59 - 7s - loss: 0.0231 - accuracy: 0.8416 - val_loss: 0.0326 - val_accuracy: 0.8173 - lr: 0.0010 - 7s/epoch - 127ms/step
Epoch 8/75
59/59 - 7s - loss: 0.0230 - accuracy: 0.8421 - val_loss: 0.0326 - val_accuracy: 0.8173 - lr: 0.0010 - 7s/epoch - 127ms/step
Epoch 9/75
59/59 - 7s - loss: 0.0230 - accuracy: 0.8415 - val_loss: 0.0326 - val_accuracy: 0.8176 - lr: 0.0010 - 7s/epoch - 127ms/step
Epoch 10/75
59/59 - 7s - loss: 0.0231 - accuracy: 0.8405 - val_loss: 0.0326 - val_accuracy: 0.8179 - lr: 0.0010 - 7s/epoch - 127ms/step
Epoch 11/75
59/59 - 7s - loss: 0.0231 - accuracy: 0.8416 - val_loss: 0.0326 - val_accuracy: 0.8176 - lr: 0.0010 - 7s/epoch - 127ms/step
Epoch 12/75
59/59 - 7s - loss: 0.0230 - accuracy: 0.8413 - val_loss: 0.0326 - val_accuracy: 0.8172 - lr: 0.0010 - 7s/epoch - 127ms/step
Epoch 13/75
59/59 - 7s - loss: 0.0230 - accuracy: 0.8419 - val_loss: 0.0326 - val_accuracy: 0.8174 - lr: 0.0010 - 7s/epoch - 127ms/step
Epoch 14/75
59/59 - 7s - loss: 0.0230 - accuracy: 0.8414 - val_loss: 0.0326 - val_accuracy: 0.8177 - lr: 0.0010 - 7s/epoch - 127ms/step
Epoch 15/75
59/59 - 7s - loss: 0.0231 - accuracy: 0.8413 - val_loss: 0.0326 - val_accuracy: 0.8175 - lr: 0.0010 - 7s/epoch - 127ms/step
Epoch 16/75
59/59 - 7s - loss: 0.0230 - accuracy: 0.8413 - val_loss: 0.0326 - val_accuracy: 0.8174 - lr: 0.0010 - 7s/epoch - 127ms/step
Epoch 17/75
59/59 - 7s - loss: 0.0230 - accuracy: 0.8422 - val_loss: 0.0326 - val_accuracy: 0.8172 - lr: 0.0010 - 7s/epoch - 127ms/step
Epoch 18/75
59/59 - 7s - loss: 0.0230 - accuracy: 0.8418 - val_loss: 0.0326 - val_accuracy: 0.8174 - lr: 0.0010 - 7s/epoch - 127ms/step
Epoch 19/75
59/59 - 7s - loss: 0.0230 - accuracy: 0.8419 - val_loss: 0.0326 - val_accuracy: 0.8170 - lr: 0.0010 - 7s/epoch - 127ms/step
Epoch 20/75
59/59 - 7s - loss: 0.0231 - accuracy: 0.8411 - val_loss: 0.0327 - val_accuracy: 0.8172 - lr: 0.0010 - 7s/epoch - 127ms/step
Epoch 21/75
59/59 - 7s - loss: 0.0231 - accuracy: 0.8416 - val_loss: 0.0325 - val_accuracy: 0.8182 - lr: 0.0010 - 7s/epoch - 127ms/step
Epoch 22/75
59/59 - 7s - loss: 0.0231 - accuracy: 0.8414 - val_loss: 0.0326 - val_accuracy: 0.8181 - lr: 0.0010 - 7s/epoch - 126ms/step
Epoch 23/75
59/59 - 7s - loss: 0.0230 - accuracy: 0.8424 - val_loss: 0.0326 - val_accuracy: 0.8174 - lr: 0.0010 - 7s/epoch - 126ms/step
Epoch 24/75
59/59 - 7s - loss: 0.0230 - accuracy: 0.8410 - val_loss: 0.0326 - val_accuracy: 0.8176 - lr: 0.0010 - 7s/epoch - 126ms/step
Epoch 25/75
59/59 - 7s - loss: 0.0230 - accuracy: 0.8404 - val_loss: 0.0326 - val_accuracy: 0.8177 - lr: 0.0010 - 7s/epoch - 126ms/step
Epoch 26/75
59/59 - 7s - loss: 0.0231 - accuracy: 0.8414 - val_loss: 0.0326 - val_accuracy: 0.8178 - lr: 0.0010 - 7s/epoch - 127ms/step
Epoch 27/75
59/59 - 7s - loss: 0.0231 - accuracy: 0.8423 - val_loss: 0.0326 - val_accuracy: 0.8177 - lr: 0.0010 - 7s/epoch - 126ms/step
Epoch 28/75
59/59 - 7s - loss: 0.0230 - accuracy: 0.8413 - val_loss: 0.0326 - val_accuracy: 0.8174 - lr: 0.0010 - 7s/epoch - 127ms/step
Epoch 29/75
59/59 - 7s - loss: 0.0230 - accuracy: 0.8417 - val_loss: 0.0326 - val_accuracy: 0.8177 - lr: 0.0010 - 7s/epoch - 127ms/step
Epoch 30/75
59/59 - 7s - loss: 0.0230 - accuracy: 0.8413 - val_loss: 0.0326 - val_accuracy: 0.8177 - lr: 0.0010 - 7s/epoch - 127ms/step
Epoch 31/75
59/59 - 7s - loss: 0.0230 - accuracy: 0.8422 - val_loss: 0.0326 - val_accuracy: 0.8177 - lr: 0.0010 - 7s/epoch - 126ms/step
Epoch 32/75
59/59 - 7s - loss: 0.0230 - accuracy: 0.8410 - val_loss: 0.0326 - val_accuracy: 0.8177 - lr: 0.0010 - 7s/epoch - 126ms/step
Epoch 33/75
59/59 - 7s - loss: 0.0230 - accuracy: 0.8425 - val_loss: 0.0326 - val_accuracy: 0.8177 - lr: 0.0010 - 7s/epoch - 127ms/step
Epoch 34/75
59/59 - 7s - loss: 0.0230 - accuracy: 0.8420 - val_loss: 0.0325 - val_accuracy: 0.8179 - lr: 0.0010 - 7s/epoch - 127ms/step
Epoch 35/75
59/59 - 7s - loss: 0.0230 - accuracy: 0.8416 - val_loss: 0.0325 - val_accuracy: 0.8180 - lr: 0.0010 - 7s/epoch - 127ms/step
Epoch 36/75
59/59 - 7s - loss: 0.0232 - accuracy: 0.8412 - val_loss: 0.0326 - val_accuracy: 0.8179 - lr: 0.0010 - 7s/epoch - 127ms/step
Epoch 37/75
59/59 - 7s - loss: 0.0231 - accuracy: 0.8410 - val_loss: 0.0326 - val_accuracy: 0.8174 - lr: 0.0010 - 7s/epoch - 127ms/step
Epoch 38/75
59/59 - 7s - loss: 0.0231 - accuracy: 0.8408 - val_loss: 0.0326 - val_accuracy: 0.8172 - lr: 0.0010 - 7s/epoch - 127ms/step
Epoch 39/75
59/59 - 7s - loss: 0.0230 - accuracy: 0.8420 - val_loss: 0.0326 - val_accuracy: 0.8176 - lr: 0.0010 - 7s/epoch - 127ms/step
Epoch 40/75
59/59 - 7s - loss: 0.0231 - accuracy: 0.8413 - val_loss: 0.0325 - val_accuracy: 0.8181 - lr: 0.0010 - 7s/epoch - 127ms/step
Epoch 41/75
59/59 - 7s - loss: 0.0230 - accuracy: 0.8414 - val_loss: 0.0326 - val_accuracy: 0.8173 - lr: 0.0010 - 7s/epoch - 127ms/step
Epoch 42/75
59/59 - 7s - loss: 0.0230 - accuracy: 0.8409 - val_loss: 0.0326 - val_accuracy: 0.8174 - lr: 0.0010 - 7s/epoch - 127ms/step
Epoch 43/75
59/59 - 7s - loss: 0.0230 - accuracy: 0.8425 - val_loss: 0.0327 - val_accuracy: 0.8172 - lr: 0.0010 - 7s/epoch - 127ms/step
Epoch 44/75
59/59 - 7s - loss: 0.0230 - accuracy: 0.8428 - val_loss: 0.0326 - val_accuracy: 0.8171 - lr: 0.0010 - 7s/epoch - 127ms/step
Epoch 45/75
59/59 - 7s - loss: 0.0231 - accuracy: 0.8413 - val_loss: 0.0326 - val_accuracy: 0.8175 - lr: 0.0010 - 7s/epoch - 127ms/step
Epoch 46/75
59/59 - 7s - loss: 0.0230 - accuracy: 0.8424 - val_loss: 0.0326 - val_accuracy: 0.8177 - lr: 0.0010 - 7s/epoch - 127ms/step
Epoch 47/75
59/59 - 7s - loss: 0.0230 - accuracy: 0.8418 - val_loss: 0.0326 - val_accuracy: 0.8176 - lr: 0.0010 - 7s/epoch - 127ms/step
Epoch 48/75
59/59 - 7s - loss: 0.0230 - accuracy: 0.8421 - val_loss: 0.0326 - val_accuracy: 0.8175 - lr: 0.0010 - 7s/epoch - 127ms/step
Epoch 49/75
59/59 - 7s - loss: 0.0230 - accuracy: 0.8421 - val_loss: 0.0326 - val_accuracy: 0.8176 - lr: 0.0010 - 7s/epoch - 127ms/step
Epoch 50/75
59/59 - 7s - loss: 0.0230 - accuracy: 0.8421 - val_loss: 0.0326 - val_accuracy: 0.8176 - lr: 0.0010 - 7s/epoch - 127ms/step
Epoch 51/75
59/59 - 8s - loss: 0.0230 - accuracy: 0.8425 - val_loss: 0.0326 - val_accuracy: 0.8172 - lr: 0.0010 - 8s/epoch - 127ms/step
Epoch 52/75
59/59 - 7s - loss: 0.0230 - accuracy: 0.8422 - val_loss: 0.0326 - val_accuracy: 0.8176 - lr: 0.0010 - 7s/epoch - 127ms/step
Epoch 53/75
59/59 - 7s - loss: 0.0231 - accuracy: 0.8411 - val_loss: 0.0325 - val_accuracy: 0.8175 - lr: 0.0010 - 7s/epoch - 127ms/step
Epoch 54/75
59/59 - 7s - loss: 0.0231 - accuracy: 0.8407 - val_loss: 0.0326 - val_accuracy: 0.8175 - lr: 0.0010 - 7s/epoch - 127ms/step
Epoch 55/75
59/59 - 7s - loss: 0.0231 - accuracy: 0.8411 - val_loss: 0.0326 - val_accuracy: 0.8174 - lr: 0.0010 - 7s/epoch - 127ms/step
Epoch 56/75
59/59 - 7s - loss: 0.0230 - accuracy: 0.8415 - val_loss: 0.0327 - val_accuracy: 0.8169 - lr: 0.0010 - 7s/epoch - 127ms/step
Epoch 57/75
59/59 - 7s - loss: 0.0230 - accuracy: 0.8425 - val_loss: 0.0326 - val_accuracy: 0.8174 - lr: 0.0010 - 7s/epoch - 127ms/step
Epoch 58/75
59/59 - 7s - loss: 0.0230 - accuracy: 0.8421 - val_loss: 0.0326 - val_accuracy: 0.8171 - lr: 0.0010 - 7s/epoch - 127ms/step
Epoch 59/75
59/59 - 7s - loss: 0.0230 - accuracy: 0.8414 - val_loss: 0.0326 - val_accuracy: 0.8176 - lr: 0.0010 - 7s/epoch - 127ms/step
Epoch 60/75
59/59 - 7s - loss: 0.0230 - accuracy: 0.8411 - val_loss: 0.0326 - val_accuracy: 0.8176 - lr: 0.0010 - 7s/epoch - 127ms/step
Epoch 61/75
59/59 - 8s - loss: 0.0231 - accuracy: 0.8416 - val_loss: 0.0326 - val_accuracy: 0.8175 - lr: 0.0010 - 8s/epoch - 128ms/step
Epoch 62/75
59/59 - 7s - loss: 0.0231 - accuracy: 0.8416 - val_loss: 0.0326 - val_accuracy: 0.8175 - lr: 0.0010 - 7s/epoch - 127ms/step
Epoch 63/75
59/59 - 7s - loss: 0.0231 - accuracy: 0.8414 - val_loss: 0.0326 - val_accuracy: 0.8174 - lr: 0.0010 - 7s/epoch - 127ms/step
Epoch 64/75
59/59 - 7s - loss: 0.0230 - accuracy: 0.8423 - val_loss: 0.0326 - val_accuracy: 0.8173 - lr: 0.0010 - 7s/epoch - 127ms/step
Epoch 65/75
59/59 - 7s - loss: 0.0230 - accuracy: 0.8414 - val_loss: 0.0326 - val_accuracy: 0.8174 - lr: 0.0010 - 7s/epoch - 127ms/step
Epoch 66/75
59/59 - 7s - loss: 0.0232 - accuracy: 0.8404 - val_loss: 0.0326 - val_accuracy: 0.8176 - lr: 0.0010 - 7s/epoch - 127ms/step
Epoch 67/75
59/59 - 7s - loss: 0.0231 - accuracy: 0.8413 - val_loss: 0.0326 - val_accuracy: 0.8175 - lr: 0.0010 - 7s/epoch - 127ms/step
Epoch 68/75
59/59 - 7s - loss: 0.0231 - accuracy: 0.8408 - val_loss: 0.0327 - val_accuracy: 0.8171 - lr: 0.0010 - 7s/epoch - 127ms/step
Epoch 69/75
59/59 - 7s - loss: 0.0230 - accuracy: 0.8421 - val_loss: 0.0327 - val_accuracy: 0.8171 - lr: 0.0010 - 7s/epoch - 127ms/step
Epoch 70/75
59/59 - 7s - loss: 0.0231 - accuracy: 0.8409 - val_loss: 0.0326 - val_accuracy: 0.8174 - lr: 0.0010 - 7s/epoch - 127ms/step
Epoch 71/75
59/59 - 7s - loss: 0.0230 - accuracy: 0.8425 - val_loss: 0.0327 - val_accuracy: 0.8172 - lr: 0.0010 - 7s/epoch - 127ms/step
Epoch 72/75
59/59 - 7s - loss: 0.0231 - accuracy: 0.8411 - val_loss: 0.0326 - val_accuracy: 0.8174 - lr: 0.0010 - 7s/epoch - 127ms/step
Epoch 73/75
59/59 - 7s - loss: 0.0230 - accuracy: 0.8422 - val_loss: 0.0326 - val_accuracy: 0.8178 - lr: 0.0010 - 7s/epoch - 127ms/step
Epoch 74/75
59/59 - 7s - loss: 0.0231 - accuracy: 0.8415 - val_loss: 0.0326 - val_accuracy: 0.8171 - lr: 0.0010 - 7s/epoch - 127ms/step
Epoch 75/75
59/59 - 7s - loss: 0.0230 - accuracy: 0.8422 - val_loss: 0.0326 - val_accuracy: 0.8180 - lr: 0.0010 - 7s/epoch - 127ms/step
fitting with batch size: 2500
Epoch 1/75
36/36 - 9s - loss: 0.0231 - accuracy: 0.8412 - val_loss: 0.0325 - val_accuracy: 0.8181 - lr: 0.0010 - 9s/epoch - 258ms/step
Epoch 2/75
36/36 - 7s - loss: 0.0231 - accuracy: 0.8407 - val_loss: 0.0326 - val_accuracy: 0.8174 - lr: 0.0010 - 7s/epoch - 201ms/step
Epoch 3/75
36/36 - 7s - loss: 0.0230 - accuracy: 0.8418 - val_loss: 0.0325 - val_accuracy: 0.8180 - lr: 0.0010 - 7s/epoch - 201ms/step
Epoch 4/75
36/36 - 7s - loss: 0.0231 - accuracy: 0.8421 - val_loss: 0.0326 - val_accuracy: 0.8175 - lr: 0.0010 - 7s/epoch - 201ms/step
Epoch 5/75
36/36 - 7s - loss: 0.0230 - accuracy: 0.8413 - val_loss: 0.0326 - val_accuracy: 0.8172 - lr: 0.0010 - 7s/epoch - 201ms/step
Epoch 6/75
36/36 - 7s - loss: 0.0230 - accuracy: 0.8420 - val_loss: 0.0326 - val_accuracy: 0.8171 - lr: 0.0010 - 7s/epoch - 201ms/step
Epoch 7/75
36/36 - 7s - loss: 0.0229 - accuracy: 0.8432 - val_loss: 0.0326 - val_accuracy: 0.8177 - lr: 0.0010 - 7s/epoch - 201ms/step
Epoch 8/75
36/36 - 7s - loss: 0.0230 - accuracy: 0.8416 - val_loss: 0.0326 - val_accuracy: 0.8175 - lr: 0.0010 - 7s/epoch - 201ms/step
Epoch 9/75
36/36 - 7s - loss: 0.0229 - accuracy: 0.8419 - val_loss: 0.0325 - val_accuracy: 0.8178 - lr: 0.0010 - 7s/epoch - 201ms/step
Epoch 10/75
36/36 - 7s - loss: 0.0230 - accuracy: 0.8414 - val_loss: 0.0326 - val_accuracy: 0.8175 - lr: 0.0010 - 7s/epoch - 201ms/step
Epoch 11/75
36/36 - 7s - loss: 0.0231 - accuracy: 0.8407 - val_loss: 0.0326 - val_accuracy: 0.8171 - lr: 0.0010 - 7s/epoch - 201ms/step
Epoch 12/75
36/36 - 7s - loss: 0.0230 - accuracy: 0.8416 - val_loss: 0.0327 - val_accuracy: 0.8168 - lr: 0.0010 - 7s/epoch - 201ms/step
Epoch 13/75
36/36 - 7s - loss: 0.0230 - accuracy: 0.8412 - val_loss: 0.0327 - val_accuracy: 0.8166 - lr: 0.0010 - 7s/epoch - 201ms/step
Epoch 14/75
36/36 - 7s - loss: 0.0230 - accuracy: 0.8420 - val_loss: 0.0327 - val_accuracy: 0.8169 - lr: 0.0010 - 7s/epoch - 201ms/step
Epoch 15/75
36/36 - 7s - loss: 0.0230 - accuracy: 0.8427 - val_loss: 0.0326 - val_accuracy: 0.8171 - lr: 0.0010 - 7s/epoch - 201ms/step
Epoch 16/75
36/36 - 7s - loss: 0.0230 - accuracy: 0.8422 - val_loss: 0.0327 - val_accuracy: 0.8171 - lr: 0.0010 - 7s/epoch - 201ms/step
Epoch 17/75
36/36 - 7s - loss: 0.0231 - accuracy: 0.8415 - val_loss: 0.0327 - val_accuracy: 0.8170 - lr: 0.0010 - 7s/epoch - 201ms/step
Epoch 18/75
36/36 - 7s - loss: 0.0230 - accuracy: 0.8419 - val_loss: 0.0328 - val_accuracy: 0.8162 - lr: 0.0010 - 7s/epoch - 201ms/step
Epoch 19/75
36/36 - 7s - loss: 0.0230 - accuracy: 0.8429 - val_loss: 0.0326 - val_accuracy: 0.8171 - lr: 0.0010 - 7s/epoch - 201ms/step
Epoch 20/75
36/36 - 7s - loss: 0.0230 - accuracy: 0.8422 - val_loss: 0.0327 - val_accuracy: 0.8169 - lr: 0.0010 - 7s/epoch - 201ms/step
Epoch 21/75
36/36 - 7s - loss: 0.0231 - accuracy: 0.8405 - val_loss: 0.0327 - val_accuracy: 0.8169 - lr: 0.0010 - 7s/epoch - 201ms/step
Epoch 22/75
36/36 - 7s - loss: 0.0230 - accuracy: 0.8418 - val_loss: 0.0326 - val_accuracy: 0.8179 - lr: 0.0010 - 7s/epoch - 201ms/step
Epoch 23/75
36/36 - 7s - loss: 0.0230 - accuracy: 0.8416 - val_loss: 0.0325 - val_accuracy: 0.8182 - lr: 0.0010 - 7s/epoch - 201ms/step
Epoch 24/75
36/36 - 7s - loss: 0.0231 - accuracy: 0.8406 - val_loss: 0.0326 - val_accuracy: 0.8173 - lr: 0.0010 - 7s/epoch - 201ms/step
Epoch 25/75
36/36 - 7s - loss: 0.0230 - accuracy: 0.8415 - val_loss: 0.0326 - val_accuracy: 0.8171 - lr: 0.0010 - 7s/epoch - 201ms/step
Epoch 26/75
36/36 - 7s - loss: 0.0230 - accuracy: 0.8419 - val_loss: 0.0326 - val_accuracy: 0.8173 - lr: 0.0010 - 7s/epoch - 201ms/step
Epoch 27/75
36/36 - 7s - loss: 0.0231 - accuracy: 0.8412 - val_loss: 0.0327 - val_accuracy: 0.8167 - lr: 0.0010 - 7s/epoch - 201ms/step
Epoch 28/75
36/36 - 7s - loss: 0.0230 - accuracy: 0.8425 - val_loss: 0.0326 - val_accuracy: 0.8172 - lr: 0.0010 - 7s/epoch - 201ms/step
Epoch 29/75
36/36 - 7s - loss: 0.0231 - accuracy: 0.8417 - val_loss: 0.0326 - val_accuracy: 0.8172 - lr: 0.0010 - 7s/epoch - 201ms/step
Epoch 30/75
36/36 - 7s - loss: 0.0230 - accuracy: 0.8411 - val_loss: 0.0326 - val_accuracy: 0.8174 - lr: 0.0010 - 7s/epoch - 201ms/step
Epoch 31/75
36/36 - 7s - loss: 0.0230 - accuracy: 0.8416 - val_loss: 0.0327 - val_accuracy: 0.8169 - lr: 0.0010 - 7s/epoch - 201ms/step
Epoch 32/75
36/36 - 7s - loss: 0.0231 - accuracy: 0.8416 - val_loss: 0.0326 - val_accuracy: 0.8175 - lr: 0.0010 - 7s/epoch - 201ms/step
Epoch 33/75
36/36 - 7s - loss: 0.0231 - accuracy: 0.8408 - val_loss: 0.0326 - val_accuracy: 0.8168 - lr: 0.0010 - 7s/epoch - 201ms/step
Epoch 34/75
36/36 - 7s - loss: 0.0230 - accuracy: 0.8418 - val_loss: 0.0326 - val_accuracy: 0.8177 - lr: 0.0010 - 7s/epoch - 201ms/step
Epoch 35/75
36/36 - 7s - loss: 0.0231 - accuracy: 0.8409 - val_loss: 0.0325 - val_accuracy: 0.8182 - lr: 0.0010 - 7s/epoch - 201ms/step
Epoch 36/75
36/36 - 7s - loss: 0.0229 - accuracy: 0.8431 - val_loss: 0.0327 - val_accuracy: 0.8168 - lr: 0.0010 - 7s/epoch - 201ms/step
Epoch 37/75
36/36 - 7s - loss: 0.0231 - accuracy: 0.8418 - val_loss: 0.0326 - val_accuracy: 0.8177 - lr: 0.0010 - 7s/epoch - 201ms/step
Epoch 38/75
36/36 - 7s - loss: 0.0230 - accuracy: 0.8428 - val_loss: 0.0327 - val_accuracy: 0.8171 - lr: 0.0010 - 7s/epoch - 201ms/step
Epoch 39/75
36/36 - 7s - loss: 0.0231 - accuracy: 0.8411 - val_loss: 0.0326 - val_accuracy: 0.8179 - lr: 0.0010 - 7s/epoch - 201ms/step
Epoch 40/75
36/36 - 7s - loss: 0.0230 - accuracy: 0.8420 - val_loss: 0.0326 - val_accuracy: 0.8177 - lr: 0.0010 - 7s/epoch - 201ms/step
Epoch 41/75
36/36 - 7s - loss: 0.0230 - accuracy: 0.8425 - val_loss: 0.0325 - val_accuracy: 0.8178 - lr: 0.0010 - 7s/epoch - 201ms/step
Epoch 42/75
36/36 - 7s - loss: 0.0231 - accuracy: 0.8407 - val_loss: 0.0326 - val_accuracy: 0.8176 - lr: 0.0010 - 7s/epoch - 201ms/step
Epoch 43/75
36/36 - 7s - loss: 0.0231 - accuracy: 0.8408 - val_loss: 0.0326 - val_accuracy: 0.8182 - lr: 0.0010 - 7s/epoch - 201ms/step
Epoch 44/75
36/36 - 7s - loss: 0.0231 - accuracy: 0.8409 - val_loss: 0.0326 - val_accuracy: 0.8174 - lr: 0.0010 - 7s/epoch - 201ms/step
Epoch 45/75
36/36 - 7s - loss: 0.0230 - accuracy: 0.8418 - val_loss: 0.0325 - val_accuracy: 0.8182 - lr: 0.0010 - 7s/epoch - 201ms/step
Epoch 46/75
36/36 - 7s - loss: 0.0231 - accuracy: 0.8412 - val_loss: 0.0325 - val_accuracy: 0.8183 - lr: 0.0010 - 7s/epoch - 201ms/step
Epoch 47/75
36/36 - 7s - loss: 0.0231 - accuracy: 0.8424 - val_loss: 0.0326 - val_accuracy: 0.8177 - lr: 0.0010 - 7s/epoch - 201ms/step
Epoch 48/75
36/36 - 7s - loss: 0.0229 - accuracy: 0.8427 - val_loss: 0.0325 - val_accuracy: 0.8185 - lr: 0.0010 - 7s/epoch - 201ms/step
Epoch 49/75
36/36 - 7s - loss: 0.0230 - accuracy: 0.8423 - val_loss: 0.0325 - val_accuracy: 0.8184 - lr: 0.0010 - 7s/epoch - 201ms/step
Epoch 50/75
36/36 - 7s - loss: 0.0230 - accuracy: 0.8419 - val_loss: 0.0326 - val_accuracy: 0.8171 - lr: 0.0010 - 7s/epoch - 201ms/step
Epoch 51/75
36/36 - 7s - loss: 0.0229 - accuracy: 0.8428 - val_loss: 0.0326 - val_accuracy: 0.8176 - lr: 0.0010 - 7s/epoch - 201ms/step
Epoch 52/75
36/36 - 7s - loss: 0.0231 - accuracy: 0.8416 - val_loss: 0.0326 - val_accuracy: 0.8177 - lr: 0.0010 - 7s/epoch - 201ms/step
Epoch 53/75
36/36 - 7s - loss: 0.0231 - accuracy: 0.8418 - val_loss: 0.0327 - val_accuracy: 0.8171 - lr: 0.0010 - 7s/epoch - 201ms/step
Epoch 54/75
36/36 - 7s - loss: 0.0230 - accuracy: 0.8410 - val_loss: 0.0327 - val_accuracy: 0.8171 - lr: 0.0010 - 7s/epoch - 201ms/step
Epoch 55/75
36/36 - 7s - loss: 0.0230 - accuracy: 0.8416 - val_loss: 0.0327 - val_accuracy: 0.8166 - lr: 0.0010 - 7s/epoch - 201ms/step
Epoch 56/75
36/36 - 7s - loss: 0.0229 - accuracy: 0.8427 - val_loss: 0.0326 - val_accuracy: 0.8171 - lr: 0.0010 - 7s/epoch - 201ms/step
Epoch 57/75
36/36 - 7s - loss: 0.0230 - accuracy: 0.8420 - val_loss: 0.0327 - val_accuracy: 0.8165 - lr: 0.0010 - 7s/epoch - 201ms/step
Epoch 58/75
36/36 - 7s - loss: 0.0230 - accuracy: 0.8427 - val_loss: 0.0326 - val_accuracy: 0.8174 - lr: 0.0010 - 7s/epoch - 201ms/step
Epoch 59/75
36/36 - 7s - loss: 0.0230 - accuracy: 0.8426 - val_loss: 0.0326 - val_accuracy: 0.8177 - lr: 0.0010 - 7s/epoch - 201ms/step
Epoch 60/75
36/36 - 7s - loss: 0.0231 - accuracy: 0.8412 - val_loss: 0.0326 - val_accuracy: 0.8170 - lr: 0.0010 - 7s/epoch - 201ms/step
Epoch 61/75
36/36 - 7s - loss: 0.0230 - accuracy: 0.8414 - val_loss: 0.0326 - val_accuracy: 0.8175 - lr: 0.0010 - 7s/epoch - 201ms/step
Epoch 62/75
36/36 - 7s - loss: 0.0230 - accuracy: 0.8425 - val_loss: 0.0327 - val_accuracy: 0.8168 - lr: 0.0010 - 7s/epoch - 201ms/step
Epoch 63/75
36/36 - 7s - loss: 0.0230 - accuracy: 0.8413 - val_loss: 0.0327 - val_accuracy: 0.8169 - lr: 0.0010 - 7s/epoch - 201ms/step
Epoch 64/75
36/36 - 7s - loss: 0.0230 - accuracy: 0.8421 - val_loss: 0.0326 - val_accuracy: 0.8177 - lr: 0.0010 - 7s/epoch - 201ms/step
Epoch 65/75
36/36 - 7s - loss: 0.0229 - accuracy: 0.8420 - val_loss: 0.0326 - val_accuracy: 0.8172 - lr: 0.0010 - 7s/epoch - 201ms/step
Epoch 66/75
36/36 - 7s - loss: 0.0231 - accuracy: 0.8411 - val_loss: 0.0326 - val_accuracy: 0.8178 - lr: 0.0010 - 7s/epoch - 201ms/step
Epoch 67/75
36/36 - 7s - loss: 0.0230 - accuracy: 0.8416 - val_loss: 0.0326 - val_accuracy: 0.8177 - lr: 0.0010 - 7s/epoch - 201ms/step
Epoch 68/75
36/36 - 7s - loss: 0.0231 - accuracy: 0.8421 - val_loss: 0.0325 - val_accuracy: 0.8179 - lr: 0.0010 - 7s/epoch - 201ms/step
Epoch 69/75
36/36 - 7s - loss: 0.0231 - accuracy: 0.8410 - val_loss: 0.0324 - val_accuracy: 0.8186 - lr: 0.0010 - 7s/epoch - 201ms/step
Epoch 70/75
36/36 - 7s - loss: 0.0230 - accuracy: 0.8424 - val_loss: 0.0326 - val_accuracy: 0.8174 - lr: 0.0010 - 7s/epoch - 201ms/step
Epoch 71/75
36/36 - 7s - loss: 0.0231 - accuracy: 0.8412 - val_loss: 0.0325 - val_accuracy: 0.8179 - lr: 0.0010 - 7s/epoch - 201ms/step
Epoch 72/75
36/36 - 7s - loss: 0.0230 - accuracy: 0.8418 - val_loss: 0.0326 - val_accuracy: 0.8178 - lr: 0.0010 - 7s/epoch - 201ms/step
Epoch 73/75
36/36 - 7s - loss: 0.0230 - accuracy: 0.8426 - val_loss: 0.0325 - val_accuracy: 0.8177 - lr: 0.0010 - 7s/epoch - 201ms/step
Epoch 74/75
36/36 - 7s - loss: 0.0230 - accuracy: 0.8426 - val_loss: 0.0326 - val_accuracy: 0.8175 - lr: 0.0010 - 7s/epoch - 201ms/step
Epoch 75/75
36/36 - 7s - loss: 0.0230 - accuracy: 0.8416 - val_loss: 0.0326 - val_accuracy: 0.8177 - lr: 0.0010 - 7s/epoch - 201ms/step
Epoch number: 100
fitting with batch size: 20
Epoch 1/100
4378/4378 - 72s - loss: 0.0235 - accuracy: 0.8375 - val_loss: 0.0328 - val_accuracy: 0.8173 - lr: 0.0010 - 72s/epoch - 16ms/step
Epoch 2/100
4378/4378 - 71s - loss: 0.0236 - accuracy: 0.8370 - val_loss: 0.0333 - val_accuracy: 0.8137 - lr: 0.0010 - 71s/epoch - 16ms/step
Epoch 3/100
4378/4378 - 70s - loss: 0.0235 - accuracy: 0.8384 - val_loss: 0.0327 - val_accuracy: 0.8156 - lr: 0.0010 - 70s/epoch - 16ms/step
Epoch 4/100
4378/4378 - 71s - loss: 0.0236 - accuracy: 0.8374 - val_loss: 0.0334 - val_accuracy: 0.8154 - lr: 0.0010 - 71s/epoch - 16ms/step
Epoch 5/100
4378/4378 - 70s - loss: 0.0237 - accuracy: 0.8363 - val_loss: 0.0324 - val_accuracy: 0.8193 - lr: 0.0010 - 70s/epoch - 16ms/step
Epoch 6/100
4378/4378 - 70s - loss: 0.0235 - accuracy: 0.8371 - val_loss: 0.0328 - val_accuracy: 0.8165 - lr: 0.0010 - 70s/epoch - 16ms/step
Epoch 7/100
4378/4378 - 70s - loss: 0.0236 - accuracy: 0.8375 - val_loss: 0.0326 - val_accuracy: 0.8153 - lr: 0.0010 - 70s/epoch - 16ms/step
Epoch 8/100
4378/4378 - 70s - loss: 0.0235 - accuracy: 0.8382 - val_loss: 0.0324 - val_accuracy: 0.8195 - lr: 0.0010 - 70s/epoch - 16ms/step
Epoch 9/100
4378/4378 - 70s - loss: 0.0236 - accuracy: 0.8382 - val_loss: 0.0334 - val_accuracy: 0.8156 - lr: 0.0010 - 70s/epoch - 16ms/step
Epoch 10/100
4378/4378 - 71s - loss: 0.0235 - accuracy: 0.8378 - val_loss: 0.0332 - val_accuracy: 0.8143 - lr: 0.0010 - 71s/epoch - 16ms/step
Epoch 11/100
4378/4378 - 70s - loss: 0.0235 - accuracy: 0.8376 - val_loss: 0.0336 - val_accuracy: 0.8125 - lr: 0.0010 - 70s/epoch - 16ms/step
Epoch 12/100
4378/4378 - 70s - loss: 0.0236 - accuracy: 0.8378 - val_loss: 0.0329 - val_accuracy: 0.8169 - lr: 0.0010 - 70s/epoch - 16ms/step
Epoch 13/100
4378/4378 - 71s - loss: 0.0235 - accuracy: 0.8372 - val_loss: 0.0322 - val_accuracy: 0.8220 - lr: 0.0010 - 71s/epoch - 16ms/step
Epoch 14/100
4378/4378 - 70s - loss: 0.0236 - accuracy: 0.8369 - val_loss: 0.0334 - val_accuracy: 0.8127 - lr: 0.0010 - 70s/epoch - 16ms/step
Epoch 15/100
4378/4378 - 70s - loss: 0.0235 - accuracy: 0.8378 - val_loss: 0.0337 - val_accuracy: 0.8106 - lr: 0.0010 - 70s/epoch - 16ms/step
Epoch 16/100
4378/4378 - 71s - loss: 0.0235 - accuracy: 0.8372 - val_loss: 0.0321 - val_accuracy: 0.8221 - lr: 0.0010 - 71s/epoch - 16ms/step
Epoch 17/100
4378/4378 - 70s - loss: 0.0235 - accuracy: 0.8379 - val_loss: 0.0331 - val_accuracy: 0.8160 - lr: 0.0010 - 70s/epoch - 16ms/step
Epoch 18/100
4378/4378 - 71s - loss: 0.0235 - accuracy: 0.8382 - val_loss: 0.0333 - val_accuracy: 0.8147 - lr: 0.0010 - 71s/epoch - 16ms/step
Epoch 19/100
4378/4378 - 70s - loss: 0.0234 - accuracy: 0.8394 - val_loss: 0.0336 - val_accuracy: 0.8131 - lr: 0.0010 - 70s/epoch - 16ms/step
Epoch 20/100
4378/4378 - 70s - loss: 0.0235 - accuracy: 0.8377 - val_loss: 0.0332 - val_accuracy: 0.8155 - lr: 0.0010 - 70s/epoch - 16ms/step
Epoch 21/100
4378/4378 - 70s - loss: 0.0234 - accuracy: 0.8389 - val_loss: 0.0321 - val_accuracy: 0.8216 - lr: 0.0010 - 70s/epoch - 16ms/step
Epoch 22/100
4378/4378 - 70s - loss: 0.0234 - accuracy: 0.8395 - val_loss: 0.0315 - val_accuracy: 0.8236 - lr: 0.0010 - 70s/epoch - 16ms/step
Epoch 23/100
4378/4378 - 70s - loss: 0.0235 - accuracy: 0.8388 - val_loss: 0.0328 - val_accuracy: 0.8156 - lr: 0.0010 - 70s/epoch - 16ms/step
Epoch 24/100
4378/4378 - 70s - loss: 0.0234 - accuracy: 0.8388 - val_loss: 0.0331 - val_accuracy: 0.8155 - lr: 0.0010 - 70s/epoch - 16ms/step
Epoch 25/100
4378/4378 - 71s - loss: 0.0235 - accuracy: 0.8381 - val_loss: 0.0328 - val_accuracy: 0.8149 - lr: 0.0010 - 71s/epoch - 16ms/step
Epoch 26/100
4378/4378 - 70s - loss: 0.0235 - accuracy: 0.8379 - val_loss: 0.0320 - val_accuracy: 0.8198 - lr: 0.0010 - 70s/epoch - 16ms/step
Epoch 27/100
4378/4378 - 71s - loss: 0.0235 - accuracy: 0.8377 - val_loss: 0.0327 - val_accuracy: 0.8192 - lr: 0.0010 - 71s/epoch - 16ms/step
Epoch 28/100
4378/4378 - 70s - loss: 0.0235 - accuracy: 0.8380 - val_loss: 0.0330 - val_accuracy: 0.8161 - lr: 0.0010 - 70s/epoch - 16ms/step
Epoch 29/100
4378/4378 - 70s - loss: 0.0233 - accuracy: 0.8393 - val_loss: 0.0327 - val_accuracy: 0.8172 - lr: 0.0010 - 70s/epoch - 16ms/step
Epoch 30/100
4378/4378 - 69s - loss: 0.0234 - accuracy: 0.8401 - val_loss: 0.0317 - val_accuracy: 0.8224 - lr: 0.0010 - 69s/epoch - 16ms/step
Epoch 31/100
4378/4378 - 70s - loss: 0.0234 - accuracy: 0.8393 - val_loss: 0.0323 - val_accuracy: 0.8193 - lr: 0.0010 - 70s/epoch - 16ms/step
Epoch 32/100
4378/4378 - 70s - loss: 0.0234 - accuracy: 0.8394 - val_loss: 0.0327 - val_accuracy: 0.8178 - lr: 0.0010 - 70s/epoch - 16ms/step
Epoch 33/100
4378/4378 - 70s - loss: 0.0234 - accuracy: 0.8392 - val_loss: 0.0332 - val_accuracy: 0.8139 - lr: 0.0010 - 70s/epoch - 16ms/step
Epoch 34/100
4378/4378 - 71s - loss: 0.0234 - accuracy: 0.8397 - val_loss: 0.0328 - val_accuracy: 0.8173 - lr: 0.0010 - 71s/epoch - 16ms/step
Epoch 35/100
4378/4378 - 70s - loss: 0.0234 - accuracy: 0.8392 - val_loss: 0.0336 - val_accuracy: 0.8121 - lr: 0.0010 - 70s/epoch - 16ms/step
Epoch 36/100
4378/4378 - 70s - loss: 0.0234 - accuracy: 0.8388 - val_loss: 0.0326 - val_accuracy: 0.8179 - lr: 0.0010 - 70s/epoch - 16ms/step
Epoch 37/100
4378/4378 - 70s - loss: 0.0234 - accuracy: 0.8387 - val_loss: 0.0320 - val_accuracy: 0.8204 - lr: 0.0010 - 70s/epoch - 16ms/step
Epoch 38/100
4378/4378 - 71s - loss: 0.0233 - accuracy: 0.8407 - val_loss: 0.0319 - val_accuracy: 0.8218 - lr: 0.0010 - 71s/epoch - 16ms/step
Epoch 39/100
4378/4378 - 71s - loss: 0.0234 - accuracy: 0.8394 - val_loss: 0.0327 - val_accuracy: 0.8171 - lr: 0.0010 - 71s/epoch - 16ms/step
Epoch 40/100
4378/4378 - 70s - loss: 0.0233 - accuracy: 0.8393 - val_loss: 0.0328 - val_accuracy: 0.8163 - lr: 0.0010 - 70s/epoch - 16ms/step
Epoch 41/100
4378/4378 - 71s - loss: 0.0233 - accuracy: 0.8401 - val_loss: 0.0329 - val_accuracy: 0.8157 - lr: 0.0010 - 71s/epoch - 16ms/step
Epoch 42/100
4378/4378 - 71s - loss: 0.0234 - accuracy: 0.8397 - val_loss: 0.0322 - val_accuracy: 0.8194 - lr: 0.0010 - 71s/epoch - 16ms/step
Epoch 43/100
4378/4378 - 70s - loss: 0.0233 - accuracy: 0.8404 - val_loss: 0.0321 - val_accuracy: 0.8224 - lr: 0.0010 - 70s/epoch - 16ms/step
Epoch 44/100
4378/4378 - 71s - loss: 0.0233 - accuracy: 0.8396 - val_loss: 0.0324 - val_accuracy: 0.8210 - lr: 0.0010 - 71s/epoch - 16ms/step
Epoch 45/100
4378/4378 - 72s - loss: 0.0234 - accuracy: 0.8388 - val_loss: 0.0327 - val_accuracy: 0.8183 - lr: 0.0010 - 72s/epoch - 16ms/step
Epoch 46/100
4378/4378 - 70s - loss: 0.0232 - accuracy: 0.8403 - val_loss: 0.0320 - val_accuracy: 0.8224 - lr: 0.0010 - 70s/epoch - 16ms/step
Epoch 47/100
4378/4378 - 70s - loss: 0.0233 - accuracy: 0.8387 - val_loss: 0.0327 - val_accuracy: 0.8180 - lr: 0.0010 - 70s/epoch - 16ms/step
Epoch 48/100
4378/4378 - 70s - loss: 0.0233 - accuracy: 0.8393 - val_loss: 0.0327 - val_accuracy: 0.8152 - lr: 0.0010 - 70s/epoch - 16ms/step
Epoch 49/100
4378/4378 - 71s - loss: 0.0233 - accuracy: 0.8400 - val_loss: 0.0326 - val_accuracy: 0.8174 - lr: 0.0010 - 71s/epoch - 16ms/step
Epoch 50/100
4378/4378 - 70s - loss: 0.0233 - accuracy: 0.8407 - val_loss: 0.0331 - val_accuracy: 0.8157 - lr: 0.0010 - 70s/epoch - 16ms/step
Epoch 51/100
4378/4378 - 70s - loss: 0.0232 - accuracy: 0.8410 - val_loss: 0.0332 - val_accuracy: 0.8148 - lr: 0.0010 - 70s/epoch - 16ms/step
Epoch 52/100
4378/4378 - 70s - loss: 0.0233 - accuracy: 0.8395 - val_loss: 0.0325 - val_accuracy: 0.8185 - lr: 0.0010 - 70s/epoch - 16ms/step
Epoch 53/100
4378/4378 - 70s - loss: 0.0232 - accuracy: 0.8401 - val_loss: 0.0322 - val_accuracy: 0.8194 - lr: 0.0010 - 70s/epoch - 16ms/step
Epoch 54/100
4378/4378 - 70s - loss: 0.0232 - accuracy: 0.8407 - val_loss: 0.0318 - val_accuracy: 0.8229 - lr: 0.0010 - 70s/epoch - 16ms/step
Epoch 55/100
4378/4378 - 71s - loss: 0.0234 - accuracy: 0.8392 - val_loss: 0.0325 - val_accuracy: 0.8180 - lr: 0.0010 - 71s/epoch - 16ms/step
Epoch 56/100
4378/4378 - 70s - loss: 0.0232 - accuracy: 0.8404 - val_loss: 0.0321 - val_accuracy: 0.8208 - lr: 0.0010 - 70s/epoch - 16ms/step
Epoch 57/100
4378/4378 - 71s - loss: 0.0234 - accuracy: 0.8395 - val_loss: 0.0323 - val_accuracy: 0.8198 - lr: 0.0010 - 71s/epoch - 16ms/step
Epoch 58/100
4378/4378 - 71s - loss: 0.0233 - accuracy: 0.8398 - val_loss: 0.0324 - val_accuracy: 0.8187 - lr: 0.0010 - 71s/epoch - 16ms/step
Epoch 59/100
4378/4378 - 71s - loss: 0.0233 - accuracy: 0.8396 - val_loss: 0.0330 - val_accuracy: 0.8171 - lr: 0.0010 - 71s/epoch - 16ms/step
Epoch 60/100
4378/4378 - 70s - loss: 0.0232 - accuracy: 0.8414 - val_loss: 0.0322 - val_accuracy: 0.8211 - lr: 0.0010 - 70s/epoch - 16ms/step
Epoch 61/100
4378/4378 - 71s - loss: 0.0232 - accuracy: 0.8398 - val_loss: 0.0321 - val_accuracy: 0.8200 - lr: 0.0010 - 71s/epoch - 16ms/step
Epoch 62/100
4378/4378 - 70s - loss: 0.0232 - accuracy: 0.8401 - val_loss: 0.0329 - val_accuracy: 0.8146 - lr: 0.0010 - 70s/epoch - 16ms/step
Epoch 63/100
4378/4378 - 71s - loss: 0.0233 - accuracy: 0.8404 - val_loss: 0.0322 - val_accuracy: 0.8200 - lr: 0.0010 - 71s/epoch - 16ms/step
Epoch 64/100
4378/4378 - 70s - loss: 0.0233 - accuracy: 0.8400 - val_loss: 0.0328 - val_accuracy: 0.8169 - lr: 0.0010 - 70s/epoch - 16ms/step
Epoch 65/100
4378/4378 - 70s - loss: 0.0232 - accuracy: 0.8407 - val_loss: 0.0326 - val_accuracy: 0.8135 - lr: 0.0010 - 70s/epoch - 16ms/step
Epoch 66/100
4378/4378 - 71s - loss: 0.0233 - accuracy: 0.8409 - val_loss: 0.0322 - val_accuracy: 0.8175 - lr: 0.0010 - 71s/epoch - 16ms/step
Epoch 67/100
4378/4378 - 71s - loss: 0.0232 - accuracy: 0.8407 - val_loss: 0.0331 - val_accuracy: 0.8128 - lr: 0.0010 - 71s/epoch - 16ms/step
Epoch 68/100
4378/4378 - 71s - loss: 0.0233 - accuracy: 0.8403 - val_loss: 0.0330 - val_accuracy: 0.8115 - lr: 0.0010 - 71s/epoch - 16ms/step
Epoch 69/100
4378/4378 - 70s - loss: 0.0232 - accuracy: 0.8409 - val_loss: 0.0331 - val_accuracy: 0.8150 - lr: 0.0010 - 70s/epoch - 16ms/step
Epoch 70/100
4378/4378 - 70s - loss: 0.0232 - accuracy: 0.8407 - val_loss: 0.0328 - val_accuracy: 0.8150 - lr: 0.0010 - 70s/epoch - 16ms/step
Epoch 71/100
4378/4378 - 70s - loss: 0.0232 - accuracy: 0.8419 - val_loss: 0.0326 - val_accuracy: 0.8175 - lr: 0.0010 - 70s/epoch - 16ms/step
Epoch 72/100
4378/4378 - 70s - loss: 0.0233 - accuracy: 0.8409 - val_loss: 0.0327 - val_accuracy: 0.8165 - lr: 0.0010 - 70s/epoch - 16ms/step
Epoch 73/100
4378/4378 - 71s - loss: 0.0232 - accuracy: 0.8414 - val_loss: 0.0322 - val_accuracy: 0.8186 - lr: 0.0010 - 71s/epoch - 16ms/step
Epoch 74/100
4378/4378 - 71s - loss: 0.0232 - accuracy: 0.8412 - val_loss: 0.0326 - val_accuracy: 0.8142 - lr: 0.0010 - 71s/epoch - 16ms/step
Epoch 75/100
4378/4378 - 70s - loss: 0.0232 - accuracy: 0.8414 - val_loss: 0.0322 - val_accuracy: 0.8196 - lr: 0.0010 - 70s/epoch - 16ms/step
Epoch 76/100
4378/4378 - 70s - loss: 0.0232 - accuracy: 0.8422 - val_loss: 0.0333 - val_accuracy: 0.8126 - lr: 0.0010 - 70s/epoch - 16ms/step
Epoch 77/100
4378/4378 - 71s - loss: 0.0232 - accuracy: 0.8410 - val_loss: 0.0322 - val_accuracy: 0.8218 - lr: 0.0010 - 71s/epoch - 16ms/step
Epoch 78/100
4378/4378 - 71s - loss: 0.0231 - accuracy: 0.8421 - val_loss: 0.0322 - val_accuracy: 0.8167 - lr: 0.0010 - 71s/epoch - 16ms/step
Epoch 79/100
4378/4378 - 70s - loss: 0.0232 - accuracy: 0.8400 - val_loss: 0.0327 - val_accuracy: 0.8152 - lr: 0.0010 - 70s/epoch - 16ms/step
Epoch 80/100
4378/4378 - 71s - loss: 0.0231 - accuracy: 0.8416 - val_loss: 0.0333 - val_accuracy: 0.8128 - lr: 0.0010 - 71s/epoch - 16ms/step
Epoch 81/100
4378/4378 - 70s - loss: 0.0232 - accuracy: 0.8409 - val_loss: 0.0332 - val_accuracy: 0.8112 - lr: 0.0010 - 70s/epoch - 16ms/step
Epoch 82/100
4378/4378 - 71s - loss: 0.0232 - accuracy: 0.8420 - val_loss: 0.0316 - val_accuracy: 0.8217 - lr: 0.0010 - 71s/epoch - 16ms/step
Epoch 83/100
4378/4378 - 71s - loss: 0.0231 - accuracy: 0.8414 - val_loss: 0.0334 - val_accuracy: 0.8097 - lr: 0.0010 - 71s/epoch - 16ms/step
Epoch 84/100
4378/4378 - 71s - loss: 0.0232 - accuracy: 0.8404 - val_loss: 0.0337 - val_accuracy: 0.8087 - lr: 0.0010 - 71s/epoch - 16ms/step
Epoch 85/100
4378/4378 - 71s - loss: 0.0231 - accuracy: 0.8421 - val_loss: 0.0326 - val_accuracy: 0.8170 - lr: 0.0010 - 71s/epoch - 16ms/step
Epoch 86/100
4378/4378 - 71s - loss: 0.0230 - accuracy: 0.8417 - val_loss: 0.0321 - val_accuracy: 0.8221 - lr: 0.0010 - 71s/epoch - 16ms/step
Epoch 87/100
4378/4378 - 71s - loss: 0.0231 - accuracy: 0.8419 - val_loss: 0.0333 - val_accuracy: 0.8130 - lr: 0.0010 - 71s/epoch - 16ms/step
Epoch 88/100
4378/4378 - 72s - loss: 0.0232 - accuracy: 0.8413 - val_loss: 0.0321 - val_accuracy: 0.8190 - lr: 0.0010 - 72s/epoch - 16ms/step
Epoch 89/100
4378/4378 - 71s - loss: 0.0231 - accuracy: 0.8413 - val_loss: 0.0324 - val_accuracy: 0.8159 - lr: 0.0010 - 71s/epoch - 16ms/step
Epoch 90/100
4378/4378 - 71s - loss: 0.0232 - accuracy: 0.8415 - val_loss: 0.0325 - val_accuracy: 0.8170 - lr: 0.0010 - 71s/epoch - 16ms/step
Epoch 91/100
4378/4378 - 71s - loss: 0.0231 - accuracy: 0.8417 - val_loss: 0.0323 - val_accuracy: 0.8166 - lr: 0.0010 - 71s/epoch - 16ms/step
Epoch 92/100
4378/4378 - 71s - loss: 0.0231 - accuracy: 0.8420 - val_loss: 0.0324 - val_accuracy: 0.8166 - lr: 0.0010 - 71s/epoch - 16ms/step
Epoch 93/100
4378/4378 - 72s - loss: 0.0231 - accuracy: 0.8414 - val_loss: 0.0326 - val_accuracy: 0.8160 - lr: 0.0010 - 72s/epoch - 16ms/step
Epoch 94/100
4378/4378 - 71s - loss: 0.0232 - accuracy: 0.8418 - val_loss: 0.0324 - val_accuracy: 0.8182 - lr: 0.0010 - 71s/epoch - 16ms/step
Epoch 95/100
4378/4378 - 71s - loss: 0.0232 - accuracy: 0.8408 - val_loss: 0.0322 - val_accuracy: 0.8187 - lr: 0.0010 - 71s/epoch - 16ms/step
Epoch 96/100
4378/4378 - 70s - loss: 0.0231 - accuracy: 0.8423 - val_loss: 0.0321 - val_accuracy: 0.8176 - lr: 0.0010 - 70s/epoch - 16ms/step
Epoch 97/100
4378/4378 - 71s - loss: 0.0230 - accuracy: 0.8421 - val_loss: 0.0323 - val_accuracy: 0.8166 - lr: 0.0010 - 71s/epoch - 16ms/step
Epoch 98/100
4378/4378 - 70s - loss: 0.0231 - accuracy: 0.8412 - val_loss: 0.0322 - val_accuracy: 0.8187 - lr: 0.0010 - 70s/epoch - 16ms/step
Epoch 99/100
4378/4378 - 70s - loss: 0.0230 - accuracy: 0.8421 - val_loss: 0.0326 - val_accuracy: 0.8153 - lr: 0.0010 - 70s/epoch - 16ms/step
Epoch 100/100
4378/4378 - 71s - loss: 0.0231 - accuracy: 0.8423 - val_loss: 0.0323 - val_accuracy: 0.8186 - lr: 0.0010 - 71s/epoch - 16ms/step
fitting with batch size: 100
Epoch 1/100
876/876 - 21s - loss: 0.0228 - accuracy: 0.8449 - val_loss: 0.0325 - val_accuracy: 0.8174 - lr: 0.0010 - 21s/epoch - 24ms/step
Epoch 2/100
876/876 - 16s - loss: 0.0227 - accuracy: 0.8455 - val_loss: 0.0328 - val_accuracy: 0.8144 - lr: 0.0010 - 16s/epoch - 19ms/step
Epoch 3/100
876/876 - 16s - loss: 0.0226 - accuracy: 0.8449 - val_loss: 0.0323 - val_accuracy: 0.8170 - lr: 0.0010 - 16s/epoch - 19ms/step
Epoch 4/100
876/876 - 16s - loss: 0.0227 - accuracy: 0.8451 - val_loss: 0.0328 - val_accuracy: 0.8144 - lr: 0.0010 - 16s/epoch - 19ms/step
Epoch 5/100
876/876 - 16s - loss: 0.0227 - accuracy: 0.8449 - val_loss: 0.0327 - val_accuracy: 0.8152 - lr: 0.0010 - 16s/epoch - 18ms/step
Epoch 6/100
876/876 - 16s - loss: 0.0227 - accuracy: 0.8456 - val_loss: 0.0325 - val_accuracy: 0.8171 - lr: 0.0010 - 16s/epoch - 19ms/step
Epoch 7/100
876/876 - 16s - loss: 0.0226 - accuracy: 0.8461 - val_loss: 0.0322 - val_accuracy: 0.8190 - lr: 0.0010 - 16s/epoch - 19ms/step
Epoch 8/100
876/876 - 16s - loss: 0.0226 - accuracy: 0.8457 - val_loss: 0.0328 - val_accuracy: 0.8151 - lr: 0.0010 - 16s/epoch - 19ms/step
Epoch 9/100
876/876 - 16s - loss: 0.0227 - accuracy: 0.8449 - val_loss: 0.0323 - val_accuracy: 0.8180 - lr: 0.0010 - 16s/epoch - 19ms/step
Epoch 10/100
876/876 - 16s - loss: 0.0226 - accuracy: 0.8464 - val_loss: 0.0325 - val_accuracy: 0.8154 - lr: 0.0010 - 16s/epoch - 19ms/step
Epoch 11/100
876/876 - 16s - loss: 0.0227 - accuracy: 0.8457 - val_loss: 0.0327 - val_accuracy: 0.8149 - lr: 0.0010 - 16s/epoch - 19ms/step
Epoch 12/100
876/876 - 16s - loss: 0.0226 - accuracy: 0.8454 - val_loss: 0.0325 - val_accuracy: 0.8148 - lr: 0.0010 - 16s/epoch - 19ms/step
Epoch 13/100
876/876 - 16s - loss: 0.0225 - accuracy: 0.8469 - val_loss: 0.0326 - val_accuracy: 0.8151 - lr: 0.0010 - 16s/epoch - 19ms/step
Epoch 14/100
876/876 - 16s - loss: 0.0226 - accuracy: 0.8461 - val_loss: 0.0323 - val_accuracy: 0.8162 - lr: 0.0010 - 16s/epoch - 19ms/step
Epoch 15/100
876/876 - 16s - loss: 0.0226 - accuracy: 0.8464 - val_loss: 0.0323 - val_accuracy: 0.8168 - lr: 0.0010 - 16s/epoch - 19ms/step
Epoch 16/100
876/876 - 16s - loss: 0.0226 - accuracy: 0.8458 - val_loss: 0.0327 - val_accuracy: 0.8130 - lr: 0.0010 - 16s/epoch - 19ms/step
Epoch 17/100
876/876 - 16s - loss: 0.0226 - accuracy: 0.8463 - val_loss: 0.0330 - val_accuracy: 0.8134 - lr: 0.0010 - 16s/epoch - 19ms/step
Epoch 18/100
876/876 - 16s - loss: 0.0226 - accuracy: 0.8457 - val_loss: 0.0330 - val_accuracy: 0.8123 - lr: 0.0010 - 16s/epoch - 19ms/step
Epoch 19/100
876/876 - 16s - loss: 0.0226 - accuracy: 0.8459 - val_loss: 0.0322 - val_accuracy: 0.8168 - lr: 0.0010 - 16s/epoch - 19ms/step
Epoch 20/100
876/876 - 16s - loss: 0.0226 - accuracy: 0.8464 - val_loss: 0.0323 - val_accuracy: 0.8165 - lr: 0.0010 - 16s/epoch - 19ms/step
Epoch 21/100
876/876 - 16s - loss: 0.0225 - accuracy: 0.8463 - val_loss: 0.0323 - val_accuracy: 0.8163 - lr: 0.0010 - 16s/epoch - 19ms/step
Epoch 22/100
876/876 - 16s - loss: 0.0226 - accuracy: 0.8464 - val_loss: 0.0328 - val_accuracy: 0.8141 - lr: 0.0010 - 16s/epoch - 19ms/step
Epoch 23/100
876/876 - 16s - loss: 0.0225 - accuracy: 0.8472 - val_loss: 0.0328 - val_accuracy: 0.8135 - lr: 0.0010 - 16s/epoch - 19ms/step
Epoch 24/100
876/876 - 16s - loss: 0.0226 - accuracy: 0.8457 - val_loss: 0.0325 - val_accuracy: 0.8152 - lr: 0.0010 - 16s/epoch - 19ms/step
Epoch 25/100
876/876 - 16s - loss: 0.0226 - accuracy: 0.8446 - val_loss: 0.0328 - val_accuracy: 0.8129 - lr: 0.0010 - 16s/epoch - 18ms/step
Epoch 26/100
876/876 - 16s - loss: 0.0226 - accuracy: 0.8454 - val_loss: 0.0321 - val_accuracy: 0.8176 - lr: 0.0010 - 16s/epoch - 19ms/step
Epoch 27/100
876/876 - 16s - loss: 0.0226 - accuracy: 0.8459 - val_loss: 0.0326 - val_accuracy: 0.8157 - lr: 0.0010 - 16s/epoch - 19ms/step
Epoch 28/100
876/876 - 16s - loss: 0.0225 - accuracy: 0.8465 - val_loss: 0.0325 - val_accuracy: 0.8146 - lr: 0.0010 - 16s/epoch - 19ms/step
Epoch 29/100
876/876 - 16s - loss: 0.0226 - accuracy: 0.8457 - val_loss: 0.0326 - val_accuracy: 0.8145 - lr: 0.0010 - 16s/epoch - 19ms/step
Epoch 30/100
876/876 - 16s - loss: 0.0226 - accuracy: 0.8451 - val_loss: 0.0327 - val_accuracy: 0.8133 - lr: 0.0010 - 16s/epoch - 19ms/step
Epoch 31/100
876/876 - 16s - loss: 0.0226 - accuracy: 0.8457 - val_loss: 0.0326 - val_accuracy: 0.8154 - lr: 0.0010 - 16s/epoch - 19ms/step
Epoch 32/100
876/876 - 16s - loss: 0.0225 - accuracy: 0.8464 - val_loss: 0.0325 - val_accuracy: 0.8160 - lr: 0.0010 - 16s/epoch - 19ms/step
Epoch 33/100
876/876 - 16s - loss: 0.0226 - accuracy: 0.8460 - val_loss: 0.0327 - val_accuracy: 0.8129 - lr: 0.0010 - 16s/epoch - 19ms/step
Epoch 34/100
876/876 - 16s - loss: 0.0225 - accuracy: 0.8464 - val_loss: 0.0326 - val_accuracy: 0.8147 - lr: 0.0010 - 16s/epoch - 19ms/step
Epoch 35/100
876/876 - 16s - loss: 0.0227 - accuracy: 0.8449 - val_loss: 0.0326 - val_accuracy: 0.8153 - lr: 0.0010 - 16s/epoch - 19ms/step
Epoch 36/100
876/876 - 16s - loss: 0.0225 - accuracy: 0.8470 - val_loss: 0.0324 - val_accuracy: 0.8150 - lr: 0.0010 - 16s/epoch - 19ms/step
Epoch 37/100
876/876 - 16s - loss: 0.0226 - accuracy: 0.8467 - val_loss: 0.0324 - val_accuracy: 0.8155 - lr: 0.0010 - 16s/epoch - 18ms/step
Epoch 38/100
876/876 - 16s - loss: 0.0225 - accuracy: 0.8458 - val_loss: 0.0326 - val_accuracy: 0.8153 - lr: 0.0010 - 16s/epoch - 19ms/step
Epoch 39/100
876/876 - 16s - loss: 0.0225 - accuracy: 0.8468 - val_loss: 0.0324 - val_accuracy: 0.8168 - lr: 0.0010 - 16s/epoch - 19ms/step
Epoch 40/100
876/876 - 16s - loss: 0.0225 - accuracy: 0.8461 - val_loss: 0.0325 - val_accuracy: 0.8140 - lr: 0.0010 - 16s/epoch - 18ms/step
Epoch 41/100
876/876 - 16s - loss: 0.0225 - accuracy: 0.8466 - val_loss: 0.0325 - val_accuracy: 0.8150 - lr: 0.0010 - 16s/epoch - 19ms/step
Epoch 42/100
876/876 - 16s - loss: 0.0226 - accuracy: 0.8451 - val_loss: 0.0324 - val_accuracy: 0.8148 - lr: 0.0010 - 16s/epoch - 19ms/step
Epoch 43/100
876/876 - 16s - loss: 0.0227 - accuracy: 0.8448 - val_loss: 0.0326 - val_accuracy: 0.8149 - lr: 0.0010 - 16s/epoch - 19ms/step
Epoch 44/100
876/876 - 16s - loss: 0.0225 - accuracy: 0.8465 - val_loss: 0.0328 - val_accuracy: 0.8134 - lr: 0.0010 - 16s/epoch - 19ms/step
Epoch 45/100
876/876 - 16s - loss: 0.0225 - accuracy: 0.8457 - val_loss: 0.0325 - val_accuracy: 0.8154 - lr: 0.0010 - 16s/epoch - 19ms/step
Epoch 46/100
876/876 - 16s - loss: 0.0226 - accuracy: 0.8454 - val_loss: 0.0320 - val_accuracy: 0.8173 - lr: 0.0010 - 16s/epoch - 19ms/step
Epoch 47/100
876/876 - 16s - loss: 0.0226 - accuracy: 0.8453 - val_loss: 0.0326 - val_accuracy: 0.8133 - lr: 0.0010 - 16s/epoch - 19ms/step
Epoch 48/100
876/876 - 16s - loss: 0.0225 - accuracy: 0.8466 - val_loss: 0.0329 - val_accuracy: 0.8125 - lr: 0.0010 - 16s/epoch - 19ms/step
Epoch 49/100
876/876 - 16s - loss: 0.0226 - accuracy: 0.8465 - val_loss: 0.0326 - val_accuracy: 0.8135 - lr: 0.0010 - 16s/epoch - 19ms/step
Epoch 50/100
876/876 - 16s - loss: 0.0225 - accuracy: 0.8470 - val_loss: 0.0323 - val_accuracy: 0.8151 - lr: 0.0010 - 16s/epoch - 19ms/step
Epoch 51/100
876/876 - 16s - loss: 0.0224 - accuracy: 0.8482 - val_loss: 0.0324 - val_accuracy: 0.8155 - lr: 0.0010 - 16s/epoch - 19ms/step
Epoch 52/100
876/876 - 16s - loss: 0.0225 - accuracy: 0.8460 - val_loss: 0.0328 - val_accuracy: 0.8125 - lr: 0.0010 - 16s/epoch - 19ms/step
Epoch 53/100
876/876 - 16s - loss: 0.0225 - accuracy: 0.8468 - val_loss: 0.0326 - val_accuracy: 0.8145 - lr: 0.0010 - 16s/epoch - 19ms/step
Epoch 54/100
876/876 - 16s - loss: 0.0226 - accuracy: 0.8466 - val_loss: 0.0325 - val_accuracy: 0.8139 - lr: 0.0010 - 16s/epoch - 19ms/step
Epoch 55/100
876/876 - 16s - loss: 0.0226 - accuracy: 0.8457 - val_loss: 0.0324 - val_accuracy: 0.8155 - lr: 0.0010 - 16s/epoch - 19ms/step
Epoch 56/100
876/876 - 16s - loss: 0.0227 - accuracy: 0.8461 - val_loss: 0.0327 - val_accuracy: 0.8134 - lr: 0.0010 - 16s/epoch - 18ms/step
Epoch 57/100
876/876 - 16s - loss: 0.0225 - accuracy: 0.8465 - val_loss: 0.0328 - val_accuracy: 0.8126 - lr: 0.0010 - 16s/epoch - 19ms/step
Epoch 58/100
876/876 - 16s - loss: 0.0226 - accuracy: 0.8466 - val_loss: 0.0322 - val_accuracy: 0.8175 - lr: 0.0010 - 16s/epoch - 19ms/step
Epoch 59/100
876/876 - 16s - loss: 0.0224 - accuracy: 0.8466 - val_loss: 0.0326 - val_accuracy: 0.8138 - lr: 0.0010 - 16s/epoch - 19ms/step
Epoch 60/100
876/876 - 16s - loss: 0.0225 - accuracy: 0.8476 - val_loss: 0.0327 - val_accuracy: 0.8140 - lr: 0.0010 - 16s/epoch - 19ms/step
Epoch 61/100
876/876 - 16s - loss: 0.0225 - accuracy: 0.8466 - val_loss: 0.0327 - val_accuracy: 0.8133 - lr: 0.0010 - 16s/epoch - 19ms/step
Epoch 62/100
876/876 - 16s - loss: 0.0225 - accuracy: 0.8466 - val_loss: 0.0326 - val_accuracy: 0.8156 - lr: 0.0010 - 16s/epoch - 19ms/step
Epoch 63/100
876/876 - 16s - loss: 0.0225 - accuracy: 0.8463 - val_loss: 0.0327 - val_accuracy: 0.8146 - lr: 0.0010 - 16s/epoch - 19ms/step
Epoch 64/100
876/876 - 16s - loss: 0.0226 - accuracy: 0.8460 - val_loss: 0.0328 - val_accuracy: 0.8133 - lr: 0.0010 - 16s/epoch - 19ms/step
Epoch 65/100
876/876 - 16s - loss: 0.0225 - accuracy: 0.8467 - val_loss: 0.0323 - val_accuracy: 0.8157 - lr: 0.0010 - 16s/epoch - 19ms/step
Epoch 66/100
876/876 - 16s - loss: 0.0225 - accuracy: 0.8466 - val_loss: 0.0324 - val_accuracy: 0.8152 - lr: 0.0010 - 16s/epoch - 19ms/step
Epoch 67/100
876/876 - 16s - loss: 0.0225 - accuracy: 0.8471 - val_loss: 0.0328 - val_accuracy: 0.8128 - lr: 0.0010 - 16s/epoch - 19ms/step
Epoch 68/100
876/876 - 16s - loss: 0.0225 - accuracy: 0.8469 - val_loss: 0.0328 - val_accuracy: 0.8144 - lr: 0.0010 - 16s/epoch - 19ms/step
Epoch 69/100
876/876 - 16s - loss: 0.0225 - accuracy: 0.8467 - val_loss: 0.0324 - val_accuracy: 0.8153 - lr: 0.0010 - 16s/epoch - 19ms/step
Epoch 70/100
876/876 - 16s - loss: 0.0226 - accuracy: 0.8456 - val_loss: 0.0325 - val_accuracy: 0.8156 - lr: 0.0010 - 16s/epoch - 19ms/step
Epoch 71/100
876/876 - 16s - loss: 0.0226 - accuracy: 0.8456 - val_loss: 0.0325 - val_accuracy: 0.8150 - lr: 0.0010 - 16s/epoch - 19ms/step
Epoch 72/100
876/876 - 16s - loss: 0.0226 - accuracy: 0.8458 - val_loss: 0.0321 - val_accuracy: 0.8181 - lr: 0.0010 - 16s/epoch - 19ms/step
Epoch 73/100
876/876 - 16s - loss: 0.0224 - accuracy: 0.8465 - val_loss: 0.0326 - val_accuracy: 0.8146 - lr: 0.0010 - 16s/epoch - 19ms/step
Epoch 74/100
876/876 - 16s - loss: 0.0225 - accuracy: 0.8463 - val_loss: 0.0325 - val_accuracy: 0.8138 - lr: 0.0010 - 16s/epoch - 19ms/step
Epoch 75/100
876/876 - 16s - loss: 0.0225 - accuracy: 0.8464 - val_loss: 0.0327 - val_accuracy: 0.8127 - lr: 0.0010 - 16s/epoch - 19ms/step
Epoch 76/100
876/876 - 16s - loss: 0.0224 - accuracy: 0.8473 - val_loss: 0.0324 - val_accuracy: 0.8159 - lr: 0.0010 - 16s/epoch - 19ms/step
Epoch 77/100
876/876 - 16s - loss: 0.0225 - accuracy: 0.8467 - val_loss: 0.0325 - val_accuracy: 0.8150 - lr: 0.0010 - 16s/epoch - 19ms/step
Epoch 78/100
876/876 - 16s - loss: 0.0226 - accuracy: 0.8454 - val_loss: 0.0327 - val_accuracy: 0.8129 - lr: 0.0010 - 16s/epoch - 19ms/step
Epoch 79/100
876/876 - 16s - loss: 0.0225 - accuracy: 0.8468 - val_loss: 0.0327 - val_accuracy: 0.8140 - lr: 0.0010 - 16s/epoch - 19ms/step
Epoch 80/100
876/876 - 16s - loss: 0.0225 - accuracy: 0.8471 - val_loss: 0.0322 - val_accuracy: 0.8167 - lr: 0.0010 - 16s/epoch - 19ms/step
Epoch 81/100
876/876 - 16s - loss: 0.0225 - accuracy: 0.8467 - val_loss: 0.0327 - val_accuracy: 0.8133 - lr: 0.0010 - 16s/epoch - 19ms/step
Epoch 82/100
876/876 - 16s - loss: 0.0226 - accuracy: 0.8465 - val_loss: 0.0329 - val_accuracy: 0.8120 - lr: 0.0010 - 16s/epoch - 19ms/step
Epoch 83/100
876/876 - 16s - loss: 0.0224 - accuracy: 0.8475 - val_loss: 0.0325 - val_accuracy: 0.8163 - lr: 0.0010 - 16s/epoch - 19ms/step
Epoch 84/100
876/876 - 16s - loss: 0.0225 - accuracy: 0.8475 - val_loss: 0.0324 - val_accuracy: 0.8148 - lr: 0.0010 - 16s/epoch - 19ms/step
Epoch 85/100
876/876 - 16s - loss: 0.0225 - accuracy: 0.8468 - val_loss: 0.0329 - val_accuracy: 0.8130 - lr: 0.0010 - 16s/epoch - 19ms/step
Epoch 86/100
876/876 - 16s - loss: 0.0226 - accuracy: 0.8456 - val_loss: 0.0326 - val_accuracy: 0.8143 - lr: 0.0010 - 16s/epoch - 19ms/step
Epoch 87/100
876/876 - 16s - loss: 0.0224 - accuracy: 0.8477 - val_loss: 0.0326 - val_accuracy: 0.8139 - lr: 0.0010 - 16s/epoch - 19ms/step
Epoch 88/100
876/876 - 16s - loss: 0.0224 - accuracy: 0.8482 - val_loss: 0.0325 - val_accuracy: 0.8151 - lr: 0.0010 - 16s/epoch - 19ms/step
Epoch 89/100
876/876 - 16s - loss: 0.0226 - accuracy: 0.8459 - val_loss: 0.0325 - val_accuracy: 0.8156 - lr: 0.0010 - 16s/epoch - 19ms/step
Epoch 90/100
876/876 - 16s - loss: 0.0225 - accuracy: 0.8472 - val_loss: 0.0325 - val_accuracy: 0.8150 - lr: 0.0010 - 16s/epoch - 19ms/step
Epoch 91/100
876/876 - 16s - loss: 0.0225 - accuracy: 0.8466 - val_loss: 0.0325 - val_accuracy: 0.8153 - lr: 0.0010 - 16s/epoch - 19ms/step
Epoch 92/100
876/876 - 16s - loss: 0.0225 - accuracy: 0.8473 - val_loss: 0.0325 - val_accuracy: 0.8160 - lr: 0.0010 - 16s/epoch - 19ms/step
Epoch 93/100
876/876 - 16s - loss: 0.0224 - accuracy: 0.8474 - val_loss: 0.0325 - val_accuracy: 0.8156 - lr: 0.0010 - 16s/epoch - 19ms/step
Epoch 94/100
876/876 - 16s - loss: 0.0225 - accuracy: 0.8470 - val_loss: 0.0321 - val_accuracy: 0.8177 - lr: 0.0010 - 16s/epoch - 19ms/step
Epoch 95/100
876/876 - 16s - loss: 0.0225 - accuracy: 0.8458 - val_loss: 0.0328 - val_accuracy: 0.8123 - lr: 0.0010 - 16s/epoch - 19ms/step
Epoch 96/100
876/876 - 16s - loss: 0.0224 - accuracy: 0.8483 - val_loss: 0.0323 - val_accuracy: 0.8165 - lr: 0.0010 - 16s/epoch - 19ms/step
Epoch 97/100
876/876 - 16s - loss: 0.0224 - accuracy: 0.8476 - val_loss: 0.0324 - val_accuracy: 0.8155 - lr: 0.0010 - 16s/epoch - 19ms/step
Epoch 98/100
876/876 - 16s - loss: 0.0225 - accuracy: 0.8470 - val_loss: 0.0324 - val_accuracy: 0.8160 - lr: 0.0010 - 16s/epoch - 19ms/step
Epoch 99/100
876/876 - 16s - loss: 0.0224 - accuracy: 0.8480 - val_loss: 0.0327 - val_accuracy: 0.8131 - lr: 0.0010 - 16s/epoch - 19ms/step
Epoch 100/100
876/876 - 16s - loss: 0.0224 - accuracy: 0.8473 - val_loss: 0.0323 - val_accuracy: 0.8166 - lr: 0.0010 - 16s/epoch - 19ms/step
fitting with batch size: 500
Epoch 1/100
176/176 - 11s - loss: 0.0224 - accuracy: 0.8474 - val_loss: 0.0325 - val_accuracy: 0.8147 - lr: 0.0010 - 11s/epoch - 60ms/step
Epoch 2/100
176/176 - 8s - loss: 0.0224 - accuracy: 0.8476 - val_loss: 0.0326 - val_accuracy: 0.8139 - lr: 0.0010 - 8s/epoch - 48ms/step
Epoch 3/100
176/176 - 8s - loss: 0.0225 - accuracy: 0.8472 - val_loss: 0.0326 - val_accuracy: 0.8138 - lr: 0.0010 - 8s/epoch - 48ms/step
Epoch 4/100
176/176 - 8s - loss: 0.0225 - accuracy: 0.8467 - val_loss: 0.0324 - val_accuracy: 0.8152 - lr: 0.0010 - 8s/epoch - 48ms/step
Epoch 5/100
176/176 - 8s - loss: 0.0224 - accuracy: 0.8473 - val_loss: 0.0325 - val_accuracy: 0.8145 - lr: 0.0010 - 8s/epoch - 48ms/step
Epoch 6/100
176/176 - 8s - loss: 0.0224 - accuracy: 0.8475 - val_loss: 0.0326 - val_accuracy: 0.8139 - lr: 0.0010 - 8s/epoch - 48ms/step
Epoch 7/100
176/176 - 8s - loss: 0.0224 - accuracy: 0.8475 - val_loss: 0.0325 - val_accuracy: 0.8148 - lr: 0.0010 - 8s/epoch - 48ms/step
Epoch 8/100
176/176 - 8s - loss: 0.0224 - accuracy: 0.8471 - val_loss: 0.0325 - val_accuracy: 0.8143 - lr: 0.0010 - 8s/epoch - 48ms/step
Epoch 9/100
176/176 - 8s - loss: 0.0224 - accuracy: 0.8474 - val_loss: 0.0327 - val_accuracy: 0.8129 - lr: 0.0010 - 8s/epoch - 48ms/step
Epoch 10/100
176/176 - 8s - loss: 0.0224 - accuracy: 0.8473 - val_loss: 0.0326 - val_accuracy: 0.8140 - lr: 0.0010 - 8s/epoch - 48ms/step
Epoch 11/100
176/176 - 8s - loss: 0.0224 - accuracy: 0.8475 - val_loss: 0.0327 - val_accuracy: 0.8127 - lr: 0.0010 - 8s/epoch - 48ms/step
Epoch 12/100
176/176 - 8s - loss: 0.0225 - accuracy: 0.8467 - val_loss: 0.0326 - val_accuracy: 0.8140 - lr: 0.0010 - 8s/epoch - 48ms/step
Epoch 13/100
176/176 - 8s - loss: 0.0223 - accuracy: 0.8483 - val_loss: 0.0325 - val_accuracy: 0.8138 - lr: 0.0010 - 8s/epoch - 48ms/step
Epoch 14/100
176/176 - 8s - loss: 0.0225 - accuracy: 0.8468 - val_loss: 0.0326 - val_accuracy: 0.8139 - lr: 0.0010 - 8s/epoch - 48ms/step
Epoch 15/100
176/176 - 8s - loss: 0.0224 - accuracy: 0.8470 - val_loss: 0.0325 - val_accuracy: 0.8143 - lr: 0.0010 - 8s/epoch - 48ms/step
Epoch 16/100
176/176 - 8s - loss: 0.0224 - accuracy: 0.8477 - val_loss: 0.0327 - val_accuracy: 0.8131 - lr: 0.0010 - 8s/epoch - 48ms/step
Epoch 17/100
176/176 - 8s - loss: 0.0224 - accuracy: 0.8481 - val_loss: 0.0326 - val_accuracy: 0.8137 - lr: 0.0010 - 8s/epoch - 48ms/step
Epoch 18/100
176/176 - 8s - loss: 0.0224 - accuracy: 0.8480 - val_loss: 0.0327 - val_accuracy: 0.8130 - lr: 0.0010 - 8s/epoch - 48ms/step
Epoch 19/100
176/176 - 8s - loss: 0.0225 - accuracy: 0.8470 - val_loss: 0.0326 - val_accuracy: 0.8137 - lr: 0.0010 - 8s/epoch - 48ms/step
Epoch 20/100
176/176 - 8s - loss: 0.0224 - accuracy: 0.8472 - val_loss: 0.0326 - val_accuracy: 0.8137 - lr: 0.0010 - 8s/epoch - 48ms/step
Epoch 21/100
176/176 - 8s - loss: 0.0224 - accuracy: 0.8472 - val_loss: 0.0326 - val_accuracy: 0.8138 - lr: 0.0010 - 8s/epoch - 48ms/step
Epoch 22/100
176/176 - 8s - loss: 0.0224 - accuracy: 0.8477 - val_loss: 0.0324 - val_accuracy: 0.8148 - lr: 0.0010 - 8s/epoch - 48ms/step
Epoch 23/100
176/176 - 8s - loss: 0.0224 - accuracy: 0.8473 - val_loss: 0.0323 - val_accuracy: 0.8152 - lr: 0.0010 - 8s/epoch - 48ms/step
Epoch 24/100
176/176 - 8s - loss: 0.0224 - accuracy: 0.8474 - val_loss: 0.0326 - val_accuracy: 0.8140 - lr: 0.0010 - 8s/epoch - 48ms/step
Epoch 25/100
176/176 - 8s - loss: 0.0224 - accuracy: 0.8470 - val_loss: 0.0327 - val_accuracy: 0.8131 - lr: 0.0010 - 8s/epoch - 48ms/step
Epoch 26/100
176/176 - 8s - loss: 0.0223 - accuracy: 0.8481 - val_loss: 0.0326 - val_accuracy: 0.8140 - lr: 0.0010 - 8s/epoch - 48ms/step
Epoch 27/100
176/176 - 8s - loss: 0.0223 - accuracy: 0.8488 - val_loss: 0.0325 - val_accuracy: 0.8147 - lr: 0.0010 - 8s/epoch - 48ms/step
Epoch 28/100
176/176 - 8s - loss: 0.0224 - accuracy: 0.8477 - val_loss: 0.0325 - val_accuracy: 0.8141 - lr: 0.0010 - 8s/epoch - 48ms/step
Epoch 29/100
176/176 - 8s - loss: 0.0223 - accuracy: 0.8487 - val_loss: 0.0326 - val_accuracy: 0.8138 - lr: 0.0010 - 8s/epoch - 48ms/step
Epoch 30/100
176/176 - 8s - loss: 0.0224 - accuracy: 0.8471 - val_loss: 0.0327 - val_accuracy: 0.8133 - lr: 0.0010 - 8s/epoch - 48ms/step
Epoch 31/100
176/176 - 8s - loss: 0.0223 - accuracy: 0.8476 - val_loss: 0.0326 - val_accuracy: 0.8145 - lr: 0.0010 - 8s/epoch - 48ms/step
Epoch 32/100
176/176 - 8s - loss: 0.0224 - accuracy: 0.8473 - val_loss: 0.0325 - val_accuracy: 0.8141 - lr: 0.0010 - 8s/epoch - 48ms/step
Epoch 33/100
176/176 - 8s - loss: 0.0224 - accuracy: 0.8472 - val_loss: 0.0326 - val_accuracy: 0.8143 - lr: 0.0010 - 8s/epoch - 48ms/step
Epoch 34/100
176/176 - 8s - loss: 0.0224 - accuracy: 0.8478 - val_loss: 0.0324 - val_accuracy: 0.8149 - lr: 0.0010 - 8s/epoch - 48ms/step
Epoch 35/100
176/176 - 8s - loss: 0.0225 - accuracy: 0.8471 - val_loss: 0.0326 - val_accuracy: 0.8140 - lr: 0.0010 - 8s/epoch - 48ms/step
Epoch 36/100
176/176 - 8s - loss: 0.0223 - accuracy: 0.8490 - val_loss: 0.0325 - val_accuracy: 0.8142 - lr: 0.0010 - 8s/epoch - 48ms/step
Epoch 37/100
176/176 - 8s - loss: 0.0224 - accuracy: 0.8471 - val_loss: 0.0326 - val_accuracy: 0.8135 - lr: 0.0010 - 8s/epoch - 48ms/step
Epoch 38/100
176/176 - 8s - loss: 0.0224 - accuracy: 0.8470 - val_loss: 0.0327 - val_accuracy: 0.8133 - lr: 0.0010 - 8s/epoch - 48ms/step
Epoch 39/100
176/176 - 8s - loss: 0.0223 - accuracy: 0.8484 - val_loss: 0.0327 - val_accuracy: 0.8134 - lr: 0.0010 - 8s/epoch - 48ms/step
Epoch 40/100
176/176 - 8s - loss: 0.0224 - accuracy: 0.8475 - val_loss: 0.0327 - val_accuracy: 0.8133 - lr: 0.0010 - 8s/epoch - 48ms/step
Epoch 41/100
176/176 - 8s - loss: 0.0224 - accuracy: 0.8469 - val_loss: 0.0327 - val_accuracy: 0.8131 - lr: 0.0010 - 8s/epoch - 48ms/step
Epoch 42/100
176/176 - 8s - loss: 0.0223 - accuracy: 0.8488 - val_loss: 0.0325 - val_accuracy: 0.8142 - lr: 0.0010 - 8s/epoch - 48ms/step
Epoch 43/100
176/176 - 8s - loss: 0.0224 - accuracy: 0.8475 - val_loss: 0.0325 - val_accuracy: 0.8147 - lr: 0.0010 - 8s/epoch - 48ms/step
Epoch 44/100
176/176 - 8s - loss: 0.0223 - accuracy: 0.8487 - val_loss: 0.0324 - val_accuracy: 0.8149 - lr: 0.0010 - 8s/epoch - 48ms/step
Epoch 45/100
176/176 - 8s - loss: 0.0224 - accuracy: 0.8479 - val_loss: 0.0325 - val_accuracy: 0.8148 - lr: 0.0010 - 8s/epoch - 48ms/step
Epoch 46/100
176/176 - 8s - loss: 0.0223 - accuracy: 0.8475 - val_loss: 0.0327 - val_accuracy: 0.8133 - lr: 0.0010 - 8s/epoch - 48ms/step
Epoch 47/100
176/176 - 8s - loss: 0.0224 - accuracy: 0.8483 - val_loss: 0.0328 - val_accuracy: 0.8122 - lr: 0.0010 - 8s/epoch - 48ms/step
Epoch 48/100
176/176 - 8s - loss: 0.0223 - accuracy: 0.8489 - val_loss: 0.0326 - val_accuracy: 0.8139 - lr: 0.0010 - 8s/epoch - 48ms/step
Epoch 49/100
176/176 - 8s - loss: 0.0223 - accuracy: 0.8475 - val_loss: 0.0327 - val_accuracy: 0.8138 - lr: 0.0010 - 8s/epoch - 48ms/step
Epoch 50/100
176/176 - 8s - loss: 0.0224 - accuracy: 0.8475 - val_loss: 0.0327 - val_accuracy: 0.8134 - lr: 0.0010 - 8s/epoch - 48ms/step
Epoch 51/100
176/176 - 8s - loss: 0.0223 - accuracy: 0.8485 - val_loss: 0.0325 - val_accuracy: 0.8149 - lr: 0.0010 - 8s/epoch - 48ms/step
Epoch 52/100
176/176 - 8s - loss: 0.0224 - accuracy: 0.8472 - val_loss: 0.0326 - val_accuracy: 0.8140 - lr: 0.0010 - 8s/epoch - 48ms/step
Epoch 53/100
176/176 - 8s - loss: 0.0223 - accuracy: 0.8486 - val_loss: 0.0326 - val_accuracy: 0.8133 - lr: 0.0010 - 8s/epoch - 48ms/step
Epoch 54/100
176/176 - 8s - loss: 0.0224 - accuracy: 0.8484 - val_loss: 0.0326 - val_accuracy: 0.8139 - lr: 0.0010 - 8s/epoch - 48ms/step
Epoch 55/100
176/176 - 8s - loss: 0.0224 - accuracy: 0.8470 - val_loss: 0.0327 - val_accuracy: 0.8135 - lr: 0.0010 - 8s/epoch - 48ms/step
Epoch 56/100
176/176 - 8s - loss: 0.0224 - accuracy: 0.8478 - val_loss: 0.0326 - val_accuracy: 0.8137 - lr: 0.0010 - 8s/epoch - 48ms/step
Epoch 57/100
176/176 - 8s - loss: 0.0224 - accuracy: 0.8476 - val_loss: 0.0326 - val_accuracy: 0.8144 - lr: 0.0010 - 8s/epoch - 48ms/step
Epoch 58/100
176/176 - 8s - loss: 0.0224 - accuracy: 0.8480 - val_loss: 0.0325 - val_accuracy: 0.8149 - lr: 0.0010 - 8s/epoch - 48ms/step
Epoch 59/100
176/176 - 8s - loss: 0.0225 - accuracy: 0.8468 - val_loss: 0.0325 - val_accuracy: 0.8143 - lr: 0.0010 - 8s/epoch - 48ms/step
Epoch 60/100
176/176 - 8s - loss: 0.0225 - accuracy: 0.8471 - val_loss: 0.0325 - val_accuracy: 0.8148 - lr: 0.0010 - 8s/epoch - 48ms/step
Epoch 61/100
176/176 - 8s - loss: 0.0224 - accuracy: 0.8476 - val_loss: 0.0326 - val_accuracy: 0.8141 - lr: 0.0010 - 8s/epoch - 48ms/step
Epoch 62/100
176/176 - 8s - loss: 0.0224 - accuracy: 0.8485 - val_loss: 0.0327 - val_accuracy: 0.8134 - lr: 0.0010 - 8s/epoch - 48ms/step
Epoch 63/100
176/176 - 8s - loss: 0.0224 - accuracy: 0.8476 - val_loss: 0.0327 - val_accuracy: 0.8135 - lr: 0.0010 - 8s/epoch - 48ms/step
Epoch 64/100
176/176 - 8s - loss: 0.0224 - accuracy: 0.8479 - val_loss: 0.0326 - val_accuracy: 0.8131 - lr: 0.0010 - 8s/epoch - 48ms/step
Epoch 65/100
176/176 - 8s - loss: 0.0224 - accuracy: 0.8469 - val_loss: 0.0326 - val_accuracy: 0.8140 - lr: 0.0010 - 8s/epoch - 48ms/step
Epoch 66/100
176/176 - 8s - loss: 0.0224 - accuracy: 0.8472 - val_loss: 0.0326 - val_accuracy: 0.8136 - lr: 0.0010 - 8s/epoch - 48ms/step
Epoch 67/100
176/176 - 8s - loss: 0.0224 - accuracy: 0.8477 - val_loss: 0.0327 - val_accuracy: 0.8132 - lr: 0.0010 - 8s/epoch - 48ms/step
Epoch 68/100
176/176 - 8s - loss: 0.0224 - accuracy: 0.8483 - val_loss: 0.0326 - val_accuracy: 0.8141 - lr: 0.0010 - 8s/epoch - 48ms/step
Epoch 69/100
176/176 - 8s - loss: 0.0222 - accuracy: 0.8490 - val_loss: 0.0326 - val_accuracy: 0.8137 - lr: 0.0010 - 8s/epoch - 48ms/step
Epoch 70/100
176/176 - 8s - loss: 0.0223 - accuracy: 0.8490 - val_loss: 0.0325 - val_accuracy: 0.8147 - lr: 0.0010 - 8s/epoch - 48ms/step
Epoch 71/100
176/176 - 8s - loss: 0.0224 - accuracy: 0.8480 - val_loss: 0.0325 - val_accuracy: 0.8139 - lr: 0.0010 - 8s/epoch - 48ms/step
Epoch 72/100
176/176 - 8s - loss: 0.0224 - accuracy: 0.8477 - val_loss: 0.0326 - val_accuracy: 0.8139 - lr: 0.0010 - 8s/epoch - 48ms/step
Epoch 73/100
176/176 - 8s - loss: 0.0223 - accuracy: 0.8474 - val_loss: 0.0327 - val_accuracy: 0.8137 - lr: 0.0010 - 8s/epoch - 48ms/step
Epoch 74/100
176/176 - 8s - loss: 0.0224 - accuracy: 0.8476 - val_loss: 0.0326 - val_accuracy: 0.8141 - lr: 0.0010 - 8s/epoch - 48ms/step
Epoch 75/100
176/176 - 8s - loss: 0.0224 - accuracy: 0.8475 - val_loss: 0.0328 - val_accuracy: 0.8131 - lr: 0.0010 - 8s/epoch - 48ms/step
Epoch 76/100
176/176 - 8s - loss: 0.0224 - accuracy: 0.8471 - val_loss: 0.0326 - val_accuracy: 0.8136 - lr: 0.0010 - 8s/epoch - 48ms/step
Epoch 77/100
176/176 - 8s - loss: 0.0223 - accuracy: 0.8489 - val_loss: 0.0325 - val_accuracy: 0.8140 - lr: 0.0010 - 8s/epoch - 48ms/step
Epoch 78/100
176/176 - 8s - loss: 0.0224 - accuracy: 0.8474 - val_loss: 0.0327 - val_accuracy: 0.8137 - lr: 0.0010 - 8s/epoch - 48ms/step
Epoch 79/100
176/176 - 8s - loss: 0.0223 - accuracy: 0.8491 - val_loss: 0.0327 - val_accuracy: 0.8133 - lr: 0.0010 - 8s/epoch - 48ms/step
Epoch 80/100
176/176 - 8s - loss: 0.0224 - accuracy: 0.8481 - val_loss: 0.0324 - val_accuracy: 0.8148 - lr: 0.0010 - 8s/epoch - 48ms/step
Epoch 81/100
176/176 - 8s - loss: 0.0223 - accuracy: 0.8479 - val_loss: 0.0325 - val_accuracy: 0.8145 - lr: 0.0010 - 8s/epoch - 48ms/step
Epoch 82/100
176/176 - 8s - loss: 0.0224 - accuracy: 0.8477 - val_loss: 0.0325 - val_accuracy: 0.8146 - lr: 0.0010 - 8s/epoch - 48ms/step
Epoch 83/100
176/176 - 8s - loss: 0.0223 - accuracy: 0.8479 - val_loss: 0.0324 - val_accuracy: 0.8151 - lr: 0.0010 - 8s/epoch - 48ms/step
Epoch 84/100
176/176 - 8s - loss: 0.0225 - accuracy: 0.8476 - val_loss: 0.0326 - val_accuracy: 0.8139 - lr: 0.0010 - 8s/epoch - 48ms/step
Epoch 85/100
176/176 - 8s - loss: 0.0224 - accuracy: 0.8474 - val_loss: 0.0326 - val_accuracy: 0.8144 - lr: 0.0010 - 8s/epoch - 48ms/step
Epoch 86/100
176/176 - 8s - loss: 0.0224 - accuracy: 0.8473 - val_loss: 0.0325 - val_accuracy: 0.8147 - lr: 0.0010 - 8s/epoch - 48ms/step
Epoch 87/100
176/176 - 8s - loss: 0.0224 - accuracy: 0.8476 - val_loss: 0.0325 - val_accuracy: 0.8146 - lr: 0.0010 - 8s/epoch - 48ms/step
Epoch 88/100
176/176 - 8s - loss: 0.0223 - accuracy: 0.8490 - val_loss: 0.0327 - val_accuracy: 0.8138 - lr: 0.0010 - 8s/epoch - 48ms/step
Epoch 89/100
176/176 - 8s - loss: 0.0224 - accuracy: 0.8478 - val_loss: 0.0327 - val_accuracy: 0.8138 - lr: 0.0010 - 8s/epoch - 48ms/step
Epoch 90/100
176/176 - 8s - loss: 0.0223 - accuracy: 0.8485 - val_loss: 0.0325 - val_accuracy: 0.8140 - lr: 0.0010 - 8s/epoch - 48ms/step
Epoch 91/100
176/176 - 8s - loss: 0.0224 - accuracy: 0.8475 - val_loss: 0.0325 - val_accuracy: 0.8149 - lr: 0.0010 - 8s/epoch - 48ms/step
Epoch 92/100
176/176 - 8s - loss: 0.0224 - accuracy: 0.8479 - val_loss: 0.0325 - val_accuracy: 0.8145 - lr: 0.0010 - 8s/epoch - 48ms/step
Epoch 93/100
176/176 - 8s - loss: 0.0225 - accuracy: 0.8471 - val_loss: 0.0326 - val_accuracy: 0.8136 - lr: 0.0010 - 8s/epoch - 48ms/step
Epoch 94/100
176/176 - 8s - loss: 0.0223 - accuracy: 0.8486 - val_loss: 0.0325 - val_accuracy: 0.8144 - lr: 0.0010 - 8s/epoch - 48ms/step
Epoch 95/100
176/176 - 8s - loss: 0.0224 - accuracy: 0.8477 - val_loss: 0.0326 - val_accuracy: 0.8138 - lr: 0.0010 - 8s/epoch - 48ms/step
Epoch 96/100
176/176 - 8s - loss: 0.0224 - accuracy: 0.8473 - val_loss: 0.0326 - val_accuracy: 0.8136 - lr: 0.0010 - 8s/epoch - 48ms/step
Epoch 97/100
176/176 - 8s - loss: 0.0223 - accuracy: 0.8484 - val_loss: 0.0325 - val_accuracy: 0.8139 - lr: 0.0010 - 8s/epoch - 48ms/step
Epoch 98/100
176/176 - 8s - loss: 0.0224 - accuracy: 0.8478 - val_loss: 0.0327 - val_accuracy: 0.8131 - lr: 0.0010 - 8s/epoch - 48ms/step
Epoch 99/100
176/176 - 8s - loss: 0.0223 - accuracy: 0.8486 - val_loss: 0.0327 - val_accuracy: 0.8136 - lr: 0.0010 - 8s/epoch - 48ms/step
Epoch 100/100
176/176 - 8s - loss: 0.0224 - accuracy: 0.8482 - val_loss: 0.0327 - val_accuracy: 0.8136 - lr: 0.0010 - 8s/epoch - 48ms/step
fitting with batch size: 1500
Epoch 1/100
59/59 - 10s - loss: 0.0223 - accuracy: 0.8486 - val_loss: 0.0326 - val_accuracy: 0.8136 - lr: 0.0010 - 10s/epoch - 162ms/step
Epoch 2/100
59/59 - 7s - loss: 0.0222 - accuracy: 0.8500 - val_loss: 0.0326 - val_accuracy: 0.8137 - lr: 0.0010 - 7s/epoch - 126ms/step
Epoch 3/100
59/59 - 7s - loss: 0.0223 - accuracy: 0.8485 - val_loss: 0.0326 - val_accuracy: 0.8134 - lr: 0.0010 - 7s/epoch - 126ms/step
Epoch 4/100
59/59 - 7s - loss: 0.0225 - accuracy: 0.8476 - val_loss: 0.0326 - val_accuracy: 0.8136 - lr: 0.0010 - 7s/epoch - 126ms/step
Epoch 5/100
59/59 - 7s - loss: 0.0224 - accuracy: 0.8487 - val_loss: 0.0326 - val_accuracy: 0.8136 - lr: 0.0010 - 7s/epoch - 126ms/step
Epoch 6/100
59/59 - 7s - loss: 0.0223 - accuracy: 0.8487 - val_loss: 0.0326 - val_accuracy: 0.8135 - lr: 0.0010 - 7s/epoch - 126ms/step
Epoch 7/100
59/59 - 7s - loss: 0.0223 - accuracy: 0.8488 - val_loss: 0.0326 - val_accuracy: 0.8139 - lr: 0.0010 - 7s/epoch - 126ms/step
Epoch 8/100
59/59 - 7s - loss: 0.0223 - accuracy: 0.8487 - val_loss: 0.0325 - val_accuracy: 0.8140 - lr: 0.0010 - 7s/epoch - 126ms/step
Epoch 9/100
59/59 - 7s - loss: 0.0224 - accuracy: 0.8468 - val_loss: 0.0326 - val_accuracy: 0.8138 - lr: 0.0010 - 7s/epoch - 126ms/step
Epoch 10/100
59/59 - 7s - loss: 0.0223 - accuracy: 0.8478 - val_loss: 0.0326 - val_accuracy: 0.8137 - lr: 0.0010 - 7s/epoch - 126ms/step
Epoch 11/100
59/59 - 7s - loss: 0.0223 - accuracy: 0.8488 - val_loss: 0.0325 - val_accuracy: 0.8142 - lr: 0.0010 - 7s/epoch - 126ms/step
Epoch 12/100
59/59 - 7s - loss: 0.0224 - accuracy: 0.8477 - val_loss: 0.0326 - val_accuracy: 0.8141 - lr: 0.0010 - 7s/epoch - 126ms/step
Epoch 13/100
59/59 - 7s - loss: 0.0224 - accuracy: 0.8474 - val_loss: 0.0326 - val_accuracy: 0.8138 - lr: 0.0010 - 7s/epoch - 126ms/step
Epoch 14/100
59/59 - 7s - loss: 0.0223 - accuracy: 0.8479 - val_loss: 0.0326 - val_accuracy: 0.8136 - lr: 0.0010 - 7s/epoch - 126ms/step
Epoch 15/100
59/59 - 7s - loss: 0.0223 - accuracy: 0.8486 - val_loss: 0.0326 - val_accuracy: 0.8140 - lr: 0.0010 - 7s/epoch - 126ms/step
Epoch 16/100
59/59 - 7s - loss: 0.0222 - accuracy: 0.8487 - val_loss: 0.0326 - val_accuracy: 0.8142 - lr: 0.0010 - 7s/epoch - 127ms/step
Epoch 17/100
59/59 - 8s - loss: 0.0224 - accuracy: 0.8478 - val_loss: 0.0326 - val_accuracy: 0.8135 - lr: 0.0010 - 8s/epoch - 127ms/step
Epoch 18/100
59/59 - 7s - loss: 0.0224 - accuracy: 0.8477 - val_loss: 0.0327 - val_accuracy: 0.8137 - lr: 0.0010 - 7s/epoch - 127ms/step
Epoch 19/100
59/59 - 7s - loss: 0.0224 - accuracy: 0.8469 - val_loss: 0.0326 - val_accuracy: 0.8134 - lr: 0.0010 - 7s/epoch - 127ms/step
Epoch 20/100
59/59 - 7s - loss: 0.0224 - accuracy: 0.8487 - val_loss: 0.0325 - val_accuracy: 0.8139 - lr: 0.0010 - 7s/epoch - 127ms/step
Epoch 21/100
59/59 - 7s - loss: 0.0224 - accuracy: 0.8481 - val_loss: 0.0326 - val_accuracy: 0.8138 - lr: 0.0010 - 7s/epoch - 127ms/step
Epoch 22/100
59/59 - 7s - loss: 0.0224 - accuracy: 0.8467 - val_loss: 0.0325 - val_accuracy: 0.8139 - lr: 0.0010 - 7s/epoch - 127ms/step
Epoch 23/100
59/59 - 7s - loss: 0.0224 - accuracy: 0.8480 - val_loss: 0.0326 - val_accuracy: 0.8138 - lr: 0.0010 - 7s/epoch - 127ms/step
Epoch 24/100
59/59 - 7s - loss: 0.0223 - accuracy: 0.8492 - val_loss: 0.0326 - val_accuracy: 0.8137 - lr: 0.0010 - 7s/epoch - 127ms/step
Epoch 25/100
59/59 - 7s - loss: 0.0222 - accuracy: 0.8489 - val_loss: 0.0325 - val_accuracy: 0.8138 - lr: 0.0010 - 7s/epoch - 127ms/step
Epoch 26/100
59/59 - 7s - loss: 0.0223 - accuracy: 0.8488 - val_loss: 0.0325 - val_accuracy: 0.8140 - lr: 0.0010 - 7s/epoch - 127ms/step
Epoch 27/100
59/59 - 7s - loss: 0.0224 - accuracy: 0.8472 - val_loss: 0.0325 - val_accuracy: 0.8143 - lr: 0.0010 - 7s/epoch - 127ms/step
Epoch 28/100
59/59 - 7s - loss: 0.0224 - accuracy: 0.8468 - val_loss: 0.0325 - val_accuracy: 0.8143 - lr: 0.0010 - 7s/epoch - 127ms/step
Epoch 29/100
59/59 - 7s - loss: 0.0223 - accuracy: 0.8483 - val_loss: 0.0326 - val_accuracy: 0.8139 - lr: 0.0010 - 7s/epoch - 127ms/step
Epoch 30/100
59/59 - 7s - loss: 0.0223 - accuracy: 0.8485 - val_loss: 0.0326 - val_accuracy: 0.8139 - lr: 0.0010 - 7s/epoch - 127ms/step
Epoch 31/100
59/59 - 7s - loss: 0.0223 - accuracy: 0.8489 - val_loss: 0.0326 - val_accuracy: 0.8142 - lr: 0.0010 - 7s/epoch - 127ms/step
Epoch 32/100
59/59 - 7s - loss: 0.0222 - accuracy: 0.8495 - val_loss: 0.0326 - val_accuracy: 0.8138 - lr: 0.0010 - 7s/epoch - 127ms/step
Epoch 33/100
59/59 - 7s - loss: 0.0223 - accuracy: 0.8485 - val_loss: 0.0326 - val_accuracy: 0.8137 - lr: 0.0010 - 7s/epoch - 127ms/step
Epoch 34/100
59/59 - 7s - loss: 0.0223 - accuracy: 0.8482 - val_loss: 0.0326 - val_accuracy: 0.8140 - lr: 0.0010 - 7s/epoch - 127ms/step
Epoch 35/100
59/59 - 7s - loss: 0.0224 - accuracy: 0.8473 - val_loss: 0.0326 - val_accuracy: 0.8138 - lr: 0.0010 - 7s/epoch - 127ms/step
Epoch 36/100
59/59 - 7s - loss: 0.0222 - accuracy: 0.8490 - val_loss: 0.0326 - val_accuracy: 0.8137 - lr: 0.0010 - 7s/epoch - 127ms/step
Epoch 37/100
59/59 - 7s - loss: 0.0223 - accuracy: 0.8484 - val_loss: 0.0325 - val_accuracy: 0.8142 - lr: 0.0010 - 7s/epoch - 127ms/step
Epoch 38/100
59/59 - 7s - loss: 0.0224 - accuracy: 0.8471 - val_loss: 0.0325 - val_accuracy: 0.8141 - lr: 0.0010 - 7s/epoch - 127ms/step
Epoch 39/100
59/59 - 7s - loss: 0.0223 - accuracy: 0.8488 - val_loss: 0.0326 - val_accuracy: 0.8139 - lr: 0.0010 - 7s/epoch - 127ms/step
Epoch 40/100
59/59 - 7s - loss: 0.0223 - accuracy: 0.8483 - val_loss: 0.0326 - val_accuracy: 0.8140 - lr: 0.0010 - 7s/epoch - 127ms/step
Epoch 41/100
59/59 - 7s - loss: 0.0223 - accuracy: 0.8486 - val_loss: 0.0326 - val_accuracy: 0.8140 - lr: 0.0010 - 7s/epoch - 127ms/step
Epoch 42/100
59/59 - 7s - loss: 0.0223 - accuracy: 0.8481 - val_loss: 0.0325 - val_accuracy: 0.8144 - lr: 0.0010 - 7s/epoch - 126ms/step
Epoch 43/100
59/59 - 7s - loss: 0.0224 - accuracy: 0.8470 - val_loss: 0.0326 - val_accuracy: 0.8140 - lr: 0.0010 - 7s/epoch - 126ms/step
Epoch 44/100
59/59 - 7s - loss: 0.0223 - accuracy: 0.8483 - val_loss: 0.0325 - val_accuracy: 0.8145 - lr: 0.0010 - 7s/epoch - 126ms/step
Epoch 45/100
59/59 - 7s - loss: 0.0224 - accuracy: 0.8475 - val_loss: 0.0326 - val_accuracy: 0.8143 - lr: 0.0010 - 7s/epoch - 127ms/step
Epoch 46/100
59/59 - 7s - loss: 0.0223 - accuracy: 0.8489 - val_loss: 0.0325 - val_accuracy: 0.8142 - lr: 0.0010 - 7s/epoch - 126ms/step
Epoch 47/100
59/59 - 7s - loss: 0.0224 - accuracy: 0.8477 - val_loss: 0.0326 - val_accuracy: 0.8139 - lr: 0.0010 - 7s/epoch - 127ms/step
Epoch 48/100
59/59 - 7s - loss: 0.0223 - accuracy: 0.8479 - val_loss: 0.0325 - val_accuracy: 0.8140 - lr: 0.0010 - 7s/epoch - 127ms/step
Epoch 49/100
59/59 - 7s - loss: 0.0224 - accuracy: 0.8467 - val_loss: 0.0325 - val_accuracy: 0.8142 - lr: 0.0010 - 7s/epoch - 127ms/step
Epoch 50/100
59/59 - 7s - loss: 0.0224 - accuracy: 0.8475 - val_loss: 0.0326 - val_accuracy: 0.8136 - lr: 0.0010 - 7s/epoch - 127ms/step
Epoch 51/100
59/59 - 7s - loss: 0.0222 - accuracy: 0.8494 - val_loss: 0.0326 - val_accuracy: 0.8136 - lr: 0.0010 - 7s/epoch - 126ms/step
Epoch 52/100
59/59 - 7s - loss: 0.0223 - accuracy: 0.8484 - val_loss: 0.0326 - val_accuracy: 0.8140 - lr: 0.0010 - 7s/epoch - 126ms/step
Epoch 53/100
59/59 - 7s - loss: 0.0223 - accuracy: 0.8488 - val_loss: 0.0326 - val_accuracy: 0.8137 - lr: 0.0010 - 7s/epoch - 127ms/step
Epoch 54/100
59/59 - 7s - loss: 0.0222 - accuracy: 0.8486 - val_loss: 0.0326 - val_accuracy: 0.8143 - lr: 0.0010 - 7s/epoch - 127ms/step
Epoch 55/100
59/59 - 7s - loss: 0.0225 - accuracy: 0.8472 - val_loss: 0.0326 - val_accuracy: 0.8139 - lr: 0.0010 - 7s/epoch - 127ms/step
Epoch 56/100
59/59 - 7s - loss: 0.0224 - accuracy: 0.8478 - val_loss: 0.0326 - val_accuracy: 0.8139 - lr: 0.0010 - 7s/epoch - 127ms/step
Epoch 57/100
59/59 - 7s - loss: 0.0223 - accuracy: 0.8485 - val_loss: 0.0325 - val_accuracy: 0.8140 - lr: 0.0010 - 7s/epoch - 127ms/step
Epoch 58/100
59/59 - 7s - loss: 0.0223 - accuracy: 0.8488 - val_loss: 0.0325 - val_accuracy: 0.8140 - lr: 0.0010 - 7s/epoch - 127ms/step
Epoch 59/100
59/59 - 7s - loss: 0.0224 - accuracy: 0.8469 - val_loss: 0.0326 - val_accuracy: 0.8134 - lr: 0.0010 - 7s/epoch - 127ms/step
Epoch 60/100
59/59 - 7s - loss: 0.0224 - accuracy: 0.8484 - val_loss: 0.0326 - val_accuracy: 0.8138 - lr: 0.0010 - 7s/epoch - 127ms/step
Epoch 61/100
59/59 - 7s - loss: 0.0224 - accuracy: 0.8477 - val_loss: 0.0326 - val_accuracy: 0.8138 - lr: 0.0010 - 7s/epoch - 127ms/step
Epoch 62/100
59/59 - 7s - loss: 0.0224 - accuracy: 0.8480 - val_loss: 0.0326 - val_accuracy: 0.8139 - lr: 0.0010 - 7s/epoch - 127ms/step
Epoch 63/100
59/59 - 7s - loss: 0.0223 - accuracy: 0.8481 - val_loss: 0.0325 - val_accuracy: 0.8144 - lr: 0.0010 - 7s/epoch - 127ms/step
Epoch 64/100
59/59 - 7s - loss: 0.0223 - accuracy: 0.8485 - val_loss: 0.0326 - val_accuracy: 0.8137 - lr: 0.0010 - 7s/epoch - 127ms/step
Epoch 65/100
59/59 - 7s - loss: 0.0223 - accuracy: 0.8487 - val_loss: 0.0327 - val_accuracy: 0.8132 - lr: 0.0010 - 7s/epoch - 127ms/step
Epoch 66/100
59/59 - 7s - loss: 0.0224 - accuracy: 0.8481 - val_loss: 0.0326 - val_accuracy: 0.8134 - lr: 0.0010 - 7s/epoch - 127ms/step
Epoch 67/100
59/59 - 7s - loss: 0.0224 - accuracy: 0.8469 - val_loss: 0.0326 - val_accuracy: 0.8139 - lr: 0.0010 - 7s/epoch - 127ms/step
Epoch 68/100
59/59 - 7s - loss: 0.0223 - accuracy: 0.8488 - val_loss: 0.0325 - val_accuracy: 0.8139 - lr: 0.0010 - 7s/epoch - 127ms/step
Epoch 69/100
59/59 - 7s - loss: 0.0223 - accuracy: 0.8487 - val_loss: 0.0325 - val_accuracy: 0.8141 - lr: 0.0010 - 7s/epoch - 127ms/step
Epoch 70/100
59/59 - 7s - loss: 0.0223 - accuracy: 0.8481 - val_loss: 0.0326 - val_accuracy: 0.8134 - lr: 0.0010 - 7s/epoch - 127ms/step
Epoch 71/100
59/59 - 7s - loss: 0.0223 - accuracy: 0.8485 - val_loss: 0.0326 - val_accuracy: 0.8138 - lr: 0.0010 - 7s/epoch - 127ms/step
Epoch 72/100
59/59 - 7s - loss: 0.0223 - accuracy: 0.8479 - val_loss: 0.0326 - val_accuracy: 0.8140 - lr: 0.0010 - 7s/epoch - 127ms/step
Epoch 73/100
59/59 - 7s - loss: 0.0224 - accuracy: 0.8481 - val_loss: 0.0326 - val_accuracy: 0.8137 - lr: 0.0010 - 7s/epoch - 127ms/step
Epoch 74/100
59/59 - 7s - loss: 0.0224 - accuracy: 0.8473 - val_loss: 0.0326 - val_accuracy: 0.8138 - lr: 0.0010 - 7s/epoch - 127ms/step
Epoch 75/100
59/59 - 7s - loss: 0.0224 - accuracy: 0.8473 - val_loss: 0.0326 - val_accuracy: 0.8139 - lr: 0.0010 - 7s/epoch - 127ms/step
Epoch 76/100
59/59 - 7s - loss: 0.0224 - accuracy: 0.8474 - val_loss: 0.0326 - val_accuracy: 0.8137 - lr: 0.0010 - 7s/epoch - 127ms/step
Epoch 77/100
59/59 - 7s - loss: 0.0223 - accuracy: 0.8481 - val_loss: 0.0326 - val_accuracy: 0.8137 - lr: 0.0010 - 7s/epoch - 127ms/step
Epoch 78/100
59/59 - 7s - loss: 0.0222 - accuracy: 0.8489 - val_loss: 0.0326 - val_accuracy: 0.8140 - lr: 0.0010 - 7s/epoch - 127ms/step
Epoch 79/100
59/59 - 7s - loss: 0.0224 - accuracy: 0.8481 - val_loss: 0.0326 - val_accuracy: 0.8134 - lr: 0.0010 - 7s/epoch - 127ms/step
Epoch 80/100
59/59 - 7s - loss: 0.0224 - accuracy: 0.8475 - val_loss: 0.0326 - val_accuracy: 0.8138 - lr: 0.0010 - 7s/epoch - 127ms/step
Epoch 81/100
59/59 - 8s - loss: 0.0223 - accuracy: 0.8476 - val_loss: 0.0326 - val_accuracy: 0.8138 - lr: 0.0010 - 8s/epoch - 127ms/step
Epoch 82/100
59/59 - 7s - loss: 0.0223 - accuracy: 0.8488 - val_loss: 0.0326 - val_accuracy: 0.8139 - lr: 0.0010 - 7s/epoch - 127ms/step
Epoch 83/100
59/59 - 7s - loss: 0.0224 - accuracy: 0.8479 - val_loss: 0.0326 - val_accuracy: 0.8141 - lr: 0.0010 - 7s/epoch - 127ms/step
Epoch 84/100
59/59 - 7s - loss: 0.0224 - accuracy: 0.8480 - val_loss: 0.0326 - val_accuracy: 0.8136 - lr: 0.0010 - 7s/epoch - 127ms/step
Epoch 85/100
59/59 - 7s - loss: 0.0223 - accuracy: 0.8486 - val_loss: 0.0325 - val_accuracy: 0.8143 - lr: 0.0010 - 7s/epoch - 127ms/step
Epoch 86/100
59/59 - 7s - loss: 0.0225 - accuracy: 0.8469 - val_loss: 0.0326 - val_accuracy: 0.8140 - lr: 0.0010 - 7s/epoch - 127ms/step
Epoch 87/100
59/59 - 7s - loss: 0.0223 - accuracy: 0.8483 - val_loss: 0.0326 - val_accuracy: 0.8138 - lr: 0.0010 - 7s/epoch - 127ms/step
Epoch 88/100
59/59 - 7s - loss: 0.0223 - accuracy: 0.8487 - val_loss: 0.0325 - val_accuracy: 0.8142 - lr: 0.0010 - 7s/epoch - 127ms/step
Epoch 89/100
59/59 - 8s - loss: 0.0224 - accuracy: 0.8475 - val_loss: 0.0325 - val_accuracy: 0.8143 - lr: 0.0010 - 8s/epoch - 127ms/step
Epoch 90/100
59/59 - 7s - loss: 0.0224 - accuracy: 0.8475 - val_loss: 0.0326 - val_accuracy: 0.8140 - lr: 0.0010 - 7s/epoch - 127ms/step
Epoch 91/100
59/59 - 7s - loss: 0.0223 - accuracy: 0.8478 - val_loss: 0.0326 - val_accuracy: 0.8140 - lr: 0.0010 - 7s/epoch - 127ms/step
Epoch 92/100
59/59 - 8s - loss: 0.0223 - accuracy: 0.8489 - val_loss: 0.0325 - val_accuracy: 0.8149 - lr: 0.0010 - 8s/epoch - 127ms/step
Epoch 93/100
59/59 - 7s - loss: 0.0223 - accuracy: 0.8490 - val_loss: 0.0326 - val_accuracy: 0.8140 - lr: 0.0010 - 7s/epoch - 127ms/step
Epoch 94/100
59/59 - 7s - loss: 0.0224 - accuracy: 0.8478 - val_loss: 0.0326 - val_accuracy: 0.8139 - lr: 0.0010 - 7s/epoch - 127ms/step
Epoch 95/100
59/59 - 7s - loss: 0.0224 - accuracy: 0.8478 - val_loss: 0.0326 - val_accuracy: 0.8136 - lr: 0.0010 - 7s/epoch - 127ms/step
Epoch 96/100
59/59 - 7s - loss: 0.0224 - accuracy: 0.8469 - val_loss: 0.0325 - val_accuracy: 0.8140 - lr: 0.0010 - 7s/epoch - 127ms/step
Epoch 97/100
59/59 - 7s - loss: 0.0224 - accuracy: 0.8475 - val_loss: 0.0325 - val_accuracy: 0.8144 - lr: 0.0010 - 7s/epoch - 127ms/step
Epoch 98/100
59/59 - 7s - loss: 0.0224 - accuracy: 0.8478 - val_loss: 0.0325 - val_accuracy: 0.8142 - lr: 0.0010 - 7s/epoch - 127ms/step
Epoch 99/100
59/59 - 7s - loss: 0.0223 - accuracy: 0.8481 - val_loss: 0.0325 - val_accuracy: 0.8140 - lr: 0.0010 - 7s/epoch - 127ms/step
Epoch 100/100
59/59 - 7s - loss: 0.0224 - accuracy: 0.8475 - val_loss: 0.0325 - val_accuracy: 0.8140 - lr: 0.0010 - 7s/epoch - 127ms/step
fitting with batch size: 2500
Epoch 1/100
36/36 - 9s - loss: 0.0223 - accuracy: 0.8483 - val_loss: 0.0326 - val_accuracy: 0.8136 - lr: 0.0010 - 9s/epoch - 256ms/step
Epoch 2/100
36/36 - 7s - loss: 0.0223 - accuracy: 0.8480 - val_loss: 0.0326 - val_accuracy: 0.8141 - lr: 0.0010 - 7s/epoch - 201ms/step
Epoch 3/100
36/36 - 7s - loss: 0.0224 - accuracy: 0.8474 - val_loss: 0.0326 - val_accuracy: 0.8140 - lr: 0.0010 - 7s/epoch - 201ms/step
Epoch 4/100
36/36 - 7s - loss: 0.0224 - accuracy: 0.8476 - val_loss: 0.0325 - val_accuracy: 0.8141 - lr: 0.0010 - 7s/epoch - 201ms/step
Epoch 5/100
36/36 - 7s - loss: 0.0223 - accuracy: 0.8478 - val_loss: 0.0326 - val_accuracy: 0.8141 - lr: 0.0010 - 7s/epoch - 201ms/step
Epoch 6/100
36/36 - 7s - loss: 0.0224 - accuracy: 0.8478 - val_loss: 0.0325 - val_accuracy: 0.8147 - lr: 0.0010 - 7s/epoch - 201ms/step
Epoch 7/100
36/36 - 7s - loss: 0.0223 - accuracy: 0.8482 - val_loss: 0.0325 - val_accuracy: 0.8143 - lr: 0.0010 - 7s/epoch - 201ms/step
Epoch 8/100
36/36 - 7s - loss: 0.0224 - accuracy: 0.8475 - val_loss: 0.0326 - val_accuracy: 0.8141 - lr: 0.0010 - 7s/epoch - 201ms/step
Epoch 9/100
36/36 - 7s - loss: 0.0223 - accuracy: 0.8480 - val_loss: 0.0326 - val_accuracy: 0.8141 - lr: 0.0010 - 7s/epoch - 201ms/step
Epoch 10/100
36/36 - 7s - loss: 0.0224 - accuracy: 0.8481 - val_loss: 0.0325 - val_accuracy: 0.8143 - lr: 0.0010 - 7s/epoch - 201ms/step
Epoch 11/100
36/36 - 7s - loss: 0.0223 - accuracy: 0.8485 - val_loss: 0.0326 - val_accuracy: 0.8135 - lr: 0.0010 - 7s/epoch - 201ms/step
Epoch 12/100
36/36 - 7s - loss: 0.0224 - accuracy: 0.8473 - val_loss: 0.0326 - val_accuracy: 0.8142 - lr: 0.0010 - 7s/epoch - 201ms/step
Epoch 13/100
36/36 - 7s - loss: 0.0224 - accuracy: 0.8473 - val_loss: 0.0325 - val_accuracy: 0.8145 - lr: 0.0010 - 7s/epoch - 201ms/step
Epoch 14/100
36/36 - 7s - loss: 0.0223 - accuracy: 0.8483 - val_loss: 0.0325 - val_accuracy: 0.8142 - lr: 0.0010 - 7s/epoch - 201ms/step
Epoch 15/100
36/36 - 7s - loss: 0.0223 - accuracy: 0.8486 - val_loss: 0.0325 - val_accuracy: 0.8145 - lr: 0.0010 - 7s/epoch - 201ms/step
Epoch 16/100
36/36 - 7s - loss: 0.0223 - accuracy: 0.8487 - val_loss: 0.0325 - val_accuracy: 0.8145 - lr: 0.0010 - 7s/epoch - 201ms/step
Epoch 17/100
36/36 - 7s - loss: 0.0223 - accuracy: 0.8488 - val_loss: 0.0325 - val_accuracy: 0.8141 - lr: 0.0010 - 7s/epoch - 201ms/step
Epoch 18/100
36/36 - 7s - loss: 0.0224 - accuracy: 0.8467 - val_loss: 0.0324 - val_accuracy: 0.8149 - lr: 0.0010 - 7s/epoch - 201ms/step
Epoch 19/100
36/36 - 7s - loss: 0.0224 - accuracy: 0.8476 - val_loss: 0.0326 - val_accuracy: 0.8138 - lr: 0.0010 - 7s/epoch - 201ms/step
Epoch 20/100
36/36 - 7s - loss: 0.0223 - accuracy: 0.8478 - val_loss: 0.0327 - val_accuracy: 0.8134 - lr: 0.0010 - 7s/epoch - 201ms/step
Epoch 21/100
36/36 - 7s - loss: 0.0224 - accuracy: 0.8472 - val_loss: 0.0325 - val_accuracy: 0.8143 - lr: 0.0010 - 7s/epoch - 201ms/step
Epoch 22/100
36/36 - 7s - loss: 0.0223 - accuracy: 0.8483 - val_loss: 0.0325 - val_accuracy: 0.8142 - lr: 0.0010 - 7s/epoch - 201ms/step
Epoch 23/100
36/36 - 7s - loss: 0.0223 - accuracy: 0.8484 - val_loss: 0.0326 - val_accuracy: 0.8143 - lr: 0.0010 - 7s/epoch - 201ms/step
Epoch 24/100
36/36 - 7s - loss: 0.0223 - accuracy: 0.8481 - val_loss: 0.0326 - val_accuracy: 0.8140 - lr: 0.0010 - 7s/epoch - 201ms/step
Epoch 25/100
36/36 - 7s - loss: 0.0224 - accuracy: 0.8480 - val_loss: 0.0327 - val_accuracy: 0.8126 - lr: 0.0010 - 7s/epoch - 201ms/step
Epoch 26/100
36/36 - 7s - loss: 0.0224 - accuracy: 0.8482 - val_loss: 0.0326 - val_accuracy: 0.8140 - lr: 0.0010 - 7s/epoch - 201ms/step
Epoch 27/100
36/36 - 7s - loss: 0.0223 - accuracy: 0.8486 - val_loss: 0.0325 - val_accuracy: 0.8146 - lr: 0.0010 - 7s/epoch - 201ms/step
Epoch 28/100
36/36 - 7s - loss: 0.0224 - accuracy: 0.8474 - val_loss: 0.0325 - val_accuracy: 0.8144 - lr: 0.0010 - 7s/epoch - 201ms/step
Epoch 29/100
36/36 - 7s - loss: 0.0223 - accuracy: 0.8474 - val_loss: 0.0326 - val_accuracy: 0.8140 - lr: 0.0010 - 7s/epoch - 201ms/step
Epoch 30/100
36/36 - 7s - loss: 0.0224 - accuracy: 0.8479 - val_loss: 0.0326 - val_accuracy: 0.8143 - lr: 0.0010 - 7s/epoch - 201ms/step
Epoch 31/100
36/36 - 7s - loss: 0.0223 - accuracy: 0.8487 - val_loss: 0.0324 - val_accuracy: 0.8153 - lr: 0.0010 - 7s/epoch - 201ms/step
Epoch 32/100
36/36 - 7s - loss: 0.0223 - accuracy: 0.8492 - val_loss: 0.0325 - val_accuracy: 0.8145 - lr: 0.0010 - 7s/epoch - 201ms/step
Epoch 33/100
36/36 - 7s - loss: 0.0224 - accuracy: 0.8474 - val_loss: 0.0325 - val_accuracy: 0.8151 - lr: 0.0010 - 7s/epoch - 201ms/step
Epoch 34/100
36/36 - 7s - loss: 0.0223 - accuracy: 0.8479 - val_loss: 0.0326 - val_accuracy: 0.8141 - lr: 0.0010 - 7s/epoch - 201ms/step
Epoch 35/100
36/36 - 7s - loss: 0.0224 - accuracy: 0.8487 - val_loss: 0.0326 - val_accuracy: 0.8140 - lr: 0.0010 - 7s/epoch - 201ms/step
Epoch 36/100
36/36 - 7s - loss: 0.0223 - accuracy: 0.8486 - val_loss: 0.0326 - val_accuracy: 0.8135 - lr: 0.0010 - 7s/epoch - 201ms/step
Epoch 37/100
36/36 - 7s - loss: 0.0223 - accuracy: 0.8477 - val_loss: 0.0325 - val_accuracy: 0.8149 - lr: 0.0010 - 7s/epoch - 201ms/step
Epoch 38/100
36/36 - 7s - loss: 0.0223 - accuracy: 0.8474 - val_loss: 0.0326 - val_accuracy: 0.8137 - lr: 0.0010 - 7s/epoch - 201ms/step
Epoch 39/100
36/36 - 7s - loss: 0.0224 - accuracy: 0.8475 - val_loss: 0.0326 - val_accuracy: 0.8138 - lr: 0.0010 - 7s/epoch - 201ms/step
Epoch 40/100
36/36 - 7s - loss: 0.0223 - accuracy: 0.8483 - val_loss: 0.0325 - val_accuracy: 0.8138 - lr: 0.0010 - 7s/epoch - 201ms/step
Epoch 41/100
36/36 - 7s - loss: 0.0223 - accuracy: 0.8488 - val_loss: 0.0327 - val_accuracy: 0.8133 - lr: 0.0010 - 7s/epoch - 201ms/step
Epoch 42/100
36/36 - 7s - loss: 0.0223 - accuracy: 0.8483 - val_loss: 0.0326 - val_accuracy: 0.8131 - lr: 0.0010 - 7s/epoch - 201ms/step
Epoch 43/100
36/36 - 7s - loss: 0.0223 - accuracy: 0.8488 - val_loss: 0.0326 - val_accuracy: 0.8135 - lr: 0.0010 - 7s/epoch - 201ms/step
Epoch 44/100
36/36 - 7s - loss: 0.0224 - accuracy: 0.8477 - val_loss: 0.0325 - val_accuracy: 0.8142 - lr: 0.0010 - 7s/epoch - 201ms/step
Epoch 45/100
36/36 - 7s - loss: 0.0223 - accuracy: 0.8487 - val_loss: 0.0325 - val_accuracy: 0.8140 - lr: 0.0010 - 7s/epoch - 201ms/step
Epoch 46/100
36/36 - 7s - loss: 0.0224 - accuracy: 0.8474 - val_loss: 0.0326 - val_accuracy: 0.8140 - lr: 0.0010 - 7s/epoch - 201ms/step
Epoch 47/100
36/36 - 7s - loss: 0.0224 - accuracy: 0.8478 - val_loss: 0.0326 - val_accuracy: 0.8134 - lr: 0.0010 - 7s/epoch - 201ms/step
Epoch 48/100
36/36 - 7s - loss: 0.0223 - accuracy: 0.8493 - val_loss: 0.0326 - val_accuracy: 0.8134 - lr: 0.0010 - 7s/epoch - 200ms/step
Epoch 49/100
36/36 - 7s - loss: 0.0223 - accuracy: 0.8484 - val_loss: 0.0325 - val_accuracy: 0.8139 - lr: 0.0010 - 7s/epoch - 201ms/step
Epoch 50/100
36/36 - 7s - loss: 0.0223 - accuracy: 0.8481 - val_loss: 0.0326 - val_accuracy: 0.8134 - lr: 0.0010 - 7s/epoch - 200ms/step
Epoch 51/100
36/36 - 7s - loss: 0.0224 - accuracy: 0.8478 - val_loss: 0.0324 - val_accuracy: 0.8152 - lr: 0.0010 - 7s/epoch - 201ms/step
Epoch 52/100
36/36 - 7s - loss: 0.0224 - accuracy: 0.8481 - val_loss: 0.0325 - val_accuracy: 0.8142 - lr: 0.0010 - 7s/epoch - 201ms/step
Epoch 53/100
36/36 - 7s - loss: 0.0223 - accuracy: 0.8490 - val_loss: 0.0326 - val_accuracy: 0.8137 - lr: 0.0010 - 7s/epoch - 201ms/step
Epoch 54/100
36/36 - 7s - loss: 0.0223 - accuracy: 0.8484 - val_loss: 0.0326 - val_accuracy: 0.8136 - lr: 0.0010 - 7s/epoch - 201ms/step
Epoch 55/100
36/36 - 7s - loss: 0.0224 - accuracy: 0.8482 - val_loss: 0.0327 - val_accuracy: 0.8127 - lr: 0.0010 - 7s/epoch - 201ms/step
Epoch 56/100
36/36 - 7s - loss: 0.0223 - accuracy: 0.8478 - val_loss: 0.0327 - val_accuracy: 0.8133 - lr: 0.0010 - 7s/epoch - 201ms/step
Epoch 57/100
36/36 - 7s - loss: 0.0224 - accuracy: 0.8470 - val_loss: 0.0327 - val_accuracy: 0.8136 - lr: 0.0010 - 7s/epoch - 201ms/step
Epoch 58/100
36/36 - 7s - loss: 0.0224 - accuracy: 0.8476 - val_loss: 0.0327 - val_accuracy: 0.8130 - lr: 0.0010 - 7s/epoch - 201ms/step
Epoch 59/100
36/36 - 7s - loss: 0.0223 - accuracy: 0.8486 - val_loss: 0.0327 - val_accuracy: 0.8134 - lr: 0.0010 - 7s/epoch - 201ms/step
Epoch 60/100
36/36 - 7s - loss: 0.0223 - accuracy: 0.8485 - val_loss: 0.0325 - val_accuracy: 0.8140 - lr: 0.0010 - 7s/epoch - 200ms/step
Epoch 61/100
36/36 - 7s - loss: 0.0223 - accuracy: 0.8487 - val_loss: 0.0324 - val_accuracy: 0.8147 - lr: 0.0010 - 7s/epoch - 201ms/step
Epoch 62/100
36/36 - 7s - loss: 0.0223 - accuracy: 0.8485 - val_loss: 0.0325 - val_accuracy: 0.8145 - lr: 0.0010 - 7s/epoch - 201ms/step
Epoch 63/100
36/36 - 7s - loss: 0.0223 - accuracy: 0.8487 - val_loss: 0.0325 - val_accuracy: 0.8146 - lr: 0.0010 - 7s/epoch - 201ms/step
Epoch 64/100
36/36 - 7s - loss: 0.0223 - accuracy: 0.8486 - val_loss: 0.0326 - val_accuracy: 0.8138 - lr: 0.0010 - 7s/epoch - 201ms/step
Epoch 65/100
36/36 - 7s - loss: 0.0223 - accuracy: 0.8489 - val_loss: 0.0326 - val_accuracy: 0.8138 - lr: 0.0010 - 7s/epoch - 201ms/step
Epoch 66/100
36/36 - 7s - loss: 0.0223 - accuracy: 0.8489 - val_loss: 0.0327 - val_accuracy: 0.8132 - lr: 0.0010 - 7s/epoch - 201ms/step
Epoch 67/100
36/36 - 7s - loss: 0.0224 - accuracy: 0.8481 - val_loss: 0.0326 - val_accuracy: 0.8138 - lr: 0.0010 - 7s/epoch - 201ms/step
Epoch 68/100
36/36 - 7s - loss: 0.0223 - accuracy: 0.8483 - val_loss: 0.0325 - val_accuracy: 0.8142 - lr: 0.0010 - 7s/epoch - 201ms/step
Epoch 69/100
36/36 - 7s - loss: 0.0223 - accuracy: 0.8488 - val_loss: 0.0326 - val_accuracy: 0.8138 - lr: 0.0010 - 7s/epoch - 201ms/step
Epoch 70/100
36/36 - 7s - loss: 0.0224 - accuracy: 0.8479 - val_loss: 0.0325 - val_accuracy: 0.8143 - lr: 0.0010 - 7s/epoch - 201ms/step
Epoch 71/100
36/36 - 7s - loss: 0.0223 - accuracy: 0.8482 - val_loss: 0.0326 - val_accuracy: 0.8140 - lr: 0.0010 - 7s/epoch - 201ms/step
Epoch 72/100
36/36 - 7s - loss: 0.0223 - accuracy: 0.8486 - val_loss: 0.0327 - val_accuracy: 0.8135 - lr: 0.0010 - 7s/epoch - 201ms/step
Epoch 73/100
36/36 - 7s - loss: 0.0224 - accuracy: 0.8470 - val_loss: 0.0326 - val_accuracy: 0.8133 - lr: 0.0010 - 7s/epoch - 201ms/step
Epoch 74/100
36/36 - 7s - loss: 0.0223 - accuracy: 0.8483 - val_loss: 0.0326 - val_accuracy: 0.8132 - lr: 0.0010 - 7s/epoch - 201ms/step
Epoch 75/100
36/36 - 7s - loss: 0.0223 - accuracy: 0.8486 - val_loss: 0.0326 - val_accuracy: 0.8133 - lr: 0.0010 - 7s/epoch - 201ms/step
Epoch 76/100
36/36 - 7s - loss: 0.0224 - accuracy: 0.8468 - val_loss: 0.0326 - val_accuracy: 0.8133 - lr: 0.0010 - 7s/epoch - 201ms/step
Epoch 77/100
36/36 - 7s - loss: 0.0224 - accuracy: 0.8474 - val_loss: 0.0326 - val_accuracy: 0.8132 - lr: 0.0010 - 7s/epoch - 201ms/step
Epoch 78/100
36/36 - 7s - loss: 0.0224 - accuracy: 0.8481 - val_loss: 0.0326 - val_accuracy: 0.8136 - lr: 0.0010 - 7s/epoch - 201ms/step
Epoch 79/100
36/36 - 7s - loss: 0.0223 - accuracy: 0.8481 - val_loss: 0.0324 - val_accuracy: 0.8144 - lr: 0.0010 - 7s/epoch - 201ms/step
Epoch 80/100
36/36 - 7s - loss: 0.0223 - accuracy: 0.8484 - val_loss: 0.0325 - val_accuracy: 0.8139 - lr: 0.0010 - 7s/epoch - 201ms/step
Epoch 81/100
36/36 - 7s - loss: 0.0224 - accuracy: 0.8473 - val_loss: 0.0326 - val_accuracy: 0.8134 - lr: 0.0010 - 7s/epoch - 201ms/step
Epoch 82/100
36/36 - 7s - loss: 0.0224 - accuracy: 0.8470 - val_loss: 0.0326 - val_accuracy: 0.8136 - lr: 0.0010 - 7s/epoch - 201ms/step
Epoch 83/100
36/36 - 7s - loss: 0.0222 - accuracy: 0.8496 - val_loss: 0.0325 - val_accuracy: 0.8141 - lr: 0.0010 - 7s/epoch - 201ms/step
Epoch 84/100
36/36 - 7s - loss: 0.0223 - accuracy: 0.8487 - val_loss: 0.0326 - val_accuracy: 0.8138 - lr: 0.0010 - 7s/epoch - 200ms/step
Epoch 85/100
36/36 - 7s - loss: 0.0222 - accuracy: 0.8479 - val_loss: 0.0326 - val_accuracy: 0.8141 - lr: 0.0010 - 7s/epoch - 201ms/step
Epoch 86/100
36/36 - 7s - loss: 0.0223 - accuracy: 0.8489 - val_loss: 0.0326 - val_accuracy: 0.8139 - lr: 0.0010 - 7s/epoch - 201ms/step
Epoch 87/100
36/36 - 7s - loss: 0.0222 - accuracy: 0.8495 - val_loss: 0.0326 - val_accuracy: 0.8138 - lr: 0.0010 - 7s/epoch - 201ms/step
Epoch 88/100
36/36 - 7s - loss: 0.0223 - accuracy: 0.8481 - val_loss: 0.0325 - val_accuracy: 0.8139 - lr: 0.0010 - 7s/epoch - 201ms/step
Epoch 89/100
36/36 - 7s - loss: 0.0223 - accuracy: 0.8489 - val_loss: 0.0326 - val_accuracy: 0.8143 - lr: 0.0010 - 7s/epoch - 201ms/step
Epoch 90/100
36/36 - 7s - loss: 0.0225 - accuracy: 0.8469 - val_loss: 0.0325 - val_accuracy: 0.8149 - lr: 0.0010 - 7s/epoch - 201ms/step
Epoch 91/100
36/36 - 7s - loss: 0.0224 - accuracy: 0.8475 - val_loss: 0.0325 - val_accuracy: 0.8140 - lr: 0.0010 - 7s/epoch - 201ms/step
Epoch 92/100
36/36 - 7s - loss: 0.0223 - accuracy: 0.8491 - val_loss: 0.0326 - val_accuracy: 0.8139 - lr: 0.0010 - 7s/epoch - 201ms/step
Epoch 93/100
36/36 - 7s - loss: 0.0223 - accuracy: 0.8482 - val_loss: 0.0325 - val_accuracy: 0.8140 - lr: 0.0010 - 7s/epoch - 201ms/step
Epoch 94/100
36/36 - 7s - loss: 0.0224 - accuracy: 0.8475 - val_loss: 0.0327 - val_accuracy: 0.8131 - lr: 0.0010 - 7s/epoch - 201ms/step
Epoch 95/100
36/36 - 7s - loss: 0.0224 - accuracy: 0.8484 - val_loss: 0.0326 - val_accuracy: 0.8139 - lr: 0.0010 - 7s/epoch - 201ms/step
Epoch 96/100
36/36 - 7s - loss: 0.0224 - accuracy: 0.8481 - val_loss: 0.0326 - val_accuracy: 0.8140 - lr: 0.0010 - 7s/epoch - 200ms/step
Epoch 97/100
36/36 - 7s - loss: 0.0223 - accuracy: 0.8487 - val_loss: 0.0327 - val_accuracy: 0.8125 - lr: 0.0010 - 7s/epoch - 201ms/step
Epoch 98/100
36/36 - 7s - loss: 0.0224 - accuracy: 0.8482 - val_loss: 0.0326 - val_accuracy: 0.8136 - lr: 0.0010 - 7s/epoch - 201ms/step
Epoch 99/100
36/36 - 7s - loss: 0.0224 - accuracy: 0.8479 - val_loss: 0.0325 - val_accuracy: 0.8140 - lr: 0.0010 - 7s/epoch - 201ms/step
Epoch 100/100
36/36 - 7s - loss: 0.0223 - accuracy: 0.8479 - val_loss: 0.0326 - val_accuracy: 0.8142 - lr: 0.0010 - 7s/epoch - 201ms/step
Loss: kullback_leibler_divergence
Epoch number: 75
fitting with batch size: 20
Epoch 1/75
4378/4378 - 72s - loss: 0.7852 - accuracy: 0.7078 - val_loss: 0.7254 - val_accuracy: 0.8018 - lr: 0.0010 - 72s/epoch - 16ms/step
Epoch 2/75
4378/4378 - 71s - loss: 0.7258 - accuracy: 0.7295 - val_loss: 0.6101 - val_accuracy: 0.8331 - lr: 0.0010 - 71s/epoch - 16ms/step
Epoch 3/75
4378/4378 - 72s - loss: 0.6945 - accuracy: 0.7416 - val_loss: 0.6751 - val_accuracy: 0.8023 - lr: 0.0010 - 72s/epoch - 16ms/step
Epoch 4/75
4378/4378 - 71s - loss: 0.6724 - accuracy: 0.7499 - val_loss: 0.8031 - val_accuracy: 0.7472 - lr: 0.0010 - 71s/epoch - 16ms/step
Epoch 5/75
4378/4378 - 71s - loss: 0.6648 - accuracy: 0.7520 - val_loss: 0.6860 - val_accuracy: 0.8126 - lr: 0.0010 - 71s/epoch - 16ms/step
Epoch 6/75
4378/4378 - 73s - loss: 0.6528 - accuracy: 0.7554 - val_loss: 0.6391 - val_accuracy: 0.8266 - lr: 0.0010 - 73s/epoch - 17ms/step
Epoch 7/75
4378/4378 - 71s - loss: 0.6449 - accuracy: 0.7598 - val_loss: 0.7717 - val_accuracy: 0.7852 - lr: 0.0010 - 71s/epoch - 16ms/step
Epoch 8/75
4378/4378 - 71s - loss: 0.6379 - accuracy: 0.7629 - val_loss: 0.6648 - val_accuracy: 0.8045 - lr: 0.0010 - 71s/epoch - 16ms/step
Epoch 9/75
4378/4378 - 71s - loss: 0.6335 - accuracy: 0.7657 - val_loss: 0.6042 - val_accuracy: 0.8368 - lr: 0.0010 - 71s/epoch - 16ms/step
Epoch 10/75
4378/4378 - 71s - loss: 0.6274 - accuracy: 0.7665 - val_loss: 0.7071 - val_accuracy: 0.8068 - lr: 0.0010 - 71s/epoch - 16ms/step
Epoch 11/75
4378/4378 - 71s - loss: 0.6241 - accuracy: 0.7654 - val_loss: 0.5930 - val_accuracy: 0.8404 - lr: 0.0010 - 71s/epoch - 16ms/step
Epoch 12/75
4378/4378 - 71s - loss: 0.6232 - accuracy: 0.7687 - val_loss: 0.6251 - val_accuracy: 0.8251 - lr: 0.0010 - 71s/epoch - 16ms/step
Epoch 13/75
4378/4378 - 72s - loss: 0.6202 - accuracy: 0.7681 - val_loss: 0.5960 - val_accuracy: 0.8340 - lr: 0.0010 - 72s/epoch - 16ms/step
Epoch 14/75
4378/4378 - 71s - loss: 0.6157 - accuracy: 0.7702 - val_loss: 0.6025 - val_accuracy: 0.8404 - lr: 0.0010 - 71s/epoch - 16ms/step
Epoch 15/75
4378/4378 - 71s - loss: 0.6166 - accuracy: 0.7701 - val_loss: 0.6980 - val_accuracy: 0.8047 - lr: 0.0010 - 71s/epoch - 16ms/step
Epoch 16/75
4378/4378 - 70s - loss: 0.6085 - accuracy: 0.7734 - val_loss: 0.6751 - val_accuracy: 0.8210 - lr: 0.0010 - 70s/epoch - 16ms/step
Epoch 17/75
4378/4378 - 71s - loss: 0.6078 - accuracy: 0.7737 - val_loss: 0.6827 - val_accuracy: 0.8032 - lr: 0.0010 - 71s/epoch - 16ms/step
Epoch 18/75
4378/4378 - 71s - loss: 0.6103 - accuracy: 0.7719 - val_loss: 0.6481 - val_accuracy: 0.8173 - lr: 0.0010 - 71s/epoch - 16ms/step
Epoch 19/75
4378/4378 - 71s - loss: 0.6019 - accuracy: 0.7758 - val_loss: 0.5789 - val_accuracy: 0.8375 - lr: 0.0010 - 71s/epoch - 16ms/step
Epoch 20/75
4378/4378 - 71s - loss: 0.6092 - accuracy: 0.7723 - val_loss: 0.6863 - val_accuracy: 0.8060 - lr: 0.0010 - 71s/epoch - 16ms/step
Epoch 21/75
4378/4378 - 72s - loss: 0.6060 - accuracy: 0.7732 - val_loss: 0.6609 - val_accuracy: 0.8134 - lr: 0.0010 - 72s/epoch - 16ms/step
Epoch 22/75
4378/4378 - 71s - loss: 0.6028 - accuracy: 0.7760 - val_loss: 0.6238 - val_accuracy: 0.8168 - lr: 0.0010 - 71s/epoch - 16ms/step
Epoch 23/75
4378/4378 - 71s - loss: 0.6025 - accuracy: 0.7768 - val_loss: 0.6341 - val_accuracy: 0.8197 - lr: 0.0010 - 71s/epoch - 16ms/step
Epoch 24/75
4378/4378 - 71s - loss: 0.6013 - accuracy: 0.7771 - val_loss: 0.6280 - val_accuracy: 0.8320 - lr: 0.0010 - 71s/epoch - 16ms/step
Epoch 25/75
4378/4378 - 71s - loss: 0.5969 - accuracy: 0.7778 - val_loss: 0.6340 - val_accuracy: 0.8257 - lr: 0.0010 - 71s/epoch - 16ms/step
Epoch 26/75
4378/4378 - 71s - loss: 0.5990 - accuracy: 0.7757 - val_loss: 0.6212 - val_accuracy: 0.8263 - lr: 0.0010 - 71s/epoch - 16ms/step
Epoch 27/75
4378/4378 - 72s - loss: 0.5975 - accuracy: 0.7774 - val_loss: 0.6274 - val_accuracy: 0.8285 - lr: 0.0010 - 72s/epoch - 16ms/step
Epoch 28/75
4378/4378 - 71s - loss: 0.5957 - accuracy: 0.7777 - val_loss: 0.6617 - val_accuracy: 0.8087 - lr: 0.0010 - 71s/epoch - 16ms/step
Epoch 29/75
4378/4378 - 71s - loss: 0.5961 - accuracy: 0.7784 - val_loss: 0.6666 - val_accuracy: 0.8125 - lr: 0.0010 - 71s/epoch - 16ms/step
Epoch 30/75
4378/4378 - 72s - loss: 0.5909 - accuracy: 0.7809 - val_loss: 0.6892 - val_accuracy: 0.8018 - lr: 0.0010 - 72s/epoch - 17ms/step
Epoch 31/75
4378/4378 - 72s - loss: 0.5929 - accuracy: 0.7795 - val_loss: 0.5920 - val_accuracy: 0.8261 - lr: 0.0010 - 72s/epoch - 17ms/step
Epoch 32/75
4378/4378 - 72s - loss: 0.5888 - accuracy: 0.7807 - val_loss: 0.5929 - val_accuracy: 0.8298 - lr: 0.0010 - 72s/epoch - 16ms/step
Epoch 33/75
4378/4378 - 71s - loss: 0.5926 - accuracy: 0.7801 - val_loss: 0.6748 - val_accuracy: 0.8098 - lr: 0.0010 - 71s/epoch - 16ms/step
Epoch 34/75
4378/4378 - 71s - loss: 0.5897 - accuracy: 0.7813 - val_loss: 0.6473 - val_accuracy: 0.8123 - lr: 0.0010 - 71s/epoch - 16ms/step
Epoch 35/75
4378/4378 - 71s - loss: 0.5897 - accuracy: 0.7807 - val_loss: 0.6719 - val_accuracy: 0.7997 - lr: 0.0010 - 71s/epoch - 16ms/step
Epoch 36/75
4378/4378 - 71s - loss: 0.5924 - accuracy: 0.7798 - val_loss: 0.6547 - val_accuracy: 0.8154 - lr: 0.0010 - 71s/epoch - 16ms/step
Epoch 37/75
4378/4378 - 71s - loss: 0.5865 - accuracy: 0.7822 - val_loss: 0.5977 - val_accuracy: 0.8304 - lr: 0.0010 - 71s/epoch - 16ms/step
Epoch 38/75
4378/4378 - 72s - loss: 0.5875 - accuracy: 0.7818 - val_loss: 0.6902 - val_accuracy: 0.8034 - lr: 0.0010 - 72s/epoch - 16ms/step
Epoch 39/75
4378/4378 - 73s - loss: 0.5907 - accuracy: 0.7788 - val_loss: 0.6053 - val_accuracy: 0.8354 - lr: 0.0010 - 73s/epoch - 17ms/step
Epoch 40/75
4378/4378 - 71s - loss: 0.5869 - accuracy: 0.7807 - val_loss: 0.6539 - val_accuracy: 0.8201 - lr: 0.0010 - 71s/epoch - 16ms/step
Epoch 41/75
4378/4378 - 71s - loss: 0.5877 - accuracy: 0.7810 - val_loss: 0.6409 - val_accuracy: 0.8336 - lr: 0.0010 - 71s/epoch - 16ms/step
Epoch 42/75
4378/4378 - 71s - loss: 0.5883 - accuracy: 0.7804 - val_loss: 0.6796 - val_accuracy: 0.8116 - lr: 0.0010 - 71s/epoch - 16ms/step
Epoch 43/75
4378/4378 - 71s - loss: 0.5816 - accuracy: 0.7838 - val_loss: 0.6382 - val_accuracy: 0.8198 - lr: 0.0010 - 71s/epoch - 16ms/step
Epoch 44/75
4378/4378 - 71s - loss: 0.5863 - accuracy: 0.7814 - val_loss: 0.7133 - val_accuracy: 0.7831 - lr: 0.0010 - 71s/epoch - 16ms/step
Epoch 45/75
4378/4378 - 71s - loss: 0.5832 - accuracy: 0.7816 - val_loss: 0.6416 - val_accuracy: 0.8149 - lr: 0.0010 - 71s/epoch - 16ms/step
Epoch 46/75
4378/4378 - 71s - loss: 0.5835 - accuracy: 0.7816 - val_loss: 0.6364 - val_accuracy: 0.8241 - lr: 0.0010 - 71s/epoch - 16ms/step
Epoch 47/75
4378/4378 - 72s - loss: 0.5820 - accuracy: 0.7811 - val_loss: 0.6635 - val_accuracy: 0.8177 - lr: 0.0010 - 72s/epoch - 16ms/step
Epoch 48/75
4378/4378 - 70s - loss: 0.5851 - accuracy: 0.7815 - val_loss: 0.6368 - val_accuracy: 0.8128 - lr: 0.0010 - 70s/epoch - 16ms/step
Epoch 49/75
4378/4378 - 71s - loss: 0.5818 - accuracy: 0.7847 - val_loss: 0.5947 - val_accuracy: 0.8376 - lr: 0.0010 - 71s/epoch - 16ms/step
Epoch 50/75
4378/4378 - 71s - loss: 0.5806 - accuracy: 0.7840 - val_loss: 0.5890 - val_accuracy: 0.8306 - lr: 0.0010 - 71s/epoch - 16ms/step
Epoch 51/75
4378/4378 - 71s - loss: 0.5805 - accuracy: 0.7828 - val_loss: 0.5520 - val_accuracy: 0.8590 - lr: 0.0010 - 71s/epoch - 16ms/step
Epoch 52/75
4378/4378 - 71s - loss: 0.5763 - accuracy: 0.7842 - val_loss: 0.6689 - val_accuracy: 0.8214 - lr: 0.0010 - 71s/epoch - 16ms/step
Epoch 53/75
4378/4378 - 71s - loss: 0.5775 - accuracy: 0.7851 - val_loss: 0.5950 - val_accuracy: 0.8335 - lr: 0.0010 - 71s/epoch - 16ms/step
Epoch 54/75
4378/4378 - 71s - loss: 0.5815 - accuracy: 0.7823 - val_loss: 0.7268 - val_accuracy: 0.7713 - lr: 0.0010 - 71s/epoch - 16ms/step
Epoch 55/75
4378/4378 - 71s - loss: 0.5767 - accuracy: 0.7848 - val_loss: 0.5941 - val_accuracy: 0.8339 - lr: 0.0010 - 71s/epoch - 16ms/step
Epoch 56/75
4378/4378 - 71s - loss: 0.5788 - accuracy: 0.7846 - val_loss: 0.5388 - val_accuracy: 0.8414 - lr: 0.0010 - 71s/epoch - 16ms/step
Epoch 57/75
4378/4378 - 71s - loss: 0.5783 - accuracy: 0.7830 - val_loss: 0.5989 - val_accuracy: 0.8283 - lr: 0.0010 - 71s/epoch - 16ms/step
Epoch 58/75
4378/4378 - 71s - loss: 0.5748 - accuracy: 0.7870 - val_loss: 0.6131 - val_accuracy: 0.8308 - lr: 0.0010 - 71s/epoch - 16ms/step
Epoch 59/75
4378/4378 - 71s - loss: 0.5749 - accuracy: 0.7858 - val_loss: 0.6246 - val_accuracy: 0.8199 - lr: 0.0010 - 71s/epoch - 16ms/step
Epoch 60/75
4378/4378 - 71s - loss: 0.5749 - accuracy: 0.7844 - val_loss: 0.6034 - val_accuracy: 0.8507 - lr: 0.0010 - 71s/epoch - 16ms/step
Epoch 61/75
4378/4378 - 71s - loss: 0.5748 - accuracy: 0.7858 - val_loss: 0.5950 - val_accuracy: 0.8240 - lr: 0.0010 - 71s/epoch - 16ms/step
Epoch 62/75
4378/4378 - 71s - loss: 0.5754 - accuracy: 0.7848 - val_loss: 0.6332 - val_accuracy: 0.8191 - lr: 0.0010 - 71s/epoch - 16ms/step
Epoch 63/75
4378/4378 - 71s - loss: 0.5767 - accuracy: 0.7846 - val_loss: 0.5439 - val_accuracy: 0.8457 - lr: 0.0010 - 71s/epoch - 16ms/step
Epoch 64/75
4378/4378 - 71s - loss: 0.5742 - accuracy: 0.7863 - val_loss: 0.6434 - val_accuracy: 0.8204 - lr: 0.0010 - 71s/epoch - 16ms/step
Epoch 65/75
4378/4378 - 73s - loss: 0.5734 - accuracy: 0.7856 - val_loss: 0.5482 - val_accuracy: 0.8519 - lr: 0.0010 - 73s/epoch - 17ms/step
Epoch 66/75
4378/4378 - 72s - loss: 0.5703 - accuracy: 0.7873 - val_loss: 0.5444 - val_accuracy: 0.8427 - lr: 0.0010 - 72s/epoch - 16ms/step
Epoch 67/75
4378/4378 - 71s - loss: 0.5680 - accuracy: 0.7889 - val_loss: 0.6346 - val_accuracy: 0.8195 - lr: 0.0010 - 71s/epoch - 16ms/step
Epoch 68/75
4378/4378 - 71s - loss: 0.5709 - accuracy: 0.7866 - val_loss: 0.5498 - val_accuracy: 0.8478 - lr: 0.0010 - 71s/epoch - 16ms/step
Epoch 69/75
4378/4378 - 71s - loss: 0.5720 - accuracy: 0.7871 - val_loss: 0.6479 - val_accuracy: 0.8122 - lr: 0.0010 - 71s/epoch - 16ms/step
Epoch 70/75
4378/4378 - 71s - loss: 0.5703 - accuracy: 0.7874 - val_loss: 0.6212 - val_accuracy: 0.8140 - lr: 0.0010 - 71s/epoch - 16ms/step
Epoch 71/75
4378/4378 - 71s - loss: 0.5684 - accuracy: 0.7882 - val_loss: 0.6314 - val_accuracy: 0.8266 - lr: 0.0010 - 71s/epoch - 16ms/step
Epoch 72/75
4378/4378 - 72s - loss: 0.5693 - accuracy: 0.7891 - val_loss: 0.6357 - val_accuracy: 0.8152 - lr: 0.0010 - 72s/epoch - 16ms/step
Epoch 73/75
4378/4378 - 72s - loss: 0.5676 - accuracy: 0.7886 - val_loss: 0.6602 - val_accuracy: 0.8215 - lr: 0.0010 - 72s/epoch - 16ms/step
Epoch 74/75
4378/4378 - 71s - loss: 0.5655 - accuracy: 0.7904 - val_loss: 0.6541 - val_accuracy: 0.8117 - lr: 0.0010 - 71s/epoch - 16ms/step
Epoch 75/75
4378/4378 - 71s - loss: 0.5684 - accuracy: 0.7889 - val_loss: 0.5543 - val_accuracy: 0.8423 - lr: 0.0010 - 71s/epoch - 16ms/step
fitting with batch size: 100
Epoch 1/75
876/876 - 19s - loss: 0.5097 - accuracy: 0.8148 - val_loss: 0.6018 - val_accuracy: 0.8260 - lr: 0.0010 - 19s/epoch - 22ms/step
Epoch 2/75
876/876 - 17s - loss: 0.4992 - accuracy: 0.8176 - val_loss: 0.5754 - val_accuracy: 0.8351 - lr: 0.0010 - 17s/epoch - 19ms/step
Epoch 3/75
876/876 - 17s - loss: 0.4968 - accuracy: 0.8187 - val_loss: 0.5826 - val_accuracy: 0.8336 - lr: 0.0010 - 17s/epoch - 19ms/step
Epoch 4/75
876/876 - 16s - loss: 0.4919 - accuracy: 0.8201 - val_loss: 0.5920 - val_accuracy: 0.8320 - lr: 0.0010 - 16s/epoch - 19ms/step
Epoch 5/75
876/876 - 16s - loss: 0.4905 - accuracy: 0.8205 - val_loss: 0.5605 - val_accuracy: 0.8412 - lr: 0.0010 - 16s/epoch - 19ms/step
Epoch 6/75
876/876 - 16s - loss: 0.4890 - accuracy: 0.8217 - val_loss: 0.5670 - val_accuracy: 0.8380 - lr: 0.0010 - 16s/epoch - 19ms/step
Epoch 7/75
876/876 - 17s - loss: 0.4874 - accuracy: 0.8224 - val_loss: 0.6007 - val_accuracy: 0.8287 - lr: 0.0010 - 17s/epoch - 19ms/step
Epoch 8/75
876/876 - 16s - loss: 0.4857 - accuracy: 0.8243 - val_loss: 0.6185 - val_accuracy: 0.8219 - lr: 0.0010 - 16s/epoch - 19ms/step
Epoch 9/75
876/876 - 16s - loss: 0.4846 - accuracy: 0.8229 - val_loss: 0.5840 - val_accuracy: 0.8271 - lr: 0.0010 - 16s/epoch - 19ms/step
Epoch 10/75
876/876 - 16s - loss: 0.4843 - accuracy: 0.8225 - val_loss: 0.6065 - val_accuracy: 0.8222 - lr: 0.0010 - 16s/epoch - 19ms/step
Epoch 11/75
876/876 - 16s - loss: 0.4822 - accuracy: 0.8231 - val_loss: 0.5815 - val_accuracy: 0.8369 - lr: 0.0010 - 16s/epoch - 19ms/step
Epoch 12/75
876/876 - 16s - loss: 0.4821 - accuracy: 0.8248 - val_loss: 0.6018 - val_accuracy: 0.8304 - lr: 0.0010 - 16s/epoch - 19ms/step
Epoch 13/75
876/876 - 16s - loss: 0.4809 - accuracy: 0.8243 - val_loss: 0.6001 - val_accuracy: 0.8285 - lr: 0.0010 - 16s/epoch - 19ms/step
Epoch 14/75
876/876 - 16s - loss: 0.4798 - accuracy: 0.8257 - val_loss: 0.6027 - val_accuracy: 0.8277 - lr: 0.0010 - 16s/epoch - 19ms/step
Epoch 15/75
876/876 - 17s - loss: 0.4787 - accuracy: 0.8258 - val_loss: 0.5921 - val_accuracy: 0.8238 - lr: 0.0010 - 17s/epoch - 19ms/step
Epoch 16/75
876/876 - 16s - loss: 0.4785 - accuracy: 0.8264 - val_loss: 0.6003 - val_accuracy: 0.8261 - lr: 0.0010 - 16s/epoch - 19ms/step
Epoch 17/75
876/876 - 16s - loss: 0.4763 - accuracy: 0.8265 - val_loss: 0.6035 - val_accuracy: 0.8253 - lr: 0.0010 - 16s/epoch - 19ms/step
Epoch 18/75
876/876 - 16s - loss: 0.4775 - accuracy: 0.8252 - val_loss: 0.6052 - val_accuracy: 0.8235 - lr: 0.0010 - 16s/epoch - 19ms/step
Epoch 19/75
876/876 - 16s - loss: 0.4751 - accuracy: 0.8278 - val_loss: 0.5963 - val_accuracy: 0.8287 - lr: 0.0010 - 16s/epoch - 19ms/step
Epoch 20/75
876/876 - 16s - loss: 0.4757 - accuracy: 0.8266 - val_loss: 0.5953 - val_accuracy: 0.8296 - lr: 0.0010 - 16s/epoch - 19ms/step
Epoch 21/75
876/876 - 17s - loss: 0.4759 - accuracy: 0.8269 - val_loss: 0.5784 - val_accuracy: 0.8375 - lr: 0.0010 - 17s/epoch - 19ms/step
Epoch 22/75
876/876 - 16s - loss: 0.4747 - accuracy: 0.8270 - val_loss: 0.6030 - val_accuracy: 0.8259 - lr: 0.0010 - 16s/epoch - 19ms/step
Epoch 23/75
876/876 - 16s - loss: 0.4723 - accuracy: 0.8277 - val_loss: 0.6064 - val_accuracy: 0.8267 - lr: 0.0010 - 16s/epoch - 19ms/step
Epoch 24/75
876/876 - 16s - loss: 0.4719 - accuracy: 0.8278 - val_loss: 0.5972 - val_accuracy: 0.8324 - lr: 0.0010 - 16s/epoch - 19ms/step
Epoch 25/75
876/876 - 16s - loss: 0.4744 - accuracy: 0.8259 - val_loss: 0.5940 - val_accuracy: 0.8243 - lr: 0.0010 - 16s/epoch - 19ms/step
Epoch 26/75
876/876 - 16s - loss: 0.4712 - accuracy: 0.8288 - val_loss: 0.6222 - val_accuracy: 0.8234 - lr: 0.0010 - 16s/epoch - 19ms/step
Epoch 27/75
876/876 - 16s - loss: 0.4712 - accuracy: 0.8302 - val_loss: 0.6018 - val_accuracy: 0.8290 - lr: 0.0010 - 16s/epoch - 19ms/step
Epoch 28/75
876/876 - 16s - loss: 0.4705 - accuracy: 0.8288 - val_loss: 0.6198 - val_accuracy: 0.8276 - lr: 0.0010 - 16s/epoch - 19ms/step
Epoch 29/75
876/876 - 16s - loss: 0.4701 - accuracy: 0.8287 - val_loss: 0.6192 - val_accuracy: 0.8222 - lr: 0.0010 - 16s/epoch - 19ms/step
Epoch 30/75
876/876 - 16s - loss: 0.4699 - accuracy: 0.8295 - val_loss: 0.6288 - val_accuracy: 0.8240 - lr: 0.0010 - 16s/epoch - 19ms/step
Epoch 31/75
876/876 - 16s - loss: 0.4688 - accuracy: 0.8296 - val_loss: 0.5980 - val_accuracy: 0.8249 - lr: 0.0010 - 16s/epoch - 19ms/step
Epoch 32/75
876/876 - 17s - loss: 0.4701 - accuracy: 0.8288 - val_loss: 0.6328 - val_accuracy: 0.8209 - lr: 0.0010 - 17s/epoch - 19ms/step
Epoch 33/75
876/876 - 16s - loss: 0.4688 - accuracy: 0.8295 - val_loss: 0.6168 - val_accuracy: 0.8244 - lr: 0.0010 - 16s/epoch - 19ms/step
Epoch 34/75
876/876 - 17s - loss: 0.4700 - accuracy: 0.8276 - val_loss: 0.5941 - val_accuracy: 0.8311 - lr: 0.0010 - 17s/epoch - 19ms/step
Epoch 35/75
876/876 - 16s - loss: 0.4674 - accuracy: 0.8289 - val_loss: 0.6142 - val_accuracy: 0.8268 - lr: 0.0010 - 16s/epoch - 19ms/step
Epoch 36/75
876/876 - 16s - loss: 0.4675 - accuracy: 0.8301 - val_loss: 0.6422 - val_accuracy: 0.8165 - lr: 0.0010 - 16s/epoch - 19ms/step
Epoch 37/75
876/876 - 16s - loss: 0.4660 - accuracy: 0.8309 - val_loss: 0.5985 - val_accuracy: 0.8328 - lr: 0.0010 - 16s/epoch - 19ms/step
Epoch 38/75
876/876 - 16s - loss: 0.4663 - accuracy: 0.8309 - val_loss: 0.6185 - val_accuracy: 0.8201 - lr: 0.0010 - 16s/epoch - 19ms/step
Epoch 39/75
876/876 - 16s - loss: 0.4650 - accuracy: 0.8319 - val_loss: 0.6173 - val_accuracy: 0.8222 - lr: 0.0010 - 16s/epoch - 19ms/step
Epoch 40/75
876/876 - 16s - loss: 0.4657 - accuracy: 0.8309 - val_loss: 0.6127 - val_accuracy: 0.8258 - lr: 0.0010 - 16s/epoch - 19ms/step
Epoch 41/75
876/876 - 16s - loss: 0.4663 - accuracy: 0.8310 - val_loss: 0.6115 - val_accuracy: 0.8238 - lr: 0.0010 - 16s/epoch - 19ms/step
Epoch 42/75
876/876 - 16s - loss: 0.4657 - accuracy: 0.8318 - val_loss: 0.5985 - val_accuracy: 0.8283 - lr: 0.0010 - 16s/epoch - 19ms/step
Epoch 43/75
876/876 - 16s - loss: 0.4641 - accuracy: 0.8319 - val_loss: 0.6185 - val_accuracy: 0.8216 - lr: 0.0010 - 16s/epoch - 19ms/step
Epoch 44/75
876/876 - 16s - loss: 0.4656 - accuracy: 0.8308 - val_loss: 0.5999 - val_accuracy: 0.8303 - lr: 0.0010 - 16s/epoch - 19ms/step
Epoch 45/75
876/876 - 16s - loss: 0.4634 - accuracy: 0.8311 - val_loss: 0.6144 - val_accuracy: 0.8208 - lr: 0.0010 - 16s/epoch - 19ms/step
Epoch 46/75
876/876 - 16s - loss: 0.4634 - accuracy: 0.8320 - val_loss: 0.6201 - val_accuracy: 0.8259 - lr: 0.0010 - 16s/epoch - 19ms/step
Epoch 47/75
876/876 - 16s - loss: 0.4607 - accuracy: 0.8318 - val_loss: 0.6342 - val_accuracy: 0.8125 - lr: 0.0010 - 16s/epoch - 19ms/step
Epoch 48/75
876/876 - 16s - loss: 0.4632 - accuracy: 0.8319 - val_loss: 0.5891 - val_accuracy: 0.8362 - lr: 0.0010 - 16s/epoch - 19ms/step
Epoch 49/75
876/876 - 16s - loss: 0.4605 - accuracy: 0.8321 - val_loss: 0.5720 - val_accuracy: 0.8351 - lr: 0.0010 - 16s/epoch - 19ms/step
Epoch 50/75
876/876 - 16s - loss: 0.4598 - accuracy: 0.8311 - val_loss: 0.6346 - val_accuracy: 0.8180 - lr: 0.0010 - 16s/epoch - 19ms/step
Epoch 51/75
876/876 - 16s - loss: 0.4612 - accuracy: 0.8324 - val_loss: 0.6198 - val_accuracy: 0.8187 - lr: 0.0010 - 16s/epoch - 19ms/step
Epoch 52/75
876/876 - 17s - loss: 0.4599 - accuracy: 0.8320 - val_loss: 0.6444 - val_accuracy: 0.8140 - lr: 0.0010 - 17s/epoch - 19ms/step
Epoch 53/75
876/876 - 16s - loss: 0.4587 - accuracy: 0.8335 - val_loss: 0.6176 - val_accuracy: 0.8219 - lr: 0.0010 - 16s/epoch - 19ms/step
Epoch 54/75
876/876 - 16s - loss: 0.4619 - accuracy: 0.8323 - val_loss: 0.5985 - val_accuracy: 0.8353 - lr: 0.0010 - 16s/epoch - 19ms/step
Epoch 55/75
876/876 - 16s - loss: 0.4602 - accuracy: 0.8329 - val_loss: 0.6268 - val_accuracy: 0.8203 - lr: 0.0010 - 16s/epoch - 19ms/step
Epoch 56/75
876/876 - 16s - loss: 0.4577 - accuracy: 0.8342 - val_loss: 0.6535 - val_accuracy: 0.8151 - lr: 0.0010 - 16s/epoch - 19ms/step
Epoch 57/75
876/876 - 17s - loss: 0.4589 - accuracy: 0.8331 - val_loss: 0.6140 - val_accuracy: 0.8224 - lr: 0.0010 - 17s/epoch - 19ms/step
Epoch 58/75
876/876 - 16s - loss: 0.4582 - accuracy: 0.8341 - val_loss: 0.6245 - val_accuracy: 0.8234 - lr: 0.0010 - 16s/epoch - 19ms/step
Epoch 59/75
876/876 - 17s - loss: 0.4585 - accuracy: 0.8345 - val_loss: 0.5933 - val_accuracy: 0.8339 - lr: 0.0010 - 17s/epoch - 19ms/step
Epoch 60/75
876/876 - 17s - loss: 0.4571 - accuracy: 0.8334 - val_loss: 0.5778 - val_accuracy: 0.8376 - lr: 0.0010 - 17s/epoch - 19ms/step
Epoch 61/75
876/876 - 17s - loss: 0.4582 - accuracy: 0.8325 - val_loss: 0.6342 - val_accuracy: 0.8184 - lr: 0.0010 - 17s/epoch - 19ms/step
Epoch 62/75
876/876 - 16s - loss: 0.4564 - accuracy: 0.8344 - val_loss: 0.5402 - val_accuracy: 0.8504 - lr: 0.0010 - 16s/epoch - 19ms/step
Epoch 63/75
876/876 - 16s - loss: 0.4575 - accuracy: 0.8330 - val_loss: 0.6167 - val_accuracy: 0.8269 - lr: 0.0010 - 16s/epoch - 19ms/step
Epoch 64/75
876/876 - 17s - loss: 0.4567 - accuracy: 0.8337 - val_loss: 0.5791 - val_accuracy: 0.8420 - lr: 0.0010 - 17s/epoch - 19ms/step
Epoch 65/75
876/876 - 16s - loss: 0.4573 - accuracy: 0.8333 - val_loss: 0.5907 - val_accuracy: 0.8351 - lr: 0.0010 - 16s/epoch - 19ms/step
Epoch 66/75
876/876 - 16s - loss: 0.4569 - accuracy: 0.8343 - val_loss: 0.6303 - val_accuracy: 0.8239 - lr: 0.0010 - 16s/epoch - 19ms/step
Epoch 67/75
876/876 - 17s - loss: 0.4558 - accuracy: 0.8336 - val_loss: 0.6544 - val_accuracy: 0.8107 - lr: 0.0010 - 17s/epoch - 19ms/step
Epoch 68/75
876/876 - 16s - loss: 0.4560 - accuracy: 0.8337 - val_loss: 0.6257 - val_accuracy: 0.8173 - lr: 0.0010 - 16s/epoch - 19ms/step
Epoch 69/75
876/876 - 16s - loss: 0.4559 - accuracy: 0.8343 - val_loss: 0.6173 - val_accuracy: 0.8212 - lr: 0.0010 - 16s/epoch - 19ms/step
Epoch 70/75
876/876 - 16s - loss: 0.4561 - accuracy: 0.8336 - val_loss: 0.5964 - val_accuracy: 0.8273 - lr: 0.0010 - 16s/epoch - 19ms/step
Epoch 71/75
876/876 - 16s - loss: 0.4557 - accuracy: 0.8354 - val_loss: 0.6652 - val_accuracy: 0.8139 - lr: 0.0010 - 16s/epoch - 19ms/step
Epoch 72/75
876/876 - 17s - loss: 0.4546 - accuracy: 0.8337 - val_loss: 0.6526 - val_accuracy: 0.8171 - lr: 0.0010 - 17s/epoch - 19ms/step
Epoch 73/75
876/876 - 16s - loss: 0.4539 - accuracy: 0.8341 - val_loss: 0.6089 - val_accuracy: 0.8222 - lr: 0.0010 - 16s/epoch - 19ms/step
Epoch 74/75
876/876 - 16s - loss: 0.4543 - accuracy: 0.8343 - val_loss: 0.6520 - val_accuracy: 0.8108 - lr: 0.0010 - 16s/epoch - 19ms/step
Epoch 75/75
876/876 - 16s - loss: 0.4531 - accuracy: 0.8360 - val_loss: 0.6071 - val_accuracy: 0.8275 - lr: 0.0010 - 16s/epoch - 19ms/step
fitting with batch size: 500
Epoch 1/75
176/176 - 12s - loss: 0.4374 - accuracy: 0.8416 - val_loss: 0.6064 - val_accuracy: 0.8289 - lr: 0.0010 - 12s/epoch - 67ms/step
Epoch 2/75
176/176 - 8s - loss: 0.4317 - accuracy: 0.8442 - val_loss: 0.6343 - val_accuracy: 0.8149 - lr: 0.0010 - 8s/epoch - 48ms/step
Epoch 3/75
176/176 - 8s - loss: 0.4342 - accuracy: 0.8435 - val_loss: 0.6294 - val_accuracy: 0.8201 - lr: 0.0010 - 8s/epoch - 48ms/step
Epoch 4/75
176/176 - 8s - loss: 0.4319 - accuracy: 0.8442 - val_loss: 0.6167 - val_accuracy: 0.8224 - lr: 0.0010 - 8s/epoch - 47ms/step
Epoch 5/75
176/176 - 8s - loss: 0.4325 - accuracy: 0.8449 - val_loss: 0.6092 - val_accuracy: 0.8251 - lr: 0.0010 - 8s/epoch - 48ms/step
Epoch 6/75
176/176 - 8s - loss: 0.4318 - accuracy: 0.8441 - val_loss: 0.6276 - val_accuracy: 0.8237 - lr: 0.0010 - 8s/epoch - 48ms/step
Epoch 7/75
176/176 - 8s - loss: 0.4323 - accuracy: 0.8447 - val_loss: 0.6053 - val_accuracy: 0.8288 - lr: 0.0010 - 8s/epoch - 48ms/step
Epoch 8/75
176/176 - 8s - loss: 0.4299 - accuracy: 0.8457 - val_loss: 0.6296 - val_accuracy: 0.8213 - lr: 0.0010 - 8s/epoch - 48ms/step
Epoch 9/75
176/176 - 8s - loss: 0.4287 - accuracy: 0.8463 - val_loss: 0.5740 - val_accuracy: 0.8383 - lr: 0.0010 - 8s/epoch - 48ms/step
Epoch 10/75
176/176 - 8s - loss: 0.4299 - accuracy: 0.8463 - val_loss: 0.6237 - val_accuracy: 0.8200 - lr: 0.0010 - 8s/epoch - 48ms/step
Epoch 11/75
176/176 - 8s - loss: 0.4293 - accuracy: 0.8462 - val_loss: 0.6302 - val_accuracy: 0.8193 - lr: 0.0010 - 8s/epoch - 48ms/step
Epoch 12/75
176/176 - 8s - loss: 0.4294 - accuracy: 0.8443 - val_loss: 0.6069 - val_accuracy: 0.8283 - lr: 0.0010 - 8s/epoch - 48ms/step
Epoch 13/75
176/176 - 8s - loss: 0.4303 - accuracy: 0.8453 - val_loss: 0.6231 - val_accuracy: 0.8227 - lr: 0.0010 - 8s/epoch - 48ms/step
Epoch 14/75
176/176 - 8s - loss: 0.4311 - accuracy: 0.8437 - val_loss: 0.6312 - val_accuracy: 0.8167 - lr: 0.0010 - 8s/epoch - 48ms/step
Epoch 15/75
176/176 - 8s - loss: 0.4292 - accuracy: 0.8459 - val_loss: 0.6033 - val_accuracy: 0.8274 - lr: 0.0010 - 8s/epoch - 48ms/step
Epoch 16/75
176/176 - 8s - loss: 0.4285 - accuracy: 0.8460 - val_loss: 0.6343 - val_accuracy: 0.8214 - lr: 0.0010 - 8s/epoch - 48ms/step
Epoch 17/75
176/176 - 8s - loss: 0.4292 - accuracy: 0.8456 - val_loss: 0.6406 - val_accuracy: 0.8187 - lr: 0.0010 - 8s/epoch - 48ms/step
Epoch 18/75
176/176 - 8s - loss: 0.4285 - accuracy: 0.8462 - val_loss: 0.6348 - val_accuracy: 0.8170 - lr: 0.0010 - 8s/epoch - 48ms/step
Epoch 19/75
176/176 - 8s - loss: 0.4282 - accuracy: 0.8461 - val_loss: 0.6394 - val_accuracy: 0.8190 - lr: 0.0010 - 8s/epoch - 48ms/step
Epoch 20/75
176/176 - 8s - loss: 0.4280 - accuracy: 0.8466 - val_loss: 0.6210 - val_accuracy: 0.8222 - lr: 0.0010 - 8s/epoch - 48ms/step
Epoch 21/75
176/176 - 8s - loss: 0.4286 - accuracy: 0.8460 - val_loss: 0.6208 - val_accuracy: 0.8235 - lr: 0.0010 - 8s/epoch - 48ms/step
Epoch 22/75
176/176 - 8s - loss: 0.4280 - accuracy: 0.8470 - val_loss: 0.6486 - val_accuracy: 0.8165 - lr: 0.0010 - 8s/epoch - 48ms/step
Epoch 23/75
176/176 - 8s - loss: 0.4278 - accuracy: 0.8463 - val_loss: 0.6296 - val_accuracy: 0.8209 - lr: 0.0010 - 8s/epoch - 48ms/step
Epoch 24/75
176/176 - 8s - loss: 0.4269 - accuracy: 0.8465 - val_loss: 0.6373 - val_accuracy: 0.8186 - lr: 0.0010 - 8s/epoch - 48ms/step
Epoch 25/75
176/176 - 8s - loss: 0.4278 - accuracy: 0.8468 - val_loss: 0.6292 - val_accuracy: 0.8230 - lr: 0.0010 - 8s/epoch - 48ms/step
Epoch 26/75
176/176 - 8s - loss: 0.4277 - accuracy: 0.8464 - val_loss: 0.6012 - val_accuracy: 0.8259 - lr: 0.0010 - 8s/epoch - 48ms/step
Epoch 27/75
176/176 - 8s - loss: 0.4263 - accuracy: 0.8473 - val_loss: 0.6409 - val_accuracy: 0.8186 - lr: 0.0010 - 8s/epoch - 48ms/step
Epoch 28/75
176/176 - 8s - loss: 0.4262 - accuracy: 0.8471 - val_loss: 0.6412 - val_accuracy: 0.8150 - lr: 0.0010 - 8s/epoch - 48ms/step
Epoch 29/75
176/176 - 8s - loss: 0.4288 - accuracy: 0.8454 - val_loss: 0.5942 - val_accuracy: 0.8317 - lr: 0.0010 - 8s/epoch - 48ms/step
Epoch 30/75
176/176 - 8s - loss: 0.4269 - accuracy: 0.8461 - val_loss: 0.6232 - val_accuracy: 0.8217 - lr: 0.0010 - 8s/epoch - 48ms/step
Epoch 31/75
176/176 - 8s - loss: 0.4255 - accuracy: 0.8480 - val_loss: 0.6129 - val_accuracy: 0.8241 - lr: 0.0010 - 8s/epoch - 48ms/step
Epoch 32/75
176/176 - 8s - loss: 0.4274 - accuracy: 0.8457 - val_loss: 0.6271 - val_accuracy: 0.8214 - lr: 0.0010 - 8s/epoch - 48ms/step
Epoch 33/75
176/176 - 8s - loss: 0.4257 - accuracy: 0.8465 - val_loss: 0.6069 - val_accuracy: 0.8270 - lr: 0.0010 - 8s/epoch - 48ms/step
Epoch 34/75
176/176 - 8s - loss: 0.4247 - accuracy: 0.8466 - val_loss: 0.6286 - val_accuracy: 0.8211 - lr: 0.0010 - 8s/epoch - 48ms/step
Epoch 35/75
176/176 - 8s - loss: 0.4254 - accuracy: 0.8473 - val_loss: 0.6179 - val_accuracy: 0.8240 - lr: 0.0010 - 8s/epoch - 48ms/step
Epoch 36/75
176/176 - 9s - loss: 0.4274 - accuracy: 0.8464 - val_loss: 0.6439 - val_accuracy: 0.8155 - lr: 0.0010 - 9s/epoch - 49ms/step
Epoch 37/75
176/176 - 8s - loss: 0.4269 - accuracy: 0.8462 - val_loss: 0.6143 - val_accuracy: 0.8257 - lr: 0.0010 - 8s/epoch - 48ms/step
Epoch 38/75
176/176 - 8s - loss: 0.4243 - accuracy: 0.8467 - val_loss: 0.6322 - val_accuracy: 0.8249 - lr: 0.0010 - 8s/epoch - 48ms/step
Epoch 39/75
176/176 - 8s - loss: 0.4252 - accuracy: 0.8470 - val_loss: 0.6272 - val_accuracy: 0.8224 - lr: 0.0010 - 8s/epoch - 48ms/step
Epoch 40/75
176/176 - 8s - loss: 0.4250 - accuracy: 0.8468 - val_loss: 0.6175 - val_accuracy: 0.8275 - lr: 0.0010 - 8s/epoch - 48ms/step
Epoch 41/75
176/176 - 8s - loss: 0.4242 - accuracy: 0.8481 - val_loss: 0.6245 - val_accuracy: 0.8215 - lr: 0.0010 - 8s/epoch - 48ms/step
Epoch 42/75
176/176 - 8s - loss: 0.4252 - accuracy: 0.8470 - val_loss: 0.6381 - val_accuracy: 0.8195 - lr: 0.0010 - 8s/epoch - 48ms/step
Epoch 43/75
176/176 - 8s - loss: 0.4240 - accuracy: 0.8479 - val_loss: 0.6489 - val_accuracy: 0.8134 - lr: 0.0010 - 8s/epoch - 48ms/step
Epoch 44/75
176/176 - 8s - loss: 0.4253 - accuracy: 0.8468 - val_loss: 0.6297 - val_accuracy: 0.8207 - lr: 0.0010 - 8s/epoch - 48ms/step
Epoch 45/75
176/176 - 8s - loss: 0.4238 - accuracy: 0.8481 - val_loss: 0.6285 - val_accuracy: 0.8229 - lr: 0.0010 - 8s/epoch - 48ms/step
Epoch 46/75
176/176 - 8s - loss: 0.4250 - accuracy: 0.8471 - val_loss: 0.6001 - val_accuracy: 0.8326 - lr: 0.0010 - 8s/epoch - 48ms/step
Epoch 47/75
176/176 - 8s - loss: 0.4241 - accuracy: 0.8471 - val_loss: 0.6391 - val_accuracy: 0.8190 - lr: 0.0010 - 8s/epoch - 48ms/step
Epoch 48/75
176/176 - 8s - loss: 0.4254 - accuracy: 0.8468 - val_loss: 0.6080 - val_accuracy: 0.8276 - lr: 0.0010 - 8s/epoch - 48ms/step
Epoch 49/75
176/176 - 8s - loss: 0.4237 - accuracy: 0.8473 - val_loss: 0.6196 - val_accuracy: 0.8245 - lr: 0.0010 - 8s/epoch - 48ms/step
Epoch 50/75
176/176 - 8s - loss: 0.4250 - accuracy: 0.8474 - val_loss: 0.6373 - val_accuracy: 0.8183 - lr: 0.0010 - 8s/epoch - 48ms/step
Epoch 51/75
176/176 - 8s - loss: 0.4230 - accuracy: 0.8481 - val_loss: 0.6177 - val_accuracy: 0.8268 - lr: 0.0010 - 8s/epoch - 48ms/step
Epoch 52/75
176/176 - 8s - loss: 0.4236 - accuracy: 0.8476 - val_loss: 0.6312 - val_accuracy: 0.8192 - lr: 0.0010 - 8s/epoch - 48ms/step
Epoch 53/75
176/176 - 8s - loss: 0.4231 - accuracy: 0.8474 - val_loss: 0.6374 - val_accuracy: 0.8212 - lr: 0.0010 - 8s/epoch - 48ms/step
Epoch 54/75
176/176 - 8s - loss: 0.4233 - accuracy: 0.8469 - val_loss: 0.6247 - val_accuracy: 0.8229 - lr: 0.0010 - 8s/epoch - 48ms/step
Epoch 55/75
176/176 - 8s - loss: 0.4252 - accuracy: 0.8468 - val_loss: 0.6422 - val_accuracy: 0.8217 - lr: 0.0010 - 8s/epoch - 48ms/step
Epoch 56/75
176/176 - 8s - loss: 0.4238 - accuracy: 0.8468 - val_loss: 0.6395 - val_accuracy: 0.8217 - lr: 0.0010 - 8s/epoch - 48ms/step
Epoch 57/75
176/176 - 8s - loss: 0.4228 - accuracy: 0.8475 - val_loss: 0.6273 - val_accuracy: 0.8225 - lr: 0.0010 - 8s/epoch - 48ms/step
Epoch 58/75
176/176 - 8s - loss: 0.4244 - accuracy: 0.8469 - val_loss: 0.6169 - val_accuracy: 0.8283 - lr: 0.0010 - 8s/epoch - 48ms/step
Epoch 59/75
176/176 - 8s - loss: 0.4237 - accuracy: 0.8479 - val_loss: 0.6065 - val_accuracy: 0.8279 - lr: 0.0010 - 8s/epoch - 48ms/step
Epoch 60/75
176/176 - 8s - loss: 0.4233 - accuracy: 0.8482 - val_loss: 0.6156 - val_accuracy: 0.8253 - lr: 0.0010 - 8s/epoch - 48ms/step
Epoch 61/75
176/176 - 8s - loss: 0.4217 - accuracy: 0.8486 - val_loss: 0.6466 - val_accuracy: 0.8178 - lr: 0.0010 - 8s/epoch - 48ms/step
Epoch 62/75
176/176 - 8s - loss: 0.4224 - accuracy: 0.8478 - val_loss: 0.6122 - val_accuracy: 0.8242 - lr: 0.0010 - 8s/epoch - 48ms/step
Epoch 63/75
176/176 - 8s - loss: 0.4240 - accuracy: 0.8473 - val_loss: 0.6256 - val_accuracy: 0.8229 - lr: 0.0010 - 8s/epoch - 48ms/step
Epoch 64/75
176/176 - 8s - loss: 0.4218 - accuracy: 0.8495 - val_loss: 0.6635 - val_accuracy: 0.8123 - lr: 0.0010 - 8s/epoch - 48ms/step
Epoch 65/75
176/176 - 8s - loss: 0.4216 - accuracy: 0.8481 - val_loss: 0.6100 - val_accuracy: 0.8259 - lr: 0.0010 - 8s/epoch - 48ms/step
Epoch 66/75
176/176 - 8s - loss: 0.4228 - accuracy: 0.8482 - val_loss: 0.5818 - val_accuracy: 0.8346 - lr: 0.0010 - 8s/epoch - 48ms/step
Epoch 67/75
176/176 - 8s - loss: 0.4221 - accuracy: 0.8484 - val_loss: 0.6458 - val_accuracy: 0.8173 - lr: 0.0010 - 8s/epoch - 48ms/step
Epoch 68/75
176/176 - 8s - loss: 0.4216 - accuracy: 0.8487 - val_loss: 0.6106 - val_accuracy: 0.8295 - lr: 0.0010 - 8s/epoch - 48ms/step
Epoch 69/75
176/176 - 8s - loss: 0.4208 - accuracy: 0.8497 - val_loss: 0.6269 - val_accuracy: 0.8215 - lr: 0.0010 - 8s/epoch - 48ms/step
Epoch 70/75
176/176 - 8s - loss: 0.4220 - accuracy: 0.8487 - val_loss: 0.6566 - val_accuracy: 0.8147 - lr: 0.0010 - 8s/epoch - 48ms/step
Epoch 71/75
176/176 - 8s - loss: 0.4210 - accuracy: 0.8486 - val_loss: 0.6392 - val_accuracy: 0.8224 - lr: 0.0010 - 8s/epoch - 48ms/step
Epoch 72/75
176/176 - 8s - loss: 0.4217 - accuracy: 0.8478 - val_loss: 0.6225 - val_accuracy: 0.8224 - lr: 0.0010 - 8s/epoch - 48ms/step
Epoch 73/75
176/176 - 8s - loss: 0.4216 - accuracy: 0.8484 - val_loss: 0.6399 - val_accuracy: 0.8205 - lr: 0.0010 - 8s/epoch - 48ms/step
Epoch 74/75
176/176 - 8s - loss: 0.4217 - accuracy: 0.8472 - val_loss: 0.6281 - val_accuracy: 0.8202 - lr: 0.0010 - 8s/epoch - 48ms/step
Epoch 75/75
176/176 - 8s - loss: 0.4200 - accuracy: 0.8488 - val_loss: 0.6364 - val_accuracy: 0.8207 - lr: 0.0010 - 8s/epoch - 48ms/step
fitting with batch size: 1500
Epoch 1/75
59/59 - 9s - loss: 0.4174 - accuracy: 0.8509 - val_loss: 0.6367 - val_accuracy: 0.8211 - lr: 0.0010 - 9s/epoch - 159ms/step
Epoch 2/75
59/59 - 7s - loss: 0.4181 - accuracy: 0.8500 - val_loss: 0.6291 - val_accuracy: 0.8232 - lr: 0.0010 - 7s/epoch - 126ms/step
Epoch 3/75
59/59 - 7s - loss: 0.4198 - accuracy: 0.8494 - val_loss: 0.6385 - val_accuracy: 0.8203 - lr: 0.0010 - 7s/epoch - 126ms/step
Epoch 4/75
59/59 - 7s - loss: 0.4188 - accuracy: 0.8489 - val_loss: 0.6365 - val_accuracy: 0.8206 - lr: 0.0010 - 7s/epoch - 126ms/step
Epoch 5/75
59/59 - 7s - loss: 0.4171 - accuracy: 0.8503 - val_loss: 0.6395 - val_accuracy: 0.8191 - lr: 0.0010 - 7s/epoch - 126ms/step
Epoch 6/75
59/59 - 7s - loss: 0.4186 - accuracy: 0.8487 - val_loss: 0.6287 - val_accuracy: 0.8231 - lr: 0.0010 - 7s/epoch - 126ms/step
Epoch 7/75
59/59 - 7s - loss: 0.4184 - accuracy: 0.8495 - val_loss: 0.6334 - val_accuracy: 0.8213 - lr: 0.0010 - 7s/epoch - 126ms/step
Epoch 8/75
59/59 - 7s - loss: 0.4174 - accuracy: 0.8501 - val_loss: 0.6333 - val_accuracy: 0.8208 - lr: 0.0010 - 7s/epoch - 126ms/step
Epoch 9/75
59/59 - 7s - loss: 0.4174 - accuracy: 0.8504 - val_loss: 0.6230 - val_accuracy: 0.8227 - lr: 0.0010 - 7s/epoch - 126ms/step
Epoch 10/75
59/59 - 7s - loss: 0.4163 - accuracy: 0.8507 - val_loss: 0.6248 - val_accuracy: 0.8224 - lr: 0.0010 - 7s/epoch - 126ms/step
Epoch 11/75
59/59 - 7s - loss: 0.4176 - accuracy: 0.8506 - val_loss: 0.6393 - val_accuracy: 0.8202 - lr: 0.0010 - 7s/epoch - 126ms/step
Epoch 12/75
59/59 - 7s - loss: 0.4169 - accuracy: 0.8512 - val_loss: 0.6327 - val_accuracy: 0.8205 - lr: 0.0010 - 7s/epoch - 126ms/step
Epoch 13/75
59/59 - 7s - loss: 0.4186 - accuracy: 0.8502 - val_loss: 0.6296 - val_accuracy: 0.8229 - lr: 0.0010 - 7s/epoch - 126ms/step
Epoch 14/75
59/59 - 7s - loss: 0.4166 - accuracy: 0.8513 - val_loss: 0.6328 - val_accuracy: 0.8226 - lr: 0.0010 - 7s/epoch - 126ms/step
Epoch 15/75
59/59 - 7s - loss: 0.4180 - accuracy: 0.8501 - val_loss: 0.6428 - val_accuracy: 0.8190 - lr: 0.0010 - 7s/epoch - 126ms/step
Epoch 16/75
59/59 - 7s - loss: 0.4170 - accuracy: 0.8506 - val_loss: 0.6232 - val_accuracy: 0.8239 - lr: 0.0010 - 7s/epoch - 126ms/step
Epoch 17/75
59/59 - 7s - loss: 0.4160 - accuracy: 0.8502 - val_loss: 0.6273 - val_accuracy: 0.8222 - lr: 0.0010 - 7s/epoch - 127ms/step
Epoch 18/75
59/59 - 7s - loss: 0.4175 - accuracy: 0.8500 - val_loss: 0.6256 - val_accuracy: 0.8239 - lr: 0.0010 - 7s/epoch - 127ms/step
Epoch 19/75
59/59 - 7s - loss: 0.4169 - accuracy: 0.8504 - val_loss: 0.6264 - val_accuracy: 0.8233 - lr: 0.0010 - 7s/epoch - 127ms/step
Epoch 20/75
59/59 - 7s - loss: 0.4182 - accuracy: 0.8498 - val_loss: 0.6364 - val_accuracy: 0.8207 - lr: 0.0010 - 7s/epoch - 126ms/step
Epoch 21/75
59/59 - 7s - loss: 0.4159 - accuracy: 0.8510 - val_loss: 0.6311 - val_accuracy: 0.8227 - lr: 0.0010 - 7s/epoch - 126ms/step
Epoch 22/75
59/59 - 7s - loss: 0.4169 - accuracy: 0.8504 - val_loss: 0.6285 - val_accuracy: 0.8232 - lr: 0.0010 - 7s/epoch - 127ms/step
Epoch 23/75
59/59 - 7s - loss: 0.4174 - accuracy: 0.8507 - val_loss: 0.6329 - val_accuracy: 0.8216 - lr: 0.0010 - 7s/epoch - 126ms/step
Epoch 24/75
59/59 - 7s - loss: 0.4171 - accuracy: 0.8501 - val_loss: 0.6300 - val_accuracy: 0.8227 - lr: 0.0010 - 7s/epoch - 127ms/step
Epoch 25/75
59/59 - 7s - loss: 0.4160 - accuracy: 0.8509 - val_loss: 0.6225 - val_accuracy: 0.8241 - lr: 0.0010 - 7s/epoch - 126ms/step
Epoch 26/75
59/59 - 7s - loss: 0.4181 - accuracy: 0.8500 - val_loss: 0.6299 - val_accuracy: 0.8232 - lr: 0.0010 - 7s/epoch - 127ms/step
Epoch 27/75
59/59 - 7s - loss: 0.4171 - accuracy: 0.8498 - val_loss: 0.6352 - val_accuracy: 0.8214 - lr: 0.0010 - 7s/epoch - 126ms/step
Epoch 28/75
59/59 - 7s - loss: 0.4185 - accuracy: 0.8495 - val_loss: 0.6366 - val_accuracy: 0.8206 - lr: 0.0010 - 7s/epoch - 127ms/step
Epoch 29/75
59/59 - 7s - loss: 0.4158 - accuracy: 0.8510 - val_loss: 0.6305 - val_accuracy: 0.8214 - lr: 0.0010 - 7s/epoch - 126ms/step
Epoch 30/75
59/59 - 7s - loss: 0.4158 - accuracy: 0.8513 - val_loss: 0.6270 - val_accuracy: 0.8234 - lr: 0.0010 - 7s/epoch - 127ms/step
Epoch 31/75
59/59 - 7s - loss: 0.4186 - accuracy: 0.8502 - val_loss: 0.6319 - val_accuracy: 0.8223 - lr: 0.0010 - 7s/epoch - 126ms/step
Epoch 32/75
59/59 - 7s - loss: 0.4157 - accuracy: 0.8514 - val_loss: 0.6323 - val_accuracy: 0.8229 - lr: 0.0010 - 7s/epoch - 127ms/step
Epoch 33/75
59/59 - 7s - loss: 0.4180 - accuracy: 0.8507 - val_loss: 0.6316 - val_accuracy: 0.8224 - lr: 0.0010 - 7s/epoch - 127ms/step
Epoch 34/75
59/59 - 7s - loss: 0.4165 - accuracy: 0.8499 - val_loss: 0.6311 - val_accuracy: 0.8218 - lr: 0.0010 - 7s/epoch - 126ms/step
Epoch 35/75
59/59 - 7s - loss: 0.4147 - accuracy: 0.8519 - val_loss: 0.6323 - val_accuracy: 0.8221 - lr: 0.0010 - 7s/epoch - 127ms/step
Epoch 36/75
59/59 - 7s - loss: 0.4177 - accuracy: 0.8506 - val_loss: 0.6318 - val_accuracy: 0.8228 - lr: 0.0010 - 7s/epoch - 127ms/step
Epoch 37/75
59/59 - 7s - loss: 0.4164 - accuracy: 0.8502 - val_loss: 0.6412 - val_accuracy: 0.8208 - lr: 0.0010 - 7s/epoch - 127ms/step
Epoch 38/75
59/59 - 7s - loss: 0.4151 - accuracy: 0.8507 - val_loss: 0.6332 - val_accuracy: 0.8225 - lr: 0.0010 - 7s/epoch - 127ms/step
Epoch 39/75
59/59 - 7s - loss: 0.4157 - accuracy: 0.8506 - val_loss: 0.6316 - val_accuracy: 0.8219 - lr: 0.0010 - 7s/epoch - 126ms/step
Epoch 40/75
59/59 - 7s - loss: 0.4190 - accuracy: 0.8491 - val_loss: 0.6278 - val_accuracy: 0.8233 - lr: 0.0010 - 7s/epoch - 127ms/step
Epoch 41/75
59/59 - 7s - loss: 0.4164 - accuracy: 0.8511 - val_loss: 0.6309 - val_accuracy: 0.8235 - lr: 0.0010 - 7s/epoch - 127ms/step
Epoch 42/75
59/59 - 7s - loss: 0.4161 - accuracy: 0.8507 - val_loss: 0.6337 - val_accuracy: 0.8225 - lr: 0.0010 - 7s/epoch - 126ms/step
Epoch 43/75
59/59 - 7s - loss: 0.4147 - accuracy: 0.8518 - val_loss: 0.6366 - val_accuracy: 0.8206 - lr: 0.0010 - 7s/epoch - 126ms/step
Epoch 44/75
59/59 - 7s - loss: 0.4153 - accuracy: 0.8506 - val_loss: 0.6407 - val_accuracy: 0.8197 - lr: 0.0010 - 7s/epoch - 126ms/step
Epoch 45/75
59/59 - 7s - loss: 0.4140 - accuracy: 0.8522 - val_loss: 0.6366 - val_accuracy: 0.8199 - lr: 0.0010 - 7s/epoch - 126ms/step
Epoch 46/75
59/59 - 7s - loss: 0.4149 - accuracy: 0.8509 - val_loss: 0.6343 - val_accuracy: 0.8214 - lr: 0.0010 - 7s/epoch - 126ms/step
Epoch 47/75
59/59 - 7s - loss: 0.4162 - accuracy: 0.8507 - val_loss: 0.6306 - val_accuracy: 0.8224 - lr: 0.0010 - 7s/epoch - 127ms/step
Epoch 48/75
59/59 - 7s - loss: 0.4153 - accuracy: 0.8517 - val_loss: 0.6375 - val_accuracy: 0.8214 - lr: 0.0010 - 7s/epoch - 127ms/step
Epoch 49/75
59/59 - 7s - loss: 0.4158 - accuracy: 0.8502 - val_loss: 0.6264 - val_accuracy: 0.8245 - lr: 0.0010 - 7s/epoch - 127ms/step
Epoch 50/75
59/59 - 7s - loss: 0.4164 - accuracy: 0.8514 - val_loss: 0.6423 - val_accuracy: 0.8204 - lr: 0.0010 - 7s/epoch - 127ms/step
Epoch 51/75
59/59 - 7s - loss: 0.4152 - accuracy: 0.8502 - val_loss: 0.6304 - val_accuracy: 0.8219 - lr: 0.0010 - 7s/epoch - 127ms/step
Epoch 52/75
59/59 - 7s - loss: 0.4161 - accuracy: 0.8504 - val_loss: 0.6309 - val_accuracy: 0.8215 - lr: 0.0010 - 7s/epoch - 127ms/step
Epoch 53/75
59/59 - 7s - loss: 0.4144 - accuracy: 0.8513 - val_loss: 0.6409 - val_accuracy: 0.8203 - lr: 0.0010 - 7s/epoch - 127ms/step
Epoch 54/75
59/59 - 7s - loss: 0.4155 - accuracy: 0.8502 - val_loss: 0.6383 - val_accuracy: 0.8215 - lr: 0.0010 - 7s/epoch - 127ms/step
Epoch 55/75
59/59 - 7s - loss: 0.4146 - accuracy: 0.8521 - val_loss: 0.6336 - val_accuracy: 0.8220 - lr: 0.0010 - 7s/epoch - 126ms/step
Epoch 56/75
59/59 - 7s - loss: 0.4178 - accuracy: 0.8499 - val_loss: 0.6271 - val_accuracy: 0.8232 - lr: 0.0010 - 7s/epoch - 126ms/step
Epoch 57/75
59/59 - 7s - loss: 0.4139 - accuracy: 0.8516 - val_loss: 0.6316 - val_accuracy: 0.8226 - lr: 0.0010 - 7s/epoch - 126ms/step
Epoch 58/75
59/59 - 7s - loss: 0.4144 - accuracy: 0.8504 - val_loss: 0.6382 - val_accuracy: 0.8214 - lr: 0.0010 - 7s/epoch - 126ms/step
Epoch 59/75
59/59 - 7s - loss: 0.4142 - accuracy: 0.8518 - val_loss: 0.6401 - val_accuracy: 0.8193 - lr: 0.0010 - 7s/epoch - 127ms/step
Epoch 60/75
59/59 - 7s - loss: 0.4150 - accuracy: 0.8519 - val_loss: 0.6290 - val_accuracy: 0.8231 - lr: 0.0010 - 7s/epoch - 127ms/step
Epoch 61/75
59/59 - 7s - loss: 0.4146 - accuracy: 0.8511 - val_loss: 0.6283 - val_accuracy: 0.8239 - lr: 0.0010 - 7s/epoch - 126ms/step
Epoch 62/75
59/59 - 7s - loss: 0.4140 - accuracy: 0.8511 - val_loss: 0.6343 - val_accuracy: 0.8224 - lr: 0.0010 - 7s/epoch - 127ms/step
Epoch 63/75
59/59 - 7s - loss: 0.4150 - accuracy: 0.8508 - val_loss: 0.6379 - val_accuracy: 0.8202 - lr: 0.0010 - 7s/epoch - 126ms/step
Epoch 64/75
59/59 - 7s - loss: 0.4163 - accuracy: 0.8509 - val_loss: 0.6218 - val_accuracy: 0.8239 - lr: 0.0010 - 7s/epoch - 127ms/step
Epoch 65/75
59/59 - 7s - loss: 0.4162 - accuracy: 0.8501 - val_loss: 0.6274 - val_accuracy: 0.8236 - lr: 0.0010 - 7s/epoch - 126ms/step
Epoch 66/75
59/59 - 7s - loss: 0.4149 - accuracy: 0.8514 - val_loss: 0.6348 - val_accuracy: 0.8216 - lr: 0.0010 - 7s/epoch - 126ms/step
Epoch 67/75
59/59 - 7s - loss: 0.4158 - accuracy: 0.8509 - val_loss: 0.6337 - val_accuracy: 0.8218 - lr: 0.0010 - 7s/epoch - 127ms/step
Epoch 68/75
59/59 - 7s - loss: 0.4160 - accuracy: 0.8506 - val_loss: 0.6340 - val_accuracy: 0.8231 - lr: 0.0010 - 7s/epoch - 127ms/step
Epoch 69/75
59/59 - 7s - loss: 0.4123 - accuracy: 0.8524 - val_loss: 0.6353 - val_accuracy: 0.8226 - lr: 0.0010 - 7s/epoch - 127ms/step
Epoch 70/75
59/59 - 7s - loss: 0.4140 - accuracy: 0.8521 - val_loss: 0.6355 - val_accuracy: 0.8224 - lr: 0.0010 - 7s/epoch - 126ms/step
Epoch 71/75
59/59 - 7s - loss: 0.4155 - accuracy: 0.8510 - val_loss: 0.6315 - val_accuracy: 0.8230 - lr: 0.0010 - 7s/epoch - 127ms/step
Epoch 72/75
59/59 - 7s - loss: 0.4151 - accuracy: 0.8516 - val_loss: 0.6352 - val_accuracy: 0.8224 - lr: 0.0010 - 7s/epoch - 126ms/step
Epoch 73/75
59/59 - 7s - loss: 0.4152 - accuracy: 0.8518 - val_loss: 0.6338 - val_accuracy: 0.8212 - lr: 0.0010 - 7s/epoch - 126ms/step
Epoch 74/75
59/59 - 7s - loss: 0.4148 - accuracy: 0.8502 - val_loss: 0.6478 - val_accuracy: 0.8176 - lr: 0.0010 - 7s/epoch - 127ms/step
Epoch 75/75
59/59 - 7s - loss: 0.4142 - accuracy: 0.8506 - val_loss: 0.6363 - val_accuracy: 0.8219 - lr: 0.0010 - 7s/epoch - 127ms/step
fitting with batch size: 2500
Epoch 1/75
36/36 - 9s - loss: 0.4156 - accuracy: 0.8501 - val_loss: 0.6634 - val_accuracy: 0.8116 - lr: 0.0010 - 9s/epoch - 257ms/step
Epoch 2/75
36/36 - 7s - loss: 0.4158 - accuracy: 0.8501 - val_loss: 0.6675 - val_accuracy: 0.8129 - lr: 0.0010 - 7s/epoch - 201ms/step
Epoch 3/75
36/36 - 7s - loss: 0.4156 - accuracy: 0.8508 - val_loss: 0.6446 - val_accuracy: 0.8192 - lr: 0.0010 - 7s/epoch - 201ms/step
Epoch 4/75
36/36 - 7s - loss: 0.4137 - accuracy: 0.8524 - val_loss: 0.6271 - val_accuracy: 0.8237 - lr: 0.0010 - 7s/epoch - 201ms/step
Epoch 5/75
36/36 - 7s - loss: 0.4132 - accuracy: 0.8507 - val_loss: 0.6511 - val_accuracy: 0.8189 - lr: 0.0010 - 7s/epoch - 201ms/step
Epoch 6/75
36/36 - 7s - loss: 0.4141 - accuracy: 0.8516 - val_loss: 0.6453 - val_accuracy: 0.8158 - lr: 0.0010 - 7s/epoch - 201ms/step
Epoch 7/75
36/36 - 7s - loss: 0.4145 - accuracy: 0.8519 - val_loss: 0.6241 - val_accuracy: 0.8254 - lr: 0.0010 - 7s/epoch - 201ms/step
Epoch 8/75
36/36 - 7s - loss: 0.4148 - accuracy: 0.8511 - val_loss: 0.6614 - val_accuracy: 0.8158 - lr: 0.0010 - 7s/epoch - 201ms/step
Epoch 9/75
36/36 - 7s - loss: 0.4146 - accuracy: 0.8512 - val_loss: 0.6461 - val_accuracy: 0.8148 - lr: 0.0010 - 7s/epoch - 201ms/step
Epoch 10/75
36/36 - 7s - loss: 0.4151 - accuracy: 0.8507 - val_loss: 0.6368 - val_accuracy: 0.8213 - lr: 0.0010 - 7s/epoch - 201ms/step
Epoch 11/75
36/36 - 7s - loss: 0.4144 - accuracy: 0.8520 - val_loss: 0.6611 - val_accuracy: 0.8185 - lr: 0.0010 - 7s/epoch - 201ms/step
Epoch 12/75
36/36 - 7s - loss: 0.4175 - accuracy: 0.8491 - val_loss: 0.6457 - val_accuracy: 0.8195 - lr: 0.0010 - 7s/epoch - 201ms/step
Epoch 13/75
36/36 - 7s - loss: 0.4145 - accuracy: 0.8510 - val_loss: 0.6140 - val_accuracy: 0.8260 - lr: 0.0010 - 7s/epoch - 201ms/step
Epoch 14/75
36/36 - 7s - loss: 0.4175 - accuracy: 0.8500 - val_loss: 0.6226 - val_accuracy: 0.8289 - lr: 0.0010 - 7s/epoch - 201ms/step
Epoch 15/75
36/36 - 7s - loss: 0.4150 - accuracy: 0.8512 - val_loss: 0.6382 - val_accuracy: 0.8204 - lr: 0.0010 - 7s/epoch - 201ms/step
Epoch 16/75
36/36 - 7s - loss: 0.4149 - accuracy: 0.8515 - val_loss: 0.6315 - val_accuracy: 0.8219 - lr: 0.0010 - 7s/epoch - 201ms/step
Epoch 17/75
36/36 - 7s - loss: 0.4134 - accuracy: 0.8514 - val_loss: 0.6473 - val_accuracy: 0.8203 - lr: 0.0010 - 7s/epoch - 201ms/step
Epoch 18/75
36/36 - 7s - loss: 0.4144 - accuracy: 0.8506 - val_loss: 0.6494 - val_accuracy: 0.8175 - lr: 0.0010 - 7s/epoch - 201ms/step
Epoch 19/75
36/36 - 7s - loss: 0.4162 - accuracy: 0.8511 - val_loss: 0.6378 - val_accuracy: 0.8186 - lr: 0.0010 - 7s/epoch - 201ms/step
Epoch 20/75
36/36 - 7s - loss: 0.4151 - accuracy: 0.8514 - val_loss: 0.6347 - val_accuracy: 0.8224 - lr: 0.0010 - 7s/epoch - 201ms/step
Epoch 21/75
36/36 - 7s - loss: 0.4150 - accuracy: 0.8512 - val_loss: 0.6398 - val_accuracy: 0.8208 - lr: 0.0010 - 7s/epoch - 201ms/step
Epoch 22/75
36/36 - 7s - loss: 0.4160 - accuracy: 0.8512 - val_loss: 0.6495 - val_accuracy: 0.8186 - lr: 0.0010 - 7s/epoch - 202ms/step
Epoch 23/75
36/36 - 7s - loss: 0.4151 - accuracy: 0.8510 - val_loss: 0.6397 - val_accuracy: 0.8209 - lr: 0.0010 - 7s/epoch - 201ms/step
Epoch 24/75
36/36 - 7s - loss: 0.4144 - accuracy: 0.8517 - val_loss: 0.6309 - val_accuracy: 0.8252 - lr: 0.0010 - 7s/epoch - 201ms/step
Epoch 25/75
36/36 - 7s - loss: 0.4151 - accuracy: 0.8514 - val_loss: 0.6397 - val_accuracy: 0.8196 - lr: 0.0010 - 7s/epoch - 201ms/step
Epoch 26/75
36/36 - 7s - loss: 0.4140 - accuracy: 0.8516 - val_loss: 0.6370 - val_accuracy: 0.8214 - lr: 0.0010 - 7s/epoch - 201ms/step
Epoch 27/75
36/36 - 7s - loss: 0.4131 - accuracy: 0.8513 - val_loss: 0.6629 - val_accuracy: 0.8138 - lr: 0.0010 - 7s/epoch - 201ms/step
Epoch 28/75
36/36 - 7s - loss: 0.4148 - accuracy: 0.8510 - val_loss: 0.6125 - val_accuracy: 0.8288 - lr: 0.0010 - 7s/epoch - 202ms/step
Epoch 29/75
36/36 - 7s - loss: 0.4133 - accuracy: 0.8526 - val_loss: 0.6807 - val_accuracy: 0.8124 - lr: 0.0010 - 7s/epoch - 201ms/step
Epoch 30/75
36/36 - 7s - loss: 0.4197 - accuracy: 0.8495 - val_loss: 0.6243 - val_accuracy: 0.8256 - lr: 0.0010 - 7s/epoch - 201ms/step
Epoch 31/75
36/36 - 7s - loss: 0.4138 - accuracy: 0.8515 - val_loss: 0.6113 - val_accuracy: 0.8314 - lr: 0.0010 - 7s/epoch - 201ms/step
Epoch 32/75
36/36 - 7s - loss: 0.4140 - accuracy: 0.8510 - val_loss: 0.6459 - val_accuracy: 0.8201 - lr: 0.0010 - 7s/epoch - 201ms/step
Epoch 33/75
36/36 - 7s - loss: 0.4139 - accuracy: 0.8518 - val_loss: 0.6446 - val_accuracy: 0.8173 - lr: 0.0010 - 7s/epoch - 201ms/step
Epoch 34/75
36/36 - 7s - loss: 0.4154 - accuracy: 0.8512 - val_loss: 0.6694 - val_accuracy: 0.8117 - lr: 0.0010 - 7s/epoch - 201ms/step
Epoch 35/75
36/36 - 7s - loss: 0.4153 - accuracy: 0.8504 - val_loss: 0.6287 - val_accuracy: 0.8214 - lr: 0.0010 - 7s/epoch - 201ms/step
Epoch 36/75
36/36 - 7s - loss: 0.4115 - accuracy: 0.8517 - val_loss: 0.6422 - val_accuracy: 0.8200 - lr: 0.0010 - 7s/epoch - 201ms/step
Epoch 37/75
36/36 - 7s - loss: 0.4149 - accuracy: 0.8516 - val_loss: 0.6605 - val_accuracy: 0.8188 - lr: 0.0010 - 7s/epoch - 201ms/step
Epoch 38/75
36/36 - 7s - loss: 0.4148 - accuracy: 0.8516 - val_loss: 0.6362 - val_accuracy: 0.8225 - lr: 0.0010 - 7s/epoch - 201ms/step
Epoch 39/75
36/36 - 7s - loss: 0.4163 - accuracy: 0.8513 - val_loss: 0.6535 - val_accuracy: 0.8171 - lr: 0.0010 - 7s/epoch - 201ms/step
Epoch 40/75
36/36 - 7s - loss: 0.4147 - accuracy: 0.8513 - val_loss: 0.6834 - val_accuracy: 0.8085 - lr: 0.0010 - 7s/epoch - 201ms/step
Epoch 41/75
36/36 - 7s - loss: 0.4146 - accuracy: 0.8515 - val_loss: 0.6480 - val_accuracy: 0.8188 - lr: 0.0010 - 7s/epoch - 201ms/step
Epoch 42/75
36/36 - 7s - loss: 0.4155 - accuracy: 0.8505 - val_loss: 0.6374 - val_accuracy: 0.8198 - lr: 0.0010 - 7s/epoch - 201ms/step
Epoch 43/75
36/36 - 7s - loss: 0.4144 - accuracy: 0.8511 - val_loss: 0.6120 - val_accuracy: 0.8261 - lr: 0.0010 - 7s/epoch - 201ms/step
Epoch 44/75
36/36 - 7s - loss: 0.4139 - accuracy: 0.8515 - val_loss: 0.6338 - val_accuracy: 0.8206 - lr: 0.0010 - 7s/epoch - 201ms/step
Epoch 45/75
36/36 - 7s - loss: 0.4135 - accuracy: 0.8504 - val_loss: 0.6348 - val_accuracy: 0.8190 - lr: 0.0010 - 7s/epoch - 201ms/step
Epoch 46/75
36/36 - 7s - loss: 0.4138 - accuracy: 0.8507 - val_loss: 0.6360 - val_accuracy: 0.8207 - lr: 0.0010 - 7s/epoch - 201ms/step
Epoch 47/75
36/36 - 7s - loss: 0.4141 - accuracy: 0.8518 - val_loss: 0.6620 - val_accuracy: 0.8144 - lr: 0.0010 - 7s/epoch - 201ms/step
Epoch 48/75
36/36 - 7s - loss: 0.4153 - accuracy: 0.8510 - val_loss: 0.6651 - val_accuracy: 0.8131 - lr: 0.0010 - 7s/epoch - 201ms/step
Epoch 49/75
36/36 - 7s - loss: 0.4144 - accuracy: 0.8512 - val_loss: 0.6378 - val_accuracy: 0.8212 - lr: 0.0010 - 7s/epoch - 201ms/step
Epoch 50/75
36/36 - 7s - loss: 0.4146 - accuracy: 0.8516 - val_loss: 0.6470 - val_accuracy: 0.8202 - lr: 0.0010 - 7s/epoch - 201ms/step
Epoch 51/75
36/36 - 7s - loss: 0.4164 - accuracy: 0.8504 - val_loss: 0.6173 - val_accuracy: 0.8246 - lr: 0.0010 - 7s/epoch - 201ms/step
Epoch 52/75
36/36 - 7s - loss: 0.4130 - accuracy: 0.8521 - val_loss: 0.6557 - val_accuracy: 0.8159 - lr: 0.0010 - 7s/epoch - 201ms/step
Epoch 53/75
36/36 - 7s - loss: 0.4152 - accuracy: 0.8521 - val_loss: 0.6799 - val_accuracy: 0.8118 - lr: 0.0010 - 7s/epoch - 201ms/step
Epoch 54/75
36/36 - 7s - loss: 0.4136 - accuracy: 0.8511 - val_loss: 0.6512 - val_accuracy: 0.8188 - lr: 0.0010 - 7s/epoch - 201ms/step
Epoch 55/75
36/36 - 7s - loss: 0.4141 - accuracy: 0.8516 - val_loss: 0.6322 - val_accuracy: 0.8185 - lr: 0.0010 - 7s/epoch - 201ms/step
Epoch 56/75
36/36 - 7s - loss: 0.4123 - accuracy: 0.8516 - val_loss: 0.6487 - val_accuracy: 0.8185 - lr: 0.0010 - 7s/epoch - 201ms/step
Epoch 57/75
36/36 - 7s - loss: 0.4149 - accuracy: 0.8507 - val_loss: 0.6074 - val_accuracy: 0.8304 - lr: 0.0010 - 7s/epoch - 201ms/step
Epoch 58/75
36/36 - 7s - loss: 0.4151 - accuracy: 0.8505 - val_loss: 0.6395 - val_accuracy: 0.8212 - lr: 0.0010 - 7s/epoch - 201ms/step
Epoch 59/75
36/36 - 7s - loss: 0.4145 - accuracy: 0.8508 - val_loss: 0.6517 - val_accuracy: 0.8198 - lr: 0.0010 - 7s/epoch - 201ms/step
Epoch 60/75
36/36 - 7s - loss: 0.4143 - accuracy: 0.8510 - val_loss: 0.6244 - val_accuracy: 0.8261 - lr: 0.0010 - 7s/epoch - 201ms/step
Epoch 61/75
36/36 - 7s - loss: 0.4147 - accuracy: 0.8509 - val_loss: 0.6230 - val_accuracy: 0.8251 - lr: 0.0010 - 7s/epoch - 201ms/step
Epoch 62/75
36/36 - 7s - loss: 0.4144 - accuracy: 0.8512 - val_loss: 0.6203 - val_accuracy: 0.8231 - lr: 0.0010 - 7s/epoch - 201ms/step
Epoch 63/75
36/36 - 7s - loss: 0.4139 - accuracy: 0.8514 - val_loss: 0.6407 - val_accuracy: 0.8205 - lr: 0.0010 - 7s/epoch - 201ms/step
Epoch 64/75
36/36 - 7s - loss: 0.4138 - accuracy: 0.8519 - val_loss: 0.6528 - val_accuracy: 0.8155 - lr: 0.0010 - 7s/epoch - 201ms/step
Epoch 65/75
36/36 - 7s - loss: 0.4121 - accuracy: 0.8527 - val_loss: 0.6555 - val_accuracy: 0.8150 - lr: 0.0010 - 7s/epoch - 201ms/step
Epoch 66/75
36/36 - 7s - loss: 0.4144 - accuracy: 0.8513 - val_loss: 0.6384 - val_accuracy: 0.8217 - lr: 0.0010 - 7s/epoch - 201ms/step
Epoch 67/75
36/36 - 7s - loss: 0.4153 - accuracy: 0.8510 - val_loss: 0.6503 - val_accuracy: 0.8205 - lr: 0.0010 - 7s/epoch - 201ms/step
Epoch 68/75
36/36 - 7s - loss: 0.4129 - accuracy: 0.8514 - val_loss: 0.6266 - val_accuracy: 0.8269 - lr: 0.0010 - 7s/epoch - 201ms/step
Epoch 69/75
36/36 - 7s - loss: 0.4130 - accuracy: 0.8519 - val_loss: 0.6311 - val_accuracy: 0.8222 - lr: 0.0010 - 7s/epoch - 201ms/step
Epoch 70/75
36/36 - 7s - loss: 0.4131 - accuracy: 0.8513 - val_loss: 0.6395 - val_accuracy: 0.8254 - lr: 0.0010 - 7s/epoch - 201ms/step
Epoch 71/75
36/36 - 7s - loss: 0.4121 - accuracy: 0.8513 - val_loss: 0.6322 - val_accuracy: 0.8219 - lr: 0.0010 - 7s/epoch - 201ms/step
Epoch 72/75
36/36 - 7s - loss: 0.4116 - accuracy: 0.8520 - val_loss: 0.6121 - val_accuracy: 0.8267 - lr: 0.0010 - 7s/epoch - 201ms/step
Epoch 73/75
36/36 - 7s - loss: 0.4116 - accuracy: 0.8521 - val_loss: 0.6488 - val_accuracy: 0.8161 - lr: 0.0010 - 7s/epoch - 201ms/step
Epoch 74/75
36/36 - 7s - loss: 0.4153 - accuracy: 0.8511 - val_loss: 0.6322 - val_accuracy: 0.8224 - lr: 0.0010 - 7s/epoch - 201ms/step
Epoch 75/75
36/36 - 7s - loss: 0.4138 - accuracy: 0.8502 - val_loss: 0.6095 - val_accuracy: 0.8270 - lr: 0.0010 - 7s/epoch - 201ms/step
Epoch number: 100
fitting with batch size: 20
Epoch 1/100
4378/4378 - 72s - loss: 0.6733 - accuracy: 0.7482 - val_loss: 0.5868 - val_accuracy: 0.8234 - lr: 0.0010 - 72s/epoch - 16ms/step
Epoch 2/100
4378/4378 - 71s - loss: 0.6395 - accuracy: 0.7599 - val_loss: 0.5932 - val_accuracy: 0.8286 - lr: 0.0010 - 71s/epoch - 16ms/step
Epoch 3/100
4378/4378 - 71s - loss: 0.6154 - accuracy: 0.7696 - val_loss: 0.7655 - val_accuracy: 0.7844 - lr: 0.0010 - 71s/epoch - 16ms/step
Epoch 4/100
4378/4378 - 71s - loss: 0.5973 - accuracy: 0.7758 - val_loss: 0.6009 - val_accuracy: 0.8330 - lr: 0.0010 - 71s/epoch - 16ms/step
Epoch 5/100
4378/4378 - 71s - loss: 0.5869 - accuracy: 0.7804 - val_loss: 0.6177 - val_accuracy: 0.8210 - lr: 0.0010 - 71s/epoch - 16ms/step
Epoch 6/100
4378/4378 - 71s - loss: 0.5809 - accuracy: 0.7819 - val_loss: 0.6696 - val_accuracy: 0.7958 - lr: 0.0010 - 71s/epoch - 16ms/step
Epoch 7/100
4378/4378 - 71s - loss: 0.5820 - accuracy: 0.7824 - val_loss: 0.5155 - val_accuracy: 0.8463 - lr: 0.0010 - 71s/epoch - 16ms/step
Epoch 8/100
4378/4378 - 71s - loss: 0.5748 - accuracy: 0.7848 - val_loss: 0.6541 - val_accuracy: 0.8056 - lr: 0.0010 - 71s/epoch - 16ms/step
Epoch 9/100
4378/4378 - 70s - loss: 0.5717 - accuracy: 0.7858 - val_loss: 0.6994 - val_accuracy: 0.8052 - lr: 0.0010 - 70s/epoch - 16ms/step
Epoch 10/100
4378/4378 - 70s - loss: 0.5696 - accuracy: 0.7870 - val_loss: 0.5577 - val_accuracy: 0.8370 - lr: 0.0010 - 70s/epoch - 16ms/step
Epoch 11/100
4378/4378 - 70s - loss: 0.5706 - accuracy: 0.7860 - val_loss: 0.6156 - val_accuracy: 0.8303 - lr: 0.0010 - 70s/epoch - 16ms/step
Epoch 12/100
4378/4378 - 70s - loss: 0.5720 - accuracy: 0.7858 - val_loss: 0.6535 - val_accuracy: 0.8163 - lr: 0.0010 - 70s/epoch - 16ms/step
Epoch 13/100
4378/4378 - 71s - loss: 0.5640 - accuracy: 0.7891 - val_loss: 0.7375 - val_accuracy: 0.7943 - lr: 0.0010 - 71s/epoch - 16ms/step
Epoch 14/100
4378/4378 - 71s - loss: 0.5669 - accuracy: 0.7875 - val_loss: 0.6332 - val_accuracy: 0.8163 - lr: 0.0010 - 71s/epoch - 16ms/step
Epoch 15/100
4378/4378 - 71s - loss: 0.5619 - accuracy: 0.7894 - val_loss: 0.5916 - val_accuracy: 0.8223 - lr: 0.0010 - 71s/epoch - 16ms/step
Epoch 16/100
4378/4378 - 70s - loss: 0.5625 - accuracy: 0.7902 - val_loss: 0.5849 - val_accuracy: 0.8212 - lr: 0.0010 - 70s/epoch - 16ms/step
Epoch 17/100
4378/4378 - 70s - loss: 0.5624 - accuracy: 0.7901 - val_loss: 0.5708 - val_accuracy: 0.8310 - lr: 0.0010 - 70s/epoch - 16ms/step
Epoch 18/100
4378/4378 - 71s - loss: 0.5634 - accuracy: 0.7883 - val_loss: 0.5957 - val_accuracy: 0.8236 - lr: 0.0010 - 71s/epoch - 16ms/step
Epoch 19/100
4378/4378 - 71s - loss: 0.5584 - accuracy: 0.7913 - val_loss: 0.6660 - val_accuracy: 0.8022 - lr: 0.0010 - 71s/epoch - 16ms/step
Epoch 20/100
4378/4378 - 70s - loss: 0.5614 - accuracy: 0.7911 - val_loss: 0.6353 - val_accuracy: 0.8260 - lr: 0.0010 - 70s/epoch - 16ms/step
Epoch 21/100
4378/4378 - 72s - loss: 0.5618 - accuracy: 0.7897 - val_loss: 0.5799 - val_accuracy: 0.8219 - lr: 0.0010 - 72s/epoch - 16ms/step
Epoch 22/100
4378/4378 - 70s - loss: 0.5577 - accuracy: 0.7915 - val_loss: 0.5901 - val_accuracy: 0.8252 - lr: 0.0010 - 70s/epoch - 16ms/step
Epoch 23/100
4378/4378 - 71s - loss: 0.5581 - accuracy: 0.7919 - val_loss: 0.6831 - val_accuracy: 0.7965 - lr: 0.0010 - 71s/epoch - 16ms/step
Epoch 24/100
4378/4378 - 71s - loss: 0.5577 - accuracy: 0.7907 - val_loss: 0.5835 - val_accuracy: 0.8497 - lr: 0.0010 - 71s/epoch - 16ms/step
Epoch 25/100
4378/4378 - 71s - loss: 0.5538 - accuracy: 0.7943 - val_loss: 0.6001 - val_accuracy: 0.8343 - lr: 0.0010 - 71s/epoch - 16ms/step
Epoch 26/100
4378/4378 - 71s - loss: 0.5523 - accuracy: 0.7933 - val_loss: 0.5568 - val_accuracy: 0.8383 - lr: 0.0010 - 71s/epoch - 16ms/step
Epoch 27/100
4378/4378 - 71s - loss: 0.5553 - accuracy: 0.7924 - val_loss: 0.5316 - val_accuracy: 0.8432 - lr: 0.0010 - 71s/epoch - 16ms/step
Epoch 28/100
4378/4378 - 71s - loss: 0.5569 - accuracy: 0.7923 - val_loss: 0.6082 - val_accuracy: 0.8241 - lr: 0.0010 - 71s/epoch - 16ms/step
Epoch 29/100
4378/4378 - 71s - loss: 0.5533 - accuracy: 0.7934 - val_loss: 0.6049 - val_accuracy: 0.8265 - lr: 0.0010 - 71s/epoch - 16ms/step
Epoch 30/100
4378/4378 - 70s - loss: 0.5520 - accuracy: 0.7940 - val_loss: 0.5794 - val_accuracy: 0.8282 - lr: 0.0010 - 70s/epoch - 16ms/step
Epoch 31/100
4378/4378 - 71s - loss: 0.5527 - accuracy: 0.7923 - val_loss: 0.6229 - val_accuracy: 0.8185 - lr: 0.0010 - 71s/epoch - 16ms/step
Epoch 32/100
4378/4378 - 70s - loss: 0.5557 - accuracy: 0.7926 - val_loss: 0.5653 - val_accuracy: 0.8306 - lr: 0.0010 - 70s/epoch - 16ms/step
Epoch 33/100
4378/4378 - 71s - loss: 0.5512 - accuracy: 0.7950 - val_loss: 0.6291 - val_accuracy: 0.8159 - lr: 0.0010 - 71s/epoch - 16ms/step
Epoch 34/100
4378/4378 - 71s - loss: 0.5494 - accuracy: 0.7945 - val_loss: 0.5403 - val_accuracy: 0.8399 - lr: 0.0010 - 71s/epoch - 16ms/step
Epoch 35/100
4378/4378 - 70s - loss: 0.5507 - accuracy: 0.7937 - val_loss: 0.5542 - val_accuracy: 0.8533 - lr: 0.0010 - 70s/epoch - 16ms/step
Epoch 36/100
4378/4378 - 70s - loss: 0.5533 - accuracy: 0.7925 - val_loss: 0.6086 - val_accuracy: 0.8167 - lr: 0.0010 - 70s/epoch - 16ms/step
Epoch 37/100
4378/4378 - 70s - loss: 0.5511 - accuracy: 0.7930 - val_loss: 0.6053 - val_accuracy: 0.8172 - lr: 0.0010 - 70s/epoch - 16ms/step
Epoch 38/100
4378/4378 - 70s - loss: 0.5484 - accuracy: 0.7967 - val_loss: 0.6526 - val_accuracy: 0.7967 - lr: 0.0010 - 70s/epoch - 16ms/step
Epoch 39/100
4378/4378 - 70s - loss: 0.5470 - accuracy: 0.7959 - val_loss: 0.5179 - val_accuracy: 0.8475 - lr: 0.0010 - 70s/epoch - 16ms/step
Epoch 40/100
4378/4378 - 71s - loss: 0.5461 - accuracy: 0.7963 - val_loss: 0.6300 - val_accuracy: 0.8134 - lr: 0.0010 - 71s/epoch - 16ms/step
Epoch 41/100
4378/4378 - 70s - loss: 0.5475 - accuracy: 0.7956 - val_loss: 0.6744 - val_accuracy: 0.7981 - lr: 0.0010 - 70s/epoch - 16ms/step
Epoch 42/100
4378/4378 - 71s - loss: 0.5465 - accuracy: 0.7968 - val_loss: 0.6088 - val_accuracy: 0.8122 - lr: 0.0010 - 71s/epoch - 16ms/step
Epoch 43/100
4378/4378 - 71s - loss: 0.5469 - accuracy: 0.7962 - val_loss: 0.6640 - val_accuracy: 0.8194 - lr: 0.0010 - 71s/epoch - 16ms/step
Epoch 44/100
4378/4378 - 70s - loss: 0.5481 - accuracy: 0.7956 - val_loss: 0.6522 - val_accuracy: 0.8082 - lr: 0.0010 - 70s/epoch - 16ms/step
Epoch 45/100
4378/4378 - 70s - loss: 0.5474 - accuracy: 0.7939 - val_loss: 0.5678 - val_accuracy: 0.8240 - lr: 0.0010 - 70s/epoch - 16ms/step
Epoch 46/100
4378/4378 - 70s - loss: 0.5467 - accuracy: 0.7944 - val_loss: 0.5145 - val_accuracy: 0.8592 - lr: 0.0010 - 70s/epoch - 16ms/step
Epoch 47/100
4378/4378 - 71s - loss: 0.5471 - accuracy: 0.7952 - val_loss: 0.6374 - val_accuracy: 0.8160 - lr: 0.0010 - 71s/epoch - 16ms/step
Epoch 48/100
4378/4378 - 70s - loss: 0.5439 - accuracy: 0.7964 - val_loss: 0.6524 - val_accuracy: 0.7982 - lr: 0.0010 - 70s/epoch - 16ms/step
Epoch 49/100
4378/4378 - 70s - loss: 0.5416 - accuracy: 0.7981 - val_loss: 0.5280 - val_accuracy: 0.8533 - lr: 0.0010 - 70s/epoch - 16ms/step
Epoch 50/100
4378/4378 - 70s - loss: 0.5432 - accuracy: 0.7968 - val_loss: 0.5406 - val_accuracy: 0.8443 - lr: 0.0010 - 70s/epoch - 16ms/step
Epoch 51/100
4378/4378 - 71s - loss: 0.5443 - accuracy: 0.7958 - val_loss: 0.5826 - val_accuracy: 0.8300 - lr: 0.0010 - 71s/epoch - 16ms/step
Epoch 52/100
4378/4378 - 71s - loss: 0.5454 - accuracy: 0.7959 - val_loss: 0.5929 - val_accuracy: 0.8322 - lr: 0.0010 - 71s/epoch - 16ms/step
Epoch 53/100
4378/4378 - 70s - loss: 0.5419 - accuracy: 0.7982 - val_loss: 0.5924 - val_accuracy: 0.8307 - lr: 0.0010 - 70s/epoch - 16ms/step
Epoch 54/100
4378/4378 - 70s - loss: 0.5406 - accuracy: 0.7982 - val_loss: 0.5958 - val_accuracy: 0.8150 - lr: 0.0010 - 70s/epoch - 16ms/step
Epoch 55/100
4378/4378 - 70s - loss: 0.5394 - accuracy: 0.7971 - val_loss: 0.6754 - val_accuracy: 0.8029 - lr: 0.0010 - 70s/epoch - 16ms/step
Epoch 56/100
4378/4378 - 70s - loss: 0.5423 - accuracy: 0.7989 - val_loss: 0.5847 - val_accuracy: 0.8319 - lr: 0.0010 - 70s/epoch - 16ms/step
Epoch 57/100
4378/4378 - 71s - loss: 0.5386 - accuracy: 0.7982 - val_loss: 0.5132 - val_accuracy: 0.8516 - lr: 0.0010 - 71s/epoch - 16ms/step
Epoch 58/100
4378/4378 - 70s - loss: 0.5395 - accuracy: 0.7984 - val_loss: 0.7583 - val_accuracy: 0.7720 - lr: 0.0010 - 70s/epoch - 16ms/step
Epoch 59/100
4378/4378 - 70s - loss: 0.5451 - accuracy: 0.7962 - val_loss: 0.6464 - val_accuracy: 0.8073 - lr: 0.0010 - 70s/epoch - 16ms/step
Epoch 60/100
4378/4378 - 71s - loss: 0.5385 - accuracy: 0.7981 - val_loss: 0.5838 - val_accuracy: 0.8347 - lr: 0.0010 - 71s/epoch - 16ms/step
Epoch 61/100
4378/4378 - 70s - loss: 0.5370 - accuracy: 0.7990 - val_loss: 0.5741 - val_accuracy: 0.8256 - lr: 0.0010 - 70s/epoch - 16ms/step
Epoch 62/100
4378/4378 - 71s - loss: 0.5408 - accuracy: 0.7984 - val_loss: 0.5761 - val_accuracy: 0.8270 - lr: 0.0010 - 71s/epoch - 16ms/step
Epoch 63/100
4378/4378 - 71s - loss: 0.5364 - accuracy: 0.8006 - val_loss: 0.5528 - val_accuracy: 0.8404 - lr: 0.0010 - 71s/epoch - 16ms/step
Epoch 64/100
4378/4378 - 71s - loss: 0.5381 - accuracy: 0.7995 - val_loss: 0.5580 - val_accuracy: 0.8357 - lr: 0.0010 - 71s/epoch - 16ms/step
Epoch 65/100
4378/4378 - 70s - loss: 0.5358 - accuracy: 0.8006 - val_loss: 0.5511 - val_accuracy: 0.8384 - lr: 0.0010 - 70s/epoch - 16ms/step
Epoch 66/100
4378/4378 - 70s - loss: 0.5382 - accuracy: 0.7982 - val_loss: 0.6223 - val_accuracy: 0.8118 - lr: 0.0010 - 70s/epoch - 16ms/step
Epoch 67/100
4378/4378 - 70s - loss: 0.5376 - accuracy: 0.7975 - val_loss: 0.5900 - val_accuracy: 0.8223 - lr: 0.0010 - 70s/epoch - 16ms/step
Epoch 68/100
4378/4378 - 70s - loss: 0.5371 - accuracy: 0.8003 - val_loss: 0.6630 - val_accuracy: 0.7954 - lr: 0.0010 - 70s/epoch - 16ms/step
Epoch 69/100
4378/4378 - 71s - loss: 0.5391 - accuracy: 0.7979 - val_loss: 0.5629 - val_accuracy: 0.8403 - lr: 0.0010 - 71s/epoch - 16ms/step
Epoch 70/100
4378/4378 - 71s - loss: 0.5351 - accuracy: 0.8001 - val_loss: 0.5368 - val_accuracy: 0.8423 - lr: 0.0010 - 71s/epoch - 16ms/step
Epoch 71/100
4378/4378 - 70s - loss: 0.5349 - accuracy: 0.7999 - val_loss: 0.5988 - val_accuracy: 0.8280 - lr: 0.0010 - 70s/epoch - 16ms/step
Epoch 72/100
4378/4378 - 70s - loss: 0.5376 - accuracy: 0.7997 - val_loss: 0.5906 - val_accuracy: 0.8299 - lr: 0.0010 - 70s/epoch - 16ms/step
Epoch 73/100
4378/4378 - 71s - loss: 0.5332 - accuracy: 0.8009 - val_loss: 0.6182 - val_accuracy: 0.8150 - lr: 0.0010 - 71s/epoch - 16ms/step
Epoch 74/100
4378/4378 - 71s - loss: 0.5333 - accuracy: 0.8000 - val_loss: 0.5447 - val_accuracy: 0.8429 - lr: 0.0010 - 71s/epoch - 16ms/step
Epoch 75/100
4378/4378 - 72s - loss: 0.5330 - accuracy: 0.8012 - val_loss: 0.5875 - val_accuracy: 0.8197 - lr: 0.0010 - 72s/epoch - 16ms/step
Epoch 76/100
4378/4378 - 70s - loss: 0.5291 - accuracy: 0.8023 - val_loss: 0.5235 - val_accuracy: 0.8546 - lr: 0.0010 - 70s/epoch - 16ms/step
Epoch 77/100
4378/4378 - 70s - loss: 0.5333 - accuracy: 0.8004 - val_loss: 0.5232 - val_accuracy: 0.8467 - lr: 0.0010 - 70s/epoch - 16ms/step
Epoch 78/100
4378/4378 - 71s - loss: 0.5362 - accuracy: 0.7987 - val_loss: 0.5888 - val_accuracy: 0.8322 - lr: 0.0010 - 71s/epoch - 16ms/step
Epoch 79/100
4378/4378 - 70s - loss: 0.5322 - accuracy: 0.8007 - val_loss: 0.5689 - val_accuracy: 0.8302 - lr: 0.0010 - 70s/epoch - 16ms/step
Epoch 80/100
4378/4378 - 70s - loss: 0.5293 - accuracy: 0.8026 - val_loss: 0.5981 - val_accuracy: 0.8316 - lr: 0.0010 - 70s/epoch - 16ms/step
Epoch 81/100
4378/4378 - 70s - loss: 0.5298 - accuracy: 0.8009 - val_loss: 0.6168 - val_accuracy: 0.8067 - lr: 0.0010 - 70s/epoch - 16ms/step
Epoch 82/100
4378/4378 - 70s - loss: 0.5344 - accuracy: 0.7995 - val_loss: 0.5590 - val_accuracy: 0.8360 - lr: 0.0010 - 70s/epoch - 16ms/step
Epoch 83/100
4378/4378 - 70s - loss: 0.5307 - accuracy: 0.8013 - val_loss: 0.6744 - val_accuracy: 0.8158 - lr: 0.0010 - 70s/epoch - 16ms/step
Epoch 84/100
4378/4378 - 70s - loss: 0.5279 - accuracy: 0.8041 - val_loss: 0.6256 - val_accuracy: 0.8113 - lr: 0.0010 - 70s/epoch - 16ms/step
Epoch 85/100
4378/4378 - 70s - loss: 0.5296 - accuracy: 0.8016 - val_loss: 0.6020 - val_accuracy: 0.8160 - lr: 0.0010 - 70s/epoch - 16ms/step
Epoch 86/100
4378/4378 - 71s - loss: 0.5274 - accuracy: 0.8012 - val_loss: 0.5782 - val_accuracy: 0.8288 - lr: 0.0010 - 71s/epoch - 16ms/step
Epoch 87/100
4378/4378 - 71s - loss: 0.5298 - accuracy: 0.8018 - val_loss: 0.5663 - val_accuracy: 0.8397 - lr: 0.0010 - 71s/epoch - 16ms/step
Epoch 88/100
4378/4378 - 70s - loss: 0.5288 - accuracy: 0.8033 - val_loss: 0.5687 - val_accuracy: 0.8397 - lr: 0.0010 - 70s/epoch - 16ms/step
Epoch 89/100
4378/4378 - 71s - loss: 0.5277 - accuracy: 0.8020 - val_loss: 0.5634 - val_accuracy: 0.8369 - lr: 0.0010 - 71s/epoch - 16ms/step
Epoch 90/100
4378/4378 - 70s - loss: 0.5310 - accuracy: 0.8020 - val_loss: 0.5531 - val_accuracy: 0.8499 - lr: 0.0010 - 70s/epoch - 16ms/step
Epoch 91/100
4378/4378 - 71s - loss: 0.5274 - accuracy: 0.8021 - val_loss: 0.5509 - val_accuracy: 0.8331 - lr: 0.0010 - 71s/epoch - 16ms/step
Epoch 92/100
4378/4378 - 70s - loss: 0.5308 - accuracy: 0.8019 - val_loss: 0.5636 - val_accuracy: 0.8291 - lr: 0.0010 - 70s/epoch - 16ms/step
Epoch 93/100
4378/4378 - 71s - loss: 0.5284 - accuracy: 0.8036 - val_loss: 0.5722 - val_accuracy: 0.8249 - lr: 0.0010 - 71s/epoch - 16ms/step
Epoch 94/100
4378/4378 - 71s - loss: 0.5316 - accuracy: 0.8017 - val_loss: 0.5411 - val_accuracy: 0.8358 - lr: 0.0010 - 71s/epoch - 16ms/step
Epoch 95/100
4378/4378 - 71s - loss: 0.5262 - accuracy: 0.8033 - val_loss: 0.5095 - val_accuracy: 0.8474 - lr: 0.0010 - 71s/epoch - 16ms/step
Epoch 96/100
4378/4378 - 70s - loss: 0.5303 - accuracy: 0.8003 - val_loss: 0.5441 - val_accuracy: 0.8407 - lr: 0.0010 - 70s/epoch - 16ms/step
Epoch 97/100
4378/4378 - 71s - loss: 0.5264 - accuracy: 0.8030 - val_loss: 0.5431 - val_accuracy: 0.8342 - lr: 0.0010 - 71s/epoch - 16ms/step
Epoch 98/100
4378/4378 - 70s - loss: 0.5271 - accuracy: 0.8020 - val_loss: 0.5074 - val_accuracy: 0.8552 - lr: 0.0010 - 70s/epoch - 16ms/step
Epoch 99/100
4378/4378 - 71s - loss: 0.5276 - accuracy: 0.8023 - val_loss: 0.5141 - val_accuracy: 0.8478 - lr: 0.0010 - 71s/epoch - 16ms/step
Epoch 100/100
4378/4378 - 71s - loss: 0.5255 - accuracy: 0.8031 - val_loss: 0.5438 - val_accuracy: 0.8399 - lr: 0.0010 - 71s/epoch - 16ms/step
fitting with batch size: 100
Epoch 1/100
876/876 - 19s - loss: 0.4579 - accuracy: 0.8306 - val_loss: 0.5223 - val_accuracy: 0.8482 - lr: 0.0010 - 19s/epoch - 22ms/step
Epoch 2/100
876/876 - 16s - loss: 0.4464 - accuracy: 0.8351 - val_loss: 0.5483 - val_accuracy: 0.8401 - lr: 0.0010 - 16s/epoch - 19ms/step
Epoch 3/100
876/876 - 16s - loss: 0.4435 - accuracy: 0.8363 - val_loss: 0.5137 - val_accuracy: 0.8527 - lr: 0.0010 - 16s/epoch - 19ms/step
Epoch 4/100
876/876 - 16s - loss: 0.4413 - accuracy: 0.8372 - val_loss: 0.5550 - val_accuracy: 0.8342 - lr: 0.0010 - 16s/epoch - 19ms/step
Epoch 5/100
876/876 - 16s - loss: 0.4375 - accuracy: 0.8383 - val_loss: 0.5581 - val_accuracy: 0.8361 - lr: 0.0010 - 16s/epoch - 19ms/step
Epoch 6/100
876/876 - 16s - loss: 0.4359 - accuracy: 0.8394 - val_loss: 0.5438 - val_accuracy: 0.8417 - lr: 0.0010 - 16s/epoch - 19ms/step
Epoch 7/100
876/876 - 16s - loss: 0.4345 - accuracy: 0.8402 - val_loss: 0.5451 - val_accuracy: 0.8362 - lr: 0.0010 - 16s/epoch - 19ms/step
Epoch 8/100
876/876 - 16s - loss: 0.4318 - accuracy: 0.8409 - val_loss: 0.5334 - val_accuracy: 0.8415 - lr: 0.0010 - 16s/epoch - 19ms/step
Epoch 9/100
876/876 - 16s - loss: 0.4298 - accuracy: 0.8426 - val_loss: 0.5379 - val_accuracy: 0.8426 - lr: 0.0010 - 16s/epoch - 19ms/step
Epoch 10/100
876/876 - 16s - loss: 0.4307 - accuracy: 0.8423 - val_loss: 0.5148 - val_accuracy: 0.8501 - lr: 0.0010 - 16s/epoch - 19ms/step
Epoch 11/100
876/876 - 16s - loss: 0.4311 - accuracy: 0.8420 - val_loss: 0.5491 - val_accuracy: 0.8347 - lr: 0.0010 - 16s/epoch - 19ms/step
Epoch 12/100
876/876 - 16s - loss: 0.4265 - accuracy: 0.8429 - val_loss: 0.5438 - val_accuracy: 0.8404 - lr: 0.0010 - 16s/epoch - 19ms/step
Epoch 13/100
876/876 - 16s - loss: 0.4260 - accuracy: 0.8432 - val_loss: 0.5362 - val_accuracy: 0.8409 - lr: 0.0010 - 16s/epoch - 19ms/step
Epoch 14/100
876/876 - 16s - loss: 0.4271 - accuracy: 0.8420 - val_loss: 0.5556 - val_accuracy: 0.8346 - lr: 0.0010 - 16s/epoch - 19ms/step
Epoch 15/100
876/876 - 16s - loss: 0.4249 - accuracy: 0.8438 - val_loss: 0.5321 - val_accuracy: 0.8434 - lr: 0.0010 - 16s/epoch - 19ms/step
Epoch 16/100
876/876 - 16s - loss: 0.4245 - accuracy: 0.8437 - val_loss: 0.5658 - val_accuracy: 0.8336 - lr: 0.0010 - 16s/epoch - 19ms/step
Epoch 17/100
876/876 - 16s - loss: 0.4225 - accuracy: 0.8447 - val_loss: 0.5312 - val_accuracy: 0.8437 - lr: 0.0010 - 16s/epoch - 19ms/step
Epoch 18/100
876/876 - 16s - loss: 0.4230 - accuracy: 0.8452 - val_loss: 0.5599 - val_accuracy: 0.8392 - lr: 0.0010 - 16s/epoch - 19ms/step
Epoch 19/100
876/876 - 17s - loss: 0.4208 - accuracy: 0.8447 - val_loss: 0.5687 - val_accuracy: 0.8340 - lr: 0.0010 - 17s/epoch - 19ms/step
Epoch 20/100
876/876 - 16s - loss: 0.4228 - accuracy: 0.8453 - val_loss: 0.5659 - val_accuracy: 0.8348 - lr: 0.0010 - 16s/epoch - 19ms/step
Epoch 21/100
876/876 - 16s - loss: 0.4210 - accuracy: 0.8457 - val_loss: 0.5599 - val_accuracy: 0.8360 - lr: 0.0010 - 16s/epoch - 19ms/step
Epoch 22/100
876/876 - 17s - loss: 0.4199 - accuracy: 0.8453 - val_loss: 0.5480 - val_accuracy: 0.8443 - lr: 0.0010 - 17s/epoch - 20ms/step
Epoch 23/100
876/876 - 16s - loss: 0.4202 - accuracy: 0.8458 - val_loss: 0.5433 - val_accuracy: 0.8394 - lr: 0.0010 - 16s/epoch - 19ms/step
Epoch 24/100
876/876 - 16s - loss: 0.4178 - accuracy: 0.8462 - val_loss: 0.5399 - val_accuracy: 0.8425 - lr: 0.0010 - 16s/epoch - 19ms/step
Epoch 25/100
876/876 - 16s - loss: 0.4170 - accuracy: 0.8477 - val_loss: 0.5545 - val_accuracy: 0.8425 - lr: 0.0010 - 16s/epoch - 19ms/step
Epoch 26/100
876/876 - 16s - loss: 0.4168 - accuracy: 0.8473 - val_loss: 0.5300 - val_accuracy: 0.8473 - lr: 0.0010 - 16s/epoch - 19ms/step
Epoch 27/100
876/876 - 16s - loss: 0.4183 - accuracy: 0.8461 - val_loss: 0.5768 - val_accuracy: 0.8312 - lr: 0.0010 - 16s/epoch - 19ms/step
Epoch 28/100
876/876 - 16s - loss: 0.4186 - accuracy: 0.8462 - val_loss: 0.5533 - val_accuracy: 0.8409 - lr: 0.0010 - 16s/epoch - 19ms/step
Epoch 29/100
876/876 - 16s - loss: 0.4151 - accuracy: 0.8473 - val_loss: 0.5781 - val_accuracy: 0.8322 - lr: 0.0010 - 16s/epoch - 19ms/step
Epoch 30/100
876/876 - 16s - loss: 0.4179 - accuracy: 0.8466 - val_loss: 0.5798 - val_accuracy: 0.8293 - lr: 0.0010 - 16s/epoch - 19ms/step
Epoch 31/100
876/876 - 16s - loss: 0.4163 - accuracy: 0.8472 - val_loss: 0.5230 - val_accuracy: 0.8474 - lr: 0.0010 - 16s/epoch - 19ms/step
Epoch 32/100
876/876 - 16s - loss: 0.4152 - accuracy: 0.8482 - val_loss: 0.5582 - val_accuracy: 0.8390 - lr: 0.0010 - 16s/epoch - 19ms/step
Epoch 33/100
876/876 - 16s - loss: 0.4128 - accuracy: 0.8485 - val_loss: 0.5451 - val_accuracy: 0.8415 - lr: 0.0010 - 16s/epoch - 19ms/step
Epoch 34/100
876/876 - 16s - loss: 0.4143 - accuracy: 0.8480 - val_loss: 0.5468 - val_accuracy: 0.8414 - lr: 0.0010 - 16s/epoch - 19ms/step
Epoch 35/100
876/876 - 16s - loss: 0.4141 - accuracy: 0.8475 - val_loss: 0.5755 - val_accuracy: 0.8338 - lr: 0.0010 - 16s/epoch - 19ms/step
Epoch 36/100
876/876 - 16s - loss: 0.4122 - accuracy: 0.8481 - val_loss: 0.5302 - val_accuracy: 0.8471 - lr: 0.0010 - 16s/epoch - 19ms/step
Epoch 37/100
876/876 - 16s - loss: 0.4126 - accuracy: 0.8496 - val_loss: 0.5595 - val_accuracy: 0.8391 - lr: 0.0010 - 16s/epoch - 19ms/step
Epoch 38/100
876/876 - 16s - loss: 0.4120 - accuracy: 0.8481 - val_loss: 0.5273 - val_accuracy: 0.8505 - lr: 0.0010 - 16s/epoch - 19ms/step
Epoch 39/100
876/876 - 16s - loss: 0.4114 - accuracy: 0.8477 - val_loss: 0.5629 - val_accuracy: 0.8368 - lr: 0.0010 - 16s/epoch - 19ms/step
Epoch 40/100
876/876 - 16s - loss: 0.4095 - accuracy: 0.8496 - val_loss: 0.5701 - val_accuracy: 0.8339 - lr: 0.0010 - 16s/epoch - 19ms/step
Epoch 41/100
876/876 - 16s - loss: 0.4095 - accuracy: 0.8507 - val_loss: 0.5385 - val_accuracy: 0.8446 - lr: 0.0010 - 16s/epoch - 19ms/step
Epoch 42/100
876/876 - 16s - loss: 0.4100 - accuracy: 0.8494 - val_loss: 0.5399 - val_accuracy: 0.8421 - lr: 0.0010 - 16s/epoch - 19ms/step
Epoch 43/100
876/876 - 16s - loss: 0.4101 - accuracy: 0.8483 - val_loss: 0.5865 - val_accuracy: 0.8280 - lr: 0.0010 - 16s/epoch - 19ms/step
Epoch 44/100
876/876 - 16s - loss: 0.4117 - accuracy: 0.8491 - val_loss: 0.5571 - val_accuracy: 0.8374 - lr: 0.0010 - 16s/epoch - 19ms/step
Epoch 45/100
876/876 - 16s - loss: 0.4063 - accuracy: 0.8514 - val_loss: 0.5373 - val_accuracy: 0.8424 - lr: 0.0010 - 16s/epoch - 19ms/step
Epoch 46/100
876/876 - 16s - loss: 0.4076 - accuracy: 0.8504 - val_loss: 0.5563 - val_accuracy: 0.8387 - lr: 0.0010 - 16s/epoch - 19ms/step
Epoch 47/100
876/876 - 16s - loss: 0.4062 - accuracy: 0.8504 - val_loss: 0.5608 - val_accuracy: 0.8330 - lr: 0.0010 - 16s/epoch - 19ms/step
Epoch 48/100
876/876 - 16s - loss: 0.4081 - accuracy: 0.8503 - val_loss: 0.5316 - val_accuracy: 0.8441 - lr: 0.0010 - 16s/epoch - 19ms/step
Epoch 49/100
876/876 - 16s - loss: 0.4085 - accuracy: 0.8498 - val_loss: 0.5531 - val_accuracy: 0.8411 - lr: 0.0010 - 16s/epoch - 19ms/step
Epoch 50/100
876/876 - 16s - loss: 0.4075 - accuracy: 0.8511 - val_loss: 0.5391 - val_accuracy: 0.8434 - lr: 0.0010 - 16s/epoch - 19ms/step
Epoch 51/100
876/876 - 16s - loss: 0.4066 - accuracy: 0.8511 - val_loss: 0.5435 - val_accuracy: 0.8424 - lr: 0.0010 - 16s/epoch - 19ms/step
Epoch 52/100
876/876 - 16s - loss: 0.4074 - accuracy: 0.8491 - val_loss: 0.5792 - val_accuracy: 0.8304 - lr: 0.0010 - 16s/epoch - 19ms/step
Epoch 53/100
876/876 - 16s - loss: 0.4055 - accuracy: 0.8523 - val_loss: 0.5548 - val_accuracy: 0.8453 - lr: 0.0010 - 16s/epoch - 19ms/step
Epoch 54/100
876/876 - 16s - loss: 0.4046 - accuracy: 0.8509 - val_loss: 0.5292 - val_accuracy: 0.8485 - lr: 0.0010 - 16s/epoch - 19ms/step
Epoch 55/100
876/876 - 16s - loss: 0.4056 - accuracy: 0.8518 - val_loss: 0.5882 - val_accuracy: 0.8264 - lr: 0.0010 - 16s/epoch - 19ms/step
Epoch 56/100
876/876 - 16s - loss: 0.4052 - accuracy: 0.8509 - val_loss: 0.5654 - val_accuracy: 0.8376 - lr: 0.0010 - 16s/epoch - 19ms/step
Epoch 57/100
876/876 - 16s - loss: 0.4053 - accuracy: 0.8507 - val_loss: 0.5693 - val_accuracy: 0.8344 - lr: 0.0010 - 16s/epoch - 19ms/step
Epoch 58/100
876/876 - 16s - loss: 0.4045 - accuracy: 0.8506 - val_loss: 0.5809 - val_accuracy: 0.8290 - lr: 0.0010 - 16s/epoch - 19ms/step
Epoch 59/100
876/876 - 16s - loss: 0.4050 - accuracy: 0.8504 - val_loss: 0.5163 - val_accuracy: 0.8478 - lr: 0.0010 - 16s/epoch - 19ms/step
Epoch 60/100
876/876 - 16s - loss: 0.4060 - accuracy: 0.8496 - val_loss: 0.5743 - val_accuracy: 0.8347 - lr: 0.0010 - 16s/epoch - 19ms/step
Epoch 61/100
876/876 - 16s - loss: 0.4041 - accuracy: 0.8516 - val_loss: 0.5539 - val_accuracy: 0.8428 - lr: 0.0010 - 16s/epoch - 19ms/step
Epoch 62/100
876/876 - 16s - loss: 0.4036 - accuracy: 0.8524 - val_loss: 0.5701 - val_accuracy: 0.8344 - lr: 0.0010 - 16s/epoch - 19ms/step
Epoch 63/100
876/876 - 16s - loss: 0.4017 - accuracy: 0.8522 - val_loss: 0.5307 - val_accuracy: 0.8448 - lr: 0.0010 - 16s/epoch - 19ms/step
Epoch 64/100
876/876 - 16s - loss: 0.4051 - accuracy: 0.8499 - val_loss: 0.5620 - val_accuracy: 0.8370 - lr: 0.0010 - 16s/epoch - 19ms/step
Epoch 65/100
876/876 - 16s - loss: 0.4029 - accuracy: 0.8517 - val_loss: 0.6097 - val_accuracy: 0.8237 - lr: 0.0010 - 16s/epoch - 19ms/step
Epoch 66/100
876/876 - 16s - loss: 0.4023 - accuracy: 0.8527 - val_loss: 0.5778 - val_accuracy: 0.8306 - lr: 0.0010 - 16s/epoch - 19ms/step
Epoch 67/100
876/876 - 16s - loss: 0.4012 - accuracy: 0.8531 - val_loss: 0.5640 - val_accuracy: 0.8372 - lr: 0.0010 - 16s/epoch - 19ms/step
Epoch 68/100
876/876 - 16s - loss: 0.4017 - accuracy: 0.8519 - val_loss: 0.5891 - val_accuracy: 0.8292 - lr: 0.0010 - 16s/epoch - 19ms/step
Epoch 69/100
876/876 - 16s - loss: 0.3997 - accuracy: 0.8528 - val_loss: 0.5746 - val_accuracy: 0.8375 - lr: 0.0010 - 16s/epoch - 19ms/step
Epoch 70/100
876/876 - 16s - loss: 0.3987 - accuracy: 0.8531 - val_loss: 0.5395 - val_accuracy: 0.8460 - lr: 0.0010 - 16s/epoch - 19ms/step
Epoch 71/100
876/876 - 16s - loss: 0.4008 - accuracy: 0.8532 - val_loss: 0.5869 - val_accuracy: 0.8313 - lr: 0.0010 - 16s/epoch - 19ms/step
Epoch 72/100
876/876 - 16s - loss: 0.3991 - accuracy: 0.8529 - val_loss: 0.5434 - val_accuracy: 0.8451 - lr: 0.0010 - 16s/epoch - 19ms/step
Epoch 73/100
876/876 - 16s - loss: 0.3981 - accuracy: 0.8539 - val_loss: 0.5931 - val_accuracy: 0.8343 - lr: 0.0010 - 16s/epoch - 19ms/step
Epoch 74/100
876/876 - 16s - loss: 0.4014 - accuracy: 0.8534 - val_loss: 0.5736 - val_accuracy: 0.8368 - lr: 0.0010 - 16s/epoch - 19ms/step
Epoch 75/100
876/876 - 16s - loss: 0.4018 - accuracy: 0.8518 - val_loss: 0.5315 - val_accuracy: 0.8483 - lr: 0.0010 - 16s/epoch - 19ms/step
Epoch 76/100
876/876 - 16s - loss: 0.4011 - accuracy: 0.8528 - val_loss: 0.5896 - val_accuracy: 0.8317 - lr: 0.0010 - 16s/epoch - 19ms/step
Epoch 77/100
876/876 - 16s - loss: 0.3982 - accuracy: 0.8536 - val_loss: 0.6077 - val_accuracy: 0.8242 - lr: 0.0010 - 16s/epoch - 19ms/step
Epoch 78/100
876/876 - 16s - loss: 0.3990 - accuracy: 0.8530 - val_loss: 0.5827 - val_accuracy: 0.8308 - lr: 0.0010 - 16s/epoch - 19ms/step
Epoch 79/100
876/876 - 16s - loss: 0.3990 - accuracy: 0.8534 - val_loss: 0.5759 - val_accuracy: 0.8351 - lr: 0.0010 - 16s/epoch - 19ms/step
Epoch 80/100
876/876 - 16s - loss: 0.3988 - accuracy: 0.8530 - val_loss: 0.5710 - val_accuracy: 0.8362 - lr: 0.0010 - 16s/epoch - 19ms/step
Epoch 81/100
876/876 - 16s - loss: 0.3978 - accuracy: 0.8535 - val_loss: 0.5778 - val_accuracy: 0.8344 - lr: 0.0010 - 16s/epoch - 19ms/step
Epoch 82/100
876/876 - 16s - loss: 0.3990 - accuracy: 0.8534 - val_loss: 0.5995 - val_accuracy: 0.8333 - lr: 0.0010 - 16s/epoch - 19ms/step
Epoch 83/100
876/876 - 16s - loss: 0.3965 - accuracy: 0.8540 - val_loss: 0.6106 - val_accuracy: 0.8239 - lr: 0.0010 - 16s/epoch - 19ms/step
Epoch 84/100
876/876 - 16s - loss: 0.3978 - accuracy: 0.8529 - val_loss: 0.5817 - val_accuracy: 0.8333 - lr: 0.0010 - 16s/epoch - 19ms/step
Epoch 85/100
876/876 - 16s - loss: 0.3978 - accuracy: 0.8536 - val_loss: 0.5525 - val_accuracy: 0.8432 - lr: 0.0010 - 16s/epoch - 19ms/step
Epoch 86/100
876/876 - 16s - loss: 0.3961 - accuracy: 0.8547 - val_loss: 0.5477 - val_accuracy: 0.8453 - lr: 0.0010 - 16s/epoch - 19ms/step
Epoch 87/100
876/876 - 16s - loss: 0.3952 - accuracy: 0.8550 - val_loss: 0.5582 - val_accuracy: 0.8420 - lr: 0.0010 - 16s/epoch - 19ms/step
Epoch 88/100
876/876 - 16s - loss: 0.3951 - accuracy: 0.8537 - val_loss: 0.5468 - val_accuracy: 0.8438 - lr: 0.0010 - 16s/epoch - 19ms/step
Epoch 89/100
876/876 - 16s - loss: 0.3979 - accuracy: 0.8546 - val_loss: 0.5840 - val_accuracy: 0.8346 - lr: 0.0010 - 16s/epoch - 19ms/step
Epoch 90/100
876/876 - 16s - loss: 0.3954 - accuracy: 0.8547 - val_loss: 0.5657 - val_accuracy: 0.8363 - lr: 0.0010 - 16s/epoch - 19ms/step
Epoch 91/100
876/876 - 17s - loss: 0.3969 - accuracy: 0.8543 - val_loss: 0.5831 - val_accuracy: 0.8366 - lr: 0.0010 - 17s/epoch - 19ms/step
Epoch 92/100
876/876 - 17s - loss: 0.3925 - accuracy: 0.8555 - val_loss: 0.5404 - val_accuracy: 0.8484 - lr: 0.0010 - 17s/epoch - 19ms/step
Epoch 93/100
876/876 - 16s - loss: 0.3933 - accuracy: 0.8557 - val_loss: 0.5884 - val_accuracy: 0.8309 - lr: 0.0010 - 16s/epoch - 19ms/step
Epoch 94/100
876/876 - 16s - loss: 0.3949 - accuracy: 0.8546 - val_loss: 0.5598 - val_accuracy: 0.8372 - lr: 0.0010 - 16s/epoch - 19ms/step
Epoch 95/100
876/876 - 16s - loss: 0.3959 - accuracy: 0.8535 - val_loss: 0.6010 - val_accuracy: 0.8321 - lr: 0.0010 - 16s/epoch - 19ms/step
Epoch 96/100
876/876 - 16s - loss: 0.3973 - accuracy: 0.8540 - val_loss: 0.5870 - val_accuracy: 0.8364 - lr: 0.0010 - 16s/epoch - 19ms/step
Epoch 97/100
876/876 - 16s - loss: 0.3942 - accuracy: 0.8548 - val_loss: 0.5772 - val_accuracy: 0.8336 - lr: 0.0010 - 16s/epoch - 19ms/step
Epoch 98/100
876/876 - 16s - loss: 0.3929 - accuracy: 0.8551 - val_loss: 0.5669 - val_accuracy: 0.8396 - lr: 0.0010 - 16s/epoch - 19ms/step
Epoch 99/100
876/876 - 16s - loss: 0.3951 - accuracy: 0.8548 - val_loss: 0.5656 - val_accuracy: 0.8388 - lr: 0.0010 - 16s/epoch - 19ms/step
Epoch 100/100
876/876 - 16s - loss: 0.3940 - accuracy: 0.8544 - val_loss: 0.5887 - val_accuracy: 0.8305 - lr: 0.0010 - 16s/epoch - 19ms/step
fitting with batch size: 500
Epoch 1/100
176/176 - 10s - loss: 0.3742 - accuracy: 0.8632 - val_loss: 0.5600 - val_accuracy: 0.8410 - lr: 0.0010 - 10s/epoch - 59ms/step
Epoch 2/100
176/176 - 9s - loss: 0.3701 - accuracy: 0.8656 - val_loss: 0.5986 - val_accuracy: 0.8312 - lr: 0.0010 - 9s/epoch - 48ms/step
Epoch 3/100
176/176 - 8s - loss: 0.3681 - accuracy: 0.8662 - val_loss: 0.5625 - val_accuracy: 0.8410 - lr: 0.0010 - 8s/epoch - 47ms/step
Epoch 4/100
176/176 - 8s - loss: 0.3684 - accuracy: 0.8668 - val_loss: 0.5490 - val_accuracy: 0.8436 - lr: 0.0010 - 8s/epoch - 47ms/step
Epoch 5/100
176/176 - 8s - loss: 0.3665 - accuracy: 0.8663 - val_loss: 0.5866 - val_accuracy: 0.8314 - lr: 0.0010 - 8s/epoch - 47ms/step
Epoch 6/100
176/176 - 8s - loss: 0.3683 - accuracy: 0.8664 - val_loss: 0.5668 - val_accuracy: 0.8400 - lr: 0.0010 - 8s/epoch - 47ms/step
Epoch 7/100
176/176 - 8s - loss: 0.3667 - accuracy: 0.8667 - val_loss: 0.5863 - val_accuracy: 0.8354 - lr: 0.0010 - 8s/epoch - 47ms/step
Epoch 8/100
176/176 - 8s - loss: 0.3683 - accuracy: 0.8663 - val_loss: 0.5596 - val_accuracy: 0.8402 - lr: 0.0010 - 8s/epoch - 47ms/step
Epoch 9/100
176/176 - 8s - loss: 0.3680 - accuracy: 0.8670 - val_loss: 0.5643 - val_accuracy: 0.8404 - lr: 0.0010 - 8s/epoch - 47ms/step
Epoch 10/100
176/176 - 8s - loss: 0.3659 - accuracy: 0.8665 - val_loss: 0.5787 - val_accuracy: 0.8341 - lr: 0.0010 - 8s/epoch - 47ms/step
Epoch 11/100
176/176 - 8s - loss: 0.3663 - accuracy: 0.8670 - val_loss: 0.5829 - val_accuracy: 0.8344 - lr: 0.0010 - 8s/epoch - 47ms/step
Epoch 12/100
176/176 - 8s - loss: 0.3662 - accuracy: 0.8665 - val_loss: 0.5830 - val_accuracy: 0.8346 - lr: 0.0010 - 8s/epoch - 47ms/step
Epoch 13/100
176/176 - 8s - loss: 0.3654 - accuracy: 0.8675 - val_loss: 0.5758 - val_accuracy: 0.8362 - lr: 0.0010 - 8s/epoch - 47ms/step
Epoch 14/100
176/176 - 8s - loss: 0.3653 - accuracy: 0.8666 - val_loss: 0.5721 - val_accuracy: 0.8386 - lr: 0.0010 - 8s/epoch - 48ms/step
Epoch 15/100
176/176 - 8s - loss: 0.3666 - accuracy: 0.8671 - val_loss: 0.5754 - val_accuracy: 0.8384 - lr: 0.0010 - 8s/epoch - 47ms/step
Epoch 16/100
176/176 - 8s - loss: 0.3653 - accuracy: 0.8666 - val_loss: 0.5658 - val_accuracy: 0.8398 - lr: 0.0010 - 8s/epoch - 48ms/step
Epoch 17/100
176/176 - 8s - loss: 0.3656 - accuracy: 0.8669 - val_loss: 0.6064 - val_accuracy: 0.8274 - lr: 0.0010 - 8s/epoch - 47ms/step
Epoch 18/100
176/176 - 8s - loss: 0.3641 - accuracy: 0.8678 - val_loss: 0.5841 - val_accuracy: 0.8355 - lr: 0.0010 - 8s/epoch - 47ms/step
Epoch 19/100
176/176 - 8s - loss: 0.3642 - accuracy: 0.8675 - val_loss: 0.5692 - val_accuracy: 0.8373 - lr: 0.0010 - 8s/epoch - 47ms/step
Epoch 20/100
176/176 - 8s - loss: 0.3640 - accuracy: 0.8678 - val_loss: 0.5673 - val_accuracy: 0.8402 - lr: 0.0010 - 8s/epoch - 47ms/step
Epoch 21/100
176/176 - 8s - loss: 0.3618 - accuracy: 0.8685 - val_loss: 0.5683 - val_accuracy: 0.8392 - lr: 0.0010 - 8s/epoch - 47ms/step
Epoch 22/100
176/176 - 8s - loss: 0.3622 - accuracy: 0.8682 - val_loss: 0.5575 - val_accuracy: 0.8415 - lr: 0.0010 - 8s/epoch - 47ms/step
Epoch 23/100
176/176 - 8s - loss: 0.3637 - accuracy: 0.8676 - val_loss: 0.5693 - val_accuracy: 0.8377 - lr: 0.0010 - 8s/epoch - 47ms/step
Epoch 24/100
176/176 - 8s - loss: 0.3638 - accuracy: 0.8674 - val_loss: 0.5664 - val_accuracy: 0.8382 - lr: 0.0010 - 8s/epoch - 47ms/step
Epoch 25/100
176/176 - 8s - loss: 0.3633 - accuracy: 0.8682 - val_loss: 0.5581 - val_accuracy: 0.8430 - lr: 0.0010 - 8s/epoch - 47ms/step
Epoch 26/100
176/176 - 8s - loss: 0.3616 - accuracy: 0.8696 - val_loss: 0.5804 - val_accuracy: 0.8342 - lr: 0.0010 - 8s/epoch - 48ms/step
Epoch 27/100
176/176 - 8s - loss: 0.3612 - accuracy: 0.8694 - val_loss: 0.5650 - val_accuracy: 0.8398 - lr: 0.0010 - 8s/epoch - 47ms/step
Epoch 28/100
176/176 - 8s - loss: 0.3629 - accuracy: 0.8670 - val_loss: 0.5950 - val_accuracy: 0.8345 - lr: 0.0010 - 8s/epoch - 47ms/step
Epoch 29/100
176/176 - 8s - loss: 0.3630 - accuracy: 0.8675 - val_loss: 0.5797 - val_accuracy: 0.8361 - lr: 0.0010 - 8s/epoch - 47ms/step
Epoch 30/100
176/176 - 8s - loss: 0.3623 - accuracy: 0.8676 - val_loss: 0.5840 - val_accuracy: 0.8352 - lr: 0.0010 - 8s/epoch - 47ms/step
Epoch 31/100
176/176 - 8s - loss: 0.3629 - accuracy: 0.8677 - val_loss: 0.5538 - val_accuracy: 0.8433 - lr: 0.0010 - 8s/epoch - 47ms/step
Epoch 32/100
176/176 - 8s - loss: 0.3619 - accuracy: 0.8684 - val_loss: 0.5736 - val_accuracy: 0.8385 - lr: 0.0010 - 8s/epoch - 47ms/step
Epoch 33/100
176/176 - 8s - loss: 0.3629 - accuracy: 0.8684 - val_loss: 0.5925 - val_accuracy: 0.8325 - lr: 0.0010 - 8s/epoch - 47ms/step
Epoch 34/100
176/176 - 8s - loss: 0.3618 - accuracy: 0.8687 - val_loss: 0.5744 - val_accuracy: 0.8375 - lr: 0.0010 - 8s/epoch - 47ms/step
Epoch 35/100
176/176 - 8s - loss: 0.3610 - accuracy: 0.8697 - val_loss: 0.5694 - val_accuracy: 0.8389 - lr: 0.0010 - 8s/epoch - 47ms/step
Epoch 36/100
176/176 - 8s - loss: 0.3614 - accuracy: 0.8690 - val_loss: 0.5858 - val_accuracy: 0.8362 - lr: 0.0010 - 8s/epoch - 47ms/step
Epoch 37/100
176/176 - 8s - loss: 0.3613 - accuracy: 0.8683 - val_loss: 0.5780 - val_accuracy: 0.8385 - lr: 0.0010 - 8s/epoch - 47ms/step
Epoch 38/100
176/176 - 8s - loss: 0.3612 - accuracy: 0.8690 - val_loss: 0.6212 - val_accuracy: 0.8265 - lr: 0.0010 - 8s/epoch - 47ms/step
Epoch 39/100
176/176 - 8s - loss: 0.3621 - accuracy: 0.8676 - val_loss: 0.5762 - val_accuracy: 0.8390 - lr: 0.0010 - 8s/epoch - 47ms/step
Epoch 40/100
176/176 - 8s - loss: 0.3603 - accuracy: 0.8693 - val_loss: 0.5714 - val_accuracy: 0.8377 - lr: 0.0010 - 8s/epoch - 47ms/step
Epoch 41/100
176/176 - 8s - loss: 0.3594 - accuracy: 0.8689 - val_loss: 0.5808 - val_accuracy: 0.8371 - lr: 0.0010 - 8s/epoch - 47ms/step
Epoch 42/100
176/176 - 8s - loss: 0.3607 - accuracy: 0.8687 - val_loss: 0.5760 - val_accuracy: 0.8390 - lr: 0.0010 - 8s/epoch - 47ms/step
Epoch 43/100
176/176 - 8s - loss: 0.3590 - accuracy: 0.8691 - val_loss: 0.5671 - val_accuracy: 0.8411 - lr: 0.0010 - 8s/epoch - 47ms/step
Epoch 44/100
176/176 - 8s - loss: 0.3589 - accuracy: 0.8703 - val_loss: 0.5797 - val_accuracy: 0.8365 - lr: 0.0010 - 8s/epoch - 47ms/step
Epoch 45/100
176/176 - 8s - loss: 0.3605 - accuracy: 0.8693 - val_loss: 0.5853 - val_accuracy: 0.8374 - lr: 0.0010 - 8s/epoch - 47ms/step
Epoch 46/100
176/176 - 8s - loss: 0.3602 - accuracy: 0.8679 - val_loss: 0.5883 - val_accuracy: 0.8334 - lr: 0.0010 - 8s/epoch - 47ms/step
Epoch 47/100
176/176 - 8s - loss: 0.3587 - accuracy: 0.8692 - val_loss: 0.5649 - val_accuracy: 0.8414 - lr: 0.0010 - 8s/epoch - 47ms/step
Epoch 48/100
176/176 - 8s - loss: 0.3612 - accuracy: 0.8697 - val_loss: 0.5796 - val_accuracy: 0.8371 - lr: 0.0010 - 8s/epoch - 47ms/step
Epoch 49/100
176/176 - 8s - loss: 0.3611 - accuracy: 0.8690 - val_loss: 0.5692 - val_accuracy: 0.8441 - lr: 0.0010 - 8s/epoch - 47ms/step
Epoch 50/100
176/176 - 8s - loss: 0.3614 - accuracy: 0.8688 - val_loss: 0.5697 - val_accuracy: 0.8388 - lr: 0.0010 - 8s/epoch - 47ms/step
Epoch 51/100
176/176 - 8s - loss: 0.3587 - accuracy: 0.8700 - val_loss: 0.6145 - val_accuracy: 0.8288 - lr: 0.0010 - 8s/epoch - 47ms/step
Epoch 52/100
176/176 - 8s - loss: 0.3586 - accuracy: 0.8701 - val_loss: 0.5885 - val_accuracy: 0.8327 - lr: 0.0010 - 8s/epoch - 47ms/step
Epoch 53/100
176/176 - 8s - loss: 0.3585 - accuracy: 0.8710 - val_loss: 0.5818 - val_accuracy: 0.8356 - lr: 0.0010 - 8s/epoch - 47ms/step
Epoch 54/100
176/176 - 8s - loss: 0.3595 - accuracy: 0.8695 - val_loss: 0.5786 - val_accuracy: 0.8349 - lr: 0.0010 - 8s/epoch - 47ms/step
Epoch 55/100
176/176 - 8s - loss: 0.3571 - accuracy: 0.8701 - val_loss: 0.5982 - val_accuracy: 0.8293 - lr: 0.0010 - 8s/epoch - 47ms/step
Epoch 56/100
176/176 - 8s - loss: 0.3591 - accuracy: 0.8692 - val_loss: 0.5730 - val_accuracy: 0.8400 - lr: 0.0010 - 8s/epoch - 47ms/step
Epoch 57/100
176/176 - 8s - loss: 0.3582 - accuracy: 0.8696 - val_loss: 0.5930 - val_accuracy: 0.8325 - lr: 0.0010 - 8s/epoch - 47ms/step
Epoch 58/100
176/176 - 8s - loss: 0.3585 - accuracy: 0.8697 - val_loss: 0.5566 - val_accuracy: 0.8420 - lr: 0.0010 - 8s/epoch - 47ms/step
Epoch 59/100
176/176 - 8s - loss: 0.3601 - accuracy: 0.8693 - val_loss: 0.5962 - val_accuracy: 0.8325 - lr: 0.0010 - 8s/epoch - 48ms/step
Epoch 60/100
176/176 - 8s - loss: 0.3595 - accuracy: 0.8697 - val_loss: 0.6085 - val_accuracy: 0.8324 - lr: 0.0010 - 8s/epoch - 47ms/step
Epoch 61/100
176/176 - 8s - loss: 0.3568 - accuracy: 0.8709 - val_loss: 0.5944 - val_accuracy: 0.8331 - lr: 0.0010 - 8s/epoch - 47ms/step
Epoch 62/100
176/176 - 8s - loss: 0.3590 - accuracy: 0.8701 - val_loss: 0.5926 - val_accuracy: 0.8319 - lr: 0.0010 - 8s/epoch - 47ms/step
Epoch 63/100
176/176 - 8s - loss: 0.3567 - accuracy: 0.8700 - val_loss: 0.5849 - val_accuracy: 0.8379 - lr: 0.0010 - 8s/epoch - 48ms/step
Epoch 64/100
176/176 - 8s - loss: 0.3575 - accuracy: 0.8706 - val_loss: 0.6134 - val_accuracy: 0.8260 - lr: 0.0010 - 8s/epoch - 48ms/step
Epoch 65/100
176/176 - 8s - loss: 0.3573 - accuracy: 0.8693 - val_loss: 0.5974 - val_accuracy: 0.8323 - lr: 0.0010 - 8s/epoch - 47ms/step
Epoch 66/100
176/176 - 8s - loss: 0.3578 - accuracy: 0.8704 - val_loss: 0.5854 - val_accuracy: 0.8369 - lr: 0.0010 - 8s/epoch - 47ms/step
Epoch 67/100
176/176 - 8s - loss: 0.3581 - accuracy: 0.8696 - val_loss: 0.5895 - val_accuracy: 0.8357 - lr: 0.0010 - 8s/epoch - 47ms/step
Epoch 68/100
176/176 - 8s - loss: 0.3559 - accuracy: 0.8699 - val_loss: 0.6005 - val_accuracy: 0.8322 - lr: 0.0010 - 8s/epoch - 47ms/step
Epoch 69/100
176/176 - 8s - loss: 0.3565 - accuracy: 0.8704 - val_loss: 0.5615 - val_accuracy: 0.8427 - lr: 0.0010 - 8s/epoch - 47ms/step
Epoch 70/100
176/176 - 8s - loss: 0.3583 - accuracy: 0.8696 - val_loss: 0.5861 - val_accuracy: 0.8353 - lr: 0.0010 - 8s/epoch - 47ms/step
Epoch 71/100
176/176 - 8s - loss: 0.3566 - accuracy: 0.8703 - val_loss: 0.6167 - val_accuracy: 0.8286 - lr: 0.0010 - 8s/epoch - 47ms/step
Epoch 72/100
176/176 - 8s - loss: 0.3573 - accuracy: 0.8706 - val_loss: 0.5816 - val_accuracy: 0.8392 - lr: 0.0010 - 8s/epoch - 47ms/step
Epoch 73/100
176/176 - 8s - loss: 0.3566 - accuracy: 0.8708 - val_loss: 0.5860 - val_accuracy: 0.8357 - lr: 0.0010 - 8s/epoch - 47ms/step
Epoch 74/100
176/176 - 8s - loss: 0.3552 - accuracy: 0.8711 - val_loss: 0.5873 - val_accuracy: 0.8359 - lr: 0.0010 - 8s/epoch - 47ms/step
Epoch 75/100
176/176 - 8s - loss: 0.3565 - accuracy: 0.8710 - val_loss: 0.5905 - val_accuracy: 0.8394 - lr: 0.0010 - 8s/epoch - 47ms/step
Epoch 76/100
176/176 - 8s - loss: 0.3586 - accuracy: 0.8689 - val_loss: 0.5742 - val_accuracy: 0.8396 - lr: 0.0010 - 8s/epoch - 47ms/step
Epoch 77/100
176/176 - 8s - loss: 0.3563 - accuracy: 0.8697 - val_loss: 0.5824 - val_accuracy: 0.8372 - lr: 0.0010 - 8s/epoch - 47ms/step
Epoch 78/100
176/176 - 8s - loss: 0.3578 - accuracy: 0.8705 - val_loss: 0.6194 - val_accuracy: 0.8245 - lr: 0.0010 - 8s/epoch - 47ms/step
Epoch 79/100
176/176 - 9s - loss: 0.3542 - accuracy: 0.8718 - val_loss: 0.5953 - val_accuracy: 0.8351 - lr: 0.0010 - 9s/epoch - 49ms/step
Epoch 80/100
176/176 - 8s - loss: 0.3564 - accuracy: 0.8705 - val_loss: 0.5724 - val_accuracy: 0.8402 - lr: 0.0010 - 8s/epoch - 47ms/step
Epoch 81/100
176/176 - 8s - loss: 0.3565 - accuracy: 0.8705 - val_loss: 0.5997 - val_accuracy: 0.8328 - lr: 0.0010 - 8s/epoch - 47ms/step
Epoch 82/100
176/176 - 8s - loss: 0.3558 - accuracy: 0.8706 - val_loss: 0.5944 - val_accuracy: 0.8333 - lr: 0.0010 - 8s/epoch - 47ms/step
Epoch 83/100
176/176 - 8s - loss: 0.3552 - accuracy: 0.8717 - val_loss: 0.5960 - val_accuracy: 0.8343 - lr: 0.0010 - 8s/epoch - 47ms/step
Epoch 84/100
176/176 - 8s - loss: 0.3551 - accuracy: 0.8713 - val_loss: 0.5777 - val_accuracy: 0.8381 - lr: 0.0010 - 8s/epoch - 47ms/step
Epoch 85/100
176/176 - 8s - loss: 0.3555 - accuracy: 0.8702 - val_loss: 0.5804 - val_accuracy: 0.8386 - lr: 0.0010 - 8s/epoch - 47ms/step
Epoch 86/100
176/176 - 8s - loss: 0.3560 - accuracy: 0.8713 - val_loss: 0.5789 - val_accuracy: 0.8374 - lr: 0.0010 - 8s/epoch - 47ms/step
Epoch 87/100
176/176 - 8s - loss: 0.3568 - accuracy: 0.8715 - val_loss: 0.5851 - val_accuracy: 0.8367 - lr: 0.0010 - 8s/epoch - 47ms/step
Epoch 88/100
176/176 - 8s - loss: 0.3561 - accuracy: 0.8711 - val_loss: 0.6011 - val_accuracy: 0.8342 - lr: 0.0010 - 8s/epoch - 47ms/step
Epoch 89/100
176/176 - 8s - loss: 0.3560 - accuracy: 0.8706 - val_loss: 0.5946 - val_accuracy: 0.8361 - lr: 0.0010 - 8s/epoch - 47ms/step
Epoch 90/100
176/176 - 8s - loss: 0.3568 - accuracy: 0.8704 - val_loss: 0.5708 - val_accuracy: 0.8406 - lr: 0.0010 - 8s/epoch - 47ms/step
Epoch 91/100
176/176 - 8s - loss: 0.3566 - accuracy: 0.8707 - val_loss: 0.6040 - val_accuracy: 0.8314 - lr: 0.0010 - 8s/epoch - 47ms/step
Epoch 92/100
176/176 - 8s - loss: 0.3559 - accuracy: 0.8702 - val_loss: 0.5707 - val_accuracy: 0.8379 - lr: 0.0010 - 8s/epoch - 47ms/step
Epoch 93/100
176/176 - 8s - loss: 0.3554 - accuracy: 0.8706 - val_loss: 0.5874 - val_accuracy: 0.8354 - lr: 0.0010 - 8s/epoch - 48ms/step
Epoch 94/100
176/176 - 8s - loss: 0.3551 - accuracy: 0.8711 - val_loss: 0.5682 - val_accuracy: 0.8409 - lr: 0.0010 - 8s/epoch - 47ms/step
Epoch 95/100
176/176 - 8s - loss: 0.3552 - accuracy: 0.8712 - val_loss: 0.5825 - val_accuracy: 0.8389 - lr: 0.0010 - 8s/epoch - 47ms/step
Epoch 96/100
176/176 - 8s - loss: 0.3534 - accuracy: 0.8722 - val_loss: 0.5916 - val_accuracy: 0.8339 - lr: 0.0010 - 8s/epoch - 47ms/step
Epoch 97/100
176/176 - 8s - loss: 0.3530 - accuracy: 0.8723 - val_loss: 0.6277 - val_accuracy: 0.8229 - lr: 0.0010 - 8s/epoch - 47ms/step
Epoch 98/100
176/176 - 8s - loss: 0.3540 - accuracy: 0.8714 - val_loss: 0.5961 - val_accuracy: 0.8323 - lr: 0.0010 - 8s/epoch - 48ms/step
Epoch 99/100
176/176 - 8s - loss: 0.3539 - accuracy: 0.8719 - val_loss: 0.5818 - val_accuracy: 0.8390 - lr: 0.0010 - 8s/epoch - 47ms/step
Epoch 100/100
176/176 - 8s - loss: 0.3547 - accuracy: 0.8721 - val_loss: 0.6001 - val_accuracy: 0.8337 - lr: 0.0010 - 8s/epoch - 48ms/step
fitting with batch size: 1500
Epoch 1/100
59/59 - 9s - loss: 0.3511 - accuracy: 0.8726 - val_loss: 0.5976 - val_accuracy: 0.8340 - lr: 0.0010 - 9s/epoch - 161ms/step
Epoch 2/100
59/59 - 7s - loss: 0.3509 - accuracy: 0.8733 - val_loss: 0.6021 - val_accuracy: 0.8330 - lr: 0.0010 - 7s/epoch - 127ms/step
Epoch 3/100
59/59 - 7s - loss: 0.3511 - accuracy: 0.8720 - val_loss: 0.5986 - val_accuracy: 0.8340 - lr: 0.0010 - 7s/epoch - 127ms/step
Epoch 4/100
59/59 - 7s - loss: 0.3528 - accuracy: 0.8728 - val_loss: 0.5905 - val_accuracy: 0.8358 - lr: 0.0010 - 7s/epoch - 127ms/step
Epoch 5/100
59/59 - 7s - loss: 0.3509 - accuracy: 0.8727 - val_loss: 0.5915 - val_accuracy: 0.8360 - lr: 0.0010 - 7s/epoch - 127ms/step
Epoch 6/100
59/59 - 7s - loss: 0.3509 - accuracy: 0.8727 - val_loss: 0.5931 - val_accuracy: 0.8348 - lr: 0.0010 - 7s/epoch - 127ms/step
Epoch 7/100
59/59 - 7s - loss: 0.3507 - accuracy: 0.8723 - val_loss: 0.5977 - val_accuracy: 0.8338 - lr: 0.0010 - 7s/epoch - 127ms/step
Epoch 8/100
59/59 - 7s - loss: 0.3499 - accuracy: 0.8740 - val_loss: 0.5932 - val_accuracy: 0.8351 - lr: 0.0010 - 7s/epoch - 127ms/step
Epoch 9/100
59/59 - 7s - loss: 0.3503 - accuracy: 0.8730 - val_loss: 0.5880 - val_accuracy: 0.8379 - lr: 0.0010 - 7s/epoch - 127ms/step
Epoch 10/100
59/59 - 7s - loss: 0.3497 - accuracy: 0.8728 - val_loss: 0.5919 - val_accuracy: 0.8350 - lr: 0.0010 - 7s/epoch - 127ms/step
Epoch 11/100
59/59 - 7s - loss: 0.3529 - accuracy: 0.8714 - val_loss: 0.5898 - val_accuracy: 0.8350 - lr: 0.0010 - 7s/epoch - 127ms/step
Epoch 12/100
59/59 - 7s - loss: 0.3496 - accuracy: 0.8733 - val_loss: 0.5913 - val_accuracy: 0.8354 - lr: 0.0010 - 7s/epoch - 127ms/step
Epoch 13/100
59/59 - 7s - loss: 0.3513 - accuracy: 0.8728 - val_loss: 0.6057 - val_accuracy: 0.8325 - lr: 0.0010 - 7s/epoch - 127ms/step
Epoch 14/100
59/59 - 7s - loss: 0.3509 - accuracy: 0.8729 - val_loss: 0.5934 - val_accuracy: 0.8346 - lr: 0.0010 - 7s/epoch - 127ms/step
Epoch 15/100
59/59 - 8s - loss: 0.3507 - accuracy: 0.8733 - val_loss: 0.5969 - val_accuracy: 0.8352 - lr: 0.0010 - 8s/epoch - 127ms/step
Epoch 16/100
59/59 - 7s - loss: 0.3511 - accuracy: 0.8722 - val_loss: 0.6011 - val_accuracy: 0.8338 - lr: 0.0010 - 7s/epoch - 127ms/step
Epoch 17/100
59/59 - 7s - loss: 0.3499 - accuracy: 0.8735 - val_loss: 0.6006 - val_accuracy: 0.8334 - lr: 0.0010 - 7s/epoch - 127ms/step
Epoch 18/100
59/59 - 7s - loss: 0.3496 - accuracy: 0.8732 - val_loss: 0.5931 - val_accuracy: 0.8361 - lr: 0.0010 - 7s/epoch - 127ms/step
Epoch 19/100
59/59 - 7s - loss: 0.3491 - accuracy: 0.8736 - val_loss: 0.5977 - val_accuracy: 0.8347 - lr: 0.0010 - 7s/epoch - 127ms/step
Epoch 20/100
59/59 - 7s - loss: 0.3501 - accuracy: 0.8733 - val_loss: 0.5948 - val_accuracy: 0.8354 - lr: 0.0010 - 7s/epoch - 127ms/step
Epoch 21/100
59/59 - 7s - loss: 0.3495 - accuracy: 0.8729 - val_loss: 0.5927 - val_accuracy: 0.8358 - lr: 0.0010 - 7s/epoch - 127ms/step
Epoch 22/100
59/59 - 7s - loss: 0.3500 - accuracy: 0.8729 - val_loss: 0.6023 - val_accuracy: 0.8324 - lr: 0.0010 - 7s/epoch - 127ms/step
Epoch 23/100
59/59 - 8s - loss: 0.3483 - accuracy: 0.8744 - val_loss: 0.6000 - val_accuracy: 0.8331 - lr: 0.0010 - 8s/epoch - 127ms/step
Epoch 24/100
59/59 - 7s - loss: 0.3502 - accuracy: 0.8734 - val_loss: 0.5946 - val_accuracy: 0.8345 - lr: 0.0010 - 7s/epoch - 127ms/step
Epoch 25/100
59/59 - 8s - loss: 0.3510 - accuracy: 0.8738 - val_loss: 0.5981 - val_accuracy: 0.8344 - lr: 0.0010 - 8s/epoch - 127ms/step
Epoch 26/100
59/59 - 7s - loss: 0.3486 - accuracy: 0.8734 - val_loss: 0.6066 - val_accuracy: 0.8315 - lr: 0.0010 - 7s/epoch - 127ms/step
Epoch 27/100
59/59 - 7s - loss: 0.3504 - accuracy: 0.8727 - val_loss: 0.6061 - val_accuracy: 0.8315 - lr: 0.0010 - 7s/epoch - 127ms/step
Epoch 28/100
59/59 - 7s - loss: 0.3477 - accuracy: 0.8743 - val_loss: 0.6060 - val_accuracy: 0.8315 - lr: 0.0010 - 7s/epoch - 127ms/step
Epoch 29/100
59/59 - 7s - loss: 0.3490 - accuracy: 0.8739 - val_loss: 0.6047 - val_accuracy: 0.8314 - lr: 0.0010 - 7s/epoch - 127ms/step
Epoch 30/100
59/59 - 7s - loss: 0.3486 - accuracy: 0.8735 - val_loss: 0.5912 - val_accuracy: 0.8372 - lr: 0.0010 - 7s/epoch - 127ms/step
Epoch 31/100
59/59 - 7s - loss: 0.3489 - accuracy: 0.8732 - val_loss: 0.5936 - val_accuracy: 0.8354 - lr: 0.0010 - 7s/epoch - 127ms/step
Epoch 32/100
59/59 - 7s - loss: 0.3489 - accuracy: 0.8734 - val_loss: 0.5945 - val_accuracy: 0.8351 - lr: 0.0010 - 7s/epoch - 127ms/step
Epoch 33/100
59/59 - 7s - loss: 0.3488 - accuracy: 0.8742 - val_loss: 0.5931 - val_accuracy: 0.8359 - lr: 0.0010 - 7s/epoch - 127ms/step
Epoch 34/100
59/59 - 7s - loss: 0.3477 - accuracy: 0.8743 - val_loss: 0.6051 - val_accuracy: 0.8311 - lr: 0.0010 - 7s/epoch - 127ms/step
Epoch 35/100
59/59 - 7s - loss: 0.3503 - accuracy: 0.8733 - val_loss: 0.5982 - val_accuracy: 0.8329 - lr: 0.0010 - 7s/epoch - 127ms/step
Epoch 36/100
59/59 - 7s - loss: 0.3499 - accuracy: 0.8735 - val_loss: 0.6002 - val_accuracy: 0.8333 - lr: 0.0010 - 7s/epoch - 127ms/step
Epoch 37/100
59/59 - 7s - loss: 0.3487 - accuracy: 0.8735 - val_loss: 0.6020 - val_accuracy: 0.8329 - lr: 0.0010 - 7s/epoch - 127ms/step
Epoch 38/100
59/59 - 7s - loss: 0.3490 - accuracy: 0.8737 - val_loss: 0.6005 - val_accuracy: 0.8322 - lr: 0.0010 - 7s/epoch - 127ms/step
Epoch 39/100
59/59 - 7s - loss: 0.3481 - accuracy: 0.8741 - val_loss: 0.6087 - val_accuracy: 0.8314 - lr: 0.0010 - 7s/epoch - 127ms/step
Epoch 40/100
59/59 - 7s - loss: 0.3494 - accuracy: 0.8734 - val_loss: 0.6093 - val_accuracy: 0.8310 - lr: 0.0010 - 7s/epoch - 127ms/step
Epoch 41/100
59/59 - 7s - loss: 0.3488 - accuracy: 0.8739 - val_loss: 0.6097 - val_accuracy: 0.8315 - lr: 0.0010 - 7s/epoch - 127ms/step
Epoch 42/100
59/59 - 7s - loss: 0.3499 - accuracy: 0.8732 - val_loss: 0.6046 - val_accuracy: 0.8322 - lr: 0.0010 - 7s/epoch - 127ms/step
Epoch 43/100
59/59 - 7s - loss: 0.3479 - accuracy: 0.8739 - val_loss: 0.5958 - val_accuracy: 0.8350 - lr: 0.0010 - 7s/epoch - 127ms/step
Epoch 44/100
59/59 - 7s - loss: 0.3502 - accuracy: 0.8735 - val_loss: 0.5958 - val_accuracy: 0.8356 - lr: 0.0010 - 7s/epoch - 127ms/step
Epoch 45/100
59/59 - 7s - loss: 0.3482 - accuracy: 0.8739 - val_loss: 0.6039 - val_accuracy: 0.8318 - lr: 0.0010 - 7s/epoch - 127ms/step
Epoch 46/100
59/59 - 8s - loss: 0.3502 - accuracy: 0.8732 - val_loss: 0.5985 - val_accuracy: 0.8346 - lr: 0.0010 - 8s/epoch - 127ms/step
Epoch 47/100
59/59 - 7s - loss: 0.3498 - accuracy: 0.8729 - val_loss: 0.6063 - val_accuracy: 0.8331 - lr: 0.0010 - 7s/epoch - 127ms/step
Epoch 48/100
59/59 - 7s - loss: 0.3481 - accuracy: 0.8739 - val_loss: 0.6084 - val_accuracy: 0.8325 - lr: 0.0010 - 7s/epoch - 127ms/step
Epoch 49/100
59/59 - 7s - loss: 0.3481 - accuracy: 0.8733 - val_loss: 0.6123 - val_accuracy: 0.8304 - lr: 0.0010 - 7s/epoch - 127ms/step
Epoch 50/100
59/59 - 7s - loss: 0.3483 - accuracy: 0.8748 - val_loss: 0.5996 - val_accuracy: 0.8337 - lr: 0.0010 - 7s/epoch - 127ms/step
Epoch 51/100
59/59 - 8s - loss: 0.3494 - accuracy: 0.8735 - val_loss: 0.6051 - val_accuracy: 0.8320 - lr: 0.0010 - 8s/epoch - 127ms/step
Epoch 52/100
59/59 - 7s - loss: 0.3491 - accuracy: 0.8732 - val_loss: 0.5942 - val_accuracy: 0.8353 - lr: 0.0010 - 7s/epoch - 127ms/step
Epoch 53/100
59/59 - 7s - loss: 0.3471 - accuracy: 0.8743 - val_loss: 0.5964 - val_accuracy: 0.8344 - lr: 0.0010 - 7s/epoch - 127ms/step
Epoch 54/100
59/59 - 7s - loss: 0.3480 - accuracy: 0.8736 - val_loss: 0.5985 - val_accuracy: 0.8338 - lr: 0.0010 - 7s/epoch - 127ms/step
Epoch 55/100
59/59 - 7s - loss: 0.3478 - accuracy: 0.8729 - val_loss: 0.6012 - val_accuracy: 0.8333 - lr: 0.0010 - 7s/epoch - 127ms/step
Epoch 56/100
59/59 - 7s - loss: 0.3480 - accuracy: 0.8745 - val_loss: 0.6023 - val_accuracy: 0.8337 - lr: 0.0010 - 7s/epoch - 127ms/step
Epoch 57/100
59/59 - 7s - loss: 0.3471 - accuracy: 0.8745 - val_loss: 0.6012 - val_accuracy: 0.8340 - lr: 0.0010 - 7s/epoch - 127ms/step
Epoch 58/100
59/59 - 7s - loss: 0.3471 - accuracy: 0.8744 - val_loss: 0.5969 - val_accuracy: 0.8349 - lr: 0.0010 - 7s/epoch - 127ms/step
Epoch 59/100
59/59 - 8s - loss: 0.3488 - accuracy: 0.8733 - val_loss: 0.5965 - val_accuracy: 0.8352 - lr: 0.0010 - 8s/epoch - 127ms/step
Epoch 60/100
59/59 - 7s - loss: 0.3486 - accuracy: 0.8735 - val_loss: 0.6035 - val_accuracy: 0.8327 - lr: 0.0010 - 7s/epoch - 127ms/step
Epoch 61/100
59/59 - 7s - loss: 0.3477 - accuracy: 0.8735 - val_loss: 0.5982 - val_accuracy: 0.8338 - lr: 0.0010 - 7s/epoch - 127ms/step
Epoch 62/100
59/59 - 8s - loss: 0.3479 - accuracy: 0.8741 - val_loss: 0.5924 - val_accuracy: 0.8360 - lr: 0.0010 - 8s/epoch - 127ms/step
Epoch 63/100
59/59 - 7s - loss: 0.3470 - accuracy: 0.8744 - val_loss: 0.5930 - val_accuracy: 0.8365 - lr: 0.0010 - 7s/epoch - 127ms/step
Epoch 64/100
59/59 - 7s - loss: 0.3482 - accuracy: 0.8738 - val_loss: 0.6145 - val_accuracy: 0.8298 - lr: 0.0010 - 7s/epoch - 127ms/step
Epoch 65/100
59/59 - 7s - loss: 0.3478 - accuracy: 0.8738 - val_loss: 0.6042 - val_accuracy: 0.8320 - lr: 0.0010 - 7s/epoch - 127ms/step
Epoch 66/100
59/59 - 7s - loss: 0.3480 - accuracy: 0.8734 - val_loss: 0.6010 - val_accuracy: 0.8325 - lr: 0.0010 - 7s/epoch - 127ms/step
Epoch 67/100
59/59 - 8s - loss: 0.3475 - accuracy: 0.8731 - val_loss: 0.5998 - val_accuracy: 0.8342 - lr: 0.0010 - 8s/epoch - 127ms/step
Epoch 68/100
59/59 - 7s - loss: 0.3475 - accuracy: 0.8750 - val_loss: 0.6067 - val_accuracy: 0.8318 - lr: 0.0010 - 7s/epoch - 127ms/step
Epoch 69/100
59/59 - 7s - loss: 0.3489 - accuracy: 0.8741 - val_loss: 0.6067 - val_accuracy: 0.8319 - lr: 0.0010 - 7s/epoch - 127ms/step
Epoch 70/100
59/59 - 7s - loss: 0.3475 - accuracy: 0.8744 - val_loss: 0.6005 - val_accuracy: 0.8345 - lr: 0.0010 - 7s/epoch - 127ms/step
Epoch 71/100
59/59 - 7s - loss: 0.3471 - accuracy: 0.8743 - val_loss: 0.5998 - val_accuracy: 0.8345 - lr: 0.0010 - 7s/epoch - 127ms/step
Epoch 72/100
59/59 - 7s - loss: 0.3485 - accuracy: 0.8743 - val_loss: 0.5998 - val_accuracy: 0.8340 - lr: 0.0010 - 7s/epoch - 127ms/step
Epoch 73/100
59/59 - 7s - loss: 0.3460 - accuracy: 0.8750 - val_loss: 0.6080 - val_accuracy: 0.8325 - lr: 0.0010 - 7s/epoch - 127ms/step
Epoch 74/100
59/59 - 7s - loss: 0.3479 - accuracy: 0.8743 - val_loss: 0.5973 - val_accuracy: 0.8328 - lr: 0.0010 - 7s/epoch - 127ms/step
Epoch 75/100
59/59 - 7s - loss: 0.3476 - accuracy: 0.8750 - val_loss: 0.5999 - val_accuracy: 0.8341 - lr: 0.0010 - 7s/epoch - 127ms/step
Epoch 76/100
59/59 - 7s - loss: 0.3480 - accuracy: 0.8746 - val_loss: 0.6106 - val_accuracy: 0.8312 - lr: 0.0010 - 7s/epoch - 127ms/step
Epoch 77/100
59/59 - 7s - loss: 0.3483 - accuracy: 0.8741 - val_loss: 0.6036 - val_accuracy: 0.8332 - lr: 0.0010 - 7s/epoch - 127ms/step
Epoch 78/100
59/59 - 7s - loss: 0.3484 - accuracy: 0.8745 - val_loss: 0.6029 - val_accuracy: 0.8341 - lr: 0.0010 - 7s/epoch - 127ms/step
Epoch 79/100
59/59 - 7s - loss: 0.3478 - accuracy: 0.8741 - val_loss: 0.6113 - val_accuracy: 0.8314 - lr: 0.0010 - 7s/epoch - 127ms/step
Epoch 80/100
59/59 - 7s - loss: 0.3476 - accuracy: 0.8740 - val_loss: 0.6040 - val_accuracy: 0.8320 - lr: 0.0010 - 7s/epoch - 127ms/step
Epoch 81/100
59/59 - 7s - loss: 0.3478 - accuracy: 0.8739 - val_loss: 0.5978 - val_accuracy: 0.8349 - lr: 0.0010 - 7s/epoch - 127ms/step
Epoch 82/100
59/59 - 7s - loss: 0.3466 - accuracy: 0.8741 - val_loss: 0.6086 - val_accuracy: 0.8314 - lr: 0.0010 - 7s/epoch - 127ms/step
Epoch 83/100
59/59 - 7s - loss: 0.3463 - accuracy: 0.8749 - val_loss: 0.6016 - val_accuracy: 0.8334 - lr: 0.0010 - 7s/epoch - 127ms/step
Epoch 84/100
59/59 - 7s - loss: 0.3482 - accuracy: 0.8726 - val_loss: 0.6019 - val_accuracy: 0.8332 - lr: 0.0010 - 7s/epoch - 127ms/step
Epoch 85/100
59/59 - 7s - loss: 0.3488 - accuracy: 0.8736 - val_loss: 0.5960 - val_accuracy: 0.8361 - lr: 0.0010 - 7s/epoch - 127ms/step
Epoch 86/100
59/59 - 7s - loss: 0.3480 - accuracy: 0.8736 - val_loss: 0.6048 - val_accuracy: 0.8333 - lr: 0.0010 - 7s/epoch - 127ms/step
Epoch 87/100
59/59 - 7s - loss: 0.3471 - accuracy: 0.8744 - val_loss: 0.6081 - val_accuracy: 0.8325 - lr: 0.0010 - 7s/epoch - 127ms/step
Epoch 88/100
59/59 - 7s - loss: 0.3489 - accuracy: 0.8740 - val_loss: 0.6097 - val_accuracy: 0.8319 - lr: 0.0010 - 7s/epoch - 127ms/step
Epoch 89/100
59/59 - 7s - loss: 0.3473 - accuracy: 0.8743 - val_loss: 0.6017 - val_accuracy: 0.8337 - lr: 0.0010 - 7s/epoch - 127ms/step
Epoch 90/100
59/59 - 7s - loss: 0.3483 - accuracy: 0.8736 - val_loss: 0.6061 - val_accuracy: 0.8321 - lr: 0.0010 - 7s/epoch - 127ms/step
Epoch 91/100
59/59 - 7s - loss: 0.3473 - accuracy: 0.8740 - val_loss: 0.5954 - val_accuracy: 0.8347 - lr: 0.0010 - 7s/epoch - 127ms/step
Epoch 92/100
59/59 - 7s - loss: 0.3473 - accuracy: 0.8730 - val_loss: 0.6062 - val_accuracy: 0.8333 - lr: 0.0010 - 7s/epoch - 127ms/step
Epoch 93/100
59/59 - 7s - loss: 0.3475 - accuracy: 0.8737 - val_loss: 0.6048 - val_accuracy: 0.8328 - lr: 0.0010 - 7s/epoch - 127ms/step
Epoch 94/100
59/59 - 7s - loss: 0.3461 - accuracy: 0.8750 - val_loss: 0.6084 - val_accuracy: 0.8318 - lr: 0.0010 - 7s/epoch - 127ms/step
Epoch 95/100
59/59 - 7s - loss: 0.3459 - accuracy: 0.8750 - val_loss: 0.6064 - val_accuracy: 0.8321 - lr: 0.0010 - 7s/epoch - 127ms/step
Epoch 96/100
59/59 - 7s - loss: 0.3456 - accuracy: 0.8752 - val_loss: 0.6069 - val_accuracy: 0.8314 - lr: 0.0010 - 7s/epoch - 127ms/step
Epoch 97/100
59/59 - 7s - loss: 0.3450 - accuracy: 0.8746 - val_loss: 0.6067 - val_accuracy: 0.8319 - lr: 0.0010 - 7s/epoch - 127ms/step
Epoch 98/100
59/59 - 7s - loss: 0.3451 - accuracy: 0.8740 - val_loss: 0.6129 - val_accuracy: 0.8310 - lr: 0.0010 - 7s/epoch - 127ms/step
Epoch 99/100
59/59 - 7s - loss: 0.3476 - accuracy: 0.8742 - val_loss: 0.6006 - val_accuracy: 0.8331 - lr: 0.0010 - 7s/epoch - 127ms/step
Epoch 100/100
59/59 - 7s - loss: 0.3466 - accuracy: 0.8749 - val_loss: 0.6085 - val_accuracy: 0.8313 - lr: 0.0010 - 7s/epoch - 127ms/step
fitting with batch size: 2500
Epoch 1/100
36/36 - 11s - loss: 0.3451 - accuracy: 0.8750 - val_loss: 0.6118 - val_accuracy: 0.8310 - lr: 0.0010 - 11s/epoch - 296ms/step
Epoch 2/100
36/36 - 7s - loss: 0.3463 - accuracy: 0.8748 - val_loss: 0.6039 - val_accuracy: 0.8327 - lr: 0.0010 - 7s/epoch - 201ms/step
Epoch 3/100
36/36 - 7s - loss: 0.3484 - accuracy: 0.8735 - val_loss: 0.5917 - val_accuracy: 0.8372 - lr: 0.0010 - 7s/epoch - 201ms/step
Epoch 4/100
36/36 - 7s - loss: 0.3477 - accuracy: 0.8744 - val_loss: 0.5619 - val_accuracy: 0.8457 - lr: 0.0010 - 7s/epoch - 201ms/step
Epoch 5/100
36/36 - 7s - loss: 0.3510 - accuracy: 0.8731 - val_loss: 0.6006 - val_accuracy: 0.8344 - lr: 0.0010 - 7s/epoch - 201ms/step
Epoch 6/100
36/36 - 7s - loss: 0.3461 - accuracy: 0.8747 - val_loss: 0.6311 - val_accuracy: 0.8251 - lr: 0.0010 - 7s/epoch - 201ms/step
Epoch 7/100
36/36 - 7s - loss: 0.3480 - accuracy: 0.8741 - val_loss: 0.6023 - val_accuracy: 0.8337 - lr: 0.0010 - 7s/epoch - 201ms/step
Epoch 8/100
36/36 - 7s - loss: 0.3478 - accuracy: 0.8737 - val_loss: 0.5892 - val_accuracy: 0.8376 - lr: 0.0010 - 7s/epoch - 201ms/step
Epoch 9/100
36/36 - 7s - loss: 0.3491 - accuracy: 0.8736 - val_loss: 0.6101 - val_accuracy: 0.8311 - lr: 0.0010 - 7s/epoch - 201ms/step
Epoch 10/100
36/36 - 7s - loss: 0.3472 - accuracy: 0.8751 - val_loss: 0.6105 - val_accuracy: 0.8321 - lr: 0.0010 - 7s/epoch - 201ms/step
Epoch 11/100
36/36 - 7s - loss: 0.3473 - accuracy: 0.8743 - val_loss: 0.6133 - val_accuracy: 0.8303 - lr: 0.0010 - 7s/epoch - 201ms/step
Epoch 12/100
36/36 - 7s - loss: 0.3479 - accuracy: 0.8743 - val_loss: 0.6245 - val_accuracy: 0.8262 - lr: 0.0010 - 7s/epoch - 201ms/step
Epoch 13/100
36/36 - 7s - loss: 0.3480 - accuracy: 0.8751 - val_loss: 0.6104 - val_accuracy: 0.8327 - lr: 0.0010 - 7s/epoch - 201ms/step
Epoch 14/100
36/36 - 7s - loss: 0.3469 - accuracy: 0.8739 - val_loss: 0.5911 - val_accuracy: 0.8378 - lr: 0.0010 - 7s/epoch - 201ms/step
Epoch 15/100
36/36 - 7s - loss: 0.3478 - accuracy: 0.8737 - val_loss: 0.6029 - val_accuracy: 0.8338 - lr: 0.0010 - 7s/epoch - 201ms/step
Epoch 16/100
36/36 - 7s - loss: 0.3473 - accuracy: 0.8743 - val_loss: 0.6158 - val_accuracy: 0.8293 - lr: 0.0010 - 7s/epoch - 201ms/step
Epoch 17/100
36/36 - 7s - loss: 0.3474 - accuracy: 0.8738 - val_loss: 0.5987 - val_accuracy: 0.8351 - lr: 0.0010 - 7s/epoch - 201ms/step
Epoch 18/100
36/36 - 7s - loss: 0.3476 - accuracy: 0.8746 - val_loss: 0.6162 - val_accuracy: 0.8303 - lr: 0.0010 - 7s/epoch - 201ms/step
Epoch 19/100
36/36 - 7s - loss: 0.3482 - accuracy: 0.8748 - val_loss: 0.6091 - val_accuracy: 0.8308 - lr: 0.0010 - 7s/epoch - 201ms/step
Epoch 20/100
36/36 - 7s - loss: 0.3468 - accuracy: 0.8746 - val_loss: 0.6038 - val_accuracy: 0.8313 - lr: 0.0010 - 7s/epoch - 201ms/step
Epoch 21/100
36/36 - 7s - loss: 0.3460 - accuracy: 0.8747 - val_loss: 0.6066 - val_accuracy: 0.8329 - lr: 0.0010 - 7s/epoch - 201ms/step
Epoch 22/100
36/36 - 7s - loss: 0.3465 - accuracy: 0.8744 - val_loss: 0.5940 - val_accuracy: 0.8378 - lr: 0.0010 - 7s/epoch - 201ms/step
Epoch 23/100
36/36 - 7s - loss: 0.3445 - accuracy: 0.8754 - val_loss: 0.6156 - val_accuracy: 0.8305 - lr: 0.0010 - 7s/epoch - 201ms/step
Epoch 24/100
36/36 - 7s - loss: 0.3461 - accuracy: 0.8747 - val_loss: 0.6005 - val_accuracy: 0.8350 - lr: 0.0010 - 7s/epoch - 202ms/step
Epoch 25/100
36/36 - 7s - loss: 0.3483 - accuracy: 0.8731 - val_loss: 0.5890 - val_accuracy: 0.8369 - lr: 0.0010 - 7s/epoch - 202ms/step
Epoch 26/100
36/36 - 7s - loss: 0.3477 - accuracy: 0.8746 - val_loss: 0.5972 - val_accuracy: 0.8343 - lr: 0.0010 - 7s/epoch - 201ms/step
Epoch 27/100
36/36 - 7s - loss: 0.3475 - accuracy: 0.8739 - val_loss: 0.6011 - val_accuracy: 0.8361 - lr: 0.0010 - 7s/epoch - 201ms/step
Epoch 28/100
36/36 - 7s - loss: 0.3464 - accuracy: 0.8745 - val_loss: 0.5955 - val_accuracy: 0.8351 - lr: 0.0010 - 7s/epoch - 201ms/step
Epoch 29/100
36/36 - 7s - loss: 0.3491 - accuracy: 0.8742 - val_loss: 0.5946 - val_accuracy: 0.8357 - lr: 0.0010 - 7s/epoch - 201ms/step
Epoch 30/100
36/36 - 7s - loss: 0.3457 - accuracy: 0.8746 - val_loss: 0.6251 - val_accuracy: 0.8289 - lr: 0.0010 - 7s/epoch - 201ms/step
Epoch 31/100
36/36 - 7s - loss: 0.3480 - accuracy: 0.8733 - val_loss: 0.6115 - val_accuracy: 0.8345 - lr: 0.0010 - 7s/epoch - 201ms/step
Epoch 32/100
36/36 - 7s - loss: 0.3531 - accuracy: 0.8719 - val_loss: 0.6328 - val_accuracy: 0.8266 - lr: 0.0010 - 7s/epoch - 201ms/step
Epoch 33/100
36/36 - 7s - loss: 0.3479 - accuracy: 0.8742 - val_loss: 0.5981 - val_accuracy: 0.8353 - lr: 0.0010 - 7s/epoch - 201ms/step
Epoch 34/100
36/36 - 7s - loss: 0.3452 - accuracy: 0.8748 - val_loss: 0.6160 - val_accuracy: 0.8287 - lr: 0.0010 - 7s/epoch - 201ms/step
Epoch 35/100
36/36 - 7s - loss: 0.3474 - accuracy: 0.8742 - val_loss: 0.5901 - val_accuracy: 0.8385 - lr: 0.0010 - 7s/epoch - 202ms/step
Epoch 36/100
36/36 - 7s - loss: 0.3488 - accuracy: 0.8735 - val_loss: 0.6167 - val_accuracy: 0.8282 - lr: 0.0010 - 7s/epoch - 201ms/step
Epoch 37/100
36/36 - 7s - loss: 0.3491 - accuracy: 0.8736 - val_loss: 0.6022 - val_accuracy: 0.8334 - lr: 0.0010 - 7s/epoch - 202ms/step
Epoch 38/100
36/36 - 7s - loss: 0.3448 - accuracy: 0.8746 - val_loss: 0.6248 - val_accuracy: 0.8267 - lr: 0.0010 - 7s/epoch - 201ms/step
Epoch 39/100
36/36 - 7s - loss: 0.3457 - accuracy: 0.8743 - val_loss: 0.6134 - val_accuracy: 0.8311 - lr: 0.0010 - 7s/epoch - 201ms/step
Epoch 40/100
36/36 - 7s - loss: 0.3457 - accuracy: 0.8754 - val_loss: 0.5883 - val_accuracy: 0.8377 - lr: 0.0010 - 7s/epoch - 201ms/step
Epoch 41/100
36/36 - 7s - loss: 0.3452 - accuracy: 0.8764 - val_loss: 0.6116 - val_accuracy: 0.8303 - lr: 0.0010 - 7s/epoch - 201ms/step
Epoch 42/100
36/36 - 7s - loss: 0.3457 - accuracy: 0.8749 - val_loss: 0.6091 - val_accuracy: 0.8311 - lr: 0.0010 - 7s/epoch - 202ms/step
Epoch 43/100
36/36 - 7s - loss: 0.3467 - accuracy: 0.8738 - val_loss: 0.6061 - val_accuracy: 0.8314 - lr: 0.0010 - 7s/epoch - 202ms/step
Epoch 44/100
36/36 - 7s - loss: 0.3462 - accuracy: 0.8753 - val_loss: 0.5947 - val_accuracy: 0.8366 - lr: 0.0010 - 7s/epoch - 202ms/step
Epoch 45/100
36/36 - 7s - loss: 0.3452 - accuracy: 0.8746 - val_loss: 0.5994 - val_accuracy: 0.8342 - lr: 0.0010 - 7s/epoch - 201ms/step
Epoch 46/100
36/36 - 7s - loss: 0.3474 - accuracy: 0.8748 - val_loss: 0.5740 - val_accuracy: 0.8393 - lr: 0.0010 - 7s/epoch - 202ms/step
Epoch 47/100
36/36 - 7s - loss: 0.3472 - accuracy: 0.8745 - val_loss: 0.6255 - val_accuracy: 0.8273 - lr: 0.0010 - 7s/epoch - 202ms/step
Epoch 48/100
36/36 - 7s - loss: 0.3471 - accuracy: 0.8742 - val_loss: 0.6243 - val_accuracy: 0.8277 - lr: 0.0010 - 7s/epoch - 201ms/step
Epoch 49/100
36/36 - 7s - loss: 0.3471 - accuracy: 0.8741 - val_loss: 0.5963 - val_accuracy: 0.8348 - lr: 0.0010 - 7s/epoch - 201ms/step
Epoch 50/100
36/36 - 7s - loss: 0.3464 - accuracy: 0.8749 - val_loss: 0.6008 - val_accuracy: 0.8341 - lr: 0.0010 - 7s/epoch - 201ms/step
Epoch 51/100
36/36 - 7s - loss: 0.3461 - accuracy: 0.8747 - val_loss: 0.5820 - val_accuracy: 0.8364 - lr: 0.0010 - 7s/epoch - 201ms/step
Epoch 52/100
36/36 - 7s - loss: 0.3471 - accuracy: 0.8738 - val_loss: 0.6101 - val_accuracy: 0.8332 - lr: 0.0010 - 7s/epoch - 201ms/step
Epoch 53/100
36/36 - 7s - loss: 0.3465 - accuracy: 0.8742 - val_loss: 0.6041 - val_accuracy: 0.8321 - lr: 0.0010 - 7s/epoch - 202ms/step
Epoch 54/100
36/36 - 7s - loss: 0.3462 - accuracy: 0.8746 - val_loss: 0.6181 - val_accuracy: 0.8298 - lr: 0.0010 - 7s/epoch - 201ms/step
Epoch 55/100
36/36 - 7s - loss: 0.3459 - accuracy: 0.8751 - val_loss: 0.6282 - val_accuracy: 0.8258 - lr: 0.0010 - 7s/epoch - 202ms/step
Epoch 56/100
36/36 - 7s - loss: 0.3478 - accuracy: 0.8737 - val_loss: 0.6263 - val_accuracy: 0.8256 - lr: 0.0010 - 7s/epoch - 201ms/step
Epoch 57/100
36/36 - 7s - loss: 0.3456 - accuracy: 0.8744 - val_loss: 0.6415 - val_accuracy: 0.8240 - lr: 0.0010 - 7s/epoch - 202ms/step
Epoch 58/100
36/36 - 7s - loss: 0.3472 - accuracy: 0.8746 - val_loss: 0.5915 - val_accuracy: 0.8368 - lr: 0.0010 - 7s/epoch - 202ms/step
Epoch 59/100
36/36 - 7s - loss: 0.3466 - accuracy: 0.8751 - val_loss: 0.5964 - val_accuracy: 0.8340 - lr: 0.0010 - 7s/epoch - 201ms/step
Epoch 60/100
36/36 - 7s - loss: 0.3476 - accuracy: 0.8731 - val_loss: 0.6144 - val_accuracy: 0.8303 - lr: 0.0010 - 7s/epoch - 201ms/step
Epoch 61/100
36/36 - 7s - loss: 0.3458 - accuracy: 0.8750 - val_loss: 0.6187 - val_accuracy: 0.8293 - lr: 0.0010 - 7s/epoch - 201ms/step
Epoch 62/100
36/36 - 7s - loss: 0.3465 - accuracy: 0.8747 - val_loss: 0.6190 - val_accuracy: 0.8292 - lr: 0.0010 - 7s/epoch - 202ms/step
Epoch 63/100
36/36 - 7s - loss: 0.3454 - accuracy: 0.8748 - val_loss: 0.5755 - val_accuracy: 0.8407 - lr: 0.0010 - 7s/epoch - 202ms/step
Epoch 64/100
36/36 - 7s - loss: 0.3472 - accuracy: 0.8747 - val_loss: 0.5798 - val_accuracy: 0.8395 - lr: 0.0010 - 7s/epoch - 201ms/step
Epoch 65/100
36/36 - 7s - loss: 0.3471 - accuracy: 0.8736 - val_loss: 0.6190 - val_accuracy: 0.8302 - lr: 0.0010 - 7s/epoch - 201ms/step
Epoch 66/100
36/36 - 7s - loss: 0.3458 - accuracy: 0.8748 - val_loss: 0.6183 - val_accuracy: 0.8298 - lr: 0.0010 - 7s/epoch - 201ms/step
Epoch 67/100
36/36 - 7s - loss: 0.3453 - accuracy: 0.8755 - val_loss: 0.5864 - val_accuracy: 0.8392 - lr: 0.0010 - 7s/epoch - 202ms/step
Epoch 68/100
36/36 - 7s - loss: 0.3449 - accuracy: 0.8752 - val_loss: 0.6047 - val_accuracy: 0.8355 - lr: 0.0010 - 7s/epoch - 201ms/step
Epoch 69/100
36/36 - 7s - loss: 0.3453 - accuracy: 0.8745 - val_loss: 0.6068 - val_accuracy: 0.8322 - lr: 0.0010 - 7s/epoch - 201ms/step
Epoch 70/100
36/36 - 7s - loss: 0.3461 - accuracy: 0.8748 - val_loss: 0.6190 - val_accuracy: 0.8290 - lr: 0.0010 - 7s/epoch - 202ms/step
Epoch 71/100
36/36 - 7s - loss: 0.3467 - accuracy: 0.8741 - val_loss: 0.6276 - val_accuracy: 0.8267 - lr: 0.0010 - 7s/epoch - 201ms/step
Epoch 72/100
36/36 - 7s - loss: 0.3461 - accuracy: 0.8742 - val_loss: 0.5873 - val_accuracy: 0.8378 - lr: 0.0010 - 7s/epoch - 201ms/step
Epoch 73/100
36/36 - 7s - loss: 0.3476 - accuracy: 0.8743 - val_loss: 0.6165 - val_accuracy: 0.8311 - lr: 0.0010 - 7s/epoch - 201ms/step
Epoch 74/100
36/36 - 7s - loss: 0.3441 - accuracy: 0.8762 - val_loss: 0.6156 - val_accuracy: 0.8303 - lr: 0.0010 - 7s/epoch - 202ms/step
Epoch 75/100
36/36 - 7s - loss: 0.3451 - accuracy: 0.8750 - val_loss: 0.5895 - val_accuracy: 0.8383 - lr: 0.0010 - 7s/epoch - 201ms/step
Epoch 76/100
36/36 - 7s - loss: 0.3521 - accuracy: 0.8721 - val_loss: 0.5760 - val_accuracy: 0.8435 - lr: 0.0010 - 7s/epoch - 202ms/step
Epoch 77/100
36/36 - 7s - loss: 0.3475 - accuracy: 0.8736 - val_loss: 0.5998 - val_accuracy: 0.8340 - lr: 0.0010 - 7s/epoch - 201ms/step
Epoch 78/100
36/36 - 7s - loss: 0.3464 - accuracy: 0.8744 - val_loss: 0.6283 - val_accuracy: 0.8258 - lr: 0.0010 - 7s/epoch - 201ms/step
Epoch 79/100
36/36 - 7s - loss: 0.3450 - accuracy: 0.8746 - val_loss: 0.5914 - val_accuracy: 0.8372 - lr: 0.0010 - 7s/epoch - 202ms/step
Epoch 80/100
36/36 - 7s - loss: 0.3461 - accuracy: 0.8742 - val_loss: 0.6181 - val_accuracy: 0.8293 - lr: 0.0010 - 7s/epoch - 201ms/step
Epoch 81/100
36/36 - 7s - loss: 0.3467 - accuracy: 0.8748 - val_loss: 0.5935 - val_accuracy: 0.8344 - lr: 0.0010 - 7s/epoch - 201ms/step
Epoch 82/100
36/36 - 7s - loss: 0.3452 - accuracy: 0.8749 - val_loss: 0.6129 - val_accuracy: 0.8327 - lr: 0.0010 - 7s/epoch - 201ms/step
Epoch 83/100
36/36 - 7s - loss: 0.3456 - accuracy: 0.8748 - val_loss: 0.6170 - val_accuracy: 0.8281 - lr: 0.0010 - 7s/epoch - 201ms/step
Epoch 84/100
36/36 - 7s - loss: 0.3469 - accuracy: 0.8745 - val_loss: 0.5939 - val_accuracy: 0.8370 - lr: 0.0010 - 7s/epoch - 201ms/step
Epoch 85/100
36/36 - 7s - loss: 0.3462 - accuracy: 0.8757 - val_loss: 0.6021 - val_accuracy: 0.8354 - lr: 0.0010 - 7s/epoch - 202ms/step
Epoch 86/100
36/36 - 7s - loss: 0.3467 - accuracy: 0.8740 - val_loss: 0.6191 - val_accuracy: 0.8309 - lr: 0.0010 - 7s/epoch - 201ms/step
Epoch 87/100
36/36 - 7s - loss: 0.3447 - accuracy: 0.8752 - val_loss: 0.6179 - val_accuracy: 0.8317 - lr: 0.0010 - 7s/epoch - 201ms/step
Epoch 88/100
36/36 - 7s - loss: 0.3467 - accuracy: 0.8749 - val_loss: 0.6120 - val_accuracy: 0.8318 - lr: 0.0010 - 7s/epoch - 201ms/step
Epoch 89/100
36/36 - 7s - loss: 0.3433 - accuracy: 0.8751 - val_loss: 0.6003 - val_accuracy: 0.8348 - lr: 0.0010 - 7s/epoch - 201ms/step
Epoch 90/100
36/36 - 7s - loss: 0.3469 - accuracy: 0.8738 - val_loss: 0.6192 - val_accuracy: 0.8287 - lr: 0.0010 - 7s/epoch - 202ms/step
Epoch 91/100
36/36 - 7s - loss: 0.3443 - accuracy: 0.8750 - val_loss: 0.6119 - val_accuracy: 0.8334 - lr: 0.0010 - 7s/epoch - 201ms/step
Epoch 92/100
36/36 - 7s - loss: 0.3481 - accuracy: 0.8737 - val_loss: 0.6498 - val_accuracy: 0.8223 - lr: 0.0010 - 7s/epoch - 201ms/step
Epoch 93/100
36/36 - 7s - loss: 0.3465 - accuracy: 0.8743 - val_loss: 0.6200 - val_accuracy: 0.8309 - lr: 0.0010 - 7s/epoch - 201ms/step
Epoch 94/100
36/36 - 7s - loss: 0.3436 - accuracy: 0.8764 - val_loss: 0.6118 - val_accuracy: 0.8311 - lr: 0.0010 - 7s/epoch - 201ms/step
Epoch 95/100
36/36 - 7s - loss: 0.3463 - accuracy: 0.8745 - val_loss: 0.5925 - val_accuracy: 0.8381 - lr: 0.0010 - 7s/epoch - 201ms/step
Epoch 96/100
36/36 - 7s - loss: 0.3446 - accuracy: 0.8750 - val_loss: 0.5947 - val_accuracy: 0.8369 - lr: 0.0010 - 7s/epoch - 202ms/step
Epoch 97/100
36/36 - 7s - loss: 0.3468 - accuracy: 0.8738 - val_loss: 0.6186 - val_accuracy: 0.8305 - lr: 0.0010 - 7s/epoch - 201ms/step
Epoch 98/100
36/36 - 7s - loss: 0.3456 - accuracy: 0.8748 - val_loss: 0.6133 - val_accuracy: 0.8324 - lr: 0.0010 - 7s/epoch - 202ms/step
Epoch 99/100
36/36 - 7s - loss: 0.3441 - accuracy: 0.8751 - val_loss: 0.6128 - val_accuracy: 0.8318 - lr: 0.0010 - 7s/epoch - 201ms/step
Epoch 100/100
36/36 - 7s - loss: 0.3463 - accuracy: 0.8746 - val_loss: 0.5969 - val_accuracy: 0.8361 - lr: 0.0010 - 7s/epoch - 201ms/step
Loss: poisson
Epoch number: 75
fitting with batch size: 20
Epoch 1/75
4378/4378 - 72s - loss: 0.2793 - accuracy: 0.8535 - val_loss: 0.3215 - val_accuracy: 0.8333 - lr: 0.0010 - 72s/epoch - 16ms/step
Epoch 2/75
4378/4378 - 70s - loss: 0.2794 - accuracy: 0.8533 - val_loss: 0.3270 - val_accuracy: 0.8282 - lr: 0.0010 - 70s/epoch - 16ms/step
Epoch 3/75
4378/4378 - 70s - loss: 0.2791 - accuracy: 0.8533 - val_loss: 0.3137 - val_accuracy: 0.8467 - lr: 0.0010 - 70s/epoch - 16ms/step
Epoch 4/75
4378/4378 - 70s - loss: 0.2793 - accuracy: 0.8537 - val_loss: 0.3205 - val_accuracy: 0.8355 - lr: 0.0010 - 70s/epoch - 16ms/step
Epoch 5/75
4378/4378 - 70s - loss: 0.2788 - accuracy: 0.8533 - val_loss: 0.3215 - val_accuracy: 0.8346 - lr: 0.0010 - 70s/epoch - 16ms/step
Epoch 6/75
4378/4378 - 71s - loss: 0.2785 - accuracy: 0.8542 - val_loss: 0.3192 - val_accuracy: 0.8341 - lr: 0.0010 - 71s/epoch - 16ms/step
Epoch 7/75
4378/4378 - 70s - loss: 0.2789 - accuracy: 0.8537 - val_loss: 0.3267 - val_accuracy: 0.8246 - lr: 0.0010 - 70s/epoch - 16ms/step
Epoch 8/75
4378/4378 - 70s - loss: 0.2784 - accuracy: 0.8565 - val_loss: 0.3237 - val_accuracy: 0.8277 - lr: 0.0010 - 70s/epoch - 16ms/step
Epoch 9/75
4378/4378 - 71s - loss: 0.2788 - accuracy: 0.8545 - val_loss: 0.3128 - val_accuracy: 0.8454 - lr: 0.0010 - 71s/epoch - 16ms/step
Epoch 10/75
4378/4378 - 70s - loss: 0.2780 - accuracy: 0.8553 - val_loss: 0.3219 - val_accuracy: 0.8319 - lr: 0.0010 - 70s/epoch - 16ms/step
Epoch 11/75
4378/4378 - 70s - loss: 0.2779 - accuracy: 0.8563 - val_loss: 0.3157 - val_accuracy: 0.8401 - lr: 0.0010 - 70s/epoch - 16ms/step
Epoch 12/75
4378/4378 - 71s - loss: 0.2784 - accuracy: 0.8554 - val_loss: 0.3248 - val_accuracy: 0.8254 - lr: 0.0010 - 71s/epoch - 16ms/step
Epoch 13/75
4378/4378 - 76s - loss: 0.2774 - accuracy: 0.8574 - val_loss: 0.3306 - val_accuracy: 0.8248 - lr: 0.0010 - 76s/epoch - 17ms/step
Epoch 14/75
4378/4378 - 77s - loss: 0.2784 - accuracy: 0.8549 - val_loss: 0.3189 - val_accuracy: 0.8368 - lr: 0.0010 - 77s/epoch - 18ms/step
Epoch 15/75
4378/4378 - 71s - loss: 0.2777 - accuracy: 0.8557 - val_loss: 0.3213 - val_accuracy: 0.8344 - lr: 0.0010 - 71s/epoch - 16ms/step
Epoch 16/75
4378/4378 - 74s - loss: 0.2777 - accuracy: 0.8562 - val_loss: 0.3186 - val_accuracy: 0.8391 - lr: 0.0010 - 74s/epoch - 17ms/step
Epoch 17/75
4378/4378 - 83s - loss: 0.2777 - accuracy: 0.8564 - val_loss: 0.3173 - val_accuracy: 0.8364 - lr: 0.0010 - 83s/epoch - 19ms/step
Epoch 18/75
4378/4378 - 88s - loss: 0.2780 - accuracy: 0.8555 - val_loss: 0.3123 - val_accuracy: 0.8479 - lr: 0.0010 - 88s/epoch - 20ms/step
Epoch 19/75
4378/4378 - 89s - loss: 0.2776 - accuracy: 0.8564 - val_loss: 0.3211 - val_accuracy: 0.8378 - lr: 0.0010 - 89s/epoch - 20ms/step
Epoch 20/75
4378/4378 - 86s - loss: 0.2781 - accuracy: 0.8562 - val_loss: 0.3214 - val_accuracy: 0.8352 - lr: 0.0010 - 86s/epoch - 20ms/step
Epoch 21/75
4378/4378 - 81s - loss: 0.2779 - accuracy: 0.8565 - val_loss: 0.3118 - val_accuracy: 0.8454 - lr: 0.0010 - 81s/epoch - 19ms/step
Epoch 22/75
4378/4378 - 78s - loss: 0.2772 - accuracy: 0.8564 - val_loss: 0.3155 - val_accuracy: 0.8400 - lr: 0.0010 - 78s/epoch - 18ms/step
Epoch 23/75
4378/4378 - 86s - loss: 0.2772 - accuracy: 0.8589 - val_loss: 0.3170 - val_accuracy: 0.8364 - lr: 0.0010 - 86s/epoch - 20ms/step
Epoch 24/75
4378/4378 - 83s - loss: 0.2773 - accuracy: 0.8589 - val_loss: 0.3190 - val_accuracy: 0.8306 - lr: 0.0010 - 83s/epoch - 19ms/step
Epoch 25/75
4378/4378 - 81s - loss: 0.2772 - accuracy: 0.8580 - val_loss: 0.3243 - val_accuracy: 0.8325 - lr: 0.0010 - 81s/epoch - 19ms/step
Epoch 26/75
4378/4378 - 85s - loss: 0.2770 - accuracy: 0.8574 - val_loss: 0.3195 - val_accuracy: 0.8378 - lr: 0.0010 - 85s/epoch - 19ms/step
Epoch 27/75
4378/4378 - 80s - loss: 0.2777 - accuracy: 0.8557 - val_loss: 0.3249 - val_accuracy: 0.8317 - lr: 0.0010 - 80s/epoch - 18ms/step
Epoch 28/75
4378/4378 - 81s - loss: 0.2771 - accuracy: 0.8568 - val_loss: 0.3251 - val_accuracy: 0.8211 - lr: 0.0010 - 81s/epoch - 18ms/step
Epoch 29/75
4378/4378 - 78s - loss: 0.2773 - accuracy: 0.8576 - val_loss: 0.3163 - val_accuracy: 0.8395 - lr: 0.0010 - 78s/epoch - 18ms/step
Epoch 30/75
4378/4378 - 85s - loss: 0.2771 - accuracy: 0.8582 - val_loss: 0.3225 - val_accuracy: 0.8325 - lr: 0.0010 - 85s/epoch - 19ms/step
Epoch 31/75
4378/4378 - 78s - loss: 0.2768 - accuracy: 0.8573 - val_loss: 0.3235 - val_accuracy: 0.8293 - lr: 0.0010 - 78s/epoch - 18ms/step
Epoch 32/75
4378/4378 - 79s - loss: 0.2773 - accuracy: 0.8574 - val_loss: 0.3140 - val_accuracy: 0.8441 - lr: 0.0010 - 79s/epoch - 18ms/step
Epoch 33/75
4378/4378 - 80s - loss: 0.2764 - accuracy: 0.8584 - val_loss: 0.3091 - val_accuracy: 0.8491 - lr: 0.0010 - 80s/epoch - 18ms/step
Epoch 34/75
4378/4378 - 82s - loss: 0.2767 - accuracy: 0.8582 - val_loss: 0.3220 - val_accuracy: 0.8313 - lr: 0.0010 - 82s/epoch - 19ms/step
Epoch 35/75
4378/4378 - 82s - loss: 0.2763 - accuracy: 0.8593 - val_loss: 0.3204 - val_accuracy: 0.8312 - lr: 0.0010 - 82s/epoch - 19ms/step
Epoch 36/75
4378/4378 - 83s - loss: 0.2767 - accuracy: 0.8591 - val_loss: 0.3189 - val_accuracy: 0.8406 - lr: 0.0010 - 83s/epoch - 19ms/step
Epoch 37/75
4378/4378 - 82s - loss: 0.2774 - accuracy: 0.8570 - val_loss: 0.3220 - val_accuracy: 0.8273 - lr: 0.0010 - 82s/epoch - 19ms/step
Epoch 38/75
4378/4378 - 83s - loss: 0.2761 - accuracy: 0.8594 - val_loss: 0.3200 - val_accuracy: 0.8384 - lr: 0.0010 - 83s/epoch - 19ms/step
Epoch 39/75
4378/4378 - 83s - loss: 0.2768 - accuracy: 0.8575 - val_loss: 0.3276 - val_accuracy: 0.8267 - lr: 0.0010 - 83s/epoch - 19ms/step
Epoch 40/75
4378/4378 - 82s - loss: 0.2765 - accuracy: 0.8585 - val_loss: 0.3261 - val_accuracy: 0.8228 - lr: 0.0010 - 82s/epoch - 19ms/step
Epoch 41/75
4378/4378 - 79s - loss: 0.2767 - accuracy: 0.8584 - val_loss: 0.3179 - val_accuracy: 0.8367 - lr: 0.0010 - 79s/epoch - 18ms/step
Epoch 42/75
4378/4378 - 79s - loss: 0.2768 - accuracy: 0.8585 - val_loss: 0.3181 - val_accuracy: 0.8375 - lr: 0.0010 - 79s/epoch - 18ms/step
Epoch 43/75
4378/4378 - 85s - loss: 0.2760 - accuracy: 0.8602 - val_loss: 0.3180 - val_accuracy: 0.8378 - lr: 0.0010 - 85s/epoch - 19ms/step
Epoch 44/75
4378/4378 - 81s - loss: 0.2764 - accuracy: 0.8585 - val_loss: 0.3233 - val_accuracy: 0.8321 - lr: 0.0010 - 81s/epoch - 18ms/step
Epoch 45/75
4378/4378 - 79s - loss: 0.2768 - accuracy: 0.8579 - val_loss: 0.3225 - val_accuracy: 0.8286 - lr: 0.0010 - 79s/epoch - 18ms/step
Epoch 46/75
4378/4378 - 72s - loss: 0.2767 - accuracy: 0.8581 - val_loss: 0.3161 - val_accuracy: 0.8380 - lr: 0.0010 - 72s/epoch - 16ms/step
Epoch 47/75
4378/4378 - 70s - loss: 0.2772 - accuracy: 0.8568 - val_loss: 0.3217 - val_accuracy: 0.8329 - lr: 0.0010 - 70s/epoch - 16ms/step
Epoch 48/75
4378/4378 - 70s - loss: 0.2764 - accuracy: 0.8590 - val_loss: 0.3180 - val_accuracy: 0.8382 - lr: 0.0010 - 70s/epoch - 16ms/step
Epoch 49/75
4378/4378 - 70s - loss: 0.2764 - accuracy: 0.8592 - val_loss: 0.3316 - val_accuracy: 0.8231 - lr: 0.0010 - 70s/epoch - 16ms/step
Epoch 50/75
4378/4378 - 77s - loss: 0.2764 - accuracy: 0.8589 - val_loss: 0.3157 - val_accuracy: 0.8391 - lr: 0.0010 - 77s/epoch - 18ms/step
Epoch 51/75
4378/4378 - 70s - loss: 0.2760 - accuracy: 0.8606 - val_loss: 0.3188 - val_accuracy: 0.8322 - lr: 0.0010 - 70s/epoch - 16ms/step
Epoch 52/75
4378/4378 - 71s - loss: 0.2757 - accuracy: 0.8612 - val_loss: 0.3163 - val_accuracy: 0.8389 - lr: 0.0010 - 71s/epoch - 16ms/step
Epoch 53/75
4378/4378 - 70s - loss: 0.2755 - accuracy: 0.8612 - val_loss: 0.3221 - val_accuracy: 0.8314 - lr: 0.0010 - 70s/epoch - 16ms/step
Epoch 54/75
4378/4378 - 68s - loss: 0.2763 - accuracy: 0.8581 - val_loss: 0.3154 - val_accuracy: 0.8377 - lr: 0.0010 - 68s/epoch - 15ms/step
Epoch 55/75
4378/4378 - 65s - loss: 0.2768 - accuracy: 0.8585 - val_loss: 0.3252 - val_accuracy: 0.8303 - lr: 0.0010 - 65s/epoch - 15ms/step
Epoch 56/75
4378/4378 - 66s - loss: 0.2765 - accuracy: 0.8584 - val_loss: 0.3240 - val_accuracy: 0.8232 - lr: 0.0010 - 66s/epoch - 15ms/step
Epoch 57/75
4378/4378 - 67s - loss: 0.2762 - accuracy: 0.8590 - val_loss: 0.3234 - val_accuracy: 0.8272 - lr: 0.0010 - 67s/epoch - 15ms/step
Epoch 58/75
4378/4378 - 66s - loss: 0.2763 - accuracy: 0.8588 - val_loss: 0.3232 - val_accuracy: 0.8353 - lr: 0.0010 - 66s/epoch - 15ms/step
Epoch 59/75
4378/4378 - 65s - loss: 0.2755 - accuracy: 0.8609 - val_loss: 0.3211 - val_accuracy: 0.8339 - lr: 0.0010 - 65s/epoch - 15ms/step
Epoch 60/75
4378/4378 - 77s - loss: 0.2759 - accuracy: 0.8589 - val_loss: 0.3131 - val_accuracy: 0.8416 - lr: 0.0010 - 77s/epoch - 18ms/step
Epoch 61/75
4378/4378 - 72s - loss: 0.2762 - accuracy: 0.8587 - val_loss: 0.3194 - val_accuracy: 0.8377 - lr: 0.0010 - 72s/epoch - 17ms/step
Epoch 62/75
4378/4378 - 65s - loss: 0.2759 - accuracy: 0.8601 - val_loss: 0.3141 - val_accuracy: 0.8432 - lr: 0.0010 - 65s/epoch - 15ms/step
Epoch 63/75
4378/4378 - 70s - loss: 0.2761 - accuracy: 0.8583 - val_loss: 0.3166 - val_accuracy: 0.8393 - lr: 0.0010 - 70s/epoch - 16ms/step
Epoch 64/75
4378/4378 - 65s - loss: 0.2761 - accuracy: 0.8599 - val_loss: 0.3217 - val_accuracy: 0.8302 - lr: 0.0010 - 65s/epoch - 15ms/step
Epoch 65/75
4378/4378 - 65s - loss: 0.2761 - accuracy: 0.8593 - val_loss: 0.3195 - val_accuracy: 0.8363 - lr: 0.0010 - 65s/epoch - 15ms/step
Epoch 66/75
4378/4378 - 65s - loss: 0.2764 - accuracy: 0.8584 - val_loss: 0.3199 - val_accuracy: 0.8331 - lr: 0.0010 - 65s/epoch - 15ms/step
Epoch 67/75
4378/4378 - 65s - loss: 0.2764 - accuracy: 0.8590 - val_loss: 0.3155 - val_accuracy: 0.8411 - lr: 0.0010 - 65s/epoch - 15ms/step
Epoch 68/75
4378/4378 - 65s - loss: 0.2763 - accuracy: 0.8595 - val_loss: 0.3146 - val_accuracy: 0.8407 - lr: 0.0010 - 65s/epoch - 15ms/step
Epoch 69/75
4378/4378 - 64s - loss: 0.2763 - accuracy: 0.8595 - val_loss: 0.3236 - val_accuracy: 0.8304 - lr: 0.0010 - 64s/epoch - 15ms/step
Epoch 70/75
4378/4378 - 66s - loss: 0.2754 - accuracy: 0.8603 - val_loss: 0.3280 - val_accuracy: 0.8206 - lr: 0.0010 - 66s/epoch - 15ms/step
Epoch 71/75
4378/4378 - 65s - loss: 0.2761 - accuracy: 0.8600 - val_loss: 0.3150 - val_accuracy: 0.8425 - lr: 0.0010 - 65s/epoch - 15ms/step
Epoch 72/75
4378/4378 - 65s - loss: 0.2756 - accuracy: 0.8610 - val_loss: 0.3155 - val_accuracy: 0.8431 - lr: 0.0010 - 65s/epoch - 15ms/step
Epoch 73/75
4378/4378 - 66s - loss: 0.2759 - accuracy: 0.8595 - val_loss: 0.3227 - val_accuracy: 0.8301 - lr: 0.0010 - 66s/epoch - 15ms/step
Epoch 74/75
4378/4378 - 65s - loss: 0.2757 - accuracy: 0.8595 - val_loss: 0.3184 - val_accuracy: 0.8396 - lr: 0.0010 - 65s/epoch - 15ms/step
Epoch 75/75
4378/4378 - 66s - loss: 0.2754 - accuracy: 0.8609 - val_loss: 0.3225 - val_accuracy: 0.8297 - lr: 0.0010 - 66s/epoch - 15ms/step
fitting with batch size: 100
Epoch 1/75
876/876 - 19s - loss: 0.2698 - accuracy: 0.8728 - val_loss: 0.3209 - val_accuracy: 0.8323 - lr: 0.0010 - 19s/epoch - 21ms/step
Epoch 2/75
876/876 - 16s - loss: 0.2691 - accuracy: 0.8748 - val_loss: 0.3230 - val_accuracy: 0.8317 - lr: 0.0010 - 16s/epoch - 19ms/step
Epoch 3/75
876/876 - 16s - loss: 0.2688 - accuracy: 0.8748 - val_loss: 0.3216 - val_accuracy: 0.8344 - lr: 0.0010 - 16s/epoch - 19ms/step
Epoch 4/75
876/876 - 16s - loss: 0.2685 - accuracy: 0.8761 - val_loss: 0.3210 - val_accuracy: 0.8340 - lr: 0.0010 - 16s/epoch - 19ms/step
Epoch 5/75
876/876 - 16s - loss: 0.2685 - accuracy: 0.8762 - val_loss: 0.3182 - val_accuracy: 0.8359 - lr: 0.0010 - 16s/epoch - 19ms/step
Epoch 6/75
876/876 - 16s - loss: 0.2683 - accuracy: 0.8754 - val_loss: 0.3198 - val_accuracy: 0.8353 - lr: 0.0010 - 16s/epoch - 19ms/step
Epoch 7/75
876/876 - 16s - loss: 0.2685 - accuracy: 0.8753 - val_loss: 0.3205 - val_accuracy: 0.8356 - lr: 0.0010 - 16s/epoch - 19ms/step
Epoch 8/75
876/876 - 17s - loss: 0.2680 - accuracy: 0.8762 - val_loss: 0.3178 - val_accuracy: 0.8386 - lr: 0.0010 - 17s/epoch - 19ms/step
Epoch 9/75
876/876 - 17s - loss: 0.2682 - accuracy: 0.8759 - val_loss: 0.3216 - val_accuracy: 0.8335 - lr: 0.0010 - 17s/epoch - 19ms/step
Epoch 10/75
876/876 - 16s - loss: 0.2682 - accuracy: 0.8753 - val_loss: 0.3232 - val_accuracy: 0.8304 - lr: 0.0010 - 16s/epoch - 19ms/step
Epoch 11/75
876/876 - 16s - loss: 0.2679 - accuracy: 0.8770 - val_loss: 0.3211 - val_accuracy: 0.8346 - lr: 0.0010 - 16s/epoch - 19ms/step
Epoch 12/75
876/876 - 16s - loss: 0.2678 - accuracy: 0.8767 - val_loss: 0.3233 - val_accuracy: 0.8315 - lr: 0.0010 - 16s/epoch - 19ms/step
Epoch 13/75
876/876 - 16s - loss: 0.2680 - accuracy: 0.8765 - val_loss: 0.3212 - val_accuracy: 0.8333 - lr: 0.0010 - 16s/epoch - 19ms/step
Epoch 14/75
876/876 - 16s - loss: 0.2680 - accuracy: 0.8768 - val_loss: 0.3225 - val_accuracy: 0.8327 - lr: 0.0010 - 16s/epoch - 19ms/step
Epoch 15/75
876/876 - 16s - loss: 0.2677 - accuracy: 0.8767 - val_loss: 0.3200 - val_accuracy: 0.8356 - lr: 0.0010 - 16s/epoch - 19ms/step
Epoch 16/75
876/876 - 16s - loss: 0.2676 - accuracy: 0.8774 - val_loss: 0.3187 - val_accuracy: 0.8384 - lr: 0.0010 - 16s/epoch - 19ms/step
Epoch 17/75
876/876 - 16s - loss: 0.2681 - accuracy: 0.8765 - val_loss: 0.3230 - val_accuracy: 0.8331 - lr: 0.0010 - 16s/epoch - 19ms/step
Epoch 18/75
876/876 - 16s - loss: 0.2676 - accuracy: 0.8764 - val_loss: 0.3216 - val_accuracy: 0.8337 - lr: 0.0010 - 16s/epoch - 19ms/step
Epoch 19/75
876/876 - 16s - loss: 0.2677 - accuracy: 0.8771 - val_loss: 0.3209 - val_accuracy: 0.8359 - lr: 0.0010 - 16s/epoch - 19ms/step
Epoch 20/75
876/876 - 17s - loss: 0.2675 - accuracy: 0.8767 - val_loss: 0.3226 - val_accuracy: 0.8337 - lr: 0.0010 - 17s/epoch - 19ms/step
Epoch 21/75
876/876 - 17s - loss: 0.2678 - accuracy: 0.8771 - val_loss: 0.3226 - val_accuracy: 0.8337 - lr: 0.0010 - 17s/epoch - 19ms/step
Epoch 22/75
876/876 - 16s - loss: 0.2675 - accuracy: 0.8778 - val_loss: 0.3233 - val_accuracy: 0.8320 - lr: 0.0010 - 16s/epoch - 19ms/step
Epoch 23/75
876/876 - 17s - loss: 0.2673 - accuracy: 0.8782 - val_loss: 0.3225 - val_accuracy: 0.8342 - lr: 0.0010 - 17s/epoch - 19ms/step
Epoch 24/75
876/876 - 16s - loss: 0.2677 - accuracy: 0.8761 - val_loss: 0.3217 - val_accuracy: 0.8347 - lr: 0.0010 - 16s/epoch - 19ms/step
Epoch 25/75
876/876 - 16s - loss: 0.2674 - accuracy: 0.8776 - val_loss: 0.3235 - val_accuracy: 0.8322 - lr: 0.0010 - 16s/epoch - 19ms/step
Epoch 26/75
876/876 - 16s - loss: 0.2677 - accuracy: 0.8769 - val_loss: 0.3230 - val_accuracy: 0.8337 - lr: 0.0010 - 16s/epoch - 19ms/step
Epoch 27/75
876/876 - 16s - loss: 0.2671 - accuracy: 0.8781 - val_loss: 0.3205 - val_accuracy: 0.8366 - lr: 0.0010 - 16s/epoch - 19ms/step
Epoch 28/75
876/876 - 16s - loss: 0.2670 - accuracy: 0.8791 - val_loss: 0.3227 - val_accuracy: 0.8351 - lr: 0.0010 - 16s/epoch - 19ms/step
Epoch 29/75
876/876 - 16s - loss: 0.2673 - accuracy: 0.8780 - val_loss: 0.3253 - val_accuracy: 0.8309 - lr: 0.0010 - 16s/epoch - 19ms/step
Epoch 30/75
876/876 - 17s - loss: 0.2670 - accuracy: 0.8787 - val_loss: 0.3251 - val_accuracy: 0.8299 - lr: 0.0010 - 17s/epoch - 19ms/step
Epoch 31/75
876/876 - 16s - loss: 0.2672 - accuracy: 0.8780 - val_loss: 0.3221 - val_accuracy: 0.8351 - lr: 0.0010 - 16s/epoch - 19ms/step
Epoch 32/75
876/876 - 16s - loss: 0.2675 - accuracy: 0.8774 - val_loss: 0.3234 - val_accuracy: 0.8328 - lr: 0.0010 - 16s/epoch - 19ms/step
Epoch 33/75
876/876 - 16s - loss: 0.2678 - accuracy: 0.8775 - val_loss: 0.3215 - val_accuracy: 0.8344 - lr: 0.0010 - 16s/epoch - 19ms/step
Epoch 34/75
876/876 - 16s - loss: 0.2672 - accuracy: 0.8776 - val_loss: 0.3209 - val_accuracy: 0.8363 - lr: 0.0010 - 16s/epoch - 19ms/step
Epoch 35/75
876/876 - 16s - loss: 0.2675 - accuracy: 0.8776 - val_loss: 0.3233 - val_accuracy: 0.8339 - lr: 0.0010 - 16s/epoch - 19ms/step
Epoch 36/75
876/876 - 16s - loss: 0.2673 - accuracy: 0.8776 - val_loss: 0.3254 - val_accuracy: 0.8304 - lr: 0.0010 - 16s/epoch - 19ms/step
Epoch 37/75
876/876 - 16s - loss: 0.2669 - accuracy: 0.8780 - val_loss: 0.3217 - val_accuracy: 0.8354 - lr: 0.0010 - 16s/epoch - 19ms/step
Epoch 38/75
876/876 - 16s - loss: 0.2671 - accuracy: 0.8781 - val_loss: 0.3256 - val_accuracy: 0.8313 - lr: 0.0010 - 16s/epoch - 19ms/step
Epoch 39/75
876/876 - 16s - loss: 0.2672 - accuracy: 0.8779 - val_loss: 0.3243 - val_accuracy: 0.8314 - lr: 0.0010 - 16s/epoch - 19ms/step
Epoch 40/75
876/876 - 16s - loss: 0.2672 - accuracy: 0.8781 - val_loss: 0.3193 - val_accuracy: 0.8389 - lr: 0.0010 - 16s/epoch - 19ms/step
Epoch 41/75
876/876 - 16s - loss: 0.2672 - accuracy: 0.8792 - val_loss: 0.3228 - val_accuracy: 0.8342 - lr: 0.0010 - 16s/epoch - 19ms/step
Epoch 42/75
876/876 - 16s - loss: 0.2672 - accuracy: 0.8781 - val_loss: 0.3232 - val_accuracy: 0.8343 - lr: 0.0010 - 16s/epoch - 19ms/step
Epoch 43/75
876/876 - 16s - loss: 0.2669 - accuracy: 0.8790 - val_loss: 0.3225 - val_accuracy: 0.8334 - lr: 0.0010 - 16s/epoch - 19ms/step
Epoch 44/75
876/876 - 16s - loss: 0.2671 - accuracy: 0.8784 - val_loss: 0.3234 - val_accuracy: 0.8342 - lr: 0.0010 - 16s/epoch - 19ms/step
Epoch 45/75
876/876 - 16s - loss: 0.2671 - accuracy: 0.8777 - val_loss: 0.3220 - val_accuracy: 0.8340 - lr: 0.0010 - 16s/epoch - 19ms/step
Epoch 46/75
876/876 - 16s - loss: 0.2667 - accuracy: 0.8784 - val_loss: 0.3212 - val_accuracy: 0.8364 - lr: 0.0010 - 16s/epoch - 19ms/step
Epoch 47/75
876/876 - 16s - loss: 0.2669 - accuracy: 0.8781 - val_loss: 0.3238 - val_accuracy: 0.8325 - lr: 0.0010 - 16s/epoch - 19ms/step
Epoch 48/75
876/876 - 16s - loss: 0.2669 - accuracy: 0.8783 - val_loss: 0.3216 - val_accuracy: 0.8359 - lr: 0.0010 - 16s/epoch - 19ms/step
Epoch 49/75
876/876 - 16s - loss: 0.2667 - accuracy: 0.8788 - val_loss: 0.3234 - val_accuracy: 0.8336 - lr: 0.0010 - 16s/epoch - 19ms/step
Epoch 50/75
876/876 - 16s - loss: 0.2664 - accuracy: 0.8790 - val_loss: 0.3215 - val_accuracy: 0.8363 - lr: 0.0010 - 16s/epoch - 19ms/step
Epoch 51/75
876/876 - 16s - loss: 0.2665 - accuracy: 0.8793 - val_loss: 0.3242 - val_accuracy: 0.8330 - lr: 0.0010 - 16s/epoch - 19ms/step
Epoch 52/75
876/876 - 16s - loss: 0.2663 - accuracy: 0.8798 - val_loss: 0.3229 - val_accuracy: 0.8365 - lr: 0.0010 - 16s/epoch - 19ms/step
Epoch 53/75
876/876 - 16s - loss: 0.2667 - accuracy: 0.8792 - val_loss: 0.3232 - val_accuracy: 0.8348 - lr: 0.0010 - 16s/epoch - 19ms/step
Epoch 54/75
876/876 - 16s - loss: 0.2668 - accuracy: 0.8787 - val_loss: 0.3231 - val_accuracy: 0.8333 - lr: 0.0010 - 16s/epoch - 19ms/step
Epoch 55/75
876/876 - 16s - loss: 0.2669 - accuracy: 0.8783 - val_loss: 0.3255 - val_accuracy: 0.8309 - lr: 0.0010 - 16s/epoch - 19ms/step
Epoch 56/75
876/876 - 16s - loss: 0.2667 - accuracy: 0.8787 - val_loss: 0.3245 - val_accuracy: 0.8308 - lr: 0.0010 - 16s/epoch - 19ms/step
Epoch 57/75
876/876 - 16s - loss: 0.2663 - accuracy: 0.8796 - val_loss: 0.3226 - val_accuracy: 0.8365 - lr: 0.0010 - 16s/epoch - 19ms/step
Epoch 58/75
876/876 - 16s - loss: 0.2664 - accuracy: 0.8795 - val_loss: 0.3235 - val_accuracy: 0.8337 - lr: 0.0010 - 16s/epoch - 19ms/step
Epoch 59/75
876/876 - 16s - loss: 0.2669 - accuracy: 0.8788 - val_loss: 0.3237 - val_accuracy: 0.8322 - lr: 0.0010 - 16s/epoch - 19ms/step
Epoch 60/75
876/876 - 16s - loss: 0.2667 - accuracy: 0.8795 - val_loss: 0.3244 - val_accuracy: 0.8318 - lr: 0.0010 - 16s/epoch - 19ms/step
Epoch 61/75
876/876 - 16s - loss: 0.2660 - accuracy: 0.8799 - val_loss: 0.3200 - val_accuracy: 0.8364 - lr: 0.0010 - 16s/epoch - 19ms/step
Epoch 62/75
876/876 - 16s - loss: 0.2661 - accuracy: 0.8796 - val_loss: 0.3246 - val_accuracy: 0.8318 - lr: 0.0010 - 16s/epoch - 19ms/step
Epoch 63/75
876/876 - 16s - loss: 0.2663 - accuracy: 0.8797 - val_loss: 0.3240 - val_accuracy: 0.8318 - lr: 0.0010 - 16s/epoch - 19ms/step
Epoch 64/75
876/876 - 16s - loss: 0.2667 - accuracy: 0.8786 - val_loss: 0.3253 - val_accuracy: 0.8323 - lr: 0.0010 - 16s/epoch - 19ms/step
Epoch 65/75
876/876 - 16s - loss: 0.2664 - accuracy: 0.8801 - val_loss: 0.3229 - val_accuracy: 0.8334 - lr: 0.0010 - 16s/epoch - 19ms/step
Epoch 66/75
876/876 - 16s - loss: 0.2664 - accuracy: 0.8788 - val_loss: 0.3241 - val_accuracy: 0.8331 - lr: 0.0010 - 16s/epoch - 19ms/step
Epoch 67/75
876/876 - 16s - loss: 0.2662 - accuracy: 0.8793 - val_loss: 0.3229 - val_accuracy: 0.8340 - lr: 0.0010 - 16s/epoch - 19ms/step
Epoch 68/75
876/876 - 16s - loss: 0.2667 - accuracy: 0.8787 - val_loss: 0.3244 - val_accuracy: 0.8325 - lr: 0.0010 - 16s/epoch - 19ms/step
Epoch 69/75
876/876 - 16s - loss: 0.2665 - accuracy: 0.8793 - val_loss: 0.3260 - val_accuracy: 0.8299 - lr: 0.0010 - 16s/epoch - 19ms/step
Epoch 70/75
876/876 - 16s - loss: 0.2666 - accuracy: 0.8776 - val_loss: 0.3244 - val_accuracy: 0.8326 - lr: 0.0010 - 16s/epoch - 19ms/step
Epoch 71/75
876/876 - 16s - loss: 0.2665 - accuracy: 0.8789 - val_loss: 0.3240 - val_accuracy: 0.8332 - lr: 0.0010 - 16s/epoch - 19ms/step
Epoch 72/75
876/876 - 16s - loss: 0.2665 - accuracy: 0.8795 - val_loss: 0.3255 - val_accuracy: 0.8305 - lr: 0.0010 - 16s/epoch - 19ms/step
Epoch 73/75
876/876 - 16s - loss: 0.2663 - accuracy: 0.8796 - val_loss: 0.3257 - val_accuracy: 0.8304 - lr: 0.0010 - 16s/epoch - 19ms/step
Epoch 74/75
876/876 - 16s - loss: 0.2659 - accuracy: 0.8810 - val_loss: 0.3241 - val_accuracy: 0.8337 - lr: 0.0010 - 16s/epoch - 19ms/step
Epoch 75/75
876/876 - 16s - loss: 0.2667 - accuracy: 0.8785 - val_loss: 0.3244 - val_accuracy: 0.8322 - lr: 0.0010 - 16s/epoch - 19ms/step
fitting with batch size: 500
Epoch 1/75
176/176 - 11s - loss: 0.2654 - accuracy: 0.8816 - val_loss: 0.3245 - val_accuracy: 0.8325 - lr: 0.0010 - 11s/epoch - 60ms/step
Epoch 2/75
176/176 - 8s - loss: 0.2657 - accuracy: 0.8809 - val_loss: 0.3240 - val_accuracy: 0.8332 - lr: 0.0010 - 8s/epoch - 48ms/step
Epoch 3/75
176/176 - 8s - loss: 0.2656 - accuracy: 0.8809 - val_loss: 0.3241 - val_accuracy: 0.8332 - lr: 0.0010 - 8s/epoch - 48ms/step
Epoch 4/75
176/176 - 8s - loss: 0.2656 - accuracy: 0.8804 - val_loss: 0.3233 - val_accuracy: 0.8339 - lr: 0.0010 - 8s/epoch - 48ms/step
Epoch 5/75
176/176 - 8s - loss: 0.2653 - accuracy: 0.8818 - val_loss: 0.3236 - val_accuracy: 0.8335 - lr: 0.0010 - 8s/epoch - 48ms/step
Epoch 6/75
176/176 - 8s - loss: 0.2658 - accuracy: 0.8809 - val_loss: 0.3246 - val_accuracy: 0.8320 - lr: 0.0010 - 8s/epoch - 48ms/step
Epoch 7/75
176/176 - 8s - loss: 0.2650 - accuracy: 0.8819 - val_loss: 0.3246 - val_accuracy: 0.8319 - lr: 0.0010 - 8s/epoch - 48ms/step
Epoch 8/75
176/176 - 8s - loss: 0.2659 - accuracy: 0.8805 - val_loss: 0.3251 - val_accuracy: 0.8314 - lr: 0.0010 - 8s/epoch - 48ms/step
Epoch 9/75
176/176 - 8s - loss: 0.2655 - accuracy: 0.8820 - val_loss: 0.3245 - val_accuracy: 0.8331 - lr: 0.0010 - 8s/epoch - 48ms/step
Epoch 10/75
176/176 - 8s - loss: 0.2654 - accuracy: 0.8813 - val_loss: 0.3268 - val_accuracy: 0.8296 - lr: 0.0010 - 8s/epoch - 48ms/step
Epoch 11/75
176/176 - 8s - loss: 0.2653 - accuracy: 0.8828 - val_loss: 0.3248 - val_accuracy: 0.8318 - lr: 0.0010 - 8s/epoch - 48ms/step
Epoch 12/75
176/176 - 8s - loss: 0.2654 - accuracy: 0.8812 - val_loss: 0.3252 - val_accuracy: 0.8322 - lr: 0.0010 - 8s/epoch - 48ms/step
Epoch 13/75
176/176 - 8s - loss: 0.2651 - accuracy: 0.8819 - val_loss: 0.3252 - val_accuracy: 0.8319 - lr: 0.0010 - 8s/epoch - 48ms/step
Epoch 14/75
176/176 - 8s - loss: 0.2653 - accuracy: 0.8817 - val_loss: 0.3254 - val_accuracy: 0.8317 - lr: 0.0010 - 8s/epoch - 48ms/step
Epoch 15/75
176/176 - 8s - loss: 0.2651 - accuracy: 0.8822 - val_loss: 0.3252 - val_accuracy: 0.8317 - lr: 0.0010 - 8s/epoch - 48ms/step
Epoch 16/75
176/176 - 8s - loss: 0.2653 - accuracy: 0.8814 - val_loss: 0.3260 - val_accuracy: 0.8303 - lr: 0.0010 - 8s/epoch - 48ms/step
Epoch 17/75
176/176 - 8s - loss: 0.2653 - accuracy: 0.8819 - val_loss: 0.3239 - val_accuracy: 0.8335 - lr: 0.0010 - 8s/epoch - 48ms/step
Epoch 18/75
176/176 - 8s - loss: 0.2650 - accuracy: 0.8829 - val_loss: 0.3261 - val_accuracy: 0.8303 - lr: 0.0010 - 8s/epoch - 48ms/step
Epoch 19/75
176/176 - 8s - loss: 0.2658 - accuracy: 0.8808 - val_loss: 0.3253 - val_accuracy: 0.8311 - lr: 0.0010 - 8s/epoch - 48ms/step
Epoch 20/75
176/176 - 8s - loss: 0.2654 - accuracy: 0.8808 - val_loss: 0.3242 - val_accuracy: 0.8327 - lr: 0.0010 - 8s/epoch - 48ms/step
Epoch 21/75
176/176 - 8s - loss: 0.2655 - accuracy: 0.8803 - val_loss: 0.3241 - val_accuracy: 0.8335 - lr: 0.0010 - 8s/epoch - 48ms/step
Epoch 22/75
176/176 - 8s - loss: 0.2650 - accuracy: 0.8830 - val_loss: 0.3241 - val_accuracy: 0.8332 - lr: 0.0010 - 8s/epoch - 48ms/step
Epoch 23/75
176/176 - 8s - loss: 0.2652 - accuracy: 0.8816 - val_loss: 0.3241 - val_accuracy: 0.8323 - lr: 0.0010 - 8s/epoch - 48ms/step
Epoch 24/75
176/176 - 8s - loss: 0.2654 - accuracy: 0.8810 - val_loss: 0.3249 - val_accuracy: 0.8319 - lr: 0.0010 - 8s/epoch - 48ms/step
Epoch 25/75
176/176 - 8s - loss: 0.2654 - accuracy: 0.8818 - val_loss: 0.3250 - val_accuracy: 0.8317 - lr: 0.0010 - 8s/epoch - 48ms/step
Epoch 26/75
176/176 - 8s - loss: 0.2655 - accuracy: 0.8808 - val_loss: 0.3254 - val_accuracy: 0.8311 - lr: 0.0010 - 8s/epoch - 48ms/step
Epoch 27/75
176/176 - 8s - loss: 0.2654 - accuracy: 0.8810 - val_loss: 0.3236 - val_accuracy: 0.8349 - lr: 0.0010 - 8s/epoch - 48ms/step
Epoch 28/75
176/176 - 8s - loss: 0.2649 - accuracy: 0.8818 - val_loss: 0.3243 - val_accuracy: 0.8335 - lr: 0.0010 - 8s/epoch - 48ms/step
Epoch 29/75
176/176 - 8s - loss: 0.2649 - accuracy: 0.8827 - val_loss: 0.3234 - val_accuracy: 0.8343 - lr: 0.0010 - 8s/epoch - 48ms/step
Epoch 30/75
176/176 - 8s - loss: 0.2650 - accuracy: 0.8830 - val_loss: 0.3245 - val_accuracy: 0.8321 - lr: 0.0010 - 8s/epoch - 48ms/step
Epoch 31/75
176/176 - 8s - loss: 0.2655 - accuracy: 0.8817 - val_loss: 0.3241 - val_accuracy: 0.8331 - lr: 0.0010 - 8s/epoch - 48ms/step
Epoch 32/75
176/176 - 8s - loss: 0.2651 - accuracy: 0.8822 - val_loss: 0.3257 - val_accuracy: 0.8311 - lr: 0.0010 - 8s/epoch - 48ms/step
Epoch 33/75
176/176 - 8s - loss: 0.2653 - accuracy: 0.8818 - val_loss: 0.3260 - val_accuracy: 0.8303 - lr: 0.0010 - 8s/epoch - 48ms/step
Epoch 34/75
176/176 - 8s - loss: 0.2651 - accuracy: 0.8812 - val_loss: 0.3243 - val_accuracy: 0.8326 - lr: 0.0010 - 8s/epoch - 48ms/step
Epoch 35/75
176/176 - 8s - loss: 0.2652 - accuracy: 0.8816 - val_loss: 0.3242 - val_accuracy: 0.8333 - lr: 0.0010 - 8s/epoch - 48ms/step
Epoch 36/75
176/176 - 8s - loss: 0.2651 - accuracy: 0.8822 - val_loss: 0.3246 - val_accuracy: 0.8323 - lr: 0.0010 - 8s/epoch - 48ms/step
Epoch 37/75
176/176 - 8s - loss: 0.2650 - accuracy: 0.8825 - val_loss: 0.3253 - val_accuracy: 0.8315 - lr: 0.0010 - 8s/epoch - 48ms/step
Epoch 38/75
176/176 - 8s - loss: 0.2654 - accuracy: 0.8818 - val_loss: 0.3248 - val_accuracy: 0.8324 - lr: 0.0010 - 8s/epoch - 48ms/step
Epoch 39/75
176/176 - 8s - loss: 0.2650 - accuracy: 0.8826 - val_loss: 0.3252 - val_accuracy: 0.8323 - lr: 0.0010 - 8s/epoch - 48ms/step
Epoch 40/75
176/176 - 8s - loss: 0.2651 - accuracy: 0.8823 - val_loss: 0.3248 - val_accuracy: 0.8317 - lr: 0.0010 - 8s/epoch - 48ms/step
Epoch 41/75
176/176 - 8s - loss: 0.2648 - accuracy: 0.8831 - val_loss: 0.3255 - val_accuracy: 0.8308 - lr: 0.0010 - 8s/epoch - 48ms/step
Epoch 42/75
176/176 - 8s - loss: 0.2650 - accuracy: 0.8822 - val_loss: 0.3250 - val_accuracy: 0.8326 - lr: 0.0010 - 8s/epoch - 48ms/step
Epoch 43/75
176/176 - 8s - loss: 0.2649 - accuracy: 0.8828 - val_loss: 0.3250 - val_accuracy: 0.8318 - lr: 0.0010 - 8s/epoch - 48ms/step
Epoch 44/75
176/176 - 8s - loss: 0.2652 - accuracy: 0.8823 - val_loss: 0.3247 - val_accuracy: 0.8326 - lr: 0.0010 - 8s/epoch - 48ms/step
Epoch 45/75
176/176 - 8s - loss: 0.2653 - accuracy: 0.8820 - val_loss: 0.3251 - val_accuracy: 0.8321 - lr: 0.0010 - 8s/epoch - 48ms/step
Epoch 46/75
176/176 - 8s - loss: 0.2651 - accuracy: 0.8817 - val_loss: 0.3251 - val_accuracy: 0.8318 - lr: 0.0010 - 8s/epoch - 48ms/step
Epoch 47/75
176/176 - 8s - loss: 0.2651 - accuracy: 0.8822 - val_loss: 0.3265 - val_accuracy: 0.8298 - lr: 0.0010 - 8s/epoch - 48ms/step
Epoch 48/75
176/176 - 8s - loss: 0.2652 - accuracy: 0.8822 - val_loss: 0.3246 - val_accuracy: 0.8324 - lr: 0.0010 - 8s/epoch - 48ms/step
Epoch 49/75
176/176 - 8s - loss: 0.2650 - accuracy: 0.8837 - val_loss: 0.3253 - val_accuracy: 0.8316 - lr: 0.0010 - 8s/epoch - 48ms/step
Epoch 50/75
176/176 - 8s - loss: 0.2650 - accuracy: 0.8823 - val_loss: 0.3247 - val_accuracy: 0.8330 - lr: 0.0010 - 8s/epoch - 48ms/step
Epoch 51/75
176/176 - 8s - loss: 0.2650 - accuracy: 0.8827 - val_loss: 0.3250 - val_accuracy: 0.8323 - lr: 0.0010 - 8s/epoch - 48ms/step
Epoch 52/75
176/176 - 8s - loss: 0.2654 - accuracy: 0.8822 - val_loss: 0.3234 - val_accuracy: 0.8332 - lr: 0.0010 - 8s/epoch - 48ms/step
Epoch 53/75
176/176 - 8s - loss: 0.2649 - accuracy: 0.8825 - val_loss: 0.3259 - val_accuracy: 0.8303 - lr: 0.0010 - 8s/epoch - 48ms/step
Epoch 54/75
176/176 - 8s - loss: 0.2647 - accuracy: 0.8836 - val_loss: 0.3240 - val_accuracy: 0.8339 - lr: 0.0010 - 8s/epoch - 48ms/step
Epoch 55/75
176/176 - 8s - loss: 0.2650 - accuracy: 0.8828 - val_loss: 0.3250 - val_accuracy: 0.8319 - lr: 0.0010 - 8s/epoch - 48ms/step
Epoch 56/75
176/176 - 8s - loss: 0.2648 - accuracy: 0.8823 - val_loss: 0.3255 - val_accuracy: 0.8308 - lr: 0.0010 - 8s/epoch - 48ms/step
Epoch 57/75
176/176 - 8s - loss: 0.2651 - accuracy: 0.8826 - val_loss: 0.3255 - val_accuracy: 0.8306 - lr: 0.0010 - 8s/epoch - 48ms/step
Epoch 58/75
176/176 - 8s - loss: 0.2652 - accuracy: 0.8814 - val_loss: 0.3248 - val_accuracy: 0.8320 - lr: 0.0010 - 8s/epoch - 48ms/step
Epoch 59/75
176/176 - 8s - loss: 0.2651 - accuracy: 0.8817 - val_loss: 0.3256 - val_accuracy: 0.8309 - lr: 0.0010 - 8s/epoch - 48ms/step
Epoch 60/75
176/176 - 8s - loss: 0.2651 - accuracy: 0.8825 - val_loss: 0.3245 - val_accuracy: 0.8331 - lr: 0.0010 - 8s/epoch - 48ms/step
Epoch 61/75
176/176 - 8s - loss: 0.2652 - accuracy: 0.8811 - val_loss: 0.3261 - val_accuracy: 0.8305 - lr: 0.0010 - 8s/epoch - 48ms/step
Epoch 62/75
176/176 - 8s - loss: 0.2653 - accuracy: 0.8821 - val_loss: 0.3245 - val_accuracy: 0.8323 - lr: 0.0010 - 8s/epoch - 48ms/step
Epoch 63/75
176/176 - 8s - loss: 0.2649 - accuracy: 0.8823 - val_loss: 0.3259 - val_accuracy: 0.8302 - lr: 0.0010 - 8s/epoch - 48ms/step
Epoch 64/75
176/176 - 8s - loss: 0.2651 - accuracy: 0.8820 - val_loss: 0.3250 - val_accuracy: 0.8325 - lr: 0.0010 - 8s/epoch - 48ms/step
Epoch 65/75
176/176 - 8s - loss: 0.2651 - accuracy: 0.8820 - val_loss: 0.3257 - val_accuracy: 0.8311 - lr: 0.0010 - 8s/epoch - 48ms/step
Epoch 66/75
176/176 - 8s - loss: 0.2652 - accuracy: 0.8825 - val_loss: 0.3248 - val_accuracy: 0.8324 - lr: 0.0010 - 8s/epoch - 48ms/step
Epoch 67/75
176/176 - 8s - loss: 0.2647 - accuracy: 0.8833 - val_loss: 0.3258 - val_accuracy: 0.8311 - lr: 0.0010 - 8s/epoch - 48ms/step
Epoch 68/75
176/176 - 8s - loss: 0.2645 - accuracy: 0.8830 - val_loss: 0.3256 - val_accuracy: 0.8308 - lr: 0.0010 - 8s/epoch - 48ms/step
Epoch 69/75
176/176 - 8s - loss: 0.2651 - accuracy: 0.8824 - val_loss: 0.3252 - val_accuracy: 0.8317 - lr: 0.0010 - 8s/epoch - 48ms/step
Epoch 70/75
176/176 - 8s - loss: 0.2647 - accuracy: 0.8828 - val_loss: 0.3264 - val_accuracy: 0.8297 - lr: 0.0010 - 8s/epoch - 48ms/step
Epoch 71/75
176/176 - 8s - loss: 0.2652 - accuracy: 0.8815 - val_loss: 0.3255 - val_accuracy: 0.8312 - lr: 0.0010 - 8s/epoch - 48ms/step
Epoch 72/75
176/176 - 8s - loss: 0.2653 - accuracy: 0.8822 - val_loss: 0.3259 - val_accuracy: 0.8303 - lr: 0.0010 - 8s/epoch - 48ms/step
Epoch 73/75
176/176 - 8s - loss: 0.2650 - accuracy: 0.8816 - val_loss: 0.3256 - val_accuracy: 0.8318 - lr: 0.0010 - 8s/epoch - 48ms/step
Epoch 74/75
176/176 - 8s - loss: 0.2648 - accuracy: 0.8831 - val_loss: 0.3246 - val_accuracy: 0.8330 - lr: 0.0010 - 8s/epoch - 48ms/step
Epoch 75/75
176/176 - 8s - loss: 0.2647 - accuracy: 0.8825 - val_loss: 0.3254 - val_accuracy: 0.8319 - lr: 0.0010 - 8s/epoch - 48ms/step
fitting with batch size: 1500
Epoch 1/75
59/59 - 9s - loss: 0.2644 - accuracy: 0.8828 - val_loss: 0.3254 - val_accuracy: 0.8318 - lr: 0.0010 - 9s/epoch - 160ms/step
Epoch 2/75
59/59 - 7s - loss: 0.2649 - accuracy: 0.8836 - val_loss: 0.3253 - val_accuracy: 0.8320 - lr: 0.0010 - 7s/epoch - 127ms/step
Epoch 3/75
59/59 - 7s - loss: 0.2650 - accuracy: 0.8820 - val_loss: 0.3254 - val_accuracy: 0.8316 - lr: 0.0010 - 7s/epoch - 127ms/step
Epoch 4/75
59/59 - 7s - loss: 0.2649 - accuracy: 0.8825 - val_loss: 0.3255 - val_accuracy: 0.8313 - lr: 0.0010 - 7s/epoch - 127ms/step
Epoch 5/75
59/59 - 7s - loss: 0.2651 - accuracy: 0.8815 - val_loss: 0.3260 - val_accuracy: 0.8310 - lr: 0.0010 - 7s/epoch - 126ms/step
Epoch 6/75
59/59 - 7s - loss: 0.2648 - accuracy: 0.8831 - val_loss: 0.3258 - val_accuracy: 0.8313 - lr: 0.0010 - 7s/epoch - 127ms/step
Epoch 7/75
59/59 - 7s - loss: 0.2648 - accuracy: 0.8825 - val_loss: 0.3256 - val_accuracy: 0.8316 - lr: 0.0010 - 7s/epoch - 126ms/step
Epoch 8/75
59/59 - 7s - loss: 0.2648 - accuracy: 0.8818 - val_loss: 0.3253 - val_accuracy: 0.8323 - lr: 0.0010 - 7s/epoch - 127ms/step
Epoch 9/75
59/59 - 7s - loss: 0.2651 - accuracy: 0.8814 - val_loss: 0.3252 - val_accuracy: 0.8318 - lr: 0.0010 - 7s/epoch - 126ms/step
Epoch 10/75
59/59 - 7s - loss: 0.2650 - accuracy: 0.8811 - val_loss: 0.3255 - val_accuracy: 0.8317 - lr: 0.0010 - 7s/epoch - 126ms/step
Epoch 11/75
59/59 - 7s - loss: 0.2648 - accuracy: 0.8833 - val_loss: 0.3255 - val_accuracy: 0.8319 - lr: 0.0010 - 7s/epoch - 126ms/step
Epoch 12/75
59/59 - 7s - loss: 0.2654 - accuracy: 0.8821 - val_loss: 0.3255 - val_accuracy: 0.8314 - lr: 0.0010 - 7s/epoch - 127ms/step
Epoch 13/75
59/59 - 7s - loss: 0.2652 - accuracy: 0.8824 - val_loss: 0.3250 - val_accuracy: 0.8321 - lr: 0.0010 - 7s/epoch - 126ms/step
Epoch 14/75
59/59 - 7s - loss: 0.2647 - accuracy: 0.8825 - val_loss: 0.3253 - val_accuracy: 0.8318 - lr: 0.0010 - 7s/epoch - 127ms/step
Epoch 15/75
59/59 - 7s - loss: 0.2646 - accuracy: 0.8836 - val_loss: 0.3255 - val_accuracy: 0.8316 - lr: 0.0010 - 7s/epoch - 126ms/step
Epoch 16/75
59/59 - 7s - loss: 0.2646 - accuracy: 0.8830 - val_loss: 0.3255 - val_accuracy: 0.8316 - lr: 0.0010 - 7s/epoch - 126ms/step
Epoch 17/75
59/59 - 7s - loss: 0.2648 - accuracy: 0.8820 - val_loss: 0.3255 - val_accuracy: 0.8317 - lr: 0.0010 - 7s/epoch - 127ms/step
Epoch 18/75
59/59 - 7s - loss: 0.2648 - accuracy: 0.8828 - val_loss: 0.3257 - val_accuracy: 0.8314 - lr: 0.0010 - 7s/epoch - 127ms/step
Epoch 19/75
59/59 - 8s - loss: 0.2647 - accuracy: 0.8826 - val_loss: 0.3249 - val_accuracy: 0.8326 - lr: 0.0010 - 8s/epoch - 127ms/step
Epoch 20/75
59/59 - 7s - loss: 0.2650 - accuracy: 0.8820 - val_loss: 0.3251 - val_accuracy: 0.8323 - lr: 0.0010 - 7s/epoch - 127ms/step
Epoch 21/75
59/59 - 7s - loss: 0.2650 - accuracy: 0.8821 - val_loss: 0.3254 - val_accuracy: 0.8317 - lr: 0.0010 - 7s/epoch - 127ms/step
Epoch 22/75
59/59 - 7s - loss: 0.2648 - accuracy: 0.8821 - val_loss: 0.3256 - val_accuracy: 0.8315 - lr: 0.0010 - 7s/epoch - 127ms/step
Epoch 23/75
59/59 - 7s - loss: 0.2647 - accuracy: 0.8832 - val_loss: 0.3249 - val_accuracy: 0.8319 - lr: 0.0010 - 7s/epoch - 127ms/step
Epoch 24/75
59/59 - 8s - loss: 0.2650 - accuracy: 0.8819 - val_loss: 0.3255 - val_accuracy: 0.8314 - lr: 0.0010 - 8s/epoch - 130ms/step
Epoch 25/75
59/59 - 7s - loss: 0.2648 - accuracy: 0.8829 - val_loss: 0.3260 - val_accuracy: 0.8311 - lr: 0.0010 - 7s/epoch - 127ms/step
Epoch 26/75
59/59 - 8s - loss: 0.2647 - accuracy: 0.8819 - val_loss: 0.3253 - val_accuracy: 0.8321 - lr: 0.0010 - 8s/epoch - 127ms/step
Epoch 27/75
59/59 - 7s - loss: 0.2649 - accuracy: 0.8827 - val_loss: 0.3256 - val_accuracy: 0.8319 - lr: 0.0010 - 7s/epoch - 127ms/step
Epoch 28/75
59/59 - 7s - loss: 0.2649 - accuracy: 0.8822 - val_loss: 0.3253 - val_accuracy: 0.8320 - lr: 0.0010 - 7s/epoch - 127ms/step
Epoch 29/75
59/59 - 7s - loss: 0.2649 - accuracy: 0.8835 - val_loss: 0.3258 - val_accuracy: 0.8313 - lr: 0.0010 - 7s/epoch - 127ms/step
Epoch 30/75
59/59 - 8s - loss: 0.2651 - accuracy: 0.8823 - val_loss: 0.3255 - val_accuracy: 0.8314 - lr: 0.0010 - 8s/epoch - 127ms/step
Epoch 31/75
59/59 - 7s - loss: 0.2649 - accuracy: 0.8819 - val_loss: 0.3252 - val_accuracy: 0.8321 - lr: 0.0010 - 7s/epoch - 127ms/step
Epoch 32/75
59/59 - 8s - loss: 0.2649 - accuracy: 0.8822 - val_loss: 0.3256 - val_accuracy: 0.8319 - lr: 0.0010 - 8s/epoch - 127ms/step
Epoch 33/75
59/59 - 7s - loss: 0.2648 - accuracy: 0.8827 - val_loss: 0.3257 - val_accuracy: 0.8310 - lr: 0.0010 - 7s/epoch - 127ms/step
Epoch 34/75
59/59 - 7s - loss: 0.2649 - accuracy: 0.8823 - val_loss: 0.3256 - val_accuracy: 0.8314 - lr: 0.0010 - 7s/epoch - 127ms/step
Epoch 35/75
59/59 - 7s - loss: 0.2650 - accuracy: 0.8814 - val_loss: 0.3253 - val_accuracy: 0.8316 - lr: 0.0010 - 7s/epoch - 127ms/step
Epoch 36/75
59/59 - 7s - loss: 0.2649 - accuracy: 0.8825 - val_loss: 0.3259 - val_accuracy: 0.8312 - lr: 0.0010 - 7s/epoch - 127ms/step
Epoch 37/75
59/59 - 8s - loss: 0.2650 - accuracy: 0.8818 - val_loss: 0.3258 - val_accuracy: 0.8312 - lr: 0.0010 - 8s/epoch - 127ms/step
Epoch 38/75
59/59 - 7s - loss: 0.2652 - accuracy: 0.8823 - val_loss: 0.3257 - val_accuracy: 0.8311 - lr: 0.0010 - 7s/epoch - 127ms/step
Epoch 39/75
59/59 - 7s - loss: 0.2648 - accuracy: 0.8829 - val_loss: 0.3252 - val_accuracy: 0.8319 - lr: 0.0010 - 7s/epoch - 127ms/step
Epoch 40/75
59/59 - 7s - loss: 0.2648 - accuracy: 0.8831 - val_loss: 0.3255 - val_accuracy: 0.8313 - lr: 0.0010 - 7s/epoch - 127ms/step
Epoch 41/75
59/59 - 8s - loss: 0.2650 - accuracy: 0.8815 - val_loss: 0.3253 - val_accuracy: 0.8316 - lr: 0.0010 - 8s/epoch - 127ms/step
Epoch 42/75
59/59 - 7s - loss: 0.2646 - accuracy: 0.8836 - val_loss: 0.3252 - val_accuracy: 0.8319 - lr: 0.0010 - 7s/epoch - 127ms/step
Epoch 43/75
59/59 - 8s - loss: 0.2648 - accuracy: 0.8827 - val_loss: 0.3251 - val_accuracy: 0.8321 - lr: 0.0010 - 8s/epoch - 127ms/step
Epoch 44/75
59/59 - 7s - loss: 0.2650 - accuracy: 0.8822 - val_loss: 0.3258 - val_accuracy: 0.8313 - lr: 0.0010 - 7s/epoch - 127ms/step
Epoch 45/75
59/59 - 7s - loss: 0.2645 - accuracy: 0.8833 - val_loss: 0.3257 - val_accuracy: 0.8314 - lr: 0.0010 - 7s/epoch - 127ms/step
Epoch 46/75
59/59 - 8s - loss: 0.2645 - accuracy: 0.8835 - val_loss: 0.3256 - val_accuracy: 0.8314 - lr: 0.0010 - 8s/epoch - 127ms/step
Epoch 47/75
59/59 - 7s - loss: 0.2643 - accuracy: 0.8834 - val_loss: 0.3255 - val_accuracy: 0.8320 - lr: 0.0010 - 7s/epoch - 127ms/step
Epoch 48/75
59/59 - 7s - loss: 0.2646 - accuracy: 0.8824 - val_loss: 0.3254 - val_accuracy: 0.8317 - lr: 0.0010 - 7s/epoch - 127ms/step
Epoch 49/75
59/59 - 7s - loss: 0.2652 - accuracy: 0.8816 - val_loss: 0.3254 - val_accuracy: 0.8313 - lr: 0.0010 - 7s/epoch - 127ms/step
Epoch 50/75
59/59 - 8s - loss: 0.2648 - accuracy: 0.8821 - val_loss: 0.3253 - val_accuracy: 0.8317 - lr: 0.0010 - 8s/epoch - 127ms/step
Epoch 51/75
59/59 - 7s - loss: 0.2647 - accuracy: 0.8834 - val_loss: 0.3253 - val_accuracy: 0.8318 - lr: 0.0010 - 7s/epoch - 127ms/step
Epoch 52/75
59/59 - 7s - loss: 0.2648 - accuracy: 0.8836 - val_loss: 0.3253 - val_accuracy: 0.8319 - lr: 0.0010 - 7s/epoch - 127ms/step
Epoch 53/75
59/59 - 7s - loss: 0.2647 - accuracy: 0.8822 - val_loss: 0.3254 - val_accuracy: 0.8318 - lr: 0.0010 - 7s/epoch - 127ms/step
Epoch 54/75
59/59 - 7s - loss: 0.2646 - accuracy: 0.8833 - val_loss: 0.3256 - val_accuracy: 0.8316 - lr: 0.0010 - 7s/epoch - 127ms/step
Epoch 55/75
59/59 - 7s - loss: 0.2647 - accuracy: 0.8830 - val_loss: 0.3256 - val_accuracy: 0.8309 - lr: 0.0010 - 7s/epoch - 127ms/step
Epoch 56/75
59/59 - 7s - loss: 0.2649 - accuracy: 0.8821 - val_loss: 0.3259 - val_accuracy: 0.8312 - lr: 0.0010 - 7s/epoch - 127ms/step
Epoch 57/75
59/59 - 7s - loss: 0.2648 - accuracy: 0.8820 - val_loss: 0.3258 - val_accuracy: 0.8309 - lr: 0.0010 - 7s/epoch - 127ms/step
Epoch 58/75
59/59 - 8s - loss: 0.2644 - accuracy: 0.8837 - val_loss: 0.3253 - val_accuracy: 0.8318 - lr: 0.0010 - 8s/epoch - 127ms/step
Epoch 59/75
59/59 - 7s - loss: 0.2644 - accuracy: 0.8837 - val_loss: 0.3258 - val_accuracy: 0.8311 - lr: 0.0010 - 7s/epoch - 127ms/step
Epoch 60/75
59/59 - 7s - loss: 0.2648 - accuracy: 0.8831 - val_loss: 0.3254 - val_accuracy: 0.8321 - lr: 0.0010 - 7s/epoch - 127ms/step
Epoch 61/75
59/59 - 8s - loss: 0.2646 - accuracy: 0.8832 - val_loss: 0.3255 - val_accuracy: 0.8319 - lr: 0.0010 - 8s/epoch - 127ms/step
Epoch 62/75
59/59 - 7s - loss: 0.2647 - accuracy: 0.8826 - val_loss: 0.3251 - val_accuracy: 0.8320 - lr: 0.0010 - 7s/epoch - 127ms/step
Epoch 63/75
59/59 - 7s - loss: 0.2652 - accuracy: 0.8819 - val_loss: 0.3253 - val_accuracy: 0.8318 - lr: 0.0010 - 7s/epoch - 127ms/step
Epoch 64/75
59/59 - 7s - loss: 0.2647 - accuracy: 0.8827 - val_loss: 0.3258 - val_accuracy: 0.8312 - lr: 0.0010 - 7s/epoch - 127ms/step
Epoch 65/75
59/59 - 7s - loss: 0.2648 - accuracy: 0.8831 - val_loss: 0.3258 - val_accuracy: 0.8311 - lr: 0.0010 - 7s/epoch - 127ms/step
Epoch 66/75
59/59 - 7s - loss: 0.2648 - accuracy: 0.8829 - val_loss: 0.3260 - val_accuracy: 0.8310 - lr: 0.0010 - 7s/epoch - 127ms/step
Epoch 67/75
59/59 - 7s - loss: 0.2646 - accuracy: 0.8833 - val_loss: 0.3259 - val_accuracy: 0.8305 - lr: 0.0010 - 7s/epoch - 127ms/step
Epoch 68/75
59/59 - 7s - loss: 0.2649 - accuracy: 0.8828 - val_loss: 0.3255 - val_accuracy: 0.8316 - lr: 0.0010 - 7s/epoch - 127ms/step
Epoch 69/75
59/59 - 7s - loss: 0.2645 - accuracy: 0.8826 - val_loss: 0.3259 - val_accuracy: 0.8311 - lr: 0.0010 - 7s/epoch - 127ms/step
Epoch 70/75
59/59 - 7s - loss: 0.2644 - accuracy: 0.8851 - val_loss: 0.3258 - val_accuracy: 0.8311 - lr: 0.0010 - 7s/epoch - 127ms/step
Epoch 71/75
59/59 - 8s - loss: 0.2646 - accuracy: 0.8835 - val_loss: 0.3257 - val_accuracy: 0.8313 - lr: 0.0010 - 8s/epoch - 127ms/step
Epoch 72/75
59/59 - 7s - loss: 0.2646 - accuracy: 0.8833 - val_loss: 0.3260 - val_accuracy: 0.8309 - lr: 0.0010 - 7s/epoch - 127ms/step
Epoch 73/75
59/59 - 7s - loss: 0.2643 - accuracy: 0.8834 - val_loss: 0.3253 - val_accuracy: 0.8316 - lr: 0.0010 - 7s/epoch - 127ms/step
Epoch 74/75
59/59 - 7s - loss: 0.2647 - accuracy: 0.8835 - val_loss: 0.3256 - val_accuracy: 0.8314 - lr: 0.0010 - 7s/epoch - 127ms/step
Epoch 75/75
59/59 - 7s - loss: 0.2644 - accuracy: 0.8836 - val_loss: 0.3256 - val_accuracy: 0.8309 - lr: 0.0010 - 7s/epoch - 127ms/step
fitting with batch size: 2500
Epoch 1/75
36/36 - 9s - loss: 0.2649 - accuracy: 0.8824 - val_loss: 0.3259 - val_accuracy: 0.8306 - lr: 0.0010 - 9s/epoch - 255ms/step
Epoch 2/75
36/36 - 7s - loss: 0.2651 - accuracy: 0.8821 - val_loss: 0.3258 - val_accuracy: 0.8311 - lr: 0.0010 - 7s/epoch - 201ms/step
Epoch 3/75
36/36 - 7s - loss: 0.2648 - accuracy: 0.8830 - val_loss: 0.3262 - val_accuracy: 0.8306 - lr: 0.0010 - 7s/epoch - 201ms/step
Epoch 4/75
36/36 - 7s - loss: 0.2645 - accuracy: 0.8839 - val_loss: 0.3256 - val_accuracy: 0.8317 - lr: 0.0010 - 7s/epoch - 200ms/step
Epoch 5/75
36/36 - 7s - loss: 0.2648 - accuracy: 0.8819 - val_loss: 0.3254 - val_accuracy: 0.8317 - lr: 0.0010 - 7s/epoch - 200ms/step
Epoch 6/75
36/36 - 7s - loss: 0.2647 - accuracy: 0.8828 - val_loss: 0.3268 - val_accuracy: 0.8297 - lr: 0.0010 - 7s/epoch - 200ms/step
Epoch 7/75
36/36 - 7s - loss: 0.2647 - accuracy: 0.8825 - val_loss: 0.3258 - val_accuracy: 0.8309 - lr: 0.0010 - 7s/epoch - 200ms/step
Epoch 8/75
36/36 - 7s - loss: 0.2646 - accuracy: 0.8833 - val_loss: 0.3264 - val_accuracy: 0.8303 - lr: 0.0010 - 7s/epoch - 201ms/step
Epoch 9/75
36/36 - 7s - loss: 0.2647 - accuracy: 0.8835 - val_loss: 0.3253 - val_accuracy: 0.8312 - lr: 0.0010 - 7s/epoch - 201ms/step
Epoch 10/75
36/36 - 7s - loss: 0.2643 - accuracy: 0.8836 - val_loss: 0.3274 - val_accuracy: 0.8286 - lr: 0.0010 - 7s/epoch - 200ms/step
Epoch 11/75
36/36 - 7s - loss: 0.2648 - accuracy: 0.8826 - val_loss: 0.3259 - val_accuracy: 0.8309 - lr: 0.0010 - 7s/epoch - 200ms/step
Epoch 12/75
36/36 - 7s - loss: 0.2648 - accuracy: 0.8829 - val_loss: 0.3253 - val_accuracy: 0.8319 - lr: 0.0010 - 7s/epoch - 200ms/step
Epoch 13/75
36/36 - 7s - loss: 0.2645 - accuracy: 0.8835 - val_loss: 0.3254 - val_accuracy: 0.8312 - lr: 0.0010 - 7s/epoch - 201ms/step
Epoch 14/75
36/36 - 7s - loss: 0.2647 - accuracy: 0.8833 - val_loss: 0.3261 - val_accuracy: 0.8308 - lr: 0.0010 - 7s/epoch - 200ms/step
Epoch 15/75
36/36 - 7s - loss: 0.2648 - accuracy: 0.8820 - val_loss: 0.3257 - val_accuracy: 0.8309 - lr: 0.0010 - 7s/epoch - 201ms/step
Epoch 16/75
36/36 - 7s - loss: 0.2645 - accuracy: 0.8835 - val_loss: 0.3258 - val_accuracy: 0.8307 - lr: 0.0010 - 7s/epoch - 201ms/step
Epoch 17/75
36/36 - 7s - loss: 0.2641 - accuracy: 0.8833 - val_loss: 0.3264 - val_accuracy: 0.8302 - lr: 0.0010 - 7s/epoch - 200ms/step
Epoch 18/75
36/36 - 7s - loss: 0.2648 - accuracy: 0.8825 - val_loss: 0.3257 - val_accuracy: 0.8316 - lr: 0.0010 - 7s/epoch - 200ms/step
Epoch 19/75
36/36 - 7s - loss: 0.2647 - accuracy: 0.8826 - val_loss: 0.3261 - val_accuracy: 0.8306 - lr: 0.0010 - 7s/epoch - 201ms/step
Epoch 20/75
36/36 - 7s - loss: 0.2648 - accuracy: 0.8831 - val_loss: 0.3253 - val_accuracy: 0.8319 - lr: 0.0010 - 7s/epoch - 201ms/step
Epoch 21/75
36/36 - 7s - loss: 0.2648 - accuracy: 0.8821 - val_loss: 0.3250 - val_accuracy: 0.8323 - lr: 0.0010 - 7s/epoch - 200ms/step
Epoch 22/75
36/36 - 7s - loss: 0.2644 - accuracy: 0.8840 - val_loss: 0.3256 - val_accuracy: 0.8316 - lr: 0.0010 - 7s/epoch - 200ms/step
Epoch 23/75
36/36 - 7s - loss: 0.2645 - accuracy: 0.8832 - val_loss: 0.3260 - val_accuracy: 0.8309 - lr: 0.0010 - 7s/epoch - 200ms/step
Epoch 24/75
36/36 - 7s - loss: 0.2648 - accuracy: 0.8825 - val_loss: 0.3261 - val_accuracy: 0.8306 - lr: 0.0010 - 7s/epoch - 200ms/step
Epoch 25/75
36/36 - 7s - loss: 0.2647 - accuracy: 0.8828 - val_loss: 0.3250 - val_accuracy: 0.8327 - lr: 0.0010 - 7s/epoch - 200ms/step
Epoch 26/75
36/36 - 7s - loss: 0.2651 - accuracy: 0.8823 - val_loss: 0.3257 - val_accuracy: 0.8309 - lr: 0.0010 - 7s/epoch - 201ms/step
Epoch 27/75
36/36 - 7s - loss: 0.2647 - accuracy: 0.8829 - val_loss: 0.3257 - val_accuracy: 0.8309 - lr: 0.0010 - 7s/epoch - 201ms/step
Epoch 28/75
36/36 - 7s - loss: 0.2646 - accuracy: 0.8827 - val_loss: 0.3257 - val_accuracy: 0.8312 - lr: 0.0010 - 7s/epoch - 201ms/step
Epoch 29/75
36/36 - 7s - loss: 0.2648 - accuracy: 0.8832 - val_loss: 0.3256 - val_accuracy: 0.8320 - lr: 0.0010 - 7s/epoch - 200ms/step
Epoch 30/75
36/36 - 7s - loss: 0.2646 - accuracy: 0.8833 - val_loss: 0.3257 - val_accuracy: 0.8311 - lr: 0.0010 - 7s/epoch - 201ms/step
Epoch 31/75
36/36 - 7s - loss: 0.2647 - accuracy: 0.8834 - val_loss: 0.3267 - val_accuracy: 0.8303 - lr: 0.0010 - 7s/epoch - 200ms/step
Epoch 32/75
36/36 - 7s - loss: 0.2649 - accuracy: 0.8836 - val_loss: 0.3247 - val_accuracy: 0.8329 - lr: 0.0010 - 7s/epoch - 200ms/step
Epoch 33/75
36/36 - 7s - loss: 0.2649 - accuracy: 0.8820 - val_loss: 0.3249 - val_accuracy: 0.8328 - lr: 0.0010 - 7s/epoch - 200ms/step
Epoch 34/75
36/36 - 7s - loss: 0.2647 - accuracy: 0.8834 - val_loss: 0.3262 - val_accuracy: 0.8309 - lr: 0.0010 - 7s/epoch - 200ms/step
Epoch 35/75
36/36 - 7s - loss: 0.2648 - accuracy: 0.8825 - val_loss: 0.3258 - val_accuracy: 0.8307 - lr: 0.0010 - 7s/epoch - 200ms/step
Epoch 36/75
36/36 - 7s - loss: 0.2647 - accuracy: 0.8826 - val_loss: 0.3247 - val_accuracy: 0.8323 - lr: 0.0010 - 7s/epoch - 201ms/step
Epoch 37/75
36/36 - 7s - loss: 0.2649 - accuracy: 0.8830 - val_loss: 0.3250 - val_accuracy: 0.8321 - lr: 0.0010 - 7s/epoch - 201ms/step
Epoch 38/75
36/36 - 7s - loss: 0.2653 - accuracy: 0.8824 - val_loss: 0.3259 - val_accuracy: 0.8311 - lr: 0.0010 - 7s/epoch - 200ms/step
Epoch 39/75
36/36 - 7s - loss: 0.2647 - accuracy: 0.8831 - val_loss: 0.3271 - val_accuracy: 0.8292 - lr: 0.0010 - 7s/epoch - 200ms/step
Epoch 40/75
36/36 - 7s - loss: 0.2646 - accuracy: 0.8832 - val_loss: 0.3253 - val_accuracy: 0.8316 - lr: 0.0010 - 7s/epoch - 200ms/step
Epoch 41/75
36/36 - 7s - loss: 0.2648 - accuracy: 0.8826 - val_loss: 0.3254 - val_accuracy: 0.8318 - lr: 0.0010 - 7s/epoch - 200ms/step
Epoch 42/75
36/36 - 7s - loss: 0.2647 - accuracy: 0.8834 - val_loss: 0.3258 - val_accuracy: 0.8314 - lr: 0.0010 - 7s/epoch - 200ms/step
Epoch 43/75
36/36 - 7s - loss: 0.2648 - accuracy: 0.8833 - val_loss: 0.3251 - val_accuracy: 0.8320 - lr: 0.0010 - 7s/epoch - 200ms/step
Epoch 44/75
36/36 - 7s - loss: 0.2646 - accuracy: 0.8827 - val_loss: 0.3262 - val_accuracy: 0.8304 - lr: 0.0010 - 7s/epoch - 200ms/step
Epoch 45/75
36/36 - 7s - loss: 0.2645 - accuracy: 0.8831 - val_loss: 0.3251 - val_accuracy: 0.8321 - lr: 0.0010 - 7s/epoch - 201ms/step
Epoch 46/75
36/36 - 7s - loss: 0.2648 - accuracy: 0.8827 - val_loss: 0.3250 - val_accuracy: 0.8324 - lr: 0.0010 - 7s/epoch - 201ms/step
Epoch 47/75
36/36 - 7s - loss: 0.2647 - accuracy: 0.8832 - val_loss: 0.3254 - val_accuracy: 0.8318 - lr: 0.0010 - 7s/epoch - 200ms/step
Epoch 48/75
36/36 - 7s - loss: 0.2650 - accuracy: 0.8819 - val_loss: 0.3248 - val_accuracy: 0.8326 - lr: 0.0010 - 7s/epoch - 200ms/step
Epoch 49/75
36/36 - 7s - loss: 0.2648 - accuracy: 0.8828 - val_loss: 0.3260 - val_accuracy: 0.8305 - lr: 0.0010 - 7s/epoch - 201ms/step
Epoch 50/75
36/36 - 7s - loss: 0.2646 - accuracy: 0.8831 - val_loss: 0.3258 - val_accuracy: 0.8313 - lr: 0.0010 - 7s/epoch - 200ms/step
Epoch 51/75
36/36 - 7s - loss: 0.2647 - accuracy: 0.8825 - val_loss: 0.3261 - val_accuracy: 0.8306 - lr: 0.0010 - 7s/epoch - 201ms/step
Epoch 52/75
36/36 - 7s - loss: 0.2646 - accuracy: 0.8833 - val_loss: 0.3258 - val_accuracy: 0.8315 - lr: 0.0010 - 7s/epoch - 201ms/step
Epoch 53/75
36/36 - 7s - loss: 0.2647 - accuracy: 0.8823 - val_loss: 0.3257 - val_accuracy: 0.8312 - lr: 0.0010 - 7s/epoch - 201ms/step
Epoch 54/75
36/36 - 7s - loss: 0.2647 - accuracy: 0.8822 - val_loss: 0.3259 - val_accuracy: 0.8313 - lr: 0.0010 - 7s/epoch - 200ms/step
Epoch 55/75
36/36 - 7s - loss: 0.2645 - accuracy: 0.8827 - val_loss: 0.3267 - val_accuracy: 0.8303 - lr: 0.0010 - 7s/epoch - 201ms/step
Epoch 56/75
36/36 - 7s - loss: 0.2648 - accuracy: 0.8814 - val_loss: 0.3261 - val_accuracy: 0.8307 - lr: 0.0010 - 7s/epoch - 200ms/step
Epoch 57/75
36/36 - 7s - loss: 0.2648 - accuracy: 0.8829 - val_loss: 0.3260 - val_accuracy: 0.8307 - lr: 0.0010 - 7s/epoch - 200ms/step
Epoch 58/75
36/36 - 7s - loss: 0.2645 - accuracy: 0.8811 - val_loss: 0.3254 - val_accuracy: 0.8313 - lr: 0.0010 - 7s/epoch - 201ms/step
Epoch 59/75
36/36 - 7s - loss: 0.2652 - accuracy: 0.8819 - val_loss: 0.3256 - val_accuracy: 0.8313 - lr: 0.0010 - 7s/epoch - 201ms/step
Epoch 60/75
36/36 - 7s - loss: 0.2648 - accuracy: 0.8824 - val_loss: 0.3234 - val_accuracy: 0.8333 - lr: 0.0010 - 7s/epoch - 200ms/step
Epoch 61/75
36/36 - 7s - loss: 0.2645 - accuracy: 0.8836 - val_loss: 0.3254 - val_accuracy: 0.8314 - lr: 0.0010 - 7s/epoch - 201ms/step
Epoch 62/75
36/36 - 7s - loss: 0.2648 - accuracy: 0.8830 - val_loss: 0.3255 - val_accuracy: 0.8317 - lr: 0.0010 - 7s/epoch - 201ms/step
Epoch 63/75
36/36 - 7s - loss: 0.2651 - accuracy: 0.8822 - val_loss: 0.3258 - val_accuracy: 0.8310 - lr: 0.0010 - 7s/epoch - 200ms/step
Epoch 64/75
36/36 - 7s - loss: 0.2648 - accuracy: 0.8823 - val_loss: 0.3242 - val_accuracy: 0.8325 - lr: 0.0010 - 7s/epoch - 201ms/step
Epoch 65/75
36/36 - 7s - loss: 0.2651 - accuracy: 0.8828 - val_loss: 0.3261 - val_accuracy: 0.8304 - lr: 0.0010 - 7s/epoch - 200ms/step
Epoch 66/75
36/36 - 7s - loss: 0.2649 - accuracy: 0.8832 - val_loss: 0.3252 - val_accuracy: 0.8321 - lr: 0.0010 - 7s/epoch - 200ms/step
Epoch 67/75
36/36 - 7s - loss: 0.2646 - accuracy: 0.8827 - val_loss: 0.3240 - val_accuracy: 0.8335 - lr: 0.0010 - 7s/epoch - 201ms/step
Epoch 68/75
36/36 - 7s - loss: 0.2650 - accuracy: 0.8821 - val_loss: 0.3260 - val_accuracy: 0.8311 - lr: 0.0010 - 7s/epoch - 200ms/step
Epoch 69/75
36/36 - 7s - loss: 0.2643 - accuracy: 0.8838 - val_loss: 0.3266 - val_accuracy: 0.8302 - lr: 0.0010 - 7s/epoch - 201ms/step
Epoch 70/75
36/36 - 7s - loss: 0.2649 - accuracy: 0.8827 - val_loss: 0.3259 - val_accuracy: 0.8309 - lr: 0.0010 - 7s/epoch - 201ms/step
Epoch 71/75
36/36 - 7s - loss: 0.2645 - accuracy: 0.8834 - val_loss: 0.3255 - val_accuracy: 0.8314 - lr: 0.0010 - 7s/epoch - 200ms/step
Epoch 72/75
36/36 - 7s - loss: 0.2643 - accuracy: 0.8831 - val_loss: 0.3259 - val_accuracy: 0.8311 - lr: 0.0010 - 7s/epoch - 200ms/step
Epoch 73/75
36/36 - 7s - loss: 0.2646 - accuracy: 0.8832 - val_loss: 0.3255 - val_accuracy: 0.8316 - lr: 0.0010 - 7s/epoch - 200ms/step
Epoch 74/75
36/36 - 7s - loss: 0.2647 - accuracy: 0.8832 - val_loss: 0.3249 - val_accuracy: 0.8317 - lr: 0.0010 - 7s/epoch - 200ms/step
Epoch 75/75
36/36 - 7s - loss: 0.2649 - accuracy: 0.8825 - val_loss: 0.3246 - val_accuracy: 0.8322 - lr: 0.0010 - 7s/epoch - 201ms/step
Epoch number: 100
fitting with batch size: 20
Epoch 1/100
4378/4378 - 66s - loss: 0.2777 - accuracy: 0.8568 - val_loss: 0.3105 - val_accuracy: 0.8449 - lr: 0.0010 - 66s/epoch - 15ms/step
Epoch 2/100
4378/4378 - 65s - loss: 0.2797 - accuracy: 0.8524 - val_loss: 0.3287 - val_accuracy: 0.8238 - lr: 0.0010 - 65s/epoch - 15ms/step
Epoch 3/100
4378/4378 - 64s - loss: 0.2790 - accuracy: 0.8528 - val_loss: 0.3185 - val_accuracy: 0.8369 - lr: 0.0010 - 64s/epoch - 15ms/step
Epoch 4/100
4378/4378 - 64s - loss: 0.2787 - accuracy: 0.8541 - val_loss: 0.3276 - val_accuracy: 0.8251 - lr: 0.0010 - 64s/epoch - 15ms/step
Epoch 5/100
4378/4378 - 64s - loss: 0.2767 - accuracy: 0.8575 - val_loss: 0.3264 - val_accuracy: 0.8312 - lr: 0.0010 - 64s/epoch - 15ms/step
Epoch 6/100
4378/4378 - 64s - loss: 0.2774 - accuracy: 0.8560 - val_loss: 0.3155 - val_accuracy: 0.8458 - lr: 0.0010 - 64s/epoch - 15ms/step
Epoch 7/100
4378/4378 - 69s - loss: 0.2771 - accuracy: 0.8567 - val_loss: 0.3238 - val_accuracy: 0.8341 - lr: 0.0010 - 69s/epoch - 16ms/step
Epoch 8/100
4378/4378 - 107s - loss: 0.2771 - accuracy: 0.8569 - val_loss: 0.3261 - val_accuracy: 0.8318 - lr: 0.0010 - 107s/epoch - 25ms/step
Epoch 9/100
4378/4378 - 84s - loss: 0.2766 - accuracy: 0.8582 - val_loss: 0.3220 - val_accuracy: 0.8342 - lr: 0.0010 - 84s/epoch - 19ms/step
Epoch 10/100
4378/4378 - 81s - loss: 0.2767 - accuracy: 0.8574 - val_loss: 0.3221 - val_accuracy: 0.8335 - lr: 0.0010 - 81s/epoch - 19ms/step
Epoch 11/100
4378/4378 - 83s - loss: 0.2770 - accuracy: 0.8580 - val_loss: 0.3154 - val_accuracy: 0.8426 - lr: 0.0010 - 83s/epoch - 19ms/step
Epoch 12/100
4378/4378 - 84s - loss: 0.2758 - accuracy: 0.8599 - val_loss: 0.3103 - val_accuracy: 0.8465 - lr: 0.0010 - 84s/epoch - 19ms/step
Epoch 13/100
4378/4378 - 85s - loss: 0.2758 - accuracy: 0.8604 - val_loss: 0.3157 - val_accuracy: 0.8384 - lr: 0.0010 - 85s/epoch - 19ms/step
Epoch 14/100
4378/4378 - 94s - loss: 0.2762 - accuracy: 0.8588 - val_loss: 0.3183 - val_accuracy: 0.8423 - lr: 0.0010 - 94s/epoch - 22ms/step
Epoch 15/100
4378/4378 - 84s - loss: 0.2767 - accuracy: 0.8569 - val_loss: 0.3333 - val_accuracy: 0.8244 - lr: 0.0010 - 84s/epoch - 19ms/step
Epoch 16/100
4378/4378 - 85s - loss: 0.2762 - accuracy: 0.8588 - val_loss: 0.3302 - val_accuracy: 0.8252 - lr: 0.0010 - 85s/epoch - 19ms/step
Epoch 17/100
4378/4378 - 85s - loss: 0.2756 - accuracy: 0.8594 - val_loss: 0.3197 - val_accuracy: 0.8385 - lr: 0.0010 - 85s/epoch - 19ms/step
Epoch 18/100
4378/4378 - 84s - loss: 0.2765 - accuracy: 0.8573 - val_loss: 0.3242 - val_accuracy: 0.8356 - lr: 0.0010 - 84s/epoch - 19ms/step
Epoch 19/100
4378/4378 - 84s - loss: 0.2758 - accuracy: 0.8596 - val_loss: 0.3259 - val_accuracy: 0.8293 - lr: 0.0010 - 84s/epoch - 19ms/step
Epoch 20/100
4378/4378 - 84s - loss: 0.2762 - accuracy: 0.8585 - val_loss: 0.3244 - val_accuracy: 0.8257 - lr: 0.0010 - 84s/epoch - 19ms/step
Epoch 21/100
4378/4378 - 84s - loss: 0.2758 - accuracy: 0.8586 - val_loss: 0.3106 - val_accuracy: 0.8486 - lr: 0.0010 - 84s/epoch - 19ms/step
Epoch 22/100
4378/4378 - 85s - loss: 0.2757 - accuracy: 0.8603 - val_loss: 0.3179 - val_accuracy: 0.8381 - lr: 0.0010 - 85s/epoch - 20ms/step
Epoch 23/100
4378/4378 - 84s - loss: 0.2757 - accuracy: 0.8595 - val_loss: 0.3231 - val_accuracy: 0.8356 - lr: 0.0010 - 84s/epoch - 19ms/step
Epoch 24/100
4378/4378 - 84s - loss: 0.2759 - accuracy: 0.8589 - val_loss: 0.3232 - val_accuracy: 0.8332 - lr: 0.0010 - 84s/epoch - 19ms/step
Epoch 25/100
4378/4378 - 84s - loss: 0.2754 - accuracy: 0.8610 - val_loss: 0.3181 - val_accuracy: 0.8410 - lr: 0.0010 - 84s/epoch - 19ms/step
Epoch 26/100
4378/4378 - 83s - loss: 0.2757 - accuracy: 0.8603 - val_loss: 0.3266 - val_accuracy: 0.8265 - lr: 0.0010 - 83s/epoch - 19ms/step
Epoch 27/100
4378/4378 - 85s - loss: 0.2752 - accuracy: 0.8611 - val_loss: 0.3316 - val_accuracy: 0.8233 - lr: 0.0010 - 85s/epoch - 19ms/step
Epoch 28/100
4378/4378 - 85s - loss: 0.2753 - accuracy: 0.8598 - val_loss: 0.3188 - val_accuracy: 0.8363 - lr: 0.0010 - 85s/epoch - 19ms/step
Epoch 29/100
4378/4378 - 86s - loss: 0.2763 - accuracy: 0.8593 - val_loss: 0.3151 - val_accuracy: 0.8430 - lr: 0.0010 - 86s/epoch - 20ms/step
Epoch 30/100
4378/4378 - 85s - loss: 0.2750 - accuracy: 0.8619 - val_loss: 0.3299 - val_accuracy: 0.8242 - lr: 0.0010 - 85s/epoch - 19ms/step
Epoch 31/100
4378/4378 - 85s - loss: 0.2752 - accuracy: 0.8606 - val_loss: 0.3329 - val_accuracy: 0.8190 - lr: 0.0010 - 85s/epoch - 19ms/step
Epoch 32/100
4378/4378 - 84s - loss: 0.2744 - accuracy: 0.8627 - val_loss: 0.3184 - val_accuracy: 0.8387 - lr: 0.0010 - 84s/epoch - 19ms/step
Epoch 33/100
4378/4378 - 85s - loss: 0.2748 - accuracy: 0.8619 - val_loss: 0.3221 - val_accuracy: 0.8334 - lr: 0.0010 - 85s/epoch - 19ms/step
Epoch 34/100
4378/4378 - 86s - loss: 0.2743 - accuracy: 0.8618 - val_loss: 0.3209 - val_accuracy: 0.8349 - lr: 0.0010 - 86s/epoch - 20ms/step
Epoch 35/100
4378/4378 - 87s - loss: 0.2745 - accuracy: 0.8618 - val_loss: 0.3150 - val_accuracy: 0.8419 - lr: 0.0010 - 87s/epoch - 20ms/step
Epoch 36/100
4378/4378 - 86s - loss: 0.2751 - accuracy: 0.8612 - val_loss: 0.3218 - val_accuracy: 0.8329 - lr: 0.0010 - 86s/epoch - 20ms/step
Epoch 37/100
4378/4378 - 86s - loss: 0.2745 - accuracy: 0.8626 - val_loss: 0.3194 - val_accuracy: 0.8386 - lr: 0.0010 - 86s/epoch - 20ms/step
Epoch 38/100
4378/4378 - 85s - loss: 0.2751 - accuracy: 0.8608 - val_loss: 0.3267 - val_accuracy: 0.8256 - lr: 0.0010 - 85s/epoch - 19ms/step
Epoch 39/100
4378/4378 - 88s - loss: 0.2746 - accuracy: 0.8621 - val_loss: 0.3286 - val_accuracy: 0.8285 - lr: 0.0010 - 88s/epoch - 20ms/step
Epoch 40/100
4378/4378 - 84s - loss: 0.2746 - accuracy: 0.8624 - val_loss: 0.3332 - val_accuracy: 0.8201 - lr: 0.0010 - 84s/epoch - 19ms/step
Epoch 41/100
4378/4378 - 85s - loss: 0.2752 - accuracy: 0.8608 - val_loss: 0.3275 - val_accuracy: 0.8298 - lr: 0.0010 - 85s/epoch - 19ms/step
Epoch 42/100
4378/4378 - 83s - loss: 0.2751 - accuracy: 0.8607 - val_loss: 0.3287 - val_accuracy: 0.8234 - lr: 0.0010 - 83s/epoch - 19ms/step
Epoch 43/100
4378/4378 - 84s - loss: 0.2749 - accuracy: 0.8613 - val_loss: 0.3202 - val_accuracy: 0.8388 - lr: 0.0010 - 84s/epoch - 19ms/step
Epoch 44/100
4378/4378 - 85s - loss: 0.2754 - accuracy: 0.8615 - val_loss: 0.3194 - val_accuracy: 0.8389 - lr: 0.0010 - 85s/epoch - 19ms/step
Epoch 45/100
4378/4378 - 85s - loss: 0.2744 - accuracy: 0.8615 - val_loss: 0.3205 - val_accuracy: 0.8320 - lr: 0.0010 - 85s/epoch - 20ms/step
Epoch 46/100
4378/4378 - 85s - loss: 0.2745 - accuracy: 0.8623 - val_loss: 0.3210 - val_accuracy: 0.8336 - lr: 0.0010 - 85s/epoch - 19ms/step
Epoch 47/100
4378/4378 - 86s - loss: 0.2752 - accuracy: 0.8605 - val_loss: 0.3155 - val_accuracy: 0.8433 - lr: 0.0010 - 86s/epoch - 20ms/step
Epoch 48/100
4378/4378 - 85s - loss: 0.2749 - accuracy: 0.8615 - val_loss: 0.3251 - val_accuracy: 0.8362 - lr: 0.0010 - 85s/epoch - 19ms/step
Epoch 49/100
4378/4378 - 89s - loss: 0.2745 - accuracy: 0.8624 - val_loss: 0.3227 - val_accuracy: 0.8337 - lr: 0.0010 - 89s/epoch - 20ms/step
Epoch 50/100
4378/4378 - 81s - loss: 0.2743 - accuracy: 0.8622 - val_loss: 0.3225 - val_accuracy: 0.8335 - lr: 0.0010 - 81s/epoch - 18ms/step
Epoch 51/100
4378/4378 - 84s - loss: 0.2743 - accuracy: 0.8622 - val_loss: 0.3297 - val_accuracy: 0.8277 - lr: 0.0010 - 84s/epoch - 19ms/step
Epoch 52/100
4378/4378 - 84s - loss: 0.2748 - accuracy: 0.8614 - val_loss: 0.3263 - val_accuracy: 0.8243 - lr: 0.0010 - 84s/epoch - 19ms/step
Epoch 53/100
4378/4378 - 84s - loss: 0.2741 - accuracy: 0.8631 - val_loss: 0.3296 - val_accuracy: 0.8260 - lr: 0.0010 - 84s/epoch - 19ms/step
Epoch 54/100
4378/4378 - 81s - loss: 0.2744 - accuracy: 0.8625 - val_loss: 0.3227 - val_accuracy: 0.8341 - lr: 0.0010 - 81s/epoch - 19ms/step
Epoch 55/100
4378/4378 - 84s - loss: 0.2755 - accuracy: 0.8610 - val_loss: 0.3200 - val_accuracy: 0.8371 - lr: 0.0010 - 84s/epoch - 19ms/step
Epoch 56/100
4378/4378 - 84s - loss: 0.2749 - accuracy: 0.8619 - val_loss: 0.3281 - val_accuracy: 0.8291 - lr: 0.0010 - 84s/epoch - 19ms/step
Epoch 57/100
4378/4378 - 89s - loss: 0.2740 - accuracy: 0.8633 - val_loss: 0.3181 - val_accuracy: 0.8381 - lr: 0.0010 - 89s/epoch - 20ms/step
Epoch 58/100
4378/4378 - 88s - loss: 0.2747 - accuracy: 0.8618 - val_loss: 0.3226 - val_accuracy: 0.8300 - lr: 0.0010 - 88s/epoch - 20ms/step
Epoch 59/100
4378/4378 - 88s - loss: 0.2743 - accuracy: 0.8625 - val_loss: 0.3177 - val_accuracy: 0.8387 - lr: 0.0010 - 88s/epoch - 20ms/step
Epoch 60/100
4378/4378 - 89s - loss: 0.2741 - accuracy: 0.8631 - val_loss: 0.3227 - val_accuracy: 0.8299 - lr: 0.0010 - 89s/epoch - 20ms/step
Epoch 61/100
4378/4378 - 96s - loss: 0.2744 - accuracy: 0.8608 - val_loss: 0.3184 - val_accuracy: 0.8362 - lr: 0.0010 - 96s/epoch - 22ms/step
Epoch 62/100
4378/4378 - 89s - loss: 0.2745 - accuracy: 0.8613 - val_loss: 0.3292 - val_accuracy: 0.8253 - lr: 0.0010 - 89s/epoch - 20ms/step
Epoch 63/100
4378/4378 - 89s - loss: 0.2751 - accuracy: 0.8615 - val_loss: 0.3247 - val_accuracy: 0.8318 - lr: 0.0010 - 89s/epoch - 20ms/step
Epoch 64/100
4378/4378 - 74s - loss: 0.2750 - accuracy: 0.8603 - val_loss: 0.3207 - val_accuracy: 0.8324 - lr: 0.0010 - 74s/epoch - 17ms/step
Epoch 65/100
4378/4378 - 71s - loss: 0.2744 - accuracy: 0.8626 - val_loss: 0.3227 - val_accuracy: 0.8335 - lr: 0.0010 - 71s/epoch - 16ms/step
Epoch 66/100
4378/4378 - 71s - loss: 0.2747 - accuracy: 0.8627 - val_loss: 0.3284 - val_accuracy: 0.8255 - lr: 0.0010 - 71s/epoch - 16ms/step
Epoch 67/100
4378/4378 - 71s - loss: 0.2746 - accuracy: 0.8620 - val_loss: 0.3152 - val_accuracy: 0.8461 - lr: 0.0010 - 71s/epoch - 16ms/step
Epoch 68/100
4378/4378 - 71s - loss: 0.2745 - accuracy: 0.8617 - val_loss: 0.3191 - val_accuracy: 0.8380 - lr: 0.0010 - 71s/epoch - 16ms/step
Epoch 69/100
4378/4378 - 71s - loss: 0.2738 - accuracy: 0.8643 - val_loss: 0.3248 - val_accuracy: 0.8292 - lr: 0.0010 - 71s/epoch - 16ms/step
Epoch 70/100
4378/4378 - 71s - loss: 0.2745 - accuracy: 0.8622 - val_loss: 0.3229 - val_accuracy: 0.8302 - lr: 0.0010 - 71s/epoch - 16ms/step
Epoch 71/100
4378/4378 - 71s - loss: 0.2746 - accuracy: 0.8618 - val_loss: 0.3270 - val_accuracy: 0.8288 - lr: 0.0010 - 71s/epoch - 16ms/step
Epoch 72/100
4378/4378 - 72s - loss: 0.2743 - accuracy: 0.8615 - val_loss: 0.3221 - val_accuracy: 0.8351 - lr: 0.0010 - 72s/epoch - 16ms/step
Epoch 73/100
4378/4378 - 71s - loss: 0.2744 - accuracy: 0.8618 - val_loss: 0.3191 - val_accuracy: 0.8403 - lr: 0.0010 - 71s/epoch - 16ms/step
Epoch 74/100
4378/4378 - 71s - loss: 0.2740 - accuracy: 0.8631 - val_loss: 0.3226 - val_accuracy: 0.8347 - lr: 0.0010 - 71s/epoch - 16ms/step
Epoch 75/100
4378/4378 - 71s - loss: 0.2738 - accuracy: 0.8639 - val_loss: 0.3258 - val_accuracy: 0.8245 - lr: 0.0010 - 71s/epoch - 16ms/step
Epoch 76/100
4378/4378 - 71s - loss: 0.2744 - accuracy: 0.8623 - val_loss: 0.3205 - val_accuracy: 0.8369 - lr: 0.0010 - 71s/epoch - 16ms/step
Epoch 77/100
4378/4378 - 71s - loss: 0.2737 - accuracy: 0.8643 - val_loss: 0.3179 - val_accuracy: 0.8390 - lr: 0.0010 - 71s/epoch - 16ms/step
Epoch 78/100
4378/4378 - 71s - loss: 0.2743 - accuracy: 0.8620 - val_loss: 0.3222 - val_accuracy: 0.8345 - lr: 0.0010 - 71s/epoch - 16ms/step
Epoch 79/100
4378/4378 - 71s - loss: 0.2741 - accuracy: 0.8629 - val_loss: 0.3216 - val_accuracy: 0.8350 - lr: 0.0010 - 71s/epoch - 16ms/step
Epoch 80/100
4378/4378 - 71s - loss: 0.2747 - accuracy: 0.8620 - val_loss: 0.3319 - val_accuracy: 0.8168 - lr: 0.0010 - 71s/epoch - 16ms/step
Epoch 81/100
4378/4378 - 71s - loss: 0.2738 - accuracy: 0.8623 - val_loss: 0.3223 - val_accuracy: 0.8314 - lr: 0.0010 - 71s/epoch - 16ms/step
Epoch 82/100
4378/4378 - 71s - loss: 0.2741 - accuracy: 0.8623 - val_loss: 0.3257 - val_accuracy: 0.8270 - lr: 0.0010 - 71s/epoch - 16ms/step
Epoch 83/100
4378/4378 - 83s - loss: 0.2745 - accuracy: 0.8624 - val_loss: 0.3142 - val_accuracy: 0.8453 - lr: 0.0010 - 83s/epoch - 19ms/step
Epoch 84/100
4378/4378 - 87s - loss: 0.2740 - accuracy: 0.8626 - val_loss: 0.3168 - val_accuracy: 0.8425 - lr: 0.0010 - 87s/epoch - 20ms/step
Epoch 85/100
4378/4378 - 84s - loss: 0.2739 - accuracy: 0.8631 - val_loss: 0.3206 - val_accuracy: 0.8368 - lr: 0.0010 - 84s/epoch - 19ms/step
Epoch 86/100
4378/4378 - 94s - loss: 0.2738 - accuracy: 0.8629 - val_loss: 0.3124 - val_accuracy: 0.8423 - lr: 0.0010 - 94s/epoch - 22ms/step
Epoch 87/100
4378/4378 - 98s - loss: 0.2741 - accuracy: 0.8637 - val_loss: 0.3155 - val_accuracy: 0.8457 - lr: 0.0010 - 98s/epoch - 22ms/step
Epoch 88/100
4378/4378 - 97s - loss: 0.2744 - accuracy: 0.8620 - val_loss: 0.3316 - val_accuracy: 0.8307 - lr: 0.0010 - 97s/epoch - 22ms/step
Epoch 89/100
4378/4378 - 97s - loss: 0.2737 - accuracy: 0.8624 - val_loss: 0.3246 - val_accuracy: 0.8308 - lr: 0.0010 - 97s/epoch - 22ms/step
Epoch 90/100
4378/4378 - 97s - loss: 0.2737 - accuracy: 0.8636 - val_loss: 0.3288 - val_accuracy: 0.8275 - lr: 0.0010 - 97s/epoch - 22ms/step
Epoch 91/100
4378/4378 - 100s - loss: 0.2737 - accuracy: 0.8640 - val_loss: 0.3237 - val_accuracy: 0.8306 - lr: 0.0010 - 100s/epoch - 23ms/step
Epoch 92/100
4378/4378 - 84s - loss: 0.2735 - accuracy: 0.8646 - val_loss: 0.3194 - val_accuracy: 0.8348 - lr: 0.0010 - 84s/epoch - 19ms/step
Epoch 93/100
4378/4378 - 72s - loss: 0.2740 - accuracy: 0.8637 - val_loss: 0.3243 - val_accuracy: 0.8281 - lr: 0.0010 - 72s/epoch - 16ms/step
Epoch 94/100
4378/4378 - 93s - loss: 0.2740 - accuracy: 0.8623 - val_loss: 0.3122 - val_accuracy: 0.8494 - lr: 0.0010 - 93s/epoch - 21ms/step
Epoch 95/100
4378/4378 - 86s - loss: 0.2739 - accuracy: 0.8624 - val_loss: 0.3214 - val_accuracy: 0.8346 - lr: 0.0010 - 86s/epoch - 20ms/step
Epoch 96/100
4378/4378 - 89s - loss: 0.2738 - accuracy: 0.8640 - val_loss: 0.3175 - val_accuracy: 0.8426 - lr: 0.0010 - 89s/epoch - 20ms/step
Epoch 97/100
4378/4378 - 86s - loss: 0.2740 - accuracy: 0.8622 - val_loss: 0.3234 - val_accuracy: 0.8310 - lr: 0.0010 - 86s/epoch - 20ms/step
Epoch 98/100
4378/4378 - 89s - loss: 0.2748 - accuracy: 0.8612 - val_loss: 0.3224 - val_accuracy: 0.8306 - lr: 0.0010 - 89s/epoch - 20ms/step
Epoch 99/100
4378/4378 - 89s - loss: 0.2742 - accuracy: 0.8620 - val_loss: 0.3215 - val_accuracy: 0.8335 - lr: 0.0010 - 89s/epoch - 20ms/step
Epoch 100/100
4378/4378 - 89s - loss: 0.2741 - accuracy: 0.8637 - val_loss: 0.3248 - val_accuracy: 0.8294 - lr: 0.0010 - 89s/epoch - 20ms/step
fitting with batch size: 100
Epoch 1/100
876/876 - 32s - loss: 0.2675 - accuracy: 0.8760 - val_loss: 0.3252 - val_accuracy: 0.8298 - lr: 0.0010 - 32s/epoch - 36ms/step
Epoch 2/100
876/876 - 25s - loss: 0.2661 - accuracy: 0.8798 - val_loss: 0.3252 - val_accuracy: 0.8305 - lr: 0.0010 - 25s/epoch - 29ms/step
Epoch 3/100
876/876 - 26s - loss: 0.2657 - accuracy: 0.8798 - val_loss: 0.3237 - val_accuracy: 0.8324 - lr: 0.0010 - 26s/epoch - 29ms/step
Epoch 4/100
876/876 - 23s - loss: 0.2655 - accuracy: 0.8805 - val_loss: 0.3264 - val_accuracy: 0.8293 - lr: 0.0010 - 23s/epoch - 26ms/step
Epoch 5/100
876/876 - 25s - loss: 0.2654 - accuracy: 0.8801 - val_loss: 0.3251 - val_accuracy: 0.8330 - lr: 0.0010 - 25s/epoch - 28ms/step
Epoch 6/100
876/876 - 26s - loss: 0.2649 - accuracy: 0.8817 - val_loss: 0.3249 - val_accuracy: 0.8323 - lr: 0.0010 - 26s/epoch - 29ms/step
Epoch 7/100
876/876 - 25s - loss: 0.2648 - accuracy: 0.8819 - val_loss: 0.3231 - val_accuracy: 0.8330 - lr: 0.0010 - 25s/epoch - 29ms/step
Epoch 8/100
876/876 - 25s - loss: 0.2644 - accuracy: 0.8829 - val_loss: 0.3224 - val_accuracy: 0.8335 - lr: 0.0010 - 25s/epoch - 28ms/step
Epoch 9/100
876/876 - 26s - loss: 0.2651 - accuracy: 0.8812 - val_loss: 0.3252 - val_accuracy: 0.8305 - lr: 0.0010 - 26s/epoch - 29ms/step
Epoch 10/100
876/876 - 25s - loss: 0.2647 - accuracy: 0.8823 - val_loss: 0.3265 - val_accuracy: 0.8278 - lr: 0.0010 - 25s/epoch - 28ms/step
Epoch 11/100
876/876 - 25s - loss: 0.2646 - accuracy: 0.8822 - val_loss: 0.3236 - val_accuracy: 0.8332 - lr: 0.0010 - 25s/epoch - 28ms/step
Epoch 12/100
876/876 - 26s - loss: 0.2647 - accuracy: 0.8828 - val_loss: 0.3242 - val_accuracy: 0.8327 - lr: 0.0010 - 26s/epoch - 29ms/step
Epoch 13/100
876/876 - 25s - loss: 0.2648 - accuracy: 0.8820 - val_loss: 0.3234 - val_accuracy: 0.8343 - lr: 0.0010 - 25s/epoch - 28ms/step
Epoch 14/100
876/876 - 24s - loss: 0.2641 - accuracy: 0.8839 - val_loss: 0.3258 - val_accuracy: 0.8309 - lr: 0.0010 - 24s/epoch - 28ms/step
Epoch 15/100
876/876 - 25s - loss: 0.2642 - accuracy: 0.8834 - val_loss: 0.3260 - val_accuracy: 0.8316 - lr: 0.0010 - 25s/epoch - 29ms/step
Epoch 16/100
876/876 - 26s - loss: 0.2642 - accuracy: 0.8827 - val_loss: 0.3228 - val_accuracy: 0.8346 - lr: 0.0010 - 26s/epoch - 30ms/step
Epoch 17/100
876/876 - 25s - loss: 0.2642 - accuracy: 0.8833 - val_loss: 0.3248 - val_accuracy: 0.8309 - lr: 0.0010 - 25s/epoch - 29ms/step
Epoch 18/100
876/876 - 27s - loss: 0.2641 - accuracy: 0.8837 - val_loss: 0.3250 - val_accuracy: 0.8310 - lr: 0.0010 - 27s/epoch - 31ms/step
Epoch 19/100
876/876 - 27s - loss: 0.2642 - accuracy: 0.8840 - val_loss: 0.3218 - val_accuracy: 0.8364 - lr: 0.0010 - 27s/epoch - 31ms/step
Epoch 20/100
876/876 - 24s - loss: 0.2640 - accuracy: 0.8837 - val_loss: 0.3243 - val_accuracy: 0.8327 - lr: 0.0010 - 24s/epoch - 28ms/step
Epoch 21/100
876/876 - 26s - loss: 0.2640 - accuracy: 0.8839 - val_loss: 0.3255 - val_accuracy: 0.8314 - lr: 0.0010 - 26s/epoch - 30ms/step
Epoch 22/100
876/876 - 25s - loss: 0.2636 - accuracy: 0.8851 - val_loss: 0.3232 - val_accuracy: 0.8340 - lr: 0.0010 - 25s/epoch - 29ms/step
Epoch 23/100
876/876 - 26s - loss: 0.2640 - accuracy: 0.8838 - val_loss: 0.3257 - val_accuracy: 0.8307 - lr: 0.0010 - 26s/epoch - 29ms/step
Epoch 24/100
876/876 - 26s - loss: 0.2640 - accuracy: 0.8840 - val_loss: 0.3219 - val_accuracy: 0.8368 - lr: 0.0010 - 26s/epoch - 29ms/step
Epoch 25/100
876/876 - 25s - loss: 0.2636 - accuracy: 0.8842 - val_loss: 0.3240 - val_accuracy: 0.8327 - lr: 0.0010 - 25s/epoch - 29ms/step
Epoch 26/100
876/876 - 24s - loss: 0.2640 - accuracy: 0.8835 - val_loss: 0.3256 - val_accuracy: 0.8316 - lr: 0.0010 - 24s/epoch - 28ms/step
Epoch 27/100
876/876 - 24s - loss: 0.2642 - accuracy: 0.8822 - val_loss: 0.3234 - val_accuracy: 0.8356 - lr: 0.0010 - 24s/epoch - 27ms/step
Epoch 28/100
876/876 - 25s - loss: 0.2637 - accuracy: 0.8844 - val_loss: 0.3241 - val_accuracy: 0.8342 - lr: 0.0010 - 25s/epoch - 28ms/step
Epoch 29/100
876/876 - 26s - loss: 0.2640 - accuracy: 0.8836 - val_loss: 0.3250 - val_accuracy: 0.8317 - lr: 0.0010 - 26s/epoch - 29ms/step
Epoch 30/100
876/876 - 24s - loss: 0.2638 - accuracy: 0.8842 - val_loss: 0.3232 - val_accuracy: 0.8355 - lr: 0.0010 - 24s/epoch - 28ms/step
Epoch 31/100
876/876 - 26s - loss: 0.2637 - accuracy: 0.8837 - val_loss: 0.3244 - val_accuracy: 0.8335 - lr: 0.0010 - 26s/epoch - 30ms/step
Epoch 32/100
876/876 - 26s - loss: 0.2640 - accuracy: 0.8840 - val_loss: 0.3247 - val_accuracy: 0.8326 - lr: 0.0010 - 26s/epoch - 29ms/step
Epoch 33/100
876/876 - 26s - loss: 0.2638 - accuracy: 0.8848 - val_loss: 0.3254 - val_accuracy: 0.8321 - lr: 0.0010 - 26s/epoch - 29ms/step
Epoch 34/100
876/876 - 25s - loss: 0.2639 - accuracy: 0.8833 - val_loss: 0.3234 - val_accuracy: 0.8348 - lr: 0.0010 - 25s/epoch - 28ms/step
Epoch 35/100
876/876 - 26s - loss: 0.2636 - accuracy: 0.8849 - val_loss: 0.3239 - val_accuracy: 0.8344 - lr: 0.0010 - 26s/epoch - 29ms/step
Epoch 36/100
876/876 - 26s - loss: 0.2636 - accuracy: 0.8851 - val_loss: 0.3246 - val_accuracy: 0.8346 - lr: 0.0010 - 26s/epoch - 30ms/step
Epoch 37/100
876/876 - 25s - loss: 0.2635 - accuracy: 0.8840 - val_loss: 0.3254 - val_accuracy: 0.8326 - lr: 0.0010 - 25s/epoch - 29ms/step
Epoch 38/100
876/876 - 26s - loss: 0.2635 - accuracy: 0.8842 - val_loss: 0.3264 - val_accuracy: 0.8306 - lr: 0.0010 - 26s/epoch - 30ms/step
Epoch 39/100
876/876 - 26s - loss: 0.2638 - accuracy: 0.8844 - val_loss: 0.3251 - val_accuracy: 0.8333 - lr: 0.0010 - 26s/epoch - 30ms/step
Epoch 40/100
876/876 - 26s - loss: 0.2632 - accuracy: 0.8860 - val_loss: 0.3264 - val_accuracy: 0.8310 - lr: 0.0010 - 26s/epoch - 29ms/step
Epoch 41/100
876/876 - 26s - loss: 0.2634 - accuracy: 0.8856 - val_loss: 0.3251 - val_accuracy: 0.8327 - lr: 0.0010 - 26s/epoch - 30ms/step
Epoch 42/100
876/876 - 27s - loss: 0.2635 - accuracy: 0.8852 - val_loss: 0.3215 - val_accuracy: 0.8377 - lr: 0.0010 - 27s/epoch - 31ms/step
Epoch 43/100
876/876 - 26s - loss: 0.2636 - accuracy: 0.8852 - val_loss: 0.3239 - val_accuracy: 0.8334 - lr: 0.0010 - 26s/epoch - 30ms/step
Epoch 44/100
876/876 - 27s - loss: 0.2635 - accuracy: 0.8844 - val_loss: 0.3258 - val_accuracy: 0.8319 - lr: 0.0010 - 27s/epoch - 31ms/step
Epoch 45/100
876/876 - 27s - loss: 0.2633 - accuracy: 0.8856 - val_loss: 0.3263 - val_accuracy: 0.8318 - lr: 0.0010 - 27s/epoch - 31ms/step
Epoch 46/100
876/876 - 26s - loss: 0.2633 - accuracy: 0.8855 - val_loss: 0.3246 - val_accuracy: 0.8342 - lr: 0.0010 - 26s/epoch - 30ms/step
Epoch 47/100
876/876 - 25s - loss: 0.2635 - accuracy: 0.8843 - val_loss: 0.3259 - val_accuracy: 0.8335 - lr: 0.0010 - 25s/epoch - 29ms/step
Epoch 48/100
876/876 - 25s - loss: 0.2637 - accuracy: 0.8849 - val_loss: 0.3258 - val_accuracy: 0.8319 - lr: 0.0010 - 25s/epoch - 29ms/step
Epoch 49/100
876/876 - 25s - loss: 0.2633 - accuracy: 0.8847 - val_loss: 0.3262 - val_accuracy: 0.8324 - lr: 0.0010 - 25s/epoch - 29ms/step
Epoch 50/100
876/876 - 27s - loss: 0.2635 - accuracy: 0.8853 - val_loss: 0.3231 - val_accuracy: 0.8354 - lr: 0.0010 - 27s/epoch - 31ms/step
Epoch 51/100
876/876 - 27s - loss: 0.2628 - accuracy: 0.8856 - val_loss: 0.3238 - val_accuracy: 0.8350 - lr: 0.0010 - 27s/epoch - 30ms/step
Epoch 52/100
876/876 - 27s - loss: 0.2633 - accuracy: 0.8849 - val_loss: 0.3264 - val_accuracy: 0.8298 - lr: 0.0010 - 27s/epoch - 31ms/step
Epoch 53/100
876/876 - 27s - loss: 0.2633 - accuracy: 0.8846 - val_loss: 0.3272 - val_accuracy: 0.8303 - lr: 0.0010 - 27s/epoch - 30ms/step
Epoch 54/100
876/876 - 26s - loss: 0.2629 - accuracy: 0.8854 - val_loss: 0.3272 - val_accuracy: 0.8296 - lr: 0.0010 - 26s/epoch - 29ms/step
Epoch 55/100
876/876 - 23s - loss: 0.2630 - accuracy: 0.8857 - val_loss: 0.3253 - val_accuracy: 0.8344 - lr: 0.0010 - 23s/epoch - 27ms/step
Epoch 56/100
876/876 - 24s - loss: 0.2628 - accuracy: 0.8857 - val_loss: 0.3229 - val_accuracy: 0.8362 - lr: 0.0010 - 24s/epoch - 28ms/step
Epoch 57/100
876/876 - 26s - loss: 0.2631 - accuracy: 0.8852 - val_loss: 0.3285 - val_accuracy: 0.8294 - lr: 0.0010 - 26s/epoch - 30ms/step
Epoch 58/100
876/876 - 27s - loss: 0.2629 - accuracy: 0.8859 - val_loss: 0.3253 - val_accuracy: 0.8323 - lr: 0.0010 - 27s/epoch - 30ms/step
Epoch 59/100
876/876 - 26s - loss: 0.2631 - accuracy: 0.8858 - val_loss: 0.3263 - val_accuracy: 0.8319 - lr: 0.0010 - 26s/epoch - 30ms/step
Epoch 60/100
876/876 - 26s - loss: 0.2631 - accuracy: 0.8852 - val_loss: 0.3250 - val_accuracy: 0.8345 - lr: 0.0010 - 26s/epoch - 29ms/step
Epoch 61/100
876/876 - 26s - loss: 0.2630 - accuracy: 0.8858 - val_loss: 0.3228 - val_accuracy: 0.8362 - lr: 0.0010 - 26s/epoch - 29ms/step
Epoch 62/100
876/876 - 25s - loss: 0.2632 - accuracy: 0.8845 - val_loss: 0.3275 - val_accuracy: 0.8292 - lr: 0.0010 - 25s/epoch - 29ms/step
Epoch 63/100
876/876 - 23s - loss: 0.2623 - accuracy: 0.8860 - val_loss: 0.3258 - val_accuracy: 0.8322 - lr: 0.0010 - 23s/epoch - 26ms/step
Epoch 64/100
876/876 - 23s - loss: 0.2632 - accuracy: 0.8857 - val_loss: 0.3270 - val_accuracy: 0.8320 - lr: 0.0010 - 23s/epoch - 27ms/step
Epoch 65/100
876/876 - 24s - loss: 0.2630 - accuracy: 0.8858 - val_loss: 0.3268 - val_accuracy: 0.8310 - lr: 0.0010 - 24s/epoch - 27ms/step
Epoch 66/100
876/876 - 24s - loss: 0.2628 - accuracy: 0.8856 - val_loss: 0.3260 - val_accuracy: 0.8324 - lr: 0.0010 - 24s/epoch - 27ms/step
Epoch 67/100
876/876 - 24s - loss: 0.2628 - accuracy: 0.8863 - val_loss: 0.3279 - val_accuracy: 0.8285 - lr: 0.0010 - 24s/epoch - 27ms/step
Epoch 68/100
876/876 - 24s - loss: 0.2627 - accuracy: 0.8854 - val_loss: 0.3257 - val_accuracy: 0.8335 - lr: 0.0010 - 24s/epoch - 28ms/step
Epoch 69/100
876/876 - 25s - loss: 0.2631 - accuracy: 0.8851 - val_loss: 0.3282 - val_accuracy: 0.8293 - lr: 0.0010 - 25s/epoch - 29ms/step
Epoch 70/100
876/876 - 25s - loss: 0.2627 - accuracy: 0.8856 - val_loss: 0.3266 - val_accuracy: 0.8310 - lr: 0.0010 - 25s/epoch - 29ms/step
Epoch 71/100
876/876 - 24s - loss: 0.2628 - accuracy: 0.8860 - val_loss: 0.3301 - val_accuracy: 0.8263 - lr: 0.0010 - 24s/epoch - 28ms/step
Epoch 72/100
876/876 - 25s - loss: 0.2626 - accuracy: 0.8858 - val_loss: 0.3275 - val_accuracy: 0.8320 - lr: 0.0010 - 25s/epoch - 29ms/step
Epoch 73/100
876/876 - 26s - loss: 0.2625 - accuracy: 0.8861 - val_loss: 0.3278 - val_accuracy: 0.8297 - lr: 0.0010 - 26s/epoch - 29ms/step
Epoch 74/100
876/876 - 23s - loss: 0.2629 - accuracy: 0.8859 - val_loss: 0.3248 - val_accuracy: 0.8346 - lr: 0.0010 - 23s/epoch - 27ms/step
Epoch 75/100
876/876 - 24s - loss: 0.2629 - accuracy: 0.8856 - val_loss: 0.3231 - val_accuracy: 0.8364 - lr: 0.0010 - 24s/epoch - 28ms/step
Epoch 76/100
876/876 - 24s - loss: 0.2628 - accuracy: 0.8866 - val_loss: 0.3285 - val_accuracy: 0.8294 - lr: 0.0010 - 24s/epoch - 27ms/step
Epoch 77/100
876/876 - 24s - loss: 0.2630 - accuracy: 0.8856 - val_loss: 0.3297 - val_accuracy: 0.8281 - lr: 0.0010 - 24s/epoch - 28ms/step
Epoch 78/100
876/876 - 24s - loss: 0.2627 - accuracy: 0.8865 - val_loss: 0.3278 - val_accuracy: 0.8306 - lr: 0.0010 - 24s/epoch - 28ms/step
Epoch 79/100
876/876 - 24s - loss: 0.2626 - accuracy: 0.8862 - val_loss: 0.3294 - val_accuracy: 0.8284 - lr: 0.0010 - 24s/epoch - 27ms/step
Epoch 80/100
876/876 - 24s - loss: 0.2626 - accuracy: 0.8862 - val_loss: 0.3271 - val_accuracy: 0.8311 - lr: 0.0010 - 24s/epoch - 28ms/step
Epoch 81/100
876/876 - 26s - loss: 0.2629 - accuracy: 0.8857 - val_loss: 0.3293 - val_accuracy: 0.8278 - lr: 0.0010 - 26s/epoch - 29ms/step
Epoch 82/100
876/876 - 26s - loss: 0.2625 - accuracy: 0.8869 - val_loss: 0.3276 - val_accuracy: 0.8308 - lr: 0.0010 - 26s/epoch - 29ms/step
Epoch 83/100
876/876 - 26s - loss: 0.2626 - accuracy: 0.8863 - val_loss: 0.3240 - val_accuracy: 0.8340 - lr: 0.0010 - 26s/epoch - 30ms/step
Epoch 84/100
876/876 - 26s - loss: 0.2626 - accuracy: 0.8858 - val_loss: 0.3258 - val_accuracy: 0.8340 - lr: 0.0010 - 26s/epoch - 30ms/step
Epoch 85/100
876/876 - 26s - loss: 0.2624 - accuracy: 0.8868 - val_loss: 0.3307 - val_accuracy: 0.8276 - lr: 0.0010 - 26s/epoch - 30ms/step
Epoch 86/100
876/876 - 26s - loss: 0.2629 - accuracy: 0.8848 - val_loss: 0.3274 - val_accuracy: 0.8298 - lr: 0.0010 - 26s/epoch - 30ms/step
Epoch 87/100
876/876 - 26s - loss: 0.2630 - accuracy: 0.8859 - val_loss: 0.3249 - val_accuracy: 0.8329 - lr: 0.0010 - 26s/epoch - 30ms/step
Epoch 88/100
876/876 - 24s - loss: 0.2624 - accuracy: 0.8868 - val_loss: 0.3312 - val_accuracy: 0.8256 - lr: 0.0010 - 24s/epoch - 27ms/step
Epoch 89/100
876/876 - 25s - loss: 0.2620 - accuracy: 0.8867 - val_loss: 0.3291 - val_accuracy: 0.8282 - lr: 0.0010 - 25s/epoch - 28ms/step
Epoch 90/100
876/876 - 25s - loss: 0.2631 - accuracy: 0.8855 - val_loss: 0.3285 - val_accuracy: 0.8298 - lr: 0.0010 - 25s/epoch - 28ms/step
Epoch 91/100
876/876 - 25s - loss: 0.2627 - accuracy: 0.8869 - val_loss: 0.3286 - val_accuracy: 0.8305 - lr: 0.0010 - 25s/epoch - 29ms/step
Epoch 92/100
876/876 - 25s - loss: 0.2625 - accuracy: 0.8864 - val_loss: 0.3301 - val_accuracy: 0.8269 - lr: 0.0010 - 25s/epoch - 29ms/step
Epoch 93/100
876/876 - 26s - loss: 0.2626 - accuracy: 0.8868 - val_loss: 0.3287 - val_accuracy: 0.8299 - lr: 0.0010 - 26s/epoch - 29ms/step
Epoch 94/100
876/876 - 24s - loss: 0.2625 - accuracy: 0.8853 - val_loss: 0.3274 - val_accuracy: 0.8319 - lr: 0.0010 - 24s/epoch - 27ms/step
Epoch 95/100
876/876 - 23s - loss: 0.2623 - accuracy: 0.8867 - val_loss: 0.3280 - val_accuracy: 0.8301 - lr: 0.0010 - 23s/epoch - 26ms/step
Epoch 96/100
876/876 - 24s - loss: 0.2626 - accuracy: 0.8866 - val_loss: 0.3288 - val_accuracy: 0.8289 - lr: 0.0010 - 24s/epoch - 27ms/step
Epoch 97/100
876/876 - 25s - loss: 0.2623 - accuracy: 0.8861 - val_loss: 0.3281 - val_accuracy: 0.8303 - lr: 0.0010 - 25s/epoch - 28ms/step
Epoch 98/100
876/876 - 25s - loss: 0.2621 - accuracy: 0.8875 - val_loss: 0.3286 - val_accuracy: 0.8300 - lr: 0.0010 - 25s/epoch - 28ms/step
Epoch 99/100
876/876 - 25s - loss: 0.2622 - accuracy: 0.8874 - val_loss: 0.3298 - val_accuracy: 0.8277 - lr: 0.0010 - 25s/epoch - 28ms/step
Epoch 100/100
876/876 - 23s - loss: 0.2625 - accuracy: 0.8869 - val_loss: 0.3316 - val_accuracy: 0.8256 - lr: 0.0010 - 23s/epoch - 27ms/step
fitting with batch size: 500
Epoch 1/100
176/176 - 43s - loss: 0.2615 - accuracy: 0.8882 - val_loss: 0.3291 - val_accuracy: 0.8294 - lr: 0.0010 - 43s/epoch - 242ms/step
Epoch 2/100
176/176 - 15s - loss: 0.2615 - accuracy: 0.8891 - val_loss: 0.3301 - val_accuracy: 0.8282 - lr: 0.0010 - 15s/epoch - 83ms/step
Epoch 3/100
176/176 - 14s - loss: 0.2613 - accuracy: 0.8890 - val_loss: 0.3284 - val_accuracy: 0.8302 - lr: 0.0010 - 14s/epoch - 80ms/step
Epoch 4/100
176/176 - 14s - loss: 0.2616 - accuracy: 0.8878 - val_loss: 0.3283 - val_accuracy: 0.8303 - lr: 0.0010 - 14s/epoch - 80ms/step
Epoch 5/100
176/176 - 13s - loss: 0.2613 - accuracy: 0.8883 - val_loss: 0.3302 - val_accuracy: 0.8272 - lr: 0.0010 - 13s/epoch - 76ms/step
Epoch 6/100
176/176 - 14s - loss: 0.2614 - accuracy: 0.8883 - val_loss: 0.3291 - val_accuracy: 0.8292 - lr: 0.0010 - 14s/epoch - 77ms/step
Epoch 7/100
176/176 - 14s - loss: 0.2614 - accuracy: 0.8890 - val_loss: 0.3309 - val_accuracy: 0.8272 - lr: 0.0010 - 14s/epoch - 78ms/step
Epoch 8/100
176/176 - 13s - loss: 0.2610 - accuracy: 0.8896 - val_loss: 0.3297 - val_accuracy: 0.8280 - lr: 0.0010 - 13s/epoch - 76ms/step
Epoch 9/100
176/176 - 13s - loss: 0.2612 - accuracy: 0.8896 - val_loss: 0.3302 - val_accuracy: 0.8273 - lr: 0.0010 - 13s/epoch - 74ms/step
Epoch 10/100
176/176 - 14s - loss: 0.2610 - accuracy: 0.8891 - val_loss: 0.3284 - val_accuracy: 0.8300 - lr: 0.0010 - 14s/epoch - 80ms/step
Epoch 11/100
176/176 - 14s - loss: 0.2619 - accuracy: 0.8881 - val_loss: 0.3293 - val_accuracy: 0.8292 - lr: 0.0010 - 14s/epoch - 80ms/step
Epoch 12/100
176/176 - 14s - loss: 0.2610 - accuracy: 0.8888 - val_loss: 0.3283 - val_accuracy: 0.8300 - lr: 0.0010 - 14s/epoch - 77ms/step
Epoch 13/100
176/176 - 14s - loss: 0.2616 - accuracy: 0.8889 - val_loss: 0.3286 - val_accuracy: 0.8302 - lr: 0.0010 - 14s/epoch - 78ms/step
Epoch 14/100
176/176 - 13s - loss: 0.2613 - accuracy: 0.8896 - val_loss: 0.3294 - val_accuracy: 0.8291 - lr: 0.0010 - 13s/epoch - 76ms/step
Epoch 15/100
176/176 - 13s - loss: 0.2609 - accuracy: 0.8895 - val_loss: 0.3288 - val_accuracy: 0.8305 - lr: 0.0010 - 13s/epoch - 75ms/step
Epoch 16/100
176/176 - 15s - loss: 0.2612 - accuracy: 0.8895 - val_loss: 0.3299 - val_accuracy: 0.8277 - lr: 0.0010 - 15s/epoch - 86ms/step
Epoch 17/100
176/176 - 15s - loss: 0.2613 - accuracy: 0.8890 - val_loss: 0.3289 - val_accuracy: 0.8291 - lr: 0.0010 - 15s/epoch - 83ms/step
Epoch 18/100
176/176 - 14s - loss: 0.2611 - accuracy: 0.8888 - val_loss: 0.3287 - val_accuracy: 0.8293 - lr: 0.0010 - 14s/epoch - 77ms/step
Epoch 19/100
176/176 - 13s - loss: 0.2614 - accuracy: 0.8879 - val_loss: 0.3295 - val_accuracy: 0.8288 - lr: 0.0010 - 13s/epoch - 75ms/step
Epoch 20/100
176/176 - 13s - loss: 0.2616 - accuracy: 0.8881 - val_loss: 0.3278 - val_accuracy: 0.8314 - lr: 0.0010 - 13s/epoch - 75ms/step
Epoch 21/100
176/176 - 13s - loss: 0.2613 - accuracy: 0.8891 - val_loss: 0.3286 - val_accuracy: 0.8300 - lr: 0.0010 - 13s/epoch - 75ms/step
Epoch 22/100
176/176 - 13s - loss: 0.2612 - accuracy: 0.8900 - val_loss: 0.3296 - val_accuracy: 0.8283 - lr: 0.0010 - 13s/epoch - 75ms/step
Epoch 23/100
176/176 - 13s - loss: 0.2611 - accuracy: 0.8889 - val_loss: 0.3292 - val_accuracy: 0.8289 - lr: 0.0010 - 13s/epoch - 77ms/step
Epoch 24/100
176/176 - 13s - loss: 0.2614 - accuracy: 0.8887 - val_loss: 0.3279 - val_accuracy: 0.8309 - lr: 0.0010 - 13s/epoch - 73ms/step
Epoch 25/100
176/176 - 13s - loss: 0.2611 - accuracy: 0.8887 - val_loss: 0.3300 - val_accuracy: 0.8284 - lr: 0.0010 - 13s/epoch - 74ms/step
Epoch 26/100
176/176 - 13s - loss: 0.2612 - accuracy: 0.8891 - val_loss: 0.3290 - val_accuracy: 0.8292 - lr: 0.0010 - 13s/epoch - 74ms/step
Epoch 27/100
176/176 - 13s - loss: 0.2611 - accuracy: 0.8898 - val_loss: 0.3297 - val_accuracy: 0.8285 - lr: 0.0010 - 13s/epoch - 73ms/step
Epoch 28/100
176/176 - 13s - loss: 0.2613 - accuracy: 0.8888 - val_loss: 0.3282 - val_accuracy: 0.8301 - lr: 0.0010 - 13s/epoch - 72ms/step
Epoch 29/100
176/176 - 13s - loss: 0.2611 - accuracy: 0.8891 - val_loss: 0.3299 - val_accuracy: 0.8283 - lr: 0.0010 - 13s/epoch - 73ms/step
Epoch 30/100
176/176 - 13s - loss: 0.2612 - accuracy: 0.8885 - val_loss: 0.3280 - val_accuracy: 0.8301 - lr: 0.0010 - 13s/epoch - 76ms/step
Epoch 31/100
176/176 - 12s - loss: 0.2611 - accuracy: 0.8886 - val_loss: 0.3298 - val_accuracy: 0.8282 - lr: 0.0010 - 12s/epoch - 70ms/step
Epoch 32/100
176/176 - 13s - loss: 0.2610 - accuracy: 0.8893 - val_loss: 0.3286 - val_accuracy: 0.8298 - lr: 0.0010 - 13s/epoch - 74ms/step
Epoch 33/100
176/176 - 12s - loss: 0.2615 - accuracy: 0.8872 - val_loss: 0.3297 - val_accuracy: 0.8290 - lr: 0.0010 - 12s/epoch - 70ms/step
Epoch 34/100
176/176 - 10s - loss: 0.2612 - accuracy: 0.8894 - val_loss: 0.3299 - val_accuracy: 0.8282 - lr: 0.0010 - 10s/epoch - 57ms/step
Epoch 35/100
176/176 - 10s - loss: 0.2611 - accuracy: 0.8894 - val_loss: 0.3285 - val_accuracy: 0.8292 - lr: 0.0010 - 10s/epoch - 55ms/step
Epoch 36/100
176/176 - 10s - loss: 0.2611 - accuracy: 0.8889 - val_loss: 0.3292 - val_accuracy: 0.8287 - lr: 0.0010 - 10s/epoch - 59ms/step
Epoch 37/100
176/176 - 14s - loss: 0.2612 - accuracy: 0.8889 - val_loss: 0.3278 - val_accuracy: 0.8306 - lr: 0.0010 - 14s/epoch - 80ms/step
Epoch 38/100
176/176 - 14s - loss: 0.2616 - accuracy: 0.8890 - val_loss: 0.3299 - val_accuracy: 0.8283 - lr: 0.0010 - 14s/epoch - 78ms/step
Epoch 39/100
176/176 - 13s - loss: 0.2610 - accuracy: 0.8888 - val_loss: 0.3305 - val_accuracy: 0.8275 - lr: 0.0010 - 13s/epoch - 76ms/step
Epoch 40/100
176/176 - 14s - loss: 0.2612 - accuracy: 0.8886 - val_loss: 0.3303 - val_accuracy: 0.8284 - lr: 0.0010 - 14s/epoch - 78ms/step
Epoch 41/100
176/176 - 14s - loss: 0.2611 - accuracy: 0.8899 - val_loss: 0.3305 - val_accuracy: 0.8278 - lr: 0.0010 - 14s/epoch - 78ms/step
Epoch 42/100
176/176 - 14s - loss: 0.2608 - accuracy: 0.8896 - val_loss: 0.3290 - val_accuracy: 0.8295 - lr: 0.0010 - 14s/epoch - 80ms/step
Epoch 43/100
176/176 - 14s - loss: 0.2612 - accuracy: 0.8890 - val_loss: 0.3297 - val_accuracy: 0.8288 - lr: 0.0010 - 14s/epoch - 78ms/step
Epoch 44/100
176/176 - 14s - loss: 0.2615 - accuracy: 0.8881 - val_loss: 0.3286 - val_accuracy: 0.8300 - lr: 0.0010 - 14s/epoch - 78ms/step
Epoch 45/100
176/176 - 14s - loss: 0.2612 - accuracy: 0.8894 - val_loss: 0.3303 - val_accuracy: 0.8277 - lr: 0.0010 - 14s/epoch - 78ms/step
Epoch 46/100
176/176 - 14s - loss: 0.2608 - accuracy: 0.8897 - val_loss: 0.3303 - val_accuracy: 0.8280 - lr: 0.0010 - 14s/epoch - 78ms/step
Epoch 47/100
176/176 - 14s - loss: 0.2612 - accuracy: 0.8893 - val_loss: 0.3283 - val_accuracy: 0.8306 - lr: 0.0010 - 14s/epoch - 78ms/step
Epoch 48/100
176/176 - 14s - loss: 0.2608 - accuracy: 0.8893 - val_loss: 0.3286 - val_accuracy: 0.8297 - lr: 0.0010 - 14s/epoch - 81ms/step
Epoch 49/100
176/176 - 14s - loss: 0.2609 - accuracy: 0.8898 - val_loss: 0.3288 - val_accuracy: 0.8302 - lr: 0.0010 - 14s/epoch - 82ms/step
Epoch 50/100
176/176 - 11s - loss: 0.2605 - accuracy: 0.8908 - val_loss: 0.3309 - val_accuracy: 0.8272 - lr: 0.0010 - 11s/epoch - 63ms/step
Epoch 51/100
176/176 - 10s - loss: 0.2613 - accuracy: 0.8885 - val_loss: 0.3293 - val_accuracy: 0.8289 - lr: 0.0010 - 10s/epoch - 57ms/step
Epoch 52/100
176/176 - 9s - loss: 0.2608 - accuracy: 0.8895 - val_loss: 0.3291 - val_accuracy: 0.8294 - lr: 0.0010 - 9s/epoch - 52ms/step
Epoch 53/100
176/176 - 9s - loss: 0.2611 - accuracy: 0.8902 - val_loss: 0.3296 - val_accuracy: 0.8288 - lr: 0.0010 - 9s/epoch - 54ms/step
Epoch 54/100
176/176 - 10s - loss: 0.2610 - accuracy: 0.8893 - val_loss: 0.3298 - val_accuracy: 0.8280 - lr: 0.0010 - 10s/epoch - 56ms/step
Epoch 55/100
176/176 - 10s - loss: 0.2609 - accuracy: 0.8897 - val_loss: 0.3290 - val_accuracy: 0.8300 - lr: 0.0010 - 10s/epoch - 54ms/step
Epoch 56/100
176/176 - 10s - loss: 0.2610 - accuracy: 0.8903 - val_loss: 0.3293 - val_accuracy: 0.8297 - lr: 0.0010 - 10s/epoch - 55ms/step
Epoch 57/100
176/176 - 10s - loss: 0.2615 - accuracy: 0.8885 - val_loss: 0.3294 - val_accuracy: 0.8294 - lr: 0.0010 - 10s/epoch - 55ms/step
Epoch 58/100
176/176 - 10s - loss: 0.2609 - accuracy: 0.8898 - val_loss: 0.3299 - val_accuracy: 0.8279 - lr: 0.0010 - 10s/epoch - 55ms/step
Epoch 59/100
176/176 - 10s - loss: 0.2613 - accuracy: 0.8890 - val_loss: 0.3298 - val_accuracy: 0.8289 - lr: 0.0010 - 10s/epoch - 55ms/step
Epoch 60/100
176/176 - 10s - loss: 0.2609 - accuracy: 0.8890 - val_loss: 0.3301 - val_accuracy: 0.8288 - lr: 0.0010 - 10s/epoch - 54ms/step
Epoch 61/100
176/176 - 10s - loss: 0.2613 - accuracy: 0.8896 - val_loss: 0.3312 - val_accuracy: 0.8264 - lr: 0.0010 - 10s/epoch - 54ms/step
Epoch 62/100
176/176 - 10s - loss: 0.2610 - accuracy: 0.8892 - val_loss: 0.3293 - val_accuracy: 0.8289 - lr: 0.0010 - 10s/epoch - 54ms/step
Epoch 63/100
176/176 - 10s - loss: 0.2612 - accuracy: 0.8890 - val_loss: 0.3313 - val_accuracy: 0.8264 - lr: 0.0010 - 10s/epoch - 54ms/step
Epoch 64/100
176/176 - 10s - loss: 0.2610 - accuracy: 0.8886 - val_loss: 0.3302 - val_accuracy: 0.8286 - lr: 0.0010 - 10s/epoch - 54ms/step
Epoch 65/100
176/176 - 10s - loss: 0.2610 - accuracy: 0.8888 - val_loss: 0.3295 - val_accuracy: 0.8299 - lr: 0.0010 - 10s/epoch - 54ms/step
Epoch 66/100
176/176 - 10s - loss: 0.2610 - accuracy: 0.8892 - val_loss: 0.3295 - val_accuracy: 0.8289 - lr: 0.0010 - 10s/epoch - 55ms/step
Epoch 67/100
176/176 - 10s - loss: 0.2613 - accuracy: 0.8888 - val_loss: 0.3296 - val_accuracy: 0.8293 - lr: 0.0010 - 10s/epoch - 54ms/step
Epoch 68/100
176/176 - 10s - loss: 0.2612 - accuracy: 0.8879 - val_loss: 0.3300 - val_accuracy: 0.8291 - lr: 0.0010 - 10s/epoch - 54ms/step
Epoch 69/100
176/176 - 10s - loss: 0.2610 - accuracy: 0.8895 - val_loss: 0.3309 - val_accuracy: 0.8271 - lr: 0.0010 - 10s/epoch - 54ms/step
Epoch 70/100
176/176 - 10s - loss: 0.2613 - accuracy: 0.8888 - val_loss: 0.3291 - val_accuracy: 0.8304 - lr: 0.0010 - 10s/epoch - 54ms/step
Epoch 71/100
176/176 - 10s - loss: 0.2612 - accuracy: 0.8886 - val_loss: 0.3298 - val_accuracy: 0.8288 - lr: 0.0010 - 10s/epoch - 54ms/step
Epoch 72/100
176/176 - 10s - loss: 0.2608 - accuracy: 0.8901 - val_loss: 0.3300 - val_accuracy: 0.8282 - lr: 0.0010 - 10s/epoch - 54ms/step
Epoch 73/100
176/176 - 10s - loss: 0.2614 - accuracy: 0.8887 - val_loss: 0.3295 - val_accuracy: 0.8293 - lr: 0.0010 - 10s/epoch - 54ms/step
Epoch 74/100
176/176 - 10s - loss: 0.2608 - accuracy: 0.8905 - val_loss: 0.3284 - val_accuracy: 0.8302 - lr: 0.0010 - 10s/epoch - 54ms/step
Epoch 75/100
176/176 - 10s - loss: 0.2611 - accuracy: 0.8896 - val_loss: 0.3297 - val_accuracy: 0.8284 - lr: 0.0010 - 10s/epoch - 54ms/step
Epoch 76/100
176/176 - 10s - loss: 0.2611 - accuracy: 0.8891 - val_loss: 0.3297 - val_accuracy: 0.8290 - lr: 0.0010 - 10s/epoch - 54ms/step
Epoch 77/100
176/176 - 10s - loss: 0.2610 - accuracy: 0.8895 - val_loss: 0.3299 - val_accuracy: 0.8278 - lr: 0.0010 - 10s/epoch - 54ms/step
Epoch 78/100
176/176 - 10s - loss: 0.2611 - accuracy: 0.8894 - val_loss: 0.3292 - val_accuracy: 0.8289 - lr: 0.0010 - 10s/epoch - 54ms/step
Epoch 79/100
176/176 - 10s - loss: 0.2608 - accuracy: 0.8898 - val_loss: 0.3310 - val_accuracy: 0.8270 - lr: 0.0010 - 10s/epoch - 54ms/step
Epoch 80/100
176/176 - 10s - loss: 0.2609 - accuracy: 0.8892 - val_loss: 0.3299 - val_accuracy: 0.8297 - lr: 0.0010 - 10s/epoch - 54ms/step
Epoch 81/100
176/176 - 10s - loss: 0.2614 - accuracy: 0.8886 - val_loss: 0.3291 - val_accuracy: 0.8297 - lr: 0.0010 - 10s/epoch - 55ms/step
Epoch 82/100
176/176 - 10s - loss: 0.2610 - accuracy: 0.8906 - val_loss: 0.3274 - val_accuracy: 0.8319 - lr: 0.0010 - 10s/epoch - 54ms/step
Epoch 83/100
176/176 - 10s - loss: 0.2606 - accuracy: 0.8897 - val_loss: 0.3298 - val_accuracy: 0.8277 - lr: 0.0010 - 10s/epoch - 54ms/step
Epoch 84/100
176/176 - 10s - loss: 0.2607 - accuracy: 0.8897 - val_loss: 0.3290 - val_accuracy: 0.8298 - lr: 0.0010 - 10s/epoch - 54ms/step
Epoch 85/100
176/176 - 10s - loss: 0.2609 - accuracy: 0.8896 - val_loss: 0.3300 - val_accuracy: 0.8281 - lr: 0.0010 - 10s/epoch - 54ms/step
Epoch 86/100
176/176 - 10s - loss: 0.2612 - accuracy: 0.8885 - val_loss: 0.3287 - val_accuracy: 0.8300 - lr: 0.0010 - 10s/epoch - 54ms/step
Epoch 87/100
176/176 - 10s - loss: 0.2609 - accuracy: 0.8892 - val_loss: 0.3297 - val_accuracy: 0.8286 - lr: 0.0010 - 10s/epoch - 54ms/step
Epoch 88/100
176/176 - 10s - loss: 0.2610 - accuracy: 0.8903 - val_loss: 0.3290 - val_accuracy: 0.8297 - lr: 0.0010 - 10s/epoch - 55ms/step
Epoch 89/100
176/176 - 10s - loss: 0.2607 - accuracy: 0.8900 - val_loss: 0.3300 - val_accuracy: 0.8291 - lr: 0.0010 - 10s/epoch - 54ms/step
Epoch 90/100
176/176 - 10s - loss: 0.2612 - accuracy: 0.8881 - val_loss: 0.3304 - val_accuracy: 0.8285 - lr: 0.0010 - 10s/epoch - 55ms/step
Epoch 91/100
176/176 - 10s - loss: 0.2611 - accuracy: 0.8888 - val_loss: 0.3303 - val_accuracy: 0.8278 - lr: 0.0010 - 10s/epoch - 54ms/step
Epoch 92/100
176/176 - 10s - loss: 0.2613 - accuracy: 0.8887 - val_loss: 0.3312 - val_accuracy: 0.8267 - lr: 0.0010 - 10s/epoch - 55ms/step
Epoch 93/100
176/176 - 10s - loss: 0.2609 - accuracy: 0.8898 - val_loss: 0.3289 - val_accuracy: 0.8296 - lr: 0.0010 - 10s/epoch - 55ms/step
Epoch 94/100
176/176 - 10s - loss: 0.2609 - accuracy: 0.8893 - val_loss: 0.3292 - val_accuracy: 0.8292 - lr: 0.0010 - 10s/epoch - 55ms/step
Epoch 95/100
176/176 - 10s - loss: 0.2609 - accuracy: 0.8891 - val_loss: 0.3296 - val_accuracy: 0.8288 - lr: 0.0010 - 10s/epoch - 55ms/step
Epoch 96/100
176/176 - 10s - loss: 0.2608 - accuracy: 0.8898 - val_loss: 0.3279 - val_accuracy: 0.8319 - lr: 0.0010 - 10s/epoch - 55ms/step
Epoch 97/100
176/176 - 10s - loss: 0.2609 - accuracy: 0.8892 - val_loss: 0.3294 - val_accuracy: 0.8294 - lr: 0.0010 - 10s/epoch - 54ms/step
Epoch 98/100
176/176 - 10s - loss: 0.2608 - accuracy: 0.8897 - val_loss: 0.3293 - val_accuracy: 0.8299 - lr: 0.0010 - 10s/epoch - 55ms/step
Epoch 99/100
176/176 - 10s - loss: 0.2611 - accuracy: 0.8892 - val_loss: 0.3304 - val_accuracy: 0.8281 - lr: 0.0010 - 10s/epoch - 55ms/step
Epoch 100/100
176/176 - 10s - loss: 0.2613 - accuracy: 0.8882 - val_loss: 0.3297 - val_accuracy: 0.8293 - lr: 0.0010 - 10s/epoch - 55ms/step
fitting with batch size: 1500
Epoch 1/100
59/59 - 11s - loss: 0.2606 - accuracy: 0.8903 - val_loss: 0.3297 - val_accuracy: 0.8294 - lr: 0.0010 - 11s/epoch - 191ms/step
Epoch 2/100
59/59 - 9s - loss: 0.2606 - accuracy: 0.8896 - val_loss: 0.3302 - val_accuracy: 0.8283 - lr: 0.0010 - 9s/epoch - 145ms/step
Epoch 3/100
59/59 - 9s - loss: 0.2608 - accuracy: 0.8898 - val_loss: 0.3297 - val_accuracy: 0.8291 - lr: 0.0010 - 9s/epoch - 144ms/step
Epoch 4/100
59/59 - 9s - loss: 0.2609 - accuracy: 0.8899 - val_loss: 0.3300 - val_accuracy: 0.8288 - lr: 0.0010 - 9s/epoch - 144ms/step
Epoch 5/100
59/59 - 9s - loss: 0.2606 - accuracy: 0.8903 - val_loss: 0.3301 - val_accuracy: 0.8284 - lr: 0.0010 - 9s/epoch - 144ms/step
Epoch 6/100
59/59 - 9s - loss: 0.2605 - accuracy: 0.8907 - val_loss: 0.3302 - val_accuracy: 0.8287 - lr: 0.0010 - 9s/epoch - 145ms/step
Epoch 7/100
59/59 - 9s - loss: 0.2605 - accuracy: 0.8912 - val_loss: 0.3298 - val_accuracy: 0.8289 - lr: 0.0010 - 9s/epoch - 144ms/step
Epoch 8/100
59/59 - 9s - loss: 0.2608 - accuracy: 0.8899 - val_loss: 0.3302 - val_accuracy: 0.8286 - lr: 0.0010 - 9s/epoch - 145ms/step
Epoch 9/100
59/59 - 9s - loss: 0.2609 - accuracy: 0.8896 - val_loss: 0.3299 - val_accuracy: 0.8290 - lr: 0.0010 - 9s/epoch - 144ms/step
Epoch 10/100
59/59 - 9s - loss: 0.2604 - accuracy: 0.8913 - val_loss: 0.3302 - val_accuracy: 0.8289 - lr: 0.0010 - 9s/epoch - 146ms/step
Epoch 11/100
59/59 - 9s - loss: 0.2605 - accuracy: 0.8911 - val_loss: 0.3294 - val_accuracy: 0.8293 - lr: 0.0010 - 9s/epoch - 145ms/step
Epoch 12/100
59/59 - 9s - loss: 0.2609 - accuracy: 0.8897 - val_loss: 0.3296 - val_accuracy: 0.8293 - lr: 0.0010 - 9s/epoch - 145ms/step
Epoch 13/100
59/59 - 9s - loss: 0.2607 - accuracy: 0.8899 - val_loss: 0.3297 - val_accuracy: 0.8293 - lr: 0.0010 - 9s/epoch - 144ms/step
Epoch 14/100
59/59 - 9s - loss: 0.2608 - accuracy: 0.8900 - val_loss: 0.3301 - val_accuracy: 0.8288 - lr: 0.0010 - 9s/epoch - 145ms/step
Epoch 15/100
59/59 - 9s - loss: 0.2606 - accuracy: 0.8894 - val_loss: 0.3295 - val_accuracy: 0.8293 - lr: 0.0010 - 9s/epoch - 145ms/step
Epoch 16/100
59/59 - 9s - loss: 0.2607 - accuracy: 0.8896 - val_loss: 0.3301 - val_accuracy: 0.8289 - lr: 0.0010 - 9s/epoch - 145ms/step
Epoch 17/100
59/59 - 9s - loss: 0.2611 - accuracy: 0.8887 - val_loss: 0.3293 - val_accuracy: 0.8296 - lr: 0.0010 - 9s/epoch - 144ms/step
Epoch 18/100
59/59 - 9s - loss: 0.2607 - accuracy: 0.8908 - val_loss: 0.3295 - val_accuracy: 0.8292 - lr: 0.0010 - 9s/epoch - 144ms/step
Epoch 19/100
59/59 - 9s - loss: 0.2608 - accuracy: 0.8901 - val_loss: 0.3296 - val_accuracy: 0.8291 - lr: 0.0010 - 9s/epoch - 144ms/step
Epoch 20/100
59/59 - 9s - loss: 0.2607 - accuracy: 0.8902 - val_loss: 0.3298 - val_accuracy: 0.8289 - lr: 0.0010 - 9s/epoch - 144ms/step
Epoch 21/100
59/59 - 9s - loss: 0.2609 - accuracy: 0.8898 - val_loss: 0.3300 - val_accuracy: 0.8286 - lr: 0.0010 - 9s/epoch - 144ms/step
Epoch 22/100
59/59 - 9s - loss: 0.2606 - accuracy: 0.8909 - val_loss: 0.3297 - val_accuracy: 0.8287 - lr: 0.0010 - 9s/epoch - 146ms/step
Epoch 23/100
59/59 - 9s - loss: 0.2606 - accuracy: 0.8900 - val_loss: 0.3297 - val_accuracy: 0.8289 - lr: 0.0010 - 9s/epoch - 145ms/step
Epoch 24/100
59/59 - 9s - loss: 0.2604 - accuracy: 0.8914 - val_loss: 0.3298 - val_accuracy: 0.8289 - lr: 0.0010 - 9s/epoch - 145ms/step
Epoch 25/100
59/59 - 9s - loss: 0.2609 - accuracy: 0.8886 - val_loss: 0.3295 - val_accuracy: 0.8290 - lr: 0.0010 - 9s/epoch - 144ms/step
Epoch 26/100
59/59 - 9s - loss: 0.2611 - accuracy: 0.8898 - val_loss: 0.3296 - val_accuracy: 0.8294 - lr: 0.0010 - 9s/epoch - 144ms/step
Epoch 27/100
59/59 - 9s - loss: 0.2605 - accuracy: 0.8906 - val_loss: 0.3297 - val_accuracy: 0.8288 - lr: 0.0010 - 9s/epoch - 144ms/step
Epoch 28/100
59/59 - 9s - loss: 0.2608 - accuracy: 0.8898 - val_loss: 0.3298 - val_accuracy: 0.8290 - lr: 0.0010 - 9s/epoch - 145ms/step
Epoch 29/100
59/59 - 9s - loss: 0.2602 - accuracy: 0.8913 - val_loss: 0.3301 - val_accuracy: 0.8287 - lr: 0.0010 - 9s/epoch - 144ms/step
Epoch 30/100
59/59 - 9s - loss: 0.2609 - accuracy: 0.8897 - val_loss: 0.3300 - val_accuracy: 0.8288 - lr: 0.0010 - 9s/epoch - 144ms/step
Epoch 31/100
59/59 - 9s - loss: 0.2609 - accuracy: 0.8896 - val_loss: 0.3297 - val_accuracy: 0.8289 - lr: 0.0010 - 9s/epoch - 144ms/step
Epoch 32/100
59/59 - 9s - loss: 0.2605 - accuracy: 0.8909 - val_loss: 0.3297 - val_accuracy: 0.8290 - lr: 0.0010 - 9s/epoch - 145ms/step
Epoch 33/100
59/59 - 9s - loss: 0.2607 - accuracy: 0.8897 - val_loss: 0.3298 - val_accuracy: 0.8291 - lr: 0.0010 - 9s/epoch - 144ms/step
Epoch 34/100
59/59 - 9s - loss: 0.2610 - accuracy: 0.8893 - val_loss: 0.3296 - val_accuracy: 0.8291 - lr: 0.0010 - 9s/epoch - 145ms/step
Epoch 35/100
59/59 - 9s - loss: 0.2605 - accuracy: 0.8898 - val_loss: 0.3298 - val_accuracy: 0.8289 - lr: 0.0010 - 9s/epoch - 144ms/step
Epoch 36/100
59/59 - 9s - loss: 0.2607 - accuracy: 0.8907 - val_loss: 0.3300 - val_accuracy: 0.8288 - lr: 0.0010 - 9s/epoch - 144ms/step
Epoch 37/100
59/59 - 9s - loss: 0.2601 - accuracy: 0.8919 - val_loss: 0.3297 - val_accuracy: 0.8292 - lr: 0.0010 - 9s/epoch - 144ms/step
Epoch 38/100
59/59 - 9s - loss: 0.2609 - accuracy: 0.8902 - val_loss: 0.3303 - val_accuracy: 0.8283 - lr: 0.0010 - 9s/epoch - 145ms/step
Epoch 39/100
59/59 - 9s - loss: 0.2606 - accuracy: 0.8907 - val_loss: 0.3299 - val_accuracy: 0.8288 - lr: 0.0010 - 9s/epoch - 144ms/step
Epoch 40/100
59/59 - 9s - loss: 0.2607 - accuracy: 0.8899 - val_loss: 0.3294 - val_accuracy: 0.8294 - lr: 0.0010 - 9s/epoch - 145ms/step
Epoch 41/100
59/59 - 9s - loss: 0.2606 - accuracy: 0.8905 - val_loss: 0.3302 - val_accuracy: 0.8285 - lr: 0.0010 - 9s/epoch - 145ms/step
Epoch 42/100
59/59 - 9s - loss: 0.2606 - accuracy: 0.8903 - val_loss: 0.3301 - val_accuracy: 0.8284 - lr: 0.0010 - 9s/epoch - 144ms/step
Epoch 43/100
59/59 - 9s - loss: 0.2607 - accuracy: 0.8900 - val_loss: 0.3302 - val_accuracy: 0.8288 - lr: 0.0010 - 9s/epoch - 144ms/step
Epoch 44/100
59/59 - 9s - loss: 0.2610 - accuracy: 0.8901 - val_loss: 0.3298 - val_accuracy: 0.8287 - lr: 0.0010 - 9s/epoch - 145ms/step
Epoch 45/100
59/59 - 9s - loss: 0.2606 - accuracy: 0.8908 - val_loss: 0.3302 - val_accuracy: 0.8282 - lr: 0.0010 - 9s/epoch - 144ms/step
Epoch 46/100
59/59 - 9s - loss: 0.2611 - accuracy: 0.8899 - val_loss: 0.3297 - val_accuracy: 0.8289 - lr: 0.0010 - 9s/epoch - 144ms/step
Epoch 47/100
59/59 - 9s - loss: 0.2602 - accuracy: 0.8900 - val_loss: 0.3297 - val_accuracy: 0.8291 - lr: 0.0010 - 9s/epoch - 144ms/step
Epoch 48/100
59/59 - 9s - loss: 0.2603 - accuracy: 0.8904 - val_loss: 0.3298 - val_accuracy: 0.8287 - lr: 0.0010 - 9s/epoch - 144ms/step
Epoch 49/100
59/59 - 9s - loss: 0.2607 - accuracy: 0.8895 - val_loss: 0.3303 - val_accuracy: 0.8286 - lr: 0.0010 - 9s/epoch - 144ms/step
Epoch 50/100
59/59 - 9s - loss: 0.2603 - accuracy: 0.8908 - val_loss: 0.3304 - val_accuracy: 0.8278 - lr: 0.0010 - 9s/epoch - 144ms/step
Epoch 51/100
59/59 - 9s - loss: 0.2609 - accuracy: 0.8898 - val_loss: 0.3298 - val_accuracy: 0.8288 - lr: 0.0010 - 9s/epoch - 144ms/step
Epoch 52/100
59/59 - 9s - loss: 0.2606 - accuracy: 0.8903 - val_loss: 0.3301 - val_accuracy: 0.8285 - lr: 0.0010 - 9s/epoch - 145ms/step
Epoch 53/100
59/59 - 9s - loss: 0.2605 - accuracy: 0.8916 - val_loss: 0.3299 - val_accuracy: 0.8287 - lr: 0.0010 - 9s/epoch - 145ms/step
Epoch 54/100
59/59 - 9s - loss: 0.2606 - accuracy: 0.8901 - val_loss: 0.3300 - val_accuracy: 0.8286 - lr: 0.0010 - 9s/epoch - 144ms/step
Epoch 55/100
59/59 - 9s - loss: 0.2610 - accuracy: 0.8894 - val_loss: 0.3297 - val_accuracy: 0.8291 - lr: 0.0010 - 9s/epoch - 144ms/step
Epoch 56/100
59/59 - 9s - loss: 0.2609 - accuracy: 0.8893 - val_loss: 0.3299 - val_accuracy: 0.8288 - lr: 0.0010 - 9s/epoch - 144ms/step
Epoch 57/100
59/59 - 9s - loss: 0.2607 - accuracy: 0.8893 - val_loss: 0.3295 - val_accuracy: 0.8289 - lr: 0.0010 - 9s/epoch - 145ms/step
Epoch 58/100
59/59 - 9s - loss: 0.2604 - accuracy: 0.8903 - val_loss: 0.3301 - val_accuracy: 0.8280 - lr: 0.0010 - 9s/epoch - 145ms/step
Epoch 59/100
59/59 - 9s - loss: 0.2607 - accuracy: 0.8902 - val_loss: 0.3301 - val_accuracy: 0.8280 - lr: 0.0010 - 9s/epoch - 144ms/step
Epoch 60/100
59/59 - 9s - loss: 0.2604 - accuracy: 0.8904 - val_loss: 0.3300 - val_accuracy: 0.8288 - lr: 0.0010 - 9s/epoch - 145ms/step
Epoch 61/100
59/59 - 9s - loss: 0.2609 - accuracy: 0.8905 - val_loss: 0.3295 - val_accuracy: 0.8293 - lr: 0.0010 - 9s/epoch - 144ms/step
Epoch 62/100
59/59 - 9s - loss: 0.2604 - accuracy: 0.8903 - val_loss: 0.3298 - val_accuracy: 0.8291 - lr: 0.0010 - 9s/epoch - 145ms/step
Epoch 63/100
59/59 - 9s - loss: 0.2600 - accuracy: 0.8926 - val_loss: 0.3299 - val_accuracy: 0.8286 - lr: 0.0010 - 9s/epoch - 144ms/step
Epoch 64/100
59/59 - 9s - loss: 0.2606 - accuracy: 0.8899 - val_loss: 0.3301 - val_accuracy: 0.8289 - lr: 0.0010 - 9s/epoch - 145ms/step
Epoch 65/100
59/59 - 9s - loss: 0.2608 - accuracy: 0.8903 - val_loss: 0.3297 - val_accuracy: 0.8298 - lr: 0.0010 - 9s/epoch - 144ms/step
Epoch 66/100
59/59 - 9s - loss: 0.2607 - accuracy: 0.8909 - val_loss: 0.3303 - val_accuracy: 0.8285 - lr: 0.0010 - 9s/epoch - 145ms/step
Epoch 67/100
59/59 - 9s - loss: 0.2608 - accuracy: 0.8905 - val_loss: 0.3303 - val_accuracy: 0.8289 - lr: 0.0010 - 9s/epoch - 144ms/step
Epoch 68/100
59/59 - 9s - loss: 0.2608 - accuracy: 0.8897 - val_loss: 0.3302 - val_accuracy: 0.8284 - lr: 0.0010 - 9s/epoch - 144ms/step
Epoch 69/100
59/59 - 9s - loss: 0.2607 - accuracy: 0.8902 - val_loss: 0.3300 - val_accuracy: 0.8288 - lr: 0.0010 - 9s/epoch - 144ms/step
Epoch 70/100
59/59 - 9s - loss: 0.2607 - accuracy: 0.8904 - val_loss: 0.3296 - val_accuracy: 0.8291 - lr: 0.0010 - 9s/epoch - 145ms/step
Epoch 71/100
59/59 - 9s - loss: 0.2603 - accuracy: 0.8915 - val_loss: 0.3297 - val_accuracy: 0.8291 - lr: 0.0010 - 9s/epoch - 144ms/step
Epoch 72/100
59/59 - 9s - loss: 0.2604 - accuracy: 0.8907 - val_loss: 0.3300 - val_accuracy: 0.8290 - lr: 0.0010 - 9s/epoch - 144ms/step
Epoch 73/100
59/59 - 9s - loss: 0.2608 - accuracy: 0.8904 - val_loss: 0.3302 - val_accuracy: 0.8285 - lr: 0.0010 - 9s/epoch - 144ms/step
Epoch 74/100
59/59 - 9s - loss: 0.2604 - accuracy: 0.8909 - val_loss: 0.3299 - val_accuracy: 0.8285 - lr: 0.0010 - 9s/epoch - 145ms/step
Epoch 75/100
59/59 - 9s - loss: 0.2604 - accuracy: 0.8906 - val_loss: 0.3303 - val_accuracy: 0.8284 - lr: 0.0010 - 9s/epoch - 144ms/step
Epoch 76/100
59/59 - 9s - loss: 0.2608 - accuracy: 0.8898 - val_loss: 0.3301 - val_accuracy: 0.8286 - lr: 0.0010 - 9s/epoch - 144ms/step
Epoch 77/100
59/59 - 9s - loss: 0.2603 - accuracy: 0.8906 - val_loss: 0.3298 - val_accuracy: 0.8288 - lr: 0.0010 - 9s/epoch - 145ms/step
Epoch 78/100
59/59 - 9s - loss: 0.2605 - accuracy: 0.8910 - val_loss: 0.3301 - val_accuracy: 0.8290 - lr: 0.0010 - 9s/epoch - 144ms/step
Epoch 79/100
59/59 - 9s - loss: 0.2603 - accuracy: 0.8906 - val_loss: 0.3299 - val_accuracy: 0.8288 - lr: 0.0010 - 9s/epoch - 144ms/step
Epoch 80/100
59/59 - 9s - loss: 0.2609 - accuracy: 0.8896 - val_loss: 0.3304 - val_accuracy: 0.8278 - lr: 0.0010 - 9s/epoch - 145ms/step
Epoch 81/100
59/59 - 9s - loss: 0.2605 - accuracy: 0.8910 - val_loss: 0.3298 - val_accuracy: 0.8289 - lr: 0.0010 - 9s/epoch - 144ms/step
Epoch 82/100
59/59 - 9s - loss: 0.2603 - accuracy: 0.8918 - val_loss: 0.3300 - val_accuracy: 0.8288 - lr: 0.0010 - 9s/epoch - 145ms/step
Epoch 83/100
59/59 - 9s - loss: 0.2607 - accuracy: 0.8905 - val_loss: 0.3297 - val_accuracy: 0.8291 - lr: 0.0010 - 9s/epoch - 144ms/step
Epoch 84/100
59/59 - 9s - loss: 0.2607 - accuracy: 0.8909 - val_loss: 0.3302 - val_accuracy: 0.8284 - lr: 0.0010 - 9s/epoch - 145ms/step
Epoch 85/100
59/59 - 9s - loss: 0.2608 - accuracy: 0.8901 - val_loss: 0.3299 - val_accuracy: 0.8291 - lr: 0.0010 - 9s/epoch - 144ms/step
Epoch 86/100
59/59 - 9s - loss: 0.2603 - accuracy: 0.8913 - val_loss: 0.3297 - val_accuracy: 0.8287 - lr: 0.0010 - 9s/epoch - 145ms/step
Epoch 87/100
59/59 - 9s - loss: 0.2603 - accuracy: 0.8908 - val_loss: 0.3306 - val_accuracy: 0.8276 - lr: 0.0010 - 9s/epoch - 144ms/step
Epoch 88/100
59/59 - 9s - loss: 0.2605 - accuracy: 0.8914 - val_loss: 0.3295 - val_accuracy: 0.8295 - lr: 0.0010 - 9s/epoch - 144ms/step
Epoch 89/100
59/59 - 9s - loss: 0.2609 - accuracy: 0.8895 - val_loss: 0.3299 - val_accuracy: 0.8289 - lr: 0.0010 - 9s/epoch - 144ms/step
Epoch 90/100
59/59 - 9s - loss: 0.2606 - accuracy: 0.8907 - val_loss: 0.3300 - val_accuracy: 0.8288 - lr: 0.0010 - 9s/epoch - 145ms/step
Epoch 91/100
59/59 - 9s - loss: 0.2608 - accuracy: 0.8893 - val_loss: 0.3301 - val_accuracy: 0.8287 - lr: 0.0010 - 9s/epoch - 144ms/step
Epoch 92/100
59/59 - 9s - loss: 0.2603 - accuracy: 0.8915 - val_loss: 0.3301 - val_accuracy: 0.8285 - lr: 0.0010 - 9s/epoch - 144ms/step
Epoch 93/100
59/59 - 9s - loss: 0.2606 - accuracy: 0.8907 - val_loss: 0.3303 - val_accuracy: 0.8282 - lr: 0.0010 - 9s/epoch - 144ms/step
Epoch 94/100
59/59 - 9s - loss: 0.2609 - accuracy: 0.8893 - val_loss: 0.3300 - val_accuracy: 0.8288 - lr: 0.0010 - 9s/epoch - 145ms/step
Epoch 95/100
59/59 - 9s - loss: 0.2601 - accuracy: 0.8910 - val_loss: 0.3300 - val_accuracy: 0.8288 - lr: 0.0010 - 9s/epoch - 144ms/step
Epoch 96/100
59/59 - 9s - loss: 0.2610 - accuracy: 0.8889 - val_loss: 0.3304 - val_accuracy: 0.8283 - lr: 0.0010 - 9s/epoch - 144ms/step
Epoch 97/100
59/59 - 9s - loss: 0.2606 - accuracy: 0.8902 - val_loss: 0.3302 - val_accuracy: 0.8283 - lr: 0.0010 - 9s/epoch - 144ms/step
Epoch 98/100
59/59 - 9s - loss: 0.2602 - accuracy: 0.8908 - val_loss: 0.3306 - val_accuracy: 0.8276 - lr: 0.0010 - 9s/epoch - 145ms/step
Epoch 99/100
59/59 - 9s - loss: 0.2607 - accuracy: 0.8895 - val_loss: 0.3301 - val_accuracy: 0.8286 - lr: 0.0010 - 9s/epoch - 145ms/step
Epoch 100/100
59/59 - 9s - loss: 0.2606 - accuracy: 0.8902 - val_loss: 0.3303 - val_accuracy: 0.8283 - lr: 0.0010 - 9s/epoch - 144ms/step
fitting with batch size: 2500
Epoch 1/100
36/36 - 11s - loss: 0.2607 - accuracy: 0.8901 - val_loss: 0.3305 - val_accuracy: 0.8276 - lr: 0.0010 - 11s/epoch - 301ms/step
Epoch 2/100
36/36 - 8s - loss: 0.2608 - accuracy: 0.8906 - val_loss: 0.3295 - val_accuracy: 0.8296 - lr: 0.0010 - 8s/epoch - 230ms/step
Epoch 3/100
36/36 - 8s - loss: 0.2606 - accuracy: 0.8907 - val_loss: 0.3306 - val_accuracy: 0.8280 - lr: 0.0010 - 8s/epoch - 231ms/step
Epoch 4/100
36/36 - 8s - loss: 0.2610 - accuracy: 0.8891 - val_loss: 0.3298 - val_accuracy: 0.8292 - lr: 0.0010 - 8s/epoch - 231ms/step
Epoch 5/100
36/36 - 8s - loss: 0.2608 - accuracy: 0.8892 - val_loss: 0.3297 - val_accuracy: 0.8296 - lr: 0.0010 - 8s/epoch - 230ms/step
Epoch 6/100
36/36 - 8s - loss: 0.2603 - accuracy: 0.8911 - val_loss: 0.3307 - val_accuracy: 0.8281 - lr: 0.0010 - 8s/epoch - 230ms/step
Epoch 7/100
36/36 - 8s - loss: 0.2606 - accuracy: 0.8902 - val_loss: 0.3313 - val_accuracy: 0.8281 - lr: 0.0010 - 8s/epoch - 230ms/step
Epoch 8/100
36/36 - 8s - loss: 0.2608 - accuracy: 0.8894 - val_loss: 0.3308 - val_accuracy: 0.8276 - lr: 0.0010 - 8s/epoch - 231ms/step
Epoch 9/100
36/36 - 8s - loss: 0.2608 - accuracy: 0.8913 - val_loss: 0.3303 - val_accuracy: 0.8285 - lr: 0.0010 - 8s/epoch - 230ms/step
Epoch 10/100
36/36 - 8s - loss: 0.2605 - accuracy: 0.8901 - val_loss: 0.3302 - val_accuracy: 0.8280 - lr: 0.0010 - 8s/epoch - 231ms/step
Epoch 11/100
36/36 - 8s - loss: 0.2609 - accuracy: 0.8892 - val_loss: 0.3305 - val_accuracy: 0.8283 - lr: 0.0010 - 8s/epoch - 230ms/step
Epoch 12/100
36/36 - 8s - loss: 0.2607 - accuracy: 0.8905 - val_loss: 0.3308 - val_accuracy: 0.8279 - lr: 0.0010 - 8s/epoch - 231ms/step
Epoch 13/100
36/36 - 8s - loss: 0.2604 - accuracy: 0.8916 - val_loss: 0.3304 - val_accuracy: 0.8284 - lr: 0.0010 - 8s/epoch - 230ms/step
Epoch 14/100
36/36 - 8s - loss: 0.2606 - accuracy: 0.8899 - val_loss: 0.3294 - val_accuracy: 0.8299 - lr: 0.0010 - 8s/epoch - 231ms/step
Epoch 15/100
36/36 - 8s - loss: 0.2607 - accuracy: 0.8902 - val_loss: 0.3301 - val_accuracy: 0.8288 - lr: 0.0010 - 8s/epoch - 231ms/step
Epoch 16/100
36/36 - 8s - loss: 0.2609 - accuracy: 0.8895 - val_loss: 0.3295 - val_accuracy: 0.8297 - lr: 0.0010 - 8s/epoch - 231ms/step
Epoch 17/100
36/36 - 8s - loss: 0.2606 - accuracy: 0.8905 - val_loss: 0.3310 - val_accuracy: 0.8276 - lr: 0.0010 - 8s/epoch - 231ms/step
Epoch 18/100
36/36 - 8s - loss: 0.2607 - accuracy: 0.8901 - val_loss: 0.3311 - val_accuracy: 0.8277 - lr: 0.0010 - 8s/epoch - 230ms/step
Epoch 19/100
36/36 - 8s - loss: 0.2606 - accuracy: 0.8906 - val_loss: 0.3310 - val_accuracy: 0.8276 - lr: 0.0010 - 8s/epoch - 230ms/step
Epoch 20/100
36/36 - 8s - loss: 0.2603 - accuracy: 0.8913 - val_loss: 0.3311 - val_accuracy: 0.8277 - lr: 0.0010 - 8s/epoch - 231ms/step
Epoch 21/100
36/36 - 8s - loss: 0.2607 - accuracy: 0.8900 - val_loss: 0.3297 - val_accuracy: 0.8295 - lr: 0.0010 - 8s/epoch - 231ms/step
Epoch 22/100
36/36 - 8s - loss: 0.2607 - accuracy: 0.8899 - val_loss: 0.3301 - val_accuracy: 0.8288 - lr: 0.0010 - 8s/epoch - 231ms/step
Epoch 23/100
36/36 - 8s - loss: 0.2607 - accuracy: 0.8910 - val_loss: 0.3300 - val_accuracy: 0.8290 - lr: 0.0010 - 8s/epoch - 231ms/step
Epoch 24/100
36/36 - 8s - loss: 0.2605 - accuracy: 0.8917 - val_loss: 0.3297 - val_accuracy: 0.8293 - lr: 0.0010 - 8s/epoch - 231ms/step
Epoch 25/100
36/36 - 8s - loss: 0.2609 - accuracy: 0.8896 - val_loss: 0.3301 - val_accuracy: 0.8286 - lr: 0.0010 - 8s/epoch - 231ms/step
Epoch 26/100
36/36 - 8s - loss: 0.2603 - accuracy: 0.8907 - val_loss: 0.3297 - val_accuracy: 0.8292 - lr: 0.0010 - 8s/epoch - 230ms/step
Epoch 27/100
36/36 - 8s - loss: 0.2608 - accuracy: 0.8895 - val_loss: 0.3296 - val_accuracy: 0.8294 - lr: 0.0010 - 8s/epoch - 231ms/step
Epoch 28/100
36/36 - 8s - loss: 0.2608 - accuracy: 0.8900 - val_loss: 0.3308 - val_accuracy: 0.8285 - lr: 0.0010 - 8s/epoch - 231ms/step
Epoch 29/100
36/36 - 8s - loss: 0.2604 - accuracy: 0.8911 - val_loss: 0.3298 - val_accuracy: 0.8293 - lr: 0.0010 - 8s/epoch - 231ms/step
Epoch 30/100
36/36 - 8s - loss: 0.2606 - accuracy: 0.8902 - val_loss: 0.3296 - val_accuracy: 0.8296 - lr: 0.0010 - 8s/epoch - 231ms/step
Epoch 31/100
36/36 - 8s - loss: 0.2607 - accuracy: 0.8906 - val_loss: 0.3304 - val_accuracy: 0.8284 - lr: 0.0010 - 8s/epoch - 230ms/step
Epoch 32/100
36/36 - 8s - loss: 0.2604 - accuracy: 0.8913 - val_loss: 0.3298 - val_accuracy: 0.8291 - lr: 0.0010 - 8s/epoch - 230ms/step
Epoch 33/100
36/36 - 8s - loss: 0.2606 - accuracy: 0.8902 - val_loss: 0.3291 - val_accuracy: 0.8300 - lr: 0.0010 - 8s/epoch - 231ms/step
Epoch 34/100
36/36 - 8s - loss: 0.2603 - accuracy: 0.8911 - val_loss: 0.3294 - val_accuracy: 0.8297 - lr: 0.0010 - 8s/epoch - 231ms/step
Epoch 35/100
36/36 - 8s - loss: 0.2604 - accuracy: 0.8913 - val_loss: 0.3308 - val_accuracy: 0.8280 - lr: 0.0010 - 8s/epoch - 231ms/step
Epoch 36/100
36/36 - 8s - loss: 0.2607 - accuracy: 0.8899 - val_loss: 0.3309 - val_accuracy: 0.8275 - lr: 0.0010 - 8s/epoch - 231ms/step
Epoch 37/100
36/36 - 8s - loss: 0.2606 - accuracy: 0.8894 - val_loss: 0.3306 - val_accuracy: 0.8280 - lr: 0.0010 - 8s/epoch - 230ms/step
Epoch 38/100
36/36 - 8s - loss: 0.2608 - accuracy: 0.8898 - val_loss: 0.3299 - val_accuracy: 0.8291 - lr: 0.0010 - 8s/epoch - 230ms/step
Epoch 39/100
36/36 - 8s - loss: 0.2606 - accuracy: 0.8907 - val_loss: 0.3300 - val_accuracy: 0.8281 - lr: 0.0010 - 8s/epoch - 230ms/step
Epoch 40/100
36/36 - 8s - loss: 0.2607 - accuracy: 0.8894 - val_loss: 0.3298 - val_accuracy: 0.8293 - lr: 0.0010 - 8s/epoch - 231ms/step
Epoch 41/100
36/36 - 8s - loss: 0.2605 - accuracy: 0.8902 - val_loss: 0.3304 - val_accuracy: 0.8284 - lr: 0.0010 - 8s/epoch - 231ms/step
Epoch 42/100
36/36 - 8s - loss: 0.2605 - accuracy: 0.8908 - val_loss: 0.3296 - val_accuracy: 0.8297 - lr: 0.0010 - 8s/epoch - 231ms/step
Epoch 43/100
36/36 - 8s - loss: 0.2605 - accuracy: 0.8899 - val_loss: 0.3307 - val_accuracy: 0.8280 - lr: 0.0010 - 8s/epoch - 231ms/step
Epoch 44/100
36/36 - 8s - loss: 0.2609 - accuracy: 0.8906 - val_loss: 0.3309 - val_accuracy: 0.8282 - lr: 0.0010 - 8s/epoch - 230ms/step
Epoch 45/100
36/36 - 8s - loss: 0.2603 - accuracy: 0.8906 - val_loss: 0.3306 - val_accuracy: 0.8284 - lr: 0.0010 - 8s/epoch - 231ms/step
Epoch 46/100
36/36 - 8s - loss: 0.2607 - accuracy: 0.8906 - val_loss: 0.3296 - val_accuracy: 0.8292 - lr: 0.0010 - 8s/epoch - 231ms/step
Epoch 47/100
36/36 - 8s - loss: 0.2605 - accuracy: 0.8899 - val_loss: 0.3307 - val_accuracy: 0.8282 - lr: 0.0010 - 8s/epoch - 231ms/step
Epoch 48/100
36/36 - 8s - loss: 0.2604 - accuracy: 0.8907 - val_loss: 0.3299 - val_accuracy: 0.8293 - lr: 0.0010 - 8s/epoch - 231ms/step
Epoch 49/100
36/36 - 8s - loss: 0.2610 - accuracy: 0.8890 - val_loss: 0.3301 - val_accuracy: 0.8295 - lr: 0.0010 - 8s/epoch - 231ms/step
Epoch 50/100
36/36 - 8s - loss: 0.2602 - accuracy: 0.8907 - val_loss: 0.3310 - val_accuracy: 0.8278 - lr: 0.0010 - 8s/epoch - 231ms/step
Epoch 51/100
36/36 - 8s - loss: 0.2604 - accuracy: 0.8909 - val_loss: 0.3303 - val_accuracy: 0.8285 - lr: 0.0010 - 8s/epoch - 231ms/step
Epoch 52/100
36/36 - 8s - loss: 0.2603 - accuracy: 0.8906 - val_loss: 0.3292 - val_accuracy: 0.8298 - lr: 0.0010 - 8s/epoch - 231ms/step
Epoch 53/100
36/36 - 8s - loss: 0.2606 - accuracy: 0.8908 - val_loss: 0.3308 - val_accuracy: 0.8277 - lr: 0.0010 - 8s/epoch - 231ms/step
Epoch 54/100
36/36 - 8s - loss: 0.2607 - accuracy: 0.8906 - val_loss: 0.3297 - val_accuracy: 0.8299 - lr: 0.0010 - 8s/epoch - 230ms/step
Epoch 55/100
36/36 - 8s - loss: 0.2609 - accuracy: 0.8899 - val_loss: 0.3306 - val_accuracy: 0.8283 - lr: 0.0010 - 8s/epoch - 231ms/step
Epoch 56/100
36/36 - 8s - loss: 0.2607 - accuracy: 0.8891 - val_loss: 0.3290 - val_accuracy: 0.8300 - lr: 0.0010 - 8s/epoch - 231ms/step
Epoch 57/100
36/36 - 8s - loss: 0.2609 - accuracy: 0.8899 - val_loss: 0.3296 - val_accuracy: 0.8298 - lr: 0.0010 - 8s/epoch - 231ms/step
Epoch 58/100
36/36 - 8s - loss: 0.2602 - accuracy: 0.8916 - val_loss: 0.3298 - val_accuracy: 0.8290 - lr: 0.0010 - 8s/epoch - 231ms/step
Epoch 59/100
36/36 - 8s - loss: 0.2605 - accuracy: 0.8907 - val_loss: 0.3304 - val_accuracy: 0.8283 - lr: 0.0010 - 8s/epoch - 230ms/step
Epoch 60/100
36/36 - 8s - loss: 0.2605 - accuracy: 0.8914 - val_loss: 0.3301 - val_accuracy: 0.8283 - lr: 0.0010 - 8s/epoch - 231ms/step
Epoch 61/100
36/36 - 8s - loss: 0.2609 - accuracy: 0.8897 - val_loss: 0.3309 - val_accuracy: 0.8275 - lr: 0.0010 - 8s/epoch - 231ms/step
Epoch 62/100
36/36 - 8s - loss: 0.2603 - accuracy: 0.8912 - val_loss: 0.3304 - val_accuracy: 0.8283 - lr: 0.0010 - 8s/epoch - 231ms/step
Epoch 63/100
36/36 - 8s - loss: 0.2606 - accuracy: 0.8907 - val_loss: 0.3297 - val_accuracy: 0.8292 - lr: 0.0010 - 8s/epoch - 231ms/step
Epoch 64/100
36/36 - 8s - loss: 0.2608 - accuracy: 0.8892 - val_loss: 0.3297 - val_accuracy: 0.8292 - lr: 0.0010 - 8s/epoch - 231ms/step
Epoch 65/100
36/36 - 8s - loss: 0.2607 - accuracy: 0.8906 - val_loss: 0.3304 - val_accuracy: 0.8290 - lr: 0.0010 - 8s/epoch - 230ms/step
Epoch 66/100
36/36 - 8s - loss: 0.2608 - accuracy: 0.8895 - val_loss: 0.3303 - val_accuracy: 0.8283 - lr: 0.0010 - 8s/epoch - 232ms/step
Epoch 67/100
36/36 - 8s - loss: 0.2605 - accuracy: 0.8907 - val_loss: 0.3290 - val_accuracy: 0.8295 - lr: 0.0010 - 8s/epoch - 230ms/step
Epoch 68/100
36/36 - 8s - loss: 0.2605 - accuracy: 0.8913 - val_loss: 0.3303 - val_accuracy: 0.8281 - lr: 0.0010 - 8s/epoch - 231ms/step
Epoch 69/100
36/36 - 8s - loss: 0.2605 - accuracy: 0.8902 - val_loss: 0.3298 - val_accuracy: 0.8292 - lr: 0.0010 - 8s/epoch - 222ms/step
Epoch 70/100
36/36 - 7s - loss: 0.2603 - accuracy: 0.8914 - val_loss: 0.3303 - val_accuracy: 0.8283 - lr: 0.0010 - 7s/epoch - 206ms/step
Epoch 71/100
36/36 - 8s - loss: 0.2606 - accuracy: 0.8902 - val_loss: 0.3301 - val_accuracy: 0.8288 - lr: 0.0010 - 8s/epoch - 217ms/step
Epoch 72/100
36/36 - 8s - loss: 0.2600 - accuracy: 0.8916 - val_loss: 0.3298 - val_accuracy: 0.8291 - lr: 0.0010 - 8s/epoch - 211ms/step
Epoch 73/100
36/36 - 7s - loss: 0.2601 - accuracy: 0.8913 - val_loss: 0.3303 - val_accuracy: 0.8290 - lr: 0.0010 - 7s/epoch - 202ms/step
Epoch 74/100
36/36 - 8s - loss: 0.2607 - accuracy: 0.8910 - val_loss: 0.3315 - val_accuracy: 0.8270 - lr: 0.0010 - 8s/epoch - 213ms/step
Epoch 75/100
36/36 - 8s - loss: 0.2609 - accuracy: 0.8901 - val_loss: 0.3312 - val_accuracy: 0.8268 - lr: 0.0010 - 8s/epoch - 213ms/step
Epoch 76/100
36/36 - 8s - loss: 0.2604 - accuracy: 0.8906 - val_loss: 0.3297 - val_accuracy: 0.8291 - lr: 0.0010 - 8s/epoch - 221ms/step
Epoch 77/100
36/36 - 8s - loss: 0.2604 - accuracy: 0.8903 - val_loss: 0.3299 - val_accuracy: 0.8288 - lr: 0.0010 - 8s/epoch - 210ms/step
Epoch 78/100
36/36 - 7s - loss: 0.2604 - accuracy: 0.8909 - val_loss: 0.3301 - val_accuracy: 0.8286 - lr: 0.0010 - 7s/epoch - 201ms/step
Epoch 79/100
36/36 - 7s - loss: 0.2610 - accuracy: 0.8896 - val_loss: 0.3311 - val_accuracy: 0.8273 - lr: 0.0010 - 7s/epoch - 205ms/step
Epoch 80/100
36/36 - 7s - loss: 0.2607 - accuracy: 0.8904 - val_loss: 0.3291 - val_accuracy: 0.8299 - lr: 0.0010 - 7s/epoch - 202ms/step
Epoch 81/100
36/36 - 7s - loss: 0.2607 - accuracy: 0.8906 - val_loss: 0.3306 - val_accuracy: 0.8285 - lr: 0.0010 - 7s/epoch - 202ms/step
Epoch 82/100
36/36 - 8s - loss: 0.2608 - accuracy: 0.8897 - val_loss: 0.3311 - val_accuracy: 0.8273 - lr: 0.0010 - 8s/epoch - 210ms/step
Epoch 83/100
36/36 - 8s - loss: 0.2602 - accuracy: 0.8902 - val_loss: 0.3283 - val_accuracy: 0.8319 - lr: 0.0010 - 8s/epoch - 222ms/step
Epoch 84/100
36/36 - 8s - loss: 0.2605 - accuracy: 0.8907 - val_loss: 0.3309 - val_accuracy: 0.8278 - lr: 0.0010 - 8s/epoch - 214ms/step
Epoch 85/100
36/36 - 8s - loss: 0.2607 - accuracy: 0.8896 - val_loss: 0.3305 - val_accuracy: 0.8283 - lr: 0.0010 - 8s/epoch - 209ms/step
Epoch 86/100
36/36 - 8s - loss: 0.2608 - accuracy: 0.8891 - val_loss: 0.3307 - val_accuracy: 0.8282 - lr: 0.0010 - 8s/epoch - 210ms/step
Epoch 87/100
36/36 - 8s - loss: 0.2606 - accuracy: 0.8912 - val_loss: 0.3298 - val_accuracy: 0.8295 - lr: 0.0010 - 8s/epoch - 210ms/step
Epoch 88/100
36/36 - 8s - loss: 0.2607 - accuracy: 0.8899 - val_loss: 0.3306 - val_accuracy: 0.8282 - lr: 0.0010 - 8s/epoch - 213ms/step
Epoch 89/100
36/36 - 8s - loss: 0.2603 - accuracy: 0.8917 - val_loss: 0.3302 - val_accuracy: 0.8290 - lr: 0.0010 - 8s/epoch - 209ms/step
Epoch 90/100
36/36 - 8s - loss: 0.2604 - accuracy: 0.8910 - val_loss: 0.3308 - val_accuracy: 0.8282 - lr: 0.0010 - 8s/epoch - 209ms/step
Epoch 91/100
36/36 - 8s - loss: 0.2604 - accuracy: 0.8914 - val_loss: 0.3307 - val_accuracy: 0.8283 - lr: 0.0010 - 8s/epoch - 209ms/step
Epoch 92/100
36/36 - 8s - loss: 0.2608 - accuracy: 0.8885 - val_loss: 0.3305 - val_accuracy: 0.8289 - lr: 0.0010 - 8s/epoch - 211ms/step
Epoch 93/100
36/36 - 8s - loss: 0.2608 - accuracy: 0.8910 - val_loss: 0.3317 - val_accuracy: 0.8272 - lr: 0.0010 - 8s/epoch - 210ms/step
Epoch 94/100
36/36 - 8s - loss: 0.2606 - accuracy: 0.8913 - val_loss: 0.3303 - val_accuracy: 0.8289 - lr: 0.0010 - 8s/epoch - 211ms/step
Epoch 95/100
36/36 - 8s - loss: 0.2605 - accuracy: 0.8898 - val_loss: 0.3306 - val_accuracy: 0.8285 - lr: 0.0010 - 8s/epoch - 210ms/step
Epoch 96/100
36/36 - 8s - loss: 0.2607 - accuracy: 0.8904 - val_loss: 0.3307 - val_accuracy: 0.8284 - lr: 0.0010 - 8s/epoch - 212ms/step
Epoch 97/100
36/36 - 8s - loss: 0.2604 - accuracy: 0.8909 - val_loss: 0.3304 - val_accuracy: 0.8287 - lr: 0.0010 - 8s/epoch - 210ms/step
Epoch 98/100
36/36 - 8s - loss: 0.2606 - accuracy: 0.8903 - val_loss: 0.3300 - val_accuracy: 0.8293 - lr: 0.0010 - 8s/epoch - 210ms/step
Epoch 99/100
36/36 - 8s - loss: 0.2606 - accuracy: 0.8903 - val_loss: 0.3293 - val_accuracy: 0.8303 - lr: 0.0010 - 8s/epoch - 209ms/step
Epoch 100/100
36/36 - 8s - loss: 0.2607 - accuracy: 0.8905 - val_loss: 0.3295 - val_accuracy: 0.8297 - lr: 0.0010 - 8s/epoch - 210ms/step
