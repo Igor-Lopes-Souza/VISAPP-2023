Loss: categorical_crossentropy
Epoch number: 75
fitting with batch size: 20
Epoch 1/75
4378/4378 - 76s - loss: 0.9509 - accuracy: 0.6359 - val_loss: 0.8852 - val_accuracy: 0.6629 - lr: 0.0010 - 76s/epoch - 17ms/step
Epoch 2/75
4378/4378 - 71s - loss: 0.8597 - accuracy: 0.6765 - val_loss: 0.7773 - val_accuracy: 0.7514 - lr: 0.0010 - 71s/epoch - 16ms/step
Epoch 3/75
4378/4378 - 71s - loss: 0.8331 - accuracy: 0.6855 - val_loss: 0.7742 - val_accuracy: 0.6989 - lr: 0.0010 - 71s/epoch - 16ms/step
Epoch 4/75
4378/4378 - 71s - loss: 0.8204 - accuracy: 0.6905 - val_loss: 0.7686 - val_accuracy: 0.7517 - lr: 0.0010 - 71s/epoch - 16ms/step
Epoch 5/75
4378/4378 - 71s - loss: 0.8106 - accuracy: 0.6945 - val_loss: 0.8149 - val_accuracy: 0.6986 - lr: 0.0010 - 71s/epoch - 16ms/step
Epoch 6/75
4378/4378 - 71s - loss: 0.8014 - accuracy: 0.6974 - val_loss: 0.8385 - val_accuracy: 0.6750 - lr: 0.0010 - 71s/epoch - 16ms/step
Epoch 7/75
4378/4378 - 71s - loss: 0.7957 - accuracy: 0.6990 - val_loss: 0.7816 - val_accuracy: 0.7267 - lr: 0.0010 - 71s/epoch - 16ms/step
Epoch 8/75
4378/4378 - 71s - loss: 0.7870 - accuracy: 0.7049 - val_loss: 0.7617 - val_accuracy: 0.7442 - lr: 0.0010 - 71s/epoch - 16ms/step
Epoch 9/75
4378/4378 - 71s - loss: 0.7825 - accuracy: 0.7066 - val_loss: 0.8300 - val_accuracy: 0.6822 - lr: 0.0010 - 71s/epoch - 16ms/step
Epoch 10/75
4378/4378 - 71s - loss: 0.7781 - accuracy: 0.7070 - val_loss: 0.7023 - val_accuracy: 0.7483 - lr: 0.0010 - 71s/epoch - 16ms/step
Epoch 11/75
4378/4378 - 71s - loss: 0.7747 - accuracy: 0.7100 - val_loss: 0.7710 - val_accuracy: 0.7250 - lr: 0.0010 - 71s/epoch - 16ms/step
Epoch 12/75
4378/4378 - 71s - loss: 0.7720 - accuracy: 0.7114 - val_loss: 0.7523 - val_accuracy: 0.7190 - lr: 0.0010 - 71s/epoch - 16ms/step
Epoch 13/75
4378/4378 - 71s - loss: 0.7645 - accuracy: 0.7127 - val_loss: 0.7336 - val_accuracy: 0.7491 - lr: 0.0010 - 71s/epoch - 16ms/step
Epoch 14/75
4378/4378 - 70s - loss: 0.7631 - accuracy: 0.7130 - val_loss: 0.7857 - val_accuracy: 0.7254 - lr: 0.0010 - 70s/epoch - 16ms/step
Epoch 15/75
4378/4378 - 71s - loss: 0.7636 - accuracy: 0.7139 - val_loss: 0.7622 - val_accuracy: 0.7585 - lr: 0.0010 - 71s/epoch - 16ms/step
Epoch 16/75
4378/4378 - 71s - loss: 0.7594 - accuracy: 0.7153 - val_loss: 0.7860 - val_accuracy: 0.7339 - lr: 0.0010 - 71s/epoch - 16ms/step
Epoch 17/75
4378/4378 - 71s - loss: 0.7563 - accuracy: 0.7165 - val_loss: 0.7453 - val_accuracy: 0.7193 - lr: 0.0010 - 71s/epoch - 16ms/step
Epoch 18/75
4378/4378 - 71s - loss: 0.7536 - accuracy: 0.7162 - val_loss: 0.7257 - val_accuracy: 0.7293 - lr: 0.0010 - 71s/epoch - 16ms/step
Epoch 19/75
4378/4378 - 71s - loss: 0.7525 - accuracy: 0.7164 - val_loss: 0.7670 - val_accuracy: 0.7128 - lr: 0.0010 - 71s/epoch - 16ms/step
Epoch 20/75
4378/4378 - 71s - loss: 0.7480 - accuracy: 0.7206 - val_loss: 0.7533 - val_accuracy: 0.7304 - lr: 0.0010 - 71s/epoch - 16ms/step
Epoch 21/75
4378/4378 - 71s - loss: 0.7478 - accuracy: 0.7192 - val_loss: 0.7338 - val_accuracy: 0.7389 - lr: 0.0010 - 71s/epoch - 16ms/step
Epoch 22/75
4378/4378 - 71s - loss: 0.7482 - accuracy: 0.7191 - val_loss: 0.6270 - val_accuracy: 0.8039 - lr: 0.0010 - 71s/epoch - 16ms/step
Epoch 23/75
4378/4378 - 71s - loss: 0.7453 - accuracy: 0.7202 - val_loss: 0.7906 - val_accuracy: 0.7305 - lr: 0.0010 - 71s/epoch - 16ms/step
Epoch 24/75
4378/4378 - 71s - loss: 0.7444 - accuracy: 0.7209 - val_loss: 0.6770 - val_accuracy: 0.7455 - lr: 0.0010 - 71s/epoch - 16ms/step
Epoch 25/75
4378/4378 - 71s - loss: 0.7419 - accuracy: 0.7216 - val_loss: 0.8355 - val_accuracy: 0.7183 - lr: 0.0010 - 71s/epoch - 16ms/step
Epoch 26/75
4378/4378 - 72s - loss: 0.7406 - accuracy: 0.7219 - val_loss: 0.7428 - val_accuracy: 0.7579 - lr: 0.0010 - 72s/epoch - 16ms/step
Epoch 27/75
4378/4378 - 71s - loss: 0.7399 - accuracy: 0.7228 - val_loss: 0.7571 - val_accuracy: 0.7680 - lr: 0.0010 - 71s/epoch - 16ms/step
Epoch 28/75
4378/4378 - 71s - loss: 0.7389 - accuracy: 0.7217 - val_loss: 0.7342 - val_accuracy: 0.7440 - lr: 0.0010 - 71s/epoch - 16ms/step
Epoch 29/75
4378/4378 - 71s - loss: 0.7410 - accuracy: 0.7218 - val_loss: 0.6528 - val_accuracy: 0.8194 - lr: 0.0010 - 71s/epoch - 16ms/step
Epoch 30/75
4378/4378 - 71s - loss: 0.7374 - accuracy: 0.7233 - val_loss: 0.6837 - val_accuracy: 0.7774 - lr: 0.0010 - 71s/epoch - 16ms/step
Epoch 31/75
4378/4378 - 71s - loss: 0.7349 - accuracy: 0.7252 - val_loss: 0.6736 - val_accuracy: 0.7634 - lr: 0.0010 - 71s/epoch - 16ms/step
Epoch 32/75
4378/4378 - 70s - loss: 0.7369 - accuracy: 0.7224 - val_loss: 0.7918 - val_accuracy: 0.7294 - lr: 0.0010 - 70s/epoch - 16ms/step
Epoch 33/75
4378/4378 - 71s - loss: 0.7331 - accuracy: 0.7239 - val_loss: 0.7239 - val_accuracy: 0.7869 - lr: 0.0010 - 71s/epoch - 16ms/step
Epoch 34/75
4378/4378 - 71s - loss: 0.7326 - accuracy: 0.7253 - val_loss: 0.8259 - val_accuracy: 0.7059 - lr: 0.0010 - 71s/epoch - 16ms/step
Epoch 35/75
4378/4378 - 71s - loss: 0.7327 - accuracy: 0.7242 - val_loss: 0.7430 - val_accuracy: 0.7684 - lr: 0.0010 - 71s/epoch - 16ms/step
Epoch 36/75
4378/4378 - 71s - loss: 0.7320 - accuracy: 0.7271 - val_loss: 0.7533 - val_accuracy: 0.7521 - lr: 0.0010 - 71s/epoch - 16ms/step
Epoch 37/75
4378/4378 - 71s - loss: 0.7309 - accuracy: 0.7266 - val_loss: 0.7393 - val_accuracy: 0.7615 - lr: 0.0010 - 71s/epoch - 16ms/step
Epoch 38/75
4378/4378 - 71s - loss: 0.7301 - accuracy: 0.7271 - val_loss: 0.7685 - val_accuracy: 0.7360 - lr: 0.0010 - 71s/epoch - 16ms/step
Epoch 39/75
4378/4378 - 71s - loss: 0.7304 - accuracy: 0.7265 - val_loss: 0.8535 - val_accuracy: 0.6883 - lr: 0.0010 - 71s/epoch - 16ms/step
Epoch 40/75
4378/4378 - 71s - loss: 0.7294 - accuracy: 0.7277 - val_loss: 0.8441 - val_accuracy: 0.6920 - lr: 0.0010 - 71s/epoch - 16ms/step
Epoch 41/75
4378/4378 - 71s - loss: 0.7304 - accuracy: 0.7283 - val_loss: 0.7993 - val_accuracy: 0.7325 - lr: 0.0010 - 71s/epoch - 16ms/step
Epoch 42/75
4378/4378 - 71s - loss: 0.7285 - accuracy: 0.7287 - val_loss: 0.6489 - val_accuracy: 0.7913 - lr: 0.0010 - 71s/epoch - 16ms/step
Epoch 43/75
4378/4378 - 71s - loss: 0.7271 - accuracy: 0.7280 - val_loss: 0.6747 - val_accuracy: 0.7583 - lr: 0.0010 - 71s/epoch - 16ms/step
Epoch 44/75
4378/4378 - 71s - loss: 0.7263 - accuracy: 0.7274 - val_loss: 0.7234 - val_accuracy: 0.7766 - lr: 0.0010 - 71s/epoch - 16ms/step
Epoch 45/75
4378/4378 - 71s - loss: 0.7255 - accuracy: 0.7285 - val_loss: 0.7333 - val_accuracy: 0.7475 - lr: 0.0010 - 71s/epoch - 16ms/step
Epoch 46/75
4378/4378 - 72s - loss: 0.7265 - accuracy: 0.7281 - val_loss: 0.7672 - val_accuracy: 0.7333 - lr: 0.0010 - 72s/epoch - 17ms/step
Epoch 47/75
4378/4378 - 71s - loss: 0.7234 - accuracy: 0.7291 - val_loss: 0.7096 - val_accuracy: 0.7637 - lr: 0.0010 - 71s/epoch - 16ms/step
Epoch 48/75
4378/4378 - 71s - loss: 0.7241 - accuracy: 0.7293 - val_loss: 0.6560 - val_accuracy: 0.8185 - lr: 0.0010 - 71s/epoch - 16ms/step
Epoch 49/75
4378/4378 - 71s - loss: 0.7243 - accuracy: 0.7290 - val_loss: 0.6348 - val_accuracy: 0.7783 - lr: 0.0010 - 71s/epoch - 16ms/step
Epoch 50/75
4378/4378 - 71s - loss: 0.7258 - accuracy: 0.7282 - val_loss: 0.6555 - val_accuracy: 0.7977 - lr: 0.0010 - 71s/epoch - 16ms/step
Epoch 51/75
4378/4378 - 71s - loss: 0.7215 - accuracy: 0.7304 - val_loss: 0.7384 - val_accuracy: 0.7250 - lr: 0.0010 - 71s/epoch - 16ms/step
Epoch 52/75
4378/4378 - 71s - loss: 0.7205 - accuracy: 0.7287 - val_loss: 0.7250 - val_accuracy: 0.7689 - lr: 0.0010 - 71s/epoch - 16ms/step
Epoch 53/75
4378/4378 - 71s - loss: 0.7229 - accuracy: 0.7298 - val_loss: 0.7636 - val_accuracy: 0.7525 - lr: 0.0010 - 71s/epoch - 16ms/step
Epoch 54/75
4378/4378 - 71s - loss: 0.7206 - accuracy: 0.7300 - val_loss: 0.7587 - val_accuracy: 0.7424 - lr: 0.0010 - 71s/epoch - 16ms/step
Epoch 55/75
4378/4378 - 70s - loss: 0.7229 - accuracy: 0.7292 - val_loss: 0.7627 - val_accuracy: 0.7386 - lr: 0.0010 - 70s/epoch - 16ms/step
Epoch 56/75
4378/4378 - 71s - loss: 0.7244 - accuracy: 0.7291 - val_loss: 0.8740 - val_accuracy: 0.6782 - lr: 0.0010 - 71s/epoch - 16ms/step
Epoch 57/75
4378/4378 - 71s - loss: 0.7265 - accuracy: 0.7273 - val_loss: 0.7626 - val_accuracy: 0.7384 - lr: 0.0010 - 71s/epoch - 16ms/step
Epoch 58/75
4378/4378 - 71s - loss: 0.7256 - accuracy: 0.7287 - val_loss: 0.7789 - val_accuracy: 0.7164 - lr: 0.0010 - 71s/epoch - 16ms/step
Epoch 59/75
4378/4378 - 70s - loss: 0.7293 - accuracy: 0.7282 - val_loss: 0.7521 - val_accuracy: 0.7211 - lr: 0.0010 - 70s/epoch - 16ms/step
Epoch 60/75
4378/4378 - 71s - loss: 0.7309 - accuracy: 0.7271 - val_loss: 0.8087 - val_accuracy: 0.7443 - lr: 0.0010 - 71s/epoch - 16ms/step
Epoch 61/75
4378/4378 - 71s - loss: 0.7296 - accuracy: 0.7268 - val_loss: 0.7674 - val_accuracy: 0.7484 - lr: 0.0010 - 71s/epoch - 16ms/step
Epoch 62/75
4378/4378 - 71s - loss: 0.7239 - accuracy: 0.7275 - val_loss: 0.7438 - val_accuracy: 0.7381 - lr: 0.0010 - 71s/epoch - 16ms/step
Epoch 63/75
4378/4378 - 71s - loss: 0.7233 - accuracy: 0.7304 - val_loss: 0.7210 - val_accuracy: 0.7821 - lr: 0.0010 - 71s/epoch - 16ms/step
Epoch 64/75
4378/4378 - 71s - loss: 0.7255 - accuracy: 0.7290 - val_loss: 0.7409 - val_accuracy: 0.7269 - lr: 0.0010 - 71s/epoch - 16ms/step
Epoch 65/75
4378/4378 - 71s - loss: 0.7277 - accuracy: 0.7283 - val_loss: 0.6947 - val_accuracy: 0.7699 - lr: 0.0010 - 71s/epoch - 16ms/step
Epoch 66/75
4378/4378 - 71s - loss: 0.7254 - accuracy: 0.7296 - val_loss: 0.7568 - val_accuracy: 0.7520 - lr: 0.0010 - 71s/epoch - 16ms/step
Epoch 67/75
4378/4378 - 71s - loss: 0.7282 - accuracy: 0.7290 - val_loss: 0.7286 - val_accuracy: 0.7430 - lr: 0.0010 - 71s/epoch - 16ms/step
Epoch 68/75
4378/4378 - 71s - loss: 0.7240 - accuracy: 0.7281 - val_loss: 0.8682 - val_accuracy: 0.6640 - lr: 0.0010 - 71s/epoch - 16ms/step
Epoch 69/75
4378/4378 - 71s - loss: 0.7271 - accuracy: 0.7287 - val_loss: 0.7059 - val_accuracy: 0.7506 - lr: 0.0010 - 71s/epoch - 16ms/step
Epoch 70/75
4378/4378 - 71s - loss: 0.7279 - accuracy: 0.7284 - val_loss: 0.7953 - val_accuracy: 0.7304 - lr: 0.0010 - 71s/epoch - 16ms/step
Epoch 71/75
4378/4378 - 71s - loss: 0.7311 - accuracy: 0.7269 - val_loss: 0.7696 - val_accuracy: 0.7326 - lr: 0.0010 - 71s/epoch - 16ms/step
Epoch 72/75
4378/4378 - 71s - loss: 0.7310 - accuracy: 0.7283 - val_loss: 0.7379 - val_accuracy: 0.7426 - lr: 0.0010 - 71s/epoch - 16ms/step
Epoch 73/75
4378/4378 - 71s - loss: 0.7289 - accuracy: 0.7277 - val_loss: 0.7102 - val_accuracy: 0.7663 - lr: 0.0010 - 71s/epoch - 16ms/step
Epoch 74/75
4378/4378 - 71s - loss: 0.7248 - accuracy: 0.7305 - val_loss: 0.7691 - val_accuracy: 0.7827 - lr: 0.0010 - 71s/epoch - 16ms/step
Epoch 75/75
4378/4378 - 71s - loss: 0.7333 - accuracy: 0.7272 - val_loss: 0.7524 - val_accuracy: 0.7375 - lr: 0.0010 - 71s/epoch - 16ms/step
fitting with batch size: 100
Epoch 1/75
876/876 - 20s - loss: 0.6752 - accuracy: 0.7472 - val_loss: 0.7724 - val_accuracy: 0.7321 - lr: 0.0010 - 20s/epoch - 23ms/step
Epoch 2/75
876/876 - 17s - loss: 0.6627 - accuracy: 0.7518 - val_loss: 0.6993 - val_accuracy: 0.7603 - lr: 0.0010 - 17s/epoch - 20ms/step
Epoch 3/75
876/876 - 17s - loss: 0.6588 - accuracy: 0.7526 - val_loss: 0.6401 - val_accuracy: 0.7976 - lr: 0.0010 - 17s/epoch - 20ms/step
Epoch 4/75
876/876 - 17s - loss: 0.6514 - accuracy: 0.7564 - val_loss: 0.7059 - val_accuracy: 0.7588 - lr: 0.0010 - 17s/epoch - 20ms/step
Epoch 5/75
876/876 - 17s - loss: 0.6522 - accuracy: 0.7560 - val_loss: 0.7526 - val_accuracy: 0.7293 - lr: 0.0010 - 17s/epoch - 20ms/step
Epoch 6/75
876/876 - 17s - loss: 0.6544 - accuracy: 0.7560 - val_loss: 0.6707 - val_accuracy: 0.7820 - lr: 0.0010 - 17s/epoch - 20ms/step
Epoch 7/75
876/876 - 17s - loss: 0.6423 - accuracy: 0.7585 - val_loss: 0.6703 - val_accuracy: 0.7822 - lr: 0.0010 - 17s/epoch - 20ms/step
Epoch 8/75
876/876 - 17s - loss: 0.6435 - accuracy: 0.7580 - val_loss: 0.7019 - val_accuracy: 0.7629 - lr: 0.0010 - 17s/epoch - 20ms/step
Epoch 9/75
876/876 - 17s - loss: 0.6379 - accuracy: 0.7606 - val_loss: 0.6738 - val_accuracy: 0.7849 - lr: 0.0010 - 17s/epoch - 20ms/step
Epoch 10/75
876/876 - 17s - loss: 0.6405 - accuracy: 0.7609 - val_loss: 0.7475 - val_accuracy: 0.7288 - lr: 0.0010 - 17s/epoch - 20ms/step
Epoch 11/75
876/876 - 17s - loss: 0.6366 - accuracy: 0.7610 - val_loss: 0.7133 - val_accuracy: 0.7548 - lr: 0.0010 - 17s/epoch - 20ms/step
Epoch 12/75
876/876 - 17s - loss: 0.6593 - accuracy: 0.7631 - val_loss: 0.7034 - val_accuracy: 0.7443 - lr: 0.0010 - 17s/epoch - 20ms/step
Epoch 13/75
876/876 - 17s - loss: 0.6316 - accuracy: 0.7625 - val_loss: 0.7203 - val_accuracy: 0.7491 - lr: 0.0010 - 17s/epoch - 20ms/step
Epoch 14/75
876/876 - 17s - loss: 0.6295 - accuracy: 0.7649 - val_loss: 0.6731 - val_accuracy: 0.7851 - lr: 0.0010 - 17s/epoch - 19ms/step
Epoch 15/75
876/876 - 17s - loss: 0.6283 - accuracy: 0.7625 - val_loss: 0.7029 - val_accuracy: 0.7551 - lr: 0.0010 - 17s/epoch - 20ms/step
Epoch 16/75
876/876 - 17s - loss: 0.6257 - accuracy: 0.7651 - val_loss: 0.7221 - val_accuracy: 0.7578 - lr: 0.0010 - 17s/epoch - 20ms/step
Epoch 17/75
876/876 - 17s - loss: 0.6233 - accuracy: 0.7665 - val_loss: 0.6652 - val_accuracy: 0.7757 - lr: 0.0010 - 17s/epoch - 20ms/step
Epoch 18/75
876/876 - 17s - loss: 0.6256 - accuracy: 0.7629 - val_loss: 0.7238 - val_accuracy: 0.7592 - lr: 0.0010 - 17s/epoch - 20ms/step
Epoch 19/75
876/876 - 17s - loss: 0.6197 - accuracy: 0.7667 - val_loss: 0.6536 - val_accuracy: 0.7803 - lr: 0.0010 - 17s/epoch - 20ms/step
Epoch 20/75
876/876 - 17s - loss: 0.6176 - accuracy: 0.7677 - val_loss: 0.7004 - val_accuracy: 0.7720 - lr: 0.0010 - 17s/epoch - 20ms/step
Epoch 21/75
876/876 - 17s - loss: 0.6194 - accuracy: 0.7652 - val_loss: 0.6696 - val_accuracy: 0.7712 - lr: 0.0010 - 17s/epoch - 20ms/step
Epoch 22/75
876/876 - 17s - loss: 0.6153 - accuracy: 0.7682 - val_loss: 0.6510 - val_accuracy: 0.7758 - lr: 0.0010 - 17s/epoch - 20ms/step
Epoch 23/75
876/876 - 17s - loss: 0.6129 - accuracy: 0.7686 - val_loss: 0.7317 - val_accuracy: 0.7544 - lr: 0.0010 - 17s/epoch - 20ms/step
Epoch 24/75
876/876 - 17s - loss: 0.6144 - accuracy: 0.7695 - val_loss: 0.5879 - val_accuracy: 0.8170 - lr: 0.0010 - 17s/epoch - 20ms/step
Epoch 25/75
876/876 - 17s - loss: 0.6120 - accuracy: 0.7703 - val_loss: 0.6078 - val_accuracy: 0.7994 - lr: 0.0010 - 17s/epoch - 20ms/step
Epoch 26/75
876/876 - 17s - loss: 0.6107 - accuracy: 0.7717 - val_loss: 0.6967 - val_accuracy: 0.7518 - lr: 0.0010 - 17s/epoch - 20ms/step
Epoch 27/75
876/876 - 17s - loss: 0.6072 - accuracy: 0.7719 - val_loss: 0.6482 - val_accuracy: 0.7839 - lr: 0.0010 - 17s/epoch - 20ms/step
Epoch 28/75
876/876 - 17s - loss: 0.6108 - accuracy: 0.7705 - val_loss: 0.6606 - val_accuracy: 0.7743 - lr: 0.0010 - 17s/epoch - 20ms/step
Epoch 29/75
876/876 - 17s - loss: 0.6061 - accuracy: 0.7726 - val_loss: 0.7103 - val_accuracy: 0.7648 - lr: 0.0010 - 17s/epoch - 20ms/step
Epoch 30/75
876/876 - 17s - loss: 0.6061 - accuracy: 0.7713 - val_loss: 0.6602 - val_accuracy: 0.7855 - lr: 0.0010 - 17s/epoch - 20ms/step
Epoch 31/75
876/876 - 17s - loss: 0.6034 - accuracy: 0.7728 - val_loss: 0.7053 - val_accuracy: 0.7548 - lr: 0.0010 - 17s/epoch - 20ms/step
Epoch 32/75
876/876 - 17s - loss: 0.6038 - accuracy: 0.7721 - val_loss: 0.6506 - val_accuracy: 0.7769 - lr: 0.0010 - 17s/epoch - 20ms/step
Epoch 33/75
876/876 - 17s - loss: 0.6042 - accuracy: 0.7716 - val_loss: 0.7423 - val_accuracy: 0.7377 - lr: 0.0010 - 17s/epoch - 20ms/step
Epoch 34/75
876/876 - 17s - loss: 0.6002 - accuracy: 0.7735 - val_loss: 0.7376 - val_accuracy: 0.7513 - lr: 0.0010 - 17s/epoch - 20ms/step
Epoch 35/75
876/876 - 17s - loss: 0.6001 - accuracy: 0.7757 - val_loss: 0.6726 - val_accuracy: 0.7642 - lr: 0.0010 - 17s/epoch - 20ms/step
Epoch 36/75
876/876 - 17s - loss: 0.5972 - accuracy: 0.7767 - val_loss: 0.6510 - val_accuracy: 0.7838 - lr: 0.0010 - 17s/epoch - 20ms/step
Epoch 37/75
876/876 - 17s - loss: 0.5963 - accuracy: 0.7766 - val_loss: 0.6951 - val_accuracy: 0.7605 - lr: 0.0010 - 17s/epoch - 20ms/step
Epoch 38/75
876/876 - 17s - loss: 0.5949 - accuracy: 0.7758 - val_loss: 0.6953 - val_accuracy: 0.7388 - lr: 0.0010 - 17s/epoch - 20ms/step
Epoch 39/75
876/876 - 18s - loss: 0.5979 - accuracy: 0.7754 - val_loss: 0.6668 - val_accuracy: 0.7635 - lr: 0.0010 - 18s/epoch - 21ms/step
Epoch 40/75
876/876 - 17s - loss: 0.5930 - accuracy: 0.7771 - val_loss: 0.6874 - val_accuracy: 0.7650 - lr: 0.0010 - 17s/epoch - 20ms/step
Epoch 41/75
876/876 - 17s - loss: 0.5962 - accuracy: 0.7754 - val_loss: 0.6623 - val_accuracy: 0.7717 - lr: 0.0010 - 17s/epoch - 20ms/step
Epoch 42/75
876/876 - 17s - loss: 0.5883 - accuracy: 0.7784 - val_loss: 0.7259 - val_accuracy: 0.7489 - lr: 0.0010 - 17s/epoch - 20ms/step
Epoch 43/75
876/876 - 17s - loss: 0.5939 - accuracy: 0.7764 - val_loss: 0.6824 - val_accuracy: 0.7492 - lr: 0.0010 - 17s/epoch - 20ms/step
Epoch 44/75
876/876 - 17s - loss: 0.6051 - accuracy: 0.7745 - val_loss: 0.6110 - val_accuracy: 0.8044 - lr: 0.0010 - 17s/epoch - 20ms/step
Epoch 45/75
876/876 - 17s - loss: 0.5894 - accuracy: 0.7788 - val_loss: 0.7240 - val_accuracy: 0.7466 - lr: 0.0010 - 17s/epoch - 20ms/step
Epoch 46/75
876/876 - 17s - loss: 0.5896 - accuracy: 0.7776 - val_loss: 0.6858 - val_accuracy: 0.7733 - lr: 0.0010 - 17s/epoch - 20ms/step
Epoch 47/75
876/876 - 17s - loss: 0.5892 - accuracy: 0.7784 - val_loss: 0.6704 - val_accuracy: 0.7593 - lr: 0.0010 - 17s/epoch - 20ms/step
Epoch 48/75
876/876 - 17s - loss: 0.5858 - accuracy: 0.7789 - val_loss: 0.6437 - val_accuracy: 0.7818 - lr: 0.0010 - 17s/epoch - 20ms/step
Epoch 49/75
876/876 - 17s - loss: 0.5857 - accuracy: 0.7801 - val_loss: 0.7473 - val_accuracy: 0.7387 - lr: 0.0010 - 17s/epoch - 19ms/step
Epoch 50/75
876/876 - 17s - loss: 0.5837 - accuracy: 0.7808 - val_loss: 0.6154 - val_accuracy: 0.7890 - lr: 0.0010 - 17s/epoch - 20ms/step
Epoch 51/75
876/876 - 17s - loss: 0.5844 - accuracy: 0.7805 - val_loss: 0.6419 - val_accuracy: 0.7708 - lr: 0.0010 - 17s/epoch - 20ms/step
Epoch 52/75
876/876 - 17s - loss: 0.5831 - accuracy: 0.7808 - val_loss: 0.6363 - val_accuracy: 0.7924 - lr: 0.0010 - 17s/epoch - 20ms/step
Epoch 53/75
876/876 - 17s - loss: 0.5793 - accuracy: 0.7821 - val_loss: 0.6369 - val_accuracy: 0.7740 - lr: 0.0010 - 17s/epoch - 19ms/step
Epoch 54/75
876/876 - 17s - loss: 0.5797 - accuracy: 0.7819 - val_loss: 0.7385 - val_accuracy: 0.7337 - lr: 0.0010 - 17s/epoch - 20ms/step
Epoch 55/75
876/876 - 17s - loss: 0.5837 - accuracy: 0.7807 - val_loss: 0.7627 - val_accuracy: 0.7124 - lr: 0.0010 - 17s/epoch - 20ms/step
Epoch 56/75
876/876 - 17s - loss: 0.5775 - accuracy: 0.7831 - val_loss: 0.6325 - val_accuracy: 0.7755 - lr: 0.0010 - 17s/epoch - 20ms/step
Epoch 57/75
876/876 - 17s - loss: 0.5766 - accuracy: 0.7827 - val_loss: 0.6531 - val_accuracy: 0.7559 - lr: 0.0010 - 17s/epoch - 20ms/step
Epoch 58/75
876/876 - 17s - loss: 0.5759 - accuracy: 0.7837 - val_loss: 0.6544 - val_accuracy: 0.7729 - lr: 0.0010 - 17s/epoch - 19ms/step
Epoch 59/75
876/876 - 17s - loss: 0.5765 - accuracy: 0.7827 - val_loss: 0.7243 - val_accuracy: 0.7550 - lr: 0.0010 - 17s/epoch - 20ms/step
Epoch 60/75
876/876 - 17s - loss: 0.5744 - accuracy: 0.7841 - val_loss: 0.6993 - val_accuracy: 0.7488 - lr: 0.0010 - 17s/epoch - 20ms/step
Epoch 61/75
876/876 - 17s - loss: 0.5764 - accuracy: 0.7833 - val_loss: 0.6832 - val_accuracy: 0.7457 - lr: 0.0010 - 17s/epoch - 20ms/step
Epoch 62/75
876/876 - 17s - loss: 0.5741 - accuracy: 0.7847 - val_loss: 0.6121 - val_accuracy: 0.7911 - lr: 0.0010 - 17s/epoch - 19ms/step
Epoch 63/75
876/876 - 17s - loss: 0.5751 - accuracy: 0.7837 - val_loss: 0.6848 - val_accuracy: 0.7571 - lr: 0.0010 - 17s/epoch - 20ms/step
Epoch 64/75
876/876 - 17s - loss: 0.5725 - accuracy: 0.7845 - val_loss: 0.6325 - val_accuracy: 0.7690 - lr: 0.0010 - 17s/epoch - 20ms/step
Epoch 65/75
876/876 - 17s - loss: 0.5736 - accuracy: 0.7848 - val_loss: 0.6362 - val_accuracy: 0.7831 - lr: 0.0010 - 17s/epoch - 20ms/step
Epoch 66/75
876/876 - 17s - loss: 0.5840 - accuracy: 0.7843 - val_loss: 0.6461 - val_accuracy: 0.7811 - lr: 0.0010 - 17s/epoch - 20ms/step
Epoch 67/75
876/876 - 17s - loss: 0.5739 - accuracy: 0.7837 - val_loss: 0.7476 - val_accuracy: 0.7217 - lr: 0.0010 - 17s/epoch - 20ms/step
Epoch 68/75
876/876 - 17s - loss: 0.5732 - accuracy: 0.7854 - val_loss: 0.6821 - val_accuracy: 0.7483 - lr: 0.0010 - 17s/epoch - 20ms/step
Epoch 69/75
876/876 - 18s - loss: 0.5763 - accuracy: 0.7827 - val_loss: 0.6741 - val_accuracy: 0.7607 - lr: 0.0010 - 18s/epoch - 21ms/step
Epoch 70/75
876/876 - 17s - loss: 0.5680 - accuracy: 0.7854 - val_loss: 0.6436 - val_accuracy: 0.7554 - lr: 0.0010 - 17s/epoch - 20ms/step
Epoch 71/75
876/876 - 17s - loss: 0.5665 - accuracy: 0.7869 - val_loss: 0.6652 - val_accuracy: 0.7560 - lr: 0.0010 - 17s/epoch - 20ms/step
Epoch 72/75
876/876 - 17s - loss: 0.5636 - accuracy: 0.7882 - val_loss: 0.7126 - val_accuracy: 0.7440 - lr: 0.0010 - 17s/epoch - 20ms/step
Epoch 73/75
876/876 - 17s - loss: 0.5721 - accuracy: 0.7859 - val_loss: 0.7063 - val_accuracy: 0.7466 - lr: 0.0010 - 17s/epoch - 20ms/step
Epoch 74/75
876/876 - 17s - loss: 0.5649 - accuracy: 0.7878 - val_loss: 0.7104 - val_accuracy: 0.7553 - lr: 0.0010 - 17s/epoch - 20ms/step
Epoch 75/75
876/876 - 17s - loss: 0.5680 - accuracy: 0.7868 - val_loss: 0.6441 - val_accuracy: 0.7788 - lr: 0.0010 - 17s/epoch - 20ms/step
fitting with batch size: 500
Epoch 1/75
176/176 - 11s - loss: 0.5212 - accuracy: 0.8037 - val_loss: 0.6640 - val_accuracy: 0.7573 - lr: 0.0010 - 11s/epoch - 63ms/step
Epoch 2/75
176/176 - 9s - loss: 0.5168 - accuracy: 0.8062 - val_loss: 0.6264 - val_accuracy: 0.7743 - lr: 0.0010 - 9s/epoch - 49ms/step
Epoch 3/75
176/176 - 9s - loss: 0.5114 - accuracy: 0.8076 - val_loss: 0.6655 - val_accuracy: 0.7447 - lr: 0.0010 - 9s/epoch - 49ms/step
Epoch 4/75
176/176 - 9s - loss: 0.5136 - accuracy: 0.8061 - val_loss: 0.6747 - val_accuracy: 0.7400 - lr: 0.0010 - 9s/epoch - 49ms/step
Epoch 5/75
176/176 - 9s - loss: 0.5092 - accuracy: 0.8091 - val_loss: 0.7054 - val_accuracy: 0.7356 - lr: 0.0010 - 9s/epoch - 49ms/step
Epoch 6/75
176/176 - 9s - loss: 0.5085 - accuracy: 0.8093 - val_loss: 0.6630 - val_accuracy: 0.7596 - lr: 0.0010 - 9s/epoch - 49ms/step
Epoch 7/75
176/176 - 9s - loss: 0.5075 - accuracy: 0.8095 - val_loss: 0.6755 - val_accuracy: 0.7438 - lr: 0.0010 - 9s/epoch - 49ms/step
Epoch 8/75
176/176 - 9s - loss: 0.5078 - accuracy: 0.8097 - val_loss: 0.6902 - val_accuracy: 0.7427 - lr: 0.0010 - 9s/epoch - 49ms/step
Epoch 9/75
176/176 - 9s - loss: 0.5011 - accuracy: 0.8123 - val_loss: 0.7083 - val_accuracy: 0.7458 - lr: 0.0010 - 9s/epoch - 49ms/step
Epoch 10/75
176/176 - 9s - loss: 0.5053 - accuracy: 0.8105 - val_loss: 0.7287 - val_accuracy: 0.7268 - lr: 0.0010 - 9s/epoch - 50ms/step
Epoch 11/75
176/176 - 9s - loss: 0.4997 - accuracy: 0.8129 - val_loss: 0.7121 - val_accuracy: 0.7327 - lr: 0.0010 - 9s/epoch - 50ms/step
Epoch 12/75
176/176 - 9s - loss: 0.5014 - accuracy: 0.8126 - val_loss: 0.7411 - val_accuracy: 0.7253 - lr: 0.0010 - 9s/epoch - 50ms/step
Epoch 13/75
176/176 - 9s - loss: 0.4966 - accuracy: 0.8133 - val_loss: 0.6859 - val_accuracy: 0.7408 - lr: 0.0010 - 9s/epoch - 50ms/step
Epoch 14/75
176/176 - 9s - loss: 0.4960 - accuracy: 0.8158 - val_loss: 0.6797 - val_accuracy: 0.7478 - lr: 0.0010 - 9s/epoch - 50ms/step
Epoch 15/75
176/176 - 9s - loss: 0.5025 - accuracy: 0.8127 - val_loss: 0.7243 - val_accuracy: 0.7309 - lr: 0.0010 - 9s/epoch - 50ms/step
Epoch 16/75
176/176 - 9s - loss: 0.4984 - accuracy: 0.8130 - val_loss: 0.6768 - val_accuracy: 0.7536 - lr: 0.0010 - 9s/epoch - 50ms/step
Epoch 17/75
176/176 - 9s - loss: 0.4933 - accuracy: 0.8153 - val_loss: 0.6966 - val_accuracy: 0.7424 - lr: 0.0010 - 9s/epoch - 50ms/step
Epoch 18/75
176/176 - 9s - loss: 0.4922 - accuracy: 0.8153 - val_loss: 0.7189 - val_accuracy: 0.7342 - lr: 0.0010 - 9s/epoch - 50ms/step
Epoch 19/75
176/176 - 9s - loss: 0.4937 - accuracy: 0.8144 - val_loss: 0.7144 - val_accuracy: 0.7421 - lr: 0.0010 - 9s/epoch - 50ms/step
Epoch 20/75
176/176 - 9s - loss: 0.4928 - accuracy: 0.8158 - val_loss: 0.6778 - val_accuracy: 0.7548 - lr: 0.0010 - 9s/epoch - 49ms/step
Epoch 21/75
176/176 - 9s - loss: 0.4855 - accuracy: 0.8183 - val_loss: 0.7010 - val_accuracy: 0.7415 - lr: 0.0010 - 9s/epoch - 50ms/step
Epoch 22/75
176/176 - 9s - loss: 0.4869 - accuracy: 0.8174 - val_loss: 0.6709 - val_accuracy: 0.7526 - lr: 0.0010 - 9s/epoch - 50ms/step
Epoch 23/75
176/176 - 9s - loss: 0.4898 - accuracy: 0.8170 - val_loss: 0.7077 - val_accuracy: 0.7380 - lr: 0.0010 - 9s/epoch - 50ms/step
Epoch 24/75
176/176 - 9s - loss: 0.4863 - accuracy: 0.8195 - val_loss: 0.6682 - val_accuracy: 0.7520 - lr: 0.0010 - 9s/epoch - 49ms/step
Epoch 25/75
176/176 - 9s - loss: 0.4874 - accuracy: 0.8178 - val_loss: 0.7314 - val_accuracy: 0.7349 - lr: 0.0010 - 9s/epoch - 50ms/step
Epoch 26/75
176/176 - 9s - loss: 0.4841 - accuracy: 0.8189 - val_loss: 0.7300 - val_accuracy: 0.7378 - lr: 0.0010 - 9s/epoch - 51ms/step
Epoch 27/75
176/176 - 9s - loss: 0.4848 - accuracy: 0.8191 - val_loss: 0.6699 - val_accuracy: 0.7452 - lr: 0.0010 - 9s/epoch - 51ms/step
Epoch 28/75
176/176 - 9s - loss: 0.4837 - accuracy: 0.8189 - val_loss: 0.6698 - val_accuracy: 0.7528 - lr: 0.0010 - 9s/epoch - 51ms/step
Epoch 29/75
176/176 - 9s - loss: 0.4862 - accuracy: 0.8178 - val_loss: 0.7077 - val_accuracy: 0.7352 - lr: 0.0010 - 9s/epoch - 50ms/step
Epoch 30/75
176/176 - 9s - loss: 0.4812 - accuracy: 0.8204 - val_loss: 0.7366 - val_accuracy: 0.7293 - lr: 0.0010 - 9s/epoch - 50ms/step
Epoch 31/75
176/176 - 9s - loss: 0.4776 - accuracy: 0.8210 - val_loss: 0.6819 - val_accuracy: 0.7435 - lr: 0.0010 - 9s/epoch - 50ms/step
Epoch 32/75
176/176 - 9s - loss: 0.4826 - accuracy: 0.8204 - val_loss: 0.6539 - val_accuracy: 0.7614 - lr: 0.0010 - 9s/epoch - 49ms/step
Epoch 33/75
176/176 - 9s - loss: 0.4780 - accuracy: 0.8213 - val_loss: 0.6784 - val_accuracy: 0.7560 - lr: 0.0010 - 9s/epoch - 49ms/step
Epoch 34/75
176/176 - 9s - loss: 0.4775 - accuracy: 0.8223 - val_loss: 0.7134 - val_accuracy: 0.7325 - lr: 0.0010 - 9s/epoch - 50ms/step
Epoch 35/75
176/176 - 9s - loss: 0.4786 - accuracy: 0.8210 - val_loss: 0.7479 - val_accuracy: 0.7201 - lr: 0.0010 - 9s/epoch - 50ms/step
Epoch 36/75
176/176 - 9s - loss: 0.4793 - accuracy: 0.8205 - val_loss: 0.6998 - val_accuracy: 0.7383 - lr: 0.0010 - 9s/epoch - 50ms/step
Epoch 37/75
176/176 - 9s - loss: 0.4742 - accuracy: 0.8230 - val_loss: 0.7470 - val_accuracy: 0.7188 - lr: 0.0010 - 9s/epoch - 50ms/step
Epoch 38/75
176/176 - 9s - loss: 0.4792 - accuracy: 0.8221 - val_loss: 0.6519 - val_accuracy: 0.7563 - lr: 0.0010 - 9s/epoch - 50ms/step
Epoch 39/75
176/176 - 9s - loss: 0.4749 - accuracy: 0.8220 - val_loss: 0.6924 - val_accuracy: 0.7378 - lr: 0.0010 - 9s/epoch - 50ms/step
Epoch 40/75
176/176 - 9s - loss: 0.4736 - accuracy: 0.8229 - val_loss: 0.7133 - val_accuracy: 0.7287 - lr: 0.0010 - 9s/epoch - 50ms/step
Epoch 41/75
176/176 - 9s - loss: 0.4760 - accuracy: 0.8218 - val_loss: 0.6921 - val_accuracy: 0.7439 - lr: 0.0010 - 9s/epoch - 50ms/step
Epoch 42/75
176/176 - 9s - loss: 0.4735 - accuracy: 0.8235 - val_loss: 0.7024 - val_accuracy: 0.7334 - lr: 0.0010 - 9s/epoch - 50ms/step
Epoch 43/75
176/176 - 9s - loss: 0.4700 - accuracy: 0.8255 - val_loss: 0.6719 - val_accuracy: 0.7534 - lr: 0.0010 - 9s/epoch - 50ms/step
Epoch 44/75
176/176 - 9s - loss: 0.4715 - accuracy: 0.8238 - val_loss: 0.6700 - val_accuracy: 0.7538 - lr: 0.0010 - 9s/epoch - 50ms/step
Epoch 45/75
176/176 - 9s - loss: 0.4710 - accuracy: 0.8239 - val_loss: 0.6796 - val_accuracy: 0.7468 - lr: 0.0010 - 9s/epoch - 50ms/step
Epoch 46/75
176/176 - 9s - loss: 0.4686 - accuracy: 0.8251 - val_loss: 0.6940 - val_accuracy: 0.7405 - lr: 0.0010 - 9s/epoch - 50ms/step
Epoch 47/75
176/176 - 9s - loss: 0.4654 - accuracy: 0.8259 - val_loss: 0.6967 - val_accuracy: 0.7371 - lr: 0.0010 - 9s/epoch - 50ms/step
Epoch 48/75
176/176 - 9s - loss: 0.4661 - accuracy: 0.8259 - val_loss: 0.6728 - val_accuracy: 0.7433 - lr: 0.0010 - 9s/epoch - 50ms/step
Epoch 49/75
176/176 - 9s - loss: 0.4673 - accuracy: 0.8248 - val_loss: 0.6918 - val_accuracy: 0.7474 - lr: 0.0010 - 9s/epoch - 50ms/step
Epoch 50/75
176/176 - 9s - loss: 0.4658 - accuracy: 0.8256 - val_loss: 0.6674 - val_accuracy: 0.7498 - lr: 0.0010 - 9s/epoch - 50ms/step
Epoch 51/75
176/176 - 9s - loss: 0.4673 - accuracy: 0.8261 - val_loss: 0.7137 - val_accuracy: 0.7276 - lr: 0.0010 - 9s/epoch - 50ms/step
Epoch 52/75
176/176 - 9s - loss: 0.4636 - accuracy: 0.8267 - val_loss: 0.7127 - val_accuracy: 0.7287 - lr: 0.0010 - 9s/epoch - 50ms/step
Epoch 53/75
176/176 - 9s - loss: 0.4697 - accuracy: 0.8239 - val_loss: 0.6939 - val_accuracy: 0.7426 - lr: 0.0010 - 9s/epoch - 49ms/step
Epoch 54/75
176/176 - 9s - loss: 0.4612 - accuracy: 0.8275 - val_loss: 0.6930 - val_accuracy: 0.7338 - lr: 0.0010 - 9s/epoch - 50ms/step
Epoch 55/75
176/176 - 9s - loss: 0.4674 - accuracy: 0.8260 - val_loss: 0.7225 - val_accuracy: 0.7249 - lr: 0.0010 - 9s/epoch - 49ms/step
Epoch 56/75
176/176 - 9s - loss: 0.4631 - accuracy: 0.8260 - val_loss: 0.6914 - val_accuracy: 0.7416 - lr: 0.0010 - 9s/epoch - 50ms/step
Epoch 57/75
176/176 - 9s - loss: 0.4652 - accuracy: 0.8255 - val_loss: 0.7181 - val_accuracy: 0.7276 - lr: 0.0010 - 9s/epoch - 50ms/step
Epoch 58/75
176/176 - 9s - loss: 0.4606 - accuracy: 0.8275 - val_loss: 0.6799 - val_accuracy: 0.7416 - lr: 0.0010 - 9s/epoch - 50ms/step
Epoch 59/75
176/176 - 9s - loss: 0.4673 - accuracy: 0.8240 - val_loss: 0.7433 - val_accuracy: 0.7152 - lr: 0.0010 - 9s/epoch - 50ms/step
Epoch 60/75
176/176 - 9s - loss: 0.4600 - accuracy: 0.8283 - val_loss: 0.7222 - val_accuracy: 0.7275 - lr: 0.0010 - 9s/epoch - 50ms/step
Epoch 61/75
176/176 - 9s - loss: 0.4578 - accuracy: 0.8285 - val_loss: 0.6789 - val_accuracy: 0.7464 - lr: 0.0010 - 9s/epoch - 49ms/step
Epoch 62/75
176/176 - 9s - loss: 0.4592 - accuracy: 0.8288 - val_loss: 0.6977 - val_accuracy: 0.7430 - lr: 0.0010 - 9s/epoch - 50ms/step
Epoch 63/75
176/176 - 9s - loss: 0.4682 - accuracy: 0.8243 - val_loss: 0.7328 - val_accuracy: 0.7278 - lr: 0.0010 - 9s/epoch - 50ms/step
Epoch 64/75
176/176 - 9s - loss: 0.4581 - accuracy: 0.8295 - val_loss: 0.6713 - val_accuracy: 0.7516 - lr: 0.0010 - 9s/epoch - 50ms/step
Epoch 65/75
176/176 - 9s - loss: 0.4551 - accuracy: 0.8307 - val_loss: 0.7263 - val_accuracy: 0.7246 - lr: 0.0010 - 9s/epoch - 50ms/step
Epoch 66/75
176/176 - 9s - loss: 0.4580 - accuracy: 0.8289 - val_loss: 0.7394 - val_accuracy: 0.7133 - lr: 0.0010 - 9s/epoch - 50ms/step
Epoch 67/75
176/176 - 9s - loss: 0.4577 - accuracy: 0.8280 - val_loss: 0.7550 - val_accuracy: 0.7173 - lr: 0.0010 - 9s/epoch - 49ms/step
Epoch 68/75
176/176 - 9s - loss: 0.4571 - accuracy: 0.8293 - val_loss: 0.7150 - val_accuracy: 0.7308 - lr: 0.0010 - 9s/epoch - 50ms/step
Epoch 69/75
176/176 - 9s - loss: 0.4581 - accuracy: 0.8281 - val_loss: 0.7418 - val_accuracy: 0.7129 - lr: 0.0010 - 9s/epoch - 50ms/step
Epoch 70/75
176/176 - 9s - loss: 0.4651 - accuracy: 0.8262 - val_loss: 0.7523 - val_accuracy: 0.7123 - lr: 0.0010 - 9s/epoch - 50ms/step
Epoch 71/75
176/176 - 9s - loss: 0.4532 - accuracy: 0.8310 - val_loss: 0.7024 - val_accuracy: 0.7324 - lr: 0.0010 - 9s/epoch - 50ms/step
Epoch 72/75
176/176 - 9s - loss: 0.4535 - accuracy: 0.8304 - val_loss: 0.6956 - val_accuracy: 0.7415 - lr: 0.0010 - 9s/epoch - 50ms/step
Epoch 73/75
176/176 - 9s - loss: 0.4540 - accuracy: 0.8308 - val_loss: 0.7358 - val_accuracy: 0.7230 - lr: 0.0010 - 9s/epoch - 50ms/step
Epoch 74/75
176/176 - 9s - loss: 0.4571 - accuracy: 0.8290 - val_loss: 0.7511 - val_accuracy: 0.7152 - lr: 0.0010 - 9s/epoch - 50ms/step
Epoch 75/75
176/176 - 9s - loss: 0.4531 - accuracy: 0.8313 - val_loss: 0.7144 - val_accuracy: 0.7199 - lr: 0.0010 - 9s/epoch - 50ms/step
Epoch number: 100
fitting with batch size: 20
Epoch 1/100
4378/4378 - 75s - loss: 0.6900 - accuracy: 0.7439 - val_loss: 0.6762 - val_accuracy: 0.7811 - lr: 0.0010 - 75s/epoch - 17ms/step
Epoch 2/100
4378/4378 - 71s - loss: 0.6883 - accuracy: 0.7442 - val_loss: 0.8233 - val_accuracy: 0.7313 - lr: 0.0010 - 71s/epoch - 16ms/step
Epoch 3/100
4378/4378 - 71s - loss: 0.7495 - accuracy: 0.7368 - val_loss: 0.7635 - val_accuracy: 0.7765 - lr: 0.0010 - 71s/epoch - 16ms/step
Epoch 4/100
4378/4378 - 71s - loss: 0.6923 - accuracy: 0.7408 - val_loss: 0.6325 - val_accuracy: 0.8023 - lr: 0.0010 - 71s/epoch - 16ms/step
Epoch 5/100
4378/4378 - 71s - loss: 0.6975 - accuracy: 0.7387 - val_loss: 0.6462 - val_accuracy: 0.7828 - lr: 0.0010 - 71s/epoch - 16ms/step
Epoch 6/100
4378/4378 - 71s - loss: 0.7006 - accuracy: 0.7375 - val_loss: 0.7348 - val_accuracy: 0.7339 - lr: 0.0010 - 71s/epoch - 16ms/step
Epoch 7/100
4378/4378 - 71s - loss: 0.7008 - accuracy: 0.7409 - val_loss: 0.7251 - val_accuracy: 0.7611 - lr: 0.0010 - 71s/epoch - 16ms/step
Epoch 8/100
4378/4378 - 71s - loss: 0.7018 - accuracy: 0.7372 - val_loss: 0.6971 - val_accuracy: 0.7888 - lr: 0.0010 - 71s/epoch - 16ms/step
Epoch 9/100
4378/4378 - 71s - loss: 0.7023 - accuracy: 0.7375 - val_loss: 0.7691 - val_accuracy: 0.7199 - lr: 0.0010 - 71s/epoch - 16ms/step
Epoch 10/100
4378/4378 - 71s - loss: 0.7012 - accuracy: 0.7376 - val_loss: 0.6188 - val_accuracy: 0.8140 - lr: 0.0010 - 71s/epoch - 16ms/step
Epoch 11/100
4378/4378 - 71s - loss: 0.7047 - accuracy: 0.7367 - val_loss: 1.0913 - val_accuracy: 0.6554 - lr: 0.0010 - 71s/epoch - 16ms/step
Epoch 12/100
4378/4378 - 71s - loss: 0.7190 - accuracy: 0.7375 - val_loss: 0.8146 - val_accuracy: 0.7068 - lr: 0.0010 - 71s/epoch - 16ms/step
Epoch 13/100
4378/4378 - 71s - loss: 0.7127 - accuracy: 0.7349 - val_loss: 0.7350 - val_accuracy: 0.7745 - lr: 0.0010 - 71s/epoch - 16ms/step
Epoch 14/100
4378/4378 - 69s - loss: 0.7325 - accuracy: 0.7372 - val_loss: 0.8625 - val_accuracy: 0.7055 - lr: 0.0010 - 69s/epoch - 16ms/step
Epoch 15/100
4378/4378 - 70s - loss: 0.7047 - accuracy: 0.7380 - val_loss: 0.8100 - val_accuracy: 0.7074 - lr: 0.0010 - 70s/epoch - 16ms/step
Epoch 16/100
4378/4378 - 70s - loss: 0.7067 - accuracy: 0.7372 - val_loss: 0.7896 - val_accuracy: 0.7567 - lr: 0.0010 - 70s/epoch - 16ms/step
Epoch 17/100
4378/4378 - 70s - loss: 0.7063 - accuracy: 0.7360 - val_loss: 0.7007 - val_accuracy: 0.7805 - lr: 0.0010 - 70s/epoch - 16ms/step
Epoch 18/100
4378/4378 - 69s - loss: 0.7117 - accuracy: 0.7362 - val_loss: 0.8086 - val_accuracy: 0.7246 - lr: 0.0010 - 69s/epoch - 16ms/step
Epoch 19/100
4378/4378 - 70s - loss: 0.7197 - accuracy: 0.7333 - val_loss: 0.7176 - val_accuracy: 0.7537 - lr: 0.0010 - 70s/epoch - 16ms/step
Epoch 20/100
4378/4378 - 70s - loss: 0.7191 - accuracy: 0.7357 - val_loss: 0.7347 - val_accuracy: 0.7438 - lr: 0.0010 - 70s/epoch - 16ms/step
Epoch 21/100
4378/4378 - 70s - loss: 1.7427 - accuracy: 0.5640 - val_loss: 1.7618 - val_accuracy: 0.8176 - lr: 0.0010 - 70s/epoch - 16ms/step
Epoch 22/100
4378/4378 - 70s - loss: 1.6119 - accuracy: 0.1977 - val_loss: 4.4613 - val_accuracy: 0.0736 - lr: 0.0010 - 70s/epoch - 16ms/step
Epoch 23/100
4378/4378 - 69s - loss: 1.6110 - accuracy: 0.1981 - val_loss: 3.9381 - val_accuracy: 0.0742 - lr: 0.0010 - 69s/epoch - 16ms/step
Epoch 24/100
4378/4378 - 69s - loss: 1.6109 - accuracy: 0.2025 - val_loss: 3.4483 - val_accuracy: 0.8124 - lr: 0.0010 - 69s/epoch - 16ms/step
Epoch 25/100
4378/4378 - 70s - loss: 1.6108 - accuracy: 0.1991 - val_loss: 3.0945 - val_accuracy: 0.0656 - lr: 0.0010 - 70s/epoch - 16ms/step
Epoch 26/100
4378/4378 - 70s - loss: 1.6107 - accuracy: 0.1998 - val_loss: 2.6598 - val_accuracy: 0.0253 - lr: 0.0010 - 70s/epoch - 16ms/step
Epoch 27/100
4378/4378 - 69s - loss: 1.6105 - accuracy: 0.2024 - val_loss: 2.2100 - val_accuracy: 0.0744 - lr: 0.0010 - 69s/epoch - 16ms/step
Epoch 28/100
4378/4378 - 70s - loss: 1.6105 - accuracy: 0.1994 - val_loss: 2.0624 - val_accuracy: 0.0695 - lr: 0.0010 - 70s/epoch - 16ms/step
Epoch 29/100
4378/4378 - 70s - loss: 1.6104 - accuracy: 0.1982 - val_loss: 2.4571 - val_accuracy: 0.0257 - lr: 0.0010 - 70s/epoch - 16ms/step
Epoch 30/100
4378/4378 - 70s - loss: 1.6102 - accuracy: 0.1998 - val_loss: 3.1396 - val_accuracy: 0.0651 - lr: 0.0010 - 70s/epoch - 16ms/step
Epoch 31/100
4378/4378 - 70s - loss: 1.6101 - accuracy: 0.2003 - val_loss: 2.9132 - val_accuracy: 0.0100 - lr: 0.0010 - 70s/epoch - 16ms/step
Epoch 32/100
4378/4378 - 69s - loss: 1.6101 - accuracy: 0.1984 - val_loss: 1.9574 - val_accuracy: 0.8154 - lr: 0.0010 - 69s/epoch - 16ms/step
Epoch 33/100
4378/4378 - 69s - loss: 1.6100 - accuracy: 0.2006 - val_loss: 2.1679 - val_accuracy: 0.0742 - lr: 0.0010 - 69s/epoch - 16ms/step
Epoch 34/100
4378/4378 - 70s - loss: 1.6099 - accuracy: 0.2017 - val_loss: 2.1472 - val_accuracy: 0.0252 - lr: 0.0010 - 70s/epoch - 16ms/step
Epoch 35/100
4378/4378 - 69s - loss: 1.6099 - accuracy: 0.1985 - val_loss: 4.7336 - val_accuracy: 0.0658 - lr: 0.0010 - 69s/epoch - 16ms/step
Epoch 36/100
4378/4378 - 70s - loss: 1.6099 - accuracy: 0.1994 - val_loss: 2.1194 - val_accuracy: 0.0663 - lr: 0.0010 - 70s/epoch - 16ms/step
Epoch 37/100
4378/4378 - 70s - loss: 1.6100 - accuracy: 0.1961 - val_loss: 2.4345 - val_accuracy: 0.0652 - lr: 0.0010 - 70s/epoch - 16ms/step
Epoch 38/100
4378/4378 - 69s - loss: 1.6099 - accuracy: 0.1975 - val_loss: 3.1413 - val_accuracy: 0.8120 - lr: 0.0010 - 69s/epoch - 16ms/step
Epoch 39/100
4378/4378 - 70s - loss: 1.6098 - accuracy: 0.2001 - val_loss: 3.2228 - val_accuracy: 0.0740 - lr: 0.0010 - 70s/epoch - 16ms/step
Epoch 40/100
4378/4378 - 69s - loss: 1.6098 - accuracy: 0.2003 - val_loss: 1.7645 - val_accuracy: 0.8273 - lr: 0.0010 - 69s/epoch - 16ms/step
Epoch 41/100
4378/4378 - 70s - loss: 1.6098 - accuracy: 0.1997 - val_loss: 4.6293 - val_accuracy: 0.0739 - lr: 0.0010 - 70s/epoch - 16ms/step
Epoch 42/100
4378/4378 - 69s - loss: 1.6098 - accuracy: 0.2003 - val_loss: 5.8905 - val_accuracy: 0.0736 - lr: 0.0010 - 69s/epoch - 16ms/step
Epoch 43/100
4378/4378 - 70s - loss: 1.6098 - accuracy: 0.1985 - val_loss: 2.0514 - val_accuracy: 0.0894 - lr: 0.0010 - 70s/epoch - 16ms/step
Epoch 44/100
4378/4378 - 70s - loss: 1.6098 - accuracy: 0.1992 - val_loss: 4.6227 - val_accuracy: 0.0252 - lr: 0.0010 - 70s/epoch - 16ms/step
Epoch 45/100
4378/4378 - 69s - loss: 1.6097 - accuracy: 0.1984 - val_loss: 1.9138 - val_accuracy: 0.8261 - lr: 0.0010 - 69s/epoch - 16ms/step
Epoch 46/100
4378/4378 - 71s - loss: 1.6098 - accuracy: 0.2011 - val_loss: 4.2421 - val_accuracy: 0.0251 - lr: 0.0010 - 71s/epoch - 16ms/step
Epoch 47/100
4378/4378 - 70s - loss: 1.6098 - accuracy: 0.1996 - val_loss: 5.5093 - val_accuracy: 0.8121 - lr: 0.0010 - 70s/epoch - 16ms/step
Epoch 48/100
4378/4378 - 69s - loss: 1.6097 - accuracy: 0.2013 - val_loss: 6.3199 - val_accuracy: 0.0253 - lr: 0.0010 - 69s/epoch - 16ms/step
Epoch 49/100
4378/4378 - 70s - loss: 1.6097 - accuracy: 0.1964 - val_loss: 2.7798 - val_accuracy: 0.0296 - lr: 0.0010 - 70s/epoch - 16ms/step
Epoch 50/100
4378/4378 - 69s - loss: 1.6097 - accuracy: 0.1990 - val_loss: 1.7258 - val_accuracy: 0.8240 - lr: 0.0010 - 69s/epoch - 16ms/step
Epoch 51/100
4378/4378 - 70s - loss: 1.6097 - accuracy: 0.1982 - val_loss: 5.3981 - val_accuracy: 0.8119 - lr: 0.0010 - 70s/epoch - 16ms/step
Epoch 52/100
4378/4378 - 70s - loss: 1.6097 - accuracy: 0.1987 - val_loss: 2.0627 - val_accuracy: 0.0671 - lr: 0.0010 - 70s/epoch - 16ms/step
Epoch 53/100
4378/4378 - 69s - loss: 1.6097 - accuracy: 0.2001 - val_loss: 2.1611 - val_accuracy: 0.8156 - lr: 0.0010 - 69s/epoch - 16ms/step
Epoch 54/100
4378/4378 - 69s - loss: 1.6098 - accuracy: 0.1963 - val_loss: 3.6751 - val_accuracy: 0.8118 - lr: 0.0010 - 69s/epoch - 16ms/step
Epoch 55/100
4378/4378 - 70s - loss: 1.6097 - accuracy: 0.1999 - val_loss: 16.4243 - val_accuracy: 0.0661 - lr: 0.0010 - 70s/epoch - 16ms/step
Epoch 56/100
4378/4378 - 69s - loss: 1.6097 - accuracy: 0.1992 - val_loss: 1.8481 - val_accuracy: 0.0859 - lr: 0.0010 - 69s/epoch - 16ms/step
Epoch 57/100
4378/4378 - 70s - loss: 1.6097 - accuracy: 0.1988 - val_loss: 3.2839 - val_accuracy: 0.0663 - lr: 0.0010 - 70s/epoch - 16ms/step
Epoch 58/100
4378/4378 - 69s - loss: 1.6097 - accuracy: 0.1983 - val_loss: 3.8633 - val_accuracy: 0.0655 - lr: 0.0010 - 69s/epoch - 16ms/step
Epoch 59/100
4378/4378 - 69s - loss: 1.6096 - accuracy: 0.2025 - val_loss: 4.8948 - val_accuracy: 0.0085 - lr: 0.0010 - 69s/epoch - 16ms/step
Epoch 60/100
4378/4378 - 69s - loss: 1.6097 - accuracy: 0.2019 - val_loss: 4.8766 - val_accuracy: 0.0661 - lr: 0.0010 - 69s/epoch - 16ms/step
Epoch 61/100
4378/4378 - 70s - loss: 1.6097 - accuracy: 0.1966 - val_loss: 2.5244 - val_accuracy: 0.0893 - lr: 0.0010 - 70s/epoch - 16ms/step
Epoch 62/100
4378/4378 - 70s - loss: 1.6097 - accuracy: 0.2003 - val_loss: 4.7962 - val_accuracy: 0.0409 - lr: 0.0010 - 70s/epoch - 16ms/step
Epoch 63/100
4378/4378 - 69s - loss: 1.6097 - accuracy: 0.1997 - val_loss: 13.2834 - val_accuracy: 0.8118 - lr: 0.0010 - 69s/epoch - 16ms/step
Epoch 64/100
4378/4378 - 70s - loss: 1.6097 - accuracy: 0.2014 - val_loss: 3.2107 - val_accuracy: 0.8121 - lr: 0.0010 - 70s/epoch - 16ms/step
Epoch 65/100
4378/4378 - 70s - loss: 1.6097 - accuracy: 0.1980 - val_loss: 14.2068 - val_accuracy: 0.0747 - lr: 0.0010 - 70s/epoch - 16ms/step
Epoch 66/100
4378/4378 - 70s - loss: 1.6096 - accuracy: 0.2000 - val_loss: 10.9122 - val_accuracy: 0.8129 - lr: 0.0010 - 70s/epoch - 16ms/step
Epoch 67/100
4378/4378 - 70s - loss: 1.6097 - accuracy: 0.1992 - val_loss: 3.3194 - val_accuracy: 0.8276 - lr: 0.0010 - 70s/epoch - 16ms/step
Epoch 68/100
4378/4378 - 70s - loss: 1.6096 - accuracy: 0.2011 - val_loss: 9.7537 - val_accuracy: 0.0652 - lr: 0.0010 - 70s/epoch - 16ms/step
Epoch 69/100
4378/4378 - 69s - loss: 1.6096 - accuracy: 0.1991 - val_loss: 28.7956 - val_accuracy: 0.8118 - lr: 0.0010 - 69s/epoch - 16ms/step
Epoch 70/100
4378/4378 - 70s - loss: 1.6097 - accuracy: 0.1999 - val_loss: 3.9686 - val_accuracy: 0.0739 - lr: 0.0010 - 70s/epoch - 16ms/step
Epoch 71/100
4378/4378 - 70s - loss: 1.6097 - accuracy: 0.1986 - val_loss: 6.6822 - val_accuracy: 0.0747 - lr: 0.0010 - 70s/epoch - 16ms/step
Epoch 72/100
4378/4378 - 70s - loss: 1.6097 - accuracy: 0.1989 - val_loss: 2.1172 - val_accuracy: 0.0215 - lr: 0.0010 - 70s/epoch - 16ms/step
Epoch 73/100
4378/4378 - 69s - loss: 1.6097 - accuracy: 0.1983 - val_loss: 6.5554 - val_accuracy: 0.0262 - lr: 0.0010 - 69s/epoch - 16ms/step
Epoch 74/100
4378/4378 - 69s - loss: 1.6096 - accuracy: 0.1980 - val_loss: 2.1902 - val_accuracy: 0.0231 - lr: 0.0010 - 69s/epoch - 16ms/step
Epoch 75/100
4378/4378 - 69s - loss: 1.6097 - accuracy: 0.1989 - val_loss: 14.2797 - val_accuracy: 0.8123 - lr: 0.0010 - 69s/epoch - 16ms/step
Epoch 76/100
4378/4378 - 69s - loss: 1.6097 - accuracy: 0.2001 - val_loss: 9.1310 - val_accuracy: 0.0252 - lr: 0.0010 - 69s/epoch - 16ms/step
Epoch 77/100
4378/4378 - 70s - loss: 1.6097 - accuracy: 0.1998 - val_loss: 16.7449 - val_accuracy: 0.0074 - lr: 0.0010 - 70s/epoch - 16ms/step
Epoch 78/100
4378/4378 - 70s - loss: 1.6097 - accuracy: 0.1994 - val_loss: 11.4310 - val_accuracy: 0.0654 - lr: 0.0010 - 70s/epoch - 16ms/step
Epoch 79/100
4378/4378 - 70s - loss: 1.6097 - accuracy: 0.2008 - val_loss: 13.3459 - val_accuracy: 0.0256 - lr: 0.0010 - 70s/epoch - 16ms/step
Epoch 80/100
4378/4378 - 70s - loss: 1.6097 - accuracy: 0.2005 - val_loss: 13.3462 - val_accuracy: 0.8116 - lr: 0.0010 - 70s/epoch - 16ms/step
Epoch 81/100
4378/4378 - 70s - loss: 1.6097 - accuracy: 0.2001 - val_loss: 5.4615 - val_accuracy: 0.0072 - lr: 0.0010 - 70s/epoch - 16ms/step
Epoch 82/100
4378/4378 - 70s - loss: 1.6096 - accuracy: 0.2006 - val_loss: 2.5065 - val_accuracy: 0.0894 - lr: 0.0010 - 70s/epoch - 16ms/step
Epoch 83/100
4378/4378 - 70s - loss: 1.6097 - accuracy: 0.2001 - val_loss: 5.2901 - val_accuracy: 0.0736 - lr: 0.0010 - 70s/epoch - 16ms/step
Epoch 84/100
4378/4378 - 70s - loss: 1.6097 - accuracy: 0.1984 - val_loss: 20.4937 - val_accuracy: 0.0651 - lr: 0.0010 - 70s/epoch - 16ms/step
Epoch 85/100
4378/4378 - 70s - loss: 1.6097 - accuracy: 0.1987 - val_loss: 6.3191 - val_accuracy: 0.0074 - lr: 0.0010 - 70s/epoch - 16ms/step
Epoch 86/100
4378/4378 - 71s - loss: 1.6097 - accuracy: 0.1984 - val_loss: 13.3859 - val_accuracy: 0.0074 - lr: 0.0010 - 71s/epoch - 16ms/step
Epoch 87/100
4378/4378 - 69s - loss: 1.6097 - accuracy: 0.1984 - val_loss: 6.6508 - val_accuracy: 0.0074 - lr: 0.0010 - 69s/epoch - 16ms/step
Epoch 88/100
4378/4378 - 69s - loss: 1.6096 - accuracy: 0.2001 - val_loss: 2.3678 - val_accuracy: 0.0209 - lr: 0.0010 - 69s/epoch - 16ms/step
Epoch 89/100
4378/4378 - 69s - loss: 1.6096 - accuracy: 0.1987 - val_loss: 24.3485 - val_accuracy: 0.0649 - lr: 0.0010 - 69s/epoch - 16ms/step
Epoch 90/100
4378/4378 - 70s - loss: 1.6096 - accuracy: 0.1976 - val_loss: 2.0896 - val_accuracy: 0.0894 - lr: 0.0010 - 70s/epoch - 16ms/step
Epoch 91/100
4378/4378 - 70s - loss: 1.6097 - accuracy: 0.1966 - val_loss: 9.0206 - val_accuracy: 0.8129 - lr: 0.0010 - 70s/epoch - 16ms/step
Epoch 92/100
4378/4378 - 70s - loss: 1.6097 - accuracy: 0.2004 - val_loss: 3.0336 - val_accuracy: 0.8252 - lr: 0.0010 - 70s/epoch - 16ms/step
Epoch 93/100
4378/4378 - 69s - loss: 1.6096 - accuracy: 0.2011 - val_loss: 2.8636 - val_accuracy: 0.0809 - lr: 0.0010 - 69s/epoch - 16ms/step
Epoch 94/100
4378/4378 - 70s - loss: 1.6096 - accuracy: 0.2009 - val_loss: 5.1768 - val_accuracy: 0.0747 - lr: 0.0010 - 70s/epoch - 16ms/step
Epoch 95/100
4378/4378 - 70s - loss: 1.6097 - accuracy: 0.1976 - val_loss: 5.7657 - val_accuracy: 0.0652 - lr: 0.0010 - 70s/epoch - 16ms/step
Epoch 96/100
4378/4378 - 70s - loss: 1.6097 - accuracy: 0.1975 - val_loss: 13.4996 - val_accuracy: 0.8118 - lr: 0.0010 - 70s/epoch - 16ms/step
Epoch 97/100
4378/4378 - 70s - loss: 1.6096 - accuracy: 0.2000 - val_loss: 11.0721 - val_accuracy: 0.0076 - lr: 0.0010 - 70s/epoch - 16ms/step
Epoch 98/100
4378/4378 - 70s - loss: 1.6097 - accuracy: 0.1997 - val_loss: 1.8381 - val_accuracy: 0.0866 - lr: 0.0010 - 70s/epoch - 16ms/step
Epoch 99/100
4378/4378 - 70s - loss: 1.6096 - accuracy: 0.2006 - val_loss: 3.6764 - val_accuracy: 0.0409 - lr: 0.0010 - 70s/epoch - 16ms/step
Epoch 100/100
4378/4378 - 70s - loss: 1.6096 - accuracy: 0.1988 - val_loss: 6.2417 - val_accuracy: 0.0651 - lr: 0.0010 - 70s/epoch - 16ms/step
fitting with batch size: 100
Epoch 1/100
876/876 - 20s - loss: 1.6095 - accuracy: 0.1968 - val_loss: 7.4581 - val_accuracy: 0.0739 - lr: 0.0010 - 20s/epoch - 23ms/step
Epoch 2/100
876/876 - 17s - loss: 1.6095 - accuracy: 0.2003 - val_loss: 2.4391 - val_accuracy: 0.0164 - lr: 0.0010 - 17s/epoch - 20ms/step
Epoch 3/100
876/876 - 17s - loss: 1.6096 - accuracy: 0.1987 - val_loss: 2.3164 - val_accuracy: 0.0314 - lr: 0.0010 - 17s/epoch - 20ms/step
Epoch 4/100
876/876 - 17s - loss: 1.6095 - accuracy: 0.1978 - val_loss: 4.6902 - val_accuracy: 0.0739 - lr: 0.0010 - 17s/epoch - 20ms/step
Epoch 5/100
876/876 - 17s - loss: 1.6095 - accuracy: 0.1988 - val_loss: 10.8640 - val_accuracy: 0.0661 - lr: 0.0010 - 17s/epoch - 20ms/step
Epoch 6/100
876/876 - 17s - loss: 1.6095 - accuracy: 0.1998 - val_loss: 9.0521 - val_accuracy: 0.0262 - lr: 0.0010 - 17s/epoch - 20ms/step
Epoch 7/100
876/876 - 17s - loss: 1.6095 - accuracy: 0.1986 - val_loss: 3.4946 - val_accuracy: 0.8130 - lr: 0.0010 - 17s/epoch - 20ms/step
Epoch 8/100
876/876 - 17s - loss: 1.6095 - accuracy: 0.1997 - val_loss: 2.1841 - val_accuracy: 0.0262 - lr: 0.0010 - 17s/epoch - 20ms/step
Epoch 9/100
876/876 - 17s - loss: 1.6095 - accuracy: 0.2000 - val_loss: 7.1707 - val_accuracy: 0.0653 - lr: 0.0010 - 17s/epoch - 20ms/step
Epoch 10/100
876/876 - 17s - loss: 1.6095 - accuracy: 0.2001 - val_loss: 3.2229 - val_accuracy: 0.0684 - lr: 0.0010 - 17s/epoch - 20ms/step
Epoch 11/100
876/876 - 17s - loss: 1.6096 - accuracy: 0.1968 - val_loss: 5.7273 - val_accuracy: 0.0735 - lr: 0.0010 - 17s/epoch - 20ms/step
Epoch 12/100
876/876 - 17s - loss: 1.6095 - accuracy: 0.1990 - val_loss: 8.1611 - val_accuracy: 0.0737 - lr: 0.0010 - 17s/epoch - 20ms/step
Epoch 13/100
876/876 - 17s - loss: 1.6095 - accuracy: 0.1986 - val_loss: 17.5611 - val_accuracy: 0.0074 - lr: 0.0010 - 17s/epoch - 20ms/step
Epoch 14/100
876/876 - 17s - loss: 1.6095 - accuracy: 0.1992 - val_loss: 2.4281 - val_accuracy: 0.0232 - lr: 0.0010 - 17s/epoch - 20ms/step
Epoch 15/100
876/876 - 17s - loss: 1.6096 - accuracy: 0.1968 - val_loss: 7.4705 - val_accuracy: 0.0661 - lr: 0.0010 - 17s/epoch - 20ms/step
Epoch 16/100
876/876 - 17s - loss: 1.6095 - accuracy: 0.2010 - val_loss: 4.3966 - val_accuracy: 0.0072 - lr: 0.0010 - 17s/epoch - 20ms/step
Epoch 17/100
876/876 - 17s - loss: 1.6095 - accuracy: 0.2000 - val_loss: 17.2637 - val_accuracy: 0.8118 - lr: 0.0010 - 17s/epoch - 20ms/step
Epoch 18/100
876/876 - 17s - loss: 1.6095 - accuracy: 0.1994 - val_loss: 9.3134 - val_accuracy: 0.8129 - lr: 0.0010 - 17s/epoch - 20ms/step
Epoch 19/100
876/876 - 17s - loss: 1.6095 - accuracy: 0.2001 - val_loss: 2.4878 - val_accuracy: 0.0770 - lr: 0.0010 - 17s/epoch - 20ms/step
Epoch 20/100
876/876 - 17s - loss: 1.6095 - accuracy: 0.1994 - val_loss: 8.5571 - val_accuracy: 0.0649 - lr: 0.0010 - 17s/epoch - 20ms/step
Epoch 21/100
876/876 - 17s - loss: 1.6095 - accuracy: 0.1991 - val_loss: 2.7183 - val_accuracy: 0.0809 - lr: 0.0010 - 17s/epoch - 20ms/step
Epoch 22/100
876/876 - 17s - loss: 1.6095 - accuracy: 0.1956 - val_loss: 6.5960 - val_accuracy: 0.0085 - lr: 0.0010 - 17s/epoch - 20ms/step
Epoch 23/100
876/876 - 17s - loss: 1.6095 - accuracy: 0.1988 - val_loss: 3.1487 - val_accuracy: 0.0661 - lr: 0.0010 - 17s/epoch - 20ms/step
Epoch 24/100
876/876 - 17s - loss: 1.6095 - accuracy: 0.1982 - val_loss: 6.8057 - val_accuracy: 0.0261 - lr: 0.0010 - 17s/epoch - 20ms/step
Epoch 25/100
876/876 - 17s - loss: 1.6095 - accuracy: 0.1992 - val_loss: 4.5002 - val_accuracy: 0.0649 - lr: 0.0010 - 17s/epoch - 20ms/step
Epoch 26/100
876/876 - 17s - loss: 1.6095 - accuracy: 0.2011 - val_loss: 2.6966 - val_accuracy: 0.0894 - lr: 0.0010 - 17s/epoch - 20ms/step
Epoch 27/100
876/876 - 17s - loss: 1.6095 - accuracy: 0.1991 - val_loss: 3.2511 - val_accuracy: 0.8276 - lr: 0.0010 - 17s/epoch - 20ms/step
Epoch 28/100
876/876 - 17s - loss: 1.6095 - accuracy: 0.1963 - val_loss: 4.1454 - val_accuracy: 0.0737 - lr: 0.0010 - 17s/epoch - 20ms/step
Epoch 29/100
876/876 - 17s - loss: 1.6095 - accuracy: 0.2007 - val_loss: 8.3853 - val_accuracy: 0.8118 - lr: 0.0010 - 17s/epoch - 20ms/step
Epoch 30/100
876/876 - 17s - loss: 1.6095 - accuracy: 0.1991 - val_loss: 17.7826 - val_accuracy: 0.0737 - lr: 0.0010 - 17s/epoch - 20ms/step
Epoch 31/100
876/876 - 17s - loss: 1.6095 - accuracy: 0.1990 - val_loss: 31.2783 - val_accuracy: 0.8116 - lr: 0.0010 - 17s/epoch - 20ms/step
Epoch 32/100
876/876 - 17s - loss: 1.6095 - accuracy: 0.1996 - val_loss: 12.3174 - val_accuracy: 0.0249 - lr: 0.0010 - 17s/epoch - 20ms/step
Epoch 33/100
876/876 - 17s - loss: 1.6095 - accuracy: 0.1991 - val_loss: 16.3445 - val_accuracy: 0.0085 - lr: 0.0010 - 17s/epoch - 20ms/step
Epoch 34/100
876/876 - 17s - loss: 1.6095 - accuracy: 0.1965 - val_loss: 16.9089 - val_accuracy: 0.0649 - lr: 0.0010 - 17s/epoch - 20ms/step
Epoch 35/100
876/876 - 17s - loss: 1.6095 - accuracy: 0.1990 - val_loss: 28.5376 - val_accuracy: 0.0076 - lr: 0.0010 - 17s/epoch - 20ms/step
Epoch 36/100
876/876 - 17s - loss: 1.6095 - accuracy: 0.2010 - val_loss: 4.2162 - val_accuracy: 0.0232 - lr: 0.0010 - 17s/epoch - 20ms/step
Epoch 37/100
876/876 - 17s - loss: 1.6095 - accuracy: 0.1983 - val_loss: 3.5726 - val_accuracy: 0.0232 - lr: 0.0010 - 17s/epoch - 20ms/step
Epoch 38/100
876/876 - 17s - loss: 1.6095 - accuracy: 0.2003 - val_loss: 14.0793 - val_accuracy: 0.0651 - lr: 0.0010 - 17s/epoch - 20ms/step
Epoch 39/100
876/876 - 17s - loss: 1.6095 - accuracy: 0.1999 - val_loss: 28.4386 - val_accuracy: 0.0254 - lr: 0.0010 - 17s/epoch - 20ms/step
Epoch 40/100
876/876 - 17s - loss: 1.6095 - accuracy: 0.2002 - val_loss: 3.1287 - val_accuracy: 0.0732 - lr: 0.0010 - 17s/epoch - 20ms/step
Epoch 41/100
876/876 - 17s - loss: 1.6095 - accuracy: 0.2000 - val_loss: 13.4887 - val_accuracy: 0.0739 - lr: 0.0010 - 17s/epoch - 20ms/step
Epoch 42/100
876/876 - 17s - loss: 1.6095 - accuracy: 0.1998 - val_loss: 10.7253 - val_accuracy: 0.0254 - lr: 0.0010 - 17s/epoch - 20ms/step
Epoch 43/100
876/876 - 17s - loss: 1.6095 - accuracy: 0.1992 - val_loss: 3.1169 - val_accuracy: 0.0770 - lr: 0.0010 - 17s/epoch - 20ms/step
Epoch 44/100
876/876 - 17s - loss: 1.6095 - accuracy: 0.1970 - val_loss: 11.7837 - val_accuracy: 0.0262 - lr: 0.0010 - 17s/epoch - 20ms/step
Epoch 45/100
876/876 - 17s - loss: 1.6095 - accuracy: 0.1964 - val_loss: 10.0596 - val_accuracy: 0.0254 - lr: 0.0010 - 17s/epoch - 20ms/step
Epoch 46/100
876/876 - 17s - loss: 1.6095 - accuracy: 0.1979 - val_loss: 3.3640 - val_accuracy: 0.8118 - lr: 0.0010 - 17s/epoch - 20ms/step
Epoch 47/100
876/876 - 17s - loss: 1.6095 - accuracy: 0.1997 - val_loss: 3.2553 - val_accuracy: 0.0681 - lr: 0.0010 - 17s/epoch - 20ms/step
Epoch 48/100
876/876 - 17s - loss: 1.6095 - accuracy: 0.1990 - val_loss: 4.3083 - val_accuracy: 0.0074 - lr: 0.0010 - 17s/epoch - 20ms/step
Epoch 49/100
876/876 - 17s - loss: 1.6095 - accuracy: 0.1984 - val_loss: 7.2596 - val_accuracy: 0.0739 - lr: 0.0010 - 17s/epoch - 20ms/step
Epoch 50/100
876/876 - 17s - loss: 1.6095 - accuracy: 0.2004 - val_loss: 14.0989 - val_accuracy: 0.8121 - lr: 0.0010 - 17s/epoch - 20ms/step
Epoch 51/100
876/876 - 17s - loss: 1.6095 - accuracy: 0.1973 - val_loss: 5.2249 - val_accuracy: 0.0747 - lr: 0.0010 - 17s/epoch - 20ms/step
Epoch 52/100
876/876 - 17s - loss: 1.6095 - accuracy: 0.1976 - val_loss: 3.6094 - val_accuracy: 0.0809 - lr: 0.0010 - 17s/epoch - 20ms/step
Epoch 53/100
876/876 - 17s - loss: 1.6095 - accuracy: 0.1994 - val_loss: 16.3866 - val_accuracy: 0.0649 - lr: 0.0010 - 17s/epoch - 20ms/step
Epoch 54/100
876/876 - 17s - loss: 1.6095 - accuracy: 0.1995 - val_loss: 5.3540 - val_accuracy: 0.0661 - lr: 0.0010 - 17s/epoch - 20ms/step
Epoch 55/100
876/876 - 17s - loss: 1.6095 - accuracy: 0.2003 - val_loss: 9.4265 - val_accuracy: 0.0747 - lr: 0.0010 - 17s/epoch - 20ms/step
Epoch 56/100
876/876 - 17s - loss: 1.6095 - accuracy: 0.1998 - val_loss: 16.7165 - val_accuracy: 0.0077 - lr: 0.0010 - 17s/epoch - 20ms/step
Epoch 57/100
876/876 - 17s - loss: 1.6095 - accuracy: 0.2016 - val_loss: 16.1224 - val_accuracy: 0.0262 - lr: 0.0010 - 17s/epoch - 20ms/step
Epoch 58/100
876/876 - 17s - loss: 1.6095 - accuracy: 0.1997 - val_loss: 4.8320 - val_accuracy: 0.0252 - lr: 0.0010 - 17s/epoch - 20ms/step
Epoch 59/100
876/876 - 17s - loss: 1.6095 - accuracy: 0.1965 - val_loss: 2.3397 - val_accuracy: 0.0809 - lr: 0.0010 - 17s/epoch - 20ms/step
Epoch 60/100
876/876 - 17s - loss: 1.6095 - accuracy: 0.1986 - val_loss: 9.9484 - val_accuracy: 0.0737 - lr: 0.0010 - 17s/epoch - 20ms/step
Epoch 61/100
876/876 - 17s - loss: 1.6095 - accuracy: 0.1989 - val_loss: 4.7163 - val_accuracy: 0.0252 - lr: 0.0010 - 17s/epoch - 20ms/step
Epoch 62/100
876/876 - 17s - loss: 1.6095 - accuracy: 0.1995 - val_loss: 3.2469 - val_accuracy: 0.8145 - lr: 0.0010 - 17s/epoch - 20ms/step
Epoch 63/100
876/876 - 17s - loss: 1.6095 - accuracy: 0.2000 - val_loss: 4.0650 - val_accuracy: 0.0072 - lr: 0.0010 - 17s/epoch - 20ms/step
Epoch 64/100
876/876 - 17s - loss: 1.6095 - accuracy: 0.1988 - val_loss: 4.5167 - val_accuracy: 0.0651 - lr: 0.0010 - 17s/epoch - 20ms/step
Epoch 65/100
876/876 - 17s - loss: 1.6095 - accuracy: 0.1982 - val_loss: 10.6725 - val_accuracy: 0.0252 - lr: 0.0010 - 17s/epoch - 20ms/step
Epoch 66/100
876/876 - 17s - loss: 1.6095 - accuracy: 0.1992 - val_loss: 15.5743 - val_accuracy: 0.0661 - lr: 0.0010 - 17s/epoch - 20ms/step
Epoch 67/100
876/876 - 17s - loss: 1.6095 - accuracy: 0.1995 - val_loss: 5.6456 - val_accuracy: 0.0661 - lr: 0.0010 - 17s/epoch - 20ms/step
Epoch 68/100
876/876 - 17s - loss: 1.6095 - accuracy: 0.2004 - val_loss: 2.8661 - val_accuracy: 0.0809 - lr: 0.0010 - 17s/epoch - 20ms/step
Epoch 69/100
876/876 - 17s - loss: 1.6095 - accuracy: 0.1981 - val_loss: 2.7642 - val_accuracy: 0.0409 - lr: 0.0010 - 17s/epoch - 20ms/step
Epoch 70/100
876/876 - 17s - loss: 1.6095 - accuracy: 0.1985 - val_loss: 5.3757 - val_accuracy: 0.0076 - lr: 0.0010 - 17s/epoch - 20ms/step
Epoch 71/100
876/876 - 17s - loss: 1.6095 - accuracy: 0.2004 - val_loss: 20.3496 - val_accuracy: 0.0653 - lr: 0.0010 - 17s/epoch - 20ms/step
Epoch 72/100
876/876 - 17s - loss: 1.6095 - accuracy: 0.1973 - val_loss: 5.7168 - val_accuracy: 0.0661 - lr: 0.0010 - 17s/epoch - 20ms/step
Epoch 73/100
876/876 - 16s - loss: 1.6095 - accuracy: 0.1983 - val_loss: 15.9165 - val_accuracy: 0.0252 - lr: 0.0010 - 16s/epoch - 19ms/step
Epoch 74/100
876/876 - 17s - loss: 1.6095 - accuracy: 0.2006 - val_loss: 4.5021 - val_accuracy: 0.8276 - lr: 0.0010 - 17s/epoch - 20ms/step
Epoch 75/100
876/876 - 17s - loss: 1.6095 - accuracy: 0.1967 - val_loss: 9.4027 - val_accuracy: 0.0074 - lr: 0.0010 - 17s/epoch - 20ms/step
Epoch 76/100
876/876 - 17s - loss: 1.6095 - accuracy: 0.1993 - val_loss: 20.0387 - val_accuracy: 0.0254 - lr: 0.0010 - 17s/epoch - 20ms/step
Epoch 77/100
876/876 - 17s - loss: 1.6095 - accuracy: 0.1987 - val_loss: 15.5196 - val_accuracy: 0.0661 - lr: 0.0010 - 17s/epoch - 20ms/step
Epoch 78/100
876/876 - 17s - loss: 1.6096 - accuracy: 0.1977 - val_loss: 14.7884 - val_accuracy: 0.0254 - lr: 0.0010 - 17s/epoch - 20ms/step
Epoch 79/100
876/876 - 17s - loss: 1.6095 - accuracy: 0.2024 - val_loss: 7.2543 - val_accuracy: 0.8116 - lr: 0.0010 - 17s/epoch - 20ms/step
Epoch 80/100
876/876 - 17s - loss: 1.6095 - accuracy: 0.1962 - val_loss: 2.4099 - val_accuracy: 0.0231 - lr: 0.0010 - 17s/epoch - 20ms/step
Epoch 81/100
876/876 - 17s - loss: 1.6095 - accuracy: 0.1991 - val_loss: 13.5684 - val_accuracy: 0.0653 - lr: 0.0010 - 17s/epoch - 20ms/step
Epoch 82/100
876/876 - 17s - loss: 1.6095 - accuracy: 0.1980 - val_loss: 2.1995 - val_accuracy: 0.0808 - lr: 0.0010 - 17s/epoch - 20ms/step
Epoch 83/100
876/876 - 17s - loss: 1.6095 - accuracy: 0.2023 - val_loss: 13.5858 - val_accuracy: 0.0747 - lr: 0.0010 - 17s/epoch - 20ms/step
Epoch 84/100
876/876 - 17s - loss: 1.6095 - accuracy: 0.2018 - val_loss: 12.2648 - val_accuracy: 0.0739 - lr: 0.0010 - 17s/epoch - 20ms/step
Epoch 85/100
876/876 - 17s - loss: 1.6095 - accuracy: 0.1997 - val_loss: 12.8082 - val_accuracy: 0.0249 - lr: 0.0010 - 17s/epoch - 20ms/step
Epoch 86/100
876/876 - 17s - loss: 1.6095 - accuracy: 0.1971 - val_loss: 10.0045 - val_accuracy: 0.0254 - lr: 0.0010 - 17s/epoch - 20ms/step
Epoch 87/100
876/876 - 17s - loss: 1.6095 - accuracy: 0.1994 - val_loss: 3.5655 - val_accuracy: 0.8276 - lr: 0.0010 - 17s/epoch - 20ms/step
Epoch 88/100
876/876 - 17s - loss: 1.6095 - accuracy: 0.2000 - val_loss: 3.4041 - val_accuracy: 0.0409 - lr: 0.0010 - 17s/epoch - 20ms/step
Epoch 89/100
876/876 - 17s - loss: 1.6095 - accuracy: 0.1998 - val_loss: 8.1658 - val_accuracy: 0.0262 - lr: 0.0010 - 17s/epoch - 20ms/step
Epoch 90/100
876/876 - 17s - loss: 1.6095 - accuracy: 0.1989 - val_loss: 4.3291 - val_accuracy: 0.0735 - lr: 0.0010 - 17s/epoch - 20ms/step
Epoch 91/100
876/876 - 17s - loss: 1.6095 - accuracy: 0.1999 - val_loss: 3.7065 - val_accuracy: 0.0072 - lr: 0.0010 - 17s/epoch - 20ms/step
Epoch 92/100
876/876 - 17s - loss: 1.6095 - accuracy: 0.1991 - val_loss: 20.8591 - val_accuracy: 0.0737 - lr: 0.0010 - 17s/epoch - 20ms/step
Epoch 93/100
876/876 - 17s - loss: 1.6095 - accuracy: 0.1994 - val_loss: 6.0945 - val_accuracy: 0.0651 - lr: 0.0010 - 17s/epoch - 20ms/step
Epoch 94/100
876/876 - 17s - loss: 1.6095 - accuracy: 0.2000 - val_loss: 3.5702 - val_accuracy: 0.0809 - lr: 0.0010 - 17s/epoch - 20ms/step
Epoch 95/100
876/876 - 17s - loss: 1.6095 - accuracy: 0.1986 - val_loss: 12.9497 - val_accuracy: 0.0085 - lr: 0.0010 - 17s/epoch - 20ms/step
Epoch 96/100
876/876 - 17s - loss: 1.6095 - accuracy: 0.1998 - val_loss: 12.1078 - val_accuracy: 0.8116 - lr: 0.0010 - 17s/epoch - 20ms/step
Epoch 97/100
876/876 - 17s - loss: 1.6095 - accuracy: 0.1986 - val_loss: 26.2464 - val_accuracy: 0.0072 - lr: 0.0010 - 17s/epoch - 20ms/step
Epoch 98/100
876/876 - 17s - loss: 1.6095 - accuracy: 0.1997 - val_loss: 16.0573 - val_accuracy: 0.0649 - lr: 0.0010 - 17s/epoch - 20ms/step
Epoch 99/100
876/876 - 17s - loss: 1.6095 - accuracy: 0.1990 - val_loss: 4.9686 - val_accuracy: 0.8129 - lr: 0.0010 - 17s/epoch - 20ms/step
Epoch 100/100
876/876 - 17s - loss: 1.6095 - accuracy: 0.1991 - val_loss: 3.0976 - val_accuracy: 0.0074 - lr: 0.0010 - 17s/epoch - 20ms/step
fitting with batch size: 500
Epoch 1/100
176/176 - 11s - loss: 1.6095 - accuracy: 0.1974 - val_loss: 2.8212 - val_accuracy: 0.8121 - lr: 0.0010 - 11s/epoch - 62ms/step
Epoch 2/100
176/176 - 9s - loss: 1.6095 - accuracy: 0.1991 - val_loss: 7.2911 - val_accuracy: 0.0661 - lr: 0.0010 - 9s/epoch - 49ms/step
Epoch 3/100
176/176 - 9s - loss: 1.6095 - accuracy: 0.1994 - val_loss: 13.4764 - val_accuracy: 0.0072 - lr: 0.0010 - 9s/epoch - 49ms/step
Epoch 4/100
176/176 - 9s - loss: 1.6095 - accuracy: 0.1990 - val_loss: 10.1724 - val_accuracy: 0.0649 - lr: 0.0010 - 9s/epoch - 49ms/step
Epoch 5/100
176/176 - 9s - loss: 1.6095 - accuracy: 0.1990 - val_loss: 2.7771 - val_accuracy: 0.0232 - lr: 0.0010 - 9s/epoch - 49ms/step
Epoch 6/100
176/176 - 9s - loss: 1.6095 - accuracy: 0.1981 - val_loss: 4.9113 - val_accuracy: 0.0654 - lr: 0.0010 - 9s/epoch - 49ms/step
Epoch 7/100
176/176 - 9s - loss: 1.6095 - accuracy: 0.1988 - val_loss: 10.2763 - val_accuracy: 0.0747 - lr: 0.0010 - 9s/epoch - 49ms/step
Epoch 8/100
176/176 - 9s - loss: 1.6095 - accuracy: 0.1978 - val_loss: 9.0464 - val_accuracy: 0.0653 - lr: 0.0010 - 9s/epoch - 49ms/step
Epoch 9/100
176/176 - 9s - loss: 1.6095 - accuracy: 0.1992 - val_loss: 14.7838 - val_accuracy: 0.0074 - lr: 0.0010 - 9s/epoch - 49ms/step
Epoch 10/100
176/176 - 9s - loss: 1.6095 - accuracy: 0.2010 - val_loss: 11.0436 - val_accuracy: 0.8118 - lr: 0.0010 - 9s/epoch - 49ms/step
Epoch 11/100
176/176 - 9s - loss: 1.6095 - accuracy: 0.1977 - val_loss: 4.9582 - val_accuracy: 0.0072 - lr: 0.0010 - 9s/epoch - 50ms/step
Epoch 12/100
176/176 - 9s - loss: 1.6095 - accuracy: 0.1992 - val_loss: 2.3693 - val_accuracy: 0.0892 - lr: 0.0010 - 9s/epoch - 50ms/step
Epoch 13/100
176/176 - 9s - loss: 1.6095 - accuracy: 0.1995 - val_loss: 2.6600 - val_accuracy: 0.0232 - lr: 0.0010 - 9s/epoch - 49ms/step
Epoch 14/100
176/176 - 9s - loss: 1.6095 - accuracy: 0.1975 - val_loss: 2.0828 - val_accuracy: 0.8276 - lr: 0.0010 - 9s/epoch - 50ms/step
Epoch 15/100
176/176 - 9s - loss: 1.6095 - accuracy: 0.1993 - val_loss: 9.5633 - val_accuracy: 0.0076 - lr: 0.0010 - 9s/epoch - 49ms/step
Epoch 16/100
176/176 - 9s - loss: 1.6095 - accuracy: 0.1992 - val_loss: 14.6279 - val_accuracy: 0.0085 - lr: 0.0010 - 9s/epoch - 50ms/step
Epoch 17/100
176/176 - 9s - loss: 1.6095 - accuracy: 0.1991 - val_loss: 6.7068 - val_accuracy: 0.0073 - lr: 0.0010 - 9s/epoch - 49ms/step
Epoch 18/100
176/176 - 9s - loss: 1.6095 - accuracy: 0.1989 - val_loss: 10.4091 - val_accuracy: 0.0254 - lr: 0.0010 - 9s/epoch - 49ms/step
Epoch 19/100
176/176 - 9s - loss: 1.6095 - accuracy: 0.1997 - val_loss: 13.5026 - val_accuracy: 0.0254 - lr: 0.0010 - 9s/epoch - 50ms/step
Epoch 20/100
176/176 - 9s - loss: 1.6095 - accuracy: 0.1967 - val_loss: 5.2571 - val_accuracy: 0.8121 - lr: 0.0010 - 9s/epoch - 49ms/step
Epoch 21/100
176/176 - 9s - loss: 1.6095 - accuracy: 0.1987 - val_loss: 4.1803 - val_accuracy: 0.0085 - lr: 0.0010 - 9s/epoch - 49ms/step
Epoch 22/100
176/176 - 9s - loss: 1.6095 - accuracy: 0.1971 - val_loss: 7.5538 - val_accuracy: 0.0076 - lr: 0.0010 - 9s/epoch - 49ms/step
Epoch 23/100
176/176 - 9s - loss: 1.6095 - accuracy: 0.2020 - val_loss: 5.6762 - val_accuracy: 0.0254 - lr: 0.0010 - 9s/epoch - 50ms/step
Epoch 24/100
176/176 - 9s - loss: 1.6095 - accuracy: 0.2003 - val_loss: 4.7604 - val_accuracy: 0.0747 - lr: 0.0010 - 9s/epoch - 50ms/step
Epoch 25/100
176/176 - 9s - loss: 1.6095 - accuracy: 0.2005 - val_loss: 3.0736 - val_accuracy: 0.8142 - lr: 0.0010 - 9s/epoch - 49ms/step
Epoch 26/100
176/176 - 9s - loss: 1.6095 - accuracy: 0.1965 - val_loss: 2.1023 - val_accuracy: 0.0894 - lr: 0.0010 - 9s/epoch - 49ms/step
Epoch 27/100
176/176 - 9s - loss: 1.6095 - accuracy: 0.1979 - val_loss: 4.8247 - val_accuracy: 0.8129 - lr: 0.0010 - 9s/epoch - 49ms/step
Epoch 28/100
176/176 - 9s - loss: 1.6095 - accuracy: 0.1993 - val_loss: 11.4650 - val_accuracy: 0.0661 - lr: 0.0010 - 9s/epoch - 50ms/step
Epoch 29/100
176/176 - 9s - loss: 1.6095 - accuracy: 0.1983 - val_loss: 12.6554 - val_accuracy: 0.0649 - lr: 0.0010 - 9s/epoch - 49ms/step
Epoch 30/100
176/176 - 9s - loss: 1.6095 - accuracy: 0.1986 - val_loss: 2.8369 - val_accuracy: 0.0806 - lr: 0.0010 - 9s/epoch - 49ms/step
Epoch 31/100
176/176 - 9s - loss: 1.6095 - accuracy: 0.1965 - val_loss: 2.3963 - val_accuracy: 0.0409 - lr: 0.0010 - 9s/epoch - 50ms/step
Epoch 32/100
176/176 - 9s - loss: 1.6095 - accuracy: 0.1974 - val_loss: 3.6273 - val_accuracy: 0.8121 - lr: 0.0010 - 9s/epoch - 50ms/step
Epoch 33/100
176/176 - 9s - loss: 1.6095 - accuracy: 0.1980 - val_loss: 2.6156 - val_accuracy: 0.8129 - lr: 0.0010 - 9s/epoch - 50ms/step
Epoch 34/100
176/176 - 9s - loss: 1.6095 - accuracy: 0.1969 - val_loss: 9.6083 - val_accuracy: 0.8116 - lr: 0.0010 - 9s/epoch - 49ms/step
Epoch 35/100
176/176 - 9s - loss: 1.6095 - accuracy: 0.1982 - val_loss: 17.1265 - val_accuracy: 0.0661 - lr: 0.0010 - 9s/epoch - 49ms/step
Epoch 36/100
176/176 - 9s - loss: 1.6095 - accuracy: 0.1993 - val_loss: 14.9041 - val_accuracy: 0.0262 - lr: 0.0010 - 9s/epoch - 49ms/step
Epoch 37/100
176/176 - 9s - loss: 1.6095 - accuracy: 0.2004 - val_loss: 18.6434 - val_accuracy: 0.0661 - lr: 0.0010 - 9s/epoch - 49ms/step
Epoch 38/100
176/176 - 9s - loss: 1.6095 - accuracy: 0.1985 - val_loss: 2.1221 - val_accuracy: 0.0232 - lr: 0.0010 - 9s/epoch - 50ms/step
Epoch 39/100
176/176 - 9s - loss: 1.6095 - accuracy: 0.1998 - val_loss: 8.5104 - val_accuracy: 0.0653 - lr: 0.0010 - 9s/epoch - 50ms/step
Epoch 40/100
176/176 - 9s - loss: 1.6095 - accuracy: 0.2008 - val_loss: 4.1517 - val_accuracy: 0.8276 - lr: 0.0010 - 9s/epoch - 49ms/step
Epoch 41/100
176/176 - 9s - loss: 1.6095 - accuracy: 0.1997 - val_loss: 3.8137 - val_accuracy: 0.0809 - lr: 0.0010 - 9s/epoch - 49ms/step
Epoch 42/100
176/176 - 9s - loss: 1.6095 - accuracy: 0.1990 - val_loss: 2.1707 - val_accuracy: 0.0894 - lr: 0.0010 - 9s/epoch - 49ms/step
Epoch 43/100
176/176 - 9s - loss: 1.6095 - accuracy: 0.1983 - val_loss: 20.6254 - val_accuracy: 0.8116 - lr: 0.0010 - 9s/epoch - 49ms/step
Epoch 44/100
176/176 - 9s - loss: 1.6095 - accuracy: 0.1988 - val_loss: 7.7255 - val_accuracy: 0.0252 - lr: 0.0010 - 9s/epoch - 50ms/step
Epoch 45/100
176/176 - 9s - loss: 1.6095 - accuracy: 0.1990 - val_loss: 10.3129 - val_accuracy: 0.0252 - lr: 0.0010 - 9s/epoch - 50ms/step
Epoch 46/100
176/176 - 9s - loss: 1.6095 - accuracy: 0.1999 - val_loss: 21.5253 - val_accuracy: 0.0735 - lr: 0.0010 - 9s/epoch - 49ms/step
Epoch 47/100
176/176 - 9s - loss: 1.6095 - accuracy: 0.1984 - val_loss: 11.1100 - val_accuracy: 0.0649 - lr: 0.0010 - 9s/epoch - 49ms/step
Epoch 48/100
176/176 - 9s - loss: 1.6095 - accuracy: 0.1998 - val_loss: 8.6143 - val_accuracy: 0.0072 - lr: 0.0010 - 9s/epoch - 49ms/step
Epoch 49/100
176/176 - 9s - loss: 1.6095 - accuracy: 0.2012 - val_loss: 8.0651 - val_accuracy: 0.0661 - lr: 0.0010 - 9s/epoch - 50ms/step
Epoch 50/100
176/176 - 9s - loss: 1.6095 - accuracy: 0.1989 - val_loss: 3.3657 - val_accuracy: 0.0262 - lr: 0.0010 - 9s/epoch - 50ms/step
Epoch 51/100
176/176 - 9s - loss: 1.6095 - accuracy: 0.1990 - val_loss: 2.6977 - val_accuracy: 0.0409 - lr: 0.0010 - 9s/epoch - 49ms/step
Epoch 52/100
176/176 - 9s - loss: 1.6095 - accuracy: 0.2003 - val_loss: 5.6755 - val_accuracy: 0.0739 - lr: 0.0010 - 9s/epoch - 49ms/step
Epoch 53/100
176/176 - 9s - loss: 1.6095 - accuracy: 0.1991 - val_loss: 2.7895 - val_accuracy: 0.0653 - lr: 0.0010 - 9s/epoch - 49ms/step
Epoch 54/100
176/176 - 9s - loss: 1.6095 - accuracy: 0.1988 - val_loss: 16.6753 - val_accuracy: 0.0653 - lr: 0.0010 - 9s/epoch - 50ms/step
Epoch 55/100
176/176 - 9s - loss: 1.6095 - accuracy: 0.1980 - val_loss: 7.8724 - val_accuracy: 0.0257 - lr: 0.0010 - 9s/epoch - 49ms/step
Epoch 56/100
176/176 - 9s - loss: 1.6095 - accuracy: 0.1984 - val_loss: 4.6083 - val_accuracy: 0.0262 - lr: 0.0010 - 9s/epoch - 49ms/step
Epoch 57/100
176/176 - 9s - loss: 1.6095 - accuracy: 0.1982 - val_loss: 3.9079 - val_accuracy: 0.0409 - lr: 0.0010 - 9s/epoch - 49ms/step
Epoch 58/100
176/176 - 9s - loss: 1.6095 - accuracy: 0.1977 - val_loss: 2.0819 - val_accuracy: 0.0408 - lr: 0.0010 - 9s/epoch - 49ms/step
Epoch 59/100
176/176 - 9s - loss: 1.6095 - accuracy: 0.1980 - val_loss: 2.1534 - val_accuracy: 0.0808 - lr: 0.0010 - 9s/epoch - 50ms/step
Epoch 60/100
176/176 - 9s - loss: 1.6095 - accuracy: 0.1995 - val_loss: 6.1272 - val_accuracy: 0.0074 - lr: 0.0010 - 9s/epoch - 49ms/step
Epoch 61/100
176/176 - 9s - loss: 1.6095 - accuracy: 0.1989 - val_loss: 2.6448 - val_accuracy: 0.0406 - lr: 0.0010 - 9s/epoch - 50ms/step
Epoch 62/100
176/176 - 9s - loss: 1.6095 - accuracy: 0.1961 - val_loss: 3.5681 - val_accuracy: 0.0262 - lr: 0.0010 - 9s/epoch - 49ms/step
Epoch 63/100
176/176 - 9s - loss: 1.6095 - accuracy: 0.2001 - val_loss: 12.4071 - val_accuracy: 0.0252 - lr: 0.0010 - 9s/epoch - 50ms/step
Epoch 64/100
176/176 - 9s - loss: 1.6095 - accuracy: 0.1985 - val_loss: 3.9541 - val_accuracy: 0.0254 - lr: 0.0010 - 9s/epoch - 50ms/step
Epoch 65/100
176/176 - 9s - loss: 1.6095 - accuracy: 0.1971 - val_loss: 10.2760 - val_accuracy: 0.8118 - lr: 0.0010 - 9s/epoch - 49ms/step
Epoch 66/100
176/176 - 9s - loss: 1.6095 - accuracy: 0.1979 - val_loss: 2.3344 - val_accuracy: 0.0808 - lr: 0.0010 - 9s/epoch - 49ms/step
Epoch 67/100
176/176 - 9s - loss: 1.6095 - accuracy: 0.1965 - val_loss: 4.5512 - val_accuracy: 0.0651 - lr: 0.0010 - 9s/epoch - 49ms/step
Epoch 68/100
176/176 - 9s - loss: 1.6095 - accuracy: 0.1959 - val_loss: 2.7125 - val_accuracy: 0.8119 - lr: 0.0010 - 9s/epoch - 49ms/step
Epoch 69/100
176/176 - 9s - loss: 1.6095 - accuracy: 0.1967 - val_loss: 4.0819 - val_accuracy: 0.0661 - lr: 0.0010 - 9s/epoch - 50ms/step
Epoch 70/100
176/176 - 9s - loss: 1.6095 - accuracy: 0.1981 - val_loss: 6.0574 - val_accuracy: 0.0747 - lr: 0.0010 - 9s/epoch - 50ms/step
Epoch 71/100
176/176 - 9s - loss: 1.6095 - accuracy: 0.1967 - val_loss: 5.1573 - val_accuracy: 0.0661 - lr: 0.0010 - 9s/epoch - 49ms/step
Epoch 72/100
176/176 - 9s - loss: 1.6095 - accuracy: 0.2000 - val_loss: 3.9163 - val_accuracy: 0.0076 - lr: 0.0010 - 9s/epoch - 50ms/step
Epoch 73/100
176/176 - 9s - loss: 1.6095 - accuracy: 0.1993 - val_loss: 3.6219 - val_accuracy: 0.0809 - lr: 0.0010 - 9s/epoch - 50ms/step
Epoch 74/100
176/176 - 9s - loss: 1.6095 - accuracy: 0.1974 - val_loss: 4.2595 - val_accuracy: 0.0651 - lr: 0.0010 - 9s/epoch - 50ms/step
Epoch 75/100
176/176 - 9s - loss: 1.6095 - accuracy: 0.1993 - val_loss: 8.5935 - val_accuracy: 0.0737 - lr: 0.0010 - 9s/epoch - 49ms/step
Epoch 76/100
176/176 - 9s - loss: 1.6095 - accuracy: 0.1995 - val_loss: 2.3373 - val_accuracy: 0.8276 - lr: 0.0010 - 9s/epoch - 49ms/step
Epoch 77/100
176/176 - 9s - loss: 1.6095 - accuracy: 0.1978 - val_loss: 5.8710 - val_accuracy: 0.0663 - lr: 0.0010 - 9s/epoch - 49ms/step
Epoch 78/100
176/176 - 9s - loss: 1.6095 - accuracy: 0.1967 - val_loss: 2.8439 - val_accuracy: 0.0661 - lr: 0.0010 - 9s/epoch - 49ms/step
Epoch 79/100
176/176 - 9s - loss: 1.6095 - accuracy: 0.1998 - val_loss: 5.1741 - val_accuracy: 0.0737 - lr: 0.0010 - 9s/epoch - 50ms/step
Epoch 80/100
176/176 - 9s - loss: 1.6095 - accuracy: 0.1971 - val_loss: 7.4674 - val_accuracy: 0.0649 - lr: 0.0010 - 9s/epoch - 49ms/step
Epoch 81/100
176/176 - 9s - loss: 1.6095 - accuracy: 0.1976 - val_loss: 10.0188 - val_accuracy: 0.0074 - lr: 0.0010 - 9s/epoch - 50ms/step
Epoch 82/100
176/176 - 9s - loss: 1.6095 - accuracy: 0.1968 - val_loss: 4.1759 - val_accuracy: 0.0894 - lr: 0.0010 - 9s/epoch - 50ms/step
Epoch 83/100
176/176 - 9s - loss: 1.6095 - accuracy: 0.1987 - val_loss: 2.4892 - val_accuracy: 0.8276 - lr: 0.0010 - 9s/epoch - 50ms/step
Epoch 84/100
176/176 - 9s - loss: 1.6095 - accuracy: 0.1986 - val_loss: 8.8397 - val_accuracy: 0.0649 - lr: 0.0010 - 9s/epoch - 50ms/step
Epoch 85/100
176/176 - 9s - loss: 1.6095 - accuracy: 0.1985 - val_loss: 4.1127 - val_accuracy: 0.0076 - lr: 0.0010 - 9s/epoch - 49ms/step
Epoch 86/100
176/176 - 9s - loss: 1.6095 - accuracy: 0.1977 - val_loss: 3.9799 - val_accuracy: 0.0653 - lr: 0.0010 - 9s/epoch - 49ms/step
Epoch 87/100
176/176 - 9s - loss: 1.6095 - accuracy: 0.1985 - val_loss: 10.1277 - val_accuracy: 0.0651 - lr: 0.0010 - 9s/epoch - 50ms/step
Epoch 88/100
176/176 - 9s - loss: 1.6095 - accuracy: 0.1987 - val_loss: 15.0440 - val_accuracy: 0.0735 - lr: 0.0010 - 9s/epoch - 49ms/step
Epoch 89/100
176/176 - 9s - loss: 1.6095 - accuracy: 0.1989 - val_loss: 8.5650 - val_accuracy: 0.0735 - lr: 0.0010 - 9s/epoch - 50ms/step
Epoch 90/100
176/176 - 9s - loss: 1.6095 - accuracy: 0.1997 - val_loss: 19.8664 - val_accuracy: 0.0072 - lr: 0.0010 - 9s/epoch - 49ms/step
Epoch 91/100
176/176 - 9s - loss: 1.6095 - accuracy: 0.2004 - val_loss: 9.1359 - val_accuracy: 0.0254 - lr: 0.0010 - 9s/epoch - 49ms/step
Epoch 92/100
176/176 - 9s - loss: 1.6095 - accuracy: 0.1999 - val_loss: 5.7225 - val_accuracy: 0.0739 - lr: 0.0010 - 9s/epoch - 49ms/step
Epoch 93/100
176/176 - 9s - loss: 1.6095 - accuracy: 0.2009 - val_loss: 10.8756 - val_accuracy: 0.0661 - lr: 0.0010 - 9s/epoch - 50ms/step
Epoch 94/100
176/176 - 9s - loss: 1.6095 - accuracy: 0.1978 - val_loss: 4.0748 - val_accuracy: 0.0262 - lr: 0.0010 - 9s/epoch - 49ms/step
Epoch 95/100
176/176 - 9s - loss: 1.6095 - accuracy: 0.1984 - val_loss: 2.6047 - val_accuracy: 0.8276 - lr: 0.0010 - 9s/epoch - 49ms/step
Epoch 96/100
176/176 - 9s - loss: 1.6095 - accuracy: 0.1998 - val_loss: 3.6141 - val_accuracy: 0.0809 - lr: 0.0010 - 9s/epoch - 49ms/step
Epoch 97/100
176/176 - 9s - loss: 1.6095 - accuracy: 0.1999 - val_loss: 3.7062 - val_accuracy: 0.0249 - lr: 0.0010 - 9s/epoch - 49ms/step
Epoch 98/100
176/176 - 9s - loss: 1.6095 - accuracy: 0.1984 - val_loss: 7.6163 - val_accuracy: 0.0649 - lr: 0.0010 - 9s/epoch - 50ms/step
Epoch 99/100
176/176 - 9s - loss: 1.6095 - accuracy: 0.1984 - val_loss: 2.5337 - val_accuracy: 0.0809 - lr: 0.0010 - 9s/epoch - 50ms/step
Epoch 100/100
176/176 - 9s - loss: 1.6095 - accuracy: 0.1993 - val_loss: 7.6366 - val_accuracy: 0.0653 - lr: 0.0010 - 9s/epoch - 49ms/step
Loss: binary_crossentropy
Epoch number: 75
fitting with batch size: 20
Epoch 1/75
4378/4378 - 77s - loss: 0.5005 - accuracy: 0.1976 - val_loss: 0.6031 - val_accuracy: 0.0735 - lr: 0.0010 - 77s/epoch - 18ms/step
Epoch 2/75
4378/4378 - 75s - loss: 0.5005 - accuracy: 0.1985 - val_loss: 0.5005 - val_accuracy: 0.8276 - lr: 0.0010 - 75s/epoch - 17ms/step
Epoch 3/75
4378/4378 - 74s - loss: 0.5004 - accuracy: 0.2006 - val_loss: 0.6007 - val_accuracy: 0.0737 - lr: 0.0010 - 74s/epoch - 17ms/step
Epoch 4/75
4378/4378 - 74s - loss: 0.5004 - accuracy: 0.1997 - val_loss: 0.5081 - val_accuracy: 0.0808 - lr: 0.0010 - 74s/epoch - 17ms/step
Epoch 5/75
4378/4378 - 75s - loss: 0.5005 - accuracy: 0.2005 - val_loss: 0.5886 - val_accuracy: 0.0256 - lr: 0.0010 - 75s/epoch - 17ms/step
Epoch 6/75
4378/4378 - 75s - loss: 0.5004 - accuracy: 0.2010 - val_loss: 0.5890 - val_accuracy: 0.8116 - lr: 0.0010 - 75s/epoch - 17ms/step
Epoch 7/75
4378/4378 - 75s - loss: 0.5005 - accuracy: 0.1965 - val_loss: 0.5743 - val_accuracy: 0.0735 - lr: 0.0010 - 75s/epoch - 17ms/step
Epoch 8/75
4378/4378 - 75s - loss: 0.5005 - accuracy: 0.2016 - val_loss: 0.5889 - val_accuracy: 0.0254 - lr: 0.0010 - 75s/epoch - 17ms/step
Epoch 9/75
4378/4378 - 75s - loss: 0.5004 - accuracy: 0.1997 - val_loss: 0.5563 - val_accuracy: 0.8116 - lr: 0.0010 - 75s/epoch - 17ms/step
Epoch 10/75
4378/4378 - 74s - loss: 0.5004 - accuracy: 0.2010 - val_loss: 0.6037 - val_accuracy: 0.0072 - lr: 0.0010 - 74s/epoch - 17ms/step
Epoch 11/75
4378/4378 - 74s - loss: 0.5005 - accuracy: 0.1977 - val_loss: 0.5858 - val_accuracy: 0.0074 - lr: 0.0010 - 74s/epoch - 17ms/step
Epoch 12/75
4378/4378 - 74s - loss: 0.5004 - accuracy: 0.1992 - val_loss: 0.5942 - val_accuracy: 0.0661 - lr: 0.0010 - 74s/epoch - 17ms/step
Epoch 13/75
4378/4378 - 75s - loss: 0.5005 - accuracy: 0.1997 - val_loss: 0.5783 - val_accuracy: 0.0651 - lr: 0.0010 - 75s/epoch - 17ms/step
Epoch 14/75
4378/4378 - 74s - loss: 0.5004 - accuracy: 0.2001 - val_loss: 0.6005 - val_accuracy: 0.0254 - lr: 0.0010 - 74s/epoch - 17ms/step
Epoch 15/75
4378/4378 - 74s - loss: 0.5005 - accuracy: 0.1990 - val_loss: 0.5561 - val_accuracy: 0.0771 - lr: 0.0010 - 74s/epoch - 17ms/step
Epoch 16/75
4378/4378 - 74s - loss: 0.5005 - accuracy: 0.2012 - val_loss: 0.5753 - val_accuracy: 0.0655 - lr: 0.0010 - 74s/epoch - 17ms/step
Epoch 17/75
4378/4378 - 74s - loss: 0.5005 - accuracy: 0.1990 - val_loss: 0.5881 - val_accuracy: 0.0249 - lr: 0.0010 - 74s/epoch - 17ms/step
Epoch 18/75
4378/4378 - 74s - loss: 0.5005 - accuracy: 0.1978 - val_loss: 0.5899 - val_accuracy: 0.0737 - lr: 0.0010 - 74s/epoch - 17ms/step
Epoch 19/75
4378/4378 - 74s - loss: 0.5005 - accuracy: 0.1991 - val_loss: 0.5613 - val_accuracy: 0.0074 - lr: 0.0010 - 74s/epoch - 17ms/step
Epoch 20/75
4378/4378 - 74s - loss: 0.5005 - accuracy: 0.2023 - val_loss: 0.5151 - val_accuracy: 0.0215 - lr: 0.0010 - 74s/epoch - 17ms/step
Epoch 21/75
4378/4378 - 75s - loss: 0.5005 - accuracy: 0.1996 - val_loss: 0.5894 - val_accuracy: 0.0653 - lr: 0.0010 - 75s/epoch - 17ms/step
Epoch 22/75
4378/4378 - 75s - loss: 0.5005 - accuracy: 0.1995 - val_loss: 0.5015 - val_accuracy: 0.0806 - lr: 0.0010 - 75s/epoch - 17ms/step
Epoch 23/75
4378/4378 - 75s - loss: 0.5005 - accuracy: 0.1981 - val_loss: 0.5531 - val_accuracy: 0.0251 - lr: 0.0010 - 75s/epoch - 17ms/step
Epoch 24/75
4378/4378 - 74s - loss: 0.5004 - accuracy: 0.2002 - val_loss: 0.5903 - val_accuracy: 0.0262 - lr: 0.0010 - 74s/epoch - 17ms/step
Epoch 25/75
4378/4378 - 74s - loss: 0.5004 - accuracy: 0.1993 - val_loss: 0.5908 - val_accuracy: 0.8116 - lr: 0.0010 - 74s/epoch - 17ms/step
Epoch 26/75
4378/4378 - 74s - loss: 0.5005 - accuracy: 0.1998 - val_loss: 0.5520 - val_accuracy: 0.0649 - lr: 0.0010 - 74s/epoch - 17ms/step
Epoch 27/75
4378/4378 - 74s - loss: 0.5004 - accuracy: 0.2002 - val_loss: 0.5440 - val_accuracy: 0.8132 - lr: 0.0010 - 74s/epoch - 17ms/step
Epoch 28/75
4378/4378 - 75s - loss: 0.5005 - accuracy: 0.1980 - val_loss: 0.5670 - val_accuracy: 0.0074 - lr: 0.0010 - 75s/epoch - 17ms/step
Epoch 29/75
4378/4378 - 75s - loss: 0.5005 - accuracy: 0.1995 - val_loss: 0.5871 - val_accuracy: 0.0651 - lr: 0.0010 - 75s/epoch - 17ms/step
Epoch 30/75
4378/4378 - 74s - loss: 0.5005 - accuracy: 0.1986 - val_loss: 0.5865 - val_accuracy: 0.0076 - lr: 0.0010 - 74s/epoch - 17ms/step
Epoch 31/75
4378/4378 - 75s - loss: 0.5004 - accuracy: 0.1989 - val_loss: 0.5080 - val_accuracy: 0.0390 - lr: 0.0010 - 75s/epoch - 17ms/step
Epoch 32/75
4378/4378 - 75s - loss: 0.5004 - accuracy: 0.2016 - val_loss: 0.5743 - val_accuracy: 0.8125 - lr: 0.0010 - 75s/epoch - 17ms/step
Epoch 33/75
4378/4378 - 75s - loss: 0.5005 - accuracy: 0.1994 - val_loss: 0.5848 - val_accuracy: 0.0085 - lr: 0.0010 - 75s/epoch - 17ms/step
Epoch 34/75
4378/4378 - 75s - loss: 0.5005 - accuracy: 0.1989 - val_loss: 0.5933 - val_accuracy: 0.0651 - lr: 0.0010 - 75s/epoch - 17ms/step
Epoch 35/75
4378/4378 - 75s - loss: 0.5005 - accuracy: 0.1993 - val_loss: 0.5842 - val_accuracy: 0.0262 - lr: 0.0010 - 75s/epoch - 17ms/step
Epoch 36/75
4378/4378 - 75s - loss: 0.5005 - accuracy: 0.2001 - val_loss: 0.5880 - val_accuracy: 0.8129 - lr: 0.0010 - 75s/epoch - 17ms/step
Epoch 37/75
4378/4378 - 74s - loss: 0.5005 - accuracy: 0.1979 - val_loss: 0.5975 - val_accuracy: 0.0737 - lr: 0.0010 - 74s/epoch - 17ms/step
Epoch 38/75
4378/4378 - 74s - loss: 0.5004 - accuracy: 0.2001 - val_loss: 0.6045 - val_accuracy: 0.0252 - lr: 0.0010 - 74s/epoch - 17ms/step
Epoch 39/75
4378/4378 - 75s - loss: 0.5004 - accuracy: 0.1998 - val_loss: 0.5913 - val_accuracy: 0.0649 - lr: 0.0010 - 75s/epoch - 17ms/step
Epoch 40/75
4378/4378 - 74s - loss: 0.5005 - accuracy: 0.1994 - val_loss: 0.5376 - val_accuracy: 0.0657 - lr: 0.0010 - 74s/epoch - 17ms/step
Epoch 41/75
4378/4378 - 75s - loss: 0.5004 - accuracy: 0.1999 - val_loss: 0.6007 - val_accuracy: 0.0737 - lr: 0.0010 - 75s/epoch - 17ms/step
Epoch 42/75
4378/4378 - 75s - loss: 0.5004 - accuracy: 0.1988 - val_loss: 0.5917 - val_accuracy: 0.0651 - lr: 0.0010 - 75s/epoch - 17ms/step
Epoch 43/75
4378/4378 - 75s - loss: 0.5004 - accuracy: 0.2011 - val_loss: 0.5897 - val_accuracy: 0.0735 - lr: 0.0010 - 75s/epoch - 17ms/step
Epoch 44/75
4378/4378 - 75s - loss: 0.5004 - accuracy: 0.1984 - val_loss: 0.5043 - val_accuracy: 0.0808 - lr: 0.0010 - 75s/epoch - 17ms/step
Epoch 45/75
4378/4378 - 74s - loss: 0.5004 - accuracy: 0.2013 - val_loss: 0.6016 - val_accuracy: 0.0249 - lr: 0.0010 - 74s/epoch - 17ms/step
Epoch 46/75
4378/4378 - 74s - loss: 0.5004 - accuracy: 0.1999 - val_loss: 0.5214 - val_accuracy: 0.0667 - lr: 0.0010 - 74s/epoch - 17ms/step
Epoch 47/75
4378/4378 - 74s - loss: 0.5004 - accuracy: 0.1982 - val_loss: 0.5740 - val_accuracy: 0.0649 - lr: 0.0010 - 74s/epoch - 17ms/step
Epoch 48/75
4378/4378 - 74s - loss: 0.5004 - accuracy: 0.2000 - val_loss: 0.5903 - val_accuracy: 0.0661 - lr: 0.0010 - 74s/epoch - 17ms/step
Epoch 49/75
4378/4378 - 75s - loss: 0.5004 - accuracy: 0.1999 - val_loss: 0.5703 - val_accuracy: 0.0079 - lr: 0.0010 - 75s/epoch - 17ms/step
Epoch 50/75
4378/4378 - 74s - loss: 0.5005 - accuracy: 0.1993 - val_loss: 0.5805 - val_accuracy: 0.0741 - lr: 0.0010 - 74s/epoch - 17ms/step
Epoch 51/75
4378/4378 - 75s - loss: 0.5004 - accuracy: 0.1999 - val_loss: 0.5802 - val_accuracy: 0.0747 - lr: 0.0010 - 75s/epoch - 17ms/step
Epoch 52/75
4378/4378 - 74s - loss: 0.5005 - accuracy: 0.1976 - val_loss: 0.5970 - val_accuracy: 0.0739 - lr: 0.0010 - 74s/epoch - 17ms/step
Epoch 53/75
4378/4378 - 74s - loss: 0.5005 - accuracy: 0.1971 - val_loss: 0.5797 - val_accuracy: 0.8129 - lr: 0.0010 - 74s/epoch - 17ms/step
Epoch 54/75
4378/4378 - 74s - loss: 0.5005 - accuracy: 0.1969 - val_loss: 0.5743 - val_accuracy: 0.0258 - lr: 0.0010 - 74s/epoch - 17ms/step
Epoch 55/75
4378/4378 - 74s - loss: 0.5004 - accuracy: 0.2014 - val_loss: 0.5798 - val_accuracy: 0.8129 - lr: 0.0010 - 74s/epoch - 17ms/step
Epoch 56/75
4378/4378 - 74s - loss: 0.5004 - accuracy: 0.2008 - val_loss: 0.5060 - val_accuracy: 0.0894 - lr: 0.0010 - 74s/epoch - 17ms/step
Epoch 57/75
4378/4378 - 75s - loss: 0.5004 - accuracy: 0.1982 - val_loss: 0.5835 - val_accuracy: 0.8129 - lr: 0.0010 - 75s/epoch - 17ms/step
Epoch 58/75
4378/4378 - 75s - loss: 0.5004 - accuracy: 0.1987 - val_loss: 0.5813 - val_accuracy: 0.8129 - lr: 0.0010 - 75s/epoch - 17ms/step
Epoch 59/75
4378/4378 - 74s - loss: 0.5004 - accuracy: 0.2004 - val_loss: 0.5603 - val_accuracy: 0.0653 - lr: 0.0010 - 74s/epoch - 17ms/step
Epoch 60/75
4378/4378 - 74s - loss: 0.5004 - accuracy: 0.1987 - val_loss: 0.5757 - val_accuracy: 0.0252 - lr: 0.0010 - 74s/epoch - 17ms/step
Epoch 61/75
4378/4378 - 74s - loss: 0.5004 - accuracy: 0.1995 - val_loss: 0.5647 - val_accuracy: 0.0085 - lr: 0.0010 - 74s/epoch - 17ms/step
Epoch 62/75
4378/4378 - 74s - loss: 0.5004 - accuracy: 0.1990 - val_loss: 0.5800 - val_accuracy: 0.8118 - lr: 0.0010 - 74s/epoch - 17ms/step
Epoch 63/75
4378/4378 - 74s - loss: 0.5005 - accuracy: 0.1976 - val_loss: 0.6007 - val_accuracy: 0.0074 - lr: 0.0010 - 74s/epoch - 17ms/step
Epoch 64/75
4378/4378 - 75s - loss: 0.5004 - accuracy: 0.1996 - val_loss: 0.5051 - val_accuracy: 0.0409 - lr: 0.0010 - 75s/epoch - 17ms/step
Epoch 65/75
4378/4378 - 75s - loss: 0.5004 - accuracy: 0.2006 - val_loss: 0.5953 - val_accuracy: 0.8121 - lr: 0.0010 - 75s/epoch - 17ms/step
Epoch 66/75
4378/4378 - 75s - loss: 0.5004 - accuracy: 0.1989 - val_loss: 0.5888 - val_accuracy: 0.0735 - lr: 0.0010 - 75s/epoch - 17ms/step
Epoch 67/75
4378/4378 - 74s - loss: 0.5004 - accuracy: 0.1997 - val_loss: 0.5213 - val_accuracy: 0.8224 - lr: 0.0010 - 74s/epoch - 17ms/step
Epoch 68/75
4378/4378 - 74s - loss: 0.5004 - accuracy: 0.1998 - val_loss: 0.5895 - val_accuracy: 0.0254 - lr: 0.0010 - 74s/epoch - 17ms/step
Epoch 69/75
4378/4378 - 74s - loss: 0.5004 - accuracy: 0.1999 - val_loss: 0.5974 - val_accuracy: 0.8116 - lr: 0.0010 - 74s/epoch - 17ms/step
Epoch 70/75
4378/4378 - 75s - loss: 0.5005 - accuracy: 0.1977 - val_loss: 0.5145 - val_accuracy: 0.8208 - lr: 0.0010 - 75s/epoch - 17ms/step
Epoch 71/75
4378/4378 - 74s - loss: 0.5004 - accuracy: 0.1998 - val_loss: 0.5074 - val_accuracy: 0.0231 - lr: 0.0010 - 74s/epoch - 17ms/step
Epoch 72/75
4378/4378 - 75s - loss: 0.5004 - accuracy: 0.1991 - val_loss: 0.5884 - val_accuracy: 0.8116 - lr: 0.0010 - 75s/epoch - 17ms/step
Epoch 73/75
4378/4378 - 75s - loss: 0.5005 - accuracy: 0.1974 - val_loss: 0.5730 - val_accuracy: 0.0747 - lr: 0.0010 - 75s/epoch - 17ms/step
Epoch 74/75
4378/4378 - 74s - loss: 0.5004 - accuracy: 0.1995 - val_loss: 0.6026 - val_accuracy: 0.0735 - lr: 0.0010 - 74s/epoch - 17ms/step
Epoch 75/75
4378/4378 - 75s - loss: 0.5004 - accuracy: 0.2001 - val_loss: 0.5031 - val_accuracy: 0.0231 - lr: 0.0010 - 75s/epoch - 17ms/step
fitting with batch size: 100
Epoch 1/75
876/876 - 21s - loss: 0.5004 - accuracy: 0.1992 - val_loss: 0.5973 - val_accuracy: 0.0252 - lr: 0.0010 - 21s/epoch - 24ms/step
Epoch 2/75
876/876 - 18s - loss: 0.5004 - accuracy: 0.2007 - val_loss: 0.5868 - val_accuracy: 0.0252 - lr: 0.0010 - 18s/epoch - 21ms/step
Epoch 3/75
876/876 - 18s - loss: 0.5004 - accuracy: 0.2006 - val_loss: 0.6021 - val_accuracy: 0.0074 - lr: 0.0010 - 18s/epoch - 21ms/step
Epoch 4/75
876/876 - 18s - loss: 0.5004 - accuracy: 0.1987 - val_loss: 0.5930 - val_accuracy: 0.0254 - lr: 0.0010 - 18s/epoch - 21ms/step
Epoch 5/75
876/876 - 18s - loss: 0.5004 - accuracy: 0.1978 - val_loss: 0.5950 - val_accuracy: 0.0735 - lr: 0.0010 - 18s/epoch - 21ms/step
Epoch 6/75
876/876 - 18s - loss: 0.5004 - accuracy: 0.2002 - val_loss: 0.6025 - val_accuracy: 0.0649 - lr: 0.0010 - 18s/epoch - 21ms/step
Epoch 7/75
876/876 - 18s - loss: 0.5004 - accuracy: 0.1991 - val_loss: 0.5902 - val_accuracy: 0.8116 - lr: 0.0010 - 18s/epoch - 21ms/step
Epoch 8/75
876/876 - 18s - loss: 0.5004 - accuracy: 0.1980 - val_loss: 0.5821 - val_accuracy: 0.0076 - lr: 0.0010 - 18s/epoch - 21ms/step
Epoch 9/75
876/876 - 18s - loss: 0.5004 - accuracy: 0.1981 - val_loss: 0.5788 - val_accuracy: 0.0741 - lr: 0.0010 - 18s/epoch - 21ms/step
Epoch 10/75
876/876 - 18s - loss: 0.5004 - accuracy: 0.1992 - val_loss: 0.5981 - val_accuracy: 0.0072 - lr: 0.0010 - 18s/epoch - 21ms/step
Epoch 11/75
876/876 - 18s - loss: 0.5004 - accuracy: 0.1973 - val_loss: 0.5258 - val_accuracy: 0.8167 - lr: 0.0010 - 18s/epoch - 21ms/step
Epoch 12/75
876/876 - 18s - loss: 0.5004 - accuracy: 0.1963 - val_loss: 0.5945 - val_accuracy: 0.0735 - lr: 0.0010 - 18s/epoch - 21ms/step
Epoch 13/75
876/876 - 18s - loss: 0.5004 - accuracy: 0.1991 - val_loss: 0.5138 - val_accuracy: 0.0853 - lr: 0.0010 - 18s/epoch - 21ms/step
Epoch 14/75
876/876 - 18s - loss: 0.5004 - accuracy: 0.1986 - val_loss: 0.5678 - val_accuracy: 0.0085 - lr: 0.0010 - 18s/epoch - 21ms/step
Epoch 15/75
876/876 - 18s - loss: 0.5004 - accuracy: 0.1981 - val_loss: 0.5918 - val_accuracy: 0.0737 - lr: 0.0010 - 18s/epoch - 21ms/step
Epoch 16/75
876/876 - 18s - loss: 0.5004 - accuracy: 0.1979 - val_loss: 0.5919 - val_accuracy: 0.0651 - lr: 0.0010 - 18s/epoch - 21ms/step
Epoch 17/75
876/876 - 18s - loss: 0.5004 - accuracy: 0.1980 - val_loss: 0.5072 - val_accuracy: 0.0894 - lr: 0.0010 - 18s/epoch - 21ms/step
Epoch 18/75
876/876 - 18s - loss: 0.5004 - accuracy: 0.1993 - val_loss: 0.5119 - val_accuracy: 0.8157 - lr: 0.0010 - 18s/epoch - 21ms/step
Epoch 19/75
876/876 - 18s - loss: 0.5004 - accuracy: 0.2006 - val_loss: 0.5936 - val_accuracy: 0.0072 - lr: 0.0010 - 18s/epoch - 21ms/step
Epoch 20/75
876/876 - 18s - loss: 0.5004 - accuracy: 0.2010 - val_loss: 0.5977 - val_accuracy: 0.0735 - lr: 0.0010 - 18s/epoch - 21ms/step
Epoch 21/75
876/876 - 18s - loss: 0.5004 - accuracy: 0.2013 - val_loss: 0.5963 - val_accuracy: 0.0074 - lr: 0.0010 - 18s/epoch - 21ms/step
Epoch 22/75
876/876 - 18s - loss: 0.5004 - accuracy: 0.2000 - val_loss: 0.5063 - val_accuracy: 0.0894 - lr: 0.0010 - 18s/epoch - 21ms/step
Epoch 23/75
876/876 - 18s - loss: 0.5004 - accuracy: 0.1988 - val_loss: 0.5915 - val_accuracy: 0.0254 - lr: 0.0010 - 18s/epoch - 21ms/step
Epoch 24/75
876/876 - 18s - loss: 0.5004 - accuracy: 0.1992 - val_loss: 0.5975 - val_accuracy: 0.0735 - lr: 0.0010 - 18s/epoch - 21ms/step
Epoch 25/75
876/876 - 18s - loss: 0.5004 - accuracy: 0.2011 - val_loss: 0.5920 - val_accuracy: 0.0072 - lr: 0.0010 - 18s/epoch - 21ms/step
Epoch 26/75
876/876 - 18s - loss: 0.5004 - accuracy: 0.1983 - val_loss: 0.5811 - val_accuracy: 0.0737 - lr: 0.0010 - 18s/epoch - 21ms/step
Epoch 27/75
876/876 - 18s - loss: 0.5004 - accuracy: 0.1979 - val_loss: 0.5032 - val_accuracy: 0.0231 - lr: 0.0010 - 18s/epoch - 21ms/step
Epoch 28/75
876/876 - 18s - loss: 0.5004 - accuracy: 0.1976 - val_loss: 0.5743 - val_accuracy: 0.8116 - lr: 0.0010 - 18s/epoch - 21ms/step
Epoch 29/75
876/876 - 18s - loss: 0.5004 - accuracy: 0.2000 - val_loss: 0.5038 - val_accuracy: 0.0894 - lr: 0.0010 - 18s/epoch - 21ms/step
Epoch 30/75
876/876 - 18s - loss: 0.5004 - accuracy: 0.1982 - val_loss: 0.5062 - val_accuracy: 0.0232 - lr: 0.0010 - 18s/epoch - 21ms/step
Epoch 31/75
876/876 - 18s - loss: 0.5004 - accuracy: 0.1988 - val_loss: 0.5537 - val_accuracy: 0.0072 - lr: 0.0010 - 18s/epoch - 21ms/step
Epoch 32/75
876/876 - 18s - loss: 0.5004 - accuracy: 0.1968 - val_loss: 0.5785 - val_accuracy: 0.0076 - lr: 0.0010 - 18s/epoch - 21ms/step
Epoch 33/75
876/876 - 18s - loss: 0.5004 - accuracy: 0.1973 - val_loss: 0.5973 - val_accuracy: 0.0072 - lr: 0.0010 - 18s/epoch - 21ms/step
Epoch 34/75
876/876 - 18s - loss: 0.5004 - accuracy: 0.2010 - val_loss: 0.5991 - val_accuracy: 0.0737 - lr: 0.0010 - 18s/epoch - 21ms/step
Epoch 35/75
876/876 - 18s - loss: 0.5004 - accuracy: 0.1988 - val_loss: 0.5969 - val_accuracy: 0.0249 - lr: 0.0010 - 18s/epoch - 21ms/step
Epoch 36/75
876/876 - 18s - loss: 0.5004 - accuracy: 0.2001 - val_loss: 0.5967 - val_accuracy: 0.0649 - lr: 0.0010 - 18s/epoch - 21ms/step
Epoch 37/75
876/876 - 18s - loss: 0.5004 - accuracy: 0.1999 - val_loss: 0.5750 - val_accuracy: 0.8121 - lr: 0.0010 - 18s/epoch - 21ms/step
Epoch 38/75
876/876 - 18s - loss: 0.5004 - accuracy: 0.2010 - val_loss: 0.5617 - val_accuracy: 0.8119 - lr: 0.0010 - 18s/epoch - 21ms/step
Epoch 39/75
876/876 - 18s - loss: 0.5004 - accuracy: 0.2004 - val_loss: 0.5672 - val_accuracy: 0.0074 - lr: 0.0010 - 18s/epoch - 21ms/step
Epoch 40/75
876/876 - 18s - loss: 0.5004 - accuracy: 0.1984 - val_loss: 0.5786 - val_accuracy: 0.0651 - lr: 0.0010 - 18s/epoch - 21ms/step
Epoch 41/75
876/876 - 18s - loss: 0.5004 - accuracy: 0.1977 - val_loss: 0.5868 - val_accuracy: 0.8116 - lr: 0.0010 - 18s/epoch - 21ms/step
Epoch 42/75
876/876 - 18s - loss: 0.5004 - accuracy: 0.1968 - val_loss: 0.5736 - val_accuracy: 0.0649 - lr: 0.0010 - 18s/epoch - 21ms/step
Epoch 43/75
876/876 - 18s - loss: 0.5004 - accuracy: 0.1979 - val_loss: 0.5814 - val_accuracy: 0.0653 - lr: 0.0010 - 18s/epoch - 21ms/step
Epoch 44/75
876/876 - 18s - loss: 0.5004 - accuracy: 0.1984 - val_loss: 0.5968 - val_accuracy: 0.0252 - lr: 0.0010 - 18s/epoch - 21ms/step
Epoch 45/75
876/876 - 18s - loss: 0.5004 - accuracy: 0.1993 - val_loss: 0.5911 - val_accuracy: 0.0076 - lr: 0.0010 - 18s/epoch - 21ms/step
Epoch 46/75
876/876 - 18s - loss: 0.5004 - accuracy: 0.1963 - val_loss: 0.5691 - val_accuracy: 0.0649 - lr: 0.0010 - 18s/epoch - 21ms/step
Epoch 47/75
876/876 - 18s - loss: 0.5004 - accuracy: 0.1978 - val_loss: 0.5968 - val_accuracy: 0.0649 - lr: 0.0010 - 18s/epoch - 21ms/step
Epoch 48/75
876/876 - 18s - loss: 0.5004 - accuracy: 0.1975 - val_loss: 0.5039 - val_accuracy: 0.0808 - lr: 0.0010 - 18s/epoch - 21ms/step
Epoch 49/75
876/876 - 18s - loss: 0.5004 - accuracy: 0.2002 - val_loss: 0.5727 - val_accuracy: 0.0088 - lr: 0.0010 - 18s/epoch - 21ms/step
Epoch 50/75
876/876 - 18s - loss: 0.5004 - accuracy: 0.1963 - val_loss: 0.5034 - val_accuracy: 0.8276 - lr: 0.0010 - 18s/epoch - 21ms/step
Epoch 51/75
876/876 - 18s - loss: 0.5004 - accuracy: 0.1978 - val_loss: 0.5056 - val_accuracy: 0.0809 - lr: 0.0010 - 18s/epoch - 21ms/step
Epoch 52/75
876/876 - 18s - loss: 0.5004 - accuracy: 0.1981 - val_loss: 0.5937 - val_accuracy: 0.0249 - lr: 0.0010 - 18s/epoch - 21ms/step
Epoch 53/75
876/876 - 18s - loss: 0.5004 - accuracy: 0.1998 - val_loss: 0.5750 - val_accuracy: 0.8129 - lr: 0.0010 - 18s/epoch - 21ms/step
Epoch 54/75
876/876 - 18s - loss: 0.5004 - accuracy: 0.1975 - val_loss: 0.5768 - val_accuracy: 0.8121 - lr: 0.0010 - 18s/epoch - 21ms/step
Epoch 55/75
876/876 - 18s - loss: 0.5004 - accuracy: 0.1988 - val_loss: 0.5936 - val_accuracy: 0.0649 - lr: 0.0010 - 18s/epoch - 21ms/step
Epoch 56/75
876/876 - 18s - loss: 0.5004 - accuracy: 0.1986 - val_loss: 0.5950 - val_accuracy: 0.0249 - lr: 0.0010 - 18s/epoch - 21ms/step
Epoch 57/75
876/876 - 18s - loss: 0.5004 - accuracy: 0.1979 - val_loss: 0.5875 - val_accuracy: 0.0254 - lr: 0.0010 - 18s/epoch - 21ms/step
Epoch 58/75
876/876 - 18s - loss: 0.5004 - accuracy: 0.1993 - val_loss: 0.5728 - val_accuracy: 0.0739 - lr: 0.0010 - 18s/epoch - 21ms/step
Epoch 59/75
876/876 - 18s - loss: 0.5004 - accuracy: 0.1980 - val_loss: 0.5867 - val_accuracy: 0.0735 - lr: 0.0010 - 18s/epoch - 21ms/step
Epoch 60/75
876/876 - 18s - loss: 0.5004 - accuracy: 0.1991 - val_loss: 0.5939 - val_accuracy: 0.0653 - lr: 0.0010 - 18s/epoch - 21ms/step
Epoch 61/75
876/876 - 18s - loss: 0.5004 - accuracy: 0.2000 - val_loss: 0.5817 - val_accuracy: 0.0074 - lr: 0.0010 - 18s/epoch - 21ms/step
Epoch 62/75
876/876 - 18s - loss: 0.5004 - accuracy: 0.1963 - val_loss: 0.5641 - val_accuracy: 0.8130 - lr: 0.0010 - 18s/epoch - 21ms/step
Epoch 63/75
876/876 - 18s - loss: 0.5004 - accuracy: 0.1985 - val_loss: 0.5973 - val_accuracy: 0.0649 - lr: 0.0010 - 18s/epoch - 21ms/step
Epoch 64/75
876/876 - 18s - loss: 0.5004 - accuracy: 0.1981 - val_loss: 0.5903 - val_accuracy: 0.8118 - lr: 0.0010 - 18s/epoch - 21ms/step
Epoch 65/75
876/876 - 18s - loss: 0.5004 - accuracy: 0.1991 - val_loss: 0.5016 - val_accuracy: 0.8276 - lr: 0.0010 - 18s/epoch - 21ms/step
Epoch 66/75
876/876 - 18s - loss: 0.5004 - accuracy: 0.1986 - val_loss: 0.5935 - val_accuracy: 0.0262 - lr: 0.0010 - 18s/epoch - 21ms/step
Epoch 67/75
876/876 - 18s - loss: 0.5004 - accuracy: 0.1988 - val_loss: 0.5691 - val_accuracy: 0.0085 - lr: 0.0010 - 18s/epoch - 21ms/step
Epoch 68/75
876/876 - 18s - loss: 0.5004 - accuracy: 0.2010 - val_loss: 0.4993 - val_accuracy: 0.8267 - lr: 0.0010 - 18s/epoch - 21ms/step
Epoch 69/75
876/876 - 18s - loss: 0.5004 - accuracy: 0.1991 - val_loss: 0.5743 - val_accuracy: 0.0737 - lr: 0.0010 - 18s/epoch - 21ms/step
Epoch 70/75
876/876 - 18s - loss: 0.5004 - accuracy: 0.1995 - val_loss: 0.5821 - val_accuracy: 0.0739 - lr: 0.0010 - 18s/epoch - 21ms/step
Epoch 71/75
876/876 - 18s - loss: 0.5004 - accuracy: 0.1978 - val_loss: 0.5925 - val_accuracy: 0.0739 - lr: 0.0010 - 18s/epoch - 21ms/step
Epoch 72/75
876/876 - 18s - loss: 0.5004 - accuracy: 0.1992 - val_loss: 0.5932 - val_accuracy: 0.0254 - lr: 0.0010 - 18s/epoch - 21ms/step
Epoch 73/75
876/876 - 18s - loss: 0.5004 - accuracy: 0.2000 - val_loss: 0.5895 - val_accuracy: 0.8129 - lr: 0.0010 - 18s/epoch - 21ms/step
Epoch 74/75
876/876 - 18s - loss: 0.5004 - accuracy: 0.2001 - val_loss: 0.5404 - val_accuracy: 0.0738 - lr: 0.0010 - 18s/epoch - 21ms/step
Epoch 75/75
876/876 - 18s - loss: 0.5004 - accuracy: 0.1983 - val_loss: 0.5887 - val_accuracy: 0.0262 - lr: 0.0010 - 18s/epoch - 21ms/step
fitting with batch size: 500
Epoch 1/75
176/176 - 11s - loss: 0.5004 - accuracy: 0.2002 - val_loss: 0.5847 - val_accuracy: 0.8129 - lr: 0.0010 - 11s/epoch - 64ms/step
Epoch 2/75
176/176 - 9s - loss: 0.5004 - accuracy: 0.1974 - val_loss: 0.5880 - val_accuracy: 0.0262 - lr: 0.0010 - 9s/epoch - 50ms/step
Epoch 3/75
176/176 - 9s - loss: 0.5004 - accuracy: 0.1978 - val_loss: 0.5787 - val_accuracy: 0.8129 - lr: 0.0010 - 9s/epoch - 50ms/step
Epoch 4/75
176/176 - 9s - loss: 0.5004 - accuracy: 0.2004 - val_loss: 0.5128 - val_accuracy: 0.0268 - lr: 0.0010 - 9s/epoch - 50ms/step
Epoch 5/75
176/176 - 9s - loss: 0.5004 - accuracy: 0.1976 - val_loss: 0.5056 - val_accuracy: 0.0232 - lr: 0.0010 - 9s/epoch - 51ms/step
Epoch 6/75
176/176 - 9s - loss: 0.5004 - accuracy: 0.1992 - val_loss: 0.5862 - val_accuracy: 0.0262 - lr: 0.0010 - 9s/epoch - 50ms/step
Epoch 7/75
176/176 - 9s - loss: 0.5004 - accuracy: 0.1995 - val_loss: 0.5247 - val_accuracy: 0.0741 - lr: 0.0010 - 9s/epoch - 50ms/step
Epoch 8/75
176/176 - 9s - loss: 0.5004 - accuracy: 0.1986 - val_loss: 0.5909 - val_accuracy: 0.0661 - lr: 0.0010 - 9s/epoch - 50ms/step
Epoch 9/75
176/176 - 9s - loss: 0.5004 - accuracy: 0.1987 - val_loss: 0.5916 - val_accuracy: 0.0249 - lr: 0.0010 - 9s/epoch - 50ms/step
Epoch 10/75
176/176 - 9s - loss: 0.5004 - accuracy: 0.1993 - val_loss: 0.5575 - val_accuracy: 0.0262 - lr: 0.0010 - 9s/epoch - 50ms/step
Epoch 11/75
176/176 - 9s - loss: 0.5004 - accuracy: 0.1991 - val_loss: 0.5951 - val_accuracy: 0.0651 - lr: 0.0010 - 9s/epoch - 51ms/step
Epoch 12/75
176/176 - 9s - loss: 0.5004 - accuracy: 0.1981 - val_loss: 0.5523 - val_accuracy: 0.8118 - lr: 0.0010 - 9s/epoch - 51ms/step
Epoch 13/75
176/176 - 9s - loss: 0.5004 - accuracy: 0.1998 - val_loss: 0.6011 - val_accuracy: 0.0735 - lr: 0.0010 - 9s/epoch - 51ms/step
Epoch 14/75
176/176 - 9s - loss: 0.5004 - accuracy: 0.1967 - val_loss: 0.5843 - val_accuracy: 0.0249 - lr: 0.0010 - 9s/epoch - 51ms/step
Epoch 15/75
176/176 - 9s - loss: 0.5004 - accuracy: 0.1993 - val_loss: 0.5039 - val_accuracy: 0.0894 - lr: 0.0010 - 9s/epoch - 51ms/step
Epoch 16/75
176/176 - 9s - loss: 0.5004 - accuracy: 0.1982 - val_loss: 0.5585 - val_accuracy: 0.0747 - lr: 0.0010 - 9s/epoch - 51ms/step
Epoch 17/75
176/176 - 9s - loss: 0.5004 - accuracy: 0.1992 - val_loss: 0.5905 - val_accuracy: 0.0074 - lr: 0.0010 - 9s/epoch - 51ms/step
Epoch 18/75
176/176 - 9s - loss: 0.5004 - accuracy: 0.2011 - val_loss: 0.5848 - val_accuracy: 0.0651 - lr: 0.0010 - 9s/epoch - 51ms/step
Epoch 19/75
176/176 - 9s - loss: 0.5004 - accuracy: 0.1996 - val_loss: 0.5999 - val_accuracy: 0.0254 - lr: 0.0010 - 9s/epoch - 51ms/step
Epoch 20/75
176/176 - 9s - loss: 0.5004 - accuracy: 0.1982 - val_loss: 0.5804 - val_accuracy: 0.0653 - lr: 0.0010 - 9s/epoch - 51ms/step
Epoch 21/75
176/176 - 9s - loss: 0.5004 - accuracy: 0.1979 - val_loss: 0.5858 - val_accuracy: 0.0254 - lr: 0.0010 - 9s/epoch - 51ms/step
Epoch 22/75
176/176 - 9s - loss: 0.5004 - accuracy: 0.1984 - val_loss: 0.5920 - val_accuracy: 0.0739 - lr: 0.0010 - 9s/epoch - 51ms/step
Epoch 23/75
176/176 - 9s - loss: 0.5004 - accuracy: 0.1967 - val_loss: 0.5907 - val_accuracy: 0.0653 - lr: 0.0010 - 9s/epoch - 51ms/step
Epoch 24/75
176/176 - 9s - loss: 0.5004 - accuracy: 0.2000 - val_loss: 0.5826 - val_accuracy: 0.0747 - lr: 0.0010 - 9s/epoch - 51ms/step
Epoch 25/75
176/176 - 9s - loss: 0.5004 - accuracy: 0.1982 - val_loss: 0.5920 - val_accuracy: 0.0254 - lr: 0.0010 - 9s/epoch - 51ms/step
Epoch 26/75
176/176 - 9s - loss: 0.5004 - accuracy: 0.1999 - val_loss: 0.5856 - val_accuracy: 0.8121 - lr: 0.0010 - 9s/epoch - 51ms/step
Epoch 27/75
176/176 - 9s - loss: 0.5004 - accuracy: 0.1984 - val_loss: 0.5797 - val_accuracy: 0.0653 - lr: 0.0010 - 9s/epoch - 51ms/step
Epoch 28/75
176/176 - 9s - loss: 0.5004 - accuracy: 0.1986 - val_loss: 0.5824 - val_accuracy: 0.0653 - lr: 0.0010 - 9s/epoch - 51ms/step
Epoch 29/75
176/176 - 9s - loss: 0.5004 - accuracy: 0.1968 - val_loss: 0.5876 - val_accuracy: 0.0649 - lr: 0.0010 - 9s/epoch - 51ms/step
Epoch 30/75
176/176 - 9s - loss: 0.5004 - accuracy: 0.1975 - val_loss: 0.5659 - val_accuracy: 0.0072 - lr: 0.0010 - 9s/epoch - 51ms/step
Epoch 31/75
176/176 - 9s - loss: 0.5004 - accuracy: 0.1968 - val_loss: 0.5702 - val_accuracy: 0.0649 - lr: 0.0010 - 9s/epoch - 51ms/step
Epoch 32/75
176/176 - 9s - loss: 0.5004 - accuracy: 0.1975 - val_loss: 0.5626 - val_accuracy: 0.0085 - lr: 0.0010 - 9s/epoch - 51ms/step
Epoch 33/75
176/176 - 9s - loss: 0.5004 - accuracy: 0.1966 - val_loss: 0.5875 - val_accuracy: 0.8129 - lr: 0.0010 - 9s/epoch - 51ms/step
Epoch 34/75
176/176 - 9s - loss: 0.5004 - accuracy: 0.1988 - val_loss: 0.5878 - val_accuracy: 0.0254 - lr: 0.0010 - 9s/epoch - 51ms/step
Epoch 35/75
176/176 - 9s - loss: 0.5004 - accuracy: 0.1979 - val_loss: 0.5062 - val_accuracy: 0.0894 - lr: 0.0010 - 9s/epoch - 51ms/step
Epoch 36/75
176/176 - 9s - loss: 0.5004 - accuracy: 0.1988 - val_loss: 0.5688 - val_accuracy: 0.0739 - lr: 0.0010 - 9s/epoch - 51ms/step
Epoch 37/75
176/176 - 9s - loss: 0.5004 - accuracy: 0.2001 - val_loss: 0.5945 - val_accuracy: 0.0254 - lr: 0.0010 - 9s/epoch - 51ms/step
Epoch 38/75
176/176 - 9s - loss: 0.5004 - accuracy: 0.2006 - val_loss: 0.5969 - val_accuracy: 0.0076 - lr: 0.0010 - 9s/epoch - 51ms/step
Epoch 39/75
176/176 - 9s - loss: 0.5004 - accuracy: 0.1991 - val_loss: 0.5907 - val_accuracy: 0.0653 - lr: 0.0010 - 9s/epoch - 51ms/step
Epoch 40/75
176/176 - 9s - loss: 0.5004 - accuracy: 0.1997 - val_loss: 0.5974 - val_accuracy: 0.0739 - lr: 0.0010 - 9s/epoch - 51ms/step
Epoch 41/75
176/176 - 9s - loss: 0.5004 - accuracy: 0.1983 - val_loss: 0.5037 - val_accuracy: 0.8276 - lr: 0.0010 - 9s/epoch - 51ms/step
Epoch 42/75
176/176 - 9s - loss: 0.5004 - accuracy: 0.1994 - val_loss: 0.5038 - val_accuracy: 0.8276 - lr: 0.0010 - 9s/epoch - 51ms/step
Epoch 43/75
176/176 - 9s - loss: 0.5004 - accuracy: 0.1996 - val_loss: 0.5065 - val_accuracy: 0.0232 - lr: 0.0010 - 9s/epoch - 51ms/step
Epoch 44/75
176/176 - 9s - loss: 0.5004 - accuracy: 0.1987 - val_loss: 0.5473 - val_accuracy: 0.0653 - lr: 0.0010 - 9s/epoch - 51ms/step
Epoch 45/75
176/176 - 9s - loss: 0.5004 - accuracy: 0.1981 - val_loss: 0.5915 - val_accuracy: 0.0739 - lr: 0.0010 - 9s/epoch - 51ms/step
Epoch 46/75
176/176 - 9s - loss: 0.5004 - accuracy: 0.1999 - val_loss: 0.5909 - val_accuracy: 0.0254 - lr: 0.0010 - 9s/epoch - 51ms/step
Epoch 47/75
176/176 - 9s - loss: 0.5004 - accuracy: 0.1974 - val_loss: 0.5071 - val_accuracy: 0.0231 - lr: 0.0010 - 9s/epoch - 51ms/step
Epoch 48/75
176/176 - 9s - loss: 0.5004 - accuracy: 0.1981 - val_loss: 0.5881 - val_accuracy: 0.0076 - lr: 0.0010 - 9s/epoch - 51ms/step
Epoch 49/75
176/176 - 9s - loss: 0.5004 - accuracy: 0.1983 - val_loss: 0.5990 - val_accuracy: 0.0254 - lr: 0.0010 - 9s/epoch - 51ms/step
Epoch 50/75
176/176 - 9s - loss: 0.5004 - accuracy: 0.1970 - val_loss: 0.5931 - val_accuracy: 0.8121 - lr: 0.0010 - 9s/epoch - 51ms/step
Epoch 51/75
176/176 - 9s - loss: 0.5004 - accuracy: 0.1970 - val_loss: 0.5863 - val_accuracy: 0.0254 - lr: 0.0010 - 9s/epoch - 51ms/step
Epoch 52/75
176/176 - 9s - loss: 0.5004 - accuracy: 0.1984 - val_loss: 0.5848 - val_accuracy: 0.8129 - lr: 0.0010 - 9s/epoch - 51ms/step
Epoch 53/75
176/176 - 9s - loss: 0.5004 - accuracy: 0.1991 - val_loss: 0.5764 - val_accuracy: 0.0085 - lr: 0.0010 - 9s/epoch - 51ms/step
Epoch 54/75
176/176 - 9s - loss: 0.5004 - accuracy: 0.1990 - val_loss: 0.5030 - val_accuracy: 0.0409 - lr: 0.0010 - 9s/epoch - 51ms/step
Epoch 55/75
176/176 - 9s - loss: 0.5004 - accuracy: 0.1984 - val_loss: 0.5027 - val_accuracy: 0.0409 - lr: 0.0010 - 9s/epoch - 51ms/step
Epoch 56/75
176/176 - 9s - loss: 0.5004 - accuracy: 0.1982 - val_loss: 0.5183 - val_accuracy: 0.0850 - lr: 0.0010 - 9s/epoch - 51ms/step
Epoch 57/75
176/176 - 9s - loss: 0.5004 - accuracy: 0.2000 - val_loss: 0.5858 - val_accuracy: 0.8118 - lr: 0.0010 - 9s/epoch - 51ms/step
Epoch 58/75
176/176 - 9s - loss: 0.5004 - accuracy: 0.1989 - val_loss: 0.5870 - val_accuracy: 0.8118 - lr: 0.0010 - 9s/epoch - 51ms/step
Epoch 59/75
176/176 - 9s - loss: 0.5004 - accuracy: 0.1978 - val_loss: 0.5923 - val_accuracy: 0.8118 - lr: 0.0010 - 9s/epoch - 51ms/step
Epoch 60/75
176/176 - 9s - loss: 0.5004 - accuracy: 0.1985 - val_loss: 0.5917 - val_accuracy: 0.0651 - lr: 0.0010 - 9s/epoch - 51ms/step
Epoch 61/75
176/176 - 9s - loss: 0.5004 - accuracy: 0.1972 - val_loss: 0.5852 - val_accuracy: 0.0252 - lr: 0.0010 - 9s/epoch - 51ms/step
Epoch 62/75
176/176 - 9s - loss: 0.5004 - accuracy: 0.1982 - val_loss: 0.5769 - val_accuracy: 0.0651 - lr: 0.0010 - 9s/epoch - 51ms/step
Epoch 63/75
176/176 - 9s - loss: 0.5004 - accuracy: 0.1990 - val_loss: 0.5900 - val_accuracy: 0.0739 - lr: 0.0010 - 9s/epoch - 51ms/step
Epoch 64/75
176/176 - 9s - loss: 0.5004 - accuracy: 0.1993 - val_loss: 0.5043 - val_accuracy: 0.8276 - lr: 0.0010 - 9s/epoch - 51ms/step
Epoch 65/75
176/176 - 9s - loss: 0.5004 - accuracy: 0.1968 - val_loss: 0.5040 - val_accuracy: 0.0231 - lr: 0.0010 - 9s/epoch - 51ms/step
Epoch 66/75
176/176 - 9s - loss: 0.5004 - accuracy: 0.1974 - val_loss: 0.5358 - val_accuracy: 0.8129 - lr: 0.0010 - 9s/epoch - 51ms/step
Epoch 67/75
176/176 - 9s - loss: 0.5004 - accuracy: 0.1974 - val_loss: 0.5431 - val_accuracy: 0.0254 - lr: 0.0010 - 9s/epoch - 51ms/step
Epoch 68/75
176/176 - 9s - loss: 0.5004 - accuracy: 0.1985 - val_loss: 0.5949 - val_accuracy: 0.0737 - lr: 0.0010 - 9s/epoch - 51ms/step
Epoch 69/75
176/176 - 9s - loss: 0.5004 - accuracy: 0.1992 - val_loss: 0.5846 - val_accuracy: 0.0262 - lr: 0.0010 - 9s/epoch - 51ms/step
Epoch 70/75
176/176 - 9s - loss: 0.5004 - accuracy: 0.1981 - val_loss: 0.5820 - val_accuracy: 0.0653 - lr: 0.0010 - 9s/epoch - 51ms/step
Epoch 71/75
176/176 - 9s - loss: 0.5004 - accuracy: 0.1991 - val_loss: 0.5841 - val_accuracy: 0.0254 - lr: 0.0010 - 9s/epoch - 51ms/step
Epoch 72/75
176/176 - 9s - loss: 0.5004 - accuracy: 0.1977 - val_loss: 0.5738 - val_accuracy: 0.0252 - lr: 0.0010 - 9s/epoch - 51ms/step
Epoch 73/75
176/176 - 9s - loss: 0.5004 - accuracy: 0.1980 - val_loss: 0.5344 - val_accuracy: 0.0671 - lr: 0.0010 - 9s/epoch - 51ms/step
Epoch 74/75
176/176 - 9s - loss: 0.5004 - accuracy: 0.1984 - val_loss: 0.5858 - val_accuracy: 0.0649 - lr: 0.0010 - 9s/epoch - 51ms/step
Epoch 75/75
176/176 - 9s - loss: 0.5004 - accuracy: 0.1983 - val_loss: 0.5066 - val_accuracy: 0.0784 - lr: 0.0010 - 9s/epoch - 51ms/step
Epoch number: 100
fitting with batch size: 20
Epoch 1/100
4378/4378 - 78s - loss: 0.5004 - accuracy: 0.1995 - val_loss: 0.5123 - val_accuracy: 0.8246 - lr: 0.0010 - 78s/epoch - 18ms/step
Epoch 2/100
4378/4378 - 74s - loss: 0.5005 - accuracy: 0.1995 - val_loss: 0.5829 - val_accuracy: 0.0262 - lr: 0.0010 - 74s/epoch - 17ms/step
Epoch 3/100
4378/4378 - 74s - loss: 0.5005 - accuracy: 0.1990 - val_loss: 0.5809 - val_accuracy: 0.8118 - lr: 0.0010 - 74s/epoch - 17ms/step
Epoch 4/100
4378/4378 - 74s - loss: 0.5005 - accuracy: 0.1986 - val_loss: 0.5058 - val_accuracy: 0.0894 - lr: 0.0010 - 74s/epoch - 17ms/step
Epoch 5/100
4378/4378 - 74s - loss: 0.5005 - accuracy: 0.1972 - val_loss: 0.5825 - val_accuracy: 0.0661 - lr: 0.0010 - 74s/epoch - 17ms/step
Epoch 6/100
4378/4378 - 74s - loss: 0.5005 - accuracy: 0.1990 - val_loss: 0.5825 - val_accuracy: 0.0649 - lr: 0.0010 - 74s/epoch - 17ms/step
Epoch 7/100
4378/4378 - 75s - loss: 0.5004 - accuracy: 0.1986 - val_loss: 0.5928 - val_accuracy: 0.8118 - lr: 0.0010 - 75s/epoch - 17ms/step
Epoch 8/100
4378/4378 - 74s - loss: 0.5004 - accuracy: 0.1999 - val_loss: 0.5659 - val_accuracy: 0.0076 - lr: 0.0010 - 74s/epoch - 17ms/step
Epoch 9/100
4378/4378 - 74s - loss: 0.5004 - accuracy: 0.1995 - val_loss: 0.5814 - val_accuracy: 0.0742 - lr: 0.0010 - 74s/epoch - 17ms/step
Epoch 10/100
4378/4378 - 75s - loss: 0.5004 - accuracy: 0.1979 - val_loss: 0.5126 - val_accuracy: 0.0863 - lr: 0.0010 - 75s/epoch - 17ms/step
Epoch 11/100
4378/4378 - 74s - loss: 0.5004 - accuracy: 0.2008 - val_loss: 0.5759 - val_accuracy: 0.0258 - lr: 0.0010 - 74s/epoch - 17ms/step
Epoch 12/100
4378/4378 - 74s - loss: 0.5005 - accuracy: 0.1971 - val_loss: 0.5228 - val_accuracy: 0.0109 - lr: 0.0010 - 74s/epoch - 17ms/step
Epoch 13/100
4378/4378 - 74s - loss: 0.5004 - accuracy: 0.2009 - val_loss: 0.5789 - val_accuracy: 0.8118 - lr: 0.0010 - 74s/epoch - 17ms/step
Epoch 14/100
4378/4378 - 74s - loss: 0.5005 - accuracy: 0.1968 - val_loss: 0.5054 - val_accuracy: 0.0809 - lr: 0.0010 - 74s/epoch - 17ms/step
Epoch 15/100
4378/4378 - 74s - loss: 0.5004 - accuracy: 0.1995 - val_loss: 0.5688 - val_accuracy: 0.0655 - lr: 0.0010 - 74s/epoch - 17ms/step
Epoch 16/100
4378/4378 - 74s - loss: 0.5004 - accuracy: 0.2003 - val_loss: 0.4976 - val_accuracy: 0.8276 - lr: 0.0010 - 74s/epoch - 17ms/step
Epoch 17/100
4378/4378 - 74s - loss: 0.5004 - accuracy: 0.1979 - val_loss: 0.5322 - val_accuracy: 0.0072 - lr: 0.0010 - 74s/epoch - 17ms/step
Epoch 18/100
4378/4378 - 74s - loss: 0.5005 - accuracy: 0.1969 - val_loss: 0.5334 - val_accuracy: 0.0114 - lr: 0.0010 - 74s/epoch - 17ms/step
Epoch 19/100
4378/4378 - 74s - loss: 0.5004 - accuracy: 0.2009 - val_loss: 0.5195 - val_accuracy: 0.8187 - lr: 0.0010 - 74s/epoch - 17ms/step
Epoch 20/100
4378/4378 - 74s - loss: 0.5004 - accuracy: 0.2011 - val_loss: 0.5647 - val_accuracy: 0.0268 - lr: 0.0010 - 74s/epoch - 17ms/step
Epoch 21/100
4378/4378 - 74s - loss: 0.5004 - accuracy: 0.1995 - val_loss: 0.5812 - val_accuracy: 0.0737 - lr: 0.0010 - 74s/epoch - 17ms/step
Epoch 22/100
4378/4378 - 74s - loss: 0.5004 - accuracy: 0.1991 - val_loss: 0.5859 - val_accuracy: 0.0085 - lr: 0.0010 - 74s/epoch - 17ms/step
Epoch 23/100
4378/4378 - 74s - loss: 0.5004 - accuracy: 0.1979 - val_loss: 0.5912 - val_accuracy: 0.0254 - lr: 0.0010 - 74s/epoch - 17ms/step
Epoch 24/100
4378/4378 - 75s - loss: 0.5004 - accuracy: 0.1979 - val_loss: 0.5543 - val_accuracy: 0.0251 - lr: 0.0010 - 75s/epoch - 17ms/step
Epoch 25/100
4378/4378 - 74s - loss: 0.5005 - accuracy: 0.1982 - val_loss: 0.5488 - val_accuracy: 0.0267 - lr: 0.0010 - 74s/epoch - 17ms/step
Epoch 26/100
4378/4378 - 74s - loss: 0.5004 - accuracy: 0.2012 - val_loss: 0.5469 - val_accuracy: 0.0077 - lr: 0.0010 - 74s/epoch - 17ms/step
Epoch 27/100
4378/4378 - 74s - loss: 0.5004 - accuracy: 0.2001 - val_loss: 0.5038 - val_accuracy: 0.0230 - lr: 0.0010 - 74s/epoch - 17ms/step
Epoch 28/100
4378/4378 - 74s - loss: 0.5005 - accuracy: 0.1980 - val_loss: 0.5576 - val_accuracy: 0.0258 - lr: 0.0010 - 74s/epoch - 17ms/step
Epoch 29/100
4378/4378 - 74s - loss: 0.5004 - accuracy: 0.1979 - val_loss: 0.5638 - val_accuracy: 0.8129 - lr: 0.0010 - 74s/epoch - 17ms/step
Epoch 30/100
4378/4378 - 74s - loss: 0.5005 - accuracy: 0.1972 - val_loss: 0.5345 - val_accuracy: 0.8151 - lr: 0.0010 - 74s/epoch - 17ms/step
Epoch 31/100
4378/4378 - 75s - loss: 0.5004 - accuracy: 0.1990 - val_loss: 0.5631 - val_accuracy: 0.0736 - lr: 0.0010 - 75s/epoch - 17ms/step
Epoch 32/100
4378/4378 - 75s - loss: 0.5004 - accuracy: 0.1995 - val_loss: 0.5722 - val_accuracy: 0.0737 - lr: 0.0010 - 75s/epoch - 17ms/step
Epoch 33/100
4378/4378 - 74s - loss: 0.5004 - accuracy: 0.1981 - val_loss: 0.5197 - val_accuracy: 0.0120 - lr: 0.0010 - 74s/epoch - 17ms/step
Epoch 34/100
4378/4378 - 75s - loss: 0.5005 - accuracy: 0.1964 - val_loss: 0.5744 - val_accuracy: 0.0252 - lr: 0.0010 - 75s/epoch - 17ms/step
Epoch 35/100
4378/4378 - 74s - loss: 0.5004 - accuracy: 0.1986 - val_loss: 0.5398 - val_accuracy: 0.8123 - lr: 0.0010 - 74s/epoch - 17ms/step
Epoch 36/100
4378/4378 - 74s - loss: 0.5005 - accuracy: 0.1974 - val_loss: 0.5259 - val_accuracy: 0.0846 - lr: 0.0010 - 74s/epoch - 17ms/step
Epoch 37/100
4378/4378 - 74s - loss: 0.5004 - accuracy: 0.2009 - val_loss: 0.5782 - val_accuracy: 0.8118 - lr: 0.0010 - 74s/epoch - 17ms/step
Epoch 38/100
4378/4378 - 74s - loss: 0.5004 - accuracy: 0.2019 - val_loss: 0.5888 - val_accuracy: 0.0737 - lr: 0.0010 - 74s/epoch - 17ms/step
Epoch 39/100
4378/4378 - 75s - loss: 0.5004 - accuracy: 0.2011 - val_loss: 0.5132 - val_accuracy: 0.0193 - lr: 0.0010 - 75s/epoch - 17ms/step
Epoch 40/100
4378/4378 - 75s - loss: 0.5004 - accuracy: 0.1978 - val_loss: 0.5689 - val_accuracy: 0.0073 - lr: 0.0010 - 75s/epoch - 17ms/step
Epoch 41/100
4378/4378 - 74s - loss: 0.5004 - accuracy: 0.1995 - val_loss: 0.5634 - val_accuracy: 0.0663 - lr: 0.0010 - 74s/epoch - 17ms/step
Epoch 42/100
4378/4378 - 74s - loss: 0.5005 - accuracy: 0.1964 - val_loss: 0.5841 - val_accuracy: 0.0249 - lr: 0.0010 - 74s/epoch - 17ms/step
Epoch 43/100
4378/4378 - 74s - loss: 0.5004 - accuracy: 0.2002 - val_loss: 0.5250 - val_accuracy: 0.0855 - lr: 0.0010 - 74s/epoch - 17ms/step
Epoch 44/100
4378/4378 - 74s - loss: 0.5004 - accuracy: 0.1995 - val_loss: 0.5701 - val_accuracy: 0.0655 - lr: 0.0010 - 74s/epoch - 17ms/step
Epoch 45/100
4378/4378 - 74s - loss: 0.5004 - accuracy: 0.1992 - val_loss: 0.5728 - val_accuracy: 0.8129 - lr: 0.0010 - 74s/epoch - 17ms/step
Epoch 46/100
4378/4378 - 75s - loss: 0.5004 - accuracy: 0.2011 - val_loss: 0.5779 - val_accuracy: 0.0072 - lr: 0.0010 - 75s/epoch - 17ms/step
Epoch 47/100
4378/4378 - 74s - loss: 0.5005 - accuracy: 0.1977 - val_loss: 0.5853 - val_accuracy: 0.8121 - lr: 0.0010 - 74s/epoch - 17ms/step
Epoch 48/100
4378/4378 - 74s - loss: 0.5004 - accuracy: 0.2004 - val_loss: 0.5642 - val_accuracy: 0.0254 - lr: 0.0010 - 74s/epoch - 17ms/step
Epoch 49/100
4378/4378 - 74s - loss: 0.5004 - accuracy: 0.1995 - val_loss: 0.5533 - val_accuracy: 0.0255 - lr: 0.0010 - 74s/epoch - 17ms/step
Epoch 50/100
4378/4378 - 74s - loss: 0.5005 - accuracy: 0.1967 - val_loss: 0.5646 - val_accuracy: 0.0654 - lr: 0.0010 - 74s/epoch - 17ms/step
Epoch 51/100
4378/4378 - 75s - loss: 0.5004 - accuracy: 0.2006 - val_loss: 0.5810 - val_accuracy: 0.0661 - lr: 0.0010 - 75s/epoch - 17ms/step
Epoch 52/100
4378/4378 - 74s - loss: 0.5005 - accuracy: 0.1990 - val_loss: 0.5655 - val_accuracy: 0.0748 - lr: 0.0010 - 74s/epoch - 17ms/step
Epoch 53/100
4378/4378 - 74s - loss: 0.5004 - accuracy: 0.1978 - val_loss: 0.5502 - val_accuracy: 0.0737 - lr: 0.0010 - 74s/epoch - 17ms/step
Epoch 54/100
4378/4378 - 74s - loss: 0.5004 - accuracy: 0.1966 - val_loss: 0.5858 - val_accuracy: 0.0085 - lr: 0.0010 - 74s/epoch - 17ms/step
Epoch 55/100
4378/4378 - 74s - loss: 0.5004 - accuracy: 0.2015 - val_loss: 0.5722 - val_accuracy: 0.0653 - lr: 0.0010 - 74s/epoch - 17ms/step
Epoch 56/100
4378/4378 - 74s - loss: 0.5004 - accuracy: 0.1994 - val_loss: 0.5833 - val_accuracy: 0.0075 - lr: 0.0010 - 74s/epoch - 17ms/step
Epoch 57/100
4378/4378 - 74s - loss: 0.5004 - accuracy: 0.2014 - val_loss: 0.5454 - val_accuracy: 0.0256 - lr: 0.0010 - 74s/epoch - 17ms/step
Epoch 58/100
4378/4378 - 74s - loss: 0.5005 - accuracy: 0.1997 - val_loss: 0.5066 - val_accuracy: 0.0382 - lr: 0.0010 - 74s/epoch - 17ms/step
Epoch 59/100
4378/4378 - 75s - loss: 0.5004 - accuracy: 0.1965 - val_loss: 0.5463 - val_accuracy: 0.0748 - lr: 0.0010 - 75s/epoch - 17ms/step
Epoch 60/100
4378/4378 - 74s - loss: 0.5004 - accuracy: 0.1981 - val_loss: 0.5042 - val_accuracy: 0.0803 - lr: 0.0010 - 74s/epoch - 17ms/step
Epoch 61/100
4378/4378 - 74s - loss: 0.5004 - accuracy: 0.1993 - val_loss: 0.5271 - val_accuracy: 0.0083 - lr: 0.0010 - 74s/epoch - 17ms/step
Epoch 62/100
4378/4378 - 74s - loss: 0.5004 - accuracy: 0.2004 - val_loss: 0.5112 - val_accuracy: 0.0389 - lr: 0.0010 - 74s/epoch - 17ms/step
Epoch 63/100
4378/4378 - 74s - loss: 0.5004 - accuracy: 0.1990 - val_loss: 0.5674 - val_accuracy: 0.0735 - lr: 0.0010 - 74s/epoch - 17ms/step
Epoch 64/100
4378/4378 - 74s - loss: 0.5004 - accuracy: 0.1994 - val_loss: 0.5628 - val_accuracy: 0.0748 - lr: 0.0010 - 74s/epoch - 17ms/step
Epoch 65/100
4378/4378 - 74s - loss: 0.5004 - accuracy: 0.1987 - val_loss: 0.4996 - val_accuracy: 0.8276 - lr: 0.0010 - 74s/epoch - 17ms/step
Epoch 66/100
4378/4378 - 74s - loss: 0.5005 - accuracy: 0.1980 - val_loss: 0.5696 - val_accuracy: 0.0250 - lr: 0.0010 - 74s/epoch - 17ms/step
Epoch 67/100
4378/4378 - 75s - loss: 0.5004 - accuracy: 0.1988 - val_loss: 0.5880 - val_accuracy: 0.0254 - lr: 0.0010 - 75s/epoch - 17ms/step
Epoch 68/100
4378/4378 - 74s - loss: 0.5004 - accuracy: 0.2007 - val_loss: 0.5444 - val_accuracy: 0.8129 - lr: 0.0010 - 74s/epoch - 17ms/step
Epoch 69/100
4378/4378 - 74s - loss: 0.5004 - accuracy: 0.1979 - val_loss: 0.5076 - val_accuracy: 0.0807 - lr: 0.0010 - 74s/epoch - 17ms/step
Epoch 70/100
4378/4378 - 74s - loss: 0.5004 - accuracy: 0.2003 - val_loss: 0.5571 - val_accuracy: 0.0249 - lr: 0.0010 - 74s/epoch - 17ms/step
Epoch 71/100
4378/4378 - 74s - loss: 0.5004 - accuracy: 0.1991 - val_loss: 0.5862 - val_accuracy: 0.0735 - lr: 0.0010 - 74s/epoch - 17ms/step
Epoch 72/100
4378/4378 - 75s - loss: 0.5005 - accuracy: 0.1983 - val_loss: 0.5351 - val_accuracy: 0.0743 - lr: 0.0010 - 75s/epoch - 17ms/step
Epoch 73/100
4378/4378 - 74s - loss: 0.5004 - accuracy: 0.1994 - val_loss: 0.5496 - val_accuracy: 0.0752 - lr: 0.0010 - 74s/epoch - 17ms/step
Epoch 74/100
4378/4378 - 74s - loss: 0.5005 - accuracy: 0.2001 - val_loss: 0.5089 - val_accuracy: 0.0349 - lr: 0.0010 - 74s/epoch - 17ms/step
Epoch 75/100
4378/4378 - 74s - loss: 0.5004 - accuracy: 0.1984 - val_loss: 0.5773 - val_accuracy: 0.0747 - lr: 0.0010 - 74s/epoch - 17ms/step
Epoch 76/100
4378/4378 - 74s - loss: 0.5004 - accuracy: 0.1987 - val_loss: 0.5149 - val_accuracy: 0.0851 - lr: 0.0010 - 74s/epoch - 17ms/step
Epoch 77/100
4378/4378 - 74s - loss: 0.5004 - accuracy: 0.2001 - val_loss: 0.5505 - val_accuracy: 0.8133 - lr: 0.0010 - 74s/epoch - 17ms/step
Epoch 78/100
4378/4378 - 74s - loss: 0.5004 - accuracy: 0.1988 - val_loss: 0.5366 - val_accuracy: 0.0083 - lr: 0.0010 - 74s/epoch - 17ms/step
Epoch 79/100
4378/4378 - 74s - loss: 0.5005 - accuracy: 0.2004 - val_loss: 0.5750 - val_accuracy: 0.0748 - lr: 0.0010 - 74s/epoch - 17ms/step
Epoch 80/100
4378/4378 - 74s - loss: 0.5005 - accuracy: 0.1989 - val_loss: 0.5395 - val_accuracy: 0.0271 - lr: 0.0010 - 74s/epoch - 17ms/step
Epoch 81/100
4378/4378 - 75s - loss: 0.5004 - accuracy: 0.2012 - val_loss: 0.5644 - val_accuracy: 0.0737 - lr: 0.0010 - 75s/epoch - 17ms/step
Epoch 82/100
4378/4378 - 75s - loss: 0.5005 - accuracy: 0.1996 - val_loss: 0.5639 - val_accuracy: 0.0751 - lr: 0.0010 - 75s/epoch - 17ms/step
Epoch 83/100
4378/4378 - 74s - loss: 0.5004 - accuracy: 0.1967 - val_loss: 0.5024 - val_accuracy: 0.0808 - lr: 0.0010 - 74s/epoch - 17ms/step
Epoch 84/100
4378/4378 - 75s - loss: 0.5004 - accuracy: 0.2009 - val_loss: 0.5340 - val_accuracy: 0.0327 - lr: 0.0010 - 75s/epoch - 17ms/step
Epoch 85/100
4378/4378 - 74s - loss: 0.5004 - accuracy: 0.1980 - val_loss: 0.5339 - val_accuracy: 0.0717 - lr: 0.0010 - 74s/epoch - 17ms/step
Epoch 86/100
4378/4378 - 74s - loss: 0.5004 - accuracy: 0.1996 - val_loss: 0.5625 - val_accuracy: 0.0737 - lr: 0.0010 - 74s/epoch - 17ms/step
Epoch 87/100
4378/4378 - 74s - loss: 0.5004 - accuracy: 0.1978 - val_loss: 0.5564 - val_accuracy: 0.0749 - lr: 0.0010 - 74s/epoch - 17ms/step
Epoch 88/100
4378/4378 - 74s - loss: 0.5005 - accuracy: 0.1975 - val_loss: 0.5699 - val_accuracy: 0.0737 - lr: 0.0010 - 74s/epoch - 17ms/step
Epoch 89/100
4378/4378 - 74s - loss: 0.5004 - accuracy: 0.1966 - val_loss: 0.4996 - val_accuracy: 0.0808 - lr: 0.0010 - 74s/epoch - 17ms/step
Epoch 90/100
4378/4378 - 74s - loss: 0.5004 - accuracy: 0.1988 - val_loss: 0.5209 - val_accuracy: 0.0797 - lr: 0.0010 - 74s/epoch - 17ms/step
Epoch 91/100
4378/4378 - 75s - loss: 0.5004 - accuracy: 0.1995 - val_loss: 0.5072 - val_accuracy: 0.8246 - lr: 0.0010 - 75s/epoch - 17ms/step
Epoch 92/100
4378/4378 - 75s - loss: 0.5005 - accuracy: 0.1970 - val_loss: 0.5053 - val_accuracy: 0.0888 - lr: 0.0010 - 75s/epoch - 17ms/step
Epoch 93/100
4378/4378 - 74s - loss: 0.5004 - accuracy: 0.2009 - val_loss: 0.5854 - val_accuracy: 0.0262 - lr: 0.0010 - 74s/epoch - 17ms/step
Epoch 94/100
4378/4378 - 74s - loss: 0.5004 - accuracy: 0.1995 - val_loss: 0.5922 - val_accuracy: 0.0076 - lr: 0.0010 - 74s/epoch - 17ms/step
Epoch 95/100
4378/4378 - 74s - loss: 0.5004 - accuracy: 0.1996 - val_loss: 0.5594 - val_accuracy: 0.8118 - lr: 0.0010 - 74s/epoch - 17ms/step
Epoch 96/100
4378/4378 - 74s - loss: 0.5005 - accuracy: 0.1999 - val_loss: 0.5616 - val_accuracy: 0.0250 - lr: 0.0010 - 74s/epoch - 17ms/step
Epoch 97/100
4378/4378 - 74s - loss: 0.5004 - accuracy: 0.1989 - val_loss: 0.5778 - val_accuracy: 0.0072 - lr: 0.0010 - 74s/epoch - 17ms/step
Epoch 98/100
4378/4378 - 74s - loss: 0.5004 - accuracy: 0.2003 - val_loss: 0.5036 - val_accuracy: 0.0883 - lr: 0.0010 - 74s/epoch - 17ms/step
Epoch 99/100
4378/4378 - 74s - loss: 0.5004 - accuracy: 0.1996 - val_loss: 0.5897 - val_accuracy: 0.8121 - lr: 0.0010 - 74s/epoch - 17ms/step
Epoch 100/100
4378/4378 - 74s - loss: 0.5004 - accuracy: 0.2007 - val_loss: 0.5886 - val_accuracy: 0.0735 - lr: 0.0010 - 74s/epoch - 17ms/step
fitting with batch size: 100
Epoch 1/100
876/876 - 21s - loss: 0.5004 - accuracy: 0.1997 - val_loss: 0.5977 - val_accuracy: 0.0735 - lr: 0.0010 - 21s/epoch - 24ms/step
Epoch 2/100
876/876 - 18s - loss: 0.5004 - accuracy: 0.1990 - val_loss: 0.5961 - val_accuracy: 0.0735 - lr: 0.0010 - 18s/epoch - 21ms/step
Epoch 3/100
876/876 - 18s - loss: 0.5004 - accuracy: 0.1976 - val_loss: 0.5664 - val_accuracy: 0.0651 - lr: 0.0010 - 18s/epoch - 21ms/step
Epoch 4/100
876/876 - 18s - loss: 0.5004 - accuracy: 0.1977 - val_loss: 0.5316 - val_accuracy: 0.0147 - lr: 0.0010 - 18s/epoch - 21ms/step
Epoch 5/100
876/876 - 18s - loss: 0.5004 - accuracy: 0.1981 - val_loss: 0.5837 - val_accuracy: 0.8117 - lr: 0.0010 - 18s/epoch - 21ms/step
Epoch 6/100
876/876 - 18s - loss: 0.5004 - accuracy: 0.1975 - val_loss: 0.5859 - val_accuracy: 0.0735 - lr: 0.0010 - 18s/epoch - 20ms/step
Epoch 7/100
876/876 - 19s - loss: 0.5004 - accuracy: 0.1994 - val_loss: 0.5702 - val_accuracy: 0.0737 - lr: 0.0010 - 19s/epoch - 21ms/step
Epoch 8/100
876/876 - 18s - loss: 0.5004 - accuracy: 0.1984 - val_loss: 0.5770 - val_accuracy: 0.0651 - lr: 0.0010 - 18s/epoch - 21ms/step
Epoch 9/100
876/876 - 18s - loss: 0.5004 - accuracy: 0.2011 - val_loss: 0.5076 - val_accuracy: 0.8245 - lr: 0.0010 - 18s/epoch - 21ms/step
Epoch 10/100
876/876 - 18s - loss: 0.5004 - accuracy: 0.1998 - val_loss: 0.5504 - val_accuracy: 0.0260 - lr: 0.0010 - 18s/epoch - 20ms/step
Epoch 11/100
876/876 - 18s - loss: 0.5004 - accuracy: 0.1976 - val_loss: 0.5494 - val_accuracy: 0.0658 - lr: 0.0010 - 18s/epoch - 21ms/step
Epoch 12/100
876/876 - 18s - loss: 0.5004 - accuracy: 0.2010 - val_loss: 0.5318 - val_accuracy: 0.0752 - lr: 0.0010 - 18s/epoch - 21ms/step
Epoch 13/100
876/876 - 18s - loss: 0.5004 - accuracy: 0.2004 - val_loss: 0.5387 - val_accuracy: 0.0280 - lr: 0.0010 - 18s/epoch - 21ms/step
Epoch 14/100
876/876 - 18s - loss: 0.5004 - accuracy: 0.2003 - val_loss: 0.5087 - val_accuracy: 0.0698 - lr: 0.0010 - 18s/epoch - 21ms/step
Epoch 15/100
876/876 - 18s - loss: 0.5004 - accuracy: 0.1987 - val_loss: 0.5603 - val_accuracy: 0.0262 - lr: 0.0010 - 18s/epoch - 21ms/step
Epoch 16/100
876/876 - 18s - loss: 0.5004 - accuracy: 0.2001 - val_loss: 0.5553 - val_accuracy: 0.0743 - lr: 0.0010 - 18s/epoch - 21ms/step
Epoch 17/100
876/876 - 18s - loss: 0.5004 - accuracy: 0.1981 - val_loss: 0.5570 - val_accuracy: 0.0254 - lr: 0.0010 - 18s/epoch - 21ms/step
Epoch 18/100
876/876 - 18s - loss: 0.5004 - accuracy: 0.1981 - val_loss: 0.5559 - val_accuracy: 0.0074 - lr: 0.0010 - 18s/epoch - 21ms/step
Epoch 19/100
876/876 - 18s - loss: 0.5004 - accuracy: 0.1984 - val_loss: 0.5259 - val_accuracy: 0.0264 - lr: 0.0010 - 18s/epoch - 21ms/step
Epoch 20/100
876/876 - 18s - loss: 0.5004 - accuracy: 0.2011 - val_loss: 0.5058 - val_accuracy: 0.0867 - lr: 0.0010 - 18s/epoch - 21ms/step
Epoch 21/100
876/876 - 18s - loss: 0.5004 - accuracy: 0.1983 - val_loss: 0.5345 - val_accuracy: 0.0074 - lr: 0.0010 - 18s/epoch - 21ms/step
Epoch 22/100
876/876 - 18s - loss: 0.5004 - accuracy: 0.1987 - val_loss: 0.5023 - val_accuracy: 0.0232 - lr: 0.0010 - 18s/epoch - 21ms/step
Epoch 23/100
876/876 - 18s - loss: 0.5004 - accuracy: 0.1995 - val_loss: 0.5548 - val_accuracy: 0.0076 - lr: 0.0010 - 18s/epoch - 21ms/step
Epoch 24/100
876/876 - 18s - loss: 0.5004 - accuracy: 0.1995 - val_loss: 0.5613 - val_accuracy: 0.0735 - lr: 0.0010 - 18s/epoch - 21ms/step
Epoch 25/100
876/876 - 18s - loss: 0.5004 - accuracy: 0.1984 - val_loss: 0.5318 - val_accuracy: 0.0316 - lr: 0.0010 - 18s/epoch - 21ms/step
Epoch 26/100
876/876 - 18s - loss: 0.5004 - accuracy: 0.1990 - val_loss: 0.4996 - val_accuracy: 0.8264 - lr: 0.0010 - 18s/epoch - 21ms/step
Epoch 27/100
876/876 - 18s - loss: 0.5004 - accuracy: 0.1996 - val_loss: 0.5901 - val_accuracy: 0.0252 - lr: 0.0010 - 18s/epoch - 21ms/step
Epoch 28/100
876/876 - 18s - loss: 0.5004 - accuracy: 0.1997 - val_loss: 0.5945 - val_accuracy: 0.0254 - lr: 0.0010 - 18s/epoch - 21ms/step
Epoch 29/100
876/876 - 18s - loss: 0.5004 - accuracy: 0.1976 - val_loss: 0.5788 - val_accuracy: 0.0076 - lr: 0.0010 - 18s/epoch - 21ms/step
Epoch 30/100
876/876 - 18s - loss: 0.5004 - accuracy: 0.2007 - val_loss: 0.5717 - val_accuracy: 0.0747 - lr: 0.0010 - 18s/epoch - 21ms/step
Epoch 31/100
876/876 - 18s - loss: 0.5004 - accuracy: 0.2001 - val_loss: 0.5852 - val_accuracy: 0.0661 - lr: 0.0010 - 18s/epoch - 21ms/step
Epoch 32/100
876/876 - 18s - loss: 0.5004 - accuracy: 0.1984 - val_loss: 0.5577 - val_accuracy: 0.8121 - lr: 0.0010 - 18s/epoch - 21ms/step
Epoch 33/100
876/876 - 18s - loss: 0.5004 - accuracy: 0.1967 - val_loss: 0.5542 - val_accuracy: 0.0661 - lr: 0.0010 - 18s/epoch - 21ms/step
Epoch 34/100
876/876 - 18s - loss: 0.5004 - accuracy: 0.1984 - val_loss: 0.5042 - val_accuracy: 0.0232 - lr: 0.0010 - 18s/epoch - 21ms/step
Epoch 35/100
876/876 - 18s - loss: 0.5004 - accuracy: 0.1971 - val_loss: 0.5017 - val_accuracy: 0.8276 - lr: 0.0010 - 18s/epoch - 21ms/step
Epoch 36/100
876/876 - 18s - loss: 0.5004 - accuracy: 0.1968 - val_loss: 0.5250 - val_accuracy: 0.0121 - lr: 0.0010 - 18s/epoch - 21ms/step
Epoch 37/100
876/876 - 18s - loss: 0.5004 - accuracy: 0.2007 - val_loss: 0.5454 - val_accuracy: 0.0274 - lr: 0.0010 - 18s/epoch - 21ms/step
Epoch 38/100
876/876 - 18s - loss: 0.5004 - accuracy: 0.1993 - val_loss: 0.5376 - val_accuracy: 0.0082 - lr: 0.0010 - 18s/epoch - 21ms/step
Epoch 39/100
876/876 - 18s - loss: 0.5004 - accuracy: 0.1983 - val_loss: 0.5389 - val_accuracy: 0.0747 - lr: 0.0010 - 18s/epoch - 21ms/step
Epoch 40/100
876/876 - 18s - loss: 0.5004 - accuracy: 0.1977 - val_loss: 0.5675 - val_accuracy: 0.0072 - lr: 0.0010 - 18s/epoch - 21ms/step
Epoch 41/100
876/876 - 18s - loss: 0.5004 - accuracy: 0.1989 - val_loss: 0.5384 - val_accuracy: 0.0249 - lr: 0.0010 - 18s/epoch - 21ms/step
Epoch 42/100
876/876 - 18s - loss: 0.5004 - accuracy: 0.1985 - val_loss: 0.5485 - val_accuracy: 0.0085 - lr: 0.0010 - 18s/epoch - 21ms/step
Epoch 43/100
876/876 - 18s - loss: 0.5004 - accuracy: 0.1995 - val_loss: 0.5312 - val_accuracy: 0.0081 - lr: 0.0010 - 18s/epoch - 21ms/step
Epoch 44/100
876/876 - 18s - loss: 0.5004 - accuracy: 0.2002 - val_loss: 0.5239 - val_accuracy: 0.8190 - lr: 0.0010 - 18s/epoch - 21ms/step
Epoch 45/100
876/876 - 18s - loss: 0.5004 - accuracy: 0.1994 - val_loss: 0.5731 - val_accuracy: 0.0661 - lr: 0.0010 - 18s/epoch - 21ms/step
Epoch 46/100
876/876 - 18s - loss: 0.5004 - accuracy: 0.2007 - val_loss: 0.5780 - val_accuracy: 0.8129 - lr: 0.0010 - 18s/epoch - 21ms/step
Epoch 47/100
876/876 - 18s - loss: 0.5004 - accuracy: 0.1993 - val_loss: 0.5241 - val_accuracy: 0.0329 - lr: 0.0010 - 18s/epoch - 21ms/step
Epoch 48/100
876/876 - 18s - loss: 0.5004 - accuracy: 0.1976 - val_loss: 0.5297 - val_accuracy: 0.0653 - lr: 0.0010 - 18s/epoch - 21ms/step
Epoch 49/100
876/876 - 18s - loss: 0.5004 - accuracy: 0.1985 - val_loss: 0.5680 - val_accuracy: 0.0662 - lr: 0.0010 - 18s/epoch - 21ms/step
Epoch 50/100
876/876 - 18s - loss: 0.5004 - accuracy: 0.1969 - val_loss: 0.5402 - val_accuracy: 0.0258 - lr: 0.0010 - 18s/epoch - 21ms/step
Epoch 51/100
876/876 - 18s - loss: 0.5004 - accuracy: 0.1990 - val_loss: 0.5516 - val_accuracy: 0.0653 - lr: 0.0010 - 18s/epoch - 21ms/step
Epoch 52/100
876/876 - 18s - loss: 0.5004 - accuracy: 0.1979 - val_loss: 0.5259 - val_accuracy: 0.8148 - lr: 0.0010 - 18s/epoch - 21ms/step
Epoch 53/100
876/876 - 18s - loss: 0.5004 - accuracy: 0.1988 - val_loss: 0.5163 - val_accuracy: 0.0359 - lr: 0.0010 - 18s/epoch - 21ms/step
Epoch 54/100
876/876 - 18s - loss: 0.5004 - accuracy: 0.2002 - val_loss: 0.5175 - val_accuracy: 0.0321 - lr: 0.0010 - 18s/epoch - 21ms/step
Epoch 55/100
876/876 - 18s - loss: 0.5004 - accuracy: 0.2014 - val_loss: 0.5483 - val_accuracy: 0.0264 - lr: 0.0010 - 18s/epoch - 21ms/step
Epoch 56/100
876/876 - 18s - loss: 0.5004 - accuracy: 0.1982 - val_loss: 0.5284 - val_accuracy: 0.0127 - lr: 0.0010 - 18s/epoch - 21ms/step
Epoch 57/100
876/876 - 18s - loss: 0.5004 - accuracy: 0.1968 - val_loss: 0.5227 - val_accuracy: 0.8144 - lr: 0.0010 - 18s/epoch - 21ms/step
Epoch 58/100
876/876 - 18s - loss: 0.5004 - accuracy: 0.1987 - val_loss: 0.5082 - val_accuracy: 0.8157 - lr: 0.0010 - 18s/epoch - 21ms/step
Epoch 59/100
876/876 - 18s - loss: 0.5004 - accuracy: 0.1980 - val_loss: 0.5174 - val_accuracy: 0.0793 - lr: 0.0010 - 18s/epoch - 21ms/step
Epoch 60/100
876/876 - 18s - loss: 0.5004 - accuracy: 0.1983 - val_loss: 0.5115 - val_accuracy: 0.0852 - lr: 0.0010 - 18s/epoch - 21ms/step
Epoch 61/100
876/876 - 18s - loss: 0.5004 - accuracy: 0.1983 - val_loss: 0.5532 - val_accuracy: 0.8129 - lr: 0.0010 - 18s/epoch - 21ms/step
Epoch 62/100
876/876 - 18s - loss: 0.5004 - accuracy: 0.1986 - val_loss: 0.5454 - val_accuracy: 0.0653 - lr: 0.0010 - 18s/epoch - 21ms/step
Epoch 63/100
876/876 - 18s - loss: 0.5004 - accuracy: 0.1968 - val_loss: 0.5209 - val_accuracy: 0.8123 - lr: 0.0010 - 18s/epoch - 21ms/step
Epoch 64/100
876/876 - 18s - loss: 0.5004 - accuracy: 0.2001 - val_loss: 0.5069 - val_accuracy: 0.0745 - lr: 0.0010 - 18s/epoch - 21ms/step
Epoch 65/100
876/876 - 18s - loss: 0.5004 - accuracy: 0.1977 - val_loss: 0.5511 - val_accuracy: 0.0255 - lr: 0.0010 - 18s/epoch - 21ms/step
Epoch 66/100
876/876 - 18s - loss: 0.5004 - accuracy: 0.1998 - val_loss: 0.5056 - val_accuracy: 0.0717 - lr: 0.0010 - 18s/epoch - 21ms/step
Epoch 67/100
876/876 - 18s - loss: 0.5004 - accuracy: 0.1986 - val_loss: 0.5490 - val_accuracy: 0.0739 - lr: 0.0010 - 18s/epoch - 21ms/step
Epoch 68/100
876/876 - 18s - loss: 0.5004 - accuracy: 0.1993 - val_loss: 0.5277 - val_accuracy: 0.0652 - lr: 0.0010 - 18s/epoch - 21ms/step
Epoch 69/100
876/876 - 18s - loss: 0.5004 - accuracy: 0.1981 - val_loss: 0.5385 - val_accuracy: 0.0080 - lr: 0.0010 - 18s/epoch - 21ms/step
Epoch 70/100
876/876 - 18s - loss: 0.5004 - accuracy: 0.1994 - val_loss: 0.5653 - val_accuracy: 0.0740 - lr: 0.0010 - 18s/epoch - 21ms/step
Epoch 71/100
876/876 - 18s - loss: 0.5004 - accuracy: 0.1981 - val_loss: 0.5634 - val_accuracy: 0.0073 - lr: 0.0010 - 18s/epoch - 21ms/step
Epoch 72/100
876/876 - 18s - loss: 0.5004 - accuracy: 0.1976 - val_loss: 0.5659 - val_accuracy: 0.0658 - lr: 0.0010 - 18s/epoch - 21ms/step
Epoch 73/100
876/876 - 18s - loss: 0.5004 - accuracy: 0.1981 - val_loss: 0.5092 - val_accuracy: 0.0782 - lr: 0.0010 - 18s/epoch - 21ms/step
Epoch 74/100
876/876 - 18s - loss: 0.5004 - accuracy: 0.2008 - val_loss: 0.5965 - val_accuracy: 0.0075 - lr: 0.0010 - 18s/epoch - 21ms/step
Epoch 75/100
876/876 - 18s - loss: 0.5004 - accuracy: 0.1983 - val_loss: 0.5874 - val_accuracy: 0.0074 - lr: 0.0010 - 18s/epoch - 21ms/step
Epoch 76/100
876/876 - 18s - loss: 0.5004 - accuracy: 0.2012 - val_loss: 0.5902 - val_accuracy: 0.0072 - lr: 0.0010 - 18s/epoch - 21ms/step
Epoch 77/100
876/876 - 18s - loss: 0.5004 - accuracy: 0.1974 - val_loss: 0.5847 - val_accuracy: 0.0074 - lr: 0.0010 - 18s/epoch - 21ms/step
Epoch 78/100
876/876 - 18s - loss: 0.5004 - accuracy: 0.2016 - val_loss: 0.5838 - val_accuracy: 0.0661 - lr: 0.0010 - 18s/epoch - 21ms/step
Epoch 79/100
876/876 - 18s - loss: 0.5004 - accuracy: 0.1984 - val_loss: 0.5031 - val_accuracy: 0.0883 - lr: 0.0010 - 18s/epoch - 21ms/step
Epoch 80/100
876/876 - 18s - loss: 0.5004 - accuracy: 0.1981 - val_loss: 0.5854 - val_accuracy: 0.0252 - lr: 0.0010 - 18s/epoch - 21ms/step
Epoch 81/100
876/876 - 18s - loss: 0.5004 - accuracy: 0.1980 - val_loss: 0.5900 - val_accuracy: 0.0737 - lr: 0.0010 - 18s/epoch - 21ms/step
Epoch 82/100
876/876 - 18s - loss: 0.5004 - accuracy: 0.1992 - val_loss: 0.5074 - val_accuracy: 0.0809 - lr: 0.0010 - 18s/epoch - 21ms/step
Epoch 83/100
876/876 - 18s - loss: 0.5004 - accuracy: 0.1997 - val_loss: 0.5929 - val_accuracy: 0.0735 - lr: 0.0010 - 18s/epoch - 21ms/step
Epoch 84/100
876/876 - 18s - loss: 0.5004 - accuracy: 0.1992 - val_loss: 0.5805 - val_accuracy: 0.8116 - lr: 0.0010 - 18s/epoch - 21ms/step
Epoch 85/100
876/876 - 18s - loss: 0.5004 - accuracy: 0.1978 - val_loss: 0.5178 - val_accuracy: 0.0771 - lr: 0.0010 - 18s/epoch - 21ms/step
Epoch 86/100
876/876 - 18s - loss: 0.5004 - accuracy: 0.1999 - val_loss: 0.5140 - val_accuracy: 0.0849 - lr: 0.0010 - 18s/epoch - 21ms/step
Epoch 87/100
876/876 - 18s - loss: 0.5004 - accuracy: 0.2001 - val_loss: 0.5363 - val_accuracy: 0.0300 - lr: 0.0010 - 18s/epoch - 21ms/step
Epoch 88/100
876/876 - 18s - loss: 0.5004 - accuracy: 0.1967 - val_loss: 0.5470 - val_accuracy: 0.0659 - lr: 0.0010 - 18s/epoch - 21ms/step
Epoch 89/100
876/876 - 18s - loss: 0.5004 - accuracy: 0.2000 - val_loss: 0.5381 - val_accuracy: 0.0265 - lr: 0.0010 - 18s/epoch - 21ms/step
Epoch 90/100
876/876 - 18s - loss: 0.5004 - accuracy: 0.1989 - val_loss: 0.5828 - val_accuracy: 0.0739 - lr: 0.0010 - 18s/epoch - 21ms/step
Epoch 91/100
876/876 - 18s - loss: 0.5004 - accuracy: 0.1990 - val_loss: 0.5895 - val_accuracy: 0.0072 - lr: 0.0010 - 18s/epoch - 21ms/step
Epoch 92/100
876/876 - 18s - loss: 0.5004 - accuracy: 0.1993 - val_loss: 0.5907 - val_accuracy: 0.8116 - lr: 0.0010 - 18s/epoch - 21ms/step
Epoch 93/100
876/876 - 18s - loss: 0.5004 - accuracy: 0.2000 - val_loss: 0.5863 - val_accuracy: 0.0074 - lr: 0.0010 - 18s/epoch - 21ms/step
Epoch 94/100
876/876 - 18s - loss: 0.5004 - accuracy: 0.1985 - val_loss: 0.5746 - val_accuracy: 0.0074 - lr: 0.0010 - 18s/epoch - 21ms/step
Epoch 95/100
876/876 - 18s - loss: 0.5004 - accuracy: 0.1964 - val_loss: 0.5426 - val_accuracy: 0.8122 - lr: 0.0010 - 18s/epoch - 21ms/step
Epoch 96/100
876/876 - 18s - loss: 0.5004 - accuracy: 0.1998 - val_loss: 0.5046 - val_accuracy: 0.0777 - lr: 0.0010 - 18s/epoch - 21ms/step
Epoch 97/100
876/876 - 18s - loss: 0.5004 - accuracy: 0.1968 - val_loss: 0.5829 - val_accuracy: 0.0249 - lr: 0.0010 - 18s/epoch - 21ms/step
Epoch 98/100
876/876 - 18s - loss: 0.5004 - accuracy: 0.1981 - val_loss: 0.5763 - val_accuracy: 0.0249 - lr: 0.0010 - 18s/epoch - 21ms/step
Epoch 99/100
876/876 - 18s - loss: 0.5004 - accuracy: 0.1979 - val_loss: 0.5712 - val_accuracy: 0.0661 - lr: 0.0010 - 18s/epoch - 21ms/step
Epoch 100/100
876/876 - 18s - loss: 0.5004 - accuracy: 0.2002 - val_loss: 0.5885 - val_accuracy: 0.0653 - lr: 0.0010 - 18s/epoch - 21ms/step
fitting with batch size: 500
Epoch 1/100
176/176 - 11s - loss: 0.5004 - accuracy: 0.2011 - val_loss: 0.5855 - val_accuracy: 0.8121 - lr: 0.0010 - 11s/epoch - 65ms/step
Epoch 2/100
176/176 - 9s - loss: 0.5004 - accuracy: 0.1994 - val_loss: 0.5806 - val_accuracy: 0.0654 - lr: 0.0010 - 9s/epoch - 51ms/step
Epoch 3/100
176/176 - 9s - loss: 0.5004 - accuracy: 0.1968 - val_loss: 0.5001 - val_accuracy: 0.0803 - lr: 0.0010 - 9s/epoch - 50ms/step
Epoch 4/100
176/176 - 9s - loss: 0.5004 - accuracy: 0.1988 - val_loss: 0.5303 - val_accuracy: 0.0652 - lr: 0.0010 - 9s/epoch - 51ms/step
Epoch 5/100
176/176 - 9s - loss: 0.5004 - accuracy: 0.1977 - val_loss: 0.5503 - val_accuracy: 0.0076 - lr: 0.0010 - 9s/epoch - 50ms/step
Epoch 6/100
176/176 - 9s - loss: 0.5004 - accuracy: 0.1975 - val_loss: 0.5642 - val_accuracy: 0.0653 - lr: 0.0010 - 9s/epoch - 50ms/step
Epoch 7/100
176/176 - 9s - loss: 0.5004 - accuracy: 0.1998 - val_loss: 0.5735 - val_accuracy: 0.0653 - lr: 0.0010 - 9s/epoch - 51ms/step
Epoch 8/100
176/176 - 9s - loss: 0.5004 - accuracy: 0.1995 - val_loss: 0.5415 - val_accuracy: 0.0263 - lr: 0.0010 - 9s/epoch - 51ms/step
Epoch 9/100
176/176 - 9s - loss: 0.5004 - accuracy: 0.1988 - val_loss: 0.5760 - val_accuracy: 0.0735 - lr: 0.0010 - 9s/epoch - 51ms/step
Epoch 10/100
176/176 - 9s - loss: 0.5004 - accuracy: 0.1972 - val_loss: 0.5115 - val_accuracy: 0.0341 - lr: 0.0010 - 9s/epoch - 51ms/step
Epoch 11/100
176/176 - 9s - loss: 0.5004 - accuracy: 0.1982 - val_loss: 0.5212 - val_accuracy: 0.8180 - lr: 0.0010 - 9s/epoch - 51ms/step
Epoch 12/100
176/176 - 9s - loss: 0.5004 - accuracy: 0.1987 - val_loss: 0.5401 - val_accuracy: 0.0735 - lr: 0.0010 - 9s/epoch - 51ms/step
Epoch 13/100
176/176 - 9s - loss: 0.5004 - accuracy: 0.1991 - val_loss: 0.5639 - val_accuracy: 0.0650 - lr: 0.0010 - 9s/epoch - 51ms/step
Epoch 14/100
176/176 - 9s - loss: 0.5004 - accuracy: 0.1990 - val_loss: 0.5801 - val_accuracy: 0.0254 - lr: 0.0010 - 9s/epoch - 51ms/step
Epoch 15/100
176/176 - 9s - loss: 0.5004 - accuracy: 0.2008 - val_loss: 0.5890 - val_accuracy: 0.0653 - lr: 0.0010 - 9s/epoch - 51ms/step
Epoch 16/100
176/176 - 9s - loss: 0.5004 - accuracy: 0.1982 - val_loss: 0.5742 - val_accuracy: 0.0739 - lr: 0.0010 - 9s/epoch - 51ms/step
Epoch 17/100
176/176 - 9s - loss: 0.5004 - accuracy: 0.1999 - val_loss: 0.5479 - val_accuracy: 0.0096 - lr: 0.0010 - 9s/epoch - 51ms/step
Epoch 18/100
176/176 - 9s - loss: 0.5004 - accuracy: 0.1992 - val_loss: 0.5657 - val_accuracy: 0.0653 - lr: 0.0010 - 9s/epoch - 51ms/step
Epoch 19/100
176/176 - 9s - loss: 0.5004 - accuracy: 0.1989 - val_loss: 0.5768 - val_accuracy: 0.0254 - lr: 0.0010 - 9s/epoch - 51ms/step
Epoch 20/100
176/176 - 9s - loss: 0.5004 - accuracy: 0.1981 - val_loss: 0.5793 - val_accuracy: 0.0076 - lr: 0.0010 - 9s/epoch - 51ms/step
Epoch 21/100
176/176 - 9s - loss: 0.5004 - accuracy: 0.1973 - val_loss: 0.5019 - val_accuracy: 0.8276 - lr: 0.0010 - 9s/epoch - 51ms/step
Epoch 22/100
176/176 - 9s - loss: 0.5004 - accuracy: 0.1991 - val_loss: 0.5044 - val_accuracy: 0.0894 - lr: 0.0010 - 9s/epoch - 51ms/step
Epoch 23/100
176/176 - 9s - loss: 0.5004 - accuracy: 0.1969 - val_loss: 0.5471 - val_accuracy: 0.8129 - lr: 0.0010 - 9s/epoch - 51ms/step
Epoch 24/100
176/176 - 9s - loss: 0.5004 - accuracy: 0.1995 - val_loss: 0.5641 - val_accuracy: 0.0661 - lr: 0.0010 - 9s/epoch - 51ms/step
Epoch 25/100
176/176 - 9s - loss: 0.5004 - accuracy: 0.1989 - val_loss: 0.5740 - val_accuracy: 0.0737 - lr: 0.0010 - 9s/epoch - 51ms/step
Epoch 26/100
176/176 - 9s - loss: 0.5004 - accuracy: 0.1994 - val_loss: 0.5406 - val_accuracy: 0.0259 - lr: 0.0010 - 9s/epoch - 51ms/step
Epoch 27/100
176/176 - 9s - loss: 0.5004 - accuracy: 0.1963 - val_loss: 0.5425 - val_accuracy: 0.0739 - lr: 0.0010 - 9s/epoch - 51ms/step
Epoch 28/100
176/176 - 9s - loss: 0.5004 - accuracy: 0.1978 - val_loss: 0.5656 - val_accuracy: 0.0255 - lr: 0.0010 - 9s/epoch - 51ms/step
Epoch 29/100
176/176 - 9s - loss: 0.5004 - accuracy: 0.1982 - val_loss: 0.5035 - val_accuracy: 0.0409 - lr: 0.0010 - 9s/epoch - 51ms/step
Epoch 30/100
176/176 - 9s - loss: 0.5004 - accuracy: 0.1974 - val_loss: 0.5173 - val_accuracy: 0.0705 - lr: 0.0010 - 9s/epoch - 51ms/step
Epoch 31/100
176/176 - 9s - loss: 0.5004 - accuracy: 0.1991 - val_loss: 0.5370 - val_accuracy: 0.0257 - lr: 0.0010 - 9s/epoch - 51ms/step
Epoch 32/100
176/176 - 9s - loss: 0.5004 - accuracy: 0.2000 - val_loss: 0.5127 - val_accuracy: 0.0364 - lr: 0.0010 - 9s/epoch - 51ms/step
Epoch 33/100
176/176 - 9s - loss: 0.5004 - accuracy: 0.1981 - val_loss: 0.5075 - val_accuracy: 0.8241 - lr: 0.0010 - 9s/epoch - 51ms/step
Epoch 34/100
176/176 - 9s - loss: 0.5004 - accuracy: 0.2002 - val_loss: 0.5113 - val_accuracy: 0.0199 - lr: 0.0010 - 9s/epoch - 51ms/step
Epoch 35/100
176/176 - 9s - loss: 0.5004 - accuracy: 0.2000 - val_loss: 0.5747 - val_accuracy: 0.0657 - lr: 0.0010 - 9s/epoch - 51ms/step
Epoch 36/100
176/176 - 9s - loss: 0.5004 - accuracy: 0.2001 - val_loss: 0.5652 - val_accuracy: 0.0257 - lr: 0.0010 - 9s/epoch - 51ms/step
Epoch 37/100
176/176 - 9s - loss: 0.5004 - accuracy: 0.2004 - val_loss: 0.5813 - val_accuracy: 0.0658 - lr: 0.0010 - 9s/epoch - 51ms/step
Epoch 38/100
176/176 - 9s - loss: 0.5004 - accuracy: 0.1984 - val_loss: 0.5668 - val_accuracy: 0.0747 - lr: 0.0010 - 9s/epoch - 51ms/step
Epoch 39/100
176/176 - 9s - loss: 0.5004 - accuracy: 0.1983 - val_loss: 0.5531 - val_accuracy: 0.0252 - lr: 0.0010 - 9s/epoch - 51ms/step
Epoch 40/100
176/176 - 9s - loss: 0.5004 - accuracy: 0.1988 - val_loss: 0.5013 - val_accuracy: 0.8275 - lr: 0.0010 - 9s/epoch - 51ms/step
Epoch 41/100
176/176 - 9s - loss: 0.5004 - accuracy: 0.2001 - val_loss: 0.5034 - val_accuracy: 0.0794 - lr: 0.0010 - 9s/epoch - 51ms/step
Epoch 42/100
176/176 - 9s - loss: 0.5004 - accuracy: 0.1996 - val_loss: 0.5788 - val_accuracy: 0.0735 - lr: 0.0010 - 9s/epoch - 51ms/step
Epoch 43/100
176/176 - 9s - loss: 0.5004 - accuracy: 0.1989 - val_loss: 0.5321 - val_accuracy: 0.0735 - lr: 0.0010 - 9s/epoch - 51ms/step
Epoch 44/100
176/176 - 9s - loss: 0.5004 - accuracy: 0.1993 - val_loss: 0.5135 - val_accuracy: 0.0782 - lr: 0.0010 - 9s/epoch - 51ms/step
Epoch 45/100
176/176 - 9s - loss: 0.5004 - accuracy: 0.1982 - val_loss: 0.5671 - val_accuracy: 0.0653 - lr: 0.0010 - 9s/epoch - 51ms/step
Epoch 46/100
176/176 - 9s - loss: 0.5004 - accuracy: 0.1984 - val_loss: 0.5024 - val_accuracy: 0.0808 - lr: 0.0010 - 9s/epoch - 51ms/step
Epoch 47/100
176/176 - 9s - loss: 0.5004 - accuracy: 0.1994 - val_loss: 0.5037 - val_accuracy: 0.0880 - lr: 0.0010 - 9s/epoch - 51ms/step
Epoch 48/100
176/176 - 9s - loss: 0.5004 - accuracy: 0.1992 - val_loss: 0.5452 - val_accuracy: 0.0737 - lr: 0.0010 - 9s/epoch - 51ms/step
Epoch 49/100
176/176 - 9s - loss: 0.5004 - accuracy: 0.1993 - val_loss: 0.5448 - val_accuracy: 0.0737 - lr: 0.0010 - 9s/epoch - 51ms/step
Epoch 50/100
176/176 - 9s - loss: 0.5004 - accuracy: 0.1980 - val_loss: 0.5552 - val_accuracy: 0.0669 - lr: 0.0010 - 9s/epoch - 51ms/step
Epoch 51/100
176/176 - 9s - loss: 0.5004 - accuracy: 0.1974 - val_loss: 0.5577 - val_accuracy: 0.0075 - lr: 0.0010 - 9s/epoch - 51ms/step
Epoch 52/100
176/176 - 9s - loss: 0.5004 - accuracy: 0.1974 - val_loss: 0.5597 - val_accuracy: 0.0653 - lr: 0.0010 - 9s/epoch - 51ms/step
Epoch 53/100
176/176 - 9s - loss: 0.5004 - accuracy: 0.1984 - val_loss: 0.5403 - val_accuracy: 0.0076 - lr: 0.0010 - 9s/epoch - 51ms/step
Epoch 54/100
176/176 - 9s - loss: 0.5004 - accuracy: 0.1988 - val_loss: 0.5736 - val_accuracy: 0.0737 - lr: 0.0010 - 9s/epoch - 51ms/step
Epoch 55/100
176/176 - 9s - loss: 0.5004 - accuracy: 0.1987 - val_loss: 0.5671 - val_accuracy: 0.0653 - lr: 0.0010 - 9s/epoch - 51ms/step
Epoch 56/100
176/176 - 9s - loss: 0.5004 - accuracy: 0.1983 - val_loss: 0.5426 - val_accuracy: 0.8125 - lr: 0.0010 - 9s/epoch - 51ms/step
Epoch 57/100
176/176 - 9s - loss: 0.5004 - accuracy: 0.1988 - val_loss: 0.5467 - val_accuracy: 0.0743 - lr: 0.0010 - 9s/epoch - 51ms/step
Epoch 58/100
176/176 - 9s - loss: 0.5004 - accuracy: 0.1977 - val_loss: 0.5313 - val_accuracy: 0.0074 - lr: 0.0010 - 9s/epoch - 51ms/step
Epoch 59/100
176/176 - 9s - loss: 0.5004 - accuracy: 0.2007 - val_loss: 0.5527 - val_accuracy: 0.0249 - lr: 0.0010 - 9s/epoch - 51ms/step
Epoch 60/100
176/176 - 9s - loss: 0.5004 - accuracy: 0.1993 - val_loss: 0.5496 - val_accuracy: 0.0073 - lr: 0.0010 - 9s/epoch - 51ms/step
Epoch 61/100
176/176 - 9s - loss: 0.5004 - accuracy: 0.1998 - val_loss: 0.5466 - val_accuracy: 0.0072 - lr: 0.0010 - 9s/epoch - 51ms/step
Epoch 62/100
176/176 - 9s - loss: 0.5004 - accuracy: 0.1982 - val_loss: 0.5378 - val_accuracy: 0.8119 - lr: 0.0010 - 9s/epoch - 51ms/step
Epoch 63/100
176/176 - 9s - loss: 0.5004 - accuracy: 0.1998 - val_loss: 0.5392 - val_accuracy: 0.0653 - lr: 0.0010 - 9s/epoch - 51ms/step
Epoch 64/100
176/176 - 9s - loss: 0.5004 - accuracy: 0.2002 - val_loss: 0.5449 - val_accuracy: 0.0735 - lr: 0.0010 - 9s/epoch - 51ms/step
Epoch 65/100
176/176 - 9s - loss: 0.5004 - accuracy: 0.1990 - val_loss: 0.5774 - val_accuracy: 0.8118 - lr: 0.0010 - 9s/epoch - 51ms/step
Epoch 66/100
176/176 - 9s - loss: 0.5004 - accuracy: 0.1988 - val_loss: 0.5692 - val_accuracy: 0.0651 - lr: 0.0010 - 9s/epoch - 51ms/step
Epoch 67/100
176/176 - 9s - loss: 0.5004 - accuracy: 0.1969 - val_loss: 0.5530 - val_accuracy: 0.0742 - lr: 0.0010 - 9s/epoch - 51ms/step
Epoch 68/100
176/176 - 9s - loss: 0.5004 - accuracy: 0.1989 - val_loss: 0.5744 - val_accuracy: 0.0256 - lr: 0.0010 - 9s/epoch - 51ms/step
Epoch 69/100
176/176 - 9s - loss: 0.5004 - accuracy: 0.1989 - val_loss: 0.5357 - val_accuracy: 0.0278 - lr: 0.0010 - 9s/epoch - 51ms/step
Epoch 70/100
176/176 - 9s - loss: 0.5004 - accuracy: 0.1988 - val_loss: 0.5330 - val_accuracy: 0.0683 - lr: 0.0010 - 9s/epoch - 51ms/step
Epoch 71/100
176/176 - 9s - loss: 0.5004 - accuracy: 0.1998 - val_loss: 0.5842 - val_accuracy: 0.0254 - lr: 0.0010 - 9s/epoch - 51ms/step
Epoch 72/100
176/176 - 9s - loss: 0.5004 - accuracy: 0.1983 - val_loss: 0.5764 - val_accuracy: 0.8121 - lr: 0.0010 - 9s/epoch - 51ms/step
Epoch 73/100
176/176 - 9s - loss: 0.5004 - accuracy: 0.1978 - val_loss: 0.5708 - val_accuracy: 0.0735 - lr: 0.0010 - 9s/epoch - 51ms/step
Epoch 74/100
176/176 - 9s - loss: 0.5004 - accuracy: 0.1983 - val_loss: 0.5683 - val_accuracy: 0.8116 - lr: 0.0010 - 9s/epoch - 51ms/step
Epoch 75/100
176/176 - 9s - loss: 0.5004 - accuracy: 0.1992 - val_loss: 0.5724 - val_accuracy: 0.0649 - lr: 0.0010 - 9s/epoch - 51ms/step
Epoch 76/100
176/176 - 9s - loss: 0.5004 - accuracy: 0.1981 - val_loss: 0.5696 - val_accuracy: 0.0249 - lr: 0.0010 - 9s/epoch - 51ms/step
Epoch 77/100
176/176 - 9s - loss: 0.5004 - accuracy: 0.1981 - val_loss: 0.5013 - val_accuracy: 0.0893 - lr: 0.0010 - 9s/epoch - 51ms/step
Epoch 78/100
176/176 - 9s - loss: 0.5004 - accuracy: 0.1984 - val_loss: 0.5585 - val_accuracy: 0.0254 - lr: 0.0010 - 9s/epoch - 51ms/step
Epoch 79/100
176/176 - 9s - loss: 0.5004 - accuracy: 0.1984 - val_loss: 0.5517 - val_accuracy: 0.8121 - lr: 0.0010 - 9s/epoch - 51ms/step
Epoch 80/100
176/176 - 9s - loss: 0.5004 - accuracy: 0.1968 - val_loss: 0.5555 - val_accuracy: 0.0076 - lr: 0.0010 - 9s/epoch - 51ms/step
Epoch 81/100
176/176 - 9s - loss: 0.5004 - accuracy: 0.1987 - val_loss: 0.5056 - val_accuracy: 0.0347 - lr: 0.0010 - 9s/epoch - 51ms/step
Epoch 82/100
176/176 - 9s - loss: 0.5004 - accuracy: 0.1993 - val_loss: 0.5562 - val_accuracy: 0.0262 - lr: 0.0010 - 9s/epoch - 51ms/step
Epoch 83/100
176/176 - 9s - loss: 0.5004 - accuracy: 0.1981 - val_loss: 0.5624 - val_accuracy: 0.0262 - lr: 0.0010 - 9s/epoch - 51ms/step
Epoch 84/100
176/176 - 9s - loss: 0.5004 - accuracy: 0.1992 - val_loss: 0.5022 - val_accuracy: 0.8276 - lr: 0.0010 - 9s/epoch - 51ms/step
Epoch 85/100
176/176 - 9s - loss: 0.5004 - accuracy: 0.1996 - val_loss: 0.5244 - val_accuracy: 0.0077 - lr: 0.0010 - 9s/epoch - 51ms/step
Epoch 86/100
176/176 - 9s - loss: 0.5004 - accuracy: 0.1974 - val_loss: 0.5321 - val_accuracy: 0.0076 - lr: 0.0010 - 9s/epoch - 51ms/step
Epoch 87/100
176/176 - 9s - loss: 0.5004 - accuracy: 0.1973 - val_loss: 0.5647 - val_accuracy: 0.0747 - lr: 0.0010 - 9s/epoch - 51ms/step
Epoch 88/100
176/176 - 9s - loss: 0.5004 - accuracy: 0.1991 - val_loss: 0.5261 - val_accuracy: 0.8129 - lr: 0.0010 - 9s/epoch - 51ms/step
Epoch 89/100
176/176 - 9s - loss: 0.5004 - accuracy: 0.1988 - val_loss: 0.5544 - val_accuracy: 0.0655 - lr: 0.0010 - 9s/epoch - 51ms/step
Epoch 90/100
176/176 - 9s - loss: 0.5004 - accuracy: 0.1997 - val_loss: 0.5010 - val_accuracy: 0.0232 - lr: 0.0010 - 9s/epoch - 51ms/step
Epoch 91/100
176/176 - 9s - loss: 0.5004 - accuracy: 0.1972 - val_loss: 0.5081 - val_accuracy: 0.8154 - lr: 0.0010 - 9s/epoch - 51ms/step
Epoch 92/100
176/176 - 9s - loss: 0.5004 - accuracy: 0.2008 - val_loss: 0.5845 - val_accuracy: 0.0262 - lr: 0.0010 - 9s/epoch - 51ms/step
Epoch 93/100
176/176 - 9s - loss: 0.5004 - accuracy: 0.1997 - val_loss: 0.5780 - val_accuracy: 0.0661 - lr: 0.0010 - 9s/epoch - 51ms/step
Epoch 94/100
176/176 - 9s - loss: 0.5004 - accuracy: 0.1984 - val_loss: 0.5781 - val_accuracy: 0.0661 - lr: 0.0010 - 9s/epoch - 51ms/step
Epoch 95/100
176/176 - 9s - loss: 0.5004 - accuracy: 0.1979 - val_loss: 0.5021 - val_accuracy: 0.0232 - lr: 0.0010 - 9s/epoch - 51ms/step
Epoch 96/100
176/176 - 9s - loss: 0.5004 - accuracy: 0.1992 - val_loss: 0.5721 - val_accuracy: 0.0739 - lr: 0.0010 - 9s/epoch - 51ms/step
Epoch 97/100
176/176 - 9s - loss: 0.5004 - accuracy: 0.1988 - val_loss: 0.5832 - val_accuracy: 0.0661 - lr: 0.0010 - 9s/epoch - 51ms/step
Epoch 98/100
176/176 - 9s - loss: 0.5004 - accuracy: 0.1999 - val_loss: 0.5735 - val_accuracy: 0.0076 - lr: 0.0010 - 9s/epoch - 51ms/step
Epoch 99/100
176/176 - 9s - loss: 0.5004 - accuracy: 0.2013 - val_loss: 0.5772 - val_accuracy: 0.0661 - lr: 0.0010 - 9s/epoch - 51ms/step
Epoch 100/100
176/176 - 9s - loss: 0.5004 - accuracy: 0.1969 - val_loss: 0.5681 - val_accuracy: 0.0747 - lr: 0.0010 - 9s/epoch - 51ms/step
Loss: huber_loss
Epoch number: 75
fitting with batch size: 20
Epoch 1/75
4378/4378 - 83s - loss: 0.0800 - accuracy: 0.1990 - val_loss: 0.0823 - val_accuracy: 0.0735 - lr: 0.0010 - 83s/epoch - 19ms/step
Epoch 2/75
4378/4378 - 86s - loss: 0.0800 - accuracy: 0.1996 - val_loss: 0.0821 - val_accuracy: 0.0254 - lr: 0.0010 - 86s/epoch - 20ms/step
Epoch 3/75
4378/4378 - 86s - loss: 0.0800 - accuracy: 0.2007 - val_loss: 0.0819 - val_accuracy: 0.0657 - lr: 0.0010 - 86s/epoch - 20ms/step
Epoch 4/75
4378/4378 - 84s - loss: 0.0800 - accuracy: 0.1982 - val_loss: 0.0820 - val_accuracy: 0.0743 - lr: 0.0010 - 84s/epoch - 19ms/step
Epoch 5/75
4378/4378 - 84s - loss: 0.0800 - accuracy: 0.2013 - val_loss: 0.0823 - val_accuracy: 0.0735 - lr: 0.0010 - 84s/epoch - 19ms/step
Epoch 6/75
4378/4378 - 84s - loss: 0.0800 - accuracy: 0.1974 - val_loss: 0.0817 - val_accuracy: 0.8118 - lr: 0.0010 - 84s/epoch - 19ms/step
Epoch 7/75
4378/4378 - 84s - loss: 0.0800 - accuracy: 0.2002 - val_loss: 0.0823 - val_accuracy: 0.0072 - lr: 0.0010 - 84s/epoch - 19ms/step
Epoch 8/75
4378/4378 - 85s - loss: 0.0800 - accuracy: 0.2014 - val_loss: 0.0804 - val_accuracy: 0.0408 - lr: 0.0010 - 85s/epoch - 19ms/step
Epoch 9/75
4378/4378 - 85s - loss: 0.0800 - accuracy: 0.1996 - val_loss: 0.0825 - val_accuracy: 0.0258 - lr: 0.0010 - 85s/epoch - 19ms/step
Epoch 10/75
4378/4378 - 84s - loss: 0.0800 - accuracy: 0.2024 - val_loss: 0.0813 - val_accuracy: 0.8121 - lr: 0.0010 - 84s/epoch - 19ms/step
Epoch 11/75
4378/4378 - 84s - loss: 0.0800 - accuracy: 0.1992 - val_loss: 0.0802 - val_accuracy: 0.0789 - lr: 0.0010 - 84s/epoch - 19ms/step
Epoch 12/75
4378/4378 - 85s - loss: 0.0800 - accuracy: 0.2013 - val_loss: 0.0810 - val_accuracy: 0.8118 - lr: 0.0010 - 85s/epoch - 19ms/step
Epoch 13/75
4378/4378 - 85s - loss: 0.0800 - accuracy: 0.1990 - val_loss: 0.0818 - val_accuracy: 0.8116 - lr: 0.0010 - 85s/epoch - 19ms/step
Epoch 14/75
4378/4378 - 83s - loss: 0.0800 - accuracy: 0.2000 - val_loss: 0.0809 - val_accuracy: 0.8122 - lr: 0.0010 - 83s/epoch - 19ms/step
Epoch 15/75
4378/4378 - 84s - loss: 0.0800 - accuracy: 0.2001 - val_loss: 0.0829 - val_accuracy: 0.0254 - lr: 0.0010 - 84s/epoch - 19ms/step
Epoch 16/75
4378/4378 - 83s - loss: 0.0800 - accuracy: 0.1990 - val_loss: 0.0822 - val_accuracy: 0.0072 - lr: 0.0010 - 83s/epoch - 19ms/step
Epoch 17/75
4378/4378 - 86s - loss: 0.0800 - accuracy: 0.1981 - val_loss: 0.0786 - val_accuracy: 0.0231 - lr: 0.0010 - 86s/epoch - 20ms/step
Epoch 18/75
4378/4378 - 83s - loss: 0.0800 - accuracy: 0.1979 - val_loss: 0.0819 - val_accuracy: 0.0250 - lr: 0.0010 - 83s/epoch - 19ms/step
Epoch 19/75
4378/4378 - 86s - loss: 0.0800 - accuracy: 0.1986 - val_loss: 0.0789 - val_accuracy: 0.8240 - lr: 0.0010 - 86s/epoch - 20ms/step
Epoch 20/75
4378/4378 - 86s - loss: 0.0800 - accuracy: 0.2008 - val_loss: 0.0787 - val_accuracy: 0.8210 - lr: 0.0010 - 86s/epoch - 20ms/step
Epoch 21/75
4378/4378 - 70s - loss: 0.0800 - accuracy: 0.2000 - val_loss: 0.0822 - val_accuracy: 0.0651 - lr: 0.0010 - 70s/epoch - 16ms/step
Epoch 22/75
4378/4378 - 77s - loss: 0.0800 - accuracy: 0.1988 - val_loss: 0.0816 - val_accuracy: 0.0742 - lr: 0.0010 - 77s/epoch - 18ms/step
Epoch 23/75
4378/4378 - 76s - loss: 0.0800 - accuracy: 0.2012 - val_loss: 0.0821 - val_accuracy: 0.0269 - lr: 0.0010 - 76s/epoch - 17ms/step
Epoch 24/75
4378/4378 - 88s - loss: 0.0800 - accuracy: 0.2003 - val_loss: 0.0816 - val_accuracy: 0.0769 - lr: 0.0010 - 88s/epoch - 20ms/step
Epoch 25/75
4378/4378 - 78s - loss: 0.0800 - accuracy: 0.2002 - val_loss: 0.0814 - val_accuracy: 0.0677 - lr: 0.0010 - 78s/epoch - 18ms/step
Epoch 26/75
4378/4378 - 94s - loss: 0.0800 - accuracy: 0.1997 - val_loss: 0.0818 - val_accuracy: 0.8119 - lr: 0.0010 - 94s/epoch - 22ms/step
Epoch 27/75
4378/4378 - 95s - loss: 0.0800 - accuracy: 0.2002 - val_loss: 0.0801 - val_accuracy: 0.0409 - lr: 0.0010 - 95s/epoch - 22ms/step
Epoch 28/75
4378/4378 - 88s - loss: 0.0800 - accuracy: 0.1991 - val_loss: 0.0821 - val_accuracy: 0.0653 - lr: 0.0010 - 88s/epoch - 20ms/step
Epoch 29/75
4378/4378 - 88s - loss: 0.0800 - accuracy: 0.1975 - val_loss: 0.0822 - val_accuracy: 0.0693 - lr: 0.0010 - 88s/epoch - 20ms/step
Epoch 30/75
4378/4378 - 85s - loss: 0.0800 - accuracy: 0.1975 - val_loss: 0.0815 - val_accuracy: 0.8118 - lr: 0.0010 - 85s/epoch - 19ms/step
Epoch 31/75
4378/4378 - 86s - loss: 0.0800 - accuracy: 0.1980 - val_loss: 0.0817 - val_accuracy: 0.0254 - lr: 0.0010 - 86s/epoch - 20ms/step
Epoch 32/75
4378/4378 - 84s - loss: 0.0800 - accuracy: 0.1984 - val_loss: 0.0789 - val_accuracy: 0.0809 - lr: 0.0010 - 84s/epoch - 19ms/step
Epoch 33/75
4378/4378 - 87s - loss: 0.0800 - accuracy: 0.1983 - val_loss: 0.0789 - val_accuracy: 0.8270 - lr: 0.0010 - 87s/epoch - 20ms/step
Epoch 34/75
4378/4378 - 87s - loss: 0.0800 - accuracy: 0.2002 - val_loss: 0.0814 - val_accuracy: 0.0655 - lr: 0.0010 - 87s/epoch - 20ms/step
Epoch 35/75
4378/4378 - 78s - loss: 0.0800 - accuracy: 0.2008 - val_loss: 0.0814 - val_accuracy: 0.8118 - lr: 0.0010 - 78s/epoch - 18ms/step
Epoch 36/75
4378/4378 - 91s - loss: 0.0800 - accuracy: 0.2000 - val_loss: 0.0783 - val_accuracy: 0.8274 - lr: 0.0010 - 91s/epoch - 21ms/step
Epoch 37/75
4378/4378 - 93s - loss: 0.0800 - accuracy: 0.1988 - val_loss: 0.0819 - val_accuracy: 0.0661 - lr: 0.0010 - 93s/epoch - 21ms/step
Epoch 38/75
4378/4378 - 93s - loss: 0.0800 - accuracy: 0.1981 - val_loss: 0.0818 - val_accuracy: 0.0651 - lr: 0.0010 - 93s/epoch - 21ms/step
Epoch 39/75
4378/4378 - 93s - loss: 0.0800 - accuracy: 0.1968 - val_loss: 0.0818 - val_accuracy: 0.0261 - lr: 0.0010 - 93s/epoch - 21ms/step
Epoch 40/75
4378/4378 - 94s - loss: 0.0800 - accuracy: 0.2015 - val_loss: 0.0816 - val_accuracy: 0.0076 - lr: 0.0010 - 94s/epoch - 21ms/step
Epoch 41/75
4378/4378 - 95s - loss: 0.0800 - accuracy: 0.1996 - val_loss: 0.0818 - val_accuracy: 0.0085 - lr: 0.0010 - 95s/epoch - 22ms/step
Epoch 42/75
4378/4378 - 94s - loss: 0.0800 - accuracy: 0.2032 - val_loss: 0.0801 - val_accuracy: 0.0381 - lr: 0.0010 - 94s/epoch - 21ms/step
Epoch 43/75
4378/4378 - 94s - loss: 0.0800 - accuracy: 0.2021 - val_loss: 0.0828 - val_accuracy: 0.0254 - lr: 0.0010 - 94s/epoch - 22ms/step
Epoch 44/75
4378/4378 - 90s - loss: 0.0800 - accuracy: 0.1998 - val_loss: 0.0786 - val_accuracy: 0.8253 - lr: 0.0010 - 90s/epoch - 21ms/step
Epoch 45/75
4378/4378 - 96s - loss: 0.0800 - accuracy: 0.1978 - val_loss: 0.0820 - val_accuracy: 0.0739 - lr: 0.0010 - 96s/epoch - 22ms/step
Epoch 46/75
4378/4378 - 90s - loss: 0.0800 - accuracy: 0.1977 - val_loss: 0.0817 - val_accuracy: 0.8129 - lr: 0.0010 - 90s/epoch - 20ms/step
Epoch 47/75
4378/4378 - 93s - loss: 0.0800 - accuracy: 0.1993 - val_loss: 0.0811 - val_accuracy: 0.8117 - lr: 0.0010 - 93s/epoch - 21ms/step
Epoch 48/75
4378/4378 - 93s - loss: 0.0800 - accuracy: 0.1970 - val_loss: 0.0786 - val_accuracy: 0.8269 - lr: 0.0010 - 93s/epoch - 21ms/step
Epoch 49/75
4378/4378 - 93s - loss: 0.0800 - accuracy: 0.1976 - val_loss: 0.0818 - val_accuracy: 0.0739 - lr: 0.0010 - 93s/epoch - 21ms/step
Epoch 50/75
4378/4378 - 92s - loss: 0.0800 - accuracy: 0.2015 - val_loss: 0.0815 - val_accuracy: 0.0086 - lr: 0.0010 - 92s/epoch - 21ms/step
Epoch 51/75
4378/4378 - 92s - loss: 0.0800 - accuracy: 0.1992 - val_loss: 0.0831 - val_accuracy: 0.0764 - lr: 0.0010 - 92s/epoch - 21ms/step
Epoch 52/75
4378/4378 - 94s - loss: 0.0800 - accuracy: 0.1977 - val_loss: 0.0823 - val_accuracy: 0.0748 - lr: 0.0010 - 94s/epoch - 22ms/step
Epoch 53/75
4378/4378 - 97s - loss: 0.0800 - accuracy: 0.1991 - val_loss: 0.0809 - val_accuracy: 0.8119 - lr: 0.0010 - 97s/epoch - 22ms/step
Epoch 54/75
4378/4378 - 96s - loss: 0.0800 - accuracy: 0.1999 - val_loss: 0.0808 - val_accuracy: 0.0133 - lr: 0.0010 - 96s/epoch - 22ms/step
Epoch 55/75
4378/4378 - 95s - loss: 0.0800 - accuracy: 0.2013 - val_loss: 0.0798 - val_accuracy: 0.0398 - lr: 0.0010 - 95s/epoch - 22ms/step
Epoch 56/75
4378/4378 - 97s - loss: 0.0800 - accuracy: 0.1989 - val_loss: 0.0820 - val_accuracy: 0.0651 - lr: 0.0010 - 97s/epoch - 22ms/step
Epoch 57/75
4378/4378 - 96s - loss: 0.0800 - accuracy: 0.1991 - val_loss: 0.0816 - val_accuracy: 0.0739 - lr: 0.0010 - 96s/epoch - 22ms/step
Epoch 58/75
4378/4378 - 96s - loss: 0.0800 - accuracy: 0.1986 - val_loss: 0.0816 - val_accuracy: 0.8118 - lr: 0.0010 - 96s/epoch - 22ms/step
Epoch 59/75
4378/4378 - 98s - loss: 0.0800 - accuracy: 0.1990 - val_loss: 0.0816 - val_accuracy: 0.0254 - lr: 0.0010 - 98s/epoch - 22ms/step
Epoch 60/75
4378/4378 - 94s - loss: 0.0800 - accuracy: 0.2003 - val_loss: 0.0809 - val_accuracy: 0.8121 - lr: 0.0010 - 94s/epoch - 22ms/step
Epoch 61/75
4378/4378 - 93s - loss: 0.0800 - accuracy: 0.1990 - val_loss: 0.0819 - val_accuracy: 0.0738 - lr: 0.0010 - 93s/epoch - 21ms/step
Epoch 62/75
4378/4378 - 91s - loss: 0.0800 - accuracy: 0.1970 - val_loss: 0.0823 - val_accuracy: 0.0649 - lr: 0.0010 - 91s/epoch - 21ms/step
Epoch 63/75
4378/4378 - 88s - loss: 0.0800 - accuracy: 0.1987 - val_loss: 0.0795 - val_accuracy: 0.0894 - lr: 0.0010 - 88s/epoch - 20ms/step
Epoch 64/75
4378/4378 - 92s - loss: 0.0800 - accuracy: 0.1989 - val_loss: 0.0809 - val_accuracy: 0.0704 - lr: 0.0010 - 92s/epoch - 21ms/step
Epoch 65/75
4378/4378 - 91s - loss: 0.0800 - accuracy: 0.1986 - val_loss: 0.0817 - val_accuracy: 0.0250 - lr: 0.0010 - 91s/epoch - 21ms/step
Epoch 66/75
4378/4378 - 92s - loss: 0.0800 - accuracy: 0.1982 - val_loss: 0.0813 - val_accuracy: 0.0748 - lr: 0.0010 - 92s/epoch - 21ms/step
Epoch 67/75
4378/4378 - 91s - loss: 0.0800 - accuracy: 0.1982 - val_loss: 0.0804 - val_accuracy: 0.8164 - lr: 0.0010 - 91s/epoch - 21ms/step
Epoch 68/75
4378/4378 - 92s - loss: 0.0800 - accuracy: 0.2010 - val_loss: 0.0814 - val_accuracy: 0.0762 - lr: 0.0010 - 92s/epoch - 21ms/step
Epoch 69/75
4378/4378 - 89s - loss: 0.0800 - accuracy: 0.1980 - val_loss: 0.0809 - val_accuracy: 0.0823 - lr: 0.0010 - 89s/epoch - 20ms/step
Epoch 70/75
4378/4378 - 89s - loss: 0.0800 - accuracy: 0.1982 - val_loss: 0.0829 - val_accuracy: 0.0074 - lr: 0.0010 - 89s/epoch - 20ms/step
Epoch 71/75
4378/4378 - 88s - loss: 0.0800 - accuracy: 0.2028 - val_loss: 0.0815 - val_accuracy: 0.0259 - lr: 0.0010 - 88s/epoch - 20ms/step
Epoch 72/75
4378/4378 - 88s - loss: 0.0800 - accuracy: 0.1987 - val_loss: 0.0816 - val_accuracy: 0.0742 - lr: 0.0010 - 88s/epoch - 20ms/step
Epoch 73/75
4378/4378 - 90s - loss: 0.0800 - accuracy: 0.2002 - val_loss: 0.0809 - val_accuracy: 0.0258 - lr: 0.0010 - 90s/epoch - 20ms/step
Epoch 74/75
4378/4378 - 90s - loss: 0.0800 - accuracy: 0.1987 - val_loss: 0.0821 - val_accuracy: 0.0735 - lr: 0.0010 - 90s/epoch - 21ms/step
Epoch 75/75
4378/4378 - 88s - loss: 0.0800 - accuracy: 0.2022 - val_loss: 0.0804 - val_accuracy: 0.8128 - lr: 0.0010 - 88s/epoch - 20ms/step
fitting with batch size: 100
Epoch 1/75
876/876 - 31s - loss: 0.0800 - accuracy: 0.1980 - val_loss: 0.0817 - val_accuracy: 0.8129 - lr: 0.0010 - 31s/epoch - 35ms/step
Epoch 2/75
876/876 - 26s - loss: 0.0800 - accuracy: 0.1997 - val_loss: 0.0813 - val_accuracy: 0.0670 - lr: 0.0010 - 26s/epoch - 30ms/step
Epoch 3/75
876/876 - 27s - loss: 0.0800 - accuracy: 0.1994 - val_loss: 0.0815 - val_accuracy: 0.8118 - lr: 0.0010 - 27s/epoch - 30ms/step
Epoch 4/75
876/876 - 26s - loss: 0.0800 - accuracy: 0.2005 - val_loss: 0.0819 - val_accuracy: 0.0651 - lr: 0.0010 - 26s/epoch - 29ms/step
Epoch 5/75
876/876 - 26s - loss: 0.0800 - accuracy: 0.1968 - val_loss: 0.0817 - val_accuracy: 0.0662 - lr: 0.0010 - 26s/epoch - 29ms/step
Epoch 6/75
876/876 - 27s - loss: 0.0800 - accuracy: 0.1994 - val_loss: 0.0817 - val_accuracy: 0.0281 - lr: 0.0010 - 27s/epoch - 30ms/step
Epoch 7/75
876/876 - 26s - loss: 0.0800 - accuracy: 0.1988 - val_loss: 0.0820 - val_accuracy: 0.0076 - lr: 0.0010 - 26s/epoch - 30ms/step
Epoch 8/75
876/876 - 26s - loss: 0.0800 - accuracy: 0.2001 - val_loss: 0.0819 - val_accuracy: 0.0651 - lr: 0.0010 - 26s/epoch - 30ms/step
Epoch 9/75
876/876 - 23s - loss: 0.0800 - accuracy: 0.1983 - val_loss: 0.0818 - val_accuracy: 0.0079 - lr: 0.0010 - 23s/epoch - 27ms/step
Epoch 10/75
876/876 - 23s - loss: 0.0800 - accuracy: 0.1996 - val_loss: 0.0820 - val_accuracy: 0.0651 - lr: 0.0010 - 23s/epoch - 26ms/step
Epoch 11/75
876/876 - 23s - loss: 0.0800 - accuracy: 0.2000 - val_loss: 0.0794 - val_accuracy: 0.0808 - lr: 0.0010 - 23s/epoch - 26ms/step
Epoch 12/75
876/876 - 25s - loss: 0.0800 - accuracy: 0.1974 - val_loss: 0.0817 - val_accuracy: 0.0079 - lr: 0.0010 - 25s/epoch - 28ms/step
Epoch 13/75
876/876 - 23s - loss: 0.0800 - accuracy: 0.1949 - val_loss: 0.0818 - val_accuracy: 0.0741 - lr: 0.0010 - 23s/epoch - 26ms/step
Epoch 14/75
876/876 - 24s - loss: 0.0800 - accuracy: 0.2008 - val_loss: 0.0808 - val_accuracy: 0.0121 - lr: 0.0010 - 24s/epoch - 27ms/step
Epoch 15/75
876/876 - 25s - loss: 0.0800 - accuracy: 0.1988 - val_loss: 0.0817 - val_accuracy: 0.0085 - lr: 0.0010 - 25s/epoch - 29ms/step
Epoch 16/75
876/876 - 24s - loss: 0.0800 - accuracy: 0.1969 - val_loss: 0.0804 - val_accuracy: 0.0856 - lr: 0.0010 - 24s/epoch - 28ms/step
Epoch 17/75
876/876 - 24s - loss: 0.0800 - accuracy: 0.1960 - val_loss: 0.0816 - val_accuracy: 0.0254 - lr: 0.0010 - 24s/epoch - 27ms/step
Epoch 18/75
876/876 - 24s - loss: 0.0800 - accuracy: 0.2003 - val_loss: 0.0794 - val_accuracy: 0.8251 - lr: 0.0010 - 24s/epoch - 27ms/step
Epoch 19/75
876/876 - 24s - loss: 0.0800 - accuracy: 0.2000 - val_loss: 0.0792 - val_accuracy: 0.0894 - lr: 0.0010 - 24s/epoch - 27ms/step
Epoch 20/75
876/876 - 24s - loss: 0.0800 - accuracy: 0.1996 - val_loss: 0.0791 - val_accuracy: 0.0409 - lr: 0.0010 - 24s/epoch - 27ms/step
Epoch 21/75
876/876 - 24s - loss: 0.0800 - accuracy: 0.1991 - val_loss: 0.0819 - val_accuracy: 0.0651 - lr: 0.0010 - 24s/epoch - 28ms/step
Epoch 22/75
876/876 - 25s - loss: 0.0800 - accuracy: 0.1990 - val_loss: 0.0818 - val_accuracy: 0.0079 - lr: 0.0010 - 25s/epoch - 28ms/step
Epoch 23/75
876/876 - 22s - loss: 0.0800 - accuracy: 0.1969 - val_loss: 0.0813 - val_accuracy: 0.8123 - lr: 0.0010 - 22s/epoch - 25ms/step
Epoch 24/75
876/876 - 21s - loss: 0.0800 - accuracy: 0.1981 - val_loss: 0.0819 - val_accuracy: 0.0249 - lr: 0.0010 - 21s/epoch - 24ms/step
Epoch 25/75
876/876 - 21s - loss: 0.0800 - accuracy: 0.1984 - val_loss: 0.0820 - val_accuracy: 0.0739 - lr: 0.0010 - 21s/epoch - 24ms/step
Epoch 26/75
876/876 - 20s - loss: 0.0800 - accuracy: 0.2003 - val_loss: 0.0817 - val_accuracy: 0.8116 - lr: 0.0010 - 20s/epoch - 23ms/step
Epoch 27/75
876/876 - 20s - loss: 0.0800 - accuracy: 0.2015 - val_loss: 0.0826 - val_accuracy: 0.0254 - lr: 0.0010 - 20s/epoch - 23ms/step
Epoch 28/75
876/876 - 20s - loss: 0.0800 - accuracy: 0.1973 - val_loss: 0.0824 - val_accuracy: 0.0254 - lr: 0.0010 - 20s/epoch - 22ms/step
Epoch 29/75
876/876 - 20s - loss: 0.0800 - accuracy: 0.1973 - val_loss: 0.0821 - val_accuracy: 0.0072 - lr: 0.0010 - 20s/epoch - 22ms/step
Epoch 30/75
876/876 - 19s - loss: 0.0800 - accuracy: 0.1993 - val_loss: 0.0821 - val_accuracy: 0.0074 - lr: 0.0010 - 19s/epoch - 22ms/step
Epoch 31/75
876/876 - 19s - loss: 0.0800 - accuracy: 0.1997 - val_loss: 0.0821 - val_accuracy: 0.0739 - lr: 0.0010 - 19s/epoch - 22ms/step
Epoch 32/75
876/876 - 19s - loss: 0.0800 - accuracy: 0.1973 - val_loss: 0.0817 - val_accuracy: 0.0655 - lr: 0.0010 - 19s/epoch - 22ms/step
Epoch 33/75
876/876 - 18s - loss: 0.0800 - accuracy: 0.2014 - val_loss: 0.0819 - val_accuracy: 0.0649 - lr: 0.0010 - 18s/epoch - 20ms/step
Epoch 34/75
876/876 - 17s - loss: 0.0800 - accuracy: 0.1968 - val_loss: 0.0818 - val_accuracy: 0.0252 - lr: 0.0010 - 17s/epoch - 20ms/step
Epoch 35/75
876/876 - 17s - loss: 0.0800 - accuracy: 0.1972 - val_loss: 0.0817 - val_accuracy: 0.0735 - lr: 0.0010 - 17s/epoch - 20ms/step
Epoch 36/75
876/876 - 17s - loss: 0.0800 - accuracy: 0.1982 - val_loss: 0.0810 - val_accuracy: 0.8123 - lr: 0.0010 - 17s/epoch - 20ms/step
Epoch 37/75
876/876 - 18s - loss: 0.0800 - accuracy: 0.2006 - val_loss: 0.0819 - val_accuracy: 0.0085 - lr: 0.0010 - 18s/epoch - 21ms/step
Epoch 38/75
876/876 - 19s - loss: 0.0800 - accuracy: 0.1994 - val_loss: 0.0815 - val_accuracy: 0.0252 - lr: 0.0010 - 19s/epoch - 22ms/step
Epoch 39/75
876/876 - 18s - loss: 0.0800 - accuracy: 0.1980 - val_loss: 0.0806 - val_accuracy: 0.0317 - lr: 0.0010 - 18s/epoch - 20ms/step
Epoch 40/75
876/876 - 18s - loss: 0.0800 - accuracy: 0.1995 - val_loss: 0.0820 - val_accuracy: 0.0074 - lr: 0.0010 - 18s/epoch - 21ms/step
Epoch 41/75
876/876 - 18s - loss: 0.0800 - accuracy: 0.1985 - val_loss: 0.0822 - val_accuracy: 0.0257 - lr: 0.0010 - 18s/epoch - 20ms/step
Epoch 42/75
876/876 - 17s - loss: 0.0800 - accuracy: 0.1985 - val_loss: 0.0818 - val_accuracy: 0.0734 - lr: 0.0010 - 17s/epoch - 20ms/step
Epoch 43/75
876/876 - 17s - loss: 0.0800 - accuracy: 0.2007 - val_loss: 0.0819 - val_accuracy: 0.0254 - lr: 0.0010 - 17s/epoch - 20ms/step
Epoch 44/75
876/876 - 17s - loss: 0.0800 - accuracy: 0.2008 - val_loss: 0.0817 - val_accuracy: 0.0081 - lr: 0.0010 - 17s/epoch - 20ms/step
Epoch 45/75
876/876 - 18s - loss: 0.0800 - accuracy: 0.2000 - val_loss: 0.0814 - val_accuracy: 0.0320 - lr: 0.0010 - 18s/epoch - 21ms/step
Epoch 46/75
876/876 - 17s - loss: 0.0800 - accuracy: 0.1983 - val_loss: 0.0819 - val_accuracy: 0.0651 - lr: 0.0010 - 17s/epoch - 20ms/step
Epoch 47/75
876/876 - 17s - loss: 0.0800 - accuracy: 0.1980 - val_loss: 0.0812 - val_accuracy: 0.0259 - lr: 0.0010 - 17s/epoch - 20ms/step
Epoch 48/75
876/876 - 18s - loss: 0.0800 - accuracy: 0.2005 - val_loss: 0.0819 - val_accuracy: 0.0100 - lr: 0.0010 - 18s/epoch - 20ms/step
Epoch 49/75
876/876 - 19s - loss: 0.0800 - accuracy: 0.1986 - val_loss: 0.0816 - val_accuracy: 0.8125 - lr: 0.0010 - 19s/epoch - 22ms/step
Epoch 50/75
876/876 - 19s - loss: 0.0800 - accuracy: 0.1984 - val_loss: 0.0812 - val_accuracy: 0.0681 - lr: 0.0010 - 19s/epoch - 22ms/step
Epoch 51/75
876/876 - 19s - loss: 0.0800 - accuracy: 0.1986 - val_loss: 0.0817 - val_accuracy: 0.0661 - lr: 0.0010 - 19s/epoch - 22ms/step
Epoch 52/75
876/876 - 19s - loss: 0.0800 - accuracy: 0.1999 - val_loss: 0.0815 - val_accuracy: 0.0262 - lr: 0.0010 - 19s/epoch - 22ms/step
Epoch 53/75
876/876 - 18s - loss: 0.0800 - accuracy: 0.1999 - val_loss: 0.0817 - val_accuracy: 0.0072 - lr: 0.0010 - 18s/epoch - 21ms/step
Epoch 54/75
876/876 - 18s - loss: 0.0800 - accuracy: 0.2004 - val_loss: 0.0824 - val_accuracy: 0.0651 - lr: 0.0010 - 18s/epoch - 20ms/step
Epoch 55/75
876/876 - 17s - loss: 0.0800 - accuracy: 0.1961 - val_loss: 0.0825 - val_accuracy: 0.0077 - lr: 0.0010 - 17s/epoch - 20ms/step
Epoch 56/75
876/876 - 17s - loss: 0.0800 - accuracy: 0.2011 - val_loss: 0.0811 - val_accuracy: 0.8121 - lr: 0.0010 - 17s/epoch - 20ms/step
Epoch 57/75
876/876 - 18s - loss: 0.0800 - accuracy: 0.1972 - val_loss: 0.0817 - val_accuracy: 0.0085 - lr: 0.0010 - 18s/epoch - 20ms/step
Epoch 58/75
876/876 - 19s - loss: 0.0800 - accuracy: 0.1980 - val_loss: 0.0791 - val_accuracy: 0.8258 - lr: 0.0010 - 19s/epoch - 21ms/step
Epoch 59/75
876/876 - 17s - loss: 0.0800 - accuracy: 0.1993 - val_loss: 0.0820 - val_accuracy: 0.0651 - lr: 0.0010 - 17s/epoch - 20ms/step
Epoch 60/75
876/876 - 18s - loss: 0.0800 - accuracy: 0.2028 - val_loss: 0.0821 - val_accuracy: 0.0077 - lr: 0.0010 - 18s/epoch - 20ms/step
Epoch 61/75
876/876 - 18s - loss: 0.0800 - accuracy: 0.1978 - val_loss: 0.0817 - val_accuracy: 0.0662 - lr: 0.0010 - 18s/epoch - 21ms/step
Epoch 62/75
876/876 - 19s - loss: 0.0800 - accuracy: 0.2002 - val_loss: 0.0816 - val_accuracy: 0.0658 - lr: 0.0010 - 19s/epoch - 22ms/step
Epoch 63/75
876/876 - 19s - loss: 0.0800 - accuracy: 0.2010 - val_loss: 0.0808 - val_accuracy: 0.8125 - lr: 0.0010 - 19s/epoch - 22ms/step
Epoch 64/75
876/876 - 17s - loss: 0.0800 - accuracy: 0.1980 - val_loss: 0.0816 - val_accuracy: 0.0254 - lr: 0.0010 - 17s/epoch - 20ms/step
Epoch 65/75
876/876 - 18s - loss: 0.0800 - accuracy: 0.1988 - val_loss: 0.0822 - val_accuracy: 0.0735 - lr: 0.0010 - 18s/epoch - 21ms/step
Epoch 66/75
876/876 - 18s - loss: 0.0800 - accuracy: 0.1987 - val_loss: 0.0817 - val_accuracy: 0.8118 - lr: 0.0010 - 18s/epoch - 20ms/step
Epoch 67/75
876/876 - 18s - loss: 0.0800 - accuracy: 0.2005 - val_loss: 0.0812 - val_accuracy: 0.8116 - lr: 0.0010 - 18s/epoch - 20ms/step
Epoch 68/75
876/876 - 19s - loss: 0.0800 - accuracy: 0.1986 - val_loss: 0.0817 - val_accuracy: 0.0254 - lr: 0.0010 - 19s/epoch - 21ms/step
Epoch 69/75
876/876 - 20s - loss: 0.0800 - accuracy: 0.1987 - val_loss: 0.0805 - val_accuracy: 0.0332 - lr: 0.0010 - 20s/epoch - 23ms/step
Epoch 70/75
876/876 - 19s - loss: 0.0800 - accuracy: 0.1992 - val_loss: 0.0814 - val_accuracy: 0.0252 - lr: 0.0010 - 19s/epoch - 21ms/step
Epoch 71/75
876/876 - 19s - loss: 0.0800 - accuracy: 0.1989 - val_loss: 0.0793 - val_accuracy: 0.0408 - lr: 0.0010 - 19s/epoch - 22ms/step
Epoch 72/75
876/876 - 19s - loss: 0.0800 - accuracy: 0.2011 - val_loss: 0.0790 - val_accuracy: 0.0230 - lr: 0.0010 - 19s/epoch - 22ms/step
Epoch 73/75
876/876 - 19s - loss: 0.0800 - accuracy: 0.2002 - val_loss: 0.0821 - val_accuracy: 0.0254 - lr: 0.0010 - 19s/epoch - 22ms/step
Epoch 74/75
876/876 - 18s - loss: 0.0800 - accuracy: 0.1991 - val_loss: 0.0824 - val_accuracy: 0.0074 - lr: 0.0010 - 18s/epoch - 21ms/step
Epoch 75/75
876/876 - 19s - loss: 0.0800 - accuracy: 0.1975 - val_loss: 0.0813 - val_accuracy: 0.0740 - lr: 0.0010 - 19s/epoch - 22ms/step
fitting with batch size: 500
Epoch 1/75
176/176 - 13s - loss: 0.0800 - accuracy: 0.1968 - val_loss: 0.0814 - val_accuracy: 0.0743 - lr: 0.0010 - 13s/epoch - 75ms/step
Epoch 2/75
176/176 - 9s - loss: 0.0800 - accuracy: 0.1979 - val_loss: 0.0807 - val_accuracy: 0.0264 - lr: 0.0010 - 9s/epoch - 51ms/step
Epoch 3/75
176/176 - 9s - loss: 0.0800 - accuracy: 0.1978 - val_loss: 0.0791 - val_accuracy: 0.8272 - lr: 0.0010 - 9s/epoch - 53ms/step
Epoch 4/75
176/176 - 9s - loss: 0.0800 - accuracy: 0.1982 - val_loss: 0.0791 - val_accuracy: 0.8259 - lr: 0.0010 - 9s/epoch - 52ms/step
Epoch 5/75
176/176 - 9s - loss: 0.0800 - accuracy: 0.1993 - val_loss: 0.0793 - val_accuracy: 0.0228 - lr: 0.0010 - 9s/epoch - 50ms/step
Epoch 6/75
176/176 - 9s - loss: 0.0800 - accuracy: 0.1970 - val_loss: 0.0796 - val_accuracy: 0.0217 - lr: 0.0010 - 9s/epoch - 51ms/step
Epoch 7/75
176/176 - 9s - loss: 0.0800 - accuracy: 0.1982 - val_loss: 0.0790 - val_accuracy: 0.8275 - lr: 0.0010 - 9s/epoch - 50ms/step
Epoch 8/75
176/176 - 11s - loss: 0.0800 - accuracy: 0.1988 - val_loss: 0.0792 - val_accuracy: 0.0888 - lr: 0.0010 - 11s/epoch - 65ms/step
Epoch 9/75
176/176 - 12s - loss: 0.0800 - accuracy: 0.1992 - val_loss: 0.0801 - val_accuracy: 0.8185 - lr: 0.0010 - 12s/epoch - 69ms/step
Epoch 10/75
176/176 - 12s - loss: 0.0800 - accuracy: 0.1973 - val_loss: 0.0817 - val_accuracy: 0.0072 - lr: 0.0010 - 12s/epoch - 67ms/step
Epoch 11/75
176/176 - 12s - loss: 0.0800 - accuracy: 0.1997 - val_loss: 0.0814 - val_accuracy: 0.0738 - lr: 0.0010 - 12s/epoch - 67ms/step
Epoch 12/75
176/176 - 12s - loss: 0.0800 - accuracy: 0.1994 - val_loss: 0.0816 - val_accuracy: 0.0250 - lr: 0.0010 - 12s/epoch - 68ms/step
Epoch 13/75
176/176 - 12s - loss: 0.0800 - accuracy: 0.1987 - val_loss: 0.0789 - val_accuracy: 0.8275 - lr: 0.0010 - 12s/epoch - 68ms/step
Epoch 14/75
176/176 - 12s - loss: 0.0800 - accuracy: 0.1999 - val_loss: 0.0796 - val_accuracy: 0.0228 - lr: 0.0010 - 12s/epoch - 68ms/step
Epoch 15/75
176/176 - 12s - loss: 0.0800 - accuracy: 0.1981 - val_loss: 0.0793 - val_accuracy: 0.0230 - lr: 0.0010 - 12s/epoch - 68ms/step
Epoch 16/75
176/176 - 12s - loss: 0.0800 - accuracy: 0.2009 - val_loss: 0.0807 - val_accuracy: 0.8125 - lr: 0.0010 - 12s/epoch - 68ms/step
Epoch 17/75
176/176 - 11s - loss: 0.0800 - accuracy: 0.1980 - val_loss: 0.0794 - val_accuracy: 0.0795 - lr: 0.0010 - 11s/epoch - 64ms/step
Epoch 18/75
176/176 - 11s - loss: 0.0800 - accuracy: 0.1984 - val_loss: 0.0792 - val_accuracy: 0.0408 - lr: 0.0010 - 11s/epoch - 63ms/step
Epoch 19/75
176/176 - 12s - loss: 0.0800 - accuracy: 0.1999 - val_loss: 0.0820 - val_accuracy: 0.0651 - lr: 0.0010 - 12s/epoch - 67ms/step
Epoch 20/75
176/176 - 11s - loss: 0.0800 - accuracy: 0.1971 - val_loss: 0.0809 - val_accuracy: 0.0663 - lr: 0.0010 - 11s/epoch - 60ms/step
Epoch 21/75
176/176 - 11s - loss: 0.0800 - accuracy: 0.2004 - val_loss: 0.0815 - val_accuracy: 0.8118 - lr: 0.0010 - 11s/epoch - 62ms/step
Epoch 22/75
176/176 - 10s - loss: 0.0800 - accuracy: 0.1981 - val_loss: 0.0822 - val_accuracy: 0.0249 - lr: 0.0010 - 10s/epoch - 58ms/step
Epoch 23/75
176/176 - 11s - loss: 0.0800 - accuracy: 0.1984 - val_loss: 0.0812 - val_accuracy: 0.0740 - lr: 0.0010 - 11s/epoch - 61ms/step
Epoch 24/75
176/176 - 10s - loss: 0.0800 - accuracy: 0.1999 - val_loss: 0.0806 - val_accuracy: 0.0811 - lr: 0.0010 - 10s/epoch - 58ms/step
Epoch 25/75
176/176 - 10s - loss: 0.0800 - accuracy: 0.1989 - val_loss: 0.0816 - val_accuracy: 0.0254 - lr: 0.0010 - 10s/epoch - 57ms/step
Epoch 26/75
176/176 - 10s - loss: 0.0800 - accuracy: 0.1980 - val_loss: 0.0818 - val_accuracy: 0.0651 - lr: 0.0010 - 10s/epoch - 57ms/step
Epoch 27/75
176/176 - 10s - loss: 0.0800 - accuracy: 0.2008 - val_loss: 0.0808 - val_accuracy: 0.8119 - lr: 0.0010 - 10s/epoch - 59ms/step
Epoch 28/75
176/176 - 10s - loss: 0.0800 - accuracy: 0.1966 - val_loss: 0.0816 - val_accuracy: 0.0074 - lr: 0.0010 - 10s/epoch - 56ms/step
Epoch 29/75
176/176 - 10s - loss: 0.0800 - accuracy: 0.1989 - val_loss: 0.0810 - val_accuracy: 0.0254 - lr: 0.0010 - 10s/epoch - 57ms/step
Epoch 30/75
176/176 - 10s - loss: 0.0800 - accuracy: 0.1986 - val_loss: 0.0811 - val_accuracy: 0.0074 - lr: 0.0010 - 10s/epoch - 57ms/step
Epoch 31/75
176/176 - 10s - loss: 0.0800 - accuracy: 0.1977 - val_loss: 0.0813 - val_accuracy: 0.0073 - lr: 0.0010 - 10s/epoch - 58ms/step
Epoch 32/75
176/176 - 10s - loss: 0.0800 - accuracy: 0.1993 - val_loss: 0.0812 - val_accuracy: 0.8118 - lr: 0.0010 - 10s/epoch - 58ms/step
Epoch 33/75
176/176 - 10s - loss: 0.0800 - accuracy: 0.1994 - val_loss: 0.0811 - val_accuracy: 0.0735 - lr: 0.0010 - 10s/epoch - 58ms/step
Epoch 34/75
176/176 - 10s - loss: 0.0800 - accuracy: 0.1974 - val_loss: 0.0807 - val_accuracy: 0.0681 - lr: 0.0010 - 10s/epoch - 56ms/step
Epoch 35/75
176/176 - 10s - loss: 0.0800 - accuracy: 0.1987 - val_loss: 0.0807 - val_accuracy: 0.0316 - lr: 0.0010 - 10s/epoch - 57ms/step
Epoch 36/75
176/176 - 10s - loss: 0.0800 - accuracy: 0.1972 - val_loss: 0.0818 - val_accuracy: 0.0739 - lr: 0.0010 - 10s/epoch - 56ms/step
Epoch 37/75
176/176 - 10s - loss: 0.0800 - accuracy: 0.1979 - val_loss: 0.0811 - val_accuracy: 0.0662 - lr: 0.0010 - 10s/epoch - 57ms/step
Epoch 38/75
176/176 - 10s - loss: 0.0800 - accuracy: 0.1978 - val_loss: 0.0815 - val_accuracy: 0.0256 - lr: 0.0010 - 10s/epoch - 57ms/step
Epoch 39/75
176/176 - 10s - loss: 0.0800 - accuracy: 0.1992 - val_loss: 0.0816 - val_accuracy: 0.0651 - lr: 0.0010 - 10s/epoch - 56ms/step
Epoch 40/75
176/176 - 10s - loss: 0.0800 - accuracy: 0.1985 - val_loss: 0.0818 - val_accuracy: 0.0252 - lr: 0.0010 - 10s/epoch - 58ms/step
Epoch 41/75
176/176 - 11s - loss: 0.0800 - accuracy: 0.1987 - val_loss: 0.0817 - val_accuracy: 0.0250 - lr: 0.0010 - 11s/epoch - 61ms/step
Epoch 42/75
176/176 - 11s - loss: 0.0800 - accuracy: 0.2013 - val_loss: 0.0816 - val_accuracy: 0.0654 - lr: 0.0010 - 11s/epoch - 62ms/step
Epoch 43/75
176/176 - 10s - loss: 0.0800 - accuracy: 0.1970 - val_loss: 0.0812 - val_accuracy: 0.0259 - lr: 0.0010 - 10s/epoch - 56ms/step
Epoch 44/75
176/176 - 10s - loss: 0.0800 - accuracy: 0.1987 - val_loss: 0.0804 - val_accuracy: 0.0291 - lr: 0.0010 - 10s/epoch - 56ms/step
Epoch 45/75
176/176 - 10s - loss: 0.0800 - accuracy: 0.1987 - val_loss: 0.0801 - val_accuracy: 0.8155 - lr: 0.0010 - 10s/epoch - 59ms/step
Epoch 46/75
176/176 - 10s - loss: 0.0800 - accuracy: 0.1965 - val_loss: 0.0793 - val_accuracy: 0.0223 - lr: 0.0010 - 10s/epoch - 56ms/step
Epoch 47/75
176/176 - 10s - loss: 0.0800 - accuracy: 0.1993 - val_loss: 0.0795 - val_accuracy: 0.0784 - lr: 0.0010 - 10s/epoch - 57ms/step
Epoch 48/75
176/176 - 10s - loss: 0.0800 - accuracy: 0.1987 - val_loss: 0.0814 - val_accuracy: 0.0254 - lr: 0.0010 - 10s/epoch - 57ms/step
Epoch 49/75
176/176 - 10s - loss: 0.0800 - accuracy: 0.1998 - val_loss: 0.0802 - val_accuracy: 0.8150 - lr: 0.0010 - 10s/epoch - 56ms/step
Epoch 50/75
176/176 - 10s - loss: 0.0800 - accuracy: 0.1975 - val_loss: 0.0802 - val_accuracy: 0.0682 - lr: 0.0010 - 10s/epoch - 57ms/step
Epoch 51/75
176/176 - 10s - loss: 0.0800 - accuracy: 0.2002 - val_loss: 0.0794 - val_accuracy: 0.8206 - lr: 0.0010 - 10s/epoch - 56ms/step
Epoch 52/75
176/176 - 10s - loss: 0.0800 - accuracy: 0.2001 - val_loss: 0.0805 - val_accuracy: 0.0690 - lr: 0.0010 - 10s/epoch - 56ms/step
Epoch 53/75
176/176 - 10s - loss: 0.0800 - accuracy: 0.1981 - val_loss: 0.0799 - val_accuracy: 0.0150 - lr: 0.0010 - 10s/epoch - 57ms/step
Epoch 54/75
176/176 - 10s - loss: 0.0800 - accuracy: 0.1990 - val_loss: 0.0802 - val_accuracy: 0.0756 - lr: 0.0010 - 10s/epoch - 56ms/step
Epoch 55/75
176/176 - 10s - loss: 0.0800 - accuracy: 0.2003 - val_loss: 0.0809 - val_accuracy: 0.0253 - lr: 0.0010 - 10s/epoch - 56ms/step
Epoch 56/75
176/176 - 10s - loss: 0.0800 - accuracy: 0.1987 - val_loss: 0.0805 - val_accuracy: 0.8141 - lr: 0.0010 - 10s/epoch - 57ms/step
Epoch 57/75
176/176 - 10s - loss: 0.0800 - accuracy: 0.1991 - val_loss: 0.0804 - val_accuracy: 0.0099 - lr: 0.0010 - 10s/epoch - 57ms/step
Epoch 58/75
176/176 - 10s - loss: 0.0800 - accuracy: 0.1993 - val_loss: 0.0803 - val_accuracy: 0.8144 - lr: 0.0010 - 10s/epoch - 57ms/step
Epoch 59/75
176/176 - 10s - loss: 0.0800 - accuracy: 0.1993 - val_loss: 0.0812 - val_accuracy: 0.0072 - lr: 0.0010 - 10s/epoch - 57ms/step
Epoch 60/75
176/176 - 10s - loss: 0.0800 - accuracy: 0.1999 - val_loss: 0.0812 - val_accuracy: 0.0651 - lr: 0.0010 - 10s/epoch - 58ms/step
Epoch 61/75
176/176 - 10s - loss: 0.0800 - accuracy: 0.1980 - val_loss: 0.0822 - val_accuracy: 0.0074 - lr: 0.0010 - 10s/epoch - 56ms/step
Epoch 62/75
176/176 - 10s - loss: 0.0800 - accuracy: 0.1997 - val_loss: 0.0816 - val_accuracy: 0.0077 - lr: 0.0010 - 10s/epoch - 56ms/step
Epoch 63/75
176/176 - 10s - loss: 0.0800 - accuracy: 0.1967 - val_loss: 0.0812 - val_accuracy: 0.0073 - lr: 0.0010 - 10s/epoch - 56ms/step
Epoch 64/75
176/176 - 10s - loss: 0.0800 - accuracy: 0.1997 - val_loss: 0.0817 - val_accuracy: 0.0072 - lr: 0.0010 - 10s/epoch - 58ms/step
Epoch 65/75
176/176 - 10s - loss: 0.0800 - accuracy: 0.1994 - val_loss: 0.0818 - val_accuracy: 0.0735 - lr: 0.0010 - 10s/epoch - 57ms/step
Epoch 66/75
176/176 - 10s - loss: 0.0800 - accuracy: 0.1995 - val_loss: 0.0816 - val_accuracy: 0.0253 - lr: 0.0010 - 10s/epoch - 57ms/step
Epoch 67/75
176/176 - 10s - loss: 0.0800 - accuracy: 0.1968 - val_loss: 0.0809 - val_accuracy: 0.0267 - lr: 0.0010 - 10s/epoch - 57ms/step
Epoch 68/75
176/176 - 10s - loss: 0.0800 - accuracy: 0.1975 - val_loss: 0.0790 - val_accuracy: 0.8276 - lr: 0.0010 - 10s/epoch - 57ms/step
Epoch 69/75
176/176 - 11s - loss: 0.0800 - accuracy: 0.1999 - val_loss: 0.0793 - val_accuracy: 0.0393 - lr: 0.0010 - 11s/epoch - 64ms/step
Epoch 70/75
176/176 - 11s - loss: 0.0800 - accuracy: 0.1980 - val_loss: 0.0805 - val_accuracy: 0.0092 - lr: 0.0010 - 11s/epoch - 62ms/step
Epoch 71/75
176/176 - 12s - loss: 0.0800 - accuracy: 0.1986 - val_loss: 0.0813 - val_accuracy: 0.0653 - lr: 0.0010 - 12s/epoch - 69ms/step
Epoch 72/75
176/176 - 13s - loss: 0.0800 - accuracy: 0.1974 - val_loss: 0.0803 - val_accuracy: 0.0682 - lr: 0.0010 - 13s/epoch - 73ms/step
Epoch 73/75
176/176 - 13s - loss: 0.0800 - accuracy: 0.1995 - val_loss: 0.0817 - val_accuracy: 0.8117 - lr: 0.0010 - 13s/epoch - 73ms/step
Epoch 74/75
176/176 - 13s - loss: 0.0800 - accuracy: 0.1970 - val_loss: 0.0802 - val_accuracy: 0.0319 - lr: 0.0010 - 13s/epoch - 71ms/step
Epoch 75/75
176/176 - 13s - loss: 0.0800 - accuracy: 0.1970 - val_loss: 0.0813 - val_accuracy: 0.0098 - lr: 0.0010 - 13s/epoch - 74ms/step
Epoch number: 100
fitting with batch size: 20
Epoch 1/100
4378/4378 - 105s - loss: 0.0800 - accuracy: 0.2005 - val_loss: 0.0808 - val_accuracy: 0.8159 - lr: 0.0010 - 105s/epoch - 24ms/step
Epoch 2/100
4378/4378 - 93s - loss: 0.0800 - accuracy: 0.1985 - val_loss: 0.0813 - val_accuracy: 0.8118 - lr: 0.0010 - 93s/epoch - 21ms/step
Epoch 3/100
4378/4378 - 80s - loss: 0.0800 - accuracy: 0.2002 - val_loss: 0.0811 - val_accuracy: 0.8118 - lr: 0.0010 - 80s/epoch - 18ms/step
Epoch 4/100
4378/4378 - 75s - loss: 0.0800 - accuracy: 0.2000 - val_loss: 0.0797 - val_accuracy: 0.0373 - lr: 0.0010 - 75s/epoch - 17ms/step
Epoch 5/100
4378/4378 - 76s - loss: 0.0800 - accuracy: 0.1983 - val_loss: 0.0822 - val_accuracy: 0.0735 - lr: 0.0010 - 76s/epoch - 17ms/step
Epoch 6/100
4378/4378 - 83s - loss: 0.0800 - accuracy: 0.2006 - val_loss: 0.0812 - val_accuracy: 0.0758 - lr: 0.0010 - 83s/epoch - 19ms/step
Epoch 7/100
4378/4378 - 71s - loss: 0.0800 - accuracy: 0.2012 - val_loss: 0.0785 - val_accuracy: 0.8255 - lr: 0.0010 - 71s/epoch - 16ms/step
Epoch 8/100
4378/4378 - 75s - loss: 0.0800 - accuracy: 0.1975 - val_loss: 0.0809 - val_accuracy: 0.0783 - lr: 0.0010 - 75s/epoch - 17ms/step
Epoch 9/100
4378/4378 - 75s - loss: 0.0800 - accuracy: 0.1995 - val_loss: 0.0818 - val_accuracy: 0.0736 - lr: 0.0010 - 75s/epoch - 17ms/step
Epoch 10/100
4378/4378 - 74s - loss: 0.0800 - accuracy: 0.2003 - val_loss: 0.0812 - val_accuracy: 0.8118 - lr: 0.0010 - 74s/epoch - 17ms/step
Epoch 11/100
4378/4378 - 74s - loss: 0.0800 - accuracy: 0.1986 - val_loss: 0.0800 - val_accuracy: 0.0767 - lr: 0.0010 - 74s/epoch - 17ms/step
Epoch 12/100
4378/4378 - 74s - loss: 0.0800 - accuracy: 0.2007 - val_loss: 0.0819 - val_accuracy: 0.0252 - lr: 0.0010 - 74s/epoch - 17ms/step
Epoch 13/100
4378/4378 - 75s - loss: 0.0800 - accuracy: 0.1990 - val_loss: 0.0819 - val_accuracy: 0.0652 - lr: 0.0010 - 75s/epoch - 17ms/step
Epoch 14/100
4378/4378 - 74s - loss: 0.0800 - accuracy: 0.1992 - val_loss: 0.0833 - val_accuracy: 0.0651 - lr: 0.0010 - 74s/epoch - 17ms/step
Epoch 15/100
4378/4378 - 74s - loss: 0.0800 - accuracy: 0.1996 - val_loss: 0.0809 - val_accuracy: 0.0125 - lr: 0.0010 - 74s/epoch - 17ms/step
Epoch 16/100
4378/4378 - 74s - loss: 0.0800 - accuracy: 0.1981 - val_loss: 0.0818 - val_accuracy: 0.0262 - lr: 0.0010 - 74s/epoch - 17ms/step
Epoch 17/100
4378/4378 - 74s - loss: 0.0800 - accuracy: 0.1979 - val_loss: 0.0824 - val_accuracy: 0.0673 - lr: 0.0010 - 74s/epoch - 17ms/step
Epoch 18/100
4378/4378 - 74s - loss: 0.0800 - accuracy: 0.1999 - val_loss: 0.0810 - val_accuracy: 0.0656 - lr: 0.0010 - 74s/epoch - 17ms/step
Epoch 19/100
4378/4378 - 74s - loss: 0.0800 - accuracy: 0.1999 - val_loss: 0.0817 - val_accuracy: 0.0739 - lr: 0.0010 - 74s/epoch - 17ms/step
Epoch 20/100
4378/4378 - 74s - loss: 0.0800 - accuracy: 0.1999 - val_loss: 0.0803 - val_accuracy: 0.0729 - lr: 0.0010 - 74s/epoch - 17ms/step
Epoch 21/100
4378/4378 - 74s - loss: 0.0800 - accuracy: 0.2005 - val_loss: 0.0822 - val_accuracy: 0.0737 - lr: 0.0010 - 74s/epoch - 17ms/step
Epoch 22/100
4378/4378 - 74s - loss: 0.0800 - accuracy: 0.1974 - val_loss: 0.0793 - val_accuracy: 0.0894 - lr: 0.0010 - 74s/epoch - 17ms/step
Epoch 23/100
4378/4378 - 74s - loss: 0.0800 - accuracy: 0.1994 - val_loss: 0.0809 - val_accuracy: 0.0306 - lr: 0.0010 - 74s/epoch - 17ms/step
Epoch 24/100
4378/4378 - 74s - loss: 0.0800 - accuracy: 0.2014 - val_loss: 0.0793 - val_accuracy: 0.0860 - lr: 0.0010 - 74s/epoch - 17ms/step
Epoch 25/100
4378/4378 - 75s - loss: 0.0800 - accuracy: 0.1999 - val_loss: 0.0817 - val_accuracy: 0.8121 - lr: 0.0010 - 75s/epoch - 17ms/step
Epoch 26/100
4378/4378 - 74s - loss: 0.0800 - accuracy: 0.1992 - val_loss: 0.0815 - val_accuracy: 0.0770 - lr: 0.0010 - 74s/epoch - 17ms/step
Epoch 27/100
4378/4378 - 74s - loss: 0.0800 - accuracy: 0.1979 - val_loss: 0.0831 - val_accuracy: 0.0747 - lr: 0.0010 - 74s/epoch - 17ms/step
Epoch 28/100
4378/4378 - 74s - loss: 0.0800 - accuracy: 0.1998 - val_loss: 0.0818 - val_accuracy: 0.0659 - lr: 0.0010 - 74s/epoch - 17ms/step
Epoch 29/100
4378/4378 - 75s - loss: 0.0800 - accuracy: 0.1994 - val_loss: 0.0802 - val_accuracy: 0.8177 - lr: 0.0010 - 75s/epoch - 17ms/step
Epoch 30/100
4378/4378 - 80s - loss: 0.0800 - accuracy: 0.1981 - val_loss: 0.0790 - val_accuracy: 0.0232 - lr: 0.0010 - 80s/epoch - 18ms/step
Epoch 31/100
4378/4378 - 93s - loss: 0.0800 - accuracy: 0.2003 - val_loss: 0.0821 - val_accuracy: 0.0072 - lr: 0.0010 - 93s/epoch - 21ms/step
Epoch 32/100
4378/4378 - 93s - loss: 0.0800 - accuracy: 0.1989 - val_loss: 0.0816 - val_accuracy: 0.8121 - lr: 0.0010 - 93s/epoch - 21ms/step
Epoch 33/100
4378/4378 - 90s - loss: 0.0800 - accuracy: 0.1972 - val_loss: 0.0799 - val_accuracy: 0.0378 - lr: 0.0010 - 90s/epoch - 21ms/step
Epoch 34/100
4378/4378 - 77s - loss: 0.0800 - accuracy: 0.1980 - val_loss: 0.0802 - val_accuracy: 0.0755 - lr: 0.0010 - 77s/epoch - 18ms/step
Epoch 35/100
4378/4378 - 75s - loss: 0.0800 - accuracy: 0.2007 - val_loss: 0.0806 - val_accuracy: 0.8120 - lr: 0.0010 - 75s/epoch - 17ms/step
Epoch 36/100
4378/4378 - 77s - loss: 0.0800 - accuracy: 0.2000 - val_loss: 0.0803 - val_accuracy: 0.8123 - lr: 0.0010 - 77s/epoch - 18ms/step
Epoch 37/100
4378/4378 - 92s - loss: 0.0800 - accuracy: 0.1985 - val_loss: 0.0820 - val_accuracy: 0.0737 - lr: 0.0010 - 92s/epoch - 21ms/step
Epoch 38/100
4378/4378 - 90s - loss: 0.0800 - accuracy: 0.1987 - val_loss: 0.0818 - val_accuracy: 0.0080 - lr: 0.0010 - 90s/epoch - 20ms/step
Epoch 39/100
4378/4378 - 91s - loss: 0.0800 - accuracy: 0.2028 - val_loss: 0.0793 - val_accuracy: 0.0894 - lr: 0.0010 - 91s/epoch - 21ms/step
Epoch 40/100
4378/4378 - 82s - loss: 0.0800 - accuracy: 0.1982 - val_loss: 0.0820 - val_accuracy: 0.0734 - lr: 0.0010 - 82s/epoch - 19ms/step
Epoch 41/100
4378/4378 - 89s - loss: 0.0800 - accuracy: 0.2000 - val_loss: 0.0794 - val_accuracy: 0.0227 - lr: 0.0010 - 89s/epoch - 20ms/step
Epoch 42/100
4378/4378 - 77s - loss: 0.0800 - accuracy: 0.1979 - val_loss: 0.0792 - val_accuracy: 0.0409 - lr: 0.0010 - 77s/epoch - 18ms/step
Epoch 43/100
4378/4378 - 73s - loss: 0.0800 - accuracy: 0.1982 - val_loss: 0.0816 - val_accuracy: 0.0739 - lr: 0.0010 - 73s/epoch - 17ms/step
Epoch 44/100
4378/4378 - 75s - loss: 0.0800 - accuracy: 0.1996 - val_loss: 0.0820 - val_accuracy: 0.0259 - lr: 0.0010 - 75s/epoch - 17ms/step
Epoch 45/100
4378/4378 - 70s - loss: 0.0800 - accuracy: 0.2003 - val_loss: 0.0822 - val_accuracy: 0.0651 - lr: 0.0010 - 70s/epoch - 16ms/step
Epoch 46/100
4378/4378 - 73s - loss: 0.0800 - accuracy: 0.1998 - val_loss: 0.0816 - val_accuracy: 0.0736 - lr: 0.0010 - 73s/epoch - 17ms/step
Epoch 47/100
4378/4378 - 75s - loss: 0.0800 - accuracy: 0.1997 - val_loss: 0.0792 - val_accuracy: 0.0808 - lr: 0.0010 - 75s/epoch - 17ms/step
Epoch 48/100
4378/4378 - 74s - loss: 0.0800 - accuracy: 0.2021 - val_loss: 0.0798 - val_accuracy: 0.0894 - lr: 0.0010 - 74s/epoch - 17ms/step
Epoch 49/100
4378/4378 - 72s - loss: 0.0800 - accuracy: 0.2004 - val_loss: 0.0817 - val_accuracy: 0.8118 - lr: 0.0010 - 72s/epoch - 17ms/step
Epoch 50/100
4378/4378 - 72s - loss: 0.0800 - accuracy: 0.1998 - val_loss: 0.0825 - val_accuracy: 0.0255 - lr: 0.0010 - 72s/epoch - 17ms/step
Epoch 51/100
4378/4378 - 75s - loss: 0.0800 - accuracy: 0.1992 - val_loss: 0.0821 - val_accuracy: 0.0254 - lr: 0.0010 - 75s/epoch - 17ms/step
Epoch 52/100
4378/4378 - 76s - loss: 0.0800 - accuracy: 0.1981 - val_loss: 0.0818 - val_accuracy: 0.0649 - lr: 0.0010 - 76s/epoch - 17ms/step
Epoch 53/100
4378/4378 - 77s - loss: 0.0800 - accuracy: 0.1995 - val_loss: 0.0815 - val_accuracy: 0.8117 - lr: 0.0010 - 77s/epoch - 18ms/step
Epoch 54/100
4378/4378 - 72s - loss: 0.0800 - accuracy: 0.2004 - val_loss: 0.0780 - val_accuracy: 0.8275 - lr: 0.0010 - 72s/epoch - 16ms/step
Epoch 55/100
4378/4378 - 80s - loss: 0.0800 - accuracy: 0.1983 - val_loss: 0.0820 - val_accuracy: 0.0651 - lr: 0.0010 - 80s/epoch - 18ms/step
Epoch 56/100
4378/4378 - 83s - loss: 0.0800 - accuracy: 0.1989 - val_loss: 0.0815 - val_accuracy: 0.0651 - lr: 0.0010 - 83s/epoch - 19ms/step
Epoch 57/100
4378/4378 - 76s - loss: 0.0800 - accuracy: 0.2014 - val_loss: 0.0824 - val_accuracy: 0.0263 - lr: 0.0010 - 76s/epoch - 17ms/step
Epoch 58/100
4378/4378 - 72s - loss: 0.0800 - accuracy: 0.1987 - val_loss: 0.0817 - val_accuracy: 0.0748 - lr: 0.0010 - 72s/epoch - 16ms/step
Epoch 59/100
4378/4378 - 72s - loss: 0.0800 - accuracy: 0.1987 - val_loss: 0.0813 - val_accuracy: 0.8129 - lr: 0.0010 - 72s/epoch - 16ms/step
Epoch 60/100
4378/4378 - 81s - loss: 0.0800 - accuracy: 0.1993 - val_loss: 0.0821 - val_accuracy: 0.0668 - lr: 0.0010 - 81s/epoch - 18ms/step
Epoch 61/100
4378/4378 - 74s - loss: 0.0800 - accuracy: 0.2012 - val_loss: 0.0816 - val_accuracy: 0.0661 - lr: 0.0010 - 74s/epoch - 17ms/step
Epoch 62/100
4378/4378 - 73s - loss: 0.0800 - accuracy: 0.1991 - val_loss: 0.0828 - val_accuracy: 0.0252 - lr: 0.0010 - 73s/epoch - 17ms/step
Epoch 63/100
4378/4378 - 73s - loss: 0.0800 - accuracy: 0.1984 - val_loss: 0.0814 - val_accuracy: 0.8121 - lr: 0.0010 - 73s/epoch - 17ms/step
Epoch 64/100
4378/4378 - 85s - loss: 0.0800 - accuracy: 0.1972 - val_loss: 0.0808 - val_accuracy: 0.0796 - lr: 0.0010 - 85s/epoch - 19ms/step
Epoch 65/100
4378/4378 - 87s - loss: 0.0800 - accuracy: 0.1977 - val_loss: 0.0818 - val_accuracy: 0.8129 - lr: 0.0010 - 87s/epoch - 20ms/step
Epoch 66/100
4378/4378 - 89s - loss: 0.0800 - accuracy: 0.1985 - val_loss: 0.0799 - val_accuracy: 0.0894 - lr: 0.0010 - 89s/epoch - 20ms/step
Epoch 67/100
4378/4378 - 92s - loss: 0.0800 - accuracy: 0.1978 - val_loss: 0.0817 - val_accuracy: 0.0739 - lr: 0.0010 - 92s/epoch - 21ms/step
Epoch 68/100
4378/4378 - 87s - loss: 0.0800 - accuracy: 0.2002 - val_loss: 0.0818 - val_accuracy: 0.0739 - lr: 0.0010 - 87s/epoch - 20ms/step
Epoch 69/100
4378/4378 - 87s - loss: 0.0800 - accuracy: 0.1974 - val_loss: 0.0814 - val_accuracy: 0.0747 - lr: 0.0010 - 87s/epoch - 20ms/step
Epoch 70/100
4378/4378 - 85s - loss: 0.0800 - accuracy: 0.1982 - val_loss: 0.0817 - val_accuracy: 0.0074 - lr: 0.0010 - 85s/epoch - 19ms/step
Epoch 71/100
4378/4378 - 87s - loss: 0.0800 - accuracy: 0.1956 - val_loss: 0.0821 - val_accuracy: 0.0074 - lr: 0.0010 - 87s/epoch - 20ms/step
Epoch 72/100
4378/4378 - 86s - loss: 0.0800 - accuracy: 0.2003 - val_loss: 0.0817 - val_accuracy: 0.0739 - lr: 0.0010 - 86s/epoch - 20ms/step
Epoch 73/100
4378/4378 - 86s - loss: 0.0800 - accuracy: 0.1984 - val_loss: 0.0802 - val_accuracy: 0.0847 - lr: 0.0010 - 86s/epoch - 20ms/step
Epoch 74/100
4378/4378 - 84s - loss: 0.0800 - accuracy: 0.2019 - val_loss: 0.0826 - val_accuracy: 0.0649 - lr: 0.0010 - 84s/epoch - 19ms/step
Epoch 75/100
4378/4378 - 78s - loss: 0.0800 - accuracy: 0.1998 - val_loss: 0.0815 - val_accuracy: 0.0078 - lr: 0.0010 - 78s/epoch - 18ms/step
Epoch 76/100
4378/4378 - 85s - loss: 0.0800 - accuracy: 0.2008 - val_loss: 0.0825 - val_accuracy: 0.0259 - lr: 0.0010 - 85s/epoch - 19ms/step
Epoch 77/100
4378/4378 - 85s - loss: 0.0800 - accuracy: 0.2014 - val_loss: 0.0828 - val_accuracy: 0.0250 - lr: 0.0010 - 85s/epoch - 19ms/step
Epoch 78/100
4378/4378 - 89s - loss: 0.0800 - accuracy: 0.1996 - val_loss: 0.0802 - val_accuracy: 0.0132 - lr: 0.0010 - 89s/epoch - 20ms/step
Epoch 79/100
4378/4378 - 87s - loss: 0.0800 - accuracy: 0.2018 - val_loss: 0.0812 - val_accuracy: 0.8118 - lr: 0.0010 - 87s/epoch - 20ms/step
Epoch 80/100
4378/4378 - 82s - loss: 0.0800 - accuracy: 0.1999 - val_loss: 0.0823 - val_accuracy: 0.0740 - lr: 0.0010 - 82s/epoch - 19ms/step
Epoch 81/100
4378/4378 - 76s - loss: 0.0800 - accuracy: 0.1995 - val_loss: 0.0824 - val_accuracy: 0.0653 - lr: 0.0010 - 76s/epoch - 17ms/step
Epoch 82/100
4378/4378 - 84s - loss: 0.0800 - accuracy: 0.1992 - val_loss: 0.0813 - val_accuracy: 0.8116 - lr: 0.0010 - 84s/epoch - 19ms/step
Epoch 83/100
4378/4378 - 86s - loss: 0.0800 - accuracy: 0.1984 - val_loss: 0.0805 - val_accuracy: 0.0144 - lr: 0.0010 - 86s/epoch - 20ms/step
Epoch 84/100
4378/4378 - 81s - loss: 0.0800 - accuracy: 0.2002 - val_loss: 0.0811 - val_accuracy: 0.8149 - lr: 0.0010 - 81s/epoch - 19ms/step
Epoch 85/100
4378/4378 - 92s - loss: 0.0800 - accuracy: 0.1988 - val_loss: 0.0805 - val_accuracy: 0.0757 - lr: 0.0010 - 92s/epoch - 21ms/step
Epoch 86/100
4378/4378 - 84s - loss: 0.0800 - accuracy: 0.2005 - val_loss: 0.0821 - val_accuracy: 0.0655 - lr: 0.0010 - 84s/epoch - 19ms/step
Epoch 87/100
4378/4378 - 84s - loss: 0.0800 - accuracy: 0.1990 - val_loss: 0.0805 - val_accuracy: 0.0723 - lr: 0.0010 - 84s/epoch - 19ms/step
Epoch 88/100
4378/4378 - 80s - loss: 0.0800 - accuracy: 0.1990 - val_loss: 0.0788 - val_accuracy: 0.0894 - lr: 0.0010 - 80s/epoch - 18ms/step
Epoch 89/100
4378/4378 - 74s - loss: 0.0800 - accuracy: 0.1976 - val_loss: 0.0805 - val_accuracy: 0.8126 - lr: 0.0010 - 74s/epoch - 17ms/step
Epoch 90/100
4378/4378 - 90s - loss: 0.0800 - accuracy: 0.2013 - val_loss: 0.0795 - val_accuracy: 0.0229 - lr: 0.0010 - 90s/epoch - 21ms/step
Epoch 91/100
4378/4378 - 86s - loss: 0.0800 - accuracy: 0.2004 - val_loss: 0.0808 - val_accuracy: 0.8126 - lr: 0.0010 - 86s/epoch - 20ms/step
Epoch 92/100
4378/4378 - 84s - loss: 0.0800 - accuracy: 0.1969 - val_loss: 0.0810 - val_accuracy: 0.0784 - lr: 0.0010 - 84s/epoch - 19ms/step
Epoch 93/100
4378/4378 - 86s - loss: 0.0800 - accuracy: 0.2014 - val_loss: 0.0823 - val_accuracy: 0.0261 - lr: 0.0010 - 86s/epoch - 20ms/step
Epoch 94/100
4378/4378 - 72s - loss: 0.0800 - accuracy: 0.1985 - val_loss: 0.0805 - val_accuracy: 0.8179 - lr: 0.0010 - 72s/epoch - 16ms/step
Epoch 95/100
4378/4378 - 71s - loss: 0.0800 - accuracy: 0.1965 - val_loss: 0.0820 - val_accuracy: 0.0074 - lr: 0.0010 - 71s/epoch - 16ms/step
Epoch 96/100
4378/4378 - 76s - loss: 0.0800 - accuracy: 0.2004 - val_loss: 0.0798 - val_accuracy: 0.0894 - lr: 0.0010 - 76s/epoch - 17ms/step
Epoch 97/100
4378/4378 - 81s - loss: 0.0800 - accuracy: 0.1990 - val_loss: 0.0820 - val_accuracy: 0.0653 - lr: 0.0010 - 81s/epoch - 19ms/step
Epoch 98/100
4378/4378 - 89s - loss: 0.0800 - accuracy: 0.1997 - val_loss: 0.0822 - val_accuracy: 0.0250 - lr: 0.0010 - 89s/epoch - 20ms/step
Epoch 99/100
4378/4378 - 88s - loss: 0.0800 - accuracy: 0.1972 - val_loss: 0.0808 - val_accuracy: 0.0712 - lr: 0.0010 - 88s/epoch - 20ms/step
Epoch 100/100
4378/4378 - 82s - loss: 0.0800 - accuracy: 0.2018 - val_loss: 0.0809 - val_accuracy: 0.8116 - lr: 0.0010 - 82s/epoch - 19ms/step
fitting with batch size: 100
Epoch 1/100
876/876 - 22s - loss: 0.0800 - accuracy: 0.1998 - val_loss: 0.0818 - val_accuracy: 0.0254 - lr: 0.0010 - 22s/epoch - 25ms/step
Epoch 2/100
876/876 - 19s - loss: 0.0800 - accuracy: 0.1981 - val_loss: 0.0822 - val_accuracy: 0.0735 - lr: 0.0010 - 19s/epoch - 22ms/step
Epoch 3/100
876/876 - 18s - loss: 0.0800 - accuracy: 0.1965 - val_loss: 0.0793 - val_accuracy: 0.0894 - lr: 0.0010 - 18s/epoch - 20ms/step
Epoch 4/100
876/876 - 19s - loss: 0.0800 - accuracy: 0.1979 - val_loss: 0.0787 - val_accuracy: 0.8276 - lr: 0.0010 - 19s/epoch - 21ms/step
Epoch 5/100
876/876 - 19s - loss: 0.0800 - accuracy: 0.1999 - val_loss: 0.0794 - val_accuracy: 0.0808 - lr: 0.0010 - 19s/epoch - 21ms/step
Epoch 6/100
876/876 - 19s - loss: 0.0800 - accuracy: 0.1996 - val_loss: 0.0817 - val_accuracy: 0.8118 - lr: 0.0010 - 19s/epoch - 22ms/step
Epoch 7/100
876/876 - 19s - loss: 0.0800 - accuracy: 0.1975 - val_loss: 0.0819 - val_accuracy: 0.0252 - lr: 0.0010 - 19s/epoch - 21ms/step
Epoch 8/100
876/876 - 19s - loss: 0.0800 - accuracy: 0.2017 - val_loss: 0.0790 - val_accuracy: 0.0806 - lr: 0.0010 - 19s/epoch - 21ms/step
Epoch 9/100
876/876 - 19s - loss: 0.0800 - accuracy: 0.1972 - val_loss: 0.0795 - val_accuracy: 0.0385 - lr: 0.0010 - 19s/epoch - 21ms/step
Epoch 10/100
876/876 - 18s - loss: 0.0800 - accuracy: 0.2002 - val_loss: 0.0792 - val_accuracy: 0.0865 - lr: 0.0010 - 18s/epoch - 21ms/step
Epoch 11/100
876/876 - 19s - loss: 0.0800 - accuracy: 0.1992 - val_loss: 0.0794 - val_accuracy: 0.0843 - lr: 0.0010 - 19s/epoch - 21ms/step
Epoch 12/100
876/876 - 19s - loss: 0.0800 - accuracy: 0.1997 - val_loss: 0.0799 - val_accuracy: 0.0380 - lr: 0.0010 - 19s/epoch - 21ms/step
Epoch 13/100
876/876 - 19s - loss: 0.0800 - accuracy: 0.1990 - val_loss: 0.0813 - val_accuracy: 0.0701 - lr: 0.0010 - 19s/epoch - 21ms/step
Epoch 14/100
876/876 - 18s - loss: 0.0800 - accuracy: 0.1980 - val_loss: 0.0816 - val_accuracy: 0.0661 - lr: 0.0010 - 18s/epoch - 21ms/step
Epoch 15/100
876/876 - 18s - loss: 0.0800 - accuracy: 0.1999 - val_loss: 0.0811 - val_accuracy: 0.0750 - lr: 0.0010 - 18s/epoch - 21ms/step
Epoch 16/100
876/876 - 19s - loss: 0.0800 - accuracy: 0.2011 - val_loss: 0.0824 - val_accuracy: 0.0074 - lr: 0.0010 - 19s/epoch - 21ms/step
Epoch 17/100
876/876 - 19s - loss: 0.0800 - accuracy: 0.1997 - val_loss: 0.0808 - val_accuracy: 0.0143 - lr: 0.0010 - 19s/epoch - 21ms/step
Epoch 18/100
876/876 - 19s - loss: 0.0800 - accuracy: 0.2001 - val_loss: 0.0814 - val_accuracy: 0.8117 - lr: 0.0010 - 19s/epoch - 21ms/step
Epoch 19/100
876/876 - 18s - loss: 0.0800 - accuracy: 0.1990 - val_loss: 0.0815 - val_accuracy: 0.0089 - lr: 0.0010 - 18s/epoch - 21ms/step
Epoch 20/100
876/876 - 19s - loss: 0.0800 - accuracy: 0.1986 - val_loss: 0.0811 - val_accuracy: 0.0076 - lr: 0.0010 - 19s/epoch - 22ms/step
Epoch 21/100
876/876 - 19s - loss: 0.0800 - accuracy: 0.2010 - val_loss: 0.0809 - val_accuracy: 0.0655 - lr: 0.0010 - 19s/epoch - 21ms/step
Epoch 22/100
876/876 - 19s - loss: 0.0800 - accuracy: 0.1983 - val_loss: 0.0814 - val_accuracy: 0.0748 - lr: 0.0010 - 19s/epoch - 21ms/step
Epoch 23/100
876/876 - 18s - loss: 0.0800 - accuracy: 0.1981 - val_loss: 0.0820 - val_accuracy: 0.0252 - lr: 0.0010 - 18s/epoch - 20ms/step
Epoch 24/100
876/876 - 17s - loss: 0.0800 - accuracy: 0.2002 - val_loss: 0.0798 - val_accuracy: 0.0165 - lr: 0.0010 - 17s/epoch - 20ms/step
Epoch 25/100
876/876 - 17s - loss: 0.0800 - accuracy: 0.1983 - val_loss: 0.0797 - val_accuracy: 0.8198 - lr: 0.0010 - 17s/epoch - 20ms/step
Epoch 26/100
876/876 - 18s - loss: 0.0800 - accuracy: 0.1996 - val_loss: 0.0795 - val_accuracy: 0.8198 - lr: 0.0010 - 18s/epoch - 20ms/step
Epoch 27/100
876/876 - 19s - loss: 0.0800 - accuracy: 0.1979 - val_loss: 0.0802 - val_accuracy: 0.8181 - lr: 0.0010 - 19s/epoch - 22ms/step
Epoch 28/100
876/876 - 19s - loss: 0.0800 - accuracy: 0.1979 - val_loss: 0.0797 - val_accuracy: 0.0855 - lr: 0.0010 - 19s/epoch - 21ms/step
Epoch 29/100
876/876 - 19s - loss: 0.0800 - accuracy: 0.1988 - val_loss: 0.0818 - val_accuracy: 0.0251 - lr: 0.0010 - 19s/epoch - 21ms/step
Epoch 30/100
876/876 - 19s - loss: 0.0800 - accuracy: 0.1981 - val_loss: 0.0784 - val_accuracy: 0.8276 - lr: 0.0010 - 19s/epoch - 21ms/step
Epoch 31/100
876/876 - 19s - loss: 0.0800 - accuracy: 0.1991 - val_loss: 0.0813 - val_accuracy: 0.8141 - lr: 0.0010 - 19s/epoch - 22ms/step
Epoch 32/100
876/876 - 19s - loss: 0.0800 - accuracy: 0.1961 - val_loss: 0.0813 - val_accuracy: 0.0094 - lr: 0.0010 - 19s/epoch - 21ms/step
Epoch 33/100
876/876 - 19s - loss: 0.0800 - accuracy: 0.1980 - val_loss: 0.0812 - val_accuracy: 0.0740 - lr: 0.0010 - 19s/epoch - 22ms/step
Epoch 34/100
876/876 - 19s - loss: 0.0800 - accuracy: 0.1964 - val_loss: 0.0817 - val_accuracy: 0.0256 - lr: 0.0010 - 19s/epoch - 21ms/step
Epoch 35/100
876/876 - 17s - loss: 0.0800 - accuracy: 0.2003 - val_loss: 0.0817 - val_accuracy: 0.0075 - lr: 0.0010 - 17s/epoch - 20ms/step
Epoch 36/100
876/876 - 17s - loss: 0.0800 - accuracy: 0.1991 - val_loss: 0.0816 - val_accuracy: 0.8120 - lr: 0.0010 - 17s/epoch - 20ms/step
Epoch 37/100
876/876 - 17s - loss: 0.0800 - accuracy: 0.1983 - val_loss: 0.0818 - val_accuracy: 0.0251 - lr: 0.0010 - 17s/epoch - 20ms/step
Epoch 38/100
876/876 - 17s - loss: 0.0800 - accuracy: 0.1991 - val_loss: 0.0822 - val_accuracy: 0.0736 - lr: 0.0010 - 17s/epoch - 20ms/step
Epoch 39/100
876/876 - 17s - loss: 0.0800 - accuracy: 0.1982 - val_loss: 0.0820 - val_accuracy: 0.0649 - lr: 0.0010 - 17s/epoch - 20ms/step
Epoch 40/100
876/876 - 18s - loss: 0.0800 - accuracy: 0.1989 - val_loss: 0.0797 - val_accuracy: 0.0367 - lr: 0.0010 - 18s/epoch - 21ms/step
Epoch 41/100
876/876 - 19s - loss: 0.0800 - accuracy: 0.1988 - val_loss: 0.0817 - val_accuracy: 0.0651 - lr: 0.0010 - 19s/epoch - 21ms/step
Epoch 42/100
876/876 - 19s - loss: 0.0800 - accuracy: 0.1975 - val_loss: 0.0813 - val_accuracy: 0.8131 - lr: 0.0010 - 19s/epoch - 22ms/step
Epoch 43/100
876/876 - 19s - loss: 0.0800 - accuracy: 0.1991 - val_loss: 0.0819 - val_accuracy: 0.0742 - lr: 0.0010 - 19s/epoch - 21ms/step
Epoch 44/100
876/876 - 19s - loss: 0.0800 - accuracy: 0.1985 - val_loss: 0.0817 - val_accuracy: 0.8120 - lr: 0.0010 - 19s/epoch - 21ms/step
Epoch 45/100
876/876 - 19s - loss: 0.0800 - accuracy: 0.1987 - val_loss: 0.0822 - val_accuracy: 0.0076 - lr: 0.0010 - 19s/epoch - 22ms/step
Epoch 46/100
876/876 - 19s - loss: 0.0800 - accuracy: 0.1997 - val_loss: 0.0816 - val_accuracy: 0.0072 - lr: 0.0010 - 19s/epoch - 21ms/step
Epoch 47/100
876/876 - 18s - loss: 0.0800 - accuracy: 0.1966 - val_loss: 0.0819 - val_accuracy: 0.0735 - lr: 0.0010 - 18s/epoch - 21ms/step
Epoch 48/100
876/876 - 17s - loss: 0.0800 - accuracy: 0.1990 - val_loss: 0.0816 - val_accuracy: 0.0650 - lr: 0.0010 - 17s/epoch - 20ms/step
Epoch 49/100
876/876 - 17s - loss: 0.0800 - accuracy: 0.1995 - val_loss: 0.0819 - val_accuracy: 0.0263 - lr: 0.0010 - 17s/epoch - 20ms/step
Epoch 50/100
876/876 - 18s - loss: 0.0800 - accuracy: 0.2001 - val_loss: 0.0787 - val_accuracy: 0.8272 - lr: 0.0010 - 18s/epoch - 21ms/step
Epoch 51/100
876/876 - 19s - loss: 0.0800 - accuracy: 0.1987 - val_loss: 0.0817 - val_accuracy: 0.8119 - lr: 0.0010 - 19s/epoch - 22ms/step
Epoch 52/100
876/876 - 19s - loss: 0.0800 - accuracy: 0.1996 - val_loss: 0.0819 - val_accuracy: 0.0661 - lr: 0.0010 - 19s/epoch - 21ms/step
Epoch 53/100
876/876 - 19s - loss: 0.0800 - accuracy: 0.1980 - val_loss: 0.0815 - val_accuracy: 0.0078 - lr: 0.0010 - 19s/epoch - 22ms/step
Epoch 54/100
876/876 - 19s - loss: 0.0800 - accuracy: 0.1981 - val_loss: 0.0823 - val_accuracy: 0.0735 - lr: 0.0010 - 19s/epoch - 22ms/step
Epoch 55/100
876/876 - 19s - loss: 0.0800 - accuracy: 0.1999 - val_loss: 0.0825 - val_accuracy: 0.0080 - lr: 0.0010 - 19s/epoch - 22ms/step
Epoch 56/100
876/876 - 18s - loss: 0.0800 - accuracy: 0.1989 - val_loss: 0.0812 - val_accuracy: 0.8120 - lr: 0.0010 - 18s/epoch - 21ms/step
Epoch 57/100
876/876 - 17s - loss: 0.0800 - accuracy: 0.1985 - val_loss: 0.0819 - val_accuracy: 0.0077 - lr: 0.0010 - 17s/epoch - 20ms/step
Epoch 58/100
876/876 - 17s - loss: 0.0800 - accuracy: 0.2001 - val_loss: 0.0820 - val_accuracy: 0.0254 - lr: 0.0010 - 17s/epoch - 20ms/step
Epoch 59/100
876/876 - 17s - loss: 0.0800 - accuracy: 0.1976 - val_loss: 0.0795 - val_accuracy: 0.0345 - lr: 0.0010 - 17s/epoch - 20ms/step
Epoch 60/100
876/876 - 18s - loss: 0.0800 - accuracy: 0.1990 - val_loss: 0.0814 - val_accuracy: 0.0262 - lr: 0.0010 - 18s/epoch - 20ms/step
Epoch 61/100
876/876 - 17s - loss: 0.0800 - accuracy: 0.1983 - val_loss: 0.0803 - val_accuracy: 0.0315 - lr: 0.0010 - 17s/epoch - 20ms/step
Epoch 62/100
876/876 - 17s - loss: 0.0800 - accuracy: 0.1972 - val_loss: 0.0788 - val_accuracy: 0.8275 - lr: 0.0010 - 17s/epoch - 20ms/step
Epoch 63/100
876/876 - 17s - loss: 0.0800 - accuracy: 0.2003 - val_loss: 0.0815 - val_accuracy: 0.8119 - lr: 0.0010 - 17s/epoch - 20ms/step
Epoch 64/100
876/876 - 17s - loss: 0.0800 - accuracy: 0.1971 - val_loss: 0.0822 - val_accuracy: 0.0254 - lr: 0.0010 - 17s/epoch - 20ms/step
Epoch 65/100
876/876 - 17s - loss: 0.0800 - accuracy: 0.2000 - val_loss: 0.0819 - val_accuracy: 0.0745 - lr: 0.0010 - 17s/epoch - 20ms/step
Epoch 66/100
876/876 - 17s - loss: 0.0800 - accuracy: 0.1986 - val_loss: 0.0813 - val_accuracy: 0.0660 - lr: 0.0010 - 17s/epoch - 20ms/step
Epoch 67/100
876/876 - 17s - loss: 0.0800 - accuracy: 0.1997 - val_loss: 0.0818 - val_accuracy: 0.8119 - lr: 0.0010 - 17s/epoch - 20ms/step
Epoch 68/100
876/876 - 17s - loss: 0.0800 - accuracy: 0.1965 - val_loss: 0.0812 - val_accuracy: 0.0283 - lr: 0.0010 - 17s/epoch - 20ms/step
Epoch 69/100
876/876 - 17s - loss: 0.0800 - accuracy: 0.1997 - val_loss: 0.0820 - val_accuracy: 0.0076 - lr: 0.0010 - 17s/epoch - 20ms/step
Epoch 70/100
876/876 - 17s - loss: 0.0800 - accuracy: 0.1967 - val_loss: 0.0812 - val_accuracy: 0.8121 - lr: 0.0010 - 17s/epoch - 20ms/step
Epoch 71/100
876/876 - 17s - loss: 0.0800 - accuracy: 0.1987 - val_loss: 0.0818 - val_accuracy: 0.0744 - lr: 0.0010 - 17s/epoch - 20ms/step
Epoch 72/100
876/876 - 17s - loss: 0.0800 - accuracy: 0.1982 - val_loss: 0.0814 - val_accuracy: 0.0262 - lr: 0.0010 - 17s/epoch - 20ms/step
Epoch 73/100
876/876 - 17s - loss: 0.0800 - accuracy: 0.1988 - val_loss: 0.0814 - val_accuracy: 0.0652 - lr: 0.0010 - 17s/epoch - 20ms/step
Epoch 74/100
876/876 - 17s - loss: 0.0800 - accuracy: 0.1991 - val_loss: 0.0813 - val_accuracy: 0.0260 - lr: 0.0010 - 17s/epoch - 20ms/step
Epoch 75/100
876/876 - 17s - loss: 0.0800 - accuracy: 0.1973 - val_loss: 0.0816 - val_accuracy: 0.8133 - lr: 0.0010 - 17s/epoch - 20ms/step
Epoch 76/100
876/876 - 19s - loss: 0.0800 - accuracy: 0.1953 - val_loss: 0.0802 - val_accuracy: 0.8150 - lr: 0.0010 - 19s/epoch - 22ms/step
Epoch 77/100
876/876 - 19s - loss: 0.0800 - accuracy: 0.1972 - val_loss: 0.0794 - val_accuracy: 0.0782 - lr: 0.0010 - 19s/epoch - 21ms/step
Epoch 78/100
876/876 - 19s - loss: 0.0800 - accuracy: 0.1964 - val_loss: 0.0793 - val_accuracy: 0.8240 - lr: 0.0010 - 19s/epoch - 21ms/step
Epoch 79/100
876/876 - 19s - loss: 0.0800 - accuracy: 0.1997 - val_loss: 0.0808 - val_accuracy: 0.0738 - lr: 0.0010 - 19s/epoch - 21ms/step
Epoch 80/100
876/876 - 19s - loss: 0.0800 - accuracy: 0.1989 - val_loss: 0.0804 - val_accuracy: 0.0151 - lr: 0.0010 - 19s/epoch - 22ms/step
Epoch 81/100
876/876 - 19s - loss: 0.0800 - accuracy: 0.1999 - val_loss: 0.0818 - val_accuracy: 0.0650 - lr: 0.0010 - 19s/epoch - 21ms/step
Epoch 82/100
876/876 - 19s - loss: 0.0800 - accuracy: 0.1996 - val_loss: 0.0787 - val_accuracy: 0.8255 - lr: 0.0010 - 19s/epoch - 22ms/step
Epoch 83/100
876/876 - 19s - loss: 0.0800 - accuracy: 0.1992 - val_loss: 0.0815 - val_accuracy: 0.0080 - lr: 0.0010 - 19s/epoch - 21ms/step
Epoch 84/100
876/876 - 19s - loss: 0.0800 - accuracy: 0.1999 - val_loss: 0.0819 - val_accuracy: 0.0739 - lr: 0.0010 - 19s/epoch - 21ms/step
Epoch 85/100
876/876 - 19s - loss: 0.0800 - accuracy: 0.1998 - val_loss: 0.0813 - val_accuracy: 0.0652 - lr: 0.0010 - 19s/epoch - 22ms/step
Epoch 86/100
876/876 - 19s - loss: 0.0800 - accuracy: 0.2009 - val_loss: 0.0817 - val_accuracy: 0.0741 - lr: 0.0010 - 19s/epoch - 22ms/step
Epoch 87/100
876/876 - 19s - loss: 0.0800 - accuracy: 0.1986 - val_loss: 0.0822 - val_accuracy: 0.0252 - lr: 0.0010 - 19s/epoch - 22ms/step
Epoch 88/100
876/876 - 19s - loss: 0.0800 - accuracy: 0.1999 - val_loss: 0.0822 - val_accuracy: 0.0254 - lr: 0.0010 - 19s/epoch - 22ms/step
Epoch 89/100
876/876 - 20s - loss: 0.0800 - accuracy: 0.1989 - val_loss: 0.0809 - val_accuracy: 0.8144 - lr: 0.0010 - 20s/epoch - 23ms/step
Epoch 90/100
876/876 - 20s - loss: 0.0800 - accuracy: 0.1985 - val_loss: 0.0817 - val_accuracy: 0.0662 - lr: 0.0010 - 20s/epoch - 23ms/step
Epoch 91/100
876/876 - 20s - loss: 0.0800 - accuracy: 0.2002 - val_loss: 0.0816 - val_accuracy: 0.8129 - lr: 0.0010 - 20s/epoch - 23ms/step
Epoch 92/100
876/876 - 20s - loss: 0.0800 - accuracy: 0.1987 - val_loss: 0.0815 - val_accuracy: 0.8120 - lr: 0.0010 - 20s/epoch - 23ms/step
Epoch 93/100
876/876 - 20s - loss: 0.0800 - accuracy: 0.1999 - val_loss: 0.0816 - val_accuracy: 0.0738 - lr: 0.0010 - 20s/epoch - 23ms/step
Epoch 94/100
876/876 - 20s - loss: 0.0800 - accuracy: 0.1991 - val_loss: 0.0808 - val_accuracy: 0.8119 - lr: 0.0010 - 20s/epoch - 23ms/step
Epoch 95/100
876/876 - 20s - loss: 0.0800 - accuracy: 0.1987 - val_loss: 0.0817 - val_accuracy: 0.0256 - lr: 0.0010 - 20s/epoch - 22ms/step
Epoch 96/100
876/876 - 20s - loss: 0.0800 - accuracy: 0.1996 - val_loss: 0.0815 - val_accuracy: 0.0253 - lr: 0.0010 - 20s/epoch - 23ms/step
Epoch 97/100
876/876 - 20s - loss: 0.0800 - accuracy: 0.1997 - val_loss: 0.0808 - val_accuracy: 0.0279 - lr: 0.0010 - 20s/epoch - 23ms/step
Epoch 98/100
876/876 - 20s - loss: 0.0800 - accuracy: 0.1979 - val_loss: 0.0801 - val_accuracy: 0.0742 - lr: 0.0010 - 20s/epoch - 23ms/step
Epoch 99/100
876/876 - 20s - loss: 0.0800 - accuracy: 0.1999 - val_loss: 0.0819 - val_accuracy: 0.0747 - lr: 0.0010 - 20s/epoch - 22ms/step
Epoch 100/100
876/876 - 20s - loss: 0.0800 - accuracy: 0.1984 - val_loss: 0.0820 - val_accuracy: 0.0736 - lr: 0.0010 - 20s/epoch - 23ms/step
fitting with batch size: 500
Epoch 1/100
176/176 - 14s - loss: 0.0800 - accuracy: 0.2005 - val_loss: 0.0822 - val_accuracy: 0.0649 - lr: 0.0010 - 14s/epoch - 81ms/step
Epoch 2/100
176/176 - 11s - loss: 0.0800 - accuracy: 0.1989 - val_loss: 0.0819 - val_accuracy: 0.8116 - lr: 0.0010 - 11s/epoch - 61ms/step
Epoch 3/100
176/176 - 10s - loss: 0.0800 - accuracy: 0.1996 - val_loss: 0.0819 - val_accuracy: 0.0661 - lr: 0.0010 - 10s/epoch - 59ms/step
Epoch 4/100
176/176 - 10s - loss: 0.0800 - accuracy: 0.1975 - val_loss: 0.0816 - val_accuracy: 0.0661 - lr: 0.0010 - 10s/epoch - 56ms/step
Epoch 5/100
176/176 - 10s - loss: 0.0800 - accuracy: 0.1997 - val_loss: 0.0800 - val_accuracy: 0.0335 - lr: 0.0010 - 10s/epoch - 56ms/step
Epoch 6/100
176/176 - 10s - loss: 0.0800 - accuracy: 0.1982 - val_loss: 0.0819 - val_accuracy: 0.0651 - lr: 0.0010 - 10s/epoch - 56ms/step
Epoch 7/100
176/176 - 10s - loss: 0.0800 - accuracy: 0.1998 - val_loss: 0.0819 - val_accuracy: 0.0737 - lr: 0.0010 - 10s/epoch - 55ms/step
Epoch 8/100
176/176 - 10s - loss: 0.0800 - accuracy: 0.1992 - val_loss: 0.0814 - val_accuracy: 0.8118 - lr: 0.0010 - 10s/epoch - 56ms/step
Epoch 9/100
176/176 - 10s - loss: 0.0800 - accuracy: 0.1977 - val_loss: 0.0820 - val_accuracy: 0.0737 - lr: 0.0010 - 10s/epoch - 56ms/step
Epoch 10/100
176/176 - 11s - loss: 0.0800 - accuracy: 0.1974 - val_loss: 0.0819 - val_accuracy: 0.0252 - lr: 0.0010 - 11s/epoch - 60ms/step
Epoch 11/100
176/176 - 11s - loss: 0.0800 - accuracy: 0.1979 - val_loss: 0.0816 - val_accuracy: 0.0653 - lr: 0.0010 - 11s/epoch - 64ms/step
Epoch 12/100
176/176 - 11s - loss: 0.0800 - accuracy: 0.1958 - val_loss: 0.0813 - val_accuracy: 0.0661 - lr: 0.0010 - 11s/epoch - 64ms/step
Epoch 13/100
176/176 - 11s - loss: 0.0800 - accuracy: 0.1992 - val_loss: 0.0789 - val_accuracy: 0.8275 - lr: 0.0010 - 11s/epoch - 63ms/step
Epoch 14/100
176/176 - 11s - loss: 0.0800 - accuracy: 0.1995 - val_loss: 0.0792 - val_accuracy: 0.0216 - lr: 0.0010 - 11s/epoch - 62ms/step
Epoch 15/100
176/176 - 11s - loss: 0.0800 - accuracy: 0.1983 - val_loss: 0.0795 - val_accuracy: 0.0206 - lr: 0.0010 - 11s/epoch - 62ms/step
Epoch 16/100
176/176 - 11s - loss: 0.0800 - accuracy: 0.1971 - val_loss: 0.0800 - val_accuracy: 0.0853 - lr: 0.0010 - 11s/epoch - 62ms/step
Epoch 17/100
176/176 - 11s - loss: 0.0800 - accuracy: 0.1970 - val_loss: 0.0811 - val_accuracy: 0.0661 - lr: 0.0010 - 11s/epoch - 64ms/step
Epoch 18/100
176/176 - 11s - loss: 0.0800 - accuracy: 0.1995 - val_loss: 0.0819 - val_accuracy: 0.0078 - lr: 0.0010 - 11s/epoch - 61ms/step
Epoch 19/100
176/176 - 9s - loss: 0.0800 - accuracy: 0.2004 - val_loss: 0.0789 - val_accuracy: 0.8274 - lr: 0.0010 - 9s/epoch - 49ms/step
Epoch 20/100
176/176 - 10s - loss: 0.0800 - accuracy: 0.2003 - val_loss: 0.0817 - val_accuracy: 0.0276 - lr: 0.0010 - 10s/epoch - 55ms/step
Epoch 21/100
176/176 - 11s - loss: 0.0800 - accuracy: 0.1985 - val_loss: 0.0816 - val_accuracy: 0.0093 - lr: 0.0010 - 11s/epoch - 62ms/step
Epoch 22/100
176/176 - 10s - loss: 0.0800 - accuracy: 0.1988 - val_loss: 0.0809 - val_accuracy: 0.8140 - lr: 0.0010 - 10s/epoch - 55ms/step
Epoch 23/100
176/176 - 10s - loss: 0.0800 - accuracy: 0.1994 - val_loss: 0.0797 - val_accuracy: 0.0761 - lr: 0.0010 - 10s/epoch - 56ms/step
Epoch 24/100
176/176 - 10s - loss: 0.0800 - accuracy: 0.1982 - val_loss: 0.0813 - val_accuracy: 0.0078 - lr: 0.0010 - 10s/epoch - 54ms/step
Epoch 25/100
176/176 - 10s - loss: 0.0800 - accuracy: 0.2003 - val_loss: 0.0797 - val_accuracy: 0.0185 - lr: 0.0010 - 10s/epoch - 55ms/step
Epoch 26/100
176/176 - 10s - loss: 0.0800 - accuracy: 0.1987 - val_loss: 0.0798 - val_accuracy: 0.0367 - lr: 0.0010 - 10s/epoch - 57ms/step
Epoch 27/100
176/176 - 10s - loss: 0.0800 - accuracy: 0.1981 - val_loss: 0.0816 - val_accuracy: 0.0656 - lr: 0.0010 - 10s/epoch - 56ms/step
Epoch 28/100
176/176 - 10s - loss: 0.0800 - accuracy: 0.2001 - val_loss: 0.0808 - val_accuracy: 0.0339 - lr: 0.0010 - 10s/epoch - 55ms/step
Epoch 29/100
176/176 - 10s - loss: 0.0800 - accuracy: 0.1984 - val_loss: 0.0814 - val_accuracy: 0.0662 - lr: 0.0010 - 10s/epoch - 55ms/step
Epoch 30/100
176/176 - 10s - loss: 0.0800 - accuracy: 0.1977 - val_loss: 0.0809 - val_accuracy: 0.0751 - lr: 0.0010 - 10s/epoch - 56ms/step
Epoch 31/100
176/176 - 10s - loss: 0.0800 - accuracy: 0.1975 - val_loss: 0.0810 - val_accuracy: 0.0752 - lr: 0.0010 - 10s/epoch - 55ms/step
Epoch 32/100
176/176 - 10s - loss: 0.0800 - accuracy: 0.1993 - val_loss: 0.0813 - val_accuracy: 0.0079 - lr: 0.0010 - 10s/epoch - 55ms/step
Epoch 33/100
176/176 - 10s - loss: 0.0800 - accuracy: 0.1988 - val_loss: 0.0820 - val_accuracy: 0.0249 - lr: 0.0010 - 10s/epoch - 54ms/step
Epoch 34/100
176/176 - 10s - loss: 0.0800 - accuracy: 0.1981 - val_loss: 0.0814 - val_accuracy: 0.0747 - lr: 0.0010 - 10s/epoch - 55ms/step
Epoch 35/100
176/176 - 10s - loss: 0.0800 - accuracy: 0.1985 - val_loss: 0.0818 - val_accuracy: 0.0085 - lr: 0.0010 - 10s/epoch - 57ms/step
Epoch 36/100
176/176 - 11s - loss: 0.0800 - accuracy: 0.1985 - val_loss: 0.0819 - val_accuracy: 0.0651 - lr: 0.0010 - 11s/epoch - 61ms/step
Epoch 37/100
176/176 - 11s - loss: 0.0800 - accuracy: 0.1977 - val_loss: 0.0819 - val_accuracy: 0.0252 - lr: 0.0010 - 11s/epoch - 61ms/step
Epoch 38/100
176/176 - 11s - loss: 0.0800 - accuracy: 0.1973 - val_loss: 0.0817 - val_accuracy: 0.0651 - lr: 0.0010 - 11s/epoch - 63ms/step
Epoch 39/100
176/176 - 11s - loss: 0.0800 - accuracy: 0.1973 - val_loss: 0.0812 - val_accuracy: 0.8123 - lr: 0.0010 - 11s/epoch - 63ms/step
Epoch 40/100
176/176 - 11s - loss: 0.0800 - accuracy: 0.1965 - val_loss: 0.0817 - val_accuracy: 0.0252 - lr: 0.0010 - 11s/epoch - 62ms/step
Epoch 41/100
176/176 - 10s - loss: 0.0800 - accuracy: 0.1974 - val_loss: 0.0803 - val_accuracy: 0.0293 - lr: 0.0010 - 10s/epoch - 56ms/step
Epoch 42/100
176/176 - 10s - loss: 0.0800 - accuracy: 0.2002 - val_loss: 0.0813 - val_accuracy: 0.0260 - lr: 0.0010 - 10s/epoch - 55ms/step
Epoch 43/100
176/176 - 10s - loss: 0.0800 - accuracy: 0.1969 - val_loss: 0.0811 - val_accuracy: 0.0687 - lr: 0.0010 - 10s/epoch - 56ms/step
Epoch 44/100
176/176 - 10s - loss: 0.0800 - accuracy: 0.1989 - val_loss: 0.0813 - val_accuracy: 0.0745 - lr: 0.0010 - 10s/epoch - 55ms/step
Epoch 45/100
176/176 - 10s - loss: 0.0800 - accuracy: 0.1987 - val_loss: 0.0808 - val_accuracy: 0.0752 - lr: 0.0010 - 10s/epoch - 57ms/step
Epoch 46/100
176/176 - 12s - loss: 0.0800 - accuracy: 0.1986 - val_loss: 0.0811 - val_accuracy: 0.0089 - lr: 0.0010 - 12s/epoch - 68ms/step
Epoch 47/100
176/176 - 11s - loss: 0.0800 - accuracy: 0.1994 - val_loss: 0.0811 - val_accuracy: 0.0745 - lr: 0.0010 - 11s/epoch - 63ms/step
Epoch 48/100
176/176 - 10s - loss: 0.0800 - accuracy: 0.1999 - val_loss: 0.0798 - val_accuracy: 0.0779 - lr: 0.0010 - 10s/epoch - 57ms/step
Epoch 49/100
176/176 - 10s - loss: 0.0800 - accuracy: 0.1991 - val_loss: 0.0812 - val_accuracy: 0.0660 - lr: 0.0010 - 10s/epoch - 57ms/step
Epoch 50/100
176/176 - 10s - loss: 0.0800 - accuracy: 0.1974 - val_loss: 0.0816 - val_accuracy: 0.0258 - lr: 0.0010 - 10s/epoch - 58ms/step
Epoch 51/100
176/176 - 10s - loss: 0.0800 - accuracy: 0.1976 - val_loss: 0.0818 - val_accuracy: 0.0657 - lr: 0.0010 - 10s/epoch - 56ms/step
Epoch 52/100
176/176 - 10s - loss: 0.0800 - accuracy: 0.1991 - val_loss: 0.0809 - val_accuracy: 0.0687 - lr: 0.0010 - 10s/epoch - 57ms/step
Epoch 53/100
176/176 - 10s - loss: 0.0800 - accuracy: 0.2001 - val_loss: 0.0814 - val_accuracy: 0.0655 - lr: 0.0010 - 10s/epoch - 56ms/step
Epoch 54/100
176/176 - 10s - loss: 0.0800 - accuracy: 0.1966 - val_loss: 0.0802 - val_accuracy: 0.0150 - lr: 0.0010 - 10s/epoch - 56ms/step
Epoch 55/100
176/176 - 10s - loss: 0.0800 - accuracy: 0.2009 - val_loss: 0.0799 - val_accuracy: 0.0764 - lr: 0.0010 - 10s/epoch - 55ms/step
Epoch 56/100
176/176 - 10s - loss: 0.0800 - accuracy: 0.1979 - val_loss: 0.0800 - val_accuracy: 0.8181 - lr: 0.0010 - 10s/epoch - 56ms/step
Epoch 57/100
176/176 - 10s - loss: 0.0800 - accuracy: 0.1986 - val_loss: 0.0814 - val_accuracy: 0.0739 - lr: 0.0010 - 10s/epoch - 57ms/step
Epoch 58/100
176/176 - 10s - loss: 0.0800 - accuracy: 0.1992 - val_loss: 0.0814 - val_accuracy: 0.0740 - lr: 0.0010 - 10s/epoch - 57ms/step
Epoch 59/100
176/176 - 10s - loss: 0.0800 - accuracy: 0.1992 - val_loss: 0.0813 - val_accuracy: 0.0076 - lr: 0.0010 - 10s/epoch - 57ms/step
Epoch 60/100
176/176 - 10s - loss: 0.0800 - accuracy: 0.1990 - val_loss: 0.0816 - val_accuracy: 0.8124 - lr: 0.0010 - 10s/epoch - 56ms/step
Epoch 61/100
176/176 - 10s - loss: 0.0800 - accuracy: 0.1980 - val_loss: 0.0813 - val_accuracy: 0.0743 - lr: 0.0010 - 10s/epoch - 56ms/step
Epoch 62/100
176/176 - 11s - loss: 0.0800 - accuracy: 0.1995 - val_loss: 0.0817 - val_accuracy: 0.0653 - lr: 0.0010 - 11s/epoch - 60ms/step
Epoch 63/100
176/176 - 11s - loss: 0.0800 - accuracy: 0.1958 - val_loss: 0.0814 - val_accuracy: 0.0740 - lr: 0.0010 - 11s/epoch - 63ms/step
Epoch 64/100
176/176 - 11s - loss: 0.0800 - accuracy: 0.1986 - val_loss: 0.0817 - val_accuracy: 0.0254 - lr: 0.0010 - 11s/epoch - 65ms/step
Epoch 65/100
176/176 - 12s - loss: 0.0800 - accuracy: 0.1974 - val_loss: 0.0814 - val_accuracy: 0.0254 - lr: 0.0010 - 12s/epoch - 66ms/step
Epoch 66/100
176/176 - 10s - loss: 0.0800 - accuracy: 0.1994 - val_loss: 0.0792 - val_accuracy: 0.0231 - lr: 0.0010 - 10s/epoch - 58ms/step
Epoch 67/100
176/176 - 10s - loss: 0.0800 - accuracy: 0.1976 - val_loss: 0.0815 - val_accuracy: 0.0735 - lr: 0.0010 - 10s/epoch - 58ms/step
Epoch 68/100
176/176 - 11s - loss: 0.0800 - accuracy: 0.1967 - val_loss: 0.0794 - val_accuracy: 0.0891 - lr: 0.0010 - 11s/epoch - 65ms/step
Epoch 69/100
176/176 - 12s - loss: 0.0800 - accuracy: 0.2007 - val_loss: 0.0819 - val_accuracy: 0.0074 - lr: 0.0010 - 12s/epoch - 66ms/step
Epoch 70/100
176/176 - 11s - loss: 0.0800 - accuracy: 0.1989 - val_loss: 0.0821 - val_accuracy: 0.0072 - lr: 0.0010 - 11s/epoch - 64ms/step
Epoch 71/100
176/176 - 11s - loss: 0.0800 - accuracy: 0.1995 - val_loss: 0.0815 - val_accuracy: 0.0735 - lr: 0.0010 - 11s/epoch - 64ms/step
Epoch 72/100
176/176 - 11s - loss: 0.0800 - accuracy: 0.1951 - val_loss: 0.0820 - val_accuracy: 0.0249 - lr: 0.0010 - 11s/epoch - 64ms/step
Epoch 73/100
176/176 - 11s - loss: 0.0800 - accuracy: 0.1994 - val_loss: 0.0823 - val_accuracy: 0.0250 - lr: 0.0010 - 11s/epoch - 62ms/step
Epoch 74/100
176/176 - 11s - loss: 0.0800 - accuracy: 0.1981 - val_loss: 0.0815 - val_accuracy: 0.8128 - lr: 0.0010 - 11s/epoch - 63ms/step
Epoch 75/100
176/176 - 11s - loss: 0.0800 - accuracy: 0.1977 - val_loss: 0.0817 - val_accuracy: 0.0264 - lr: 0.0010 - 11s/epoch - 65ms/step
Epoch 76/100
176/176 - 11s - loss: 0.0800 - accuracy: 0.1984 - val_loss: 0.0815 - val_accuracy: 0.0745 - lr: 0.0010 - 11s/epoch - 65ms/step
Epoch 77/100
176/176 - 12s - loss: 0.0800 - accuracy: 0.1995 - val_loss: 0.0815 - val_accuracy: 0.8132 - lr: 0.0010 - 12s/epoch - 65ms/step
Epoch 78/100
176/176 - 11s - loss: 0.0800 - accuracy: 0.1966 - val_loss: 0.0792 - val_accuracy: 0.0880 - lr: 0.0010 - 11s/epoch - 64ms/step
Epoch 79/100
176/176 - 11s - loss: 0.0800 - accuracy: 0.1993 - val_loss: 0.0819 - val_accuracy: 0.0252 - lr: 0.0010 - 11s/epoch - 64ms/step
Epoch 80/100
176/176 - 12s - loss: 0.0800 - accuracy: 0.1979 - val_loss: 0.0821 - val_accuracy: 0.0735 - lr: 0.0010 - 12s/epoch - 67ms/step
Epoch 81/100
176/176 - 11s - loss: 0.0800 - accuracy: 0.1992 - val_loss: 0.0812 - val_accuracy: 0.8119 - lr: 0.0010 - 11s/epoch - 61ms/step
Epoch 82/100
176/176 - 10s - loss: 0.0800 - accuracy: 0.1988 - val_loss: 0.0822 - val_accuracy: 0.0649 - lr: 0.0010 - 10s/epoch - 57ms/step
Epoch 83/100
176/176 - 10s - loss: 0.0800 - accuracy: 0.1991 - val_loss: 0.0820 - val_accuracy: 0.8117 - lr: 0.0010 - 10s/epoch - 56ms/step
Epoch 84/100
176/176 - 10s - loss: 0.0800 - accuracy: 0.1990 - val_loss: 0.0820 - val_accuracy: 0.0649 - lr: 0.0010 - 10s/epoch - 57ms/step
Epoch 85/100
176/176 - 10s - loss: 0.0800 - accuracy: 0.1992 - val_loss: 0.0821 - val_accuracy: 0.0737 - lr: 0.0010 - 10s/epoch - 57ms/step
Epoch 86/100
176/176 - 10s - loss: 0.0800 - accuracy: 0.1980 - val_loss: 0.0820 - val_accuracy: 0.0737 - lr: 0.0010 - 10s/epoch - 55ms/step
Epoch 87/100
176/176 - 11s - loss: 0.0800 - accuracy: 0.1981 - val_loss: 0.0817 - val_accuracy: 0.0074 - lr: 0.0010 - 11s/epoch - 62ms/step
Epoch 88/100
176/176 - 11s - loss: 0.0800 - accuracy: 0.2004 - val_loss: 0.0821 - val_accuracy: 0.0735 - lr: 0.0010 - 11s/epoch - 64ms/step
Epoch 89/100
176/176 - 12s - loss: 0.0800 - accuracy: 0.2001 - val_loss: 0.0821 - val_accuracy: 0.0649 - lr: 0.0010 - 12s/epoch - 66ms/step
Epoch 90/100
176/176 - 12s - loss: 0.0800 - accuracy: 0.1978 - val_loss: 0.0822 - val_accuracy: 0.0735 - lr: 0.0010 - 12s/epoch - 66ms/step
Epoch 91/100
176/176 - 12s - loss: 0.0800 - accuracy: 0.1973 - val_loss: 0.0818 - val_accuracy: 0.8121 - lr: 0.0010 - 12s/epoch - 66ms/step
Epoch 92/100
176/176 - 11s - loss: 0.0800 - accuracy: 0.1995 - val_loss: 0.0819 - val_accuracy: 0.0074 - lr: 0.0010 - 11s/epoch - 64ms/step
Epoch 93/100
176/176 - 11s - loss: 0.0800 - accuracy: 0.1985 - val_loss: 0.0818 - val_accuracy: 0.0254 - lr: 0.0010 - 11s/epoch - 64ms/step
Epoch 94/100
176/176 - 10s - loss: 0.0800 - accuracy: 0.1998 - val_loss: 0.0820 - val_accuracy: 0.0076 - lr: 0.0010 - 10s/epoch - 58ms/step
Epoch 95/100
176/176 - 10s - loss: 0.0800 - accuracy: 0.2004 - val_loss: 0.0820 - val_accuracy: 0.0654 - lr: 0.0010 - 10s/epoch - 56ms/step
Epoch 96/100
176/176 - 10s - loss: 0.0800 - accuracy: 0.1997 - val_loss: 0.0819 - val_accuracy: 0.0740 - lr: 0.0010 - 10s/epoch - 58ms/step
Epoch 97/100
176/176 - 10s - loss: 0.0800 - accuracy: 0.1969 - val_loss: 0.0816 - val_accuracy: 0.0085 - lr: 0.0010 - 10s/epoch - 56ms/step
Epoch 98/100
176/176 - 10s - loss: 0.0800 - accuracy: 0.1986 - val_loss: 0.0819 - val_accuracy: 0.0661 - lr: 0.0010 - 10s/epoch - 58ms/step
Epoch 99/100
176/176 - 10s - loss: 0.0800 - accuracy: 0.1991 - val_loss: 0.0790 - val_accuracy: 0.0408 - lr: 0.0010 - 10s/epoch - 56ms/step
Epoch 100/100
176/176 - 11s - loss: 0.0800 - accuracy: 0.1982 - val_loss: 0.0790 - val_accuracy: 0.0808 - lr: 0.0010 - 11s/epoch - 65ms/step
Loss: kullback_leibler_divergence
Epoch number: 75
fitting with batch size: 20
Epoch 1/75
4378/4378 - 85s - loss: 1.6096 - accuracy: 0.1987 - val_loss: 1.6107 - val_accuracy: 0.0407 - lr: 0.0010 - 85s/epoch - 19ms/step
Epoch 2/75
4378/4378 - 74s - loss: 1.6096 - accuracy: 0.2029 - val_loss: 1.6070 - val_accuracy: 0.8262 - lr: 0.0010 - 74s/epoch - 17ms/step
Epoch 3/75
4378/4378 - 73s - loss: 1.6096 - accuracy: 0.1971 - val_loss: 1.8462 - val_accuracy: 0.0076 - lr: 0.0010 - 73s/epoch - 17ms/step
Epoch 4/75
4378/4378 - 76s - loss: 1.6096 - accuracy: 0.1975 - val_loss: 1.8540 - val_accuracy: 0.0747 - lr: 0.0010 - 76s/epoch - 17ms/step
Epoch 5/75
4378/4378 - 89s - loss: 1.6096 - accuracy: 0.1997 - val_loss: 1.6900 - val_accuracy: 0.8155 - lr: 0.0010 - 89s/epoch - 20ms/step
Epoch 6/75
4378/4378 - 78s - loss: 1.6096 - accuracy: 0.2000 - val_loss: 1.8225 - val_accuracy: 0.0651 - lr: 0.0010 - 78s/epoch - 18ms/step
Epoch 7/75
4378/4378 - 73s - loss: 1.6097 - accuracy: 0.1979 - val_loss: 1.8081 - val_accuracy: 0.0249 - lr: 0.0010 - 73s/epoch - 17ms/step
Epoch 8/75
