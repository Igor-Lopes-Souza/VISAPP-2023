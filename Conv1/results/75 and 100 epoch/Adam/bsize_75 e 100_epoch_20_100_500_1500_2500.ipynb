Loss: categorical_crossentropy
Epoch number: 75
fitting with batch size: 20
Epoch 1/75
4378/4378 - 78s - loss: 1.0171 - accuracy: 0.5991 - val_loss: 0.8009 - val_accuracy: 0.6802 - lr: 0.0010 - 78s/epoch - 18ms/step
Epoch 2/75
4378/4378 - 71s - loss: 0.8763 - accuracy: 0.6657 - val_loss: 0.8188 - val_accuracy: 0.6739 - lr: 0.0010 - 71s/epoch - 16ms/step
Epoch 3/75
4378/4378 - 70s - loss: 0.8474 - accuracy: 0.6784 - val_loss: 0.8285 - val_accuracy: 0.6908 - lr: 0.0010 - 70s/epoch - 16ms/step
Epoch 4/75
4378/4378 - 71s - loss: 0.8276 - accuracy: 0.6868 - val_loss: 0.8982 - val_accuracy: 0.6651 - lr: 0.0010 - 71s/epoch - 16ms/step
Epoch 5/75
4378/4378 - 71s - loss: 0.8154 - accuracy: 0.6912 - val_loss: 0.8610 - val_accuracy: 0.6688 - lr: 0.0010 - 71s/epoch - 16ms/step
Epoch 6/75
4378/4378 - 71s - loss: 0.8067 - accuracy: 0.6951 - val_loss: 0.8545 - val_accuracy: 0.6727 - lr: 0.0010 - 71s/epoch - 16ms/step
Epoch 7/75
4378/4378 - 70s - loss: 0.7987 - accuracy: 0.6973 - val_loss: 0.9490 - val_accuracy: 0.6412 - lr: 0.0010 - 70s/epoch - 16ms/step
Epoch 8/75
4378/4378 - 71s - loss: 0.7936 - accuracy: 0.7010 - val_loss: 0.7517 - val_accuracy: 0.7362 - lr: 0.0010 - 71s/epoch - 16ms/step
Epoch 9/75
4378/4378 - 71s - loss: 0.7834 - accuracy: 0.7045 - val_loss: 0.8541 - val_accuracy: 0.6682 - lr: 0.0010 - 71s/epoch - 16ms/step
Epoch 10/75
4378/4378 - 70s - loss: 0.7824 - accuracy: 0.7043 - val_loss: 0.8419 - val_accuracy: 0.6801 - lr: 0.0010 - 70s/epoch - 16ms/step
Epoch 11/75
4378/4378 - 71s - loss: 0.7761 - accuracy: 0.7080 - val_loss: 0.8216 - val_accuracy: 0.7236 - lr: 0.0010 - 71s/epoch - 16ms/step
Epoch 12/75
4378/4378 - 71s - loss: 0.7733 - accuracy: 0.7075 - val_loss: 0.8409 - val_accuracy: 0.6919 - lr: 0.0010 - 71s/epoch - 16ms/step
Epoch 13/75
4378/4378 - 71s - loss: 0.7684 - accuracy: 0.7094 - val_loss: 0.8157 - val_accuracy: 0.7165 - lr: 0.0010 - 71s/epoch - 16ms/step
Epoch 14/75
4378/4378 - 71s - loss: 0.7672 - accuracy: 0.7111 - val_loss: 0.7355 - val_accuracy: 0.7539 - lr: 0.0010 - 71s/epoch - 16ms/step
Epoch 15/75
4378/4378 - 71s - loss: 0.7619 - accuracy: 0.7140 - val_loss: 0.8206 - val_accuracy: 0.7056 - lr: 0.0010 - 71s/epoch - 16ms/step
Epoch 16/75
4378/4378 - 70s - loss: 0.7607 - accuracy: 0.7128 - val_loss: 0.7330 - val_accuracy: 0.7336 - lr: 0.0010 - 70s/epoch - 16ms/step
Epoch 17/75
4378/4378 - 70s - loss: 0.7563 - accuracy: 0.7127 - val_loss: 0.7864 - val_accuracy: 0.7151 - lr: 0.0010 - 70s/epoch - 16ms/step
Epoch 18/75
4378/4378 - 70s - loss: 0.7553 - accuracy: 0.7146 - val_loss: 0.8852 - val_accuracy: 0.6578 - lr: 0.0010 - 70s/epoch - 16ms/step
Epoch 19/75
4378/4378 - 71s - loss: 0.7512 - accuracy: 0.7169 - val_loss: 0.9401 - val_accuracy: 0.6407 - lr: 0.0010 - 71s/epoch - 16ms/step
Epoch 20/75
4378/4378 - 71s - loss: 0.7499 - accuracy: 0.7160 - val_loss: 0.7422 - val_accuracy: 0.7343 - lr: 0.0010 - 71s/epoch - 16ms/step
Epoch 21/75
4378/4378 - 70s - loss: 0.7473 - accuracy: 0.7193 - val_loss: 0.8839 - val_accuracy: 0.6800 - lr: 0.0010 - 70s/epoch - 16ms/step
Epoch 22/75
4378/4378 - 70s - loss: 0.7484 - accuracy: 0.7192 - val_loss: 0.8928 - val_accuracy: 0.6768 - lr: 0.0010 - 70s/epoch - 16ms/step
Epoch 23/75
4378/4378 - 71s - loss: 0.7435 - accuracy: 0.7198 - val_loss: 0.8067 - val_accuracy: 0.7098 - lr: 0.0010 - 71s/epoch - 16ms/step
Epoch 24/75
4378/4378 - 71s - loss: 0.7449 - accuracy: 0.7197 - val_loss: 0.7508 - val_accuracy: 0.7253 - lr: 0.0010 - 71s/epoch - 16ms/step
Epoch 25/75
4378/4378 - 70s - loss: 0.7418 - accuracy: 0.7197 - val_loss: 0.8217 - val_accuracy: 0.7172 - lr: 0.0010 - 70s/epoch - 16ms/step
Epoch 26/75
4378/4378 - 71s - loss: 0.7386 - accuracy: 0.7206 - val_loss: 0.8609 - val_accuracy: 0.6857 - lr: 0.0010 - 71s/epoch - 16ms/step
Epoch 27/75
4378/4378 - 71s - loss: 0.7376 - accuracy: 0.7211 - val_loss: 0.7926 - val_accuracy: 0.7342 - lr: 0.0010 - 71s/epoch - 16ms/step
Epoch 28/75
4378/4378 - 71s - loss: 0.7346 - accuracy: 0.7218 - val_loss: 0.8083 - val_accuracy: 0.7190 - lr: 0.0010 - 71s/epoch - 16ms/step
Epoch 29/75
4378/4378 - 70s - loss: 0.7353 - accuracy: 0.7227 - val_loss: 0.7008 - val_accuracy: 0.7571 - lr: 0.0010 - 70s/epoch - 16ms/step
Epoch 30/75
4378/4378 - 71s - loss: 0.7310 - accuracy: 0.7241 - val_loss: 0.7974 - val_accuracy: 0.7225 - lr: 0.0010 - 71s/epoch - 16ms/step
Epoch 31/75
4378/4378 - 71s - loss: 0.7315 - accuracy: 0.7241 - val_loss: 0.8320 - val_accuracy: 0.6696 - lr: 0.0010 - 71s/epoch - 16ms/step
Epoch 32/75
4378/4378 - 70s - loss: 0.7289 - accuracy: 0.7239 - val_loss: 0.8074 - val_accuracy: 0.7167 - lr: 0.0010 - 70s/epoch - 16ms/step
Epoch 33/75
4378/4378 - 71s - loss: 0.7252 - accuracy: 0.7270 - val_loss: 0.8094 - val_accuracy: 0.7013 - lr: 0.0010 - 71s/epoch - 16ms/step
Epoch 34/75
4378/4378 - 71s - loss: 0.7272 - accuracy: 0.7273 - val_loss: 0.8295 - val_accuracy: 0.7037 - lr: 0.0010 - 71s/epoch - 16ms/step
Epoch 35/75
4378/4378 - 70s - loss: 0.7245 - accuracy: 0.7266 - val_loss: 0.8032 - val_accuracy: 0.6995 - lr: 0.0010 - 70s/epoch - 16ms/step
Epoch 36/75
4378/4378 - 71s - loss: 0.7217 - accuracy: 0.7281 - val_loss: 0.8458 - val_accuracy: 0.6886 - lr: 0.0010 - 71s/epoch - 16ms/step
Epoch 37/75
4378/4378 - 71s - loss: 0.7221 - accuracy: 0.7276 - val_loss: 0.8056 - val_accuracy: 0.7024 - lr: 0.0010 - 71s/epoch - 16ms/step
Epoch 38/75
4378/4378 - 70s - loss: 0.7203 - accuracy: 0.7286 - val_loss: 0.8172 - val_accuracy: 0.7248 - lr: 0.0010 - 70s/epoch - 16ms/step
Epoch 39/75
4378/4378 - 70s - loss: 0.7190 - accuracy: 0.7296 - val_loss: 0.8956 - val_accuracy: 0.6804 - lr: 0.0010 - 70s/epoch - 16ms/step
Epoch 40/75
4378/4378 - 71s - loss: 0.7191 - accuracy: 0.7297 - val_loss: 0.8185 - val_accuracy: 0.7031 - lr: 0.0010 - 71s/epoch - 16ms/step
Epoch 41/75
4378/4378 - 70s - loss: 0.7175 - accuracy: 0.7290 - val_loss: 0.7148 - val_accuracy: 0.7510 - lr: 0.0010 - 70s/epoch - 16ms/step
Epoch 42/75
4378/4378 - 71s - loss: 0.7164 - accuracy: 0.7299 - val_loss: 0.7741 - val_accuracy: 0.7402 - lr: 0.0010 - 71s/epoch - 16ms/step
Epoch 43/75
4378/4378 - 71s - loss: 0.7150 - accuracy: 0.7299 - val_loss: 0.8379 - val_accuracy: 0.7009 - lr: 0.0010 - 71s/epoch - 16ms/step
Epoch 44/75
4378/4378 - 70s - loss: 0.7122 - accuracy: 0.7332 - val_loss: 0.8418 - val_accuracy: 0.7007 - lr: 0.0010 - 70s/epoch - 16ms/step
Epoch 45/75
4378/4378 - 70s - loss: 0.7121 - accuracy: 0.7312 - val_loss: 0.7682 - val_accuracy: 0.7226 - lr: 0.0010 - 70s/epoch - 16ms/step
Epoch 46/75
4378/4378 - 71s - loss: 0.7112 - accuracy: 0.7310 - val_loss: 0.7951 - val_accuracy: 0.6913 - lr: 0.0010 - 71s/epoch - 16ms/step
Epoch 47/75
4378/4378 - 71s - loss: 0.7118 - accuracy: 0.7314 - val_loss: 0.8100 - val_accuracy: 0.7130 - lr: 0.0010 - 71s/epoch - 16ms/step
Epoch 48/75
4378/4378 - 70s - loss: 0.7100 - accuracy: 0.7314 - val_loss: 0.8390 - val_accuracy: 0.6718 - lr: 0.0010 - 70s/epoch - 16ms/step
Epoch 49/75
4378/4378 - 71s - loss: 0.7088 - accuracy: 0.7331 - val_loss: 0.7335 - val_accuracy: 0.7146 - lr: 0.0010 - 71s/epoch - 16ms/step
Epoch 50/75
4378/4378 - 70s - loss: 0.7082 - accuracy: 0.7323 - val_loss: 0.7222 - val_accuracy: 0.7527 - lr: 0.0010 - 70s/epoch - 16ms/step
Epoch 51/75
4378/4378 - 71s - loss: 0.7082 - accuracy: 0.7317 - val_loss: 0.7773 - val_accuracy: 0.7323 - lr: 0.0010 - 71s/epoch - 16ms/step
Epoch 52/75
4378/4378 - 70s - loss: 0.7060 - accuracy: 0.7335 - val_loss: 0.8007 - val_accuracy: 0.7371 - lr: 0.0010 - 70s/epoch - 16ms/step
Epoch 53/75
4378/4378 - 71s - loss: 0.7057 - accuracy: 0.7338 - val_loss: 0.7736 - val_accuracy: 0.7190 - lr: 0.0010 - 71s/epoch - 16ms/step
Epoch 54/75
4378/4378 - 71s - loss: 0.7026 - accuracy: 0.7344 - val_loss: 0.6296 - val_accuracy: 0.7856 - lr: 0.0010 - 71s/epoch - 16ms/step
Epoch 55/75
4378/4378 - 71s - loss: 0.7013 - accuracy: 0.7366 - val_loss: 0.7644 - val_accuracy: 0.7201 - lr: 0.0010 - 71s/epoch - 16ms/step
Epoch 56/75
4378/4378 - 70s - loss: 0.7026 - accuracy: 0.7353 - val_loss: 0.8428 - val_accuracy: 0.6876 - lr: 0.0010 - 70s/epoch - 16ms/step
Epoch 57/75
4378/4378 - 70s - loss: 0.6999 - accuracy: 0.7375 - val_loss: 0.6698 - val_accuracy: 0.7500 - lr: 0.0010 - 70s/epoch - 16ms/step
Epoch 58/75
4378/4378 - 73s - loss: 0.7001 - accuracy: 0.7359 - val_loss: 0.8300 - val_accuracy: 0.6946 - lr: 0.0010 - 73s/epoch - 17ms/step
Epoch 59/75
4378/4378 - 71s - loss: 0.7005 - accuracy: 0.7354 - val_loss: 0.8940 - val_accuracy: 0.6812 - lr: 0.0010 - 71s/epoch - 16ms/step
Epoch 60/75
4378/4378 - 71s - loss: 0.6959 - accuracy: 0.7372 - val_loss: 0.8557 - val_accuracy: 0.6604 - lr: 0.0010 - 71s/epoch - 16ms/step
Epoch 61/75
4378/4378 - 70s - loss: 0.6943 - accuracy: 0.7375 - val_loss: 0.7471 - val_accuracy: 0.7415 - lr: 0.0010 - 70s/epoch - 16ms/step
Epoch 62/75
4378/4378 - 71s - loss: 0.6957 - accuracy: 0.7386 - val_loss: 0.8120 - val_accuracy: 0.7125 - lr: 0.0010 - 71s/epoch - 16ms/step
Epoch 63/75
4378/4378 - 71s - loss: 0.6958 - accuracy: 0.7368 - val_loss: 0.7318 - val_accuracy: 0.7400 - lr: 0.0010 - 71s/epoch - 16ms/step
Epoch 64/75
4378/4378 - 71s - loss: 0.6946 - accuracy: 0.7387 - val_loss: 0.7744 - val_accuracy: 0.7426 - lr: 0.0010 - 71s/epoch - 16ms/step
Epoch 65/75
4378/4378 - 71s - loss: 0.6968 - accuracy: 0.7378 - val_loss: 0.8434 - val_accuracy: 0.6962 - lr: 0.0010 - 71s/epoch - 16ms/step
Epoch 66/75
4378/4378 - 71s - loss: 0.6940 - accuracy: 0.7379 - val_loss: 0.8594 - val_accuracy: 0.6661 - lr: 0.0010 - 71s/epoch - 16ms/step
Epoch 67/75
4378/4378 - 71s - loss: 0.6919 - accuracy: 0.7385 - val_loss: 0.7984 - val_accuracy: 0.7128 - lr: 0.0010 - 71s/epoch - 16ms/step
Epoch 68/75
4378/4378 - 71s - loss: 0.6925 - accuracy: 0.7379 - val_loss: 0.7931 - val_accuracy: 0.7271 - lr: 0.0010 - 71s/epoch - 16ms/step
Epoch 69/75
4378/4378 - 71s - loss: 0.6895 - accuracy: 0.7407 - val_loss: 0.7367 - val_accuracy: 0.7472 - lr: 0.0010 - 71s/epoch - 16ms/step
Epoch 70/75
4378/4378 - 71s - loss: 0.6870 - accuracy: 0.7405 - val_loss: 0.7870 - val_accuracy: 0.7125 - lr: 0.0010 - 71s/epoch - 16ms/step
Epoch 71/75
4378/4378 - 70s - loss: 0.6885 - accuracy: 0.7396 - val_loss: 0.7319 - val_accuracy: 0.7445 - lr: 0.0010 - 70s/epoch - 16ms/step
Epoch 72/75
4378/4378 - 71s - loss: 0.6878 - accuracy: 0.7419 - val_loss: 0.7609 - val_accuracy: 0.7575 - lr: 0.0010 - 71s/epoch - 16ms/step
Epoch 73/75
4378/4378 - 70s - loss: 0.6883 - accuracy: 0.7401 - val_loss: 0.7852 - val_accuracy: 0.7043 - lr: 0.0010 - 70s/epoch - 16ms/step
Epoch 74/75
4378/4378 - 71s - loss: 0.6864 - accuracy: 0.7408 - val_loss: 0.7407 - val_accuracy: 0.7197 - lr: 0.0010 - 71s/epoch - 16ms/step
Epoch 75/75
4378/4378 - 72s - loss: 0.6858 - accuracy: 0.7419 - val_loss: 0.7513 - val_accuracy: 0.7043 - lr: 0.0010 - 72s/epoch - 16ms/step
fitting with batch size: 100
Epoch 1/75
876/876 - 21s - loss: 0.6381 - accuracy: 0.7589 - val_loss: 0.7314 - val_accuracy: 0.7299 - lr: 0.0010 - 21s/epoch - 24ms/step
Epoch 2/75
876/876 - 18s - loss: 0.6239 - accuracy: 0.7645 - val_loss: 0.7242 - val_accuracy: 0.7451 - lr: 0.0010 - 18s/epoch - 20ms/step
Epoch 3/75
876/876 - 18s - loss: 0.6237 - accuracy: 0.7647 - val_loss: 0.7448 - val_accuracy: 0.7386 - lr: 0.0010 - 18s/epoch - 20ms/step
Epoch 4/75
876/876 - 18s - loss: 0.6221 - accuracy: 0.7655 - val_loss: 0.7564 - val_accuracy: 0.7242 - lr: 0.0010 - 18s/epoch - 20ms/step
Epoch 5/75
876/876 - 18s - loss: 0.6184 - accuracy: 0.7669 - val_loss: 0.7418 - val_accuracy: 0.7182 - lr: 0.0010 - 18s/epoch - 20ms/step
Epoch 6/75
876/876 - 18s - loss: 0.6154 - accuracy: 0.7678 - val_loss: 0.7090 - val_accuracy: 0.7272 - lr: 0.0010 - 18s/epoch - 20ms/step
Epoch 7/75
876/876 - 18s - loss: 0.6135 - accuracy: 0.7670 - val_loss: 0.7236 - val_accuracy: 0.7308 - lr: 0.0010 - 18s/epoch - 20ms/step
Epoch 8/75
876/876 - 18s - loss: 0.6107 - accuracy: 0.7696 - val_loss: 0.7216 - val_accuracy: 0.7289 - lr: 0.0010 - 18s/epoch - 20ms/step
Epoch 9/75
876/876 - 18s - loss: 0.6082 - accuracy: 0.7717 - val_loss: 0.7414 - val_accuracy: 0.7215 - lr: 0.0010 - 18s/epoch - 20ms/step
Epoch 10/75
876/876 - 18s - loss: 0.6066 - accuracy: 0.7711 - val_loss: 0.7483 - val_accuracy: 0.7209 - lr: 0.0010 - 18s/epoch - 20ms/step
Epoch 11/75
876/876 - 18s - loss: 0.6041 - accuracy: 0.7719 - val_loss: 0.7673 - val_accuracy: 0.7004 - lr: 0.0010 - 18s/epoch - 20ms/step
Epoch 12/75
876/876 - 18s - loss: 0.6007 - accuracy: 0.7743 - val_loss: 0.7807 - val_accuracy: 0.6924 - lr: 0.0010 - 18s/epoch - 20ms/step
Epoch 13/75
876/876 - 18s - loss: 0.5993 - accuracy: 0.7745 - val_loss: 0.7788 - val_accuracy: 0.7091 - lr: 0.0010 - 18s/epoch - 20ms/step
Epoch 14/75
876/876 - 18s - loss: 0.5989 - accuracy: 0.7740 - val_loss: 0.7850 - val_accuracy: 0.7089 - lr: 0.0010 - 18s/epoch - 20ms/step
Epoch 15/75
876/876 - 18s - loss: 0.5945 - accuracy: 0.7775 - val_loss: 0.7717 - val_accuracy: 0.7040 - lr: 0.0010 - 18s/epoch - 20ms/step
Epoch 16/75
876/876 - 18s - loss: 0.5947 - accuracy: 0.7776 - val_loss: 0.7508 - val_accuracy: 0.7296 - lr: 0.0010 - 18s/epoch - 20ms/step
Epoch 17/75
876/876 - 18s - loss: 0.5933 - accuracy: 0.7776 - val_loss: 0.7912 - val_accuracy: 0.6965 - lr: 0.0010 - 18s/epoch - 20ms/step
Epoch 18/75
876/876 - 18s - loss: 0.5909 - accuracy: 0.7777 - val_loss: 0.7427 - val_accuracy: 0.7283 - lr: 0.0010 - 18s/epoch - 20ms/step
Epoch 19/75
876/876 - 18s - loss: 0.5896 - accuracy: 0.7785 - val_loss: 0.7827 - val_accuracy: 0.6983 - lr: 0.0010 - 18s/epoch - 20ms/step
Epoch 20/75
876/876 - 18s - loss: 0.5881 - accuracy: 0.7784 - val_loss: 0.7952 - val_accuracy: 0.6920 - lr: 0.0010 - 18s/epoch - 20ms/step
Epoch 21/75
876/876 - 18s - loss: 0.5865 - accuracy: 0.7790 - val_loss: 0.7659 - val_accuracy: 0.6975 - lr: 0.0010 - 18s/epoch - 20ms/step
Epoch 22/75
876/876 - 18s - loss: 0.5828 - accuracy: 0.7811 - val_loss: 0.7862 - val_accuracy: 0.6986 - lr: 0.0010 - 18s/epoch - 20ms/step
Epoch 23/75
876/876 - 18s - loss: 0.5828 - accuracy: 0.7805 - val_loss: 0.7141 - val_accuracy: 0.7378 - lr: 0.0010 - 18s/epoch - 20ms/step
Epoch 24/75
876/876 - 18s - loss: 0.5808 - accuracy: 0.7820 - val_loss: 0.7241 - val_accuracy: 0.7127 - lr: 0.0010 - 18s/epoch - 20ms/step
Epoch 25/75
876/876 - 18s - loss: 0.5817 - accuracy: 0.7808 - val_loss: 0.7530 - val_accuracy: 0.7146 - lr: 0.0010 - 18s/epoch - 20ms/step
Epoch 26/75
876/876 - 18s - loss: 0.5789 - accuracy: 0.7827 - val_loss: 0.7840 - val_accuracy: 0.6924 - lr: 0.0010 - 18s/epoch - 20ms/step
Epoch 27/75
876/876 - 18s - loss: 0.5770 - accuracy: 0.7833 - val_loss: 0.7879 - val_accuracy: 0.7014 - lr: 0.0010 - 18s/epoch - 20ms/step
Epoch 28/75
876/876 - 18s - loss: 0.5777 - accuracy: 0.7836 - val_loss: 0.7647 - val_accuracy: 0.7076 - lr: 0.0010 - 18s/epoch - 20ms/step
Epoch 29/75
876/876 - 18s - loss: 0.5732 - accuracy: 0.7852 - val_loss: 0.7317 - val_accuracy: 0.7197 - lr: 0.0010 - 18s/epoch - 20ms/step
Epoch 30/75
876/876 - 18s - loss: 0.5756 - accuracy: 0.7840 - val_loss: 0.7801 - val_accuracy: 0.6843 - lr: 0.0010 - 18s/epoch - 20ms/step
Epoch 31/75
876/876 - 18s - loss: 0.5730 - accuracy: 0.7862 - val_loss: 0.7420 - val_accuracy: 0.7160 - lr: 0.0010 - 18s/epoch - 20ms/step
Epoch 32/75
876/876 - 18s - loss: 0.5719 - accuracy: 0.7850 - val_loss: 0.7546 - val_accuracy: 0.7222 - lr: 0.0010 - 18s/epoch - 20ms/step
Epoch 33/75
876/876 - 18s - loss: 0.5700 - accuracy: 0.7855 - val_loss: 0.7429 - val_accuracy: 0.7188 - lr: 0.0010 - 18s/epoch - 20ms/step
Epoch 34/75
876/876 - 18s - loss: 0.5702 - accuracy: 0.7850 - val_loss: 0.7946 - val_accuracy: 0.7087 - lr: 0.0010 - 18s/epoch - 20ms/step
Epoch 35/75
876/876 - 18s - loss: 0.5691 - accuracy: 0.7861 - val_loss: 0.7655 - val_accuracy: 0.7157 - lr: 0.0010 - 18s/epoch - 20ms/step
Epoch 36/75
876/876 - 18s - loss: 0.5681 - accuracy: 0.7868 - val_loss: 0.7726 - val_accuracy: 0.7050 - lr: 0.0010 - 18s/epoch - 20ms/step
Epoch 37/75
876/876 - 18s - loss: 0.5674 - accuracy: 0.7864 - val_loss: 0.7326 - val_accuracy: 0.7129 - lr: 0.0010 - 18s/epoch - 20ms/step
Epoch 38/75
876/876 - 18s - loss: 0.5671 - accuracy: 0.7867 - val_loss: 0.7404 - val_accuracy: 0.7109 - lr: 0.0010 - 18s/epoch - 20ms/step
Epoch 39/75
876/876 - 18s - loss: 0.5651 - accuracy: 0.7874 - val_loss: 0.7395 - val_accuracy: 0.7154 - lr: 0.0010 - 18s/epoch - 20ms/step
Epoch 40/75
876/876 - 18s - loss: 0.5654 - accuracy: 0.7876 - val_loss: 0.7303 - val_accuracy: 0.7303 - lr: 0.0010 - 18s/epoch - 20ms/step
Epoch 41/75
876/876 - 18s - loss: 0.5635 - accuracy: 0.7893 - val_loss: 0.7651 - val_accuracy: 0.7062 - lr: 0.0010 - 18s/epoch - 20ms/step
Epoch 42/75
876/876 - 18s - loss: 0.5637 - accuracy: 0.7879 - val_loss: 0.7395 - val_accuracy: 0.7257 - lr: 0.0010 - 18s/epoch - 20ms/step
Epoch 43/75
876/876 - 18s - loss: 0.5594 - accuracy: 0.7901 - val_loss: 0.7586 - val_accuracy: 0.7203 - lr: 0.0010 - 18s/epoch - 20ms/step
Epoch 44/75
876/876 - 18s - loss: 0.5615 - accuracy: 0.7895 - val_loss: 0.8260 - val_accuracy: 0.6795 - lr: 0.0010 - 18s/epoch - 20ms/step
Epoch 45/75
876/876 - 18s - loss: 0.5604 - accuracy: 0.7905 - val_loss: 0.7807 - val_accuracy: 0.6922 - lr: 0.0010 - 18s/epoch - 20ms/step
Epoch 46/75
876/876 - 18s - loss: 0.5588 - accuracy: 0.7908 - val_loss: 0.7675 - val_accuracy: 0.7103 - lr: 0.0010 - 18s/epoch - 20ms/step
Epoch 47/75
876/876 - 18s - loss: 0.5586 - accuracy: 0.7893 - val_loss: 0.7678 - val_accuracy: 0.7016 - lr: 0.0010 - 18s/epoch - 20ms/step
Epoch 48/75
876/876 - 18s - loss: 0.5561 - accuracy: 0.7904 - val_loss: 0.7306 - val_accuracy: 0.7395 - lr: 0.0010 - 18s/epoch - 20ms/step
Epoch 49/75
876/876 - 18s - loss: 0.5560 - accuracy: 0.7911 - val_loss: 0.8372 - val_accuracy: 0.6805 - lr: 0.0010 - 18s/epoch - 20ms/step
Epoch 50/75
876/876 - 18s - loss: 0.5578 - accuracy: 0.7912 - val_loss: 0.7425 - val_accuracy: 0.7258 - lr: 0.0010 - 18s/epoch - 20ms/step
Epoch 51/75
876/876 - 18s - loss: 0.5570 - accuracy: 0.7915 - val_loss: 0.7287 - val_accuracy: 0.7276 - lr: 0.0010 - 18s/epoch - 20ms/step
Epoch 52/75
876/876 - 18s - loss: 0.5514 - accuracy: 0.7934 - val_loss: 0.6878 - val_accuracy: 0.7596 - lr: 0.0010 - 18s/epoch - 20ms/step
Epoch 53/75
876/876 - 18s - loss: 0.5566 - accuracy: 0.7923 - val_loss: 0.7975 - val_accuracy: 0.6918 - lr: 0.0010 - 18s/epoch - 20ms/step
Epoch 54/75
876/876 - 18s - loss: 0.5523 - accuracy: 0.7937 - val_loss: 0.7727 - val_accuracy: 0.7145 - lr: 0.0010 - 18s/epoch - 20ms/step
Epoch 55/75
876/876 - 18s - loss: 0.5509 - accuracy: 0.7938 - val_loss: 0.8132 - val_accuracy: 0.6900 - lr: 0.0010 - 18s/epoch - 20ms/step
Epoch 56/75
876/876 - 18s - loss: 0.5513 - accuracy: 0.7934 - val_loss: 0.7447 - val_accuracy: 0.7160 - lr: 0.0010 - 18s/epoch - 20ms/step
Epoch 57/75
876/876 - 18s - loss: 0.5537 - accuracy: 0.7923 - val_loss: 0.8286 - val_accuracy: 0.6829 - lr: 0.0010 - 18s/epoch - 20ms/step
Epoch 58/75
876/876 - 18s - loss: 0.5514 - accuracy: 0.7934 - val_loss: 0.7404 - val_accuracy: 0.7162 - lr: 0.0010 - 18s/epoch - 20ms/step
Epoch 59/75
876/876 - 18s - loss: 0.5484 - accuracy: 0.7925 - val_loss: 0.7406 - val_accuracy: 0.7186 - lr: 0.0010 - 18s/epoch - 20ms/step
Epoch 60/75
876/876 - 18s - loss: 0.5487 - accuracy: 0.7952 - val_loss: 0.7406 - val_accuracy: 0.7142 - lr: 0.0010 - 18s/epoch - 20ms/step
Epoch 61/75
876/876 - 18s - loss: 0.5490 - accuracy: 0.7939 - val_loss: 0.7733 - val_accuracy: 0.7066 - lr: 0.0010 - 18s/epoch - 20ms/step
Epoch 62/75
876/876 - 18s - loss: 0.5474 - accuracy: 0.7959 - val_loss: 0.7619 - val_accuracy: 0.7137 - lr: 0.0010 - 18s/epoch - 20ms/step
Epoch 63/75
876/876 - 18s - loss: 0.5484 - accuracy: 0.7946 - val_loss: 0.7572 - val_accuracy: 0.7180 - lr: 0.0010 - 18s/epoch - 20ms/step
Epoch 64/75
876/876 - 18s - loss: 0.5477 - accuracy: 0.7952 - val_loss: 0.7018 - val_accuracy: 0.7406 - lr: 0.0010 - 18s/epoch - 20ms/step
Epoch 65/75
876/876 - 18s - loss: 0.5459 - accuracy: 0.7940 - val_loss: 0.7620 - val_accuracy: 0.7204 - lr: 0.0010 - 18s/epoch - 20ms/step
Epoch 66/75
876/876 - 18s - loss: 0.5462 - accuracy: 0.7958 - val_loss: 0.7176 - val_accuracy: 0.7420 - lr: 0.0010 - 18s/epoch - 20ms/step
Epoch 67/75
876/876 - 18s - loss: 0.5436 - accuracy: 0.7962 - val_loss: 0.7909 - val_accuracy: 0.6896 - lr: 0.0010 - 18s/epoch - 20ms/step
Epoch 68/75
876/876 - 18s - loss: 0.5432 - accuracy: 0.7960 - val_loss: 0.7712 - val_accuracy: 0.7068 - lr: 0.0010 - 18s/epoch - 20ms/step
Epoch 69/75
876/876 - 18s - loss: 0.5440 - accuracy: 0.7963 - val_loss: 0.7858 - val_accuracy: 0.7142 - lr: 0.0010 - 18s/epoch - 20ms/step
Epoch 70/75
876/876 - 18s - loss: 0.5416 - accuracy: 0.7975 - val_loss: 0.7791 - val_accuracy: 0.7151 - lr: 0.0010 - 18s/epoch - 20ms/step
Epoch 71/75
876/876 - 18s - loss: 0.5423 - accuracy: 0.7953 - val_loss: 0.7297 - val_accuracy: 0.7090 - lr: 0.0010 - 18s/epoch - 20ms/step
Epoch 72/75
876/876 - 18s - loss: 0.5408 - accuracy: 0.7966 - val_loss: 0.7530 - val_accuracy: 0.7170 - lr: 0.0010 - 18s/epoch - 20ms/step
Epoch 73/75
876/876 - 18s - loss: 0.5422 - accuracy: 0.7973 - val_loss: 0.7159 - val_accuracy: 0.7270 - lr: 0.0010 - 18s/epoch - 20ms/step
Epoch 74/75
876/876 - 18s - loss: 0.5401 - accuracy: 0.7974 - val_loss: 0.7372 - val_accuracy: 0.7182 - lr: 0.0010 - 18s/epoch - 20ms/step
Epoch 75/75
876/876 - 18s - loss: 0.5397 - accuracy: 0.7978 - val_loss: 0.7573 - val_accuracy: 0.7123 - lr: 0.0010 - 18s/epoch - 20ms/step
fitting with batch size: 500
Epoch 1/75
176/176 - 12s - loss: 0.5023 - accuracy: 0.8126 - val_loss: 0.7540 - val_accuracy: 0.7119 - lr: 0.0010 - 12s/epoch - 68ms/step
Epoch 2/75
176/176 - 9s - loss: 0.4849 - accuracy: 0.8210 - val_loss: 0.7570 - val_accuracy: 0.7043 - lr: 0.0010 - 9s/epoch - 50ms/step
Epoch 3/75
176/176 - 9s - loss: 0.4803 - accuracy: 0.8219 - val_loss: 0.7525 - val_accuracy: 0.7103 - lr: 0.0010 - 9s/epoch - 49ms/step
Epoch 4/75
176/176 - 9s - loss: 0.4759 - accuracy: 0.8245 - val_loss: 0.7603 - val_accuracy: 0.7116 - lr: 0.0010 - 9s/epoch - 50ms/step
Epoch 5/75
176/176 - 9s - loss: 0.4754 - accuracy: 0.8239 - val_loss: 0.7654 - val_accuracy: 0.7081 - lr: 0.0010 - 9s/epoch - 50ms/step
Epoch 6/75
176/176 - 9s - loss: 0.4751 - accuracy: 0.8241 - val_loss: 0.7634 - val_accuracy: 0.7002 - lr: 0.0010 - 9s/epoch - 50ms/step
Epoch 7/75
176/176 - 9s - loss: 0.4727 - accuracy: 0.8254 - val_loss: 0.7595 - val_accuracy: 0.7009 - lr: 0.0010 - 9s/epoch - 50ms/step
Epoch 8/75
176/176 - 9s - loss: 0.4735 - accuracy: 0.8249 - val_loss: 0.7891 - val_accuracy: 0.6977 - lr: 0.0010 - 9s/epoch - 50ms/step
Epoch 9/75
176/176 - 9s - loss: 0.4734 - accuracy: 0.8250 - val_loss: 0.8132 - val_accuracy: 0.6818 - lr: 0.0010 - 9s/epoch - 50ms/step
Epoch 10/75
176/176 - 9s - loss: 0.4736 - accuracy: 0.8252 - val_loss: 0.7563 - val_accuracy: 0.7015 - lr: 0.0010 - 9s/epoch - 50ms/step
Epoch 11/75
176/176 - 9s - loss: 0.4724 - accuracy: 0.8250 - val_loss: 0.7619 - val_accuracy: 0.6949 - lr: 0.0010 - 9s/epoch - 50ms/step
Epoch 12/75
176/176 - 9s - loss: 0.4703 - accuracy: 0.8265 - val_loss: 0.7690 - val_accuracy: 0.7000 - lr: 0.0010 - 9s/epoch - 49ms/step
Epoch 13/75
176/176 - 9s - loss: 0.4713 - accuracy: 0.8257 - val_loss: 0.7725 - val_accuracy: 0.6957 - lr: 0.0010 - 9s/epoch - 50ms/step
Epoch 14/75
176/176 - 9s - loss: 0.4692 - accuracy: 0.8257 - val_loss: 0.7613 - val_accuracy: 0.7053 - lr: 0.0010 - 9s/epoch - 49ms/step
Epoch 15/75
176/176 - 9s - loss: 0.4736 - accuracy: 0.8249 - val_loss: 0.7832 - val_accuracy: 0.6945 - lr: 0.0010 - 9s/epoch - 50ms/step
Epoch 16/75
176/176 - 9s - loss: 0.4716 - accuracy: 0.8260 - val_loss: 0.7087 - val_accuracy: 0.7242 - lr: 0.0010 - 9s/epoch - 49ms/step
Epoch 17/75
176/176 - 9s - loss: 0.4762 - accuracy: 0.8236 - val_loss: 0.7640 - val_accuracy: 0.7035 - lr: 0.0010 - 9s/epoch - 49ms/step
Epoch 18/75
176/176 - 9s - loss: 0.4726 - accuracy: 0.8257 - val_loss: 0.7846 - val_accuracy: 0.6890 - lr: 0.0010 - 9s/epoch - 50ms/step
Epoch 19/75
176/176 - 9s - loss: 0.4720 - accuracy: 0.8242 - val_loss: 0.7513 - val_accuracy: 0.7062 - lr: 0.0010 - 9s/epoch - 49ms/step
Epoch 20/75
176/176 - 9s - loss: 0.4701 - accuracy: 0.8264 - val_loss: 0.7606 - val_accuracy: 0.6974 - lr: 0.0010 - 9s/epoch - 49ms/step
Epoch 21/75
176/176 - 9s - loss: 0.4675 - accuracy: 0.8272 - val_loss: 0.7268 - val_accuracy: 0.7104 - lr: 0.0010 - 9s/epoch - 50ms/step
Epoch 22/75
176/176 - 9s - loss: 0.4731 - accuracy: 0.8252 - val_loss: 0.7689 - val_accuracy: 0.6945 - lr: 0.0010 - 9s/epoch - 50ms/step
Epoch 23/75
176/176 - 9s - loss: 0.4684 - accuracy: 0.8274 - val_loss: 0.7438 - val_accuracy: 0.7050 - lr: 0.0010 - 9s/epoch - 49ms/step
Epoch 24/75
176/176 - 9s - loss: 0.4693 - accuracy: 0.8261 - val_loss: 0.7773 - val_accuracy: 0.6941 - lr: 0.0010 - 9s/epoch - 50ms/step
Epoch 25/75
176/176 - 9s - loss: 0.4670 - accuracy: 0.8268 - val_loss: 0.7778 - val_accuracy: 0.6871 - lr: 0.0010 - 9s/epoch - 50ms/step
Epoch 26/75
176/176 - 9s - loss: 0.4643 - accuracy: 0.8286 - val_loss: 0.7701 - val_accuracy: 0.6943 - lr: 0.0010 - 9s/epoch - 49ms/step
Epoch 27/75
176/176 - 9s - loss: 0.4664 - accuracy: 0.8278 - val_loss: 0.7966 - val_accuracy: 0.6829 - lr: 0.0010 - 9s/epoch - 49ms/step
Epoch 28/75
176/176 - 9s - loss: 0.4638 - accuracy: 0.8276 - val_loss: 0.7429 - val_accuracy: 0.7075 - lr: 0.0010 - 9s/epoch - 49ms/step
Epoch 29/75
176/176 - 9s - loss: 0.4633 - accuracy: 0.8289 - val_loss: 0.7547 - val_accuracy: 0.7034 - lr: 0.0010 - 9s/epoch - 50ms/step
Epoch 30/75
176/176 - 9s - loss: 0.4639 - accuracy: 0.8287 - val_loss: 0.7358 - val_accuracy: 0.7104 - lr: 0.0010 - 9s/epoch - 50ms/step
Epoch 31/75
176/176 - 9s - loss: 0.4626 - accuracy: 0.8301 - val_loss: 0.7469 - val_accuracy: 0.7114 - lr: 0.0010 - 9s/epoch - 49ms/step
Epoch 32/75
176/176 - 9s - loss: 0.4621 - accuracy: 0.8293 - val_loss: 0.7890 - val_accuracy: 0.6903 - lr: 0.0010 - 9s/epoch - 50ms/step
Epoch 33/75
176/176 - 9s - loss: 0.4643 - accuracy: 0.8282 - val_loss: 0.7952 - val_accuracy: 0.6832 - lr: 0.0010 - 9s/epoch - 50ms/step
Epoch 34/75
176/176 - 9s - loss: 0.4608 - accuracy: 0.8308 - val_loss: 0.8008 - val_accuracy: 0.6865 - lr: 0.0010 - 9s/epoch - 50ms/step
Epoch 35/75
176/176 - 9s - loss: 0.4616 - accuracy: 0.8287 - val_loss: 0.7304 - val_accuracy: 0.7166 - lr: 0.0010 - 9s/epoch - 49ms/step
Epoch 36/75
176/176 - 9s - loss: 0.4617 - accuracy: 0.8303 - val_loss: 0.7623 - val_accuracy: 0.6998 - lr: 0.0010 - 9s/epoch - 49ms/step
Epoch 37/75
176/176 - 9s - loss: 0.4597 - accuracy: 0.8312 - val_loss: 0.7768 - val_accuracy: 0.7017 - lr: 0.0010 - 9s/epoch - 50ms/step
Epoch 38/75
176/176 - 9s - loss: 0.4579 - accuracy: 0.8307 - val_loss: 0.7215 - val_accuracy: 0.7211 - lr: 0.0010 - 9s/epoch - 50ms/step
Epoch 39/75
176/176 - 9s - loss: 0.4587 - accuracy: 0.8300 - val_loss: 0.7500 - val_accuracy: 0.7161 - lr: 0.0010 - 9s/epoch - 49ms/step
Epoch 40/75
176/176 - 9s - loss: 0.4584 - accuracy: 0.8307 - val_loss: 0.7877 - val_accuracy: 0.6903 - lr: 0.0010 - 9s/epoch - 50ms/step
Epoch 41/75
176/176 - 9s - loss: 0.4575 - accuracy: 0.8307 - val_loss: 0.8007 - val_accuracy: 0.6860 - lr: 0.0010 - 9s/epoch - 50ms/step
Epoch 42/75
176/176 - 9s - loss: 0.4548 - accuracy: 0.8327 - val_loss: 0.7488 - val_accuracy: 0.7052 - lr: 0.0010 - 9s/epoch - 50ms/step
Epoch 43/75
176/176 - 9s - loss: 0.4553 - accuracy: 0.8333 - val_loss: 0.8095 - val_accuracy: 0.6846 - lr: 0.0010 - 9s/epoch - 50ms/step
Epoch 44/75
176/176 - 9s - loss: 0.4559 - accuracy: 0.8330 - val_loss: 0.7497 - val_accuracy: 0.7089 - lr: 0.0010 - 9s/epoch - 50ms/step
Epoch 45/75
176/176 - 9s - loss: 0.4541 - accuracy: 0.8320 - val_loss: 0.7811 - val_accuracy: 0.6999 - lr: 0.0010 - 9s/epoch - 50ms/step
Epoch 46/75
176/176 - 9s - loss: 0.4601 - accuracy: 0.8314 - val_loss: 0.7765 - val_accuracy: 0.6983 - lr: 0.0010 - 9s/epoch - 50ms/step
Epoch 47/75
176/176 - 9s - loss: 0.4545 - accuracy: 0.8319 - val_loss: 0.7700 - val_accuracy: 0.6922 - lr: 0.0010 - 9s/epoch - 50ms/step
Epoch 48/75
176/176 - 9s - loss: 0.4534 - accuracy: 0.8336 - val_loss: 0.7803 - val_accuracy: 0.6904 - lr: 0.0010 - 9s/epoch - 50ms/step
Epoch 49/75
176/176 - 9s - loss: 0.4513 - accuracy: 0.8343 - val_loss: 0.7258 - val_accuracy: 0.7135 - lr: 0.0010 - 9s/epoch - 50ms/step
Epoch 50/75
176/176 - 9s - loss: 0.4513 - accuracy: 0.8346 - val_loss: 0.7686 - val_accuracy: 0.6982 - lr: 0.0010 - 9s/epoch - 50ms/step
Epoch 51/75
176/176 - 9s - loss: 0.4531 - accuracy: 0.8330 - val_loss: 0.8081 - val_accuracy: 0.6903 - lr: 0.0010 - 9s/epoch - 50ms/step
Epoch 52/75
176/176 - 9s - loss: 0.4493 - accuracy: 0.8334 - val_loss: 0.7555 - val_accuracy: 0.7060 - lr: 0.0010 - 9s/epoch - 50ms/step
Epoch 53/75
176/176 - 9s - loss: 0.4540 - accuracy: 0.8323 - val_loss: 0.7694 - val_accuracy: 0.6944 - lr: 0.0010 - 9s/epoch - 50ms/step
Epoch 54/75
176/176 - 9s - loss: 0.4530 - accuracy: 0.8326 - val_loss: 0.7860 - val_accuracy: 0.6958 - lr: 0.0010 - 9s/epoch - 50ms/step
Epoch 55/75
176/176 - 9s - loss: 0.4473 - accuracy: 0.8350 - val_loss: 0.7565 - val_accuracy: 0.7035 - lr: 0.0010 - 9s/epoch - 50ms/step
Epoch 56/75
176/176 - 9s - loss: 0.4493 - accuracy: 0.8343 - val_loss: 0.7582 - val_accuracy: 0.7054 - lr: 0.0010 - 9s/epoch - 50ms/step
Epoch 57/75
176/176 - 9s - loss: 0.4481 - accuracy: 0.8345 - val_loss: 0.7308 - val_accuracy: 0.7090 - lr: 0.0010 - 9s/epoch - 50ms/step
Epoch 58/75
176/176 - 9s - loss: 0.4476 - accuracy: 0.8363 - val_loss: 0.7434 - val_accuracy: 0.7083 - lr: 0.0010 - 9s/epoch - 50ms/step
Epoch 59/75
176/176 - 9s - loss: 0.4486 - accuracy: 0.8341 - val_loss: 0.7548 - val_accuracy: 0.7011 - lr: 0.0010 - 9s/epoch - 50ms/step
Epoch 60/75
176/176 - 9s - loss: 0.4552 - accuracy: 0.8314 - val_loss: 0.7516 - val_accuracy: 0.7148 - lr: 0.0010 - 9s/epoch - 49ms/step
Epoch 61/75
176/176 - 9s - loss: 0.4457 - accuracy: 0.8357 - val_loss: 0.7469 - val_accuracy: 0.7037 - lr: 0.0010 - 9s/epoch - 50ms/step
Epoch 62/75
176/176 - 9s - loss: 0.4474 - accuracy: 0.8343 - val_loss: 0.7748 - val_accuracy: 0.6938 - lr: 0.0010 - 9s/epoch - 50ms/step
Epoch 63/75
176/176 - 9s - loss: 0.4483 - accuracy: 0.8348 - val_loss: 0.7413 - val_accuracy: 0.7094 - lr: 0.0010 - 9s/epoch - 50ms/step
Epoch 64/75
176/176 - 9s - loss: 0.4487 - accuracy: 0.8345 - val_loss: 0.7688 - val_accuracy: 0.6940 - lr: 0.0010 - 9s/epoch - 50ms/step
Epoch 65/75
176/176 - 9s - loss: 0.4467 - accuracy: 0.8357 - val_loss: 0.7661 - val_accuracy: 0.6917 - lr: 0.0010 - 9s/epoch - 50ms/step
Epoch 66/75
176/176 - 9s - loss: 0.4485 - accuracy: 0.8340 - val_loss: 0.7417 - val_accuracy: 0.7146 - lr: 0.0010 - 9s/epoch - 49ms/step
Epoch 67/75
176/176 - 9s - loss: 0.4444 - accuracy: 0.8368 - val_loss: 0.7558 - val_accuracy: 0.7061 - lr: 0.0010 - 9s/epoch - 50ms/step
Epoch 68/75
176/176 - 9s - loss: 0.4433 - accuracy: 0.8367 - val_loss: 0.7395 - val_accuracy: 0.7065 - lr: 0.0010 - 9s/epoch - 50ms/step
Epoch 69/75
176/176 - 9s - loss: 0.4519 - accuracy: 0.8343 - val_loss: 0.7707 - val_accuracy: 0.6888 - lr: 0.0010 - 9s/epoch - 50ms/step
Epoch 70/75
176/176 - 9s - loss: 0.4435 - accuracy: 0.8373 - val_loss: 0.7446 - val_accuracy: 0.7107 - lr: 0.0010 - 9s/epoch - 50ms/step
Epoch 71/75
176/176 - 9s - loss: 0.4417 - accuracy: 0.8377 - val_loss: 0.7848 - val_accuracy: 0.6922 - lr: 0.0010 - 9s/epoch - 50ms/step
Epoch 72/75
176/176 - 9s - loss: 0.4509 - accuracy: 0.8338 - val_loss: 0.7758 - val_accuracy: 0.6965 - lr: 0.0010 - 9s/epoch - 50ms/step
Epoch 73/75
176/176 - 9s - loss: 0.4473 - accuracy: 0.8354 - val_loss: 0.7565 - val_accuracy: 0.7019 - lr: 0.0010 - 9s/epoch - 50ms/step
Epoch 74/75
176/176 - 9s - loss: 0.4400 - accuracy: 0.8383 - val_loss: 0.7809 - val_accuracy: 0.6957 - lr: 0.0010 - 9s/epoch - 50ms/step
Epoch 75/75
176/176 - 9s - loss: 0.4424 - accuracy: 0.8371 - val_loss: 0.7742 - val_accuracy: 0.7022 - lr: 0.0010 - 9s/epoch - 50ms/step
fitting with batch size: 1500
Epoch 1/75
59/59 - 11s - loss: 0.4230 - accuracy: 0.8461 - val_loss: 0.7680 - val_accuracy: 0.6979 - lr: 0.0010 - 11s/epoch - 188ms/step
Epoch 2/75
59/59 - 8s - loss: 0.4119 - accuracy: 0.8508 - val_loss: 0.7708 - val_accuracy: 0.6999 - lr: 0.0010 - 8s/epoch - 132ms/step
Epoch 3/75
59/59 - 8s - loss: 0.4094 - accuracy: 0.8517 - val_loss: 0.7760 - val_accuracy: 0.6894 - lr: 0.0010 - 8s/epoch - 132ms/step
Epoch 4/75
59/59 - 8s - loss: 0.4080 - accuracy: 0.8529 - val_loss: 0.7740 - val_accuracy: 0.6967 - lr: 0.0010 - 8s/epoch - 132ms/step
Epoch 5/75
59/59 - 8s - loss: 0.4061 - accuracy: 0.8531 - val_loss: 0.7788 - val_accuracy: 0.6926 - lr: 0.0010 - 8s/epoch - 131ms/step
Epoch 6/75
59/59 - 8s - loss: 0.4052 - accuracy: 0.8537 - val_loss: 0.7877 - val_accuracy: 0.6908 - lr: 0.0010 - 8s/epoch - 131ms/step
Epoch 7/75
59/59 - 8s - loss: 0.4059 - accuracy: 0.8523 - val_loss: 0.7769 - val_accuracy: 0.6952 - lr: 0.0010 - 8s/epoch - 132ms/step
Epoch 8/75
59/59 - 8s - loss: 0.4041 - accuracy: 0.8531 - val_loss: 0.7823 - val_accuracy: 0.6887 - lr: 0.0010 - 8s/epoch - 132ms/step
Epoch 9/75
59/59 - 8s - loss: 0.4047 - accuracy: 0.8536 - val_loss: 0.7899 - val_accuracy: 0.6888 - lr: 0.0010 - 8s/epoch - 132ms/step
Epoch 10/75
59/59 - 8s - loss: 0.4032 - accuracy: 0.8554 - val_loss: 0.7764 - val_accuracy: 0.6914 - lr: 0.0010 - 8s/epoch - 131ms/step
Epoch 11/75
59/59 - 8s - loss: 0.4034 - accuracy: 0.8548 - val_loss: 0.7918 - val_accuracy: 0.6873 - lr: 0.0010 - 8s/epoch - 132ms/step
Epoch 12/75
59/59 - 8s - loss: 0.4074 - accuracy: 0.8530 - val_loss: 0.7938 - val_accuracy: 0.6840 - lr: 0.0010 - 8s/epoch - 132ms/step
Epoch 13/75
59/59 - 8s - loss: 0.4014 - accuracy: 0.8560 - val_loss: 0.7932 - val_accuracy: 0.6882 - lr: 0.0010 - 8s/epoch - 131ms/step
Epoch 14/75
59/59 - 8s - loss: 0.4020 - accuracy: 0.8546 - val_loss: 0.7815 - val_accuracy: 0.6948 - lr: 0.0010 - 8s/epoch - 132ms/step
Epoch 15/75
59/59 - 8s - loss: 0.4039 - accuracy: 0.8553 - val_loss: 0.8029 - val_accuracy: 0.6855 - lr: 0.0010 - 8s/epoch - 132ms/step
Epoch 16/75
59/59 - 8s - loss: 0.4041 - accuracy: 0.8533 - val_loss: 0.7812 - val_accuracy: 0.6900 - lr: 0.0010 - 8s/epoch - 132ms/step
Epoch 17/75
59/59 - 8s - loss: 0.4015 - accuracy: 0.8558 - val_loss: 0.7903 - val_accuracy: 0.6898 - lr: 0.0010 - 8s/epoch - 131ms/step
Epoch 18/75
59/59 - 8s - loss: 0.4024 - accuracy: 0.8543 - val_loss: 0.7754 - val_accuracy: 0.6926 - lr: 0.0010 - 8s/epoch - 132ms/step
Epoch 19/75
59/59 - 8s - loss: 0.4012 - accuracy: 0.8549 - val_loss: 0.8008 - val_accuracy: 0.6862 - lr: 0.0010 - 8s/epoch - 132ms/step
Epoch 20/75
59/59 - 8s - loss: 0.4030 - accuracy: 0.8546 - val_loss: 0.7819 - val_accuracy: 0.6925 - lr: 0.0010 - 8s/epoch - 131ms/step
Epoch 21/75
59/59 - 8s - loss: 0.4062 - accuracy: 0.8527 - val_loss: 0.7851 - val_accuracy: 0.6898 - lr: 0.0010 - 8s/epoch - 131ms/step
Epoch 22/75
59/59 - 8s - loss: 0.4032 - accuracy: 0.8538 - val_loss: 0.7769 - val_accuracy: 0.6961 - lr: 0.0010 - 8s/epoch - 132ms/step
Epoch 23/75
59/59 - 8s - loss: 0.4008 - accuracy: 0.8551 - val_loss: 0.8060 - val_accuracy: 0.6796 - lr: 0.0010 - 8s/epoch - 131ms/step
Epoch 24/75
59/59 - 8s - loss: 0.4030 - accuracy: 0.8541 - val_loss: 0.7959 - val_accuracy: 0.6867 - lr: 0.0010 - 8s/epoch - 131ms/step
Epoch 25/75
59/59 - 8s - loss: 0.4025 - accuracy: 0.8550 - val_loss: 0.7989 - val_accuracy: 0.6860 - lr: 0.0010 - 8s/epoch - 132ms/step
Epoch 26/75
59/59 - 8s - loss: 0.4045 - accuracy: 0.8533 - val_loss: 0.7809 - val_accuracy: 0.6975 - lr: 0.0010 - 8s/epoch - 132ms/step
Epoch 27/75
59/59 - 8s - loss: 0.4014 - accuracy: 0.8552 - val_loss: 0.7861 - val_accuracy: 0.6907 - lr: 0.0010 - 8s/epoch - 132ms/step
Epoch 28/75
59/59 - 8s - loss: 0.4034 - accuracy: 0.8538 - val_loss: 0.7983 - val_accuracy: 0.6808 - lr: 0.0010 - 8s/epoch - 132ms/step
Epoch 29/75
59/59 - 8s - loss: 0.4013 - accuracy: 0.8550 - val_loss: 0.8097 - val_accuracy: 0.6863 - lr: 0.0010 - 8s/epoch - 132ms/step
Epoch 30/75
59/59 - 8s - loss: 0.4010 - accuracy: 0.8558 - val_loss: 0.7802 - val_accuracy: 0.6892 - lr: 0.0010 - 8s/epoch - 131ms/step
Epoch 31/75
59/59 - 8s - loss: 0.4004 - accuracy: 0.8554 - val_loss: 0.7827 - val_accuracy: 0.6902 - lr: 0.0010 - 8s/epoch - 132ms/step
Epoch 32/75
59/59 - 8s - loss: 0.4016 - accuracy: 0.8557 - val_loss: 0.8000 - val_accuracy: 0.6850 - lr: 0.0010 - 8s/epoch - 132ms/step
Epoch 33/75
59/59 - 8s - loss: 0.4028 - accuracy: 0.8543 - val_loss: 0.7925 - val_accuracy: 0.6883 - lr: 0.0010 - 8s/epoch - 132ms/step
Epoch 34/75
59/59 - 8s - loss: 0.4009 - accuracy: 0.8554 - val_loss: 0.7918 - val_accuracy: 0.6848 - lr: 0.0010 - 8s/epoch - 132ms/step
Epoch 35/75
59/59 - 8s - loss: 0.4030 - accuracy: 0.8541 - val_loss: 0.7937 - val_accuracy: 0.6919 - lr: 0.0010 - 8s/epoch - 132ms/step
Epoch 36/75
59/59 - 8s - loss: 0.4033 - accuracy: 0.8541 - val_loss: 0.8162 - val_accuracy: 0.6808 - lr: 0.0010 - 8s/epoch - 131ms/step
Epoch 37/75
59/59 - 8s - loss: 0.3990 - accuracy: 0.8554 - val_loss: 0.7925 - val_accuracy: 0.6914 - lr: 0.0010 - 8s/epoch - 131ms/step
Epoch 38/75
59/59 - 8s - loss: 0.3988 - accuracy: 0.8552 - val_loss: 0.7838 - val_accuracy: 0.6952 - lr: 0.0010 - 8s/epoch - 132ms/step
Epoch 39/75
59/59 - 8s - loss: 0.4036 - accuracy: 0.8541 - val_loss: 0.7857 - val_accuracy: 0.6961 - lr: 0.0010 - 8s/epoch - 134ms/step
Epoch 40/75
59/59 - 8s - loss: 0.3995 - accuracy: 0.8551 - val_loss: 0.8108 - val_accuracy: 0.6839 - lr: 0.0010 - 8s/epoch - 132ms/step
Epoch 41/75
59/59 - 8s - loss: 0.4030 - accuracy: 0.8535 - val_loss: 0.7937 - val_accuracy: 0.6867 - lr: 0.0010 - 8s/epoch - 132ms/step
Epoch 42/75
59/59 - 8s - loss: 0.4001 - accuracy: 0.8554 - val_loss: 0.7973 - val_accuracy: 0.6847 - lr: 0.0010 - 8s/epoch - 131ms/step
Epoch 43/75
59/59 - 8s - loss: 0.4016 - accuracy: 0.8546 - val_loss: 0.7674 - val_accuracy: 0.7043 - lr: 0.0010 - 8s/epoch - 131ms/step
Epoch 44/75
59/59 - 8s - loss: 0.3986 - accuracy: 0.8563 - val_loss: 0.8042 - val_accuracy: 0.6786 - lr: 0.0010 - 8s/epoch - 131ms/step
Epoch 45/75
59/59 - 8s - loss: 0.4002 - accuracy: 0.8561 - val_loss: 0.7883 - val_accuracy: 0.6929 - lr: 0.0010 - 8s/epoch - 136ms/step
Epoch 46/75
59/59 - 8s - loss: 0.3999 - accuracy: 0.8541 - val_loss: 0.8042 - val_accuracy: 0.6874 - lr: 0.0010 - 8s/epoch - 133ms/step
Epoch 47/75
59/59 - 8s - loss: 0.4009 - accuracy: 0.8550 - val_loss: 0.7758 - val_accuracy: 0.6993 - lr: 0.0010 - 8s/epoch - 134ms/step
Epoch 48/75
59/59 - 8s - loss: 0.3981 - accuracy: 0.8564 - val_loss: 0.8138 - val_accuracy: 0.6826 - lr: 0.0010 - 8s/epoch - 134ms/step
Epoch 49/75
59/59 - 8s - loss: 0.4002 - accuracy: 0.8545 - val_loss: 0.7810 - val_accuracy: 0.6931 - lr: 0.0010 - 8s/epoch - 132ms/step
Epoch 50/75
59/59 - 8s - loss: 0.3999 - accuracy: 0.8546 - val_loss: 0.7765 - val_accuracy: 0.6990 - lr: 0.0010 - 8s/epoch - 132ms/step
Epoch 51/75
59/59 - 8s - loss: 0.3960 - accuracy: 0.8559 - val_loss: 0.7928 - val_accuracy: 0.6898 - lr: 0.0010 - 8s/epoch - 131ms/step
Epoch 52/75
59/59 - 8s - loss: 0.4023 - accuracy: 0.8533 - val_loss: 0.7826 - val_accuracy: 0.6900 - lr: 0.0010 - 8s/epoch - 132ms/step
Epoch 53/75
59/59 - 8s - loss: 0.4011 - accuracy: 0.8552 - val_loss: 0.8072 - val_accuracy: 0.6857 - lr: 0.0010 - 8s/epoch - 131ms/step
Epoch 54/75
59/59 - 8s - loss: 0.3997 - accuracy: 0.8558 - val_loss: 0.8162 - val_accuracy: 0.6801 - lr: 0.0010 - 8s/epoch - 131ms/step
Epoch 55/75
59/59 - 8s - loss: 0.3973 - accuracy: 0.8565 - val_loss: 0.7791 - val_accuracy: 0.6928 - lr: 0.0010 - 8s/epoch - 132ms/step
Epoch 56/75
59/59 - 8s - loss: 0.3993 - accuracy: 0.8560 - val_loss: 0.7870 - val_accuracy: 0.6903 - lr: 0.0010 - 8s/epoch - 132ms/step
Epoch 57/75
59/59 - 8s - loss: 0.3998 - accuracy: 0.8550 - val_loss: 0.7802 - val_accuracy: 0.6972 - lr: 0.0010 - 8s/epoch - 132ms/step
Epoch 58/75
59/59 - 8s - loss: 0.3971 - accuracy: 0.8574 - val_loss: 0.7853 - val_accuracy: 0.6888 - lr: 0.0010 - 8s/epoch - 132ms/step
Epoch 59/75
59/59 - 8s - loss: 0.3977 - accuracy: 0.8562 - val_loss: 0.7894 - val_accuracy: 0.6856 - lr: 0.0010 - 8s/epoch - 132ms/step
Epoch 60/75
59/59 - 8s - loss: 0.3969 - accuracy: 0.8569 - val_loss: 0.7900 - val_accuracy: 0.6850 - lr: 0.0010 - 8s/epoch - 132ms/step
Epoch 61/75
59/59 - 8s - loss: 0.3975 - accuracy: 0.8555 - val_loss: 0.7997 - val_accuracy: 0.6850 - lr: 0.0010 - 8s/epoch - 132ms/step
Epoch 62/75
59/59 - 8s - loss: 0.3962 - accuracy: 0.8570 - val_loss: 0.8352 - val_accuracy: 0.6675 - lr: 0.0010 - 8s/epoch - 132ms/step
Epoch 63/75
59/59 - 8s - loss: 0.3983 - accuracy: 0.8563 - val_loss: 0.7853 - val_accuracy: 0.6900 - lr: 0.0010 - 8s/epoch - 132ms/step
Epoch 64/75
59/59 - 8s - loss: 0.3958 - accuracy: 0.8572 - val_loss: 0.7755 - val_accuracy: 0.6971 - lr: 0.0010 - 8s/epoch - 132ms/step
Epoch 65/75
59/59 - 8s - loss: 0.3959 - accuracy: 0.8561 - val_loss: 0.7985 - val_accuracy: 0.6881 - lr: 0.0010 - 8s/epoch - 132ms/step
Epoch 66/75
59/59 - 8s - loss: 0.3966 - accuracy: 0.8573 - val_loss: 0.8206 - val_accuracy: 0.6766 - lr: 0.0010 - 8s/epoch - 132ms/step
Epoch 67/75
59/59 - 8s - loss: 0.3952 - accuracy: 0.8571 - val_loss: 0.8042 - val_accuracy: 0.6819 - lr: 0.0010 - 8s/epoch - 132ms/step
Epoch 68/75
59/59 - 8s - loss: 0.3945 - accuracy: 0.8589 - val_loss: 0.7919 - val_accuracy: 0.6879 - lr: 0.0010 - 8s/epoch - 132ms/step
Epoch 69/75
59/59 - 8s - loss: 0.3969 - accuracy: 0.8574 - val_loss: 0.7860 - val_accuracy: 0.6934 - lr: 0.0010 - 8s/epoch - 132ms/step
Epoch 70/75
59/59 - 8s - loss: 0.3995 - accuracy: 0.8555 - val_loss: 0.8092 - val_accuracy: 0.6845 - lr: 0.0010 - 8s/epoch - 132ms/step
Epoch 71/75
59/59 - 8s - loss: 0.3982 - accuracy: 0.8570 - val_loss: 0.8047 - val_accuracy: 0.6859 - lr: 0.0010 - 8s/epoch - 132ms/step
Epoch 72/75
59/59 - 8s - loss: 0.3952 - accuracy: 0.8579 - val_loss: 0.7963 - val_accuracy: 0.6886 - lr: 0.0010 - 8s/epoch - 131ms/step
Epoch 73/75
59/59 - 8s - loss: 0.3962 - accuracy: 0.8573 - val_loss: 0.8011 - val_accuracy: 0.6850 - lr: 0.0010 - 8s/epoch - 131ms/step
Epoch 74/75
59/59 - 8s - loss: 0.3945 - accuracy: 0.8589 - val_loss: 0.7910 - val_accuracy: 0.6939 - lr: 0.0010 - 8s/epoch - 132ms/step
Epoch 75/75
59/59 - 8s - loss: 0.3994 - accuracy: 0.8559 - val_loss: 0.8045 - val_accuracy: 0.6857 - lr: 0.0010 - 8s/epoch - 132ms/step
fitting with batch size: 2500
Epoch 1/75
36/36 - 11s - loss: 0.3926 - accuracy: 0.8589 - val_loss: 0.8149 - val_accuracy: 0.6808 - lr: 0.0010 - 11s/epoch - 304ms/step
Epoch 2/75
36/36 - 8s - loss: 0.3890 - accuracy: 0.8605 - val_loss: 0.7954 - val_accuracy: 0.6903 - lr: 0.0010 - 8s/epoch - 209ms/step
Epoch 3/75
36/36 - 8s - loss: 0.4229 - accuracy: 0.8456 - val_loss: 0.7903 - val_accuracy: 0.6890 - lr: 0.0010 - 8s/epoch - 209ms/step
Epoch 4/75
36/36 - 8s - loss: 0.4004 - accuracy: 0.8554 - val_loss: 0.7741 - val_accuracy: 0.6975 - lr: 0.0010 - 8s/epoch - 209ms/step
Epoch 5/75
36/36 - 8s - loss: 0.3936 - accuracy: 0.8570 - val_loss: 0.7991 - val_accuracy: 0.6886 - lr: 0.0010 - 8s/epoch - 209ms/step
Epoch 6/75
36/36 - 8s - loss: 0.3902 - accuracy: 0.8596 - val_loss: 0.7867 - val_accuracy: 0.6906 - lr: 0.0010 - 8s/epoch - 209ms/step
Epoch 7/75
36/36 - 8s - loss: 0.3870 - accuracy: 0.8613 - val_loss: 0.8099 - val_accuracy: 0.6822 - lr: 0.0010 - 8s/epoch - 209ms/step
Epoch 8/75
36/36 - 8s - loss: 0.4218 - accuracy: 0.8458 - val_loss: 0.7944 - val_accuracy: 0.6882 - lr: 0.0010 - 8s/epoch - 209ms/step
Epoch 9/75
36/36 - 8s - loss: 0.4135 - accuracy: 0.8496 - val_loss: 0.7926 - val_accuracy: 0.6860 - lr: 0.0010 - 8s/epoch - 209ms/step
Epoch 10/75
36/36 - 8s - loss: 0.4081 - accuracy: 0.8520 - val_loss: 0.7776 - val_accuracy: 0.6952 - lr: 0.0010 - 8s/epoch - 209ms/step
Epoch 11/75
36/36 - 8s - loss: 0.4225 - accuracy: 0.8460 - val_loss: 0.8107 - val_accuracy: 0.6845 - lr: 0.0010 - 8s/epoch - 209ms/step
Epoch 12/75
36/36 - 8s - loss: 0.4061 - accuracy: 0.8518 - val_loss: 0.8134 - val_accuracy: 0.6815 - lr: 0.0010 - 8s/epoch - 209ms/step
Epoch 13/75
36/36 - 8s - loss: 0.3965 - accuracy: 0.8570 - val_loss: 0.8026 - val_accuracy: 0.6836 - lr: 0.0010 - 8s/epoch - 209ms/step
Epoch 14/75
36/36 - 8s - loss: 0.3915 - accuracy: 0.8587 - val_loss: 0.7973 - val_accuracy: 0.6927 - lr: 0.0010 - 8s/epoch - 209ms/step
Epoch 15/75
36/36 - 8s - loss: 0.3942 - accuracy: 0.8578 - val_loss: 0.8364 - val_accuracy: 0.6674 - lr: 0.0010 - 8s/epoch - 209ms/step
Epoch 16/75
36/36 - 8s - loss: 0.4473 - accuracy: 0.8374 - val_loss: 0.7995 - val_accuracy: 0.6875 - lr: 0.0010 - 8s/epoch - 209ms/step
Epoch 17/75
36/36 - 8s - loss: 0.4014 - accuracy: 0.8550 - val_loss: 0.7868 - val_accuracy: 0.6910 - lr: 0.0010 - 8s/epoch - 209ms/step
Epoch 18/75
36/36 - 8s - loss: 0.4238 - accuracy: 0.8462 - val_loss: 0.7743 - val_accuracy: 0.6977 - lr: 0.0010 - 8s/epoch - 209ms/step
Epoch 19/75
36/36 - 8s - loss: 0.4042 - accuracy: 0.8525 - val_loss: 0.7872 - val_accuracy: 0.6929 - lr: 0.0010 - 8s/epoch - 209ms/step
Epoch 20/75
36/36 - 8s - loss: 0.3955 - accuracy: 0.8571 - val_loss: 0.7743 - val_accuracy: 0.6941 - lr: 0.0010 - 8s/epoch - 209ms/step
Epoch 21/75
36/36 - 8s - loss: 0.3943 - accuracy: 0.8575 - val_loss: 0.8209 - val_accuracy: 0.6756 - lr: 0.0010 - 8s/epoch - 209ms/step
Epoch 22/75
36/36 - 8s - loss: 0.4043 - accuracy: 0.8533 - val_loss: 0.7905 - val_accuracy: 0.6865 - lr: 0.0010 - 8s/epoch - 209ms/step
Epoch 23/75
36/36 - 8s - loss: 0.4056 - accuracy: 0.8532 - val_loss: 0.7795 - val_accuracy: 0.6917 - lr: 0.0010 - 8s/epoch - 209ms/step
Epoch 24/75
36/36 - 8s - loss: 0.4007 - accuracy: 0.8553 - val_loss: 0.8177 - val_accuracy: 0.6795 - lr: 0.0010 - 8s/epoch - 209ms/step
Epoch 25/75
36/36 - 8s - loss: 0.3936 - accuracy: 0.8579 - val_loss: 0.7863 - val_accuracy: 0.6915 - lr: 0.0010 - 8s/epoch - 208ms/step
Epoch 26/75
36/36 - 8s - loss: 0.4084 - accuracy: 0.8515 - val_loss: 0.7976 - val_accuracy: 0.6839 - lr: 0.0010 - 8s/epoch - 209ms/step
Epoch 27/75
36/36 - 8s - loss: 0.3945 - accuracy: 0.8569 - val_loss: 0.7809 - val_accuracy: 0.6936 - lr: 0.0010 - 8s/epoch - 209ms/step
Epoch 28/75
36/36 - 8s - loss: 0.3849 - accuracy: 0.8616 - val_loss: 0.7867 - val_accuracy: 0.6924 - lr: 0.0010 - 8s/epoch - 209ms/step
Epoch 29/75
36/36 - 8s - loss: 0.3898 - accuracy: 0.8597 - val_loss: 0.7894 - val_accuracy: 0.6892 - lr: 0.0010 - 8s/epoch - 210ms/step
Epoch 30/75
36/36 - 8s - loss: 0.3899 - accuracy: 0.8603 - val_loss: 0.7988 - val_accuracy: 0.6842 - lr: 0.0010 - 8s/epoch - 209ms/step
Epoch 31/75
36/36 - 8s - loss: 0.3916 - accuracy: 0.8595 - val_loss: 0.8184 - val_accuracy: 0.6814 - lr: 0.0010 - 8s/epoch - 209ms/step
Epoch 32/75
36/36 - 8s - loss: 0.3915 - accuracy: 0.8580 - val_loss: 0.7965 - val_accuracy: 0.6874 - lr: 0.0010 - 8s/epoch - 209ms/step
Epoch 33/75
36/36 - 8s - loss: 0.3864 - accuracy: 0.8613 - val_loss: 0.7978 - val_accuracy: 0.6821 - lr: 0.0010 - 8s/epoch - 209ms/step
Epoch 34/75
36/36 - 8s - loss: 0.4144 - accuracy: 0.8491 - val_loss: 0.8167 - val_accuracy: 0.6783 - lr: 0.0010 - 8s/epoch - 209ms/step
Epoch 35/75
36/36 - 8s - loss: 0.4065 - accuracy: 0.8531 - val_loss: 0.8153 - val_accuracy: 0.6776 - lr: 0.0010 - 8s/epoch - 209ms/step
Epoch 36/75
36/36 - 8s - loss: 0.4043 - accuracy: 0.8535 - val_loss: 0.7870 - val_accuracy: 0.6885 - lr: 0.0010 - 8s/epoch - 209ms/step
Epoch 37/75
36/36 - 8s - loss: 0.3921 - accuracy: 0.8579 - val_loss: 0.7873 - val_accuracy: 0.6906 - lr: 0.0010 - 8s/epoch - 209ms/step
Epoch 38/75
36/36 - 8s - loss: 0.3951 - accuracy: 0.8570 - val_loss: 0.8048 - val_accuracy: 0.6846 - lr: 0.0010 - 8s/epoch - 209ms/step
Epoch 39/75
36/36 - 8s - loss: 0.3913 - accuracy: 0.8602 - val_loss: 0.8198 - val_accuracy: 0.6755 - lr: 0.0010 - 8s/epoch - 209ms/step
Epoch 40/75
36/36 - 8s - loss: 0.3932 - accuracy: 0.8584 - val_loss: 0.8194 - val_accuracy: 0.6812 - lr: 0.0010 - 8s/epoch - 209ms/step
Epoch 41/75
36/36 - 8s - loss: 0.4039 - accuracy: 0.8533 - val_loss: 0.8078 - val_accuracy: 0.6784 - lr: 0.0010 - 8s/epoch - 209ms/step
Epoch 42/75
36/36 - 8s - loss: 0.3910 - accuracy: 0.8594 - val_loss: 0.7936 - val_accuracy: 0.6875 - lr: 0.0010 - 8s/epoch - 209ms/step
Epoch 43/75
36/36 - 8s - loss: 0.3851 - accuracy: 0.8615 - val_loss: 0.8011 - val_accuracy: 0.6858 - lr: 0.0010 - 8s/epoch - 209ms/step
Epoch 44/75
36/36 - 8s - loss: 0.3893 - accuracy: 0.8601 - val_loss: 0.8001 - val_accuracy: 0.6855 - lr: 0.0010 - 8s/epoch - 209ms/step
Epoch 45/75
36/36 - 8s - loss: 0.3973 - accuracy: 0.8569 - val_loss: 0.8055 - val_accuracy: 0.6858 - lr: 0.0010 - 8s/epoch - 209ms/step
Epoch 46/75
36/36 - 8s - loss: 0.3885 - accuracy: 0.8601 - val_loss: 0.8135 - val_accuracy: 0.6833 - lr: 0.0010 - 8s/epoch - 209ms/step
Epoch 47/75
36/36 - 8s - loss: 0.4102 - accuracy: 0.8509 - val_loss: 0.8182 - val_accuracy: 0.6754 - lr: 0.0010 - 8s/epoch - 209ms/step
Epoch 48/75
36/36 - 8s - loss: 0.4058 - accuracy: 0.8527 - val_loss: 0.7938 - val_accuracy: 0.6839 - lr: 0.0010 - 8s/epoch - 209ms/step
Epoch 49/75
36/36 - 8s - loss: 0.4041 - accuracy: 0.8523 - val_loss: 0.7936 - val_accuracy: 0.6830 - lr: 0.0010 - 8s/epoch - 209ms/step
Epoch 50/75
36/36 - 8s - loss: 0.3868 - accuracy: 0.8611 - val_loss: 0.8138 - val_accuracy: 0.6797 - lr: 0.0010 - 8s/epoch - 209ms/step
Epoch 51/75
36/36 - 8s - loss: 0.4051 - accuracy: 0.8528 - val_loss: 0.8044 - val_accuracy: 0.6777 - lr: 0.0010 - 8s/epoch - 209ms/step
Epoch 52/75
36/36 - 8s - loss: 0.3976 - accuracy: 0.8562 - val_loss: 0.7807 - val_accuracy: 0.6923 - lr: 0.0010 - 8s/epoch - 209ms/step
Epoch 53/75
36/36 - 8s - loss: 0.3845 - accuracy: 0.8620 - val_loss: 0.8042 - val_accuracy: 0.6843 - lr: 0.0010 - 8s/epoch - 209ms/step
Epoch 54/75
36/36 - 8s - loss: 0.4216 - accuracy: 0.8468 - val_loss: 0.7725 - val_accuracy: 0.6930 - lr: 0.0010 - 8s/epoch - 209ms/step
Epoch 55/75
36/36 - 8s - loss: 0.4116 - accuracy: 0.8508 - val_loss: 0.7827 - val_accuracy: 0.6900 - lr: 0.0010 - 8s/epoch - 209ms/step
Epoch 56/75
36/36 - 8s - loss: 0.3955 - accuracy: 0.8580 - val_loss: 0.8251 - val_accuracy: 0.6765 - lr: 0.0010 - 8s/epoch - 209ms/step
Epoch 57/75
36/36 - 8s - loss: 0.3867 - accuracy: 0.8617 - val_loss: 0.8040 - val_accuracy: 0.6846 - lr: 0.0010 - 8s/epoch - 210ms/step
Epoch 58/75
36/36 - 8s - loss: 0.3813 - accuracy: 0.8641 - val_loss: 0.8199 - val_accuracy: 0.6756 - lr: 0.0010 - 8s/epoch - 209ms/step
Epoch 59/75
36/36 - 8s - loss: 0.3865 - accuracy: 0.8620 - val_loss: 0.7971 - val_accuracy: 0.6859 - lr: 0.0010 - 8s/epoch - 209ms/step
Epoch 60/75
36/36 - 8s - loss: 0.3874 - accuracy: 0.8608 - val_loss: 0.7977 - val_accuracy: 0.6871 - lr: 0.0010 - 8s/epoch - 209ms/step
Epoch 61/75
36/36 - 8s - loss: 0.3906 - accuracy: 0.8591 - val_loss: 0.8167 - val_accuracy: 0.6788 - lr: 0.0010 - 8s/epoch - 209ms/step
Epoch 62/75
36/36 - 8s - loss: 0.3822 - accuracy: 0.8634 - val_loss: 0.8173 - val_accuracy: 0.6811 - lr: 0.0010 - 8s/epoch - 209ms/step
Epoch 63/75
36/36 - 8s - loss: 0.3859 - accuracy: 0.8612 - val_loss: 0.8011 - val_accuracy: 0.6841 - lr: 0.0010 - 8s/epoch - 209ms/step
Epoch 64/75
36/36 - 8s - loss: 0.3939 - accuracy: 0.8578 - val_loss: 0.8243 - val_accuracy: 0.6734 - lr: 0.0010 - 8s/epoch - 211ms/step
Epoch 65/75
36/36 - 8s - loss: 0.3846 - accuracy: 0.8627 - val_loss: 0.8062 - val_accuracy: 0.6844 - lr: 0.0010 - 8s/epoch - 209ms/step
Epoch 66/75
36/36 - 8s - loss: 0.3828 - accuracy: 0.8628 - val_loss: 0.8218 - val_accuracy: 0.6732 - lr: 0.0010 - 8s/epoch - 209ms/step
Epoch 67/75
36/36 - 8s - loss: 0.3838 - accuracy: 0.8612 - val_loss: 0.7848 - val_accuracy: 0.6920 - lr: 0.0010 - 8s/epoch - 209ms/step
Epoch 68/75
36/36 - 8s - loss: 0.3830 - accuracy: 0.8622 - val_loss: 0.8034 - val_accuracy: 0.6860 - lr: 0.0010 - 8s/epoch - 209ms/step
Epoch 69/75
36/36 - 8s - loss: 0.3958 - accuracy: 0.8569 - val_loss: 0.8197 - val_accuracy: 0.6767 - lr: 0.0010 - 8s/epoch - 209ms/step
Epoch 70/75
36/36 - 8s - loss: 0.3951 - accuracy: 0.8570 - val_loss: 0.8229 - val_accuracy: 0.6775 - lr: 0.0010 - 8s/epoch - 209ms/step
Epoch 71/75
36/36 - 8s - loss: 0.3816 - accuracy: 0.8628 - val_loss: 0.8154 - val_accuracy: 0.6835 - lr: 0.0010 - 8s/epoch - 209ms/step
Epoch 72/75
36/36 - 8s - loss: 0.3795 - accuracy: 0.8647 - val_loss: 0.8102 - val_accuracy: 0.6830 - lr: 0.0010 - 8s/epoch - 209ms/step
Epoch 73/75
36/36 - 8s - loss: 0.3911 - accuracy: 0.8581 - val_loss: 0.8055 - val_accuracy: 0.6872 - lr: 0.0010 - 8s/epoch - 209ms/step
Epoch 74/75
36/36 - 8s - loss: 0.3915 - accuracy: 0.8587 - val_loss: 0.7973 - val_accuracy: 0.6842 - lr: 0.0010 - 8s/epoch - 209ms/step
Epoch 75/75
36/36 - 8s - loss: 0.4026 - accuracy: 0.8534 - val_loss: 0.8140 - val_accuracy: 0.6815 - lr: 0.0010 - 8s/epoch - 209ms/step
Epoch number: 100
fitting with batch size: 20
Epoch 1/100
4378/4378 - 74s - loss: 0.7671 - accuracy: 0.7143 - val_loss: 0.7690 - val_accuracy: 0.7192 - lr: 0.0010 - 74s/epoch - 17ms/step
Epoch 2/100
4378/4378 - 72s - loss: 0.7046 - accuracy: 0.7365 - val_loss: 0.8791 - val_accuracy: 0.6911 - lr: 0.0010 - 72s/epoch - 16ms/step
Epoch 3/100
4378/4378 - 72s - loss: 0.6934 - accuracy: 0.7390 - val_loss: 0.7680 - val_accuracy: 0.7167 - lr: 0.0010 - 72s/epoch - 16ms/step
Epoch 4/100
4378/4378 - 72s - loss: 0.6855 - accuracy: 0.7435 - val_loss: 0.8006 - val_accuracy: 0.7021 - lr: 0.0010 - 72s/epoch - 16ms/step
Epoch 5/100
4378/4378 - 72s - loss: 0.6853 - accuracy: 0.7415 - val_loss: 0.9370 - val_accuracy: 0.6179 - lr: 0.0010 - 72s/epoch - 16ms/step
Epoch 6/100
4378/4378 - 72s - loss: 0.6843 - accuracy: 0.7421 - val_loss: 0.7131 - val_accuracy: 0.7725 - lr: 0.0010 - 72s/epoch - 16ms/step
Epoch 7/100
4378/4378 - 72s - loss: 0.6790 - accuracy: 0.7453 - val_loss: 0.7219 - val_accuracy: 0.7324 - lr: 0.0010 - 72s/epoch - 16ms/step
Epoch 8/100
4378/4378 - 72s - loss: 0.6771 - accuracy: 0.7445 - val_loss: 0.7221 - val_accuracy: 0.7618 - lr: 0.0010 - 72s/epoch - 16ms/step
Epoch 9/100
4378/4378 - 72s - loss: 0.6762 - accuracy: 0.7443 - val_loss: 0.7625 - val_accuracy: 0.7294 - lr: 0.0010 - 72s/epoch - 16ms/step
Epoch 10/100
4378/4378 - 71s - loss: 0.6774 - accuracy: 0.7447 - val_loss: 0.7755 - val_accuracy: 0.7018 - lr: 0.0010 - 71s/epoch - 16ms/step
Epoch 11/100
4378/4378 - 72s - loss: 0.6788 - accuracy: 0.7444 - val_loss: 0.7346 - val_accuracy: 0.7437 - lr: 0.0010 - 72s/epoch - 16ms/step
Epoch 12/100
4378/4378 - 72s - loss: 0.6733 - accuracy: 0.7460 - val_loss: 0.7785 - val_accuracy: 0.7236 - lr: 0.0010 - 72s/epoch - 16ms/step
Epoch 13/100
4378/4378 - 72s - loss: 0.6746 - accuracy: 0.7467 - val_loss: 0.8039 - val_accuracy: 0.6830 - lr: 0.0010 - 72s/epoch - 16ms/step
Epoch 14/100
4378/4378 - 72s - loss: 0.6743 - accuracy: 0.7473 - val_loss: 0.7572 - val_accuracy: 0.7402 - lr: 0.0010 - 72s/epoch - 16ms/step
Epoch 15/100
4378/4378 - 72s - loss: 0.6699 - accuracy: 0.7474 - val_loss: 0.7486 - val_accuracy: 0.7468 - lr: 0.0010 - 72s/epoch - 16ms/step
Epoch 16/100
4378/4378 - 72s - loss: 0.6722 - accuracy: 0.7460 - val_loss: 0.6207 - val_accuracy: 0.7912 - lr: 0.0010 - 72s/epoch - 16ms/step
Epoch 17/100
4378/4378 - 72s - loss: 0.6695 - accuracy: 0.7472 - val_loss: 0.7033 - val_accuracy: 0.7498 - lr: 0.0010 - 72s/epoch - 16ms/step
Epoch 18/100
4378/4378 - 71s - loss: 0.6675 - accuracy: 0.7486 - val_loss: 0.7888 - val_accuracy: 0.7117 - lr: 0.0010 - 71s/epoch - 16ms/step
Epoch 19/100
4378/4378 - 72s - loss: 0.6708 - accuracy: 0.7476 - val_loss: 0.7962 - val_accuracy: 0.6993 - lr: 0.0010 - 72s/epoch - 16ms/step
Epoch 20/100
4378/4378 - 72s - loss: 0.6715 - accuracy: 0.7471 - val_loss: 0.7393 - val_accuracy: 0.7250 - lr: 0.0010 - 72s/epoch - 16ms/step
Epoch 21/100
4378/4378 - 72s - loss: 0.6682 - accuracy: 0.7477 - val_loss: 0.8029 - val_accuracy: 0.7178 - lr: 0.0010 - 72s/epoch - 16ms/step
Epoch 22/100
4378/4378 - 71s - loss: 0.6685 - accuracy: 0.7486 - val_loss: 0.7569 - val_accuracy: 0.7368 - lr: 0.0010 - 71s/epoch - 16ms/step
Epoch 23/100
4378/4378 - 72s - loss: 0.6668 - accuracy: 0.7488 - val_loss: 0.8066 - val_accuracy: 0.6927 - lr: 0.0010 - 72s/epoch - 16ms/step
Epoch 24/100
4378/4378 - 71s - loss: 0.6683 - accuracy: 0.7477 - val_loss: 0.7729 - val_accuracy: 0.7393 - lr: 0.0010 - 71s/epoch - 16ms/step
Epoch 25/100
4378/4378 - 71s - loss: 0.6650 - accuracy: 0.7481 - val_loss: 0.7858 - val_accuracy: 0.7234 - lr: 0.0010 - 71s/epoch - 16ms/step
Epoch 26/100
4378/4378 - 72s - loss: 0.6658 - accuracy: 0.7482 - val_loss: 0.7513 - val_accuracy: 0.7419 - lr: 0.0010 - 72s/epoch - 16ms/step
Epoch 27/100
4378/4378 - 72s - loss: 0.6656 - accuracy: 0.7489 - val_loss: 0.6664 - val_accuracy: 0.7624 - lr: 0.0010 - 72s/epoch - 16ms/step
Epoch 28/100
4378/4378 - 71s - loss: 0.6658 - accuracy: 0.7493 - val_loss: 0.7707 - val_accuracy: 0.7428 - lr: 0.0010 - 71s/epoch - 16ms/step
Epoch 29/100
4378/4378 - 72s - loss: 0.6659 - accuracy: 0.7490 - val_loss: 0.7587 - val_accuracy: 0.7201 - lr: 0.0010 - 72s/epoch - 16ms/step
Epoch 30/100
4378/4378 - 72s - loss: 0.6655 - accuracy: 0.7500 - val_loss: 0.7249 - val_accuracy: 0.7421 - lr: 0.0010 - 72s/epoch - 16ms/step
Epoch 31/100
4378/4378 - 72s - loss: 0.6659 - accuracy: 0.7491 - val_loss: 0.7934 - val_accuracy: 0.6951 - lr: 0.0010 - 72s/epoch - 16ms/step
Epoch 32/100
4378/4378 - 71s - loss: 0.6629 - accuracy: 0.7513 - val_loss: 0.8253 - val_accuracy: 0.7085 - lr: 0.0010 - 71s/epoch - 16ms/step
Epoch 33/100
4378/4378 - 72s - loss: 0.6644 - accuracy: 0.7495 - val_loss: 0.6774 - val_accuracy: 0.7624 - lr: 0.0010 - 72s/epoch - 16ms/step
Epoch 34/100
4378/4378 - 72s - loss: 0.6654 - accuracy: 0.7495 - val_loss: 0.7669 - val_accuracy: 0.7383 - lr: 0.0010 - 72s/epoch - 16ms/step
Epoch 35/100
4378/4378 - 71s - loss: 0.6634 - accuracy: 0.7509 - val_loss: 0.7443 - val_accuracy: 0.7257 - lr: 0.0010 - 71s/epoch - 16ms/step
Epoch 36/100
4378/4378 - 72s - loss: 0.6628 - accuracy: 0.7503 - val_loss: 0.8123 - val_accuracy: 0.7165 - lr: 0.0010 - 72s/epoch - 16ms/step
Epoch 37/100
4378/4378 - 72s - loss: 0.6610 - accuracy: 0.7513 - val_loss: 0.7111 - val_accuracy: 0.7591 - lr: 0.0010 - 72s/epoch - 16ms/step
Epoch 38/100
4378/4378 - 72s - loss: 0.6628 - accuracy: 0.7511 - val_loss: 0.7620 - val_accuracy: 0.7204 - lr: 0.0010 - 72s/epoch - 16ms/step
Epoch 39/100
4378/4378 - 72s - loss: 0.6631 - accuracy: 0.7495 - val_loss: 0.7185 - val_accuracy: 0.7302 - lr: 0.0010 - 72s/epoch - 16ms/step
Epoch 40/100
4378/4378 - 74s - loss: 0.6594 - accuracy: 0.7504 - val_loss: 0.6599 - val_accuracy: 0.7806 - lr: 0.0010 - 74s/epoch - 17ms/step
Epoch 41/100
4378/4378 - 72s - loss: 0.6621 - accuracy: 0.7503 - val_loss: 0.6933 - val_accuracy: 0.7628 - lr: 0.0010 - 72s/epoch - 16ms/step
Epoch 42/100
4378/4378 - 72s - loss: 0.6613 - accuracy: 0.7530 - val_loss: 0.7703 - val_accuracy: 0.7279 - lr: 0.0010 - 72s/epoch - 16ms/step
Epoch 43/100
4378/4378 - 71s - loss: 0.6592 - accuracy: 0.7520 - val_loss: 0.7489 - val_accuracy: 0.7343 - lr: 0.0010 - 71s/epoch - 16ms/step
Epoch 44/100
4378/4378 - 71s - loss: 0.6598 - accuracy: 0.7500 - val_loss: 0.7272 - val_accuracy: 0.7209 - lr: 0.0010 - 71s/epoch - 16ms/step
Epoch 45/100
4378/4378 - 72s - loss: 0.6616 - accuracy: 0.7515 - val_loss: 0.6997 - val_accuracy: 0.7738 - lr: 0.0010 - 72s/epoch - 16ms/step
Epoch 46/100
4378/4378 - 72s - loss: 0.6612 - accuracy: 0.7525 - val_loss: 0.7360 - val_accuracy: 0.7334 - lr: 0.0010 - 72s/epoch - 16ms/step
Epoch 47/100
4378/4378 - 71s - loss: 0.6621 - accuracy: 0.7510 - val_loss: 0.8432 - val_accuracy: 0.6904 - lr: 0.0010 - 71s/epoch - 16ms/step
Epoch 48/100
4378/4378 - 71s - loss: 0.6623 - accuracy: 0.7511 - val_loss: 0.8074 - val_accuracy: 0.7160 - lr: 0.0010 - 71s/epoch - 16ms/step
Epoch 49/100
4378/4378 - 71s - loss: 0.6580 - accuracy: 0.7531 - val_loss: 0.8080 - val_accuracy: 0.7130 - lr: 0.0010 - 71s/epoch - 16ms/step
Epoch 50/100
4378/4378 - 72s - loss: 0.6631 - accuracy: 0.7513 - val_loss: 0.6416 - val_accuracy: 0.7930 - lr: 0.0010 - 72s/epoch - 16ms/step
Epoch 51/100
4378/4378 - 71s - loss: 0.6592 - accuracy: 0.7505 - val_loss: 0.7187 - val_accuracy: 0.7568 - lr: 0.0010 - 71s/epoch - 16ms/step
Epoch 52/100
4378/4378 - 72s - loss: 0.6577 - accuracy: 0.7510 - val_loss: 0.7774 - val_accuracy: 0.7389 - lr: 0.0010 - 72s/epoch - 16ms/step
Epoch 53/100
4378/4378 - 71s - loss: 0.6590 - accuracy: 0.7520 - val_loss: 0.8162 - val_accuracy: 0.7206 - lr: 0.0010 - 71s/epoch - 16ms/step
Epoch 54/100
4378/4378 - 72s - loss: 0.6619 - accuracy: 0.7495 - val_loss: 0.7958 - val_accuracy: 0.7329 - lr: 0.0010 - 72s/epoch - 16ms/step
Epoch 55/100
4378/4378 - 71s - loss: 0.6578 - accuracy: 0.7518 - val_loss: 0.7596 - val_accuracy: 0.7380 - lr: 0.0010 - 71s/epoch - 16ms/step
Epoch 56/100
4378/4378 - 72s - loss: 0.6554 - accuracy: 0.7525 - val_loss: 0.7046 - val_accuracy: 0.7580 - lr: 0.0010 - 72s/epoch - 16ms/step
Epoch 57/100
4378/4378 - 71s - loss: 0.6546 - accuracy: 0.7528 - val_loss: 0.6773 - val_accuracy: 0.7733 - lr: 0.0010 - 71s/epoch - 16ms/step
Epoch 58/100
4378/4378 - 73s - loss: 0.6570 - accuracy: 0.7534 - val_loss: 0.7309 - val_accuracy: 0.7479 - lr: 0.0010 - 73s/epoch - 17ms/step
Epoch 59/100
4378/4378 - 74s - loss: 0.6581 - accuracy: 0.7515 - val_loss: 0.6806 - val_accuracy: 0.7724 - lr: 0.0010 - 74s/epoch - 17ms/step
Epoch 60/100
4378/4378 - 73s - loss: 0.6574 - accuracy: 0.7514 - val_loss: 0.6946 - val_accuracy: 0.7750 - lr: 0.0010 - 73s/epoch - 17ms/step
Epoch 61/100
4378/4378 - 74s - loss: 0.6541 - accuracy: 0.7541 - val_loss: 0.8411 - val_accuracy: 0.7108 - lr: 0.0010 - 74s/epoch - 17ms/step
Epoch 62/100
4378/4378 - 73s - loss: 0.6553 - accuracy: 0.7541 - val_loss: 0.7430 - val_accuracy: 0.7400 - lr: 0.0010 - 73s/epoch - 17ms/step
Epoch 63/100
4378/4378 - 74s - loss: 0.6553 - accuracy: 0.7530 - val_loss: 0.8066 - val_accuracy: 0.7208 - lr: 0.0010 - 74s/epoch - 17ms/step
Epoch 64/100
4378/4378 - 74s - loss: 0.6562 - accuracy: 0.7516 - val_loss: 0.7604 - val_accuracy: 0.7421 - lr: 0.0010 - 74s/epoch - 17ms/step
Epoch 65/100
4378/4378 - 73s - loss: 0.6546 - accuracy: 0.7528 - val_loss: 0.7362 - val_accuracy: 0.7541 - lr: 0.0010 - 73s/epoch - 17ms/step
Epoch 66/100
4378/4378 - 74s - loss: 0.6539 - accuracy: 0.7540 - val_loss: 0.7362 - val_accuracy: 0.7541 - lr: 0.0010 - 74s/epoch - 17ms/step
Epoch 67/100
4378/4378 - 73s - loss: 0.6551 - accuracy: 0.7538 - val_loss: 0.7119 - val_accuracy: 0.7486 - lr: 0.0010 - 73s/epoch - 17ms/step
Epoch 68/100
4378/4378 - 73s - loss: 0.6535 - accuracy: 0.7549 - val_loss: 0.7469 - val_accuracy: 0.7368 - lr: 0.0010 - 73s/epoch - 17ms/step
Epoch 69/100
4378/4378 - 74s - loss: 0.6565 - accuracy: 0.7538 - val_loss: 0.7395 - val_accuracy: 0.7419 - lr: 0.0010 - 74s/epoch - 17ms/step
Epoch 70/100
4378/4378 - 75s - loss: 0.6537 - accuracy: 0.7544 - val_loss: 0.7674 - val_accuracy: 0.7222 - lr: 0.0010 - 75s/epoch - 17ms/step
Epoch 71/100
4378/4378 - 71s - loss: 0.6506 - accuracy: 0.7554 - val_loss: 0.8037 - val_accuracy: 0.7132 - lr: 0.0010 - 71s/epoch - 16ms/step
Epoch 72/100
4378/4378 - 71s - loss: 0.6534 - accuracy: 0.7550 - val_loss: 0.8432 - val_accuracy: 0.6903 - lr: 0.0010 - 71s/epoch - 16ms/step
Epoch 73/100
4378/4378 - 72s - loss: 0.6530 - accuracy: 0.7535 - val_loss: 0.8045 - val_accuracy: 0.7056 - lr: 0.0010 - 72s/epoch - 16ms/step
Epoch 74/100
4378/4378 - 72s - loss: 0.6520 - accuracy: 0.7543 - val_loss: 0.7330 - val_accuracy: 0.7484 - lr: 0.0010 - 72s/epoch - 16ms/step
Epoch 75/100
4378/4378 - 72s - loss: 0.6533 - accuracy: 0.7527 - val_loss: 0.6826 - val_accuracy: 0.7699 - lr: 0.0010 - 72s/epoch - 16ms/step
Epoch 76/100
4378/4378 - 72s - loss: 0.6521 - accuracy: 0.7539 - val_loss: 0.6678 - val_accuracy: 0.7557 - lr: 0.0010 - 72s/epoch - 16ms/step
Epoch 77/100
4378/4378 - 72s - loss: 0.6534 - accuracy: 0.7529 - val_loss: 0.7861 - val_accuracy: 0.7388 - lr: 0.0010 - 72s/epoch - 16ms/step
Epoch 78/100
4378/4378 - 72s - loss: 0.6523 - accuracy: 0.7549 - val_loss: 0.7214 - val_accuracy: 0.7412 - lr: 0.0010 - 72s/epoch - 16ms/step
Epoch 79/100
4378/4378 - 71s - loss: 0.6553 - accuracy: 0.7524 - val_loss: 0.7164 - val_accuracy: 0.7495 - lr: 0.0010 - 71s/epoch - 16ms/step
Epoch 80/100
4378/4378 - 72s - loss: 0.6502 - accuracy: 0.7556 - val_loss: 0.8348 - val_accuracy: 0.7012 - lr: 0.0010 - 72s/epoch - 16ms/step
Epoch 81/100
4378/4378 - 71s - loss: 0.6546 - accuracy: 0.7543 - val_loss: 0.7956 - val_accuracy: 0.7062 - lr: 0.0010 - 71s/epoch - 16ms/step
Epoch 82/100
4378/4378 - 71s - loss: 0.6527 - accuracy: 0.7544 - val_loss: 0.6665 - val_accuracy: 0.7765 - lr: 0.0010 - 71s/epoch - 16ms/step
Epoch 83/100
4378/4378 - 72s - loss: 0.6552 - accuracy: 0.7536 - val_loss: 0.8211 - val_accuracy: 0.6901 - lr: 0.0010 - 72s/epoch - 16ms/step
Epoch 84/100
4378/4378 - 72s - loss: 0.6540 - accuracy: 0.7550 - val_loss: 0.7001 - val_accuracy: 0.7516 - lr: 0.0010 - 72s/epoch - 16ms/step
Epoch 85/100
4378/4378 - 72s - loss: 0.6511 - accuracy: 0.7559 - val_loss: 0.7290 - val_accuracy: 0.7299 - lr: 0.0010 - 72s/epoch - 16ms/step
Epoch 86/100
4378/4378 - 72s - loss: 0.6535 - accuracy: 0.7531 - val_loss: 0.7725 - val_accuracy: 0.7033 - lr: 0.0010 - 72s/epoch - 16ms/step
Epoch 87/100
4378/4378 - 72s - loss: 0.6532 - accuracy: 0.7553 - val_loss: 0.7034 - val_accuracy: 0.7569 - lr: 0.0010 - 72s/epoch - 16ms/step
Epoch 88/100
4378/4378 - 72s - loss: 0.6512 - accuracy: 0.7562 - val_loss: 0.7814 - val_accuracy: 0.7041 - lr: 0.0010 - 72s/epoch - 16ms/step
Epoch 89/100
4378/4378 - 73s - loss: 0.6486 - accuracy: 0.7575 - val_loss: 0.7836 - val_accuracy: 0.7131 - lr: 0.0010 - 73s/epoch - 17ms/step
Epoch 90/100
4378/4378 - 73s - loss: 0.6513 - accuracy: 0.7560 - val_loss: 0.7743 - val_accuracy: 0.7235 - lr: 0.0010 - 73s/epoch - 17ms/step
Epoch 91/100
4378/4378 - 71s - loss: 0.6472 - accuracy: 0.7572 - val_loss: 0.7011 - val_accuracy: 0.7460 - lr: 0.0010 - 71s/epoch - 16ms/step
Epoch 92/100
4378/4378 - 72s - loss: 0.6491 - accuracy: 0.7566 - val_loss: 0.7431 - val_accuracy: 0.7263 - lr: 0.0010 - 72s/epoch - 16ms/step
Epoch 93/100
4378/4378 - 72s - loss: 0.6482 - accuracy: 0.7582 - val_loss: 0.7767 - val_accuracy: 0.7064 - lr: 0.0010 - 72s/epoch - 16ms/step
Epoch 94/100
4378/4378 - 72s - loss: 0.6508 - accuracy: 0.7558 - val_loss: 0.7229 - val_accuracy: 0.7482 - lr: 0.0010 - 72s/epoch - 16ms/step
Epoch 95/100
4378/4378 - 72s - loss: 0.6480 - accuracy: 0.7578 - val_loss: 0.7816 - val_accuracy: 0.7346 - lr: 0.0010 - 72s/epoch - 16ms/step
Epoch 96/100
4378/4378 - 71s - loss: 0.6483 - accuracy: 0.7578 - val_loss: 0.7070 - val_accuracy: 0.7557 - lr: 0.0010 - 71s/epoch - 16ms/step
Epoch 97/100
4378/4378 - 72s - loss: 0.6481 - accuracy: 0.7557 - val_loss: 0.7320 - val_accuracy: 0.7489 - lr: 0.0010 - 72s/epoch - 16ms/step
Epoch 98/100
4378/4378 - 72s - loss: 0.6473 - accuracy: 0.7571 - val_loss: 0.8424 - val_accuracy: 0.6869 - lr: 0.0010 - 72s/epoch - 16ms/step
Epoch 99/100
4378/4378 - 72s - loss: 0.6468 - accuracy: 0.7567 - val_loss: 0.7556 - val_accuracy: 0.7201 - lr: 0.0010 - 72s/epoch - 16ms/step
Epoch 100/100
4378/4378 - 71s - loss: 0.6473 - accuracy: 0.7563 - val_loss: 0.7195 - val_accuracy: 0.7287 - lr: 0.0010 - 71s/epoch - 16ms/step
fitting with batch size: 100
Epoch 1/100
876/876 - 21s - loss: 0.5894 - accuracy: 0.7783 - val_loss: 0.7171 - val_accuracy: 0.7317 - lr: 0.0010 - 21s/epoch - 24ms/step
Epoch 2/100
876/876 - 17s - loss: 0.5724 - accuracy: 0.7856 - val_loss: 0.7094 - val_accuracy: 0.7469 - lr: 0.0010 - 17s/epoch - 20ms/step
Epoch 3/100
876/876 - 18s - loss: 0.5675 - accuracy: 0.7872 - val_loss: 0.6818 - val_accuracy: 0.7517 - lr: 0.0010 - 18s/epoch - 20ms/step
Epoch 4/100
876/876 - 18s - loss: 0.5660 - accuracy: 0.7873 - val_loss: 0.6857 - val_accuracy: 0.7459 - lr: 0.0010 - 18s/epoch - 20ms/step
Epoch 5/100
876/876 - 18s - loss: 0.5667 - accuracy: 0.7878 - val_loss: 0.7318 - val_accuracy: 0.7421 - lr: 0.0010 - 18s/epoch - 20ms/step
Epoch 6/100
876/876 - 18s - loss: 0.5622 - accuracy: 0.7885 - val_loss: 0.7006 - val_accuracy: 0.7403 - lr: 0.0010 - 18s/epoch - 20ms/step
Epoch 7/100
876/876 - 18s - loss: 0.5621 - accuracy: 0.7876 - val_loss: 0.6829 - val_accuracy: 0.7494 - lr: 0.0010 - 18s/epoch - 20ms/step
Epoch 8/100
876/876 - 18s - loss: 0.5591 - accuracy: 0.7895 - val_loss: 0.6778 - val_accuracy: 0.7629 - lr: 0.0010 - 18s/epoch - 20ms/step
Epoch 9/100
876/876 - 18s - loss: 0.5524 - accuracy: 0.7931 - val_loss: 0.7200 - val_accuracy: 0.7222 - lr: 0.0010 - 18s/epoch - 20ms/step
Epoch 10/100
876/876 - 18s - loss: 0.5537 - accuracy: 0.7912 - val_loss: 0.7041 - val_accuracy: 0.7273 - lr: 0.0010 - 18s/epoch - 20ms/step
Epoch 11/100
876/876 - 18s - loss: 0.5506 - accuracy: 0.7926 - val_loss: 0.6972 - val_accuracy: 0.7427 - lr: 0.0010 - 18s/epoch - 20ms/step
Epoch 12/100
876/876 - 18s - loss: 0.5493 - accuracy: 0.7934 - val_loss: 0.7127 - val_accuracy: 0.7349 - lr: 0.0010 - 18s/epoch - 20ms/step
Epoch 13/100
876/876 - 18s - loss: 0.5497 - accuracy: 0.7927 - val_loss: 0.7304 - val_accuracy: 0.7209 - lr: 0.0010 - 18s/epoch - 20ms/step
Epoch 14/100
876/876 - 18s - loss: 0.5452 - accuracy: 0.7953 - val_loss: 0.7379 - val_accuracy: 0.7204 - lr: 0.0010 - 18s/epoch - 20ms/step
Epoch 15/100
876/876 - 18s - loss: 0.5445 - accuracy: 0.7948 - val_loss: 0.6985 - val_accuracy: 0.7361 - lr: 0.0010 - 18s/epoch - 20ms/step
Epoch 16/100
876/876 - 18s - loss: 0.5403 - accuracy: 0.7962 - val_loss: 0.7293 - val_accuracy: 0.7249 - lr: 0.0010 - 18s/epoch - 20ms/step
Epoch 17/100
876/876 - 18s - loss: 0.5431 - accuracy: 0.7958 - val_loss: 0.7199 - val_accuracy: 0.7302 - lr: 0.0010 - 18s/epoch - 20ms/step
Epoch 18/100
876/876 - 18s - loss: 0.5407 - accuracy: 0.7977 - val_loss: 0.7273 - val_accuracy: 0.7312 - lr: 0.0010 - 18s/epoch - 20ms/step
Epoch 19/100
876/876 - 18s - loss: 0.5395 - accuracy: 0.7968 - val_loss: 0.7271 - val_accuracy: 0.7176 - lr: 0.0010 - 18s/epoch - 20ms/step
Epoch 20/100
876/876 - 18s - loss: 0.5361 - accuracy: 0.7996 - val_loss: 0.6808 - val_accuracy: 0.7457 - lr: 0.0010 - 18s/epoch - 20ms/step
Epoch 21/100
876/876 - 18s - loss: 0.5356 - accuracy: 0.7983 - val_loss: 0.7465 - val_accuracy: 0.7086 - lr: 0.0010 - 18s/epoch - 20ms/step
Epoch 22/100
876/876 - 18s - loss: 0.5333 - accuracy: 0.7990 - val_loss: 0.6966 - val_accuracy: 0.7428 - lr: 0.0010 - 18s/epoch - 20ms/step
Epoch 23/100
876/876 - 18s - loss: 0.5357 - accuracy: 0.7999 - val_loss: 0.7213 - val_accuracy: 0.7208 - lr: 0.0010 - 18s/epoch - 20ms/step
Epoch 24/100
876/876 - 18s - loss: 0.5306 - accuracy: 0.8015 - val_loss: 0.6900 - val_accuracy: 0.7424 - lr: 0.0010 - 18s/epoch - 20ms/step
Epoch 25/100
876/876 - 18s - loss: 0.5319 - accuracy: 0.8007 - val_loss: 0.8050 - val_accuracy: 0.6902 - lr: 0.0010 - 18s/epoch - 20ms/step
Epoch 26/100
876/876 - 18s - loss: 0.5296 - accuracy: 0.8008 - val_loss: 0.6777 - val_accuracy: 0.7427 - lr: 0.0010 - 18s/epoch - 20ms/step
Epoch 27/100
876/876 - 18s - loss: 0.5305 - accuracy: 0.7999 - val_loss: 0.7328 - val_accuracy: 0.7252 - lr: 0.0010 - 18s/epoch - 20ms/step
Epoch 28/100
876/876 - 18s - loss: 0.5284 - accuracy: 0.8012 - val_loss: 0.7156 - val_accuracy: 0.7272 - lr: 0.0010 - 18s/epoch - 20ms/step
Epoch 29/100
876/876 - 18s - loss: 0.5292 - accuracy: 0.8021 - val_loss: 0.7243 - val_accuracy: 0.7137 - lr: 0.0010 - 18s/epoch - 20ms/step
Epoch 30/100
876/876 - 18s - loss: 0.5241 - accuracy: 0.8031 - val_loss: 0.7639 - val_accuracy: 0.7065 - lr: 0.0010 - 18s/epoch - 20ms/step
Epoch 31/100
876/876 - 17s - loss: 0.5248 - accuracy: 0.8020 - val_loss: 0.6958 - val_accuracy: 0.7399 - lr: 0.0010 - 17s/epoch - 20ms/step
Epoch 32/100
876/876 - 18s - loss: 0.5272 - accuracy: 0.8028 - val_loss: 0.7109 - val_accuracy: 0.7260 - lr: 0.0010 - 18s/epoch - 20ms/step
Epoch 33/100
876/876 - 18s - loss: 0.5253 - accuracy: 0.8027 - val_loss: 0.7659 - val_accuracy: 0.7161 - lr: 0.0010 - 18s/epoch - 20ms/step
Epoch 34/100
876/876 - 18s - loss: 0.5236 - accuracy: 0.8032 - val_loss: 0.7245 - val_accuracy: 0.7249 - lr: 0.0010 - 18s/epoch - 20ms/step
Epoch 35/100
876/876 - 18s - loss: 0.5221 - accuracy: 0.8044 - val_loss: 0.7034 - val_accuracy: 0.7392 - lr: 0.0010 - 18s/epoch - 20ms/step
Epoch 36/100
876/876 - 18s - loss: 0.5248 - accuracy: 0.8041 - val_loss: 0.7030 - val_accuracy: 0.7406 - lr: 0.0010 - 18s/epoch - 20ms/step
Epoch 37/100
876/876 - 18s - loss: 0.5212 - accuracy: 0.8043 - val_loss: 0.7269 - val_accuracy: 0.7136 - lr: 0.0010 - 18s/epoch - 20ms/step
Epoch 38/100
876/876 - 18s - loss: 0.5214 - accuracy: 0.8051 - val_loss: 0.7213 - val_accuracy: 0.7273 - lr: 0.0010 - 18s/epoch - 20ms/step
Epoch 39/100
876/876 - 18s - loss: 0.5211 - accuracy: 0.8045 - val_loss: 0.7065 - val_accuracy: 0.7313 - lr: 0.0010 - 18s/epoch - 20ms/step
Epoch 40/100
876/876 - 17s - loss: 0.5177 - accuracy: 0.8051 - val_loss: 0.7161 - val_accuracy: 0.7335 - lr: 0.0010 - 17s/epoch - 20ms/step
Epoch 41/100
876/876 - 18s - loss: 0.5183 - accuracy: 0.8053 - val_loss: 0.7548 - val_accuracy: 0.7095 - lr: 0.0010 - 18s/epoch - 20ms/step
Epoch 42/100
876/876 - 18s - loss: 0.5168 - accuracy: 0.8074 - val_loss: 0.7630 - val_accuracy: 0.7073 - lr: 0.0010 - 18s/epoch - 20ms/step
Epoch 43/100
876/876 - 18s - loss: 0.5197 - accuracy: 0.8050 - val_loss: 0.6878 - val_accuracy: 0.7426 - lr: 0.0010 - 18s/epoch - 20ms/step
Epoch 44/100
876/876 - 18s - loss: 0.5166 - accuracy: 0.8072 - val_loss: 0.8080 - val_accuracy: 0.7018 - lr: 0.0010 - 18s/epoch - 20ms/step
Epoch 45/100
876/876 - 18s - loss: 0.5178 - accuracy: 0.8058 - val_loss: 0.7340 - val_accuracy: 0.7271 - lr: 0.0010 - 18s/epoch - 20ms/step
Epoch 46/100
876/876 - 18s - loss: 0.5163 - accuracy: 0.8065 - val_loss: 0.7075 - val_accuracy: 0.7387 - lr: 0.0010 - 18s/epoch - 20ms/step
Epoch 47/100
876/876 - 18s - loss: 0.5156 - accuracy: 0.8077 - val_loss: 0.7729 - val_accuracy: 0.7100 - lr: 0.0010 - 18s/epoch - 20ms/step
Epoch 48/100
876/876 - 18s - loss: 0.5135 - accuracy: 0.8074 - val_loss: 0.7409 - val_accuracy: 0.7250 - lr: 0.0010 - 18s/epoch - 20ms/step
Epoch 49/100
876/876 - 18s - loss: 0.5145 - accuracy: 0.8070 - val_loss: 0.7545 - val_accuracy: 0.7159 - lr: 0.0010 - 18s/epoch - 20ms/step
Epoch 50/100
876/876 - 18s - loss: 0.5120 - accuracy: 0.8088 - val_loss: 0.7746 - val_accuracy: 0.6926 - lr: 0.0010 - 18s/epoch - 20ms/step
Epoch 51/100
876/876 - 18s - loss: 0.5145 - accuracy: 0.8077 - val_loss: 0.7410 - val_accuracy: 0.7166 - lr: 0.0010 - 18s/epoch - 20ms/step
Epoch 52/100
876/876 - 18s - loss: 0.5120 - accuracy: 0.8071 - val_loss: 0.7920 - val_accuracy: 0.6997 - lr: 0.0010 - 18s/epoch - 20ms/step
Epoch 53/100
876/876 - 18s - loss: 0.5108 - accuracy: 0.8089 - val_loss: 0.7547 - val_accuracy: 0.7193 - lr: 0.0010 - 18s/epoch - 20ms/step
Epoch 54/100
876/876 - 18s - loss: 0.5123 - accuracy: 0.8082 - val_loss: 0.7188 - val_accuracy: 0.7399 - lr: 0.0010 - 18s/epoch - 20ms/step
Epoch 55/100
876/876 - 18s - loss: 0.5089 - accuracy: 0.8086 - val_loss: 0.7180 - val_accuracy: 0.7260 - lr: 0.0010 - 18s/epoch - 20ms/step
Epoch 56/100
876/876 - 18s - loss: 0.5130 - accuracy: 0.8078 - val_loss: 0.7379 - val_accuracy: 0.7204 - lr: 0.0010 - 18s/epoch - 20ms/step
Epoch 57/100
876/876 - 18s - loss: 0.5094 - accuracy: 0.8097 - val_loss: 0.7149 - val_accuracy: 0.7300 - lr: 0.0010 - 18s/epoch - 20ms/step
Epoch 58/100
876/876 - 17s - loss: 0.5085 - accuracy: 0.8093 - val_loss: 0.7295 - val_accuracy: 0.7245 - lr: 0.0010 - 17s/epoch - 20ms/step
Epoch 59/100
876/876 - 18s - loss: 0.5083 - accuracy: 0.8093 - val_loss: 0.7067 - val_accuracy: 0.7305 - lr: 0.0010 - 18s/epoch - 20ms/step
Epoch 60/100
876/876 - 18s - loss: 0.5137 - accuracy: 0.8074 - val_loss: 0.7465 - val_accuracy: 0.7146 - lr: 0.0010 - 18s/epoch - 20ms/step
Epoch 61/100
876/876 - 18s - loss: 0.5067 - accuracy: 0.8104 - val_loss: 0.7013 - val_accuracy: 0.7412 - lr: 0.0010 - 18s/epoch - 20ms/step
Epoch 62/100
876/876 - 18s - loss: 0.5081 - accuracy: 0.8096 - val_loss: 0.7180 - val_accuracy: 0.7320 - lr: 0.0010 - 18s/epoch - 20ms/step
Epoch 63/100
876/876 - 18s - loss: 0.5051 - accuracy: 0.8113 - val_loss: 0.7214 - val_accuracy: 0.7247 - lr: 0.0010 - 18s/epoch - 20ms/step
Epoch 64/100
876/876 - 18s - loss: 0.5041 - accuracy: 0.8113 - val_loss: 0.7047 - val_accuracy: 0.7304 - lr: 0.0010 - 18s/epoch - 20ms/step
Epoch 65/100
876/876 - 18s - loss: 0.5064 - accuracy: 0.8097 - val_loss: 0.7386 - val_accuracy: 0.7025 - lr: 0.0010 - 18s/epoch - 20ms/step
Epoch 66/100
876/876 - 18s - loss: 0.5051 - accuracy: 0.8106 - val_loss: 0.7364 - val_accuracy: 0.7151 - lr: 0.0010 - 18s/epoch - 20ms/step
Epoch 67/100
876/876 - 18s - loss: 0.5050 - accuracy: 0.8115 - val_loss: 0.6879 - val_accuracy: 0.7499 - lr: 0.0010 - 18s/epoch - 20ms/step
Epoch 68/100
876/876 - 18s - loss: 0.5072 - accuracy: 0.8106 - val_loss: 0.7114 - val_accuracy: 0.7297 - lr: 0.0010 - 18s/epoch - 20ms/step
Epoch 69/100
876/876 - 18s - loss: 0.5067 - accuracy: 0.8109 - val_loss: 0.7532 - val_accuracy: 0.7101 - lr: 0.0010 - 18s/epoch - 20ms/step
Epoch 70/100
876/876 - 18s - loss: 0.5035 - accuracy: 0.8111 - val_loss: 0.7007 - val_accuracy: 0.7283 - lr: 0.0010 - 18s/epoch - 20ms/step
Epoch 71/100
876/876 - 18s - loss: 0.5023 - accuracy: 0.8119 - val_loss: 0.7066 - val_accuracy: 0.7320 - lr: 0.0010 - 18s/epoch - 20ms/step
Epoch 72/100
876/876 - 18s - loss: 0.5022 - accuracy: 0.8121 - val_loss: 0.7278 - val_accuracy: 0.7206 - lr: 0.0010 - 18s/epoch - 20ms/step
Epoch 73/100
876/876 - 18s - loss: 0.4975 - accuracy: 0.8145 - val_loss: 0.6849 - val_accuracy: 0.7442 - lr: 0.0010 - 18s/epoch - 20ms/step
Epoch 74/100
876/876 - 18s - loss: 0.5016 - accuracy: 0.8120 - val_loss: 0.7169 - val_accuracy: 0.7260 - lr: 0.0010 - 18s/epoch - 20ms/step
Epoch 75/100
876/876 - 18s - loss: 0.5038 - accuracy: 0.8126 - val_loss: 0.7457 - val_accuracy: 0.7245 - lr: 0.0010 - 18s/epoch - 20ms/step
Epoch 76/100
876/876 - 18s - loss: 0.4995 - accuracy: 0.8122 - val_loss: 0.7261 - val_accuracy: 0.7138 - lr: 0.0010 - 18s/epoch - 20ms/step
Epoch 77/100
876/876 - 18s - loss: 0.4999 - accuracy: 0.8128 - val_loss: 0.7982 - val_accuracy: 0.6871 - lr: 0.0010 - 18s/epoch - 20ms/step
Epoch 78/100
876/876 - 18s - loss: 0.4999 - accuracy: 0.8133 - val_loss: 0.7649 - val_accuracy: 0.7098 - lr: 0.0010 - 18s/epoch - 20ms/step
Epoch 79/100
876/876 - 18s - loss: 0.4981 - accuracy: 0.8141 - val_loss: 0.7158 - val_accuracy: 0.7255 - lr: 0.0010 - 18s/epoch - 20ms/step
Epoch 80/100
876/876 - 18s - loss: 0.4958 - accuracy: 0.8133 - val_loss: 0.7404 - val_accuracy: 0.7142 - lr: 0.0010 - 18s/epoch - 20ms/step
Epoch 81/100
876/876 - 18s - loss: 0.4970 - accuracy: 0.8144 - val_loss: 0.7438 - val_accuracy: 0.7288 - lr: 0.0010 - 18s/epoch - 20ms/step
Epoch 82/100
876/876 - 18s - loss: 0.4946 - accuracy: 0.8151 - val_loss: 0.7139 - val_accuracy: 0.7267 - lr: 0.0010 - 18s/epoch - 20ms/step
Epoch 83/100
876/876 - 18s - loss: 0.4961 - accuracy: 0.8150 - val_loss: 0.7957 - val_accuracy: 0.6966 - lr: 0.0010 - 18s/epoch - 20ms/step
Epoch 84/100
876/876 - 18s - loss: 0.4988 - accuracy: 0.8141 - val_loss: 0.7210 - val_accuracy: 0.7263 - lr: 0.0010 - 18s/epoch - 20ms/step
Epoch 85/100
876/876 - 18s - loss: 0.4971 - accuracy: 0.8140 - val_loss: 0.6836 - val_accuracy: 0.7451 - lr: 0.0010 - 18s/epoch - 20ms/step
Epoch 86/100
876/876 - 18s - loss: 0.4971 - accuracy: 0.8141 - val_loss: 0.7385 - val_accuracy: 0.7193 - lr: 0.0010 - 18s/epoch - 20ms/step
Epoch 87/100
876/876 - 18s - loss: 0.4970 - accuracy: 0.8145 - val_loss: 0.7559 - val_accuracy: 0.7117 - lr: 0.0010 - 18s/epoch - 20ms/step
Epoch 88/100
876/876 - 18s - loss: 0.4962 - accuracy: 0.8144 - val_loss: 0.6886 - val_accuracy: 0.7490 - lr: 0.0010 - 18s/epoch - 20ms/step
Epoch 89/100
876/876 - 18s - loss: 0.4943 - accuracy: 0.8155 - val_loss: 0.7117 - val_accuracy: 0.7300 - lr: 0.0010 - 18s/epoch - 20ms/step
Epoch 90/100
876/876 - 18s - loss: 0.4932 - accuracy: 0.8158 - val_loss: 0.7232 - val_accuracy: 0.7241 - lr: 0.0010 - 18s/epoch - 20ms/step
Epoch 91/100
876/876 - 18s - loss: 0.4943 - accuracy: 0.8162 - val_loss: 0.7436 - val_accuracy: 0.7167 - lr: 0.0010 - 18s/epoch - 20ms/step
Epoch 92/100
876/876 - 18s - loss: 0.4934 - accuracy: 0.8146 - val_loss: 0.7475 - val_accuracy: 0.7230 - lr: 0.0010 - 18s/epoch - 20ms/step
Epoch 93/100
876/876 - 18s - loss: 0.4939 - accuracy: 0.8157 - val_loss: 0.7895 - val_accuracy: 0.7049 - lr: 0.0010 - 18s/epoch - 20ms/step
Epoch 94/100
876/876 - 18s - loss: 0.4930 - accuracy: 0.8152 - val_loss: 0.7435 - val_accuracy: 0.7300 - lr: 0.0010 - 18s/epoch - 20ms/step
Epoch 95/100
876/876 - 18s - loss: 0.4915 - accuracy: 0.8165 - val_loss: 0.7280 - val_accuracy: 0.7226 - lr: 0.0010 - 18s/epoch - 20ms/step
Epoch 96/100
876/876 - 18s - loss: 0.4915 - accuracy: 0.8167 - val_loss: 0.7425 - val_accuracy: 0.7313 - lr: 0.0010 - 18s/epoch - 20ms/step
Epoch 97/100
876/876 - 18s - loss: 0.4915 - accuracy: 0.8163 - val_loss: 0.7307 - val_accuracy: 0.7271 - lr: 0.0010 - 18s/epoch - 20ms/step
Epoch 98/100
876/876 - 18s - loss: 0.4895 - accuracy: 0.8163 - val_loss: 0.6736 - val_accuracy: 0.7524 - lr: 0.0010 - 18s/epoch - 20ms/step
Epoch 99/100
876/876 - 18s - loss: 0.4917 - accuracy: 0.8160 - val_loss: 0.7195 - val_accuracy: 0.7389 - lr: 0.0010 - 18s/epoch - 20ms/step
Epoch 100/100
876/876 - 18s - loss: 0.4883 - accuracy: 0.8172 - val_loss: 0.6901 - val_accuracy: 0.7359 - lr: 0.0010 - 18s/epoch - 20ms/step
fitting with batch size: 500
Epoch 1/100
176/176 - 11s - loss: 0.4513 - accuracy: 0.8322 - val_loss: 0.7280 - val_accuracy: 0.7262 - lr: 0.0010 - 11s/epoch - 63ms/step
Epoch 2/100
176/176 - 9s - loss: 0.4328 - accuracy: 0.8397 - val_loss: 0.7411 - val_accuracy: 0.7215 - lr: 0.0010 - 9s/epoch - 50ms/step
Epoch 3/100
176/176 - 9s - loss: 0.4278 - accuracy: 0.8425 - val_loss: 0.7497 - val_accuracy: 0.7167 - lr: 0.0010 - 9s/epoch - 50ms/step
Epoch 4/100
176/176 - 9s - loss: 0.4259 - accuracy: 0.8435 - val_loss: 0.7674 - val_accuracy: 0.7052 - lr: 0.0010 - 9s/epoch - 50ms/step
Epoch 5/100
176/176 - 9s - loss: 0.4238 - accuracy: 0.8431 - val_loss: 0.7138 - val_accuracy: 0.7363 - lr: 0.0010 - 9s/epoch - 50ms/step
Epoch 6/100
176/176 - 9s - loss: 0.4221 - accuracy: 0.8460 - val_loss: 0.7250 - val_accuracy: 0.7255 - lr: 0.0010 - 9s/epoch - 50ms/step
Epoch 7/100
176/176 - 9s - loss: 0.4220 - accuracy: 0.8452 - val_loss: 0.7622 - val_accuracy: 0.7120 - lr: 0.0010 - 9s/epoch - 50ms/step
Epoch 8/100
176/176 - 9s - loss: 0.4209 - accuracy: 0.8446 - val_loss: 0.7182 - val_accuracy: 0.7284 - lr: 0.0010 - 9s/epoch - 50ms/step
Epoch 9/100
176/176 - 9s - loss: 0.4196 - accuracy: 0.8450 - val_loss: 0.7316 - val_accuracy: 0.7188 - lr: 0.0010 - 9s/epoch - 50ms/step
Epoch 10/100
176/176 - 9s - loss: 0.4203 - accuracy: 0.8456 - val_loss: 0.7232 - val_accuracy: 0.7246 - lr: 0.0010 - 9s/epoch - 50ms/step
Epoch 11/100
176/176 - 9s - loss: 0.4199 - accuracy: 0.8448 - val_loss: 0.7791 - val_accuracy: 0.7034 - lr: 0.0010 - 9s/epoch - 50ms/step
Epoch 12/100
176/176 - 9s - loss: 0.4190 - accuracy: 0.8455 - val_loss: 0.7338 - val_accuracy: 0.7242 - lr: 0.0010 - 9s/epoch - 50ms/step
Epoch 13/100
176/176 - 9s - loss: 0.4206 - accuracy: 0.8451 - val_loss: 0.7563 - val_accuracy: 0.7109 - lr: 0.0010 - 9s/epoch - 50ms/step
Epoch 14/100
176/176 - 9s - loss: 0.4218 - accuracy: 0.8448 - val_loss: 0.7348 - val_accuracy: 0.7218 - lr: 0.0010 - 9s/epoch - 50ms/step
Epoch 15/100
176/176 - 9s - loss: 0.4224 - accuracy: 0.8463 - val_loss: 0.7492 - val_accuracy: 0.7145 - lr: 0.0010 - 9s/epoch - 50ms/step
Epoch 16/100
176/176 - 9s - loss: 0.4203 - accuracy: 0.8454 - val_loss: 0.7415 - val_accuracy: 0.7160 - lr: 0.0010 - 9s/epoch - 50ms/step
Epoch 17/100
176/176 - 9s - loss: 0.4223 - accuracy: 0.8441 - val_loss: 0.7473 - val_accuracy: 0.7141 - lr: 0.0010 - 9s/epoch - 50ms/step
Epoch 18/100
176/176 - 9s - loss: 0.4227 - accuracy: 0.8444 - val_loss: 0.7126 - val_accuracy: 0.7294 - lr: 0.0010 - 9s/epoch - 50ms/step
Epoch 19/100
176/176 - 9s - loss: 0.4187 - accuracy: 0.8454 - val_loss: 0.7508 - val_accuracy: 0.7084 - lr: 0.0010 - 9s/epoch - 50ms/step
Epoch 20/100
176/176 - 9s - loss: 0.4201 - accuracy: 0.8456 - val_loss: 0.7674 - val_accuracy: 0.7085 - lr: 0.0010 - 9s/epoch - 50ms/step
Epoch 21/100
176/176 - 9s - loss: 0.4197 - accuracy: 0.8458 - val_loss: 0.7229 - val_accuracy: 0.7270 - lr: 0.0010 - 9s/epoch - 50ms/step
Epoch 22/100
176/176 - 9s - loss: 0.4224 - accuracy: 0.8444 - val_loss: 0.7318 - val_accuracy: 0.7245 - lr: 0.0010 - 9s/epoch - 50ms/step
Epoch 23/100
176/176 - 9s - loss: 0.4174 - accuracy: 0.8463 - val_loss: 0.7689 - val_accuracy: 0.7053 - lr: 0.0010 - 9s/epoch - 50ms/step
Epoch 24/100
176/176 - 9s - loss: 0.4189 - accuracy: 0.8458 - val_loss: 0.7162 - val_accuracy: 0.7263 - lr: 0.0010 - 9s/epoch - 50ms/step
Epoch 25/100
176/176 - 9s - loss: 0.4191 - accuracy: 0.8449 - val_loss: 0.7217 - val_accuracy: 0.7275 - lr: 0.0010 - 9s/epoch - 50ms/step
Epoch 26/100
176/176 - 9s - loss: 0.4179 - accuracy: 0.8464 - val_loss: 0.7204 - val_accuracy: 0.7218 - lr: 0.0010 - 9s/epoch - 50ms/step
Epoch 27/100
176/176 - 9s - loss: 0.4152 - accuracy: 0.8473 - val_loss: 0.7441 - val_accuracy: 0.7229 - lr: 0.0010 - 9s/epoch - 49ms/step
Epoch 28/100
176/176 - 9s - loss: 0.4146 - accuracy: 0.8463 - val_loss: 0.7539 - val_accuracy: 0.7077 - lr: 0.0010 - 9s/epoch - 49ms/step
Epoch 29/100
176/176 - 9s - loss: 0.4150 - accuracy: 0.8457 - val_loss: 0.7669 - val_accuracy: 0.7085 - lr: 0.0010 - 9s/epoch - 50ms/step
Epoch 30/100
176/176 - 9s - loss: 0.4173 - accuracy: 0.8468 - val_loss: 0.7502 - val_accuracy: 0.7154 - lr: 0.0010 - 9s/epoch - 50ms/step
Epoch 31/100
176/176 - 9s - loss: 0.4164 - accuracy: 0.8462 - val_loss: 0.7248 - val_accuracy: 0.7208 - lr: 0.0010 - 9s/epoch - 50ms/step
Epoch 32/100
176/176 - 9s - loss: 0.4139 - accuracy: 0.8486 - val_loss: 0.7359 - val_accuracy: 0.7246 - lr: 0.0010 - 9s/epoch - 50ms/step
Epoch 33/100
176/176 - 9s - loss: 0.4128 - accuracy: 0.8479 - val_loss: 0.7695 - val_accuracy: 0.7056 - lr: 0.0010 - 9s/epoch - 50ms/step
Epoch 34/100
176/176 - 9s - loss: 0.4136 - accuracy: 0.8487 - val_loss: 0.7492 - val_accuracy: 0.7153 - lr: 0.0010 - 9s/epoch - 49ms/step
Epoch 35/100
176/176 - 9s - loss: 0.4130 - accuracy: 0.8494 - val_loss: 0.7574 - val_accuracy: 0.7076 - lr: 0.0010 - 9s/epoch - 50ms/step
Epoch 36/100
176/176 - 9s - loss: 0.4229 - accuracy: 0.8440 - val_loss: 0.7121 - val_accuracy: 0.7325 - lr: 0.0010 - 9s/epoch - 50ms/step
Epoch 37/100
176/176 - 9s - loss: 0.4122 - accuracy: 0.8488 - val_loss: 0.7638 - val_accuracy: 0.7120 - lr: 0.0010 - 9s/epoch - 50ms/step
Epoch 38/100
176/176 - 9s - loss: 0.4104 - accuracy: 0.8495 - val_loss: 0.7593 - val_accuracy: 0.7093 - lr: 0.0010 - 9s/epoch - 50ms/step
Epoch 39/100
176/176 - 9s - loss: 0.4096 - accuracy: 0.8493 - val_loss: 0.7317 - val_accuracy: 0.7246 - lr: 0.0010 - 9s/epoch - 50ms/step
Epoch 40/100
176/176 - 9s - loss: 0.4092 - accuracy: 0.8495 - val_loss: 0.7286 - val_accuracy: 0.7246 - lr: 0.0010 - 9s/epoch - 50ms/step
Epoch 41/100
176/176 - 9s - loss: 0.4096 - accuracy: 0.8500 - val_loss: 0.7219 - val_accuracy: 0.7294 - lr: 0.0010 - 9s/epoch - 50ms/step
Epoch 42/100
176/176 - 9s - loss: 0.4115 - accuracy: 0.8492 - val_loss: 0.7361 - val_accuracy: 0.7197 - lr: 0.0010 - 9s/epoch - 50ms/step
Epoch 43/100
176/176 - 9s - loss: 0.4082 - accuracy: 0.8498 - val_loss: 0.7520 - val_accuracy: 0.7151 - lr: 0.0010 - 9s/epoch - 50ms/step
Epoch 44/100
176/176 - 9s - loss: 0.4080 - accuracy: 0.8496 - val_loss: 0.7278 - val_accuracy: 0.7260 - lr: 0.0010 - 9s/epoch - 50ms/step
Epoch 45/100
176/176 - 9s - loss: 0.4081 - accuracy: 0.8501 - val_loss: 0.7797 - val_accuracy: 0.6955 - lr: 0.0010 - 9s/epoch - 50ms/step
Epoch 46/100
176/176 - 9s - loss: 0.4124 - accuracy: 0.8476 - val_loss: 0.7779 - val_accuracy: 0.7027 - lr: 0.0010 - 9s/epoch - 50ms/step
Epoch 47/100
176/176 - 9s - loss: 0.4039 - accuracy: 0.8521 - val_loss: 0.7368 - val_accuracy: 0.7186 - lr: 0.0010 - 9s/epoch - 50ms/step
Epoch 48/100
176/176 - 9s - loss: 0.4069 - accuracy: 0.8507 - val_loss: 0.7960 - val_accuracy: 0.6962 - lr: 0.0010 - 9s/epoch - 50ms/step
Epoch 49/100
176/176 - 9s - loss: 0.4093 - accuracy: 0.8500 - val_loss: 0.7766 - val_accuracy: 0.7048 - lr: 0.0010 - 9s/epoch - 50ms/step
Epoch 50/100
176/176 - 9s - loss: 0.4085 - accuracy: 0.8503 - val_loss: 0.7482 - val_accuracy: 0.7147 - lr: 0.0010 - 9s/epoch - 50ms/step
Epoch 51/100
176/176 - 9s - loss: 0.4088 - accuracy: 0.8490 - val_loss: 0.7361 - val_accuracy: 0.7195 - lr: 0.0010 - 9s/epoch - 50ms/step
Epoch 52/100
176/176 - 9s - loss: 0.4055 - accuracy: 0.8506 - val_loss: 0.7697 - val_accuracy: 0.7032 - lr: 0.0010 - 9s/epoch - 50ms/step
Epoch 53/100
176/176 - 9s - loss: 0.4042 - accuracy: 0.8519 - val_loss: 0.7457 - val_accuracy: 0.7174 - lr: 0.0010 - 9s/epoch - 50ms/step
Epoch 54/100
176/176 - 9s - loss: 0.4056 - accuracy: 0.8506 - val_loss: 0.7673 - val_accuracy: 0.7054 - lr: 0.0010 - 9s/epoch - 50ms/step
Epoch 55/100
176/176 - 9s - loss: 0.4028 - accuracy: 0.8529 - val_loss: 0.7480 - val_accuracy: 0.7141 - lr: 0.0010 - 9s/epoch - 50ms/step
Epoch 56/100
176/176 - 9s - loss: 0.4050 - accuracy: 0.8517 - val_loss: 0.7593 - val_accuracy: 0.7053 - lr: 0.0010 - 9s/epoch - 50ms/step
Epoch 57/100
176/176 - 9s - loss: 0.4051 - accuracy: 0.8503 - val_loss: 0.7513 - val_accuracy: 0.7086 - lr: 0.0010 - 9s/epoch - 50ms/step
Epoch 58/100
176/176 - 9s - loss: 0.4030 - accuracy: 0.8526 - val_loss: 0.7770 - val_accuracy: 0.7076 - lr: 0.0010 - 9s/epoch - 50ms/step
Epoch 59/100
176/176 - 9s - loss: 0.4043 - accuracy: 0.8522 - val_loss: 0.7446 - val_accuracy: 0.7120 - lr: 0.0010 - 9s/epoch - 49ms/step
Epoch 60/100
176/176 - 9s - loss: 0.4036 - accuracy: 0.8522 - val_loss: 0.7377 - val_accuracy: 0.7156 - lr: 0.0010 - 9s/epoch - 50ms/step
Epoch 61/100
176/176 - 9s - loss: 0.4030 - accuracy: 0.8522 - val_loss: 0.7561 - val_accuracy: 0.7077 - lr: 0.0010 - 9s/epoch - 50ms/step
Epoch 62/100
176/176 - 9s - loss: 0.3999 - accuracy: 0.8535 - val_loss: 0.7461 - val_accuracy: 0.7138 - lr: 0.0010 - 9s/epoch - 50ms/step
Epoch 63/100
176/176 - 9s - loss: 0.4044 - accuracy: 0.8507 - val_loss: 0.7578 - val_accuracy: 0.7087 - lr: 0.0010 - 9s/epoch - 50ms/step
Epoch 64/100
176/176 - 9s - loss: 0.4009 - accuracy: 0.8540 - val_loss: 0.7323 - val_accuracy: 0.7270 - lr: 0.0010 - 9s/epoch - 50ms/step
Epoch 65/100
176/176 - 9s - loss: 0.4015 - accuracy: 0.8527 - val_loss: 0.7567 - val_accuracy: 0.7093 - lr: 0.0010 - 9s/epoch - 50ms/step
Epoch 66/100
176/176 - 9s - loss: 0.3978 - accuracy: 0.8540 - val_loss: 0.7288 - val_accuracy: 0.7227 - lr: 0.0010 - 9s/epoch - 50ms/step
Epoch 67/100
176/176 - 9s - loss: 0.3998 - accuracy: 0.8528 - val_loss: 0.7853 - val_accuracy: 0.6947 - lr: 0.0010 - 9s/epoch - 50ms/step
Epoch 68/100
176/176 - 9s - loss: 0.4014 - accuracy: 0.8523 - val_loss: 0.7616 - val_accuracy: 0.7082 - lr: 0.0010 - 9s/epoch - 50ms/step
Epoch 69/100
176/176 - 9s - loss: 0.3979 - accuracy: 0.8536 - val_loss: 0.7965 - val_accuracy: 0.6913 - lr: 0.0010 - 9s/epoch - 50ms/step
Epoch 70/100
176/176 - 9s - loss: 0.3994 - accuracy: 0.8526 - val_loss: 0.7283 - val_accuracy: 0.7251 - lr: 0.0010 - 9s/epoch - 50ms/step
Epoch 71/100
176/176 - 9s - loss: 0.4007 - accuracy: 0.8524 - val_loss: 0.7643 - val_accuracy: 0.7083 - lr: 0.0010 - 9s/epoch - 50ms/step
Epoch 72/100
176/176 - 9s - loss: 0.3983 - accuracy: 0.8542 - val_loss: 0.7399 - val_accuracy: 0.7236 - lr: 0.0010 - 9s/epoch - 50ms/step
Epoch 73/100
176/176 - 9s - loss: 0.4023 - accuracy: 0.8521 - val_loss: 0.7910 - val_accuracy: 0.6995 - lr: 0.0010 - 9s/epoch - 50ms/step
Epoch 74/100
176/176 - 9s - loss: 0.3999 - accuracy: 0.8537 - val_loss: 0.7566 - val_accuracy: 0.7151 - lr: 0.0010 - 9s/epoch - 50ms/step
Epoch 75/100
176/176 - 9s - loss: 0.4028 - accuracy: 0.8524 - val_loss: 0.7803 - val_accuracy: 0.6952 - lr: 0.0010 - 9s/epoch - 50ms/step
Epoch 76/100
176/176 - 9s - loss: 0.3993 - accuracy: 0.8531 - val_loss: 0.7667 - val_accuracy: 0.7059 - lr: 0.0010 - 9s/epoch - 50ms/step
Epoch 77/100
176/176 - 9s - loss: 0.3960 - accuracy: 0.8560 - val_loss: 0.7671 - val_accuracy: 0.7133 - lr: 0.0010 - 9s/epoch - 50ms/step
Epoch 78/100
176/176 - 9s - loss: 0.3967 - accuracy: 0.8547 - val_loss: 0.7691 - val_accuracy: 0.7078 - lr: 0.0010 - 9s/epoch - 50ms/step
Epoch 79/100
176/176 - 9s - loss: 0.3968 - accuracy: 0.8540 - val_loss: 0.7759 - val_accuracy: 0.7021 - lr: 0.0010 - 9s/epoch - 50ms/step
Epoch 80/100
176/176 - 9s - loss: 0.3981 - accuracy: 0.8531 - val_loss: 0.7723 - val_accuracy: 0.7121 - lr: 0.0010 - 9s/epoch - 50ms/step
Epoch 81/100
176/176 - 9s - loss: 0.3993 - accuracy: 0.8530 - val_loss: 0.7378 - val_accuracy: 0.7208 - lr: 0.0010 - 9s/epoch - 50ms/step
Epoch 82/100
176/176 - 9s - loss: 0.3944 - accuracy: 0.8548 - val_loss: 0.7494 - val_accuracy: 0.7083 - lr: 0.0010 - 9s/epoch - 49ms/step
Epoch 83/100
176/176 - 9s - loss: 0.3957 - accuracy: 0.8552 - val_loss: 0.7967 - val_accuracy: 0.6972 - lr: 0.0010 - 9s/epoch - 50ms/step
Epoch 84/100
176/176 - 9s - loss: 0.3946 - accuracy: 0.8562 - val_loss: 0.7754 - val_accuracy: 0.7098 - lr: 0.0010 - 9s/epoch - 50ms/step
Epoch 85/100
176/176 - 9s - loss: 0.3920 - accuracy: 0.8567 - val_loss: 0.7745 - val_accuracy: 0.7028 - lr: 0.0010 - 9s/epoch - 50ms/step
Epoch 86/100
176/176 - 9s - loss: 0.3969 - accuracy: 0.8540 - val_loss: 0.7912 - val_accuracy: 0.7061 - lr: 0.0010 - 9s/epoch - 50ms/step
Epoch 87/100
176/176 - 9s - loss: 0.3966 - accuracy: 0.8539 - val_loss: 0.7486 - val_accuracy: 0.7173 - lr: 0.0010 - 9s/epoch - 50ms/step
Epoch 88/100
176/176 - 9s - loss: 0.3946 - accuracy: 0.8557 - val_loss: 0.7575 - val_accuracy: 0.7089 - lr: 0.0010 - 9s/epoch - 50ms/step
Epoch 89/100
176/176 - 9s - loss: 0.3961 - accuracy: 0.8545 - val_loss: 0.7999 - val_accuracy: 0.6970 - lr: 0.0010 - 9s/epoch - 50ms/step
Epoch 90/100
176/176 - 9s - loss: 0.3929 - accuracy: 0.8559 - val_loss: 0.8077 - val_accuracy: 0.6875 - lr: 0.0010 - 9s/epoch - 50ms/step
Epoch 91/100
176/176 - 9s - loss: 0.3938 - accuracy: 0.8559 - val_loss: 0.7588 - val_accuracy: 0.7099 - lr: 0.0010 - 9s/epoch - 50ms/step
Epoch 92/100
176/176 - 9s - loss: 0.3915 - accuracy: 0.8573 - val_loss: 0.7784 - val_accuracy: 0.7062 - lr: 0.0010 - 9s/epoch - 50ms/step
Epoch 93/100
176/176 - 9s - loss: 0.3905 - accuracy: 0.8572 - val_loss: 0.7857 - val_accuracy: 0.6966 - lr: 0.0010 - 9s/epoch - 50ms/step
Epoch 94/100
176/176 - 9s - loss: 0.3935 - accuracy: 0.8562 - val_loss: 0.7464 - val_accuracy: 0.7177 - lr: 0.0010 - 9s/epoch - 50ms/step
Epoch 95/100
176/176 - 9s - loss: 0.3937 - accuracy: 0.8567 - val_loss: 0.7543 - val_accuracy: 0.7146 - lr: 0.0010 - 9s/epoch - 50ms/step
Epoch 96/100
176/176 - 9s - loss: 0.3907 - accuracy: 0.8573 - val_loss: 0.7976 - val_accuracy: 0.6952 - lr: 0.0010 - 9s/epoch - 50ms/step
Epoch 97/100
176/176 - 9s - loss: 0.3914 - accuracy: 0.8570 - val_loss: 0.7891 - val_accuracy: 0.6926 - lr: 0.0010 - 9s/epoch - 50ms/step
Epoch 98/100
176/176 - 9s - loss: 0.3897 - accuracy: 0.8567 - val_loss: 0.7773 - val_accuracy: 0.7036 - lr: 0.0010 - 9s/epoch - 50ms/step
Epoch 99/100
176/176 - 9s - loss: 0.3912 - accuracy: 0.8576 - val_loss: 0.7793 - val_accuracy: 0.7073 - lr: 0.0010 - 9s/epoch - 50ms/step
Epoch 100/100
176/176 - 9s - loss: 0.3930 - accuracy: 0.8562 - val_loss: 0.7389 - val_accuracy: 0.7205 - lr: 0.0010 - 9s/epoch - 50ms/step
fitting with batch size: 1500
Epoch 1/100
59/59 - 11s - loss: 0.3725 - accuracy: 0.8644 - val_loss: 0.7384 - val_accuracy: 0.7235 - lr: 0.0010 - 11s/epoch - 178ms/step
Epoch 2/100
59/59 - 8s - loss: 0.3621 - accuracy: 0.8699 - val_loss: 0.7719 - val_accuracy: 0.7119 - lr: 0.0010 - 8s/epoch - 131ms/step
Epoch 3/100
59/59 - 8s - loss: 0.3582 - accuracy: 0.8716 - val_loss: 0.7761 - val_accuracy: 0.7064 - lr: 0.0010 - 8s/epoch - 131ms/step
Epoch 4/100
59/59 - 8s - loss: 0.3580 - accuracy: 0.8715 - val_loss: 0.7990 - val_accuracy: 0.6982 - lr: 0.0010 - 8s/epoch - 131ms/step
Epoch 5/100
59/59 - 8s - loss: 0.3565 - accuracy: 0.8722 - val_loss: 0.7748 - val_accuracy: 0.7070 - lr: 0.0010 - 8s/epoch - 131ms/step
Epoch 6/100
59/59 - 8s - loss: 0.3550 - accuracy: 0.8728 - val_loss: 0.7741 - val_accuracy: 0.7039 - lr: 0.0010 - 8s/epoch - 131ms/step
Epoch 7/100
59/59 - 8s - loss: 0.3542 - accuracy: 0.8728 - val_loss: 0.7859 - val_accuracy: 0.7047 - lr: 0.0010 - 8s/epoch - 131ms/step
Epoch 8/100
59/59 - 8s - loss: 0.3531 - accuracy: 0.8734 - val_loss: 0.7980 - val_accuracy: 0.6969 - lr: 0.0010 - 8s/epoch - 131ms/step
Epoch 9/100
59/59 - 8s - loss: 0.3538 - accuracy: 0.8737 - val_loss: 0.7757 - val_accuracy: 0.7072 - lr: 0.0010 - 8s/epoch - 131ms/step
Epoch 10/100
59/59 - 8s - loss: 0.3544 - accuracy: 0.8730 - val_loss: 0.7813 - val_accuracy: 0.7052 - lr: 0.0010 - 8s/epoch - 131ms/step
Epoch 11/100
59/59 - 8s - loss: 0.3549 - accuracy: 0.8717 - val_loss: 0.7772 - val_accuracy: 0.6996 - lr: 0.0010 - 8s/epoch - 131ms/step
Epoch 12/100
59/59 - 8s - loss: 0.3545 - accuracy: 0.8727 - val_loss: 0.7923 - val_accuracy: 0.6952 - lr: 0.0010 - 8s/epoch - 131ms/step
Epoch 13/100
59/59 - 8s - loss: 0.3524 - accuracy: 0.8725 - val_loss: 0.7642 - val_accuracy: 0.7135 - lr: 0.0010 - 8s/epoch - 131ms/step
Epoch 14/100
59/59 - 8s - loss: 0.3534 - accuracy: 0.8727 - val_loss: 0.7895 - val_accuracy: 0.6971 - lr: 0.0010 - 8s/epoch - 131ms/step
Epoch 15/100
59/59 - 8s - loss: 0.3531 - accuracy: 0.8725 - val_loss: 0.7738 - val_accuracy: 0.7035 - lr: 0.0010 - 8s/epoch - 131ms/step
Epoch 16/100
59/59 - 8s - loss: 0.3534 - accuracy: 0.8733 - val_loss: 0.7552 - val_accuracy: 0.7138 - lr: 0.0010 - 8s/epoch - 131ms/step
Epoch 17/100
59/59 - 8s - loss: 0.3523 - accuracy: 0.8726 - val_loss: 0.7669 - val_accuracy: 0.7075 - lr: 0.0010 - 8s/epoch - 131ms/step
Epoch 18/100
59/59 - 8s - loss: 0.3541 - accuracy: 0.8723 - val_loss: 0.7571 - val_accuracy: 0.7167 - lr: 0.0010 - 8s/epoch - 131ms/step
Epoch 19/100
59/59 - 8s - loss: 0.3547 - accuracy: 0.8725 - val_loss: 0.7905 - val_accuracy: 0.7003 - lr: 0.0010 - 8s/epoch - 131ms/step
Epoch 20/100
59/59 - 8s - loss: 0.3534 - accuracy: 0.8724 - val_loss: 0.7814 - val_accuracy: 0.7009 - lr: 0.0010 - 8s/epoch - 130ms/step
Epoch 21/100
59/59 - 8s - loss: 0.3539 - accuracy: 0.8725 - val_loss: 0.8005 - val_accuracy: 0.6966 - lr: 0.0010 - 8s/epoch - 134ms/step
Epoch 22/100
59/59 - 8s - loss: 0.3528 - accuracy: 0.8732 - val_loss: 0.7810 - val_accuracy: 0.7109 - lr: 0.0010 - 8s/epoch - 132ms/step
Epoch 23/100
59/59 - 8s - loss: 0.3518 - accuracy: 0.8730 - val_loss: 0.7873 - val_accuracy: 0.7024 - lr: 0.0010 - 8s/epoch - 133ms/step
Epoch 24/100
59/59 - 8s - loss: 0.3542 - accuracy: 0.8722 - val_loss: 0.8040 - val_accuracy: 0.6872 - lr: 0.0010 - 8s/epoch - 133ms/step
Epoch 25/100
59/59 - 8s - loss: 0.3558 - accuracy: 0.8726 - val_loss: 0.7784 - val_accuracy: 0.6998 - lr: 0.0010 - 8s/epoch - 131ms/step
Epoch 26/100
59/59 - 8s - loss: 0.3518 - accuracy: 0.8732 - val_loss: 0.7724 - val_accuracy: 0.7057 - lr: 0.0010 - 8s/epoch - 131ms/step
Epoch 27/100
59/59 - 8s - loss: 0.3545 - accuracy: 0.8727 - val_loss: 0.7765 - val_accuracy: 0.7051 - lr: 0.0010 - 8s/epoch - 131ms/step
Epoch 28/100
59/59 - 8s - loss: 0.3543 - accuracy: 0.8733 - val_loss: 0.7984 - val_accuracy: 0.6955 - lr: 0.0010 - 8s/epoch - 131ms/step
Epoch 29/100
59/59 - 8s - loss: 0.3523 - accuracy: 0.8737 - val_loss: 0.8120 - val_accuracy: 0.6935 - lr: 0.0010 - 8s/epoch - 131ms/step
Epoch 30/100
59/59 - 8s - loss: 0.3518 - accuracy: 0.8736 - val_loss: 0.8088 - val_accuracy: 0.6901 - lr: 0.0010 - 8s/epoch - 131ms/step
Epoch 31/100
59/59 - 8s - loss: 0.3541 - accuracy: 0.8721 - val_loss: 0.7607 - val_accuracy: 0.7078 - lr: 0.0010 - 8s/epoch - 131ms/step
Epoch 32/100
59/59 - 8s - loss: 0.3530 - accuracy: 0.8737 - val_loss: 0.7952 - val_accuracy: 0.6967 - lr: 0.0010 - 8s/epoch - 131ms/step
Epoch 33/100
59/59 - 8s - loss: 0.3526 - accuracy: 0.8735 - val_loss: 0.7879 - val_accuracy: 0.6961 - lr: 0.0010 - 8s/epoch - 131ms/step
Epoch 34/100
59/59 - 8s - loss: 0.3562 - accuracy: 0.8710 - val_loss: 0.7609 - val_accuracy: 0.7064 - lr: 0.0010 - 8s/epoch - 131ms/step
Epoch 35/100
59/59 - 8s - loss: 0.3535 - accuracy: 0.8730 - val_loss: 0.8122 - val_accuracy: 0.6934 - lr: 0.0010 - 8s/epoch - 131ms/step
Epoch 36/100
59/59 - 8s - loss: 0.3528 - accuracy: 0.8727 - val_loss: 0.8038 - val_accuracy: 0.6924 - lr: 0.0010 - 8s/epoch - 131ms/step
Epoch 37/100
59/59 - 8s - loss: 0.3530 - accuracy: 0.8727 - val_loss: 0.7874 - val_accuracy: 0.6998 - lr: 0.0010 - 8s/epoch - 132ms/step
Epoch 38/100
59/59 - 8s - loss: 0.3549 - accuracy: 0.8722 - val_loss: 0.8011 - val_accuracy: 0.6970 - lr: 0.0010 - 8s/epoch - 131ms/step
Epoch 39/100
59/59 - 8s - loss: 0.3524 - accuracy: 0.8733 - val_loss: 0.7987 - val_accuracy: 0.6946 - lr: 0.0010 - 8s/epoch - 131ms/step
Epoch 40/100
59/59 - 8s - loss: 0.3521 - accuracy: 0.8731 - val_loss: 0.7741 - val_accuracy: 0.7065 - lr: 0.0010 - 8s/epoch - 131ms/step
Epoch 41/100
59/59 - 8s - loss: 0.3541 - accuracy: 0.8717 - val_loss: 0.8032 - val_accuracy: 0.6922 - lr: 0.0010 - 8s/epoch - 131ms/step
Epoch 42/100
59/59 - 8s - loss: 0.3540 - accuracy: 0.8728 - val_loss: 0.7981 - val_accuracy: 0.6978 - lr: 0.0010 - 8s/epoch - 131ms/step
Epoch 43/100
59/59 - 8s - loss: 0.3512 - accuracy: 0.8740 - val_loss: 0.7947 - val_accuracy: 0.6971 - lr: 0.0010 - 8s/epoch - 131ms/step
Epoch 44/100
59/59 - 8s - loss: 0.3504 - accuracy: 0.8745 - val_loss: 0.7875 - val_accuracy: 0.7010 - lr: 0.0010 - 8s/epoch - 131ms/step
Epoch 45/100
59/59 - 8s - loss: 0.3502 - accuracy: 0.8736 - val_loss: 0.7833 - val_accuracy: 0.7014 - lr: 0.0010 - 8s/epoch - 131ms/step
Epoch 46/100
59/59 - 8s - loss: 0.3509 - accuracy: 0.8740 - val_loss: 0.8072 - val_accuracy: 0.6906 - lr: 0.0010 - 8s/epoch - 131ms/step
Epoch 47/100
59/59 - 8s - loss: 0.3528 - accuracy: 0.8725 - val_loss: 0.7699 - val_accuracy: 0.7112 - lr: 0.0010 - 8s/epoch - 131ms/step
Epoch 48/100
59/59 - 8s - loss: 0.3519 - accuracy: 0.8735 - val_loss: 0.8227 - val_accuracy: 0.6876 - lr: 0.0010 - 8s/epoch - 131ms/step
Epoch 49/100
59/59 - 8s - loss: 0.3520 - accuracy: 0.8734 - val_loss: 0.7863 - val_accuracy: 0.7051 - lr: 0.0010 - 8s/epoch - 131ms/step
Epoch 50/100
59/59 - 8s - loss: 0.3522 - accuracy: 0.8738 - val_loss: 0.8063 - val_accuracy: 0.7014 - lr: 0.0010 - 8s/epoch - 131ms/step
Epoch 51/100
59/59 - 8s - loss: 0.3491 - accuracy: 0.8745 - val_loss: 0.8074 - val_accuracy: 0.6982 - lr: 0.0010 - 8s/epoch - 131ms/step
Epoch 52/100
59/59 - 8s - loss: 0.3553 - accuracy: 0.8728 - val_loss: 0.7986 - val_accuracy: 0.6982 - lr: 0.0010 - 8s/epoch - 131ms/step
Epoch 53/100
59/59 - 8s - loss: 0.3520 - accuracy: 0.8747 - val_loss: 0.8049 - val_accuracy: 0.6927 - lr: 0.0010 - 8s/epoch - 131ms/step
Epoch 54/100
59/59 - 8s - loss: 0.3498 - accuracy: 0.8752 - val_loss: 0.7946 - val_accuracy: 0.7031 - lr: 0.0010 - 8s/epoch - 131ms/step
Epoch 55/100
59/59 - 8s - loss: 0.3507 - accuracy: 0.8730 - val_loss: 0.7874 - val_accuracy: 0.7122 - lr: 0.0010 - 8s/epoch - 131ms/step
Epoch 56/100
59/59 - 8s - loss: 0.3518 - accuracy: 0.8731 - val_loss: 0.7924 - val_accuracy: 0.7004 - lr: 0.0010 - 8s/epoch - 131ms/step
Epoch 57/100
59/59 - 8s - loss: 0.3499 - accuracy: 0.8747 - val_loss: 0.7673 - val_accuracy: 0.7100 - lr: 0.0010 - 8s/epoch - 131ms/step
Epoch 58/100
59/59 - 8s - loss: 0.3505 - accuracy: 0.8743 - val_loss: 0.8074 - val_accuracy: 0.6936 - lr: 0.0010 - 8s/epoch - 131ms/step
Epoch 59/100
59/59 - 8s - loss: 0.3528 - accuracy: 0.8735 - val_loss: 0.7896 - val_accuracy: 0.7000 - lr: 0.0010 - 8s/epoch - 131ms/step
Epoch 60/100
59/59 - 8s - loss: 0.3517 - accuracy: 0.8738 - val_loss: 0.8157 - val_accuracy: 0.6965 - lr: 0.0010 - 8s/epoch - 131ms/step
Epoch 61/100
59/59 - 8s - loss: 0.3522 - accuracy: 0.8732 - val_loss: 0.7817 - val_accuracy: 0.7092 - lr: 0.0010 - 8s/epoch - 131ms/step
Epoch 62/100
59/59 - 8s - loss: 0.3537 - accuracy: 0.8726 - val_loss: 0.8036 - val_accuracy: 0.6969 - lr: 0.0010 - 8s/epoch - 131ms/step
Epoch 63/100
59/59 - 8s - loss: 0.3511 - accuracy: 0.8733 - val_loss: 0.7820 - val_accuracy: 0.7071 - lr: 0.0010 - 8s/epoch - 131ms/step
Epoch 64/100
59/59 - 8s - loss: 0.3499 - accuracy: 0.8738 - val_loss: 0.7859 - val_accuracy: 0.7082 - lr: 0.0010 - 8s/epoch - 131ms/step
Epoch 65/100
59/59 - 8s - loss: 0.3515 - accuracy: 0.8733 - val_loss: 0.7671 - val_accuracy: 0.7156 - lr: 0.0010 - 8s/epoch - 131ms/step
Epoch 66/100
59/59 - 8s - loss: 0.3536 - accuracy: 0.8722 - val_loss: 0.8187 - val_accuracy: 0.6941 - lr: 0.0010 - 8s/epoch - 131ms/step
Epoch 67/100
59/59 - 8s - loss: 0.3511 - accuracy: 0.8737 - val_loss: 0.8090 - val_accuracy: 0.6934 - lr: 0.0010 - 8s/epoch - 131ms/step
Epoch 68/100
59/59 - 8s - loss: 0.3497 - accuracy: 0.8744 - val_loss: 0.8045 - val_accuracy: 0.6967 - lr: 0.0010 - 8s/epoch - 131ms/step
Epoch 69/100
59/59 - 8s - loss: 0.3502 - accuracy: 0.8745 - val_loss: 0.8139 - val_accuracy: 0.6919 - lr: 0.0010 - 8s/epoch - 131ms/step
Epoch 70/100
59/59 - 8s - loss: 0.3464 - accuracy: 0.8754 - val_loss: 0.7963 - val_accuracy: 0.6989 - lr: 0.0010 - 8s/epoch - 131ms/step
Epoch 71/100
59/59 - 8s - loss: 0.3491 - accuracy: 0.8742 - val_loss: 0.8132 - val_accuracy: 0.6979 - lr: 0.0010 - 8s/epoch - 131ms/step
Epoch 72/100
59/59 - 8s - loss: 0.3463 - accuracy: 0.8748 - val_loss: 0.8212 - val_accuracy: 0.6899 - lr: 0.0010 - 8s/epoch - 131ms/step
Epoch 73/100
59/59 - 8s - loss: 0.3511 - accuracy: 0.8748 - val_loss: 0.8081 - val_accuracy: 0.6947 - lr: 0.0010 - 8s/epoch - 131ms/step
Epoch 74/100
59/59 - 8s - loss: 0.3470 - accuracy: 0.8758 - val_loss: 0.7929 - val_accuracy: 0.6971 - lr: 0.0010 - 8s/epoch - 131ms/step
Epoch 75/100
59/59 - 8s - loss: 0.3493 - accuracy: 0.8748 - val_loss: 0.8336 - val_accuracy: 0.6847 - lr: 0.0010 - 8s/epoch - 131ms/step
Epoch 76/100
59/59 - 8s - loss: 0.3485 - accuracy: 0.8754 - val_loss: 0.8073 - val_accuracy: 0.6978 - lr: 0.0010 - 8s/epoch - 131ms/step
Epoch 77/100
59/59 - 8s - loss: 0.3491 - accuracy: 0.8744 - val_loss: 0.7901 - val_accuracy: 0.7050 - lr: 0.0010 - 8s/epoch - 131ms/step
Epoch 78/100
59/59 - 8s - loss: 0.3476 - accuracy: 0.8750 - val_loss: 0.8059 - val_accuracy: 0.6973 - lr: 0.0010 - 8s/epoch - 131ms/step
Epoch 79/100
59/59 - 8s - loss: 0.3479 - accuracy: 0.8749 - val_loss: 0.7869 - val_accuracy: 0.7047 - lr: 0.0010 - 8s/epoch - 131ms/step
Epoch 80/100
59/59 - 8s - loss: 0.3521 - accuracy: 0.8738 - val_loss: 0.8172 - val_accuracy: 0.6961 - lr: 0.0010 - 8s/epoch - 131ms/step
Epoch 81/100
59/59 - 8s - loss: 0.3503 - accuracy: 0.8749 - val_loss: 0.8059 - val_accuracy: 0.6940 - lr: 0.0010 - 8s/epoch - 131ms/step
Epoch 82/100
59/59 - 8s - loss: 0.3463 - accuracy: 0.8751 - val_loss: 0.7839 - val_accuracy: 0.7071 - lr: 0.0010 - 8s/epoch - 131ms/step
Epoch 83/100
59/59 - 8s - loss: 0.3459 - accuracy: 0.8756 - val_loss: 0.8001 - val_accuracy: 0.7003 - lr: 0.0010 - 8s/epoch - 131ms/step
Epoch 84/100
59/59 - 8s - loss: 0.3501 - accuracy: 0.8736 - val_loss: 0.7907 - val_accuracy: 0.7005 - lr: 0.0010 - 8s/epoch - 131ms/step
Epoch 85/100
59/59 - 8s - loss: 0.3469 - accuracy: 0.8754 - val_loss: 0.8049 - val_accuracy: 0.6933 - lr: 0.0010 - 8s/epoch - 131ms/step
Epoch 86/100
59/59 - 8s - loss: 0.3481 - accuracy: 0.8751 - val_loss: 0.7679 - val_accuracy: 0.7082 - lr: 0.0010 - 8s/epoch - 131ms/step
Epoch 87/100
59/59 - 8s - loss: 0.3478 - accuracy: 0.8751 - val_loss: 0.8068 - val_accuracy: 0.6921 - lr: 0.0010 - 8s/epoch - 131ms/step
Epoch 88/100
59/59 - 8s - loss: 0.3458 - accuracy: 0.8767 - val_loss: 0.7659 - val_accuracy: 0.7100 - lr: 0.0010 - 8s/epoch - 131ms/step
Epoch 89/100
59/59 - 8s - loss: 0.3462 - accuracy: 0.8756 - val_loss: 0.7781 - val_accuracy: 0.7035 - lr: 0.0010 - 8s/epoch - 131ms/step
Epoch 90/100
59/59 - 8s - loss: 0.3482 - accuracy: 0.8754 - val_loss: 0.7669 - val_accuracy: 0.7078 - lr: 0.0010 - 8s/epoch - 131ms/step
Epoch 91/100
59/59 - 8s - loss: 0.3492 - accuracy: 0.8743 - val_loss: 0.8007 - val_accuracy: 0.6961 - lr: 0.0010 - 8s/epoch - 131ms/step
Epoch 92/100
59/59 - 8s - loss: 0.3488 - accuracy: 0.8743 - val_loss: 0.7939 - val_accuracy: 0.6960 - lr: 0.0010 - 8s/epoch - 131ms/step
Epoch 93/100
59/59 - 8s - loss: 0.3460 - accuracy: 0.8768 - val_loss: 0.7845 - val_accuracy: 0.7042 - lr: 0.0010 - 8s/epoch - 131ms/step
Epoch 94/100
59/59 - 8s - loss: 0.3481 - accuracy: 0.8751 - val_loss: 0.8149 - val_accuracy: 0.6935 - lr: 0.0010 - 8s/epoch - 131ms/step
Epoch 95/100
59/59 - 8s - loss: 0.3444 - accuracy: 0.8774 - val_loss: 0.8130 - val_accuracy: 0.6889 - lr: 0.0010 - 8s/epoch - 131ms/step
Epoch 96/100
59/59 - 8s - loss: 0.3446 - accuracy: 0.8767 - val_loss: 0.7793 - val_accuracy: 0.7085 - lr: 0.0010 - 8s/epoch - 131ms/step
Epoch 97/100
59/59 - 8s - loss: 0.3413 - accuracy: 0.8779 - val_loss: 0.8125 - val_accuracy: 0.6933 - lr: 0.0010 - 8s/epoch - 131ms/step
Epoch 98/100
59/59 - 8s - loss: 0.3458 - accuracy: 0.8753 - val_loss: 0.8178 - val_accuracy: 0.6922 - lr: 0.0010 - 8s/epoch - 131ms/step
Epoch 99/100
59/59 - 8s - loss: 0.3464 - accuracy: 0.8756 - val_loss: 0.7952 - val_accuracy: 0.6983 - lr: 0.0010 - 8s/epoch - 131ms/step
Epoch 100/100
59/59 - 8s - loss: 0.3467 - accuracy: 0.8767 - val_loss: 0.8058 - val_accuracy: 0.6939 - lr: 0.0010 - 8s/epoch - 131ms/step
fitting with batch size: 2500
Epoch 1/100
36/36 - 10s - loss: 0.3422 - accuracy: 0.8785 - val_loss: 0.7977 - val_accuracy: 0.7013 - lr: 0.0010 - 10s/epoch - 275ms/step
Epoch 2/100
36/36 - 7s - loss: 0.3509 - accuracy: 0.8727 - val_loss: 0.7985 - val_accuracy: 0.6974 - lr: 0.0010 - 7s/epoch - 208ms/step
Epoch 3/100
36/36 - 8s - loss: 0.3443 - accuracy: 0.8767 - val_loss: 0.8369 - val_accuracy: 0.6885 - lr: 0.0010 - 8s/epoch - 209ms/step
Epoch 4/100
36/36 - 8s - loss: 0.3375 - accuracy: 0.8800 - val_loss: 0.7871 - val_accuracy: 0.7056 - lr: 0.0010 - 8s/epoch - 209ms/step
Epoch 5/100
36/36 - 8s - loss: 0.3493 - accuracy: 0.8742 - val_loss: 0.8003 - val_accuracy: 0.6950 - lr: 0.0010 - 8s/epoch - 208ms/step
Epoch 6/100
36/36 - 7s - loss: 0.3354 - accuracy: 0.8814 - val_loss: 0.8356 - val_accuracy: 0.6887 - lr: 0.0010 - 7s/epoch - 208ms/step
Epoch 7/100
36/36 - 8s - loss: 0.3408 - accuracy: 0.8786 - val_loss: 0.8442 - val_accuracy: 0.6779 - lr: 0.0010 - 8s/epoch - 209ms/step
Epoch 8/100
36/36 - 8s - loss: 0.3451 - accuracy: 0.8763 - val_loss: 0.8184 - val_accuracy: 0.6911 - lr: 0.0010 - 8s/epoch - 209ms/step
Epoch 9/100
36/36 - 8s - loss: 0.3471 - accuracy: 0.8750 - val_loss: 0.7834 - val_accuracy: 0.7050 - lr: 0.0010 - 8s/epoch - 209ms/step
Epoch 10/100
36/36 - 8s - loss: 0.3523 - accuracy: 0.8728 - val_loss: 0.8223 - val_accuracy: 0.6907 - lr: 0.0010 - 8s/epoch - 210ms/step
Epoch 11/100
36/36 - 7s - loss: 0.3430 - accuracy: 0.8772 - val_loss: 0.8092 - val_accuracy: 0.6945 - lr: 0.0010 - 7s/epoch - 208ms/step
Epoch 12/100
36/36 - 8s - loss: 0.3443 - accuracy: 0.8767 - val_loss: 0.8025 - val_accuracy: 0.6959 - lr: 0.0010 - 8s/epoch - 208ms/step
Epoch 13/100
36/36 - 8s - loss: 0.3556 - accuracy: 0.8715 - val_loss: 0.8020 - val_accuracy: 0.6967 - lr: 0.0010 - 8s/epoch - 209ms/step
Epoch 14/100
36/36 - 8s - loss: 0.3414 - accuracy: 0.8783 - val_loss: 0.8318 - val_accuracy: 0.6840 - lr: 0.0010 - 8s/epoch - 209ms/step
Epoch 15/100
36/36 - 8s - loss: 0.3370 - accuracy: 0.8793 - val_loss: 0.8016 - val_accuracy: 0.7004 - lr: 0.0010 - 8s/epoch - 209ms/step
Epoch 16/100
36/36 - 8s - loss: 0.3539 - accuracy: 0.8718 - val_loss: 0.7997 - val_accuracy: 0.6993 - lr: 0.0010 - 8s/epoch - 210ms/step
Epoch 17/100
36/36 - 8s - loss: 0.3483 - accuracy: 0.8743 - val_loss: 0.8038 - val_accuracy: 0.6970 - lr: 0.0010 - 8s/epoch - 208ms/step
Epoch 18/100
36/36 - 8s - loss: 0.3446 - accuracy: 0.8769 - val_loss: 0.8040 - val_accuracy: 0.6971 - lr: 0.0010 - 8s/epoch - 208ms/step
Epoch 19/100
36/36 - 8s - loss: 0.3431 - accuracy: 0.8772 - val_loss: 0.8060 - val_accuracy: 0.6956 - lr: 0.0010 - 8s/epoch - 208ms/step
Epoch 20/100
36/36 - 8s - loss: 0.3405 - accuracy: 0.8775 - val_loss: 0.8140 - val_accuracy: 0.6914 - lr: 0.0010 - 8s/epoch - 209ms/step
Epoch 21/100
36/36 - 8s - loss: 0.3406 - accuracy: 0.8791 - val_loss: 0.8051 - val_accuracy: 0.6945 - lr: 0.0010 - 8s/epoch - 209ms/step
Epoch 22/100
36/36 - 8s - loss: 0.3580 - accuracy: 0.8702 - val_loss: 0.8008 - val_accuracy: 0.6998 - lr: 0.0010 - 8s/epoch - 209ms/step
Epoch 23/100
36/36 - 8s - loss: 0.3483 - accuracy: 0.8753 - val_loss: 0.7890 - val_accuracy: 0.7041 - lr: 0.0010 - 8s/epoch - 209ms/step
Epoch 24/100
36/36 - 8s - loss: 0.3500 - accuracy: 0.8744 - val_loss: 0.8141 - val_accuracy: 0.6957 - lr: 0.0010 - 8s/epoch - 209ms/step
Epoch 25/100
36/36 - 7s - loss: 0.3436 - accuracy: 0.8770 - val_loss: 0.8142 - val_accuracy: 0.6941 - lr: 0.0010 - 7s/epoch - 208ms/step
Epoch 26/100
36/36 - 8s - loss: 0.3374 - accuracy: 0.8799 - val_loss: 0.8229 - val_accuracy: 0.6919 - lr: 0.0010 - 8s/epoch - 209ms/step
Epoch 27/100
36/36 - 7s - loss: 0.3417 - accuracy: 0.8778 - val_loss: 0.7959 - val_accuracy: 0.7021 - lr: 0.0010 - 7s/epoch - 208ms/step
Epoch 28/100
36/36 - 8s - loss: 0.3380 - accuracy: 0.8796 - val_loss: 0.8171 - val_accuracy: 0.6957 - lr: 0.0010 - 8s/epoch - 209ms/step
Epoch 29/100
36/36 - 8s - loss: 0.3343 - accuracy: 0.8815 - val_loss: 0.8036 - val_accuracy: 0.6967 - lr: 0.0010 - 8s/epoch - 209ms/step
Epoch 30/100
36/36 - 8s - loss: 0.3418 - accuracy: 0.8775 - val_loss: 0.8186 - val_accuracy: 0.6960 - lr: 0.0010 - 8s/epoch - 210ms/step
Epoch 31/100
36/36 - 8s - loss: 0.3398 - accuracy: 0.8779 - val_loss: 0.8012 - val_accuracy: 0.7009 - lr: 0.0010 - 8s/epoch - 208ms/step
Epoch 32/100
36/36 - 8s - loss: 0.3384 - accuracy: 0.8796 - val_loss: 0.8035 - val_accuracy: 0.6952 - lr: 0.0010 - 8s/epoch - 208ms/step
Epoch 33/100
36/36 - 8s - loss: 0.3410 - accuracy: 0.8789 - val_loss: 0.8200 - val_accuracy: 0.6910 - lr: 0.0010 - 8s/epoch - 209ms/step
Epoch 34/100
36/36 - 8s - loss: 0.3332 - accuracy: 0.8806 - val_loss: 0.7970 - val_accuracy: 0.7005 - lr: 0.0010 - 8s/epoch - 209ms/step
Epoch 35/100
36/36 - 8s - loss: 0.3424 - accuracy: 0.8772 - val_loss: 0.8131 - val_accuracy: 0.6967 - lr: 0.0010 - 8s/epoch - 209ms/step
Epoch 36/100
36/36 - 7s - loss: 0.3412 - accuracy: 0.8777 - val_loss: 0.7925 - val_accuracy: 0.7061 - lr: 0.0010 - 7s/epoch - 208ms/step
Epoch 37/100
36/36 - 8s - loss: 0.3400 - accuracy: 0.8784 - val_loss: 0.7768 - val_accuracy: 0.7115 - lr: 0.0010 - 8s/epoch - 209ms/step
Epoch 38/100
36/36 - 8s - loss: 0.3452 - accuracy: 0.8763 - val_loss: 0.8011 - val_accuracy: 0.6995 - lr: 0.0010 - 8s/epoch - 209ms/step
Epoch 39/100
36/36 - 8s - loss: 0.3359 - accuracy: 0.8808 - val_loss: 0.7917 - val_accuracy: 0.7046 - lr: 0.0010 - 8s/epoch - 209ms/step
Epoch 40/100
36/36 - 7s - loss: 0.3446 - accuracy: 0.8766 - val_loss: 0.8096 - val_accuracy: 0.6970 - lr: 0.0010 - 7s/epoch - 208ms/step
Epoch 41/100
36/36 - 8s - loss: 0.3655 - accuracy: 0.8669 - val_loss: 0.7869 - val_accuracy: 0.7064 - lr: 0.0010 - 8s/epoch - 209ms/step
Epoch 42/100
36/36 - 8s - loss: 0.3482 - accuracy: 0.8751 - val_loss: 0.7904 - val_accuracy: 0.7036 - lr: 0.0010 - 8s/epoch - 209ms/step
Epoch 43/100
36/36 - 8s - loss: 0.3364 - accuracy: 0.8797 - val_loss: 0.8219 - val_accuracy: 0.6945 - lr: 0.0010 - 8s/epoch - 209ms/step
Epoch 44/100
36/36 - 8s - loss: 0.3376 - accuracy: 0.8798 - val_loss: 0.8121 - val_accuracy: 0.6948 - lr: 0.0010 - 8s/epoch - 210ms/step
Epoch 45/100
36/36 - 8s - loss: 0.3546 - accuracy: 0.8717 - val_loss: 0.8033 - val_accuracy: 0.7000 - lr: 0.0010 - 8s/epoch - 208ms/step
Epoch 46/100
36/36 - 8s - loss: 0.3553 - accuracy: 0.8720 - val_loss: 0.7938 - val_accuracy: 0.7051 - lr: 0.0010 - 8s/epoch - 209ms/step
Epoch 47/100
36/36 - 7s - loss: 0.3435 - accuracy: 0.8766 - val_loss: 0.8348 - val_accuracy: 0.6858 - lr: 0.0010 - 7s/epoch - 208ms/step
Epoch 48/100
36/36 - 8s - loss: 0.3432 - accuracy: 0.8776 - val_loss: 0.8052 - val_accuracy: 0.7006 - lr: 0.0010 - 8s/epoch - 208ms/step
Epoch 49/100
36/36 - 8s - loss: 0.3905 - accuracy: 0.8581 - val_loss: 0.7905 - val_accuracy: 0.7083 - lr: 0.0010 - 8s/epoch - 209ms/step
Epoch 50/100
36/36 - 7s - loss: 0.3650 - accuracy: 0.8667 - val_loss: 0.7841 - val_accuracy: 0.7091 - lr: 0.0010 - 7s/epoch - 208ms/step
Epoch 51/100
36/36 - 8s - loss: 0.3491 - accuracy: 0.8742 - val_loss: 0.8211 - val_accuracy: 0.6920 - lr: 0.0010 - 8s/epoch - 208ms/step
Epoch 52/100
36/36 - 8s - loss: 0.3454 - accuracy: 0.8753 - val_loss: 0.8067 - val_accuracy: 0.6943 - lr: 0.0010 - 8s/epoch - 209ms/step
Epoch 53/100
36/36 - 8s - loss: 0.3468 - accuracy: 0.8758 - val_loss: 0.7790 - val_accuracy: 0.7077 - lr: 0.0010 - 8s/epoch - 208ms/step
Epoch 54/100
36/36 - 8s - loss: 0.3404 - accuracy: 0.8791 - val_loss: 0.8217 - val_accuracy: 0.6908 - lr: 0.0010 - 8s/epoch - 209ms/step
Epoch 55/100
36/36 - 8s - loss: 0.3415 - accuracy: 0.8778 - val_loss: 0.8163 - val_accuracy: 0.6946 - lr: 0.0010 - 8s/epoch - 209ms/step
Epoch 56/100
36/36 - 8s - loss: 0.3426 - accuracy: 0.8774 - val_loss: 0.8008 - val_accuracy: 0.6994 - lr: 0.0010 - 8s/epoch - 208ms/step
Epoch 57/100
36/36 - 7s - loss: 0.3396 - accuracy: 0.8782 - val_loss: 0.8255 - val_accuracy: 0.6937 - lr: 0.0010 - 7s/epoch - 208ms/step
Epoch 58/100
36/36 - 8s - loss: 0.3389 - accuracy: 0.8795 - val_loss: 0.7924 - val_accuracy: 0.7044 - lr: 0.0010 - 8s/epoch - 208ms/step
Epoch 59/100
36/36 - 8s - loss: 0.3423 - accuracy: 0.8772 - val_loss: 0.8096 - val_accuracy: 0.6953 - lr: 0.0010 - 8s/epoch - 208ms/step
Epoch 60/100
36/36 - 7s - loss: 0.3411 - accuracy: 0.8786 - val_loss: 0.8109 - val_accuracy: 0.6922 - lr: 0.0010 - 7s/epoch - 208ms/step
Epoch 61/100
36/36 - 8s - loss: 0.3394 - accuracy: 0.8793 - val_loss: 0.7859 - val_accuracy: 0.7091 - lr: 0.0010 - 8s/epoch - 210ms/step
Epoch 62/100
36/36 - 8s - loss: 0.3605 - accuracy: 0.8694 - val_loss: 0.7635 - val_accuracy: 0.7109 - lr: 0.0010 - 8s/epoch - 209ms/step
Epoch 63/100
36/36 - 7s - loss: 0.3418 - accuracy: 0.8783 - val_loss: 0.8174 - val_accuracy: 0.6958 - lr: 0.0010 - 7s/epoch - 208ms/step
Epoch 64/100
36/36 - 7s - loss: 0.3411 - accuracy: 0.8779 - val_loss: 0.8056 - val_accuracy: 0.6950 - lr: 0.0010 - 7s/epoch - 208ms/step
Epoch 65/100
36/36 - 8s - loss: 0.3398 - accuracy: 0.8779 - val_loss: 0.8009 - val_accuracy: 0.7012 - lr: 0.0010 - 8s/epoch - 209ms/step
Epoch 66/100
36/36 - 8s - loss: 0.3475 - accuracy: 0.8748 - val_loss: 0.8078 - val_accuracy: 0.6965 - lr: 0.0010 - 8s/epoch - 209ms/step
Epoch 67/100
36/36 - 8s - loss: 0.3471 - accuracy: 0.8752 - val_loss: 0.8098 - val_accuracy: 0.6977 - lr: 0.0010 - 8s/epoch - 209ms/step
Epoch 68/100
36/36 - 8s - loss: 0.3677 - accuracy: 0.8669 - val_loss: 0.7762 - val_accuracy: 0.7088 - lr: 0.0010 - 8s/epoch - 209ms/step
Epoch 69/100
36/36 - 8s - loss: 0.3492 - accuracy: 0.8736 - val_loss: 0.8117 - val_accuracy: 0.6969 - lr: 0.0010 - 8s/epoch - 208ms/step
Epoch 70/100
36/36 - 8s - loss: 0.3511 - accuracy: 0.8736 - val_loss: 0.7960 - val_accuracy: 0.6986 - lr: 0.0010 - 8s/epoch - 209ms/step
Epoch 71/100
36/36 - 8s - loss: 0.3341 - accuracy: 0.8809 - val_loss: 0.8053 - val_accuracy: 0.6959 - lr: 0.0010 - 8s/epoch - 209ms/step
Epoch 72/100
36/36 - 8s - loss: 0.3438 - accuracy: 0.8768 - val_loss: 0.8096 - val_accuracy: 0.6913 - lr: 0.0010 - 8s/epoch - 208ms/step
Epoch 73/100
36/36 - 8s - loss: 0.3365 - accuracy: 0.8801 - val_loss: 0.8256 - val_accuracy: 0.6891 - lr: 0.0010 - 8s/epoch - 209ms/step
Epoch 74/100
36/36 - 8s - loss: 0.3317 - accuracy: 0.8820 - val_loss: 0.7852 - val_accuracy: 0.7075 - lr: 0.0010 - 8s/epoch - 209ms/step
Epoch 75/100
36/36 - 8s - loss: 0.3311 - accuracy: 0.8815 - val_loss: 0.8112 - val_accuracy: 0.6989 - lr: 0.0010 - 8s/epoch - 209ms/step
Epoch 76/100
36/36 - 8s - loss: 0.3340 - accuracy: 0.8811 - val_loss: 0.8071 - val_accuracy: 0.6961 - lr: 0.0010 - 8s/epoch - 208ms/step
Epoch 77/100
36/36 - 8s - loss: 0.3304 - accuracy: 0.8825 - val_loss: 0.8331 - val_accuracy: 0.6857 - lr: 0.0010 - 8s/epoch - 208ms/step
Epoch 78/100
36/36 - 8s - loss: 0.3323 - accuracy: 0.8821 - val_loss: 0.8122 - val_accuracy: 0.6966 - lr: 0.0010 - 8s/epoch - 210ms/step
Epoch 79/100
36/36 - 7s - loss: 0.3340 - accuracy: 0.8814 - val_loss: 0.8023 - val_accuracy: 0.7035 - lr: 0.0010 - 7s/epoch - 208ms/step
Epoch 80/100
36/36 - 8s - loss: 0.3525 - accuracy: 0.8728 - val_loss: 0.8203 - val_accuracy: 0.6940 - lr: 0.0010 - 8s/epoch - 208ms/step
Epoch 81/100
36/36 - 8s - loss: 0.3492 - accuracy: 0.8744 - val_loss: 0.8248 - val_accuracy: 0.6953 - lr: 0.0010 - 8s/epoch - 208ms/step
Epoch 82/100
36/36 - 7s - loss: 0.3476 - accuracy: 0.8748 - val_loss: 0.7993 - val_accuracy: 0.7049 - lr: 0.0010 - 7s/epoch - 208ms/step
Epoch 83/100
36/36 - 8s - loss: 0.3434 - accuracy: 0.8771 - val_loss: 0.8232 - val_accuracy: 0.6869 - lr: 0.0010 - 8s/epoch - 210ms/step
Epoch 84/100
36/36 - 8s - loss: 0.3344 - accuracy: 0.8811 - val_loss: 0.7842 - val_accuracy: 0.7070 - lr: 0.0010 - 8s/epoch - 209ms/step
Epoch 85/100
36/36 - 7s - loss: 0.3350 - accuracy: 0.8803 - val_loss: 0.8214 - val_accuracy: 0.6924 - lr: 0.0010 - 7s/epoch - 208ms/step
Epoch 86/100
36/36 - 8s - loss: 0.3329 - accuracy: 0.8810 - val_loss: 0.7879 - val_accuracy: 0.7034 - lr: 0.0010 - 8s/epoch - 209ms/step
Epoch 87/100
36/36 - 8s - loss: 0.3314 - accuracy: 0.8824 - val_loss: 0.8282 - val_accuracy: 0.6916 - lr: 0.0010 - 8s/epoch - 208ms/step
Epoch 88/100
36/36 - 7s - loss: 0.3427 - accuracy: 0.8772 - val_loss: 0.8081 - val_accuracy: 0.6957 - lr: 0.0010 - 7s/epoch - 208ms/step
Epoch 89/100
36/36 - 8s - loss: 0.3450 - accuracy: 0.8761 - val_loss: 0.7956 - val_accuracy: 0.7042 - lr: 0.0010 - 8s/epoch - 210ms/step
Epoch 90/100
36/36 - 8s - loss: 0.3748 - accuracy: 0.8632 - val_loss: 0.7836 - val_accuracy: 0.7027 - lr: 0.0010 - 8s/epoch - 209ms/step
Epoch 91/100
36/36 - 8s - loss: 0.3476 - accuracy: 0.8755 - val_loss: 0.8082 - val_accuracy: 0.6958 - lr: 0.0010 - 8s/epoch - 208ms/step
Epoch 92/100
36/36 - 8s - loss: 0.3355 - accuracy: 0.8802 - val_loss: 0.7919 - val_accuracy: 0.7021 - lr: 0.0010 - 8s/epoch - 209ms/step
Epoch 93/100
36/36 - 8s - loss: 0.3296 - accuracy: 0.8823 - val_loss: 0.8377 - val_accuracy: 0.6888 - lr: 0.0010 - 8s/epoch - 208ms/step
Epoch 94/100
36/36 - 8s - loss: 0.3321 - accuracy: 0.8818 - val_loss: 0.8051 - val_accuracy: 0.7011 - lr: 0.0010 - 8s/epoch - 210ms/step
Epoch 95/100
36/36 - 7s - loss: 0.3738 - accuracy: 0.8657 - val_loss: 0.7644 - val_accuracy: 0.7060 - lr: 0.0010 - 7s/epoch - 208ms/step
Epoch 96/100
36/36 - 8s - loss: 0.3435 - accuracy: 0.8763 - val_loss: 0.7862 - val_accuracy: 0.7035 - lr: 0.0010 - 8s/epoch - 208ms/step
Epoch 97/100
36/36 - 8s - loss: 0.3387 - accuracy: 0.8784 - val_loss: 0.8071 - val_accuracy: 0.6970 - lr: 0.0010 - 8s/epoch - 208ms/step
Epoch 98/100
36/36 - 8s - loss: 0.3457 - accuracy: 0.8757 - val_loss: 0.8081 - val_accuracy: 0.6985 - lr: 0.0010 - 8s/epoch - 208ms/step
Epoch 99/100
36/36 - 8s - loss: 0.3322 - accuracy: 0.8810 - val_loss: 0.8006 - val_accuracy: 0.7006 - lr: 0.0010 - 8s/epoch - 209ms/step
Epoch 100/100
36/36 - 8s - loss: 0.3491 - accuracy: 0.8741 - val_loss: 0.8164 - val_accuracy: 0.6925 - lr: 0.0010 - 8s/epoch - 208ms/step
Loss: binary_crossentropy
Epoch number: 75
fitting with batch size: 20
Epoch 1/75
4378/4378 - 79s - loss: 0.2437 - accuracy: 0.7351 - val_loss: 0.2519 - val_accuracy: 0.7587 - lr: 0.0010 - 79s/epoch - 18ms/step
Epoch 2/75
4378/4378 - 77s - loss: 0.2283 - accuracy: 0.7517 - val_loss: 0.2604 - val_accuracy: 0.7387 - lr: 0.0010 - 77s/epoch - 18ms/step
Epoch 3/75
4378/4378 - 77s - loss: 0.2276 - accuracy: 0.7526 - val_loss: 0.2551 - val_accuracy: 0.7661 - lr: 0.0010 - 77s/epoch - 18ms/step
Epoch 4/75
4378/4378 - 77s - loss: 0.2270 - accuracy: 0.7528 - val_loss: 0.2609 - val_accuracy: 0.7372 - lr: 0.0010 - 77s/epoch - 18ms/step
Epoch 5/75
4378/4378 - 77s - loss: 0.2250 - accuracy: 0.7546 - val_loss: 0.2562 - val_accuracy: 0.7520 - lr: 0.0010 - 77s/epoch - 17ms/step
Epoch 6/75
4378/4378 - 77s - loss: 0.2243 - accuracy: 0.7557 - val_loss: 0.2929 - val_accuracy: 0.7069 - lr: 0.0010 - 77s/epoch - 18ms/step
Epoch 7/75
4378/4378 - 77s - loss: 0.2241 - accuracy: 0.7556 - val_loss: 0.2610 - val_accuracy: 0.7456 - lr: 0.0010 - 77s/epoch - 18ms/step
Epoch 8/75
4378/4378 - 77s - loss: 0.2238 - accuracy: 0.7558 - val_loss: 0.3005 - val_accuracy: 0.6975 - lr: 0.0010 - 77s/epoch - 17ms/step
Epoch 9/75
4378/4378 - 77s - loss: 0.2226 - accuracy: 0.7575 - val_loss: 0.2932 - val_accuracy: 0.6911 - lr: 0.0010 - 77s/epoch - 18ms/step
Epoch 10/75
4378/4378 - 77s - loss: 0.2242 - accuracy: 0.7558 - val_loss: 0.2800 - val_accuracy: 0.7167 - lr: 0.0010 - 77s/epoch - 18ms/step
Epoch 11/75
4378/4378 - 77s - loss: 0.2237 - accuracy: 0.7567 - val_loss: 0.2616 - val_accuracy: 0.7195 - lr: 0.0010 - 77s/epoch - 18ms/step
Epoch 12/75
4378/4378 - 77s - loss: 0.2242 - accuracy: 0.7566 - val_loss: 0.2407 - val_accuracy: 0.7564 - lr: 0.0010 - 77s/epoch - 18ms/step
Epoch 13/75
4378/4378 - 77s - loss: 0.2227 - accuracy: 0.7579 - val_loss: 0.2498 - val_accuracy: 0.7548 - lr: 0.0010 - 77s/epoch - 18ms/step
Epoch 14/75
4378/4378 - 77s - loss: 0.2227 - accuracy: 0.7575 - val_loss: 0.2840 - val_accuracy: 0.7292 - lr: 0.0010 - 77s/epoch - 18ms/step
Epoch 15/75
4378/4378 - 77s - loss: 0.2214 - accuracy: 0.7589 - val_loss: 0.2736 - val_accuracy: 0.7264 - lr: 0.0010 - 77s/epoch - 18ms/step
Epoch 16/75
4378/4378 - 77s - loss: 0.2218 - accuracy: 0.7571 - val_loss: 0.2617 - val_accuracy: 0.7454 - lr: 0.0010 - 77s/epoch - 18ms/step
Epoch 17/75
4378/4378 - 77s - loss: 0.2228 - accuracy: 0.7576 - val_loss: 0.2724 - val_accuracy: 0.7481 - lr: 0.0010 - 77s/epoch - 18ms/step
Epoch 18/75
4378/4378 - 77s - loss: 0.2212 - accuracy: 0.7591 - val_loss: 0.2547 - val_accuracy: 0.7453 - lr: 0.0010 - 77s/epoch - 18ms/step
Epoch 19/75
4378/4378 - 77s - loss: 0.2220 - accuracy: 0.7573 - val_loss: 0.2572 - val_accuracy: 0.7413 - lr: 0.0010 - 77s/epoch - 18ms/step
Epoch 20/75
4378/4378 - 77s - loss: 0.2219 - accuracy: 0.7581 - val_loss: 0.2956 - val_accuracy: 0.6750 - lr: 0.0010 - 77s/epoch - 18ms/step
Epoch 21/75
4378/4378 - 77s - loss: 0.2229 - accuracy: 0.7566 - val_loss: 0.2381 - val_accuracy: 0.7595 - lr: 0.0010 - 77s/epoch - 18ms/step
Epoch 22/75
4378/4378 - 77s - loss: 0.2224 - accuracy: 0.7577 - val_loss: 0.2631 - val_accuracy: 0.7317 - lr: 0.0010 - 77s/epoch - 18ms/step
Epoch 23/75
4378/4378 - 77s - loss: 0.2210 - accuracy: 0.7600 - val_loss: 0.2234 - val_accuracy: 0.7875 - lr: 0.0010 - 77s/epoch - 18ms/step
Epoch 24/75
4378/4378 - 77s - loss: 0.2215 - accuracy: 0.7595 - val_loss: 0.2650 - val_accuracy: 0.7425 - lr: 0.0010 - 77s/epoch - 18ms/step
Epoch 25/75
4378/4378 - 77s - loss: 0.2205 - accuracy: 0.7601 - val_loss: 0.2760 - val_accuracy: 0.7169 - lr: 0.0010 - 77s/epoch - 18ms/step
Epoch 26/75
4378/4378 - 77s - loss: 0.2225 - accuracy: 0.7578 - val_loss: 0.2753 - val_accuracy: 0.7293 - lr: 0.0010 - 77s/epoch - 18ms/step
Epoch 27/75
4378/4378 - 77s - loss: 0.2205 - accuracy: 0.7598 - val_loss: 0.2611 - val_accuracy: 0.7765 - lr: 0.0010 - 77s/epoch - 18ms/step
Epoch 28/75
4378/4378 - 77s - loss: 0.2214 - accuracy: 0.7597 - val_loss: 0.2591 - val_accuracy: 0.7455 - lr: 0.0010 - 77s/epoch - 18ms/step
Epoch 29/75
4378/4378 - 77s - loss: 0.2209 - accuracy: 0.7595 - val_loss: 0.2631 - val_accuracy: 0.7498 - lr: 0.0010 - 77s/epoch - 18ms/step
Epoch 30/75
4378/4378 - 77s - loss: 0.2201 - accuracy: 0.7610 - val_loss: 0.2501 - val_accuracy: 0.7695 - lr: 0.0010 - 77s/epoch - 18ms/step
Epoch 31/75
4378/4378 - 77s - loss: 0.2197 - accuracy: 0.7612 - val_loss: 0.2571 - val_accuracy: 0.7485 - lr: 0.0010 - 77s/epoch - 18ms/step
Epoch 32/75
4378/4378 - 77s - loss: 0.2219 - accuracy: 0.7597 - val_loss: 0.2396 - val_accuracy: 0.7730 - lr: 0.0010 - 77s/epoch - 18ms/step
Epoch 33/75
4378/4378 - 77s - loss: 0.2215 - accuracy: 0.7593 - val_loss: 0.2275 - val_accuracy: 0.7959 - lr: 0.0010 - 77s/epoch - 18ms/step
Epoch 34/75
4378/4378 - 77s - loss: 0.2216 - accuracy: 0.7590 - val_loss: 0.2722 - val_accuracy: 0.7196 - lr: 0.0010 - 77s/epoch - 18ms/step
Epoch 35/75
4378/4378 - 77s - loss: 0.2206 - accuracy: 0.7616 - val_loss: 0.2662 - val_accuracy: 0.7347 - lr: 0.0010 - 77s/epoch - 18ms/step
Epoch 36/75
4378/4378 - 77s - loss: 0.2214 - accuracy: 0.7593 - val_loss: 0.2493 - val_accuracy: 0.7525 - lr: 0.0010 - 77s/epoch - 18ms/step
Epoch 37/75
4378/4378 - 77s - loss: 0.2212 - accuracy: 0.7606 - val_loss: 0.2610 - val_accuracy: 0.7507 - lr: 0.0010 - 77s/epoch - 18ms/step
Epoch 38/75
4378/4378 - 77s - loss: 0.2207 - accuracy: 0.7614 - val_loss: 0.2557 - val_accuracy: 0.7405 - lr: 0.0010 - 77s/epoch - 18ms/step
Epoch 39/75
4378/4378 - 77s - loss: 0.2196 - accuracy: 0.7600 - val_loss: 0.2529 - val_accuracy: 0.7588 - lr: 0.0010 - 77s/epoch - 18ms/step
Epoch 40/75
4378/4378 - 77s - loss: 0.2196 - accuracy: 0.7611 - val_loss: 0.2538 - val_accuracy: 0.7453 - lr: 0.0010 - 77s/epoch - 18ms/step
Epoch 41/75
4378/4378 - 77s - loss: 0.2189 - accuracy: 0.7629 - val_loss: 0.2684 - val_accuracy: 0.7225 - lr: 0.0010 - 77s/epoch - 18ms/step
Epoch 42/75
4378/4378 - 77s - loss: 0.2192 - accuracy: 0.7616 - val_loss: 0.2461 - val_accuracy: 0.7651 - lr: 0.0010 - 77s/epoch - 18ms/step
Epoch 43/75
4378/4378 - 77s - loss: 0.2187 - accuracy: 0.7620 - val_loss: 0.2580 - val_accuracy: 0.7231 - lr: 0.0010 - 77s/epoch - 18ms/step
Epoch 44/75
4378/4378 - 77s - loss: 0.2187 - accuracy: 0.7617 - val_loss: 0.2801 - val_accuracy: 0.7165 - lr: 0.0010 - 77s/epoch - 18ms/step
Epoch 45/75
4378/4378 - 77s - loss: 0.2196 - accuracy: 0.7605 - val_loss: 0.2584 - val_accuracy: 0.7427 - lr: 0.0010 - 77s/epoch - 18ms/step
Epoch 46/75
4378/4378 - 77s - loss: 0.2205 - accuracy: 0.7600 - val_loss: 0.2794 - val_accuracy: 0.7227 - lr: 0.0010 - 77s/epoch - 18ms/step
Epoch 47/75
4378/4378 - 77s - loss: 0.2202 - accuracy: 0.7593 - val_loss: 0.2561 - val_accuracy: 0.7522 - lr: 0.0010 - 77s/epoch - 18ms/step
Epoch 48/75
4378/4378 - 78s - loss: 0.2188 - accuracy: 0.7624 - val_loss: 0.2550 - val_accuracy: 0.7483 - lr: 0.0010 - 78s/epoch - 18ms/step
Epoch 49/75
4378/4378 - 77s - loss: 0.2197 - accuracy: 0.7619 - val_loss: 0.2556 - val_accuracy: 0.7403 - lr: 0.0010 - 77s/epoch - 18ms/step
Epoch 50/75
4378/4378 - 77s - loss: 0.2210 - accuracy: 0.7596 - val_loss: 0.2384 - val_accuracy: 0.7779 - lr: 0.0010 - 77s/epoch - 18ms/step
Epoch 51/75
4378/4378 - 77s - loss: 0.2193 - accuracy: 0.7610 - val_loss: 0.2531 - val_accuracy: 0.7380 - lr: 0.0010 - 77s/epoch - 18ms/step
Epoch 52/75
4378/4378 - 77s - loss: 0.2191 - accuracy: 0.7614 - val_loss: 0.2539 - val_accuracy: 0.7427 - lr: 0.0010 - 77s/epoch - 18ms/step
Epoch 53/75
4378/4378 - 77s - loss: 0.2205 - accuracy: 0.7606 - val_loss: 0.2623 - val_accuracy: 0.7221 - lr: 0.0010 - 77s/epoch - 18ms/step
Epoch 54/75
4378/4378 - 77s - loss: 0.2193 - accuracy: 0.7608 - val_loss: 0.2568 - val_accuracy: 0.7433 - lr: 0.0010 - 77s/epoch - 18ms/step
Epoch 55/75
4378/4378 - 77s - loss: 0.2187 - accuracy: 0.7616 - val_loss: 0.2854 - val_accuracy: 0.7054 - lr: 0.0010 - 77s/epoch - 18ms/step
Epoch 56/75
4378/4378 - 77s - loss: 0.2189 - accuracy: 0.7610 - val_loss: 0.2565 - val_accuracy: 0.7537 - lr: 0.0010 - 77s/epoch - 18ms/step
Epoch 57/75
4378/4378 - 77s - loss: 0.2189 - accuracy: 0.7626 - val_loss: 0.2831 - val_accuracy: 0.7201 - lr: 0.0010 - 77s/epoch - 18ms/step
Epoch 58/75
4378/4378 - 77s - loss: 0.2203 - accuracy: 0.7598 - val_loss: 0.2557 - val_accuracy: 0.7609 - lr: 0.0010 - 77s/epoch - 18ms/step
Epoch 59/75
4378/4378 - 77s - loss: 0.2188 - accuracy: 0.7617 - val_loss: 0.2767 - val_accuracy: 0.7144 - lr: 0.0010 - 77s/epoch - 18ms/step
Epoch 60/75
4378/4378 - 77s - loss: 0.2202 - accuracy: 0.7609 - val_loss: 0.2742 - val_accuracy: 0.7242 - lr: 0.0010 - 77s/epoch - 17ms/step
Epoch 61/75
4378/4378 - 77s - loss: 0.2201 - accuracy: 0.7603 - val_loss: 0.2432 - val_accuracy: 0.7783 - lr: 0.0010 - 77s/epoch - 18ms/step
Epoch 62/75
4378/4378 - 77s - loss: 0.2196 - accuracy: 0.7629 - val_loss: 0.2631 - val_accuracy: 0.7270 - lr: 0.0010 - 77s/epoch - 18ms/step
Epoch 63/75
4378/4378 - 78s - loss: 0.2195 - accuracy: 0.7622 - val_loss: 0.2595 - val_accuracy: 0.7278 - lr: 0.0010 - 78s/epoch - 18ms/step
Epoch 64/75
4378/4378 - 78s - loss: 0.2188 - accuracy: 0.7632 - val_loss: 0.2562 - val_accuracy: 0.7357 - lr: 0.0010 - 78s/epoch - 18ms/step
Epoch 65/75
4378/4378 - 77s - loss: 0.2184 - accuracy: 0.7624 - val_loss: 0.2675 - val_accuracy: 0.7181 - lr: 0.0010 - 77s/epoch - 18ms/step
Epoch 66/75
4378/4378 - 77s - loss: 0.2187 - accuracy: 0.7622 - val_loss: 0.2583 - val_accuracy: 0.7356 - lr: 0.0010 - 77s/epoch - 18ms/step
Epoch 67/75
4378/4378 - 77s - loss: 0.2187 - accuracy: 0.7629 - val_loss: 0.2669 - val_accuracy: 0.7226 - lr: 0.0010 - 77s/epoch - 18ms/step
Epoch 68/75
4378/4378 - 77s - loss: 0.2198 - accuracy: 0.7609 - val_loss: 0.2590 - val_accuracy: 0.7380 - lr: 0.0010 - 77s/epoch - 18ms/step
Epoch 69/75
4378/4378 - 77s - loss: 0.2192 - accuracy: 0.7612 - val_loss: 0.2627 - val_accuracy: 0.7416 - lr: 0.0010 - 77s/epoch - 18ms/step
Epoch 70/75
4378/4378 - 77s - loss: 0.2184 - accuracy: 0.7628 - val_loss: 0.2524 - val_accuracy: 0.7567 - lr: 0.0010 - 77s/epoch - 18ms/step
Epoch 71/75
4378/4378 - 77s - loss: 0.2184 - accuracy: 0.7626 - val_loss: 0.2580 - val_accuracy: 0.7325 - lr: 0.0010 - 77s/epoch - 18ms/step
Epoch 72/75
4378/4378 - 77s - loss: 0.2174 - accuracy: 0.7623 - val_loss: 0.2688 - val_accuracy: 0.7182 - lr: 0.0010 - 77s/epoch - 18ms/step
Epoch 73/75
4378/4378 - 77s - loss: 0.2166 - accuracy: 0.7671 - val_loss: 0.2881 - val_accuracy: 0.7030 - lr: 0.0010 - 77s/epoch - 18ms/step
Epoch 74/75
4378/4378 - 77s - loss: 0.2177 - accuracy: 0.7642 - val_loss: 0.2747 - val_accuracy: 0.7249 - lr: 0.0010 - 77s/epoch - 18ms/step
Epoch 75/75
4378/4378 - 77s - loss: 0.2178 - accuracy: 0.7643 - val_loss: 0.2588 - val_accuracy: 0.7511 - lr: 0.0010 - 77s/epoch - 18ms/step
fitting with batch size: 100
Epoch 1/75
876/876 - 22s - loss: 0.1975 - accuracy: 0.7856 - val_loss: 0.2504 - val_accuracy: 0.7437 - lr: 0.0010 - 22s/epoch - 25ms/step
Epoch 2/75
876/876 - 18s - loss: 0.1901 - accuracy: 0.7935 - val_loss: 0.2573 - val_accuracy: 0.7329 - lr: 0.0010 - 18s/epoch - 21ms/step
Epoch 3/75
876/876 - 18s - loss: 0.1887 - accuracy: 0.7956 - val_loss: 0.2580 - val_accuracy: 0.7365 - lr: 0.0010 - 18s/epoch - 21ms/step
Epoch 4/75
876/876 - 18s - loss: 0.1885 - accuracy: 0.7945 - val_loss: 0.2571 - val_accuracy: 0.7268 - lr: 0.0010 - 18s/epoch - 21ms/step
Epoch 5/75
876/876 - 18s - loss: 0.1875 - accuracy: 0.7968 - val_loss: 0.2598 - val_accuracy: 0.7419 - lr: 0.0010 - 18s/epoch - 21ms/step
Epoch 6/75
876/876 - 18s - loss: 0.1866 - accuracy: 0.7983 - val_loss: 0.2582 - val_accuracy: 0.7224 - lr: 0.0010 - 18s/epoch - 21ms/step
Epoch 7/75
876/876 - 18s - loss: 0.1865 - accuracy: 0.7972 - val_loss: 0.2482 - val_accuracy: 0.7412 - lr: 0.0010 - 18s/epoch - 21ms/step
Epoch 8/75
876/876 - 18s - loss: 0.1840 - accuracy: 0.8023 - val_loss: 0.2717 - val_accuracy: 0.7027 - lr: 0.0010 - 18s/epoch - 21ms/step
Epoch 9/75
876/876 - 18s - loss: 0.1832 - accuracy: 0.8032 - val_loss: 0.2632 - val_accuracy: 0.7372 - lr: 0.0010 - 18s/epoch - 21ms/step
Epoch 10/75
876/876 - 18s - loss: 0.1824 - accuracy: 0.8026 - val_loss: 0.2865 - val_accuracy: 0.6947 - lr: 0.0010 - 18s/epoch - 21ms/step
Epoch 11/75
876/876 - 18s - loss: 0.1825 - accuracy: 0.8031 - val_loss: 0.2564 - val_accuracy: 0.7340 - lr: 0.0010 - 18s/epoch - 21ms/step
Epoch 12/75
876/876 - 18s - loss: 0.1817 - accuracy: 0.8039 - val_loss: 0.2326 - val_accuracy: 0.7587 - lr: 0.0010 - 18s/epoch - 21ms/step
Epoch 13/75
876/876 - 18s - loss: 0.1823 - accuracy: 0.8036 - val_loss: 0.2633 - val_accuracy: 0.7338 - lr: 0.0010 - 18s/epoch - 21ms/step
Epoch 14/75
876/876 - 18s - loss: 0.1802 - accuracy: 0.8065 - val_loss: 0.2619 - val_accuracy: 0.7273 - lr: 0.0010 - 18s/epoch - 21ms/step
Epoch 15/75
876/876 - 19s - loss: 0.1794 - accuracy: 0.8081 - val_loss: 0.2640 - val_accuracy: 0.7182 - lr: 0.0010 - 19s/epoch - 21ms/step
Epoch 16/75
876/876 - 18s - loss: 0.1798 - accuracy: 0.8062 - val_loss: 0.2695 - val_accuracy: 0.7052 - lr: 0.0010 - 18s/epoch - 21ms/step
Epoch 17/75
876/876 - 18s - loss: 0.1785 - accuracy: 0.8078 - val_loss: 0.2622 - val_accuracy: 0.7148 - lr: 0.0010 - 18s/epoch - 21ms/step
Epoch 18/75
876/876 - 19s - loss: 0.1799 - accuracy: 0.8060 - val_loss: 0.2319 - val_accuracy: 0.7552 - lr: 0.0010 - 19s/epoch - 21ms/step
Epoch 19/75
876/876 - 18s - loss: 0.1791 - accuracy: 0.8062 - val_loss: 0.2722 - val_accuracy: 0.7135 - lr: 0.0010 - 18s/epoch - 21ms/step
Epoch 20/75
876/876 - 18s - loss: 0.1776 - accuracy: 0.8082 - val_loss: 0.2570 - val_accuracy: 0.7293 - lr: 0.0010 - 18s/epoch - 21ms/step
Epoch 21/75
876/876 - 19s - loss: 0.1770 - accuracy: 0.8093 - val_loss: 0.2576 - val_accuracy: 0.7370 - lr: 0.0010 - 19s/epoch - 21ms/step
Epoch 22/75
876/876 - 18s - loss: 0.1772 - accuracy: 0.8101 - val_loss: 0.2572 - val_accuracy: 0.7394 - lr: 0.0010 - 18s/epoch - 21ms/step
Epoch 23/75
876/876 - 18s - loss: 0.1769 - accuracy: 0.8094 - val_loss: 0.2603 - val_accuracy: 0.7275 - lr: 0.0010 - 18s/epoch - 21ms/step
Epoch 24/75
876/876 - 19s - loss: 0.1770 - accuracy: 0.8106 - val_loss: 0.2893 - val_accuracy: 0.6936 - lr: 0.0010 - 19s/epoch - 21ms/step
Epoch 25/75
876/876 - 18s - loss: 0.1749 - accuracy: 0.8112 - val_loss: 0.2896 - val_accuracy: 0.7036 - lr: 0.0010 - 18s/epoch - 21ms/step
Epoch 26/75
876/876 - 18s - loss: 0.1763 - accuracy: 0.8101 - val_loss: 0.2748 - val_accuracy: 0.7114 - lr: 0.0010 - 18s/epoch - 21ms/step
Epoch 27/75
876/876 - 19s - loss: 0.1762 - accuracy: 0.8114 - val_loss: 0.2756 - val_accuracy: 0.7097 - lr: 0.0010 - 19s/epoch - 21ms/step
Epoch 28/75
876/876 - 18s - loss: 0.1756 - accuracy: 0.8113 - val_loss: 0.2561 - val_accuracy: 0.7268 - lr: 0.0010 - 18s/epoch - 21ms/step
Epoch 29/75
876/876 - 18s - loss: 0.1748 - accuracy: 0.8128 - val_loss: 0.2755 - val_accuracy: 0.7018 - lr: 0.0010 - 18s/epoch - 21ms/step
Epoch 30/75
876/876 - 18s - loss: 0.1742 - accuracy: 0.8121 - val_loss: 0.2894 - val_accuracy: 0.6992 - lr: 0.0010 - 18s/epoch - 21ms/step
Epoch 31/75
876/876 - 18s - loss: 0.1743 - accuracy: 0.8130 - val_loss: 0.2524 - val_accuracy: 0.7306 - lr: 0.0010 - 18s/epoch - 21ms/step
Epoch 32/75
876/876 - 18s - loss: 0.1737 - accuracy: 0.8130 - val_loss: 0.2663 - val_accuracy: 0.7145 - lr: 0.0010 - 18s/epoch - 21ms/step
Epoch 33/75
876/876 - 18s - loss: 0.1719 - accuracy: 0.8162 - val_loss: 0.2831 - val_accuracy: 0.6968 - lr: 0.0010 - 18s/epoch - 21ms/step
Epoch 34/75
876/876 - 19s - loss: 0.1738 - accuracy: 0.8140 - val_loss: 0.2713 - val_accuracy: 0.7194 - lr: 0.0010 - 19s/epoch - 21ms/step
Epoch 35/75
876/876 - 18s - loss: 0.1729 - accuracy: 0.8145 - val_loss: 0.2632 - val_accuracy: 0.7145 - lr: 0.0010 - 18s/epoch - 21ms/step
Epoch 36/75
876/876 - 18s - loss: 0.1729 - accuracy: 0.8153 - val_loss: 0.2887 - val_accuracy: 0.6948 - lr: 0.0010 - 18s/epoch - 21ms/step
Epoch 37/75
876/876 - 19s - loss: 0.1719 - accuracy: 0.8163 - val_loss: 0.2677 - val_accuracy: 0.7184 - lr: 0.0010 - 19s/epoch - 21ms/step
Epoch 38/75
876/876 - 18s - loss: 0.1722 - accuracy: 0.8145 - val_loss: 0.2642 - val_accuracy: 0.7184 - lr: 0.0010 - 18s/epoch - 21ms/step
Epoch 39/75
876/876 - 18s - loss: 0.1722 - accuracy: 0.8164 - val_loss: 0.2374 - val_accuracy: 0.7422 - lr: 0.0010 - 18s/epoch - 21ms/step
Epoch 40/75
876/876 - 19s - loss: 0.1718 - accuracy: 0.8151 - val_loss: 0.2618 - val_accuracy: 0.7202 - lr: 0.0010 - 19s/epoch - 21ms/step
Epoch 41/75
876/876 - 18s - loss: 0.1721 - accuracy: 0.8160 - val_loss: 0.2838 - val_accuracy: 0.6980 - lr: 0.0010 - 18s/epoch - 21ms/step
Epoch 42/75
876/876 - 18s - loss: 0.1720 - accuracy: 0.8162 - val_loss: 0.2375 - val_accuracy: 0.7440 - lr: 0.0010 - 18s/epoch - 21ms/step
Epoch 43/75
876/876 - 19s - loss: 0.1726 - accuracy: 0.8139 - val_loss: 0.2574 - val_accuracy: 0.7215 - lr: 0.0010 - 19s/epoch - 21ms/step
Epoch 44/75
876/876 - 18s - loss: 0.1707 - accuracy: 0.8172 - val_loss: 0.2682 - val_accuracy: 0.7093 - lr: 0.0010 - 18s/epoch - 21ms/step
Epoch 45/75
876/876 - 18s - loss: 0.1706 - accuracy: 0.8170 - val_loss: 0.2685 - val_accuracy: 0.7116 - lr: 0.0010 - 18s/epoch - 21ms/step
Epoch 46/75
876/876 - 18s - loss: 0.1713 - accuracy: 0.8164 - val_loss: 0.2630 - val_accuracy: 0.7186 - lr: 0.0010 - 18s/epoch - 21ms/step
Epoch 47/75
876/876 - 18s - loss: 0.1704 - accuracy: 0.8183 - val_loss: 0.2654 - val_accuracy: 0.7145 - lr: 0.0010 - 18s/epoch - 21ms/step
Epoch 48/75
876/876 - 19s - loss: 0.1695 - accuracy: 0.8188 - val_loss: 0.2405 - val_accuracy: 0.7484 - lr: 0.0010 - 19s/epoch - 21ms/step
Epoch 49/75
876/876 - 18s - loss: 0.1692 - accuracy: 0.8186 - val_loss: 0.2646 - val_accuracy: 0.7194 - lr: 0.0010 - 18s/epoch - 21ms/step
Epoch 50/75
876/876 - 18s - loss: 0.1681 - accuracy: 0.8207 - val_loss: 0.2740 - val_accuracy: 0.7143 - lr: 0.0010 - 18s/epoch - 21ms/step
Epoch 51/75
876/876 - 18s - loss: 0.1728 - accuracy: 0.8158 - val_loss: 0.2715 - val_accuracy: 0.7019 - lr: 0.0010 - 18s/epoch - 21ms/step
Epoch 52/75
876/876 - 18s - loss: 0.1694 - accuracy: 0.8185 - val_loss: 0.2545 - val_accuracy: 0.7281 - lr: 0.0010 - 18s/epoch - 21ms/step
Epoch 53/75
876/876 - 18s - loss: 0.1688 - accuracy: 0.8201 - val_loss: 0.2614 - val_accuracy: 0.7157 - lr: 0.0010 - 18s/epoch - 21ms/step
Epoch 54/75
876/876 - 18s - loss: 0.1678 - accuracy: 0.8207 - val_loss: 0.2658 - val_accuracy: 0.7098 - lr: 0.0010 - 18s/epoch - 21ms/step
Epoch 55/75
876/876 - 19s - loss: 0.1688 - accuracy: 0.8198 - val_loss: 0.2486 - val_accuracy: 0.7366 - lr: 0.0010 - 19s/epoch - 21ms/step
Epoch 56/75
876/876 - 19s - loss: 0.1685 - accuracy: 0.8210 - val_loss: 0.2740 - val_accuracy: 0.7087 - lr: 0.0010 - 19s/epoch - 21ms/step
Epoch 57/75
876/876 - 18s - loss: 0.1678 - accuracy: 0.8199 - val_loss: 0.2518 - val_accuracy: 0.7405 - lr: 0.0010 - 18s/epoch - 21ms/step
Epoch 58/75
876/876 - 18s - loss: 0.1679 - accuracy: 0.8213 - val_loss: 0.2782 - val_accuracy: 0.7045 - lr: 0.0010 - 18s/epoch - 21ms/step
Epoch 59/75
876/876 - 18s - loss: 0.1676 - accuracy: 0.8204 - val_loss: 0.2774 - val_accuracy: 0.6974 - lr: 0.0010 - 18s/epoch - 21ms/step
Epoch 60/75
876/876 - 18s - loss: 0.1680 - accuracy: 0.8208 - val_loss: 0.2552 - val_accuracy: 0.7361 - lr: 0.0010 - 18s/epoch - 21ms/step
Epoch 61/75
876/876 - 18s - loss: 0.1692 - accuracy: 0.8194 - val_loss: 0.2637 - val_accuracy: 0.7233 - lr: 0.0010 - 18s/epoch - 21ms/step
Epoch 62/75
876/876 - 19s - loss: 0.1674 - accuracy: 0.8227 - val_loss: 0.2569 - val_accuracy: 0.7273 - lr: 0.0010 - 19s/epoch - 21ms/step
Epoch 63/75
876/876 - 18s - loss: 0.1675 - accuracy: 0.8205 - val_loss: 0.2890 - val_accuracy: 0.6941 - lr: 0.0010 - 18s/epoch - 21ms/step
Epoch 64/75
876/876 - 18s - loss: 0.1665 - accuracy: 0.8222 - val_loss: 0.2940 - val_accuracy: 0.6891 - lr: 0.0010 - 18s/epoch - 21ms/step
Epoch 65/75
876/876 - 18s - loss: 0.1672 - accuracy: 0.8219 - val_loss: 0.2596 - val_accuracy: 0.7324 - lr: 0.0010 - 18s/epoch - 21ms/step
Epoch 66/75
876/876 - 18s - loss: 0.1661 - accuracy: 0.8232 - val_loss: 0.2549 - val_accuracy: 0.7376 - lr: 0.0010 - 18s/epoch - 21ms/step
Epoch 67/75
876/876 - 18s - loss: 0.1666 - accuracy: 0.8221 - val_loss: 0.2579 - val_accuracy: 0.7193 - lr: 0.0010 - 18s/epoch - 21ms/step
Epoch 68/75
876/876 - 18s - loss: 0.1659 - accuracy: 0.8234 - val_loss: 0.2765 - val_accuracy: 0.7011 - lr: 0.0010 - 18s/epoch - 21ms/step
Epoch 69/75
876/876 - 18s - loss: 0.1662 - accuracy: 0.8230 - val_loss: 0.2611 - val_accuracy: 0.7207 - lr: 0.0010 - 18s/epoch - 21ms/step
Epoch 70/75
876/876 - 18s - loss: 0.1656 - accuracy: 0.8238 - val_loss: 0.2827 - val_accuracy: 0.6958 - lr: 0.0010 - 18s/epoch - 21ms/step
Epoch 71/75
876/876 - 19s - loss: 0.1656 - accuracy: 0.8229 - val_loss: 0.2515 - val_accuracy: 0.7341 - lr: 0.0010 - 19s/epoch - 21ms/step
Epoch 72/75
876/876 - 18s - loss: 0.1654 - accuracy: 0.8253 - val_loss: 0.2598 - val_accuracy: 0.7147 - lr: 0.0010 - 18s/epoch - 21ms/step
Epoch 73/75
876/876 - 18s - loss: 0.1656 - accuracy: 0.8233 - val_loss: 0.2736 - val_accuracy: 0.7168 - lr: 0.0010 - 18s/epoch - 21ms/step
Epoch 74/75
876/876 - 18s - loss: 0.1658 - accuracy: 0.8223 - val_loss: 0.2791 - val_accuracy: 0.7045 - lr: 0.0010 - 18s/epoch - 21ms/step
Epoch 75/75
876/876 - 18s - loss: 0.1649 - accuracy: 0.8244 - val_loss: 0.2657 - val_accuracy: 0.7197 - lr: 0.0010 - 18s/epoch - 21ms/step
fitting with batch size: 500
Epoch 1/75
176/176 - 11s - loss: 0.1508 - accuracy: 0.8406 - val_loss: 0.2726 - val_accuracy: 0.7071 - lr: 0.0010 - 11s/epoch - 64ms/step
Epoch 2/75
176/176 - 9s - loss: 0.1458 - accuracy: 0.8456 - val_loss: 0.2675 - val_accuracy: 0.7092 - lr: 0.0010 - 9s/epoch - 50ms/step
Epoch 3/75
176/176 - 9s - loss: 0.1442 - accuracy: 0.8472 - val_loss: 0.2729 - val_accuracy: 0.6988 - lr: 0.0010 - 9s/epoch - 50ms/step
Epoch 4/75
176/176 - 9s - loss: 0.1432 - accuracy: 0.8491 - val_loss: 0.2715 - val_accuracy: 0.7001 - lr: 0.0010 - 9s/epoch - 50ms/step
Epoch 5/75
176/176 - 9s - loss: 0.1427 - accuracy: 0.8493 - val_loss: 0.2712 - val_accuracy: 0.7046 - lr: 0.0010 - 9s/epoch - 51ms/step
Epoch 6/75
176/176 - 9s - loss: 0.1423 - accuracy: 0.8504 - val_loss: 0.2818 - val_accuracy: 0.6961 - lr: 0.0010 - 9s/epoch - 50ms/step
Epoch 7/75
176/176 - 9s - loss: 0.1421 - accuracy: 0.8508 - val_loss: 0.2774 - val_accuracy: 0.6962 - lr: 0.0010 - 9s/epoch - 50ms/step
Epoch 8/75
176/176 - 9s - loss: 0.1417 - accuracy: 0.8506 - val_loss: 0.2880 - val_accuracy: 0.6882 - lr: 0.0010 - 9s/epoch - 50ms/step
Epoch 9/75
176/176 - 9s - loss: 0.1424 - accuracy: 0.8502 - val_loss: 0.2711 - val_accuracy: 0.7038 - lr: 0.0010 - 9s/epoch - 50ms/step
Epoch 10/75
176/176 - 9s - loss: 0.1427 - accuracy: 0.8500 - val_loss: 0.2730 - val_accuracy: 0.7032 - lr: 0.0010 - 9s/epoch - 50ms/step
Epoch 11/75
176/176 - 9s - loss: 0.1418 - accuracy: 0.8513 - val_loss: 0.2847 - val_accuracy: 0.6942 - lr: 0.0010 - 9s/epoch - 50ms/step
Epoch 12/75
176/176 - 9s - loss: 0.1424 - accuracy: 0.8498 - val_loss: 0.2577 - val_accuracy: 0.7197 - lr: 0.0010 - 9s/epoch - 50ms/step
Epoch 13/75
176/176 - 9s - loss: 0.1425 - accuracy: 0.8498 - val_loss: 0.2682 - val_accuracy: 0.7113 - lr: 0.0010 - 9s/epoch - 50ms/step
Epoch 14/75
176/176 - 9s - loss: 0.1421 - accuracy: 0.8502 - val_loss: 0.2854 - val_accuracy: 0.6951 - lr: 0.0010 - 9s/epoch - 50ms/step
Epoch 15/75
176/176 - 9s - loss: 0.1418 - accuracy: 0.8515 - val_loss: 0.2724 - val_accuracy: 0.7053 - lr: 0.0010 - 9s/epoch - 50ms/step
Epoch 16/75
176/176 - 9s - loss: 0.1408 - accuracy: 0.8528 - val_loss: 0.2731 - val_accuracy: 0.7047 - lr: 0.0010 - 9s/epoch - 50ms/step
Epoch 17/75
176/176 - 9s - loss: 0.1412 - accuracy: 0.8522 - val_loss: 0.2819 - val_accuracy: 0.6960 - lr: 0.0010 - 9s/epoch - 50ms/step
Epoch 18/75
176/176 - 9s - loss: 0.1422 - accuracy: 0.8505 - val_loss: 0.2717 - val_accuracy: 0.7055 - lr: 0.0010 - 9s/epoch - 50ms/step
Epoch 19/75
176/176 - 9s - loss: 0.1429 - accuracy: 0.8503 - val_loss: 0.2728 - val_accuracy: 0.7047 - lr: 0.0010 - 9s/epoch - 50ms/step
Epoch 20/75
176/176 - 9s - loss: 0.1423 - accuracy: 0.8500 - val_loss: 0.2787 - val_accuracy: 0.7062 - lr: 0.0010 - 9s/epoch - 50ms/step
Epoch 21/75
176/176 - 9s - loss: 0.1411 - accuracy: 0.8524 - val_loss: 0.2830 - val_accuracy: 0.6961 - lr: 0.0010 - 9s/epoch - 51ms/step
Epoch 22/75
176/176 - 9s - loss: 0.1405 - accuracy: 0.8521 - val_loss: 0.2834 - val_accuracy: 0.6914 - lr: 0.0010 - 9s/epoch - 50ms/step
Epoch 23/75
176/176 - 9s - loss: 0.1423 - accuracy: 0.8510 - val_loss: 0.2904 - val_accuracy: 0.6904 - lr: 0.0010 - 9s/epoch - 50ms/step
Epoch 24/75
176/176 - 9s - loss: 0.1399 - accuracy: 0.8531 - val_loss: 0.2804 - val_accuracy: 0.6977 - lr: 0.0010 - 9s/epoch - 50ms/step
Epoch 25/75
176/176 - 9s - loss: 0.1400 - accuracy: 0.8542 - val_loss: 0.2870 - val_accuracy: 0.6923 - lr: 0.0010 - 9s/epoch - 50ms/step
Epoch 26/75
176/176 - 9s - loss: 0.1401 - accuracy: 0.8525 - val_loss: 0.2873 - val_accuracy: 0.6925 - lr: 0.0010 - 9s/epoch - 50ms/step
Epoch 27/75
176/176 - 9s - loss: 0.1399 - accuracy: 0.8536 - val_loss: 0.2849 - val_accuracy: 0.6903 - lr: 0.0010 - 9s/epoch - 50ms/step
Epoch 28/75
176/176 - 9s - loss: 0.1408 - accuracy: 0.8526 - val_loss: 0.2696 - val_accuracy: 0.7067 - lr: 0.0010 - 9s/epoch - 50ms/step
Epoch 29/75
176/176 - 9s - loss: 0.1399 - accuracy: 0.8534 - val_loss: 0.2794 - val_accuracy: 0.6948 - lr: 0.0010 - 9s/epoch - 50ms/step
Epoch 30/75
176/176 - 9s - loss: 0.1397 - accuracy: 0.8538 - val_loss: 0.2768 - val_accuracy: 0.6972 - lr: 0.0010 - 9s/epoch - 50ms/step
Epoch 31/75
176/176 - 9s - loss: 0.1397 - accuracy: 0.8538 - val_loss: 0.2747 - val_accuracy: 0.7024 - lr: 0.0010 - 9s/epoch - 50ms/step
Epoch 32/75
176/176 - 9s - loss: 0.1399 - accuracy: 0.8540 - val_loss: 0.2905 - val_accuracy: 0.6866 - lr: 0.0010 - 9s/epoch - 50ms/step
Epoch 33/75
176/176 - 9s - loss: 0.1396 - accuracy: 0.8548 - val_loss: 0.2784 - val_accuracy: 0.6940 - lr: 0.0010 - 9s/epoch - 50ms/step
Epoch 34/75
176/176 - 9s - loss: 0.1379 - accuracy: 0.8555 - val_loss: 0.2893 - val_accuracy: 0.6871 - lr: 0.0010 - 9s/epoch - 50ms/step
Epoch 35/75
176/176 - 9s - loss: 0.1396 - accuracy: 0.8556 - val_loss: 0.2800 - val_accuracy: 0.6959 - lr: 0.0010 - 9s/epoch - 51ms/step
Epoch 36/75
176/176 - 9s - loss: 0.1384 - accuracy: 0.8561 - val_loss: 0.2912 - val_accuracy: 0.6849 - lr: 0.0010 - 9s/epoch - 50ms/step
Epoch 37/75
176/176 - 9s - loss: 0.1372 - accuracy: 0.8569 - val_loss: 0.2718 - val_accuracy: 0.7102 - lr: 0.0010 - 9s/epoch - 50ms/step
Epoch 38/75
176/176 - 9s - loss: 0.1375 - accuracy: 0.8566 - val_loss: 0.2746 - val_accuracy: 0.7029 - lr: 0.0010 - 9s/epoch - 50ms/step
Epoch 39/75
176/176 - 9s - loss: 0.1375 - accuracy: 0.8564 - val_loss: 0.2793 - val_accuracy: 0.7007 - lr: 0.0010 - 9s/epoch - 50ms/step
Epoch 40/75
176/176 - 9s - loss: 0.1376 - accuracy: 0.8560 - val_loss: 0.2871 - val_accuracy: 0.6921 - lr: 0.0010 - 9s/epoch - 50ms/step
Epoch 41/75
176/176 - 9s - loss: 0.1374 - accuracy: 0.8567 - val_loss: 0.2832 - val_accuracy: 0.6931 - lr: 0.0010 - 9s/epoch - 50ms/step
Epoch 42/75
176/176 - 9s - loss: 0.1375 - accuracy: 0.8571 - val_loss: 0.2829 - val_accuracy: 0.6984 - lr: 0.0010 - 9s/epoch - 50ms/step
Epoch 43/75
176/176 - 9s - loss: 0.1371 - accuracy: 0.8562 - val_loss: 0.2819 - val_accuracy: 0.7004 - lr: 0.0010 - 9s/epoch - 50ms/step
Epoch 44/75
176/176 - 9s - loss: 0.1382 - accuracy: 0.8556 - val_loss: 0.2889 - val_accuracy: 0.6951 - lr: 0.0010 - 9s/epoch - 50ms/step
Epoch 45/75
176/176 - 9s - loss: 0.1390 - accuracy: 0.8540 - val_loss: 0.2980 - val_accuracy: 0.6873 - lr: 0.0010 - 9s/epoch - 50ms/step
Epoch 46/75
176/176 - 9s - loss: 0.1371 - accuracy: 0.8568 - val_loss: 0.2837 - val_accuracy: 0.6945 - lr: 0.0010 - 9s/epoch - 51ms/step
Epoch 47/75
176/176 - 9s - loss: 0.1379 - accuracy: 0.8559 - val_loss: 0.2936 - val_accuracy: 0.6892 - lr: 0.0010 - 9s/epoch - 50ms/step
Epoch 48/75
176/176 - 9s - loss: 0.1369 - accuracy: 0.8573 - val_loss: 0.2775 - val_accuracy: 0.7003 - lr: 0.0010 - 9s/epoch - 50ms/step
Epoch 49/75
176/176 - 9s - loss: 0.1359 - accuracy: 0.8584 - val_loss: 0.2888 - val_accuracy: 0.6929 - lr: 0.0010 - 9s/epoch - 50ms/step
Epoch 50/75
176/176 - 9s - loss: 0.1375 - accuracy: 0.8565 - val_loss: 0.2870 - val_accuracy: 0.6938 - lr: 0.0010 - 9s/epoch - 50ms/step
Epoch 51/75
176/176 - 9s - loss: 0.1371 - accuracy: 0.8576 - val_loss: 0.2947 - val_accuracy: 0.6902 - lr: 0.0010 - 9s/epoch - 50ms/step
Epoch 52/75
176/176 - 9s - loss: 0.1355 - accuracy: 0.8583 - val_loss: 0.2921 - val_accuracy: 0.6913 - lr: 0.0010 - 9s/epoch - 50ms/step
Epoch 53/75
176/176 - 9s - loss: 0.1363 - accuracy: 0.8588 - val_loss: 0.2875 - val_accuracy: 0.6956 - lr: 0.0010 - 9s/epoch - 50ms/step
Epoch 54/75
176/176 - 9s - loss: 0.1364 - accuracy: 0.8579 - val_loss: 0.2898 - val_accuracy: 0.6897 - lr: 0.0010 - 9s/epoch - 50ms/step
Epoch 55/75
176/176 - 9s - loss: 0.1359 - accuracy: 0.8590 - val_loss: 0.2880 - val_accuracy: 0.6893 - lr: 0.0010 - 9s/epoch - 50ms/step
Epoch 56/75
176/176 - 9s - loss: 0.1371 - accuracy: 0.8573 - val_loss: 0.2835 - val_accuracy: 0.6941 - lr: 0.0010 - 9s/epoch - 50ms/step
Epoch 57/75
176/176 - 9s - loss: 0.1361 - accuracy: 0.8586 - val_loss: 0.2824 - val_accuracy: 0.7012 - lr: 0.0010 - 9s/epoch - 50ms/step
Epoch 58/75
176/176 - 9s - loss: 0.1356 - accuracy: 0.8586 - val_loss: 0.2789 - val_accuracy: 0.7087 - lr: 0.0010 - 9s/epoch - 50ms/step
Epoch 59/75
176/176 - 9s - loss: 0.1368 - accuracy: 0.8568 - val_loss: 0.2869 - val_accuracy: 0.6962 - lr: 0.0010 - 9s/epoch - 50ms/step
Epoch 60/75
176/176 - 9s - loss: 0.1363 - accuracy: 0.8578 - val_loss: 0.2913 - val_accuracy: 0.6927 - lr: 0.0010 - 9s/epoch - 50ms/step
Epoch 61/75
176/176 - 9s - loss: 0.1363 - accuracy: 0.8586 - val_loss: 0.2878 - val_accuracy: 0.6942 - lr: 0.0010 - 9s/epoch - 50ms/step
Epoch 62/75
176/176 - 9s - loss: 0.1350 - accuracy: 0.8597 - val_loss: 0.2754 - val_accuracy: 0.6995 - lr: 0.0010 - 9s/epoch - 50ms/step
Epoch 63/75
176/176 - 9s - loss: 0.1337 - accuracy: 0.8619 - val_loss: 0.2887 - val_accuracy: 0.6912 - lr: 0.0010 - 9s/epoch - 50ms/step
Epoch 64/75
176/176 - 9s - loss: 0.1336 - accuracy: 0.8614 - val_loss: 0.3002 - val_accuracy: 0.6781 - lr: 0.0010 - 9s/epoch - 50ms/step
Epoch 65/75
176/176 - 9s - loss: 0.1358 - accuracy: 0.8588 - val_loss: 0.2987 - val_accuracy: 0.6816 - lr: 0.0010 - 9s/epoch - 50ms/step
Epoch 66/75
176/176 - 9s - loss: 0.1345 - accuracy: 0.8601 - val_loss: 0.2976 - val_accuracy: 0.6840 - lr: 0.0010 - 9s/epoch - 50ms/step
Epoch 67/75
176/176 - 9s - loss: 0.1337 - accuracy: 0.8603 - val_loss: 0.3018 - val_accuracy: 0.6806 - lr: 0.0010 - 9s/epoch - 51ms/step
Epoch 68/75
176/176 - 9s - loss: 0.1333 - accuracy: 0.8615 - val_loss: 0.2897 - val_accuracy: 0.6920 - lr: 0.0010 - 9s/epoch - 50ms/step
Epoch 69/75
176/176 - 9s - loss: 0.1345 - accuracy: 0.8597 - val_loss: 0.2922 - val_accuracy: 0.6926 - lr: 0.0010 - 9s/epoch - 50ms/step
Epoch 70/75
176/176 - 9s - loss: 0.1350 - accuracy: 0.8592 - val_loss: 0.2977 - val_accuracy: 0.6860 - lr: 0.0010 - 9s/epoch - 50ms/step
Epoch 71/75
176/176 - 9s - loss: 0.1346 - accuracy: 0.8597 - val_loss: 0.2828 - val_accuracy: 0.7014 - lr: 0.0010 - 9s/epoch - 50ms/step
Epoch 72/75
176/176 - 9s - loss: 0.1343 - accuracy: 0.8600 - val_loss: 0.2983 - val_accuracy: 0.6913 - lr: 0.0010 - 9s/epoch - 50ms/step
Epoch 73/75
176/176 - 9s - loss: 0.1346 - accuracy: 0.8597 - val_loss: 0.2873 - val_accuracy: 0.6927 - lr: 0.0010 - 9s/epoch - 50ms/step
Epoch 74/75
176/176 - 9s - loss: 0.1338 - accuracy: 0.8617 - val_loss: 0.2883 - val_accuracy: 0.6992 - lr: 0.0010 - 9s/epoch - 50ms/step
Epoch 75/75
176/176 - 9s - loss: 0.1340 - accuracy: 0.8612 - val_loss: 0.2829 - val_accuracy: 0.7020 - lr: 0.0010 - 9s/epoch - 50ms/step
fitting with batch size: 1500
Epoch 1/75
59/59 - 10s - loss: 0.1287 - accuracy: 0.8663 - val_loss: 0.2939 - val_accuracy: 0.6929 - lr: 0.0010 - 10s/epoch - 174ms/step
Epoch 2/75
59/59 - 8s - loss: 0.1239 - accuracy: 0.8720 - val_loss: 0.2884 - val_accuracy: 0.6952 - lr: 0.0010 - 8s/epoch - 132ms/step
Epoch 3/75
59/59 - 8s - loss: 0.1228 - accuracy: 0.8732 - val_loss: 0.2879 - val_accuracy: 0.6960 - lr: 0.0010 - 8s/epoch - 133ms/step
Epoch 4/75
59/59 - 8s - loss: 0.1231 - accuracy: 0.8735 - val_loss: 0.2907 - val_accuracy: 0.6942 - lr: 0.0010 - 8s/epoch - 132ms/step
Epoch 5/75
59/59 - 8s - loss: 0.1222 - accuracy: 0.8746 - val_loss: 0.2923 - val_accuracy: 0.6896 - lr: 0.0010 - 8s/epoch - 133ms/step
Epoch 6/75
59/59 - 8s - loss: 0.1219 - accuracy: 0.8755 - val_loss: 0.2901 - val_accuracy: 0.6939 - lr: 0.0010 - 8s/epoch - 133ms/step
Epoch 7/75
59/59 - 8s - loss: 0.1216 - accuracy: 0.8753 - val_loss: 0.2903 - val_accuracy: 0.6909 - lr: 0.0010 - 8s/epoch - 132ms/step
Epoch 8/75
59/59 - 8s - loss: 0.1218 - accuracy: 0.8758 - val_loss: 0.2929 - val_accuracy: 0.6913 - lr: 0.0010 - 8s/epoch - 132ms/step
Epoch 9/75
59/59 - 8s - loss: 0.1214 - accuracy: 0.8757 - val_loss: 0.3022 - val_accuracy: 0.6876 - lr: 0.0010 - 8s/epoch - 132ms/step
Epoch 10/75
59/59 - 8s - loss: 0.1220 - accuracy: 0.8754 - val_loss: 0.3037 - val_accuracy: 0.6831 - lr: 0.0010 - 8s/epoch - 133ms/step
Epoch 11/75
59/59 - 8s - loss: 0.1215 - accuracy: 0.8765 - val_loss: 0.2915 - val_accuracy: 0.6938 - lr: 0.0010 - 8s/epoch - 133ms/step
Epoch 12/75
59/59 - 8s - loss: 0.1211 - accuracy: 0.8759 - val_loss: 0.3062 - val_accuracy: 0.6820 - lr: 0.0010 - 8s/epoch - 133ms/step
Epoch 13/75
59/59 - 8s - loss: 0.1211 - accuracy: 0.8761 - val_loss: 0.3015 - val_accuracy: 0.6810 - lr: 0.0010 - 8s/epoch - 132ms/step
Epoch 14/75
59/59 - 8s - loss: 0.1211 - accuracy: 0.8763 - val_loss: 0.3033 - val_accuracy: 0.6839 - lr: 0.0010 - 8s/epoch - 132ms/step
Epoch 15/75
59/59 - 8s - loss: 0.1208 - accuracy: 0.8770 - val_loss: 0.2947 - val_accuracy: 0.6888 - lr: 0.0010 - 8s/epoch - 133ms/step
Epoch 16/75
59/59 - 8s - loss: 0.1216 - accuracy: 0.8766 - val_loss: 0.2965 - val_accuracy: 0.6903 - lr: 0.0010 - 8s/epoch - 132ms/step
Epoch 17/75
59/59 - 8s - loss: 0.1212 - accuracy: 0.8758 - val_loss: 0.2992 - val_accuracy: 0.6868 - lr: 0.0010 - 8s/epoch - 133ms/step
Epoch 18/75
59/59 - 8s - loss: 0.1219 - accuracy: 0.8746 - val_loss: 0.3149 - val_accuracy: 0.6754 - lr: 0.0010 - 8s/epoch - 132ms/step
Epoch 19/75
59/59 - 8s - loss: 0.1209 - accuracy: 0.8770 - val_loss: 0.3005 - val_accuracy: 0.6860 - lr: 0.0010 - 8s/epoch - 133ms/step
Epoch 20/75
59/59 - 8s - loss: 0.1214 - accuracy: 0.8758 - val_loss: 0.3028 - val_accuracy: 0.6829 - lr: 0.0010 - 8s/epoch - 133ms/step
Epoch 21/75
59/59 - 8s - loss: 0.1209 - accuracy: 0.8764 - val_loss: 0.3000 - val_accuracy: 0.6871 - lr: 0.0010 - 8s/epoch - 132ms/step
Epoch 22/75
59/59 - 8s - loss: 0.1208 - accuracy: 0.8771 - val_loss: 0.3065 - val_accuracy: 0.6801 - lr: 0.0010 - 8s/epoch - 133ms/step
Epoch 23/75
59/59 - 8s - loss: 0.1211 - accuracy: 0.8765 - val_loss: 0.3044 - val_accuracy: 0.6850 - lr: 0.0010 - 8s/epoch - 133ms/step
Epoch 24/75
59/59 - 8s - loss: 0.1220 - accuracy: 0.8760 - val_loss: 0.3022 - val_accuracy: 0.6885 - lr: 0.0010 - 8s/epoch - 133ms/step
Epoch 25/75
59/59 - 8s - loss: 0.1212 - accuracy: 0.8767 - val_loss: 0.3025 - val_accuracy: 0.6822 - lr: 0.0010 - 8s/epoch - 132ms/step
Epoch 26/75
59/59 - 8s - loss: 0.1207 - accuracy: 0.8769 - val_loss: 0.3077 - val_accuracy: 0.6819 - lr: 0.0010 - 8s/epoch - 133ms/step
Epoch 27/75
59/59 - 8s - loss: 0.1199 - accuracy: 0.8784 - val_loss: 0.3043 - val_accuracy: 0.6844 - lr: 0.0010 - 8s/epoch - 133ms/step
Epoch 28/75
59/59 - 8s - loss: 0.1210 - accuracy: 0.8759 - val_loss: 0.3038 - val_accuracy: 0.6813 - lr: 0.0010 - 8s/epoch - 133ms/step
Epoch 29/75
59/59 - 8s - loss: 0.1217 - accuracy: 0.8756 - val_loss: 0.3069 - val_accuracy: 0.6833 - lr: 0.0010 - 8s/epoch - 132ms/step
Epoch 30/75
59/59 - 8s - loss: 0.1216 - accuracy: 0.8753 - val_loss: 0.3032 - val_accuracy: 0.6844 - lr: 0.0010 - 8s/epoch - 133ms/step
Epoch 31/75
59/59 - 8s - loss: 0.1207 - accuracy: 0.8767 - val_loss: 0.3003 - val_accuracy: 0.6875 - lr: 0.0010 - 8s/epoch - 132ms/step
Epoch 32/75
59/59 - 8s - loss: 0.1205 - accuracy: 0.8770 - val_loss: 0.3014 - val_accuracy: 0.6900 - lr: 0.0010 - 8s/epoch - 133ms/step
Epoch 33/75
59/59 - 8s - loss: 0.1216 - accuracy: 0.8767 - val_loss: 0.2954 - val_accuracy: 0.6938 - lr: 0.0010 - 8s/epoch - 133ms/step
Epoch 34/75
59/59 - 8s - loss: 0.1209 - accuracy: 0.8770 - val_loss: 0.3009 - val_accuracy: 0.6867 - lr: 0.0010 - 8s/epoch - 132ms/step
Epoch 35/75
59/59 - 8s - loss: 0.1208 - accuracy: 0.8765 - val_loss: 0.3064 - val_accuracy: 0.6846 - lr: 0.0010 - 8s/epoch - 133ms/step
Epoch 36/75
59/59 - 8s - loss: 0.1209 - accuracy: 0.8768 - val_loss: 0.2968 - val_accuracy: 0.6902 - lr: 0.0010 - 8s/epoch - 132ms/step
Epoch 37/75
59/59 - 8s - loss: 0.1213 - accuracy: 0.8771 - val_loss: 0.3015 - val_accuracy: 0.6879 - lr: 0.0010 - 8s/epoch - 133ms/step
Epoch 38/75
59/59 - 8s - loss: 0.1194 - accuracy: 0.8782 - val_loss: 0.3013 - val_accuracy: 0.6875 - lr: 0.0010 - 8s/epoch - 133ms/step
Epoch 39/75
59/59 - 8s - loss: 0.1195 - accuracy: 0.8784 - val_loss: 0.3087 - val_accuracy: 0.6845 - lr: 0.0010 - 8s/epoch - 133ms/step
Epoch 40/75
59/59 - 8s - loss: 0.1195 - accuracy: 0.8789 - val_loss: 0.3009 - val_accuracy: 0.6856 - lr: 0.0010 - 8s/epoch - 133ms/step
Epoch 41/75
59/59 - 8s - loss: 0.1217 - accuracy: 0.8750 - val_loss: 0.3078 - val_accuracy: 0.6801 - lr: 0.0010 - 8s/epoch - 133ms/step
Epoch 42/75
59/59 - 8s - loss: 0.1215 - accuracy: 0.8766 - val_loss: 0.3089 - val_accuracy: 0.6781 - lr: 0.0010 - 8s/epoch - 132ms/step
Epoch 43/75
59/59 - 8s - loss: 0.1216 - accuracy: 0.8759 - val_loss: 0.2982 - val_accuracy: 0.6772 - lr: 0.0010 - 8s/epoch - 133ms/step
Epoch 44/75
59/59 - 8s - loss: 0.1218 - accuracy: 0.8761 - val_loss: 0.3036 - val_accuracy: 0.6883 - lr: 0.0010 - 8s/epoch - 133ms/step
Epoch 45/75
59/59 - 8s - loss: 0.1214 - accuracy: 0.8761 - val_loss: 0.3034 - val_accuracy: 0.6825 - lr: 0.0010 - 8s/epoch - 133ms/step
Epoch 46/75
59/59 - 8s - loss: 0.1209 - accuracy: 0.8766 - val_loss: 0.3045 - val_accuracy: 0.6835 - lr: 0.0010 - 8s/epoch - 133ms/step
Epoch 47/75
59/59 - 8s - loss: 0.1197 - accuracy: 0.8790 - val_loss: 0.3102 - val_accuracy: 0.6819 - lr: 0.0010 - 8s/epoch - 133ms/step
Epoch 48/75
59/59 - 8s - loss: 0.1201 - accuracy: 0.8777 - val_loss: 0.3075 - val_accuracy: 0.6735 - lr: 0.0010 - 8s/epoch - 133ms/step
Epoch 49/75
59/59 - 8s - loss: 0.1206 - accuracy: 0.8767 - val_loss: 0.3058 - val_accuracy: 0.6846 - lr: 0.0010 - 8s/epoch - 133ms/step
Epoch 50/75
59/59 - 8s - loss: 0.1193 - accuracy: 0.8779 - val_loss: 0.3070 - val_accuracy: 0.6818 - lr: 0.0010 - 8s/epoch - 133ms/step
Epoch 51/75
59/59 - 8s - loss: 0.1205 - accuracy: 0.8773 - val_loss: 0.3102 - val_accuracy: 0.6788 - lr: 0.0010 - 8s/epoch - 133ms/step
Epoch 52/75
59/59 - 8s - loss: 0.1200 - accuracy: 0.8782 - val_loss: 0.3016 - val_accuracy: 0.6762 - lr: 0.0010 - 8s/epoch - 133ms/step
Epoch 53/75
59/59 - 8s - loss: 0.1208 - accuracy: 0.8775 - val_loss: 0.3097 - val_accuracy: 0.6737 - lr: 0.0010 - 8s/epoch - 133ms/step
Epoch 54/75
59/59 - 8s - loss: 0.1206 - accuracy: 0.8761 - val_loss: 0.3060 - val_accuracy: 0.6821 - lr: 0.0010 - 8s/epoch - 133ms/step
Epoch 55/75
59/59 - 8s - loss: 0.1189 - accuracy: 0.8790 - val_loss: 0.3141 - val_accuracy: 0.6674 - lr: 0.0010 - 8s/epoch - 132ms/step
Epoch 56/75
59/59 - 8s - loss: 0.1201 - accuracy: 0.8773 - val_loss: 0.3068 - val_accuracy: 0.6825 - lr: 0.0010 - 8s/epoch - 132ms/step
Epoch 57/75
59/59 - 8s - loss: 0.1197 - accuracy: 0.8774 - val_loss: 0.3186 - val_accuracy: 0.6666 - lr: 0.0010 - 8s/epoch - 133ms/step
Epoch 58/75
59/59 - 8s - loss: 0.1201 - accuracy: 0.8779 - val_loss: 0.3000 - val_accuracy: 0.6914 - lr: 0.0010 - 8s/epoch - 132ms/step
Epoch 59/75
59/59 - 8s - loss: 0.1199 - accuracy: 0.8783 - val_loss: 0.3144 - val_accuracy: 0.6713 - lr: 0.0010 - 8s/epoch - 133ms/step
Epoch 60/75
59/59 - 8s - loss: 0.1202 - accuracy: 0.8770 - val_loss: 0.2962 - val_accuracy: 0.6931 - lr: 0.0010 - 8s/epoch - 133ms/step
Epoch 61/75
59/59 - 8s - loss: 0.1195 - accuracy: 0.8780 - val_loss: 0.3043 - val_accuracy: 0.6882 - lr: 0.0010 - 8s/epoch - 133ms/step
Epoch 62/75
59/59 - 8s - loss: 0.1192 - accuracy: 0.8794 - val_loss: 0.3099 - val_accuracy: 0.6778 - lr: 0.0010 - 8s/epoch - 132ms/step
Epoch 63/75
59/59 - 8s - loss: 0.1199 - accuracy: 0.8775 - val_loss: 0.3100 - val_accuracy: 0.6755 - lr: 0.0010 - 8s/epoch - 133ms/step
Epoch 64/75
59/59 - 8s - loss: 0.1204 - accuracy: 0.8775 - val_loss: 0.2955 - val_accuracy: 0.6930 - lr: 0.0010 - 8s/epoch - 132ms/step
Epoch 65/75
59/59 - 8s - loss: 0.1190 - accuracy: 0.8784 - val_loss: 0.3075 - val_accuracy: 0.6774 - lr: 0.0010 - 8s/epoch - 132ms/step
Epoch 66/75
59/59 - 8s - loss: 0.1190 - accuracy: 0.8794 - val_loss: 0.3065 - val_accuracy: 0.6870 - lr: 0.0010 - 8s/epoch - 132ms/step
Epoch 67/75
59/59 - 8s - loss: 0.1193 - accuracy: 0.8778 - val_loss: 0.3230 - val_accuracy: 0.6601 - lr: 0.0010 - 8s/epoch - 133ms/step
Epoch 68/75
59/59 - 8s - loss: 0.1198 - accuracy: 0.8781 - val_loss: 0.3146 - val_accuracy: 0.6792 - lr: 0.0010 - 8s/epoch - 132ms/step
Epoch 69/75
59/59 - 8s - loss: 0.1202 - accuracy: 0.8782 - val_loss: 0.3233 - val_accuracy: 0.6629 - lr: 0.0010 - 8s/epoch - 132ms/step
Epoch 70/75
59/59 - 8s - loss: 0.1197 - accuracy: 0.8779 - val_loss: 0.3079 - val_accuracy: 0.6790 - lr: 0.0010 - 8s/epoch - 133ms/step
Epoch 71/75
59/59 - 8s - loss: 0.1193 - accuracy: 0.8791 - val_loss: 0.3175 - val_accuracy: 0.6654 - lr: 0.0010 - 8s/epoch - 132ms/step
Epoch 72/75
59/59 - 8s - loss: 0.1191 - accuracy: 0.8785 - val_loss: 0.3049 - val_accuracy: 0.6783 - lr: 0.0010 - 8s/epoch - 133ms/step
Epoch 73/75
59/59 - 8s - loss: 0.1193 - accuracy: 0.8791 - val_loss: 0.3110 - val_accuracy: 0.6856 - lr: 0.0010 - 8s/epoch - 133ms/step
Epoch 74/75
59/59 - 8s - loss: 0.1207 - accuracy: 0.8771 - val_loss: 0.3110 - val_accuracy: 0.6842 - lr: 0.0010 - 8s/epoch - 133ms/step
Epoch 75/75
59/59 - 8s - loss: 0.1196 - accuracy: 0.8778 - val_loss: 0.3132 - val_accuracy: 0.6708 - lr: 0.0010 - 8s/epoch - 133ms/step
fitting with batch size: 2500
Epoch 1/75
36/36 - 11s - loss: 0.1167 - accuracy: 0.8817 - val_loss: 0.3127 - val_accuracy: 0.6818 - lr: 0.0010 - 11s/epoch - 302ms/step
Epoch 2/75
36/36 - 8s - loss: 0.1162 - accuracy: 0.8822 - val_loss: 0.3102 - val_accuracy: 0.6851 - lr: 0.0010 - 8s/epoch - 210ms/step
Epoch 3/75
36/36 - 8s - loss: 0.1204 - accuracy: 0.8777 - val_loss: 0.3181 - val_accuracy: 0.6667 - lr: 0.0010 - 8s/epoch - 210ms/step
Epoch 4/75
36/36 - 8s - loss: 0.1192 - accuracy: 0.8779 - val_loss: 0.3167 - val_accuracy: 0.6707 - lr: 0.0010 - 8s/epoch - 210ms/step
Epoch 5/75
36/36 - 8s - loss: 0.1176 - accuracy: 0.8807 - val_loss: 0.3173 - val_accuracy: 0.6777 - lr: 0.0010 - 8s/epoch - 210ms/step
Epoch 6/75
36/36 - 8s - loss: 0.1184 - accuracy: 0.8793 - val_loss: 0.3136 - val_accuracy: 0.6712 - lr: 0.0010 - 8s/epoch - 210ms/step
Epoch 7/75
36/36 - 8s - loss: 0.1229 - accuracy: 0.8744 - val_loss: 0.3211 - val_accuracy: 0.6658 - lr: 0.0010 - 8s/epoch - 210ms/step
Epoch 8/75
36/36 - 8s - loss: 0.1180 - accuracy: 0.8802 - val_loss: 0.3125 - val_accuracy: 0.6712 - lr: 0.0010 - 8s/epoch - 210ms/step
Epoch 9/75
36/36 - 8s - loss: 0.1187 - accuracy: 0.8797 - val_loss: 0.3231 - val_accuracy: 0.6627 - lr: 0.0010 - 8s/epoch - 210ms/step
Epoch 10/75
36/36 - 8s - loss: 0.1168 - accuracy: 0.8825 - val_loss: 0.3114 - val_accuracy: 0.6744 - lr: 0.0010 - 8s/epoch - 211ms/step
Epoch 11/75
36/36 - 8s - loss: 0.1169 - accuracy: 0.8810 - val_loss: 0.3281 - val_accuracy: 0.6586 - lr: 0.0010 - 8s/epoch - 210ms/step
Epoch 12/75
36/36 - 8s - loss: 0.1304 - accuracy: 0.8663 - val_loss: 0.3144 - val_accuracy: 0.6756 - lr: 0.0010 - 8s/epoch - 210ms/step
Epoch 13/75
36/36 - 8s - loss: 0.1280 - accuracy: 0.8682 - val_loss: 0.3090 - val_accuracy: 0.6761 - lr: 0.0010 - 8s/epoch - 210ms/step
Epoch 14/75
36/36 - 8s - loss: 0.1195 - accuracy: 0.8789 - val_loss: 0.3153 - val_accuracy: 0.6785 - lr: 0.0010 - 8s/epoch - 211ms/step
Epoch 15/75
36/36 - 8s - loss: 0.1190 - accuracy: 0.8786 - val_loss: 0.3102 - val_accuracy: 0.6837 - lr: 0.0010 - 8s/epoch - 210ms/step
Epoch 16/75
36/36 - 8s - loss: 0.1254 - accuracy: 0.8713 - val_loss: 0.3170 - val_accuracy: 0.6807 - lr: 0.0010 - 8s/epoch - 210ms/step
Epoch 17/75
36/36 - 8s - loss: 0.1186 - accuracy: 0.8799 - val_loss: 0.3102 - val_accuracy: 0.6826 - lr: 0.0010 - 8s/epoch - 210ms/step
Epoch 18/75
36/36 - 8s - loss: 0.1213 - accuracy: 0.8765 - val_loss: 0.3031 - val_accuracy: 0.6875 - lr: 0.0010 - 8s/epoch - 210ms/step
Epoch 19/75
36/36 - 8s - loss: 0.1196 - accuracy: 0.8788 - val_loss: 0.3096 - val_accuracy: 0.6850 - lr: 0.0010 - 8s/epoch - 210ms/step
Epoch 20/75
36/36 - 8s - loss: 0.1167 - accuracy: 0.8816 - val_loss: 0.3183 - val_accuracy: 0.6674 - lr: 0.0010 - 8s/epoch - 211ms/step
Epoch 21/75
36/36 - 8s - loss: 0.1191 - accuracy: 0.8788 - val_loss: 0.3014 - val_accuracy: 0.6891 - lr: 0.0010 - 8s/epoch - 210ms/step
Epoch 22/75
36/36 - 8s - loss: 0.1164 - accuracy: 0.8825 - val_loss: 0.3102 - val_accuracy: 0.6766 - lr: 0.0010 - 8s/epoch - 211ms/step
Epoch 23/75
36/36 - 8s - loss: 0.1197 - accuracy: 0.8790 - val_loss: 0.3090 - val_accuracy: 0.6817 - lr: 0.0010 - 8s/epoch - 210ms/step
Epoch 24/75
36/36 - 8s - loss: 0.1243 - accuracy: 0.8719 - val_loss: 0.3062 - val_accuracy: 0.6874 - lr: 0.0010 - 8s/epoch - 210ms/step
Epoch 25/75
36/36 - 8s - loss: 0.1193 - accuracy: 0.8788 - val_loss: 0.3171 - val_accuracy: 0.6750 - lr: 0.0010 - 8s/epoch - 210ms/step
Epoch 26/75
36/36 - 8s - loss: 0.1183 - accuracy: 0.8795 - val_loss: 0.3191 - val_accuracy: 0.6670 - lr: 0.0010 - 8s/epoch - 211ms/step
Epoch 27/75
36/36 - 8s - loss: 0.1210 - accuracy: 0.8763 - val_loss: 0.3207 - val_accuracy: 0.6651 - lr: 0.0010 - 8s/epoch - 210ms/step
Epoch 28/75
36/36 - 8s - loss: 0.1221 - accuracy: 0.8753 - val_loss: 0.3062 - val_accuracy: 0.6850 - lr: 0.0010 - 8s/epoch - 210ms/step
Epoch 29/75
36/36 - 8s - loss: 0.1185 - accuracy: 0.8790 - val_loss: 0.3153 - val_accuracy: 0.6705 - lr: 0.0010 - 8s/epoch - 210ms/step
Epoch 30/75
36/36 - 8s - loss: 0.1206 - accuracy: 0.8771 - val_loss: 0.2962 - val_accuracy: 0.6974 - lr: 0.0010 - 8s/epoch - 210ms/step
Epoch 31/75
36/36 - 8s - loss: 0.1198 - accuracy: 0.8783 - val_loss: 0.3133 - val_accuracy: 0.6735 - lr: 0.0010 - 8s/epoch - 210ms/step
Epoch 32/75
36/36 - 8s - loss: 0.1188 - accuracy: 0.8785 - val_loss: 0.3172 - val_accuracy: 0.6748 - lr: 0.0010 - 8s/epoch - 211ms/step
Epoch 33/75
36/36 - 8s - loss: 0.1200 - accuracy: 0.8777 - val_loss: 0.3063 - val_accuracy: 0.6777 - lr: 0.0010 - 8s/epoch - 210ms/step
Epoch 34/75
36/36 - 8s - loss: 0.1259 - accuracy: 0.8701 - val_loss: 0.3040 - val_accuracy: 0.6878 - lr: 0.0010 - 8s/epoch - 210ms/step
Epoch 35/75
36/36 - 8s - loss: 0.1209 - accuracy: 0.8770 - val_loss: 0.3090 - val_accuracy: 0.6867 - lr: 0.0010 - 8s/epoch - 211ms/step
Epoch 36/75
36/36 - 8s - loss: 0.1208 - accuracy: 0.8758 - val_loss: 0.3121 - val_accuracy: 0.6696 - lr: 0.0010 - 8s/epoch - 210ms/step
Epoch 37/75
36/36 - 8s - loss: 0.1220 - accuracy: 0.8751 - val_loss: 0.3067 - val_accuracy: 0.6789 - lr: 0.0010 - 8s/epoch - 210ms/step
Epoch 38/75
36/36 - 8s - loss: 0.1187 - accuracy: 0.8784 - val_loss: 0.3154 - val_accuracy: 0.6686 - lr: 0.0010 - 8s/epoch - 210ms/step
Epoch 39/75
36/36 - 8s - loss: 0.1189 - accuracy: 0.8783 - val_loss: 0.3176 - val_accuracy: 0.6768 - lr: 0.0010 - 8s/epoch - 210ms/step
Epoch 40/75
36/36 - 8s - loss: 0.1174 - accuracy: 0.8815 - val_loss: 0.3099 - val_accuracy: 0.6784 - lr: 0.0010 - 8s/epoch - 211ms/step
Epoch 41/75
36/36 - 8s - loss: 0.1185 - accuracy: 0.8793 - val_loss: 0.3088 - val_accuracy: 0.6870 - lr: 0.0010 - 8s/epoch - 210ms/step
Epoch 42/75
36/36 - 8s - loss: 0.1185 - accuracy: 0.8796 - val_loss: 0.3155 - val_accuracy: 0.6739 - lr: 0.0010 - 8s/epoch - 210ms/step
Epoch 43/75
36/36 - 8s - loss: 0.1185 - accuracy: 0.8789 - val_loss: 0.3114 - val_accuracy: 0.6717 - lr: 0.0010 - 8s/epoch - 210ms/step
Epoch 44/75
36/36 - 8s - loss: 0.1163 - accuracy: 0.8825 - val_loss: 0.3157 - val_accuracy: 0.6711 - lr: 0.0010 - 8s/epoch - 210ms/step
Epoch 45/75
36/36 - 8s - loss: 0.1145 - accuracy: 0.8833 - val_loss: 0.3205 - val_accuracy: 0.6755 - lr: 0.0010 - 8s/epoch - 211ms/step
Epoch 46/75
36/36 - 8s - loss: 0.1186 - accuracy: 0.8798 - val_loss: 0.3057 - val_accuracy: 0.6889 - lr: 0.0010 - 8s/epoch - 211ms/step
Epoch 47/75
36/36 - 8s - loss: 0.1168 - accuracy: 0.8816 - val_loss: 0.3038 - val_accuracy: 0.6827 - lr: 0.0010 - 8s/epoch - 210ms/step
Epoch 48/75
36/36 - 8s - loss: 0.1157 - accuracy: 0.8830 - val_loss: 0.3150 - val_accuracy: 0.6734 - lr: 0.0010 - 8s/epoch - 211ms/step
Epoch 49/75
36/36 - 8s - loss: 0.1214 - accuracy: 0.8760 - val_loss: 0.3125 - val_accuracy: 0.6814 - lr: 0.0010 - 8s/epoch - 210ms/step
Epoch 50/75
36/36 - 8s - loss: 0.1158 - accuracy: 0.8830 - val_loss: 0.3108 - val_accuracy: 0.6756 - lr: 0.0010 - 8s/epoch - 210ms/step
Epoch 51/75
36/36 - 8s - loss: 0.1176 - accuracy: 0.8800 - val_loss: 0.3172 - val_accuracy: 0.6689 - lr: 0.0010 - 8s/epoch - 211ms/step
Epoch 52/75
36/36 - 8s - loss: 0.1165 - accuracy: 0.8815 - val_loss: 0.3079 - val_accuracy: 0.6778 - lr: 0.0010 - 8s/epoch - 211ms/step
Epoch 53/75
36/36 - 8s - loss: 0.1173 - accuracy: 0.8811 - val_loss: 0.3001 - val_accuracy: 0.6927 - lr: 0.0010 - 8s/epoch - 210ms/step
Epoch 54/75
36/36 - 8s - loss: 0.1188 - accuracy: 0.8788 - val_loss: 0.3147 - val_accuracy: 0.6706 - lr: 0.0010 - 8s/epoch - 211ms/step
Epoch 55/75
36/36 - 8s - loss: 0.1178 - accuracy: 0.8796 - val_loss: 0.3114 - val_accuracy: 0.6825 - lr: 0.0010 - 8s/epoch - 210ms/step
Epoch 56/75
36/36 - 8s - loss: 0.1213 - accuracy: 0.8762 - val_loss: 0.3060 - val_accuracy: 0.6860 - lr: 0.0010 - 8s/epoch - 210ms/step
Epoch 57/75
36/36 - 8s - loss: 0.1181 - accuracy: 0.8797 - val_loss: 0.3206 - val_accuracy: 0.6645 - lr: 0.0010 - 8s/epoch - 210ms/step
Epoch 58/75
36/36 - 8s - loss: 0.1150 - accuracy: 0.8837 - val_loss: 0.3219 - val_accuracy: 0.6643 - lr: 0.0010 - 8s/epoch - 210ms/step
Epoch 59/75
36/36 - 8s - loss: 0.1198 - accuracy: 0.8779 - val_loss: 0.3067 - val_accuracy: 0.6749 - lr: 0.0010 - 8s/epoch - 211ms/step
Epoch 60/75
36/36 - 8s - loss: 0.1176 - accuracy: 0.8804 - val_loss: 0.3128 - val_accuracy: 0.6740 - lr: 0.0010 - 8s/epoch - 210ms/step
Epoch 61/75
36/36 - 8s - loss: 0.1185 - accuracy: 0.8797 - val_loss: 0.3126 - val_accuracy: 0.6723 - lr: 0.0010 - 8s/epoch - 210ms/step
Epoch 62/75
36/36 - 8s - loss: 0.1174 - accuracy: 0.8802 - val_loss: 0.3077 - val_accuracy: 0.6747 - lr: 0.0010 - 8s/epoch - 210ms/step
Epoch 63/75
36/36 - 8s - loss: 0.1158 - accuracy: 0.8835 - val_loss: 0.3123 - val_accuracy: 0.6734 - lr: 0.0010 - 8s/epoch - 210ms/step
Epoch 64/75
36/36 - 8s - loss: 0.1158 - accuracy: 0.8830 - val_loss: 0.3176 - val_accuracy: 0.6668 - lr: 0.0010 - 8s/epoch - 210ms/step
Epoch 65/75
36/36 - 8s - loss: 0.1155 - accuracy: 0.8827 - val_loss: 0.3214 - val_accuracy: 0.6619 - lr: 0.0010 - 8s/epoch - 210ms/step
Epoch 66/75
36/36 - 8s - loss: 0.1135 - accuracy: 0.8854 - val_loss: 0.3202 - val_accuracy: 0.6689 - lr: 0.0010 - 8s/epoch - 210ms/step
Epoch 67/75
36/36 - 8s - loss: 0.1157 - accuracy: 0.8835 - val_loss: 0.3124 - val_accuracy: 0.6734 - lr: 0.0010 - 8s/epoch - 210ms/step
Epoch 68/75
36/36 - 8s - loss: 0.1149 - accuracy: 0.8839 - val_loss: 0.3194 - val_accuracy: 0.6686 - lr: 0.0010 - 8s/epoch - 210ms/step
Epoch 69/75
36/36 - 8s - loss: 0.1149 - accuracy: 0.8836 - val_loss: 0.3139 - val_accuracy: 0.6706 - lr: 0.0010 - 8s/epoch - 211ms/step
Epoch 70/75
36/36 - 8s - loss: 0.1175 - accuracy: 0.8808 - val_loss: 0.3116 - val_accuracy: 0.6744 - lr: 0.0010 - 8s/epoch - 211ms/step
Epoch 71/75
36/36 - 8s - loss: 0.1192 - accuracy: 0.8777 - val_loss: 0.3029 - val_accuracy: 0.6888 - lr: 0.0010 - 8s/epoch - 210ms/step
Epoch 72/75
36/36 - 8s - loss: 0.1229 - accuracy: 0.8739 - val_loss: 0.3122 - val_accuracy: 0.6808 - lr: 0.0010 - 8s/epoch - 210ms/step
Epoch 73/75
36/36 - 8s - loss: 0.1211 - accuracy: 0.8772 - val_loss: 0.3050 - val_accuracy: 0.6802 - lr: 0.0010 - 8s/epoch - 210ms/step
Epoch 74/75
36/36 - 8s - loss: 0.1161 - accuracy: 0.8825 - val_loss: 0.3152 - val_accuracy: 0.6727 - lr: 0.0010 - 8s/epoch - 210ms/step
Epoch 75/75
36/36 - 8s - loss: 0.1168 - accuracy: 0.8822 - val_loss: 0.3170 - val_accuracy: 0.6709 - lr: 0.0010 - 8s/epoch - 210ms/step
Epoch number: 100
fitting with batch size: 20
Epoch 1/100
4378/4378 - 79s - loss: 0.2596 - accuracy: 0.7170 - val_loss: 0.2775 - val_accuracy: 0.7151 - lr: 0.0010 - 79s/epoch - 18ms/step
Epoch 2/100
4378/4378 - 76s - loss: 0.2302 - accuracy: 0.7514 - val_loss: 0.2344 - val_accuracy: 0.7792 - lr: 0.0010 - 76s/epoch - 17ms/step
Epoch 3/100
4378/4378 - 76s - loss: 0.2233 - accuracy: 0.7581 - val_loss: 0.2536 - val_accuracy: 0.7632 - lr: 0.0010 - 76s/epoch - 17ms/step
Epoch 4/100
4378/4378 - 76s - loss: 0.2217 - accuracy: 0.7615 - val_loss: 0.2768 - val_accuracy: 0.7239 - lr: 0.0010 - 76s/epoch - 17ms/step
Epoch 5/100
4378/4378 - 76s - loss: 0.2198 - accuracy: 0.7607 - val_loss: 0.2620 - val_accuracy: 0.7499 - lr: 0.0010 - 76s/epoch - 17ms/step
Epoch 6/100
4378/4378 - 76s - loss: 0.2198 - accuracy: 0.7620 - val_loss: 0.2641 - val_accuracy: 0.7310 - lr: 0.0010 - 76s/epoch - 17ms/step
Epoch 7/100
4378/4378 - 76s - loss: 0.2221 - accuracy: 0.7600 - val_loss: 0.2451 - val_accuracy: 0.7610 - lr: 0.0010 - 76s/epoch - 17ms/step
Epoch 8/100
4378/4378 - 76s - loss: 0.2211 - accuracy: 0.7613 - val_loss: 0.2708 - val_accuracy: 0.7258 - lr: 0.0010 - 76s/epoch - 17ms/step
Epoch 9/100
4378/4378 - 76s - loss: 0.2182 - accuracy: 0.7640 - val_loss: 0.2755 - val_accuracy: 0.7218 - lr: 0.0010 - 76s/epoch - 17ms/step
Epoch 10/100
4378/4378 - 76s - loss: 0.2190 - accuracy: 0.7629 - val_loss: 0.2692 - val_accuracy: 0.7410 - lr: 0.0010 - 76s/epoch - 17ms/step
Epoch 11/100
4378/4378 - 76s - loss: 0.2179 - accuracy: 0.7647 - val_loss: 0.2382 - val_accuracy: 0.7696 - lr: 0.0010 - 76s/epoch - 17ms/step
Epoch 12/100
4378/4378 - 76s - loss: 0.2185 - accuracy: 0.7640 - val_loss: 0.2667 - val_accuracy: 0.7331 - lr: 0.0010 - 76s/epoch - 17ms/step
Epoch 13/100
4378/4378 - 76s - loss: 0.2177 - accuracy: 0.7652 - val_loss: 0.2532 - val_accuracy: 0.7479 - lr: 0.0010 - 76s/epoch - 17ms/step
Epoch 14/100
4378/4378 - 76s - loss: 0.2172 - accuracy: 0.7651 - val_loss: 0.2512 - val_accuracy: 0.7505 - lr: 0.0010 - 76s/epoch - 17ms/step
Epoch 15/100
4378/4378 - 76s - loss: 0.2185 - accuracy: 0.7624 - val_loss: 0.2434 - val_accuracy: 0.7528 - lr: 0.0010 - 76s/epoch - 17ms/step
Epoch 16/100
4378/4378 - 76s - loss: 0.2220 - accuracy: 0.7592 - val_loss: 0.2811 - val_accuracy: 0.7021 - lr: 0.0010 - 76s/epoch - 17ms/step
Epoch 17/100
4378/4378 - 76s - loss: 0.2176 - accuracy: 0.7646 - val_loss: 0.2553 - val_accuracy: 0.7475 - lr: 0.0010 - 76s/epoch - 17ms/step
Epoch 18/100
4378/4378 - 76s - loss: 0.2180 - accuracy: 0.7635 - val_loss: 0.2756 - val_accuracy: 0.7314 - lr: 0.0010 - 76s/epoch - 17ms/step
Epoch 19/100
4378/4378 - 76s - loss: 0.2171 - accuracy: 0.7647 - val_loss: 0.2639 - val_accuracy: 0.7412 - lr: 0.0010 - 76s/epoch - 17ms/step
Epoch 20/100
4378/4378 - 76s - loss: 0.2172 - accuracy: 0.7647 - val_loss: 0.2733 - val_accuracy: 0.7252 - lr: 0.0010 - 76s/epoch - 17ms/step
Epoch 21/100
4378/4378 - 76s - loss: 0.2173 - accuracy: 0.7639 - val_loss: 0.3168 - val_accuracy: 0.6652 - lr: 0.0010 - 76s/epoch - 17ms/step
Epoch 22/100
4378/4378 - 76s - loss: 0.2153 - accuracy: 0.7669 - val_loss: 0.2751 - val_accuracy: 0.7466 - lr: 0.0010 - 76s/epoch - 17ms/step
Epoch 23/100
4378/4378 - 76s - loss: 0.2163 - accuracy: 0.7657 - val_loss: 0.2423 - val_accuracy: 0.7558 - lr: 0.0010 - 76s/epoch - 17ms/step
Epoch 24/100
4378/4378 - 76s - loss: 0.2176 - accuracy: 0.7643 - val_loss: 0.2713 - val_accuracy: 0.7339 - lr: 0.0010 - 76s/epoch - 17ms/step
Epoch 25/100
4378/4378 - 76s - loss: 0.2185 - accuracy: 0.7641 - val_loss: 0.2743 - val_accuracy: 0.7257 - lr: 0.0010 - 76s/epoch - 17ms/step
Epoch 26/100
4378/4378 - 76s - loss: 0.2153 - accuracy: 0.7666 - val_loss: 0.2977 - val_accuracy: 0.7199 - lr: 0.0010 - 76s/epoch - 17ms/step
Epoch 27/100
4378/4378 - 76s - loss: 0.2158 - accuracy: 0.7653 - val_loss: 0.2998 - val_accuracy: 0.7076 - lr: 0.0010 - 76s/epoch - 17ms/step
Epoch 28/100
4378/4378 - 76s - loss: 0.2155 - accuracy: 0.7655 - val_loss: 0.2905 - val_accuracy: 0.7080 - lr: 0.0010 - 76s/epoch - 17ms/step
Epoch 29/100
4378/4378 - 76s - loss: 0.2159 - accuracy: 0.7656 - val_loss: 0.2380 - val_accuracy: 0.7823 - lr: 0.0010 - 76s/epoch - 17ms/step
Epoch 30/100
4378/4378 - 76s - loss: 0.2160 - accuracy: 0.7681 - val_loss: 0.2467 - val_accuracy: 0.7375 - lr: 0.0010 - 76s/epoch - 17ms/step
Epoch 31/100
4378/4378 - 76s - loss: 0.2166 - accuracy: 0.7661 - val_loss: 0.2608 - val_accuracy: 0.7218 - lr: 0.0010 - 76s/epoch - 17ms/step
Epoch 32/100
4378/4378 - 76s - loss: 0.2151 - accuracy: 0.7672 - val_loss: 0.2495 - val_accuracy: 0.7241 - lr: 0.0010 - 76s/epoch - 17ms/step
Epoch 33/100
4378/4378 - 76s - loss: 0.2165 - accuracy: 0.7640 - val_loss: 0.2821 - val_accuracy: 0.7043 - lr: 0.0010 - 76s/epoch - 17ms/step
Epoch 34/100
4378/4378 - 76s - loss: 0.2158 - accuracy: 0.7677 - val_loss: 0.2608 - val_accuracy: 0.7283 - lr: 0.0010 - 76s/epoch - 17ms/step
Epoch 35/100
4378/4378 - 76s - loss: 0.2214 - accuracy: 0.7620 - val_loss: 0.2836 - val_accuracy: 0.7003 - lr: 0.0010 - 76s/epoch - 17ms/step
Epoch 36/100
4378/4378 - 76s - loss: 0.2168 - accuracy: 0.7648 - val_loss: 0.2695 - val_accuracy: 0.7279 - lr: 0.0010 - 76s/epoch - 17ms/step
Epoch 37/100
4378/4378 - 76s - loss: 0.2171 - accuracy: 0.7640 - val_loss: 0.2805 - val_accuracy: 0.7165 - lr: 0.0010 - 76s/epoch - 17ms/step
Epoch 38/100
4378/4378 - 76s - loss: 0.2167 - accuracy: 0.7666 - val_loss: 0.2938 - val_accuracy: 0.6903 - lr: 0.0010 - 76s/epoch - 17ms/step
Epoch 39/100
4378/4378 - 76s - loss: 0.2167 - accuracy: 0.7647 - val_loss: 0.2458 - val_accuracy: 0.7511 - lr: 0.0010 - 76s/epoch - 17ms/step
Epoch 40/100
4378/4378 - 76s - loss: 0.2189 - accuracy: 0.7635 - val_loss: 0.2859 - val_accuracy: 0.7091 - lr: 0.0010 - 76s/epoch - 17ms/step
Epoch 41/100
4378/4378 - 76s - loss: 0.2153 - accuracy: 0.7682 - val_loss: 0.2748 - val_accuracy: 0.7417 - lr: 0.0010 - 76s/epoch - 17ms/step
Epoch 42/100
4378/4378 - 76s - loss: 0.2167 - accuracy: 0.7664 - val_loss: 0.2651 - val_accuracy: 0.7333 - lr: 0.0010 - 76s/epoch - 17ms/step
Epoch 43/100
4378/4378 - 76s - loss: 0.2153 - accuracy: 0.7672 - val_loss: 0.2570 - val_accuracy: 0.7341 - lr: 0.0010 - 76s/epoch - 17ms/step
Epoch 44/100
4378/4378 - 76s - loss: 0.2780 - accuracy: 0.6838 - val_loss: 0.3665 - val_accuracy: 0.7199 - lr: 0.0010 - 76s/epoch - 17ms/step
Epoch 45/100
4378/4378 - 76s - loss: 0.2906 - accuracy: 0.6756 - val_loss: 0.2760 - val_accuracy: 0.7478 - lr: 0.0010 - 76s/epoch - 17ms/step
Epoch 46/100
4378/4378 - 76s - loss: 0.2280 - accuracy: 0.7519 - val_loss: 0.2674 - val_accuracy: 0.7075 - lr: 0.0010 - 76s/epoch - 17ms/step
Epoch 47/100
4378/4378 - 76s - loss: 0.2213 - accuracy: 0.7600 - val_loss: 0.2591 - val_accuracy: 0.7528 - lr: 0.0010 - 76s/epoch - 17ms/step
Epoch 48/100
4378/4378 - 76s - loss: 0.2191 - accuracy: 0.7620 - val_loss: 0.2887 - val_accuracy: 0.7069 - lr: 0.0010 - 76s/epoch - 17ms/step
Epoch 49/100
4378/4378 - 76s - loss: 0.2173 - accuracy: 0.7652 - val_loss: 0.2536 - val_accuracy: 0.7488 - lr: 0.0010 - 76s/epoch - 17ms/step
Epoch 50/100
4378/4378 - 76s - loss: 0.2177 - accuracy: 0.7650 - val_loss: 0.2787 - val_accuracy: 0.7087 - lr: 0.0010 - 76s/epoch - 17ms/step
Epoch 51/100
4378/4378 - 76s - loss: 0.2171 - accuracy: 0.7655 - val_loss: 0.2534 - val_accuracy: 0.7554 - lr: 0.0010 - 76s/epoch - 17ms/step
Epoch 52/100
4378/4378 - 76s - loss: 0.2158 - accuracy: 0.7661 - val_loss: 0.2734 - val_accuracy: 0.7193 - lr: 0.0010 - 76s/epoch - 17ms/step
Epoch 53/100
4378/4378 - 76s - loss: 0.2163 - accuracy: 0.7667 - val_loss: 0.2651 - val_accuracy: 0.7304 - lr: 0.0010 - 76s/epoch - 17ms/step
Epoch 54/100
4378/4378 - 77s - loss: 0.2168 - accuracy: 0.7647 - val_loss: 0.2519 - val_accuracy: 0.7509 - lr: 0.0010 - 77s/epoch - 18ms/step
Epoch 55/100
4378/4378 - 76s - loss: 0.2151 - accuracy: 0.7674 - val_loss: 0.2660 - val_accuracy: 0.7263 - lr: 0.0010 - 76s/epoch - 17ms/step
Epoch 56/100
4378/4378 - 76s - loss: 0.2154 - accuracy: 0.7663 - val_loss: 0.2682 - val_accuracy: 0.7340 - lr: 0.0010 - 76s/epoch - 17ms/step
Epoch 57/100
4378/4378 - 76s - loss: 0.2140 - accuracy: 0.7687 - val_loss: 0.2944 - val_accuracy: 0.6986 - lr: 0.0010 - 76s/epoch - 17ms/step
Epoch 58/100
4378/4378 - 76s - loss: 0.2148 - accuracy: 0.7659 - val_loss: 0.2284 - val_accuracy: 0.7808 - lr: 0.0010 - 76s/epoch - 17ms/step
Epoch 59/100
4378/4378 - 76s - loss: 0.2155 - accuracy: 0.7661 - val_loss: 0.2714 - val_accuracy: 0.7152 - lr: 0.0010 - 76s/epoch - 17ms/step
Epoch 60/100
4378/4378 - 76s - loss: 0.2146 - accuracy: 0.7684 - val_loss: 0.2500 - val_accuracy: 0.7568 - lr: 0.0010 - 76s/epoch - 17ms/step
Epoch 61/100
4378/4378 - 76s - loss: 0.4243 - accuracy: 0.4105 - val_loss: 0.5106 - val_accuracy: 0.0239 - lr: 0.0010 - 76s/epoch - 17ms/step
Epoch 62/100
4378/4378 - 76s - loss: 0.4605 - accuracy: 0.3546 - val_loss: 0.4731 - val_accuracy: 0.1602 - lr: 0.0010 - 76s/epoch - 17ms/step
Epoch 63/100
4378/4378 - 76s - loss: 0.4540 - accuracy: 0.3689 - val_loss: 0.4460 - val_accuracy: 0.2484 - lr: 0.0010 - 76s/epoch - 17ms/step
Epoch 64/100
4378/4378 - 76s - loss: 0.4395 - accuracy: 0.3845 - val_loss: 0.4894 - val_accuracy: 0.0689 - lr: 0.0010 - 76s/epoch - 17ms/step
Epoch 65/100
4378/4378 - 76s - loss: 0.4357 - accuracy: 0.3914 - val_loss: 0.4382 - val_accuracy: 0.2364 - lr: 0.0010 - 76s/epoch - 17ms/step
Epoch 66/100
4378/4378 - 76s - loss: 0.4348 - accuracy: 0.3909 - val_loss: 0.4677 - val_accuracy: 0.1552 - lr: 0.0010 - 76s/epoch - 17ms/step
Epoch 67/100
4378/4378 - 76s - loss: 0.4424 - accuracy: 0.3798 - val_loss: 0.4212 - val_accuracy: 0.5358 - lr: 0.0010 - 76s/epoch - 17ms/step
Epoch 68/100
4378/4378 - 76s - loss: 0.4350 - accuracy: 0.3947 - val_loss: 0.4255 - val_accuracy: 0.4412 - lr: 0.0010 - 76s/epoch - 17ms/step
Epoch 69/100
4378/4378 - 76s - loss: 0.4390 - accuracy: 0.3828 - val_loss: 0.4630 - val_accuracy: 0.3081 - lr: 0.0010 - 76s/epoch - 17ms/step
Epoch 70/100
4378/4378 - 76s - loss: 0.4366 - accuracy: 0.3896 - val_loss: 0.4371 - val_accuracy: 0.4963 - lr: 0.0010 - 76s/epoch - 17ms/step
Epoch 71/100
4378/4378 - 76s - loss: 0.4397 - accuracy: 0.3993 - val_loss: 0.4534 - val_accuracy: 0.0733 - lr: 0.0010 - 76s/epoch - 17ms/step
Epoch 72/100
4378/4378 - 75s - loss: 0.4469 - accuracy: 0.3919 - val_loss: 0.4512 - val_accuracy: 0.3257 - lr: 0.0010 - 75s/epoch - 17ms/step
Epoch 73/100
4378/4378 - 76s - loss: 0.4351 - accuracy: 0.4196 - val_loss: 0.4670 - val_accuracy: 0.1014 - lr: 0.0010 - 76s/epoch - 17ms/step
Epoch 74/100
4378/4378 - 76s - loss: 0.4573 - accuracy: 0.3668 - val_loss: 0.5100 - val_accuracy: 0.0699 - lr: 0.0010 - 76s/epoch - 17ms/step
Epoch 75/100
4378/4378 - 76s - loss: 0.4424 - accuracy: 0.3988 - val_loss: 0.4597 - val_accuracy: 0.1078 - lr: 0.0010 - 76s/epoch - 17ms/step
Epoch 76/100
4378/4378 - 76s - loss: 0.4875 - accuracy: 0.2507 - val_loss: 0.5253 - val_accuracy: 0.0074 - lr: 0.0010 - 76s/epoch - 17ms/step
Epoch 77/100
4378/4378 - 76s - loss: 0.4950 - accuracy: 0.2689 - val_loss: 0.5048 - val_accuracy: 0.0779 - lr: 0.0010 - 76s/epoch - 17ms/step
Epoch 78/100
4378/4378 - 76s - loss: 0.5005 - accuracy: 0.2042 - val_loss: 0.5135 - val_accuracy: 0.0254 - lr: 0.0010 - 76s/epoch - 17ms/step
Epoch 79/100
4378/4378 - 76s - loss: 0.5047 - accuracy: 0.1984 - val_loss: 0.5276 - val_accuracy: 0.0193 - lr: 0.0010 - 76s/epoch - 17ms/step
Epoch 80/100
4378/4378 - 76s - loss: 0.5041 - accuracy: 0.2010 - val_loss: 0.5005 - val_accuracy: 0.0672 - lr: 0.0010 - 76s/epoch - 17ms/step
Epoch 81/100
4378/4378 - 76s - loss: 0.5012 - accuracy: 0.2005 - val_loss: 0.5122 - val_accuracy: 0.0103 - lr: 0.0010 - 76s/epoch - 17ms/step
Epoch 82/100
4378/4378 - 76s - loss: 0.5008 - accuracy: 0.1993 - val_loss: 0.5079 - val_accuracy: 0.0735 - lr: 0.0010 - 76s/epoch - 17ms/step
Epoch 83/100
4378/4378 - 76s - loss: 0.5008 - accuracy: 0.2005 - val_loss: 0.5331 - val_accuracy: 0.0074 - lr: 0.0010 - 76s/epoch - 17ms/step
Epoch 84/100
4378/4378 - 76s - loss: 0.5008 - accuracy: 0.1995 - val_loss: 0.5036 - val_accuracy: 0.8192 - lr: 0.0010 - 76s/epoch - 17ms/step
Epoch 85/100
4378/4378 - 76s - loss: 0.5008 - accuracy: 0.1983 - val_loss: 0.5134 - val_accuracy: 0.0736 - lr: 0.0010 - 76s/epoch - 17ms/step
Epoch 86/100
4378/4378 - 76s - loss: 0.5007 - accuracy: 0.1982 - val_loss: 0.5157 - val_accuracy: 0.0285 - lr: 0.0010 - 76s/epoch - 17ms/step
Epoch 87/100
4378/4378 - 76s - loss: 0.5007 - accuracy: 0.1998 - val_loss: 0.5089 - val_accuracy: 0.0076 - lr: 0.0010 - 76s/epoch - 17ms/step
Epoch 88/100
4378/4378 - 76s - loss: 0.5007 - accuracy: 0.2018 - val_loss: 0.5152 - val_accuracy: 0.0125 - lr: 0.0010 - 76s/epoch - 17ms/step
Epoch 89/100
4378/4378 - 76s - loss: 0.5007 - accuracy: 0.1992 - val_loss: 0.5070 - val_accuracy: 0.0261 - lr: 0.0010 - 76s/epoch - 17ms/step
Epoch 90/100
4378/4378 - 76s - loss: 0.5007 - accuracy: 0.1999 - val_loss: 0.5116 - val_accuracy: 0.0261 - lr: 0.0010 - 76s/epoch - 17ms/step
Epoch 91/100
4378/4378 - 76s - loss: 0.5007 - accuracy: 0.1998 - val_loss: 0.5191 - val_accuracy: 0.0255 - lr: 0.0010 - 76s/epoch - 17ms/step
Epoch 92/100
4378/4378 - 76s - loss: 0.5007 - accuracy: 0.1974 - val_loss: 0.5105 - val_accuracy: 0.0735 - lr: 0.0010 - 76s/epoch - 17ms/step
Epoch 93/100
4378/4378 - 76s - loss: 0.5007 - accuracy: 0.2040 - val_loss: 0.5107 - val_accuracy: 0.0658 - lr: 0.0010 - 76s/epoch - 17ms/step
Epoch 94/100
4378/4378 - 76s - loss: 0.5007 - accuracy: 0.1979 - val_loss: 0.4975 - val_accuracy: 0.8193 - lr: 0.0010 - 76s/epoch - 17ms/step
Epoch 95/100
4378/4378 - 76s - loss: 0.5007 - accuracy: 0.1998 - val_loss: 0.4991 - val_accuracy: 0.0758 - lr: 0.0010 - 76s/epoch - 17ms/step
Epoch 96/100
4378/4378 - 76s - loss: 0.5006 - accuracy: 0.1992 - val_loss: 0.5244 - val_accuracy: 0.0261 - lr: 0.0010 - 76s/epoch - 17ms/step
Epoch 97/100
4378/4378 - 76s - loss: 0.5006 - accuracy: 0.2003 - val_loss: 0.5030 - val_accuracy: 0.0783 - lr: 0.0010 - 76s/epoch - 17ms/step
Epoch 98/100
4378/4378 - 76s - loss: 0.5006 - accuracy: 0.2000 - val_loss: 0.5097 - val_accuracy: 0.8236 - lr: 0.0010 - 76s/epoch - 17ms/step
Epoch 99/100
4378/4378 - 76s - loss: 0.5006 - accuracy: 0.1980 - val_loss: 0.5057 - val_accuracy: 0.0665 - lr: 0.0010 - 76s/epoch - 17ms/step
Epoch 100/100
4378/4378 - 76s - loss: 0.5006 - accuracy: 0.1980 - val_loss: 0.5019 - val_accuracy: 0.8199 - lr: 0.0010 - 76s/epoch - 17ms/step
fitting with batch size: 100
Epoch 1/100
876/876 - 21s - loss: 0.5004 - accuracy: 0.1999 - val_loss: 0.5069 - val_accuracy: 0.8198 - lr: 0.0010 - 21s/epoch - 24ms/step
Epoch 2/100
876/876 - 19s - loss: 0.5004 - accuracy: 0.2017 - val_loss: 0.5131 - val_accuracy: 0.0080 - lr: 0.0010 - 19s/epoch - 21ms/step
Epoch 3/100
876/876 - 19s - loss: 0.5005 - accuracy: 0.1981 - val_loss: 0.5059 - val_accuracy: 0.0745 - lr: 0.0010 - 19s/epoch - 21ms/step
Epoch 4/100
876/876 - 19s - loss: 0.5005 - accuracy: 0.1975 - val_loss: 0.5101 - val_accuracy: 0.0127 - lr: 0.0010 - 19s/epoch - 21ms/step
Epoch 5/100
876/876 - 18s - loss: 0.5005 - accuracy: 0.2005 - val_loss: 0.5049 - val_accuracy: 0.8189 - lr: 0.0010 - 18s/epoch - 21ms/step
Epoch 6/100
876/876 - 18s - loss: 0.5005 - accuracy: 0.1991 - val_loss: 0.5080 - val_accuracy: 0.0077 - lr: 0.0010 - 18s/epoch - 21ms/step
Epoch 7/100
876/876 - 19s - loss: 0.5005 - accuracy: 0.1991 - val_loss: 0.5084 - val_accuracy: 0.0737 - lr: 0.0010 - 19s/epoch - 21ms/step
Epoch 8/100
876/876 - 18s - loss: 0.5005 - accuracy: 0.1986 - val_loss: 0.5025 - val_accuracy: 0.0684 - lr: 0.0010 - 18s/epoch - 21ms/step
Epoch 9/100
876/876 - 18s - loss: 0.5005 - accuracy: 0.1997 - val_loss: 0.5143 - val_accuracy: 0.0078 - lr: 0.0010 - 18s/epoch - 21ms/step
Epoch 10/100
876/876 - 18s - loss: 0.5005 - accuracy: 0.1978 - val_loss: 0.5145 - val_accuracy: 0.0262 - lr: 0.0010 - 18s/epoch - 21ms/step
Epoch 11/100
876/876 - 18s - loss: 0.5005 - accuracy: 0.1976 - val_loss: 0.5001 - val_accuracy: 0.8248 - lr: 0.0010 - 18s/epoch - 21ms/step
Epoch 12/100
876/876 - 18s - loss: 0.5005 - accuracy: 0.2010 - val_loss: 0.5116 - val_accuracy: 0.0736 - lr: 0.0010 - 18s/epoch - 21ms/step
Epoch 13/100
876/876 - 19s - loss: 0.5005 - accuracy: 0.1987 - val_loss: 0.5048 - val_accuracy: 0.0253 - lr: 0.0010 - 19s/epoch - 21ms/step
Epoch 14/100
876/876 - 19s - loss: 0.5005 - accuracy: 0.1989 - val_loss: 0.5094 - val_accuracy: 0.0657 - lr: 0.0010 - 19s/epoch - 21ms/step
Epoch 15/100
876/876 - 18s - loss: 0.5005 - accuracy: 0.1977 - val_loss: 0.5110 - val_accuracy: 0.0734 - lr: 0.0010 - 18s/epoch - 21ms/step
Epoch 16/100
876/876 - 19s - loss: 0.5005 - accuracy: 0.2012 - val_loss: 0.5202 - val_accuracy: 0.0307 - lr: 0.0010 - 19s/epoch - 21ms/step
Epoch 17/100
876/876 - 19s - loss: 0.5005 - accuracy: 0.2002 - val_loss: 0.5054 - val_accuracy: 0.0076 - lr: 0.0010 - 19s/epoch - 21ms/step
Epoch 18/100
876/876 - 19s - loss: 0.5005 - accuracy: 0.1991 - val_loss: 0.5080 - val_accuracy: 0.0079 - lr: 0.0010 - 19s/epoch - 21ms/step
Epoch 19/100
876/876 - 18s - loss: 0.5005 - accuracy: 0.1956 - val_loss: 0.5097 - val_accuracy: 0.0077 - lr: 0.0010 - 18s/epoch - 21ms/step
Epoch 20/100
876/876 - 19s - loss: 0.5005 - accuracy: 0.1980 - val_loss: 0.5083 - val_accuracy: 0.0101 - lr: 0.0010 - 19s/epoch - 21ms/step
Epoch 21/100
876/876 - 19s - loss: 0.5005 - accuracy: 0.1992 - val_loss: 0.5149 - val_accuracy: 0.0074 - lr: 0.0010 - 19s/epoch - 21ms/step
Epoch 22/100
876/876 - 19s - loss: 0.5005 - accuracy: 0.1993 - val_loss: 0.5074 - val_accuracy: 0.0078 - lr: 0.0010 - 19s/epoch - 21ms/step
Epoch 23/100
876/876 - 19s - loss: 0.5005 - accuracy: 0.1982 - val_loss: 0.5124 - val_accuracy: 0.0081 - lr: 0.0010 - 19s/epoch - 21ms/step
Epoch 24/100
876/876 - 18s - loss: 0.5005 - accuracy: 0.1984 - val_loss: 0.5121 - val_accuracy: 0.0123 - lr: 0.0010 - 18s/epoch - 21ms/step
Epoch 25/100
876/876 - 18s - loss: 0.5005 - accuracy: 0.1985 - val_loss: 0.4986 - val_accuracy: 0.8264 - lr: 0.0010 - 18s/epoch - 21ms/step
Epoch 26/100
876/876 - 19s - loss: 0.5005 - accuracy: 0.1994 - val_loss: 0.5036 - val_accuracy: 0.0669 - lr: 0.0010 - 19s/epoch - 21ms/step
Epoch 27/100
876/876 - 19s - loss: 0.5004 - accuracy: 0.2014 - val_loss: 0.5186 - val_accuracy: 0.0104 - lr: 0.0010 - 19s/epoch - 21ms/step
Epoch 28/100
876/876 - 18s - loss: 0.5005 - accuracy: 0.1996 - val_loss: 0.5057 - val_accuracy: 0.8242 - lr: 0.0010 - 18s/epoch - 21ms/step
Epoch 29/100
876/876 - 19s - loss: 0.5005 - accuracy: 0.2000 - val_loss: 0.5097 - val_accuracy: 0.0104 - lr: 0.0010 - 19s/epoch - 21ms/step
Epoch 30/100
876/876 - 18s - loss: 0.5005 - accuracy: 0.1994 - val_loss: 0.5141 - val_accuracy: 0.0671 - lr: 0.0010 - 18s/epoch - 21ms/step
Epoch 31/100
876/876 - 18s - loss: 0.5005 - accuracy: 0.1988 - val_loss: 0.5104 - val_accuracy: 0.0657 - lr: 0.0010 - 18s/epoch - 21ms/step
Epoch 32/100
876/876 - 19s - loss: 0.5005 - accuracy: 0.2005 - val_loss: 0.5034 - val_accuracy: 0.0256 - lr: 0.0010 - 19s/epoch - 21ms/step
Epoch 33/100
876/876 - 18s - loss: 0.5005 - accuracy: 0.1972 - val_loss: 0.5163 - val_accuracy: 0.0740 - lr: 0.0010 - 18s/epoch - 21ms/step
Epoch 34/100
876/876 - 18s - loss: 0.5005 - accuracy: 0.1984 - val_loss: 0.5019 - val_accuracy: 0.0100 - lr: 0.0010 - 18s/epoch - 21ms/step
Epoch 35/100
876/876 - 19s - loss: 0.5005 - accuracy: 0.1983 - val_loss: 0.5094 - val_accuracy: 0.0657 - lr: 0.0010 - 19s/epoch - 21ms/step
Epoch 36/100
876/876 - 18s - loss: 0.5005 - accuracy: 0.1996 - val_loss: 0.5127 - val_accuracy: 0.0075 - lr: 0.0010 - 18s/epoch - 21ms/step
Epoch 37/100
876/876 - 18s - loss: 0.5005 - accuracy: 0.1995 - val_loss: 0.5145 - val_accuracy: 0.0708 - lr: 0.0010 - 18s/epoch - 21ms/step
Epoch 38/100
876/876 - 19s - loss: 0.5005 - accuracy: 0.1992 - val_loss: 0.5065 - val_accuracy: 0.0255 - lr: 0.0010 - 19s/epoch - 21ms/step
Epoch 39/100
876/876 - 18s - loss: 0.5005 - accuracy: 0.1986 - val_loss: 0.4961 - val_accuracy: 0.8203 - lr: 0.0010 - 18s/epoch - 21ms/step
Epoch 40/100
876/876 - 19s - loss: 0.5005 - accuracy: 0.1989 - val_loss: 0.5039 - val_accuracy: 0.0659 - lr: 0.0010 - 19s/epoch - 21ms/step
Epoch 41/100
876/876 - 19s - loss: 0.5005 - accuracy: 0.1990 - val_loss: 0.5057 - val_accuracy: 0.0787 - lr: 0.0010 - 19s/epoch - 21ms/step
Epoch 42/100
876/876 - 19s - loss: 0.5005 - accuracy: 0.1985 - val_loss: 0.5024 - val_accuracy: 0.0678 - lr: 0.0010 - 19s/epoch - 21ms/step
Epoch 43/100
876/876 - 18s - loss: 0.5005 - accuracy: 0.1991 - val_loss: 0.5142 - val_accuracy: 0.0254 - lr: 0.0010 - 18s/epoch - 21ms/step
Epoch 44/100
876/876 - 19s - loss: 0.5005 - accuracy: 0.1993 - val_loss: 0.5222 - val_accuracy: 0.0267 - lr: 0.0010 - 19s/epoch - 21ms/step
Epoch 45/100
876/876 - 19s - loss: 0.5005 - accuracy: 0.2009 - val_loss: 0.5026 - val_accuracy: 0.8188 - lr: 0.0010 - 19s/epoch - 21ms/step
Epoch 46/100
876/876 - 18s - loss: 0.5005 - accuracy: 0.1999 - val_loss: 0.5086 - val_accuracy: 0.8190 - lr: 0.0010 - 18s/epoch - 21ms/step
Epoch 47/100
876/876 - 18s - loss: 0.5005 - accuracy: 0.1998 - val_loss: 0.5047 - val_accuracy: 0.0080 - lr: 0.0010 - 18s/epoch - 21ms/step
Epoch 48/100
876/876 - 18s - loss: 0.5004 - accuracy: 0.1980 - val_loss: 0.5089 - val_accuracy: 0.0660 - lr: 0.0010 - 18s/epoch - 21ms/step
Epoch 49/100
876/876 - 19s - loss: 0.5005 - accuracy: 0.1995 - val_loss: 0.5066 - val_accuracy: 0.0304 - lr: 0.0010 - 19s/epoch - 21ms/step
Epoch 50/100
876/876 - 18s - loss: 0.5005 - accuracy: 0.2007 - val_loss: 0.5223 - val_accuracy: 0.0663 - lr: 0.0010 - 18s/epoch - 21ms/step
Epoch 51/100
876/876 - 19s - loss: 0.5005 - accuracy: 0.1967 - val_loss: 0.5109 - val_accuracy: 0.0256 - lr: 0.0010 - 19s/epoch - 21ms/step
Epoch 52/100
876/876 - 19s - loss: 0.5005 - accuracy: 0.1978 - val_loss: 0.5074 - val_accuracy: 0.0737 - lr: 0.0010 - 19s/epoch - 21ms/step
Epoch 53/100
876/876 - 18s - loss: 0.5005 - accuracy: 0.2003 - val_loss: 0.5141 - val_accuracy: 0.0655 - lr: 0.0010 - 18s/epoch - 21ms/step
Epoch 54/100
876/876 - 18s - loss: 0.5005 - accuracy: 0.2009 - val_loss: 0.5060 - val_accuracy: 0.8198 - lr: 0.0010 - 18s/epoch - 21ms/step
Epoch 55/100
876/876 - 19s - loss: 0.5005 - accuracy: 0.2002 - val_loss: 0.4913 - val_accuracy: 0.8195 - lr: 0.0010 - 19s/epoch - 21ms/step
Epoch 56/100
876/876 - 19s - loss: 0.5005 - accuracy: 0.2015 - val_loss: 0.5010 - val_accuracy: 0.0099 - lr: 0.0010 - 19s/epoch - 21ms/step
Epoch 57/100
876/876 - 19s - loss: 0.5005 - accuracy: 0.2021 - val_loss: 0.5111 - val_accuracy: 0.0254 - lr: 0.0010 - 19s/epoch - 21ms/step
Epoch 58/100
876/876 - 18s - loss: 0.5005 - accuracy: 0.2000 - val_loss: 0.5085 - val_accuracy: 0.0254 - lr: 0.0010 - 18s/epoch - 21ms/step
Epoch 59/100
876/876 - 18s - loss: 0.5005 - accuracy: 0.2000 - val_loss: 0.5018 - val_accuracy: 0.0682 - lr: 0.0010 - 18s/epoch - 21ms/step
Epoch 60/100
876/876 - 19s - loss: 0.5005 - accuracy: 0.1960 - val_loss: 0.5150 - val_accuracy: 0.0735 - lr: 0.0010 - 19s/epoch - 21ms/step
Epoch 61/100
876/876 - 18s - loss: 0.5004 - accuracy: 0.1982 - val_loss: 0.5102 - val_accuracy: 0.0703 - lr: 0.0010 - 18s/epoch - 21ms/step
Epoch 62/100
876/876 - 18s - loss: 0.5005 - accuracy: 0.2023 - val_loss: 0.5123 - val_accuracy: 0.0742 - lr: 0.0010 - 18s/epoch - 21ms/step
Epoch 63/100
876/876 - 19s - loss: 0.5005 - accuracy: 0.1982 - val_loss: 0.5068 - val_accuracy: 0.0660 - lr: 0.0010 - 19s/epoch - 21ms/step
Epoch 64/100
876/876 - 18s - loss: 0.5005 - accuracy: 0.2006 - val_loss: 0.5078 - val_accuracy: 0.0662 - lr: 0.0010 - 18s/epoch - 21ms/step
Epoch 65/100
876/876 - 18s - loss: 0.5004 - accuracy: 0.1989 - val_loss: 0.5063 - val_accuracy: 0.0655 - lr: 0.0010 - 18s/epoch - 21ms/step
Epoch 66/100
876/876 - 19s - loss: 0.5005 - accuracy: 0.1981 - val_loss: 0.5119 - val_accuracy: 0.0253 - lr: 0.0010 - 19s/epoch - 21ms/step
Epoch 67/100
876/876 - 19s - loss: 0.5005 - accuracy: 0.1984 - val_loss: 0.5090 - val_accuracy: 0.0077 - lr: 0.0010 - 19s/epoch - 21ms/step
Epoch 68/100
876/876 - 18s - loss: 0.5005 - accuracy: 0.1997 - val_loss: 0.5135 - val_accuracy: 0.0735 - lr: 0.0010 - 18s/epoch - 21ms/step
Epoch 69/100
876/876 - 18s - loss: 0.5005 - accuracy: 0.2021 - val_loss: 0.4917 - val_accuracy: 0.8265 - lr: 0.0010 - 18s/epoch - 21ms/step
Epoch 70/100
876/876 - 19s - loss: 0.5005 - accuracy: 0.1992 - val_loss: 0.5080 - val_accuracy: 0.0076 - lr: 0.0010 - 19s/epoch - 21ms/step
Epoch 71/100
876/876 - 19s - loss: 0.5005 - accuracy: 0.2007 - val_loss: 0.4983 - val_accuracy: 0.8215 - lr: 0.0010 - 19s/epoch - 21ms/step
Epoch 72/100
876/876 - 18s - loss: 0.5005 - accuracy: 0.2000 - val_loss: 0.5137 - val_accuracy: 0.8187 - lr: 0.0010 - 18s/epoch - 21ms/step
Epoch 73/100
876/876 - 19s - loss: 0.5005 - accuracy: 0.1996 - val_loss: 0.5097 - val_accuracy: 0.0659 - lr: 0.0010 - 19s/epoch - 21ms/step
Epoch 74/100
876/876 - 18s - loss: 0.5004 - accuracy: 0.2002 - val_loss: 0.5056 - val_accuracy: 0.0254 - lr: 0.0010 - 18s/epoch - 21ms/step
Epoch 75/100
876/876 - 18s - loss: 0.5005 - accuracy: 0.1977 - val_loss: 0.5060 - val_accuracy: 0.0082 - lr: 0.0010 - 18s/epoch - 21ms/step
Epoch 76/100
876/876 - 19s - loss: 0.5004 - accuracy: 0.2007 - val_loss: 0.5138 - val_accuracy: 0.0307 - lr: 0.0010 - 19s/epoch - 21ms/step
Epoch 77/100
876/876 - 18s - loss: 0.5004 - accuracy: 0.2005 - val_loss: 0.5086 - val_accuracy: 0.0150 - lr: 0.0010 - 18s/epoch - 21ms/step
Epoch 78/100
876/876 - 19s - loss: 0.5005 - accuracy: 0.1997 - val_loss: 0.5062 - val_accuracy: 0.0663 - lr: 0.0010 - 19s/epoch - 21ms/step
Epoch 79/100
876/876 - 19s - loss: 0.5005 - accuracy: 0.1986 - val_loss: 0.5039 - val_accuracy: 0.0658 - lr: 0.0010 - 19s/epoch - 21ms/step
Epoch 80/100
876/876 - 19s - loss: 0.5005 - accuracy: 0.1974 - val_loss: 0.5157 - val_accuracy: 0.0661 - lr: 0.0010 - 19s/epoch - 21ms/step
Epoch 81/100
876/876 - 18s - loss: 0.5005 - accuracy: 0.2019 - val_loss: 0.5062 - val_accuracy: 0.0658 - lr: 0.0010 - 18s/epoch - 21ms/step
Epoch 82/100
876/876 - 19s - loss: 0.5005 - accuracy: 0.2003 - val_loss: 0.4968 - val_accuracy: 0.8219 - lr: 0.0010 - 19s/epoch - 21ms/step
Epoch 83/100
876/876 - 18s - loss: 0.5004 - accuracy: 0.2000 - val_loss: 0.5023 - val_accuracy: 0.0739 - lr: 0.0010 - 18s/epoch - 21ms/step
Epoch 84/100
876/876 - 19s - loss: 0.5004 - accuracy: 0.2009 - val_loss: 0.5055 - val_accuracy: 0.0663 - lr: 0.0010 - 19s/epoch - 21ms/step
Epoch 85/100
876/876 - 19s - loss: 0.5005 - accuracy: 0.1983 - val_loss: 0.4991 - val_accuracy: 0.8211 - lr: 0.0010 - 19s/epoch - 21ms/step
Epoch 86/100
876/876 - 18s - loss: 0.5005 - accuracy: 0.1976 - val_loss: 0.4992 - val_accuracy: 0.0306 - lr: 0.0010 - 18s/epoch - 21ms/step
Epoch 87/100
876/876 - 18s - loss: 0.5005 - accuracy: 0.1992 - val_loss: 0.4989 - val_accuracy: 0.8244 - lr: 0.0010 - 18s/epoch - 21ms/step
Epoch 88/100
876/876 - 19s - loss: 0.5004 - accuracy: 0.2024 - val_loss: 0.4940 - val_accuracy: 0.8262 - lr: 0.0010 - 19s/epoch - 21ms/step
Epoch 89/100
876/876 - 18s - loss: 0.5004 - accuracy: 0.1998 - val_loss: 0.5069 - val_accuracy: 0.0763 - lr: 0.0010 - 18s/epoch - 21ms/step
Epoch 90/100
876/876 - 18s - loss: 0.5005 - accuracy: 0.2016 - val_loss: 0.5031 - val_accuracy: 0.8247 - lr: 0.0010 - 18s/epoch - 21ms/step
Epoch 91/100
876/876 - 18s - loss: 0.5004 - accuracy: 0.1993 - val_loss: 0.5028 - val_accuracy: 0.0283 - lr: 0.0010 - 18s/epoch - 21ms/step
Epoch 92/100
876/876 - 18s - loss: 0.5005 - accuracy: 0.1983 - val_loss: 0.5128 - val_accuracy: 0.0738 - lr: 0.0010 - 18s/epoch - 21ms/step
Epoch 93/100
876/876 - 18s - loss: 0.5004 - accuracy: 0.2009 - val_loss: 0.5108 - val_accuracy: 0.8235 - lr: 0.0010 - 18s/epoch - 21ms/step
Epoch 94/100
876/876 - 19s - loss: 0.5004 - accuracy: 0.1993 - val_loss: 0.5101 - val_accuracy: 0.0078 - lr: 0.0010 - 19s/epoch - 21ms/step
Epoch 95/100
876/876 - 19s - loss: 0.5005 - accuracy: 0.1950 - val_loss: 0.5073 - val_accuracy: 0.0254 - lr: 0.0010 - 19s/epoch - 21ms/step
Epoch 96/100
876/876 - 18s - loss: 0.5005 - accuracy: 0.2011 - val_loss: 0.5163 - val_accuracy: 0.0738 - lr: 0.0010 - 18s/epoch - 21ms/step
Epoch 97/100
876/876 - 18s - loss: 0.5005 - accuracy: 0.1987 - val_loss: 0.5011 - val_accuracy: 0.0280 - lr: 0.0010 - 18s/epoch - 21ms/step
Epoch 98/100
876/876 - 18s - loss: 0.5005 - accuracy: 0.1977 - val_loss: 0.4983 - val_accuracy: 0.0658 - lr: 0.0010 - 18s/epoch - 21ms/step
Epoch 99/100
876/876 - 19s - loss: 0.5005 - accuracy: 0.2002 - val_loss: 0.4997 - val_accuracy: 0.0107 - lr: 0.0010 - 19s/epoch - 21ms/step
Epoch 100/100
876/876 - 19s - loss: 0.5004 - accuracy: 0.2012 - val_loss: 0.5067 - val_accuracy: 0.0077 - lr: 0.0010 - 19s/epoch - 21ms/step
fitting with batch size: 500
Epoch 1/100
176/176 - 12s - loss: 0.5004 - accuracy: 0.1995 - val_loss: 0.5089 - val_accuracy: 0.0658 - lr: 0.0010 - 12s/epoch - 69ms/step
Epoch 2/100
176/176 - 9s - loss: 0.5004 - accuracy: 0.1988 - val_loss: 0.5067 - val_accuracy: 0.8190 - lr: 0.0010 - 9s/epoch - 50ms/step
Epoch 3/100
176/176 - 9s - loss: 0.5004 - accuracy: 0.1975 - val_loss: 0.5072 - val_accuracy: 0.0257 - lr: 0.0010 - 9s/epoch - 50ms/step
Epoch 4/100
176/176 - 9s - loss: 0.5004 - accuracy: 0.1980 - val_loss: 0.5044 - val_accuracy: 0.8196 - lr: 0.0010 - 9s/epoch - 51ms/step
Epoch 5/100
176/176 - 9s - loss: 0.5004 - accuracy: 0.2003 - val_loss: 0.5120 - val_accuracy: 0.0739 - lr: 0.0010 - 9s/epoch - 50ms/step
Epoch 6/100
176/176 - 9s - loss: 0.5004 - accuracy: 0.1977 - val_loss: 0.5049 - val_accuracy: 0.0659 - lr: 0.0010 - 9s/epoch - 50ms/step
Epoch 7/100
176/176 - 9s - loss: 0.5004 - accuracy: 0.1958 - val_loss: 0.5027 - val_accuracy: 0.0736 - lr: 0.0010 - 9s/epoch - 51ms/step
Epoch 8/100
176/176 - 9s - loss: 0.5004 - accuracy: 0.1989 - val_loss: 0.5107 - val_accuracy: 0.0788 - lr: 0.0010 - 9s/epoch - 51ms/step
Epoch 9/100
176/176 - 9s - loss: 0.5004 - accuracy: 0.1985 - val_loss: 0.5063 - val_accuracy: 0.0739 - lr: 0.0010 - 9s/epoch - 50ms/step
Epoch 10/100
176/176 - 9s - loss: 0.5004 - accuracy: 0.1998 - val_loss: 0.5062 - val_accuracy: 0.0255 - lr: 0.0010 - 9s/epoch - 50ms/step
Epoch 11/100
176/176 - 9s - loss: 0.5004 - accuracy: 0.1956 - val_loss: 0.5037 - val_accuracy: 0.8240 - lr: 0.0010 - 9s/epoch - 50ms/step
Epoch 12/100
176/176 - 9s - loss: 0.5004 - accuracy: 0.1977 - val_loss: 0.5083 - val_accuracy: 0.0306 - lr: 0.0010 - 9s/epoch - 51ms/step
Epoch 13/100
176/176 - 9s - loss: 0.5004 - accuracy: 0.1997 - val_loss: 0.5102 - val_accuracy: 0.0738 - lr: 0.0010 - 9s/epoch - 50ms/step
Epoch 14/100
176/176 - 9s - loss: 0.5004 - accuracy: 0.1983 - val_loss: 0.5025 - val_accuracy: 0.0764 - lr: 0.0010 - 9s/epoch - 50ms/step
Epoch 15/100
176/176 - 9s - loss: 0.5004 - accuracy: 0.2029 - val_loss: 0.5010 - val_accuracy: 0.8197 - lr: 0.0010 - 9s/epoch - 50ms/step
Epoch 16/100
176/176 - 9s - loss: 0.5004 - accuracy: 0.2008 - val_loss: 0.5156 - val_accuracy: 0.0257 - lr: 0.0010 - 9s/epoch - 51ms/step
Epoch 17/100
176/176 - 9s - loss: 0.5004 - accuracy: 0.2010 - val_loss: 0.5128 - val_accuracy: 0.0309 - lr: 0.0010 - 9s/epoch - 50ms/step
Epoch 18/100
176/176 - 9s - loss: 0.5004 - accuracy: 0.1985 - val_loss: 0.5025 - val_accuracy: 0.0761 - lr: 0.0010 - 9s/epoch - 51ms/step
Epoch 19/100
176/176 - 9s - loss: 0.5004 - accuracy: 0.2019 - val_loss: 0.5133 - val_accuracy: 0.0301 - lr: 0.0010 - 9s/epoch - 51ms/step
Epoch 20/100
176/176 - 9s - loss: 0.5004 - accuracy: 0.2004 - val_loss: 0.5118 - val_accuracy: 0.0306 - lr: 0.0010 - 9s/epoch - 51ms/step
Epoch 21/100
176/176 - 9s - loss: 0.5004 - accuracy: 0.2001 - val_loss: 0.5097 - val_accuracy: 0.0260 - lr: 0.0010 - 9s/epoch - 50ms/step
Epoch 22/100
176/176 - 9s - loss: 0.5004 - accuracy: 0.1982 - val_loss: 0.5092 - val_accuracy: 0.0737 - lr: 0.0010 - 9s/epoch - 50ms/step
Epoch 23/100
176/176 - 9s - loss: 0.5004 - accuracy: 0.1984 - val_loss: 0.4991 - val_accuracy: 0.8224 - lr: 0.0010 - 9s/epoch - 51ms/step
Epoch 24/100
176/176 - 9s - loss: 0.5004 - accuracy: 0.1993 - val_loss: 0.5039 - val_accuracy: 0.0739 - lr: 0.0010 - 9s/epoch - 50ms/step
Epoch 25/100
176/176 - 9s - loss: 0.5004 - accuracy: 0.1995 - val_loss: 0.5114 - val_accuracy: 0.0741 - lr: 0.0010 - 9s/epoch - 50ms/step
Epoch 26/100
176/176 - 9s - loss: 0.5004 - accuracy: 0.1993 - val_loss: 0.5124 - val_accuracy: 0.0260 - lr: 0.0010 - 9s/epoch - 50ms/step
Epoch 27/100
176/176 - 9s - loss: 0.5004 - accuracy: 0.1995 - val_loss: 0.5015 - val_accuracy: 0.8192 - lr: 0.0010 - 9s/epoch - 51ms/step
Epoch 28/100
176/176 - 9s - loss: 0.5004 - accuracy: 0.1982 - val_loss: 0.5159 - val_accuracy: 0.0123 - lr: 0.0010 - 9s/epoch - 50ms/step
Epoch 29/100
176/176 - 9s - loss: 0.5004 - accuracy: 0.1999 - val_loss: 0.5068 - val_accuracy: 0.8187 - lr: 0.0010 - 9s/epoch - 51ms/step
Epoch 30/100
176/176 - 9s - loss: 0.5004 - accuracy: 0.1981 - val_loss: 0.5096 - val_accuracy: 0.0254 - lr: 0.0010 - 9s/epoch - 50ms/step
Epoch 31/100
176/176 - 9s - loss: 0.5004 - accuracy: 0.1977 - val_loss: 0.5040 - val_accuracy: 0.0102 - lr: 0.0010 - 9s/epoch - 51ms/step
Epoch 32/100
176/176 - 9s - loss: 0.5004 - accuracy: 0.2003 - val_loss: 0.5093 - val_accuracy: 0.0655 - lr: 0.0010 - 9s/epoch - 50ms/step
Epoch 33/100
176/176 - 9s - loss: 0.5004 - accuracy: 0.1971 - val_loss: 0.5062 - val_accuracy: 0.0083 - lr: 0.0010 - 9s/epoch - 50ms/step
Epoch 34/100
176/176 - 9s - loss: 0.5004 - accuracy: 0.1996 - val_loss: 0.5116 - val_accuracy: 0.0656 - lr: 0.0010 - 9s/epoch - 50ms/step
Epoch 35/100
176/176 - 9s - loss: 0.5004 - accuracy: 0.1992 - val_loss: 0.5028 - val_accuracy: 0.8194 - lr: 0.0010 - 9s/epoch - 51ms/step
Epoch 36/100
176/176 - 9s - loss: 0.5004 - accuracy: 0.1987 - val_loss: 0.5112 - val_accuracy: 0.0736 - lr: 0.0010 - 9s/epoch - 50ms/step
Epoch 37/100
176/176 - 9s - loss: 0.5004 - accuracy: 0.1995 - val_loss: 0.5058 - val_accuracy: 0.0079 - lr: 0.0010 - 9s/epoch - 51ms/step
Epoch 38/100
176/176 - 9s - loss: 0.5004 - accuracy: 0.1993 - val_loss: 0.5014 - val_accuracy: 0.0763 - lr: 0.0010 - 9s/epoch - 51ms/step
Epoch 39/100
176/176 - 9s - loss: 0.5004 - accuracy: 0.1989 - val_loss: 0.5004 - val_accuracy: 0.8238 - lr: 0.0010 - 9s/epoch - 50ms/step
Epoch 40/100
176/176 - 9s - loss: 0.5004 - accuracy: 0.2024 - val_loss: 0.5034 - val_accuracy: 0.0806 - lr: 0.0010 - 9s/epoch - 50ms/step
Epoch 41/100
176/176 - 9s - loss: 0.5004 - accuracy: 0.1980 - val_loss: 0.5033 - val_accuracy: 0.0104 - lr: 0.0010 - 9s/epoch - 50ms/step
Epoch 42/100
176/176 - 9s - loss: 0.5004 - accuracy: 0.1997 - val_loss: 0.5122 - val_accuracy: 0.0665 - lr: 0.0010 - 9s/epoch - 51ms/step
Epoch 43/100
176/176 - 9s - loss: 0.5004 - accuracy: 0.1990 - val_loss: 0.5153 - val_accuracy: 0.0255 - lr: 0.0010 - 9s/epoch - 50ms/step
Epoch 44/100
176/176 - 9s - loss: 0.5004 - accuracy: 0.2009 - val_loss: 0.5139 - val_accuracy: 0.0257 - lr: 0.0010 - 9s/epoch - 51ms/step
Epoch 45/100
176/176 - 9s - loss: 0.5004 - accuracy: 0.1987 - val_loss: 0.5151 - val_accuracy: 0.0076 - lr: 0.0010 - 9s/epoch - 51ms/step
Epoch 46/100
176/176 - 9s - loss: 0.5004 - accuracy: 0.1987 - val_loss: 0.5059 - val_accuracy: 0.8198 - lr: 0.0010 - 9s/epoch - 50ms/step
Epoch 47/100
176/176 - 9s - loss: 0.5004 - accuracy: 0.1974 - val_loss: 0.5074 - val_accuracy: 0.0263 - lr: 0.0010 - 9s/epoch - 51ms/step
Epoch 48/100
176/176 - 9s - loss: 0.5004 - accuracy: 0.1997 - val_loss: 0.5208 - val_accuracy: 0.0704 - lr: 0.0010 - 9s/epoch - 50ms/step
Epoch 49/100
176/176 - 9s - loss: 0.5004 - accuracy: 0.1994 - val_loss: 0.5035 - val_accuracy: 0.0681 - lr: 0.0010 - 9s/epoch - 50ms/step
Epoch 50/100
176/176 - 9s - loss: 0.5004 - accuracy: 0.1987 - val_loss: 0.5089 - val_accuracy: 0.0740 - lr: 0.0010 - 9s/epoch - 50ms/step
Epoch 51/100
176/176 - 9s - loss: 0.5004 - accuracy: 0.2009 - val_loss: 0.5134 - val_accuracy: 0.8193 - lr: 0.0010 - 9s/epoch - 50ms/step
Epoch 52/100
176/176 - 9s - loss: 0.5004 - accuracy: 0.1979 - val_loss: 0.5089 - val_accuracy: 0.0708 - lr: 0.0010 - 9s/epoch - 51ms/step
Epoch 53/100
176/176 - 9s - loss: 0.5004 - accuracy: 0.1991 - val_loss: 0.5107 - val_accuracy: 0.0075 - lr: 0.0010 - 9s/epoch - 50ms/step
Epoch 54/100
176/176 - 9s - loss: 0.5004 - accuracy: 0.1981 - val_loss: 0.5009 - val_accuracy: 0.0688 - lr: 0.0010 - 9s/epoch - 50ms/step
Epoch 55/100
176/176 - 9s - loss: 0.5004 - accuracy: 0.1981 - val_loss: 0.5082 - val_accuracy: 0.0744 - lr: 0.0010 - 9s/epoch - 51ms/step
Epoch 56/100
176/176 - 9s - loss: 0.5004 - accuracy: 0.1983 - val_loss: 0.5107 - val_accuracy: 0.0261 - lr: 0.0010 - 9s/epoch - 50ms/step
Epoch 57/100
176/176 - 9s - loss: 0.5004 - accuracy: 0.2011 - val_loss: 0.5083 - val_accuracy: 0.0099 - lr: 0.0010 - 9s/epoch - 51ms/step
Epoch 58/100
176/176 - 9s - loss: 0.5004 - accuracy: 0.1977 - val_loss: 0.5019 - val_accuracy: 0.0102 - lr: 0.0010 - 9s/epoch - 50ms/step
Epoch 59/100
176/176 - 9s - loss: 0.5004 - accuracy: 0.1980 - val_loss: 0.5125 - val_accuracy: 0.0740 - lr: 0.0010 - 9s/epoch - 51ms/step
Epoch 60/100
176/176 - 9s - loss: 0.5004 - accuracy: 0.1982 - val_loss: 0.5121 - val_accuracy: 0.0740 - lr: 0.0010 - 9s/epoch - 51ms/step
Epoch 61/100
176/176 - 9s - loss: 0.5004 - accuracy: 0.1998 - val_loss: 0.5029 - val_accuracy: 0.0759 - lr: 0.0010 - 9s/epoch - 50ms/step
Epoch 62/100
176/176 - 9s - loss: 0.5004 - accuracy: 0.1999 - val_loss: 0.5126 - val_accuracy: 0.0077 - lr: 0.0010 - 9s/epoch - 51ms/step
Epoch 63/100
176/176 - 9s - loss: 0.5004 - accuracy: 0.1974 - val_loss: 0.5027 - val_accuracy: 0.0760 - lr: 0.0010 - 9s/epoch - 51ms/step
Epoch 64/100
176/176 - 9s - loss: 0.5004 - accuracy: 0.2002 - val_loss: 0.4996 - val_accuracy: 0.8213 - lr: 0.0010 - 9s/epoch - 50ms/step
Epoch 65/100
176/176 - 9s - loss: 0.5004 - accuracy: 0.2001 - val_loss: 0.5011 - val_accuracy: 0.0758 - lr: 0.0010 - 9s/epoch - 51ms/step
Epoch 66/100
176/176 - 9s - loss: 0.5004 - accuracy: 0.1994 - val_loss: 0.5113 - val_accuracy: 0.0788 - lr: 0.0010 - 9s/epoch - 51ms/step
Epoch 67/100
176/176 - 9s - loss: 0.5004 - accuracy: 0.1994 - val_loss: 0.5099 - val_accuracy: 0.0077 - lr: 0.0010 - 9s/epoch - 50ms/step
Epoch 68/100
176/176 - 9s - loss: 0.5004 - accuracy: 0.1979 - val_loss: 0.5086 - val_accuracy: 0.0074 - lr: 0.0010 - 9s/epoch - 50ms/step
Epoch 69/100
176/176 - 9s - loss: 0.5004 - accuracy: 0.1992 - val_loss: 0.5127 - val_accuracy: 0.0258 - lr: 0.0010 - 9s/epoch - 51ms/step
Epoch 70/100
176/176 - 9s - loss: 0.5004 - accuracy: 0.2003 - val_loss: 0.5157 - val_accuracy: 0.0705 - lr: 0.0010 - 9s/epoch - 50ms/step
Epoch 71/100
176/176 - 9s - loss: 0.5004 - accuracy: 0.2011 - val_loss: 0.5100 - val_accuracy: 0.0788 - lr: 0.0010 - 9s/epoch - 51ms/step
Epoch 72/100
176/176 - 9s - loss: 0.5004 - accuracy: 0.1983 - val_loss: 0.5014 - val_accuracy: 0.0101 - lr: 0.0010 - 9s/epoch - 50ms/step
Epoch 73/100
176/176 - 9s - loss: 0.5004 - accuracy: 0.1986 - val_loss: 0.5010 - val_accuracy: 0.8210 - lr: 0.0010 - 9s/epoch - 51ms/step
Epoch 74/100
176/176 - 9s - loss: 0.5004 - accuracy: 0.1987 - val_loss: 0.5026 - val_accuracy: 0.0757 - lr: 0.0010 - 9s/epoch - 50ms/step
Epoch 75/100
176/176 - 9s - loss: 0.5004 - accuracy: 0.1993 - val_loss: 0.4969 - val_accuracy: 0.8220 - lr: 0.0010 - 9s/epoch - 50ms/step
Epoch 76/100
176/176 - 9s - loss: 0.5004 - accuracy: 0.1985 - val_loss: 0.5138 - val_accuracy: 0.0264 - lr: 0.0010 - 9s/epoch - 50ms/step
Epoch 77/100
176/176 - 9s - loss: 0.5004 - accuracy: 0.2000 - val_loss: 0.5118 - val_accuracy: 0.0793 - lr: 0.0010 - 9s/epoch - 51ms/step
Epoch 78/100
176/176 - 9s - loss: 0.5004 - accuracy: 0.1999 - val_loss: 0.5161 - val_accuracy: 0.0668 - lr: 0.0010 - 9s/epoch - 51ms/step
Epoch 79/100
176/176 - 9s - loss: 0.5004 - accuracy: 0.2012 - val_loss: 0.5019 - val_accuracy: 0.8214 - lr: 0.0010 - 9s/epoch - 50ms/step
Epoch 80/100
176/176 - 9s - loss: 0.5004 - accuracy: 0.1995 - val_loss: 0.5038 - val_accuracy: 0.0074 - lr: 0.0010 - 9s/epoch - 51ms/step
Epoch 81/100
176/176 - 9s - loss: 0.5004 - accuracy: 0.1981 - val_loss: 0.5059 - val_accuracy: 0.0254 - lr: 0.0010 - 9s/epoch - 50ms/step
Epoch 82/100
176/176 - 9s - loss: 0.5004 - accuracy: 0.1986 - val_loss: 0.5117 - val_accuracy: 0.0254 - lr: 0.0010 - 9s/epoch - 51ms/step
Epoch 83/100
176/176 - 9s - loss: 0.5004 - accuracy: 0.1975 - val_loss: 0.5114 - val_accuracy: 0.0656 - lr: 0.0010 - 9s/epoch - 50ms/step
Epoch 84/100
176/176 - 9s - loss: 0.5004 - accuracy: 0.1995 - val_loss: 0.5118 - val_accuracy: 0.8245 - lr: 0.0010 - 9s/epoch - 50ms/step
Epoch 85/100
176/176 - 9s - loss: 0.5004 - accuracy: 0.1992 - val_loss: 0.5009 - val_accuracy: 0.8214 - lr: 0.0010 - 9s/epoch - 50ms/step
Epoch 86/100
176/176 - 9s - loss: 0.5004 - accuracy: 0.2009 - val_loss: 0.5072 - val_accuracy: 0.0661 - lr: 0.0010 - 9s/epoch - 51ms/step
Epoch 87/100
176/176 - 9s - loss: 0.5004 - accuracy: 0.2008 - val_loss: 0.5105 - val_accuracy: 0.0736 - lr: 0.0010 - 9s/epoch - 51ms/step
Epoch 88/100
176/176 - 9s - loss: 0.5004 - accuracy: 0.1989 - val_loss: 0.5077 - val_accuracy: 0.0257 - lr: 0.0010 - 9s/epoch - 51ms/step
Epoch 89/100
176/176 - 9s - loss: 0.5004 - accuracy: 0.1992 - val_loss: 0.4998 - val_accuracy: 0.8218 - lr: 0.0010 - 9s/epoch - 50ms/step
Epoch 90/100
176/176 - 9s - loss: 0.5004 - accuracy: 0.2008 - val_loss: 0.5091 - val_accuracy: 0.8205 - lr: 0.0010 - 9s/epoch - 51ms/step
Epoch 91/100
176/176 - 9s - loss: 0.5004 - accuracy: 0.2001 - val_loss: 0.5018 - val_accuracy: 0.8216 - lr: 0.0010 - 9s/epoch - 51ms/step
Epoch 92/100
176/176 - 9s - loss: 0.5004 - accuracy: 0.2001 - val_loss: 0.5100 - val_accuracy: 0.8187 - lr: 0.0010 - 9s/epoch - 51ms/step
Epoch 93/100
176/176 - 9s - loss: 0.5004 - accuracy: 0.1997 - val_loss: 0.5115 - val_accuracy: 0.0080 - lr: 0.0010 - 9s/epoch - 50ms/step
Epoch 94/100
176/176 - 9s - loss: 0.5004 - accuracy: 0.2004 - val_loss: 0.5058 - val_accuracy: 0.0084 - lr: 0.0010 - 9s/epoch - 50ms/step
Epoch 95/100
176/176 - 9s - loss: 0.5004 - accuracy: 0.1972 - val_loss: 0.5072 - val_accuracy: 0.0126 - lr: 0.0010 - 9s/epoch - 51ms/step
Epoch 96/100
176/176 - 9s - loss: 0.5004 - accuracy: 0.1997 - val_loss: 0.5122 - val_accuracy: 0.0257 - lr: 0.0010 - 9s/epoch - 50ms/step
Epoch 97/100
176/176 - 9s - loss: 0.5004 - accuracy: 0.1982 - val_loss: 0.5046 - val_accuracy: 0.0693 - lr: 0.0010 - 9s/epoch - 51ms/step
Epoch 98/100
176/176 - 9s - loss: 0.5004 - accuracy: 0.2001 - val_loss: 0.5192 - val_accuracy: 0.0656 - lr: 0.0010 - 9s/epoch - 50ms/step
Epoch 99/100
176/176 - 9s - loss: 0.5004 - accuracy: 0.1984 - val_loss: 0.5186 - val_accuracy: 0.0785 - lr: 0.0010 - 9s/epoch - 51ms/step
Epoch 100/100
176/176 - 9s - loss: 0.5004 - accuracy: 0.1996 - val_loss: 0.5172 - val_accuracy: 0.0078 - lr: 0.0010 - 9s/epoch - 50ms/step
fitting with batch size: 1500
Epoch 1/100
59/59 - 10s - loss: 0.5004 - accuracy: 0.2007 - val_loss: 0.5123 - val_accuracy: 0.0124 - lr: 0.0010 - 10s/epoch - 175ms/step
Epoch 2/100
59/59 - 8s - loss: 0.5004 - accuracy: 0.1987 - val_loss: 0.5096 - val_accuracy: 0.0705 - lr: 0.0010 - 8s/epoch - 132ms/step
Epoch 3/100
59/59 - 8s - loss: 0.5004 - accuracy: 0.1989 - val_loss: 0.5124 - val_accuracy: 0.0704 - lr: 0.0010 - 8s/epoch - 132ms/step
Epoch 4/100
59/59 - 8s - loss: 0.5004 - accuracy: 0.1989 - val_loss: 0.5101 - val_accuracy: 0.0784 - lr: 0.0010 - 8s/epoch - 132ms/step
Epoch 5/100
59/59 - 8s - loss: 0.5004 - accuracy: 0.1942 - val_loss: 0.5098 - val_accuracy: 0.0784 - lr: 0.0010 - 8s/epoch - 132ms/step
Epoch 6/100
59/59 - 8s - loss: 0.5004 - accuracy: 0.1981 - val_loss: 0.5071 - val_accuracy: 0.0786 - lr: 0.0010 - 8s/epoch - 133ms/step
Epoch 7/100
59/59 - 8s - loss: 0.5004 - accuracy: 0.1989 - val_loss: 0.5060 - val_accuracy: 0.0786 - lr: 0.0010 - 8s/epoch - 132ms/step
Epoch 8/100
59/59 - 8s - loss: 0.5004 - accuracy: 0.1967 - val_loss: 0.5049 - val_accuracy: 0.0126 - lr: 0.0010 - 8s/epoch - 132ms/step
Epoch 9/100
59/59 - 8s - loss: 0.5004 - accuracy: 0.2003 - val_loss: 0.5013 - val_accuracy: 0.0759 - lr: 0.0010 - 8s/epoch - 132ms/step
Epoch 10/100
59/59 - 8s - loss: 0.5004 - accuracy: 0.2002 - val_loss: 0.5015 - val_accuracy: 0.8201 - lr: 0.0010 - 8s/epoch - 132ms/step
Epoch 11/100
59/59 - 8s - loss: 0.5004 - accuracy: 0.1990 - val_loss: 0.5058 - val_accuracy: 0.0258 - lr: 0.0010 - 8s/epoch - 132ms/step
Epoch 12/100
59/59 - 8s - loss: 0.5004 - accuracy: 0.2000 - val_loss: 0.5029 - val_accuracy: 0.0658 - lr: 0.0010 - 8s/epoch - 132ms/step
Epoch 13/100
59/59 - 8s - loss: 0.5004 - accuracy: 0.1969 - val_loss: 0.5025 - val_accuracy: 0.0256 - lr: 0.0010 - 8s/epoch - 132ms/step
Epoch 14/100
59/59 - 8s - loss: 0.5004 - accuracy: 0.1989 - val_loss: 0.5019 - val_accuracy: 0.0737 - lr: 0.0010 - 8s/epoch - 132ms/step
Epoch 15/100
59/59 - 8s - loss: 0.5004 - accuracy: 0.1994 - val_loss: 0.5019 - val_accuracy: 0.0661 - lr: 0.0010 - 8s/epoch - 132ms/step
Epoch 16/100
59/59 - 8s - loss: 0.5004 - accuracy: 0.1972 - val_loss: 0.5009 - val_accuracy: 0.0656 - lr: 0.0010 - 8s/epoch - 132ms/step
Epoch 17/100
59/59 - 8s - loss: 0.5004 - accuracy: 0.2018 - val_loss: 0.5074 - val_accuracy: 0.0735 - lr: 0.0010 - 8s/epoch - 132ms/step
Epoch 18/100
59/59 - 8s - loss: 0.5004 - accuracy: 0.1995 - val_loss: 0.5101 - val_accuracy: 0.0311 - lr: 0.0010 - 8s/epoch - 132ms/step
Epoch 19/100
59/59 - 8s - loss: 0.5004 - accuracy: 0.2002 - val_loss: 0.5024 - val_accuracy: 0.8189 - lr: 0.0010 - 8s/epoch - 132ms/step
Epoch 20/100
59/59 - 8s - loss: 0.5004 - accuracy: 0.1989 - val_loss: 0.5007 - val_accuracy: 0.0808 - lr: 0.0010 - 8s/epoch - 132ms/step
Epoch 21/100
59/59 - 8s - loss: 0.5004 - accuracy: 0.1967 - val_loss: 0.5035 - val_accuracy: 0.8187 - lr: 0.0010 - 8s/epoch - 132ms/step
Epoch 22/100
59/59 - 8s - loss: 0.5004 - accuracy: 0.1979 - val_loss: 0.5032 - val_accuracy: 0.0735 - lr: 0.0010 - 8s/epoch - 132ms/step
Epoch 23/100
59/59 - 8s - loss: 0.5004 - accuracy: 0.1990 - val_loss: 0.5065 - val_accuracy: 0.0085 - lr: 0.0010 - 8s/epoch - 132ms/step
Epoch 24/100
59/59 - 8s - loss: 0.5004 - accuracy: 0.1991 - val_loss: 0.5052 - val_accuracy: 0.0655 - lr: 0.0010 - 8s/epoch - 132ms/step
Epoch 25/100
59/59 - 8s - loss: 0.5004 - accuracy: 0.2012 - val_loss: 0.5025 - val_accuracy: 0.0658 - lr: 0.0010 - 8s/epoch - 132ms/step
Epoch 26/100
59/59 - 8s - loss: 0.5004 - accuracy: 0.1984 - val_loss: 0.5057 - val_accuracy: 0.0742 - lr: 0.0010 - 8s/epoch - 132ms/step
Epoch 27/100
59/59 - 8s - loss: 0.5004 - accuracy: 0.1985 - val_loss: 0.5030 - val_accuracy: 0.0655 - lr: 0.0010 - 8s/epoch - 132ms/step
Epoch 28/100
59/59 - 8s - loss: 0.5004 - accuracy: 0.1972 - val_loss: 0.5077 - val_accuracy: 0.8193 - lr: 0.0010 - 8s/epoch - 132ms/step
Epoch 29/100
59/59 - 8s - loss: 0.5004 - accuracy: 0.1967 - val_loss: 0.5031 - val_accuracy: 0.0314 - lr: 0.0010 - 8s/epoch - 132ms/step
Epoch 30/100
59/59 - 8s - loss: 0.5004 - accuracy: 0.1988 - val_loss: 0.5024 - val_accuracy: 0.8246 - lr: 0.0010 - 8s/epoch - 132ms/step
Epoch 31/100
59/59 - 8s - loss: 0.5004 - accuracy: 0.1988 - val_loss: 0.5020 - val_accuracy: 0.8195 - lr: 0.0010 - 8s/epoch - 132ms/step
Epoch 32/100
59/59 - 8s - loss: 0.5004 - accuracy: 0.1984 - val_loss: 0.5011 - val_accuracy: 0.0663 - lr: 0.0010 - 8s/epoch - 132ms/step
Epoch 33/100
59/59 - 8s - loss: 0.5004 - accuracy: 0.1984 - val_loss: 0.5012 - val_accuracy: 0.0742 - lr: 0.0010 - 8s/epoch - 132ms/step
Epoch 34/100
59/59 - 8s - loss: 0.5004 - accuracy: 0.1998 - val_loss: 0.4988 - val_accuracy: 0.8266 - lr: 0.0010 - 8s/epoch - 132ms/step
Epoch 35/100
59/59 - 8s - loss: 0.5004 - accuracy: 0.1996 - val_loss: 0.5040 - val_accuracy: 0.0075 - lr: 0.0010 - 8s/epoch - 132ms/step
Epoch 36/100
59/59 - 8s - loss: 0.5004 - accuracy: 0.2019 - val_loss: 0.5147 - val_accuracy: 0.0257 - lr: 0.0010 - 8s/epoch - 132ms/step
Epoch 37/100
59/59 - 8s - loss: 0.5004 - accuracy: 0.1993 - val_loss: 0.5007 - val_accuracy: 0.0691 - lr: 0.0010 - 8s/epoch - 132ms/step
Epoch 38/100
59/59 - 8s - loss: 0.5004 - accuracy: 0.2005 - val_loss: 0.5097 - val_accuracy: 0.0661 - lr: 0.0010 - 8s/epoch - 132ms/step
Epoch 39/100
59/59 - 8s - loss: 0.5004 - accuracy: 0.1969 - val_loss: 0.5109 - val_accuracy: 0.0660 - lr: 0.0010 - 8s/epoch - 132ms/step
Epoch 40/100
59/59 - 8s - loss: 0.5004 - accuracy: 0.1990 - val_loss: 0.5193 - val_accuracy: 0.0734 - lr: 0.0010 - 8s/epoch - 132ms/step
Epoch 41/100
59/59 - 8s - loss: 0.5004 - accuracy: 0.1981 - val_loss: 0.5088 - val_accuracy: 0.0132 - lr: 0.0010 - 8s/epoch - 132ms/step
Epoch 42/100
59/59 - 8s - loss: 0.5004 - accuracy: 0.1981 - val_loss: 0.5017 - val_accuracy: 0.0103 - lr: 0.0010 - 8s/epoch - 132ms/step
Epoch 43/100
59/59 - 8s - loss: 0.5004 - accuracy: 0.2001 - val_loss: 0.5050 - val_accuracy: 0.0758 - lr: 0.0010 - 8s/epoch - 132ms/step
Epoch 44/100
59/59 - 8s - loss: 0.5004 - accuracy: 0.2013 - val_loss: 0.4956 - val_accuracy: 0.8226 - lr: 0.0010 - 8s/epoch - 132ms/step
Epoch 45/100
59/59 - 8s - loss: 0.5004 - accuracy: 0.2002 - val_loss: 0.5023 - val_accuracy: 0.0334 - lr: 0.0010 - 8s/epoch - 132ms/step
Epoch 46/100
59/59 - 8s - loss: 0.5004 - accuracy: 0.1984 - val_loss: 0.5017 - val_accuracy: 0.0327 - lr: 0.0010 - 8s/epoch - 132ms/step
Epoch 47/100
59/59 - 8s - loss: 0.5004 - accuracy: 0.1982 - val_loss: 0.5023 - val_accuracy: 0.0659 - lr: 0.0010 - 8s/epoch - 132ms/step
Epoch 48/100
59/59 - 8s - loss: 0.5004 - accuracy: 0.2000 - val_loss: 0.5003 - val_accuracy: 0.0290 - lr: 0.0010 - 8s/epoch - 132ms/step
Epoch 49/100
59/59 - 8s - loss: 0.5004 - accuracy: 0.2015 - val_loss: 0.5128 - val_accuracy: 0.0074 - lr: 0.0010 - 8s/epoch - 132ms/step
Epoch 50/100
59/59 - 8s - loss: 0.5004 - accuracy: 0.1991 - val_loss: 0.5089 - val_accuracy: 0.8237 - lr: 0.0010 - 8s/epoch - 132ms/step
Epoch 51/100
59/59 - 8s - loss: 0.5004 - accuracy: 0.2000 - val_loss: 0.5035 - val_accuracy: 0.8191 - lr: 0.0010 - 8s/epoch - 132ms/step
Epoch 52/100
59/59 - 8s - loss: 0.5004 - accuracy: 0.1996 - val_loss: 0.5032 - val_accuracy: 0.0078 - lr: 0.0010 - 8s/epoch - 132ms/step
Epoch 53/100
59/59 - 8s - loss: 0.5004 - accuracy: 0.1974 - val_loss: 0.5009 - val_accuracy: 0.8242 - lr: 0.0010 - 8s/epoch - 132ms/step
Epoch 54/100
59/59 - 8s - loss: 0.5004 - accuracy: 0.2012 - val_loss: 0.5106 - val_accuracy: 0.0268 - lr: 0.0010 - 8s/epoch - 132ms/step
Epoch 55/100
59/59 - 8s - loss: 0.5004 - accuracy: 0.2001 - val_loss: 0.5104 - val_accuracy: 0.0665 - lr: 0.0010 - 8s/epoch - 132ms/step
Epoch 56/100
59/59 - 8s - loss: 0.5004 - accuracy: 0.2007 - val_loss: 0.5123 - val_accuracy: 0.0786 - lr: 0.0010 - 8s/epoch - 132ms/step
Epoch 57/100
59/59 - 8s - loss: 0.5004 - accuracy: 0.2003 - val_loss: 0.5142 - val_accuracy: 0.0257 - lr: 0.0010 - 8s/epoch - 132ms/step
Epoch 58/100
59/59 - 8s - loss: 0.5004 - accuracy: 0.1993 - val_loss: 0.5076 - val_accuracy: 0.0785 - lr: 0.0010 - 8s/epoch - 132ms/step
Epoch 59/100
59/59 - 8s - loss: 0.5004 - accuracy: 0.1976 - val_loss: 0.5077 - val_accuracy: 0.0655 - lr: 0.0010 - 8s/epoch - 132ms/step
Epoch 60/100
59/59 - 8s - loss: 0.5004 - accuracy: 0.2010 - val_loss: 0.5097 - val_accuracy: 0.0735 - lr: 0.0010 - 8s/epoch - 132ms/step
Epoch 61/100
59/59 - 8s - loss: 0.5004 - accuracy: 0.2000 - val_loss: 0.5059 - val_accuracy: 0.0655 - lr: 0.0010 - 8s/epoch - 132ms/step
Epoch 62/100
59/59 - 8s - loss: 0.5004 - accuracy: 0.2000 - val_loss: 0.5039 - val_accuracy: 0.0133 - lr: 0.0010 - 8s/epoch - 132ms/step
Epoch 63/100
59/59 - 8s - loss: 0.5004 - accuracy: 0.1991 - val_loss: 0.5077 - val_accuracy: 0.0316 - lr: 0.0010 - 8s/epoch - 132ms/step
Epoch 64/100
59/59 - 8s - loss: 0.5004 - accuracy: 0.1974 - val_loss: 0.5019 - val_accuracy: 0.0746 - lr: 0.0010 - 8s/epoch - 132ms/step
Epoch 65/100
59/59 - 8s - loss: 0.5004 - accuracy: 0.1974 - val_loss: 0.5053 - val_accuracy: 0.8190 - lr: 0.0010 - 8s/epoch - 132ms/step
Epoch 66/100
59/59 - 8s - loss: 0.5004 - accuracy: 0.1983 - val_loss: 0.4988 - val_accuracy: 0.8220 - lr: 0.0010 - 8s/epoch - 132ms/step
Epoch 67/100
59/59 - 8s - loss: 0.5004 - accuracy: 0.1992 - val_loss: 0.5009 - val_accuracy: 0.0682 - lr: 0.0010 - 8s/epoch - 132ms/step
Epoch 68/100
59/59 - 8s - loss: 0.5004 - accuracy: 0.1996 - val_loss: 0.4989 - val_accuracy: 0.8260 - lr: 0.0010 - 8s/epoch - 132ms/step
Epoch 69/100
59/59 - 8s - loss: 0.5004 - accuracy: 0.1981 - val_loss: 0.5154 - val_accuracy: 0.0737 - lr: 0.0010 - 8s/epoch - 132ms/step
Epoch 70/100
59/59 - 8s - loss: 0.5004 - accuracy: 0.1983 - val_loss: 0.5003 - val_accuracy: 0.0818 - lr: 0.0010 - 8s/epoch - 132ms/step
Epoch 71/100
59/59 - 8s - loss: 0.5004 - accuracy: 0.1977 - val_loss: 0.4997 - val_accuracy: 0.0337 - lr: 0.0010 - 8s/epoch - 132ms/step
Epoch 72/100
59/59 - 8s - loss: 0.5004 - accuracy: 0.1976 - val_loss: 0.5115 - val_accuracy: 0.0666 - lr: 0.0010 - 8s/epoch - 132ms/step
Epoch 73/100
59/59 - 8s - loss: 0.5004 - accuracy: 0.2006 - val_loss: 0.5002 - val_accuracy: 0.0153 - lr: 0.0010 - 8s/epoch - 132ms/step
Epoch 74/100
59/59 - 8s - loss: 0.5004 - accuracy: 0.1998 - val_loss: 0.5085 - val_accuracy: 0.8196 - lr: 0.0010 - 8s/epoch - 132ms/step
Epoch 75/100
59/59 - 8s - loss: 0.5004 - accuracy: 0.1987 - val_loss: 0.5106 - val_accuracy: 0.0077 - lr: 0.0010 - 8s/epoch - 132ms/step
Epoch 76/100
59/59 - 8s - loss: 0.5004 - accuracy: 0.1986 - val_loss: 0.5090 - val_accuracy: 0.0656 - lr: 0.0010 - 8s/epoch - 132ms/step
Epoch 77/100
59/59 - 8s - loss: 0.5004 - accuracy: 0.1985 - val_loss: 0.5111 - val_accuracy: 0.0788 - lr: 0.0010 - 8s/epoch - 132ms/step
Epoch 78/100
59/59 - 8s - loss: 0.5004 - accuracy: 0.1981 - val_loss: 0.5096 - val_accuracy: 0.8192 - lr: 0.0010 - 8s/epoch - 132ms/step
Epoch 79/100
59/59 - 8s - loss: 0.5004 - accuracy: 0.1991 - val_loss: 0.5051 - val_accuracy: 0.8190 - lr: 0.0010 - 8s/epoch - 132ms/step
Epoch 80/100
59/59 - 8s - loss: 0.5004 - accuracy: 0.1983 - val_loss: 0.5083 - val_accuracy: 0.8197 - lr: 0.0010 - 8s/epoch - 132ms/step
Epoch 81/100
59/59 - 8s - loss: 0.5004 - accuracy: 0.1992 - val_loss: 0.5113 - val_accuracy: 0.0658 - lr: 0.0010 - 8s/epoch - 132ms/step
Epoch 82/100
59/59 - 8s - loss: 0.5004 - accuracy: 0.1976 - val_loss: 0.5115 - val_accuracy: 0.0078 - lr: 0.0010 - 8s/epoch - 132ms/step
Epoch 83/100
59/59 - 8s - loss: 0.5004 - accuracy: 0.1961 - val_loss: 0.5140 - val_accuracy: 0.0257 - lr: 0.0010 - 8s/epoch - 132ms/step
Epoch 84/100
59/59 - 8s - loss: 0.5004 - accuracy: 0.1961 - val_loss: 0.5117 - val_accuracy: 0.0741 - lr: 0.0010 - 8s/epoch - 132ms/step
Epoch 85/100
59/59 - 8s - loss: 0.5004 - accuracy: 0.2013 - val_loss: 0.4992 - val_accuracy: 0.8265 - lr: 0.0010 - 8s/epoch - 132ms/step
Epoch 86/100
59/59 - 8s - loss: 0.5004 - accuracy: 0.1984 - val_loss: 0.5074 - val_accuracy: 0.0749 - lr: 0.0010 - 8s/epoch - 132ms/step
Epoch 87/100
59/59 - 8s - loss: 0.5004 - accuracy: 0.2009 - val_loss: 0.5097 - val_accuracy: 0.8194 - lr: 0.0010 - 8s/epoch - 132ms/step
Epoch 88/100
59/59 - 8s - loss: 0.5004 - accuracy: 0.1992 - val_loss: 0.5080 - val_accuracy: 0.0078 - lr: 0.0010 - 8s/epoch - 132ms/step
Epoch 89/100
59/59 - 8s - loss: 0.5004 - accuracy: 0.1969 - val_loss: 0.5104 - val_accuracy: 0.0081 - lr: 0.0010 - 8s/epoch - 132ms/step
Epoch 90/100
59/59 - 8s - loss: 0.5004 - accuracy: 0.1987 - val_loss: 0.5056 - val_accuracy: 0.8194 - lr: 0.0010 - 8s/epoch - 132ms/step
Epoch 91/100
59/59 - 8s - loss: 0.5004 - accuracy: 0.2002 - val_loss: 0.5151 - val_accuracy: 0.0307 - lr: 0.0010 - 8s/epoch - 132ms/step
Epoch 92/100
59/59 - 8s - loss: 0.5004 - accuracy: 0.1976 - val_loss: 0.5067 - val_accuracy: 0.8189 - lr: 0.0010 - 8s/epoch - 132ms/step
Epoch 93/100
59/59 - 8s - loss: 0.5004 - accuracy: 0.1962 - val_loss: 0.5092 - val_accuracy: 0.0077 - lr: 0.0010 - 8s/epoch - 132ms/step
Epoch 94/100
59/59 - 8s - loss: 0.5004 - accuracy: 0.1997 - val_loss: 0.5123 - val_accuracy: 0.0660 - lr: 0.0010 - 8s/epoch - 132ms/step
Epoch 95/100
59/59 - 8s - loss: 0.5004 - accuracy: 0.1997 - val_loss: 0.5082 - val_accuracy: 0.0735 - lr: 0.0010 - 8s/epoch - 132ms/step
Epoch 96/100
59/59 - 8s - loss: 0.5004 - accuracy: 0.1992 - val_loss: 0.5091 - val_accuracy: 0.8241 - lr: 0.0010 - 8s/epoch - 132ms/step
Epoch 97/100
59/59 - 8s - loss: 0.5004 - accuracy: 0.2005 - val_loss: 0.5117 - val_accuracy: 0.0790 - lr: 0.0010 - 8s/epoch - 132ms/step
Epoch 98/100
59/59 - 8s - loss: 0.5004 - accuracy: 0.1981 - val_loss: 0.5059 - val_accuracy: 0.8195 - lr: 0.0010 - 8s/epoch - 132ms/step
Epoch 99/100
59/59 - 8s - loss: 0.5004 - accuracy: 0.1976 - val_loss: 0.5114 - val_accuracy: 0.0074 - lr: 0.0010 - 8s/epoch - 132ms/step
Epoch 100/100
59/59 - 8s - loss: 0.5004 - accuracy: 0.1991 - val_loss: 0.5093 - val_accuracy: 0.8191 - lr: 0.0010 - 8s/epoch - 132ms/step
fitting with batch size: 2500
Epoch 1/100
36/36 - 10s - loss: 0.5004 - accuracy: 0.1991 - val_loss: 0.5003 - val_accuracy: 0.8214 - lr: 0.0010 - 10s/epoch - 279ms/step
Epoch 2/100
36/36 - 8s - loss: 0.5004 - accuracy: 0.2004 - val_loss: 0.5037 - val_accuracy: 0.0774 - lr: 0.0010 - 8s/epoch - 210ms/step
Epoch 3/100
36/36 - 8s - loss: 0.5004 - accuracy: 0.1996 - val_loss: 0.5119 - val_accuracy: 0.0083 - lr: 0.0010 - 8s/epoch - 210ms/step
Epoch 4/100
36/36 - 8s - loss: 0.5004 - accuracy: 0.2015 - val_loss: 0.5156 - val_accuracy: 0.0664 - lr: 0.0010 - 8s/epoch - 211ms/step
Epoch 5/100
36/36 - 8s - loss: 0.5004 - accuracy: 0.1999 - val_loss: 0.5073 - val_accuracy: 0.0662 - lr: 0.0010 - 8s/epoch - 210ms/step
Epoch 6/100
36/36 - 8s - loss: 0.5004 - accuracy: 0.2000 - val_loss: 0.5117 - val_accuracy: 0.0077 - lr: 0.0010 - 8s/epoch - 210ms/step
Epoch 7/100
36/36 - 8s - loss: 0.5004 - accuracy: 0.1983 - val_loss: 0.5114 - val_accuracy: 0.0660 - lr: 0.0010 - 8s/epoch - 210ms/step
Epoch 8/100
36/36 - 8s - loss: 0.5004 - accuracy: 0.1984 - val_loss: 0.5087 - val_accuracy: 0.0665 - lr: 0.0010 - 8s/epoch - 210ms/step
Epoch 9/100
36/36 - 8s - loss: 0.5004 - accuracy: 0.1993 - val_loss: 0.5092 - val_accuracy: 0.8196 - lr: 0.0010 - 8s/epoch - 210ms/step
Epoch 10/100
36/36 - 8s - loss: 0.5004 - accuracy: 0.1996 - val_loss: 0.5116 - val_accuracy: 0.8236 - lr: 0.0010 - 8s/epoch - 210ms/step
Epoch 11/100
36/36 - 8s - loss: 0.5004 - accuracy: 0.1999 - val_loss: 0.5136 - val_accuracy: 0.0259 - lr: 0.0010 - 8s/epoch - 209ms/step
Epoch 12/100
36/36 - 8s - loss: 0.5004 - accuracy: 0.1978 - val_loss: 0.5088 - val_accuracy: 0.0255 - lr: 0.0010 - 8s/epoch - 210ms/step
Epoch 13/100
36/36 - 8s - loss: 0.5004 - accuracy: 0.2013 - val_loss: 0.5002 - val_accuracy: 0.8216 - lr: 0.0010 - 8s/epoch - 210ms/step
Epoch 14/100
36/36 - 8s - loss: 0.5004 - accuracy: 0.1979 - val_loss: 0.5015 - val_accuracy: 0.0765 - lr: 0.0010 - 8s/epoch - 209ms/step
Epoch 15/100
36/36 - 8s - loss: 0.5004 - accuracy: 0.1992 - val_loss: 0.5007 - val_accuracy: 0.0284 - lr: 0.0010 - 8s/epoch - 209ms/step
Epoch 16/100
36/36 - 8s - loss: 0.5004 - accuracy: 0.1992 - val_loss: 0.5036 - val_accuracy: 0.0764 - lr: 0.0010 - 8s/epoch - 209ms/step
Epoch 17/100
36/36 - 8s - loss: 0.5004 - accuracy: 0.2002 - val_loss: 0.5018 - val_accuracy: 0.0102 - lr: 0.0010 - 8s/epoch - 210ms/step
Epoch 18/100
36/36 - 8s - loss: 0.5004 - accuracy: 0.2003 - val_loss: 0.5013 - val_accuracy: 0.0759 - lr: 0.0010 - 8s/epoch - 210ms/step
Epoch 19/100
36/36 - 8s - loss: 0.5004 - accuracy: 0.1983 - val_loss: 0.5008 - val_accuracy: 0.0153 - lr: 0.0010 - 8s/epoch - 210ms/step
Epoch 20/100
36/36 - 8s - loss: 0.5004 - accuracy: 0.1983 - val_loss: 0.5014 - val_accuracy: 0.8214 - lr: 0.0010 - 8s/epoch - 210ms/step
Epoch 21/100
36/36 - 8s - loss: 0.5004 - accuracy: 0.1988 - val_loss: 0.5006 - val_accuracy: 0.0279 - lr: 0.0010 - 8s/epoch - 210ms/step
Epoch 22/100
36/36 - 8s - loss: 0.5004 - accuracy: 0.1996 - val_loss: 0.5055 - val_accuracy: 0.0785 - lr: 0.0010 - 8s/epoch - 210ms/step
Epoch 23/100
36/36 - 8s - loss: 0.5004 - accuracy: 0.2007 - val_loss: 0.5066 - val_accuracy: 0.0254 - lr: 0.0010 - 8s/epoch - 210ms/step
Epoch 24/100
36/36 - 8s - loss: 0.5004 - accuracy: 0.1998 - val_loss: 0.5092 - val_accuracy: 0.0076 - lr: 0.0010 - 8s/epoch - 210ms/step
Epoch 25/100
36/36 - 8s - loss: 0.5004 - accuracy: 0.2001 - val_loss: 0.5069 - val_accuracy: 0.8191 - lr: 0.0010 - 8s/epoch - 210ms/step
Epoch 26/100
36/36 - 8s - loss: 0.5004 - accuracy: 0.1984 - val_loss: 0.5085 - val_accuracy: 0.0740 - lr: 0.0010 - 8s/epoch - 209ms/step
Epoch 27/100
36/36 - 8s - loss: 0.5004 - accuracy: 0.1997 - val_loss: 0.5098 - val_accuracy: 0.8197 - lr: 0.0010 - 8s/epoch - 210ms/step
Epoch 28/100
36/36 - 8s - loss: 0.5004 - accuracy: 0.1998 - val_loss: 0.5091 - val_accuracy: 0.0086 - lr: 0.0010 - 8s/epoch - 209ms/step
Epoch 29/100
36/36 - 8s - loss: 0.5004 - accuracy: 0.1998 - val_loss: 0.5088 - val_accuracy: 0.0661 - lr: 0.0010 - 8s/epoch - 210ms/step
Epoch 30/100
36/36 - 8s - loss: 0.5004 - accuracy: 0.1987 - val_loss: 0.5101 - val_accuracy: 0.0706 - lr: 0.0010 - 8s/epoch - 210ms/step
Epoch 31/100
36/36 - 8s - loss: 0.5004 - accuracy: 0.1953 - val_loss: 0.5068 - val_accuracy: 0.0308 - lr: 0.0010 - 8s/epoch - 210ms/step
Epoch 32/100
36/36 - 8s - loss: 0.5004 - accuracy: 0.2000 - val_loss: 0.5080 - val_accuracy: 0.0307 - lr: 0.0010 - 8s/epoch - 210ms/step
Epoch 33/100
36/36 - 8s - loss: 0.5004 - accuracy: 0.2005 - val_loss: 0.5083 - val_accuracy: 0.0128 - lr: 0.0010 - 8s/epoch - 209ms/step
Epoch 34/100
36/36 - 8s - loss: 0.5004 - accuracy: 0.1982 - val_loss: 0.5098 - val_accuracy: 0.0079 - lr: 0.0010 - 8s/epoch - 210ms/step
Epoch 35/100
36/36 - 8s - loss: 0.5004 - accuracy: 0.1996 - val_loss: 0.5090 - val_accuracy: 0.8242 - lr: 0.0010 - 8s/epoch - 210ms/step
Epoch 36/100
36/36 - 8s - loss: 0.5004 - accuracy: 0.2013 - val_loss: 0.5129 - val_accuracy: 0.0126 - lr: 0.0010 - 8s/epoch - 210ms/step
Epoch 37/100
36/36 - 8s - loss: 0.5004 - accuracy: 0.2004 - val_loss: 0.5106 - val_accuracy: 0.0794 - lr: 0.0010 - 8s/epoch - 210ms/step
Epoch 38/100
36/36 - 8s - loss: 0.5004 - accuracy: 0.1989 - val_loss: 0.5080 - val_accuracy: 0.0134 - lr: 0.0010 - 8s/epoch - 209ms/step
Epoch 39/100
36/36 - 8s - loss: 0.5004 - accuracy: 0.1999 - val_loss: 0.5123 - val_accuracy: 0.0308 - lr: 0.0010 - 8s/epoch - 210ms/step
Epoch 40/100
36/36 - 8s - loss: 0.5004 - accuracy: 0.2009 - val_loss: 0.5075 - val_accuracy: 0.0783 - lr: 0.0010 - 8s/epoch - 209ms/step
Epoch 41/100
36/36 - 8s - loss: 0.5004 - accuracy: 0.1983 - val_loss: 0.5080 - val_accuracy: 0.0735 - lr: 0.0010 - 8s/epoch - 211ms/step
Epoch 42/100
36/36 - 8s - loss: 0.5004 - accuracy: 0.1974 - val_loss: 0.5127 - val_accuracy: 0.0783 - lr: 0.0010 - 8s/epoch - 210ms/step
Epoch 43/100
36/36 - 8s - loss: 0.5004 - accuracy: 0.1963 - val_loss: 0.5013 - val_accuracy: 0.0683 - lr: 0.0010 - 8s/epoch - 210ms/step
Epoch 44/100
36/36 - 8s - loss: 0.5004 - accuracy: 0.2000 - val_loss: 0.5020 - val_accuracy: 0.0679 - lr: 0.0010 - 8s/epoch - 210ms/step
Epoch 45/100
36/36 - 8s - loss: 0.5004 - accuracy: 0.1984 - val_loss: 0.5113 - val_accuracy: 0.0084 - lr: 0.0010 - 8s/epoch - 210ms/step
Epoch 46/100
36/36 - 8s - loss: 0.5004 - accuracy: 0.1989 - val_loss: 0.5025 - val_accuracy: 0.0681 - lr: 0.0010 - 8s/epoch - 210ms/step
Epoch 47/100
36/36 - 8s - loss: 0.5004 - accuracy: 0.1991 - val_loss: 0.5025 - val_accuracy: 0.0277 - lr: 0.0010 - 8s/epoch - 210ms/step
Epoch 48/100
36/36 - 8s - loss: 0.5004 - accuracy: 0.1997 - val_loss: 0.5019 - val_accuracy: 0.0759 - lr: 0.0010 - 8s/epoch - 210ms/step
Epoch 49/100
36/36 - 8s - loss: 0.5004 - accuracy: 0.2000 - val_loss: 0.5011 - val_accuracy: 0.0759 - lr: 0.0010 - 8s/epoch - 210ms/step
Epoch 50/100
36/36 - 8s - loss: 0.5004 - accuracy: 0.1997 - val_loss: 0.5003 - val_accuracy: 0.0760 - lr: 0.0010 - 8s/epoch - 210ms/step
Epoch 51/100
36/36 - 8s - loss: 0.5004 - accuracy: 0.1984 - val_loss: 0.5090 - val_accuracy: 0.0787 - lr: 0.0010 - 8s/epoch - 210ms/step
Epoch 52/100
36/36 - 8s - loss: 0.5004 - accuracy: 0.1988 - val_loss: 0.5148 - val_accuracy: 0.0264 - lr: 0.0010 - 8s/epoch - 210ms/step
Epoch 53/100
36/36 - 8s - loss: 0.5004 - accuracy: 0.1987 - val_loss: 0.5101 - val_accuracy: 0.0742 - lr: 0.0010 - 8s/epoch - 210ms/step
Epoch 54/100
36/36 - 8s - loss: 0.5004 - accuracy: 0.2003 - val_loss: 0.5143 - val_accuracy: 0.0256 - lr: 0.0010 - 8s/epoch - 209ms/step
Epoch 55/100
36/36 - 8s - loss: 0.5004 - accuracy: 0.2002 - val_loss: 0.5118 - val_accuracy: 0.0080 - lr: 0.0010 - 8s/epoch - 210ms/step
Epoch 56/100
36/36 - 8s - loss: 0.5004 - accuracy: 0.1996 - val_loss: 0.5105 - val_accuracy: 0.8238 - lr: 0.0010 - 8s/epoch - 209ms/step
Epoch 57/100
36/36 - 8s - loss: 0.5004 - accuracy: 0.2000 - val_loss: 0.5082 - val_accuracy: 0.8238 - lr: 0.0010 - 8s/epoch - 210ms/step
Epoch 58/100
36/36 - 8s - loss: 0.5004 - accuracy: 0.2006 - val_loss: 0.5011 - val_accuracy: 0.0254 - lr: 0.0010 - 8s/epoch - 210ms/step
Epoch 59/100
36/36 - 8s - loss: 0.5004 - accuracy: 0.1989 - val_loss: 0.5077 - val_accuracy: 0.8189 - lr: 0.0010 - 8s/epoch - 210ms/step
Epoch 60/100
36/36 - 8s - loss: 0.5004 - accuracy: 0.1992 - val_loss: 0.5074 - val_accuracy: 0.8188 - lr: 0.0010 - 8s/epoch - 210ms/step
Epoch 61/100
36/36 - 8s - loss: 0.5004 - accuracy: 0.1986 - val_loss: 0.5080 - val_accuracy: 0.0257 - lr: 0.0010 - 8s/epoch - 210ms/step
Epoch 62/100
36/36 - 8s - loss: 0.5004 - accuracy: 0.2000 - val_loss: 0.5130 - val_accuracy: 0.0313 - lr: 0.0010 - 8s/epoch - 210ms/step
Epoch 63/100
36/36 - 8s - loss: 0.5004 - accuracy: 0.1991 - val_loss: 0.5093 - val_accuracy: 0.0255 - lr: 0.0010 - 8s/epoch - 209ms/step
Epoch 64/100
36/36 - 8s - loss: 0.5004 - accuracy: 0.1992 - val_loss: 0.5017 - val_accuracy: 0.0285 - lr: 0.0010 - 8s/epoch - 210ms/step
Epoch 65/100
36/36 - 8s - loss: 0.5004 - accuracy: 0.1995 - val_loss: 0.5014 - val_accuracy: 0.8189 - lr: 0.0010 - 8s/epoch - 210ms/step
Epoch 66/100
36/36 - 8s - loss: 0.5004 - accuracy: 0.1992 - val_loss: 0.5035 - val_accuracy: 0.0254 - lr: 0.0010 - 8s/epoch - 210ms/step
Epoch 67/100
36/36 - 8s - loss: 0.5004 - accuracy: 0.1981 - val_loss: 0.5061 - val_accuracy: 0.8187 - lr: 0.0010 - 8s/epoch - 210ms/step
Epoch 68/100
36/36 - 8s - loss: 0.5004 - accuracy: 0.2000 - val_loss: 0.5056 - val_accuracy: 0.8187 - lr: 0.0010 - 8s/epoch - 210ms/step
Epoch 69/100
36/36 - 8s - loss: 0.5004 - accuracy: 0.1994 - val_loss: 0.5091 - val_accuracy: 0.0318 - lr: 0.0010 - 8s/epoch - 210ms/step
Epoch 70/100
36/36 - 8s - loss: 0.5004 - accuracy: 0.1990 - val_loss: 0.5045 - val_accuracy: 0.0317 - lr: 0.0010 - 8s/epoch - 209ms/step
Epoch 71/100
36/36 - 8s - loss: 0.5004 - accuracy: 0.1983 - val_loss: 0.5043 - val_accuracy: 0.8200 - lr: 0.0010 - 8s/epoch - 210ms/step
Epoch 72/100
36/36 - 8s - loss: 0.5004 - accuracy: 0.2007 - val_loss: 0.5035 - val_accuracy: 0.8197 - lr: 0.0010 - 8s/epoch - 209ms/step
Epoch 73/100
36/36 - 8s - loss: 0.5004 - accuracy: 0.1996 - val_loss: 0.5059 - val_accuracy: 0.0659 - lr: 0.0010 - 8s/epoch - 210ms/step
Epoch 74/100
36/36 - 8s - loss: 0.5004 - accuracy: 0.1985 - val_loss: 0.5052 - val_accuracy: 0.0655 - lr: 0.0010 - 8s/epoch - 210ms/step
Epoch 75/100
36/36 - 8s - loss: 0.5004 - accuracy: 0.1993 - val_loss: 0.5039 - val_accuracy: 0.0658 - lr: 0.0010 - 8s/epoch - 210ms/step
Epoch 76/100
36/36 - 8s - loss: 0.5004 - accuracy: 0.1981 - val_loss: 0.5023 - val_accuracy: 0.0256 - lr: 0.0010 - 8s/epoch - 209ms/step
Epoch 77/100
36/36 - 8s - loss: 0.5004 - accuracy: 0.2000 - val_loss: 0.5020 - val_accuracy: 0.0253 - lr: 0.0010 - 8s/epoch - 209ms/step
Epoch 78/100
36/36 - 8s - loss: 0.5004 - accuracy: 0.1982 - val_loss: 0.5014 - val_accuracy: 0.0256 - lr: 0.0010 - 8s/epoch - 211ms/step
Epoch 79/100
36/36 - 8s - loss: 0.5004 - accuracy: 0.1994 - val_loss: 0.5028 - val_accuracy: 0.0256 - lr: 0.0010 - 8s/epoch - 209ms/step
Epoch 80/100
36/36 - 8s - loss: 0.5004 - accuracy: 0.1981 - val_loss: 0.5038 - val_accuracy: 0.0255 - lr: 0.0010 - 8s/epoch - 209ms/step
Epoch 81/100
36/36 - 8s - loss: 0.5004 - accuracy: 0.1997 - val_loss: 0.5039 - val_accuracy: 0.0735 - lr: 0.0010 - 8s/epoch - 210ms/step
Epoch 82/100
36/36 - 8s - loss: 0.5004 - accuracy: 0.1993 - val_loss: 0.5042 - val_accuracy: 0.0267 - lr: 0.0010 - 8s/epoch - 211ms/step
Epoch 83/100
36/36 - 8s - loss: 0.5004 - accuracy: 0.2007 - val_loss: 0.5022 - val_accuracy: 0.8198 - lr: 0.0010 - 8s/epoch - 210ms/step
Epoch 84/100
36/36 - 8s - loss: 0.5004 - accuracy: 0.1988 - val_loss: 0.5036 - val_accuracy: 0.0257 - lr: 0.0010 - 8s/epoch - 210ms/step
Epoch 85/100
36/36 - 8s - loss: 0.5004 - accuracy: 0.2005 - val_loss: 0.5008 - val_accuracy: 0.0658 - lr: 0.0010 - 8s/epoch - 210ms/step
Epoch 86/100
36/36 - 8s - loss: 0.5004 - accuracy: 0.2003 - val_loss: 0.5033 - val_accuracy: 0.0741 - lr: 0.0010 - 8s/epoch - 211ms/step
Epoch 87/100
36/36 - 8s - loss: 0.5004 - accuracy: 0.1994 - val_loss: 0.5031 - val_accuracy: 0.0262 - lr: 0.0010 - 8s/epoch - 210ms/step
Epoch 88/100
36/36 - 8s - loss: 0.5004 - accuracy: 0.2004 - val_loss: 0.5154 - val_accuracy: 0.0075 - lr: 0.0010 - 8s/epoch - 210ms/step
Epoch 89/100
36/36 - 8s - loss: 0.5004 - accuracy: 0.2001 - val_loss: 0.5039 - val_accuracy: 0.0100 - lr: 0.0010 - 8s/epoch - 210ms/step
Epoch 90/100
36/36 - 8s - loss: 0.5004 - accuracy: 0.1991 - val_loss: 0.5179 - val_accuracy: 0.0783 - lr: 0.0010 - 8s/epoch - 210ms/step
Epoch 91/100
36/36 - 8s - loss: 0.5004 - accuracy: 0.1974 - val_loss: 0.5040 - val_accuracy: 0.0325 - lr: 0.0010 - 8s/epoch - 210ms/step
Epoch 92/100
36/36 - 8s - loss: 0.5004 - accuracy: 0.1999 - val_loss: 0.5051 - val_accuracy: 0.0706 - lr: 0.0010 - 8s/epoch - 209ms/step
Epoch 93/100
36/36 - 8s - loss: 0.5004 - accuracy: 0.1998 - val_loss: 0.5126 - val_accuracy: 0.0656 - lr: 0.0010 - 8s/epoch - 210ms/step
Epoch 94/100
36/36 - 8s - loss: 0.5004 - accuracy: 0.1974 - val_loss: 0.5076 - val_accuracy: 0.0258 - lr: 0.0010 - 8s/epoch - 210ms/step
Epoch 95/100
36/36 - 8s - loss: 0.5004 - accuracy: 0.2000 - val_loss: 0.5103 - val_accuracy: 0.0259 - lr: 0.0010 - 8s/epoch - 210ms/step
Epoch 96/100
36/36 - 8s - loss: 0.5004 - accuracy: 0.1971 - val_loss: 0.5086 - val_accuracy: 0.8190 - lr: 0.0010 - 8s/epoch - 210ms/step
Epoch 97/100
36/36 - 8s - loss: 0.5004 - accuracy: 0.1980 - val_loss: 0.5080 - val_accuracy: 0.0259 - lr: 0.0010 - 8s/epoch - 210ms/step
Epoch 98/100
36/36 - 8s - loss: 0.5004 - accuracy: 0.1979 - val_loss: 0.5045 - val_accuracy: 0.0309 - lr: 0.0010 - 8s/epoch - 210ms/step
Epoch 99/100
36/36 - 8s - loss: 0.5004 - accuracy: 0.2003 - val_loss: 0.5045 - val_accuracy: 0.0739 - lr: 0.0010 - 8s/epoch - 210ms/step
Epoch 100/100
36/36 - 8s - loss: 0.5004 - accuracy: 0.1988 - val_loss: 0.5088 - val_accuracy: 0.0660 - lr: 0.0010 - 8s/epoch - 210ms/step
Loss: huber_loss
Epoch number: 75
fitting with batch size: 20
Epoch 1/75
4378/4378 - 77s - loss: 0.0800 - accuracy: 0.1989 - val_loss: 0.0798 - val_accuracy: 0.0075 - lr: 0.0010 - 77s/epoch - 18ms/step
Epoch 2/75
4378/4378 - 74s - loss: 0.0800 - accuracy: 0.1988 - val_loss: 0.0799 - val_accuracy: 0.8187 - lr: 0.0010 - 74s/epoch - 17ms/step
Epoch 3/75
4378/4378 - 75s - loss: 0.0800 - accuracy: 0.2015 - val_loss: 0.0808 - val_accuracy: 0.0738 - lr: 0.0010 - 75s/epoch - 17ms/step
Epoch 4/75
4378/4378 - 74s - loss: 0.0800 - accuracy: 0.2004 - val_loss: 0.0810 - val_accuracy: 0.0254 - lr: 0.0010 - 74s/epoch - 17ms/step
Epoch 5/75
4378/4378 - 74s - loss: 0.0800 - accuracy: 0.1986 - val_loss: 0.0795 - val_accuracy: 0.8196 - lr: 0.0010 - 74s/epoch - 17ms/step
Epoch 6/75
4378/4378 - 74s - loss: 0.0800 - accuracy: 0.1968 - val_loss: 0.0781 - val_accuracy: 0.8213 - lr: 0.0010 - 74s/epoch - 17ms/step
Epoch 7/75
4378/4378 - 75s - loss: 0.0800 - accuracy: 0.2009 - val_loss: 0.0792 - val_accuracy: 0.0764 - lr: 0.0010 - 75s/epoch - 17ms/step
Epoch 8/75
4378/4378 - 75s - loss: 0.0800 - accuracy: 0.1982 - val_loss: 0.0798 - val_accuracy: 0.8192 - lr: 0.0010 - 75s/epoch - 17ms/step
Epoch 9/75
4378/4378 - 75s - loss: 0.0800 - accuracy: 0.1995 - val_loss: 0.0806 - val_accuracy: 0.0262 - lr: 0.0010 - 75s/epoch - 17ms/step
Epoch 10/75
4378/4378 - 74s - loss: 0.0800 - accuracy: 0.2000 - val_loss: 0.0801 - val_accuracy: 0.0737 - lr: 0.0010 - 74s/epoch - 17ms/step
Epoch 11/75
4378/4378 - 74s - loss: 0.0800 - accuracy: 0.1982 - val_loss: 0.0804 - val_accuracy: 0.0735 - lr: 0.0010 - 74s/epoch - 17ms/step
Epoch 12/75
4378/4378 - 74s - loss: 0.0800 - accuracy: 0.2005 - val_loss: 0.0804 - val_accuracy: 0.0736 - lr: 0.0010 - 74s/epoch - 17ms/step
Epoch 13/75
4378/4378 - 74s - loss: 0.0800 - accuracy: 0.1983 - val_loss: 0.0801 - val_accuracy: 0.0077 - lr: 0.0010 - 74s/epoch - 17ms/step
Epoch 14/75
4378/4378 - 74s - loss: 0.0800 - accuracy: 0.1985 - val_loss: 0.0831 - val_accuracy: 0.0256 - lr: 0.0010 - 74s/epoch - 17ms/step
Epoch 15/75
4378/4378 - 74s - loss: 0.0800 - accuracy: 0.1981 - val_loss: 0.0806 - val_accuracy: 0.0257 - lr: 0.0010 - 74s/epoch - 17ms/step
Epoch 16/75
4378/4378 - 74s - loss: 0.0800 - accuracy: 0.2005 - val_loss: 0.0805 - val_accuracy: 0.0074 - lr: 0.0010 - 74s/epoch - 17ms/step
Epoch 17/75
4378/4378 - 74s - loss: 0.0800 - accuracy: 0.1985 - val_loss: 0.0807 - val_accuracy: 0.0764 - lr: 0.0010 - 74s/epoch - 17ms/step
Epoch 18/75
4378/4378 - 74s - loss: 0.0800 - accuracy: 0.2019 - val_loss: 0.0803 - val_accuracy: 0.0135 - lr: 0.0010 - 74s/epoch - 17ms/step
Epoch 19/75
4378/4378 - 74s - loss: 0.0800 - accuracy: 0.1975 - val_loss: 0.0802 - val_accuracy: 0.0325 - lr: 0.0010 - 74s/epoch - 17ms/step
Epoch 20/75
4378/4378 - 74s - loss: 0.0800 - accuracy: 0.1996 - val_loss: 0.0799 - val_accuracy: 0.0328 - lr: 0.0010 - 74s/epoch - 17ms/step
Epoch 21/75
4378/4378 - 74s - loss: 0.0800 - accuracy: 0.1991 - val_loss: 0.0806 - val_accuracy: 0.0127 - lr: 0.0010 - 74s/epoch - 17ms/step
Epoch 22/75
4378/4378 - 74s - loss: 0.0800 - accuracy: 0.1998 - val_loss: 0.0798 - val_accuracy: 0.8192 - lr: 0.0010 - 74s/epoch - 17ms/step
Epoch 23/75
4378/4378 - 74s - loss: 0.0800 - accuracy: 0.1987 - val_loss: 0.0813 - val_accuracy: 0.0259 - lr: 0.0010 - 74s/epoch - 17ms/step
Epoch 24/75
4378/4378 - 74s - loss: 0.0800 - accuracy: 0.1989 - val_loss: 0.0802 - val_accuracy: 0.0137 - lr: 0.0010 - 74s/epoch - 17ms/step
Epoch 25/75
4378/4378 - 74s - loss: 0.0800 - accuracy: 0.2006 - val_loss: 0.0802 - val_accuracy: 0.0306 - lr: 0.0010 - 74s/epoch - 17ms/step
Epoch 26/75
4378/4378 - 74s - loss: 0.0800 - accuracy: 0.2016 - val_loss: 0.0803 - val_accuracy: 0.0656 - lr: 0.0010 - 74s/epoch - 17ms/step
Epoch 27/75
4378/4378 - 74s - loss: 0.0800 - accuracy: 0.1988 - val_loss: 0.0775 - val_accuracy: 0.8220 - lr: 0.0010 - 74s/epoch - 17ms/step
Epoch 28/75
4378/4378 - 74s - loss: 0.0800 - accuracy: 0.1977 - val_loss: 0.0807 - val_accuracy: 0.0741 - lr: 0.0010 - 74s/epoch - 17ms/step
Epoch 29/75
4378/4378 - 74s - loss: 0.0800 - accuracy: 0.1998 - val_loss: 0.0797 - val_accuracy: 0.0736 - lr: 0.0010 - 74s/epoch - 17ms/step
Epoch 30/75
4378/4378 - 74s - loss: 0.0800 - accuracy: 0.1994 - val_loss: 0.0821 - val_accuracy: 0.0285 - lr: 0.0010 - 74s/epoch - 17ms/step
Epoch 31/75
4378/4378 - 74s - loss: 0.0800 - accuracy: 0.2000 - val_loss: 0.0814 - val_accuracy: 0.0660 - lr: 0.0010 - 74s/epoch - 17ms/step
Epoch 32/75
4378/4378 - 74s - loss: 0.0800 - accuracy: 0.1985 - val_loss: 0.0799 - val_accuracy: 0.8193 - lr: 0.0010 - 74s/epoch - 17ms/step
Epoch 33/75
4378/4378 - 74s - loss: 0.0800 - accuracy: 0.2008 - val_loss: 0.0804 - val_accuracy: 0.0735 - lr: 0.0010 - 74s/epoch - 17ms/step
Epoch 34/75
4378/4378 - 74s - loss: 0.0800 - accuracy: 0.2005 - val_loss: 0.0802 - val_accuracy: 0.0307 - lr: 0.0010 - 74s/epoch - 17ms/step
Epoch 35/75
4378/4378 - 74s - loss: 0.0800 - accuracy: 0.1999 - val_loss: 0.0816 - val_accuracy: 0.0255 - lr: 0.0010 - 74s/epoch - 17ms/step
Epoch 36/75
4378/4378 - 74s - loss: 0.0800 - accuracy: 0.2010 - val_loss: 0.0806 - val_accuracy: 0.0255 - lr: 0.0010 - 74s/epoch - 17ms/step
Epoch 37/75
4378/4378 - 74s - loss: 0.0800 - accuracy: 0.1997 - val_loss: 0.0806 - val_accuracy: 0.0659 - lr: 0.0010 - 74s/epoch - 17ms/step
Epoch 38/75
4378/4378 - 74s - loss: 0.0800 - accuracy: 0.2010 - val_loss: 0.0799 - val_accuracy: 0.8237 - lr: 0.0010 - 74s/epoch - 17ms/step
Epoch 39/75
4378/4378 - 74s - loss: 0.0800 - accuracy: 0.1974 - val_loss: 0.0797 - val_accuracy: 0.0739 - lr: 0.0010 - 74s/epoch - 17ms/step
Epoch 40/75
4378/4378 - 75s - loss: 0.0800 - accuracy: 0.1993 - val_loss: 0.0805 - val_accuracy: 0.0256 - lr: 0.0010 - 75s/epoch - 17ms/step
Epoch 41/75
4378/4378 - 74s - loss: 0.0800 - accuracy: 0.2005 - val_loss: 0.0801 - val_accuracy: 0.0089 - lr: 0.0010 - 74s/epoch - 17ms/step
Epoch 42/75
4378/4378 - 74s - loss: 0.0800 - accuracy: 0.1989 - val_loss: 0.0808 - val_accuracy: 0.0783 - lr: 0.0010 - 74s/epoch - 17ms/step
Epoch 43/75
4378/4378 - 74s - loss: 0.0800 - accuracy: 0.1990 - val_loss: 0.0808 - val_accuracy: 0.0745 - lr: 0.0010 - 74s/epoch - 17ms/step
Epoch 44/75
4378/4378 - 74s - loss: 0.0800 - accuracy: 0.2006 - val_loss: 0.0799 - val_accuracy: 0.8235 - lr: 0.0010 - 74s/epoch - 17ms/step
Epoch 45/75
4378/4378 - 74s - loss: 0.0800 - accuracy: 0.1987 - val_loss: 0.0806 - val_accuracy: 0.0745 - lr: 0.0010 - 74s/epoch - 17ms/step
Epoch 46/75
4378/4378 - 74s - loss: 0.0800 - accuracy: 0.1994 - val_loss: 0.0808 - val_accuracy: 0.0684 - lr: 0.0010 - 74s/epoch - 17ms/step
Epoch 47/75
4378/4378 - 74s - loss: 0.0800 - accuracy: 0.1989 - val_loss: 0.0813 - val_accuracy: 0.0259 - lr: 0.0010 - 74s/epoch - 17ms/step
Epoch 48/75
4378/4378 - 74s - loss: 0.0800 - accuracy: 0.2006 - val_loss: 0.0803 - val_accuracy: 0.0784 - lr: 0.0010 - 74s/epoch - 17ms/step
Epoch 49/75
4378/4378 - 74s - loss: 0.0800 - accuracy: 0.2005 - val_loss: 0.0807 - val_accuracy: 0.0079 - lr: 0.0010 - 74s/epoch - 17ms/step
Epoch 50/75
4378/4378 - 74s - loss: 0.0800 - accuracy: 0.1987 - val_loss: 0.0811 - val_accuracy: 0.0735 - lr: 0.0010 - 74s/epoch - 17ms/step
Epoch 51/75
4378/4378 - 74s - loss: 0.0800 - accuracy: 0.1977 - val_loss: 0.0806 - val_accuracy: 0.0738 - lr: 0.0010 - 74s/epoch - 17ms/step
Epoch 52/75
4378/4378 - 74s - loss: 0.0800 - accuracy: 0.1985 - val_loss: 0.0800 - val_accuracy: 0.8235 - lr: 0.0010 - 74s/epoch - 17ms/step
Epoch 53/75
4378/4378 - 74s - loss: 0.0800 - accuracy: 0.1999 - val_loss: 0.0797 - val_accuracy: 0.8189 - lr: 0.0010 - 74s/epoch - 17ms/step
Epoch 54/75
4378/4378 - 74s - loss: 0.0800 - accuracy: 0.2001 - val_loss: 0.0793 - val_accuracy: 0.8262 - lr: 0.0010 - 74s/epoch - 17ms/step
Epoch 55/75
4378/4378 - 74s - loss: 0.0800 - accuracy: 0.1981 - val_loss: 0.0806 - val_accuracy: 0.0075 - lr: 0.0010 - 74s/epoch - 17ms/step
Epoch 56/75
4378/4378 - 74s - loss: 0.0800 - accuracy: 0.1995 - val_loss: 0.0798 - val_accuracy: 0.0112 - lr: 0.0010 - 74s/epoch - 17ms/step
Epoch 57/75
4378/4378 - 74s - loss: 0.0800 - accuracy: 0.1995 - val_loss: 0.0808 - val_accuracy: 0.0661 - lr: 0.0010 - 74s/epoch - 17ms/step
Epoch 58/75
4378/4378 - 74s - loss: 0.0800 - accuracy: 0.2016 - val_loss: 0.0805 - val_accuracy: 0.0078 - lr: 0.0010 - 74s/epoch - 17ms/step
Epoch 59/75
4378/4378 - 74s - loss: 0.0800 - accuracy: 0.1996 - val_loss: 0.0801 - val_accuracy: 0.0758 - lr: 0.0010 - 74s/epoch - 17ms/step
Epoch 60/75
4378/4378 - 74s - loss: 0.0800 - accuracy: 0.1980 - val_loss: 0.0815 - val_accuracy: 0.0657 - lr: 0.0010 - 74s/epoch - 17ms/step
Epoch 61/75
4378/4378 - 74s - loss: 0.0800 - accuracy: 0.2013 - val_loss: 0.0798 - val_accuracy: 0.0307 - lr: 0.0010 - 74s/epoch - 17ms/step
Epoch 62/75
4378/4378 - 74s - loss: 0.0800 - accuracy: 0.1996 - val_loss: 0.0801 - val_accuracy: 0.0715 - lr: 0.0010 - 74s/epoch - 17ms/step
Epoch 63/75
4378/4378 - 74s - loss: 0.0800 - accuracy: 0.2019 - val_loss: 0.0802 - val_accuracy: 0.0084 - lr: 0.0010 - 74s/epoch - 17ms/step
Epoch 64/75
4378/4378 - 74s - loss: 0.0800 - accuracy: 0.1970 - val_loss: 0.0797 - val_accuracy: 0.8187 - lr: 0.0010 - 74s/epoch - 17ms/step
Epoch 65/75
4378/4378 - 74s - loss: 0.0800 - accuracy: 0.1992 - val_loss: 0.0792 - val_accuracy: 0.8224 - lr: 0.0010 - 74s/epoch - 17ms/step
Epoch 66/75
4378/4378 - 74s - loss: 0.0800 - accuracy: 0.2014 - val_loss: 0.0805 - val_accuracy: 0.0256 - lr: 0.0010 - 74s/epoch - 17ms/step
Epoch 67/75
4378/4378 - 74s - loss: 0.0800 - accuracy: 0.2003 - val_loss: 0.0800 - val_accuracy: 0.0661 - lr: 0.0010 - 74s/epoch - 17ms/step
Epoch 68/75
4378/4378 - 74s - loss: 0.0800 - accuracy: 0.2008 - val_loss: 0.0798 - val_accuracy: 0.8187 - lr: 0.0010 - 74s/epoch - 17ms/step
Epoch 69/75
4378/4378 - 74s - loss: 0.0800 - accuracy: 0.1978 - val_loss: 0.0802 - val_accuracy: 0.0127 - lr: 0.0010 - 74s/epoch - 17ms/step
Epoch 70/75
4378/4378 - 74s - loss: 0.0800 - accuracy: 0.1987 - val_loss: 0.0801 - val_accuracy: 0.0105 - lr: 0.0010 - 74s/epoch - 17ms/step
Epoch 71/75
4378/4378 - 74s - loss: 0.0800 - accuracy: 0.2002 - val_loss: 0.0803 - val_accuracy: 0.0259 - lr: 0.0010 - 74s/epoch - 17ms/step
Epoch 72/75
4378/4378 - 74s - loss: 0.0800 - accuracy: 0.1966 - val_loss: 0.0795 - val_accuracy: 0.0743 - lr: 0.0010 - 74s/epoch - 17ms/step
Epoch 73/75
4378/4378 - 74s - loss: 0.0800 - accuracy: 0.1976 - val_loss: 0.0812 - val_accuracy: 0.0659 - lr: 0.0010 - 74s/epoch - 17ms/step
Epoch 74/75
4378/4378 - 74s - loss: 0.0800 - accuracy: 0.2001 - val_loss: 0.0805 - val_accuracy: 0.0786 - lr: 0.0010 - 74s/epoch - 17ms/step
Epoch 75/75
4378/4378 - 74s - loss: 0.0800 - accuracy: 0.1994 - val_loss: 0.0809 - val_accuracy: 0.0736 - lr: 0.0010 - 74s/epoch - 17ms/step
fitting with batch size: 100
Epoch 1/75
876/876 - 22s - loss: 0.0800 - accuracy: 0.1992 - val_loss: 0.0806 - val_accuracy: 0.0259 - lr: 0.0010 - 22s/epoch - 25ms/step
Epoch 2/75
876/876 - 18s - loss: 0.0800 - accuracy: 0.1992 - val_loss: 0.0807 - val_accuracy: 0.0741 - lr: 0.0010 - 18s/epoch - 21ms/step
Epoch 3/75
876/876 - 18s - loss: 0.0800 - accuracy: 0.1975 - val_loss: 0.0806 - val_accuracy: 0.0655 - lr: 0.0010 - 18s/epoch - 21ms/step
Epoch 4/75
876/876 - 18s - loss: 0.0800 - accuracy: 0.2009 - val_loss: 0.0805 - val_accuracy: 0.0736 - lr: 0.0010 - 18s/epoch - 21ms/step
Epoch 5/75
876/876 - 18s - loss: 0.0800 - accuracy: 0.1997 - val_loss: 0.0804 - val_accuracy: 0.0738 - lr: 0.0010 - 18s/epoch - 21ms/step
Epoch 6/75
876/876 - 18s - loss: 0.0800 - accuracy: 0.1984 - val_loss: 0.0803 - val_accuracy: 0.0253 - lr: 0.0010 - 18s/epoch - 21ms/step
Epoch 7/75
876/876 - 18s - loss: 0.0800 - accuracy: 0.1988 - val_loss: 0.0796 - val_accuracy: 0.8217 - lr: 0.0010 - 18s/epoch - 21ms/step
Epoch 8/75
876/876 - 18s - loss: 0.0800 - accuracy: 0.1981 - val_loss: 0.0809 - val_accuracy: 0.0666 - lr: 0.0010 - 18s/epoch - 21ms/step
Epoch 9/75
876/876 - 18s - loss: 0.0800 - accuracy: 0.1982 - val_loss: 0.0801 - val_accuracy: 0.0102 - lr: 0.0010 - 18s/epoch - 21ms/step
Epoch 10/75
876/876 - 18s - loss: 0.0800 - accuracy: 0.1983 - val_loss: 0.0798 - val_accuracy: 0.0771 - lr: 0.0010 - 18s/epoch - 21ms/step
Epoch 11/75
876/876 - 18s - loss: 0.0800 - accuracy: 0.2005 - val_loss: 0.0804 - val_accuracy: 0.0660 - lr: 0.0010 - 18s/epoch - 21ms/step
Epoch 12/75
876/876 - 18s - loss: 0.0800 - accuracy: 0.1988 - val_loss: 0.0803 - val_accuracy: 0.0708 - lr: 0.0010 - 18s/epoch - 21ms/step
Epoch 13/75
876/876 - 18s - loss: 0.0800 - accuracy: 0.1998 - val_loss: 0.0806 - val_accuracy: 0.0262 - lr: 0.0010 - 18s/epoch - 21ms/step
Epoch 14/75
876/876 - 18s - loss: 0.0800 - accuracy: 0.1988 - val_loss: 0.0804 - val_accuracy: 0.0303 - lr: 0.0010 - 18s/epoch - 21ms/step
Epoch 15/75
876/876 - 18s - loss: 0.0800 - accuracy: 0.1986 - val_loss: 0.0798 - val_accuracy: 0.0735 - lr: 0.0010 - 18s/epoch - 21ms/step
Epoch 16/75
876/876 - 18s - loss: 0.0800 - accuracy: 0.1972 - val_loss: 0.0804 - val_accuracy: 0.0081 - lr: 0.0010 - 18s/epoch - 21ms/step
Epoch 17/75
876/876 - 18s - loss: 0.0800 - accuracy: 0.1971 - val_loss: 0.0800 - val_accuracy: 0.8195 - lr: 0.0010 - 18s/epoch - 21ms/step
Epoch 18/75
876/876 - 18s - loss: 0.0800 - accuracy: 0.1990 - val_loss: 0.0805 - val_accuracy: 0.0305 - lr: 0.0010 - 18s/epoch - 21ms/step
Epoch 19/75
876/876 - 18s - loss: 0.0800 - accuracy: 0.1991 - val_loss: 0.0804 - val_accuracy: 0.0736 - lr: 0.0010 - 18s/epoch - 21ms/step
Epoch 20/75
876/876 - 18s - loss: 0.0800 - accuracy: 0.1985 - val_loss: 0.0808 - val_accuracy: 0.0740 - lr: 0.0010 - 18s/epoch - 21ms/step
Epoch 21/75
876/876 - 18s - loss: 0.0800 - accuracy: 0.1991 - val_loss: 0.0805 - val_accuracy: 0.0087 - lr: 0.0010 - 18s/epoch - 21ms/step
Epoch 22/75
876/876 - 18s - loss: 0.0800 - accuracy: 0.2011 - val_loss: 0.0799 - val_accuracy: 0.8193 - lr: 0.0010 - 18s/epoch - 21ms/step
Epoch 23/75
876/876 - 18s - loss: 0.0800 - accuracy: 0.1986 - val_loss: 0.0800 - val_accuracy: 0.0735 - lr: 0.0010 - 18s/epoch - 21ms/step
Epoch 24/75
876/876 - 18s - loss: 0.0800 - accuracy: 0.2002 - val_loss: 0.0804 - val_accuracy: 0.0079 - lr: 0.0010 - 18s/epoch - 21ms/step
Epoch 25/75
876/876 - 18s - loss: 0.0800 - accuracy: 0.2005 - val_loss: 0.0801 - val_accuracy: 0.8192 - lr: 0.0010 - 18s/epoch - 21ms/step
Epoch 26/75
876/876 - 18s - loss: 0.0800 - accuracy: 0.1983 - val_loss: 0.0807 - val_accuracy: 0.0708 - lr: 0.0010 - 18s/epoch - 21ms/step
Epoch 27/75
876/876 - 18s - loss: 0.0800 - accuracy: 0.1999 - val_loss: 0.0796 - val_accuracy: 0.8240 - lr: 0.0010 - 18s/epoch - 21ms/step
Epoch 28/75
876/876 - 18s - loss: 0.0800 - accuracy: 0.2006 - val_loss: 0.0801 - val_accuracy: 0.8240 - lr: 0.0010 - 18s/epoch - 21ms/step
Epoch 29/75
876/876 - 18s - loss: 0.0800 - accuracy: 0.1987 - val_loss: 0.0804 - val_accuracy: 0.0660 - lr: 0.0010 - 18s/epoch - 21ms/step
Epoch 30/75
876/876 - 18s - loss: 0.0800 - accuracy: 0.1988 - val_loss: 0.0804 - val_accuracy: 0.0751 - lr: 0.0010 - 18s/epoch - 21ms/step
Epoch 31/75
876/876 - 18s - loss: 0.0800 - accuracy: 0.1994 - val_loss: 0.0805 - val_accuracy: 0.0255 - lr: 0.0010 - 18s/epoch - 21ms/step
Epoch 32/75
876/876 - 18s - loss: 0.0800 - accuracy: 0.2002 - val_loss: 0.0803 - val_accuracy: 0.0079 - lr: 0.0010 - 18s/epoch - 21ms/step
Epoch 33/75
876/876 - 18s - loss: 0.0800 - accuracy: 0.1945 - val_loss: 0.0803 - val_accuracy: 0.0079 - lr: 0.0010 - 18s/epoch - 21ms/step
Epoch 34/75
876/876 - 18s - loss: 0.0800 - accuracy: 0.1999 - val_loss: 0.0810 - val_accuracy: 0.0658 - lr: 0.0010 - 18s/epoch - 21ms/step
Epoch 35/75
876/876 - 18s - loss: 0.0800 - accuracy: 0.2018 - val_loss: 0.0794 - val_accuracy: 0.8221 - lr: 0.0010 - 18s/epoch - 21ms/step
Epoch 36/75
876/876 - 18s - loss: 0.0800 - accuracy: 0.2001 - val_loss: 0.0807 - val_accuracy: 0.0074 - lr: 0.0010 - 18s/epoch - 21ms/step
Epoch 37/75
876/876 - 18s - loss: 0.0800 - accuracy: 0.1993 - val_loss: 0.0799 - val_accuracy: 0.8237 - lr: 0.0010 - 18s/epoch - 21ms/step
Epoch 38/75
876/876 - 18s - loss: 0.0800 - accuracy: 0.1993 - val_loss: 0.0801 - val_accuracy: 0.0743 - lr: 0.0010 - 18s/epoch - 21ms/step
Epoch 39/75
876/876 - 18s - loss: 0.0800 - accuracy: 0.2016 - val_loss: 0.0800 - val_accuracy: 0.0079 - lr: 0.0010 - 18s/epoch - 21ms/step
Epoch 40/75
876/876 - 18s - loss: 0.0800 - accuracy: 0.1983 - val_loss: 0.0801 - val_accuracy: 0.8236 - lr: 0.0010 - 18s/epoch - 21ms/step
Epoch 41/75
876/876 - 18s - loss: 0.0800 - accuracy: 0.1997 - val_loss: 0.0796 - val_accuracy: 0.8258 - lr: 0.0010 - 18s/epoch - 21ms/step
Epoch 42/75
876/876 - 18s - loss: 0.0800 - accuracy: 0.1993 - val_loss: 0.0804 - val_accuracy: 0.0681 - lr: 0.0010 - 18s/epoch - 21ms/step
Epoch 43/75
876/876 - 18s - loss: 0.0800 - accuracy: 0.1987 - val_loss: 0.0796 - val_accuracy: 0.8217 - lr: 0.0010 - 18s/epoch - 21ms/step
Epoch 44/75
876/876 - 18s - loss: 0.0800 - accuracy: 0.1990 - val_loss: 0.0802 - val_accuracy: 0.0682 - lr: 0.0010 - 18s/epoch - 21ms/step
Epoch 45/75
876/876 - 18s - loss: 0.0800 - accuracy: 0.1993 - val_loss: 0.0807 - val_accuracy: 0.0255 - lr: 0.0010 - 18s/epoch - 21ms/step
Epoch 46/75
876/876 - 18s - loss: 0.0800 - accuracy: 0.1996 - val_loss: 0.0807 - val_accuracy: 0.0743 - lr: 0.0010 - 18s/epoch - 21ms/step
Epoch 47/75
876/876 - 18s - loss: 0.0800 - accuracy: 0.1990 - val_loss: 0.0803 - val_accuracy: 0.0657 - lr: 0.0010 - 18s/epoch - 21ms/step
Epoch 48/75
876/876 - 18s - loss: 0.0800 - accuracy: 0.2014 - val_loss: 0.0804 - val_accuracy: 0.0100 - lr: 0.0010 - 18s/epoch - 21ms/step
Epoch 49/75
876/876 - 18s - loss: 0.0800 - accuracy: 0.2013 - val_loss: 0.0808 - val_accuracy: 0.0076 - lr: 0.0010 - 18s/epoch - 21ms/step
Epoch 50/75
876/876 - 18s - loss: 0.0800 - accuracy: 0.1995 - val_loss: 0.0802 - val_accuracy: 0.0740 - lr: 0.0010 - 18s/epoch - 21ms/step
Epoch 51/75
876/876 - 18s - loss: 0.0800 - accuracy: 0.1997 - val_loss: 0.0803 - val_accuracy: 0.0258 - lr: 0.0010 - 18s/epoch - 21ms/step
Epoch 52/75
876/876 - 18s - loss: 0.0800 - accuracy: 0.1996 - val_loss: 0.0798 - val_accuracy: 0.0695 - lr: 0.0010 - 18s/epoch - 21ms/step
Epoch 53/75
876/876 - 18s - loss: 0.0800 - accuracy: 0.1983 - val_loss: 0.0802 - val_accuracy: 0.0683 - lr: 0.0010 - 18s/epoch - 21ms/step
Epoch 54/75
876/876 - 18s - loss: 0.0800 - accuracy: 0.2004 - val_loss: 0.0806 - val_accuracy: 0.0075 - lr: 0.0010 - 18s/epoch - 21ms/step
Epoch 55/75
876/876 - 18s - loss: 0.0800 - accuracy: 0.1990 - val_loss: 0.0792 - val_accuracy: 0.8224 - lr: 0.0010 - 18s/epoch - 21ms/step
Epoch 56/75
876/876 - 18s - loss: 0.0800 - accuracy: 0.1991 - val_loss: 0.0806 - val_accuracy: 0.0099 - lr: 0.0010 - 18s/epoch - 21ms/step
Epoch 57/75
876/876 - 18s - loss: 0.0800 - accuracy: 0.1998 - val_loss: 0.0804 - val_accuracy: 0.0305 - lr: 0.0010 - 18s/epoch - 21ms/step
Epoch 58/75
876/876 - 18s - loss: 0.0800 - accuracy: 0.2003 - val_loss: 0.0807 - val_accuracy: 0.0261 - lr: 0.0010 - 18s/epoch - 21ms/step
Epoch 59/75
876/876 - 18s - loss: 0.0800 - accuracy: 0.1992 - val_loss: 0.0805 - val_accuracy: 0.0256 - lr: 0.0010 - 18s/epoch - 21ms/step
Epoch 60/75
876/876 - 18s - loss: 0.0800 - accuracy: 0.1981 - val_loss: 0.0805 - val_accuracy: 0.0706 - lr: 0.0010 - 18s/epoch - 21ms/step
Epoch 61/75
876/876 - 18s - loss: 0.0800 - accuracy: 0.1986 - val_loss: 0.0805 - val_accuracy: 0.0658 - lr: 0.0010 - 18s/epoch - 21ms/step
Epoch 62/75
876/876 - 18s - loss: 0.0800 - accuracy: 0.1982 - val_loss: 0.0804 - val_accuracy: 0.0305 - lr: 0.0010 - 18s/epoch - 21ms/step
Epoch 63/75
876/876 - 18s - loss: 0.0800 - accuracy: 0.1984 - val_loss: 0.0804 - val_accuracy: 0.0079 - lr: 0.0010 - 18s/epoch - 21ms/step
Epoch 64/75
876/876 - 18s - loss: 0.0800 - accuracy: 0.1996 - val_loss: 0.0803 - val_accuracy: 0.0735 - lr: 0.0010 - 18s/epoch - 21ms/step
Epoch 65/75
876/876 - 18s - loss: 0.0800 - accuracy: 0.1984 - val_loss: 0.0802 - val_accuracy: 0.0685 - lr: 0.0010 - 18s/epoch - 21ms/step
Epoch 66/75
876/876 - 18s - loss: 0.0800 - accuracy: 0.1993 - val_loss: 0.0809 - val_accuracy: 0.0735 - lr: 0.0010 - 18s/epoch - 21ms/step
Epoch 67/75
876/876 - 18s - loss: 0.0800 - accuracy: 0.1995 - val_loss: 0.0803 - val_accuracy: 0.0306 - lr: 0.0010 - 18s/epoch - 21ms/step
Epoch 68/75
876/876 - 18s - loss: 0.0800 - accuracy: 0.1991 - val_loss: 0.0801 - val_accuracy: 0.8189 - lr: 0.0010 - 18s/epoch - 21ms/step
Epoch 69/75
876/876 - 18s - loss: 0.0800 - accuracy: 0.1978 - val_loss: 0.0805 - val_accuracy: 0.0735 - lr: 0.0010 - 18s/epoch - 21ms/step
Epoch 70/75
876/876 - 18s - loss: 0.0800 - accuracy: 0.1986 - val_loss: 0.0805 - val_accuracy: 0.0738 - lr: 0.0010 - 18s/epoch - 21ms/step
Epoch 71/75
876/876 - 18s - loss: 0.0800 - accuracy: 0.2023 - val_loss: 0.0806 - val_accuracy: 0.0081 - lr: 0.0010 - 18s/epoch - 21ms/step
Epoch 72/75
876/876 - 18s - loss: 0.0800 - accuracy: 0.2004 - val_loss: 0.0804 - val_accuracy: 0.0257 - lr: 0.0010 - 18s/epoch - 21ms/step
Epoch 73/75
876/876 - 18s - loss: 0.0800 - accuracy: 0.2010 - val_loss: 0.0808 - val_accuracy: 0.0134 - lr: 0.0010 - 18s/epoch - 21ms/step
Epoch 74/75
876/876 - 18s - loss: 0.0800 - accuracy: 0.2001 - val_loss: 0.0797 - val_accuracy: 0.8215 - lr: 0.0010 - 18s/epoch - 21ms/step
Epoch 75/75
876/876 - 18s - loss: 0.0800 - accuracy: 0.1997 - val_loss: 0.0809 - val_accuracy: 0.0661 - lr: 0.0010 - 18s/epoch - 21ms/step
fitting with batch size: 500
Epoch 1/75
176/176 - 11s - loss: 0.0800 - accuracy: 0.2009 - val_loss: 0.0802 - val_accuracy: 0.8194 - lr: 0.0010 - 11s/epoch - 64ms/step
Epoch 2/75
176/176 - 9s - loss: 0.0800 - accuracy: 0.1978 - val_loss: 0.0803 - val_accuracy: 0.8239 - lr: 0.0010 - 9s/epoch - 50ms/step
Epoch 3/75
176/176 - 9s - loss: 0.0800 - accuracy: 0.1982 - val_loss: 0.0804 - val_accuracy: 0.0708 - lr: 0.0010 - 9s/epoch - 50ms/step
Epoch 4/75
176/176 - 9s - loss: 0.0800 - accuracy: 0.1979 - val_loss: 0.0803 - val_accuracy: 0.0743 - lr: 0.0010 - 9s/epoch - 50ms/step
Epoch 5/75
176/176 - 9s - loss: 0.0800 - accuracy: 0.1990 - val_loss: 0.0802 - val_accuracy: 0.0661 - lr: 0.0010 - 9s/epoch - 50ms/step
Epoch 6/75
176/176 - 9s - loss: 0.0800 - accuracy: 0.1986 - val_loss: 0.0803 - val_accuracy: 0.0665 - lr: 0.0010 - 9s/epoch - 50ms/step
Epoch 7/75
176/176 - 9s - loss: 0.0800 - accuracy: 0.2006 - val_loss: 0.0805 - val_accuracy: 0.0255 - lr: 0.0010 - 9s/epoch - 50ms/step
Epoch 8/75
176/176 - 9s - loss: 0.0800 - accuracy: 0.1981 - val_loss: 0.0805 - val_accuracy: 0.0076 - lr: 0.0010 - 9s/epoch - 50ms/step
Epoch 9/75
176/176 - 9s - loss: 0.0800 - accuracy: 0.1993 - val_loss: 0.0802 - val_accuracy: 0.8240 - lr: 0.0010 - 9s/epoch - 50ms/step
Epoch 10/75
176/176 - 9s - loss: 0.0800 - accuracy: 0.1980 - val_loss: 0.0802 - val_accuracy: 0.0259 - lr: 0.0010 - 9s/epoch - 50ms/step
Epoch 11/75
176/176 - 9s - loss: 0.0800 - accuracy: 0.2000 - val_loss: 0.0802 - val_accuracy: 0.0306 - lr: 0.0010 - 9s/epoch - 50ms/step
Epoch 12/75
176/176 - 9s - loss: 0.0800 - accuracy: 0.1989 - val_loss: 0.0802 - val_accuracy: 0.8192 - lr: 0.0010 - 9s/epoch - 50ms/step
Epoch 13/75
176/176 - 9s - loss: 0.0800 - accuracy: 0.1992 - val_loss: 0.0802 - val_accuracy: 0.8240 - lr: 0.0010 - 9s/epoch - 50ms/step
Epoch 14/75
176/176 - 9s - loss: 0.0800 - accuracy: 0.1982 - val_loss: 0.0803 - val_accuracy: 0.0656 - lr: 0.0010 - 9s/epoch - 50ms/step
Epoch 15/75
176/176 - 9s - loss: 0.0800 - accuracy: 0.1977 - val_loss: 0.0802 - val_accuracy: 0.8192 - lr: 0.0010 - 9s/epoch - 50ms/step
Epoch 16/75
176/176 - 9s - loss: 0.0800 - accuracy: 0.1997 - val_loss: 0.0802 - val_accuracy: 0.0257 - lr: 0.0010 - 9s/epoch - 51ms/step
Epoch 17/75
176/176 - 9s - loss: 0.0800 - accuracy: 0.1995 - val_loss: 0.0804 - val_accuracy: 0.0078 - lr: 0.0010 - 9s/epoch - 50ms/step
Epoch 18/75
176/176 - 9s - loss: 0.0800 - accuracy: 0.1988 - val_loss: 0.0798 - val_accuracy: 0.8222 - lr: 0.0010 - 9s/epoch - 50ms/step
Epoch 19/75
176/176 - 9s - loss: 0.0800 - accuracy: 0.1970 - val_loss: 0.0797 - val_accuracy: 0.8219 - lr: 0.0010 - 9s/epoch - 50ms/step
Epoch 20/75
176/176 - 9s - loss: 0.0800 - accuracy: 0.1987 - val_loss: 0.0804 - val_accuracy: 0.0657 - lr: 0.0010 - 9s/epoch - 50ms/step
Epoch 21/75
176/176 - 9s - loss: 0.0800 - accuracy: 0.1974 - val_loss: 0.0802 - val_accuracy: 0.0080 - lr: 0.0010 - 9s/epoch - 50ms/step
Epoch 22/75
176/176 - 9s - loss: 0.0800 - accuracy: 0.1994 - val_loss: 0.0797 - val_accuracy: 0.0772 - lr: 0.0010 - 9s/epoch - 50ms/step
Epoch 23/75
176/176 - 9s - loss: 0.0800 - accuracy: 0.1985 - val_loss: 0.0806 - val_accuracy: 0.0735 - lr: 0.0010 - 9s/epoch - 50ms/step
Epoch 24/75
176/176 - 9s - loss: 0.0800 - accuracy: 0.1994 - val_loss: 0.0806 - val_accuracy: 0.0738 - lr: 0.0010 - 9s/epoch - 50ms/step
Epoch 25/75
176/176 - 9s - loss: 0.0800 - accuracy: 0.1970 - val_loss: 0.0801 - val_accuracy: 0.0097 - lr: 0.0010 - 9s/epoch - 51ms/step
Epoch 26/75
176/176 - 9s - loss: 0.0800 - accuracy: 0.1966 - val_loss: 0.0803 - val_accuracy: 0.8240 - lr: 0.0010 - 9s/epoch - 50ms/step
Epoch 27/75
176/176 - 9s - loss: 0.0800 - accuracy: 0.1982 - val_loss: 0.0801 - val_accuracy: 0.8187 - lr: 0.0010 - 9s/epoch - 50ms/step
Epoch 28/75
176/176 - 9s - loss: 0.0800 - accuracy: 0.1996 - val_loss: 0.0803 - val_accuracy: 0.8187 - lr: 0.0010 - 9s/epoch - 50ms/step
Epoch 29/75
176/176 - 9s - loss: 0.0800 - accuracy: 0.1985 - val_loss: 0.0804 - val_accuracy: 0.0782 - lr: 0.0010 - 9s/epoch - 51ms/step
Epoch 30/75
176/176 - 9s - loss: 0.0800 - accuracy: 0.1997 - val_loss: 0.0802 - val_accuracy: 0.8238 - lr: 0.0010 - 9s/epoch - 50ms/step
Epoch 31/75
176/176 - 9s - loss: 0.0800 - accuracy: 0.1971 - val_loss: 0.0804 - val_accuracy: 0.0736 - lr: 0.0010 - 9s/epoch - 50ms/step
Epoch 32/75
176/176 - 9s - loss: 0.0800 - accuracy: 0.1987 - val_loss: 0.0809 - val_accuracy: 0.0306 - lr: 0.0010 - 9s/epoch - 50ms/step
Epoch 33/75
176/176 - 9s - loss: 0.0800 - accuracy: 0.1994 - val_loss: 0.0805 - val_accuracy: 0.0734 - lr: 0.0010 - 9s/epoch - 50ms/step
Epoch 34/75
176/176 - 9s - loss: 0.0800 - accuracy: 0.1985 - val_loss: 0.0798 - val_accuracy: 0.8220 - lr: 0.0010 - 9s/epoch - 50ms/step
Epoch 35/75
176/176 - 9s - loss: 0.0800 - accuracy: 0.2008 - val_loss: 0.0799 - val_accuracy: 0.0771 - lr: 0.0010 - 9s/epoch - 51ms/step
Epoch 36/75
176/176 - 9s - loss: 0.0800 - accuracy: 0.1964 - val_loss: 0.0804 - val_accuracy: 0.0788 - lr: 0.0010 - 9s/epoch - 51ms/step
Epoch 37/75
176/176 - 9s - loss: 0.0800 - accuracy: 0.1991 - val_loss: 0.0806 - val_accuracy: 0.0658 - lr: 0.0010 - 9s/epoch - 50ms/step
Epoch 38/75
176/176 - 9s - loss: 0.0800 - accuracy: 0.1981 - val_loss: 0.0803 - val_accuracy: 0.0253 - lr: 0.0010 - 9s/epoch - 51ms/step
Epoch 39/75
176/176 - 9s - loss: 0.0800 - accuracy: 0.1981 - val_loss: 0.0801 - val_accuracy: 0.8202 - lr: 0.0010 - 9s/epoch - 50ms/step
Epoch 40/75
176/176 - 9s - loss: 0.0800 - accuracy: 0.1977 - val_loss: 0.0801 - val_accuracy: 0.8202 - lr: 0.0010 - 9s/epoch - 50ms/step
Epoch 41/75
176/176 - 9s - loss: 0.0800 - accuracy: 0.1996 - val_loss: 0.0803 - val_accuracy: 0.0783 - lr: 0.0010 - 9s/epoch - 50ms/step
Epoch 42/75
176/176 - 9s - loss: 0.0800 - accuracy: 0.1992 - val_loss: 0.0806 - val_accuracy: 0.0739 - lr: 0.0010 - 9s/epoch - 51ms/step
Epoch 43/75
176/176 - 9s - loss: 0.0800 - accuracy: 0.1983 - val_loss: 0.0803 - val_accuracy: 0.0735 - lr: 0.0010 - 9s/epoch - 50ms/step
Epoch 44/75
176/176 - 9s - loss: 0.0800 - accuracy: 0.1995 - val_loss: 0.0803 - val_accuracy: 0.0736 - lr: 0.0010 - 9s/epoch - 50ms/step
Epoch 45/75
176/176 - 9s - loss: 0.0800 - accuracy: 0.1998 - val_loss: 0.0805 - val_accuracy: 0.0658 - lr: 0.0010 - 9s/epoch - 50ms/step
Epoch 46/75
176/176 - 9s - loss: 0.0800 - accuracy: 0.1986 - val_loss: 0.0803 - val_accuracy: 0.8188 - lr: 0.0010 - 9s/epoch - 50ms/step
Epoch 47/75
176/176 - 9s - loss: 0.0800 - accuracy: 0.2009 - val_loss: 0.0805 - val_accuracy: 0.0259 - lr: 0.0010 - 9s/epoch - 50ms/step
Epoch 48/75
176/176 - 9s - loss: 0.0800 - accuracy: 0.1988 - val_loss: 0.0799 - val_accuracy: 0.0768 - lr: 0.0010 - 9s/epoch - 51ms/step
Epoch 49/75
176/176 - 9s - loss: 0.0800 - accuracy: 0.2001 - val_loss: 0.0802 - val_accuracy: 0.0661 - lr: 0.0010 - 9s/epoch - 50ms/step
Epoch 50/75
176/176 - 9s - loss: 0.0800 - accuracy: 0.1985 - val_loss: 0.0804 - val_accuracy: 0.0074 - lr: 0.0010 - 9s/epoch - 50ms/step
Epoch 51/75
176/176 - 9s - loss: 0.0800 - accuracy: 0.1989 - val_loss: 0.0804 - val_accuracy: 0.0254 - lr: 0.0010 - 9s/epoch - 51ms/step
Epoch 52/75
176/176 - 9s - loss: 0.0800 - accuracy: 0.1987 - val_loss: 0.0804 - val_accuracy: 0.0735 - lr: 0.0010 - 9s/epoch - 50ms/step
Epoch 53/75
176/176 - 9s - loss: 0.0800 - accuracy: 0.1989 - val_loss: 0.0805 - val_accuracy: 0.0657 - lr: 0.0010 - 9s/epoch - 50ms/step
Epoch 54/75
176/176 - 9s - loss: 0.0800 - accuracy: 0.1981 - val_loss: 0.0806 - val_accuracy: 0.0128 - lr: 0.0010 - 9s/epoch - 51ms/step
Epoch 55/75
176/176 - 9s - loss: 0.0800 - accuracy: 0.1992 - val_loss: 0.0803 - val_accuracy: 0.8188 - lr: 0.0010 - 9s/epoch - 50ms/step
Epoch 56/75
176/176 - 9s - loss: 0.0800 - accuracy: 0.1989 - val_loss: 0.0802 - val_accuracy: 0.8238 - lr: 0.0010 - 9s/epoch - 50ms/step
Epoch 57/75
176/176 - 9s - loss: 0.0800 - accuracy: 0.1990 - val_loss: 0.0798 - val_accuracy: 0.0773 - lr: 0.0010 - 9s/epoch - 50ms/step
Epoch 58/75
176/176 - 9s - loss: 0.0800 - accuracy: 0.1991 - val_loss: 0.0803 - val_accuracy: 0.0082 - lr: 0.0010 - 9s/epoch - 50ms/step
Epoch 59/75
176/176 - 9s - loss: 0.0800 - accuracy: 0.1991 - val_loss: 0.0806 - val_accuracy: 0.0793 - lr: 0.0010 - 9s/epoch - 50ms/step
Epoch 60/75
176/176 - 9s - loss: 0.0800 - accuracy: 0.2000 - val_loss: 0.0804 - val_accuracy: 0.0259 - lr: 0.0010 - 9s/epoch - 50ms/step
Epoch 61/75
176/176 - 9s - loss: 0.0800 - accuracy: 0.1979 - val_loss: 0.0803 - val_accuracy: 0.0280 - lr: 0.0010 - 9s/epoch - 50ms/step
Epoch 62/75
176/176 - 9s - loss: 0.0800 - accuracy: 0.1978 - val_loss: 0.0795 - val_accuracy: 0.8225 - lr: 0.0010 - 9s/epoch - 51ms/step
Epoch 63/75
176/176 - 9s - loss: 0.0800 - accuracy: 0.1967 - val_loss: 0.0804 - val_accuracy: 0.0655 - lr: 0.0010 - 9s/epoch - 50ms/step
Epoch 64/75
176/176 - 9s - loss: 0.0800 - accuracy: 0.1972 - val_loss: 0.0805 - val_accuracy: 0.0080 - lr: 0.0010 - 9s/epoch - 50ms/step
Epoch 65/75
176/176 - 9s - loss: 0.0800 - accuracy: 0.1975 - val_loss: 0.0802 - val_accuracy: 0.0738 - lr: 0.0010 - 9s/epoch - 50ms/step
Epoch 66/75
176/176 - 9s - loss: 0.0800 - accuracy: 0.1992 - val_loss: 0.0804 - val_accuracy: 0.0659 - lr: 0.0010 - 9s/epoch - 50ms/step
Epoch 67/75
176/176 - 9s - loss: 0.0800 - accuracy: 0.1978 - val_loss: 0.0804 - val_accuracy: 0.0656 - lr: 0.0010 - 9s/epoch - 50ms/step
Epoch 68/75
176/176 - 9s - loss: 0.0800 - accuracy: 0.1982 - val_loss: 0.0803 - val_accuracy: 0.0256 - lr: 0.0010 - 9s/epoch - 51ms/step
Epoch 69/75
176/176 - 9s - loss: 0.0800 - accuracy: 0.2007 - val_loss: 0.0804 - val_accuracy: 0.0657 - lr: 0.0010 - 9s/epoch - 50ms/step
Epoch 70/75
176/176 - 9s - loss: 0.0800 - accuracy: 0.1973 - val_loss: 0.0805 - val_accuracy: 0.0710 - lr: 0.0010 - 9s/epoch - 50ms/step
Epoch 71/75
176/176 - 9s - loss: 0.0800 - accuracy: 0.1976 - val_loss: 0.0801 - val_accuracy: 0.0100 - lr: 0.0010 - 9s/epoch - 50ms/step
Epoch 72/75
176/176 - 9s - loss: 0.0800 - accuracy: 0.2001 - val_loss: 0.0802 - val_accuracy: 0.0255 - lr: 0.0010 - 9s/epoch - 50ms/step
Epoch 73/75
176/176 - 9s - loss: 0.0800 - accuracy: 0.1995 - val_loss: 0.0808 - val_accuracy: 0.0127 - lr: 0.0010 - 9s/epoch - 51ms/step
Epoch 74/75
176/176 - 9s - loss: 0.0800 - accuracy: 0.1975 - val_loss: 0.0808 - val_accuracy: 0.0082 - lr: 0.0010 - 9s/epoch - 50ms/step
Epoch 75/75
176/176 - 9s - loss: 0.0800 - accuracy: 0.1980 - val_loss: 0.0804 - val_accuracy: 0.0096 - lr: 0.0010 - 9s/epoch - 50ms/step
fitting with batch size: 1500
Epoch 1/75
59/59 - 10s - loss: 0.0800 - accuracy: 0.1993 - val_loss: 0.0800 - val_accuracy: 0.0106 - lr: 0.0010 - 10s/epoch - 174ms/step
Epoch 2/75
59/59 - 8s - loss: 0.0800 - accuracy: 0.1970 - val_loss: 0.0799 - val_accuracy: 0.0285 - lr: 0.0010 - 8s/epoch - 132ms/step
Epoch 3/75
59/59 - 8s - loss: 0.0800 - accuracy: 0.1986 - val_loss: 0.0799 - val_accuracy: 0.0106 - lr: 0.0010 - 8s/epoch - 132ms/step
Epoch 4/75
59/59 - 8s - loss: 0.0800 - accuracy: 0.1998 - val_loss: 0.0800 - val_accuracy: 0.0285 - lr: 0.0010 - 8s/epoch - 132ms/step
Epoch 5/75
59/59 - 8s - loss: 0.0800 - accuracy: 0.1989 - val_loss: 0.0799 - val_accuracy: 0.0107 - lr: 0.0010 - 8s/epoch - 132ms/step
Epoch 6/75
59/59 - 8s - loss: 0.0800 - accuracy: 0.1996 - val_loss: 0.0799 - val_accuracy: 0.0106 - lr: 0.0010 - 8s/epoch - 132ms/step
Epoch 7/75
59/59 - 8s - loss: 0.0800 - accuracy: 0.1980 - val_loss: 0.0799 - val_accuracy: 0.0285 - lr: 0.0010 - 8s/epoch - 132ms/step
Epoch 8/75
59/59 - 8s - loss: 0.0800 - accuracy: 0.1973 - val_loss: 0.0799 - val_accuracy: 0.0285 - lr: 0.0010 - 8s/epoch - 132ms/step
Epoch 9/75
59/59 - 8s - loss: 0.0800 - accuracy: 0.1983 - val_loss: 0.0798 - val_accuracy: 0.0285 - lr: 0.0010 - 8s/epoch - 132ms/step
Epoch 10/75
59/59 - 8s - loss: 0.0800 - accuracy: 0.1980 - val_loss: 0.0798 - val_accuracy: 0.0688 - lr: 0.0010 - 8s/epoch - 132ms/step
Epoch 11/75
59/59 - 8s - loss: 0.0800 - accuracy: 0.2000 - val_loss: 0.0799 - val_accuracy: 0.0688 - lr: 0.0010 - 8s/epoch - 132ms/step
Epoch 12/75
59/59 - 8s - loss: 0.0800 - accuracy: 0.1963 - val_loss: 0.0801 - val_accuracy: 0.8195 - lr: 0.0010 - 8s/epoch - 132ms/step
Epoch 13/75
59/59 - 8s - loss: 0.0800 - accuracy: 0.1992 - val_loss: 0.0802 - val_accuracy: 0.0743 - lr: 0.0010 - 8s/epoch - 132ms/step
Epoch 14/75
59/59 - 8s - loss: 0.0800 - accuracy: 0.1977 - val_loss: 0.0799 - val_accuracy: 0.0767 - lr: 0.0010 - 8s/epoch - 132ms/step
Epoch 15/75
59/59 - 8s - loss: 0.0800 - accuracy: 0.1985 - val_loss: 0.0799 - val_accuracy: 0.0767 - lr: 0.0010 - 8s/epoch - 132ms/step
Epoch 16/75
59/59 - 8s - loss: 0.0800 - accuracy: 0.1992 - val_loss: 0.0799 - val_accuracy: 0.8215 - lr: 0.0010 - 8s/epoch - 132ms/step
Epoch 17/75
59/59 - 8s - loss: 0.0800 - accuracy: 0.1979 - val_loss: 0.0800 - val_accuracy: 0.0687 - lr: 0.0010 - 8s/epoch - 132ms/step
Epoch 18/75
59/59 - 8s - loss: 0.0800 - accuracy: 0.1998 - val_loss: 0.0800 - val_accuracy: 0.0078 - lr: 0.0010 - 8s/epoch - 132ms/step
Epoch 19/75
59/59 - 8s - loss: 0.0800 - accuracy: 0.1980 - val_loss: 0.0801 - val_accuracy: 0.0077 - lr: 0.0010 - 8s/epoch - 132ms/step
Epoch 20/75
59/59 - 8s - loss: 0.0800 - accuracy: 0.1989 - val_loss: 0.0800 - val_accuracy: 0.0077 - lr: 0.0010 - 8s/epoch - 132ms/step
Epoch 21/75
59/59 - 8s - loss: 0.0800 - accuracy: 0.1987 - val_loss: 0.0800 - val_accuracy: 0.0681 - lr: 0.0010 - 8s/epoch - 132ms/step
Epoch 22/75
59/59 - 8s - loss: 0.0800 - accuracy: 0.1998 - val_loss: 0.0799 - val_accuracy: 0.0764 - lr: 0.0010 - 8s/epoch - 132ms/step
Epoch 23/75
59/59 - 8s - loss: 0.0800 - accuracy: 0.1963 - val_loss: 0.0801 - val_accuracy: 0.0741 - lr: 0.0010 - 8s/epoch - 132ms/step
Epoch 24/75
59/59 - 8s - loss: 0.0800 - accuracy: 0.1977 - val_loss: 0.0800 - val_accuracy: 0.0765 - lr: 0.0010 - 8s/epoch - 132ms/step
Epoch 25/75
59/59 - 8s - loss: 0.0800 - accuracy: 0.1984 - val_loss: 0.0800 - val_accuracy: 0.0740 - lr: 0.0010 - 8s/epoch - 132ms/step
Epoch 26/75
59/59 - 8s - loss: 0.0800 - accuracy: 0.1959 - val_loss: 0.0801 - val_accuracy: 0.0080 - lr: 0.0010 - 8s/epoch - 132ms/step
Epoch 27/75
59/59 - 8s - loss: 0.0800 - accuracy: 0.1973 - val_loss: 0.0800 - val_accuracy: 0.8241 - lr: 0.0010 - 8s/epoch - 132ms/step
Epoch 28/75
59/59 - 8s - loss: 0.0800 - accuracy: 0.1991 - val_loss: 0.0800 - val_accuracy: 0.0739 - lr: 0.0010 - 8s/epoch - 132ms/step
Epoch 29/75
59/59 - 8s - loss: 0.0800 - accuracy: 0.1981 - val_loss: 0.0800 - val_accuracy: 0.0258 - lr: 0.0010 - 8s/epoch - 132ms/step
Epoch 30/75
59/59 - 8s - loss: 0.0800 - accuracy: 0.1996 - val_loss: 0.0800 - val_accuracy: 0.0740 - lr: 0.0010 - 8s/epoch - 132ms/step
Epoch 31/75
59/59 - 8s - loss: 0.0800 - accuracy: 0.1992 - val_loss: 0.0800 - val_accuracy: 0.0663 - lr: 0.0010 - 8s/epoch - 132ms/step
Epoch 32/75
59/59 - 8s - loss: 0.0800 - accuracy: 0.1987 - val_loss: 0.0800 - val_accuracy: 0.0662 - lr: 0.0010 - 8s/epoch - 132ms/step
Epoch 33/75
59/59 - 8s - loss: 0.0800 - accuracy: 0.1983 - val_loss: 0.0799 - val_accuracy: 0.8240 - lr: 0.0010 - 8s/epoch - 132ms/step
Epoch 34/75
59/59 - 8s - loss: 0.0800 - accuracy: 0.1978 - val_loss: 0.0799 - val_accuracy: 0.0770 - lr: 0.0010 - 8s/epoch - 133ms/step
Epoch 35/75
59/59 - 8s - loss: 0.0800 - accuracy: 0.1987 - val_loss: 0.0802 - val_accuracy: 0.0734 - lr: 0.0010 - 8s/epoch - 133ms/step
Epoch 36/75
59/59 - 8s - loss: 0.0800 - accuracy: 0.1992 - val_loss: 0.0803 - val_accuracy: 0.0255 - lr: 0.0010 - 8s/epoch - 132ms/step
Epoch 37/75
59/59 - 8s - loss: 0.0800 - accuracy: 0.1992 - val_loss: 0.0798 - val_accuracy: 0.0109 - lr: 0.0010 - 8s/epoch - 132ms/step
Epoch 38/75
59/59 - 8s - loss: 0.0800 - accuracy: 0.1989 - val_loss: 0.0800 - val_accuracy: 0.0107 - lr: 0.0010 - 8s/epoch - 132ms/step
Epoch 39/75
59/59 - 8s - loss: 0.0800 - accuracy: 0.1993 - val_loss: 0.0803 - val_accuracy: 0.8192 - lr: 0.0010 - 8s/epoch - 133ms/step
Epoch 40/75
59/59 - 8s - loss: 0.0800 - accuracy: 0.1979 - val_loss: 0.0802 - val_accuracy: 0.0740 - lr: 0.0010 - 8s/epoch - 132ms/step
Epoch 41/75
59/59 - 8s - loss: 0.0800 - accuracy: 0.2000 - val_loss: 0.0803 - val_accuracy: 0.0742 - lr: 0.0010 - 8s/epoch - 132ms/step
Epoch 42/75
59/59 - 8s - loss: 0.0800 - accuracy: 0.1990 - val_loss: 0.0799 - val_accuracy: 0.0692 - lr: 0.0010 - 8s/epoch - 132ms/step
Epoch 43/75
59/59 - 8s - loss: 0.0800 - accuracy: 0.1975 - val_loss: 0.0802 - val_accuracy: 0.0260 - lr: 0.0010 - 8s/epoch - 132ms/step
Epoch 44/75
59/59 - 8s - loss: 0.0800 - accuracy: 0.1969 - val_loss: 0.0803 - val_accuracy: 0.8187 - lr: 0.0010 - 8s/epoch - 132ms/step
Epoch 45/75
59/59 - 8s - loss: 0.0800 - accuracy: 0.1983 - val_loss: 0.0802 - val_accuracy: 0.0792 - lr: 0.0010 - 8s/epoch - 132ms/step
Epoch 46/75
59/59 - 8s - loss: 0.0800 - accuracy: 0.1983 - val_loss: 0.0803 - val_accuracy: 0.0074 - lr: 0.0010 - 8s/epoch - 132ms/step
Epoch 47/75
59/59 - 8s - loss: 0.0800 - accuracy: 0.1976 - val_loss: 0.0797 - val_accuracy: 0.8218 - lr: 0.0010 - 8s/epoch - 132ms/step
Epoch 48/75
59/59 - 8s - loss: 0.0800 - accuracy: 0.1982 - val_loss: 0.0801 - val_accuracy: 0.0692 - lr: 0.0010 - 8s/epoch - 132ms/step
Epoch 49/75
59/59 - 8s - loss: 0.0800 - accuracy: 0.1978 - val_loss: 0.0803 - val_accuracy: 0.0739 - lr: 0.0010 - 8s/epoch - 132ms/step
Epoch 50/75
59/59 - 8s - loss: 0.0800 - accuracy: 0.1998 - val_loss: 0.0801 - val_accuracy: 0.8192 - lr: 0.0010 - 8s/epoch - 132ms/step
Epoch 51/75
59/59 - 8s - loss: 0.0800 - accuracy: 0.1997 - val_loss: 0.0803 - val_accuracy: 0.0076 - lr: 0.0010 - 8s/epoch - 132ms/step
Epoch 52/75
59/59 - 8s - loss: 0.0800 - accuracy: 0.1992 - val_loss: 0.0803 - val_accuracy: 0.0738 - lr: 0.0010 - 8s/epoch - 132ms/step
Epoch 53/75
59/59 - 8s - loss: 0.0800 - accuracy: 0.1989 - val_loss: 0.0803 - val_accuracy: 0.0659 - lr: 0.0010 - 8s/epoch - 132ms/step
Epoch 54/75
59/59 - 8s - loss: 0.0800 - accuracy: 0.1984 - val_loss: 0.0803 - val_accuracy: 0.8236 - lr: 0.0010 - 8s/epoch - 132ms/step
Epoch 55/75
59/59 - 8s - loss: 0.0800 - accuracy: 0.1995 - val_loss: 0.0803 - val_accuracy: 0.8193 - lr: 0.0010 - 8s/epoch - 132ms/step
Epoch 56/75
59/59 - 8s - loss: 0.0800 - accuracy: 0.1977 - val_loss: 0.0804 - val_accuracy: 0.0659 - lr: 0.0010 - 8s/epoch - 132ms/step
Epoch 57/75
59/59 - 8s - loss: 0.0800 - accuracy: 0.1984 - val_loss: 0.0804 - val_accuracy: 0.0084 - lr: 0.0010 - 8s/epoch - 132ms/step
Epoch 58/75
59/59 - 8s - loss: 0.0800 - accuracy: 0.1977 - val_loss: 0.0802 - val_accuracy: 0.0735 - lr: 0.0010 - 8s/epoch - 132ms/step
Epoch 59/75
59/59 - 8s - loss: 0.0800 - accuracy: 0.1990 - val_loss: 0.0802 - val_accuracy: 0.0738 - lr: 0.0010 - 8s/epoch - 132ms/step
Epoch 60/75
59/59 - 8s - loss: 0.0800 - accuracy: 0.1983 - val_loss: 0.0803 - val_accuracy: 0.0745 - lr: 0.0010 - 8s/epoch - 132ms/step
Epoch 61/75
59/59 - 8s - loss: 0.0800 - accuracy: 0.1998 - val_loss: 0.0804 - val_accuracy: 0.0708 - lr: 0.0010 - 8s/epoch - 133ms/step
Epoch 62/75
59/59 - 8s - loss: 0.0800 - accuracy: 0.1970 - val_loss: 0.0800 - val_accuracy: 0.8212 - lr: 0.0010 - 8s/epoch - 132ms/step
Epoch 63/75
59/59 - 8s - loss: 0.0800 - accuracy: 0.1991 - val_loss: 0.0800 - val_accuracy: 0.8214 - lr: 0.0010 - 8s/epoch - 132ms/step
Epoch 64/75
59/59 - 8s - loss: 0.0800 - accuracy: 0.1958 - val_loss: 0.0803 - val_accuracy: 0.8192 - lr: 0.0010 - 8s/epoch - 132ms/step
Epoch 65/75
59/59 - 8s - loss: 0.0800 - accuracy: 0.1985 - val_loss: 0.0802 - val_accuracy: 0.8192 - lr: 0.0010 - 8s/epoch - 132ms/step
Epoch 66/75
59/59 - 8s - loss: 0.0800 - accuracy: 0.1969 - val_loss: 0.0798 - val_accuracy: 0.8217 - lr: 0.0010 - 8s/epoch - 132ms/step
Epoch 67/75
59/59 - 8s - loss: 0.0800 - accuracy: 0.1974 - val_loss: 0.0802 - val_accuracy: 0.0657 - lr: 0.0010 - 8s/epoch - 132ms/step
Epoch 68/75
59/59 - 8s - loss: 0.0800 - accuracy: 0.1971 - val_loss: 0.0803 - val_accuracy: 0.0656 - lr: 0.0010 - 8s/epoch - 132ms/step
Epoch 69/75
59/59 - 8s - loss: 0.0800 - accuracy: 0.2003 - val_loss: 0.0803 - val_accuracy: 0.0737 - lr: 0.0010 - 8s/epoch - 132ms/step
Epoch 70/75
59/59 - 8s - loss: 0.0800 - accuracy: 0.1977 - val_loss: 0.0803 - val_accuracy: 0.0076 - lr: 0.0010 - 8s/epoch - 132ms/step
Epoch 71/75
59/59 - 8s - loss: 0.0800 - accuracy: 0.1992 - val_loss: 0.0803 - val_accuracy: 0.0784 - lr: 0.0010 - 8s/epoch - 132ms/step
Epoch 72/75
59/59 - 8s - loss: 0.0800 - accuracy: 0.1971 - val_loss: 0.0803 - val_accuracy: 0.0737 - lr: 0.0010 - 8s/epoch - 132ms/step
Epoch 73/75
59/59 - 8s - loss: 0.0800 - accuracy: 0.1983 - val_loss: 0.0803 - val_accuracy: 0.0706 - lr: 0.0010 - 8s/epoch - 132ms/step
Epoch 74/75
59/59 - 8s - loss: 0.0800 - accuracy: 0.1978 - val_loss: 0.0800 - val_accuracy: 0.8193 - lr: 0.0010 - 8s/epoch - 132ms/step
Epoch 75/75
59/59 - 8s - loss: 0.0800 - accuracy: 0.1991 - val_loss: 0.0799 - val_accuracy: 0.8215 - lr: 0.0010 - 8s/epoch - 132ms/step
fitting with batch size: 2500
Epoch 1/75
36/36 - 10s - loss: 0.0800 - accuracy: 0.1989 - val_loss: 0.0803 - val_accuracy: 0.0657 - lr: 0.0010 - 10s/epoch - 278ms/step
Epoch 2/75
36/36 - 8s - loss: 0.0800 - accuracy: 0.1993 - val_loss: 0.0802 - val_accuracy: 0.0293 - lr: 0.0010 - 8s/epoch - 209ms/step
Epoch 3/75
36/36 - 8s - loss: 0.0800 - accuracy: 0.1991 - val_loss: 0.0795 - val_accuracy: 0.8266 - lr: 0.0010 - 8s/epoch - 210ms/step
Epoch 4/75
36/36 - 8s - loss: 0.0800 - accuracy: 0.1981 - val_loss: 0.0799 - val_accuracy: 0.0331 - lr: 0.0010 - 8s/epoch - 209ms/step
Epoch 5/75
36/36 - 8s - loss: 0.0800 - accuracy: 0.1995 - val_loss: 0.0797 - val_accuracy: 0.8263 - lr: 0.0010 - 8s/epoch - 209ms/step
Epoch 6/75
36/36 - 8s - loss: 0.0800 - accuracy: 0.2000 - val_loss: 0.0798 - val_accuracy: 0.8266 - lr: 0.0010 - 8s/epoch - 210ms/step
Epoch 7/75
36/36 - 8s - loss: 0.0800 - accuracy: 0.2000 - val_loss: 0.0798 - val_accuracy: 0.8217 - lr: 0.0010 - 8s/epoch - 209ms/step
Epoch 8/75
36/36 - 8s - loss: 0.0800 - accuracy: 0.2001 - val_loss: 0.0798 - val_accuracy: 0.8221 - lr: 0.0010 - 8s/epoch - 209ms/step
Epoch 9/75
36/36 - 8s - loss: 0.0800 - accuracy: 0.1977 - val_loss: 0.0799 - val_accuracy: 0.0111 - lr: 0.0010 - 8s/epoch - 209ms/step
Epoch 10/75
36/36 - 8s - loss: 0.0800 - accuracy: 0.1984 - val_loss: 0.0803 - val_accuracy: 0.0085 - lr: 0.0010 - 8s/epoch - 210ms/step
Epoch 11/75
36/36 - 8s - loss: 0.0800 - accuracy: 0.1981 - val_loss: 0.0799 - val_accuracy: 0.0762 - lr: 0.0010 - 8s/epoch - 209ms/step
Epoch 12/75
36/36 - 8s - loss: 0.0800 - accuracy: 0.1999 - val_loss: 0.0803 - val_accuracy: 0.0739 - lr: 0.0010 - 8s/epoch - 210ms/step
Epoch 13/75
36/36 - 8s - loss: 0.0800 - accuracy: 0.2000 - val_loss: 0.0804 - val_accuracy: 0.0083 - lr: 0.0010 - 8s/epoch - 209ms/step
Epoch 14/75
36/36 - 8s - loss: 0.0800 - accuracy: 0.1989 - val_loss: 0.0804 - val_accuracy: 0.0082 - lr: 0.0010 - 8s/epoch - 210ms/step
Epoch 15/75
36/36 - 8s - loss: 0.0800 - accuracy: 0.2000 - val_loss: 0.0802 - val_accuracy: 0.0085 - lr: 0.0010 - 8s/epoch - 210ms/step
Epoch 16/75
36/36 - 8s - loss: 0.0800 - accuracy: 0.2001 - val_loss: 0.0799 - val_accuracy: 0.8241 - lr: 0.0010 - 8s/epoch - 210ms/step
Epoch 17/75
36/36 - 8s - loss: 0.0800 - accuracy: 0.1975 - val_loss: 0.0801 - val_accuracy: 0.8243 - lr: 0.0010 - 8s/epoch - 210ms/step
Epoch 18/75
36/36 - 8s - loss: 0.0800 - accuracy: 0.1976 - val_loss: 0.0803 - val_accuracy: 0.0658 - lr: 0.0010 - 8s/epoch - 210ms/step
Epoch 19/75
36/36 - 8s - loss: 0.0800 - accuracy: 0.1987 - val_loss: 0.0805 - val_accuracy: 0.0735 - lr: 0.0010 - 8s/epoch - 211ms/step
Epoch 20/75
36/36 - 8s - loss: 0.0800 - accuracy: 0.2000 - val_loss: 0.0803 - val_accuracy: 0.0741 - lr: 0.0010 - 8s/epoch - 210ms/step
Epoch 21/75
36/36 - 8s - loss: 0.0800 - accuracy: 0.2000 - val_loss: 0.0803 - val_accuracy: 0.0739 - lr: 0.0010 - 8s/epoch - 210ms/step
Epoch 22/75
36/36 - 8s - loss: 0.0800 - accuracy: 0.1988 - val_loss: 0.0806 - val_accuracy: 0.0257 - lr: 0.0010 - 8s/epoch - 211ms/step
Epoch 23/75
36/36 - 8s - loss: 0.0800 - accuracy: 0.2000 - val_loss: 0.0806 - val_accuracy: 0.0255 - lr: 0.0010 - 8s/epoch - 210ms/step
Epoch 24/75
36/36 - 8s - loss: 0.0800 - accuracy: 0.1984 - val_loss: 0.0805 - val_accuracy: 0.0257 - lr: 0.0010 - 8s/epoch - 210ms/step
Epoch 25/75
36/36 - 8s - loss: 0.0800 - accuracy: 0.1980 - val_loss: 0.0800 - val_accuracy: 0.0283 - lr: 0.0010 - 8s/epoch - 211ms/step
Epoch 26/75
36/36 - 8s - loss: 0.0800 - accuracy: 0.1990 - val_loss: 0.0805 - val_accuracy: 0.0660 - lr: 0.0010 - 8s/epoch - 210ms/step
Epoch 27/75
36/36 - 8s - loss: 0.0800 - accuracy: 0.2000 - val_loss: 0.0804 - val_accuracy: 0.0710 - lr: 0.0010 - 8s/epoch - 210ms/step
Epoch 28/75
36/36 - 8s - loss: 0.0800 - accuracy: 0.2000 - val_loss: 0.0803 - val_accuracy: 0.0708 - lr: 0.0010 - 8s/epoch - 210ms/step
Epoch 29/75
36/36 - 8s - loss: 0.0800 - accuracy: 0.1984 - val_loss: 0.0802 - val_accuracy: 0.0708 - lr: 0.0010 - 8s/epoch - 210ms/step
Epoch 30/75
36/36 - 8s - loss: 0.0800 - accuracy: 0.2000 - val_loss: 0.0804 - val_accuracy: 0.0660 - lr: 0.0010 - 8s/epoch - 210ms/step
Epoch 31/75
36/36 - 8s - loss: 0.0800 - accuracy: 0.1992 - val_loss: 0.0804 - val_accuracy: 0.0739 - lr: 0.0010 - 8s/epoch - 210ms/step
Epoch 32/75
36/36 - 8s - loss: 0.0800 - accuracy: 0.2000 - val_loss: 0.0804 - val_accuracy: 0.0738 - lr: 0.0010 - 8s/epoch - 211ms/step
Epoch 33/75
36/36 - 8s - loss: 0.0800 - accuracy: 0.2000 - val_loss: 0.0804 - val_accuracy: 0.0737 - lr: 0.0010 - 8s/epoch - 210ms/step
Epoch 34/75
36/36 - 8s - loss: 0.0800 - accuracy: 0.2000 - val_loss: 0.0804 - val_accuracy: 0.0737 - lr: 0.0010 - 8s/epoch - 210ms/step
Epoch 35/75
36/36 - 8s - loss: 0.0800 - accuracy: 0.1984 - val_loss: 0.0803 - val_accuracy: 0.0738 - lr: 0.0010 - 8s/epoch - 212ms/step
Epoch 36/75
36/36 - 8s - loss: 0.0800 - accuracy: 0.2000 - val_loss: 0.0803 - val_accuracy: 0.0785 - lr: 0.0010 - 8s/epoch - 210ms/step
Epoch 37/75
36/36 - 8s - loss: 0.0800 - accuracy: 0.2000 - val_loss: 0.0803 - val_accuracy: 0.0737 - lr: 0.0010 - 8s/epoch - 211ms/step
Epoch 38/75
36/36 - 8s - loss: 0.0800 - accuracy: 0.2003 - val_loss: 0.0804 - val_accuracy: 0.0078 - lr: 0.0010 - 8s/epoch - 210ms/step
Epoch 39/75
36/36 - 8s - loss: 0.0800 - accuracy: 0.2002 - val_loss: 0.0804 - val_accuracy: 0.0658 - lr: 0.0010 - 8s/epoch - 210ms/step
Epoch 40/75
36/36 - 8s - loss: 0.0800 - accuracy: 0.2000 - val_loss: 0.0802 - val_accuracy: 0.0661 - lr: 0.0010 - 8s/epoch - 210ms/step
Epoch 41/75
36/36 - 8s - loss: 0.0800 - accuracy: 0.2001 - val_loss: 0.0803 - val_accuracy: 0.0079 - lr: 0.0010 - 8s/epoch - 210ms/step
Epoch 42/75
36/36 - 8s - loss: 0.0800 - accuracy: 0.2000 - val_loss: 0.0803 - val_accuracy: 0.0076 - lr: 0.0010 - 8s/epoch - 210ms/step
Epoch 43/75
36/36 - 8s - loss: 0.0800 - accuracy: 0.1993 - val_loss: 0.0802 - val_accuracy: 0.0076 - lr: 0.0010 - 8s/epoch - 210ms/step
Epoch 44/75
36/36 - 8s - loss: 0.0800 - accuracy: 0.2000 - val_loss: 0.0803 - val_accuracy: 0.0127 - lr: 0.0010 - 8s/epoch - 210ms/step
Epoch 45/75
36/36 - 8s - loss: 0.0800 - accuracy: 0.2009 - val_loss: 0.0803 - val_accuracy: 0.0308 - lr: 0.0010 - 8s/epoch - 210ms/step
Epoch 46/75
36/36 - 8s - loss: 0.0800 - accuracy: 0.2000 - val_loss: 0.0803 - val_accuracy: 0.0261 - lr: 0.0010 - 8s/epoch - 210ms/step
Epoch 47/75
36/36 - 8s - loss: 0.0800 - accuracy: 0.1987 - val_loss: 0.0804 - val_accuracy: 0.0261 - lr: 0.0010 - 8s/epoch - 210ms/step
Epoch 48/75
36/36 - 8s - loss: 0.0800 - accuracy: 0.2000 - val_loss: 0.0806 - val_accuracy: 0.0256 - lr: 0.0010 - 8s/epoch - 210ms/step
Epoch 49/75
36/36 - 8s - loss: 0.0800 - accuracy: 0.2000 - val_loss: 0.0806 - val_accuracy: 0.0254 - lr: 0.0010 - 8s/epoch - 210ms/step
Epoch 50/75
36/36 - 8s - loss: 0.0800 - accuracy: 0.1995 - val_loss: 0.0807 - val_accuracy: 0.0076 - lr: 0.0010 - 8s/epoch - 210ms/step
Epoch 51/75
36/36 - 8s - loss: 0.0800 - accuracy: 0.1981 - val_loss: 0.0805 - val_accuracy: 0.0261 - lr: 0.0010 - 8s/epoch - 210ms/step
Epoch 52/75
36/36 - 8s - loss: 0.0800 - accuracy: 0.1992 - val_loss: 0.0803 - val_accuracy: 0.0261 - lr: 0.0010 - 8s/epoch - 210ms/step
Epoch 53/75
36/36 - 8s - loss: 0.0800 - accuracy: 0.1986 - val_loss: 0.0798 - val_accuracy: 0.8219 - lr: 0.0010 - 8s/epoch - 211ms/step
Epoch 54/75
36/36 - 8s - loss: 0.0800 - accuracy: 0.1994 - val_loss: 0.0800 - val_accuracy: 0.0102 - lr: 0.0010 - 8s/epoch - 210ms/step
Epoch 55/75
36/36 - 8s - loss: 0.0800 - accuracy: 0.2000 - val_loss: 0.0798 - val_accuracy: 0.8220 - lr: 0.0010 - 8s/epoch - 210ms/step
Epoch 56/75
36/36 - 8s - loss: 0.0800 - accuracy: 0.1998 - val_loss: 0.0799 - val_accuracy: 0.0287 - lr: 0.0010 - 8s/epoch - 210ms/step
Epoch 57/75
36/36 - 8s - loss: 0.0800 - accuracy: 0.1982 - val_loss: 0.0800 - val_accuracy: 0.0106 - lr: 0.0010 - 8s/epoch - 211ms/step
Epoch 58/75
36/36 - 8s - loss: 0.0800 - accuracy: 0.2006 - val_loss: 0.0799 - val_accuracy: 0.0766 - lr: 0.0010 - 8s/epoch - 210ms/step
Epoch 59/75
36/36 - 8s - loss: 0.0800 - accuracy: 0.2000 - val_loss: 0.0803 - val_accuracy: 0.0742 - lr: 0.0010 - 8s/epoch - 210ms/step
Epoch 60/75
36/36 - 8s - loss: 0.0800 - accuracy: 0.1993 - val_loss: 0.0802 - val_accuracy: 0.0744 - lr: 0.0010 - 8s/epoch - 210ms/step
Epoch 61/75
36/36 - 8s - loss: 0.0800 - accuracy: 0.1993 - val_loss: 0.0804 - val_accuracy: 0.0306 - lr: 0.0010 - 8s/epoch - 210ms/step
Epoch 62/75
36/36 - 8s - loss: 0.0800 - accuracy: 0.1996 - val_loss: 0.0803 - val_accuracy: 0.0789 - lr: 0.0010 - 8s/epoch - 210ms/step
Epoch 63/75
36/36 - 8s - loss: 0.0800 - accuracy: 0.1998 - val_loss: 0.0804 - val_accuracy: 0.0792 - lr: 0.0010 - 8s/epoch - 210ms/step
Epoch 64/75
36/36 - 8s - loss: 0.0800 - accuracy: 0.1985 - val_loss: 0.0802 - val_accuracy: 0.8193 - lr: 0.0010 - 8s/epoch - 210ms/step
Epoch 65/75
36/36 - 8s - loss: 0.0800 - accuracy: 0.1983 - val_loss: 0.0802 - val_accuracy: 0.8193 - lr: 0.0010 - 8s/epoch - 210ms/step
Epoch 66/75
36/36 - 8s - loss: 0.0800 - accuracy: 0.1989 - val_loss: 0.0803 - val_accuracy: 0.0080 - lr: 0.0010 - 8s/epoch - 210ms/step
Epoch 67/75
36/36 - 8s - loss: 0.0800 - accuracy: 0.1990 - val_loss: 0.0803 - val_accuracy: 0.0740 - lr: 0.0010 - 8s/epoch - 210ms/step
Epoch 68/75
36/36 - 8s - loss: 0.0800 - accuracy: 0.1997 - val_loss: 0.0803 - val_accuracy: 0.0259 - lr: 0.0010 - 8s/epoch - 210ms/step
Epoch 69/75
36/36 - 8s - loss: 0.0800 - accuracy: 0.2008 - val_loss: 0.0802 - val_accuracy: 0.0664 - lr: 0.0010 - 8s/epoch - 210ms/step
Epoch 70/75
36/36 - 8s - loss: 0.0800 - accuracy: 0.1983 - val_loss: 0.0802 - val_accuracy: 0.8193 - lr: 0.0010 - 8s/epoch - 210ms/step
Epoch 71/75
36/36 - 8s - loss: 0.0800 - accuracy: 0.2000 - val_loss: 0.0802 - val_accuracy: 0.8241 - lr: 0.0010 - 8s/epoch - 210ms/step
Epoch 72/75
36/36 - 8s - loss: 0.0800 - accuracy: 0.2006 - val_loss: 0.0803 - val_accuracy: 0.0740 - lr: 0.0010 - 8s/epoch - 210ms/step
Epoch 73/75
36/36 - 8s - loss: 0.0800 - accuracy: 0.2000 - val_loss: 0.0804 - val_accuracy: 0.0738 - lr: 0.0010 - 8s/epoch - 211ms/step
Epoch 74/75
36/36 - 8s - loss: 0.0800 - accuracy: 0.1990 - val_loss: 0.0805 - val_accuracy: 0.0260 - lr: 0.0010 - 8s/epoch - 210ms/step
Epoch 75/75
36/36 - 8s - loss: 0.0800 - accuracy: 0.1992 - val_loss: 0.0804 - val_accuracy: 0.0079 - lr: 0.0010 - 8s/epoch - 210ms/step
Epoch number: 100
fitting with batch size: 20
Epoch 1/100
4378/4378 - 77s - loss: 0.0800 - accuracy: 0.1996 - val_loss: 0.0810 - val_accuracy: 0.0255 - lr: 0.0010 - 77s/epoch - 18ms/step
Epoch 2/100
4378/4378 - 75s - loss: 0.0800 - accuracy: 0.2026 - val_loss: 0.0804 - val_accuracy: 0.0745 - lr: 0.0010 - 75s/epoch - 17ms/step
Epoch 3/100
4378/4378 - 74s - loss: 0.0800 - accuracy: 0.2016 - val_loss: 0.0811 - val_accuracy: 0.0656 - lr: 0.0010 - 74s/epoch - 17ms/step
Epoch 4/100
4378/4378 - 74s - loss: 0.0800 - accuracy: 0.2013 - val_loss: 0.0797 - val_accuracy: 0.0257 - lr: 0.0010 - 74s/epoch - 17ms/step
Epoch 5/100
4378/4378 - 74s - loss: 0.0800 - accuracy: 0.1999 - val_loss: 0.0801 - val_accuracy: 0.0076 - lr: 0.0010 - 74s/epoch - 17ms/step
Epoch 6/100
4378/4378 - 74s - loss: 0.0800 - accuracy: 0.1989 - val_loss: 0.0804 - val_accuracy: 0.0259 - lr: 0.0010 - 74s/epoch - 17ms/step
Epoch 7/100
4378/4378 - 74s - loss: 0.0800 - accuracy: 0.2025 - val_loss: 0.0813 - val_accuracy: 0.0080 - lr: 0.0010 - 74s/epoch - 17ms/step
Epoch 8/100
4378/4378 - 75s - loss: 0.0800 - accuracy: 0.1982 - val_loss: 0.0806 - val_accuracy: 0.0259 - lr: 0.0010 - 75s/epoch - 17ms/step
Epoch 9/100
4378/4378 - 74s - loss: 0.0800 - accuracy: 0.1992 - val_loss: 0.0803 - val_accuracy: 0.0259 - lr: 0.0010 - 74s/epoch - 17ms/step
Epoch 10/100
4378/4378 - 74s - loss: 0.0800 - accuracy: 0.2002 - val_loss: 0.0800 - val_accuracy: 0.8194 - lr: 0.0010 - 74s/epoch - 17ms/step
Epoch 11/100
4378/4378 - 74s - loss: 0.0800 - accuracy: 0.1975 - val_loss: 0.0804 - val_accuracy: 0.0757 - lr: 0.0010 - 74s/epoch - 17ms/step
Epoch 12/100
4378/4378 - 75s - loss: 0.0800 - accuracy: 0.1978 - val_loss: 0.0797 - val_accuracy: 0.8213 - lr: 0.0010 - 75s/epoch - 17ms/step
Epoch 13/100
4378/4378 - 75s - loss: 0.0800 - accuracy: 0.1987 - val_loss: 0.0804 - val_accuracy: 0.0655 - lr: 0.0010 - 75s/epoch - 17ms/step
Epoch 14/100
4378/4378 - 74s - loss: 0.0800 - accuracy: 0.1985 - val_loss: 0.0804 - val_accuracy: 0.0783 - lr: 0.0010 - 74s/epoch - 17ms/step
Epoch 15/100
4378/4378 - 75s - loss: 0.0800 - accuracy: 0.1989 - val_loss: 0.0796 - val_accuracy: 0.0254 - lr: 0.0010 - 75s/epoch - 17ms/step
Epoch 16/100
4378/4378 - 74s - loss: 0.0800 - accuracy: 0.1979 - val_loss: 0.0817 - val_accuracy: 0.0126 - lr: 0.0010 - 74s/epoch - 17ms/step
Epoch 17/100
4378/4378 - 75s - loss: 0.0800 - accuracy: 0.1986 - val_loss: 0.0804 - val_accuracy: 0.0258 - lr: 0.0010 - 75s/epoch - 17ms/step
Epoch 18/100
4378/4378 - 74s - loss: 0.0800 - accuracy: 0.1990 - val_loss: 0.0795 - val_accuracy: 0.8219 - lr: 0.0010 - 74s/epoch - 17ms/step
Epoch 19/100
4378/4378 - 75s - loss: 0.0800 - accuracy: 0.1981 - val_loss: 0.0799 - val_accuracy: 0.8248 - lr: 0.0010 - 75s/epoch - 17ms/step
Epoch 20/100
4378/4378 - 74s - loss: 0.0800 - accuracy: 0.1983 - val_loss: 0.0799 - val_accuracy: 0.0111 - lr: 0.0010 - 74s/epoch - 17ms/step
Epoch 21/100
4378/4378 - 74s - loss: 0.0800 - accuracy: 0.2001 - val_loss: 0.0796 - val_accuracy: 0.0765 - lr: 0.0010 - 74s/epoch - 17ms/step
Epoch 22/100
4378/4378 - 75s - loss: 0.0800 - accuracy: 0.2010 - val_loss: 0.0798 - val_accuracy: 0.0658 - lr: 0.0010 - 75s/epoch - 17ms/step
Epoch 23/100
4378/4378 - 74s - loss: 0.0800 - accuracy: 0.1978 - val_loss: 0.0801 - val_accuracy: 0.0704 - lr: 0.0010 - 74s/epoch - 17ms/step
Epoch 24/100
4378/4378 - 74s - loss: 0.0800 - accuracy: 0.2003 - val_loss: 0.0807 - val_accuracy: 0.0255 - lr: 0.0010 - 74s/epoch - 17ms/step
Epoch 25/100
4378/4378 - 75s - loss: 0.0800 - accuracy: 0.1976 - val_loss: 0.0805 - val_accuracy: 0.0112 - lr: 0.0010 - 75s/epoch - 17ms/step
Epoch 26/100
4378/4378 - 74s - loss: 0.0800 - accuracy: 0.1975 - val_loss: 0.0804 - val_accuracy: 0.0705 - lr: 0.0010 - 74s/epoch - 17ms/step
Epoch 27/100
4378/4378 - 74s - loss: 0.0800 - accuracy: 0.1998 - val_loss: 0.0812 - val_accuracy: 0.0301 - lr: 0.0010 - 74s/epoch - 17ms/step
Epoch 28/100
4378/4378 - 74s - loss: 0.0800 - accuracy: 0.2004 - val_loss: 0.0801 - val_accuracy: 0.0261 - lr: 0.0010 - 74s/epoch - 17ms/step
Epoch 29/100
4378/4378 - 75s - loss: 0.0800 - accuracy: 0.1984 - val_loss: 0.0785 - val_accuracy: 0.8198 - lr: 0.0010 - 75s/epoch - 17ms/step
Epoch 30/100
4378/4378 - 75s - loss: 0.0800 - accuracy: 0.2000 - val_loss: 0.0808 - val_accuracy: 0.0306 - lr: 0.0010 - 75s/epoch - 17ms/step
Epoch 31/100
4378/4378 - 74s - loss: 0.0800 - accuracy: 0.1982 - val_loss: 0.0810 - val_accuracy: 0.0328 - lr: 0.0010 - 74s/epoch - 17ms/step
Epoch 32/100
4378/4378 - 74s - loss: 0.0800 - accuracy: 0.1992 - val_loss: 0.0800 - val_accuracy: 0.8190 - lr: 0.0010 - 74s/epoch - 17ms/step
Epoch 33/100
4378/4378 - 74s - loss: 0.0800 - accuracy: 0.2001 - val_loss: 0.0799 - val_accuracy: 0.0282 - lr: 0.0010 - 74s/epoch - 17ms/step
Epoch 34/100
4378/4378 - 74s - loss: 0.0800 - accuracy: 0.1997 - val_loss: 0.0809 - val_accuracy: 0.0661 - lr: 0.0010 - 74s/epoch - 17ms/step
Epoch 35/100
4378/4378 - 74s - loss: 0.0800 - accuracy: 0.1984 - val_loss: 0.0807 - val_accuracy: 0.0662 - lr: 0.0010 - 74s/epoch - 17ms/step
Epoch 36/100
4378/4378 - 74s - loss: 0.0800 - accuracy: 0.1994 - val_loss: 0.0807 - val_accuracy: 0.0075 - lr: 0.0010 - 74s/epoch - 17ms/step
Epoch 37/100
4378/4378 - 75s - loss: 0.0800 - accuracy: 0.1983 - val_loss: 0.0804 - val_accuracy: 0.0657 - lr: 0.0010 - 75s/epoch - 17ms/step
Epoch 38/100
4378/4378 - 74s - loss: 0.0800 - accuracy: 0.1982 - val_loss: 0.0806 - val_accuracy: 0.0656 - lr: 0.0010 - 74s/epoch - 17ms/step
Epoch 39/100
4378/4378 - 74s - loss: 0.0800 - accuracy: 0.1984 - val_loss: 0.0802 - val_accuracy: 0.0760 - lr: 0.0010 - 74s/epoch - 17ms/step
Epoch 40/100
4378/4378 - 74s - loss: 0.0800 - accuracy: 0.1984 - val_loss: 0.0807 - val_accuracy: 0.0301 - lr: 0.0010 - 74s/epoch - 17ms/step
Epoch 41/100
4378/4378 - 74s - loss: 0.0800 - accuracy: 0.1973 - val_loss: 0.0805 - val_accuracy: 0.0253 - lr: 0.0010 - 74s/epoch - 17ms/step
Epoch 42/100
4378/4378 - 74s - loss: 0.0800 - accuracy: 0.1998 - val_loss: 0.0804 - val_accuracy: 0.0737 - lr: 0.0010 - 74s/epoch - 17ms/step
Epoch 43/100
4378/4378 - 74s - loss: 0.0800 - accuracy: 0.2004 - val_loss: 0.0807 - val_accuracy: 0.0743 - lr: 0.0010 - 74s/epoch - 17ms/step
Epoch 44/100
4378/4378 - 75s - loss: 0.0800 - accuracy: 0.1975 - val_loss: 0.0806 - val_accuracy: 0.0662 - lr: 0.0010 - 75s/epoch - 17ms/step
Epoch 45/100
4378/4378 - 75s - loss: 0.0800 - accuracy: 0.1982 - val_loss: 0.0802 - val_accuracy: 0.0305 - lr: 0.0010 - 75s/epoch - 17ms/step
Epoch 46/100
4378/4378 - 74s - loss: 0.0800 - accuracy: 0.2006 - val_loss: 0.0793 - val_accuracy: 0.0687 - lr: 0.0010 - 74s/epoch - 17ms/step
Epoch 47/100
4378/4378 - 74s - loss: 0.0800 - accuracy: 0.1964 - val_loss: 0.0798 - val_accuracy: 0.8192 - lr: 0.0010 - 74s/epoch - 17ms/step
Epoch 48/100
4378/4378 - 74s - loss: 0.0800 - accuracy: 0.1991 - val_loss: 0.0802 - val_accuracy: 0.0761 - lr: 0.0010 - 74s/epoch - 17ms/step
Epoch 49/100
4378/4378 - 74s - loss: 0.0800 - accuracy: 0.1990 - val_loss: 0.0817 - val_accuracy: 0.0092 - lr: 0.0010 - 74s/epoch - 17ms/step
Epoch 50/100
4378/4378 - 74s - loss: 0.0800 - accuracy: 0.1980 - val_loss: 0.0807 - val_accuracy: 0.0303 - lr: 0.0010 - 74s/epoch - 17ms/step
Epoch 51/100
4378/4378 - 74s - loss: 0.0800 - accuracy: 0.2007 - val_loss: 0.0814 - val_accuracy: 0.0255 - lr: 0.0010 - 74s/epoch - 17ms/step
Epoch 52/100
4378/4378 - 74s - loss: 0.0800 - accuracy: 0.1992 - val_loss: 0.0802 - val_accuracy: 0.0254 - lr: 0.0010 - 74s/epoch - 17ms/step
Epoch 53/100
4378/4378 - 74s - loss: 0.0800 - accuracy: 0.1986 - val_loss: 0.0805 - val_accuracy: 0.0078 - lr: 0.0010 - 74s/epoch - 17ms/step
Epoch 54/100
4378/4378 - 74s - loss: 0.0800 - accuracy: 0.1983 - val_loss: 0.0798 - val_accuracy: 0.8187 - lr: 0.0010 - 74s/epoch - 17ms/step
Epoch 55/100
4378/4378 - 74s - loss: 0.0800 - accuracy: 0.2006 - val_loss: 0.0802 - val_accuracy: 0.0708 - lr: 0.0010 - 74s/epoch - 17ms/step
Epoch 56/100
4378/4378 - 74s - loss: 0.0800 - accuracy: 0.1997 - val_loss: 0.0797 - val_accuracy: 0.0768 - lr: 0.0010 - 74s/epoch - 17ms/step
Epoch 57/100
4378/4378 - 74s - loss: 0.0800 - accuracy: 0.1986 - val_loss: 0.0797 - val_accuracy: 0.0766 - lr: 0.0010 - 74s/epoch - 17ms/step
Epoch 58/100
4378/4378 - 74s - loss: 0.0800 - accuracy: 0.2004 - val_loss: 0.0797 - val_accuracy: 0.0257 - lr: 0.0010 - 74s/epoch - 17ms/step
Epoch 59/100
4378/4378 - 74s - loss: 0.0800 - accuracy: 0.1982 - val_loss: 0.0803 - val_accuracy: 0.0735 - lr: 0.0010 - 74s/epoch - 17ms/step
Epoch 60/100
4378/4378 - 74s - loss: 0.0800 - accuracy: 0.1980 - val_loss: 0.0807 - val_accuracy: 0.0264 - lr: 0.0010 - 74s/epoch - 17ms/step
Epoch 61/100
4378/4378 - 74s - loss: 0.0800 - accuracy: 0.1982 - val_loss: 0.0797 - val_accuracy: 0.8238 - lr: 0.0010 - 74s/epoch - 17ms/step
Epoch 62/100
4378/4378 - 74s - loss: 0.0800 - accuracy: 0.1977 - val_loss: 0.0804 - val_accuracy: 0.0256 - lr: 0.0010 - 74s/epoch - 17ms/step
Epoch 63/100
4378/4378 - 74s - loss: 0.0800 - accuracy: 0.2003 - val_loss: 0.0796 - val_accuracy: 0.8237 - lr: 0.0010 - 74s/epoch - 17ms/step
Epoch 64/100
4378/4378 - 74s - loss: 0.0800 - accuracy: 0.1983 - val_loss: 0.0795 - val_accuracy: 0.8194 - lr: 0.0010 - 74s/epoch - 17ms/step
Epoch 65/100
4378/4378 - 74s - loss: 0.0800 - accuracy: 0.1994 - val_loss: 0.0807 - val_accuracy: 0.0786 - lr: 0.0010 - 74s/epoch - 17ms/step
Epoch 66/100
4378/4378 - 74s - loss: 0.0800 - accuracy: 0.1986 - val_loss: 0.0804 - val_accuracy: 0.0686 - lr: 0.0010 - 74s/epoch - 17ms/step
Epoch 67/100
4378/4378 - 74s - loss: 0.0800 - accuracy: 0.1987 - val_loss: 0.0805 - val_accuracy: 0.0658 - lr: 0.0010 - 74s/epoch - 17ms/step
Epoch 68/100
4378/4378 - 74s - loss: 0.0800 - accuracy: 0.1991 - val_loss: 0.0805 - val_accuracy: 0.0786 - lr: 0.0010 - 74s/epoch - 17ms/step
Epoch 69/100
4378/4378 - 74s - loss: 0.0800 - accuracy: 0.1993 - val_loss: 0.0805 - val_accuracy: 0.0075 - lr: 0.0010 - 74s/epoch - 17ms/step
Epoch 70/100
4378/4378 - 74s - loss: 0.0800 - accuracy: 0.2022 - val_loss: 0.0806 - val_accuracy: 0.0784 - lr: 0.0010 - 74s/epoch - 17ms/step
Epoch 71/100
4378/4378 - 74s - loss: 0.0800 - accuracy: 0.2000 - val_loss: 0.0801 - val_accuracy: 0.0075 - lr: 0.0010 - 74s/epoch - 17ms/step
Epoch 72/100
4378/4378 - 75s - loss: 0.0800 - accuracy: 0.2017 - val_loss: 0.0801 - val_accuracy: 0.0738 - lr: 0.0010 - 75s/epoch - 17ms/step
Epoch 73/100
4378/4378 - 74s - loss: 0.0800 - accuracy: 0.1998 - val_loss: 0.0803 - val_accuracy: 0.0704 - lr: 0.0010 - 74s/epoch - 17ms/step
Epoch 74/100
4378/4378 - 74s - loss: 0.0800 - accuracy: 0.1976 - val_loss: 0.0800 - val_accuracy: 0.0688 - lr: 0.0010 - 74s/epoch - 17ms/step
Epoch 75/100
4378/4378 - 74s - loss: 0.0800 - accuracy: 0.1966 - val_loss: 0.0811 - val_accuracy: 0.0080 - lr: 0.0010 - 74s/epoch - 17ms/step
Epoch 76/100
4378/4378 - 75s - loss: 0.0800 - accuracy: 0.1997 - val_loss: 0.0802 - val_accuracy: 0.0106 - lr: 0.0010 - 75s/epoch - 17ms/step
Epoch 77/100
4378/4378 - 74s - loss: 0.0800 - accuracy: 0.1994 - val_loss: 0.0805 - val_accuracy: 0.0786 - lr: 0.0010 - 74s/epoch - 17ms/step
Epoch 78/100
4378/4378 - 74s - loss: 0.0800 - accuracy: 0.2005 - val_loss: 0.0807 - val_accuracy: 0.0079 - lr: 0.0010 - 74s/epoch - 17ms/step
Epoch 79/100
4378/4378 - 74s - loss: 0.0800 - accuracy: 0.1991 - val_loss: 0.0801 - val_accuracy: 0.0109 - lr: 0.0010 - 74s/epoch - 17ms/step
Epoch 80/100
4378/4378 - 74s - loss: 0.0800 - accuracy: 0.1992 - val_loss: 0.0802 - val_accuracy: 0.0307 - lr: 0.0010 - 74s/epoch - 17ms/step
Epoch 81/100
4378/4378 - 74s - loss: 0.0800 - accuracy: 0.1988 - val_loss: 0.0809 - val_accuracy: 0.0075 - lr: 0.0010 - 74s/epoch - 17ms/step
Epoch 82/100
4378/4378 - 74s - loss: 0.0800 - accuracy: 0.1969 - val_loss: 0.0808 - val_accuracy: 0.0255 - lr: 0.0010 - 74s/epoch - 17ms/step
Epoch 83/100
4378/4378 - 74s - loss: 0.0800 - accuracy: 0.1998 - val_loss: 0.0799 - val_accuracy: 0.0281 - lr: 0.0010 - 74s/epoch - 17ms/step
Epoch 84/100
4378/4378 - 74s - loss: 0.0800 - accuracy: 0.1998 - val_loss: 0.0802 - val_accuracy: 0.0655 - lr: 0.0010 - 74s/epoch - 17ms/step
Epoch 85/100
4378/4378 - 74s - loss: 0.0800 - accuracy: 0.1978 - val_loss: 0.0804 - val_accuracy: 0.0312 - lr: 0.0010 - 74s/epoch - 17ms/step
Epoch 86/100
4378/4378 - 74s - loss: 0.0800 - accuracy: 0.2000 - val_loss: 0.0798 - val_accuracy: 0.0708 - lr: 0.0010 - 74s/epoch - 17ms/step
Epoch 87/100
4378/4378 - 74s - loss: 0.0800 - accuracy: 0.1987 - val_loss: 0.0801 - val_accuracy: 0.0257 - lr: 0.0010 - 74s/epoch - 17ms/step
Epoch 88/100
4378/4378 - 74s - loss: 0.0800 - accuracy: 0.1991 - val_loss: 0.0837 - val_accuracy: 0.0772 - lr: 0.0010 - 74s/epoch - 17ms/step
Epoch 89/100
4378/4378 - 74s - loss: 0.0800 - accuracy: 0.2007 - val_loss: 0.0804 - val_accuracy: 0.0744 - lr: 0.0010 - 74s/epoch - 17ms/step
Epoch 90/100
4378/4378 - 74s - loss: 0.0800 - accuracy: 0.1992 - val_loss: 0.0802 - val_accuracy: 0.0740 - lr: 0.0010 - 74s/epoch - 17ms/step
Epoch 91/100
4378/4378 - 74s - loss: 0.0800 - accuracy: 0.2003 - val_loss: 0.0800 - val_accuracy: 0.8247 - lr: 0.0010 - 74s/epoch - 17ms/step
Epoch 92/100
4378/4378 - 74s - loss: 0.0800 - accuracy: 0.1987 - val_loss: 0.0790 - val_accuracy: 0.8223 - lr: 0.0010 - 74s/epoch - 17ms/step
Epoch 93/100
4378/4378 - 74s - loss: 0.0800 - accuracy: 0.2002 - val_loss: 0.0805 - val_accuracy: 0.0658 - lr: 0.0010 - 74s/epoch - 17ms/step
Epoch 94/100
4378/4378 - 74s - loss: 0.0800 - accuracy: 0.1964 - val_loss: 0.0803 - val_accuracy: 0.0783 - lr: 0.0010 - 74s/epoch - 17ms/step
Epoch 95/100
4378/4378 - 74s - loss: 0.0800 - accuracy: 0.1977 - val_loss: 0.0807 - val_accuracy: 0.0657 - lr: 0.0010 - 74s/epoch - 17ms/step
Epoch 96/100
4378/4378 - 74s - loss: 0.0800 - accuracy: 0.1990 - val_loss: 0.0803 - val_accuracy: 0.0743 - lr: 0.0010 - 74s/epoch - 17ms/step
Epoch 97/100
4378/4378 - 74s - loss: 0.0800 - accuracy: 0.1970 - val_loss: 0.0807 - val_accuracy: 0.0663 - lr: 0.0010 - 74s/epoch - 17ms/step
Epoch 98/100
4378/4378 - 74s - loss: 0.0800 - accuracy: 0.1993 - val_loss: 0.0802 - val_accuracy: 0.0739 - lr: 0.0010 - 74s/epoch - 17ms/step
Epoch 99/100
4378/4378 - 74s - loss: 0.0800 - accuracy: 0.2002 - val_loss: 0.0804 - val_accuracy: 0.0109 - lr: 0.0010 - 74s/epoch - 17ms/step
Epoch 100/100
4378/4378 - 75s - loss: 0.0800 - accuracy: 0.1994 - val_loss: 0.0802 - val_accuracy: 0.0735 - lr: 0.0010 - 75s/epoch - 17ms/step
fitting with batch size: 100
Epoch 1/100
876/876 - 22s - loss: 0.0800 - accuracy: 0.1995 - val_loss: 0.0804 - val_accuracy: 0.0704 - lr: 0.0010 - 22s/epoch - 25ms/step
Epoch 2/100
876/876 - 18s - loss: 0.0800 - accuracy: 0.1990 - val_loss: 0.0801 - val_accuracy: 0.8189 - lr: 0.0010 - 18s/epoch - 21ms/step
Epoch 3/100
876/876 - 18s - loss: 0.0800 - accuracy: 0.1966 - val_loss: 0.0805 - val_accuracy: 0.0259 - lr: 0.0010 - 18s/epoch - 21ms/step
Epoch 4/100
876/876 - 18s - loss: 0.0800 - accuracy: 0.2008 - val_loss: 0.0801 - val_accuracy: 0.0281 - lr: 0.0010 - 18s/epoch - 21ms/step
Epoch 5/100
876/876 - 18s - loss: 0.0800 - accuracy: 0.1990 - val_loss: 0.0798 - val_accuracy: 0.8221 - lr: 0.0010 - 18s/epoch - 21ms/step
Epoch 6/100
876/876 - 18s - loss: 0.0800 - accuracy: 0.2000 - val_loss: 0.0802 - val_accuracy: 0.0767 - lr: 0.0010 - 18s/epoch - 21ms/step
Epoch 7/100
876/876 - 18s - loss: 0.0800 - accuracy: 0.1986 - val_loss: 0.0799 - val_accuracy: 0.0689 - lr: 0.0010 - 18s/epoch - 21ms/step
Epoch 8/100
876/876 - 18s - loss: 0.0800 - accuracy: 0.1965 - val_loss: 0.0801 - val_accuracy: 0.8198 - lr: 0.0010 - 18s/epoch - 21ms/step
Epoch 9/100
876/876 - 18s - loss: 0.0800 - accuracy: 0.1993 - val_loss: 0.0798 - val_accuracy: 0.0769 - lr: 0.0010 - 18s/epoch - 21ms/step
Epoch 10/100
876/876 - 18s - loss: 0.0800 - accuracy: 0.1998 - val_loss: 0.0800 - val_accuracy: 0.0101 - lr: 0.0010 - 18s/epoch - 21ms/step
Epoch 11/100
876/876 - 18s - loss: 0.0800 - accuracy: 0.1981 - val_loss: 0.0801 - val_accuracy: 0.0742 - lr: 0.0010 - 18s/epoch - 21ms/step
Epoch 12/100
876/876 - 18s - loss: 0.0800 - accuracy: 0.1987 - val_loss: 0.0803 - val_accuracy: 0.0101 - lr: 0.0010 - 18s/epoch - 21ms/step
Epoch 13/100
876/876 - 18s - loss: 0.0800 - accuracy: 0.1999 - val_loss: 0.0803 - val_accuracy: 0.0735 - lr: 0.0010 - 18s/epoch - 21ms/step
Epoch 14/100
876/876 - 18s - loss: 0.0800 - accuracy: 0.1988 - val_loss: 0.0802 - val_accuracy: 0.8192 - lr: 0.0010 - 18s/epoch - 21ms/step
Epoch 15/100
876/876 - 18s - loss: 0.0800 - accuracy: 0.1979 - val_loss: 0.0804 - val_accuracy: 0.0075 - lr: 0.0010 - 18s/epoch - 21ms/step
Epoch 16/100
876/876 - 18s - loss: 0.0800 - accuracy: 0.1973 - val_loss: 0.0801 - val_accuracy: 0.8192 - lr: 0.0010 - 18s/epoch - 21ms/step
Epoch 17/100
876/876 - 18s - loss: 0.0800 - accuracy: 0.1968 - val_loss: 0.0801 - val_accuracy: 0.0080 - lr: 0.0010 - 18s/epoch - 21ms/step
Epoch 18/100
876/876 - 18s - loss: 0.0800 - accuracy: 0.1987 - val_loss: 0.0808 - val_accuracy: 0.0735 - lr: 0.0010 - 18s/epoch - 21ms/step
Epoch 19/100
876/876 - 18s - loss: 0.0800 - accuracy: 0.1968 - val_loss: 0.0806 - val_accuracy: 0.0738 - lr: 0.0010 - 18s/epoch - 21ms/step
Epoch 20/100
876/876 - 18s - loss: 0.0800 - accuracy: 0.1984 - val_loss: 0.0802 - val_accuracy: 0.0745 - lr: 0.0010 - 18s/epoch - 21ms/step
Epoch 21/100
876/876 - 18s - loss: 0.0800 - accuracy: 0.1987 - val_loss: 0.0801 - val_accuracy: 0.8239 - lr: 0.0010 - 18s/epoch - 21ms/step
Epoch 22/100
876/876 - 18s - loss: 0.0800 - accuracy: 0.1992 - val_loss: 0.0801 - val_accuracy: 0.0281 - lr: 0.0010 - 18s/epoch - 21ms/step
Epoch 23/100
876/876 - 18s - loss: 0.0800 - accuracy: 0.1997 - val_loss: 0.0803 - val_accuracy: 0.0082 - lr: 0.0010 - 18s/epoch - 21ms/step
Epoch 24/100
876/876 - 18s - loss: 0.0800 - accuracy: 0.1988 - val_loss: 0.0797 - val_accuracy: 0.8260 - lr: 0.0010 - 18s/epoch - 21ms/step
Epoch 25/100
876/876 - 18s - loss: 0.0800 - accuracy: 0.1997 - val_loss: 0.0806 - val_accuracy: 0.0262 - lr: 0.0010 - 18s/epoch - 21ms/step
Epoch 26/100
876/876 - 18s - loss: 0.0800 - accuracy: 0.1986 - val_loss: 0.0802 - val_accuracy: 0.0738 - lr: 0.0010 - 18s/epoch - 21ms/step
Epoch 27/100
876/876 - 18s - loss: 0.0800 - accuracy: 0.2003 - val_loss: 0.0803 - val_accuracy: 0.0258 - lr: 0.0010 - 18s/epoch - 21ms/step
Epoch 28/100
876/876 - 18s - loss: 0.0800 - accuracy: 0.1993 - val_loss: 0.0805 - val_accuracy: 0.0076 - lr: 0.0010 - 18s/epoch - 21ms/step
Epoch 29/100
876/876 - 18s - loss: 0.0800 - accuracy: 0.1986 - val_loss: 0.0803 - val_accuracy: 0.8188 - lr: 0.0010 - 18s/epoch - 21ms/step
Epoch 30/100
876/876 - 18s - loss: 0.0800 - accuracy: 0.1988 - val_loss: 0.0801 - val_accuracy: 0.0277 - lr: 0.0010 - 18s/epoch - 21ms/step
Epoch 31/100
876/876 - 18s - loss: 0.0800 - accuracy: 0.1998 - val_loss: 0.0806 - val_accuracy: 0.0256 - lr: 0.0010 - 18s/epoch - 21ms/step
Epoch 32/100
876/876 - 18s - loss: 0.0800 - accuracy: 0.1983 - val_loss: 0.0805 - val_accuracy: 0.0079 - lr: 0.0010 - 18s/epoch - 21ms/step
Epoch 33/100
876/876 - 18s - loss: 0.0800 - accuracy: 0.2000 - val_loss: 0.0801 - val_accuracy: 0.8243 - lr: 0.0010 - 18s/epoch - 21ms/step
Epoch 34/100
876/876 - 18s - loss: 0.0800 - accuracy: 0.1991 - val_loss: 0.0804 - val_accuracy: 0.0129 - lr: 0.0010 - 18s/epoch - 21ms/step
Epoch 35/100
876/876 - 18s - loss: 0.0800 - accuracy: 0.1999 - val_loss: 0.0799 - val_accuracy: 0.8207 - lr: 0.0010 - 18s/epoch - 21ms/step
Epoch 36/100
876/876 - 18s - loss: 0.0800 - accuracy: 0.2003 - val_loss: 0.0808 - val_accuracy: 0.0666 - lr: 0.0010 - 18s/epoch - 21ms/step
Epoch 37/100
876/876 - 18s - loss: 0.0800 - accuracy: 0.1976 - val_loss: 0.0806 - val_accuracy: 0.0657 - lr: 0.0010 - 18s/epoch - 21ms/step
Epoch 38/100
876/876 - 18s - loss: 0.0800 - accuracy: 0.1976 - val_loss: 0.0806 - val_accuracy: 0.0742 - lr: 0.0010 - 18s/epoch - 21ms/step
Epoch 39/100
876/876 - 18s - loss: 0.0800 - accuracy: 0.1994 - val_loss: 0.0803 - val_accuracy: 0.0078 - lr: 0.0010 - 18s/epoch - 21ms/step
Epoch 40/100
876/876 - 18s - loss: 0.0800 - accuracy: 0.1994 - val_loss: 0.0803 - val_accuracy: 0.0081 - lr: 0.0010 - 18s/epoch - 21ms/step
Epoch 41/100
876/876 - 18s - loss: 0.0800 - accuracy: 0.1992 - val_loss: 0.0804 - val_accuracy: 0.0260 - lr: 0.0010 - 18s/epoch - 21ms/step
Epoch 42/100
876/876 - 18s - loss: 0.0800 - accuracy: 0.1979 - val_loss: 0.0801 - val_accuracy: 0.8240 - lr: 0.0010 - 18s/epoch - 21ms/step
Epoch 43/100
876/876 - 18s - loss: 0.0800 - accuracy: 0.1988 - val_loss: 0.0805 - val_accuracy: 0.0131 - lr: 0.0010 - 18s/epoch - 21ms/step
Epoch 44/100
876/876 - 18s - loss: 0.0800 - accuracy: 0.1996 - val_loss: 0.0804 - val_accuracy: 0.0737 - lr: 0.0010 - 18s/epoch - 21ms/step
Epoch 45/100
876/876 - 18s - loss: 0.0800 - accuracy: 0.1999 - val_loss: 0.0812 - val_accuracy: 0.0764 - lr: 0.0010 - 18s/epoch - 21ms/step
Epoch 46/100
876/876 - 18s - loss: 0.0800 - accuracy: 0.1995 - val_loss: 0.0804 - val_accuracy: 0.0254 - lr: 0.0010 - 18s/epoch - 21ms/step
Epoch 47/100
876/876 - 18s - loss: 0.0800 - accuracy: 0.1988 - val_loss: 0.0804 - val_accuracy: 0.0078 - lr: 0.0010 - 18s/epoch - 21ms/step
Epoch 48/100
876/876 - 18s - loss: 0.0800 - accuracy: 0.1981 - val_loss: 0.0800 - val_accuracy: 0.0759 - lr: 0.0010 - 18s/epoch - 21ms/step
Epoch 49/100
876/876 - 18s - loss: 0.0800 - accuracy: 0.1996 - val_loss: 0.0805 - val_accuracy: 0.0255 - lr: 0.0010 - 18s/epoch - 21ms/step
Epoch 50/100
876/876 - 18s - loss: 0.0800 - accuracy: 0.1989 - val_loss: 0.0802 - val_accuracy: 0.0668 - lr: 0.0010 - 18s/epoch - 21ms/step
Epoch 51/100
876/876 - 18s - loss: 0.0800 - accuracy: 0.1996 - val_loss: 0.0802 - val_accuracy: 0.0788 - lr: 0.0010 - 18s/epoch - 21ms/step
Epoch 52/100
876/876 - 18s - loss: 0.0800 - accuracy: 0.2003 - val_loss: 0.0806 - val_accuracy: 0.0254 - lr: 0.0010 - 18s/epoch - 21ms/step
Epoch 53/100
876/876 - 19s - loss: 0.0800 - accuracy: 0.1984 - val_loss: 0.0802 - val_accuracy: 0.8187 - lr: 0.0010 - 19s/epoch - 22ms/step
Epoch 54/100
876/876 - 18s - loss: 0.0800 - accuracy: 0.1995 - val_loss: 0.0801 - val_accuracy: 0.8191 - lr: 0.0010 - 18s/epoch - 21ms/step
Epoch 55/100
876/876 - 18s - loss: 0.0800 - accuracy: 0.2001 - val_loss: 0.0802 - val_accuracy: 0.0762 - lr: 0.0010 - 18s/epoch - 21ms/step
Epoch 56/100
876/876 - 18s - loss: 0.0800 - accuracy: 0.2020 - val_loss: 0.0799 - val_accuracy: 0.0285 - lr: 0.0010 - 18s/epoch - 21ms/step
Epoch 57/100
876/876 - 18s - loss: 0.0800 - accuracy: 0.2005 - val_loss: 0.0798 - val_accuracy: 0.0278 - lr: 0.0010 - 18s/epoch - 21ms/step
Epoch 58/100
876/876 - 18s - loss: 0.0800 - accuracy: 0.1991 - val_loss: 0.0803 - val_accuracy: 0.0735 - lr: 0.0010 - 18s/epoch - 21ms/step
Epoch 59/100
876/876 - 18s - loss: 0.0800 - accuracy: 0.1997 - val_loss: 0.0806 - val_accuracy: 0.0657 - lr: 0.0010 - 18s/epoch - 21ms/step
Epoch 60/100
876/876 - 18s - loss: 0.0800 - accuracy: 0.2010 - val_loss: 0.0803 - val_accuracy: 0.0739 - lr: 0.0010 - 18s/epoch - 21ms/step
Epoch 61/100
876/876 - 18s - loss: 0.0800 - accuracy: 0.1995 - val_loss: 0.0804 - val_accuracy: 0.0735 - lr: 0.0010 - 18s/epoch - 21ms/step
Epoch 62/100
876/876 - 18s - loss: 0.0800 - accuracy: 0.2007 - val_loss: 0.0800 - val_accuracy: 0.0285 - lr: 0.0010 - 18s/epoch - 21ms/step
Epoch 63/100
876/876 - 18s - loss: 0.0800 - accuracy: 0.1962 - val_loss: 0.0795 - val_accuracy: 0.8218 - lr: 0.0010 - 18s/epoch - 21ms/step
Epoch 64/100
876/876 - 18s - loss: 0.0800 - accuracy: 0.1993 - val_loss: 0.0803 - val_accuracy: 0.0735 - lr: 0.0010 - 18s/epoch - 21ms/step
Epoch 65/100
876/876 - 18s - loss: 0.0800 - accuracy: 0.1998 - val_loss: 0.0803 - val_accuracy: 0.0085 - lr: 0.0010 - 18s/epoch - 21ms/step
Epoch 66/100
876/876 - 18s - loss: 0.0800 - accuracy: 0.1983 - val_loss: 0.0810 - val_accuracy: 0.0256 - lr: 0.0010 - 18s/epoch - 21ms/step
Epoch 67/100
876/876 - 18s - loss: 0.0800 - accuracy: 0.1992 - val_loss: 0.0803 - val_accuracy: 0.0254 - lr: 0.0010 - 18s/epoch - 21ms/step
Epoch 68/100
876/876 - 18s - loss: 0.0800 - accuracy: 0.1991 - val_loss: 0.0802 - val_accuracy: 0.0691 - lr: 0.0010 - 18s/epoch - 21ms/step
Epoch 69/100
876/876 - 18s - loss: 0.0800 - accuracy: 0.1969 - val_loss: 0.0806 - val_accuracy: 0.0259 - lr: 0.0010 - 18s/epoch - 21ms/step
Epoch 70/100
876/876 - 18s - loss: 0.0800 - accuracy: 0.1987 - val_loss: 0.0804 - val_accuracy: 0.0084 - lr: 0.0010 - 18s/epoch - 21ms/step
Epoch 71/100
876/876 - 18s - loss: 0.0800 - accuracy: 0.1976 - val_loss: 0.0802 - val_accuracy: 0.0130 - lr: 0.0010 - 18s/epoch - 21ms/step
Epoch 72/100
876/876 - 18s - loss: 0.0800 - accuracy: 0.1996 - val_loss: 0.0803 - val_accuracy: 0.0256 - lr: 0.0010 - 18s/epoch - 21ms/step
Epoch 73/100
876/876 - 18s - loss: 0.0800 - accuracy: 0.1992 - val_loss: 0.0805 - val_accuracy: 0.0788 - lr: 0.0010 - 18s/epoch - 21ms/step
Epoch 74/100
876/876 - 18s - loss: 0.0800 - accuracy: 0.1996 - val_loss: 0.0805 - val_accuracy: 0.0659 - lr: 0.0010 - 18s/epoch - 21ms/step
Epoch 75/100
876/876 - 18s - loss: 0.0800 - accuracy: 0.1986 - val_loss: 0.0803 - val_accuracy: 0.0103 - lr: 0.0010 - 18s/epoch - 21ms/step
Epoch 76/100
876/876 - 18s - loss: 0.0800 - accuracy: 0.2000 - val_loss: 0.0807 - val_accuracy: 0.0740 - lr: 0.0010 - 18s/epoch - 21ms/step
Epoch 77/100
876/876 - 18s - loss: 0.0800 - accuracy: 0.1962 - val_loss: 0.0804 - val_accuracy: 0.0658 - lr: 0.0010 - 18s/epoch - 21ms/step
Epoch 78/100
876/876 - 18s - loss: 0.0800 - accuracy: 0.1995 - val_loss: 0.0798 - val_accuracy: 0.8194 - lr: 0.0010 - 18s/epoch - 21ms/step
Epoch 79/100
876/876 - 18s - loss: 0.0800 - accuracy: 0.1978 - val_loss: 0.0804 - val_accuracy: 0.0764 - lr: 0.0010 - 18s/epoch - 21ms/step
Epoch 80/100
876/876 - 18s - loss: 0.0800 - accuracy: 0.1969 - val_loss: 0.0809 - val_accuracy: 0.0255 - lr: 0.0010 - 18s/epoch - 21ms/step
Epoch 81/100
876/876 - 18s - loss: 0.0800 - accuracy: 0.1980 - val_loss: 0.0802 - val_accuracy: 0.0759 - lr: 0.0010 - 18s/epoch - 21ms/step
Epoch 82/100
876/876 - 18s - loss: 0.0800 - accuracy: 0.2004 - val_loss: 0.0803 - val_accuracy: 0.0657 - lr: 0.0010 - 18s/epoch - 21ms/step
Epoch 83/100
876/876 - 18s - loss: 0.0800 - accuracy: 0.1992 - val_loss: 0.0793 - val_accuracy: 0.8243 - lr: 0.0010 - 18s/epoch - 21ms/step
Epoch 84/100
876/876 - 18s - loss: 0.0800 - accuracy: 0.2008 - val_loss: 0.0803 - val_accuracy: 0.0740 - lr: 0.0010 - 18s/epoch - 21ms/step
Epoch 85/100
876/876 - 18s - loss: 0.0800 - accuracy: 0.1976 - val_loss: 0.0801 - val_accuracy: 0.0735 - lr: 0.0010 - 18s/epoch - 21ms/step
Epoch 86/100
876/876 - 18s - loss: 0.0800 - accuracy: 0.2001 - val_loss: 0.0804 - val_accuracy: 0.0306 - lr: 0.0010 - 18s/epoch - 21ms/step
Epoch 87/100
876/876 - 18s - loss: 0.0800 - accuracy: 0.2001 - val_loss: 0.0805 - val_accuracy: 0.0660 - lr: 0.0010 - 18s/epoch - 21ms/step
Epoch 88/100
876/876 - 18s - loss: 0.0800 - accuracy: 0.1982 - val_loss: 0.0801 - val_accuracy: 0.8193 - lr: 0.0010 - 18s/epoch - 21ms/step
Epoch 89/100
876/876 - 18s - loss: 0.0800 - accuracy: 0.1978 - val_loss: 0.0804 - val_accuracy: 0.0075 - lr: 0.0010 - 18s/epoch - 21ms/step
Epoch 90/100
876/876 - 18s - loss: 0.0800 - accuracy: 0.1981 - val_loss: 0.0802 - val_accuracy: 0.0265 - lr: 0.0010 - 18s/epoch - 21ms/step
Epoch 91/100
876/876 - 18s - loss: 0.0800 - accuracy: 0.1968 - val_loss: 0.0797 - val_accuracy: 0.8221 - lr: 0.0010 - 18s/epoch - 21ms/step
Epoch 92/100
876/876 - 18s - loss: 0.0800 - accuracy: 0.1999 - val_loss: 0.0803 - val_accuracy: 0.0077 - lr: 0.0010 - 18s/epoch - 21ms/step
Epoch 93/100
876/876 - 18s - loss: 0.0800 - accuracy: 0.2006 - val_loss: 0.0795 - val_accuracy: 0.8217 - lr: 0.0010 - 18s/epoch - 21ms/step
Epoch 94/100
876/876 - 18s - loss: 0.0800 - accuracy: 0.2001 - val_loss: 0.0802 - val_accuracy: 0.0074 - lr: 0.0010 - 18s/epoch - 21ms/step
Epoch 95/100
876/876 - 18s - loss: 0.0800 - accuracy: 0.1996 - val_loss: 0.0805 - val_accuracy: 0.0742 - lr: 0.0010 - 18s/epoch - 21ms/step
Epoch 96/100
876/876 - 18s - loss: 0.0800 - accuracy: 0.1989 - val_loss: 0.0803 - val_accuracy: 0.0283 - lr: 0.0010 - 18s/epoch - 21ms/step
Epoch 97/100
876/876 - 18s - loss: 0.0800 - accuracy: 0.2001 - val_loss: 0.0805 - val_accuracy: 0.0254 - lr: 0.0010 - 18s/epoch - 21ms/step
Epoch 98/100
876/876 - 18s - loss: 0.0800 - accuracy: 0.1977 - val_loss: 0.0806 - val_accuracy: 0.0735 - lr: 0.0010 - 18s/epoch - 21ms/step
Epoch 99/100
876/876 - 18s - loss: 0.0800 - accuracy: 0.1999 - val_loss: 0.0808 - val_accuracy: 0.0074 - lr: 0.0010 - 18s/epoch - 21ms/step
Epoch 100/100
876/876 - 18s - loss: 0.0800 - accuracy: 0.1972 - val_loss: 0.0800 - val_accuracy: 0.0683 - lr: 0.0010 - 18s/epoch - 21ms/step
fitting with batch size: 500
Epoch 1/100
176/176 - 11s - loss: 0.0800 - accuracy: 0.1983 - val_loss: 0.0799 - val_accuracy: 0.0687 - lr: 0.0010 - 11s/epoch - 65ms/step
Epoch 2/100
176/176 - 9s - loss: 0.0800 - accuracy: 0.1993 - val_loss: 0.0799 - val_accuracy: 0.8216 - lr: 0.0010 - 9s/epoch - 50ms/step
Epoch 3/100
176/176 - 9s - loss: 0.0800 - accuracy: 0.1990 - val_loss: 0.0801 - val_accuracy: 0.0102 - lr: 0.0010 - 9s/epoch - 50ms/step
Epoch 4/100
176/176 - 9s - loss: 0.0800 - accuracy: 0.1994 - val_loss: 0.0804 - val_accuracy: 0.0739 - lr: 0.0010 - 9s/epoch - 50ms/step
Epoch 5/100
176/176 - 9s - loss: 0.0800 - accuracy: 0.1986 - val_loss: 0.0799 - val_accuracy: 0.8211 - lr: 0.0010 - 9s/epoch - 50ms/step
Epoch 6/100
176/176 - 9s - loss: 0.0800 - accuracy: 0.1957 - val_loss: 0.0799 - val_accuracy: 0.8210 - lr: 0.0010 - 9s/epoch - 50ms/step
Epoch 7/100
176/176 - 9s - loss: 0.0800 - accuracy: 0.1998 - val_loss: 0.0802 - val_accuracy: 0.0256 - lr: 0.0010 - 9s/epoch - 50ms/step
Epoch 8/100
176/176 - 9s - loss: 0.0800 - accuracy: 0.1964 - val_loss: 0.0803 - val_accuracy: 0.0659 - lr: 0.0010 - 9s/epoch - 50ms/step
Epoch 9/100
176/176 - 9s - loss: 0.0800 - accuracy: 0.1981 - val_loss: 0.0802 - val_accuracy: 0.0656 - lr: 0.0010 - 9s/epoch - 50ms/step
Epoch 10/100
176/176 - 9s - loss: 0.0800 - accuracy: 0.1987 - val_loss: 0.0799 - val_accuracy: 0.0692 - lr: 0.0010 - 9s/epoch - 50ms/step
Epoch 11/100
176/176 - 9s - loss: 0.0800 - accuracy: 0.1979 - val_loss: 0.0803 - val_accuracy: 0.0737 - lr: 0.0010 - 9s/epoch - 50ms/step
Epoch 12/100
176/176 - 9s - loss: 0.0800 - accuracy: 0.1967 - val_loss: 0.0807 - val_accuracy: 0.0129 - lr: 0.0010 - 9s/epoch - 50ms/step
Epoch 13/100
176/176 - 9s - loss: 0.0800 - accuracy: 0.1984 - val_loss: 0.0804 - val_accuracy: 0.0083 - lr: 0.0010 - 9s/epoch - 50ms/step
Epoch 14/100
176/176 - 9s - loss: 0.0800 - accuracy: 0.2013 - val_loss: 0.0801 - val_accuracy: 0.0661 - lr: 0.0010 - 9s/epoch - 50ms/step
Epoch 15/100
176/176 - 9s - loss: 0.0800 - accuracy: 0.1983 - val_loss: 0.0801 - val_accuracy: 0.8239 - lr: 0.0010 - 9s/epoch - 50ms/step
Epoch 16/100
176/176 - 9s - loss: 0.0800 - accuracy: 0.1998 - val_loss: 0.0806 - val_accuracy: 0.0708 - lr: 0.0010 - 9s/epoch - 50ms/step
Epoch 17/100
176/176 - 9s - loss: 0.0800 - accuracy: 0.2001 - val_loss: 0.0801 - val_accuracy: 0.8195 - lr: 0.0010 - 9s/epoch - 50ms/step
Epoch 18/100
176/176 - 9s - loss: 0.0800 - accuracy: 0.2006 - val_loss: 0.0804 - val_accuracy: 0.0085 - lr: 0.0010 - 9s/epoch - 50ms/step
Epoch 19/100
176/176 - 9s - loss: 0.0800 - accuracy: 0.1987 - val_loss: 0.0802 - val_accuracy: 0.8203 - lr: 0.0010 - 9s/epoch - 50ms/step
Epoch 20/100
176/176 - 9s - loss: 0.0800 - accuracy: 0.1995 - val_loss: 0.0803 - val_accuracy: 0.0662 - lr: 0.0010 - 9s/epoch - 50ms/step
Epoch 21/100
176/176 - 9s - loss: 0.0800 - accuracy: 0.2003 - val_loss: 0.0796 - val_accuracy: 0.8219 - lr: 0.0010 - 9s/epoch - 50ms/step
Epoch 22/100
176/176 - 9s - loss: 0.0800 - accuracy: 0.1985 - val_loss: 0.0802 - val_accuracy: 0.0736 - lr: 0.0010 - 9s/epoch - 50ms/step
Epoch 23/100
176/176 - 9s - loss: 0.0800 - accuracy: 0.2003 - val_loss: 0.0804 - val_accuracy: 0.0656 - lr: 0.0010 - 9s/epoch - 50ms/step
Epoch 24/100
176/176 - 9s - loss: 0.0800 - accuracy: 0.1968 - val_loss: 0.0803 - val_accuracy: 0.0740 - lr: 0.0010 - 9s/epoch - 50ms/step
Epoch 25/100
176/176 - 9s - loss: 0.0800 - accuracy: 0.1969 - val_loss: 0.0803 - val_accuracy: 0.0669 - lr: 0.0010 - 9s/epoch - 50ms/step
Epoch 26/100
176/176 - 9s - loss: 0.0800 - accuracy: 0.1982 - val_loss: 0.0804 - val_accuracy: 0.0657 - lr: 0.0010 - 9s/epoch - 50ms/step
Epoch 27/100
176/176 - 9s - loss: 0.0800 - accuracy: 0.1999 - val_loss: 0.0804 - val_accuracy: 0.0075 - lr: 0.0010 - 9s/epoch - 50ms/step
Epoch 28/100
176/176 - 9s - loss: 0.0800 - accuracy: 0.1976 - val_loss: 0.0805 - val_accuracy: 0.0256 - lr: 0.0010 - 9s/epoch - 50ms/step
Epoch 29/100
176/176 - 9s - loss: 0.0800 - accuracy: 0.1987 - val_loss: 0.0806 - val_accuracy: 0.0741 - lr: 0.0010 - 9s/epoch - 50ms/step
Epoch 30/100
176/176 - 9s - loss: 0.0800 - accuracy: 0.1986 - val_loss: 0.0805 - val_accuracy: 0.0258 - lr: 0.0010 - 9s/epoch - 50ms/step
Epoch 31/100
176/176 - 9s - loss: 0.0800 - accuracy: 0.2001 - val_loss: 0.0804 - val_accuracy: 0.0656 - lr: 0.0010 - 9s/epoch - 50ms/step
Epoch 32/100
176/176 - 9s - loss: 0.0800 - accuracy: 0.1979 - val_loss: 0.0804 - val_accuracy: 0.0735 - lr: 0.0010 - 9s/epoch - 50ms/step
Epoch 33/100
176/176 - 9s - loss: 0.0800 - accuracy: 0.1986 - val_loss: 0.0798 - val_accuracy: 0.0288 - lr: 0.0010 - 9s/epoch - 50ms/step
Epoch 34/100
176/176 - 9s - loss: 0.0800 - accuracy: 0.1975 - val_loss: 0.0805 - val_accuracy: 0.0079 - lr: 0.0010 - 9s/epoch - 50ms/step
Epoch 35/100
176/176 - 9s - loss: 0.0800 - accuracy: 0.1983 - val_loss: 0.0804 - val_accuracy: 0.0256 - lr: 0.0010 - 9s/epoch - 50ms/step
Epoch 36/100
176/176 - 9s - loss: 0.0800 - accuracy: 0.1983 - val_loss: 0.0804 - val_accuracy: 0.0657 - lr: 0.0010 - 9s/epoch - 50ms/step
Epoch 37/100
176/176 - 9s - loss: 0.0800 - accuracy: 0.1992 - val_loss: 0.0804 - val_accuracy: 0.0263 - lr: 0.0010 - 9s/epoch - 50ms/step
Epoch 38/100
176/176 - 9s - loss: 0.0800 - accuracy: 0.1984 - val_loss: 0.0804 - val_accuracy: 0.0784 - lr: 0.0010 - 9s/epoch - 50ms/step
Epoch 39/100
176/176 - 9s - loss: 0.0800 - accuracy: 0.1998 - val_loss: 0.0804 - val_accuracy: 0.0740 - lr: 0.0010 - 9s/epoch - 50ms/step
Epoch 40/100
176/176 - 9s - loss: 0.0800 - accuracy: 0.1981 - val_loss: 0.0799 - val_accuracy: 0.8241 - lr: 0.0010 - 9s/epoch - 50ms/step
Epoch 41/100
176/176 - 9s - loss: 0.0800 - accuracy: 0.1996 - val_loss: 0.0804 - val_accuracy: 0.0738 - lr: 0.0010 - 9s/epoch - 50ms/step
Epoch 42/100
176/176 - 9s - loss: 0.0800 - accuracy: 0.1976 - val_loss: 0.0802 - val_accuracy: 0.8240 - lr: 0.0010 - 9s/epoch - 50ms/step
Epoch 43/100
176/176 - 9s - loss: 0.0800 - accuracy: 0.1999 - val_loss: 0.0804 - val_accuracy: 0.0655 - lr: 0.0010 - 9s/epoch - 50ms/step
Epoch 44/100
176/176 - 9s - loss: 0.0800 - accuracy: 0.1953 - val_loss: 0.0804 - val_accuracy: 0.0743 - lr: 0.0010 - 9s/epoch - 50ms/step
Epoch 45/100
176/176 - 9s - loss: 0.0800 - accuracy: 0.2001 - val_loss: 0.0797 - val_accuracy: 0.8224 - lr: 0.0010 - 9s/epoch - 50ms/step
Epoch 46/100
176/176 - 9s - loss: 0.0800 - accuracy: 0.1995 - val_loss: 0.0800 - val_accuracy: 0.0684 - lr: 0.0010 - 9s/epoch - 50ms/step
Epoch 47/100
176/176 - 9s - loss: 0.0800 - accuracy: 0.2000 - val_loss: 0.0798 - val_accuracy: 0.0102 - lr: 0.0010 - 9s/epoch - 50ms/step
Epoch 48/100
176/176 - 9s - loss: 0.0800 - accuracy: 0.1981 - val_loss: 0.0803 - val_accuracy: 0.0738 - lr: 0.0010 - 9s/epoch - 50ms/step
Epoch 49/100
176/176 - 9s - loss: 0.0800 - accuracy: 0.1998 - val_loss: 0.0804 - val_accuracy: 0.0786 - lr: 0.0010 - 9s/epoch - 50ms/step
Epoch 50/100
176/176 - 9s - loss: 0.0800 - accuracy: 0.2014 - val_loss: 0.0803 - val_accuracy: 0.0706 - lr: 0.0010 - 9s/epoch - 50ms/step
Epoch 51/100
176/176 - 9s - loss: 0.0800 - accuracy: 0.1988 - val_loss: 0.0806 - val_accuracy: 0.0076 - lr: 0.0010 - 9s/epoch - 50ms/step
Epoch 52/100
176/176 - 9s - loss: 0.0800 - accuracy: 0.1996 - val_loss: 0.0798 - val_accuracy: 0.0690 - lr: 0.0010 - 9s/epoch - 50ms/step
Epoch 53/100
176/176 - 9s - loss: 0.0800 - accuracy: 0.1996 - val_loss: 0.0800 - val_accuracy: 0.0100 - lr: 0.0010 - 9s/epoch - 50ms/step
Epoch 54/100
176/176 - 9s - loss: 0.0800 - accuracy: 0.1973 - val_loss: 0.0801 - val_accuracy: 0.0768 - lr: 0.0010 - 9s/epoch - 50ms/step
Epoch 55/100
176/176 - 9s - loss: 0.0800 - accuracy: 0.1995 - val_loss: 0.0801 - val_accuracy: 0.0286 - lr: 0.0010 - 9s/epoch - 50ms/step
Epoch 56/100
176/176 - 9s - loss: 0.0800 - accuracy: 0.1992 - val_loss: 0.0804 - val_accuracy: 0.0739 - lr: 0.0010 - 9s/epoch - 50ms/step
Epoch 57/100
176/176 - 9s - loss: 0.0800 - accuracy: 0.1981 - val_loss: 0.0805 - val_accuracy: 0.0078 - lr: 0.0010 - 9s/epoch - 50ms/step
Epoch 58/100
176/176 - 9s - loss: 0.0800 - accuracy: 0.1981 - val_loss: 0.0805 - val_accuracy: 0.0074 - lr: 0.0010 - 9s/epoch - 50ms/step
Epoch 59/100
176/176 - 9s - loss: 0.0800 - accuracy: 0.1981 - val_loss: 0.0802 - val_accuracy: 0.0656 - lr: 0.0010 - 9s/epoch - 50ms/step
Epoch 60/100
176/176 - 9s - loss: 0.0800 - accuracy: 0.1994 - val_loss: 0.0801 - val_accuracy: 0.0256 - lr: 0.0010 - 9s/epoch - 50ms/step
Epoch 61/100
176/176 - 9s - loss: 0.0800 - accuracy: 0.1985 - val_loss: 0.0801 - val_accuracy: 0.0083 - lr: 0.0010 - 9s/epoch - 50ms/step
Epoch 62/100
176/176 - 9s - loss: 0.0800 - accuracy: 0.1976 - val_loss: 0.0802 - val_accuracy: 0.0663 - lr: 0.0010 - 9s/epoch - 50ms/step
Epoch 63/100
176/176 - 9s - loss: 0.0800 - accuracy: 0.1991 - val_loss: 0.0797 - val_accuracy: 0.8220 - lr: 0.0010 - 9s/epoch - 50ms/step
Epoch 64/100
176/176 - 9s - loss: 0.0800 - accuracy: 0.1992 - val_loss: 0.0802 - val_accuracy: 0.0661 - lr: 0.0010 - 9s/epoch - 50ms/step
Epoch 65/100
176/176 - 9s - loss: 0.0800 - accuracy: 0.1989 - val_loss: 0.0803 - val_accuracy: 0.0260 - lr: 0.0010 - 9s/epoch - 50ms/step
Epoch 66/100
176/176 - 9s - loss: 0.0800 - accuracy: 0.1991 - val_loss: 0.0801 - val_accuracy: 0.8190 - lr: 0.0010 - 9s/epoch - 50ms/step
Epoch 67/100
176/176 - 9s - loss: 0.0800 - accuracy: 0.1968 - val_loss: 0.0803 - val_accuracy: 0.8188 - lr: 0.0010 - 9s/epoch - 50ms/step
Epoch 68/100
176/176 - 9s - loss: 0.0800 - accuracy: 0.1997 - val_loss: 0.0797 - val_accuracy: 0.0275 - lr: 0.0010 - 9s/epoch - 50ms/step
Epoch 69/100
176/176 - 9s - loss: 0.0800 - accuracy: 0.1984 - val_loss: 0.0803 - val_accuracy: 0.8187 - lr: 0.0010 - 9s/epoch - 50ms/step
Epoch 70/100
176/176 - 9s - loss: 0.0800 - accuracy: 0.1976 - val_loss: 0.0803 - val_accuracy: 0.0741 - lr: 0.0010 - 9s/epoch - 50ms/step
Epoch 71/100
176/176 - 9s - loss: 0.0800 - accuracy: 0.2003 - val_loss: 0.0804 - val_accuracy: 0.0737 - lr: 0.0010 - 9s/epoch - 50ms/step
Epoch 72/100
176/176 - 9s - loss: 0.0800 - accuracy: 0.1988 - val_loss: 0.0804 - val_accuracy: 0.0739 - lr: 0.0010 - 9s/epoch - 50ms/step
Epoch 73/100
176/176 - 9s - loss: 0.0800 - accuracy: 0.2008 - val_loss: 0.0800 - val_accuracy: 0.0685 - lr: 0.0010 - 9s/epoch - 50ms/step
Epoch 74/100
176/176 - 9s - loss: 0.0800 - accuracy: 0.1992 - val_loss: 0.0800 - val_accuracy: 0.0103 - lr: 0.0010 - 9s/epoch - 50ms/step
Epoch 75/100
176/176 - 9s - loss: 0.0800 - accuracy: 0.1997 - val_loss: 0.0798 - val_accuracy: 0.0766 - lr: 0.0010 - 9s/epoch - 50ms/step
Epoch 76/100
176/176 - 9s - loss: 0.0800 - accuracy: 0.1988 - val_loss: 0.0805 - val_accuracy: 0.0737 - lr: 0.0010 - 9s/epoch - 50ms/step
Epoch 77/100
176/176 - 9s - loss: 0.0800 - accuracy: 0.2011 - val_loss: 0.0807 - val_accuracy: 0.0709 - lr: 0.0010 - 9s/epoch - 50ms/step
Epoch 78/100
176/176 - 9s - loss: 0.0800 - accuracy: 0.1995 - val_loss: 0.0801 - val_accuracy: 0.8242 - lr: 0.0010 - 9s/epoch - 50ms/step
Epoch 79/100
176/176 - 9s - loss: 0.0800 - accuracy: 0.1989 - val_loss: 0.0799 - val_accuracy: 0.8242 - lr: 0.0010 - 9s/epoch - 50ms/step
Epoch 80/100
176/176 - 9s - loss: 0.0800 - accuracy: 0.1990 - val_loss: 0.0805 - val_accuracy: 0.0254 - lr: 0.0010 - 9s/epoch - 50ms/step
Epoch 81/100
176/176 - 9s - loss: 0.0800 - accuracy: 0.1970 - val_loss: 0.0804 - val_accuracy: 0.0080 - lr: 0.0010 - 9s/epoch - 50ms/step
Epoch 82/100
176/176 - 9s - loss: 0.0800 - accuracy: 0.1989 - val_loss: 0.0802 - val_accuracy: 0.0259 - lr: 0.0010 - 9s/epoch - 50ms/step
Epoch 83/100
176/176 - 9s - loss: 0.0800 - accuracy: 0.1995 - val_loss: 0.0802 - val_accuracy: 0.0076 - lr: 0.0010 - 9s/epoch - 50ms/step
Epoch 84/100
176/176 - 9s - loss: 0.0800 - accuracy: 0.2004 - val_loss: 0.0798 - val_accuracy: 0.8218 - lr: 0.0010 - 9s/epoch - 50ms/step
Epoch 85/100
176/176 - 9s - loss: 0.0800 - accuracy: 0.1984 - val_loss: 0.0803 - val_accuracy: 0.0259 - lr: 0.0010 - 9s/epoch - 50ms/step
Epoch 86/100
176/176 - 9s - loss: 0.0800 - accuracy: 0.1991 - val_loss: 0.0806 - val_accuracy: 0.0737 - lr: 0.0010 - 9s/epoch - 50ms/step
Epoch 87/100
176/176 - 9s - loss: 0.0800 - accuracy: 0.1981 - val_loss: 0.0805 - val_accuracy: 0.0254 - lr: 0.0010 - 9s/epoch - 50ms/step
Epoch 88/100
176/176 - 9s - loss: 0.0800 - accuracy: 0.1984 - val_loss: 0.0804 - val_accuracy: 0.0787 - lr: 0.0010 - 9s/epoch - 50ms/step
Epoch 89/100
176/176 - 9s - loss: 0.0800 - accuracy: 0.1965 - val_loss: 0.0806 - val_accuracy: 0.0074 - lr: 0.0010 - 9s/epoch - 50ms/step
Epoch 90/100
176/176 - 9s - loss: 0.0800 - accuracy: 0.1980 - val_loss: 0.0800 - val_accuracy: 0.8196 - lr: 0.0010 - 9s/epoch - 50ms/step
Epoch 91/100
176/176 - 9s - loss: 0.0800 - accuracy: 0.1982 - val_loss: 0.0800 - val_accuracy: 0.8200 - lr: 0.0010 - 9s/epoch - 50ms/step
Epoch 92/100
176/176 - 9s - loss: 0.0800 - accuracy: 0.1985 - val_loss: 0.0802 - val_accuracy: 0.0670 - lr: 0.0010 - 9s/epoch - 50ms/step
Epoch 93/100
176/176 - 9s - loss: 0.0800 - accuracy: 0.2011 - val_loss: 0.0805 - val_accuracy: 0.0737 - lr: 0.0010 - 9s/epoch - 50ms/step
Epoch 94/100
176/176 - 9s - loss: 0.0800 - accuracy: 0.1982 - val_loss: 0.0803 - val_accuracy: 0.0256 - lr: 0.0010 - 9s/epoch - 50ms/step
Epoch 95/100
176/176 - 9s - loss: 0.0800 - accuracy: 0.1972 - val_loss: 0.0802 - val_accuracy: 0.0266 - lr: 0.0010 - 9s/epoch - 50ms/step
Epoch 96/100
176/176 - 9s - loss: 0.0800 - accuracy: 0.1980 - val_loss: 0.0804 - val_accuracy: 0.0084 - lr: 0.0010 - 9s/epoch - 50ms/step
Epoch 97/100
176/176 - 9s - loss: 0.0800 - accuracy: 0.1966 - val_loss: 0.0804 - val_accuracy: 0.0666 - lr: 0.0010 - 9s/epoch - 50ms/step
Epoch 98/100
176/176 - 9s - loss: 0.0800 - accuracy: 0.1959 - val_loss: 0.0804 - val_accuracy: 0.0662 - lr: 0.0010 - 9s/epoch - 50ms/step
Epoch 99/100
176/176 - 9s - loss: 0.0800 - accuracy: 0.1985 - val_loss: 0.0802 - val_accuracy: 0.0665 - lr: 0.0010 - 9s/epoch - 50ms/step
Epoch 100/100
176/176 - 9s - loss: 0.0800 - accuracy: 0.2008 - val_loss: 0.0804 - val_accuracy: 0.8192 - lr: 0.0010 - 9s/epoch - 50ms/step
fitting with batch size: 1500
Epoch 1/100
59/59 - 10s - loss: 0.0800 - accuracy: 0.2000 - val_loss: 0.0804 - val_accuracy: 0.8192 - lr: 0.0010 - 10s/epoch - 175ms/step
Epoch 2/100
59/59 - 8s - loss: 0.0800 - accuracy: 0.1991 - val_loss: 0.0804 - val_accuracy: 0.0661 - lr: 0.0010 - 8s/epoch - 131ms/step
Epoch 3/100
59/59 - 8s - loss: 0.0800 - accuracy: 0.1985 - val_loss: 0.0804 - val_accuracy: 0.0081 - lr: 0.0010 - 8s/epoch - 132ms/step
Epoch 4/100
59/59 - 8s - loss: 0.0800 - accuracy: 0.1980 - val_loss: 0.0804 - val_accuracy: 0.0659 - lr: 0.0010 - 8s/epoch - 131ms/step
Epoch 5/100
59/59 - 8s - loss: 0.0800 - accuracy: 0.1984 - val_loss: 0.0803 - val_accuracy: 0.0075 - lr: 0.0010 - 8s/epoch - 131ms/step
Epoch 6/100
59/59 - 8s - loss: 0.0800 - accuracy: 0.1979 - val_loss: 0.0802 - val_accuracy: 0.8188 - lr: 0.0010 - 8s/epoch - 132ms/step
Epoch 7/100
59/59 - 8s - loss: 0.0800 - accuracy: 0.1972 - val_loss: 0.0803 - val_accuracy: 0.8188 - lr: 0.0010 - 8s/epoch - 131ms/step
Epoch 8/100
59/59 - 8s - loss: 0.0800 - accuracy: 0.1981 - val_loss: 0.0803 - val_accuracy: 0.0075 - lr: 0.0010 - 8s/epoch - 132ms/step
Epoch 9/100
59/59 - 8s - loss: 0.0800 - accuracy: 0.1986 - val_loss: 0.0803 - val_accuracy: 0.0075 - lr: 0.0010 - 8s/epoch - 132ms/step
Epoch 10/100
59/59 - 8s - loss: 0.0800 - accuracy: 0.1983 - val_loss: 0.0803 - val_accuracy: 0.0254 - lr: 0.0010 - 8s/epoch - 131ms/step
Epoch 11/100
59/59 - 8s - loss: 0.0800 - accuracy: 0.1988 - val_loss: 0.0802 - val_accuracy: 0.0075 - lr: 0.0010 - 8s/epoch - 131ms/step
Epoch 12/100
59/59 - 8s - loss: 0.0800 - accuracy: 0.1986 - val_loss: 0.0799 - val_accuracy: 0.0680 - lr: 0.0010 - 8s/epoch - 132ms/step
Epoch 13/100
59/59 - 8s - loss: 0.0800 - accuracy: 0.1971 - val_loss: 0.0801 - val_accuracy: 0.0656 - lr: 0.0010 - 8s/epoch - 132ms/step
Epoch 14/100
59/59 - 8s - loss: 0.0800 - accuracy: 0.1984 - val_loss: 0.0802 - val_accuracy: 0.0254 - lr: 0.0010 - 8s/epoch - 131ms/step
Epoch 15/100
59/59 - 8s - loss: 0.0800 - accuracy: 0.1990 - val_loss: 0.0801 - val_accuracy: 0.8187 - lr: 0.0010 - 8s/epoch - 131ms/step
Epoch 16/100
59/59 - 8s - loss: 0.0800 - accuracy: 0.1994 - val_loss: 0.0803 - val_accuracy: 0.0254 - lr: 0.0010 - 8s/epoch - 131ms/step
Epoch 17/100
59/59 - 8s - loss: 0.0800 - accuracy: 0.1974 - val_loss: 0.0802 - val_accuracy: 0.0078 - lr: 0.0010 - 8s/epoch - 131ms/step
Epoch 18/100
59/59 - 8s - loss: 0.0800 - accuracy: 0.1977 - val_loss: 0.0799 - val_accuracy: 0.0102 - lr: 0.0010 - 8s/epoch - 131ms/step
Epoch 19/100
59/59 - 8s - loss: 0.0800 - accuracy: 0.1995 - val_loss: 0.0799 - val_accuracy: 0.0765 - lr: 0.0010 - 8s/epoch - 131ms/step
Epoch 20/100
59/59 - 8s - loss: 0.0800 - accuracy: 0.1988 - val_loss: 0.0801 - val_accuracy: 0.0661 - lr: 0.0010 - 8s/epoch - 131ms/step
Epoch 21/100
59/59 - 8s - loss: 0.0800 - accuracy: 0.1984 - val_loss: 0.0801 - val_accuracy: 0.0656 - lr: 0.0010 - 8s/epoch - 131ms/step
Epoch 22/100
59/59 - 8s - loss: 0.0800 - accuracy: 0.1987 - val_loss: 0.0801 - val_accuracy: 0.8236 - lr: 0.0010 - 8s/epoch - 131ms/step
Epoch 23/100
59/59 - 8s - loss: 0.0800 - accuracy: 0.1969 - val_loss: 0.0800 - val_accuracy: 0.8242 - lr: 0.0010 - 8s/epoch - 132ms/step
Epoch 24/100
59/59 - 8s - loss: 0.0800 - accuracy: 0.1993 - val_loss: 0.0800 - val_accuracy: 0.0665 - lr: 0.0010 - 8s/epoch - 132ms/step
Epoch 25/100
59/59 - 8s - loss: 0.0800 - accuracy: 0.1977 - val_loss: 0.0801 - val_accuracy: 0.0740 - lr: 0.0010 - 8s/epoch - 132ms/step
Epoch 26/100
59/59 - 8s - loss: 0.0800 - accuracy: 0.2000 - val_loss: 0.0801 - val_accuracy: 0.8238 - lr: 0.0010 - 8s/epoch - 132ms/step
Epoch 27/100
59/59 - 8s - loss: 0.0800 - accuracy: 0.1980 - val_loss: 0.0800 - val_accuracy: 0.8243 - lr: 0.0010 - 8s/epoch - 131ms/step
Epoch 28/100
59/59 - 8s - loss: 0.0800 - accuracy: 0.1980 - val_loss: 0.0802 - val_accuracy: 0.0253 - lr: 0.0010 - 8s/epoch - 131ms/step
Epoch 29/100
59/59 - 8s - loss: 0.0800 - accuracy: 0.1991 - val_loss: 0.0802 - val_accuracy: 0.0661 - lr: 0.0010 - 8s/epoch - 132ms/step
Epoch 30/100
59/59 - 8s - loss: 0.0800 - accuracy: 0.1988 - val_loss: 0.0802 - val_accuracy: 0.0254 - lr: 0.0010 - 8s/epoch - 131ms/step
Epoch 31/100
59/59 - 8s - loss: 0.0800 - accuracy: 0.1984 - val_loss: 0.0800 - val_accuracy: 0.8236 - lr: 0.0010 - 8s/epoch - 132ms/step
Epoch 32/100
59/59 - 8s - loss: 0.0800 - accuracy: 0.1965 - val_loss: 0.0801 - val_accuracy: 0.0075 - lr: 0.0010 - 8s/epoch - 131ms/step
Epoch 33/100
59/59 - 8s - loss: 0.0800 - accuracy: 0.1977 - val_loss: 0.0801 - val_accuracy: 0.0661 - lr: 0.0010 - 8s/epoch - 131ms/step
Epoch 34/100
59/59 - 8s - loss: 0.0800 - accuracy: 0.1988 - val_loss: 0.0800 - val_accuracy: 0.8239 - lr: 0.0010 - 8s/epoch - 132ms/step
Epoch 35/100
59/59 - 8s - loss: 0.0800 - accuracy: 0.1974 - val_loss: 0.0801 - val_accuracy: 0.0254 - lr: 0.0010 - 8s/epoch - 132ms/step
Epoch 36/100
59/59 - 8s - loss: 0.0800 - accuracy: 0.1975 - val_loss: 0.0799 - val_accuracy: 0.0762 - lr: 0.0010 - 8s/epoch - 131ms/step
Epoch 37/100
59/59 - 8s - loss: 0.0800 - accuracy: 0.2000 - val_loss: 0.0802 - val_accuracy: 0.0735 - lr: 0.0010 - 8s/epoch - 131ms/step
Epoch 38/100
59/59 - 8s - loss: 0.0800 - accuracy: 0.1974 - val_loss: 0.0799 - val_accuracy: 0.8219 - lr: 0.0010 - 8s/epoch - 132ms/step
Epoch 39/100
59/59 - 8s - loss: 0.0800 - accuracy: 0.2002 - val_loss: 0.0799 - val_accuracy: 0.0310 - lr: 0.0010 - 8s/epoch - 131ms/step
Epoch 40/100
59/59 - 8s - loss: 0.0800 - accuracy: 0.1992 - val_loss: 0.0799 - val_accuracy: 0.0690 - lr: 0.0010 - 8s/epoch - 132ms/step
Epoch 41/100
59/59 - 8s - loss: 0.0800 - accuracy: 0.1973 - val_loss: 0.0803 - val_accuracy: 0.0708 - lr: 0.0010 - 8s/epoch - 132ms/step
Epoch 42/100
59/59 - 8s - loss: 0.0800 - accuracy: 0.1983 - val_loss: 0.0803 - val_accuracy: 0.0735 - lr: 0.0010 - 8s/epoch - 132ms/step
Epoch 43/100
59/59 - 8s - loss: 0.0800 - accuracy: 0.1980 - val_loss: 0.0804 - val_accuracy: 0.0254 - lr: 0.0010 - 8s/epoch - 132ms/step
Epoch 44/100
59/59 - 8s - loss: 0.0800 - accuracy: 0.1999 - val_loss: 0.0803 - val_accuracy: 0.0788 - lr: 0.0010 - 8s/epoch - 132ms/step
Epoch 45/100
59/59 - 8s - loss: 0.0800 - accuracy: 0.1991 - val_loss: 0.0805 - val_accuracy: 0.0075 - lr: 0.0010 - 8s/epoch - 132ms/step
Epoch 46/100
59/59 - 8s - loss: 0.0800 - accuracy: 0.1999 - val_loss: 0.0810 - val_accuracy: 0.0305 - lr: 0.0010 - 8s/epoch - 132ms/step
Epoch 47/100
59/59 - 8s - loss: 0.0800 - accuracy: 0.2006 - val_loss: 0.0802 - val_accuracy: 0.8240 - lr: 0.0010 - 8s/epoch - 132ms/step
Epoch 48/100
59/59 - 8s - loss: 0.0800 - accuracy: 0.1990 - val_loss: 0.0805 - val_accuracy: 0.0076 - lr: 0.0010 - 8s/epoch - 133ms/step
Epoch 49/100
59/59 - 8s - loss: 0.0800 - accuracy: 0.1983 - val_loss: 0.0804 - val_accuracy: 0.0656 - lr: 0.0010 - 8s/epoch - 132ms/step
Epoch 50/100
59/59 - 8s - loss: 0.0800 - accuracy: 0.1992 - val_loss: 0.0805 - val_accuracy: 0.0255 - lr: 0.0010 - 8s/epoch - 132ms/step
Epoch 51/100
59/59 - 8s - loss: 0.0800 - accuracy: 0.1998 - val_loss: 0.0805 - val_accuracy: 0.0656 - lr: 0.0010 - 8s/epoch - 132ms/step
Epoch 52/100
59/59 - 8s - loss: 0.0800 - accuracy: 0.1984 - val_loss: 0.0803 - val_accuracy: 0.0076 - lr: 0.0010 - 8s/epoch - 132ms/step
Epoch 53/100
59/59 - 8s - loss: 0.0800 - accuracy: 0.1976 - val_loss: 0.0803 - val_accuracy: 0.0256 - lr: 0.0010 - 8s/epoch - 132ms/step
Epoch 54/100
59/59 - 8s - loss: 0.0800 - accuracy: 0.1969 - val_loss: 0.0802 - val_accuracy: 0.0655 - lr: 0.0010 - 8s/epoch - 132ms/step
Epoch 55/100
59/59 - 8s - loss: 0.0800 - accuracy: 0.1957 - val_loss: 0.0802 - val_accuracy: 0.0660 - lr: 0.0010 - 8s/epoch - 132ms/step
Epoch 56/100
59/59 - 8s - loss: 0.0800 - accuracy: 0.1986 - val_loss: 0.0802 - val_accuracy: 0.0656 - lr: 0.0010 - 8s/epoch - 132ms/step
Epoch 57/100
59/59 - 8s - loss: 0.0800 - accuracy: 0.1992 - val_loss: 0.0801 - val_accuracy: 0.0658 - lr: 0.0010 - 8s/epoch - 132ms/step
Epoch 58/100
59/59 - 8s - loss: 0.0800 - accuracy: 0.1992 - val_loss: 0.0799 - val_accuracy: 0.8216 - lr: 0.0010 - 8s/epoch - 132ms/step
Epoch 59/100
59/59 - 8s - loss: 0.0800 - accuracy: 0.1982 - val_loss: 0.0801 - val_accuracy: 0.0276 - lr: 0.0010 - 8s/epoch - 132ms/step
Epoch 60/100
59/59 - 8s - loss: 0.0800 - accuracy: 0.1993 - val_loss: 0.0802 - val_accuracy: 0.0088 - lr: 0.0010 - 8s/epoch - 132ms/step
Epoch 61/100
59/59 - 8s - loss: 0.0800 - accuracy: 0.1994 - val_loss: 0.0803 - val_accuracy: 0.0745 - lr: 0.0010 - 8s/epoch - 132ms/step
Epoch 62/100
59/59 - 8s - loss: 0.0800 - accuracy: 0.1977 - val_loss: 0.0802 - val_accuracy: 0.0085 - lr: 0.0010 - 8s/epoch - 132ms/step
Epoch 63/100
59/59 - 8s - loss: 0.0800 - accuracy: 0.1979 - val_loss: 0.0804 - val_accuracy: 0.0661 - lr: 0.0010 - 8s/epoch - 132ms/step
Epoch 64/100
59/59 - 8s - loss: 0.0800 - accuracy: 0.1965 - val_loss: 0.0803 - val_accuracy: 0.0262 - lr: 0.0010 - 8s/epoch - 132ms/step
Epoch 65/100
59/59 - 8s - loss: 0.0800 - accuracy: 0.1979 - val_loss: 0.0802 - val_accuracy: 0.0788 - lr: 0.0010 - 8s/epoch - 132ms/step
Epoch 66/100
59/59 - 8s - loss: 0.0800 - accuracy: 0.1976 - val_loss: 0.0803 - val_accuracy: 0.0076 - lr: 0.0010 - 8s/epoch - 132ms/step
Epoch 67/100
59/59 - 8s - loss: 0.0800 - accuracy: 0.1977 - val_loss: 0.0802 - val_accuracy: 0.0705 - lr: 0.0010 - 8s/epoch - 132ms/step
Epoch 68/100
59/59 - 8s - loss: 0.0800 - accuracy: 0.1971 - val_loss: 0.0804 - val_accuracy: 0.0735 - lr: 0.0010 - 8s/epoch - 132ms/step
Epoch 69/100
59/59 - 8s - loss: 0.0800 - accuracy: 0.1983 - val_loss: 0.0804 - val_accuracy: 0.0076 - lr: 0.0010 - 8s/epoch - 132ms/step
Epoch 70/100
59/59 - 8s - loss: 0.0800 - accuracy: 0.1998 - val_loss: 0.0804 - val_accuracy: 0.0659 - lr: 0.0010 - 8s/epoch - 132ms/step
Epoch 71/100
59/59 - 8s - loss: 0.0800 - accuracy: 0.1980 - val_loss: 0.0805 - val_accuracy: 0.0656 - lr: 0.0010 - 8s/epoch - 132ms/step
Epoch 72/100
59/59 - 8s - loss: 0.0800 - accuracy: 0.1997 - val_loss: 0.0804 - val_accuracy: 0.0074 - lr: 0.0010 - 8s/epoch - 132ms/step
Epoch 73/100
59/59 - 8s - loss: 0.0800 - accuracy: 0.1995 - val_loss: 0.0803 - val_accuracy: 0.0661 - lr: 0.0010 - 8s/epoch - 132ms/step
Epoch 74/100
59/59 - 8s - loss: 0.0800 - accuracy: 0.1970 - val_loss: 0.0804 - val_accuracy: 0.0744 - lr: 0.0010 - 8s/epoch - 132ms/step
Epoch 75/100
59/59 - 8s - loss: 0.0800 - accuracy: 0.1992 - val_loss: 0.0802 - val_accuracy: 0.8198 - lr: 0.0010 - 8s/epoch - 132ms/step
Epoch 76/100
59/59 - 8s - loss: 0.0800 - accuracy: 0.1986 - val_loss: 0.0803 - val_accuracy: 0.0081 - lr: 0.0010 - 8s/epoch - 132ms/step
Epoch 77/100
59/59 - 8s - loss: 0.0800 - accuracy: 0.1990 - val_loss: 0.0805 - val_accuracy: 0.0786 - lr: 0.0010 - 8s/epoch - 132ms/step
Epoch 78/100
59/59 - 8s - loss: 0.0800 - accuracy: 0.1979 - val_loss: 0.0803 - val_accuracy: 0.0742 - lr: 0.0010 - 8s/epoch - 132ms/step
Epoch 79/100
59/59 - 8s - loss: 0.0800 - accuracy: 0.1986 - val_loss: 0.0803 - val_accuracy: 0.0265 - lr: 0.0010 - 8s/epoch - 132ms/step
Epoch 80/100
59/59 - 8s - loss: 0.0800 - accuracy: 0.1974 - val_loss: 0.0802 - val_accuracy: 0.0077 - lr: 0.0010 - 8s/epoch - 132ms/step
Epoch 81/100
59/59 - 8s - loss: 0.0800 - accuracy: 0.1980 - val_loss: 0.0803 - val_accuracy: 0.8237 - lr: 0.0010 - 8s/epoch - 132ms/step
Epoch 82/100
59/59 - 8s - loss: 0.0800 - accuracy: 0.1982 - val_loss: 0.0802 - val_accuracy: 0.8191 - lr: 0.0010 - 8s/epoch - 132ms/step
Epoch 83/100
59/59 - 8s - loss: 0.0800 - accuracy: 0.1972 - val_loss: 0.0803 - val_accuracy: 0.0666 - lr: 0.0010 - 8s/epoch - 132ms/step
Epoch 84/100
59/59 - 8s - loss: 0.0800 - accuracy: 0.1984 - val_loss: 0.0805 - val_accuracy: 0.0075 - lr: 0.0010 - 8s/epoch - 132ms/step
Epoch 85/100
59/59 - 8s - loss: 0.0800 - accuracy: 0.1982 - val_loss: 0.0803 - val_accuracy: 0.0304 - lr: 0.0010 - 8s/epoch - 132ms/step
Epoch 86/100
59/59 - 8s - loss: 0.0800 - accuracy: 0.1988 - val_loss: 0.0803 - val_accuracy: 0.0307 - lr: 0.0010 - 8s/epoch - 133ms/step
Epoch 87/100
59/59 - 8s - loss: 0.0800 - accuracy: 0.1981 - val_loss: 0.0804 - val_accuracy: 0.0254 - lr: 0.0010 - 8s/epoch - 132ms/step
Epoch 88/100
59/59 - 8s - loss: 0.0800 - accuracy: 0.1987 - val_loss: 0.0803 - val_accuracy: 0.0704 - lr: 0.0010 - 8s/epoch - 132ms/step
Epoch 89/100
59/59 - 8s - loss: 0.0800 - accuracy: 0.1983 - val_loss: 0.0803 - val_accuracy: 0.0656 - lr: 0.0010 - 8s/epoch - 132ms/step
Epoch 90/100
59/59 - 8s - loss: 0.0800 - accuracy: 0.2000 - val_loss: 0.0803 - val_accuracy: 0.0659 - lr: 0.0010 - 8s/epoch - 132ms/step
Epoch 91/100
59/59 - 8s - loss: 0.0800 - accuracy: 0.1967 - val_loss: 0.0803 - val_accuracy: 0.0736 - lr: 0.0010 - 8s/epoch - 132ms/step
Epoch 92/100
59/59 - 8s - loss: 0.0800 - accuracy: 0.1992 - val_loss: 0.0802 - val_accuracy: 0.8242 - lr: 0.0010 - 8s/epoch - 132ms/step
Epoch 93/100
59/59 - 8s - loss: 0.0800 - accuracy: 0.1971 - val_loss: 0.0801 - val_accuracy: 0.0083 - lr: 0.0010 - 8s/epoch - 133ms/step
Epoch 94/100
59/59 - 8s - loss: 0.0800 - accuracy: 0.1979 - val_loss: 0.0799 - val_accuracy: 0.0107 - lr: 0.0010 - 8s/epoch - 132ms/step
Epoch 95/100
59/59 - 8s - loss: 0.0800 - accuracy: 0.1990 - val_loss: 0.0802 - val_accuracy: 0.8238 - lr: 0.0010 - 8s/epoch - 132ms/step
Epoch 96/100
59/59 - 8s - loss: 0.0800 - accuracy: 0.1988 - val_loss: 0.0803 - val_accuracy: 0.0125 - lr: 0.0010 - 8s/epoch - 132ms/step
Epoch 97/100
59/59 - 8s - loss: 0.0800 - accuracy: 0.1979 - val_loss: 0.0802 - val_accuracy: 0.0662 - lr: 0.0010 - 8s/epoch - 132ms/step
Epoch 98/100
59/59 - 8s - loss: 0.0800 - accuracy: 0.1988 - val_loss: 0.0802 - val_accuracy: 0.0738 - lr: 0.0010 - 8s/epoch - 132ms/step
Epoch 99/100
59/59 - 8s - loss: 0.0800 - accuracy: 0.1995 - val_loss: 0.0801 - val_accuracy: 0.0655 - lr: 0.0010 - 8s/epoch - 132ms/step
Epoch 100/100
59/59 - 8s - loss: 0.0800 - accuracy: 0.1976 - val_loss: 0.0804 - val_accuracy: 0.0739 - lr: 0.0010 - 8s/epoch - 132ms/step
fitting with batch size: 2500
Epoch 1/100
36/36 - 10s - loss: 0.0800 - accuracy: 0.1986 - val_loss: 0.0799 - val_accuracy: 0.0285 - lr: 0.0010 - 10s/epoch - 279ms/step
Epoch 2/100
36/36 - 8s - loss: 0.0800 - accuracy: 0.2004 - val_loss: 0.0799 - val_accuracy: 0.0764 - lr: 0.0010 - 8s/epoch - 210ms/step
Epoch 3/100
36/36 - 8s - loss: 0.0800 - accuracy: 0.2003 - val_loss: 0.0804 - val_accuracy: 0.0254 - lr: 0.0010 - 8s/epoch - 211ms/step
Epoch 4/100
36/36 - 8s - loss: 0.0800 - accuracy: 0.2000 - val_loss: 0.0802 - val_accuracy: 0.0256 - lr: 0.0010 - 8s/epoch - 210ms/step
Epoch 5/100
36/36 - 8s - loss: 0.0800 - accuracy: 0.2000 - val_loss: 0.0802 - val_accuracy: 0.0257 - lr: 0.0010 - 8s/epoch - 210ms/step
Epoch 6/100
36/36 - 8s - loss: 0.0800 - accuracy: 0.1991 - val_loss: 0.0803 - val_accuracy: 0.0659 - lr: 0.0010 - 8s/epoch - 211ms/step
Epoch 7/100
36/36 - 8s - loss: 0.0800 - accuracy: 0.2000 - val_loss: 0.0799 - val_accuracy: 0.0681 - lr: 0.0010 - 8s/epoch - 210ms/step
Epoch 8/100
36/36 - 8s - loss: 0.0800 - accuracy: 0.1986 - val_loss: 0.0800 - val_accuracy: 0.0758 - lr: 0.0010 - 8s/epoch - 211ms/step
Epoch 9/100
36/36 - 8s - loss: 0.0800 - accuracy: 0.1990 - val_loss: 0.0803 - val_accuracy: 0.0259 - lr: 0.0010 - 8s/epoch - 210ms/step
Epoch 10/100
36/36 - 8s - loss: 0.0800 - accuracy: 0.1991 - val_loss: 0.0804 - val_accuracy: 0.0743 - lr: 0.0010 - 8s/epoch - 210ms/step
Epoch 11/100
36/36 - 8s - loss: 0.0800 - accuracy: 0.1998 - val_loss: 0.0803 - val_accuracy: 0.8191 - lr: 0.0010 - 8s/epoch - 211ms/step
Epoch 12/100
36/36 - 8s - loss: 0.0800 - accuracy: 0.2000 - val_loss: 0.0805 - val_accuracy: 0.0253 - lr: 0.0010 - 8s/epoch - 210ms/step
Epoch 13/100
36/36 - 8s - loss: 0.0800 - accuracy: 0.2015 - val_loss: 0.0806 - val_accuracy: 0.0253 - lr: 0.0010 - 8s/epoch - 210ms/step
Epoch 14/100
36/36 - 8s - loss: 0.0800 - accuracy: 0.2000 - val_loss: 0.0802 - val_accuracy: 0.0259 - lr: 0.0010 - 8s/epoch - 211ms/step
Epoch 15/100
36/36 - 8s - loss: 0.0800 - accuracy: 0.1987 - val_loss: 0.0803 - val_accuracy: 0.0077 - lr: 0.0010 - 8s/epoch - 210ms/step
Epoch 16/100
36/36 - 8s - loss: 0.0800 - accuracy: 0.2000 - val_loss: 0.0804 - val_accuracy: 0.0656 - lr: 0.0010 - 8s/epoch - 210ms/step
Epoch 17/100
36/36 - 8s - loss: 0.0800 - accuracy: 0.2000 - val_loss: 0.0804 - val_accuracy: 0.0655 - lr: 0.0010 - 8s/epoch - 210ms/step
Epoch 18/100
36/36 - 8s - loss: 0.0800 - accuracy: 0.1997 - val_loss: 0.0805 - val_accuracy: 0.0080 - lr: 0.0010 - 8s/epoch - 211ms/step
Epoch 19/100
36/36 - 8s - loss: 0.0800 - accuracy: 0.1975 - val_loss: 0.0805 - val_accuracy: 0.0658 - lr: 0.0010 - 8s/epoch - 210ms/step
Epoch 20/100
36/36 - 8s - loss: 0.0800 - accuracy: 0.1988 - val_loss: 0.0806 - val_accuracy: 0.0077 - lr: 0.0010 - 8s/epoch - 211ms/step
Epoch 21/100
36/36 - 8s - loss: 0.0800 - accuracy: 0.2000 - val_loss: 0.0807 - val_accuracy: 0.0078 - lr: 0.0010 - 8s/epoch - 210ms/step
Epoch 22/100
36/36 - 8s - loss: 0.0800 - accuracy: 0.1975 - val_loss: 0.0806 - val_accuracy: 0.0658 - lr: 0.0010 - 8s/epoch - 212ms/step
Epoch 23/100
36/36 - 8s - loss: 0.0800 - accuracy: 0.1989 - val_loss: 0.0805 - val_accuracy: 0.0703 - lr: 0.0010 - 8s/epoch - 210ms/step
Epoch 24/100
36/36 - 8s - loss: 0.0800 - accuracy: 0.2001 - val_loss: 0.0806 - val_accuracy: 0.0074 - lr: 0.0010 - 8s/epoch - 210ms/step
Epoch 25/100
36/36 - 8s - loss: 0.0800 - accuracy: 0.1987 - val_loss: 0.0803 - val_accuracy: 0.8188 - lr: 0.0010 - 8s/epoch - 210ms/step
Epoch 26/100
36/36 - 8s - loss: 0.0800 - accuracy: 0.1985 - val_loss: 0.0804 - val_accuracy: 0.0658 - lr: 0.0010 - 8s/epoch - 210ms/step
Epoch 27/100
36/36 - 8s - loss: 0.0800 - accuracy: 0.2000 - val_loss: 0.0805 - val_accuracy: 0.0655 - lr: 0.0010 - 8s/epoch - 210ms/step
Epoch 28/100
36/36 - 8s - loss: 0.0800 - accuracy: 0.2003 - val_loss: 0.0802 - val_accuracy: 0.8240 - lr: 0.0010 - 8s/epoch - 212ms/step
Epoch 29/100
36/36 - 8s - loss: 0.0800 - accuracy: 0.1982 - val_loss: 0.0803 - val_accuracy: 0.0789 - lr: 0.0010 - 8s/epoch - 210ms/step
Epoch 30/100
36/36 - 8s - loss: 0.0800 - accuracy: 0.1999 - val_loss: 0.0800 - val_accuracy: 0.8197 - lr: 0.0010 - 8s/epoch - 210ms/step
Epoch 31/100
36/36 - 8s - loss: 0.0800 - accuracy: 0.2001 - val_loss: 0.0802 - val_accuracy: 0.0281 - lr: 0.0010 - 8s/epoch - 211ms/step
Epoch 32/100
36/36 - 8s - loss: 0.0800 - accuracy: 0.1997 - val_loss: 0.0800 - val_accuracy: 0.0106 - lr: 0.0010 - 8s/epoch - 210ms/step
Epoch 33/100
36/36 - 8s - loss: 0.0800 - accuracy: 0.1972 - val_loss: 0.0799 - val_accuracy: 0.0768 - lr: 0.0010 - 8s/epoch - 210ms/step
Epoch 34/100
36/36 - 8s - loss: 0.0800 - accuracy: 0.1987 - val_loss: 0.0798 - val_accuracy: 0.8219 - lr: 0.0010 - 8s/epoch - 210ms/step
Epoch 35/100
36/36 - 8s - loss: 0.0800 - accuracy: 0.1992 - val_loss: 0.0799 - val_accuracy: 0.0772 - lr: 0.0010 - 8s/epoch - 210ms/step
Epoch 36/100
36/36 - 8s - loss: 0.0800 - accuracy: 0.1992 - val_loss: 0.0798 - val_accuracy: 0.0767 - lr: 0.0010 - 8s/epoch - 210ms/step
Epoch 37/100
36/36 - 8s - loss: 0.0800 - accuracy: 0.2001 - val_loss: 0.0802 - val_accuracy: 0.8195 - lr: 0.0010 - 8s/epoch - 211ms/step
Epoch 38/100
36/36 - 8s - loss: 0.0800 - accuracy: 0.1974 - val_loss: 0.0804 - val_accuracy: 0.8188 - lr: 0.0010 - 8s/epoch - 210ms/step
Epoch 39/100
36/36 - 8s - loss: 0.0800 - accuracy: 0.2009 - val_loss: 0.0804 - val_accuracy: 0.0254 - lr: 0.0010 - 8s/epoch - 211ms/step
Epoch 40/100
36/36 - 8s - loss: 0.0800 - accuracy: 0.1966 - val_loss: 0.0803 - val_accuracy: 0.0257 - lr: 0.0010 - 8s/epoch - 210ms/step
Epoch 41/100
36/36 - 8s - loss: 0.0800 - accuracy: 0.1988 - val_loss: 0.0802 - val_accuracy: 0.8188 - lr: 0.0010 - 8s/epoch - 211ms/step
Epoch 42/100
36/36 - 8s - loss: 0.0800 - accuracy: 0.2006 - val_loss: 0.0800 - val_accuracy: 0.0278 - lr: 0.0010 - 8s/epoch - 210ms/step
Epoch 43/100
36/36 - 8s - loss: 0.0800 - accuracy: 0.1998 - val_loss: 0.0800 - val_accuracy: 0.0761 - lr: 0.0010 - 8s/epoch - 210ms/step
Epoch 44/100
36/36 - 8s - loss: 0.0800 - accuracy: 0.2002 - val_loss: 0.0797 - val_accuracy: 0.8215 - lr: 0.0010 - 8s/epoch - 210ms/step
Epoch 45/100
36/36 - 8s - loss: 0.0800 - accuracy: 0.1997 - val_loss: 0.0800 - val_accuracy: 0.0259 - lr: 0.0010 - 8s/epoch - 210ms/step
Epoch 46/100
36/36 - 8s - loss: 0.0800 - accuracy: 0.2000 - val_loss: 0.0803 - val_accuracy: 0.0305 - lr: 0.0010 - 8s/epoch - 210ms/step
Epoch 47/100
36/36 - 8s - loss: 0.0800 - accuracy: 0.1987 - val_loss: 0.0804 - val_accuracy: 0.8188 - lr: 0.0010 - 8s/epoch - 210ms/step
Epoch 48/100
36/36 - 8s - loss: 0.0800 - accuracy: 0.1986 - val_loss: 0.0803 - val_accuracy: 0.0704 - lr: 0.0010 - 8s/epoch - 210ms/step
Epoch 49/100
36/36 - 8s - loss: 0.0800 - accuracy: 0.1995 - val_loss: 0.0803 - val_accuracy: 0.0785 - lr: 0.0010 - 8s/epoch - 210ms/step
Epoch 50/100
36/36 - 8s - loss: 0.0800 - accuracy: 0.2000 - val_loss: 0.0804 - val_accuracy: 0.0705 - lr: 0.0010 - 8s/epoch - 210ms/step
Epoch 51/100
36/36 - 8s - loss: 0.0800 - accuracy: 0.1996 - val_loss: 0.0798 - val_accuracy: 0.8261 - lr: 0.0010 - 8s/epoch - 210ms/step
Epoch 52/100
36/36 - 8s - loss: 0.0800 - accuracy: 0.2000 - val_loss: 0.0802 - val_accuracy: 0.8189 - lr: 0.0010 - 8s/epoch - 211ms/step
Epoch 53/100
36/36 - 8s - loss: 0.0800 - accuracy: 0.1995 - val_loss: 0.0803 - val_accuracy: 0.0256 - lr: 0.0010 - 8s/epoch - 211ms/step
Epoch 54/100
36/36 - 8s - loss: 0.0800 - accuracy: 0.1986 - val_loss: 0.0801 - val_accuracy: 0.8200 - lr: 0.0010 - 8s/epoch - 210ms/step
Epoch 55/100
36/36 - 8s - loss: 0.0800 - accuracy: 0.2000 - val_loss: 0.0800 - val_accuracy: 0.8194 - lr: 0.0010 - 8s/epoch - 211ms/step
Epoch 56/100
36/36 - 8s - loss: 0.0800 - accuracy: 0.1989 - val_loss: 0.0802 - val_accuracy: 0.0663 - lr: 0.0010 - 8s/epoch - 210ms/step
Epoch 57/100
36/36 - 8s - loss: 0.0800 - accuracy: 0.1993 - val_loss: 0.0802 - val_accuracy: 0.8190 - lr: 0.0010 - 8s/epoch - 211ms/step
Epoch 58/100
36/36 - 8s - loss: 0.0800 - accuracy: 0.2000 - val_loss: 0.0802 - val_accuracy: 0.8187 - lr: 0.0010 - 8s/epoch - 211ms/step
Epoch 59/100
36/36 - 8s - loss: 0.0800 - accuracy: 0.1982 - val_loss: 0.0804 - val_accuracy: 0.0080 - lr: 0.0010 - 8s/epoch - 210ms/step
Epoch 60/100
36/36 - 8s - loss: 0.0800 - accuracy: 0.2000 - val_loss: 0.0805 - val_accuracy: 0.0078 - lr: 0.0010 - 8s/epoch - 210ms/step
Epoch 61/100
36/36 - 8s - loss: 0.0800 - accuracy: 0.2000 - val_loss: 0.0805 - val_accuracy: 0.0080 - lr: 0.0010 - 8s/epoch - 210ms/step
Epoch 62/100
36/36 - 8s - loss: 0.0800 - accuracy: 0.2000 - val_loss: 0.0803 - val_accuracy: 0.0083 - lr: 0.0010 - 8s/epoch - 210ms/step
Epoch 63/100
36/36 - 8s - loss: 0.0800 - accuracy: 0.2000 - val_loss: 0.0803 - val_accuracy: 0.0080 - lr: 0.0010 - 8s/epoch - 210ms/step
Epoch 64/100
36/36 - 8s - loss: 0.0800 - accuracy: 0.1995 - val_loss: 0.0805 - val_accuracy: 0.0080 - lr: 0.0010 - 8s/epoch - 210ms/step
Epoch 65/100
36/36 - 8s - loss: 0.0800 - accuracy: 0.2000 - val_loss: 0.0803 - val_accuracy: 0.0129 - lr: 0.0010 - 8s/epoch - 210ms/step
Epoch 66/100
36/36 - 8s - loss: 0.0800 - accuracy: 0.2003 - val_loss: 0.0805 - val_accuracy: 0.0661 - lr: 0.0010 - 8s/epoch - 210ms/step
Epoch 67/100
36/36 - 8s - loss: 0.0800 - accuracy: 0.2013 - val_loss: 0.0805 - val_accuracy: 0.0258 - lr: 0.0010 - 8s/epoch - 211ms/step
Epoch 68/100
36/36 - 8s - loss: 0.0800 - accuracy: 0.2000 - val_loss: 0.0805 - val_accuracy: 0.0259 - lr: 0.0010 - 8s/epoch - 211ms/step
Epoch 69/100
36/36 - 8s - loss: 0.0800 - accuracy: 0.2000 - val_loss: 0.0803 - val_accuracy: 0.0304 - lr: 0.0010 - 8s/epoch - 210ms/step
Epoch 70/100
36/36 - 8s - loss: 0.0800 - accuracy: 0.2000 - val_loss: 0.0805 - val_accuracy: 0.0708 - lr: 0.0010 - 8s/epoch - 210ms/step
Epoch 71/100
36/36 - 8s - loss: 0.0800 - accuracy: 0.2000 - val_loss: 0.0804 - val_accuracy: 0.0789 - lr: 0.0010 - 8s/epoch - 210ms/step
Epoch 72/100
36/36 - 8s - loss: 0.0800 - accuracy: 0.2000 - val_loss: 0.0803 - val_accuracy: 0.0792 - lr: 0.0010 - 8s/epoch - 210ms/step
Epoch 73/100
36/36 - 8s - loss: 0.0800 - accuracy: 0.2000 - val_loss: 0.0803 - val_accuracy: 0.0792 - lr: 0.0010 - 8s/epoch - 211ms/step
Epoch 74/100
36/36 - 8s - loss: 0.0800 - accuracy: 0.2003 - val_loss: 0.0804 - val_accuracy: 0.0309 - lr: 0.0010 - 8s/epoch - 210ms/step
Epoch 75/100
36/36 - 8s - loss: 0.0800 - accuracy: 0.1994 - val_loss: 0.0804 - val_accuracy: 0.0127 - lr: 0.0010 - 8s/epoch - 210ms/step
Epoch 76/100
36/36 - 8s - loss: 0.0800 - accuracy: 0.1990 - val_loss: 0.0803 - val_accuracy: 0.8238 - lr: 0.0010 - 8s/epoch - 210ms/step
Epoch 77/100
36/36 - 8s - loss: 0.0800 - accuracy: 0.1982 - val_loss: 0.0805 - val_accuracy: 0.0736 - lr: 0.0010 - 8s/epoch - 211ms/step
Epoch 78/100
36/36 - 8s - loss: 0.0800 - accuracy: 0.1990 - val_loss: 0.0805 - val_accuracy: 0.0655 - lr: 0.0010 - 8s/epoch - 210ms/step
Epoch 79/100
36/36 - 8s - loss: 0.0800 - accuracy: 0.2000 - val_loss: 0.0804 - val_accuracy: 0.0655 - lr: 0.0010 - 8s/epoch - 210ms/step
Epoch 80/100
36/36 - 8s - loss: 0.0800 - accuracy: 0.1996 - val_loss: 0.0804 - val_accuracy: 0.0304 - lr: 0.0010 - 8s/epoch - 211ms/step
Epoch 81/100
36/36 - 8s - loss: 0.0800 - accuracy: 0.1998 - val_loss: 0.0805 - val_accuracy: 0.0127 - lr: 0.0010 - 8s/epoch - 211ms/step
Epoch 82/100
36/36 - 8s - loss: 0.0800 - accuracy: 0.1991 - val_loss: 0.0804 - val_accuracy: 0.0081 - lr: 0.0010 - 8s/epoch - 211ms/step
Epoch 83/100
36/36 - 8s - loss: 0.0800 - accuracy: 0.2000 - val_loss: 0.0804 - val_accuracy: 0.0707 - lr: 0.0010 - 8s/epoch - 210ms/step
Epoch 84/100
36/36 - 8s - loss: 0.0800 - accuracy: 0.2005 - val_loss: 0.0805 - val_accuracy: 0.0079 - lr: 0.0010 - 8s/epoch - 210ms/step
Epoch 85/100
36/36 - 8s - loss: 0.0800 - accuracy: 0.2000 - val_loss: 0.0806 - val_accuracy: 0.0076 - lr: 0.0010 - 8s/epoch - 211ms/step
Epoch 86/100
36/36 - 8s - loss: 0.0800 - accuracy: 0.2000 - val_loss: 0.0807 - val_accuracy: 0.0076 - lr: 0.0010 - 8s/epoch - 210ms/step
Epoch 87/100
36/36 - 8s - loss: 0.0800 - accuracy: 0.1995 - val_loss: 0.0808 - val_accuracy: 0.0075 - lr: 0.0010 - 8s/epoch - 210ms/step
Epoch 88/100
36/36 - 8s - loss: 0.0800 - accuracy: 0.1996 - val_loss: 0.0806 - val_accuracy: 0.0254 - lr: 0.0010 - 8s/epoch - 210ms/step
Epoch 89/100
36/36 - 8s - loss: 0.0800 - accuracy: 0.1977 - val_loss: 0.0804 - val_accuracy: 0.0656 - lr: 0.0010 - 8s/epoch - 212ms/step
Epoch 90/100
36/36 - 8s - loss: 0.0800 - accuracy: 0.1986 - val_loss: 0.0805 - val_accuracy: 0.0735 - lr: 0.0010 - 8s/epoch - 210ms/step
Epoch 91/100
36/36 - 8s - loss: 0.0800 - accuracy: 0.1984 - val_loss: 0.0805 - val_accuracy: 0.0656 - lr: 0.0010 - 8s/epoch - 210ms/step
Epoch 92/100
36/36 - 8s - loss: 0.0800 - accuracy: 0.1999 - val_loss: 0.0804 - val_accuracy: 0.0738 - lr: 0.0010 - 8s/epoch - 211ms/step
Epoch 93/100
36/36 - 8s - loss: 0.0800 - accuracy: 0.1988 - val_loss: 0.0802 - val_accuracy: 0.8187 - lr: 0.0010 - 8s/epoch - 210ms/step
Epoch 94/100
36/36 - 8s - loss: 0.0800 - accuracy: 0.1990 - val_loss: 0.0804 - val_accuracy: 0.0655 - lr: 0.0010 - 8s/epoch - 210ms/step
Epoch 95/100
36/36 - 8s - loss: 0.0800 - accuracy: 0.1985 - val_loss: 0.0804 - val_accuracy: 0.0075 - lr: 0.0010 - 8s/epoch - 211ms/step
Epoch 96/100
36/36 - 8s - loss: 0.0800 - accuracy: 0.2000 - val_loss: 0.0803 - val_accuracy: 0.8188 - lr: 0.0010 - 8s/epoch - 210ms/step
Epoch 97/100
36/36 - 8s - loss: 0.0800 - accuracy: 0.1985 - val_loss: 0.0804 - val_accuracy: 0.0074 - lr: 0.0010 - 8s/epoch - 210ms/step
Epoch 98/100
36/36 - 8s - loss: 0.0800 - accuracy: 0.1992 - val_loss: 0.0798 - val_accuracy: 0.8209 - lr: 0.0010 - 8s/epoch - 210ms/step
Epoch 99/100
36/36 - 8s - loss: 0.0800 - accuracy: 0.1993 - val_loss: 0.0799 - val_accuracy: 0.0766 - lr: 0.0010 - 8s/epoch - 210ms/step
Epoch 100/100
36/36 - 8s - loss: 0.0800 - accuracy: 0.1989 - val_loss: 0.0798 - val_accuracy: 0.8214 - lr: 0.0010 - 8s/epoch - 212ms/step
Loss: kullback_leibler_divergence
Epoch number: 75
fitting with batch size: 20
Epoch 1/75
4378/4378 - 76s - loss: 1.6097 - accuracy: 0.1988 - val_loss: 1.6375 - val_accuracy: 0.0258 - lr: 0.0010 - 76s/epoch - 17ms/step
Epoch 2/75
4378/4378 - 74s - loss: 1.6096 - accuracy: 0.2011 - val_loss: 1.5901 - val_accuracy: 0.8259 - lr: 0.0010 - 74s/epoch - 17ms/step
Epoch 3/75
4378/4378 - 74s - loss: 1.6096 - accuracy: 0.1998 - val_loss: 1.6400 - val_accuracy: 0.8239 - lr: 0.0010 - 74s/epoch - 17ms/step
Epoch 4/75
4378/4378 - 74s - loss: 1.6096 - accuracy: 0.1970 - val_loss: 1.6009 - val_accuracy: 0.8219 - lr: 0.0010 - 74s/epoch - 17ms/step
Epoch 5/75
4378/4378 - 74s - loss: 1.6096 - accuracy: 0.1991 - val_loss: 1.6521 - val_accuracy: 0.0658 - lr: 0.0010 - 74s/epoch - 17ms/step
Epoch 6/75
4378/4378 - 74s - loss: 1.6096 - accuracy: 0.1992 - val_loss: 1.6025 - val_accuracy: 0.8218 - lr: 0.0010 - 74s/epoch - 17ms/step
Epoch 7/75
4378/4378 - 74s - loss: 1.6096 - accuracy: 0.1983 - val_loss: 1.6240 - val_accuracy: 0.0285 - lr: 0.0010 - 74s/epoch - 17ms/step
Epoch 8/75
4378/4378 - 74s - loss: 1.6097 - accuracy: 0.1992 - val_loss: 1.6501 - val_accuracy: 0.0655 - lr: 0.0010 - 74s/epoch - 17ms/step
Epoch 9/75
4378/4378 - 74s - loss: 1.6096 - accuracy: 0.1988 - val_loss: 1.6602 - val_accuracy: 0.0735 - lr: 0.0010 - 74s/epoch - 17ms/step
Epoch 10/75
4378/4378 - 74s - loss: 1.6096 - accuracy: 0.2016 - val_loss: 1.6663 - val_accuracy: 0.0256 - lr: 0.0010 - 74s/epoch - 17ms/step
Epoch 11/75
4378/4378 - 74s - loss: 1.6097 - accuracy: 0.2007 - val_loss: 1.6716 - val_accuracy: 0.0081 - lr: 0.0010 - 74s/epoch - 17ms/step
Epoch 12/75
4378/4378 - 74s - loss: 1.6096 - accuracy: 0.1979 - val_loss: 1.6556 - val_accuracy: 0.0736 - lr: 0.0010 - 74s/epoch - 17ms/step
Epoch 13/75
4378/4378 - 74s - loss: 1.6096 - accuracy: 0.1999 - val_loss: 1.6632 - val_accuracy: 0.0079 - lr: 0.0010 - 74s/epoch - 17ms/step
Epoch 14/75
4378/4378 - 74s - loss: 1.6096 - accuracy: 0.1976 - val_loss: 1.6700 - val_accuracy: 0.0257 - lr: 0.0010 - 74s/epoch - 17ms/step
Epoch 15/75
4378/4378 - 74s - loss: 1.6097 - accuracy: 0.1981 - val_loss: 1.6599 - val_accuracy: 0.0075 - lr: 0.0010 - 74s/epoch - 17ms/step
Epoch 16/75
4378/4378 - 74s - loss: 1.6097 - accuracy: 0.1972 - val_loss: 1.6556 - val_accuracy: 0.0736 - lr: 0.0010 - 74s/epoch - 17ms/step
Epoch 17/75
4378/4378 - 74s - loss: 1.6096 - accuracy: 0.2008 - val_loss: 1.6486 - val_accuracy: 0.0254 - lr: 0.0010 - 74s/epoch - 17ms/step
Epoch 18/75
4378/4378 - 74s - loss: 1.6096 - accuracy: 0.1997 - val_loss: 1.6167 - val_accuracy: 0.8238 - lr: 0.0010 - 74s/epoch - 17ms/step
Epoch 19/75
4378/4378 - 74s - loss: 1.6097 - accuracy: 0.2005 - val_loss: 1.6364 - val_accuracy: 0.0764 - lr: 0.0010 - 74s/epoch - 17ms/step
Epoch 20/75
4378/4378 - 74s - loss: 1.6096 - accuracy: 0.2026 - val_loss: 1.6804 - val_accuracy: 0.0737 - lr: 0.0010 - 74s/epoch - 17ms/step
Epoch 21/75
4378/4378 - 74s - loss: 1.6096 - accuracy: 0.2000 - val_loss: 1.6456 - val_accuracy: 0.0710 - lr: 0.0010 - 74s/epoch - 17ms/step
Epoch 22/75
4378/4378 - 74s - loss: 1.6096 - accuracy: 0.1995 - val_loss: 1.6519 - val_accuracy: 0.0738 - lr: 0.0010 - 74s/epoch - 17ms/step
Epoch 23/75
4378/4378 - 74s - loss: 1.6096 - accuracy: 0.2012 - val_loss: 1.6484 - val_accuracy: 0.0748 - lr: 0.0010 - 74s/epoch - 17ms/step
Epoch 24/75
4378/4378 - 74s - loss: 1.6097 - accuracy: 0.1985 - val_loss: 1.6541 - val_accuracy: 0.0714 - lr: 0.0010 - 74s/epoch - 17ms/step
Epoch 25/75
4378/4378 - 74s - loss: 1.6097 - accuracy: 0.2006 - val_loss: 1.6625 - val_accuracy: 0.0738 - lr: 0.0010 - 74s/epoch - 17ms/step
Epoch 26/75
4378/4378 - 74s - loss: 1.6096 - accuracy: 0.1981 - val_loss: 1.6573 - val_accuracy: 0.0736 - lr: 0.0010 - 74s/epoch - 17ms/step
Epoch 27/75
4378/4378 - 74s - loss: 1.6096 - accuracy: 0.1987 - val_loss: 1.6667 - val_accuracy: 0.0074 - lr: 0.0010 - 74s/epoch - 17ms/step
Epoch 28/75
4378/4378 - 74s - loss: 1.6097 - accuracy: 0.1988 - val_loss: 1.6433 - val_accuracy: 0.8187 - lr: 0.0010 - 74s/epoch - 17ms/step
Epoch 29/75
4378/4378 - 74s - loss: 1.6097 - accuracy: 0.1966 - val_loss: 1.6367 - val_accuracy: 0.8242 - lr: 0.0010 - 74s/epoch - 17ms/step
Epoch 30/75
4378/4378 - 74s - loss: 1.6096 - accuracy: 0.2001 - val_loss: 1.6647 - val_accuracy: 0.0259 - lr: 0.0010 - 74s/epoch - 17ms/step
Epoch 31/75
4378/4378 - 74s - loss: 1.6096 - accuracy: 0.2007 - val_loss: 1.6611 - val_accuracy: 0.0123 - lr: 0.0010 - 74s/epoch - 17ms/step
Epoch 32/75
4378/4378 - 74s - loss: 1.6096 - accuracy: 0.1999 - val_loss: 1.6541 - val_accuracy: 0.0784 - lr: 0.0010 - 74s/epoch - 17ms/step
Epoch 33/75
4378/4378 - 74s - loss: 1.6096 - accuracy: 0.2000 - val_loss: 1.6392 - val_accuracy: 0.0678 - lr: 0.0010 - 74s/epoch - 17ms/step
Epoch 34/75
4378/4378 - 74s - loss: 1.6096 - accuracy: 0.1995 - val_loss: 1.6368 - val_accuracy: 0.0659 - lr: 0.0010 - 74s/epoch - 17ms/step
Epoch 35/75
4378/4378 - 74s - loss: 1.6096 - accuracy: 0.2003 - val_loss: 1.6289 - val_accuracy: 0.8190 - lr: 0.0010 - 74s/epoch - 17ms/step
Epoch 36/75
4378/4378 - 74s - loss: 1.6096 - accuracy: 0.1986 - val_loss: 1.6787 - val_accuracy: 0.0656 - lr: 0.0010 - 74s/epoch - 17ms/step
Epoch 37/75
4378/4378 - 74s - loss: 1.6097 - accuracy: 0.1991 - val_loss: 1.6672 - val_accuracy: 0.0301 - lr: 0.0010 - 74s/epoch - 17ms/step
Epoch 38/75
4378/4378 - 74s - loss: 1.6096 - accuracy: 0.1988 - val_loss: 1.6387 - val_accuracy: 0.8241 - lr: 0.0010 - 74s/epoch - 17ms/step
Epoch 39/75
4378/4378 - 74s - loss: 1.6096 - accuracy: 0.2008 - val_loss: 1.6089 - val_accuracy: 0.0104 - lr: 0.0010 - 74s/epoch - 17ms/step
Epoch 40/75
4378/4378 - 74s - loss: 1.6096 - accuracy: 0.1983 - val_loss: 1.6714 - val_accuracy: 0.0304 - lr: 0.0010 - 74s/epoch - 17ms/step
Epoch 41/75
4378/4378 - 74s - loss: 1.6096 - accuracy: 0.1991 - val_loss: 1.6442 - val_accuracy: 0.8190 - lr: 0.0010 - 74s/epoch - 17ms/step
Epoch 42/75
4378/4378 - 74s - loss: 1.6096 - accuracy: 0.1998 - val_loss: 1.6095 - val_accuracy: 0.0765 - lr: 0.0010 - 74s/epoch - 17ms/step
Epoch 43/75
4378/4378 - 74s - loss: 1.6096 - accuracy: 0.1978 - val_loss: 1.6345 - val_accuracy: 0.8187 - lr: 0.0010 - 74s/epoch - 17ms/step
Epoch 44/75
4378/4378 - 74s - loss: 1.6096 - accuracy: 0.2003 - val_loss: 1.6443 - val_accuracy: 0.0258 - lr: 0.0010 - 74s/epoch - 17ms/step
Epoch 45/75
4378/4378 - 74s - loss: 1.6097 - accuracy: 0.1966 - val_loss: 1.6529 - val_accuracy: 0.0075 - lr: 0.0010 - 74s/epoch - 17ms/step
Epoch 46/75
4378/4378 - 74s - loss: 1.6097 - accuracy: 0.1970 - val_loss: 1.6257 - val_accuracy: 0.0680 - lr: 0.0010 - 74s/epoch - 17ms/step
Epoch 47/75
4378/4378 - 74s - loss: 1.6096 - accuracy: 0.1991 - val_loss: 1.6556 - val_accuracy: 0.0084 - lr: 0.0010 - 74s/epoch - 17ms/step
Epoch 48/75
4378/4378 - 74s - loss: 1.6096 - accuracy: 0.1997 - val_loss: 1.6694 - val_accuracy: 0.0075 - lr: 0.0010 - 74s/epoch - 17ms/step
Epoch 49/75
4378/4378 - 74s - loss: 1.6097 - accuracy: 0.1985 - val_loss: 1.6543 - val_accuracy: 0.0076 - lr: 0.0010 - 74s/epoch - 17ms/step
Epoch 50/75
4378/4378 - 74s - loss: 1.6096 - accuracy: 0.1978 - val_loss: 1.6131 - val_accuracy: 0.8215 - lr: 0.0010 - 74s/epoch - 17ms/step
Epoch 51/75
4378/4378 - 74s - loss: 1.6096 - accuracy: 0.1992 - val_loss: 1.6293 - val_accuracy: 0.0682 - lr: 0.0010 - 74s/epoch - 17ms/step
Epoch 52/75
4378/4378 - 74s - loss: 1.6096 - accuracy: 0.1989 - val_loss: 1.6474 - val_accuracy: 0.8240 - lr: 0.0010 - 74s/epoch - 17ms/step
Epoch 53/75
4378/4378 - 74s - loss: 1.6097 - accuracy: 0.1978 - val_loss: 1.6516 - val_accuracy: 0.8187 - lr: 0.0010 - 74s/epoch - 17ms/step
Epoch 54/75
4378/4378 - 74s - loss: 1.6096 - accuracy: 0.1996 - val_loss: 1.6018 - val_accuracy: 0.8219 - lr: 0.0010 - 74s/epoch - 17ms/step
Epoch 55/75
4378/4378 - 74s - loss: 1.6097 - accuracy: 0.1959 - val_loss: 1.6422 - val_accuracy: 0.0255 - lr: 0.0010 - 74s/epoch - 17ms/step
Epoch 56/75
4378/4378 - 74s - loss: 1.6096 - accuracy: 0.2001 - val_loss: 1.6599 - val_accuracy: 0.0735 - lr: 0.0010 - 74s/epoch - 17ms/step
Epoch 57/75
4378/4378 - 74s - loss: 1.6096 - accuracy: 0.1989 - val_loss: 1.5997 - val_accuracy: 0.8223 - lr: 0.0010 - 74s/epoch - 17ms/step
Epoch 58/75
4378/4378 - 73s - loss: 1.6096 - accuracy: 0.1986 - val_loss: 1.6523 - val_accuracy: 0.0741 - lr: 0.0010 - 73s/epoch - 17ms/step
Epoch 59/75
4378/4378 - 74s - loss: 1.6096 - accuracy: 0.1987 - val_loss: 1.6464 - val_accuracy: 0.0254 - lr: 0.0010 - 74s/epoch - 17ms/step
Epoch 60/75
4378/4378 - 74s - loss: 1.6096 - accuracy: 0.1995 - val_loss: 1.6662 - val_accuracy: 0.0655 - lr: 0.0010 - 74s/epoch - 17ms/step
Epoch 61/75
4378/4378 - 73s - loss: 1.6096 - accuracy: 0.1993 - val_loss: 1.6642 - val_accuracy: 0.0303 - lr: 0.0010 - 73s/epoch - 17ms/step
Epoch 62/75
4378/4378 - 74s - loss: 1.6097 - accuracy: 0.1987 - val_loss: 1.6574 - val_accuracy: 0.0260 - lr: 0.0010 - 74s/epoch - 17ms/step
Epoch 63/75
4378/4378 - 74s - loss: 1.6096 - accuracy: 0.2013 - val_loss: 1.6789 - val_accuracy: 0.0705 - lr: 0.0010 - 74s/epoch - 17ms/step
Epoch 64/75
4378/4378 - 74s - loss: 1.6097 - accuracy: 0.1971 - val_loss: 1.6107 - val_accuracy: 0.0693 - lr: 0.0010 - 74s/epoch - 17ms/step
Epoch 65/75
4378/4378 - 74s - loss: 1.6097 - accuracy: 0.1964 - val_loss: 1.6450 - val_accuracy: 0.0744 - lr: 0.0010 - 74s/epoch - 17ms/step
Epoch 66/75
4378/4378 - 74s - loss: 1.6096 - accuracy: 0.1995 - val_loss: 1.6593 - val_accuracy: 0.0739 - lr: 0.0010 - 74s/epoch - 17ms/step
Epoch 67/75
4378/4378 - 74s - loss: 1.6096 - accuracy: 0.1997 - val_loss: 1.6723 - val_accuracy: 0.0735 - lr: 0.0010 - 74s/epoch - 17ms/step
Epoch 68/75
4378/4378 - 74s - loss: 1.6096 - accuracy: 0.2003 - val_loss: 1.6550 - val_accuracy: 0.0256 - lr: 0.0010 - 74s/epoch - 17ms/step
Epoch 69/75
4378/4378 - 74s - loss: 1.6096 - accuracy: 0.2003 - val_loss: 1.6428 - val_accuracy: 0.0284 - lr: 0.0010 - 74s/epoch - 17ms/step
Epoch 70/75
4378/4378 - 74s - loss: 1.6096 - accuracy: 0.1996 - val_loss: 1.6617 - val_accuracy: 0.0075 - lr: 0.0010 - 74s/epoch - 17ms/step
Epoch 71/75
4378/4378 - 74s - loss: 1.6096 - accuracy: 0.1972 - val_loss: 1.6535 - val_accuracy: 0.0659 - lr: 0.0010 - 74s/epoch - 17ms/step
Epoch 72/75
4378/4378 - 74s - loss: 1.6096 - accuracy: 0.1991 - val_loss: 1.6385 - val_accuracy: 0.8242 - lr: 0.0010 - 74s/epoch - 17ms/step
Epoch 73/75
4378/4378 - 74s - loss: 1.6097 - accuracy: 0.1992 - val_loss: 1.6415 - val_accuracy: 0.8242 - lr: 0.0010 - 74s/epoch - 17ms/step
Epoch 74/75
4378/4378 - 74s - loss: 1.6097 - accuracy: 0.1990 - val_loss: 1.6467 - val_accuracy: 0.0078 - lr: 0.0010 - 74s/epoch - 17ms/step
Epoch 75/75
4378/4378 - 74s - loss: 1.6096 - accuracy: 0.1996 - val_loss: 1.6319 - val_accuracy: 0.0308 - lr: 0.0010 - 74s/epoch - 17ms/step
fitting with batch size: 100
Epoch 1/75
876/876 - 22s - loss: 1.6095 - accuracy: 0.1989 - val_loss: 1.6468 - val_accuracy: 0.0259 - lr: 0.0010 - 22s/epoch - 25ms/step
Epoch 2/75
876/876 - 18s - loss: 1.6095 - accuracy: 0.1980 - val_loss: 1.6102 - val_accuracy: 0.8262 - lr: 0.0010 - 18s/epoch - 21ms/step
Epoch 3/75
876/876 - 18s - loss: 1.6095 - accuracy: 0.2016 - val_loss: 1.6435 - val_accuracy: 0.8245 - lr: 0.0010 - 18s/epoch - 21ms/step
Epoch 4/75
876/876 - 18s - loss: 1.6095 - accuracy: 0.1966 - val_loss: 1.6472 - val_accuracy: 0.0788 - lr: 0.0010 - 18s/epoch - 21ms/step
Epoch 5/75
876/876 - 18s - loss: 1.6095 - accuracy: 0.1966 - val_loss: 1.5907 - val_accuracy: 0.8219 - lr: 0.0010 - 18s/epoch - 21ms/step
Epoch 6/75
876/876 - 18s - loss: 1.6095 - accuracy: 0.2007 - val_loss: 1.6106 - val_accuracy: 0.0745 - lr: 0.0010 - 18s/epoch - 21ms/step
Epoch 7/75
876/876 - 18s - loss: 1.6095 - accuracy: 0.1999 - val_loss: 1.6542 - val_accuracy: 0.0254 - lr: 0.0010 - 18s/epoch - 21ms/step
Epoch 8/75
876/876 - 18s - loss: 1.6095 - accuracy: 0.2012 - val_loss: 1.6343 - val_accuracy: 0.0767 - lr: 0.0010 - 18s/epoch - 21ms/step
Epoch 9/75
876/876 - 18s - loss: 1.6095 - accuracy: 0.1998 - val_loss: 1.6228 - val_accuracy: 0.0741 - lr: 0.0010 - 18s/epoch - 21ms/step
Epoch 10/75
876/876 - 18s - loss: 1.6095 - accuracy: 0.1992 - val_loss: 1.6568 - val_accuracy: 0.0735 - lr: 0.0010 - 18s/epoch - 21ms/step
Epoch 11/75
876/876 - 18s - loss: 1.6095 - accuracy: 0.1989 - val_loss: 1.6437 - val_accuracy: 0.8236 - lr: 0.0010 - 18s/epoch - 21ms/step
Epoch 12/75
876/876 - 18s - loss: 1.6095 - accuracy: 0.1983 - val_loss: 1.5999 - val_accuracy: 0.0110 - lr: 0.0010 - 18s/epoch - 21ms/step
Epoch 13/75
876/876 - 18s - loss: 1.6095 - accuracy: 0.2001 - val_loss: 1.6344 - val_accuracy: 0.8192 - lr: 0.0010 - 18s/epoch - 21ms/step
Epoch 14/75
876/876 - 18s - loss: 1.6095 - accuracy: 0.1983 - val_loss: 1.6585 - val_accuracy: 0.0738 - lr: 0.0010 - 18s/epoch - 21ms/step
Epoch 15/75
876/876 - 18s - loss: 1.6095 - accuracy: 0.1978 - val_loss: 1.6621 - val_accuracy: 0.0737 - lr: 0.0010 - 18s/epoch - 21ms/step
Epoch 16/75
876/876 - 18s - loss: 1.6095 - accuracy: 0.2016 - val_loss: 1.6785 - val_accuracy: 0.0735 - lr: 0.0010 - 18s/epoch - 21ms/step
Epoch 17/75
876/876 - 18s - loss: 1.6095 - accuracy: 0.2012 - val_loss: 1.6297 - val_accuracy: 0.0757 - lr: 0.0010 - 18s/epoch - 21ms/step
Epoch 18/75
876/876 - 18s - loss: 1.6095 - accuracy: 0.1986 - val_loss: 1.6448 - val_accuracy: 0.0255 - lr: 0.0010 - 18s/epoch - 21ms/step
Epoch 19/75
876/876 - 18s - loss: 1.6095 - accuracy: 0.2002 - val_loss: 1.6572 - val_accuracy: 0.0655 - lr: 0.0010 - 18s/epoch - 21ms/step
Epoch 20/75
876/876 - 17s - loss: 1.6096 - accuracy: 0.1975 - val_loss: 1.6282 - val_accuracy: 0.0661 - lr: 0.0010 - 17s/epoch - 20ms/step
Epoch 21/75
876/876 - 18s - loss: 1.6095 - accuracy: 0.1977 - val_loss: 1.6609 - val_accuracy: 0.0076 - lr: 0.0010 - 18s/epoch - 21ms/step
Epoch 22/75
876/876 - 18s - loss: 1.6095 - accuracy: 0.2015 - val_loss: 1.6612 - val_accuracy: 0.0706 - lr: 0.0010 - 18s/epoch - 21ms/step
Epoch 23/75
876/876 - 18s - loss: 1.6095 - accuracy: 0.1978 - val_loss: 1.6517 - val_accuracy: 0.0789 - lr: 0.0010 - 18s/epoch - 21ms/step
Epoch 24/75
876/876 - 18s - loss: 1.6095 - accuracy: 0.1967 - val_loss: 1.6552 - val_accuracy: 0.0079 - lr: 0.0010 - 18s/epoch - 21ms/step
Epoch 25/75
876/876 - 18s - loss: 1.6095 - accuracy: 0.1989 - val_loss: 1.6147 - val_accuracy: 0.0104 - lr: 0.0010 - 18s/epoch - 21ms/step
Epoch 26/75
876/876 - 18s - loss: 1.6095 - accuracy: 0.1977 - val_loss: 1.6514 - val_accuracy: 0.0659 - lr: 0.0010 - 18s/epoch - 21ms/step
Epoch 27/75
876/876 - 18s - loss: 1.6096 - accuracy: 0.1980 - val_loss: 1.6437 - val_accuracy: 0.0733 - lr: 0.0010 - 18s/epoch - 21ms/step
Epoch 28/75
876/876 - 18s - loss: 1.6095 - accuracy: 0.2003 - val_loss: 1.6326 - val_accuracy: 0.0335 - lr: 0.0010 - 18s/epoch - 21ms/step
Epoch 29/75
876/876 - 18s - loss: 1.6095 - accuracy: 0.2003 - val_loss: 1.6579 - val_accuracy: 0.0256 - lr: 0.0010 - 18s/epoch - 21ms/step
Epoch 30/75
876/876 - 18s - loss: 1.6095 - accuracy: 0.2000 - val_loss: 1.6779 - val_accuracy: 0.0257 - lr: 0.0010 - 18s/epoch - 21ms/step
Epoch 31/75
876/876 - 18s - loss: 1.6095 - accuracy: 0.1991 - val_loss: 1.6512 - val_accuracy: 0.0710 - lr: 0.0010 - 18s/epoch - 21ms/step
Epoch 32/75
876/876 - 18s - loss: 1.6095 - accuracy: 0.2001 - val_loss: 1.6132 - val_accuracy: 0.0685 - lr: 0.0010 - 18s/epoch - 21ms/step
Epoch 33/75
876/876 - 18s - loss: 1.6095 - accuracy: 0.2001 - val_loss: 1.6446 - val_accuracy: 0.8192 - lr: 0.0010 - 18s/epoch - 21ms/step
Epoch 34/75
876/876 - 18s - loss: 1.6095 - accuracy: 0.2003 - val_loss: 1.6160 - val_accuracy: 0.8210 - lr: 0.0010 - 18s/epoch - 21ms/step
Epoch 35/75
876/876 - 18s - loss: 1.6095 - accuracy: 0.1983 - val_loss: 1.6429 - val_accuracy: 0.0659 - lr: 0.0010 - 18s/epoch - 21ms/step
Epoch 36/75
876/876 - 18s - loss: 1.6095 - accuracy: 0.1981 - val_loss: 1.6216 - val_accuracy: 0.0104 - lr: 0.0010 - 18s/epoch - 21ms/step
Epoch 37/75
876/876 - 18s - loss: 1.6095 - accuracy: 0.1989 - val_loss: 1.6453 - val_accuracy: 0.0661 - lr: 0.0010 - 18s/epoch - 21ms/step
Epoch 38/75
876/876 - 18s - loss: 1.6095 - accuracy: 0.1989 - val_loss: 1.6513 - val_accuracy: 0.0255 - lr: 0.0010 - 18s/epoch - 21ms/step
Epoch 39/75
876/876 - 18s - loss: 1.6095 - accuracy: 0.2000 - val_loss: 1.6531 - val_accuracy: 0.0742 - lr: 0.0010 - 18s/epoch - 21ms/step
Epoch 40/75
876/876 - 18s - loss: 1.6095 - accuracy: 0.1988 - val_loss: 1.6251 - val_accuracy: 0.0080 - lr: 0.0010 - 18s/epoch - 21ms/step
Epoch 41/75
876/876 - 18s - loss: 1.6095 - accuracy: 0.1994 - val_loss: 1.6127 - val_accuracy: 0.0691 - lr: 0.0010 - 18s/epoch - 21ms/step
Epoch 42/75
876/876 - 18s - loss: 1.6095 - accuracy: 0.1999 - val_loss: 1.6575 - val_accuracy: 0.0785 - lr: 0.0010 - 18s/epoch - 21ms/step
Epoch 43/75
876/876 - 18s - loss: 1.6095 - accuracy: 0.1996 - val_loss: 1.6464 - val_accuracy: 0.0662 - lr: 0.0010 - 18s/epoch - 21ms/step
Epoch 44/75
876/876 - 18s - loss: 1.6095 - accuracy: 0.1992 - val_loss: 1.6509 - val_accuracy: 0.0255 - lr: 0.0010 - 18s/epoch - 21ms/step
Epoch 45/75
876/876 - 18s - loss: 1.6095 - accuracy: 0.1994 - val_loss: 1.6515 - val_accuracy: 0.0659 - lr: 0.0010 - 18s/epoch - 21ms/step
Epoch 46/75
876/876 - 18s - loss: 1.6095 - accuracy: 0.2001 - val_loss: 1.6577 - val_accuracy: 0.0254 - lr: 0.0010 - 18s/epoch - 21ms/step
Epoch 47/75
876/876 - 18s - loss: 1.6095 - accuracy: 0.1978 - val_loss: 1.6335 - val_accuracy: 0.0737 - lr: 0.0010 - 18s/epoch - 21ms/step
Epoch 48/75
876/876 - 18s - loss: 1.6095 - accuracy: 0.1997 - val_loss: 1.6426 - val_accuracy: 0.0689 - lr: 0.0010 - 18s/epoch - 21ms/step
Epoch 49/75
876/876 - 18s - loss: 1.6095 - accuracy: 0.1995 - val_loss: 1.6074 - val_accuracy: 0.8225 - lr: 0.0010 - 18s/epoch - 21ms/step
Epoch 50/75
876/876 - 18s - loss: 1.6095 - accuracy: 0.1981 - val_loss: 1.6497 - val_accuracy: 0.0741 - lr: 0.0010 - 18s/epoch - 21ms/step
Epoch 51/75
876/876 - 18s - loss: 1.6095 - accuracy: 0.1988 - val_loss: 1.6294 - val_accuracy: 0.8188 - lr: 0.0010 - 18s/epoch - 21ms/step
Epoch 52/75
876/876 - 18s - loss: 1.6095 - accuracy: 0.2007 - val_loss: 1.6374 - val_accuracy: 0.0735 - lr: 0.0010 - 18s/epoch - 21ms/step
Epoch 53/75
876/876 - 18s - loss: 1.6095 - accuracy: 0.1974 - val_loss: 1.6471 - val_accuracy: 0.0704 - lr: 0.0010 - 18s/epoch - 21ms/step
Epoch 54/75
876/876 - 18s - loss: 1.6095 - accuracy: 0.1998 - val_loss: 1.6524 - val_accuracy: 0.0127 - lr: 0.0010 - 18s/epoch - 21ms/step
Epoch 55/75
876/876 - 18s - loss: 1.6095 - accuracy: 0.1993 - val_loss: 1.6613 - val_accuracy: 0.0658 - lr: 0.0010 - 18s/epoch - 21ms/step
Epoch 56/75
876/876 - 18s - loss: 1.6095 - accuracy: 0.2000 - val_loss: 1.6572 - val_accuracy: 0.0254 - lr: 0.0010 - 18s/epoch - 21ms/step
Epoch 57/75
876/876 - 18s - loss: 1.6095 - accuracy: 0.1976 - val_loss: 1.6554 - val_accuracy: 0.0254 - lr: 0.0010 - 18s/epoch - 21ms/step
Epoch 58/75
876/876 - 18s - loss: 1.6095 - accuracy: 0.2000 - val_loss: 1.6334 - val_accuracy: 0.8200 - lr: 0.0010 - 18s/epoch - 21ms/step
Epoch 59/75
876/876 - 18s - loss: 1.6095 - accuracy: 0.1999 - val_loss: 1.5874 - val_accuracy: 0.8225 - lr: 0.0010 - 18s/epoch - 21ms/step
Epoch 60/75
876/876 - 18s - loss: 1.6095 - accuracy: 0.1979 - val_loss: 1.6014 - val_accuracy: 0.8220 - lr: 0.0010 - 18s/epoch - 21ms/step
Epoch 61/75
876/876 - 18s - loss: 1.6095 - accuracy: 0.1958 - val_loss: 1.6543 - val_accuracy: 0.8188 - lr: 0.0010 - 18s/epoch - 21ms/step
Epoch 62/75
876/876 - 18s - loss: 1.6095 - accuracy: 0.1981 - val_loss: 1.6289 - val_accuracy: 0.0080 - lr: 0.0010 - 18s/epoch - 21ms/step
Epoch 63/75
876/876 - 18s - loss: 1.6095 - accuracy: 0.1990 - val_loss: 1.6526 - val_accuracy: 0.0258 - lr: 0.0010 - 18s/epoch - 21ms/step
Epoch 64/75
876/876 - 18s - loss: 1.6095 - accuracy: 0.2002 - val_loss: 1.6524 - val_accuracy: 0.8194 - lr: 0.0010 - 18s/epoch - 21ms/step
Epoch 65/75
876/876 - 18s - loss: 1.6095 - accuracy: 0.1973 - val_loss: 1.6227 - val_accuracy: 0.0284 - lr: 0.0010 - 18s/epoch - 21ms/step
Epoch 66/75
876/876 - 18s - loss: 1.6095 - accuracy: 0.1981 - val_loss: 1.6397 - val_accuracy: 0.8244 - lr: 0.0010 - 18s/epoch - 21ms/step
Epoch 67/75
876/876 - 18s - loss: 1.6095 - accuracy: 0.1995 - val_loss: 1.6425 - val_accuracy: 0.8245 - lr: 0.0010 - 18s/epoch - 21ms/step
Epoch 68/75
876/876 - 18s - loss: 1.6095 - accuracy: 0.1987 - val_loss: 1.6601 - val_accuracy: 0.0735 - lr: 0.0010 - 18s/epoch - 21ms/step
Epoch 69/75
876/876 - 18s - loss: 1.6095 - accuracy: 0.2010 - val_loss: 1.6247 - val_accuracy: 0.0102 - lr: 0.0010 - 18s/epoch - 21ms/step
Epoch 70/75
876/876 - 18s - loss: 1.6095 - accuracy: 0.2005 - val_loss: 1.6622 - val_accuracy: 0.0090 - lr: 0.0010 - 18s/epoch - 21ms/step
Epoch 71/75
876/876 - 18s - loss: 1.6095 - accuracy: 0.1975 - val_loss: 1.6357 - val_accuracy: 0.8198 - lr: 0.0010 - 18s/epoch - 21ms/step
Epoch 72/75
876/876 - 18s - loss: 1.6095 - accuracy: 0.1975 - val_loss: 1.6253 - val_accuracy: 0.0081 - lr: 0.0010 - 18s/epoch - 21ms/step
Epoch 73/75
876/876 - 18s - loss: 1.6095 - accuracy: 0.1974 - val_loss: 1.6471 - val_accuracy: 0.0125 - lr: 0.0010 - 18s/epoch - 21ms/step
Epoch 74/75
876/876 - 18s - loss: 1.6095 - accuracy: 0.1970 - val_loss: 1.6472 - val_accuracy: 0.0735 - lr: 0.0010 - 18s/epoch - 21ms/step
Epoch 75/75
876/876 - 18s - loss: 1.6095 - accuracy: 0.2017 - val_loss: 1.6384 - val_accuracy: 0.8238 - lr: 0.0010 - 18s/epoch - 21ms/step
fitting with batch size: 500
Epoch 1/75
176/176 - 11s - loss: 1.6095 - accuracy: 0.2013 - val_loss: 1.6531 - val_accuracy: 0.0738 - lr: 0.0010 - 11s/epoch - 64ms/step
Epoch 2/75
176/176 - 9s - loss: 1.6095 - accuracy: 0.1978 - val_loss: 1.6492 - val_accuracy: 0.0735 - lr: 0.0010 - 9s/epoch - 50ms/step
Epoch 3/75
176/176 - 9s - loss: 1.6095 - accuracy: 0.1983 - val_loss: 1.6451 - val_accuracy: 0.0735 - lr: 0.0010 - 9s/epoch - 50ms/step
Epoch 4/75
176/176 - 9s - loss: 1.6094 - accuracy: 0.1984 - val_loss: 1.6446 - val_accuracy: 0.8187 - lr: 0.0010 - 9s/epoch - 50ms/step
Epoch 5/75
176/176 - 9s - loss: 1.6095 - accuracy: 0.1995 - val_loss: 1.6166 - val_accuracy: 0.0771 - lr: 0.0010 - 9s/epoch - 50ms/step
Epoch 6/75
176/176 - 9s - loss: 1.6095 - accuracy: 0.1988 - val_loss: 1.6204 - val_accuracy: 0.0285 - lr: 0.0010 - 9s/epoch - 50ms/step
Epoch 7/75
176/176 - 9s - loss: 1.6095 - accuracy: 0.1997 - val_loss: 1.6394 - val_accuracy: 0.0739 - lr: 0.0010 - 9s/epoch - 50ms/step
Epoch 8/75
176/176 - 9s - loss: 1.6095 - accuracy: 0.1966 - val_loss: 1.6464 - val_accuracy: 0.0079 - lr: 0.0010 - 9s/epoch - 51ms/step
Epoch 9/75
176/176 - 9s - loss: 1.6095 - accuracy: 0.1973 - val_loss: 1.6420 - val_accuracy: 0.0079 - lr: 0.0010 - 9s/epoch - 50ms/step
Epoch 10/75
176/176 - 9s - loss: 1.6095 - accuracy: 0.1986 - val_loss: 1.6237 - val_accuracy: 0.0080 - lr: 0.0010 - 9s/epoch - 50ms/step
Epoch 11/75
176/176 - 9s - loss: 1.6095 - accuracy: 0.1972 - val_loss: 1.6184 - val_accuracy: 0.0259 - lr: 0.0010 - 9s/epoch - 50ms/step
Epoch 12/75
176/176 - 9s - loss: 1.6095 - accuracy: 0.1971 - val_loss: 1.6329 - val_accuracy: 0.0126 - lr: 0.0010 - 9s/epoch - 51ms/step
Epoch 13/75
176/176 - 9s - loss: 1.6095 - accuracy: 0.1967 - val_loss: 1.6146 - val_accuracy: 0.0254 - lr: 0.0010 - 9s/epoch - 50ms/step
Epoch 14/75
176/176 - 9s - loss: 1.6095 - accuracy: 0.1984 - val_loss: 1.6158 - val_accuracy: 0.0259 - lr: 0.0010 - 9s/epoch - 50ms/step
Epoch 15/75
176/176 - 9s - loss: 1.6095 - accuracy: 0.1972 - val_loss: 1.6201 - val_accuracy: 0.0254 - lr: 0.0010 - 9s/epoch - 50ms/step
Epoch 16/75
176/176 - 9s - loss: 1.6095 - accuracy: 0.1988 - val_loss: 1.6110 - val_accuracy: 0.0705 - lr: 0.0010 - 9s/epoch - 50ms/step
Epoch 17/75
176/176 - 9s - loss: 1.6095 - accuracy: 0.1993 - val_loss: 1.6171 - val_accuracy: 0.0108 - lr: 0.0010 - 9s/epoch - 50ms/step
Epoch 18/75
176/176 - 9s - loss: 1.6095 - accuracy: 0.1974 - val_loss: 1.6306 - val_accuracy: 0.0260 - lr: 0.0010 - 9s/epoch - 51ms/step
Epoch 19/75
176/176 - 9s - loss: 1.6095 - accuracy: 0.1967 - val_loss: 1.6104 - val_accuracy: 0.0691 - lr: 0.0010 - 9s/epoch - 51ms/step
Epoch 20/75
176/176 - 9s - loss: 1.6095 - accuracy: 0.1984 - val_loss: 1.6152 - val_accuracy: 0.0765 - lr: 0.0010 - 9s/epoch - 50ms/step
Epoch 21/75
176/176 - 9s - loss: 1.6095 - accuracy: 0.1970 - val_loss: 1.6181 - val_accuracy: 0.0760 - lr: 0.0010 - 9s/epoch - 50ms/step
Epoch 22/75
176/176 - 9s - loss: 1.6095 - accuracy: 0.1969 - val_loss: 1.6207 - val_accuracy: 0.0106 - lr: 0.0010 - 9s/epoch - 50ms/step
Epoch 23/75
176/176 - 9s - loss: 1.6095 - accuracy: 0.1978 - val_loss: 1.6546 - val_accuracy: 0.0308 - lr: 0.0010 - 9s/epoch - 50ms/step
Epoch 24/75
176/176 - 9s - loss: 1.6095 - accuracy: 0.1990 - val_loss: 1.6300 - val_accuracy: 0.0085 - lr: 0.0010 - 9s/epoch - 51ms/step
Epoch 25/75
176/176 - 9s - loss: 1.6095 - accuracy: 0.1976 - val_loss: 1.6427 - val_accuracy: 0.0790 - lr: 0.0010 - 9s/epoch - 50ms/step
Epoch 26/75
176/176 - 9s - loss: 1.6095 - accuracy: 0.1992 - val_loss: 1.6271 - val_accuracy: 0.0074 - lr: 0.0010 - 9s/epoch - 50ms/step
Epoch 27/75
176/176 - 9s - loss: 1.6095 - accuracy: 0.1987 - val_loss: 1.6166 - val_accuracy: 0.0757 - lr: 0.0010 - 9s/epoch - 50ms/step
Epoch 28/75
176/176 - 9s - loss: 1.6095 - accuracy: 0.1975 - val_loss: 1.6212 - val_accuracy: 0.0685 - lr: 0.0010 - 9s/epoch - 51ms/step
Epoch 29/75
176/176 - 9s - loss: 1.6095 - accuracy: 0.1983 - val_loss: 1.6238 - val_accuracy: 0.0682 - lr: 0.0010 - 9s/epoch - 50ms/step
Epoch 30/75
176/176 - 9s - loss: 1.6095 - accuracy: 0.1986 - val_loss: 1.6551 - val_accuracy: 0.0661 - lr: 0.0010 - 9s/epoch - 50ms/step
Epoch 31/75
176/176 - 9s - loss: 1.6095 - accuracy: 0.1972 - val_loss: 1.6489 - val_accuracy: 0.8239 - lr: 0.0010 - 9s/epoch - 51ms/step
Epoch 32/75
176/176 - 9s - loss: 1.6095 - accuracy: 0.1986 - val_loss: 1.6465 - val_accuracy: 0.0786 - lr: 0.0010 - 9s/epoch - 50ms/step
Epoch 33/75
176/176 - 9s - loss: 1.6095 - accuracy: 0.1965 - val_loss: 1.6493 - val_accuracy: 0.0708 - lr: 0.0010 - 9s/epoch - 50ms/step
Epoch 34/75
176/176 - 9s - loss: 1.6095 - accuracy: 0.1989 - val_loss: 1.6187 - val_accuracy: 0.0768 - lr: 0.0010 - 9s/epoch - 50ms/step
Epoch 35/75
176/176 - 9s - loss: 1.6095 - accuracy: 0.1987 - val_loss: 1.6529 - val_accuracy: 0.0786 - lr: 0.0010 - 9s/epoch - 50ms/step
Epoch 36/75
176/176 - 9s - loss: 1.6095 - accuracy: 0.1975 - val_loss: 1.6508 - val_accuracy: 0.8242 - lr: 0.0010 - 9s/epoch - 51ms/step
Epoch 37/75
176/176 - 9s - loss: 1.6095 - accuracy: 0.1977 - val_loss: 1.6557 - val_accuracy: 0.0786 - lr: 0.0010 - 9s/epoch - 50ms/step
Epoch 38/75
176/176 - 9s - loss: 1.6095 - accuracy: 0.1959 - val_loss: 1.6600 - val_accuracy: 0.0307 - lr: 0.0010 - 9s/epoch - 50ms/step
Epoch 39/75
176/176 - 9s - loss: 1.6095 - accuracy: 0.1975 - val_loss: 1.6506 - val_accuracy: 0.0077 - lr: 0.0010 - 9s/epoch - 50ms/step
Epoch 40/75
176/176 - 9s - loss: 1.6095 - accuracy: 0.1976 - val_loss: 1.6557 - val_accuracy: 0.0305 - lr: 0.0010 - 9s/epoch - 50ms/step
Epoch 41/75
176/176 - 9s - loss: 1.6095 - accuracy: 0.1994 - val_loss: 1.6410 - val_accuracy: 0.0076 - lr: 0.0010 - 9s/epoch - 50ms/step
Epoch 42/75
176/176 - 9s - loss: 1.6095 - accuracy: 0.1971 - val_loss: 1.6417 - val_accuracy: 0.0660 - lr: 0.0010 - 9s/epoch - 50ms/step
Epoch 43/75
176/176 - 9s - loss: 1.6095 - accuracy: 0.1991 - val_loss: 1.6217 - val_accuracy: 0.0661 - lr: 0.0010 - 9s/epoch - 50ms/step
Epoch 44/75
176/176 - 9s - loss: 1.6095 - accuracy: 0.1985 - val_loss: 1.6401 - val_accuracy: 0.0080 - lr: 0.0010 - 9s/epoch - 50ms/step
Epoch 45/75
176/176 - 9s - loss: 1.6095 - accuracy: 0.2003 - val_loss: 1.6260 - val_accuracy: 0.0255 - lr: 0.0010 - 9s/epoch - 51ms/step
Epoch 46/75
176/176 - 9s - loss: 1.6095 - accuracy: 0.2001 - val_loss: 1.6049 - val_accuracy: 0.8227 - lr: 0.0010 - 9s/epoch - 50ms/step
Epoch 47/75
176/176 - 9s - loss: 1.6095 - accuracy: 0.1989 - val_loss: 1.6147 - val_accuracy: 0.8214 - lr: 0.0010 - 9s/epoch - 50ms/step
Epoch 48/75
176/176 - 9s - loss: 1.6095 - accuracy: 0.1966 - val_loss: 1.6062 - val_accuracy: 0.8222 - lr: 0.0010 - 9s/epoch - 50ms/step
Epoch 49/75
176/176 - 9s - loss: 1.6095 - accuracy: 0.1979 - val_loss: 1.6506 - val_accuracy: 0.8237 - lr: 0.0010 - 9s/epoch - 50ms/step
Epoch 50/75
176/176 - 9s - loss: 1.6095 - accuracy: 0.1982 - val_loss: 1.6570 - val_accuracy: 0.8239 - lr: 0.0010 - 9s/epoch - 50ms/step
Epoch 51/75
176/176 - 9s - loss: 1.6095 - accuracy: 0.1995 - val_loss: 1.6458 - val_accuracy: 0.0268 - lr: 0.0010 - 9s/epoch - 50ms/step
Epoch 52/75
176/176 - 9s - loss: 1.6095 - accuracy: 0.1970 - val_loss: 1.6447 - val_accuracy: 0.8191 - lr: 0.0010 - 9s/epoch - 50ms/step
Epoch 53/75
176/176 - 9s - loss: 1.6095 - accuracy: 0.1985 - val_loss: 1.6413 - val_accuracy: 0.0076 - lr: 0.0010 - 9s/epoch - 50ms/step
Epoch 54/75
176/176 - 9s - loss: 1.6095 - accuracy: 0.1953 - val_loss: 1.6258 - val_accuracy: 0.0255 - lr: 0.0010 - 9s/epoch - 50ms/step
Epoch 55/75
176/176 - 9s - loss: 1.6095 - accuracy: 0.2004 - val_loss: 1.6357 - val_accuracy: 0.0657 - lr: 0.0010 - 9s/epoch - 50ms/step
Epoch 56/75
176/176 - 9s - loss: 1.6095 - accuracy: 0.1984 - val_loss: 1.6205 - val_accuracy: 0.0102 - lr: 0.0010 - 9s/epoch - 50ms/step
Epoch 57/75
176/176 - 9s - loss: 1.6095 - accuracy: 0.2008 - val_loss: 1.6151 - val_accuracy: 0.0281 - lr: 0.0010 - 9s/epoch - 50ms/step
Epoch 58/75
176/176 - 9s - loss: 1.6095 - accuracy: 0.1993 - val_loss: 1.6170 - val_accuracy: 0.0279 - lr: 0.0010 - 9s/epoch - 50ms/step
Epoch 59/75
176/176 - 9s - loss: 1.6095 - accuracy: 0.1982 - val_loss: 1.6431 - val_accuracy: 0.0081 - lr: 0.0010 - 9s/epoch - 50ms/step
Epoch 60/75
176/176 - 9s - loss: 1.6095 - accuracy: 0.1977 - val_loss: 1.6577 - val_accuracy: 0.0304 - lr: 0.0010 - 9s/epoch - 51ms/step
Epoch 61/75
176/176 - 9s - loss: 1.6095 - accuracy: 0.1990 - val_loss: 1.6443 - val_accuracy: 0.8237 - lr: 0.0010 - 9s/epoch - 50ms/step
Epoch 62/75
176/176 - 9s - loss: 1.6095 - accuracy: 0.1966 - val_loss: 1.6418 - val_accuracy: 0.8192 - lr: 0.0010 - 9s/epoch - 50ms/step
Epoch 63/75
176/176 - 9s - loss: 1.6095 - accuracy: 0.1974 - val_loss: 1.6093 - val_accuracy: 0.0682 - lr: 0.0010 - 9s/epoch - 51ms/step
Epoch 64/75
176/176 - 9s - loss: 1.6095 - accuracy: 0.1963 - val_loss: 1.6323 - val_accuracy: 0.0736 - lr: 0.0010 - 9s/epoch - 50ms/step
Epoch 65/75
176/176 - 9s - loss: 1.6095 - accuracy: 0.1979 - val_loss: 1.6553 - val_accuracy: 0.0709 - lr: 0.0010 - 9s/epoch - 50ms/step
Epoch 66/75
176/176 - 9s - loss: 1.6095 - accuracy: 0.1968 - val_loss: 1.6451 - val_accuracy: 0.0738 - lr: 0.0010 - 9s/epoch - 50ms/step
Epoch 67/75
176/176 - 9s - loss: 1.6095 - accuracy: 0.1990 - val_loss: 1.6472 - val_accuracy: 0.0256 - lr: 0.0010 - 9s/epoch - 50ms/step
Epoch 68/75
176/176 - 9s - loss: 1.6095 - accuracy: 0.1997 - val_loss: 1.6376 - val_accuracy: 0.0254 - lr: 0.0010 - 9s/epoch - 50ms/step
Epoch 69/75
176/176 - 9s - loss: 1.6095 - accuracy: 0.1997 - val_loss: 1.6472 - val_accuracy: 0.8192 - lr: 0.0010 - 9s/epoch - 50ms/step
Epoch 70/75
176/176 - 9s - loss: 1.6095 - accuracy: 0.1975 - val_loss: 1.6524 - val_accuracy: 0.0739 - lr: 0.0010 - 9s/epoch - 50ms/step
Epoch 71/75
176/176 - 9s - loss: 1.6095 - accuracy: 0.1958 - val_loss: 1.6487 - val_accuracy: 0.0736 - lr: 0.0010 - 9s/epoch - 51ms/step
Epoch 72/75
176/176 - 9s - loss: 1.6095 - accuracy: 0.1993 - val_loss: 1.6451 - val_accuracy: 0.0083 - lr: 0.0010 - 9s/epoch - 50ms/step
Epoch 73/75
176/176 - 9s - loss: 1.6095 - accuracy: 0.1995 - val_loss: 1.6480 - val_accuracy: 0.0705 - lr: 0.0010 - 9s/epoch - 50ms/step
Epoch 74/75
176/176 - 9s - loss: 1.6095 - accuracy: 0.1979 - val_loss: 1.6388 - val_accuracy: 0.8191 - lr: 0.0010 - 9s/epoch - 50ms/step
Epoch 75/75
176/176 - 9s - loss: 1.6095 - accuracy: 0.1989 - val_loss: 1.6112 - val_accuracy: 0.0291 - lr: 0.0010 - 9s/epoch - 51ms/step
fitting with batch size: 1500
Epoch 1/75
59/59 - 10s - loss: 1.6094 - accuracy: 0.1996 - val_loss: 1.6108 - val_accuracy: 0.0288 - lr: 0.0010 - 10s/epoch - 173ms/step
Epoch 2/75
59/59 - 8s - loss: 1.6094 - accuracy: 0.1980 - val_loss: 1.6472 - val_accuracy: 0.0259 - lr: 0.0010 - 8s/epoch - 132ms/step
Epoch 3/75
59/59 - 8s - loss: 1.6094 - accuracy: 0.1979 - val_loss: 1.6456 - val_accuracy: 0.0661 - lr: 0.0010 - 8s/epoch - 132ms/step
Epoch 4/75
59/59 - 8s - loss: 1.6094 - accuracy: 0.1989 - val_loss: 1.6394 - val_accuracy: 0.0259 - lr: 0.0010 - 8s/epoch - 133ms/step
Epoch 5/75
59/59 - 8s - loss: 1.6094 - accuracy: 0.1972 - val_loss: 1.6388 - val_accuracy: 0.0254 - lr: 0.0010 - 8s/epoch - 132ms/step
Epoch 6/75
59/59 - 8s - loss: 1.6094 - accuracy: 0.1984 - val_loss: 1.6337 - val_accuracy: 0.0257 - lr: 0.0010 - 8s/epoch - 132ms/step
Epoch 7/75
59/59 - 8s - loss: 1.6094 - accuracy: 0.1990 - val_loss: 1.6260 - val_accuracy: 0.0735 - lr: 0.0010 - 8s/epoch - 132ms/step
Epoch 8/75
59/59 - 8s - loss: 1.6094 - accuracy: 0.1985 - val_loss: 1.6227 - val_accuracy: 0.0078 - lr: 0.0010 - 8s/epoch - 132ms/step
Epoch 9/75
59/59 - 8s - loss: 1.6094 - accuracy: 0.1976 - val_loss: 1.6212 - val_accuracy: 0.0659 - lr: 0.0010 - 8s/epoch - 132ms/step
Epoch 10/75
59/59 - 8s - loss: 1.6094 - accuracy: 0.1984 - val_loss: 1.6236 - val_accuracy: 0.0262 - lr: 0.0010 - 8s/epoch - 132ms/step
Epoch 11/75
59/59 - 8s - loss: 1.6094 - accuracy: 0.2000 - val_loss: 1.6201 - val_accuracy: 0.0260 - lr: 0.0010 - 8s/epoch - 132ms/step
Epoch 12/75
59/59 - 8s - loss: 1.6094 - accuracy: 0.1988 - val_loss: 1.6168 - val_accuracy: 0.0662 - lr: 0.0010 - 8s/epoch - 132ms/step
Epoch 13/75
59/59 - 8s - loss: 1.6094 - accuracy: 0.1991 - val_loss: 1.6133 - val_accuracy: 0.8194 - lr: 0.0010 - 8s/epoch - 132ms/step
Epoch 14/75
59/59 - 8s - loss: 1.6094 - accuracy: 0.1978 - val_loss: 1.6136 - val_accuracy: 0.0735 - lr: 0.0010 - 8s/epoch - 132ms/step
Epoch 15/75
59/59 - 8s - loss: 1.6094 - accuracy: 0.1983 - val_loss: 1.6102 - val_accuracy: 0.0782 - lr: 0.0010 - 8s/epoch - 132ms/step
Epoch 16/75
59/59 - 8s - loss: 1.6094 - accuracy: 0.1975 - val_loss: 1.6094 - val_accuracy: 0.8236 - lr: 0.0010 - 8s/epoch - 132ms/step
Epoch 17/75
59/59 - 8s - loss: 1.6094 - accuracy: 0.1973 - val_loss: 1.6086 - val_accuracy: 0.8237 - lr: 0.0010 - 8s/epoch - 132ms/step
Epoch 18/75
59/59 - 8s - loss: 1.6094 - accuracy: 0.1995 - val_loss: 1.6100 - val_accuracy: 0.0077 - lr: 0.0010 - 8s/epoch - 133ms/step
Epoch 19/75
59/59 - 8s - loss: 1.6094 - accuracy: 0.2000 - val_loss: 1.6081 - val_accuracy: 0.8238 - lr: 0.0010 - 8s/epoch - 132ms/step
Epoch 20/75
59/59 - 8s - loss: 1.6094 - accuracy: 0.1972 - val_loss: 1.6068 - val_accuracy: 0.8239 - lr: 0.0010 - 8s/epoch - 132ms/step
Epoch 21/75
59/59 - 8s - loss: 1.6094 - accuracy: 0.1998 - val_loss: 1.6091 - val_accuracy: 0.0280 - lr: 0.0010 - 8s/epoch - 133ms/step
Epoch 22/75
59/59 - 8s - loss: 1.6094 - accuracy: 0.1983 - val_loss: 1.6091 - val_accuracy: 0.0281 - lr: 0.0010 - 8s/epoch - 132ms/step
Epoch 23/75
59/59 - 8s - loss: 1.6094 - accuracy: 0.1993 - val_loss: 1.6112 - val_accuracy: 0.0259 - lr: 0.0010 - 8s/epoch - 132ms/step
Epoch 24/75
59/59 - 8s - loss: 1.6094 - accuracy: 0.1984 - val_loss: 1.6113 - val_accuracy: 0.0254 - lr: 0.0010 - 8s/epoch - 132ms/step
Epoch 25/75
59/59 - 8s - loss: 1.6094 - accuracy: 0.1995 - val_loss: 1.6100 - val_accuracy: 0.0683 - lr: 0.0010 - 8s/epoch - 132ms/step
Epoch 26/75
59/59 - 8s - loss: 1.6094 - accuracy: 0.1967 - val_loss: 1.6108 - val_accuracy: 0.0707 - lr: 0.0010 - 8s/epoch - 132ms/step
Epoch 27/75
59/59 - 8s - loss: 1.6094 - accuracy: 0.1968 - val_loss: 1.6094 - val_accuracy: 0.0259 - lr: 0.0010 - 8s/epoch - 132ms/step
Epoch 28/75
59/59 - 8s - loss: 1.6094 - accuracy: 0.1977 - val_loss: 1.6259 - val_accuracy: 0.8193 - lr: 0.0010 - 8s/epoch - 132ms/step
Epoch 29/75
59/59 - 8s - loss: 1.6094 - accuracy: 0.1999 - val_loss: 1.6364 - val_accuracy: 0.8188 - lr: 0.0010 - 8s/epoch - 132ms/step
Epoch 30/75
59/59 - 8s - loss: 1.6094 - accuracy: 0.1992 - val_loss: 1.6452 - val_accuracy: 0.0735 - lr: 0.0010 - 8s/epoch - 132ms/step
Epoch 31/75
59/59 - 8s - loss: 1.6094 - accuracy: 0.1987 - val_loss: 1.6517 - val_accuracy: 0.8187 - lr: 0.0010 - 8s/epoch - 132ms/step
Epoch 32/75
59/59 - 8s - loss: 1.6094 - accuracy: 0.1999 - val_loss: 1.6107 - val_accuracy: 0.8220 - lr: 0.0010 - 8s/epoch - 132ms/step
Epoch 33/75
59/59 - 8s - loss: 1.6095 - accuracy: 0.1987 - val_loss: 1.6114 - val_accuracy: 0.0767 - lr: 0.0010 - 8s/epoch - 132ms/step
Epoch 34/75
59/59 - 8s - loss: 1.6094 - accuracy: 0.1978 - val_loss: 1.6112 - val_accuracy: 0.0687 - lr: 0.0010 - 8s/epoch - 132ms/step
Epoch 35/75
59/59 - 8s - loss: 1.6094 - accuracy: 0.1990 - val_loss: 1.6102 - val_accuracy: 0.0684 - lr: 0.0010 - 8s/epoch - 132ms/step
Epoch 36/75
59/59 - 8s - loss: 1.6095 - accuracy: 0.1988 - val_loss: 1.6215 - val_accuracy: 0.0077 - lr: 0.0010 - 8s/epoch - 132ms/step
Epoch 37/75
59/59 - 8s - loss: 1.6094 - accuracy: 0.1994 - val_loss: 1.6124 - val_accuracy: 0.0686 - lr: 0.0010 - 8s/epoch - 132ms/step
Epoch 38/75
59/59 - 8s - loss: 1.6094 - accuracy: 0.1994 - val_loss: 1.6361 - val_accuracy: 0.0254 - lr: 0.0010 - 8s/epoch - 132ms/step
Epoch 39/75
59/59 - 8s - loss: 1.6095 - accuracy: 0.1992 - val_loss: 1.6504 - val_accuracy: 0.8239 - lr: 0.0010 - 8s/epoch - 132ms/step
Epoch 40/75
59/59 - 8s - loss: 1.6095 - accuracy: 0.1982 - val_loss: 1.6438 - val_accuracy: 0.0735 - lr: 0.0010 - 8s/epoch - 132ms/step
Epoch 41/75
59/59 - 8s - loss: 1.6095 - accuracy: 0.1997 - val_loss: 1.6527 - val_accuracy: 0.0079 - lr: 0.0010 - 8s/epoch - 133ms/step
Epoch 42/75
59/59 - 8s - loss: 1.6095 - accuracy: 0.1973 - val_loss: 1.6546 - val_accuracy: 0.0257 - lr: 0.0010 - 8s/epoch - 132ms/step
Epoch 43/75
59/59 - 8s - loss: 1.6094 - accuracy: 0.1966 - val_loss: 1.6517 - val_accuracy: 0.0258 - lr: 0.0010 - 8s/epoch - 132ms/step
Epoch 44/75
59/59 - 8s - loss: 1.6095 - accuracy: 0.1979 - val_loss: 1.6533 - val_accuracy: 0.0706 - lr: 0.0010 - 8s/epoch - 132ms/step
Epoch 45/75
59/59 - 8s - loss: 1.6094 - accuracy: 0.1990 - val_loss: 1.6502 - val_accuracy: 0.8238 - lr: 0.0010 - 8s/epoch - 132ms/step
Epoch 46/75
59/59 - 8s - loss: 1.6095 - accuracy: 0.1988 - val_loss: 1.6315 - val_accuracy: 0.8198 - lr: 0.0010 - 8s/epoch - 132ms/step
Epoch 47/75
59/59 - 8s - loss: 1.6095 - accuracy: 0.1981 - val_loss: 1.6192 - val_accuracy: 0.8199 - lr: 0.0010 - 8s/epoch - 133ms/step
Epoch 48/75
59/59 - 8s - loss: 1.6095 - accuracy: 0.1981 - val_loss: 1.6070 - val_accuracy: 0.8218 - lr: 0.0010 - 8s/epoch - 132ms/step
Epoch 49/75
59/59 - 8s - loss: 1.6095 - accuracy: 0.2003 - val_loss: 1.6301 - val_accuracy: 0.0260 - lr: 0.0010 - 8s/epoch - 132ms/step
Epoch 50/75
59/59 - 8s - loss: 1.6095 - accuracy: 0.1985 - val_loss: 1.6396 - val_accuracy: 0.0259 - lr: 0.0010 - 8s/epoch - 132ms/step
Epoch 51/75
59/59 - 8s - loss: 1.6094 - accuracy: 0.1979 - val_loss: 1.6431 - val_accuracy: 0.0260 - lr: 0.0010 - 8s/epoch - 132ms/step
Epoch 52/75
59/59 - 8s - loss: 1.6094 - accuracy: 0.1973 - val_loss: 1.6374 - val_accuracy: 0.0260 - lr: 0.0010 - 8s/epoch - 132ms/step
Epoch 53/75
59/59 - 8s - loss: 1.6095 - accuracy: 0.1984 - val_loss: 1.6383 - val_accuracy: 0.0740 - lr: 0.0010 - 8s/epoch - 133ms/step
Epoch 54/75
59/59 - 8s - loss: 1.6094 - accuracy: 0.1994 - val_loss: 1.6364 - val_accuracy: 0.8192 - lr: 0.0010 - 8s/epoch - 132ms/step
Epoch 55/75
59/59 - 8s - loss: 1.6094 - accuracy: 0.1969 - val_loss: 1.6348 - val_accuracy: 0.8241 - lr: 0.0010 - 8s/epoch - 132ms/step
Epoch 56/75
59/59 - 8s - loss: 1.6095 - accuracy: 0.1977 - val_loss: 1.6152 - val_accuracy: 0.8194 - lr: 0.0010 - 8s/epoch - 132ms/step
Epoch 57/75
59/59 - 8s - loss: 1.6095 - accuracy: 0.1989 - val_loss: 1.6277 - val_accuracy: 0.0076 - lr: 0.0010 - 8s/epoch - 133ms/step
Epoch 58/75
59/59 - 8s - loss: 1.6094 - accuracy: 0.1986 - val_loss: 1.6386 - val_accuracy: 0.0076 - lr: 0.0010 - 8s/epoch - 132ms/step
Epoch 59/75
59/59 - 8s - loss: 1.6094 - accuracy: 0.1983 - val_loss: 1.6398 - val_accuracy: 0.0076 - lr: 0.0010 - 8s/epoch - 132ms/step
Epoch 60/75
59/59 - 8s - loss: 1.6094 - accuracy: 0.1989 - val_loss: 1.6284 - val_accuracy: 0.0256 - lr: 0.0010 - 8s/epoch - 132ms/step
Epoch 61/75
59/59 - 8s - loss: 1.6094 - accuracy: 0.1968 - val_loss: 1.6331 - val_accuracy: 0.0657 - lr: 0.0010 - 8s/epoch - 132ms/step
Epoch 62/75
59/59 - 8s - loss: 1.6094 - accuracy: 0.1997 - val_loss: 1.6151 - val_accuracy: 0.8188 - lr: 0.0010 - 8s/epoch - 132ms/step
Epoch 63/75
59/59 - 8s - loss: 1.6095 - accuracy: 0.1991 - val_loss: 1.6107 - val_accuracy: 0.0689 - lr: 0.0010 - 8s/epoch - 132ms/step
Epoch 64/75
59/59 - 8s - loss: 1.6094 - accuracy: 0.1994 - val_loss: 1.6511 - val_accuracy: 0.0661 - lr: 0.0010 - 8s/epoch - 133ms/step
Epoch 65/75
59/59 - 8s - loss: 1.6095 - accuracy: 0.1980 - val_loss: 1.6509 - val_accuracy: 0.0257 - lr: 0.0010 - 8s/epoch - 132ms/step
Epoch 66/75
59/59 - 8s - loss: 1.6095 - accuracy: 0.1973 - val_loss: 1.6429 - val_accuracy: 0.0260 - lr: 0.0010 - 8s/epoch - 132ms/step
Epoch 67/75
59/59 - 8s - loss: 1.6095 - accuracy: 0.1988 - val_loss: 1.6471 - val_accuracy: 0.0659 - lr: 0.0010 - 8s/epoch - 132ms/step
Epoch 68/75
59/59 - 8s - loss: 1.6095 - accuracy: 0.1976 - val_loss: 1.6383 - val_accuracy: 0.0079 - lr: 0.0010 - 8s/epoch - 132ms/step
Epoch 69/75
59/59 - 8s - loss: 1.6094 - accuracy: 0.1994 - val_loss: 1.6154 - val_accuracy: 0.0741 - lr: 0.0010 - 8s/epoch - 132ms/step
Epoch 70/75
59/59 - 8s - loss: 1.6094 - accuracy: 0.1981 - val_loss: 1.6282 - val_accuracy: 0.0740 - lr: 0.0010 - 8s/epoch - 132ms/step
Epoch 71/75
59/59 - 8s - loss: 1.6095 - accuracy: 0.1970 - val_loss: 1.6328 - val_accuracy: 0.8192 - lr: 0.0010 - 8s/epoch - 132ms/step
Epoch 72/75
59/59 - 8s - loss: 1.6095 - accuracy: 0.1971 - val_loss: 1.6422 - val_accuracy: 0.0260 - lr: 0.0010 - 8s/epoch - 132ms/step
Epoch 73/75
59/59 - 8s - loss: 1.6095 - accuracy: 0.1989 - val_loss: 1.6474 - val_accuracy: 0.0670 - lr: 0.0010 - 8s/epoch - 132ms/step
Epoch 74/75
59/59 - 8s - loss: 1.6095 - accuracy: 0.1984 - val_loss: 1.6462 - val_accuracy: 0.0079 - lr: 0.0010 - 8s/epoch - 132ms/step
Epoch 75/75
59/59 - 8s - loss: 1.6095 - accuracy: 0.1972 - val_loss: 1.6421 - val_accuracy: 0.0258 - lr: 0.0010 - 8s/epoch - 133ms/step
fitting with batch size: 2500
Epoch 1/75
36/36 - 10s - loss: 1.6094 - accuracy: 0.1997 - val_loss: 1.6326 - val_accuracy: 0.8193 - lr: 0.0010 - 10s/epoch - 277ms/step
Epoch 2/75
36/36 - 8s - loss: 1.6094 - accuracy: 0.2000 - val_loss: 1.6262 - val_accuracy: 0.0262 - lr: 0.0010 - 8s/epoch - 209ms/step
Epoch 3/75
36/36 - 8s - loss: 1.6095 - accuracy: 0.1982 - val_loss: 1.6222 - val_accuracy: 0.0261 - lr: 0.0010 - 8s/epoch - 210ms/step
Epoch 4/75
36/36 - 8s - loss: 1.6095 - accuracy: 0.2000 - val_loss: 1.6140 - val_accuracy: 0.0259 - lr: 0.0010 - 8s/epoch - 210ms/step
Epoch 5/75
36/36 - 8s - loss: 1.6094 - accuracy: 0.1988 - val_loss: 1.6365 - val_accuracy: 0.0660 - lr: 0.0010 - 8s/epoch - 210ms/step
Epoch 6/75
36/36 - 8s - loss: 1.6095 - accuracy: 0.1983 - val_loss: 1.6265 - val_accuracy: 0.0739 - lr: 0.0010 - 8s/epoch - 210ms/step
Epoch 7/75
36/36 - 8s - loss: 1.6095 - accuracy: 0.2000 - val_loss: 1.6114 - val_accuracy: 0.8212 - lr: 0.0010 - 8s/epoch - 210ms/step
Epoch 8/75
36/36 - 8s - loss: 1.6095 - accuracy: 0.1991 - val_loss: 1.6404 - val_accuracy: 0.8187 - lr: 0.0010 - 8s/epoch - 210ms/step
Epoch 9/75
36/36 - 8s - loss: 1.6094 - accuracy: 0.2000 - val_loss: 1.6534 - val_accuracy: 0.0707 - lr: 0.0010 - 8s/epoch - 211ms/step
Epoch 10/75
36/36 - 8s - loss: 1.6095 - accuracy: 0.2000 - val_loss: 1.6528 - val_accuracy: 0.0708 - lr: 0.0010 - 8s/epoch - 210ms/step
Epoch 11/75
36/36 - 8s - loss: 1.6095 - accuracy: 0.1988 - val_loss: 1.6170 - val_accuracy: 0.0763 - lr: 0.0010 - 8s/epoch - 210ms/step
Epoch 12/75
36/36 - 8s - loss: 1.6095 - accuracy: 0.2000 - val_loss: 1.6132 - val_accuracy: 0.0764 - lr: 0.0010 - 8s/epoch - 211ms/step
Epoch 13/75
36/36 - 8s - loss: 1.6095 - accuracy: 0.2007 - val_loss: 1.6099 - val_accuracy: 0.0285 - lr: 0.0010 - 8s/epoch - 210ms/step
Epoch 14/75
36/36 - 8s - loss: 1.6094 - accuracy: 0.2000 - val_loss: 1.6135 - val_accuracy: 0.0286 - lr: 0.0010 - 8s/epoch - 210ms/step
Epoch 15/75
36/36 - 8s - loss: 1.6095 - accuracy: 0.1983 - val_loss: 1.6108 - val_accuracy: 0.0283 - lr: 0.0010 - 8s/epoch - 211ms/step
Epoch 16/75
36/36 - 8s - loss: 1.6095 - accuracy: 0.2000 - val_loss: 1.6061 - val_accuracy: 0.0763 - lr: 0.0010 - 8s/epoch - 210ms/step
Epoch 17/75
36/36 - 8s - loss: 1.6095 - accuracy: 0.1993 - val_loss: 1.6072 - val_accuracy: 0.0763 - lr: 0.0010 - 8s/epoch - 210ms/step
Epoch 18/75
36/36 - 8s - loss: 1.6094 - accuracy: 0.2006 - val_loss: 1.6072 - val_accuracy: 0.8215 - lr: 0.0010 - 8s/epoch - 210ms/step
Epoch 19/75
36/36 - 8s - loss: 1.6095 - accuracy: 0.2000 - val_loss: 1.6102 - val_accuracy: 0.8192 - lr: 0.0010 - 8s/epoch - 210ms/step
Epoch 20/75
36/36 - 8s - loss: 1.6094 - accuracy: 0.2000 - val_loss: 1.6240 - val_accuracy: 0.8189 - lr: 0.0010 - 8s/epoch - 210ms/step
Epoch 21/75
36/36 - 8s - loss: 1.6094 - accuracy: 0.1990 - val_loss: 1.6248 - val_accuracy: 0.0737 - lr: 0.0010 - 8s/epoch - 210ms/step
Epoch 22/75
36/36 - 8s - loss: 1.6094 - accuracy: 0.1993 - val_loss: 1.6313 - val_accuracy: 0.0258 - lr: 0.0010 - 8s/epoch - 210ms/step
Epoch 23/75
36/36 - 8s - loss: 1.6094 - accuracy: 0.1984 - val_loss: 1.6197 - val_accuracy: 0.0739 - lr: 0.0010 - 8s/epoch - 210ms/step
Epoch 24/75
36/36 - 8s - loss: 1.6094 - accuracy: 0.1979 - val_loss: 1.6338 - val_accuracy: 0.0735 - lr: 0.0010 - 8s/epoch - 211ms/step
Epoch 25/75
36/36 - 8s - loss: 1.6095 - accuracy: 0.1988 - val_loss: 1.6406 - val_accuracy: 0.0742 - lr: 0.0010 - 8s/epoch - 210ms/step
Epoch 26/75
36/36 - 8s - loss: 1.6094 - accuracy: 0.2000 - val_loss: 1.6443 - val_accuracy: 0.0741 - lr: 0.0010 - 8s/epoch - 210ms/step
Epoch 27/75
36/36 - 8s - loss: 1.6094 - accuracy: 0.2000 - val_loss: 1.6468 - val_accuracy: 0.0078 - lr: 0.0010 - 8s/epoch - 210ms/step
Epoch 28/75
36/36 - 8s - loss: 1.6094 - accuracy: 0.2000 - val_loss: 1.6260 - val_accuracy: 0.0081 - lr: 0.0010 - 8s/epoch - 210ms/step
Epoch 29/75
36/36 - 8s - loss: 1.6094 - accuracy: 0.1997 - val_loss: 1.6359 - val_accuracy: 0.0079 - lr: 0.0010 - 8s/epoch - 210ms/step
Epoch 30/75
36/36 - 8s - loss: 1.6094 - accuracy: 0.1976 - val_loss: 1.6409 - val_accuracy: 0.0737 - lr: 0.0010 - 8s/epoch - 210ms/step
Epoch 31/75
36/36 - 8s - loss: 1.6095 - accuracy: 0.2000 - val_loss: 1.6472 - val_accuracy: 0.0790 - lr: 0.0010 - 8s/epoch - 211ms/step
Epoch 32/75
36/36 - 8s - loss: 1.6095 - accuracy: 0.2000 - val_loss: 1.6535 - val_accuracy: 0.0658 - lr: 0.0010 - 8s/epoch - 209ms/step
Epoch 33/75
36/36 - 8s - loss: 1.6095 - accuracy: 0.1987 - val_loss: 1.6572 - val_accuracy: 0.0735 - lr: 0.0010 - 8s/epoch - 210ms/step
Epoch 34/75
36/36 - 8s - loss: 1.6095 - accuracy: 0.2000 - val_loss: 1.6204 - val_accuracy: 0.0285 - lr: 0.0010 - 8s/epoch - 210ms/step
Epoch 35/75
36/36 - 8s - loss: 1.6094 - accuracy: 0.1995 - val_loss: 1.6188 - val_accuracy: 0.0685 - lr: 0.0010 - 8s/epoch - 210ms/step
Epoch 36/75
36/36 - 8s - loss: 1.6094 - accuracy: 0.1997 - val_loss: 1.6184 - val_accuracy: 0.0684 - lr: 0.0010 - 8s/epoch - 210ms/step
Epoch 37/75
36/36 - 8s - loss: 1.6095 - accuracy: 0.1982 - val_loss: 1.6165 - val_accuracy: 0.0284 - lr: 0.0010 - 8s/epoch - 210ms/step
Epoch 38/75
36/36 - 8s - loss: 1.6095 - accuracy: 0.2000 - val_loss: 1.6159 - val_accuracy: 0.0283 - lr: 0.0010 - 8s/epoch - 210ms/step
Epoch 39/75
36/36 - 8s - loss: 1.6095 - accuracy: 0.2002 - val_loss: 1.6414 - val_accuracy: 0.8193 - lr: 0.0010 - 8s/epoch - 211ms/step
Epoch 40/75
36/36 - 8s - loss: 1.6095 - accuracy: 0.2000 - val_loss: 1.6385 - val_accuracy: 0.8237 - lr: 0.0010 - 8s/epoch - 210ms/step
Epoch 41/75
36/36 - 8s - loss: 1.6095 - accuracy: 0.1988 - val_loss: 1.6217 - val_accuracy: 0.0149 - lr: 0.0010 - 8s/epoch - 210ms/step
Epoch 42/75
36/36 - 8s - loss: 1.6095 - accuracy: 0.2000 - val_loss: 1.6329 - val_accuracy: 0.0076 - lr: 0.0010 - 8s/epoch - 210ms/step
Epoch 43/75
36/36 - 8s - loss: 1.6095 - accuracy: 0.1980 - val_loss: 1.6569 - val_accuracy: 0.0079 - lr: 0.0010 - 8s/epoch - 210ms/step
Epoch 44/75
36/36 - 8s - loss: 1.6095 - accuracy: 0.2000 - val_loss: 1.6522 - val_accuracy: 0.8241 - lr: 0.0010 - 8s/epoch - 210ms/step
Epoch 45/75
36/36 - 8s - loss: 1.6095 - accuracy: 0.1997 - val_loss: 1.6536 - val_accuracy: 0.0128 - lr: 0.0010 - 8s/epoch - 210ms/step
Epoch 46/75
36/36 - 8s - loss: 1.6095 - accuracy: 0.1984 - val_loss: 1.6563 - val_accuracy: 0.0128 - lr: 0.0010 - 8s/epoch - 210ms/step
Epoch 47/75
36/36 - 8s - loss: 1.6095 - accuracy: 0.1994 - val_loss: 1.6548 - val_accuracy: 0.0127 - lr: 0.0010 - 8s/epoch - 210ms/step
Epoch 48/75
36/36 - 8s - loss: 1.6095 - accuracy: 0.2000 - val_loss: 1.6515 - val_accuracy: 0.0128 - lr: 0.0010 - 8s/epoch - 210ms/step
Epoch 49/75
36/36 - 8s - loss: 1.6094 - accuracy: 0.1992 - val_loss: 1.6513 - val_accuracy: 0.0709 - lr: 0.0010 - 8s/epoch - 212ms/step
Epoch 50/75
36/36 - 8s - loss: 1.6095 - accuracy: 0.1978 - val_loss: 1.6520 - val_accuracy: 0.0129 - lr: 0.0010 - 8s/epoch - 209ms/step
Epoch 51/75
36/36 - 7s - loss: 1.6095 - accuracy: 0.1996 - val_loss: 1.6566 - val_accuracy: 0.0256 - lr: 0.0010 - 7s/epoch - 204ms/step
Epoch 52/75
36/36 - 7s - loss: 1.6094 - accuracy: 0.1997 - val_loss: 1.6552 - val_accuracy: 0.0658 - lr: 0.0010 - 7s/epoch - 203ms/step
Epoch 53/75
36/36 - 8s - loss: 1.6094 - accuracy: 0.2000 - val_loss: 1.6541 - val_accuracy: 0.0657 - lr: 0.0010 - 8s/epoch - 210ms/step
Epoch 54/75
36/36 - 8s - loss: 1.6095 - accuracy: 0.1980 - val_loss: 1.6552 - val_accuracy: 0.0656 - lr: 0.0010 - 8s/epoch - 210ms/step
Epoch 55/75
36/36 - 8s - loss: 1.6094 - accuracy: 0.1984 - val_loss: 1.6477 - val_accuracy: 0.8238 - lr: 0.0010 - 8s/epoch - 209ms/step
Epoch 56/75
36/36 - 8s - loss: 1.6094 - accuracy: 0.2001 - val_loss: 1.6500 - val_accuracy: 0.0738 - lr: 0.0010 - 8s/epoch - 209ms/step
Epoch 57/75
36/36 - 8s - loss: 1.6095 - accuracy: 0.1997 - val_loss: 1.6520 - val_accuracy: 0.0254 - lr: 0.0010 - 8s/epoch - 209ms/step
Epoch 58/75
36/36 - 8s - loss: 1.6095 - accuracy: 0.2000 - val_loss: 1.6492 - val_accuracy: 0.0254 - lr: 0.0010 - 8s/epoch - 210ms/step
Epoch 59/75
36/36 - 8s - loss: 1.6094 - accuracy: 0.2000 - val_loss: 1.6536 - val_accuracy: 0.0304 - lr: 0.0010 - 8s/epoch - 209ms/step
Epoch 60/75
36/36 - 8s - loss: 1.6095 - accuracy: 0.1973 - val_loss: 1.6515 - val_accuracy: 0.0307 - lr: 0.0010 - 8s/epoch - 209ms/step
Epoch 61/75
36/36 - 8s - loss: 1.6094 - accuracy: 0.2002 - val_loss: 1.6517 - val_accuracy: 0.0127 - lr: 0.0010 - 8s/epoch - 209ms/step
Epoch 62/75
36/36 - 8s - loss: 1.6095 - accuracy: 0.2000 - val_loss: 1.6483 - val_accuracy: 0.0128 - lr: 0.0010 - 8s/epoch - 209ms/step
Epoch 63/75
36/36 - 8s - loss: 1.6095 - accuracy: 0.1994 - val_loss: 1.6550 - val_accuracy: 0.0080 - lr: 0.0010 - 8s/epoch - 209ms/step
Epoch 64/75
36/36 - 8s - loss: 1.6095 - accuracy: 0.2000 - val_loss: 1.6588 - val_accuracy: 0.0081 - lr: 0.0010 - 8s/epoch - 210ms/step
Epoch 65/75
36/36 - 8s - loss: 1.6094 - accuracy: 0.1999 - val_loss: 1.6492 - val_accuracy: 0.0736 - lr: 0.0010 - 8s/epoch - 209ms/step
Epoch 66/75
36/36 - 8s - loss: 1.6095 - accuracy: 0.2001 - val_loss: 1.6186 - val_accuracy: 0.0100 - lr: 0.0010 - 8s/epoch - 210ms/step
Epoch 67/75
36/36 - 8s - loss: 1.6095 - accuracy: 0.2000 - val_loss: 1.6396 - val_accuracy: 0.0074 - lr: 0.0010 - 8s/epoch - 209ms/step
Epoch 68/75
36/36 - 8s - loss: 1.6094 - accuracy: 0.2002 - val_loss: 1.6459 - val_accuracy: 0.0655 - lr: 0.0010 - 8s/epoch - 209ms/step
Epoch 69/75
36/36 - 8s - loss: 1.6094 - accuracy: 0.1998 - val_loss: 1.6288 - val_accuracy: 0.0254 - lr: 0.0010 - 8s/epoch - 210ms/step
Epoch 70/75
36/36 - 8s - loss: 1.6094 - accuracy: 0.2004 - val_loss: 1.6148 - val_accuracy: 0.0100 - lr: 0.0010 - 8s/epoch - 210ms/step
Epoch 71/75
36/36 - 8s - loss: 1.6095 - accuracy: 0.2000 - val_loss: 1.6220 - val_accuracy: 0.0103 - lr: 0.0010 - 8s/epoch - 209ms/step
Epoch 72/75
36/36 - 8s - loss: 1.6095 - accuracy: 0.2000 - val_loss: 1.6189 - val_accuracy: 0.0102 - lr: 0.0010 - 8s/epoch - 209ms/step
Epoch 73/75
36/36 - 8s - loss: 1.6095 - accuracy: 0.1998 - val_loss: 1.6139 - val_accuracy: 0.0285 - lr: 0.0010 - 8s/epoch - 209ms/step
Epoch 74/75
36/36 - 8s - loss: 1.6094 - accuracy: 0.1992 - val_loss: 1.6176 - val_accuracy: 0.0764 - lr: 0.0010 - 8s/epoch - 209ms/step
Epoch 75/75
36/36 - 8s - loss: 1.6095 - accuracy: 0.2003 - val_loss: 1.6344 - val_accuracy: 0.0656 - lr: 0.0010 - 8s/epoch - 209ms/step
Epoch number: 100
fitting with batch size: 20
Epoch 1/100
4378/4378 - 77s - loss: 1.6097 - accuracy: 0.1998 - val_loss: 1.6447 - val_accuracy: 0.8241 - lr: 0.0010 - 77s/epoch - 18ms/step
Epoch 2/100
4378/4378 - 74s - loss: 1.6097 - accuracy: 0.1992 - val_loss: 1.6086 - val_accuracy: 0.8217 - lr: 0.0010 - 74s/epoch - 17ms/step
Epoch 3/100
4378/4378 - 74s - loss: 1.6096 - accuracy: 0.2017 - val_loss: 1.6787 - val_accuracy: 0.0655 - lr: 0.0010 - 74s/epoch - 17ms/step
Epoch 4/100
4378/4378 - 75s - loss: 1.6096 - accuracy: 0.1991 - val_loss: 1.6457 - val_accuracy: 0.8190 - lr: 0.0010 - 75s/epoch - 17ms/step
Epoch 5/100
4378/4378 - 74s - loss: 1.6096 - accuracy: 0.2013 - val_loss: 1.6576 - val_accuracy: 0.0254 - lr: 0.0010 - 74s/epoch - 17ms/step
Epoch 6/100
4378/4378 - 74s - loss: 1.6097 - accuracy: 0.1990 - val_loss: 1.5947 - val_accuracy: 0.8221 - lr: 0.0010 - 74s/epoch - 17ms/step
Epoch 7/100
4378/4378 - 75s - loss: 1.6096 - accuracy: 0.1989 - val_loss: 1.6591 - val_accuracy: 0.0655 - lr: 0.0010 - 75s/epoch - 17ms/step
Epoch 8/100
4378/4378 - 74s - loss: 1.6096 - accuracy: 0.2013 - val_loss: 1.6663 - val_accuracy: 0.0259 - lr: 0.0010 - 74s/epoch - 17ms/step
Epoch 9/100
4378/4378 - 74s - loss: 1.6096 - accuracy: 0.1998 - val_loss: 1.6604 - val_accuracy: 0.0734 - lr: 0.0010 - 74s/epoch - 17ms/step
Epoch 10/100
4378/4378 - 75s - loss: 1.6097 - accuracy: 0.1970 - val_loss: 1.6422 - val_accuracy: 0.0259 - lr: 0.0010 - 75s/epoch - 17ms/step
Epoch 11/100
4378/4378 - 74s - loss: 1.6096 - accuracy: 0.1997 - val_loss: 1.6264 - val_accuracy: 0.8191 - lr: 0.0010 - 74s/epoch - 17ms/step
Epoch 12/100
4378/4378 - 74s - loss: 1.6096 - accuracy: 0.1988 - val_loss: 1.7118 - val_accuracy: 0.0785 - lr: 0.0010 - 74s/epoch - 17ms/step
Epoch 13/100
4378/4378 - 75s - loss: 1.6096 - accuracy: 0.1998 - val_loss: 1.6386 - val_accuracy: 0.0256 - lr: 0.0010 - 75s/epoch - 17ms/step
Epoch 14/100
4378/4378 - 74s - loss: 1.6096 - accuracy: 0.1998 - val_loss: 1.6398 - val_accuracy: 0.8237 - lr: 0.0010 - 74s/epoch - 17ms/step
Epoch 15/100
4378/4378 - 74s - loss: 1.6096 - accuracy: 0.2015 - val_loss: 1.6225 - val_accuracy: 0.8196 - lr: 0.0010 - 74s/epoch - 17ms/step
Epoch 16/100
4378/4378 - 74s - loss: 1.6096 - accuracy: 0.2019 - val_loss: 1.6500 - val_accuracy: 0.0743 - lr: 0.0010 - 74s/epoch - 17ms/step
Epoch 17/100
4378/4378 - 74s - loss: 1.6097 - accuracy: 0.1973 - val_loss: 1.6608 - val_accuracy: 0.0660 - lr: 0.0010 - 74s/epoch - 17ms/step
Epoch 18/100
4378/4378 - 74s - loss: 1.6096 - accuracy: 0.1995 - val_loss: 1.6587 - val_accuracy: 0.0126 - lr: 0.0010 - 74s/epoch - 17ms/step
Epoch 19/100
4378/4378 - 75s - loss: 1.6096 - accuracy: 0.2005 - val_loss: 1.6771 - val_accuracy: 0.0656 - lr: 0.0010 - 75s/epoch - 17ms/step
Epoch 20/100
4378/4378 - 74s - loss: 1.6096 - accuracy: 0.2006 - val_loss: 1.6583 - val_accuracy: 0.0129 - lr: 0.0010 - 74s/epoch - 17ms/step
Epoch 21/100
4378/4378 - 74s - loss: 1.6096 - accuracy: 0.1980 - val_loss: 1.6837 - val_accuracy: 0.0079 - lr: 0.0010 - 74s/epoch - 17ms/step
Epoch 22/100
4378/4378 - 74s - loss: 1.6096 - accuracy: 0.1970 - val_loss: 1.6557 - val_accuracy: 0.0787 - lr: 0.0010 - 74s/epoch - 17ms/step
Epoch 23/100
4378/4378 - 74s - loss: 1.6097 - accuracy: 0.1979 - val_loss: 1.6582 - val_accuracy: 0.0253 - lr: 0.0010 - 74s/epoch - 17ms/step
Epoch 24/100
4378/4378 - 74s - loss: 1.6096 - accuracy: 0.2014 - val_loss: 1.6616 - val_accuracy: 0.0253 - lr: 0.0010 - 74s/epoch - 17ms/step
Epoch 25/100
4378/4378 - 74s - loss: 1.6097 - accuracy: 0.1973 - val_loss: 1.6383 - val_accuracy: 0.0262 - lr: 0.0010 - 74s/epoch - 17ms/step
Epoch 26/100
4378/4378 - 74s - loss: 1.6096 - accuracy: 0.2003 - val_loss: 1.6216 - val_accuracy: 0.0104 - lr: 0.0010 - 74s/epoch - 17ms/step
Epoch 27/100
4378/4378 - 74s - loss: 1.6096 - accuracy: 0.1984 - val_loss: 1.6643 - val_accuracy: 0.0254 - lr: 0.0010 - 74s/epoch - 17ms/step
Epoch 28/100
4378/4378 - 74s - loss: 1.6096 - accuracy: 0.1986 - val_loss: 1.5946 - val_accuracy: 0.8227 - lr: 0.0010 - 74s/epoch - 17ms/step
Epoch 29/100
4378/4378 - 74s - loss: 1.6096 - accuracy: 0.2006 - val_loss: 1.6617 - val_accuracy: 0.0080 - lr: 0.0010 - 74s/epoch - 17ms/step
Epoch 30/100
4378/4378 - 74s - loss: 1.6096 - accuracy: 0.1984 - val_loss: 1.6244 - val_accuracy: 0.0282 - lr: 0.0010 - 74s/epoch - 17ms/step
Epoch 31/100
4378/4378 - 74s - loss: 1.6096 - accuracy: 0.1989 - val_loss: 1.6662 - val_accuracy: 0.0706 - lr: 0.0010 - 74s/epoch - 17ms/step
Epoch 32/100
4378/4378 - 74s - loss: 1.6096 - accuracy: 0.1982 - val_loss: 1.6599 - val_accuracy: 0.0793 - lr: 0.0010 - 74s/epoch - 17ms/step
Epoch 33/100
4378/4378 - 74s - loss: 1.6096 - accuracy: 0.1978 - val_loss: 1.6539 - val_accuracy: 0.0125 - lr: 0.0010 - 74s/epoch - 17ms/step
Epoch 34/100
4378/4378 - 74s - loss: 1.6096 - accuracy: 0.1988 - val_loss: 1.6589 - val_accuracy: 0.0079 - lr: 0.0010 - 74s/epoch - 17ms/step
Epoch 35/100
4378/4378 - 75s - loss: 1.6096 - accuracy: 0.1993 - val_loss: 1.6125 - val_accuracy: 0.8189 - lr: 0.0010 - 75s/epoch - 17ms/step
Epoch 36/100
4378/4378 - 74s - loss: 1.6096 - accuracy: 0.2002 - val_loss: 1.6394 - val_accuracy: 0.8192 - lr: 0.0010 - 74s/epoch - 17ms/step
Epoch 37/100
4378/4378 - 74s - loss: 1.6097 - accuracy: 0.1989 - val_loss: 1.6562 - val_accuracy: 0.0126 - lr: 0.0010 - 74s/epoch - 17ms/step
Epoch 38/100
4378/4378 - 74s - loss: 1.6096 - accuracy: 0.2000 - val_loss: 1.6332 - val_accuracy: 0.0082 - lr: 0.0010 - 74s/epoch - 17ms/step
Epoch 39/100
4378/4378 - 74s - loss: 1.6096 - accuracy: 0.2003 - val_loss: 1.6391 - val_accuracy: 0.8237 - lr: 0.0010 - 74s/epoch - 17ms/step
Epoch 40/100
4378/4378 - 74s - loss: 1.6096 - accuracy: 0.1989 - val_loss: 1.6654 - val_accuracy: 0.0787 - lr: 0.0010 - 74s/epoch - 17ms/step
Epoch 41/100
4378/4378 - 74s - loss: 1.6096 - accuracy: 0.1991 - val_loss: 1.6524 - val_accuracy: 0.0658 - lr: 0.0010 - 74s/epoch - 17ms/step
Epoch 42/100
4378/4378 - 74s - loss: 1.6096 - accuracy: 0.1996 - val_loss: 1.6577 - val_accuracy: 0.0077 - lr: 0.0010 - 74s/epoch - 17ms/step
Epoch 43/100
4378/4378 - 74s - loss: 1.6096 - accuracy: 0.1979 - val_loss: 1.6693 - val_accuracy: 0.0658 - lr: 0.0010 - 74s/epoch - 17ms/step
Epoch 44/100
4378/4378 - 74s - loss: 1.6096 - accuracy: 0.2003 - val_loss: 1.6259 - val_accuracy: 0.8236 - lr: 0.0010 - 74s/epoch - 17ms/step
Epoch 45/100
4378/4378 - 74s - loss: 1.6096 - accuracy: 0.1986 - val_loss: 1.6823 - val_accuracy: 0.0309 - lr: 0.0010 - 74s/epoch - 17ms/step
Epoch 46/100
4378/4378 - 74s - loss: 1.6096 - accuracy: 0.1993 - val_loss: 1.6416 - val_accuracy: 0.8239 - lr: 0.0010 - 74s/epoch - 17ms/step
Epoch 47/100
4378/4378 - 74s - loss: 1.6096 - accuracy: 0.1987 - val_loss: 1.6273 - val_accuracy: 0.0098 - lr: 0.0010 - 74s/epoch - 17ms/step
Epoch 48/100
4378/4378 - 74s - loss: 1.6096 - accuracy: 0.1975 - val_loss: 1.6129 - val_accuracy: 0.8200 - lr: 0.0010 - 74s/epoch - 17ms/step
Epoch 49/100
4378/4378 - 74s - loss: 1.6096 - accuracy: 0.1989 - val_loss: 1.6562 - val_accuracy: 0.0736 - lr: 0.0010 - 74s/epoch - 17ms/step
Epoch 50/100
4378/4378 - 74s - loss: 1.6096 - accuracy: 0.1998 - val_loss: 1.6717 - val_accuracy: 0.0260 - lr: 0.0010 - 74s/epoch - 17ms/step
Epoch 51/100
4378/4378 - 74s - loss: 1.6096 - accuracy: 0.2000 - val_loss: 1.6603 - val_accuracy: 0.0075 - lr: 0.0010 - 74s/epoch - 17ms/step
Epoch 52/100
4378/4378 - 74s - loss: 1.6096 - accuracy: 0.1968 - val_loss: 1.6569 - val_accuracy: 0.0660 - lr: 0.0010 - 74s/epoch - 17ms/step
Epoch 53/100
4378/4378 - 74s - loss: 1.6096 - accuracy: 0.2013 - val_loss: 1.6449 - val_accuracy: 0.0661 - lr: 0.0010 - 74s/epoch - 17ms/step
Epoch 54/100
4378/4378 - 74s - loss: 1.6096 - accuracy: 0.2008 - val_loss: 1.6301 - val_accuracy: 0.8240 - lr: 0.0010 - 74s/epoch - 17ms/step
Epoch 55/100
4378/4378 - 74s - loss: 1.6096 - accuracy: 0.2002 - val_loss: 1.6687 - val_accuracy: 0.0705 - lr: 0.0010 - 74s/epoch - 17ms/step
Epoch 56/100
4378/4378 - 74s - loss: 1.6096 - accuracy: 0.1976 - val_loss: 1.6381 - val_accuracy: 0.0081 - lr: 0.0010 - 74s/epoch - 17ms/step
Epoch 57/100
4378/4378 - 74s - loss: 1.6096 - accuracy: 0.2013 - val_loss: 1.6451 - val_accuracy: 0.0737 - lr: 0.0010 - 74s/epoch - 17ms/step
Epoch 58/100
4378/4378 - 74s - loss: 1.6096 - accuracy: 0.1982 - val_loss: 1.6232 - val_accuracy: 0.0759 - lr: 0.0010 - 74s/epoch - 17ms/step
Epoch 59/100
4378/4378 - 74s - loss: 1.6096 - accuracy: 0.2007 - val_loss: 1.6505 - val_accuracy: 0.8189 - lr: 0.0010 - 74s/epoch - 17ms/step
Epoch 60/100
4378/4378 - 74s - loss: 1.6096 - accuracy: 0.1992 - val_loss: 1.6674 - val_accuracy: 0.0256 - lr: 0.0010 - 74s/epoch - 17ms/step
Epoch 61/100
4378/4378 - 75s - loss: 1.6096 - accuracy: 0.1994 - val_loss: 1.6354 - val_accuracy: 0.8237 - lr: 0.0010 - 75s/epoch - 17ms/step
Epoch 62/100
4378/4378 - 74s - loss: 1.6096 - accuracy: 0.1996 - val_loss: 1.6295 - val_accuracy: 0.8240 - lr: 0.0010 - 74s/epoch - 17ms/step
Epoch 63/100
4378/4378 - 74s - loss: 1.6096 - accuracy: 0.2000 - val_loss: 1.6519 - val_accuracy: 0.0704 - lr: 0.0010 - 74s/epoch - 17ms/step
Epoch 64/100
4378/4378 - 74s - loss: 1.6096 - accuracy: 0.1990 - val_loss: 1.6496 - val_accuracy: 0.8241 - lr: 0.0010 - 74s/epoch - 17ms/step
Epoch 65/100
4378/4378 - 74s - loss: 1.6096 - accuracy: 0.1980 - val_loss: 1.6397 - val_accuracy: 0.8240 - lr: 0.0010 - 74s/epoch - 17ms/step
Epoch 66/100
4378/4378 - 74s - loss: 1.6096 - accuracy: 0.1993 - val_loss: 1.6437 - val_accuracy: 0.0255 - lr: 0.0010 - 74s/epoch - 17ms/step
Epoch 67/100
4378/4378 - 74s - loss: 1.6096 - accuracy: 0.1989 - val_loss: 1.6363 - val_accuracy: 0.0738 - lr: 0.0010 - 74s/epoch - 17ms/step
Epoch 68/100
4378/4378 - 74s - loss: 1.6096 - accuracy: 0.1983 - val_loss: 1.6760 - val_accuracy: 0.0259 - lr: 0.0010 - 74s/epoch - 17ms/step
Epoch 69/100
4378/4378 - 74s - loss: 1.6096 - accuracy: 0.1998 - val_loss: 1.6219 - val_accuracy: 0.0083 - lr: 0.0010 - 74s/epoch - 17ms/step
Epoch 70/100
4378/4378 - 74s - loss: 1.6096 - accuracy: 0.1989 - val_loss: 1.6620 - val_accuracy: 0.0736 - lr: 0.0010 - 74s/epoch - 17ms/step
Epoch 71/100
4378/4378 - 74s - loss: 1.6096 - accuracy: 0.1980 - val_loss: 1.6107 - val_accuracy: 0.0682 - lr: 0.0010 - 74s/epoch - 17ms/step
Epoch 72/100
4378/4378 - 75s - loss: 1.6096 - accuracy: 0.1990 - val_loss: 1.6057 - val_accuracy: 0.8261 - lr: 0.0010 - 75s/epoch - 17ms/step
Epoch 73/100
4378/4378 - 74s - loss: 1.6097 - accuracy: 0.1975 - val_loss: 1.6596 - val_accuracy: 0.0656 - lr: 0.0010 - 74s/epoch - 17ms/step
Epoch 74/100
4378/4378 - 74s - loss: 1.6096 - accuracy: 0.1969 - val_loss: 1.6578 - val_accuracy: 0.0787 - lr: 0.0010 - 74s/epoch - 17ms/step
Epoch 75/100
4378/4378 - 74s - loss: 1.6096 - accuracy: 0.1976 - val_loss: 1.6820 - val_accuracy: 0.0737 - lr: 0.0010 - 74s/epoch - 17ms/step
Epoch 76/100
4378/4378 - 74s - loss: 1.6097 - accuracy: 0.1997 - val_loss: 1.6083 - val_accuracy: 0.8215 - lr: 0.0010 - 74s/epoch - 17ms/step
Epoch 77/100
4378/4378 - 74s - loss: 1.6096 - accuracy: 0.2002 - val_loss: 1.6559 - val_accuracy: 0.0254 - lr: 0.0010 - 74s/epoch - 17ms/step
Epoch 78/100
4378/4378 - 74s - loss: 1.6097 - accuracy: 0.1991 - val_loss: 1.6236 - val_accuracy: 0.0760 - lr: 0.0010 - 74s/epoch - 17ms/step
Epoch 79/100
4378/4378 - 74s - loss: 1.6096 - accuracy: 0.1996 - val_loss: 1.6725 - val_accuracy: 0.0258 - lr: 0.0010 - 74s/epoch - 17ms/step
Epoch 80/100
4378/4378 - 74s - loss: 1.6096 - accuracy: 0.2005 - val_loss: 1.6348 - val_accuracy: 0.0734 - lr: 0.0010 - 74s/epoch - 17ms/step
Epoch 81/100
4378/4378 - 75s - loss: 1.6096 - accuracy: 0.1985 - val_loss: 1.6605 - val_accuracy: 0.0705 - lr: 0.0010 - 75s/epoch - 17ms/step
Epoch 82/100
4378/4378 - 74s - loss: 1.6096 - accuracy: 0.1977 - val_loss: 1.6415 - val_accuracy: 0.8192 - lr: 0.0010 - 74s/epoch - 17ms/step
Epoch 83/100
4378/4378 - 74s - loss: 1.6096 - accuracy: 0.1985 - val_loss: 1.6629 - val_accuracy: 0.0306 - lr: 0.0010 - 74s/epoch - 17ms/step
Epoch 84/100
4378/4378 - 74s - loss: 1.6096 - accuracy: 0.1965 - val_loss: 1.6509 - val_accuracy: 0.0740 - lr: 0.0010 - 74s/epoch - 17ms/step
Epoch 85/100
4378/4378 - 75s - loss: 1.6096 - accuracy: 0.1985 - val_loss: 1.6366 - val_accuracy: 0.8240 - lr: 0.0010 - 75s/epoch - 17ms/step
Epoch 86/100
4378/4378 - 74s - loss: 1.6096 - accuracy: 0.1996 - val_loss: 1.6536 - val_accuracy: 0.0661 - lr: 0.0010 - 74s/epoch - 17ms/step
Epoch 87/100
4378/4378 - 75s - loss: 1.6097 - accuracy: 0.1983 - val_loss: 1.6451 - val_accuracy: 0.8239 - lr: 0.0010 - 75s/epoch - 17ms/step
Epoch 88/100
4378/4378 - 74s - loss: 1.6096 - accuracy: 0.2013 - val_loss: 1.6767 - val_accuracy: 0.0077 - lr: 0.0010 - 74s/epoch - 17ms/step
Epoch 89/100
4378/4378 - 74s - loss: 1.6096 - accuracy: 0.2018 - val_loss: 1.6636 - val_accuracy: 0.0736 - lr: 0.0010 - 74s/epoch - 17ms/step
Epoch 90/100
4378/4378 - 74s - loss: 1.6096 - accuracy: 0.1969 - val_loss: 1.6693 - val_accuracy: 0.0123 - lr: 0.0010 - 74s/epoch - 17ms/step
Epoch 91/100
4378/4378 - 74s - loss: 1.6096 - accuracy: 0.1981 - val_loss: 1.6333 - val_accuracy: 0.0269 - lr: 0.0010 - 74s/epoch - 17ms/step
Epoch 92/100
4378/4378 - 74s - loss: 1.6096 - accuracy: 0.1990 - val_loss: 1.6104 - val_accuracy: 0.8246 - lr: 0.0010 - 74s/epoch - 17ms/step
Epoch 93/100
4378/4378 - 75s - loss: 1.6096 - accuracy: 0.1979 - val_loss: 1.6341 - val_accuracy: 0.8192 - lr: 0.0010 - 75s/epoch - 17ms/step
Epoch 94/100
4378/4378 - 74s - loss: 1.6096 - accuracy: 0.1992 - val_loss: 1.6463 - val_accuracy: 0.0310 - lr: 0.0010 - 74s/epoch - 17ms/step
Epoch 95/100
4378/4378 - 74s - loss: 1.6096 - accuracy: 0.1985 - val_loss: 1.6573 - val_accuracy: 0.0662 - lr: 0.0010 - 74s/epoch - 17ms/step
Epoch 96/100
4378/4378 - 74s - loss: 1.6096 - accuracy: 0.2007 - val_loss: 1.6679 - val_accuracy: 0.0736 - lr: 0.0010 - 74s/epoch - 17ms/step
Epoch 97/100
4378/4378 - 74s - loss: 1.6096 - accuracy: 0.1985 - val_loss: 1.6558 - val_accuracy: 0.0736 - lr: 0.0010 - 74s/epoch - 17ms/step
Epoch 98/100
4378/4378 - 74s - loss: 1.6096 - accuracy: 0.2017 - val_loss: 1.6620 - val_accuracy: 0.0076 - lr: 0.0010 - 74s/epoch - 17ms/step
Epoch 99/100
4378/4378 - 74s - loss: 1.6095 - accuracy: 0.2027 - val_loss: 1.6590 - val_accuracy: 0.0258 - lr: 0.0010 - 74s/epoch - 17ms/step
Epoch 100/100
4378/4378 - 74s - loss: 1.6096 - accuracy: 0.1995 - val_loss: 1.6498 - val_accuracy: 0.8190 - lr: 0.0010 - 74s/epoch - 17ms/step
fitting with batch size: 100
Epoch 1/100
876/876 - 21s - loss: 1.6095 - accuracy: 0.2003 - val_loss: 1.6589 - val_accuracy: 0.0663 - lr: 0.0010 - 21s/epoch - 24ms/step
Epoch 2/100
876/876 - 18s - loss: 1.6095 - accuracy: 0.1982 - val_loss: 1.6486 - val_accuracy: 0.8239 - lr: 0.0010 - 18s/epoch - 21ms/step
Epoch 3/100
876/876 - 18s - loss: 1.6095 - accuracy: 0.1996 - val_loss: 1.6510 - val_accuracy: 0.0256 - lr: 0.0010 - 18s/epoch - 21ms/step
Epoch 4/100
876/876 - 18s - loss: 1.6095 - accuracy: 0.1962 - val_loss: 1.6408 - val_accuracy: 0.0788 - lr: 0.0010 - 18s/epoch - 21ms/step
Epoch 5/100
876/876 - 18s - loss: 1.6095 - accuracy: 0.1985 - val_loss: 1.6487 - val_accuracy: 0.0127 - lr: 0.0010 - 18s/epoch - 21ms/step
Epoch 6/100
876/876 - 18s - loss: 1.6095 - accuracy: 0.1967 - val_loss: 1.6230 - val_accuracy: 0.0254 - lr: 0.0010 - 18s/epoch - 21ms/step
Epoch 7/100
876/876 - 18s - loss: 1.6095 - accuracy: 0.1990 - val_loss: 1.6546 - val_accuracy: 0.0079 - lr: 0.0010 - 18s/epoch - 21ms/step
Epoch 8/100
876/876 - 18s - loss: 1.6095 - accuracy: 0.1973 - val_loss: 1.6117 - val_accuracy: 0.0772 - lr: 0.0010 - 18s/epoch - 21ms/step
Epoch 9/100
876/876 - 18s - loss: 1.6095 - accuracy: 0.2005 - val_loss: 1.6634 - val_accuracy: 0.0305 - lr: 0.0010 - 18s/epoch - 21ms/step
Epoch 10/100
876/876 - 18s - loss: 1.6095 - accuracy: 0.2003 - val_loss: 1.6606 - val_accuracy: 0.0787 - lr: 0.0010 - 18s/epoch - 21ms/step
Epoch 11/100
876/876 - 18s - loss: 1.6095 - accuracy: 0.2004 - val_loss: 1.6396 - val_accuracy: 0.8240 - lr: 0.0010 - 18s/epoch - 21ms/step
Epoch 12/100
876/876 - 18s - loss: 1.6095 - accuracy: 0.1986 - val_loss: 1.6546 - val_accuracy: 0.0254 - lr: 0.0010 - 18s/epoch - 21ms/step
Epoch 13/100
876/876 - 18s - loss: 1.6095 - accuracy: 0.1974 - val_loss: 1.6528 - val_accuracy: 0.0666 - lr: 0.0010 - 18s/epoch - 21ms/step
Epoch 14/100
876/876 - 18s - loss: 1.6095 - accuracy: 0.1978 - val_loss: 1.6560 - val_accuracy: 0.0076 - lr: 0.0010 - 18s/epoch - 21ms/step
Epoch 15/100
876/876 - 18s - loss: 1.6095 - accuracy: 0.1987 - val_loss: 1.6368 - val_accuracy: 0.8242 - lr: 0.0010 - 18s/epoch - 21ms/step
Epoch 16/100
876/876 - 18s - loss: 1.6095 - accuracy: 0.1995 - val_loss: 1.6375 - val_accuracy: 0.8195 - lr: 0.0010 - 18s/epoch - 21ms/step
Epoch 17/100
876/876 - 18s - loss: 1.6095 - accuracy: 0.2008 - val_loss: 1.6523 - val_accuracy: 0.0734 - lr: 0.0010 - 18s/epoch - 21ms/step
Epoch 18/100
876/876 - 18s - loss: 1.6095 - accuracy: 0.1975 - val_loss: 1.6503 - val_accuracy: 0.0738 - lr: 0.0010 - 18s/epoch - 21ms/step
Epoch 19/100
876/876 - 18s - loss: 1.6095 - accuracy: 0.1993 - val_loss: 1.6544 - val_accuracy: 0.0079 - lr: 0.0010 - 18s/epoch - 21ms/step
Epoch 20/100
876/876 - 18s - loss: 1.6095 - accuracy: 0.1984 - val_loss: 1.6622 - val_accuracy: 0.0257 - lr: 0.0010 - 18s/epoch - 21ms/step
Epoch 21/100
876/876 - 18s - loss: 1.6095 - accuracy: 0.1996 - val_loss: 1.6433 - val_accuracy: 0.0737 - lr: 0.0010 - 18s/epoch - 21ms/step
Epoch 22/100
876/876 - 18s - loss: 1.6095 - accuracy: 0.2000 - val_loss: 1.6583 - val_accuracy: 0.0079 - lr: 0.0010 - 18s/epoch - 21ms/step
Epoch 23/100
876/876 - 18s - loss: 1.6095 - accuracy: 0.1988 - val_loss: 1.6499 - val_accuracy: 0.0254 - lr: 0.0010 - 18s/epoch - 21ms/step
Epoch 24/100
876/876 - 18s - loss: 1.6095 - accuracy: 0.1978 - val_loss: 1.6472 - val_accuracy: 0.0079 - lr: 0.0010 - 18s/epoch - 21ms/step
Epoch 25/100
876/876 - 18s - loss: 1.6095 - accuracy: 0.1991 - val_loss: 1.6316 - val_accuracy: 0.0743 - lr: 0.0010 - 18s/epoch - 21ms/step
Epoch 26/100
876/876 - 18s - loss: 1.6095 - accuracy: 0.1994 - val_loss: 1.6555 - val_accuracy: 0.0074 - lr: 0.0010 - 18s/epoch - 21ms/step
Epoch 27/100
876/876 - 18s - loss: 1.6095 - accuracy: 0.1997 - val_loss: 1.6439 - val_accuracy: 0.8237 - lr: 0.0010 - 18s/epoch - 21ms/step
Epoch 28/100
876/876 - 18s - loss: 1.6095 - accuracy: 0.1992 - val_loss: 1.6597 - val_accuracy: 0.0735 - lr: 0.0010 - 18s/epoch - 21ms/step
Epoch 29/100
876/876 - 18s - loss: 1.6095 - accuracy: 0.1987 - val_loss: 1.6592 - val_accuracy: 0.0741 - lr: 0.0010 - 18s/epoch - 21ms/step
Epoch 30/100
876/876 - 18s - loss: 1.6095 - accuracy: 0.1976 - val_loss: 1.6374 - val_accuracy: 0.8194 - lr: 0.0010 - 18s/epoch - 21ms/step
Epoch 31/100
876/876 - 18s - loss: 1.6095 - accuracy: 0.2008 - val_loss: 1.6363 - val_accuracy: 0.0707 - lr: 0.0010 - 18s/epoch - 21ms/step
Epoch 32/100
876/876 - 18s - loss: 1.6095 - accuracy: 0.2002 - val_loss: 1.6545 - val_accuracy: 0.0660 - lr: 0.0010 - 18s/epoch - 21ms/step
Epoch 33/100
876/876 - 18s - loss: 1.6095 - accuracy: 0.1997 - val_loss: 1.6950 - val_accuracy: 0.0080 - lr: 0.0010 - 18s/epoch - 21ms/step
Epoch 34/100
876/876 - 18s - loss: 1.6095 - accuracy: 0.2004 - val_loss: 1.6619 - val_accuracy: 0.0705 - lr: 0.0010 - 18s/epoch - 21ms/step
Epoch 35/100
876/876 - 18s - loss: 1.6095 - accuracy: 0.1978 - val_loss: 1.6330 - val_accuracy: 0.8196 - lr: 0.0010 - 18s/epoch - 21ms/step
Epoch 36/100
876/876 - 18s - loss: 1.6095 - accuracy: 0.2004 - val_loss: 1.6671 - val_accuracy: 0.0254 - lr: 0.0010 - 18s/epoch - 21ms/step
Epoch 37/100
876/876 - 18s - loss: 1.6095 - accuracy: 0.1989 - val_loss: 1.6186 - val_accuracy: 0.0105 - lr: 0.0010 - 18s/epoch - 21ms/step
Epoch 38/100
876/876 - 18s - loss: 1.6095 - accuracy: 0.1976 - val_loss: 1.6189 - val_accuracy: 0.0766 - lr: 0.0010 - 18s/epoch - 21ms/step
Epoch 39/100
876/876 - 18s - loss: 1.6095 - accuracy: 0.1992 - val_loss: 1.6553 - val_accuracy: 0.0257 - lr: 0.0010 - 18s/epoch - 21ms/step
Epoch 40/100
876/876 - 18s - loss: 1.6095 - accuracy: 0.1994 - val_loss: 1.6528 - val_accuracy: 0.0658 - lr: 0.0010 - 18s/epoch - 21ms/step
Epoch 41/100
876/876 - 18s - loss: 1.6095 - accuracy: 0.1999 - val_loss: 1.6536 - val_accuracy: 0.0126 - lr: 0.0010 - 18s/epoch - 21ms/step
Epoch 42/100
876/876 - 18s - loss: 1.6095 - accuracy: 0.1981 - val_loss: 1.6431 - val_accuracy: 0.8192 - lr: 0.0010 - 18s/epoch - 21ms/step
Epoch 43/100
876/876 - 18s - loss: 1.6095 - accuracy: 0.1995 - val_loss: 1.6568 - val_accuracy: 0.0738 - lr: 0.0010 - 18s/epoch - 21ms/step
Epoch 44/100
876/876 - 18s - loss: 1.6095 - accuracy: 0.1997 - val_loss: 1.6194 - val_accuracy: 0.8212 - lr: 0.0010 - 18s/epoch - 21ms/step
Epoch 45/100
876/876 - 18s - loss: 1.6096 - accuracy: 0.1984 - val_loss: 1.6305 - val_accuracy: 0.8187 - lr: 0.0010 - 18s/epoch - 21ms/step
Epoch 46/100
876/876 - 18s - loss: 1.6095 - accuracy: 0.1973 - val_loss: 1.6258 - val_accuracy: 0.0331 - lr: 0.0010 - 18s/epoch - 21ms/step
Epoch 47/100
876/876 - 18s - loss: 1.6095 - accuracy: 0.1984 - val_loss: 1.6557 - val_accuracy: 0.0079 - lr: 0.0010 - 18s/epoch - 21ms/step
Epoch 48/100
876/876 - 18s - loss: 1.6095 - accuracy: 0.1997 - val_loss: 1.6584 - val_accuracy: 0.0310 - lr: 0.0010 - 18s/epoch - 21ms/step
Epoch 49/100
876/876 - 18s - loss: 1.6095 - accuracy: 0.2013 - val_loss: 1.6609 - val_accuracy: 0.0734 - lr: 0.0010 - 18s/epoch - 21ms/step
Epoch 50/100
876/876 - 18s - loss: 1.6095 - accuracy: 0.1979 - val_loss: 1.6532 - val_accuracy: 0.0658 - lr: 0.0010 - 18s/epoch - 21ms/step
Epoch 51/100
876/876 - 18s - loss: 1.6095 - accuracy: 0.1981 - val_loss: 1.6366 - val_accuracy: 0.0126 - lr: 0.0010 - 18s/epoch - 21ms/step
Epoch 52/100
876/876 - 18s - loss: 1.6095 - accuracy: 0.1982 - val_loss: 1.6439 - val_accuracy: 0.0088 - lr: 0.0010 - 18s/epoch - 21ms/step
Epoch 53/100
876/876 - 18s - loss: 1.6095 - accuracy: 0.1979 - val_loss: 1.6158 - val_accuracy: 0.0685 - lr: 0.0010 - 18s/epoch - 21ms/step
Epoch 54/100
876/876 - 18s - loss: 1.6095 - accuracy: 0.1997 - val_loss: 1.6555 - val_accuracy: 0.0076 - lr: 0.0010 - 18s/epoch - 21ms/step
Epoch 55/100
876/876 - 18s - loss: 1.6095 - accuracy: 0.2001 - val_loss: 1.6302 - val_accuracy: 0.0084 - lr: 0.0010 - 18s/epoch - 21ms/step
Epoch 56/100
876/876 - 18s - loss: 1.6095 - accuracy: 0.1979 - val_loss: 1.6405 - val_accuracy: 0.0085 - lr: 0.0010 - 18s/epoch - 21ms/step
Epoch 57/100
876/876 - 18s - loss: 1.6095 - accuracy: 0.1970 - val_loss: 1.6418 - val_accuracy: 0.0655 - lr: 0.0010 - 18s/epoch - 21ms/step
Epoch 58/100
876/876 - 18s - loss: 1.6095 - accuracy: 0.1981 - val_loss: 1.6440 - val_accuracy: 0.0259 - lr: 0.0010 - 18s/epoch - 21ms/step
Epoch 59/100
876/876 - 18s - loss: 1.6095 - accuracy: 0.1987 - val_loss: 1.6355 - val_accuracy: 0.0741 - lr: 0.0010 - 18s/epoch - 21ms/step
Epoch 60/100
876/876 - 18s - loss: 1.6095 - accuracy: 0.1967 - val_loss: 1.6376 - val_accuracy: 0.8242 - lr: 0.0010 - 18s/epoch - 21ms/step
Epoch 61/100
876/876 - 18s - loss: 1.6095 - accuracy: 0.1997 - val_loss: 1.6531 - val_accuracy: 0.0789 - lr: 0.0010 - 18s/epoch - 21ms/step
Epoch 62/100
876/876 - 18s - loss: 1.6095 - accuracy: 0.2003 - val_loss: 1.6330 - val_accuracy: 0.0682 - lr: 0.0010 - 18s/epoch - 21ms/step
Epoch 63/100
876/876 - 18s - loss: 1.6095 - accuracy: 0.2002 - val_loss: 1.6183 - val_accuracy: 0.0757 - lr: 0.0010 - 18s/epoch - 21ms/step
Epoch 64/100
876/876 - 18s - loss: 1.6095 - accuracy: 0.1982 - val_loss: 1.6033 - val_accuracy: 0.8214 - lr: 0.0010 - 18s/epoch - 21ms/step
Epoch 65/100
876/876 - 18s - loss: 1.6095 - accuracy: 0.1967 - val_loss: 1.6511 - val_accuracy: 0.0254 - lr: 0.0010 - 18s/epoch - 21ms/step
Epoch 66/100
876/876 - 18s - loss: 1.6095 - accuracy: 0.2007 - val_loss: 1.6558 - val_accuracy: 0.0706 - lr: 0.0010 - 18s/epoch - 21ms/step
Epoch 67/100
876/876 - 18s - loss: 1.6095 - accuracy: 0.1981 - val_loss: 1.6544 - val_accuracy: 0.0255 - lr: 0.0010 - 18s/epoch - 21ms/step
Epoch 68/100
876/876 - 18s - loss: 1.6095 - accuracy: 0.1971 - val_loss: 1.6547 - val_accuracy: 0.0310 - lr: 0.0010 - 18s/epoch - 21ms/step
Epoch 69/100
876/876 - 18s - loss: 1.6095 - accuracy: 0.1991 - val_loss: 1.6398 - val_accuracy: 0.8247 - lr: 0.0010 - 18s/epoch - 21ms/step
Epoch 70/100
876/876 - 18s - loss: 1.6096 - accuracy: 0.1971 - val_loss: 1.6262 - val_accuracy: 0.0754 - lr: 0.0010 - 18s/epoch - 21ms/step
Epoch 71/100
876/876 - 18s - loss: 1.6095 - accuracy: 0.1990 - val_loss: 1.5979 - val_accuracy: 0.8225 - lr: 0.0010 - 18s/epoch - 21ms/step
Epoch 72/100
876/876 - 18s - loss: 1.6095 - accuracy: 0.1964 - val_loss: 1.6482 - val_accuracy: 0.0661 - lr: 0.0010 - 18s/epoch - 21ms/step
Epoch 73/100
876/876 - 18s - loss: 1.6095 - accuracy: 0.1996 - val_loss: 1.6362 - val_accuracy: 0.0260 - lr: 0.0010 - 18s/epoch - 21ms/step
Epoch 74/100
876/876 - 18s - loss: 1.6095 - accuracy: 0.1974 - val_loss: 1.6220 - val_accuracy: 0.0288 - lr: 0.0010 - 18s/epoch - 21ms/step
Epoch 75/100
876/876 - 18s - loss: 1.6095 - accuracy: 0.1987 - val_loss: 1.6468 - val_accuracy: 0.0081 - lr: 0.0010 - 18s/epoch - 21ms/step
Epoch 76/100
876/876 - 18s - loss: 1.6095 - accuracy: 0.1990 - val_loss: 1.6612 - val_accuracy: 0.0077 - lr: 0.0010 - 18s/epoch - 21ms/step
Epoch 77/100
876/876 - 18s - loss: 1.6095 - accuracy: 0.1991 - val_loss: 1.6497 - val_accuracy: 0.0743 - lr: 0.0010 - 18s/epoch - 21ms/step
Epoch 78/100
876/876 - 18s - loss: 1.6095 - accuracy: 0.2005 - val_loss: 1.6642 - val_accuracy: 0.0786 - lr: 0.0010 - 18s/epoch - 21ms/step
Epoch 79/100
876/876 - 18s - loss: 1.6095 - accuracy: 0.1959 - val_loss: 1.6584 - val_accuracy: 0.0302 - lr: 0.0010 - 18s/epoch - 21ms/step
Epoch 80/100
876/876 - 18s - loss: 1.6095 - accuracy: 0.1989 - val_loss: 1.6546 - val_accuracy: 0.0664 - lr: 0.0010 - 18s/epoch - 21ms/step
Epoch 81/100
876/876 - 18s - loss: 1.6095 - accuracy: 0.1977 - val_loss: 1.6533 - val_accuracy: 0.0738 - lr: 0.0010 - 18s/epoch - 21ms/step
Epoch 82/100
876/876 - 18s - loss: 1.6095 - accuracy: 0.1976 - val_loss: 1.6410 - val_accuracy: 0.0254 - lr: 0.0010 - 18s/epoch - 21ms/step
Epoch 83/100
876/876 - 18s - loss: 1.6095 - accuracy: 0.2007 - val_loss: 1.6520 - val_accuracy: 0.0079 - lr: 0.0010 - 18s/epoch - 21ms/step
Epoch 84/100
876/876 - 18s - loss: 1.6095 - accuracy: 0.2012 - val_loss: 1.6471 - val_accuracy: 0.8237 - lr: 0.0010 - 18s/epoch - 21ms/step
Epoch 85/100
876/876 - 18s - loss: 1.6095 - accuracy: 0.1980 - val_loss: 1.6571 - val_accuracy: 0.0735 - lr: 0.0010 - 18s/epoch - 21ms/step
Epoch 86/100
876/876 - 18s - loss: 1.6095 - accuracy: 0.1997 - val_loss: 1.6255 - val_accuracy: 0.0107 - lr: 0.0010 - 18s/epoch - 21ms/step
Epoch 87/100
876/876 - 18s - loss: 1.6095 - accuracy: 0.1971 - val_loss: 1.6280 - val_accuracy: 0.0084 - lr: 0.0010 - 18s/epoch - 21ms/step
Epoch 88/100
876/876 - 18s - loss: 1.6095 - accuracy: 0.1994 - val_loss: 1.6691 - val_accuracy: 0.0255 - lr: 0.0010 - 18s/epoch - 21ms/step
Epoch 89/100
876/876 - 18s - loss: 1.6095 - accuracy: 0.1984 - val_loss: 1.6606 - val_accuracy: 0.0656 - lr: 0.0010 - 18s/epoch - 21ms/step
Epoch 90/100
876/876 - 18s - loss: 1.6096 - accuracy: 0.1981 - val_loss: 1.6519 - val_accuracy: 0.0260 - lr: 0.0010 - 18s/epoch - 21ms/step
Epoch 91/100
876/876 - 18s - loss: 1.6095 - accuracy: 0.1989 - val_loss: 1.6105 - val_accuracy: 0.8224 - lr: 0.0010 - 18s/epoch - 21ms/step
Epoch 92/100
876/876 - 18s - loss: 1.6095 - accuracy: 0.1966 - val_loss: 1.6189 - val_accuracy: 0.0100 - lr: 0.0010 - 18s/epoch - 21ms/step
Epoch 93/100
876/876 - 18s - loss: 1.6095 - accuracy: 0.2002 - val_loss: 1.6454 - val_accuracy: 0.0737 - lr: 0.0010 - 18s/epoch - 21ms/step
Epoch 94/100
876/876 - 18s - loss: 1.6095 - accuracy: 0.2020 - val_loss: 1.6432 - val_accuracy: 0.8188 - lr: 0.0010 - 18s/epoch - 21ms/step
Epoch 95/100
876/876 - 18s - loss: 1.6095 - accuracy: 0.2002 - val_loss: 1.6270 - val_accuracy: 0.0765 - lr: 0.0010 - 18s/epoch - 21ms/step
Epoch 96/100
876/876 - 18s - loss: 1.6095 - accuracy: 0.2000 - val_loss: 1.6645 - val_accuracy: 0.0667 - lr: 0.0010 - 18s/epoch - 21ms/step
Epoch 97/100
876/876 - 18s - loss: 1.6095 - accuracy: 0.1989 - val_loss: 1.6426 - val_accuracy: 0.0747 - lr: 0.0010 - 18s/epoch - 21ms/step
Epoch 98/100
876/876 - 18s - loss: 1.6095 - accuracy: 0.1973 - val_loss: 1.6466 - val_accuracy: 0.0084 - lr: 0.0010 - 18s/epoch - 21ms/step
Epoch 99/100
876/876 - 18s - loss: 1.6095 - accuracy: 0.1972 - val_loss: 1.6095 - val_accuracy: 0.0335 - lr: 0.0010 - 18s/epoch - 21ms/step
Epoch 100/100
876/876 - 18s - loss: 1.6095 - accuracy: 0.1993 - val_loss: 1.6281 - val_accuracy: 0.8245 - lr: 0.0010 - 18s/epoch - 21ms/step
fitting with batch size: 500
Epoch 1/100
176/176 - 13s - loss: 1.6095 - accuracy: 0.1980 - val_loss: 1.6441 - val_accuracy: 0.8244 - lr: 0.0010 - 13s/epoch - 73ms/step
Epoch 2/100
176/176 - 9s - loss: 1.6095 - accuracy: 0.1993 - val_loss: 1.6408 - val_accuracy: 0.8244 - lr: 0.0010 - 9s/epoch - 51ms/step
Epoch 3/100
176/176 - 9s - loss: 1.6095 - accuracy: 0.1984 - val_loss: 1.6412 - val_accuracy: 0.8193 - lr: 0.0010 - 9s/epoch - 50ms/step
Epoch 4/100
176/176 - 9s - loss: 1.6095 - accuracy: 0.1988 - val_loss: 1.6470 - val_accuracy: 0.0664 - lr: 0.0010 - 9s/epoch - 50ms/step
Epoch 5/100
176/176 - 9s - loss: 1.6095 - accuracy: 0.1996 - val_loss: 1.6417 - val_accuracy: 0.0309 - lr: 0.0010 - 9s/epoch - 50ms/step
Epoch 6/100
176/176 - 9s - loss: 1.6095 - accuracy: 0.1982 - val_loss: 1.6425 - val_accuracy: 0.0660 - lr: 0.0010 - 9s/epoch - 50ms/step
Epoch 7/100
176/176 - 9s - loss: 1.6095 - accuracy: 0.1987 - val_loss: 1.6429 - val_accuracy: 0.0739 - lr: 0.0010 - 9s/epoch - 50ms/step
Epoch 8/100
176/176 - 9s - loss: 1.6095 - accuracy: 0.1992 - val_loss: 1.6381 - val_accuracy: 0.8189 - lr: 0.0010 - 9s/epoch - 50ms/step
Epoch 9/100
176/176 - 9s - loss: 1.6095 - accuracy: 0.1972 - val_loss: 1.6296 - val_accuracy: 0.8190 - lr: 0.0010 - 9s/epoch - 50ms/step
Epoch 10/100
176/176 - 9s - loss: 1.6095 - accuracy: 0.1975 - val_loss: 1.6305 - val_accuracy: 0.0256 - lr: 0.0010 - 9s/epoch - 50ms/step
Epoch 11/100
176/176 - 9s - loss: 1.6095 - accuracy: 0.1970 - val_loss: 1.6425 - val_accuracy: 0.0655 - lr: 0.0010 - 9s/epoch - 50ms/step
Epoch 12/100
176/176 - 9s - loss: 1.6095 - accuracy: 0.1998 - val_loss: 1.6144 - val_accuracy: 0.8215 - lr: 0.0010 - 9s/epoch - 51ms/step
Epoch 13/100
176/176 - 9s - loss: 1.6095 - accuracy: 0.1966 - val_loss: 1.6147 - val_accuracy: 0.8263 - lr: 0.0010 - 9s/epoch - 50ms/step
Epoch 14/100
176/176 - 9s - loss: 1.6095 - accuracy: 0.1988 - val_loss: 1.6089 - val_accuracy: 0.8213 - lr: 0.0010 - 9s/epoch - 51ms/step
Epoch 15/100
176/176 - 9s - loss: 1.6095 - accuracy: 0.1999 - val_loss: 1.6306 - val_accuracy: 0.8235 - lr: 0.0010 - 9s/epoch - 50ms/step
Epoch 16/100
176/176 - 9s - loss: 1.6095 - accuracy: 0.1992 - val_loss: 1.6268 - val_accuracy: 0.8237 - lr: 0.0010 - 9s/epoch - 51ms/step
Epoch 17/100
176/176 - 9s - loss: 1.6095 - accuracy: 0.1991 - val_loss: 1.6622 - val_accuracy: 0.0739 - lr: 0.0010 - 9s/epoch - 50ms/step
Epoch 18/100
176/176 - 9s - loss: 1.6095 - accuracy: 0.1975 - val_loss: 1.6409 - val_accuracy: 0.0660 - lr: 0.0010 - 9s/epoch - 51ms/step
Epoch 19/100
176/176 - 9s - loss: 1.6095 - accuracy: 0.1989 - val_loss: 1.6221 - val_accuracy: 0.0262 - lr: 0.0010 - 9s/epoch - 50ms/step
Epoch 20/100
176/176 - 9s - loss: 1.6095 - accuracy: 0.1988 - val_loss: 1.6490 - val_accuracy: 0.0737 - lr: 0.0010 - 9s/epoch - 51ms/step
Epoch 21/100
176/176 - 9s - loss: 1.6095 - accuracy: 0.1987 - val_loss: 1.6335 - val_accuracy: 0.0664 - lr: 0.0010 - 9s/epoch - 50ms/step
Epoch 22/100
176/176 - 9s - loss: 1.6095 - accuracy: 0.2014 - val_loss: 1.6478 - val_accuracy: 0.0082 - lr: 0.0010 - 9s/epoch - 51ms/step
Epoch 23/100
176/176 - 9s - loss: 1.6095 - accuracy: 0.1991 - val_loss: 1.6347 - val_accuracy: 0.0268 - lr: 0.0010 - 9s/epoch - 50ms/step
Epoch 24/100
176/176 - 9s - loss: 1.6095 - accuracy: 0.1969 - val_loss: 1.6430 - val_accuracy: 0.0671 - lr: 0.0010 - 9s/epoch - 51ms/step
Epoch 25/100
176/176 - 9s - loss: 1.6095 - accuracy: 0.1996 - val_loss: 1.6490 - val_accuracy: 0.0085 - lr: 0.0010 - 9s/epoch - 50ms/step
Epoch 26/100
176/176 - 9s - loss: 1.6095 - accuracy: 0.1981 - val_loss: 1.6329 - val_accuracy: 0.0087 - lr: 0.0010 - 9s/epoch - 51ms/step
Epoch 27/100
176/176 - 9s - loss: 1.6095 - accuracy: 0.1972 - val_loss: 1.6523 - val_accuracy: 0.0258 - lr: 0.0010 - 9s/epoch - 50ms/step
Epoch 28/100
176/176 - 9s - loss: 1.6095 - accuracy: 0.1972 - val_loss: 1.6527 - val_accuracy: 0.0257 - lr: 0.0010 - 9s/epoch - 51ms/step
Epoch 29/100
176/176 - 9s - loss: 1.6095 - accuracy: 0.1995 - val_loss: 1.6578 - val_accuracy: 0.0254 - lr: 0.0010 - 9s/epoch - 50ms/step
Epoch 30/100
176/176 - 9s - loss: 1.6095 - accuracy: 0.2001 - val_loss: 1.6639 - val_accuracy: 0.0074 - lr: 0.0010 - 9s/epoch - 51ms/step
Epoch 31/100
176/176 - 9s - loss: 1.6095 - accuracy: 0.1987 - val_loss: 1.6551 - val_accuracy: 0.0075 - lr: 0.0010 - 9s/epoch - 50ms/step
Epoch 32/100
176/176 - 9s - loss: 1.6095 - accuracy: 0.1979 - val_loss: 1.6517 - val_accuracy: 0.0255 - lr: 0.0010 - 9s/epoch - 51ms/step
Epoch 33/100
176/176 - 9s - loss: 1.6095 - accuracy: 0.1998 - val_loss: 1.6444 - val_accuracy: 0.8188 - lr: 0.0010 - 9s/epoch - 50ms/step
Epoch 34/100
176/176 - 9s - loss: 1.6095 - accuracy: 0.1988 - val_loss: 1.6421 - val_accuracy: 0.8189 - lr: 0.0010 - 9s/epoch - 51ms/step
Epoch 35/100
176/176 - 9s - loss: 1.6095 - accuracy: 0.1997 - val_loss: 1.6527 - val_accuracy: 0.0082 - lr: 0.0010 - 9s/epoch - 50ms/step
Epoch 36/100
176/176 - 9s - loss: 1.6095 - accuracy: 0.1980 - val_loss: 1.6491 - val_accuracy: 0.0082 - lr: 0.0010 - 9s/epoch - 51ms/step
Epoch 37/100
176/176 - 9s - loss: 1.6095 - accuracy: 0.1992 - val_loss: 1.6399 - val_accuracy: 0.0075 - lr: 0.0010 - 9s/epoch - 50ms/step
Epoch 38/100
176/176 - 9s - loss: 1.6095 - accuracy: 0.1992 - val_loss: 1.6369 - val_accuracy: 0.8243 - lr: 0.0010 - 9s/epoch - 51ms/step
Epoch 39/100
176/176 - 9s - loss: 1.6095 - accuracy: 0.2005 - val_loss: 1.6451 - val_accuracy: 0.8192 - lr: 0.0010 - 9s/epoch - 50ms/step
Epoch 40/100
176/176 - 9s - loss: 1.6095 - accuracy: 0.1996 - val_loss: 1.6605 - val_accuracy: 0.0661 - lr: 0.0010 - 9s/epoch - 51ms/step
Epoch 41/100
176/176 - 9s - loss: 1.6095 - accuracy: 0.1995 - val_loss: 1.6493 - val_accuracy: 0.8192 - lr: 0.0010 - 9s/epoch - 50ms/step
Epoch 42/100
176/176 - 9s - loss: 1.6095 - accuracy: 0.1982 - val_loss: 1.6452 - val_accuracy: 0.0260 - lr: 0.0010 - 9s/epoch - 51ms/step
Epoch 43/100
176/176 - 9s - loss: 1.6095 - accuracy: 0.1977 - val_loss: 1.6540 - val_accuracy: 0.0656 - lr: 0.0010 - 9s/epoch - 50ms/step
Epoch 44/100
176/176 - 9s - loss: 1.6095 - accuracy: 0.1972 - val_loss: 1.6378 - val_accuracy: 0.8188 - lr: 0.0010 - 9s/epoch - 51ms/step
Epoch 45/100
176/176 - 9s - loss: 1.6095 - accuracy: 0.1985 - val_loss: 1.6370 - val_accuracy: 0.0707 - lr: 0.0010 - 9s/epoch - 50ms/step
Epoch 46/100
176/176 - 9s - loss: 1.6095 - accuracy: 0.1999 - val_loss: 1.6165 - val_accuracy: 0.8214 - lr: 0.0010 - 9s/epoch - 50ms/step
Epoch 47/100
176/176 - 9s - loss: 1.6095 - accuracy: 0.1988 - val_loss: 1.6155 - val_accuracy: 0.0331 - lr: 0.0010 - 9s/epoch - 50ms/step
Epoch 48/100
176/176 - 9s - loss: 1.6095 - accuracy: 0.1980 - val_loss: 1.6078 - val_accuracy: 0.8219 - lr: 0.0010 - 9s/epoch - 50ms/step
Epoch 49/100
176/176 - 9s - loss: 1.6095 - accuracy: 0.1966 - val_loss: 1.6353 - val_accuracy: 0.8239 - lr: 0.0010 - 9s/epoch - 50ms/step
Epoch 50/100
176/176 - 9s - loss: 1.6095 - accuracy: 0.1972 - val_loss: 1.6518 - val_accuracy: 0.0655 - lr: 0.0010 - 9s/epoch - 51ms/step
Epoch 51/100
176/176 - 9s - loss: 1.6095 - accuracy: 0.1993 - val_loss: 1.6181 - val_accuracy: 0.0113 - lr: 0.0010 - 9s/epoch - 50ms/step
Epoch 52/100
176/176 - 9s - loss: 1.6095 - accuracy: 0.1992 - val_loss: 1.6635 - val_accuracy: 0.0736 - lr: 0.0010 - 9s/epoch - 51ms/step
Epoch 53/100
176/176 - 9s - loss: 1.6095 - accuracy: 0.1990 - val_loss: 1.6616 - val_accuracy: 0.0127 - lr: 0.0010 - 9s/epoch - 50ms/step
Epoch 54/100
176/176 - 9s - loss: 1.6095 - accuracy: 0.1985 - val_loss: 1.6582 - val_accuracy: 0.0254 - lr: 0.0010 - 9s/epoch - 50ms/step
Epoch 55/100
176/176 - 9s - loss: 1.6095 - accuracy: 0.2002 - val_loss: 1.6518 - val_accuracy: 0.8240 - lr: 0.0010 - 9s/epoch - 50ms/step
Epoch 56/100
176/176 - 9s - loss: 1.6095 - accuracy: 0.1994 - val_loss: 1.6581 - val_accuracy: 0.0077 - lr: 0.0010 - 9s/epoch - 51ms/step
Epoch 57/100
176/176 - 9s - loss: 1.6095 - accuracy: 0.1976 - val_loss: 1.6526 - val_accuracy: 0.0256 - lr: 0.0010 - 9s/epoch - 50ms/step
Epoch 58/100
176/176 - 9s - loss: 1.6095 - accuracy: 0.1989 - val_loss: 1.6455 - val_accuracy: 0.8190 - lr: 0.0010 - 9s/epoch - 50ms/step
Epoch 59/100
176/176 - 9s - loss: 1.6095 - accuracy: 0.1973 - val_loss: 1.6345 - val_accuracy: 0.0656 - lr: 0.0010 - 9s/epoch - 50ms/step
Epoch 60/100
176/176 - 9s - loss: 1.6095 - accuracy: 0.2000 - val_loss: 1.6104 - val_accuracy: 0.0763 - lr: 0.0010 - 9s/epoch - 51ms/step
Epoch 61/100
176/176 - 9s - loss: 1.6095 - accuracy: 0.1991 - val_loss: 1.6229 - val_accuracy: 0.0657 - lr: 0.0010 - 9s/epoch - 50ms/step
Epoch 62/100
176/176 - 9s - loss: 1.6095 - accuracy: 0.1996 - val_loss: 1.6237 - val_accuracy: 0.0261 - lr: 0.0010 - 9s/epoch - 51ms/step
Epoch 63/100
176/176 - 9s - loss: 1.6095 - accuracy: 0.1985 - val_loss: 1.6460 - val_accuracy: 0.0663 - lr: 0.0010 - 9s/epoch - 50ms/step
Epoch 64/100
176/176 - 9s - loss: 1.6095 - accuracy: 0.1973 - val_loss: 1.6409 - val_accuracy: 0.8192 - lr: 0.0010 - 9s/epoch - 51ms/step
Epoch 65/100
176/176 - 9s - loss: 1.6095 - accuracy: 0.1979 - val_loss: 1.6500 - val_accuracy: 0.0079 - lr: 0.0010 - 9s/epoch - 50ms/step
Epoch 66/100
176/176 - 9s - loss: 1.6095 - accuracy: 0.1999 - val_loss: 1.6603 - val_accuracy: 0.0302 - lr: 0.0010 - 9s/epoch - 50ms/step
Epoch 67/100
176/176 - 9s - loss: 1.6095 - accuracy: 0.1992 - val_loss: 1.6572 - val_accuracy: 0.8238 - lr: 0.0010 - 9s/epoch - 50ms/step
Epoch 68/100
176/176 - 9s - loss: 1.6095 - accuracy: 0.1989 - val_loss: 1.6458 - val_accuracy: 0.8241 - lr: 0.0010 - 9s/epoch - 51ms/step
Epoch 69/100
176/176 - 9s - loss: 1.6095 - accuracy: 0.1981 - val_loss: 1.6414 - val_accuracy: 0.0255 - lr: 0.0010 - 9s/epoch - 50ms/step
Epoch 70/100
176/176 - 9s - loss: 1.6095 - accuracy: 0.1949 - val_loss: 1.6584 - val_accuracy: 0.0704 - lr: 0.0010 - 9s/epoch - 50ms/step
Epoch 71/100
176/176 - 9s - loss: 1.6095 - accuracy: 0.1991 - val_loss: 1.6180 - val_accuracy: 0.0290 - lr: 0.0010 - 9s/epoch - 50ms/step
Epoch 72/100
176/176 - 9s - loss: 1.6095 - accuracy: 0.1998 - val_loss: 1.6582 - val_accuracy: 0.0079 - lr: 0.0010 - 9s/epoch - 51ms/step
Epoch 73/100
176/176 - 9s - loss: 1.6095 - accuracy: 0.1992 - val_loss: 1.6505 - val_accuracy: 0.0659 - lr: 0.0010 - 9s/epoch - 50ms/step
Epoch 74/100
176/176 - 9s - loss: 1.6095 - accuracy: 0.1991 - val_loss: 1.6529 - val_accuracy: 0.0079 - lr: 0.0010 - 9s/epoch - 51ms/step
Epoch 75/100
176/176 - 9s - loss: 1.6095 - accuracy: 0.1999 - val_loss: 1.6423 - val_accuracy: 0.0743 - lr: 0.0010 - 9s/epoch - 50ms/step
Epoch 76/100
176/176 - 9s - loss: 1.6095 - accuracy: 0.1994 - val_loss: 1.6455 - val_accuracy: 0.0660 - lr: 0.0010 - 9s/epoch - 51ms/step
Epoch 77/100
176/176 - 9s - loss: 1.6095 - accuracy: 0.1984 - val_loss: 1.6099 - val_accuracy: 0.0280 - lr: 0.0010 - 9s/epoch - 50ms/step
Epoch 78/100
176/176 - 9s - loss: 1.6095 - accuracy: 0.1981 - val_loss: 1.6121 - val_accuracy: 0.0284 - lr: 0.0010 - 9s/epoch - 51ms/step
Epoch 79/100
176/176 - 9s - loss: 1.6095 - accuracy: 0.1973 - val_loss: 1.6449 - val_accuracy: 0.0257 - lr: 0.0010 - 9s/epoch - 50ms/step
Epoch 80/100
176/176 - 9s - loss: 1.6095 - accuracy: 0.1992 - val_loss: 1.6533 - val_accuracy: 0.0257 - lr: 0.0010 - 9s/epoch - 51ms/step
Epoch 81/100
176/176 - 9s - loss: 1.6095 - accuracy: 0.1990 - val_loss: 1.6574 - val_accuracy: 0.0308 - lr: 0.0010 - 9s/epoch - 50ms/step
Epoch 82/100
176/176 - 9s - loss: 1.6095 - accuracy: 0.1973 - val_loss: 1.6527 - val_accuracy: 0.0308 - lr: 0.0010 - 9s/epoch - 51ms/step
Epoch 83/100
176/176 - 9s - loss: 1.6095 - accuracy: 0.1986 - val_loss: 1.6526 - val_accuracy: 0.0791 - lr: 0.0010 - 9s/epoch - 50ms/step
Epoch 84/100
176/176 - 9s - loss: 1.6095 - accuracy: 0.1995 - val_loss: 1.6450 - val_accuracy: 0.0080 - lr: 0.0010 - 9s/epoch - 51ms/step
Epoch 85/100
176/176 - 9s - loss: 1.6095 - accuracy: 0.1995 - val_loss: 1.6147 - val_accuracy: 0.8217 - lr: 0.0010 - 9s/epoch - 50ms/step
Epoch 86/100
176/176 - 9s - loss: 1.6095 - accuracy: 0.1976 - val_loss: 1.6094 - val_accuracy: 0.8219 - lr: 0.0010 - 9s/epoch - 50ms/step
Epoch 87/100
176/176 - 9s - loss: 1.6095 - accuracy: 0.1979 - val_loss: 1.6051 - val_accuracy: 0.8221 - lr: 0.0010 - 9s/epoch - 50ms/step
Epoch 88/100
176/176 - 9s - loss: 1.6095 - accuracy: 0.1992 - val_loss: 1.6631 - val_accuracy: 0.0737 - lr: 0.0010 - 9s/epoch - 51ms/step
Epoch 89/100
176/176 - 9s - loss: 1.6095 - accuracy: 0.1985 - val_loss: 1.6185 - val_accuracy: 0.0285 - lr: 0.0010 - 9s/epoch - 50ms/step
Epoch 90/100
176/176 - 9s - loss: 1.6095 - accuracy: 0.1985 - val_loss: 1.6137 - val_accuracy: 0.0110 - lr: 0.0010 - 9s/epoch - 51ms/step
Epoch 91/100
176/176 - 9s - loss: 1.6095 - accuracy: 0.1976 - val_loss: 1.6105 - val_accuracy: 0.0772 - lr: 0.0010 - 9s/epoch - 50ms/step
Epoch 92/100
176/176 - 9s - loss: 1.6095 - accuracy: 0.1993 - val_loss: 1.6554 - val_accuracy: 0.0085 - lr: 0.0010 - 9s/epoch - 50ms/step
Epoch 93/100
176/176 - 9s - loss: 1.6095 - accuracy: 0.1980 - val_loss: 1.6189 - val_accuracy: 0.0682 - lr: 0.0010 - 9s/epoch - 50ms/step
Epoch 94/100
176/176 - 9s - loss: 1.6095 - accuracy: 0.1988 - val_loss: 1.6211 - val_accuracy: 0.0758 - lr: 0.0010 - 9s/epoch - 51ms/step
Epoch 95/100
176/176 - 9s - loss: 1.6095 - accuracy: 0.1982 - val_loss: 1.6151 - val_accuracy: 0.8217 - lr: 0.0010 - 9s/epoch - 50ms/step
Epoch 96/100
176/176 - 9s - loss: 1.6095 - accuracy: 0.1991 - val_loss: 1.6591 - val_accuracy: 0.0253 - lr: 0.0010 - 9s/epoch - 50ms/step
Epoch 97/100
176/176 - 9s - loss: 1.6095 - accuracy: 0.1986 - val_loss: 1.6572 - val_accuracy: 0.0735 - lr: 0.0010 - 9s/epoch - 50ms/step
Epoch 98/100
176/176 - 9s - loss: 1.6095 - accuracy: 0.1976 - val_loss: 1.6108 - val_accuracy: 0.8222 - lr: 0.0010 - 9s/epoch - 51ms/step
Epoch 99/100
176/176 - 9s - loss: 1.6095 - accuracy: 0.1979 - val_loss: 1.6393 - val_accuracy: 0.0736 - lr: 0.0010 - 9s/epoch - 50ms/step
Epoch 100/100
176/176 - 9s - loss: 1.6095 - accuracy: 0.1984 - val_loss: 1.6213 - val_accuracy: 0.0096 - lr: 0.0010 - 9s/epoch - 51ms/step
fitting with batch size: 1500
Epoch 1/100
59/59 - 10s - loss: 1.6095 - accuracy: 0.2000 - val_loss: 1.6191 - val_accuracy: 0.0097 - lr: 0.0010 - 10s/epoch - 173ms/step
Epoch 2/100
59/59 - 8s - loss: 1.6094 - accuracy: 0.1984 - val_loss: 1.6171 - val_accuracy: 0.0677 - lr: 0.0010 - 8s/epoch - 133ms/step
Epoch 3/100
59/59 - 8s - loss: 1.6095 - accuracy: 0.1967 - val_loss: 1.6166 - val_accuracy: 0.0680 - lr: 0.0010 - 8s/epoch - 131ms/step
Epoch 4/100
59/59 - 8s - loss: 1.6094 - accuracy: 0.2000 - val_loss: 1.6150 - val_accuracy: 0.0097 - lr: 0.0010 - 8s/epoch - 132ms/step
Epoch 5/100
59/59 - 8s - loss: 1.6094 - accuracy: 0.1999 - val_loss: 1.6146 - val_accuracy: 0.0757 - lr: 0.0010 - 8s/epoch - 131ms/step
Epoch 6/100
59/59 - 8s - loss: 1.6094 - accuracy: 0.1974 - val_loss: 1.6151 - val_accuracy: 0.0276 - lr: 0.0010 - 8s/epoch - 132ms/step
Epoch 7/100
59/59 - 8s - loss: 1.6094 - accuracy: 0.1967 - val_loss: 1.6146 - val_accuracy: 0.0757 - lr: 0.0010 - 8s/epoch - 131ms/step
Epoch 8/100
59/59 - 8s - loss: 1.6094 - accuracy: 0.1980 - val_loss: 1.6127 - val_accuracy: 0.8210 - lr: 0.0010 - 8s/epoch - 132ms/step
Epoch 9/100
59/59 - 8s - loss: 1.6094 - accuracy: 0.1971 - val_loss: 1.6126 - val_accuracy: 0.0758 - lr: 0.0010 - 8s/epoch - 131ms/step
Epoch 10/100
59/59 - 8s - loss: 1.6094 - accuracy: 0.1988 - val_loss: 1.6132 - val_accuracy: 0.0098 - lr: 0.0010 - 8s/epoch - 131ms/step
Epoch 11/100
59/59 - 8s - loss: 1.6094 - accuracy: 0.1979 - val_loss: 1.6124 - val_accuracy: 0.0678 - lr: 0.0010 - 8s/epoch - 131ms/step
Epoch 12/100
59/59 - 8s - loss: 1.6094 - accuracy: 0.1989 - val_loss: 1.6156 - val_accuracy: 0.0255 - lr: 0.0010 - 8s/epoch - 131ms/step
Epoch 13/100
59/59 - 8s - loss: 1.6094 - accuracy: 0.1987 - val_loss: 1.6194 - val_accuracy: 0.0657 - lr: 0.0010 - 8s/epoch - 131ms/step
Epoch 14/100
59/59 - 8s - loss: 1.6094 - accuracy: 0.1992 - val_loss: 1.6186 - val_accuracy: 0.0076 - lr: 0.0010 - 8s/epoch - 132ms/step
Epoch 15/100
59/59 - 8s - loss: 1.6094 - accuracy: 0.1994 - val_loss: 1.6148 - val_accuracy: 0.0657 - lr: 0.0010 - 8s/epoch - 131ms/step
Epoch 16/100
59/59 - 8s - loss: 1.6094 - accuracy: 0.1992 - val_loss: 1.6169 - val_accuracy: 0.0077 - lr: 0.0010 - 8s/epoch - 132ms/step
Epoch 17/100
59/59 - 8s - loss: 1.6094 - accuracy: 0.1986 - val_loss: 1.6155 - val_accuracy: 0.8190 - lr: 0.0010 - 8s/epoch - 131ms/step
Epoch 18/100
59/59 - 8s - loss: 1.6095 - accuracy: 0.1972 - val_loss: 1.6163 - val_accuracy: 0.0258 - lr: 0.0010 - 8s/epoch - 131ms/step
Epoch 19/100
59/59 - 8s - loss: 1.6094 - accuracy: 0.1994 - val_loss: 1.6151 - val_accuracy: 0.0079 - lr: 0.0010 - 8s/epoch - 131ms/step
Epoch 20/100
59/59 - 8s - loss: 1.6094 - accuracy: 0.1985 - val_loss: 1.6136 - val_accuracy: 0.0709 - lr: 0.0010 - 8s/epoch - 131ms/step
Epoch 21/100
59/59 - 8s - loss: 1.6094 - accuracy: 0.1973 - val_loss: 1.6156 - val_accuracy: 0.0707 - lr: 0.0010 - 8s/epoch - 131ms/step
Epoch 22/100
59/59 - 8s - loss: 1.6094 - accuracy: 0.2001 - val_loss: 1.6130 - val_accuracy: 0.0786 - lr: 0.0010 - 8s/epoch - 131ms/step
Epoch 23/100
59/59 - 8s - loss: 1.6094 - accuracy: 0.1968 - val_loss: 1.6122 - val_accuracy: 0.0709 - lr: 0.0010 - 8s/epoch - 131ms/step
Epoch 24/100
59/59 - 8s - loss: 1.6094 - accuracy: 0.1998 - val_loss: 1.6131 - val_accuracy: 0.0258 - lr: 0.0010 - 8s/epoch - 131ms/step
Epoch 25/100
59/59 - 8s - loss: 1.6094 - accuracy: 0.1981 - val_loss: 1.6106 - val_accuracy: 0.0706 - lr: 0.0010 - 8s/epoch - 131ms/step
Epoch 26/100
59/59 - 8s - loss: 1.6095 - accuracy: 0.1983 - val_loss: 1.6100 - val_accuracy: 0.8236 - lr: 0.0010 - 8s/epoch - 132ms/step
Epoch 27/100
59/59 - 8s - loss: 1.6094 - accuracy: 0.1979 - val_loss: 1.6111 - val_accuracy: 0.0735 - lr: 0.0010 - 8s/epoch - 131ms/step
Epoch 28/100
59/59 - 8s - loss: 1.6094 - accuracy: 0.1999 - val_loss: 1.6090 - val_accuracy: 0.8239 - lr: 0.0010 - 8s/epoch - 132ms/step
Epoch 29/100
59/59 - 8s - loss: 1.6094 - accuracy: 0.1981 - val_loss: 1.6098 - val_accuracy: 0.0075 - lr: 0.0010 - 8s/epoch - 131ms/step
Epoch 30/100
59/59 - 8s - loss: 1.6094 - accuracy: 0.2000 - val_loss: 1.6096 - val_accuracy: 0.0077 - lr: 0.0010 - 8s/epoch - 132ms/step
Epoch 31/100
59/59 - 8s - loss: 1.6094 - accuracy: 0.1999 - val_loss: 1.6083 - val_accuracy: 0.8240 - lr: 0.0010 - 8s/epoch - 131ms/step
Epoch 32/100
59/59 - 8s - loss: 1.6094 - accuracy: 0.1987 - val_loss: 1.6070 - val_accuracy: 0.8242 - lr: 0.0010 - 8s/epoch - 132ms/step
Epoch 33/100
59/59 - 8s - loss: 1.6094 - accuracy: 0.1991 - val_loss: 1.6085 - val_accuracy: 0.8235 - lr: 0.0010 - 8s/epoch - 131ms/step
Epoch 34/100
59/59 - 8s - loss: 1.6094 - accuracy: 0.1990 - val_loss: 1.6093 - val_accuracy: 0.0735 - lr: 0.0010 - 8s/epoch - 132ms/step
Epoch 35/100
59/59 - 8s - loss: 1.6094 - accuracy: 0.1996 - val_loss: 1.6100 - val_accuracy: 0.0253 - lr: 0.0010 - 8s/epoch - 131ms/step
Epoch 36/100
59/59 - 8s - loss: 1.6094 - accuracy: 0.1972 - val_loss: 1.6080 - val_accuracy: 0.8242 - lr: 0.0010 - 8s/epoch - 132ms/step
Epoch 37/100
59/59 - 8s - loss: 1.6094 - accuracy: 0.1975 - val_loss: 1.6086 - val_accuracy: 0.0686 - lr: 0.0010 - 8s/epoch - 131ms/step
Epoch 38/100
59/59 - 8s - loss: 1.6094 - accuracy: 0.1986 - val_loss: 1.6078 - val_accuracy: 0.8264 - lr: 0.0010 - 8s/epoch - 132ms/step
Epoch 39/100
59/59 - 8s - loss: 1.6094 - accuracy: 0.1981 - val_loss: 1.6095 - val_accuracy: 0.0100 - lr: 0.0010 - 8s/epoch - 131ms/step
Epoch 40/100
59/59 - 8s - loss: 1.6094 - accuracy: 0.2000 - val_loss: 1.6105 - val_accuracy: 0.0741 - lr: 0.0010 - 8s/epoch - 132ms/step
Epoch 41/100
59/59 - 8s - loss: 1.6094 - accuracy: 0.1978 - val_loss: 1.6109 - val_accuracy: 0.0265 - lr: 0.0010 - 8s/epoch - 131ms/step
Epoch 42/100
59/59 - 8s - loss: 1.6094 - accuracy: 0.1985 - val_loss: 1.6111 - val_accuracy: 0.0658 - lr: 0.0010 - 8s/epoch - 131ms/step
Epoch 43/100
59/59 - 8s - loss: 1.6094 - accuracy: 0.1992 - val_loss: 1.6094 - val_accuracy: 0.0081 - lr: 0.0010 - 8s/epoch - 131ms/step
Epoch 44/100
59/59 - 8s - loss: 1.6095 - accuracy: 0.1992 - val_loss: 1.6113 - val_accuracy: 0.0690 - lr: 0.0010 - 8s/epoch - 131ms/step
Epoch 45/100
59/59 - 8s - loss: 1.6094 - accuracy: 0.1994 - val_loss: 1.6161 - val_accuracy: 0.0254 - lr: 0.0010 - 8s/epoch - 131ms/step
Epoch 46/100
59/59 - 8s - loss: 1.6095 - accuracy: 0.1982 - val_loss: 1.6141 - val_accuracy: 0.8262 - lr: 0.0010 - 8s/epoch - 132ms/step
Epoch 47/100
59/59 - 8s - loss: 1.6095 - accuracy: 0.1981 - val_loss: 1.6412 - val_accuracy: 0.0264 - lr: 0.0010 - 8s/epoch - 132ms/step
Epoch 48/100
59/59 - 8s - loss: 1.6095 - accuracy: 0.2004 - val_loss: 1.6287 - val_accuracy: 0.0126 - lr: 0.0010 - 8s/epoch - 132ms/step
Epoch 49/100
59/59 - 8s - loss: 1.6095 - accuracy: 0.1970 - val_loss: 1.6441 - val_accuracy: 0.0705 - lr: 0.0010 - 8s/epoch - 131ms/step
Epoch 50/100
59/59 - 8s - loss: 1.6094 - accuracy: 0.1986 - val_loss: 1.6481 - val_accuracy: 0.0711 - lr: 0.0010 - 8s/epoch - 132ms/step
Epoch 51/100
59/59 - 8s - loss: 1.6095 - accuracy: 0.1976 - val_loss: 1.6443 - val_accuracy: 0.8243 - lr: 0.0010 - 8s/epoch - 131ms/step
Epoch 52/100
59/59 - 8s - loss: 1.6095 - accuracy: 0.1959 - val_loss: 1.6535 - val_accuracy: 0.0710 - lr: 0.0010 - 8s/epoch - 132ms/step
Epoch 53/100
59/59 - 8s - loss: 1.6095 - accuracy: 0.1982 - val_loss: 1.6528 - val_accuracy: 0.0129 - lr: 0.0010 - 8s/epoch - 131ms/step
Epoch 54/100
59/59 - 8s - loss: 1.6095 - accuracy: 0.1979 - val_loss: 1.6438 - val_accuracy: 0.8195 - lr: 0.0010 - 8s/epoch - 131ms/step
Epoch 55/100
59/59 - 8s - loss: 1.6094 - accuracy: 0.1984 - val_loss: 1.6428 - val_accuracy: 0.0665 - lr: 0.0010 - 8s/epoch - 131ms/step
Epoch 56/100
59/59 - 8s - loss: 1.6095 - accuracy: 0.1967 - val_loss: 1.6518 - val_accuracy: 0.0254 - lr: 0.0010 - 8s/epoch - 132ms/step
Epoch 57/100
59/59 - 8s - loss: 1.6095 - accuracy: 0.1985 - val_loss: 1.6378 - val_accuracy: 0.0666 - lr: 0.0010 - 8s/epoch - 131ms/step
Epoch 58/100
59/59 - 8s - loss: 1.6095 - accuracy: 0.1975 - val_loss: 1.6400 - val_accuracy: 0.0266 - lr: 0.0010 - 8s/epoch - 132ms/step
Epoch 59/100
59/59 - 8s - loss: 1.6095 - accuracy: 0.1969 - val_loss: 1.6402 - val_accuracy: 0.0256 - lr: 0.0010 - 8s/epoch - 131ms/step
Epoch 60/100
59/59 - 8s - loss: 1.6094 - accuracy: 0.1982 - val_loss: 1.6436 - val_accuracy: 0.0737 - lr: 0.0010 - 8s/epoch - 131ms/step
Epoch 61/100
59/59 - 8s - loss: 1.6094 - accuracy: 0.1988 - val_loss: 1.6405 - val_accuracy: 0.0256 - lr: 0.0010 - 8s/epoch - 131ms/step
Epoch 62/100
59/59 - 8s - loss: 1.6094 - accuracy: 0.1981 - val_loss: 1.6352 - val_accuracy: 0.0256 - lr: 0.0010 - 8s/epoch - 131ms/step
Epoch 63/100
59/59 - 8s - loss: 1.6094 - accuracy: 0.1973 - val_loss: 1.6366 - val_accuracy: 0.0085 - lr: 0.0010 - 8s/epoch - 131ms/step
Epoch 64/100
59/59 - 8s - loss: 1.6095 - accuracy: 0.1984 - val_loss: 1.6343 - val_accuracy: 0.0744 - lr: 0.0010 - 8s/epoch - 132ms/step
Epoch 65/100
59/59 - 8s - loss: 1.6094 - accuracy: 0.1986 - val_loss: 1.6273 - val_accuracy: 0.0670 - lr: 0.0010 - 8s/epoch - 131ms/step
Epoch 66/100
59/59 - 8s - loss: 1.6094 - accuracy: 0.1992 - val_loss: 1.6230 - val_accuracy: 0.0668 - lr: 0.0010 - 8s/epoch - 131ms/step
Epoch 67/100
59/59 - 8s - loss: 1.6094 - accuracy: 0.1986 - val_loss: 1.6255 - val_accuracy: 0.0077 - lr: 0.0010 - 8s/epoch - 131ms/step
Epoch 68/100
59/59 - 8s - loss: 1.6094 - accuracy: 0.1972 - val_loss: 1.6263 - val_accuracy: 0.0744 - lr: 0.0010 - 8s/epoch - 131ms/step
Epoch 69/100
59/59 - 8s - loss: 1.6095 - accuracy: 0.1985 - val_loss: 1.6410 - val_accuracy: 0.0748 - lr: 0.0010 - 8s/epoch - 131ms/step
Epoch 70/100
59/59 - 8s - loss: 1.6095 - accuracy: 0.1976 - val_loss: 1.6497 - val_accuracy: 0.8238 - lr: 0.0010 - 8s/epoch - 131ms/step
Epoch 71/100
59/59 - 8s - loss: 1.6095 - accuracy: 0.1985 - val_loss: 1.6450 - val_accuracy: 0.8239 - lr: 0.0010 - 8s/epoch - 131ms/step
Epoch 72/100
59/59 - 8s - loss: 1.6095 - accuracy: 0.1976 - val_loss: 1.6405 - val_accuracy: 0.0735 - lr: 0.0010 - 8s/epoch - 132ms/step
Epoch 73/100
59/59 - 8s - loss: 1.6094 - accuracy: 0.1992 - val_loss: 1.6467 - val_accuracy: 0.8238 - lr: 0.0010 - 8s/epoch - 132ms/step
Epoch 74/100
59/59 - 8s - loss: 1.6094 - accuracy: 0.1989 - val_loss: 1.6427 - val_accuracy: 0.8238 - lr: 0.0010 - 8s/epoch - 132ms/step
Epoch 75/100
59/59 - 8s - loss: 1.6094 - accuracy: 0.1983 - val_loss: 1.6402 - val_accuracy: 0.0707 - lr: 0.0010 - 8s/epoch - 131ms/step
Epoch 76/100
59/59 - 8s - loss: 1.6095 - accuracy: 0.1984 - val_loss: 1.6150 - val_accuracy: 0.0684 - lr: 0.0010 - 8s/epoch - 132ms/step
Epoch 77/100
59/59 - 8s - loss: 1.6095 - accuracy: 0.1986 - val_loss: 1.6240 - val_accuracy: 0.0659 - lr: 0.0010 - 8s/epoch - 131ms/step
Epoch 78/100
59/59 - 8s - loss: 1.6095 - accuracy: 0.1988 - val_loss: 1.6456 - val_accuracy: 0.0661 - lr: 0.0010 - 8s/epoch - 132ms/step
Epoch 79/100
59/59 - 8s - loss: 1.6095 - accuracy: 0.1986 - val_loss: 1.6318 - val_accuracy: 0.0077 - lr: 0.0010 - 8s/epoch - 131ms/step
Epoch 80/100
59/59 - 8s - loss: 1.6094 - accuracy: 0.1990 - val_loss: 1.6524 - val_accuracy: 0.0254 - lr: 0.0010 - 8s/epoch - 132ms/step
Epoch 81/100
59/59 - 8s - loss: 1.6095 - accuracy: 0.1987 - val_loss: 1.6508 - val_accuracy: 0.0791 - lr: 0.0010 - 8s/epoch - 131ms/step
Epoch 82/100
59/59 - 8s - loss: 1.6095 - accuracy: 0.1976 - val_loss: 1.6455 - val_accuracy: 0.8243 - lr: 0.0010 - 8s/epoch - 131ms/step
Epoch 83/100
59/59 - 8s - loss: 1.6095 - accuracy: 0.2006 - val_loss: 1.6602 - val_accuracy: 0.0132 - lr: 0.0010 - 8s/epoch - 132ms/step
Epoch 84/100
59/59 - 8s - loss: 1.6095 - accuracy: 0.1980 - val_loss: 1.6488 - val_accuracy: 0.8245 - lr: 0.0010 - 8s/epoch - 131ms/step
Epoch 85/100
59/59 - 8s - loss: 1.6095 - accuracy: 0.2001 - val_loss: 1.6531 - val_accuracy: 0.0792 - lr: 0.0010 - 8s/epoch - 131ms/step
Epoch 86/100
59/59 - 8s - loss: 1.6095 - accuracy: 0.1983 - val_loss: 1.6472 - val_accuracy: 0.0308 - lr: 0.0010 - 8s/epoch - 132ms/step
Epoch 87/100
59/59 - 8s - loss: 1.6094 - accuracy: 0.1997 - val_loss: 1.6448 - val_accuracy: 0.0131 - lr: 0.0010 - 8s/epoch - 131ms/step
Epoch 88/100
59/59 - 8s - loss: 1.6095 - accuracy: 0.1987 - val_loss: 1.6441 - val_accuracy: 0.0788 - lr: 0.0010 - 8s/epoch - 132ms/step
Epoch 89/100
59/59 - 8s - loss: 1.6094 - accuracy: 0.1959 - val_loss: 1.6426 - val_accuracy: 0.8241 - lr: 0.0010 - 8s/epoch - 132ms/step
Epoch 90/100
59/59 - 8s - loss: 1.6094 - accuracy: 0.2000 - val_loss: 1.6353 - val_accuracy: 0.8242 - lr: 0.0010 - 8s/epoch - 132ms/step
Epoch 91/100
59/59 - 8s - loss: 1.6094 - accuracy: 0.1974 - val_loss: 1.6129 - val_accuracy: 0.0102 - lr: 0.0010 - 8s/epoch - 131ms/step
Epoch 92/100
59/59 - 8s - loss: 1.6095 - accuracy: 0.1987 - val_loss: 1.6319 - val_accuracy: 0.0737 - lr: 0.0010 - 8s/epoch - 132ms/step
Epoch 93/100
59/59 - 8s - loss: 1.6095 - accuracy: 0.1986 - val_loss: 1.6342 - val_accuracy: 0.0739 - lr: 0.0010 - 8s/epoch - 131ms/step
Epoch 94/100
59/59 - 8s - loss: 1.6095 - accuracy: 0.1992 - val_loss: 1.6408 - val_accuracy: 0.0737 - lr: 0.0010 - 8s/epoch - 132ms/step
Epoch 95/100
59/59 - 8s - loss: 1.6095 - accuracy: 0.1965 - val_loss: 1.6456 - val_accuracy: 0.0735 - lr: 0.0010 - 8s/epoch - 131ms/step
Epoch 96/100
59/59 - 8s - loss: 1.6095 - accuracy: 0.1986 - val_loss: 1.6508 - val_accuracy: 0.0740 - lr: 0.0010 - 8s/epoch - 132ms/step
Epoch 97/100
59/59 - 8s - loss: 1.6095 - accuracy: 0.1989 - val_loss: 1.6531 - val_accuracy: 0.0305 - lr: 0.0010 - 8s/epoch - 131ms/step
Epoch 98/100
59/59 - 8s - loss: 1.6095 - accuracy: 0.1995 - val_loss: 1.6163 - val_accuracy: 0.8216 - lr: 0.0010 - 8s/epoch - 132ms/step
Epoch 99/100
59/59 - 8s - loss: 1.6095 - accuracy: 0.1992 - val_loss: 1.6169 - val_accuracy: 0.0762 - lr: 0.0010 - 8s/epoch - 131ms/step
Epoch 100/100
59/59 - 8s - loss: 1.6095 - accuracy: 0.1966 - val_loss: 1.6457 - val_accuracy: 0.0739 - lr: 0.0010 - 8s/epoch - 132ms/step
fitting with batch size: 2500
Epoch 1/100
36/36 - 10s - loss: 1.6094 - accuracy: 0.2002 - val_loss: 1.6456 - val_accuracy: 0.8239 - lr: 0.0010 - 10s/epoch - 274ms/step
Epoch 2/100
36/36 - 7s - loss: 1.6095 - accuracy: 0.2000 - val_loss: 1.6455 - val_accuracy: 0.8238 - lr: 0.0010 - 7s/epoch - 208ms/step
Epoch 3/100
36/36 - 8s - loss: 1.6094 - accuracy: 0.1987 - val_loss: 1.6512 - val_accuracy: 0.0307 - lr: 0.0010 - 8s/epoch - 209ms/step
Epoch 4/100
36/36 - 8s - loss: 1.6094 - accuracy: 0.2001 - val_loss: 1.6321 - val_accuracy: 0.0079 - lr: 0.0010 - 8s/epoch - 208ms/step
Epoch 5/100
36/36 - 7s - loss: 1.6095 - accuracy: 0.2000 - val_loss: 1.6439 - val_accuracy: 0.0075 - lr: 0.0010 - 7s/epoch - 208ms/step
Epoch 6/100
36/36 - 7s - loss: 1.6094 - accuracy: 0.2000 - val_loss: 1.6504 - val_accuracy: 0.0075 - lr: 0.0010 - 7s/epoch - 208ms/step
Epoch 7/100
36/36 - 7s - loss: 1.6094 - accuracy: 0.2000 - val_loss: 1.6490 - val_accuracy: 0.0075 - lr: 0.0010 - 7s/epoch - 208ms/step
Epoch 8/100
36/36 - 8s - loss: 1.6094 - accuracy: 0.2000 - val_loss: 1.6454 - val_accuracy: 0.8244 - lr: 0.0010 - 8s/epoch - 209ms/step
Epoch 9/100
36/36 - 7s - loss: 1.6094 - accuracy: 0.2000 - val_loss: 1.6473 - val_accuracy: 0.8240 - lr: 0.0010 - 7s/epoch - 208ms/step
Epoch 10/100
36/36 - 8s - loss: 1.6094 - accuracy: 0.2004 - val_loss: 1.6493 - val_accuracy: 0.0080 - lr: 0.0010 - 8s/epoch - 209ms/step
Epoch 11/100
36/36 - 7s - loss: 1.6094 - accuracy: 0.2001 - val_loss: 1.6437 - val_accuracy: 0.0259 - lr: 0.0010 - 7s/epoch - 208ms/step
Epoch 12/100
36/36 - 8s - loss: 1.6094 - accuracy: 0.1993 - val_loss: 1.6463 - val_accuracy: 0.0079 - lr: 0.0010 - 8s/epoch - 209ms/step
Epoch 13/100
36/36 - 7s - loss: 1.6095 - accuracy: 0.1995 - val_loss: 1.6199 - val_accuracy: 0.0744 - lr: 0.0010 - 7s/epoch - 208ms/step
Epoch 14/100
36/36 - 7s - loss: 1.6094 - accuracy: 0.1990 - val_loss: 1.6147 - val_accuracy: 0.8218 - lr: 0.0010 - 7s/epoch - 208ms/step
Epoch 15/100
36/36 - 7s - loss: 1.6095 - accuracy: 0.2000 - val_loss: 1.6325 - val_accuracy: 0.8189 - lr: 0.0010 - 7s/epoch - 208ms/step
Epoch 16/100
36/36 - 7s - loss: 1.6095 - accuracy: 0.1997 - val_loss: 1.6413 - val_accuracy: 0.0787 - lr: 0.0010 - 7s/epoch - 208ms/step
Epoch 17/100
36/36 - 7s - loss: 1.6094 - accuracy: 0.2000 - val_loss: 1.6174 - val_accuracy: 0.0760 - lr: 0.0010 - 7s/epoch - 208ms/step
Epoch 18/100
36/36 - 7s - loss: 1.6094 - accuracy: 0.2005 - val_loss: 1.6213 - val_accuracy: 0.0655 - lr: 0.0010 - 7s/epoch - 208ms/step
Epoch 19/100
36/36 - 7s - loss: 1.6094 - accuracy: 0.1979 - val_loss: 1.6311 - val_accuracy: 0.8243 - lr: 0.0010 - 7s/epoch - 208ms/step
Epoch 20/100
36/36 - 7s - loss: 1.6094 - accuracy: 0.1998 - val_loss: 1.6326 - val_accuracy: 0.0792 - lr: 0.0010 - 7s/epoch - 208ms/step
Epoch 21/100
36/36 - 7s - loss: 1.6094 - accuracy: 0.2013 - val_loss: 1.6303 - val_accuracy: 0.8239 - lr: 0.0010 - 7s/epoch - 208ms/step
Epoch 22/100
36/36 - 8s - loss: 1.6095 - accuracy: 0.1993 - val_loss: 1.6376 - val_accuracy: 0.0075 - lr: 0.0010 - 8s/epoch - 208ms/step
Epoch 23/100
36/36 - 7s - loss: 1.6094 - accuracy: 0.1994 - val_loss: 1.6406 - val_accuracy: 0.8188 - lr: 0.0010 - 7s/epoch - 208ms/step
Epoch 24/100
36/36 - 7s - loss: 1.6095 - accuracy: 0.2000 - val_loss: 1.6160 - val_accuracy: 0.8190 - lr: 0.0010 - 7s/epoch - 208ms/step
Epoch 25/100
36/36 - 7s - loss: 1.6094 - accuracy: 0.1990 - val_loss: 1.6132 - val_accuracy: 0.8211 - lr: 0.0010 - 7s/epoch - 208ms/step
Epoch 26/100
36/36 - 7s - loss: 1.6095 - accuracy: 0.1990 - val_loss: 1.6155 - val_accuracy: 0.0687 - lr: 0.0010 - 7s/epoch - 208ms/step
Epoch 27/100
36/36 - 7s - loss: 1.6095 - accuracy: 0.2000 - val_loss: 1.6493 - val_accuracy: 0.0657 - lr: 0.0010 - 7s/epoch - 208ms/step
Epoch 28/100
36/36 - 7s - loss: 1.6095 - accuracy: 0.1993 - val_loss: 1.6533 - val_accuracy: 0.0738 - lr: 0.0010 - 7s/epoch - 208ms/step
Epoch 29/100
36/36 - 7s - loss: 1.6095 - accuracy: 0.2005 - val_loss: 1.6430 - val_accuracy: 0.0711 - lr: 0.0010 - 7s/epoch - 208ms/step
Epoch 30/100
36/36 - 7s - loss: 1.6095 - accuracy: 0.1985 - val_loss: 1.6185 - val_accuracy: 0.0280 - lr: 0.0010 - 7s/epoch - 208ms/step
Epoch 31/100
36/36 - 7s - loss: 1.6095 - accuracy: 0.1994 - val_loss: 1.6230 - val_accuracy: 0.0684 - lr: 0.0010 - 7s/epoch - 208ms/step
Epoch 32/100
36/36 - 7s - loss: 1.6095 - accuracy: 0.2000 - val_loss: 1.6324 - val_accuracy: 0.0662 - lr: 0.0010 - 7s/epoch - 208ms/step
Epoch 33/100
36/36 - 7s - loss: 1.6095 - accuracy: 0.1982 - val_loss: 1.6492 - val_accuracy: 0.0738 - lr: 0.0010 - 7s/epoch - 208ms/step
Epoch 34/100
36/36 - 8s - loss: 1.6095 - accuracy: 0.1992 - val_loss: 1.6615 - val_accuracy: 0.0656 - lr: 0.0010 - 8s/epoch - 208ms/step
Epoch 35/100
36/36 - 7s - loss: 1.6095 - accuracy: 0.2000 - val_loss: 1.6220 - val_accuracy: 0.0684 - lr: 0.0010 - 7s/epoch - 208ms/step
Epoch 36/100
36/36 - 7s - loss: 1.6094 - accuracy: 0.2001 - val_loss: 1.6136 - val_accuracy: 0.8216 - lr: 0.0010 - 7s/epoch - 208ms/step
Epoch 37/100
36/36 - 7s - loss: 1.6095 - accuracy: 0.2001 - val_loss: 1.6206 - val_accuracy: 0.0684 - lr: 0.0010 - 7s/epoch - 208ms/step
Epoch 38/100
36/36 - 8s - loss: 1.6095 - accuracy: 0.1995 - val_loss: 1.6246 - val_accuracy: 0.0277 - lr: 0.0010 - 8s/epoch - 209ms/step
Epoch 39/100
36/36 - 7s - loss: 1.6095 - accuracy: 0.2001 - val_loss: 1.6542 - val_accuracy: 0.0658 - lr: 0.0010 - 7s/epoch - 208ms/step
Epoch 40/100
36/36 - 8s - loss: 1.6095 - accuracy: 0.1990 - val_loss: 1.6548 - val_accuracy: 0.0254 - lr: 0.0010 - 8s/epoch - 209ms/step
Epoch 41/100
36/36 - 7s - loss: 1.6094 - accuracy: 0.2007 - val_loss: 1.6529 - val_accuracy: 0.0079 - lr: 0.0010 - 7s/epoch - 208ms/step
Epoch 42/100
36/36 - 8s - loss: 1.6095 - accuracy: 0.1993 - val_loss: 1.6509 - val_accuracy: 0.0739 - lr: 0.0010 - 8s/epoch - 210ms/step
Epoch 43/100
36/36 - 8s - loss: 1.6095 - accuracy: 0.2000 - val_loss: 1.6482 - val_accuracy: 0.0739 - lr: 0.0010 - 8s/epoch - 209ms/step
Epoch 44/100
36/36 - 7s - loss: 1.6094 - accuracy: 0.2005 - val_loss: 1.6498 - val_accuracy: 0.8191 - lr: 0.0010 - 7s/epoch - 208ms/step
Epoch 45/100
36/36 - 7s - loss: 1.6094 - accuracy: 0.2014 - val_loss: 1.6549 - val_accuracy: 0.0079 - lr: 0.0010 - 7s/epoch - 208ms/step
Epoch 46/100
36/36 - 7s - loss: 1.6094 - accuracy: 0.2000 - val_loss: 1.6514 - val_accuracy: 0.0079 - lr: 0.0010 - 7s/epoch - 208ms/step
Epoch 47/100
36/36 - 7s - loss: 1.6095 - accuracy: 0.1995 - val_loss: 1.6520 - val_accuracy: 0.0255 - lr: 0.0010 - 7s/epoch - 208ms/step
Epoch 48/100
36/36 - 7s - loss: 1.6095 - accuracy: 0.1969 - val_loss: 1.6467 - val_accuracy: 0.0256 - lr: 0.0010 - 7s/epoch - 208ms/step
Epoch 49/100
36/36 - 7s - loss: 1.6094 - accuracy: 0.2000 - val_loss: 1.6449 - val_accuracy: 0.0255 - lr: 0.0010 - 7s/epoch - 208ms/step
Epoch 50/100
36/36 - 7s - loss: 1.6094 - accuracy: 0.2005 - val_loss: 1.6424 - val_accuracy: 0.0657 - lr: 0.0010 - 7s/epoch - 208ms/step
Epoch 51/100
36/36 - 7s - loss: 1.6094 - accuracy: 0.1999 - val_loss: 1.6378 - val_accuracy: 0.0736 - lr: 0.0010 - 7s/epoch - 208ms/step
Epoch 52/100
36/36 - 7s - loss: 1.6094 - accuracy: 0.2004 - val_loss: 1.6405 - val_accuracy: 0.0254 - lr: 0.0010 - 7s/epoch - 208ms/step
Epoch 53/100
36/36 - 7s - loss: 1.6095 - accuracy: 0.2007 - val_loss: 1.6405 - val_accuracy: 0.0655 - lr: 0.0010 - 7s/epoch - 208ms/step
Epoch 54/100
36/36 - 7s - loss: 1.6095 - accuracy: 0.1964 - val_loss: 1.6411 - val_accuracy: 0.0074 - lr: 0.0010 - 7s/epoch - 208ms/step
Epoch 55/100
36/36 - 8s - loss: 1.6095 - accuracy: 0.2000 - val_loss: 1.6296 - val_accuracy: 0.0078 - lr: 0.0010 - 8s/epoch - 209ms/step
Epoch 56/100
36/36 - 7s - loss: 1.6095 - accuracy: 0.1993 - val_loss: 1.6321 - val_accuracy: 0.0656 - lr: 0.0010 - 7s/epoch - 208ms/step
Epoch 57/100
36/36 - 7s - loss: 1.6094 - accuracy: 0.2000 - val_loss: 1.6446 - val_accuracy: 0.0657 - lr: 0.0010 - 7s/epoch - 208ms/step
Epoch 58/100
36/36 - 8s - loss: 1.6094 - accuracy: 0.1996 - val_loss: 1.6443 - val_accuracy: 0.8189 - lr: 0.0010 - 8s/epoch - 209ms/step
Epoch 59/100
36/36 - 7s - loss: 1.6094 - accuracy: 0.2004 - val_loss: 1.6466 - val_accuracy: 0.0256 - lr: 0.0010 - 7s/epoch - 208ms/step
Epoch 60/100
36/36 - 7s - loss: 1.6094 - accuracy: 0.1985 - val_loss: 1.6441 - val_accuracy: 0.0657 - lr: 0.0010 - 7s/epoch - 208ms/step
Epoch 61/100
36/36 - 8s - loss: 1.6094 - accuracy: 0.2010 - val_loss: 1.6429 - val_accuracy: 0.0076 - lr: 0.0010 - 8s/epoch - 208ms/step
Epoch 62/100
36/36 - 7s - loss: 1.6094 - accuracy: 0.2000 - val_loss: 1.6446 - val_accuracy: 0.0076 - lr: 0.0010 - 7s/epoch - 208ms/step
Epoch 63/100
36/36 - 8s - loss: 1.6094 - accuracy: 0.1991 - val_loss: 1.6407 - val_accuracy: 0.0656 - lr: 0.0010 - 8s/epoch - 209ms/step
Epoch 64/100
36/36 - 8s - loss: 1.6095 - accuracy: 0.1990 - val_loss: 1.6355 - val_accuracy: 0.0705 - lr: 0.0010 - 8s/epoch - 209ms/step
Epoch 65/100
36/36 - 8s - loss: 1.6095 - accuracy: 0.2000 - val_loss: 1.6426 - val_accuracy: 0.0708 - lr: 0.0010 - 8s/epoch - 208ms/step
Epoch 66/100
36/36 - 8s - loss: 1.6094 - accuracy: 0.2000 - val_loss: 1.6360 - val_accuracy: 0.0705 - lr: 0.0010 - 8s/epoch - 208ms/step
Epoch 67/100
36/36 - 8s - loss: 1.6095 - accuracy: 0.1968 - val_loss: 1.6365 - val_accuracy: 0.0659 - lr: 0.0010 - 8s/epoch - 209ms/step
Epoch 68/100
36/36 - 7s - loss: 1.6095 - accuracy: 0.2000 - val_loss: 1.6390 - val_accuracy: 0.0658 - lr: 0.0010 - 7s/epoch - 208ms/step
Epoch 69/100
36/36 - 7s - loss: 1.6094 - accuracy: 0.1983 - val_loss: 1.6336 - val_accuracy: 0.0707 - lr: 0.0010 - 7s/epoch - 208ms/step
Epoch 70/100
36/36 - 8s - loss: 1.6095 - accuracy: 0.1999 - val_loss: 1.6382 - val_accuracy: 0.0737 - lr: 0.0010 - 8s/epoch - 209ms/step
Epoch 71/100
36/36 - 7s - loss: 1.6094 - accuracy: 0.1993 - val_loss: 1.6291 - val_accuracy: 0.0662 - lr: 0.0010 - 7s/epoch - 208ms/step
Epoch 72/100
36/36 - 8s - loss: 1.6094 - accuracy: 0.1986 - val_loss: 1.6397 - val_accuracy: 0.0661 - lr: 0.0010 - 8s/epoch - 209ms/step
Epoch 73/100
36/36 - 7s - loss: 1.6094 - accuracy: 0.2000 - val_loss: 1.6337 - val_accuracy: 0.0710 - lr: 0.0010 - 7s/epoch - 208ms/step
Epoch 74/100
36/36 - 7s - loss: 1.6095 - accuracy: 0.2000 - val_loss: 1.6161 - val_accuracy: 0.0665 - lr: 0.0010 - 7s/epoch - 208ms/step
Epoch 75/100
36/36 - 7s - loss: 1.6094 - accuracy: 0.2008 - val_loss: 1.6367 - val_accuracy: 0.0259 - lr: 0.0010 - 7s/epoch - 208ms/step
Epoch 76/100
36/36 - 8s - loss: 1.6095 - accuracy: 0.2000 - val_loss: 1.6172 - val_accuracy: 0.0292 - lr: 0.0010 - 8s/epoch - 209ms/step
Epoch 77/100
36/36 - 7s - loss: 1.6095 - accuracy: 0.1982 - val_loss: 1.6492 - val_accuracy: 0.0259 - lr: 0.0010 - 7s/epoch - 208ms/step
Epoch 78/100
36/36 - 8s - loss: 1.6095 - accuracy: 0.2005 - val_loss: 1.6518 - val_accuracy: 0.0736 - lr: 0.0010 - 8s/epoch - 209ms/step
Epoch 79/100
36/36 - 7s - loss: 1.6095 - accuracy: 0.1995 - val_loss: 1.6530 - val_accuracy: 0.0258 - lr: 0.0010 - 7s/epoch - 208ms/step
Epoch 80/100
36/36 - 8s - loss: 1.6095 - accuracy: 0.1982 - val_loss: 1.6128 - val_accuracy: 0.0684 - lr: 0.0010 - 8s/epoch - 209ms/step
Epoch 81/100
36/36 - 7s - loss: 1.6095 - accuracy: 0.1983 - val_loss: 1.6137 - val_accuracy: 0.0684 - lr: 0.0010 - 7s/epoch - 208ms/step
Epoch 82/100
36/36 - 7s - loss: 1.6095 - accuracy: 0.1998 - val_loss: 1.6302 - val_accuracy: 0.8188 - lr: 0.0010 - 7s/epoch - 208ms/step
Epoch 83/100
36/36 - 7s - loss: 1.6095 - accuracy: 0.1997 - val_loss: 1.6455 - val_accuracy: 0.8240 - lr: 0.0010 - 7s/epoch - 208ms/step
Epoch 84/100
36/36 - 8s - loss: 1.6094 - accuracy: 0.1998 - val_loss: 1.6447 - val_accuracy: 0.0128 - lr: 0.0010 - 8s/epoch - 208ms/step
Epoch 85/100
36/36 - 7s - loss: 1.6095 - accuracy: 0.2004 - val_loss: 1.6454 - val_accuracy: 0.8241 - lr: 0.0010 - 7s/epoch - 208ms/step
Epoch 86/100
36/36 - 8s - loss: 1.6094 - accuracy: 0.1985 - val_loss: 1.6510 - val_accuracy: 0.0254 - lr: 0.0010 - 8s/epoch - 209ms/step
Epoch 87/100
36/36 - 8s - loss: 1.6095 - accuracy: 0.2000 - val_loss: 1.6297 - val_accuracy: 0.0257 - lr: 0.0010 - 8s/epoch - 208ms/step
Epoch 88/100
36/36 - 8s - loss: 1.6094 - accuracy: 0.1986 - val_loss: 1.6254 - val_accuracy: 0.0261 - lr: 0.0010 - 8s/epoch - 208ms/step
Epoch 89/100
36/36 - 7s - loss: 1.6094 - accuracy: 0.1989 - val_loss: 1.6424 - val_accuracy: 0.8187 - lr: 0.0010 - 7s/epoch - 208ms/step
Epoch 90/100
36/36 - 7s - loss: 1.6094 - accuracy: 0.1997 - val_loss: 1.6366 - val_accuracy: 0.0738 - lr: 0.0010 - 7s/epoch - 208ms/step
Epoch 91/100
36/36 - 7s - loss: 1.6094 - accuracy: 0.2000 - val_loss: 1.6195 - val_accuracy: 0.0740 - lr: 0.0010 - 7s/epoch - 208ms/step
Epoch 92/100
36/36 - 8s - loss: 1.6094 - accuracy: 0.1994 - val_loss: 1.6147 - val_accuracy: 0.0286 - lr: 0.0010 - 8s/epoch - 208ms/step
Epoch 93/100
36/36 - 7s - loss: 1.6094 - accuracy: 0.2000 - val_loss: 1.6162 - val_accuracy: 0.0285 - lr: 0.0010 - 7s/epoch - 208ms/step
Epoch 94/100
36/36 - 7s - loss: 1.6094 - accuracy: 0.2000 - val_loss: 1.6142 - val_accuracy: 0.0286 - lr: 0.0010 - 7s/epoch - 208ms/step
Epoch 95/100
36/36 - 7s - loss: 1.6095 - accuracy: 0.2000 - val_loss: 1.6194 - val_accuracy: 0.0259 - lr: 0.0010 - 7s/epoch - 208ms/step
Epoch 96/100
36/36 - 8s - loss: 1.6095 - accuracy: 0.1978 - val_loss: 1.6482 - val_accuracy: 0.0079 - lr: 0.0010 - 8s/epoch - 209ms/step
Epoch 97/100
36/36 - 8s - loss: 1.6095 - accuracy: 0.2003 - val_loss: 1.6274 - val_accuracy: 0.0255 - lr: 0.0010 - 8s/epoch - 208ms/step
Epoch 98/100
36/36 - 8s - loss: 1.6094 - accuracy: 0.1999 - val_loss: 1.6098 - val_accuracy: 0.8221 - lr: 0.0010 - 8s/epoch - 208ms/step
Epoch 99/100
36/36 - 8s - loss: 1.6095 - accuracy: 0.1979 - val_loss: 1.6105 - val_accuracy: 0.0286 - lr: 0.0010 - 8s/epoch - 208ms/step
Epoch 100/100
36/36 - 8s - loss: 1.6095 - accuracy: 0.2000 - val_loss: 1.6122 - val_accuracy: 0.0287 - lr: 0.0010 - 8s/epoch - 208ms/step
Loss: poisson
Epoch number: 75
fitting with batch size: 20
Epoch 1/75
4378/4378 - 76s - loss: 0.5219 - accuracy: 0.1990 - val_loss: 0.5273 - val_accuracy: 0.0692 - lr: 0.0010 - 76s/epoch - 17ms/step
Epoch 2/75
4378/4378 - 73s - loss: 0.5219 - accuracy: 0.1985 - val_loss: 0.5322 - val_accuracy: 0.0737 - lr: 0.0010 - 73s/epoch - 17ms/step
Epoch 3/75
4378/4378 - 73s - loss: 0.5219 - accuracy: 0.1999 - val_loss: 0.5326 - val_accuracy: 0.0665 - lr: 0.0010 - 73s/epoch - 17ms/step
Epoch 4/75
4378/4378 - 74s - loss: 0.5219 - accuracy: 0.1962 - val_loss: 0.5336 - val_accuracy: 0.0660 - lr: 0.0010 - 74s/epoch - 17ms/step
Epoch 5/75
4378/4378 - 73s - loss: 0.5219 - accuracy: 0.2008 - val_loss: 0.5335 - val_accuracy: 0.0079 - lr: 0.0010 - 73s/epoch - 17ms/step
Epoch 6/75
4378/4378 - 74s - loss: 0.5219 - accuracy: 0.1990 - val_loss: 0.5368 - val_accuracy: 0.0127 - lr: 0.0010 - 74s/epoch - 17ms/step
Epoch 7/75
4378/4378 - 73s - loss: 0.5219 - accuracy: 0.1962 - val_loss: 0.5250 - val_accuracy: 0.0737 - lr: 0.0010 - 73s/epoch - 17ms/step
Epoch 8/75
4378/4378 - 74s - loss: 0.5219 - accuracy: 0.1992 - val_loss: 0.5256 - val_accuracy: 0.0109 - lr: 0.0010 - 74s/epoch - 17ms/step
Epoch 9/75
4378/4378 - 74s - loss: 0.5219 - accuracy: 0.1978 - val_loss: 0.5315 - val_accuracy: 0.0262 - lr: 0.0010 - 74s/epoch - 17ms/step
Epoch 10/75
4378/4378 - 74s - loss: 0.5219 - accuracy: 0.2004 - val_loss: 0.5417 - val_accuracy: 0.0786 - lr: 0.0010 - 74s/epoch - 17ms/step
Epoch 11/75
4378/4378 - 73s - loss: 0.5219 - accuracy: 0.1992 - val_loss: 0.5322 - val_accuracy: 0.0741 - lr: 0.0010 - 73s/epoch - 17ms/step
Epoch 12/75
4378/4378 - 73s - loss: 0.5219 - accuracy: 0.1977 - val_loss: 0.5305 - val_accuracy: 0.0739 - lr: 0.0010 - 73s/epoch - 17ms/step
Epoch 13/75
4378/4378 - 73s - loss: 0.5219 - accuracy: 0.2010 - val_loss: 0.5252 - val_accuracy: 0.0766 - lr: 0.0010 - 73s/epoch - 17ms/step
Epoch 14/75
4378/4378 - 74s - loss: 0.5219 - accuracy: 0.1986 - val_loss: 0.5297 - val_accuracy: 0.0786 - lr: 0.0010 - 74s/epoch - 17ms/step
Epoch 15/75
4378/4378 - 73s - loss: 0.5219 - accuracy: 0.2002 - val_loss: 0.5361 - val_accuracy: 0.0126 - lr: 0.0010 - 73s/epoch - 17ms/step
Epoch 16/75
4378/4378 - 73s - loss: 0.5219 - accuracy: 0.1986 - val_loss: 0.5311 - val_accuracy: 0.0737 - lr: 0.0010 - 73s/epoch - 17ms/step
Epoch 17/75
4378/4378 - 73s - loss: 0.5219 - accuracy: 0.2006 - val_loss: 0.5228 - val_accuracy: 0.0285 - lr: 0.0010 - 73s/epoch - 17ms/step
Epoch 18/75
4378/4378 - 73s - loss: 0.5219 - accuracy: 0.2010 - val_loss: 0.5347 - val_accuracy: 0.0080 - lr: 0.0010 - 73s/epoch - 17ms/step
Epoch 19/75
4378/4378 - 73s - loss: 0.5219 - accuracy: 0.1994 - val_loss: 0.5255 - val_accuracy: 0.8191 - lr: 0.0010 - 73s/epoch - 17ms/step
Epoch 20/75
4378/4378 - 73s - loss: 0.5219 - accuracy: 0.2008 - val_loss: 0.5340 - val_accuracy: 0.0075 - lr: 0.0010 - 73s/epoch - 17ms/step
Epoch 21/75
4378/4378 - 74s - loss: 0.5219 - accuracy: 0.1988 - val_loss: 0.5223 - val_accuracy: 0.0103 - lr: 0.0010 - 74s/epoch - 17ms/step
Epoch 22/75
4378/4378 - 73s - loss: 0.5219 - accuracy: 0.1992 - val_loss: 0.5355 - val_accuracy: 0.0706 - lr: 0.0010 - 73s/epoch - 17ms/step
Epoch 23/75
4378/4378 - 74s - loss: 0.5219 - accuracy: 0.1971 - val_loss: 0.5307 - val_accuracy: 0.8192 - lr: 0.0010 - 74s/epoch - 17ms/step
Epoch 24/75
4378/4378 - 74s - loss: 0.5219 - accuracy: 0.1994 - val_loss: 0.5351 - val_accuracy: 0.0737 - lr: 0.0010 - 74s/epoch - 17ms/step
Epoch 25/75
4378/4378 - 73s - loss: 0.5219 - accuracy: 0.1977 - val_loss: 0.5286 - val_accuracy: 0.0717 - lr: 0.0010 - 73s/epoch - 17ms/step
Epoch 26/75
4378/4378 - 73s - loss: 0.5219 - accuracy: 0.1996 - val_loss: 0.5337 - val_accuracy: 0.0260 - lr: 0.0010 - 73s/epoch - 17ms/step
Epoch 27/75
4378/4378 - 74s - loss: 0.5219 - accuracy: 0.2018 - val_loss: 0.5248 - val_accuracy: 0.8247 - lr: 0.0010 - 74s/epoch - 17ms/step
Epoch 28/75
4378/4378 - 73s - loss: 0.5219 - accuracy: 0.1999 - val_loss: 0.5279 - val_accuracy: 0.0291 - lr: 0.0010 - 73s/epoch - 17ms/step
Epoch 29/75
4378/4378 - 74s - loss: 0.5219 - accuracy: 0.1994 - val_loss: 0.5282 - val_accuracy: 0.0741 - lr: 0.0010 - 74s/epoch - 17ms/step
Epoch 30/75
4378/4378 - 73s - loss: 0.5219 - accuracy: 0.1998 - val_loss: 0.5271 - val_accuracy: 0.8191 - lr: 0.0010 - 73s/epoch - 17ms/step
Epoch 31/75
4378/4378 - 74s - loss: 0.5219 - accuracy: 0.1988 - val_loss: 0.5265 - val_accuracy: 0.0772 - lr: 0.0010 - 74s/epoch - 17ms/step
Epoch 32/75
4378/4378 - 73s - loss: 0.5219 - accuracy: 0.2007 - val_loss: 0.5319 - val_accuracy: 0.0306 - lr: 0.0010 - 73s/epoch - 17ms/step
Epoch 33/75
4378/4378 - 73s - loss: 0.5219 - accuracy: 0.1986 - val_loss: 0.5223 - val_accuracy: 0.0759 - lr: 0.0010 - 73s/epoch - 17ms/step
Epoch 34/75
4378/4378 - 74s - loss: 0.5219 - accuracy: 0.1969 - val_loss: 0.5256 - val_accuracy: 0.0305 - lr: 0.0010 - 74s/epoch - 17ms/step
Epoch 35/75
4378/4378 - 74s - loss: 0.5219 - accuracy: 0.1997 - val_loss: 0.5307 - val_accuracy: 0.0305 - lr: 0.0010 - 74s/epoch - 17ms/step
Epoch 36/75
4378/4378 - 74s - loss: 0.5219 - accuracy: 0.1968 - val_loss: 0.5311 - val_accuracy: 0.0661 - lr: 0.0010 - 74s/epoch - 17ms/step
Epoch 37/75
4378/4378 - 73s - loss: 0.5219 - accuracy: 0.1983 - val_loss: 0.5268 - val_accuracy: 0.8241 - lr: 0.0010 - 73s/epoch - 17ms/step
Epoch 38/75
4378/4378 - 73s - loss: 0.5219 - accuracy: 0.1989 - val_loss: 0.5275 - val_accuracy: 0.0084 - lr: 0.0010 - 73s/epoch - 17ms/step
Epoch 39/75
4378/4378 - 73s - loss: 0.5219 - accuracy: 0.1965 - val_loss: 0.5304 - val_accuracy: 0.0081 - lr: 0.0010 - 73s/epoch - 17ms/step
Epoch 40/75
4378/4378 - 74s - loss: 0.5219 - accuracy: 0.1997 - val_loss: 0.5333 - val_accuracy: 0.0076 - lr: 0.0010 - 74s/epoch - 17ms/step
Epoch 41/75
4378/4378 - 74s - loss: 0.5219 - accuracy: 0.1985 - val_loss: 0.5289 - val_accuracy: 0.0079 - lr: 0.0010 - 74s/epoch - 17ms/step
Epoch 42/75
4378/4378 - 73s - loss: 0.5219 - accuracy: 0.2007 - val_loss: 0.5188 - val_accuracy: 0.8220 - lr: 0.0010 - 73s/epoch - 17ms/step
Epoch 43/75
4378/4378 - 73s - loss: 0.5219 - accuracy: 0.1980 - val_loss: 0.5265 - val_accuracy: 0.0659 - lr: 0.0010 - 73s/epoch - 17ms/step
Epoch 44/75
4378/4378 - 74s - loss: 0.5219 - accuracy: 0.1999 - val_loss: 0.5248 - val_accuracy: 0.0765 - lr: 0.0010 - 74s/epoch - 17ms/step
Epoch 45/75
4378/4378 - 74s - loss: 0.5219 - accuracy: 0.1977 - val_loss: 0.5320 - val_accuracy: 0.0659 - lr: 0.0010 - 74s/epoch - 17ms/step
Epoch 46/75
4378/4378 - 74s - loss: 0.5219 - accuracy: 0.1998 - val_loss: 0.5233 - val_accuracy: 0.0261 - lr: 0.0010 - 74s/epoch - 17ms/step
Epoch 47/75
4378/4378 - 74s - loss: 0.5219 - accuracy: 0.1985 - val_loss: 0.5297 - val_accuracy: 0.8238 - lr: 0.0010 - 74s/epoch - 17ms/step
Epoch 48/75
4378/4378 - 74s - loss: 0.5219 - accuracy: 0.1983 - val_loss: 0.5313 - val_accuracy: 0.0706 - lr: 0.0010 - 74s/epoch - 17ms/step
Epoch 49/75
4378/4378 - 73s - loss: 0.5219 - accuracy: 0.1986 - val_loss: 0.5297 - val_accuracy: 0.0280 - lr: 0.0010 - 73s/epoch - 17ms/step
Epoch 50/75
4378/4378 - 74s - loss: 0.5219 - accuracy: 0.1981 - val_loss: 0.5313 - val_accuracy: 0.0076 - lr: 0.0010 - 74s/epoch - 17ms/step
Epoch 51/75
4378/4378 - 74s - loss: 0.5219 - accuracy: 0.1986 - val_loss: 0.5320 - val_accuracy: 0.0736 - lr: 0.0010 - 74s/epoch - 17ms/step
Epoch 52/75
4378/4378 - 73s - loss: 0.5219 - accuracy: 0.2002 - val_loss: 0.5276 - val_accuracy: 0.8190 - lr: 0.0010 - 73s/epoch - 17ms/step
Epoch 53/75
4378/4378 - 73s - loss: 0.5219 - accuracy: 0.1961 - val_loss: 0.5299 - val_accuracy: 0.0742 - lr: 0.0010 - 73s/epoch - 17ms/step
Epoch 54/75
4378/4378 - 73s - loss: 0.5219 - accuracy: 0.1999 - val_loss: 0.5352 - val_accuracy: 0.0786 - lr: 0.0010 - 73s/epoch - 17ms/step
Epoch 55/75
4378/4378 - 73s - loss: 0.5219 - accuracy: 0.2014 - val_loss: 0.5374 - val_accuracy: 0.0253 - lr: 0.0010 - 73s/epoch - 17ms/step
Epoch 56/75
4378/4378 - 73s - loss: 0.5219 - accuracy: 0.1981 - val_loss: 0.5301 - val_accuracy: 0.0658 - lr: 0.0010 - 73s/epoch - 17ms/step
Epoch 57/75
4378/4378 - 74s - loss: 0.5219 - accuracy: 0.2011 - val_loss: 0.5357 - val_accuracy: 0.0256 - lr: 0.0010 - 74s/epoch - 17ms/step
Epoch 58/75
4378/4378 - 74s - loss: 0.5219 - accuracy: 0.2021 - val_loss: 0.5341 - val_accuracy: 0.0749 - lr: 0.0010 - 74s/epoch - 17ms/step
Epoch 59/75
4378/4378 - 74s - loss: 0.5219 - accuracy: 0.1959 - val_loss: 0.5283 - val_accuracy: 0.0666 - lr: 0.0010 - 74s/epoch - 17ms/step
Epoch 60/75
4378/4378 - 74s - loss: 0.5219 - accuracy: 0.1996 - val_loss: 0.5352 - val_accuracy: 0.0253 - lr: 0.0010 - 74s/epoch - 17ms/step
Epoch 61/75
4378/4378 - 74s - loss: 0.5219 - accuracy: 0.2013 - val_loss: 0.5233 - val_accuracy: 0.0107 - lr: 0.0010 - 74s/epoch - 17ms/step
Epoch 62/75
4378/4378 - 74s - loss: 0.5219 - accuracy: 0.2005 - val_loss: 0.5315 - val_accuracy: 0.0257 - lr: 0.0010 - 74s/epoch - 17ms/step
Epoch 63/75
4378/4378 - 74s - loss: 0.5219 - accuracy: 0.2001 - val_loss: 0.5220 - val_accuracy: 0.0104 - lr: 0.0010 - 74s/epoch - 17ms/step
Epoch 64/75
4378/4378 - 73s - loss: 0.5219 - accuracy: 0.1992 - val_loss: 0.5313 - val_accuracy: 0.0736 - lr: 0.0010 - 73s/epoch - 17ms/step
Epoch 65/75
4378/4378 - 73s - loss: 0.5219 - accuracy: 0.2012 - val_loss: 0.5289 - val_accuracy: 0.0309 - lr: 0.0010 - 73s/epoch - 17ms/step
Epoch 66/75
4378/4378 - 74s - loss: 0.5219 - accuracy: 0.2008 - val_loss: 0.5288 - val_accuracy: 0.0658 - lr: 0.0010 - 74s/epoch - 17ms/step
Epoch 67/75
4378/4378 - 73s - loss: 0.5219 - accuracy: 0.2020 - val_loss: 0.5304 - val_accuracy: 0.8238 - lr: 0.0010 - 73s/epoch - 17ms/step
Epoch 68/75
4378/4378 - 73s - loss: 0.5219 - accuracy: 0.1987 - val_loss: 0.5373 - val_accuracy: 0.0077 - lr: 0.0010 - 73s/epoch - 17ms/step
Epoch 69/75
4378/4378 - 74s - loss: 0.5219 - accuracy: 0.1987 - val_loss: 0.5332 - val_accuracy: 0.0258 - lr: 0.0010 - 74s/epoch - 17ms/step
Epoch 70/75
4378/4378 - 73s - loss: 0.5219 - accuracy: 0.1991 - val_loss: 0.5305 - val_accuracy: 0.0792 - lr: 0.0010 - 73s/epoch - 17ms/step
Epoch 71/75
4378/4378 - 74s - loss: 0.5219 - accuracy: 0.1988 - val_loss: 0.5298 - val_accuracy: 0.0267 - lr: 0.0010 - 74s/epoch - 17ms/step
Epoch 72/75
4378/4378 - 73s - loss: 0.5219 - accuracy: 0.1984 - val_loss: 0.5331 - val_accuracy: 0.0738 - lr: 0.0010 - 73s/epoch - 17ms/step
Epoch 73/75
4378/4378 - 74s - loss: 0.5219 - accuracy: 0.2003 - val_loss: 0.5200 - val_accuracy: 0.8199 - lr: 0.0010 - 74s/epoch - 17ms/step
Epoch 74/75
4378/4378 - 74s - loss: 0.5219 - accuracy: 0.2002 - val_loss: 0.5306 - val_accuracy: 0.0736 - lr: 0.0010 - 74s/epoch - 17ms/step
Epoch 75/75
4378/4378 - 74s - loss: 0.5219 - accuracy: 0.1997 - val_loss: 0.5293 - val_accuracy: 0.0261 - lr: 0.0010 - 74s/epoch - 17ms/step
fitting with batch size: 100
Epoch 1/75
876/876 - 21s - loss: 0.5219 - accuracy: 0.1983 - val_loss: 0.5320 - val_accuracy: 0.0743 - lr: 0.0010 - 21s/epoch - 23ms/step
Epoch 2/75
876/876 - 18s - loss: 0.5219 - accuracy: 0.2007 - val_loss: 0.5306 - val_accuracy: 0.0661 - lr: 0.0010 - 18s/epoch - 21ms/step
Epoch 3/75
876/876 - 18s - loss: 0.5219 - accuracy: 0.2005 - val_loss: 0.5233 - val_accuracy: 0.8243 - lr: 0.0010 - 18s/epoch - 20ms/step
Epoch 4/75
876/876 - 18s - loss: 0.5219 - accuracy: 0.1987 - val_loss: 0.5297 - val_accuracy: 0.8191 - lr: 0.0010 - 18s/epoch - 21ms/step
Epoch 5/75
876/876 - 18s - loss: 0.5219 - accuracy: 0.2003 - val_loss: 0.5335 - val_accuracy: 0.0787 - lr: 0.0010 - 18s/epoch - 20ms/step
Epoch 6/75
876/876 - 18s - loss: 0.5219 - accuracy: 0.1957 - val_loss: 0.5302 - val_accuracy: 0.0078 - lr: 0.0010 - 18s/epoch - 21ms/step
Epoch 7/75
876/876 - 18s - loss: 0.5219 - accuracy: 0.1972 - val_loss: 0.5301 - val_accuracy: 0.0259 - lr: 0.0010 - 18s/epoch - 20ms/step
Epoch 8/75
876/876 - 18s - loss: 0.5219 - accuracy: 0.1975 - val_loss: 0.5288 - val_accuracy: 0.0128 - lr: 0.0010 - 18s/epoch - 21ms/step
Epoch 9/75
876/876 - 18s - loss: 0.5219 - accuracy: 0.1980 - val_loss: 0.5322 - val_accuracy: 0.0742 - lr: 0.0010 - 18s/epoch - 20ms/step
Epoch 10/75
876/876 - 18s - loss: 0.5219 - accuracy: 0.1974 - val_loss: 0.5305 - val_accuracy: 0.0080 - lr: 0.0010 - 18s/epoch - 21ms/step
Epoch 11/75
876/876 - 18s - loss: 0.5219 - accuracy: 0.1983 - val_loss: 0.5293 - val_accuracy: 0.0259 - lr: 0.0010 - 18s/epoch - 20ms/step
Epoch 12/75
876/876 - 18s - loss: 0.5219 - accuracy: 0.1996 - val_loss: 0.5318 - val_accuracy: 0.0312 - lr: 0.0010 - 18s/epoch - 21ms/step
Epoch 13/75
876/876 - 18s - loss: 0.5219 - accuracy: 0.1986 - val_loss: 0.5278 - val_accuracy: 0.8243 - lr: 0.0010 - 18s/epoch - 21ms/step
Epoch 14/75
876/876 - 18s - loss: 0.5219 - accuracy: 0.1991 - val_loss: 0.5306 - val_accuracy: 0.0255 - lr: 0.0010 - 18s/epoch - 21ms/step
Epoch 15/75
876/876 - 18s - loss: 0.5219 - accuracy: 0.1989 - val_loss: 0.5326 - val_accuracy: 0.0075 - lr: 0.0010 - 18s/epoch - 21ms/step
Epoch 16/75
876/876 - 18s - loss: 0.5219 - accuracy: 0.2002 - val_loss: 0.5212 - val_accuracy: 0.8211 - lr: 0.0010 - 18s/epoch - 21ms/step
Epoch 17/75
876/876 - 18s - loss: 0.5219 - accuracy: 0.1973 - val_loss: 0.5316 - val_accuracy: 0.0078 - lr: 0.0010 - 18s/epoch - 20ms/step
Epoch 18/75
876/876 - 18s - loss: 0.5219 - accuracy: 0.1980 - val_loss: 0.5216 - val_accuracy: 0.8217 - lr: 0.0010 - 18s/epoch - 21ms/step
Epoch 19/75
876/876 - 18s - loss: 0.5219 - accuracy: 0.2007 - val_loss: 0.5268 - val_accuracy: 0.0656 - lr: 0.0010 - 18s/epoch - 20ms/step
Epoch 20/75
876/876 - 18s - loss: 0.5219 - accuracy: 0.1982 - val_loss: 0.5326 - val_accuracy: 0.0790 - lr: 0.0010 - 18s/epoch - 21ms/step
Epoch 21/75
876/876 - 18s - loss: 0.5219 - accuracy: 0.1975 - val_loss: 0.5327 - val_accuracy: 0.0791 - lr: 0.0010 - 18s/epoch - 20ms/step
Epoch 22/75
876/876 - 18s - loss: 0.5219 - accuracy: 0.1969 - val_loss: 0.5299 - val_accuracy: 0.8244 - lr: 0.0010 - 18s/epoch - 21ms/step
Epoch 23/75
876/876 - 18s - loss: 0.5219 - accuracy: 0.2014 - val_loss: 0.5320 - val_accuracy: 0.0655 - lr: 0.0010 - 18s/epoch - 20ms/step
Epoch 24/75
876/876 - 18s - loss: 0.5219 - accuracy: 0.1996 - val_loss: 0.5234 - val_accuracy: 0.0282 - lr: 0.0010 - 18s/epoch - 21ms/step
Epoch 25/75
876/876 - 18s - loss: 0.5219 - accuracy: 0.2014 - val_loss: 0.5295 - val_accuracy: 0.0659 - lr: 0.0010 - 18s/epoch - 20ms/step
Epoch 26/75
876/876 - 18s - loss: 0.5219 - accuracy: 0.1984 - val_loss: 0.5286 - val_accuracy: 0.8197 - lr: 0.0010 - 18s/epoch - 21ms/step
Epoch 27/75
876/876 - 18s - loss: 0.5219 - accuracy: 0.1990 - val_loss: 0.5307 - val_accuracy: 0.0256 - lr: 0.0010 - 18s/epoch - 20ms/step
Epoch 28/75
876/876 - 18s - loss: 0.5219 - accuracy: 0.1990 - val_loss: 0.5301 - val_accuracy: 0.0309 - lr: 0.0010 - 18s/epoch - 21ms/step
Epoch 29/75
876/876 - 18s - loss: 0.5219 - accuracy: 0.1972 - val_loss: 0.5302 - val_accuracy: 0.0127 - lr: 0.0010 - 18s/epoch - 20ms/step
Epoch 30/75
876/876 - 18s - loss: 0.5219 - accuracy: 0.1988 - val_loss: 0.5282 - val_accuracy: 0.8239 - lr: 0.0010 - 18s/epoch - 21ms/step
Epoch 31/75
876/876 - 18s - loss: 0.5219 - accuracy: 0.1998 - val_loss: 0.5310 - val_accuracy: 0.0741 - lr: 0.0010 - 18s/epoch - 21ms/step
Epoch 32/75
876/876 - 18s - loss: 0.5219 - accuracy: 0.1981 - val_loss: 0.5281 - val_accuracy: 0.8192 - lr: 0.0010 - 18s/epoch - 21ms/step
Epoch 33/75
876/876 - 18s - loss: 0.5219 - accuracy: 0.1986 - val_loss: 0.5313 - val_accuracy: 0.0655 - lr: 0.0010 - 18s/epoch - 20ms/step
Epoch 34/75
876/876 - 18s - loss: 0.5219 - accuracy: 0.1995 - val_loss: 0.5265 - val_accuracy: 0.8240 - lr: 0.0010 - 18s/epoch - 21ms/step
Epoch 35/75
876/876 - 18s - loss: 0.5219 - accuracy: 0.1973 - val_loss: 0.5242 - val_accuracy: 0.0278 - lr: 0.0010 - 18s/epoch - 20ms/step
Epoch 36/75
876/876 - 18s - loss: 0.5219 - accuracy: 0.2007 - val_loss: 0.5216 - val_accuracy: 0.0693 - lr: 0.0010 - 18s/epoch - 21ms/step
Epoch 37/75
876/876 - 18s - loss: 0.5219 - accuracy: 0.1998 - val_loss: 0.5308 - val_accuracy: 0.0255 - lr: 0.0010 - 18s/epoch - 20ms/step
Epoch 38/75
876/876 - 18s - loss: 0.5219 - accuracy: 0.1976 - val_loss: 0.5287 - val_accuracy: 0.0738 - lr: 0.0010 - 18s/epoch - 20ms/step
Epoch 39/75
876/876 - 18s - loss: 0.5219 - accuracy: 0.1961 - val_loss: 0.5319 - val_accuracy: 0.0074 - lr: 0.0010 - 18s/epoch - 20ms/step
Epoch 40/75
876/876 - 18s - loss: 0.5219 - accuracy: 0.2001 - val_loss: 0.5270 - val_accuracy: 0.8241 - lr: 0.0010 - 18s/epoch - 21ms/step
Epoch 41/75
876/876 - 18s - loss: 0.5219 - accuracy: 0.1997 - val_loss: 0.5314 - val_accuracy: 0.8193 - lr: 0.0010 - 18s/epoch - 21ms/step
Epoch 42/75
876/876 - 18s - loss: 0.5219 - accuracy: 0.1989 - val_loss: 0.5316 - val_accuracy: 0.0256 - lr: 0.0010 - 18s/epoch - 21ms/step
Epoch 43/75
876/876 - 18s - loss: 0.5219 - accuracy: 0.1969 - val_loss: 0.5303 - val_accuracy: 0.0257 - lr: 0.0010 - 18s/epoch - 21ms/step
Epoch 44/75
876/876 - 18s - loss: 0.5219 - accuracy: 0.2017 - val_loss: 0.5295 - val_accuracy: 0.0305 - lr: 0.0010 - 18s/epoch - 21ms/step
Epoch 45/75
876/876 - 18s - loss: 0.5219 - accuracy: 0.1975 - val_loss: 0.5302 - val_accuracy: 0.0741 - lr: 0.0010 - 18s/epoch - 21ms/step
Epoch 46/75
876/876 - 18s - loss: 0.5219 - accuracy: 0.1995 - val_loss: 0.5303 - val_accuracy: 0.0659 - lr: 0.0010 - 18s/epoch - 21ms/step
Epoch 47/75
876/876 - 18s - loss: 0.5219 - accuracy: 0.1983 - val_loss: 0.5225 - val_accuracy: 0.0683 - lr: 0.0010 - 18s/epoch - 20ms/step
Epoch 48/75
876/876 - 18s - loss: 0.5219 - accuracy: 0.1985 - val_loss: 0.5256 - val_accuracy: 0.0708 - lr: 0.0010 - 18s/epoch - 21ms/step
Epoch 49/75
876/876 - 18s - loss: 0.5219 - accuracy: 0.1998 - val_loss: 0.5322 - val_accuracy: 0.0079 - lr: 0.0010 - 18s/epoch - 20ms/step
Epoch 50/75
876/876 - 18s - loss: 0.5219 - accuracy: 0.1989 - val_loss: 0.5313 - val_accuracy: 0.8191 - lr: 0.0010 - 18s/epoch - 21ms/step
Epoch 51/75
876/876 - 18s - loss: 0.5219 - accuracy: 0.1970 - val_loss: 0.5301 - val_accuracy: 0.0079 - lr: 0.0010 - 18s/epoch - 21ms/step
Epoch 52/75
876/876 - 18s - loss: 0.5219 - accuracy: 0.1983 - val_loss: 0.5249 - val_accuracy: 0.0760 - lr: 0.0010 - 18s/epoch - 21ms/step
Epoch 53/75
876/876 - 18s - loss: 0.5219 - accuracy: 0.1975 - val_loss: 0.5289 - val_accuracy: 0.0076 - lr: 0.0010 - 18s/epoch - 20ms/step
Epoch 54/75
876/876 - 18s - loss: 0.5219 - accuracy: 0.2000 - val_loss: 0.5207 - val_accuracy: 0.8219 - lr: 0.0010 - 18s/epoch - 21ms/step
Epoch 55/75
876/876 - 18s - loss: 0.5219 - accuracy: 0.1987 - val_loss: 0.5285 - val_accuracy: 0.0256 - lr: 0.0010 - 18s/epoch - 20ms/step
Epoch 56/75
876/876 - 18s - loss: 0.5219 - accuracy: 0.1978 - val_loss: 0.5294 - val_accuracy: 0.0745 - lr: 0.0010 - 18s/epoch - 20ms/step
Epoch 57/75
876/876 - 18s - loss: 0.5219 - accuracy: 0.1961 - val_loss: 0.5317 - val_accuracy: 0.0704 - lr: 0.0010 - 18s/epoch - 20ms/step
Epoch 58/75
876/876 - 18s - loss: 0.5219 - accuracy: 0.1981 - val_loss: 0.5319 - val_accuracy: 0.0783 - lr: 0.0010 - 18s/epoch - 21ms/step
Epoch 59/75
876/876 - 18s - loss: 0.5219 - accuracy: 0.1993 - val_loss: 0.5364 - val_accuracy: 0.0124 - lr: 0.0010 - 18s/epoch - 21ms/step
Epoch 60/75
876/876 - 18s - loss: 0.5219 - accuracy: 0.2008 - val_loss: 0.5315 - val_accuracy: 0.0260 - lr: 0.0010 - 18s/epoch - 21ms/step
Epoch 61/75
876/876 - 18s - loss: 0.5219 - accuracy: 0.1992 - val_loss: 0.5353 - val_accuracy: 0.0660 - lr: 0.0010 - 18s/epoch - 21ms/step
Epoch 62/75
876/876 - 18s - loss: 0.5219 - accuracy: 0.1991 - val_loss: 0.5263 - val_accuracy: 0.8190 - lr: 0.0010 - 18s/epoch - 21ms/step
Epoch 63/75
876/876 - 18s - loss: 0.5219 - accuracy: 0.1972 - val_loss: 0.5290 - val_accuracy: 0.0255 - lr: 0.0010 - 18s/epoch - 20ms/step
Epoch 64/75
876/876 - 18s - loss: 0.5219 - accuracy: 0.2003 - val_loss: 0.5313 - val_accuracy: 0.0783 - lr: 0.0010 - 18s/epoch - 20ms/step
Epoch 65/75
876/876 - 18s - loss: 0.5219 - accuracy: 0.2008 - val_loss: 0.5318 - val_accuracy: 0.0076 - lr: 0.0010 - 18s/epoch - 21ms/step
Epoch 66/75
876/876 - 18s - loss: 0.5219 - accuracy: 0.1981 - val_loss: 0.5316 - val_accuracy: 0.0076 - lr: 0.0010 - 18s/epoch - 21ms/step
Epoch 67/75
876/876 - 18s - loss: 0.5219 - accuracy: 0.2016 - val_loss: 0.5299 - val_accuracy: 0.8192 - lr: 0.0010 - 18s/epoch - 20ms/step
Epoch 68/75
876/876 - 18s - loss: 0.5219 - accuracy: 0.1984 - val_loss: 0.5237 - val_accuracy: 0.0761 - lr: 0.0010 - 18s/epoch - 21ms/step
Epoch 69/75
876/876 - 18s - loss: 0.5219 - accuracy: 0.1996 - val_loss: 0.5322 - val_accuracy: 0.0259 - lr: 0.0010 - 18s/epoch - 21ms/step
Epoch 70/75
876/876 - 18s - loss: 0.5219 - accuracy: 0.1984 - val_loss: 0.5217 - val_accuracy: 0.8258 - lr: 0.0010 - 18s/epoch - 21ms/step
Epoch 71/75
876/876 - 18s - loss: 0.5219 - accuracy: 0.1977 - val_loss: 0.5318 - val_accuracy: 0.0658 - lr: 0.0010 - 18s/epoch - 20ms/step
Epoch 72/75
876/876 - 18s - loss: 0.5219 - accuracy: 0.2012 - val_loss: 0.5308 - val_accuracy: 0.0709 - lr: 0.0010 - 18s/epoch - 21ms/step
Epoch 73/75
876/876 - 18s - loss: 0.5219 - accuracy: 0.2002 - val_loss: 0.5238 - val_accuracy: 0.0763 - lr: 0.0010 - 18s/epoch - 20ms/step
Epoch 74/75
876/876 - 18s - loss: 0.5219 - accuracy: 0.1984 - val_loss: 0.5286 - val_accuracy: 0.0085 - lr: 0.0010 - 18s/epoch - 21ms/step
Epoch 75/75
876/876 - 18s - loss: 0.5219 - accuracy: 0.2003 - val_loss: 0.5299 - val_accuracy: 0.0659 - lr: 0.0010 - 18s/epoch - 20ms/step
fitting with batch size: 500
Epoch 1/75
176/176 - 11s - loss: 0.5219 - accuracy: 0.1976 - val_loss: 0.5300 - val_accuracy: 0.0655 - lr: 0.0010 - 11s/epoch - 64ms/step
Epoch 2/75
176/176 - 9s - loss: 0.5219 - accuracy: 0.2000 - val_loss: 0.5316 - val_accuracy: 0.0703 - lr: 0.0010 - 9s/epoch - 50ms/step
Epoch 3/75
176/176 - 9s - loss: 0.5219 - accuracy: 0.2002 - val_loss: 0.5315 - val_accuracy: 0.0704 - lr: 0.0010 - 9s/epoch - 50ms/step
Epoch 4/75
176/176 - 9s - loss: 0.5219 - accuracy: 0.1995 - val_loss: 0.5301 - val_accuracy: 0.0662 - lr: 0.0010 - 9s/epoch - 50ms/step
Epoch 5/75
176/176 - 9s - loss: 0.5219 - accuracy: 0.1974 - val_loss: 0.5291 - val_accuracy: 0.0259 - lr: 0.0010 - 9s/epoch - 50ms/step
Epoch 6/75
176/176 - 9s - loss: 0.5219 - accuracy: 0.1976 - val_loss: 0.5270 - val_accuracy: 0.0258 - lr: 0.0010 - 9s/epoch - 50ms/step
Epoch 7/75
176/176 - 9s - loss: 0.5219 - accuracy: 0.1993 - val_loss: 0.5251 - val_accuracy: 0.8241 - lr: 0.0010 - 9s/epoch - 50ms/step
Epoch 8/75
176/176 - 9s - loss: 0.5219 - accuracy: 0.1992 - val_loss: 0.5254 - val_accuracy: 0.0661 - lr: 0.0010 - 9s/epoch - 50ms/step
Epoch 9/75
176/176 - 9s - loss: 0.5219 - accuracy: 0.1978 - val_loss: 0.5275 - val_accuracy: 0.0661 - lr: 0.0010 - 9s/epoch - 50ms/step
Epoch 10/75
176/176 - 9s - loss: 0.5219 - accuracy: 0.1987 - val_loss: 0.5264 - val_accuracy: 0.8189 - lr: 0.0010 - 9s/epoch - 50ms/step
Epoch 11/75
176/176 - 9s - loss: 0.5219 - accuracy: 0.1967 - val_loss: 0.5246 - val_accuracy: 0.0735 - lr: 0.0010 - 9s/epoch - 50ms/step
Epoch 12/75
176/176 - 9s - loss: 0.5219 - accuracy: 0.1988 - val_loss: 0.5252 - val_accuracy: 0.0735 - lr: 0.0010 - 9s/epoch - 50ms/step
Epoch 13/75
176/176 - 9s - loss: 0.5219 - accuracy: 0.1989 - val_loss: 0.5247 - val_accuracy: 0.0075 - lr: 0.0010 - 9s/epoch - 51ms/step
Epoch 14/75
176/176 - 9s - loss: 0.5219 - accuracy: 0.2000 - val_loss: 0.5231 - val_accuracy: 0.8261 - lr: 0.0010 - 9s/epoch - 50ms/step
Epoch 15/75
176/176 - 9s - loss: 0.5219 - accuracy: 0.1987 - val_loss: 0.5313 - val_accuracy: 0.0705 - lr: 0.0010 - 9s/epoch - 50ms/step
Epoch 16/75
176/176 - 9s - loss: 0.5219 - accuracy: 0.1989 - val_loss: 0.5324 - val_accuracy: 0.0253 - lr: 0.0010 - 9s/epoch - 50ms/step
Epoch 17/75
176/176 - 9s - loss: 0.5219 - accuracy: 0.1984 - val_loss: 0.5310 - val_accuracy: 0.0666 - lr: 0.0010 - 9s/epoch - 50ms/step
Epoch 18/75
176/176 - 9s - loss: 0.5219 - accuracy: 0.1983 - val_loss: 0.5299 - val_accuracy: 0.0664 - lr: 0.0010 - 9s/epoch - 50ms/step
Epoch 19/75
176/176 - 9s - loss: 0.5219 - accuracy: 0.2000 - val_loss: 0.5319 - val_accuracy: 0.0131 - lr: 0.0010 - 9s/epoch - 50ms/step
Epoch 20/75
176/176 - 9s - loss: 0.5219 - accuracy: 0.1990 - val_loss: 0.5301 - val_accuracy: 0.8197 - lr: 0.0010 - 9s/epoch - 50ms/step
Epoch 21/75
176/176 - 9s - loss: 0.5219 - accuracy: 0.1985 - val_loss: 0.5309 - val_accuracy: 0.0741 - lr: 0.0010 - 9s/epoch - 50ms/step
Epoch 22/75
176/176 - 9s - loss: 0.5219 - accuracy: 0.1984 - val_loss: 0.5299 - val_accuracy: 0.0659 - lr: 0.0010 - 9s/epoch - 50ms/step
Epoch 23/75
176/176 - 9s - loss: 0.5219 - accuracy: 0.1988 - val_loss: 0.5294 - val_accuracy: 0.0656 - lr: 0.0010 - 9s/epoch - 50ms/step
Epoch 24/75
176/176 - 9s - loss: 0.5219 - accuracy: 0.1994 - val_loss: 0.5261 - val_accuracy: 0.0255 - lr: 0.0010 - 9s/epoch - 50ms/step
Epoch 25/75
176/176 - 9s - loss: 0.5219 - accuracy: 0.1976 - val_loss: 0.5243 - val_accuracy: 0.0665 - lr: 0.0010 - 9s/epoch - 50ms/step
Epoch 26/75
176/176 - 9s - loss: 0.5219 - accuracy: 0.1990 - val_loss: 0.5242 - val_accuracy: 0.0662 - lr: 0.0010 - 9s/epoch - 50ms/step
Epoch 27/75
176/176 - 9s - loss: 0.5219 - accuracy: 0.1996 - val_loss: 0.5236 - val_accuracy: 0.0078 - lr: 0.0010 - 9s/epoch - 50ms/step
Epoch 28/75
176/176 - 9s - loss: 0.5219 - accuracy: 0.1998 - val_loss: 0.5237 - val_accuracy: 0.0765 - lr: 0.0010 - 9s/epoch - 50ms/step
Epoch 29/75
176/176 - 9s - loss: 0.5219 - accuracy: 0.1977 - val_loss: 0.5325 - val_accuracy: 0.0657 - lr: 0.0010 - 9s/epoch - 50ms/step
Epoch 30/75
176/176 - 9s - loss: 0.5219 - accuracy: 0.1984 - val_loss: 0.5308 - val_accuracy: 0.0074 - lr: 0.0010 - 9s/epoch - 50ms/step
Epoch 31/75
176/176 - 9s - loss: 0.5219 - accuracy: 0.1993 - val_loss: 0.5242 - val_accuracy: 0.0685 - lr: 0.0010 - 9s/epoch - 50ms/step
Epoch 32/75
176/176 - 9s - loss: 0.5219 - accuracy: 0.1990 - val_loss: 0.5247 - val_accuracy: 0.0101 - lr: 0.0010 - 9s/epoch - 50ms/step
Epoch 33/75
176/176 - 9s - loss: 0.5219 - accuracy: 0.1994 - val_loss: 0.5236 - val_accuracy: 0.0766 - lr: 0.0010 - 9s/epoch - 51ms/step
Epoch 34/75
176/176 - 9s - loss: 0.5219 - accuracy: 0.1976 - val_loss: 0.5297 - val_accuracy: 0.0077 - lr: 0.0010 - 9s/epoch - 50ms/step
Epoch 35/75
176/176 - 9s - loss: 0.5219 - accuracy: 0.1983 - val_loss: 0.5284 - val_accuracy: 0.8192 - lr: 0.0010 - 9s/epoch - 50ms/step
Epoch 36/75
176/176 - 9s - loss: 0.5219 - accuracy: 0.1987 - val_loss: 0.5260 - val_accuracy: 0.0075 - lr: 0.0010 - 9s/epoch - 50ms/step
Epoch 37/75
176/176 - 9s - loss: 0.5219 - accuracy: 0.1992 - val_loss: 0.5272 - val_accuracy: 0.8240 - lr: 0.0010 - 9s/epoch - 51ms/step
Epoch 38/75
176/176 - 9s - loss: 0.5219 - accuracy: 0.1976 - val_loss: 0.5248 - val_accuracy: 0.0741 - lr: 0.0010 - 9s/epoch - 50ms/step
Epoch 39/75
176/176 - 9s - loss: 0.5219 - accuracy: 0.1995 - val_loss: 0.5235 - val_accuracy: 0.0748 - lr: 0.0010 - 9s/epoch - 50ms/step
Epoch 40/75
176/176 - 9s - loss: 0.5219 - accuracy: 0.1974 - val_loss: 0.5304 - val_accuracy: 0.0708 - lr: 0.0010 - 9s/epoch - 50ms/step
Epoch 41/75
176/176 - 9s - loss: 0.5219 - accuracy: 0.1990 - val_loss: 0.5292 - val_accuracy: 0.0255 - lr: 0.0010 - 9s/epoch - 50ms/step
Epoch 42/75
176/176 - 9s - loss: 0.5219 - accuracy: 0.1983 - val_loss: 0.5323 - val_accuracy: 0.0707 - lr: 0.0010 - 9s/epoch - 50ms/step
Epoch 43/75
176/176 - 9s - loss: 0.5219 - accuracy: 0.1980 - val_loss: 0.5309 - val_accuracy: 0.0657 - lr: 0.0010 - 9s/epoch - 51ms/step
Epoch 44/75
176/176 - 9s - loss: 0.5219 - accuracy: 0.1983 - val_loss: 0.5304 - val_accuracy: 0.0664 - lr: 0.0010 - 9s/epoch - 50ms/step
Epoch 45/75
176/176 - 9s - loss: 0.5219 - accuracy: 0.1999 - val_loss: 0.5308 - val_accuracy: 0.0081 - lr: 0.0010 - 9s/epoch - 50ms/step
Epoch 46/75
176/176 - 9s - loss: 0.5219 - accuracy: 0.1978 - val_loss: 0.5239 - val_accuracy: 0.0104 - lr: 0.0010 - 9s/epoch - 50ms/step
Epoch 47/75
176/176 - 9s - loss: 0.5219 - accuracy: 0.1984 - val_loss: 0.5233 - val_accuracy: 0.0763 - lr: 0.0010 - 9s/epoch - 50ms/step
Epoch 48/75
176/176 - 9s - loss: 0.5219 - accuracy: 0.1983 - val_loss: 0.5226 - val_accuracy: 0.0762 - lr: 0.0010 - 9s/epoch - 50ms/step
Epoch 49/75
176/176 - 9s - loss: 0.5219 - accuracy: 0.1988 - val_loss: 0.5212 - val_accuracy: 0.8222 - lr: 0.0010 - 9s/epoch - 50ms/step
Epoch 50/75
176/176 - 9s - loss: 0.5219 - accuracy: 0.1986 - val_loss: 0.5252 - val_accuracy: 0.0264 - lr: 0.0010 - 9s/epoch - 50ms/step
Epoch 51/75
176/176 - 9s - loss: 0.5219 - accuracy: 0.1986 - val_loss: 0.5288 - val_accuracy: 0.0079 - lr: 0.0010 - 9s/epoch - 50ms/step
Epoch 52/75
176/176 - 9s - loss: 0.5219 - accuracy: 0.1987 - val_loss: 0.5302 - val_accuracy: 0.0740 - lr: 0.0010 - 9s/epoch - 50ms/step
Epoch 53/75
176/176 - 9s - loss: 0.5219 - accuracy: 0.1999 - val_loss: 0.5314 - val_accuracy: 0.0735 - lr: 0.0010 - 9s/epoch - 50ms/step
Epoch 54/75
176/176 - 9s - loss: 0.5219 - accuracy: 0.1979 - val_loss: 0.5316 - val_accuracy: 0.0254 - lr: 0.0010 - 9s/epoch - 50ms/step
Epoch 55/75
176/176 - 9s - loss: 0.5219 - accuracy: 0.1981 - val_loss: 0.5312 - val_accuracy: 0.0659 - lr: 0.0010 - 9s/epoch - 50ms/step
Epoch 56/75
176/176 - 9s - loss: 0.5219 - accuracy: 0.1975 - val_loss: 0.5237 - val_accuracy: 0.0687 - lr: 0.0010 - 9s/epoch - 50ms/step
Epoch 57/75
176/176 - 9s - loss: 0.5219 - accuracy: 0.1983 - val_loss: 0.5234 - val_accuracy: 0.0281 - lr: 0.0010 - 9s/epoch - 50ms/step
Epoch 58/75
176/176 - 9s - loss: 0.5219 - accuracy: 0.1983 - val_loss: 0.5262 - val_accuracy: 0.8236 - lr: 0.0010 - 9s/epoch - 50ms/step
Epoch 59/75
176/176 - 9s - loss: 0.5219 - accuracy: 0.1979 - val_loss: 0.5263 - val_accuracy: 0.0253 - lr: 0.0010 - 9s/epoch - 51ms/step
Epoch 60/75
176/176 - 9s - loss: 0.5219 - accuracy: 0.2002 - val_loss: 0.5241 - val_accuracy: 0.0766 - lr: 0.0010 - 9s/epoch - 50ms/step
Epoch 61/75
176/176 - 9s - loss: 0.5219 - accuracy: 0.2004 - val_loss: 0.5312 - val_accuracy: 0.0786 - lr: 0.0010 - 9s/epoch - 50ms/step
Epoch 62/75
176/176 - 9s - loss: 0.5219 - accuracy: 0.2001 - val_loss: 0.5306 - val_accuracy: 0.0735 - lr: 0.0010 - 9s/epoch - 50ms/step
Epoch 63/75
176/176 - 9s - loss: 0.5219 - accuracy: 0.1993 - val_loss: 0.5304 - val_accuracy: 0.0258 - lr: 0.0010 - 9s/epoch - 50ms/step
Epoch 64/75
176/176 - 9s - loss: 0.5219 - accuracy: 0.1967 - val_loss: 0.5302 - val_accuracy: 0.0256 - lr: 0.0010 - 9s/epoch - 50ms/step
Epoch 65/75
176/176 - 9s - loss: 0.5219 - accuracy: 0.1995 - val_loss: 0.5288 - val_accuracy: 0.8236 - lr: 0.0010 - 9s/epoch - 50ms/step
Epoch 66/75
176/176 - 9s - loss: 0.5219 - accuracy: 0.1998 - val_loss: 0.5300 - val_accuracy: 0.8238 - lr: 0.0010 - 9s/epoch - 50ms/step
Epoch 67/75
176/176 - 9s - loss: 0.5219 - accuracy: 0.1981 - val_loss: 0.5305 - val_accuracy: 0.8238 - lr: 0.0010 - 9s/epoch - 50ms/step
Epoch 68/75
176/176 - 9s - loss: 0.5219 - accuracy: 0.2003 - val_loss: 0.5292 - val_accuracy: 0.8195 - lr: 0.0010 - 9s/epoch - 50ms/step
Epoch 69/75
176/176 - 9s - loss: 0.5219 - accuracy: 0.1991 - val_loss: 0.5232 - val_accuracy: 0.0685 - lr: 0.0010 - 9s/epoch - 50ms/step
Epoch 70/75
176/176 - 9s - loss: 0.5219 - accuracy: 0.1979 - val_loss: 0.5309 - val_accuracy: 0.0255 - lr: 0.0010 - 9s/epoch - 50ms/step
Epoch 71/75
176/176 - 9s - loss: 0.5219 - accuracy: 0.1996 - val_loss: 0.5313 - val_accuracy: 0.0261 - lr: 0.0010 - 9s/epoch - 51ms/step
Epoch 72/75
176/176 - 9s - loss: 0.5219 - accuracy: 0.2004 - val_loss: 0.5224 - val_accuracy: 0.0112 - lr: 0.0010 - 9s/epoch - 50ms/step
Epoch 73/75
176/176 - 9s - loss: 0.5219 - accuracy: 0.1995 - val_loss: 0.5312 - val_accuracy: 0.0740 - lr: 0.0010 - 9s/epoch - 50ms/step
Epoch 74/75
176/176 - 9s - loss: 0.5219 - accuracy: 0.1983 - val_loss: 0.5299 - val_accuracy: 0.0704 - lr: 0.0010 - 9s/epoch - 50ms/step
Epoch 75/75
176/176 - 9s - loss: 0.5219 - accuracy: 0.1979 - val_loss: 0.5304 - val_accuracy: 0.0736 - lr: 0.0010 - 9s/epoch - 50ms/step
fitting with batch size: 1500
Epoch 1/75
59/59 - 10s - loss: 0.5219 - accuracy: 0.2000 - val_loss: 0.5294 - val_accuracy: 0.0739 - lr: 0.0010 - 10s/epoch - 173ms/step
Epoch 2/75
59/59 - 8s - loss: 0.5219 - accuracy: 0.1992 - val_loss: 0.5288 - val_accuracy: 0.0739 - lr: 0.0010 - 8s/epoch - 131ms/step
Epoch 3/75
59/59 - 8s - loss: 0.5219 - accuracy: 0.1984 - val_loss: 0.5274 - val_accuracy: 0.0744 - lr: 0.0010 - 8s/epoch - 131ms/step
Epoch 4/75
59/59 - 8s - loss: 0.5219 - accuracy: 0.1990 - val_loss: 0.5280 - val_accuracy: 0.0740 - lr: 0.0010 - 8s/epoch - 131ms/step
Epoch 5/75
59/59 - 8s - loss: 0.5219 - accuracy: 0.1986 - val_loss: 0.5279 - val_accuracy: 0.0662 - lr: 0.0010 - 8s/epoch - 131ms/step
Epoch 6/75
59/59 - 8s - loss: 0.5219 - accuracy: 0.1979 - val_loss: 0.5276 - val_accuracy: 0.8193 - lr: 0.0010 - 8s/epoch - 131ms/step
Epoch 7/75
59/59 - 8s - loss: 0.5219 - accuracy: 0.1961 - val_loss: 0.5283 - val_accuracy: 0.8193 - lr: 0.0010 - 8s/epoch - 131ms/step
Epoch 8/75
59/59 - 8s - loss: 0.5219 - accuracy: 0.1985 - val_loss: 0.5285 - val_accuracy: 0.0660 - lr: 0.0010 - 8s/epoch - 131ms/step
Epoch 9/75
59/59 - 8s - loss: 0.5219 - accuracy: 0.1980 - val_loss: 0.5285 - val_accuracy: 0.0258 - lr: 0.0010 - 8s/epoch - 130ms/step
Epoch 10/75
59/59 - 8s - loss: 0.5219 - accuracy: 0.1989 - val_loss: 0.5284 - val_accuracy: 0.0079 - lr: 0.0010 - 8s/epoch - 130ms/step
Epoch 11/75
59/59 - 8s - loss: 0.5219 - accuracy: 0.2000 - val_loss: 0.5284 - val_accuracy: 0.0078 - lr: 0.0010 - 8s/epoch - 132ms/step
Epoch 12/75
59/59 - 8s - loss: 0.5219 - accuracy: 0.1961 - val_loss: 0.5284 - val_accuracy: 0.0658 - lr: 0.0010 - 8s/epoch - 130ms/step
Epoch 13/75
59/59 - 8s - loss: 0.5219 - accuracy: 0.1959 - val_loss: 0.5279 - val_accuracy: 0.8191 - lr: 0.0010 - 8s/epoch - 131ms/step
Epoch 14/75
59/59 - 8s - loss: 0.5219 - accuracy: 0.1987 - val_loss: 0.5276 - val_accuracy: 0.8191 - lr: 0.0010 - 8s/epoch - 131ms/step
Epoch 15/75
59/59 - 8s - loss: 0.5219 - accuracy: 0.1976 - val_loss: 0.5276 - val_accuracy: 0.8190 - lr: 0.0010 - 8s/epoch - 131ms/step
Epoch 16/75
59/59 - 8s - loss: 0.5219 - accuracy: 0.1983 - val_loss: 0.5273 - val_accuracy: 0.0077 - lr: 0.0010 - 8s/epoch - 130ms/step
Epoch 17/75
59/59 - 8s - loss: 0.5219 - accuracy: 0.1974 - val_loss: 0.5270 - val_accuracy: 0.0077 - lr: 0.0010 - 8s/epoch - 131ms/step
Epoch 18/75
59/59 - 8s - loss: 0.5219 - accuracy: 0.1992 - val_loss: 0.5266 - val_accuracy: 0.8238 - lr: 0.0010 - 8s/epoch - 130ms/step
Epoch 19/75
59/59 - 8s - loss: 0.5219 - accuracy: 0.1974 - val_loss: 0.5271 - val_accuracy: 0.0078 - lr: 0.0010 - 8s/epoch - 131ms/step
Epoch 20/75
59/59 - 8s - loss: 0.5219 - accuracy: 0.1973 - val_loss: 0.5259 - val_accuracy: 0.8241 - lr: 0.0010 - 8s/epoch - 131ms/step
Epoch 21/75
59/59 - 8s - loss: 0.5219 - accuracy: 0.1970 - val_loss: 0.5255 - val_accuracy: 0.0259 - lr: 0.0010 - 8s/epoch - 130ms/step
Epoch 22/75
59/59 - 8s - loss: 0.5219 - accuracy: 0.1969 - val_loss: 0.5248 - val_accuracy: 0.0080 - lr: 0.0010 - 8s/epoch - 131ms/step
Epoch 23/75
59/59 - 8s - loss: 0.5219 - accuracy: 0.1986 - val_loss: 0.5237 - val_accuracy: 0.0264 - lr: 0.0010 - 8s/epoch - 131ms/step
Epoch 24/75
59/59 - 8s - loss: 0.5219 - accuracy: 0.1983 - val_loss: 0.5233 - val_accuracy: 0.0085 - lr: 0.0010 - 8s/epoch - 131ms/step
Epoch 25/75
59/59 - 8s - loss: 0.5219 - accuracy: 0.1997 - val_loss: 0.5230 - val_accuracy: 0.0264 - lr: 0.0010 - 8s/epoch - 131ms/step
Epoch 26/75
59/59 - 8s - loss: 0.5219 - accuracy: 0.1993 - val_loss: 0.5223 - val_accuracy: 0.0745 - lr: 0.0010 - 8s/epoch - 131ms/step
Epoch 27/75
59/59 - 8s - loss: 0.5219 - accuracy: 0.1975 - val_loss: 0.5223 - val_accuracy: 0.0084 - lr: 0.0010 - 8s/epoch - 130ms/step
Epoch 28/75
59/59 - 8s - loss: 0.5219 - accuracy: 0.2000 - val_loss: 0.5226 - val_accuracy: 0.0082 - lr: 0.0010 - 8s/epoch - 131ms/step
Epoch 29/75
59/59 - 8s - loss: 0.5219 - accuracy: 0.1986 - val_loss: 0.5223 - val_accuracy: 0.0263 - lr: 0.0010 - 8s/epoch - 131ms/step
Epoch 30/75
59/59 - 8s - loss: 0.5219 - accuracy: 0.1967 - val_loss: 0.5222 - val_accuracy: 0.0663 - lr: 0.0010 - 8s/epoch - 130ms/step
Epoch 31/75
59/59 - 8s - loss: 0.5219 - accuracy: 0.1972 - val_loss: 0.5221 - val_accuracy: 0.0668 - lr: 0.0010 - 8s/epoch - 131ms/step
Epoch 32/75
59/59 - 8s - loss: 0.5219 - accuracy: 0.2000 - val_loss: 0.5218 - val_accuracy: 0.0695 - lr: 0.0010 - 8s/epoch - 130ms/step
Epoch 33/75
59/59 - 8s - loss: 0.5219 - accuracy: 0.1977 - val_loss: 0.5218 - val_accuracy: 0.0694 - lr: 0.0010 - 8s/epoch - 131ms/step
Epoch 34/75
59/59 - 8s - loss: 0.5219 - accuracy: 0.1975 - val_loss: 0.5217 - val_accuracy: 0.0291 - lr: 0.0010 - 8s/epoch - 131ms/step
Epoch 35/75
59/59 - 8s - loss: 0.5219 - accuracy: 0.1994 - val_loss: 0.5215 - val_accuracy: 0.8273 - lr: 0.0010 - 8s/epoch - 131ms/step
Epoch 36/75
59/59 - 8s - loss: 0.5219 - accuracy: 0.1988 - val_loss: 0.5222 - val_accuracy: 0.0110 - lr: 0.0010 - 8s/epoch - 131ms/step
Epoch 37/75
59/59 - 8s - loss: 0.5219 - accuracy: 0.1975 - val_loss: 0.5220 - val_accuracy: 0.0289 - lr: 0.0010 - 8s/epoch - 131ms/step
Epoch 38/75
59/59 - 8s - loss: 0.5219 - accuracy: 0.1991 - val_loss: 0.5218 - val_accuracy: 0.0290 - lr: 0.0010 - 8s/epoch - 131ms/step
Epoch 39/75
59/59 - 8s - loss: 0.5219 - accuracy: 0.1996 - val_loss: 0.5220 - val_accuracy: 0.0735 - lr: 0.0010 - 8s/epoch - 131ms/step
Epoch 40/75
59/59 - 8s - loss: 0.5219 - accuracy: 0.1969 - val_loss: 0.5216 - val_accuracy: 0.0286 - lr: 0.0010 - 8s/epoch - 131ms/step
Epoch 41/75
59/59 - 8s - loss: 0.5219 - accuracy: 0.1980 - val_loss: 0.5218 - val_accuracy: 0.0254 - lr: 0.0010 - 8s/epoch - 131ms/step
Epoch 42/75
59/59 - 8s - loss: 0.5219 - accuracy: 0.1987 - val_loss: 0.5233 - val_accuracy: 0.8241 - lr: 0.0010 - 8s/epoch - 131ms/step
Epoch 43/75
59/59 - 8s - loss: 0.5219 - accuracy: 0.1985 - val_loss: 0.5217 - val_accuracy: 0.0689 - lr: 0.0010 - 8s/epoch - 131ms/step
Epoch 44/75
59/59 - 8s - loss: 0.5219 - accuracy: 0.1974 - val_loss: 0.5220 - val_accuracy: 0.0677 - lr: 0.0010 - 8s/epoch - 130ms/step
Epoch 45/75
59/59 - 8s - loss: 0.5219 - accuracy: 0.2001 - val_loss: 0.5268 - val_accuracy: 0.0735 - lr: 0.0010 - 8s/epoch - 131ms/step
Epoch 46/75
59/59 - 8s - loss: 0.5219 - accuracy: 0.1999 - val_loss: 0.5229 - val_accuracy: 0.0284 - lr: 0.0010 - 8s/epoch - 130ms/step
Epoch 47/75
59/59 - 8s - loss: 0.5219 - accuracy: 0.1984 - val_loss: 0.5279 - val_accuracy: 0.8194 - lr: 0.0010 - 8s/epoch - 131ms/step
Epoch 48/75
59/59 - 8s - loss: 0.5219 - accuracy: 0.1979 - val_loss: 0.5295 - val_accuracy: 0.0735 - lr: 0.0010 - 8s/epoch - 131ms/step
Epoch 49/75
59/59 - 8s - loss: 0.5219 - accuracy: 0.2000 - val_loss: 0.5272 - val_accuracy: 0.0257 - lr: 0.0010 - 8s/epoch - 131ms/step
Epoch 50/75
59/59 - 8s - loss: 0.5219 - accuracy: 0.1974 - val_loss: 0.5217 - val_accuracy: 0.0285 - lr: 0.0010 - 8s/epoch - 131ms/step
Epoch 51/75
59/59 - 8s - loss: 0.5219 - accuracy: 0.1968 - val_loss: 0.5242 - val_accuracy: 0.0087 - lr: 0.0010 - 8s/epoch - 131ms/step
Epoch 52/75
59/59 - 8s - loss: 0.5219 - accuracy: 0.1996 - val_loss: 0.5248 - val_accuracy: 0.0657 - lr: 0.0010 - 8s/epoch - 131ms/step
Epoch 53/75
59/59 - 8s - loss: 0.5219 - accuracy: 0.1981 - val_loss: 0.5228 - val_accuracy: 0.0084 - lr: 0.0010 - 8s/epoch - 131ms/step
Epoch 54/75
59/59 - 8s - loss: 0.5219 - accuracy: 0.1984 - val_loss: 0.5245 - val_accuracy: 0.0257 - lr: 0.0010 - 8s/epoch - 130ms/step
Epoch 55/75
59/59 - 8s - loss: 0.5219 - accuracy: 0.1977 - val_loss: 0.5249 - val_accuracy: 0.0661 - lr: 0.0010 - 8s/epoch - 131ms/step
Epoch 56/75
59/59 - 8s - loss: 0.5219 - accuracy: 0.1985 - val_loss: 0.5250 - val_accuracy: 0.0262 - lr: 0.0010 - 8s/epoch - 131ms/step
Epoch 57/75
59/59 - 8s - loss: 0.5219 - accuracy: 0.1980 - val_loss: 0.5275 - val_accuracy: 0.0739 - lr: 0.0010 - 8s/epoch - 131ms/step
Epoch 58/75
59/59 - 8s - loss: 0.5219 - accuracy: 0.1988 - val_loss: 0.5288 - val_accuracy: 0.0787 - lr: 0.0010 - 8s/epoch - 131ms/step
Epoch 59/75
59/59 - 8s - loss: 0.5219 - accuracy: 0.1983 - val_loss: 0.5293 - val_accuracy: 0.0787 - lr: 0.0010 - 8s/epoch - 131ms/step
Epoch 60/75
59/59 - 8s - loss: 0.5219 - accuracy: 0.1979 - val_loss: 0.5245 - val_accuracy: 0.0664 - lr: 0.0010 - 8s/epoch - 131ms/step
Epoch 61/75
59/59 - 8s - loss: 0.5219 - accuracy: 0.1978 - val_loss: 0.5268 - val_accuracy: 0.0737 - lr: 0.0010 - 8s/epoch - 131ms/step
Epoch 62/75
59/59 - 8s - loss: 0.5219 - accuracy: 0.2018 - val_loss: 0.5308 - val_accuracy: 0.8187 - lr: 0.0010 - 8s/epoch - 131ms/step
Epoch 63/75
59/59 - 8s - loss: 0.5219 - accuracy: 0.1993 - val_loss: 0.5317 - val_accuracy: 0.0659 - lr: 0.0010 - 8s/epoch - 131ms/step
Epoch 64/75
59/59 - 8s - loss: 0.5219 - accuracy: 0.2004 - val_loss: 0.5320 - val_accuracy: 0.0079 - lr: 0.0010 - 8s/epoch - 131ms/step
Epoch 65/75
59/59 - 8s - loss: 0.5219 - accuracy: 0.1996 - val_loss: 0.5305 - val_accuracy: 0.0661 - lr: 0.0010 - 8s/epoch - 131ms/step
Epoch 66/75
59/59 - 8s - loss: 0.5219 - accuracy: 0.1993 - val_loss: 0.5223 - val_accuracy: 0.8218 - lr: 0.0010 - 8s/epoch - 131ms/step
Epoch 67/75
59/59 - 8s - loss: 0.5219 - accuracy: 0.1987 - val_loss: 0.5243 - val_accuracy: 0.0100 - lr: 0.0010 - 8s/epoch - 130ms/step
Epoch 68/75
59/59 - 8s - loss: 0.5219 - accuracy: 0.1973 - val_loss: 0.5235 - val_accuracy: 0.0100 - lr: 0.0010 - 8s/epoch - 131ms/step
Epoch 69/75
59/59 - 8s - loss: 0.5219 - accuracy: 0.1991 - val_loss: 0.5229 - val_accuracy: 0.0680 - lr: 0.0010 - 8s/epoch - 131ms/step
Epoch 70/75
59/59 - 8s - loss: 0.5219 - accuracy: 0.1980 - val_loss: 0.5244 - val_accuracy: 0.0737 - lr: 0.0010 - 8s/epoch - 131ms/step
Epoch 71/75
59/59 - 8s - loss: 0.5219 - accuracy: 0.1974 - val_loss: 0.5233 - val_accuracy: 0.0656 - lr: 0.0010 - 8s/epoch - 131ms/step
Epoch 72/75
59/59 - 8s - loss: 0.5219 - accuracy: 0.1989 - val_loss: 0.5254 - val_accuracy: 0.0735 - lr: 0.0010 - 8s/epoch - 130ms/step
Epoch 73/75
59/59 - 8s - loss: 0.5219 - accuracy: 0.1971 - val_loss: 0.5221 - val_accuracy: 0.0279 - lr: 0.0010 - 8s/epoch - 131ms/step
Epoch 74/75
59/59 - 8s - loss: 0.5219 - accuracy: 0.1969 - val_loss: 0.5289 - val_accuracy: 0.0079 - lr: 0.0010 - 8s/epoch - 131ms/step
Epoch 75/75
59/59 - 8s - loss: 0.5219 - accuracy: 0.1985 - val_loss: 0.5272 - val_accuracy: 0.0076 - lr: 0.0010 - 8s/epoch - 131ms/step
fitting with batch size: 2500
Epoch 1/75
36/36 - 12s - loss: 0.5219 - accuracy: 0.2000 - val_loss: 0.5268 - val_accuracy: 0.0076 - lr: 0.0010 - 12s/epoch - 336ms/step
Epoch 2/75
36/36 - 7s - loss: 0.5219 - accuracy: 0.1982 - val_loss: 0.5226 - val_accuracy: 0.8237 - lr: 0.0010 - 7s/epoch - 208ms/step
Epoch 3/75
36/36 - 7s - loss: 0.5219 - accuracy: 0.2000 - val_loss: 0.5198 - val_accuracy: 0.8268 - lr: 0.0010 - 7s/epoch - 208ms/step
Epoch 4/75
36/36 - 8s - loss: 0.5219 - accuracy: 0.2000 - val_loss: 0.5201 - val_accuracy: 0.8269 - lr: 0.0010 - 8s/epoch - 208ms/step
Epoch 5/75
36/36 - 8s - loss: 0.5219 - accuracy: 0.2000 - val_loss: 0.5248 - val_accuracy: 0.8194 - lr: 0.0010 - 8s/epoch - 208ms/step
Epoch 6/75
36/36 - 7s - loss: 0.5219 - accuracy: 0.1976 - val_loss: 0.5230 - val_accuracy: 0.8200 - lr: 0.0010 - 7s/epoch - 208ms/step
Epoch 7/75
36/36 - 8s - loss: 0.5219 - accuracy: 0.2000 - val_loss: 0.5209 - val_accuracy: 0.8224 - lr: 0.0010 - 8s/epoch - 209ms/step
Epoch 8/75
36/36 - 7s - loss: 0.5219 - accuracy: 0.2008 - val_loss: 0.5288 - val_accuracy: 0.0078 - lr: 0.0010 - 7s/epoch - 208ms/step
Epoch 9/75
36/36 - 8s - loss: 0.5219 - accuracy: 0.1986 - val_loss: 0.5305 - val_accuracy: 0.0660 - lr: 0.0010 - 8s/epoch - 208ms/step
Epoch 10/75
36/36 - 8s - loss: 0.5219 - accuracy: 0.2002 - val_loss: 0.5315 - val_accuracy: 0.0074 - lr: 0.0010 - 8s/epoch - 209ms/step
Epoch 11/75
36/36 - 8s - loss: 0.5219 - accuracy: 0.1989 - val_loss: 0.5314 - val_accuracy: 0.0074 - lr: 0.0010 - 8s/epoch - 208ms/step
Epoch 12/75
36/36 - 7s - loss: 0.5219 - accuracy: 0.1986 - val_loss: 0.5314 - val_accuracy: 0.0256 - lr: 0.0010 - 7s/epoch - 208ms/step
Epoch 13/75
36/36 - 8s - loss: 0.5219 - accuracy: 0.1995 - val_loss: 0.5311 - val_accuracy: 0.0256 - lr: 0.0010 - 8s/epoch - 209ms/step
Epoch 14/75
36/36 - 7s - loss: 0.5219 - accuracy: 0.2009 - val_loss: 0.5300 - val_accuracy: 0.0079 - lr: 0.0010 - 7s/epoch - 208ms/step
Epoch 15/75
36/36 - 8s - loss: 0.5219 - accuracy: 0.2000 - val_loss: 0.5297 - val_accuracy: 0.0079 - lr: 0.0010 - 8s/epoch - 208ms/step
Epoch 16/75
36/36 - 8s - loss: 0.5219 - accuracy: 0.2004 - val_loss: 0.5233 - val_accuracy: 0.0742 - lr: 0.0010 - 8s/epoch - 209ms/step
Epoch 17/75
36/36 - 7s - loss: 0.5219 - accuracy: 0.2002 - val_loss: 0.5282 - val_accuracy: 0.0259 - lr: 0.0010 - 7s/epoch - 208ms/step
Epoch 18/75
36/36 - 7s - loss: 0.5219 - accuracy: 0.1988 - val_loss: 0.5296 - val_accuracy: 0.0259 - lr: 0.0010 - 7s/epoch - 208ms/step
Epoch 19/75
36/36 - 8s - loss: 0.5219 - accuracy: 0.1996 - val_loss: 0.5287 - val_accuracy: 0.0661 - lr: 0.0010 - 8s/epoch - 208ms/step
Epoch 20/75
36/36 - 8s - loss: 0.5219 - accuracy: 0.1988 - val_loss: 0.5288 - val_accuracy: 0.0738 - lr: 0.0010 - 8s/epoch - 208ms/step
Epoch 21/75
36/36 - 7s - loss: 0.5219 - accuracy: 0.2000 - val_loss: 0.5270 - val_accuracy: 0.8190 - lr: 0.0010 - 7s/epoch - 208ms/step
Epoch 22/75
36/36 - 7s - loss: 0.5219 - accuracy: 0.2000 - val_loss: 0.5257 - val_accuracy: 0.8191 - lr: 0.0010 - 7s/epoch - 208ms/step
Epoch 23/75
36/36 - 7s - loss: 0.5219 - accuracy: 0.2000 - val_loss: 0.5282 - val_accuracy: 0.8238 - lr: 0.0010 - 7s/epoch - 208ms/step
Epoch 24/75
36/36 - 7s - loss: 0.5219 - accuracy: 0.1995 - val_loss: 0.5299 - val_accuracy: 0.0708 - lr: 0.0010 - 7s/epoch - 208ms/step
Epoch 25/75
36/36 - 8s - loss: 0.5219 - accuracy: 0.2001 - val_loss: 0.5219 - val_accuracy: 0.8225 - lr: 0.0010 - 8s/epoch - 209ms/step
Epoch 26/75
36/36 - 7s - loss: 0.5219 - accuracy: 0.1981 - val_loss: 0.5214 - val_accuracy: 0.8224 - lr: 0.0010 - 7s/epoch - 208ms/step
Epoch 27/75
36/36 - 7s - loss: 0.5219 - accuracy: 0.2000 - val_loss: 0.5310 - val_accuracy: 0.8236 - lr: 0.0010 - 7s/epoch - 208ms/step
Epoch 28/75
36/36 - 8s - loss: 0.5219 - accuracy: 0.1998 - val_loss: 0.5327 - val_accuracy: 0.0787 - lr: 0.0010 - 8s/epoch - 209ms/step
Epoch 29/75
36/36 - 8s - loss: 0.5219 - accuracy: 0.2017 - val_loss: 0.5310 - val_accuracy: 0.8238 - lr: 0.0010 - 8s/epoch - 209ms/step
Epoch 30/75
36/36 - 7s - loss: 0.5219 - accuracy: 0.2000 - val_loss: 0.5310 - val_accuracy: 0.8236 - lr: 0.0010 - 7s/epoch - 208ms/step
Epoch 31/75
36/36 - 8s - loss: 0.5219 - accuracy: 0.1987 - val_loss: 0.5315 - val_accuracy: 0.0304 - lr: 0.0010 - 8s/epoch - 209ms/step
Epoch 32/75
36/36 - 7s - loss: 0.5219 - accuracy: 0.2000 - val_loss: 0.5321 - val_accuracy: 0.0304 - lr: 0.0010 - 7s/epoch - 208ms/step
Epoch 33/75
36/36 - 7s - loss: 0.5219 - accuracy: 0.1995 - val_loss: 0.5314 - val_accuracy: 0.0786 - lr: 0.0010 - 7s/epoch - 208ms/step
Epoch 34/75
36/36 - 7s - loss: 0.5219 - accuracy: 0.1984 - val_loss: 0.5319 - val_accuracy: 0.8237 - lr: 0.0010 - 7s/epoch - 208ms/step
Epoch 35/75
36/36 - 8s - loss: 0.5219 - accuracy: 0.2000 - val_loss: 0.5313 - val_accuracy: 0.8237 - lr: 0.0010 - 8s/epoch - 208ms/step
Epoch 36/75
36/36 - 7s - loss: 0.5219 - accuracy: 0.2002 - val_loss: 0.5323 - val_accuracy: 0.0076 - lr: 0.0010 - 7s/epoch - 208ms/step
Epoch 37/75
36/36 - 8s - loss: 0.5219 - accuracy: 0.1996 - val_loss: 0.5322 - val_accuracy: 0.0656 - lr: 0.0010 - 8s/epoch - 210ms/step
Epoch 38/75
36/36 - 7s - loss: 0.5219 - accuracy: 0.2000 - val_loss: 0.5320 - val_accuracy: 0.0655 - lr: 0.0010 - 7s/epoch - 208ms/step
Epoch 39/75
36/36 - 7s - loss: 0.5219 - accuracy: 0.1992 - val_loss: 0.5325 - val_accuracy: 0.0735 - lr: 0.0010 - 7s/epoch - 208ms/step
Epoch 40/75
36/36 - 7s - loss: 0.5219 - accuracy: 0.2000 - val_loss: 0.5323 - val_accuracy: 0.0254 - lr: 0.0010 - 7s/epoch - 208ms/step
Epoch 41/75
36/36 - 7s - loss: 0.5219 - accuracy: 0.1996 - val_loss: 0.5315 - val_accuracy: 0.0254 - lr: 0.0010 - 7s/epoch - 208ms/step
Epoch 42/75
36/36 - 8s - loss: 0.5219 - accuracy: 0.2000 - val_loss: 0.5306 - val_accuracy: 0.0254 - lr: 0.0010 - 8s/epoch - 208ms/step
Epoch 43/75
36/36 - 7s - loss: 0.5219 - accuracy: 0.1975 - val_loss: 0.5298 - val_accuracy: 0.0735 - lr: 0.0010 - 7s/epoch - 208ms/step
Epoch 44/75
36/36 - 7s - loss: 0.5219 - accuracy: 0.2000 - val_loss: 0.5275 - val_accuracy: 0.0736 - lr: 0.0010 - 7s/epoch - 208ms/step
Epoch 45/75
36/36 - 8s - loss: 0.5219 - accuracy: 0.1978 - val_loss: 0.5293 - val_accuracy: 0.0076 - lr: 0.0010 - 8s/epoch - 209ms/step
Epoch 46/75
36/36 - 7s - loss: 0.5219 - accuracy: 0.1979 - val_loss: 0.5311 - val_accuracy: 0.0075 - lr: 0.0010 - 7s/epoch - 208ms/step
Epoch 47/75
36/36 - 8s - loss: 0.5219 - accuracy: 0.2000 - val_loss: 0.5319 - val_accuracy: 0.0074 - lr: 0.0010 - 8s/epoch - 209ms/step
Epoch 48/75
36/36 - 8s - loss: 0.5219 - accuracy: 0.2000 - val_loss: 0.5305 - val_accuracy: 0.0078 - lr: 0.0010 - 8s/epoch - 209ms/step
Epoch 49/75
36/36 - 8s - loss: 0.5219 - accuracy: 0.1993 - val_loss: 0.5290 - val_accuracy: 0.0737 - lr: 0.0010 - 8s/epoch - 208ms/step
Epoch 50/75
36/36 - 7s - loss: 0.5219 - accuracy: 0.2000 - val_loss: 0.5231 - val_accuracy: 0.0108 - lr: 0.0010 - 7s/epoch - 208ms/step
Epoch 51/75
36/36 - 8s - loss: 0.5219 - accuracy: 0.1983 - val_loss: 0.5233 - val_accuracy: 0.0762 - lr: 0.0010 - 8s/epoch - 210ms/step
Epoch 52/75
36/36 - 7s - loss: 0.5219 - accuracy: 0.1975 - val_loss: 0.5233 - val_accuracy: 0.0281 - lr: 0.0010 - 7s/epoch - 208ms/step
Epoch 53/75
36/36 - 7s - loss: 0.5219 - accuracy: 0.1990 - val_loss: 0.5256 - val_accuracy: 0.0081 - lr: 0.0010 - 7s/epoch - 208ms/step
Epoch 54/75
36/36 - 8s - loss: 0.5219 - accuracy: 0.2000 - val_loss: 0.5262 - val_accuracy: 0.0078 - lr: 0.0010 - 8s/epoch - 209ms/step
Epoch 55/75
36/36 - 7s - loss: 0.5219 - accuracy: 0.2008 - val_loss: 0.5217 - val_accuracy: 0.0687 - lr: 0.0010 - 7s/epoch - 208ms/step
Epoch 56/75
36/36 - 7s - loss: 0.5219 - accuracy: 0.1999 - val_loss: 0.5213 - val_accuracy: 0.0111 - lr: 0.0010 - 7s/epoch - 208ms/step
Epoch 57/75
36/36 - 8s - loss: 0.5219 - accuracy: 0.2003 - val_loss: 0.5209 - val_accuracy: 0.8226 - lr: 0.0010 - 8s/epoch - 209ms/step
Epoch 58/75
36/36 - 7s - loss: 0.5219 - accuracy: 0.1993 - val_loss: 0.5216 - val_accuracy: 0.0113 - lr: 0.0010 - 7s/epoch - 208ms/step
Epoch 59/75
36/36 - 7s - loss: 0.5219 - accuracy: 0.2000 - val_loss: 0.5222 - val_accuracy: 0.0285 - lr: 0.0010 - 7s/epoch - 208ms/step
Epoch 60/75
36/36 - 8s - loss: 0.5219 - accuracy: 0.2000 - val_loss: 0.5223 - val_accuracy: 0.0284 - lr: 0.0010 - 8s/epoch - 209ms/step
Epoch 61/75
36/36 - 7s - loss: 0.5219 - accuracy: 0.1989 - val_loss: 0.5242 - val_accuracy: 0.0666 - lr: 0.0010 - 7s/epoch - 208ms/step
Epoch 62/75
36/36 - 7s - loss: 0.5219 - accuracy: 0.1978 - val_loss: 0.5216 - val_accuracy: 0.0772 - lr: 0.0010 - 7s/epoch - 208ms/step
Epoch 63/75
36/36 - 8s - loss: 0.5219 - accuracy: 0.1993 - val_loss: 0.5210 - val_accuracy: 0.0772 - lr: 0.0010 - 8s/epoch - 209ms/step
Epoch 64/75
36/36 - 8s - loss: 0.5219 - accuracy: 0.1991 - val_loss: 0.5264 - val_accuracy: 0.0661 - lr: 0.0010 - 8s/epoch - 208ms/step
Epoch 65/75
36/36 - 7s - loss: 0.5219 - accuracy: 0.2007 - val_loss: 0.5261 - val_accuracy: 0.0740 - lr: 0.0010 - 7s/epoch - 208ms/step
Epoch 66/75
36/36 - 8s - loss: 0.5219 - accuracy: 0.1987 - val_loss: 0.5288 - val_accuracy: 0.0738 - lr: 0.0010 - 8s/epoch - 209ms/step
Epoch 67/75
36/36 - 8s - loss: 0.5219 - accuracy: 0.2002 - val_loss: 0.5220 - val_accuracy: 0.0689 - lr: 0.0010 - 8s/epoch - 209ms/step
Epoch 68/75
36/36 - 7s - loss: 0.5219 - accuracy: 0.1974 - val_loss: 0.5218 - val_accuracy: 0.0767 - lr: 0.0010 - 7s/epoch - 208ms/step
Epoch 69/75
36/36 - 8s - loss: 0.5219 - accuracy: 0.2000 - val_loss: 0.5218 - val_accuracy: 0.0771 - lr: 0.0010 - 8s/epoch - 209ms/step
Epoch 70/75
36/36 - 7s - loss: 0.5219 - accuracy: 0.2000 - val_loss: 0.5214 - val_accuracy: 0.0766 - lr: 0.0010 - 7s/epoch - 208ms/step
Epoch 71/75
36/36 - 8s - loss: 0.5219 - accuracy: 0.2003 - val_loss: 0.5206 - val_accuracy: 0.8225 - lr: 0.0010 - 8s/epoch - 209ms/step
Epoch 72/75
36/36 - 8s - loss: 0.5219 - accuracy: 0.2000 - val_loss: 0.5206 - val_accuracy: 0.8224 - lr: 0.0010 - 8s/epoch - 209ms/step
Epoch 73/75
36/36 - 7s - loss: 0.5219 - accuracy: 0.2000 - val_loss: 0.5269 - val_accuracy: 0.8239 - lr: 0.0010 - 7s/epoch - 208ms/step
Epoch 74/75
36/36 - 7s - loss: 0.5219 - accuracy: 0.1989 - val_loss: 0.5291 - val_accuracy: 0.0667 - lr: 0.0010 - 7s/epoch - 208ms/step
Epoch 75/75
36/36 - 8s - loss: 0.5219 - accuracy: 0.1978 - val_loss: 0.5291 - val_accuracy: 0.0079 - lr: 0.0010 - 8s/epoch - 210ms/step
Epoch number: 100
fitting with batch size: 20
Epoch 1/100
4378/4378 - 75s - loss: 0.5219 - accuracy: 0.1998 - val_loss: 0.5318 - val_accuracy: 0.0256 - lr: 0.0010 - 75s/epoch - 17ms/step
Epoch 2/100
4378/4378 - 73s - loss: 0.5219 - accuracy: 0.2007 - val_loss: 0.5313 - val_accuracy: 0.0255 - lr: 0.0010 - 73s/epoch - 17ms/step
Epoch 3/100
4378/4378 - 74s - loss: 0.5219 - accuracy: 0.2010 - val_loss: 0.5295 - val_accuracy: 0.8193 - lr: 0.0010 - 74s/epoch - 17ms/step
Epoch 4/100
4378/4378 - 74s - loss: 0.5219 - accuracy: 0.1992 - val_loss: 0.5306 - val_accuracy: 0.0260 - lr: 0.0010 - 74s/epoch - 17ms/step
Epoch 5/100
4378/4378 - 73s - loss: 0.5219 - accuracy: 0.2001 - val_loss: 0.5198 - val_accuracy: 0.8196 - lr: 0.0010 - 73s/epoch - 17ms/step
Epoch 6/100
4378/4378 - 73s - loss: 0.5219 - accuracy: 0.1995 - val_loss: 0.5234 - val_accuracy: 0.0104 - lr: 0.0010 - 73s/epoch - 17ms/step
Epoch 7/100
4378/4378 - 73s - loss: 0.5219 - accuracy: 0.1993 - val_loss: 0.5345 - val_accuracy: 0.0327 - lr: 0.0010 - 73s/epoch - 17ms/step
Epoch 8/100
4378/4378 - 73s - loss: 0.5219 - accuracy: 0.1980 - val_loss: 0.5258 - val_accuracy: 0.0692 - lr: 0.0010 - 73s/epoch - 17ms/step
Epoch 9/100
4378/4378 - 73s - loss: 0.5219 - accuracy: 0.1984 - val_loss: 0.5202 - val_accuracy: 0.8266 - lr: 0.0010 - 73s/epoch - 17ms/step
Epoch 10/100
4378/4378 - 73s - loss: 0.5219 - accuracy: 0.1992 - val_loss: 0.5321 - val_accuracy: 0.0662 - lr: 0.0010 - 73s/epoch - 17ms/step
Epoch 11/100
4378/4378 - 73s - loss: 0.5219 - accuracy: 0.1981 - val_loss: 0.5274 - val_accuracy: 0.0079 - lr: 0.0010 - 73s/epoch - 17ms/step
Epoch 12/100
4378/4378 - 73s - loss: 0.5219 - accuracy: 0.2006 - val_loss: 0.5308 - val_accuracy: 0.8188 - lr: 0.0010 - 73s/epoch - 17ms/step
Epoch 13/100
4378/4378 - 73s - loss: 0.5219 - accuracy: 0.1992 - val_loss: 0.5297 - val_accuracy: 0.0259 - lr: 0.0010 - 73s/epoch - 17ms/step
Epoch 14/100
4378/4378 - 73s - loss: 0.5219 - accuracy: 0.1973 - val_loss: 0.5238 - val_accuracy: 0.0285 - lr: 0.0010 - 73s/epoch - 17ms/step
Epoch 15/100
4378/4378 - 73s - loss: 0.5219 - accuracy: 0.2006 - val_loss: 0.5210 - val_accuracy: 0.8219 - lr: 0.0010 - 73s/epoch - 17ms/step
Epoch 16/100
4378/4378 - 73s - loss: 0.5219 - accuracy: 0.1996 - val_loss: 0.5247 - val_accuracy: 0.0684 - lr: 0.0010 - 73s/epoch - 17ms/step
Epoch 17/100
4378/4378 - 73s - loss: 0.5219 - accuracy: 0.1997 - val_loss: 0.5335 - val_accuracy: 0.0662 - lr: 0.0010 - 73s/epoch - 17ms/step
Epoch 18/100
4378/4378 - 73s - loss: 0.5219 - accuracy: 0.2017 - val_loss: 0.5303 - val_accuracy: 0.0077 - lr: 0.0010 - 73s/epoch - 17ms/step
Epoch 19/100
4378/4378 - 73s - loss: 0.5219 - accuracy: 0.2001 - val_loss: 0.5238 - val_accuracy: 0.0687 - lr: 0.0010 - 73s/epoch - 17ms/step
Epoch 20/100
4378/4378 - 73s - loss: 0.5219 - accuracy: 0.1995 - val_loss: 0.5325 - val_accuracy: 0.0302 - lr: 0.0010 - 73s/epoch - 17ms/step
Epoch 21/100
4378/4378 - 73s - loss: 0.5219 - accuracy: 0.1993 - val_loss: 0.5314 - val_accuracy: 0.0661 - lr: 0.0010 - 73s/epoch - 17ms/step
Epoch 22/100
4378/4378 - 73s - loss: 0.5219 - accuracy: 0.1986 - val_loss: 0.5316 - val_accuracy: 0.0785 - lr: 0.0010 - 73s/epoch - 17ms/step
Epoch 23/100
4378/4378 - 73s - loss: 0.5219 - accuracy: 0.1999 - val_loss: 0.5286 - val_accuracy: 0.8238 - lr: 0.0010 - 73s/epoch - 17ms/step
Epoch 24/100
4378/4378 - 73s - loss: 0.5219 - accuracy: 0.2003 - val_loss: 0.5329 - val_accuracy: 0.0788 - lr: 0.0010 - 73s/epoch - 17ms/step
Epoch 25/100
4378/4378 - 73s - loss: 0.5219 - accuracy: 0.1983 - val_loss: 0.5254 - val_accuracy: 0.0764 - lr: 0.0010 - 73s/epoch - 17ms/step
Epoch 26/100
4378/4378 - 73s - loss: 0.5219 - accuracy: 0.1986 - val_loss: 0.5317 - val_accuracy: 0.0075 - lr: 0.0010 - 73s/epoch - 17ms/step
Epoch 27/100
4378/4378 - 73s - loss: 0.5219 - accuracy: 0.2022 - val_loss: 0.5137 - val_accuracy: 0.8220 - lr: 0.0010 - 73s/epoch - 17ms/step
Epoch 28/100
4378/4378 - 73s - loss: 0.5219 - accuracy: 0.1984 - val_loss: 0.5220 - val_accuracy: 0.8218 - lr: 0.0010 - 73s/epoch - 17ms/step
Epoch 29/100
4378/4378 - 73s - loss: 0.5219 - accuracy: 0.2004 - val_loss: 0.5354 - val_accuracy: 0.0254 - lr: 0.0010 - 73s/epoch - 17ms/step
Epoch 30/100
4378/4378 - 73s - loss: 0.5219 - accuracy: 0.1976 - val_loss: 0.5338 - val_accuracy: 0.0254 - lr: 0.0010 - 73s/epoch - 17ms/step
Epoch 31/100
4378/4378 - 73s - loss: 0.5219 - accuracy: 0.2006 - val_loss: 0.5296 - val_accuracy: 0.0255 - lr: 0.0010 - 73s/epoch - 17ms/step
Epoch 32/100
4378/4378 - 73s - loss: 0.5219 - accuracy: 0.1999 - val_loss: 0.5330 - val_accuracy: 0.0081 - lr: 0.0010 - 73s/epoch - 17ms/step
Epoch 33/100
4378/4378 - 73s - loss: 0.5219 - accuracy: 0.1982 - val_loss: 0.5234 - val_accuracy: 0.8210 - lr: 0.0010 - 73s/epoch - 17ms/step
Epoch 34/100
4378/4378 - 73s - loss: 0.5219 - accuracy: 0.1990 - val_loss: 0.5215 - val_accuracy: 0.0291 - lr: 0.0010 - 73s/epoch - 17ms/step
Epoch 35/100
4378/4378 - 73s - loss: 0.5219 - accuracy: 0.2003 - val_loss: 0.5324 - val_accuracy: 0.0738 - lr: 0.0010 - 73s/epoch - 17ms/step
Epoch 36/100
4378/4378 - 73s - loss: 0.5219 - accuracy: 0.1983 - val_loss: 0.5316 - val_accuracy: 0.0705 - lr: 0.0010 - 73s/epoch - 17ms/step
Epoch 37/100
4378/4378 - 73s - loss: 0.5219 - accuracy: 0.1993 - val_loss: 0.5271 - val_accuracy: 0.8237 - lr: 0.0010 - 73s/epoch - 17ms/step
Epoch 38/100
4378/4378 - 73s - loss: 0.5219 - accuracy: 0.1985 - val_loss: 0.5338 - val_accuracy: 0.0254 - lr: 0.0010 - 73s/epoch - 17ms/step
Epoch 39/100
4378/4378 - 73s - loss: 0.5219 - accuracy: 0.1993 - val_loss: 0.5315 - val_accuracy: 0.0660 - lr: 0.0010 - 73s/epoch - 17ms/step
Epoch 40/100
4378/4378 - 73s - loss: 0.5219 - accuracy: 0.1997 - val_loss: 0.5327 - val_accuracy: 0.0735 - lr: 0.0010 - 73s/epoch - 17ms/step
Epoch 41/100
4378/4378 - 74s - loss: 0.5219 - accuracy: 0.1974 - val_loss: 0.5276 - val_accuracy: 0.0660 - lr: 0.0010 - 74s/epoch - 17ms/step
Epoch 42/100
4378/4378 - 73s - loss: 0.5219 - accuracy: 0.1987 - val_loss: 0.5295 - val_accuracy: 0.0254 - lr: 0.0010 - 73s/epoch - 17ms/step
Epoch 43/100
4378/4378 - 73s - loss: 0.5219 - accuracy: 0.1998 - val_loss: 0.5260 - val_accuracy: 0.0286 - lr: 0.0010 - 73s/epoch - 17ms/step
Epoch 44/100
4378/4378 - 73s - loss: 0.5219 - accuracy: 0.2018 - val_loss: 0.5247 - val_accuracy: 0.0148 - lr: 0.0010 - 73s/epoch - 17ms/step
Epoch 45/100
4378/4378 - 73s - loss: 0.5219 - accuracy: 0.1988 - val_loss: 0.5310 - val_accuracy: 0.0705 - lr: 0.0010 - 73s/epoch - 17ms/step
Epoch 46/100
4378/4378 - 73s - loss: 0.5219 - accuracy: 0.1989 - val_loss: 0.5290 - val_accuracy: 0.8237 - lr: 0.0010 - 73s/epoch - 17ms/step
Epoch 47/100
4378/4378 - 73s - loss: 0.5219 - accuracy: 0.2009 - val_loss: 0.5336 - val_accuracy: 0.0740 - lr: 0.0010 - 73s/epoch - 17ms/step
Epoch 48/100
4378/4378 - 73s - loss: 0.5219 - accuracy: 0.1992 - val_loss: 0.5267 - val_accuracy: 0.8194 - lr: 0.0010 - 73s/epoch - 17ms/step
Epoch 49/100
4378/4378 - 73s - loss: 0.5219 - accuracy: 0.1987 - val_loss: 0.5289 - val_accuracy: 0.8194 - lr: 0.0010 - 73s/epoch - 17ms/step
Epoch 50/100
4378/4378 - 73s - loss: 0.5219 - accuracy: 0.1994 - val_loss: 0.5293 - val_accuracy: 0.0304 - lr: 0.0010 - 73s/epoch - 17ms/step
Epoch 51/100
4378/4378 - 73s - loss: 0.5219 - accuracy: 0.2019 - val_loss: 0.5320 - val_accuracy: 0.0659 - lr: 0.0010 - 73s/epoch - 17ms/step
Epoch 52/100
4378/4378 - 73s - loss: 0.5219 - accuracy: 0.1987 - val_loss: 0.5217 - val_accuracy: 0.8251 - lr: 0.0010 - 73s/epoch - 17ms/step
Epoch 53/100
4378/4378 - 74s - loss: 0.5219 - accuracy: 0.1983 - val_loss: 0.5300 - val_accuracy: 0.0796 - lr: 0.0010 - 74s/epoch - 17ms/step
Epoch 54/100
4378/4378 - 73s - loss: 0.5219 - accuracy: 0.1993 - val_loss: 0.5292 - val_accuracy: 0.0097 - lr: 0.0010 - 73s/epoch - 17ms/step
Epoch 55/100
4378/4378 - 73s - loss: 0.5219 - accuracy: 0.2004 - val_loss: 0.5302 - val_accuracy: 0.0660 - lr: 0.0010 - 73s/epoch - 17ms/step
Epoch 56/100
4378/4378 - 73s - loss: 0.5219 - accuracy: 0.2019 - val_loss: 0.5264 - val_accuracy: 0.8243 - lr: 0.0010 - 73s/epoch - 17ms/step
Epoch 57/100
4378/4378 - 73s - loss: 0.5219 - accuracy: 0.1992 - val_loss: 0.5332 - val_accuracy: 0.0077 - lr: 0.0010 - 73s/epoch - 17ms/step
Epoch 58/100
4378/4378 - 73s - loss: 0.5219 - accuracy: 0.1992 - val_loss: 0.5317 - val_accuracy: 0.0660 - lr: 0.0010 - 73s/epoch - 17ms/step
Epoch 59/100
4378/4378 - 73s - loss: 0.5219 - accuracy: 0.1988 - val_loss: 0.5312 - val_accuracy: 0.0076 - lr: 0.0010 - 73s/epoch - 17ms/step
Epoch 60/100
4378/4378 - 73s - loss: 0.5219 - accuracy: 0.1996 - val_loss: 0.5232 - val_accuracy: 0.0761 - lr: 0.0010 - 73s/epoch - 17ms/step
Epoch 61/100
4378/4378 - 73s - loss: 0.5219 - accuracy: 0.1979 - val_loss: 0.5317 - val_accuracy: 0.0076 - lr: 0.0010 - 73s/epoch - 17ms/step
Epoch 62/100
4378/4378 - 73s - loss: 0.5219 - accuracy: 0.1997 - val_loss: 0.5314 - val_accuracy: 0.0662 - lr: 0.0010 - 73s/epoch - 17ms/step
Epoch 63/100
4378/4378 - 73s - loss: 0.5219 - accuracy: 0.1993 - val_loss: 0.5338 - val_accuracy: 0.0078 - lr: 0.0010 - 73s/epoch - 17ms/step
Epoch 64/100
4378/4378 - 73s - loss: 0.5219 - accuracy: 0.1991 - val_loss: 0.5296 - val_accuracy: 0.0740 - lr: 0.0010 - 73s/epoch - 17ms/step
Epoch 65/100
4378/4378 - 73s - loss: 0.5219 - accuracy: 0.1989 - val_loss: 0.5341 - val_accuracy: 0.0304 - lr: 0.0010 - 73s/epoch - 17ms/step
Epoch 66/100
4378/4378 - 73s - loss: 0.5219 - accuracy: 0.1994 - val_loss: 0.5328 - val_accuracy: 0.0659 - lr: 0.0010 - 73s/epoch - 17ms/step
Epoch 67/100
4378/4378 - 73s - loss: 0.5219 - accuracy: 0.2012 - val_loss: 0.5251 - val_accuracy: 0.0670 - lr: 0.0010 - 73s/epoch - 17ms/step
Epoch 68/100
4378/4378 - 73s - loss: 0.5219 - accuracy: 0.2006 - val_loss: 0.5328 - val_accuracy: 0.0660 - lr: 0.0010 - 73s/epoch - 17ms/step
Epoch 69/100
4378/4378 - 73s - loss: 0.5219 - accuracy: 0.1995 - val_loss: 0.5316 - val_accuracy: 0.0083 - lr: 0.0010 - 73s/epoch - 17ms/step
Epoch 70/100
4378/4378 - 73s - loss: 0.5219 - accuracy: 0.1991 - val_loss: 0.5246 - val_accuracy: 0.8240 - lr: 0.0010 - 73s/epoch - 17ms/step
Epoch 71/100
4378/4378 - 73s - loss: 0.5219 - accuracy: 0.1987 - val_loss: 0.5342 - val_accuracy: 0.0661 - lr: 0.0010 - 73s/epoch - 17ms/step
Epoch 72/100
4378/4378 - 73s - loss: 0.5219 - accuracy: 0.2023 - val_loss: 0.5338 - val_accuracy: 0.0082 - lr: 0.0010 - 73s/epoch - 17ms/step
Epoch 73/100
4378/4378 - 73s - loss: 0.5219 - accuracy: 0.1976 - val_loss: 0.5334 - val_accuracy: 0.0256 - lr: 0.0010 - 73s/epoch - 17ms/step
Epoch 74/100
4378/4378 - 73s - loss: 0.5219 - accuracy: 0.1993 - val_loss: 0.5332 - val_accuracy: 0.0079 - lr: 0.0010 - 73s/epoch - 17ms/step
Epoch 75/100
4378/4378 - 73s - loss: 0.5219 - accuracy: 0.1966 - val_loss: 0.5306 - val_accuracy: 0.0254 - lr: 0.0010 - 73s/epoch - 17ms/step
Epoch 76/100
4378/4378 - 73s - loss: 0.5219 - accuracy: 0.1982 - val_loss: 0.5308 - val_accuracy: 0.0074 - lr: 0.0010 - 73s/epoch - 17ms/step
Epoch 77/100
4378/4378 - 73s - loss: 0.5219 - accuracy: 0.1989 - val_loss: 0.5318 - val_accuracy: 0.8236 - lr: 0.0010 - 73s/epoch - 17ms/step
Epoch 78/100
4378/4378 - 73s - loss: 0.5219 - accuracy: 0.2002 - val_loss: 0.5269 - val_accuracy: 0.8190 - lr: 0.0010 - 73s/epoch - 17ms/step
Epoch 79/100
4378/4378 - 73s - loss: 0.5219 - accuracy: 0.2007 - val_loss: 0.5264 - val_accuracy: 0.0765 - lr: 0.0010 - 73s/epoch - 17ms/step
Epoch 80/100
4378/4378 - 73s - loss: 0.5219 - accuracy: 0.2002 - val_loss: 0.5237 - val_accuracy: 0.0693 - lr: 0.0010 - 73s/epoch - 17ms/step
Epoch 81/100
4378/4378 - 73s - loss: 0.5219 - accuracy: 0.2013 - val_loss: 0.5360 - val_accuracy: 0.0737 - lr: 0.0010 - 73s/epoch - 17ms/step
Epoch 82/100
4378/4378 - 73s - loss: 0.5219 - accuracy: 0.1972 - val_loss: 0.5285 - val_accuracy: 0.0257 - lr: 0.0010 - 73s/epoch - 17ms/step
Epoch 83/100
4378/4378 - 73s - loss: 0.5219 - accuracy: 0.1981 - val_loss: 0.5299 - val_accuracy: 0.0074 - lr: 0.0010 - 73s/epoch - 17ms/step
Epoch 84/100
4378/4378 - 73s - loss: 0.5219 - accuracy: 0.1998 - val_loss: 0.5283 - val_accuracy: 0.8237 - lr: 0.0010 - 73s/epoch - 17ms/step
Epoch 85/100
4378/4378 - 73s - loss: 0.5219 - accuracy: 0.2003 - val_loss: 0.5229 - val_accuracy: 0.0689 - lr: 0.0010 - 73s/epoch - 17ms/step
Epoch 86/100
4378/4378 - 73s - loss: 0.5219 - accuracy: 0.1987 - val_loss: 0.5310 - val_accuracy: 0.0079 - lr: 0.0010 - 73s/epoch - 17ms/step
Epoch 87/100
4378/4378 - 73s - loss: 0.5219 - accuracy: 0.1992 - val_loss: 0.5331 - val_accuracy: 0.0736 - lr: 0.0010 - 73s/epoch - 17ms/step
Epoch 88/100
4378/4378 - 73s - loss: 0.5219 - accuracy: 0.1981 - val_loss: 0.5314 - val_accuracy: 0.0660 - lr: 0.0010 - 73s/epoch - 17ms/step
Epoch 89/100
4378/4378 - 73s - loss: 0.5219 - accuracy: 0.1995 - val_loss: 0.5320 - val_accuracy: 0.0254 - lr: 0.0010 - 73s/epoch - 17ms/step
Epoch 90/100
4378/4378 - 73s - loss: 0.5219 - accuracy: 0.1993 - val_loss: 0.5248 - val_accuracy: 0.8240 - lr: 0.0010 - 73s/epoch - 17ms/step
Epoch 91/100
4378/4378 - 73s - loss: 0.5219 - accuracy: 0.1981 - val_loss: 0.5338 - val_accuracy: 0.0078 - lr: 0.0010 - 73s/epoch - 17ms/step
Epoch 92/100
4378/4378 - 73s - loss: 0.5219 - accuracy: 0.1993 - val_loss: 0.5349 - val_accuracy: 0.0078 - lr: 0.0010 - 73s/epoch - 17ms/step
Epoch 93/100
4378/4378 - 73s - loss: 0.5219 - accuracy: 0.1983 - val_loss: 0.5274 - val_accuracy: 0.0759 - lr: 0.0010 - 73s/epoch - 17ms/step
Epoch 94/100
4378/4378 - 74s - loss: 0.5219 - accuracy: 0.2003 - val_loss: 0.5180 - val_accuracy: 0.8263 - lr: 0.0010 - 74s/epoch - 17ms/step
Epoch 95/100
4378/4378 - 73s - loss: 0.5219 - accuracy: 0.1987 - val_loss: 0.5296 - val_accuracy: 0.0740 - lr: 0.0010 - 73s/epoch - 17ms/step
Epoch 96/100
4378/4378 - 73s - loss: 0.5219 - accuracy: 0.1974 - val_loss: 0.5295 - val_accuracy: 0.8239 - lr: 0.0010 - 73s/epoch - 17ms/step
Epoch 97/100
4378/4378 - 73s - loss: 0.5219 - accuracy: 0.1982 - val_loss: 0.5298 - val_accuracy: 0.0661 - lr: 0.0010 - 73s/epoch - 17ms/step
Epoch 98/100
4378/4378 - 73s - loss: 0.5219 - accuracy: 0.1994 - val_loss: 0.5309 - val_accuracy: 0.0257 - lr: 0.0010 - 73s/epoch - 17ms/step
Epoch 99/100
4378/4378 - 73s - loss: 0.5219 - accuracy: 0.2011 - val_loss: 0.5340 - val_accuracy: 0.0078 - lr: 0.0010 - 73s/epoch - 17ms/step
Epoch 100/100
4378/4378 - 73s - loss: 0.5219 - accuracy: 0.1978 - val_loss: 0.5370 - val_accuracy: 0.0075 - lr: 0.0010 - 73s/epoch - 17ms/step
fitting with batch size: 100
Epoch 1/100
876/876 - 21s - loss: 0.5219 - accuracy: 0.1992 - val_loss: 0.5350 - val_accuracy: 0.0658 - lr: 0.0010 - 21s/epoch - 24ms/step
Epoch 2/100
876/876 - 18s - loss: 0.5219 - accuracy: 0.2003 - val_loss: 0.5323 - val_accuracy: 0.8235 - lr: 0.0010 - 18s/epoch - 20ms/step
Epoch 3/100
876/876 - 18s - loss: 0.5219 - accuracy: 0.1971 - val_loss: 0.5326 - val_accuracy: 0.8235 - lr: 0.0010 - 18s/epoch - 21ms/step
Epoch 4/100
876/876 - 18s - loss: 0.5219 - accuracy: 0.1989 - val_loss: 0.5323 - val_accuracy: 0.0737 - lr: 0.0010 - 18s/epoch - 21ms/step
Epoch 5/100
876/876 - 18s - loss: 0.5219 - accuracy: 0.1973 - val_loss: 0.5323 - val_accuracy: 0.0658 - lr: 0.0010 - 18s/epoch - 21ms/step
Epoch 6/100
876/876 - 18s - loss: 0.5219 - accuracy: 0.2001 - val_loss: 0.5326 - val_accuracy: 0.0666 - lr: 0.0010 - 18s/epoch - 21ms/step
Epoch 7/100
876/876 - 18s - loss: 0.5219 - accuracy: 0.1991 - val_loss: 0.5247 - val_accuracy: 0.8258 - lr: 0.0010 - 18s/epoch - 20ms/step
Epoch 8/100
876/876 - 18s - loss: 0.5219 - accuracy: 0.1997 - val_loss: 0.5243 - val_accuracy: 0.0682 - lr: 0.0010 - 18s/epoch - 21ms/step
Epoch 9/100
876/876 - 18s - loss: 0.5219 - accuracy: 0.1994 - val_loss: 0.5301 - val_accuracy: 0.0736 - lr: 0.0010 - 18s/epoch - 21ms/step
Epoch 10/100
876/876 - 18s - loss: 0.5219 - accuracy: 0.1987 - val_loss: 0.5312 - val_accuracy: 0.0074 - lr: 0.0010 - 18s/epoch - 21ms/step
Epoch 11/100
876/876 - 18s - loss: 0.5219 - accuracy: 0.1993 - val_loss: 0.5304 - val_accuracy: 0.0661 - lr: 0.0010 - 18s/epoch - 20ms/step
Epoch 12/100
876/876 - 18s - loss: 0.5219 - accuracy: 0.1982 - val_loss: 0.5314 - val_accuracy: 0.0659 - lr: 0.0010 - 18s/epoch - 21ms/step
Epoch 13/100
876/876 - 18s - loss: 0.5219 - accuracy: 0.1977 - val_loss: 0.5319 - val_accuracy: 0.0074 - lr: 0.0010 - 18s/epoch - 21ms/step
Epoch 14/100
876/876 - 18s - loss: 0.5219 - accuracy: 0.2015 - val_loss: 0.5243 - val_accuracy: 0.8259 - lr: 0.0010 - 18s/epoch - 21ms/step
Epoch 15/100
876/876 - 18s - loss: 0.5219 - accuracy: 0.1992 - val_loss: 0.5294 - val_accuracy: 0.0253 - lr: 0.0010 - 18s/epoch - 20ms/step
Epoch 16/100
876/876 - 18s - loss: 0.5219 - accuracy: 0.1997 - val_loss: 0.5296 - val_accuracy: 0.0736 - lr: 0.0010 - 18s/epoch - 21ms/step
Epoch 17/100
876/876 - 18s - loss: 0.5219 - accuracy: 0.1984 - val_loss: 0.5297 - val_accuracy: 0.0735 - lr: 0.0010 - 18s/epoch - 21ms/step
Epoch 18/100
876/876 - 18s - loss: 0.5219 - accuracy: 0.1985 - val_loss: 0.5304 - val_accuracy: 0.0661 - lr: 0.0010 - 18s/epoch - 21ms/step
Epoch 19/100
876/876 - 18s - loss: 0.5219 - accuracy: 0.1978 - val_loss: 0.5306 - val_accuracy: 0.0660 - lr: 0.0010 - 18s/epoch - 21ms/step
Epoch 20/100
876/876 - 18s - loss: 0.5219 - accuracy: 0.2008 - val_loss: 0.5314 - val_accuracy: 0.0266 - lr: 0.0010 - 18s/epoch - 21ms/step
Epoch 21/100
876/876 - 18s - loss: 0.5219 - accuracy: 0.1998 - val_loss: 0.5283 - val_accuracy: 0.0742 - lr: 0.0010 - 18s/epoch - 21ms/step
Epoch 22/100
876/876 - 18s - loss: 0.5219 - accuracy: 0.1981 - val_loss: 0.5292 - val_accuracy: 0.0664 - lr: 0.0010 - 18s/epoch - 21ms/step
Epoch 23/100
876/876 - 18s - loss: 0.5219 - accuracy: 0.2005 - val_loss: 0.5242 - val_accuracy: 0.8247 - lr: 0.0010 - 18s/epoch - 21ms/step
Epoch 24/100
876/876 - 18s - loss: 0.5219 - accuracy: 0.1979 - val_loss: 0.5300 - val_accuracy: 0.0261 - lr: 0.0010 - 18s/epoch - 21ms/step
Epoch 25/100
876/876 - 18s - loss: 0.5219 - accuracy: 0.1974 - val_loss: 0.5296 - val_accuracy: 0.0258 - lr: 0.0010 - 18s/epoch - 20ms/step
Epoch 26/100
876/876 - 18s - loss: 0.5219 - accuracy: 0.1996 - val_loss: 0.5292 - val_accuracy: 0.0660 - lr: 0.0010 - 18s/epoch - 21ms/step
Epoch 27/100
876/876 - 18s - loss: 0.5219 - accuracy: 0.2002 - val_loss: 0.5263 - val_accuracy: 0.0759 - lr: 0.0010 - 18s/epoch - 21ms/step
Epoch 28/100
876/876 - 18s - loss: 0.5219 - accuracy: 0.1986 - val_loss: 0.5298 - val_accuracy: 0.0736 - lr: 0.0010 - 18s/epoch - 21ms/step
Epoch 29/100
876/876 - 18s - loss: 0.5219 - accuracy: 0.1994 - val_loss: 0.5222 - val_accuracy: 0.0667 - lr: 0.0010 - 18s/epoch - 20ms/step
Epoch 30/100
876/876 - 18s - loss: 0.5219 - accuracy: 0.1985 - val_loss: 0.5322 - val_accuracy: 0.0075 - lr: 0.0010 - 18s/epoch - 21ms/step
Epoch 31/100
876/876 - 18s - loss: 0.5219 - accuracy: 0.1990 - val_loss: 0.5319 - val_accuracy: 0.0659 - lr: 0.0010 - 18s/epoch - 21ms/step
Epoch 32/100
876/876 - 18s - loss: 0.5219 - accuracy: 0.1986 - val_loss: 0.5310 - val_accuracy: 0.0663 - lr: 0.0010 - 18s/epoch - 21ms/step
Epoch 33/100
876/876 - 18s - loss: 0.5219 - accuracy: 0.1965 - val_loss: 0.5255 - val_accuracy: 0.8238 - lr: 0.0010 - 18s/epoch - 20ms/step
Epoch 34/100
876/876 - 18s - loss: 0.5219 - accuracy: 0.1995 - val_loss: 0.5247 - val_accuracy: 0.0284 - lr: 0.0010 - 18s/epoch - 21ms/step
Epoch 35/100
876/876 - 18s - loss: 0.5219 - accuracy: 0.1982 - val_loss: 0.5297 - val_accuracy: 0.8238 - lr: 0.0010 - 18s/epoch - 20ms/step
Epoch 36/100
876/876 - 18s - loss: 0.5219 - accuracy: 0.1997 - val_loss: 0.5307 - val_accuracy: 0.8237 - lr: 0.0010 - 18s/epoch - 21ms/step
Epoch 37/100
876/876 - 18s - loss: 0.5219 - accuracy: 0.1988 - val_loss: 0.5265 - val_accuracy: 0.0075 - lr: 0.0010 - 18s/epoch - 20ms/step
Epoch 38/100
876/876 - 18s - loss: 0.5219 - accuracy: 0.1999 - val_loss: 0.5312 - val_accuracy: 0.0076 - lr: 0.0010 - 18s/epoch - 21ms/step
Epoch 39/100
876/876 - 18s - loss: 0.5219 - accuracy: 0.2006 - val_loss: 0.5324 - val_accuracy: 0.0254 - lr: 0.0010 - 18s/epoch - 20ms/step
Epoch 40/100
876/876 - 18s - loss: 0.5219 - accuracy: 0.2004 - val_loss: 0.5250 - val_accuracy: 0.0738 - lr: 0.0010 - 18s/epoch - 21ms/step
Epoch 41/100
876/876 - 18s - loss: 0.5219 - accuracy: 0.1975 - val_loss: 0.5216 - val_accuracy: 0.8247 - lr: 0.0010 - 18s/epoch - 21ms/step
Epoch 42/100
876/876 - 18s - loss: 0.5219 - accuracy: 0.1991 - val_loss: 0.5291 - val_accuracy: 0.0658 - lr: 0.0010 - 18s/epoch - 21ms/step
Epoch 43/100
876/876 - 18s - loss: 0.5219 - accuracy: 0.1984 - val_loss: 0.5323 - val_accuracy: 0.0074 - lr: 0.0010 - 18s/epoch - 21ms/step
Epoch 44/100
876/876 - 18s - loss: 0.5219 - accuracy: 0.1991 - val_loss: 0.5305 - val_accuracy: 0.0258 - lr: 0.0010 - 18s/epoch - 21ms/step
Epoch 45/100
876/876 - 18s - loss: 0.5219 - accuracy: 0.1994 - val_loss: 0.5324 - val_accuracy: 0.0074 - lr: 0.0010 - 18s/epoch - 21ms/step
Epoch 46/100
876/876 - 18s - loss: 0.5219 - accuracy: 0.1985 - val_loss: 0.5300 - val_accuracy: 0.0736 - lr: 0.0010 - 18s/epoch - 21ms/step
Epoch 47/100
876/876 - 18s - loss: 0.5219 - accuracy: 0.1982 - val_loss: 0.5331 - val_accuracy: 0.0253 - lr: 0.0010 - 18s/epoch - 21ms/step
Epoch 48/100
876/876 - 18s - loss: 0.5219 - accuracy: 0.2000 - val_loss: 0.5281 - val_accuracy: 0.0277 - lr: 0.0010 - 18s/epoch - 21ms/step
Epoch 49/100
876/876 - 18s - loss: 0.5219 - accuracy: 0.1987 - val_loss: 0.5251 - val_accuracy: 0.8258 - lr: 0.0010 - 18s/epoch - 21ms/step
Epoch 50/100
876/876 - 18s - loss: 0.5219 - accuracy: 0.1975 - val_loss: 0.5274 - val_accuracy: 0.0740 - lr: 0.0010 - 18s/epoch - 21ms/step
Epoch 51/100
876/876 - 18s - loss: 0.5219 - accuracy: 0.2001 - val_loss: 0.5280 - val_accuracy: 0.0084 - lr: 0.0010 - 18s/epoch - 21ms/step
Epoch 52/100
876/876 - 18s - loss: 0.5219 - accuracy: 0.1985 - val_loss: 0.5290 - val_accuracy: 0.0076 - lr: 0.0010 - 18s/epoch - 21ms/step
Epoch 53/100
876/876 - 18s - loss: 0.5219 - accuracy: 0.1980 - val_loss: 0.5285 - val_accuracy: 0.8241 - lr: 0.0010 - 18s/epoch - 21ms/step
Epoch 54/100
876/876 - 18s - loss: 0.5219 - accuracy: 0.1999 - val_loss: 0.5203 - val_accuracy: 0.8263 - lr: 0.0010 - 18s/epoch - 21ms/step
Epoch 55/100
876/876 - 18s - loss: 0.5219 - accuracy: 0.1995 - val_loss: 0.5274 - val_accuracy: 0.8240 - lr: 0.0010 - 18s/epoch - 21ms/step
Epoch 56/100
876/876 - 18s - loss: 0.5219 - accuracy: 0.1998 - val_loss: 0.5316 - val_accuracy: 0.0257 - lr: 0.0010 - 18s/epoch - 21ms/step
Epoch 57/100
876/876 - 18s - loss: 0.5219 - accuracy: 0.1994 - val_loss: 0.5344 - val_accuracy: 0.0662 - lr: 0.0010 - 18s/epoch - 21ms/step
Epoch 58/100
876/876 - 18s - loss: 0.5219 - accuracy: 0.2004 - val_loss: 0.5316 - val_accuracy: 0.0256 - lr: 0.0010 - 18s/epoch - 21ms/step
Epoch 59/100
876/876 - 18s - loss: 0.5219 - accuracy: 0.1984 - val_loss: 0.5315 - val_accuracy: 0.0661 - lr: 0.0010 - 18s/epoch - 21ms/step
Epoch 60/100
876/876 - 18s - loss: 0.5219 - accuracy: 0.1989 - val_loss: 0.5322 - val_accuracy: 0.0075 - lr: 0.0010 - 18s/epoch - 21ms/step
Epoch 61/100
876/876 - 18s - loss: 0.5219 - accuracy: 0.1987 - val_loss: 0.5287 - val_accuracy: 0.8237 - lr: 0.0010 - 18s/epoch - 21ms/step
Epoch 62/100
876/876 - 18s - loss: 0.5219 - accuracy: 0.2001 - val_loss: 0.5258 - val_accuracy: 0.0100 - lr: 0.0010 - 18s/epoch - 21ms/step
Epoch 63/100
876/876 - 18s - loss: 0.5219 - accuracy: 0.1993 - val_loss: 0.5291 - val_accuracy: 0.8238 - lr: 0.0010 - 18s/epoch - 21ms/step
Epoch 64/100
876/876 - 18s - loss: 0.5219 - accuracy: 0.1991 - val_loss: 0.5290 - val_accuracy: 0.8236 - lr: 0.0010 - 18s/epoch - 21ms/step
Epoch 65/100
876/876 - 18s - loss: 0.5219 - accuracy: 0.2000 - val_loss: 0.5314 - val_accuracy: 0.0735 - lr: 0.0010 - 18s/epoch - 21ms/step
Epoch 66/100
876/876 - 18s - loss: 0.5219 - accuracy: 0.1983 - val_loss: 0.5321 - val_accuracy: 0.0735 - lr: 0.0010 - 18s/epoch - 21ms/step
Epoch 67/100
876/876 - 18s - loss: 0.5219 - accuracy: 0.1991 - val_loss: 0.5271 - val_accuracy: 0.8241 - lr: 0.0010 - 18s/epoch - 21ms/step
Epoch 68/100
876/876 - 18s - loss: 0.5219 - accuracy: 0.1980 - val_loss: 0.5271 - val_accuracy: 0.0747 - lr: 0.0010 - 18s/epoch - 21ms/step
Epoch 69/100
876/876 - 18s - loss: 0.5219 - accuracy: 0.1994 - val_loss: 0.5301 - val_accuracy: 0.0253 - lr: 0.0010 - 18s/epoch - 21ms/step
Epoch 70/100
876/876 - 18s - loss: 0.5219 - accuracy: 0.1984 - val_loss: 0.5302 - val_accuracy: 0.8235 - lr: 0.0010 - 18s/epoch - 21ms/step
Epoch 71/100
876/876 - 18s - loss: 0.5219 - accuracy: 0.1999 - val_loss: 0.5306 - val_accuracy: 0.0660 - lr: 0.0010 - 18s/epoch - 20ms/step
Epoch 72/100
876/876 - 18s - loss: 0.5219 - accuracy: 0.1985 - val_loss: 0.5306 - val_accuracy: 0.0078 - lr: 0.0010 - 18s/epoch - 21ms/step
Epoch 73/100
876/876 - 18s - loss: 0.5219 - accuracy: 0.1981 - val_loss: 0.5297 - val_accuracy: 0.8239 - lr: 0.0010 - 18s/epoch - 21ms/step
Epoch 74/100
876/876 - 18s - loss: 0.5219 - accuracy: 0.1988 - val_loss: 0.5252 - val_accuracy: 0.0660 - lr: 0.0010 - 18s/epoch - 21ms/step
Epoch 75/100
876/876 - 18s - loss: 0.5219 - accuracy: 0.1984 - val_loss: 0.5235 - val_accuracy: 0.8260 - lr: 0.0010 - 18s/epoch - 21ms/step
Epoch 76/100
876/876 - 18s - loss: 0.5219 - accuracy: 0.2012 - val_loss: 0.5263 - val_accuracy: 0.0099 - lr: 0.0010 - 18s/epoch - 21ms/step
Epoch 77/100
876/876 - 18s - loss: 0.5219 - accuracy: 0.1997 - val_loss: 0.5211 - val_accuracy: 0.8263 - lr: 0.0010 - 18s/epoch - 21ms/step
Epoch 78/100
876/876 - 18s - loss: 0.5219 - accuracy: 0.1995 - val_loss: 0.5319 - val_accuracy: 0.0659 - lr: 0.0010 - 18s/epoch - 21ms/step
Epoch 79/100
876/876 - 18s - loss: 0.5219 - accuracy: 0.1999 - val_loss: 0.5316 - val_accuracy: 0.0735 - lr: 0.0010 - 18s/epoch - 21ms/step
Epoch 80/100
876/876 - 18s - loss: 0.5219 - accuracy: 0.2001 - val_loss: 0.5245 - val_accuracy: 0.0687 - lr: 0.0010 - 18s/epoch - 21ms/step
Epoch 81/100
876/876 - 18s - loss: 0.5219 - accuracy: 0.2005 - val_loss: 0.5232 - val_accuracy: 0.0286 - lr: 0.0010 - 18s/epoch - 21ms/step
Epoch 82/100
876/876 - 18s - loss: 0.5219 - accuracy: 0.1994 - val_loss: 0.5210 - val_accuracy: 0.8261 - lr: 0.0010 - 18s/epoch - 21ms/step
Epoch 83/100
876/876 - 18s - loss: 0.5219 - accuracy: 0.1981 - val_loss: 0.5308 - val_accuracy: 0.0661 - lr: 0.0010 - 18s/epoch - 21ms/step
Epoch 84/100
876/876 - 18s - loss: 0.5219 - accuracy: 0.1984 - val_loss: 0.5265 - val_accuracy: 0.0763 - lr: 0.0010 - 18s/epoch - 21ms/step
Epoch 85/100
876/876 - 18s - loss: 0.5219 - accuracy: 0.2010 - val_loss: 0.5252 - val_accuracy: 0.0106 - lr: 0.0010 - 18s/epoch - 21ms/step
Epoch 86/100
876/876 - 18s - loss: 0.5219 - accuracy: 0.1965 - val_loss: 0.5259 - val_accuracy: 0.0668 - lr: 0.0010 - 18s/epoch - 21ms/step
Epoch 87/100
876/876 - 18s - loss: 0.5219 - accuracy: 0.1972 - val_loss: 0.5286 - val_accuracy: 0.0740 - lr: 0.0010 - 18s/epoch - 21ms/step
Epoch 88/100
876/876 - 18s - loss: 0.5219 - accuracy: 0.1986 - val_loss: 0.5284 - val_accuracy: 0.0075 - lr: 0.0010 - 18s/epoch - 21ms/step
Epoch 89/100
876/876 - 18s - loss: 0.5219 - accuracy: 0.1988 - val_loss: 0.5310 - val_accuracy: 0.0737 - lr: 0.0010 - 18s/epoch - 21ms/step
Epoch 90/100
876/876 - 18s - loss: 0.5219 - accuracy: 0.1972 - val_loss: 0.5235 - val_accuracy: 0.0280 - lr: 0.0010 - 18s/epoch - 21ms/step
Epoch 91/100
876/876 - 18s - loss: 0.5219 - accuracy: 0.1991 - val_loss: 0.5317 - val_accuracy: 0.0659 - lr: 0.0010 - 18s/epoch - 21ms/step
Epoch 92/100
876/876 - 18s - loss: 0.5219 - accuracy: 0.1988 - val_loss: 0.5267 - val_accuracy: 0.0762 - lr: 0.0010 - 18s/epoch - 21ms/step
Epoch 93/100
876/876 - 18s - loss: 0.5219 - accuracy: 0.1997 - val_loss: 0.5219 - val_accuracy: 0.0291 - lr: 0.0010 - 18s/epoch - 21ms/step
Epoch 94/100
876/876 - 18s - loss: 0.5219 - accuracy: 0.1992 - val_loss: 0.5230 - val_accuracy: 0.0692 - lr: 0.0010 - 18s/epoch - 21ms/step
Epoch 95/100
876/876 - 18s - loss: 0.5219 - accuracy: 0.2009 - val_loss: 0.5305 - val_accuracy: 0.0081 - lr: 0.0010 - 18s/epoch - 21ms/step
Epoch 96/100
876/876 - 18s - loss: 0.5219 - accuracy: 0.1995 - val_loss: 0.5325 - val_accuracy: 0.0074 - lr: 0.0010 - 18s/epoch - 21ms/step
Epoch 97/100
876/876 - 18s - loss: 0.5219 - accuracy: 0.1987 - val_loss: 0.5302 - val_accuracy: 0.0659 - lr: 0.0010 - 18s/epoch - 21ms/step
Epoch 98/100
876/876 - 18s - loss: 0.5219 - accuracy: 0.1995 - val_loss: 0.5292 - val_accuracy: 0.0087 - lr: 0.0010 - 18s/epoch - 21ms/step
Epoch 99/100
876/876 - 18s - loss: 0.5219 - accuracy: 0.1992 - val_loss: 0.5271 - val_accuracy: 0.0276 - lr: 0.0010 - 18s/epoch - 21ms/step
Epoch 100/100
876/876 - 18s - loss: 0.5219 - accuracy: 0.1986 - val_loss: 0.5306 - val_accuracy: 0.0261 - lr: 0.0010 - 18s/epoch - 21ms/step
fitting with batch size: 500
Epoch 1/100
176/176 - 12s - loss: 0.5219 - accuracy: 0.1981 - val_loss: 0.5297 - val_accuracy: 0.0262 - lr: 0.0010 - 12s/epoch - 65ms/step
Epoch 2/100
176/176 - 9s - loss: 0.5219 - accuracy: 0.1991 - val_loss: 0.5288 - val_accuracy: 0.0259 - lr: 0.0010 - 9s/epoch - 49ms/step
Epoch 3/100
176/176 - 9s - loss: 0.5219 - accuracy: 0.1977 - val_loss: 0.5290 - val_accuracy: 0.0740 - lr: 0.0010 - 9s/epoch - 50ms/step
Epoch 4/100
176/176 - 9s - loss: 0.5219 - accuracy: 0.1972 - val_loss: 0.5283 - val_accuracy: 0.0079 - lr: 0.0010 - 9s/epoch - 50ms/step
Epoch 5/100
176/176 - 9s - loss: 0.5219 - accuracy: 0.1983 - val_loss: 0.5283 - val_accuracy: 0.0079 - lr: 0.0010 - 9s/epoch - 50ms/step
Epoch 6/100
176/176 - 9s - loss: 0.5219 - accuracy: 0.1981 - val_loss: 0.5270 - val_accuracy: 0.0259 - lr: 0.0010 - 9s/epoch - 50ms/step
Epoch 7/100
176/176 - 9s - loss: 0.5219 - accuracy: 0.1981 - val_loss: 0.5269 - val_accuracy: 0.0663 - lr: 0.0010 - 9s/epoch - 50ms/step
Epoch 8/100
176/176 - 9s - loss: 0.5219 - accuracy: 0.1985 - val_loss: 0.5270 - val_accuracy: 0.0258 - lr: 0.0010 - 9s/epoch - 50ms/step
Epoch 9/100
176/176 - 9s - loss: 0.5219 - accuracy: 0.1962 - val_loss: 0.5254 - val_accuracy: 0.0258 - lr: 0.0010 - 9s/epoch - 50ms/step
Epoch 10/100
176/176 - 9s - loss: 0.5219 - accuracy: 0.2000 - val_loss: 0.5236 - val_accuracy: 0.8236 - lr: 0.0010 - 9s/epoch - 50ms/step
Epoch 11/100
176/176 - 9s - loss: 0.5219 - accuracy: 0.1979 - val_loss: 0.5231 - val_accuracy: 0.0259 - lr: 0.0010 - 9s/epoch - 50ms/step
Epoch 12/100
176/176 - 9s - loss: 0.5219 - accuracy: 0.1997 - val_loss: 0.5228 - val_accuracy: 0.0078 - lr: 0.0010 - 9s/epoch - 50ms/step
Epoch 13/100
176/176 - 9s - loss: 0.5219 - accuracy: 0.1976 - val_loss: 0.5245 - val_accuracy: 0.0075 - lr: 0.0010 - 9s/epoch - 50ms/step
Epoch 14/100
176/176 - 9s - loss: 0.5219 - accuracy: 0.1981 - val_loss: 0.5226 - val_accuracy: 0.8235 - lr: 0.0010 - 9s/epoch - 50ms/step
Epoch 15/100
176/176 - 9s - loss: 0.5219 - accuracy: 0.1980 - val_loss: 0.5209 - val_accuracy: 0.8275 - lr: 0.0010 - 9s/epoch - 50ms/step
Epoch 16/100
176/176 - 9s - loss: 0.5219 - accuracy: 0.1983 - val_loss: 0.5276 - val_accuracy: 0.0074 - lr: 0.0010 - 9s/epoch - 50ms/step
Epoch 17/100
176/176 - 9s - loss: 0.5219 - accuracy: 0.1982 - val_loss: 0.5272 - val_accuracy: 0.0735 - lr: 0.0010 - 9s/epoch - 50ms/step
Epoch 18/100
176/176 - 9s - loss: 0.5219 - accuracy: 0.1983 - val_loss: 0.5230 - val_accuracy: 0.8249 - lr: 0.0010 - 9s/epoch - 50ms/step
Epoch 19/100
176/176 - 9s - loss: 0.5219 - accuracy: 0.1967 - val_loss: 0.5276 - val_accuracy: 0.0074 - lr: 0.0010 - 9s/epoch - 50ms/step
Epoch 20/100
176/176 - 9s - loss: 0.5219 - accuracy: 0.1988 - val_loss: 0.5265 - val_accuracy: 0.0075 - lr: 0.0010 - 9s/epoch - 50ms/step
Epoch 21/100
176/176 - 9s - loss: 0.5219 - accuracy: 0.1961 - val_loss: 0.5264 - val_accuracy: 0.0740 - lr: 0.0010 - 9s/epoch - 50ms/step
Epoch 22/100
176/176 - 9s - loss: 0.5219 - accuracy: 0.1982 - val_loss: 0.5280 - val_accuracy: 0.0257 - lr: 0.0010 - 9s/epoch - 50ms/step
Epoch 23/100
176/176 - 9s - loss: 0.5219 - accuracy: 0.1980 - val_loss: 0.5299 - val_accuracy: 0.8239 - lr: 0.0010 - 9s/epoch - 50ms/step
Epoch 24/100
176/176 - 9s - loss: 0.5219 - accuracy: 0.1967 - val_loss: 0.5301 - val_accuracy: 0.8239 - lr: 0.0010 - 9s/epoch - 50ms/step
Epoch 25/100
176/176 - 9s - loss: 0.5219 - accuracy: 0.1997 - val_loss: 0.5297 - val_accuracy: 0.0077 - lr: 0.0010 - 9s/epoch - 50ms/step
Epoch 26/100
176/176 - 9s - loss: 0.5219 - accuracy: 0.1974 - val_loss: 0.5305 - val_accuracy: 0.0074 - lr: 0.0010 - 9s/epoch - 50ms/step
Epoch 27/100
176/176 - 9s - loss: 0.5219 - accuracy: 0.1972 - val_loss: 0.5325 - val_accuracy: 0.0735 - lr: 0.0010 - 9s/epoch - 50ms/step
Epoch 28/100
176/176 - 9s - loss: 0.5219 - accuracy: 0.1995 - val_loss: 0.5317 - val_accuracy: 0.8236 - lr: 0.0010 - 9s/epoch - 50ms/step
Epoch 29/100
176/176 - 9s - loss: 0.5219 - accuracy: 0.1984 - val_loss: 0.5238 - val_accuracy: 0.0260 - lr: 0.0010 - 9s/epoch - 50ms/step
Epoch 30/100
176/176 - 9s - loss: 0.5219 - accuracy: 0.1996 - val_loss: 0.5315 - val_accuracy: 0.0659 - lr: 0.0010 - 9s/epoch - 50ms/step
Epoch 31/100
176/176 - 9s - loss: 0.5219 - accuracy: 0.1998 - val_loss: 0.5333 - val_accuracy: 0.0254 - lr: 0.0010 - 9s/epoch - 50ms/step
Epoch 32/100
176/176 - 9s - loss: 0.5219 - accuracy: 0.2001 - val_loss: 0.5321 - val_accuracy: 0.8235 - lr: 0.0010 - 9s/epoch - 50ms/step
Epoch 33/100
176/176 - 9s - loss: 0.5219 - accuracy: 0.1958 - val_loss: 0.5338 - val_accuracy: 0.8235 - lr: 0.0010 - 9s/epoch - 50ms/step
Epoch 34/100
176/176 - 9s - loss: 0.5219 - accuracy: 0.1979 - val_loss: 0.5328 - val_accuracy: 0.8235 - lr: 0.0010 - 9s/epoch - 50ms/step
Epoch 35/100
176/176 - 9s - loss: 0.5219 - accuracy: 0.1995 - val_loss: 0.5341 - val_accuracy: 0.0074 - lr: 0.0010 - 9s/epoch - 50ms/step
Epoch 36/100
176/176 - 9s - loss: 0.5219 - accuracy: 0.1972 - val_loss: 0.5298 - val_accuracy: 0.0737 - lr: 0.0010 - 9s/epoch - 50ms/step
Epoch 37/100
176/176 - 9s - loss: 0.5219 - accuracy: 0.1980 - val_loss: 0.5292 - val_accuracy: 0.0077 - lr: 0.0010 - 9s/epoch - 50ms/step
Epoch 38/100
176/176 - 9s - loss: 0.5219 - accuracy: 0.1997 - val_loss: 0.5319 - val_accuracy: 0.0253 - lr: 0.0010 - 9s/epoch - 50ms/step
Epoch 39/100
176/176 - 9s - loss: 0.5219 - accuracy: 0.1992 - val_loss: 0.5231 - val_accuracy: 0.0762 - lr: 0.0010 - 9s/epoch - 50ms/step
Epoch 40/100
176/176 - 9s - loss: 0.5219 - accuracy: 0.1993 - val_loss: 0.5226 - val_accuracy: 0.0768 - lr: 0.0010 - 9s/epoch - 50ms/step
Epoch 41/100
176/176 - 9s - loss: 0.5219 - accuracy: 0.1995 - val_loss: 0.5251 - val_accuracy: 0.0104 - lr: 0.0010 - 9s/epoch - 50ms/step
Epoch 42/100
176/176 - 9s - loss: 0.5219 - accuracy: 0.1991 - val_loss: 0.5243 - val_accuracy: 0.0102 - lr: 0.0010 - 9s/epoch - 50ms/step
Epoch 43/100
176/176 - 9s - loss: 0.5219 - accuracy: 0.1991 - val_loss: 0.5289 - val_accuracy: 0.0659 - lr: 0.0010 - 9s/epoch - 50ms/step
Epoch 44/100
176/176 - 9s - loss: 0.5219 - accuracy: 0.1991 - val_loss: 0.5312 - val_accuracy: 0.0737 - lr: 0.0010 - 9s/epoch - 50ms/step
Epoch 45/100
176/176 - 9s - loss: 0.5219 - accuracy: 0.2012 - val_loss: 0.5202 - val_accuracy: 0.8276 - lr: 0.0010 - 9s/epoch - 51ms/step
Epoch 46/100
176/176 - 9s - loss: 0.5219 - accuracy: 0.1988 - val_loss: 0.5208 - val_accuracy: 0.8276 - lr: 0.0010 - 9s/epoch - 50ms/step
Epoch 47/100
176/176 - 9s - loss: 0.5219 - accuracy: 0.1992 - val_loss: 0.5236 - val_accuracy: 0.8261 - lr: 0.0010 - 9s/epoch - 50ms/step
Epoch 48/100
176/176 - 9s - loss: 0.5219 - accuracy: 0.1979 - val_loss: 0.5220 - val_accuracy: 0.8267 - lr: 0.0010 - 9s/epoch - 50ms/step
Epoch 49/100
176/176 - 9s - loss: 0.5219 - accuracy: 0.1980 - val_loss: 0.5263 - val_accuracy: 0.0739 - lr: 0.0010 - 9s/epoch - 50ms/step
Epoch 50/100
176/176 - 8s - loss: 0.5219 - accuracy: 0.1968 - val_loss: 0.5298 - val_accuracy: 0.0735 - lr: 0.0010 - 8s/epoch - 44ms/step
Epoch 51/100
176/176 - 9s - loss: 0.5219 - accuracy: 0.1990 - val_loss: 0.5357 - val_accuracy: 0.0735 - lr: 0.0010 - 9s/epoch - 50ms/step
Epoch 52/100
176/176 - 9s - loss: 0.5219 - accuracy: 0.1983 - val_loss: 0.5330 - val_accuracy: 0.0253 - lr: 0.0010 - 9s/epoch - 50ms/step
Epoch 53/100
176/176 - 9s - loss: 0.5219 - accuracy: 0.1985 - val_loss: 0.5331 - val_accuracy: 0.0253 - lr: 0.0010 - 9s/epoch - 50ms/step
Epoch 54/100
176/176 - 9s - loss: 0.5219 - accuracy: 0.1966 - val_loss: 0.5315 - val_accuracy: 0.0257 - lr: 0.0010 - 9s/epoch - 50ms/step
Epoch 55/100
176/176 - 9s - loss: 0.5219 - accuracy: 0.1986 - val_loss: 0.5328 - val_accuracy: 0.0253 - lr: 0.0010 - 9s/epoch - 50ms/step
Epoch 56/100
176/176 - 9s - loss: 0.5219 - accuracy: 0.1992 - val_loss: 0.5284 - val_accuracy: 0.0736 - lr: 0.0010 - 9s/epoch - 50ms/step
Epoch 57/100
176/176 - 9s - loss: 0.5219 - accuracy: 0.1984 - val_loss: 0.5282 - val_accuracy: 0.8236 - lr: 0.0010 - 9s/epoch - 50ms/step
Epoch 58/100
176/176 - 9s - loss: 0.5219 - accuracy: 0.2004 - val_loss: 0.5240 - val_accuracy: 0.0284 - lr: 0.0010 - 9s/epoch - 50ms/step
Epoch 59/100
176/176 - 9s - loss: 0.5219 - accuracy: 0.1988 - val_loss: 0.5302 - val_accuracy: 0.0258 - lr: 0.0010 - 9s/epoch - 50ms/step
Epoch 60/100
176/176 - 9s - loss: 0.5219 - accuracy: 0.1986 - val_loss: 0.5313 - val_accuracy: 0.0254 - lr: 0.0010 - 9s/epoch - 50ms/step
Epoch 61/100
176/176 - 9s - loss: 0.5219 - accuracy: 0.1984 - val_loss: 0.5237 - val_accuracy: 0.0285 - lr: 0.0010 - 9s/epoch - 51ms/step
Epoch 62/100
176/176 - 9s - loss: 0.5219 - accuracy: 0.1977 - val_loss: 0.5215 - val_accuracy: 0.8266 - lr: 0.0010 - 9s/epoch - 50ms/step
Epoch 63/100
176/176 - 9s - loss: 0.5219 - accuracy: 0.1995 - val_loss: 0.5243 - val_accuracy: 0.0277 - lr: 0.0010 - 9s/epoch - 50ms/step
Epoch 64/100
176/176 - 9s - loss: 0.5219 - accuracy: 0.1984 - val_loss: 0.5302 - val_accuracy: 0.0659 - lr: 0.0010 - 9s/epoch - 50ms/step
Epoch 65/100
176/176 - 9s - loss: 0.5219 - accuracy: 0.1982 - val_loss: 0.5306 - val_accuracy: 0.0736 - lr: 0.0010 - 9s/epoch - 51ms/step
Epoch 66/100
176/176 - 9s - loss: 0.5219 - accuracy: 0.1985 - val_loss: 0.5285 - val_accuracy: 0.0662 - lr: 0.0010 - 9s/epoch - 50ms/step
Epoch 67/100
176/176 - 9s - loss: 0.5219 - accuracy: 0.1995 - val_loss: 0.5276 - val_accuracy: 0.0752 - lr: 0.0010 - 9s/epoch - 50ms/step
Epoch 68/100
176/176 - 9s - loss: 0.5219 - accuracy: 0.1980 - val_loss: 0.5269 - val_accuracy: 0.0271 - lr: 0.0010 - 9s/epoch - 50ms/step
Epoch 69/100
176/176 - 9s - loss: 0.5219 - accuracy: 0.1983 - val_loss: 0.5243 - val_accuracy: 0.0685 - lr: 0.0010 - 9s/epoch - 50ms/step
Epoch 70/100
176/176 - 9s - loss: 0.5219 - accuracy: 0.1969 - val_loss: 0.5291 - val_accuracy: 0.0257 - lr: 0.0010 - 9s/epoch - 50ms/step
Epoch 71/100
176/176 - 9s - loss: 0.5219 - accuracy: 0.2004 - val_loss: 0.5262 - val_accuracy: 0.0661 - lr: 0.0010 - 9s/epoch - 50ms/step
Epoch 72/100
176/176 - 9s - loss: 0.5219 - accuracy: 0.1980 - val_loss: 0.5258 - val_accuracy: 0.0661 - lr: 0.0010 - 9s/epoch - 50ms/step
Epoch 73/100
176/176 - 9s - loss: 0.5219 - accuracy: 0.1978 - val_loss: 0.5266 - val_accuracy: 0.0089 - lr: 0.0010 - 9s/epoch - 50ms/step
Epoch 74/100
176/176 - 9s - loss: 0.5219 - accuracy: 0.2004 - val_loss: 0.5277 - val_accuracy: 0.0075 - lr: 0.0010 - 9s/epoch - 50ms/step
Epoch 75/100
176/176 - 9s - loss: 0.5219 - accuracy: 0.1993 - val_loss: 0.5252 - val_accuracy: 0.8259 - lr: 0.0010 - 9s/epoch - 50ms/step
Epoch 76/100
176/176 - 9s - loss: 0.5219 - accuracy: 0.1989 - val_loss: 0.5251 - val_accuracy: 0.0759 - lr: 0.0010 - 9s/epoch - 50ms/step
Epoch 77/100
176/176 - 9s - loss: 0.5219 - accuracy: 0.1996 - val_loss: 0.5256 - val_accuracy: 0.0682 - lr: 0.0010 - 9s/epoch - 50ms/step
Epoch 78/100
176/176 - 9s - loss: 0.5219 - accuracy: 0.1978 - val_loss: 0.5288 - val_accuracy: 0.0675 - lr: 0.0010 - 9s/epoch - 50ms/step
Epoch 79/100
176/176 - 9s - loss: 0.5219 - accuracy: 0.1990 - val_loss: 0.5305 - val_accuracy: 0.0076 - lr: 0.0010 - 9s/epoch - 50ms/step
Epoch 80/100
176/176 - 9s - loss: 0.5219 - accuracy: 0.2014 - val_loss: 0.5310 - val_accuracy: 0.0272 - lr: 0.0010 - 9s/epoch - 50ms/step
Epoch 81/100
176/176 - 9s - loss: 0.5219 - accuracy: 0.2000 - val_loss: 0.5255 - val_accuracy: 0.0278 - lr: 0.0010 - 9s/epoch - 50ms/step
Epoch 82/100
176/176 - 9s - loss: 0.5219 - accuracy: 0.1968 - val_loss: 0.5260 - val_accuracy: 0.0278 - lr: 0.0010 - 9s/epoch - 50ms/step
Epoch 83/100
176/176 - 9s - loss: 0.5219 - accuracy: 0.1991 - val_loss: 0.5250 - val_accuracy: 0.0759 - lr: 0.0010 - 9s/epoch - 50ms/step
Epoch 84/100
176/176 - 9s - loss: 0.5219 - accuracy: 0.1981 - val_loss: 0.5240 - val_accuracy: 0.0101 - lr: 0.0010 - 9s/epoch - 50ms/step
Epoch 85/100
176/176 - 9s - loss: 0.5219 - accuracy: 0.2005 - val_loss: 0.5233 - val_accuracy: 0.0685 - lr: 0.0010 - 9s/epoch - 50ms/step
Epoch 86/100
176/176 - 9s - loss: 0.5219 - accuracy: 0.1981 - val_loss: 0.5213 - val_accuracy: 0.8276 - lr: 0.0010 - 9s/epoch - 50ms/step
Epoch 87/100
176/176 - 9s - loss: 0.5219 - accuracy: 0.1981 - val_loss: 0.5241 - val_accuracy: 0.0257 - lr: 0.0010 - 9s/epoch - 50ms/step
Epoch 88/100
176/176 - 9s - loss: 0.5219 - accuracy: 0.1963 - val_loss: 0.5222 - val_accuracy: 0.8237 - lr: 0.0010 - 9s/epoch - 50ms/step
Epoch 89/100
176/176 - 9s - loss: 0.5219 - accuracy: 0.1999 - val_loss: 0.5213 - val_accuracy: 0.0294 - lr: 0.0010 - 9s/epoch - 51ms/step
Epoch 90/100
176/176 - 9s - loss: 0.5219 - accuracy: 0.2001 - val_loss: 0.5226 - val_accuracy: 0.0294 - lr: 0.0010 - 9s/epoch - 50ms/step
Epoch 91/100
176/176 - 9s - loss: 0.5219 - accuracy: 0.1976 - val_loss: 0.5225 - val_accuracy: 0.0776 - lr: 0.0010 - 9s/epoch - 50ms/step
Epoch 92/100
176/176 - 9s - loss: 0.5219 - accuracy: 0.1995 - val_loss: 0.5310 - val_accuracy: 0.0740 - lr: 0.0010 - 9s/epoch - 50ms/step
Epoch 93/100
176/176 - 9s - loss: 0.5219 - accuracy: 0.1993 - val_loss: 0.5293 - val_accuracy: 0.0743 - lr: 0.0010 - 9s/epoch - 51ms/step
Epoch 94/100
176/176 - 9s - loss: 0.5219 - accuracy: 0.1978 - val_loss: 0.5315 - val_accuracy: 0.0074 - lr: 0.0010 - 9s/epoch - 50ms/step
Epoch 95/100
176/176 - 9s - loss: 0.5219 - accuracy: 0.1994 - val_loss: 0.5316 - val_accuracy: 0.0659 - lr: 0.0010 - 9s/epoch - 50ms/step
Epoch 96/100
176/176 - 9s - loss: 0.5219 - accuracy: 0.1985 - val_loss: 0.5302 - val_accuracy: 0.0660 - lr: 0.0010 - 9s/epoch - 50ms/step
Epoch 97/100
176/176 - 9s - loss: 0.5219 - accuracy: 0.2003 - val_loss: 0.5292 - val_accuracy: 0.0253 - lr: 0.0010 - 9s/epoch - 50ms/step
Epoch 98/100
176/176 - 9s - loss: 0.5219 - accuracy: 0.1990 - val_loss: 0.5298 - val_accuracy: 0.8235 - lr: 0.0010 - 9s/epoch - 50ms/step
Epoch 99/100
176/176 - 9s - loss: 0.5219 - accuracy: 0.1984 - val_loss: 0.5305 - val_accuracy: 0.8239 - lr: 0.0010 - 9s/epoch - 50ms/step
Epoch 100/100
176/176 - 9s - loss: 0.5219 - accuracy: 0.1979 - val_loss: 0.5317 - val_accuracy: 0.0074 - lr: 0.0010 - 9s/epoch - 50ms/step
fitting with batch size: 1500
Epoch 1/100
59/59 - 10s - loss: 0.5219 - accuracy: 0.2000 - val_loss: 0.5297 - val_accuracy: 0.0078 - lr: 0.0010 - 10s/epoch - 174ms/step
Epoch 2/100
59/59 - 8s - loss: 0.5219 - accuracy: 0.2000 - val_loss: 0.5284 - val_accuracy: 0.0078 - lr: 0.0010 - 8s/epoch - 131ms/step
Epoch 3/100
59/59 - 8s - loss: 0.5219 - accuracy: 0.2000 - val_loss: 0.5281 - val_accuracy: 0.0078 - lr: 0.0010 - 8s/epoch - 132ms/step
Epoch 4/100
59/59 - 8s - loss: 0.5219 - accuracy: 0.1965 - val_loss: 0.5267 - val_accuracy: 0.0661 - lr: 0.0010 - 8s/epoch - 131ms/step
Epoch 5/100
59/59 - 8s - loss: 0.5219 - accuracy: 0.1971 - val_loss: 0.5262 - val_accuracy: 0.0661 - lr: 0.0010 - 8s/epoch - 132ms/step
Epoch 6/100
59/59 - 8s - loss: 0.5219 - accuracy: 0.1988 - val_loss: 0.5247 - val_accuracy: 0.0738 - lr: 0.0010 - 8s/epoch - 131ms/step
Epoch 7/100
59/59 - 8s - loss: 0.5219 - accuracy: 0.1974 - val_loss: 0.5251 - val_accuracy: 0.0078 - lr: 0.0010 - 8s/epoch - 132ms/step
Epoch 8/100
59/59 - 8s - loss: 0.5219 - accuracy: 0.1976 - val_loss: 0.5250 - val_accuracy: 0.0078 - lr: 0.0010 - 8s/epoch - 131ms/step
Epoch 9/100
59/59 - 8s - loss: 0.5219 - accuracy: 0.1994 - val_loss: 0.5232 - val_accuracy: 0.0661 - lr: 0.0010 - 8s/epoch - 131ms/step
Epoch 10/100
59/59 - 8s - loss: 0.5219 - accuracy: 0.1996 - val_loss: 0.5227 - val_accuracy: 0.0257 - lr: 0.0010 - 8s/epoch - 131ms/step
Epoch 11/100
59/59 - 8s - loss: 0.5219 - accuracy: 0.2000 - val_loss: 0.5234 - val_accuracy: 0.0254 - lr: 0.0010 - 8s/epoch - 131ms/step
Epoch 12/100
59/59 - 8s - loss: 0.5219 - accuracy: 0.1984 - val_loss: 0.5234 - val_accuracy: 0.0737 - lr: 0.0010 - 8s/epoch - 132ms/step
Epoch 13/100
59/59 - 8s - loss: 0.5219 - accuracy: 0.1968 - val_loss: 0.5240 - val_accuracy: 0.0735 - lr: 0.0010 - 8s/epoch - 132ms/step
Epoch 14/100
59/59 - 8s - loss: 0.5219 - accuracy: 0.2000 - val_loss: 0.5235 - val_accuracy: 0.0738 - lr: 0.0010 - 8s/epoch - 131ms/step
Epoch 15/100
59/59 - 8s - loss: 0.5219 - accuracy: 0.1980 - val_loss: 0.5241 - val_accuracy: 0.0660 - lr: 0.0010 - 8s/epoch - 132ms/step
Epoch 16/100
59/59 - 8s - loss: 0.5219 - accuracy: 0.1987 - val_loss: 0.5232 - val_accuracy: 0.8235 - lr: 0.0010 - 8s/epoch - 131ms/step
Epoch 17/100
59/59 - 8s - loss: 0.5219 - accuracy: 0.2000 - val_loss: 0.5228 - val_accuracy: 0.8235 - lr: 0.0010 - 8s/epoch - 132ms/step
Epoch 18/100
59/59 - 8s - loss: 0.5219 - accuracy: 0.1975 - val_loss: 0.5229 - val_accuracy: 0.0735 - lr: 0.0010 - 8s/epoch - 131ms/step
Epoch 19/100
59/59 - 8s - loss: 0.5219 - accuracy: 0.1964 - val_loss: 0.5222 - val_accuracy: 0.0735 - lr: 0.0010 - 8s/epoch - 132ms/step
Epoch 20/100
59/59 - 8s - loss: 0.5219 - accuracy: 0.1973 - val_loss: 0.5222 - val_accuracy: 0.0735 - lr: 0.0010 - 8s/epoch - 131ms/step
Epoch 21/100
59/59 - 8s - loss: 0.5219 - accuracy: 0.1980 - val_loss: 0.5219 - val_accuracy: 0.8237 - lr: 0.0010 - 8s/epoch - 132ms/step
Epoch 22/100
59/59 - 8s - loss: 0.5219 - accuracy: 0.1982 - val_loss: 0.5221 - val_accuracy: 0.0736 - lr: 0.0010 - 8s/epoch - 131ms/step
Epoch 23/100
59/59 - 8s - loss: 0.5219 - accuracy: 0.1979 - val_loss: 0.5218 - val_accuracy: 0.0737 - lr: 0.0010 - 8s/epoch - 132ms/step
Epoch 24/100
59/59 - 8s - loss: 0.5219 - accuracy: 0.1984 - val_loss: 0.5219 - val_accuracy: 0.0074 - lr: 0.0010 - 8s/epoch - 131ms/step
Epoch 25/100
59/59 - 8s - loss: 0.5219 - accuracy: 0.1983 - val_loss: 0.5217 - val_accuracy: 0.8237 - lr: 0.0010 - 8s/epoch - 132ms/step
Epoch 26/100
59/59 - 8s - loss: 0.5219 - accuracy: 0.1974 - val_loss: 0.5218 - val_accuracy: 0.0735 - lr: 0.0010 - 8s/epoch - 132ms/step
Epoch 27/100
59/59 - 8s - loss: 0.5219 - accuracy: 0.1970 - val_loss: 0.5223 - val_accuracy: 0.0076 - lr: 0.0010 - 8s/epoch - 133ms/step
Epoch 28/100
59/59 - 8s - loss: 0.5219 - accuracy: 0.1969 - val_loss: 0.5237 - val_accuracy: 0.0256 - lr: 0.0010 - 8s/epoch - 132ms/step
Epoch 29/100
59/59 - 8s - loss: 0.5219 - accuracy: 0.1990 - val_loss: 0.5241 - val_accuracy: 0.0735 - lr: 0.0010 - 8s/epoch - 131ms/step
Epoch 30/100
59/59 - 8s - loss: 0.5219 - accuracy: 0.1976 - val_loss: 0.5246 - val_accuracy: 0.0263 - lr: 0.0010 - 8s/epoch - 131ms/step
Epoch 31/100
59/59 - 8s - loss: 0.5219 - accuracy: 0.1976 - val_loss: 0.5266 - val_accuracy: 0.0085 - lr: 0.0010 - 8s/epoch - 132ms/step
Epoch 32/100
59/59 - 8s - loss: 0.5219 - accuracy: 0.2001 - val_loss: 0.5275 - val_accuracy: 0.0253 - lr: 0.0010 - 8s/epoch - 132ms/step
Epoch 33/100
59/59 - 8s - loss: 0.5219 - accuracy: 0.1978 - val_loss: 0.5263 - val_accuracy: 0.8245 - lr: 0.0010 - 8s/epoch - 132ms/step
Epoch 34/100
59/59 - 8s - loss: 0.5219 - accuracy: 0.2000 - val_loss: 0.5281 - val_accuracy: 0.0259 - lr: 0.0010 - 8s/epoch - 131ms/step
Epoch 35/100
59/59 - 8s - loss: 0.5219 - accuracy: 0.1988 - val_loss: 0.5290 - val_accuracy: 0.0074 - lr: 0.0010 - 8s/epoch - 132ms/step
Epoch 36/100
59/59 - 8s - loss: 0.5219 - accuracy: 0.1997 - val_loss: 0.5282 - val_accuracy: 0.0736 - lr: 0.0010 - 8s/epoch - 131ms/step
Epoch 37/100
59/59 - 8s - loss: 0.5219 - accuracy: 0.1961 - val_loss: 0.5268 - val_accuracy: 0.0660 - lr: 0.0010 - 8s/epoch - 132ms/step
Epoch 38/100
59/59 - 8s - loss: 0.5219 - accuracy: 0.1995 - val_loss: 0.5265 - val_accuracy: 0.8240 - lr: 0.0010 - 8s/epoch - 132ms/step
Epoch 39/100
59/59 - 8s - loss: 0.5219 - accuracy: 0.1984 - val_loss: 0.5272 - val_accuracy: 0.0259 - lr: 0.0010 - 8s/epoch - 131ms/step
Epoch 40/100
59/59 - 8s - loss: 0.5219 - accuracy: 0.1968 - val_loss: 0.5263 - val_accuracy: 0.0661 - lr: 0.0010 - 8s/epoch - 132ms/step
Epoch 41/100
59/59 - 8s - loss: 0.5219 - accuracy: 0.1977 - val_loss: 0.5257 - val_accuracy: 0.0077 - lr: 0.0010 - 8s/epoch - 132ms/step
Epoch 42/100
59/59 - 8s - loss: 0.5219 - accuracy: 0.1981 - val_loss: 0.5267 - val_accuracy: 0.0260 - lr: 0.0010 - 8s/epoch - 131ms/step
Epoch 43/100
59/59 - 8s - loss: 0.5219 - accuracy: 0.1971 - val_loss: 0.5264 - val_accuracy: 0.8244 - lr: 0.0010 - 8s/epoch - 132ms/step
Epoch 44/100
59/59 - 8s - loss: 0.5219 - accuracy: 0.1991 - val_loss: 0.5256 - val_accuracy: 0.8245 - lr: 0.0010 - 8s/epoch - 131ms/step
Epoch 45/100
59/59 - 8s - loss: 0.5219 - accuracy: 0.1966 - val_loss: 0.5256 - val_accuracy: 0.0665 - lr: 0.0010 - 8s/epoch - 132ms/step
Epoch 46/100
59/59 - 8s - loss: 0.5219 - accuracy: 0.1969 - val_loss: 0.5220 - val_accuracy: 0.8260 - lr: 0.0010 - 8s/epoch - 132ms/step
Epoch 47/100
59/59 - 8s - loss: 0.5219 - accuracy: 0.1979 - val_loss: 0.5280 - val_accuracy: 0.0091 - lr: 0.0010 - 8s/epoch - 132ms/step
Epoch 48/100
59/59 - 8s - loss: 0.5219 - accuracy: 0.1967 - val_loss: 0.5282 - val_accuracy: 0.0086 - lr: 0.0010 - 8s/epoch - 131ms/step
Epoch 49/100
59/59 - 8s - loss: 0.5219 - accuracy: 0.1975 - val_loss: 0.5285 - val_accuracy: 0.0662 - lr: 0.0010 - 8s/epoch - 132ms/step
Epoch 50/100
59/59 - 8s - loss: 0.5219 - accuracy: 0.2000 - val_loss: 0.5290 - val_accuracy: 0.0661 - lr: 0.0010 - 8s/epoch - 131ms/step
Epoch 51/100
59/59 - 8s - loss: 0.5219 - accuracy: 0.1973 - val_loss: 0.5289 - val_accuracy: 0.0664 - lr: 0.0010 - 8s/epoch - 132ms/step
Epoch 52/100
59/59 - 8s - loss: 0.5219 - accuracy: 0.1994 - val_loss: 0.5277 - val_accuracy: 0.8236 - lr: 0.0010 - 8s/epoch - 132ms/step
Epoch 53/100
59/59 - 8s - loss: 0.5219 - accuracy: 0.1988 - val_loss: 0.5294 - val_accuracy: 0.0075 - lr: 0.0010 - 8s/epoch - 132ms/step
Epoch 54/100
59/59 - 8s - loss: 0.5219 - accuracy: 0.1974 - val_loss: 0.5302 - val_accuracy: 0.0664 - lr: 0.0010 - 8s/epoch - 131ms/step
Epoch 55/100
59/59 - 8s - loss: 0.5219 - accuracy: 0.1983 - val_loss: 0.5238 - val_accuracy: 0.0683 - lr: 0.0010 - 8s/epoch - 131ms/step
Epoch 56/100
59/59 - 8s - loss: 0.5219 - accuracy: 0.1968 - val_loss: 0.5234 - val_accuracy: 0.0102 - lr: 0.0010 - 8s/epoch - 132ms/step
Epoch 57/100
59/59 - 8s - loss: 0.5219 - accuracy: 0.1962 - val_loss: 0.5297 - val_accuracy: 0.0074 - lr: 0.0010 - 8s/epoch - 133ms/step
Epoch 58/100
59/59 - 8s - loss: 0.5219 - accuracy: 0.1982 - val_loss: 0.5231 - val_accuracy: 0.8263 - lr: 0.0010 - 8s/epoch - 131ms/step
Epoch 59/100
59/59 - 8s - loss: 0.5219 - accuracy: 0.2005 - val_loss: 0.5299 - val_accuracy: 0.0736 - lr: 0.0010 - 8s/epoch - 131ms/step
Epoch 60/100
59/59 - 8s - loss: 0.5219 - accuracy: 0.1989 - val_loss: 0.5292 - val_accuracy: 0.0075 - lr: 0.0010 - 8s/epoch - 131ms/step
Epoch 61/100
59/59 - 8s - loss: 0.5219 - accuracy: 0.1976 - val_loss: 0.5286 - val_accuracy: 0.0254 - lr: 0.0010 - 8s/epoch - 131ms/step
Epoch 62/100
59/59 - 8s - loss: 0.5219 - accuracy: 0.1984 - val_loss: 0.5285 - val_accuracy: 0.0739 - lr: 0.0010 - 8s/epoch - 131ms/step
Epoch 63/100
59/59 - 8s - loss: 0.5219 - accuracy: 0.1970 - val_loss: 0.5268 - val_accuracy: 0.0742 - lr: 0.0010 - 8s/epoch - 132ms/step
Epoch 64/100
59/59 - 8s - loss: 0.5219 - accuracy: 0.1964 - val_loss: 0.5269 - val_accuracy: 0.0666 - lr: 0.0010 - 8s/epoch - 132ms/step
Epoch 65/100
59/59 - 8s - loss: 0.5219 - accuracy: 0.1990 - val_loss: 0.5258 - val_accuracy: 0.0741 - lr: 0.0010 - 8s/epoch - 132ms/step
Epoch 66/100
59/59 - 8s - loss: 0.5219 - accuracy: 0.1972 - val_loss: 0.5226 - val_accuracy: 0.0687 - lr: 0.0010 - 8s/epoch - 131ms/step
Epoch 67/100
59/59 - 8s - loss: 0.5219 - accuracy: 0.1980 - val_loss: 0.5248 - val_accuracy: 0.8239 - lr: 0.0010 - 8s/epoch - 132ms/step
Epoch 68/100
59/59 - 8s - loss: 0.5219 - accuracy: 0.1978 - val_loss: 0.5243 - val_accuracy: 0.0076 - lr: 0.0010 - 8s/epoch - 131ms/step
Epoch 69/100
59/59 - 8s - loss: 0.5219 - accuracy: 0.1973 - val_loss: 0.5226 - val_accuracy: 0.0659 - lr: 0.0010 - 8s/epoch - 131ms/step
Epoch 70/100
59/59 - 8s - loss: 0.5219 - accuracy: 0.1975 - val_loss: 0.5294 - val_accuracy: 0.8235 - lr: 0.0010 - 8s/epoch - 131ms/step
Epoch 71/100
59/59 - 8s - loss: 0.5219 - accuracy: 0.1966 - val_loss: 0.5301 - val_accuracy: 0.0254 - lr: 0.0010 - 8s/epoch - 132ms/step
Epoch 72/100
59/59 - 8s - loss: 0.5219 - accuracy: 0.1980 - val_loss: 0.5296 - val_accuracy: 0.0253 - lr: 0.0010 - 8s/epoch - 132ms/step
Epoch 73/100
59/59 - 8s - loss: 0.5219 - accuracy: 0.2001 - val_loss: 0.5299 - val_accuracy: 0.0738 - lr: 0.0010 - 8s/epoch - 132ms/step
Epoch 74/100
59/59 - 8s - loss: 0.5219 - accuracy: 0.1999 - val_loss: 0.5273 - val_accuracy: 0.0078 - lr: 0.0010 - 8s/epoch - 132ms/step
Epoch 75/100
59/59 - 8s - loss: 0.5219 - accuracy: 0.1986 - val_loss: 0.5302 - val_accuracy: 0.0076 - lr: 0.0010 - 8s/epoch - 131ms/step
Epoch 76/100
59/59 - 8s - loss: 0.5219 - accuracy: 0.1992 - val_loss: 0.5251 - val_accuracy: 0.0758 - lr: 0.0010 - 8s/epoch - 132ms/step
Epoch 77/100
59/59 - 8s - loss: 0.5219 - accuracy: 0.1974 - val_loss: 0.5244 - val_accuracy: 0.0681 - lr: 0.0010 - 8s/epoch - 132ms/step
Epoch 78/100
59/59 - 8s - loss: 0.5219 - accuracy: 0.1986 - val_loss: 0.5280 - val_accuracy: 0.8235 - lr: 0.0010 - 8s/epoch - 131ms/step
Epoch 79/100
59/59 - 8s - loss: 0.5219 - accuracy: 0.1971 - val_loss: 0.5266 - val_accuracy: 0.0076 - lr: 0.0010 - 8s/epoch - 131ms/step
Epoch 80/100
59/59 - 8s - loss: 0.5219 - accuracy: 0.1978 - val_loss: 0.5281 - val_accuracy: 0.0084 - lr: 0.0010 - 8s/epoch - 132ms/step
Epoch 81/100
59/59 - 8s - loss: 0.5219 - accuracy: 0.1996 - val_loss: 0.5292 - val_accuracy: 0.0744 - lr: 0.0010 - 8s/epoch - 131ms/step
Epoch 82/100
59/59 - 8s - loss: 0.5219 - accuracy: 0.1975 - val_loss: 0.5298 - val_accuracy: 0.0264 - lr: 0.0010 - 8s/epoch - 131ms/step
Epoch 83/100
59/59 - 8s - loss: 0.5219 - accuracy: 0.1962 - val_loss: 0.5294 - val_accuracy: 0.0264 - lr: 0.0010 - 8s/epoch - 131ms/step
Epoch 84/100
59/59 - 8s - loss: 0.5219 - accuracy: 0.1989 - val_loss: 0.5285 - val_accuracy: 0.0083 - lr: 0.0010 - 8s/epoch - 131ms/step
Epoch 85/100
59/59 - 8s - loss: 0.5219 - accuracy: 0.1983 - val_loss: 0.5286 - val_accuracy: 0.0083 - lr: 0.0010 - 8s/epoch - 132ms/step
Epoch 86/100
59/59 - 8s - loss: 0.5219 - accuracy: 0.1975 - val_loss: 0.5271 - val_accuracy: 0.0079 - lr: 0.0010 - 8s/epoch - 131ms/step
Epoch 87/100
59/59 - 8s - loss: 0.5219 - accuracy: 0.1971 - val_loss: 0.5247 - val_accuracy: 0.8239 - lr: 0.0010 - 8s/epoch - 132ms/step
Epoch 88/100
59/59 - 8s - loss: 0.5219 - accuracy: 0.1974 - val_loss: 0.5253 - val_accuracy: 0.0079 - lr: 0.0010 - 8s/epoch - 131ms/step
Epoch 89/100
59/59 - 8s - loss: 0.5219 - accuracy: 0.1986 - val_loss: 0.5255 - val_accuracy: 0.8238 - lr: 0.0010 - 8s/epoch - 132ms/step
Epoch 90/100
59/59 - 8s - loss: 0.5219 - accuracy: 0.1980 - val_loss: 0.5259 - val_accuracy: 0.8235 - lr: 0.0010 - 8s/epoch - 131ms/step
Epoch 91/100
59/59 - 8s - loss: 0.5219 - accuracy: 0.1977 - val_loss: 0.5252 - val_accuracy: 0.8236 - lr: 0.0010 - 8s/epoch - 132ms/step
Epoch 92/100
59/59 - 8s - loss: 0.5219 - accuracy: 0.1989 - val_loss: 0.5258 - val_accuracy: 0.0076 - lr: 0.0010 - 8s/epoch - 131ms/step
Epoch 93/100
59/59 - 8s - loss: 0.5219 - accuracy: 0.1985 - val_loss: 0.5293 - val_accuracy: 0.8237 - lr: 0.0010 - 8s/epoch - 132ms/step
Epoch 94/100
59/59 - 8s - loss: 0.5219 - accuracy: 0.1994 - val_loss: 0.5298 - val_accuracy: 0.0738 - lr: 0.0010 - 8s/epoch - 131ms/step
Epoch 95/100
59/59 - 8s - loss: 0.5219 - accuracy: 0.1974 - val_loss: 0.5226 - val_accuracy: 0.8261 - lr: 0.0010 - 8s/epoch - 132ms/step
Epoch 96/100
59/59 - 8s - loss: 0.5219 - accuracy: 0.1988 - val_loss: 0.5227 - val_accuracy: 0.0100 - lr: 0.0010 - 8s/epoch - 131ms/step
Epoch 97/100
59/59 - 8s - loss: 0.5219 - accuracy: 0.1989 - val_loss: 0.5284 - val_accuracy: 0.0738 - lr: 0.0010 - 8s/epoch - 132ms/step
Epoch 98/100
59/59 - 8s - loss: 0.5219 - accuracy: 0.1965 - val_loss: 0.5276 - val_accuracy: 0.0741 - lr: 0.0010 - 8s/epoch - 132ms/step
Epoch 99/100
59/59 - 8s - loss: 0.5219 - accuracy: 0.1977 - val_loss: 0.5267 - val_accuracy: 0.0264 - lr: 0.0010 - 8s/epoch - 131ms/step
Epoch 100/100
59/59 - 8s - loss: 0.5219 - accuracy: 0.1983 - val_loss: 0.5268 - val_accuracy: 0.0084 - lr: 0.0010 - 8s/epoch - 131ms/step
fitting with batch size: 2500
Epoch 1/100
36/36 - 10s - loss: 0.5219 - accuracy: 0.1998 - val_loss: 0.5260 - val_accuracy: 0.0661 - lr: 0.0010 - 10s/epoch - 281ms/step
Epoch 2/100
36/36 - 8s - loss: 0.5219 - accuracy: 0.1989 - val_loss: 0.5234 - val_accuracy: 0.0086 - lr: 0.0010 - 8s/epoch - 209ms/step
Epoch 3/100
36/36 - 8s - loss: 0.5219 - accuracy: 0.1997 - val_loss: 0.5220 - val_accuracy: 0.8269 - lr: 0.0010 - 8s/epoch - 209ms/step
Epoch 4/100
36/36 - 8s - loss: 0.5219 - accuracy: 0.2000 - val_loss: 0.5219 - val_accuracy: 0.8269 - lr: 0.0010 - 8s/epoch - 209ms/step
Epoch 5/100
36/36 - 8s - loss: 0.5219 - accuracy: 0.1993 - val_loss: 0.5222 - val_accuracy: 0.0108 - lr: 0.0010 - 8s/epoch - 209ms/step
Epoch 6/100
36/36 - 8s - loss: 0.5219 - accuracy: 0.2000 - val_loss: 0.5248 - val_accuracy: 0.0665 - lr: 0.0010 - 8s/epoch - 209ms/step
Epoch 7/100
36/36 - 8s - loss: 0.5219 - accuracy: 0.2010 - val_loss: 0.5224 - val_accuracy: 0.0766 - lr: 0.0010 - 8s/epoch - 209ms/step
Epoch 8/100
36/36 - 8s - loss: 0.5219 - accuracy: 0.2000 - val_loss: 0.5222 - val_accuracy: 0.0768 - lr: 0.0010 - 8s/epoch - 209ms/step
Epoch 9/100
36/36 - 8s - loss: 0.5219 - accuracy: 0.2005 - val_loss: 0.5249 - val_accuracy: 0.0661 - lr: 0.0010 - 8s/epoch - 209ms/step
Epoch 10/100
36/36 - 8s - loss: 0.5219 - accuracy: 0.1973 - val_loss: 0.5256 - val_accuracy: 0.0661 - lr: 0.0010 - 8s/epoch - 208ms/step
Epoch 11/100
36/36 - 8s - loss: 0.5219 - accuracy: 0.2001 - val_loss: 0.5240 - val_accuracy: 0.0763 - lr: 0.0010 - 8s/epoch - 210ms/step
Epoch 12/100
36/36 - 7s - loss: 0.5219 - accuracy: 0.1989 - val_loss: 0.5321 - val_accuracy: 0.0661 - lr: 0.0010 - 7s/epoch - 208ms/step
Epoch 13/100
36/36 - 8s - loss: 0.5219 - accuracy: 0.1967 - val_loss: 0.5314 - val_accuracy: 0.0741 - lr: 0.0010 - 8s/epoch - 209ms/step
Epoch 14/100
36/36 - 8s - loss: 0.5219 - accuracy: 0.2000 - val_loss: 0.5310 - val_accuracy: 0.0740 - lr: 0.0010 - 8s/epoch - 209ms/step
Epoch 15/100
36/36 - 8s - loss: 0.5219 - accuracy: 0.1990 - val_loss: 0.5303 - val_accuracy: 0.0080 - lr: 0.0010 - 8s/epoch - 209ms/step
Epoch 16/100
36/36 - 8s - loss: 0.5219 - accuracy: 0.2000 - val_loss: 0.5286 - val_accuracy: 0.0083 - lr: 0.0010 - 8s/epoch - 208ms/step
Epoch 17/100
36/36 - 8s - loss: 0.5219 - accuracy: 0.2000 - val_loss: 0.5290 - val_accuracy: 0.0744 - lr: 0.0010 - 8s/epoch - 209ms/step
Epoch 18/100
36/36 - 7s - loss: 0.5219 - accuracy: 0.1987 - val_loss: 0.5288 - val_accuracy: 0.8243 - lr: 0.0010 - 7s/epoch - 208ms/step
Epoch 19/100
36/36 - 8s - loss: 0.5219 - accuracy: 0.2003 - val_loss: 0.5287 - val_accuracy: 0.0741 - lr: 0.0010 - 8s/epoch - 210ms/step
Epoch 20/100
36/36 - 8s - loss: 0.5219 - accuracy: 0.2000 - val_loss: 0.5279 - val_accuracy: 0.0742 - lr: 0.0010 - 8s/epoch - 208ms/step
Epoch 21/100
36/36 - 8s - loss: 0.5219 - accuracy: 0.1987 - val_loss: 0.5224 - val_accuracy: 0.0764 - lr: 0.0010 - 8s/epoch - 209ms/step
Epoch 22/100
36/36 - 8s - loss: 0.5219 - accuracy: 0.2000 - val_loss: 0.5223 - val_accuracy: 0.0764 - lr: 0.0010 - 8s/epoch - 209ms/step
Epoch 23/100
36/36 - 8s - loss: 0.5219 - accuracy: 0.2002 - val_loss: 0.5224 - val_accuracy: 0.0688 - lr: 0.0010 - 8s/epoch - 209ms/step
Epoch 24/100
36/36 - 7s - loss: 0.5219 - accuracy: 0.2000 - val_loss: 0.5229 - val_accuracy: 0.0686 - lr: 0.0010 - 7s/epoch - 208ms/step
Epoch 25/100
36/36 - 8s - loss: 0.5219 - accuracy: 0.2000 - val_loss: 0.5263 - val_accuracy: 0.0257 - lr: 0.0010 - 8s/epoch - 210ms/step
Epoch 26/100
36/36 - 8s - loss: 0.5219 - accuracy: 0.1981 - val_loss: 0.5307 - val_accuracy: 0.0661 - lr: 0.0010 - 8s/epoch - 209ms/step
Epoch 27/100
36/36 - 8s - loss: 0.5219 - accuracy: 0.1995 - val_loss: 0.5290 - val_accuracy: 0.0745 - lr: 0.0010 - 8s/epoch - 208ms/step
Epoch 28/100
36/36 - 8s - loss: 0.5219 - accuracy: 0.1989 - val_loss: 0.5301 - val_accuracy: 0.0257 - lr: 0.0010 - 8s/epoch - 209ms/step
Epoch 29/100
36/36 - 8s - loss: 0.5219 - accuracy: 0.1988 - val_loss: 0.5293 - val_accuracy: 0.0740 - lr: 0.0010 - 8s/epoch - 208ms/step
Epoch 30/100
36/36 - 8s - loss: 0.5219 - accuracy: 0.1985 - val_loss: 0.5238 - val_accuracy: 0.0764 - lr: 0.0010 - 8s/epoch - 208ms/step
Epoch 31/100
36/36 - 8s - loss: 0.5219 - accuracy: 0.2006 - val_loss: 0.5234 - val_accuracy: 0.8264 - lr: 0.0010 - 8s/epoch - 209ms/step
Epoch 32/100
36/36 - 8s - loss: 0.5219 - accuracy: 0.2000 - val_loss: 0.5230 - val_accuracy: 0.8264 - lr: 0.0010 - 8s/epoch - 210ms/step
Epoch 33/100
36/36 - 8s - loss: 0.5219 - accuracy: 0.1972 - val_loss: 0.5302 - val_accuracy: 0.0735 - lr: 0.0010 - 8s/epoch - 209ms/step
Epoch 34/100
36/36 - 8s - loss: 0.5219 - accuracy: 0.2000 - val_loss: 0.5293 - val_accuracy: 0.8247 - lr: 0.0010 - 8s/epoch - 209ms/step
Epoch 35/100
36/36 - 8s - loss: 0.5219 - accuracy: 0.1991 - val_loss: 0.5296 - val_accuracy: 0.8246 - lr: 0.0010 - 8s/epoch - 209ms/step
Epoch 36/100
36/36 - 8s - loss: 0.5219 - accuracy: 0.2000 - val_loss: 0.5302 - val_accuracy: 0.8241 - lr: 0.0010 - 8s/epoch - 210ms/step
Epoch 37/100
36/36 - 8s - loss: 0.5219 - accuracy: 0.2002 - val_loss: 0.5309 - val_accuracy: 0.0664 - lr: 0.0010 - 8s/epoch - 209ms/step
Epoch 38/100
36/36 - 8s - loss: 0.5219 - accuracy: 0.2004 - val_loss: 0.5313 - val_accuracy: 0.0259 - lr: 0.0010 - 8s/epoch - 209ms/step
Epoch 39/100
36/36 - 7s - loss: 0.5219 - accuracy: 0.1995 - val_loss: 0.5308 - val_accuracy: 0.0260 - lr: 0.0010 - 7s/epoch - 208ms/step
Epoch 40/100
36/36 - 8s - loss: 0.5219 - accuracy: 0.1979 - val_loss: 0.5292 - val_accuracy: 0.8248 - lr: 0.0010 - 8s/epoch - 209ms/step
Epoch 41/100
36/36 - 8s - loss: 0.5219 - accuracy: 0.2000 - val_loss: 0.5287 - val_accuracy: 0.8248 - lr: 0.0010 - 8s/epoch - 210ms/step
Epoch 42/100
36/36 - 8s - loss: 0.5219 - accuracy: 0.2000 - val_loss: 0.5283 - val_accuracy: 0.8246 - lr: 0.0010 - 8s/epoch - 209ms/step
Epoch 43/100
36/36 - 8s - loss: 0.5219 - accuracy: 0.2004 - val_loss: 0.5297 - val_accuracy: 0.0083 - lr: 0.0010 - 8s/epoch - 209ms/step
Epoch 44/100
36/36 - 8s - loss: 0.5219 - accuracy: 0.1983 - val_loss: 0.5311 - val_accuracy: 0.0256 - lr: 0.0010 - 8s/epoch - 210ms/step
Epoch 45/100
36/36 - 8s - loss: 0.5219 - accuracy: 0.1992 - val_loss: 0.5305 - val_accuracy: 0.0087 - lr: 0.0010 - 8s/epoch - 208ms/step
Epoch 46/100
36/36 - 8s - loss: 0.5219 - accuracy: 0.2000 - val_loss: 0.5306 - val_accuracy: 0.0086 - lr: 0.0010 - 8s/epoch - 209ms/step
Epoch 47/100
36/36 - 8s - loss: 0.5219 - accuracy: 0.2000 - val_loss: 0.5293 - val_accuracy: 0.0083 - lr: 0.0010 - 8s/epoch - 208ms/step
Epoch 48/100
36/36 - 8s - loss: 0.5219 - accuracy: 0.1980 - val_loss: 0.5305 - val_accuracy: 0.0256 - lr: 0.0010 - 8s/epoch - 209ms/step
Epoch 49/100
36/36 - 8s - loss: 0.5219 - accuracy: 0.1986 - val_loss: 0.5308 - val_accuracy: 0.0663 - lr: 0.0010 - 8s/epoch - 209ms/step
Epoch 50/100
36/36 - 8s - loss: 0.5219 - accuracy: 0.1993 - val_loss: 0.5297 - val_accuracy: 0.8239 - lr: 0.0010 - 8s/epoch - 209ms/step
Epoch 51/100
36/36 - 8s - loss: 0.5219 - accuracy: 0.1982 - val_loss: 0.5302 - val_accuracy: 0.0254 - lr: 0.0010 - 8s/epoch - 208ms/step
Epoch 52/100
36/36 - 8s - loss: 0.5219 - accuracy: 0.2004 - val_loss: 0.5306 - val_accuracy: 0.0077 - lr: 0.0010 - 8s/epoch - 209ms/step
Epoch 53/100
36/36 - 8s - loss: 0.5219 - accuracy: 0.1984 - val_loss: 0.5297 - val_accuracy: 0.0077 - lr: 0.0010 - 8s/epoch - 209ms/step
Epoch 54/100
36/36 - 8s - loss: 0.5219 - accuracy: 0.2000 - val_loss: 0.5312 - val_accuracy: 0.0078 - lr: 0.0010 - 8s/epoch - 209ms/step
Epoch 55/100
36/36 - 8s - loss: 0.5219 - accuracy: 0.2001 - val_loss: 0.5301 - val_accuracy: 0.0738 - lr: 0.0010 - 8s/epoch - 209ms/step
Epoch 56/100
36/36 - 8s - loss: 0.5219 - accuracy: 0.1993 - val_loss: 0.5296 - val_accuracy: 0.0078 - lr: 0.0010 - 8s/epoch - 209ms/step
Epoch 57/100
36/36 - 8s - loss: 0.5219 - accuracy: 0.2000 - val_loss: 0.5289 - val_accuracy: 0.8241 - lr: 0.0010 - 8s/epoch - 209ms/step
Epoch 58/100
36/36 - 8s - loss: 0.5219 - accuracy: 0.1990 - val_loss: 0.5289 - val_accuracy: 0.8241 - lr: 0.0010 - 8s/epoch - 209ms/step
Epoch 59/100
36/36 - 8s - loss: 0.5219 - accuracy: 0.2001 - val_loss: 0.5289 - val_accuracy: 0.0080 - lr: 0.0010 - 8s/epoch - 209ms/step
Epoch 60/100
36/36 - 8s - loss: 0.5219 - accuracy: 0.1976 - val_loss: 0.5275 - val_accuracy: 0.0742 - lr: 0.0010 - 8s/epoch - 210ms/step
Epoch 61/100
36/36 - 7s - loss: 0.5219 - accuracy: 0.2001 - val_loss: 0.5284 - val_accuracy: 0.0083 - lr: 0.0010 - 7s/epoch - 208ms/step
Epoch 62/100
36/36 - 8s - loss: 0.5219 - accuracy: 0.1991 - val_loss: 0.5289 - val_accuracy: 0.0263 - lr: 0.0010 - 8s/epoch - 209ms/step
Epoch 63/100
36/36 - 8s - loss: 0.5219 - accuracy: 0.2003 - val_loss: 0.5266 - val_accuracy: 0.0742 - lr: 0.0010 - 8s/epoch - 209ms/step
Epoch 64/100
36/36 - 8s - loss: 0.5219 - accuracy: 0.1998 - val_loss: 0.5267 - val_accuracy: 0.0665 - lr: 0.0010 - 8s/epoch - 208ms/step
Epoch 65/100
36/36 - 8s - loss: 0.5219 - accuracy: 0.2000 - val_loss: 0.5274 - val_accuracy: 0.0662 - lr: 0.0010 - 8s/epoch - 208ms/step
Epoch 66/100
36/36 - 8s - loss: 0.5219 - accuracy: 0.2000 - val_loss: 0.5250 - val_accuracy: 0.0661 - lr: 0.0010 - 8s/epoch - 209ms/step
Epoch 67/100
36/36 - 8s - loss: 0.5219 - accuracy: 0.2001 - val_loss: 0.5206 - val_accuracy: 0.8264 - lr: 0.0010 - 8s/epoch - 208ms/step
Epoch 68/100
36/36 - 8s - loss: 0.5219 - accuracy: 0.2000 - val_loss: 0.5214 - val_accuracy: 0.8266 - lr: 0.0010 - 8s/epoch - 209ms/step
Epoch 69/100
36/36 - 8s - loss: 0.5219 - accuracy: 0.2000 - val_loss: 0.5213 - val_accuracy: 0.0691 - lr: 0.0010 - 8s/epoch - 209ms/step
Epoch 70/100
36/36 - 8s - loss: 0.5219 - accuracy: 0.2000 - val_loss: 0.5222 - val_accuracy: 0.0690 - lr: 0.0010 - 8s/epoch - 209ms/step
Epoch 71/100
36/36 - 8s - loss: 0.5219 - accuracy: 0.2000 - val_loss: 0.5230 - val_accuracy: 0.0689 - lr: 0.0010 - 8s/epoch - 208ms/step
Epoch 72/100
36/36 - 8s - loss: 0.5219 - accuracy: 0.1996 - val_loss: 0.5265 - val_accuracy: 0.0080 - lr: 0.0010 - 8s/epoch - 209ms/step
Epoch 73/100
36/36 - 8s - loss: 0.5219 - accuracy: 0.1995 - val_loss: 0.5239 - val_accuracy: 0.0660 - lr: 0.0010 - 8s/epoch - 209ms/step
Epoch 74/100
36/36 - 8s - loss: 0.5219 - accuracy: 0.2000 - val_loss: 0.5246 - val_accuracy: 0.0661 - lr: 0.0010 - 8s/epoch - 209ms/step
Epoch 75/100
36/36 - 8s - loss: 0.5219 - accuracy: 0.2000 - val_loss: 0.5235 - val_accuracy: 0.0661 - lr: 0.0010 - 8s/epoch - 209ms/step
Epoch 76/100
36/36 - 8s - loss: 0.5219 - accuracy: 0.2000 - val_loss: 0.5248 - val_accuracy: 0.0663 - lr: 0.0010 - 8s/epoch - 209ms/step
Epoch 77/100
36/36 - 8s - loss: 0.5219 - accuracy: 0.2003 - val_loss: 0.5263 - val_accuracy: 0.0740 - lr: 0.0010 - 8s/epoch - 209ms/step
Epoch 78/100
36/36 - 8s - loss: 0.5219 - accuracy: 0.2000 - val_loss: 0.5253 - val_accuracy: 0.0738 - lr: 0.0010 - 8s/epoch - 209ms/step
Epoch 79/100
36/36 - 8s - loss: 0.5219 - accuracy: 0.1992 - val_loss: 0.5264 - val_accuracy: 0.0742 - lr: 0.0010 - 8s/epoch - 208ms/step
Epoch 80/100
36/36 - 8s - loss: 0.5219 - accuracy: 0.1998 - val_loss: 0.5261 - val_accuracy: 0.8241 - lr: 0.0010 - 8s/epoch - 209ms/step
Epoch 81/100
36/36 - 8s - loss: 0.5219 - accuracy: 0.2006 - val_loss: 0.5235 - val_accuracy: 0.0282 - lr: 0.0010 - 8s/epoch - 209ms/step
Epoch 82/100
36/36 - 8s - loss: 0.5219 - accuracy: 0.2000 - val_loss: 0.5233 - val_accuracy: 0.0259 - lr: 0.0010 - 8s/epoch - 209ms/step
Epoch 83/100
36/36 - 7s - loss: 0.5219 - accuracy: 0.1999 - val_loss: 0.5224 - val_accuracy: 0.8264 - lr: 0.0010 - 7s/epoch - 208ms/step
Epoch 84/100
36/36 - 8s - loss: 0.5219 - accuracy: 0.1998 - val_loss: 0.5234 - val_accuracy: 0.0759 - lr: 0.0010 - 8s/epoch - 209ms/step
Epoch 85/100
36/36 - 8s - loss: 0.5219 - accuracy: 0.1991 - val_loss: 0.5232 - val_accuracy: 0.8260 - lr: 0.0010 - 8s/epoch - 208ms/step
Epoch 86/100
36/36 - 8s - loss: 0.5219 - accuracy: 0.2005 - val_loss: 0.5247 - val_accuracy: 0.0740 - lr: 0.0010 - 8s/epoch - 210ms/step
Epoch 87/100
36/36 - 8s - loss: 0.5219 - accuracy: 0.2004 - val_loss: 0.5271 - val_accuracy: 0.8246 - lr: 0.0010 - 8s/epoch - 209ms/step
Epoch 88/100
36/36 - 8s - loss: 0.5219 - accuracy: 0.2000 - val_loss: 0.5272 - val_accuracy: 0.0080 - lr: 0.0010 - 8s/epoch - 209ms/step
Epoch 89/100
36/36 - 8s - loss: 0.5219 - accuracy: 0.2000 - val_loss: 0.5272 - val_accuracy: 0.0083 - lr: 0.0010 - 8s/epoch - 209ms/step
Epoch 90/100
36/36 - 8s - loss: 0.5219 - accuracy: 0.2000 - val_loss: 0.5272 - val_accuracy: 0.0082 - lr: 0.0010 - 8s/epoch - 209ms/step
Epoch 91/100
36/36 - 8s - loss: 0.5219 - accuracy: 0.1993 - val_loss: 0.5271 - val_accuracy: 0.0740 - lr: 0.0010 - 8s/epoch - 209ms/step
Epoch 92/100
36/36 - 8s - loss: 0.5219 - accuracy: 0.2001 - val_loss: 0.5260 - val_accuracy: 0.0080 - lr: 0.0010 - 8s/epoch - 209ms/step
Epoch 93/100
36/36 - 8s - loss: 0.5219 - accuracy: 0.2003 - val_loss: 0.5256 - val_accuracy: 0.0666 - lr: 0.0010 - 8s/epoch - 209ms/step
Epoch 94/100
36/36 - 8s - loss: 0.5219 - accuracy: 0.1996 - val_loss: 0.5294 - val_accuracy: 0.0254 - lr: 0.0010 - 8s/epoch - 209ms/step
Epoch 95/100
36/36 - 8s - loss: 0.5219 - accuracy: 0.1987 - val_loss: 0.5294 - val_accuracy: 0.0658 - lr: 0.0010 - 8s/epoch - 210ms/step
Epoch 96/100
36/36 - 8s - loss: 0.5219 - accuracy: 0.2000 - val_loss: 0.5296 - val_accuracy: 0.0658 - lr: 0.0010 - 8s/epoch - 209ms/step
Epoch 97/100
36/36 - 8s - loss: 0.5219 - accuracy: 0.1985 - val_loss: 0.5279 - val_accuracy: 0.0077 - lr: 0.0010 - 8s/epoch - 209ms/step
Epoch 98/100
36/36 - 8s - loss: 0.5219 - accuracy: 0.1992 - val_loss: 0.5298 - val_accuracy: 0.0662 - lr: 0.0010 - 8s/epoch - 208ms/step
Epoch 99/100
36/36 - 8s - loss: 0.5219 - accuracy: 0.1998 - val_loss: 0.5272 - val_accuracy: 0.0254 - lr: 0.0010 - 8s/epoch - 209ms/step
Epoch 100/100
36/36 - 8s - loss: 0.5219 - accuracy: 0.1993 - val_loss: 0.5228 - val_accuracy: 0.0098 - lr: 0.0010 - 8s/epoch - 209ms/step
