Epoch number: 200
fitting with batch size: 20
Epoch 1/200
4378/4378 - 82s - loss: 0.7631 - accuracy: 0.7309 - val_loss: 0.8401 - val_accuracy: 0.6957 - lr: 0.0010 - 82s/epoch - 19ms/step
Epoch 2/200
4378/4378 - 80s - loss: 7.9237 - accuracy: 0.6078 - val_loss: 0.8202 - val_accuracy: 0.7543 - lr: 0.0010 - 80s/epoch - 18ms/step
Epoch 3/200
4378/4378 - 80s - loss: 0.7635 - accuracy: 0.7242 - val_loss: 0.9700 - val_accuracy: 0.6446 - lr: 0.0010 - 80s/epoch - 18ms/step
Epoch 4/200
4378/4378 - 79s - loss: 0.7137 - accuracy: 0.7354 - val_loss: 0.7003 - val_accuracy: 0.7577 - lr: 0.0010 - 79s/epoch - 18ms/step
Epoch 5/200
4378/4378 - 80s - loss: 0.7336 - accuracy: 0.7363 - val_loss: 0.7880 - val_accuracy: 0.7400 - lr: 0.0010 - 80s/epoch - 18ms/step
Epoch 6/200
4378/4378 - 80s - loss: 0.7172 - accuracy: 0.7355 - val_loss: 0.5860 - val_accuracy: 0.8057 - lr: 0.0010 - 80s/epoch - 18ms/step
Epoch 7/200
4378/4378 - 81s - loss: 0.7189 - accuracy: 0.7349 - val_loss: 0.8065 - val_accuracy: 0.7598 - lr: 0.0010 - 81s/epoch - 18ms/step
Epoch 8/200
4378/4378 - 81s - loss: 0.7207 - accuracy: 0.7334 - val_loss: 0.6678 - val_accuracy: 0.7851 - lr: 0.0010 - 81s/epoch - 18ms/step
Epoch 9/200
4378/4378 - 80s - loss: 0.7263 - accuracy: 0.7318 - val_loss: 0.8252 - val_accuracy: 0.7192 - lr: 0.0010 - 80s/epoch - 18ms/step
Epoch 10/200
4378/4378 - 80s - loss: 0.7276 - accuracy: 0.7317 - val_loss: 0.7419 - val_accuracy: 0.7539 - lr: 0.0010 - 80s/epoch - 18ms/step
Epoch 11/200
4378/4378 - 80s - loss: 0.8529 - accuracy: 0.7322 - val_loss: 0.7930 - val_accuracy: 0.7450 - lr: 0.0010 - 80s/epoch - 18ms/step
Epoch 12/200
4378/4378 - 80s - loss: 0.7596 - accuracy: 0.7271 - val_loss: 0.7097 - val_accuracy: 0.7827 - lr: 0.0010 - 80s/epoch - 18ms/step
Epoch 13/200
4378/4378 - 80s - loss: 1.1231 - accuracy: 0.7062 - val_loss: 0.7882 - val_accuracy: 0.7403 - lr: 0.0010 - 80s/epoch - 18ms/step
Epoch 14/200
4378/4378 - 80s - loss: 0.7335 - accuracy: 0.7305 - val_loss: 0.7379 - val_accuracy: 0.7585 - lr: 0.0010 - 80s/epoch - 18ms/step
Epoch 15/200
4378/4378 - 78s - loss: 0.7424 - accuracy: 0.7298 - val_loss: 0.8566 - val_accuracy: 0.7209 - lr: 0.0010 - 78s/epoch - 18ms/step
Epoch 16/200
4378/4378 - 79s - loss: 0.8154 - accuracy: 0.7305 - val_loss: 0.7531 - val_accuracy: 0.7483 - lr: 0.0010 - 79s/epoch - 18ms/step
Epoch 17/200
4378/4378 - 80s - loss: 0.7653 - accuracy: 0.7227 - val_loss: 0.6267 - val_accuracy: 0.8024 - lr: 0.0010 - 80s/epoch - 18ms/step
Epoch 18/200
4378/4378 - 80s - loss: 0.7333 - accuracy: 0.7291 - val_loss: 0.7824 - val_accuracy: 0.7453 - lr: 0.0010 - 80s/epoch - 18ms/step
Epoch 19/200
4378/4378 - 80s - loss: 0.7698 - accuracy: 0.7308 - val_loss: 0.8492 - val_accuracy: 0.6897 - lr: 0.0010 - 80s/epoch - 18ms/step
Epoch 20/200
4378/4378 - 81s - loss: 2.1543 - accuracy: 0.7172 - val_loss: 0.8158 - val_accuracy: 0.7202 - lr: 0.0010 - 81s/epoch - 19ms/step
Epoch 21/200
4378/4378 - 79s - loss: 1.5629 - accuracy: 0.7180 - val_loss: 0.7903 - val_accuracy: 0.7503 - lr: 0.0010 - 79s/epoch - 18ms/step
Epoch 22/200
4378/4378 - 80s - loss: 0.7763 - accuracy: 0.7273 - val_loss: 0.6761 - val_accuracy: 0.7840 - lr: 0.0010 - 80s/epoch - 18ms/step
Epoch 23/200
4378/4378 - 78s - loss: 0.7848 - accuracy: 0.7262 - val_loss: 0.7261 - val_accuracy: 0.7558 - lr: 0.0010 - 78s/epoch - 18ms/step
Epoch 24/200
4378/4378 - 80s - loss: 0.7373 - accuracy: 0.7277 - val_loss: 0.8587 - val_accuracy: 0.7543 - lr: 0.0010 - 80s/epoch - 18ms/step
Epoch 25/200
4378/4378 - 80s - loss: 2.6714 - accuracy: 0.7248 - val_loss: 0.8418 - val_accuracy: 0.7073 - lr: 0.0010 - 80s/epoch - 18ms/step
Epoch 26/200
4378/4378 - 81s - loss: 1.2533 - accuracy: 0.7262 - val_loss: 0.6486 - val_accuracy: 0.7791 - lr: 0.0010 - 81s/epoch - 18ms/step
Epoch 27/200
4378/4378 - 81s - loss: 0.7325 - accuracy: 0.7310 - val_loss: 0.7960 - val_accuracy: 0.7164 - lr: 0.0010 - 81s/epoch - 19ms/step
Epoch 28/200
4378/4378 - 80s - loss: 0.7331 - accuracy: 0.7300 - val_loss: 0.6893 - val_accuracy: 0.7646 - lr: 0.0010 - 80s/epoch - 18ms/step
Epoch 29/200
4378/4378 - 81s - loss: 0.7384 - accuracy: 0.7291 - val_loss: 0.8829 - val_accuracy: 0.6808 - lr: 0.0010 - 81s/epoch - 18ms/step
Epoch 30/200
4378/4378 - 80s - loss: 0.7421 - accuracy: 0.7293 - val_loss: 0.8370 - val_accuracy: 0.7096 - lr: 0.0010 - 80s/epoch - 18ms/step
Epoch 31/200
4378/4378 - 81s - loss: 0.7319 - accuracy: 0.7298 - val_loss: 0.7323 - val_accuracy: 0.7622 - lr: 0.0010 - 81s/epoch - 18ms/step
Epoch 32/200
4378/4378 - 81s - loss: 0.8427 - accuracy: 0.7300 - val_loss: 0.8541 - val_accuracy: 0.6584 - lr: 0.0010 - 81s/epoch - 18ms/step
Epoch 33/200
4378/4378 - 81s - loss: 0.7321 - accuracy: 0.7286 - val_loss: 0.6854 - val_accuracy: 0.7717 - lr: 0.0010 - 81s/epoch - 19ms/step
Epoch 34/200
4378/4378 - 80s - loss: 0.7921 - accuracy: 0.7225 - val_loss: 0.8487 - val_accuracy: 0.7122 - lr: 0.0010 - 80s/epoch - 18ms/step
Epoch 35/200
4378/4378 - 80s - loss: 0.7956 - accuracy: 0.7191 - val_loss: 0.7654 - val_accuracy: 0.7628 - lr: 0.0010 - 80s/epoch - 18ms/step
Epoch 36/200
4378/4378 - 80s - loss: 0.7765 - accuracy: 0.7242 - val_loss: 0.9162 - val_accuracy: 0.6723 - lr: 0.0010 - 80s/epoch - 18ms/step
Epoch 37/200
4378/4378 - 80s - loss: 0.7589 - accuracy: 0.7253 - val_loss: 0.7022 - val_accuracy: 0.7709 - lr: 0.0010 - 80s/epoch - 18ms/step
Epoch 38/200
4378/4378 - 82s - loss: 1.4249 - accuracy: 0.7169 - val_loss: 0.8952 - val_accuracy: 0.6887 - lr: 0.0010 - 82s/epoch - 19ms/step
Epoch 39/200
4378/4378 - 79s - loss: 0.7493 - accuracy: 0.7236 - val_loss: 0.7428 - val_accuracy: 0.7705 - lr: 0.0010 - 79s/epoch - 18ms/step
Epoch 40/200
4378/4378 - 81s - loss: 0.7513 - accuracy: 0.7240 - val_loss: 0.6011 - val_accuracy: 0.7867 - lr: 0.0010 - 81s/epoch - 18ms/step
Epoch 41/200
4378/4378 - 80s - loss: 0.7687 - accuracy: 0.7245 - val_loss: 0.6536 - val_accuracy: 0.7778 - lr: 0.0010 - 80s/epoch - 18ms/step
Epoch 42/200
4378/4378 - 80s - loss: 0.7426 - accuracy: 0.7265 - val_loss: 0.7914 - val_accuracy: 0.7160 - lr: 0.0010 - 80s/epoch - 18ms/step
Epoch 43/200
4378/4378 - 80s - loss: 0.9476 - accuracy: 0.7238 - val_loss: 0.7955 - val_accuracy: 0.6897 - lr: 0.0010 - 80s/epoch - 18ms/step
Epoch 44/200
4378/4378 - 80s - loss: 0.7638 - accuracy: 0.7264 - val_loss: 0.7304 - val_accuracy: 0.7646 - lr: 0.0010 - 80s/epoch - 18ms/step
Epoch 45/200
4378/4378 - 81s - loss: 0.7629 - accuracy: 0.7193 - val_loss: 0.6797 - val_accuracy: 0.7833 - lr: 0.0010 - 81s/epoch - 18ms/step
Epoch 46/200
4378/4378 - 81s - loss: 0.7589 - accuracy: 0.7240 - val_loss: 0.7534 - val_accuracy: 0.7707 - lr: 0.0010 - 81s/epoch - 19ms/step
Epoch 47/200
4378/4378 - 81s - loss: 0.7664 - accuracy: 0.7210 - val_loss: 0.7521 - val_accuracy: 0.7567 - lr: 0.0010 - 81s/epoch - 18ms/step
Epoch 48/200
4378/4378 - 81s - loss: 0.7748 - accuracy: 0.7187 - val_loss: 0.7804 - val_accuracy: 0.7393 - lr: 0.0010 - 81s/epoch - 18ms/step
Epoch 49/200
4378/4378 - 80s - loss: 1.3192 - accuracy: 0.6942 - val_loss: 0.8631 - val_accuracy: 0.7136 - lr: 0.0010 - 80s/epoch - 18ms/step
Epoch 50/200
4378/4378 - 80s - loss: 0.8401 - accuracy: 0.7224 - val_loss: 0.8075 - val_accuracy: 0.7315 - lr: 0.0010 - 80s/epoch - 18ms/step
Epoch 51/200
4378/4378 - 80s - loss: 0.7492 - accuracy: 0.7246 - val_loss: 0.6465 - val_accuracy: 0.7913 - lr: 0.0010 - 80s/epoch - 18ms/step
Epoch 52/200
4378/4378 - 80s - loss: 0.7489 - accuracy: 0.7233 - val_loss: 0.7147 - val_accuracy: 0.7896 - lr: 0.0010 - 80s/epoch - 18ms/step
Epoch 53/200
4378/4378 - 80s - loss: 0.7659 - accuracy: 0.7211 - val_loss: 0.7813 - val_accuracy: 0.7419 - lr: 0.0010 - 80s/epoch - 18ms/step
Epoch 54/200
4378/4378 - 80s - loss: 0.7538 - accuracy: 0.7218 - val_loss: 0.7594 - val_accuracy: 0.7254 - lr: 0.0010 - 80s/epoch - 18ms/step
Epoch 55/200
4378/4378 - 80s - loss: 0.7783 - accuracy: 0.7191 - val_loss: 0.7123 - val_accuracy: 0.7731 - lr: 0.0010 - 80s/epoch - 18ms/step
Epoch 56/200
4378/4378 - 81s - loss: 0.7668 - accuracy: 0.7221 - val_loss: 0.8103 - val_accuracy: 0.7147 - lr: 0.0010 - 81s/epoch - 18ms/step
Epoch 57/200
4378/4378 - 80s - loss: 0.9247 - accuracy: 0.7183 - val_loss: 0.7098 - val_accuracy: 0.7389 - lr: 0.0010 - 80s/epoch - 18ms/step
Epoch 58/200
4378/4378 - 80s - loss: 1.7221 - accuracy: 0.7108 - val_loss: 0.6881 - val_accuracy: 0.7851 - lr: 0.0010 - 80s/epoch - 18ms/step
Epoch 59/200
4378/4378 - 80s - loss: 0.8756 - accuracy: 0.7155 - val_loss: 0.8580 - val_accuracy: 0.6692 - lr: 0.0010 - 80s/epoch - 18ms/step
Epoch 60/200
4378/4378 - 80s - loss: 0.7675 - accuracy: 0.7201 - val_loss: 0.7905 - val_accuracy: 0.7126 - lr: 0.0010 - 80s/epoch - 18ms/step
Epoch 61/200
4378/4378 - 80s - loss: 0.7552 - accuracy: 0.7231 - val_loss: 1.0831 - val_accuracy: 0.6317 - lr: 0.0010 - 80s/epoch - 18ms/step
Epoch 62/200
4378/4378 - 80s - loss: 0.7839 - accuracy: 0.7216 - val_loss: 0.7676 - val_accuracy: 0.7282 - lr: 0.0010 - 80s/epoch - 18ms/step
Epoch 63/200
4378/4378 - 80s - loss: 3.4379 - accuracy: 0.6998 - val_loss: 0.7989 - val_accuracy: 0.7508 - lr: 0.0010 - 80s/epoch - 18ms/step
Epoch 64/200
4378/4378 - 80s - loss: 0.7909 - accuracy: 0.7170 - val_loss: 0.7357 - val_accuracy: 0.7776 - lr: 0.0010 - 80s/epoch - 18ms/step
Epoch 65/200
4378/4378 - 81s - loss: 0.8687 - accuracy: 0.7194 - val_loss: 0.8258 - val_accuracy: 0.7137 - lr: 0.0010 - 81s/epoch - 18ms/step
Epoch 66/200
4378/4378 - 80s - loss: 0.8242 - accuracy: 0.7201 - val_loss: 0.7809 - val_accuracy: 0.7093 - lr: 0.0010 - 80s/epoch - 18ms/step
Epoch 67/200
4378/4378 - 81s - loss: 0.7732 - accuracy: 0.7178 - val_loss: 0.7415 - val_accuracy: 0.7565 - lr: 0.0010 - 81s/epoch - 18ms/step
Epoch 68/200
4378/4378 - 80s - loss: 0.7788 - accuracy: 0.7183 - val_loss: 0.8441 - val_accuracy: 0.7178 - lr: 0.0010 - 80s/epoch - 18ms/step
Epoch 69/200
4378/4378 - 81s - loss: 0.7637 - accuracy: 0.7190 - val_loss: 0.7044 - val_accuracy: 0.7702 - lr: 0.0010 - 81s/epoch - 18ms/step
Epoch 70/200
4378/4378 - 80s - loss: 0.7603 - accuracy: 0.7198 - val_loss: 0.7284 - val_accuracy: 0.7557 - lr: 0.0010 - 80s/epoch - 18ms/step
Epoch 71/200
4378/4378 - 81s - loss: 0.7664 - accuracy: 0.7187 - val_loss: 0.8838 - val_accuracy: 0.6547 - lr: 0.0010 - 81s/epoch - 19ms/step
Epoch 72/200
4378/4378 - 81s - loss: 0.7950 - accuracy: 0.7107 - val_loss: 0.8573 - val_accuracy: 0.6777 - lr: 0.0010 - 81s/epoch - 18ms/step
Epoch 73/200
4378/4378 - 80s - loss: 0.7959 - accuracy: 0.7104 - val_loss: 0.8030 - val_accuracy: 0.7445 - lr: 0.0010 - 80s/epoch - 18ms/step
Epoch 74/200
4378/4378 - 80s - loss: 0.7744 - accuracy: 0.7150 - val_loss: 0.8490 - val_accuracy: 0.7385 - lr: 0.0010 - 80s/epoch - 18ms/step
Epoch 75/200
4378/4378 - 81s - loss: 6.9078 - accuracy: 0.6803 - val_loss: 0.7332 - val_accuracy: 0.7544 - lr: 0.0010 - 81s/epoch - 18ms/step
Epoch 76/200
4378/4378 - 80s - loss: 0.7901 - accuracy: 0.7180 - val_loss: 0.9071 - val_accuracy: 0.6987 - lr: 0.0010 - 80s/epoch - 18ms/step
Epoch 77/200
4378/4378 - 80s - loss: 1.9474 - accuracy: 0.7133 - val_loss: 0.8000 - val_accuracy: 0.7197 - lr: 0.0010 - 80s/epoch - 18ms/step
Epoch 78/200
4378/4378 - 80s - loss: 0.7733 - accuracy: 0.7162 - val_loss: 0.8374 - val_accuracy: 0.7565 - lr: 0.0010 - 80s/epoch - 18ms/step
Epoch 79/200
4378/4378 - 79s - loss: 0.8456 - accuracy: 0.7129 - val_loss: 0.7971 - val_accuracy: 0.7025 - lr: 0.0010 - 79s/epoch - 18ms/step
Epoch 80/200
4378/4378 - 80s - loss: 0.7981 - accuracy: 0.7123 - val_loss: 0.6794 - val_accuracy: 0.8050 - lr: 0.0010 - 80s/epoch - 18ms/step
Epoch 81/200
4378/4378 - 80s - loss: 0.7732 - accuracy: 0.7153 - val_loss: 0.7838 - val_accuracy: 0.7414 - lr: 0.0010 - 80s/epoch - 18ms/step
Epoch 82/200
4378/4378 - 81s - loss: 11.8549 - accuracy: 0.7107 - val_loss: 0.7720 - val_accuracy: 0.7222 - lr: 0.0010 - 81s/epoch - 18ms/step
Epoch 83/200
4378/4378 - 82s - loss: 0.8017 - accuracy: 0.7106 - val_loss: 0.7660 - val_accuracy: 0.7721 - lr: 0.0010 - 82s/epoch - 19ms/step
Epoch 84/200
4378/4378 - 80s - loss: 0.8241 - accuracy: 0.7117 - val_loss: 0.7583 - val_accuracy: 0.7435 - lr: 0.0010 - 80s/epoch - 18ms/step
Epoch 85/200
4378/4378 - 80s - loss: 0.7918 - accuracy: 0.7169 - val_loss: 0.9486 - val_accuracy: 0.6526 - lr: 0.0010 - 80s/epoch - 18ms/step
Epoch 86/200
4378/4378 - 80s - loss: 0.8993 - accuracy: 0.7126 - val_loss: 0.7701 - val_accuracy: 0.7520 - lr: 0.0010 - 80s/epoch - 18ms/step
Epoch 87/200
4378/4378 - 80s - loss: 0.8599 - accuracy: 0.7132 - val_loss: 0.8182 - val_accuracy: 0.7586 - lr: 0.0010 - 80s/epoch - 18ms/step
Epoch 88/200
4378/4378 - 79s - loss: 4.5589 - accuracy: 0.6935 - val_loss: 0.7645 - val_accuracy: 0.7528 - lr: 0.0010 - 79s/epoch - 18ms/step
Epoch 89/200
4378/4378 - 80s - loss: 0.7908 - accuracy: 0.7138 - val_loss: 0.7997 - val_accuracy: 0.7374 - lr: 0.0010 - 80s/epoch - 18ms/step
Epoch 90/200
4378/4378 - 80s - loss: 0.7684 - accuracy: 0.7168 - val_loss: 0.7601 - val_accuracy: 0.7518 - lr: 0.0010 - 80s/epoch - 18ms/step
Epoch 91/200
4378/4378 - 81s - loss: 0.7730 - accuracy: 0.7182 - val_loss: 0.7118 - val_accuracy: 0.7539 - lr: 0.0010 - 81s/epoch - 19ms/step
Epoch 92/200
4378/4378 - 80s - loss: 2.8011 - accuracy: 0.7104 - val_loss: 0.8150 - val_accuracy: 0.7085 - lr: 0.0010 - 80s/epoch - 18ms/step
Epoch 93/200
4378/4378 - 80s - loss: 0.9030 - accuracy: 0.7080 - val_loss: 0.6744 - val_accuracy: 0.8124 - lr: 0.0010 - 80s/epoch - 18ms/step
Epoch 94/200
4378/4378 - 81s - loss: 0.7839 - accuracy: 0.7145 - val_loss: 0.7719 - val_accuracy: 0.7451 - lr: 0.0010 - 81s/epoch - 18ms/step
Epoch 95/200
4378/4378 - 80s - loss: 0.7882 - accuracy: 0.7137 - val_loss: 0.6964 - val_accuracy: 0.7738 - lr: 0.0010 - 80s/epoch - 18ms/step
Epoch 96/200
4378/4378 - 80s - loss: 0.9913 - accuracy: 0.7126 - val_loss: 0.7213 - val_accuracy: 0.7455 - lr: 0.0010 - 80s/epoch - 18ms/step
Epoch 97/200
4378/4378 - 80s - loss: 0.7836 - accuracy: 0.7113 - val_loss: 0.9780 - val_accuracy: 0.6270 - lr: 0.0010 - 80s/epoch - 18ms/step
Epoch 98/200
4378/4378 - 80s - loss: 0.8760 - accuracy: 0.7107 - val_loss: 0.8328 - val_accuracy: 0.7335 - lr: 0.0010 - 80s/epoch - 18ms/step
Epoch 99/200
4378/4378 - 80s - loss: 0.7875 - accuracy: 0.7114 - val_loss: 0.7940 - val_accuracy: 0.7180 - lr: 0.0010 - 80s/epoch - 18ms/step
Epoch 100/200
4378/4378 - 80s - loss: 0.7896 - accuracy: 0.7097 - val_loss: 0.6942 - val_accuracy: 0.7648 - lr: 0.0010 - 80s/epoch - 18ms/step
Epoch 101/200
4378/4378 - 80s - loss: 0.7789 - accuracy: 0.7138 - val_loss: 0.9159 - val_accuracy: 0.6755 - lr: 0.0010 - 80s/epoch - 18ms/step
Epoch 102/200
4378/4378 - 80s - loss: 1.5399 - accuracy: 0.7096 - val_loss: 0.7638 - val_accuracy: 0.7342 - lr: 0.0010 - 80s/epoch - 18ms/step
Epoch 103/200
4378/4378 - 80s - loss: 1.0620 - accuracy: 0.7043 - val_loss: 0.6957 - val_accuracy: 0.8062 - lr: 0.0010 - 80s/epoch - 18ms/step
Epoch 104/200
4378/4378 - 79s - loss: 0.8243 - accuracy: 0.7157 - val_loss: 0.7241 - val_accuracy: 0.7278 - lr: 0.0010 - 79s/epoch - 18ms/step
Epoch 105/200
4378/4378 - 74s - loss: 0.7907 - accuracy: 0.7151 - val_loss: 0.6863 - val_accuracy: 0.7791 - lr: 0.0010 - 74s/epoch - 17ms/step
Epoch 106/200
4378/4378 - 79s - loss: 9.2566 - accuracy: 0.7061 - val_loss: 0.9038 - val_accuracy: 0.6884 - lr: 0.0010 - 79s/epoch - 18ms/step
Epoch 107/200
4378/4378 - 81s - loss: 0.7979 - accuracy: 0.7115 - val_loss: 0.7417 - val_accuracy: 0.7329 - lr: 0.0010 - 81s/epoch - 18ms/step
Epoch 108/200
4378/4378 - 81s - loss: 0.7942 - accuracy: 0.7155 - val_loss: 0.8022 - val_accuracy: 0.7233 - lr: 0.0010 - 81s/epoch - 18ms/step
Epoch 109/200
4378/4378 - 80s - loss: 1.5757 - accuracy: 0.6935 - val_loss: 0.7956 - val_accuracy: 0.7374 - lr: 0.0010 - 80s/epoch - 18ms/step
Epoch 110/200
4378/4378 - 80s - loss: 0.7926 - accuracy: 0.7112 - val_loss: 0.8233 - val_accuracy: 0.6908 - lr: 0.0010 - 80s/epoch - 18ms/step
Epoch 111/200
4378/4378 - 80s - loss: 0.7787 - accuracy: 0.7137 - val_loss: 0.8566 - val_accuracy: 0.6968 - lr: 0.0010 - 80s/epoch - 18ms/step
Epoch 112/200
4378/4378 - 80s - loss: 1.0457 - accuracy: 0.7101 - val_loss: 0.8366 - val_accuracy: 0.7363 - lr: 0.0010 - 80s/epoch - 18ms/step
Epoch 113/200
4378/4378 - 80s - loss: 3.1669 - accuracy: 0.6500 - val_loss: 0.9361 - val_accuracy: 0.6920 - lr: 0.0010 - 80s/epoch - 18ms/step
Epoch 114/200
4378/4378 - 80s - loss: 0.8951 - accuracy: 0.7033 - val_loss: 0.7758 - val_accuracy: 0.7300 - lr: 0.0010 - 80s/epoch - 18ms/step
Epoch 115/200
4378/4378 - 80s - loss: 1.1552 - accuracy: 0.7003 - val_loss: 0.8141 - val_accuracy: 0.7360 - lr: 0.0010 - 80s/epoch - 18ms/step
Epoch 116/200
4378/4378 - 80s - loss: 0.7884 - accuracy: 0.7105 - val_loss: 0.7850 - val_accuracy: 0.7379 - lr: 0.0010 - 80s/epoch - 18ms/step
Epoch 117/200
4378/4378 - 80s - loss: 0.7852 - accuracy: 0.7115 - val_loss: 0.7785 - val_accuracy: 0.7393 - lr: 0.0010 - 80s/epoch - 18ms/step
Epoch 118/200
4378/4378 - 81s - loss: 1.1723 - accuracy: 0.7034 - val_loss: 0.7654 - val_accuracy: 0.7377 - lr: 0.0010 - 81s/epoch - 18ms/step
Epoch 119/200
4378/4378 - 81s - loss: 0.7934 - accuracy: 0.7114 - val_loss: 0.6740 - val_accuracy: 0.7771 - lr: 0.0010 - 81s/epoch - 18ms/step
Epoch 120/200
4378/4378 - 80s - loss: 0.8027 - accuracy: 0.7069 - val_loss: 0.8098 - val_accuracy: 0.6551 - lr: 0.0010 - 80s/epoch - 18ms/step
Epoch 121/200
4378/4378 - 81s - loss: 0.8125 - accuracy: 0.7047 - val_loss: 0.6212 - val_accuracy: 0.7886 - lr: 0.0010 - 81s/epoch - 18ms/step
Epoch 122/200
4378/4378 - 80s - loss: 2.3750 - accuracy: 0.7058 - val_loss: 0.8578 - val_accuracy: 0.6919 - lr: 0.0010 - 80s/epoch - 18ms/step
Epoch 123/200
4378/4378 - 81s - loss: 21.5018 - accuracy: 0.6896 - val_loss: 0.7752 - val_accuracy: 0.7193 - lr: 0.0010 - 81s/epoch - 19ms/step
Epoch 124/200
4378/4378 - 80s - loss: 0.7894 - accuracy: 0.7103 - val_loss: 0.8403 - val_accuracy: 0.7076 - lr: 0.0010 - 80s/epoch - 18ms/step
Epoch 125/200
4378/4378 - 80s - loss: 0.7946 - accuracy: 0.7091 - val_loss: 0.7448 - val_accuracy: 0.7621 - lr: 0.0010 - 80s/epoch - 18ms/step
Epoch 126/200
4378/4378 - 80s - loss: 0.8251 - accuracy: 0.7079 - val_loss: 0.7495 - val_accuracy: 0.7516 - lr: 0.0010 - 80s/epoch - 18ms/step
Epoch 127/200
4378/4378 - 80s - loss: 0.8779 - accuracy: 0.7062 - val_loss: 0.7222 - val_accuracy: 0.7838 - lr: 0.0010 - 80s/epoch - 18ms/step
Epoch 128/200
4378/4378 - 83s - loss: 9.9230 - accuracy: 0.7007 - val_loss: 0.8339 - val_accuracy: 0.6937 - lr: 0.0010 - 83s/epoch - 19ms/step
Epoch 129/200
4378/4378 - 79s - loss: 0.8159 - accuracy: 0.7095 - val_loss: 0.8769 - val_accuracy: 0.6904 - lr: 0.0010 - 79s/epoch - 18ms/step
Epoch 130/200
4378/4378 - 79s - loss: 0.8787 - accuracy: 0.7040 - val_loss: 1.0309 - val_accuracy: 0.6007 - lr: 0.0010 - 79s/epoch - 18ms/step
Epoch 131/200
4378/4378 - 79s - loss: 0.8103 - accuracy: 0.7037 - val_loss: 0.8463 - val_accuracy: 0.6933 - lr: 0.0010 - 79s/epoch - 18ms/step
Epoch 132/200
4378/4378 - 80s - loss: 9.9721 - accuracy: 0.7063 - val_loss: 1.2250 - val_accuracy: 0.3264 - lr: 0.0010 - 80s/epoch - 18ms/step
Epoch 133/200
4378/4378 - 80s - loss: 1.5611 - accuracy: 0.6639 - val_loss: 0.7356 - val_accuracy: 0.7763 - lr: 0.0010 - 80s/epoch - 18ms/step
Epoch 134/200
4378/4378 - 79s - loss: 0.8431 - accuracy: 0.7072 - val_loss: 0.8930 - val_accuracy: 0.6935 - lr: 0.0010 - 79s/epoch - 18ms/step
Epoch 135/200
4378/4378 - 81s - loss: 11.7624 - accuracy: 0.6905 - val_loss: 0.9087 - val_accuracy: 0.6739 - lr: 0.0010 - 81s/epoch - 18ms/step
Epoch 136/200
4378/4378 - 80s - loss: 8.8545 - accuracy: 0.7000 - val_loss: 0.7877 - val_accuracy: 0.7025 - lr: 0.0010 - 80s/epoch - 18ms/step
Epoch 137/200
4378/4378 - 81s - loss: 0.8469 - accuracy: 0.7067 - val_loss: 0.8981 - val_accuracy: 0.6906 - lr: 0.0010 - 81s/epoch - 18ms/step
Epoch 138/200
4378/4378 - 80s - loss: 0.8084 - accuracy: 0.7036 - val_loss: 0.7357 - val_accuracy: 0.7812 - lr: 0.0010 - 80s/epoch - 18ms/step
Epoch 139/200
4378/4378 - 81s - loss: 0.8443 - accuracy: 0.7049 - val_loss: 0.8292 - val_accuracy: 0.7256 - lr: 0.0010 - 81s/epoch - 19ms/step
Epoch 140/200
4378/4378 - 81s - loss: 0.8992 - accuracy: 0.6952 - val_loss: 0.8519 - val_accuracy: 0.7199 - lr: 0.0010 - 81s/epoch - 18ms/step
Epoch 141/200
4378/4378 - 80s - loss: 0.8534 - accuracy: 0.7077 - val_loss: 0.9432 - val_accuracy: 0.6499 - lr: 0.0010 - 80s/epoch - 18ms/step
Epoch 142/200
4378/4378 - 81s - loss: 0.7953 - accuracy: 0.7093 - val_loss: 0.7547 - val_accuracy: 0.7648 - lr: 0.0010 - 81s/epoch - 19ms/step
Epoch 143/200
4378/4378 - 81s - loss: 0.7953 - accuracy: 0.7071 - val_loss: 0.7651 - val_accuracy: 0.7238 - lr: 0.0010 - 81s/epoch - 19ms/step
Epoch 144/200
4378/4378 - 81s - loss: 0.8901 - accuracy: 0.6910 - val_loss: 0.8018 - val_accuracy: 0.6865 - lr: 0.0010 - 81s/epoch - 18ms/step
Epoch 145/200
4378/4378 - 81s - loss: 0.8257 - accuracy: 0.7037 - val_loss: 0.8345 - val_accuracy: 0.7062 - lr: 0.0010 - 81s/epoch - 19ms/step
Epoch 146/200
4378/4378 - 80s - loss: 1.8455 - accuracy: 0.6958 - val_loss: 0.8560 - val_accuracy: 0.7395 - lr: 0.0010 - 80s/epoch - 18ms/step
Epoch 147/200
4378/4378 - 80s - loss: 0.8304 - accuracy: 0.7003 - val_loss: 0.8048 - val_accuracy: 0.7319 - lr: 0.0010 - 80s/epoch - 18ms/step
Epoch 148/200
4378/4378 - 80s - loss: 0.8291 - accuracy: 0.7039 - val_loss: 0.8732 - val_accuracy: 0.6917 - lr: 0.0010 - 80s/epoch - 18ms/step
Epoch 149/200
4378/4378 - 80s - loss: 0.8030 - accuracy: 0.7057 - val_loss: 0.7756 - val_accuracy: 0.7521 - lr: 0.0010 - 80s/epoch - 18ms/step
Epoch 150/200
4378/4378 - 79s - loss: 0.8770 - accuracy: 0.6938 - val_loss: 0.7565 - val_accuracy: 0.7105 - lr: 0.0010 - 79s/epoch - 18ms/step
Epoch 151/200
4378/4378 - 80s - loss: 0.8168 - accuracy: 0.7028 - val_loss: 0.7988 - val_accuracy: 0.7562 - lr: 0.0010 - 80s/epoch - 18ms/step
Epoch 152/200
4378/4378 - 81s - loss: 0.8014 - accuracy: 0.7057 - val_loss: 0.8057 - val_accuracy: 0.7668 - lr: 0.0010 - 81s/epoch - 18ms/step
Epoch 153/200
4378/4378 - 80s - loss: 0.9626 - accuracy: 0.6981 - val_loss: 0.8305 - val_accuracy: 0.7390 - lr: 0.0010 - 80s/epoch - 18ms/step
Epoch 154/200
4378/4378 - 80s - loss: 0.8164 - accuracy: 0.7021 - val_loss: 0.7047 - val_accuracy: 0.7895 - lr: 0.0010 - 80s/epoch - 18ms/step
Epoch 155/200
4378/4378 - 82s - loss: 2.3147 - accuracy: 0.6997 - val_loss: 0.7050 - val_accuracy: 0.7577 - lr: 0.0010 - 82s/epoch - 19ms/step
Epoch 156/200
4378/4378 - 81s - loss: 0.8287 - accuracy: 0.6989 - val_loss: 0.7439 - val_accuracy: 0.7515 - lr: 0.0010 - 81s/epoch - 18ms/step
Epoch 157/200
4378/4378 - 79s - loss: 0.8123 - accuracy: 0.7038 - val_loss: 0.8209 - val_accuracy: 0.7061 - lr: 0.0010 - 79s/epoch - 18ms/step
Epoch 158/200
4378/4378 - 80s - loss: 1.2262 - accuracy: 0.6993 - val_loss: 0.6934 - val_accuracy: 0.7630 - lr: 0.0010 - 80s/epoch - 18ms/step
Epoch 159/200
4378/4378 - 80s - loss: 0.8257 - accuracy: 0.6980 - val_loss: 0.7044 - val_accuracy: 0.7921 - lr: 0.0010 - 80s/epoch - 18ms/step
Epoch 160/200
4378/4378 - 79s - loss: 0.8136 - accuracy: 0.7011 - val_loss: 0.6722 - val_accuracy: 0.8015 - lr: 0.0010 - 79s/epoch - 18ms/step
Epoch 161/200
4378/4378 - 80s - loss: 1.7201 - accuracy: 0.7033 - val_loss: 0.7851 - val_accuracy: 0.7410 - lr: 0.0010 - 80s/epoch - 18ms/step
Epoch 162/200
4378/4378 - 80s - loss: 0.8930 - accuracy: 0.7022 - val_loss: 0.7034 - val_accuracy: 0.7574 - lr: 0.0010 - 80s/epoch - 18ms/step
Epoch 163/200
4378/4378 - 80s - loss: 0.8745 - accuracy: 0.7008 - val_loss: 0.8912 - val_accuracy: 0.6873 - lr: 0.0010 - 80s/epoch - 18ms/step
Epoch 164/200
4378/4378 - 80s - loss: 0.8092 - accuracy: 0.7009 - val_loss: 0.8269 - val_accuracy: 0.7093 - lr: 0.0010 - 80s/epoch - 18ms/step
Epoch 165/200
4378/4378 - 80s - loss: 0.8254 - accuracy: 0.7002 - val_loss: 0.8565 - val_accuracy: 0.7035 - lr: 0.0010 - 80s/epoch - 18ms/step
Epoch 166/200
4378/4378 - 80s - loss: 0.8126 - accuracy: 0.7003 - val_loss: 0.7413 - val_accuracy: 0.7766 - lr: 0.0010 - 80s/epoch - 18ms/step
Epoch 167/200
4378/4378 - 79s - loss: 1.4600 - accuracy: 0.6980 - val_loss: 0.8251 - val_accuracy: 0.7370 - lr: 0.0010 - 79s/epoch - 18ms/step
Epoch 168/200
4378/4378 - 81s - loss: 1.1346 - accuracy: 0.6921 - val_loss: 0.8396 - val_accuracy: 0.7030 - lr: 0.0010 - 81s/epoch - 19ms/step
Epoch 169/200
4378/4378 - 80s - loss: 0.8657 - accuracy: 0.6911 - val_loss: 0.9722 - val_accuracy: 0.6315 - lr: 0.0010 - 80s/epoch - 18ms/step
Epoch 170/200
4378/4378 - 80s - loss: 0.9321 - accuracy: 0.7027 - val_loss: 0.8479 - val_accuracy: 0.7368 - lr: 0.0010 - 80s/epoch - 18ms/step
Epoch 171/200
4378/4378 - 81s - loss: 0.8287 - accuracy: 0.7032 - val_loss: 0.9628 - val_accuracy: 0.6683 - lr: 0.0010 - 81s/epoch - 18ms/step
Epoch 172/200
4378/4378 - 81s - loss: 0.8468 - accuracy: 0.7015 - val_loss: 0.7928 - val_accuracy: 0.7465 - lr: 0.0010 - 81s/epoch - 18ms/step
Epoch 173/200
4378/4378 - 81s - loss: 1.6721 - accuracy: 0.6925 - val_loss: 0.7486 - val_accuracy: 0.7760 - lr: 0.0010 - 81s/epoch - 19ms/step
Epoch 174/200
4378/4378 - 81s - loss: 0.8478 - accuracy: 0.6963 - val_loss: 0.6656 - val_accuracy: 0.7956 - lr: 0.0010 - 81s/epoch - 18ms/step
Epoch 175/200
4378/4378 - 80s - loss: 0.8216 - accuracy: 0.6996 - val_loss: 0.8550 - val_accuracy: 0.7257 - lr: 0.0010 - 80s/epoch - 18ms/step
Epoch 176/200
4378/4378 - 80s - loss: 0.8850 - accuracy: 0.6938 - val_loss: 0.8688 - val_accuracy: 0.6795 - lr: 0.0010 - 80s/epoch - 18ms/step
Epoch 177/200
4378/4378 - 81s - loss: 3.5524 - accuracy: 0.6901 - val_loss: 0.8519 - val_accuracy: 0.7105 - lr: 0.0010 - 81s/epoch - 18ms/step
Epoch 178/200
4378/4378 - 81s - loss: 0.8274 - accuracy: 0.6976 - val_loss: 0.7588 - val_accuracy: 0.7753 - lr: 0.0010 - 81s/epoch - 18ms/step
Epoch 179/200
4378/4378 - 80s - loss: 0.8272 - accuracy: 0.6992 - val_loss: 0.7913 - val_accuracy: 0.7103 - lr: 0.0010 - 80s/epoch - 18ms/step
Epoch 180/200
4378/4378 - 80s - loss: 0.8290 - accuracy: 0.6962 - val_loss: 0.8882 - val_accuracy: 0.7036 - lr: 0.0010 - 80s/epoch - 18ms/step
Epoch 181/200
4378/4378 - 80s - loss: 0.9305 - accuracy: 0.6819 - val_loss: 0.7227 - val_accuracy: 0.7866 - lr: 0.0010 - 80s/epoch - 18ms/step
Epoch 182/200
4378/4378 - 75s - loss: 0.8297 - accuracy: 0.6968 - val_loss: 0.8130 - val_accuracy: 0.7027 - lr: 0.0010 - 75s/epoch - 17ms/step
Epoch 183/200
4378/4378 - 80s - loss: 1.0256 - accuracy: 0.6871 - val_loss: 0.7681 - val_accuracy: 0.7635 - lr: 0.0010 - 80s/epoch - 18ms/step
Epoch 184/200
4378/4378 - 80s - loss: 0.8258 - accuracy: 0.6984 - val_loss: 0.8672 - val_accuracy: 0.7126 - lr: 0.0010 - 80s/epoch - 18ms/step
Epoch 185/200
4378/4378 - 80s - loss: 0.8270 - accuracy: 0.7015 - val_loss: 0.8452 - val_accuracy: 0.6748 - lr: 0.0010 - 80s/epoch - 18ms/step
Epoch 186/200
4378/4378 - 80s - loss: 0.8201 - accuracy: 0.7020 - val_loss: 0.8309 - val_accuracy: 0.6805 - lr: 0.0010 - 80s/epoch - 18ms/step
Epoch 187/200
4378/4378 - 80s - loss: 26.1087 - accuracy: 0.6874 - val_loss: 0.8050 - val_accuracy: 0.7363 - lr: 0.0010 - 80s/epoch - 18ms/step
Epoch 188/200
4378/4378 - 80s - loss: 0.8349 - accuracy: 0.6963 - val_loss: 0.6881 - val_accuracy: 0.7846 - lr: 0.0010 - 80s/epoch - 18ms/step
Epoch 189/200
4378/4378 - 80s - loss: 0.8794 - accuracy: 0.6974 - val_loss: 0.8195 - val_accuracy: 0.7295 - lr: 0.0010 - 80s/epoch - 18ms/step
Epoch 190/200
4378/4378 - 83s - loss: 0.8340 - accuracy: 0.6958 - val_loss: 0.8201 - val_accuracy: 0.6919 - lr: 0.0010 - 83s/epoch - 19ms/step
Epoch 191/200
4378/4378 - 80s - loss: 0.8595 - accuracy: 0.6955 - val_loss: 0.7032 - val_accuracy: 0.7627 - lr: 0.0010 - 80s/epoch - 18ms/step
Epoch 192/200
4378/4378 - 80s - loss: 0.8287 - accuracy: 0.6960 - val_loss: 0.7050 - val_accuracy: 0.7905 - lr: 0.0010 - 80s/epoch - 18ms/step
Epoch 193/200
4378/4378 - 79s - loss: 0.8752 - accuracy: 0.6953 - val_loss: 0.7785 - val_accuracy: 0.7091 - lr: 0.0010 - 79s/epoch - 18ms/step
Epoch 194/200
4378/4378 - 81s - loss: 0.9609 - accuracy: 0.6835 - val_loss: 0.8054 - val_accuracy: 0.7238 - lr: 0.0010 - 81s/epoch - 19ms/step
Epoch 195/200
4378/4378 - 81s - loss: 1.1865 - accuracy: 0.6977 - val_loss: 0.7268 - val_accuracy: 0.7336 - lr: 0.0010 - 81s/epoch - 18ms/step
Epoch 196/200
4378/4378 - 81s - loss: 1.3228 - accuracy: 0.6855 - val_loss: 0.8283 - val_accuracy: 0.6812 - lr: 0.0010 - 81s/epoch - 18ms/step
Epoch 197/200
4378/4378 - 81s - loss: 0.8266 - accuracy: 0.6976 - val_loss: 0.8403 - val_accuracy: 0.7353 - lr: 0.0010 - 81s/epoch - 18ms/step
Epoch 198/200
4378/4378 - 80s - loss: 0.9462 - accuracy: 0.6910 - val_loss: 0.6796 - val_accuracy: 0.7869 - lr: 0.0010 - 80s/epoch - 18ms/step
Epoch 199/200
4378/4378 - 81s - loss: 0.8783 - accuracy: 0.6983 - val_loss: 0.7978 - val_accuracy: 0.7579 - lr: 0.0010 - 81s/epoch - 18ms/step
Epoch 200/200
4378/4378 - 80s - loss: 0.8255 - accuracy: 0.6991 - val_loss: 0.7626 - val_accuracy: 0.7790 - lr: 0.0010 - 80s/epoch - 18ms/step
fitting with batch size: 100
Epoch 1/200
876/876 - 21s - loss: 0.7640 - accuracy: 0.7168 - val_loss: 0.8174 - val_accuracy: 0.7400 - lr: 0.0010 - 21s/epoch - 24ms/step
Epoch 2/200
876/876 - 18s - loss: 0.7529 - accuracy: 0.7218 - val_loss: 0.7069 - val_accuracy: 0.7582 - lr: 0.0010 - 18s/epoch - 21ms/step
Epoch 3/200
876/876 - 18s - loss: 0.7506 - accuracy: 0.7209 - val_loss: 0.7535 - val_accuracy: 0.7442 - lr: 0.0010 - 18s/epoch - 20ms/step
Epoch 4/200
876/876 - 18s - loss: 0.7421 - accuracy: 0.7237 - val_loss: 0.7478 - val_accuracy: 0.7250 - lr: 0.0010 - 18s/epoch - 20ms/step
Epoch 5/200
876/876 - 18s - loss: 0.7411 - accuracy: 0.7256 - val_loss: 0.7774 - val_accuracy: 0.7379 - lr: 0.0010 - 18s/epoch - 20ms/step
Epoch 6/200
876/876 - 18s - loss: 0.7778 - accuracy: 0.7206 - val_loss: 0.8161 - val_accuracy: 0.7373 - lr: 0.0010 - 18s/epoch - 20ms/step
Epoch 7/200
876/876 - 18s - loss: 0.7420 - accuracy: 0.7249 - val_loss: 0.7859 - val_accuracy: 0.7452 - lr: 0.0010 - 18s/epoch - 21ms/step
Epoch 8/200
876/876 - 18s - loss: 0.7368 - accuracy: 0.7259 - val_loss: 0.7934 - val_accuracy: 0.7322 - lr: 0.0010 - 18s/epoch - 20ms/step
Epoch 9/200
876/876 - 18s - loss: 0.7375 - accuracy: 0.7252 - val_loss: 0.7512 - val_accuracy: 0.7438 - lr: 0.0010 - 18s/epoch - 21ms/step
Epoch 10/200
876/876 - 18s - loss: 0.7376 - accuracy: 0.7261 - val_loss: 0.7447 - val_accuracy: 0.7432 - lr: 0.0010 - 18s/epoch - 20ms/step
Epoch 11/200
876/876 - 18s - loss: 0.8713 - accuracy: 0.7264 - val_loss: 0.7810 - val_accuracy: 0.7295 - lr: 0.0010 - 18s/epoch - 21ms/step
Epoch 12/200
876/876 - 18s - loss: 0.7361 - accuracy: 0.7271 - val_loss: 0.6830 - val_accuracy: 0.7739 - lr: 0.0010 - 18s/epoch - 20ms/step
Epoch 13/200
876/876 - 18s - loss: 0.7315 - accuracy: 0.7280 - val_loss: 0.8140 - val_accuracy: 0.7016 - lr: 0.0010 - 18s/epoch - 20ms/step
Epoch 14/200
876/876 - 18s - loss: 5.7174 - accuracy: 0.6878 - val_loss: 1.1607 - val_accuracy: 0.6126 - lr: 0.0010 - 18s/epoch - 21ms/step
Epoch 15/200
876/876 - 18s - loss: 0.8900 - accuracy: 0.6601 - val_loss: 0.8016 - val_accuracy: 0.6958 - lr: 0.0010 - 18s/epoch - 21ms/step
Epoch 16/200
876/876 - 18s - loss: 0.7361 - accuracy: 0.7265 - val_loss: 0.7092 - val_accuracy: 0.7898 - lr: 0.0010 - 18s/epoch - 21ms/step
Epoch 17/200
876/876 - 18s - loss: 0.7291 - accuracy: 0.7279 - val_loss: 0.7765 - val_accuracy: 0.7400 - lr: 0.0010 - 18s/epoch - 20ms/step
Epoch 18/200
876/876 - 18s - loss: 0.7305 - accuracy: 0.7290 - val_loss: 0.7777 - val_accuracy: 0.7285 - lr: 0.0010 - 18s/epoch - 20ms/step
Epoch 19/200
876/876 - 18s - loss: 0.7326 - accuracy: 0.7282 - val_loss: 0.7478 - val_accuracy: 0.7495 - lr: 0.0010 - 18s/epoch - 20ms/step
Epoch 20/200
876/876 - 18s - loss: 0.7498 - accuracy: 0.7277 - val_loss: 0.7632 - val_accuracy: 0.7296 - lr: 0.0010 - 18s/epoch - 20ms/step
Epoch 21/200
876/876 - 18s - loss: 0.7290 - accuracy: 0.7286 - val_loss: 0.6797 - val_accuracy: 0.7937 - lr: 0.0010 - 18s/epoch - 21ms/step
Epoch 22/200
876/876 - 18s - loss: 0.7303 - accuracy: 0.7294 - val_loss: 0.7576 - val_accuracy: 0.7495 - lr: 0.0010 - 18s/epoch - 20ms/step
Epoch 23/200
876/876 - 18s - loss: 0.7251 - accuracy: 0.7297 - val_loss: 0.7748 - val_accuracy: 0.7319 - lr: 0.0010 - 18s/epoch - 20ms/step
Epoch 24/200
876/876 - 18s - loss: 0.7283 - accuracy: 0.7299 - val_loss: 0.7247 - val_accuracy: 0.7538 - lr: 0.0010 - 18s/epoch - 20ms/step
Epoch 25/200
876/876 - 18s - loss: 0.7263 - accuracy: 0.7310 - val_loss: 0.7150 - val_accuracy: 0.7608 - lr: 0.0010 - 18s/epoch - 21ms/step
Epoch 26/200
876/876 - 18s - loss: 0.7236 - accuracy: 0.7304 - val_loss: 0.6906 - val_accuracy: 0.7992 - lr: 0.0010 - 18s/epoch - 20ms/step
Epoch 27/200
876/876 - 18s - loss: 0.7225 - accuracy: 0.7316 - val_loss: 0.8321 - val_accuracy: 0.6921 - lr: 0.0010 - 18s/epoch - 20ms/step
Epoch 28/200
876/876 - 18s - loss: 0.7308 - accuracy: 0.7284 - val_loss: 0.7033 - val_accuracy: 0.7833 - lr: 0.0010 - 18s/epoch - 20ms/step
Epoch 29/200
876/876 - 18s - loss: 0.7209 - accuracy: 0.7313 - val_loss: 0.7391 - val_accuracy: 0.7525 - lr: 0.0010 - 18s/epoch - 20ms/step
Epoch 30/200
876/876 - 18s - loss: 0.7190 - accuracy: 0.7331 - val_loss: 0.7988 - val_accuracy: 0.7150 - lr: 0.0010 - 18s/epoch - 20ms/step
Epoch 31/200
876/876 - 18s - loss: 0.7237 - accuracy: 0.7325 - val_loss: 0.7756 - val_accuracy: 0.7731 - lr: 0.0010 - 18s/epoch - 20ms/step
Epoch 32/200
876/876 - 18s - loss: 0.7783 - accuracy: 0.7259 - val_loss: 0.6493 - val_accuracy: 0.7932 - lr: 0.0010 - 18s/epoch - 20ms/step
Epoch 33/200
876/876 - 18s - loss: 0.7206 - accuracy: 0.7317 - val_loss: 0.7833 - val_accuracy: 0.7564 - lr: 0.0010 - 18s/epoch - 20ms/step
Epoch 34/200
876/876 - 18s - loss: 0.7205 - accuracy: 0.7320 - val_loss: 0.7270 - val_accuracy: 0.7789 - lr: 0.0010 - 18s/epoch - 20ms/step
Epoch 35/200
876/876 - 18s - loss: 0.7316 - accuracy: 0.7288 - val_loss: 0.7401 - val_accuracy: 0.7804 - lr: 0.0010 - 18s/epoch - 20ms/step
Epoch 36/200
876/876 - 18s - loss: 0.7227 - accuracy: 0.7308 - val_loss: 0.6895 - val_accuracy: 0.7919 - lr: 0.0010 - 18s/epoch - 20ms/step
Epoch 37/200
876/876 - 18s - loss: 0.7187 - accuracy: 0.7333 - val_loss: 0.7248 - val_accuracy: 0.7526 - lr: 0.0010 - 18s/epoch - 21ms/step
Epoch 38/200
876/876 - 18s - loss: 0.7336 - accuracy: 0.7304 - val_loss: 0.6771 - val_accuracy: 0.7895 - lr: 0.0010 - 18s/epoch - 20ms/step
Epoch 39/200
876/876 - 18s - loss: 0.7160 - accuracy: 0.7336 - val_loss: 0.7455 - val_accuracy: 0.7287 - lr: 0.0010 - 18s/epoch - 20ms/step
Epoch 40/200
876/876 - 18s - loss: 0.7128 - accuracy: 0.7352 - val_loss: 0.7765 - val_accuracy: 0.7405 - lr: 0.0010 - 18s/epoch - 20ms/step
Epoch 41/200
876/876 - 18s - loss: 0.7182 - accuracy: 0.7343 - val_loss: 0.7265 - val_accuracy: 0.7565 - lr: 0.0010 - 18s/epoch - 20ms/step
Epoch 42/200
876/876 - 18s - loss: 0.7192 - accuracy: 0.7337 - val_loss: 0.7634 - val_accuracy: 0.7547 - lr: 0.0010 - 18s/epoch - 20ms/step
Epoch 43/200
876/876 - 18s - loss: 0.7162 - accuracy: 0.7342 - val_loss: 0.7218 - val_accuracy: 0.7727 - lr: 0.0010 - 18s/epoch - 20ms/step
Epoch 44/200
876/876 - 18s - loss: 1.3513 - accuracy: 0.7311 - val_loss: 0.6594 - val_accuracy: 0.7828 - lr: 0.0010 - 18s/epoch - 20ms/step
Epoch 45/200
876/876 - 18s - loss: 0.7951 - accuracy: 0.7185 - val_loss: 0.8109 - val_accuracy: 0.7145 - lr: 0.0010 - 18s/epoch - 20ms/step
Epoch 46/200
876/876 - 18s - loss: 0.7175 - accuracy: 0.7335 - val_loss: 0.7039 - val_accuracy: 0.7722 - lr: 0.0010 - 18s/epoch - 20ms/step
Epoch 47/200
876/876 - 18s - loss: 0.7182 - accuracy: 0.7339 - val_loss: 0.6435 - val_accuracy: 0.8060 - lr: 0.0010 - 18s/epoch - 21ms/step
Epoch 48/200
876/876 - 19s - loss: 0.7161 - accuracy: 0.7337 - val_loss: 0.6692 - val_accuracy: 0.7899 - lr: 0.0010 - 19s/epoch - 21ms/step
Epoch 49/200
876/876 - 18s - loss: 0.7127 - accuracy: 0.7348 - val_loss: 0.6892 - val_accuracy: 0.7907 - lr: 0.0010 - 18s/epoch - 21ms/step
Epoch 50/200
876/876 - 18s - loss: 0.9323 - accuracy: 0.7109 - val_loss: 0.7826 - val_accuracy: 0.7224 - lr: 0.0010 - 18s/epoch - 21ms/step
Epoch 51/200
876/876 - 19s - loss: 0.7272 - accuracy: 0.7300 - val_loss: 0.7273 - val_accuracy: 0.7629 - lr: 0.0010 - 19s/epoch - 22ms/step
Epoch 52/200
876/876 - 18s - loss: 0.7162 - accuracy: 0.7331 - val_loss: 0.6580 - val_accuracy: 0.8021 - lr: 0.0010 - 18s/epoch - 20ms/step
Epoch 53/200
876/876 - 18s - loss: 0.7227 - accuracy: 0.7322 - val_loss: 0.7176 - val_accuracy: 0.7430 - lr: 0.0010 - 18s/epoch - 20ms/step
Epoch 54/200
876/876 - 18s - loss: 0.7111 - accuracy: 0.7366 - val_loss: 0.7738 - val_accuracy: 0.7365 - lr: 0.0010 - 18s/epoch - 20ms/step
Epoch 55/200
876/876 - 18s - loss: 0.7212 - accuracy: 0.7324 - val_loss: 0.7958 - val_accuracy: 0.7542 - lr: 0.0010 - 18s/epoch - 21ms/step
Epoch 56/200
876/876 - 18s - loss: 0.7126 - accuracy: 0.7353 - val_loss: 0.7255 - val_accuracy: 0.7550 - lr: 0.0010 - 18s/epoch - 20ms/step
Epoch 57/200
876/876 - 18s - loss: 0.7113 - accuracy: 0.7347 - val_loss: 0.7043 - val_accuracy: 0.7637 - lr: 0.0010 - 18s/epoch - 20ms/step
Epoch 58/200
876/876 - 18s - loss: 0.7157 - accuracy: 0.7345 - val_loss: 0.7651 - val_accuracy: 0.7266 - lr: 0.0010 - 18s/epoch - 20ms/step
Epoch 59/200
876/876 - 18s - loss: 0.7102 - accuracy: 0.7348 - val_loss: 0.7022 - val_accuracy: 0.8048 - lr: 0.0010 - 18s/epoch - 20ms/step
Epoch 60/200
876/876 - 18s - loss: 0.7122 - accuracy: 0.7353 - val_loss: 0.7423 - val_accuracy: 0.7826 - lr: 0.0010 - 18s/epoch - 20ms/step
Epoch 61/200
876/876 - 18s - loss: 0.7114 - accuracy: 0.7356 - val_loss: 0.6537 - val_accuracy: 0.7763 - lr: 0.0010 - 18s/epoch - 20ms/step
Epoch 62/200
876/876 - 18s - loss: 0.7939 - accuracy: 0.7178 - val_loss: 0.6694 - val_accuracy: 0.7762 - lr: 0.0010 - 18s/epoch - 20ms/step
Epoch 63/200
876/876 - 18s - loss: 0.7137 - accuracy: 0.7355 - val_loss: 0.7689 - val_accuracy: 0.7174 - lr: 0.0010 - 18s/epoch - 20ms/step
Epoch 64/200
876/876 - 18s - loss: 0.7097 - accuracy: 0.7357 - val_loss: 0.7834 - val_accuracy: 0.7522 - lr: 0.0010 - 18s/epoch - 20ms/step
Epoch 65/200
876/876 - 18s - loss: 0.7189 - accuracy: 0.7358 - val_loss: 0.7886 - val_accuracy: 0.7341 - lr: 0.0010 - 18s/epoch - 20ms/step
Epoch 66/200
876/876 - 18s - loss: 0.7007 - accuracy: 0.7390 - val_loss: 0.7878 - val_accuracy: 0.7392 - lr: 0.0010 - 18s/epoch - 20ms/step
Epoch 67/200
876/876 - 18s - loss: 0.7159 - accuracy: 0.7337 - val_loss: 0.7033 - val_accuracy: 0.7597 - lr: 0.0010 - 18s/epoch - 21ms/step
Epoch 68/200
876/876 - 17s - loss: 0.7104 - accuracy: 0.7367 - val_loss: 0.7267 - val_accuracy: 0.7710 - lr: 0.0010 - 17s/epoch - 20ms/step
Epoch 69/200
876/876 - 18s - loss: 0.7091 - accuracy: 0.7360 - val_loss: 0.6870 - val_accuracy: 0.7740 - lr: 0.0010 - 18s/epoch - 20ms/step
Epoch 70/200
876/876 - 18s - loss: 0.7060 - accuracy: 0.7373 - val_loss: 0.7697 - val_accuracy: 0.7433 - lr: 0.0010 - 18s/epoch - 20ms/step
Epoch 71/200
876/876 - 18s - loss: 0.7148 - accuracy: 0.7356 - val_loss: 0.7066 - val_accuracy: 0.7634 - lr: 0.0010 - 18s/epoch - 20ms/step
Epoch 72/200
876/876 - 18s - loss: 0.7077 - accuracy: 0.7373 - val_loss: 0.7701 - val_accuracy: 0.7369 - lr: 0.0010 - 18s/epoch - 20ms/step
Epoch 73/200
876/876 - 18s - loss: 0.7031 - accuracy: 0.7374 - val_loss: 0.7029 - val_accuracy: 0.7755 - lr: 0.0010 - 18s/epoch - 20ms/step
Epoch 74/200
876/876 - 18s - loss: 0.7006 - accuracy: 0.7392 - val_loss: 0.7722 - val_accuracy: 0.7312 - lr: 0.0010 - 18s/epoch - 20ms/step
Epoch 75/200
876/876 - 18s - loss: 1.6284 - accuracy: 0.7210 - val_loss: 0.7437 - val_accuracy: 0.7677 - lr: 0.0010 - 18s/epoch - 20ms/step
Epoch 76/200
876/876 - 18s - loss: 0.7408 - accuracy: 0.7255 - val_loss: 0.7772 - val_accuracy: 0.7421 - lr: 0.0010 - 18s/epoch - 20ms/step
Epoch 77/200
876/876 - 18s - loss: 0.7177 - accuracy: 0.7334 - val_loss: 0.6948 - val_accuracy: 0.7694 - lr: 0.0010 - 18s/epoch - 20ms/step
Epoch 78/200
876/876 - 18s - loss: 0.7119 - accuracy: 0.7357 - val_loss: 0.6825 - val_accuracy: 0.7708 - lr: 0.0010 - 18s/epoch - 20ms/step
Epoch 79/200
876/876 - 18s - loss: 0.7057 - accuracy: 0.7374 - val_loss: 0.6655 - val_accuracy: 0.7876 - lr: 0.0010 - 18s/epoch - 20ms/step
Epoch 80/200
876/876 - 18s - loss: 0.7242 - accuracy: 0.7317 - val_loss: 0.7372 - val_accuracy: 0.7715 - lr: 0.0010 - 18s/epoch - 20ms/step
Epoch 81/200
876/876 - 18s - loss: 0.7098 - accuracy: 0.7357 - val_loss: 0.7799 - val_accuracy: 0.7065 - lr: 0.0010 - 18s/epoch - 20ms/step
Epoch 82/200
876/876 - 18s - loss: 0.7501 - accuracy: 0.7309 - val_loss: 0.6856 - val_accuracy: 0.7755 - lr: 0.0010 - 18s/epoch - 20ms/step
Epoch 83/200
876/876 - 18s - loss: 0.7048 - accuracy: 0.7389 - val_loss: 0.6984 - val_accuracy: 0.7585 - lr: 0.0010 - 18s/epoch - 20ms/step
Epoch 84/200
876/876 - 18s - loss: 0.7084 - accuracy: 0.7373 - val_loss: 0.7649 - val_accuracy: 0.7343 - lr: 0.0010 - 18s/epoch - 20ms/step
Epoch 85/200
876/876 - 18s - loss: 0.7054 - accuracy: 0.7381 - val_loss: 0.6684 - val_accuracy: 0.7875 - lr: 0.0010 - 18s/epoch - 20ms/step
Epoch 86/200
876/876 - 18s - loss: 0.7043 - accuracy: 0.7387 - val_loss: 0.7354 - val_accuracy: 0.7248 - lr: 0.0010 - 18s/epoch - 20ms/step
Epoch 87/200
876/876 - 18s - loss: 0.7487 - accuracy: 0.7264 - val_loss: 0.6972 - val_accuracy: 0.7548 - lr: 0.0010 - 18s/epoch - 20ms/step
Epoch 88/200
876/876 - 18s - loss: 0.7074 - accuracy: 0.7369 - val_loss: 0.7520 - val_accuracy: 0.7695 - lr: 0.0010 - 18s/epoch - 20ms/step
Epoch 89/200
876/876 - 18s - loss: 0.7042 - accuracy: 0.7389 - val_loss: 0.7994 - val_accuracy: 0.7115 - lr: 0.0010 - 18s/epoch - 20ms/step
Epoch 90/200
876/876 - 18s - loss: 0.7181 - accuracy: 0.7353 - val_loss: 0.6966 - val_accuracy: 0.7747 - lr: 0.0010 - 18s/epoch - 20ms/step
Epoch 91/200
876/876 - 18s - loss: 0.7099 - accuracy: 0.7358 - val_loss: 0.6817 - val_accuracy: 0.7555 - lr: 0.0010 - 18s/epoch - 20ms/step
Epoch 92/200
876/876 - 18s - loss: 0.6989 - accuracy: 0.7398 - val_loss: 0.7043 - val_accuracy: 0.7676 - lr: 0.0010 - 18s/epoch - 20ms/step
Epoch 93/200
876/876 - 18s - loss: 0.7167 - accuracy: 0.7356 - val_loss: 0.7349 - val_accuracy: 0.7571 - lr: 0.0010 - 18s/epoch - 20ms/step
Epoch 94/200
876/876 - 18s - loss: 0.7012 - accuracy: 0.7404 - val_loss: 0.7417 - val_accuracy: 0.7439 - lr: 0.0010 - 18s/epoch - 21ms/step
Epoch 95/200
876/876 - 18s - loss: 0.7085 - accuracy: 0.7390 - val_loss: 0.6793 - val_accuracy: 0.7734 - lr: 0.0010 - 18s/epoch - 20ms/step
Epoch 96/200
876/876 - 18s - loss: 0.7133 - accuracy: 0.7352 - val_loss: 0.6704 - val_accuracy: 0.7949 - lr: 0.0010 - 18s/epoch - 21ms/step
Epoch 97/200
876/876 - 18s - loss: 0.7099 - accuracy: 0.7350 - val_loss: 0.7055 - val_accuracy: 0.7936 - lr: 0.0010 - 18s/epoch - 20ms/step
Epoch 98/200
876/876 - 18s - loss: 0.6998 - accuracy: 0.7380 - val_loss: 0.7416 - val_accuracy: 0.7634 - lr: 0.0010 - 18s/epoch - 21ms/step
Epoch 99/200
876/876 - 18s - loss: 0.7130 - accuracy: 0.7354 - val_loss: 0.7673 - val_accuracy: 0.7352 - lr: 0.0010 - 18s/epoch - 20ms/step
Epoch 100/200
876/876 - 18s - loss: 0.7252 - accuracy: 0.7348 - val_loss: 0.7619 - val_accuracy: 0.7526 - lr: 0.0010 - 18s/epoch - 20ms/step
Epoch 101/200
876/876 - 18s - loss: 0.7012 - accuracy: 0.7395 - val_loss: 0.6558 - val_accuracy: 0.7862 - lr: 0.0010 - 18s/epoch - 21ms/step
Epoch 102/200
876/876 - 18s - loss: 0.7084 - accuracy: 0.7370 - val_loss: 0.7116 - val_accuracy: 0.7813 - lr: 0.0010 - 18s/epoch - 20ms/step
Epoch 103/200
876/876 - 18s - loss: 0.7000 - accuracy: 0.7404 - val_loss: 0.7268 - val_accuracy: 0.7550 - lr: 0.0010 - 18s/epoch - 21ms/step
Epoch 104/200
876/876 - 18s - loss: 0.7021 - accuracy: 0.7385 - val_loss: 0.6708 - val_accuracy: 0.7760 - lr: 0.0010 - 18s/epoch - 20ms/step
Epoch 105/200
876/876 - 18s - loss: 0.7061 - accuracy: 0.7405 - val_loss: 0.8686 - val_accuracy: 0.7182 - lr: 0.0010 - 18s/epoch - 21ms/step
Epoch 106/200
876/876 - 18s - loss: 0.7134 - accuracy: 0.7359 - val_loss: 0.7492 - val_accuracy: 0.8015 - lr: 0.0010 - 18s/epoch - 20ms/step
Epoch 107/200
876/876 - 18s - loss: 0.7192 - accuracy: 0.7344 - val_loss: 0.7394 - val_accuracy: 0.7571 - lr: 0.0010 - 18s/epoch - 20ms/step
Epoch 108/200
876/876 - 18s - loss: 0.6970 - accuracy: 0.7400 - val_loss: 0.7249 - val_accuracy: 0.7475 - lr: 0.0010 - 18s/epoch - 20ms/step
Epoch 109/200
876/876 - 18s - loss: 0.7235 - accuracy: 0.7327 - val_loss: 0.7410 - val_accuracy: 0.7546 - lr: 0.0010 - 18s/epoch - 21ms/step
Epoch 110/200
876/876 - 18s - loss: 0.7248 - accuracy: 0.7353 - val_loss: 0.7290 - val_accuracy: 0.7432 - lr: 0.0010 - 18s/epoch - 20ms/step
Epoch 111/200
876/876 - 18s - loss: 0.7100 - accuracy: 0.7368 - val_loss: 0.7563 - val_accuracy: 0.7356 - lr: 0.0010 - 18s/epoch - 20ms/step
Epoch 112/200
876/876 - 18s - loss: 0.7012 - accuracy: 0.7397 - val_loss: 0.8217 - val_accuracy: 0.7152 - lr: 0.0010 - 18s/epoch - 20ms/step
Epoch 113/200
876/876 - 18s - loss: 0.7103 - accuracy: 0.7372 - val_loss: 0.6976 - val_accuracy: 0.7567 - lr: 0.0010 - 18s/epoch - 20ms/step
Epoch 114/200
876/876 - 18s - loss: 0.6954 - accuracy: 0.7412 - val_loss: 0.7190 - val_accuracy: 0.7542 - lr: 0.0010 - 18s/epoch - 20ms/step
Epoch 115/200
876/876 - 18s - loss: 0.6944 - accuracy: 0.7418 - val_loss: 0.6600 - val_accuracy: 0.7968 - lr: 0.0010 - 18s/epoch - 20ms/step
Epoch 116/200
876/876 - 18s - loss: 0.6943 - accuracy: 0.7419 - val_loss: 0.7609 - val_accuracy: 0.7228 - lr: 0.0010 - 18s/epoch - 20ms/step
Epoch 117/200
876/876 - 18s - loss: 0.6953 - accuracy: 0.7413 - val_loss: 0.6758 - val_accuracy: 0.7528 - lr: 0.0010 - 18s/epoch - 20ms/step
Epoch 118/200
876/876 - 18s - loss: 0.7137 - accuracy: 0.7382 - val_loss: 0.8089 - val_accuracy: 0.7093 - lr: 0.0010 - 18s/epoch - 20ms/step
Epoch 119/200
876/876 - 18s - loss: 0.6955 - accuracy: 0.7418 - val_loss: 0.6723 - val_accuracy: 0.7643 - lr: 0.0010 - 18s/epoch - 21ms/step
Epoch 120/200
876/876 - 18s - loss: 0.6982 - accuracy: 0.7406 - val_loss: 0.6828 - val_accuracy: 0.7657 - lr: 0.0010 - 18s/epoch - 20ms/step
Epoch 121/200
876/876 - 18s - loss: 0.6929 - accuracy: 0.7417 - val_loss: 0.6677 - val_accuracy: 0.7647 - lr: 0.0010 - 18s/epoch - 20ms/step
Epoch 122/200
876/876 - 18s - loss: 0.6985 - accuracy: 0.7400 - val_loss: 0.7397 - val_accuracy: 0.7545 - lr: 0.0010 - 18s/epoch - 20ms/step
Epoch 123/200
876/876 - 18s - loss: 0.6981 - accuracy: 0.7403 - val_loss: 0.6682 - val_accuracy: 0.7877 - lr: 0.0010 - 18s/epoch - 21ms/step
Epoch 124/200
876/876 - 18s - loss: 0.6923 - accuracy: 0.7424 - val_loss: 0.6921 - val_accuracy: 0.7724 - lr: 0.0010 - 18s/epoch - 20ms/step
Epoch 125/200
876/876 - 18s - loss: 0.6875 - accuracy: 0.7435 - val_loss: 0.7370 - val_accuracy: 0.7555 - lr: 0.0010 - 18s/epoch - 20ms/step
Epoch 126/200
876/876 - 18s - loss: 0.6953 - accuracy: 0.7421 - val_loss: 0.8822 - val_accuracy: 0.6846 - lr: 0.0010 - 18s/epoch - 21ms/step
Epoch 127/200
876/876 - 18s - loss: 0.6999 - accuracy: 0.7410 - val_loss: 0.7813 - val_accuracy: 0.7247 - lr: 0.0010 - 18s/epoch - 20ms/step
Epoch 128/200
876/876 - 18s - loss: 0.7059 - accuracy: 0.7389 - val_loss: 0.6557 - val_accuracy: 0.7722 - lr: 0.0010 - 18s/epoch - 21ms/step
Epoch 129/200
876/876 - 18s - loss: 0.7091 - accuracy: 0.7395 - val_loss: 0.7145 - val_accuracy: 0.7340 - lr: 0.0010 - 18s/epoch - 20ms/step
Epoch 130/200
876/876 - 18s - loss: 0.6989 - accuracy: 0.7400 - val_loss: 0.8099 - val_accuracy: 0.7329 - lr: 0.0010 - 18s/epoch - 20ms/step
Epoch 131/200
876/876 - 18s - loss: 0.6963 - accuracy: 0.7409 - val_loss: 0.7577 - val_accuracy: 0.7346 - lr: 0.0010 - 18s/epoch - 20ms/step
Epoch 132/200
876/876 - 18s - loss: 0.7065 - accuracy: 0.7386 - val_loss: 0.6671 - val_accuracy: 0.7650 - lr: 0.0010 - 18s/epoch - 20ms/step
Epoch 133/200
876/876 - 18s - loss: 0.6919 - accuracy: 0.7416 - val_loss: 0.7944 - val_accuracy: 0.7155 - lr: 0.0010 - 18s/epoch - 21ms/step
Epoch 134/200
876/876 - 18s - loss: 0.6916 - accuracy: 0.7418 - val_loss: 0.7979 - val_accuracy: 0.7113 - lr: 0.0010 - 18s/epoch - 20ms/step
Epoch 135/200
876/876 - 18s - loss: 0.6915 - accuracy: 0.7429 - val_loss: 0.6668 - val_accuracy: 0.8071 - lr: 0.0010 - 18s/epoch - 20ms/step
Epoch 136/200
876/876 - 18s - loss: 0.7978 - accuracy: 0.7228 - val_loss: 0.6553 - val_accuracy: 0.7830 - lr: 0.0010 - 18s/epoch - 21ms/step
Epoch 137/200
876/876 - 18s - loss: 0.6960 - accuracy: 0.7412 - val_loss: 0.7296 - val_accuracy: 0.7657 - lr: 0.0010 - 18s/epoch - 20ms/step
Epoch 138/200
876/876 - 18s - loss: 0.6979 - accuracy: 0.7413 - val_loss: 0.6489 - val_accuracy: 0.7693 - lr: 0.0010 - 18s/epoch - 20ms/step
Epoch 139/200
876/876 - 18s - loss: 0.6953 - accuracy: 0.7418 - val_loss: 0.8107 - val_accuracy: 0.7114 - lr: 0.0010 - 18s/epoch - 20ms/step
Epoch 140/200
876/876 - 18s - loss: 0.7044 - accuracy: 0.7390 - val_loss: 0.7128 - val_accuracy: 0.7759 - lr: 0.0010 - 18s/epoch - 21ms/step
Epoch 141/200
876/876 - 18s - loss: 1.1848 - accuracy: 0.7269 - val_loss: 0.7468 - val_accuracy: 0.7476 - lr: 0.0010 - 18s/epoch - 20ms/step
Epoch 142/200
876/876 - 18s - loss: 0.6936 - accuracy: 0.7427 - val_loss: 0.6352 - val_accuracy: 0.7904 - lr: 0.0010 - 18s/epoch - 20ms/step
Epoch 143/200
876/876 - 18s - loss: 0.6944 - accuracy: 0.7417 - val_loss: 0.7728 - val_accuracy: 0.7294 - lr: 0.0010 - 18s/epoch - 20ms/step
Epoch 144/200
876/876 - 18s - loss: 0.6911 - accuracy: 0.7437 - val_loss: 0.6757 - val_accuracy: 0.7610 - lr: 0.0010 - 18s/epoch - 20ms/step
Epoch 145/200
876/876 - 18s - loss: 0.7132 - accuracy: 0.7344 - val_loss: 0.6789 - val_accuracy: 0.7632 - lr: 0.0010 - 18s/epoch - 21ms/step
Epoch 146/200
876/876 - 18s - loss: 0.6899 - accuracy: 0.7434 - val_loss: 0.7942 - val_accuracy: 0.7600 - lr: 0.0010 - 18s/epoch - 20ms/step
Epoch 147/200
876/876 - 18s - loss: 0.7156 - accuracy: 0.7381 - val_loss: 0.6564 - val_accuracy: 0.7684 - lr: 0.0010 - 18s/epoch - 20ms/step
Epoch 148/200
876/876 - 18s - loss: 0.6916 - accuracy: 0.7417 - val_loss: 0.7555 - val_accuracy: 0.7327 - lr: 0.0010 - 18s/epoch - 21ms/step
Epoch 149/200
876/876 - 18s - loss: 0.7084 - accuracy: 0.7389 - val_loss: 0.7874 - val_accuracy: 0.7367 - lr: 0.0010 - 18s/epoch - 20ms/step
Epoch 150/200
876/876 - 18s - loss: 0.6906 - accuracy: 0.7420 - val_loss: 0.7005 - val_accuracy: 0.7636 - lr: 0.0010 - 18s/epoch - 21ms/step
Epoch 151/200
876/876 - 18s - loss: 0.6922 - accuracy: 0.7427 - val_loss: 0.6951 - val_accuracy: 0.7869 - lr: 0.0010 - 18s/epoch - 20ms/step
Epoch 152/200
876/876 - 18s - loss: 0.6936 - accuracy: 0.7425 - val_loss: 0.7298 - val_accuracy: 0.7471 - lr: 0.0010 - 18s/epoch - 21ms/step
Epoch 153/200
876/876 - 18s - loss: 0.6964 - accuracy: 0.7403 - val_loss: 0.7276 - val_accuracy: 0.7386 - lr: 0.0010 - 18s/epoch - 20ms/step
Epoch 154/200
876/876 - 18s - loss: 0.7133 - accuracy: 0.7424 - val_loss: 0.6203 - val_accuracy: 0.8151 - lr: 0.0010 - 18s/epoch - 20ms/step
Epoch 155/200
876/876 - 18s - loss: 0.7088 - accuracy: 0.7348 - val_loss: 0.7094 - val_accuracy: 0.7661 - lr: 0.0010 - 18s/epoch - 20ms/step
Epoch 156/200
876/876 - 18s - loss: 0.7311 - accuracy: 0.7372 - val_loss: 0.6229 - val_accuracy: 0.7952 - lr: 0.0010 - 18s/epoch - 21ms/step
Epoch 157/200
876/876 - 18s - loss: 0.6955 - accuracy: 0.7417 - val_loss: 0.6733 - val_accuracy: 0.7810 - lr: 0.0010 - 18s/epoch - 20ms/step
Epoch 158/200
876/876 - 18s - loss: 0.7052 - accuracy: 0.7403 - val_loss: 0.6894 - val_accuracy: 0.7528 - lr: 0.0010 - 18s/epoch - 20ms/step
Epoch 159/200
876/876 - 18s - loss: 0.6920 - accuracy: 0.7431 - val_loss: 0.6395 - val_accuracy: 0.8021 - lr: 0.0010 - 18s/epoch - 20ms/step
Epoch 160/200
876/876 - 18s - loss: 0.7777 - accuracy: 0.7273 - val_loss: 0.6677 - val_accuracy: 0.7838 - lr: 0.0010 - 18s/epoch - 20ms/step
Epoch 161/200
876/876 - 18s - loss: 0.6912 - accuracy: 0.7428 - val_loss: 0.7361 - val_accuracy: 0.7711 - lr: 0.0010 - 18s/epoch - 20ms/step
Epoch 162/200
876/876 - 18s - loss: 0.6903 - accuracy: 0.7431 - val_loss: 0.7212 - val_accuracy: 0.7551 - lr: 0.0010 - 18s/epoch - 20ms/step
Epoch 163/200
876/876 - 18s - loss: 0.7076 - accuracy: 0.7400 - val_loss: 0.7031 - val_accuracy: 0.7777 - lr: 0.0010 - 18s/epoch - 20ms/step
Epoch 164/200
876/876 - 18s - loss: 0.8149 - accuracy: 0.7327 - val_loss: 0.7643 - val_accuracy: 0.7484 - lr: 0.0010 - 18s/epoch - 20ms/step
Epoch 165/200
876/876 - 18s - loss: 0.8006 - accuracy: 0.7024 - val_loss: 0.7208 - val_accuracy: 0.7646 - lr: 0.0010 - 18s/epoch - 20ms/step
Epoch 166/200
876/876 - 18s - loss: 0.6988 - accuracy: 0.7394 - val_loss: 0.6747 - val_accuracy: 0.7752 - lr: 0.0010 - 18s/epoch - 20ms/step
Epoch 167/200
876/876 - 18s - loss: 0.7498 - accuracy: 0.7404 - val_loss: 0.7507 - val_accuracy: 0.7349 - lr: 0.0010 - 18s/epoch - 20ms/step
Epoch 168/200
876/876 - 18s - loss: 0.6887 - accuracy: 0.7443 - val_loss: 0.6993 - val_accuracy: 0.7880 - lr: 0.0010 - 18s/epoch - 21ms/step
Epoch 169/200
876/876 - 18s - loss: 0.7039 - accuracy: 0.7418 - val_loss: 0.6965 - val_accuracy: 0.7802 - lr: 0.0010 - 18s/epoch - 20ms/step
Epoch 170/200
876/876 - 18s - loss: 0.7014 - accuracy: 0.7385 - val_loss: 0.7037 - val_accuracy: 0.7547 - lr: 0.0010 - 18s/epoch - 20ms/step
Epoch 171/200
876/876 - 18s - loss: 0.6859 - accuracy: 0.7459 - val_loss: 0.6878 - val_accuracy: 0.7543 - lr: 0.0010 - 18s/epoch - 20ms/step
Epoch 172/200
876/876 - 18s - loss: 0.6939 - accuracy: 0.7427 - val_loss: 0.7410 - val_accuracy: 0.7479 - lr: 0.0010 - 18s/epoch - 20ms/step
Epoch 173/200
876/876 - 18s - loss: 0.6979 - accuracy: 0.7419 - val_loss: 0.7292 - val_accuracy: 0.7484 - lr: 0.0010 - 18s/epoch - 20ms/step
Epoch 174/200
876/876 - 18s - loss: 0.6896 - accuracy: 0.7432 - val_loss: 0.6827 - val_accuracy: 0.7612 - lr: 0.0010 - 18s/epoch - 20ms/step
Epoch 175/200
876/876 - 18s - loss: 0.6882 - accuracy: 0.7443 - val_loss: 0.7385 - val_accuracy: 0.7567 - lr: 0.0010 - 18s/epoch - 20ms/step
Epoch 176/200
876/876 - 18s - loss: 0.8174 - accuracy: 0.7226 - val_loss: 0.7845 - val_accuracy: 0.7344 - lr: 0.0010 - 18s/epoch - 20ms/step
Epoch 177/200
876/876 - 18s - loss: 0.7182 - accuracy: 0.7350 - val_loss: 0.7852 - val_accuracy: 0.7407 - lr: 0.0010 - 18s/epoch - 20ms/step
Epoch 178/200
876/876 - 18s - loss: 0.6946 - accuracy: 0.7421 - val_loss: 0.7285 - val_accuracy: 0.7371 - lr: 0.0010 - 18s/epoch - 20ms/step
Epoch 179/200
876/876 - 18s - loss: 0.6915 - accuracy: 0.7432 - val_loss: 0.6190 - val_accuracy: 0.8018 - lr: 0.0010 - 18s/epoch - 20ms/step
Epoch 180/200
876/876 - 18s - loss: 0.7113 - accuracy: 0.7378 - val_loss: 0.6469 - val_accuracy: 0.7911 - lr: 0.0010 - 18s/epoch - 20ms/step
Epoch 181/200
876/876 - 18s - loss: 0.7192 - accuracy: 0.7397 - val_loss: 0.7251 - val_accuracy: 0.7618 - lr: 0.0010 - 18s/epoch - 20ms/step
Epoch 182/200
876/876 - 18s - loss: 0.6918 - accuracy: 0.7426 - val_loss: 0.8170 - val_accuracy: 0.7194 - lr: 0.0010 - 18s/epoch - 20ms/step
Epoch 183/200
876/876 - 18s - loss: 0.6827 - accuracy: 0.7470 - val_loss: 0.7600 - val_accuracy: 0.7405 - lr: 0.0010 - 18s/epoch - 20ms/step
Epoch 184/200
876/876 - 18s - loss: 0.7215 - accuracy: 0.7377 - val_loss: 0.7103 - val_accuracy: 0.7440 - lr: 0.0010 - 18s/epoch - 20ms/step
Epoch 185/200
876/876 - 18s - loss: 0.6864 - accuracy: 0.7446 - val_loss: 0.6819 - val_accuracy: 0.7814 - lr: 0.0010 - 18s/epoch - 20ms/step
Epoch 186/200
876/876 - 18s - loss: 0.6901 - accuracy: 0.7451 - val_loss: 0.6959 - val_accuracy: 0.7762 - lr: 0.0010 - 18s/epoch - 20ms/step
Epoch 187/200
876/876 - 18s - loss: 0.6879 - accuracy: 0.7449 - val_loss: 0.8113 - val_accuracy: 0.7305 - lr: 0.0010 - 18s/epoch - 20ms/step
Epoch 188/200
876/876 - 18s - loss: 0.6911 - accuracy: 0.7426 - val_loss: 0.6344 - val_accuracy: 0.7835 - lr: 0.0010 - 18s/epoch - 20ms/step
Epoch 189/200
876/876 - 18s - loss: 0.6854 - accuracy: 0.7446 - val_loss: 0.7634 - val_accuracy: 0.7311 - lr: 0.0010 - 18s/epoch - 21ms/step
Epoch 190/200
876/876 - 18s - loss: 0.6908 - accuracy: 0.7428 - val_loss: 0.6753 - val_accuracy: 0.7733 - lr: 0.0010 - 18s/epoch - 20ms/step
Epoch 191/200
876/876 - 18s - loss: 0.6956 - accuracy: 0.7448 - val_loss: 0.7397 - val_accuracy: 0.7495 - lr: 0.0010 - 18s/epoch - 20ms/step
Epoch 192/200
876/876 - 18s - loss: 0.6888 - accuracy: 0.7461 - val_loss: 0.7591 - val_accuracy: 0.7352 - lr: 0.0010 - 18s/epoch - 20ms/step
Epoch 193/200
876/876 - 18s - loss: 0.6903 - accuracy: 0.7438 - val_loss: 0.6485 - val_accuracy: 0.7904 - lr: 0.0010 - 18s/epoch - 20ms/step
Epoch 194/200
876/876 - 18s - loss: 0.6957 - accuracy: 0.7402 - val_loss: 0.7331 - val_accuracy: 0.7478 - lr: 0.0010 - 18s/epoch - 21ms/step
Epoch 195/200
876/876 - 18s - loss: 0.6900 - accuracy: 0.7431 - val_loss: 0.7109 - val_accuracy: 0.7637 - lr: 0.0010 - 18s/epoch - 20ms/step
Epoch 196/200
876/876 - 18s - loss: 0.6842 - accuracy: 0.7458 - val_loss: 0.7009 - val_accuracy: 0.7453 - lr: 0.0010 - 18s/epoch - 20ms/step
Epoch 197/200
876/876 - 18s - loss: 0.7010 - accuracy: 0.7425 - val_loss: 0.7859 - val_accuracy: 0.7294 - lr: 0.0010 - 18s/epoch - 20ms/step
Epoch 198/200
876/876 - 18s - loss: 0.6856 - accuracy: 0.7454 - val_loss: 0.7955 - val_accuracy: 0.7215 - lr: 0.0010 - 18s/epoch - 20ms/step
Epoch 199/200
876/876 - 18s - loss: 0.6810 - accuracy: 0.7453 - val_loss: 0.7090 - val_accuracy: 0.7490 - lr: 0.0010 - 18s/epoch - 20ms/step
Epoch 200/200
876/876 - 18s - loss: 0.6894 - accuracy: 0.7439 - val_loss: 0.7744 - val_accuracy: 0.7393 - lr: 0.0010 - 18s/epoch - 21ms/step
fitting with batch size: 500
Epoch 1/200
176/176 - 17s - loss: 0.6450 - accuracy: 0.7603 - val_loss: 0.6733 - val_accuracy: 0.7644 - lr: 0.0010 - 17s/epoch - 95ms/step
Epoch 2/200
176/176 - 10s - loss: 0.6416 - accuracy: 0.7613 - val_loss: 0.7269 - val_accuracy: 0.7429 - lr: 0.0010 - 10s/epoch - 55ms/step
Epoch 3/200
176/176 - 10s - loss: 0.6472 - accuracy: 0.7585 - val_loss: 0.6791 - val_accuracy: 0.7751 - lr: 0.0010 - 10s/epoch - 56ms/step
Epoch 4/200
176/176 - 10s - loss: 0.6439 - accuracy: 0.7595 - val_loss: 0.6624 - val_accuracy: 0.7664 - lr: 0.0010 - 10s/epoch - 55ms/step
Epoch 5/200
176/176 - 10s - loss: 0.6472 - accuracy: 0.7579 - val_loss: 0.6880 - val_accuracy: 0.7574 - lr: 0.0010 - 10s/epoch - 56ms/step
Epoch 6/200
176/176 - 10s - loss: 0.6434 - accuracy: 0.7600 - val_loss: 0.6947 - val_accuracy: 0.7648 - lr: 0.0010 - 10s/epoch - 56ms/step
Epoch 7/200
176/176 - 10s - loss: 0.6690 - accuracy: 0.7540 - val_loss: 0.6633 - val_accuracy: 0.7765 - lr: 0.0010 - 10s/epoch - 56ms/step
Epoch 8/200
176/176 - 10s - loss: 0.6423 - accuracy: 0.7606 - val_loss: 0.7093 - val_accuracy: 0.7649 - lr: 0.0010 - 10s/epoch - 55ms/step
Epoch 9/200
176/176 - 10s - loss: 0.6376 - accuracy: 0.7615 - val_loss: 0.6394 - val_accuracy: 0.7831 - lr: 0.0010 - 10s/epoch - 56ms/step
Epoch 10/200
176/176 - 10s - loss: 0.6381 - accuracy: 0.7622 - val_loss: 0.6938 - val_accuracy: 0.7584 - lr: 0.0010 - 10s/epoch - 55ms/step
Epoch 11/200
176/176 - 10s - loss: 0.6432 - accuracy: 0.7603 - val_loss: 0.6816 - val_accuracy: 0.7637 - lr: 0.0010 - 10s/epoch - 56ms/step
Epoch 12/200
176/176 - 10s - loss: 0.6370 - accuracy: 0.7623 - val_loss: 0.6603 - val_accuracy: 0.7725 - lr: 0.0010 - 10s/epoch - 55ms/step
Epoch 13/200
176/176 - 10s - loss: 0.6568 - accuracy: 0.7560 - val_loss: 0.6899 - val_accuracy: 0.7671 - lr: 0.0010 - 10s/epoch - 55ms/step
Epoch 14/200
176/176 - 10s - loss: 0.6449 - accuracy: 0.7601 - val_loss: 0.7020 - val_accuracy: 0.7571 - lr: 0.0010 - 10s/epoch - 55ms/step
Epoch 15/200
176/176 - 10s - loss: 0.6757 - accuracy: 0.7503 - val_loss: 0.7200 - val_accuracy: 0.7581 - lr: 0.0010 - 10s/epoch - 55ms/step
Epoch 16/200
176/176 - 10s - loss: 0.6386 - accuracy: 0.7609 - val_loss: 0.6693 - val_accuracy: 0.7724 - lr: 0.0010 - 10s/epoch - 56ms/step
Epoch 17/200
176/176 - 10s - loss: 0.6371 - accuracy: 0.7615 - val_loss: 0.6920 - val_accuracy: 0.7622 - lr: 0.0010 - 10s/epoch - 55ms/step
Epoch 18/200
176/176 - 10s - loss: 0.6348 - accuracy: 0.7625 - val_loss: 0.6592 - val_accuracy: 0.7701 - lr: 0.0010 - 10s/epoch - 55ms/step
Epoch 19/200
176/176 - 10s - loss: 0.6331 - accuracy: 0.7632 - val_loss: 0.6225 - val_accuracy: 0.7948 - lr: 0.0010 - 10s/epoch - 55ms/step
Epoch 20/200
176/176 - 10s - loss: 0.6371 - accuracy: 0.7624 - val_loss: 0.6677 - val_accuracy: 0.7749 - lr: 0.0010 - 10s/epoch - 55ms/step
Epoch 21/200
176/176 - 10s - loss: 0.6517 - accuracy: 0.7564 - val_loss: 0.6641 - val_accuracy: 0.7721 - lr: 0.0010 - 10s/epoch - 56ms/step
Epoch 22/200
176/176 - 10s - loss: 0.6341 - accuracy: 0.7634 - val_loss: 0.7022 - val_accuracy: 0.7547 - lr: 0.0010 - 10s/epoch - 55ms/step
Epoch 23/200
176/176 - 10s - loss: 0.6347 - accuracy: 0.7633 - val_loss: 0.6643 - val_accuracy: 0.7735 - lr: 0.0010 - 10s/epoch - 55ms/step
Epoch 24/200
176/176 - 10s - loss: 0.6326 - accuracy: 0.7639 - val_loss: 0.6651 - val_accuracy: 0.7689 - lr: 0.0010 - 10s/epoch - 56ms/step
Epoch 25/200
176/176 - 10s - loss: 0.6445 - accuracy: 0.7600 - val_loss: 0.6375 - val_accuracy: 0.7879 - lr: 0.0010 - 10s/epoch - 55ms/step
Epoch 26/200
176/176 - 10s - loss: 0.6343 - accuracy: 0.7638 - val_loss: 0.6995 - val_accuracy: 0.7441 - lr: 0.0010 - 10s/epoch - 57ms/step
Epoch 27/200
176/176 - 10s - loss: 0.6360 - accuracy: 0.7633 - val_loss: 0.7321 - val_accuracy: 0.7410 - lr: 0.0010 - 10s/epoch - 55ms/step
Epoch 28/200
176/176 - 10s - loss: 0.6320 - accuracy: 0.7628 - val_loss: 0.7055 - val_accuracy: 0.7550 - lr: 0.0010 - 10s/epoch - 56ms/step
Epoch 29/200
176/176 - 10s - loss: 0.6343 - accuracy: 0.7631 - val_loss: 0.6909 - val_accuracy: 0.7584 - lr: 0.0010 - 10s/epoch - 56ms/step
Epoch 30/200
176/176 - 10s - loss: 0.6365 - accuracy: 0.7621 - val_loss: 0.6946 - val_accuracy: 0.7454 - lr: 0.0010 - 10s/epoch - 55ms/step
Epoch 31/200
176/176 - 10s - loss: 0.6309 - accuracy: 0.7639 - val_loss: 0.7626 - val_accuracy: 0.7299 - lr: 0.0010 - 10s/epoch - 55ms/step
Epoch 32/200
176/176 - 10s - loss: 0.6324 - accuracy: 0.7643 - val_loss: 0.7691 - val_accuracy: 0.7380 - lr: 0.0010 - 10s/epoch - 55ms/step
Epoch 33/200
176/176 - 10s - loss: 0.6836 - accuracy: 0.7459 - val_loss: 0.7175 - val_accuracy: 0.7637 - lr: 0.0010 - 10s/epoch - 55ms/step
Epoch 34/200
176/176 - 10s - loss: 0.6566 - accuracy: 0.7536 - val_loss: 0.7088 - val_accuracy: 0.7454 - lr: 0.0010 - 10s/epoch - 56ms/step
Epoch 35/200
176/176 - 10s - loss: 0.6330 - accuracy: 0.7652 - val_loss: 0.6876 - val_accuracy: 0.7593 - lr: 0.0010 - 10s/epoch - 55ms/step
Epoch 36/200
176/176 - 10s - loss: 0.6397 - accuracy: 0.7616 - val_loss: 0.7508 - val_accuracy: 0.7353 - lr: 0.0010 - 10s/epoch - 56ms/step
Epoch 37/200
176/176 - 10s - loss: 0.6376 - accuracy: 0.7623 - val_loss: 0.7209 - val_accuracy: 0.7318 - lr: 0.0010 - 10s/epoch - 56ms/step
Epoch 38/200
176/176 - 10s - loss: 0.6284 - accuracy: 0.7654 - val_loss: 0.7585 - val_accuracy: 0.7353 - lr: 0.0010 - 10s/epoch - 55ms/step
Epoch 39/200
176/176 - 10s - loss: 0.6896 - accuracy: 0.7521 - val_loss: 0.6675 - val_accuracy: 0.7694 - lr: 0.0010 - 10s/epoch - 56ms/step
Epoch 40/200
176/176 - 10s - loss: 0.6280 - accuracy: 0.7677 - val_loss: 0.6939 - val_accuracy: 0.7616 - lr: 0.0010 - 10s/epoch - 55ms/step
Epoch 41/200
176/176 - 10s - loss: 0.6334 - accuracy: 0.7633 - val_loss: 0.6844 - val_accuracy: 0.7680 - lr: 0.0010 - 10s/epoch - 55ms/step
Epoch 42/200
176/176 - 10s - loss: 0.6291 - accuracy: 0.7653 - val_loss: 0.7237 - val_accuracy: 0.7520 - lr: 0.0010 - 10s/epoch - 56ms/step
Epoch 43/200
176/176 - 10s - loss: 0.6356 - accuracy: 0.7637 - val_loss: 0.6368 - val_accuracy: 0.7783 - lr: 0.0010 - 10s/epoch - 56ms/step
Epoch 44/200
176/176 - 10s - loss: 0.6297 - accuracy: 0.7646 - val_loss: 0.7177 - val_accuracy: 0.7490 - lr: 0.0010 - 10s/epoch - 56ms/step
Epoch 45/200
176/176 - 10s - loss: 0.6330 - accuracy: 0.7627 - val_loss: 0.6811 - val_accuracy: 0.7615 - lr: 0.0010 - 10s/epoch - 55ms/step
Epoch 46/200
176/176 - 10s - loss: 0.6321 - accuracy: 0.7640 - val_loss: 0.7090 - val_accuracy: 0.7611 - lr: 0.0010 - 10s/epoch - 55ms/step
Epoch 47/200
176/176 - 10s - loss: 0.6273 - accuracy: 0.7664 - val_loss: 0.6923 - val_accuracy: 0.7521 - lr: 0.0010 - 10s/epoch - 56ms/step
Epoch 48/200
176/176 - 10s - loss: 0.6322 - accuracy: 0.7635 - val_loss: 0.7909 - val_accuracy: 0.7138 - lr: 0.0010 - 10s/epoch - 56ms/step
Epoch 49/200
176/176 - 10s - loss: 0.6262 - accuracy: 0.7656 - val_loss: 0.6943 - val_accuracy: 0.7661 - lr: 0.0010 - 10s/epoch - 55ms/step
Epoch 50/200
176/176 - 10s - loss: 0.6275 - accuracy: 0.7661 - val_loss: 0.6705 - val_accuracy: 0.7696 - lr: 0.0010 - 10s/epoch - 56ms/step
Epoch 51/200
176/176 - 10s - loss: 0.6332 - accuracy: 0.7622 - val_loss: 0.6833 - val_accuracy: 0.7537 - lr: 0.0010 - 10s/epoch - 55ms/step
Epoch 52/200
176/176 - 10s - loss: 0.6254 - accuracy: 0.7667 - val_loss: 0.7075 - val_accuracy: 0.7590 - lr: 0.0010 - 10s/epoch - 57ms/step
Epoch 53/200
176/176 - 10s - loss: 0.6255 - accuracy: 0.7658 - val_loss: 0.7221 - val_accuracy: 0.7520 - lr: 0.0010 - 10s/epoch - 56ms/step
Epoch 54/200
176/176 - 10s - loss: 0.6406 - accuracy: 0.7626 - val_loss: 0.6895 - val_accuracy: 0.7524 - lr: 0.0010 - 10s/epoch - 56ms/step
Epoch 55/200
176/176 - 10s - loss: 0.6739 - accuracy: 0.7493 - val_loss: 0.5994 - val_accuracy: 0.7978 - lr: 0.0010 - 10s/epoch - 56ms/step
Epoch 56/200
176/176 - 10s - loss: 0.6268 - accuracy: 0.7660 - val_loss: 0.7195 - val_accuracy: 0.7396 - lr: 0.0010 - 10s/epoch - 55ms/step
Epoch 57/200
176/176 - 10s - loss: 0.6248 - accuracy: 0.7663 - val_loss: 0.7285 - val_accuracy: 0.7448 - lr: 0.0010 - 10s/epoch - 56ms/step
Epoch 58/200
176/176 - 10s - loss: 0.6255 - accuracy: 0.7668 - val_loss: 0.7100 - val_accuracy: 0.7526 - lr: 0.0010 - 10s/epoch - 56ms/step
Epoch 59/200
176/176 - 10s - loss: 0.6277 - accuracy: 0.7652 - val_loss: 0.7296 - val_accuracy: 0.7390 - lr: 0.0010 - 10s/epoch - 56ms/step
Epoch 60/200
176/176 - 10s - loss: 0.6222 - accuracy: 0.7675 - val_loss: 0.6559 - val_accuracy: 0.7655 - lr: 0.0010 - 10s/epoch - 56ms/step
Epoch 61/200
176/176 - 10s - loss: 0.6263 - accuracy: 0.7669 - val_loss: 0.6780 - val_accuracy: 0.7703 - lr: 0.0010 - 10s/epoch - 56ms/step
Epoch 62/200
176/176 - 10s - loss: 0.6254 - accuracy: 0.7661 - val_loss: 0.7163 - val_accuracy: 0.7522 - lr: 0.0010 - 10s/epoch - 55ms/step
Epoch 63/200
176/176 - 10s - loss: 0.6294 - accuracy: 0.7661 - val_loss: 0.6472 - val_accuracy: 0.7882 - lr: 0.0010 - 10s/epoch - 56ms/step
Epoch 64/200
176/176 - 10s - loss: 0.6239 - accuracy: 0.7666 - val_loss: 0.6676 - val_accuracy: 0.7736 - lr: 0.0010 - 10s/epoch - 55ms/step
Epoch 65/200
176/176 - 10s - loss: 0.6266 - accuracy: 0.7670 - val_loss: 0.7015 - val_accuracy: 0.7511 - lr: 0.0010 - 10s/epoch - 56ms/step
Epoch 66/200
176/176 - 10s - loss: 0.6232 - accuracy: 0.7674 - val_loss: 0.6775 - val_accuracy: 0.7607 - lr: 0.0010 - 10s/epoch - 57ms/step
Epoch 67/200
176/176 - 10s - loss: 0.6257 - accuracy: 0.7663 - val_loss: 0.7802 - val_accuracy: 0.7149 - lr: 0.0010 - 10s/epoch - 55ms/step
Epoch 68/200
176/176 - 10s - loss: 0.6227 - accuracy: 0.7679 - val_loss: 0.6826 - val_accuracy: 0.7582 - lr: 0.0010 - 10s/epoch - 56ms/step
Epoch 69/200
176/176 - 10s - loss: 0.6214 - accuracy: 0.7681 - val_loss: 0.7157 - val_accuracy: 0.7538 - lr: 0.0010 - 10s/epoch - 55ms/step
Epoch 70/200
176/176 - 10s - loss: 0.6212 - accuracy: 0.7672 - val_loss: 0.6993 - val_accuracy: 0.7557 - lr: 0.0010 - 10s/epoch - 56ms/step
Epoch 71/200
176/176 - 10s - loss: 0.6222 - accuracy: 0.7681 - val_loss: 0.6857 - val_accuracy: 0.7585 - lr: 0.0010 - 10s/epoch - 55ms/step
Epoch 72/200
176/176 - 10s - loss: 0.6218 - accuracy: 0.7690 - val_loss: 0.6601 - val_accuracy: 0.7696 - lr: 0.0010 - 10s/epoch - 55ms/step
Epoch 73/200
176/176 - 10s - loss: 0.6232 - accuracy: 0.7673 - val_loss: 0.7371 - val_accuracy: 0.7315 - lr: 0.0010 - 10s/epoch - 56ms/step
Epoch 74/200
176/176 - 10s - loss: 0.6244 - accuracy: 0.7672 - val_loss: 0.6494 - val_accuracy: 0.7801 - lr: 0.0010 - 10s/epoch - 56ms/step
Epoch 75/200
176/176 - 10s - loss: 0.6254 - accuracy: 0.7677 - val_loss: 0.6962 - val_accuracy: 0.7556 - lr: 0.0010 - 10s/epoch - 56ms/step
Epoch 76/200
176/176 - 10s - loss: 0.6205 - accuracy: 0.7687 - val_loss: 0.6962 - val_accuracy: 0.7555 - lr: 0.0010 - 10s/epoch - 56ms/step
Epoch 77/200
176/176 - 10s - loss: 0.6493 - accuracy: 0.7594 - val_loss: 0.7242 - val_accuracy: 0.7586 - lr: 0.0010 - 10s/epoch - 56ms/step
Epoch 78/200
176/176 - 10s - loss: 0.6275 - accuracy: 0.7659 - val_loss: 0.7335 - val_accuracy: 0.7543 - lr: 0.0010 - 10s/epoch - 55ms/step
Epoch 79/200
176/176 - 10s - loss: 0.6191 - accuracy: 0.7686 - val_loss: 0.7081 - val_accuracy: 0.7514 - lr: 0.0010 - 10s/epoch - 55ms/step
Epoch 80/200
176/176 - 10s - loss: 0.6239 - accuracy: 0.7681 - val_loss: 0.7495 - val_accuracy: 0.7411 - lr: 0.0010 - 10s/epoch - 55ms/step
Epoch 81/200
176/176 - 10s - loss: 0.6204 - accuracy: 0.7686 - val_loss: 0.6559 - val_accuracy: 0.7709 - lr: 0.0010 - 10s/epoch - 56ms/step
Epoch 82/200
176/176 - 10s - loss: 0.6261 - accuracy: 0.7668 - val_loss: 0.7384 - val_accuracy: 0.7329 - lr: 0.0010 - 10s/epoch - 55ms/step
Epoch 83/200
176/176 - 10s - loss: 0.6172 - accuracy: 0.7704 - val_loss: 0.6357 - val_accuracy: 0.7839 - lr: 0.0010 - 10s/epoch - 56ms/step
Epoch 84/200
176/176 - 10s - loss: 0.6179 - accuracy: 0.7693 - val_loss: 0.6393 - val_accuracy: 0.7815 - lr: 0.0010 - 10s/epoch - 56ms/step
Epoch 85/200
176/176 - 10s - loss: 0.6237 - accuracy: 0.7676 - val_loss: 0.6831 - val_accuracy: 0.7562 - lr: 0.0010 - 10s/epoch - 56ms/step
Epoch 86/200
176/176 - 10s - loss: 0.6189 - accuracy: 0.7687 - val_loss: 0.6584 - val_accuracy: 0.7659 - lr: 0.0010 - 10s/epoch - 56ms/step
Epoch 87/200
176/176 - 10s - loss: 0.6371 - accuracy: 0.7619 - val_loss: 0.6571 - val_accuracy: 0.7903 - lr: 0.0010 - 10s/epoch - 55ms/step
Epoch 88/200
176/176 - 10s - loss: 0.6254 - accuracy: 0.7665 - val_loss: 0.7247 - val_accuracy: 0.7535 - lr: 0.0010 - 10s/epoch - 55ms/step
Epoch 89/200
176/176 - 10s - loss: 0.6167 - accuracy: 0.7691 - val_loss: 0.6333 - val_accuracy: 0.7799 - lr: 0.0010 - 10s/epoch - 56ms/step
Epoch 90/200
176/176 - 10s - loss: 0.6296 - accuracy: 0.7658 - val_loss: 0.7120 - val_accuracy: 0.7583 - lr: 0.0010 - 10s/epoch - 55ms/step
Epoch 91/200
176/176 - 10s - loss: 0.6316 - accuracy: 0.7641 - val_loss: 0.6755 - val_accuracy: 0.7630 - lr: 0.0010 - 10s/epoch - 55ms/step
Epoch 92/200
176/176 - 10s - loss: 0.6176 - accuracy: 0.7694 - val_loss: 0.6705 - val_accuracy: 0.7690 - lr: 0.0010 - 10s/epoch - 56ms/step
Epoch 93/200
176/176 - 10s - loss: 0.6321 - accuracy: 0.7642 - val_loss: 0.7006 - val_accuracy: 0.7496 - lr: 0.0010 - 10s/epoch - 55ms/step
Epoch 94/200
176/176 - 10s - loss: 0.6161 - accuracy: 0.7698 - val_loss: 0.6999 - val_accuracy: 0.7565 - lr: 0.0010 - 10s/epoch - 56ms/step
Epoch 95/200
176/176 - 10s - loss: 0.6148 - accuracy: 0.7714 - val_loss: 0.6779 - val_accuracy: 0.7648 - lr: 0.0010 - 10s/epoch - 55ms/step
Epoch 96/200
176/176 - 10s - loss: 0.6156 - accuracy: 0.7701 - val_loss: 0.6800 - val_accuracy: 0.7699 - lr: 0.0010 - 10s/epoch - 56ms/step
Epoch 97/200
176/176 - 10s - loss: 0.6207 - accuracy: 0.7681 - val_loss: 0.7218 - val_accuracy: 0.7435 - lr: 0.0010 - 10s/epoch - 56ms/step
Epoch 98/200
176/176 - 10s - loss: 0.6178 - accuracy: 0.7701 - val_loss: 0.7490 - val_accuracy: 0.7263 - lr: 0.0010 - 10s/epoch - 56ms/step
Epoch 99/200
176/176 - 10s - loss: 0.6176 - accuracy: 0.7694 - val_loss: 0.6874 - val_accuracy: 0.7680 - lr: 0.0010 - 10s/epoch - 55ms/step
Epoch 100/200
176/176 - 10s - loss: 0.6167 - accuracy: 0.7696 - val_loss: 0.6561 - val_accuracy: 0.7768 - lr: 0.0010 - 10s/epoch - 56ms/step
Epoch 101/200
176/176 - 10s - loss: 0.6196 - accuracy: 0.7682 - val_loss: 0.7196 - val_accuracy: 0.7578 - lr: 0.0010 - 10s/epoch - 56ms/step
Epoch 102/200
176/176 - 10s - loss: 0.6318 - accuracy: 0.7644 - val_loss: 0.7577 - val_accuracy: 0.7335 - lr: 0.0010 - 10s/epoch - 56ms/step
Epoch 103/200
176/176 - 10s - loss: 0.6151 - accuracy: 0.7705 - val_loss: 0.6920 - val_accuracy: 0.7526 - lr: 0.0010 - 10s/epoch - 57ms/step
Epoch 104/200
176/176 - 10s - loss: 0.6158 - accuracy: 0.7716 - val_loss: 0.6969 - val_accuracy: 0.7563 - lr: 0.0010 - 10s/epoch - 55ms/step
Epoch 105/200
176/176 - 10s - loss: 0.6304 - accuracy: 0.7637 - val_loss: 0.7050 - val_accuracy: 0.7468 - lr: 0.0010 - 10s/epoch - 56ms/step
Epoch 106/200
176/176 - 10s - loss: 0.6123 - accuracy: 0.7717 - val_loss: 0.6633 - val_accuracy: 0.7763 - lr: 0.0010 - 10s/epoch - 55ms/step
Epoch 107/200
176/176 - 10s - loss: 0.6635 - accuracy: 0.7544 - val_loss: 0.7057 - val_accuracy: 0.7670 - lr: 0.0010 - 10s/epoch - 56ms/step
Epoch 108/200
176/176 - 10s - loss: 0.6226 - accuracy: 0.7682 - val_loss: 0.6227 - val_accuracy: 0.7800 - lr: 0.0010 - 10s/epoch - 55ms/step
Epoch 109/200
176/176 - 10s - loss: 0.6150 - accuracy: 0.7698 - val_loss: 0.6756 - val_accuracy: 0.7698 - lr: 0.0010 - 10s/epoch - 56ms/step
Epoch 110/200
176/176 - 10s - loss: 0.6164 - accuracy: 0.7683 - val_loss: 0.7096 - val_accuracy: 0.7543 - lr: 0.0010 - 10s/epoch - 56ms/step
Epoch 111/200
176/176 - 10s - loss: 0.6158 - accuracy: 0.7692 - val_loss: 0.6947 - val_accuracy: 0.7616 - lr: 0.0010 - 10s/epoch - 55ms/step
Epoch 112/200
176/176 - 10s - loss: 0.6619 - accuracy: 0.7594 - val_loss: 0.7205 - val_accuracy: 0.7494 - lr: 0.0010 - 10s/epoch - 56ms/step
Epoch 113/200
176/176 - 10s - loss: 0.6299 - accuracy: 0.7651 - val_loss: 0.7049 - val_accuracy: 0.7501 - lr: 0.0010 - 10s/epoch - 57ms/step
Epoch 114/200
176/176 - 10s - loss: 0.6159 - accuracy: 0.7704 - val_loss: 0.7003 - val_accuracy: 0.7553 - lr: 0.0010 - 10s/epoch - 56ms/step
Epoch 115/200
176/176 - 10s - loss: 0.6137 - accuracy: 0.7706 - val_loss: 0.7121 - val_accuracy: 0.7511 - lr: 0.0010 - 10s/epoch - 56ms/step
Epoch 116/200
176/176 - 10s - loss: 0.6115 - accuracy: 0.7717 - val_loss: 0.6934 - val_accuracy: 0.7568 - lr: 0.0010 - 10s/epoch - 56ms/step
Epoch 117/200
176/176 - 10s - loss: 0.6127 - accuracy: 0.7710 - val_loss: 0.7151 - val_accuracy: 0.7539 - lr: 0.0010 - 10s/epoch - 55ms/step
Epoch 118/200
176/176 - 10s - loss: 0.6148 - accuracy: 0.7706 - val_loss: 0.6916 - val_accuracy: 0.7553 - lr: 0.0010 - 10s/epoch - 56ms/step
Epoch 119/200
176/176 - 10s - loss: 0.6236 - accuracy: 0.7676 - val_loss: 0.6684 - val_accuracy: 0.7658 - lr: 0.0010 - 10s/epoch - 55ms/step
Epoch 120/200
176/176 - 10s - loss: 0.6130 - accuracy: 0.7716 - val_loss: 0.6554 - val_accuracy: 0.7770 - lr: 0.0010 - 10s/epoch - 56ms/step
Epoch 121/200
176/176 - 10s - loss: 0.6115 - accuracy: 0.7715 - val_loss: 0.6683 - val_accuracy: 0.7607 - lr: 0.0010 - 10s/epoch - 56ms/step
Epoch 122/200
176/176 - 10s - loss: 0.6121 - accuracy: 0.7721 - val_loss: 0.6812 - val_accuracy: 0.7669 - lr: 0.0010 - 10s/epoch - 55ms/step
Epoch 123/200
176/176 - 10s - loss: 0.6278 - accuracy: 0.7670 - val_loss: 0.7463 - val_accuracy: 0.7375 - lr: 0.0010 - 10s/epoch - 56ms/step
Epoch 124/200
176/176 - 10s - loss: 0.6137 - accuracy: 0.7712 - val_loss: 0.6505 - val_accuracy: 0.7822 - lr: 0.0010 - 10s/epoch - 56ms/step
Epoch 125/200
176/176 - 10s - loss: 0.6124 - accuracy: 0.7708 - val_loss: 0.7082 - val_accuracy: 0.7467 - lr: 0.0010 - 10s/epoch - 56ms/step
Epoch 126/200
176/176 - 10s - loss: 0.6166 - accuracy: 0.7704 - val_loss: 0.7483 - val_accuracy: 0.7272 - lr: 0.0010 - 10s/epoch - 56ms/step
Epoch 127/200
176/176 - 10s - loss: 0.6097 - accuracy: 0.7724 - val_loss: 0.6390 - val_accuracy: 0.7848 - lr: 0.0010 - 10s/epoch - 56ms/step
Epoch 128/200
176/176 - 10s - loss: 0.6174 - accuracy: 0.7692 - val_loss: 0.7022 - val_accuracy: 0.7473 - lr: 0.0010 - 10s/epoch - 55ms/step
Epoch 129/200
176/176 - 10s - loss: 0.6147 - accuracy: 0.7705 - val_loss: 0.6906 - val_accuracy: 0.7681 - lr: 0.0010 - 10s/epoch - 56ms/step
Epoch 130/200
176/176 - 10s - loss: 0.6082 - accuracy: 0.7728 - val_loss: 0.6740 - val_accuracy: 0.7710 - lr: 0.0010 - 10s/epoch - 55ms/step
Epoch 131/200
176/176 - 10s - loss: 0.6101 - accuracy: 0.7716 - val_loss: 0.7075 - val_accuracy: 0.7458 - lr: 0.0010 - 10s/epoch - 57ms/step
Epoch 132/200
176/176 - 10s - loss: 0.6157 - accuracy: 0.7697 - val_loss: 0.7104 - val_accuracy: 0.7520 - lr: 0.0010 - 10s/epoch - 55ms/step
Epoch 133/200
176/176 - 10s - loss: 0.6174 - accuracy: 0.7692 - val_loss: 0.6913 - val_accuracy: 0.7496 - lr: 0.0010 - 10s/epoch - 56ms/step
Epoch 134/200
176/176 - 10s - loss: 0.6120 - accuracy: 0.7707 - val_loss: 0.6963 - val_accuracy: 0.7696 - lr: 0.0010 - 10s/epoch - 56ms/step
Epoch 135/200
176/176 - 10s - loss: 0.6129 - accuracy: 0.7721 - val_loss: 0.7024 - val_accuracy: 0.7453 - lr: 0.0010 - 10s/epoch - 55ms/step
Epoch 136/200
176/176 - 10s - loss: 0.6134 - accuracy: 0.7721 - val_loss: 0.6661 - val_accuracy: 0.7694 - lr: 0.0010 - 10s/epoch - 55ms/step
Epoch 137/200
176/176 - 10s - loss: 0.6068 - accuracy: 0.7742 - val_loss: 0.6787 - val_accuracy: 0.7636 - lr: 0.0010 - 10s/epoch - 56ms/step
Epoch 138/200
176/176 - 10s - loss: 0.6292 - accuracy: 0.7672 - val_loss: 0.6764 - val_accuracy: 0.7598 - lr: 0.0010 - 10s/epoch - 55ms/step
Epoch 139/200
176/176 - 10s - loss: 0.6100 - accuracy: 0.7737 - val_loss: 0.6891 - val_accuracy: 0.7605 - lr: 0.0010 - 10s/epoch - 56ms/step
Epoch 140/200
176/176 - 10s - loss: 0.6063 - accuracy: 0.7747 - val_loss: 0.7223 - val_accuracy: 0.7491 - lr: 0.0010 - 10s/epoch - 56ms/step
Epoch 141/200
176/176 - 10s - loss: 0.6225 - accuracy: 0.7679 - val_loss: 0.7777 - val_accuracy: 0.7187 - lr: 0.0010 - 10s/epoch - 55ms/step
Epoch 142/200
176/176 - 10s - loss: 0.6094 - accuracy: 0.7724 - val_loss: 0.6631 - val_accuracy: 0.7697 - lr: 0.0010 - 10s/epoch - 56ms/step
Epoch 143/200
176/176 - 10s - loss: 0.6108 - accuracy: 0.7723 - val_loss: 0.6691 - val_accuracy: 0.7731 - lr: 0.0010 - 10s/epoch - 56ms/step
Epoch 144/200
176/176 - 10s - loss: 0.6119 - accuracy: 0.7715 - val_loss: 0.6971 - val_accuracy: 0.7532 - lr: 0.0010 - 10s/epoch - 56ms/step
Epoch 145/200
176/176 - 10s - loss: 0.6114 - accuracy: 0.7717 - val_loss: 0.6819 - val_accuracy: 0.7667 - lr: 0.0010 - 10s/epoch - 55ms/step
Epoch 146/200
176/176 - 10s - loss: 0.6577 - accuracy: 0.7605 - val_loss: 0.7971 - val_accuracy: 0.7287 - lr: 0.0010 - 10s/epoch - 56ms/step
Epoch 147/200
176/176 - 10s - loss: 0.6518 - accuracy: 0.7559 - val_loss: 0.7362 - val_accuracy: 0.7409 - lr: 0.0010 - 10s/epoch - 56ms/step
Epoch 148/200
176/176 - 10s - loss: 0.6160 - accuracy: 0.7707 - val_loss: 0.6953 - val_accuracy: 0.7595 - lr: 0.0010 - 10s/epoch - 55ms/step
Epoch 149/200
176/176 - 10s - loss: 0.6158 - accuracy: 0.7700 - val_loss: 0.7194 - val_accuracy: 0.7512 - lr: 0.0010 - 10s/epoch - 56ms/step
Epoch 150/200
176/176 - 10s - loss: 0.6082 - accuracy: 0.7736 - val_loss: 0.7142 - val_accuracy: 0.7442 - lr: 0.0010 - 10s/epoch - 56ms/step
Epoch 151/200
176/176 - 10s - loss: 0.6174 - accuracy: 0.7699 - val_loss: 0.7147 - val_accuracy: 0.7474 - lr: 0.0010 - 10s/epoch - 55ms/step
Epoch 152/200
176/176 - 10s - loss: 0.6072 - accuracy: 0.7734 - val_loss: 0.7289 - val_accuracy: 0.7442 - lr: 0.0010 - 10s/epoch - 55ms/step
Epoch 153/200
176/176 - 10s - loss: 0.6093 - accuracy: 0.7735 - val_loss: 0.6967 - val_accuracy: 0.7679 - lr: 0.0010 - 10s/epoch - 55ms/step
Epoch 154/200
176/176 - 10s - loss: 0.6138 - accuracy: 0.7715 - val_loss: 0.7321 - val_accuracy: 0.7428 - lr: 0.0010 - 10s/epoch - 56ms/step
Epoch 155/200
176/176 - 10s - loss: 0.6212 - accuracy: 0.7673 - val_loss: 0.7560 - val_accuracy: 0.7307 - lr: 0.0010 - 10s/epoch - 57ms/step
Epoch 156/200
176/176 - 10s - loss: 0.6129 - accuracy: 0.7704 - val_loss: 0.6749 - val_accuracy: 0.7643 - lr: 0.0010 - 10s/epoch - 56ms/step
Epoch 157/200
176/176 - 10s - loss: 0.6098 - accuracy: 0.7715 - val_loss: 0.6351 - val_accuracy: 0.7830 - lr: 0.0010 - 10s/epoch - 56ms/step
Epoch 158/200
176/176 - 10s - loss: 0.6233 - accuracy: 0.7672 - val_loss: 0.7662 - val_accuracy: 0.7263 - lr: 0.0010 - 10s/epoch - 56ms/step
Epoch 159/200
176/176 - 10s - loss: 0.6442 - accuracy: 0.7629 - val_loss: 0.6746 - val_accuracy: 0.7681 - lr: 0.0010 - 10s/epoch - 56ms/step
Epoch 160/200
176/176 - 10s - loss: 0.6121 - accuracy: 0.7715 - val_loss: 0.6786 - val_accuracy: 0.7551 - lr: 0.0010 - 10s/epoch - 56ms/step
Epoch 161/200
176/176 - 10s - loss: 0.6086 - accuracy: 0.7725 - val_loss: 0.7457 - val_accuracy: 0.7223 - lr: 0.0010 - 10s/epoch - 56ms/step
Epoch 162/200
176/176 - 10s - loss: 0.6082 - accuracy: 0.7730 - val_loss: 0.6852 - val_accuracy: 0.7549 - lr: 0.0010 - 10s/epoch - 56ms/step
Epoch 163/200
176/176 - 10s - loss: 0.6053 - accuracy: 0.7749 - val_loss: 0.7199 - val_accuracy: 0.7353 - lr: 0.0010 - 10s/epoch - 55ms/step
Epoch 164/200
176/176 - 10s - loss: 0.6119 - accuracy: 0.7720 - val_loss: 0.6893 - val_accuracy: 0.7604 - lr: 0.0010 - 10s/epoch - 56ms/step
Epoch 165/200
176/176 - 10s - loss: 0.6126 - accuracy: 0.7711 - val_loss: 0.7252 - val_accuracy: 0.7447 - lr: 0.0010 - 10s/epoch - 56ms/step
Epoch 166/200
176/176 - 10s - loss: 0.6303 - accuracy: 0.7670 - val_loss: 0.7128 - val_accuracy: 0.7494 - lr: 0.0010 - 10s/epoch - 56ms/step
Epoch 167/200
176/176 - 10s - loss: 0.6119 - accuracy: 0.7721 - val_loss: 0.6906 - val_accuracy: 0.7640 - lr: 0.0010 - 10s/epoch - 55ms/step
Epoch 168/200
176/176 - 10s - loss: 0.6025 - accuracy: 0.7745 - val_loss: 0.6746 - val_accuracy: 0.7606 - lr: 0.0010 - 10s/epoch - 56ms/step
Epoch 169/200
176/176 - 10s - loss: 0.6071 - accuracy: 0.7733 - val_loss: 0.6712 - val_accuracy: 0.7603 - lr: 0.0010 - 10s/epoch - 56ms/step
Epoch 170/200
176/176 - 10s - loss: 0.6073 - accuracy: 0.7735 - val_loss: 0.6924 - val_accuracy: 0.7490 - lr: 0.0010 - 10s/epoch - 56ms/step
Epoch 171/200
176/176 - 10s - loss: 0.6134 - accuracy: 0.7714 - val_loss: 0.7589 - val_accuracy: 0.7509 - lr: 0.0010 - 10s/epoch - 56ms/step
Epoch 172/200
176/176 - 10s - loss: 0.6214 - accuracy: 0.7686 - val_loss: 0.6824 - val_accuracy: 0.7600 - lr: 0.0010 - 10s/epoch - 55ms/step
Epoch 173/200
176/176 - 10s - loss: 0.6229 - accuracy: 0.7683 - val_loss: 0.7098 - val_accuracy: 0.7531 - lr: 0.0010 - 10s/epoch - 55ms/step
Epoch 174/200
176/176 - 10s - loss: 0.6091 - accuracy: 0.7733 - val_loss: 0.7091 - val_accuracy: 0.7525 - lr: 0.0010 - 10s/epoch - 55ms/step
Epoch 175/200
176/176 - 10s - loss: 0.6068 - accuracy: 0.7736 - val_loss: 0.7482 - val_accuracy: 0.7429 - lr: 0.0010 - 10s/epoch - 56ms/step
Epoch 176/200
176/176 - 10s - loss: 0.6249 - accuracy: 0.7681 - val_loss: 0.7499 - val_accuracy: 0.7431 - lr: 0.0010 - 10s/epoch - 55ms/step
Epoch 177/200
176/176 - 10s - loss: 0.6027 - accuracy: 0.7744 - val_loss: 0.7094 - val_accuracy: 0.7442 - lr: 0.0010 - 10s/epoch - 55ms/step
Epoch 178/200
176/176 - 10s - loss: 0.6089 - accuracy: 0.7724 - val_loss: 0.6525 - val_accuracy: 0.7711 - lr: 0.0010 - 10s/epoch - 56ms/step
Epoch 179/200
176/176 - 10s - loss: 0.6072 - accuracy: 0.7736 - val_loss: 0.6965 - val_accuracy: 0.7504 - lr: 0.0010 - 10s/epoch - 55ms/step
Epoch 180/200
176/176 - 10s - loss: 0.6043 - accuracy: 0.7753 - val_loss: 0.6366 - val_accuracy: 0.7720 - lr: 0.0010 - 10s/epoch - 55ms/step
Epoch 181/200
176/176 - 10s - loss: 0.6037 - accuracy: 0.7749 - val_loss: 0.7224 - val_accuracy: 0.7319 - lr: 0.0010 - 10s/epoch - 56ms/step
Epoch 182/200
176/176 - 10s - loss: 0.6050 - accuracy: 0.7742 - val_loss: 0.7174 - val_accuracy: 0.7479 - lr: 0.0010 - 10s/epoch - 55ms/step
Epoch 183/200
176/176 - 10s - loss: 0.6038 - accuracy: 0.7739 - val_loss: 0.6678 - val_accuracy: 0.7658 - lr: 0.0010 - 10s/epoch - 56ms/step
Epoch 184/200
176/176 - 10s - loss: 0.6062 - accuracy: 0.7742 - val_loss: 0.6565 - val_accuracy: 0.7795 - lr: 0.0010 - 10s/epoch - 55ms/step
Epoch 185/200
176/176 - 10s - loss: 0.6014 - accuracy: 0.7761 - val_loss: 0.7126 - val_accuracy: 0.7514 - lr: 0.0010 - 10s/epoch - 55ms/step
Epoch 186/200
176/176 - 10s - loss: 0.6114 - accuracy: 0.7730 - val_loss: 0.6377 - val_accuracy: 0.7783 - lr: 0.0010 - 10s/epoch - 56ms/step
Epoch 187/200
176/176 - 10s - loss: 0.6049 - accuracy: 0.7747 - val_loss: 0.6741 - val_accuracy: 0.7730 - lr: 0.0010 - 10s/epoch - 55ms/step
Epoch 188/200
176/176 - 10s - loss: 0.6004 - accuracy: 0.7772 - val_loss: 0.6653 - val_accuracy: 0.7601 - lr: 0.0010 - 10s/epoch - 56ms/step
Epoch 189/200
176/176 - 10s - loss: 0.6044 - accuracy: 0.7751 - val_loss: 0.7193 - val_accuracy: 0.7300 - lr: 0.0010 - 10s/epoch - 55ms/step
Epoch 190/200
176/176 - 10s - loss: 0.6031 - accuracy: 0.7750 - val_loss: 0.6534 - val_accuracy: 0.7720 - lr: 0.0010 - 10s/epoch - 56ms/step
Epoch 191/200
176/176 - 10s - loss: 0.6014 - accuracy: 0.7761 - val_loss: 0.6393 - val_accuracy: 0.7721 - lr: 0.0010 - 10s/epoch - 56ms/step
Epoch 192/200
176/176 - 10s - loss: 0.5994 - accuracy: 0.7767 - val_loss: 0.7014 - val_accuracy: 0.7554 - lr: 0.0010 - 10s/epoch - 56ms/step
Epoch 193/200
176/176 - 10s - loss: 0.6330 - accuracy: 0.7656 - val_loss: 0.6622 - val_accuracy: 0.7741 - lr: 0.0010 - 10s/epoch - 55ms/step
Epoch 194/200
176/176 - 10s - loss: 0.6115 - accuracy: 0.7726 - val_loss: 0.7111 - val_accuracy: 0.7458 - lr: 0.0010 - 10s/epoch - 56ms/step
Epoch 195/200
176/176 - 10s - loss: 0.6038 - accuracy: 0.7755 - val_loss: 0.6957 - val_accuracy: 0.7519 - lr: 0.0010 - 10s/epoch - 55ms/step
Epoch 196/200
176/176 - 10s - loss: 0.6048 - accuracy: 0.7741 - val_loss: 0.6848 - val_accuracy: 0.7658 - lr: 0.0010 - 10s/epoch - 55ms/step
Epoch 197/200
176/176 - 10s - loss: 0.6059 - accuracy: 0.7745 - val_loss: 0.6949 - val_accuracy: 0.7595 - lr: 0.0010 - 10s/epoch - 55ms/step
Epoch 198/200
176/176 - 10s - loss: 0.6036 - accuracy: 0.7748 - val_loss: 0.7016 - val_accuracy: 0.7432 - lr: 0.0010 - 10s/epoch - 55ms/step
Epoch 199/200
176/176 - 10s - loss: 0.6001 - accuracy: 0.7756 - val_loss: 0.7633 - val_accuracy: 0.7156 - lr: 0.0010 - 10s/epoch - 56ms/step
Epoch 200/200
176/176 - 10s - loss: 0.6111 - accuracy: 0.7712 - val_loss: 0.6796 - val_accuracy: 0.7708 - lr: 0.0010 - 10s/epoch - 55ms/step
fitting with batch size: 2500
Epoch 1/200
36/36 - 11s - loss: 0.5913 - accuracy: 0.7792 - val_loss: 0.7120 - val_accuracy: 0.7444 - lr: 0.0010 - 11s/epoch - 305ms/step
Epoch 2/200
36/36 - 9s - loss: 0.5864 - accuracy: 0.7825 - val_loss: 0.6898 - val_accuracy: 0.7589 - lr: 0.0010 - 9s/epoch - 238ms/step
Epoch 3/200
36/36 - 9s - loss: 0.5847 - accuracy: 0.7824 - val_loss: 0.7192 - val_accuracy: 0.7455 - lr: 0.0010 - 9s/epoch - 238ms/step
Epoch 4/200
36/36 - 9s - loss: 0.5840 - accuracy: 0.7821 - val_loss: 0.6978 - val_accuracy: 0.7512 - lr: 0.0010 - 9s/epoch - 238ms/step
Epoch 5/200
36/36 - 9s - loss: 0.5846 - accuracy: 0.7825 - val_loss: 0.7232 - val_accuracy: 0.7434 - lr: 0.0010 - 9s/epoch - 237ms/step
Epoch 6/200
36/36 - 9s - loss: 0.5844 - accuracy: 0.7811 - val_loss: 0.6745 - val_accuracy: 0.7646 - lr: 0.0010 - 9s/epoch - 240ms/step
Epoch 7/200
36/36 - 9s - loss: 0.5869 - accuracy: 0.7824 - val_loss: 0.6901 - val_accuracy: 0.7620 - lr: 0.0010 - 9s/epoch - 238ms/step
Epoch 8/200
36/36 - 9s - loss: 0.6033 - accuracy: 0.7762 - val_loss: 0.6979 - val_accuracy: 0.7511 - lr: 0.0010 - 9s/epoch - 237ms/step
Epoch 9/200
36/36 - 9s - loss: 0.5812 - accuracy: 0.7831 - val_loss: 0.6789 - val_accuracy: 0.7580 - lr: 0.0010 - 9s/epoch - 239ms/step
Epoch 10/200
36/36 - 9s - loss: 0.5828 - accuracy: 0.7840 - val_loss: 0.6698 - val_accuracy: 0.7650 - lr: 0.0010 - 9s/epoch - 240ms/step
Epoch 11/200
36/36 - 9s - loss: 0.5852 - accuracy: 0.7830 - val_loss: 0.6873 - val_accuracy: 0.7547 - lr: 0.0010 - 9s/epoch - 239ms/step
Epoch 12/200
36/36 - 9s - loss: 0.5857 - accuracy: 0.7819 - val_loss: 0.7081 - val_accuracy: 0.7441 - lr: 0.0010 - 9s/epoch - 239ms/step
Epoch 13/200
36/36 - 9s - loss: 0.5842 - accuracy: 0.7818 - val_loss: 0.7029 - val_accuracy: 0.7456 - lr: 0.0010 - 9s/epoch - 239ms/step
Epoch 14/200
36/36 - 9s - loss: 0.5850 - accuracy: 0.7821 - val_loss: 0.7015 - val_accuracy: 0.7409 - lr: 0.0010 - 9s/epoch - 243ms/step
Epoch 15/200
36/36 - 9s - loss: 0.6013 - accuracy: 0.7741 - val_loss: 0.7067 - val_accuracy: 0.7488 - lr: 0.0010 - 9s/epoch - 237ms/step
Epoch 16/200
36/36 - 9s - loss: 0.5833 - accuracy: 0.7834 - val_loss: 0.6981 - val_accuracy: 0.7483 - lr: 0.0010 - 9s/epoch - 239ms/step
Epoch 17/200
36/36 - 9s - loss: 0.5833 - accuracy: 0.7814 - val_loss: 0.6928 - val_accuracy: 0.7595 - lr: 0.0010 - 9s/epoch - 238ms/step
Epoch 18/200
36/36 - 9s - loss: 0.5995 - accuracy: 0.7794 - val_loss: 0.7350 - val_accuracy: 0.7338 - lr: 0.0010 - 9s/epoch - 240ms/step
Epoch 19/200
36/36 - 9s - loss: 0.5954 - accuracy: 0.7783 - val_loss: 0.6728 - val_accuracy: 0.7644 - lr: 0.0010 - 9s/epoch - 239ms/step
Epoch 20/200
36/36 - 9s - loss: 0.5862 - accuracy: 0.7820 - val_loss: 0.6764 - val_accuracy: 0.7563 - lr: 0.0010 - 9s/epoch - 241ms/step
Epoch 21/200
36/36 - 9s - loss: 0.5813 - accuracy: 0.7841 - val_loss: 0.6971 - val_accuracy: 0.7532 - lr: 0.0010 - 9s/epoch - 239ms/step
Epoch 22/200
36/36 - 9s - loss: 0.5808 - accuracy: 0.7838 - val_loss: 0.6751 - val_accuracy: 0.7512 - lr: 0.0010 - 9s/epoch - 238ms/step
Epoch 23/200
36/36 - 9s - loss: 0.5794 - accuracy: 0.7831 - val_loss: 0.7021 - val_accuracy: 0.7467 - lr: 0.0010 - 9s/epoch - 238ms/step
Epoch 24/200
36/36 - 9s - loss: 0.5810 - accuracy: 0.7833 - val_loss: 0.7389 - val_accuracy: 0.7246 - lr: 0.0010 - 9s/epoch - 239ms/step
Epoch 25/200
36/36 - 9s - loss: 0.5830 - accuracy: 0.7835 - val_loss: 0.7006 - val_accuracy: 0.7468 - lr: 0.0010 - 9s/epoch - 242ms/step
Epoch 26/200
36/36 - 9s - loss: 0.5795 - accuracy: 0.7848 - val_loss: 0.7188 - val_accuracy: 0.7403 - lr: 0.0010 - 9s/epoch - 240ms/step
Epoch 27/200
36/36 - 9s - loss: 0.5796 - accuracy: 0.7837 - val_loss: 0.6906 - val_accuracy: 0.7575 - lr: 0.0010 - 9s/epoch - 239ms/step
Epoch 28/200
36/36 - 9s - loss: 0.5813 - accuracy: 0.7837 - val_loss: 0.6682 - val_accuracy: 0.7653 - lr: 0.0010 - 9s/epoch - 238ms/step
Epoch 29/200
36/36 - 9s - loss: 0.5787 - accuracy: 0.7846 - val_loss: 0.7122 - val_accuracy: 0.7421 - lr: 0.0010 - 9s/epoch - 240ms/step
Epoch 30/200
36/36 - 9s - loss: 0.5920 - accuracy: 0.7791 - val_loss: 0.7121 - val_accuracy: 0.7484 - lr: 0.0010 - 9s/epoch - 237ms/step
Epoch 31/200
36/36 - 9s - loss: 0.5897 - accuracy: 0.7803 - val_loss: 0.6884 - val_accuracy: 0.7569 - lr: 0.0010 - 9s/epoch - 238ms/step
Epoch 32/200
36/36 - 9s - loss: 0.5860 - accuracy: 0.7806 - val_loss: 0.6605 - val_accuracy: 0.7596 - lr: 0.0010 - 9s/epoch - 239ms/step
Epoch 33/200
36/36 - 9s - loss: 0.5788 - accuracy: 0.7855 - val_loss: 0.6698 - val_accuracy: 0.7664 - lr: 0.0010 - 9s/epoch - 239ms/step
Epoch 34/200
36/36 - 9s - loss: 0.5838 - accuracy: 0.7828 - val_loss: 0.6855 - val_accuracy: 0.7574 - lr: 0.0010 - 9s/epoch - 239ms/step
Epoch 35/200
36/36 - 9s - loss: 0.5798 - accuracy: 0.7846 - val_loss: 0.7486 - val_accuracy: 0.7315 - lr: 0.0010 - 9s/epoch - 239ms/step
Epoch 36/200
36/36 - 9s - loss: 0.5836 - accuracy: 0.7824 - val_loss: 0.6389 - val_accuracy: 0.7718 - lr: 0.0010 - 9s/epoch - 238ms/step
Epoch 37/200
36/36 - 9s - loss: 0.5805 - accuracy: 0.7844 - val_loss: 0.7167 - val_accuracy: 0.7443 - lr: 0.0010 - 9s/epoch - 237ms/step
Epoch 38/200
36/36 - 9s - loss: 0.5802 - accuracy: 0.7839 - val_loss: 0.6893 - val_accuracy: 0.7553 - lr: 0.0010 - 9s/epoch - 239ms/step
Epoch 39/200
36/36 - 9s - loss: 0.5769 - accuracy: 0.7848 - val_loss: 0.7284 - val_accuracy: 0.7368 - lr: 0.0010 - 9s/epoch - 239ms/step
Epoch 40/200
36/36 - 9s - loss: 0.5823 - accuracy: 0.7834 - val_loss: 0.6973 - val_accuracy: 0.7499 - lr: 0.0010 - 9s/epoch - 238ms/step
Epoch 41/200
36/36 - 9s - loss: 0.5753 - accuracy: 0.7851 - val_loss: 0.6401 - val_accuracy: 0.7731 - lr: 0.0010 - 9s/epoch - 238ms/step
Epoch 42/200
36/36 - 9s - loss: 0.5798 - accuracy: 0.7838 - val_loss: 0.6611 - val_accuracy: 0.7626 - lr: 0.0010 - 9s/epoch - 238ms/step
Epoch 43/200
36/36 - 9s - loss: 0.5861 - accuracy: 0.7816 - val_loss: 0.7463 - val_accuracy: 0.7224 - lr: 0.0010 - 9s/epoch - 240ms/step
Epoch 44/200
36/36 - 9s - loss: 0.5781 - accuracy: 0.7844 - val_loss: 0.7145 - val_accuracy: 0.7419 - lr: 0.0010 - 9s/epoch - 237ms/step
Epoch 45/200
36/36 - 9s - loss: 0.5919 - accuracy: 0.7791 - val_loss: 0.6476 - val_accuracy: 0.7663 - lr: 0.0010 - 9s/epoch - 238ms/step
Epoch 46/200
36/36 - 9s - loss: 0.5815 - accuracy: 0.7835 - val_loss: 0.6895 - val_accuracy: 0.7482 - lr: 0.0010 - 9s/epoch - 237ms/step
Epoch 47/200
36/36 - 9s - loss: 0.5816 - accuracy: 0.7828 - val_loss: 0.7226 - val_accuracy: 0.7329 - lr: 0.0010 - 9s/epoch - 240ms/step
Epoch 48/200
36/36 - 9s - loss: 0.5798 - accuracy: 0.7840 - val_loss: 0.7277 - val_accuracy: 0.7368 - lr: 0.0010 - 9s/epoch - 238ms/step
Epoch 49/200
36/36 - 9s - loss: 0.5778 - accuracy: 0.7861 - val_loss: 0.7059 - val_accuracy: 0.7494 - lr: 0.0010 - 9s/epoch - 239ms/step
Epoch 50/200
36/36 - 9s - loss: 0.5798 - accuracy: 0.7838 - val_loss: 0.6800 - val_accuracy: 0.7548 - lr: 0.0010 - 9s/epoch - 238ms/step
Epoch 51/200
36/36 - 9s - loss: 0.5808 - accuracy: 0.7830 - val_loss: 0.6660 - val_accuracy: 0.7602 - lr: 0.0010 - 9s/epoch - 238ms/step
Epoch 52/200
36/36 - 9s - loss: 0.5839 - accuracy: 0.7823 - val_loss: 0.6977 - val_accuracy: 0.7410 - lr: 0.0010 - 9s/epoch - 240ms/step
Epoch 53/200
36/36 - 9s - loss: 0.5809 - accuracy: 0.7834 - val_loss: 0.6700 - val_accuracy: 0.7604 - lr: 0.0010 - 9s/epoch - 241ms/step
Epoch 54/200
36/36 - 9s - loss: 0.5762 - accuracy: 0.7863 - val_loss: 0.7011 - val_accuracy: 0.7506 - lr: 0.0010 - 9s/epoch - 240ms/step
Epoch 55/200
36/36 - 9s - loss: 0.5812 - accuracy: 0.7839 - val_loss: 0.7300 - val_accuracy: 0.7416 - lr: 0.0010 - 9s/epoch - 240ms/step
Epoch 56/200
36/36 - 9s - loss: 0.5836 - accuracy: 0.7828 - val_loss: 0.7541 - val_accuracy: 0.7276 - lr: 0.0010 - 9s/epoch - 239ms/step
Epoch 57/200
36/36 - 9s - loss: 0.5800 - accuracy: 0.7845 - val_loss: 0.6987 - val_accuracy: 0.7552 - lr: 0.0010 - 9s/epoch - 239ms/step
Epoch 58/200
36/36 - 9s - loss: 0.5769 - accuracy: 0.7848 - val_loss: 0.6588 - val_accuracy: 0.7730 - lr: 0.0010 - 9s/epoch - 239ms/step
Epoch 59/200
36/36 - 9s - loss: 0.5788 - accuracy: 0.7846 - val_loss: 0.7010 - val_accuracy: 0.7495 - lr: 0.0010 - 9s/epoch - 239ms/step
Epoch 60/200
36/36 - 9s - loss: 0.5839 - accuracy: 0.7821 - val_loss: 0.6741 - val_accuracy: 0.7562 - lr: 0.0010 - 9s/epoch - 240ms/step
Epoch 61/200
36/36 - 9s - loss: 0.5751 - accuracy: 0.7851 - val_loss: 0.6971 - val_accuracy: 0.7488 - lr: 0.0010 - 9s/epoch - 240ms/step
Epoch 62/200
36/36 - 9s - loss: 0.5774 - accuracy: 0.7852 - val_loss: 0.6876 - val_accuracy: 0.7530 - lr: 0.0010 - 9s/epoch - 240ms/step
Epoch 63/200
36/36 - 9s - loss: 0.5791 - accuracy: 0.7844 - val_loss: 0.7056 - val_accuracy: 0.7461 - lr: 0.0010 - 9s/epoch - 239ms/step
Epoch 64/200
36/36 - 9s - loss: 0.5840 - accuracy: 0.7821 - val_loss: 0.7396 - val_accuracy: 0.7348 - lr: 0.0010 - 9s/epoch - 239ms/step
Epoch 65/200
36/36 - 9s - loss: 0.5817 - accuracy: 0.7835 - val_loss: 0.6980 - val_accuracy: 0.7509 - lr: 0.0010 - 9s/epoch - 238ms/step
Epoch 66/200
36/36 - 9s - loss: 0.5776 - accuracy: 0.7848 - val_loss: 0.7270 - val_accuracy: 0.7410 - lr: 0.0010 - 9s/epoch - 242ms/step
Epoch 67/200
36/36 - 9s - loss: 0.5771 - accuracy: 0.7848 - val_loss: 0.6687 - val_accuracy: 0.7611 - lr: 0.0010 - 9s/epoch - 241ms/step
Epoch 68/200
36/36 - 9s - loss: 0.5761 - accuracy: 0.7856 - val_loss: 0.6697 - val_accuracy: 0.7625 - lr: 0.0010 - 9s/epoch - 238ms/step
Epoch 69/200
36/36 - 9s - loss: 0.5757 - accuracy: 0.7864 - val_loss: 0.7102 - val_accuracy: 0.7517 - lr: 0.0010 - 9s/epoch - 239ms/step
Epoch 70/200
36/36 - 9s - loss: 0.5826 - accuracy: 0.7830 - val_loss: 0.7177 - val_accuracy: 0.7426 - lr: 0.0010 - 9s/epoch - 239ms/step
Epoch 71/200
36/36 - 9s - loss: 0.5790 - accuracy: 0.7845 - val_loss: 0.6959 - val_accuracy: 0.7489 - lr: 0.0010 - 9s/epoch - 240ms/step
Epoch 72/200
36/36 - 9s - loss: 0.5757 - accuracy: 0.7851 - val_loss: 0.7002 - val_accuracy: 0.7529 - lr: 0.0010 - 9s/epoch - 239ms/step
Epoch 73/200
36/36 - 9s - loss: 0.5785 - accuracy: 0.7836 - val_loss: 0.7286 - val_accuracy: 0.7366 - lr: 0.0010 - 9s/epoch - 238ms/step
Epoch 74/200
36/36 - 9s - loss: 0.5784 - accuracy: 0.7851 - val_loss: 0.6911 - val_accuracy: 0.7499 - lr: 0.0010 - 9s/epoch - 237ms/step
Epoch 75/200
36/36 - 9s - loss: 0.5817 - accuracy: 0.7833 - val_loss: 0.7052 - val_accuracy: 0.7437 - lr: 0.0010 - 9s/epoch - 240ms/step
Epoch 76/200
36/36 - 9s - loss: 0.5785 - accuracy: 0.7851 - val_loss: 0.7183 - val_accuracy: 0.7398 - lr: 0.0010 - 9s/epoch - 241ms/step
Epoch 77/200
36/36 - 9s - loss: 0.5754 - accuracy: 0.7856 - val_loss: 0.6833 - val_accuracy: 0.7558 - lr: 0.0010 - 9s/epoch - 238ms/step
Epoch 78/200
36/36 - 9s - loss: 0.5875 - accuracy: 0.7805 - val_loss: 0.6700 - val_accuracy: 0.7620 - lr: 0.0010 - 9s/epoch - 240ms/step
Epoch 79/200
36/36 - 9s - loss: 0.5778 - accuracy: 0.7849 - val_loss: 0.7337 - val_accuracy: 0.7399 - lr: 0.0010 - 9s/epoch - 245ms/step
Epoch 80/200
36/36 - 9s - loss: 0.5776 - accuracy: 0.7850 - val_loss: 0.6761 - val_accuracy: 0.7615 - lr: 0.0010 - 9s/epoch - 241ms/step
Epoch 81/200
36/36 - 9s - loss: 0.5755 - accuracy: 0.7868 - val_loss: 0.6969 - val_accuracy: 0.7514 - lr: 0.0010 - 9s/epoch - 238ms/step
Epoch 82/200
36/36 - 9s - loss: 0.5782 - accuracy: 0.7851 - val_loss: 0.6697 - val_accuracy: 0.7568 - lr: 0.0010 - 9s/epoch - 240ms/step
Epoch 83/200
36/36 - 9s - loss: 0.5819 - accuracy: 0.7828 - val_loss: 0.7372 - val_accuracy: 0.7381 - lr: 0.0010 - 9s/epoch - 238ms/step
Epoch 84/200
36/36 - 9s - loss: 0.5794 - accuracy: 0.7842 - val_loss: 0.6536 - val_accuracy: 0.7689 - lr: 0.0010 - 9s/epoch - 240ms/step
Epoch 85/200
36/36 - 9s - loss: 0.5742 - accuracy: 0.7869 - val_loss: 0.6562 - val_accuracy: 0.7638 - lr: 0.0010 - 9s/epoch - 241ms/step
Epoch 86/200
36/36 - 9s - loss: 0.5764 - accuracy: 0.7858 - val_loss: 0.6779 - val_accuracy: 0.7637 - lr: 0.0010 - 9s/epoch - 238ms/step
Epoch 87/200
36/36 - 9s - loss: 0.5764 - accuracy: 0.7853 - val_loss: 0.6861 - val_accuracy: 0.7467 - lr: 0.0010 - 9s/epoch - 240ms/step
Epoch 88/200
36/36 - 9s - loss: 0.5738 - accuracy: 0.7868 - val_loss: 0.7394 - val_accuracy: 0.7323 - lr: 0.0010 - 9s/epoch - 239ms/step
Epoch 89/200
36/36 - 9s - loss: 0.5747 - accuracy: 0.7867 - val_loss: 0.6942 - val_accuracy: 0.7510 - lr: 0.0010 - 9s/epoch - 240ms/step
Epoch 90/200
36/36 - 9s - loss: 0.5720 - accuracy: 0.7883 - val_loss: 0.7198 - val_accuracy: 0.7407 - lr: 0.0010 - 9s/epoch - 239ms/step
Epoch 91/200
36/36 - 9s - loss: 0.5876 - accuracy: 0.7799 - val_loss: 0.6665 - val_accuracy: 0.7558 - lr: 0.0010 - 9s/epoch - 236ms/step
Epoch 92/200
36/36 - 9s - loss: 0.5814 - accuracy: 0.7829 - val_loss: 0.7339 - val_accuracy: 0.7327 - lr: 0.0010 - 9s/epoch - 239ms/step
Epoch 93/200
36/36 - 9s - loss: 0.5754 - accuracy: 0.7862 - val_loss: 0.6828 - val_accuracy: 0.7560 - lr: 0.0010 - 9s/epoch - 238ms/step
Epoch 94/200
36/36 - 9s - loss: 0.5810 - accuracy: 0.7839 - val_loss: 0.7467 - val_accuracy: 0.7311 - lr: 0.0010 - 9s/epoch - 239ms/step
Epoch 95/200
36/36 - 9s - loss: 0.5772 - accuracy: 0.7846 - val_loss: 0.7012 - val_accuracy: 0.7479 - lr: 0.0010 - 9s/epoch - 240ms/step
Epoch 96/200
36/36 - 9s - loss: 0.5759 - accuracy: 0.7861 - val_loss: 0.7154 - val_accuracy: 0.7477 - lr: 0.0010 - 9s/epoch - 240ms/step
Epoch 97/200
36/36 - 9s - loss: 0.5800 - accuracy: 0.7840 - val_loss: 0.7319 - val_accuracy: 0.7365 - lr: 0.0010 - 9s/epoch - 239ms/step
Epoch 98/200
36/36 - 9s - loss: 0.5748 - accuracy: 0.7866 - val_loss: 0.7187 - val_accuracy: 0.7386 - lr: 0.0010 - 9s/epoch - 239ms/step
Epoch 99/200
36/36 - 9s - loss: 0.5793 - accuracy: 0.7845 - val_loss: 0.6924 - val_accuracy: 0.7518 - lr: 0.0010 - 9s/epoch - 243ms/step
Epoch 100/200
36/36 - 9s - loss: 0.5745 - accuracy: 0.7863 - val_loss: 0.7048 - val_accuracy: 0.7435 - lr: 0.0010 - 9s/epoch - 240ms/step
Epoch 101/200
36/36 - 9s - loss: 0.5741 - accuracy: 0.7862 - val_loss: 0.7093 - val_accuracy: 0.7415 - lr: 0.0010 - 9s/epoch - 238ms/step
Epoch 102/200
36/36 - 9s - loss: 0.5800 - accuracy: 0.7836 - val_loss: 0.6627 - val_accuracy: 0.7626 - lr: 0.0010 - 9s/epoch - 239ms/step
Epoch 103/200
36/36 - 9s - loss: 0.5812 - accuracy: 0.7828 - val_loss: 0.6639 - val_accuracy: 0.7650 - lr: 0.0010 - 9s/epoch - 240ms/step
Epoch 104/200
36/36 - 9s - loss: 0.5846 - accuracy: 0.7822 - val_loss: 0.6903 - val_accuracy: 0.7456 - lr: 0.0010 - 9s/epoch - 238ms/step
Epoch 105/200
36/36 - 9s - loss: 0.5828 - accuracy: 0.7834 - val_loss: 0.6720 - val_accuracy: 0.7599 - lr: 0.0010 - 9s/epoch - 238ms/step
Epoch 106/200
36/36 - 9s - loss: 0.5756 - accuracy: 0.7855 - val_loss: 0.7434 - val_accuracy: 0.7315 - lr: 0.0010 - 9s/epoch - 239ms/step
Epoch 107/200
36/36 - 9s - loss: 0.5752 - accuracy: 0.7850 - val_loss: 0.6652 - val_accuracy: 0.7603 - lr: 0.0010 - 9s/epoch - 240ms/step
Epoch 108/200
36/36 - 9s - loss: 0.6556 - accuracy: 0.7588 - val_loss: 0.7592 - val_accuracy: 0.7249 - lr: 0.0010 - 9s/epoch - 238ms/step
Epoch 109/200
36/36 - 9s - loss: 0.6151 - accuracy: 0.7693 - val_loss: 0.7285 - val_accuracy: 0.7346 - lr: 0.0010 - 9s/epoch - 241ms/step
Epoch 110/200
36/36 - 9s - loss: 0.5955 - accuracy: 0.7781 - val_loss: 0.6876 - val_accuracy: 0.7511 - lr: 0.0010 - 9s/epoch - 239ms/step
Epoch 111/200
36/36 - 9s - loss: 0.5857 - accuracy: 0.7815 - val_loss: 0.6971 - val_accuracy: 0.7481 - lr: 0.0010 - 9s/epoch - 239ms/step
Epoch 112/200
36/36 - 9s - loss: 0.5872 - accuracy: 0.7828 - val_loss: 0.7136 - val_accuracy: 0.7432 - lr: 0.0010 - 9s/epoch - 238ms/step
Epoch 113/200
36/36 - 9s - loss: 0.5843 - accuracy: 0.7819 - val_loss: 0.6870 - val_accuracy: 0.7517 - lr: 0.0010 - 9s/epoch - 239ms/step
Epoch 114/200
36/36 - 9s - loss: 0.5743 - accuracy: 0.7867 - val_loss: 0.7119 - val_accuracy: 0.7452 - lr: 0.0010 - 9s/epoch - 240ms/step
Epoch 115/200
36/36 - 9s - loss: 0.5780 - accuracy: 0.7857 - val_loss: 0.6889 - val_accuracy: 0.7505 - lr: 0.0010 - 9s/epoch - 237ms/step
Epoch 116/200
36/36 - 9s - loss: 0.5754 - accuracy: 0.7860 - val_loss: 0.6538 - val_accuracy: 0.7616 - lr: 0.0010 - 9s/epoch - 238ms/step
Epoch 117/200
36/36 - 9s - loss: 0.5755 - accuracy: 0.7853 - val_loss: 0.6870 - val_accuracy: 0.7577 - lr: 0.0010 - 9s/epoch - 240ms/step
Epoch 118/200
36/36 - 9s - loss: 0.5786 - accuracy: 0.7840 - val_loss: 0.7088 - val_accuracy: 0.7435 - lr: 0.0010 - 9s/epoch - 241ms/step
Epoch 119/200
36/36 - 9s - loss: 0.5746 - accuracy: 0.7854 - val_loss: 0.7369 - val_accuracy: 0.7274 - lr: 0.0010 - 9s/epoch - 237ms/step
Epoch 120/200
36/36 - 9s - loss: 0.5697 - accuracy: 0.7884 - val_loss: 0.6698 - val_accuracy: 0.7591 - lr: 0.0010 - 9s/epoch - 239ms/step
Epoch 121/200
36/36 - 9s - loss: 0.5816 - accuracy: 0.7836 - val_loss: 0.6895 - val_accuracy: 0.7584 - lr: 0.0010 - 9s/epoch - 240ms/step
Epoch 122/200
36/36 - 9s - loss: 0.5725 - accuracy: 0.7868 - val_loss: 0.6979 - val_accuracy: 0.7516 - lr: 0.0010 - 9s/epoch - 239ms/step
Epoch 123/200
36/36 - 9s - loss: 0.5752 - accuracy: 0.7861 - val_loss: 0.6805 - val_accuracy: 0.7573 - lr: 0.0010 - 9s/epoch - 239ms/step
Epoch 124/200
36/36 - 9s - loss: 0.5981 - accuracy: 0.7763 - val_loss: 0.6842 - val_accuracy: 0.7499 - lr: 0.0010 - 9s/epoch - 239ms/step
Epoch 125/200
36/36 - 9s - loss: 0.5813 - accuracy: 0.7833 - val_loss: 0.6924 - val_accuracy: 0.7553 - lr: 0.0010 - 9s/epoch - 238ms/step
Epoch 126/200
36/36 - 9s - loss: 0.5815 - accuracy: 0.7848 - val_loss: 0.6797 - val_accuracy: 0.7500 - lr: 0.0010 - 9s/epoch - 239ms/step
Epoch 127/200
36/36 - 9s - loss: 0.5893 - accuracy: 0.7806 - val_loss: 0.6867 - val_accuracy: 0.7584 - lr: 0.0010 - 9s/epoch - 241ms/step
Epoch 128/200
36/36 - 9s - loss: 0.5745 - accuracy: 0.7855 - val_loss: 0.7125 - val_accuracy: 0.7453 - lr: 0.0010 - 9s/epoch - 238ms/step
Epoch 129/200
36/36 - 9s - loss: 0.5694 - accuracy: 0.7895 - val_loss: 0.6988 - val_accuracy: 0.7534 - lr: 0.0010 - 9s/epoch - 240ms/step
Epoch 130/200
36/36 - 9s - loss: 0.5788 - accuracy: 0.7844 - val_loss: 0.7119 - val_accuracy: 0.7369 - lr: 0.0010 - 9s/epoch - 238ms/step
Epoch 131/200
36/36 - 9s - loss: 0.5742 - accuracy: 0.7860 - val_loss: 0.6994 - val_accuracy: 0.7511 - lr: 0.0010 - 9s/epoch - 241ms/step
Epoch 132/200
36/36 - 9s - loss: 0.5775 - accuracy: 0.7849 - val_loss: 0.6654 - val_accuracy: 0.7636 - lr: 0.0010 - 9s/epoch - 238ms/step
Epoch 133/200
36/36 - 9s - loss: 0.5790 - accuracy: 0.7845 - val_loss: 0.6859 - val_accuracy: 0.7579 - lr: 0.0010 - 9s/epoch - 240ms/step
Epoch 134/200
36/36 - 9s - loss: 0.5711 - accuracy: 0.7885 - val_loss: 0.6759 - val_accuracy: 0.7559 - lr: 0.0010 - 9s/epoch - 240ms/step
Epoch 135/200
36/36 - 9s - loss: 0.5736 - accuracy: 0.7858 - val_loss: 0.7002 - val_accuracy: 0.7444 - lr: 0.0010 - 9s/epoch - 238ms/step
Epoch 136/200
36/36 - 9s - loss: 0.5697 - accuracy: 0.7887 - val_loss: 0.6959 - val_accuracy: 0.7522 - lr: 0.0010 - 9s/epoch - 241ms/step
Epoch 137/200
36/36 - 9s - loss: 0.5716 - accuracy: 0.7869 - val_loss: 0.6976 - val_accuracy: 0.7517 - lr: 0.0010 - 9s/epoch - 239ms/step
Epoch 138/200
36/36 - 9s - loss: 0.5686 - accuracy: 0.7890 - val_loss: 0.7395 - val_accuracy: 0.7295 - lr: 0.0010 - 9s/epoch - 239ms/step
Epoch 139/200
36/36 - 9s - loss: 0.5757 - accuracy: 0.7861 - val_loss: 0.6971 - val_accuracy: 0.7490 - lr: 0.0010 - 9s/epoch - 239ms/step
Epoch 140/200
36/36 - 9s - loss: 0.5894 - accuracy: 0.7808 - val_loss: 0.7051 - val_accuracy: 0.7388 - lr: 0.0010 - 9s/epoch - 238ms/step
Epoch 141/200
36/36 - 9s - loss: 0.5791 - accuracy: 0.7836 - val_loss: 0.6908 - val_accuracy: 0.7554 - lr: 0.0010 - 9s/epoch - 238ms/step
Epoch 142/200
36/36 - 9s - loss: 0.5789 - accuracy: 0.7853 - val_loss: 0.6985 - val_accuracy: 0.7475 - lr: 0.0010 - 9s/epoch - 241ms/step
Epoch 143/200
36/36 - 9s - loss: 0.5745 - accuracy: 0.7862 - val_loss: 0.6700 - val_accuracy: 0.7634 - lr: 0.0010 - 9s/epoch - 240ms/step
Epoch 144/200
36/36 - 9s - loss: 0.5704 - accuracy: 0.7878 - val_loss: 0.7176 - val_accuracy: 0.7360 - lr: 0.0010 - 9s/epoch - 240ms/step
Epoch 145/200
36/36 - 9s - loss: 0.5753 - accuracy: 0.7860 - val_loss: 0.6464 - val_accuracy: 0.7765 - lr: 0.0010 - 9s/epoch - 240ms/step
Epoch 146/200
36/36 - 9s - loss: 0.5709 - accuracy: 0.7882 - val_loss: 0.7135 - val_accuracy: 0.7400 - lr: 0.0010 - 9s/epoch - 239ms/step
Epoch 147/200
36/36 - 9s - loss: 0.5684 - accuracy: 0.7890 - val_loss: 0.7212 - val_accuracy: 0.7392 - lr: 0.0010 - 9s/epoch - 240ms/step
Epoch 148/200
36/36 - 9s - loss: 0.6032 - accuracy: 0.7745 - val_loss: 0.6900 - val_accuracy: 0.7491 - lr: 0.0010 - 9s/epoch - 239ms/step
Epoch 149/200
36/36 - 9s - loss: 0.5825 - accuracy: 0.7832 - val_loss: 0.7105 - val_accuracy: 0.7400 - lr: 0.0010 - 9s/epoch - 239ms/step
Epoch 150/200
36/36 - 9s - loss: 0.5747 - accuracy: 0.7863 - val_loss: 0.6327 - val_accuracy: 0.7789 - lr: 0.0010 - 9s/epoch - 239ms/step
Epoch 151/200
36/36 - 9s - loss: 0.5752 - accuracy: 0.7853 - val_loss: 0.6780 - val_accuracy: 0.7629 - lr: 0.0010 - 9s/epoch - 239ms/step
Epoch 152/200
36/36 - 9s - loss: 0.5775 - accuracy: 0.7853 - val_loss: 0.6883 - val_accuracy: 0.7522 - lr: 0.0010 - 9s/epoch - 239ms/step
Epoch 153/200
36/36 - 9s - loss: 0.5685 - accuracy: 0.7883 - val_loss: 0.7084 - val_accuracy: 0.7434 - lr: 0.0010 - 9s/epoch - 238ms/step
Epoch 154/200
36/36 - 9s - loss: 0.5714 - accuracy: 0.7879 - val_loss: 0.6997 - val_accuracy: 0.7495 - lr: 0.0010 - 9s/epoch - 238ms/step
Epoch 155/200
36/36 - 9s - loss: 0.5677 - accuracy: 0.7896 - val_loss: 0.6696 - val_accuracy: 0.7552 - lr: 0.0010 - 9s/epoch - 240ms/step
Epoch 156/200
36/36 - 9s - loss: 0.5769 - accuracy: 0.7854 - val_loss: 0.6624 - val_accuracy: 0.7682 - lr: 0.0010 - 9s/epoch - 239ms/step
Epoch 157/200
36/36 - 9s - loss: 0.5689 - accuracy: 0.7880 - val_loss: 0.6887 - val_accuracy: 0.7479 - lr: 0.0010 - 9s/epoch - 239ms/step
Epoch 158/200
36/36 - 9s - loss: 0.5705 - accuracy: 0.7878 - val_loss: 0.6922 - val_accuracy: 0.7484 - lr: 0.0010 - 9s/epoch - 240ms/step
Epoch 159/200
36/36 - 9s - loss: 0.5750 - accuracy: 0.7857 - val_loss: 0.6817 - val_accuracy: 0.7569 - lr: 0.0010 - 9s/epoch - 239ms/step
Epoch 160/200
36/36 - 9s - loss: 0.5736 - accuracy: 0.7864 - val_loss: 0.6778 - val_accuracy: 0.7624 - lr: 0.0010 - 9s/epoch - 239ms/step
Epoch 161/200
36/36 - 9s - loss: 0.5718 - accuracy: 0.7877 - val_loss: 0.6961 - val_accuracy: 0.7491 - lr: 0.0010 - 9s/epoch - 240ms/step
Epoch 162/200
36/36 - 9s - loss: 0.5810 - accuracy: 0.7834 - val_loss: 0.7013 - val_accuracy: 0.7523 - lr: 0.0010 - 9s/epoch - 242ms/step
Epoch 163/200
36/36 - 9s - loss: 0.5696 - accuracy: 0.7887 - val_loss: 0.6682 - val_accuracy: 0.7624 - lr: 0.0010 - 9s/epoch - 240ms/step
Epoch 164/200
36/36 - 9s - loss: 0.5690 - accuracy: 0.7883 - val_loss: 0.6290 - val_accuracy: 0.7791 - lr: 0.0010 - 9s/epoch - 238ms/step
Epoch 165/200
36/36 - 9s - loss: 0.5769 - accuracy: 0.7841 - val_loss: 0.6997 - val_accuracy: 0.7510 - lr: 0.0010 - 9s/epoch - 241ms/step
Epoch 166/200
36/36 - 9s - loss: 0.5696 - accuracy: 0.7885 - val_loss: 0.6640 - val_accuracy: 0.7612 - lr: 0.0010 - 9s/epoch - 240ms/step
Epoch 167/200
36/36 - 9s - loss: 0.5722 - accuracy: 0.7872 - val_loss: 0.6803 - val_accuracy: 0.7550 - lr: 0.0010 - 9s/epoch - 238ms/step
Epoch 168/200
36/36 - 9s - loss: 0.5774 - accuracy: 0.7854 - val_loss: 0.6788 - val_accuracy: 0.7519 - lr: 0.0010 - 9s/epoch - 241ms/step
Epoch 169/200
36/36 - 9s - loss: 0.5687 - accuracy: 0.7890 - val_loss: 0.6947 - val_accuracy: 0.7436 - lr: 0.0010 - 9s/epoch - 239ms/step
Epoch 170/200
36/36 - 9s - loss: 0.5713 - accuracy: 0.7867 - val_loss: 0.6825 - val_accuracy: 0.7534 - lr: 0.0010 - 9s/epoch - 240ms/step
Epoch 171/200
36/36 - 9s - loss: 0.5712 - accuracy: 0.7876 - val_loss: 0.7271 - val_accuracy: 0.7402 - lr: 0.0010 - 9s/epoch - 240ms/step
Epoch 172/200
36/36 - 9s - loss: 0.5752 - accuracy: 0.7856 - val_loss: 0.6910 - val_accuracy: 0.7516 - lr: 0.0010 - 9s/epoch - 239ms/step
Epoch 173/200
36/36 - 9s - loss: 0.5727 - accuracy: 0.7870 - val_loss: 0.7182 - val_accuracy: 0.7387 - lr: 0.0010 - 9s/epoch - 239ms/step
Epoch 174/200
36/36 - 9s - loss: 0.5727 - accuracy: 0.7867 - val_loss: 0.6873 - val_accuracy: 0.7474 - lr: 0.0010 - 9s/epoch - 242ms/step
Epoch 175/200
36/36 - 9s - loss: 0.5727 - accuracy: 0.7871 - val_loss: 0.7140 - val_accuracy: 0.7435 - lr: 0.0010 - 9s/epoch - 239ms/step
Epoch 176/200
36/36 - 9s - loss: 0.5679 - accuracy: 0.7880 - val_loss: 0.7086 - val_accuracy: 0.7497 - lr: 0.0010 - 9s/epoch - 240ms/step
Epoch 177/200
36/36 - 9s - loss: 0.5751 - accuracy: 0.7861 - val_loss: 0.6798 - val_accuracy: 0.7599 - lr: 0.0010 - 9s/epoch - 240ms/step
Epoch 178/200
36/36 - 9s - loss: 0.5685 - accuracy: 0.7894 - val_loss: 0.7014 - val_accuracy: 0.7565 - lr: 0.0010 - 9s/epoch - 240ms/step
Epoch 179/200
36/36 - 9s - loss: 0.5696 - accuracy: 0.7890 - val_loss: 0.7036 - val_accuracy: 0.7478 - lr: 0.0010 - 9s/epoch - 240ms/step
Epoch 180/200
36/36 - 9s - loss: 0.5686 - accuracy: 0.7886 - val_loss: 0.7367 - val_accuracy: 0.7261 - lr: 0.0010 - 9s/epoch - 239ms/step
Epoch 181/200
36/36 - 9s - loss: 0.5743 - accuracy: 0.7863 - val_loss: 0.6897 - val_accuracy: 0.7587 - lr: 0.0010 - 9s/epoch - 238ms/step
Epoch 182/200
36/36 - 9s - loss: 0.5733 - accuracy: 0.7866 - val_loss: 0.6723 - val_accuracy: 0.7634 - lr: 0.0010 - 9s/epoch - 238ms/step
Epoch 183/200
36/36 - 9s - loss: 0.5661 - accuracy: 0.7890 - val_loss: 0.6850 - val_accuracy: 0.7560 - lr: 0.0010 - 9s/epoch - 239ms/step
Epoch 184/200
36/36 - 9s - loss: 0.5665 - accuracy: 0.7902 - val_loss: 0.6854 - val_accuracy: 0.7487 - lr: 0.0010 - 9s/epoch - 238ms/step
Epoch 185/200
36/36 - 9s - loss: 0.5736 - accuracy: 0.7875 - val_loss: 0.6928 - val_accuracy: 0.7508 - lr: 0.0010 - 9s/epoch - 240ms/step
Epoch 186/200
36/36 - 9s - loss: 0.5745 - accuracy: 0.7865 - val_loss: 0.7177 - val_accuracy: 0.7400 - lr: 0.0010 - 9s/epoch - 239ms/step
Epoch 187/200
36/36 - 9s - loss: 0.5674 - accuracy: 0.7893 - val_loss: 0.7136 - val_accuracy: 0.7408 - lr: 0.0010 - 9s/epoch - 239ms/step
Epoch 188/200
36/36 - 9s - loss: 0.5697 - accuracy: 0.7884 - val_loss: 0.6848 - val_accuracy: 0.7655 - lr: 0.0010 - 9s/epoch - 239ms/step
Epoch 189/200
36/36 - 9s - loss: 0.5740 - accuracy: 0.7860 - val_loss: 0.6973 - val_accuracy: 0.7542 - lr: 0.0010 - 9s/epoch - 239ms/step
Epoch 190/200
36/36 - 9s - loss: 0.5693 - accuracy: 0.7876 - val_loss: 0.7213 - val_accuracy: 0.7393 - lr: 0.0010 - 9s/epoch - 239ms/step
Epoch 191/200
36/36 - 9s - loss: 0.5694 - accuracy: 0.7885 - val_loss: 0.7062 - val_accuracy: 0.7458 - lr: 0.0010 - 9s/epoch - 238ms/step
Epoch 192/200
36/36 - 9s - loss: 0.5684 - accuracy: 0.7889 - val_loss: 0.6517 - val_accuracy: 0.7681 - lr: 0.0010 - 9s/epoch - 240ms/step
Epoch 193/200
36/36 - 9s - loss: 0.5698 - accuracy: 0.7884 - val_loss: 0.6759 - val_accuracy: 0.7562 - lr: 0.0010 - 9s/epoch - 240ms/step
Epoch 194/200
36/36 - 9s - loss: 0.5749 - accuracy: 0.7859 - val_loss: 0.7246 - val_accuracy: 0.7388 - lr: 0.0010 - 9s/epoch - 239ms/step
Epoch 195/200
36/36 - 9s - loss: 0.5697 - accuracy: 0.7889 - val_loss: 0.7148 - val_accuracy: 0.7422 - lr: 0.0010 - 9s/epoch - 241ms/step
Epoch 196/200
36/36 - 9s - loss: 0.5691 - accuracy: 0.7878 - val_loss: 0.6498 - val_accuracy: 0.7666 - lr: 0.0010 - 9s/epoch - 240ms/step
Epoch 197/200
36/36 - 9s - loss: 0.5670 - accuracy: 0.7893 - val_loss: 0.7007 - val_accuracy: 0.7453 - lr: 0.0010 - 9s/epoch - 239ms/step
Epoch 198/200
36/36 - 9s - loss: 0.5709 - accuracy: 0.7885 - val_loss: 0.7143 - val_accuracy: 0.7447 - lr: 0.0010 - 9s/epoch - 239ms/step
Epoch 199/200
36/36 - 9s - loss: 0.5706 - accuracy: 0.7883 - val_loss: 0.7204 - val_accuracy: 0.7373 - lr: 0.0010 - 9s/epoch - 238ms/step
Epoch 200/200
36/36 - 9s - loss: 0.5773 - accuracy: 0.7847 - val_loss: 0.6505 - val_accuracy: 0.7723 - lr: 0.0010 - 9s/epoch - 239ms/step
