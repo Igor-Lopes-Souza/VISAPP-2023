Epoch: 5
fitting with batch size: 50
Epoch 1/5
1922/1922 - 35s - loss: 0.0503 - accuracy: 0.9846 - val_loss: 0.0407 - val_accuracy: 0.9880 - lr: 0.0010 - 35s/epoch - 18ms/step
Epoch 2/5
1922/1922 - 36s - loss: 0.0444 - accuracy: 0.9862 - val_loss: 0.0353 - val_accuracy: 0.9893 - lr: 0.0010 - 36s/epoch - 19ms/step
Epoch 3/5
1922/1922 - 34s - loss: 0.0425 - accuracy: 0.9870 - val_loss: 0.0477 - val_accuracy: 0.9830 - lr: 0.0010 - 34s/epoch - 18ms/step
Epoch 4/5
1922/1922 - 33s - loss: 0.0442 - accuracy: 0.9864 - val_loss: 0.0345 - val_accuracy: 0.9890 - lr: 0.0010 - 33s/epoch - 17ms/step
Epoch 5/5
1922/1922 - 35s - loss: 0.0411 - accuracy: 0.9873 - val_loss: 0.0603 - val_accuracy: 0.9850 - lr: 0.0010 - 35s/epoch - 18ms/step
fitting with batch size: 150
Epoch 1/5
641/641 - 21s - loss: 0.0211 - accuracy: 0.9934 - val_loss: 0.0205 - val_accuracy: 0.9940 - lr: 0.0010 - 21s/epoch - 33ms/step
Epoch 2/5
641/641 - 18s - loss: 0.0198 - accuracy: 0.9943 - val_loss: 0.0183 - val_accuracy: 0.9933 - lr: 0.0010 - 18s/epoch - 28ms/step
Epoch 3/5
641/641 - 18s - loss: 0.0193 - accuracy: 0.9944 - val_loss: 0.0324 - val_accuracy: 0.9927 - lr: 0.0010 - 18s/epoch - 28ms/step
Epoch 4/5
641/641 - 19s - loss: 0.0185 - accuracy: 0.9946 - val_loss: 0.0216 - val_accuracy: 0.9942 - lr: 0.0010 - 19s/epoch - 29ms/step
Epoch 5/5
641/641 - 18s - loss: 0.0170 - accuracy: 0.9950 - val_loss: 0.0244 - val_accuracy: 0.9942 - lr: 0.0010 - 18s/epoch - 29ms/step
fitting with batch size: 200
Epoch 1/5
481/481 - 22s - loss: 0.0134 - accuracy: 0.9961 - val_loss: 0.0153 - val_accuracy: 0.9970 - lr: 0.0010 - 22s/epoch - 45ms/step
Epoch 2/5
481/481 - 19s - loss: 0.0136 - accuracy: 0.9961 - val_loss: 0.0189 - val_accuracy: 0.9958 - lr: 0.0010 - 19s/epoch - 39ms/step
Epoch 3/5
481/481 - 19s - loss: 0.0131 - accuracy: 0.9962 - val_loss: 0.0225 - val_accuracy: 0.9935 - lr: 0.0010 - 19s/epoch - 40ms/step
Epoch 4/5
481/481 - 18s - loss: 0.0130 - accuracy: 0.9962 - val_loss: 0.0205 - val_accuracy: 0.9942 - lr: 0.0010 - 18s/epoch - 37ms/step
Epoch 5/5
481/481 - 16s - loss: 0.0117 - accuracy: 0.9966 - val_loss: 0.0229 - val_accuracy: 0.9935 - lr: 0.0010 - 16s/epoch - 33ms/step
fitting with batch size: 450
Epoch 1/5
214/214 - 12s - loss: 0.0056 - accuracy: 0.9982 - val_loss: 0.0127 - val_accuracy: 0.9965 - lr: 0.0010 - 12s/epoch - 55ms/step
Epoch 2/5
214/214 - 10s - loss: 0.0055 - accuracy: 0.9984 - val_loss: 0.0132 - val_accuracy: 0.9965 - lr: 0.0010 - 10s/epoch - 45ms/step
Epoch 3/5
214/214 - 10s - loss: 0.0066 - accuracy: 0.9981 - val_loss: 0.0184 - val_accuracy: 0.9952 - lr: 0.0010 - 10s/epoch - 46ms/step
Epoch 4/5
214/214 - 10s - loss: 0.0057 - accuracy: 0.9984 - val_loss: 0.0159 - val_accuracy: 0.9973 - lr: 0.0010 - 10s/epoch - 47ms/step
Epoch 5/5
214/214 - 10s - loss: 0.0065 - accuracy: 0.9982 - val_loss: 0.0227 - val_accuracy: 0.9950 - lr: 0.0010 - 10s/epoch - 45ms/step
fitting with batch size: 1350
Epoch 1/5
72/72 - 55s - loss: 0.0024 - accuracy: 0.9993 - val_loss: 0.0177 - val_accuracy: 0.9967 - lr: 0.0010 - 55s/epoch - 769ms/step
Epoch 2/5
72/72 - 8s - loss: 6.2488e-04 - accuracy: 0.9999 - val_loss: 0.0150 - val_accuracy: 0.9970 - lr: 0.0010 - 8s/epoch - 111ms/step
Epoch 3/5
72/72 - 8s - loss: 8.9680e-04 - accuracy: 0.9997 - val_loss: 0.0203 - val_accuracy: 0.9962 - lr: 0.0010 - 8s/epoch - 115ms/step
Epoch 4/5
72/72 - 8s - loss: 0.0019 - accuracy: 0.9995 - val_loss: 0.0211 - val_accuracy: 0.9973 - lr: 0.0010 - 8s/epoch - 114ms/step
Epoch 5/5
72/72 - 8s - loss: 0.0011 - accuracy: 0.9996 - val_loss: 0.0168 - val_accuracy: 0.9980 - lr: 0.0010 - 8s/epoch - 115ms/step
Epoch: 25
fitting with batch size: 50
Epoch 1/25
1922/1922 - 33s - loss: 0.0336 - accuracy: 0.9904 - val_loss: 0.0346 - val_accuracy: 0.9872 - lr: 0.0010 - 33s/epoch - 17ms/step
Epoch 2/25
1922/1922 - 31s - loss: 0.0342 - accuracy: 0.9902 - val_loss: 0.0231 - val_accuracy: 0.9927 - lr: 0.0010 - 31s/epoch - 16ms/step
Epoch 3/25
1922/1922 - 31s - loss: 0.0311 - accuracy: 0.9907 - val_loss: 0.0501 - val_accuracy: 0.9845 - lr: 0.0010 - 31s/epoch - 16ms/step
Epoch 4/25
1922/1922 - 30s - loss: 0.0339 - accuracy: 0.9901 - val_loss: 0.0342 - val_accuracy: 0.9890 - lr: 0.0010 - 30s/epoch - 16ms/step
Epoch 5/25
1922/1922 - 30s - loss: 0.0319 - accuracy: 0.9909 - val_loss: 0.0518 - val_accuracy: 0.9877 - lr: 0.0010 - 30s/epoch - 16ms/step
Epoch 6/25
1922/1922 - 31s - loss: 0.0300 - accuracy: 0.9913 - val_loss: 0.0307 - val_accuracy: 0.9923 - lr: 0.0010 - 31s/epoch - 16ms/step
Epoch 7/25
1922/1922 - 30s - loss: 0.0312 - accuracy: 0.9913 - val_loss: 0.0243 - val_accuracy: 0.9940 - lr: 0.0010 - 30s/epoch - 16ms/step
Epoch 8/25
1922/1922 - 30s - loss: 0.0306 - accuracy: 0.9911 - val_loss: 0.0292 - val_accuracy: 0.9905 - lr: 0.0010 - 30s/epoch - 16ms/step
Epoch 9/25
1922/1922 - 31s - loss: 0.0285 - accuracy: 0.9917 - val_loss: 0.0409 - val_accuracy: 0.9887 - lr: 0.0010 - 31s/epoch - 16ms/step
Epoch 10/25
1922/1922 - 30s - loss: 0.0299 - accuracy: 0.9916 - val_loss: 0.0267 - val_accuracy: 0.9915 - lr: 0.0010 - 30s/epoch - 16ms/step
Epoch 11/25
1922/1922 - 30s - loss: 0.0289 - accuracy: 0.9921 - val_loss: 0.0413 - val_accuracy: 0.9890 - lr: 0.0010 - 30s/epoch - 16ms/step
Epoch 12/25
1922/1922 - 31s - loss: 0.0282 - accuracy: 0.9919 - val_loss: 0.0274 - val_accuracy: 0.9908 - lr: 0.0010 - 31s/epoch - 16ms/step
Epoch 13/25
1922/1922 - 31s - loss: 0.0292 - accuracy: 0.9920 - val_loss: 0.0271 - val_accuracy: 0.9927 - lr: 0.0010 - 31s/epoch - 16ms/step
Epoch 14/25
1922/1922 - 30s - loss: 0.0271 - accuracy: 0.9924 - val_loss: 0.0378 - val_accuracy: 0.9898 - lr: 0.0010 - 30s/epoch - 16ms/step
Epoch 15/25
1922/1922 - 30s - loss: 0.0255 - accuracy: 0.9927 - val_loss: 0.0498 - val_accuracy: 0.9870 - lr: 0.0010 - 30s/epoch - 16ms/step
Epoch 16/25
1922/1922 - 31s - loss: 0.0281 - accuracy: 0.9923 - val_loss: 0.0309 - val_accuracy: 0.9923 - lr: 0.0010 - 31s/epoch - 16ms/step
Epoch 17/25
1922/1922 - 32s - loss: 0.0266 - accuracy: 0.9928 - val_loss: 0.0247 - val_accuracy: 0.9920 - lr: 0.0010 - 32s/epoch - 17ms/step
Epoch 18/25
1922/1922 - 31s - loss: 0.0273 - accuracy: 0.9929 - val_loss: 0.0261 - val_accuracy: 0.9908 - lr: 0.0010 - 31s/epoch - 16ms/step
Epoch 19/25
1922/1922 - 31s - loss: 0.0274 - accuracy: 0.9927 - val_loss: 0.0410 - val_accuracy: 0.9920 - lr: 0.0010 - 31s/epoch - 16ms/step
Epoch 20/25
1922/1922 - 31s - loss: 0.0279 - accuracy: 0.9925 - val_loss: 0.0492 - val_accuracy: 0.9880 - lr: 0.0010 - 31s/epoch - 16ms/step
Epoch 21/25
1922/1922 - 30s - loss: 0.0263 - accuracy: 0.9929 - val_loss: 0.0410 - val_accuracy: 0.9898 - lr: 0.0010 - 30s/epoch - 16ms/step
Epoch 22/25
1922/1922 - 30s - loss: 0.0278 - accuracy: 0.9927 - val_loss: 0.0254 - val_accuracy: 0.9933 - lr: 0.0010 - 30s/epoch - 16ms/step
Epoch 23/25
1922/1922 - 30s - loss: 0.0251 - accuracy: 0.9931 - val_loss: 0.0398 - val_accuracy: 0.9918 - lr: 0.0010 - 30s/epoch - 16ms/step
Epoch 24/25
1922/1922 - 30s - loss: 0.0266 - accuracy: 0.9928 - val_loss: 0.0369 - val_accuracy: 0.9890 - lr: 0.0010 - 30s/epoch - 16ms/step
Epoch 25/25
1922/1922 - 30s - loss: 0.0278 - accuracy: 0.9930 - val_loss: 0.0608 - val_accuracy: 0.9845 - lr: 0.0010 - 30s/epoch - 16ms/step
fitting with batch size: 150
Epoch 1/25
641/641 - 16s - loss: 0.0129 - accuracy: 0.9964 - val_loss: 0.0231 - val_accuracy: 0.9930 - lr: 0.0010 - 16s/epoch - 25ms/step
Epoch 2/25
641/641 - 14s - loss: 0.0110 - accuracy: 0.9970 - val_loss: 0.0238 - val_accuracy: 0.9940 - lr: 0.0010 - 14s/epoch - 22ms/step
Epoch 3/25
641/641 - 14s - loss: 0.0121 - accuracy: 0.9968 - val_loss: 0.0340 - val_accuracy: 0.9945 - lr: 0.0010 - 14s/epoch - 22ms/step
Epoch 4/25
641/641 - 14s - loss: 0.0108 - accuracy: 0.9972 - val_loss: 0.0181 - val_accuracy: 0.9958 - lr: 0.0010 - 14s/epoch - 22ms/step
Epoch 5/25
641/641 - 14s - loss: 0.0096 - accuracy: 0.9975 - val_loss: 0.0209 - val_accuracy: 0.9942 - lr: 0.0010 - 14s/epoch - 22ms/step
Epoch 6/25
641/641 - 14s - loss: 0.0109 - accuracy: 0.9971 - val_loss: 0.0212 - val_accuracy: 0.9960 - lr: 0.0010 - 14s/epoch - 22ms/step
Epoch 7/25
641/641 - 14s - loss: 0.0095 - accuracy: 0.9975 - val_loss: 0.0218 - val_accuracy: 0.9967 - lr: 0.0010 - 14s/epoch - 22ms/step
Epoch 8/25
641/641 - 14s - loss: 0.0107 - accuracy: 0.9975 - val_loss: 0.0219 - val_accuracy: 0.9948 - lr: 0.0010 - 14s/epoch - 22ms/step
Epoch 9/25
641/641 - 14s - loss: 0.0103 - accuracy: 0.9975 - val_loss: 0.0406 - val_accuracy: 0.9937 - lr: 0.0010 - 14s/epoch - 22ms/step
Epoch 10/25
641/641 - 14s - loss: 0.0104 - accuracy: 0.9975 - val_loss: 0.0264 - val_accuracy: 0.9948 - lr: 0.0010 - 14s/epoch - 22ms/step
Epoch 11/25
641/641 - 14s - loss: 0.0105 - accuracy: 0.9973 - val_loss: 0.0345 - val_accuracy: 0.9945 - lr: 0.0010 - 14s/epoch - 22ms/step
Epoch 12/25
641/641 - 14s - loss: 0.0099 - accuracy: 0.9978 - val_loss: 0.0167 - val_accuracy: 0.9973 - lr: 0.0010 - 14s/epoch - 22ms/step
Epoch 13/25
641/641 - 14s - loss: 0.0101 - accuracy: 0.9974 - val_loss: 0.0182 - val_accuracy: 0.9962 - lr: 0.0010 - 14s/epoch - 22ms/step
Epoch 14/25
641/641 - 14s - loss: 0.0091 - accuracy: 0.9976 - val_loss: 0.0270 - val_accuracy: 0.9958 - lr: 0.0010 - 14s/epoch - 22ms/step
Epoch 15/25
641/641 - 14s - loss: 0.0109 - accuracy: 0.9974 - val_loss: 0.0254 - val_accuracy: 0.9942 - lr: 0.0010 - 14s/epoch - 22ms/step
Epoch 16/25
641/641 - 14s - loss: 0.0095 - accuracy: 0.9976 - val_loss: 0.0542 - val_accuracy: 0.9925 - lr: 0.0010 - 14s/epoch - 22ms/step
Epoch 17/25
641/641 - 14s - loss: 0.0100 - accuracy: 0.9974 - val_loss: 0.0255 - val_accuracy: 0.9950 - lr: 0.0010 - 14s/epoch - 22ms/step
Epoch 18/25
641/641 - 14s - loss: 0.0117 - accuracy: 0.9973 - val_loss: 0.0276 - val_accuracy: 0.9950 - lr: 0.0010 - 14s/epoch - 22ms/step
Epoch 19/25
641/641 - 14s - loss: 0.0116 - accuracy: 0.9973 - val_loss: 0.0301 - val_accuracy: 0.9952 - lr: 0.0010 - 14s/epoch - 22ms/step
Epoch 20/25
641/641 - 14s - loss: 0.0100 - accuracy: 0.9976 - val_loss: 0.0271 - val_accuracy: 0.9952 - lr: 0.0010 - 14s/epoch - 22ms/step
Epoch 21/25
641/641 - 14s - loss: 0.0097 - accuracy: 0.9978 - val_loss: 0.0311 - val_accuracy: 0.9940 - lr: 0.0010 - 14s/epoch - 22ms/step
Epoch 22/25
641/641 - 14s - loss: 0.0101 - accuracy: 0.9976 - val_loss: 0.0650 - val_accuracy: 0.9925 - lr: 0.0010 - 14s/epoch - 22ms/step
Epoch 23/25
641/641 - 14s - loss: 0.0088 - accuracy: 0.9976 - val_loss: 0.0224 - val_accuracy: 0.9940 - lr: 0.0010 - 14s/epoch - 22ms/step
Epoch 24/25
641/641 - 14s - loss: 0.0094 - accuracy: 0.9978 - val_loss: 0.0515 - val_accuracy: 0.9925 - lr: 0.0010 - 14s/epoch - 22ms/step
Epoch 25/25
641/641 - 14s - loss: 0.0104 - accuracy: 0.9976 - val_loss: 0.0327 - val_accuracy: 0.9937 - lr: 0.0010 - 14s/epoch - 22ms/step
fitting with batch size: 200
Epoch 1/25
481/481 - 16s - loss: 0.0080 - accuracy: 0.9981 - val_loss: 0.0288 - val_accuracy: 0.9945 - lr: 0.0010 - 16s/epoch - 34ms/step
Epoch 2/25
481/481 - 14s - loss: 0.0066 - accuracy: 0.9985 - val_loss: 0.0313 - val_accuracy: 0.9952 - lr: 0.0010 - 14s/epoch - 29ms/step
Epoch 3/25
481/481 - 14s - loss: 0.0072 - accuracy: 0.9985 - val_loss: 0.0248 - val_accuracy: 0.9965 - lr: 0.0010 - 14s/epoch - 30ms/step
Epoch 4/25
481/481 - 14s - loss: 0.0083 - accuracy: 0.9979 - val_loss: 0.0286 - val_accuracy: 0.9945 - lr: 0.0010 - 14s/epoch - 30ms/step
Epoch 5/25
481/481 - 14s - loss: 0.0083 - accuracy: 0.9981 - val_loss: 0.0262 - val_accuracy: 0.9952 - lr: 0.0010 - 14s/epoch - 29ms/step
Epoch 6/25
481/481 - 14s - loss: 0.0073 - accuracy: 0.9982 - val_loss: 0.0249 - val_accuracy: 0.9950 - lr: 0.0010 - 14s/epoch - 30ms/step
Epoch 7/25
481/481 - 14s - loss: 0.0064 - accuracy: 0.9985 - val_loss: 0.0407 - val_accuracy: 0.9937 - lr: 0.0010 - 14s/epoch - 29ms/step
Epoch 8/25
481/481 - 14s - loss: 0.0069 - accuracy: 0.9983 - val_loss: 0.0254 - val_accuracy: 0.9962 - lr: 0.0010 - 14s/epoch - 30ms/step
Epoch 9/25
481/481 - 14s - loss: 0.0072 - accuracy: 0.9987 - val_loss: 0.0182 - val_accuracy: 0.9955 - lr: 0.0010 - 14s/epoch - 30ms/step
Epoch 10/25
481/481 - 14s - loss: 0.0075 - accuracy: 0.9981 - val_loss: 0.0338 - val_accuracy: 0.9950 - lr: 0.0010 - 14s/epoch - 29ms/step
Epoch 11/25
481/481 - 14s - loss: 0.0091 - accuracy: 0.9978 - val_loss: 0.0330 - val_accuracy: 0.9950 - lr: 0.0010 - 14s/epoch - 30ms/step
Epoch 12/25
481/481 - 14s - loss: 0.0082 - accuracy: 0.9984 - val_loss: 0.0349 - val_accuracy: 0.9952 - lr: 0.0010 - 14s/epoch - 29ms/step
Epoch 13/25
481/481 - 14s - loss: 0.0050 - accuracy: 0.9989 - val_loss: 0.0294 - val_accuracy: 0.9945 - lr: 0.0010 - 14s/epoch - 30ms/step
Epoch 14/25
481/481 - 14s - loss: 0.0085 - accuracy: 0.9979 - val_loss: 0.0316 - val_accuracy: 0.9930 - lr: 0.0010 - 14s/epoch - 30ms/step
Epoch 15/25
481/481 - 14s - loss: 0.0064 - accuracy: 0.9985 - val_loss: 0.0641 - val_accuracy: 0.9925 - lr: 0.0010 - 14s/epoch - 29ms/step
Epoch 16/25
481/481 - 14s - loss: 0.0076 - accuracy: 0.9982 - val_loss: 0.0441 - val_accuracy: 0.9925 - lr: 0.0010 - 14s/epoch - 30ms/step
Epoch 17/25
481/481 - 14s - loss: 0.0071 - accuracy: 0.9984 - val_loss: 0.0296 - val_accuracy: 0.9955 - lr: 0.0010 - 14s/epoch - 30ms/step
Epoch 18/25
481/481 - 14s - loss: 0.0086 - accuracy: 0.9981 - val_loss: 0.0247 - val_accuracy: 0.9958 - lr: 0.0010 - 14s/epoch - 29ms/step
Epoch 19/25
481/481 - 14s - loss: 0.0059 - accuracy: 0.9985 - val_loss: 0.0240 - val_accuracy: 0.9958 - lr: 0.0010 - 14s/epoch - 30ms/step
Epoch 20/25
481/481 - 14s - loss: 0.0063 - accuracy: 0.9985 - val_loss: 0.0402 - val_accuracy: 0.9960 - lr: 0.0010 - 14s/epoch - 29ms/step
Epoch 21/25
481/481 - 14s - loss: 0.0084 - accuracy: 0.9982 - val_loss: 0.0495 - val_accuracy: 0.9958 - lr: 0.0010 - 14s/epoch - 30ms/step
Epoch 22/25
481/481 - 14s - loss: 0.0070 - accuracy: 0.9986 - val_loss: 0.0455 - val_accuracy: 0.9937 - lr: 0.0010 - 14s/epoch - 30ms/step
Epoch 23/25
481/481 - 14s - loss: 0.0070 - accuracy: 0.9983 - val_loss: 0.0601 - val_accuracy: 0.9955 - lr: 0.0010 - 14s/epoch - 29ms/step
Epoch 24/25
481/481 - 14s - loss: 0.0065 - accuracy: 0.9986 - val_loss: 0.0304 - val_accuracy: 0.9952 - lr: 0.0010 - 14s/epoch - 30ms/step
Epoch 25/25
481/481 - 14s - loss: 0.0067 - accuracy: 0.9985 - val_loss: 0.0222 - val_accuracy: 0.9960 - lr: 0.0010 - 14s/epoch - 29ms/step
fitting with batch size: 450
Epoch 1/25
214/214 - 12s - loss: 0.0023 - accuracy: 0.9994 - val_loss: 0.0301 - val_accuracy: 0.9967 - lr: 0.0010 - 12s/epoch - 54ms/step
Epoch 2/25
214/214 - 9s - loss: 0.0026 - accuracy: 0.9994 - val_loss: 0.0338 - val_accuracy: 0.9970 - lr: 0.0010 - 9s/epoch - 44ms/step
Epoch 3/25
214/214 - 9s - loss: 0.0051 - accuracy: 0.9987 - val_loss: 0.0203 - val_accuracy: 0.9967 - lr: 0.0010 - 9s/epoch - 44ms/step
Epoch 4/25
214/214 - 9s - loss: 0.0038 - accuracy: 0.9992 - val_loss: 0.0217 - val_accuracy: 0.9960 - lr: 0.0010 - 9s/epoch - 44ms/step
Epoch 5/25
214/214 - 9s - loss: 0.0024 - accuracy: 0.9995 - val_loss: 0.0282 - val_accuracy: 0.9955 - lr: 0.0010 - 9s/epoch - 44ms/step
Epoch 6/25
214/214 - 9s - loss: 0.0045 - accuracy: 0.9989 - val_loss: 0.0409 - val_accuracy: 0.9960 - lr: 0.0010 - 9s/epoch - 44ms/step
Epoch 7/25
214/214 - 9s - loss: 0.0043 - accuracy: 0.9991 - val_loss: 0.0330 - val_accuracy: 0.9950 - lr: 0.0010 - 9s/epoch - 44ms/step
Epoch 8/25
214/214 - 9s - loss: 0.0038 - accuracy: 0.9992 - val_loss: 0.0384 - val_accuracy: 0.9960 - lr: 0.0010 - 9s/epoch - 44ms/step
Epoch 9/25
214/214 - 9s - loss: 0.0020 - accuracy: 0.9996 - val_loss: 0.0600 - val_accuracy: 0.9958 - lr: 0.0010 - 9s/epoch - 44ms/step
Epoch 10/25
214/214 - 9s - loss: 0.0036 - accuracy: 0.9992 - val_loss: 0.0218 - val_accuracy: 0.9940 - lr: 0.0010 - 9s/epoch - 44ms/step
Epoch 11/25
214/214 - 9s - loss: 0.0041 - accuracy: 0.9991 - val_loss: 0.0261 - val_accuracy: 0.9958 - lr: 0.0010 - 9s/epoch - 44ms/step
Epoch 12/25
214/214 - 9s - loss: 0.0029 - accuracy: 0.9993 - val_loss: 0.0366 - val_accuracy: 0.9937 - lr: 0.0010 - 9s/epoch - 44ms/step
Epoch 13/25
214/214 - 9s - loss: 0.0034 - accuracy: 0.9993 - val_loss: 0.0387 - val_accuracy: 0.9958 - lr: 0.0010 - 9s/epoch - 44ms/step
Epoch 14/25
214/214 - 9s - loss: 0.0038 - accuracy: 0.9991 - val_loss: 0.0411 - val_accuracy: 0.9952 - lr: 0.0010 - 9s/epoch - 44ms/step
Epoch 15/25
214/214 - 9s - loss: 0.0038 - accuracy: 0.9992 - val_loss: 0.0214 - val_accuracy: 0.9967 - lr: 0.0010 - 9s/epoch - 44ms/step
Epoch 16/25
214/214 - 9s - loss: 0.0028 - accuracy: 0.9996 - val_loss: 0.0455 - val_accuracy: 0.9950 - lr: 0.0010 - 9s/epoch - 44ms/step
Epoch 17/25
214/214 - 9s - loss: 0.0041 - accuracy: 0.9991 - val_loss: 0.0377 - val_accuracy: 0.9962 - lr: 0.0010 - 9s/epoch - 44ms/step
Epoch 18/25
214/214 - 9s - loss: 0.0029 - accuracy: 0.9993 - val_loss: 0.0579 - val_accuracy: 0.9945 - lr: 0.0010 - 9s/epoch - 44ms/step
Epoch 19/25
214/214 - 9s - loss: 0.0039 - accuracy: 0.9992 - val_loss: 0.0358 - val_accuracy: 0.9965 - lr: 0.0010 - 9s/epoch - 44ms/step
Epoch 20/25
214/214 - 9s - loss: 0.0024 - accuracy: 0.9995 - val_loss: 0.0370 - val_accuracy: 0.9955 - lr: 0.0010 - 9s/epoch - 44ms/step
Epoch 21/25
214/214 - 9s - loss: 0.0038 - accuracy: 0.9992 - val_loss: 0.0535 - val_accuracy: 0.9970 - lr: 0.0010 - 9s/epoch - 44ms/step
Epoch 22/25
214/214 - 9s - loss: 0.0020 - accuracy: 0.9995 - val_loss: 0.0403 - val_accuracy: 0.9977 - lr: 0.0010 - 9s/epoch - 43ms/step
Epoch 23/25
214/214 - 9s - loss: 0.0047 - accuracy: 0.9990 - val_loss: 0.0265 - val_accuracy: 0.9958 - lr: 0.0010 - 9s/epoch - 44ms/step
Epoch 24/25
214/214 - 9s - loss: 0.0029 - accuracy: 0.9993 - val_loss: 0.0334 - val_accuracy: 0.9958 - lr: 0.0010 - 9s/epoch - 44ms/step
Epoch 25/25
214/214 - 9s - loss: 0.0017 - accuracy: 0.9995 - val_loss: 0.0254 - val_accuracy: 0.9970 - lr: 0.0010 - 9s/epoch - 44ms/step
fitting with batch size: 1350
Epoch 1/25
72/72 - 10s - loss: 0.0015 - accuracy: 0.9997 - val_loss: 0.0204 - val_accuracy: 0.9960 - lr: 0.0010 - 10s/epoch - 138ms/step
Epoch 2/25
72/72 - 8s - loss: 1.0531e-04 - accuracy: 1.0000 - val_loss: 0.0319 - val_accuracy: 0.9962 - lr: 0.0010 - 8s/epoch - 109ms/step
Epoch 3/25
72/72 - 8s - loss: 5.6483e-04 - accuracy: 0.9998 - val_loss: 0.0327 - val_accuracy: 0.9967 - lr: 0.0010 - 8s/epoch - 112ms/step
Epoch 4/25
72/72 - 8s - loss: 0.0015 - accuracy: 0.9996 - val_loss: 0.0384 - val_accuracy: 0.9960 - lr: 0.0010 - 8s/epoch - 111ms/step
Epoch 5/25
72/72 - 8s - loss: 0.0020 - accuracy: 0.9995 - val_loss: 0.0393 - val_accuracy: 0.9965 - lr: 0.0010 - 8s/epoch - 109ms/step
Epoch 6/25
72/72 - 8s - loss: 5.1719e-04 - accuracy: 0.9999 - val_loss: 0.0425 - val_accuracy: 0.9967 - lr: 0.0010 - 8s/epoch - 111ms/step
Epoch 7/25
72/72 - 8s - loss: 0.0022 - accuracy: 0.9996 - val_loss: 0.0399 - val_accuracy: 0.9970 - lr: 0.0010 - 8s/epoch - 109ms/step
Epoch 8/25
72/72 - 8s - loss: 0.0010 - accuracy: 0.9998 - val_loss: 0.0434 - val_accuracy: 0.9967 - lr: 0.0010 - 8s/epoch - 109ms/step
Epoch 9/25
72/72 - 8s - loss: 7.3897e-04 - accuracy: 0.9998 - val_loss: 0.0677 - val_accuracy: 0.9952 - lr: 0.0010 - 8s/epoch - 110ms/step
Epoch 10/25
72/72 - 8s - loss: 0.0016 - accuracy: 0.9997 - val_loss: 0.0506 - val_accuracy: 0.9948 - lr: 0.0010 - 8s/epoch - 109ms/step
Epoch 11/25
72/72 - 8s - loss: 0.0025 - accuracy: 0.9994 - val_loss: 0.0426 - val_accuracy: 0.9958 - lr: 0.0010 - 8s/epoch - 109ms/step
Epoch 12/25
72/72 - 8s - loss: 0.0011 - accuracy: 0.9998 - val_loss: 0.0445 - val_accuracy: 0.9952 - lr: 0.0010 - 8s/epoch - 110ms/step
Epoch 13/25
72/72 - 8s - loss: 9.5326e-04 - accuracy: 0.9998 - val_loss: 0.0453 - val_accuracy: 0.9960 - lr: 0.0010 - 8s/epoch - 109ms/step
Epoch 14/25
72/72 - 8s - loss: 1.4020e-04 - accuracy: 1.0000 - val_loss: 0.0486 - val_accuracy: 0.9960 - lr: 0.0010 - 8s/epoch - 109ms/step
Epoch 15/25
72/72 - 8s - loss: 2.1415e-04 - accuracy: 0.9999 - val_loss: 0.0615 - val_accuracy: 0.9962 - lr: 0.0010 - 8s/epoch - 110ms/step
Epoch 16/25
72/72 - 8s - loss: 0.0012 - accuracy: 0.9997 - val_loss: 0.0372 - val_accuracy: 0.9960 - lr: 0.0010 - 8s/epoch - 109ms/step
Epoch 17/25
72/72 - 8s - loss: 0.0013 - accuracy: 0.9997 - val_loss: 0.0145 - val_accuracy: 0.9980 - lr: 0.0010 - 8s/epoch - 110ms/step
Epoch 18/25
72/72 - 8s - loss: 0.0018 - accuracy: 0.9997 - val_loss: 0.0399 - val_accuracy: 0.9970 - lr: 0.0010 - 8s/epoch - 109ms/step
Epoch 19/25
72/72 - 8s - loss: 0.0017 - accuracy: 0.9997 - val_loss: 0.0223 - val_accuracy: 0.9967 - lr: 0.0010 - 8s/epoch - 109ms/step
Epoch 20/25
72/72 - 8s - loss: 8.2207e-04 - accuracy: 0.9998 - val_loss: 0.0428 - val_accuracy: 0.9960 - lr: 0.0010 - 8s/epoch - 110ms/step
Epoch 21/25
72/72 - 8s - loss: 0.0023 - accuracy: 0.9997 - val_loss: 0.0220 - val_accuracy: 0.9962 - lr: 0.0010 - 8s/epoch - 109ms/step
Epoch 22/25
72/72 - 8s - loss: 0.0015 - accuracy: 0.9996 - val_loss: 0.0143 - val_accuracy: 0.9985 - lr: 0.0010 - 8s/epoch - 109ms/step
Epoch 23/25
72/72 - 8s - loss: 2.9191e-04 - accuracy: 0.9999 - val_loss: 0.0390 - val_accuracy: 0.9977 - lr: 0.0010 - 8s/epoch - 110ms/step
Epoch 24/25
72/72 - 8s - loss: 6.1721e-05 - accuracy: 1.0000 - val_loss: 0.0519 - val_accuracy: 0.9973 - lr: 0.0010 - 8s/epoch - 109ms/step
Epoch 25/25
72/72 - 8s - loss: 0.0018 - accuracy: 0.9996 - val_loss: 0.0495 - val_accuracy: 0.9962 - lr: 0.0010 - 8s/epoch - 109ms/step
Epoch: 125
fitting with batch size: 50
Epoch 1/125
1922/1922 - 32s - loss: 0.0277 - accuracy: 0.9945 - val_loss: 0.0705 - val_accuracy: 0.9835 - lr: 0.0010 - 32s/epoch - 17ms/step
Epoch 2/125
1922/1922 - 30s - loss: 0.0259 - accuracy: 0.9940 - val_loss: 0.0460 - val_accuracy: 0.9877 - lr: 0.0010 - 30s/epoch - 16ms/step
Epoch 3/125
1922/1922 - 30s - loss: 0.0277 - accuracy: 0.9943 - val_loss: 0.0254 - val_accuracy: 0.9898 - lr: 0.0010 - 30s/epoch - 16ms/step
Epoch 4/125
1922/1922 - 30s - loss: 0.0291 - accuracy: 0.9935 - val_loss: 0.0450 - val_accuracy: 0.9885 - lr: 0.0010 - 30s/epoch - 16ms/step
Epoch 5/125
1922/1922 - 30s - loss: 0.0254 - accuracy: 0.9937 - val_loss: 0.0423 - val_accuracy: 0.9923 - lr: 0.0010 - 30s/epoch - 16ms/step
Epoch 6/125
1922/1922 - 30s - loss: 0.0246 - accuracy: 0.9948 - val_loss: 0.0636 - val_accuracy: 0.9915 - lr: 0.0010 - 30s/epoch - 16ms/step
Epoch 7/125
1922/1922 - 30s - loss: 0.0284 - accuracy: 0.9940 - val_loss: 0.0530 - val_accuracy: 0.9925 - lr: 0.0010 - 30s/epoch - 16ms/step
Epoch 8/125
1922/1922 - 30s - loss: 0.0243 - accuracy: 0.9944 - val_loss: 0.0381 - val_accuracy: 0.9905 - lr: 0.0010 - 30s/epoch - 16ms/step
Epoch 9/125
1922/1922 - 30s - loss: 0.0277 - accuracy: 0.9940 - val_loss: 0.0369 - val_accuracy: 0.9945 - lr: 0.0010 - 30s/epoch - 16ms/step
Epoch 10/125
1922/1922 - 31s - loss: 0.0270 - accuracy: 0.9936 - val_loss: 0.1091 - val_accuracy: 0.9855 - lr: 0.0010 - 31s/epoch - 16ms/step
Epoch 11/125
1922/1922 - 32s - loss: 0.0322 - accuracy: 0.9927 - val_loss: 0.0293 - val_accuracy: 0.9902 - lr: 0.0010 - 32s/epoch - 17ms/step
Epoch 12/125
1922/1922 - 32s - loss: 0.0295 - accuracy: 0.9932 - val_loss: 0.0492 - val_accuracy: 0.9910 - lr: 0.0010 - 32s/epoch - 16ms/step
Epoch 13/125
1922/1922 - 32s - loss: 0.0303 - accuracy: 0.9933 - val_loss: 0.0536 - val_accuracy: 0.9908 - lr: 0.0010 - 32s/epoch - 16ms/step
Epoch 14/125
1922/1922 - 32s - loss: 0.0332 - accuracy: 0.9927 - val_loss: 0.0461 - val_accuracy: 0.9912 - lr: 0.0010 - 32s/epoch - 17ms/step
Epoch 15/125
1922/1922 - 32s - loss: 0.0331 - accuracy: 0.9933 - val_loss: 0.0491 - val_accuracy: 0.9927 - lr: 0.0010 - 32s/epoch - 17ms/step
Epoch 16/125
1922/1922 - 33s - loss: 0.0301 - accuracy: 0.9933 - val_loss: 0.0654 - val_accuracy: 0.9885 - lr: 0.0010 - 33s/epoch - 17ms/step
Epoch 17/125
1922/1922 - 31s - loss: 0.0302 - accuracy: 0.9938 - val_loss: 0.0282 - val_accuracy: 0.9935 - lr: 0.0010 - 31s/epoch - 16ms/step
Epoch 18/125
1922/1922 - 32s - loss: 0.0329 - accuracy: 0.9927 - val_loss: 0.0460 - val_accuracy: 0.9893 - lr: 0.0010 - 32s/epoch - 16ms/step
Epoch 19/125
1922/1922 - 36s - loss: 0.0342 - accuracy: 0.9930 - val_loss: 0.1149 - val_accuracy: 0.9837 - lr: 0.0010 - 36s/epoch - 19ms/step
Epoch 20/125
1922/1922 - 36s - loss: 0.0338 - accuracy: 0.9928 - val_loss: 0.0252 - val_accuracy: 0.9927 - lr: 0.0010 - 36s/epoch - 19ms/step
Epoch 21/125
1922/1922 - 36s - loss: 0.0292 - accuracy: 0.9933 - val_loss: 0.0263 - val_accuracy: 0.9927 - lr: 0.0010 - 36s/epoch - 19ms/step
Epoch 22/125
1922/1922 - 35s - loss: 0.0310 - accuracy: 0.9933 - val_loss: 0.0392 - val_accuracy: 0.9905 - lr: 0.0010 - 35s/epoch - 18ms/step
Epoch 23/125
1922/1922 - 36s - loss: 0.0405 - accuracy: 0.9924 - val_loss: 0.0567 - val_accuracy: 0.9908 - lr: 0.0010 - 36s/epoch - 19ms/step
Epoch 24/125
1922/1922 - 36s - loss: 0.0332 - accuracy: 0.9930 - val_loss: 0.0309 - val_accuracy: 0.9927 - lr: 0.0010 - 36s/epoch - 19ms/step
Epoch 25/125
1922/1922 - 36s - loss: 0.0340 - accuracy: 0.9923 - val_loss: 0.0434 - val_accuracy: 0.9883 - lr: 0.0010 - 36s/epoch - 19ms/step
Epoch 26/125
1922/1922 - 36s - loss: 0.0373 - accuracy: 0.9922 - val_loss: 0.0829 - val_accuracy: 0.9870 - lr: 0.0010 - 36s/epoch - 19ms/step
Epoch 27/125
1922/1922 - 35s - loss: 0.0337 - accuracy: 0.9924 - val_loss: 0.0272 - val_accuracy: 0.9942 - lr: 0.0010 - 35s/epoch - 18ms/step
Epoch 28/125
1922/1922 - 37s - loss: 0.0333 - accuracy: 0.9930 - val_loss: 0.0833 - val_accuracy: 0.9818 - lr: 0.0010 - 37s/epoch - 19ms/step
Epoch 29/125
1922/1922 - 35s - loss: 0.0346 - accuracy: 0.9926 - val_loss: 0.0378 - val_accuracy: 0.9920 - lr: 0.0010 - 35s/epoch - 18ms/step
Epoch 30/125
1922/1922 - 35s - loss: 0.0338 - accuracy: 0.9930 - val_loss: 0.0768 - val_accuracy: 0.9885 - lr: 0.0010 - 35s/epoch - 18ms/step
Epoch 31/125
1922/1922 - 35s - loss: 0.0339 - accuracy: 0.9926 - val_loss: 0.1098 - val_accuracy: 0.9883 - lr: 0.0010 - 35s/epoch - 18ms/step
Epoch 32/125
1922/1922 - 35s - loss: 0.0358 - accuracy: 0.9922 - val_loss: 0.0823 - val_accuracy: 0.9812 - lr: 0.0010 - 35s/epoch - 18ms/step
Epoch 33/125
1922/1922 - 34s - loss: 0.0390 - accuracy: 0.9914 - val_loss: 0.0316 - val_accuracy: 0.9927 - lr: 0.0010 - 34s/epoch - 18ms/step
Epoch 34/125
1922/1922 - 34s - loss: 0.0372 - accuracy: 0.9925 - val_loss: 0.0328 - val_accuracy: 0.9933 - lr: 0.0010 - 34s/epoch - 18ms/step
Epoch 35/125
1922/1922 - 30s - loss: 0.0359 - accuracy: 0.9925 - val_loss: 0.0594 - val_accuracy: 0.9912 - lr: 0.0010 - 30s/epoch - 16ms/step
Epoch 36/125
1922/1922 - 31s - loss: 0.0362 - accuracy: 0.9923 - val_loss: 0.0326 - val_accuracy: 0.9945 - lr: 0.0010 - 31s/epoch - 16ms/step
Epoch 37/125
1922/1922 - 31s - loss: 0.0411 - accuracy: 0.9916 - val_loss: 0.0458 - val_accuracy: 0.9898 - lr: 0.0010 - 31s/epoch - 16ms/step
Epoch 38/125
1922/1922 - 31s - loss: 0.0384 - accuracy: 0.9919 - val_loss: 0.0261 - val_accuracy: 0.9950 - lr: 0.0010 - 31s/epoch - 16ms/step
Epoch 39/125
1922/1922 - 30s - loss: 0.0415 - accuracy: 0.9922 - val_loss: 0.0508 - val_accuracy: 0.9858 - lr: 0.0010 - 30s/epoch - 16ms/step
Epoch 40/125
1922/1922 - 30s - loss: 0.0401 - accuracy: 0.9920 - val_loss: 0.0326 - val_accuracy: 0.9940 - lr: 0.0010 - 30s/epoch - 16ms/step
Epoch 41/125
1922/1922 - 30s - loss: 0.0327 - accuracy: 0.9930 - val_loss: 0.0343 - val_accuracy: 0.9925 - lr: 0.0010 - 30s/epoch - 16ms/step
Epoch 42/125
1922/1922 - 30s - loss: 0.0479 - accuracy: 0.9909 - val_loss: 0.0630 - val_accuracy: 0.9912 - lr: 0.0010 - 30s/epoch - 16ms/step
Epoch 43/125
1922/1922 - 30s - loss: 0.0375 - accuracy: 0.9919 - val_loss: 0.0577 - val_accuracy: 0.9900 - lr: 0.0010 - 30s/epoch - 15ms/step
Epoch 44/125
1922/1922 - 30s - loss: 0.0341 - accuracy: 0.9923 - val_loss: 0.0348 - val_accuracy: 0.9927 - lr: 0.0010 - 30s/epoch - 16ms/step
Epoch 45/125
1922/1922 - 32s - loss: 0.0320 - accuracy: 0.9929 - val_loss: 0.0382 - val_accuracy: 0.9925 - lr: 0.0010 - 32s/epoch - 17ms/step
Epoch 46/125
1922/1922 - 34s - loss: 0.0454 - accuracy: 0.9922 - val_loss: 0.0384 - val_accuracy: 0.9910 - lr: 0.0010 - 34s/epoch - 17ms/step
Epoch 47/125
1922/1922 - 33s - loss: 0.0346 - accuracy: 0.9925 - val_loss: 0.0843 - val_accuracy: 0.9908 - lr: 0.0010 - 33s/epoch - 17ms/step
Epoch 48/125
1922/1922 - 36s - loss: 0.0361 - accuracy: 0.9927 - val_loss: 0.0664 - val_accuracy: 0.9942 - lr: 0.0010 - 36s/epoch - 19ms/step
Epoch 49/125
1922/1922 - 38s - loss: 0.0348 - accuracy: 0.9925 - val_loss: 0.0496 - val_accuracy: 0.9912 - lr: 0.0010 - 38s/epoch - 20ms/step
Epoch 50/125
1922/1922 - 41s - loss: 0.0298 - accuracy: 0.9933 - val_loss: 0.1878 - val_accuracy: 0.9918 - lr: 0.0010 - 41s/epoch - 21ms/step
Epoch 51/125
1922/1922 - 39s - loss: 0.0407 - accuracy: 0.9922 - val_loss: 0.0751 - val_accuracy: 0.9920 - lr: 0.0010 - 39s/epoch - 20ms/step
Epoch 52/125
1922/1922 - 37s - loss: 0.0337 - accuracy: 0.9929 - val_loss: 0.0502 - val_accuracy: 0.9925 - lr: 0.0010 - 37s/epoch - 19ms/step
Epoch 53/125
1922/1922 - 34s - loss: 0.0478 - accuracy: 0.9918 - val_loss: 0.1128 - val_accuracy: 0.9862 - lr: 0.0010 - 34s/epoch - 18ms/step
Epoch 54/125
1922/1922 - 36s - loss: 0.0344 - accuracy: 0.9928 - val_loss: 0.0966 - val_accuracy: 0.9912 - lr: 0.0010 - 36s/epoch - 18ms/step
Epoch 55/125
1922/1922 - 35s - loss: 0.0372 - accuracy: 0.9918 - val_loss: 0.0523 - val_accuracy: 0.9925 - lr: 0.0010 - 35s/epoch - 18ms/step
Epoch 56/125
1922/1922 - 34s - loss: 0.0425 - accuracy: 0.9912 - val_loss: 0.0356 - val_accuracy: 0.9900 - lr: 0.0010 - 34s/epoch - 18ms/step
Epoch 57/125
1922/1922 - 34s - loss: 0.0343 - accuracy: 0.9920 - val_loss: 0.0356 - val_accuracy: 0.9933 - lr: 0.0010 - 34s/epoch - 18ms/step
Epoch 58/125
1922/1922 - 36s - loss: 0.0384 - accuracy: 0.9925 - val_loss: 0.0873 - val_accuracy: 0.9918 - lr: 0.0010 - 36s/epoch - 19ms/step
Epoch 59/125
1922/1922 - 35s - loss: 0.0404 - accuracy: 0.9919 - val_loss: 0.0421 - val_accuracy: 0.9945 - lr: 0.0010 - 35s/epoch - 18ms/step
Epoch 60/125
1922/1922 - 35s - loss: 0.0522 - accuracy: 0.9898 - val_loss: 0.1232 - val_accuracy: 0.9753 - lr: 0.0010 - 35s/epoch - 18ms/step
Epoch 61/125
1922/1922 - 34s - loss: 0.0373 - accuracy: 0.9919 - val_loss: 0.0836 - val_accuracy: 0.9912 - lr: 0.0010 - 34s/epoch - 18ms/step
Epoch 62/125
1922/1922 - 34s - loss: 0.0361 - accuracy: 0.9926 - val_loss: 0.0993 - val_accuracy: 0.9890 - lr: 0.0010 - 34s/epoch - 18ms/step
Epoch 63/125
1922/1922 - 33s - loss: 0.0542 - accuracy: 0.9895 - val_loss: 0.0374 - val_accuracy: 0.9910 - lr: 0.0010 - 33s/epoch - 17ms/step
Epoch 64/125
1922/1922 - 32s - loss: 0.0445 - accuracy: 0.9914 - val_loss: 0.0606 - val_accuracy: 0.9883 - lr: 0.0010 - 32s/epoch - 17ms/step
Epoch 65/125
1922/1922 - 32s - loss: 0.0401 - accuracy: 0.9917 - val_loss: 0.0413 - val_accuracy: 0.9923 - lr: 0.0010 - 32s/epoch - 17ms/step
Epoch 66/125
1922/1922 - 32s - loss: 0.0348 - accuracy: 0.9924 - val_loss: 0.0808 - val_accuracy: 0.9860 - lr: 0.0010 - 32s/epoch - 17ms/step
Epoch 67/125
1922/1922 - 33s - loss: 0.0455 - accuracy: 0.9908 - val_loss: 0.0929 - val_accuracy: 0.9925 - lr: 0.0010 - 33s/epoch - 17ms/step
Epoch 68/125
1922/1922 - 35s - loss: 0.0724 - accuracy: 0.9912 - val_loss: 0.0522 - val_accuracy: 0.9850 - lr: 0.0010 - 35s/epoch - 18ms/step
Epoch 69/125
1922/1922 - 35s - loss: 0.0386 - accuracy: 0.9922 - val_loss: 0.0311 - val_accuracy: 0.9927 - lr: 0.0010 - 35s/epoch - 18ms/step
Epoch 70/125
1922/1922 - 34s - loss: 0.0427 - accuracy: 0.9910 - val_loss: 0.0299 - val_accuracy: 0.9920 - lr: 0.0010 - 34s/epoch - 18ms/step
Epoch 71/125
1922/1922 - 35s - loss: 0.0420 - accuracy: 0.9912 - val_loss: 0.0234 - val_accuracy: 0.9955 - lr: 0.0010 - 35s/epoch - 18ms/step
Epoch 72/125
1922/1922 - 34s - loss: 0.0429 - accuracy: 0.9912 - val_loss: 0.0288 - val_accuracy: 0.9952 - lr: 0.0010 - 34s/epoch - 17ms/step
Epoch 73/125
1922/1922 - 32s - loss: 0.0446 - accuracy: 0.9912 - val_loss: 0.0540 - val_accuracy: 0.9912 - lr: 0.0010 - 32s/epoch - 17ms/step
Epoch 74/125
1922/1922 - 32s - loss: 0.0465 - accuracy: 0.9905 - val_loss: 0.0617 - val_accuracy: 0.9908 - lr: 0.0010 - 32s/epoch - 17ms/step
Epoch 75/125
1922/1922 - 32s - loss: 0.0476 - accuracy: 0.9900 - val_loss: 0.0422 - val_accuracy: 0.9933 - lr: 0.0010 - 32s/epoch - 17ms/step
Epoch 76/125
1922/1922 - 32s - loss: 0.0434 - accuracy: 0.9908 - val_loss: 0.0352 - val_accuracy: 0.9940 - lr: 0.0010 - 32s/epoch - 17ms/step
Epoch 77/125
1922/1922 - 33s - loss: 0.0555 - accuracy: 0.9908 - val_loss: 0.0519 - val_accuracy: 0.9923 - lr: 0.0010 - 33s/epoch - 17ms/step
Epoch 78/125
1922/1922 - 32s - loss: 0.0546 - accuracy: 0.9889 - val_loss: 0.0475 - val_accuracy: 0.9893 - lr: 0.0010 - 32s/epoch - 17ms/step
Epoch 79/125
1922/1922 - 32s - loss: 0.0479 - accuracy: 0.9896 - val_loss: 0.0334 - val_accuracy: 0.9927 - lr: 0.0010 - 32s/epoch - 16ms/step
Epoch 80/125
1922/1922 - 31s - loss: 0.0519 - accuracy: 0.9902 - val_loss: 0.0356 - val_accuracy: 0.9933 - lr: 0.0010 - 31s/epoch - 16ms/step
Epoch 81/125
1922/1922 - 31s - loss: 0.0462 - accuracy: 0.9905 - val_loss: 0.0338 - val_accuracy: 0.9927 - lr: 0.0010 - 31s/epoch - 16ms/step
Epoch 82/125
1922/1922 - 31s - loss: 0.0476 - accuracy: 0.9901 - val_loss: 0.0974 - val_accuracy: 0.9925 - lr: 0.0010 - 31s/epoch - 16ms/step
Epoch 83/125
1922/1922 - 32s - loss: 0.1187 - accuracy: 0.9865 - val_loss: 0.0909 - val_accuracy: 0.9765 - lr: 0.0010 - 32s/epoch - 16ms/step
Epoch 84/125
1922/1922 - 32s - loss: 0.0538 - accuracy: 0.9890 - val_loss: 0.0692 - val_accuracy: 0.9908 - lr: 0.0010 - 32s/epoch - 17ms/step
Epoch 85/125
1922/1922 - 31s - loss: 0.0517 - accuracy: 0.9886 - val_loss: 0.0506 - val_accuracy: 0.9898 - lr: 0.0010 - 31s/epoch - 16ms/step
Epoch 86/125
1922/1922 - 33s - loss: 0.0579 - accuracy: 0.9886 - val_loss: 0.0523 - val_accuracy: 0.9875 - lr: 0.0010 - 33s/epoch - 17ms/step
Epoch 87/125
1922/1922 - 33s - loss: 0.0607 - accuracy: 0.9886 - val_loss: 0.0240 - val_accuracy: 0.9950 - lr: 0.0010 - 33s/epoch - 17ms/step
Epoch 88/125
1922/1922 - 32s - loss: 0.0693 - accuracy: 0.9879 - val_loss: 0.0571 - val_accuracy: 0.9847 - lr: 0.0010 - 32s/epoch - 17ms/step
Epoch 89/125
1922/1922 - 32s - loss: 0.0467 - accuracy: 0.9901 - val_loss: 0.0422 - val_accuracy: 0.9887 - lr: 0.0010 - 32s/epoch - 17ms/step
Epoch 90/125
1922/1922 - 35s - loss: 0.0485 - accuracy: 0.9900 - val_loss: 0.0409 - val_accuracy: 0.9930 - lr: 0.0010 - 35s/epoch - 18ms/step
Epoch 91/125
1922/1922 - 36s - loss: 0.0584 - accuracy: 0.9884 - val_loss: 0.0421 - val_accuracy: 0.9895 - lr: 0.0010 - 36s/epoch - 19ms/step
Epoch 92/125
1922/1922 - 35s - loss: 0.0548 - accuracy: 0.9890 - val_loss: 0.0590 - val_accuracy: 0.9920 - lr: 0.0010 - 35s/epoch - 18ms/step
Epoch 93/125
1922/1922 - 35s - loss: 0.0645 - accuracy: 0.9883 - val_loss: 0.0497 - val_accuracy: 0.9837 - lr: 0.0010 - 35s/epoch - 18ms/step
Epoch 94/125
1922/1922 - 35s - loss: 0.0509 - accuracy: 0.9890 - val_loss: 0.0404 - val_accuracy: 0.9915 - lr: 0.0010 - 35s/epoch - 18ms/step
Epoch 95/125
1922/1922 - 35s - loss: 0.1386 - accuracy: 0.9830 - val_loss: 0.1117 - val_accuracy: 0.9850 - lr: 0.0010 - 35s/epoch - 18ms/step
Epoch 96/125
1922/1922 - 33s - loss: 0.0571 - accuracy: 0.9882 - val_loss: 0.0828 - val_accuracy: 0.9865 - lr: 0.0010 - 33s/epoch - 17ms/step
Epoch 97/125
1922/1922 - 39s - loss: 0.0564 - accuracy: 0.9891 - val_loss: 0.1032 - val_accuracy: 0.9920 - lr: 0.0010 - 39s/epoch - 21ms/step
Epoch 98/125
1922/1922 - 33s - loss: 0.0578 - accuracy: 0.9874 - val_loss: 0.0330 - val_accuracy: 0.9912 - lr: 0.0010 - 33s/epoch - 17ms/step
Epoch 99/125
1922/1922 - 38s - loss: 0.0906 - accuracy: 0.9853 - val_loss: 0.1459 - val_accuracy: 0.9695 - lr: 0.0010 - 38s/epoch - 20ms/step
Epoch 100/125
1922/1922 - 35s - loss: 0.0826 - accuracy: 0.9835 - val_loss: 0.0888 - val_accuracy: 0.9883 - lr: 0.0010 - 35s/epoch - 18ms/step
Epoch 101/125
1922/1922 - 34s - loss: 0.0700 - accuracy: 0.9859 - val_loss: 0.0381 - val_accuracy: 0.9898 - lr: 0.0010 - 34s/epoch - 18ms/step
Epoch 102/125
1922/1922 - 34s - loss: 0.0692 - accuracy: 0.9862 - val_loss: 0.0542 - val_accuracy: 0.9865 - lr: 0.0010 - 34s/epoch - 18ms/step
Epoch 103/125
1922/1922 - 36s - loss: 0.0866 - accuracy: 0.9833 - val_loss: 0.0578 - val_accuracy: 0.9852 - lr: 0.0010 - 36s/epoch - 19ms/step
Epoch 104/125
1922/1922 - 34s - loss: 0.0777 - accuracy: 0.9851 - val_loss: 0.0704 - val_accuracy: 0.9830 - lr: 0.0010 - 34s/epoch - 18ms/step
Epoch 105/125
1922/1922 - 35s - loss: 0.1198 - accuracy: 0.9827 - val_loss: 0.0498 - val_accuracy: 0.9880 - lr: 0.0010 - 35s/epoch - 18ms/step
Epoch 106/125
1922/1922 - 35s - loss: 0.0846 - accuracy: 0.9842 - val_loss: 0.1067 - val_accuracy: 0.9750 - lr: 0.0010 - 35s/epoch - 18ms/step
Epoch 107/125
1922/1922 - 34s - loss: 0.0828 - accuracy: 0.9859 - val_loss: 0.2967 - val_accuracy: 0.9883 - lr: 0.0010 - 34s/epoch - 18ms/step
Epoch 108/125
1922/1922 - 33s - loss: 0.1112 - accuracy: 0.9807 - val_loss: 0.1083 - val_accuracy: 0.9910 - lr: 0.0010 - 33s/epoch - 17ms/step
Epoch 109/125
1922/1922 - 34s - loss: 0.0986 - accuracy: 0.9835 - val_loss: 0.1363 - val_accuracy: 0.9837 - lr: 0.0010 - 34s/epoch - 17ms/step
Epoch 110/125
1922/1922 - 34s - loss: 0.1096 - accuracy: 0.9841 - val_loss: 0.0339 - val_accuracy: 0.9910 - lr: 0.0010 - 34s/epoch - 18ms/step
Epoch 111/125
1922/1922 - 32s - loss: 0.0697 - accuracy: 0.9860 - val_loss: 0.0634 - val_accuracy: 0.9877 - lr: 0.0010 - 32s/epoch - 17ms/step
Epoch 112/125
1922/1922 - 32s - loss: 0.0650 - accuracy: 0.9869 - val_loss: 0.1416 - val_accuracy: 0.9720 - lr: 0.0010 - 32s/epoch - 17ms/step
Epoch 113/125
1922/1922 - 32s - loss: 0.0857 - accuracy: 0.9824 - val_loss: 0.1041 - val_accuracy: 0.9898 - lr: 0.0010 - 32s/epoch - 17ms/step
Epoch 114/125
1922/1922 - 32s - loss: 0.1035 - accuracy: 0.9840 - val_loss: 0.0654 - val_accuracy: 0.9850 - lr: 0.0010 - 32s/epoch - 16ms/step
Epoch 115/125
1922/1922 - 32s - loss: 0.0754 - accuracy: 0.9850 - val_loss: 0.0540 - val_accuracy: 0.9902 - lr: 0.0010 - 32s/epoch - 16ms/step
Epoch 116/125
1922/1922 - 31s - loss: 0.0979 - accuracy: 0.9804 - val_loss: 0.0531 - val_accuracy: 0.9877 - lr: 0.0010 - 31s/epoch - 16ms/step
Epoch 117/125
1922/1922 - 32s - loss: 0.0738 - accuracy: 0.9832 - val_loss: 0.1265 - val_accuracy: 0.9730 - lr: 0.0010 - 32s/epoch - 16ms/step
Epoch 118/125
1922/1922 - 32s - loss: 0.0955 - accuracy: 0.9803 - val_loss: 0.0620 - val_accuracy: 0.9847 - lr: 0.0010 - 32s/epoch - 16ms/step
Epoch 119/125
1922/1922 - 32s - loss: 0.0734 - accuracy: 0.9841 - val_loss: 0.0411 - val_accuracy: 0.9912 - lr: 0.0010 - 32s/epoch - 16ms/step
Epoch 120/125
1922/1922 - 32s - loss: 0.1974 - accuracy: 0.9771 - val_loss: 0.0637 - val_accuracy: 0.9885 - lr: 0.0010 - 32s/epoch - 16ms/step
Epoch 121/125
1922/1922 - 32s - loss: 0.0932 - accuracy: 0.9815 - val_loss: 0.0507 - val_accuracy: 0.9883 - lr: 0.0010 - 32s/epoch - 16ms/step
Epoch 122/125
1922/1922 - 31s - loss: 0.1054 - accuracy: 0.9795 - val_loss: 0.0937 - val_accuracy: 0.9803 - lr: 0.0010 - 31s/epoch - 16ms/step
Epoch 123/125
1922/1922 - 32s - loss: 0.1684 - accuracy: 0.9735 - val_loss: 0.1591 - val_accuracy: 0.9705 - lr: 0.0010 - 32s/epoch - 16ms/step
Epoch 124/125
1922/1922 - 32s - loss: 0.0922 - accuracy: 0.9803 - val_loss: 0.0399 - val_accuracy: 0.9883 - lr: 0.0010 - 32s/epoch - 17ms/step
Epoch 125/125
1922/1922 - 32s - loss: 0.1095 - accuracy: 0.9794 - val_loss: 0.0828 - val_accuracy: 0.9868 - lr: 0.0010 - 32s/epoch - 16ms/step
fitting with batch size: 150
Epoch 1/125
641/641 - 18s - loss: 0.0519 - accuracy: 0.9887 - val_loss: 0.0320 - val_accuracy: 0.9925 - lr: 0.0010 - 18s/epoch - 29ms/step
Epoch 2/125
641/641 - 16s - loss: 0.0447 - accuracy: 0.9899 - val_loss: 0.0394 - val_accuracy: 0.9923 - lr: 0.0010 - 16s/epoch - 24ms/step
Epoch 3/125
641/641 - 16s - loss: 0.0612 - accuracy: 0.9880 - val_loss: 0.1398 - val_accuracy: 0.9625 - lr: 0.0010 - 16s/epoch - 24ms/step
Epoch 4/125
641/641 - 16s - loss: 0.0539 - accuracy: 0.9875 - val_loss: 0.0556 - val_accuracy: 0.9895 - lr: 0.0010 - 16s/epoch - 24ms/step
Epoch 5/125
641/641 - 16s - loss: 0.0477 - accuracy: 0.9909 - val_loss: 0.0492 - val_accuracy: 0.9908 - lr: 0.0010 - 16s/epoch - 24ms/step
Epoch 6/125
641/641 - 16s - loss: 0.0431 - accuracy: 0.9908 - val_loss: 0.0514 - val_accuracy: 0.9865 - lr: 0.0010 - 16s/epoch - 25ms/step
Epoch 7/125
641/641 - 16s - loss: 0.0431 - accuracy: 0.9910 - val_loss: 0.0283 - val_accuracy: 0.9933 - lr: 0.0010 - 16s/epoch - 24ms/step
Epoch 8/125
641/641 - 16s - loss: 0.0588 - accuracy: 0.9889 - val_loss: 0.0900 - val_accuracy: 0.9843 - lr: 0.0010 - 16s/epoch - 25ms/step
Epoch 9/125
641/641 - 16s - loss: 0.0406 - accuracy: 0.9918 - val_loss: 0.0264 - val_accuracy: 0.9927 - lr: 0.0010 - 16s/epoch - 24ms/step
Epoch 10/125
641/641 - 16s - loss: 0.0324 - accuracy: 0.9928 - val_loss: 0.0424 - val_accuracy: 0.9885 - lr: 0.0010 - 16s/epoch - 25ms/step
Epoch 11/125
641/641 - 16s - loss: 0.0706 - accuracy: 0.9895 - val_loss: 0.0302 - val_accuracy: 0.9908 - lr: 0.0010 - 16s/epoch - 25ms/step
Epoch 12/125
641/641 - 16s - loss: 0.0428 - accuracy: 0.9915 - val_loss: 0.0489 - val_accuracy: 0.9910 - lr: 0.0010 - 16s/epoch - 25ms/step
Epoch 13/125
641/641 - 16s - loss: 0.0355 - accuracy: 0.9930 - val_loss: 0.1116 - val_accuracy: 0.9872 - lr: 0.0010 - 16s/epoch - 25ms/step
Epoch 14/125
641/641 - 16s - loss: 0.0430 - accuracy: 0.9910 - val_loss: 0.0431 - val_accuracy: 0.9933 - lr: 0.0010 - 16s/epoch - 25ms/step
Epoch 15/125
641/641 - 16s - loss: 0.0536 - accuracy: 0.9896 - val_loss: 0.0439 - val_accuracy: 0.9902 - lr: 0.0010 - 16s/epoch - 25ms/step
Epoch 16/125
641/641 - 16s - loss: 0.0594 - accuracy: 0.9912 - val_loss: 0.0372 - val_accuracy: 0.9893 - lr: 0.0010 - 16s/epoch - 25ms/step
Epoch 17/125
641/641 - 16s - loss: 0.0493 - accuracy: 0.9906 - val_loss: 0.0400 - val_accuracy: 0.9883 - lr: 0.0010 - 16s/epoch - 25ms/step
Epoch 18/125
641/641 - 16s - loss: 0.0383 - accuracy: 0.9916 - val_loss: 0.0311 - val_accuracy: 0.9935 - lr: 0.0010 - 16s/epoch - 24ms/step
Epoch 19/125
641/641 - 16s - loss: 0.0415 - accuracy: 0.9926 - val_loss: 0.0252 - val_accuracy: 0.9955 - lr: 0.0010 - 16s/epoch - 24ms/step
Epoch 20/125
641/641 - 16s - loss: 0.0437 - accuracy: 0.9915 - val_loss: 0.0290 - val_accuracy: 0.9925 - lr: 0.0010 - 16s/epoch - 24ms/step
Epoch 21/125
641/641 - 16s - loss: 0.0396 - accuracy: 0.9915 - val_loss: 0.0732 - val_accuracy: 0.9895 - lr: 0.0010 - 16s/epoch - 25ms/step
Epoch 22/125
641/641 - 16s - loss: 0.0985 - accuracy: 0.9853 - val_loss: 0.0314 - val_accuracy: 0.9923 - lr: 0.0010 - 16s/epoch - 24ms/step
Epoch 23/125
641/641 - 16s - loss: 0.0427 - accuracy: 0.9900 - val_loss: 0.2190 - val_accuracy: 0.9895 - lr: 0.0010 - 16s/epoch - 24ms/step
Epoch 24/125
641/641 - 16s - loss: 0.0922 - accuracy: 0.9871 - val_loss: 0.0658 - val_accuracy: 0.9933 - lr: 0.0010 - 16s/epoch - 25ms/step
Epoch 25/125
641/641 - 16s - loss: 0.0441 - accuracy: 0.9897 - val_loss: 0.0311 - val_accuracy: 0.9937 - lr: 0.0010 - 16s/epoch - 24ms/step
Epoch 26/125
641/641 - 16s - loss: 0.0522 - accuracy: 0.9897 - val_loss: 0.0439 - val_accuracy: 0.9935 - lr: 0.0010 - 16s/epoch - 25ms/step
Epoch 27/125
641/641 - 16s - loss: 0.0634 - accuracy: 0.9884 - val_loss: 0.1193 - val_accuracy: 0.9787 - lr: 0.0010 - 16s/epoch - 25ms/step
Epoch 28/125
641/641 - 16s - loss: 0.0440 - accuracy: 0.9909 - val_loss: 0.0572 - val_accuracy: 0.9868 - lr: 0.0010 - 16s/epoch - 24ms/step
Epoch 29/125
641/641 - 16s - loss: 0.0536 - accuracy: 0.9891 - val_loss: 0.0717 - val_accuracy: 0.9870 - lr: 0.0010 - 16s/epoch - 25ms/step
Epoch 30/125
641/641 - 16s - loss: 0.0674 - accuracy: 0.9892 - val_loss: 0.0528 - val_accuracy: 0.9895 - lr: 0.0010 - 16s/epoch - 25ms/step
Epoch 31/125
641/641 - 16s - loss: 0.0406 - accuracy: 0.9916 - val_loss: 0.0787 - val_accuracy: 0.9790 - lr: 0.0010 - 16s/epoch - 25ms/step
Epoch 32/125
641/641 - 16s - loss: 0.0565 - accuracy: 0.9876 - val_loss: 0.2056 - val_accuracy: 0.9910 - lr: 0.0010 - 16s/epoch - 25ms/step
Epoch 33/125
641/641 - 16s - loss: 0.1148 - accuracy: 0.9866 - val_loss: 0.0392 - val_accuracy: 0.9915 - lr: 0.0010 - 16s/epoch - 24ms/step
Epoch 34/125
641/641 - 16s - loss: 0.0551 - accuracy: 0.9903 - val_loss: 0.0265 - val_accuracy: 0.9945 - lr: 0.0010 - 16s/epoch - 25ms/step
Epoch 35/125
641/641 - 16s - loss: 0.0717 - accuracy: 0.9888 - val_loss: 0.0251 - val_accuracy: 0.9940 - lr: 0.0010 - 16s/epoch - 25ms/step
Epoch 36/125
641/641 - 16s - loss: 0.0886 - accuracy: 0.9886 - val_loss: 0.0356 - val_accuracy: 0.9908 - lr: 0.0010 - 16s/epoch - 25ms/step
Epoch 37/125
641/641 - 16s - loss: 0.0442 - accuracy: 0.9912 - val_loss: 0.0444 - val_accuracy: 0.9880 - lr: 0.0010 - 16s/epoch - 25ms/step
Epoch 38/125
641/641 - 16s - loss: 0.0555 - accuracy: 0.9886 - val_loss: 0.0460 - val_accuracy: 0.9912 - lr: 0.0010 - 16s/epoch - 25ms/step
Epoch 39/125
641/641 - 16s - loss: 0.1087 - accuracy: 0.9899 - val_loss: 0.0285 - val_accuracy: 0.9940 - lr: 0.0010 - 16s/epoch - 25ms/step
Epoch 40/125
641/641 - 16s - loss: 0.0514 - accuracy: 0.9889 - val_loss: 0.0453 - val_accuracy: 0.9902 - lr: 0.0010 - 16s/epoch - 25ms/step
Epoch 41/125
641/641 - 16s - loss: 0.0556 - accuracy: 0.9878 - val_loss: 0.0462 - val_accuracy: 0.9908 - lr: 0.0010 - 16s/epoch - 24ms/step
Epoch 42/125
641/641 - 16s - loss: 0.0482 - accuracy: 0.9887 - val_loss: 0.0413 - val_accuracy: 0.9898 - lr: 0.0010 - 16s/epoch - 25ms/step
Epoch 43/125
641/641 - 16s - loss: 0.0541 - accuracy: 0.9896 - val_loss: 0.0352 - val_accuracy: 0.9955 - lr: 0.0010 - 16s/epoch - 25ms/step
Epoch 44/125
641/641 - 16s - loss: 0.0652 - accuracy: 0.9895 - val_loss: 0.0765 - val_accuracy: 0.9797 - lr: 0.0010 - 16s/epoch - 25ms/step
Epoch 45/125
641/641 - 16s - loss: 0.0436 - accuracy: 0.9914 - val_loss: 0.0319 - val_accuracy: 0.9937 - lr: 0.0010 - 16s/epoch - 24ms/step
Epoch 46/125
641/641 - 16s - loss: 0.0924 - accuracy: 0.9871 - val_loss: 0.0910 - val_accuracy: 0.9715 - lr: 0.0010 - 16s/epoch - 24ms/step
Epoch 47/125
641/641 - 16s - loss: 0.0540 - accuracy: 0.9886 - val_loss: 0.0368 - val_accuracy: 0.9930 - lr: 0.0010 - 16s/epoch - 25ms/step
Epoch 48/125
641/641 - 16s - loss: 0.0539 - accuracy: 0.9916 - val_loss: 0.0293 - val_accuracy: 0.9945 - lr: 0.0010 - 16s/epoch - 25ms/step
Epoch 49/125
641/641 - 16s - loss: 0.0676 - accuracy: 0.9905 - val_loss: 0.1291 - val_accuracy: 0.9920 - lr: 0.0010 - 16s/epoch - 25ms/step
Epoch 50/125
641/641 - 16s - loss: 0.0524 - accuracy: 0.9897 - val_loss: 0.0335 - val_accuracy: 0.9927 - lr: 0.0010 - 16s/epoch - 25ms/step
Epoch 51/125
641/641 - 16s - loss: 0.0469 - accuracy: 0.9915 - val_loss: 0.0484 - val_accuracy: 0.9945 - lr: 0.0010 - 16s/epoch - 25ms/step
Epoch 52/125
641/641 - 16s - loss: 0.0739 - accuracy: 0.9879 - val_loss: 0.0293 - val_accuracy: 0.9937 - lr: 0.0010 - 16s/epoch - 25ms/step
Epoch 53/125
641/641 - 16s - loss: 0.0808 - accuracy: 0.9881 - val_loss: 0.0245 - val_accuracy: 0.9952 - lr: 0.0010 - 16s/epoch - 24ms/step
Epoch 54/125
641/641 - 16s - loss: 0.0493 - accuracy: 0.9902 - val_loss: 0.0412 - val_accuracy: 0.9898 - lr: 0.0010 - 16s/epoch - 25ms/step
Epoch 55/125
641/641 - 16s - loss: 0.0943 - accuracy: 0.9855 - val_loss: 0.0659 - val_accuracy: 0.9858 - lr: 0.0010 - 16s/epoch - 25ms/step
Epoch 56/125
641/641 - 16s - loss: 0.0621 - accuracy: 0.9888 - val_loss: 0.0452 - val_accuracy: 0.9870 - lr: 0.0010 - 16s/epoch - 24ms/step
Epoch 57/125
641/641 - 16s - loss: 0.0464 - accuracy: 0.9908 - val_loss: 0.0307 - val_accuracy: 0.9927 - lr: 0.0010 - 16s/epoch - 25ms/step
Epoch 58/125
641/641 - 16s - loss: 0.0464 - accuracy: 0.9915 - val_loss: 0.0368 - val_accuracy: 0.9920 - lr: 0.0010 - 16s/epoch - 25ms/step
Epoch 59/125
641/641 - 16s - loss: 0.0594 - accuracy: 0.9912 - val_loss: 0.0317 - val_accuracy: 0.9942 - lr: 0.0010 - 16s/epoch - 25ms/step
Epoch 60/125
641/641 - 16s - loss: 0.0591 - accuracy: 0.9877 - val_loss: 0.0465 - val_accuracy: 0.9890 - lr: 0.0010 - 16s/epoch - 25ms/step
Epoch 61/125
641/641 - 16s - loss: 0.0594 - accuracy: 0.9904 - val_loss: 0.0381 - val_accuracy: 0.9923 - lr: 0.0010 - 16s/epoch - 25ms/step
Epoch 62/125
641/641 - 16s - loss: 0.0718 - accuracy: 0.9867 - val_loss: 0.0378 - val_accuracy: 0.9912 - lr: 0.0010 - 16s/epoch - 25ms/step
Epoch 63/125
641/641 - 16s - loss: 0.0971 - accuracy: 0.9872 - val_loss: 0.0643 - val_accuracy: 0.9797 - lr: 0.0010 - 16s/epoch - 25ms/step
Epoch 64/125
641/641 - 16s - loss: 0.0608 - accuracy: 0.9895 - val_loss: 0.1256 - val_accuracy: 0.9730 - lr: 0.0010 - 16s/epoch - 24ms/step
Epoch 65/125
641/641 - 16s - loss: 0.0492 - accuracy: 0.9898 - val_loss: 0.0263 - val_accuracy: 0.9945 - lr: 0.0010 - 16s/epoch - 24ms/step
Epoch 66/125
641/641 - 16s - loss: 0.0462 - accuracy: 0.9900 - val_loss: 0.0439 - val_accuracy: 0.9898 - lr: 0.0010 - 16s/epoch - 25ms/step
Epoch 67/125
641/641 - 16s - loss: 0.0713 - accuracy: 0.9894 - val_loss: 0.0310 - val_accuracy: 0.9942 - lr: 0.0010 - 16s/epoch - 24ms/step
Epoch 68/125
641/641 - 16s - loss: 0.0454 - accuracy: 0.9913 - val_loss: 0.0399 - val_accuracy: 0.9923 - lr: 0.0010 - 16s/epoch - 25ms/step
Epoch 69/125
641/641 - 16s - loss: 0.0913 - accuracy: 0.9856 - val_loss: 0.0413 - val_accuracy: 0.9900 - lr: 0.0010 - 16s/epoch - 25ms/step
Epoch 70/125
641/641 - 16s - loss: 0.0718 - accuracy: 0.9848 - val_loss: 0.0623 - val_accuracy: 0.9830 - lr: 0.0010 - 16s/epoch - 24ms/step
Epoch 71/125
641/641 - 16s - loss: 0.0839 - accuracy: 0.9854 - val_loss: 0.0899 - val_accuracy: 0.9895 - lr: 0.0010 - 16s/epoch - 25ms/step
Epoch 72/125
641/641 - 16s - loss: 0.1365 - accuracy: 0.9790 - val_loss: 0.0388 - val_accuracy: 0.9915 - lr: 0.0010 - 16s/epoch - 25ms/step
Epoch 73/125
641/641 - 16s - loss: 0.0577 - accuracy: 0.9893 - val_loss: 0.0336 - val_accuracy: 0.9918 - lr: 0.0010 - 16s/epoch - 25ms/step
Epoch 74/125
641/641 - 16s - loss: 0.0651 - accuracy: 0.9878 - val_loss: 0.1417 - val_accuracy: 0.9567 - lr: 0.0010 - 16s/epoch - 24ms/step
Epoch 75/125
641/641 - 16s - loss: 0.0964 - accuracy: 0.9789 - val_loss: 0.0635 - val_accuracy: 0.9815 - lr: 0.0010 - 16s/epoch - 24ms/step
Epoch 76/125
641/641 - 16s - loss: 0.0817 - accuracy: 0.9876 - val_loss: 0.0507 - val_accuracy: 0.9895 - lr: 0.0010 - 16s/epoch - 25ms/step
Epoch 77/125
641/641 - 16s - loss: 0.0699 - accuracy: 0.9870 - val_loss: 0.0354 - val_accuracy: 0.9908 - lr: 0.0010 - 16s/epoch - 25ms/step
Epoch 78/125
641/641 - 16s - loss: 0.0595 - accuracy: 0.9891 - val_loss: 0.0575 - val_accuracy: 0.9883 - lr: 0.0010 - 16s/epoch - 24ms/step
Epoch 79/125
641/641 - 16s - loss: 0.0695 - accuracy: 0.9884 - val_loss: 0.0338 - val_accuracy: 0.9920 - lr: 0.0010 - 16s/epoch - 25ms/step
Epoch 80/125
641/641 - 16s - loss: 0.0991 - accuracy: 0.9848 - val_loss: 0.0886 - val_accuracy: 0.9880 - lr: 0.0010 - 16s/epoch - 25ms/step
Epoch 81/125
641/641 - 16s - loss: 0.0461 - accuracy: 0.9907 - val_loss: 0.0379 - val_accuracy: 0.9923 - lr: 0.0010 - 16s/epoch - 25ms/step
Epoch 82/125
641/641 - 16s - loss: 0.0574 - accuracy: 0.9911 - val_loss: 0.0812 - val_accuracy: 0.9875 - lr: 0.0010 - 16s/epoch - 25ms/step
Epoch 83/125
641/641 - 16s - loss: 0.1228 - accuracy: 0.9857 - val_loss: 0.0463 - val_accuracy: 0.9893 - lr: 0.0010 - 16s/epoch - 24ms/step
Epoch 84/125
641/641 - 16s - loss: 0.1429 - accuracy: 0.9837 - val_loss: 0.0472 - val_accuracy: 0.9877 - lr: 0.0010 - 16s/epoch - 25ms/step
Epoch 85/125
641/641 - 16s - loss: 0.1114 - accuracy: 0.9790 - val_loss: 0.0529 - val_accuracy: 0.9902 - lr: 0.0010 - 16s/epoch - 25ms/step
Epoch 86/125
641/641 - 16s - loss: 0.0683 - accuracy: 0.9856 - val_loss: 0.0559 - val_accuracy: 0.9877 - lr: 0.0010 - 16s/epoch - 25ms/step
Epoch 87/125
641/641 - 16s - loss: 0.0699 - accuracy: 0.9864 - val_loss: 0.0445 - val_accuracy: 0.9902 - lr: 0.0010 - 16s/epoch - 25ms/step
Epoch 88/125
641/641 - 16s - loss: 0.0575 - accuracy: 0.9882 - val_loss: 0.0476 - val_accuracy: 0.9918 - lr: 0.0010 - 16s/epoch - 25ms/step
Epoch 89/125
641/641 - 16s - loss: 0.1024 - accuracy: 0.9836 - val_loss: 0.0849 - val_accuracy: 0.9822 - lr: 0.0010 - 16s/epoch - 24ms/step
Epoch 90/125
641/641 - 16s - loss: 0.1206 - accuracy: 0.9811 - val_loss: 0.0655 - val_accuracy: 0.9835 - lr: 0.0010 - 16s/epoch - 25ms/step
Epoch 91/125
641/641 - 16s - loss: 0.0766 - accuracy: 0.9880 - val_loss: 0.0684 - val_accuracy: 0.9843 - lr: 0.0010 - 16s/epoch - 25ms/step
Epoch 92/125
641/641 - 16s - loss: 0.0701 - accuracy: 0.9852 - val_loss: 0.1259 - val_accuracy: 0.9615 - lr: 0.0010 - 16s/epoch - 25ms/step
Epoch 93/125
641/641 - 16s - loss: 0.0787 - accuracy: 0.9843 - val_loss: 0.0544 - val_accuracy: 0.9877 - lr: 0.0010 - 16s/epoch - 25ms/step
Epoch 94/125
641/641 - 16s - loss: 0.1062 - accuracy: 0.9892 - val_loss: 0.0321 - val_accuracy: 0.9933 - lr: 0.0010 - 16s/epoch - 25ms/step
Epoch 95/125
641/641 - 16s - loss: 0.0451 - accuracy: 0.9916 - val_loss: 0.0535 - val_accuracy: 0.9872 - lr: 0.0010 - 16s/epoch - 24ms/step
Epoch 96/125
641/641 - 16s - loss: 0.3857 - accuracy: 0.9808 - val_loss: 0.0514 - val_accuracy: 0.9918 - lr: 0.0010 - 16s/epoch - 25ms/step
Epoch 97/125
641/641 - 16s - loss: 0.0641 - accuracy: 0.9874 - val_loss: 0.0729 - val_accuracy: 0.9900 - lr: 0.0010 - 16s/epoch - 24ms/step
Epoch 98/125
641/641 - 16s - loss: 0.4041 - accuracy: 0.9782 - val_loss: 0.0568 - val_accuracy: 0.9820 - lr: 0.0010 - 16s/epoch - 24ms/step
Epoch 99/125
641/641 - 16s - loss: 0.0566 - accuracy: 0.9884 - val_loss: 0.0517 - val_accuracy: 0.9905 - lr: 0.0010 - 16s/epoch - 25ms/step
Epoch 100/125
641/641 - 16s - loss: 0.1070 - accuracy: 0.9785 - val_loss: 0.0445 - val_accuracy: 0.9902 - lr: 0.0010 - 16s/epoch - 25ms/step
Epoch 101/125
641/641 - 16s - loss: 0.0777 - accuracy: 0.9853 - val_loss: 0.0736 - val_accuracy: 0.9810 - lr: 0.0010 - 16s/epoch - 24ms/step
Epoch 102/125
641/641 - 16s - loss: 0.0737 - accuracy: 0.9850 - val_loss: 0.0522 - val_accuracy: 0.9877 - lr: 0.0010 - 16s/epoch - 25ms/step
Epoch 103/125
641/641 - 16s - loss: 0.0871 - accuracy: 0.9838 - val_loss: 0.0541 - val_accuracy: 0.9910 - lr: 0.0010 - 16s/epoch - 24ms/step
Epoch 104/125
641/641 - 16s - loss: 0.0946 - accuracy: 0.9798 - val_loss: 0.1090 - val_accuracy: 0.9768 - lr: 0.0010 - 16s/epoch - 25ms/step
Epoch 105/125
641/641 - 16s - loss: 0.0855 - accuracy: 0.9837 - val_loss: 0.0784 - val_accuracy: 0.9852 - lr: 0.0010 - 16s/epoch - 25ms/step
Epoch 106/125
641/641 - 16s - loss: 0.0900 - accuracy: 0.9846 - val_loss: 0.0666 - val_accuracy: 0.9890 - lr: 0.0010 - 16s/epoch - 25ms/step
Epoch 107/125
641/641 - 16s - loss: 0.1556 - accuracy: 0.9747 - val_loss: 0.0732 - val_accuracy: 0.9865 - lr: 0.0010 - 16s/epoch - 25ms/step
Epoch 108/125
641/641 - 16s - loss: 0.0885 - accuracy: 0.9832 - val_loss: 0.0572 - val_accuracy: 0.9877 - lr: 0.0010 - 16s/epoch - 25ms/step
Epoch 109/125
641/641 - 16s - loss: 0.0759 - accuracy: 0.9832 - val_loss: 0.0640 - val_accuracy: 0.9875 - lr: 0.0010 - 16s/epoch - 25ms/step
Epoch 110/125
641/641 - 16s - loss: 0.2064 - accuracy: 0.9685 - val_loss: 0.0644 - val_accuracy: 0.9885 - lr: 0.0010 - 16s/epoch - 25ms/step
Epoch 111/125
641/641 - 16s - loss: 0.0940 - accuracy: 0.9829 - val_loss: 0.0868 - val_accuracy: 0.9910 - lr: 0.0010 - 16s/epoch - 25ms/step
Epoch 112/125
641/641 - 16s - loss: 0.0910 - accuracy: 0.9828 - val_loss: 0.1710 - val_accuracy: 0.9898 - lr: 0.0010 - 16s/epoch - 25ms/step
Epoch 113/125
641/641 - 16s - loss: 0.0948 - accuracy: 0.9850 - val_loss: 0.0611 - val_accuracy: 0.9885 - lr: 0.0010 - 16s/epoch - 25ms/step
Epoch 114/125
641/641 - 16s - loss: 0.0657 - accuracy: 0.9855 - val_loss: 0.0389 - val_accuracy: 0.9883 - lr: 0.0010 - 16s/epoch - 25ms/step
Epoch 115/125
641/641 - 16s - loss: 0.0843 - accuracy: 0.9826 - val_loss: 0.1265 - val_accuracy: 0.9647 - lr: 0.0010 - 16s/epoch - 25ms/step
Epoch 116/125
641/641 - 16s - loss: 0.0815 - accuracy: 0.9840 - val_loss: 0.0465 - val_accuracy: 0.9908 - lr: 0.0010 - 16s/epoch - 25ms/step
Epoch 117/125
641/641 - 16s - loss: 0.1763 - accuracy: 0.9814 - val_loss: 0.0455 - val_accuracy: 0.9925 - lr: 0.0010 - 16s/epoch - 25ms/step
Epoch 118/125
641/641 - 16s - loss: 0.2544 - accuracy: 0.9750 - val_loss: 0.1830 - val_accuracy: 0.9560 - lr: 0.0010 - 16s/epoch - 25ms/step
Epoch 119/125
641/641 - 16s - loss: 0.1004 - accuracy: 0.9768 - val_loss: 0.0838 - val_accuracy: 0.9775 - lr: 0.0010 - 16s/epoch - 25ms/step
Epoch 120/125
641/641 - 16s - loss: 0.0784 - accuracy: 0.9857 - val_loss: 0.0511 - val_accuracy: 0.9902 - lr: 0.0010 - 16s/epoch - 25ms/step
Epoch 121/125
641/641 - 16s - loss: 0.1001 - accuracy: 0.9815 - val_loss: 0.0711 - val_accuracy: 0.9765 - lr: 0.0010 - 16s/epoch - 25ms/step
Epoch 122/125
641/641 - 16s - loss: 0.0952 - accuracy: 0.9829 - val_loss: 0.0653 - val_accuracy: 0.9880 - lr: 0.0010 - 16s/epoch - 24ms/step
Epoch 123/125
641/641 - 16s - loss: 0.0696 - accuracy: 0.9841 - val_loss: 0.0855 - val_accuracy: 0.9900 - lr: 0.0010 - 16s/epoch - 25ms/step
Epoch 124/125
641/641 - 16s - loss: 0.2162 - accuracy: 0.9724 - val_loss: 0.1262 - val_accuracy: 0.9728 - lr: 0.0010 - 16s/epoch - 25ms/step
Epoch 125/125
641/641 - 16s - loss: 0.0641 - accuracy: 0.9861 - val_loss: 0.0555 - val_accuracy: 0.9905 - lr: 0.0010 - 16s/epoch - 24ms/step
fitting with batch size: 200
Epoch 1/125
481/481 - 27s - loss: 0.0765 - accuracy: 0.9886 - val_loss: 0.0480 - val_accuracy: 0.9930 - lr: 0.0010 - 27s/epoch - 55ms/step
Epoch 2/125
481/481 - 16s - loss: 0.0729 - accuracy: 0.9865 - val_loss: 0.0381 - val_accuracy: 0.9927 - lr: 0.0010 - 16s/epoch - 33ms/step
Epoch 3/125
481/481 - 16s - loss: 0.0634 - accuracy: 0.9886 - val_loss: 0.0492 - val_accuracy: 0.9908 - lr: 0.0010 - 16s/epoch - 33ms/step
Epoch 4/125
481/481 - 16s - loss: 0.0539 - accuracy: 0.9894 - val_loss: 0.0483 - val_accuracy: 0.9910 - lr: 0.0010 - 16s/epoch - 33ms/step
Epoch 5/125
481/481 - 16s - loss: 0.3245 - accuracy: 0.9746 - val_loss: 0.0869 - val_accuracy: 0.9770 - lr: 0.0010 - 16s/epoch - 33ms/step
Epoch 6/125
481/481 - 16s - loss: 0.0887 - accuracy: 0.9815 - val_loss: 0.0685 - val_accuracy: 0.9883 - lr: 0.0010 - 16s/epoch - 33ms/step
Epoch 7/125
481/481 - 16s - loss: 0.1932 - accuracy: 0.9588 - val_loss: 0.0550 - val_accuracy: 0.9870 - lr: 0.0010 - 16s/epoch - 33ms/step
Epoch 8/125
481/481 - 16s - loss: 0.0733 - accuracy: 0.9836 - val_loss: 0.0825 - val_accuracy: 0.9845 - lr: 0.0010 - 16s/epoch - 33ms/step
Epoch 9/125
481/481 - 16s - loss: 0.0779 - accuracy: 0.9822 - val_loss: 0.0573 - val_accuracy: 0.9870 - lr: 0.0010 - 16s/epoch - 33ms/step
Epoch 10/125
481/481 - 16s - loss: 0.0885 - accuracy: 0.9837 - val_loss: 0.0532 - val_accuracy: 0.9877 - lr: 0.0010 - 16s/epoch - 33ms/step
Epoch 11/125
481/481 - 16s - loss: 0.1463 - accuracy: 0.9819 - val_loss: 0.0778 - val_accuracy: 0.9790 - lr: 0.0010 - 16s/epoch - 33ms/step
Epoch 12/125
481/481 - 16s - loss: 0.0814 - accuracy: 0.9816 - val_loss: 0.0726 - val_accuracy: 0.9805 - lr: 0.0010 - 16s/epoch - 33ms/step
Epoch 13/125
481/481 - 16s - loss: 0.1020 - accuracy: 0.9804 - val_loss: 0.0535 - val_accuracy: 0.9905 - lr: 0.0010 - 16s/epoch - 33ms/step
Epoch 14/125
481/481 - 16s - loss: 0.0450 - accuracy: 0.9908 - val_loss: 0.0645 - val_accuracy: 0.9902 - lr: 0.0010 - 16s/epoch - 33ms/step
Epoch 15/125
481/481 - 16s - loss: 0.1680 - accuracy: 0.9709 - val_loss: 0.0924 - val_accuracy: 0.9840 - lr: 0.0010 - 16s/epoch - 33ms/step
Epoch 16/125
481/481 - 16s - loss: 0.1447 - accuracy: 0.9582 - val_loss: 0.0829 - val_accuracy: 0.9762 - lr: 0.0010 - 16s/epoch - 33ms/step
Epoch 17/125
481/481 - 16s - loss: 0.1627 - accuracy: 0.9716 - val_loss: 0.0844 - val_accuracy: 0.9795 - lr: 0.0010 - 16s/epoch - 33ms/step
Epoch 18/125
481/481 - 16s - loss: 0.0680 - accuracy: 0.9854 - val_loss: 0.0619 - val_accuracy: 0.9925 - lr: 0.0010 - 16s/epoch - 33ms/step
Epoch 19/125
481/481 - 16s - loss: 10.5844 - accuracy: 0.9826 - val_loss: 0.0565 - val_accuracy: 0.9868 - lr: 0.0010 - 16s/epoch - 33ms/step
Epoch 20/125
481/481 - 16s - loss: 0.0575 - accuracy: 0.9882 - val_loss: 0.0366 - val_accuracy: 0.9925 - lr: 0.0010 - 16s/epoch - 33ms/step
Epoch 21/125
481/481 - 16s - loss: 0.0680 - accuracy: 0.9866 - val_loss: 0.0575 - val_accuracy: 0.9872 - lr: 0.0010 - 16s/epoch - 33ms/step
Epoch 22/125
481/481 - 16s - loss: 0.1379 - accuracy: 0.9810 - val_loss: 0.0433 - val_accuracy: 0.9933 - lr: 0.0010 - 16s/epoch - 34ms/step
Epoch 23/125
481/481 - 16s - loss: 0.1090 - accuracy: 0.9816 - val_loss: 0.1315 - val_accuracy: 0.9808 - lr: 0.0010 - 16s/epoch - 33ms/step
Epoch 24/125
481/481 - 16s - loss: 0.1027 - accuracy: 0.9853 - val_loss: 0.0945 - val_accuracy: 0.9785 - lr: 0.0010 - 16s/epoch - 33ms/step
Epoch 25/125
481/481 - 16s - loss: 0.0665 - accuracy: 0.9858 - val_loss: 0.1955 - val_accuracy: 0.9720 - lr: 0.0010 - 16s/epoch - 33ms/step
Epoch 26/125
481/481 - 16s - loss: 0.0908 - accuracy: 0.9813 - val_loss: 0.0700 - val_accuracy: 0.9883 - lr: 0.0010 - 16s/epoch - 34ms/step
Epoch 27/125
481/481 - 16s - loss: 0.1170 - accuracy: 0.9874 - val_loss: 0.0600 - val_accuracy: 0.9895 - lr: 0.0010 - 16s/epoch - 33ms/step
Epoch 28/125
481/481 - 16s - loss: 0.0788 - accuracy: 0.9855 - val_loss: 0.0642 - val_accuracy: 0.9852 - lr: 0.0010 - 16s/epoch - 33ms/step
Epoch 29/125
481/481 - 16s - loss: 0.0632 - accuracy: 0.9887 - val_loss: 0.1042 - val_accuracy: 0.9710 - lr: 0.0010 - 16s/epoch - 33ms/step
Epoch 30/125
481/481 - 16s - loss: 0.0942 - accuracy: 0.9777 - val_loss: 0.0736 - val_accuracy: 0.9850 - lr: 0.0010 - 16s/epoch - 33ms/step
Epoch 31/125
481/481 - 16s - loss: 0.3510 - accuracy: 0.9727 - val_loss: 0.0484 - val_accuracy: 0.9900 - lr: 0.0010 - 16s/epoch - 33ms/step
Epoch 32/125
481/481 - 16s - loss: 0.0529 - accuracy: 0.9890 - val_loss: 0.2503 - val_accuracy: 0.9895 - lr: 0.0010 - 16s/epoch - 33ms/step
Epoch 33/125
481/481 - 16s - loss: 0.1408 - accuracy: 0.9700 - val_loss: 0.1337 - val_accuracy: 0.9590 - lr: 0.0010 - 16s/epoch - 33ms/step
Epoch 34/125
481/481 - 16s - loss: 0.0978 - accuracy: 0.9763 - val_loss: 0.1258 - val_accuracy: 0.9718 - lr: 0.0010 - 16s/epoch - 33ms/step
Epoch 35/125
481/481 - 16s - loss: 1.0200 - accuracy: 0.9716 - val_loss: 0.0991 - val_accuracy: 0.9850 - lr: 0.0010 - 16s/epoch - 33ms/step
Epoch 36/125
481/481 - 16s - loss: 0.0912 - accuracy: 0.9841 - val_loss: 0.0605 - val_accuracy: 0.9887 - lr: 0.0010 - 16s/epoch - 33ms/step
Epoch 37/125
481/481 - 16s - loss: 0.1220 - accuracy: 0.9830 - val_loss: 0.0747 - val_accuracy: 0.9883 - lr: 0.0010 - 16s/epoch - 33ms/step
Epoch 38/125
481/481 - 16s - loss: 0.1655 - accuracy: 0.9787 - val_loss: 0.1183 - val_accuracy: 0.9745 - lr: 0.0010 - 16s/epoch - 33ms/step
Epoch 39/125
481/481 - 16s - loss: 0.1159 - accuracy: 0.9786 - val_loss: 0.0544 - val_accuracy: 0.9852 - lr: 0.0010 - 16s/epoch - 33ms/step
Epoch 40/125
481/481 - 16s - loss: 0.0558 - accuracy: 0.9894 - val_loss: 0.0650 - val_accuracy: 0.9900 - lr: 0.0010 - 16s/epoch - 33ms/step
Epoch 41/125
481/481 - 16s - loss: 0.1122 - accuracy: 0.9775 - val_loss: 0.0653 - val_accuracy: 0.9822 - lr: 0.0010 - 16s/epoch - 33ms/step
Epoch 42/125
481/481 - 16s - loss: 0.1070 - accuracy: 0.9801 - val_loss: 0.1114 - val_accuracy: 0.9877 - lr: 0.0010 - 16s/epoch - 34ms/step
Epoch 43/125
481/481 - 16s - loss: 0.0655 - accuracy: 0.9876 - val_loss: 0.2460 - val_accuracy: 0.9293 - lr: 0.0010 - 16s/epoch - 33ms/step
Epoch 44/125
481/481 - 16s - loss: 0.0716 - accuracy: 0.9844 - val_loss: 0.1162 - val_accuracy: 0.9722 - lr: 0.0010 - 16s/epoch - 33ms/step
Epoch 45/125
481/481 - 16s - loss: 0.0698 - accuracy: 0.9846 - val_loss: 0.0609 - val_accuracy: 0.9877 - lr: 0.0010 - 16s/epoch - 33ms/step
Epoch 46/125
481/481 - 16s - loss: 0.1181 - accuracy: 0.9778 - val_loss: 0.0742 - val_accuracy: 0.9883 - lr: 0.0010 - 16s/epoch - 33ms/step
Epoch 47/125
481/481 - 16s - loss: 0.0647 - accuracy: 0.9885 - val_loss: 0.0630 - val_accuracy: 0.9912 - lr: 0.0010 - 16s/epoch - 33ms/step
Epoch 48/125
481/481 - 16s - loss: 0.1649 - accuracy: 0.9838 - val_loss: 0.0887 - val_accuracy: 0.9820 - lr: 0.0010 - 16s/epoch - 33ms/step
Epoch 49/125
481/481 - 16s - loss: 0.0868 - accuracy: 0.9848 - val_loss: 0.0357 - val_accuracy: 0.9927 - lr: 0.0010 - 16s/epoch - 33ms/step
Epoch 50/125
481/481 - 16s - loss: 0.3599 - accuracy: 0.9398 - val_loss: 0.0724 - val_accuracy: 0.9803 - lr: 0.0010 - 16s/epoch - 33ms/step
Epoch 51/125
481/481 - 16s - loss: 0.0794 - accuracy: 0.9803 - val_loss: 0.0465 - val_accuracy: 0.9887 - lr: 0.0010 - 16s/epoch - 33ms/step
Epoch 52/125
481/481 - 16s - loss: 0.1297 - accuracy: 0.9845 - val_loss: 0.0696 - val_accuracy: 0.9872 - lr: 0.0010 - 16s/epoch - 33ms/step
Epoch 53/125
481/481 - 16s - loss: 0.0944 - accuracy: 0.9766 - val_loss: 0.0785 - val_accuracy: 0.9898 - lr: 0.0010 - 16s/epoch - 33ms/step
Epoch 54/125
481/481 - 16s - loss: 0.4389 - accuracy: 0.9565 - val_loss: 0.0628 - val_accuracy: 0.9865 - lr: 0.0010 - 16s/epoch - 33ms/step
Epoch 55/125
481/481 - 16s - loss: 0.0756 - accuracy: 0.9858 - val_loss: 0.0716 - val_accuracy: 0.9900 - lr: 0.0010 - 16s/epoch - 33ms/step
Epoch 56/125
481/481 - 16s - loss: 0.1488 - accuracy: 0.9792 - val_loss: 0.0821 - val_accuracy: 0.9835 - lr: 0.0010 - 16s/epoch - 33ms/step
Epoch 57/125
481/481 - 16s - loss: 1.1822 - accuracy: 0.9654 - val_loss: 0.0815 - val_accuracy: 0.9783 - lr: 0.0010 - 16s/epoch - 33ms/step
Epoch 58/125
481/481 - 16s - loss: 0.0961 - accuracy: 0.9812 - val_loss: 0.0604 - val_accuracy: 0.9905 - lr: 0.0010 - 16s/epoch - 33ms/step
Epoch 59/125
481/481 - 16s - loss: 0.1459 - accuracy: 0.9866 - val_loss: 0.1185 - val_accuracy: 0.9855 - lr: 0.0010 - 16s/epoch - 33ms/step
Epoch 60/125
481/481 - 16s - loss: 0.1167 - accuracy: 0.9760 - val_loss: 0.1291 - val_accuracy: 0.9875 - lr: 0.0010 - 16s/epoch - 34ms/step
Epoch 61/125
481/481 - 16s - loss: 0.0631 - accuracy: 0.9876 - val_loss: 0.0963 - val_accuracy: 0.9808 - lr: 0.0010 - 16s/epoch - 33ms/step
Epoch 62/125
481/481 - 16s - loss: 0.0712 - accuracy: 0.9851 - val_loss: 0.3393 - val_accuracy: 0.9325 - lr: 0.0010 - 16s/epoch - 33ms/step
Epoch 63/125
481/481 - 16s - loss: 0.1095 - accuracy: 0.9737 - val_loss: 0.0794 - val_accuracy: 0.9815 - lr: 0.0010 - 16s/epoch - 34ms/step
Epoch 64/125
481/481 - 16s - loss: 0.1787 - accuracy: 0.9735 - val_loss: 0.1179 - val_accuracy: 0.9672 - lr: 0.0010 - 16s/epoch - 33ms/step
Epoch 65/125
481/481 - 16s - loss: 0.0764 - accuracy: 0.9829 - val_loss: 0.0784 - val_accuracy: 0.9827 - lr: 0.0010 - 16s/epoch - 33ms/step
Epoch 66/125
481/481 - 16s - loss: 0.2169 - accuracy: 0.9635 - val_loss: 0.3526 - val_accuracy: 0.9155 - lr: 0.0010 - 16s/epoch - 34ms/step
Epoch 67/125
481/481 - 16s - loss: 0.1156 - accuracy: 0.9747 - val_loss: 0.0848 - val_accuracy: 0.9898 - lr: 0.0010 - 16s/epoch - 33ms/step
Epoch 68/125
481/481 - 16s - loss: 0.0831 - accuracy: 0.9859 - val_loss: 0.0866 - val_accuracy: 0.9837 - lr: 0.0010 - 16s/epoch - 33ms/step
Epoch 69/125
481/481 - 16s - loss: 0.1573 - accuracy: 0.9754 - val_loss: 0.0823 - val_accuracy: 0.9887 - lr: 0.0010 - 16s/epoch - 33ms/step
Epoch 70/125
481/481 - 16s - loss: 0.0764 - accuracy: 0.9828 - val_loss: 0.0633 - val_accuracy: 0.9918 - lr: 0.0010 - 16s/epoch - 34ms/step
Epoch 71/125
481/481 - 16s - loss: 0.1126 - accuracy: 0.9784 - val_loss: 0.0529 - val_accuracy: 0.9890 - lr: 0.0010 - 16s/epoch - 33ms/step
Epoch 72/125
481/481 - 16s - loss: 0.1141 - accuracy: 0.9791 - val_loss: 0.0695 - val_accuracy: 0.9830 - lr: 0.0010 - 16s/epoch - 34ms/step
Epoch 73/125
481/481 - 16s - loss: 0.1553 - accuracy: 0.9781 - val_loss: 0.0865 - val_accuracy: 0.9835 - lr: 0.0010 - 16s/epoch - 33ms/step
Epoch 74/125
481/481 - 16s - loss: 0.1044 - accuracy: 0.9777 - val_loss: 0.4020 - val_accuracy: 0.9728 - lr: 0.0010 - 16s/epoch - 33ms/step
Epoch 75/125
481/481 - 16s - loss: 0.7636 - accuracy: 0.9349 - val_loss: 0.2218 - val_accuracy: 0.9317 - lr: 0.0010 - 16s/epoch - 33ms/step
Epoch 76/125
481/481 - 16s - loss: 0.1771 - accuracy: 0.9648 - val_loss: 0.0804 - val_accuracy: 0.9800 - lr: 0.0010 - 16s/epoch - 33ms/step
Epoch 77/125
481/481 - 16s - loss: 0.0739 - accuracy: 0.9843 - val_loss: 0.0823 - val_accuracy: 0.9855 - lr: 0.0010 - 16s/epoch - 33ms/step
Epoch 78/125
481/481 - 16s - loss: 0.1714 - accuracy: 0.9817 - val_loss: 0.1614 - val_accuracy: 0.9643 - lr: 0.0010 - 16s/epoch - 33ms/step
Epoch 79/125
481/481 - 16s - loss: 0.0878 - accuracy: 0.9782 - val_loss: 0.0579 - val_accuracy: 0.9908 - lr: 0.0010 - 16s/epoch - 33ms/step
Epoch 80/125
481/481 - 16s - loss: 0.1039 - accuracy: 0.9775 - val_loss: 0.0980 - val_accuracy: 0.9858 - lr: 0.0010 - 16s/epoch - 33ms/step
Epoch 81/125
481/481 - 16s - loss: 0.1251 - accuracy: 0.9767 - val_loss: 0.0746 - val_accuracy: 0.9910 - lr: 0.0010 - 16s/epoch - 33ms/step
Epoch 82/125
481/481 - 16s - loss: 0.0652 - accuracy: 0.9861 - val_loss: 0.0678 - val_accuracy: 0.9862 - lr: 0.0010 - 16s/epoch - 33ms/step
Epoch 83/125
481/481 - 16s - loss: 0.2989 - accuracy: 0.9749 - val_loss: 0.0864 - val_accuracy: 0.9825 - lr: 0.0010 - 16s/epoch - 33ms/step
Epoch 84/125
481/481 - 16s - loss: 0.0972 - accuracy: 0.9767 - val_loss: 0.6594 - val_accuracy: 0.9690 - lr: 0.0010 - 16s/epoch - 33ms/step
Epoch 85/125
481/481 - 16s - loss: 0.2383 - accuracy: 0.9594 - val_loss: 0.1326 - val_accuracy: 0.9638 - lr: 0.0010 - 16s/epoch - 33ms/step
Epoch 86/125
481/481 - 16s - loss: 0.2960 - accuracy: 0.9495 - val_loss: 0.1049 - val_accuracy: 0.9750 - lr: 0.0010 - 16s/epoch - 33ms/step
Epoch 87/125
481/481 - 16s - loss: 0.0950 - accuracy: 0.9792 - val_loss: 0.0804 - val_accuracy: 0.9833 - lr: 0.0010 - 16s/epoch - 33ms/step
Epoch 88/125
481/481 - 16s - loss: 0.7589 - accuracy: 0.9665 - val_loss: 0.1468 - val_accuracy: 0.9607 - lr: 0.0010 - 16s/epoch - 34ms/step
Epoch 89/125
481/481 - 16s - loss: 0.1367 - accuracy: 0.9660 - val_loss: 0.0762 - val_accuracy: 0.9790 - lr: 0.0010 - 16s/epoch - 33ms/step
Epoch 90/125
481/481 - 16s - loss: 0.0649 - accuracy: 0.9858 - val_loss: 0.1107 - val_accuracy: 0.9900 - lr: 0.0010 - 16s/epoch - 34ms/step
Epoch 91/125
481/481 - 16s - loss: 0.0839 - accuracy: 0.9839 - val_loss: 0.0762 - val_accuracy: 0.9843 - lr: 0.0010 - 16s/epoch - 33ms/step
Epoch 92/125
481/481 - 16s - loss: 0.0629 - accuracy: 0.9879 - val_loss: 0.0484 - val_accuracy: 0.9910 - lr: 0.0010 - 16s/epoch - 33ms/step
Epoch 93/125
481/481 - 16s - loss: 0.0868 - accuracy: 0.9802 - val_loss: 0.0498 - val_accuracy: 0.9893 - lr: 0.0010 - 16s/epoch - 33ms/step
Epoch 94/125
481/481 - 16s - loss: 0.1138 - accuracy: 0.9789 - val_loss: 0.0667 - val_accuracy: 0.9898 - lr: 0.0010 - 16s/epoch - 33ms/step
Epoch 95/125
481/481 - 16s - loss: 0.2829 - accuracy: 0.9693 - val_loss: 0.1423 - val_accuracy: 0.9685 - lr: 0.0010 - 16s/epoch - 33ms/step
Epoch 96/125
481/481 - 16s - loss: 0.0889 - accuracy: 0.9813 - val_loss: 0.0509 - val_accuracy: 0.9905 - lr: 0.0010 - 16s/epoch - 34ms/step
Epoch 97/125
481/481 - 16s - loss: 0.0592 - accuracy: 0.9879 - val_loss: 0.0900 - val_accuracy: 0.9890 - lr: 0.0010 - 16s/epoch - 33ms/step
Epoch 98/125
481/481 - 16s - loss: 0.0649 - accuracy: 0.9861 - val_loss: 0.0898 - val_accuracy: 0.9820 - lr: 0.0010 - 16s/epoch - 33ms/step
Epoch 99/125
481/481 - 16s - loss: 0.1388 - accuracy: 0.9666 - val_loss: 0.1088 - val_accuracy: 0.9745 - lr: 0.0010 - 16s/epoch - 33ms/step
Epoch 100/125
481/481 - 16s - loss: 0.2416 - accuracy: 0.9530 - val_loss: 0.1017 - val_accuracy: 0.9883 - lr: 0.0010 - 16s/epoch - 33ms/step
Epoch 101/125
481/481 - 16s - loss: 0.1163 - accuracy: 0.9839 - val_loss: 0.0829 - val_accuracy: 0.9880 - lr: 0.0010 - 16s/epoch - 33ms/step
Epoch 102/125
481/481 - 16s - loss: 0.0790 - accuracy: 0.9844 - val_loss: 0.0822 - val_accuracy: 0.9875 - lr: 0.0010 - 16s/epoch - 33ms/step
Epoch 103/125
481/481 - 16s - loss: 0.0713 - accuracy: 0.9848 - val_loss: 0.4723 - val_accuracy: 0.9647 - lr: 0.0010 - 16s/epoch - 33ms/step
Epoch 104/125
481/481 - 16s - loss: 0.2106 - accuracy: 0.9574 - val_loss: 0.0670 - val_accuracy: 0.9862 - lr: 0.0010 - 16s/epoch - 33ms/step
Epoch 105/125
481/481 - 16s - loss: 0.0704 - accuracy: 0.9859 - val_loss: 0.0762 - val_accuracy: 0.9810 - lr: 0.0010 - 16s/epoch - 33ms/step
Epoch 106/125
481/481 - 16s - loss: 0.0789 - accuracy: 0.9848 - val_loss: 0.0610 - val_accuracy: 0.9918 - lr: 0.0010 - 16s/epoch - 33ms/step
Epoch 107/125
481/481 - 16s - loss: 0.1265 - accuracy: 0.9843 - val_loss: 0.6553 - val_accuracy: 0.7293 - lr: 0.0010 - 16s/epoch - 33ms/step
Epoch 108/125
481/481 - 16s - loss: 0.1774 - accuracy: 0.9437 - val_loss: 0.1899 - val_accuracy: 0.9877 - lr: 0.0010 - 16s/epoch - 33ms/step
Epoch 109/125
481/481 - 16s - loss: 0.1136 - accuracy: 0.9768 - val_loss: 0.0952 - val_accuracy: 0.9755 - lr: 0.0010 - 16s/epoch - 33ms/step
Epoch 110/125
481/481 - 16s - loss: 0.1103 - accuracy: 0.9781 - val_loss: 0.0702 - val_accuracy: 0.9883 - lr: 0.0010 - 16s/epoch - 33ms/step
Epoch 111/125
481/481 - 16s - loss: 0.1484 - accuracy: 0.9754 - val_loss: 0.0800 - val_accuracy: 0.9870 - lr: 0.0010 - 16s/epoch - 33ms/step
Epoch 112/125
481/481 - 16s - loss: 0.1136 - accuracy: 0.9730 - val_loss: 0.2039 - val_accuracy: 0.9780 - lr: 0.0010 - 16s/epoch - 33ms/step
Epoch 113/125
481/481 - 16s - loss: 0.1392 - accuracy: 0.9700 - val_loss: 0.9909 - val_accuracy: 0.9900 - lr: 0.0010 - 16s/epoch - 33ms/step
Epoch 114/125
481/481 - 16s - loss: 0.3302 - accuracy: 0.9570 - val_loss: 0.1168 - val_accuracy: 0.9858 - lr: 0.0010 - 16s/epoch - 33ms/step
Epoch 115/125
481/481 - 16s - loss: 0.0916 - accuracy: 0.9786 - val_loss: 0.0715 - val_accuracy: 0.9855 - lr: 0.0010 - 16s/epoch - 33ms/step
Epoch 116/125
481/481 - 16s - loss: 0.0959 - accuracy: 0.9794 - val_loss: 0.0825 - val_accuracy: 0.9840 - lr: 0.0010 - 16s/epoch - 33ms/step
Epoch 117/125
481/481 - 16s - loss: 0.0992 - accuracy: 0.9800 - val_loss: 0.0622 - val_accuracy: 0.9868 - lr: 0.0010 - 16s/epoch - 33ms/step
Epoch 118/125
481/481 - 16s - loss: 0.1781 - accuracy: 0.9633 - val_loss: 0.0809 - val_accuracy: 0.9865 - lr: 0.0010 - 16s/epoch - 33ms/step
Epoch 119/125
481/481 - 16s - loss: 0.0999 - accuracy: 0.9816 - val_loss: 0.0601 - val_accuracy: 0.9862 - lr: 0.0010 - 16s/epoch - 33ms/step
Epoch 120/125
481/481 - 16s - loss: 0.1686 - accuracy: 0.9738 - val_loss: 0.1543 - val_accuracy: 0.9665 - lr: 0.0010 - 16s/epoch - 34ms/step
Epoch 121/125
481/481 - 16s - loss: 0.3397 - accuracy: 0.9538 - val_loss: 0.1395 - val_accuracy: 0.9710 - lr: 0.0010 - 16s/epoch - 33ms/step
Epoch 122/125
481/481 - 16s - loss: 0.0966 - accuracy: 0.9791 - val_loss: 0.1050 - val_accuracy: 0.9768 - lr: 0.0010 - 16s/epoch - 33ms/step
Epoch 123/125
481/481 - 16s - loss: 0.3889 - accuracy: 0.9646 - val_loss: 0.2226 - val_accuracy: 0.9635 - lr: 0.0010 - 16s/epoch - 33ms/step
Epoch 124/125
481/481 - 16s - loss: 0.2051 - accuracy: 0.9669 - val_loss: 0.0909 - val_accuracy: 0.9760 - lr: 0.0010 - 16s/epoch - 33ms/step
Epoch 125/125
481/481 - 16s - loss: 0.1372 - accuracy: 0.9747 - val_loss: 0.1372 - val_accuracy: 0.9845 - lr: 0.0010 - 16s/epoch - 33ms/step
fitting with batch size: 450
Epoch 1/125
214/214 - 13s - loss: 0.0781 - accuracy: 0.9882 - val_loss: 0.0969 - val_accuracy: 0.9877 - lr: 0.0010 - 13s/epoch - 62ms/step
Epoch 2/125
214/214 - 11s - loss: 0.1289 - accuracy: 0.9810 - val_loss: 0.1222 - val_accuracy: 0.9750 - lr: 0.0010 - 11s/epoch - 51ms/step
Epoch 3/125
214/214 - 11s - loss: 0.1090 - accuracy: 0.9800 - val_loss: 0.0901 - val_accuracy: 0.9885 - lr: 0.0010 - 11s/epoch - 51ms/step
Epoch 4/125
214/214 - 11s - loss: 0.1005 - accuracy: 0.9856 - val_loss: 0.0545 - val_accuracy: 0.9902 - lr: 0.0010 - 11s/epoch - 51ms/step
Epoch 5/125
214/214 - 11s - loss: 0.0724 - accuracy: 0.9879 - val_loss: 0.1658 - val_accuracy: 0.9898 - lr: 0.0010 - 11s/epoch - 51ms/step
Epoch 6/125
214/214 - 11s - loss: 0.0808 - accuracy: 0.9887 - val_loss: 0.2613 - val_accuracy: 0.9697 - lr: 0.0010 - 11s/epoch - 51ms/step
Epoch 7/125
214/214 - 11s - loss: 0.0728 - accuracy: 0.9891 - val_loss: 0.1235 - val_accuracy: 0.9860 - lr: 0.0010 - 11s/epoch - 51ms/step
Epoch 8/125
214/214 - 11s - loss: 0.1229 - accuracy: 0.9839 - val_loss: 0.2118 - val_accuracy: 0.9815 - lr: 0.0010 - 11s/epoch - 51ms/step
Epoch 9/125
214/214 - 11s - loss: 0.1149 - accuracy: 0.9860 - val_loss: 0.1811 - val_accuracy: 0.9728 - lr: 0.0010 - 11s/epoch - 51ms/step
Epoch 10/125
214/214 - 11s - loss: 0.0807 - accuracy: 0.9845 - val_loss: 0.0637 - val_accuracy: 0.9908 - lr: 0.0010 - 11s/epoch - 51ms/step
Epoch 11/125
214/214 - 11s - loss: 0.0650 - accuracy: 0.9897 - val_loss: 0.1508 - val_accuracy: 0.9778 - lr: 0.0010 - 11s/epoch - 51ms/step
Epoch 12/125
214/214 - 11s - loss: 0.0623 - accuracy: 0.9882 - val_loss: 0.0843 - val_accuracy: 0.9895 - lr: 0.0010 - 11s/epoch - 51ms/step
Epoch 13/125
214/214 - 11s - loss: 0.0545 - accuracy: 0.9910 - val_loss: 0.2655 - val_accuracy: 0.9870 - lr: 0.0010 - 11s/epoch - 51ms/step
Epoch 14/125
214/214 - 11s - loss: 0.0701 - accuracy: 0.9898 - val_loss: 0.2322 - val_accuracy: 0.9910 - lr: 0.0010 - 11s/epoch - 51ms/step
Epoch 15/125
214/214 - 11s - loss: 0.0594 - accuracy: 0.9905 - val_loss: 0.0894 - val_accuracy: 0.9900 - lr: 0.0010 - 11s/epoch - 51ms/step
Epoch 16/125
214/214 - 11s - loss: 0.0376 - accuracy: 0.9935 - val_loss: 0.0399 - val_accuracy: 0.9902 - lr: 0.0010 - 11s/epoch - 51ms/step
Epoch 17/125
214/214 - 11s - loss: 0.0877 - accuracy: 0.9849 - val_loss: 0.1184 - val_accuracy: 0.9898 - lr: 0.0010 - 11s/epoch - 51ms/step
Epoch 18/125
214/214 - 11s - loss: 0.0547 - accuracy: 0.9917 - val_loss: 0.1127 - val_accuracy: 0.9915 - lr: 0.0010 - 11s/epoch - 51ms/step
Epoch 19/125
214/214 - 11s - loss: 0.0648 - accuracy: 0.9857 - val_loss: 0.1918 - val_accuracy: 0.9890 - lr: 0.0010 - 11s/epoch - 51ms/step
Epoch 20/125
214/214 - 11s - loss: 0.0452 - accuracy: 0.9922 - val_loss: 0.1193 - val_accuracy: 0.9942 - lr: 0.0010 - 11s/epoch - 51ms/step
Epoch 21/125
214/214 - 11s - loss: 0.0752 - accuracy: 0.9906 - val_loss: 0.0688 - val_accuracy: 0.9908 - lr: 0.0010 - 11s/epoch - 51ms/step
Epoch 22/125
214/214 - 11s - loss: 0.1932 - accuracy: 0.9872 - val_loss: 0.0813 - val_accuracy: 0.9860 - lr: 0.0010 - 11s/epoch - 51ms/step
Epoch 23/125
214/214 - 11s - loss: 0.0606 - accuracy: 0.9879 - val_loss: 0.0786 - val_accuracy: 0.9895 - lr: 0.0010 - 11s/epoch - 51ms/step
Epoch 24/125
214/214 - 11s - loss: 0.0455 - accuracy: 0.9918 - val_loss: 0.0704 - val_accuracy: 0.9927 - lr: 0.0010 - 11s/epoch - 51ms/step
Epoch 25/125
214/214 - 11s - loss: 0.0394 - accuracy: 0.9928 - val_loss: 0.0854 - val_accuracy: 0.9898 - lr: 0.0010 - 11s/epoch - 51ms/step
Epoch 26/125
214/214 - 11s - loss: 0.0520 - accuracy: 0.9923 - val_loss: 0.1866 - val_accuracy: 0.9808 - lr: 0.0010 - 11s/epoch - 51ms/step
Epoch 27/125
214/214 - 11s - loss: 0.0516 - accuracy: 0.9899 - val_loss: 0.0715 - val_accuracy: 0.9942 - lr: 0.0010 - 11s/epoch - 51ms/step
Epoch 28/125
214/214 - 11s - loss: 0.0385 - accuracy: 0.9929 - val_loss: 0.0467 - val_accuracy: 0.9905 - lr: 0.0010 - 11s/epoch - 51ms/step
Epoch 29/125
214/214 - 11s - loss: 0.0495 - accuracy: 0.9917 - val_loss: 0.0859 - val_accuracy: 0.9915 - lr: 0.0010 - 11s/epoch - 51ms/step
Epoch 30/125
214/214 - 11s - loss: 0.0670 - accuracy: 0.9878 - val_loss: 0.0992 - val_accuracy: 0.9900 - lr: 0.0010 - 11s/epoch - 51ms/step
Epoch 31/125
214/214 - 11s - loss: 0.0412 - accuracy: 0.9929 - val_loss: 0.0984 - val_accuracy: 0.9927 - lr: 0.0010 - 11s/epoch - 51ms/step
Epoch 32/125
214/214 - 11s - loss: 0.0369 - accuracy: 0.9934 - val_loss: 0.1003 - val_accuracy: 0.9945 - lr: 0.0010 - 11s/epoch - 51ms/step
Epoch 33/125
214/214 - 11s - loss: 0.1325 - accuracy: 0.9878 - val_loss: 0.0953 - val_accuracy: 0.9930 - lr: 0.0010 - 11s/epoch - 51ms/step
Epoch 34/125
214/214 - 11s - loss: 0.0506 - accuracy: 0.9940 - val_loss: 0.1394 - val_accuracy: 0.9935 - lr: 0.0010 - 11s/epoch - 51ms/step
Epoch 35/125
214/214 - 11s - loss: 0.0467 - accuracy: 0.9933 - val_loss: 0.1104 - val_accuracy: 0.9895 - lr: 0.0010 - 11s/epoch - 51ms/step
Epoch 36/125
214/214 - 11s - loss: 0.0797 - accuracy: 0.9874 - val_loss: 0.0998 - val_accuracy: 0.9833 - lr: 0.0010 - 11s/epoch - 51ms/step
Epoch 37/125
214/214 - 11s - loss: 0.0443 - accuracy: 0.9898 - val_loss: 0.0604 - val_accuracy: 0.9925 - lr: 0.0010 - 11s/epoch - 51ms/step
Epoch 38/125
214/214 - 11s - loss: 0.0687 - accuracy: 0.9887 - val_loss: 0.1201 - val_accuracy: 0.9877 - lr: 0.0010 - 11s/epoch - 51ms/step
Epoch 39/125
214/214 - 11s - loss: 0.0333 - accuracy: 0.9941 - val_loss: 0.1210 - val_accuracy: 0.9912 - lr: 0.0010 - 11s/epoch - 51ms/step
Epoch 40/125
214/214 - 11s - loss: 0.0722 - accuracy: 0.9865 - val_loss: 0.0963 - val_accuracy: 0.9920 - lr: 0.0010 - 11s/epoch - 51ms/step
Epoch 41/125
214/214 - 11s - loss: 0.0560 - accuracy: 0.9914 - val_loss: 0.0497 - val_accuracy: 0.9925 - lr: 0.0010 - 11s/epoch - 51ms/step
Epoch 42/125
214/214 - 11s - loss: 0.0445 - accuracy: 0.9926 - val_loss: 0.0609 - val_accuracy: 0.9880 - lr: 0.0010 - 11s/epoch - 51ms/step
Epoch 43/125
214/214 - 11s - loss: 0.1471 - accuracy: 0.9877 - val_loss: 0.0965 - val_accuracy: 0.9787 - lr: 0.0010 - 11s/epoch - 51ms/step
Epoch 44/125
214/214 - 11s - loss: 0.0762 - accuracy: 0.9810 - val_loss: 0.0692 - val_accuracy: 0.9918 - lr: 0.0010 - 11s/epoch - 51ms/step
Epoch 45/125
214/214 - 11s - loss: 0.0390 - accuracy: 0.9915 - val_loss: 0.1230 - val_accuracy: 0.9920 - lr: 0.0010 - 11s/epoch - 51ms/step
Epoch 46/125
214/214 - 11s - loss: 0.0424 - accuracy: 0.9930 - val_loss: 0.0506 - val_accuracy: 0.9923 - lr: 0.0010 - 11s/epoch - 51ms/step
Epoch 47/125
214/214 - 11s - loss: 0.0313 - accuracy: 0.9943 - val_loss: 0.0491 - val_accuracy: 0.9940 - lr: 0.0010 - 11s/epoch - 51ms/step
Epoch 48/125
214/214 - 11s - loss: 0.1051 - accuracy: 0.9844 - val_loss: 0.1492 - val_accuracy: 0.9845 - lr: 0.0010 - 11s/epoch - 51ms/step
Epoch 49/125
214/214 - 11s - loss: 0.0542 - accuracy: 0.9892 - val_loss: 0.1198 - val_accuracy: 0.9902 - lr: 0.0010 - 11s/epoch - 51ms/step
Epoch 50/125
214/214 - 11s - loss: 0.0335 - accuracy: 0.9940 - val_loss: 0.1261 - val_accuracy: 0.9895 - lr: 0.0010 - 11s/epoch - 51ms/step
Epoch 51/125
214/214 - 11s - loss: 0.0526 - accuracy: 0.9909 - val_loss: 0.1256 - val_accuracy: 0.9743 - lr: 0.0010 - 11s/epoch - 51ms/step
Epoch 52/125
214/214 - 11s - loss: 0.1776 - accuracy: 0.9758 - val_loss: 0.1546 - val_accuracy: 0.9840 - lr: 0.0010 - 11s/epoch - 51ms/step
Epoch 53/125
214/214 - 11s - loss: 0.4884 - accuracy: 0.9552 - val_loss: 0.0817 - val_accuracy: 0.9775 - lr: 0.0010 - 11s/epoch - 51ms/step
Epoch 54/125
214/214 - 11s - loss: 0.0653 - accuracy: 0.9860 - val_loss: 0.0617 - val_accuracy: 0.9910 - lr: 0.0010 - 11s/epoch - 51ms/step
Epoch 55/125
214/214 - 11s - loss: 0.0426 - accuracy: 0.9916 - val_loss: 0.1418 - val_accuracy: 0.9920 - lr: 0.0010 - 11s/epoch - 51ms/step
Epoch 56/125
214/214 - 11s - loss: 0.1128 - accuracy: 0.9817 - val_loss: 0.0582 - val_accuracy: 0.9883 - lr: 0.0010 - 11s/epoch - 51ms/step
Epoch 57/125
214/214 - 11s - loss: 0.0372 - accuracy: 0.9931 - val_loss: 0.1063 - val_accuracy: 0.9925 - lr: 0.0010 - 11s/epoch - 51ms/step
Epoch 58/125
214/214 - 11s - loss: 0.0457 - accuracy: 0.9906 - val_loss: 0.2504 - val_accuracy: 0.9923 - lr: 0.0010 - 11s/epoch - 51ms/step
Epoch 59/125
214/214 - 11s - loss: 0.0643 - accuracy: 0.9869 - val_loss: 0.1199 - val_accuracy: 0.9902 - lr: 0.0010 - 11s/epoch - 53ms/step
Epoch 60/125
214/214 - 11s - loss: 0.2366 - accuracy: 0.9634 - val_loss: 0.0864 - val_accuracy: 0.9803 - lr: 0.0010 - 11s/epoch - 51ms/step
Epoch 61/125
214/214 - 12s - loss: 0.1948 - accuracy: 0.9490 - val_loss: 0.1692 - val_accuracy: 0.9643 - lr: 0.0010 - 12s/epoch - 54ms/step
Epoch 62/125
214/214 - 11s - loss: 0.1263 - accuracy: 0.9679 - val_loss: 0.1886 - val_accuracy: 0.9810 - lr: 0.0010 - 11s/epoch - 52ms/step
Epoch 63/125
214/214 - 11s - loss: 0.2454 - accuracy: 0.9574 - val_loss: 0.0658 - val_accuracy: 0.9820 - lr: 0.0010 - 11s/epoch - 51ms/step
Epoch 64/125
214/214 - 11s - loss: 0.0761 - accuracy: 0.9824 - val_loss: 0.1164 - val_accuracy: 0.9875 - lr: 0.0010 - 11s/epoch - 51ms/step
Epoch 65/125
214/214 - 11s - loss: 0.1103 - accuracy: 0.9795 - val_loss: 0.2212 - val_accuracy: 0.9517 - lr: 0.0010 - 11s/epoch - 51ms/step
Epoch 66/125
214/214 - 11s - loss: 0.1548 - accuracy: 0.9587 - val_loss: 0.0860 - val_accuracy: 0.9775 - lr: 0.0010 - 11s/epoch - 50ms/step
Epoch 67/125
214/214 - 10s - loss: 0.1144 - accuracy: 0.9763 - val_loss: 0.0844 - val_accuracy: 0.9825 - lr: 0.0010 - 10s/epoch - 46ms/step
Epoch 68/125
214/214 - 11s - loss: 0.0836 - accuracy: 0.9819 - val_loss: 0.0510 - val_accuracy: 0.9880 - lr: 0.0010 - 11s/epoch - 51ms/step
Epoch 69/125
214/214 - 11s - loss: 0.0456 - accuracy: 0.9912 - val_loss: 0.0527 - val_accuracy: 0.9900 - lr: 0.0010 - 11s/epoch - 51ms/step
Epoch 70/125
214/214 - 11s - loss: 0.0853 - accuracy: 0.9831 - val_loss: 0.0849 - val_accuracy: 0.9845 - lr: 0.0010 - 11s/epoch - 51ms/step
Epoch 71/125
214/214 - 11s - loss: 0.1023 - accuracy: 0.9811 - val_loss: 0.0848 - val_accuracy: 0.9855 - lr: 0.0010 - 11s/epoch - 51ms/step
Epoch 72/125
214/214 - 11s - loss: 0.0723 - accuracy: 0.9840 - val_loss: 0.0780 - val_accuracy: 0.9908 - lr: 0.0010 - 11s/epoch - 51ms/step
Epoch 73/125
214/214 - 11s - loss: 0.1165 - accuracy: 0.9740 - val_loss: 0.0832 - val_accuracy: 0.9755 - lr: 0.0010 - 11s/epoch - 51ms/step
Epoch 74/125
214/214 - 11s - loss: 0.0638 - accuracy: 0.9872 - val_loss: 0.0541 - val_accuracy: 0.9923 - lr: 0.0010 - 11s/epoch - 51ms/step
Epoch 75/125
214/214 - 11s - loss: 0.5933 - accuracy: 0.9361 - val_loss: 0.1622 - val_accuracy: 0.9682 - lr: 0.0010 - 11s/epoch - 51ms/step
Epoch 76/125
214/214 - 11s - loss: 0.1447 - accuracy: 0.9709 - val_loss: 0.1051 - val_accuracy: 0.9825 - lr: 0.0010 - 11s/epoch - 51ms/step
Epoch 77/125
214/214 - 11s - loss: 0.1206 - accuracy: 0.9736 - val_loss: 0.1559 - val_accuracy: 0.9862 - lr: 0.0010 - 11s/epoch - 51ms/step
Epoch 78/125
214/214 - 11s - loss: 0.0655 - accuracy: 0.9867 - val_loss: 0.1056 - val_accuracy: 0.9865 - lr: 0.0010 - 11s/epoch - 51ms/step
Epoch 79/125
214/214 - 11s - loss: 0.0880 - accuracy: 0.9845 - val_loss: 0.0878 - val_accuracy: 0.9837 - lr: 0.0010 - 11s/epoch - 51ms/step
Epoch 80/125
214/214 - 11s - loss: 0.0993 - accuracy: 0.9767 - val_loss: 0.0604 - val_accuracy: 0.9868 - lr: 0.0010 - 11s/epoch - 51ms/step
Epoch 81/125
214/214 - 11s - loss: 2.8106 - accuracy: 0.9401 - val_loss: 0.4976 - val_accuracy: 0.8505 - lr: 0.0010 - 11s/epoch - 51ms/step
Epoch 82/125
214/214 - 11s - loss: 0.3308 - accuracy: 0.9027 - val_loss: 0.1523 - val_accuracy: 0.9480 - lr: 0.0010 - 11s/epoch - 51ms/step
Epoch 83/125
214/214 - 11s - loss: 0.1540 - accuracy: 0.9586 - val_loss: 0.1067 - val_accuracy: 0.9747 - lr: 0.0010 - 11s/epoch - 51ms/step
Epoch 84/125
214/214 - 11s - loss: 0.0976 - accuracy: 0.9753 - val_loss: 0.0830 - val_accuracy: 0.9657 - lr: 0.0010 - 11s/epoch - 51ms/step
Epoch 85/125
214/214 - 11s - loss: 0.0823 - accuracy: 0.9844 - val_loss: 0.0498 - val_accuracy: 0.9868 - lr: 0.0010 - 11s/epoch - 51ms/step
Epoch 86/125
214/214 - 11s - loss: 0.0445 - accuracy: 0.9907 - val_loss: 0.0516 - val_accuracy: 0.9910 - lr: 0.0010 - 11s/epoch - 51ms/step
Epoch 87/125
214/214 - 11s - loss: 0.0620 - accuracy: 0.9862 - val_loss: 0.1170 - val_accuracy: 0.9840 - lr: 0.0010 - 11s/epoch - 51ms/step
Epoch 88/125
214/214 - 11s - loss: 0.1027 - accuracy: 0.9825 - val_loss: 0.0884 - val_accuracy: 0.9858 - lr: 0.0010 - 11s/epoch - 51ms/step
Epoch 89/125
214/214 - 11s - loss: 0.0723 - accuracy: 0.9851 - val_loss: 0.0928 - val_accuracy: 0.9812 - lr: 0.0010 - 11s/epoch - 51ms/step
Epoch 90/125
214/214 - 11s - loss: 0.3787 - accuracy: 0.9230 - val_loss: 0.1894 - val_accuracy: 0.9680 - lr: 0.0010 - 11s/epoch - 51ms/step
Epoch 91/125
214/214 - 11s - loss: 0.1583 - accuracy: 0.9685 - val_loss: 0.1309 - val_accuracy: 0.9743 - lr: 0.0010 - 11s/epoch - 51ms/step
Epoch 92/125
214/214 - 11s - loss: 0.1655 - accuracy: 0.9679 - val_loss: 0.1281 - val_accuracy: 0.9725 - lr: 0.0010 - 11s/epoch - 51ms/step
Epoch 93/125
214/214 - 11s - loss: 0.1169 - accuracy: 0.9759 - val_loss: 0.1402 - val_accuracy: 0.9818 - lr: 0.0010 - 11s/epoch - 51ms/step
Epoch 94/125
214/214 - 11s - loss: 0.0997 - accuracy: 0.9826 - val_loss: 0.1205 - val_accuracy: 0.9812 - lr: 0.0010 - 11s/epoch - 51ms/step
Epoch 95/125
214/214 - 11s - loss: 0.2094 - accuracy: 0.9666 - val_loss: 0.4108 - val_accuracy: 0.9695 - lr: 0.0010 - 11s/epoch - 51ms/step
Epoch 96/125
214/214 - 11s - loss: 0.2604 - accuracy: 0.9455 - val_loss: 0.1504 - val_accuracy: 0.9620 - lr: 0.0010 - 11s/epoch - 51ms/step
Epoch 97/125
214/214 - 11s - loss: 0.1487 - accuracy: 0.9658 - val_loss: 0.1330 - val_accuracy: 0.9795 - lr: 0.0010 - 11s/epoch - 51ms/step
Epoch 98/125
214/214 - 11s - loss: 0.1456 - accuracy: 0.9734 - val_loss: 0.1016 - val_accuracy: 0.9825 - lr: 0.0010 - 11s/epoch - 51ms/step
Epoch 99/125
214/214 - 11s - loss: 0.2851 - accuracy: 0.9281 - val_loss: 0.1165 - val_accuracy: 0.9790 - lr: 0.0010 - 11s/epoch - 51ms/step
Epoch 100/125
214/214 - 11s - loss: 0.0932 - accuracy: 0.9797 - val_loss: 0.1940 - val_accuracy: 0.9890 - lr: 0.0010 - 11s/epoch - 51ms/step
Epoch 101/125
214/214 - 11s - loss: 0.2101 - accuracy: 0.9574 - val_loss: 0.0639 - val_accuracy: 0.9820 - lr: 0.0010 - 11s/epoch - 51ms/step
Epoch 102/125
214/214 - 11s - loss: 0.1090 - accuracy: 0.9795 - val_loss: 0.3721 - val_accuracy: 0.9680 - lr: 0.0010 - 11s/epoch - 51ms/step
Epoch 103/125
214/214 - 11s - loss: 0.2532 - accuracy: 0.9520 - val_loss: 0.1230 - val_accuracy: 0.9805 - lr: 0.0010 - 11s/epoch - 51ms/step
Epoch 104/125
214/214 - 11s - loss: 0.3176 - accuracy: 0.9568 - val_loss: 0.2294 - val_accuracy: 0.9613 - lr: 0.0010 - 11s/epoch - 51ms/step
Epoch 105/125
214/214 - 11s - loss: 0.1679 - accuracy: 0.9615 - val_loss: 0.1432 - val_accuracy: 0.9805 - lr: 0.0010 - 11s/epoch - 51ms/step
Epoch 106/125
214/214 - 11s - loss: 0.1878 - accuracy: 0.9726 - val_loss: 0.2740 - val_accuracy: 0.9735 - lr: 0.0010 - 11s/epoch - 51ms/step
Epoch 107/125
214/214 - 11s - loss: 0.1900 - accuracy: 0.9718 - val_loss: 0.1913 - val_accuracy: 0.9747 - lr: 0.0010 - 11s/epoch - 51ms/step
Epoch 108/125
214/214 - 11s - loss: 0.1286 - accuracy: 0.9743 - val_loss: 0.2092 - val_accuracy: 0.9490 - lr: 0.0010 - 11s/epoch - 51ms/step
Epoch 109/125
214/214 - 11s - loss: 0.2518 - accuracy: 0.9562 - val_loss: 0.1611 - val_accuracy: 0.9735 - lr: 0.0010 - 11s/epoch - 51ms/step
Epoch 110/125
214/214 - 11s - loss: 0.1389 - accuracy: 0.9703 - val_loss: 0.1478 - val_accuracy: 0.9872 - lr: 0.0010 - 11s/epoch - 51ms/step
Epoch 111/125
214/214 - 11s - loss: 0.1601 - accuracy: 0.9800 - val_loss: 0.1765 - val_accuracy: 0.9818 - lr: 0.0010 - 11s/epoch - 51ms/step
Epoch 112/125
214/214 - 11s - loss: 0.1347 - accuracy: 0.9726 - val_loss: 0.1486 - val_accuracy: 0.9835 - lr: 0.0010 - 11s/epoch - 51ms/step
Epoch 113/125
214/214 - 11s - loss: 0.0943 - accuracy: 0.9813 - val_loss: 0.1455 - val_accuracy: 0.9825 - lr: 0.0010 - 11s/epoch - 51ms/step
Epoch 114/125
214/214 - 11s - loss: 0.2465 - accuracy: 0.9761 - val_loss: 0.1930 - val_accuracy: 0.9710 - lr: 0.0010 - 11s/epoch - 51ms/step
Epoch 115/125
214/214 - 11s - loss: 0.1401 - accuracy: 0.9745 - val_loss: 0.0912 - val_accuracy: 0.9862 - lr: 0.0010 - 11s/epoch - 51ms/step
Epoch 116/125
214/214 - 11s - loss: 0.0719 - accuracy: 0.9868 - val_loss: 0.1537 - val_accuracy: 0.9920 - lr: 0.0010 - 11s/epoch - 51ms/step
Epoch 117/125
214/214 - 11s - loss: 0.2832 - accuracy: 0.9611 - val_loss: 0.2625 - val_accuracy: 0.9663 - lr: 0.0010 - 11s/epoch - 51ms/step
Epoch 118/125
214/214 - 11s - loss: 0.1176 - accuracy: 0.9777 - val_loss: 0.4217 - val_accuracy: 0.9835 - lr: 0.0010 - 11s/epoch - 51ms/step
Epoch 119/125
214/214 - 11s - loss: 0.2007 - accuracy: 0.9728 - val_loss: 0.3775 - val_accuracy: 0.9845 - lr: 0.0010 - 11s/epoch - 51ms/step
Epoch 120/125
214/214 - 11s - loss: 0.0808 - accuracy: 0.9858 - val_loss: 0.4554 - val_accuracy: 0.9902 - lr: 0.0010 - 11s/epoch - 51ms/step
Epoch 121/125
214/214 - 11s - loss: 0.0878 - accuracy: 0.9839 - val_loss: 0.2965 - val_accuracy: 0.9883 - lr: 0.0010 - 11s/epoch - 51ms/step
Epoch 122/125
214/214 - 11s - loss: 0.2005 - accuracy: 0.9747 - val_loss: 0.2651 - val_accuracy: 0.9833 - lr: 0.0010 - 11s/epoch - 51ms/step
Epoch 123/125
214/214 - 11s - loss: 0.1706 - accuracy: 0.9604 - val_loss: 0.1893 - val_accuracy: 0.9740 - lr: 0.0010 - 11s/epoch - 51ms/step
Epoch 124/125
214/214 - 11s - loss: 0.6439 - accuracy: 0.9472 - val_loss: 0.1944 - val_accuracy: 0.9707 - lr: 0.0010 - 11s/epoch - 51ms/step
Epoch 125/125
214/214 - 11s - loss: 0.1542 - accuracy: 0.9693 - val_loss: 0.1451 - val_accuracy: 0.9780 - lr: 0.0010 - 11s/epoch - 51ms/step
fitting with batch size: 1350
Epoch 1/125
72/72 - 11s - loss: 0.1002 - accuracy: 0.9800 - val_loss: 0.1235 - val_accuracy: 0.9825 - lr: 0.0010 - 11s/epoch - 160ms/step
Epoch 2/125
72/72 - 9s - loss: 0.0923 - accuracy: 0.9823 - val_loss: 0.1079 - val_accuracy: 0.9887 - lr: 0.0010 - 9s/epoch - 128ms/step
Epoch 3/125
72/72 - 9s - loss: 0.0791 - accuracy: 0.9851 - val_loss: 0.1058 - val_accuracy: 0.9893 - lr: 0.0010 - 9s/epoch - 130ms/step
Epoch 4/125
72/72 - 9s - loss: 0.1007 - accuracy: 0.9787 - val_loss: 0.1662 - val_accuracy: 0.9852 - lr: 0.0010 - 9s/epoch - 128ms/step
Epoch 5/125
72/72 - 9s - loss: 0.1783 - accuracy: 0.9625 - val_loss: 0.1174 - val_accuracy: 0.9815 - lr: 0.0010 - 9s/epoch - 128ms/step
Epoch 6/125
72/72 - 9s - loss: 0.1547 - accuracy: 0.9733 - val_loss: 0.1533 - val_accuracy: 0.9808 - lr: 0.0010 - 9s/epoch - 129ms/step
Epoch 7/125
72/72 - 9s - loss: 0.2630 - accuracy: 0.9476 - val_loss: 0.3195 - val_accuracy: 0.9705 - lr: 0.0010 - 9s/epoch - 127ms/step
Epoch 8/125
72/72 - 9s - loss: 0.1678 - accuracy: 0.9675 - val_loss: 0.2316 - val_accuracy: 0.9750 - lr: 0.0010 - 9s/epoch - 128ms/step
Epoch 9/125
72/72 - 9s - loss: 0.1257 - accuracy: 0.9767 - val_loss: 0.5833 - val_accuracy: 0.9812 - lr: 0.0010 - 9s/epoch - 130ms/step
Epoch 10/125
72/72 - 9s - loss: 0.1143 - accuracy: 0.9816 - val_loss: 0.1401 - val_accuracy: 0.9847 - lr: 0.0010 - 9s/epoch - 128ms/step
Epoch 11/125
72/72 - 9s - loss: 0.1073 - accuracy: 0.9784 - val_loss: 0.1488 - val_accuracy: 0.9735 - lr: 0.0010 - 9s/epoch - 128ms/step
Epoch 12/125
72/72 - 9s - loss: 0.1509 - accuracy: 0.9722 - val_loss: 0.2037 - val_accuracy: 0.9622 - lr: 0.0010 - 9s/epoch - 128ms/step
Epoch 13/125
72/72 - 9s - loss: 0.1807 - accuracy: 0.9574 - val_loss: 0.1545 - val_accuracy: 0.9730 - lr: 0.0010 - 9s/epoch - 129ms/step
Epoch 14/125
72/72 - 9s - loss: 0.2570 - accuracy: 0.9530 - val_loss: 0.2858 - val_accuracy: 0.9592 - lr: 0.0010 - 9s/epoch - 129ms/step
Epoch 15/125
72/72 - 9s - loss: 0.3537 - accuracy: 0.9446 - val_loss: 0.2397 - val_accuracy: 0.9517 - lr: 0.0010 - 9s/epoch - 129ms/step
Epoch 16/125
72/72 - 9s - loss: 0.2396 - accuracy: 0.9387 - val_loss: 0.2221 - val_accuracy: 0.9672 - lr: 0.0010 - 9s/epoch - 128ms/step
Epoch 17/125
72/72 - 9s - loss: 0.1870 - accuracy: 0.9690 - val_loss: 0.1684 - val_accuracy: 0.9753 - lr: 0.0010 - 9s/epoch - 129ms/step
Epoch 18/125
72/72 - 9s - loss: 0.1356 - accuracy: 0.9721 - val_loss: 0.1483 - val_accuracy: 0.9822 - lr: 0.0010 - 9s/epoch - 129ms/step
Epoch 19/125
72/72 - 9s - loss: 0.1133 - accuracy: 0.9767 - val_loss: 0.1492 - val_accuracy: 0.9822 - lr: 0.0010 - 9s/epoch - 129ms/step
Epoch 20/125
72/72 - 9s - loss: 0.0993 - accuracy: 0.9805 - val_loss: 0.1998 - val_accuracy: 0.9847 - lr: 0.0010 - 9s/epoch - 129ms/step
Epoch 21/125
72/72 - 9s - loss: 0.0933 - accuracy: 0.9818 - val_loss: 0.1949 - val_accuracy: 0.9822 - lr: 0.0010 - 9s/epoch - 129ms/step
Epoch 22/125
72/72 - 9s - loss: 0.1089 - accuracy: 0.9792 - val_loss: 0.1572 - val_accuracy: 0.9833 - lr: 0.0010 - 9s/epoch - 129ms/step
Epoch 23/125
72/72 - 9s - loss: 0.2895 - accuracy: 0.9721 - val_loss: 0.2884 - val_accuracy: 0.9615 - lr: 0.0010 - 9s/epoch - 129ms/step
Epoch 24/125
72/72 - 9s - loss: 0.2045 - accuracy: 0.9637 - val_loss: 0.2427 - val_accuracy: 0.9685 - lr: 0.0010 - 9s/epoch - 129ms/step
Epoch 25/125
72/72 - 9s - loss: 0.2148 - accuracy: 0.9637 - val_loss: 0.1848 - val_accuracy: 0.9728 - lr: 0.0010 - 9s/epoch - 129ms/step
Epoch 26/125
72/72 - 9s - loss: 0.1581 - accuracy: 0.9660 - val_loss: 0.1450 - val_accuracy: 0.9718 - lr: 0.0010 - 9s/epoch - 128ms/step
Epoch 27/125
72/72 - 9s - loss: 0.1476 - accuracy: 0.9680 - val_loss: 0.1368 - val_accuracy: 0.9787 - lr: 0.0010 - 9s/epoch - 129ms/step
Epoch 28/125
72/72 - 9s - loss: 0.1441 - accuracy: 0.9702 - val_loss: 0.1663 - val_accuracy: 0.9650 - lr: 0.0010 - 9s/epoch - 128ms/step
Epoch 29/125
72/72 - 9s - loss: 0.1310 - accuracy: 0.9743 - val_loss: 0.1132 - val_accuracy: 0.9818 - lr: 0.0010 - 9s/epoch - 128ms/step
Epoch 30/125
72/72 - 9s - loss: 0.0928 - accuracy: 0.9825 - val_loss: 0.1192 - val_accuracy: 0.9850 - lr: 0.0010 - 9s/epoch - 130ms/step
Epoch 31/125
72/72 - 9s - loss: 0.1039 - accuracy: 0.9762 - val_loss: 0.1202 - val_accuracy: 0.9865 - lr: 0.0010 - 9s/epoch - 128ms/step
Epoch 32/125
72/72 - 9s - loss: 0.0707 - accuracy: 0.9874 - val_loss: 0.1618 - val_accuracy: 0.9900 - lr: 0.0010 - 9s/epoch - 129ms/step
Epoch 33/125
72/72 - 9s - loss: 0.0873 - accuracy: 0.9842 - val_loss: 0.1908 - val_accuracy: 0.9697 - lr: 0.0010 - 9s/epoch - 130ms/step
Epoch 34/125
72/72 - 9s - loss: 0.2245 - accuracy: 0.9511 - val_loss: 0.2247 - val_accuracy: 0.9535 - lr: 0.0010 - 9s/epoch - 128ms/step
Epoch 35/125
72/72 - 9s - loss: 0.1595 - accuracy: 0.9665 - val_loss: 0.2211 - val_accuracy: 0.9835 - lr: 0.0010 - 9s/epoch - 128ms/step
Epoch 36/125
72/72 - 9s - loss: 0.1178 - accuracy: 0.9772 - val_loss: 0.0991 - val_accuracy: 0.9860 - lr: 0.0010 - 9s/epoch - 130ms/step
Epoch 37/125
72/72 - 9s - loss: 0.1019 - accuracy: 0.9808 - val_loss: 0.1022 - val_accuracy: 0.9847 - lr: 0.0010 - 9s/epoch - 128ms/step
Epoch 38/125
72/72 - 9s - loss: 0.0960 - accuracy: 0.9829 - val_loss: 0.1196 - val_accuracy: 0.9805 - lr: 0.0010 - 9s/epoch - 128ms/step
Epoch 39/125
72/72 - 9s - loss: 0.4060 - accuracy: 0.9064 - val_loss: 0.4370 - val_accuracy: 0.8775 - lr: 0.0010 - 9s/epoch - 128ms/step
Epoch 40/125
72/72 - 9s - loss: 0.2750 - accuracy: 0.9251 - val_loss: 0.1405 - val_accuracy: 0.9747 - lr: 0.0010 - 9s/epoch - 129ms/step
Epoch 41/125
72/72 - 9s - loss: 0.1439 - accuracy: 0.9685 - val_loss: 0.1366 - val_accuracy: 0.9855 - lr: 0.0010 - 9s/epoch - 129ms/step
Epoch 42/125
72/72 - 9s - loss: 0.3567 - accuracy: 0.9558 - val_loss: 0.1164 - val_accuracy: 0.9800 - lr: 0.0010 - 9s/epoch - 129ms/step
Epoch 43/125
72/72 - 9s - loss: 0.1814 - accuracy: 0.9552 - val_loss: 0.1653 - val_accuracy: 0.9740 - lr: 0.0010 - 9s/epoch - 129ms/step
Epoch 44/125
72/72 - 9s - loss: 0.1292 - accuracy: 0.9712 - val_loss: 0.1649 - val_accuracy: 0.9770 - lr: 0.0010 - 9s/epoch - 128ms/step
Epoch 45/125
72/72 - 9s - loss: 0.1137 - accuracy: 0.9739 - val_loss: 0.1727 - val_accuracy: 0.9795 - lr: 0.0010 - 9s/epoch - 129ms/step
Epoch 46/125
72/72 - 9s - loss: 0.1503 - accuracy: 0.9725 - val_loss: 0.2802 - val_accuracy: 0.9615 - lr: 0.0010 - 9s/epoch - 128ms/step
Epoch 47/125
72/72 - 9s - loss: 2.5821 - accuracy: 0.9619 - val_loss: 0.1736 - val_accuracy: 0.9703 - lr: 0.0010 - 9s/epoch - 129ms/step
Epoch 48/125
72/72 - 9s - loss: 0.1562 - accuracy: 0.9690 - val_loss: 0.1812 - val_accuracy: 0.9818 - lr: 0.0010 - 9s/epoch - 129ms/step
Epoch 49/125
72/72 - 9s - loss: 0.1461 - accuracy: 0.9720 - val_loss: 0.2564 - val_accuracy: 0.9800 - lr: 0.0010 - 9s/epoch - 128ms/step
Epoch 50/125
72/72 - 9s - loss: 0.1139 - accuracy: 0.9771 - val_loss: 0.2171 - val_accuracy: 0.9855 - lr: 0.0010 - 9s/epoch - 128ms/step
Epoch 51/125
72/72 - 9s - loss: 0.0992 - accuracy: 0.9797 - val_loss: 0.2025 - val_accuracy: 0.9880 - lr: 0.0010 - 9s/epoch - 129ms/step
Epoch 52/125
72/72 - 9s - loss: 0.0892 - accuracy: 0.9820 - val_loss: 0.1701 - val_accuracy: 0.9898 - lr: 0.0010 - 9s/epoch - 128ms/step
Epoch 53/125
72/72 - 9s - loss: 0.0870 - accuracy: 0.9813 - val_loss: 0.2013 - val_accuracy: 0.9877 - lr: 0.0010 - 9s/epoch - 128ms/step
Epoch 54/125
72/72 - 9s - loss: 0.0866 - accuracy: 0.9818 - val_loss: 0.3366 - val_accuracy: 0.9810 - lr: 0.0010 - 9s/epoch - 129ms/step
Epoch 55/125
72/72 - 9s - loss: 0.0932 - accuracy: 0.9816 - val_loss: 0.2184 - val_accuracy: 0.9877 - lr: 0.0010 - 9s/epoch - 129ms/step
Epoch 56/125
72/72 - 9s - loss: 0.0829 - accuracy: 0.9832 - val_loss: 0.1783 - val_accuracy: 0.9885 - lr: 0.0010 - 9s/epoch - 128ms/step
Epoch 57/125
72/72 - 9s - loss: 0.0745 - accuracy: 0.9846 - val_loss: 0.2061 - val_accuracy: 0.9910 - lr: 0.0010 - 9s/epoch - 129ms/step
Epoch 58/125
72/72 - 9s - loss: 0.0755 - accuracy: 0.9843 - val_loss: 0.2015 - val_accuracy: 0.9872 - lr: 0.0010 - 9s/epoch - 129ms/step
Epoch 59/125
72/72 - 9s - loss: 0.0799 - accuracy: 0.9830 - val_loss: 0.3439 - val_accuracy: 0.9833 - lr: 0.0010 - 9s/epoch - 129ms/step
Epoch 60/125
72/72 - 9s - loss: 0.1054 - accuracy: 0.9773 - val_loss: 0.2060 - val_accuracy: 0.9785 - lr: 0.0010 - 9s/epoch - 128ms/step
Epoch 61/125
72/72 - 9s - loss: 0.1061 - accuracy: 0.9789 - val_loss: 0.3681 - val_accuracy: 0.9858 - lr: 0.0010 - 9s/epoch - 128ms/step
Epoch 62/125
72/72 - 9s - loss: 0.0760 - accuracy: 0.9852 - val_loss: 0.3838 - val_accuracy: 0.9815 - lr: 0.0010 - 9s/epoch - 129ms/step
Epoch 63/125
72/72 - 9s - loss: 0.0874 - accuracy: 0.9829 - val_loss: 0.1964 - val_accuracy: 0.9755 - lr: 0.0010 - 9s/epoch - 129ms/step
Epoch 64/125
72/72 - 9s - loss: 0.0985 - accuracy: 0.9785 - val_loss: 0.2222 - val_accuracy: 0.9855 - lr: 0.0010 - 9s/epoch - 129ms/step
Epoch 65/125
72/72 - 9s - loss: 0.0961 - accuracy: 0.9815 - val_loss: 0.2777 - val_accuracy: 0.9805 - lr: 0.0010 - 9s/epoch - 129ms/step
Epoch 66/125
72/72 - 9s - loss: 0.0902 - accuracy: 0.9805 - val_loss: 0.2908 - val_accuracy: 0.9877 - lr: 0.0010 - 9s/epoch - 129ms/step
Epoch 67/125
72/72 - 9s - loss: 0.1223 - accuracy: 0.9757 - val_loss: 0.2571 - val_accuracy: 0.9635 - lr: 0.0010 - 9s/epoch - 129ms/step
Epoch 68/125
72/72 - 9s - loss: 0.1498 - accuracy: 0.9643 - val_loss: 0.1792 - val_accuracy: 0.9755 - lr: 0.0010 - 9s/epoch - 129ms/step
Epoch 69/125
72/72 - 9s - loss: 0.1595 - accuracy: 0.9693 - val_loss: 0.4525 - val_accuracy: 0.9800 - lr: 0.0010 - 9s/epoch - 128ms/step
Epoch 70/125
72/72 - 9s - loss: 0.1574 - accuracy: 0.9675 - val_loss: 0.2881 - val_accuracy: 0.9772 - lr: 0.0010 - 9s/epoch - 129ms/step
Epoch 71/125
72/72 - 9s - loss: 0.1193 - accuracy: 0.9720 - val_loss: 0.2394 - val_accuracy: 0.9822 - lr: 0.0010 - 9s/epoch - 128ms/step
Epoch 72/125
72/72 - 9s - loss: 0.1150 - accuracy: 0.9753 - val_loss: 0.2269 - val_accuracy: 0.9830 - lr: 0.0010 - 9s/epoch - 128ms/step
Epoch 73/125
72/72 - 9s - loss: 0.1541 - accuracy: 0.9754 - val_loss: 0.1254 - val_accuracy: 0.9808 - lr: 0.0010 - 9s/epoch - 129ms/step
Epoch 74/125
72/72 - 9s - loss: 0.1064 - accuracy: 0.9780 - val_loss: 0.0998 - val_accuracy: 0.9818 - lr: 0.0010 - 9s/epoch - 129ms/step
Epoch 75/125
72/72 - 9s - loss: 0.1424 - accuracy: 0.9823 - val_loss: 0.1654 - val_accuracy: 0.9868 - lr: 0.0010 - 9s/epoch - 128ms/step
Epoch 76/125
72/72 - 9s - loss: 0.1850 - accuracy: 0.9713 - val_loss: 0.1980 - val_accuracy: 0.9707 - lr: 0.0010 - 9s/epoch - 128ms/step
Epoch 77/125
72/72 - 9s - loss: 0.3215 - accuracy: 0.9191 - val_loss: 0.6529 - val_accuracy: 0.9075 - lr: 0.0010 - 9s/epoch - 129ms/step
Epoch 78/125
72/72 - 9s - loss: 0.3325 - accuracy: 0.9132 - val_loss: 0.2873 - val_accuracy: 0.9442 - lr: 0.0010 - 9s/epoch - 127ms/step
Epoch 79/125
72/72 - 9s - loss: 0.1862 - accuracy: 0.9553 - val_loss: 0.2118 - val_accuracy: 0.9780 - lr: 0.0010 - 9s/epoch - 128ms/step
Epoch 80/125
72/72 - 9s - loss: 0.1300 - accuracy: 0.9713 - val_loss: 0.1687 - val_accuracy: 0.9787 - lr: 0.0010 - 9s/epoch - 129ms/step
Epoch 81/125
72/72 - 9s - loss: 0.1347 - accuracy: 0.9750 - val_loss: 0.1868 - val_accuracy: 0.9830 - lr: 0.0010 - 9s/epoch - 128ms/step
Epoch 82/125
72/72 - 9s - loss: 0.1750 - accuracy: 0.9653 - val_loss: 0.2273 - val_accuracy: 0.9800 - lr: 0.0010 - 9s/epoch - 127ms/step
Epoch 83/125
72/72 - 9s - loss: 0.1196 - accuracy: 0.9742 - val_loss: 0.1740 - val_accuracy: 0.9805 - lr: 0.0010 - 9s/epoch - 128ms/step
Epoch 84/125
72/72 - 9s - loss: 0.1967 - accuracy: 0.9583 - val_loss: 0.2626 - val_accuracy: 0.9675 - lr: 0.0010 - 9s/epoch - 129ms/step
Epoch 85/125
72/72 - 9s - loss: 0.1801 - accuracy: 0.9634 - val_loss: 0.1909 - val_accuracy: 0.9783 - lr: 0.0010 - 9s/epoch - 128ms/step
Epoch 86/125
72/72 - 9s - loss: 0.1224 - accuracy: 0.9759 - val_loss: 0.1629 - val_accuracy: 0.9855 - lr: 0.0010 - 9s/epoch - 129ms/step
Epoch 87/125
72/72 - 9s - loss: 0.1000 - accuracy: 0.9796 - val_loss: 0.1870 - val_accuracy: 0.9768 - lr: 0.0010 - 9s/epoch - 128ms/step
Epoch 88/125
72/72 - 9s - loss: 0.1856 - accuracy: 0.9717 - val_loss: 0.2406 - val_accuracy: 0.9787 - lr: 0.0010 - 9s/epoch - 129ms/step
Epoch 89/125
72/72 - 9s - loss: 0.1948 - accuracy: 0.9684 - val_loss: 0.2301 - val_accuracy: 0.9622 - lr: 0.0010 - 9s/epoch - 129ms/step
Epoch 90/125
72/72 - 9s - loss: 0.2730 - accuracy: 0.9383 - val_loss: 0.2684 - val_accuracy: 0.9740 - lr: 0.0010 - 9s/epoch - 128ms/step
Epoch 91/125
72/72 - 9s - loss: 0.1575 - accuracy: 0.9672 - val_loss: 0.1483 - val_accuracy: 0.9760 - lr: 0.0010 - 9s/epoch - 128ms/step
Epoch 92/125
72/72 - 9s - loss: 0.1251 - accuracy: 0.9727 - val_loss: 0.1439 - val_accuracy: 0.9850 - lr: 0.0010 - 9s/epoch - 129ms/step
Epoch 93/125
72/72 - 9s - loss: 0.2001 - accuracy: 0.9639 - val_loss: 0.2764 - val_accuracy: 0.9793 - lr: 0.0010 - 9s/epoch - 128ms/step
Epoch 94/125
72/72 - 9s - loss: 0.1418 - accuracy: 0.9758 - val_loss: 0.1215 - val_accuracy: 0.9858 - lr: 0.0010 - 9s/epoch - 128ms/step
Epoch 95/125
72/72 - 9s - loss: 0.1146 - accuracy: 0.9777 - val_loss: 0.2152 - val_accuracy: 0.9797 - lr: 0.0010 - 9s/epoch - 127ms/step
Epoch 96/125
72/72 - 9s - loss: 0.1068 - accuracy: 0.9805 - val_loss: 0.1227 - val_accuracy: 0.9852 - lr: 0.0010 - 9s/epoch - 128ms/step
Epoch 97/125
72/72 - 9s - loss: 0.2062 - accuracy: 0.9785 - val_loss: 0.1494 - val_accuracy: 0.9800 - lr: 0.0010 - 9s/epoch - 128ms/step
Epoch 98/125
72/72 - 9s - loss: 0.1313 - accuracy: 0.9729 - val_loss: 0.3044 - val_accuracy: 0.9822 - lr: 0.0010 - 9s/epoch - 129ms/step
Epoch 99/125
72/72 - 9s - loss: 0.1301 - accuracy: 0.9716 - val_loss: 0.2643 - val_accuracy: 0.9808 - lr: 0.0010 - 9s/epoch - 128ms/step
Epoch 100/125
72/72 - 9s - loss: 0.1240 - accuracy: 0.9735 - val_loss: 0.2559 - val_accuracy: 0.9825 - lr: 0.0010 - 9s/epoch - 128ms/step
Epoch 101/125
72/72 - 9s - loss: 0.1041 - accuracy: 0.9785 - val_loss: 0.2617 - val_accuracy: 0.9847 - lr: 0.0010 - 9s/epoch - 129ms/step
Epoch 102/125
72/72 - 9s - loss: 0.0949 - accuracy: 0.9806 - val_loss: 0.2811 - val_accuracy: 0.9855 - lr: 0.0010 - 9s/epoch - 129ms/step
Epoch 103/125
72/72 - 9s - loss: 0.0854 - accuracy: 0.9829 - val_loss: 0.2597 - val_accuracy: 0.9895 - lr: 0.0010 - 9s/epoch - 129ms/step
Epoch 104/125
72/72 - 9s - loss: 0.0826 - accuracy: 0.9842 - val_loss: 0.1778 - val_accuracy: 0.9893 - lr: 0.0010 - 9s/epoch - 129ms/step
Epoch 105/125
72/72 - 9s - loss: 0.0758 - accuracy: 0.9852 - val_loss: 12.4991 - val_accuracy: 0.8230 - lr: 0.0010 - 9s/epoch - 127ms/step
Epoch 106/125
72/72 - 9s - loss: 0.3528 - accuracy: 0.9560 - val_loss: 0.2437 - val_accuracy: 0.9655 - lr: 0.0010 - 9s/epoch - 129ms/step
Epoch 107/125
72/72 - 9s - loss: 0.1384 - accuracy: 0.9693 - val_loss: 0.3232 - val_accuracy: 0.9588 - lr: 0.0010 - 9s/epoch - 129ms/step
Epoch 108/125
72/72 - 9s - loss: 0.1613 - accuracy: 0.9555 - val_loss: 0.1700 - val_accuracy: 0.9845 - lr: 0.0010 - 9s/epoch - 128ms/step
Epoch 109/125
72/72 - 9s - loss: 0.2450 - accuracy: 0.9781 - val_loss: 0.1833 - val_accuracy: 0.9797 - lr: 0.0010 - 9s/epoch - 129ms/step
Epoch 110/125
72/72 - 9s - loss: 0.1238 - accuracy: 0.9746 - val_loss: 0.4151 - val_accuracy: 0.9803 - lr: 0.0010 - 9s/epoch - 128ms/step
Epoch 111/125
72/72 - 9s - loss: 0.1280 - accuracy: 0.9761 - val_loss: 0.2259 - val_accuracy: 0.9797 - lr: 0.0010 - 9s/epoch - 129ms/step
Epoch 112/125
72/72 - 9s - loss: 0.1431 - accuracy: 0.9722 - val_loss: 0.1567 - val_accuracy: 0.9818 - lr: 0.0010 - 9s/epoch - 128ms/step
Epoch 113/125
72/72 - 9s - loss: 0.1554 - accuracy: 0.9735 - val_loss: 0.0990 - val_accuracy: 0.9872 - lr: 0.0010 - 9s/epoch - 130ms/step
Epoch 114/125
72/72 - 9s - loss: 0.3000 - accuracy: 0.9611 - val_loss: 0.1447 - val_accuracy: 0.9808 - lr: 0.0010 - 9s/epoch - 128ms/step
Epoch 115/125
72/72 - 9s - loss: 0.1579 - accuracy: 0.9637 - val_loss: 0.1771 - val_accuracy: 0.9728 - lr: 0.0010 - 9s/epoch - 129ms/step
Epoch 116/125
72/72 - 9s - loss: 0.3253 - accuracy: 0.9214 - val_loss: 0.3126 - val_accuracy: 0.9215 - lr: 0.0010 - 9s/epoch - 129ms/step
Epoch 117/125
72/72 - 9s - loss: 0.1962 - accuracy: 0.9499 - val_loss: 0.2118 - val_accuracy: 0.9707 - lr: 0.0010 - 9s/epoch - 127ms/step
Epoch 118/125
72/72 - 9s - loss: 0.1859 - accuracy: 0.9713 - val_loss: 0.2949 - val_accuracy: 0.9843 - lr: 0.0010 - 9s/epoch - 128ms/step
Epoch 119/125
72/72 - 9s - loss: 0.1040 - accuracy: 0.9804 - val_loss: 0.1907 - val_accuracy: 0.9860 - lr: 0.0010 - 9s/epoch - 129ms/step
Epoch 120/125
72/72 - 9s - loss: 0.0997 - accuracy: 0.9794 - val_loss: 0.1929 - val_accuracy: 0.9765 - lr: 0.0010 - 9s/epoch - 128ms/step
Epoch 121/125
72/72 - 9s - loss: 0.1039 - accuracy: 0.9785 - val_loss: 0.2716 - val_accuracy: 0.9790 - lr: 0.0010 - 9s/epoch - 129ms/step
Epoch 122/125
72/72 - 9s - loss: 0.1341 - accuracy: 0.9752 - val_loss: 0.1935 - val_accuracy: 0.9675 - lr: 0.0010 - 9s/epoch - 129ms/step
Epoch 123/125
72/72 - 9s - loss: 0.3273 - accuracy: 0.9136 - val_loss: 0.5217 - val_accuracy: 0.9333 - lr: 0.0010 - 9s/epoch - 129ms/step
Epoch 124/125
72/72 - 9s - loss: 0.3054 - accuracy: 0.9287 - val_loss: 0.2980 - val_accuracy: 0.9628 - lr: 0.0010 - 9s/epoch - 128ms/step
Epoch 125/125
72/72 - 9s - loss: 0.2798 - accuracy: 0.9431 - val_loss: 0.5066 - val_accuracy: 0.9523 - lr: 0.0010 - 9s/epoch - 129ms/step
Epoch: 625
fitting with batch size: 50
Epoch 1/625
1922/1922 - 34s - loss: 0.4826 - accuracy: 0.9020 - val_loss: 0.4330 - val_accuracy: 0.8635 - lr: 0.0010 - 34s/epoch - 18ms/step
Epoch 2/625
1922/1922 - 32s - loss: 0.6536 - accuracy: 0.8832 - val_loss: 0.2779 - val_accuracy: 0.9600 - lr: 0.0010 - 32s/epoch - 17ms/step
Epoch 3/625
1922/1922 - 32s - loss: 0.4987 - accuracy: 0.8802 - val_loss: 0.3190 - val_accuracy: 0.9215 - lr: 0.0010 - 32s/epoch - 17ms/step
Epoch 4/625
1922/1922 - 32s - loss: 0.6886 - accuracy: 0.8741 - val_loss: 0.6378 - val_accuracy: 0.6990 - lr: 0.0010 - 32s/epoch - 17ms/step
Epoch 5/625
1922/1922 - 32s - loss: 0.4349 - accuracy: 0.8874 - val_loss: 0.5300 - val_accuracy: 0.9510 - lr: 0.0010 - 32s/epoch - 17ms/step
Epoch 6/625
1922/1922 - 32s - loss: 0.4481 - accuracy: 0.8825 - val_loss: 0.4414 - val_accuracy: 0.7930 - lr: 0.0010 - 32s/epoch - 17ms/step
Epoch 7/625
1922/1922 - 32s - loss: 0.4497 - accuracy: 0.7938 - val_loss: 0.2515 - val_accuracy: 0.9480 - lr: 0.0010 - 32s/epoch - 17ms/step
Epoch 8/625
1922/1922 - 32s - loss: 0.5585 - accuracy: 0.8219 - val_loss: 0.3132 - val_accuracy: 0.9603 - lr: 0.0010 - 32s/epoch - 17ms/step
Epoch 9/625
1922/1922 - 32s - loss: 0.4632 - accuracy: 0.8962 - val_loss: 0.1744 - val_accuracy: 0.9808 - lr: 0.0010 - 32s/epoch - 17ms/step
Epoch 10/625
1922/1922 - 32s - loss: 0.4216 - accuracy: 0.8721 - val_loss: 0.1882 - val_accuracy: 0.9505 - lr: 0.0010 - 32s/epoch - 17ms/step
Epoch 11/625
1922/1922 - 32s - loss: 0.4545 - accuracy: 0.8859 - val_loss: 0.1616 - val_accuracy: 0.9657 - lr: 0.0010 - 32s/epoch - 17ms/step
Epoch 12/625
1922/1922 - 32s - loss: 0.5058 - accuracy: 0.8282 - val_loss: 0.4598 - val_accuracy: 0.7853 - lr: 0.0010 - 32s/epoch - 17ms/step
Epoch 13/625
1922/1922 - 32s - loss: 0.4437 - accuracy: 0.8534 - val_loss: 0.3519 - val_accuracy: 0.9273 - lr: 0.0010 - 32s/epoch - 17ms/step
Epoch 14/625
1922/1922 - 32s - loss: 0.5180 - accuracy: 0.8525 - val_loss: 0.5021 - val_accuracy: 0.7928 - lr: 0.0010 - 32s/epoch - 17ms/step
Epoch 15/625
1922/1922 - 32s - loss: 0.3779 - accuracy: 0.8841 - val_loss: 0.2380 - val_accuracy: 0.9778 - lr: 0.0010 - 32s/epoch - 17ms/step
Epoch 16/625
1922/1922 - 32s - loss: 0.6718 - accuracy: 0.7897 - val_loss: 0.7996 - val_accuracy: 0.8465 - lr: 0.0010 - 32s/epoch - 17ms/step
Epoch 17/625
1922/1922 - 32s - loss: 0.7708 - accuracy: 0.8502 - val_loss: 0.2743 - val_accuracy: 0.9362 - lr: 0.0010 - 32s/epoch - 17ms/step
Epoch 18/625
1922/1922 - 32s - loss: 0.5912 - accuracy: 0.8574 - val_loss: 0.3148 - val_accuracy: 0.9308 - lr: 0.0010 - 32s/epoch - 17ms/step
Epoch 19/625
1922/1922 - 32s - loss: 0.4322 - accuracy: 0.8768 - val_loss: 0.8998 - val_accuracy: 0.8673 - lr: 0.0010 - 32s/epoch - 17ms/step
Epoch 20/625
1922/1922 - 32s - loss: 0.5061 - accuracy: 0.8420 - val_loss: 0.3445 - val_accuracy: 0.8677 - lr: 0.0010 - 32s/epoch - 17ms/step
Epoch 21/625
1922/1922 - 32s - loss: 0.5723 - accuracy: 0.8612 - val_loss: 0.2726 - val_accuracy: 0.9385 - lr: 0.0010 - 32s/epoch - 17ms/step
Epoch 22/625
1922/1922 - 32s - loss: 0.3278 - accuracy: 0.9084 - val_loss: 0.3279 - val_accuracy: 0.9262 - lr: 0.0010 - 32s/epoch - 17ms/step
Epoch 23/625
1922/1922 - 32s - loss: 0.4781 - accuracy: 0.8954 - val_loss: 0.3433 - val_accuracy: 0.8805 - lr: 0.0010 - 32s/epoch - 17ms/step
Epoch 24/625
1922/1922 - 32s - loss: 0.3817 - accuracy: 0.9003 - val_loss: 0.3228 - val_accuracy: 0.8988 - lr: 0.0010 - 32s/epoch - 17ms/step
Epoch 25/625
1922/1922 - 32s - loss: 0.4854 - accuracy: 0.8361 - val_loss: 0.4932 - val_accuracy: 0.7650 - lr: 0.0010 - 32s/epoch - 17ms/step
Epoch 26/625
1922/1922 - 32s - loss: 0.5973 - accuracy: 0.8536 - val_loss: 1.0472 - val_accuracy: 0.6850 - lr: 0.0010 - 32s/epoch - 17ms/step
Epoch 27/625
1922/1922 - 32s - loss: 0.9367 - accuracy: 0.6070 - val_loss: 0.5453 - val_accuracy: 0.7508 - lr: 0.0010 - 32s/epoch - 17ms/step
Epoch 28/625
1922/1922 - 32s - loss: 0.8265 - accuracy: 0.6864 - val_loss: 0.5029 - val_accuracy: 0.8108 - lr: 0.0010 - 32s/epoch - 17ms/step
Epoch 29/625
1922/1922 - 32s - loss: 0.7029 - accuracy: 0.7462 - val_loss: 0.5770 - val_accuracy: 0.7452 - lr: 0.0010 - 32s/epoch - 17ms/step
Epoch 30/625
1922/1922 - 32s - loss: 1.2247 - accuracy: 0.6584 - val_loss: 0.9252 - val_accuracy: 0.6520 - lr: 0.0010 - 32s/epoch - 17ms/step
Epoch 31/625
1922/1922 - 32s - loss: 1.9948 - accuracy: 0.6210 - val_loss: 0.8559 - val_accuracy: 0.6227 - lr: 0.0010 - 32s/epoch - 17ms/step
Epoch 32/625
1922/1922 - 32s - loss: 1.4585 - accuracy: 0.6171 - val_loss: 0.5451 - val_accuracy: 0.7508 - lr: 0.0010 - 32s/epoch - 17ms/step
Epoch 33/625
1922/1922 - 32s - loss: 0.8140 - accuracy: 0.6867 - val_loss: 0.9057 - val_accuracy: 0.5780 - lr: 0.0010 - 32s/epoch - 17ms/step
Epoch 34/625
1922/1922 - 32s - loss: 1.4025 - accuracy: 0.6019 - val_loss: 1.4671 - val_accuracy: 0.7308 - lr: 0.0010 - 32s/epoch - 17ms/step
Epoch 35/625
1922/1922 - 32s - loss: 11.9883 - accuracy: 0.6312 - val_loss: 0.8611 - val_accuracy: 0.7320 - lr: 0.0010 - 32s/epoch - 17ms/step
Epoch 36/625
1922/1922 - 32s - loss: 1.0911 - accuracy: 0.5413 - val_loss: 0.9677 - val_accuracy: 0.5562 - lr: 0.0010 - 32s/epoch - 17ms/step
Epoch 37/625
1922/1922 - 32s - loss: 1.0822 - accuracy: 0.5003 - val_loss: 1.0344 - val_accuracy: 0.5412 - lr: 0.0010 - 32s/epoch - 17ms/step
Epoch 38/625
1922/1922 - 32s - loss: 1.0869 - accuracy: 0.4900 - val_loss: 0.9520 - val_accuracy: 0.5347 - lr: 0.0010 - 32s/epoch - 17ms/step
Epoch 39/625
1922/1922 - 32s - loss: 1.3896 - accuracy: 0.5215 - val_loss: 1.3775 - val_accuracy: 0.4448 - lr: 0.0010 - 32s/epoch - 17ms/step
Epoch 40/625
1922/1922 - 32s - loss: 1.9910 - accuracy: 0.4961 - val_loss: 0.9635 - val_accuracy: 0.5550 - lr: 0.0010 - 32s/epoch - 17ms/step
Epoch 41/625
1922/1922 - 32s - loss: 1.1809 - accuracy: 0.5055 - val_loss: 1.0466 - val_accuracy: 0.5105 - lr: 0.0010 - 32s/epoch - 17ms/step
Epoch 42/625
1922/1922 - 32s - loss: 0.8431 - accuracy: 0.6648 - val_loss: 0.5001 - val_accuracy: 0.8002 - lr: 0.0010 - 32s/epoch - 17ms/step
Epoch 43/625
1922/1922 - 32s - loss: 0.8456 - accuracy: 0.7286 - val_loss: 0.4751 - val_accuracy: 0.8702 - lr: 0.0010 - 32s/epoch - 17ms/step
Epoch 44/625
1922/1922 - 32s - loss: 0.6163 - accuracy: 0.7703 - val_loss: 0.8251 - val_accuracy: 0.7240 - lr: 0.0010 - 32s/epoch - 16ms/step
Epoch 45/625
1922/1922 - 32s - loss: 1.0166 - accuracy: 0.5942 - val_loss: 0.5277 - val_accuracy: 0.7995 - lr: 0.0010 - 32s/epoch - 17ms/step
Epoch 46/625
1922/1922 - 32s - loss: 1.4326 - accuracy: 0.7311 - val_loss: 0.4220 - val_accuracy: 0.8752 - lr: 0.0010 - 32s/epoch - 17ms/step
Epoch 47/625
1922/1922 - 32s - loss: 0.8393 - accuracy: 0.6534 - val_loss: 0.9463 - val_accuracy: 0.5698 - lr: 0.0010 - 32s/epoch - 17ms/step
Epoch 48/625
1922/1922 - 32s - loss: 1.1574 - accuracy: 0.4499 - val_loss: 1.3788 - val_accuracy: 0.3215 - lr: 0.0010 - 32s/epoch - 17ms/step
Epoch 49/625
1922/1922 - 32s - loss: 1.3138 - accuracy: 0.3449 - val_loss: 1.1574 - val_accuracy: 0.3945 - lr: 0.0010 - 32s/epoch - 17ms/step
Epoch 50/625
1922/1922 - 32s - loss: 1.5092 - accuracy: 0.4492 - val_loss: 1.3111 - val_accuracy: 0.3680 - lr: 0.0010 - 32s/epoch - 17ms/step
Epoch 51/625
1922/1922 - 32s - loss: 1.5380 - accuracy: 0.2576 - val_loss: 1.5438 - val_accuracy: 0.2428 - lr: 0.0010 - 32s/epoch - 17ms/step
Epoch 52/625
1922/1922 - 30s - loss: 1.5550 - accuracy: 0.2320 - val_loss: 1.5397 - val_accuracy: 0.2425 - lr: 0.0010 - 30s/epoch - 15ms/step
Epoch 53/625
1922/1922 - 30s - loss: 1.7599 - accuracy: 0.2732 - val_loss: 1.1274 - val_accuracy: 0.4498 - lr: 0.0010 - 30s/epoch - 16ms/step
Epoch 54/625
1922/1922 - 30s - loss: 1.2637 - accuracy: 0.3927 - val_loss: 1.3649 - val_accuracy: 0.3857 - lr: 0.0010 - 30s/epoch - 16ms/step
Epoch 55/625
1922/1922 - 30s - loss: 1.3682 - accuracy: 0.3617 - val_loss: 1.2074 - val_accuracy: 0.3815 - lr: 0.0010 - 30s/epoch - 16ms/step
Epoch 56/625
1922/1922 - 30s - loss: 1.3641 - accuracy: 0.3365 - val_loss: 1.4619 - val_accuracy: 0.3282 - lr: 0.0010 - 30s/epoch - 16ms/step
Epoch 57/625
1922/1922 - 30s - loss: 1.2960 - accuracy: 0.3591 - val_loss: 1.2067 - val_accuracy: 0.3842 - lr: 0.0010 - 30s/epoch - 16ms/step
Epoch 58/625
1922/1922 - 30s - loss: 1.4115 - accuracy: 0.3088 - val_loss: 1.6429 - val_accuracy: 0.2202 - lr: 0.0010 - 30s/epoch - 16ms/step
Epoch 59/625
1922/1922 - 30s - loss: 1.6195 - accuracy: 0.2009 - val_loss: 1.6129 - val_accuracy: 0.2000 - lr: 0.0010 - 30s/epoch - 16ms/step
Epoch 60/625
1922/1922 - 30s - loss: 1.6189 - accuracy: 0.1990 - val_loss: 1.6328 - val_accuracy: 0.2000 - lr: 0.0010 - 30s/epoch - 16ms/step
Epoch 61/625
1922/1922 - 30s - loss: 1.6176 - accuracy: 0.1996 - val_loss: 1.6152 - val_accuracy: 0.2000 - lr: 0.0010 - 30s/epoch - 15ms/step
Epoch 62/625
1922/1922 - 30s - loss: 1.6180 - accuracy: 0.1983 - val_loss: 1.6161 - val_accuracy: 0.2000 - lr: 0.0010 - 30s/epoch - 16ms/step
Epoch 63/625
1922/1922 - 30s - loss: 1.6168 - accuracy: 0.1998 - val_loss: 1.6126 - val_accuracy: 0.2000 - lr: 0.0010 - 30s/epoch - 16ms/step
Epoch 64/625
1922/1922 - 30s - loss: 1.6165 - accuracy: 0.2001 - val_loss: 1.6164 - val_accuracy: 0.2000 - lr: 0.0010 - 30s/epoch - 16ms/step
Epoch 65/625
1922/1922 - 30s - loss: 1.6156 - accuracy: 0.1982 - val_loss: 1.6145 - val_accuracy: 0.2000 - lr: 0.0010 - 30s/epoch - 16ms/step
Epoch 66/625
1922/1922 - 30s - loss: 1.6159 - accuracy: 0.1990 - val_loss: 1.6170 - val_accuracy: 0.2000 - lr: 0.0010 - 30s/epoch - 16ms/step
Epoch 67/625
1922/1922 - 30s - loss: 1.6148 - accuracy: 0.2021 - val_loss: 1.6185 - val_accuracy: 0.2000 - lr: 0.0010 - 30s/epoch - 16ms/step
Epoch 68/625
1922/1922 - 30s - loss: 1.6146 - accuracy: 0.1982 - val_loss: 1.6111 - val_accuracy: 0.2000 - lr: 0.0010 - 30s/epoch - 16ms/step
Epoch 69/625
1922/1922 - 30s - loss: 1.6141 - accuracy: 0.2003 - val_loss: 1.6218 - val_accuracy: 0.2000 - lr: 0.0010 - 30s/epoch - 16ms/step
Epoch 70/625
1922/1922 - 30s - loss: 1.6142 - accuracy: 0.1988 - val_loss: 1.6148 - val_accuracy: 0.2000 - lr: 0.0010 - 30s/epoch - 16ms/step
Epoch 71/625
1922/1922 - 30s - loss: 1.6134 - accuracy: 0.2006 - val_loss: 1.6171 - val_accuracy: 0.2000 - lr: 0.0010 - 30s/epoch - 15ms/step
Epoch 72/625
1922/1922 - 30s - loss: 1.6132 - accuracy: 0.2024 - val_loss: 1.6131 - val_accuracy: 0.2000 - lr: 0.0010 - 30s/epoch - 16ms/step
Epoch 73/625
1922/1922 - 30s - loss: 1.6131 - accuracy: 0.2026 - val_loss: 1.6138 - val_accuracy: 0.2000 - lr: 0.0010 - 30s/epoch - 16ms/step
Epoch 74/625
1922/1922 - 30s - loss: 1.6130 - accuracy: 0.2014 - val_loss: 1.6132 - val_accuracy: 0.2000 - lr: 0.0010 - 30s/epoch - 16ms/step
Epoch 75/625
1922/1922 - 30s - loss: 1.6130 - accuracy: 0.1975 - val_loss: 1.6103 - val_accuracy: 0.2000 - lr: 0.0010 - 30s/epoch - 16ms/step
Epoch 76/625
1922/1922 - 30s - loss: 1.6127 - accuracy: 0.1982 - val_loss: 1.6137 - val_accuracy: 0.2000 - lr: 0.0010 - 30s/epoch - 16ms/step
Epoch 77/625
1922/1922 - 30s - loss: 1.6125 - accuracy: 0.1994 - val_loss: 1.6164 - val_accuracy: 0.2000 - lr: 0.0010 - 30s/epoch - 16ms/step
Epoch 78/625
1922/1922 - 30s - loss: 1.6123 - accuracy: 0.2003 - val_loss: 1.6101 - val_accuracy: 0.2000 - lr: 0.0010 - 30s/epoch - 16ms/step
Epoch 79/625
1922/1922 - 30s - loss: 1.6119 - accuracy: 0.1995 - val_loss: 1.6167 - val_accuracy: 0.2000 - lr: 0.0010 - 30s/epoch - 16ms/step
Epoch 80/625
1922/1922 - 30s - loss: 1.6120 - accuracy: 0.2019 - val_loss: 1.6148 - val_accuracy: 0.2000 - lr: 0.0010 - 30s/epoch - 16ms/step
Epoch 81/625
1922/1922 - 30s - loss: 1.6120 - accuracy: 0.1984 - val_loss: 1.6097 - val_accuracy: 0.2000 - lr: 0.0010 - 30s/epoch - 16ms/step
Epoch 82/625
1922/1922 - 30s - loss: 1.6118 - accuracy: 0.2002 - val_loss: 1.6107 - val_accuracy: 0.2000 - lr: 0.0010 - 30s/epoch - 16ms/step
Epoch 83/625
1922/1922 - 30s - loss: 1.6117 - accuracy: 0.2004 - val_loss: 1.6106 - val_accuracy: 0.2000 - lr: 0.0010 - 30s/epoch - 16ms/step
Epoch 84/625
1922/1922 - 30s - loss: 1.6116 - accuracy: 0.1978 - val_loss: 1.6099 - val_accuracy: 0.2000 - lr: 0.0010 - 30s/epoch - 16ms/step
Epoch 85/625
1922/1922 - 30s - loss: 1.6115 - accuracy: 0.1996 - val_loss: 1.6098 - val_accuracy: 0.2000 - lr: 0.0010 - 30s/epoch - 16ms/step
Epoch 86/625
1922/1922 - 30s - loss: 1.6114 - accuracy: 0.2020 - val_loss: 1.6097 - val_accuracy: 0.2000 - lr: 0.0010 - 30s/epoch - 16ms/step
Epoch 87/625
1922/1922 - 30s - loss: 1.6113 - accuracy: 0.1994 - val_loss: 1.6108 - val_accuracy: 0.2000 - lr: 0.0010 - 30s/epoch - 16ms/step
Epoch 88/625
1922/1922 - 30s - loss: 1.6114 - accuracy: 0.1975 - val_loss: 1.6097 - val_accuracy: 0.2000 - lr: 0.0010 - 30s/epoch - 16ms/step
Epoch 89/625
1922/1922 - 30s - loss: 1.6111 - accuracy: 0.2009 - val_loss: 1.6101 - val_accuracy: 0.2000 - lr: 0.0010 - 30s/epoch - 16ms/step
Epoch 90/625
1922/1922 - 30s - loss: 1.6113 - accuracy: 0.2001 - val_loss: 1.6102 - val_accuracy: 0.2000 - lr: 0.0010 - 30s/epoch - 16ms/step
Epoch 91/625
1922/1922 - 30s - loss: 1.6113 - accuracy: 0.1993 - val_loss: 1.6102 - val_accuracy: 0.2000 - lr: 0.0010 - 30s/epoch - 16ms/step
Epoch 92/625
1922/1922 - 30s - loss: 1.6113 - accuracy: 0.1999 - val_loss: 1.6102 - val_accuracy: 0.2000 - lr: 0.0010 - 30s/epoch - 15ms/step
Epoch 93/625
1922/1922 - 30s - loss: 1.6111 - accuracy: 0.2016 - val_loss: 1.6117 - val_accuracy: 0.2000 - lr: 0.0010 - 30s/epoch - 16ms/step
Epoch 94/625
1922/1922 - 30s - loss: 1.6112 - accuracy: 0.1991 - val_loss: 1.6101 - val_accuracy: 0.2000 - lr: 0.0010 - 30s/epoch - 16ms/step
Epoch 95/625
1922/1922 - 30s - loss: 1.6109 - accuracy: 0.2000 - val_loss: 1.6118 - val_accuracy: 0.2000 - lr: 0.0010 - 30s/epoch - 16ms/step
Epoch 96/625
1922/1922 - 30s - loss: 1.6111 - accuracy: 0.1973 - val_loss: 1.6104 - val_accuracy: 0.2000 - lr: 0.0010 - 30s/epoch - 16ms/step
Epoch 97/625
1922/1922 - 30s - loss: 1.6109 - accuracy: 0.2023 - val_loss: 1.6099 - val_accuracy: 0.2000 - lr: 0.0010 - 30s/epoch - 16ms/step
Epoch 98/625
1922/1922 - 30s - loss: 1.6110 - accuracy: 0.1986 - val_loss: 1.6101 - val_accuracy: 0.2000 - lr: 0.0010 - 30s/epoch - 16ms/step
Epoch 99/625
1922/1922 - 30s - loss: 1.6110 - accuracy: 0.2008 - val_loss: 1.6097 - val_accuracy: 0.2000 - lr: 0.0010 - 30s/epoch - 16ms/step
Epoch 100/625
1922/1922 - 30s - loss: 1.6107 - accuracy: 0.1992 - val_loss: 1.6106 - val_accuracy: 0.2000 - lr: 0.0010 - 30s/epoch - 15ms/step
Epoch 101/625
1922/1922 - 30s - loss: 1.6109 - accuracy: 0.1982 - val_loss: 1.6097 - val_accuracy: 0.2000 - lr: 0.0010 - 30s/epoch - 16ms/step
Epoch 102/625
1922/1922 - 30s - loss: 1.6108 - accuracy: 0.1998 - val_loss: 1.6109 - val_accuracy: 0.2000 - lr: 0.0010 - 30s/epoch - 16ms/step
Epoch 103/625
1922/1922 - 30s - loss: 1.6107 - accuracy: 0.2013 - val_loss: 1.6097 - val_accuracy: 0.2000 - lr: 0.0010 - 30s/epoch - 16ms/step
Epoch 104/625
1922/1922 - 30s - loss: 1.6107 - accuracy: 0.1998 - val_loss: 1.6107 - val_accuracy: 0.2000 - lr: 0.0010 - 30s/epoch - 15ms/step
Epoch 105/625
1922/1922 - 30s - loss: 1.6106 - accuracy: 0.2005 - val_loss: 1.6102 - val_accuracy: 0.2000 - lr: 0.0010 - 30s/epoch - 16ms/step
Epoch 106/625
1922/1922 - 30s - loss: 1.6105 - accuracy: 0.2006 - val_loss: 1.6103 - val_accuracy: 0.2000 - lr: 0.0010 - 30s/epoch - 15ms/step
Epoch 107/625
1922/1922 - 30s - loss: 1.6108 - accuracy: 0.1991 - val_loss: 1.6097 - val_accuracy: 0.2000 - lr: 0.0010 - 30s/epoch - 16ms/step
Epoch 108/625
1922/1922 - 30s - loss: 1.6107 - accuracy: 0.1999 - val_loss: 1.6097 - val_accuracy: 0.2000 - lr: 0.0010 - 30s/epoch - 16ms/step
Epoch 109/625
1922/1922 - 30s - loss: 1.6108 - accuracy: 0.1978 - val_loss: 1.6097 - val_accuracy: 0.2000 - lr: 0.0010 - 30s/epoch - 16ms/step
Epoch 110/625
1922/1922 - 30s - loss: 1.6106 - accuracy: 0.1971 - val_loss: 1.6098 - val_accuracy: 0.2000 - lr: 0.0010 - 30s/epoch - 16ms/step
Epoch 111/625
1922/1922 - 30s - loss: 1.6107 - accuracy: 0.1985 - val_loss: 1.6101 - val_accuracy: 0.2000 - lr: 0.0010 - 30s/epoch - 16ms/step
Epoch 112/625
1922/1922 - 30s - loss: 1.6108 - accuracy: 0.1992 - val_loss: 1.6101 - val_accuracy: 0.2000 - lr: 0.0010 - 30s/epoch - 16ms/step
Epoch 113/625
1922/1922 - 30s - loss: 1.6107 - accuracy: 0.2009 - val_loss: 1.6103 - val_accuracy: 0.2000 - lr: 0.0010 - 30s/epoch - 16ms/step
Epoch 114/625
1922/1922 - 30s - loss: 1.6106 - accuracy: 0.1996 - val_loss: 1.6104 - val_accuracy: 0.2000 - lr: 0.0010 - 30s/epoch - 16ms/step
Epoch 115/625
1922/1922 - 30s - loss: 1.6106 - accuracy: 0.1997 - val_loss: 1.6099 - val_accuracy: 0.2000 - lr: 0.0010 - 30s/epoch - 16ms/step
Epoch 116/625
1922/1922 - 30s - loss: 1.6109 - accuracy: 0.1986 - val_loss: 1.6100 - val_accuracy: 0.2000 - lr: 0.0010 - 30s/epoch - 16ms/step
Epoch 117/625
1922/1922 - 30s - loss: 1.6105 - accuracy: 0.1999 - val_loss: 1.6100 - val_accuracy: 0.2000 - lr: 0.0010 - 30s/epoch - 16ms/step
Epoch 118/625
1922/1922 - 30s - loss: 1.6106 - accuracy: 0.1992 - val_loss: 1.6095 - val_accuracy: 0.2000 - lr: 0.0010 - 30s/epoch - 16ms/step
Epoch 119/625
1922/1922 - 30s - loss: 1.6107 - accuracy: 0.2002 - val_loss: 1.6099 - val_accuracy: 0.2000 - lr: 0.0010 - 30s/epoch - 16ms/step
Epoch 120/625
1922/1922 - 30s - loss: 1.6108 - accuracy: 0.1981 - val_loss: 1.6099 - val_accuracy: 0.2000 - lr: 0.0010 - 30s/epoch - 16ms/step
Epoch 121/625
1922/1922 - 30s - loss: 1.6108 - accuracy: 0.1974 - val_loss: 1.6098 - val_accuracy: 0.2000 - lr: 0.0010 - 30s/epoch - 16ms/step
Epoch 122/625
1922/1922 - 30s - loss: 1.6106 - accuracy: 0.1989 - val_loss: 1.6103 - val_accuracy: 0.2000 - lr: 0.0010 - 30s/epoch - 15ms/step
Epoch 123/625
1922/1922 - 30s - loss: 1.6106 - accuracy: 0.2002 - val_loss: 1.6097 - val_accuracy: 0.2000 - lr: 0.0010 - 30s/epoch - 16ms/step
Epoch 124/625
1922/1922 - 30s - loss: 1.6106 - accuracy: 0.1993 - val_loss: 1.6097 - val_accuracy: 0.2000 - lr: 0.0010 - 30s/epoch - 16ms/step
Epoch 125/625
1922/1922 - 30s - loss: 1.6105 - accuracy: 0.1995 - val_loss: 1.6099 - val_accuracy: 0.2000 - lr: 0.0010 - 30s/epoch - 16ms/step
Epoch 126/625
1922/1922 - 30s - loss: 1.6106 - accuracy: 0.2016 - val_loss: 1.6097 - val_accuracy: 0.2000 - lr: 0.0010 - 30s/epoch - 16ms/step
Epoch 127/625
1922/1922 - 30s - loss: 1.6108 - accuracy: 0.1976 - val_loss: 1.6095 - val_accuracy: 0.2000 - lr: 0.0010 - 30s/epoch - 16ms/step
Epoch 128/625
1922/1922 - 30s - loss: 1.6105 - accuracy: 0.2008 - val_loss: 1.6105 - val_accuracy: 0.2000 - lr: 0.0010 - 30s/epoch - 16ms/step
Epoch 129/625
1922/1922 - 30s - loss: 1.6106 - accuracy: 0.1992 - val_loss: 1.6105 - val_accuracy: 0.2000 - lr: 0.0010 - 30s/epoch - 16ms/step
Epoch 130/625
1922/1922 - 30s - loss: 1.6106 - accuracy: 0.1989 - val_loss: 1.6097 - val_accuracy: 0.2000 - lr: 0.0010 - 30s/epoch - 16ms/step
Epoch 131/625
1922/1922 - 30s - loss: 1.6106 - accuracy: 0.1985 - val_loss: 1.6105 - val_accuracy: 0.2000 - lr: 0.0010 - 30s/epoch - 16ms/step
Epoch 132/625
1922/1922 - 30s - loss: 1.6106 - accuracy: 0.2015 - val_loss: 1.6097 - val_accuracy: 0.2000 - lr: 0.0010 - 30s/epoch - 16ms/step
Epoch 133/625
1922/1922 - 30s - loss: 1.6105 - accuracy: 0.2002 - val_loss: 1.6101 - val_accuracy: 0.2000 - lr: 0.0010 - 30s/epoch - 16ms/step
Epoch 134/625
1922/1922 - 30s - loss: 1.6106 - accuracy: 0.2014 - val_loss: 1.6100 - val_accuracy: 0.2000 - lr: 0.0010 - 30s/epoch - 15ms/step
Epoch 135/625
1922/1922 - 30s - loss: 1.6106 - accuracy: 0.1998 - val_loss: 1.6097 - val_accuracy: 0.2000 - lr: 0.0010 - 30s/epoch - 16ms/step
Epoch 136/625
1922/1922 - 30s - loss: 1.6107 - accuracy: 0.2008 - val_loss: 1.6098 - val_accuracy: 0.2000 - lr: 0.0010 - 30s/epoch - 16ms/step
Epoch 137/625
1922/1922 - 30s - loss: 1.6105 - accuracy: 0.2013 - val_loss: 1.6107 - val_accuracy: 0.2000 - lr: 0.0010 - 30s/epoch - 16ms/step
Epoch 138/625
1922/1922 - 30s - loss: 1.6107 - accuracy: 0.1978 - val_loss: 1.6098 - val_accuracy: 0.2000 - lr: 0.0010 - 30s/epoch - 16ms/step
Epoch 139/625
1922/1922 - 30s - loss: 1.6106 - accuracy: 0.1989 - val_loss: 1.6096 - val_accuracy: 0.2000 - lr: 0.0010 - 30s/epoch - 16ms/step
Epoch 140/625
1922/1922 - 30s - loss: 1.6104 - accuracy: 0.2026 - val_loss: 1.6098 - val_accuracy: 0.2000 - lr: 0.0010 - 30s/epoch - 16ms/step
Epoch 141/625
1922/1922 - 30s - loss: 1.6106 - accuracy: 0.1995 - val_loss: 1.6105 - val_accuracy: 0.2000 - lr: 0.0010 - 30s/epoch - 16ms/step
Epoch 142/625
1922/1922 - 30s - loss: 1.6107 - accuracy: 0.1985 - val_loss: 1.6103 - val_accuracy: 0.2000 - lr: 0.0010 - 30s/epoch - 15ms/step
Epoch 143/625
1922/1922 - 30s - loss: 1.6106 - accuracy: 0.1984 - val_loss: 1.6098 - val_accuracy: 0.2000 - lr: 0.0010 - 30s/epoch - 16ms/step
Epoch 144/625
1922/1922 - 30s - loss: 1.6106 - accuracy: 0.2000 - val_loss: 1.6106 - val_accuracy: 0.2000 - lr: 0.0010 - 30s/epoch - 16ms/step
Epoch 145/625
1922/1922 - 30s - loss: 1.6107 - accuracy: 0.1994 - val_loss: 1.6095 - val_accuracy: 0.2000 - lr: 0.0010 - 30s/epoch - 16ms/step
Epoch 146/625
1922/1922 - 30s - loss: 1.6106 - accuracy: 0.1984 - val_loss: 1.6103 - val_accuracy: 0.2000 - lr: 0.0010 - 30s/epoch - 16ms/step
Epoch 147/625
1922/1922 - 30s - loss: 1.6107 - accuracy: 0.1996 - val_loss: 1.6105 - val_accuracy: 0.2000 - lr: 0.0010 - 30s/epoch - 16ms/step
Epoch 148/625
1922/1922 - 30s - loss: 1.6105 - accuracy: 0.1991 - val_loss: 1.6101 - val_accuracy: 0.2000 - lr: 0.0010 - 30s/epoch - 16ms/step
Epoch 149/625
1922/1922 - 30s - loss: 1.6106 - accuracy: 0.2003 - val_loss: 1.6099 - val_accuracy: 0.2000 - lr: 0.0010 - 30s/epoch - 16ms/step
Epoch 150/625
1922/1922 - 30s - loss: 1.6105 - accuracy: 0.2021 - val_loss: 1.6099 - val_accuracy: 0.2000 - lr: 0.0010 - 30s/epoch - 16ms/step
Epoch 151/625
1922/1922 - 30s - loss: 1.6106 - accuracy: 0.2007 - val_loss: 1.6099 - val_accuracy: 0.2000 - lr: 0.0010 - 30s/epoch - 16ms/step
Epoch 152/625
1922/1922 - 30s - loss: 1.6105 - accuracy: 0.2003 - val_loss: 1.6098 - val_accuracy: 0.2000 - lr: 0.0010 - 30s/epoch - 16ms/step
Epoch 153/625
1922/1922 - 30s - loss: 1.6106 - accuracy: 0.1988 - val_loss: 1.6097 - val_accuracy: 0.2000 - lr: 0.0010 - 30s/epoch - 16ms/step
Epoch 154/625
1922/1922 - 30s - loss: 1.6104 - accuracy: 0.2006 - val_loss: 1.6100 - val_accuracy: 0.2000 - lr: 0.0010 - 30s/epoch - 16ms/step
Epoch 155/625
1922/1922 - 30s - loss: 1.6107 - accuracy: 0.1978 - val_loss: 1.6095 - val_accuracy: 0.2000 - lr: 0.0010 - 30s/epoch - 16ms/step
Epoch 156/625
1922/1922 - 30s - loss: 1.6106 - accuracy: 0.1995 - val_loss: 1.6101 - val_accuracy: 0.2000 - lr: 0.0010 - 30s/epoch - 16ms/step
Epoch 157/625
1922/1922 - 30s - loss: 1.6106 - accuracy: 0.1982 - val_loss: 1.6096 - val_accuracy: 0.2000 - lr: 0.0010 - 30s/epoch - 16ms/step
Epoch 158/625
1922/1922 - 30s - loss: 1.6106 - accuracy: 0.1982 - val_loss: 1.6100 - val_accuracy: 0.2000 - lr: 0.0010 - 30s/epoch - 16ms/step
Epoch 159/625
1922/1922 - 30s - loss: 1.6105 - accuracy: 0.1998 - val_loss: 1.6099 - val_accuracy: 0.2000 - lr: 0.0010 - 30s/epoch - 16ms/step
Epoch 160/625
1922/1922 - 30s - loss: 1.6106 - accuracy: 0.1986 - val_loss: 1.6095 - val_accuracy: 0.2000 - lr: 0.0010 - 30s/epoch - 16ms/step
Epoch 161/625
1922/1922 - 30s - loss: 1.6106 - accuracy: 0.1992 - val_loss: 1.6101 - val_accuracy: 0.2000 - lr: 0.0010 - 30s/epoch - 16ms/step
Epoch 162/625
1922/1922 - 30s - loss: 1.6105 - accuracy: 0.2012 - val_loss: 1.6104 - val_accuracy: 0.2000 - lr: 0.0010 - 30s/epoch - 15ms/step
Epoch 163/625
1922/1922 - 30s - loss: 1.6106 - accuracy: 0.2010 - val_loss: 1.6100 - val_accuracy: 0.2000 - lr: 0.0010 - 30s/epoch - 16ms/step
Epoch 164/625
1922/1922 - 30s - loss: 1.6106 - accuracy: 0.2012 - val_loss: 1.6100 - val_accuracy: 0.2000 - lr: 0.0010 - 30s/epoch - 15ms/step
Epoch 165/625
1922/1922 - 30s - loss: 1.6105 - accuracy: 0.2000 - val_loss: 1.6102 - val_accuracy: 0.2000 - lr: 0.0010 - 30s/epoch - 16ms/step
Epoch 166/625
1922/1922 - 30s - loss: 1.6105 - accuracy: 0.1985 - val_loss: 1.6095 - val_accuracy: 0.2000 - lr: 0.0010 - 30s/epoch - 16ms/step
Epoch 167/625
1922/1922 - 30s - loss: 1.6104 - accuracy: 0.2010 - val_loss: 1.6098 - val_accuracy: 0.2000 - lr: 0.0010 - 30s/epoch - 16ms/step
Epoch 168/625
1922/1922 - 30s - loss: 1.6105 - accuracy: 0.1979 - val_loss: 1.6099 - val_accuracy: 0.2000 - lr: 0.0010 - 30s/epoch - 16ms/step
Epoch 169/625
1922/1922 - 30s - loss: 1.6105 - accuracy: 0.1990 - val_loss: 1.6104 - val_accuracy: 0.2000 - lr: 0.0010 - 30s/epoch - 16ms/step
Epoch 170/625
1922/1922 - 30s - loss: 1.6105 - accuracy: 0.2003 - val_loss: 1.6105 - val_accuracy: 0.2000 - lr: 0.0010 - 30s/epoch - 15ms/step
Epoch 171/625
1922/1922 - 30s - loss: 1.6104 - accuracy: 0.1994 - val_loss: 1.6099 - val_accuracy: 0.2000 - lr: 0.0010 - 30s/epoch - 16ms/step
Epoch 172/625
1922/1922 - 30s - loss: 1.6106 - accuracy: 0.1987 - val_loss: 1.6098 - val_accuracy: 0.2000 - lr: 0.0010 - 30s/epoch - 16ms/step
Epoch 173/625
1922/1922 - 30s - loss: 1.6106 - accuracy: 0.1993 - val_loss: 1.6107 - val_accuracy: 0.2000 - lr: 0.0010 - 30s/epoch - 16ms/step
Epoch 174/625
1922/1922 - 30s - loss: 1.6104 - accuracy: 0.2001 - val_loss: 1.6096 - val_accuracy: 0.2000 - lr: 0.0010 - 30s/epoch - 16ms/step
Epoch 175/625
1922/1922 - 31s - loss: 1.6105 - accuracy: 0.2013 - val_loss: 1.6101 - val_accuracy: 0.2000 - lr: 0.0010 - 31s/epoch - 16ms/step
Epoch 176/625
1922/1922 - 31s - loss: 1.6105 - accuracy: 0.1994 - val_loss: 1.6096 - val_accuracy: 0.2000 - lr: 0.0010 - 31s/epoch - 16ms/step
Epoch 177/625
1922/1922 - 30s - loss: 1.6104 - accuracy: 0.2012 - val_loss: 1.6107 - val_accuracy: 0.2000 - lr: 0.0010 - 30s/epoch - 16ms/step
Epoch 178/625
1922/1922 - 30s - loss: 1.6105 - accuracy: 0.2013 - val_loss: 1.6100 - val_accuracy: 0.2000 - lr: 0.0010 - 30s/epoch - 16ms/step
Epoch 179/625
1922/1922 - 30s - loss: 1.6104 - accuracy: 0.1992 - val_loss: 1.6101 - val_accuracy: 0.2000 - lr: 0.0010 - 30s/epoch - 16ms/step
Epoch 180/625
1922/1922 - 30s - loss: 1.6104 - accuracy: 0.2024 - val_loss: 1.6095 - val_accuracy: 0.2000 - lr: 0.0010 - 30s/epoch - 15ms/step
Epoch 181/625
1922/1922 - 30s - loss: 1.6105 - accuracy: 0.1999 - val_loss: 1.6099 - val_accuracy: 0.2000 - lr: 0.0010 - 30s/epoch - 16ms/step
Epoch 182/625
1922/1922 - 30s - loss: 1.6105 - accuracy: 0.2002 - val_loss: 1.6098 - val_accuracy: 0.2000 - lr: 0.0010 - 30s/epoch - 16ms/step
Epoch 183/625
1922/1922 - 30s - loss: 1.6104 - accuracy: 0.2003 - val_loss: 1.6096 - val_accuracy: 0.2000 - lr: 0.0010 - 30s/epoch - 16ms/step
Epoch 184/625
1922/1922 - 30s - loss: 1.6105 - accuracy: 0.2016 - val_loss: 1.6097 - val_accuracy: 0.2000 - lr: 0.0010 - 30s/epoch - 16ms/step
Epoch 185/625
1922/1922 - 30s - loss: 1.6106 - accuracy: 0.1976 - val_loss: 1.6103 - val_accuracy: 0.2000 - lr: 0.0010 - 30s/epoch - 16ms/step
Epoch 186/625
1922/1922 - 30s - loss: 1.6106 - accuracy: 0.1985 - val_loss: 1.6103 - val_accuracy: 0.2000 - lr: 0.0010 - 30s/epoch - 15ms/step
Epoch 187/625
1922/1922 - 30s - loss: 1.6106 - accuracy: 0.2005 - val_loss: 1.6102 - val_accuracy: 0.2000 - lr: 0.0010 - 30s/epoch - 16ms/step
Epoch 188/625
1922/1922 - 30s - loss: 1.6102 - accuracy: 0.2034 - val_loss: 1.6096 - val_accuracy: 0.2000 - lr: 0.0010 - 30s/epoch - 16ms/step
Epoch 189/625
1922/1922 - 30s - loss: 1.6104 - accuracy: 0.2013 - val_loss: 1.6102 - val_accuracy: 0.2000 - lr: 0.0010 - 30s/epoch - 16ms/step
Epoch 190/625
1922/1922 - 30s - loss: 1.6105 - accuracy: 0.1976 - val_loss: 1.6097 - val_accuracy: 0.2000 - lr: 0.0010 - 30s/epoch - 15ms/step
Epoch 191/625
1922/1922 - 30s - loss: 1.6104 - accuracy: 0.2016 - val_loss: 1.6101 - val_accuracy: 0.2000 - lr: 0.0010 - 30s/epoch - 16ms/step
Epoch 192/625
1922/1922 - 30s - loss: 1.6103 - accuracy: 0.2016 - val_loss: 1.6096 - val_accuracy: 0.2000 - lr: 0.0010 - 30s/epoch - 15ms/step
Epoch 193/625
1922/1922 - 30s - loss: 1.6106 - accuracy: 0.1998 - val_loss: 1.6097 - val_accuracy: 0.2000 - lr: 0.0010 - 30s/epoch - 16ms/step
Epoch 194/625
1922/1922 - 30s - loss: 1.6104 - accuracy: 0.1988 - val_loss: 1.6100 - val_accuracy: 0.2000 - lr: 0.0010 - 30s/epoch - 16ms/step
Epoch 195/625
1922/1922 - 30s - loss: 1.6105 - accuracy: 0.1973 - val_loss: 1.6117 - val_accuracy: 0.2000 - lr: 0.0010 - 30s/epoch - 16ms/step
Epoch 196/625
1922/1922 - 30s - loss: 1.6105 - accuracy: 0.1994 - val_loss: 1.6097 - val_accuracy: 0.2000 - lr: 0.0010 - 30s/epoch - 16ms/step
Epoch 197/625
1922/1922 - 30s - loss: 1.6105 - accuracy: 0.1998 - val_loss: 1.6100 - val_accuracy: 0.2000 - lr: 0.0010 - 30s/epoch - 16ms/step
Epoch 198/625
1922/1922 - 30s - loss: 1.6104 - accuracy: 0.1987 - val_loss: 1.6096 - val_accuracy: 0.2000 - lr: 0.0010 - 30s/epoch - 16ms/step
Epoch 199/625
1922/1922 - 30s - loss: 1.6105 - accuracy: 0.1997 - val_loss: 1.6101 - val_accuracy: 0.2000 - lr: 0.0010 - 30s/epoch - 16ms/step
Epoch 200/625
1922/1922 - 30s - loss: 1.6104 - accuracy: 0.2015 - val_loss: 1.6105 - val_accuracy: 0.2000 - lr: 0.0010 - 30s/epoch - 16ms/step
Epoch 201/625
1922/1922 - 30s - loss: 1.6104 - accuracy: 0.2014 - val_loss: 1.6099 - val_accuracy: 0.2000 - lr: 0.0010 - 30s/epoch - 16ms/step
Epoch 202/625
1922/1922 - 30s - loss: 1.6105 - accuracy: 0.2003 - val_loss: 1.6102 - val_accuracy: 0.2000 - lr: 0.0010 - 30s/epoch - 16ms/step
Epoch 203/625
1922/1922 - 30s - loss: 1.6104 - accuracy: 0.2003 - val_loss: 1.6104 - val_accuracy: 0.2000 - lr: 0.0010 - 30s/epoch - 16ms/step
Epoch 204/625
1922/1922 - 30s - loss: 1.6104 - accuracy: 0.2017 - val_loss: 1.6098 - val_accuracy: 0.2000 - lr: 0.0010 - 30s/epoch - 16ms/step
Epoch 205/625
1922/1922 - 30s - loss: 1.6104 - accuracy: 0.1983 - val_loss: 1.6102 - val_accuracy: 0.2000 - lr: 0.0010 - 30s/epoch - 16ms/step
Epoch 206/625
1922/1922 - 30s - loss: 1.6104 - accuracy: 0.1985 - val_loss: 1.6097 - val_accuracy: 0.2000 - lr: 0.0010 - 30s/epoch - 16ms/step
Epoch 207/625
1922/1922 - 30s - loss: 1.6104 - accuracy: 0.1994 - val_loss: 1.6102 - val_accuracy: 0.2000 - lr: 0.0010 - 30s/epoch - 16ms/step
Epoch 208/625
1922/1922 - 30s - loss: 1.6104 - accuracy: 0.1999 - val_loss: 1.6097 - val_accuracy: 0.2000 - lr: 0.0010 - 30s/epoch - 16ms/step
Epoch 209/625
1922/1922 - 30s - loss: 1.6104 - accuracy: 0.2000 - val_loss: 1.6098 - val_accuracy: 0.2000 - lr: 0.0010 - 30s/epoch - 16ms/step
Epoch 210/625
1922/1922 - 30s - loss: 1.6104 - accuracy: 0.1981 - val_loss: 1.6099 - val_accuracy: 0.2000 - lr: 0.0010 - 30s/epoch - 15ms/step
Epoch 211/625
1922/1922 - 30s - loss: 1.6104 - accuracy: 0.1992 - val_loss: 1.6097 - val_accuracy: 0.2000 - lr: 0.0010 - 30s/epoch - 16ms/step
Epoch 212/625
1922/1922 - 30s - loss: 1.6105 - accuracy: 0.2007 - val_loss: 1.6095 - val_accuracy: 0.2000 - lr: 0.0010 - 30s/epoch - 16ms/step
Epoch 213/625
1922/1922 - 30s - loss: 1.6103 - accuracy: 0.2021 - val_loss: 1.6099 - val_accuracy: 0.2000 - lr: 0.0010 - 30s/epoch - 16ms/step
Epoch 214/625
1922/1922 - 30s - loss: 1.6104 - accuracy: 0.2013 - val_loss: 1.6106 - val_accuracy: 0.2000 - lr: 0.0010 - 30s/epoch - 15ms/step
Epoch 215/625
1922/1922 - 30s - loss: 1.6106 - accuracy: 0.1976 - val_loss: 1.6097 - val_accuracy: 0.2000 - lr: 0.0010 - 30s/epoch - 16ms/step
Epoch 216/625
1922/1922 - 30s - loss: 1.6104 - accuracy: 0.1981 - val_loss: 1.6095 - val_accuracy: 0.2000 - lr: 0.0010 - 30s/epoch - 15ms/step
Epoch 217/625
1922/1922 - 30s - loss: 1.6104 - accuracy: 0.2006 - val_loss: 1.6100 - val_accuracy: 0.2000 - lr: 0.0010 - 30s/epoch - 16ms/step
Epoch 218/625
1922/1922 - 30s - loss: 1.6105 - accuracy: 0.1978 - val_loss: 1.6098 - val_accuracy: 0.2000 - lr: 0.0010 - 30s/epoch - 16ms/step
Epoch 219/625
1922/1922 - 30s - loss: 1.6104 - accuracy: 0.2016 - val_loss: 1.6096 - val_accuracy: 0.2000 - lr: 0.0010 - 30s/epoch - 16ms/step
Epoch 220/625
1922/1922 - 30s - loss: 1.6105 - accuracy: 0.1993 - val_loss: 1.6100 - val_accuracy: 0.2000 - lr: 0.0010 - 30s/epoch - 16ms/step
Epoch 221/625
1922/1922 - 30s - loss: 1.6105 - accuracy: 0.1968 - val_loss: 1.6109 - val_accuracy: 0.2000 - lr: 0.0010 - 30s/epoch - 16ms/step
Epoch 222/625
1922/1922 - 30s - loss: 1.6104 - accuracy: 0.2009 - val_loss: 1.6096 - val_accuracy: 0.2000 - lr: 0.0010 - 30s/epoch - 16ms/step
Epoch 223/625
1922/1922 - 30s - loss: 1.6104 - accuracy: 0.2024 - val_loss: 1.6098 - val_accuracy: 0.2000 - lr: 0.0010 - 30s/epoch - 16ms/step
Epoch 224/625
1922/1922 - 30s - loss: 1.6105 - accuracy: 0.1992 - val_loss: 1.6102 - val_accuracy: 0.2000 - lr: 0.0010 - 30s/epoch - 16ms/step
Epoch 225/625
1922/1922 - 30s - loss: 1.6102 - accuracy: 0.2008 - val_loss: 1.6101 - val_accuracy: 0.2000 - lr: 0.0010 - 30s/epoch - 16ms/step
Epoch 226/625
1922/1922 - 30s - loss: 1.6104 - accuracy: 0.1995 - val_loss: 1.6096 - val_accuracy: 0.2000 - lr: 0.0010 - 30s/epoch - 16ms/step
Epoch 227/625
1922/1922 - 30s - loss: 1.6105 - accuracy: 0.1984 - val_loss: 1.6108 - val_accuracy: 0.2000 - lr: 0.0010 - 30s/epoch - 16ms/step
Epoch 228/625
1922/1922 - 30s - loss: 1.6103 - accuracy: 0.2006 - val_loss: 1.6101 - val_accuracy: 0.2000 - lr: 0.0010 - 30s/epoch - 16ms/step
Epoch 229/625
1922/1922 - 30s - loss: 1.6104 - accuracy: 0.1998 - val_loss: 1.6104 - val_accuracy: 0.2000 - lr: 0.0010 - 30s/epoch - 16ms/step
Epoch 230/625
1922/1922 - 30s - loss: 1.6104 - accuracy: 0.2017 - val_loss: 1.6095 - val_accuracy: 0.2000 - lr: 0.0010 - 30s/epoch - 16ms/step
Epoch 231/625
1922/1922 - 30s - loss: 1.6105 - accuracy: 0.2012 - val_loss: 1.6098 - val_accuracy: 0.2000 - lr: 0.0010 - 30s/epoch - 16ms/step
Epoch 232/625
1922/1922 - 30s - loss: 1.6104 - accuracy: 0.1986 - val_loss: 1.6097 - val_accuracy: 0.2000 - lr: 0.0010 - 30s/epoch - 16ms/step
Epoch 233/625
1922/1922 - 30s - loss: 1.6104 - accuracy: 0.1996 - val_loss: 1.6103 - val_accuracy: 0.2000 - lr: 0.0010 - 30s/epoch - 16ms/step
Epoch 234/625
1922/1922 - 30s - loss: 1.6103 - accuracy: 0.2006 - val_loss: 1.6099 - val_accuracy: 0.2000 - lr: 0.0010 - 30s/epoch - 16ms/step
Epoch 235/625
1922/1922 - 30s - loss: 1.6103 - accuracy: 0.2005 - val_loss: 1.6097 - val_accuracy: 0.2000 - lr: 0.0010 - 30s/epoch - 16ms/step
Epoch 236/625
1922/1922 - 30s - loss: 1.6104 - accuracy: 0.2003 - val_loss: 1.6097 - val_accuracy: 0.2000 - lr: 0.0010 - 30s/epoch - 16ms/step
Epoch 237/625
1922/1922 - 30s - loss: 1.6105 - accuracy: 0.1989 - val_loss: 1.6106 - val_accuracy: 0.2000 - lr: 0.0010 - 30s/epoch - 16ms/step
Epoch 238/625
1922/1922 - 30s - loss: 1.6104 - accuracy: 0.2011 - val_loss: 1.6102 - val_accuracy: 0.2000 - lr: 0.0010 - 30s/epoch - 16ms/step
Epoch 239/625
1922/1922 - 30s - loss: 1.6103 - accuracy: 0.1998 - val_loss: 1.6097 - val_accuracy: 0.2000 - lr: 0.0010 - 30s/epoch - 16ms/step
Epoch 240/625
1922/1922 - 30s - loss: 1.6103 - accuracy: 0.2001 - val_loss: 1.6098 - val_accuracy: 0.2000 - lr: 0.0010 - 30s/epoch - 16ms/step
Epoch 241/625
1922/1922 - 30s - loss: 1.6105 - accuracy: 0.1999 - val_loss: 1.6100 - val_accuracy: 0.2000 - lr: 0.0010 - 30s/epoch - 16ms/step
Epoch 242/625
1922/1922 - 30s - loss: 1.6104 - accuracy: 0.1992 - val_loss: 1.6097 - val_accuracy: 0.2000 - lr: 0.0010 - 30s/epoch - 16ms/step
Epoch 243/625
1922/1922 - 30s - loss: 1.6104 - accuracy: 0.2003 - val_loss: 1.6100 - val_accuracy: 0.2000 - lr: 0.0010 - 30s/epoch - 16ms/step
Epoch 244/625
1922/1922 - 30s - loss: 1.6104 - accuracy: 0.1976 - val_loss: 1.6097 - val_accuracy: 0.2000 - lr: 0.0010 - 30s/epoch - 16ms/step
Epoch 245/625
1922/1922 - 30s - loss: 1.6103 - accuracy: 0.1991 - val_loss: 1.6101 - val_accuracy: 0.2000 - lr: 0.0010 - 30s/epoch - 16ms/step
Epoch 246/625
1922/1922 - 30s - loss: 1.6103 - accuracy: 0.1992 - val_loss: 1.6106 - val_accuracy: 0.2000 - lr: 0.0010 - 30s/epoch - 16ms/step
Epoch 247/625
1922/1922 - 30s - loss: 1.6104 - accuracy: 0.1993 - val_loss: 1.6095 - val_accuracy: 0.2000 - lr: 0.0010 - 30s/epoch - 16ms/step
Epoch 248/625
1922/1922 - 30s - loss: 1.6102 - accuracy: 0.1988 - val_loss: 1.6096 - val_accuracy: 0.2000 - lr: 0.0010 - 30s/epoch - 16ms/step
Epoch 249/625
1922/1922 - 30s - loss: 1.6103 - accuracy: 0.1986 - val_loss: 1.6096 - val_accuracy: 0.2000 - lr: 0.0010 - 30s/epoch - 16ms/step
Epoch 250/625
1922/1922 - 30s - loss: 1.6104 - accuracy: 0.2010 - val_loss: 1.6099 - val_accuracy: 0.2000 - lr: 0.0010 - 30s/epoch - 16ms/step
Epoch 251/625
1922/1922 - 30s - loss: 1.6103 - accuracy: 0.1974 - val_loss: 1.6099 - val_accuracy: 0.2000 - lr: 0.0010 - 30s/epoch - 16ms/step
Epoch 252/625
1922/1922 - 30s - loss: 1.6104 - accuracy: 0.1991 - val_loss: 1.6096 - val_accuracy: 0.2000 - lr: 0.0010 - 30s/epoch - 16ms/step
Epoch 253/625
1922/1922 - 30s - loss: 1.6104 - accuracy: 0.1970 - val_loss: 1.6098 - val_accuracy: 0.2000 - lr: 0.0010 - 30s/epoch - 16ms/step
Epoch 254/625
1922/1922 - 30s - loss: 1.6103 - accuracy: 0.1997 - val_loss: 1.6100 - val_accuracy: 0.2000 - lr: 0.0010 - 30s/epoch - 16ms/step
Epoch 255/625
1922/1922 - 30s - loss: 1.6104 - accuracy: 0.2003 - val_loss: 1.6099 - val_accuracy: 0.2000 - lr: 0.0010 - 30s/epoch - 16ms/step
Epoch 256/625
1922/1922 - 30s - loss: 1.6103 - accuracy: 0.1985 - val_loss: 1.6097 - val_accuracy: 0.2000 - lr: 0.0010 - 30s/epoch - 16ms/step
Epoch 257/625
1922/1922 - 30s - loss: 1.6103 - accuracy: 0.2003 - val_loss: 1.6100 - val_accuracy: 0.2000 - lr: 0.0010 - 30s/epoch - 16ms/step
Epoch 258/625
1922/1922 - 30s - loss: 1.6103 - accuracy: 0.1989 - val_loss: 1.6096 - val_accuracy: 0.2000 - lr: 0.0010 - 30s/epoch - 16ms/step
Epoch 259/625
1922/1922 - 30s - loss: 1.6104 - accuracy: 0.1983 - val_loss: 1.6102 - val_accuracy: 0.2000 - lr: 0.0010 - 30s/epoch - 16ms/step
Epoch 260/625
1922/1922 - 30s - loss: 1.6103 - accuracy: 0.1992 - val_loss: 1.6099 - val_accuracy: 0.2000 - lr: 0.0010 - 30s/epoch - 16ms/step
Epoch 261/625
1922/1922 - 30s - loss: 1.6103 - accuracy: 0.1994 - val_loss: 1.6097 - val_accuracy: 0.2000 - lr: 0.0010 - 30s/epoch - 16ms/step
Epoch 262/625
1922/1922 - 30s - loss: 1.6103 - accuracy: 0.1999 - val_loss: 1.6103 - val_accuracy: 0.2000 - lr: 0.0010 - 30s/epoch - 16ms/step
Epoch 263/625
1922/1922 - 30s - loss: 1.6104 - accuracy: 0.1980 - val_loss: 1.6099 - val_accuracy: 0.2000 - lr: 0.0010 - 30s/epoch - 16ms/step
Epoch 264/625
1922/1922 - 30s - loss: 1.6105 - accuracy: 0.1980 - val_loss: 1.6098 - val_accuracy: 0.2000 - lr: 0.0010 - 30s/epoch - 16ms/step
Epoch 265/625
1922/1922 - 30s - loss: 1.6103 - accuracy: 0.2009 - val_loss: 1.6099 - val_accuracy: 0.2000 - lr: 0.0010 - 30s/epoch - 16ms/step
Epoch 266/625
1922/1922 - 30s - loss: 1.6102 - accuracy: 0.2003 - val_loss: 1.6103 - val_accuracy: 0.2000 - lr: 0.0010 - 30s/epoch - 16ms/step
Epoch 267/625
1922/1922 - 30s - loss: 1.6102 - accuracy: 0.1995 - val_loss: 1.6104 - val_accuracy: 0.2000 - lr: 0.0010 - 30s/epoch - 16ms/step
Epoch 268/625
1922/1922 - 30s - loss: 1.6103 - accuracy: 0.1993 - val_loss: 1.6098 - val_accuracy: 0.2000 - lr: 0.0010 - 30s/epoch - 16ms/step
Epoch 269/625
1922/1922 - 30s - loss: 1.6102 - accuracy: 0.2016 - val_loss: 1.6097 - val_accuracy: 0.2000 - lr: 0.0010 - 30s/epoch - 16ms/step
Epoch 270/625
1922/1922 - 30s - loss: 1.6103 - accuracy: 0.1998 - val_loss: 1.6096 - val_accuracy: 0.2000 - lr: 0.0010 - 30s/epoch - 15ms/step
Epoch 271/625
1922/1922 - 30s - loss: 1.6102 - accuracy: 0.2014 - val_loss: 1.6097 - val_accuracy: 0.2000 - lr: 0.0010 - 30s/epoch - 16ms/step
Epoch 272/625
1922/1922 - 30s - loss: 1.6103 - accuracy: 0.1985 - val_loss: 1.6100 - val_accuracy: 0.2000 - lr: 0.0010 - 30s/epoch - 16ms/step
Epoch 273/625
1922/1922 - 30s - loss: 1.6103 - accuracy: 0.2008 - val_loss: 1.6102 - val_accuracy: 0.2000 - lr: 0.0010 - 30s/epoch - 16ms/step
Epoch 274/625
1922/1922 - 30s - loss: 1.6102 - accuracy: 0.2004 - val_loss: 1.6101 - val_accuracy: 0.2000 - lr: 0.0010 - 30s/epoch - 16ms/step
Epoch 275/625
1922/1922 - 30s - loss: 1.6102 - accuracy: 0.2013 - val_loss: 1.6100 - val_accuracy: 0.2000 - lr: 0.0010 - 30s/epoch - 16ms/step
Epoch 276/625
1922/1922 - 30s - loss: 1.6103 - accuracy: 0.1992 - val_loss: 1.6097 - val_accuracy: 0.2000 - lr: 0.0010 - 30s/epoch - 16ms/step
Epoch 277/625
1922/1922 - 31s - loss: 1.6103 - accuracy: 0.2014 - val_loss: 1.6098 - val_accuracy: 0.2000 - lr: 0.0010 - 31s/epoch - 16ms/step
Epoch 278/625
1922/1922 - 30s - loss: 1.6104 - accuracy: 0.1975 - val_loss: 1.6098 - val_accuracy: 0.2000 - lr: 0.0010 - 30s/epoch - 16ms/step
Epoch 279/625
1922/1922 - 30s - loss: 1.6103 - accuracy: 0.2011 - val_loss: 1.6101 - val_accuracy: 0.2000 - lr: 0.0010 - 30s/epoch - 16ms/step
Epoch 280/625
1922/1922 - 30s - loss: 1.6103 - accuracy: 0.1987 - val_loss: 1.6096 - val_accuracy: 0.2000 - lr: 0.0010 - 30s/epoch - 16ms/step
Epoch 281/625
1922/1922 - 30s - loss: 1.6102 - accuracy: 0.1973 - val_loss: 1.6098 - val_accuracy: 0.2000 - lr: 0.0010 - 30s/epoch - 16ms/step
Epoch 282/625
1922/1922 - 30s - loss: 1.6102 - accuracy: 0.1995 - val_loss: 1.6106 - val_accuracy: 0.2000 - lr: 0.0010 - 30s/epoch - 16ms/step
Epoch 283/625
1922/1922 - 30s - loss: 1.6103 - accuracy: 0.1999 - val_loss: 1.6107 - val_accuracy: 0.2000 - lr: 0.0010 - 30s/epoch - 16ms/step
Epoch 284/625
1922/1922 - 30s - loss: 1.6101 - accuracy: 0.2014 - val_loss: 1.6103 - val_accuracy: 0.2000 - lr: 0.0010 - 30s/epoch - 16ms/step
Epoch 285/625
1922/1922 - 30s - loss: 1.6103 - accuracy: 0.1990 - val_loss: 1.6103 - val_accuracy: 0.2000 - lr: 0.0010 - 30s/epoch - 16ms/step
Epoch 286/625
1922/1922 - 30s - loss: 1.6102 - accuracy: 0.2002 - val_loss: 1.6100 - val_accuracy: 0.2000 - lr: 0.0010 - 30s/epoch - 16ms/step
Epoch 287/625
1922/1922 - 30s - loss: 1.6102 - accuracy: 0.1996 - val_loss: 1.6096 - val_accuracy: 0.2000 - lr: 0.0010 - 30s/epoch - 16ms/step
Epoch 288/625
1922/1922 - 30s - loss: 1.6102 - accuracy: 0.2016 - val_loss: 1.6099 - val_accuracy: 0.2000 - lr: 0.0010 - 30s/epoch - 16ms/step
Epoch 289/625
1922/1922 - 30s - loss: 1.6103 - accuracy: 0.2001 - val_loss: 1.6097 - val_accuracy: 0.2000 - lr: 0.0010 - 30s/epoch - 16ms/step
Epoch 290/625
1922/1922 - 30s - loss: 1.6104 - accuracy: 0.2008 - val_loss: 1.6099 - val_accuracy: 0.2000 - lr: 0.0010 - 30s/epoch - 16ms/step
Epoch 291/625
1922/1922 - 30s - loss: 1.6102 - accuracy: 0.1989 - val_loss: 1.6098 - val_accuracy: 0.2000 - lr: 0.0010 - 30s/epoch - 16ms/step
Epoch 292/625
1922/1922 - 30s - loss: 1.6102 - accuracy: 0.1992 - val_loss: 1.6098 - val_accuracy: 0.2000 - lr: 0.0010 - 30s/epoch - 16ms/step
Epoch 293/625
1922/1922 - 30s - loss: 1.6102 - accuracy: 0.2008 - val_loss: 1.6101 - val_accuracy: 0.2000 - lr: 0.0010 - 30s/epoch - 16ms/step
Epoch 294/625
1922/1922 - 30s - loss: 1.6102 - accuracy: 0.2009 - val_loss: 1.6101 - val_accuracy: 0.2000 - lr: 0.0010 - 30s/epoch - 16ms/step
Epoch 295/625
1922/1922 - 31s - loss: 1.6101 - accuracy: 0.1998 - val_loss: 1.6101 - val_accuracy: 0.2000 - lr: 0.0010 - 31s/epoch - 16ms/step
Epoch 296/625
1922/1922 - 31s - loss: 1.6103 - accuracy: 0.1973 - val_loss: 1.6097 - val_accuracy: 0.2000 - lr: 0.0010 - 31s/epoch - 16ms/step
Epoch 297/625
1922/1922 - 30s - loss: 1.6103 - accuracy: 0.1996 - val_loss: 1.6099 - val_accuracy: 0.2000 - lr: 0.0010 - 30s/epoch - 16ms/step
Epoch 298/625
1922/1922 - 30s - loss: 1.6102 - accuracy: 0.1991 - val_loss: 1.6102 - val_accuracy: 0.2000 - lr: 0.0010 - 30s/epoch - 16ms/step
Epoch 299/625
1922/1922 - 30s - loss: 1.6102 - accuracy: 0.2004 - val_loss: 1.6099 - val_accuracy: 0.2000 - lr: 0.0010 - 30s/epoch - 16ms/step
Epoch 300/625
1922/1922 - 30s - loss: 1.6103 - accuracy: 0.1996 - val_loss: 1.6106 - val_accuracy: 0.2000 - lr: 0.0010 - 30s/epoch - 16ms/step
Epoch 301/625
1922/1922 - 30s - loss: 1.6103 - accuracy: 0.1981 - val_loss: 1.6101 - val_accuracy: 0.2000 - lr: 0.0010 - 30s/epoch - 16ms/step
Epoch 302/625
1922/1922 - 30s - loss: 1.6101 - accuracy: 0.2008 - val_loss: 1.6102 - val_accuracy: 0.2000 - lr: 0.0010 - 30s/epoch - 16ms/step
Epoch 303/625
1922/1922 - 30s - loss: 1.6102 - accuracy: 0.1992 - val_loss: 1.6098 - val_accuracy: 0.2000 - lr: 0.0010 - 30s/epoch - 16ms/step
Epoch 304/625
1922/1922 - 30s - loss: 1.6102 - accuracy: 0.1992 - val_loss: 1.6098 - val_accuracy: 0.2000 - lr: 0.0010 - 30s/epoch - 16ms/step
Epoch 305/625
1922/1922 - 30s - loss: 1.6102 - accuracy: 0.1996 - val_loss: 1.6101 - val_accuracy: 0.2000 - lr: 0.0010 - 30s/epoch - 16ms/step
Epoch 306/625
1922/1922 - 30s - loss: 1.6102 - accuracy: 0.1996 - val_loss: 1.6099 - val_accuracy: 0.2000 - lr: 0.0010 - 30s/epoch - 16ms/step
Epoch 307/625
1922/1922 - 30s - loss: 1.6101 - accuracy: 0.1991 - val_loss: 1.6098 - val_accuracy: 0.2000 - lr: 0.0010 - 30s/epoch - 16ms/step
Epoch 308/625
1922/1922 - 30s - loss: 1.6102 - accuracy: 0.1992 - val_loss: 1.6109 - val_accuracy: 0.2000 - lr: 0.0010 - 30s/epoch - 16ms/step
Epoch 309/625
1922/1922 - 30s - loss: 1.6102 - accuracy: 0.1994 - val_loss: 1.6099 - val_accuracy: 0.2000 - lr: 0.0010 - 30s/epoch - 16ms/step
Epoch 310/625
1922/1922 - 30s - loss: 1.6102 - accuracy: 0.2008 - val_loss: 1.6098 - val_accuracy: 0.2000 - lr: 0.0010 - 30s/epoch - 16ms/step
Epoch 311/625
1922/1922 - 30s - loss: 1.6102 - accuracy: 0.2022 - val_loss: 1.6095 - val_accuracy: 0.2000 - lr: 0.0010 - 30s/epoch - 16ms/step
Epoch 312/625
1922/1922 - 30s - loss: 1.6103 - accuracy: 0.1981 - val_loss: 1.6095 - val_accuracy: 0.2000 - lr: 0.0010 - 30s/epoch - 16ms/step
Epoch 313/625
1922/1922 - 30s - loss: 1.6101 - accuracy: 0.1994 - val_loss: 1.6096 - val_accuracy: 0.2000 - lr: 0.0010 - 30s/epoch - 16ms/step
Epoch 314/625
1922/1922 - 30s - loss: 1.6102 - accuracy: 0.1972 - val_loss: 1.6105 - val_accuracy: 0.2000 - lr: 0.0010 - 30s/epoch - 16ms/step
Epoch 315/625
1922/1922 - 30s - loss: 1.6102 - accuracy: 0.2006 - val_loss: 1.6098 - val_accuracy: 0.2000 - lr: 0.0010 - 30s/epoch - 16ms/step
Epoch 316/625
1922/1922 - 30s - loss: 1.6103 - accuracy: 0.1996 - val_loss: 1.6099 - val_accuracy: 0.2000 - lr: 0.0010 - 30s/epoch - 16ms/step
Epoch 317/625
1922/1922 - 30s - loss: 1.6102 - accuracy: 0.1969 - val_loss: 1.6095 - val_accuracy: 0.2000 - lr: 0.0010 - 30s/epoch - 16ms/step
Epoch 318/625
1922/1922 - 30s - loss: 1.6100 - accuracy: 0.2001 - val_loss: 1.6098 - val_accuracy: 0.2000 - lr: 0.0010 - 30s/epoch - 16ms/step
Epoch 319/625
1922/1922 - 30s - loss: 1.6102 - accuracy: 0.1992 - val_loss: 1.6096 - val_accuracy: 0.2000 - lr: 0.0010 - 30s/epoch - 16ms/step
Epoch 320/625
1922/1922 - 30s - loss: 1.6101 - accuracy: 0.2006 - val_loss: 1.6096 - val_accuracy: 0.2000 - lr: 0.0010 - 30s/epoch - 16ms/step
Epoch 321/625
1922/1922 - 30s - loss: 1.6102 - accuracy: 0.2005 - val_loss: 1.6107 - val_accuracy: 0.2000 - lr: 0.0010 - 30s/epoch - 16ms/step
Epoch 322/625
1922/1922 - 30s - loss: 1.6101 - accuracy: 0.1991 - val_loss: 1.6100 - val_accuracy: 0.2000 - lr: 0.0010 - 30s/epoch - 16ms/step
Epoch 323/625
1922/1922 - 30s - loss: 1.6102 - accuracy: 0.1993 - val_loss: 1.6100 - val_accuracy: 0.2000 - lr: 0.0010 - 30s/epoch - 16ms/step
Epoch 324/625
1922/1922 - 30s - loss: 1.6101 - accuracy: 0.1984 - val_loss: 1.6097 - val_accuracy: 0.2000 - lr: 0.0010 - 30s/epoch - 16ms/step
Epoch 325/625
1922/1922 - 30s - loss: 1.6102 - accuracy: 0.2009 - val_loss: 1.6095 - val_accuracy: 0.2000 - lr: 0.0010 - 30s/epoch - 16ms/step
Epoch 326/625
1922/1922 - 30s - loss: 1.6102 - accuracy: 0.1986 - val_loss: 1.6099 - val_accuracy: 0.2000 - lr: 0.0010 - 30s/epoch - 16ms/step
Epoch 327/625
1922/1922 - 30s - loss: 1.6102 - accuracy: 0.2001 - val_loss: 1.6097 - val_accuracy: 0.2000 - lr: 0.0010 - 30s/epoch - 16ms/step
Epoch 328/625
1922/1922 - 30s - loss: 1.6102 - accuracy: 0.1972 - val_loss: 1.6098 - val_accuracy: 0.2000 - lr: 0.0010 - 30s/epoch - 16ms/step
Epoch 329/625
1922/1922 - 30s - loss: 1.6102 - accuracy: 0.1981 - val_loss: 1.6097 - val_accuracy: 0.2000 - lr: 0.0010 - 30s/epoch - 16ms/step
Epoch 330/625
1922/1922 - 30s - loss: 1.6101 - accuracy: 0.2008 - val_loss: 1.6097 - val_accuracy: 0.2000 - lr: 0.0010 - 30s/epoch - 16ms/step
Epoch 331/625
1922/1922 - 30s - loss: 1.6101 - accuracy: 0.1993 - val_loss: 1.6100 - val_accuracy: 0.2000 - lr: 0.0010 - 30s/epoch - 16ms/step
Epoch 332/625
1922/1922 - 30s - loss: 1.6101 - accuracy: 0.2009 - val_loss: 1.6097 - val_accuracy: 0.2000 - lr: 0.0010 - 30s/epoch - 16ms/step
Epoch 333/625
1922/1922 - 30s - loss: 1.6101 - accuracy: 0.2025 - val_loss: 1.6102 - val_accuracy: 0.2000 - lr: 0.0010 - 30s/epoch - 16ms/step
Epoch 334/625
1922/1922 - 30s - loss: 1.6101 - accuracy: 0.1992 - val_loss: 1.6096 - val_accuracy: 0.2000 - lr: 0.0010 - 30s/epoch - 16ms/step
Epoch 335/625
1922/1922 - 30s - loss: 1.6102 - accuracy: 0.1986 - val_loss: 1.6096 - val_accuracy: 0.2000 - lr: 0.0010 - 30s/epoch - 16ms/step
Epoch 336/625
1922/1922 - 30s - loss: 1.6101 - accuracy: 0.2008 - val_loss: 1.6107 - val_accuracy: 0.2000 - lr: 0.0010 - 30s/epoch - 16ms/step
Epoch 337/625
1922/1922 - 30s - loss: 1.6102 - accuracy: 0.1983 - val_loss: 1.6095 - val_accuracy: 0.2000 - lr: 0.0010 - 30s/epoch - 16ms/step
Epoch 338/625
1922/1922 - 30s - loss: 1.6101 - accuracy: 0.2019 - val_loss: 1.6102 - val_accuracy: 0.2000 - lr: 0.0010 - 30s/epoch - 16ms/step
Epoch 339/625
1922/1922 - 30s - loss: 1.6101 - accuracy: 0.2000 - val_loss: 1.6102 - val_accuracy: 0.2000 - lr: 0.0010 - 30s/epoch - 16ms/step
Epoch 340/625
1922/1922 - 30s - loss: 1.6101 - accuracy: 0.2011 - val_loss: 1.6099 - val_accuracy: 0.2000 - lr: 0.0010 - 30s/epoch - 16ms/step
Epoch 341/625
1922/1922 - 30s - loss: 1.6102 - accuracy: 0.1989 - val_loss: 1.6097 - val_accuracy: 0.2000 - lr: 0.0010 - 30s/epoch - 16ms/step
Epoch 342/625
1922/1922 - 30s - loss: 1.6102 - accuracy: 0.1986 - val_loss: 1.6098 - val_accuracy: 0.2000 - lr: 0.0010 - 30s/epoch - 16ms/step
Epoch 343/625
1922/1922 - 30s - loss: 1.6101 - accuracy: 0.1982 - val_loss: 1.6097 - val_accuracy: 0.2000 - lr: 0.0010 - 30s/epoch - 16ms/step
Epoch 344/625
1922/1922 - 30s - loss: 1.6102 - accuracy: 0.1975 - val_loss: 1.6097 - val_accuracy: 0.2000 - lr: 0.0010 - 30s/epoch - 16ms/step
Epoch 345/625
1922/1922 - 30s - loss: 1.6101 - accuracy: 0.2001 - val_loss: 1.6101 - val_accuracy: 0.2000 - lr: 0.0010 - 30s/epoch - 16ms/step
Epoch 346/625
1922/1922 - 30s - loss: 1.6101 - accuracy: 0.1992 - val_loss: 1.6101 - val_accuracy: 0.2000 - lr: 0.0010 - 30s/epoch - 16ms/step
Epoch 347/625
1922/1922 - 30s - loss: 1.6101 - accuracy: 0.1995 - val_loss: 1.6098 - val_accuracy: 0.2000 - lr: 0.0010 - 30s/epoch - 16ms/step
Epoch 348/625
1922/1922 - 30s - loss: 1.6101 - accuracy: 0.2018 - val_loss: 1.6096 - val_accuracy: 0.2000 - lr: 0.0010 - 30s/epoch - 16ms/step
Epoch 349/625
1922/1922 - 30s - loss: 1.6102 - accuracy: 0.1966 - val_loss: 1.6095 - val_accuracy: 0.2000 - lr: 0.0010 - 30s/epoch - 16ms/step
Epoch 350/625
1922/1922 - 30s - loss: 1.6101 - accuracy: 0.1987 - val_loss: 1.6097 - val_accuracy: 0.2000 - lr: 0.0010 - 30s/epoch - 16ms/step
Epoch 351/625
1922/1922 - 30s - loss: 1.6100 - accuracy: 0.1999 - val_loss: 1.6095 - val_accuracy: 0.2000 - lr: 0.0010 - 30s/epoch - 16ms/step
Epoch 352/625
1922/1922 - 30s - loss: 1.6101 - accuracy: 0.2004 - val_loss: 1.6097 - val_accuracy: 0.2000 - lr: 0.0010 - 30s/epoch - 16ms/step
Epoch 353/625
1922/1922 - 30s - loss: 1.6101 - accuracy: 0.1983 - val_loss: 1.6101 - val_accuracy: 0.2000 - lr: 0.0010 - 30s/epoch - 16ms/step
Epoch 354/625
1922/1922 - 30s - loss: 1.6102 - accuracy: 0.1985 - val_loss: 1.6098 - val_accuracy: 0.2000 - lr: 0.0010 - 30s/epoch - 16ms/step
Epoch 355/625
1922/1922 - 30s - loss: 1.6102 - accuracy: 0.1999 - val_loss: 1.6097 - val_accuracy: 0.2000 - lr: 0.0010 - 30s/epoch - 16ms/step
Epoch 356/625
1922/1922 - 30s - loss: 1.6102 - accuracy: 0.1986 - val_loss: 1.6101 - val_accuracy: 0.2000 - lr: 0.0010 - 30s/epoch - 16ms/step
Epoch 357/625
1922/1922 - 30s - loss: 1.6101 - accuracy: 0.1987 - val_loss: 1.6096 - val_accuracy: 0.2000 - lr: 0.0010 - 30s/epoch - 16ms/step
Epoch 358/625
1922/1922 - 30s - loss: 1.6101 - accuracy: 0.1990 - val_loss: 1.6097 - val_accuracy: 0.2000 - lr: 0.0010 - 30s/epoch - 16ms/step
Epoch 359/625
1922/1922 - 30s - loss: 1.6102 - accuracy: 0.1976 - val_loss: 1.6096 - val_accuracy: 0.2000 - lr: 0.0010 - 30s/epoch - 16ms/step
Epoch 360/625
1922/1922 - 30s - loss: 1.6101 - accuracy: 0.2000 - val_loss: 1.6099 - val_accuracy: 0.2000 - lr: 0.0010 - 30s/epoch - 16ms/step
Epoch 361/625
1922/1922 - 30s - loss: 1.6101 - accuracy: 0.1974 - val_loss: 1.6098 - val_accuracy: 0.2000 - lr: 0.0010 - 30s/epoch - 16ms/step
Epoch 362/625
1922/1922 - 30s - loss: 1.6101 - accuracy: 0.1991 - val_loss: 1.6095 - val_accuracy: 0.2000 - lr: 0.0010 - 30s/epoch - 16ms/step
Epoch 363/625
1922/1922 - 30s - loss: 1.6101 - accuracy: 0.1993 - val_loss: 1.6097 - val_accuracy: 0.2000 - lr: 0.0010 - 30s/epoch - 16ms/step
Epoch 364/625
1922/1922 - 30s - loss: 1.6101 - accuracy: 0.2003 - val_loss: 1.6097 - val_accuracy: 0.2000 - lr: 0.0010 - 30s/epoch - 16ms/step
Epoch 365/625
1922/1922 - 30s - loss: 1.6101 - accuracy: 0.1991 - val_loss: 1.6097 - val_accuracy: 0.2000 - lr: 0.0010 - 30s/epoch - 16ms/step
Epoch 366/625
1922/1922 - 30s - loss: 1.6101 - accuracy: 0.1985 - val_loss: 1.6098 - val_accuracy: 0.2000 - lr: 0.0010 - 30s/epoch - 16ms/step
Epoch 367/625
1922/1922 - 30s - loss: 1.6101 - accuracy: 0.2003 - val_loss: 1.6097 - val_accuracy: 0.2000 - lr: 0.0010 - 30s/epoch - 16ms/step
Epoch 368/625
1922/1922 - 30s - loss: 1.6101 - accuracy: 0.1990 - val_loss: 1.6097 - val_accuracy: 0.2000 - lr: 0.0010 - 30s/epoch - 16ms/step
Epoch 369/625
1922/1922 - 30s - loss: 1.6101 - accuracy: 0.2024 - val_loss: 1.6096 - val_accuracy: 0.2000 - lr: 0.0010 - 30s/epoch - 16ms/step
Epoch 370/625
1922/1922 - 30s - loss: 1.6101 - accuracy: 0.1969 - val_loss: 1.6096 - val_accuracy: 0.2000 - lr: 0.0010 - 30s/epoch - 16ms/step
Epoch 371/625
1922/1922 - 30s - loss: 1.6099 - accuracy: 0.2011 - val_loss: 1.6099 - val_accuracy: 0.2000 - lr: 0.0010 - 30s/epoch - 16ms/step
Epoch 372/625
1922/1922 - 30s - loss: 1.6101 - accuracy: 0.2003 - val_loss: 1.6096 - val_accuracy: 0.2000 - lr: 0.0010 - 30s/epoch - 16ms/step
Epoch 373/625
1922/1922 - 30s - loss: 1.6102 - accuracy: 0.2000 - val_loss: 1.6099 - val_accuracy: 0.2000 - lr: 0.0010 - 30s/epoch - 16ms/step
Epoch 374/625
1922/1922 - 30s - loss: 1.6099 - accuracy: 0.2007 - val_loss: 1.6099 - val_accuracy: 0.2000 - lr: 0.0010 - 30s/epoch - 16ms/step
Epoch 375/625
1922/1922 - 30s - loss: 1.6101 - accuracy: 0.1983 - val_loss: 1.6097 - val_accuracy: 0.2000 - lr: 0.0010 - 30s/epoch - 16ms/step
Epoch 376/625
1922/1922 - 30s - loss: 1.6101 - accuracy: 0.1989 - val_loss: 1.6097 - val_accuracy: 0.2000 - lr: 0.0010 - 30s/epoch - 16ms/step
Epoch 377/625
1922/1922 - 30s - loss: 1.6100 - accuracy: 0.1990 - val_loss: 1.6101 - val_accuracy: 0.2000 - lr: 0.0010 - 30s/epoch - 16ms/step
Epoch 378/625
1922/1922 - 30s - loss: 1.6100 - accuracy: 0.2009 - val_loss: 1.6098 - val_accuracy: 0.2000 - lr: 0.0010 - 30s/epoch - 16ms/step
Epoch 379/625
1922/1922 - 30s - loss: 1.6099 - accuracy: 0.2004 - val_loss: 1.6100 - val_accuracy: 0.2000 - lr: 0.0010 - 30s/epoch - 16ms/step
Epoch 380/625
1922/1922 - 30s - loss: 1.6100 - accuracy: 0.1993 - val_loss: 1.6095 - val_accuracy: 0.2000 - lr: 0.0010 - 30s/epoch - 16ms/step
Epoch 381/625
1922/1922 - 30s - loss: 1.6100 - accuracy: 0.1995 - val_loss: 1.6099 - val_accuracy: 0.2000 - lr: 0.0010 - 30s/epoch - 16ms/step
Epoch 382/625
1922/1922 - 30s - loss: 1.6100 - accuracy: 0.2006 - val_loss: 1.6099 - val_accuracy: 0.2000 - lr: 0.0010 - 30s/epoch - 16ms/step
Epoch 383/625
1922/1922 - 30s - loss: 1.6101 - accuracy: 0.1992 - val_loss: 1.6097 - val_accuracy: 0.2000 - lr: 0.0010 - 30s/epoch - 16ms/step
Epoch 384/625
1922/1922 - 30s - loss: 1.6100 - accuracy: 0.2005 - val_loss: 1.6099 - val_accuracy: 0.2000 - lr: 0.0010 - 30s/epoch - 16ms/step
Epoch 385/625
1922/1922 - 30s - loss: 1.6101 - accuracy: 0.1979 - val_loss: 1.6097 - val_accuracy: 0.2000 - lr: 0.0010 - 30s/epoch - 16ms/step
Epoch 386/625
1922/1922 - 30s - loss: 1.6101 - accuracy: 0.1976 - val_loss: 1.6096 - val_accuracy: 0.2000 - lr: 0.0010 - 30s/epoch - 16ms/step
Epoch 387/625
1922/1922 - 30s - loss: 1.6100 - accuracy: 0.1995 - val_loss: 1.6097 - val_accuracy: 0.2000 - lr: 0.0010 - 30s/epoch - 16ms/step
Epoch 388/625
1922/1922 - 30s - loss: 1.6100 - accuracy: 0.2005 - val_loss: 1.6104 - val_accuracy: 0.2000 - lr: 0.0010 - 30s/epoch - 16ms/step
Epoch 389/625
1922/1922 - 30s - loss: 1.6100 - accuracy: 0.2010 - val_loss: 1.6096 - val_accuracy: 0.2000 - lr: 0.0010 - 30s/epoch - 16ms/step
Epoch 390/625
1922/1922 - 30s - loss: 1.6101 - accuracy: 0.1977 - val_loss: 1.6096 - val_accuracy: 0.2000 - lr: 0.0010 - 30s/epoch - 16ms/step
Epoch 391/625
1922/1922 - 30s - loss: 1.6100 - accuracy: 0.1997 - val_loss: 1.6098 - val_accuracy: 0.2000 - lr: 0.0010 - 30s/epoch - 16ms/step
Epoch 392/625
1922/1922 - 30s - loss: 1.6100 - accuracy: 0.1997 - val_loss: 1.6100 - val_accuracy: 0.2000 - lr: 0.0010 - 30s/epoch - 16ms/step
Epoch 393/625
1922/1922 - 30s - loss: 1.6100 - accuracy: 0.2002 - val_loss: 1.6101 - val_accuracy: 0.2000 - lr: 0.0010 - 30s/epoch - 16ms/step
Epoch 394/625
1922/1922 - 30s - loss: 1.6099 - accuracy: 0.2013 - val_loss: 1.6102 - val_accuracy: 0.2000 - lr: 0.0010 - 30s/epoch - 16ms/step
Epoch 395/625
1922/1922 - 30s - loss: 1.6100 - accuracy: 0.2009 - val_loss: 1.6097 - val_accuracy: 0.2000 - lr: 0.0010 - 30s/epoch - 16ms/step
Epoch 396/625
1922/1922 - 30s - loss: 1.6100 - accuracy: 0.1998 - val_loss: 1.6096 - val_accuracy: 0.2000 - lr: 0.0010 - 30s/epoch - 16ms/step
Epoch 397/625
1922/1922 - 30s - loss: 1.6100 - accuracy: 0.1991 - val_loss: 1.6101 - val_accuracy: 0.2000 - lr: 0.0010 - 30s/epoch - 16ms/step
Epoch 398/625
1922/1922 - 30s - loss: 1.6099 - accuracy: 0.2007 - val_loss: 1.6095 - val_accuracy: 0.2000 - lr: 0.0010 - 30s/epoch - 16ms/step
Epoch 399/625
1922/1922 - 30s - loss: 1.6099 - accuracy: 0.2003 - val_loss: 1.6097 - val_accuracy: 0.2000 - lr: 0.0010 - 30s/epoch - 16ms/step
Epoch 400/625
1922/1922 - 30s - loss: 1.6101 - accuracy: 0.2010 - val_loss: 1.6095 - val_accuracy: 0.2000 - lr: 0.0010 - 30s/epoch - 16ms/step
Epoch 401/625
1922/1922 - 30s - loss: 1.6099 - accuracy: 0.1995 - val_loss: 1.6097 - val_accuracy: 0.2000 - lr: 0.0010 - 30s/epoch - 16ms/step
Epoch 402/625
1922/1922 - 30s - loss: 1.6100 - accuracy: 0.1989 - val_loss: 1.6099 - val_accuracy: 0.2000 - lr: 0.0010 - 30s/epoch - 16ms/step
Epoch 403/625
1922/1922 - 30s - loss: 1.6099 - accuracy: 0.1998 - val_loss: 1.6101 - val_accuracy: 0.2000 - lr: 0.0010 - 30s/epoch - 16ms/step
Epoch 404/625
1922/1922 - 30s - loss: 1.6100 - accuracy: 0.1983 - val_loss: 1.6096 - val_accuracy: 0.2000 - lr: 0.0010 - 30s/epoch - 16ms/step
Epoch 405/625
1922/1922 - 30s - loss: 1.6100 - accuracy: 0.1993 - val_loss: 1.6095 - val_accuracy: 0.2000 - lr: 0.0010 - 30s/epoch - 16ms/step
Epoch 406/625
1922/1922 - 30s - loss: 1.6099 - accuracy: 0.2033 - val_loss: 1.6097 - val_accuracy: 0.2000 - lr: 0.0010 - 30s/epoch - 16ms/step
Epoch 407/625
1922/1922 - 30s - loss: 1.6099 - accuracy: 0.2033 - val_loss: 1.6096 - val_accuracy: 0.2000 - lr: 0.0010 - 30s/epoch - 16ms/step
Epoch 408/625
1922/1922 - 30s - loss: 1.6100 - accuracy: 0.1995 - val_loss: 1.6099 - val_accuracy: 0.2000 - lr: 0.0010 - 30s/epoch - 16ms/step
Epoch 409/625
1922/1922 - 30s - loss: 1.6100 - accuracy: 0.1993 - val_loss: 1.6095 - val_accuracy: 0.2000 - lr: 0.0010 - 30s/epoch - 16ms/step
Epoch 410/625
1922/1922 - 30s - loss: 1.6100 - accuracy: 0.1995 - val_loss: 1.6095 - val_accuracy: 0.2000 - lr: 0.0010 - 30s/epoch - 16ms/step
Epoch 411/625
1922/1922 - 30s - loss: 1.6100 - accuracy: 0.1989 - val_loss: 1.6096 - val_accuracy: 0.2000 - lr: 0.0010 - 30s/epoch - 16ms/step
Epoch 412/625
1922/1922 - 30s - loss: 1.6100 - accuracy: 0.2015 - val_loss: 1.6099 - val_accuracy: 0.2000 - lr: 0.0010 - 30s/epoch - 16ms/step
Epoch 413/625
1922/1922 - 30s - loss: 1.6100 - accuracy: 0.1989 - val_loss: 1.6097 - val_accuracy: 0.2000 - lr: 0.0010 - 30s/epoch - 16ms/step
Epoch 414/625
1922/1922 - 30s - loss: 1.6100 - accuracy: 0.1998 - val_loss: 1.6095 - val_accuracy: 0.2000 - lr: 0.0010 - 30s/epoch - 16ms/step
Epoch 415/625
1922/1922 - 32s - loss: 1.6100 - accuracy: 0.1981 - val_loss: 1.6095 - val_accuracy: 0.2000 - lr: 0.0010 - 32s/epoch - 16ms/step
Epoch 416/625
1922/1922 - 31s - loss: 1.6100 - accuracy: 0.1992 - val_loss: 1.6097 - val_accuracy: 0.2000 - lr: 0.0010 - 31s/epoch - 16ms/step
Epoch 417/625
1922/1922 - 30s - loss: 1.6100 - accuracy: 0.2002 - val_loss: 1.6095 - val_accuracy: 0.2000 - lr: 0.0010 - 30s/epoch - 16ms/step
Epoch 418/625
1922/1922 - 30s - loss: 1.6099 - accuracy: 0.1997 - val_loss: 1.6095 - val_accuracy: 0.2000 - lr: 0.0010 - 30s/epoch - 16ms/step
Epoch 419/625
1922/1922 - 30s - loss: 1.6100 - accuracy: 0.1983 - val_loss: 1.6097 - val_accuracy: 0.2000 - lr: 0.0010 - 30s/epoch - 16ms/step
Epoch 420/625
1922/1922 - 30s - loss: 1.6100 - accuracy: 0.1979 - val_loss: 1.6097 - val_accuracy: 0.2000 - lr: 0.0010 - 30s/epoch - 16ms/step
Epoch 421/625
1922/1922 - 30s - loss: 1.6099 - accuracy: 0.1984 - val_loss: 1.6096 - val_accuracy: 0.2000 - lr: 0.0010 - 30s/epoch - 16ms/step
Epoch 422/625
1922/1922 - 30s - loss: 1.6099 - accuracy: 0.1999 - val_loss: 1.6095 - val_accuracy: 0.2000 - lr: 0.0010 - 30s/epoch - 16ms/step
Epoch 423/625
1922/1922 - 30s - loss: 1.6099 - accuracy: 0.1982 - val_loss: 1.6099 - val_accuracy: 0.2000 - lr: 0.0010 - 30s/epoch - 16ms/step
Epoch 424/625
1922/1922 - 30s - loss: 1.6098 - accuracy: 0.2013 - val_loss: 1.6095 - val_accuracy: 0.2000 - lr: 0.0010 - 30s/epoch - 16ms/step
Epoch 425/625
1922/1922 - 30s - loss: 1.6100 - accuracy: 0.2021 - val_loss: 1.6097 - val_accuracy: 0.2000 - lr: 0.0010 - 30s/epoch - 16ms/step
Epoch 426/625
1922/1922 - 30s - loss: 1.6099 - accuracy: 0.2007 - val_loss: 1.6096 - val_accuracy: 0.2000 - lr: 0.0010 - 30s/epoch - 16ms/step
Epoch 427/625
1922/1922 - 30s - loss: 1.6099 - accuracy: 0.2000 - val_loss: 1.6096 - val_accuracy: 0.2000 - lr: 0.0010 - 30s/epoch - 16ms/step
Epoch 428/625
1922/1922 - 30s - loss: 1.6099 - accuracy: 0.1984 - val_loss: 1.6097 - val_accuracy: 0.2000 - lr: 0.0010 - 30s/epoch - 16ms/step
Epoch 429/625
1922/1922 - 30s - loss: 1.6100 - accuracy: 0.1980 - val_loss: 1.6096 - val_accuracy: 0.2000 - lr: 0.0010 - 30s/epoch - 16ms/step
Epoch 430/625
1922/1922 - 30s - loss: 1.6100 - accuracy: 0.1998 - val_loss: 1.6097 - val_accuracy: 0.2000 - lr: 0.0010 - 30s/epoch - 16ms/step
Epoch 431/625
1922/1922 - 30s - loss: 1.6099 - accuracy: 0.2010 - val_loss: 1.6100 - val_accuracy: 0.2000 - lr: 0.0010 - 30s/epoch - 16ms/step
Epoch 432/625
1922/1922 - 30s - loss: 1.6099 - accuracy: 0.2003 - val_loss: 1.6096 - val_accuracy: 0.2000 - lr: 0.0010 - 30s/epoch - 16ms/step
Epoch 433/625
1922/1922 - 30s - loss: 1.6099 - accuracy: 0.1991 - val_loss: 1.6095 - val_accuracy: 0.2000 - lr: 0.0010 - 30s/epoch - 16ms/step
Epoch 434/625
1922/1922 - 30s - loss: 1.6099 - accuracy: 0.1992 - val_loss: 1.6098 - val_accuracy: 0.2000 - lr: 0.0010 - 30s/epoch - 16ms/step
Epoch 435/625
1922/1922 - 30s - loss: 1.6099 - accuracy: 0.1989 - val_loss: 1.6095 - val_accuracy: 0.2000 - lr: 0.0010 - 30s/epoch - 16ms/step
Epoch 436/625
1922/1922 - 30s - loss: 1.6099 - accuracy: 0.2008 - val_loss: 1.6096 - val_accuracy: 0.2000 - lr: 0.0010 - 30s/epoch - 16ms/step
Epoch 437/625
1922/1922 - 30s - loss: 1.6099 - accuracy: 0.2008 - val_loss: 1.6101 - val_accuracy: 0.2000 - lr: 0.0010 - 30s/epoch - 16ms/step
Epoch 438/625
1922/1922 - 30s - loss: 1.6099 - accuracy: 0.1987 - val_loss: 1.6098 - val_accuracy: 0.2000 - lr: 0.0010 - 30s/epoch - 16ms/step
Epoch 439/625
1922/1922 - 30s - loss: 1.6100 - accuracy: 0.1992 - val_loss: 1.6099 - val_accuracy: 0.2000 - lr: 0.0010 - 30s/epoch - 16ms/step
Epoch 440/625
1922/1922 - 30s - loss: 1.6100 - accuracy: 0.1982 - val_loss: 1.6095 - val_accuracy: 0.2000 - lr: 0.0010 - 30s/epoch - 16ms/step
Epoch 441/625
1922/1922 - 30s - loss: 1.6100 - accuracy: 0.1995 - val_loss: 1.6096 - val_accuracy: 0.2000 - lr: 0.0010 - 30s/epoch - 16ms/step
Epoch 442/625
1922/1922 - 30s - loss: 1.6100 - accuracy: 0.1971 - val_loss: 1.6097 - val_accuracy: 0.2000 - lr: 0.0010 - 30s/epoch - 16ms/step
Epoch 443/625
1922/1922 - 30s - loss: 1.6100 - accuracy: 0.1989 - val_loss: 1.6096 - val_accuracy: 0.2000 - lr: 0.0010 - 30s/epoch - 16ms/step
Epoch 444/625
1922/1922 - 30s - loss: 1.6099 - accuracy: 0.1990 - val_loss: 1.6101 - val_accuracy: 0.2000 - lr: 0.0010 - 30s/epoch - 16ms/step
Epoch 445/625
1922/1922 - 30s - loss: 1.6099 - accuracy: 0.1998 - val_loss: 1.6099 - val_accuracy: 0.2000 - lr: 0.0010 - 30s/epoch - 16ms/step
Epoch 446/625
1922/1922 - 30s - loss: 1.6099 - accuracy: 0.2006 - val_loss: 1.6098 - val_accuracy: 0.2000 - lr: 0.0010 - 30s/epoch - 16ms/step
Epoch 447/625
1922/1922 - 30s - loss: 1.6100 - accuracy: 0.2004 - val_loss: 1.6099 - val_accuracy: 0.2000 - lr: 0.0010 - 30s/epoch - 16ms/step
Epoch 448/625
1922/1922 - 30s - loss: 1.6099 - accuracy: 0.2009 - val_loss: 1.6095 - val_accuracy: 0.2000 - lr: 0.0010 - 30s/epoch - 16ms/step
Epoch 449/625
1922/1922 - 30s - loss: 1.6099 - accuracy: 0.1998 - val_loss: 1.6095 - val_accuracy: 0.2000 - lr: 0.0010 - 30s/epoch - 16ms/step
Epoch 450/625
1922/1922 - 30s - loss: 1.6100 - accuracy: 0.1988 - val_loss: 1.6096 - val_accuracy: 0.2000 - lr: 0.0010 - 30s/epoch - 16ms/step
Epoch 451/625
1922/1922 - 30s - loss: 1.6099 - accuracy: 0.2001 - val_loss: 1.6095 - val_accuracy: 0.2000 - lr: 0.0010 - 30s/epoch - 16ms/step
Epoch 452/625
1922/1922 - 30s - loss: 1.6099 - accuracy: 0.1998 - val_loss: 1.6097 - val_accuracy: 0.2000 - lr: 0.0010 - 30s/epoch - 16ms/step
Epoch 453/625
1922/1922 - 30s - loss: 1.6099 - accuracy: 0.1992 - val_loss: 1.6097 - val_accuracy: 0.2000 - lr: 0.0010 - 30s/epoch - 16ms/step
Epoch 454/625
1922/1922 - 30s - loss: 1.6098 - accuracy: 0.2010 - val_loss: 1.6095 - val_accuracy: 0.2000 - lr: 0.0010 - 30s/epoch - 16ms/step
Epoch 455/625
1922/1922 - 30s - loss: 1.6099 - accuracy: 0.2000 - val_loss: 1.6098 - val_accuracy: 0.2000 - lr: 0.0010 - 30s/epoch - 16ms/step
Epoch 456/625
1922/1922 - 30s - loss: 1.6099 - accuracy: 0.1983 - val_loss: 1.6096 - val_accuracy: 0.2000 - lr: 0.0010 - 30s/epoch - 16ms/step
Epoch 457/625
1922/1922 - 30s - loss: 1.6099 - accuracy: 0.2014 - val_loss: 1.6096 - val_accuracy: 0.2000 - lr: 0.0010 - 30s/epoch - 16ms/step
Epoch 458/625
1922/1922 - 30s - loss: 1.6099 - accuracy: 0.1987 - val_loss: 1.6095 - val_accuracy: 0.2000 - lr: 0.0010 - 30s/epoch - 16ms/step
Epoch 459/625
1922/1922 - 30s - loss: 1.6099 - accuracy: 0.1994 - val_loss: 1.6096 - val_accuracy: 0.2000 - lr: 0.0010 - 30s/epoch - 16ms/step
Epoch 460/625
1922/1922 - 30s - loss: 1.6099 - accuracy: 0.2009 - val_loss: 1.6097 - val_accuracy: 0.2000 - lr: 0.0010 - 30s/epoch - 16ms/step
Epoch 461/625
1922/1922 - 30s - loss: 1.6099 - accuracy: 0.1981 - val_loss: 1.6095 - val_accuracy: 0.2000 - lr: 0.0010 - 30s/epoch - 16ms/step
Epoch 462/625
1922/1922 - 30s - loss: 1.6099 - accuracy: 0.1980 - val_loss: 1.6098 - val_accuracy: 0.2000 - lr: 0.0010 - 30s/epoch - 16ms/step
Epoch 463/625
1922/1922 - 30s - loss: 1.6099 - accuracy: 0.1988 - val_loss: 1.6096 - val_accuracy: 0.2000 - lr: 0.0010 - 30s/epoch - 16ms/step
Epoch 464/625
1922/1922 - 30s - loss: 1.6098 - accuracy: 0.2012 - val_loss: 1.6097 - val_accuracy: 0.2000 - lr: 0.0010 - 30s/epoch - 16ms/step
Epoch 465/625
1922/1922 - 30s - loss: 1.6099 - accuracy: 0.1998 - val_loss: 1.6095 - val_accuracy: 0.2000 - lr: 0.0010 - 30s/epoch - 16ms/step
Epoch 466/625
1922/1922 - 30s - loss: 1.6099 - accuracy: 0.1995 - val_loss: 1.6097 - val_accuracy: 0.2000 - lr: 0.0010 - 30s/epoch - 16ms/step
Epoch 467/625
1922/1922 - 30s - loss: 1.6099 - accuracy: 0.1986 - val_loss: 1.6095 - val_accuracy: 0.2000 - lr: 0.0010 - 30s/epoch - 16ms/step
Epoch 468/625
1922/1922 - 30s - loss: 1.6099 - accuracy: 0.1988 - val_loss: 1.6095 - val_accuracy: 0.2000 - lr: 0.0010 - 30s/epoch - 16ms/step
Epoch 469/625
1922/1922 - 30s - loss: 1.6099 - accuracy: 0.1994 - val_loss: 1.6098 - val_accuracy: 0.2000 - lr: 0.0010 - 30s/epoch - 16ms/step
Epoch 470/625
1922/1922 - 30s - loss: 1.6099 - accuracy: 0.1993 - val_loss: 1.6098 - val_accuracy: 0.2000 - lr: 0.0010 - 30s/epoch - 16ms/step
Epoch 471/625
1922/1922 - 30s - loss: 1.6099 - accuracy: 0.1996 - val_loss: 1.6095 - val_accuracy: 0.2000 - lr: 0.0010 - 30s/epoch - 16ms/step
Epoch 472/625
1922/1922 - 30s - loss: 1.6098 - accuracy: 0.2016 - val_loss: 1.6097 - val_accuracy: 0.2000 - lr: 0.0010 - 30s/epoch - 16ms/step
Epoch 473/625
1922/1922 - 30s - loss: 1.6099 - accuracy: 0.2001 - val_loss: 1.6095 - val_accuracy: 0.2000 - lr: 0.0010 - 30s/epoch - 16ms/step
Epoch 474/625
1922/1922 - 30s - loss: 1.6098 - accuracy: 0.1997 - val_loss: 1.6096 - val_accuracy: 0.2000 - lr: 0.0010 - 30s/epoch - 16ms/step
Epoch 475/625
1922/1922 - 30s - loss: 1.6099 - accuracy: 0.1995 - val_loss: 1.6095 - val_accuracy: 0.2000 - lr: 0.0010 - 30s/epoch - 16ms/step
Epoch 476/625
1922/1922 - 30s - loss: 1.6099 - accuracy: 0.1971 - val_loss: 1.6097 - val_accuracy: 0.2000 - lr: 0.0010 - 30s/epoch - 16ms/step
Epoch 477/625
1922/1922 - 30s - loss: 1.6099 - accuracy: 0.1979 - val_loss: 1.6096 - val_accuracy: 0.2000 - lr: 0.0010 - 30s/epoch - 16ms/step
Epoch 478/625
1922/1922 - 30s - loss: 1.6099 - accuracy: 0.1990 - val_loss: 1.6095 - val_accuracy: 0.2000 - lr: 0.0010 - 30s/epoch - 16ms/step
Epoch 479/625
1922/1922 - 30s - loss: 1.6098 - accuracy: 0.1976 - val_loss: 1.6097 - val_accuracy: 0.2000 - lr: 0.0010 - 30s/epoch - 16ms/step
Epoch 480/625
1922/1922 - 30s - loss: 1.6098 - accuracy: 0.2002 - val_loss: 1.6095 - val_accuracy: 0.2000 - lr: 0.0010 - 30s/epoch - 16ms/step
Epoch 481/625
1922/1922 - 30s - loss: 1.6099 - accuracy: 0.1987 - val_loss: 1.6094 - val_accuracy: 0.2000 - lr: 0.0010 - 30s/epoch - 16ms/step
Epoch 482/625
1922/1922 - 30s - loss: 1.6099 - accuracy: 0.1988 - val_loss: 1.6097 - val_accuracy: 0.2000 - lr: 0.0010 - 30s/epoch - 16ms/step
Epoch 483/625
1922/1922 - 30s - loss: 1.6098 - accuracy: 0.1996 - val_loss: 1.6096 - val_accuracy: 0.2000 - lr: 0.0010 - 30s/epoch - 16ms/step
Epoch 484/625
1922/1922 - 30s - loss: 1.6098 - accuracy: 0.1987 - val_loss: 1.6095 - val_accuracy: 0.2000 - lr: 0.0010 - 30s/epoch - 16ms/step
Epoch 485/625
1922/1922 - 30s - loss: 1.6098 - accuracy: 0.2002 - val_loss: 1.6096 - val_accuracy: 0.2000 - lr: 0.0010 - 30s/epoch - 16ms/step
Epoch 486/625
1922/1922 - 30s - loss: 1.6098 - accuracy: 0.2011 - val_loss: 1.6097 - val_accuracy: 0.2000 - lr: 0.0010 - 30s/epoch - 16ms/step
Epoch 487/625
1922/1922 - 30s - loss: 1.6099 - accuracy: 0.1978 - val_loss: 1.6097 - val_accuracy: 0.2000 - lr: 0.0010 - 30s/epoch - 16ms/step
Epoch 488/625
1922/1922 - 30s - loss: 1.6099 - accuracy: 0.1993 - val_loss: 1.6096 - val_accuracy: 0.2000 - lr: 0.0010 - 30s/epoch - 16ms/step
Epoch 489/625
1922/1922 - 30s - loss: 1.6098 - accuracy: 0.1992 - val_loss: 1.6095 - val_accuracy: 0.2000 - lr: 0.0010 - 30s/epoch - 16ms/step
Epoch 490/625
1922/1922 - 30s - loss: 1.6098 - accuracy: 0.2008 - val_loss: 1.6095 - val_accuracy: 0.2000 - lr: 0.0010 - 30s/epoch - 16ms/step
Epoch 491/625
1922/1922 - 30s - loss: 1.6098 - accuracy: 0.2017 - val_loss: 1.6096 - val_accuracy: 0.2000 - lr: 0.0010 - 30s/epoch - 16ms/step
Epoch 492/625
1922/1922 - 30s - loss: 1.6098 - accuracy: 0.2008 - val_loss: 1.6097 - val_accuracy: 0.2000 - lr: 0.0010 - 30s/epoch - 16ms/step
Epoch 493/625
1922/1922 - 30s - loss: 1.6098 - accuracy: 0.1990 - val_loss: 1.6101 - val_accuracy: 0.2000 - lr: 0.0010 - 30s/epoch - 16ms/step
Epoch 494/625
1922/1922 - 30s - loss: 1.6099 - accuracy: 0.2005 - val_loss: 1.6097 - val_accuracy: 0.2000 - lr: 0.0010 - 30s/epoch - 16ms/step
Epoch 495/625
1922/1922 - 30s - loss: 1.6098 - accuracy: 0.1995 - val_loss: 1.6095 - val_accuracy: 0.2000 - lr: 0.0010 - 30s/epoch - 16ms/step
Epoch 496/625
1922/1922 - 30s - loss: 1.6098 - accuracy: 0.1985 - val_loss: 1.6096 - val_accuracy: 0.2000 - lr: 0.0010 - 30s/epoch - 16ms/step
Epoch 497/625
1922/1922 - 30s - loss: 1.6098 - accuracy: 0.2018 - val_loss: 1.6097 - val_accuracy: 0.2000 - lr: 0.0010 - 30s/epoch - 16ms/step
Epoch 498/625
1922/1922 - 30s - loss: 1.6098 - accuracy: 0.1992 - val_loss: 1.6096 - val_accuracy: 0.2000 - lr: 0.0010 - 30s/epoch - 16ms/step
Epoch 499/625
1922/1922 - 30s - loss: 1.6098 - accuracy: 0.2013 - val_loss: 1.6098 - val_accuracy: 0.2000 - lr: 0.0010 - 30s/epoch - 16ms/step
Epoch 500/625
1922/1922 - 30s - loss: 1.6098 - accuracy: 0.1988 - val_loss: 1.6097 - val_accuracy: 0.2000 - lr: 0.0010 - 30s/epoch - 16ms/step
Epoch 501/625
1922/1922 - 30s - loss: 1.6098 - accuracy: 0.1993 - val_loss: 1.6095 - val_accuracy: 0.2000 - lr: 0.0010 - 30s/epoch - 16ms/step
Epoch 502/625
1922/1922 - 30s - loss: 1.6098 - accuracy: 0.1985 - val_loss: 1.6097 - val_accuracy: 0.2000 - lr: 0.0010 - 30s/epoch - 16ms/step
Epoch 503/625
1922/1922 - 30s - loss: 1.6098 - accuracy: 0.1982 - val_loss: 1.6097 - val_accuracy: 0.2000 - lr: 0.0010 - 30s/epoch - 16ms/step
Epoch 504/625
1922/1922 - 30s - loss: 1.6097 - accuracy: 0.2011 - val_loss: 1.6095 - val_accuracy: 0.2000 - lr: 0.0010 - 30s/epoch - 16ms/step
Epoch 505/625
1922/1922 - 30s - loss: 1.6098 - accuracy: 0.1992 - val_loss: 1.6096 - val_accuracy: 0.2000 - lr: 0.0010 - 30s/epoch - 16ms/step
Epoch 506/625
1922/1922 - 30s - loss: 1.6098 - accuracy: 0.2005 - val_loss: 1.6096 - val_accuracy: 0.2000 - lr: 0.0010 - 30s/epoch - 16ms/step
Epoch 507/625
1922/1922 - 30s - loss: 1.6097 - accuracy: 0.1995 - val_loss: 1.6095 - val_accuracy: 0.2000 - lr: 0.0010 - 30s/epoch - 16ms/step
Epoch 508/625
1922/1922 - 30s - loss: 1.6097 - accuracy: 0.2016 - val_loss: 1.6095 - val_accuracy: 0.2000 - lr: 0.0010 - 30s/epoch - 16ms/step
Epoch 509/625
1922/1922 - 30s - loss: 1.6098 - accuracy: 0.2012 - val_loss: 1.6096 - val_accuracy: 0.2000 - lr: 0.0010 - 30s/epoch - 16ms/step
Epoch 510/625
1922/1922 - 30s - loss: 1.6099 - accuracy: 0.1999 - val_loss: 1.6096 - val_accuracy: 0.2000 - lr: 0.0010 - 30s/epoch - 16ms/step
Epoch 511/625
1922/1922 - 30s - loss: 1.6098 - accuracy: 0.1994 - val_loss: 1.6096 - val_accuracy: 0.2000 - lr: 0.0010 - 30s/epoch - 16ms/step
Epoch 512/625
1922/1922 - 30s - loss: 1.6098 - accuracy: 0.2005 - val_loss: 1.6096 - val_accuracy: 0.2000 - lr: 0.0010 - 30s/epoch - 16ms/step
Epoch 513/625
1922/1922 - 30s - loss: 1.6097 - accuracy: 0.2001 - val_loss: 1.6095 - val_accuracy: 0.2000 - lr: 0.0010 - 30s/epoch - 16ms/step
Epoch 514/625
1922/1922 - 30s - loss: 1.6097 - accuracy: 0.2006 - val_loss: 1.6096 - val_accuracy: 0.2000 - lr: 0.0010 - 30s/epoch - 16ms/step
Epoch 515/625
1922/1922 - 30s - loss: 1.6098 - accuracy: 0.1979 - val_loss: 1.6095 - val_accuracy: 0.2000 - lr: 0.0010 - 30s/epoch - 16ms/step
Epoch 516/625
1922/1922 - 30s - loss: 1.6097 - accuracy: 0.2007 - val_loss: 1.6095 - val_accuracy: 0.2000 - lr: 0.0010 - 30s/epoch - 16ms/step
Epoch 517/625
1922/1922 - 30s - loss: 1.6098 - accuracy: 0.1968 - val_loss: 1.6096 - val_accuracy: 0.2000 - lr: 0.0010 - 30s/epoch - 16ms/step
Epoch 518/625
1922/1922 - 30s - loss: 1.6098 - accuracy: 0.1992 - val_loss: 1.6095 - val_accuracy: 0.2000 - lr: 0.0010 - 30s/epoch - 16ms/step
Epoch 519/625
1922/1922 - 30s - loss: 1.6097 - accuracy: 0.1992 - val_loss: 1.6096 - val_accuracy: 0.2000 - lr: 0.0010 - 30s/epoch - 16ms/step
Epoch 520/625
1922/1922 - 30s - loss: 1.6097 - accuracy: 0.2000 - val_loss: 1.6095 - val_accuracy: 0.2000 - lr: 0.0010 - 30s/epoch - 16ms/step
Epoch 521/625
1922/1922 - 30s - loss: 1.6097 - accuracy: 0.1976 - val_loss: 1.6095 - val_accuracy: 0.2000 - lr: 0.0010 - 30s/epoch - 16ms/step
Epoch 522/625
1922/1922 - 30s - loss: 1.6097 - accuracy: 0.2000 - val_loss: 1.6096 - val_accuracy: 0.2000 - lr: 0.0010 - 30s/epoch - 16ms/step
Epoch 523/625
1922/1922 - 30s - loss: 1.6097 - accuracy: 0.1986 - val_loss: 1.6097 - val_accuracy: 0.2000 - lr: 0.0010 - 30s/epoch - 16ms/step
Epoch 524/625
1922/1922 - 30s - loss: 1.6097 - accuracy: 0.1994 - val_loss: 1.6096 - val_accuracy: 0.2000 - lr: 0.0010 - 30s/epoch - 16ms/step
Epoch 525/625
1922/1922 - 30s - loss: 1.6097 - accuracy: 0.1992 - val_loss: 1.6095 - val_accuracy: 0.2000 - lr: 0.0010 - 30s/epoch - 15ms/step
Epoch 526/625
1922/1922 - 30s - loss: 1.6096 - accuracy: 0.1998 - val_loss: 1.6096 - val_accuracy: 0.2000 - lr: 0.0010 - 30s/epoch - 16ms/step
Epoch 527/625
1922/1922 - 30s - loss: 1.6097 - accuracy: 0.2006 - val_loss: 1.6096 - val_accuracy: 0.2000 - lr: 0.0010 - 30s/epoch - 16ms/step
Epoch 528/625
1922/1922 - 30s - loss: 1.6096 - accuracy: 0.1984 - val_loss: 1.6097 - val_accuracy: 0.2000 - lr: 0.0010 - 30s/epoch - 16ms/step
Epoch 529/625
1922/1922 - 30s - loss: 1.6097 - accuracy: 0.1999 - val_loss: 1.6096 - val_accuracy: 0.2000 - lr: 0.0010 - 30s/epoch - 16ms/step
Epoch 530/625
1922/1922 - 30s - loss: 1.6096 - accuracy: 0.2002 - val_loss: 1.6095 - val_accuracy: 0.2000 - lr: 0.0010 - 30s/epoch - 16ms/step
Epoch 531/625
1922/1922 - 30s - loss: 1.6097 - accuracy: 0.1993 - val_loss: 1.6095 - val_accuracy: 0.2000 - lr: 0.0010 - 30s/epoch - 16ms/step
Epoch 532/625
1922/1922 - 30s - loss: 1.6097 - accuracy: 0.1983 - val_loss: 1.6095 - val_accuracy: 0.2000 - lr: 0.0010 - 30s/epoch - 16ms/step
Epoch 533/625
1922/1922 - 30s - loss: 1.6097 - accuracy: 0.1978 - val_loss: 1.6095 - val_accuracy: 0.2000 - lr: 0.0010 - 30s/epoch - 16ms/step
Epoch 534/625
1922/1922 - 31s - loss: 1.6096 - accuracy: 0.2016 - val_loss: 1.6096 - val_accuracy: 0.2000 - lr: 0.0010 - 31s/epoch - 16ms/step
Epoch 535/625
1922/1922 - 32s - loss: 1.6096 - accuracy: 0.1998 - val_loss: 1.6095 - val_accuracy: 0.2000 - lr: 0.0010 - 32s/epoch - 17ms/step
Epoch 536/625
1922/1922 - 30s - loss: 1.6097 - accuracy: 0.1993 - val_loss: 1.6095 - val_accuracy: 0.2000 - lr: 0.0010 - 30s/epoch - 16ms/step
Epoch 537/625
1922/1922 - 30s - loss: 1.6096 - accuracy: 0.1988 - val_loss: 1.6095 - val_accuracy: 0.2000 - lr: 0.0010 - 30s/epoch - 16ms/step
Epoch 538/625
1922/1922 - 30s - loss: 1.6097 - accuracy: 0.1985 - val_loss: 1.6095 - val_accuracy: 0.2000 - lr: 0.0010 - 30s/epoch - 16ms/step
Epoch 539/625
1922/1922 - 30s - loss: 1.6096 - accuracy: 0.2003 - val_loss: 1.6095 - val_accuracy: 0.2000 - lr: 0.0010 - 30s/epoch - 16ms/step
Epoch 540/625
1922/1922 - 30s - loss: 1.6096 - accuracy: 0.2003 - val_loss: 1.6095 - val_accuracy: 0.2000 - lr: 0.0010 - 30s/epoch - 16ms/step
Epoch 541/625
1922/1922 - 30s - loss: 1.6097 - accuracy: 0.1984 - val_loss: 1.6095 - val_accuracy: 0.2000 - lr: 0.0010 - 30s/epoch - 16ms/step
Epoch 542/625
1922/1922 - 30s - loss: 1.6096 - accuracy: 0.1974 - val_loss: 1.6095 - val_accuracy: 0.2000 - lr: 0.0010 - 30s/epoch - 16ms/step
Epoch 543/625
1922/1922 - 30s - loss: 1.6097 - accuracy: 0.1988 - val_loss: 1.6095 - val_accuracy: 0.2000 - lr: 0.0010 - 30s/epoch - 16ms/step
Epoch 544/625
1922/1922 - 30s - loss: 1.6096 - accuracy: 0.1989 - val_loss: 1.6095 - val_accuracy: 0.2000 - lr: 0.0010 - 30s/epoch - 16ms/step
Epoch 545/625
1922/1922 - 30s - loss: 1.6096 - accuracy: 0.1998 - val_loss: 1.6095 - val_accuracy: 0.2000 - lr: 0.0010 - 30s/epoch - 16ms/step
Epoch 546/625
1922/1922 - 30s - loss: 1.6096 - accuracy: 0.2005 - val_loss: 1.6095 - val_accuracy: 0.2000 - lr: 0.0010 - 30s/epoch - 16ms/step
Epoch 547/625
1922/1922 - 30s - loss: 1.6096 - accuracy: 0.2013 - val_loss: 1.6096 - val_accuracy: 0.2000 - lr: 0.0010 - 30s/epoch - 16ms/step
Epoch 548/625
1922/1922 - 30s - loss: 1.6097 - accuracy: 0.1972 - val_loss: 1.6095 - val_accuracy: 0.2000 - lr: 0.0010 - 30s/epoch - 16ms/step
Epoch 549/625
1922/1922 - 30s - loss: 1.6096 - accuracy: 0.1998 - val_loss: 1.6096 - val_accuracy: 0.2000 - lr: 0.0010 - 30s/epoch - 16ms/step
Epoch 550/625
1922/1922 - 30s - loss: 1.6096 - accuracy: 0.1980 - val_loss: 1.6095 - val_accuracy: 0.2000 - lr: 0.0010 - 30s/epoch - 16ms/step
Epoch 551/625
1922/1922 - 30s - loss: 1.6097 - accuracy: 0.1993 - val_loss: 1.6095 - val_accuracy: 0.2000 - lr: 0.0010 - 30s/epoch - 16ms/step
Epoch 552/625
1922/1922 - 30s - loss: 1.6096 - accuracy: 0.2008 - val_loss: 1.6096 - val_accuracy: 0.2000 - lr: 0.0010 - 30s/epoch - 16ms/step
Epoch 553/625
1922/1922 - 30s - loss: 1.6097 - accuracy: 0.1979 - val_loss: 1.6095 - val_accuracy: 0.2000 - lr: 0.0010 - 30s/epoch - 16ms/step
Epoch 554/625
1922/1922 - 30s - loss: 1.6096 - accuracy: 0.1986 - val_loss: 1.6095 - val_accuracy: 0.2000 - lr: 0.0010 - 30s/epoch - 16ms/step
Epoch 555/625
1922/1922 - 30s - loss: 1.6097 - accuracy: 0.1988 - val_loss: 1.6095 - val_accuracy: 0.2000 - lr: 0.0010 - 30s/epoch - 16ms/step
Epoch 556/625
1922/1922 - 30s - loss: 1.6096 - accuracy: 0.1970 - val_loss: 1.6095 - val_accuracy: 0.2000 - lr: 0.0010 - 30s/epoch - 16ms/step
Epoch 557/625
1922/1922 - 30s - loss: 1.6096 - accuracy: 0.1995 - val_loss: 1.6095 - val_accuracy: 0.2000 - lr: 0.0010 - 30s/epoch - 16ms/step
Epoch 558/625
1922/1922 - 30s - loss: 1.6097 - accuracy: 0.1977 - val_loss: 1.6095 - val_accuracy: 0.2000 - lr: 0.0010 - 30s/epoch - 16ms/step
Epoch 559/625
1922/1922 - 30s - loss: 1.6097 - accuracy: 0.1993 - val_loss: 1.6095 - val_accuracy: 0.2000 - lr: 0.0010 - 30s/epoch - 16ms/step
Epoch 560/625
1922/1922 - 30s - loss: 1.6096 - accuracy: 0.1977 - val_loss: 1.6094 - val_accuracy: 0.2000 - lr: 0.0010 - 30s/epoch - 16ms/step
Epoch 561/625
1922/1922 - 30s - loss: 1.6096 - accuracy: 0.2003 - val_loss: 1.6096 - val_accuracy: 0.2000 - lr: 0.0010 - 30s/epoch - 16ms/step
Epoch 562/625
1922/1922 - 30s - loss: 1.6096 - accuracy: 0.1997 - val_loss: 1.6095 - val_accuracy: 0.2000 - lr: 0.0010 - 30s/epoch - 16ms/step
Epoch 563/625
1922/1922 - 30s - loss: 1.6096 - accuracy: 0.2011 - val_loss: 1.6095 - val_accuracy: 0.2000 - lr: 0.0010 - 30s/epoch - 16ms/step
Epoch 564/625
1922/1922 - 30s - loss: 1.6097 - accuracy: 0.1998 - val_loss: 1.6095 - val_accuracy: 0.2000 - lr: 0.0010 - 30s/epoch - 16ms/step
Epoch 565/625
1922/1922 - 30s - loss: 1.6096 - accuracy: 0.1985 - val_loss: 1.6095 - val_accuracy: 0.2000 - lr: 0.0010 - 30s/epoch - 16ms/step
Epoch 566/625
1922/1922 - 30s - loss: 1.6096 - accuracy: 0.1991 - val_loss: 1.6096 - val_accuracy: 0.2000 - lr: 0.0010 - 30s/epoch - 16ms/step
Epoch 567/625
1922/1922 - 30s - loss: 1.6097 - accuracy: 0.1985 - val_loss: 1.6095 - val_accuracy: 0.2000 - lr: 0.0010 - 30s/epoch - 16ms/step
Epoch 568/625
1922/1922 - 30s - loss: 1.6096 - accuracy: 0.2006 - val_loss: 1.6095 - val_accuracy: 0.2000 - lr: 0.0010 - 30s/epoch - 16ms/step
Epoch 569/625
1922/1922 - 30s - loss: 1.6096 - accuracy: 0.1993 - val_loss: 1.6094 - val_accuracy: 0.2000 - lr: 0.0010 - 30s/epoch - 16ms/step
Epoch 570/625
1922/1922 - 30s - loss: 1.6096 - accuracy: 0.2007 - val_loss: 1.6095 - val_accuracy: 0.2000 - lr: 0.0010 - 30s/epoch - 16ms/step
Epoch 571/625
1922/1922 - 30s - loss: 1.6097 - accuracy: 0.1978 - val_loss: 1.6095 - val_accuracy: 0.2000 - lr: 0.0010 - 30s/epoch - 16ms/step
Epoch 572/625
1922/1922 - 30s - loss: 1.6097 - accuracy: 0.1977 - val_loss: 1.6095 - val_accuracy: 0.2000 - lr: 0.0010 - 30s/epoch - 16ms/step
Epoch 573/625
1922/1922 - 30s - loss: 1.6095 - accuracy: 0.2028 - val_loss: 1.6096 - val_accuracy: 0.2000 - lr: 0.0010 - 30s/epoch - 16ms/step
Epoch 574/625
1922/1922 - 30s - loss: 1.6097 - accuracy: 0.1993 - val_loss: 1.6095 - val_accuracy: 0.2000 - lr: 0.0010 - 30s/epoch - 16ms/step
Epoch 575/625
1922/1922 - 30s - loss: 1.6096 - accuracy: 0.1999 - val_loss: 1.6095 - val_accuracy: 0.2000 - lr: 0.0010 - 30s/epoch - 16ms/step
Epoch 576/625
1922/1922 - 30s - loss: 1.6096 - accuracy: 0.1993 - val_loss: 1.6095 - val_accuracy: 0.2000 - lr: 0.0010 - 30s/epoch - 16ms/step
Epoch 577/625
1922/1922 - 30s - loss: 1.6096 - accuracy: 0.1980 - val_loss: 1.6095 - val_accuracy: 0.2000 - lr: 0.0010 - 30s/epoch - 16ms/step
Epoch 578/625
1922/1922 - 30s - loss: 1.6096 - accuracy: 0.1996 - val_loss: 1.6095 - val_accuracy: 0.2000 - lr: 0.0010 - 30s/epoch - 16ms/step
Epoch 579/625
1922/1922 - 30s - loss: 1.6096 - accuracy: 0.1991 - val_loss: 1.6095 - val_accuracy: 0.2000 - lr: 0.0010 - 30s/epoch - 16ms/step
Epoch 580/625
1922/1922 - 30s - loss: 1.6096 - accuracy: 0.2003 - val_loss: 1.6095 - val_accuracy: 0.2000 - lr: 0.0010 - 30s/epoch - 16ms/step
Epoch 581/625
1922/1922 - 30s - loss: 1.6096 - accuracy: 0.1994 - val_loss: 1.6096 - val_accuracy: 0.2000 - lr: 0.0010 - 30s/epoch - 16ms/step
Epoch 582/625
1922/1922 - 30s - loss: 1.6096 - accuracy: 0.1984 - val_loss: 1.6095 - val_accuracy: 0.2000 - lr: 0.0010 - 30s/epoch - 16ms/step
Epoch 583/625
1922/1922 - 30s - loss: 1.6097 - accuracy: 0.2008 - val_loss: 1.6095 - val_accuracy: 0.2000 - lr: 0.0010 - 30s/epoch - 16ms/step
Epoch 584/625
1922/1922 - 30s - loss: 1.6097 - accuracy: 0.1996 - val_loss: 1.6095 - val_accuracy: 0.2000 - lr: 0.0010 - 30s/epoch - 16ms/step
Epoch 585/625
1922/1922 - 30s - loss: 1.6096 - accuracy: 0.1981 - val_loss: 1.6095 - val_accuracy: 0.2000 - lr: 0.0010 - 30s/epoch - 16ms/step
Epoch 586/625
1922/1922 - 30s - loss: 1.6096 - accuracy: 0.1981 - val_loss: 1.6096 - val_accuracy: 0.2000 - lr: 0.0010 - 30s/epoch - 16ms/step
Epoch 587/625
1922/1922 - 30s - loss: 1.6096 - accuracy: 0.1989 - val_loss: 1.6095 - val_accuracy: 0.2000 - lr: 0.0010 - 30s/epoch - 16ms/step
Epoch 588/625
1922/1922 - 30s - loss: 1.6096 - accuracy: 0.2004 - val_loss: 1.6095 - val_accuracy: 0.2000 - lr: 0.0010 - 30s/epoch - 16ms/step
Epoch 589/625
1922/1922 - 30s - loss: 1.6096 - accuracy: 0.1985 - val_loss: 1.6095 - val_accuracy: 0.2000 - lr: 0.0010 - 30s/epoch - 16ms/step
Epoch 590/625
1922/1922 - 30s - loss: 1.6096 - accuracy: 0.1992 - val_loss: 1.6095 - val_accuracy: 0.2000 - lr: 0.0010 - 30s/epoch - 16ms/step
Epoch 591/625
1922/1922 - 30s - loss: 1.6096 - accuracy: 0.1990 - val_loss: 1.6095 - val_accuracy: 0.2000 - lr: 0.0010 - 30s/epoch - 16ms/step
Epoch 592/625
1922/1922 - 30s - loss: 1.6096 - accuracy: 0.1995 - val_loss: 1.6095 - val_accuracy: 0.2000 - lr: 0.0010 - 30s/epoch - 15ms/step
Epoch 593/625
1922/1922 - 30s - loss: 1.6096 - accuracy: 0.1994 - val_loss: 1.6095 - val_accuracy: 0.2000 - lr: 0.0010 - 30s/epoch - 16ms/step
Epoch 594/625
1922/1922 - 30s - loss: 1.6096 - accuracy: 0.2003 - val_loss: 1.6095 - val_accuracy: 0.2000 - lr: 0.0010 - 30s/epoch - 16ms/step
Epoch 595/625
1922/1922 - 30s - loss: 1.6097 - accuracy: 0.1989 - val_loss: 1.6094 - val_accuracy: 0.2000 - lr: 0.0010 - 30s/epoch - 16ms/step
Epoch 596/625
1922/1922 - 30s - loss: 1.6096 - accuracy: 0.1989 - val_loss: 1.6095 - val_accuracy: 0.2000 - lr: 0.0010 - 30s/epoch - 16ms/step
Epoch 597/625
1922/1922 - 30s - loss: 1.6097 - accuracy: 0.1982 - val_loss: 1.6094 - val_accuracy: 0.2000 - lr: 0.0010 - 30s/epoch - 16ms/step
Epoch 598/625
1922/1922 - 30s - loss: 1.6096 - accuracy: 0.2015 - val_loss: 1.6096 - val_accuracy: 0.2000 - lr: 0.0010 - 30s/epoch - 16ms/step
Epoch 599/625
1922/1922 - 30s - loss: 1.6096 - accuracy: 0.1999 - val_loss: 1.6095 - val_accuracy: 0.2000 - lr: 0.0010 - 30s/epoch - 16ms/step
Epoch 600/625
1922/1922 - 30s - loss: 1.6096 - accuracy: 0.1966 - val_loss: 1.6095 - val_accuracy: 0.2000 - lr: 0.0010 - 30s/epoch - 16ms/step
Epoch 601/625
1922/1922 - 30s - loss: 1.6096 - accuracy: 0.1996 - val_loss: 1.6095 - val_accuracy: 0.2000 - lr: 0.0010 - 30s/epoch - 16ms/step
Epoch 602/625
1922/1922 - 30s - loss: 1.6096 - accuracy: 0.2000 - val_loss: 1.6095 - val_accuracy: 0.2000 - lr: 0.0010 - 30s/epoch - 16ms/step
Epoch 603/625
1922/1922 - 30s - loss: 1.6097 - accuracy: 0.1981 - val_loss: 1.6095 - val_accuracy: 0.2000 - lr: 0.0010 - 30s/epoch - 16ms/step
Epoch 604/625
1922/1922 - 30s - loss: 1.6096 - accuracy: 0.1982 - val_loss: 1.6095 - val_accuracy: 0.2000 - lr: 0.0010 - 30s/epoch - 16ms/step
Epoch 605/625
1922/1922 - 30s - loss: 1.6096 - accuracy: 0.2001 - val_loss: 1.6095 - val_accuracy: 0.2000 - lr: 0.0010 - 30s/epoch - 16ms/step
Epoch 606/625
1922/1922 - 30s - loss: 1.6096 - accuracy: 0.1985 - val_loss: 1.6094 - val_accuracy: 0.2000 - lr: 0.0010 - 30s/epoch - 16ms/step
Epoch 607/625
1922/1922 - 30s - loss: 1.6096 - accuracy: 0.2001 - val_loss: 1.6095 - val_accuracy: 0.2000 - lr: 0.0010 - 30s/epoch - 16ms/step
Epoch 608/625
1922/1922 - 30s - loss: 1.6096 - accuracy: 0.1989 - val_loss: 1.6095 - val_accuracy: 0.2000 - lr: 0.0010 - 30s/epoch - 16ms/step
Epoch 609/625
1922/1922 - 30s - loss: 1.6096 - accuracy: 0.1979 - val_loss: 1.6095 - val_accuracy: 0.2000 - lr: 0.0010 - 30s/epoch - 16ms/step
Epoch 610/625
1922/1922 - 30s - loss: 1.6096 - accuracy: 0.1981 - val_loss: 1.6095 - val_accuracy: 0.2000 - lr: 0.0010 - 30s/epoch - 16ms/step
Epoch 611/625
1922/1922 - 30s - loss: 1.6096 - accuracy: 0.1991 - val_loss: 1.6095 - val_accuracy: 0.2000 - lr: 0.0010 - 30s/epoch - 16ms/step
Epoch 612/625
1922/1922 - 30s - loss: 1.6096 - accuracy: 0.2007 - val_loss: 1.6097 - val_accuracy: 0.2000 - lr: 0.0010 - 30s/epoch - 16ms/step
Epoch 613/625
1922/1922 - 30s - loss: 1.6097 - accuracy: 0.1995 - val_loss: 1.6095 - val_accuracy: 0.2000 - lr: 0.0010 - 30s/epoch - 16ms/step
Epoch 614/625
1922/1922 - 30s - loss: 1.6096 - accuracy: 0.1992 - val_loss: 1.6094 - val_accuracy: 0.2000 - lr: 0.0010 - 30s/epoch - 16ms/step
Epoch 615/625
1922/1922 - 30s - loss: 1.6096 - accuracy: 0.1991 - val_loss: 1.6095 - val_accuracy: 0.2000 - lr: 0.0010 - 30s/epoch - 16ms/step
Epoch 616/625
1922/1922 - 30s - loss: 1.6096 - accuracy: 0.1997 - val_loss: 1.6095 - val_accuracy: 0.2000 - lr: 0.0010 - 30s/epoch - 16ms/step
Epoch 617/625
1922/1922 - 30s - loss: 1.6096 - accuracy: 0.2022 - val_loss: 1.6096 - val_accuracy: 0.2000 - lr: 0.0010 - 30s/epoch - 16ms/step
Epoch 618/625
1922/1922 - 30s - loss: 1.6096 - accuracy: 0.1982 - val_loss: 1.6095 - val_accuracy: 0.2000 - lr: 0.0010 - 30s/epoch - 16ms/step
Epoch 619/625
1922/1922 - 30s - loss: 1.6096 - accuracy: 0.2020 - val_loss: 1.6095 - val_accuracy: 0.2000 - lr: 0.0010 - 30s/epoch - 16ms/step
Epoch 620/625
1922/1922 - 30s - loss: 1.6097 - accuracy: 0.1959 - val_loss: 1.6094 - val_accuracy: 0.2000 - lr: 0.0010 - 30s/epoch - 16ms/step
Epoch 621/625
1922/1922 - 30s - loss: 1.6096 - accuracy: 0.1998 - val_loss: 1.6095 - val_accuracy: 0.2000 - lr: 0.0010 - 30s/epoch - 16ms/step
Epoch 622/625
1922/1922 - 30s - loss: 1.6096 - accuracy: 0.2006 - val_loss: 1.6095 - val_accuracy: 0.2000 - lr: 0.0010 - 30s/epoch - 16ms/step
Epoch 623/625
1922/1922 - 30s - loss: 1.6097 - accuracy: 0.1974 - val_loss: 1.6094 - val_accuracy: 0.2000 - lr: 0.0010 - 30s/epoch - 16ms/step
Epoch 624/625
1922/1922 - 30s - loss: 1.6096 - accuracy: 0.1995 - val_loss: 1.6095 - val_accuracy: 0.2000 - lr: 0.0010 - 30s/epoch - 16ms/step
Epoch 625/625
1922/1922 - 30s - loss: 1.6096 - accuracy: 0.2016 - val_loss: 1.6095 - val_accuracy: 0.2000 - lr: 0.0010 - 30s/epoch - 16ms/step
fitting with batch size: 150
Epoch 1/625
641/641 - 18s - loss: 1.6095 - accuracy: 0.2006 - val_loss: 1.6094 - val_accuracy: 0.2000 - lr: 0.0010 - 18s/epoch - 28ms/step
Epoch 2/625
641/641 - 16s - loss: 1.6095 - accuracy: 0.2000 - val_loss: 1.6094 - val_accuracy: 0.2000 - lr: 0.0010 - 16s/epoch - 24ms/step
Epoch 3/625
641/641 - 16s - loss: 1.6095 - accuracy: 0.1994 - val_loss: 1.6095 - val_accuracy: 0.2000 - lr: 0.0010 - 16s/epoch - 24ms/step
Epoch 4/625
641/641 - 15s - loss: 1.6095 - accuracy: 0.2010 - val_loss: 1.6094 - val_accuracy: 0.2000 - lr: 0.0010 - 15s/epoch - 24ms/step
Epoch 5/625
641/641 - 15s - loss: 1.6095 - accuracy: 0.1995 - val_loss: 1.6095 - val_accuracy: 0.2000 - lr: 0.0010 - 15s/epoch - 24ms/step
Epoch 6/625
641/641 - 16s - loss: 1.6095 - accuracy: 0.2005 - val_loss: 1.6095 - val_accuracy: 0.2000 - lr: 0.0010 - 16s/epoch - 24ms/step
Epoch 7/625
641/641 - 15s - loss: 1.6096 - accuracy: 0.1987 - val_loss: 1.6095 - val_accuracy: 0.2000 - lr: 0.0010 - 15s/epoch - 24ms/step
Epoch 8/625
641/641 - 15s - loss: 1.6095 - accuracy: 0.1989 - val_loss: 1.6095 - val_accuracy: 0.2000 - lr: 0.0010 - 15s/epoch - 24ms/step
Epoch 9/625
641/641 - 15s - loss: 1.6095 - accuracy: 0.1987 - val_loss: 1.6095 - val_accuracy: 0.2000 - lr: 0.0010 - 15s/epoch - 24ms/step
Epoch 10/625
641/641 - 15s - loss: 1.6095 - accuracy: 0.1986 - val_loss: 1.6094 - val_accuracy: 0.2000 - lr: 0.0010 - 15s/epoch - 24ms/step
Epoch 11/625
641/641 - 15s - loss: 1.6095 - accuracy: 0.1992 - val_loss: 1.6095 - val_accuracy: 0.2000 - lr: 0.0010 - 15s/epoch - 24ms/step
Epoch 12/625
641/641 - 16s - loss: 1.6095 - accuracy: 0.2015 - val_loss: 1.6094 - val_accuracy: 0.2000 - lr: 0.0010 - 16s/epoch - 24ms/step
Epoch 13/625
641/641 - 16s - loss: 1.6096 - accuracy: 0.1996 - val_loss: 1.6094 - val_accuracy: 0.2000 - lr: 0.0010 - 16s/epoch - 24ms/step
Epoch 14/625
641/641 - 16s - loss: 1.6095 - accuracy: 0.1974 - val_loss: 1.6094 - val_accuracy: 0.2000 - lr: 0.0010 - 16s/epoch - 24ms/step
Epoch 15/625
641/641 - 15s - loss: 1.6095 - accuracy: 0.2003 - val_loss: 1.6094 - val_accuracy: 0.2000 - lr: 0.0010 - 15s/epoch - 24ms/step
Epoch 16/625
641/641 - 16s - loss: 1.6095 - accuracy: 0.1998 - val_loss: 1.6095 - val_accuracy: 0.2000 - lr: 0.0010 - 16s/epoch - 24ms/step
Epoch 17/625
641/641 - 15s - loss: 1.6096 - accuracy: 0.1978 - val_loss: 1.6094 - val_accuracy: 0.2000 - lr: 0.0010 - 15s/epoch - 24ms/step
Epoch 18/625
641/641 - 16s - loss: 1.6096 - accuracy: 0.2001 - val_loss: 1.6094 - val_accuracy: 0.2000 - lr: 0.0010 - 16s/epoch - 24ms/step
Epoch 19/625
641/641 - 15s - loss: 1.6095 - accuracy: 0.1975 - val_loss: 1.6095 - val_accuracy: 0.2000 - lr: 0.0010 - 15s/epoch - 24ms/step
Epoch 20/625
641/641 - 15s - loss: 1.6095 - accuracy: 0.1992 - val_loss: 1.6094 - val_accuracy: 0.2000 - lr: 0.0010 - 15s/epoch - 24ms/step
Epoch 21/625
641/641 - 16s - loss: 1.6095 - accuracy: 0.1974 - val_loss: 1.6094 - val_accuracy: 0.2000 - lr: 0.0010 - 16s/epoch - 24ms/step
Epoch 22/625
641/641 - 16s - loss: 1.6095 - accuracy: 0.1996 - val_loss: 1.6095 - val_accuracy: 0.2000 - lr: 0.0010 - 16s/epoch - 24ms/step
Epoch 23/625
641/641 - 16s - loss: 1.6095 - accuracy: 0.2008 - val_loss: 1.6095 - val_accuracy: 0.2000 - lr: 0.0010 - 16s/epoch - 24ms/step
Epoch 24/625
641/641 - 16s - loss: 1.6095 - accuracy: 0.1977 - val_loss: 1.6094 - val_accuracy: 0.2000 - lr: 0.0010 - 16s/epoch - 24ms/step
Epoch 25/625
641/641 - 16s - loss: 1.6096 - accuracy: 0.1978 - val_loss: 1.6094 - val_accuracy: 0.2000 - lr: 0.0010 - 16s/epoch - 24ms/step
Epoch 26/625
641/641 - 16s - loss: 1.6095 - accuracy: 0.2007 - val_loss: 1.6095 - val_accuracy: 0.2000 - lr: 0.0010 - 16s/epoch - 24ms/step
Epoch 27/625
641/641 - 16s - loss: 1.6095 - accuracy: 0.1978 - val_loss: 1.6095 - val_accuracy: 0.2000 - lr: 0.0010 - 16s/epoch - 24ms/step
Epoch 28/625
641/641 - 16s - loss: 1.6095 - accuracy: 0.1998 - val_loss: 1.6095 - val_accuracy: 0.2000 - lr: 0.0010 - 16s/epoch - 24ms/step
Epoch 29/625
641/641 - 15s - loss: 1.6095 - accuracy: 0.1993 - val_loss: 1.6095 - val_accuracy: 0.2000 - lr: 0.0010 - 15s/epoch - 24ms/step
Epoch 30/625
641/641 - 16s - loss: 1.6096 - accuracy: 0.1970 - val_loss: 1.6095 - val_accuracy: 0.2000 - lr: 0.0010 - 16s/epoch - 24ms/step
Epoch 31/625
641/641 - 15s - loss: 1.6095 - accuracy: 0.2002 - val_loss: 1.6095 - val_accuracy: 0.2000 - lr: 0.0010 - 15s/epoch - 24ms/step
Epoch 32/625
641/641 - 16s - loss: 1.6095 - accuracy: 0.1990 - val_loss: 1.6095 - val_accuracy: 0.2000 - lr: 0.0010 - 16s/epoch - 24ms/step
Epoch 33/625
641/641 - 16s - loss: 1.6095 - accuracy: 0.2003 - val_loss: 1.6095 - val_accuracy: 0.2000 - lr: 0.0010 - 16s/epoch - 24ms/step
Epoch 34/625
641/641 - 15s - loss: 1.6095 - accuracy: 0.2004 - val_loss: 1.6096 - val_accuracy: 0.2000 - lr: 0.0010 - 15s/epoch - 24ms/step
Epoch 35/625
641/641 - 15s - loss: 1.6095 - accuracy: 0.1995 - val_loss: 1.6095 - val_accuracy: 0.2000 - lr: 0.0010 - 15s/epoch - 24ms/step
Epoch 36/625
641/641 - 16s - loss: 1.6095 - accuracy: 0.2002 - val_loss: 1.6095 - val_accuracy: 0.2000 - lr: 0.0010 - 16s/epoch - 24ms/step
Epoch 37/625
641/641 - 15s - loss: 1.6095 - accuracy: 0.1985 - val_loss: 1.6095 - val_accuracy: 0.2000 - lr: 0.0010 - 15s/epoch - 24ms/step
Epoch 38/625
641/641 - 16s - loss: 1.6095 - accuracy: 0.1974 - val_loss: 1.6095 - val_accuracy: 0.2000 - lr: 0.0010 - 16s/epoch - 24ms/step
Epoch 39/625
641/641 - 15s - loss: 1.6095 - accuracy: 0.1974 - val_loss: 1.6094 - val_accuracy: 0.2000 - lr: 0.0010 - 15s/epoch - 24ms/step
Epoch 40/625
641/641 - 16s - loss: 1.6096 - accuracy: 0.1970 - val_loss: 1.6095 - val_accuracy: 0.2000 - lr: 0.0010 - 16s/epoch - 24ms/step
Epoch 41/625
641/641 - 16s - loss: 1.6095 - accuracy: 0.1984 - val_loss: 1.6095 - val_accuracy: 0.2000 - lr: 0.0010 - 16s/epoch - 24ms/step
Epoch 42/625
641/641 - 16s - loss: 1.6095 - accuracy: 0.1990 - val_loss: 1.6095 - val_accuracy: 0.2000 - lr: 0.0010 - 16s/epoch - 24ms/step
Epoch 43/625
641/641 - 15s - loss: 1.6095 - accuracy: 0.1996 - val_loss: 1.6095 - val_accuracy: 0.2000 - lr: 0.0010 - 15s/epoch - 24ms/step
Epoch 44/625
641/641 - 16s - loss: 1.6095 - accuracy: 0.1984 - val_loss: 1.6094 - val_accuracy: 0.2000 - lr: 0.0010 - 16s/epoch - 24ms/step
Epoch 45/625
641/641 - 15s - loss: 1.6095 - accuracy: 0.2004 - val_loss: 1.6095 - val_accuracy: 0.2000 - lr: 0.0010 - 15s/epoch - 24ms/step
Epoch 46/625
641/641 - 16s - loss: 1.6095 - accuracy: 0.1971 - val_loss: 1.6095 - val_accuracy: 0.2000 - lr: 0.0010 - 16s/epoch - 24ms/step
Epoch 47/625
641/641 - 15s - loss: 1.6095 - accuracy: 0.1989 - val_loss: 1.6095 - val_accuracy: 0.2000 - lr: 0.0010 - 15s/epoch - 24ms/step
Epoch 48/625
641/641 - 16s - loss: 1.6096 - accuracy: 0.1965 - val_loss: 1.6095 - val_accuracy: 0.2000 - lr: 0.0010 - 16s/epoch - 24ms/step
Epoch 49/625
641/641 - 16s - loss: 1.6095 - accuracy: 0.1994 - val_loss: 1.6095 - val_accuracy: 0.2000 - lr: 0.0010 - 16s/epoch - 24ms/step
Epoch 50/625
641/641 - 16s - loss: 1.6095 - accuracy: 0.1990 - val_loss: 1.6094 - val_accuracy: 0.2000 - lr: 0.0010 - 16s/epoch - 24ms/step
Epoch 51/625
641/641 - 15s - loss: 1.6095 - accuracy: 0.1998 - val_loss: 1.6095 - val_accuracy: 0.2000 - lr: 0.0010 - 15s/epoch - 24ms/step
Epoch 52/625
641/641 - 16s - loss: 1.6096 - accuracy: 0.1966 - val_loss: 1.6095 - val_accuracy: 0.2000 - lr: 0.0010 - 16s/epoch - 24ms/step
Epoch 53/625
641/641 - 16s - loss: 1.6096 - accuracy: 0.1984 - val_loss: 1.6095 - val_accuracy: 0.2000 - lr: 0.0010 - 16s/epoch - 24ms/step
Epoch 54/625
641/641 - 16s - loss: 1.6095 - accuracy: 0.2000 - val_loss: 1.6095 - val_accuracy: 0.2000 - lr: 0.0010 - 16s/epoch - 24ms/step
Epoch 55/625
641/641 - 16s - loss: 1.6095 - accuracy: 0.2010 - val_loss: 1.6095 - val_accuracy: 0.2000 - lr: 0.0010 - 16s/epoch - 24ms/step
Epoch 56/625
641/641 - 16s - loss: 1.6095 - accuracy: 0.2008 - val_loss: 1.6094 - val_accuracy: 0.2000 - lr: 0.0010 - 16s/epoch - 25ms/step
Epoch 57/625
641/641 - 17s - loss: 1.6095 - accuracy: 0.2000 - val_loss: 1.6095 - val_accuracy: 0.2000 - lr: 0.0010 - 17s/epoch - 26ms/step
Epoch 58/625
641/641 - 16s - loss: 1.6095 - accuracy: 0.2009 - val_loss: 1.6095 - val_accuracy: 0.2000 - lr: 0.0010 - 16s/epoch - 25ms/step
Epoch 59/625
641/641 - 16s - loss: 1.6096 - accuracy: 0.1968 - val_loss: 1.6095 - val_accuracy: 0.2000 - lr: 0.0010 - 16s/epoch - 24ms/step
Epoch 60/625
641/641 - 16s - loss: 1.6095 - accuracy: 0.2000 - val_loss: 1.6095 - val_accuracy: 0.2000 - lr: 0.0010 - 16s/epoch - 24ms/step
Epoch 61/625
641/641 - 16s - loss: 1.6095 - accuracy: 0.1998 - val_loss: 1.6094 - val_accuracy: 0.2000 - lr: 0.0010 - 16s/epoch - 24ms/step
Epoch 62/625
641/641 - 16s - loss: 1.6095 - accuracy: 0.1991 - val_loss: 1.6095 - val_accuracy: 0.2000 - lr: 0.0010 - 16s/epoch - 24ms/step
Epoch 63/625
641/641 - 15s - loss: 1.6095 - accuracy: 0.1992 - val_loss: 1.6095 - val_accuracy: 0.2000 - lr: 0.0010 - 15s/epoch - 24ms/step
Epoch 64/625
641/641 - 16s - loss: 1.6095 - accuracy: 0.1990 - val_loss: 1.6095 - val_accuracy: 0.2000 - lr: 0.0010 - 16s/epoch - 24ms/step
Epoch 65/625
641/641 - 15s - loss: 1.6095 - accuracy: 0.1977 - val_loss: 1.6095 - val_accuracy: 0.2000 - lr: 0.0010 - 15s/epoch - 24ms/step
Epoch 66/625
641/641 - 16s - loss: 1.6096 - accuracy: 0.1997 - val_loss: 1.6094 - val_accuracy: 0.2000 - lr: 0.0010 - 16s/epoch - 24ms/step
Epoch 67/625
641/641 - 16s - loss: 1.6095 - accuracy: 0.1997 - val_loss: 1.6095 - val_accuracy: 0.2000 - lr: 0.0010 - 16s/epoch - 24ms/step
Epoch 68/625
641/641 - 16s - loss: 1.6095 - accuracy: 0.2002 - val_loss: 1.6095 - val_accuracy: 0.2000 - lr: 0.0010 - 16s/epoch - 24ms/step
Epoch 69/625
641/641 - 16s - loss: 1.6095 - accuracy: 0.1989 - val_loss: 1.6094 - val_accuracy: 0.2000 - lr: 0.0010 - 16s/epoch - 24ms/step
Epoch 70/625
641/641 - 16s - loss: 1.6095 - accuracy: 0.1987 - val_loss: 1.6094 - val_accuracy: 0.2000 - lr: 0.0010 - 16s/epoch - 24ms/step
Epoch 71/625
641/641 - 16s - loss: 1.6095 - accuracy: 0.1991 - val_loss: 1.6095 - val_accuracy: 0.2000 - lr: 0.0010 - 16s/epoch - 24ms/step
Epoch 72/625
641/641 - 16s - loss: 1.6095 - accuracy: 0.2001 - val_loss: 1.6095 - val_accuracy: 0.2000 - lr: 0.0010 - 16s/epoch - 24ms/step
Epoch 73/625
641/641 - 15s - loss: 1.6095 - accuracy: 0.1993 - val_loss: 1.6095 - val_accuracy: 0.2000 - lr: 0.0010 - 15s/epoch - 24ms/step
Epoch 74/625
641/641 - 16s - loss: 1.6096 - accuracy: 0.1988 - val_loss: 1.6095 - val_accuracy: 0.2000 - lr: 0.0010 - 16s/epoch - 24ms/step
Epoch 75/625
641/641 - 16s - loss: 1.6096 - accuracy: 0.1980 - val_loss: 1.6095 - val_accuracy: 0.2000 - lr: 0.0010 - 16s/epoch - 24ms/step
Epoch 76/625
641/641 - 16s - loss: 1.6095 - accuracy: 0.1982 - val_loss: 1.6095 - val_accuracy: 0.2000 - lr: 0.0010 - 16s/epoch - 24ms/step
Epoch 77/625
641/641 - 15s - loss: 1.6095 - accuracy: 0.1981 - val_loss: 1.6094 - val_accuracy: 0.2000 - lr: 0.0010 - 15s/epoch - 24ms/step
Epoch 78/625
641/641 - 16s - loss: 1.6095 - accuracy: 0.1957 - val_loss: 1.6094 - val_accuracy: 0.2000 - lr: 0.0010 - 16s/epoch - 24ms/step
Epoch 79/625
641/641 - 16s - loss: 1.6095 - accuracy: 0.1984 - val_loss: 1.6095 - val_accuracy: 0.2000 - lr: 0.0010 - 16s/epoch - 24ms/step
Epoch 80/625
641/641 - 16s - loss: 1.6095 - accuracy: 0.1995 - val_loss: 1.6095 - val_accuracy: 0.2000 - lr: 0.0010 - 16s/epoch - 24ms/step
Epoch 81/625
641/641 - 16s - loss: 1.6095 - accuracy: 0.2001 - val_loss: 1.6095 - val_accuracy: 0.2000 - lr: 0.0010 - 16s/epoch - 24ms/step
Epoch 82/625
641/641 - 16s - loss: 1.6095 - accuracy: 0.1990 - val_loss: 1.6094 - val_accuracy: 0.2000 - lr: 0.0010 - 16s/epoch - 24ms/step
Epoch 83/625
641/641 - 15s - loss: 1.6095 - accuracy: 0.1996 - val_loss: 1.6094 - val_accuracy: 0.2000 - lr: 0.0010 - 15s/epoch - 24ms/step
Epoch 84/625
641/641 - 16s - loss: 1.6095 - accuracy: 0.1992 - val_loss: 1.6095 - val_accuracy: 0.2000 - lr: 0.0010 - 16s/epoch - 24ms/step
Epoch 85/625
641/641 - 16s - loss: 1.6096 - accuracy: 0.1983 - val_loss: 1.6095 - val_accuracy: 0.2000 - lr: 0.0010 - 16s/epoch - 24ms/step
Epoch 86/625
641/641 - 15s - loss: 1.6095 - accuracy: 0.2006 - val_loss: 1.6095 - val_accuracy: 0.2000 - lr: 0.0010 - 15s/epoch - 24ms/step
Epoch 87/625
641/641 - 15s - loss: 1.6095 - accuracy: 0.2021 - val_loss: 1.6095 - val_accuracy: 0.2000 - lr: 0.0010 - 15s/epoch - 24ms/step
Epoch 88/625
641/641 - 16s - loss: 1.6095 - accuracy: 0.1983 - val_loss: 1.6095 - val_accuracy: 0.2000 - lr: 0.0010 - 16s/epoch - 24ms/step
Epoch 89/625
641/641 - 15s - loss: 1.6095 - accuracy: 0.1982 - val_loss: 1.6094 - val_accuracy: 0.2000 - lr: 0.0010 - 15s/epoch - 24ms/step
Epoch 90/625
641/641 - 16s - loss: 1.6095 - accuracy: 0.1995 - val_loss: 1.6095 - val_accuracy: 0.2000 - lr: 0.0010 - 16s/epoch - 24ms/step
Epoch 91/625
641/641 - 16s - loss: 1.6095 - accuracy: 0.1978 - val_loss: 1.6095 - val_accuracy: 0.2000 - lr: 0.0010 - 16s/epoch - 24ms/step
Epoch 92/625
641/641 - 16s - loss: 1.6095 - accuracy: 0.1990 - val_loss: 1.6095 - val_accuracy: 0.2000 - lr: 0.0010 - 16s/epoch - 24ms/step
Epoch 93/625
641/641 - 16s - loss: 1.6095 - accuracy: 0.1983 - val_loss: 1.6095 - val_accuracy: 0.2000 - lr: 0.0010 - 16s/epoch - 24ms/step
Epoch 94/625
641/641 - 16s - loss: 1.6095 - accuracy: 0.1988 - val_loss: 1.6095 - val_accuracy: 0.2000 - lr: 0.0010 - 16s/epoch - 24ms/step
Epoch 95/625
641/641 - 15s - loss: 1.6095 - accuracy: 0.1983 - val_loss: 1.6095 - val_accuracy: 0.2000 - lr: 0.0010 - 15s/epoch - 24ms/step
Epoch 96/625
641/641 - 16s - loss: 1.6095 - accuracy: 0.1985 - val_loss: 1.6094 - val_accuracy: 0.2000 - lr: 0.0010 - 16s/epoch - 24ms/step
Epoch 97/625
641/641 - 16s - loss: 1.6096 - accuracy: 0.1995 - val_loss: 1.6095 - val_accuracy: 0.2000 - lr: 0.0010 - 16s/epoch - 24ms/step
Epoch 98/625
641/641 - 16s - loss: 1.6095 - accuracy: 0.1990 - val_loss: 1.6094 - val_accuracy: 0.2000 - lr: 0.0010 - 16s/epoch - 24ms/step
Epoch 99/625
641/641 - 16s - loss: 1.6095 - accuracy: 0.1975 - val_loss: 1.6094 - val_accuracy: 0.2000 - lr: 0.0010 - 16s/epoch - 24ms/step
Epoch 100/625
641/641 - 16s - loss: 1.6095 - accuracy: 0.2022 - val_loss: 1.6095 - val_accuracy: 0.2000 - lr: 0.0010 - 16s/epoch - 24ms/step
Epoch 101/625
641/641 - 16s - loss: 1.6095 - accuracy: 0.1990 - val_loss: 1.6094 - val_accuracy: 0.2000 - lr: 0.0010 - 16s/epoch - 24ms/step
Epoch 102/625
641/641 - 16s - loss: 1.6096 - accuracy: 0.1982 - val_loss: 1.6094 - val_accuracy: 0.2000 - lr: 0.0010 - 16s/epoch - 24ms/step
Epoch 103/625
641/641 - 16s - loss: 1.6095 - accuracy: 0.1976 - val_loss: 1.6094 - val_accuracy: 0.2000 - lr: 0.0010 - 16s/epoch - 24ms/step
Epoch 104/625
641/641 - 16s - loss: 1.6095 - accuracy: 0.1979 - val_loss: 1.6095 - val_accuracy: 0.2000 - lr: 0.0010 - 16s/epoch - 24ms/step
Epoch 105/625
641/641 - 15s - loss: 1.6095 - accuracy: 0.1993 - val_loss: 1.6095 - val_accuracy: 0.2000 - lr: 0.0010 - 15s/epoch - 24ms/step
Epoch 106/625
641/641 - 16s - loss: 1.6095 - accuracy: 0.1987 - val_loss: 1.6095 - val_accuracy: 0.2000 - lr: 0.0010 - 16s/epoch - 24ms/step
Epoch 107/625
641/641 - 16s - loss: 1.6096 - accuracy: 0.1973 - val_loss: 1.6094 - val_accuracy: 0.2000 - lr: 0.0010 - 16s/epoch - 24ms/step
Epoch 108/625
641/641 - 16s - loss: 1.6095 - accuracy: 0.2003 - val_loss: 1.6095 - val_accuracy: 0.2000 - lr: 0.0010 - 16s/epoch - 24ms/step
Epoch 109/625
641/641 - 15s - loss: 1.6095 - accuracy: 0.1993 - val_loss: 1.6095 - val_accuracy: 0.2000 - lr: 0.0010 - 15s/epoch - 24ms/step
Epoch 110/625
641/641 - 16s - loss: 1.6095 - accuracy: 0.2011 - val_loss: 1.6095 - val_accuracy: 0.2000 - lr: 0.0010 - 16s/epoch - 24ms/step
Epoch 111/625
641/641 - 16s - loss: 1.6095 - accuracy: 0.1977 - val_loss: 1.6095 - val_accuracy: 0.2000 - lr: 0.0010 - 16s/epoch - 24ms/step
Epoch 112/625
641/641 - 16s - loss: 1.6095 - accuracy: 0.1981 - val_loss: 1.6095 - val_accuracy: 0.2000 - lr: 0.0010 - 16s/epoch - 24ms/step
Epoch 113/625
641/641 - 16s - loss: 1.6095 - accuracy: 0.1998 - val_loss: 1.6095 - val_accuracy: 0.2000 - lr: 0.0010 - 16s/epoch - 24ms/step
Epoch 114/625
641/641 - 15s - loss: 1.6095 - accuracy: 0.1978 - val_loss: 1.6094 - val_accuracy: 0.2000 - lr: 0.0010 - 15s/epoch - 24ms/step
Epoch 115/625
641/641 - 16s - loss: 1.6095 - accuracy: 0.1993 - val_loss: 1.6094 - val_accuracy: 0.2000 - lr: 0.0010 - 16s/epoch - 24ms/step
Epoch 116/625
641/641 - 16s - loss: 1.6095 - accuracy: 0.2008 - val_loss: 1.6095 - val_accuracy: 0.2000 - lr: 0.0010 - 16s/epoch - 24ms/step
Epoch 117/625
641/641 - 15s - loss: 1.6095 - accuracy: 0.2009 - val_loss: 1.6095 - val_accuracy: 0.2000 - lr: 0.0010 - 15s/epoch - 24ms/step
Epoch 118/625
641/641 - 16s - loss: 1.6095 - accuracy: 0.1988 - val_loss: 1.6094 - val_accuracy: 0.2000 - lr: 0.0010 - 16s/epoch - 24ms/step
Epoch 119/625
641/641 - 15s - loss: 1.6095 - accuracy: 0.1992 - val_loss: 1.6094 - val_accuracy: 0.2000 - lr: 0.0010 - 15s/epoch - 24ms/step
Epoch 120/625
641/641 - 16s - loss: 1.6095 - accuracy: 0.1987 - val_loss: 1.6094 - val_accuracy: 0.2000 - lr: 0.0010 - 16s/epoch - 24ms/step
Epoch 121/625
641/641 - 16s - loss: 1.6095 - accuracy: 0.1990 - val_loss: 1.6095 - val_accuracy: 0.2000 - lr: 0.0010 - 16s/epoch - 24ms/step
Epoch 122/625
641/641 - 16s - loss: 1.6095 - accuracy: 0.1990 - val_loss: 1.6095 - val_accuracy: 0.2000 - lr: 0.0010 - 16s/epoch - 24ms/step
Epoch 123/625
641/641 - 15s - loss: 1.6095 - accuracy: 0.1985 - val_loss: 1.6095 - val_accuracy: 0.2000 - lr: 0.0010 - 15s/epoch - 24ms/step
Epoch 124/625
641/641 - 16s - loss: 1.6095 - accuracy: 0.1982 - val_loss: 1.6095 - val_accuracy: 0.2000 - lr: 0.0010 - 16s/epoch - 24ms/step
Epoch 125/625
641/641 - 15s - loss: 1.6095 - accuracy: 0.1996 - val_loss: 1.6095 - val_accuracy: 0.2000 - lr: 0.0010 - 15s/epoch - 24ms/step
Epoch 126/625
641/641 - 16s - loss: 1.6095 - accuracy: 0.1975 - val_loss: 1.6095 - val_accuracy: 0.2000 - lr: 0.0010 - 16s/epoch - 24ms/step
Epoch 127/625
641/641 - 16s - loss: 1.6095 - accuracy: 0.1993 - val_loss: 1.6095 - val_accuracy: 0.2000 - lr: 0.0010 - 16s/epoch - 24ms/step
Epoch 128/625
641/641 - 16s - loss: 1.6095 - accuracy: 0.1988 - val_loss: 1.6095 - val_accuracy: 0.2000 - lr: 0.0010 - 16s/epoch - 24ms/step
Epoch 129/625
641/641 - 15s - loss: 1.6095 - accuracy: 0.1973 - val_loss: 1.6095 - val_accuracy: 0.2000 - lr: 0.0010 - 15s/epoch - 24ms/step
Epoch 130/625
641/641 - 16s - loss: 1.6095 - accuracy: 0.2002 - val_loss: 1.6095 - val_accuracy: 0.2000 - lr: 0.0010 - 16s/epoch - 24ms/step
Epoch 131/625
641/641 - 15s - loss: 1.6095 - accuracy: 0.2000 - val_loss: 1.6094 - val_accuracy: 0.2000 - lr: 0.0010 - 15s/epoch - 24ms/step
Epoch 132/625
641/641 - 16s - loss: 1.6095 - accuracy: 0.1999 - val_loss: 1.6095 - val_accuracy: 0.2000 - lr: 0.0010 - 16s/epoch - 24ms/step
Epoch 133/625
641/641 - 15s - loss: 1.6095 - accuracy: 0.1981 - val_loss: 1.6095 - val_accuracy: 0.2000 - lr: 0.0010 - 15s/epoch - 24ms/step
Epoch 134/625
641/641 - 16s - loss: 1.6095 - accuracy: 0.2006 - val_loss: 1.6095 - val_accuracy: 0.2000 - lr: 0.0010 - 16s/epoch - 24ms/step
Epoch 135/625
641/641 - 16s - loss: 1.6095 - accuracy: 0.1975 - val_loss: 1.6095 - val_accuracy: 0.2000 - lr: 0.0010 - 16s/epoch - 25ms/step
Epoch 136/625
641/641 - 15s - loss: 1.6095 - accuracy: 0.1968 - val_loss: 1.6095 - val_accuracy: 0.2000 - lr: 0.0010 - 15s/epoch - 24ms/step
Epoch 137/625
641/641 - 16s - loss: 1.6095 - accuracy: 0.2016 - val_loss: 1.6096 - val_accuracy: 0.2000 - lr: 0.0010 - 16s/epoch - 24ms/step
Epoch 138/625
641/641 - 15s - loss: 1.6095 - accuracy: 0.2006 - val_loss: 1.6095 - val_accuracy: 0.2000 - lr: 0.0010 - 15s/epoch - 24ms/step
Epoch 139/625
641/641 - 16s - loss: 1.6095 - accuracy: 0.1991 - val_loss: 1.6095 - val_accuracy: 0.2000 - lr: 0.0010 - 16s/epoch - 24ms/step
Epoch 140/625
641/641 - 15s - loss: 1.6095 - accuracy: 0.2000 - val_loss: 1.6095 - val_accuracy: 0.2000 - lr: 0.0010 - 15s/epoch - 24ms/step
Epoch 141/625
641/641 - 16s - loss: 1.6095 - accuracy: 0.1988 - val_loss: 1.6094 - val_accuracy: 0.2000 - lr: 0.0010 - 16s/epoch - 24ms/step
Epoch 142/625
641/641 - 15s - loss: 1.6095 - accuracy: 0.2000 - val_loss: 1.6094 - val_accuracy: 0.2000 - lr: 0.0010 - 15s/epoch - 24ms/step
Epoch 143/625
641/641 - 16s - loss: 1.6095 - accuracy: 0.1982 - val_loss: 1.6094 - val_accuracy: 0.2000 - lr: 0.0010 - 16s/epoch - 24ms/step
Epoch 144/625
641/641 - 15s - loss: 1.6095 - accuracy: 0.1993 - val_loss: 1.6095 - val_accuracy: 0.2000 - lr: 0.0010 - 15s/epoch - 24ms/step
Epoch 145/625
641/641 - 16s - loss: 1.6095 - accuracy: 0.1977 - val_loss: 1.6095 - val_accuracy: 0.2000 - lr: 0.0010 - 16s/epoch - 24ms/step
Epoch 146/625
641/641 - 16s - loss: 1.6095 - accuracy: 0.1997 - val_loss: 1.6095 - val_accuracy: 0.2000 - lr: 0.0010 - 16s/epoch - 24ms/step
Epoch 147/625
641/641 - 15s - loss: 1.6095 - accuracy: 0.1983 - val_loss: 1.6094 - val_accuracy: 0.2000 - lr: 0.0010 - 15s/epoch - 24ms/step
Epoch 148/625
641/641 - 15s - loss: 1.6095 - accuracy: 0.1978 - val_loss: 1.6095 - val_accuracy: 0.2000 - lr: 0.0010 - 15s/epoch - 24ms/step
Epoch 149/625
641/641 - 16s - loss: 1.6096 - accuracy: 0.1996 - val_loss: 1.6095 - val_accuracy: 0.2000 - lr: 0.0010 - 16s/epoch - 24ms/step
Epoch 150/625
641/641 - 15s - loss: 1.6095 - accuracy: 0.1979 - val_loss: 1.6095 - val_accuracy: 0.2000 - lr: 0.0010 - 15s/epoch - 24ms/step
Epoch 151/625
641/641 - 16s - loss: 1.6095 - accuracy: 0.1992 - val_loss: 1.6094 - val_accuracy: 0.2000 - lr: 0.0010 - 16s/epoch - 24ms/step
Epoch 152/625
641/641 - 15s - loss: 1.6095 - accuracy: 0.1986 - val_loss: 1.6095 - val_accuracy: 0.2000 - lr: 0.0010 - 15s/epoch - 24ms/step
Epoch 153/625
641/641 - 16s - loss: 1.6095 - accuracy: 0.1993 - val_loss: 1.6096 - val_accuracy: 0.2000 - lr: 0.0010 - 16s/epoch - 24ms/step
Epoch 154/625
641/641 - 16s - loss: 1.6095 - accuracy: 0.1990 - val_loss: 1.6095 - val_accuracy: 0.2000 - lr: 0.0010 - 16s/epoch - 24ms/step
Epoch 155/625
641/641 - 15s - loss: 1.6095 - accuracy: 0.1990 - val_loss: 1.6095 - val_accuracy: 0.2000 - lr: 0.0010 - 15s/epoch - 24ms/step
Epoch 156/625
641/641 - 16s - loss: 1.6095 - accuracy: 0.2008 - val_loss: 1.6095 - val_accuracy: 0.2000 - lr: 0.0010 - 16s/epoch - 24ms/step
Epoch 157/625
641/641 - 16s - loss: 1.6095 - accuracy: 0.1983 - val_loss: 1.6094 - val_accuracy: 0.2000 - lr: 0.0010 - 16s/epoch - 24ms/step
Epoch 158/625
641/641 - 15s - loss: 1.6095 - accuracy: 0.2005 - val_loss: 1.6096 - val_accuracy: 0.2000 - lr: 0.0010 - 15s/epoch - 24ms/step
Epoch 159/625
641/641 - 15s - loss: 1.6095 - accuracy: 0.1980 - val_loss: 1.6094 - val_accuracy: 0.2000 - lr: 0.0010 - 15s/epoch - 24ms/step
Epoch 160/625
641/641 - 15s - loss: 1.6095 - accuracy: 0.1992 - val_loss: 1.6095 - val_accuracy: 0.2000 - lr: 0.0010 - 15s/epoch - 24ms/step
Epoch 161/625
641/641 - 16s - loss: 1.6095 - accuracy: 0.1983 - val_loss: 1.6095 - val_accuracy: 0.2000 - lr: 0.0010 - 16s/epoch - 24ms/step
Epoch 162/625
641/641 - 15s - loss: 1.6095 - accuracy: 0.1986 - val_loss: 1.6095 - val_accuracy: 0.2000 - lr: 0.0010 - 15s/epoch - 24ms/step
Epoch 163/625
641/641 - 16s - loss: 1.6095 - accuracy: 0.1965 - val_loss: 1.6094 - val_accuracy: 0.2000 - lr: 0.0010 - 16s/epoch - 24ms/step
Epoch 164/625
641/641 - 15s - loss: 1.6095 - accuracy: 0.1999 - val_loss: 1.6095 - val_accuracy: 0.2000 - lr: 0.0010 - 15s/epoch - 24ms/step
Epoch 165/625
641/641 - 15s - loss: 1.6095 - accuracy: 0.1985 - val_loss: 1.6095 - val_accuracy: 0.2000 - lr: 0.0010 - 15s/epoch - 24ms/step
Epoch 166/625
641/641 - 16s - loss: 1.6095 - accuracy: 0.1988 - val_loss: 1.6095 - val_accuracy: 0.2000 - lr: 0.0010 - 16s/epoch - 24ms/step
Epoch 167/625
641/641 - 15s - loss: 1.6095 - accuracy: 0.1997 - val_loss: 1.6095 - val_accuracy: 0.2000 - lr: 0.0010 - 15s/epoch - 24ms/step
Epoch 168/625
641/641 - 15s - loss: 1.6095 - accuracy: 0.1973 - val_loss: 1.6095 - val_accuracy: 0.2000 - lr: 0.0010 - 15s/epoch - 24ms/step
Epoch 169/625
641/641 - 16s - loss: 1.6095 - accuracy: 0.1979 - val_loss: 1.6095 - val_accuracy: 0.2000 - lr: 0.0010 - 16s/epoch - 24ms/step
Epoch 170/625
641/641 - 15s - loss: 1.6095 - accuracy: 0.2006 - val_loss: 1.6095 - val_accuracy: 0.2000 - lr: 0.0010 - 15s/epoch - 24ms/step
Epoch 171/625
641/641 - 16s - loss: 1.6095 - accuracy: 0.1990 - val_loss: 1.6095 - val_accuracy: 0.2000 - lr: 0.0010 - 16s/epoch - 24ms/step
Epoch 172/625
641/641 - 15s - loss: 1.6095 - accuracy: 0.1998 - val_loss: 1.6095 - val_accuracy: 0.2000 - lr: 0.0010 - 15s/epoch - 24ms/step
Epoch 173/625
641/641 - 16s - loss: 1.6095 - accuracy: 0.1998 - val_loss: 1.6095 - val_accuracy: 0.2000 - lr: 0.0010 - 16s/epoch - 24ms/step
Epoch 174/625
641/641 - 16s - loss: 1.6095 - accuracy: 0.1980 - val_loss: 1.6094 - val_accuracy: 0.2000 - lr: 0.0010 - 16s/epoch - 24ms/step
Epoch 175/625
641/641 - 16s - loss: 1.6095 - accuracy: 0.1974 - val_loss: 1.6094 - val_accuracy: 0.2000 - lr: 0.0010 - 16s/epoch - 24ms/step
Epoch 176/625
641/641 - 15s - loss: 1.6095 - accuracy: 0.1973 - val_loss: 1.6095 - val_accuracy: 0.2000 - lr: 0.0010 - 15s/epoch - 24ms/step
Epoch 177/625
641/641 - 16s - loss: 1.6095 - accuracy: 0.1973 - val_loss: 1.6095 - val_accuracy: 0.2000 - lr: 0.0010 - 16s/epoch - 24ms/step
Epoch 178/625
641/641 - 16s - loss: 1.6095 - accuracy: 0.1996 - val_loss: 1.6094 - val_accuracy: 0.2000 - lr: 0.0010 - 16s/epoch - 24ms/step
Epoch 179/625
641/641 - 15s - loss: 1.6095 - accuracy: 0.1981 - val_loss: 1.6095 - val_accuracy: 0.2000 - lr: 0.0010 - 15s/epoch - 24ms/step
Epoch 180/625
641/641 - 15s - loss: 1.6095 - accuracy: 0.1985 - val_loss: 1.6095 - val_accuracy: 0.2000 - lr: 0.0010 - 15s/epoch - 24ms/step
Epoch 181/625
641/641 - 16s - loss: 1.6095 - accuracy: 0.1989 - val_loss: 1.6095 - val_accuracy: 0.2000 - lr: 0.0010 - 16s/epoch - 24ms/step
Epoch 182/625
641/641 - 15s - loss: 1.6095 - accuracy: 0.1997 - val_loss: 1.6095 - val_accuracy: 0.2000 - lr: 0.0010 - 15s/epoch - 24ms/step
Epoch 183/625
641/641 - 16s - loss: 1.6095 - accuracy: 0.1978 - val_loss: 1.6095 - val_accuracy: 0.2000 - lr: 0.0010 - 16s/epoch - 24ms/step
Epoch 184/625
641/641 - 16s - loss: 1.6095 - accuracy: 0.2000 - val_loss: 1.6095 - val_accuracy: 0.2000 - lr: 0.0010 - 16s/epoch - 24ms/step
Epoch 185/625
641/641 - 16s - loss: 1.6095 - accuracy: 0.1993 - val_loss: 1.6095 - val_accuracy: 0.2000 - lr: 0.0010 - 16s/epoch - 24ms/step
Epoch 186/625
641/641 - 15s - loss: 1.6095 - accuracy: 0.1965 - val_loss: 1.6094 - val_accuracy: 0.2000 - lr: 0.0010 - 15s/epoch - 24ms/step
Epoch 187/625
641/641 - 16s - loss: 1.6095 - accuracy: 0.1991 - val_loss: 1.6095 - val_accuracy: 0.2000 - lr: 0.0010 - 16s/epoch - 24ms/step
Epoch 188/625
641/641 - 15s - loss: 1.6095 - accuracy: 0.1977 - val_loss: 1.6094 - val_accuracy: 0.2000 - lr: 0.0010 - 15s/epoch - 24ms/step
Epoch 189/625
641/641 - 16s - loss: 1.6095 - accuracy: 0.1980 - val_loss: 1.6095 - val_accuracy: 0.2000 - lr: 0.0010 - 16s/epoch - 24ms/step
Epoch 190/625
641/641 - 16s - loss: 1.6095 - accuracy: 0.2008 - val_loss: 1.6095 - val_accuracy: 0.2000 - lr: 0.0010 - 16s/epoch - 24ms/step
Epoch 191/625
641/641 - 16s - loss: 1.6095 - accuracy: 0.1958 - val_loss: 1.6095 - val_accuracy: 0.2000 - lr: 0.0010 - 16s/epoch - 24ms/step
Epoch 192/625
641/641 - 16s - loss: 1.6095 - accuracy: 0.1978 - val_loss: 1.6095 - val_accuracy: 0.2000 - lr: 0.0010 - 16s/epoch - 24ms/step
Epoch 193/625
641/641 - 16s - loss: 1.6095 - accuracy: 0.1995 - val_loss: 1.6095 - val_accuracy: 0.2000 - lr: 0.0010 - 16s/epoch - 24ms/step
Epoch 194/625
641/641 - 15s - loss: 1.6095 - accuracy: 0.1997 - val_loss: 1.6095 - val_accuracy: 0.2000 - lr: 0.0010 - 15s/epoch - 24ms/step
Epoch 195/625
641/641 - 16s - loss: 1.6095 - accuracy: 0.2001 - val_loss: 1.6095 - val_accuracy: 0.2000 - lr: 0.0010 - 16s/epoch - 24ms/step
Epoch 196/625
641/641 - 15s - loss: 1.6095 - accuracy: 0.1991 - val_loss: 1.6095 - val_accuracy: 0.2000 - lr: 0.0010 - 15s/epoch - 24ms/step
Epoch 197/625
641/641 - 16s - loss: 1.6095 - accuracy: 0.1992 - val_loss: 1.6095 - val_accuracy: 0.2000 - lr: 0.0010 - 16s/epoch - 24ms/step
Epoch 198/625
641/641 - 16s - loss: 1.6095 - accuracy: 0.1985 - val_loss: 1.6095 - val_accuracy: 0.2000 - lr: 0.0010 - 16s/epoch - 24ms/step
Epoch 199/625
641/641 - 16s - loss: 1.6095 - accuracy: 0.1986 - val_loss: 1.6094 - val_accuracy: 0.2000 - lr: 0.0010 - 16s/epoch - 24ms/step
Epoch 200/625
641/641 - 16s - loss: 1.6095 - accuracy: 0.1997 - val_loss: 1.6095 - val_accuracy: 0.2000 - lr: 0.0010 - 16s/epoch - 24ms/step
Epoch 201/625
641/641 - 16s - loss: 1.6095 - accuracy: 0.1985 - val_loss: 1.6095 - val_accuracy: 0.2000 - lr: 0.0010 - 16s/epoch - 25ms/step
Epoch 202/625
641/641 - 15s - loss: 1.6095 - accuracy: 0.1985 - val_loss: 1.6095 - val_accuracy: 0.2000 - lr: 0.0010 - 15s/epoch - 24ms/step
Epoch 203/625
641/641 - 16s - loss: 1.6095 - accuracy: 0.1978 - val_loss: 1.6095 - val_accuracy: 0.2000 - lr: 0.0010 - 16s/epoch - 24ms/step
Epoch 204/625
641/641 - 16s - loss: 1.6095 - accuracy: 0.2005 - val_loss: 1.6095 - val_accuracy: 0.2000 - lr: 0.0010 - 16s/epoch - 24ms/step
Epoch 205/625
641/641 - 16s - loss: 1.6095 - accuracy: 0.1969 - val_loss: 1.6094 - val_accuracy: 0.2000 - lr: 0.0010 - 16s/epoch - 24ms/step
Epoch 206/625
641/641 - 16s - loss: 1.6095 - accuracy: 0.1992 - val_loss: 1.6095 - val_accuracy: 0.2000 - lr: 0.0010 - 16s/epoch - 24ms/step
Epoch 207/625
641/641 - 16s - loss: 1.6095 - accuracy: 0.1976 - val_loss: 1.6094 - val_accuracy: 0.2000 - lr: 0.0010 - 16s/epoch - 24ms/step
Epoch 208/625
641/641 - 15s - loss: 1.6095 - accuracy: 0.1982 - val_loss: 1.6095 - val_accuracy: 0.2000 - lr: 0.0010 - 15s/epoch - 24ms/step
Epoch 209/625
641/641 - 16s - loss: 1.6095 - accuracy: 0.1982 - val_loss: 1.6095 - val_accuracy: 0.2000 - lr: 0.0010 - 16s/epoch - 24ms/step
Epoch 210/625
641/641 - 15s - loss: 1.6095 - accuracy: 0.1999 - val_loss: 1.6095 - val_accuracy: 0.2000 - lr: 0.0010 - 15s/epoch - 24ms/step
Epoch 211/625
641/641 - 19s - loss: 1.6095 - accuracy: 0.1973 - val_loss: 1.6095 - val_accuracy: 0.2000 - lr: 0.0010 - 19s/epoch - 29ms/step
Epoch 212/625
641/641 - 18s - loss: 1.6095 - accuracy: 0.1991 - val_loss: 1.6095 - val_accuracy: 0.2000 - lr: 0.0010 - 18s/epoch - 28ms/step
Epoch 213/625
641/641 - 16s - loss: 1.6095 - accuracy: 0.1970 - val_loss: 1.6095 - val_accuracy: 0.2000 - lr: 0.0010 - 16s/epoch - 24ms/step
Epoch 214/625
641/641 - 16s - loss: 1.6095 - accuracy: 0.1991 - val_loss: 1.6095 - val_accuracy: 0.2000 - lr: 0.0010 - 16s/epoch - 24ms/step
Epoch 215/625
641/641 - 16s - loss: 1.6095 - accuracy: 0.2000 - val_loss: 1.6095 - val_accuracy: 0.2000 - lr: 0.0010 - 16s/epoch - 25ms/step
Epoch 216/625
641/641 - 16s - loss: 1.6095 - accuracy: 0.2009 - val_loss: 1.6095 - val_accuracy: 0.2000 - lr: 0.0010 - 16s/epoch - 24ms/step
Epoch 217/625
641/641 - 16s - loss: 1.6095 - accuracy: 0.1982 - val_loss: 1.6095 - val_accuracy: 0.2000 - lr: 0.0010 - 16s/epoch - 24ms/step
Epoch 218/625
641/641 - 16s - loss: 1.6095 - accuracy: 0.1996 - val_loss: 1.6095 - val_accuracy: 0.2000 - lr: 0.0010 - 16s/epoch - 24ms/step
Epoch 219/625
641/641 - 16s - loss: 1.6095 - accuracy: 0.1980 - val_loss: 1.6094 - val_accuracy: 0.2000 - lr: 0.0010 - 16s/epoch - 25ms/step
Epoch 220/625
641/641 - 16s - loss: 1.6095 - accuracy: 0.1988 - val_loss: 1.6094 - val_accuracy: 0.2000 - lr: 0.0010 - 16s/epoch - 24ms/step
Epoch 221/625
641/641 - 16s - loss: 1.6095 - accuracy: 0.1992 - val_loss: 1.6095 - val_accuracy: 0.2000 - lr: 0.0010 - 16s/epoch - 24ms/step
Epoch 222/625
641/641 - 16s - loss: 1.6095 - accuracy: 0.1960 - val_loss: 1.6094 - val_accuracy: 0.2000 - lr: 0.0010 - 16s/epoch - 25ms/step
Epoch 223/625
641/641 - 16s - loss: 1.6095 - accuracy: 0.1977 - val_loss: 1.6094 - val_accuracy: 0.2000 - lr: 0.0010 - 16s/epoch - 24ms/step
Epoch 224/625
641/641 - 16s - loss: 1.6095 - accuracy: 0.1977 - val_loss: 1.6095 - val_accuracy: 0.2000 - lr: 0.0010 - 16s/epoch - 25ms/step
Epoch 225/625
641/641 - 16s - loss: 1.6095 - accuracy: 0.1987 - val_loss: 1.6094 - val_accuracy: 0.2000 - lr: 0.0010 - 16s/epoch - 24ms/step
Epoch 226/625
641/641 - 16s - loss: 1.6095 - accuracy: 0.1991 - val_loss: 1.6095 - val_accuracy: 0.2000 - lr: 0.0010 - 16s/epoch - 24ms/step
Epoch 227/625
641/641 - 16s - loss: 1.6095 - accuracy: 0.1995 - val_loss: 1.6095 - val_accuracy: 0.2000 - lr: 0.0010 - 16s/epoch - 25ms/step
Epoch 228/625
641/641 - 15s - loss: 1.6095 - accuracy: 0.1981 - val_loss: 1.6095 - val_accuracy: 0.2000 - lr: 0.0010 - 15s/epoch - 24ms/step
Epoch 229/625
641/641 - 16s - loss: 1.6095 - accuracy: 0.1978 - val_loss: 1.6095 - val_accuracy: 0.2000 - lr: 0.0010 - 16s/epoch - 25ms/step
Epoch 230/625
641/641 - 16s - loss: 1.6095 - accuracy: 0.2001 - val_loss: 1.6095 - val_accuracy: 0.2000 - lr: 0.0010 - 16s/epoch - 24ms/step
Epoch 231/625
641/641 - 16s - loss: 1.6095 - accuracy: 0.1989 - val_loss: 1.6095 - val_accuracy: 0.2000 - lr: 0.0010 - 16s/epoch - 24ms/step
Epoch 232/625
641/641 - 16s - loss: 1.6095 - accuracy: 0.1978 - val_loss: 1.6094 - val_accuracy: 0.2000 - lr: 0.0010 - 16s/epoch - 25ms/step
Epoch 233/625
641/641 - 16s - loss: 1.6095 - accuracy: 0.1975 - val_loss: 1.6095 - val_accuracy: 0.2000 - lr: 0.0010 - 16s/epoch - 24ms/step
Epoch 234/625
641/641 - 16s - loss: 1.6095 - accuracy: 0.1976 - val_loss: 1.6094 - val_accuracy: 0.2000 - lr: 0.0010 - 16s/epoch - 24ms/step
Epoch 235/625
641/641 - 16s - loss: 1.6095 - accuracy: 0.1996 - val_loss: 1.6094 - val_accuracy: 0.2000 - lr: 0.0010 - 16s/epoch - 25ms/step
Epoch 236/625
641/641 - 16s - loss: 1.6095 - accuracy: 0.1987 - val_loss: 1.6094 - val_accuracy: 0.2000 - lr: 0.0010 - 16s/epoch - 24ms/step
Epoch 237/625
641/641 - 16s - loss: 1.6095 - accuracy: 0.1990 - val_loss: 1.6095 - val_accuracy: 0.2000 - lr: 0.0010 - 16s/epoch - 25ms/step
Epoch 238/625
641/641 - 16s - loss: 1.6095 - accuracy: 0.1960 - val_loss: 1.6095 - val_accuracy: 0.2000 - lr: 0.0010 - 16s/epoch - 25ms/step
Epoch 239/625
641/641 - 16s - loss: 1.6095 - accuracy: 0.2022 - val_loss: 1.6095 - val_accuracy: 0.2000 - lr: 0.0010 - 16s/epoch - 25ms/step
Epoch 240/625
641/641 - 16s - loss: 1.6095 - accuracy: 0.1986 - val_loss: 1.6095 - val_accuracy: 0.2000 - lr: 0.0010 - 16s/epoch - 25ms/step
Epoch 241/625
641/641 - 16s - loss: 1.6095 - accuracy: 0.1993 - val_loss: 1.6095 - val_accuracy: 0.2000 - lr: 0.0010 - 16s/epoch - 25ms/step
Epoch 242/625
641/641 - 16s - loss: 1.6095 - accuracy: 0.1983 - val_loss: 1.6095 - val_accuracy: 0.2000 - lr: 0.0010 - 16s/epoch - 24ms/step
Epoch 243/625
641/641 - 16s - loss: 1.6095 - accuracy: 0.2000 - val_loss: 1.6094 - val_accuracy: 0.2000 - lr: 0.0010 - 16s/epoch - 24ms/step
Epoch 244/625
641/641 - 16s - loss: 1.6095 - accuracy: 0.1983 - val_loss: 1.6095 - val_accuracy: 0.2000 - lr: 0.0010 - 16s/epoch - 24ms/step
Epoch 245/625
641/641 - 16s - loss: 1.6095 - accuracy: 0.1989 - val_loss: 1.6094 - val_accuracy: 0.2000 - lr: 0.0010 - 16s/epoch - 25ms/step
Epoch 246/625
641/641 - 16s - loss: 1.6095 - accuracy: 0.1999 - val_loss: 1.6095 - val_accuracy: 0.2000 - lr: 0.0010 - 16s/epoch - 25ms/step
Epoch 247/625
641/641 - 16s - loss: 1.6095 - accuracy: 0.1981 - val_loss: 1.6095 - val_accuracy: 0.2000 - lr: 0.0010 - 16s/epoch - 25ms/step
Epoch 248/625
641/641 - 16s - loss: 1.6095 - accuracy: 0.1978 - val_loss: 1.6094 - val_accuracy: 0.2000 - lr: 0.0010 - 16s/epoch - 24ms/step
Epoch 249/625
641/641 - 16s - loss: 1.6095 - accuracy: 0.1995 - val_loss: 1.6094 - val_accuracy: 0.2000 - lr: 0.0010 - 16s/epoch - 25ms/step
Epoch 250/625
641/641 - 16s - loss: 1.6095 - accuracy: 0.1982 - val_loss: 1.6095 - val_accuracy: 0.2000 - lr: 0.0010 - 16s/epoch - 24ms/step
Epoch 251/625
641/641 - 16s - loss: 1.6095 - accuracy: 0.1993 - val_loss: 1.6095 - val_accuracy: 0.2000 - lr: 0.0010 - 16s/epoch - 25ms/step
Epoch 252/625
641/641 - 16s - loss: 1.6095 - accuracy: 0.1979 - val_loss: 1.6095 - val_accuracy: 0.2000 - lr: 0.0010 - 16s/epoch - 24ms/step
Epoch 253/625
641/641 - 16s - loss: 1.6095 - accuracy: 0.2006 - val_loss: 1.6095 - val_accuracy: 0.2000 - lr: 0.0010 - 16s/epoch - 25ms/step
Epoch 254/625
641/641 - 16s - loss: 1.6095 - accuracy: 0.1997 - val_loss: 1.6094 - val_accuracy: 0.2000 - lr: 0.0010 - 16s/epoch - 25ms/step
Epoch 255/625
641/641 - 16s - loss: 1.6095 - accuracy: 0.1991 - val_loss: 1.6095 - val_accuracy: 0.2000 - lr: 0.0010 - 16s/epoch - 24ms/step
Epoch 256/625
641/641 - 16s - loss: 1.6095 - accuracy: 0.1983 - val_loss: 1.6094 - val_accuracy: 0.2000 - lr: 0.0010 - 16s/epoch - 24ms/step
Epoch 257/625
641/641 - 16s - loss: 1.6095 - accuracy: 0.1979 - val_loss: 1.6095 - val_accuracy: 0.2000 - lr: 0.0010 - 16s/epoch - 25ms/step
Epoch 258/625
641/641 - 16s - loss: 1.6095 - accuracy: 0.1993 - val_loss: 1.6095 - val_accuracy: 0.2000 - lr: 0.0010 - 16s/epoch - 25ms/step
Epoch 259/625
641/641 - 16s - loss: 1.6095 - accuracy: 0.1997 - val_loss: 1.6095 - val_accuracy: 0.2000 - lr: 0.0010 - 16s/epoch - 24ms/step
Epoch 260/625
641/641 - 17s - loss: 1.6095 - accuracy: 0.1977 - val_loss: 1.6095 - val_accuracy: 0.2000 - lr: 0.0010 - 17s/epoch - 26ms/step
Epoch 261/625
641/641 - 16s - loss: 1.6095 - accuracy: 0.1986 - val_loss: 1.6095 - val_accuracy: 0.2000 - lr: 0.0010 - 16s/epoch - 25ms/step
Epoch 262/625
641/641 - 16s - loss: 1.6095 - accuracy: 0.1988 - val_loss: 1.6095 - val_accuracy: 0.2000 - lr: 0.0010 - 16s/epoch - 24ms/step
Epoch 263/625
641/641 - 16s - loss: 1.6095 - accuracy: 0.2011 - val_loss: 1.6095 - val_accuracy: 0.2000 - lr: 0.0010 - 16s/epoch - 24ms/step
Epoch 264/625
641/641 - 15s - loss: 1.6095 - accuracy: 0.1981 - val_loss: 1.6095 - val_accuracy: 0.2000 - lr: 0.0010 - 15s/epoch - 24ms/step
Epoch 265/625
641/641 - 16s - loss: 1.6095 - accuracy: 0.1993 - val_loss: 1.6095 - val_accuracy: 0.2000 - lr: 0.0010 - 16s/epoch - 24ms/step
Epoch 266/625
641/641 - 16s - loss: 1.6095 - accuracy: 0.1984 - val_loss: 1.6095 - val_accuracy: 0.2000 - lr: 0.0010 - 16s/epoch - 24ms/step
Epoch 267/625
641/641 - 16s - loss: 1.6095 - accuracy: 0.1996 - val_loss: 1.6095 - val_accuracy: 0.2000 - lr: 0.0010 - 16s/epoch - 24ms/step
Epoch 268/625
641/641 - 15s - loss: 1.6095 - accuracy: 0.1979 - val_loss: 1.6095 - val_accuracy: 0.2000 - lr: 0.0010 - 15s/epoch - 24ms/step
Epoch 269/625
641/641 - 16s - loss: 1.6095 - accuracy: 0.1985 - val_loss: 1.6095 - val_accuracy: 0.2000 - lr: 0.0010 - 16s/epoch - 24ms/step
Epoch 270/625
641/641 - 16s - loss: 1.6095 - accuracy: 0.1998 - val_loss: 1.6095 - val_accuracy: 0.2000 - lr: 0.0010 - 16s/epoch - 24ms/step
Epoch 271/625
641/641 - 16s - loss: 1.6095 - accuracy: 0.1981 - val_loss: 1.6095 - val_accuracy: 0.2000 - lr: 0.0010 - 16s/epoch - 24ms/step
Epoch 272/625
641/641 - 15s - loss: 1.6095 - accuracy: 0.1969 - val_loss: 1.6095 - val_accuracy: 0.2000 - lr: 0.0010 - 15s/epoch - 24ms/step
Epoch 273/625
641/641 - 16s - loss: 1.6095 - accuracy: 0.1998 - val_loss: 1.6094 - val_accuracy: 0.2000 - lr: 0.0010 - 16s/epoch - 24ms/step
Epoch 274/625
641/641 - 15s - loss: 1.6095 - accuracy: 0.1981 - val_loss: 1.6095 - val_accuracy: 0.2000 - lr: 0.0010 - 15s/epoch - 24ms/step
Epoch 275/625
641/641 - 16s - loss: 1.6095 - accuracy: 0.1993 - val_loss: 1.6095 - val_accuracy: 0.2000 - lr: 0.0010 - 16s/epoch - 24ms/step
Epoch 276/625
641/641 - 15s - loss: 1.6095 - accuracy: 0.1991 - val_loss: 1.6095 - val_accuracy: 0.2000 - lr: 0.0010 - 15s/epoch - 24ms/step
Epoch 277/625
641/641 - 16s - loss: 1.6095 - accuracy: 0.2001 - val_loss: 1.6094 - val_accuracy: 0.2000 - lr: 0.0010 - 16s/epoch - 24ms/step
Epoch 278/625
641/641 - 16s - loss: 1.6095 - accuracy: 0.1991 - val_loss: 1.6095 - val_accuracy: 0.2000 - lr: 0.0010 - 16s/epoch - 24ms/step
Epoch 279/625
641/641 - 15s - loss: 1.6095 - accuracy: 0.1995 - val_loss: 1.6095 - val_accuracy: 0.2000 - lr: 0.0010 - 15s/epoch - 24ms/step
Epoch 280/625
641/641 - 16s - loss: 1.6095 - accuracy: 0.1988 - val_loss: 1.6094 - val_accuracy: 0.2000 - lr: 0.0010 - 16s/epoch - 24ms/step
Epoch 281/625
641/641 - 16s - loss: 1.6095 - accuracy: 0.1992 - val_loss: 1.6095 - val_accuracy: 0.2000 - lr: 0.0010 - 16s/epoch - 24ms/step
Epoch 282/625
641/641 - 16s - loss: 1.6095 - accuracy: 0.1996 - val_loss: 1.6095 - val_accuracy: 0.2000 - lr: 0.0010 - 16s/epoch - 24ms/step
Epoch 283/625
641/641 - 16s - loss: 1.6095 - accuracy: 0.1987 - val_loss: 1.6095 - val_accuracy: 0.2000 - lr: 0.0010 - 16s/epoch - 24ms/step
Epoch 284/625
641/641 - 15s - loss: 1.6095 - accuracy: 0.1988 - val_loss: 1.6095 - val_accuracy: 0.2000 - lr: 0.0010 - 15s/epoch - 24ms/step
Epoch 285/625
641/641 - 16s - loss: 1.6095 - accuracy: 0.2007 - val_loss: 1.6094 - val_accuracy: 0.2000 - lr: 0.0010 - 16s/epoch - 24ms/step
Epoch 286/625
641/641 - 16s - loss: 1.6095 - accuracy: 0.1967 - val_loss: 1.6095 - val_accuracy: 0.2000 - lr: 0.0010 - 16s/epoch - 25ms/step
Epoch 287/625
641/641 - 16s - loss: 1.6095 - accuracy: 0.1981 - val_loss: 1.6095 - val_accuracy: 0.2000 - lr: 0.0010 - 16s/epoch - 24ms/step
Epoch 288/625
641/641 - 15s - loss: 1.6095 - accuracy: 0.1980 - val_loss: 1.6095 - val_accuracy: 0.2000 - lr: 0.0010 - 15s/epoch - 24ms/step
Epoch 289/625
641/641 - 16s - loss: 1.6095 - accuracy: 0.1985 - val_loss: 1.6095 - val_accuracy: 0.2000 - lr: 0.0010 - 16s/epoch - 24ms/step
Epoch 290/625
641/641 - 15s - loss: 1.6095 - accuracy: 0.1993 - val_loss: 1.6095 - val_accuracy: 0.2000 - lr: 0.0010 - 15s/epoch - 24ms/step
Epoch 291/625
641/641 - 16s - loss: 1.6095 - accuracy: 0.1988 - val_loss: 1.6094 - val_accuracy: 0.2000 - lr: 0.0010 - 16s/epoch - 24ms/step
Epoch 292/625
641/641 - 16s - loss: 1.6095 - accuracy: 0.1988 - val_loss: 1.6095 - val_accuracy: 0.2000 - lr: 0.0010 - 16s/epoch - 24ms/step
Epoch 293/625
641/641 - 16s - loss: 1.6095 - accuracy: 0.1984 - val_loss: 1.6095 - val_accuracy: 0.2000 - lr: 0.0010 - 16s/epoch - 24ms/step
Epoch 294/625
641/641 - 16s - loss: 1.6095 - accuracy: 0.1987 - val_loss: 1.6095 - val_accuracy: 0.2000 - lr: 0.0010 - 16s/epoch - 24ms/step
Epoch 295/625
641/641 - 16s - loss: 1.6095 - accuracy: 0.1965 - val_loss: 1.6095 - val_accuracy: 0.2000 - lr: 0.0010 - 16s/epoch - 24ms/step
Epoch 296/625
641/641 - 16s - loss: 1.6095 - accuracy: 0.2005 - val_loss: 1.6094 - val_accuracy: 0.2000 - lr: 0.0010 - 16s/epoch - 24ms/step
Epoch 297/625
641/641 - 16s - loss: 1.6095 - accuracy: 0.1981 - val_loss: 1.6094 - val_accuracy: 0.2000 - lr: 0.0010 - 16s/epoch - 24ms/step
Epoch 298/625
641/641 - 15s - loss: 1.6095 - accuracy: 0.1994 - val_loss: 1.6095 - val_accuracy: 0.2000 - lr: 0.0010 - 15s/epoch - 24ms/step
Epoch 299/625
641/641 - 16s - loss: 1.6095 - accuracy: 0.1998 - val_loss: 1.6095 - val_accuracy: 0.2000 - lr: 0.0010 - 16s/epoch - 24ms/step
Epoch 300/625
641/641 - 15s - loss: 1.6095 - accuracy: 0.1992 - val_loss: 1.6095 - val_accuracy: 0.2000 - lr: 0.0010 - 15s/epoch - 24ms/step
Epoch 301/625
641/641 - 16s - loss: 1.6095 - accuracy: 0.1983 - val_loss: 1.6094 - val_accuracy: 0.2000 - lr: 0.0010 - 16s/epoch - 24ms/step
Epoch 302/625
641/641 - 16s - loss: 1.6095 - accuracy: 0.1989 - val_loss: 1.6094 - val_accuracy: 0.2000 - lr: 0.0010 - 16s/epoch - 24ms/step
Epoch 303/625
641/641 - 15s - loss: 1.6095 - accuracy: 0.1984 - val_loss: 1.6095 - val_accuracy: 0.2000 - lr: 0.0010 - 15s/epoch - 24ms/step
Epoch 304/625
641/641 - 15s - loss: 1.6095 - accuracy: 0.2004 - val_loss: 1.6094 - val_accuracy: 0.2000 - lr: 0.0010 - 15s/epoch - 24ms/step
Epoch 305/625
641/641 - 16s - loss: 1.6095 - accuracy: 0.2010 - val_loss: 1.6094 - val_accuracy: 0.2000 - lr: 0.0010 - 16s/epoch - 24ms/step
Epoch 306/625
641/641 - 15s - loss: 1.6095 - accuracy: 0.1976 - val_loss: 1.6094 - val_accuracy: 0.2000 - lr: 0.0010 - 15s/epoch - 24ms/step
Epoch 307/625
641/641 - 16s - loss: 1.6095 - accuracy: 0.1979 - val_loss: 1.6094 - val_accuracy: 0.2000 - lr: 0.0010 - 16s/epoch - 24ms/step
Epoch 308/625
641/641 - 15s - loss: 1.6095 - accuracy: 0.1975 - val_loss: 1.6095 - val_accuracy: 0.2000 - lr: 0.0010 - 15s/epoch - 24ms/step
Epoch 309/625
641/641 - 16s - loss: 1.6095 - accuracy: 0.1992 - val_loss: 1.6095 - val_accuracy: 0.2000 - lr: 0.0010 - 16s/epoch - 24ms/step
Epoch 310/625
641/641 - 16s - loss: 1.6095 - accuracy: 0.1986 - val_loss: 1.6094 - val_accuracy: 0.2000 - lr: 0.0010 - 16s/epoch - 24ms/step
Epoch 311/625
641/641 - 16s - loss: 1.6095 - accuracy: 0.2010 - val_loss: 1.6095 - val_accuracy: 0.2000 - lr: 0.0010 - 16s/epoch - 24ms/step
Epoch 312/625
641/641 - 16s - loss: 1.6095 - accuracy: 0.2003 - val_loss: 1.6095 - val_accuracy: 0.2000 - lr: 0.0010 - 16s/epoch - 24ms/step
Epoch 313/625
641/641 - 16s - loss: 1.6095 - accuracy: 0.1994 - val_loss: 1.6095 - val_accuracy: 0.2000 - lr: 0.0010 - 16s/epoch - 24ms/step
Epoch 314/625
641/641 - 15s - loss: 1.6095 - accuracy: 0.1998 - val_loss: 1.6094 - val_accuracy: 0.2000 - lr: 0.0010 - 15s/epoch - 24ms/step
Epoch 315/625
641/641 - 16s - loss: 1.6095 - accuracy: 0.1991 - val_loss: 1.6095 - val_accuracy: 0.2000 - lr: 0.0010 - 16s/epoch - 24ms/step
Epoch 316/625
641/641 - 15s - loss: 1.6095 - accuracy: 0.1978 - val_loss: 1.6095 - val_accuracy: 0.2000 - lr: 0.0010 - 15s/epoch - 24ms/step
Epoch 317/625
641/641 - 16s - loss: 1.6095 - accuracy: 0.1970 - val_loss: 1.6094 - val_accuracy: 0.2000 - lr: 0.0010 - 16s/epoch - 24ms/step
Epoch 318/625
641/641 - 16s - loss: 1.6095 - accuracy: 0.1978 - val_loss: 1.6095 - val_accuracy: 0.2000 - lr: 0.0010 - 16s/epoch - 24ms/step
Epoch 319/625
641/641 - 16s - loss: 1.6095 - accuracy: 0.2010 - val_loss: 1.6096 - val_accuracy: 0.2000 - lr: 0.0010 - 16s/epoch - 24ms/step
Epoch 320/625
641/641 - 15s - loss: 1.6096 - accuracy: 0.1973 - val_loss: 1.6094 - val_accuracy: 0.2000 - lr: 0.0010 - 15s/epoch - 24ms/step
Epoch 321/625
641/641 - 16s - loss: 1.6095 - accuracy: 0.1966 - val_loss: 1.6095 - val_accuracy: 0.2000 - lr: 0.0010 - 16s/epoch - 24ms/step
Epoch 322/625
641/641 - 15s - loss: 1.6095 - accuracy: 0.2006 - val_loss: 1.6094 - val_accuracy: 0.2000 - lr: 0.0010 - 15s/epoch - 24ms/step
Epoch 323/625
641/641 - 16s - loss: 1.6095 - accuracy: 0.1996 - val_loss: 1.6094 - val_accuracy: 0.2000 - lr: 0.0010 - 16s/epoch - 24ms/step
Epoch 324/625
641/641 - 15s - loss: 1.6095 - accuracy: 0.1998 - val_loss: 1.6095 - val_accuracy: 0.2000 - lr: 0.0010 - 15s/epoch - 24ms/step
Epoch 325/625
641/641 - 15s - loss: 1.6095 - accuracy: 0.2008 - val_loss: 1.6095 - val_accuracy: 0.2000 - lr: 0.0010 - 15s/epoch - 24ms/step
Epoch 326/625
641/641 - 15s - loss: 1.6095 - accuracy: 0.1995 - val_loss: 1.6096 - val_accuracy: 0.2000 - lr: 0.0010 - 15s/epoch - 24ms/step
Epoch 327/625
641/641 - 16s - loss: 1.6095 - accuracy: 0.1999 - val_loss: 1.6094 - val_accuracy: 0.2000 - lr: 0.0010 - 16s/epoch - 24ms/step
Epoch 328/625
641/641 - 15s - loss: 1.6095 - accuracy: 0.1973 - val_loss: 1.6094 - val_accuracy: 0.2000 - lr: 0.0010 - 15s/epoch - 24ms/step
Epoch 329/625
641/641 - 16s - loss: 1.6095 - accuracy: 0.1995 - val_loss: 1.6095 - val_accuracy: 0.2000 - lr: 0.0010 - 16s/epoch - 24ms/step
Epoch 330/625
641/641 - 15s - loss: 1.6095 - accuracy: 0.1966 - val_loss: 1.6094 - val_accuracy: 0.2000 - lr: 0.0010 - 15s/epoch - 24ms/step
Epoch 331/625
641/641 - 16s - loss: 1.6095 - accuracy: 0.1977 - val_loss: 1.6094 - val_accuracy: 0.2000 - lr: 0.0010 - 16s/epoch - 25ms/step
Epoch 332/625
641/641 - 15s - loss: 1.6095 - accuracy: 0.1981 - val_loss: 1.6095 - val_accuracy: 0.2000 - lr: 0.0010 - 15s/epoch - 24ms/step
Epoch 333/625
641/641 - 16s - loss: 1.6095 - accuracy: 0.2001 - val_loss: 1.6094 - val_accuracy: 0.2000 - lr: 0.0010 - 16s/epoch - 25ms/step
Epoch 334/625
641/641 - 15s - loss: 1.6095 - accuracy: 0.1986 - val_loss: 1.6095 - val_accuracy: 0.2000 - lr: 0.0010 - 15s/epoch - 24ms/step
Epoch 335/625
641/641 - 16s - loss: 1.6095 - accuracy: 0.1984 - val_loss: 1.6095 - val_accuracy: 0.2000 - lr: 0.0010 - 16s/epoch - 24ms/step
Epoch 336/625
641/641 - 16s - loss: 1.6095 - accuracy: 0.1997 - val_loss: 1.6095 - val_accuracy: 0.2000 - lr: 0.0010 - 16s/epoch - 24ms/step
Epoch 337/625
641/641 - 16s - loss: 1.6095 - accuracy: 0.1999 - val_loss: 1.6095 - val_accuracy: 0.2000 - lr: 0.0010 - 16s/epoch - 24ms/step
Epoch 338/625
641/641 - 16s - loss: 1.6095 - accuracy: 0.1990 - val_loss: 1.6095 - val_accuracy: 0.2000 - lr: 0.0010 - 16s/epoch - 24ms/step
Epoch 339/625
641/641 - 16s - loss: 1.6095 - accuracy: 0.2002 - val_loss: 1.6095 - val_accuracy: 0.2000 - lr: 0.0010 - 16s/epoch - 24ms/step
Epoch 340/625
641/641 - 16s - loss: 1.6095 - accuracy: 0.1999 - val_loss: 1.6095 - val_accuracy: 0.2000 - lr: 0.0010 - 16s/epoch - 24ms/step
Epoch 341/625
641/641 - 16s - loss: 1.6095 - accuracy: 0.1998 - val_loss: 1.6095 - val_accuracy: 0.2000 - lr: 0.0010 - 16s/epoch - 24ms/step
Epoch 342/625
641/641 - 15s - loss: 1.6095 - accuracy: 0.1991 - val_loss: 1.6094 - val_accuracy: 0.2000 - lr: 0.0010 - 15s/epoch - 24ms/step
Epoch 343/625
641/641 - 16s - loss: 1.6095 - accuracy: 0.1980 - val_loss: 1.6094 - val_accuracy: 0.2000 - lr: 0.0010 - 16s/epoch - 24ms/step
Epoch 344/625
641/641 - 15s - loss: 1.6095 - accuracy: 0.2009 - val_loss: 1.6095 - val_accuracy: 0.2000 - lr: 0.0010 - 15s/epoch - 24ms/step
Epoch 345/625
641/641 - 16s - loss: 1.6095 - accuracy: 0.2001 - val_loss: 1.6095 - val_accuracy: 0.2000 - lr: 0.0010 - 16s/epoch - 24ms/step
Epoch 346/625
641/641 - 16s - loss: 1.6095 - accuracy: 0.2013 - val_loss: 1.6095 - val_accuracy: 0.2000 - lr: 0.0010 - 16s/epoch - 24ms/step
Epoch 347/625
641/641 - 15s - loss: 1.6095 - accuracy: 0.1982 - val_loss: 1.6095 - val_accuracy: 0.2000 - lr: 0.0010 - 15s/epoch - 24ms/step
Epoch 348/625
641/641 - 15s - loss: 1.6095 - accuracy: 0.1977 - val_loss: 1.6094 - val_accuracy: 0.2000 - lr: 0.0010 - 15s/epoch - 24ms/step
Epoch 349/625
641/641 - 16s - loss: 1.6095 - accuracy: 0.1990 - val_loss: 1.6095 - val_accuracy: 0.2000 - lr: 0.0010 - 16s/epoch - 24ms/step
Epoch 350/625
641/641 - 15s - loss: 1.6095 - accuracy: 0.2008 - val_loss: 1.6095 - val_accuracy: 0.2000 - lr: 0.0010 - 15s/epoch - 24ms/step
Epoch 351/625
641/641 - 16s - loss: 1.6095 - accuracy: 0.2002 - val_loss: 1.6095 - val_accuracy: 0.2000 - lr: 0.0010 - 16s/epoch - 24ms/step
Epoch 352/625
641/641 - 15s - loss: 1.6095 - accuracy: 0.1978 - val_loss: 1.6095 - val_accuracy: 0.2000 - lr: 0.0010 - 15s/epoch - 24ms/step
Epoch 353/625
641/641 - 16s - loss: 1.6095 - accuracy: 0.1978 - val_loss: 1.6095 - val_accuracy: 0.2000 - lr: 0.0010 - 16s/epoch - 24ms/step
Epoch 354/625
641/641 - 16s - loss: 1.6095 - accuracy: 0.1999 - val_loss: 1.6095 - val_accuracy: 0.2000 - lr: 0.0010 - 16s/epoch - 24ms/step
Epoch 355/625
641/641 - 16s - loss: 1.6095 - accuracy: 0.2009 - val_loss: 1.6095 - val_accuracy: 0.2000 - lr: 0.0010 - 16s/epoch - 25ms/step
Epoch 356/625
641/641 - 16s - loss: 1.6095 - accuracy: 0.1975 - val_loss: 1.6094 - val_accuracy: 0.2000 - lr: 0.0010 - 16s/epoch - 24ms/step
Epoch 357/625
641/641 - 16s - loss: 1.6095 - accuracy: 0.1979 - val_loss: 1.6094 - val_accuracy: 0.2000 - lr: 0.0010 - 16s/epoch - 24ms/step
Epoch 358/625
641/641 - 16s - loss: 1.6095 - accuracy: 0.1983 - val_loss: 1.6095 - val_accuracy: 0.2000 - lr: 0.0010 - 16s/epoch - 24ms/step
Epoch 359/625
641/641 - 16s - loss: 1.6095 - accuracy: 0.1993 - val_loss: 1.6094 - val_accuracy: 0.2000 - lr: 0.0010 - 16s/epoch - 24ms/step
Epoch 360/625
641/641 - 16s - loss: 1.6095 - accuracy: 0.1987 - val_loss: 1.6095 - val_accuracy: 0.2000 - lr: 0.0010 - 16s/epoch - 24ms/step
Epoch 361/625
641/641 - 16s - loss: 1.6095 - accuracy: 0.1993 - val_loss: 1.6095 - val_accuracy: 0.2000 - lr: 0.0010 - 16s/epoch - 24ms/step
Epoch 362/625
641/641 - 15s - loss: 1.6095 - accuracy: 0.1974 - val_loss: 1.6094 - val_accuracy: 0.2000 - lr: 0.0010 - 15s/epoch - 24ms/step
Epoch 363/625
641/641 - 16s - loss: 1.6095 - accuracy: 0.1995 - val_loss: 1.6095 - val_accuracy: 0.2000 - lr: 0.0010 - 16s/epoch - 24ms/step
Epoch 364/625
641/641 - 16s - loss: 1.6095 - accuracy: 0.2004 - val_loss: 1.6095 - val_accuracy: 0.2000 - lr: 0.0010 - 16s/epoch - 24ms/step
Epoch 365/625
641/641 - 16s - loss: 1.6095 - accuracy: 0.1993 - val_loss: 1.6095 - val_accuracy: 0.2000 - lr: 0.0010 - 16s/epoch - 24ms/step
Epoch 366/625
641/641 - 15s - loss: 1.6095 - accuracy: 0.1995 - val_loss: 1.6095 - val_accuracy: 0.2000 - lr: 0.0010 - 15s/epoch - 24ms/step
Epoch 367/625
641/641 - 16s - loss: 1.6095 - accuracy: 0.1998 - val_loss: 1.6095 - val_accuracy: 0.2000 - lr: 0.0010 - 16s/epoch - 24ms/step
Epoch 368/625
641/641 - 15s - loss: 1.6095 - accuracy: 0.1985 - val_loss: 1.6095 - val_accuracy: 0.2000 - lr: 0.0010 - 15s/epoch - 24ms/step
Epoch 369/625
641/641 - 16s - loss: 1.6095 - accuracy: 0.1990 - val_loss: 1.6095 - val_accuracy: 0.2000 - lr: 0.0010 - 16s/epoch - 24ms/step
Epoch 370/625
641/641 - 15s - loss: 1.6095 - accuracy: 0.1994 - val_loss: 1.6095 - val_accuracy: 0.2000 - lr: 0.0010 - 15s/epoch - 24ms/step
Epoch 371/625
641/641 - 16s - loss: 1.6095 - accuracy: 0.1986 - val_loss: 1.6095 - val_accuracy: 0.2000 - lr: 0.0010 - 16s/epoch - 24ms/step
Epoch 372/625
641/641 - 15s - loss: 1.6095 - accuracy: 0.1971 - val_loss: 1.6095 - val_accuracy: 0.2000 - lr: 0.0010 - 15s/epoch - 24ms/step
Epoch 373/625
641/641 - 16s - loss: 1.6095 - accuracy: 0.1997 - val_loss: 1.6095 - val_accuracy: 0.2000 - lr: 0.0010 - 16s/epoch - 24ms/step
Epoch 374/625
641/641 - 15s - loss: 1.6095 - accuracy: 0.1992 - val_loss: 1.6095 - val_accuracy: 0.2000 - lr: 0.0010 - 15s/epoch - 24ms/step
Epoch 375/625
641/641 - 16s - loss: 1.6095 - accuracy: 0.1978 - val_loss: 1.6095 - val_accuracy: 0.2000 - lr: 0.0010 - 16s/epoch - 24ms/step
Epoch 376/625
641/641 - 16s - loss: 1.6095 - accuracy: 0.1969 - val_loss: 1.6095 - val_accuracy: 0.2000 - lr: 0.0010 - 16s/epoch - 24ms/step
Epoch 377/625
641/641 - 16s - loss: 1.6095 - accuracy: 0.1996 - val_loss: 1.6095 - val_accuracy: 0.2000 - lr: 0.0010 - 16s/epoch - 24ms/step
Epoch 378/625
641/641 - 15s - loss: 1.6095 - accuracy: 0.1988 - val_loss: 1.6095 - val_accuracy: 0.2000 - lr: 0.0010 - 15s/epoch - 24ms/step
Epoch 379/625
641/641 - 16s - loss: 1.6095 - accuracy: 0.1986 - val_loss: 1.6095 - val_accuracy: 0.2000 - lr: 0.0010 - 16s/epoch - 24ms/step
Epoch 380/625
641/641 - 15s - loss: 1.6095 - accuracy: 0.1994 - val_loss: 1.6094 - val_accuracy: 0.2000 - lr: 0.0010 - 15s/epoch - 24ms/step
Epoch 381/625
641/641 - 16s - loss: 1.6095 - accuracy: 0.2002 - val_loss: 1.6095 - val_accuracy: 0.2000 - lr: 0.0010 - 16s/epoch - 24ms/step
Epoch 382/625
641/641 - 15s - loss: 1.6095 - accuracy: 0.2002 - val_loss: 1.6095 - val_accuracy: 0.2000 - lr: 0.0010 - 15s/epoch - 24ms/step
Epoch 383/625
641/641 - 16s - loss: 1.6095 - accuracy: 0.1978 - val_loss: 1.6095 - val_accuracy: 0.2000 - lr: 0.0010 - 16s/epoch - 24ms/step
Epoch 384/625
641/641 - 16s - loss: 1.6095 - accuracy: 0.2024 - val_loss: 1.6096 - val_accuracy: 0.2000 - lr: 0.0010 - 16s/epoch - 24ms/step
Epoch 385/625
641/641 - 16s - loss: 1.6095 - accuracy: 0.1985 - val_loss: 1.6095 - val_accuracy: 0.2000 - lr: 0.0010 - 16s/epoch - 24ms/step
Epoch 386/625
641/641 - 16s - loss: 1.6095 - accuracy: 0.2020 - val_loss: 1.6095 - val_accuracy: 0.2000 - lr: 0.0010 - 16s/epoch - 24ms/step
Epoch 387/625
641/641 - 16s - loss: 1.6095 - accuracy: 0.1968 - val_loss: 1.6095 - val_accuracy: 0.2000 - lr: 0.0010 - 16s/epoch - 24ms/step
Epoch 388/625
641/641 - 15s - loss: 1.6095 - accuracy: 0.1993 - val_loss: 1.6094 - val_accuracy: 0.2000 - lr: 0.0010 - 15s/epoch - 24ms/step
Epoch 389/625
641/641 - 16s - loss: 1.6095 - accuracy: 0.1981 - val_loss: 1.6094 - val_accuracy: 0.2000 - lr: 0.0010 - 16s/epoch - 24ms/step
Epoch 390/625
641/641 - 15s - loss: 1.6095 - accuracy: 0.1998 - val_loss: 1.6095 - val_accuracy: 0.2000 - lr: 0.0010 - 15s/epoch - 24ms/step
Epoch 391/625
641/641 - 16s - loss: 1.6095 - accuracy: 0.1986 - val_loss: 1.6095 - val_accuracy: 0.2000 - lr: 0.0010 - 16s/epoch - 24ms/step
Epoch 392/625
641/641 - 16s - loss: 1.6095 - accuracy: 0.1978 - val_loss: 1.6094 - val_accuracy: 0.2000 - lr: 0.0010 - 16s/epoch - 24ms/step
Epoch 393/625
641/641 - 15s - loss: 1.6095 - accuracy: 0.1987 - val_loss: 1.6094 - val_accuracy: 0.2000 - lr: 0.0010 - 15s/epoch - 24ms/step
Epoch 394/625
641/641 - 16s - loss: 1.6095 - accuracy: 0.1967 - val_loss: 1.6094 - val_accuracy: 0.2000 - lr: 0.0010 - 16s/epoch - 24ms/step
Epoch 395/625
641/641 - 15s - loss: 1.6095 - accuracy: 0.1988 - val_loss: 1.6095 - val_accuracy: 0.2000 - lr: 0.0010 - 15s/epoch - 24ms/step
Epoch 396/625
641/641 - 16s - loss: 1.6095 - accuracy: 0.1982 - val_loss: 1.6095 - val_accuracy: 0.2000 - lr: 0.0010 - 16s/epoch - 24ms/step
Epoch 397/625
641/641 - 16s - loss: 1.6095 - accuracy: 0.1989 - val_loss: 1.6095 - val_accuracy: 0.2000 - lr: 0.0010 - 16s/epoch - 24ms/step
Epoch 398/625
641/641 - 15s - loss: 1.6095 - accuracy: 0.1988 - val_loss: 1.6095 - val_accuracy: 0.2000 - lr: 0.0010 - 15s/epoch - 24ms/step
Epoch 399/625
641/641 - 16s - loss: 1.6095 - accuracy: 0.2002 - val_loss: 1.6095 - val_accuracy: 0.2000 - lr: 0.0010 - 16s/epoch - 24ms/step
Epoch 400/625
641/641 - 16s - loss: 1.6095 - accuracy: 0.2021 - val_loss: 1.6095 - val_accuracy: 0.2000 - lr: 0.0010 - 16s/epoch - 24ms/step
Epoch 401/625
641/641 - 16s - loss: 1.6095 - accuracy: 0.1988 - val_loss: 1.6095 - val_accuracy: 0.2000 - lr: 0.0010 - 16s/epoch - 24ms/step
Epoch 402/625
641/641 - 16s - loss: 1.6095 - accuracy: 0.2003 - val_loss: 1.6095 - val_accuracy: 0.2000 - lr: 0.0010 - 16s/epoch - 24ms/step
Epoch 403/625
641/641 - 16s - loss: 1.6095 - accuracy: 0.2023 - val_loss: 1.6095 - val_accuracy: 0.2000 - lr: 0.0010 - 16s/epoch - 24ms/step
Epoch 404/625
641/641 - 15s - loss: 1.6095 - accuracy: 0.1994 - val_loss: 1.6095 - val_accuracy: 0.2000 - lr: 0.0010 - 15s/epoch - 24ms/step
Epoch 405/625
641/641 - 16s - loss: 1.6095 - accuracy: 0.1984 - val_loss: 1.6095 - val_accuracy: 0.2000 - lr: 0.0010 - 16s/epoch - 24ms/step
Epoch 406/625
641/641 - 16s - loss: 1.6095 - accuracy: 0.1988 - val_loss: 1.6095 - val_accuracy: 0.2000 - lr: 0.0010 - 16s/epoch - 24ms/step
Epoch 407/625
641/641 - 16s - loss: 1.6095 - accuracy: 0.1984 - val_loss: 1.6095 - val_accuracy: 0.2000 - lr: 0.0010 - 16s/epoch - 24ms/step
Epoch 408/625
641/641 - 15s - loss: 1.6095 - accuracy: 0.1992 - val_loss: 1.6095 - val_accuracy: 0.2000 - lr: 0.0010 - 15s/epoch - 24ms/step
Epoch 409/625
641/641 - 16s - loss: 1.6095 - accuracy: 0.1997 - val_loss: 1.6095 - val_accuracy: 0.2000 - lr: 0.0010 - 16s/epoch - 24ms/step
Epoch 410/625
641/641 - 15s - loss: 1.6095 - accuracy: 0.1982 - val_loss: 1.6095 - val_accuracy: 0.2000 - lr: 0.0010 - 15s/epoch - 24ms/step
Epoch 411/625
641/641 - 16s - loss: 1.6095 - accuracy: 0.1995 - val_loss: 1.6095 - val_accuracy: 0.2000 - lr: 0.0010 - 16s/epoch - 25ms/step
Epoch 412/625
641/641 - 16s - loss: 1.6095 - accuracy: 0.1966 - val_loss: 1.6094 - val_accuracy: 0.2000 - lr: 0.0010 - 16s/epoch - 24ms/step
Epoch 413/625
641/641 - 16s - loss: 1.6095 - accuracy: 0.1995 - val_loss: 1.6095 - val_accuracy: 0.2000 - lr: 0.0010 - 16s/epoch - 24ms/step
Epoch 414/625
641/641 - 16s - loss: 1.6095 - accuracy: 0.1989 - val_loss: 1.6095 - val_accuracy: 0.2000 - lr: 0.0010 - 16s/epoch - 24ms/step
Epoch 415/625
641/641 - 16s - loss: 1.6096 - accuracy: 0.1977 - val_loss: 1.6095 - val_accuracy: 0.2000 - lr: 0.0010 - 16s/epoch - 24ms/step
Epoch 416/625
641/641 - 15s - loss: 1.6095 - accuracy: 0.1985 - val_loss: 1.6095 - val_accuracy: 0.2000 - lr: 0.0010 - 15s/epoch - 24ms/step
Epoch 417/625
641/641 - 16s - loss: 1.6095 - accuracy: 0.1994 - val_loss: 1.6095 - val_accuracy: 0.2000 - lr: 0.0010 - 16s/epoch - 24ms/step
Epoch 418/625
641/641 - 16s - loss: 1.6095 - accuracy: 0.1997 - val_loss: 1.6095 - val_accuracy: 0.2000 - lr: 0.0010 - 16s/epoch - 24ms/step
Epoch 419/625
641/641 - 16s - loss: 1.6095 - accuracy: 0.1985 - val_loss: 1.6094 - val_accuracy: 0.2000 - lr: 0.0010 - 16s/epoch - 24ms/step
Epoch 420/625
641/641 - 16s - loss: 1.6095 - accuracy: 0.1968 - val_loss: 1.6094 - val_accuracy: 0.2000 - lr: 0.0010 - 16s/epoch - 24ms/step
Epoch 421/625
641/641 - 16s - loss: 1.6095 - accuracy: 0.1988 - val_loss: 1.6094 - val_accuracy: 0.2000 - lr: 0.0010 - 16s/epoch - 24ms/step
Epoch 422/625
641/641 - 15s - loss: 1.6095 - accuracy: 0.2011 - val_loss: 1.6095 - val_accuracy: 0.2000 - lr: 0.0010 - 15s/epoch - 24ms/step
Epoch 423/625
641/641 - 16s - loss: 1.6095 - accuracy: 0.1985 - val_loss: 1.6095 - val_accuracy: 0.2000 - lr: 0.0010 - 16s/epoch - 24ms/step
Epoch 424/625
641/641 - 16s - loss: 1.6095 - accuracy: 0.1986 - val_loss: 1.6095 - val_accuracy: 0.2000 - lr: 0.0010 - 16s/epoch - 24ms/step
Epoch 425/625
641/641 - 16s - loss: 1.6095 - accuracy: 0.1995 - val_loss: 1.6095 - val_accuracy: 0.2000 - lr: 0.0010 - 16s/epoch - 24ms/step
Epoch 426/625
641/641 - 15s - loss: 1.6095 - accuracy: 0.1980 - val_loss: 1.6095 - val_accuracy: 0.2000 - lr: 0.0010 - 15s/epoch - 24ms/step
Epoch 427/625
641/641 - 16s - loss: 1.6095 - accuracy: 0.1970 - val_loss: 1.6095 - val_accuracy: 0.2000 - lr: 0.0010 - 16s/epoch - 25ms/step
Epoch 428/625
641/641 - 15s - loss: 1.6095 - accuracy: 0.1979 - val_loss: 1.6095 - val_accuracy: 0.2000 - lr: 0.0010 - 15s/epoch - 24ms/step
Epoch 429/625
641/641 - 16s - loss: 1.6095 - accuracy: 0.1978 - val_loss: 1.6095 - val_accuracy: 0.2000 - lr: 0.0010 - 16s/epoch - 24ms/step
Epoch 430/625
641/641 - 15s - loss: 1.6095 - accuracy: 0.1991 - val_loss: 1.6095 - val_accuracy: 0.2000 - lr: 0.0010 - 15s/epoch - 24ms/step
Epoch 431/625
641/641 - 16s - loss: 1.6095 - accuracy: 0.2002 - val_loss: 1.6095 - val_accuracy: 0.2000 - lr: 0.0010 - 16s/epoch - 24ms/step
Epoch 432/625
641/641 - 15s - loss: 1.6095 - accuracy: 0.1974 - val_loss: 1.6095 - val_accuracy: 0.2000 - lr: 0.0010 - 15s/epoch - 24ms/step
Epoch 433/625
641/641 - 16s - loss: 1.6095 - accuracy: 0.2005 - val_loss: 1.6095 - val_accuracy: 0.2000 - lr: 0.0010 - 16s/epoch - 25ms/step
Epoch 434/625
641/641 - 16s - loss: 1.6095 - accuracy: 0.1973 - val_loss: 1.6095 - val_accuracy: 0.2000 - lr: 0.0010 - 16s/epoch - 24ms/step
Epoch 435/625
641/641 - 16s - loss: 1.6095 - accuracy: 0.1995 - val_loss: 1.6095 - val_accuracy: 0.2000 - lr: 0.0010 - 16s/epoch - 24ms/step
Epoch 436/625
641/641 - 16s - loss: 1.6095 - accuracy: 0.1991 - val_loss: 1.6094 - val_accuracy: 0.2000 - lr: 0.0010 - 16s/epoch - 24ms/step
Epoch 437/625
641/641 - 16s - loss: 1.6095 - accuracy: 0.1995 - val_loss: 1.6094 - val_accuracy: 0.2000 - lr: 0.0010 - 16s/epoch - 24ms/step
Epoch 438/625
641/641 - 16s - loss: 1.6095 - accuracy: 0.1987 - val_loss: 1.6095 - val_accuracy: 0.2000 - lr: 0.0010 - 16s/epoch - 24ms/step
Epoch 439/625
641/641 - 15s - loss: 1.6095 - accuracy: 0.1981 - val_loss: 1.6095 - val_accuracy: 0.2000 - lr: 0.0010 - 15s/epoch - 24ms/step
Epoch 440/625
641/641 - 16s - loss: 1.6095 - accuracy: 0.2003 - val_loss: 1.6095 - val_accuracy: 0.2000 - lr: 0.0010 - 16s/epoch - 24ms/step
Epoch 441/625
641/641 - 16s - loss: 1.6095 - accuracy: 0.1992 - val_loss: 1.6095 - val_accuracy: 0.2000 - lr: 0.0010 - 16s/epoch - 24ms/step
Epoch 442/625
641/641 - 15s - loss: 1.6095 - accuracy: 0.2002 - val_loss: 1.6095 - val_accuracy: 0.2000 - lr: 0.0010 - 15s/epoch - 24ms/step
Epoch 443/625
641/641 - 16s - loss: 1.6095 - accuracy: 0.2004 - val_loss: 1.6095 - val_accuracy: 0.2000 - lr: 0.0010 - 16s/epoch - 24ms/step
Epoch 444/625
641/641 - 16s - loss: 1.6095 - accuracy: 0.1993 - val_loss: 1.6094 - val_accuracy: 0.2000 - lr: 0.0010 - 16s/epoch - 24ms/step
Epoch 445/625
641/641 - 16s - loss: 1.6095 - accuracy: 0.2008 - val_loss: 1.6095 - val_accuracy: 0.2000 - lr: 0.0010 - 16s/epoch - 24ms/step
Epoch 446/625
641/641 - 16s - loss: 1.6095 - accuracy: 0.1990 - val_loss: 1.6095 - val_accuracy: 0.2000 - lr: 0.0010 - 16s/epoch - 24ms/step
Epoch 447/625
641/641 - 16s - loss: 1.6095 - accuracy: 0.1996 - val_loss: 1.6095 - val_accuracy: 0.2000 - lr: 0.0010 - 16s/epoch - 24ms/step
Epoch 448/625
641/641 - 16s - loss: 1.6095 - accuracy: 0.1995 - val_loss: 1.6095 - val_accuracy: 0.2000 - lr: 0.0010 - 16s/epoch - 24ms/step
Epoch 449/625
641/641 - 15s - loss: 1.6095 - accuracy: 0.1993 - val_loss: 1.6095 - val_accuracy: 0.2000 - lr: 0.0010 - 15s/epoch - 24ms/step
Epoch 450/625
641/641 - 15s - loss: 1.6095 - accuracy: 0.1976 - val_loss: 1.6095 - val_accuracy: 0.2000 - lr: 0.0010 - 15s/epoch - 24ms/step
Epoch 451/625
641/641 - 16s - loss: 1.6095 - accuracy: 0.1994 - val_loss: 1.6094 - val_accuracy: 0.2000 - lr: 0.0010 - 16s/epoch - 24ms/step
Epoch 452/625
641/641 - 16s - loss: 1.6095 - accuracy: 0.1971 - val_loss: 1.6094 - val_accuracy: 0.2000 - lr: 0.0010 - 16s/epoch - 24ms/step
Epoch 453/625
641/641 - 16s - loss: 1.6095 - accuracy: 0.1991 - val_loss: 1.6095 - val_accuracy: 0.2000 - lr: 0.0010 - 16s/epoch - 24ms/step
Epoch 454/625
641/641 - 16s - loss: 1.6095 - accuracy: 0.1993 - val_loss: 1.6094 - val_accuracy: 0.2000 - lr: 0.0010 - 16s/epoch - 24ms/step
Epoch 455/625
641/641 - 16s - loss: 1.6095 - accuracy: 0.1985 - val_loss: 1.6094 - val_accuracy: 0.2000 - lr: 0.0010 - 16s/epoch - 24ms/step
Epoch 456/625
641/641 - 16s - loss: 1.6095 - accuracy: 0.2003 - val_loss: 1.6095 - val_accuracy: 0.2000 - lr: 0.0010 - 16s/epoch - 24ms/step
Epoch 457/625
641/641 - 16s - loss: 1.6095 - accuracy: 0.1998 - val_loss: 1.6095 - val_accuracy: 0.2000 - lr: 0.0010 - 16s/epoch - 24ms/step
Epoch 458/625
641/641 - 15s - loss: 1.6095 - accuracy: 0.2001 - val_loss: 1.6095 - val_accuracy: 0.2000 - lr: 0.0010 - 15s/epoch - 24ms/step
Epoch 459/625
641/641 - 16s - loss: 1.6095 - accuracy: 0.1985 - val_loss: 1.6095 - val_accuracy: 0.2000 - lr: 0.0010 - 16s/epoch - 24ms/step
Epoch 460/625
641/641 - 16s - loss: 1.6095 - accuracy: 0.1999 - val_loss: 1.6095 - val_accuracy: 0.2000 - lr: 0.0010 - 16s/epoch - 24ms/step
Epoch 461/625
641/641 - 16s - loss: 1.6095 - accuracy: 0.1990 - val_loss: 1.6095 - val_accuracy: 0.2000 - lr: 0.0010 - 16s/epoch - 24ms/step
Epoch 462/625
641/641 - 15s - loss: 1.6095 - accuracy: 0.2006 - val_loss: 1.6095 - val_accuracy: 0.2000 - lr: 0.0010 - 15s/epoch - 24ms/step
Epoch 463/625
641/641 - 16s - loss: 1.6095 - accuracy: 0.1997 - val_loss: 1.6096 - val_accuracy: 0.2000 - lr: 0.0010 - 16s/epoch - 25ms/step
Epoch 464/625
641/641 - 15s - loss: 1.6095 - accuracy: 0.1969 - val_loss: 1.6095 - val_accuracy: 0.2000 - lr: 0.0010 - 15s/epoch - 24ms/step
Epoch 465/625
641/641 - 15s - loss: 1.6095 - accuracy: 0.2010 - val_loss: 1.6095 - val_accuracy: 0.2000 - lr: 0.0010 - 15s/epoch - 24ms/step
Epoch 466/625
641/641 - 15s - loss: 1.6095 - accuracy: 0.2007 - val_loss: 1.6095 - val_accuracy: 0.2000 - lr: 0.0010 - 15s/epoch - 24ms/step
Epoch 467/625
641/641 - 16s - loss: 1.6095 - accuracy: 0.1988 - val_loss: 1.6094 - val_accuracy: 0.2000 - lr: 0.0010 - 16s/epoch - 24ms/step
Epoch 468/625
641/641 - 16s - loss: 1.6095 - accuracy: 0.1985 - val_loss: 1.6095 - val_accuracy: 0.2000 - lr: 0.0010 - 16s/epoch - 24ms/step
Epoch 469/625
641/641 - 15s - loss: 1.6095 - accuracy: 0.1997 - val_loss: 1.6095 - val_accuracy: 0.2000 - lr: 0.0010 - 15s/epoch - 24ms/step
Epoch 470/625
641/641 - 15s - loss: 1.6095 - accuracy: 0.2007 - val_loss: 1.6095 - val_accuracy: 0.2000 - lr: 0.0010 - 15s/epoch - 24ms/step
Epoch 471/625
641/641 - 16s - loss: 1.6095 - accuracy: 0.1979 - val_loss: 1.6094 - val_accuracy: 0.2000 - lr: 0.0010 - 16s/epoch - 24ms/step
Epoch 472/625
641/641 - 15s - loss: 1.6095 - accuracy: 0.2004 - val_loss: 1.6095 - val_accuracy: 0.2000 - lr: 0.0010 - 15s/epoch - 24ms/step
Epoch 473/625
641/641 - 16s - loss: 1.6095 - accuracy: 0.2008 - val_loss: 1.6094 - val_accuracy: 0.2000 - lr: 0.0010 - 16s/epoch - 24ms/step
Epoch 474/625
641/641 - 15s - loss: 1.6095 - accuracy: 0.1977 - val_loss: 1.6094 - val_accuracy: 0.2000 - lr: 0.0010 - 15s/epoch - 24ms/step
Epoch 475/625
641/641 - 16s - loss: 1.6095 - accuracy: 0.2004 - val_loss: 1.6095 - val_accuracy: 0.2000 - lr: 0.0010 - 16s/epoch - 24ms/step
Epoch 476/625
641/641 - 15s - loss: 1.6095 - accuracy: 0.1978 - val_loss: 1.6094 - val_accuracy: 0.2000 - lr: 0.0010 - 15s/epoch - 24ms/step
Epoch 477/625
641/641 - 16s - loss: 1.6095 - accuracy: 0.1985 - val_loss: 1.6095 - val_accuracy: 0.2000 - lr: 0.0010 - 16s/epoch - 24ms/step
Epoch 478/625
641/641 - 16s - loss: 1.6095 - accuracy: 0.1986 - val_loss: 1.6095 - val_accuracy: 0.2000 - lr: 0.0010 - 16s/epoch - 24ms/step
Epoch 479/625
641/641 - 16s - loss: 1.6095 - accuracy: 0.2011 - val_loss: 1.6095 - val_accuracy: 0.2000 - lr: 0.0010 - 16s/epoch - 24ms/step
Epoch 480/625
641/641 - 15s - loss: 1.6095 - accuracy: 0.1979 - val_loss: 1.6094 - val_accuracy: 0.2000 - lr: 0.0010 - 15s/epoch - 24ms/step
Epoch 481/625
641/641 - 16s - loss: 1.6095 - accuracy: 0.2002 - val_loss: 1.6095 - val_accuracy: 0.2000 - lr: 0.0010 - 16s/epoch - 24ms/step
Epoch 482/625
641/641 - 15s - loss: 1.6095 - accuracy: 0.1993 - val_loss: 1.6095 - val_accuracy: 0.2000 - lr: 0.0010 - 15s/epoch - 24ms/step
Epoch 483/625
641/641 - 16s - loss: 1.6095 - accuracy: 0.1980 - val_loss: 1.6096 - val_accuracy: 0.2000 - lr: 0.0010 - 16s/epoch - 24ms/step
Epoch 484/625
641/641 - 15s - loss: 1.6095 - accuracy: 0.1997 - val_loss: 1.6095 - val_accuracy: 0.2000 - lr: 0.0010 - 15s/epoch - 24ms/step
Epoch 485/625
641/641 - 16s - loss: 1.6095 - accuracy: 0.2012 - val_loss: 1.6095 - val_accuracy: 0.2000 - lr: 0.0010 - 16s/epoch - 24ms/step
Epoch 486/625
641/641 - 15s - loss: 1.6095 - accuracy: 0.1983 - val_loss: 1.6095 - val_accuracy: 0.2000 - lr: 0.0010 - 15s/epoch - 24ms/step
Epoch 487/625
641/641 - 16s - loss: 1.6095 - accuracy: 0.1975 - val_loss: 1.6094 - val_accuracy: 0.2000 - lr: 0.0010 - 16s/epoch - 24ms/step
Epoch 488/625
641/641 - 15s - loss: 1.6095 - accuracy: 0.1991 - val_loss: 1.6095 - val_accuracy: 0.2000 - lr: 0.0010 - 15s/epoch - 24ms/step
Epoch 489/625
641/641 - 16s - loss: 1.6095 - accuracy: 0.2000 - val_loss: 1.6095 - val_accuracy: 0.2000 - lr: 0.0010 - 16s/epoch - 24ms/step
Epoch 490/625
641/641 - 16s - loss: 1.6095 - accuracy: 0.1986 - val_loss: 1.6095 - val_accuracy: 0.2000 - lr: 0.0010 - 16s/epoch - 24ms/step
Epoch 491/625
641/641 - 15s - loss: 1.6095 - accuracy: 0.1975 - val_loss: 1.6094 - val_accuracy: 0.2000 - lr: 0.0010 - 15s/epoch - 24ms/step
Epoch 492/625
641/641 - 16s - loss: 1.6095 - accuracy: 0.1983 - val_loss: 1.6094 - val_accuracy: 0.2000 - lr: 0.0010 - 16s/epoch - 24ms/step
Epoch 493/625
641/641 - 16s - loss: 1.6095 - accuracy: 0.1993 - val_loss: 1.6095 - val_accuracy: 0.2000 - lr: 0.0010 - 16s/epoch - 24ms/step
Epoch 494/625
641/641 - 16s - loss: 1.6095 - accuracy: 0.1993 - val_loss: 1.6095 - val_accuracy: 0.2000 - lr: 0.0010 - 16s/epoch - 24ms/step
Epoch 495/625
641/641 - 16s - loss: 1.6095 - accuracy: 0.1985 - val_loss: 1.6095 - val_accuracy: 0.2000 - lr: 0.0010 - 16s/epoch - 24ms/step
Epoch 496/625
641/641 - 15s - loss: 1.6095 - accuracy: 0.1970 - val_loss: 1.6095 - val_accuracy: 0.2000 - lr: 0.0010 - 15s/epoch - 24ms/step
Epoch 497/625
641/641 - 16s - loss: 1.6095 - accuracy: 0.1997 - val_loss: 1.6095 - val_accuracy: 0.2000 - lr: 0.0010 - 16s/epoch - 24ms/step
Epoch 498/625
641/641 - 15s - loss: 1.6095 - accuracy: 0.2005 - val_loss: 1.6095 - val_accuracy: 0.2000 - lr: 0.0010 - 15s/epoch - 24ms/step
Epoch 499/625
641/641 - 16s - loss: 1.6095 - accuracy: 0.1986 - val_loss: 1.6095 - val_accuracy: 0.2000 - lr: 0.0010 - 16s/epoch - 24ms/step
Epoch 500/625
641/641 - 16s - loss: 1.6095 - accuracy: 0.2001 - val_loss: 1.6095 - val_accuracy: 0.2000 - lr: 0.0010 - 16s/epoch - 24ms/step
Epoch 501/625
641/641 - 15s - loss: 1.6095 - accuracy: 0.1973 - val_loss: 1.6094 - val_accuracy: 0.2000 - lr: 0.0010 - 15s/epoch - 24ms/step
Epoch 502/625
641/641 - 15s - loss: 1.6095 - accuracy: 0.1973 - val_loss: 1.6095 - val_accuracy: 0.2000 - lr: 0.0010 - 15s/epoch - 24ms/step
Epoch 503/625
641/641 - 16s - loss: 1.6095 - accuracy: 0.2013 - val_loss: 1.6095 - val_accuracy: 0.2000 - lr: 0.0010 - 16s/epoch - 24ms/step
Epoch 504/625
641/641 - 15s - loss: 1.6095 - accuracy: 0.1991 - val_loss: 1.6095 - val_accuracy: 0.2000 - lr: 0.0010 - 15s/epoch - 24ms/step
Epoch 505/625
641/641 - 16s - loss: 1.6095 - accuracy: 0.1976 - val_loss: 1.6095 - val_accuracy: 0.2000 - lr: 0.0010 - 16s/epoch - 24ms/step
Epoch 506/625
641/641 - 16s - loss: 1.6095 - accuracy: 0.1985 - val_loss: 1.6095 - val_accuracy: 0.2000 - lr: 0.0010 - 16s/epoch - 24ms/step
Epoch 507/625
641/641 - 15s - loss: 1.6095 - accuracy: 0.2004 - val_loss: 1.6095 - val_accuracy: 0.2000 - lr: 0.0010 - 15s/epoch - 24ms/step
Epoch 508/625
641/641 - 16s - loss: 1.6095 - accuracy: 0.1988 - val_loss: 1.6095 - val_accuracy: 0.2000 - lr: 0.0010 - 16s/epoch - 24ms/step
Epoch 509/625
641/641 - 16s - loss: 1.6095 - accuracy: 0.1985 - val_loss: 1.6095 - val_accuracy: 0.2000 - lr: 0.0010 - 16s/epoch - 24ms/step
Epoch 510/625
641/641 - 15s - loss: 1.6095 - accuracy: 0.1987 - val_loss: 1.6094 - val_accuracy: 0.2000 - lr: 0.0010 - 15s/epoch - 24ms/step
Epoch 511/625
641/641 - 16s - loss: 1.6095 - accuracy: 0.1998 - val_loss: 1.6095 - val_accuracy: 0.2000 - lr: 0.0010 - 16s/epoch - 24ms/step
Epoch 512/625
641/641 - 15s - loss: 1.6095 - accuracy: 0.1991 - val_loss: 1.6095 - val_accuracy: 0.2000 - lr: 0.0010 - 15s/epoch - 24ms/step
Epoch 513/625
641/641 - 16s - loss: 1.6095 - accuracy: 0.1989 - val_loss: 1.6095 - val_accuracy: 0.2000 - lr: 0.0010 - 16s/epoch - 24ms/step
Epoch 514/625
641/641 - 16s - loss: 1.6095 - accuracy: 0.1965 - val_loss: 1.6095 - val_accuracy: 0.2000 - lr: 0.0010 - 16s/epoch - 24ms/step
Epoch 515/625
641/641 - 15s - loss: 1.6095 - accuracy: 0.1997 - val_loss: 1.6095 - val_accuracy: 0.2000 - lr: 0.0010 - 15s/epoch - 24ms/step
Epoch 516/625
641/641 - 16s - loss: 1.6095 - accuracy: 0.1981 - val_loss: 1.6094 - val_accuracy: 0.2000 - lr: 0.0010 - 16s/epoch - 24ms/step
Epoch 517/625
641/641 - 16s - loss: 1.6095 - accuracy: 0.1973 - val_loss: 1.6094 - val_accuracy: 0.2000 - lr: 0.0010 - 16s/epoch - 25ms/step
Epoch 518/625
641/641 - 16s - loss: 1.6095 - accuracy: 0.1972 - val_loss: 1.6095 - val_accuracy: 0.2000 - lr: 0.0010 - 16s/epoch - 26ms/step
Epoch 519/625
641/641 - 17s - loss: 1.6095 - accuracy: 0.1981 - val_loss: 1.6094 - val_accuracy: 0.2000 - lr: 0.0010 - 17s/epoch - 26ms/step
Epoch 520/625
641/641 - 16s - loss: 1.6095 - accuracy: 0.1976 - val_loss: 1.6095 - val_accuracy: 0.2000 - lr: 0.0010 - 16s/epoch - 25ms/step
Epoch 521/625
641/641 - 16s - loss: 1.6095 - accuracy: 0.1988 - val_loss: 1.6094 - val_accuracy: 0.2000 - lr: 0.0010 - 16s/epoch - 24ms/step
Epoch 522/625
641/641 - 15s - loss: 1.6095 - accuracy: 0.2001 - val_loss: 1.6094 - val_accuracy: 0.2000 - lr: 0.0010 - 15s/epoch - 24ms/step
Epoch 523/625
641/641 - 15s - loss: 1.6095 - accuracy: 0.1969 - val_loss: 1.6095 - val_accuracy: 0.2000 - lr: 0.0010 - 15s/epoch - 24ms/step
Epoch 524/625
641/641 - 15s - loss: 1.6095 - accuracy: 0.1985 - val_loss: 1.6095 - val_accuracy: 0.2000 - lr: 0.0010 - 15s/epoch - 24ms/step
Epoch 525/625
641/641 - 16s - loss: 1.6095 - accuracy: 0.2005 - val_loss: 1.6095 - val_accuracy: 0.2000 - lr: 0.0010 - 16s/epoch - 24ms/step
Epoch 526/625
641/641 - 16s - loss: 1.6095 - accuracy: 0.1988 - val_loss: 1.6094 - val_accuracy: 0.2000 - lr: 0.0010 - 16s/epoch - 24ms/step
Epoch 527/625
641/641 - 16s - loss: 1.6095 - accuracy: 0.1978 - val_loss: 1.6094 - val_accuracy: 0.2000 - lr: 0.0010 - 16s/epoch - 24ms/step
Epoch 528/625
641/641 - 16s - loss: 1.6095 - accuracy: 0.1999 - val_loss: 1.6095 - val_accuracy: 0.2000 - lr: 0.0010 - 16s/epoch - 24ms/step
Epoch 529/625
641/641 - 16s - loss: 1.6095 - accuracy: 0.2010 - val_loss: 1.6095 - val_accuracy: 0.2000 - lr: 0.0010 - 16s/epoch - 24ms/step
Epoch 530/625
641/641 - 16s - loss: 1.6095 - accuracy: 0.2010 - val_loss: 1.6095 - val_accuracy: 0.2000 - lr: 0.0010 - 16s/epoch - 24ms/step
Epoch 531/625
641/641 - 16s - loss: 1.6095 - accuracy: 0.1969 - val_loss: 1.6094 - val_accuracy: 0.2000 - lr: 0.0010 - 16s/epoch - 24ms/step
Epoch 532/625
641/641 - 16s - loss: 1.6095 - accuracy: 0.1987 - val_loss: 1.6094 - val_accuracy: 0.2000 - lr: 0.0010 - 16s/epoch - 24ms/step
Epoch 533/625
641/641 - 16s - loss: 1.6095 - accuracy: 0.1996 - val_loss: 1.6095 - val_accuracy: 0.2000 - lr: 0.0010 - 16s/epoch - 24ms/step
Epoch 534/625
641/641 - 16s - loss: 1.6095 - accuracy: 0.1970 - val_loss: 1.6094 - val_accuracy: 0.2000 - lr: 0.0010 - 16s/epoch - 24ms/step
Epoch 535/625
641/641 - 16s - loss: 1.6095 - accuracy: 0.1981 - val_loss: 1.6095 - val_accuracy: 0.2000 - lr: 0.0010 - 16s/epoch - 24ms/step
Epoch 536/625
641/641 - 16s - loss: 1.6095 - accuracy: 0.1980 - val_loss: 1.6094 - val_accuracy: 0.2000 - lr: 0.0010 - 16s/epoch - 24ms/step
Epoch 537/625
641/641 - 16s - loss: 1.6095 - accuracy: 0.2009 - val_loss: 1.6095 - val_accuracy: 0.2000 - lr: 0.0010 - 16s/epoch - 24ms/step
Epoch 538/625
641/641 - 15s - loss: 1.6095 - accuracy: 0.1977 - val_loss: 1.6095 - val_accuracy: 0.2000 - lr: 0.0010 - 15s/epoch - 24ms/step
Epoch 539/625
641/641 - 16s - loss: 1.6095 - accuracy: 0.1990 - val_loss: 1.6095 - val_accuracy: 0.2000 - lr: 0.0010 - 16s/epoch - 24ms/step
Epoch 540/625
641/641 - 16s - loss: 1.6095 - accuracy: 0.1985 - val_loss: 1.6095 - val_accuracy: 0.2000 - lr: 0.0010 - 16s/epoch - 24ms/step
Epoch 541/625
641/641 - 16s - loss: 1.6095 - accuracy: 0.1981 - val_loss: 1.6094 - val_accuracy: 0.2000 - lr: 0.0010 - 16s/epoch - 24ms/step
Epoch 542/625
641/641 - 15s - loss: 1.6095 - accuracy: 0.1981 - val_loss: 1.6095 - val_accuracy: 0.2000 - lr: 0.0010 - 15s/epoch - 24ms/step
Epoch 543/625
641/641 - 15s - loss: 1.6095 - accuracy: 0.1953 - val_loss: 1.6094 - val_accuracy: 0.2000 - lr: 0.0010 - 15s/epoch - 24ms/step
Epoch 544/625
641/641 - 16s - loss: 1.6095 - accuracy: 0.1983 - val_loss: 1.6094 - val_accuracy: 0.2000 - lr: 0.0010 - 16s/epoch - 24ms/step
Epoch 545/625
641/641 - 16s - loss: 1.6095 - accuracy: 0.1992 - val_loss: 1.6095 - val_accuracy: 0.2000 - lr: 0.0010 - 16s/epoch - 24ms/step
Epoch 546/625
641/641 - 15s - loss: 1.6095 - accuracy: 0.1977 - val_loss: 1.6094 - val_accuracy: 0.2000 - lr: 0.0010 - 15s/epoch - 24ms/step
Epoch 547/625
641/641 - 16s - loss: 1.6095 - accuracy: 0.1980 - val_loss: 1.6095 - val_accuracy: 0.2000 - lr: 0.0010 - 16s/epoch - 24ms/step
Epoch 548/625
641/641 - 16s - loss: 1.6095 - accuracy: 0.1996 - val_loss: 1.6095 - val_accuracy: 0.2000 - lr: 0.0010 - 16s/epoch - 24ms/step
Epoch 549/625
641/641 - 16s - loss: 1.6095 - accuracy: 0.1985 - val_loss: 1.6095 - val_accuracy: 0.2000 - lr: 0.0010 - 16s/epoch - 24ms/step
Epoch 550/625
641/641 - 16s - loss: 1.6095 - accuracy: 0.1986 - val_loss: 1.6095 - val_accuracy: 0.2000 - lr: 0.0010 - 16s/epoch - 24ms/step
Epoch 551/625
641/641 - 16s - loss: 1.6095 - accuracy: 0.2009 - val_loss: 1.6094 - val_accuracy: 0.2000 - lr: 0.0010 - 16s/epoch - 24ms/step
Epoch 552/625
641/641 - 16s - loss: 1.6095 - accuracy: 0.1983 - val_loss: 1.6094 - val_accuracy: 0.2000 - lr: 0.0010 - 16s/epoch - 24ms/step
Epoch 553/625
641/641 - 16s - loss: 1.6095 - accuracy: 0.1979 - val_loss: 1.6094 - val_accuracy: 0.2000 - lr: 0.0010 - 16s/epoch - 24ms/step
Epoch 554/625
641/641 - 16s - loss: 1.6095 - accuracy: 0.1980 - val_loss: 1.6094 - val_accuracy: 0.2000 - lr: 0.0010 - 16s/epoch - 24ms/step
Epoch 555/625
641/641 - 16s - loss: 1.6095 - accuracy: 0.1997 - val_loss: 1.6095 - val_accuracy: 0.2000 - lr: 0.0010 - 16s/epoch - 24ms/step
Epoch 556/625
641/641 - 15s - loss: 1.6095 - accuracy: 0.2000 - val_loss: 1.6095 - val_accuracy: 0.2000 - lr: 0.0010 - 15s/epoch - 24ms/step
Epoch 557/625
641/641 - 15s - loss: 1.6095 - accuracy: 0.2020 - val_loss: 1.6095 - val_accuracy: 0.2000 - lr: 0.0010 - 15s/epoch - 24ms/step
Epoch 558/625
641/641 - 16s - loss: 1.6095 - accuracy: 0.1988 - val_loss: 1.6095 - val_accuracy: 0.2000 - lr: 0.0010 - 16s/epoch - 24ms/step
Epoch 559/625
641/641 - 16s - loss: 1.6095 - accuracy: 0.1985 - val_loss: 1.6094 - val_accuracy: 0.2000 - lr: 0.0010 - 16s/epoch - 24ms/step
Epoch 560/625
641/641 - 15s - loss: 1.6095 - accuracy: 0.2000 - val_loss: 1.6096 - val_accuracy: 0.2000 - lr: 0.0010 - 15s/epoch - 24ms/step
Epoch 561/625
641/641 - 16s - loss: 1.6095 - accuracy: 0.1983 - val_loss: 1.6094 - val_accuracy: 0.2000 - lr: 0.0010 - 16s/epoch - 24ms/step
Epoch 562/625
641/641 - 16s - loss: 1.6095 - accuracy: 0.1973 - val_loss: 1.6095 - val_accuracy: 0.2000 - lr: 0.0010 - 16s/epoch - 24ms/step
Epoch 563/625
641/641 - 16s - loss: 1.6095 - accuracy: 0.1975 - val_loss: 1.6094 - val_accuracy: 0.2000 - lr: 0.0010 - 16s/epoch - 24ms/step
Epoch 564/625
641/641 - 15s - loss: 1.6095 - accuracy: 0.1995 - val_loss: 1.6094 - val_accuracy: 0.2000 - lr: 0.0010 - 15s/epoch - 24ms/step
Epoch 565/625
641/641 - 16s - loss: 1.6095 - accuracy: 0.1989 - val_loss: 1.6095 - val_accuracy: 0.2000 - lr: 0.0010 - 16s/epoch - 24ms/step
Epoch 566/625
641/641 - 15s - loss: 1.6095 - accuracy: 0.2000 - val_loss: 1.6095 - val_accuracy: 0.2000 - lr: 0.0010 - 15s/epoch - 24ms/step
Epoch 567/625
641/641 - 15s - loss: 1.6095 - accuracy: 0.1987 - val_loss: 1.6094 - val_accuracy: 0.2000 - lr: 0.0010 - 15s/epoch - 24ms/step
Epoch 568/625
641/641 - 16s - loss: 1.6095 - accuracy: 0.2000 - val_loss: 1.6095 - val_accuracy: 0.2000 - lr: 0.0010 - 16s/epoch - 24ms/step
Epoch 569/625
641/641 - 16s - loss: 1.6095 - accuracy: 0.1983 - val_loss: 1.6095 - val_accuracy: 0.2000 - lr: 0.0010 - 16s/epoch - 24ms/step
Epoch 570/625
641/641 - 16s - loss: 1.6095 - accuracy: 0.1993 - val_loss: 1.6095 - val_accuracy: 0.2000 - lr: 0.0010 - 16s/epoch - 24ms/step
Epoch 571/625
641/641 - 15s - loss: 1.6095 - accuracy: 0.1975 - val_loss: 1.6094 - val_accuracy: 0.2000 - lr: 0.0010 - 15s/epoch - 24ms/step
Epoch 572/625
641/641 - 16s - loss: 1.6095 - accuracy: 0.1988 - val_loss: 1.6095 - val_accuracy: 0.2000 - lr: 0.0010 - 16s/epoch - 24ms/step
Epoch 573/625
641/641 - 15s - loss: 1.6095 - accuracy: 0.1988 - val_loss: 1.6095 - val_accuracy: 0.2000 - lr: 0.0010 - 15s/epoch - 24ms/step
Epoch 574/625
641/641 - 16s - loss: 1.6095 - accuracy: 0.2010 - val_loss: 1.6096 - val_accuracy: 0.2000 - lr: 0.0010 - 16s/epoch - 24ms/step
Epoch 575/625
641/641 - 16s - loss: 1.6095 - accuracy: 0.1983 - val_loss: 1.6095 - val_accuracy: 0.2000 - lr: 0.0010 - 16s/epoch - 24ms/step
Epoch 576/625
641/641 - 15s - loss: 1.6095 - accuracy: 0.1994 - val_loss: 1.6095 - val_accuracy: 0.2000 - lr: 0.0010 - 15s/epoch - 24ms/step
Epoch 577/625
641/641 - 16s - loss: 1.6095 - accuracy: 0.2004 - val_loss: 1.6095 - val_accuracy: 0.2000 - lr: 0.0010 - 16s/epoch - 24ms/step
Epoch 578/625
641/641 - 15s - loss: 1.6095 - accuracy: 0.1979 - val_loss: 1.6095 - val_accuracy: 0.2000 - lr: 0.0010 - 15s/epoch - 24ms/step
Epoch 579/625
641/641 - 16s - loss: 1.6095 - accuracy: 0.1994 - val_loss: 1.6094 - val_accuracy: 0.2000 - lr: 0.0010 - 16s/epoch - 24ms/step
Epoch 580/625
641/641 - 15s - loss: 1.6095 - accuracy: 0.1979 - val_loss: 1.6095 - val_accuracy: 0.2000 - lr: 0.0010 - 15s/epoch - 24ms/step
Epoch 581/625
641/641 - 16s - loss: 1.6095 - accuracy: 0.2000 - val_loss: 1.6094 - val_accuracy: 0.2000 - lr: 0.0010 - 16s/epoch - 25ms/step
Epoch 582/625
641/641 - 15s - loss: 1.6095 - accuracy: 0.1978 - val_loss: 1.6094 - val_accuracy: 0.2000 - lr: 0.0010 - 15s/epoch - 24ms/step
Epoch 583/625
641/641 - 15s - loss: 1.6095 - accuracy: 0.1993 - val_loss: 1.6094 - val_accuracy: 0.2000 - lr: 0.0010 - 15s/epoch - 24ms/step
Epoch 584/625
641/641 - 16s - loss: 1.6095 - accuracy: 0.1965 - val_loss: 1.6094 - val_accuracy: 0.2000 - lr: 0.0010 - 16s/epoch - 24ms/step
Epoch 585/625
641/641 - 16s - loss: 1.6095 - accuracy: 0.1985 - val_loss: 1.6095 - val_accuracy: 0.2000 - lr: 0.0010 - 16s/epoch - 24ms/step
Epoch 586/625
641/641 - 15s - loss: 1.6095 - accuracy: 0.2001 - val_loss: 1.6095 - val_accuracy: 0.2000 - lr: 0.0010 - 15s/epoch - 24ms/step
Epoch 587/625
641/641 - 16s - loss: 1.6095 - accuracy: 0.1995 - val_loss: 1.6094 - val_accuracy: 0.2000 - lr: 0.0010 - 16s/epoch - 24ms/step
Epoch 588/625
641/641 - 15s - loss: 1.6095 - accuracy: 0.1978 - val_loss: 1.6095 - val_accuracy: 0.2000 - lr: 0.0010 - 15s/epoch - 24ms/step
Epoch 589/625
641/641 - 16s - loss: 1.6095 - accuracy: 0.1977 - val_loss: 1.6094 - val_accuracy: 0.2000 - lr: 0.0010 - 16s/epoch - 24ms/step
Epoch 590/625
641/641 - 16s - loss: 1.6095 - accuracy: 0.1980 - val_loss: 1.6095 - val_accuracy: 0.2000 - lr: 0.0010 - 16s/epoch - 24ms/step
Epoch 591/625
641/641 - 16s - loss: 1.6095 - accuracy: 0.1995 - val_loss: 1.6095 - val_accuracy: 0.2000 - lr: 0.0010 - 16s/epoch - 24ms/step
Epoch 592/625
641/641 - 16s - loss: 1.6095 - accuracy: 0.1985 - val_loss: 1.6095 - val_accuracy: 0.2000 - lr: 0.0010 - 16s/epoch - 24ms/step
Epoch 593/625
641/641 - 16s - loss: 1.6095 - accuracy: 0.2006 - val_loss: 1.6095 - val_accuracy: 0.2000 - lr: 0.0010 - 16s/epoch - 24ms/step
Epoch 594/625
641/641 - 15s - loss: 1.6095 - accuracy: 0.1982 - val_loss: 1.6094 - val_accuracy: 0.2000 - lr: 0.0010 - 15s/epoch - 24ms/step
Epoch 595/625
641/641 - 16s - loss: 1.6095 - accuracy: 0.2008 - val_loss: 1.6095 - val_accuracy: 0.2000 - lr: 0.0010 - 16s/epoch - 24ms/step
Epoch 596/625
641/641 - 15s - loss: 1.6095 - accuracy: 0.1993 - val_loss: 1.6094 - val_accuracy: 0.2000 - lr: 0.0010 - 15s/epoch - 24ms/step
Epoch 597/625
641/641 - 16s - loss: 1.6095 - accuracy: 0.1988 - val_loss: 1.6095 - val_accuracy: 0.2000 - lr: 0.0010 - 16s/epoch - 24ms/step
Epoch 598/625
641/641 - 16s - loss: 1.6095 - accuracy: 0.1971 - val_loss: 1.6094 - val_accuracy: 0.2000 - lr: 0.0010 - 16s/epoch - 24ms/step
Epoch 599/625
641/641 - 15s - loss: 1.6095 - accuracy: 0.1992 - val_loss: 1.6095 - val_accuracy: 0.2000 - lr: 0.0010 - 15s/epoch - 24ms/step
Epoch 600/625
641/641 - 15s - loss: 1.6095 - accuracy: 0.1971 - val_loss: 1.6095 - val_accuracy: 0.2000 - lr: 0.0010 - 15s/epoch - 24ms/step
Epoch 601/625
641/641 - 16s - loss: 1.6095 - accuracy: 0.1981 - val_loss: 1.6095 - val_accuracy: 0.2000 - lr: 0.0010 - 16s/epoch - 24ms/step
Epoch 602/625
641/641 - 15s - loss: 1.6095 - accuracy: 0.2011 - val_loss: 1.6095 - val_accuracy: 0.2000 - lr: 0.0010 - 15s/epoch - 24ms/step
Epoch 603/625
641/641 - 16s - loss: 1.6095 - accuracy: 0.1972 - val_loss: 1.6094 - val_accuracy: 0.2000 - lr: 0.0010 - 16s/epoch - 24ms/step
Epoch 604/625
641/641 - 15s - loss: 1.6095 - accuracy: 0.1987 - val_loss: 1.6095 - val_accuracy: 0.2000 - lr: 0.0010 - 15s/epoch - 24ms/step
Epoch 605/625
641/641 - 16s - loss: 1.6095 - accuracy: 0.1995 - val_loss: 1.6095 - val_accuracy: 0.2000 - lr: 0.0010 - 16s/epoch - 24ms/step
Epoch 606/625
641/641 - 15s - loss: 1.6095 - accuracy: 0.2002 - val_loss: 1.6095 - val_accuracy: 0.2000 - lr: 0.0010 - 15s/epoch - 24ms/step
Epoch 607/625
641/641 - 15s - loss: 1.6095 - accuracy: 0.1978 - val_loss: 1.6095 - val_accuracy: 0.2000 - lr: 0.0010 - 15s/epoch - 24ms/step
Epoch 608/625
641/641 - 16s - loss: 1.6095 - accuracy: 0.1991 - val_loss: 1.6095 - val_accuracy: 0.2000 - lr: 0.0010 - 16s/epoch - 24ms/step
Epoch 609/625
641/641 - 15s - loss: 1.6095 - accuracy: 0.1999 - val_loss: 1.6095 - val_accuracy: 0.2000 - lr: 0.0010 - 15s/epoch - 24ms/step
Epoch 610/625
641/641 - 15s - loss: 1.6095 - accuracy: 0.1970 - val_loss: 1.6095 - val_accuracy: 0.2000 - lr: 0.0010 - 15s/epoch - 24ms/step
Epoch 611/625
641/641 - 15s - loss: 1.6095 - accuracy: 0.1971 - val_loss: 1.6094 - val_accuracy: 0.2000 - lr: 0.0010 - 15s/epoch - 24ms/step
Epoch 612/625
641/641 - 16s - loss: 1.6095 - accuracy: 0.1990 - val_loss: 1.6095 - val_accuracy: 0.2000 - lr: 0.0010 - 16s/epoch - 24ms/step
Epoch 613/625
641/641 - 16s - loss: 1.6095 - accuracy: 0.1980 - val_loss: 1.6094 - val_accuracy: 0.2000 - lr: 0.0010 - 16s/epoch - 24ms/step
Epoch 614/625
641/641 - 16s - loss: 1.6095 - accuracy: 0.1982 - val_loss: 1.6095 - val_accuracy: 0.2000 - lr: 0.0010 - 16s/epoch - 24ms/step
Epoch 615/625
641/641 - 16s - loss: 1.6095 - accuracy: 0.1983 - val_loss: 1.6094 - val_accuracy: 0.2000 - lr: 0.0010 - 16s/epoch - 24ms/step
Epoch 616/625
641/641 - 16s - loss: 1.6095 - accuracy: 0.1973 - val_loss: 1.6094 - val_accuracy: 0.2000 - lr: 0.0010 - 16s/epoch - 24ms/step
Epoch 617/625
641/641 - 16s - loss: 1.6095 - accuracy: 0.1990 - val_loss: 1.6096 - val_accuracy: 0.2000 - lr: 0.0010 - 16s/epoch - 24ms/step
Epoch 618/625
641/641 - 15s - loss: 1.6095 - accuracy: 0.1984 - val_loss: 1.6095 - val_accuracy: 0.2000 - lr: 0.0010 - 15s/epoch - 24ms/step
Epoch 619/625
641/641 - 16s - loss: 1.6095 - accuracy: 0.1976 - val_loss: 1.6094 - val_accuracy: 0.2000 - lr: 0.0010 - 16s/epoch - 24ms/step
Epoch 620/625
641/641 - 16s - loss: 1.6095 - accuracy: 0.1976 - val_loss: 1.6095 - val_accuracy: 0.2000 - lr: 0.0010 - 16s/epoch - 24ms/step
Epoch 621/625
641/641 - 16s - loss: 1.6095 - accuracy: 0.1997 - val_loss: 1.6094 - val_accuracy: 0.2000 - lr: 0.0010 - 16s/epoch - 25ms/step
Epoch 622/625
641/641 - 15s - loss: 1.6095 - accuracy: 0.2008 - val_loss: 1.6095 - val_accuracy: 0.2000 - lr: 0.0010 - 15s/epoch - 24ms/step
Epoch 623/625
641/641 - 16s - loss: 1.6095 - accuracy: 0.1983 - val_loss: 1.6095 - val_accuracy: 0.2000 - lr: 0.0010 - 16s/epoch - 24ms/step
Epoch 624/625
641/641 - 15s - loss: 1.6095 - accuracy: 0.1982 - val_loss: 1.6094 - val_accuracy: 0.2000 - lr: 0.0010 - 15s/epoch - 24ms/step
Epoch 625/625
641/641 - 16s - loss: 1.6095 - accuracy: 0.1994 - val_loss: 1.6094 - val_accuracy: 0.2000 - lr: 0.0010 - 16s/epoch - 24ms/step
fitting with batch size: 200
Epoch 1/625
481/481 - 18s - loss: 1.6095 - accuracy: 0.1976 - val_loss: 1.6094 - val_accuracy: 0.2000 - lr: 0.0010 - 18s/epoch - 38ms/step
Epoch 2/625
481/481 - 16s - loss: 1.6095 - accuracy: 0.1991 - val_loss: 1.6095 - val_accuracy: 0.2000 - lr: 0.0010 - 16s/epoch - 32ms/step
Epoch 3/625
481/481 - 16s - loss: 1.6095 - accuracy: 0.1982 - val_loss: 1.6094 - val_accuracy: 0.2000 - lr: 0.0010 - 16s/epoch - 33ms/step
Epoch 4/625
481/481 - 16s - loss: 1.6095 - accuracy: 0.1991 - val_loss: 1.6095 - val_accuracy: 0.2000 - lr: 0.0010 - 16s/epoch - 32ms/step
Epoch 5/625
481/481 - 16s - loss: 1.6095 - accuracy: 0.1995 - val_loss: 1.6095 - val_accuracy: 0.2000 - lr: 0.0010 - 16s/epoch - 32ms/step
Epoch 6/625
481/481 - 16s - loss: 1.6095 - accuracy: 0.1973 - val_loss: 1.6094 - val_accuracy: 0.2000 - lr: 0.0010 - 16s/epoch - 32ms/step
Epoch 7/625
481/481 - 16s - loss: 1.6095 - accuracy: 0.1987 - val_loss: 1.6095 - val_accuracy: 0.2000 - lr: 0.0010 - 16s/epoch - 33ms/step
Epoch 8/625
481/481 - 16s - loss: 1.6095 - accuracy: 0.1987 - val_loss: 1.6095 - val_accuracy: 0.2000 - lr: 0.0010 - 16s/epoch - 32ms/step
Epoch 9/625
481/481 - 16s - loss: 1.6095 - accuracy: 0.1995 - val_loss: 1.6095 - val_accuracy: 0.2000 - lr: 0.0010 - 16s/epoch - 33ms/step
Epoch 10/625
481/481 - 15s - loss: 1.6095 - accuracy: 0.2001 - val_loss: 1.6094 - val_accuracy: 0.2000 - lr: 0.0010 - 15s/epoch - 32ms/step
Epoch 11/625
481/481 - 16s - loss: 1.6095 - accuracy: 0.1971 - val_loss: 1.6095 - val_accuracy: 0.2000 - lr: 0.0010 - 16s/epoch - 32ms/step
Epoch 12/625
481/481 - 16s - loss: 1.6095 - accuracy: 0.1981 - val_loss: 1.6095 - val_accuracy: 0.2000 - lr: 0.0010 - 16s/epoch - 32ms/step
Epoch 13/625
481/481 - 16s - loss: 1.6095 - accuracy: 0.1969 - val_loss: 1.6095 - val_accuracy: 0.2000 - lr: 0.0010 - 16s/epoch - 33ms/step
Epoch 14/625
481/481 - 16s - loss: 1.6095 - accuracy: 0.2006 - val_loss: 1.6095 - val_accuracy: 0.2000 - lr: 0.0010 - 16s/epoch - 33ms/step
Epoch 15/625
481/481 - 16s - loss: 1.6095 - accuracy: 0.1992 - val_loss: 1.6094 - val_accuracy: 0.2000 - lr: 0.0010 - 16s/epoch - 33ms/step
Epoch 16/625
481/481 - 16s - loss: 1.6095 - accuracy: 0.1992 - val_loss: 1.6094 - val_accuracy: 0.2000 - lr: 0.0010 - 16s/epoch - 32ms/step
Epoch 17/625
481/481 - 16s - loss: 1.6095 - accuracy: 0.1983 - val_loss: 1.6095 - val_accuracy: 0.2000 - lr: 0.0010 - 16s/epoch - 33ms/step
Epoch 18/625
481/481 - 16s - loss: 1.6095 - accuracy: 0.1994 - val_loss: 1.6095 - val_accuracy: 0.2000 - lr: 0.0010 - 16s/epoch - 32ms/step
Epoch 19/625
481/481 - 16s - loss: 1.6095 - accuracy: 0.1998 - val_loss: 1.6095 - val_accuracy: 0.2000 - lr: 0.0010 - 16s/epoch - 33ms/step
Epoch 20/625
481/481 - 16s - loss: 1.6095 - accuracy: 0.1992 - val_loss: 1.6095 - val_accuracy: 0.2000 - lr: 0.0010 - 16s/epoch - 32ms/step
Epoch 21/625
481/481 - 16s - loss: 1.6095 - accuracy: 0.1978 - val_loss: 1.6094 - val_accuracy: 0.2000 - lr: 0.0010 - 16s/epoch - 33ms/step
Epoch 22/625
481/481 - 16s - loss: 1.6095 - accuracy: 0.1996 - val_loss: 1.6095 - val_accuracy: 0.2000 - lr: 0.0010 - 16s/epoch - 32ms/step
Epoch 23/625
481/481 - 16s - loss: 1.6095 - accuracy: 0.2017 - val_loss: 1.6095 - val_accuracy: 0.2000 - lr: 0.0010 - 16s/epoch - 32ms/step
Epoch 24/625
481/481 - 16s - loss: 1.6095 - accuracy: 0.1984 - val_loss: 1.6094 - val_accuracy: 0.2000 - lr: 0.0010 - 16s/epoch - 33ms/step
Epoch 25/625
481/481 - 16s - loss: 1.6095 - accuracy: 0.2000 - val_loss: 1.6095 - val_accuracy: 0.2000 - lr: 0.0010 - 16s/epoch - 33ms/step
Epoch 26/625
481/481 - 16s - loss: 1.6095 - accuracy: 0.1985 - val_loss: 1.6095 - val_accuracy: 0.2000 - lr: 0.0010 - 16s/epoch - 33ms/step
Epoch 27/625
481/481 - 16s - loss: 1.6095 - accuracy: 0.1969 - val_loss: 1.6095 - val_accuracy: 0.2000 - lr: 0.0010 - 16s/epoch - 33ms/step
Epoch 28/625
481/481 - 16s - loss: 1.6095 - accuracy: 0.2011 - val_loss: 1.6095 - val_accuracy: 0.2000 - lr: 0.0010 - 16s/epoch - 33ms/step
Epoch 29/625
481/481 - 16s - loss: 1.6095 - accuracy: 0.1998 - val_loss: 1.6095 - val_accuracy: 0.2000 - lr: 0.0010 - 16s/epoch - 33ms/step
Epoch 30/625
481/481 - 16s - loss: 1.6095 - accuracy: 0.1983 - val_loss: 1.6094 - val_accuracy: 0.2000 - lr: 0.0010 - 16s/epoch - 32ms/step
Epoch 31/625
481/481 - 16s - loss: 1.6095 - accuracy: 0.1989 - val_loss: 1.6094 - val_accuracy: 0.2000 - lr: 0.0010 - 16s/epoch - 33ms/step
Epoch 32/625
481/481 - 16s - loss: 1.6095 - accuracy: 0.1986 - val_loss: 1.6095 - val_accuracy: 0.2000 - lr: 0.0010 - 16s/epoch - 32ms/step
Epoch 33/625
481/481 - 16s - loss: 1.6095 - accuracy: 0.1991 - val_loss: 1.6095 - val_accuracy: 0.2000 - lr: 0.0010 - 16s/epoch - 33ms/step
Epoch 34/625
481/481 - 16s - loss: 1.6095 - accuracy: 0.1988 - val_loss: 1.6094 - val_accuracy: 0.2000 - lr: 0.0010 - 16s/epoch - 32ms/step
Epoch 35/625
481/481 - 16s - loss: 1.6095 - accuracy: 0.1982 - val_loss: 1.6094 - val_accuracy: 0.2000 - lr: 0.0010 - 16s/epoch - 32ms/step
Epoch 36/625
481/481 - 16s - loss: 1.6095 - accuracy: 0.1986 - val_loss: 1.6095 - val_accuracy: 0.2000 - lr: 0.0010 - 16s/epoch - 33ms/step
Epoch 37/625
481/481 - 16s - loss: 1.6095 - accuracy: 0.1977 - val_loss: 1.6094 - val_accuracy: 0.2000 - lr: 0.0010 - 16s/epoch - 32ms/step
Epoch 38/625
481/481 - 16s - loss: 1.6095 - accuracy: 0.1991 - val_loss: 1.6095 - val_accuracy: 0.2000 - lr: 0.0010 - 16s/epoch - 32ms/step
Epoch 39/625
481/481 - 16s - loss: 1.6095 - accuracy: 0.1983 - val_loss: 1.6095 - val_accuracy: 0.2000 - lr: 0.0010 - 16s/epoch - 33ms/step
Epoch 40/625
481/481 - 16s - loss: 1.6095 - accuracy: 0.1988 - val_loss: 1.6095 - val_accuracy: 0.2000 - lr: 0.0010 - 16s/epoch - 32ms/step
Epoch 41/625
481/481 - 16s - loss: 1.6095 - accuracy: 0.1994 - val_loss: 1.6095 - val_accuracy: 0.2000 - lr: 0.0010 - 16s/epoch - 32ms/step
Epoch 42/625
481/481 - 16s - loss: 1.6095 - accuracy: 0.1993 - val_loss: 1.6095 - val_accuracy: 0.2000 - lr: 0.0010 - 16s/epoch - 32ms/step
Epoch 43/625
481/481 - 16s - loss: 1.6095 - accuracy: 0.1989 - val_loss: 1.6095 - val_accuracy: 0.2000 - lr: 0.0010 - 16s/epoch - 33ms/step
Epoch 44/625
481/481 - 15s - loss: 1.6095 - accuracy: 0.1987 - val_loss: 1.6094 - val_accuracy: 0.2000 - lr: 0.0010 - 15s/epoch - 32ms/step
Epoch 45/625
481/481 - 16s - loss: 1.6095 - accuracy: 0.1989 - val_loss: 1.6095 - val_accuracy: 0.2000 - lr: 0.0010 - 16s/epoch - 33ms/step
Epoch 46/625
481/481 - 16s - loss: 1.6095 - accuracy: 0.1976 - val_loss: 1.6095 - val_accuracy: 0.2000 - lr: 0.0010 - 16s/epoch - 32ms/step
Epoch 47/625
481/481 - 16s - loss: 1.6095 - accuracy: 0.1975 - val_loss: 1.6095 - val_accuracy: 0.2000 - lr: 0.0010 - 16s/epoch - 33ms/step
Epoch 48/625
481/481 - 16s - loss: 1.6095 - accuracy: 0.1992 - val_loss: 1.6095 - val_accuracy: 0.2000 - lr: 0.0010 - 16s/epoch - 32ms/step
Epoch 49/625
481/481 - 16s - loss: 1.6095 - accuracy: 0.1985 - val_loss: 1.6095 - val_accuracy: 0.2000 - lr: 0.0010 - 16s/epoch - 33ms/step
Epoch 50/625
481/481 - 16s - loss: 1.6095 - accuracy: 0.1987 - val_loss: 1.6095 - val_accuracy: 0.2000 - lr: 0.0010 - 16s/epoch - 33ms/step
Epoch 51/625
481/481 - 16s - loss: 1.6095 - accuracy: 0.1988 - val_loss: 1.6095 - val_accuracy: 0.2000 - lr: 0.0010 - 16s/epoch - 33ms/step
Epoch 52/625
481/481 - 15s - loss: 1.6095 - accuracy: 0.1989 - val_loss: 1.6095 - val_accuracy: 0.2000 - lr: 0.0010 - 15s/epoch - 32ms/step
Epoch 53/625
481/481 - 16s - loss: 1.6095 - accuracy: 0.1981 - val_loss: 1.6094 - val_accuracy: 0.2000 - lr: 0.0010 - 16s/epoch - 33ms/step
Epoch 54/625
481/481 - 16s - loss: 1.6095 - accuracy: 0.1995 - val_loss: 1.6095 - val_accuracy: 0.2000 - lr: 0.0010 - 16s/epoch - 32ms/step
Epoch 55/625
481/481 - 16s - loss: 1.6095 - accuracy: 0.1976 - val_loss: 1.6094 - val_accuracy: 0.2000 - lr: 0.0010 - 16s/epoch - 32ms/step
Epoch 56/625
481/481 - 16s - loss: 1.6095 - accuracy: 0.1982 - val_loss: 1.6095 - val_accuracy: 0.2000 - lr: 0.0010 - 16s/epoch - 32ms/step
Epoch 57/625
481/481 - 16s - loss: 1.6095 - accuracy: 0.1985 - val_loss: 1.6095 - val_accuracy: 0.2000 - lr: 0.0010 - 16s/epoch - 32ms/step
Epoch 58/625
481/481 - 16s - loss: 1.6095 - accuracy: 0.1986 - val_loss: 1.6095 - val_accuracy: 0.2000 - lr: 0.0010 - 16s/epoch - 32ms/step
Epoch 59/625
481/481 - 16s - loss: 1.6095 - accuracy: 0.1992 - val_loss: 1.6094 - val_accuracy: 0.2000 - lr: 0.0010 - 16s/epoch - 33ms/step
Epoch 60/625
481/481 - 16s - loss: 1.6095 - accuracy: 0.1971 - val_loss: 1.6094 - val_accuracy: 0.2000 - lr: 0.0010 - 16s/epoch - 32ms/step
Epoch 61/625
481/481 - 16s - loss: 1.6095 - accuracy: 0.1995 - val_loss: 1.6095 - val_accuracy: 0.2000 - lr: 0.0010 - 16s/epoch - 33ms/step
Epoch 62/625
481/481 - 16s - loss: 1.6095 - accuracy: 0.2000 - val_loss: 1.6094 - val_accuracy: 0.2000 - lr: 0.0010 - 16s/epoch - 32ms/step
Epoch 63/625
481/481 - 16s - loss: 1.6095 - accuracy: 0.2010 - val_loss: 1.6095 - val_accuracy: 0.2000 - lr: 0.0010 - 16s/epoch - 33ms/step
Epoch 64/625
481/481 - 16s - loss: 1.6095 - accuracy: 0.1971 - val_loss: 1.6095 - val_accuracy: 0.2000 - lr: 0.0010 - 16s/epoch - 33ms/step
Epoch 65/625
481/481 - 16s - loss: 1.6095 - accuracy: 0.1975 - val_loss: 1.6094 - val_accuracy: 0.2000 - lr: 0.0010 - 16s/epoch - 33ms/step
Epoch 66/625
481/481 - 16s - loss: 1.6095 - accuracy: 0.1991 - val_loss: 1.6095 - val_accuracy: 0.2000 - lr: 0.0010 - 16s/epoch - 32ms/step
Epoch 67/625
481/481 - 16s - loss: 1.6095 - accuracy: 0.1997 - val_loss: 1.6095 - val_accuracy: 0.2000 - lr: 0.0010 - 16s/epoch - 33ms/step
Epoch 68/625
481/481 - 16s - loss: 1.6095 - accuracy: 0.2002 - val_loss: 1.6094 - val_accuracy: 0.2000 - lr: 0.0010 - 16s/epoch - 33ms/step
Epoch 69/625
481/481 - 16s - loss: 1.6095 - accuracy: 0.1992 - val_loss: 1.6095 - val_accuracy: 0.2000 - lr: 0.0010 - 16s/epoch - 33ms/step
Epoch 70/625
481/481 - 16s - loss: 1.6095 - accuracy: 0.2004 - val_loss: 1.6095 - val_accuracy: 0.2000 - lr: 0.0010 - 16s/epoch - 32ms/step
Epoch 71/625
481/481 - 16s - loss: 1.6095 - accuracy: 0.1988 - val_loss: 1.6094 - val_accuracy: 0.2000 - lr: 0.0010 - 16s/epoch - 32ms/step
Epoch 72/625
481/481 - 16s - loss: 1.6095 - accuracy: 0.2005 - val_loss: 1.6095 - val_accuracy: 0.2000 - lr: 0.0010 - 16s/epoch - 32ms/step
Epoch 73/625
481/481 - 16s - loss: 1.6095 - accuracy: 0.2000 - val_loss: 1.6095 - val_accuracy: 0.2000 - lr: 0.0010 - 16s/epoch - 33ms/step
Epoch 74/625
481/481 - 16s - loss: 1.6095 - accuracy: 0.2001 - val_loss: 1.6094 - val_accuracy: 0.2000 - lr: 0.0010 - 16s/epoch - 32ms/step
Epoch 75/625
481/481 - 16s - loss: 1.6095 - accuracy: 0.1999 - val_loss: 1.6094 - val_accuracy: 0.2000 - lr: 0.0010 - 16s/epoch - 33ms/step
Epoch 76/625
481/481 - 16s - loss: 1.6095 - accuracy: 0.1995 - val_loss: 1.6095 - val_accuracy: 0.2000 - lr: 0.0010 - 16s/epoch - 32ms/step
Epoch 77/625
481/481 - 16s - loss: 1.6095 - accuracy: 0.1992 - val_loss: 1.6095 - val_accuracy: 0.2000 - lr: 0.0010 - 16s/epoch - 33ms/step
Epoch 78/625
481/481 - 16s - loss: 1.6095 - accuracy: 0.1982 - val_loss: 1.6094 - val_accuracy: 0.2000 - lr: 0.0010 - 16s/epoch - 32ms/step
Epoch 79/625
481/481 - 16s - loss: 1.6095 - accuracy: 0.1965 - val_loss: 1.6094 - val_accuracy: 0.2000 - lr: 0.0010 - 16s/epoch - 33ms/step
Epoch 80/625
481/481 - 16s - loss: 1.6095 - accuracy: 0.1975 - val_loss: 1.6094 - val_accuracy: 0.2000 - lr: 0.0010 - 16s/epoch - 32ms/step
Epoch 81/625
481/481 - 16s - loss: 1.6095 - accuracy: 0.1971 - val_loss: 1.6095 - val_accuracy: 0.2000 - lr: 0.0010 - 16s/epoch - 33ms/step
Epoch 82/625
481/481 - 16s - loss: 1.6095 - accuracy: 0.1983 - val_loss: 1.6094 - val_accuracy: 0.2000 - lr: 0.0010 - 16s/epoch - 32ms/step
Epoch 83/625
481/481 - 16s - loss: 1.6095 - accuracy: 0.1973 - val_loss: 1.6095 - val_accuracy: 0.2000 - lr: 0.0010 - 16s/epoch - 33ms/step
Epoch 84/625
481/481 - 16s - loss: 1.6095 - accuracy: 0.1998 - val_loss: 1.6094 - val_accuracy: 0.2000 - lr: 0.0010 - 16s/epoch - 32ms/step
Epoch 85/625
481/481 - 16s - loss: 1.6095 - accuracy: 0.2007 - val_loss: 1.6095 - val_accuracy: 0.2000 - lr: 0.0010 - 16s/epoch - 32ms/step
Epoch 86/625
481/481 - 16s - loss: 1.6095 - accuracy: 0.2002 - val_loss: 1.6095 - val_accuracy: 0.2000 - lr: 0.0010 - 16s/epoch - 33ms/step
Epoch 87/625
481/481 - 16s - loss: 1.6095 - accuracy: 0.2014 - val_loss: 1.6095 - val_accuracy: 0.2000 - lr: 0.0010 - 16s/epoch - 33ms/step
Epoch 88/625
481/481 - 16s - loss: 1.6095 - accuracy: 0.1978 - val_loss: 1.6094 - val_accuracy: 0.2000 - lr: 0.0010 - 16s/epoch - 32ms/step
Epoch 89/625
481/481 - 16s - loss: 1.6095 - accuracy: 0.1984 - val_loss: 1.6095 - val_accuracy: 0.2000 - lr: 0.0010 - 16s/epoch - 33ms/step
Epoch 90/625
481/481 - 16s - loss: 1.6095 - accuracy: 0.1970 - val_loss: 1.6095 - val_accuracy: 0.2000 - lr: 0.0010 - 16s/epoch - 33ms/step
Epoch 91/625
481/481 - 16s - loss: 1.6095 - accuracy: 0.1986 - val_loss: 1.6095 - val_accuracy: 0.2000 - lr: 0.0010 - 16s/epoch - 32ms/step
Epoch 92/625
481/481 - 16s - loss: 1.6095 - accuracy: 0.2013 - val_loss: 1.6095 - val_accuracy: 0.2000 - lr: 0.0010 - 16s/epoch - 32ms/step
Epoch 93/625
481/481 - 16s - loss: 1.6095 - accuracy: 0.1983 - val_loss: 1.6095 - val_accuracy: 0.2000 - lr: 0.0010 - 16s/epoch - 33ms/step
Epoch 94/625
481/481 - 15s - loss: 1.6095 - accuracy: 0.2007 - val_loss: 1.6095 - val_accuracy: 0.2000 - lr: 0.0010 - 15s/epoch - 32ms/step
Epoch 95/625
481/481 - 16s - loss: 1.6095 - accuracy: 0.2002 - val_loss: 1.6095 - val_accuracy: 0.2000 - lr: 0.0010 - 16s/epoch - 33ms/step
Epoch 96/625
481/481 - 16s - loss: 1.6095 - accuracy: 0.1995 - val_loss: 1.6094 - val_accuracy: 0.2000 - lr: 0.0010 - 16s/epoch - 32ms/step
Epoch 97/625
481/481 - 16s - loss: 1.6095 - accuracy: 0.1981 - val_loss: 1.6094 - val_accuracy: 0.2000 - lr: 0.0010 - 16s/epoch - 33ms/step
Epoch 98/625
481/481 - 16s - loss: 1.6095 - accuracy: 0.1982 - val_loss: 1.6094 - val_accuracy: 0.2000 - lr: 0.0010 - 16s/epoch - 32ms/step
Epoch 99/625
481/481 - 16s - loss: 1.6095 - accuracy: 0.1974 - val_loss: 1.6094 - val_accuracy: 0.2000 - lr: 0.0010 - 16s/epoch - 33ms/step
Epoch 100/625
481/481 - 16s - loss: 1.6095 - accuracy: 0.2004 - val_loss: 1.6095 - val_accuracy: 0.2000 - lr: 0.0010 - 16s/epoch - 33ms/step
Epoch 101/625
481/481 - 16s - loss: 1.6095 - accuracy: 0.1998 - val_loss: 1.6095 - val_accuracy: 0.2000 - lr: 0.0010 - 16s/epoch - 33ms/step
Epoch 102/625
481/481 - 16s - loss: 1.6095 - accuracy: 0.1992 - val_loss: 1.6095 - val_accuracy: 0.2000 - lr: 0.0010 - 16s/epoch - 33ms/step
Epoch 103/625
481/481 - 16s - loss: 1.6095 - accuracy: 0.1984 - val_loss: 1.6095 - val_accuracy: 0.2000 - lr: 0.0010 - 16s/epoch - 33ms/step
Epoch 104/625
481/481 - 16s - loss: 1.6095 - accuracy: 0.1980 - val_loss: 1.6094 - val_accuracy: 0.2000 - lr: 0.0010 - 16s/epoch - 32ms/step
Epoch 105/625
481/481 - 16s - loss: 1.6095 - accuracy: 0.1984 - val_loss: 1.6095 - val_accuracy: 0.2000 - lr: 0.0010 - 16s/epoch - 32ms/step
Epoch 106/625
481/481 - 16s - loss: 1.6095 - accuracy: 0.1992 - val_loss: 1.6095 - val_accuracy: 0.2000 - lr: 0.0010 - 16s/epoch - 32ms/step
Epoch 107/625
481/481 - 16s - loss: 1.6095 - accuracy: 0.1990 - val_loss: 1.6095 - val_accuracy: 0.2000 - lr: 0.0010 - 16s/epoch - 33ms/step
Epoch 108/625
481/481 - 16s - loss: 1.6095 - accuracy: 0.1998 - val_loss: 1.6095 - val_accuracy: 0.2000 - lr: 0.0010 - 16s/epoch - 32ms/step
Epoch 109/625
481/481 - 16s - loss: 1.6095 - accuracy: 0.1969 - val_loss: 1.6094 - val_accuracy: 0.2000 - lr: 0.0010 - 16s/epoch - 33ms/step
Epoch 110/625
481/481 - 16s - loss: 1.6095 - accuracy: 0.1990 - val_loss: 1.6095 - val_accuracy: 0.2000 - lr: 0.0010 - 16s/epoch - 32ms/step
Epoch 111/625
481/481 - 16s - loss: 1.6095 - accuracy: 0.1984 - val_loss: 1.6095 - val_accuracy: 0.2000 - lr: 0.0010 - 16s/epoch - 32ms/step
Epoch 112/625
481/481 - 16s - loss: 1.6095 - accuracy: 0.1978 - val_loss: 1.6094 - val_accuracy: 0.2000 - lr: 0.0010 - 16s/epoch - 32ms/step
Epoch 113/625
481/481 - 16s - loss: 1.6095 - accuracy: 0.1993 - val_loss: 1.6095 - val_accuracy: 0.2000 - lr: 0.0010 - 16s/epoch - 33ms/step
Epoch 114/625
481/481 - 16s - loss: 1.6095 - accuracy: 0.1972 - val_loss: 1.6094 - val_accuracy: 0.2000 - lr: 0.0010 - 16s/epoch - 32ms/step
Epoch 115/625
481/481 - 16s - loss: 1.6095 - accuracy: 0.1986 - val_loss: 1.6094 - val_accuracy: 0.2000 - lr: 0.0010 - 16s/epoch - 33ms/step
Epoch 116/625
481/481 - 16s - loss: 1.6095 - accuracy: 0.1995 - val_loss: 1.6094 - val_accuracy: 0.2000 - lr: 0.0010 - 16s/epoch - 32ms/step
Epoch 117/625
481/481 - 16s - loss: 1.6095 - accuracy: 0.1987 - val_loss: 1.6095 - val_accuracy: 0.2000 - lr: 0.0010 - 16s/epoch - 33ms/step
Epoch 118/625
481/481 - 16s - loss: 1.6095 - accuracy: 0.1976 - val_loss: 1.6094 - val_accuracy: 0.2000 - lr: 0.0010 - 16s/epoch - 33ms/step
Epoch 119/625
481/481 - 16s - loss: 1.6095 - accuracy: 0.1981 - val_loss: 1.6095 - val_accuracy: 0.2000 - lr: 0.0010 - 16s/epoch - 33ms/step
Epoch 120/625
481/481 - 16s - loss: 1.6095 - accuracy: 0.1975 - val_loss: 1.6095 - val_accuracy: 0.2000 - lr: 0.0010 - 16s/epoch - 32ms/step
Epoch 121/625
481/481 - 16s - loss: 1.6095 - accuracy: 0.2002 - val_loss: 1.6095 - val_accuracy: 0.2000 - lr: 0.0010 - 16s/epoch - 32ms/step
Epoch 122/625
481/481 - 16s - loss: 1.6095 - accuracy: 0.1979 - val_loss: 1.6094 - val_accuracy: 0.2000 - lr: 0.0010 - 16s/epoch - 32ms/step
Epoch 123/625
481/481 - 16s - loss: 1.6095 - accuracy: 0.1999 - val_loss: 1.6095 - val_accuracy: 0.2000 - lr: 0.0010 - 16s/epoch - 33ms/step
Epoch 124/625
481/481 - 16s - loss: 1.6095 - accuracy: 0.1983 - val_loss: 1.6094 - val_accuracy: 0.2000 - lr: 0.0010 - 16s/epoch - 34ms/step
Epoch 125/625
481/481 - 16s - loss: 1.6095 - accuracy: 0.1988 - val_loss: 1.6094 - val_accuracy: 0.2000 - lr: 0.0010 - 16s/epoch - 34ms/step
Epoch 126/625
481/481 - 16s - loss: 1.6095 - accuracy: 0.1983 - val_loss: 1.6094 - val_accuracy: 0.2000 - lr: 0.0010 - 16s/epoch - 33ms/step
Epoch 127/625
481/481 - 16s - loss: 1.6095 - accuracy: 0.1982 - val_loss: 1.6095 - val_accuracy: 0.2000 - lr: 0.0010 - 16s/epoch - 33ms/step
Epoch 128/625
481/481 - 15s - loss: 1.6095 - accuracy: 0.1989 - val_loss: 1.6094 - val_accuracy: 0.2000 - lr: 0.0010 - 15s/epoch - 32ms/step
Epoch 129/625
481/481 - 16s - loss: 1.6095 - accuracy: 0.2011 - val_loss: 1.6095 - val_accuracy: 0.2000 - lr: 0.0010 - 16s/epoch - 33ms/step
Epoch 130/625
481/481 - 16s - loss: 1.6095 - accuracy: 0.1988 - val_loss: 1.6095 - val_accuracy: 0.2000 - lr: 0.0010 - 16s/epoch - 32ms/step
Epoch 131/625
481/481 - 16s - loss: 1.6095 - accuracy: 0.1973 - val_loss: 1.6094 - val_accuracy: 0.2000 - lr: 0.0010 - 16s/epoch - 33ms/step
Epoch 132/625
481/481 - 16s - loss: 1.6095 - accuracy: 0.1991 - val_loss: 1.6095 - val_accuracy: 0.2000 - lr: 0.0010 - 16s/epoch - 33ms/step
Epoch 133/625
481/481 - 16s - loss: 1.6095 - accuracy: 0.2010 - val_loss: 1.6095 - val_accuracy: 0.2000 - lr: 0.0010 - 16s/epoch - 32ms/step
Epoch 134/625
481/481 - 16s - loss: 1.6095 - accuracy: 0.2003 - val_loss: 1.6095 - val_accuracy: 0.2000 - lr: 0.0010 - 16s/epoch - 33ms/step
Epoch 135/625
481/481 - 16s - loss: 1.6095 - accuracy: 0.1998 - val_loss: 1.6095 - val_accuracy: 0.2000 - lr: 0.0010 - 16s/epoch - 32ms/step
Epoch 136/625
481/481 - 16s - loss: 1.6095 - accuracy: 0.1981 - val_loss: 1.6095 - val_accuracy: 0.2000 - lr: 0.0010 - 16s/epoch - 32ms/step
Epoch 137/625
481/481 - 16s - loss: 1.6095 - accuracy: 0.1995 - val_loss: 1.6094 - val_accuracy: 0.2000 - lr: 0.0010 - 16s/epoch - 33ms/step
Epoch 138/625
481/481 - 15s - loss: 1.6095 - accuracy: 0.1995 - val_loss: 1.6094 - val_accuracy: 0.2000 - lr: 0.0010 - 15s/epoch - 32ms/step
Epoch 139/625
481/481 - 16s - loss: 1.6095 - accuracy: 0.1978 - val_loss: 1.6094 - val_accuracy: 0.2000 - lr: 0.0010 - 16s/epoch - 33ms/step
Epoch 140/625
481/481 - 16s - loss: 1.6095 - accuracy: 0.1989 - val_loss: 1.6094 - val_accuracy: 0.2000 - lr: 0.0010 - 16s/epoch - 33ms/step
Epoch 141/625
481/481 - 16s - loss: 1.6095 - accuracy: 0.1987 - val_loss: 1.6095 - val_accuracy: 0.2000 - lr: 0.0010 - 16s/epoch - 33ms/step
Epoch 142/625
481/481 - 16s - loss: 1.6095 - accuracy: 0.2019 - val_loss: 1.6095 - val_accuracy: 0.2000 - lr: 0.0010 - 16s/epoch - 32ms/step
Epoch 143/625
481/481 - 16s - loss: 1.6095 - accuracy: 0.1997 - val_loss: 1.6095 - val_accuracy: 0.2000 - lr: 0.0010 - 16s/epoch - 33ms/step
Epoch 144/625
481/481 - 16s - loss: 1.6095 - accuracy: 0.1987 - val_loss: 1.6094 - val_accuracy: 0.2000 - lr: 0.0010 - 16s/epoch - 32ms/step
Epoch 145/625
481/481 - 16s - loss: 1.6095 - accuracy: 0.1988 - val_loss: 1.6095 - val_accuracy: 0.2000 - lr: 0.0010 - 16s/epoch - 33ms/step
Epoch 146/625
481/481 - 16s - loss: 1.6095 - accuracy: 0.1999 - val_loss: 1.6095 - val_accuracy: 0.2000 - lr: 0.0010 - 16s/epoch - 32ms/step
Epoch 147/625
481/481 - 16s - loss: 1.6095 - accuracy: 0.2005 - val_loss: 1.6095 - val_accuracy: 0.2000 - lr: 0.0010 - 16s/epoch - 33ms/step
Epoch 148/625
481/481 - 16s - loss: 1.6095 - accuracy: 0.1988 - val_loss: 1.6095 - val_accuracy: 0.2000 - lr: 0.0010 - 16s/epoch - 33ms/step
Epoch 149/625
481/481 - 16s - loss: 1.6095 - accuracy: 0.1997 - val_loss: 1.6094 - val_accuracy: 0.2000 - lr: 0.0010 - 16s/epoch - 33ms/step
Epoch 150/625
481/481 - 16s - loss: 1.6095 - accuracy: 0.1978 - val_loss: 1.6095 - val_accuracy: 0.2000 - lr: 0.0010 - 16s/epoch - 33ms/step
Epoch 151/625
481/481 - 15s - loss: 1.6095 - accuracy: 0.1995 - val_loss: 1.6095 - val_accuracy: 0.2000 - lr: 0.0010 - 15s/epoch - 31ms/step
Epoch 152/625
481/481 - 16s - loss: 1.6095 - accuracy: 0.1975 - val_loss: 1.6095 - val_accuracy: 0.2000 - lr: 0.0010 - 16s/epoch - 32ms/step
Epoch 153/625
481/481 - 16s - loss: 1.6095 - accuracy: 0.1978 - val_loss: 1.6094 - val_accuracy: 0.2000 - lr: 0.0010 - 16s/epoch - 33ms/step
Epoch 154/625
481/481 - 16s - loss: 1.6095 - accuracy: 0.1961 - val_loss: 1.6094 - val_accuracy: 0.2000 - lr: 0.0010 - 16s/epoch - 32ms/step
Epoch 155/625
481/481 - 16s - loss: 1.6095 - accuracy: 0.1969 - val_loss: 1.6095 - val_accuracy: 0.2000 - lr: 0.0010 - 16s/epoch - 33ms/step
Epoch 156/625
481/481 - 16s - loss: 1.6095 - accuracy: 0.1988 - val_loss: 1.6095 - val_accuracy: 0.2000 - lr: 0.0010 - 16s/epoch - 32ms/step
Epoch 157/625
481/481 - 16s - loss: 1.6095 - accuracy: 0.1994 - val_loss: 1.6094 - val_accuracy: 0.2000 - lr: 0.0010 - 16s/epoch - 33ms/step
Epoch 158/625
481/481 - 16s - loss: 1.6095 - accuracy: 0.1962 - val_loss: 1.6094 - val_accuracy: 0.2000 - lr: 0.0010 - 16s/epoch - 33ms/step
Epoch 159/625
481/481 - 16s - loss: 1.6095 - accuracy: 0.1979 - val_loss: 1.6094 - val_accuracy: 0.2000 - lr: 0.0010 - 16s/epoch - 33ms/step
Epoch 160/625
481/481 - 16s - loss: 1.6095 - accuracy: 0.1974 - val_loss: 1.6094 - val_accuracy: 0.2000 - lr: 0.0010 - 16s/epoch - 32ms/step
Epoch 161/625
481/481 - 16s - loss: 1.6095 - accuracy: 0.1987 - val_loss: 1.6094 - val_accuracy: 0.2000 - lr: 0.0010 - 16s/epoch - 32ms/step
Epoch 162/625
481/481 - 16s - loss: 1.6095 - accuracy: 0.2005 - val_loss: 1.6095 - val_accuracy: 0.2000 - lr: 0.0010 - 16s/epoch - 32ms/step
Epoch 163/625
481/481 - 16s - loss: 1.6095 - accuracy: 0.1977 - val_loss: 1.6094 - val_accuracy: 0.2000 - lr: 0.0010 - 16s/epoch - 32ms/step
Epoch 164/625
481/481 - 16s - loss: 1.6095 - accuracy: 0.1986 - val_loss: 1.6094 - val_accuracy: 0.2000 - lr: 0.0010 - 16s/epoch - 32ms/step
Epoch 165/625
481/481 - 16s - loss: 1.6095 - accuracy: 0.1980 - val_loss: 1.6095 - val_accuracy: 0.2000 - lr: 0.0010 - 16s/epoch - 33ms/step
Epoch 166/625
481/481 - 16s - loss: 1.6095 - accuracy: 0.1971 - val_loss: 1.6094 - val_accuracy: 0.2000 - lr: 0.0010 - 16s/epoch - 32ms/step
Epoch 167/625
481/481 - 16s - loss: 1.6095 - accuracy: 0.1992 - val_loss: 1.6094 - val_accuracy: 0.2000 - lr: 0.0010 - 16s/epoch - 32ms/step
Epoch 168/625
481/481 - 16s - loss: 1.6095 - accuracy: 0.1992 - val_loss: 1.6094 - val_accuracy: 0.2000 - lr: 0.0010 - 16s/epoch - 32ms/step
Epoch 169/625
481/481 - 16s - loss: 1.6095 - accuracy: 0.2002 - val_loss: 1.6095 - val_accuracy: 0.2000 - lr: 0.0010 - 16s/epoch - 33ms/step
Epoch 170/625
481/481 - 16s - loss: 1.6095 - accuracy: 0.1985 - val_loss: 1.6095 - val_accuracy: 0.2000 - lr: 0.0010 - 16s/epoch - 32ms/step
Epoch 171/625
481/481 - 16s - loss: 1.6095 - accuracy: 0.1987 - val_loss: 1.6095 - val_accuracy: 0.2000 - lr: 0.0010 - 16s/epoch - 32ms/step
Epoch 172/625
481/481 - 16s - loss: 1.6095 - accuracy: 0.1980 - val_loss: 1.6095 - val_accuracy: 0.2000 - lr: 0.0010 - 16s/epoch - 32ms/step
Epoch 173/625
481/481 - 16s - loss: 1.6095 - accuracy: 0.2004 - val_loss: 1.6095 - val_accuracy: 0.2000 - lr: 0.0010 - 16s/epoch - 33ms/step
Epoch 174/625
481/481 - 16s - loss: 1.6095 - accuracy: 0.1991 - val_loss: 1.6095 - val_accuracy: 0.2000 - lr: 0.0010 - 16s/epoch - 32ms/step
Epoch 175/625
481/481 - 16s - loss: 1.6095 - accuracy: 0.1959 - val_loss: 1.6094 - val_accuracy: 0.2000 - lr: 0.0010 - 16s/epoch - 33ms/step
Epoch 176/625
481/481 - 16s - loss: 1.6095 - accuracy: 0.2003 - val_loss: 1.6095 - val_accuracy: 0.2000 - lr: 0.0010 - 16s/epoch - 32ms/step
Epoch 177/625
481/481 - 16s - loss: 1.6095 - accuracy: 0.1976 - val_loss: 1.6094 - val_accuracy: 0.2000 - lr: 0.0010 - 16s/epoch - 33ms/step
Epoch 178/625
481/481 - 16s - loss: 1.6095 - accuracy: 0.2004 - val_loss: 1.6094 - val_accuracy: 0.2000 - lr: 0.0010 - 16s/epoch - 32ms/step
Epoch 179/625
481/481 - 16s - loss: 1.6095 - accuracy: 0.1996 - val_loss: 1.6095 - val_accuracy: 0.2000 - lr: 0.0010 - 16s/epoch - 33ms/step
Epoch 180/625
481/481 - 16s - loss: 1.6095 - accuracy: 0.1979 - val_loss: 1.6094 - val_accuracy: 0.2000 - lr: 0.0010 - 16s/epoch - 32ms/step
Epoch 181/625
481/481 - 16s - loss: 1.6095 - accuracy: 0.1981 - val_loss: 1.6095 - val_accuracy: 0.2000 - lr: 0.0010 - 16s/epoch - 33ms/step
Epoch 182/625
481/481 - 16s - loss: 1.6095 - accuracy: 0.1999 - val_loss: 1.6095 - val_accuracy: 0.2000 - lr: 0.0010 - 16s/epoch - 32ms/step
Epoch 183/625
481/481 - 16s - loss: 1.6095 - accuracy: 0.1967 - val_loss: 1.6094 - val_accuracy: 0.2000 - lr: 0.0010 - 16s/epoch - 33ms/step
Epoch 184/625
481/481 - 16s - loss: 1.6095 - accuracy: 0.1983 - val_loss: 1.6094 - val_accuracy: 0.2000 - lr: 0.0010 - 16s/epoch - 32ms/step
Epoch 185/625
481/481 - 16s - loss: 1.6095 - accuracy: 0.1997 - val_loss: 1.6095 - val_accuracy: 0.2000 - lr: 0.0010 - 16s/epoch - 33ms/step
Epoch 186/625
481/481 - 16s - loss: 1.6095 - accuracy: 0.1995 - val_loss: 1.6094 - val_accuracy: 0.2000 - lr: 0.0010 - 16s/epoch - 33ms/step
Epoch 187/625
481/481 - 16s - loss: 1.6095 - accuracy: 0.1980 - val_loss: 1.6094 - val_accuracy: 0.2000 - lr: 0.0010 - 16s/epoch - 33ms/step
Epoch 188/625
481/481 - 16s - loss: 1.6095 - accuracy: 0.1989 - val_loss: 1.6095 - val_accuracy: 0.2000 - lr: 0.0010 - 16s/epoch - 32ms/step
Epoch 189/625
481/481 - 16s - loss: 1.6095 - accuracy: 0.1975 - val_loss: 1.6094 - val_accuracy: 0.2000 - lr: 0.0010 - 16s/epoch - 33ms/step
Epoch 190/625
481/481 - 16s - loss: 1.6095 - accuracy: 0.2005 - val_loss: 1.6095 - val_accuracy: 0.2000 - lr: 0.0010 - 16s/epoch - 32ms/step
Epoch 191/625
481/481 - 16s - loss: 1.6095 - accuracy: 0.1988 - val_loss: 1.6094 - val_accuracy: 0.2000 - lr: 0.0010 - 16s/epoch - 33ms/step
Epoch 192/625
481/481 - 16s - loss: 1.6095 - accuracy: 0.1987 - val_loss: 1.6095 - val_accuracy: 0.2000 - lr: 0.0010 - 16s/epoch - 32ms/step
Epoch 193/625
481/481 - 16s - loss: 1.6095 - accuracy: 0.2008 - val_loss: 1.6095 - val_accuracy: 0.2000 - lr: 0.0010 - 16s/epoch - 33ms/step
Epoch 194/625
481/481 - 16s - loss: 1.6095 - accuracy: 0.2001 - val_loss: 1.6094 - val_accuracy: 0.2000 - lr: 0.0010 - 16s/epoch - 32ms/step
Epoch 195/625
481/481 - 16s - loss: 1.6095 - accuracy: 0.1993 - val_loss: 1.6094 - val_accuracy: 0.2000 - lr: 0.0010 - 16s/epoch - 33ms/step
Epoch 196/625
481/481 - 16s - loss: 1.6095 - accuracy: 0.1985 - val_loss: 1.6095 - val_accuracy: 0.2000 - lr: 0.0010 - 16s/epoch - 33ms/step
Epoch 197/625
481/481 - 16s - loss: 1.6095 - accuracy: 0.1994 - val_loss: 1.6095 - val_accuracy: 0.2000 - lr: 0.0010 - 16s/epoch - 33ms/step
Epoch 198/625
481/481 - 15s - loss: 1.6095 - accuracy: 0.1975 - val_loss: 1.6094 - val_accuracy: 0.2000 - lr: 0.0010 - 15s/epoch - 32ms/step
Epoch 199/625
481/481 - 16s - loss: 1.6095 - accuracy: 0.1968 - val_loss: 1.6094 - val_accuracy: 0.2000 - lr: 0.0010 - 16s/epoch - 33ms/step
Epoch 200/625
481/481 - 16s - loss: 1.6095 - accuracy: 0.2013 - val_loss: 1.6095 - val_accuracy: 0.2000 - lr: 0.0010 - 16s/epoch - 32ms/step
Epoch 201/625
481/481 - 16s - loss: 1.6095 - accuracy: 0.1968 - val_loss: 1.6095 - val_accuracy: 0.2000 - lr: 0.0010 - 16s/epoch - 33ms/step
Epoch 202/625
481/481 - 16s - loss: 1.6095 - accuracy: 0.1988 - val_loss: 1.6094 - val_accuracy: 0.2000 - lr: 0.0010 - 16s/epoch - 32ms/step
Epoch 203/625
481/481 - 16s - loss: 1.6095 - accuracy: 0.1974 - val_loss: 1.6095 - val_accuracy: 0.2000 - lr: 0.0010 - 16s/epoch - 33ms/step
Epoch 204/625
481/481 - 16s - loss: 1.6095 - accuracy: 0.1988 - val_loss: 1.6095 - val_accuracy: 0.2000 - lr: 0.0010 - 16s/epoch - 33ms/step
Epoch 205/625
481/481 - 16s - loss: 1.6095 - accuracy: 0.2010 - val_loss: 1.6095 - val_accuracy: 0.2000 - lr: 0.0010 - 16s/epoch - 32ms/step
Epoch 206/625
481/481 - 16s - loss: 1.6095 - accuracy: 0.1993 - val_loss: 1.6095 - val_accuracy: 0.2000 - lr: 0.0010 - 16s/epoch - 32ms/step
Epoch 207/625
481/481 - 16s - loss: 1.6095 - accuracy: 0.1985 - val_loss: 1.6095 - val_accuracy: 0.2000 - lr: 0.0010 - 16s/epoch - 32ms/step
Epoch 208/625
481/481 - 16s - loss: 1.6095 - accuracy: 0.1980 - val_loss: 1.6095 - val_accuracy: 0.2000 - lr: 0.0010 - 16s/epoch - 33ms/step
Epoch 209/625
481/481 - 16s - loss: 1.6095 - accuracy: 0.1992 - val_loss: 1.6095 - val_accuracy: 0.2000 - lr: 0.0010 - 16s/epoch - 32ms/step
Epoch 210/625
481/481 - 16s - loss: 1.6095 - accuracy: 0.1984 - val_loss: 1.6095 - val_accuracy: 0.2000 - lr: 0.0010 - 16s/epoch - 32ms/step
Epoch 211/625
481/481 - 15s - loss: 1.6095 - accuracy: 0.1982 - val_loss: 1.6094 - val_accuracy: 0.2000 - lr: 0.0010 - 15s/epoch - 32ms/step
Epoch 212/625
481/481 - 16s - loss: 1.6095 - accuracy: 0.2012 - val_loss: 1.6095 - val_accuracy: 0.2000 - lr: 0.0010 - 16s/epoch - 33ms/step
Epoch 213/625
481/481 - 16s - loss: 1.6095 - accuracy: 0.1989 - val_loss: 1.6095 - val_accuracy: 0.2000 - lr: 0.0010 - 16s/epoch - 33ms/step
Epoch 214/625
481/481 - 16s - loss: 1.6095 - accuracy: 0.1997 - val_loss: 1.6094 - val_accuracy: 0.2000 - lr: 0.0010 - 16s/epoch - 33ms/step
Epoch 215/625
481/481 - 16s - loss: 1.6095 - accuracy: 0.2007 - val_loss: 1.6095 - val_accuracy: 0.2000 - lr: 0.0010 - 16s/epoch - 32ms/step
Epoch 216/625
481/481 - 16s - loss: 1.6095 - accuracy: 0.1990 - val_loss: 1.6094 - val_accuracy: 0.2000 - lr: 0.0010 - 16s/epoch - 32ms/step
Epoch 217/625
481/481 - 16s - loss: 1.6095 - accuracy: 0.2005 - val_loss: 1.6095 - val_accuracy: 0.2000 - lr: 0.0010 - 16s/epoch - 32ms/step
Epoch 218/625
481/481 - 16s - loss: 1.6095 - accuracy: 0.1994 - val_loss: 1.6095 - val_accuracy: 0.2000 - lr: 0.0010 - 16s/epoch - 33ms/step
Epoch 219/625
481/481 - 16s - loss: 1.6095 - accuracy: 0.1983 - val_loss: 1.6095 - val_accuracy: 0.2000 - lr: 0.0010 - 16s/epoch - 32ms/step
Epoch 220/625
481/481 - 16s - loss: 1.6095 - accuracy: 0.1976 - val_loss: 1.6095 - val_accuracy: 0.2000 - lr: 0.0010 - 16s/epoch - 33ms/step
Epoch 221/625
481/481 - 16s - loss: 1.6095 - accuracy: 0.1986 - val_loss: 1.6095 - val_accuracy: 0.2000 - lr: 0.0010 - 16s/epoch - 32ms/step
Epoch 222/625
481/481 - 16s - loss: 1.6095 - accuracy: 0.1980 - val_loss: 1.6095 - val_accuracy: 0.2000 - lr: 0.0010 - 16s/epoch - 32ms/step
Epoch 223/625
481/481 - 16s - loss: 1.6095 - accuracy: 0.1984 - val_loss: 1.6095 - val_accuracy: 0.2000 - lr: 0.0010 - 16s/epoch - 32ms/step
Epoch 224/625
481/481 - 16s - loss: 1.6095 - accuracy: 0.1981 - val_loss: 1.6094 - val_accuracy: 0.2000 - lr: 0.0010 - 16s/epoch - 33ms/step
Epoch 225/625
481/481 - 16s - loss: 1.6095 - accuracy: 0.1989 - val_loss: 1.6094 - val_accuracy: 0.2000 - lr: 0.0010 - 16s/epoch - 32ms/step
Epoch 226/625
481/481 - 16s - loss: 1.6095 - accuracy: 0.1971 - val_loss: 1.6095 - val_accuracy: 0.2000 - lr: 0.0010 - 16s/epoch - 33ms/step
Epoch 227/625
481/481 - 16s - loss: 1.6095 - accuracy: 0.1980 - val_loss: 1.6095 - val_accuracy: 0.2000 - lr: 0.0010 - 16s/epoch - 32ms/step
Epoch 228/625
481/481 - 16s - loss: 1.6095 - accuracy: 0.1972 - val_loss: 1.6095 - val_accuracy: 0.2000 - lr: 0.0010 - 16s/epoch - 33ms/step
Epoch 229/625
481/481 - 16s - loss: 1.6095 - accuracy: 0.1983 - val_loss: 1.6094 - val_accuracy: 0.2000 - lr: 0.0010 - 16s/epoch - 32ms/step
Epoch 230/625
481/481 - 16s - loss: 1.6095 - accuracy: 0.1970 - val_loss: 1.6094 - val_accuracy: 0.2000 - lr: 0.0010 - 16s/epoch - 33ms/step
Epoch 231/625
481/481 - 16s - loss: 1.6095 - accuracy: 0.1995 - val_loss: 1.6096 - val_accuracy: 0.2000 - lr: 0.0010 - 16s/epoch - 32ms/step
Epoch 232/625
481/481 - 16s - loss: 1.6095 - accuracy: 0.1968 - val_loss: 1.6094 - val_accuracy: 0.2000 - lr: 0.0010 - 16s/epoch - 33ms/step
Epoch 233/625
481/481 - 16s - loss: 1.6095 - accuracy: 0.1994 - val_loss: 1.6094 - val_accuracy: 0.2000 - lr: 0.0010 - 16s/epoch - 32ms/step
Epoch 234/625
481/481 - 16s - loss: 1.6095 - accuracy: 0.1998 - val_loss: 1.6095 - val_accuracy: 0.2000 - lr: 0.0010 - 16s/epoch - 33ms/step
Epoch 235/625
481/481 - 16s - loss: 1.6095 - accuracy: 0.2008 - val_loss: 1.6095 - val_accuracy: 0.2000 - lr: 0.0010 - 16s/epoch - 32ms/step
Epoch 236/625
481/481 - 16s - loss: 1.6095 - accuracy: 0.1976 - val_loss: 1.6095 - val_accuracy: 0.2000 - lr: 0.0010 - 16s/epoch - 33ms/step
Epoch 237/625
481/481 - 16s - loss: 1.6095 - accuracy: 0.2008 - val_loss: 1.6095 - val_accuracy: 0.2000 - lr: 0.0010 - 16s/epoch - 32ms/step
Epoch 238/625
481/481 - 16s - loss: 1.6095 - accuracy: 0.1993 - val_loss: 1.6094 - val_accuracy: 0.2000 - lr: 0.0010 - 16s/epoch - 33ms/step
Epoch 239/625
481/481 - 16s - loss: 1.6095 - accuracy: 0.1988 - val_loss: 1.6095 - val_accuracy: 0.2000 - lr: 0.0010 - 16s/epoch - 32ms/step
Epoch 240/625
481/481 - 16s - loss: 1.6095 - accuracy: 0.2002 - val_loss: 1.6095 - val_accuracy: 0.2000 - lr: 0.0010 - 16s/epoch - 33ms/step
Epoch 241/625
481/481 - 16s - loss: 1.6095 - accuracy: 0.1990 - val_loss: 1.6095 - val_accuracy: 0.2000 - lr: 0.0010 - 16s/epoch - 32ms/step
Epoch 242/625
481/481 - 16s - loss: 1.6095 - accuracy: 0.2008 - val_loss: 1.6094 - val_accuracy: 0.2000 - lr: 0.0010 - 16s/epoch - 33ms/step
Epoch 243/625
481/481 - 16s - loss: 1.6095 - accuracy: 0.1980 - val_loss: 1.6094 - val_accuracy: 0.2000 - lr: 0.0010 - 16s/epoch - 32ms/step
Epoch 244/625
481/481 - 16s - loss: 1.6095 - accuracy: 0.1980 - val_loss: 1.6094 - val_accuracy: 0.2000 - lr: 0.0010 - 16s/epoch - 32ms/step
Epoch 245/625
481/481 - 16s - loss: 1.6095 - accuracy: 0.1974 - val_loss: 1.6094 - val_accuracy: 0.2000 - lr: 0.0010 - 16s/epoch - 33ms/step
Epoch 246/625
481/481 - 16s - loss: 1.6095 - accuracy: 0.1976 - val_loss: 1.6094 - val_accuracy: 0.2000 - lr: 0.0010 - 16s/epoch - 33ms/step
Epoch 247/625
481/481 - 16s - loss: 1.6095 - accuracy: 0.1982 - val_loss: 1.6095 - val_accuracy: 0.2000 - lr: 0.0010 - 16s/epoch - 33ms/step
Epoch 248/625
481/481 - 16s - loss: 1.6095 - accuracy: 0.1970 - val_loss: 1.6095 - val_accuracy: 0.2000 - lr: 0.0010 - 16s/epoch - 33ms/step
Epoch 249/625
481/481 - 16s - loss: 1.6095 - accuracy: 0.2001 - val_loss: 1.6095 - val_accuracy: 0.2000 - lr: 0.0010 - 16s/epoch - 32ms/step
Epoch 250/625
481/481 - 16s - loss: 1.6095 - accuracy: 0.1989 - val_loss: 1.6094 - val_accuracy: 0.2000 - lr: 0.0010 - 16s/epoch - 32ms/step
Epoch 251/625
481/481 - 16s - loss: 1.6095 - accuracy: 0.1992 - val_loss: 1.6095 - val_accuracy: 0.2000 - lr: 0.0010 - 16s/epoch - 32ms/step
Epoch 252/625
481/481 - 16s - loss: 1.6095 - accuracy: 0.2004 - val_loss: 1.6095 - val_accuracy: 0.2000 - lr: 0.0010 - 16s/epoch - 32ms/step
Epoch 253/625
481/481 - 16s - loss: 1.6095 - accuracy: 0.1986 - val_loss: 1.6094 - val_accuracy: 0.2000 - lr: 0.0010 - 16s/epoch - 33ms/step
Epoch 254/625
481/481 - 16s - loss: 1.6095 - accuracy: 0.1985 - val_loss: 1.6095 - val_accuracy: 0.2000 - lr: 0.0010 - 16s/epoch - 32ms/step
Epoch 255/625
481/481 - 16s - loss: 1.6095 - accuracy: 0.1985 - val_loss: 1.6095 - val_accuracy: 0.2000 - lr: 0.0010 - 16s/epoch - 32ms/step
Epoch 256/625
481/481 - 16s - loss: 1.6095 - accuracy: 0.2002 - val_loss: 1.6095 - val_accuracy: 0.2000 - lr: 0.0010 - 16s/epoch - 33ms/step
Epoch 257/625
481/481 - 16s - loss: 1.6095 - accuracy: 0.2008 - val_loss: 1.6095 - val_accuracy: 0.2000 - lr: 0.0010 - 16s/epoch - 33ms/step
Epoch 258/625
481/481 - 16s - loss: 1.6095 - accuracy: 0.2005 - val_loss: 1.6095 - val_accuracy: 0.2000 - lr: 0.0010 - 16s/epoch - 33ms/step
Epoch 259/625
481/481 - 15s - loss: 1.6095 - accuracy: 0.1982 - val_loss: 1.6094 - val_accuracy: 0.2000 - lr: 0.0010 - 15s/epoch - 32ms/step
Epoch 260/625
481/481 - 16s - loss: 1.6095 - accuracy: 0.1998 - val_loss: 1.6095 - val_accuracy: 0.2000 - lr: 0.0010 - 16s/epoch - 33ms/step
Epoch 261/625
481/481 - 16s - loss: 1.6095 - accuracy: 0.2001 - val_loss: 1.6095 - val_accuracy: 0.2000 - lr: 0.0010 - 16s/epoch - 33ms/step
Epoch 262/625
481/481 - 16s - loss: 1.6095 - accuracy: 0.1982 - val_loss: 1.6095 - val_accuracy: 0.2000 - lr: 0.0010 - 16s/epoch - 32ms/step
Epoch 263/625
481/481 - 16s - loss: 1.6095 - accuracy: 0.1988 - val_loss: 1.6095 - val_accuracy: 0.2000 - lr: 0.0010 - 16s/epoch - 33ms/step
Epoch 264/625
481/481 - 16s - loss: 1.6095 - accuracy: 0.2000 - val_loss: 1.6095 - val_accuracy: 0.2000 - lr: 0.0010 - 16s/epoch - 32ms/step
Epoch 265/625
481/481 - 16s - loss: 1.6095 - accuracy: 0.1974 - val_loss: 1.6094 - val_accuracy: 0.2000 - lr: 0.0010 - 16s/epoch - 32ms/step
Epoch 266/625
481/481 - 16s - loss: 1.6095 - accuracy: 0.2015 - val_loss: 1.6095 - val_accuracy: 0.2000 - lr: 0.0010 - 16s/epoch - 33ms/step
Epoch 267/625
481/481 - 16s - loss: 1.6095 - accuracy: 0.1972 - val_loss: 1.6094 - val_accuracy: 0.2000 - lr: 0.0010 - 16s/epoch - 33ms/step
Epoch 268/625
481/481 - 16s - loss: 1.6095 - accuracy: 0.1974 - val_loss: 1.6095 - val_accuracy: 0.2000 - lr: 0.0010 - 16s/epoch - 32ms/step
Epoch 269/625
481/481 - 16s - loss: 1.6095 - accuracy: 0.1994 - val_loss: 1.6095 - val_accuracy: 0.2000 - lr: 0.0010 - 16s/epoch - 32ms/step
Epoch 270/625
481/481 - 16s - loss: 1.6095 - accuracy: 0.1991 - val_loss: 1.6095 - val_accuracy: 0.2000 - lr: 0.0010 - 16s/epoch - 33ms/step
Epoch 271/625
481/481 - 16s - loss: 1.6095 - accuracy: 0.2007 - val_loss: 1.6095 - val_accuracy: 0.2000 - lr: 0.0010 - 16s/epoch - 32ms/step
Epoch 272/625
481/481 - 16s - loss: 1.6095 - accuracy: 0.1985 - val_loss: 1.6095 - val_accuracy: 0.2000 - lr: 0.0010 - 16s/epoch - 33ms/step
Epoch 273/625
481/481 - 16s - loss: 1.6095 - accuracy: 0.1982 - val_loss: 1.6094 - val_accuracy: 0.2000 - lr: 0.0010 - 16s/epoch - 32ms/step
Epoch 274/625
481/481 - 16s - loss: 1.6095 - accuracy: 0.1967 - val_loss: 1.6095 - val_accuracy: 0.2000 - lr: 0.0010 - 16s/epoch - 32ms/step
Epoch 275/625
481/481 - 16s - loss: 1.6095 - accuracy: 0.1980 - val_loss: 1.6094 - val_accuracy: 0.2000 - lr: 0.0010 - 16s/epoch - 32ms/step
Epoch 276/625
481/481 - 16s - loss: 1.6095 - accuracy: 0.1983 - val_loss: 1.6094 - val_accuracy: 0.2000 - lr: 0.0010 - 16s/epoch - 33ms/step
Epoch 277/625
481/481 - 16s - loss: 1.6095 - accuracy: 0.1984 - val_loss: 1.6094 - val_accuracy: 0.2000 - lr: 0.0010 - 16s/epoch - 32ms/step
Epoch 278/625
481/481 - 16s - loss: 1.6095 - accuracy: 0.1997 - val_loss: 1.6094 - val_accuracy: 0.2000 - lr: 0.0010 - 16s/epoch - 33ms/step
Epoch 279/625
481/481 - 16s - loss: 1.6095 - accuracy: 0.1987 - val_loss: 1.6095 - val_accuracy: 0.2000 - lr: 0.0010 - 16s/epoch - 32ms/step
Epoch 280/625
481/481 - 16s - loss: 1.6095 - accuracy: 0.1988 - val_loss: 1.6095 - val_accuracy: 0.2000 - lr: 0.0010 - 16s/epoch - 33ms/step
Epoch 281/625
481/481 - 16s - loss: 1.6095 - accuracy: 0.1981 - val_loss: 1.6095 - val_accuracy: 0.2000 - lr: 0.0010 - 16s/epoch - 32ms/step
Epoch 282/625
481/481 - 16s - loss: 1.6095 - accuracy: 0.1990 - val_loss: 1.6095 - val_accuracy: 0.2000 - lr: 0.0010 - 16s/epoch - 33ms/step
Epoch 283/625
481/481 - 16s - loss: 1.6095 - accuracy: 0.2004 - val_loss: 1.6095 - val_accuracy: 0.2000 - lr: 0.0010 - 16s/epoch - 32ms/step
Epoch 284/625
481/481 - 16s - loss: 1.6095 - accuracy: 0.1978 - val_loss: 1.6095 - val_accuracy: 0.2000 - lr: 0.0010 - 16s/epoch - 32ms/step
Epoch 285/625
481/481 - 16s - loss: 1.6095 - accuracy: 0.1978 - val_loss: 1.6094 - val_accuracy: 0.2000 - lr: 0.0010 - 16s/epoch - 33ms/step
Epoch 286/625
481/481 - 16s - loss: 1.6095 - accuracy: 0.1981 - val_loss: 1.6094 - val_accuracy: 0.2000 - lr: 0.0010 - 16s/epoch - 33ms/step
Epoch 287/625
481/481 - 16s - loss: 1.6095 - accuracy: 0.2003 - val_loss: 1.6095 - val_accuracy: 0.2000 - lr: 0.0010 - 16s/epoch - 32ms/step
Epoch 288/625
481/481 - 16s - loss: 1.6095 - accuracy: 0.1997 - val_loss: 1.6095 - val_accuracy: 0.2000 - lr: 0.0010 - 16s/epoch - 33ms/step
Epoch 289/625
481/481 - 15s - loss: 1.6095 - accuracy: 0.1996 - val_loss: 1.6095 - val_accuracy: 0.2000 - lr: 0.0010 - 15s/epoch - 32ms/step
Epoch 290/625
481/481 - 16s - loss: 1.6095 - accuracy: 0.1977 - val_loss: 1.6095 - val_accuracy: 0.2000 - lr: 0.0010 - 16s/epoch - 32ms/step
Epoch 291/625
481/481 - 16s - loss: 1.6095 - accuracy: 0.2000 - val_loss: 1.6095 - val_accuracy: 0.2000 - lr: 0.0010 - 16s/epoch - 32ms/step
Epoch 292/625
481/481 - 16s - loss: 1.6095 - accuracy: 0.1969 - val_loss: 1.6094 - val_accuracy: 0.2000 - lr: 0.0010 - 16s/epoch - 33ms/step
Epoch 293/625
481/481 - 16s - loss: 1.6095 - accuracy: 0.1967 - val_loss: 1.6095 - val_accuracy: 0.2000 - lr: 0.0010 - 16s/epoch - 33ms/step
Epoch 294/625
481/481 - 16s - loss: 1.6095 - accuracy: 0.1998 - val_loss: 1.6095 - val_accuracy: 0.2000 - lr: 0.0010 - 16s/epoch - 33ms/step
Epoch 295/625
481/481 - 16s - loss: 1.6095 - accuracy: 0.1973 - val_loss: 1.6094 - val_accuracy: 0.2000 - lr: 0.0010 - 16s/epoch - 33ms/step
Epoch 296/625
481/481 - 16s - loss: 1.6095 - accuracy: 0.1980 - val_loss: 1.6094 - val_accuracy: 0.2000 - lr: 0.0010 - 16s/epoch - 33ms/step
Epoch 297/625
481/481 - 16s - loss: 1.6095 - accuracy: 0.1982 - val_loss: 1.6094 - val_accuracy: 0.2000 - lr: 0.0010 - 16s/epoch - 32ms/step
Epoch 298/625
481/481 - 16s - loss: 1.6095 - accuracy: 0.1993 - val_loss: 1.6094 - val_accuracy: 0.2000 - lr: 0.0010 - 16s/epoch - 32ms/step
Epoch 299/625
481/481 - 16s - loss: 1.6095 - accuracy: 0.1979 - val_loss: 1.6094 - val_accuracy: 0.2000 - lr: 0.0010 - 16s/epoch - 32ms/step
Epoch 300/625
481/481 - 16s - loss: 1.6095 - accuracy: 0.1983 - val_loss: 1.6095 - val_accuracy: 0.2000 - lr: 0.0010 - 16s/epoch - 33ms/step
Epoch 301/625
481/481 - 16s - loss: 1.6095 - accuracy: 0.1989 - val_loss: 1.6094 - val_accuracy: 0.2000 - lr: 0.0010 - 16s/epoch - 33ms/step
Epoch 302/625
481/481 - 16s - loss: 1.6095 - accuracy: 0.1979 - val_loss: 1.6094 - val_accuracy: 0.2000 - lr: 0.0010 - 16s/epoch - 32ms/step
Epoch 303/625
481/481 - 16s - loss: 1.6095 - accuracy: 0.1999 - val_loss: 1.6094 - val_accuracy: 0.2000 - lr: 0.0010 - 16s/epoch - 33ms/step
Epoch 304/625
481/481 - 16s - loss: 1.6095 - accuracy: 0.1996 - val_loss: 1.6095 - val_accuracy: 0.2000 - lr: 0.0010 - 16s/epoch - 32ms/step
Epoch 305/625
481/481 - 16s - loss: 1.6095 - accuracy: 0.2011 - val_loss: 1.6095 - val_accuracy: 0.2000 - lr: 0.0010 - 16s/epoch - 33ms/step
Epoch 306/625
481/481 - 16s - loss: 1.6095 - accuracy: 0.1997 - val_loss: 1.6095 - val_accuracy: 0.2000 - lr: 0.0010 - 16s/epoch - 33ms/step
Epoch 307/625
481/481 - 16s - loss: 1.6095 - accuracy: 0.1998 - val_loss: 1.6095 - val_accuracy: 0.2000 - lr: 0.0010 - 16s/epoch - 32ms/step
Epoch 308/625
481/481 - 16s - loss: 1.6095 - accuracy: 0.2010 - val_loss: 1.6095 - val_accuracy: 0.2000 - lr: 0.0010 - 16s/epoch - 33ms/step
Epoch 309/625
481/481 - 16s - loss: 1.6095 - accuracy: 0.1987 - val_loss: 1.6095 - val_accuracy: 0.2000 - lr: 0.0010 - 16s/epoch - 32ms/step
Epoch 310/625
481/481 - 16s - loss: 1.6095 - accuracy: 0.2001 - val_loss: 1.6095 - val_accuracy: 0.2000 - lr: 0.0010 - 16s/epoch - 32ms/step
Epoch 311/625
481/481 - 16s - loss: 1.6095 - accuracy: 0.1993 - val_loss: 1.6094 - val_accuracy: 0.2000 - lr: 0.0010 - 16s/epoch - 33ms/step
Epoch 312/625
481/481 - 16s - loss: 1.6095 - accuracy: 0.1985 - val_loss: 1.6095 - val_accuracy: 0.2000 - lr: 0.0010 - 16s/epoch - 32ms/step
Epoch 313/625
481/481 - 16s - loss: 1.6095 - accuracy: 0.1977 - val_loss: 1.6094 - val_accuracy: 0.2000 - lr: 0.0010 - 16s/epoch - 32ms/step
Epoch 314/625
481/481 - 16s - loss: 1.6095 - accuracy: 0.1979 - val_loss: 1.6094 - val_accuracy: 0.2000 - lr: 0.0010 - 16s/epoch - 33ms/step
Epoch 315/625
481/481 - 16s - loss: 1.6095 - accuracy: 0.1998 - val_loss: 1.6095 - val_accuracy: 0.2000 - lr: 0.0010 - 16s/epoch - 33ms/step
Epoch 316/625
481/481 - 16s - loss: 1.6095 - accuracy: 0.1989 - val_loss: 1.6095 - val_accuracy: 0.2000 - lr: 0.0010 - 16s/epoch - 33ms/step
Epoch 317/625
481/481 - 16s - loss: 1.6095 - accuracy: 0.1986 - val_loss: 1.6095 - val_accuracy: 0.2000 - lr: 0.0010 - 16s/epoch - 32ms/step
Epoch 318/625
481/481 - 16s - loss: 1.6095 - accuracy: 0.1974 - val_loss: 1.6094 - val_accuracy: 0.2000 - lr: 0.0010 - 16s/epoch - 32ms/step
Epoch 319/625
481/481 - 16s - loss: 1.6095 - accuracy: 0.1982 - val_loss: 1.6095 - val_accuracy: 0.2000 - lr: 0.0010 - 16s/epoch - 33ms/step
Epoch 320/625
481/481 - 16s - loss: 1.6095 - accuracy: 0.1981 - val_loss: 1.6094 - val_accuracy: 0.2000 - lr: 0.0010 - 16s/epoch - 33ms/step
Epoch 321/625
481/481 - 16s - loss: 1.6095 - accuracy: 0.1988 - val_loss: 1.6095 - val_accuracy: 0.2000 - lr: 0.0010 - 16s/epoch - 32ms/step
Epoch 322/625
481/481 - 16s - loss: 1.6095 - accuracy: 0.1979 - val_loss: 1.6095 - val_accuracy: 0.2000 - lr: 0.0010 - 16s/epoch - 33ms/step
Epoch 323/625
481/481 - 16s - loss: 1.6095 - accuracy: 0.1982 - val_loss: 1.6095 - val_accuracy: 0.2000 - lr: 0.0010 - 16s/epoch - 32ms/step
Epoch 324/625
481/481 - 16s - loss: 1.6095 - accuracy: 0.2000 - val_loss: 1.6094 - val_accuracy: 0.2000 - lr: 0.0010 - 16s/epoch - 33ms/step
Epoch 325/625
481/481 - 16s - loss: 1.6095 - accuracy: 0.1992 - val_loss: 1.6094 - val_accuracy: 0.2000 - lr: 0.0010 - 16s/epoch - 33ms/step
Epoch 326/625
481/481 - 16s - loss: 1.6095 - accuracy: 0.1994 - val_loss: 1.6094 - val_accuracy: 0.2000 - lr: 0.0010 - 16s/epoch - 33ms/step
Epoch 327/625
481/481 - 16s - loss: 1.6095 - accuracy: 0.1983 - val_loss: 1.6094 - val_accuracy: 0.2000 - lr: 0.0010 - 16s/epoch - 32ms/step
Epoch 328/625
481/481 - 16s - loss: 1.6095 - accuracy: 0.2004 - val_loss: 1.6095 - val_accuracy: 0.2000 - lr: 0.0010 - 16s/epoch - 33ms/step
Epoch 329/625
481/481 - 16s - loss: 1.6095 - accuracy: 0.1981 - val_loss: 1.6095 - val_accuracy: 0.2000 - lr: 0.0010 - 16s/epoch - 32ms/step
Epoch 330/625
481/481 - 16s - loss: 1.6095 - accuracy: 0.2004 - val_loss: 1.6095 - val_accuracy: 0.2000 - lr: 0.0010 - 16s/epoch - 33ms/step
Epoch 331/625
481/481 - 16s - loss: 1.6095 - accuracy: 0.1989 - val_loss: 1.6094 - val_accuracy: 0.2000 - lr: 0.0010 - 16s/epoch - 32ms/step
Epoch 332/625
481/481 - 16s - loss: 1.6095 - accuracy: 0.1964 - val_loss: 1.6095 - val_accuracy: 0.2000 - lr: 0.0010 - 16s/epoch - 32ms/step
Epoch 333/625
481/481 - 16s - loss: 1.6095 - accuracy: 0.1988 - val_loss: 1.6094 - val_accuracy: 0.2000 - lr: 0.0010 - 16s/epoch - 32ms/step
Epoch 334/625
481/481 - 16s - loss: 1.6095 - accuracy: 0.1984 - val_loss: 1.6095 - val_accuracy: 0.2000 - lr: 0.0010 - 16s/epoch - 32ms/step
Epoch 335/625
481/481 - 16s - loss: 1.6095 - accuracy: 0.2008 - val_loss: 1.6095 - val_accuracy: 0.2000 - lr: 0.0010 - 16s/epoch - 33ms/step
Epoch 336/625
481/481 - 16s - loss: 1.6095 - accuracy: 0.1986 - val_loss: 1.6095 - val_accuracy: 0.2000 - lr: 0.0010 - 16s/epoch - 33ms/step
Epoch 337/625
481/481 - 16s - loss: 1.6095 - accuracy: 0.1993 - val_loss: 1.6095 - val_accuracy: 0.2000 - lr: 0.0010 - 16s/epoch - 32ms/step
Epoch 338/625
481/481 - 16s - loss: 1.6095 - accuracy: 0.1988 - val_loss: 1.6095 - val_accuracy: 0.2000 - lr: 0.0010 - 16s/epoch - 32ms/step
Epoch 339/625
481/481 - 16s - loss: 1.6095 - accuracy: 0.1988 - val_loss: 1.6095 - val_accuracy: 0.2000 - lr: 0.0010 - 16s/epoch - 33ms/step
Epoch 340/625
481/481 - 16s - loss: 1.6095 - accuracy: 0.1982 - val_loss: 1.6094 - val_accuracy: 0.2000 - lr: 0.0010 - 16s/epoch - 32ms/step
Epoch 341/625
481/481 - 16s - loss: 1.6095 - accuracy: 0.2000 - val_loss: 1.6095 - val_accuracy: 0.2000 - lr: 0.0010 - 16s/epoch - 32ms/step
Epoch 342/625
481/481 - 16s - loss: 1.6095 - accuracy: 0.1984 - val_loss: 1.6094 - val_accuracy: 0.2000 - lr: 0.0010 - 16s/epoch - 32ms/step
Epoch 343/625
481/481 - 16s - loss: 1.6095 - accuracy: 0.2000 - val_loss: 1.6095 - val_accuracy: 0.2000 - lr: 0.0010 - 16s/epoch - 32ms/step
Epoch 344/625
481/481 - 16s - loss: 1.6095 - accuracy: 0.1994 - val_loss: 1.6095 - val_accuracy: 0.2000 - lr: 0.0010 - 16s/epoch - 33ms/step
Epoch 345/625
481/481 - 16s - loss: 1.6095 - accuracy: 0.1993 - val_loss: 1.6095 - val_accuracy: 0.2000 - lr: 0.0010 - 16s/epoch - 32ms/step
Epoch 346/625
481/481 - 16s - loss: 1.6095 - accuracy: 0.2002 - val_loss: 1.6095 - val_accuracy: 0.2000 - lr: 0.0010 - 16s/epoch - 33ms/step
Epoch 347/625
481/481 - 16s - loss: 1.6095 - accuracy: 0.1985 - val_loss: 1.6094 - val_accuracy: 0.2000 - lr: 0.0010 - 16s/epoch - 33ms/step
Epoch 348/625
481/481 - 16s - loss: 1.6095 - accuracy: 0.1980 - val_loss: 1.6094 - val_accuracy: 0.2000 - lr: 0.0010 - 16s/epoch - 33ms/step
Epoch 349/625
481/481 - 16s - loss: 1.6095 - accuracy: 0.1993 - val_loss: 1.6094 - val_accuracy: 0.2000 - lr: 0.0010 - 16s/epoch - 33ms/step
Epoch 350/625
481/481 - 16s - loss: 1.6095 - accuracy: 0.1979 - val_loss: 1.6095 - val_accuracy: 0.2000 - lr: 0.0010 - 16s/epoch - 33ms/step
Epoch 351/625
481/481 - 16s - loss: 1.6095 - accuracy: 0.1965 - val_loss: 1.6094 - val_accuracy: 0.2000 - lr: 0.0010 - 16s/epoch - 33ms/step
Epoch 352/625
481/481 - 16s - loss: 1.6095 - accuracy: 0.1990 - val_loss: 1.6094 - val_accuracy: 0.2000 - lr: 0.0010 - 16s/epoch - 33ms/step
Epoch 353/625
481/481 - 16s - loss: 1.6095 - accuracy: 0.1987 - val_loss: 1.6095 - val_accuracy: 0.2000 - lr: 0.0010 - 16s/epoch - 33ms/step
Epoch 354/625
481/481 - 16s - loss: 1.6095 - accuracy: 0.1992 - val_loss: 1.6095 - val_accuracy: 0.2000 - lr: 0.0010 - 16s/epoch - 34ms/step
Epoch 355/625
481/481 - 16s - loss: 1.6095 - accuracy: 0.1983 - val_loss: 1.6095 - val_accuracy: 0.2000 - lr: 0.0010 - 16s/epoch - 34ms/step
Epoch 356/625
481/481 - 16s - loss: 1.6095 - accuracy: 0.1976 - val_loss: 1.6095 - val_accuracy: 0.2000 - lr: 0.0010 - 16s/epoch - 33ms/step
Epoch 357/625
481/481 - 16s - loss: 1.6095 - accuracy: 0.1986 - val_loss: 1.6094 - val_accuracy: 0.2000 - lr: 0.0010 - 16s/epoch - 32ms/step
Epoch 358/625
481/481 - 16s - loss: 1.6095 - accuracy: 0.1996 - val_loss: 1.6095 - val_accuracy: 0.2000 - lr: 0.0010 - 16s/epoch - 32ms/step
Epoch 359/625
481/481 - 16s - loss: 1.6095 - accuracy: 0.1979 - val_loss: 1.6095 - val_accuracy: 0.2000 - lr: 0.0010 - 16s/epoch - 32ms/step
Epoch 360/625
481/481 - 16s - loss: 1.6095 - accuracy: 0.1988 - val_loss: 1.6095 - val_accuracy: 0.2000 - lr: 0.0010 - 16s/epoch - 33ms/step
Epoch 361/625
481/481 - 16s - loss: 1.6095 - accuracy: 0.2000 - val_loss: 1.6095 - val_accuracy: 0.2000 - lr: 0.0010 - 16s/epoch - 32ms/step
Epoch 362/625
481/481 - 16s - loss: 1.6095 - accuracy: 0.1998 - val_loss: 1.6095 - val_accuracy: 0.2000 - lr: 0.0010 - 16s/epoch - 33ms/step
Epoch 363/625
481/481 - 16s - loss: 1.6095 - accuracy: 0.2009 - val_loss: 1.6094 - val_accuracy: 0.2000 - lr: 0.0010 - 16s/epoch - 32ms/step
Epoch 364/625
481/481 - 16s - loss: 1.6095 - accuracy: 0.1977 - val_loss: 1.6095 - val_accuracy: 0.2000 - lr: 0.0010 - 16s/epoch - 32ms/step
Epoch 365/625
481/481 - 16s - loss: 1.6095 - accuracy: 0.1999 - val_loss: 1.6095 - val_accuracy: 0.2000 - lr: 0.0010 - 16s/epoch - 32ms/step
Epoch 366/625
481/481 - 16s - loss: 1.6095 - accuracy: 0.1982 - val_loss: 1.6095 - val_accuracy: 0.2000 - lr: 0.0010 - 16s/epoch - 33ms/step
Epoch 367/625
481/481 - 16s - loss: 1.6095 - accuracy: 0.1988 - val_loss: 1.6094 - val_accuracy: 0.2000 - lr: 0.0010 - 16s/epoch - 32ms/step
Epoch 368/625
481/481 - 16s - loss: 1.6095 - accuracy: 0.1975 - val_loss: 1.6095 - val_accuracy: 0.2000 - lr: 0.0010 - 16s/epoch - 32ms/step
Epoch 369/625
481/481 - 16s - loss: 1.6095 - accuracy: 0.1996 - val_loss: 1.6094 - val_accuracy: 0.2000 - lr: 0.0010 - 16s/epoch - 32ms/step
Epoch 370/625
481/481 - 16s - loss: 1.6095 - accuracy: 0.1970 - val_loss: 1.6095 - val_accuracy: 0.2000 - lr: 0.0010 - 16s/epoch - 33ms/step
Epoch 371/625
481/481 - 16s - loss: 1.6095 - accuracy: 0.1990 - val_loss: 1.6095 - val_accuracy: 0.2000 - lr: 0.0010 - 16s/epoch - 32ms/step
Epoch 372/625
481/481 - 16s - loss: 1.6095 - accuracy: 0.1977 - val_loss: 1.6094 - val_accuracy: 0.2000 - lr: 0.0010 - 16s/epoch - 32ms/step
Epoch 373/625
481/481 - 16s - loss: 1.6095 - accuracy: 0.1981 - val_loss: 1.6094 - val_accuracy: 0.2000 - lr: 0.0010 - 16s/epoch - 32ms/step
Epoch 374/625
481/481 - 16s - loss: 1.6095 - accuracy: 0.1976 - val_loss: 1.6094 - val_accuracy: 0.2000 - lr: 0.0010 - 16s/epoch - 33ms/step
Epoch 375/625
481/481 - 16s - loss: 1.6095 - accuracy: 0.1963 - val_loss: 1.6095 - val_accuracy: 0.2000 - lr: 0.0010 - 16s/epoch - 32ms/step
Epoch 376/625
481/481 - 16s - loss: 1.6095 - accuracy: 0.1990 - val_loss: 1.6095 - val_accuracy: 0.2000 - lr: 0.0010 - 16s/epoch - 33ms/step
Epoch 377/625
481/481 - 16s - loss: 1.6095 - accuracy: 0.2003 - val_loss: 1.6095 - val_accuracy: 0.2000 - lr: 0.0010 - 16s/epoch - 32ms/step
Epoch 378/625
481/481 - 16s - loss: 1.6095 - accuracy: 0.1984 - val_loss: 1.6094 - val_accuracy: 0.2000 - lr: 0.0010 - 16s/epoch - 33ms/step
Epoch 379/625
481/481 - 16s - loss: 1.6095 - accuracy: 0.1996 - val_loss: 1.6095 - val_accuracy: 0.2000 - lr: 0.0010 - 16s/epoch - 32ms/step
Epoch 380/625
481/481 - 16s - loss: 1.6095 - accuracy: 0.1998 - val_loss: 1.6094 - val_accuracy: 0.2000 - lr: 0.0010 - 16s/epoch - 33ms/step
Epoch 381/625
481/481 - 16s - loss: 1.6095 - accuracy: 0.1973 - val_loss: 1.6095 - val_accuracy: 0.2000 - lr: 0.0010 - 16s/epoch - 32ms/step
Epoch 382/625
481/481 - 16s - loss: 1.6095 - accuracy: 0.1992 - val_loss: 1.6094 - val_accuracy: 0.2000 - lr: 0.0010 - 16s/epoch - 32ms/step
Epoch 383/625
481/481 - 16s - loss: 1.6095 - accuracy: 0.1983 - val_loss: 1.6095 - val_accuracy: 0.2000 - lr: 0.0010 - 16s/epoch - 32ms/step
Epoch 384/625
481/481 - 16s - loss: 1.6095 - accuracy: 0.1987 - val_loss: 1.6095 - val_accuracy: 0.2000 - lr: 0.0010 - 16s/epoch - 33ms/step
Epoch 385/625
481/481 - 16s - loss: 1.6095 - accuracy: 0.1972 - val_loss: 1.6095 - val_accuracy: 0.2000 - lr: 0.0010 - 16s/epoch - 33ms/step
Epoch 386/625
481/481 - 16s - loss: 1.6095 - accuracy: 0.2004 - val_loss: 1.6094 - val_accuracy: 0.2000 - lr: 0.0010 - 16s/epoch - 33ms/step
Epoch 387/625
481/481 - 16s - loss: 1.6095 - accuracy: 0.1999 - val_loss: 1.6095 - val_accuracy: 0.2000 - lr: 0.0010 - 16s/epoch - 33ms/step
Epoch 388/625
481/481 - 16s - loss: 1.6095 - accuracy: 0.2004 - val_loss: 1.6095 - val_accuracy: 0.2000 - lr: 0.0010 - 16s/epoch - 32ms/step
Epoch 389/625
481/481 - 16s - loss: 1.6095 - accuracy: 0.1985 - val_loss: 1.6095 - val_accuracy: 0.2000 - lr: 0.0010 - 16s/epoch - 32ms/step
Epoch 390/625
481/481 - 16s - loss: 1.6095 - accuracy: 0.1967 - val_loss: 1.6094 - val_accuracy: 0.2000 - lr: 0.0010 - 16s/epoch - 33ms/step
Epoch 391/625
481/481 - 16s - loss: 1.6095 - accuracy: 0.1990 - val_loss: 1.6095 - val_accuracy: 0.2000 - lr: 0.0010 - 16s/epoch - 32ms/step
Epoch 392/625
481/481 - 16s - loss: 1.6095 - accuracy: 0.1971 - val_loss: 1.6094 - val_accuracy: 0.2000 - lr: 0.0010 - 16s/epoch - 33ms/step
Epoch 393/625
481/481 - 16s - loss: 1.6095 - accuracy: 0.1989 - val_loss: 1.6095 - val_accuracy: 0.2000 - lr: 0.0010 - 16s/epoch - 32ms/step
Epoch 394/625
481/481 - 16s - loss: 1.6095 - accuracy: 0.1997 - val_loss: 1.6095 - val_accuracy: 0.2000 - lr: 0.0010 - 16s/epoch - 33ms/step
Epoch 395/625
481/481 - 16s - loss: 1.6095 - accuracy: 0.2001 - val_loss: 1.6095 - val_accuracy: 0.2000 - lr: 0.0010 - 16s/epoch - 32ms/step
Epoch 396/625
481/481 - 16s - loss: 1.6095 - accuracy: 0.1998 - val_loss: 1.6094 - val_accuracy: 0.2000 - lr: 0.0010 - 16s/epoch - 33ms/step
Epoch 397/625
481/481 - 16s - loss: 1.6095 - accuracy: 0.1990 - val_loss: 1.6094 - val_accuracy: 0.2000 - lr: 0.0010 - 16s/epoch - 32ms/step
Epoch 398/625
481/481 - 16s - loss: 1.6095 - accuracy: 0.1995 - val_loss: 1.6095 - val_accuracy: 0.2000 - lr: 0.0010 - 16s/epoch - 32ms/step
Epoch 399/625
481/481 - 16s - loss: 1.6095 - accuracy: 0.1984 - val_loss: 1.6095 - val_accuracy: 0.2000 - lr: 0.0010 - 16s/epoch - 32ms/step
Epoch 400/625
481/481 - 16s - loss: 1.6095 - accuracy: 0.1992 - val_loss: 1.6095 - val_accuracy: 0.2000 - lr: 0.0010 - 16s/epoch - 33ms/step
Epoch 401/625
481/481 - 16s - loss: 1.6095 - accuracy: 0.2003 - val_loss: 1.6095 - val_accuracy: 0.2000 - lr: 0.0010 - 16s/epoch - 32ms/step
Epoch 402/625
481/481 - 16s - loss: 1.6095 - accuracy: 0.2010 - val_loss: 1.6095 - val_accuracy: 0.2000 - lr: 0.0010 - 16s/epoch - 33ms/step
Epoch 403/625
481/481 - 16s - loss: 1.6095 - accuracy: 0.1994 - val_loss: 1.6095 - val_accuracy: 0.2000 - lr: 0.0010 - 16s/epoch - 32ms/step
Epoch 404/625
481/481 - 16s - loss: 1.6095 - accuracy: 0.1988 - val_loss: 1.6095 - val_accuracy: 0.2000 - lr: 0.0010 - 16s/epoch - 33ms/step
Epoch 405/625
481/481 - 16s - loss: 1.6095 - accuracy: 0.1997 - val_loss: 1.6094 - val_accuracy: 0.2000 - lr: 0.0010 - 16s/epoch - 32ms/step
Epoch 406/625
481/481 - 16s - loss: 1.6095 - accuracy: 0.2000 - val_loss: 1.6095 - val_accuracy: 0.2000 - lr: 0.0010 - 16s/epoch - 33ms/step
Epoch 407/625
481/481 - 16s - loss: 1.6095 - accuracy: 0.2000 - val_loss: 1.6094 - val_accuracy: 0.2000 - lr: 0.0010 - 16s/epoch - 32ms/step
Epoch 408/625
481/481 - 16s - loss: 1.6095 - accuracy: 0.1971 - val_loss: 1.6095 - val_accuracy: 0.2000 - lr: 0.0010 - 16s/epoch - 32ms/step
Epoch 409/625
481/481 - 16s - loss: 1.6095 - accuracy: 0.1991 - val_loss: 1.6094 - val_accuracy: 0.2000 - lr: 0.0010 - 16s/epoch - 32ms/step
Epoch 410/625
481/481 - 16s - loss: 1.6095 - accuracy: 0.1993 - val_loss: 1.6095 - val_accuracy: 0.2000 - lr: 0.0010 - 16s/epoch - 33ms/step
Epoch 411/625
481/481 - 16s - loss: 1.6095 - accuracy: 0.1981 - val_loss: 1.6095 - val_accuracy: 0.2000 - lr: 0.0010 - 16s/epoch - 33ms/step
Epoch 412/625
481/481 - 16s - loss: 1.6095 - accuracy: 0.1994 - val_loss: 1.6094 - val_accuracy: 0.2000 - lr: 0.0010 - 16s/epoch - 32ms/step
Epoch 413/625
481/481 - 16s - loss: 1.6095 - accuracy: 0.1992 - val_loss: 1.6095 - val_accuracy: 0.2000 - lr: 0.0010 - 16s/epoch - 32ms/step
Epoch 414/625
481/481 - 16s - loss: 1.6095 - accuracy: 0.1980 - val_loss: 1.6095 - val_accuracy: 0.2000 - lr: 0.0010 - 16s/epoch - 33ms/step
Epoch 415/625
481/481 - 16s - loss: 1.6095 - accuracy: 0.1963 - val_loss: 1.6094 - val_accuracy: 0.2000 - lr: 0.0010 - 16s/epoch - 32ms/step
Epoch 416/625
481/481 - 16s - loss: 1.6095 - accuracy: 0.1989 - val_loss: 1.6095 - val_accuracy: 0.2000 - lr: 0.0010 - 16s/epoch - 32ms/step
Epoch 417/625
481/481 - 16s - loss: 1.6095 - accuracy: 0.1997 - val_loss: 1.6095 - val_accuracy: 0.2000 - lr: 0.0010 - 16s/epoch - 32ms/step
Epoch 418/625
481/481 - 16s - loss: 1.6095 - accuracy: 0.1982 - val_loss: 1.6094 - val_accuracy: 0.2000 - lr: 0.0010 - 16s/epoch - 33ms/step
Epoch 419/625
481/481 - 16s - loss: 1.6095 - accuracy: 0.1994 - val_loss: 1.6095 - val_accuracy: 0.2000 - lr: 0.0010 - 16s/epoch - 32ms/step
Epoch 420/625
481/481 - 16s - loss: 1.6095 - accuracy: 0.1999 - val_loss: 1.6094 - val_accuracy: 0.2000 - lr: 0.0010 - 16s/epoch - 32ms/step
Epoch 421/625
481/481 - 16s - loss: 1.6095 - accuracy: 0.2009 - val_loss: 1.6095 - val_accuracy: 0.2000 - lr: 0.0010 - 16s/epoch - 32ms/step
Epoch 422/625
481/481 - 16s - loss: 1.6095 - accuracy: 0.1975 - val_loss: 1.6094 - val_accuracy: 0.2000 - lr: 0.0010 - 16s/epoch - 33ms/step
Epoch 423/625
481/481 - 16s - loss: 1.6095 - accuracy: 0.1987 - val_loss: 1.6095 - val_accuracy: 0.2000 - lr: 0.0010 - 16s/epoch - 32ms/step
Epoch 424/625
481/481 - 16s - loss: 1.6095 - accuracy: 0.1997 - val_loss: 1.6095 - val_accuracy: 0.2000 - lr: 0.0010 - 16s/epoch - 33ms/step
Epoch 425/625
481/481 - 16s - loss: 1.6095 - accuracy: 0.1980 - val_loss: 1.6095 - val_accuracy: 0.2000 - lr: 0.0010 - 16s/epoch - 32ms/step
Epoch 426/625
481/481 - 16s - loss: 1.6095 - accuracy: 0.1993 - val_loss: 1.6095 - val_accuracy: 0.2000 - lr: 0.0010 - 16s/epoch - 33ms/step
Epoch 427/625
481/481 - 16s - loss: 1.6095 - accuracy: 0.1982 - val_loss: 1.6095 - val_accuracy: 0.2000 - lr: 0.0010 - 16s/epoch - 32ms/step
Epoch 428/625
481/481 - 16s - loss: 1.6095 - accuracy: 0.1980 - val_loss: 1.6094 - val_accuracy: 0.2000 - lr: 0.0010 - 16s/epoch - 33ms/step
Epoch 429/625
481/481 - 16s - loss: 1.6095 - accuracy: 0.1962 - val_loss: 1.6094 - val_accuracy: 0.2000 - lr: 0.0010 - 16s/epoch - 33ms/step
Epoch 430/625
481/481 - 16s - loss: 1.6095 - accuracy: 0.1984 - val_loss: 1.6094 - val_accuracy: 0.2000 - lr: 0.0010 - 16s/epoch - 33ms/step
Epoch 431/625
481/481 - 16s - loss: 1.6095 - accuracy: 0.1996 - val_loss: 1.6095 - val_accuracy: 0.2000 - lr: 0.0010 - 16s/epoch - 33ms/step
Epoch 432/625
481/481 - 16s - loss: 1.6095 - accuracy: 0.2007 - val_loss: 1.6095 - val_accuracy: 0.2000 - lr: 0.0010 - 16s/epoch - 32ms/step
Epoch 433/625
481/481 - 16s - loss: 1.6095 - accuracy: 0.1983 - val_loss: 1.6094 - val_accuracy: 0.2000 - lr: 0.0010 - 16s/epoch - 33ms/step
Epoch 434/625
481/481 - 16s - loss: 1.6095 - accuracy: 0.1980 - val_loss: 1.6094 - val_accuracy: 0.2000 - lr: 0.0010 - 16s/epoch - 33ms/step
Epoch 435/625
481/481 - 16s - loss: 1.6095 - accuracy: 0.1985 - val_loss: 1.6095 - val_accuracy: 0.2000 - lr: 0.0010 - 16s/epoch - 32ms/step
Epoch 436/625
481/481 - 16s - loss: 1.6095 - accuracy: 0.1984 - val_loss: 1.6094 - val_accuracy: 0.2000 - lr: 0.0010 - 16s/epoch - 33ms/step
Epoch 437/625
481/481 - 16s - loss: 1.6095 - accuracy: 0.1995 - val_loss: 1.6094 - val_accuracy: 0.2000 - lr: 0.0010 - 16s/epoch - 32ms/step
Epoch 438/625
481/481 - 16s - loss: 1.6095 - accuracy: 0.1986 - val_loss: 1.6095 - val_accuracy: 0.2000 - lr: 0.0010 - 16s/epoch - 33ms/step
Epoch 439/625
481/481 - 16s - loss: 1.6095 - accuracy: 0.2008 - val_loss: 1.6095 - val_accuracy: 0.2000 - lr: 0.0010 - 16s/epoch - 32ms/step
Epoch 440/625
481/481 - 16s - loss: 1.6095 - accuracy: 0.1983 - val_loss: 1.6094 - val_accuracy: 0.2000 - lr: 0.0010 - 16s/epoch - 32ms/step
Epoch 441/625
481/481 - 16s - loss: 1.6095 - accuracy: 0.1979 - val_loss: 1.6095 - val_accuracy: 0.2000 - lr: 0.0010 - 16s/epoch - 32ms/step
Epoch 442/625
481/481 - 16s - loss: 1.6095 - accuracy: 0.1998 - val_loss: 1.6095 - val_accuracy: 0.2000 - lr: 0.0010 - 16s/epoch - 33ms/step
Epoch 443/625
481/481 - 16s - loss: 1.6095 - accuracy: 0.1995 - val_loss: 1.6094 - val_accuracy: 0.2000 - lr: 0.0010 - 16s/epoch - 33ms/step
Epoch 444/625
481/481 - 16s - loss: 1.6095 - accuracy: 0.1972 - val_loss: 1.6094 - val_accuracy: 0.2000 - lr: 0.0010 - 16s/epoch - 33ms/step
Epoch 445/625
481/481 - 16s - loss: 1.6095 - accuracy: 0.1982 - val_loss: 1.6095 - val_accuracy: 0.2000 - lr: 0.0010 - 16s/epoch - 32ms/step
Epoch 446/625
481/481 - 16s - loss: 1.6095 - accuracy: 0.1977 - val_loss: 1.6095 - val_accuracy: 0.2000 - lr: 0.0010 - 16s/epoch - 32ms/step
Epoch 447/625
481/481 - 16s - loss: 1.6095 - accuracy: 0.2006 - val_loss: 1.6095 - val_accuracy: 0.2000 - lr: 0.0010 - 16s/epoch - 33ms/step
Epoch 448/625
481/481 - 16s - loss: 1.6095 - accuracy: 0.1982 - val_loss: 1.6095 - val_accuracy: 0.2000 - lr: 0.0010 - 16s/epoch - 32ms/step
Epoch 449/625
481/481 - 16s - loss: 1.6095 - accuracy: 0.1993 - val_loss: 1.6094 - val_accuracy: 0.2000 - lr: 0.0010 - 16s/epoch - 33ms/step
Epoch 450/625
481/481 - 16s - loss: 1.6095 - accuracy: 0.1974 - val_loss: 1.6094 - val_accuracy: 0.2000 - lr: 0.0010 - 16s/epoch - 33ms/step
Epoch 451/625
481/481 - 16s - loss: 1.6095 - accuracy: 0.1993 - val_loss: 1.6095 - val_accuracy: 0.2000 - lr: 0.0010 - 16s/epoch - 33ms/step
Epoch 452/625
481/481 - 16s - loss: 1.6095 - accuracy: 0.1994 - val_loss: 1.6095 - val_accuracy: 0.2000 - lr: 0.0010 - 16s/epoch - 32ms/step
Epoch 453/625
481/481 - 16s - loss: 1.6095 - accuracy: 0.1991 - val_loss: 1.6095 - val_accuracy: 0.2000 - lr: 0.0010 - 16s/epoch - 33ms/step
Epoch 454/625
481/481 - 16s - loss: 1.6095 - accuracy: 0.1986 - val_loss: 1.6095 - val_accuracy: 0.2000 - lr: 0.0010 - 16s/epoch - 32ms/step
Epoch 455/625
481/481 - 16s - loss: 1.6095 - accuracy: 0.1980 - val_loss: 1.6094 - val_accuracy: 0.2000 - lr: 0.0010 - 16s/epoch - 32ms/step
Epoch 456/625
481/481 - 16s - loss: 1.6095 - accuracy: 0.1986 - val_loss: 1.6095 - val_accuracy: 0.2000 - lr: 0.0010 - 16s/epoch - 32ms/step
Epoch 457/625
481/481 - 16s - loss: 1.6095 - accuracy: 0.1994 - val_loss: 1.6094 - val_accuracy: 0.2000 - lr: 0.0010 - 16s/epoch - 32ms/step
Epoch 458/625
481/481 - 16s - loss: 1.6095 - accuracy: 0.1972 - val_loss: 1.6095 - val_accuracy: 0.2000 - lr: 0.0010 - 16s/epoch - 33ms/step
Epoch 459/625
481/481 - 16s - loss: 1.6095 - accuracy: 0.1979 - val_loss: 1.6094 - val_accuracy: 0.2000 - lr: 0.0010 - 16s/epoch - 32ms/step
Epoch 460/625
481/481 - 16s - loss: 1.6095 - accuracy: 0.1974 - val_loss: 1.6094 - val_accuracy: 0.2000 - lr: 0.0010 - 16s/epoch - 33ms/step
Epoch 461/625
481/481 - 16s - loss: 1.6095 - accuracy: 0.2002 - val_loss: 1.6094 - val_accuracy: 0.2000 - lr: 0.0010 - 16s/epoch - 32ms/step
Epoch 462/625
481/481 - 16s - loss: 1.6095 - accuracy: 0.1984 - val_loss: 1.6094 - val_accuracy: 0.2000 - lr: 0.0010 - 16s/epoch - 33ms/step
Epoch 463/625
481/481 - 16s - loss: 1.6095 - accuracy: 0.1983 - val_loss: 1.6094 - val_accuracy: 0.2000 - lr: 0.0010 - 16s/epoch - 33ms/step
Epoch 464/625
481/481 - 16s - loss: 1.6095 - accuracy: 0.2011 - val_loss: 1.6095 - val_accuracy: 0.2000 - lr: 0.0010 - 16s/epoch - 33ms/step
Epoch 465/625
481/481 - 16s - loss: 1.6095 - accuracy: 0.1990 - val_loss: 1.6095 - val_accuracy: 0.2000 - lr: 0.0010 - 16s/epoch - 33ms/step
Epoch 466/625
481/481 - 16s - loss: 1.6095 - accuracy: 0.1972 - val_loss: 1.6095 - val_accuracy: 0.2000 - lr: 0.0010 - 16s/epoch - 33ms/step
Epoch 467/625
481/481 - 16s - loss: 1.6095 - accuracy: 0.1996 - val_loss: 1.6095 - val_accuracy: 0.2000 - lr: 0.0010 - 16s/epoch - 32ms/step
Epoch 468/625
481/481 - 16s - loss: 1.6095 - accuracy: 0.1994 - val_loss: 1.6095 - val_accuracy: 0.2000 - lr: 0.0010 - 16s/epoch - 33ms/step
Epoch 469/625
481/481 - 16s - loss: 1.6095 - accuracy: 0.1983 - val_loss: 1.6094 - val_accuracy: 0.2000 - lr: 0.0010 - 16s/epoch - 33ms/step
Epoch 470/625
481/481 - 16s - loss: 1.6095 - accuracy: 0.1996 - val_loss: 1.6095 - val_accuracy: 0.2000 - lr: 0.0010 - 16s/epoch - 33ms/step
Epoch 471/625
481/481 - 16s - loss: 1.6095 - accuracy: 0.2001 - val_loss: 1.6094 - val_accuracy: 0.2000 - lr: 0.0010 - 16s/epoch - 33ms/step
Epoch 472/625
481/481 - 16s - loss: 1.6095 - accuracy: 0.1999 - val_loss: 1.6095 - val_accuracy: 0.2000 - lr: 0.0010 - 16s/epoch - 33ms/step
Epoch 473/625
481/481 - 16s - loss: 1.6095 - accuracy: 0.1987 - val_loss: 1.6095 - val_accuracy: 0.2000 - lr: 0.0010 - 16s/epoch - 33ms/step
Epoch 474/625
481/481 - 16s - loss: 1.6095 - accuracy: 0.1980 - val_loss: 1.6094 - val_accuracy: 0.2000 - lr: 0.0010 - 16s/epoch - 32ms/step
Epoch 475/625
481/481 - 16s - loss: 1.6095 - accuracy: 0.1980 - val_loss: 1.6095 - val_accuracy: 0.2000 - lr: 0.0010 - 16s/epoch - 33ms/step
Epoch 476/625
481/481 - 16s - loss: 1.6095 - accuracy: 0.1985 - val_loss: 1.6095 - val_accuracy: 0.2000 - lr: 0.0010 - 16s/epoch - 32ms/step
Epoch 477/625
481/481 - 16s - loss: 1.6095 - accuracy: 0.1985 - val_loss: 1.6095 - val_accuracy: 0.2000 - lr: 0.0010 - 16s/epoch - 32ms/step
Epoch 478/625
481/481 - 16s - loss: 1.6095 - accuracy: 0.1987 - val_loss: 1.6094 - val_accuracy: 0.2000 - lr: 0.0010 - 16s/epoch - 32ms/step
Epoch 479/625
481/481 - 16s - loss: 1.6095 - accuracy: 0.1966 - val_loss: 1.6094 - val_accuracy: 0.2000 - lr: 0.0010 - 16s/epoch - 32ms/step
Epoch 480/625
481/481 - 16s - loss: 1.6095 - accuracy: 0.1999 - val_loss: 1.6094 - val_accuracy: 0.2000 - lr: 0.0010 - 16s/epoch - 32ms/step
Epoch 481/625
481/481 - 16s - loss: 1.6095 - accuracy: 0.1991 - val_loss: 1.6095 - val_accuracy: 0.2000 - lr: 0.0010 - 16s/epoch - 32ms/step
Epoch 482/625
481/481 - 16s - loss: 1.6095 - accuracy: 0.2001 - val_loss: 1.6094 - val_accuracy: 0.2000 - lr: 0.0010 - 16s/epoch - 32ms/step
Epoch 483/625
481/481 - 16s - loss: 1.6095 - accuracy: 0.1988 - val_loss: 1.6095 - val_accuracy: 0.2000 - lr: 0.0010 - 16s/epoch - 33ms/step
Epoch 484/625
481/481 - 16s - loss: 1.6095 - accuracy: 0.1989 - val_loss: 1.6094 - val_accuracy: 0.2000 - lr: 0.0010 - 16s/epoch - 32ms/step
Epoch 485/625
481/481 - 16s - loss: 1.6095 - accuracy: 0.1981 - val_loss: 1.6095 - val_accuracy: 0.2000 - lr: 0.0010 - 16s/epoch - 33ms/step
Epoch 486/625
481/481 - 16s - loss: 1.6095 - accuracy: 0.1987 - val_loss: 1.6094 - val_accuracy: 0.2000 - lr: 0.0010 - 16s/epoch - 33ms/step
Epoch 487/625
481/481 - 16s - loss: 1.6095 - accuracy: 0.1991 - val_loss: 1.6094 - val_accuracy: 0.2000 - lr: 0.0010 - 16s/epoch - 33ms/step
Epoch 488/625
481/481 - 16s - loss: 1.6095 - accuracy: 0.1993 - val_loss: 1.6095 - val_accuracy: 0.2000 - lr: 0.0010 - 16s/epoch - 32ms/step
Epoch 489/625
481/481 - 16s - loss: 1.6095 - accuracy: 0.2004 - val_loss: 1.6094 - val_accuracy: 0.2000 - lr: 0.0010 - 16s/epoch - 33ms/step
Epoch 490/625
481/481 - 16s - loss: 1.6095 - accuracy: 0.1992 - val_loss: 1.6095 - val_accuracy: 0.2000 - lr: 0.0010 - 16s/epoch - 32ms/step
Epoch 491/625
481/481 - 16s - loss: 1.6095 - accuracy: 0.1979 - val_loss: 1.6094 - val_accuracy: 0.2000 - lr: 0.0010 - 16s/epoch - 33ms/step
Epoch 492/625
481/481 - 16s - loss: 1.6095 - accuracy: 0.1993 - val_loss: 1.6094 - val_accuracy: 0.2000 - lr: 0.0010 - 16s/epoch - 33ms/step
Epoch 493/625
481/481 - 16s - loss: 1.6095 - accuracy: 0.1998 - val_loss: 1.6095 - val_accuracy: 0.2000 - lr: 0.0010 - 16s/epoch - 32ms/step
Epoch 494/625
481/481 - 16s - loss: 1.6095 - accuracy: 0.1995 - val_loss: 1.6094 - val_accuracy: 0.2000 - lr: 0.0010 - 16s/epoch - 33ms/step
Epoch 495/625
481/481 - 16s - loss: 1.6095 - accuracy: 0.1999 - val_loss: 1.6094 - val_accuracy: 0.2000 - lr: 0.0010 - 16s/epoch - 32ms/step
Epoch 496/625
481/481 - 16s - loss: 1.6095 - accuracy: 0.1998 - val_loss: 1.6095 - val_accuracy: 0.2000 - lr: 0.0010 - 16s/epoch - 32ms/step
Epoch 497/625
481/481 - 16s - loss: 1.6095 - accuracy: 0.1983 - val_loss: 1.6094 - val_accuracy: 0.2000 - lr: 0.0010 - 16s/epoch - 33ms/step
Epoch 498/625
481/481 - 16s - loss: 1.6095 - accuracy: 0.1987 - val_loss: 1.6094 - val_accuracy: 0.2000 - lr: 0.0010 - 16s/epoch - 32ms/step
Epoch 499/625
481/481 - 16s - loss: 1.6095 - accuracy: 0.1977 - val_loss: 1.6094 - val_accuracy: 0.2000 - lr: 0.0010 - 16s/epoch - 32ms/step
Epoch 500/625
481/481 - 16s - loss: 1.6095 - accuracy: 0.1982 - val_loss: 1.6095 - val_accuracy: 0.2000 - lr: 0.0010 - 16s/epoch - 33ms/step
Epoch 501/625
481/481 - 16s - loss: 1.6095 - accuracy: 0.2007 - val_loss: 1.6095 - val_accuracy: 0.2000 - lr: 0.0010 - 16s/epoch - 32ms/step
Epoch 502/625
481/481 - 16s - loss: 1.6095 - accuracy: 0.1976 - val_loss: 1.6094 - val_accuracy: 0.2000 - lr: 0.0010 - 16s/epoch - 33ms/step
Epoch 503/625
481/481 - 16s - loss: 1.6095 - accuracy: 0.1993 - val_loss: 1.6095 - val_accuracy: 0.2000 - lr: 0.0010 - 16s/epoch - 32ms/step
Epoch 504/625
481/481 - 16s - loss: 1.6095 - accuracy: 0.2014 - val_loss: 1.6095 - val_accuracy: 0.2000 - lr: 0.0010 - 16s/epoch - 33ms/step
Epoch 505/625
481/481 - 16s - loss: 1.6095 - accuracy: 0.1982 - val_loss: 1.6095 - val_accuracy: 0.2000 - lr: 0.0010 - 16s/epoch - 33ms/step
Epoch 506/625
481/481 - 16s - loss: 1.6095 - accuracy: 0.1985 - val_loss: 1.6095 - val_accuracy: 0.2000 - lr: 0.0010 - 16s/epoch - 33ms/step
Epoch 507/625
481/481 - 16s - loss: 1.6095 - accuracy: 0.2002 - val_loss: 1.6094 - val_accuracy: 0.2000 - lr: 0.0010 - 16s/epoch - 33ms/step
Epoch 508/625
481/481 - 16s - loss: 1.6095 - accuracy: 0.2004 - val_loss: 1.6095 - val_accuracy: 0.2000 - lr: 0.0010 - 16s/epoch - 33ms/step
Epoch 509/625
481/481 - 16s - loss: 1.6095 - accuracy: 0.2012 - val_loss: 1.6095 - val_accuracy: 0.2000 - lr: 0.0010 - 16s/epoch - 33ms/step
Epoch 510/625
481/481 - 16s - loss: 1.6095 - accuracy: 0.1996 - val_loss: 1.6094 - val_accuracy: 0.2000 - lr: 0.0010 - 16s/epoch - 32ms/step
Epoch 511/625
481/481 - 16s - loss: 1.6095 - accuracy: 0.1990 - val_loss: 1.6095 - val_accuracy: 0.2000 - lr: 0.0010 - 16s/epoch - 33ms/step
Epoch 512/625
481/481 - 16s - loss: 1.6095 - accuracy: 0.1986 - val_loss: 1.6095 - val_accuracy: 0.2000 - lr: 0.0010 - 16s/epoch - 32ms/step
Epoch 513/625
481/481 - 16s - loss: 1.6095 - accuracy: 0.1985 - val_loss: 1.6094 - val_accuracy: 0.2000 - lr: 0.0010 - 16s/epoch - 33ms/step
Epoch 514/625
481/481 - 16s - loss: 1.6095 - accuracy: 0.1978 - val_loss: 1.6095 - val_accuracy: 0.2000 - lr: 0.0010 - 16s/epoch - 32ms/step
Epoch 515/625
481/481 - 16s - loss: 1.6095 - accuracy: 0.1992 - val_loss: 1.6095 - val_accuracy: 0.2000 - lr: 0.0010 - 16s/epoch - 33ms/step
Epoch 516/625
481/481 - 16s - loss: 1.6095 - accuracy: 0.1982 - val_loss: 1.6094 - val_accuracy: 0.2000 - lr: 0.0010 - 16s/epoch - 32ms/step
Epoch 517/625
481/481 - 16s - loss: 1.6095 - accuracy: 0.2007 - val_loss: 1.6095 - val_accuracy: 0.2000 - lr: 0.0010 - 16s/epoch - 33ms/step
Epoch 518/625
481/481 - 16s - loss: 1.6095 - accuracy: 0.2010 - val_loss: 1.6095 - val_accuracy: 0.2000 - lr: 0.0010 - 16s/epoch - 32ms/step
Epoch 519/625
481/481 - 16s - loss: 1.6095 - accuracy: 0.1985 - val_loss: 1.6094 - val_accuracy: 0.2000 - lr: 0.0010 - 16s/epoch - 33ms/step
Epoch 520/625
481/481 - 16s - loss: 1.6095 - accuracy: 0.1986 - val_loss: 1.6095 - val_accuracy: 0.2000 - lr: 0.0010 - 16s/epoch - 32ms/step
Epoch 521/625
481/481 - 16s - loss: 1.6095 - accuracy: 0.2002 - val_loss: 1.6095 - val_accuracy: 0.2000 - lr: 0.0010 - 16s/epoch - 33ms/step
Epoch 522/625
481/481 - 16s - loss: 1.6095 - accuracy: 0.1994 - val_loss: 1.6094 - val_accuracy: 0.2000 - lr: 0.0010 - 16s/epoch - 33ms/step
Epoch 523/625
481/481 - 16s - loss: 1.6095 - accuracy: 0.1983 - val_loss: 1.6095 - val_accuracy: 0.2000 - lr: 0.0010 - 16s/epoch - 32ms/step
Epoch 524/625
481/481 - 16s - loss: 1.6095 - accuracy: 0.1993 - val_loss: 1.6095 - val_accuracy: 0.2000 - lr: 0.0010 - 16s/epoch - 32ms/step
Epoch 525/625
481/481 - 16s - loss: 1.6095 - accuracy: 0.1998 - val_loss: 1.6095 - val_accuracy: 0.2000 - lr: 0.0010 - 16s/epoch - 33ms/step
Epoch 526/625
481/481 - 16s - loss: 1.6095 - accuracy: 0.1982 - val_loss: 1.6094 - val_accuracy: 0.2000 - lr: 0.0010 - 16s/epoch - 32ms/step
Epoch 527/625
481/481 - 16s - loss: 1.6095 - accuracy: 0.1983 - val_loss: 1.6094 - val_accuracy: 0.2000 - lr: 0.0010 - 16s/epoch - 33ms/step
Epoch 528/625
481/481 - 16s - loss: 1.6095 - accuracy: 0.1985 - val_loss: 1.6094 - val_accuracy: 0.2000 - lr: 0.0010 - 16s/epoch - 32ms/step
Epoch 529/625
481/481 - 16s - loss: 1.6095 - accuracy: 0.1980 - val_loss: 1.6094 - val_accuracy: 0.2000 - lr: 0.0010 - 16s/epoch - 33ms/step
Epoch 530/625
481/481 - 16s - loss: 1.6095 - accuracy: 0.1989 - val_loss: 1.6094 - val_accuracy: 0.2000 - lr: 0.0010 - 16s/epoch - 32ms/step
Epoch 531/625
481/481 - 16s - loss: 1.6095 - accuracy: 0.1983 - val_loss: 1.6095 - val_accuracy: 0.2000 - lr: 0.0010 - 16s/epoch - 33ms/step
Epoch 532/625
481/481 - 16s - loss: 1.6095 - accuracy: 0.1992 - val_loss: 1.6094 - val_accuracy: 0.2000 - lr: 0.0010 - 16s/epoch - 33ms/step
Epoch 533/625
481/481 - 16s - loss: 1.6095 - accuracy: 0.1979 - val_loss: 1.6095 - val_accuracy: 0.2000 - lr: 0.0010 - 16s/epoch - 33ms/step
Epoch 534/625
481/481 - 16s - loss: 1.6095 - accuracy: 0.1994 - val_loss: 1.6095 - val_accuracy: 0.2000 - lr: 0.0010 - 16s/epoch - 32ms/step
Epoch 535/625
481/481 - 16s - loss: 1.6095 - accuracy: 0.2022 - val_loss: 1.6094 - val_accuracy: 0.2000 - lr: 0.0010 - 16s/epoch - 33ms/step
Epoch 536/625
481/481 - 16s - loss: 1.6095 - accuracy: 0.1979 - val_loss: 1.6095 - val_accuracy: 0.2000 - lr: 0.0010 - 16s/epoch - 32ms/step
Epoch 537/625
481/481 - 16s - loss: 1.6095 - accuracy: 0.2002 - val_loss: 1.6095 - val_accuracy: 0.2000 - lr: 0.0010 - 16s/epoch - 33ms/step
Epoch 538/625
481/481 - 16s - loss: 1.6095 - accuracy: 0.1976 - val_loss: 1.6094 - val_accuracy: 0.2000 - lr: 0.0010 - 16s/epoch - 32ms/step
Epoch 539/625
481/481 - 16s - loss: 1.6095 - accuracy: 0.1983 - val_loss: 1.6094 - val_accuracy: 0.2000 - lr: 0.0010 - 16s/epoch - 33ms/step
Epoch 540/625
481/481 - 16s - loss: 1.6095 - accuracy: 0.1956 - val_loss: 1.6095 - val_accuracy: 0.2000 - lr: 0.0010 - 16s/epoch - 32ms/step
Epoch 541/625
481/481 - 16s - loss: 1.6095 - accuracy: 0.2009 - val_loss: 1.6095 - val_accuracy: 0.2000 - lr: 0.0010 - 16s/epoch - 33ms/step
Epoch 542/625
481/481 - 16s - loss: 1.6095 - accuracy: 0.1976 - val_loss: 1.6095 - val_accuracy: 0.2000 - lr: 0.0010 - 16s/epoch - 32ms/step
Epoch 543/625
481/481 - 16s - loss: 1.6095 - accuracy: 0.1994 - val_loss: 1.6094 - val_accuracy: 0.2000 - lr: 0.0010 - 16s/epoch - 33ms/step
Epoch 544/625
481/481 - 16s - loss: 1.6095 - accuracy: 0.1994 - val_loss: 1.6095 - val_accuracy: 0.2000 - lr: 0.0010 - 16s/epoch - 33ms/step
Epoch 545/625
481/481 - 16s - loss: 1.6095 - accuracy: 0.1990 - val_loss: 1.6095 - val_accuracy: 0.2000 - lr: 0.0010 - 16s/epoch - 33ms/step
Epoch 546/625
481/481 - 15s - loss: 1.6095 - accuracy: 0.1987 - val_loss: 1.6095 - val_accuracy: 0.2000 - lr: 0.0010 - 15s/epoch - 32ms/step
Epoch 547/625
481/481 - 16s - loss: 1.6095 - accuracy: 0.1987 - val_loss: 1.6094 - val_accuracy: 0.2000 - lr: 0.0010 - 16s/epoch - 33ms/step
Epoch 548/625
481/481 - 16s - loss: 1.6095 - accuracy: 0.1993 - val_loss: 1.6095 - val_accuracy: 0.2000 - lr: 0.0010 - 16s/epoch - 32ms/step
Epoch 549/625
481/481 - 16s - loss: 1.6095 - accuracy: 0.1963 - val_loss: 1.6094 - val_accuracy: 0.2000 - lr: 0.0010 - 16s/epoch - 33ms/step
Epoch 550/625
481/481 - 16s - loss: 1.6095 - accuracy: 0.1978 - val_loss: 1.6094 - val_accuracy: 0.2000 - lr: 0.0010 - 16s/epoch - 32ms/step
Epoch 551/625
481/481 - 16s - loss: 1.6095 - accuracy: 0.1980 - val_loss: 1.6094 - val_accuracy: 0.2000 - lr: 0.0010 - 16s/epoch - 33ms/step
Epoch 552/625
481/481 - 16s - loss: 1.6095 - accuracy: 0.1980 - val_loss: 1.6094 - val_accuracy: 0.2000 - lr: 0.0010 - 16s/epoch - 32ms/step
Epoch 553/625
481/481 - 16s - loss: 1.6095 - accuracy: 0.2005 - val_loss: 1.6095 - val_accuracy: 0.2000 - lr: 0.0010 - 16s/epoch - 33ms/step
Epoch 554/625
481/481 - 16s - loss: 1.6095 - accuracy: 0.1990 - val_loss: 1.6095 - val_accuracy: 0.2000 - lr: 0.0010 - 16s/epoch - 32ms/step
Epoch 555/625
481/481 - 16s - loss: 1.6095 - accuracy: 0.1986 - val_loss: 1.6095 - val_accuracy: 0.2000 - lr: 0.0010 - 16s/epoch - 32ms/step
Epoch 556/625
481/481 - 16s - loss: 1.6095 - accuracy: 0.1982 - val_loss: 1.6095 - val_accuracy: 0.2000 - lr: 0.0010 - 16s/epoch - 33ms/step
Epoch 557/625
481/481 - 16s - loss: 1.6095 - accuracy: 0.1974 - val_loss: 1.6094 - val_accuracy: 0.2000 - lr: 0.0010 - 16s/epoch - 32ms/step
Epoch 558/625
481/481 - 16s - loss: 1.6095 - accuracy: 0.1987 - val_loss: 1.6095 - val_accuracy: 0.2000 - lr: 0.0010 - 16s/epoch - 33ms/step
Epoch 559/625
481/481 - 16s - loss: 1.6095 - accuracy: 0.1999 - val_loss: 1.6095 - val_accuracy: 0.2000 - lr: 0.0010 - 16s/epoch - 32ms/step
Epoch 560/625
481/481 - 16s - loss: 1.6095 - accuracy: 0.1992 - val_loss: 1.6095 - val_accuracy: 0.2000 - lr: 0.0010 - 16s/epoch - 32ms/step
Epoch 561/625
481/481 - 16s - loss: 1.6095 - accuracy: 0.1986 - val_loss: 1.6095 - val_accuracy: 0.2000 - lr: 0.0010 - 16s/epoch - 32ms/step
Epoch 562/625
481/481 - 16s - loss: 1.6095 - accuracy: 0.1985 - val_loss: 1.6094 - val_accuracy: 0.2000 - lr: 0.0010 - 16s/epoch - 33ms/step
Epoch 563/625
481/481 - 16s - loss: 1.6095 - accuracy: 0.1995 - val_loss: 1.6094 - val_accuracy: 0.2000 - lr: 0.0010 - 16s/epoch - 32ms/step
Epoch 564/625
481/481 - 16s - loss: 1.6095 - accuracy: 0.1990 - val_loss: 1.6095 - val_accuracy: 0.2000 - lr: 0.0010 - 16s/epoch - 33ms/step
Epoch 565/625
481/481 - 16s - loss: 1.6095 - accuracy: 0.2013 - val_loss: 1.6095 - val_accuracy: 0.2000 - lr: 0.0010 - 16s/epoch - 32ms/step
Epoch 566/625
481/481 - 16s - loss: 1.6095 - accuracy: 0.1998 - val_loss: 1.6095 - val_accuracy: 0.2000 - lr: 0.0010 - 16s/epoch - 33ms/step
Epoch 567/625
481/481 - 16s - loss: 1.6095 - accuracy: 0.2005 - val_loss: 1.6095 - val_accuracy: 0.2000 - lr: 0.0010 - 16s/epoch - 32ms/step
Epoch 568/625
481/481 - 16s - loss: 1.6095 - accuracy: 0.1995 - val_loss: 1.6095 - val_accuracy: 0.2000 - lr: 0.0010 - 16s/epoch - 33ms/step
Epoch 569/625
481/481 - 16s - loss: 1.6095 - accuracy: 0.1992 - val_loss: 1.6094 - val_accuracy: 0.2000 - lr: 0.0010 - 16s/epoch - 33ms/step
Epoch 570/625
481/481 - 16s - loss: 1.6095 - accuracy: 0.2001 - val_loss: 1.6095 - val_accuracy: 0.2000 - lr: 0.0010 - 16s/epoch - 33ms/step
Epoch 571/625
481/481 - 16s - loss: 1.6095 - accuracy: 0.1979 - val_loss: 1.6094 - val_accuracy: 0.2000 - lr: 0.0010 - 16s/epoch - 33ms/step
Epoch 572/625
481/481 - 16s - loss: 1.6095 - accuracy: 0.1988 - val_loss: 1.6094 - val_accuracy: 0.2000 - lr: 0.0010 - 16s/epoch - 32ms/step
Epoch 573/625
481/481 - 16s - loss: 1.6095 - accuracy: 0.2007 - val_loss: 1.6094 - val_accuracy: 0.2000 - lr: 0.0010 - 16s/epoch - 33ms/step
Epoch 574/625
481/481 - 15s - loss: 1.6095 - accuracy: 0.1968 - val_loss: 1.6094 - val_accuracy: 0.2000 - lr: 0.0010 - 15s/epoch - 32ms/step
Epoch 575/625
481/481 - 16s - loss: 1.6095 - accuracy: 0.1980 - val_loss: 1.6095 - val_accuracy: 0.2000 - lr: 0.0010 - 16s/epoch - 33ms/step
Epoch 576/625
481/481 - 16s - loss: 1.6095 - accuracy: 0.2005 - val_loss: 1.6095 - val_accuracy: 0.2000 - lr: 0.0010 - 16s/epoch - 33ms/step
Epoch 577/625
481/481 - 16s - loss: 1.6095 - accuracy: 0.2014 - val_loss: 1.6095 - val_accuracy: 0.2000 - lr: 0.0010 - 16s/epoch - 33ms/step
Epoch 578/625
481/481 - 16s - loss: 1.6095 - accuracy: 0.2003 - val_loss: 1.6095 - val_accuracy: 0.2000 - lr: 0.0010 - 16s/epoch - 32ms/step
Epoch 579/625
481/481 - 16s - loss: 1.6095 - accuracy: 0.1993 - val_loss: 1.6095 - val_accuracy: 0.2000 - lr: 0.0010 - 16s/epoch - 33ms/step
Epoch 580/625
481/481 - 16s - loss: 1.6095 - accuracy: 0.1994 - val_loss: 1.6094 - val_accuracy: 0.2000 - lr: 0.0010 - 16s/epoch - 32ms/step
Epoch 581/625
481/481 - 16s - loss: 1.6095 - accuracy: 0.1973 - val_loss: 1.6094 - val_accuracy: 0.2000 - lr: 0.0010 - 16s/epoch - 33ms/step
Epoch 582/625
481/481 - 15s - loss: 1.6095 - accuracy: 0.1987 - val_loss: 1.6095 - val_accuracy: 0.2000 - lr: 0.0010 - 15s/epoch - 32ms/step
Epoch 583/625
481/481 - 16s - loss: 1.6095 - accuracy: 0.1995 - val_loss: 1.6094 - val_accuracy: 0.2000 - lr: 0.0010 - 16s/epoch - 34ms/step
Epoch 584/625
481/481 - 16s - loss: 1.6095 - accuracy: 0.2004 - val_loss: 1.6095 - val_accuracy: 0.2000 - lr: 0.0010 - 16s/epoch - 33ms/step
Epoch 585/625
481/481 - 16s - loss: 1.6095 - accuracy: 0.1983 - val_loss: 1.6094 - val_accuracy: 0.2000 - lr: 0.0010 - 16s/epoch - 34ms/step
Epoch 586/625
481/481 - 16s - loss: 1.6095 - accuracy: 0.1999 - val_loss: 1.6095 - val_accuracy: 0.2000 - lr: 0.0010 - 16s/epoch - 33ms/step
Epoch 587/625
481/481 - 16s - loss: 1.6095 - accuracy: 0.1980 - val_loss: 1.6094 - val_accuracy: 0.2000 - lr: 0.0010 - 16s/epoch - 33ms/step
Epoch 588/625
481/481 - 16s - loss: 1.6095 - accuracy: 0.1989 - val_loss: 1.6095 - val_accuracy: 0.2000 - lr: 0.0010 - 16s/epoch - 33ms/step
Epoch 589/625
481/481 - 16s - loss: 1.6095 - accuracy: 0.1992 - val_loss: 1.6094 - val_accuracy: 0.2000 - lr: 0.0010 - 16s/epoch - 32ms/step
Epoch 590/625
481/481 - 16s - loss: 1.6095 - accuracy: 0.2003 - val_loss: 1.6095 - val_accuracy: 0.2000 - lr: 0.0010 - 16s/epoch - 33ms/step
Epoch 591/625
481/481 - 16s - loss: 1.6095 - accuracy: 0.1994 - val_loss: 1.6095 - val_accuracy: 0.2000 - lr: 0.0010 - 16s/epoch - 32ms/step
Epoch 592/625
481/481 - 16s - loss: 1.6095 - accuracy: 0.2008 - val_loss: 1.6094 - val_accuracy: 0.2000 - lr: 0.0010 - 16s/epoch - 33ms/step
Epoch 593/625
481/481 - 16s - loss: 1.6095 - accuracy: 0.1985 - val_loss: 1.6095 - val_accuracy: 0.2000 - lr: 0.0010 - 16s/epoch - 32ms/step
Epoch 594/625
481/481 - 16s - loss: 1.6095 - accuracy: 0.1950 - val_loss: 1.6094 - val_accuracy: 0.2000 - lr: 0.0010 - 16s/epoch - 32ms/step
Epoch 595/625
481/481 - 16s - loss: 1.6095 - accuracy: 0.1973 - val_loss: 1.6095 - val_accuracy: 0.2000 - lr: 0.0010 - 16s/epoch - 32ms/step
Epoch 596/625
481/481 - 16s - loss: 1.6095 - accuracy: 0.1976 - val_loss: 1.6094 - val_accuracy: 0.2000 - lr: 0.0010 - 16s/epoch - 33ms/step
Epoch 597/625
481/481 - 16s - loss: 1.6095 - accuracy: 0.1970 - val_loss: 1.6094 - val_accuracy: 0.2000 - lr: 0.0010 - 16s/epoch - 33ms/step
Epoch 598/625
481/481 - 16s - loss: 1.6095 - accuracy: 0.2002 - val_loss: 1.6095 - val_accuracy: 0.2000 - lr: 0.0010 - 16s/epoch - 33ms/step
Epoch 599/625
481/481 - 16s - loss: 1.6095 - accuracy: 0.1977 - val_loss: 1.6095 - val_accuracy: 0.2000 - lr: 0.0010 - 16s/epoch - 32ms/step
Epoch 600/625
481/481 - 16s - loss: 1.6095 - accuracy: 0.1994 - val_loss: 1.6095 - val_accuracy: 0.2000 - lr: 0.0010 - 16s/epoch - 32ms/step
Epoch 601/625
481/481 - 16s - loss: 1.6095 - accuracy: 0.1992 - val_loss: 1.6094 - val_accuracy: 0.2000 - lr: 0.0010 - 16s/epoch - 32ms/step
Epoch 602/625
481/481 - 16s - loss: 1.6095 - accuracy: 0.1996 - val_loss: 1.6094 - val_accuracy: 0.2000 - lr: 0.0010 - 16s/epoch - 33ms/step
Epoch 603/625
481/481 - 16s - loss: 1.6095 - accuracy: 0.1993 - val_loss: 1.6095 - val_accuracy: 0.2000 - lr: 0.0010 - 16s/epoch - 32ms/step
Epoch 604/625
481/481 - 16s - loss: 1.6095 - accuracy: 0.2005 - val_loss: 1.6095 - val_accuracy: 0.2000 - lr: 0.0010 - 16s/epoch - 33ms/step
Epoch 605/625
481/481 - 16s - loss: 1.6095 - accuracy: 0.1987 - val_loss: 1.6095 - val_accuracy: 0.2000 - lr: 0.0010 - 16s/epoch - 33ms/step
Epoch 606/625
481/481 - 16s - loss: 1.6095 - accuracy: 0.1978 - val_loss: 1.6095 - val_accuracy: 0.2000 - lr: 0.0010 - 16s/epoch - 33ms/step
Epoch 607/625
481/481 - 16s - loss: 1.6095 - accuracy: 0.2001 - val_loss: 1.6095 - val_accuracy: 0.2000 - lr: 0.0010 - 16s/epoch - 33ms/step
Epoch 608/625
481/481 - 16s - loss: 1.6095 - accuracy: 0.1994 - val_loss: 1.6095 - val_accuracy: 0.2000 - lr: 0.0010 - 16s/epoch - 32ms/step
Epoch 609/625
481/481 - 16s - loss: 1.6095 - accuracy: 0.1987 - val_loss: 1.6095 - val_accuracy: 0.2000 - lr: 0.0010 - 16s/epoch - 33ms/step
Epoch 610/625
481/481 - 15s - loss: 1.6095 - accuracy: 0.1977 - val_loss: 1.6094 - val_accuracy: 0.2000 - lr: 0.0010 - 15s/epoch - 32ms/step
Epoch 611/625
481/481 - 16s - loss: 1.6095 - accuracy: 0.1978 - val_loss: 1.6095 - val_accuracy: 0.2000 - lr: 0.0010 - 16s/epoch - 33ms/step
Epoch 612/625
481/481 - 16s - loss: 1.6095 - accuracy: 0.1988 - val_loss: 1.6095 - val_accuracy: 0.2000 - lr: 0.0010 - 16s/epoch - 33ms/step
Epoch 613/625
481/481 - 16s - loss: 1.6095 - accuracy: 0.1967 - val_loss: 1.6094 - val_accuracy: 0.2000 - lr: 0.0010 - 16s/epoch - 33ms/step
Epoch 614/625
481/481 - 16s - loss: 1.6095 - accuracy: 0.1993 - val_loss: 1.6095 - val_accuracy: 0.2000 - lr: 0.0010 - 16s/epoch - 32ms/step
Epoch 615/625
481/481 - 16s - loss: 1.6095 - accuracy: 0.1984 - val_loss: 1.6095 - val_accuracy: 0.2000 - lr: 0.0010 - 16s/epoch - 33ms/step
Epoch 616/625
481/481 - 16s - loss: 1.6095 - accuracy: 0.1986 - val_loss: 1.6095 - val_accuracy: 0.2000 - lr: 0.0010 - 16s/epoch - 32ms/step
Epoch 617/625
481/481 - 16s - loss: 1.6095 - accuracy: 0.1979 - val_loss: 1.6094 - val_accuracy: 0.2000 - lr: 0.0010 - 16s/epoch - 32ms/step
Epoch 618/625
481/481 - 16s - loss: 1.6095 - accuracy: 0.1991 - val_loss: 1.6094 - val_accuracy: 0.2000 - lr: 0.0010 - 16s/epoch - 32ms/step
Epoch 619/625
481/481 - 16s - loss: 1.6095 - accuracy: 0.1973 - val_loss: 1.6094 - val_accuracy: 0.2000 - lr: 0.0010 - 16s/epoch - 33ms/step
Epoch 620/625
481/481 - 16s - loss: 1.6095 - accuracy: 0.1992 - val_loss: 1.6095 - val_accuracy: 0.2000 - lr: 0.0010 - 16s/epoch - 32ms/step
Epoch 621/625
481/481 - 16s - loss: 1.6095 - accuracy: 0.2000 - val_loss: 1.6095 - val_accuracy: 0.2000 - lr: 0.0010 - 16s/epoch - 33ms/step
Epoch 622/625
481/481 - 16s - loss: 1.6095 - accuracy: 0.2000 - val_loss: 1.6095 - val_accuracy: 0.2000 - lr: 0.0010 - 16s/epoch - 32ms/step
Epoch 623/625
481/481 - 16s - loss: 1.6095 - accuracy: 0.1995 - val_loss: 1.6095 - val_accuracy: 0.2000 - lr: 0.0010 - 16s/epoch - 33ms/step
Epoch 624/625
481/481 - 16s - loss: 1.6095 - accuracy: 0.2004 - val_loss: 1.6095 - val_accuracy: 0.2000 - lr: 0.0010 - 16s/epoch - 33ms/step
Epoch 625/625
481/481 - 16s - loss: 1.6095 - accuracy: 0.1985 - val_loss: 1.6095 - val_accuracy: 0.2000 - lr: 0.0010 - 16s/epoch - 33ms/step
fitting with batch size: 450
Epoch 1/625
214/214 - 13s - loss: 1.6095 - accuracy: 0.2005 - val_loss: 1.6095 - val_accuracy: 0.2000 - lr: 0.0010 - 13s/epoch - 62ms/step
Epoch 2/625
214/214 - 11s - loss: 1.6095 - accuracy: 0.1974 - val_loss: 1.6094 - val_accuracy: 0.2000 - lr: 0.0010 - 11s/epoch - 50ms/step
Epoch 3/625
214/214 - 11s - loss: 1.6095 - accuracy: 0.1998 - val_loss: 1.6095 - val_accuracy: 0.2000 - lr: 0.0010 - 11s/epoch - 50ms/step
Epoch 4/625
214/214 - 11s - loss: 1.6095 - accuracy: 0.1992 - val_loss: 1.6094 - val_accuracy: 0.2000 - lr: 0.0010 - 11s/epoch - 50ms/step
Epoch 5/625
214/214 - 11s - loss: 1.6095 - accuracy: 0.1999 - val_loss: 1.6094 - val_accuracy: 0.2000 - lr: 0.0010 - 11s/epoch - 50ms/step
Epoch 6/625
214/214 - 11s - loss: 1.6095 - accuracy: 0.1984 - val_loss: 1.6094 - val_accuracy: 0.2000 - lr: 0.0010 - 11s/epoch - 50ms/step
Epoch 7/625
214/214 - 11s - loss: 1.6095 - accuracy: 0.1999 - val_loss: 1.6094 - val_accuracy: 0.2000 - lr: 0.0010 - 11s/epoch - 50ms/step
Epoch 8/625
214/214 - 11s - loss: 1.6095 - accuracy: 0.1982 - val_loss: 1.6094 - val_accuracy: 0.2000 - lr: 0.0010 - 11s/epoch - 50ms/step
Epoch 9/625
214/214 - 11s - loss: 1.6095 - accuracy: 0.2003 - val_loss: 1.6095 - val_accuracy: 0.2000 - lr: 0.0010 - 11s/epoch - 50ms/step
Epoch 10/625
214/214 - 11s - loss: 1.6095 - accuracy: 0.1985 - val_loss: 1.6094 - val_accuracy: 0.2000 - lr: 0.0010 - 11s/epoch - 50ms/step
Epoch 11/625
214/214 - 11s - loss: 1.6095 - accuracy: 0.1995 - val_loss: 1.6094 - val_accuracy: 0.2000 - lr: 0.0010 - 11s/epoch - 50ms/step
Epoch 12/625
214/214 - 11s - loss: 1.6095 - accuracy: 0.1982 - val_loss: 1.6094 - val_accuracy: 0.2000 - lr: 0.0010 - 11s/epoch - 50ms/step
Epoch 13/625
214/214 - 11s - loss: 1.6095 - accuracy: 0.1994 - val_loss: 1.6095 - val_accuracy: 0.2000 - lr: 0.0010 - 11s/epoch - 50ms/step
Epoch 14/625
214/214 - 11s - loss: 1.6095 - accuracy: 0.1986 - val_loss: 1.6094 - val_accuracy: 0.2000 - lr: 0.0010 - 11s/epoch - 50ms/step
Epoch 15/625
214/214 - 11s - loss: 1.6095 - accuracy: 0.2005 - val_loss: 1.6094 - val_accuracy: 0.2000 - lr: 0.0010 - 11s/epoch - 50ms/step
Epoch 16/625
214/214 - 11s - loss: 1.6095 - accuracy: 0.1990 - val_loss: 1.6094 - val_accuracy: 0.2000 - lr: 0.0010 - 11s/epoch - 50ms/step
Epoch 17/625
214/214 - 11s - loss: 1.6095 - accuracy: 0.2003 - val_loss: 1.6094 - val_accuracy: 0.2000 - lr: 0.0010 - 11s/epoch - 51ms/step
Epoch 18/625
214/214 - 11s - loss: 1.6095 - accuracy: 0.1996 - val_loss: 1.6094 - val_accuracy: 0.2000 - lr: 0.0010 - 11s/epoch - 50ms/step
Epoch 19/625
214/214 - 11s - loss: 1.6095 - accuracy: 0.1984 - val_loss: 1.6094 - val_accuracy: 0.2000 - lr: 0.0010 - 11s/epoch - 50ms/step
Epoch 20/625
214/214 - 11s - loss: 1.6095 - accuracy: 0.1960 - val_loss: 1.6094 - val_accuracy: 0.2000 - lr: 0.0010 - 11s/epoch - 50ms/step
Epoch 21/625
214/214 - 11s - loss: 1.6095 - accuracy: 0.1981 - val_loss: 1.6094 - val_accuracy: 0.2000 - lr: 0.0010 - 11s/epoch - 51ms/step
Epoch 22/625
214/214 - 11s - loss: 1.6095 - accuracy: 0.1992 - val_loss: 1.6095 - val_accuracy: 0.2000 - lr: 0.0010 - 11s/epoch - 50ms/step
Epoch 23/625
214/214 - 11s - loss: 1.6095 - accuracy: 0.1982 - val_loss: 1.6095 - val_accuracy: 0.2000 - lr: 0.0010 - 11s/epoch - 50ms/step
Epoch 24/625
214/214 - 11s - loss: 1.6095 - accuracy: 0.1985 - val_loss: 1.6094 - val_accuracy: 0.2000 - lr: 0.0010 - 11s/epoch - 49ms/step
Epoch 25/625
214/214 - 11s - loss: 1.6095 - accuracy: 0.1987 - val_loss: 1.6094 - val_accuracy: 0.2000 - lr: 0.0010 - 11s/epoch - 50ms/step
Epoch 26/625
214/214 - 11s - loss: 1.6095 - accuracy: 0.1999 - val_loss: 1.6094 - val_accuracy: 0.2000 - lr: 0.0010 - 11s/epoch - 50ms/step
Epoch 27/625
214/214 - 11s - loss: 1.6095 - accuracy: 0.1974 - val_loss: 1.6094 - val_accuracy: 0.2000 - lr: 0.0010 - 11s/epoch - 50ms/step
Epoch 28/625
214/214 - 11s - loss: 1.6095 - accuracy: 0.1985 - val_loss: 1.6094 - val_accuracy: 0.2000 - lr: 0.0010 - 11s/epoch - 50ms/step
Epoch 29/625
214/214 - 11s - loss: 1.6095 - accuracy: 0.1989 - val_loss: 1.6094 - val_accuracy: 0.2000 - lr: 0.0010 - 11s/epoch - 50ms/step
Epoch 30/625
214/214 - 11s - loss: 1.6095 - accuracy: 0.1992 - val_loss: 1.6094 - val_accuracy: 0.2000 - lr: 0.0010 - 11s/epoch - 50ms/step
Epoch 31/625
214/214 - 11s - loss: 1.6095 - accuracy: 0.1980 - val_loss: 1.6094 - val_accuracy: 0.2000 - lr: 0.0010 - 11s/epoch - 50ms/step
Epoch 32/625
214/214 - 11s - loss: 1.6095 - accuracy: 0.1986 - val_loss: 1.6094 - val_accuracy: 0.2000 - lr: 0.0010 - 11s/epoch - 50ms/step
Epoch 33/625
214/214 - 11s - loss: 1.6095 - accuracy: 0.1987 - val_loss: 1.6095 - val_accuracy: 0.2000 - lr: 0.0010 - 11s/epoch - 50ms/step
Epoch 34/625
214/214 - 11s - loss: 1.6095 - accuracy: 0.1990 - val_loss: 1.6094 - val_accuracy: 0.2000 - lr: 0.0010 - 11s/epoch - 49ms/step
Epoch 35/625
214/214 - 11s - loss: 1.6095 - accuracy: 0.1995 - val_loss: 1.6095 - val_accuracy: 0.2000 - lr: 0.0010 - 11s/epoch - 51ms/step
Epoch 36/625
214/214 - 11s - loss: 1.6095 - accuracy: 0.1984 - val_loss: 1.6094 - val_accuracy: 0.2000 - lr: 0.0010 - 11s/epoch - 50ms/step
Epoch 37/625
214/214 - 11s - loss: 1.6095 - accuracy: 0.1984 - val_loss: 1.6094 - val_accuracy: 0.2000 - lr: 0.0010 - 11s/epoch - 50ms/step
Epoch 38/625
214/214 - 11s - loss: 1.6095 - accuracy: 0.1999 - val_loss: 1.6094 - val_accuracy: 0.2000 - lr: 0.0010 - 11s/epoch - 50ms/step
Epoch 39/625
214/214 - 11s - loss: 1.6095 - accuracy: 0.2000 - val_loss: 1.6094 - val_accuracy: 0.2000 - lr: 0.0010 - 11s/epoch - 51ms/step
Epoch 40/625
214/214 - 11s - loss: 1.6095 - accuracy: 0.1991 - val_loss: 1.6095 - val_accuracy: 0.2000 - lr: 0.0010 - 11s/epoch - 50ms/step
Epoch 41/625
214/214 - 11s - loss: 1.6095 - accuracy: 0.2013 - val_loss: 1.6095 - val_accuracy: 0.2000 - lr: 0.0010 - 11s/epoch - 50ms/step
Epoch 42/625
214/214 - 11s - loss: 1.6095 - accuracy: 0.1999 - val_loss: 1.6094 - val_accuracy: 0.2000 - lr: 0.0010 - 11s/epoch - 50ms/step
Epoch 43/625
214/214 - 11s - loss: 1.6095 - accuracy: 0.1987 - val_loss: 1.6094 - val_accuracy: 0.2000 - lr: 0.0010 - 11s/epoch - 50ms/step
Epoch 44/625
214/214 - 11s - loss: 1.6095 - accuracy: 0.1971 - val_loss: 1.6094 - val_accuracy: 0.2000 - lr: 0.0010 - 11s/epoch - 50ms/step
Epoch 45/625
214/214 - 11s - loss: 1.6095 - accuracy: 0.1970 - val_loss: 1.6094 - val_accuracy: 0.2000 - lr: 0.0010 - 11s/epoch - 51ms/step
Epoch 46/625
214/214 - 11s - loss: 1.6095 - accuracy: 0.1978 - val_loss: 1.6095 - val_accuracy: 0.2000 - lr: 0.0010 - 11s/epoch - 50ms/step
Epoch 47/625
214/214 - 11s - loss: 1.6095 - accuracy: 0.1996 - val_loss: 1.6095 - val_accuracy: 0.2000 - lr: 0.0010 - 11s/epoch - 50ms/step
Epoch 48/625
214/214 - 11s - loss: 1.6095 - accuracy: 0.1999 - val_loss: 1.6094 - val_accuracy: 0.2000 - lr: 0.0010 - 11s/epoch - 50ms/step
Epoch 49/625
214/214 - 11s - loss: 1.6095 - accuracy: 0.1982 - val_loss: 1.6094 - val_accuracy: 0.2000 - lr: 0.0010 - 11s/epoch - 50ms/step
Epoch 50/625
214/214 - 11s - loss: 1.6095 - accuracy: 0.1978 - val_loss: 1.6094 - val_accuracy: 0.2000 - lr: 0.0010 - 11s/epoch - 50ms/step
Epoch 51/625
214/214 - 11s - loss: 1.6095 - accuracy: 0.1974 - val_loss: 1.6094 - val_accuracy: 0.2000 - lr: 0.0010 - 11s/epoch - 51ms/step
Epoch 52/625
214/214 - 11s - loss: 1.6095 - accuracy: 0.1952 - val_loss: 1.6094 - val_accuracy: 0.2000 - lr: 0.0010 - 11s/epoch - 50ms/step
Epoch 53/625
214/214 - 11s - loss: 1.6095 - accuracy: 0.1965 - val_loss: 1.6094 - val_accuracy: 0.2000 - lr: 0.0010 - 11s/epoch - 51ms/step
Epoch 54/625
214/214 - 11s - loss: 1.6095 - accuracy: 0.1988 - val_loss: 1.6094 - val_accuracy: 0.2000 - lr: 0.0010 - 11s/epoch - 50ms/step
Epoch 55/625
214/214 - 11s - loss: 1.6095 - accuracy: 0.1970 - val_loss: 1.6094 - val_accuracy: 0.2000 - lr: 0.0010 - 11s/epoch - 50ms/step
Epoch 56/625
214/214 - 11s - loss: 1.6095 - accuracy: 0.2000 - val_loss: 1.6095 - val_accuracy: 0.2000 - lr: 0.0010 - 11s/epoch - 50ms/step
Epoch 57/625
214/214 - 11s - loss: 1.6095 - accuracy: 0.1973 - val_loss: 1.6094 - val_accuracy: 0.2000 - lr: 0.0010 - 11s/epoch - 50ms/step
Epoch 58/625
214/214 - 11s - loss: 1.6095 - accuracy: 0.1975 - val_loss: 1.6095 - val_accuracy: 0.2000 - lr: 0.0010 - 11s/epoch - 50ms/step
Epoch 59/625
214/214 - 11s - loss: 1.6095 - accuracy: 0.1971 - val_loss: 1.6094 - val_accuracy: 0.2000 - lr: 0.0010 - 11s/epoch - 50ms/step
Epoch 60/625
214/214 - 11s - loss: 1.6095 - accuracy: 0.1963 - val_loss: 1.6094 - val_accuracy: 0.2000 - lr: 0.0010 - 11s/epoch - 49ms/step
Epoch 61/625
214/214 - 11s - loss: 1.6095 - accuracy: 0.1975 - val_loss: 1.6094 - val_accuracy: 0.2000 - lr: 0.0010 - 11s/epoch - 50ms/step
Epoch 62/625
214/214 - 11s - loss: 1.6095 - accuracy: 0.2003 - val_loss: 1.6094 - val_accuracy: 0.2000 - lr: 0.0010 - 11s/epoch - 50ms/step
Epoch 63/625
214/214 - 11s - loss: 1.6095 - accuracy: 0.1988 - val_loss: 1.6094 - val_accuracy: 0.2000 - lr: 0.0010 - 11s/epoch - 50ms/step
Epoch 64/625
214/214 - 11s - loss: 1.6095 - accuracy: 0.1984 - val_loss: 1.6095 - val_accuracy: 0.2000 - lr: 0.0010 - 11s/epoch - 50ms/step
Epoch 65/625
214/214 - 11s - loss: 1.6095 - accuracy: 0.1963 - val_loss: 1.6094 - val_accuracy: 0.2000 - lr: 0.0010 - 11s/epoch - 50ms/step
Epoch 66/625
214/214 - 11s - loss: 1.6095 - accuracy: 0.1997 - val_loss: 1.6094 - val_accuracy: 0.2000 - lr: 0.0010 - 11s/epoch - 49ms/step
Epoch 67/625
214/214 - 11s - loss: 1.6095 - accuracy: 0.1994 - val_loss: 1.6094 - val_accuracy: 0.2000 - lr: 0.0010 - 11s/epoch - 50ms/step
Epoch 68/625
214/214 - 11s - loss: 1.6095 - accuracy: 0.1977 - val_loss: 1.6095 - val_accuracy: 0.2000 - lr: 0.0010 - 11s/epoch - 50ms/step
Epoch 69/625
214/214 - 11s - loss: 1.6095 - accuracy: 0.1996 - val_loss: 1.6094 - val_accuracy: 0.2000 - lr: 0.0010 - 11s/epoch - 50ms/step
Epoch 70/625
214/214 - 11s - loss: 1.6095 - accuracy: 0.1977 - val_loss: 1.6094 - val_accuracy: 0.2000 - lr: 0.0010 - 11s/epoch - 50ms/step
Epoch 71/625
214/214 - 11s - loss: 1.6095 - accuracy: 0.2008 - val_loss: 1.6095 - val_accuracy: 0.2000 - lr: 0.0010 - 11s/epoch - 50ms/step
Epoch 72/625
214/214 - 11s - loss: 1.6095 - accuracy: 0.1985 - val_loss: 1.6094 - val_accuracy: 0.2000 - lr: 0.0010 - 11s/epoch - 50ms/step
Epoch 73/625
214/214 - 11s - loss: 1.6095 - accuracy: 0.1996 - val_loss: 1.6094 - val_accuracy: 0.2000 - lr: 0.0010 - 11s/epoch - 50ms/step
Epoch 74/625
214/214 - 11s - loss: 1.6095 - accuracy: 0.1982 - val_loss: 1.6094 - val_accuracy: 0.2000 - lr: 0.0010 - 11s/epoch - 50ms/step
Epoch 75/625
214/214 - 11s - loss: 1.6095 - accuracy: 0.1986 - val_loss: 1.6094 - val_accuracy: 0.2000 - lr: 0.0010 - 11s/epoch - 50ms/step
Epoch 76/625
214/214 - 11s - loss: 1.6095 - accuracy: 0.1989 - val_loss: 1.6095 - val_accuracy: 0.2000 - lr: 0.0010 - 11s/epoch - 50ms/step
Epoch 77/625
214/214 - 11s - loss: 1.6095 - accuracy: 0.1970 - val_loss: 1.6094 - val_accuracy: 0.2000 - lr: 0.0010 - 11s/epoch - 50ms/step
Epoch 78/625
214/214 - 11s - loss: 1.6095 - accuracy: 0.1996 - val_loss: 1.6095 - val_accuracy: 0.2000 - lr: 0.0010 - 11s/epoch - 50ms/step
Epoch 79/625
214/214 - 11s - loss: 1.6095 - accuracy: 0.1997 - val_loss: 1.6094 - val_accuracy: 0.2000 - lr: 0.0010 - 11s/epoch - 50ms/step
Epoch 80/625
214/214 - 11s - loss: 1.6095 - accuracy: 0.1981 - val_loss: 1.6094 - val_accuracy: 0.2000 - lr: 0.0010 - 11s/epoch - 50ms/step
Epoch 81/625
214/214 - 11s - loss: 1.6095 - accuracy: 0.1995 - val_loss: 1.6094 - val_accuracy: 0.2000 - lr: 0.0010 - 11s/epoch - 50ms/step
Epoch 82/625
214/214 - 11s - loss: 1.6095 - accuracy: 0.1977 - val_loss: 1.6094 - val_accuracy: 0.2000 - lr: 0.0010 - 11s/epoch - 50ms/step
Epoch 83/625
214/214 - 11s - loss: 1.6095 - accuracy: 0.2003 - val_loss: 1.6095 - val_accuracy: 0.2000 - lr: 0.0010 - 11s/epoch - 50ms/step
Epoch 84/625
214/214 - 11s - loss: 1.6095 - accuracy: 0.1973 - val_loss: 1.6095 - val_accuracy: 0.2000 - lr: 0.0010 - 11s/epoch - 50ms/step
Epoch 85/625
214/214 - 11s - loss: 1.6095 - accuracy: 0.1996 - val_loss: 1.6095 - val_accuracy: 0.2000 - lr: 0.0010 - 11s/epoch - 50ms/step
Epoch 86/625
214/214 - 11s - loss: 1.6095 - accuracy: 0.1979 - val_loss: 1.6094 - val_accuracy: 0.2000 - lr: 0.0010 - 11s/epoch - 50ms/step
Epoch 87/625
214/214 - 11s - loss: 1.6095 - accuracy: 0.1985 - val_loss: 1.6095 - val_accuracy: 0.2000 - lr: 0.0010 - 11s/epoch - 50ms/step
Epoch 88/625
214/214 - 11s - loss: 1.6095 - accuracy: 0.1992 - val_loss: 1.6095 - val_accuracy: 0.2000 - lr: 0.0010 - 11s/epoch - 50ms/step
Epoch 89/625
214/214 - 11s - loss: 1.6095 - accuracy: 0.1991 - val_loss: 1.6095 - val_accuracy: 0.2000 - lr: 0.0010 - 11s/epoch - 50ms/step
Epoch 90/625
214/214 - 11s - loss: 1.6095 - accuracy: 0.1986 - val_loss: 1.6094 - val_accuracy: 0.2000 - lr: 0.0010 - 11s/epoch - 50ms/step
Epoch 91/625
214/214 - 11s - loss: 1.6095 - accuracy: 0.1987 - val_loss: 1.6094 - val_accuracy: 0.2000 - lr: 0.0010 - 11s/epoch - 50ms/step
Epoch 92/625
214/214 - 11s - loss: 1.6095 - accuracy: 0.1986 - val_loss: 1.6095 - val_accuracy: 0.2000 - lr: 0.0010 - 11s/epoch - 50ms/step
Epoch 93/625
214/214 - 11s - loss: 1.6095 - accuracy: 0.1981 - val_loss: 1.6095 - val_accuracy: 0.2000 - lr: 0.0010 - 11s/epoch - 50ms/step
Epoch 94/625
214/214 - 11s - loss: 1.6095 - accuracy: 0.1974 - val_loss: 1.6094 - val_accuracy: 0.2000 - lr: 0.0010 - 11s/epoch - 50ms/step
Epoch 95/625
214/214 - 11s - loss: 1.6095 - accuracy: 0.1988 - val_loss: 1.6094 - val_accuracy: 0.2000 - lr: 0.0010 - 11s/epoch - 50ms/step
Epoch 96/625
214/214 - 11s - loss: 1.6095 - accuracy: 0.1971 - val_loss: 1.6094 - val_accuracy: 0.2000 - lr: 0.0010 - 11s/epoch - 50ms/step
Epoch 97/625
214/214 - 11s - loss: 1.6095 - accuracy: 0.1992 - val_loss: 1.6094 - val_accuracy: 0.2000 - lr: 0.0010 - 11s/epoch - 50ms/step
Epoch 98/625
214/214 - 11s - loss: 1.6095 - accuracy: 0.1992 - val_loss: 1.6094 - val_accuracy: 0.2000 - lr: 0.0010 - 11s/epoch - 50ms/step
Epoch 99/625
214/214 - 11s - loss: 1.6095 - accuracy: 0.1977 - val_loss: 1.6094 - val_accuracy: 0.2000 - lr: 0.0010 - 11s/epoch - 50ms/step
Epoch 100/625
214/214 - 11s - loss: 1.6095 - accuracy: 0.2000 - val_loss: 1.6094 - val_accuracy: 0.2000 - lr: 0.0010 - 11s/epoch - 50ms/step
Epoch 101/625
214/214 - 11s - loss: 1.6095 - accuracy: 0.1998 - val_loss: 1.6094 - val_accuracy: 0.2000 - lr: 0.0010 - 11s/epoch - 50ms/step
Epoch 102/625
214/214 - 11s - loss: 1.6095 - accuracy: 0.1993 - val_loss: 1.6094 - val_accuracy: 0.2000 - lr: 0.0010 - 11s/epoch - 50ms/step
Epoch 103/625
214/214 - 11s - loss: 1.6095 - accuracy: 0.1986 - val_loss: 1.6094 - val_accuracy: 0.2000 - lr: 0.0010 - 11s/epoch - 50ms/step
Epoch 104/625
214/214 - 11s - loss: 1.6095 - accuracy: 0.1970 - val_loss: 1.6095 - val_accuracy: 0.2000 - lr: 0.0010 - 11s/epoch - 50ms/step
Epoch 105/625
214/214 - 11s - loss: 1.6095 - accuracy: 0.1977 - val_loss: 1.6094 - val_accuracy: 0.2000 - lr: 0.0010 - 11s/epoch - 50ms/step
Epoch 106/625
214/214 - 11s - loss: 1.6095 - accuracy: 0.1977 - val_loss: 1.6094 - val_accuracy: 0.2000 - lr: 0.0010 - 11s/epoch - 50ms/step
Epoch 107/625
214/214 - 11s - loss: 1.6095 - accuracy: 0.1983 - val_loss: 1.6094 - val_accuracy: 0.2000 - lr: 0.0010 - 11s/epoch - 50ms/step
Epoch 108/625
214/214 - 11s - loss: 1.6095 - accuracy: 0.1991 - val_loss: 1.6094 - val_accuracy: 0.2000 - lr: 0.0010 - 11s/epoch - 50ms/step
Epoch 109/625
214/214 - 11s - loss: 1.6095 - accuracy: 0.1986 - val_loss: 1.6094 - val_accuracy: 0.2000 - lr: 0.0010 - 11s/epoch - 49ms/step
Epoch 110/625
214/214 - 11s - loss: 1.6095 - accuracy: 0.1996 - val_loss: 1.6094 - val_accuracy: 0.2000 - lr: 0.0010 - 11s/epoch - 50ms/step
Epoch 111/625
214/214 - 11s - loss: 1.6095 - accuracy: 0.1991 - val_loss: 1.6094 - val_accuracy: 0.2000 - lr: 0.0010 - 11s/epoch - 50ms/step
Epoch 112/625
214/214 - 11s - loss: 1.6095 - accuracy: 0.2014 - val_loss: 1.6095 - val_accuracy: 0.2000 - lr: 0.0010 - 11s/epoch - 50ms/step
Epoch 113/625
214/214 - 11s - loss: 1.6095 - accuracy: 0.1984 - val_loss: 1.6094 - val_accuracy: 0.2000 - lr: 0.0010 - 11s/epoch - 50ms/step
Epoch 114/625
214/214 - 11s - loss: 1.6095 - accuracy: 0.1971 - val_loss: 1.6094 - val_accuracy: 0.2000 - lr: 0.0010 - 11s/epoch - 50ms/step
Epoch 115/625
214/214 - 11s - loss: 1.6095 - accuracy: 0.1984 - val_loss: 1.6094 - val_accuracy: 0.2000 - lr: 0.0010 - 11s/epoch - 50ms/step
Epoch 116/625
214/214 - 11s - loss: 1.6095 - accuracy: 0.1986 - val_loss: 1.6094 - val_accuracy: 0.2000 - lr: 0.0010 - 11s/epoch - 50ms/step
Epoch 117/625
214/214 - 11s - loss: 1.6095 - accuracy: 0.1986 - val_loss: 1.6094 - val_accuracy: 0.2000 - lr: 0.0010 - 11s/epoch - 50ms/step
Epoch 118/625
214/214 - 11s - loss: 1.6095 - accuracy: 0.1975 - val_loss: 1.6094 - val_accuracy: 0.2000 - lr: 0.0010 - 11s/epoch - 50ms/step
Epoch 119/625
214/214 - 11s - loss: 1.6095 - accuracy: 0.1966 - val_loss: 1.6095 - val_accuracy: 0.2000 - lr: 0.0010 - 11s/epoch - 50ms/step
Epoch 120/625
214/214 - 11s - loss: 1.6095 - accuracy: 0.1989 - val_loss: 1.6094 - val_accuracy: 0.2000 - lr: 0.0010 - 11s/epoch - 50ms/step
Epoch 121/625
214/214 - 11s - loss: 1.6095 - accuracy: 0.1999 - val_loss: 1.6094 - val_accuracy: 0.2000 - lr: 0.0010 - 11s/epoch - 50ms/step
Epoch 122/625
214/214 - 11s - loss: 1.6095 - accuracy: 0.1996 - val_loss: 1.6094 - val_accuracy: 0.2000 - lr: 0.0010 - 11s/epoch - 49ms/step
Epoch 123/625
214/214 - 11s - loss: 1.6095 - accuracy: 0.1990 - val_loss: 1.6094 - val_accuracy: 0.2000 - lr: 0.0010 - 11s/epoch - 50ms/step
Epoch 124/625
214/214 - 11s - loss: 1.6095 - accuracy: 0.1994 - val_loss: 1.6094 - val_accuracy: 0.2000 - lr: 0.0010 - 11s/epoch - 50ms/step
Epoch 125/625
214/214 - 11s - loss: 1.6095 - accuracy: 0.1986 - val_loss: 1.6094 - val_accuracy: 0.2000 - lr: 0.0010 - 11s/epoch - 51ms/step
Epoch 126/625
214/214 - 11s - loss: 1.6095 - accuracy: 0.1992 - val_loss: 1.6094 - val_accuracy: 0.2000 - lr: 0.0010 - 11s/epoch - 50ms/step
Epoch 127/625
214/214 - 11s - loss: 1.6095 - accuracy: 0.1999 - val_loss: 1.6094 - val_accuracy: 0.2000 - lr: 0.0010 - 11s/epoch - 50ms/step
Epoch 128/625
214/214 - 11s - loss: 1.6095 - accuracy: 0.1978 - val_loss: 1.6095 - val_accuracy: 0.2000 - lr: 0.0010 - 11s/epoch - 50ms/step
Epoch 129/625
214/214 - 11s - loss: 1.6095 - accuracy: 0.1980 - val_loss: 1.6095 - val_accuracy: 0.2000 - lr: 0.0010 - 11s/epoch - 51ms/step
Epoch 130/625
214/214 - 11s - loss: 1.6095 - accuracy: 0.1981 - val_loss: 1.6094 - val_accuracy: 0.2000 - lr: 0.0010 - 11s/epoch - 50ms/step
Epoch 131/625
214/214 - 11s - loss: 1.6095 - accuracy: 0.1990 - val_loss: 1.6094 - val_accuracy: 0.2000 - lr: 0.0010 - 11s/epoch - 50ms/step
Epoch 132/625
214/214 - 11s - loss: 1.6095 - accuracy: 0.1975 - val_loss: 1.6094 - val_accuracy: 0.2000 - lr: 0.0010 - 11s/epoch - 50ms/step
Epoch 133/625
214/214 - 11s - loss: 1.6095 - accuracy: 0.1999 - val_loss: 1.6094 - val_accuracy: 0.2000 - lr: 0.0010 - 11s/epoch - 50ms/step
Epoch 134/625
214/214 - 11s - loss: 1.6095 - accuracy: 0.1985 - val_loss: 1.6095 - val_accuracy: 0.2000 - lr: 0.0010 - 11s/epoch - 50ms/step
Epoch 135/625
214/214 - 11s - loss: 1.6095 - accuracy: 0.1989 - val_loss: 1.6095 - val_accuracy: 0.2000 - lr: 0.0010 - 11s/epoch - 50ms/step
Epoch 136/625
214/214 - 11s - loss: 1.6095 - accuracy: 0.1983 - val_loss: 1.6094 - val_accuracy: 0.2000 - lr: 0.0010 - 11s/epoch - 50ms/step
Epoch 137/625
214/214 - 11s - loss: 1.6095 - accuracy: 0.1980 - val_loss: 1.6094 - val_accuracy: 0.2000 - lr: 0.0010 - 11s/epoch - 50ms/step
Epoch 138/625
214/214 - 11s - loss: 1.6095 - accuracy: 0.1978 - val_loss: 1.6094 - val_accuracy: 0.2000 - lr: 0.0010 - 11s/epoch - 49ms/step
Epoch 139/625
214/214 - 11s - loss: 1.6095 - accuracy: 0.1989 - val_loss: 1.6095 - val_accuracy: 0.2000 - lr: 0.0010 - 11s/epoch - 50ms/step
Epoch 140/625
214/214 - 11s - loss: 1.6095 - accuracy: 0.1988 - val_loss: 1.6094 - val_accuracy: 0.2000 - lr: 0.0010 - 11s/epoch - 50ms/step
Epoch 141/625
214/214 - 11s - loss: 1.6095 - accuracy: 0.1987 - val_loss: 1.6094 - val_accuracy: 0.2000 - lr: 0.0010 - 11s/epoch - 50ms/step
Epoch 142/625
214/214 - 11s - loss: 1.6095 - accuracy: 0.1978 - val_loss: 1.6094 - val_accuracy: 0.2000 - lr: 0.0010 - 11s/epoch - 50ms/step
Epoch 143/625
214/214 - 11s - loss: 1.6095 - accuracy: 0.1980 - val_loss: 1.6095 - val_accuracy: 0.2000 - lr: 0.0010 - 11s/epoch - 50ms/step
Epoch 144/625
214/214 - 11s - loss: 1.6095 - accuracy: 0.1982 - val_loss: 1.6094 - val_accuracy: 0.2000 - lr: 0.0010 - 11s/epoch - 50ms/step
Epoch 145/625
214/214 - 11s - loss: 1.6095 - accuracy: 0.1979 - val_loss: 1.6094 - val_accuracy: 0.2000 - lr: 0.0010 - 11s/epoch - 50ms/step
Epoch 146/625
214/214 - 11s - loss: 1.6095 - accuracy: 0.1967 - val_loss: 1.6094 - val_accuracy: 0.2000 - lr: 0.0010 - 11s/epoch - 50ms/step
Epoch 147/625
214/214 - 11s - loss: 1.6095 - accuracy: 0.1975 - val_loss: 1.6094 - val_accuracy: 0.2000 - lr: 0.0010 - 11s/epoch - 50ms/step
Epoch 148/625
214/214 - 11s - loss: 1.6095 - accuracy: 0.1987 - val_loss: 1.6094 - val_accuracy: 0.2000 - lr: 0.0010 - 11s/epoch - 50ms/step
Epoch 149/625
214/214 - 11s - loss: 1.6095 - accuracy: 0.1973 - val_loss: 1.6094 - val_accuracy: 0.2000 - lr: 0.0010 - 11s/epoch - 50ms/step
Epoch 150/625
214/214 - 11s - loss: 1.6095 - accuracy: 0.1979 - val_loss: 1.6095 - val_accuracy: 0.2000 - lr: 0.0010 - 11s/epoch - 50ms/step
Epoch 151/625
214/214 - 11s - loss: 1.6095 - accuracy: 0.1985 - val_loss: 1.6094 - val_accuracy: 0.2000 - lr: 0.0010 - 11s/epoch - 50ms/step
Epoch 152/625
214/214 - 11s - loss: 1.6095 - accuracy: 0.1985 - val_loss: 1.6094 - val_accuracy: 0.2000 - lr: 0.0010 - 11s/epoch - 50ms/step
Epoch 153/625
214/214 - 11s - loss: 1.6095 - accuracy: 0.1993 - val_loss: 1.6094 - val_accuracy: 0.2000 - lr: 0.0010 - 11s/epoch - 50ms/step
Epoch 154/625
214/214 - 11s - loss: 1.6095 - accuracy: 0.1994 - val_loss: 1.6095 - val_accuracy: 0.2000 - lr: 0.0010 - 11s/epoch - 50ms/step
Epoch 155/625
214/214 - 11s - loss: 1.6095 - accuracy: 0.2001 - val_loss: 1.6094 - val_accuracy: 0.2000 - lr: 0.0010 - 11s/epoch - 50ms/step
Epoch 156/625
214/214 - 11s - loss: 1.6095 - accuracy: 0.2003 - val_loss: 1.6094 - val_accuracy: 0.2000 - lr: 0.0010 - 11s/epoch - 50ms/step
Epoch 157/625
214/214 - 11s - loss: 1.6095 - accuracy: 0.1991 - val_loss: 1.6094 - val_accuracy: 0.2000 - lr: 0.0010 - 11s/epoch - 50ms/step
Epoch 158/625
214/214 - 11s - loss: 1.6095 - accuracy: 0.1988 - val_loss: 1.6094 - val_accuracy: 0.2000 - lr: 0.0010 - 11s/epoch - 50ms/step
Epoch 159/625
214/214 - 11s - loss: 1.6095 - accuracy: 0.1992 - val_loss: 1.6094 - val_accuracy: 0.2000 - lr: 0.0010 - 11s/epoch - 50ms/step
Epoch 160/625
214/214 - 11s - loss: 1.6095 - accuracy: 0.1978 - val_loss: 1.6094 - val_accuracy: 0.2000 - lr: 0.0010 - 11s/epoch - 50ms/step
Epoch 161/625
214/214 - 11s - loss: 1.6095 - accuracy: 0.1987 - val_loss: 1.6094 - val_accuracy: 0.2000 - lr: 0.0010 - 11s/epoch - 50ms/step
Epoch 162/625
214/214 - 11s - loss: 1.6095 - accuracy: 0.1999 - val_loss: 1.6094 - val_accuracy: 0.2000 - lr: 0.0010 - 11s/epoch - 50ms/step
Epoch 163/625
214/214 - 11s - loss: 1.6095 - accuracy: 0.1982 - val_loss: 1.6094 - val_accuracy: 0.2000 - lr: 0.0010 - 11s/epoch - 50ms/step
Epoch 164/625
214/214 - 11s - loss: 1.6095 - accuracy: 0.1996 - val_loss: 1.6095 - val_accuracy: 0.2000 - lr: 0.0010 - 11s/epoch - 50ms/step
Epoch 165/625
214/214 - 11s - loss: 1.6095 - accuracy: 0.1977 - val_loss: 1.6095 - val_accuracy: 0.2000 - lr: 0.0010 - 11s/epoch - 50ms/step
Epoch 166/625
214/214 - 11s - loss: 1.6095 - accuracy: 0.1998 - val_loss: 1.6095 - val_accuracy: 0.2000 - lr: 0.0010 - 11s/epoch - 50ms/step
Epoch 167/625
214/214 - 11s - loss: 1.6095 - accuracy: 0.1992 - val_loss: 1.6094 - val_accuracy: 0.2000 - lr: 0.0010 - 11s/epoch - 50ms/step
Epoch 168/625
214/214 - 11s - loss: 1.6095 - accuracy: 0.1976 - val_loss: 1.6095 - val_accuracy: 0.2000 - lr: 0.0010 - 11s/epoch - 50ms/step
Epoch 169/625
214/214 - 11s - loss: 1.6095 - accuracy: 0.1991 - val_loss: 1.6095 - val_accuracy: 0.2000 - lr: 0.0010 - 11s/epoch - 50ms/step
Epoch 170/625
214/214 - 11s - loss: 1.6095 - accuracy: 0.2003 - val_loss: 1.6095 - val_accuracy: 0.2000 - lr: 0.0010 - 11s/epoch - 50ms/step
Epoch 171/625
214/214 - 11s - loss: 1.6095 - accuracy: 0.1978 - val_loss: 1.6094 - val_accuracy: 0.2000 - lr: 0.0010 - 11s/epoch - 50ms/step
Epoch 172/625
214/214 - 11s - loss: 1.6095 - accuracy: 0.1978 - val_loss: 1.6094 - val_accuracy: 0.2000 - lr: 0.0010 - 11s/epoch - 50ms/step
Epoch 173/625
214/214 - 11s - loss: 1.6095 - accuracy: 0.1976 - val_loss: 1.6094 - val_accuracy: 0.2000 - lr: 0.0010 - 11s/epoch - 50ms/step
Epoch 174/625
214/214 - 11s - loss: 1.6095 - accuracy: 0.1984 - val_loss: 1.6094 - val_accuracy: 0.2000 - lr: 0.0010 - 11s/epoch - 50ms/step
Epoch 175/625
214/214 - 11s - loss: 1.6095 - accuracy: 0.2007 - val_loss: 1.6095 - val_accuracy: 0.2000 - lr: 0.0010 - 11s/epoch - 50ms/step
Epoch 176/625
214/214 - 11s - loss: 1.6095 - accuracy: 0.1988 - val_loss: 1.6094 - val_accuracy: 0.2000 - lr: 0.0010 - 11s/epoch - 50ms/step
Epoch 177/625
214/214 - 11s - loss: 1.6095 - accuracy: 0.1976 - val_loss: 1.6094 - val_accuracy: 0.2000 - lr: 0.0010 - 11s/epoch - 50ms/step
Epoch 178/625
214/214 - 11s - loss: 1.6095 - accuracy: 0.1989 - val_loss: 1.6094 - val_accuracy: 0.2000 - lr: 0.0010 - 11s/epoch - 50ms/step
Epoch 179/625
214/214 - 11s - loss: 1.6095 - accuracy: 0.1999 - val_loss: 1.6095 - val_accuracy: 0.2000 - lr: 0.0010 - 11s/epoch - 51ms/step
Epoch 180/625
214/214 - 11s - loss: 1.6095 - accuracy: 0.1984 - val_loss: 1.6094 - val_accuracy: 0.2000 - lr: 0.0010 - 11s/epoch - 49ms/step
Epoch 181/625
214/214 - 11s - loss: 1.6095 - accuracy: 0.1989 - val_loss: 1.6094 - val_accuracy: 0.2000 - lr: 0.0010 - 11s/epoch - 50ms/step
Epoch 182/625
214/214 - 11s - loss: 1.6095 - accuracy: 0.1986 - val_loss: 1.6094 - val_accuracy: 0.2000 - lr: 0.0010 - 11s/epoch - 50ms/step
Epoch 183/625
214/214 - 11s - loss: 1.6095 - accuracy: 0.1993 - val_loss: 1.6095 - val_accuracy: 0.2000 - lr: 0.0010 - 11s/epoch - 50ms/step
Epoch 184/625
214/214 - 11s - loss: 1.6095 - accuracy: 0.1990 - val_loss: 1.6095 - val_accuracy: 0.2000 - lr: 0.0010 - 11s/epoch - 50ms/step
Epoch 185/625
214/214 - 11s - loss: 1.6095 - accuracy: 0.1990 - val_loss: 1.6094 - val_accuracy: 0.2000 - lr: 0.0010 - 11s/epoch - 50ms/step
Epoch 186/625
214/214 - 11s - loss: 1.6095 - accuracy: 0.1987 - val_loss: 1.6094 - val_accuracy: 0.2000 - lr: 0.0010 - 11s/epoch - 50ms/step
Epoch 187/625
214/214 - 11s - loss: 1.6095 - accuracy: 0.1975 - val_loss: 1.6094 - val_accuracy: 0.2000 - lr: 0.0010 - 11s/epoch - 50ms/step
Epoch 188/625
214/214 - 11s - loss: 1.6095 - accuracy: 0.1965 - val_loss: 1.6094 - val_accuracy: 0.2000 - lr: 0.0010 - 11s/epoch - 50ms/step
Epoch 189/625
214/214 - 11s - loss: 1.6095 - accuracy: 0.1987 - val_loss: 1.6095 - val_accuracy: 0.2000 - lr: 0.0010 - 11s/epoch - 50ms/step
Epoch 190/625
214/214 - 11s - loss: 1.6095 - accuracy: 0.1989 - val_loss: 1.6094 - val_accuracy: 0.2000 - lr: 0.0010 - 11s/epoch - 50ms/step
Epoch 191/625
214/214 - 11s - loss: 1.6095 - accuracy: 0.1967 - val_loss: 1.6094 - val_accuracy: 0.2000 - lr: 0.0010 - 11s/epoch - 50ms/step
Epoch 192/625
214/214 - 11s - loss: 1.6095 - accuracy: 0.1993 - val_loss: 1.6094 - val_accuracy: 0.2000 - lr: 0.0010 - 11s/epoch - 50ms/step
Epoch 193/625
214/214 - 11s - loss: 1.6095 - accuracy: 0.1994 - val_loss: 1.6094 - val_accuracy: 0.2000 - lr: 0.0010 - 11s/epoch - 50ms/step
Epoch 194/625
214/214 - 11s - loss: 1.6095 - accuracy: 0.1993 - val_loss: 1.6094 - val_accuracy: 0.2000 - lr: 0.0010 - 11s/epoch - 49ms/step
Epoch 195/625
214/214 - 11s - loss: 1.6095 - accuracy: 0.1985 - val_loss: 1.6094 - val_accuracy: 0.2000 - lr: 0.0010 - 11s/epoch - 51ms/step
Epoch 196/625
214/214 - 11s - loss: 1.6095 - accuracy: 0.1993 - val_loss: 1.6095 - val_accuracy: 0.2000 - lr: 0.0010 - 11s/epoch - 50ms/step
Epoch 197/625
214/214 - 11s - loss: 1.6095 - accuracy: 0.1993 - val_loss: 1.6094 - val_accuracy: 0.2000 - lr: 0.0010 - 11s/epoch - 50ms/step
Epoch 198/625
214/214 - 11s - loss: 1.6095 - accuracy: 0.1964 - val_loss: 1.6094 - val_accuracy: 0.2000 - lr: 0.0010 - 11s/epoch - 50ms/step
Epoch 199/625
214/214 - 11s - loss: 1.6095 - accuracy: 0.1976 - val_loss: 1.6094 - val_accuracy: 0.2000 - lr: 0.0010 - 11s/epoch - 50ms/step
Epoch 200/625
214/214 - 11s - loss: 1.6095 - accuracy: 0.1992 - val_loss: 1.6095 - val_accuracy: 0.2000 - lr: 0.0010 - 11s/epoch - 51ms/step
Epoch 201/625
214/214 - 11s - loss: 1.6095 - accuracy: 0.1984 - val_loss: 1.6095 - val_accuracy: 0.2000 - lr: 0.0010 - 11s/epoch - 50ms/step
Epoch 202/625
214/214 - 11s - loss: 1.6095 - accuracy: 0.1966 - val_loss: 1.6094 - val_accuracy: 0.2000 - lr: 0.0010 - 11s/epoch - 50ms/step
Epoch 203/625
214/214 - 11s - loss: 1.6095 - accuracy: 0.1976 - val_loss: 1.6094 - val_accuracy: 0.2000 - lr: 0.0010 - 11s/epoch - 50ms/step
Epoch 204/625
214/214 - 11s - loss: 1.6095 - accuracy: 0.1991 - val_loss: 1.6094 - val_accuracy: 0.2000 - lr: 0.0010 - 11s/epoch - 50ms/step
Epoch 205/625
214/214 - 11s - loss: 1.6095 - accuracy: 0.1994 - val_loss: 1.6094 - val_accuracy: 0.2000 - lr: 0.0010 - 11s/epoch - 50ms/step
Epoch 206/625
214/214 - 11s - loss: 1.6095 - accuracy: 0.1998 - val_loss: 1.6095 - val_accuracy: 0.2000 - lr: 0.0010 - 11s/epoch - 50ms/step
Epoch 207/625
214/214 - 11s - loss: 1.6095 - accuracy: 0.1981 - val_loss: 1.6094 - val_accuracy: 0.2000 - lr: 0.0010 - 11s/epoch - 50ms/step
Epoch 208/625
214/214 - 11s - loss: 1.6095 - accuracy: 0.1990 - val_loss: 1.6094 - val_accuracy: 0.2000 - lr: 0.0010 - 11s/epoch - 50ms/step
Epoch 209/625
214/214 - 11s - loss: 1.6095 - accuracy: 0.1990 - val_loss: 1.6094 - val_accuracy: 0.2000 - lr: 0.0010 - 11s/epoch - 50ms/step
Epoch 210/625
214/214 - 11s - loss: 1.6095 - accuracy: 0.1981 - val_loss: 1.6094 - val_accuracy: 0.2000 - lr: 0.0010 - 11s/epoch - 50ms/step
Epoch 211/625
214/214 - 11s - loss: 1.6095 - accuracy: 0.1998 - val_loss: 1.6094 - val_accuracy: 0.2000 - lr: 0.0010 - 11s/epoch - 50ms/step
Epoch 212/625
214/214 - 11s - loss: 1.6095 - accuracy: 0.1997 - val_loss: 1.6095 - val_accuracy: 0.2000 - lr: 0.0010 - 11s/epoch - 50ms/step
Epoch 213/625
214/214 - 11s - loss: 1.6095 - accuracy: 0.1985 - val_loss: 1.6095 - val_accuracy: 0.2000 - lr: 0.0010 - 11s/epoch - 50ms/step
Epoch 214/625
214/214 - 11s - loss: 1.6095 - accuracy: 0.1992 - val_loss: 1.6094 - val_accuracy: 0.2000 - lr: 0.0010 - 11s/epoch - 50ms/step
Epoch 215/625
214/214 - 11s - loss: 1.6095 - accuracy: 0.1995 - val_loss: 1.6094 - val_accuracy: 0.2000 - lr: 0.0010 - 11s/epoch - 50ms/step
Epoch 216/625
214/214 - 11s - loss: 1.6095 - accuracy: 0.1976 - val_loss: 1.6094 - val_accuracy: 0.2000 - lr: 0.0010 - 11s/epoch - 50ms/step
Epoch 217/625
214/214 - 11s - loss: 1.6095 - accuracy: 0.1971 - val_loss: 1.6095 - val_accuracy: 0.2000 - lr: 0.0010 - 11s/epoch - 50ms/step
Epoch 218/625
214/214 - 11s - loss: 1.6095 - accuracy: 0.1992 - val_loss: 1.6095 - val_accuracy: 0.2000 - lr: 0.0010 - 11s/epoch - 50ms/step
Epoch 219/625
214/214 - 11s - loss: 1.6095 - accuracy: 0.1997 - val_loss: 1.6094 - val_accuracy: 0.2000 - lr: 0.0010 - 11s/epoch - 50ms/step
Epoch 220/625
214/214 - 11s - loss: 1.6095 - accuracy: 0.1986 - val_loss: 1.6094 - val_accuracy: 0.2000 - lr: 0.0010 - 11s/epoch - 50ms/step
Epoch 221/625
214/214 - 11s - loss: 1.6095 - accuracy: 0.1972 - val_loss: 1.6094 - val_accuracy: 0.2000 - lr: 0.0010 - 11s/epoch - 50ms/step
Epoch 222/625
214/214 - 11s - loss: 1.6095 - accuracy: 0.1962 - val_loss: 1.6094 - val_accuracy: 0.2000 - lr: 0.0010 - 11s/epoch - 50ms/step
Epoch 223/625
214/214 - 11s - loss: 1.6095 - accuracy: 0.1983 - val_loss: 1.6094 - val_accuracy: 0.2000 - lr: 0.0010 - 11s/epoch - 50ms/step
Epoch 224/625
214/214 - 11s - loss: 1.6095 - accuracy: 0.1982 - val_loss: 1.6095 - val_accuracy: 0.2000 - lr: 0.0010 - 11s/epoch - 50ms/step
Epoch 225/625
214/214 - 11s - loss: 1.6095 - accuracy: 0.1991 - val_loss: 1.6095 - val_accuracy: 0.2000 - lr: 0.0010 - 11s/epoch - 50ms/step
Epoch 226/625
214/214 - 11s - loss: 1.6095 - accuracy: 0.1975 - val_loss: 1.6094 - val_accuracy: 0.2000 - lr: 0.0010 - 11s/epoch - 50ms/step
Epoch 227/625
214/214 - 11s - loss: 1.6095 - accuracy: 0.1983 - val_loss: 1.6095 - val_accuracy: 0.2000 - lr: 0.0010 - 11s/epoch - 50ms/step
Epoch 228/625
214/214 - 11s - loss: 1.6095 - accuracy: 0.1993 - val_loss: 1.6094 - val_accuracy: 0.2000 - lr: 0.0010 - 11s/epoch - 49ms/step
Epoch 229/625
214/214 - 11s - loss: 1.6095 - accuracy: 0.1992 - val_loss: 1.6095 - val_accuracy: 0.2000 - lr: 0.0010 - 11s/epoch - 50ms/step
Epoch 230/625
214/214 - 11s - loss: 1.6095 - accuracy: 0.1983 - val_loss: 1.6094 - val_accuracy: 0.2000 - lr: 0.0010 - 11s/epoch - 50ms/step
Epoch 231/625
214/214 - 11s - loss: 1.6095 - accuracy: 0.1988 - val_loss: 1.6095 - val_accuracy: 0.2000 - lr: 0.0010 - 11s/epoch - 51ms/step
Epoch 232/625
214/214 - 11s - loss: 1.6095 - accuracy: 0.1981 - val_loss: 1.6094 - val_accuracy: 0.2000 - lr: 0.0010 - 11s/epoch - 50ms/step
Epoch 233/625
214/214 - 11s - loss: 1.6095 - accuracy: 0.1982 - val_loss: 1.6094 - val_accuracy: 0.2000 - lr: 0.0010 - 11s/epoch - 51ms/step
Epoch 234/625
214/214 - 11s - loss: 1.6095 - accuracy: 0.2000 - val_loss: 1.6094 - val_accuracy: 0.2000 - lr: 0.0010 - 11s/epoch - 50ms/step
Epoch 235/625
214/214 - 11s - loss: 1.6095 - accuracy: 0.2006 - val_loss: 1.6095 - val_accuracy: 0.2000 - lr: 0.0010 - 11s/epoch - 50ms/step
Epoch 236/625
214/214 - 11s - loss: 1.6095 - accuracy: 0.1985 - val_loss: 1.6094 - val_accuracy: 0.2000 - lr: 0.0010 - 11s/epoch - 50ms/step
Epoch 237/625
214/214 - 11s - loss: 1.6095 - accuracy: 0.1969 - val_loss: 1.6094 - val_accuracy: 0.2000 - lr: 0.0010 - 11s/epoch - 50ms/step
Epoch 238/625
214/214 - 11s - loss: 1.6095 - accuracy: 0.1972 - val_loss: 1.6094 - val_accuracy: 0.2000 - lr: 0.0010 - 11s/epoch - 50ms/step
Epoch 239/625
214/214 - 11s - loss: 1.6095 - accuracy: 0.1993 - val_loss: 1.6094 - val_accuracy: 0.2000 - lr: 0.0010 - 11s/epoch - 51ms/step
Epoch 240/625
214/214 - 11s - loss: 1.6095 - accuracy: 0.1995 - val_loss: 1.6095 - val_accuracy: 0.2000 - lr: 0.0010 - 11s/epoch - 50ms/step
Epoch 241/625
214/214 - 11s - loss: 1.6095 - accuracy: 0.1962 - val_loss: 1.6094 - val_accuracy: 0.2000 - lr: 0.0010 - 11s/epoch - 50ms/step
Epoch 242/625
214/214 - 11s - loss: 1.6095 - accuracy: 0.2005 - val_loss: 1.6094 - val_accuracy: 0.2000 - lr: 0.0010 - 11s/epoch - 50ms/step
Epoch 243/625
214/214 - 11s - loss: 1.6095 - accuracy: 0.1977 - val_loss: 1.6095 - val_accuracy: 0.2000 - lr: 0.0010 - 11s/epoch - 50ms/step
Epoch 244/625
214/214 - 11s - loss: 1.6095 - accuracy: 0.1982 - val_loss: 1.6094 - val_accuracy: 0.2000 - lr: 0.0010 - 11s/epoch - 50ms/step
Epoch 245/625
214/214 - 11s - loss: 1.6095 - accuracy: 0.2006 - val_loss: 1.6094 - val_accuracy: 0.2000 - lr: 0.0010 - 11s/epoch - 50ms/step
Epoch 246/625
214/214 - 11s - loss: 1.6095 - accuracy: 0.1982 - val_loss: 1.6095 - val_accuracy: 0.2000 - lr: 0.0010 - 11s/epoch - 50ms/step
Epoch 247/625
214/214 - 11s - loss: 1.6095 - accuracy: 0.1980 - val_loss: 1.6094 - val_accuracy: 0.2000 - lr: 0.0010 - 11s/epoch - 50ms/step
Epoch 248/625
214/214 - 11s - loss: 1.6095 - accuracy: 0.1970 - val_loss: 1.6094 - val_accuracy: 0.2000 - lr: 0.0010 - 11s/epoch - 50ms/step
Epoch 249/625
214/214 - 11s - loss: 1.6095 - accuracy: 0.1971 - val_loss: 1.6094 - val_accuracy: 0.2000 - lr: 0.0010 - 11s/epoch - 50ms/step
Epoch 250/625
214/214 - 11s - loss: 1.6095 - accuracy: 0.1983 - val_loss: 1.6094 - val_accuracy: 0.2000 - lr: 0.0010 - 11s/epoch - 50ms/step
Epoch 251/625
214/214 - 11s - loss: 1.6095 - accuracy: 0.1971 - val_loss: 1.6094 - val_accuracy: 0.2000 - lr: 0.0010 - 11s/epoch - 50ms/step
Epoch 252/625
214/214 - 11s - loss: 1.6095 - accuracy: 0.1980 - val_loss: 1.6095 - val_accuracy: 0.2000 - lr: 0.0010 - 11s/epoch - 50ms/step
Epoch 253/625
214/214 - 11s - loss: 1.6095 - accuracy: 0.1965 - val_loss: 1.6094 - val_accuracy: 0.2000 - lr: 0.0010 - 11s/epoch - 50ms/step
Epoch 254/625
214/214 - 11s - loss: 1.6095 - accuracy: 0.1982 - val_loss: 1.6094 - val_accuracy: 0.2000 - lr: 0.0010 - 11s/epoch - 50ms/step
Epoch 255/625
214/214 - 11s - loss: 1.6095 - accuracy: 0.1991 - val_loss: 1.6095 - val_accuracy: 0.2000 - lr: 0.0010 - 11s/epoch - 50ms/step
Epoch 256/625
214/214 - 11s - loss: 1.6095 - accuracy: 0.1998 - val_loss: 1.6095 - val_accuracy: 0.2000 - lr: 0.0010 - 11s/epoch - 50ms/step
Epoch 257/625
214/214 - 11s - loss: 1.6095 - accuracy: 0.1996 - val_loss: 1.6095 - val_accuracy: 0.2000 - lr: 0.0010 - 11s/epoch - 50ms/step
Epoch 258/625
214/214 - 11s - loss: 1.6095 - accuracy: 0.1954 - val_loss: 1.6094 - val_accuracy: 0.2000 - lr: 0.0010 - 11s/epoch - 50ms/step
Epoch 259/625
214/214 - 11s - loss: 1.6095 - accuracy: 0.1982 - val_loss: 1.6094 - val_accuracy: 0.2000 - lr: 0.0010 - 11s/epoch - 50ms/step
Epoch 260/625
214/214 - 11s - loss: 1.6095 - accuracy: 0.1992 - val_loss: 1.6095 - val_accuracy: 0.2000 - lr: 0.0010 - 11s/epoch - 50ms/step
Epoch 261/625
214/214 - 11s - loss: 1.6095 - accuracy: 0.1998 - val_loss: 1.6095 - val_accuracy: 0.2000 - lr: 0.0010 - 11s/epoch - 50ms/step
Epoch 262/625
214/214 - 11s - loss: 1.6095 - accuracy: 0.1975 - val_loss: 1.6094 - val_accuracy: 0.2000 - lr: 0.0010 - 11s/epoch - 50ms/step
Epoch 263/625
214/214 - 11s - loss: 1.6095 - accuracy: 0.1982 - val_loss: 1.6094 - val_accuracy: 0.2000 - lr: 0.0010 - 11s/epoch - 50ms/step
Epoch 264/625
214/214 - 11s - loss: 1.6095 - accuracy: 0.1993 - val_loss: 1.6095 - val_accuracy: 0.2000 - lr: 0.0010 - 11s/epoch - 50ms/step
Epoch 265/625
214/214 - 11s - loss: 1.6095 - accuracy: 0.1986 - val_loss: 1.6094 - val_accuracy: 0.2000 - lr: 0.0010 - 11s/epoch - 50ms/step
Epoch 266/625
214/214 - 11s - loss: 1.6095 - accuracy: 0.1999 - val_loss: 1.6094 - val_accuracy: 0.2000 - lr: 0.0010 - 11s/epoch - 50ms/step
Epoch 267/625
214/214 - 11s - loss: 1.6095 - accuracy: 0.1971 - val_loss: 1.6094 - val_accuracy: 0.2000 - lr: 0.0010 - 11s/epoch - 50ms/step
Epoch 268/625
214/214 - 11s - loss: 1.6095 - accuracy: 0.1979 - val_loss: 1.6094 - val_accuracy: 0.2000 - lr: 0.0010 - 11s/epoch - 50ms/step
Epoch 269/625
214/214 - 11s - loss: 1.6095 - accuracy: 0.1972 - val_loss: 1.6094 - val_accuracy: 0.2000 - lr: 0.0010 - 11s/epoch - 50ms/step
Epoch 270/625
214/214 - 11s - loss: 1.6095 - accuracy: 0.2004 - val_loss: 1.6094 - val_accuracy: 0.2000 - lr: 0.0010 - 11s/epoch - 50ms/step
Epoch 271/625
214/214 - 11s - loss: 1.6095 - accuracy: 0.1993 - val_loss: 1.6094 - val_accuracy: 0.2000 - lr: 0.0010 - 11s/epoch - 50ms/step
Epoch 272/625
214/214 - 11s - loss: 1.6095 - accuracy: 0.1985 - val_loss: 1.6094 - val_accuracy: 0.2000 - lr: 0.0010 - 11s/epoch - 50ms/step
Epoch 273/625
214/214 - 11s - loss: 1.6095 - accuracy: 0.1999 - val_loss: 1.6094 - val_accuracy: 0.2000 - lr: 0.0010 - 11s/epoch - 50ms/step
Epoch 274/625
214/214 - 11s - loss: 1.6095 - accuracy: 0.1993 - val_loss: 1.6094 - val_accuracy: 0.2000 - lr: 0.0010 - 11s/epoch - 50ms/step
Epoch 275/625
214/214 - 11s - loss: 1.6095 - accuracy: 0.1982 - val_loss: 1.6095 - val_accuracy: 0.2000 - lr: 0.0010 - 11s/epoch - 51ms/step
Epoch 276/625
214/214 - 11s - loss: 1.6095 - accuracy: 0.1996 - val_loss: 1.6094 - val_accuracy: 0.2000 - lr: 0.0010 - 11s/epoch - 52ms/step
Epoch 277/625
214/214 - 11s - loss: 1.6095 - accuracy: 0.1994 - val_loss: 1.6095 - val_accuracy: 0.2000 - lr: 0.0010 - 11s/epoch - 51ms/step
Epoch 278/625
214/214 - 11s - loss: 1.6095 - accuracy: 0.1985 - val_loss: 1.6094 - val_accuracy: 0.2000 - lr: 0.0010 - 11s/epoch - 51ms/step
Epoch 279/625
214/214 - 11s - loss: 1.6095 - accuracy: 0.1977 - val_loss: 1.6094 - val_accuracy: 0.2000 - lr: 0.0010 - 11s/epoch - 50ms/step
Epoch 280/625
214/214 - 11s - loss: 1.6095 - accuracy: 0.1972 - val_loss: 1.6094 - val_accuracy: 0.2000 - lr: 0.0010 - 11s/epoch - 50ms/step
Epoch 281/625
214/214 - 11s - loss: 1.6095 - accuracy: 0.1994 - val_loss: 1.6095 - val_accuracy: 0.2000 - lr: 0.0010 - 11s/epoch - 50ms/step
Epoch 282/625
214/214 - 11s - loss: 1.6095 - accuracy: 0.1997 - val_loss: 1.6094 - val_accuracy: 0.2000 - lr: 0.0010 - 11s/epoch - 50ms/step
Epoch 283/625
214/214 - 11s - loss: 1.6095 - accuracy: 0.1995 - val_loss: 1.6095 - val_accuracy: 0.2000 - lr: 0.0010 - 11s/epoch - 50ms/step
Epoch 284/625
214/214 - 11s - loss: 1.6095 - accuracy: 0.1983 - val_loss: 1.6094 - val_accuracy: 0.2000 - lr: 0.0010 - 11s/epoch - 50ms/step
Epoch 285/625
214/214 - 11s - loss: 1.6095 - accuracy: 0.1972 - val_loss: 1.6094 - val_accuracy: 0.2000 - lr: 0.0010 - 11s/epoch - 50ms/step
Epoch 286/625
214/214 - 11s - loss: 1.6095 - accuracy: 0.1990 - val_loss: 1.6095 - val_accuracy: 0.2000 - lr: 0.0010 - 11s/epoch - 50ms/step
Epoch 287/625
214/214 - 11s - loss: 1.6095 - accuracy: 0.1987 - val_loss: 1.6095 - val_accuracy: 0.2000 - lr: 0.0010 - 11s/epoch - 50ms/step
Epoch 288/625
214/214 - 11s - loss: 1.6095 - accuracy: 0.1995 - val_loss: 1.6094 - val_accuracy: 0.2000 - lr: 0.0010 - 11s/epoch - 50ms/step
Epoch 289/625
214/214 - 11s - loss: 1.6095 - accuracy: 0.1980 - val_loss: 1.6095 - val_accuracy: 0.2000 - lr: 0.0010 - 11s/epoch - 50ms/step
Epoch 290/625
214/214 - 11s - loss: 1.6095 - accuracy: 0.1997 - val_loss: 1.6094 - val_accuracy: 0.2000 - lr: 0.0010 - 11s/epoch - 50ms/step
Epoch 291/625
214/214 - 11s - loss: 1.6095 - accuracy: 0.1990 - val_loss: 1.6095 - val_accuracy: 0.2000 - lr: 0.0010 - 11s/epoch - 50ms/step
Epoch 292/625
214/214 - 11s - loss: 1.6095 - accuracy: 0.1987 - val_loss: 1.6095 - val_accuracy: 0.2000 - lr: 0.0010 - 11s/epoch - 50ms/step
Epoch 293/625
214/214 - 11s - loss: 1.6095 - accuracy: 0.1988 - val_loss: 1.6094 - val_accuracy: 0.2000 - lr: 0.0010 - 11s/epoch - 50ms/step
Epoch 294/625
214/214 - 11s - loss: 1.6095 - accuracy: 0.1966 - val_loss: 1.6094 - val_accuracy: 0.2000 - lr: 0.0010 - 11s/epoch - 50ms/step
Epoch 295/625
214/214 - 11s - loss: 1.6095 - accuracy: 0.1984 - val_loss: 1.6095 - val_accuracy: 0.2000 - lr: 0.0010 - 11s/epoch - 50ms/step
Epoch 296/625
214/214 - 11s - loss: 1.6095 - accuracy: 0.1983 - val_loss: 1.6094 - val_accuracy: 0.2000 - lr: 0.0010 - 11s/epoch - 50ms/step
Epoch 297/625
214/214 - 11s - loss: 1.6095 - accuracy: 0.2002 - val_loss: 1.6094 - val_accuracy: 0.2000 - lr: 0.0010 - 11s/epoch - 50ms/step
Epoch 298/625
214/214 - 11s - loss: 1.6095 - accuracy: 0.1988 - val_loss: 1.6095 - val_accuracy: 0.2000 - lr: 0.0010 - 11s/epoch - 50ms/step
Epoch 299/625
214/214 - 11s - loss: 1.6095 - accuracy: 0.1988 - val_loss: 1.6094 - val_accuracy: 0.2000 - lr: 0.0010 - 11s/epoch - 50ms/step
Epoch 300/625
214/214 - 11s - loss: 1.6095 - accuracy: 0.1989 - val_loss: 1.6094 - val_accuracy: 0.2000 - lr: 0.0010 - 11s/epoch - 50ms/step
Epoch 301/625
214/214 - 11s - loss: 1.6095 - accuracy: 0.1993 - val_loss: 1.6095 - val_accuracy: 0.2000 - lr: 0.0010 - 11s/epoch - 50ms/step
Epoch 302/625
214/214 - 11s - loss: 1.6095 - accuracy: 0.1990 - val_loss: 1.6094 - val_accuracy: 0.2000 - lr: 0.0010 - 11s/epoch - 50ms/step
Epoch 303/625
214/214 - 11s - loss: 1.6095 - accuracy: 0.1975 - val_loss: 1.6094 - val_accuracy: 0.2000 - lr: 0.0010 - 11s/epoch - 51ms/step
Epoch 304/625
214/214 - 11s - loss: 1.6095 - accuracy: 0.1964 - val_loss: 1.6094 - val_accuracy: 0.2000 - lr: 0.0010 - 11s/epoch - 50ms/step
Epoch 305/625
214/214 - 11s - loss: 1.6095 - accuracy: 0.1957 - val_loss: 1.6094 - val_accuracy: 0.2000 - lr: 0.0010 - 11s/epoch - 50ms/step
Epoch 306/625
214/214 - 11s - loss: 1.6095 - accuracy: 0.1975 - val_loss: 1.6094 - val_accuracy: 0.2000 - lr: 0.0010 - 11s/epoch - 50ms/step
Epoch 307/625
214/214 - 11s - loss: 1.6095 - accuracy: 0.2005 - val_loss: 1.6095 - val_accuracy: 0.2000 - lr: 0.0010 - 11s/epoch - 50ms/step
Epoch 308/625
214/214 - 11s - loss: 1.6095 - accuracy: 0.1992 - val_loss: 1.6094 - val_accuracy: 0.2000 - lr: 0.0010 - 11s/epoch - 50ms/step
Epoch 309/625
214/214 - 11s - loss: 1.6095 - accuracy: 0.1986 - val_loss: 1.6094 - val_accuracy: 0.2000 - lr: 0.0010 - 11s/epoch - 50ms/step
Epoch 310/625
214/214 - 11s - loss: 1.6095 - accuracy: 0.1978 - val_loss: 1.6094 - val_accuracy: 0.2000 - lr: 0.0010 - 11s/epoch - 50ms/step
Epoch 311/625
214/214 - 11s - loss: 1.6095 - accuracy: 0.2006 - val_loss: 1.6095 - val_accuracy: 0.2000 - lr: 0.0010 - 11s/epoch - 50ms/step
Epoch 312/625
214/214 - 11s - loss: 1.6095 - accuracy: 0.1992 - val_loss: 1.6094 - val_accuracy: 0.2000 - lr: 0.0010 - 11s/epoch - 50ms/step
Epoch 313/625
214/214 - 11s - loss: 1.6095 - accuracy: 0.1988 - val_loss: 1.6095 - val_accuracy: 0.2000 - lr: 0.0010 - 11s/epoch - 50ms/step
Epoch 314/625
214/214 - 11s - loss: 1.6095 - accuracy: 0.1988 - val_loss: 1.6094 - val_accuracy: 0.2000 - lr: 0.0010 - 11s/epoch - 50ms/step
Epoch 315/625
214/214 - 11s - loss: 1.6095 - accuracy: 0.2005 - val_loss: 1.6094 - val_accuracy: 0.2000 - lr: 0.0010 - 11s/epoch - 50ms/step
Epoch 316/625
214/214 - 11s - loss: 1.6095 - accuracy: 0.1975 - val_loss: 1.6094 - val_accuracy: 0.2000 - lr: 0.0010 - 11s/epoch - 50ms/step
Epoch 317/625
214/214 - 11s - loss: 1.6095 - accuracy: 0.1961 - val_loss: 1.6094 - val_accuracy: 0.2000 - lr: 0.0010 - 11s/epoch - 50ms/step
Epoch 318/625
214/214 - 11s - loss: 1.6095 - accuracy: 0.1977 - val_loss: 1.6094 - val_accuracy: 0.2000 - lr: 0.0010 - 11s/epoch - 50ms/step
Epoch 319/625
214/214 - 11s - loss: 1.6095 - accuracy: 0.1989 - val_loss: 1.6094 - val_accuracy: 0.2000 - lr: 0.0010 - 11s/epoch - 50ms/step
Epoch 320/625
214/214 - 11s - loss: 1.6095 - accuracy: 0.1965 - val_loss: 1.6094 - val_accuracy: 0.2000 - lr: 0.0010 - 11s/epoch - 50ms/step
Epoch 321/625
214/214 - 11s - loss: 1.6095 - accuracy: 0.1998 - val_loss: 1.6094 - val_accuracy: 0.2000 - lr: 0.0010 - 11s/epoch - 50ms/step
Epoch 322/625
214/214 - 11s - loss: 1.6095 - accuracy: 0.1980 - val_loss: 1.6094 - val_accuracy: 0.2000 - lr: 0.0010 - 11s/epoch - 50ms/step
Epoch 323/625
214/214 - 11s - loss: 1.6095 - accuracy: 0.1995 - val_loss: 1.6095 - val_accuracy: 0.2000 - lr: 0.0010 - 11s/epoch - 50ms/step
Epoch 324/625
214/214 - 11s - loss: 1.6095 - accuracy: 0.2003 - val_loss: 1.6095 - val_accuracy: 0.2000 - lr: 0.0010 - 11s/epoch - 50ms/step
Epoch 325/625
214/214 - 11s - loss: 1.6095 - accuracy: 0.1995 - val_loss: 1.6094 - val_accuracy: 0.2000 - lr: 0.0010 - 11s/epoch - 50ms/step
Epoch 326/625
214/214 - 11s - loss: 1.6095 - accuracy: 0.1980 - val_loss: 1.6094 - val_accuracy: 0.2000 - lr: 0.0010 - 11s/epoch - 51ms/step
Epoch 327/625
214/214 - 11s - loss: 1.6095 - accuracy: 0.1982 - val_loss: 1.6095 - val_accuracy: 0.2000 - lr: 0.0010 - 11s/epoch - 50ms/step
Epoch 328/625
214/214 - 11s - loss: 1.6095 - accuracy: 0.2002 - val_loss: 1.6094 - val_accuracy: 0.2000 - lr: 0.0010 - 11s/epoch - 50ms/step
Epoch 329/625
214/214 - 11s - loss: 1.6095 - accuracy: 0.1997 - val_loss: 1.6094 - val_accuracy: 0.2000 - lr: 0.0010 - 11s/epoch - 50ms/step
Epoch 330/625
214/214 - 11s - loss: 1.6095 - accuracy: 0.1985 - val_loss: 1.6094 - val_accuracy: 0.2000 - lr: 0.0010 - 11s/epoch - 50ms/step
Epoch 331/625
214/214 - 11s - loss: 1.6095 - accuracy: 0.1985 - val_loss: 1.6094 - val_accuracy: 0.2000 - lr: 0.0010 - 11s/epoch - 50ms/step
Epoch 332/625
214/214 - 11s - loss: 1.6095 - accuracy: 0.1967 - val_loss: 1.6094 - val_accuracy: 0.2000 - lr: 0.0010 - 11s/epoch - 50ms/step
Epoch 333/625
214/214 - 11s - loss: 1.6095 - accuracy: 0.1997 - val_loss: 1.6095 - val_accuracy: 0.2000 - lr: 0.0010 - 11s/epoch - 50ms/step
Epoch 334/625
214/214 - 11s - loss: 1.6095 - accuracy: 0.1977 - val_loss: 1.6094 - val_accuracy: 0.2000 - lr: 0.0010 - 11s/epoch - 50ms/step
Epoch 335/625
214/214 - 11s - loss: 1.6095 - accuracy: 0.1972 - val_loss: 1.6094 - val_accuracy: 0.2000 - lr: 0.0010 - 11s/epoch - 50ms/step
Epoch 336/625
214/214 - 11s - loss: 1.6095 - accuracy: 0.1994 - val_loss: 1.6095 - val_accuracy: 0.2000 - lr: 0.0010 - 11s/epoch - 51ms/step
Epoch 337/625
214/214 - 11s - loss: 1.6095 - accuracy: 0.1990 - val_loss: 1.6095 - val_accuracy: 0.2000 - lr: 0.0010 - 11s/epoch - 51ms/step
Epoch 338/625
214/214 - 11s - loss: 1.6095 - accuracy: 0.1981 - val_loss: 1.6094 - val_accuracy: 0.2000 - lr: 0.0010 - 11s/epoch - 50ms/step
Epoch 339/625
214/214 - 11s - loss: 1.6095 - accuracy: 0.1995 - val_loss: 1.6094 - val_accuracy: 0.2000 - lr: 0.0010 - 11s/epoch - 50ms/step
Epoch 340/625
214/214 - 11s - loss: 1.6095 - accuracy: 0.1977 - val_loss: 1.6094 - val_accuracy: 0.2000 - lr: 0.0010 - 11s/epoch - 50ms/step
Epoch 341/625
214/214 - 11s - loss: 1.6095 - accuracy: 0.1990 - val_loss: 1.6094 - val_accuracy: 0.2000 - lr: 0.0010 - 11s/epoch - 50ms/step
Epoch 342/625
214/214 - 11s - loss: 1.6095 - accuracy: 0.1991 - val_loss: 1.6095 - val_accuracy: 0.2000 - lr: 0.0010 - 11s/epoch - 50ms/step
Epoch 343/625
214/214 - 11s - loss: 1.6095 - accuracy: 0.1999 - val_loss: 1.6095 - val_accuracy: 0.2000 - lr: 0.0010 - 11s/epoch - 51ms/step
Epoch 344/625
214/214 - 11s - loss: 1.6095 - accuracy: 0.1962 - val_loss: 1.6094 - val_accuracy: 0.2000 - lr: 0.0010 - 11s/epoch - 50ms/step
Epoch 345/625
214/214 - 11s - loss: 1.6095 - accuracy: 0.1996 - val_loss: 1.6094 - val_accuracy: 0.2000 - lr: 0.0010 - 11s/epoch - 50ms/step
Epoch 346/625
214/214 - 11s - loss: 1.6095 - accuracy: 0.1985 - val_loss: 1.6094 - val_accuracy: 0.2000 - lr: 0.0010 - 11s/epoch - 50ms/step
Epoch 347/625
214/214 - 11s - loss: 1.6095 - accuracy: 0.1986 - val_loss: 1.6094 - val_accuracy: 0.2000 - lr: 0.0010 - 11s/epoch - 50ms/step
Epoch 348/625
214/214 - 11s - loss: 1.6095 - accuracy: 0.1964 - val_loss: 1.6094 - val_accuracy: 0.2000 - lr: 0.0010 - 11s/epoch - 50ms/step
Epoch 349/625
214/214 - 11s - loss: 1.6095 - accuracy: 0.1994 - val_loss: 1.6094 - val_accuracy: 0.2000 - lr: 0.0010 - 11s/epoch - 50ms/step
Epoch 350/625
214/214 - 11s - loss: 1.6095 - accuracy: 0.1991 - val_loss: 1.6095 - val_accuracy: 0.2000 - lr: 0.0010 - 11s/epoch - 50ms/step
Epoch 351/625
214/214 - 11s - loss: 1.6095 - accuracy: 0.1978 - val_loss: 1.6094 - val_accuracy: 0.2000 - lr: 0.0010 - 11s/epoch - 49ms/step
Epoch 352/625
214/214 - 11s - loss: 1.6095 - accuracy: 0.1989 - val_loss: 1.6094 - val_accuracy: 0.2000 - lr: 0.0010 - 11s/epoch - 50ms/step
Epoch 353/625
214/214 - 11s - loss: 1.6095 - accuracy: 0.1999 - val_loss: 1.6094 - val_accuracy: 0.2000 - lr: 0.0010 - 11s/epoch - 50ms/step
Epoch 354/625
214/214 - 11s - loss: 1.6095 - accuracy: 0.1976 - val_loss: 1.6094 - val_accuracy: 0.2000 - lr: 0.0010 - 11s/epoch - 50ms/step
Epoch 355/625
214/214 - 11s - loss: 1.6095 - accuracy: 0.1991 - val_loss: 1.6094 - val_accuracy: 0.2000 - lr: 0.0010 - 11s/epoch - 50ms/step
Epoch 356/625
214/214 - 11s - loss: 1.6095 - accuracy: 0.1964 - val_loss: 1.6094 - val_accuracy: 0.2000 - lr: 0.0010 - 11s/epoch - 50ms/step
Epoch 357/625
214/214 - 11s - loss: 1.6095 - accuracy: 0.1985 - val_loss: 1.6094 - val_accuracy: 0.2000 - lr: 0.0010 - 11s/epoch - 50ms/step
Epoch 358/625
214/214 - 11s - loss: 1.6095 - accuracy: 0.1977 - val_loss: 1.6094 - val_accuracy: 0.2000 - lr: 0.0010 - 11s/epoch - 50ms/step
Epoch 359/625
214/214 - 11s - loss: 1.6095 - accuracy: 0.1995 - val_loss: 1.6094 - val_accuracy: 0.2000 - lr: 0.0010 - 11s/epoch - 50ms/step
Epoch 360/625
214/214 - 11s - loss: 1.6095 - accuracy: 0.2001 - val_loss: 1.6094 - val_accuracy: 0.2000 - lr: 0.0010 - 11s/epoch - 50ms/step
Epoch 361/625
214/214 - 11s - loss: 1.6095 - accuracy: 0.1995 - val_loss: 1.6095 - val_accuracy: 0.2000 - lr: 0.0010 - 11s/epoch - 50ms/step
Epoch 362/625
214/214 - 11s - loss: 1.6095 - accuracy: 0.1996 - val_loss: 1.6094 - val_accuracy: 0.2000 - lr: 0.0010 - 11s/epoch - 50ms/step
Epoch 363/625
214/214 - 11s - loss: 1.6095 - accuracy: 0.1991 - val_loss: 1.6094 - val_accuracy: 0.2000 - lr: 0.0010 - 11s/epoch - 50ms/step
Epoch 364/625
214/214 - 11s - loss: 1.6095 - accuracy: 0.1985 - val_loss: 1.6094 - val_accuracy: 0.2000 - lr: 0.0010 - 11s/epoch - 50ms/step
Epoch 365/625
214/214 - 11s - loss: 1.6095 - accuracy: 0.1997 - val_loss: 1.6094 - val_accuracy: 0.2000 - lr: 0.0010 - 11s/epoch - 51ms/step
Epoch 366/625
214/214 - 11s - loss: 1.6095 - accuracy: 0.1987 - val_loss: 1.6094 - val_accuracy: 0.2000 - lr: 0.0010 - 11s/epoch - 50ms/step
Epoch 367/625
214/214 - 11s - loss: 1.6095 - accuracy: 0.2000 - val_loss: 1.6095 - val_accuracy: 0.2000 - lr: 0.0010 - 11s/epoch - 50ms/step
Epoch 368/625
214/214 - 11s - loss: 1.6095 - accuracy: 0.1985 - val_loss: 1.6094 - val_accuracy: 0.2000 - lr: 0.0010 - 11s/epoch - 50ms/step
Epoch 369/625
214/214 - 11s - loss: 1.6095 - accuracy: 0.1981 - val_loss: 1.6094 - val_accuracy: 0.2000 - lr: 0.0010 - 11s/epoch - 51ms/step
Epoch 370/625
214/214 - 11s - loss: 1.6095 - accuracy: 0.1991 - val_loss: 1.6094 - val_accuracy: 0.2000 - lr: 0.0010 - 11s/epoch - 50ms/step
Epoch 371/625
214/214 - 11s - loss: 1.6095 - accuracy: 0.1976 - val_loss: 1.6094 - val_accuracy: 0.2000 - lr: 0.0010 - 11s/epoch - 51ms/step
Epoch 372/625
214/214 - 11s - loss: 1.6095 - accuracy: 0.1979 - val_loss: 1.6094 - val_accuracy: 0.2000 - lr: 0.0010 - 11s/epoch - 50ms/step
Epoch 373/625
214/214 - 11s - loss: 1.6095 - accuracy: 0.1985 - val_loss: 1.6094 - val_accuracy: 0.2000 - lr: 0.0010 - 11s/epoch - 50ms/step
Epoch 374/625
214/214 - 11s - loss: 1.6095 - accuracy: 0.1986 - val_loss: 1.6095 - val_accuracy: 0.2000 - lr: 0.0010 - 11s/epoch - 50ms/step
Epoch 375/625
214/214 - 11s - loss: 1.6095 - accuracy: 0.1989 - val_loss: 1.6095 - val_accuracy: 0.2000 - lr: 0.0010 - 11s/epoch - 51ms/step
Epoch 376/625
214/214 - 11s - loss: 1.6095 - accuracy: 0.1979 - val_loss: 1.6094 - val_accuracy: 0.2000 - lr: 0.0010 - 11s/epoch - 50ms/step
Epoch 377/625
214/214 - 11s - loss: 1.6095 - accuracy: 0.1982 - val_loss: 1.6094 - val_accuracy: 0.2000 - lr: 0.0010 - 11s/epoch - 51ms/step
Epoch 378/625
214/214 - 11s - loss: 1.6095 - accuracy: 0.1993 - val_loss: 1.6094 - val_accuracy: 0.2000 - lr: 0.0010 - 11s/epoch - 50ms/step
Epoch 379/625
214/214 - 11s - loss: 1.6095 - accuracy: 0.1969 - val_loss: 1.6094 - val_accuracy: 0.2000 - lr: 0.0010 - 11s/epoch - 51ms/step
Epoch 380/625
214/214 - 11s - loss: 1.6095 - accuracy: 0.1985 - val_loss: 1.6094 - val_accuracy: 0.2000 - lr: 0.0010 - 11s/epoch - 50ms/step
Epoch 381/625
214/214 - 11s - loss: 1.6095 - accuracy: 0.1986 - val_loss: 1.6094 - val_accuracy: 0.2000 - lr: 0.0010 - 11s/epoch - 51ms/step
Epoch 382/625
214/214 - 11s - loss: 1.6095 - accuracy: 0.1974 - val_loss: 1.6094 - val_accuracy: 0.2000 - lr: 0.0010 - 11s/epoch - 51ms/step
Epoch 383/625
214/214 - 11s - loss: 1.6095 - accuracy: 0.1997 - val_loss: 1.6095 - val_accuracy: 0.2000 - lr: 0.0010 - 11s/epoch - 51ms/step
Epoch 384/625
214/214 - 11s - loss: 1.6095 - accuracy: 0.1970 - val_loss: 1.6094 - val_accuracy: 0.2000 - lr: 0.0010 - 11s/epoch - 50ms/step
Epoch 385/625
214/214 - 11s - loss: 1.6095 - accuracy: 0.1978 - val_loss: 1.6095 - val_accuracy: 0.2000 - lr: 0.0010 - 11s/epoch - 50ms/step
Epoch 386/625
214/214 - 11s - loss: 1.6095 - accuracy: 0.1973 - val_loss: 1.6095 - val_accuracy: 0.2000 - lr: 0.0010 - 11s/epoch - 50ms/step
Epoch 387/625
214/214 - 11s - loss: 1.6095 - accuracy: 0.1955 - val_loss: 1.6094 - val_accuracy: 0.2000 - lr: 0.0010 - 11s/epoch - 51ms/step
Epoch 388/625
214/214 - 11s - loss: 1.6095 - accuracy: 0.1978 - val_loss: 1.6094 - val_accuracy: 0.2000 - lr: 0.0010 - 11s/epoch - 50ms/step
Epoch 389/625
214/214 - 11s - loss: 1.6095 - accuracy: 0.1989 - val_loss: 1.6094 - val_accuracy: 0.2000 - lr: 0.0010 - 11s/epoch - 50ms/step
Epoch 390/625
214/214 - 11s - loss: 1.6095 - accuracy: 0.2003 - val_loss: 1.6094 - val_accuracy: 0.2000 - lr: 0.0010 - 11s/epoch - 50ms/step
Epoch 391/625
214/214 - 11s - loss: 1.6095 - accuracy: 0.1978 - val_loss: 1.6094 - val_accuracy: 0.2000 - lr: 0.0010 - 11s/epoch - 50ms/step
Epoch 392/625
214/214 - 11s - loss: 1.6095 - accuracy: 0.2006 - val_loss: 1.6094 - val_accuracy: 0.2000 - lr: 0.0010 - 11s/epoch - 50ms/step
Epoch 393/625
214/214 - 11s - loss: 1.6095 - accuracy: 0.1977 - val_loss: 1.6094 - val_accuracy: 0.2000 - lr: 0.0010 - 11s/epoch - 50ms/step
Epoch 394/625
214/214 - 11s - loss: 1.6095 - accuracy: 0.1963 - val_loss: 1.6094 - val_accuracy: 0.2000 - lr: 0.0010 - 11s/epoch - 50ms/step
Epoch 395/625
214/214 - 11s - loss: 1.6095 - accuracy: 0.1989 - val_loss: 1.6094 - val_accuracy: 0.2000 - lr: 0.0010 - 11s/epoch - 50ms/step
Epoch 396/625
214/214 - 11s - loss: 1.6095 - accuracy: 0.1969 - val_loss: 1.6094 - val_accuracy: 0.2000 - lr: 0.0010 - 11s/epoch - 50ms/step
Epoch 397/625
214/214 - 11s - loss: 1.6095 - accuracy: 0.1980 - val_loss: 1.6094 - val_accuracy: 0.2000 - lr: 0.0010 - 11s/epoch - 51ms/step
Epoch 398/625
214/214 - 11s - loss: 1.6095 - accuracy: 0.1996 - val_loss: 1.6094 - val_accuracy: 0.2000 - lr: 0.0010 - 11s/epoch - 50ms/step
Epoch 399/625
214/214 - 11s - loss: 1.6095 - accuracy: 0.1983 - val_loss: 1.6095 - val_accuracy: 0.2000 - lr: 0.0010 - 11s/epoch - 51ms/step
Epoch 400/625
214/214 - 11s - loss: 1.6095 - accuracy: 0.1990 - val_loss: 1.6094 - val_accuracy: 0.2000 - lr: 0.0010 - 11s/epoch - 50ms/step
Epoch 401/625
214/214 - 11s - loss: 1.6095 - accuracy: 0.1995 - val_loss: 1.6095 - val_accuracy: 0.2000 - lr: 0.0010 - 11s/epoch - 51ms/step
Epoch 402/625
214/214 - 11s - loss: 1.6095 - accuracy: 0.1989 - val_loss: 1.6094 - val_accuracy: 0.2000 - lr: 0.0010 - 11s/epoch - 51ms/step
Epoch 403/625
214/214 - 11s - loss: 1.6095 - accuracy: 0.1996 - val_loss: 1.6094 - val_accuracy: 0.2000 - lr: 0.0010 - 11s/epoch - 50ms/step
Epoch 404/625
214/214 - 11s - loss: 1.6095 - accuracy: 0.1983 - val_loss: 1.6094 - val_accuracy: 0.2000 - lr: 0.0010 - 11s/epoch - 50ms/step
Epoch 405/625
214/214 - 11s - loss: 1.6095 - accuracy: 0.1999 - val_loss: 1.6094 - val_accuracy: 0.2000 - lr: 0.0010 - 11s/epoch - 51ms/step
Epoch 406/625
214/214 - 11s - loss: 1.6095 - accuracy: 0.1980 - val_loss: 1.6094 - val_accuracy: 0.2000 - lr: 0.0010 - 11s/epoch - 50ms/step
Epoch 407/625
214/214 - 11s - loss: 1.6095 - accuracy: 0.1988 - val_loss: 1.6094 - val_accuracy: 0.2000 - lr: 0.0010 - 11s/epoch - 51ms/step
Epoch 408/625
214/214 - 11s - loss: 1.6095 - accuracy: 0.1980 - val_loss: 1.6094 - val_accuracy: 0.2000 - lr: 0.0010 - 11s/epoch - 50ms/step
Epoch 409/625
214/214 - 11s - loss: 1.6095 - accuracy: 0.1985 - val_loss: 1.6095 - val_accuracy: 0.2000 - lr: 0.0010 - 11s/epoch - 50ms/step
Epoch 410/625
214/214 - 11s - loss: 1.6095 - accuracy: 0.1975 - val_loss: 1.6095 - val_accuracy: 0.2000 - lr: 0.0010 - 11s/epoch - 51ms/step
Epoch 411/625
214/214 - 11s - loss: 1.6095 - accuracy: 0.1982 - val_loss: 1.6095 - val_accuracy: 0.2000 - lr: 0.0010 - 11s/epoch - 51ms/step
Epoch 412/625
214/214 - 11s - loss: 1.6095 - accuracy: 0.1990 - val_loss: 1.6094 - val_accuracy: 0.2000 - lr: 0.0010 - 11s/epoch - 50ms/step
Epoch 413/625
214/214 - 11s - loss: 1.6095 - accuracy: 0.1982 - val_loss: 1.6094 - val_accuracy: 0.2000 - lr: 0.0010 - 11s/epoch - 51ms/step
Epoch 414/625
214/214 - 11s - loss: 1.6095 - accuracy: 0.1988 - val_loss: 1.6094 - val_accuracy: 0.2000 - lr: 0.0010 - 11s/epoch - 51ms/step
Epoch 415/625
214/214 - 11s - loss: 1.6095 - accuracy: 0.1991 - val_loss: 1.6094 - val_accuracy: 0.2000 - lr: 0.0010 - 11s/epoch - 50ms/step
Epoch 416/625
214/214 - 11s - loss: 1.6095 - accuracy: 0.1976 - val_loss: 1.6094 - val_accuracy: 0.2000 - lr: 0.0010 - 11s/epoch - 50ms/step
Epoch 417/625
214/214 - 11s - loss: 1.6095 - accuracy: 0.1985 - val_loss: 1.6094 - val_accuracy: 0.2000 - lr: 0.0010 - 11s/epoch - 50ms/step
Epoch 418/625
214/214 - 11s - loss: 1.6095 - accuracy: 0.1985 - val_loss: 1.6094 - val_accuracy: 0.2000 - lr: 0.0010 - 11s/epoch - 50ms/step
Epoch 419/625
214/214 - 11s - loss: 1.6095 - accuracy: 0.1969 - val_loss: 1.6094 - val_accuracy: 0.2000 - lr: 0.0010 - 11s/epoch - 51ms/step
Epoch 420/625
214/214 - 11s - loss: 1.6095 - accuracy: 0.1989 - val_loss: 1.6095 - val_accuracy: 0.2000 - lr: 0.0010 - 11s/epoch - 50ms/step
Epoch 421/625
214/214 - 11s - loss: 1.6095 - accuracy: 0.1997 - val_loss: 1.6095 - val_accuracy: 0.2000 - lr: 0.0010 - 11s/epoch - 50ms/step
Epoch 422/625
214/214 - 11s - loss: 1.6095 - accuracy: 0.1985 - val_loss: 1.6094 - val_accuracy: 0.2000 - lr: 0.0010 - 11s/epoch - 50ms/step
Epoch 423/625
214/214 - 11s - loss: 1.6095 - accuracy: 0.1973 - val_loss: 1.6094 - val_accuracy: 0.2000 - lr: 0.0010 - 11s/epoch - 50ms/step
Epoch 424/625
214/214 - 11s - loss: 1.6095 - accuracy: 0.1998 - val_loss: 1.6095 - val_accuracy: 0.2000 - lr: 0.0010 - 11s/epoch - 51ms/step
Epoch 425/625
214/214 - 11s - loss: 1.6095 - accuracy: 0.1979 - val_loss: 1.6094 - val_accuracy: 0.2000 - lr: 0.0010 - 11s/epoch - 50ms/step
Epoch 426/625
214/214 - 11s - loss: 1.6095 - accuracy: 0.1986 - val_loss: 1.6095 - val_accuracy: 0.2000 - lr: 0.0010 - 11s/epoch - 50ms/step
Epoch 427/625
214/214 - 11s - loss: 1.6095 - accuracy: 0.1989 - val_loss: 1.6094 - val_accuracy: 0.2000 - lr: 0.0010 - 11s/epoch - 50ms/step
Epoch 428/625
214/214 - 11s - loss: 1.6095 - accuracy: 0.1981 - val_loss: 1.6094 - val_accuracy: 0.2000 - lr: 0.0010 - 11s/epoch - 51ms/step
Epoch 429/625
214/214 - 11s - loss: 1.6095 - accuracy: 0.1983 - val_loss: 1.6094 - val_accuracy: 0.2000 - lr: 0.0010 - 11s/epoch - 50ms/step
Epoch 430/625
214/214 - 11s - loss: 1.6095 - accuracy: 0.1968 - val_loss: 1.6094 - val_accuracy: 0.2000 - lr: 0.0010 - 11s/epoch - 51ms/step
Epoch 431/625
214/214 - 11s - loss: 1.6095 - accuracy: 0.1978 - val_loss: 1.6094 - val_accuracy: 0.2000 - lr: 0.0010 - 11s/epoch - 51ms/step
Epoch 432/625
214/214 - 11s - loss: 1.6095 - accuracy: 0.1974 - val_loss: 1.6094 - val_accuracy: 0.2000 - lr: 0.0010 - 11s/epoch - 50ms/step
Epoch 433/625
214/214 - 11s - loss: 1.6095 - accuracy: 0.1981 - val_loss: 1.6094 - val_accuracy: 0.2000 - lr: 0.0010 - 11s/epoch - 50ms/step
Epoch 434/625
214/214 - 11s - loss: 1.6095 - accuracy: 0.1964 - val_loss: 1.6094 - val_accuracy: 0.2000 - lr: 0.0010 - 11s/epoch - 50ms/step
Epoch 435/625
214/214 - 11s - loss: 1.6095 - accuracy: 0.1974 - val_loss: 1.6094 - val_accuracy: 0.2000 - lr: 0.0010 - 11s/epoch - 50ms/step
Epoch 436/625
214/214 - 11s - loss: 1.6095 - accuracy: 0.1983 - val_loss: 1.6094 - val_accuracy: 0.2000 - lr: 0.0010 - 11s/epoch - 50ms/step
Epoch 437/625
214/214 - 11s - loss: 1.6095 - accuracy: 0.1983 - val_loss: 1.6094 - val_accuracy: 0.2000 - lr: 0.0010 - 11s/epoch - 51ms/step
Epoch 438/625
214/214 - 11s - loss: 1.6095 - accuracy: 0.1983 - val_loss: 1.6094 - val_accuracy: 0.2000 - lr: 0.0010 - 11s/epoch - 50ms/step
Epoch 439/625
214/214 - 11s - loss: 1.6095 - accuracy: 0.1989 - val_loss: 1.6094 - val_accuracy: 0.2000 - lr: 0.0010 - 11s/epoch - 50ms/step
Epoch 440/625
214/214 - 11s - loss: 1.6095 - accuracy: 0.2003 - val_loss: 1.6094 - val_accuracy: 0.2000 - lr: 0.0010 - 11s/epoch - 50ms/step
Epoch 441/625
214/214 - 11s - loss: 1.6095 - accuracy: 0.1985 - val_loss: 1.6094 - val_accuracy: 0.2000 - lr: 0.0010 - 11s/epoch - 50ms/step
Epoch 442/625
214/214 - 11s - loss: 1.6095 - accuracy: 0.1981 - val_loss: 1.6094 - val_accuracy: 0.2000 - lr: 0.0010 - 11s/epoch - 50ms/step
Epoch 443/625
214/214 - 11s - loss: 1.6095 - accuracy: 0.1998 - val_loss: 1.6094 - val_accuracy: 0.2000 - lr: 0.0010 - 11s/epoch - 51ms/step
Epoch 444/625
214/214 - 11s - loss: 1.6095 - accuracy: 0.1985 - val_loss: 1.6094 - val_accuracy: 0.2000 - lr: 0.0010 - 11s/epoch - 50ms/step
Epoch 445/625
214/214 - 11s - loss: 1.6095 - accuracy: 0.1996 - val_loss: 1.6095 - val_accuracy: 0.2000 - lr: 0.0010 - 11s/epoch - 50ms/step
Epoch 446/625
214/214 - 11s - loss: 1.6095 - accuracy: 0.1982 - val_loss: 1.6095 - val_accuracy: 0.2000 - lr: 0.0010 - 11s/epoch - 50ms/step
Epoch 447/625
214/214 - 11s - loss: 1.6095 - accuracy: 0.1982 - val_loss: 1.6094 - val_accuracy: 0.2000 - lr: 0.0010 - 11s/epoch - 50ms/step
Epoch 448/625
214/214 - 11s - loss: 1.6095 - accuracy: 0.1995 - val_loss: 1.6094 - val_accuracy: 0.2000 - lr: 0.0010 - 11s/epoch - 51ms/step
Epoch 449/625
214/214 - 11s - loss: 1.6095 - accuracy: 0.1993 - val_loss: 1.6095 - val_accuracy: 0.2000 - lr: 0.0010 - 11s/epoch - 50ms/step
Epoch 450/625
214/214 - 11s - loss: 1.6095 - accuracy: 0.1995 - val_loss: 1.6094 - val_accuracy: 0.2000 - lr: 0.0010 - 11s/epoch - 51ms/step
Epoch 451/625
214/214 - 11s - loss: 1.6095 - accuracy: 0.1992 - val_loss: 1.6094 - val_accuracy: 0.2000 - lr: 0.0010 - 11s/epoch - 50ms/step
Epoch 452/625
214/214 - 11s - loss: 1.6095 - accuracy: 0.1985 - val_loss: 1.6094 - val_accuracy: 0.2000 - lr: 0.0010 - 11s/epoch - 51ms/step
Epoch 453/625
214/214 - 11s - loss: 1.6095 - accuracy: 0.1984 - val_loss: 1.6094 - val_accuracy: 0.2000 - lr: 0.0010 - 11s/epoch - 50ms/step
Epoch 454/625
214/214 - 11s - loss: 1.6095 - accuracy: 0.1955 - val_loss: 1.6094 - val_accuracy: 0.2000 - lr: 0.0010 - 11s/epoch - 51ms/step
Epoch 455/625
214/214 - 11s - loss: 1.6095 - accuracy: 0.2004 - val_loss: 1.6095 - val_accuracy: 0.2000 - lr: 0.0010 - 11s/epoch - 50ms/step
Epoch 456/625
214/214 - 11s - loss: 1.6095 - accuracy: 0.1989 - val_loss: 1.6094 - val_accuracy: 0.2000 - lr: 0.0010 - 11s/epoch - 50ms/step
Epoch 457/625
214/214 - 11s - loss: 1.6095 - accuracy: 0.2004 - val_loss: 1.6094 - val_accuracy: 0.2000 - lr: 0.0010 - 11s/epoch - 50ms/step
Epoch 458/625
214/214 - 11s - loss: 1.6095 - accuracy: 0.1991 - val_loss: 1.6094 - val_accuracy: 0.2000 - lr: 0.0010 - 11s/epoch - 50ms/step
Epoch 459/625
214/214 - 11s - loss: 1.6095 - accuracy: 0.1992 - val_loss: 1.6095 - val_accuracy: 0.2000 - lr: 0.0010 - 11s/epoch - 50ms/step
Epoch 460/625
214/214 - 11s - loss: 1.6095 - accuracy: 0.1975 - val_loss: 1.6094 - val_accuracy: 0.2000 - lr: 0.0010 - 11s/epoch - 50ms/step
Epoch 461/625
214/214 - 11s - loss: 1.6095 - accuracy: 0.1978 - val_loss: 1.6094 - val_accuracy: 0.2000 - lr: 0.0010 - 11s/epoch - 50ms/step
Epoch 462/625
214/214 - 11s - loss: 1.6095 - accuracy: 0.1997 - val_loss: 1.6094 - val_accuracy: 0.2000 - lr: 0.0010 - 11s/epoch - 50ms/step
Epoch 463/625
214/214 - 11s - loss: 1.6095 - accuracy: 0.1987 - val_loss: 1.6094 - val_accuracy: 0.2000 - lr: 0.0010 - 11s/epoch - 50ms/step
Epoch 464/625
214/214 - 11s - loss: 1.6095 - accuracy: 0.1980 - val_loss: 1.6094 - val_accuracy: 0.2000 - lr: 0.0010 - 11s/epoch - 50ms/step
Epoch 465/625
214/214 - 11s - loss: 1.6095 - accuracy: 0.1978 - val_loss: 1.6094 - val_accuracy: 0.2000 - lr: 0.0010 - 11s/epoch - 50ms/step
Epoch 466/625
214/214 - 11s - loss: 1.6095 - accuracy: 0.1991 - val_loss: 1.6095 - val_accuracy: 0.2000 - lr: 0.0010 - 11s/epoch - 50ms/step
Epoch 467/625
214/214 - 11s - loss: 1.6095 - accuracy: 0.1986 - val_loss: 1.6094 - val_accuracy: 0.2000 - lr: 0.0010 - 11s/epoch - 50ms/step
Epoch 468/625
214/214 - 11s - loss: 1.6095 - accuracy: 0.1981 - val_loss: 1.6094 - val_accuracy: 0.2000 - lr: 0.0010 - 11s/epoch - 51ms/step
Epoch 469/625
214/214 - 11s - loss: 1.6095 - accuracy: 0.1973 - val_loss: 1.6094 - val_accuracy: 0.2000 - lr: 0.0010 - 11s/epoch - 50ms/step
Epoch 470/625
214/214 - 11s - loss: 1.6095 - accuracy: 0.1991 - val_loss: 1.6095 - val_accuracy: 0.2000 - lr: 0.0010 - 11s/epoch - 50ms/step
Epoch 471/625
214/214 - 11s - loss: 1.6095 - accuracy: 0.1990 - val_loss: 1.6094 - val_accuracy: 0.2000 - lr: 0.0010 - 11s/epoch - 50ms/step
Epoch 472/625
214/214 - 11s - loss: 1.6095 - accuracy: 0.1979 - val_loss: 1.6094 - val_accuracy: 0.2000 - lr: 0.0010 - 11s/epoch - 50ms/step
Epoch 473/625
214/214 - 11s - loss: 1.6095 - accuracy: 0.1978 - val_loss: 1.6095 - val_accuracy: 0.2000 - lr: 0.0010 - 11s/epoch - 50ms/step
Epoch 474/625
214/214 - 11s - loss: 1.6095 - accuracy: 0.1995 - val_loss: 1.6094 - val_accuracy: 0.2000 - lr: 0.0010 - 11s/epoch - 51ms/step
Epoch 475/625
214/214 - 11s - loss: 1.6095 - accuracy: 0.1993 - val_loss: 1.6094 - val_accuracy: 0.2000 - lr: 0.0010 - 11s/epoch - 50ms/step
Epoch 476/625
214/214 - 11s - loss: 1.6095 - accuracy: 0.1998 - val_loss: 1.6094 - val_accuracy: 0.2000 - lr: 0.0010 - 11s/epoch - 51ms/step
Epoch 477/625
214/214 - 11s - loss: 1.6095 - accuracy: 0.1991 - val_loss: 1.6094 - val_accuracy: 0.2000 - lr: 0.0010 - 11s/epoch - 50ms/step
Epoch 478/625
214/214 - 11s - loss: 1.6095 - accuracy: 0.1967 - val_loss: 1.6094 - val_accuracy: 0.2000 - lr: 0.0010 - 11s/epoch - 50ms/step
Epoch 479/625
214/214 - 11s - loss: 1.6095 - accuracy: 0.1976 - val_loss: 1.6094 - val_accuracy: 0.2000 - lr: 0.0010 - 11s/epoch - 50ms/step
Epoch 480/625
214/214 - 11s - loss: 1.6095 - accuracy: 0.1988 - val_loss: 1.6095 - val_accuracy: 0.2000 - lr: 0.0010 - 11s/epoch - 51ms/step
Epoch 481/625
214/214 - 11s - loss: 1.6095 - accuracy: 0.1982 - val_loss: 1.6094 - val_accuracy: 0.2000 - lr: 0.0010 - 11s/epoch - 50ms/step
Epoch 482/625
214/214 - 11s - loss: 1.6094 - accuracy: 0.2020 - val_loss: 1.6095 - val_accuracy: 0.2000 - lr: 0.0010 - 11s/epoch - 50ms/step
Epoch 483/625
214/214 - 11s - loss: 1.6095 - accuracy: 0.1986 - val_loss: 1.6094 - val_accuracy: 0.2000 - lr: 0.0010 - 11s/epoch - 50ms/step
Epoch 484/625
214/214 - 11s - loss: 1.6095 - accuracy: 0.1988 - val_loss: 1.6094 - val_accuracy: 0.2000 - lr: 0.0010 - 11s/epoch - 51ms/step
Epoch 485/625
214/214 - 11s - loss: 1.6095 - accuracy: 0.1996 - val_loss: 1.6094 - val_accuracy: 0.2000 - lr: 0.0010 - 11s/epoch - 50ms/step
Epoch 486/625
214/214 - 11s - loss: 1.6095 - accuracy: 0.1999 - val_loss: 1.6094 - val_accuracy: 0.2000 - lr: 0.0010 - 11s/epoch - 50ms/step
Epoch 487/625
214/214 - 11s - loss: 1.6095 - accuracy: 0.1991 - val_loss: 1.6094 - val_accuracy: 0.2000 - lr: 0.0010 - 11s/epoch - 50ms/step
Epoch 488/625
214/214 - 11s - loss: 1.6095 - accuracy: 0.1983 - val_loss: 1.6094 - val_accuracy: 0.2000 - lr: 0.0010 - 11s/epoch - 50ms/step
Epoch 489/625
214/214 - 11s - loss: 1.6095 - accuracy: 0.1977 - val_loss: 1.6094 - val_accuracy: 0.2000 - lr: 0.0010 - 11s/epoch - 50ms/step
Epoch 490/625
214/214 - 11s - loss: 1.6095 - accuracy: 0.1989 - val_loss: 1.6094 - val_accuracy: 0.2000 - lr: 0.0010 - 11s/epoch - 50ms/step
Epoch 491/625
214/214 - 11s - loss: 1.6095 - accuracy: 0.1998 - val_loss: 1.6094 - val_accuracy: 0.2000 - lr: 0.0010 - 11s/epoch - 50ms/step
Epoch 492/625
214/214 - 11s - loss: 1.6095 - accuracy: 0.1981 - val_loss: 1.6094 - val_accuracy: 0.2000 - lr: 0.0010 - 11s/epoch - 50ms/step
Epoch 493/625
214/214 - 11s - loss: 1.6095 - accuracy: 0.1977 - val_loss: 1.6094 - val_accuracy: 0.2000 - lr: 0.0010 - 11s/epoch - 50ms/step
Epoch 494/625
214/214 - 11s - loss: 1.6095 - accuracy: 0.1982 - val_loss: 1.6094 - val_accuracy: 0.2000 - lr: 0.0010 - 11s/epoch - 50ms/step
Epoch 495/625
214/214 - 11s - loss: 1.6095 - accuracy: 0.1987 - val_loss: 1.6094 - val_accuracy: 0.2000 - lr: 0.0010 - 11s/epoch - 50ms/step
Epoch 496/625
214/214 - 11s - loss: 1.6095 - accuracy: 0.1979 - val_loss: 1.6094 - val_accuracy: 0.2000 - lr: 0.0010 - 11s/epoch - 50ms/step
Epoch 497/625
214/214 - 11s - loss: 1.6095 - accuracy: 0.1987 - val_loss: 1.6094 - val_accuracy: 0.2000 - lr: 0.0010 - 11s/epoch - 50ms/step
Epoch 498/625
214/214 - 11s - loss: 1.6095 - accuracy: 0.1977 - val_loss: 1.6094 - val_accuracy: 0.2000 - lr: 0.0010 - 11s/epoch - 50ms/step
Epoch 499/625
214/214 - 11s - loss: 1.6095 - accuracy: 0.1968 - val_loss: 1.6094 - val_accuracy: 0.2000 - lr: 0.0010 - 11s/epoch - 50ms/step
Epoch 500/625
214/214 - 11s - loss: 1.6095 - accuracy: 0.1971 - val_loss: 1.6094 - val_accuracy: 0.2000 - lr: 0.0010 - 11s/epoch - 50ms/step
Epoch 501/625
214/214 - 11s - loss: 1.6095 - accuracy: 0.1998 - val_loss: 1.6095 - val_accuracy: 0.2000 - lr: 0.0010 - 11s/epoch - 50ms/step
Epoch 502/625
214/214 - 11s - loss: 1.6095 - accuracy: 0.1968 - val_loss: 1.6094 - val_accuracy: 0.2000 - lr: 0.0010 - 11s/epoch - 50ms/step
Epoch 503/625
214/214 - 11s - loss: 1.6095 - accuracy: 0.1992 - val_loss: 1.6094 - val_accuracy: 0.2000 - lr: 0.0010 - 11s/epoch - 50ms/step
Epoch 504/625
214/214 - 11s - loss: 1.6095 - accuracy: 0.1990 - val_loss: 1.6094 - val_accuracy: 0.2000 - lr: 0.0010 - 11s/epoch - 50ms/step
Epoch 505/625
214/214 - 11s - loss: 1.6095 - accuracy: 0.1989 - val_loss: 1.6094 - val_accuracy: 0.2000 - lr: 0.0010 - 11s/epoch - 50ms/step
Epoch 506/625
214/214 - 11s - loss: 1.6095 - accuracy: 0.1979 - val_loss: 1.6094 - val_accuracy: 0.2000 - lr: 0.0010 - 11s/epoch - 50ms/step
Epoch 507/625
214/214 - 11s - loss: 1.6095 - accuracy: 0.1994 - val_loss: 1.6095 - val_accuracy: 0.2000 - lr: 0.0010 - 11s/epoch - 50ms/step
Epoch 508/625
214/214 - 11s - loss: 1.6095 - accuracy: 0.1994 - val_loss: 1.6094 - val_accuracy: 0.2000 - lr: 0.0010 - 11s/epoch - 51ms/step
Epoch 509/625
214/214 - 11s - loss: 1.6095 - accuracy: 0.1991 - val_loss: 1.6094 - val_accuracy: 0.2000 - lr: 0.0010 - 11s/epoch - 50ms/step
Epoch 510/625
214/214 - 11s - loss: 1.6095 - accuracy: 0.1976 - val_loss: 1.6094 - val_accuracy: 0.2000 - lr: 0.0010 - 11s/epoch - 50ms/step
Epoch 511/625
214/214 - 11s - loss: 1.6095 - accuracy: 0.1982 - val_loss: 1.6094 - val_accuracy: 0.2000 - lr: 0.0010 - 11s/epoch - 50ms/step
Epoch 512/625
214/214 - 11s - loss: 1.6095 - accuracy: 0.1984 - val_loss: 1.6094 - val_accuracy: 0.2000 - lr: 0.0010 - 11s/epoch - 50ms/step
Epoch 513/625
214/214 - 11s - loss: 1.6095 - accuracy: 0.2000 - val_loss: 1.6094 - val_accuracy: 0.2000 - lr: 0.0010 - 11s/epoch - 50ms/step
Epoch 514/625
214/214 - 11s - loss: 1.6095 - accuracy: 0.1964 - val_loss: 1.6094 - val_accuracy: 0.2000 - lr: 0.0010 - 11s/epoch - 51ms/step
Epoch 515/625
214/214 - 11s - loss: 1.6095 - accuracy: 0.1995 - val_loss: 1.6094 - val_accuracy: 0.2000 - lr: 0.0010 - 11s/epoch - 50ms/step
Epoch 516/625
214/214 - 11s - loss: 1.6095 - accuracy: 0.1967 - val_loss: 1.6094 - val_accuracy: 0.2000 - lr: 0.0010 - 11s/epoch - 51ms/step
Epoch 517/625
214/214 - 11s - loss: 1.6095 - accuracy: 0.2002 - val_loss: 1.6095 - val_accuracy: 0.2000 - lr: 0.0010 - 11s/epoch - 50ms/step
Epoch 518/625
214/214 - 11s - loss: 1.6095 - accuracy: 0.1987 - val_loss: 1.6095 - val_accuracy: 0.2000 - lr: 0.0010 - 11s/epoch - 51ms/step
Epoch 519/625
214/214 - 11s - loss: 1.6095 - accuracy: 0.1985 - val_loss: 1.6094 - val_accuracy: 0.2000 - lr: 0.0010 - 11s/epoch - 50ms/step
Epoch 520/625
214/214 - 11s - loss: 1.6095 - accuracy: 0.1994 - val_loss: 1.6094 - val_accuracy: 0.2000 - lr: 0.0010 - 11s/epoch - 51ms/step
Epoch 521/625
214/214 - 11s - loss: 1.6095 - accuracy: 0.1984 - val_loss: 1.6094 - val_accuracy: 0.2000 - lr: 0.0010 - 11s/epoch - 50ms/step
Epoch 522/625
214/214 - 11s - loss: 1.6095 - accuracy: 0.1992 - val_loss: 1.6094 - val_accuracy: 0.2000 - lr: 0.0010 - 11s/epoch - 51ms/step
Epoch 523/625
214/214 - 11s - loss: 1.6095 - accuracy: 0.1991 - val_loss: 1.6094 - val_accuracy: 0.2000 - lr: 0.0010 - 11s/epoch - 50ms/step
Epoch 524/625
214/214 - 11s - loss: 1.6095 - accuracy: 0.1992 - val_loss: 1.6095 - val_accuracy: 0.2000 - lr: 0.0010 - 11s/epoch - 51ms/step
Epoch 525/625
214/214 - 11s - loss: 1.6095 - accuracy: 0.1970 - val_loss: 1.6094 - val_accuracy: 0.2000 - lr: 0.0010 - 11s/epoch - 50ms/step
Epoch 526/625
214/214 - 11s - loss: 1.6095 - accuracy: 0.2002 - val_loss: 1.6095 - val_accuracy: 0.2000 - lr: 0.0010 - 11s/epoch - 50ms/step
Epoch 527/625
214/214 - 11s - loss: 1.6095 - accuracy: 0.1992 - val_loss: 1.6095 - val_accuracy: 0.2000 - lr: 0.0010 - 11s/epoch - 50ms/step
Epoch 528/625
214/214 - 11s - loss: 1.6095 - accuracy: 0.1979 - val_loss: 1.6094 - val_accuracy: 0.2000 - lr: 0.0010 - 11s/epoch - 51ms/step
Epoch 529/625
214/214 - 11s - loss: 1.6095 - accuracy: 0.1997 - val_loss: 1.6094 - val_accuracy: 0.2000 - lr: 0.0010 - 11s/epoch - 50ms/step
Epoch 530/625
214/214 - 11s - loss: 1.6095 - accuracy: 0.1995 - val_loss: 1.6094 - val_accuracy: 0.2000 - lr: 0.0010 - 11s/epoch - 51ms/step
Epoch 531/625
214/214 - 11s - loss: 1.6095 - accuracy: 0.1979 - val_loss: 1.6095 - val_accuracy: 0.2000 - lr: 0.0010 - 11s/epoch - 50ms/step
Epoch 532/625
214/214 - 11s - loss: 1.6095 - accuracy: 0.1984 - val_loss: 1.6094 - val_accuracy: 0.2000 - lr: 0.0010 - 11s/epoch - 50ms/step
Epoch 533/625
214/214 - 11s - loss: 1.6095 - accuracy: 0.1983 - val_loss: 1.6094 - val_accuracy: 0.2000 - lr: 0.0010 - 11s/epoch - 50ms/step
Epoch 534/625
214/214 - 11s - loss: 1.6095 - accuracy: 0.1983 - val_loss: 1.6095 - val_accuracy: 0.2000 - lr: 0.0010 - 11s/epoch - 50ms/step
Epoch 535/625
214/214 - 11s - loss: 1.6095 - accuracy: 0.1986 - val_loss: 1.6094 - val_accuracy: 0.2000 - lr: 0.0010 - 11s/epoch - 51ms/step
Epoch 536/625
214/214 - 11s - loss: 1.6095 - accuracy: 0.1990 - val_loss: 1.6094 - val_accuracy: 0.2000 - lr: 0.0010 - 11s/epoch - 50ms/step
Epoch 537/625
214/214 - 11s - loss: 1.6095 - accuracy: 0.1995 - val_loss: 1.6095 - val_accuracy: 0.2000 - lr: 0.0010 - 11s/epoch - 50ms/step
Epoch 538/625
214/214 - 11s - loss: 1.6095 - accuracy: 0.1994 - val_loss: 1.6095 - val_accuracy: 0.2000 - lr: 0.0010 - 11s/epoch - 50ms/step
Epoch 539/625
214/214 - 11s - loss: 1.6095 - accuracy: 0.2002 - val_loss: 1.6095 - val_accuracy: 0.2000 - lr: 0.0010 - 11s/epoch - 51ms/step
Epoch 540/625
214/214 - 11s - loss: 1.6095 - accuracy: 0.2015 - val_loss: 1.6094 - val_accuracy: 0.2000 - lr: 0.0010 - 11s/epoch - 50ms/step
Epoch 541/625
214/214 - 11s - loss: 1.6095 - accuracy: 0.2000 - val_loss: 1.6095 - val_accuracy: 0.2000 - lr: 0.0010 - 11s/epoch - 50ms/step
Epoch 542/625
214/214 - 11s - loss: 1.6095 - accuracy: 0.1991 - val_loss: 1.6094 - val_accuracy: 0.2000 - lr: 0.0010 - 11s/epoch - 50ms/step
Epoch 543/625
214/214 - 11s - loss: 1.6095 - accuracy: 0.1997 - val_loss: 1.6094 - val_accuracy: 0.2000 - lr: 0.0010 - 11s/epoch - 51ms/step
Epoch 544/625
214/214 - 11s - loss: 1.6095 - accuracy: 0.1989 - val_loss: 1.6094 - val_accuracy: 0.2000 - lr: 0.0010 - 11s/epoch - 50ms/step
Epoch 545/625
214/214 - 11s - loss: 1.6095 - accuracy: 0.1979 - val_loss: 1.6095 - val_accuracy: 0.2000 - lr: 0.0010 - 11s/epoch - 50ms/step
Epoch 546/625
214/214 - 11s - loss: 1.6095 - accuracy: 0.1969 - val_loss: 1.6094 - val_accuracy: 0.2000 - lr: 0.0010 - 11s/epoch - 50ms/step
Epoch 547/625
214/214 - 11s - loss: 1.6095 - accuracy: 0.1990 - val_loss: 1.6094 - val_accuracy: 0.2000 - lr: 0.0010 - 11s/epoch - 50ms/step
Epoch 548/625
214/214 - 11s - loss: 1.6095 - accuracy: 0.1985 - val_loss: 1.6094 - val_accuracy: 0.2000 - lr: 0.0010 - 11s/epoch - 50ms/step
Epoch 549/625
214/214 - 11s - loss: 1.6095 - accuracy: 0.1974 - val_loss: 1.6094 - val_accuracy: 0.2000 - lr: 0.0010 - 11s/epoch - 50ms/step
Epoch 550/625
214/214 - 11s - loss: 1.6095 - accuracy: 0.2004 - val_loss: 1.6094 - val_accuracy: 0.2000 - lr: 0.0010 - 11s/epoch - 50ms/step
Epoch 551/625
214/214 - 11s - loss: 1.6095 - accuracy: 0.1980 - val_loss: 1.6094 - val_accuracy: 0.2000 - lr: 0.0010 - 11s/epoch - 51ms/step
Epoch 552/625
214/214 - 11s - loss: 1.6095 - accuracy: 0.2007 - val_loss: 1.6095 - val_accuracy: 0.2000 - lr: 0.0010 - 11s/epoch - 50ms/step
Epoch 553/625
214/214 - 11s - loss: 1.6095 - accuracy: 0.1974 - val_loss: 1.6094 - val_accuracy: 0.2000 - lr: 0.0010 - 11s/epoch - 50ms/step
Epoch 554/625
214/214 - 11s - loss: 1.6095 - accuracy: 0.1999 - val_loss: 1.6095 - val_accuracy: 0.2000 - lr: 0.0010 - 11s/epoch - 50ms/step
Epoch 555/625
214/214 - 11s - loss: 1.6095 - accuracy: 0.1983 - val_loss: 1.6094 - val_accuracy: 0.2000 - lr: 0.0010 - 11s/epoch - 50ms/step
Epoch 556/625
214/214 - 11s - loss: 1.6095 - accuracy: 0.1969 - val_loss: 1.6095 - val_accuracy: 0.2000 - lr: 0.0010 - 11s/epoch - 50ms/step
Epoch 557/625
214/214 - 11s - loss: 1.6095 - accuracy: 0.1985 - val_loss: 1.6094 - val_accuracy: 0.2000 - lr: 0.0010 - 11s/epoch - 50ms/step
Epoch 558/625
214/214 - 11s - loss: 1.6095 - accuracy: 0.1984 - val_loss: 1.6094 - val_accuracy: 0.2000 - lr: 0.0010 - 11s/epoch - 50ms/step
Epoch 559/625
214/214 - 11s - loss: 1.6095 - accuracy: 0.2001 - val_loss: 1.6095 - val_accuracy: 0.2000 - lr: 0.0010 - 11s/epoch - 50ms/step
Epoch 560/625
214/214 - 11s - loss: 1.6095 - accuracy: 0.1995 - val_loss: 1.6094 - val_accuracy: 0.2000 - lr: 0.0010 - 11s/epoch - 51ms/step
Epoch 561/625
214/214 - 11s - loss: 1.6095 - accuracy: 0.1997 - val_loss: 1.6094 - val_accuracy: 0.2000 - lr: 0.0010 - 11s/epoch - 50ms/step
Epoch 562/625
214/214 - 11s - loss: 1.6095 - accuracy: 0.1977 - val_loss: 1.6095 - val_accuracy: 0.2000 - lr: 0.0010 - 11s/epoch - 50ms/step
Epoch 563/625
214/214 - 11s - loss: 1.6095 - accuracy: 0.1966 - val_loss: 1.6094 - val_accuracy: 0.2000 - lr: 0.0010 - 11s/epoch - 50ms/step
Epoch 564/625
214/214 - 11s - loss: 1.6095 - accuracy: 0.1979 - val_loss: 1.6094 - val_accuracy: 0.2000 - lr: 0.0010 - 11s/epoch - 51ms/step
Epoch 565/625
214/214 - 11s - loss: 1.6095 - accuracy: 0.1995 - val_loss: 1.6094 - val_accuracy: 0.2000 - lr: 0.0010 - 11s/epoch - 50ms/step
Epoch 566/625
214/214 - 11s - loss: 1.6095 - accuracy: 0.2000 - val_loss: 1.6095 - val_accuracy: 0.2000 - lr: 0.0010 - 11s/epoch - 50ms/step
Epoch 567/625
214/214 - 11s - loss: 1.6095 - accuracy: 0.1962 - val_loss: 1.6094 - val_accuracy: 0.2000 - lr: 0.0010 - 11s/epoch - 50ms/step
Epoch 568/625
214/214 - 11s - loss: 1.6095 - accuracy: 0.1969 - val_loss: 1.6094 - val_accuracy: 0.2000 - lr: 0.0010 - 11s/epoch - 50ms/step
Epoch 569/625
214/214 - 11s - loss: 1.6095 - accuracy: 0.1985 - val_loss: 1.6095 - val_accuracy: 0.2000 - lr: 0.0010 - 11s/epoch - 50ms/step
Epoch 570/625
214/214 - 11s - loss: 1.6095 - accuracy: 0.1983 - val_loss: 1.6094 - val_accuracy: 0.2000 - lr: 0.0010 - 11s/epoch - 50ms/step
Epoch 571/625
214/214 - 11s - loss: 1.6095 - accuracy: 0.1980 - val_loss: 1.6094 - val_accuracy: 0.2000 - lr: 0.0010 - 11s/epoch - 50ms/step
Epoch 572/625
214/214 - 11s - loss: 1.6095 - accuracy: 0.1974 - val_loss: 1.6094 - val_accuracy: 0.2000 - lr: 0.0010 - 11s/epoch - 50ms/step
Epoch 573/625
214/214 - 11s - loss: 1.6095 - accuracy: 0.1988 - val_loss: 1.6095 - val_accuracy: 0.2000 - lr: 0.0010 - 11s/epoch - 50ms/step
Epoch 574/625
214/214 - 11s - loss: 1.6095 - accuracy: 0.2006 - val_loss: 1.6095 - val_accuracy: 0.2000 - lr: 0.0010 - 11s/epoch - 50ms/step
Epoch 575/625
214/214 - 11s - loss: 1.6095 - accuracy: 0.1999 - val_loss: 1.6094 - val_accuracy: 0.2000 - lr: 0.0010 - 11s/epoch - 50ms/step
Epoch 576/625
214/214 - 11s - loss: 1.6095 - accuracy: 0.1993 - val_loss: 1.6094 - val_accuracy: 0.2000 - lr: 0.0010 - 11s/epoch - 50ms/step
Epoch 577/625
214/214 - 11s - loss: 1.6095 - accuracy: 0.1968 - val_loss: 1.6094 - val_accuracy: 0.2000 - lr: 0.0010 - 11s/epoch - 50ms/step
Epoch 578/625
214/214 - 11s - loss: 1.6095 - accuracy: 0.1978 - val_loss: 1.6094 - val_accuracy: 0.2000 - lr: 0.0010 - 11s/epoch - 51ms/step
Epoch 579/625
214/214 - 11s - loss: 1.6095 - accuracy: 0.1970 - val_loss: 1.6094 - val_accuracy: 0.2000 - lr: 0.0010 - 11s/epoch - 50ms/step
Epoch 580/625
214/214 - 11s - loss: 1.6095 - accuracy: 0.1987 - val_loss: 1.6094 - val_accuracy: 0.2000 - lr: 0.0010 - 11s/epoch - 50ms/step
Epoch 581/625
214/214 - 11s - loss: 1.6095 - accuracy: 0.2013 - val_loss: 1.6094 - val_accuracy: 0.2000 - lr: 0.0010 - 11s/epoch - 50ms/step
Epoch 582/625
214/214 - 11s - loss: 1.6095 - accuracy: 0.1980 - val_loss: 1.6094 - val_accuracy: 0.2000 - lr: 0.0010 - 11s/epoch - 51ms/step
Epoch 583/625
214/214 - 11s - loss: 1.6095 - accuracy: 0.1981 - val_loss: 1.6094 - val_accuracy: 0.2000 - lr: 0.0010 - 11s/epoch - 50ms/step
Epoch 584/625
214/214 - 11s - loss: 1.6095 - accuracy: 0.1998 - val_loss: 1.6095 - val_accuracy: 0.2000 - lr: 0.0010 - 11s/epoch - 50ms/step
Epoch 585/625
214/214 - 11s - loss: 1.6095 - accuracy: 0.1988 - val_loss: 1.6095 - val_accuracy: 0.2000 - lr: 0.0010 - 11s/epoch - 50ms/step
Epoch 586/625
214/214 - 11s - loss: 1.6095 - accuracy: 0.1986 - val_loss: 1.6094 - val_accuracy: 0.2000 - lr: 0.0010 - 11s/epoch - 50ms/step
Epoch 587/625
214/214 - 11s - loss: 1.6095 - accuracy: 0.1992 - val_loss: 1.6094 - val_accuracy: 0.2000 - lr: 0.0010 - 11s/epoch - 50ms/step
Epoch 588/625
214/214 - 11s - loss: 1.6095 - accuracy: 0.1983 - val_loss: 1.6094 - val_accuracy: 0.2000 - lr: 0.0010 - 11s/epoch - 50ms/step
Epoch 589/625
214/214 - 11s - loss: 1.6095 - accuracy: 0.1970 - val_loss: 1.6094 - val_accuracy: 0.2000 - lr: 0.0010 - 11s/epoch - 50ms/step
Epoch 590/625
214/214 - 11s - loss: 1.6095 - accuracy: 0.2008 - val_loss: 1.6095 - val_accuracy: 0.2000 - lr: 0.0010 - 11s/epoch - 50ms/step
Epoch 591/625
214/214 - 11s - loss: 1.6095 - accuracy: 0.1977 - val_loss: 1.6094 - val_accuracy: 0.2000 - lr: 0.0010 - 11s/epoch - 50ms/step
Epoch 592/625
214/214 - 11s - loss: 1.6095 - accuracy: 0.1979 - val_loss: 1.6094 - val_accuracy: 0.2000 - lr: 0.0010 - 11s/epoch - 50ms/step
Epoch 593/625
214/214 - 11s - loss: 1.6095 - accuracy: 0.1994 - val_loss: 1.6094 - val_accuracy: 0.2000 - lr: 0.0010 - 11s/epoch - 50ms/step
Epoch 594/625
214/214 - 11s - loss: 1.6095 - accuracy: 0.1985 - val_loss: 1.6095 - val_accuracy: 0.2000 - lr: 0.0010 - 11s/epoch - 50ms/step
Epoch 595/625
214/214 - 11s - loss: 1.6095 - accuracy: 0.1992 - val_loss: 1.6095 - val_accuracy: 0.2000 - lr: 0.0010 - 11s/epoch - 50ms/step
Epoch 596/625
214/214 - 11s - loss: 1.6095 - accuracy: 0.1992 - val_loss: 1.6095 - val_accuracy: 0.2000 - lr: 0.0010 - 11s/epoch - 51ms/step
Epoch 597/625
214/214 - 11s - loss: 1.6095 - accuracy: 0.1971 - val_loss: 1.6094 - val_accuracy: 0.2000 - lr: 0.0010 - 11s/epoch - 50ms/step
Epoch 598/625
214/214 - 11s - loss: 1.6095 - accuracy: 0.2000 - val_loss: 1.6094 - val_accuracy: 0.2000 - lr: 0.0010 - 11s/epoch - 50ms/step
Epoch 599/625
214/214 - 11s - loss: 1.6095 - accuracy: 0.1979 - val_loss: 1.6094 - val_accuracy: 0.2000 - lr: 0.0010 - 11s/epoch - 50ms/step
Epoch 600/625
214/214 - 11s - loss: 1.6095 - accuracy: 0.1976 - val_loss: 1.6094 - val_accuracy: 0.2000 - lr: 0.0010 - 11s/epoch - 50ms/step
Epoch 601/625
214/214 - 11s - loss: 1.6095 - accuracy: 0.1976 - val_loss: 1.6094 - val_accuracy: 0.2000 - lr: 0.0010 - 11s/epoch - 50ms/step
Epoch 602/625
214/214 - 11s - loss: 1.6095 - accuracy: 0.1987 - val_loss: 1.6094 - val_accuracy: 0.2000 - lr: 0.0010 - 11s/epoch - 51ms/step
Epoch 603/625
214/214 - 11s - loss: 1.6095 - accuracy: 0.1992 - val_loss: 1.6094 - val_accuracy: 0.2000 - lr: 0.0010 - 11s/epoch - 50ms/step
Epoch 604/625
214/214 - 11s - loss: 1.6095 - accuracy: 0.2006 - val_loss: 1.6095 - val_accuracy: 0.2000 - lr: 0.0010 - 11s/epoch - 51ms/step
Epoch 605/625
214/214 - 11s - loss: 1.6095 - accuracy: 0.1980 - val_loss: 1.6094 - val_accuracy: 0.2000 - lr: 0.0010 - 11s/epoch - 50ms/step
Epoch 606/625
214/214 - 11s - loss: 1.6095 - accuracy: 0.1983 - val_loss: 1.6095 - val_accuracy: 0.2000 - lr: 0.0010 - 11s/epoch - 50ms/step
Epoch 607/625
214/214 - 11s - loss: 1.6095 - accuracy: 0.1977 - val_loss: 1.6094 - val_accuracy: 0.2000 - lr: 0.0010 - 11s/epoch - 50ms/step
Epoch 608/625
214/214 - 11s - loss: 1.6095 - accuracy: 0.1991 - val_loss: 1.6095 - val_accuracy: 0.2000 - lr: 0.0010 - 11s/epoch - 51ms/step
Epoch 609/625
214/214 - 11s - loss: 1.6095 - accuracy: 0.1989 - val_loss: 1.6094 - val_accuracy: 0.2000 - lr: 0.0010 - 11s/epoch - 53ms/step
Epoch 610/625
214/214 - 11s - loss: 1.6095 - accuracy: 0.2001 - val_loss: 1.6095 - val_accuracy: 0.2000 - lr: 0.0010 - 11s/epoch - 50ms/step
Epoch 611/625
214/214 - 11s - loss: 1.6095 - accuracy: 0.2000 - val_loss: 1.6094 - val_accuracy: 0.2000 - lr: 0.0010 - 11s/epoch - 52ms/step
Epoch 612/625
214/214 - 11s - loss: 1.6095 - accuracy: 0.1981 - val_loss: 1.6094 - val_accuracy: 0.2000 - lr: 0.0010 - 11s/epoch - 51ms/step
Epoch 613/625
214/214 - 11s - loss: 1.6095 - accuracy: 0.2004 - val_loss: 1.6095 - val_accuracy: 0.2000 - lr: 0.0010 - 11s/epoch - 51ms/step
Epoch 614/625
214/214 - 11s - loss: 1.6095 - accuracy: 0.2002 - val_loss: 1.6094 - val_accuracy: 0.2000 - lr: 0.0010 - 11s/epoch - 50ms/step
Epoch 615/625
214/214 - 11s - loss: 1.6095 - accuracy: 0.1993 - val_loss: 1.6095 - val_accuracy: 0.2000 - lr: 0.0010 - 11s/epoch - 51ms/step
Epoch 616/625
214/214 - 11s - loss: 1.6095 - accuracy: 0.1982 - val_loss: 1.6094 - val_accuracy: 0.2000 - lr: 0.0010 - 11s/epoch - 50ms/step
Epoch 617/625
214/214 - 11s - loss: 1.6095 - accuracy: 0.1980 - val_loss: 1.6094 - val_accuracy: 0.2000 - lr: 0.0010 - 11s/epoch - 51ms/step
Epoch 618/625
214/214 - 11s - loss: 1.6095 - accuracy: 0.1990 - val_loss: 1.6094 - val_accuracy: 0.2000 - lr: 0.0010 - 11s/epoch - 50ms/step
Epoch 619/625
214/214 - 11s - loss: 1.6095 - accuracy: 0.1982 - val_loss: 1.6095 - val_accuracy: 0.2000 - lr: 0.0010 - 11s/epoch - 51ms/step
Epoch 620/625
214/214 - 11s - loss: 1.6095 - accuracy: 0.1992 - val_loss: 1.6094 - val_accuracy: 0.2000 - lr: 0.0010 - 11s/epoch - 50ms/step
Epoch 621/625
214/214 - 11s - loss: 1.6095 - accuracy: 0.1989 - val_loss: 1.6095 - val_accuracy: 0.2000 - lr: 0.0010 - 11s/epoch - 50ms/step
Epoch 622/625
214/214 - 11s - loss: 1.6095 - accuracy: 0.1982 - val_loss: 1.6094 - val_accuracy: 0.2000 - lr: 0.0010 - 11s/epoch - 50ms/step
Epoch 623/625
214/214 - 11s - loss: 1.6095 - accuracy: 0.1981 - val_loss: 1.6095 - val_accuracy: 0.2000 - lr: 0.0010 - 11s/epoch - 50ms/step
Epoch 624/625
214/214 - 11s - loss: 1.6095 - accuracy: 0.2006 - val_loss: 1.6094 - val_accuracy: 0.2000 - lr: 0.0010 - 11s/epoch - 50ms/step
Epoch 625/625
214/214 - 11s - loss: 1.6095 - accuracy: 0.1985 - val_loss: 1.6094 - val_accuracy: 0.2000 - lr: 0.0010 - 11s/epoch - 50ms/step
fitting with batch size: 1350
Epoch 1/625
72/72 - 12s - loss: 1.6095 - accuracy: 0.1979 - val_loss: 1.6094 - val_accuracy: 0.2000 - lr: 0.0010 - 12s/epoch - 161ms/step
Epoch 2/625
72/72 - 9s - loss: 1.6095 - accuracy: 0.1989 - val_loss: 1.6094 - val_accuracy: 0.2000 - lr: 0.0010 - 9s/epoch - 126ms/step
Epoch 3/625
72/72 - 9s - loss: 1.6095 - accuracy: 0.1977 - val_loss: 1.6094 - val_accuracy: 0.2000 - lr: 0.0010 - 9s/epoch - 125ms/step
Epoch 4/625
72/72 - 9s - loss: 1.6095 - accuracy: 0.1992 - val_loss: 1.6094 - val_accuracy: 0.2000 - lr: 0.0010 - 9s/epoch - 125ms/step
Epoch 5/625
72/72 - 9s - loss: 1.6095 - accuracy: 0.1990 - val_loss: 1.6094 - val_accuracy: 0.2000 - lr: 0.0010 - 9s/epoch - 128ms/step
Epoch 6/625
72/72 - 9s - loss: 1.6095 - accuracy: 0.1985 - val_loss: 1.6094 - val_accuracy: 0.2000 - lr: 0.0010 - 9s/epoch - 125ms/step
Epoch 7/625
72/72 - 9s - loss: 1.6095 - accuracy: 0.1988 - val_loss: 1.6094 - val_accuracy: 0.2000 - lr: 0.0010 - 9s/epoch - 127ms/step
Epoch 8/625
72/72 - 9s - loss: 1.6095 - accuracy: 0.1992 - val_loss: 1.6094 - val_accuracy: 0.2000 - lr: 0.0010 - 9s/epoch - 126ms/step
Epoch 9/625
72/72 - 9s - loss: 1.6095 - accuracy: 0.1984 - val_loss: 1.6094 - val_accuracy: 0.2000 - lr: 0.0010 - 9s/epoch - 126ms/step
Epoch 10/625
72/72 - 9s - loss: 1.6095 - accuracy: 0.1987 - val_loss: 1.6094 - val_accuracy: 0.2000 - lr: 0.0010 - 9s/epoch - 127ms/step
Epoch 11/625
72/72 - 9s - loss: 1.6095 - accuracy: 0.1989 - val_loss: 1.6094 - val_accuracy: 0.2000 - lr: 0.0010 - 9s/epoch - 128ms/step
Epoch 12/625
72/72 - 9s - loss: 1.6095 - accuracy: 0.1988 - val_loss: 1.6095 - val_accuracy: 0.2000 - lr: 0.0010 - 9s/epoch - 126ms/step
Epoch 13/625
72/72 - 9s - loss: 1.6095 - accuracy: 0.1993 - val_loss: 1.6094 - val_accuracy: 0.2000 - lr: 0.0010 - 9s/epoch - 127ms/step
Epoch 14/625
72/72 - 9s - loss: 1.6095 - accuracy: 0.1983 - val_loss: 1.6094 - val_accuracy: 0.2000 - lr: 0.0010 - 9s/epoch - 126ms/step
Epoch 15/625
72/72 - 9s - loss: 1.6095 - accuracy: 0.1998 - val_loss: 1.6094 - val_accuracy: 0.2000 - lr: 0.0010 - 9s/epoch - 130ms/step
Epoch 16/625
72/72 - 9s - loss: 1.6095 - accuracy: 0.2001 - val_loss: 1.6094 - val_accuracy: 0.2000 - lr: 0.0010 - 9s/epoch - 127ms/step
Epoch 17/625
72/72 - 9s - loss: 1.6095 - accuracy: 0.1996 - val_loss: 1.6094 - val_accuracy: 0.2000 - lr: 0.0010 - 9s/epoch - 126ms/step
Epoch 18/625
72/72 - 9s - loss: 1.6095 - accuracy: 0.1992 - val_loss: 1.6094 - val_accuracy: 0.2000 - lr: 0.0010 - 9s/epoch - 126ms/step
Epoch 19/625
72/72 - 9s - loss: 1.6095 - accuracy: 0.2000 - val_loss: 1.6094 - val_accuracy: 0.2000 - lr: 0.0010 - 9s/epoch - 126ms/step
Epoch 20/625
72/72 - 9s - loss: 1.6095 - accuracy: 0.2001 - val_loss: 1.6094 - val_accuracy: 0.2000 - lr: 0.0010 - 9s/epoch - 128ms/step
Epoch 21/625
72/72 - 9s - loss: 1.6095 - accuracy: 0.1994 - val_loss: 1.6094 - val_accuracy: 0.2000 - lr: 0.0010 - 9s/epoch - 126ms/step
Epoch 22/625
72/72 - 9s - loss: 1.6095 - accuracy: 0.1984 - val_loss: 1.6094 - val_accuracy: 0.2000 - lr: 0.0010 - 9s/epoch - 127ms/step
Epoch 23/625
72/72 - 9s - loss: 1.6095 - accuracy: 0.2000 - val_loss: 1.6094 - val_accuracy: 0.2000 - lr: 0.0010 - 9s/epoch - 126ms/step
Epoch 24/625
72/72 - 9s - loss: 1.6095 - accuracy: 0.1985 - val_loss: 1.6094 - val_accuracy: 0.2000 - lr: 0.0010 - 9s/epoch - 126ms/step
Epoch 25/625
72/72 - 9s - loss: 1.6095 - accuracy: 0.1962 - val_loss: 1.6094 - val_accuracy: 0.2000 - lr: 0.0010 - 9s/epoch - 126ms/step
Epoch 26/625
72/72 - 9s - loss: 1.6095 - accuracy: 0.1981 - val_loss: 1.6094 - val_accuracy: 0.2000 - lr: 0.0010 - 9s/epoch - 126ms/step
Epoch 27/625
72/72 - 9s - loss: 1.6095 - accuracy: 0.1970 - val_loss: 1.6094 - val_accuracy: 0.2000 - lr: 0.0010 - 9s/epoch - 128ms/step
Epoch 28/625
72/72 - 9s - loss: 1.6095 - accuracy: 0.1984 - val_loss: 1.6094 - val_accuracy: 0.2000 - lr: 0.0010 - 9s/epoch - 126ms/step
Epoch 29/625
72/72 - 9s - loss: 1.6095 - accuracy: 0.1980 - val_loss: 1.6094 - val_accuracy: 0.2000 - lr: 0.0010 - 9s/epoch - 126ms/step
Epoch 30/625
72/72 - 9s - loss: 1.6095 - accuracy: 0.1983 - val_loss: 1.6094 - val_accuracy: 0.2000 - lr: 0.0010 - 9s/epoch - 126ms/step
Epoch 31/625
72/72 - 9s - loss: 1.6095 - accuracy: 0.1995 - val_loss: 1.6094 - val_accuracy: 0.2000 - lr: 0.0010 - 9s/epoch - 126ms/step
Epoch 32/625
72/72 - 9s - loss: 1.6095 - accuracy: 0.1989 - val_loss: 1.6094 - val_accuracy: 0.2000 - lr: 0.0010 - 9s/epoch - 127ms/step
Epoch 33/625
72/72 - 9s - loss: 1.6095 - accuracy: 0.1982 - val_loss: 1.6094 - val_accuracy: 0.2000 - lr: 0.0010 - 9s/epoch - 125ms/step
Epoch 34/625
72/72 - 9s - loss: 1.6095 - accuracy: 0.1987 - val_loss: 1.6094 - val_accuracy: 0.2000 - lr: 0.0010 - 9s/epoch - 127ms/step
Epoch 35/625
72/72 - 9s - loss: 1.6095 - accuracy: 0.1991 - val_loss: 1.6094 - val_accuracy: 0.2000 - lr: 0.0010 - 9s/epoch - 126ms/step
Epoch 36/625
72/72 - 9s - loss: 1.6095 - accuracy: 0.1980 - val_loss: 1.6094 - val_accuracy: 0.2000 - lr: 0.0010 - 9s/epoch - 127ms/step
Epoch 37/625
72/72 - 9s - loss: 1.6095 - accuracy: 0.1994 - val_loss: 1.6094 - val_accuracy: 0.2000 - lr: 0.0010 - 9s/epoch - 127ms/step
Epoch 38/625
72/72 - 9s - loss: 1.6095 - accuracy: 0.1976 - val_loss: 1.6094 - val_accuracy: 0.2000 - lr: 0.0010 - 9s/epoch - 126ms/step
Epoch 39/625
72/72 - 9s - loss: 1.6095 - accuracy: 0.1980 - val_loss: 1.6094 - val_accuracy: 0.2000 - lr: 0.0010 - 9s/epoch - 126ms/step
Epoch 40/625
72/72 - 9s - loss: 1.6095 - accuracy: 0.1976 - val_loss: 1.6094 - val_accuracy: 0.2000 - lr: 0.0010 - 9s/epoch - 125ms/step
Epoch 41/625
72/72 - 9s - loss: 1.6095 - accuracy: 0.1969 - val_loss: 1.6094 - val_accuracy: 0.2000 - lr: 0.0010 - 9s/epoch - 125ms/step
Epoch 42/625
72/72 - 9s - loss: 1.6095 - accuracy: 0.1997 - val_loss: 1.6094 - val_accuracy: 0.2000 - lr: 0.0010 - 9s/epoch - 125ms/step
Epoch 43/625
72/72 - 9s - loss: 1.6095 - accuracy: 0.1990 - val_loss: 1.6094 - val_accuracy: 0.2000 - lr: 0.0010 - 9s/epoch - 126ms/step
Epoch 44/625
72/72 - 9s - loss: 1.6095 - accuracy: 0.1987 - val_loss: 1.6094 - val_accuracy: 0.2000 - lr: 0.0010 - 9s/epoch - 127ms/step
Epoch 45/625
72/72 - 9s - loss: 1.6095 - accuracy: 0.1994 - val_loss: 1.6094 - val_accuracy: 0.2000 - lr: 0.0010 - 9s/epoch - 126ms/step
Epoch 46/625
72/72 - 9s - loss: 1.6095 - accuracy: 0.1984 - val_loss: 1.6094 - val_accuracy: 0.2000 - lr: 0.0010 - 9s/epoch - 127ms/step
Epoch 47/625
72/72 - 9s - loss: 1.6095 - accuracy: 0.1994 - val_loss: 1.6094 - val_accuracy: 0.2000 - lr: 0.0010 - 9s/epoch - 127ms/step
Epoch 48/625
72/72 - 9s - loss: 1.6095 - accuracy: 0.1976 - val_loss: 1.6094 - val_accuracy: 0.2000 - lr: 0.0010 - 9s/epoch - 126ms/step
Epoch 49/625
72/72 - 9s - loss: 1.6095 - accuracy: 0.1965 - val_loss: 1.6094 - val_accuracy: 0.2000 - lr: 0.0010 - 9s/epoch - 127ms/step
Epoch 50/625
72/72 - 9s - loss: 1.6095 - accuracy: 0.1996 - val_loss: 1.6094 - val_accuracy: 0.2000 - lr: 0.0010 - 9s/epoch - 126ms/step
Epoch 51/625
72/72 - 9s - loss: 1.6095 - accuracy: 0.1991 - val_loss: 1.6094 - val_accuracy: 0.2000 - lr: 0.0010 - 9s/epoch - 126ms/step
Epoch 52/625
72/72 - 9s - loss: 1.6095 - accuracy: 0.1979 - val_loss: 1.6094 - val_accuracy: 0.2000 - lr: 0.0010 - 9s/epoch - 126ms/step
Epoch 53/625
72/72 - 9s - loss: 1.6095 - accuracy: 0.1989 - val_loss: 1.6094 - val_accuracy: 0.2000 - lr: 0.0010 - 9s/epoch - 128ms/step
Epoch 54/625
72/72 - 9s - loss: 1.6095 - accuracy: 0.1961 - val_loss: 1.6094 - val_accuracy: 0.2000 - lr: 0.0010 - 9s/epoch - 128ms/step
Epoch 55/625
72/72 - 9s - loss: 1.6095 - accuracy: 0.1980 - val_loss: 1.6094 - val_accuracy: 0.2000 - lr: 0.0010 - 9s/epoch - 126ms/step
Epoch 56/625
72/72 - 9s - loss: 1.6095 - accuracy: 0.1994 - val_loss: 1.6094 - val_accuracy: 0.2000 - lr: 0.0010 - 9s/epoch - 127ms/step
Epoch 57/625
72/72 - 9s - loss: 1.6095 - accuracy: 0.1991 - val_loss: 1.6094 - val_accuracy: 0.2000 - lr: 0.0010 - 9s/epoch - 127ms/step
Epoch 58/625
72/72 - 9s - loss: 1.6095 - accuracy: 0.1979 - val_loss: 1.6094 - val_accuracy: 0.2000 - lr: 0.0010 - 9s/epoch - 126ms/step
Epoch 59/625
72/72 - 9s - loss: 1.6095 - accuracy: 0.1985 - val_loss: 1.6094 - val_accuracy: 0.2000 - lr: 0.0010 - 9s/epoch - 125ms/step
Epoch 60/625
72/72 - 9s - loss: 1.6095 - accuracy: 0.1991 - val_loss: 1.6094 - val_accuracy: 0.2000 - lr: 0.0010 - 9s/epoch - 126ms/step
Epoch 61/625
72/72 - 9s - loss: 1.6095 - accuracy: 0.1989 - val_loss: 1.6094 - val_accuracy: 0.2000 - lr: 0.0010 - 9s/epoch - 126ms/step
Epoch 62/625
72/72 - 9s - loss: 1.6095 - accuracy: 0.1988 - val_loss: 1.6094 - val_accuracy: 0.2000 - lr: 0.0010 - 9s/epoch - 126ms/step
Epoch 63/625
72/72 - 9s - loss: 1.6095 - accuracy: 0.1991 - val_loss: 1.6094 - val_accuracy: 0.2000 - lr: 0.0010 - 9s/epoch - 126ms/step
Epoch 64/625
72/72 - 9s - loss: 1.6095 - accuracy: 0.1972 - val_loss: 1.6094 - val_accuracy: 0.2000 - lr: 0.0010 - 9s/epoch - 126ms/step
Epoch 65/625
72/72 - 9s - loss: 1.6095 - accuracy: 0.1992 - val_loss: 1.6094 - val_accuracy: 0.2000 - lr: 0.0010 - 9s/epoch - 126ms/step
Epoch 66/625
72/72 - 9s - loss: 1.6095 - accuracy: 0.1985 - val_loss: 1.6094 - val_accuracy: 0.2000 - lr: 0.0010 - 9s/epoch - 125ms/step
Epoch 67/625
72/72 - 9s - loss: 1.6095 - accuracy: 0.1990 - val_loss: 1.6094 - val_accuracy: 0.2000 - lr: 0.0010 - 9s/epoch - 128ms/step
Epoch 68/625
72/72 - 9s - loss: 1.6095 - accuracy: 0.1968 - val_loss: 1.6094 - val_accuracy: 0.2000 - lr: 0.0010 - 9s/epoch - 126ms/step
Epoch 69/625
72/72 - 9s - loss: 1.6095 - accuracy: 0.1992 - val_loss: 1.6094 - val_accuracy: 0.2000 - lr: 0.0010 - 9s/epoch - 126ms/step
Epoch 70/625
72/72 - 9s - loss: 1.6095 - accuracy: 0.2000 - val_loss: 1.6094 - val_accuracy: 0.2000 - lr: 0.0010 - 9s/epoch - 126ms/step
Epoch 71/625
72/72 - 9s - loss: 1.6095 - accuracy: 0.1966 - val_loss: 1.6094 - val_accuracy: 0.2000 - lr: 0.0010 - 9s/epoch - 126ms/step
Epoch 72/625
72/72 - 9s - loss: 1.6095 - accuracy: 0.1977 - val_loss: 1.6094 - val_accuracy: 0.2000 - lr: 0.0010 - 9s/epoch - 126ms/step
Epoch 73/625
72/72 - 9s - loss: 1.6095 - accuracy: 0.1995 - val_loss: 1.6094 - val_accuracy: 0.2000 - lr: 0.0010 - 9s/epoch - 126ms/step
Epoch 74/625
72/72 - 9s - loss: 1.6095 - accuracy: 0.1991 - val_loss: 1.6094 - val_accuracy: 0.2000 - lr: 0.0010 - 9s/epoch - 126ms/step
Epoch 75/625
72/72 - 9s - loss: 1.6095 - accuracy: 0.1963 - val_loss: 1.6094 - val_accuracy: 0.2000 - lr: 0.0010 - 9s/epoch - 127ms/step
Epoch 76/625
72/72 - 9s - loss: 1.6095 - accuracy: 0.1987 - val_loss: 1.6094 - val_accuracy: 0.2000 - lr: 0.0010 - 9s/epoch - 127ms/step
Epoch 77/625
72/72 - 9s - loss: 1.6095 - accuracy: 0.1984 - val_loss: 1.6094 - val_accuracy: 0.2000 - lr: 0.0010 - 9s/epoch - 126ms/step
Epoch 78/625
72/72 - 9s - loss: 1.6095 - accuracy: 0.1986 - val_loss: 1.6094 - val_accuracy: 0.2000 - lr: 0.0010 - 9s/epoch - 126ms/step
Epoch 79/625
72/72 - 9s - loss: 1.6095 - accuracy: 0.1995 - val_loss: 1.6094 - val_accuracy: 0.2000 - lr: 0.0010 - 9s/epoch - 126ms/step
Epoch 80/625
72/72 - 9s - loss: 1.6095 - accuracy: 0.1977 - val_loss: 1.6094 - val_accuracy: 0.2000 - lr: 0.0010 - 9s/epoch - 127ms/step
Epoch 81/625
72/72 - 9s - loss: 1.6095 - accuracy: 0.1962 - val_loss: 1.6094 - val_accuracy: 0.2000 - lr: 0.0010 - 9s/epoch - 126ms/step
Epoch 82/625
72/72 - 9s - loss: 1.6095 - accuracy: 0.1991 - val_loss: 1.6094 - val_accuracy: 0.2000 - lr: 0.0010 - 9s/epoch - 126ms/step
Epoch 83/625
72/72 - 9s - loss: 1.6095 - accuracy: 0.1990 - val_loss: 1.6094 - val_accuracy: 0.2000 - lr: 0.0010 - 9s/epoch - 126ms/step
Epoch 84/625
72/72 - 9s - loss: 1.6095 - accuracy: 0.1991 - val_loss: 1.6094 - val_accuracy: 0.2000 - lr: 0.0010 - 9s/epoch - 127ms/step
Epoch 85/625
72/72 - 9s - loss: 1.6095 - accuracy: 0.1990 - val_loss: 1.6094 - val_accuracy: 0.2000 - lr: 0.0010 - 9s/epoch - 125ms/step
Epoch 86/625
72/72 - 9s - loss: 1.6095 - accuracy: 0.1988 - val_loss: 1.6094 - val_accuracy: 0.2000 - lr: 0.0010 - 9s/epoch - 126ms/step
Epoch 87/625
72/72 - 9s - loss: 1.6095 - accuracy: 0.1987 - val_loss: 1.6094 - val_accuracy: 0.2000 - lr: 0.0010 - 9s/epoch - 128ms/step
Epoch 88/625
72/72 - 9s - loss: 1.6095 - accuracy: 0.1998 - val_loss: 1.6094 - val_accuracy: 0.2000 - lr: 0.0010 - 9s/epoch - 125ms/step
Epoch 89/625
72/72 - 9s - loss: 1.6095 - accuracy: 0.1986 - val_loss: 1.6094 - val_accuracy: 0.2000 - lr: 0.0010 - 9s/epoch - 126ms/step
Epoch 90/625
72/72 - 9s - loss: 1.6095 - accuracy: 0.1995 - val_loss: 1.6094 - val_accuracy: 0.2000 - lr: 0.0010 - 9s/epoch - 126ms/step
Epoch 91/625
72/72 - 9s - loss: 1.6095 - accuracy: 0.1981 - val_loss: 1.6094 - val_accuracy: 0.2000 - lr: 0.0010 - 9s/epoch - 125ms/step
Epoch 92/625
72/72 - 9s - loss: 1.6095 - accuracy: 0.1997 - val_loss: 1.6094 - val_accuracy: 0.2000 - lr: 0.0010 - 9s/epoch - 126ms/step
Epoch 93/625
72/72 - 9s - loss: 1.6095 - accuracy: 0.1991 - val_loss: 1.6094 - val_accuracy: 0.2000 - lr: 0.0010 - 9s/epoch - 127ms/step
Epoch 94/625
72/72 - 9s - loss: 1.6095 - accuracy: 0.1996 - val_loss: 1.6094 - val_accuracy: 0.2000 - lr: 0.0010 - 9s/epoch - 126ms/step
Epoch 95/625
72/72 - 9s - loss: 1.6095 - accuracy: 0.1980 - val_loss: 1.6094 - val_accuracy: 0.2000 - lr: 0.0010 - 9s/epoch - 126ms/step
Epoch 96/625
72/72 - 9s - loss: 1.6095 - accuracy: 0.1982 - val_loss: 1.6094 - val_accuracy: 0.2000 - lr: 0.0010 - 9s/epoch - 126ms/step
Epoch 97/625
72/72 - 9s - loss: 1.6095 - accuracy: 0.1981 - val_loss: 1.6094 - val_accuracy: 0.2000 - lr: 0.0010 - 9s/epoch - 126ms/step
Epoch 98/625
72/72 - 9s - loss: 1.6095 - accuracy: 0.1990 - val_loss: 1.6094 - val_accuracy: 0.2000 - lr: 0.0010 - 9s/epoch - 126ms/step
Epoch 99/625
72/72 - 9s - loss: 1.6095 - accuracy: 0.1993 - val_loss: 1.6094 - val_accuracy: 0.2000 - lr: 0.0010 - 9s/epoch - 126ms/step
Epoch 100/625
72/72 - 9s - loss: 1.6095 - accuracy: 0.1990 - val_loss: 1.6094 - val_accuracy: 0.2000 - lr: 0.0010 - 9s/epoch - 126ms/step
Epoch 101/625
72/72 - 9s - loss: 1.6095 - accuracy: 0.1993 - val_loss: 1.6094 - val_accuracy: 0.2000 - lr: 0.0010 - 9s/epoch - 126ms/step
Epoch 102/625
72/72 - 9s - loss: 1.6095 - accuracy: 0.2000 - val_loss: 1.6094 - val_accuracy: 0.2000 - lr: 0.0010 - 9s/epoch - 126ms/step
Epoch 103/625
72/72 - 9s - loss: 1.6095 - accuracy: 0.1986 - val_loss: 1.6094 - val_accuracy: 0.2000 - lr: 0.0010 - 9s/epoch - 126ms/step
Epoch 104/625
72/72 - 9s - loss: 1.6095 - accuracy: 0.1988 - val_loss: 1.6094 - val_accuracy: 0.2000 - lr: 0.0010 - 9s/epoch - 126ms/step
Epoch 105/625
72/72 - 9s - loss: 1.6095 - accuracy: 0.1993 - val_loss: 1.6094 - val_accuracy: 0.2000 - lr: 0.0010 - 9s/epoch - 125ms/step
Epoch 106/625
72/72 - 9s - loss: 1.6095 - accuracy: 0.1968 - val_loss: 1.6094 - val_accuracy: 0.2000 - lr: 0.0010 - 9s/epoch - 126ms/step
Epoch 107/625
72/72 - 9s - loss: 1.6095 - accuracy: 0.1982 - val_loss: 1.6094 - val_accuracy: 0.2000 - lr: 0.0010 - 9s/epoch - 126ms/step
Epoch 108/625
72/72 - 9s - loss: 1.6095 - accuracy: 0.1996 - val_loss: 1.6094 - val_accuracy: 0.2000 - lr: 0.0010 - 9s/epoch - 127ms/step
Epoch 109/625
72/72 - 9s - loss: 1.6095 - accuracy: 0.1997 - val_loss: 1.6094 - val_accuracy: 0.2000 - lr: 0.0010 - 9s/epoch - 128ms/step
Epoch 110/625
72/72 - 9s - loss: 1.6095 - accuracy: 0.1977 - val_loss: 1.6094 - val_accuracy: 0.2000 - lr: 0.0010 - 9s/epoch - 126ms/step
Epoch 111/625
72/72 - 9s - loss: 1.6095 - accuracy: 0.1991 - val_loss: 1.6094 - val_accuracy: 0.2000 - lr: 0.0010 - 9s/epoch - 126ms/step
Epoch 112/625
72/72 - 9s - loss: 1.6095 - accuracy: 0.1985 - val_loss: 1.6094 - val_accuracy: 0.2000 - lr: 0.0010 - 9s/epoch - 126ms/step
Epoch 113/625
72/72 - 9s - loss: 1.6095 - accuracy: 0.1985 - val_loss: 1.6094 - val_accuracy: 0.2000 - lr: 0.0010 - 9s/epoch - 127ms/step
Epoch 114/625
72/72 - 9s - loss: 1.6095 - accuracy: 0.1988 - val_loss: 1.6094 - val_accuracy: 0.2000 - lr: 0.0010 - 9s/epoch - 126ms/step
Epoch 115/625
72/72 - 9s - loss: 1.6095 - accuracy: 0.1996 - val_loss: 1.6094 - val_accuracy: 0.2000 - lr: 0.0010 - 9s/epoch - 126ms/step
Epoch 116/625
72/72 - 9s - loss: 1.6095 - accuracy: 0.1991 - val_loss: 1.6094 - val_accuracy: 0.2000 - lr: 0.0010 - 9s/epoch - 126ms/step
Epoch 117/625
72/72 - 9s - loss: 1.6095 - accuracy: 0.1987 - val_loss: 1.6094 - val_accuracy: 0.2000 - lr: 0.0010 - 9s/epoch - 126ms/step
Epoch 118/625
72/72 - 9s - loss: 1.6095 - accuracy: 0.1994 - val_loss: 1.6094 - val_accuracy: 0.2000 - lr: 0.0010 - 9s/epoch - 126ms/step
Epoch 119/625
72/72 - 9s - loss: 1.6095 - accuracy: 0.1991 - val_loss: 1.6094 - val_accuracy: 0.2000 - lr: 0.0010 - 9s/epoch - 126ms/step
Epoch 120/625
72/72 - 9s - loss: 1.6095 - accuracy: 0.1991 - val_loss: 1.6094 - val_accuracy: 0.2000 - lr: 0.0010 - 9s/epoch - 127ms/step
Epoch 121/625
72/72 - 9s - loss: 1.6095 - accuracy: 0.1996 - val_loss: 1.6094 - val_accuracy: 0.2000 - lr: 0.0010 - 9s/epoch - 126ms/step
Epoch 122/625
72/72 - 9s - loss: 1.6095 - accuracy: 0.1987 - val_loss: 1.6094 - val_accuracy: 0.2000 - lr: 0.0010 - 9s/epoch - 128ms/step
Epoch 123/625
72/72 - 9s - loss: 1.6095 - accuracy: 0.1970 - val_loss: 1.6094 - val_accuracy: 0.2000 - lr: 0.0010 - 9s/epoch - 126ms/step
Epoch 124/625
72/72 - 9s - loss: 1.6095 - accuracy: 0.1989 - val_loss: 1.6094 - val_accuracy: 0.2000 - lr: 0.0010 - 9s/epoch - 126ms/step
Epoch 125/625
72/72 - 9s - loss: 1.6095 - accuracy: 0.1975 - val_loss: 1.6094 - val_accuracy: 0.2000 - lr: 0.0010 - 9s/epoch - 126ms/step
Epoch 126/625
72/72 - 9s - loss: 1.6095 - accuracy: 0.1979 - val_loss: 1.6094 - val_accuracy: 0.2000 - lr: 0.0010 - 9s/epoch - 126ms/step
Epoch 127/625
72/72 - 9s - loss: 1.6095 - accuracy: 0.1973 - val_loss: 1.6094 - val_accuracy: 0.2000 - lr: 0.0010 - 9s/epoch - 125ms/step
Epoch 128/625
72/72 - 9s - loss: 1.6095 - accuracy: 0.1961 - val_loss: 1.6094 - val_accuracy: 0.2000 - lr: 0.0010 - 9s/epoch - 127ms/step
Epoch 129/625
72/72 - 9s - loss: 1.6095 - accuracy: 0.1978 - val_loss: 1.6094 - val_accuracy: 0.2000 - lr: 0.0010 - 9s/epoch - 128ms/step
Epoch 130/625
72/72 - 9s - loss: 1.6095 - accuracy: 0.1981 - val_loss: 1.6094 - val_accuracy: 0.2000 - lr: 0.0010 - 9s/epoch - 126ms/step
Epoch 131/625
72/72 - 9s - loss: 1.6095 - accuracy: 0.1976 - val_loss: 1.6094 - val_accuracy: 0.2000 - lr: 0.0010 - 9s/epoch - 127ms/step
Epoch 132/625
72/72 - 9s - loss: 1.6095 - accuracy: 0.1979 - val_loss: 1.6094 - val_accuracy: 0.2000 - lr: 0.0010 - 9s/epoch - 126ms/step
Epoch 133/625
72/72 - 9s - loss: 1.6095 - accuracy: 0.1984 - val_loss: 1.6094 - val_accuracy: 0.2000 - lr: 0.0010 - 9s/epoch - 126ms/step
Epoch 134/625
72/72 - 9s - loss: 1.6095 - accuracy: 0.1995 - val_loss: 1.6094 - val_accuracy: 0.2000 - lr: 0.0010 - 9s/epoch - 127ms/step
Epoch 135/625
72/72 - 9s - loss: 1.6095 - accuracy: 0.1987 - val_loss: 1.6094 - val_accuracy: 0.2000 - lr: 0.0010 - 9s/epoch - 126ms/step
Epoch 136/625
72/72 - 9s - loss: 1.6095 - accuracy: 0.1983 - val_loss: 1.6094 - val_accuracy: 0.2000 - lr: 0.0010 - 9s/epoch - 126ms/step
Epoch 137/625
72/72 - 9s - loss: 1.6095 - accuracy: 0.1988 - val_loss: 1.6094 - val_accuracy: 0.2000 - lr: 0.0010 - 9s/epoch - 126ms/step
Epoch 138/625
72/72 - 9s - loss: 1.6095 - accuracy: 0.2001 - val_loss: 1.6094 - val_accuracy: 0.2000 - lr: 0.0010 - 9s/epoch - 126ms/step
Epoch 139/625
72/72 - 9s - loss: 1.6095 - accuracy: 0.2002 - val_loss: 1.6094 - val_accuracy: 0.2000 - lr: 0.0010 - 9s/epoch - 125ms/step
Epoch 140/625
72/72 - 9s - loss: 1.6095 - accuracy: 0.1976 - val_loss: 1.6094 - val_accuracy: 0.2000 - lr: 0.0010 - 9s/epoch - 126ms/step
Epoch 141/625
72/72 - 9s - loss: 1.6095 - accuracy: 0.1985 - val_loss: 1.6094 - val_accuracy: 0.2000 - lr: 0.0010 - 9s/epoch - 128ms/step
Epoch 142/625
72/72 - 9s - loss: 1.6095 - accuracy: 0.1988 - val_loss: 1.6094 - val_accuracy: 0.2000 - lr: 0.0010 - 9s/epoch - 126ms/step
Epoch 143/625
72/72 - 9s - loss: 1.6095 - accuracy: 0.1975 - val_loss: 1.6094 - val_accuracy: 0.2000 - lr: 0.0010 - 9s/epoch - 128ms/step
Epoch 144/625
72/72 - 9s - loss: 1.6095 - accuracy: 0.1980 - val_loss: 1.6094 - val_accuracy: 0.2000 - lr: 0.0010 - 9s/epoch - 126ms/step
Epoch 145/625
72/72 - 9s - loss: 1.6095 - accuracy: 0.1987 - val_loss: 1.6094 - val_accuracy: 0.2000 - lr: 0.0010 - 9s/epoch - 126ms/step
Epoch 146/625
72/72 - 9s - loss: 1.6095 - accuracy: 0.1982 - val_loss: 1.6094 - val_accuracy: 0.2000 - lr: 0.0010 - 9s/epoch - 126ms/step
Epoch 147/625
72/72 - 9s - loss: 1.6095 - accuracy: 0.1959 - val_loss: 1.6094 - val_accuracy: 0.2000 - lr: 0.0010 - 9s/epoch - 127ms/step
Epoch 148/625
72/72 - 9s - loss: 1.6095 - accuracy: 0.1983 - val_loss: 1.6094 - val_accuracy: 0.2000 - lr: 0.0010 - 9s/epoch - 127ms/step
Epoch 149/625
72/72 - 9s - loss: 1.6095 - accuracy: 0.1971 - val_loss: 1.6094 - val_accuracy: 0.2000 - lr: 0.0010 - 9s/epoch - 128ms/step
Epoch 150/625
72/72 - 9s - loss: 1.6095 - accuracy: 0.1985 - val_loss: 1.6094 - val_accuracy: 0.2000 - lr: 0.0010 - 9s/epoch - 126ms/step
Epoch 151/625
72/72 - 9s - loss: 1.6095 - accuracy: 0.1972 - val_loss: 1.6094 - val_accuracy: 0.2000 - lr: 0.0010 - 9s/epoch - 127ms/step
Epoch 152/625
72/72 - 9s - loss: 1.6095 - accuracy: 0.1986 - val_loss: 1.6094 - val_accuracy: 0.2000 - lr: 0.0010 - 9s/epoch - 126ms/step
Epoch 153/625
72/72 - 9s - loss: 1.6095 - accuracy: 0.1998 - val_loss: 1.6094 - val_accuracy: 0.2000 - lr: 0.0010 - 9s/epoch - 126ms/step
Epoch 154/625
72/72 - 9s - loss: 1.6095 - accuracy: 0.1982 - val_loss: 1.6094 - val_accuracy: 0.2000 - lr: 0.0010 - 9s/epoch - 126ms/step
Epoch 155/625
72/72 - 9s - loss: 1.6095 - accuracy: 0.1979 - val_loss: 1.6094 - val_accuracy: 0.2000 - lr: 0.0010 - 9s/epoch - 127ms/step
Epoch 156/625
72/72 - 9s - loss: 1.6095 - accuracy: 0.1984 - val_loss: 1.6094 - val_accuracy: 0.2000 - lr: 0.0010 - 9s/epoch - 126ms/step
Epoch 157/625
72/72 - 9s - loss: 1.6095 - accuracy: 0.1981 - val_loss: 1.6094 - val_accuracy: 0.2000 - lr: 0.0010 - 9s/epoch - 126ms/step
Epoch 158/625
72/72 - 9s - loss: 1.6095 - accuracy: 0.1980 - val_loss: 1.6094 - val_accuracy: 0.2000 - lr: 0.0010 - 9s/epoch - 126ms/step
Epoch 159/625
72/72 - 9s - loss: 1.6095 - accuracy: 0.1991 - val_loss: 1.6094 - val_accuracy: 0.2000 - lr: 0.0010 - 9s/epoch - 126ms/step
Epoch 160/625
72/72 - 9s - loss: 1.6095 - accuracy: 0.1984 - val_loss: 1.6094 - val_accuracy: 0.2000 - lr: 0.0010 - 9s/epoch - 128ms/step
Epoch 161/625
72/72 - 9s - loss: 1.6095 - accuracy: 0.1996 - val_loss: 1.6094 - val_accuracy: 0.2000 - lr: 0.0010 - 9s/epoch - 125ms/step
Epoch 162/625
72/72 - 9s - loss: 1.6095 - accuracy: 0.1978 - val_loss: 1.6094 - val_accuracy: 0.2000 - lr: 0.0010 - 9s/epoch - 126ms/step
Epoch 163/625
72/72 - 9s - loss: 1.6095 - accuracy: 0.1979 - val_loss: 1.6094 - val_accuracy: 0.2000 - lr: 0.0010 - 9s/epoch - 127ms/step
Epoch 164/625
72/72 - 9s - loss: 1.6095 - accuracy: 0.1979 - val_loss: 1.6094 - val_accuracy: 0.2000 - lr: 0.0010 - 9s/epoch - 126ms/step
Epoch 165/625
72/72 - 9s - loss: 1.6095 - accuracy: 0.1991 - val_loss: 1.6094 - val_accuracy: 0.2000 - lr: 0.0010 - 9s/epoch - 126ms/step
Epoch 166/625
72/72 - 9s - loss: 1.6095 - accuracy: 0.1971 - val_loss: 1.6094 - val_accuracy: 0.2000 - lr: 0.0010 - 9s/epoch - 127ms/step
Epoch 167/625
72/72 - 9s - loss: 1.6095 - accuracy: 0.1975 - val_loss: 1.6094 - val_accuracy: 0.2000 - lr: 0.0010 - 9s/epoch - 126ms/step
Epoch 168/625
72/72 - 9s - loss: 1.6095 - accuracy: 0.1982 - val_loss: 1.6094 - val_accuracy: 0.2000 - lr: 0.0010 - 9s/epoch - 126ms/step
Epoch 169/625
72/72 - 9s - loss: 1.6095 - accuracy: 0.1977 - val_loss: 1.6094 - val_accuracy: 0.2000 - lr: 0.0010 - 9s/epoch - 126ms/step
Epoch 170/625
72/72 - 9s - loss: 1.6095 - accuracy: 0.1995 - val_loss: 1.6094 - val_accuracy: 0.2000 - lr: 0.0010 - 9s/epoch - 126ms/step
Epoch 171/625
72/72 - 9s - loss: 1.6095 - accuracy: 0.1986 - val_loss: 1.6094 - val_accuracy: 0.2000 - lr: 0.0010 - 9s/epoch - 126ms/step
Epoch 172/625
72/72 - 9s - loss: 1.6094 - accuracy: 0.1999 - val_loss: 1.6094 - val_accuracy: 0.2000 - lr: 0.0010 - 9s/epoch - 126ms/step
Epoch 173/625
72/72 - 9s - loss: 1.6095 - accuracy: 0.1983 - val_loss: 1.6094 - val_accuracy: 0.2000 - lr: 0.0010 - 9s/epoch - 127ms/step
Epoch 174/625
72/72 - 9s - loss: 1.6095 - accuracy: 0.1990 - val_loss: 1.6094 - val_accuracy: 0.2000 - lr: 0.0010 - 9s/epoch - 127ms/step
Epoch 175/625
72/72 - 9s - loss: 1.6095 - accuracy: 0.1988 - val_loss: 1.6094 - val_accuracy: 0.2000 - lr: 0.0010 - 9s/epoch - 126ms/step
Epoch 176/625
72/72 - 9s - loss: 1.6095 - accuracy: 0.1978 - val_loss: 1.6094 - val_accuracy: 0.2000 - lr: 0.0010 - 9s/epoch - 126ms/step
Epoch 177/625
72/72 - 9s - loss: 1.6095 - accuracy: 0.1982 - val_loss: 1.6094 - val_accuracy: 0.2000 - lr: 0.0010 - 9s/epoch - 127ms/step
Epoch 178/625
72/72 - 9s - loss: 1.6095 - accuracy: 0.1983 - val_loss: 1.6094 - val_accuracy: 0.2000 - lr: 0.0010 - 9s/epoch - 125ms/step
Epoch 179/625
72/72 - 9s - loss: 1.6095 - accuracy: 0.1998 - val_loss: 1.6094 - val_accuracy: 0.2000 - lr: 0.0010 - 9s/epoch - 126ms/step
Epoch 180/625
72/72 - 9s - loss: 1.6095 - accuracy: 0.1994 - val_loss: 1.6094 - val_accuracy: 0.2000 - lr: 0.0010 - 9s/epoch - 126ms/step
Epoch 181/625
72/72 - 9s - loss: 1.6095 - accuracy: 0.2001 - val_loss: 1.6094 - val_accuracy: 0.2000 - lr: 0.0010 - 9s/epoch - 127ms/step
Epoch 182/625
72/72 - 9s - loss: 1.6095 - accuracy: 0.1992 - val_loss: 1.6094 - val_accuracy: 0.2000 - lr: 0.0010 - 9s/epoch - 128ms/step
Epoch 183/625
72/72 - 9s - loss: 1.6095 - accuracy: 0.1994 - val_loss: 1.6094 - val_accuracy: 0.2000 - lr: 0.0010 - 9s/epoch - 126ms/step
Epoch 184/625
72/72 - 9s - loss: 1.6095 - accuracy: 0.1978 - val_loss: 1.6094 - val_accuracy: 0.2000 - lr: 0.0010 - 9s/epoch - 127ms/step
Epoch 185/625
72/72 - 9s - loss: 1.6095 - accuracy: 0.1982 - val_loss: 1.6094 - val_accuracy: 0.2000 - lr: 0.0010 - 9s/epoch - 126ms/step
Epoch 186/625
72/72 - 9s - loss: 1.6095 - accuracy: 0.1990 - val_loss: 1.6094 - val_accuracy: 0.2000 - lr: 0.0010 - 9s/epoch - 126ms/step
Epoch 187/625
72/72 - 9s - loss: 1.6095 - accuracy: 0.1996 - val_loss: 1.6094 - val_accuracy: 0.2000 - lr: 0.0010 - 9s/epoch - 127ms/step
Epoch 188/625
72/72 - 9s - loss: 1.6095 - accuracy: 0.2000 - val_loss: 1.6094 - val_accuracy: 0.2000 - lr: 0.0010 - 9s/epoch - 126ms/step
Epoch 189/625
72/72 - 9s - loss: 1.6095 - accuracy: 0.1982 - val_loss: 1.6094 - val_accuracy: 0.2000 - lr: 0.0010 - 9s/epoch - 126ms/step
Epoch 190/625
72/72 - 9s - loss: 1.6095 - accuracy: 0.1988 - val_loss: 1.6094 - val_accuracy: 0.2000 - lr: 0.0010 - 9s/epoch - 126ms/step
Epoch 191/625
72/72 - 9s - loss: 1.6095 - accuracy: 0.1983 - val_loss: 1.6094 - val_accuracy: 0.2000 - lr: 0.0010 - 9s/epoch - 126ms/step
Epoch 192/625
72/72 - 9s - loss: 1.6095 - accuracy: 0.2007 - val_loss: 1.6094 - val_accuracy: 0.2000 - lr: 0.0010 - 9s/epoch - 126ms/step
Epoch 193/625
72/72 - 9s - loss: 1.6095 - accuracy: 0.1987 - val_loss: 1.6094 - val_accuracy: 0.2000 - lr: 0.0010 - 9s/epoch - 127ms/step
Epoch 194/625
72/72 - 9s - loss: 1.6095 - accuracy: 0.1982 - val_loss: 1.6094 - val_accuracy: 0.2000 - lr: 0.0010 - 9s/epoch - 126ms/step
Epoch 195/625
72/72 - 9s - loss: 1.6094 - accuracy: 0.1997 - val_loss: 1.6094 - val_accuracy: 0.2000 - lr: 0.0010 - 9s/epoch - 127ms/step
Epoch 196/625
72/72 - 9s - loss: 1.6095 - accuracy: 0.1987 - val_loss: 1.6094 - val_accuracy: 0.2000 - lr: 0.0010 - 9s/epoch - 126ms/step
Epoch 197/625
72/72 - 9s - loss: 1.6095 - accuracy: 0.1991 - val_loss: 1.6094 - val_accuracy: 0.2000 - lr: 0.0010 - 9s/epoch - 127ms/step
Epoch 198/625
72/72 - 9s - loss: 1.6095 - accuracy: 0.1984 - val_loss: 1.6094 - val_accuracy: 0.2000 - lr: 0.0010 - 9s/epoch - 125ms/step
Epoch 199/625
72/72 - 9s - loss: 1.6095 - accuracy: 0.1981 - val_loss: 1.6094 - val_accuracy: 0.2000 - lr: 0.0010 - 9s/epoch - 127ms/step
Epoch 200/625
72/72 - 9s - loss: 1.6095 - accuracy: 0.1971 - val_loss: 1.6094 - val_accuracy: 0.2000 - lr: 0.0010 - 9s/epoch - 126ms/step
Epoch 201/625
72/72 - 9s - loss: 1.6095 - accuracy: 0.1999 - val_loss: 1.6094 - val_accuracy: 0.2000 - lr: 0.0010 - 9s/epoch - 128ms/step
Epoch 202/625
72/72 - 9s - loss: 1.6095 - accuracy: 0.1978 - val_loss: 1.6094 - val_accuracy: 0.2000 - lr: 0.0010 - 9s/epoch - 126ms/step
Epoch 203/625
72/72 - 9s - loss: 1.6095 - accuracy: 0.1994 - val_loss: 1.6094 - val_accuracy: 0.2000 - lr: 0.0010 - 9s/epoch - 127ms/step
Epoch 204/625
72/72 - 9s - loss: 1.6095 - accuracy: 0.1991 - val_loss: 1.6094 - val_accuracy: 0.2000 - lr: 0.0010 - 9s/epoch - 127ms/step
Epoch 205/625
72/72 - 9s - loss: 1.6095 - accuracy: 0.1972 - val_loss: 1.6094 - val_accuracy: 0.2000 - lr: 0.0010 - 9s/epoch - 126ms/step
Epoch 206/625
72/72 - 9s - loss: 1.6095 - accuracy: 0.1992 - val_loss: 1.6094 - val_accuracy: 0.2000 - lr: 0.0010 - 9s/epoch - 126ms/step
Epoch 207/625
72/72 - 9s - loss: 1.6095 - accuracy: 0.1979 - val_loss: 1.6094 - val_accuracy: 0.2000 - lr: 0.0010 - 9s/epoch - 127ms/step
Epoch 208/625
72/72 - 9s - loss: 1.6095 - accuracy: 0.2004 - val_loss: 1.6094 - val_accuracy: 0.2000 - lr: 0.0010 - 9s/epoch - 126ms/step
Epoch 209/625
72/72 - 9s - loss: 1.6095 - accuracy: 0.1981 - val_loss: 1.6094 - val_accuracy: 0.2000 - lr: 0.0010 - 9s/epoch - 126ms/step
Epoch 210/625
72/72 - 9s - loss: 1.6095 - accuracy: 0.1975 - val_loss: 1.6094 - val_accuracy: 0.2000 - lr: 0.0010 - 9s/epoch - 126ms/step
Epoch 211/625
72/72 - 9s - loss: 1.6095 - accuracy: 0.1994 - val_loss: 1.6094 - val_accuracy: 0.2000 - lr: 0.0010 - 9s/epoch - 128ms/step
Epoch 212/625
72/72 - 9s - loss: 1.6095 - accuracy: 0.1971 - val_loss: 1.6094 - val_accuracy: 0.2000 - lr: 0.0010 - 9s/epoch - 127ms/step
Epoch 213/625
72/72 - 9s - loss: 1.6095 - accuracy: 0.1990 - val_loss: 1.6094 - val_accuracy: 0.2000 - lr: 0.0010 - 9s/epoch - 126ms/step
Epoch 214/625
72/72 - 9s - loss: 1.6095 - accuracy: 0.1989 - val_loss: 1.6094 - val_accuracy: 0.2000 - lr: 0.0010 - 9s/epoch - 127ms/step
Epoch 215/625
72/72 - 9s - loss: 1.6095 - accuracy: 0.1997 - val_loss: 1.6094 - val_accuracy: 0.2000 - lr: 0.0010 - 9s/epoch - 127ms/step
Epoch 216/625
72/72 - 9s - loss: 1.6095 - accuracy: 0.1974 - val_loss: 1.6094 - val_accuracy: 0.2000 - lr: 0.0010 - 9s/epoch - 128ms/step
Epoch 217/625
72/72 - 9s - loss: 1.6095 - accuracy: 0.1986 - val_loss: 1.6094 - val_accuracy: 0.2000 - lr: 0.0010 - 9s/epoch - 126ms/step
Epoch 218/625
72/72 - 9s - loss: 1.6095 - accuracy: 0.1990 - val_loss: 1.6094 - val_accuracy: 0.2000 - lr: 0.0010 - 9s/epoch - 126ms/step
Epoch 219/625
72/72 - 9s - loss: 1.6095 - accuracy: 0.2002 - val_loss: 1.6094 - val_accuracy: 0.2000 - lr: 0.0010 - 9s/epoch - 127ms/step
Epoch 220/625
72/72 - 9s - loss: 1.6095 - accuracy: 0.1990 - val_loss: 1.6094 - val_accuracy: 0.2000 - lr: 0.0010 - 9s/epoch - 126ms/step
Epoch 221/625
72/72 - 9s - loss: 1.6095 - accuracy: 0.1976 - val_loss: 1.6094 - val_accuracy: 0.2000 - lr: 0.0010 - 9s/epoch - 125ms/step
Epoch 222/625
72/72 - 9s - loss: 1.6095 - accuracy: 0.1990 - val_loss: 1.6094 - val_accuracy: 0.2000 - lr: 0.0010 - 9s/epoch - 126ms/step
Epoch 223/625
72/72 - 9s - loss: 1.6095 - accuracy: 0.1984 - val_loss: 1.6094 - val_accuracy: 0.2000 - lr: 0.0010 - 9s/epoch - 126ms/step
Epoch 224/625
72/72 - 9s - loss: 1.6095 - accuracy: 0.1980 - val_loss: 1.6094 - val_accuracy: 0.2000 - lr: 0.0010 - 9s/epoch - 126ms/step
Epoch 225/625
72/72 - 9s - loss: 1.6095 - accuracy: 0.2001 - val_loss: 1.6094 - val_accuracy: 0.2000 - lr: 0.0010 - 9s/epoch - 127ms/step
Epoch 226/625
72/72 - 9s - loss: 1.6095 - accuracy: 0.1975 - val_loss: 1.6094 - val_accuracy: 0.2000 - lr: 0.0010 - 9s/epoch - 126ms/step
Epoch 227/625
72/72 - 9s - loss: 1.6095 - accuracy: 0.1974 - val_loss: 1.6094 - val_accuracy: 0.2000 - lr: 0.0010 - 9s/epoch - 126ms/step
Epoch 228/625
72/72 - 9s - loss: 1.6095 - accuracy: 0.1979 - val_loss: 1.6094 - val_accuracy: 0.2000 - lr: 0.0010 - 9s/epoch - 127ms/step
Epoch 229/625
72/72 - 9s - loss: 1.6095 - accuracy: 0.1981 - val_loss: 1.6094 - val_accuracy: 0.2000 - lr: 0.0010 - 9s/epoch - 128ms/step
Epoch 230/625
72/72 - 9s - loss: 1.6095 - accuracy: 0.1977 - val_loss: 1.6094 - val_accuracy: 0.2000 - lr: 0.0010 - 9s/epoch - 126ms/step
Epoch 231/625
72/72 - 9s - loss: 1.6095 - accuracy: 0.1975 - val_loss: 1.6094 - val_accuracy: 0.2000 - lr: 0.0010 - 9s/epoch - 127ms/step
Epoch 232/625
72/72 - 9s - loss: 1.6095 - accuracy: 0.1983 - val_loss: 1.6094 - val_accuracy: 0.2000 - lr: 0.0010 - 9s/epoch - 128ms/step
Epoch 233/625
72/72 - 9s - loss: 1.6095 - accuracy: 0.1991 - val_loss: 1.6094 - val_accuracy: 0.2000 - lr: 0.0010 - 9s/epoch - 126ms/step
Epoch 234/625
72/72 - 9s - loss: 1.6095 - accuracy: 0.1983 - val_loss: 1.6094 - val_accuracy: 0.2000 - lr: 0.0010 - 9s/epoch - 128ms/step
Epoch 235/625
72/72 - 9s - loss: 1.6095 - accuracy: 0.1982 - val_loss: 1.6094 - val_accuracy: 0.2000 - lr: 0.0010 - 9s/epoch - 126ms/step
Epoch 236/625
72/72 - 9s - loss: 1.6095 - accuracy: 0.1976 - val_loss: 1.6094 - val_accuracy: 0.2000 - lr: 0.0010 - 9s/epoch - 126ms/step
Epoch 237/625
72/72 - 9s - loss: 1.6095 - accuracy: 0.1982 - val_loss: 1.6094 - val_accuracy: 0.2000 - lr: 0.0010 - 9s/epoch - 125ms/step
Epoch 238/625
72/72 - 9s - loss: 1.6095 - accuracy: 0.1984 - val_loss: 1.6094 - val_accuracy: 0.2000 - lr: 0.0010 - 9s/epoch - 126ms/step
Epoch 239/625
72/72 - 9s - loss: 1.6095 - accuracy: 0.1966 - val_loss: 1.6094 - val_accuracy: 0.2000 - lr: 0.0010 - 9s/epoch - 128ms/step
Epoch 240/625
72/72 - 9s - loss: 1.6095 - accuracy: 0.1995 - val_loss: 1.6094 - val_accuracy: 0.2000 - lr: 0.0010 - 9s/epoch - 126ms/step
Epoch 241/625
72/72 - 9s - loss: 1.6095 - accuracy: 0.1985 - val_loss: 1.6094 - val_accuracy: 0.2000 - lr: 0.0010 - 9s/epoch - 126ms/step
Epoch 242/625
72/72 - 9s - loss: 1.6095 - accuracy: 0.1968 - val_loss: 1.6094 - val_accuracy: 0.2000 - lr: 0.0010 - 9s/epoch - 125ms/step
Epoch 243/625
72/72 - 9s - loss: 1.6095 - accuracy: 0.1989 - val_loss: 1.6094 - val_accuracy: 0.2000 - lr: 0.0010 - 9s/epoch - 127ms/step
Epoch 244/625
72/72 - 9s - loss: 1.6095 - accuracy: 0.1987 - val_loss: 1.6094 - val_accuracy: 0.2000 - lr: 0.0010 - 9s/epoch - 126ms/step
Epoch 245/625
72/72 - 9s - loss: 1.6095 - accuracy: 0.1992 - val_loss: 1.6094 - val_accuracy: 0.2000 - lr: 0.0010 - 9s/epoch - 126ms/step
Epoch 246/625
72/72 - 9s - loss: 1.6094 - accuracy: 0.1988 - val_loss: 1.6094 - val_accuracy: 0.2000 - lr: 0.0010 - 9s/epoch - 126ms/step
Epoch 247/625
72/72 - 9s - loss: 1.6095 - accuracy: 0.1977 - val_loss: 1.6094 - val_accuracy: 0.2000 - lr: 0.0010 - 9s/epoch - 128ms/step
Epoch 248/625
72/72 - 9s - loss: 1.6095 - accuracy: 0.1977 - val_loss: 1.6094 - val_accuracy: 0.2000 - lr: 0.0010 - 9s/epoch - 125ms/step
Epoch 249/625
72/72 - 9s - loss: 1.6095 - accuracy: 0.1997 - val_loss: 1.6094 - val_accuracy: 0.2000 - lr: 0.0010 - 9s/epoch - 127ms/step
Epoch 250/625
72/72 - 9s - loss: 1.6095 - accuracy: 0.1981 - val_loss: 1.6094 - val_accuracy: 0.2000 - lr: 0.0010 - 9s/epoch - 127ms/step
Epoch 251/625
72/72 - 9s - loss: 1.6095 - accuracy: 0.1994 - val_loss: 1.6094 - val_accuracy: 0.2000 - lr: 0.0010 - 9s/epoch - 126ms/step
Epoch 252/625
72/72 - 9s - loss: 1.6095 - accuracy: 0.1978 - val_loss: 1.6094 - val_accuracy: 0.2000 - lr: 0.0010 - 9s/epoch - 126ms/step
Epoch 253/625
72/72 - 9s - loss: 1.6095 - accuracy: 0.1977 - val_loss: 1.6094 - val_accuracy: 0.2000 - lr: 0.0010 - 9s/epoch - 128ms/step
Epoch 254/625
72/72 - 9s - loss: 1.6095 - accuracy: 0.1986 - val_loss: 1.6094 - val_accuracy: 0.2000 - lr: 0.0010 - 9s/epoch - 127ms/step
Epoch 255/625
72/72 - 9s - loss: 1.6095 - accuracy: 0.2001 - val_loss: 1.6094 - val_accuracy: 0.2000 - lr: 0.0010 - 9s/epoch - 127ms/step
Epoch 256/625
72/72 - 9s - loss: 1.6095 - accuracy: 0.1977 - val_loss: 1.6094 - val_accuracy: 0.2000 - lr: 0.0010 - 9s/epoch - 127ms/step
Epoch 257/625
72/72 - 9s - loss: 1.6095 - accuracy: 0.1995 - val_loss: 1.6094 - val_accuracy: 0.2000 - lr: 0.0010 - 9s/epoch - 126ms/step
Epoch 258/625
72/72 - 9s - loss: 1.6095 - accuracy: 0.1969 - val_loss: 1.6094 - val_accuracy: 0.2000 - lr: 0.0010 - 9s/epoch - 126ms/step
Epoch 259/625
72/72 - 9s - loss: 1.6095 - accuracy: 0.1990 - val_loss: 1.6094 - val_accuracy: 0.2000 - lr: 0.0010 - 9s/epoch - 126ms/step
Epoch 260/625
72/72 - 9s - loss: 1.6095 - accuracy: 0.1982 - val_loss: 1.6094 - val_accuracy: 0.2000 - lr: 0.0010 - 9s/epoch - 126ms/step
Epoch 261/625
72/72 - 9s - loss: 1.6095 - accuracy: 0.1987 - val_loss: 1.6094 - val_accuracy: 0.2000 - lr: 0.0010 - 9s/epoch - 126ms/step
Epoch 262/625
72/72 - 9s - loss: 1.6095 - accuracy: 0.1984 - val_loss: 1.6094 - val_accuracy: 0.2000 - lr: 0.0010 - 9s/epoch - 126ms/step
Epoch 263/625
72/72 - 9s - loss: 1.6095 - accuracy: 0.1990 - val_loss: 1.6094 - val_accuracy: 0.2000 - lr: 0.0010 - 9s/epoch - 126ms/step
Epoch 264/625
72/72 - 9s - loss: 1.6095 - accuracy: 0.1988 - val_loss: 1.6094 - val_accuracy: 0.2000 - lr: 0.0010 - 9s/epoch - 126ms/step
Epoch 265/625
72/72 - 9s - loss: 1.6095 - accuracy: 0.1980 - val_loss: 1.6094 - val_accuracy: 0.2000 - lr: 0.0010 - 9s/epoch - 127ms/step
Epoch 266/625
72/72 - 9s - loss: 1.6095 - accuracy: 0.1980 - val_loss: 1.6094 - val_accuracy: 0.2000 - lr: 0.0010 - 9s/epoch - 126ms/step
Epoch 267/625
72/72 - 9s - loss: 1.6095 - accuracy: 0.1995 - val_loss: 1.6094 - val_accuracy: 0.2000 - lr: 0.0010 - 9s/epoch - 127ms/step
Epoch 268/625
72/72 - 9s - loss: 1.6095 - accuracy: 0.1982 - val_loss: 1.6094 - val_accuracy: 0.2000 - lr: 0.0010 - 9s/epoch - 129ms/step
Epoch 269/625
72/72 - 9s - loss: 1.6095 - accuracy: 0.1974 - val_loss: 1.6094 - val_accuracy: 0.2000 - lr: 0.0010 - 9s/epoch - 126ms/step
Epoch 270/625
72/72 - 9s - loss: 1.6095 - accuracy: 0.1979 - val_loss: 1.6094 - val_accuracy: 0.2000 - lr: 0.0010 - 9s/epoch - 126ms/step
Epoch 271/625
72/72 - 9s - loss: 1.6095 - accuracy: 0.1978 - val_loss: 1.6094 - val_accuracy: 0.2000 - lr: 0.0010 - 9s/epoch - 125ms/step
Epoch 272/625
72/72 - 9s - loss: 1.6095 - accuracy: 0.1976 - val_loss: 1.6094 - val_accuracy: 0.2000 - lr: 0.0010 - 9s/epoch - 126ms/step
Epoch 273/625
72/72 - 9s - loss: 1.6095 - accuracy: 0.1970 - val_loss: 1.6094 - val_accuracy: 0.2000 - lr: 0.0010 - 9s/epoch - 125ms/step
Epoch 274/625
72/72 - 9s - loss: 1.6095 - accuracy: 0.1994 - val_loss: 1.6094 - val_accuracy: 0.2000 - lr: 0.0010 - 9s/epoch - 126ms/step
Epoch 275/625
72/72 - 9s - loss: 1.6095 - accuracy: 0.1994 - val_loss: 1.6094 - val_accuracy: 0.2000 - lr: 0.0010 - 9s/epoch - 126ms/step
Epoch 276/625
72/72 - 9s - loss: 1.6095 - accuracy: 0.1991 - val_loss: 1.6094 - val_accuracy: 0.2000 - lr: 0.0010 - 9s/epoch - 125ms/step
Epoch 277/625
72/72 - 9s - loss: 1.6095 - accuracy: 0.1974 - val_loss: 1.6094 - val_accuracy: 0.2000 - lr: 0.0010 - 9s/epoch - 127ms/step
Epoch 278/625
72/72 - 9s - loss: 1.6095 - accuracy: 0.1979 - val_loss: 1.6094 - val_accuracy: 0.2000 - lr: 0.0010 - 9s/epoch - 126ms/step
Epoch 279/625
72/72 - 9s - loss: 1.6095 - accuracy: 0.1988 - val_loss: 1.6094 - val_accuracy: 0.2000 - lr: 0.0010 - 9s/epoch - 126ms/step
Epoch 280/625
72/72 - 9s - loss: 1.6095 - accuracy: 0.1987 - val_loss: 1.6094 - val_accuracy: 0.2000 - lr: 0.0010 - 9s/epoch - 126ms/step
Epoch 281/625
72/72 - 9s - loss: 1.6095 - accuracy: 0.1987 - val_loss: 1.6094 - val_accuracy: 0.2000 - lr: 0.0010 - 9s/epoch - 126ms/step
Epoch 282/625
72/72 - 9s - loss: 1.6095 - accuracy: 0.1998 - val_loss: 1.6094 - val_accuracy: 0.2000 - lr: 0.0010 - 9s/epoch - 127ms/step
Epoch 283/625
72/72 - 9s - loss: 1.6095 - accuracy: 0.1953 - val_loss: 1.6094 - val_accuracy: 0.2000 - lr: 0.0010 - 9s/epoch - 126ms/step
Epoch 284/625
72/72 - 9s - loss: 1.6095 - accuracy: 0.1981 - val_loss: 1.6094 - val_accuracy: 0.2000 - lr: 0.0010 - 9s/epoch - 127ms/step
Epoch 285/625
72/72 - 9s - loss: 1.6095 - accuracy: 0.1989 - val_loss: 1.6094 - val_accuracy: 0.2000 - lr: 0.0010 - 9s/epoch - 126ms/step
Epoch 286/625
72/72 - 9s - loss: 1.6095 - accuracy: 0.1972 - val_loss: 1.6094 - val_accuracy: 0.2000 - lr: 0.0010 - 9s/epoch - 128ms/step
Epoch 287/625
72/72 - 9s - loss: 1.6095 - accuracy: 0.2000 - val_loss: 1.6094 - val_accuracy: 0.2000 - lr: 0.0010 - 9s/epoch - 126ms/step
Epoch 288/625
72/72 - 9s - loss: 1.6095 - accuracy: 0.1982 - val_loss: 1.6094 - val_accuracy: 0.2000 - lr: 0.0010 - 9s/epoch - 127ms/step
Epoch 289/625
72/72 - 9s - loss: 1.6095 - accuracy: 0.1966 - val_loss: 1.6094 - val_accuracy: 0.2000 - lr: 0.0010 - 9s/epoch - 127ms/step
Epoch 290/625
72/72 - 9s - loss: 1.6095 - accuracy: 0.1981 - val_loss: 1.6094 - val_accuracy: 0.2000 - lr: 0.0010 - 9s/epoch - 127ms/step
Epoch 291/625
72/72 - 9s - loss: 1.6095 - accuracy: 0.2000 - val_loss: 1.6094 - val_accuracy: 0.2000 - lr: 0.0010 - 9s/epoch - 126ms/step
Epoch 292/625
72/72 - 9s - loss: 1.6095 - accuracy: 0.1978 - val_loss: 1.6094 - val_accuracy: 0.2000 - lr: 0.0010 - 9s/epoch - 127ms/step
Epoch 293/625
72/72 - 9s - loss: 1.6095 - accuracy: 0.1997 - val_loss: 1.6094 - val_accuracy: 0.2000 - lr: 0.0010 - 9s/epoch - 127ms/step
Epoch 294/625
72/72 - 9s - loss: 1.6095 - accuracy: 0.1984 - val_loss: 1.6094 - val_accuracy: 0.2000 - lr: 0.0010 - 9s/epoch - 126ms/step
Epoch 295/625
72/72 - 9s - loss: 1.6095 - accuracy: 0.1985 - val_loss: 1.6094 - val_accuracy: 0.2000 - lr: 0.0010 - 9s/epoch - 126ms/step
Epoch 296/625
72/72 - 9s - loss: 1.6095 - accuracy: 0.1978 - val_loss: 1.6094 - val_accuracy: 0.2000 - lr: 0.0010 - 9s/epoch - 128ms/step
Epoch 297/625
72/72 - 9s - loss: 1.6095 - accuracy: 0.1975 - val_loss: 1.6094 - val_accuracy: 0.2000 - lr: 0.0010 - 9s/epoch - 127ms/step
Epoch 298/625
72/72 - 9s - loss: 1.6095 - accuracy: 0.1990 - val_loss: 1.6094 - val_accuracy: 0.2000 - lr: 0.0010 - 9s/epoch - 127ms/step
Epoch 299/625
72/72 - 9s - loss: 1.6095 - accuracy: 0.1972 - val_loss: 1.6094 - val_accuracy: 0.2000 - lr: 0.0010 - 9s/epoch - 126ms/step
Epoch 300/625
72/72 - 9s - loss: 1.6095 - accuracy: 0.2008 - val_loss: 1.6094 - val_accuracy: 0.2000 - lr: 0.0010 - 9s/epoch - 126ms/step
Epoch 301/625
72/72 - 9s - loss: 1.6095 - accuracy: 0.1980 - val_loss: 1.6094 - val_accuracy: 0.2000 - lr: 0.0010 - 9s/epoch - 126ms/step
Epoch 302/625
72/72 - 9s - loss: 1.6095 - accuracy: 0.1985 - val_loss: 1.6094 - val_accuracy: 0.2000 - lr: 0.0010 - 9s/epoch - 126ms/step
Epoch 303/625
72/72 - 9s - loss: 1.6094 - accuracy: 0.2001 - val_loss: 1.6094 - val_accuracy: 0.2000 - lr: 0.0010 - 9s/epoch - 126ms/step
Epoch 304/625
72/72 - 9s - loss: 1.6095 - accuracy: 0.1995 - val_loss: 1.6094 - val_accuracy: 0.2000 - lr: 0.0010 - 9s/epoch - 126ms/step
Epoch 305/625
72/72 - 9s - loss: 1.6095 - accuracy: 0.1992 - val_loss: 1.6094 - val_accuracy: 0.2000 - lr: 0.0010 - 9s/epoch - 127ms/step
Epoch 306/625
72/72 - 9s - loss: 1.6095 - accuracy: 0.2001 - val_loss: 1.6094 - val_accuracy: 0.2000 - lr: 0.0010 - 9s/epoch - 128ms/step
Epoch 307/625
72/72 - 9s - loss: 1.6095 - accuracy: 0.1988 - val_loss: 1.6094 - val_accuracy: 0.2000 - lr: 0.0010 - 9s/epoch - 126ms/step
Epoch 308/625
72/72 - 9s - loss: 1.6095 - accuracy: 0.1979 - val_loss: 1.6094 - val_accuracy: 0.2000 - lr: 0.0010 - 9s/epoch - 126ms/step
Epoch 309/625
72/72 - 9s - loss: 1.6095 - accuracy: 0.1986 - val_loss: 1.6094 - val_accuracy: 0.2000 - lr: 0.0010 - 9s/epoch - 126ms/step
Epoch 310/625
72/72 - 9s - loss: 1.6095 - accuracy: 0.1994 - val_loss: 1.6094 - val_accuracy: 0.2000 - lr: 0.0010 - 9s/epoch - 126ms/step
Epoch 311/625
72/72 - 9s - loss: 1.6095 - accuracy: 0.1981 - val_loss: 1.6094 - val_accuracy: 0.2000 - lr: 0.0010 - 9s/epoch - 126ms/step
Epoch 312/625
72/72 - 9s - loss: 1.6095 - accuracy: 0.1989 - val_loss: 1.6094 - val_accuracy: 0.2000 - lr: 0.0010 - 9s/epoch - 126ms/step
Epoch 313/625
72/72 - 9s - loss: 1.6095 - accuracy: 0.1987 - val_loss: 1.6094 - val_accuracy: 0.2000 - lr: 0.0010 - 9s/epoch - 125ms/step
Epoch 314/625
72/72 - 9s - loss: 1.6095 - accuracy: 0.1985 - val_loss: 1.6094 - val_accuracy: 0.2000 - lr: 0.0010 - 9s/epoch - 128ms/step
Epoch 315/625
72/72 - 9s - loss: 1.6095 - accuracy: 0.1982 - val_loss: 1.6094 - val_accuracy: 0.2000 - lr: 0.0010 - 9s/epoch - 126ms/step
Epoch 316/625
72/72 - 9s - loss: 1.6095 - accuracy: 0.1978 - val_loss: 1.6094 - val_accuracy: 0.2000 - lr: 0.0010 - 9s/epoch - 126ms/step
Epoch 317/625
72/72 - 9s - loss: 1.6095 - accuracy: 0.1996 - val_loss: 1.6094 - val_accuracy: 0.2000 - lr: 0.0010 - 9s/epoch - 127ms/step
Epoch 318/625
72/72 - 9s - loss: 1.6095 - accuracy: 0.1989 - val_loss: 1.6094 - val_accuracy: 0.2000 - lr: 0.0010 - 9s/epoch - 126ms/step
Epoch 319/625
72/72 - 9s - loss: 1.6095 - accuracy: 0.1987 - val_loss: 1.6094 - val_accuracy: 0.2000 - lr: 0.0010 - 9s/epoch - 127ms/step
Epoch 320/625
72/72 - 9s - loss: 1.6095 - accuracy: 0.1969 - val_loss: 1.6094 - val_accuracy: 0.2000 - lr: 0.0010 - 9s/epoch - 126ms/step
Epoch 321/625
72/72 - 9s - loss: 1.6095 - accuracy: 0.1977 - val_loss: 1.6094 - val_accuracy: 0.2000 - lr: 0.0010 - 9s/epoch - 132ms/step
Epoch 322/625
72/72 - 9s - loss: 1.6095 - accuracy: 0.1994 - val_loss: 1.6094 - val_accuracy: 0.2000 - lr: 0.0010 - 9s/epoch - 128ms/step
Epoch 323/625
72/72 - 9s - loss: 1.6095 - accuracy: 0.1971 - val_loss: 1.6094 - val_accuracy: 0.2000 - lr: 0.0010 - 9s/epoch - 130ms/step
Epoch 324/625
72/72 - 9s - loss: 1.6095 - accuracy: 0.1974 - val_loss: 1.6094 - val_accuracy: 0.2000 - lr: 0.0010 - 9s/epoch - 122ms/step
Epoch 325/625
72/72 - 8s - loss: 1.6095 - accuracy: 0.1980 - val_loss: 1.6094 - val_accuracy: 0.2000 - lr: 0.0010 - 8s/epoch - 113ms/step
Epoch 326/625
72/72 - 8s - loss: 1.6095 - accuracy: 0.1964 - val_loss: 1.6094 - val_accuracy: 0.2000 - lr: 0.0010 - 8s/epoch - 109ms/step
Epoch 327/625
72/72 - 12s - loss: 1.6095 - accuracy: 0.1988 - val_loss: 1.6094 - val_accuracy: 0.2000 - lr: 0.0010 - 12s/epoch - 171ms/step
Epoch 328/625
72/72 - 10s - loss: 1.6095 - accuracy: 0.1978 - val_loss: 1.6094 - val_accuracy: 0.2000 - lr: 0.0010 - 10s/epoch - 139ms/step
Epoch 329/625
72/72 - 12s - loss: 1.6095 - accuracy: 0.1987 - val_loss: 1.6094 - val_accuracy: 0.2000 - lr: 0.0010 - 12s/epoch - 170ms/step
Epoch 330/625
72/72 - 15s - loss: 1.6095 - accuracy: 0.2000 - val_loss: 1.6094 - val_accuracy: 0.2000 - lr: 0.0010 - 15s/epoch - 211ms/step
Epoch 331/625
72/72 - 13s - loss: 1.6095 - accuracy: 0.1997 - val_loss: 1.6094 - val_accuracy: 0.2000 - lr: 0.0010 - 13s/epoch - 184ms/step
Epoch 332/625
72/72 - 13s - loss: 1.6095 - accuracy: 0.1970 - val_loss: 1.6094 - val_accuracy: 0.2000 - lr: 0.0010 - 13s/epoch - 177ms/step
Epoch 333/625
72/72 - 12s - loss: 1.6095 - accuracy: 0.1977 - val_loss: 1.6094 - val_accuracy: 0.2000 - lr: 0.0010 - 12s/epoch - 173ms/step
Epoch 334/625
72/72 - 12s - loss: 1.6095 - accuracy: 0.1994 - val_loss: 1.6094 - val_accuracy: 0.2000 - lr: 0.0010 - 12s/epoch - 169ms/step
Epoch 335/625
72/72 - 13s - loss: 1.6095 - accuracy: 0.1989 - val_loss: 1.6094 - val_accuracy: 0.2000 - lr: 0.0010 - 13s/epoch - 185ms/step
Epoch 336/625
72/72 - 13s - loss: 1.6095 - accuracy: 0.1978 - val_loss: 1.6094 - val_accuracy: 0.2000 - lr: 0.0010 - 13s/epoch - 187ms/step
Epoch 337/625
72/72 - 14s - loss: 1.6095 - accuracy: 0.1984 - val_loss: 1.6094 - val_accuracy: 0.2000 - lr: 0.0010 - 14s/epoch - 188ms/step
Epoch 338/625
72/72 - 15s - loss: 1.6095 - accuracy: 0.1993 - val_loss: 1.6094 - val_accuracy: 0.2000 - lr: 0.0010 - 15s/epoch - 206ms/step
Epoch 339/625
72/72 - 14s - loss: 1.6095 - accuracy: 0.1979 - val_loss: 1.6094 - val_accuracy: 0.2000 - lr: 0.0010 - 14s/epoch - 193ms/step
Epoch 340/625
72/72 - 14s - loss: 1.6095 - accuracy: 0.1986 - val_loss: 1.6094 - val_accuracy: 0.2000 - lr: 0.0010 - 14s/epoch - 189ms/step
Epoch 341/625
72/72 - 13s - loss: 1.6095 - accuracy: 0.1979 - val_loss: 1.6094 - val_accuracy: 0.2000 - lr: 0.0010 - 13s/epoch - 186ms/step
Epoch 342/625
72/72 - 14s - loss: 1.6095 - accuracy: 0.1990 - val_loss: 1.6094 - val_accuracy: 0.2000 - lr: 0.0010 - 14s/epoch - 189ms/step
Epoch 343/625
72/72 - 13s - loss: 1.6095 - accuracy: 0.1973 - val_loss: 1.6094 - val_accuracy: 0.2000 - lr: 0.0010 - 13s/epoch - 187ms/step
Epoch 344/625
72/72 - 14s - loss: 1.6095 - accuracy: 0.1980 - val_loss: 1.6094 - val_accuracy: 0.2000 - lr: 0.0010 - 14s/epoch - 198ms/step
Epoch 345/625
72/72 - 14s - loss: 1.6095 - accuracy: 0.1979 - val_loss: 1.6094 - val_accuracy: 0.2000 - lr: 0.0010 - 14s/epoch - 195ms/step
Epoch 346/625
72/72 - 13s - loss: 1.6095 - accuracy: 0.2001 - val_loss: 1.6094 - val_accuracy: 0.2000 - lr: 0.0010 - 13s/epoch - 183ms/step
Epoch 347/625
72/72 - 13s - loss: 1.6095 - accuracy: 0.1986 - val_loss: 1.6094 - val_accuracy: 0.2000 - lr: 0.0010 - 13s/epoch - 180ms/step
Epoch 348/625
72/72 - 14s - loss: 1.6095 - accuracy: 0.1981 - val_loss: 1.6094 - val_accuracy: 0.2000 - lr: 0.0010 - 14s/epoch - 195ms/step
Epoch 349/625
72/72 - 14s - loss: 1.6095 - accuracy: 0.1976 - val_loss: 1.6094 - val_accuracy: 0.2000 - lr: 0.0010 - 14s/epoch - 189ms/step
Epoch 350/625
72/72 - 13s - loss: 1.6095 - accuracy: 0.1994 - val_loss: 1.6094 - val_accuracy: 0.2000 - lr: 0.0010 - 13s/epoch - 184ms/step
Epoch 351/625
72/72 - 12s - loss: 1.6095 - accuracy: 0.1986 - val_loss: 1.6094 - val_accuracy: 0.2000 - lr: 0.0010 - 12s/epoch - 172ms/step
Epoch 352/625
72/72 - 12s - loss: 1.6095 - accuracy: 0.1966 - val_loss: 1.6094 - val_accuracy: 0.2000 - lr: 0.0010 - 12s/epoch - 172ms/step
Epoch 353/625
72/72 - 12s - loss: 1.6095 - accuracy: 0.1981 - val_loss: 1.6094 - val_accuracy: 0.2000 - lr: 0.0010 - 12s/epoch - 171ms/step
Epoch 354/625
72/72 - 14s - loss: 1.6095 - accuracy: 0.1994 - val_loss: 1.6094 - val_accuracy: 0.2000 - lr: 0.0010 - 14s/epoch - 192ms/step
Epoch 355/625
72/72 - 14s - loss: 1.6095 - accuracy: 0.1983 - val_loss: 1.6094 - val_accuracy: 0.2000 - lr: 0.0010 - 14s/epoch - 192ms/step
Epoch 356/625
72/72 - 15s - loss: 1.6095 - accuracy: 0.1989 - val_loss: 1.6094 - val_accuracy: 0.2000 - lr: 0.0010 - 15s/epoch - 203ms/step
Epoch 357/625
72/72 - 14s - loss: 1.6095 - accuracy: 0.1983 - val_loss: 1.6094 - val_accuracy: 0.2000 - lr: 0.0010 - 14s/epoch - 197ms/step
Epoch 358/625
72/72 - 14s - loss: 1.6095 - accuracy: 0.1983 - val_loss: 1.6094 - val_accuracy: 0.2000 - lr: 0.0010 - 14s/epoch - 199ms/step
Epoch 359/625
72/72 - 14s - loss: 1.6095 - accuracy: 0.1977 - val_loss: 1.6094 - val_accuracy: 0.2000 - lr: 0.0010 - 14s/epoch - 196ms/step
Epoch 360/625
72/72 - 14s - loss: 1.6095 - accuracy: 0.1987 - val_loss: 1.6094 - val_accuracy: 0.2000 - lr: 0.0010 - 14s/epoch - 197ms/step
Epoch 361/625
72/72 - 15s - loss: 1.6095 - accuracy: 0.1999 - val_loss: 1.6094 - val_accuracy: 0.2000 - lr: 0.0010 - 15s/epoch - 204ms/step
Epoch 362/625
72/72 - 13s - loss: 1.6095 - accuracy: 0.1988 - val_loss: 1.6094 - val_accuracy: 0.2000 - lr: 0.0010 - 13s/epoch - 183ms/step
Epoch 363/625
72/72 - 13s - loss: 1.6095 - accuracy: 0.1975 - val_loss: 1.6094 - val_accuracy: 0.2000 - lr: 0.0010 - 13s/epoch - 176ms/step
Epoch 364/625
72/72 - 14s - loss: 1.6095 - accuracy: 0.1982 - val_loss: 1.6094 - val_accuracy: 0.2000 - lr: 0.0010 - 14s/epoch - 188ms/step
Epoch 365/625
72/72 - 13s - loss: 1.6095 - accuracy: 0.1987 - val_loss: 1.6094 - val_accuracy: 0.2000 - lr: 0.0010 - 13s/epoch - 187ms/step
Epoch 366/625
72/72 - 15s - loss: 1.6095 - accuracy: 0.1973 - val_loss: 1.6094 - val_accuracy: 0.2000 - lr: 0.0010 - 15s/epoch - 207ms/step
Epoch 367/625
72/72 - 14s - loss: 1.6095 - accuracy: 0.1985 - val_loss: 1.6094 - val_accuracy: 0.2000 - lr: 0.0010 - 14s/epoch - 194ms/step
Epoch 368/625
72/72 - 13s - loss: 1.6095 - accuracy: 0.1973 - val_loss: 1.6094 - val_accuracy: 0.2000 - lr: 0.0010 - 13s/epoch - 181ms/step
Epoch 369/625
72/72 - 14s - loss: 1.6095 - accuracy: 0.1986 - val_loss: 1.6094 - val_accuracy: 0.2000 - lr: 0.0010 - 14s/epoch - 192ms/step
Epoch 370/625
72/72 - 14s - loss: 1.6095 - accuracy: 0.1990 - val_loss: 1.6094 - val_accuracy: 0.2000 - lr: 0.0010 - 14s/epoch - 198ms/step
Epoch 371/625
72/72 - 15s - loss: 1.6095 - accuracy: 0.1983 - val_loss: 1.6094 - val_accuracy: 0.2000 - lr: 0.0010 - 15s/epoch - 204ms/step
Epoch 372/625
72/72 - 14s - loss: 1.6095 - accuracy: 0.1996 - val_loss: 1.6094 - val_accuracy: 0.2000 - lr: 0.0010 - 14s/epoch - 192ms/step
Epoch 373/625
72/72 - 15s - loss: 1.6095 - accuracy: 0.1979 - val_loss: 1.6094 - val_accuracy: 0.2000 - lr: 0.0010 - 15s/epoch - 204ms/step
Epoch 374/625
72/72 - 14s - loss: 1.6095 - accuracy: 0.1983 - val_loss: 1.6094 - val_accuracy: 0.2000 - lr: 0.0010 - 14s/epoch - 200ms/step
Epoch 375/625
72/72 - 15s - loss: 1.6095 - accuracy: 0.1994 - val_loss: 1.6094 - val_accuracy: 0.2000 - lr: 0.0010 - 15s/epoch - 203ms/step
Epoch 376/625
72/72 - 13s - loss: 1.6095 - accuracy: 0.1972 - val_loss: 1.6094 - val_accuracy: 0.2000 - lr: 0.0010 - 13s/epoch - 182ms/step
Epoch 377/625
72/72 - 13s - loss: 1.6095 - accuracy: 0.1985 - val_loss: 1.6094 - val_accuracy: 0.2000 - lr: 0.0010 - 13s/epoch - 186ms/step
Epoch 378/625
72/72 - 13s - loss: 1.6095 - accuracy: 0.1984 - val_loss: 1.6094 - val_accuracy: 0.2000 - lr: 0.0010 - 13s/epoch - 187ms/step
Epoch 379/625
72/72 - 13s - loss: 1.6095 - accuracy: 0.1990 - val_loss: 1.6094 - val_accuracy: 0.2000 - lr: 0.0010 - 13s/epoch - 180ms/step
Epoch 380/625
72/72 - 14s - loss: 1.6095 - accuracy: 0.1987 - val_loss: 1.6094 - val_accuracy: 0.2000 - lr: 0.0010 - 14s/epoch - 194ms/step
Epoch 381/625
72/72 - 14s - loss: 1.6095 - accuracy: 0.1998 - val_loss: 1.6094 - val_accuracy: 0.2000 - lr: 0.0010 - 14s/epoch - 197ms/step
Epoch 382/625
72/72 - 14s - loss: 1.6095 - accuracy: 0.1991 - val_loss: 1.6094 - val_accuracy: 0.2000 - lr: 0.0010 - 14s/epoch - 199ms/step
Epoch 383/625
72/72 - 14s - loss: 1.6095 - accuracy: 0.1993 - val_loss: 1.6094 - val_accuracy: 0.2000 - lr: 0.0010 - 14s/epoch - 199ms/step
Epoch 384/625
72/72 - 14s - loss: 1.6095 - accuracy: 0.1970 - val_loss: 1.6094 - val_accuracy: 0.2000 - lr: 0.0010 - 14s/epoch - 197ms/step
Epoch 385/625
72/72 - 14s - loss: 1.6095 - accuracy: 0.1998 - val_loss: 1.6094 - val_accuracy: 0.2000 - lr: 0.0010 - 14s/epoch - 195ms/step
Epoch 386/625
72/72 - 13s - loss: 1.6095 - accuracy: 0.1981 - val_loss: 1.6094 - val_accuracy: 0.2000 - lr: 0.0010 - 13s/epoch - 182ms/step
Epoch 387/625
72/72 - 13s - loss: 1.6095 - accuracy: 0.1988 - val_loss: 1.6094 - val_accuracy: 0.2000 - lr: 0.0010 - 13s/epoch - 186ms/step
Epoch 388/625
72/72 - 13s - loss: 1.6095 - accuracy: 0.1990 - val_loss: 1.6094 - val_accuracy: 0.2000 - lr: 0.0010 - 13s/epoch - 178ms/step
Epoch 389/625
72/72 - 13s - loss: 1.6095 - accuracy: 0.1979 - val_loss: 1.6094 - val_accuracy: 0.2000 - lr: 0.0010 - 13s/epoch - 185ms/step
Epoch 390/625
72/72 - 14s - loss: 1.6095 - accuracy: 0.1972 - val_loss: 1.6094 - val_accuracy: 0.2000 - lr: 0.0010 - 14s/epoch - 189ms/step
Epoch 391/625
72/72 - 14s - loss: 1.6095 - accuracy: 0.1983 - val_loss: 1.6094 - val_accuracy: 0.2000 - lr: 0.0010 - 14s/epoch - 191ms/step
Epoch 392/625
72/72 - 13s - loss: 1.6095 - accuracy: 0.1975 - val_loss: 1.6094 - val_accuracy: 0.2000 - lr: 0.0010 - 13s/epoch - 186ms/step
Epoch 393/625
72/72 - 14s - loss: 1.6095 - accuracy: 0.1978 - val_loss: 1.6094 - val_accuracy: 0.2000 - lr: 0.0010 - 14s/epoch - 191ms/step
Epoch 394/625
72/72 - 14s - loss: 1.6095 - accuracy: 0.1984 - val_loss: 1.6094 - val_accuracy: 0.2000 - lr: 0.0010 - 14s/epoch - 193ms/step
Epoch 395/625
72/72 - 13s - loss: 1.6095 - accuracy: 0.1999 - val_loss: 1.6094 - val_accuracy: 0.2000 - lr: 0.0010 - 13s/epoch - 180ms/step
Epoch 396/625
72/72 - 13s - loss: 1.6095 - accuracy: 0.1991 - val_loss: 1.6094 - val_accuracy: 0.2000 - lr: 0.0010 - 13s/epoch - 187ms/step
Epoch 397/625
72/72 - 13s - loss: 1.6095 - accuracy: 0.1985 - val_loss: 1.6094 - val_accuracy: 0.2000 - lr: 0.0010 - 13s/epoch - 182ms/step
Epoch 398/625
72/72 - 14s - loss: 1.6095 - accuracy: 0.1996 - val_loss: 1.6094 - val_accuracy: 0.2000 - lr: 0.0010 - 14s/epoch - 191ms/step
Epoch 399/625
72/72 - 12s - loss: 1.6095 - accuracy: 0.1980 - val_loss: 1.6094 - val_accuracy: 0.2000 - lr: 0.0010 - 12s/epoch - 168ms/step
Epoch 400/625
72/72 - 14s - loss: 1.6095 - accuracy: 0.1982 - val_loss: 1.6094 - val_accuracy: 0.2000 - lr: 0.0010 - 14s/epoch - 194ms/step
Epoch 401/625
72/72 - 14s - loss: 1.6095 - accuracy: 0.1982 - val_loss: 1.6094 - val_accuracy: 0.2000 - lr: 0.0010 - 14s/epoch - 190ms/step
Epoch 402/625
72/72 - 14s - loss: 1.6095 - accuracy: 0.1994 - val_loss: 1.6094 - val_accuracy: 0.2000 - lr: 0.0010 - 14s/epoch - 188ms/step
Epoch 403/625
72/72 - 14s - loss: 1.6095 - accuracy: 0.1994 - val_loss: 1.6094 - val_accuracy: 0.2000 - lr: 0.0010 - 14s/epoch - 195ms/step
Epoch 404/625
72/72 - 14s - loss: 1.6095 - accuracy: 0.1976 - val_loss: 1.6094 - val_accuracy: 0.2000 - lr: 0.0010 - 14s/epoch - 195ms/step
Epoch 405/625
72/72 - 14s - loss: 1.6095 - accuracy: 0.1981 - val_loss: 1.6094 - val_accuracy: 0.2000 - lr: 0.0010 - 14s/epoch - 197ms/step
Epoch 406/625
72/72 - 15s - loss: 1.6095 - accuracy: 0.1981 - val_loss: 1.6094 - val_accuracy: 0.2000 - lr: 0.0010 - 15s/epoch - 203ms/step
Epoch 407/625
72/72 - 14s - loss: 1.6095 - accuracy: 0.1985 - val_loss: 1.6094 - val_accuracy: 0.2000 - lr: 0.0010 - 14s/epoch - 193ms/step
Epoch 408/625
72/72 - 15s - loss: 1.6094 - accuracy: 0.1982 - val_loss: 1.6094 - val_accuracy: 0.2000 - lr: 0.0010 - 15s/epoch - 212ms/step
Epoch 409/625
72/72 - 16s - loss: 1.6095 - accuracy: 0.1983 - val_loss: 1.6094 - val_accuracy: 0.2000 - lr: 0.0010 - 16s/epoch - 218ms/step
Epoch 410/625
72/72 - 15s - loss: 1.6095 - accuracy: 0.1965 - val_loss: 1.6094 - val_accuracy: 0.2000 - lr: 0.0010 - 15s/epoch - 202ms/step
Epoch 411/625
72/72 - 15s - loss: 1.6095 - accuracy: 0.1988 - val_loss: 1.6094 - val_accuracy: 0.2000 - lr: 0.0010 - 15s/epoch - 202ms/step
Epoch 412/625
72/72 - 13s - loss: 1.6095 - accuracy: 0.1990 - val_loss: 1.6094 - val_accuracy: 0.2000 - lr: 0.0010 - 13s/epoch - 186ms/step
Epoch 413/625
72/72 - 14s - loss: 1.6095 - accuracy: 0.1995 - val_loss: 1.6094 - val_accuracy: 0.2000 - lr: 0.0010 - 14s/epoch - 189ms/step
Epoch 414/625
72/72 - 14s - loss: 1.6095 - accuracy: 0.1980 - val_loss: 1.6094 - val_accuracy: 0.2000 - lr: 0.0010 - 14s/epoch - 191ms/step
Epoch 415/625
72/72 - 14s - loss: 1.6095 - accuracy: 0.1995 - val_loss: 1.6094 - val_accuracy: 0.2000 - lr: 0.0010 - 14s/epoch - 190ms/step
Epoch 416/625
72/72 - 14s - loss: 1.6095 - accuracy: 0.1974 - val_loss: 1.6094 - val_accuracy: 0.2000 - lr: 0.0010 - 14s/epoch - 198ms/step
Epoch 417/625
72/72 - 14s - loss: 1.6095 - accuracy: 0.1991 - val_loss: 1.6094 - val_accuracy: 0.2000 - lr: 0.0010 - 14s/epoch - 192ms/step
Epoch 418/625
72/72 - 14s - loss: 1.6095 - accuracy: 0.1985 - val_loss: 1.6094 - val_accuracy: 0.2000 - lr: 0.0010 - 14s/epoch - 191ms/step
Epoch 419/625
72/72 - 14s - loss: 1.6095 - accuracy: 0.1980 - val_loss: 1.6094 - val_accuracy: 0.2000 - lr: 0.0010 - 14s/epoch - 196ms/step
Epoch 420/625
72/72 - 14s - loss: 1.6095 - accuracy: 0.1985 - val_loss: 1.6094 - val_accuracy: 0.2000 - lr: 0.0010 - 14s/epoch - 201ms/step
Epoch 421/625
72/72 - 14s - loss: 1.6095 - accuracy: 0.1968 - val_loss: 1.6094 - val_accuracy: 0.2000 - lr: 0.0010 - 14s/epoch - 189ms/step
Epoch 422/625
72/72 - 13s - loss: 1.6095 - accuracy: 0.1984 - val_loss: 1.6094 - val_accuracy: 0.2000 - lr: 0.0010 - 13s/epoch - 187ms/step
Epoch 423/625
72/72 - 13s - loss: 1.6095 - accuracy: 0.1986 - val_loss: 1.6094 - val_accuracy: 0.2000 - lr: 0.0010 - 13s/epoch - 177ms/step
Epoch 424/625
72/72 - 13s - loss: 1.6095 - accuracy: 0.1977 - val_loss: 1.6094 - val_accuracy: 0.2000 - lr: 0.0010 - 13s/epoch - 186ms/step
Epoch 425/625
72/72 - 13s - loss: 1.6095 - accuracy: 0.1990 - val_loss: 1.6094 - val_accuracy: 0.2000 - lr: 0.0010 - 13s/epoch - 182ms/step
Epoch 426/625
72/72 - 13s - loss: 1.6095 - accuracy: 0.1959 - val_loss: 1.6094 - val_accuracy: 0.2000 - lr: 0.0010 - 13s/epoch - 179ms/step
Epoch 427/625
72/72 - 14s - loss: 1.6095 - accuracy: 0.1976 - val_loss: 1.6094 - val_accuracy: 0.2000 - lr: 0.0010 - 14s/epoch - 188ms/step
Epoch 428/625
72/72 - 13s - loss: 1.6095 - accuracy: 0.1974 - val_loss: 1.6094 - val_accuracy: 0.2000 - lr: 0.0010 - 13s/epoch - 186ms/step
Epoch 429/625
72/72 - 13s - loss: 1.6095 - accuracy: 0.1987 - val_loss: 1.6094 - val_accuracy: 0.2000 - lr: 0.0010 - 13s/epoch - 185ms/step
Epoch 430/625
72/72 - 13s - loss: 1.6095 - accuracy: 0.1977 - val_loss: 1.6094 - val_accuracy: 0.2000 - lr: 0.0010 - 13s/epoch - 179ms/step
Epoch 431/625
72/72 - 14s - loss: 1.6095 - accuracy: 0.1983 - val_loss: 1.6094 - val_accuracy: 0.2000 - lr: 0.0010 - 14s/epoch - 188ms/step
Epoch 432/625
72/72 - 13s - loss: 1.6095 - accuracy: 0.1972 - val_loss: 1.6094 - val_accuracy: 0.2000 - lr: 0.0010 - 13s/epoch - 178ms/step
Epoch 433/625
72/72 - 13s - loss: 1.6095 - accuracy: 0.1981 - val_loss: 1.6094 - val_accuracy: 0.2000 - lr: 0.0010 - 13s/epoch - 183ms/step
Epoch 434/625
72/72 - 14s - loss: 1.6095 - accuracy: 0.1989 - val_loss: 1.6094 - val_accuracy: 0.2000 - lr: 0.0010 - 14s/epoch - 195ms/step
Epoch 435/625
72/72 - 14s - loss: 1.6095 - accuracy: 0.1991 - val_loss: 1.6094 - val_accuracy: 0.2000 - lr: 0.0010 - 14s/epoch - 193ms/step
Epoch 436/625
72/72 - 14s - loss: 1.6095 - accuracy: 0.1987 - val_loss: 1.6094 - val_accuracy: 0.2000 - lr: 0.0010 - 14s/epoch - 194ms/step
Epoch 437/625
72/72 - 15s - loss: 1.6095 - accuracy: 0.1984 - val_loss: 1.6094 - val_accuracy: 0.2000 - lr: 0.0010 - 15s/epoch - 203ms/step
Epoch 438/625
72/72 - 16s - loss: 1.6095 - accuracy: 0.1968 - val_loss: 1.6094 - val_accuracy: 0.2000 - lr: 0.0010 - 16s/epoch - 217ms/step
Epoch 439/625
72/72 - 14s - loss: 1.6095 - accuracy: 0.1998 - val_loss: 1.6094 - val_accuracy: 0.2000 - lr: 0.0010 - 14s/epoch - 201ms/step
Epoch 440/625
72/72 - 14s - loss: 1.6095 - accuracy: 0.1972 - val_loss: 1.6094 - val_accuracy: 0.2000 - lr: 0.0010 - 14s/epoch - 192ms/step
Epoch 441/625
72/72 - 14s - loss: 1.6095 - accuracy: 0.1986 - val_loss: 1.6094 - val_accuracy: 0.2000 - lr: 0.0010 - 14s/epoch - 197ms/step
Epoch 442/625
72/72 - 14s - loss: 1.6095 - accuracy: 0.1981 - val_loss: 1.6094 - val_accuracy: 0.2000 - lr: 0.0010 - 14s/epoch - 196ms/step
Epoch 443/625
72/72 - 15s - loss: 1.6095 - accuracy: 0.1978 - val_loss: 1.6094 - val_accuracy: 0.2000 - lr: 0.0010 - 15s/epoch - 208ms/step
Epoch 444/625
72/72 - 14s - loss: 1.6095 - accuracy: 0.1998 - val_loss: 1.6094 - val_accuracy: 0.2000 - lr: 0.0010 - 14s/epoch - 199ms/step
Epoch 445/625
72/72 - 14s - loss: 1.6095 - accuracy: 0.2002 - val_loss: 1.6094 - val_accuracy: 0.2000 - lr: 0.0010 - 14s/epoch - 192ms/step
Epoch 446/625
72/72 - 14s - loss: 1.6095 - accuracy: 0.1992 - val_loss: 1.6094 - val_accuracy: 0.2000 - lr: 0.0010 - 14s/epoch - 196ms/step
Epoch 447/625
72/72 - 14s - loss: 1.6095 - accuracy: 0.1992 - val_loss: 1.6094 - val_accuracy: 0.2000 - lr: 0.0010 - 14s/epoch - 200ms/step
Epoch 448/625
72/72 - 14s - loss: 1.6095 - accuracy: 0.1988 - val_loss: 1.6094 - val_accuracy: 0.2000 - lr: 0.0010 - 14s/epoch - 197ms/step
Epoch 449/625
72/72 - 14s - loss: 1.6095 - accuracy: 0.1991 - val_loss: 1.6094 - val_accuracy: 0.2000 - lr: 0.0010 - 14s/epoch - 194ms/step
Epoch 450/625
72/72 - 14s - loss: 1.6095 - accuracy: 0.1998 - val_loss: 1.6094 - val_accuracy: 0.2000 - lr: 0.0010 - 14s/epoch - 193ms/step
Epoch 451/625
72/72 - 14s - loss: 1.6095 - accuracy: 0.1992 - val_loss: 1.6094 - val_accuracy: 0.2000 - lr: 0.0010 - 14s/epoch - 200ms/step
Epoch 452/625
72/72 - 14s - loss: 1.6095 - accuracy: 0.1974 - val_loss: 1.6094 - val_accuracy: 0.2000 - lr: 0.0010 - 14s/epoch - 191ms/step
Epoch 453/625
72/72 - 14s - loss: 1.6095 - accuracy: 0.1992 - val_loss: 1.6094 - val_accuracy: 0.2000 - lr: 0.0010 - 14s/epoch - 199ms/step
Epoch 454/625
72/72 - 14s - loss: 1.6095 - accuracy: 0.1973 - val_loss: 1.6094 - val_accuracy: 0.2000 - lr: 0.0010 - 14s/epoch - 196ms/step
Epoch 455/625
72/72 - 14s - loss: 1.6095 - accuracy: 0.1974 - val_loss: 1.6094 - val_accuracy: 0.2000 - lr: 0.0010 - 14s/epoch - 195ms/step
Epoch 456/625
72/72 - 14s - loss: 1.6095 - accuracy: 0.1993 - val_loss: 1.6094 - val_accuracy: 0.2000 - lr: 0.0010 - 14s/epoch - 192ms/step
Epoch 457/625
72/72 - 14s - loss: 1.6095 - accuracy: 0.1972 - val_loss: 1.6094 - val_accuracy: 0.2000 - lr: 0.0010 - 14s/epoch - 193ms/step
Epoch 458/625
72/72 - 14s - loss: 1.6095 - accuracy: 0.1985 - val_loss: 1.6094 - val_accuracy: 0.2000 - lr: 0.0010 - 14s/epoch - 197ms/step
Epoch 459/625
72/72 - 14s - loss: 1.6095 - accuracy: 0.1992 - val_loss: 1.6094 - val_accuracy: 0.2000 - lr: 0.0010 - 14s/epoch - 194ms/step
Epoch 460/625
72/72 - 14s - loss: 1.6095 - accuracy: 0.1985 - val_loss: 1.6094 - val_accuracy: 0.2000 - lr: 0.0010 - 14s/epoch - 200ms/step
Epoch 461/625
72/72 - 14s - loss: 1.6095 - accuracy: 0.1996 - val_loss: 1.6094 - val_accuracy: 0.2000 - lr: 0.0010 - 14s/epoch - 197ms/step
Epoch 462/625
72/72 - 12s - loss: 1.6095 - accuracy: 0.1993 - val_loss: 1.6094 - val_accuracy: 0.2000 - lr: 0.0010 - 12s/epoch - 173ms/step
Epoch 463/625
72/72 - 13s - loss: 1.6095 - accuracy: 0.1996 - val_loss: 1.6094 - val_accuracy: 0.2000 - lr: 0.0010 - 13s/epoch - 182ms/step
Epoch 464/625
72/72 - 13s - loss: 1.6095 - accuracy: 0.1984 - val_loss: 1.6094 - val_accuracy: 0.2000 - lr: 0.0010 - 13s/epoch - 187ms/step
Epoch 465/625
72/72 - 13s - loss: 1.6095 - accuracy: 0.1988 - val_loss: 1.6094 - val_accuracy: 0.2000 - lr: 0.0010 - 13s/epoch - 177ms/step
Epoch 466/625
72/72 - 13s - loss: 1.6095 - accuracy: 0.1991 - val_loss: 1.6094 - val_accuracy: 0.2000 - lr: 0.0010 - 13s/epoch - 174ms/step
Epoch 467/625
72/72 - 13s - loss: 1.6095 - accuracy: 0.1960 - val_loss: 1.6094 - val_accuracy: 0.2000 - lr: 0.0010 - 13s/epoch - 185ms/step
Epoch 468/625
72/72 - 14s - loss: 1.6095 - accuracy: 0.1997 - val_loss: 1.6094 - val_accuracy: 0.2000 - lr: 0.0010 - 14s/epoch - 189ms/step
Epoch 469/625
72/72 - 13s - loss: 1.6095 - accuracy: 0.1990 - val_loss: 1.6094 - val_accuracy: 0.2000 - lr: 0.0010 - 13s/epoch - 184ms/step
Epoch 470/625
72/72 - 13s - loss: 1.6095 - accuracy: 0.1994 - val_loss: 1.6094 - val_accuracy: 0.2000 - lr: 0.0010 - 13s/epoch - 181ms/step
Epoch 471/625
72/72 - 13s - loss: 1.6095 - accuracy: 0.1959 - val_loss: 1.6094 - val_accuracy: 0.2000 - lr: 0.0010 - 13s/epoch - 181ms/step
Epoch 472/625
72/72 - 13s - loss: 1.6095 - accuracy: 0.1971 - val_loss: 1.6094 - val_accuracy: 0.2000 - lr: 0.0010 - 13s/epoch - 183ms/step
Epoch 473/625
72/72 - 13s - loss: 1.6095 - accuracy: 0.1988 - val_loss: 1.6094 - val_accuracy: 0.2000 - lr: 0.0010 - 13s/epoch - 187ms/step
Epoch 474/625
72/72 - 13s - loss: 1.6095 - accuracy: 0.1977 - val_loss: 1.6094 - val_accuracy: 0.2000 - lr: 0.0010 - 13s/epoch - 184ms/step
Epoch 475/625
72/72 - 13s - loss: 1.6095 - accuracy: 0.1968 - val_loss: 1.6094 - val_accuracy: 0.2000 - lr: 0.0010 - 13s/epoch - 186ms/step
Epoch 476/625
72/72 - 12s - loss: 1.6095 - accuracy: 0.1975 - val_loss: 1.6094 - val_accuracy: 0.2000 - lr: 0.0010 - 12s/epoch - 168ms/step
Epoch 477/625
72/72 - 12s - loss: 1.6095 - accuracy: 0.1983 - val_loss: 1.6094 - val_accuracy: 0.2000 - lr: 0.0010 - 12s/epoch - 170ms/step
Epoch 478/625
72/72 - 12s - loss: 1.6095 - accuracy: 0.1986 - val_loss: 1.6094 - val_accuracy: 0.2000 - lr: 0.0010 - 12s/epoch - 167ms/step
Epoch 479/625
72/72 - 12s - loss: 1.6095 - accuracy: 0.1978 - val_loss: 1.6094 - val_accuracy: 0.2000 - lr: 0.0010 - 12s/epoch - 173ms/step
Epoch 480/625
72/72 - 13s - loss: 1.6095 - accuracy: 0.1982 - val_loss: 1.6094 - val_accuracy: 0.2000 - lr: 0.0010 - 13s/epoch - 179ms/step
Epoch 481/625
72/72 - 13s - loss: 1.6095 - accuracy: 0.1992 - val_loss: 1.6094 - val_accuracy: 0.2000 - lr: 0.0010 - 13s/epoch - 182ms/step
Epoch 482/625
72/72 - 12s - loss: 1.6095 - accuracy: 0.1988 - val_loss: 1.6094 - val_accuracy: 0.2000 - lr: 0.0010 - 12s/epoch - 172ms/step
Epoch 483/625
72/72 - 13s - loss: 1.6095 - accuracy: 0.1982 - val_loss: 1.6094 - val_accuracy: 0.2000 - lr: 0.0010 - 13s/epoch - 181ms/step
Epoch 484/625
72/72 - 14s - loss: 1.6095 - accuracy: 0.1979 - val_loss: 1.6094 - val_accuracy: 0.2000 - lr: 0.0010 - 14s/epoch - 189ms/step
Epoch 485/625
72/72 - 13s - loss: 1.6095 - accuracy: 0.1993 - val_loss: 1.6094 - val_accuracy: 0.2000 - lr: 0.0010 - 13s/epoch - 182ms/step
Epoch 486/625
72/72 - 13s - loss: 1.6095 - accuracy: 0.1998 - val_loss: 1.6094 - val_accuracy: 0.2000 - lr: 0.0010 - 13s/epoch - 175ms/step
Epoch 487/625
72/72 - 12s - loss: 1.6095 - accuracy: 0.1981 - val_loss: 1.6094 - val_accuracy: 0.2000 - lr: 0.0010 - 12s/epoch - 170ms/step
Epoch 488/625
72/72 - 12s - loss: 1.6095 - accuracy: 0.1992 - val_loss: 1.6094 - val_accuracy: 0.2000 - lr: 0.0010 - 12s/epoch - 167ms/step
Epoch 489/625
72/72 - 12s - loss: 1.6095 - accuracy: 0.1983 - val_loss: 1.6094 - val_accuracy: 0.2000 - lr: 0.0010 - 12s/epoch - 169ms/step
Epoch 490/625
72/72 - 13s - loss: 1.6095 - accuracy: 0.1980 - val_loss: 1.6094 - val_accuracy: 0.2000 - lr: 0.0010 - 13s/epoch - 185ms/step
Epoch 491/625
72/72 - 14s - loss: 1.6095 - accuracy: 0.1990 - val_loss: 1.6094 - val_accuracy: 0.2000 - lr: 0.0010 - 14s/epoch - 196ms/step
Epoch 492/625
72/72 - 14s - loss: 1.6095 - accuracy: 0.1980 - val_loss: 1.6094 - val_accuracy: 0.2000 - lr: 0.0010 - 14s/epoch - 189ms/step
Epoch 493/625
72/72 - 14s - loss: 1.6095 - accuracy: 0.1990 - val_loss: 1.6094 - val_accuracy: 0.2000 - lr: 0.0010 - 14s/epoch - 200ms/step
Epoch 494/625
72/72 - 14s - loss: 1.6095 - accuracy: 0.1995 - val_loss: 1.6094 - val_accuracy: 0.2000 - lr: 0.0010 - 14s/epoch - 192ms/step
Epoch 495/625
72/72 - 14s - loss: 1.6095 - accuracy: 0.1969 - val_loss: 1.6094 - val_accuracy: 0.2000 - lr: 0.0010 - 14s/epoch - 191ms/step
Epoch 496/625
72/72 - 13s - loss: 1.6095 - accuracy: 0.1973 - val_loss: 1.6094 - val_accuracy: 0.2000 - lr: 0.0010 - 13s/epoch - 187ms/step
Epoch 497/625
72/72 - 14s - loss: 1.6095 - accuracy: 0.1977 - val_loss: 1.6094 - val_accuracy: 0.2000 - lr: 0.0010 - 14s/epoch - 193ms/step
Epoch 498/625
72/72 - 14s - loss: 1.6095 - accuracy: 0.1995 - val_loss: 1.6094 - val_accuracy: 0.2000 - lr: 0.0010 - 14s/epoch - 189ms/step
Epoch 499/625
72/72 - 14s - loss: 1.6095 - accuracy: 0.1978 - val_loss: 1.6094 - val_accuracy: 0.2000 - lr: 0.0010 - 14s/epoch - 189ms/step
Epoch 500/625
72/72 - 13s - loss: 1.6095 - accuracy: 0.1975 - val_loss: 1.6094 - val_accuracy: 0.2000 - lr: 0.0010 - 13s/epoch - 185ms/step
Epoch 501/625
72/72 - 14s - loss: 1.6095 - accuracy: 0.2003 - val_loss: 1.6094 - val_accuracy: 0.2000 - lr: 0.0010 - 14s/epoch - 200ms/step
Epoch 502/625
72/72 - 14s - loss: 1.6095 - accuracy: 0.1992 - val_loss: 1.6094 - val_accuracy: 0.2000 - lr: 0.0010 - 14s/epoch - 191ms/step
Epoch 503/625
72/72 - 13s - loss: 1.6095 - accuracy: 0.2001 - val_loss: 1.6094 - val_accuracy: 0.2000 - lr: 0.0010 - 13s/epoch - 184ms/step
Epoch 504/625
72/72 - 13s - loss: 1.6095 - accuracy: 0.1992 - val_loss: 1.6094 - val_accuracy: 0.2000 - lr: 0.0010 - 13s/epoch - 184ms/step
Epoch 505/625
72/72 - 13s - loss: 1.6095 - accuracy: 0.2000 - val_loss: 1.6094 - val_accuracy: 0.2000 - lr: 0.0010 - 13s/epoch - 177ms/step
Epoch 506/625
72/72 - 12s - loss: 1.6095 - accuracy: 0.1977 - val_loss: 1.6094 - val_accuracy: 0.2000 - lr: 0.0010 - 12s/epoch - 174ms/step
Epoch 507/625
72/72 - 12s - loss: 1.6095 - accuracy: 0.1993 - val_loss: 1.6094 - val_accuracy: 0.2000 - lr: 0.0010 - 12s/epoch - 172ms/step
Epoch 508/625
72/72 - 13s - loss: 1.6095 - accuracy: 0.1982 - val_loss: 1.6094 - val_accuracy: 0.2000 - lr: 0.0010 - 13s/epoch - 174ms/step
Epoch 509/625
72/72 - 12s - loss: 1.6095 - accuracy: 0.1983 - val_loss: 1.6094 - val_accuracy: 0.2000 - lr: 0.0010 - 12s/epoch - 169ms/step
Epoch 510/625
72/72 - 12s - loss: 1.6095 - accuracy: 0.1970 - val_loss: 1.6094 - val_accuracy: 0.2000 - lr: 0.0010 - 12s/epoch - 171ms/step
Epoch 511/625
72/72 - 12s - loss: 1.6095 - accuracy: 0.1992 - val_loss: 1.6094 - val_accuracy: 0.2000 - lr: 0.0010 - 12s/epoch - 173ms/step
Epoch 512/625
72/72 - 13s - loss: 1.6095 - accuracy: 0.1994 - val_loss: 1.6094 - val_accuracy: 0.2000 - lr: 0.0010 - 13s/epoch - 180ms/step
Epoch 513/625
72/72 - 12s - loss: 1.6095 - accuracy: 0.1979 - val_loss: 1.6094 - val_accuracy: 0.2000 - lr: 0.0010 - 12s/epoch - 173ms/step
Epoch 514/625
72/72 - 12s - loss: 1.6095 - accuracy: 0.1975 - val_loss: 1.6094 - val_accuracy: 0.2000 - lr: 0.0010 - 12s/epoch - 174ms/step
Epoch 515/625
72/72 - 14s - loss: 1.6095 - accuracy: 0.1988 - val_loss: 1.6094 - val_accuracy: 0.2000 - lr: 0.0010 - 14s/epoch - 189ms/step
Epoch 516/625
72/72 - 14s - loss: 1.6095 - accuracy: 0.2000 - val_loss: 1.6094 - val_accuracy: 0.2000 - lr: 0.0010 - 14s/epoch - 189ms/step
Epoch 517/625
72/72 - 14s - loss: 1.6095 - accuracy: 0.1976 - val_loss: 1.6094 - val_accuracy: 0.2000 - lr: 0.0010 - 14s/epoch - 191ms/step
Epoch 518/625
72/72 - 13s - loss: 1.6095 - accuracy: 0.1991 - val_loss: 1.6094 - val_accuracy: 0.2000 - lr: 0.0010 - 13s/epoch - 185ms/step
Epoch 519/625
72/72 - 14s - loss: 1.6095 - accuracy: 0.1970 - val_loss: 1.6094 - val_accuracy: 0.2000 - lr: 0.0010 - 14s/epoch - 191ms/step
Epoch 520/625
72/72 - 14s - loss: 1.6095 - accuracy: 0.1976 - val_loss: 1.6094 - val_accuracy: 0.2000 - lr: 0.0010 - 14s/epoch - 189ms/step
Epoch 521/625
72/72 - 13s - loss: 1.6095 - accuracy: 0.1983 - val_loss: 1.6094 - val_accuracy: 0.2000 - lr: 0.0010 - 13s/epoch - 185ms/step
Epoch 522/625
72/72 - 13s - loss: 1.6095 - accuracy: 0.1996 - val_loss: 1.6094 - val_accuracy: 0.2000 - lr: 0.0010 - 13s/epoch - 178ms/step
Epoch 523/625
72/72 - 14s - loss: 1.6095 - accuracy: 0.1992 - val_loss: 1.6094 - val_accuracy: 0.2000 - lr: 0.0010 - 14s/epoch - 201ms/step
Epoch 524/625
72/72 - 14s - loss: 1.6095 - accuracy: 0.1972 - val_loss: 1.6094 - val_accuracy: 0.2000 - lr: 0.0010 - 14s/epoch - 195ms/step
Epoch 525/625
72/72 - 13s - loss: 1.6095 - accuracy: 0.1992 - val_loss: 1.6094 - val_accuracy: 0.2000 - lr: 0.0010 - 13s/epoch - 185ms/step
Epoch 526/625
72/72 - 14s - loss: 1.6095 - accuracy: 0.1989 - val_loss: 1.6094 - val_accuracy: 0.2000 - lr: 0.0010 - 14s/epoch - 192ms/step
Epoch 527/625
72/72 - 14s - loss: 1.6095 - accuracy: 0.1986 - val_loss: 1.6094 - val_accuracy: 0.2000 - lr: 0.0010 - 14s/epoch - 199ms/step
Epoch 528/625
72/72 - 14s - loss: 1.6095 - accuracy: 0.1981 - val_loss: 1.6094 - val_accuracy: 0.2000 - lr: 0.0010 - 14s/epoch - 195ms/step
Epoch 529/625
72/72 - 14s - loss: 1.6095 - accuracy: 0.1984 - val_loss: 1.6094 - val_accuracy: 0.2000 - lr: 0.0010 - 14s/epoch - 191ms/step
Epoch 530/625
72/72 - 13s - loss: 1.6095 - accuracy: 0.1989 - val_loss: 1.6094 - val_accuracy: 0.2000 - lr: 0.0010 - 13s/epoch - 187ms/step
Epoch 531/625
72/72 - 13s - loss: 1.6095 - accuracy: 0.1957 - val_loss: 1.6094 - val_accuracy: 0.2000 - lr: 0.0010 - 13s/epoch - 183ms/step
Epoch 532/625
72/72 - 13s - loss: 1.6095 - accuracy: 0.1985 - val_loss: 1.6094 - val_accuracy: 0.2000 - lr: 0.0010 - 13s/epoch - 186ms/step
Epoch 533/625
72/72 - 13s - loss: 1.6095 - accuracy: 0.1984 - val_loss: 1.6094 - val_accuracy: 0.2000 - lr: 0.0010 - 13s/epoch - 184ms/step
Epoch 534/625
72/72 - 14s - loss: 1.6095 - accuracy: 0.1991 - val_loss: 1.6094 - val_accuracy: 0.2000 - lr: 0.0010 - 14s/epoch - 190ms/step
Epoch 535/625
72/72 - 14s - loss: 1.6095 - accuracy: 0.1988 - val_loss: 1.6094 - val_accuracy: 0.2000 - lr: 0.0010 - 14s/epoch - 198ms/step
Epoch 536/625
72/72 - 14s - loss: 1.6095 - accuracy: 0.1997 - val_loss: 1.6094 - val_accuracy: 0.2000 - lr: 0.0010 - 14s/epoch - 191ms/step
Epoch 537/625
72/72 - 14s - loss: 1.6095 - accuracy: 0.1976 - val_loss: 1.6094 - val_accuracy: 0.2000 - lr: 0.0010 - 14s/epoch - 193ms/step
Epoch 538/625
72/72 - 13s - loss: 1.6095 - accuracy: 0.1980 - val_loss: 1.6094 - val_accuracy: 0.2000 - lr: 0.0010 - 13s/epoch - 185ms/step
Epoch 539/625
72/72 - 13s - loss: 1.6095 - accuracy: 0.1986 - val_loss: 1.6094 - val_accuracy: 0.2000 - lr: 0.0010 - 13s/epoch - 182ms/step
Epoch 540/625
72/72 - 13s - loss: 1.6095 - accuracy: 0.1970 - val_loss: 1.6094 - val_accuracy: 0.2000 - lr: 0.0010 - 13s/epoch - 179ms/step
Epoch 541/625
72/72 - 13s - loss: 1.6095 - accuracy: 0.2001 - val_loss: 1.6094 - val_accuracy: 0.2000 - lr: 0.0010 - 13s/epoch - 182ms/step
Epoch 542/625
72/72 - 14s - loss: 1.6095 - accuracy: 0.1992 - val_loss: 1.6094 - val_accuracy: 0.2000 - lr: 0.0010 - 14s/epoch - 200ms/step
Epoch 543/625
72/72 - 13s - loss: 1.6095 - accuracy: 0.1981 - val_loss: 1.6094 - val_accuracy: 0.2000 - lr: 0.0010 - 13s/epoch - 180ms/step
Epoch 544/625
72/72 - 12s - loss: 1.6095 - accuracy: 0.1949 - val_loss: 1.6094 - val_accuracy: 0.2000 - lr: 0.0010 - 12s/epoch - 165ms/step
Epoch 545/625
72/72 - 14s - loss: 1.6095 - accuracy: 0.1986 - val_loss: 1.6094 - val_accuracy: 0.2000 - lr: 0.0010 - 14s/epoch - 198ms/step
Epoch 546/625
72/72 - 14s - loss: 1.6095 - accuracy: 0.1966 - val_loss: 1.6094 - val_accuracy: 0.2000 - lr: 0.0010 - 14s/epoch - 195ms/step
Epoch 547/625
72/72 - 15s - loss: 1.6095 - accuracy: 0.1976 - val_loss: 1.6094 - val_accuracy: 0.2000 - lr: 0.0010 - 15s/epoch - 203ms/step
Epoch 548/625
72/72 - 14s - loss: 1.6095 - accuracy: 0.1987 - val_loss: 1.6094 - val_accuracy: 0.2000 - lr: 0.0010 - 14s/epoch - 189ms/step
Epoch 549/625
72/72 - 14s - loss: 1.6095 - accuracy: 0.1977 - val_loss: 1.6094 - val_accuracy: 0.2000 - lr: 0.0010 - 14s/epoch - 191ms/step
Epoch 550/625
72/72 - 14s - loss: 1.6095 - accuracy: 0.1994 - val_loss: 1.6094 - val_accuracy: 0.2000 - lr: 0.0010 - 14s/epoch - 192ms/step
Epoch 551/625
72/72 - 14s - loss: 1.6095 - accuracy: 0.1987 - val_loss: 1.6094 - val_accuracy: 0.2000 - lr: 0.0010 - 14s/epoch - 196ms/step
Epoch 552/625
72/72 - 14s - loss: 1.6095 - accuracy: 0.1974 - val_loss: 1.6094 - val_accuracy: 0.2000 - lr: 0.0010 - 14s/epoch - 196ms/step
Epoch 553/625
72/72 - 14s - loss: 1.6095 - accuracy: 0.1986 - val_loss: 1.6094 - val_accuracy: 0.2000 - lr: 0.0010 - 14s/epoch - 190ms/step
Epoch 554/625
72/72 - 14s - loss: 1.6095 - accuracy: 0.1979 - val_loss: 1.6094 - val_accuracy: 0.2000 - lr: 0.0010 - 14s/epoch - 190ms/step
Epoch 555/625
72/72 - 13s - loss: 1.6095 - accuracy: 0.1982 - val_loss: 1.6094 - val_accuracy: 0.2000 - lr: 0.0010 - 13s/epoch - 183ms/step
Epoch 556/625
72/72 - 14s - loss: 1.6095 - accuracy: 0.1989 - val_loss: 1.6094 - val_accuracy: 0.2000 - lr: 0.0010 - 14s/epoch - 191ms/step
Epoch 557/625
72/72 - 13s - loss: 1.6095 - accuracy: 0.1987 - val_loss: 1.6094 - val_accuracy: 0.2000 - lr: 0.0010 - 13s/epoch - 186ms/step
Epoch 558/625
72/72 - 14s - loss: 1.6095 - accuracy: 0.1972 - val_loss: 1.6094 - val_accuracy: 0.2000 - lr: 0.0010 - 14s/epoch - 190ms/step
Epoch 559/625
72/72 - 14s - loss: 1.6095 - accuracy: 0.1982 - val_loss: 1.6094 - val_accuracy: 0.2000 - lr: 0.0010 - 14s/epoch - 191ms/step
Epoch 560/625
72/72 - 14s - loss: 1.6095 - accuracy: 0.1974 - val_loss: 1.6094 - val_accuracy: 0.2000 - lr: 0.0010 - 14s/epoch - 192ms/step
Epoch 561/625
72/72 - 13s - loss: 1.6095 - accuracy: 0.1989 - val_loss: 1.6094 - val_accuracy: 0.2000 - lr: 0.0010 - 13s/epoch - 182ms/step
Epoch 562/625
72/72 - 13s - loss: 1.6095 - accuracy: 0.1997 - val_loss: 1.6094 - val_accuracy: 0.2000 - lr: 0.0010 - 13s/epoch - 176ms/step
Epoch 563/625
72/72 - 13s - loss: 1.6095 - accuracy: 0.1972 - val_loss: 1.6094 - val_accuracy: 0.2000 - lr: 0.0010 - 13s/epoch - 179ms/step
Epoch 564/625
72/72 - 13s - loss: 1.6095 - accuracy: 0.1970 - val_loss: 1.6094 - val_accuracy: 0.2000 - lr: 0.0010 - 13s/epoch - 182ms/step
Epoch 565/625
72/72 - 12s - loss: 1.6095 - accuracy: 0.1985 - val_loss: 1.6094 - val_accuracy: 0.2000 - lr: 0.0010 - 12s/epoch - 172ms/step
Epoch 566/625
72/72 - 13s - loss: 1.6095 - accuracy: 0.1979 - val_loss: 1.6094 - val_accuracy: 0.2000 - lr: 0.0010 - 13s/epoch - 179ms/step
Epoch 567/625
72/72 - 13s - loss: 1.6095 - accuracy: 0.1979 - val_loss: 1.6094 - val_accuracy: 0.2000 - lr: 0.0010 - 13s/epoch - 176ms/step
Epoch 568/625
72/72 - 13s - loss: 1.6095 - accuracy: 0.1979 - val_loss: 1.6094 - val_accuracy: 0.2000 - lr: 0.0010 - 13s/epoch - 182ms/step
Epoch 569/625
72/72 - 13s - loss: 1.6095 - accuracy: 0.1969 - val_loss: 1.6094 - val_accuracy: 0.2000 - lr: 0.0010 - 13s/epoch - 184ms/step
Epoch 570/625
72/72 - 14s - loss: 1.6095 - accuracy: 0.1991 - val_loss: 1.6094 - val_accuracy: 0.2000 - lr: 0.0010 - 14s/epoch - 189ms/step
Epoch 571/625
72/72 - 14s - loss: 1.6095 - accuracy: 0.1995 - val_loss: 1.6094 - val_accuracy: 0.2000 - lr: 0.0010 - 14s/epoch - 188ms/step
Epoch 572/625
72/72 - 13s - loss: 1.6095 - accuracy: 0.1985 - val_loss: 1.6094 - val_accuracy: 0.2000 - lr: 0.0010 - 13s/epoch - 185ms/step
Epoch 573/625
72/72 - 13s - loss: 1.6095 - accuracy: 0.1977 - val_loss: 1.6094 - val_accuracy: 0.2000 - lr: 0.0010 - 13s/epoch - 180ms/step
Epoch 574/625
72/72 - 14s - loss: 1.6095 - accuracy: 0.1976 - val_loss: 1.6094 - val_accuracy: 0.2000 - lr: 0.0010 - 14s/epoch - 189ms/step
Epoch 575/625
72/72 - 14s - loss: 1.6095 - accuracy: 0.1983 - val_loss: 1.6094 - val_accuracy: 0.2000 - lr: 0.0010 - 14s/epoch - 191ms/step
Epoch 576/625
72/72 - 14s - loss: 1.6095 - accuracy: 0.1973 - val_loss: 1.6094 - val_accuracy: 0.2000 - lr: 0.0010 - 14s/epoch - 200ms/step
Epoch 577/625
72/72 - 14s - loss: 1.6095 - accuracy: 0.1999 - val_loss: 1.6094 - val_accuracy: 0.2000 - lr: 0.0010 - 14s/epoch - 194ms/step
Epoch 578/625
72/72 - 13s - loss: 1.6095 - accuracy: 0.1984 - val_loss: 1.6094 - val_accuracy: 0.2000 - lr: 0.0010 - 13s/epoch - 184ms/step
Epoch 579/625
72/72 - 14s - loss: 1.6095 - accuracy: 0.1974 - val_loss: 1.6094 - val_accuracy: 0.2000 - lr: 0.0010 - 14s/epoch - 193ms/step
Epoch 580/625
72/72 - 14s - loss: 1.6095 - accuracy: 0.1991 - val_loss: 1.6094 - val_accuracy: 0.2000 - lr: 0.0010 - 14s/epoch - 194ms/step
Epoch 581/625
72/72 - 14s - loss: 1.6095 - accuracy: 0.1986 - val_loss: 1.6094 - val_accuracy: 0.2000 - lr: 0.0010 - 14s/epoch - 195ms/step
Epoch 582/625
72/72 - 14s - loss: 1.6095 - accuracy: 0.1982 - val_loss: 1.6094 - val_accuracy: 0.2000 - lr: 0.0010 - 14s/epoch - 201ms/step
Epoch 583/625
72/72 - 14s - loss: 1.6095 - accuracy: 0.1985 - val_loss: 1.6094 - val_accuracy: 0.2000 - lr: 0.0010 - 14s/epoch - 197ms/step
Epoch 584/625
72/72 - 14s - loss: 1.6095 - accuracy: 0.1997 - val_loss: 1.6094 - val_accuracy: 0.2000 - lr: 0.0010 - 14s/epoch - 196ms/step
Epoch 585/625
72/72 - 15s - loss: 1.6095 - accuracy: 0.1989 - val_loss: 1.6094 - val_accuracy: 0.2000 - lr: 0.0010 - 15s/epoch - 202ms/step
Epoch 586/625
72/72 - 14s - loss: 1.6095 - accuracy: 0.1996 - val_loss: 1.6094 - val_accuracy: 0.2000 - lr: 0.0010 - 14s/epoch - 197ms/step
Epoch 587/625
72/72 - 13s - loss: 1.6095 - accuracy: 0.1979 - val_loss: 1.6094 - val_accuracy: 0.2000 - lr: 0.0010 - 13s/epoch - 180ms/step
Epoch 588/625
72/72 - 14s - loss: 1.6095 - accuracy: 0.2003 - val_loss: 1.6094 - val_accuracy: 0.2000 - lr: 0.0010 - 14s/epoch - 188ms/step
Epoch 589/625
72/72 - 13s - loss: 1.6094 - accuracy: 0.1984 - val_loss: 1.6094 - val_accuracy: 0.2000 - lr: 0.0010 - 13s/epoch - 186ms/step
Epoch 590/625
72/72 - 14s - loss: 1.6095 - accuracy: 0.1993 - val_loss: 1.6094 - val_accuracy: 0.2000 - lr: 0.0010 - 14s/epoch - 190ms/step
Epoch 591/625
72/72 - 13s - loss: 1.6095 - accuracy: 0.1989 - val_loss: 1.6094 - val_accuracy: 0.2000 - lr: 0.0010 - 13s/epoch - 187ms/step
Epoch 592/625
72/72 - 14s - loss: 1.6095 - accuracy: 0.1991 - val_loss: 1.6094 - val_accuracy: 0.2000 - lr: 0.0010 - 14s/epoch - 192ms/step
Epoch 593/625
72/72 - 14s - loss: 1.6095 - accuracy: 0.1990 - val_loss: 1.6094 - val_accuracy: 0.2000 - lr: 0.0010 - 14s/epoch - 192ms/step
Epoch 594/625
72/72 - 14s - loss: 1.6095 - accuracy: 0.1985 - val_loss: 1.6094 - val_accuracy: 0.2000 - lr: 0.0010 - 14s/epoch - 191ms/step
Epoch 595/625
72/72 - 14s - loss: 1.6095 - accuracy: 0.1997 - val_loss: 1.6094 - val_accuracy: 0.2000 - lr: 0.0010 - 14s/epoch - 192ms/step
Epoch 596/625
72/72 - 14s - loss: 1.6095 - accuracy: 0.1999 - val_loss: 1.6094 - val_accuracy: 0.2000 - lr: 0.0010 - 14s/epoch - 198ms/step
Epoch 597/625
72/72 - 14s - loss: 1.6095 - accuracy: 0.1964 - val_loss: 1.6094 - val_accuracy: 0.2000 - lr: 0.0010 - 14s/epoch - 195ms/step
Epoch 598/625
72/72 - 13s - loss: 1.6095 - accuracy: 0.1984 - val_loss: 1.6094 - val_accuracy: 0.2000 - lr: 0.0010 - 13s/epoch - 184ms/step
Epoch 599/625
72/72 - 12s - loss: 1.6095 - accuracy: 0.1976 - val_loss: 1.6094 - val_accuracy: 0.2000 - lr: 0.0010 - 12s/epoch - 172ms/step
Epoch 600/625
72/72 - 13s - loss: 1.6095 - accuracy: 0.1980 - val_loss: 1.6094 - val_accuracy: 0.2000 - lr: 0.0010 - 13s/epoch - 185ms/step
Epoch 601/625
72/72 - 13s - loss: 1.6095 - accuracy: 0.1975 - val_loss: 1.6094 - val_accuracy: 0.2000 - lr: 0.0010 - 13s/epoch - 176ms/step
Epoch 602/625
72/72 - 13s - loss: 1.6095 - accuracy: 0.1977 - val_loss: 1.6094 - val_accuracy: 0.2000 - lr: 0.0010 - 13s/epoch - 177ms/step
Epoch 603/625
72/72 - 13s - loss: 1.6095 - accuracy: 0.2000 - val_loss: 1.6094 - val_accuracy: 0.2000 - lr: 0.0010 - 13s/epoch - 176ms/step
Epoch 604/625
72/72 - 13s - loss: 1.6095 - accuracy: 0.1981 - val_loss: 1.6094 - val_accuracy: 0.2000 - lr: 0.0010 - 13s/epoch - 181ms/step
Epoch 605/625
72/72 - 12s - loss: 1.6095 - accuracy: 0.1985 - val_loss: 1.6094 - val_accuracy: 0.2000 - lr: 0.0010 - 12s/epoch - 168ms/step
Epoch 606/625
72/72 - 12s - loss: 1.6095 - accuracy: 0.2003 - val_loss: 1.6094 - val_accuracy: 0.2000 - lr: 0.0010 - 12s/epoch - 167ms/step
Epoch 607/625
72/72 - 12s - loss: 1.6095 - accuracy: 0.1985 - val_loss: 1.6094 - val_accuracy: 0.2000 - lr: 0.0010 - 12s/epoch - 172ms/step
Epoch 608/625
72/72 - 12s - loss: 1.6095 - accuracy: 0.1985 - val_loss: 1.6094 - val_accuracy: 0.2000 - lr: 0.0010 - 12s/epoch - 172ms/step
Epoch 609/625
72/72 - 12s - loss: 1.6095 - accuracy: 0.1998 - val_loss: 1.6094 - val_accuracy: 0.2000 - lr: 0.0010 - 12s/epoch - 166ms/step
Epoch 610/625
72/72 - 12s - loss: 1.6095 - accuracy: 0.1990 - val_loss: 1.6094 - val_accuracy: 0.2000 - lr: 0.0010 - 12s/epoch - 169ms/step
Epoch 611/625
72/72 - 12s - loss: 1.6095 - accuracy: 0.1995 - val_loss: 1.6094 - val_accuracy: 0.2000 - lr: 0.0010 - 12s/epoch - 164ms/step
Epoch 612/625
72/72 - 12s - loss: 1.6095 - accuracy: 0.2000 - val_loss: 1.6094 - val_accuracy: 0.2000 - lr: 0.0010 - 12s/epoch - 166ms/step
Epoch 613/625
72/72 - 12s - loss: 1.6095 - accuracy: 0.1990 - val_loss: 1.6094 - val_accuracy: 0.2000 - lr: 0.0010 - 12s/epoch - 164ms/step
Epoch 614/625
72/72 - 12s - loss: 1.6095 - accuracy: 0.1971 - val_loss: 1.6094 - val_accuracy: 0.2000 - lr: 0.0010 - 12s/epoch - 165ms/step
Epoch 615/625
72/72 - 12s - loss: 1.6095 - accuracy: 0.1969 - val_loss: 1.6094 - val_accuracy: 0.2000 - lr: 0.0010 - 12s/epoch - 165ms/step
Epoch 616/625
72/72 - 13s - loss: 1.6095 - accuracy: 0.1988 - val_loss: 1.6094 - val_accuracy: 0.2000 - lr: 0.0010 - 13s/epoch - 176ms/step
Epoch 617/625
72/72 - 13s - loss: 1.6095 - accuracy: 0.1985 - val_loss: 1.6094 - val_accuracy: 0.2000 - lr: 0.0010 - 13s/epoch - 174ms/step
Epoch 618/625
72/72 - 13s - loss: 1.6095 - accuracy: 0.1990 - val_loss: 1.6094 - val_accuracy: 0.2000 - lr: 0.0010 - 13s/epoch - 180ms/step
Epoch 619/625
72/72 - 12s - loss: 1.6095 - accuracy: 0.1988 - val_loss: 1.6094 - val_accuracy: 0.2000 - lr: 0.0010 - 12s/epoch - 172ms/step
Epoch 620/625
72/72 - 13s - loss: 1.6095 - accuracy: 0.1978 - val_loss: 1.6094 - val_accuracy: 0.2000 - lr: 0.0010 - 13s/epoch - 179ms/step
Epoch 621/625
72/72 - 14s - loss: 1.6095 - accuracy: 0.1992 - val_loss: 1.6094 - val_accuracy: 0.2000 - lr: 0.0010 - 14s/epoch - 189ms/step
Epoch 622/625
72/72 - 13s - loss: 1.6095 - accuracy: 0.1996 - val_loss: 1.6094 - val_accuracy: 0.2000 - lr: 0.0010 - 13s/epoch - 186ms/step
Epoch 623/625
72/72 - 14s - loss: 1.6095 - accuracy: 0.2001 - val_loss: 1.6094 - val_accuracy: 0.2000 - lr: 0.0010 - 14s/epoch - 192ms/step
Epoch 624/625
72/72 - 13s - loss: 1.6095 - accuracy: 0.2000 - val_loss: 1.6094 - val_accuracy: 0.2000 - lr: 0.0010 - 13s/epoch - 187ms/step
Epoch 625/625
72/72 - 14s - loss: 1.6095 - accuracy: 0.1987 - val_loss: 1.6094 - val_accuracy: 0.2000 - lr: 0.0010 - 14s/epoch - 195ms/step
