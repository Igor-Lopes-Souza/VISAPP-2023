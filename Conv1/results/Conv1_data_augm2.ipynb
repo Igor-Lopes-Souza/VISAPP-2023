Epoch number: 125
fitting with batch size: 20
Epoch 1/125
4378/4378 - 78s - loss: 0.7247 - accuracy: 0.7391 - val_loss: 0.7864 - val_accuracy: 0.7299 - lr: 0.0010 - 78s/epoch - 18ms/step
Epoch 2/125
4378/4378 - 86s - loss: 0.6994 - accuracy: 0.7383 - val_loss: 0.7087 - val_accuracy: 0.7569 - lr: 0.0010 - 86s/epoch - 20ms/step
Epoch 3/125
4378/4378 - 81s - loss: 0.7134 - accuracy: 0.7412 - val_loss: 0.8953 - val_accuracy: 0.7013 - lr: 0.0010 - 81s/epoch - 18ms/step
Epoch 4/125
4378/4378 - 82s - loss: 0.6980 - accuracy: 0.7384 - val_loss: 0.6108 - val_accuracy: 0.7879 - lr: 0.0010 - 82s/epoch - 19ms/step
Epoch 5/125
4378/4378 - 83s - loss: 0.7050 - accuracy: 0.7398 - val_loss: 0.6883 - val_accuracy: 0.7793 - lr: 0.0010 - 83s/epoch - 19ms/step
Epoch 6/125
4378/4378 - 83s - loss: 0.7130 - accuracy: 0.7354 - val_loss: 0.6855 - val_accuracy: 0.7780 - lr: 0.0010 - 83s/epoch - 19ms/step
Epoch 7/125
4378/4378 - 83s - loss: 0.7094 - accuracy: 0.7356 - val_loss: 0.5281 - val_accuracy: 0.8313 - lr: 0.0010 - 83s/epoch - 19ms/step
Epoch 8/125
4378/4378 - 80s - loss: 0.8980 - accuracy: 0.7357 - val_loss: 0.7069 - val_accuracy: 0.7666 - lr: 0.0010 - 80s/epoch - 18ms/step
Epoch 9/125
4378/4378 - 75s - loss: 0.6982 - accuracy: 0.7400 - val_loss: 0.6002 - val_accuracy: 0.8010 - lr: 0.0010 - 75s/epoch - 17ms/step
Epoch 10/125
4378/4378 - 79s - loss: 0.6995 - accuracy: 0.7380 - val_loss: 0.7295 - val_accuracy: 0.7716 - lr: 0.0010 - 79s/epoch - 18ms/step
Epoch 11/125
4378/4378 - 77s - loss: 0.7703 - accuracy: 0.7333 - val_loss: 0.7286 - val_accuracy: 0.7571 - lr: 0.0010 - 77s/epoch - 18ms/step
Epoch 12/125
4378/4378 - 68s - loss: 0.7000 - accuracy: 0.7379 - val_loss: 0.6750 - val_accuracy: 0.7872 - lr: 0.0010 - 68s/epoch - 15ms/step
Epoch 13/125
4378/4378 - 69s - loss: 0.7301 - accuracy: 0.7390 - val_loss: 0.7606 - val_accuracy: 0.7309 - lr: 0.0010 - 69s/epoch - 16ms/step
Epoch 14/125
4378/4378 - 69s - loss: 0.7022 - accuracy: 0.7366 - val_loss: 0.7471 - val_accuracy: 0.7461 - lr: 0.0010 - 69s/epoch - 16ms/step
Epoch 15/125
4378/4378 - 66s - loss: 0.7025 - accuracy: 0.7373 - val_loss: 0.6415 - val_accuracy: 0.7956 - lr: 0.0010 - 66s/epoch - 15ms/step
Epoch 16/125
4378/4378 - 66s - loss: 0.6986 - accuracy: 0.7390 - val_loss: 0.8204 - val_accuracy: 0.7164 - lr: 0.0010 - 66s/epoch - 15ms/step
Epoch 17/125
4378/4378 - 67s - loss: 0.7727 - accuracy: 0.7272 - val_loss: 0.6507 - val_accuracy: 0.7706 - lr: 0.0010 - 67s/epoch - 15ms/step
Epoch 18/125
4378/4378 - 76s - loss: 0.7064 - accuracy: 0.7360 - val_loss: 0.7478 - val_accuracy: 0.7340 - lr: 0.0010 - 76s/epoch - 17ms/step
Epoch 19/125
4378/4378 - 86s - loss: 0.7069 - accuracy: 0.7361 - val_loss: 0.8751 - val_accuracy: 0.6794 - lr: 0.0010 - 86s/epoch - 20ms/step
Epoch 20/125
4378/4378 - 84s - loss: 0.7045 - accuracy: 0.7370 - val_loss: 0.8311 - val_accuracy: 0.7201 - lr: 0.0010 - 84s/epoch - 19ms/step
Epoch 21/125
4378/4378 - 81s - loss: 0.7151 - accuracy: 0.7366 - val_loss: 0.6732 - val_accuracy: 0.7752 - lr: 0.0010 - 81s/epoch - 19ms/step
Epoch 22/125
4378/4378 - 77s - loss: 0.7074 - accuracy: 0.7360 - val_loss: 0.6662 - val_accuracy: 0.7867 - lr: 0.0010 - 77s/epoch - 18ms/step
Epoch 23/125
4378/4378 - 72s - loss: 0.7148 - accuracy: 0.7347 - val_loss: 0.7372 - val_accuracy: 0.7808 - lr: 0.0010 - 72s/epoch - 17ms/step
Epoch 24/125
4378/4378 - 77s - loss: 0.7414 - accuracy: 0.7352 - val_loss: 0.6948 - val_accuracy: 0.7826 - lr: 0.0010 - 77s/epoch - 18ms/step
Epoch 25/125
4378/4378 - 82s - loss: 0.7050 - accuracy: 0.7371 - val_loss: 0.7333 - val_accuracy: 0.7623 - lr: 0.0010 - 82s/epoch - 19ms/step
Epoch 26/125
4378/4378 - 82s - loss: 0.7167 - accuracy: 0.7360 - val_loss: 0.8308 - val_accuracy: 0.7251 - lr: 0.0010 - 82s/epoch - 19ms/step
Epoch 27/125
4378/4378 - 83s - loss: 0.7264 - accuracy: 0.7353 - val_loss: 0.6411 - val_accuracy: 0.7987 - lr: 0.0010 - 83s/epoch - 19ms/step
Epoch 28/125
4378/4378 - 81s - loss: 0.7091 - accuracy: 0.7380 - val_loss: 0.7482 - val_accuracy: 0.7663 - lr: 0.0010 - 81s/epoch - 18ms/step
Epoch 29/125
4378/4378 - 86s - loss: 0.7636 - accuracy: 0.7248 - val_loss: 0.7154 - val_accuracy: 0.7702 - lr: 0.0010 - 86s/epoch - 20ms/step
Epoch 30/125
4378/4378 - 87s - loss: 0.7086 - accuracy: 0.7372 - val_loss: 0.8054 - val_accuracy: 0.6977 - lr: 0.0010 - 87s/epoch - 20ms/step
Epoch 31/125
4378/4378 - 87s - loss: 0.7063 - accuracy: 0.7360 - val_loss: 0.7336 - val_accuracy: 0.7394 - lr: 0.0010 - 87s/epoch - 20ms/step
Epoch 32/125
4378/4378 - 87s - loss: 0.7133 - accuracy: 0.7350 - val_loss: 0.7180 - val_accuracy: 0.7470 - lr: 0.0010 - 87s/epoch - 20ms/step
Epoch 33/125
4378/4378 - 86s - loss: 0.7201 - accuracy: 0.7362 - val_loss: 0.7465 - val_accuracy: 0.7309 - lr: 0.0010 - 86s/epoch - 20ms/step
Epoch 34/125
4378/4378 - 78s - loss: 0.7133 - accuracy: 0.7337 - val_loss: 0.7055 - val_accuracy: 0.7658 - lr: 0.0010 - 78s/epoch - 18ms/step
Epoch 35/125
4378/4378 - 85s - loss: 0.7104 - accuracy: 0.7350 - val_loss: 0.8539 - val_accuracy: 0.6963 - lr: 0.0010 - 85s/epoch - 20ms/step
Epoch 36/125
4378/4378 - 87s - loss: 0.7061 - accuracy: 0.7356 - val_loss: 0.7112 - val_accuracy: 0.7549 - lr: 0.0010 - 87s/epoch - 20ms/step
Epoch 37/125
4378/4378 - 79s - loss: 0.7647 - accuracy: 0.7367 - val_loss: 0.7016 - val_accuracy: 0.7569 - lr: 0.0010 - 79s/epoch - 18ms/step
Epoch 38/125
4378/4378 - 80s - loss: 0.7245 - accuracy: 0.7345 - val_loss: 0.7725 - val_accuracy: 0.7468 - lr: 0.0010 - 80s/epoch - 18ms/step
Epoch 39/125
4378/4378 - 79s - loss: 0.7282 - accuracy: 0.7363 - val_loss: 0.7021 - val_accuracy: 0.7659 - lr: 0.0010 - 79s/epoch - 18ms/step
Epoch 40/125
4378/4378 - 70s - loss: 0.7308 - accuracy: 0.7374 - val_loss: 0.6481 - val_accuracy: 0.8061 - lr: 0.0010 - 70s/epoch - 16ms/step
Epoch 41/125
4378/4378 - 70s - loss: 0.7143 - accuracy: 0.7352 - val_loss: 0.8799 - val_accuracy: 0.6768 - lr: 0.0010 - 70s/epoch - 16ms/step
Epoch 42/125
4378/4378 - 70s - loss: 0.7353 - accuracy: 0.7315 - val_loss: 0.7026 - val_accuracy: 0.7883 - lr: 0.0010 - 70s/epoch - 16ms/step
Epoch 43/125
4378/4378 - 70s - loss: 0.7143 - accuracy: 0.7339 - val_loss: 0.8149 - val_accuracy: 0.7463 - lr: 0.0010 - 70s/epoch - 16ms/step
Epoch 44/125
4378/4378 - 70s - loss: 0.7108 - accuracy: 0.7351 - val_loss: 0.7832 - val_accuracy: 0.7458 - lr: 0.0010 - 70s/epoch - 16ms/step
Epoch 45/125
4378/4378 - 70s - loss: 0.7168 - accuracy: 0.7338 - val_loss: 0.6994 - val_accuracy: 0.7758 - lr: 0.0010 - 70s/epoch - 16ms/step
Epoch 46/125
4378/4378 - 70s - loss: 0.7146 - accuracy: 0.7346 - val_loss: 0.7793 - val_accuracy: 0.7398 - lr: 0.0010 - 70s/epoch - 16ms/step
Epoch 47/125
4378/4378 - 70s - loss: 0.7154 - accuracy: 0.7351 - val_loss: 0.7869 - val_accuracy: 0.6987 - lr: 0.0010 - 70s/epoch - 16ms/step
Epoch 48/125
4378/4378 - 70s - loss: 1.0938 - accuracy: 0.7323 - val_loss: 0.7447 - val_accuracy: 0.7516 - lr: 0.0010 - 70s/epoch - 16ms/step
Epoch 49/125
4378/4378 - 70s - loss: 0.7156 - accuracy: 0.7340 - val_loss: 0.7030 - val_accuracy: 0.7629 - lr: 0.0010 - 70s/epoch - 16ms/step
Epoch 50/125
4378/4378 - 70s - loss: 0.7149 - accuracy: 0.7328 - val_loss: 0.7278 - val_accuracy: 0.7420 - lr: 0.0010 - 70s/epoch - 16ms/step
Epoch 51/125
4378/4378 - 70s - loss: 0.8032 - accuracy: 0.7334 - val_loss: 0.7809 - val_accuracy: 0.7393 - lr: 0.0010 - 70s/epoch - 16ms/step
Epoch 52/125
4378/4378 - 71s - loss: 1.2042 - accuracy: 0.7167 - val_loss: 0.6944 - val_accuracy: 0.7750 - lr: 0.0010 - 71s/epoch - 16ms/step
Epoch 53/125
4378/4378 - 70s - loss: 0.7192 - accuracy: 0.7344 - val_loss: 0.6639 - val_accuracy: 0.7753 - lr: 0.0010 - 70s/epoch - 16ms/step
Epoch 54/125
4378/4378 - 70s - loss: 0.7152 - accuracy: 0.7347 - val_loss: 0.7636 - val_accuracy: 0.7437 - lr: 0.0010 - 70s/epoch - 16ms/step
Epoch 55/125
4378/4378 - 70s - loss: 0.7946 - accuracy: 0.7304 - val_loss: 0.7330 - val_accuracy: 0.7733 - lr: 0.0010 - 70s/epoch - 16ms/step
Epoch 56/125
4378/4378 - 70s - loss: 0.7238 - accuracy: 0.7319 - val_loss: 0.7716 - val_accuracy: 0.7428 - lr: 0.0010 - 70s/epoch - 16ms/step
Epoch 57/125
4378/4378 - 70s - loss: 0.7193 - accuracy: 0.7329 - val_loss: 0.6682 - val_accuracy: 0.7547 - lr: 0.0010 - 70s/epoch - 16ms/step
Epoch 58/125
4378/4378 - 72s - loss: 0.7329 - accuracy: 0.7313 - val_loss: 0.7333 - val_accuracy: 0.7309 - lr: 0.0010 - 72s/epoch - 16ms/step
Epoch 59/125
4378/4378 - 70s - loss: 0.7222 - accuracy: 0.7324 - val_loss: 0.5776 - val_accuracy: 0.8111 - lr: 0.0010 - 70s/epoch - 16ms/step
Epoch 60/125
4378/4378 - 71s - loss: 0.8300 - accuracy: 0.7268 - val_loss: 0.7423 - val_accuracy: 0.7421 - lr: 0.0010 - 71s/epoch - 16ms/step
Epoch 61/125
4378/4378 - 70s - loss: 1.0701 - accuracy: 0.7235 - val_loss: 0.7202 - val_accuracy: 0.7612 - lr: 0.0010 - 70s/epoch - 16ms/step
Epoch 62/125
4378/4378 - 70s - loss: 0.7186 - accuracy: 0.7329 - val_loss: 0.6484 - val_accuracy: 0.7865 - lr: 0.0010 - 70s/epoch - 16ms/step
Epoch 63/125
4378/4378 - 70s - loss: 0.7201 - accuracy: 0.7319 - val_loss: 0.6917 - val_accuracy: 0.7774 - lr: 0.0010 - 70s/epoch - 16ms/step
Epoch 64/125
4378/4378 - 70s - loss: 0.7239 - accuracy: 0.7320 - val_loss: 0.7789 - val_accuracy: 0.7381 - lr: 0.0010 - 70s/epoch - 16ms/step
Epoch 65/125
4378/4378 - 70s - loss: 0.7860 - accuracy: 0.7266 - val_loss: 0.7189 - val_accuracy: 0.7444 - lr: 0.0010 - 70s/epoch - 16ms/step
Epoch 66/125
4378/4378 - 70s - loss: 0.7883 - accuracy: 0.7311 - val_loss: 0.7558 - val_accuracy: 0.7422 - lr: 0.0010 - 70s/epoch - 16ms/step
Epoch 67/125
4378/4378 - 70s - loss: 0.8774 - accuracy: 0.7292 - val_loss: 0.8176 - val_accuracy: 0.7072 - lr: 0.0010 - 70s/epoch - 16ms/step
Epoch 68/125
4378/4378 - 70s - loss: 0.7397 - accuracy: 0.7307 - val_loss: 0.7551 - val_accuracy: 0.7443 - lr: 0.0010 - 70s/epoch - 16ms/step
Epoch 69/125
4378/4378 - 70s - loss: 0.7271 - accuracy: 0.7301 - val_loss: 0.7106 - val_accuracy: 0.7599 - lr: 0.0010 - 70s/epoch - 16ms/step
Epoch 70/125
4378/4378 - 70s - loss: 0.7396 - accuracy: 0.7282 - val_loss: 0.7320 - val_accuracy: 0.7428 - lr: 0.0010 - 70s/epoch - 16ms/step
Epoch 71/125
4378/4378 - 70s - loss: 0.7252 - accuracy: 0.7304 - val_loss: 0.6726 - val_accuracy: 0.7883 - lr: 0.0010 - 70s/epoch - 16ms/step
Epoch 72/125
4378/4378 - 70s - loss: 0.7252 - accuracy: 0.7317 - val_loss: 0.6963 - val_accuracy: 0.7672 - lr: 0.0010 - 70s/epoch - 16ms/step
Epoch 73/125
4378/4378 - 70s - loss: 0.7572 - accuracy: 0.7288 - val_loss: 0.7706 - val_accuracy: 0.7620 - lr: 0.0010 - 70s/epoch - 16ms/step
Epoch 74/125
4378/4378 - 70s - loss: 0.7377 - accuracy: 0.7282 - val_loss: 0.7552 - val_accuracy: 0.7148 - lr: 0.0010 - 70s/epoch - 16ms/step
Epoch 75/125
4378/4378 - 70s - loss: 0.8595 - accuracy: 0.7215 - val_loss: 0.8008 - val_accuracy: 0.6955 - lr: 0.0010 - 70s/epoch - 16ms/step
Epoch 76/125
4378/4378 - 73s - loss: 0.7327 - accuracy: 0.7312 - val_loss: 0.7217 - val_accuracy: 0.7506 - lr: 0.0010 - 73s/epoch - 17ms/step
Epoch 77/125
4378/4378 - 72s - loss: 0.7289 - accuracy: 0.7286 - val_loss: 0.6914 - val_accuracy: 0.7703 - lr: 0.0010 - 72s/epoch - 16ms/step
Epoch 78/125
4378/4378 - 81s - loss: 0.9460 - accuracy: 0.7163 - val_loss: 0.8304 - val_accuracy: 0.7531 - lr: 0.0010 - 81s/epoch - 18ms/step
Epoch 79/125
4378/4378 - 74s - loss: 0.7448 - accuracy: 0.7238 - val_loss: 0.7865 - val_accuracy: 0.7402 - lr: 0.0010 - 74s/epoch - 17ms/step
Epoch 80/125
4378/4378 - 78s - loss: 0.7638 - accuracy: 0.7287 - val_loss: 0.7363 - val_accuracy: 0.7395 - lr: 0.0010 - 78s/epoch - 18ms/step
Epoch 81/125
4378/4378 - 74s - loss: 0.7368 - accuracy: 0.7296 - val_loss: 0.7503 - val_accuracy: 0.7243 - lr: 0.0010 - 74s/epoch - 17ms/step
Epoch 82/125
4378/4378 - 79s - loss: 0.7478 - accuracy: 0.7250 - val_loss: 0.7726 - val_accuracy: 0.7369 - lr: 0.0010 - 79s/epoch - 18ms/step
Epoch 83/125
4378/4378 - 78s - loss: 0.7296 - accuracy: 0.7301 - val_loss: 0.7323 - val_accuracy: 0.7392 - lr: 0.0010 - 78s/epoch - 18ms/step
Epoch 84/125
4378/4378 - 74s - loss: 0.7567 - accuracy: 0.7269 - val_loss: 0.7406 - val_accuracy: 0.7611 - lr: 0.0010 - 74s/epoch - 17ms/step
Epoch 85/125
4378/4378 - 77s - loss: 0.7314 - accuracy: 0.7289 - val_loss: 0.7283 - val_accuracy: 0.7678 - lr: 0.0010 - 77s/epoch - 18ms/step
Epoch 86/125
4378/4378 - 75s - loss: 0.7627 - accuracy: 0.7262 - val_loss: 0.7866 - val_accuracy: 0.7211 - lr: 0.0010 - 75s/epoch - 17ms/step
Epoch 87/125
4378/4378 - 76s - loss: 0.7877 - accuracy: 0.7233 - val_loss: 0.6873 - val_accuracy: 0.7632 - lr: 0.0010 - 76s/epoch - 17ms/step
Epoch 88/125
4378/4378 - 78s - loss: 0.8698 - accuracy: 0.7170 - val_loss: 0.8691 - val_accuracy: 0.6975 - lr: 0.0010 - 78s/epoch - 18ms/step
Epoch 89/125
4378/4378 - 69s - loss: 0.7365 - accuracy: 0.7254 - val_loss: 0.8363 - val_accuracy: 0.7357 - lr: 0.0010 - 69s/epoch - 16ms/step
Epoch 90/125
4378/4378 - 68s - loss: 0.7400 - accuracy: 0.7283 - val_loss: 0.7356 - val_accuracy: 0.7483 - lr: 0.0010 - 68s/epoch - 16ms/step
Epoch 91/125
4378/4378 - 71s - loss: 0.7415 - accuracy: 0.7252 - val_loss: 0.7827 - val_accuracy: 0.7492 - lr: 0.0010 - 71s/epoch - 16ms/step
Epoch 92/125
4378/4378 - 81s - loss: 0.7491 - accuracy: 0.7296 - val_loss: 0.8719 - val_accuracy: 0.6823 - lr: 0.0010 - 81s/epoch - 18ms/step
Epoch 93/125
4378/4378 - 77s - loss: 0.9645 - accuracy: 0.7232 - val_loss: 0.8074 - val_accuracy: 0.7321 - lr: 0.0010 - 77s/epoch - 18ms/step
Epoch 94/125
4378/4378 - 74s - loss: 0.7560 - accuracy: 0.7230 - val_loss: 0.7614 - val_accuracy: 0.7182 - lr: 0.0010 - 74s/epoch - 17ms/step
Epoch 95/125
4378/4378 - 84s - loss: 0.7339 - accuracy: 0.7280 - val_loss: 0.7894 - val_accuracy: 0.7109 - lr: 0.0010 - 84s/epoch - 19ms/step
Epoch 96/125
4378/4378 - 81s - loss: 0.7460 - accuracy: 0.7249 - val_loss: 0.7042 - val_accuracy: 0.7894 - lr: 0.0010 - 81s/epoch - 19ms/step
Epoch 97/125
4378/4378 - 83s - loss: 0.7548 - accuracy: 0.7242 - val_loss: 0.6901 - val_accuracy: 0.7599 - lr: 0.0010 - 83s/epoch - 19ms/step
Epoch 98/125
4378/4378 - 86s - loss: 0.7503 - accuracy: 0.7255 - val_loss: 0.7497 - val_accuracy: 0.7276 - lr: 0.0010 - 86s/epoch - 20ms/step
Epoch 99/125
4378/4378 - 87s - loss: 0.7570 - accuracy: 0.7233 - val_loss: 0.8090 - val_accuracy: 0.7320 - lr: 0.0010 - 87s/epoch - 20ms/step
Epoch 100/125
4378/4378 - 82s - loss: 0.7436 - accuracy: 0.7259 - val_loss: 0.8169 - val_accuracy: 0.7126 - lr: 0.0010 - 82s/epoch - 19ms/step
Epoch 101/125
4378/4378 - 85s - loss: 0.7355 - accuracy: 0.7266 - val_loss: 0.7058 - val_accuracy: 0.7570 - lr: 0.0010 - 85s/epoch - 19ms/step
Epoch 102/125
4378/4378 - 81s - loss: 0.9322 - accuracy: 0.7207 - val_loss: 0.8193 - val_accuracy: 0.7186 - lr: 0.0010 - 81s/epoch - 18ms/step
Epoch 103/125
4378/4378 - 80s - loss: 0.7415 - accuracy: 0.7246 - val_loss: 0.7309 - val_accuracy: 0.7771 - lr: 0.0010 - 80s/epoch - 18ms/step
Epoch 104/125
4378/4378 - 78s - loss: 0.8978 - accuracy: 0.7242 - val_loss: 0.8374 - val_accuracy: 0.7069 - lr: 0.0010 - 78s/epoch - 18ms/step
Epoch 105/125
4378/4378 - 77s - loss: 0.7624 - accuracy: 0.7206 - val_loss: 0.6924 - val_accuracy: 0.7621 - lr: 0.0010 - 77s/epoch - 18ms/step
Epoch 106/125
4378/4378 - 79s - loss: 2.9583 - accuracy: 0.6848 - val_loss: 1.8758 - val_accuracy: 0.6026 - lr: 0.0010 - 79s/epoch - 18ms/step
Epoch 107/125
4378/4378 - 79s - loss: 0.9843 - accuracy: 0.6248 - val_loss: 0.7229 - val_accuracy: 0.7650 - lr: 0.0010 - 79s/epoch - 18ms/step
Epoch 108/125
4378/4378 - 77s - loss: 0.7451 - accuracy: 0.7242 - val_loss: 0.7919 - val_accuracy: 0.7171 - lr: 0.0010 - 77s/epoch - 18ms/step
Epoch 109/125
4378/4378 - 80s - loss: 0.7449 - accuracy: 0.7239 - val_loss: 0.6984 - val_accuracy: 0.7590 - lr: 0.0010 - 80s/epoch - 18ms/step
Epoch 110/125
4378/4378 - 79s - loss: 0.7433 - accuracy: 0.7236 - val_loss: 0.7581 - val_accuracy: 0.7329 - lr: 0.0010 - 79s/epoch - 18ms/step
Epoch 111/125
4378/4378 - 79s - loss: 0.9223 - accuracy: 0.7248 - val_loss: 0.6659 - val_accuracy: 0.7453 - lr: 0.0010 - 79s/epoch - 18ms/step
Epoch 112/125
4378/4378 - 77s - loss: 0.7580 - accuracy: 0.7264 - val_loss: 0.8022 - val_accuracy: 0.7196 - lr: 0.0010 - 77s/epoch - 18ms/step
Epoch 113/125
4378/4378 - 76s - loss: 0.7475 - accuracy: 0.7247 - val_loss: 0.6955 - val_accuracy: 0.7654 - lr: 0.0010 - 76s/epoch - 17ms/step
Epoch 114/125
4378/4378 - 77s - loss: 0.7563 - accuracy: 0.7227 - val_loss: 1.0668 - val_accuracy: 0.6162 - lr: 0.0010 - 77s/epoch - 18ms/step
Epoch 115/125
4378/4378 - 77s - loss: 0.8487 - accuracy: 0.7198 - val_loss: 0.7663 - val_accuracy: 0.7613 - lr: 0.0010 - 77s/epoch - 18ms/step
Epoch 116/125
4378/4378 - 78s - loss: 0.7374 - accuracy: 0.7266 - val_loss: 0.7766 - val_accuracy: 0.7252 - lr: 0.0010 - 78s/epoch - 18ms/step
Epoch 117/125
4378/4378 - 78s - loss: 0.7484 - accuracy: 0.7261 - val_loss: 0.7517 - val_accuracy: 0.7635 - lr: 0.0010 - 78s/epoch - 18ms/step
Epoch 118/125
4378/4378 - 77s - loss: 0.7825 - accuracy: 0.7243 - val_loss: 0.7581 - val_accuracy: 0.7509 - lr: 0.0010 - 77s/epoch - 18ms/step
Epoch 119/125
4378/4378 - 80s - loss: 0.7587 - accuracy: 0.7246 - val_loss: 0.8334 - val_accuracy: 0.7037 - lr: 0.0010 - 80s/epoch - 18ms/step
Epoch 120/125
4378/4378 - 79s - loss: 0.9549 - accuracy: 0.7208 - val_loss: 0.6175 - val_accuracy: 0.7980 - lr: 0.0010 - 79s/epoch - 18ms/step
Epoch 121/125
4378/4378 - 78s - loss: 0.7653 - accuracy: 0.7236 - val_loss: 0.8210 - val_accuracy: 0.7313 - lr: 0.0010 - 78s/epoch - 18ms/step
Epoch 122/125
4378/4378 - 79s - loss: 0.7446 - accuracy: 0.7242 - val_loss: 0.8671 - val_accuracy: 0.6607 - lr: 0.0010 - 79s/epoch - 18ms/step
Epoch 123/125
4378/4378 - 80s - loss: 0.7548 - accuracy: 0.7220 - val_loss: 0.7611 - val_accuracy: 0.7436 - lr: 0.0010 - 80s/epoch - 18ms/step
Epoch 124/125
4378/4378 - 75s - loss: 0.9089 - accuracy: 0.7138 - val_loss: 0.7719 - val_accuracy: 0.7526 - lr: 0.0010 - 75s/epoch - 17ms/step
Epoch 125/125
4378/4378 - 76s - loss: 1.1176 - accuracy: 0.7218 - val_loss: 0.9185 - val_accuracy: 0.6508 - lr: 0.0010 - 76s/epoch - 17ms/step
fitting with batch size: 100
Epoch 1/125
876/876 - 22s - loss: 0.9596 - accuracy: 0.6955 - val_loss: 0.7765 - val_accuracy: 0.7434 - lr: 0.0010 - 22s/epoch - 26ms/step
Epoch 2/125
876/876 - 19s - loss: 0.7071 - accuracy: 0.7364 - val_loss: 0.7131 - val_accuracy: 0.7518 - lr: 0.0010 - 19s/epoch - 22ms/step
Epoch 3/125
876/876 - 18s - loss: 0.6867 - accuracy: 0.7432 - val_loss: 0.7274 - val_accuracy: 0.7631 - lr: 0.0010 - 18s/epoch - 21ms/step
Epoch 4/125
876/876 - 17s - loss: 0.6796 - accuracy: 0.7456 - val_loss: 0.7070 - val_accuracy: 0.7456 - lr: 0.0010 - 17s/epoch - 20ms/step
Epoch 5/125
876/876 - 17s - loss: 0.6729 - accuracy: 0.7487 - val_loss: 0.7727 - val_accuracy: 0.7396 - lr: 0.0010 - 17s/epoch - 19ms/step
Epoch 6/125
876/876 - 19s - loss: 0.6697 - accuracy: 0.7494 - val_loss: 0.8184 - val_accuracy: 0.6983 - lr: 0.0010 - 19s/epoch - 22ms/step
Epoch 7/125
876/876 - 19s - loss: 0.6658 - accuracy: 0.7510 - val_loss: 0.7307 - val_accuracy: 0.7297 - lr: 0.0010 - 19s/epoch - 22ms/step
Epoch 8/125
876/876 - 19s - loss: 0.6625 - accuracy: 0.7525 - val_loss: 0.7030 - val_accuracy: 0.7444 - lr: 0.0010 - 19s/epoch - 21ms/step
Epoch 9/125
876/876 - 19s - loss: 0.6609 - accuracy: 0.7521 - val_loss: 0.6640 - val_accuracy: 0.7651 - lr: 0.0010 - 19s/epoch - 22ms/step
Epoch 10/125
876/876 - 19s - loss: 0.6577 - accuracy: 0.7528 - val_loss: 0.7034 - val_accuracy: 0.7665 - lr: 0.0010 - 19s/epoch - 22ms/step
Epoch 11/125
876/876 - 18s - loss: 0.6555 - accuracy: 0.7553 - val_loss: 0.6516 - val_accuracy: 0.7776 - lr: 0.0010 - 18s/epoch - 21ms/step
Epoch 12/125
876/876 - 18s - loss: 0.6544 - accuracy: 0.7544 - val_loss: 0.6488 - val_accuracy: 0.7879 - lr: 0.0010 - 18s/epoch - 20ms/step
Epoch 13/125
876/876 - 17s - loss: 0.6577 - accuracy: 0.7539 - val_loss: 0.7423 - val_accuracy: 0.7322 - lr: 0.0010 - 17s/epoch - 20ms/step
Epoch 14/125
876/876 - 17s - loss: 0.6534 - accuracy: 0.7557 - val_loss: 0.6398 - val_accuracy: 0.7768 - lr: 0.0010 - 17s/epoch - 20ms/step
Epoch 15/125
876/876 - 18s - loss: 0.6523 - accuracy: 0.7560 - val_loss: 0.7157 - val_accuracy: 0.7412 - lr: 0.0010 - 18s/epoch - 21ms/step
Epoch 16/125
876/876 - 19s - loss: 0.6486 - accuracy: 0.7577 - val_loss: 0.7432 - val_accuracy: 0.7356 - lr: 0.0010 - 19s/epoch - 22ms/step
Epoch 17/125
876/876 - 19s - loss: 0.6473 - accuracy: 0.7579 - val_loss: 0.7581 - val_accuracy: 0.7338 - lr: 0.0010 - 19s/epoch - 22ms/step
Epoch 18/125
876/876 - 19s - loss: 0.6486 - accuracy: 0.7574 - val_loss: 0.7219 - val_accuracy: 0.7540 - lr: 0.0010 - 19s/epoch - 22ms/step
Epoch 19/125
876/876 - 18s - loss: 0.6459 - accuracy: 0.7585 - val_loss: 0.6348 - val_accuracy: 0.7949 - lr: 0.0010 - 18s/epoch - 21ms/step
Epoch 20/125
876/876 - 18s - loss: 0.6458 - accuracy: 0.7583 - val_loss: 0.6742 - val_accuracy: 0.7733 - lr: 0.0010 - 18s/epoch - 20ms/step
Epoch 21/125
876/876 - 18s - loss: 0.6451 - accuracy: 0.7580 - val_loss: 0.7149 - val_accuracy: 0.7318 - lr: 0.0010 - 18s/epoch - 21ms/step
Epoch 22/125
876/876 - 19s - loss: 0.6485 - accuracy: 0.7588 - val_loss: 0.7980 - val_accuracy: 0.7164 - lr: 0.0010 - 19s/epoch - 22ms/step
Epoch 23/125
876/876 - 19s - loss: 0.6505 - accuracy: 0.7575 - val_loss: 0.6978 - val_accuracy: 0.7588 - lr: 0.0010 - 19s/epoch - 21ms/step
Epoch 24/125
876/876 - 19s - loss: 0.6396 - accuracy: 0.7614 - val_loss: 0.6152 - val_accuracy: 0.7928 - lr: 0.0010 - 19s/epoch - 21ms/step
Epoch 25/125
876/876 - 18s - loss: 0.6502 - accuracy: 0.7560 - val_loss: 0.7171 - val_accuracy: 0.7304 - lr: 0.0010 - 18s/epoch - 21ms/step
Epoch 26/125
876/876 - 18s - loss: 0.6446 - accuracy: 0.7582 - val_loss: 0.6108 - val_accuracy: 0.7873 - lr: 0.0010 - 18s/epoch - 21ms/step
Epoch 27/125
876/876 - 19s - loss: 0.6388 - accuracy: 0.7600 - val_loss: 0.6858 - val_accuracy: 0.7686 - lr: 0.0010 - 19s/epoch - 21ms/step
Epoch 28/125
876/876 - 18s - loss: 0.6382 - accuracy: 0.7609 - val_loss: 0.7380 - val_accuracy: 0.7455 - lr: 0.0010 - 18s/epoch - 20ms/step
Epoch 29/125
876/876 - 18s - loss: 0.6359 - accuracy: 0.7623 - val_loss: 0.6965 - val_accuracy: 0.7611 - lr: 0.0010 - 18s/epoch - 21ms/step
Epoch 30/125
876/876 - 18s - loss: 0.6337 - accuracy: 0.7626 - val_loss: 0.6757 - val_accuracy: 0.7672 - lr: 0.0010 - 18s/epoch - 21ms/step
Epoch 31/125
876/876 - 19s - loss: 0.6472 - accuracy: 0.7607 - val_loss: 0.7829 - val_accuracy: 0.7192 - lr: 0.0010 - 19s/epoch - 21ms/step
Epoch 32/125
876/876 - 18s - loss: 0.6359 - accuracy: 0.7627 - val_loss: 0.7650 - val_accuracy: 0.7184 - lr: 0.0010 - 18s/epoch - 21ms/step
Epoch 33/125
876/876 - 19s - loss: 0.6329 - accuracy: 0.7634 - val_loss: 0.8246 - val_accuracy: 0.6990 - lr: 0.0010 - 19s/epoch - 21ms/step
Epoch 34/125
876/876 - 19s - loss: 0.6455 - accuracy: 0.7611 - val_loss: 0.6513 - val_accuracy: 0.7792 - lr: 0.0010 - 19s/epoch - 21ms/step
Epoch 35/125
876/876 - 19s - loss: 0.6331 - accuracy: 0.7636 - val_loss: 0.7681 - val_accuracy: 0.7187 - lr: 0.0010 - 19s/epoch - 21ms/step
Epoch 36/125
876/876 - 19s - loss: 0.6292 - accuracy: 0.7651 - val_loss: 0.7316 - val_accuracy: 0.7249 - lr: 0.0010 - 19s/epoch - 22ms/step
Epoch 37/125
876/876 - 19s - loss: 0.6341 - accuracy: 0.7633 - val_loss: 0.6399 - val_accuracy: 0.7699 - lr: 0.0010 - 19s/epoch - 22ms/step
Epoch 38/125
876/876 - 19s - loss: 0.6308 - accuracy: 0.7659 - val_loss: 0.7842 - val_accuracy: 0.7149 - lr: 0.0010 - 19s/epoch - 22ms/step
Epoch 39/125
876/876 - 18s - loss: 0.6295 - accuracy: 0.7640 - val_loss: 0.7446 - val_accuracy: 0.7350 - lr: 0.0010 - 18s/epoch - 21ms/step
Epoch 40/125
876/876 - 19s - loss: 0.6338 - accuracy: 0.7629 - val_loss: 0.7272 - val_accuracy: 0.7359 - lr: 0.0010 - 19s/epoch - 22ms/step
Epoch 41/125
876/876 - 19s - loss: 0.6333 - accuracy: 0.7639 - val_loss: 0.6767 - val_accuracy: 0.7609 - lr: 0.0010 - 19s/epoch - 21ms/step
Epoch 42/125
876/876 - 19s - loss: 0.6296 - accuracy: 0.7651 - val_loss: 0.6814 - val_accuracy: 0.7567 - lr: 0.0010 - 19s/epoch - 22ms/step
Epoch 43/125
876/876 - 18s - loss: 0.6268 - accuracy: 0.7655 - val_loss: 0.7594 - val_accuracy: 0.7240 - lr: 0.0010 - 18s/epoch - 20ms/step
Epoch 44/125
876/876 - 17s - loss: 0.6395 - accuracy: 0.7627 - val_loss: 0.6401 - val_accuracy: 0.7701 - lr: 0.0010 - 17s/epoch - 20ms/step
Epoch 45/125
876/876 - 18s - loss: 2.2435 - accuracy: 0.7313 - val_loss: 0.8200 - val_accuracy: 0.7222 - lr: 0.0010 - 18s/epoch - 21ms/step
Epoch 46/125
876/876 - 19s - loss: 0.7299 - accuracy: 0.7340 - val_loss: 0.7883 - val_accuracy: 0.7244 - lr: 0.0010 - 19s/epoch - 21ms/step
Epoch 47/125
876/876 - 18s - loss: 0.6400 - accuracy: 0.7633 - val_loss: 0.7601 - val_accuracy: 0.7184 - lr: 0.0010 - 18s/epoch - 21ms/step
Epoch 48/125
876/876 - 20s - loss: 0.6407 - accuracy: 0.7632 - val_loss: 0.7258 - val_accuracy: 0.7364 - lr: 0.0010 - 20s/epoch - 23ms/step
Epoch 49/125
876/876 - 18s - loss: 0.6444 - accuracy: 0.7627 - val_loss: 0.7164 - val_accuracy: 0.7422 - lr: 0.0010 - 18s/epoch - 21ms/step
Epoch 50/125
876/876 - 20s - loss: 0.6312 - accuracy: 0.7652 - val_loss: 0.7429 - val_accuracy: 0.7493 - lr: 0.0010 - 20s/epoch - 22ms/step
Epoch 51/125
876/876 - 18s - loss: 0.6797 - accuracy: 0.7591 - val_loss: 0.6919 - val_accuracy: 0.7532 - lr: 0.0010 - 18s/epoch - 21ms/step
Epoch 52/125
876/876 - 19s - loss: 0.6282 - accuracy: 0.7657 - val_loss: 0.7354 - val_accuracy: 0.7578 - lr: 0.0010 - 19s/epoch - 22ms/step
Epoch 53/125
876/876 - 21s - loss: 0.6268 - accuracy: 0.7664 - val_loss: 0.7656 - val_accuracy: 0.7199 - lr: 0.0010 - 21s/epoch - 24ms/step
Epoch 54/125
876/876 - 19s - loss: 0.6241 - accuracy: 0.7673 - val_loss: 0.6670 - val_accuracy: 0.7666 - lr: 0.0010 - 19s/epoch - 22ms/step
Epoch 55/125
876/876 - 19s - loss: 0.6190 - accuracy: 0.7681 - val_loss: 0.7259 - val_accuracy: 0.7264 - lr: 0.0010 - 19s/epoch - 22ms/step
Epoch 56/125
876/876 - 20s - loss: 0.6241 - accuracy: 0.7672 - val_loss: 0.8008 - val_accuracy: 0.7228 - lr: 0.0010 - 20s/epoch - 22ms/step
Epoch 57/125
876/876 - 19s - loss: 0.6167 - accuracy: 0.7697 - val_loss: 0.7660 - val_accuracy: 0.7271 - lr: 0.0010 - 19s/epoch - 22ms/step
Epoch 58/125
876/876 - 19s - loss: 0.6188 - accuracy: 0.7680 - val_loss: 0.6573 - val_accuracy: 0.7625 - lr: 0.0010 - 19s/epoch - 22ms/step
Epoch 59/125
876/876 - 18s - loss: 0.6170 - accuracy: 0.7687 - val_loss: 0.7336 - val_accuracy: 0.7218 - lr: 0.0010 - 18s/epoch - 21ms/step
Epoch 60/125
876/876 - 19s - loss: 0.6247 - accuracy: 0.7665 - val_loss: 0.6580 - val_accuracy: 0.7733 - lr: 0.0010 - 19s/epoch - 22ms/step
Epoch 61/125
876/876 - 22s - loss: 0.6152 - accuracy: 0.7696 - val_loss: 0.6651 - val_accuracy: 0.7653 - lr: 0.0010 - 22s/epoch - 25ms/step
Epoch 62/125
876/876 - 23s - loss: 0.6142 - accuracy: 0.7714 - val_loss: 0.7836 - val_accuracy: 0.7135 - lr: 0.0010 - 23s/epoch - 27ms/step
Epoch 63/125
876/876 - 21s - loss: 0.6141 - accuracy: 0.7698 - val_loss: 0.6711 - val_accuracy: 0.7718 - lr: 0.0010 - 21s/epoch - 24ms/step
Epoch 64/125
876/876 - 21s - loss: 0.6129 - accuracy: 0.7714 - val_loss: 0.7043 - val_accuracy: 0.7506 - lr: 0.0010 - 21s/epoch - 24ms/step
Epoch 65/125
876/876 - 25s - loss: 0.6144 - accuracy: 0.7708 - val_loss: 0.7112 - val_accuracy: 0.7625 - lr: 0.0010 - 25s/epoch - 29ms/step
Epoch 66/125
876/876 - 19s - loss: 0.6127 - accuracy: 0.7718 - val_loss: 0.6407 - val_accuracy: 0.7738 - lr: 0.0010 - 19s/epoch - 22ms/step
Epoch 67/125
876/876 - 21s - loss: 0.6121 - accuracy: 0.7728 - val_loss: 0.6819 - val_accuracy: 0.7618 - lr: 0.0010 - 21s/epoch - 24ms/step
Epoch 68/125
876/876 - 19s - loss: 0.6152 - accuracy: 0.7700 - val_loss: 0.6769 - val_accuracy: 0.7644 - lr: 0.0010 - 19s/epoch - 22ms/step
Epoch 69/125
876/876 - 19s - loss: 0.6161 - accuracy: 0.7694 - val_loss: 0.7611 - val_accuracy: 0.7320 - lr: 0.0010 - 19s/epoch - 21ms/step
Epoch 70/125
876/876 - 19s - loss: 0.6122 - accuracy: 0.7720 - val_loss: 0.7942 - val_accuracy: 0.7076 - lr: 0.0010 - 19s/epoch - 22ms/step
Epoch 71/125
876/876 - 19s - loss: 0.6152 - accuracy: 0.7701 - val_loss: 0.6827 - val_accuracy: 0.7645 - lr: 0.0010 - 19s/epoch - 22ms/step
Epoch 72/125
876/876 - 19s - loss: 0.7366 - accuracy: 0.7617 - val_loss: 0.6954 - val_accuracy: 0.7467 - lr: 0.0010 - 19s/epoch - 22ms/step
Epoch 73/125
876/876 - 19s - loss: 0.6111 - accuracy: 0.7706 - val_loss: 0.7322 - val_accuracy: 0.7420 - lr: 0.0010 - 19s/epoch - 22ms/step
Epoch 74/125
876/876 - 19s - loss: 0.6131 - accuracy: 0.7720 - val_loss: 0.6883 - val_accuracy: 0.7414 - lr: 0.0010 - 19s/epoch - 22ms/step
Epoch 75/125
876/876 - 19s - loss: 0.6151 - accuracy: 0.7702 - val_loss: 0.7389 - val_accuracy: 0.7453 - lr: 0.0010 - 19s/epoch - 21ms/step
Epoch 76/125
876/876 - 19s - loss: 0.6214 - accuracy: 0.7684 - val_loss: 0.6723 - val_accuracy: 0.7550 - lr: 0.0010 - 19s/epoch - 21ms/step
Epoch 77/125
876/876 - 19s - loss: 0.6117 - accuracy: 0.7728 - val_loss: 0.7774 - val_accuracy: 0.7196 - lr: 0.0010 - 19s/epoch - 21ms/step
Epoch 78/125
876/876 - 19s - loss: 0.6084 - accuracy: 0.7743 - val_loss: 0.7754 - val_accuracy: 0.7159 - lr: 0.0010 - 19s/epoch - 22ms/step
Epoch 79/125
876/876 - 18s - loss: 0.6154 - accuracy: 0.7711 - val_loss: 0.6835 - val_accuracy: 0.7617 - lr: 0.0010 - 18s/epoch - 20ms/step
Epoch 80/125
876/876 - 18s - loss: 0.6121 - accuracy: 0.7724 - val_loss: 0.7000 - val_accuracy: 0.7542 - lr: 0.0010 - 18s/epoch - 21ms/step
Epoch 81/125
876/876 - 19s - loss: 0.6051 - accuracy: 0.7725 - val_loss: 0.7272 - val_accuracy: 0.7254 - lr: 0.0010 - 19s/epoch - 21ms/step
Epoch 82/125
876/876 - 18s - loss: 0.6002 - accuracy: 0.7752 - val_loss: 0.7004 - val_accuracy: 0.7414 - lr: 0.0010 - 18s/epoch - 20ms/step
Epoch 83/125
876/876 - 19s - loss: 0.6032 - accuracy: 0.7755 - val_loss: 0.7313 - val_accuracy: 0.7438 - lr: 0.0010 - 19s/epoch - 21ms/step
Epoch 84/125
876/876 - 20s - loss: 0.6071 - accuracy: 0.7732 - val_loss: 0.7902 - val_accuracy: 0.7176 - lr: 0.0010 - 20s/epoch - 23ms/step
Epoch 85/125
876/876 - 19s - loss: 0.6048 - accuracy: 0.7747 - val_loss: 0.6811 - val_accuracy: 0.7477 - lr: 0.0010 - 19s/epoch - 22ms/step
Epoch 86/125
876/876 - 19s - loss: 0.6295 - accuracy: 0.7695 - val_loss: 0.7407 - val_accuracy: 0.7429 - lr: 0.0010 - 19s/epoch - 21ms/step
Epoch 87/125
876/876 - 19s - loss: 0.6114 - accuracy: 0.7730 - val_loss: 0.7085 - val_accuracy: 0.7479 - lr: 0.0010 - 19s/epoch - 21ms/step
Epoch 88/125
876/876 - 19s - loss: 0.6185 - accuracy: 0.7708 - val_loss: 0.7467 - val_accuracy: 0.7217 - lr: 0.0010 - 19s/epoch - 22ms/step
Epoch 89/125
876/876 - 20s - loss: 0.6041 - accuracy: 0.7740 - val_loss: 0.7586 - val_accuracy: 0.7245 - lr: 0.0010 - 20s/epoch - 22ms/step
Epoch 90/125
876/876 - 19s - loss: 0.6043 - accuracy: 0.7751 - val_loss: 0.6463 - val_accuracy: 0.7714 - lr: 0.0010 - 19s/epoch - 22ms/step
Epoch 91/125
876/876 - 19s - loss: 0.6006 - accuracy: 0.7765 - val_loss: 0.7339 - val_accuracy: 0.7245 - lr: 0.0010 - 19s/epoch - 22ms/step
Epoch 92/125
876/876 - 19s - loss: 0.5999 - accuracy: 0.7769 - val_loss: 0.6592 - val_accuracy: 0.7722 - lr: 0.0010 - 19s/epoch - 22ms/step
Epoch 93/125
876/876 - 19s - loss: 0.5998 - accuracy: 0.7770 - val_loss: 0.6543 - val_accuracy: 0.7772 - lr: 0.0010 - 19s/epoch - 22ms/step
Epoch 94/125
876/876 - 19s - loss: 0.6007 - accuracy: 0.7751 - val_loss: 0.6954 - val_accuracy: 0.7544 - lr: 0.0010 - 19s/epoch - 22ms/step
Epoch 95/125
876/876 - 19s - loss: 0.5980 - accuracy: 0.7776 - val_loss: 0.6963 - val_accuracy: 0.7537 - lr: 0.0010 - 19s/epoch - 22ms/step
Epoch 96/125
876/876 - 18s - loss: 0.6042 - accuracy: 0.7750 - val_loss: 0.7103 - val_accuracy: 0.7535 - lr: 0.0010 - 18s/epoch - 21ms/step
Epoch 97/125
876/876 - 19s - loss: 0.5985 - accuracy: 0.7768 - val_loss: 0.7383 - val_accuracy: 0.7396 - lr: 0.0010 - 19s/epoch - 22ms/step
Epoch 98/125
876/876 - 19s - loss: 0.5942 - accuracy: 0.7778 - val_loss: 0.6939 - val_accuracy: 0.7657 - lr: 0.0010 - 19s/epoch - 21ms/step
Epoch 99/125
876/876 - 19s - loss: 0.6393 - accuracy: 0.7695 - val_loss: 0.6690 - val_accuracy: 0.7722 - lr: 0.0010 - 19s/epoch - 22ms/step
Epoch 100/125
876/876 - 20s - loss: 0.6028 - accuracy: 0.7757 - val_loss: 0.8151 - val_accuracy: 0.6985 - lr: 0.0010 - 20s/epoch - 23ms/step
Epoch 101/125
876/876 - 19s - loss: 0.6861 - accuracy: 0.7680 - val_loss: 0.6941 - val_accuracy: 0.7446 - lr: 0.0010 - 19s/epoch - 22ms/step
Epoch 102/125
876/876 - 19s - loss: 0.5992 - accuracy: 0.7765 - val_loss: 0.7281 - val_accuracy: 0.7399 - lr: 0.0010 - 19s/epoch - 22ms/step
Epoch 103/125
876/876 - 19s - loss: 0.6074 - accuracy: 0.7741 - val_loss: 0.7275 - val_accuracy: 0.7381 - lr: 0.0010 - 19s/epoch - 22ms/step
Epoch 104/125
876/876 - 19s - loss: 0.6042 - accuracy: 0.7744 - val_loss: 0.6657 - val_accuracy: 0.7620 - lr: 0.0010 - 19s/epoch - 22ms/step
Epoch 105/125
876/876 - 19s - loss: 0.7801 - accuracy: 0.7559 - val_loss: 0.7751 - val_accuracy: 0.7226 - lr: 0.0010 - 19s/epoch - 22ms/step
Epoch 106/125
876/876 - 19s - loss: 0.6188 - accuracy: 0.7739 - val_loss: 0.7168 - val_accuracy: 0.7402 - lr: 0.0010 - 19s/epoch - 21ms/step
Epoch 107/125
876/876 - 19s - loss: 0.5986 - accuracy: 0.7767 - val_loss: 0.6369 - val_accuracy: 0.7830 - lr: 0.0010 - 19s/epoch - 22ms/step
Epoch 108/125
876/876 - 19s - loss: 0.5950 - accuracy: 0.7779 - val_loss: 0.6977 - val_accuracy: 0.7715 - lr: 0.0010 - 19s/epoch - 22ms/step
Epoch 109/125
876/876 - 18s - loss: 0.5941 - accuracy: 0.7792 - val_loss: 0.6788 - val_accuracy: 0.7662 - lr: 0.0010 - 18s/epoch - 20ms/step
Epoch 110/125
876/876 - 18s - loss: 0.5935 - accuracy: 0.7792 - val_loss: 0.7700 - val_accuracy: 0.7252 - lr: 0.0010 - 18s/epoch - 20ms/step
Epoch 111/125
876/876 - 18s - loss: 0.5931 - accuracy: 0.7788 - val_loss: 0.6627 - val_accuracy: 0.7571 - lr: 0.0010 - 18s/epoch - 20ms/step
Epoch 112/125
876/876 - 18s - loss: 0.6054 - accuracy: 0.7774 - val_loss: 0.6781 - val_accuracy: 0.7661 - lr: 0.0010 - 18s/epoch - 20ms/step
Epoch 113/125
876/876 - 18s - loss: 0.5973 - accuracy: 0.7777 - val_loss: 0.7098 - val_accuracy: 0.7432 - lr: 0.0010 - 18s/epoch - 20ms/step
Epoch 114/125
876/876 - 18s - loss: 1.5377 - accuracy: 0.7677 - val_loss: 0.7106 - val_accuracy: 0.7400 - lr: 0.0010 - 18s/epoch - 20ms/step
Epoch 115/125
876/876 - 17s - loss: 0.6083 - accuracy: 0.7755 - val_loss: 0.7775 - val_accuracy: 0.7245 - lr: 0.0010 - 17s/epoch - 20ms/step
Epoch 116/125
876/876 - 18s - loss: 0.5981 - accuracy: 0.7771 - val_loss: 0.6881 - val_accuracy: 0.7431 - lr: 0.0010 - 18s/epoch - 20ms/step
Epoch 117/125
876/876 - 18s - loss: 0.5926 - accuracy: 0.7793 - val_loss: 0.6433 - val_accuracy: 0.7850 - lr: 0.0010 - 18s/epoch - 20ms/step
Epoch 118/125
876/876 - 18s - loss: 0.5938 - accuracy: 0.7779 - val_loss: 0.7598 - val_accuracy: 0.7257 - lr: 0.0010 - 18s/epoch - 20ms/step
Epoch 119/125
876/876 - 18s - loss: 0.5971 - accuracy: 0.7784 - val_loss: 0.6918 - val_accuracy: 0.7649 - lr: 0.0010 - 18s/epoch - 20ms/step
Epoch 120/125
876/876 - 18s - loss: 0.5897 - accuracy: 0.7809 - val_loss: 0.7236 - val_accuracy: 0.7510 - lr: 0.0010 - 18s/epoch - 20ms/step
Epoch 121/125
876/876 - 18s - loss: 0.6009 - accuracy: 0.7761 - val_loss: 0.6881 - val_accuracy: 0.7408 - lr: 0.0010 - 18s/epoch - 20ms/step
Epoch 122/125
876/876 - 18s - loss: 0.5898 - accuracy: 0.7809 - val_loss: 0.7279 - val_accuracy: 0.7303 - lr: 0.0010 - 18s/epoch - 20ms/step
Epoch 123/125
876/876 - 18s - loss: 0.5910 - accuracy: 0.7800 - val_loss: 0.7111 - val_accuracy: 0.7392 - lr: 0.0010 - 18s/epoch - 20ms/step
Epoch 124/125
876/876 - 18s - loss: 0.5875 - accuracy: 0.7807 - val_loss: 0.7033 - val_accuracy: 0.7474 - lr: 0.0010 - 18s/epoch - 20ms/step
Epoch 125/125
876/876 - 18s - loss: 0.5992 - accuracy: 0.7775 - val_loss: 0.7491 - val_accuracy: 0.7392 - lr: 0.0010 - 18s/epoch - 20ms/step
fitting with batch size: 500
Epoch 1/125
176/176 - 16s - loss: 0.5524 - accuracy: 0.7938 - val_loss: 0.6472 - val_accuracy: 0.7682 - lr: 0.0010 - 16s/epoch - 91ms/step
Epoch 2/125
176/176 - 10s - loss: 0.5493 - accuracy: 0.7963 - val_loss: 0.7644 - val_accuracy: 0.7121 - lr: 0.0010 - 10s/epoch - 55ms/step
Epoch 3/125
176/176 - 10s - loss: 0.5595 - accuracy: 0.7926 - val_loss: 0.6572 - val_accuracy: 0.7616 - lr: 0.0010 - 10s/epoch - 55ms/step
Epoch 4/125
176/176 - 10s - loss: 0.5446 - accuracy: 0.7966 - val_loss: 0.7486 - val_accuracy: 0.7241 - lr: 0.0010 - 10s/epoch - 55ms/step
Epoch 5/125
176/176 - 10s - loss: 0.5485 - accuracy: 0.7960 - val_loss: 0.7130 - val_accuracy: 0.7366 - lr: 0.0010 - 10s/epoch - 55ms/step
Epoch 6/125
176/176 - 10s - loss: 0.5445 - accuracy: 0.7973 - val_loss: 0.6992 - val_accuracy: 0.7521 - lr: 0.0010 - 10s/epoch - 56ms/step
Epoch 7/125
176/176 - 10s - loss: 0.5525 - accuracy: 0.7980 - val_loss: 0.7090 - val_accuracy: 0.7456 - lr: 0.0010 - 10s/epoch - 55ms/step
Epoch 8/125
176/176 - 10s - loss: 0.5423 - accuracy: 0.7976 - val_loss: 0.6864 - val_accuracy: 0.7494 - lr: 0.0010 - 10s/epoch - 54ms/step
Epoch 9/125
176/176 - 10s - loss: 0.5403 - accuracy: 0.7987 - val_loss: 0.7531 - val_accuracy: 0.7114 - lr: 0.0010 - 10s/epoch - 55ms/step
Epoch 10/125
176/176 - 10s - loss: 0.5440 - accuracy: 0.7968 - val_loss: 0.6842 - val_accuracy: 0.7567 - lr: 0.0010 - 10s/epoch - 54ms/step
Epoch 11/125
176/176 - 10s - loss: 0.5384 - accuracy: 0.7989 - val_loss: 0.6893 - val_accuracy: 0.7495 - lr: 0.0010 - 10s/epoch - 55ms/step
Epoch 12/125
176/176 - 10s - loss: 0.5395 - accuracy: 0.7991 - val_loss: 0.7204 - val_accuracy: 0.7442 - lr: 0.0010 - 10s/epoch - 55ms/step
Epoch 13/125
176/176 - 10s - loss: 0.5391 - accuracy: 0.8002 - val_loss: 0.7153 - val_accuracy: 0.7452 - lr: 0.0010 - 10s/epoch - 55ms/step
Epoch 14/125
176/176 - 10s - loss: 0.5469 - accuracy: 0.7988 - val_loss: 0.7077 - val_accuracy: 0.7501 - lr: 0.0010 - 10s/epoch - 55ms/step
Epoch 15/125
176/176 - 10s - loss: 0.5421 - accuracy: 0.7990 - val_loss: 0.7181 - val_accuracy: 0.7421 - lr: 0.0010 - 10s/epoch - 55ms/step
Epoch 16/125
176/176 - 10s - loss: 0.5340 - accuracy: 0.8021 - val_loss: 0.7295 - val_accuracy: 0.7361 - lr: 0.0010 - 10s/epoch - 55ms/step
Epoch 17/125
176/176 - 10s - loss: 0.5339 - accuracy: 0.8025 - val_loss: 0.7054 - val_accuracy: 0.7477 - lr: 0.0010 - 10s/epoch - 55ms/step
Epoch 18/125
176/176 - 10s - loss: 0.5348 - accuracy: 0.8019 - val_loss: 0.7273 - val_accuracy: 0.7300 - lr: 0.0010 - 10s/epoch - 55ms/step
Epoch 19/125
176/176 - 10s - loss: 0.5348 - accuracy: 0.8009 - val_loss: 0.7207 - val_accuracy: 0.7384 - lr: 0.0010 - 10s/epoch - 55ms/step
Epoch 20/125
176/176 - 10s - loss: 0.5320 - accuracy: 0.8029 - val_loss: 0.7658 - val_accuracy: 0.7185 - lr: 0.0010 - 10s/epoch - 55ms/step
Epoch 21/125
176/176 - 10s - loss: 0.5339 - accuracy: 0.8014 - val_loss: 0.7648 - val_accuracy: 0.7180 - lr: 0.0010 - 10s/epoch - 55ms/step
Epoch 22/125
176/176 - 10s - loss: 0.5308 - accuracy: 0.8032 - val_loss: 0.7103 - val_accuracy: 0.7368 - lr: 0.0010 - 10s/epoch - 55ms/step
Epoch 23/125
176/176 - 10s - loss: 0.5320 - accuracy: 0.8021 - val_loss: 0.6795 - val_accuracy: 0.7508 - lr: 0.0010 - 10s/epoch - 55ms/step
Epoch 24/125
176/176 - 10s - loss: 0.5290 - accuracy: 0.8028 - val_loss: 0.7324 - val_accuracy: 0.7280 - lr: 0.0010 - 10s/epoch - 55ms/step
Epoch 25/125
176/176 - 10s - loss: 0.5307 - accuracy: 0.8022 - val_loss: 0.6899 - val_accuracy: 0.7497 - lr: 0.0010 - 10s/epoch - 55ms/step
Epoch 26/125
176/176 - 10s - loss: 0.5294 - accuracy: 0.8039 - val_loss: 0.7328 - val_accuracy: 0.7273 - lr: 0.0010 - 10s/epoch - 55ms/step
Epoch 27/125
176/176 - 10s - loss: 0.5279 - accuracy: 0.8040 - val_loss: 0.7482 - val_accuracy: 0.7239 - lr: 0.0010 - 10s/epoch - 56ms/step
Epoch 28/125
176/176 - 10s - loss: 0.5453 - accuracy: 0.8012 - val_loss: 0.7394 - val_accuracy: 0.7271 - lr: 0.0010 - 10s/epoch - 55ms/step
Epoch 29/125
176/176 - 10s - loss: 0.5271 - accuracy: 0.8049 - val_loss: 0.7671 - val_accuracy: 0.7181 - lr: 0.0010 - 10s/epoch - 55ms/step
Epoch 30/125
176/176 - 10s - loss: 0.5289 - accuracy: 0.8040 - val_loss: 0.7077 - val_accuracy: 0.7413 - lr: 0.0010 - 10s/epoch - 55ms/step
Epoch 31/125
176/176 - 10s - loss: 0.5308 - accuracy: 0.8034 - val_loss: 0.7068 - val_accuracy: 0.7293 - lr: 0.0010 - 10s/epoch - 55ms/step
Epoch 32/125
176/176 - 10s - loss: 0.5269 - accuracy: 0.8047 - val_loss: 0.7231 - val_accuracy: 0.7252 - lr: 0.0010 - 10s/epoch - 55ms/step
Epoch 33/125
176/176 - 10s - loss: 0.5281 - accuracy: 0.8041 - val_loss: 0.7117 - val_accuracy: 0.7377 - lr: 0.0010 - 10s/epoch - 55ms/step
Epoch 34/125
176/176 - 10s - loss: 0.5278 - accuracy: 0.8047 - val_loss: 0.6907 - val_accuracy: 0.7441 - lr: 0.0010 - 10s/epoch - 55ms/step
Epoch 35/125
176/176 - 10s - loss: 0.5242 - accuracy: 0.8053 - val_loss: 0.6903 - val_accuracy: 0.7556 - lr: 0.0010 - 10s/epoch - 55ms/step
Epoch 36/125
176/176 - 10s - loss: 0.5221 - accuracy: 0.8061 - val_loss: 0.7268 - val_accuracy: 0.7380 - lr: 0.0010 - 10s/epoch - 55ms/step
Epoch 37/125
176/176 - 10s - loss: 0.5330 - accuracy: 0.8024 - val_loss: 0.7299 - val_accuracy: 0.7248 - lr: 0.0010 - 10s/epoch - 55ms/step
Epoch 38/125
176/176 - 10s - loss: 0.5236 - accuracy: 0.8051 - val_loss: 0.6650 - val_accuracy: 0.7552 - lr: 0.0010 - 10s/epoch - 55ms/step
Epoch 39/125
176/176 - 10s - loss: 0.5205 - accuracy: 0.8077 - val_loss: 0.6728 - val_accuracy: 0.7591 - lr: 0.0010 - 10s/epoch - 55ms/step
Epoch 40/125
176/176 - 10s - loss: 0.5271 - accuracy: 0.8044 - val_loss: 0.7248 - val_accuracy: 0.7468 - lr: 0.0010 - 10s/epoch - 55ms/step
Epoch 41/125
176/176 - 10s - loss: 0.5277 - accuracy: 0.8042 - val_loss: 0.7200 - val_accuracy: 0.7413 - lr: 0.0010 - 10s/epoch - 55ms/step
Epoch 42/125
176/176 - 10s - loss: 0.5217 - accuracy: 0.8054 - val_loss: 0.7074 - val_accuracy: 0.7446 - lr: 0.0010 - 10s/epoch - 55ms/step
Epoch 43/125
176/176 - 10s - loss: 0.5191 - accuracy: 0.8082 - val_loss: 0.7116 - val_accuracy: 0.7418 - lr: 0.0010 - 10s/epoch - 55ms/step
Epoch 44/125
176/176 - 10s - loss: 0.5206 - accuracy: 0.8077 - val_loss: 0.7138 - val_accuracy: 0.7373 - lr: 0.0010 - 10s/epoch - 55ms/step
Epoch 45/125
176/176 - 10s - loss: 0.5208 - accuracy: 0.8064 - val_loss: 0.7339 - val_accuracy: 0.7306 - lr: 0.0010 - 10s/epoch - 55ms/step
Epoch 46/125
176/176 - 10s - loss: 0.5214 - accuracy: 0.8063 - val_loss: 0.7094 - val_accuracy: 0.7357 - lr: 0.0010 - 10s/epoch - 55ms/step
Epoch 47/125
176/176 - 10s - loss: 0.5198 - accuracy: 0.8073 - val_loss: 0.6848 - val_accuracy: 0.7458 - lr: 0.0010 - 10s/epoch - 55ms/step
Epoch 48/125
176/176 - 10s - loss: 0.5187 - accuracy: 0.8081 - val_loss: 0.7096 - val_accuracy: 0.7380 - lr: 0.0010 - 10s/epoch - 55ms/step
Epoch 49/125
176/176 - 10s - loss: 0.5262 - accuracy: 0.8047 - val_loss: 0.6678 - val_accuracy: 0.7636 - lr: 0.0010 - 10s/epoch - 55ms/step
Epoch 50/125
176/176 - 10s - loss: 0.5205 - accuracy: 0.8078 - val_loss: 0.6742 - val_accuracy: 0.7523 - lr: 0.0010 - 10s/epoch - 54ms/step
Epoch 51/125
176/176 - 10s - loss: 0.5150 - accuracy: 0.8098 - val_loss: 0.7417 - val_accuracy: 0.7254 - lr: 0.0010 - 10s/epoch - 55ms/step
Epoch 52/125
176/176 - 10s - loss: 0.5435 - accuracy: 0.8013 - val_loss: 0.7471 - val_accuracy: 0.7301 - lr: 0.0010 - 10s/epoch - 55ms/step
Epoch 53/125
176/176 - 10s - loss: 0.5192 - accuracy: 0.8071 - val_loss: 0.7140 - val_accuracy: 0.7426 - lr: 0.0010 - 10s/epoch - 55ms/step
Epoch 54/125
176/176 - 10s - loss: 0.5150 - accuracy: 0.8094 - val_loss: 0.6961 - val_accuracy: 0.7347 - lr: 0.0010 - 10s/epoch - 55ms/step
Epoch 55/125
176/176 - 10s - loss: 0.5160 - accuracy: 0.8088 - val_loss: 0.7014 - val_accuracy: 0.7426 - lr: 0.0010 - 10s/epoch - 55ms/step
Epoch 56/125
176/176 - 10s - loss: 0.5180 - accuracy: 0.8068 - val_loss: 0.7079 - val_accuracy: 0.7379 - lr: 0.0010 - 10s/epoch - 55ms/step
Epoch 57/125
176/176 - 10s - loss: 0.5157 - accuracy: 0.8086 - val_loss: 0.6867 - val_accuracy: 0.7494 - lr: 0.0010 - 10s/epoch - 55ms/step
Epoch 58/125
176/176 - 10s - loss: 0.5179 - accuracy: 0.8086 - val_loss: 0.7050 - val_accuracy: 0.7298 - lr: 0.0010 - 10s/epoch - 55ms/step
Epoch 59/125
176/176 - 10s - loss: 0.5214 - accuracy: 0.8063 - val_loss: 0.7037 - val_accuracy: 0.7431 - lr: 0.0010 - 10s/epoch - 55ms/step
Epoch 60/125
176/176 - 10s - loss: 0.5155 - accuracy: 0.8084 - val_loss: 0.6738 - val_accuracy: 0.7559 - lr: 0.0010 - 10s/epoch - 55ms/step
Epoch 61/125
176/176 - 10s - loss: 0.5144 - accuracy: 0.8087 - val_loss: 0.6943 - val_accuracy: 0.7539 - lr: 0.0010 - 10s/epoch - 56ms/step
Epoch 62/125
176/176 - 10s - loss: 0.5149 - accuracy: 0.8091 - val_loss: 0.6800 - val_accuracy: 0.7532 - lr: 0.0010 - 10s/epoch - 55ms/step
Epoch 63/125
176/176 - 10s - loss: 0.5200 - accuracy: 0.8072 - val_loss: 0.6886 - val_accuracy: 0.7536 - lr: 0.0010 - 10s/epoch - 55ms/step
Epoch 64/125
176/176 - 10s - loss: 0.5137 - accuracy: 0.8108 - val_loss: 0.6943 - val_accuracy: 0.7583 - lr: 0.0010 - 10s/epoch - 55ms/step
Epoch 65/125
176/176 - 10s - loss: 0.5178 - accuracy: 0.8083 - val_loss: 0.7320 - val_accuracy: 0.7353 - lr: 0.0010 - 10s/epoch - 55ms/step
Epoch 66/125
176/176 - 10s - loss: 0.5177 - accuracy: 0.8078 - val_loss: 0.7174 - val_accuracy: 0.7385 - lr: 0.0010 - 10s/epoch - 56ms/step
Epoch 67/125
176/176 - 10s - loss: 0.5123 - accuracy: 0.8092 - val_loss: 0.6790 - val_accuracy: 0.7555 - lr: 0.0010 - 10s/epoch - 55ms/step
Epoch 68/125
176/176 - 10s - loss: 0.5118 - accuracy: 0.8102 - val_loss: 0.6996 - val_accuracy: 0.7419 - lr: 0.0010 - 10s/epoch - 56ms/step
Epoch 69/125
176/176 - 10s - loss: 0.5103 - accuracy: 0.8111 - val_loss: 0.7646 - val_accuracy: 0.7240 - lr: 0.0010 - 10s/epoch - 55ms/step
Epoch 70/125
176/176 - 10s - loss: 0.5128 - accuracy: 0.8102 - val_loss: 0.7455 - val_accuracy: 0.7292 - lr: 0.0010 - 10s/epoch - 55ms/step
Epoch 71/125
176/176 - 10s - loss: 0.5134 - accuracy: 0.8091 - val_loss: 0.6869 - val_accuracy: 0.7587 - lr: 0.0010 - 10s/epoch - 55ms/step
Epoch 72/125
176/176 - 10s - loss: 0.5087 - accuracy: 0.8120 - val_loss: 0.7026 - val_accuracy: 0.7397 - lr: 0.0010 - 10s/epoch - 55ms/step
Epoch 73/125
176/176 - 10s - loss: 0.5103 - accuracy: 0.8106 - val_loss: 0.7228 - val_accuracy: 0.7463 - lr: 0.0010 - 10s/epoch - 55ms/step
Epoch 74/125
176/176 - 10s - loss: 0.5145 - accuracy: 0.8086 - val_loss: 0.7318 - val_accuracy: 0.7315 - lr: 0.0010 - 10s/epoch - 55ms/step
Epoch 75/125
176/176 - 10s - loss: 0.5144 - accuracy: 0.8092 - val_loss: 0.7474 - val_accuracy: 0.7288 - lr: 0.0010 - 10s/epoch - 56ms/step
Epoch 76/125
176/176 - 10s - loss: 0.5107 - accuracy: 0.8109 - val_loss: 0.7372 - val_accuracy: 0.7261 - lr: 0.0010 - 10s/epoch - 55ms/step
Epoch 77/125
176/176 - 10s - loss: 0.5104 - accuracy: 0.8102 - val_loss: 0.7300 - val_accuracy: 0.7189 - lr: 0.0010 - 10s/epoch - 56ms/step
Epoch 78/125
176/176 - 10s - loss: 0.5094 - accuracy: 0.8114 - val_loss: 0.6833 - val_accuracy: 0.7599 - lr: 0.0010 - 10s/epoch - 55ms/step
Epoch 79/125
176/176 - 10s - loss: 0.5178 - accuracy: 0.8083 - val_loss: 0.7062 - val_accuracy: 0.7414 - lr: 0.0010 - 10s/epoch - 55ms/step
Epoch 80/125
176/176 - 10s - loss: 0.5128 - accuracy: 0.8101 - val_loss: 0.7341 - val_accuracy: 0.7372 - lr: 0.0010 - 10s/epoch - 55ms/step
Epoch 81/125
176/176 - 10s - loss: 0.5066 - accuracy: 0.8126 - val_loss: 0.7176 - val_accuracy: 0.7415 - lr: 0.0010 - 10s/epoch - 55ms/step
Epoch 82/125
176/176 - 10s - loss: 0.5091 - accuracy: 0.8108 - val_loss: 0.7139 - val_accuracy: 0.7438 - lr: 0.0010 - 10s/epoch - 55ms/step
Epoch 83/125
176/176 - 10s - loss: 0.6953 - accuracy: 0.8005 - val_loss: 0.9288 - val_accuracy: 0.6336 - lr: 0.0010 - 10s/epoch - 56ms/step
Epoch 84/125
176/176 - 10s - loss: 0.6630 - accuracy: 0.7677 - val_loss: 0.6651 - val_accuracy: 0.7620 - lr: 0.0010 - 10s/epoch - 55ms/step
Epoch 85/125
176/176 - 10s - loss: 0.5328 - accuracy: 0.8021 - val_loss: 0.7261 - val_accuracy: 0.7322 - lr: 0.0010 - 10s/epoch - 55ms/step
Epoch 86/125
176/176 - 10s - loss: 0.5101 - accuracy: 0.8112 - val_loss: 0.6921 - val_accuracy: 0.7518 - lr: 0.0010 - 10s/epoch - 55ms/step
Epoch 87/125
176/176 - 10s - loss: 0.5097 - accuracy: 0.8109 - val_loss: 0.7366 - val_accuracy: 0.7326 - lr: 0.0010 - 10s/epoch - 55ms/step
Epoch 88/125
176/176 - 10s - loss: 0.5084 - accuracy: 0.8123 - val_loss: 0.6837 - val_accuracy: 0.7522 - lr: 0.0010 - 10s/epoch - 55ms/step
Epoch 89/125
176/176 - 10s - loss: 0.5082 - accuracy: 0.8117 - val_loss: 0.7467 - val_accuracy: 0.7219 - lr: 0.0010 - 10s/epoch - 55ms/step
Epoch 90/125
176/176 - 10s - loss: 0.5313 - accuracy: 0.8053 - val_loss: 0.7437 - val_accuracy: 0.7152 - lr: 0.0010 - 10s/epoch - 55ms/step
Epoch 91/125
176/176 - 10s - loss: 0.5375 - accuracy: 0.8055 - val_loss: 0.7029 - val_accuracy: 0.7379 - lr: 0.0010 - 10s/epoch - 55ms/step
Epoch 92/125
176/176 - 10s - loss: 0.5204 - accuracy: 0.8066 - val_loss: 0.6428 - val_accuracy: 0.7595 - lr: 0.0010 - 10s/epoch - 55ms/step
Epoch 93/125
176/176 - 10s - loss: 0.5061 - accuracy: 0.8123 - val_loss: 0.7395 - val_accuracy: 0.7236 - lr: 0.0010 - 10s/epoch - 55ms/step
Epoch 94/125
176/176 - 10s - loss: 0.5031 - accuracy: 0.8147 - val_loss: 0.7080 - val_accuracy: 0.7368 - lr: 0.0010 - 10s/epoch - 55ms/step
Epoch 95/125
176/176 - 10s - loss: 0.5097 - accuracy: 0.8117 - val_loss: 0.7942 - val_accuracy: 0.6956 - lr: 0.0010 - 10s/epoch - 55ms/step
Epoch 96/125
176/176 - 10s - loss: 0.5058 - accuracy: 0.8126 - val_loss: 0.7195 - val_accuracy: 0.7358 - lr: 0.0010 - 10s/epoch - 56ms/step
Epoch 97/125
176/176 - 10s - loss: 0.5057 - accuracy: 0.8130 - val_loss: 0.7401 - val_accuracy: 0.7241 - lr: 0.0010 - 10s/epoch - 57ms/step
Epoch 98/125
176/176 - 10s - loss: 0.5062 - accuracy: 0.8119 - val_loss: 0.7597 - val_accuracy: 0.7304 - lr: 0.0010 - 10s/epoch - 55ms/step
Epoch 99/125
176/176 - 10s - loss: 0.5068 - accuracy: 0.8120 - val_loss: 0.7247 - val_accuracy: 0.7333 - lr: 0.0010 - 10s/epoch - 55ms/step
Epoch 100/125
176/176 - 10s - loss: 0.5024 - accuracy: 0.8143 - val_loss: 0.7218 - val_accuracy: 0.7452 - lr: 0.0010 - 10s/epoch - 56ms/step
Epoch 101/125
176/176 - 10s - loss: 0.5030 - accuracy: 0.8146 - val_loss: 0.7257 - val_accuracy: 0.7279 - lr: 0.0010 - 10s/epoch - 55ms/step
Epoch 102/125
176/176 - 10s - loss: 0.5102 - accuracy: 0.8118 - val_loss: 0.7083 - val_accuracy: 0.7379 - lr: 0.0010 - 10s/epoch - 56ms/step
Epoch 103/125
176/176 - 10s - loss: 0.5058 - accuracy: 0.8129 - val_loss: 0.7005 - val_accuracy: 0.7458 - lr: 0.0010 - 10s/epoch - 55ms/step
Epoch 104/125
176/176 - 10s - loss: 0.5030 - accuracy: 0.8126 - val_loss: 0.6931 - val_accuracy: 0.7464 - lr: 0.0010 - 10s/epoch - 55ms/step
Epoch 105/125
176/176 - 10s - loss: 0.5044 - accuracy: 0.8139 - val_loss: 0.7313 - val_accuracy: 0.7376 - lr: 0.0010 - 10s/epoch - 55ms/step
Epoch 106/125
176/176 - 10s - loss: 0.5007 - accuracy: 0.8150 - val_loss: 0.7492 - val_accuracy: 0.7179 - lr: 0.0010 - 10s/epoch - 55ms/step
Epoch 107/125
176/176 - 10s - loss: 0.5328 - accuracy: 0.8028 - val_loss: 0.7344 - val_accuracy: 0.7332 - lr: 0.0010 - 10s/epoch - 55ms/step
Epoch 108/125
176/176 - 10s - loss: 0.5040 - accuracy: 0.8127 - val_loss: 0.6930 - val_accuracy: 0.7415 - lr: 0.0010 - 10s/epoch - 55ms/step
Epoch 109/125
176/176 - 10s - loss: 0.5053 - accuracy: 0.8125 - val_loss: 0.6973 - val_accuracy: 0.7485 - lr: 0.0010 - 10s/epoch - 55ms/step
Epoch 110/125
176/176 - 10s - loss: 0.5073 - accuracy: 0.8119 - val_loss: 0.7113 - val_accuracy: 0.7391 - lr: 0.0010 - 10s/epoch - 55ms/step
Epoch 111/125
176/176 - 10s - loss: 0.5049 - accuracy: 0.8133 - val_loss: 0.7196 - val_accuracy: 0.7416 - lr: 0.0010 - 10s/epoch - 55ms/step
Epoch 112/125
176/176 - 10s - loss: 0.5054 - accuracy: 0.8133 - val_loss: 0.7293 - val_accuracy: 0.7296 - lr: 0.0010 - 10s/epoch - 55ms/step
Epoch 113/125
176/176 - 10s - loss: 0.4998 - accuracy: 0.8148 - val_loss: 0.7174 - val_accuracy: 0.7374 - lr: 0.0010 - 10s/epoch - 55ms/step
Epoch 114/125
176/176 - 10s - loss: 0.5039 - accuracy: 0.8133 - val_loss: 0.7201 - val_accuracy: 0.7445 - lr: 0.0010 - 10s/epoch - 56ms/step
Epoch 115/125
176/176 - 10s - loss: 0.5074 - accuracy: 0.8113 - val_loss: 0.6659 - val_accuracy: 0.7616 - lr: 0.0010 - 10s/epoch - 55ms/step
Epoch 116/125
176/176 - 10s - loss: 0.5011 - accuracy: 0.8146 - val_loss: 0.7218 - val_accuracy: 0.7388 - lr: 0.0010 - 10s/epoch - 56ms/step
Epoch 117/125
176/176 - 10s - loss: 0.5071 - accuracy: 0.8113 - val_loss: 0.7227 - val_accuracy: 0.7448 - lr: 0.0010 - 10s/epoch - 54ms/step
Epoch 118/125
176/176 - 10s - loss: 0.4980 - accuracy: 0.8145 - val_loss: 0.6899 - val_accuracy: 0.7536 - lr: 0.0010 - 10s/epoch - 55ms/step
Epoch 119/125
176/176 - 10s - loss: 0.5001 - accuracy: 0.8155 - val_loss: 0.6564 - val_accuracy: 0.7617 - lr: 0.0010 - 10s/epoch - 56ms/step
Epoch 120/125
176/176 - 10s - loss: 0.5005 - accuracy: 0.8141 - val_loss: 0.7210 - val_accuracy: 0.7468 - lr: 0.0010 - 10s/epoch - 55ms/step
Epoch 121/125
176/176 - 10s - loss: 0.5119 - accuracy: 0.8100 - val_loss: 0.7238 - val_accuracy: 0.7385 - lr: 0.0010 - 10s/epoch - 55ms/step
Epoch 122/125
176/176 - 10s - loss: 0.4992 - accuracy: 0.8143 - val_loss: 0.7339 - val_accuracy: 0.7358 - lr: 0.0010 - 10s/epoch - 55ms/step
Epoch 123/125
176/176 - 10s - loss: 0.5026 - accuracy: 0.8137 - val_loss: 0.6618 - val_accuracy: 0.7643 - lr: 0.0010 - 10s/epoch - 55ms/step
Epoch 124/125
176/176 - 10s - loss: 0.5213 - accuracy: 0.8076 - val_loss: 0.6948 - val_accuracy: 0.7490 - lr: 0.0010 - 10s/epoch - 55ms/step
Epoch 125/125
176/176 - 10s - loss: 0.5228 - accuracy: 0.8079 - val_loss: 0.7508 - val_accuracy: 0.7209 - lr: 0.0010 - 10s/epoch - 55ms/step
fitting with batch size: 2500
Epoch 1/125
36/36 - 11s - loss: 0.4838 - accuracy: 0.8208 - val_loss: 0.6890 - val_accuracy: 0.7497 - lr: 0.0010 - 11s/epoch - 302ms/step
Epoch 2/125
36/36 - 8s - loss: 0.4803 - accuracy: 0.8230 - val_loss: 0.6958 - val_accuracy: 0.7495 - lr: 0.0010 - 8s/epoch - 234ms/step
Epoch 3/125
36/36 - 8s - loss: 0.5242 - accuracy: 0.8134 - val_loss: 0.7012 - val_accuracy: 0.7506 - lr: 0.0010 - 8s/epoch - 235ms/step
Epoch 4/125
36/36 - 8s - loss: 0.4921 - accuracy: 0.8172 - val_loss: 0.6791 - val_accuracy: 0.7572 - lr: 0.0010 - 8s/epoch - 235ms/step
Epoch 5/125
36/36 - 8s - loss: 0.4868 - accuracy: 0.8209 - val_loss: 0.7068 - val_accuracy: 0.7510 - lr: 0.0010 - 8s/epoch - 236ms/step
Epoch 6/125
36/36 - 8s - loss: 0.4769 - accuracy: 0.8248 - val_loss: 0.7428 - val_accuracy: 0.7284 - lr: 0.0010 - 8s/epoch - 235ms/step
Epoch 7/125
36/36 - 8s - loss: 0.4821 - accuracy: 0.8233 - val_loss: 0.7262 - val_accuracy: 0.7350 - lr: 0.0010 - 8s/epoch - 234ms/step
Epoch 8/125
36/36 - 8s - loss: 0.4725 - accuracy: 0.8259 - val_loss: 0.6794 - val_accuracy: 0.7492 - lr: 0.0010 - 8s/epoch - 233ms/step
Epoch 9/125
36/36 - 9s - loss: 0.4747 - accuracy: 0.8247 - val_loss: 0.6919 - val_accuracy: 0.7493 - lr: 0.0010 - 9s/epoch - 237ms/step
Epoch 10/125
36/36 - 8s - loss: 0.4790 - accuracy: 0.8241 - val_loss: 0.7040 - val_accuracy: 0.7446 - lr: 0.0010 - 8s/epoch - 235ms/step
Epoch 11/125
36/36 - 8s - loss: 0.4764 - accuracy: 0.8259 - val_loss: 0.6950 - val_accuracy: 0.7463 - lr: 0.0010 - 8s/epoch - 234ms/step
Epoch 12/125
36/36 - 8s - loss: 0.4803 - accuracy: 0.8231 - val_loss: 0.7391 - val_accuracy: 0.7294 - lr: 0.0010 - 8s/epoch - 234ms/step
Epoch 13/125
36/36 - 8s - loss: 0.4771 - accuracy: 0.8234 - val_loss: 0.7077 - val_accuracy: 0.7426 - lr: 0.0010 - 8s/epoch - 234ms/step
Epoch 14/125
36/36 - 8s - loss: 0.4716 - accuracy: 0.8270 - val_loss: 0.7330 - val_accuracy: 0.7392 - lr: 0.0010 - 8s/epoch - 235ms/step
Epoch 15/125
36/36 - 8s - loss: 0.4862 - accuracy: 0.8197 - val_loss: 0.7274 - val_accuracy: 0.7361 - lr: 0.0010 - 8s/epoch - 235ms/step
Epoch 16/125
36/36 - 8s - loss: 0.4748 - accuracy: 0.8252 - val_loss: 0.7437 - val_accuracy: 0.7284 - lr: 0.0010 - 8s/epoch - 235ms/step
Epoch 17/125
36/36 - 8s - loss: 0.4773 - accuracy: 0.8248 - val_loss: 0.6927 - val_accuracy: 0.7502 - lr: 0.0010 - 8s/epoch - 234ms/step
Epoch 18/125
36/36 - 8s - loss: 0.4756 - accuracy: 0.8250 - val_loss: 0.7191 - val_accuracy: 0.7366 - lr: 0.0010 - 8s/epoch - 235ms/step
Epoch 19/125
36/36 - 8s - loss: 0.4754 - accuracy: 0.8249 - val_loss: 0.7305 - val_accuracy: 0.7377 - lr: 0.0010 - 8s/epoch - 234ms/step
Epoch 20/125
36/36 - 8s - loss: 0.4777 - accuracy: 0.8232 - val_loss: 0.6674 - val_accuracy: 0.7583 - lr: 0.0010 - 8s/epoch - 234ms/step
Epoch 21/125
36/36 - 8s - loss: 0.4833 - accuracy: 0.8217 - val_loss: 0.6973 - val_accuracy: 0.7511 - lr: 0.0010 - 8s/epoch - 235ms/step
Epoch 22/125
36/36 - 8s - loss: 0.4758 - accuracy: 0.8249 - val_loss: 0.7206 - val_accuracy: 0.7362 - lr: 0.0010 - 8s/epoch - 235ms/step
Epoch 23/125
36/36 - 8s - loss: 0.4723 - accuracy: 0.8266 - val_loss: 0.7145 - val_accuracy: 0.7405 - lr: 0.0010 - 8s/epoch - 235ms/step
Epoch 24/125
36/36 - 8s - loss: 0.4723 - accuracy: 0.8262 - val_loss: 0.7132 - val_accuracy: 0.7430 - lr: 0.0010 - 8s/epoch - 235ms/step
Epoch 25/125
36/36 - 8s - loss: 0.4726 - accuracy: 0.8256 - val_loss: 0.6877 - val_accuracy: 0.7466 - lr: 0.0010 - 8s/epoch - 234ms/step
Epoch 26/125
36/36 - 8s - loss: 0.4756 - accuracy: 0.8254 - val_loss: 0.7204 - val_accuracy: 0.7370 - lr: 0.0010 - 8s/epoch - 236ms/step
Epoch 27/125
36/36 - 8s - loss: 0.4751 - accuracy: 0.8248 - val_loss: 0.7003 - val_accuracy: 0.7440 - lr: 0.0010 - 8s/epoch - 236ms/step
Epoch 28/125
36/36 - 8s - loss: 0.4732 - accuracy: 0.8252 - val_loss: 0.7082 - val_accuracy: 0.7430 - lr: 0.0010 - 8s/epoch - 235ms/step
Epoch 29/125
36/36 - 8s - loss: 0.4715 - accuracy: 0.8256 - val_loss: 0.7250 - val_accuracy: 0.7336 - lr: 0.0010 - 8s/epoch - 235ms/step
Epoch 30/125
36/36 - 8s - loss: 0.4809 - accuracy: 0.8224 - val_loss: 0.7110 - val_accuracy: 0.7368 - lr: 0.0010 - 8s/epoch - 236ms/step
Epoch 31/125
36/36 - 8s - loss: 0.4709 - accuracy: 0.8271 - val_loss: 0.7064 - val_accuracy: 0.7421 - lr: 0.0010 - 8s/epoch - 234ms/step
Epoch 32/125
36/36 - 8s - loss: 0.4734 - accuracy: 0.8260 - val_loss: 0.6910 - val_accuracy: 0.7498 - lr: 0.0010 - 8s/epoch - 235ms/step
Epoch 33/125
36/36 - 8s - loss: 0.4743 - accuracy: 0.8258 - val_loss: 0.7033 - val_accuracy: 0.7382 - lr: 0.0010 - 8s/epoch - 235ms/step
Epoch 34/125
36/36 - 8s - loss: 0.4820 - accuracy: 0.8215 - val_loss: 0.7065 - val_accuracy: 0.7430 - lr: 0.0010 - 8s/epoch - 234ms/step
Epoch 35/125
36/36 - 8s - loss: 0.4741 - accuracy: 0.8252 - val_loss: 0.7412 - val_accuracy: 0.7297 - lr: 0.0010 - 8s/epoch - 235ms/step
Epoch 36/125
36/36 - 8s - loss: 0.4721 - accuracy: 0.8264 - val_loss: 0.7085 - val_accuracy: 0.7460 - lr: 0.0010 - 8s/epoch - 235ms/step
Epoch 37/125
36/36 - 8s - loss: 0.4816 - accuracy: 0.8224 - val_loss: 0.7024 - val_accuracy: 0.7416 - lr: 0.0010 - 8s/epoch - 234ms/step
Epoch 38/125
36/36 - 8s - loss: 0.4723 - accuracy: 0.8274 - val_loss: 0.7242 - val_accuracy: 0.7356 - lr: 0.0010 - 8s/epoch - 235ms/step
Epoch 39/125
36/36 - 9s - loss: 0.4741 - accuracy: 0.8249 - val_loss: 0.7399 - val_accuracy: 0.7316 - lr: 0.0010 - 9s/epoch - 236ms/step
Epoch 40/125
36/36 - 8s - loss: 0.4734 - accuracy: 0.8264 - val_loss: 0.7353 - val_accuracy: 0.7294 - lr: 0.0010 - 8s/epoch - 234ms/step
Epoch 41/125
36/36 - 8s - loss: 0.4705 - accuracy: 0.8268 - val_loss: 0.7240 - val_accuracy: 0.7312 - lr: 0.0010 - 8s/epoch - 233ms/step
Epoch 42/125
36/36 - 8s - loss: 0.4693 - accuracy: 0.8286 - val_loss: 0.7234 - val_accuracy: 0.7299 - lr: 0.0010 - 8s/epoch - 234ms/step
Epoch 43/125
36/36 - 9s - loss: 0.4749 - accuracy: 0.8254 - val_loss: 0.7267 - val_accuracy: 0.7280 - lr: 0.0010 - 9s/epoch - 236ms/step
Epoch 44/125
36/36 - 8s - loss: 0.4680 - accuracy: 0.8285 - val_loss: 0.7277 - val_accuracy: 0.7314 - lr: 0.0010 - 8s/epoch - 234ms/step
Epoch 45/125
36/36 - 8s - loss: 0.4665 - accuracy: 0.8291 - val_loss: 0.7399 - val_accuracy: 0.7274 - lr: 0.0010 - 8s/epoch - 234ms/step
Epoch 46/125
36/36 - 9s - loss: 0.4712 - accuracy: 0.8270 - val_loss: 0.7018 - val_accuracy: 0.7437 - lr: 0.0010 - 9s/epoch - 237ms/step
Epoch 47/125
36/36 - 8s - loss: 0.4755 - accuracy: 0.8246 - val_loss: 0.7216 - val_accuracy: 0.7357 - lr: 0.0010 - 8s/epoch - 236ms/step
Epoch 48/125
36/36 - 9s - loss: 0.4800 - accuracy: 0.8235 - val_loss: 0.7425 - val_accuracy: 0.7293 - lr: 0.0010 - 9s/epoch - 239ms/step
Epoch 49/125
36/36 - 8s - loss: 0.4714 - accuracy: 0.8262 - val_loss: 0.7240 - val_accuracy: 0.7384 - lr: 0.0010 - 8s/epoch - 235ms/step
Epoch 50/125
36/36 - 8s - loss: 0.4695 - accuracy: 0.8271 - val_loss: 0.7385 - val_accuracy: 0.7307 - lr: 0.0010 - 8s/epoch - 234ms/step
Epoch 51/125
36/36 - 8s - loss: 0.4779 - accuracy: 0.8228 - val_loss: 0.7376 - val_accuracy: 0.7267 - lr: 0.0010 - 8s/epoch - 234ms/step
Epoch 52/125
36/36 - 8s - loss: 0.4665 - accuracy: 0.8285 - val_loss: 0.7039 - val_accuracy: 0.7446 - lr: 0.0010 - 8s/epoch - 234ms/step
Epoch 53/125
36/36 - 8s - loss: 0.4711 - accuracy: 0.8266 - val_loss: 0.7146 - val_accuracy: 0.7415 - lr: 0.0010 - 8s/epoch - 234ms/step
Epoch 54/125
36/36 - 9s - loss: 0.4747 - accuracy: 0.8252 - val_loss: 0.7284 - val_accuracy: 0.7310 - lr: 0.0010 - 9s/epoch - 252ms/step
Epoch 55/125
36/36 - 8s - loss: 0.4666 - accuracy: 0.8280 - val_loss: 0.7072 - val_accuracy: 0.7382 - lr: 0.0010 - 8s/epoch - 235ms/step
Epoch 56/125
36/36 - 8s - loss: 0.4644 - accuracy: 0.8297 - val_loss: 0.7196 - val_accuracy: 0.7372 - lr: 0.0010 - 8s/epoch - 235ms/step
Epoch 57/125
36/36 - 8s - loss: 0.4681 - accuracy: 0.8282 - val_loss: 0.7092 - val_accuracy: 0.7405 - lr: 0.0010 - 8s/epoch - 235ms/step
Epoch 58/125
36/36 - 8s - loss: 0.4694 - accuracy: 0.8278 - val_loss: 0.7074 - val_accuracy: 0.7433 - lr: 0.0010 - 8s/epoch - 235ms/step
Epoch 59/125
36/36 - 9s - loss: 0.4687 - accuracy: 0.8273 - val_loss: 0.7581 - val_accuracy: 0.7284 - lr: 0.0010 - 9s/epoch - 242ms/step
Epoch 60/125
36/36 - 9s - loss: 0.4823 - accuracy: 0.8216 - val_loss: 0.6907 - val_accuracy: 0.7505 - lr: 0.0010 - 9s/epoch - 239ms/step
Epoch 61/125
36/36 - 8s - loss: 0.4702 - accuracy: 0.8276 - val_loss: 0.6730 - val_accuracy: 0.7549 - lr: 0.0010 - 8s/epoch - 235ms/step
Epoch 62/125
36/36 - 9s - loss: 0.4785 - accuracy: 0.8241 - val_loss: 0.7156 - val_accuracy: 0.7391 - lr: 0.0010 - 9s/epoch - 236ms/step
Epoch 63/125
36/36 - 8s - loss: 0.4698 - accuracy: 0.8277 - val_loss: 0.7188 - val_accuracy: 0.7351 - lr: 0.0010 - 8s/epoch - 234ms/step
Epoch 64/125
36/36 - 8s - loss: 0.4707 - accuracy: 0.8264 - val_loss: 0.7326 - val_accuracy: 0.7298 - lr: 0.0010 - 8s/epoch - 234ms/step
Epoch 65/125
36/36 - 8s - loss: 0.4679 - accuracy: 0.8277 - val_loss: 0.7359 - val_accuracy: 0.7290 - lr: 0.0010 - 8s/epoch - 234ms/step
Epoch 66/125
36/36 - 8s - loss: 0.4674 - accuracy: 0.8274 - val_loss: 0.6834 - val_accuracy: 0.7477 - lr: 0.0010 - 8s/epoch - 235ms/step
Epoch 67/125
36/36 - 8s - loss: 0.4620 - accuracy: 0.8304 - val_loss: 0.6857 - val_accuracy: 0.7493 - lr: 0.0010 - 8s/epoch - 234ms/step
Epoch 68/125
36/36 - 8s - loss: 0.4637 - accuracy: 0.8297 - val_loss: 0.7144 - val_accuracy: 0.7374 - lr: 0.0010 - 8s/epoch - 234ms/step
Epoch 69/125
36/36 - 8s - loss: 0.4644 - accuracy: 0.8294 - val_loss: 0.7505 - val_accuracy: 0.7284 - lr: 0.0010 - 8s/epoch - 235ms/step
Epoch 70/125
36/36 - 8s - loss: 0.4727 - accuracy: 0.8252 - val_loss: 0.6986 - val_accuracy: 0.7445 - lr: 0.0010 - 8s/epoch - 234ms/step
Epoch 71/125
36/36 - 8s - loss: 0.4678 - accuracy: 0.8278 - val_loss: 0.7309 - val_accuracy: 0.7347 - lr: 0.0010 - 8s/epoch - 234ms/step
Epoch 72/125
36/36 - 8s - loss: 0.4693 - accuracy: 0.8274 - val_loss: 0.6852 - val_accuracy: 0.7525 - lr: 0.0010 - 8s/epoch - 234ms/step
Epoch 73/125
36/36 - 8s - loss: 0.4780 - accuracy: 0.8239 - val_loss: 0.7211 - val_accuracy: 0.7379 - lr: 0.0010 - 8s/epoch - 234ms/step
Epoch 74/125
36/36 - 8s - loss: 0.4659 - accuracy: 0.8285 - val_loss: 0.7472 - val_accuracy: 0.7300 - lr: 0.0010 - 8s/epoch - 235ms/step
Epoch 75/125
36/36 - 9s - loss: 0.4693 - accuracy: 0.8268 - val_loss: 0.7248 - val_accuracy: 0.7319 - lr: 0.0010 - 9s/epoch - 238ms/step
Epoch 76/125
36/36 - 8s - loss: 0.4692 - accuracy: 0.8269 - val_loss: 0.7470 - val_accuracy: 0.7228 - lr: 0.0010 - 8s/epoch - 236ms/step
Epoch 77/125
36/36 - 8s - loss: 0.4642 - accuracy: 0.8294 - val_loss: 0.7240 - val_accuracy: 0.7360 - lr: 0.0010 - 8s/epoch - 236ms/step
Epoch 78/125
36/36 - 8s - loss: 0.4728 - accuracy: 0.8260 - val_loss: 0.7123 - val_accuracy: 0.7433 - lr: 0.0010 - 8s/epoch - 236ms/step
Epoch 79/125
36/36 - 8s - loss: 0.4669 - accuracy: 0.8291 - val_loss: 0.6908 - val_accuracy: 0.7481 - lr: 0.0010 - 8s/epoch - 235ms/step
Epoch 80/125
36/36 - 8s - loss: 0.4708 - accuracy: 0.8263 - val_loss: 0.7000 - val_accuracy: 0.7444 - lr: 0.0010 - 8s/epoch - 235ms/step
Epoch 81/125
36/36 - 9s - loss: 0.4655 - accuracy: 0.8289 - val_loss: 0.7193 - val_accuracy: 0.7392 - lr: 0.0010 - 9s/epoch - 236ms/step
Epoch 82/125
36/36 - 8s - loss: 0.4639 - accuracy: 0.8304 - val_loss: 0.7101 - val_accuracy: 0.7393 - lr: 0.0010 - 8s/epoch - 234ms/step
Epoch 83/125
36/36 - 8s - loss: 0.4659 - accuracy: 0.8283 - val_loss: 0.7133 - val_accuracy: 0.7423 - lr: 0.0010 - 8s/epoch - 235ms/step
Epoch 84/125
36/36 - 8s - loss: 0.4650 - accuracy: 0.8289 - val_loss: 0.7057 - val_accuracy: 0.7405 - lr: 0.0010 - 8s/epoch - 236ms/step
Epoch 85/125
36/36 - 8s - loss: 0.4662 - accuracy: 0.8284 - val_loss: 0.7570 - val_accuracy: 0.7212 - lr: 0.0010 - 8s/epoch - 234ms/step
Epoch 86/125
36/36 - 8s - loss: 0.4667 - accuracy: 0.8283 - val_loss: 0.7194 - val_accuracy: 0.7364 - lr: 0.0010 - 8s/epoch - 235ms/step
Epoch 87/125
36/36 - 8s - loss: 0.4602 - accuracy: 0.8315 - val_loss: 0.7411 - val_accuracy: 0.7273 - lr: 0.0010 - 8s/epoch - 235ms/step
Epoch 88/125
36/36 - 8s - loss: 0.4594 - accuracy: 0.8322 - val_loss: 0.7257 - val_accuracy: 0.7363 - lr: 0.0010 - 8s/epoch - 234ms/step
Epoch 89/125
36/36 - 8s - loss: 0.4632 - accuracy: 0.8303 - val_loss: 0.7288 - val_accuracy: 0.7330 - lr: 0.0010 - 8s/epoch - 235ms/step
Epoch 90/125
36/36 - 8s - loss: 0.4623 - accuracy: 0.8307 - val_loss: 0.7063 - val_accuracy: 0.7453 - lr: 0.0010 - 8s/epoch - 235ms/step
Epoch 91/125
36/36 - 8s - loss: 0.4672 - accuracy: 0.8289 - val_loss: 0.7417 - val_accuracy: 0.7212 - lr: 0.0010 - 8s/epoch - 235ms/step
Epoch 92/125
36/36 - 8s - loss: 0.4812 - accuracy: 0.8218 - val_loss: 0.7504 - val_accuracy: 0.7268 - lr: 0.0010 - 8s/epoch - 234ms/step
Epoch 93/125
36/36 - 9s - loss: 0.4768 - accuracy: 0.8237 - val_loss: 0.7238 - val_accuracy: 0.7387 - lr: 0.0010 - 9s/epoch - 237ms/step
Epoch 94/125
36/36 - 8s - loss: 0.4642 - accuracy: 0.8296 - val_loss: 0.7215 - val_accuracy: 0.7374 - lr: 0.0010 - 8s/epoch - 236ms/step
Epoch 95/125
36/36 - 8s - loss: 0.4601 - accuracy: 0.8305 - val_loss: 0.7712 - val_accuracy: 0.7194 - lr: 0.0010 - 8s/epoch - 234ms/step
Epoch 96/125
36/36 - 8s - loss: 0.4678 - accuracy: 0.8281 - val_loss: 0.7159 - val_accuracy: 0.7404 - lr: 0.0010 - 8s/epoch - 235ms/step
Epoch 97/125
36/36 - 8s - loss: 0.4629 - accuracy: 0.8302 - val_loss: 0.7185 - val_accuracy: 0.7373 - lr: 0.0010 - 8s/epoch - 234ms/step
Epoch 98/125
36/36 - 8s - loss: 0.4611 - accuracy: 0.8303 - val_loss: 0.7787 - val_accuracy: 0.7143 - lr: 0.0010 - 8s/epoch - 234ms/step
Epoch 99/125
36/36 - 8s - loss: 0.4660 - accuracy: 0.8292 - val_loss: 0.7340 - val_accuracy: 0.7346 - lr: 0.0010 - 8s/epoch - 236ms/step
Epoch 100/125
36/36 - 8s - loss: 0.4736 - accuracy: 0.8263 - val_loss: 0.7405 - val_accuracy: 0.7295 - lr: 0.0010 - 8s/epoch - 233ms/step
Epoch 101/125
36/36 - 8s - loss: 0.4786 - accuracy: 0.8240 - val_loss: 0.7217 - val_accuracy: 0.7423 - lr: 0.0010 - 8s/epoch - 232ms/step
Epoch 102/125
36/36 - 8s - loss: 0.4682 - accuracy: 0.8278 - val_loss: 0.7537 - val_accuracy: 0.7216 - lr: 0.0010 - 8s/epoch - 235ms/step
Epoch 103/125
36/36 - 8s - loss: 0.4624 - accuracy: 0.8303 - val_loss: 0.7298 - val_accuracy: 0.7286 - lr: 0.0010 - 8s/epoch - 234ms/step
Epoch 104/125
36/36 - 8s - loss: 0.4649 - accuracy: 0.8286 - val_loss: 0.7599 - val_accuracy: 0.7242 - lr: 0.0010 - 8s/epoch - 234ms/step
Epoch 105/125
36/36 - 8s - loss: 0.4663 - accuracy: 0.8288 - val_loss: 0.7613 - val_accuracy: 0.7263 - lr: 0.0010 - 8s/epoch - 235ms/step
Epoch 106/125
36/36 - 8s - loss: 0.4675 - accuracy: 0.8282 - val_loss: 0.7554 - val_accuracy: 0.7278 - lr: 0.0010 - 8s/epoch - 235ms/step
Epoch 107/125
36/36 - 9s - loss: 0.4595 - accuracy: 0.8318 - val_loss: 0.7246 - val_accuracy: 0.7392 - lr: 0.0010 - 9s/epoch - 237ms/step
Epoch 108/125
36/36 - 8s - loss: 0.4638 - accuracy: 0.8300 - val_loss: 0.7331 - val_accuracy: 0.7364 - lr: 0.0010 - 8s/epoch - 236ms/step
Epoch 109/125
36/36 - 8s - loss: 0.4652 - accuracy: 0.8297 - val_loss: 0.7283 - val_accuracy: 0.7376 - lr: 0.0010 - 8s/epoch - 235ms/step
Epoch 110/125
36/36 - 8s - loss: 0.4620 - accuracy: 0.8305 - val_loss: 0.7262 - val_accuracy: 0.7414 - lr: 0.0010 - 8s/epoch - 236ms/step
Epoch 111/125
36/36 - 8s - loss: 0.4615 - accuracy: 0.8298 - val_loss: 0.7079 - val_accuracy: 0.7442 - lr: 0.0010 - 8s/epoch - 234ms/step
Epoch 112/125
36/36 - 8s - loss: 0.4615 - accuracy: 0.8305 - val_loss: 0.7386 - val_accuracy: 0.7308 - lr: 0.0010 - 8s/epoch - 235ms/step
Epoch 113/125
36/36 - 8s - loss: 0.4604 - accuracy: 0.8318 - val_loss: 0.7153 - val_accuracy: 0.7410 - lr: 0.0010 - 8s/epoch - 234ms/step
Epoch 114/125
36/36 - 8s - loss: 0.4649 - accuracy: 0.8289 - val_loss: 0.7227 - val_accuracy: 0.7367 - lr: 0.0010 - 8s/epoch - 236ms/step
Epoch 115/125
36/36 - 8s - loss: 0.4640 - accuracy: 0.8297 - val_loss: 0.7694 - val_accuracy: 0.7135 - lr: 0.0010 - 8s/epoch - 234ms/step
Epoch 116/125
36/36 - 8s - loss: 0.4761 - accuracy: 0.8239 - val_loss: 0.7432 - val_accuracy: 0.7262 - lr: 0.0010 - 8s/epoch - 234ms/step
Epoch 117/125
36/36 - 8s - loss: 0.4593 - accuracy: 0.8313 - val_loss: 0.7357 - val_accuracy: 0.7359 - lr: 0.0010 - 8s/epoch - 235ms/step
Epoch 118/125
36/36 - 8s - loss: 0.4599 - accuracy: 0.8311 - val_loss: 0.7326 - val_accuracy: 0.7273 - lr: 0.0010 - 8s/epoch - 233ms/step
Epoch 119/125
36/36 - 8s - loss: 0.4646 - accuracy: 0.8285 - val_loss: 0.7309 - val_accuracy: 0.7312 - lr: 0.0010 - 8s/epoch - 234ms/step
Epoch 120/125
36/36 - 8s - loss: 0.4699 - accuracy: 0.8272 - val_loss: 0.7385 - val_accuracy: 0.7345 - lr: 0.0010 - 8s/epoch - 235ms/step
Epoch 121/125
36/36 - 8s - loss: 0.4674 - accuracy: 0.8270 - val_loss: 0.7263 - val_accuracy: 0.7383 - lr: 0.0010 - 8s/epoch - 235ms/step
Epoch 122/125
36/36 - 9s - loss: 0.4630 - accuracy: 0.8304 - val_loss: 0.7203 - val_accuracy: 0.7381 - lr: 0.0010 - 9s/epoch - 236ms/step
Epoch 123/125
36/36 - 8s - loss: 0.4601 - accuracy: 0.8307 - val_loss: 0.7566 - val_accuracy: 0.7250 - lr: 0.0010 - 8s/epoch - 234ms/step
Epoch 124/125
36/36 - 8s - loss: 0.4603 - accuracy: 0.8323 - val_loss: 0.7012 - val_accuracy: 0.7463 - lr: 0.0010 - 8s/epoch - 235ms/step
Epoch 125/125
36/36 - 8s - loss: 0.4594 - accuracy: 0.8305 - val_loss: 0.6933 - val_accuracy: 0.7503 - lr: 0.0010 - 8s/epoch - 235ms/step
