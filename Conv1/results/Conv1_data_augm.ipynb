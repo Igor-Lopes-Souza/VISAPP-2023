Epoch number: 75
fitting with batch size: 20
Epoch 1/75
4378/4378 - 80s - loss: 1.0326 - accuracy: 0.5919 - val_loss: 0.9832 - val_accuracy: 0.5526 - lr: 0.0010 - 80s/epoch - 18ms/step
Epoch 2/75
4378/4378 - 71s - loss: 0.8914 - accuracy: 0.6602 - val_loss: 0.7479 - val_accuracy: 0.7704 - lr: 0.0010 - 71s/epoch - 16ms/step
Epoch 3/75
4378/4378 - 74s - loss: 0.8581 - accuracy: 0.6745 - val_loss: 0.8125 - val_accuracy: 0.7067 - lr: 0.0010 - 74s/epoch - 17ms/step
Epoch 4/75
4378/4378 - 79s - loss: 0.8366 - accuracy: 0.6840 - val_loss: 0.9005 - val_accuracy: 0.6564 - lr: 0.0010 - 79s/epoch - 18ms/step
Epoch 5/75
4378/4378 - 72s - loss: 0.8246 - accuracy: 0.6890 - val_loss: 0.8159 - val_accuracy: 0.7016 - lr: 0.0010 - 72s/epoch - 16ms/step
Epoch 6/75
4378/4378 - 70s - loss: 0.8116 - accuracy: 0.6948 - val_loss: 0.8012 - val_accuracy: 0.7105 - lr: 0.0010 - 70s/epoch - 16ms/step
Epoch 7/75
4378/4378 - 72s - loss: 0.8062 - accuracy: 0.6959 - val_loss: 0.8150 - val_accuracy: 0.7043 - lr: 0.0010 - 72s/epoch - 17ms/step
Epoch 8/75
4378/4378 - 79s - loss: 0.7952 - accuracy: 0.6991 - val_loss: 0.8393 - val_accuracy: 0.6752 - lr: 0.0010 - 79s/epoch - 18ms/step
Epoch 9/75
4378/4378 - 84s - loss: 0.7914 - accuracy: 0.7023 - val_loss: 0.7806 - val_accuracy: 0.7206 - lr: 0.0010 - 84s/epoch - 19ms/step
Epoch 10/75
4378/4378 - 84s - loss: 0.7883 - accuracy: 0.7037 - val_loss: 0.8692 - val_accuracy: 0.6603 - lr: 0.0010 - 84s/epoch - 19ms/step
Epoch 11/75
4378/4378 - 69s - loss: 0.7838 - accuracy: 0.7048 - val_loss: 0.7746 - val_accuracy: 0.7351 - lr: 0.0010 - 69s/epoch - 16ms/step
Epoch 12/75
4378/4378 - 67s - loss: 0.7797 - accuracy: 0.7089 - val_loss: 0.7333 - val_accuracy: 0.7423 - lr: 0.0010 - 67s/epoch - 15ms/step
Epoch 13/75
4378/4378 - 66s - loss: 0.7760 - accuracy: 0.7086 - val_loss: 0.6930 - val_accuracy: 0.7480 - lr: 0.0010 - 66s/epoch - 15ms/step
Epoch 14/75
4378/4378 - 67s - loss: 0.7728 - accuracy: 0.7103 - val_loss: 0.7308 - val_accuracy: 0.7442 - lr: 0.0010 - 67s/epoch - 15ms/step
Epoch 15/75
4378/4378 - 67s - loss: 0.7680 - accuracy: 0.7139 - val_loss: 0.7672 - val_accuracy: 0.7281 - lr: 0.0010 - 67s/epoch - 15ms/step
Epoch 16/75
4378/4378 - 67s - loss: 0.7639 - accuracy: 0.7147 - val_loss: 0.7806 - val_accuracy: 0.7076 - lr: 0.0010 - 67s/epoch - 15ms/step
Epoch 17/75
4378/4378 - 66s - loss: 0.7631 - accuracy: 0.7125 - val_loss: 0.7403 - val_accuracy: 0.7554 - lr: 0.0010 - 66s/epoch - 15ms/step
Epoch 18/75
4378/4378 - 66s - loss: 0.7614 - accuracy: 0.7148 - val_loss: 0.8365 - val_accuracy: 0.6707 - lr: 0.0010 - 66s/epoch - 15ms/step
Epoch 19/75
4378/4378 - 67s - loss: 0.7588 - accuracy: 0.7152 - val_loss: 0.8282 - val_accuracy: 0.7162 - lr: 0.0010 - 67s/epoch - 15ms/step
Epoch 20/75
4378/4378 - 67s - loss: 0.7559 - accuracy: 0.7173 - val_loss: 0.7237 - val_accuracy: 0.7534 - lr: 0.0010 - 67s/epoch - 15ms/step
Epoch 21/75
4378/4378 - 66s - loss: 0.7546 - accuracy: 0.7167 - val_loss: 0.7345 - val_accuracy: 0.7387 - lr: 0.0010 - 66s/epoch - 15ms/step
Epoch 22/75
4378/4378 - 66s - loss: 0.7519 - accuracy: 0.7176 - val_loss: 0.7732 - val_accuracy: 0.7299 - lr: 0.0010 - 66s/epoch - 15ms/step
Epoch 23/75
4378/4378 - 66s - loss: 0.7526 - accuracy: 0.7176 - val_loss: 0.7579 - val_accuracy: 0.7294 - lr: 0.0010 - 66s/epoch - 15ms/step
Epoch 24/75
4378/4378 - 67s - loss: 0.7503 - accuracy: 0.7185 - val_loss: 0.8002 - val_accuracy: 0.7129 - lr: 0.0010 - 67s/epoch - 15ms/step
Epoch 25/75
4378/4378 - 66s - loss: 0.7486 - accuracy: 0.7182 - val_loss: 0.8340 - val_accuracy: 0.6671 - lr: 0.0010 - 66s/epoch - 15ms/step
Epoch 26/75
4378/4378 - 67s - loss: 0.7478 - accuracy: 0.7198 - val_loss: 0.7871 - val_accuracy: 0.7198 - lr: 0.0010 - 67s/epoch - 15ms/step
Epoch 27/75
4378/4378 - 67s - loss: 0.7467 - accuracy: 0.7193 - val_loss: 0.7607 - val_accuracy: 0.7341 - lr: 0.0010 - 67s/epoch - 15ms/step
Epoch 28/75
4378/4378 - 67s - loss: 0.7448 - accuracy: 0.7211 - val_loss: 0.7747 - val_accuracy: 0.7151 - lr: 0.0010 - 67s/epoch - 15ms/step
Epoch 29/75
4378/4378 - 66s - loss: 0.7450 - accuracy: 0.7187 - val_loss: 0.7280 - val_accuracy: 0.7580 - lr: 0.0010 - 66s/epoch - 15ms/step
Epoch 30/75
4378/4378 - 67s - loss: 0.7420 - accuracy: 0.7219 - val_loss: 0.8226 - val_accuracy: 0.6859 - lr: 0.0010 - 67s/epoch - 15ms/step
Epoch 31/75
4378/4378 - 67s - loss: 0.7427 - accuracy: 0.7225 - val_loss: 0.8022 - val_accuracy: 0.7007 - lr: 0.0010 - 67s/epoch - 15ms/step
Epoch 32/75
4378/4378 - 66s - loss: 0.9483 - accuracy: 0.7246 - val_loss: 0.6286 - val_accuracy: 0.8155 - lr: 0.0010 - 66s/epoch - 15ms/step
Epoch 33/75
4378/4378 - 66s - loss: 0.7393 - accuracy: 0.7228 - val_loss: 0.7863 - val_accuracy: 0.7183 - lr: 0.0010 - 66s/epoch - 15ms/step
Epoch 34/75
4378/4378 - 67s - loss: 0.7371 - accuracy: 0.7225 - val_loss: 0.7697 - val_accuracy: 0.7391 - lr: 0.0010 - 67s/epoch - 15ms/step
Epoch 35/75
4378/4378 - 67s - loss: 0.7387 - accuracy: 0.7240 - val_loss: 0.7941 - val_accuracy: 0.7018 - lr: 0.0010 - 67s/epoch - 15ms/step
Epoch 36/75
4378/4378 - 66s - loss: 0.7374 - accuracy: 0.7233 - val_loss: 0.7071 - val_accuracy: 0.7516 - lr: 0.0010 - 66s/epoch - 15ms/step
Epoch 37/75
4378/4378 - 67s - loss: 0.7368 - accuracy: 0.7246 - val_loss: 0.8676 - val_accuracy: 0.6821 - lr: 0.0010 - 67s/epoch - 15ms/step
Epoch 38/75
4378/4378 - 67s - loss: 0.7357 - accuracy: 0.7262 - val_loss: 0.6666 - val_accuracy: 0.7415 - lr: 0.0010 - 67s/epoch - 15ms/step
Epoch 39/75
4378/4378 - 67s - loss: 0.7343 - accuracy: 0.7228 - val_loss: 0.8556 - val_accuracy: 0.6913 - lr: 0.0010 - 67s/epoch - 15ms/step
Epoch 40/75
4378/4378 - 67s - loss: 0.7351 - accuracy: 0.7240 - val_loss: 0.7570 - val_accuracy: 0.7254 - lr: 0.0010 - 67s/epoch - 15ms/step
Epoch 41/75
4378/4378 - 67s - loss: 0.7331 - accuracy: 0.7242 - val_loss: 0.6818 - val_accuracy: 0.7588 - lr: 0.0010 - 67s/epoch - 15ms/step
Epoch 42/75
4378/4378 - 66s - loss: 0.7347 - accuracy: 0.7251 - val_loss: 0.8479 - val_accuracy: 0.6702 - lr: 0.0010 - 66s/epoch - 15ms/step
Epoch 43/75
4378/4378 - 67s - loss: 0.7361 - accuracy: 0.7245 - val_loss: 0.8288 - val_accuracy: 0.6802 - lr: 0.0010 - 67s/epoch - 15ms/step
Epoch 44/75
4378/4378 - 66s - loss: 0.7334 - accuracy: 0.7262 - val_loss: 0.6742 - val_accuracy: 0.7608 - lr: 0.0010 - 66s/epoch - 15ms/step
Epoch 45/75
4378/4378 - 67s - loss: 0.7295 - accuracy: 0.7277 - val_loss: 0.7859 - val_accuracy: 0.7247 - lr: 0.0010 - 67s/epoch - 15ms/step
Epoch 46/75
4378/4378 - 67s - loss: 0.7312 - accuracy: 0.7257 - val_loss: 0.8442 - val_accuracy: 0.6658 - lr: 0.0010 - 67s/epoch - 15ms/step
Epoch 47/75
4378/4378 - 66s - loss: 0.7315 - accuracy: 0.7263 - val_loss: 0.7538 - val_accuracy: 0.7433 - lr: 0.0010 - 66s/epoch - 15ms/step
Epoch 48/75
4378/4378 - 67s - loss: 0.7305 - accuracy: 0.7267 - val_loss: 0.7239 - val_accuracy: 0.7302 - lr: 0.0010 - 67s/epoch - 15ms/step
Epoch 49/75
4378/4378 - 67s - loss: 0.7302 - accuracy: 0.7263 - val_loss: 0.7990 - val_accuracy: 0.6949 - lr: 0.0010 - 67s/epoch - 15ms/step
Epoch 50/75
4378/4378 - 67s - loss: 0.7286 - accuracy: 0.7269 - val_loss: 0.6856 - val_accuracy: 0.7509 - lr: 0.0010 - 67s/epoch - 15ms/step
Epoch 51/75
4378/4378 - 67s - loss: 0.7261 - accuracy: 0.7271 - val_loss: 0.7764 - val_accuracy: 0.7066 - lr: 0.0010 - 67s/epoch - 15ms/step
Epoch 52/75
4378/4378 - 66s - loss: 0.7356 - accuracy: 0.7266 - val_loss: 0.8811 - val_accuracy: 0.6628 - lr: 0.0010 - 66s/epoch - 15ms/step
Epoch 53/75
4378/4378 - 67s - loss: 0.7283 - accuracy: 0.7267 - val_loss: 0.6934 - val_accuracy: 0.7511 - lr: 0.0010 - 67s/epoch - 15ms/step
Epoch 54/75
4378/4378 - 67s - loss: 0.7294 - accuracy: 0.7270 - val_loss: 0.7345 - val_accuracy: 0.7426 - lr: 0.0010 - 67s/epoch - 15ms/step
Epoch 55/75
4378/4378 - 67s - loss: 0.7296 - accuracy: 0.7268 - val_loss: 0.7514 - val_accuracy: 0.7142 - lr: 0.0010 - 67s/epoch - 15ms/step
Epoch 56/75
4378/4378 - 67s - loss: 0.7298 - accuracy: 0.7271 - val_loss: 0.7424 - val_accuracy: 0.7227 - lr: 0.0010 - 67s/epoch - 15ms/step
Epoch 57/75
4378/4378 - 66s - loss: 0.7318 - accuracy: 0.7269 - val_loss: 0.7795 - val_accuracy: 0.7063 - lr: 0.0010 - 66s/epoch - 15ms/step
Epoch 58/75
4378/4378 - 67s - loss: 0.7278 - accuracy: 0.7276 - val_loss: 0.7460 - val_accuracy: 0.7449 - lr: 0.0010 - 67s/epoch - 15ms/step
Epoch 59/75
4378/4378 - 67s - loss: 0.7371 - accuracy: 0.7273 - val_loss: 0.7705 - val_accuracy: 0.7123 - lr: 0.0010 - 67s/epoch - 15ms/step
Epoch 60/75
4378/4378 - 67s - loss: 0.7316 - accuracy: 0.7258 - val_loss: 0.6748 - val_accuracy: 0.7702 - lr: 0.0010 - 67s/epoch - 15ms/step
Epoch 61/75
4378/4378 - 66s - loss: 0.7266 - accuracy: 0.7290 - val_loss: 0.8557 - val_accuracy: 0.6732 - lr: 0.0010 - 66s/epoch - 15ms/step
Epoch 62/75
4378/4378 - 66s - loss: 0.7313 - accuracy: 0.7286 - val_loss: 0.8059 - val_accuracy: 0.7350 - lr: 0.0010 - 66s/epoch - 15ms/step
Epoch 63/75
4378/4378 - 67s - loss: 0.7254 - accuracy: 0.7269 - val_loss: 0.6842 - val_accuracy: 0.7350 - lr: 0.0010 - 67s/epoch - 15ms/step
Epoch 64/75
4378/4378 - 66s - loss: 0.7268 - accuracy: 0.7276 - val_loss: 0.7715 - val_accuracy: 0.7279 - lr: 0.0010 - 66s/epoch - 15ms/step
Epoch 65/75
4378/4378 - 67s - loss: 0.7279 - accuracy: 0.7287 - val_loss: 0.6654 - val_accuracy: 0.7700 - lr: 0.0010 - 67s/epoch - 15ms/step
Epoch 66/75
4378/4378 - 67s - loss: 0.7269 - accuracy: 0.7293 - val_loss: 0.7795 - val_accuracy: 0.7212 - lr: 0.0010 - 67s/epoch - 15ms/step
Epoch 67/75
4378/4378 - 66s - loss: 0.7257 - accuracy: 0.7285 - val_loss: 0.7612 - val_accuracy: 0.7221 - lr: 0.0010 - 66s/epoch - 15ms/step
Epoch 68/75
4378/4378 - 67s - loss: 0.7421 - accuracy: 0.7308 - val_loss: 0.7110 - val_accuracy: 0.7376 - lr: 0.0010 - 67s/epoch - 15ms/step
Epoch 69/75
4378/4378 - 67s - loss: 0.7253 - accuracy: 0.7288 - val_loss: 0.6908 - val_accuracy: 0.7587 - lr: 0.0010 - 67s/epoch - 15ms/step
Epoch 70/75
4378/4378 - 67s - loss: 0.7258 - accuracy: 0.7281 - val_loss: 0.6741 - val_accuracy: 0.7605 - lr: 0.0010 - 67s/epoch - 15ms/step
Epoch 71/75
4378/4378 - 67s - loss: 0.7591 - accuracy: 0.7282 - val_loss: 0.8046 - val_accuracy: 0.7386 - lr: 0.0010 - 67s/epoch - 15ms/step
Epoch 72/75
4378/4378 - 66s - loss: 0.7281 - accuracy: 0.7275 - val_loss: 0.7911 - val_accuracy: 0.7204 - lr: 0.0010 - 66s/epoch - 15ms/step
Epoch 73/75
4378/4378 - 67s - loss: 0.7289 - accuracy: 0.7286 - val_loss: 0.8200 - val_accuracy: 0.6941 - lr: 0.0010 - 67s/epoch - 15ms/step
Epoch 74/75
4378/4378 - 67s - loss: 0.7253 - accuracy: 0.7289 - val_loss: 0.6721 - val_accuracy: 0.7695 - lr: 0.0010 - 67s/epoch - 15ms/step
Epoch 75/75
4378/4378 - 70s - loss: 0.7245 - accuracy: 0.7282 - val_loss: 0.6925 - val_accuracy: 0.7707 - lr: 0.0010 - 70s/epoch - 16ms/step
fitting with batch size: 100
Epoch 1/75
876/876 - 20s - loss: 0.6794 - accuracy: 0.7452 - val_loss: 0.7677 - val_accuracy: 0.7272 - lr: 0.0010 - 20s/epoch - 23ms/step
Epoch 2/75
876/876 - 17s - loss: 0.6738 - accuracy: 0.7477 - val_loss: 0.7259 - val_accuracy: 0.7495 - lr: 0.0010 - 17s/epoch - 20ms/step
Epoch 3/75
876/876 - 16s - loss: 0.6701 - accuracy: 0.7490 - val_loss: 0.7587 - val_accuracy: 0.7307 - lr: 0.0010 - 16s/epoch - 19ms/step
Epoch 4/75
876/876 - 16s - loss: 0.6619 - accuracy: 0.7512 - val_loss: 0.7060 - val_accuracy: 0.7589 - lr: 0.0010 - 16s/epoch - 19ms/step
Epoch 5/75
876/876 - 16s - loss: 0.6611 - accuracy: 0.7526 - val_loss: 0.7254 - val_accuracy: 0.7316 - lr: 0.0010 - 16s/epoch - 19ms/step
Epoch 6/75
876/876 - 16s - loss: 0.6605 - accuracy: 0.7506 - val_loss: 0.6412 - val_accuracy: 0.7808 - lr: 0.0010 - 16s/epoch - 19ms/step
Epoch 7/75
876/876 - 16s - loss: 0.6592 - accuracy: 0.7524 - val_loss: 0.7410 - val_accuracy: 0.7265 - lr: 0.0010 - 16s/epoch - 19ms/step
Epoch 8/75
876/876 - 17s - loss: 0.6546 - accuracy: 0.7542 - val_loss: 0.7337 - val_accuracy: 0.7389 - lr: 0.0010 - 17s/epoch - 19ms/step
Epoch 9/75
876/876 - 16s - loss: 0.6565 - accuracy: 0.7537 - val_loss: 0.6991 - val_accuracy: 0.7491 - lr: 0.0010 - 16s/epoch - 19ms/step
Epoch 10/75
876/876 - 16s - loss: 0.6501 - accuracy: 0.7539 - val_loss: 0.7356 - val_accuracy: 0.7476 - lr: 0.0010 - 16s/epoch - 19ms/step
Epoch 11/75
876/876 - 17s - loss: 0.6481 - accuracy: 0.7556 - val_loss: 0.7243 - val_accuracy: 0.7355 - lr: 0.0010 - 17s/epoch - 19ms/step
Epoch 12/75
876/876 - 16s - loss: 0.6521 - accuracy: 0.7550 - val_loss: 0.7160 - val_accuracy: 0.7543 - lr: 0.0010 - 16s/epoch - 19ms/step
Epoch 13/75
876/876 - 16s - loss: 0.6424 - accuracy: 0.7581 - val_loss: 0.6947 - val_accuracy: 0.7597 - lr: 0.0010 - 16s/epoch - 19ms/step
Epoch 14/75
876/876 - 16s - loss: 0.6429 - accuracy: 0.7583 - val_loss: 0.7284 - val_accuracy: 0.7400 - lr: 0.0010 - 16s/epoch - 19ms/step
Epoch 15/75
876/876 - 18s - loss: 0.6426 - accuracy: 0.7587 - val_loss: 0.6717 - val_accuracy: 0.7616 - lr: 0.0010 - 18s/epoch - 21ms/step
Epoch 16/75
876/876 - 19s - loss: 0.6410 - accuracy: 0.7589 - val_loss: 0.6707 - val_accuracy: 0.7687 - lr: 0.0010 - 19s/epoch - 21ms/step
Epoch 17/75
876/876 - 19s - loss: 0.6458 - accuracy: 0.7589 - val_loss: 0.6884 - val_accuracy: 0.7502 - lr: 0.0010 - 19s/epoch - 22ms/step
Epoch 18/75
876/876 - 20s - loss: 0.6357 - accuracy: 0.7597 - val_loss: 0.7170 - val_accuracy: 0.7448 - lr: 0.0010 - 20s/epoch - 23ms/step
Epoch 19/75
876/876 - 19s - loss: 0.6377 - accuracy: 0.7584 - val_loss: 0.6885 - val_accuracy: 0.7526 - lr: 0.0010 - 19s/epoch - 22ms/step
Epoch 20/75
876/876 - 19s - loss: 0.6343 - accuracy: 0.7618 - val_loss: 0.7752 - val_accuracy: 0.7104 - lr: 0.0010 - 19s/epoch - 22ms/step
Epoch 21/75
876/876 - 18s - loss: 0.6342 - accuracy: 0.7605 - val_loss: 0.7020 - val_accuracy: 0.7623 - lr: 0.0010 - 18s/epoch - 21ms/step
Epoch 22/75
876/876 - 19s - loss: 0.6333 - accuracy: 0.7616 - val_loss: 0.7121 - val_accuracy: 0.7355 - lr: 0.0010 - 19s/epoch - 22ms/step
Epoch 23/75
876/876 - 23s - loss: 0.6296 - accuracy: 0.7627 - val_loss: 0.7096 - val_accuracy: 0.7495 - lr: 0.0010 - 23s/epoch - 26ms/step
Epoch 24/75
876/876 - 18s - loss: 0.6327 - accuracy: 0.7629 - val_loss: 0.6939 - val_accuracy: 0.7476 - lr: 0.0010 - 18s/epoch - 20ms/step
Epoch 25/75
876/876 - 17s - loss: 0.6313 - accuracy: 0.7634 - val_loss: 0.6718 - val_accuracy: 0.7542 - lr: 0.0010 - 17s/epoch - 19ms/step
Epoch 26/75
876/876 - 16s - loss: 0.6249 - accuracy: 0.7658 - val_loss: 0.7270 - val_accuracy: 0.7385 - lr: 0.0010 - 16s/epoch - 19ms/step
Epoch 27/75
876/876 - 16s - loss: 0.6264 - accuracy: 0.7638 - val_loss: 0.7014 - val_accuracy: 0.7674 - lr: 0.0010 - 16s/epoch - 19ms/step
Epoch 28/75
876/876 - 16s - loss: 0.6271 - accuracy: 0.7627 - val_loss: 0.6680 - val_accuracy: 0.7638 - lr: 0.0010 - 16s/epoch - 19ms/step
Epoch 29/75
876/876 - 16s - loss: 0.6256 - accuracy: 0.7653 - val_loss: 0.7035 - val_accuracy: 0.7593 - lr: 0.0010 - 16s/epoch - 19ms/step
Epoch 30/75
876/876 - 16s - loss: 0.6224 - accuracy: 0.7670 - val_loss: 0.6434 - val_accuracy: 0.7815 - lr: 0.0010 - 16s/epoch - 19ms/step
Epoch 31/75
876/876 - 16s - loss: 0.6206 - accuracy: 0.7667 - val_loss: 0.6662 - val_accuracy: 0.7571 - lr: 0.0010 - 16s/epoch - 19ms/step
Epoch 32/75
876/876 - 17s - loss: 0.6236 - accuracy: 0.7651 - val_loss: 0.6826 - val_accuracy: 0.7558 - lr: 0.0010 - 17s/epoch - 19ms/step
Epoch 33/75
876/876 - 16s - loss: 0.6203 - accuracy: 0.7669 - val_loss: 0.6771 - val_accuracy: 0.7639 - lr: 0.0010 - 16s/epoch - 19ms/step
Epoch 34/75
876/876 - 17s - loss: 0.6178 - accuracy: 0.7674 - val_loss: 0.6217 - val_accuracy: 0.7923 - lr: 0.0010 - 17s/epoch - 19ms/step
Epoch 35/75
876/876 - 16s - loss: 0.6213 - accuracy: 0.7658 - val_loss: 0.7106 - val_accuracy: 0.7440 - lr: 0.0010 - 16s/epoch - 19ms/step
Epoch 36/75
876/876 - 16s - loss: 0.6215 - accuracy: 0.7664 - val_loss: 0.7285 - val_accuracy: 0.7352 - lr: 0.0010 - 16s/epoch - 19ms/step
Epoch 37/75
876/876 - 16s - loss: 0.6213 - accuracy: 0.7672 - val_loss: 0.7052 - val_accuracy: 0.7526 - lr: 0.0010 - 16s/epoch - 19ms/step
Epoch 38/75
876/876 - 17s - loss: 0.6165 - accuracy: 0.7676 - val_loss: 0.7224 - val_accuracy: 0.7419 - lr: 0.0010 - 17s/epoch - 19ms/step
Epoch 39/75
876/876 - 17s - loss: 0.6168 - accuracy: 0.7688 - val_loss: 0.6644 - val_accuracy: 0.7642 - lr: 0.0010 - 17s/epoch - 19ms/step
Epoch 40/75
876/876 - 16s - loss: 0.6140 - accuracy: 0.7692 - val_loss: 0.7469 - val_accuracy: 0.7237 - lr: 0.0010 - 16s/epoch - 19ms/step
Epoch 41/75
876/876 - 16s - loss: 0.6131 - accuracy: 0.7692 - val_loss: 0.6988 - val_accuracy: 0.7474 - lr: 0.0010 - 16s/epoch - 19ms/step
Epoch 42/75
876/876 - 16s - loss: 0.6141 - accuracy: 0.7678 - val_loss: 0.7264 - val_accuracy: 0.7484 - lr: 0.0010 - 16s/epoch - 19ms/step
Epoch 43/75
876/876 - 16s - loss: 0.6121 - accuracy: 0.7696 - val_loss: 0.7097 - val_accuracy: 0.7547 - lr: 0.0010 - 16s/epoch - 19ms/step
Epoch 44/75
876/876 - 16s - loss: 0.6126 - accuracy: 0.7689 - val_loss: 0.7014 - val_accuracy: 0.7476 - lr: 0.0010 - 16s/epoch - 19ms/step
Epoch 45/75
876/876 - 16s - loss: 0.6117 - accuracy: 0.7705 - val_loss: 0.6401 - val_accuracy: 0.7755 - lr: 0.0010 - 16s/epoch - 19ms/step
Epoch 46/75
876/876 - 16s - loss: 0.6108 - accuracy: 0.7719 - val_loss: 0.7059 - val_accuracy: 0.7478 - lr: 0.0010 - 16s/epoch - 19ms/step
Epoch 47/75
876/876 - 16s - loss: 0.6102 - accuracy: 0.7704 - val_loss: 0.7138 - val_accuracy: 0.7300 - lr: 0.0010 - 16s/epoch - 19ms/step
Epoch 48/75
876/876 - 16s - loss: 0.6083 - accuracy: 0.7716 - val_loss: 0.7254 - val_accuracy: 0.7404 - lr: 0.0010 - 16s/epoch - 19ms/step
Epoch 49/75
876/876 - 17s - loss: 0.6169 - accuracy: 0.7702 - val_loss: 0.7105 - val_accuracy: 0.7483 - lr: 0.0010 - 17s/epoch - 19ms/step
Epoch 50/75
876/876 - 17s - loss: 0.6033 - accuracy: 0.7723 - val_loss: 0.7255 - val_accuracy: 0.7322 - lr: 0.0010 - 17s/epoch - 19ms/step
Epoch 51/75
876/876 - 19s - loss: 0.6052 - accuracy: 0.7730 - val_loss: 0.7088 - val_accuracy: 0.7460 - lr: 0.0010 - 19s/epoch - 21ms/step
Epoch 52/75
876/876 - 19s - loss: 0.6025 - accuracy: 0.7735 - val_loss: 0.8060 - val_accuracy: 0.6912 - lr: 0.0010 - 19s/epoch - 22ms/step
Epoch 53/75
876/876 - 19s - loss: 0.6039 - accuracy: 0.7739 - val_loss: 0.7527 - val_accuracy: 0.7161 - lr: 0.0010 - 19s/epoch - 22ms/step
Epoch 54/75
876/876 - 19s - loss: 0.6026 - accuracy: 0.7751 - val_loss: 0.7348 - val_accuracy: 0.7444 - lr: 0.0010 - 19s/epoch - 21ms/step
Epoch 55/75
876/876 - 19s - loss: 0.6037 - accuracy: 0.7723 - val_loss: 0.6927 - val_accuracy: 0.7444 - lr: 0.0010 - 19s/epoch - 22ms/step
Epoch 56/75
876/876 - 21s - loss: 0.6019 - accuracy: 0.7746 - val_loss: 0.7212 - val_accuracy: 0.7364 - lr: 0.0010 - 21s/epoch - 24ms/step
Epoch 57/75
876/876 - 19s - loss: 0.5999 - accuracy: 0.7754 - val_loss: 0.6264 - val_accuracy: 0.7741 - lr: 0.0010 - 19s/epoch - 22ms/step
Epoch 58/75
876/876 - 21s - loss: 0.6005 - accuracy: 0.7742 - val_loss: 0.7041 - val_accuracy: 0.7391 - lr: 0.0010 - 21s/epoch - 24ms/step
Epoch 59/75
876/876 - 19s - loss: 0.6026 - accuracy: 0.7734 - val_loss: 0.6423 - val_accuracy: 0.7697 - lr: 0.0010 - 19s/epoch - 22ms/step
Epoch 60/75
876/876 - 18s - loss: 0.6009 - accuracy: 0.7741 - val_loss: 0.6704 - val_accuracy: 0.7620 - lr: 0.0010 - 18s/epoch - 21ms/step
Epoch 61/75
876/876 - 19s - loss: 0.6244 - accuracy: 0.7735 - val_loss: 0.6763 - val_accuracy: 0.7622 - lr: 0.0010 - 19s/epoch - 22ms/step
Epoch 62/75
876/876 - 16s - loss: 0.5943 - accuracy: 0.7771 - val_loss: 0.7053 - val_accuracy: 0.7412 - lr: 0.0010 - 16s/epoch - 19ms/step
Epoch 63/75
876/876 - 17s - loss: 0.5980 - accuracy: 0.7761 - val_loss: 0.6400 - val_accuracy: 0.7622 - lr: 0.0010 - 17s/epoch - 19ms/step
Epoch 64/75
876/876 - 18s - loss: 0.5952 - accuracy: 0.7771 - val_loss: 0.6894 - val_accuracy: 0.7407 - lr: 0.0010 - 18s/epoch - 20ms/step
Epoch 65/75
876/876 - 18s - loss: 0.6007 - accuracy: 0.7755 - val_loss: 0.7272 - val_accuracy: 0.7324 - lr: 0.0010 - 18s/epoch - 20ms/step
Epoch 66/75
876/876 - 18s - loss: 0.5944 - accuracy: 0.7788 - val_loss: 0.6902 - val_accuracy: 0.7440 - lr: 0.0010 - 18s/epoch - 20ms/step
Epoch 67/75
876/876 - 18s - loss: 0.5943 - accuracy: 0.7769 - val_loss: 0.6791 - val_accuracy: 0.7600 - lr: 0.0010 - 18s/epoch - 20ms/step
Epoch 68/75
876/876 - 18s - loss: 0.5941 - accuracy: 0.7771 - val_loss: 0.7014 - val_accuracy: 0.7498 - lr: 0.0010 - 18s/epoch - 20ms/step
Epoch 69/75
876/876 - 18s - loss: 0.5934 - accuracy: 0.7774 - val_loss: 0.6571 - val_accuracy: 0.7703 - lr: 0.0010 - 18s/epoch - 20ms/step
Epoch 70/75
876/876 - 18s - loss: 0.5997 - accuracy: 0.7755 - val_loss: 0.6932 - val_accuracy: 0.7452 - lr: 0.0010 - 18s/epoch - 20ms/step
Epoch 71/75
876/876 - 18s - loss: 0.6236 - accuracy: 0.7744 - val_loss: 0.6975 - val_accuracy: 0.7521 - lr: 0.0010 - 18s/epoch - 21ms/step
Epoch 72/75
876/876 - 19s - loss: 0.5945 - accuracy: 0.7778 - val_loss: 0.6491 - val_accuracy: 0.7742 - lr: 0.0010 - 19s/epoch - 22ms/step
Epoch 73/75
876/876 - 19s - loss: 0.6002 - accuracy: 0.7760 - val_loss: 0.6933 - val_accuracy: 0.7437 - lr: 0.0010 - 19s/epoch - 22ms/step
Epoch 74/75
876/876 - 18s - loss: 0.5879 - accuracy: 0.7802 - val_loss: 0.7282 - val_accuracy: 0.7386 - lr: 0.0010 - 18s/epoch - 21ms/step
Epoch 75/75
876/876 - 18s - loss: 0.5894 - accuracy: 0.7798 - val_loss: 0.7313 - val_accuracy: 0.7390 - lr: 0.0010 - 18s/epoch - 20ms/step
fitting with batch size: 500
Epoch 1/75
176/176 - 14s - loss: 0.5548 - accuracy: 0.7940 - val_loss: 0.6269 - val_accuracy: 0.7687 - lr: 0.0010 - 14s/epoch - 78ms/step
Epoch 2/75
176/176 - 10s - loss: 0.5471 - accuracy: 0.7952 - val_loss: 0.6766 - val_accuracy: 0.7537 - lr: 0.0010 - 10s/epoch - 56ms/step
Epoch 3/75
176/176 - 10s - loss: 0.5468 - accuracy: 0.7967 - val_loss: 0.6687 - val_accuracy: 0.7443 - lr: 0.0010 - 10s/epoch - 57ms/step
Epoch 4/75
176/176 - 10s - loss: 0.5452 - accuracy: 0.7963 - val_loss: 0.6657 - val_accuracy: 0.7551 - lr: 0.0010 - 10s/epoch - 55ms/step
Epoch 5/75
176/176 - 8s - loss: 0.5414 - accuracy: 0.7978 - val_loss: 0.6712 - val_accuracy: 0.7472 - lr: 0.0010 - 8s/epoch - 47ms/step
Epoch 6/75
176/176 - 9s - loss: 0.5401 - accuracy: 0.7983 - val_loss: 0.6324 - val_accuracy: 0.7697 - lr: 0.0010 - 9s/epoch - 51ms/step
Epoch 7/75
176/176 - 9s - loss: 0.5394 - accuracy: 0.7980 - val_loss: 0.6822 - val_accuracy: 0.7459 - lr: 0.0010 - 9s/epoch - 52ms/step
Epoch 8/75
176/176 - 9s - loss: 0.5388 - accuracy: 0.7989 - val_loss: 0.6812 - val_accuracy: 0.7410 - lr: 0.0010 - 9s/epoch - 51ms/step
Epoch 9/75
176/176 - 11s - loss: 0.5363 - accuracy: 0.8005 - val_loss: 0.6821 - val_accuracy: 0.7425 - lr: 0.0010 - 11s/epoch - 62ms/step
Epoch 10/75
176/176 - 10s - loss: 0.5368 - accuracy: 0.8003 - val_loss: 0.6629 - val_accuracy: 0.7534 - lr: 0.0010 - 10s/epoch - 55ms/step
Epoch 11/75
176/176 - 9s - loss: 0.5339 - accuracy: 0.8011 - val_loss: 0.6518 - val_accuracy: 0.7604 - lr: 0.0010 - 9s/epoch - 48ms/step
Epoch 12/75
176/176 - 8s - loss: 0.5351 - accuracy: 0.8001 - val_loss: 0.6719 - val_accuracy: 0.7503 - lr: 0.0010 - 8s/epoch - 47ms/step
Epoch 13/75
176/176 - 8s - loss: 0.5341 - accuracy: 0.8010 - val_loss: 0.6911 - val_accuracy: 0.7400 - lr: 0.0010 - 8s/epoch - 48ms/step
Epoch 14/75
176/176 - 8s - loss: 0.5313 - accuracy: 0.8018 - val_loss: 0.6962 - val_accuracy: 0.7411 - lr: 0.0010 - 8s/epoch - 48ms/step
Epoch 15/75
176/176 - 8s - loss: 0.5345 - accuracy: 0.8009 - val_loss: 0.6931 - val_accuracy: 0.7442 - lr: 0.0010 - 8s/epoch - 48ms/step
Epoch 16/75
176/176 - 8s - loss: 0.5301 - accuracy: 0.8025 - val_loss: 0.6721 - val_accuracy: 0.7566 - lr: 0.0010 - 8s/epoch - 47ms/step
Epoch 17/75
176/176 - 8s - loss: 0.5308 - accuracy: 0.8016 - val_loss: 0.6843 - val_accuracy: 0.7393 - lr: 0.0010 - 8s/epoch - 48ms/step
Epoch 18/75
176/176 - 8s - loss: 0.5267 - accuracy: 0.8035 - val_loss: 0.6814 - val_accuracy: 0.7438 - lr: 0.0010 - 8s/epoch - 48ms/step
Epoch 19/75
176/176 - 8s - loss: 0.5281 - accuracy: 0.8027 - val_loss: 0.6725 - val_accuracy: 0.7535 - lr: 0.0010 - 8s/epoch - 48ms/step
Epoch 20/75
176/176 - 9s - loss: 0.5265 - accuracy: 0.8038 - val_loss: 0.7022 - val_accuracy: 0.7368 - lr: 0.0010 - 9s/epoch - 50ms/step
Epoch 21/75
176/176 - 9s - loss: 0.5258 - accuracy: 0.8035 - val_loss: 0.6819 - val_accuracy: 0.7442 - lr: 0.0010 - 9s/epoch - 50ms/step
Epoch 22/75
176/176 - 9s - loss: 0.5254 - accuracy: 0.8044 - val_loss: 0.6969 - val_accuracy: 0.7367 - lr: 0.0010 - 9s/epoch - 52ms/step
Epoch 23/75
176/176 - 10s - loss: 0.5264 - accuracy: 0.8035 - val_loss: 0.7265 - val_accuracy: 0.7272 - lr: 0.0010 - 10s/epoch - 54ms/step
Epoch 24/75
176/176 - 10s - loss: 0.5240 - accuracy: 0.8042 - val_loss: 0.7031 - val_accuracy: 0.7366 - lr: 0.0010 - 10s/epoch - 57ms/step
Epoch 25/75
176/176 - 10s - loss: 0.5225 - accuracy: 0.8061 - val_loss: 0.6839 - val_accuracy: 0.7431 - lr: 0.0010 - 10s/epoch - 58ms/step
Epoch 26/75
176/176 - 9s - loss: 0.5211 - accuracy: 0.8057 - val_loss: 0.7232 - val_accuracy: 0.7289 - lr: 0.0010 - 9s/epoch - 50ms/step
Epoch 27/75
176/176 - 9s - loss: 0.5230 - accuracy: 0.8048 - val_loss: 0.6969 - val_accuracy: 0.7348 - lr: 0.0010 - 9s/epoch - 52ms/step
Epoch 28/75
176/176 - 9s - loss: 0.5203 - accuracy: 0.8072 - val_loss: 0.6832 - val_accuracy: 0.7445 - lr: 0.0010 - 9s/epoch - 52ms/step
Epoch 29/75
176/176 - 9s - loss: 0.5206 - accuracy: 0.8051 - val_loss: 0.7168 - val_accuracy: 0.7299 - lr: 0.0010 - 9s/epoch - 51ms/step
Epoch 30/75
176/176 - 9s - loss: 0.5188 - accuracy: 0.8070 - val_loss: 0.6628 - val_accuracy: 0.7451 - lr: 0.0010 - 9s/epoch - 51ms/step
Epoch 31/75
176/176 - 9s - loss: 0.5213 - accuracy: 0.8063 - val_loss: 0.6768 - val_accuracy: 0.7504 - lr: 0.0010 - 9s/epoch - 51ms/step
Epoch 32/75
176/176 - 9s - loss: 0.5201 - accuracy: 0.8064 - val_loss: 0.6934 - val_accuracy: 0.7368 - lr: 0.0010 - 9s/epoch - 51ms/step
Epoch 33/75
176/176 - 9s - loss: 0.5161 - accuracy: 0.8082 - val_loss: 0.6722 - val_accuracy: 0.7480 - lr: 0.0010 - 9s/epoch - 51ms/step
Epoch 34/75
176/176 - 9s - loss: 0.5151 - accuracy: 0.8083 - val_loss: 0.6878 - val_accuracy: 0.7431 - lr: 0.0010 - 9s/epoch - 51ms/step
Epoch 35/75
176/176 - 9s - loss: 0.5197 - accuracy: 0.8072 - val_loss: 0.7084 - val_accuracy: 0.7352 - lr: 0.0010 - 9s/epoch - 51ms/step
Epoch 36/75
176/176 - 9s - loss: 0.5147 - accuracy: 0.8082 - val_loss: 0.6757 - val_accuracy: 0.7421 - lr: 0.0010 - 9s/epoch - 53ms/step
Epoch 37/75
176/176 - 9s - loss: 0.5137 - accuracy: 0.8089 - val_loss: 0.7108 - val_accuracy: 0.7293 - lr: 0.0010 - 9s/epoch - 51ms/step
Epoch 38/75
176/176 - 9s - loss: 0.5173 - accuracy: 0.8071 - val_loss: 0.6671 - val_accuracy: 0.7510 - lr: 0.0010 - 9s/epoch - 51ms/step
Epoch 39/75
176/176 - 9s - loss: 0.5158 - accuracy: 0.8085 - val_loss: 0.6668 - val_accuracy: 0.7462 - lr: 0.0010 - 9s/epoch - 51ms/step
Epoch 40/75
176/176 - 9s - loss: 0.5113 - accuracy: 0.8101 - val_loss: 0.7083 - val_accuracy: 0.7402 - lr: 0.0010 - 9s/epoch - 51ms/step
Epoch 41/75
176/176 - 9s - loss: 0.5125 - accuracy: 0.8090 - val_loss: 0.6670 - val_accuracy: 0.7571 - lr: 0.0010 - 9s/epoch - 52ms/step
Epoch 42/75
176/176 - 10s - loss: 0.5115 - accuracy: 0.8109 - val_loss: 0.7132 - val_accuracy: 0.7263 - lr: 0.0010 - 10s/epoch - 55ms/step
Epoch 43/75
176/176 - 11s - loss: 0.5108 - accuracy: 0.8093 - val_loss: 0.6713 - val_accuracy: 0.7400 - lr: 0.0010 - 11s/epoch - 63ms/step
Epoch 44/75
176/176 - 11s - loss: 0.5105 - accuracy: 0.8108 - val_loss: 0.6959 - val_accuracy: 0.7443 - lr: 0.0010 - 11s/epoch - 60ms/step
Epoch 45/75
176/176 - 11s - loss: 0.5102 - accuracy: 0.8104 - val_loss: 0.7374 - val_accuracy: 0.7232 - lr: 0.0010 - 11s/epoch - 62ms/step
Epoch 46/75
176/176 - 11s - loss: 0.5082 - accuracy: 0.8111 - val_loss: 0.6440 - val_accuracy: 0.7657 - lr: 0.0010 - 11s/epoch - 62ms/step
Epoch 47/75
176/176 - 11s - loss: 0.5098 - accuracy: 0.8106 - val_loss: 0.6997 - val_accuracy: 0.7331 - lr: 0.0010 - 11s/epoch - 64ms/step
Epoch 48/75
176/176 - 11s - loss: 0.5059 - accuracy: 0.8119 - val_loss: 0.6589 - val_accuracy: 0.7521 - lr: 0.0010 - 11s/epoch - 60ms/step
Epoch 49/75
176/176 - 11s - loss: 0.5095 - accuracy: 0.8095 - val_loss: 0.7164 - val_accuracy: 0.7304 - lr: 0.0010 - 11s/epoch - 62ms/step
Epoch 50/75
176/176 - 10s - loss: 0.5191 - accuracy: 0.8077 - val_loss: 0.7191 - val_accuracy: 0.7273 - lr: 0.0010 - 10s/epoch - 56ms/step
Epoch 51/75
176/176 - 10s - loss: 0.5133 - accuracy: 0.8097 - val_loss: 0.6780 - val_accuracy: 0.7437 - lr: 0.0010 - 10s/epoch - 55ms/step
Epoch 52/75
176/176 - 10s - loss: 0.5080 - accuracy: 0.8112 - val_loss: 0.6907 - val_accuracy: 0.7370 - lr: 0.0010 - 10s/epoch - 56ms/step
Epoch 53/75
176/176 - 10s - loss: 0.5049 - accuracy: 0.8121 - val_loss: 0.7088 - val_accuracy: 0.7323 - lr: 0.0010 - 10s/epoch - 55ms/step
Epoch 54/75
176/176 - 10s - loss: 0.5087 - accuracy: 0.8108 - val_loss: 0.6309 - val_accuracy: 0.7671 - lr: 0.0010 - 10s/epoch - 55ms/step
Epoch 55/75
176/176 - 10s - loss: 0.5052 - accuracy: 0.8119 - val_loss: 0.6697 - val_accuracy: 0.7514 - lr: 0.0010 - 10s/epoch - 56ms/step
Epoch 56/75
176/176 - 10s - loss: 0.5044 - accuracy: 0.8127 - val_loss: 0.6960 - val_accuracy: 0.7369 - lr: 0.0010 - 10s/epoch - 57ms/step
Epoch 57/75
176/176 - 10s - loss: 0.5046 - accuracy: 0.8127 - val_loss: 0.7075 - val_accuracy: 0.7326 - lr: 0.0010 - 10s/epoch - 55ms/step
Epoch 58/75
176/176 - 10s - loss: 0.5052 - accuracy: 0.8114 - val_loss: 0.6695 - val_accuracy: 0.7457 - lr: 0.0010 - 10s/epoch - 55ms/step
Epoch 59/75
176/176 - 10s - loss: 0.5027 - accuracy: 0.8129 - val_loss: 0.6839 - val_accuracy: 0.7442 - lr: 0.0010 - 10s/epoch - 58ms/step
Epoch 60/75
176/176 - 10s - loss: 0.5076 - accuracy: 0.8116 - val_loss: 0.7224 - val_accuracy: 0.7316 - lr: 0.0010 - 10s/epoch - 59ms/step
Epoch 61/75
176/176 - 10s - loss: 0.5102 - accuracy: 0.8101 - val_loss: 0.6838 - val_accuracy: 0.7488 - lr: 0.0010 - 10s/epoch - 59ms/step
Epoch 62/75
176/176 - 10s - loss: 0.5127 - accuracy: 0.8094 - val_loss: 0.6887 - val_accuracy: 0.7429 - lr: 0.0010 - 10s/epoch - 59ms/step
Epoch 63/75
176/176 - 10s - loss: 0.4992 - accuracy: 0.8150 - val_loss: 0.7249 - val_accuracy: 0.7218 - lr: 0.0010 - 10s/epoch - 59ms/step
Epoch 64/75
176/176 - 10s - loss: 0.4992 - accuracy: 0.8147 - val_loss: 0.6733 - val_accuracy: 0.7517 - lr: 0.0010 - 10s/epoch - 59ms/step
Epoch 65/75
176/176 - 11s - loss: 0.4997 - accuracy: 0.8145 - val_loss: 0.6956 - val_accuracy: 0.7311 - lr: 0.0010 - 11s/epoch - 60ms/step
Epoch 66/75
176/176 - 10s - loss: 0.4992 - accuracy: 0.8142 - val_loss: 0.6971 - val_accuracy: 0.7308 - lr: 0.0010 - 10s/epoch - 57ms/step
Epoch 67/75
176/176 - 11s - loss: 0.5020 - accuracy: 0.8137 - val_loss: 0.6669 - val_accuracy: 0.7454 - lr: 0.0010 - 11s/epoch - 60ms/step
Epoch 68/75
176/176 - 10s - loss: 0.5048 - accuracy: 0.8117 - val_loss: 0.7013 - val_accuracy: 0.7317 - lr: 0.0010 - 10s/epoch - 59ms/step
Epoch 69/75
176/176 - 10s - loss: 0.5021 - accuracy: 0.8134 - val_loss: 0.7305 - val_accuracy: 0.7260 - lr: 0.0010 - 10s/epoch - 59ms/step
Epoch 70/75
176/176 - 11s - loss: 0.5011 - accuracy: 0.8132 - val_loss: 0.7171 - val_accuracy: 0.7230 - lr: 0.0010 - 11s/epoch - 60ms/step
Epoch 71/75
176/176 - 10s - loss: 0.5034 - accuracy: 0.8141 - val_loss: 0.7361 - val_accuracy: 0.7167 - lr: 0.0010 - 10s/epoch - 59ms/step
Epoch 72/75
176/176 - 10s - loss: 0.4991 - accuracy: 0.8143 - val_loss: 0.7072 - val_accuracy: 0.7383 - lr: 0.0010 - 10s/epoch - 59ms/step
Epoch 73/75
176/176 - 10s - loss: 0.4992 - accuracy: 0.8137 - val_loss: 0.6811 - val_accuracy: 0.7421 - lr: 0.0010 - 10s/epoch - 59ms/step
Epoch 74/75
176/176 - 11s - loss: 0.4975 - accuracy: 0.8145 - val_loss: 0.6834 - val_accuracy: 0.7479 - lr: 0.0010 - 11s/epoch - 60ms/step
Epoch 75/75
176/176 - 10s - loss: 0.4947 - accuracy: 0.8172 - val_loss: 0.7254 - val_accuracy: 0.7238 - lr: 0.0010 - 10s/epoch - 57ms/step
fitting with batch size: 2500
Epoch 1/75
36/36 - 12s - loss: 0.4841 - accuracy: 0.8201 - val_loss: 0.6913 - val_accuracy: 0.7352 - lr: 0.0010 - 12s/epoch - 325ms/step
Epoch 2/75
36/36 - 9s - loss: 0.4719 - accuracy: 0.8252 - val_loss: 0.7162 - val_accuracy: 0.7289 - lr: 0.0010 - 9s/epoch - 240ms/step
Epoch 3/75
36/36 - 9s - loss: 0.4710 - accuracy: 0.8263 - val_loss: 0.7147 - val_accuracy: 0.7265 - lr: 0.0010 - 9s/epoch - 238ms/step
Epoch 4/75
36/36 - 9s - loss: 0.4750 - accuracy: 0.8241 - val_loss: 0.7093 - val_accuracy: 0.7299 - lr: 0.0010 - 9s/epoch - 238ms/step
Epoch 5/75
36/36 - 9s - loss: 0.4723 - accuracy: 0.8257 - val_loss: 0.6947 - val_accuracy: 0.7328 - lr: 0.0010 - 9s/epoch - 240ms/step
Epoch 6/75
36/36 - 9s - loss: 0.4717 - accuracy: 0.8245 - val_loss: 0.6957 - val_accuracy: 0.7333 - lr: 0.0010 - 9s/epoch - 251ms/step
Epoch 7/75
36/36 - 9s - loss: 0.4681 - accuracy: 0.8279 - val_loss: 0.6968 - val_accuracy: 0.7324 - lr: 0.0010 - 9s/epoch - 247ms/step
Epoch 8/75
36/36 - 9s - loss: 0.4735 - accuracy: 0.8238 - val_loss: 0.6859 - val_accuracy: 0.7347 - lr: 0.0010 - 9s/epoch - 237ms/step
Epoch 9/75
36/36 - 9s - loss: 0.4767 - accuracy: 0.8235 - val_loss: 0.7167 - val_accuracy: 0.7287 - lr: 0.0010 - 9s/epoch - 237ms/step
Epoch 10/75
36/36 - 9s - loss: 0.4746 - accuracy: 0.8243 - val_loss: 0.7086 - val_accuracy: 0.7281 - lr: 0.0010 - 9s/epoch - 236ms/step
Epoch 11/75
36/36 - 9s - loss: 0.4766 - accuracy: 0.8231 - val_loss: 0.7038 - val_accuracy: 0.7320 - lr: 0.0010 - 9s/epoch - 243ms/step
Epoch 12/75
36/36 - 9s - loss: 0.4753 - accuracy: 0.8257 - val_loss: 0.6852 - val_accuracy: 0.7371 - lr: 0.0010 - 9s/epoch - 263ms/step
Epoch 13/75
36/36 - 9s - loss: 0.4742 - accuracy: 0.8244 - val_loss: 0.7000 - val_accuracy: 0.7351 - lr: 0.0010 - 9s/epoch - 261ms/step
Epoch 14/75
36/36 - 9s - loss: 0.4800 - accuracy: 0.8225 - val_loss: 0.6997 - val_accuracy: 0.7269 - lr: 0.0010 - 9s/epoch - 261ms/step
Epoch 15/75
36/36 - 9s - loss: 0.4707 - accuracy: 0.8257 - val_loss: 0.7067 - val_accuracy: 0.7297 - lr: 0.0010 - 9s/epoch - 258ms/step
Epoch 16/75
36/36 - 9s - loss: 0.4691 - accuracy: 0.8264 - val_loss: 0.6964 - val_accuracy: 0.7394 - lr: 0.0010 - 9s/epoch - 253ms/step
Epoch 17/75
36/36 - 9s - loss: 0.4692 - accuracy: 0.8267 - val_loss: 0.6985 - val_accuracy: 0.7355 - lr: 0.0010 - 9s/epoch - 252ms/step
Epoch 18/75
36/36 - 9s - loss: 0.4684 - accuracy: 0.8265 - val_loss: 0.6696 - val_accuracy: 0.7458 - lr: 0.0010 - 9s/epoch - 253ms/step
Epoch 19/75
36/36 - 9s - loss: 0.4729 - accuracy: 0.8243 - val_loss: 0.6883 - val_accuracy: 0.7381 - lr: 0.0010 - 9s/epoch - 253ms/step
Epoch 20/75
36/36 - 9s - loss: 0.4715 - accuracy: 0.8257 - val_loss: 0.6923 - val_accuracy: 0.7374 - lr: 0.0010 - 9s/epoch - 254ms/step
Epoch 21/75
36/36 - 9s - loss: 0.4742 - accuracy: 0.8239 - val_loss: 0.6979 - val_accuracy: 0.7313 - lr: 0.0010 - 9s/epoch - 254ms/step
Epoch 22/75
36/36 - 9s - loss: 0.4667 - accuracy: 0.8283 - val_loss: 0.6740 - val_accuracy: 0.7487 - lr: 0.0010 - 9s/epoch - 254ms/step
Epoch 23/75
36/36 - 9s - loss: 0.4678 - accuracy: 0.8269 - val_loss: 0.7281 - val_accuracy: 0.7277 - lr: 0.0010 - 9s/epoch - 252ms/step
Epoch 24/75
36/36 - 9s - loss: 0.4744 - accuracy: 0.8241 - val_loss: 0.7040 - val_accuracy: 0.7292 - lr: 0.0010 - 9s/epoch - 256ms/step
Epoch 25/75
36/36 - 9s - loss: 0.4678 - accuracy: 0.8278 - val_loss: 0.7029 - val_accuracy: 0.7304 - lr: 0.0010 - 9s/epoch - 253ms/step
Epoch 26/75
36/36 - 9s - loss: 0.4709 - accuracy: 0.8260 - val_loss: 0.7180 - val_accuracy: 0.7281 - lr: 0.0010 - 9s/epoch - 255ms/step
Epoch 27/75
36/36 - 9s - loss: 0.4750 - accuracy: 0.8241 - val_loss: 0.6859 - val_accuracy: 0.7431 - lr: 0.0010 - 9s/epoch - 259ms/step
Epoch 28/75
36/36 - 9s - loss: 0.4676 - accuracy: 0.8281 - val_loss: 0.7063 - val_accuracy: 0.7361 - lr: 0.0010 - 9s/epoch - 262ms/step
Epoch 29/75
36/36 - 9s - loss: 0.4645 - accuracy: 0.8297 - val_loss: 0.6918 - val_accuracy: 0.7358 - lr: 0.0010 - 9s/epoch - 262ms/step
Epoch 30/75
36/36 - 9s - loss: 0.4745 - accuracy: 0.8248 - val_loss: 0.7088 - val_accuracy: 0.7339 - lr: 0.0010 - 9s/epoch - 242ms/step
Epoch 31/75
36/36 - 9s - loss: 0.4644 - accuracy: 0.8280 - val_loss: 0.7013 - val_accuracy: 0.7374 - lr: 0.0010 - 9s/epoch - 240ms/step
Epoch 32/75
36/36 - 9s - loss: 0.4620 - accuracy: 0.8291 - val_loss: 0.6771 - val_accuracy: 0.7416 - lr: 0.0010 - 9s/epoch - 237ms/step
Epoch 33/75
36/36 - 7s - loss: 0.4659 - accuracy: 0.8286 - val_loss: 0.6996 - val_accuracy: 0.7354 - lr: 0.0010 - 7s/epoch - 199ms/step
Epoch 34/75
36/36 - 7s - loss: 0.4651 - accuracy: 0.8278 - val_loss: 0.7061 - val_accuracy: 0.7336 - lr: 0.0010 - 7s/epoch - 205ms/step
Epoch 35/75
36/36 - 7s - loss: 0.4645 - accuracy: 0.8294 - val_loss: 0.7085 - val_accuracy: 0.7313 - lr: 0.0010 - 7s/epoch - 208ms/step
Epoch 36/75
36/36 - 7s - loss: 0.4667 - accuracy: 0.8281 - val_loss: 0.7206 - val_accuracy: 0.7306 - lr: 0.0010 - 7s/epoch - 199ms/step
Epoch 37/75
36/36 - 7s - loss: 0.4640 - accuracy: 0.8283 - val_loss: 0.6860 - val_accuracy: 0.7402 - lr: 0.0010 - 7s/epoch - 202ms/step
Epoch 38/75
36/36 - 7s - loss: 0.4643 - accuracy: 0.8287 - val_loss: 0.7145 - val_accuracy: 0.7283 - lr: 0.0010 - 7s/epoch - 205ms/step
Epoch 39/75
36/36 - 7s - loss: 0.4679 - accuracy: 0.8275 - val_loss: 0.7206 - val_accuracy: 0.7256 - lr: 0.0010 - 7s/epoch - 201ms/step
Epoch 40/75
36/36 - 7s - loss: 0.4684 - accuracy: 0.8265 - val_loss: 0.7061 - val_accuracy: 0.7292 - lr: 0.0010 - 7s/epoch - 201ms/step
Epoch 41/75
36/36 - 7s - loss: 0.4647 - accuracy: 0.8298 - val_loss: 0.6996 - val_accuracy: 0.7361 - lr: 0.0010 - 7s/epoch - 199ms/step
Epoch 42/75
36/36 - 8s - loss: 0.4798 - accuracy: 0.8219 - val_loss: 0.7081 - val_accuracy: 0.7283 - lr: 0.0010 - 8s/epoch - 214ms/step
Epoch 43/75
36/36 - 9s - loss: 0.4683 - accuracy: 0.8269 - val_loss: 0.6867 - val_accuracy: 0.7390 - lr: 0.0010 - 9s/epoch - 244ms/step
Epoch 44/75
36/36 - 8s - loss: 0.4629 - accuracy: 0.8302 - val_loss: 0.6992 - val_accuracy: 0.7274 - lr: 0.0010 - 8s/epoch - 213ms/step
Epoch 45/75
36/36 - 8s - loss: 0.4705 - accuracy: 0.8269 - val_loss: 0.6990 - val_accuracy: 0.7352 - lr: 0.0010 - 8s/epoch - 210ms/step
Epoch 46/75
36/36 - 7s - loss: 0.4615 - accuracy: 0.8301 - val_loss: 0.7151 - val_accuracy: 0.7274 - lr: 0.0010 - 7s/epoch - 203ms/step
Epoch 47/75
36/36 - 7s - loss: 0.4662 - accuracy: 0.8273 - val_loss: 0.7211 - val_accuracy: 0.7252 - lr: 0.0010 - 7s/epoch - 203ms/step
Epoch 48/75
36/36 - 7s - loss: 0.4649 - accuracy: 0.8282 - val_loss: 0.6903 - val_accuracy: 0.7340 - lr: 0.0010 - 7s/epoch - 203ms/step
Epoch 49/75
36/36 - 8s - loss: 0.4680 - accuracy: 0.8265 - val_loss: 0.6958 - val_accuracy: 0.7331 - lr: 0.0010 - 8s/epoch - 221ms/step
Epoch 50/75
36/36 - 8s - loss: 0.4652 - accuracy: 0.8283 - val_loss: 0.6939 - val_accuracy: 0.7338 - lr: 0.0010 - 8s/epoch - 221ms/step
Epoch 51/75
36/36 - 8s - loss: 0.4713 - accuracy: 0.8262 - val_loss: 0.6794 - val_accuracy: 0.7401 - lr: 0.0010 - 8s/epoch - 222ms/step
Epoch 52/75
36/36 - 8s - loss: 0.4597 - accuracy: 0.8293 - val_loss: 0.7059 - val_accuracy: 0.7270 - lr: 0.0010 - 8s/epoch - 213ms/step
Epoch 53/75
36/36 - 8s - loss: 0.4594 - accuracy: 0.8301 - val_loss: 0.7278 - val_accuracy: 0.7278 - lr: 0.0010 - 8s/epoch - 212ms/step
Epoch 54/75
36/36 - 8s - loss: 0.4607 - accuracy: 0.8294 - val_loss: 0.7017 - val_accuracy: 0.7394 - lr: 0.0010 - 8s/epoch - 221ms/step
Epoch 55/75
36/36 - 7s - loss: 0.4643 - accuracy: 0.8284 - val_loss: 0.6936 - val_accuracy: 0.7373 - lr: 0.0010 - 7s/epoch - 202ms/step
Epoch 56/75
36/36 - 8s - loss: 0.4605 - accuracy: 0.8304 - val_loss: 0.6870 - val_accuracy: 0.7371 - lr: 0.0010 - 8s/epoch - 227ms/step
Epoch 57/75
36/36 - 8s - loss: 0.4622 - accuracy: 0.8300 - val_loss: 0.7079 - val_accuracy: 0.7286 - lr: 0.0010 - 8s/epoch - 221ms/step
Epoch 58/75
36/36 - 8s - loss: 0.4600 - accuracy: 0.8305 - val_loss: 0.7094 - val_accuracy: 0.7352 - lr: 0.0010 - 8s/epoch - 222ms/step
Epoch 59/75
36/36 - 8s - loss: 0.4569 - accuracy: 0.8315 - val_loss: 0.6933 - val_accuracy: 0.7388 - lr: 0.0010 - 8s/epoch - 222ms/step
Epoch 60/75
36/36 - 8s - loss: 0.4599 - accuracy: 0.8309 - val_loss: 0.7246 - val_accuracy: 0.7266 - lr: 0.0010 - 8s/epoch - 221ms/step
Epoch 61/75
36/36 - 8s - loss: 0.4601 - accuracy: 0.8305 - val_loss: 0.7040 - val_accuracy: 0.7308 - lr: 0.0010 - 8s/epoch - 222ms/step
Epoch 62/75
36/36 - 8s - loss: 0.4627 - accuracy: 0.8282 - val_loss: 0.7220 - val_accuracy: 0.7236 - lr: 0.0010 - 8s/epoch - 222ms/step
Epoch 63/75
36/36 - 8s - loss: 0.4673 - accuracy: 0.8261 - val_loss: 0.7111 - val_accuracy: 0.7334 - lr: 0.0010 - 8s/epoch - 222ms/step
Epoch 64/75
36/36 - 8s - loss: 0.4569 - accuracy: 0.8309 - val_loss: 0.7020 - val_accuracy: 0.7308 - lr: 0.0010 - 8s/epoch - 234ms/step
Epoch 65/75
36/36 - 8s - loss: 0.4597 - accuracy: 0.8298 - val_loss: 0.7109 - val_accuracy: 0.7316 - lr: 0.0010 - 8s/epoch - 223ms/step
Epoch 66/75
36/36 - 8s - loss: 0.4554 - accuracy: 0.8323 - val_loss: 0.7135 - val_accuracy: 0.7301 - lr: 0.0010 - 8s/epoch - 222ms/step
Epoch 67/75
36/36 - 8s - loss: 0.4601 - accuracy: 0.8298 - val_loss: 0.7050 - val_accuracy: 0.7342 - lr: 0.0010 - 8s/epoch - 222ms/step
Epoch 68/75
36/36 - 8s - loss: 0.4570 - accuracy: 0.8323 - val_loss: 0.6836 - val_accuracy: 0.7421 - lr: 0.0010 - 8s/epoch - 222ms/step
Epoch 69/75
36/36 - 8s - loss: 0.4688 - accuracy: 0.8256 - val_loss: 0.7102 - val_accuracy: 0.7295 - lr: 0.0010 - 8s/epoch - 221ms/step
Epoch 70/75
36/36 - 8s - loss: 0.4575 - accuracy: 0.8316 - val_loss: 0.6917 - val_accuracy: 0.7363 - lr: 0.0010 - 8s/epoch - 219ms/step
Epoch 71/75
36/36 - 8s - loss: 0.4530 - accuracy: 0.8332 - val_loss: 0.7067 - val_accuracy: 0.7310 - lr: 0.0010 - 8s/epoch - 220ms/step
Epoch 72/75
36/36 - 8s - loss: 0.4574 - accuracy: 0.8308 - val_loss: 0.7270 - val_accuracy: 0.7223 - lr: 0.0010 - 8s/epoch - 220ms/step
Epoch 73/75
36/36 - 8s - loss: 0.4566 - accuracy: 0.8319 - val_loss: 0.6984 - val_accuracy: 0.7337 - lr: 0.0010 - 8s/epoch - 219ms/step
Epoch 74/75
36/36 - 8s - loss: 0.4591 - accuracy: 0.8304 - val_loss: 0.6904 - val_accuracy: 0.7396 - lr: 0.0010 - 8s/epoch - 219ms/step
Epoch 75/75
36/36 - 8s - loss: 0.4622 - accuracy: 0.8285 - val_loss: 0.6974 - val_accuracy: 0.7304 - lr: 0.0010 - 8s/epoch - 219ms/step
