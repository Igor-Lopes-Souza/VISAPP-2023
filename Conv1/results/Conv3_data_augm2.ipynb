Loss: huber_loss
Epoch number: 100
fitting with batch size: 20
Epoch 1/100
4378/4378 - 81s - loss: 0.0524 - accuracy: 0.5997 - val_loss: 0.0446 - val_accuracy: 0.6496 - lr: 0.0010 - 81s/epoch - 19ms/step
Epoch 2/100
4378/4378 - 68s - loss: 0.0460 - accuracy: 0.6629 - val_loss: 0.0550 - val_accuracy: 0.6258 - lr: 0.0010 - 68s/epoch - 16ms/step
Epoch 3/100
4378/4378 - 68s - loss: 0.0443 - accuracy: 0.6771 - val_loss: 0.0475 - val_accuracy: 0.6987 - lr: 0.0010 - 68s/epoch - 15ms/step
Epoch 4/100
4378/4378 - 68s - loss: 0.0434 - accuracy: 0.6836 - val_loss: 0.0468 - val_accuracy: 0.6881 - lr: 0.0010 - 68s/epoch - 16ms/step
Epoch 5/100
4378/4378 - 68s - loss: 0.0427 - accuracy: 0.6899 - val_loss: 0.0509 - val_accuracy: 0.6724 - lr: 0.0010 - 68s/epoch - 16ms/step
Epoch 6/100
4378/4378 - 67s - loss: 0.0422 - accuracy: 0.6935 - val_loss: 0.0455 - val_accuracy: 0.7388 - lr: 0.0010 - 67s/epoch - 15ms/step
Epoch 7/100
4378/4378 - 68s - loss: 0.0417 - accuracy: 0.6987 - val_loss: 0.0449 - val_accuracy: 0.6953 - lr: 0.0010 - 68s/epoch - 15ms/step
Epoch 8/100
4378/4378 - 67s - loss: 0.0414 - accuracy: 0.7018 - val_loss: 0.0440 - val_accuracy: 0.7168 - lr: 0.0010 - 67s/epoch - 15ms/step
Epoch 9/100
4378/4378 - 67s - loss: 0.0411 - accuracy: 0.7029 - val_loss: 0.0406 - val_accuracy: 0.7611 - lr: 0.0010 - 67s/epoch - 15ms/step
Epoch 10/100
4378/4378 - 67s - loss: 0.0409 - accuracy: 0.7044 - val_loss: 0.0457 - val_accuracy: 0.7139 - lr: 0.0010 - 67s/epoch - 15ms/step
Epoch 11/100
4378/4378 - 67s - loss: 0.0405 - accuracy: 0.7086 - val_loss: 0.0422 - val_accuracy: 0.7477 - lr: 0.0010 - 67s/epoch - 15ms/step
Epoch 12/100
4378/4378 - 68s - loss: 0.0403 - accuracy: 0.7093 - val_loss: 0.0432 - val_accuracy: 0.7148 - lr: 0.0010 - 68s/epoch - 15ms/step
Epoch 13/100
4378/4378 - 67s - loss: 0.0401 - accuracy: 0.7106 - val_loss: 0.0448 - val_accuracy: 0.7262 - lr: 0.0010 - 67s/epoch - 15ms/step
Epoch 14/100
4378/4378 - 67s - loss: 0.0400 - accuracy: 0.7129 - val_loss: 0.0450 - val_accuracy: 0.7045 - lr: 0.0010 - 67s/epoch - 15ms/step
Epoch 15/100
4378/4378 - 67s - loss: 0.0399 - accuracy: 0.7144 - val_loss: 0.0433 - val_accuracy: 0.6971 - lr: 0.0010 - 67s/epoch - 15ms/step
Epoch 16/100
4378/4378 - 67s - loss: 0.0397 - accuracy: 0.7147 - val_loss: 0.0378 - val_accuracy: 0.7659 - lr: 0.0010 - 67s/epoch - 15ms/step
Epoch 17/100
4378/4378 - 67s - loss: 0.0394 - accuracy: 0.7158 - val_loss: 0.0409 - val_accuracy: 0.7530 - lr: 0.0010 - 67s/epoch - 15ms/step
Epoch 18/100
4378/4378 - 67s - loss: 0.0392 - accuracy: 0.7192 - val_loss: 0.0470 - val_accuracy: 0.6940 - lr: 0.0010 - 67s/epoch - 15ms/step
Epoch 19/100
4378/4378 - 68s - loss: 0.0392 - accuracy: 0.7191 - val_loss: 0.0364 - val_accuracy: 0.7820 - lr: 0.0010 - 68s/epoch - 15ms/step
Epoch 20/100
4378/4378 - 67s - loss: 0.0391 - accuracy: 0.7194 - val_loss: 0.0338 - val_accuracy: 0.7880 - lr: 0.0010 - 67s/epoch - 15ms/step
Epoch 21/100
4378/4378 - 67s - loss: 0.0389 - accuracy: 0.7212 - val_loss: 0.0437 - val_accuracy: 0.7507 - lr: 0.0010 - 67s/epoch - 15ms/step
Epoch 22/100
4378/4378 - 67s - loss: 0.0389 - accuracy: 0.7212 - val_loss: 0.0447 - val_accuracy: 0.7296 - lr: 0.0010 - 67s/epoch - 15ms/step
Epoch 23/100
4378/4378 - 67s - loss: 0.0387 - accuracy: 0.7222 - val_loss: 0.0420 - val_accuracy: 0.7282 - lr: 0.0010 - 67s/epoch - 15ms/step
Epoch 24/100
4378/4378 - 67s - loss: 0.0386 - accuracy: 0.7244 - val_loss: 0.0510 - val_accuracy: 0.6744 - lr: 0.0010 - 67s/epoch - 15ms/step
Epoch 25/100
4378/4378 - 67s - loss: 0.0387 - accuracy: 0.7239 - val_loss: 0.0410 - val_accuracy: 0.7552 - lr: 0.0010 - 67s/epoch - 15ms/step
Epoch 26/100
4378/4378 - 67s - loss: 0.0385 - accuracy: 0.7261 - val_loss: 0.0423 - val_accuracy: 0.7244 - lr: 0.0010 - 67s/epoch - 15ms/step
Epoch 27/100
4378/4378 - 67s - loss: 0.0383 - accuracy: 0.7254 - val_loss: 0.0476 - val_accuracy: 0.7032 - lr: 0.0010 - 67s/epoch - 15ms/step
Epoch 28/100
4378/4378 - 67s - loss: 0.0381 - accuracy: 0.7278 - val_loss: 0.0395 - val_accuracy: 0.7555 - lr: 0.0010 - 67s/epoch - 15ms/step
Epoch 29/100
4378/4378 - 67s - loss: 0.0382 - accuracy: 0.7267 - val_loss: 0.0376 - val_accuracy: 0.7709 - lr: 0.0010 - 67s/epoch - 15ms/step
Epoch 30/100
4378/4378 - 67s - loss: 0.0380 - accuracy: 0.7284 - val_loss: 0.0439 - val_accuracy: 0.6998 - lr: 0.0010 - 67s/epoch - 15ms/step
Epoch 31/100
4378/4378 - 67s - loss: 0.0380 - accuracy: 0.7291 - val_loss: 0.0473 - val_accuracy: 0.7043 - lr: 0.0010 - 67s/epoch - 15ms/step
Epoch 32/100
4378/4378 - 67s - loss: 0.0381 - accuracy: 0.7276 - val_loss: 0.0381 - val_accuracy: 0.7716 - lr: 0.0010 - 67s/epoch - 15ms/step
Epoch 33/100
4378/4378 - 67s - loss: 0.0379 - accuracy: 0.7303 - val_loss: 0.0467 - val_accuracy: 0.7152 - lr: 0.0010 - 67s/epoch - 15ms/step
Epoch 34/100
4378/4378 - 67s - loss: 0.0377 - accuracy: 0.7324 - val_loss: 0.0392 - val_accuracy: 0.7484 - lr: 0.0010 - 67s/epoch - 15ms/step
Epoch 35/100
4378/4378 - 67s - loss: 0.0378 - accuracy: 0.7321 - val_loss: 0.0465 - val_accuracy: 0.6852 - lr: 0.0010 - 67s/epoch - 15ms/step
Epoch 36/100
4378/4378 - 68s - loss: 0.0376 - accuracy: 0.7332 - val_loss: 0.0398 - val_accuracy: 0.7681 - lr: 0.0010 - 68s/epoch - 15ms/step
Epoch 37/100
4378/4378 - 67s - loss: 0.0373 - accuracy: 0.7346 - val_loss: 0.0420 - val_accuracy: 0.7817 - lr: 0.0010 - 67s/epoch - 15ms/step
Epoch 38/100
4378/4378 - 67s - loss: 0.0375 - accuracy: 0.7344 - val_loss: 0.0359 - val_accuracy: 0.7727 - lr: 0.0010 - 67s/epoch - 15ms/step
Epoch 39/100
4378/4378 - 67s - loss: 0.0373 - accuracy: 0.7342 - val_loss: 0.0368 - val_accuracy: 0.7626 - lr: 0.0010 - 67s/epoch - 15ms/step
Epoch 40/100
4378/4378 - 67s - loss: 0.0372 - accuracy: 0.7354 - val_loss: 0.0391 - val_accuracy: 0.7603 - lr: 0.0010 - 67s/epoch - 15ms/step
Epoch 41/100
4378/4378 - 67s - loss: 0.0372 - accuracy: 0.7370 - val_loss: 0.0384 - val_accuracy: 0.7777 - lr: 0.0010 - 67s/epoch - 15ms/step
Epoch 42/100
4378/4378 - 67s - loss: 0.0371 - accuracy: 0.7379 - val_loss: 0.0389 - val_accuracy: 0.7761 - lr: 0.0010 - 67s/epoch - 15ms/step
Epoch 43/100
4378/4378 - 67s - loss: 0.0370 - accuracy: 0.7382 - val_loss: 0.0385 - val_accuracy: 0.7707 - lr: 0.0010 - 67s/epoch - 15ms/step
Epoch 44/100
4378/4378 - 67s - loss: 0.0370 - accuracy: 0.7383 - val_loss: 0.0501 - val_accuracy: 0.6766 - lr: 0.0010 - 67s/epoch - 15ms/step
Epoch 45/100
4378/4378 - 67s - loss: 0.0370 - accuracy: 0.7391 - val_loss: 0.0417 - val_accuracy: 0.7455 - lr: 0.0010 - 67s/epoch - 15ms/step
Epoch 46/100
4378/4378 - 67s - loss: 0.0368 - accuracy: 0.7402 - val_loss: 0.0383 - val_accuracy: 0.7695 - lr: 0.0010 - 67s/epoch - 15ms/step
Epoch 47/100
4378/4378 - 68s - loss: 0.0367 - accuracy: 0.7409 - val_loss: 0.0467 - val_accuracy: 0.7357 - lr: 0.0010 - 68s/epoch - 15ms/step
Epoch 48/100
4378/4378 - 68s - loss: 0.0366 - accuracy: 0.7435 - val_loss: 0.0395 - val_accuracy: 0.7582 - lr: 0.0010 - 68s/epoch - 15ms/step
Epoch 49/100
4378/4378 - 67s - loss: 0.0367 - accuracy: 0.7399 - val_loss: 0.0394 - val_accuracy: 0.7606 - lr: 0.0010 - 67s/epoch - 15ms/step
Epoch 50/100
4378/4378 - 68s - loss: 0.0365 - accuracy: 0.7417 - val_loss: 0.0387 - val_accuracy: 0.7754 - lr: 0.0010 - 68s/epoch - 15ms/step
Epoch 51/100
4378/4378 - 68s - loss: 0.0367 - accuracy: 0.7406 - val_loss: 0.0395 - val_accuracy: 0.7574 - lr: 0.0010 - 68s/epoch - 15ms/step
Epoch 52/100
4378/4378 - 68s - loss: 0.0365 - accuracy: 0.7431 - val_loss: 0.0399 - val_accuracy: 0.7539 - lr: 0.0010 - 68s/epoch - 15ms/step
Epoch 53/100
4378/4378 - 67s - loss: 0.0365 - accuracy: 0.7432 - val_loss: 0.0455 - val_accuracy: 0.6937 - lr: 0.0010 - 67s/epoch - 15ms/step
Epoch 54/100
4378/4378 - 67s - loss: 0.0366 - accuracy: 0.7420 - val_loss: 0.0418 - val_accuracy: 0.7566 - lr: 0.0010 - 67s/epoch - 15ms/step
Epoch 55/100
4378/4378 - 67s - loss: 0.0364 - accuracy: 0.7442 - val_loss: 0.0318 - val_accuracy: 0.8140 - lr: 0.0010 - 67s/epoch - 15ms/step
Epoch 56/100
4378/4378 - 67s - loss: 0.0363 - accuracy: 0.7447 - val_loss: 0.0416 - val_accuracy: 0.7633 - lr: 0.0010 - 67s/epoch - 15ms/step
Epoch 57/100
4378/4378 - 67s - loss: 0.0363 - accuracy: 0.7450 - val_loss: 0.0388 - val_accuracy: 0.7768 - lr: 0.0010 - 67s/epoch - 15ms/step
Epoch 58/100
4378/4378 - 67s - loss: 0.0364 - accuracy: 0.7428 - val_loss: 0.0357 - val_accuracy: 0.8007 - lr: 0.0010 - 67s/epoch - 15ms/step
Epoch 59/100
4378/4378 - 68s - loss: 0.0362 - accuracy: 0.7452 - val_loss: 0.0372 - val_accuracy: 0.7616 - lr: 0.0010 - 68s/epoch - 15ms/step
Epoch 60/100
4378/4378 - 67s - loss: 0.0362 - accuracy: 0.7462 - val_loss: 0.0338 - val_accuracy: 0.7815 - lr: 0.0010 - 67s/epoch - 15ms/step
Epoch 61/100
4378/4378 - 68s - loss: 0.0362 - accuracy: 0.7448 - val_loss: 0.0360 - val_accuracy: 0.7929 - lr: 0.0010 - 68s/epoch - 15ms/step
Epoch 62/100
4378/4378 - 67s - loss: 0.0359 - accuracy: 0.7472 - val_loss: 0.0354 - val_accuracy: 0.7919 - lr: 0.0010 - 67s/epoch - 15ms/step
Epoch 63/100
4378/4378 - 68s - loss: 0.0359 - accuracy: 0.7477 - val_loss: 0.0379 - val_accuracy: 0.7644 - lr: 0.0010 - 68s/epoch - 15ms/step
Epoch 64/100
4378/4378 - 67s - loss: 0.0360 - accuracy: 0.7464 - val_loss: 0.0380 - val_accuracy: 0.7515 - lr: 0.0010 - 67s/epoch - 15ms/step
Epoch 65/100
4378/4378 - 67s - loss: 0.0359 - accuracy: 0.7471 - val_loss: 0.0456 - val_accuracy: 0.7329 - lr: 0.0010 - 67s/epoch - 15ms/step
Epoch 66/100
4378/4378 - 67s - loss: 0.0359 - accuracy: 0.7480 - val_loss: 0.0439 - val_accuracy: 0.7210 - lr: 0.0010 - 67s/epoch - 15ms/step
Epoch 67/100
4378/4378 - 68s - loss: 0.0358 - accuracy: 0.7484 - val_loss: 0.0382 - val_accuracy: 0.7604 - lr: 0.0010 - 68s/epoch - 15ms/step
Epoch 68/100
4378/4378 - 67s - loss: 0.0357 - accuracy: 0.7488 - val_loss: 0.0372 - val_accuracy: 0.7770 - lr: 0.0010 - 67s/epoch - 15ms/step
Epoch 69/100
4378/4378 - 68s - loss: 0.0357 - accuracy: 0.7506 - val_loss: 0.0376 - val_accuracy: 0.7718 - lr: 0.0010 - 68s/epoch - 15ms/step
Epoch 70/100
4378/4378 - 68s - loss: 0.0357 - accuracy: 0.7501 - val_loss: 0.0450 - val_accuracy: 0.7061 - lr: 0.0010 - 68s/epoch - 15ms/step
Epoch 71/100
4378/4378 - 68s - loss: 0.0357 - accuracy: 0.7489 - val_loss: 0.0320 - val_accuracy: 0.8106 - lr: 0.0010 - 68s/epoch - 15ms/step
Epoch 72/100
4378/4378 - 67s - loss: 0.0357 - accuracy: 0.7503 - val_loss: 0.0384 - val_accuracy: 0.7595 - lr: 0.0010 - 67s/epoch - 15ms/step
Epoch 73/100
4378/4378 - 68s - loss: 0.0357 - accuracy: 0.7510 - val_loss: 0.0476 - val_accuracy: 0.7445 - lr: 0.0010 - 68s/epoch - 15ms/step
Epoch 74/100
4378/4378 - 67s - loss: 0.0355 - accuracy: 0.7518 - val_loss: 0.0381 - val_accuracy: 0.7583 - lr: 0.0010 - 67s/epoch - 15ms/step
Epoch 75/100
4378/4378 - 67s - loss: 0.0356 - accuracy: 0.7502 - val_loss: 0.0453 - val_accuracy: 0.7594 - lr: 0.0010 - 67s/epoch - 15ms/step
Epoch 76/100
4378/4378 - 67s - loss: 0.0355 - accuracy: 0.7515 - val_loss: 0.0370 - val_accuracy: 0.7838 - lr: 0.0010 - 67s/epoch - 15ms/step
Epoch 77/100
4378/4378 - 67s - loss: 0.0353 - accuracy: 0.7534 - val_loss: 0.0348 - val_accuracy: 0.8085 - lr: 0.0010 - 67s/epoch - 15ms/step
Epoch 78/100
4378/4378 - 67s - loss: 0.0354 - accuracy: 0.7521 - val_loss: 0.0342 - val_accuracy: 0.7932 - lr: 0.0010 - 67s/epoch - 15ms/step
Epoch 79/100
4378/4378 - 67s - loss: 0.0353 - accuracy: 0.7544 - val_loss: 0.0370 - val_accuracy: 0.7936 - lr: 0.0010 - 67s/epoch - 15ms/step
Epoch 80/100
4378/4378 - 67s - loss: 0.0353 - accuracy: 0.7549 - val_loss: 0.0424 - val_accuracy: 0.7632 - lr: 0.0010 - 67s/epoch - 15ms/step
Epoch 81/100
4378/4378 - 67s - loss: 0.0352 - accuracy: 0.7536 - val_loss: 0.0370 - val_accuracy: 0.7653 - lr: 0.0010 - 67s/epoch - 15ms/step
Epoch 82/100
4378/4378 - 67s - loss: 0.0353 - accuracy: 0.7528 - val_loss: 0.0389 - val_accuracy: 0.7992 - lr: 0.0010 - 67s/epoch - 15ms/step
Epoch 83/100
4378/4378 - 67s - loss: 0.0352 - accuracy: 0.7534 - val_loss: 0.0447 - val_accuracy: 0.7241 - lr: 0.0010 - 67s/epoch - 15ms/step
Epoch 84/100
4378/4378 - 67s - loss: 0.0353 - accuracy: 0.7540 - val_loss: 0.0377 - val_accuracy: 0.7827 - lr: 0.0010 - 67s/epoch - 15ms/step
Epoch 85/100
4378/4378 - 67s - loss: 0.0352 - accuracy: 0.7541 - val_loss: 0.0397 - val_accuracy: 0.7727 - lr: 0.0010 - 67s/epoch - 15ms/step
Epoch 86/100
4378/4378 - 68s - loss: 0.0352 - accuracy: 0.7548 - val_loss: 0.0414 - val_accuracy: 0.7535 - lr: 0.0010 - 68s/epoch - 15ms/step
Epoch 87/100
4378/4378 - 67s - loss: 0.0350 - accuracy: 0.7557 - val_loss: 0.0427 - val_accuracy: 0.7468 - lr: 0.0010 - 67s/epoch - 15ms/step
Epoch 88/100
4378/4378 - 67s - loss: 0.0351 - accuracy: 0.7555 - val_loss: 0.0334 - val_accuracy: 0.8158 - lr: 0.0010 - 67s/epoch - 15ms/step
Epoch 89/100
4378/4378 - 67s - loss: 0.0349 - accuracy: 0.7559 - val_loss: 0.0418 - val_accuracy: 0.7626 - lr: 0.0010 - 67s/epoch - 15ms/step
Epoch 90/100
4378/4378 - 67s - loss: 0.0351 - accuracy: 0.7564 - val_loss: 0.0441 - val_accuracy: 0.7243 - lr: 0.0010 - 67s/epoch - 15ms/step
Epoch 91/100
4378/4378 - 67s - loss: 0.0350 - accuracy: 0.7556 - val_loss: 0.0349 - val_accuracy: 0.8129 - lr: 0.0010 - 67s/epoch - 15ms/step
Epoch 92/100
4378/4378 - 67s - loss: 0.0350 - accuracy: 0.7570 - val_loss: 0.0372 - val_accuracy: 0.7829 - lr: 0.0010 - 67s/epoch - 15ms/step
Epoch 93/100
4378/4378 - 67s - loss: 0.0349 - accuracy: 0.7572 - val_loss: 0.0419 - val_accuracy: 0.7368 - lr: 0.0010 - 67s/epoch - 15ms/step
Epoch 94/100
4378/4378 - 67s - loss: 0.0347 - accuracy: 0.7585 - val_loss: 0.0415 - val_accuracy: 0.7595 - lr: 0.0010 - 67s/epoch - 15ms/step
Epoch 95/100
4378/4378 - 67s - loss: 0.0349 - accuracy: 0.7565 - val_loss: 0.0409 - val_accuracy: 0.7505 - lr: 0.0010 - 67s/epoch - 15ms/step
Epoch 96/100
4378/4378 - 67s - loss: 0.0349 - accuracy: 0.7569 - val_loss: 0.0367 - val_accuracy: 0.7765 - lr: 0.0010 - 67s/epoch - 15ms/step
Epoch 97/100
4378/4378 - 67s - loss: 0.0349 - accuracy: 0.7575 - val_loss: 0.0392 - val_accuracy: 0.7791 - lr: 0.0010 - 67s/epoch - 15ms/step
Epoch 98/100
4378/4378 - 67s - loss: 0.0347 - accuracy: 0.7596 - val_loss: 0.0416 - val_accuracy: 0.7593 - lr: 0.0010 - 67s/epoch - 15ms/step
Epoch 99/100
4378/4378 - 67s - loss: 0.0345 - accuracy: 0.7587 - val_loss: 0.0357 - val_accuracy: 0.8023 - lr: 0.0010 - 67s/epoch - 15ms/step
Epoch 100/100
4378/4378 - 68s - loss: 0.0347 - accuracy: 0.7589 - val_loss: 0.0406 - val_accuracy: 0.7579 - lr: 0.0010 - 68s/epoch - 15ms/step
fitting with batch size: 100
Epoch 1/100
876/876 - 20s - loss: 0.0320 - accuracy: 0.7783 - val_loss: 0.0359 - val_accuracy: 0.7807 - lr: 0.0010 - 20s/epoch - 23ms/step
Epoch 2/100
876/876 - 17s - loss: 0.0313 - accuracy: 0.7849 - val_loss: 0.0375 - val_accuracy: 0.7699 - lr: 0.0010 - 17s/epoch - 19ms/step
Epoch 3/100
876/876 - 17s - loss: 0.0309 - accuracy: 0.7880 - val_loss: 0.0348 - val_accuracy: 0.7870 - lr: 0.0010 - 17s/epoch - 19ms/step
Epoch 4/100
876/876 - 17s - loss: 0.0305 - accuracy: 0.7910 - val_loss: 0.0396 - val_accuracy: 0.7400 - lr: 0.0010 - 17s/epoch - 19ms/step
Epoch 5/100
876/876 - 17s - loss: 0.0303 - accuracy: 0.7919 - val_loss: 0.0365 - val_accuracy: 0.7646 - lr: 0.0010 - 17s/epoch - 19ms/step
Epoch 6/100
876/876 - 17s - loss: 0.0301 - accuracy: 0.7934 - val_loss: 0.0357 - val_accuracy: 0.7747 - lr: 0.0010 - 17s/epoch - 19ms/step
Epoch 7/100
876/876 - 17s - loss: 0.0299 - accuracy: 0.7944 - val_loss: 0.0367 - val_accuracy: 0.7682 - lr: 0.0010 - 17s/epoch - 19ms/step
Epoch 8/100
876/876 - 17s - loss: 0.0297 - accuracy: 0.7968 - val_loss: 0.0377 - val_accuracy: 0.7608 - lr: 0.0010 - 17s/epoch - 19ms/step
Epoch 9/100
876/876 - 17s - loss: 0.0296 - accuracy: 0.7979 - val_loss: 0.0358 - val_accuracy: 0.7793 - lr: 0.0010 - 17s/epoch - 19ms/step
Epoch 10/100
876/876 - 17s - loss: 0.0294 - accuracy: 0.7993 - val_loss: 0.0373 - val_accuracy: 0.7695 - lr: 0.0010 - 17s/epoch - 19ms/step
Epoch 11/100
876/876 - 17s - loss: 0.0293 - accuracy: 0.8002 - val_loss: 0.0388 - val_accuracy: 0.7665 - lr: 0.0010 - 17s/epoch - 19ms/step
Epoch 12/100
876/876 - 17s - loss: 0.0293 - accuracy: 0.7996 - val_loss: 0.0353 - val_accuracy: 0.7871 - lr: 0.0010 - 17s/epoch - 19ms/step
Epoch 13/100
876/876 - 17s - loss: 0.0290 - accuracy: 0.8024 - val_loss: 0.0347 - val_accuracy: 0.7848 - lr: 0.0010 - 17s/epoch - 19ms/step
Epoch 14/100
876/876 - 17s - loss: 0.0289 - accuracy: 0.8025 - val_loss: 0.0392 - val_accuracy: 0.7578 - lr: 0.0010 - 17s/epoch - 19ms/step
Epoch 15/100
876/876 - 17s - loss: 0.0289 - accuracy: 0.8030 - val_loss: 0.0383 - val_accuracy: 0.7606 - lr: 0.0010 - 17s/epoch - 19ms/step
Epoch 16/100
876/876 - 17s - loss: 0.0286 - accuracy: 0.8052 - val_loss: 0.0351 - val_accuracy: 0.7882 - lr: 0.0010 - 17s/epoch - 19ms/step
Epoch 17/100
876/876 - 17s - loss: 0.0287 - accuracy: 0.8050 - val_loss: 0.0359 - val_accuracy: 0.7849 - lr: 0.0010 - 17s/epoch - 19ms/step
Epoch 18/100
876/876 - 17s - loss: 0.0286 - accuracy: 0.8057 - val_loss: 0.0394 - val_accuracy: 0.7613 - lr: 0.0010 - 17s/epoch - 19ms/step
Epoch 19/100
876/876 - 17s - loss: 0.0284 - accuracy: 0.8078 - val_loss: 0.0354 - val_accuracy: 0.7773 - lr: 0.0010 - 17s/epoch - 19ms/step
Epoch 20/100
876/876 - 17s - loss: 0.0284 - accuracy: 0.8069 - val_loss: 0.0367 - val_accuracy: 0.7741 - lr: 0.0010 - 17s/epoch - 19ms/step
Epoch 21/100
876/876 - 17s - loss: 0.0283 - accuracy: 0.8077 - val_loss: 0.0352 - val_accuracy: 0.7855 - lr: 0.0010 - 17s/epoch - 19ms/step
Epoch 22/100
876/876 - 17s - loss: 0.0282 - accuracy: 0.8089 - val_loss: 0.0349 - val_accuracy: 0.7870 - lr: 0.0010 - 17s/epoch - 19ms/step
Epoch 23/100
876/876 - 17s - loss: 0.0280 - accuracy: 0.8113 - val_loss: 0.0360 - val_accuracy: 0.7872 - lr: 0.0010 - 17s/epoch - 19ms/step
Epoch 24/100
876/876 - 17s - loss: 0.0280 - accuracy: 0.8107 - val_loss: 0.0375 - val_accuracy: 0.7661 - lr: 0.0010 - 17s/epoch - 19ms/step
Epoch 25/100
876/876 - 17s - loss: 0.0280 - accuracy: 0.8103 - val_loss: 0.0373 - val_accuracy: 0.7742 - lr: 0.0010 - 17s/epoch - 19ms/step
Epoch 26/100
876/876 - 17s - loss: 0.0279 - accuracy: 0.8119 - val_loss: 0.0356 - val_accuracy: 0.7724 - lr: 0.0010 - 17s/epoch - 19ms/step
Epoch 27/100
876/876 - 17s - loss: 0.0277 - accuracy: 0.8138 - val_loss: 0.0367 - val_accuracy: 0.7741 - lr: 0.0010 - 17s/epoch - 19ms/step
Epoch 28/100
876/876 - 17s - loss: 0.0276 - accuracy: 0.8139 - val_loss: 0.0361 - val_accuracy: 0.7854 - lr: 0.0010 - 17s/epoch - 19ms/step
Epoch 29/100
876/876 - 17s - loss: 0.0276 - accuracy: 0.8142 - val_loss: 0.0346 - val_accuracy: 0.7928 - lr: 0.0010 - 17s/epoch - 19ms/step
Epoch 30/100
876/876 - 17s - loss: 0.0277 - accuracy: 0.8137 - val_loss: 0.0407 - val_accuracy: 0.7551 - lr: 0.0010 - 17s/epoch - 19ms/step
Epoch 31/100
876/876 - 17s - loss: 0.0275 - accuracy: 0.8146 - val_loss: 0.0362 - val_accuracy: 0.7921 - lr: 0.0010 - 17s/epoch - 19ms/step
Epoch 32/100
876/876 - 17s - loss: 0.0273 - accuracy: 0.8164 - val_loss: 0.0371 - val_accuracy: 0.7776 - lr: 0.0010 - 17s/epoch - 19ms/step
Epoch 33/100
876/876 - 17s - loss: 0.0272 - accuracy: 0.8171 - val_loss: 0.0385 - val_accuracy: 0.7694 - lr: 0.0010 - 17s/epoch - 19ms/step
Epoch 34/100
876/876 - 17s - loss: 0.0273 - accuracy: 0.8170 - val_loss: 0.0384 - val_accuracy: 0.7639 - lr: 0.0010 - 17s/epoch - 19ms/step
Epoch 35/100
876/876 - 17s - loss: 0.0273 - accuracy: 0.8170 - val_loss: 0.0383 - val_accuracy: 0.7686 - lr: 0.0010 - 17s/epoch - 19ms/step
Epoch 36/100
876/876 - 17s - loss: 0.0273 - accuracy: 0.8163 - val_loss: 0.0401 - val_accuracy: 0.7464 - lr: 0.0010 - 17s/epoch - 19ms/step
Epoch 37/100
876/876 - 17s - loss: 0.0271 - accuracy: 0.8180 - val_loss: 0.0360 - val_accuracy: 0.7721 - lr: 0.0010 - 17s/epoch - 19ms/step
Epoch 38/100
876/876 - 17s - loss: 0.0271 - accuracy: 0.8172 - val_loss: 0.0365 - val_accuracy: 0.7807 - lr: 0.0010 - 17s/epoch - 19ms/step
Epoch 39/100
876/876 - 17s - loss: 0.0270 - accuracy: 0.8190 - val_loss: 0.0400 - val_accuracy: 0.7560 - lr: 0.0010 - 17s/epoch - 19ms/step
Epoch 40/100
876/876 - 17s - loss: 0.0271 - accuracy: 0.8179 - val_loss: 0.0314 - val_accuracy: 0.8106 - lr: 0.0010 - 17s/epoch - 19ms/step
Epoch 41/100
876/876 - 17s - loss: 0.0269 - accuracy: 0.8197 - val_loss: 0.0407 - val_accuracy: 0.7524 - lr: 0.0010 - 17s/epoch - 19ms/step
Epoch 42/100
876/876 - 17s - loss: 0.0269 - accuracy: 0.8196 - val_loss: 0.0357 - val_accuracy: 0.7858 - lr: 0.0010 - 17s/epoch - 19ms/step
Epoch 43/100
876/876 - 17s - loss: 0.0267 - accuracy: 0.8207 - val_loss: 0.0373 - val_accuracy: 0.7694 - lr: 0.0010 - 17s/epoch - 19ms/step
Epoch 44/100
876/876 - 17s - loss: 0.0267 - accuracy: 0.8206 - val_loss: 0.0318 - val_accuracy: 0.8055 - lr: 0.0010 - 17s/epoch - 19ms/step
Epoch 45/100
876/876 - 17s - loss: 0.0266 - accuracy: 0.8222 - val_loss: 0.0349 - val_accuracy: 0.7838 - lr: 0.0010 - 17s/epoch - 19ms/step
Epoch 46/100
876/876 - 17s - loss: 0.0266 - accuracy: 0.8220 - val_loss: 0.0334 - val_accuracy: 0.7881 - lr: 0.0010 - 17s/epoch - 19ms/step
Epoch 47/100
876/876 - 17s - loss: 0.0266 - accuracy: 0.8217 - val_loss: 0.0370 - val_accuracy: 0.7829 - lr: 0.0010 - 17s/epoch - 19ms/step
Epoch 48/100
876/876 - 17s - loss: 0.0264 - accuracy: 0.8232 - val_loss: 0.0353 - val_accuracy: 0.7814 - lr: 0.0010 - 17s/epoch - 19ms/step
Epoch 49/100
876/876 - 17s - loss: 0.0264 - accuracy: 0.8229 - val_loss: 0.0361 - val_accuracy: 0.7805 - lr: 0.0010 - 17s/epoch - 19ms/step
Epoch 50/100
876/876 - 17s - loss: 0.0265 - accuracy: 0.8228 - val_loss: 0.0358 - val_accuracy: 0.7775 - lr: 0.0010 - 17s/epoch - 19ms/step
Epoch 51/100
876/876 - 17s - loss: 0.0264 - accuracy: 0.8235 - val_loss: 0.0345 - val_accuracy: 0.7881 - lr: 0.0010 - 17s/epoch - 19ms/step
Epoch 52/100
876/876 - 17s - loss: 0.0262 - accuracy: 0.8241 - val_loss: 0.0351 - val_accuracy: 0.7875 - lr: 0.0010 - 17s/epoch - 19ms/step
Epoch 53/100
876/876 - 17s - loss: 0.0263 - accuracy: 0.8241 - val_loss: 0.0329 - val_accuracy: 0.7998 - lr: 0.0010 - 17s/epoch - 19ms/step
Epoch 54/100
876/876 - 17s - loss: 0.0261 - accuracy: 0.8257 - val_loss: 0.0354 - val_accuracy: 0.7851 - lr: 0.0010 - 17s/epoch - 19ms/step
Epoch 55/100
876/876 - 17s - loss: 0.0261 - accuracy: 0.8254 - val_loss: 0.0357 - val_accuracy: 0.7857 - lr: 0.0010 - 17s/epoch - 19ms/step
Epoch 56/100
876/876 - 17s - loss: 0.0261 - accuracy: 0.8257 - val_loss: 0.0348 - val_accuracy: 0.7818 - lr: 0.0010 - 17s/epoch - 19ms/step
Epoch 57/100
876/876 - 17s - loss: 0.0262 - accuracy: 0.8253 - val_loss: 0.0355 - val_accuracy: 0.7772 - lr: 0.0010 - 17s/epoch - 19ms/step
Epoch 58/100
876/876 - 17s - loss: 0.0260 - accuracy: 0.8262 - val_loss: 0.0351 - val_accuracy: 0.7879 - lr: 0.0010 - 17s/epoch - 19ms/step
Epoch 59/100
876/876 - 17s - loss: 0.0259 - accuracy: 0.8260 - val_loss: 0.0353 - val_accuracy: 0.7845 - lr: 0.0010 - 17s/epoch - 19ms/step
Epoch 60/100
876/876 - 17s - loss: 0.0260 - accuracy: 0.8270 - val_loss: 0.0332 - val_accuracy: 0.8017 - lr: 0.0010 - 17s/epoch - 19ms/step
Epoch 61/100
876/876 - 17s - loss: 0.0258 - accuracy: 0.8282 - val_loss: 0.0346 - val_accuracy: 0.7907 - lr: 0.0010 - 17s/epoch - 19ms/step
Epoch 62/100
876/876 - 17s - loss: 0.0260 - accuracy: 0.8270 - val_loss: 0.0424 - val_accuracy: 0.7456 - lr: 0.0010 - 17s/epoch - 19ms/step
Epoch 63/100
876/876 - 17s - loss: 0.0260 - accuracy: 0.8262 - val_loss: 0.0376 - val_accuracy: 0.7718 - lr: 0.0010 - 17s/epoch - 19ms/step
Epoch 64/100
876/876 - 17s - loss: 0.0258 - accuracy: 0.8281 - val_loss: 0.0388 - val_accuracy: 0.7700 - lr: 0.0010 - 17s/epoch - 19ms/step
Epoch 65/100
876/876 - 17s - loss: 0.0257 - accuracy: 0.8286 - val_loss: 0.0367 - val_accuracy: 0.7816 - lr: 0.0010 - 17s/epoch - 19ms/step
Epoch 66/100
876/876 - 17s - loss: 0.0257 - accuracy: 0.8292 - val_loss: 0.0372 - val_accuracy: 0.7740 - lr: 0.0010 - 17s/epoch - 19ms/step
Epoch 67/100
876/876 - 17s - loss: 0.0257 - accuracy: 0.8286 - val_loss: 0.0314 - val_accuracy: 0.8039 - lr: 0.0010 - 17s/epoch - 19ms/step
Epoch 68/100
876/876 - 17s - loss: 0.0256 - accuracy: 0.8296 - val_loss: 0.0370 - val_accuracy: 0.7798 - lr: 0.0010 - 17s/epoch - 19ms/step
Epoch 69/100
876/876 - 17s - loss: 0.0256 - accuracy: 0.8285 - val_loss: 0.0356 - val_accuracy: 0.7918 - lr: 0.0010 - 17s/epoch - 19ms/step
Epoch 70/100
876/876 - 17s - loss: 0.0257 - accuracy: 0.8287 - val_loss: 0.0328 - val_accuracy: 0.7955 - lr: 0.0010 - 17s/epoch - 19ms/step
Epoch 71/100
876/876 - 17s - loss: 0.0258 - accuracy: 0.8281 - val_loss: 0.0371 - val_accuracy: 0.7747 - lr: 0.0010 - 17s/epoch - 19ms/step
Epoch 72/100
876/876 - 17s - loss: 0.0257 - accuracy: 0.8289 - val_loss: 0.0371 - val_accuracy: 0.7738 - lr: 0.0010 - 17s/epoch - 19ms/step
Epoch 73/100
876/876 - 17s - loss: 0.0256 - accuracy: 0.8295 - val_loss: 0.0342 - val_accuracy: 0.7950 - lr: 0.0010 - 17s/epoch - 19ms/step
Epoch 74/100
876/876 - 17s - loss: 0.0254 - accuracy: 0.8307 - val_loss: 0.0385 - val_accuracy: 0.7713 - lr: 0.0010 - 17s/epoch - 19ms/step
Epoch 75/100
876/876 - 17s - loss: 0.0254 - accuracy: 0.8312 - val_loss: 0.0367 - val_accuracy: 0.7787 - lr: 0.0010 - 17s/epoch - 19ms/step
Epoch 76/100
876/876 - 17s - loss: 0.0254 - accuracy: 0.8308 - val_loss: 0.0367 - val_accuracy: 0.7788 - lr: 0.0010 - 17s/epoch - 19ms/step
Epoch 77/100
876/876 - 17s - loss: 0.0253 - accuracy: 0.8316 - val_loss: 0.0379 - val_accuracy: 0.7773 - lr: 0.0010 - 17s/epoch - 19ms/step
Epoch 78/100
876/876 - 17s - loss: 0.0254 - accuracy: 0.8308 - val_loss: 0.0365 - val_accuracy: 0.7813 - lr: 0.0010 - 17s/epoch - 19ms/step
Epoch 79/100
876/876 - 17s - loss: 0.0252 - accuracy: 0.8333 - val_loss: 0.0370 - val_accuracy: 0.7807 - lr: 0.0010 - 17s/epoch - 19ms/step
Epoch 80/100
876/876 - 17s - loss: 0.0255 - accuracy: 0.8306 - val_loss: 0.0409 - val_accuracy: 0.7588 - lr: 0.0010 - 17s/epoch - 19ms/step
Epoch 81/100
876/876 - 17s - loss: 0.0253 - accuracy: 0.8315 - val_loss: 0.0351 - val_accuracy: 0.7817 - lr: 0.0010 - 17s/epoch - 19ms/step
Epoch 82/100
876/876 - 17s - loss: 0.0252 - accuracy: 0.8331 - val_loss: 0.0361 - val_accuracy: 0.7943 - lr: 0.0010 - 17s/epoch - 19ms/step
Epoch 83/100
876/876 - 17s - loss: 0.0252 - accuracy: 0.8323 - val_loss: 0.0366 - val_accuracy: 0.7833 - lr: 0.0010 - 17s/epoch - 19ms/step
Epoch 84/100
876/876 - 17s - loss: 0.0251 - accuracy: 0.8327 - val_loss: 0.0375 - val_accuracy: 0.7812 - lr: 0.0010 - 17s/epoch - 19ms/step
Epoch 85/100
876/876 - 17s - loss: 0.0253 - accuracy: 0.8314 - val_loss: 0.0355 - val_accuracy: 0.7833 - lr: 0.0010 - 17s/epoch - 19ms/step
Epoch 86/100
876/876 - 17s - loss: 0.0251 - accuracy: 0.8332 - val_loss: 0.0350 - val_accuracy: 0.7907 - lr: 0.0010 - 17s/epoch - 19ms/step
Epoch 87/100
876/876 - 17s - loss: 0.0251 - accuracy: 0.8342 - val_loss: 0.0330 - val_accuracy: 0.8045 - lr: 0.0010 - 17s/epoch - 19ms/step
Epoch 88/100
876/876 - 17s - loss: 0.0251 - accuracy: 0.8333 - val_loss: 0.0366 - val_accuracy: 0.7742 - lr: 0.0010 - 17s/epoch - 19ms/step
Epoch 89/100
876/876 - 17s - loss: 0.0250 - accuracy: 0.8339 - val_loss: 0.0393 - val_accuracy: 0.7568 - lr: 0.0010 - 17s/epoch - 19ms/step
Epoch 90/100
876/876 - 17s - loss: 0.0249 - accuracy: 0.8343 - val_loss: 0.0325 - val_accuracy: 0.8009 - lr: 0.0010 - 17s/epoch - 19ms/step
Epoch 91/100
876/876 - 17s - loss: 0.0248 - accuracy: 0.8351 - val_loss: 0.0377 - val_accuracy: 0.7664 - lr: 0.0010 - 17s/epoch - 19ms/step
Epoch 92/100
876/876 - 17s - loss: 0.0249 - accuracy: 0.8343 - val_loss: 0.0381 - val_accuracy: 0.7643 - lr: 0.0010 - 17s/epoch - 19ms/step
Epoch 93/100
876/876 - 17s - loss: 0.0248 - accuracy: 0.8357 - val_loss: 0.0404 - val_accuracy: 0.7558 - lr: 0.0010 - 17s/epoch - 19ms/step
Epoch 94/100
876/876 - 17s - loss: 0.0250 - accuracy: 0.8346 - val_loss: 0.0381 - val_accuracy: 0.7674 - lr: 0.0010 - 17s/epoch - 19ms/step
Epoch 95/100
876/876 - 17s - loss: 0.0248 - accuracy: 0.8357 - val_loss: 0.0377 - val_accuracy: 0.7689 - lr: 0.0010 - 17s/epoch - 19ms/step
Epoch 96/100
876/876 - 17s - loss: 0.0249 - accuracy: 0.8344 - val_loss: 0.0373 - val_accuracy: 0.7808 - lr: 0.0010 - 17s/epoch - 19ms/step
Epoch 97/100
876/876 - 17s - loss: 0.0248 - accuracy: 0.8364 - val_loss: 0.0396 - val_accuracy: 0.7534 - lr: 0.0010 - 17s/epoch - 19ms/step
Epoch 98/100
876/876 - 17s - loss: 0.0247 - accuracy: 0.8369 - val_loss: 0.0337 - val_accuracy: 0.8021 - lr: 0.0010 - 17s/epoch - 19ms/step
Epoch 99/100
876/876 - 17s - loss: 0.0247 - accuracy: 0.8358 - val_loss: 0.0345 - val_accuracy: 0.7965 - lr: 0.0010 - 17s/epoch - 19ms/step
Epoch 100/100
876/876 - 17s - loss: 0.0246 - accuracy: 0.8369 - val_loss: 0.0376 - val_accuracy: 0.7715 - lr: 0.0010 - 17s/epoch - 19ms/step
fitting with batch size: 500
Epoch 1/100
176/176 - 11s - loss: 0.0225 - accuracy: 0.8515 - val_loss: 0.0354 - val_accuracy: 0.7882 - lr: 0.0010 - 11s/epoch - 63ms/step
Epoch 2/100
176/176 - 8s - loss: 0.0219 - accuracy: 0.8568 - val_loss: 0.0380 - val_accuracy: 0.7690 - lr: 0.0010 - 8s/epoch - 48ms/step
Epoch 3/100
176/176 - 8s - loss: 0.0218 - accuracy: 0.8568 - val_loss: 0.0347 - val_accuracy: 0.7873 - lr: 0.0010 - 8s/epoch - 48ms/step
Epoch 4/100
176/176 - 8s - loss: 0.0218 - accuracy: 0.8572 - val_loss: 0.0355 - val_accuracy: 0.7852 - lr: 0.0010 - 8s/epoch - 48ms/step
Epoch 5/100
176/176 - 8s - loss: 0.0216 - accuracy: 0.8591 - val_loss: 0.0360 - val_accuracy: 0.7752 - lr: 0.0010 - 8s/epoch - 48ms/step
Epoch 6/100
176/176 - 8s - loss: 0.0214 - accuracy: 0.8603 - val_loss: 0.0363 - val_accuracy: 0.7781 - lr: 0.0010 - 8s/epoch - 48ms/step
Epoch 7/100
176/176 - 8s - loss: 0.0214 - accuracy: 0.8610 - val_loss: 0.0371 - val_accuracy: 0.7736 - lr: 0.0010 - 8s/epoch - 48ms/step
Epoch 8/100
176/176 - 8s - loss: 0.0213 - accuracy: 0.8604 - val_loss: 0.0370 - val_accuracy: 0.7730 - lr: 0.0010 - 8s/epoch - 48ms/step
Epoch 9/100
176/176 - 8s - loss: 0.0212 - accuracy: 0.8615 - val_loss: 0.0362 - val_accuracy: 0.7776 - lr: 0.0010 - 8s/epoch - 47ms/step
Epoch 10/100
176/176 - 8s - loss: 0.0212 - accuracy: 0.8620 - val_loss: 0.0364 - val_accuracy: 0.7842 - lr: 0.0010 - 8s/epoch - 48ms/step
Epoch 11/100
176/176 - 8s - loss: 0.0210 - accuracy: 0.8623 - val_loss: 0.0377 - val_accuracy: 0.7736 - lr: 0.0010 - 8s/epoch - 48ms/step
Epoch 12/100
176/176 - 8s - loss: 0.0211 - accuracy: 0.8628 - val_loss: 0.0344 - val_accuracy: 0.7881 - lr: 0.0010 - 8s/epoch - 48ms/step
Epoch 13/100
176/176 - 8s - loss: 0.0210 - accuracy: 0.8629 - val_loss: 0.0373 - val_accuracy: 0.7720 - lr: 0.0010 - 8s/epoch - 48ms/step
Epoch 14/100
176/176 - 8s - loss: 0.0209 - accuracy: 0.8641 - val_loss: 0.0379 - val_accuracy: 0.7740 - lr: 0.0010 - 8s/epoch - 48ms/step
Epoch 15/100
176/176 - 8s - loss: 0.0208 - accuracy: 0.8651 - val_loss: 0.0370 - val_accuracy: 0.7715 - lr: 0.0010 - 8s/epoch - 48ms/step
Epoch 16/100
176/176 - 8s - loss: 0.0208 - accuracy: 0.8650 - val_loss: 0.0387 - val_accuracy: 0.7653 - lr: 0.0010 - 8s/epoch - 48ms/step
Epoch 17/100
176/176 - 8s - loss: 0.0208 - accuracy: 0.8645 - val_loss: 0.0355 - val_accuracy: 0.7848 - lr: 0.0010 - 8s/epoch - 48ms/step
Epoch 18/100
176/176 - 8s - loss: 0.0208 - accuracy: 0.8645 - val_loss: 0.0381 - val_accuracy: 0.7748 - lr: 0.0010 - 8s/epoch - 48ms/step
Epoch 19/100
176/176 - 8s - loss: 0.0207 - accuracy: 0.8656 - val_loss: 0.0379 - val_accuracy: 0.7731 - lr: 0.0010 - 8s/epoch - 48ms/step
Epoch 20/100
176/176 - 8s - loss: 0.0205 - accuracy: 0.8669 - val_loss: 0.0352 - val_accuracy: 0.7855 - lr: 0.0010 - 8s/epoch - 48ms/step
Epoch 21/100
176/176 - 8s - loss: 0.0206 - accuracy: 0.8660 - val_loss: 0.0389 - val_accuracy: 0.7640 - lr: 0.0010 - 8s/epoch - 48ms/step
Epoch 22/100
176/176 - 8s - loss: 0.0205 - accuracy: 0.8679 - val_loss: 0.0369 - val_accuracy: 0.7765 - lr: 0.0010 - 8s/epoch - 48ms/step
Epoch 23/100
176/176 - 8s - loss: 0.0206 - accuracy: 0.8669 - val_loss: 0.0372 - val_accuracy: 0.7782 - lr: 0.0010 - 8s/epoch - 48ms/step
Epoch 24/100
176/176 - 8s - loss: 0.0203 - accuracy: 0.8681 - val_loss: 0.0387 - val_accuracy: 0.7666 - lr: 0.0010 - 8s/epoch - 48ms/step
Epoch 25/100
176/176 - 8s - loss: 0.0204 - accuracy: 0.8680 - val_loss: 0.0364 - val_accuracy: 0.7820 - lr: 0.0010 - 8s/epoch - 48ms/step
Epoch 26/100
176/176 - 8s - loss: 0.0204 - accuracy: 0.8676 - val_loss: 0.0357 - val_accuracy: 0.7866 - lr: 0.0010 - 8s/epoch - 48ms/step
Epoch 27/100
176/176 - 8s - loss: 0.0203 - accuracy: 0.8684 - val_loss: 0.0383 - val_accuracy: 0.7682 - lr: 0.0010 - 8s/epoch - 48ms/step
Epoch 28/100
176/176 - 8s - loss: 0.0203 - accuracy: 0.8682 - val_loss: 0.0393 - val_accuracy: 0.7617 - lr: 0.0010 - 8s/epoch - 48ms/step
Epoch 29/100
176/176 - 8s - loss: 0.0203 - accuracy: 0.8686 - val_loss: 0.0378 - val_accuracy: 0.7730 - lr: 0.0010 - 8s/epoch - 48ms/step
Epoch 30/100
176/176 - 8s - loss: 0.0203 - accuracy: 0.8687 - val_loss: 0.0374 - val_accuracy: 0.7752 - lr: 0.0010 - 8s/epoch - 47ms/step
Epoch 31/100
176/176 - 8s - loss: 0.0202 - accuracy: 0.8692 - val_loss: 0.0388 - val_accuracy: 0.7688 - lr: 0.0010 - 8s/epoch - 48ms/step
Epoch 32/100
176/176 - 8s - loss: 0.0202 - accuracy: 0.8694 - val_loss: 0.0369 - val_accuracy: 0.7808 - lr: 0.0010 - 8s/epoch - 48ms/step
Epoch 33/100
176/176 - 8s - loss: 0.0203 - accuracy: 0.8681 - val_loss: 0.0361 - val_accuracy: 0.7851 - lr: 0.0010 - 8s/epoch - 48ms/step
Epoch 34/100
176/176 - 8s - loss: 0.0201 - accuracy: 0.8701 - val_loss: 0.0390 - val_accuracy: 0.7711 - lr: 0.0010 - 8s/epoch - 48ms/step
Epoch 35/100
176/176 - 8s - loss: 0.0201 - accuracy: 0.8699 - val_loss: 0.0375 - val_accuracy: 0.7725 - lr: 0.0010 - 8s/epoch - 48ms/step
Epoch 36/100
176/176 - 8s - loss: 0.0201 - accuracy: 0.8706 - val_loss: 0.0387 - val_accuracy: 0.7705 - lr: 0.0010 - 8s/epoch - 48ms/step
Epoch 37/100
176/176 - 8s - loss: 0.0202 - accuracy: 0.8693 - val_loss: 0.0388 - val_accuracy: 0.7670 - lr: 0.0010 - 8s/epoch - 48ms/step
Epoch 38/100
176/176 - 8s - loss: 0.0200 - accuracy: 0.8708 - val_loss: 0.0373 - val_accuracy: 0.7754 - lr: 0.0010 - 8s/epoch - 48ms/step
Epoch 39/100
176/176 - 8s - loss: 0.0200 - accuracy: 0.8706 - val_loss: 0.0383 - val_accuracy: 0.7752 - lr: 0.0010 - 8s/epoch - 48ms/step
Epoch 40/100
176/176 - 8s - loss: 0.0200 - accuracy: 0.8708 - val_loss: 0.0378 - val_accuracy: 0.7716 - lr: 0.0010 - 8s/epoch - 48ms/step
Epoch 41/100
176/176 - 8s - loss: 0.0200 - accuracy: 0.8714 - val_loss: 0.0383 - val_accuracy: 0.7712 - lr: 0.0010 - 8s/epoch - 48ms/step
Epoch 42/100
176/176 - 8s - loss: 0.0199 - accuracy: 0.8716 - val_loss: 0.0400 - val_accuracy: 0.7614 - lr: 0.0010 - 8s/epoch - 48ms/step
Epoch 43/100
176/176 - 8s - loss: 0.0200 - accuracy: 0.8707 - val_loss: 0.0393 - val_accuracy: 0.7607 - lr: 0.0010 - 8s/epoch - 48ms/step
Epoch 44/100
176/176 - 8s - loss: 0.0198 - accuracy: 0.8724 - val_loss: 0.0384 - val_accuracy: 0.7733 - lr: 0.0010 - 8s/epoch - 48ms/step
Epoch 45/100
176/176 - 8s - loss: 0.0199 - accuracy: 0.8722 - val_loss: 0.0382 - val_accuracy: 0.7729 - lr: 0.0010 - 8s/epoch - 48ms/step
Epoch 46/100
176/176 - 8s - loss: 0.0198 - accuracy: 0.8719 - val_loss: 0.0401 - val_accuracy: 0.7704 - lr: 0.0010 - 8s/epoch - 47ms/step
Epoch 47/100
176/176 - 8s - loss: 0.0199 - accuracy: 0.8724 - val_loss: 0.0374 - val_accuracy: 0.7775 - lr: 0.0010 - 8s/epoch - 48ms/step
Epoch 48/100
176/176 - 8s - loss: 0.0199 - accuracy: 0.8716 - val_loss: 0.0386 - val_accuracy: 0.7709 - lr: 0.0010 - 8s/epoch - 48ms/step
Epoch 49/100
176/176 - 8s - loss: 0.0196 - accuracy: 0.8731 - val_loss: 0.0383 - val_accuracy: 0.7703 - lr: 0.0010 - 8s/epoch - 48ms/step
Epoch 50/100
176/176 - 8s - loss: 0.0200 - accuracy: 0.8711 - val_loss: 0.0394 - val_accuracy: 0.7649 - lr: 0.0010 - 8s/epoch - 48ms/step
Epoch 51/100
176/176 - 8s - loss: 0.0196 - accuracy: 0.8737 - val_loss: 0.0400 - val_accuracy: 0.7609 - lr: 0.0010 - 8s/epoch - 48ms/step
Epoch 52/100
176/176 - 8s - loss: 0.0196 - accuracy: 0.8729 - val_loss: 0.0381 - val_accuracy: 0.7717 - lr: 0.0010 - 8s/epoch - 48ms/step
Epoch 53/100
176/176 - 8s - loss: 0.0197 - accuracy: 0.8737 - val_loss: 0.0364 - val_accuracy: 0.7841 - lr: 0.0010 - 8s/epoch - 48ms/step
Epoch 54/100
176/176 - 8s - loss: 0.0195 - accuracy: 0.8749 - val_loss: 0.0384 - val_accuracy: 0.7723 - lr: 0.0010 - 8s/epoch - 48ms/step
Epoch 55/100
176/176 - 8s - loss: 0.0196 - accuracy: 0.8739 - val_loss: 0.0388 - val_accuracy: 0.7687 - lr: 0.0010 - 8s/epoch - 48ms/step
Epoch 56/100
176/176 - 8s - loss: 0.0196 - accuracy: 0.8737 - val_loss: 0.0395 - val_accuracy: 0.7649 - lr: 0.0010 - 8s/epoch - 48ms/step
Epoch 57/100
176/176 - 8s - loss: 0.0197 - accuracy: 0.8736 - val_loss: 0.0384 - val_accuracy: 0.7714 - lr: 0.0010 - 8s/epoch - 48ms/step
Epoch 58/100
176/176 - 8s - loss: 0.0196 - accuracy: 0.8739 - val_loss: 0.0379 - val_accuracy: 0.7770 - lr: 0.0010 - 8s/epoch - 48ms/step
Epoch 59/100
176/176 - 8s - loss: 0.0198 - accuracy: 0.8725 - val_loss: 0.0382 - val_accuracy: 0.7751 - lr: 0.0010 - 8s/epoch - 48ms/step
Epoch 60/100
176/176 - 8s - loss: 0.0195 - accuracy: 0.8749 - val_loss: 0.0384 - val_accuracy: 0.7767 - lr: 0.0010 - 8s/epoch - 48ms/step
Epoch 61/100
176/176 - 8s - loss: 0.0196 - accuracy: 0.8741 - val_loss: 0.0380 - val_accuracy: 0.7785 - lr: 0.0010 - 8s/epoch - 47ms/step
Epoch 62/100
176/176 - 8s - loss: 0.0196 - accuracy: 0.8746 - val_loss: 0.0394 - val_accuracy: 0.7680 - lr: 0.0010 - 8s/epoch - 47ms/step
Epoch 63/100
176/176 - 8s - loss: 0.0194 - accuracy: 0.8752 - val_loss: 0.0383 - val_accuracy: 0.7729 - lr: 0.0010 - 8s/epoch - 48ms/step
Epoch 64/100
176/176 - 8s - loss: 0.0196 - accuracy: 0.8744 - val_loss: 0.0379 - val_accuracy: 0.7751 - lr: 0.0010 - 8s/epoch - 48ms/step
Epoch 65/100
176/176 - 8s - loss: 0.0194 - accuracy: 0.8748 - val_loss: 0.0386 - val_accuracy: 0.7729 - lr: 0.0010 - 8s/epoch - 48ms/step
Epoch 66/100
176/176 - 8s - loss: 0.0195 - accuracy: 0.8751 - val_loss: 0.0384 - val_accuracy: 0.7727 - lr: 0.0010 - 8s/epoch - 48ms/step
Epoch 67/100
176/176 - 8s - loss: 0.0194 - accuracy: 0.8761 - val_loss: 0.0387 - val_accuracy: 0.7706 - lr: 0.0010 - 8s/epoch - 48ms/step
Epoch 68/100
176/176 - 8s - loss: 0.0194 - accuracy: 0.8753 - val_loss: 0.0390 - val_accuracy: 0.7676 - lr: 0.0010 - 8s/epoch - 48ms/step
Epoch 69/100
176/176 - 8s - loss: 0.0194 - accuracy: 0.8761 - val_loss: 0.0382 - val_accuracy: 0.7752 - lr: 0.0010 - 8s/epoch - 48ms/step
Epoch 70/100
176/176 - 8s - loss: 0.0194 - accuracy: 0.8759 - val_loss: 0.0384 - val_accuracy: 0.7749 - lr: 0.0010 - 8s/epoch - 48ms/step
Epoch 71/100
176/176 - 8s - loss: 0.0194 - accuracy: 0.8756 - val_loss: 0.0390 - val_accuracy: 0.7684 - lr: 0.0010 - 8s/epoch - 48ms/step
Epoch 72/100
176/176 - 8s - loss: 0.0194 - accuracy: 0.8761 - val_loss: 0.0375 - val_accuracy: 0.7742 - lr: 0.0010 - 8s/epoch - 48ms/step
Epoch 73/100
176/176 - 8s - loss: 0.0193 - accuracy: 0.8763 - val_loss: 0.0387 - val_accuracy: 0.7728 - lr: 0.0010 - 8s/epoch - 47ms/step
Epoch 74/100
176/176 - 8s - loss: 0.0194 - accuracy: 0.8755 - val_loss: 0.0393 - val_accuracy: 0.7696 - lr: 0.0010 - 8s/epoch - 47ms/step
Epoch 75/100
176/176 - 8s - loss: 0.0194 - accuracy: 0.8757 - val_loss: 0.0390 - val_accuracy: 0.7718 - lr: 0.0010 - 8s/epoch - 48ms/step
Epoch 76/100
176/176 - 8s - loss: 0.0193 - accuracy: 0.8767 - val_loss: 0.0378 - val_accuracy: 0.7801 - lr: 0.0010 - 8s/epoch - 48ms/step
Epoch 77/100
176/176 - 8s - loss: 0.0194 - accuracy: 0.8752 - val_loss: 0.0392 - val_accuracy: 0.7707 - lr: 0.0010 - 8s/epoch - 48ms/step
Epoch 78/100
176/176 - 8s - loss: 0.0193 - accuracy: 0.8762 - val_loss: 0.0399 - val_accuracy: 0.7643 - lr: 0.0010 - 8s/epoch - 48ms/step
Epoch 79/100
176/176 - 8s - loss: 0.0193 - accuracy: 0.8772 - val_loss: 0.0389 - val_accuracy: 0.7737 - lr: 0.0010 - 8s/epoch - 48ms/step
Epoch 80/100
176/176 - 8s - loss: 0.0192 - accuracy: 0.8772 - val_loss: 0.0398 - val_accuracy: 0.7704 - lr: 0.0010 - 8s/epoch - 48ms/step
Epoch 81/100
176/176 - 8s - loss: 0.0191 - accuracy: 0.8776 - val_loss: 0.0368 - val_accuracy: 0.7826 - lr: 0.0010 - 8s/epoch - 48ms/step
Epoch 82/100
176/176 - 8s - loss: 0.0192 - accuracy: 0.8767 - val_loss: 0.0393 - val_accuracy: 0.7731 - lr: 0.0010 - 8s/epoch - 48ms/step
Epoch 83/100
176/176 - 8s - loss: 0.0193 - accuracy: 0.8763 - val_loss: 0.0382 - val_accuracy: 0.7750 - lr: 0.0010 - 8s/epoch - 48ms/step
Epoch 84/100
176/176 - 8s - loss: 0.0192 - accuracy: 0.8772 - val_loss: 0.0397 - val_accuracy: 0.7683 - lr: 0.0010 - 8s/epoch - 48ms/step
Epoch 85/100
176/176 - 8s - loss: 0.0191 - accuracy: 0.8784 - val_loss: 0.0384 - val_accuracy: 0.7734 - lr: 0.0010 - 8s/epoch - 48ms/step
Epoch 86/100
176/176 - 8s - loss: 0.0193 - accuracy: 0.8762 - val_loss: 0.0408 - val_accuracy: 0.7590 - lr: 0.0010 - 8s/epoch - 48ms/step
Epoch 87/100
176/176 - 8s - loss: 0.0190 - accuracy: 0.8783 - val_loss: 0.0393 - val_accuracy: 0.7693 - lr: 0.0010 - 8s/epoch - 47ms/step
Epoch 88/100
176/176 - 8s - loss: 0.0189 - accuracy: 0.8789 - val_loss: 0.0403 - val_accuracy: 0.7639 - lr: 0.0010 - 8s/epoch - 48ms/step
Epoch 89/100
176/176 - 8s - loss: 0.0190 - accuracy: 0.8783 - val_loss: 0.0398 - val_accuracy: 0.7679 - lr: 0.0010 - 8s/epoch - 47ms/step
Epoch 90/100
176/176 - 8s - loss: 0.0190 - accuracy: 0.8782 - val_loss: 0.0409 - val_accuracy: 0.7594 - lr: 0.0010 - 8s/epoch - 48ms/step
Epoch 91/100
176/176 - 8s - loss: 0.0190 - accuracy: 0.8780 - val_loss: 0.0393 - val_accuracy: 0.7708 - lr: 0.0010 - 8s/epoch - 48ms/step
Epoch 92/100
176/176 - 8s - loss: 0.0191 - accuracy: 0.8775 - val_loss: 0.0396 - val_accuracy: 0.7691 - lr: 0.0010 - 8s/epoch - 48ms/step
Epoch 93/100
176/176 - 8s - loss: 0.0191 - accuracy: 0.8774 - val_loss: 0.0395 - val_accuracy: 0.7696 - lr: 0.0010 - 8s/epoch - 48ms/step
Epoch 94/100
176/176 - 8s - loss: 0.0190 - accuracy: 0.8783 - val_loss: 0.0381 - val_accuracy: 0.7794 - lr: 0.0010 - 8s/epoch - 48ms/step
Epoch 95/100
176/176 - 8s - loss: 0.0191 - accuracy: 0.8780 - val_loss: 0.0406 - val_accuracy: 0.7629 - lr: 0.0010 - 8s/epoch - 48ms/step
Epoch 96/100
176/176 - 8s - loss: 0.0190 - accuracy: 0.8786 - val_loss: 0.0386 - val_accuracy: 0.7754 - lr: 0.0010 - 8s/epoch - 47ms/step
Epoch 97/100
176/176 - 8s - loss: 0.0190 - accuracy: 0.8784 - val_loss: 0.0384 - val_accuracy: 0.7773 - lr: 0.0010 - 8s/epoch - 48ms/step
Epoch 98/100
176/176 - 8s - loss: 0.0189 - accuracy: 0.8788 - val_loss: 0.0389 - val_accuracy: 0.7727 - lr: 0.0010 - 8s/epoch - 48ms/step
Epoch 99/100
176/176 - 8s - loss: 0.0189 - accuracy: 0.8789 - val_loss: 0.0389 - val_accuracy: 0.7738 - lr: 0.0010 - 8s/epoch - 47ms/step
Epoch 100/100
176/176 - 8s - loss: 0.0189 - accuracy: 0.8791 - val_loss: 0.0399 - val_accuracy: 0.7659 - lr: 0.0010 - 8s/epoch - 48ms/step
Loss: kullback_leibler_divergence
Epoch number: 100
fitting with batch size: 20
Epoch 1/100
4378/4378 - 69s - loss: 0.6854 - accuracy: 0.7780 - val_loss: 0.7440 - val_accuracy: 0.7881 - lr: 0.0010 - 69s/epoch - 16ms/step
Epoch 2/100
4378/4378 - 68s - loss: 0.6712 - accuracy: 0.7755 - val_loss: 0.7037 - val_accuracy: 0.7560 - lr: 0.0010 - 68s/epoch - 16ms/step
Epoch 3/100
4378/4378 - 69s - loss: 0.6709 - accuracy: 0.7749 - val_loss: 0.7007 - val_accuracy: 0.7730 - lr: 0.0010 - 69s/epoch - 16ms/step
Epoch 4/100
4378/4378 - 68s - loss: 0.6671 - accuracy: 0.7743 - val_loss: 0.7223 - val_accuracy: 0.7785 - lr: 0.0010 - 68s/epoch - 16ms/step
Epoch 5/100
4378/4378 - 68s - loss: 0.6665 - accuracy: 0.7734 - val_loss: 0.7164 - val_accuracy: 0.7665 - lr: 0.0010 - 68s/epoch - 16ms/step
Epoch 6/100
4378/4378 - 68s - loss: 0.6679 - accuracy: 0.7718 - val_loss: 0.7998 - val_accuracy: 0.7347 - lr: 0.0010 - 68s/epoch - 16ms/step
Epoch 7/100
4378/4378 - 69s - loss: 0.6688 - accuracy: 0.7726 - val_loss: 0.7729 - val_accuracy: 0.7415 - lr: 0.0010 - 69s/epoch - 16ms/step
Epoch 8/100
4378/4378 - 69s - loss: 0.6643 - accuracy: 0.7728 - val_loss: 0.7511 - val_accuracy: 0.7673 - lr: 0.0010 - 69s/epoch - 16ms/step
Epoch 9/100
4378/4378 - 68s - loss: 0.6641 - accuracy: 0.7718 - val_loss: 0.7522 - val_accuracy: 0.7380 - lr: 0.0010 - 68s/epoch - 16ms/step
Epoch 10/100
4378/4378 - 68s - loss: 0.6649 - accuracy: 0.7718 - val_loss: 0.7537 - val_accuracy: 0.7443 - lr: 0.0010 - 68s/epoch - 16ms/step
Epoch 11/100
4378/4378 - 68s - loss: 0.6632 - accuracy: 0.7715 - val_loss: 0.6880 - val_accuracy: 0.8034 - lr: 0.0010 - 68s/epoch - 16ms/step
Epoch 12/100
4378/4378 - 69s - loss: 0.6673 - accuracy: 0.7698 - val_loss: 0.6930 - val_accuracy: 0.7714 - lr: 0.0010 - 69s/epoch - 16ms/step
Epoch 13/100
4378/4378 - 68s - loss: 0.6641 - accuracy: 0.7702 - val_loss: 0.6974 - val_accuracy: 0.7859 - lr: 0.0010 - 68s/epoch - 16ms/step
Epoch 14/100
4378/4378 - 68s - loss: 0.6643 - accuracy: 0.7709 - val_loss: 0.6816 - val_accuracy: 0.8077 - lr: 0.0010 - 68s/epoch - 16ms/step
Epoch 15/100
4378/4378 - 69s - loss: 0.6643 - accuracy: 0.7711 - val_loss: 0.7593 - val_accuracy: 0.7484 - lr: 0.0010 - 69s/epoch - 16ms/step
Epoch 16/100
4378/4378 - 68s - loss: 0.6683 - accuracy: 0.7674 - val_loss: 0.7743 - val_accuracy: 0.7263 - lr: 0.0010 - 68s/epoch - 16ms/step
Epoch 17/100
4378/4378 - 68s - loss: 0.6632 - accuracy: 0.7695 - val_loss: 0.7653 - val_accuracy: 0.7192 - lr: 0.0010 - 68s/epoch - 16ms/step
Epoch 18/100
4378/4378 - 69s - loss: 0.6657 - accuracy: 0.7683 - val_loss: 0.7494 - val_accuracy: 0.7556 - lr: 0.0010 - 69s/epoch - 16ms/step
Epoch 19/100
4378/4378 - 68s - loss: 0.6696 - accuracy: 0.7670 - val_loss: 0.7007 - val_accuracy: 0.7727 - lr: 0.0010 - 68s/epoch - 16ms/step
Epoch 20/100
4378/4378 - 69s - loss: 0.6667 - accuracy: 0.7674 - val_loss: 0.7324 - val_accuracy: 0.7546 - lr: 0.0010 - 69s/epoch - 16ms/step
Epoch 21/100
4378/4378 - 68s - loss: 0.6666 - accuracy: 0.7667 - val_loss: 0.6493 - val_accuracy: 0.7912 - lr: 0.0010 - 68s/epoch - 16ms/step
Epoch 22/100
4378/4378 - 68s - loss: 0.6670 - accuracy: 0.7658 - val_loss: 0.7057 - val_accuracy: 0.7835 - lr: 0.0010 - 68s/epoch - 16ms/step
Epoch 23/100
4378/4378 - 68s - loss: 0.6649 - accuracy: 0.7679 - val_loss: 0.7764 - val_accuracy: 0.7404 - lr: 0.0010 - 68s/epoch - 16ms/step
Epoch 24/100
4378/4378 - 68s - loss: 0.6654 - accuracy: 0.7672 - val_loss: 0.7925 - val_accuracy: 0.7180 - lr: 0.0010 - 68s/epoch - 16ms/step
Epoch 25/100
4378/4378 - 68s - loss: 0.6636 - accuracy: 0.7671 - val_loss: 0.7475 - val_accuracy: 0.7435 - lr: 0.0010 - 68s/epoch - 16ms/step
Epoch 26/100
4378/4378 - 68s - loss: 0.6658 - accuracy: 0.7661 - val_loss: 0.6480 - val_accuracy: 0.7944 - lr: 0.0010 - 68s/epoch - 16ms/step
Epoch 27/100
4378/4378 - 68s - loss: 0.6659 - accuracy: 0.7675 - val_loss: 0.7703 - val_accuracy: 0.7156 - lr: 0.0010 - 68s/epoch - 16ms/step
Epoch 28/100
4378/4378 - 69s - loss: 0.6674 - accuracy: 0.7653 - val_loss: 0.7658 - val_accuracy: 0.7462 - lr: 0.0010 - 69s/epoch - 16ms/step
Epoch 29/100
4378/4378 - 68s - loss: 0.6651 - accuracy: 0.7656 - val_loss: 0.6987 - val_accuracy: 0.7815 - lr: 0.0010 - 68s/epoch - 16ms/step
Epoch 30/100
4378/4378 - 69s - loss: 0.6655 - accuracy: 0.7636 - val_loss: 0.6730 - val_accuracy: 0.7648 - lr: 0.0010 - 69s/epoch - 16ms/step
Epoch 31/100
4378/4378 - 68s - loss: 0.6662 - accuracy: 0.7647 - val_loss: 0.7693 - val_accuracy: 0.7294 - lr: 0.0010 - 68s/epoch - 16ms/step
Epoch 32/100
4378/4378 - 69s - loss: 0.6662 - accuracy: 0.7658 - val_loss: 0.7673 - val_accuracy: 0.7514 - lr: 0.0010 - 69s/epoch - 16ms/step
Epoch 33/100
4378/4378 - 68s - loss: 0.6663 - accuracy: 0.7647 - val_loss: 0.9529 - val_accuracy: 0.6489 - lr: 0.0010 - 68s/epoch - 16ms/step
Epoch 34/100
4378/4378 - 68s - loss: 0.6641 - accuracy: 0.7671 - val_loss: 0.6186 - val_accuracy: 0.7988 - lr: 0.0010 - 68s/epoch - 16ms/step
Epoch 35/100
4378/4378 - 69s - loss: 0.6648 - accuracy: 0.7670 - val_loss: 0.7293 - val_accuracy: 0.7486 - lr: 0.0010 - 69s/epoch - 16ms/step
Epoch 36/100
4378/4378 - 68s - loss: 0.6680 - accuracy: 0.7656 - val_loss: 0.7114 - val_accuracy: 0.7743 - lr: 0.0010 - 68s/epoch - 16ms/step
Epoch 37/100
4378/4378 - 68s - loss: 0.6656 - accuracy: 0.7649 - val_loss: 0.7624 - val_accuracy: 0.7644 - lr: 0.0010 - 68s/epoch - 16ms/step
Epoch 38/100
4378/4378 - 68s - loss: 0.6655 - accuracy: 0.7662 - val_loss: 0.7653 - val_accuracy: 0.7376 - lr: 0.0010 - 68s/epoch - 16ms/step
Epoch 39/100
4378/4378 - 68s - loss: 0.6681 - accuracy: 0.7642 - val_loss: 0.7874 - val_accuracy: 0.7339 - lr: 0.0010 - 68s/epoch - 16ms/step
Epoch 40/100
4378/4378 - 68s - loss: 0.6665 - accuracy: 0.7645 - val_loss: 0.8299 - val_accuracy: 0.6818 - lr: 0.0010 - 68s/epoch - 16ms/step
Epoch 41/100
4378/4378 - 68s - loss: 0.6622 - accuracy: 0.7657 - val_loss: 0.7363 - val_accuracy: 0.7388 - lr: 0.0010 - 68s/epoch - 16ms/step
Epoch 42/100
4378/4378 - 68s - loss: 0.6654 - accuracy: 0.7632 - val_loss: 0.7703 - val_accuracy: 0.7315 - lr: 0.0010 - 68s/epoch - 16ms/step
Epoch 43/100
4378/4378 - 68s - loss: 0.6673 - accuracy: 0.7650 - val_loss: 0.7365 - val_accuracy: 0.7612 - lr: 0.0010 - 68s/epoch - 16ms/step
Epoch 44/100
4378/4378 - 69s - loss: 0.6633 - accuracy: 0.7657 - val_loss: 0.7102 - val_accuracy: 0.7792 - lr: 0.0010 - 69s/epoch - 16ms/step
Epoch 45/100
4378/4378 - 68s - loss: 0.6692 - accuracy: 0.7614 - val_loss: 0.7637 - val_accuracy: 0.7310 - lr: 0.0010 - 68s/epoch - 16ms/step
Epoch 46/100
4378/4378 - 69s - loss: 0.6622 - accuracy: 0.7645 - val_loss: 0.6773 - val_accuracy: 0.7521 - lr: 0.0010 - 69s/epoch - 16ms/step
Epoch 47/100
4378/4378 - 69s - loss: 0.6672 - accuracy: 0.7637 - val_loss: 0.7467 - val_accuracy: 0.7681 - lr: 0.0010 - 69s/epoch - 16ms/step
Epoch 48/100
4378/4378 - 68s - loss: 0.6705 - accuracy: 0.7618 - val_loss: 0.7857 - val_accuracy: 0.7090 - lr: 0.0010 - 68s/epoch - 16ms/step
Epoch 49/100
4378/4378 - 68s - loss: 0.6670 - accuracy: 0.7632 - val_loss: 0.8036 - val_accuracy: 0.7428 - lr: 0.0010 - 68s/epoch - 16ms/step
Epoch 50/100
4378/4378 - 68s - loss: 0.6654 - accuracy: 0.7632 - val_loss: 0.7337 - val_accuracy: 0.7453 - lr: 0.0010 - 68s/epoch - 16ms/step
Epoch 51/100
4378/4378 - 68s - loss: 0.6708 - accuracy: 0.7629 - val_loss: 0.7582 - val_accuracy: 0.7415 - lr: 0.0010 - 68s/epoch - 16ms/step
Epoch 52/100
4378/4378 - 68s - loss: 0.6652 - accuracy: 0.7630 - val_loss: 0.7816 - val_accuracy: 0.7234 - lr: 0.0010 - 68s/epoch - 16ms/step
Epoch 53/100
4378/4378 - 68s - loss: 0.6687 - accuracy: 0.7623 - val_loss: 0.7536 - val_accuracy: 0.7452 - lr: 0.0010 - 68s/epoch - 16ms/step
Epoch 54/100
4378/4378 - 69s - loss: 0.6640 - accuracy: 0.7656 - val_loss: 0.6456 - val_accuracy: 0.7796 - lr: 0.0010 - 69s/epoch - 16ms/step
Epoch 55/100
4378/4378 - 68s - loss: 0.6687 - accuracy: 0.7646 - val_loss: 0.8584 - val_accuracy: 0.6808 - lr: 0.0010 - 68s/epoch - 16ms/step
Epoch 56/100
4378/4378 - 68s - loss: 0.6669 - accuracy: 0.7621 - val_loss: 0.7166 - val_accuracy: 0.7651 - lr: 0.0010 - 68s/epoch - 16ms/step
Epoch 57/100
4378/4378 - 68s - loss: 0.6689 - accuracy: 0.7629 - val_loss: 0.6822 - val_accuracy: 0.7663 - lr: 0.0010 - 68s/epoch - 16ms/step
Epoch 58/100
4378/4378 - 68s - loss: 0.6684 - accuracy: 0.7619 - val_loss: 0.7468 - val_accuracy: 0.7635 - lr: 0.0010 - 68s/epoch - 16ms/step
Epoch 59/100
4378/4378 - 68s - loss: 0.6726 - accuracy: 0.7599 - val_loss: 0.6564 - val_accuracy: 0.7916 - lr: 0.0010 - 68s/epoch - 16ms/step
Epoch 60/100
4378/4378 - 68s - loss: 0.6693 - accuracy: 0.7606 - val_loss: 0.6959 - val_accuracy: 0.7595 - lr: 0.0010 - 68s/epoch - 16ms/step
Epoch 61/100
4378/4378 - 68s - loss: 0.6691 - accuracy: 0.7615 - val_loss: 0.7270 - val_accuracy: 0.7741 - lr: 0.0010 - 68s/epoch - 16ms/step
Epoch 62/100
4378/4378 - 68s - loss: 0.6665 - accuracy: 0.7637 - val_loss: 0.7380 - val_accuracy: 0.7453 - lr: 0.0010 - 68s/epoch - 16ms/step
Epoch 63/100
4378/4378 - 69s - loss: 0.6732 - accuracy: 0.7609 - val_loss: 0.8078 - val_accuracy: 0.7218 - lr: 0.0010 - 69s/epoch - 16ms/step
Epoch 64/100
4378/4378 - 68s - loss: 0.6694 - accuracy: 0.7626 - val_loss: 0.7293 - val_accuracy: 0.7389 - lr: 0.0010 - 68s/epoch - 16ms/step
Epoch 65/100
4378/4378 - 68s - loss: 0.6738 - accuracy: 0.7613 - val_loss: 0.8265 - val_accuracy: 0.6840 - lr: 0.0010 - 68s/epoch - 16ms/step
Epoch 66/100
4378/4378 - 68s - loss: 0.6706 - accuracy: 0.7614 - val_loss: 0.8445 - val_accuracy: 0.6874 - lr: 0.0010 - 68s/epoch - 16ms/step
Epoch 67/100
4378/4378 - 68s - loss: 0.6715 - accuracy: 0.7598 - val_loss: 0.8718 - val_accuracy: 0.6541 - lr: 0.0010 - 68s/epoch - 16ms/step
Epoch 68/100
4378/4378 - 69s - loss: 0.6714 - accuracy: 0.7601 - val_loss: 0.7472 - val_accuracy: 0.7393 - lr: 0.0010 - 69s/epoch - 16ms/step
Epoch 69/100
4378/4378 - 68s - loss: 0.6740 - accuracy: 0.7581 - val_loss: 0.7961 - val_accuracy: 0.7067 - lr: 0.0010 - 68s/epoch - 16ms/step
Epoch 70/100
4378/4378 - 69s - loss: 0.6743 - accuracy: 0.7582 - val_loss: 0.7259 - val_accuracy: 0.7460 - lr: 0.0010 - 69s/epoch - 16ms/step
Epoch 71/100
4378/4378 - 68s - loss: 0.6722 - accuracy: 0.7606 - val_loss: 0.7974 - val_accuracy: 0.7184 - lr: 0.0010 - 68s/epoch - 16ms/step
Epoch 72/100
4378/4378 - 68s - loss: 0.6690 - accuracy: 0.7599 - val_loss: 0.7533 - val_accuracy: 0.7575 - lr: 0.0010 - 68s/epoch - 16ms/step
Epoch 73/100
4378/4378 - 69s - loss: 0.6699 - accuracy: 0.7599 - val_loss: 0.7461 - val_accuracy: 0.7417 - lr: 0.0010 - 69s/epoch - 16ms/step
Epoch 74/100
4378/4378 - 68s - loss: 0.6697 - accuracy: 0.7579 - val_loss: 0.7344 - val_accuracy: 0.7545 - lr: 0.0010 - 68s/epoch - 16ms/step
Epoch 75/100
4378/4378 - 68s - loss: 0.6727 - accuracy: 0.7588 - val_loss: 0.7396 - val_accuracy: 0.7326 - lr: 0.0010 - 68s/epoch - 16ms/step
Epoch 76/100
4378/4378 - 68s - loss: 0.6770 - accuracy: 0.7573 - val_loss: 0.8253 - val_accuracy: 0.7069 - lr: 0.0010 - 68s/epoch - 16ms/step
Epoch 77/100
4378/4378 - 69s - loss: 0.6750 - accuracy: 0.7585 - val_loss: 0.7605 - val_accuracy: 0.7279 - lr: 0.0010 - 69s/epoch - 16ms/step
Epoch 78/100
4378/4378 - 69s - loss: 0.6763 - accuracy: 0.7566 - val_loss: 0.7520 - val_accuracy: 0.7659 - lr: 0.0010 - 69s/epoch - 16ms/step
Epoch 79/100
4378/4378 - 68s - loss: 0.6764 - accuracy: 0.7572 - val_loss: 0.8212 - val_accuracy: 0.7083 - lr: 0.0010 - 68s/epoch - 16ms/step
Epoch 80/100
4378/4378 - 68s - loss: 0.6767 - accuracy: 0.7586 - val_loss: 0.6392 - val_accuracy: 0.7708 - lr: 0.0010 - 68s/epoch - 16ms/step
Epoch 81/100
4378/4378 - 68s - loss: 0.6764 - accuracy: 0.7579 - val_loss: 0.7099 - val_accuracy: 0.7642 - lr: 0.0010 - 68s/epoch - 16ms/step
Epoch 82/100
4378/4378 - 69s - loss: 0.6774 - accuracy: 0.7570 - val_loss: 0.7247 - val_accuracy: 0.7331 - lr: 0.0010 - 69s/epoch - 16ms/step
Epoch 83/100
4378/4378 - 69s - loss: 0.6791 - accuracy: 0.7561 - val_loss: 0.9181 - val_accuracy: 0.6660 - lr: 0.0010 - 69s/epoch - 16ms/step
Epoch 84/100
4378/4378 - 68s - loss: 0.6776 - accuracy: 0.7583 - val_loss: 0.7454 - val_accuracy: 0.7393 - lr: 0.0010 - 68s/epoch - 16ms/step
Epoch 85/100
4378/4378 - 68s - loss: 0.6775 - accuracy: 0.7557 - val_loss: 0.8829 - val_accuracy: 0.7154 - lr: 0.0010 - 68s/epoch - 16ms/step
Epoch 86/100
4378/4378 - 68s - loss: 0.6818 - accuracy: 0.7545 - val_loss: 0.8903 - val_accuracy: 0.7103 - lr: 0.0010 - 68s/epoch - 16ms/step
Epoch 87/100
4378/4378 - 68s - loss: 0.6817 - accuracy: 0.7559 - val_loss: 0.6412 - val_accuracy: 0.7782 - lr: 0.0010 - 68s/epoch - 16ms/step
Epoch 88/100
4378/4378 - 68s - loss: 0.6812 - accuracy: 0.7561 - val_loss: 0.6450 - val_accuracy: 0.7844 - lr: 0.0010 - 68s/epoch - 16ms/step
Epoch 89/100
4378/4378 - 68s - loss: 0.6801 - accuracy: 0.7558 - val_loss: 0.7181 - val_accuracy: 0.7539 - lr: 0.0010 - 68s/epoch - 16ms/step
Epoch 90/100
4378/4378 - 68s - loss: 0.6796 - accuracy: 0.7565 - val_loss: 0.6948 - val_accuracy: 0.7773 - lr: 0.0010 - 68s/epoch - 16ms/step
Epoch 91/100
4378/4378 - 69s - loss: 0.6808 - accuracy: 0.7553 - val_loss: 0.6925 - val_accuracy: 0.7764 - lr: 0.0010 - 69s/epoch - 16ms/step
Epoch 92/100
4378/4378 - 69s - loss: 0.6823 - accuracy: 0.7557 - val_loss: 0.6471 - val_accuracy: 0.7951 - lr: 0.0010 - 69s/epoch - 16ms/step
Epoch 93/100
4378/4378 - 68s - loss: 0.6852 - accuracy: 0.7544 - val_loss: 0.7278 - val_accuracy: 0.7493 - lr: 0.0010 - 68s/epoch - 16ms/step
Epoch 94/100
4378/4378 - 69s - loss: 0.6895 - accuracy: 0.7520 - val_loss: 0.6972 - val_accuracy: 0.7680 - lr: 0.0010 - 69s/epoch - 16ms/step
Epoch 95/100
4378/4378 - 68s - loss: 0.6970 - accuracy: 0.7517 - val_loss: 0.8252 - val_accuracy: 0.7136 - lr: 0.0010 - 68s/epoch - 16ms/step
Epoch 96/100
4378/4378 - 68s - loss: 0.6828 - accuracy: 0.7542 - val_loss: 0.8084 - val_accuracy: 0.7313 - lr: 0.0010 - 68s/epoch - 16ms/step
Epoch 97/100
4378/4378 - 68s - loss: 0.6845 - accuracy: 0.7544 - val_loss: 0.7342 - val_accuracy: 0.7449 - lr: 0.0010 - 68s/epoch - 16ms/step
Epoch 98/100
4378/4378 - 68s - loss: 0.6836 - accuracy: 0.7546 - val_loss: 0.7383 - val_accuracy: 0.7283 - lr: 0.0010 - 68s/epoch - 16ms/step
Epoch 99/100
4378/4378 - 68s - loss: 0.6868 - accuracy: 0.7503 - val_loss: 0.6835 - val_accuracy: 0.7824 - lr: 0.0010 - 68s/epoch - 16ms/step
Epoch 100/100
4378/4378 - 68s - loss: 0.6907 - accuracy: 0.7522 - val_loss: 0.7417 - val_accuracy: 0.7278 - lr: 0.0010 - 68s/epoch - 16ms/step
fitting with batch size: 100
Epoch 1/100
876/876 - 19s - loss: 0.6230 - accuracy: 0.7764 - val_loss: 0.6907 - val_accuracy: 0.7565 - lr: 0.0010 - 19s/epoch - 22ms/step
Epoch 2/100
876/876 - 17s - loss: 0.6107 - accuracy: 0.7796 - val_loss: 0.6968 - val_accuracy: 0.7446 - lr: 0.0010 - 17s/epoch - 19ms/step
Epoch 3/100
876/876 - 17s - loss: 0.6015 - accuracy: 0.7837 - val_loss: 0.6729 - val_accuracy: 0.7670 - lr: 0.0010 - 17s/epoch - 19ms/step
Epoch 4/100
876/876 - 17s - loss: 0.5946 - accuracy: 0.7867 - val_loss: 0.6749 - val_accuracy: 0.7576 - lr: 0.0010 - 17s/epoch - 19ms/step
Epoch 5/100
876/876 - 17s - loss: 0.5926 - accuracy: 0.7863 - val_loss: 0.6792 - val_accuracy: 0.7735 - lr: 0.0010 - 17s/epoch - 19ms/step
Epoch 6/100
876/876 - 17s - loss: 0.5874 - accuracy: 0.7892 - val_loss: 0.7635 - val_accuracy: 0.7132 - lr: 0.0010 - 17s/epoch - 19ms/step
Epoch 7/100
876/876 - 17s - loss: 0.5807 - accuracy: 0.7918 - val_loss: 0.6295 - val_accuracy: 0.7802 - lr: 0.0010 - 17s/epoch - 19ms/step
Epoch 8/100
876/876 - 17s - loss: 0.5801 - accuracy: 0.7911 - val_loss: 0.6903 - val_accuracy: 0.7521 - lr: 0.0010 - 17s/epoch - 19ms/step
Epoch 9/100
876/876 - 17s - loss: 0.5765 - accuracy: 0.7924 - val_loss: 0.7314 - val_accuracy: 0.7455 - lr: 0.0010 - 17s/epoch - 19ms/step
Epoch 10/100
876/876 - 17s - loss: 0.5763 - accuracy: 0.7934 - val_loss: 0.6738 - val_accuracy: 0.7599 - lr: 0.0010 - 17s/epoch - 19ms/step
Epoch 11/100
876/876 - 17s - loss: 0.5711 - accuracy: 0.7944 - val_loss: 0.6811 - val_accuracy: 0.7406 - lr: 0.0010 - 17s/epoch - 19ms/step
Epoch 12/100
876/876 - 17s - loss: 0.5712 - accuracy: 0.7948 - val_loss: 0.7503 - val_accuracy: 0.7249 - lr: 0.0010 - 17s/epoch - 19ms/step
Epoch 13/100
876/876 - 17s - loss: 0.5687 - accuracy: 0.7959 - val_loss: 0.7015 - val_accuracy: 0.7652 - lr: 0.0010 - 17s/epoch - 19ms/step
Epoch 14/100
876/876 - 17s - loss: 0.5651 - accuracy: 0.7973 - val_loss: 0.6827 - val_accuracy: 0.7640 - lr: 0.0010 - 17s/epoch - 19ms/step
Epoch 15/100
876/876 - 17s - loss: 0.5624 - accuracy: 0.7980 - val_loss: 0.6651 - val_accuracy: 0.7818 - lr: 0.0010 - 17s/epoch - 19ms/step
Epoch 16/100
876/876 - 17s - loss: 0.5633 - accuracy: 0.7972 - val_loss: 0.7063 - val_accuracy: 0.7460 - lr: 0.0010 - 17s/epoch - 19ms/step
Epoch 17/100
876/876 - 17s - loss: 0.5589 - accuracy: 0.7983 - val_loss: 0.7337 - val_accuracy: 0.7431 - lr: 0.0010 - 17s/epoch - 19ms/step
Epoch 18/100
876/876 - 17s - loss: 0.5556 - accuracy: 0.8009 - val_loss: 0.6842 - val_accuracy: 0.7495 - lr: 0.0010 - 17s/epoch - 19ms/step
Epoch 19/100
876/876 - 17s - loss: 0.5559 - accuracy: 0.7999 - val_loss: 0.7159 - val_accuracy: 0.7450 - lr: 0.0010 - 17s/epoch - 19ms/step
Epoch 20/100
876/876 - 17s - loss: 0.5540 - accuracy: 0.8010 - val_loss: 0.6865 - val_accuracy: 0.7563 - lr: 0.0010 - 17s/epoch - 19ms/step
Epoch 21/100
876/876 - 17s - loss: 0.5509 - accuracy: 0.8028 - val_loss: 0.6672 - val_accuracy: 0.7584 - lr: 0.0010 - 17s/epoch - 19ms/step
Epoch 22/100
876/876 - 17s - loss: 0.5499 - accuracy: 0.8036 - val_loss: 0.7287 - val_accuracy: 0.7374 - lr: 0.0010 - 17s/epoch - 19ms/step
Epoch 23/100
876/876 - 17s - loss: 0.5488 - accuracy: 0.8040 - val_loss: 0.7388 - val_accuracy: 0.7399 - lr: 0.0010 - 17s/epoch - 20ms/step
Epoch 24/100
876/876 - 18s - loss: 0.5459 - accuracy: 0.8041 - val_loss: 0.7062 - val_accuracy: 0.7273 - lr: 0.0010 - 18s/epoch - 20ms/step
Epoch 25/100
876/876 - 17s - loss: 0.5457 - accuracy: 0.8042 - val_loss: 0.7092 - val_accuracy: 0.7505 - lr: 0.0010 - 17s/epoch - 20ms/step
Epoch 26/100
876/876 - 18s - loss: 0.5449 - accuracy: 0.8046 - val_loss: 0.6513 - val_accuracy: 0.7667 - lr: 0.0010 - 18s/epoch - 20ms/step
Epoch 27/100
876/876 - 18s - loss: 0.5424 - accuracy: 0.8054 - val_loss: 0.7867 - val_accuracy: 0.7232 - lr: 0.0010 - 18s/epoch - 20ms/step
Epoch 28/100
876/876 - 18s - loss: 0.5430 - accuracy: 0.8053 - val_loss: 0.7345 - val_accuracy: 0.7377 - lr: 0.0010 - 18s/epoch - 20ms/step
Epoch 29/100
876/876 - 17s - loss: 0.5401 - accuracy: 0.8058 - val_loss: 0.7123 - val_accuracy: 0.7566 - lr: 0.0010 - 17s/epoch - 20ms/step
Epoch 30/100
876/876 - 18s - loss: 0.5433 - accuracy: 0.8050 - val_loss: 0.6733 - val_accuracy: 0.7519 - lr: 0.0010 - 18s/epoch - 20ms/step
Epoch 31/100
876/876 - 17s - loss: 0.5387 - accuracy: 0.8068 - val_loss: 0.7588 - val_accuracy: 0.7488 - lr: 0.0010 - 17s/epoch - 20ms/step
Epoch 32/100
876/876 - 17s - loss: 0.5366 - accuracy: 0.8075 - val_loss: 0.7344 - val_accuracy: 0.7506 - lr: 0.0010 - 17s/epoch - 20ms/step
Epoch 33/100
876/876 - 18s - loss: 0.5359 - accuracy: 0.8094 - val_loss: 0.6779 - val_accuracy: 0.7659 - lr: 0.0010 - 18s/epoch - 20ms/step
Epoch 34/100
876/876 - 18s - loss: 0.5335 - accuracy: 0.8087 - val_loss: 0.6810 - val_accuracy: 0.7616 - lr: 0.0010 - 18s/epoch - 20ms/step
Epoch 35/100
876/876 - 17s - loss: 0.5327 - accuracy: 0.8095 - val_loss: 0.7271 - val_accuracy: 0.7335 - lr: 0.0010 - 17s/epoch - 20ms/step
Epoch 36/100
876/876 - 17s - loss: 0.5336 - accuracy: 0.8097 - val_loss: 0.7002 - val_accuracy: 0.7633 - lr: 0.0010 - 17s/epoch - 20ms/step
Epoch 37/100
876/876 - 17s - loss: 0.5303 - accuracy: 0.8092 - val_loss: 0.7471 - val_accuracy: 0.7293 - lr: 0.0010 - 17s/epoch - 20ms/step
Epoch 38/100
876/876 - 18s - loss: 0.5268 - accuracy: 0.8119 - val_loss: 0.6515 - val_accuracy: 0.7726 - lr: 0.0010 - 18s/epoch - 20ms/step
Epoch 39/100
876/876 - 17s - loss: 0.5272 - accuracy: 0.8122 - val_loss: 0.6773 - val_accuracy: 0.7736 - lr: 0.0010 - 17s/epoch - 20ms/step
Epoch 40/100
876/876 - 18s - loss: 0.5305 - accuracy: 0.8104 - val_loss: 0.7109 - val_accuracy: 0.7490 - lr: 0.0010 - 18s/epoch - 20ms/step
Epoch 41/100
876/876 - 18s - loss: 0.5265 - accuracy: 0.8116 - val_loss: 0.7062 - val_accuracy: 0.7635 - lr: 0.0010 - 18s/epoch - 20ms/step
Epoch 42/100
876/876 - 18s - loss: 0.5251 - accuracy: 0.8122 - val_loss: 0.7206 - val_accuracy: 0.7394 - lr: 0.0010 - 18s/epoch - 20ms/step
Epoch 43/100
876/876 - 17s - loss: 0.5225 - accuracy: 0.8128 - val_loss: 0.6671 - val_accuracy: 0.7610 - lr: 0.0010 - 17s/epoch - 20ms/step
Epoch 44/100
876/876 - 18s - loss: 0.5213 - accuracy: 0.8138 - val_loss: 0.7151 - val_accuracy: 0.7469 - lr: 0.0010 - 18s/epoch - 20ms/step
Epoch 45/100
876/876 - 17s - loss: 0.5196 - accuracy: 0.8145 - val_loss: 0.7176 - val_accuracy: 0.7404 - lr: 0.0010 - 17s/epoch - 20ms/step
Epoch 46/100
876/876 - 17s - loss: 0.5217 - accuracy: 0.8138 - val_loss: 0.7012 - val_accuracy: 0.7508 - lr: 0.0010 - 17s/epoch - 20ms/step
Epoch 47/100
876/876 - 17s - loss: 0.5208 - accuracy: 0.8128 - val_loss: 0.6882 - val_accuracy: 0.7559 - lr: 0.0010 - 17s/epoch - 20ms/step
Epoch 48/100
876/876 - 18s - loss: 0.5198 - accuracy: 0.8144 - val_loss: 0.7239 - val_accuracy: 0.7372 - lr: 0.0010 - 18s/epoch - 20ms/step
Epoch 49/100
876/876 - 17s - loss: 0.5188 - accuracy: 0.8147 - val_loss: 0.7343 - val_accuracy: 0.7497 - lr: 0.0010 - 17s/epoch - 20ms/step
Epoch 50/100
876/876 - 17s - loss: 0.5180 - accuracy: 0.8154 - val_loss: 0.7361 - val_accuracy: 0.7407 - lr: 0.0010 - 17s/epoch - 20ms/step
Epoch 51/100
876/876 - 18s - loss: 0.5162 - accuracy: 0.8160 - val_loss: 0.7309 - val_accuracy: 0.7380 - lr: 0.0010 - 18s/epoch - 20ms/step
Epoch 52/100
876/876 - 18s - loss: 0.5156 - accuracy: 0.8157 - val_loss: 0.7509 - val_accuracy: 0.7373 - lr: 0.0010 - 18s/epoch - 20ms/step
Epoch 53/100
876/876 - 17s - loss: 0.5173 - accuracy: 0.8158 - val_loss: 0.6401 - val_accuracy: 0.7696 - lr: 0.0010 - 17s/epoch - 20ms/step
Epoch 54/100
876/876 - 17s - loss: 0.5178 - accuracy: 0.8157 - val_loss: 0.7488 - val_accuracy: 0.7465 - lr: 0.0010 - 17s/epoch - 20ms/step
Epoch 55/100
876/876 - 17s - loss: 0.5136 - accuracy: 0.8167 - val_loss: 0.6263 - val_accuracy: 0.7906 - lr: 0.0010 - 17s/epoch - 20ms/step
Epoch 56/100
876/876 - 17s - loss: 0.5133 - accuracy: 0.8164 - val_loss: 0.7415 - val_accuracy: 0.7385 - lr: 0.0010 - 17s/epoch - 20ms/step
Epoch 57/100
876/876 - 17s - loss: 0.5097 - accuracy: 0.8167 - val_loss: 0.7250 - val_accuracy: 0.7511 - lr: 0.0010 - 17s/epoch - 20ms/step
Epoch 58/100
876/876 - 17s - loss: 0.5143 - accuracy: 0.8153 - val_loss: 0.6945 - val_accuracy: 0.7533 - lr: 0.0010 - 17s/epoch - 20ms/step
Epoch 59/100
876/876 - 17s - loss: 0.5095 - accuracy: 0.8178 - val_loss: 0.7102 - val_accuracy: 0.7531 - lr: 0.0010 - 17s/epoch - 20ms/step
Epoch 60/100
876/876 - 18s - loss: 0.5105 - accuracy: 0.8171 - val_loss: 0.7134 - val_accuracy: 0.7472 - lr: 0.0010 - 18s/epoch - 20ms/step
Epoch 61/100
876/876 - 17s - loss: 0.5068 - accuracy: 0.8186 - val_loss: 0.5777 - val_accuracy: 0.8055 - lr: 0.0010 - 17s/epoch - 20ms/step
Epoch 62/100
876/876 - 17s - loss: 0.5087 - accuracy: 0.8179 - val_loss: 0.7090 - val_accuracy: 0.7611 - lr: 0.0010 - 17s/epoch - 20ms/step
Epoch 63/100
876/876 - 17s - loss: 0.5093 - accuracy: 0.8172 - val_loss: 0.6396 - val_accuracy: 0.7715 - lr: 0.0010 - 17s/epoch - 20ms/step
Epoch 64/100
876/876 - 17s - loss: 0.5085 - accuracy: 0.8184 - val_loss: 0.7179 - val_accuracy: 0.7474 - lr: 0.0010 - 17s/epoch - 20ms/step
Epoch 65/100
876/876 - 17s - loss: 0.5054 - accuracy: 0.8185 - val_loss: 0.7055 - val_accuracy: 0.7351 - lr: 0.0010 - 17s/epoch - 19ms/step
Epoch 66/100
876/876 - 17s - loss: 0.5090 - accuracy: 0.8177 - val_loss: 0.6430 - val_accuracy: 0.7679 - lr: 0.0010 - 17s/epoch - 19ms/step
Epoch 67/100
876/876 - 17s - loss: 0.5043 - accuracy: 0.8191 - val_loss: 0.6765 - val_accuracy: 0.7521 - lr: 0.0010 - 17s/epoch - 20ms/step
Epoch 68/100
876/876 - 17s - loss: 0.5076 - accuracy: 0.8172 - val_loss: 0.7092 - val_accuracy: 0.7517 - lr: 0.0010 - 17s/epoch - 19ms/step
Epoch 69/100
876/876 - 17s - loss: 0.5078 - accuracy: 0.8184 - val_loss: 0.6802 - val_accuracy: 0.7498 - lr: 0.0010 - 17s/epoch - 19ms/step
Epoch 70/100
876/876 - 17s - loss: 0.5049 - accuracy: 0.8189 - val_loss: 0.6805 - val_accuracy: 0.7587 - lr: 0.0010 - 17s/epoch - 19ms/step
Epoch 71/100
876/876 - 17s - loss: 0.5046 - accuracy: 0.8202 - val_loss: 0.7543 - val_accuracy: 0.7280 - lr: 0.0010 - 17s/epoch - 19ms/step
Epoch 72/100
876/876 - 17s - loss: 0.5053 - accuracy: 0.8191 - val_loss: 0.6990 - val_accuracy: 0.7532 - lr: 0.0010 - 17s/epoch - 19ms/step
Epoch 73/100
876/876 - 17s - loss: 0.5006 - accuracy: 0.8211 - val_loss: 0.7337 - val_accuracy: 0.7389 - lr: 0.0010 - 17s/epoch - 19ms/step
Epoch 74/100
876/876 - 17s - loss: 0.5006 - accuracy: 0.8206 - val_loss: 0.6988 - val_accuracy: 0.7477 - lr: 0.0010 - 17s/epoch - 19ms/step
Epoch 75/100
876/876 - 17s - loss: 0.5020 - accuracy: 0.8198 - val_loss: 0.6869 - val_accuracy: 0.7561 - lr: 0.0010 - 17s/epoch - 19ms/step
Epoch 76/100
876/876 - 17s - loss: 0.4992 - accuracy: 0.8210 - val_loss: 0.7039 - val_accuracy: 0.7372 - lr: 0.0010 - 17s/epoch - 19ms/step
Epoch 77/100
876/876 - 17s - loss: 0.4990 - accuracy: 0.8215 - val_loss: 0.7210 - val_accuracy: 0.7359 - lr: 0.0010 - 17s/epoch - 19ms/step
Epoch 78/100
876/876 - 17s - loss: 0.4974 - accuracy: 0.8219 - val_loss: 0.7435 - val_accuracy: 0.7321 - lr: 0.0010 - 17s/epoch - 19ms/step
Epoch 79/100
876/876 - 17s - loss: 0.4948 - accuracy: 0.8238 - val_loss: 0.6807 - val_accuracy: 0.7543 - lr: 0.0010 - 17s/epoch - 19ms/step
Epoch 80/100
876/876 - 17s - loss: 0.5011 - accuracy: 0.8194 - val_loss: 0.6603 - val_accuracy: 0.7597 - lr: 0.0010 - 17s/epoch - 19ms/step
Epoch 81/100
876/876 - 17s - loss: 0.4986 - accuracy: 0.8205 - val_loss: 0.6727 - val_accuracy: 0.7690 - lr: 0.0010 - 17s/epoch - 19ms/step
Epoch 82/100
876/876 - 17s - loss: 0.4930 - accuracy: 0.8235 - val_loss: 0.6903 - val_accuracy: 0.7476 - lr: 0.0010 - 17s/epoch - 19ms/step
Epoch 83/100
876/876 - 17s - loss: 0.4947 - accuracy: 0.8235 - val_loss: 0.6917 - val_accuracy: 0.7585 - lr: 0.0010 - 17s/epoch - 19ms/step
Epoch 84/100
876/876 - 17s - loss: 0.4909 - accuracy: 0.8243 - val_loss: 0.6327 - val_accuracy: 0.7739 - lr: 0.0010 - 17s/epoch - 19ms/step
Epoch 85/100
876/876 - 17s - loss: 0.4925 - accuracy: 0.8245 - val_loss: 0.7189 - val_accuracy: 0.7347 - lr: 0.0010 - 17s/epoch - 19ms/step
Epoch 86/100
876/876 - 17s - loss: 0.4918 - accuracy: 0.8246 - val_loss: 0.6567 - val_accuracy: 0.7665 - lr: 0.0010 - 17s/epoch - 19ms/step
Epoch 87/100
876/876 - 17s - loss: 0.4898 - accuracy: 0.8251 - val_loss: 0.6877 - val_accuracy: 0.7522 - lr: 0.0010 - 17s/epoch - 19ms/step
Epoch 88/100
876/876 - 17s - loss: 0.4923 - accuracy: 0.8238 - val_loss: 0.7226 - val_accuracy: 0.7462 - lr: 0.0010 - 17s/epoch - 19ms/step
Epoch 89/100
876/876 - 17s - loss: 0.4918 - accuracy: 0.8239 - val_loss: 0.7555 - val_accuracy: 0.7367 - lr: 0.0010 - 17s/epoch - 19ms/step
Epoch 90/100
876/876 - 17s - loss: 0.4868 - accuracy: 0.8259 - val_loss: 0.7108 - val_accuracy: 0.7466 - lr: 0.0010 - 17s/epoch - 19ms/step
Epoch 91/100
876/876 - 17s - loss: 0.4919 - accuracy: 0.8233 - val_loss: 0.6570 - val_accuracy: 0.7643 - lr: 0.0010 - 17s/epoch - 19ms/step
Epoch 92/100
876/876 - 17s - loss: 0.4852 - accuracy: 0.8255 - val_loss: 0.6559 - val_accuracy: 0.7694 - lr: 0.0010 - 17s/epoch - 19ms/step
Epoch 93/100
876/876 - 17s - loss: 0.4897 - accuracy: 0.8243 - val_loss: 0.6819 - val_accuracy: 0.7519 - lr: 0.0010 - 17s/epoch - 19ms/step
Epoch 94/100
876/876 - 17s - loss: 0.5035 - accuracy: 0.8224 - val_loss: 0.8124 - val_accuracy: 0.7750 - lr: 0.0010 - 17s/epoch - 19ms/step
Epoch 95/100
876/876 - 17s - loss: 0.5762 - accuracy: 0.7992 - val_loss: 0.7037 - val_accuracy: 0.7580 - lr: 0.0010 - 17s/epoch - 19ms/step
Epoch 96/100
876/876 - 17s - loss: 0.4946 - accuracy: 0.8227 - val_loss: 0.7152 - val_accuracy: 0.7410 - lr: 0.0010 - 17s/epoch - 19ms/step
Epoch 97/100
876/876 - 17s - loss: 0.4895 - accuracy: 0.8250 - val_loss: 0.6429 - val_accuracy: 0.7839 - lr: 0.0010 - 17s/epoch - 19ms/step
Epoch 98/100
876/876 - 17s - loss: 0.4864 - accuracy: 0.8269 - val_loss: 0.6422 - val_accuracy: 0.7771 - lr: 0.0010 - 17s/epoch - 19ms/step
Epoch 99/100
876/876 - 17s - loss: 0.4913 - accuracy: 0.8249 - val_loss: 0.7370 - val_accuracy: 0.7372 - lr: 0.0010 - 17s/epoch - 19ms/step
Epoch 100/100
876/876 - 17s - loss: 0.4871 - accuracy: 0.8264 - val_loss: 0.7170 - val_accuracy: 0.7612 - lr: 0.0010 - 17s/epoch - 19ms/step
fitting with batch size: 500
Epoch 1/100
176/176 - 10s - loss: 0.4400 - accuracy: 0.8432 - val_loss: 0.7367 - val_accuracy: 0.7405 - lr: 0.0010 - 10s/epoch - 59ms/step
Epoch 2/100
176/176 - 8s - loss: 0.4305 - accuracy: 0.8461 - val_loss: 0.7061 - val_accuracy: 0.7561 - lr: 0.0010 - 8s/epoch - 48ms/step
Epoch 3/100
176/176 - 8s - loss: 0.4328 - accuracy: 0.8458 - val_loss: 0.6434 - val_accuracy: 0.7730 - lr: 0.0010 - 8s/epoch - 48ms/step
Epoch 4/100
176/176 - 8s - loss: 0.4260 - accuracy: 0.8468 - val_loss: 0.6952 - val_accuracy: 0.7551 - lr: 0.0010 - 8s/epoch - 48ms/step
Epoch 5/100
176/176 - 8s - loss: 0.4233 - accuracy: 0.8490 - val_loss: 0.7209 - val_accuracy: 0.7442 - lr: 0.0010 - 8s/epoch - 48ms/step
Epoch 6/100
176/176 - 8s - loss: 0.4220 - accuracy: 0.8498 - val_loss: 0.7307 - val_accuracy: 0.7365 - lr: 0.0010 - 8s/epoch - 48ms/step
Epoch 7/100
176/176 - 8s - loss: 0.4199 - accuracy: 0.8490 - val_loss: 0.6560 - val_accuracy: 0.7698 - lr: 0.0010 - 8s/epoch - 48ms/step
Epoch 8/100
176/176 - 8s - loss: 0.4164 - accuracy: 0.8512 - val_loss: 0.6849 - val_accuracy: 0.7536 - lr: 0.0010 - 8s/epoch - 48ms/step
Epoch 9/100
176/176 - 8s - loss: 0.4178 - accuracy: 0.8516 - val_loss: 0.7009 - val_accuracy: 0.7582 - lr: 0.0010 - 8s/epoch - 48ms/step
Epoch 10/100
176/176 - 8s - loss: 0.4162 - accuracy: 0.8512 - val_loss: 0.6936 - val_accuracy: 0.7598 - lr: 0.0010 - 8s/epoch - 48ms/step
Epoch 11/100
176/176 - 8s - loss: 0.4154 - accuracy: 0.8527 - val_loss: 0.7091 - val_accuracy: 0.7481 - lr: 0.0010 - 8s/epoch - 48ms/step
Epoch 12/100
176/176 - 8s - loss: 0.4127 - accuracy: 0.8517 - val_loss: 0.7020 - val_accuracy: 0.7575 - lr: 0.0010 - 8s/epoch - 48ms/step
Epoch 13/100
176/176 - 8s - loss: 0.4102 - accuracy: 0.8541 - val_loss: 0.7544 - val_accuracy: 0.7424 - lr: 0.0010 - 8s/epoch - 48ms/step
Epoch 14/100
176/176 - 8s - loss: 0.4115 - accuracy: 0.8535 - val_loss: 0.6483 - val_accuracy: 0.7698 - lr: 0.0010 - 8s/epoch - 48ms/step
Epoch 15/100
176/176 - 8s - loss: 0.4092 - accuracy: 0.8540 - val_loss: 0.6569 - val_accuracy: 0.7716 - lr: 0.0010 - 8s/epoch - 48ms/step
Epoch 16/100
176/176 - 8s - loss: 0.4092 - accuracy: 0.8544 - val_loss: 0.6845 - val_accuracy: 0.7667 - lr: 0.0010 - 8s/epoch - 48ms/step
Epoch 17/100
176/176 - 8s - loss: 0.4065 - accuracy: 0.8560 - val_loss: 0.7030 - val_accuracy: 0.7559 - lr: 0.0010 - 8s/epoch - 48ms/step
Epoch 18/100
176/176 - 8s - loss: 0.4066 - accuracy: 0.8548 - val_loss: 0.7031 - val_accuracy: 0.7527 - lr: 0.0010 - 8s/epoch - 48ms/step
Epoch 19/100
176/176 - 8s - loss: 0.4055 - accuracy: 0.8557 - val_loss: 0.7132 - val_accuracy: 0.7537 - lr: 0.0010 - 8s/epoch - 48ms/step
Epoch 20/100
176/176 - 8s - loss: 0.4028 - accuracy: 0.8560 - val_loss: 0.7200 - val_accuracy: 0.7475 - lr: 0.0010 - 8s/epoch - 48ms/step
Epoch 21/100
176/176 - 8s - loss: 0.4024 - accuracy: 0.8560 - val_loss: 0.7417 - val_accuracy: 0.7440 - lr: 0.0010 - 8s/epoch - 48ms/step
Epoch 22/100
176/176 - 8s - loss: 0.4031 - accuracy: 0.8571 - val_loss: 0.6871 - val_accuracy: 0.7581 - lr: 0.0010 - 8s/epoch - 48ms/step
Epoch 23/100
176/176 - 8s - loss: 0.3997 - accuracy: 0.8579 - val_loss: 0.6793 - val_accuracy: 0.7612 - lr: 0.0010 - 8s/epoch - 48ms/step
Epoch 24/100
176/176 - 8s - loss: 0.4013 - accuracy: 0.8576 - val_loss: 0.7138 - val_accuracy: 0.7525 - lr: 0.0010 - 8s/epoch - 48ms/step
Epoch 25/100
176/176 - 8s - loss: 0.3985 - accuracy: 0.8577 - val_loss: 0.7633 - val_accuracy: 0.7426 - lr: 0.0010 - 8s/epoch - 48ms/step
Epoch 26/100
176/176 - 8s - loss: 0.3990 - accuracy: 0.8588 - val_loss: 0.7470 - val_accuracy: 0.7374 - lr: 0.0010 - 8s/epoch - 48ms/step
Epoch 27/100
176/176 - 8s - loss: 0.3971 - accuracy: 0.8584 - val_loss: 0.7100 - val_accuracy: 0.7535 - lr: 0.0010 - 8s/epoch - 48ms/step
Epoch 28/100
176/176 - 8s - loss: 0.3974 - accuracy: 0.8585 - val_loss: 0.7436 - val_accuracy: 0.7329 - lr: 0.0010 - 8s/epoch - 48ms/step
Epoch 29/100
176/176 - 8s - loss: 0.3944 - accuracy: 0.8603 - val_loss: 0.7519 - val_accuracy: 0.7491 - lr: 0.0010 - 8s/epoch - 48ms/step
Epoch 30/100
176/176 - 8s - loss: 0.3959 - accuracy: 0.8589 - val_loss: 0.7386 - val_accuracy: 0.7413 - lr: 0.0010 - 8s/epoch - 48ms/step
Epoch 31/100
176/176 - 8s - loss: 0.3943 - accuracy: 0.8591 - val_loss: 0.7008 - val_accuracy: 0.7617 - lr: 0.0010 - 8s/epoch - 48ms/step
Epoch 32/100
176/176 - 8s - loss: 0.3913 - accuracy: 0.8621 - val_loss: 0.7523 - val_accuracy: 0.7422 - lr: 0.0010 - 8s/epoch - 48ms/step
Epoch 33/100
176/176 - 8s - loss: 0.3953 - accuracy: 0.8592 - val_loss: 0.7214 - val_accuracy: 0.7597 - lr: 0.0010 - 8s/epoch - 48ms/step
Epoch 34/100
176/176 - 8s - loss: 0.3938 - accuracy: 0.8593 - val_loss: 0.7276 - val_accuracy: 0.7444 - lr: 0.0010 - 8s/epoch - 48ms/step
Epoch 35/100
176/176 - 8s - loss: 0.3925 - accuracy: 0.8595 - val_loss: 0.7327 - val_accuracy: 0.7371 - lr: 0.0010 - 8s/epoch - 48ms/step
Epoch 36/100
176/176 - 8s - loss: 0.3908 - accuracy: 0.8606 - val_loss: 0.8250 - val_accuracy: 0.7208 - lr: 0.0010 - 8s/epoch - 48ms/step
Epoch 37/100
176/176 - 8s - loss: 0.3916 - accuracy: 0.8611 - val_loss: 0.7048 - val_accuracy: 0.7585 - lr: 0.0010 - 8s/epoch - 48ms/step
Epoch 38/100
176/176 - 8s - loss: 0.3899 - accuracy: 0.8613 - val_loss: 0.7055 - val_accuracy: 0.7540 - lr: 0.0010 - 8s/epoch - 48ms/step
Epoch 39/100
176/176 - 8s - loss: 0.3916 - accuracy: 0.8612 - val_loss: 0.7472 - val_accuracy: 0.7396 - lr: 0.0010 - 8s/epoch - 48ms/step
Epoch 40/100
176/176 - 8s - loss: 0.3985 - accuracy: 0.8576 - val_loss: 0.7665 - val_accuracy: 0.7273 - lr: 0.0010 - 8s/epoch - 48ms/step
Epoch 41/100
176/176 - 8s - loss: 0.3888 - accuracy: 0.8607 - val_loss: 0.7666 - val_accuracy: 0.7317 - lr: 0.0010 - 8s/epoch - 48ms/step
Epoch 42/100
176/176 - 8s - loss: 0.3885 - accuracy: 0.8622 - val_loss: 0.7193 - val_accuracy: 0.7447 - lr: 0.0010 - 8s/epoch - 48ms/step
Epoch 43/100
176/176 - 8s - loss: 0.3891 - accuracy: 0.8613 - val_loss: 0.7275 - val_accuracy: 0.7441 - lr: 0.0010 - 8s/epoch - 48ms/step
Epoch 44/100
176/176 - 8s - loss: 0.3903 - accuracy: 0.8604 - val_loss: 0.7132 - val_accuracy: 0.7589 - lr: 0.0010 - 8s/epoch - 48ms/step
Epoch 45/100
176/176 - 8s - loss: 0.3855 - accuracy: 0.8626 - val_loss: 0.7536 - val_accuracy: 0.7462 - lr: 0.0010 - 8s/epoch - 48ms/step
Epoch 46/100
176/176 - 8s - loss: 0.3897 - accuracy: 0.8606 - val_loss: 0.7343 - val_accuracy: 0.7390 - lr: 0.0010 - 8s/epoch - 48ms/step
Epoch 47/100
176/176 - 8s - loss: 0.3876 - accuracy: 0.8626 - val_loss: 0.7846 - val_accuracy: 0.7342 - lr: 0.0010 - 8s/epoch - 48ms/step
Epoch 48/100
176/176 - 8s - loss: 0.3852 - accuracy: 0.8633 - val_loss: 0.7642 - val_accuracy: 0.7371 - lr: 0.0010 - 8s/epoch - 48ms/step
Epoch 49/100
176/176 - 8s - loss: 0.3863 - accuracy: 0.8625 - val_loss: 0.7305 - val_accuracy: 0.7469 - lr: 0.0010 - 8s/epoch - 48ms/step
Epoch 50/100
176/176 - 8s - loss: 0.3845 - accuracy: 0.8632 - val_loss: 0.7522 - val_accuracy: 0.7362 - lr: 0.0010 - 8s/epoch - 48ms/step
Epoch 51/100
176/176 - 8s - loss: 0.3848 - accuracy: 0.8627 - val_loss: 0.7392 - val_accuracy: 0.7470 - lr: 0.0010 - 8s/epoch - 48ms/step
Epoch 52/100
176/176 - 8s - loss: 0.3860 - accuracy: 0.8628 - val_loss: 0.7319 - val_accuracy: 0.7429 - lr: 0.0010 - 8s/epoch - 48ms/step
Epoch 53/100
176/176 - 8s - loss: 0.3843 - accuracy: 0.8633 - val_loss: 0.7098 - val_accuracy: 0.7465 - lr: 0.0010 - 8s/epoch - 48ms/step
Epoch 54/100
176/176 - 8s - loss: 0.3836 - accuracy: 0.8629 - val_loss: 0.7765 - val_accuracy: 0.7384 - lr: 0.0010 - 8s/epoch - 48ms/step
Epoch 55/100
176/176 - 8s - loss: 0.3847 - accuracy: 0.8630 - val_loss: 0.7301 - val_accuracy: 0.7556 - lr: 0.0010 - 8s/epoch - 48ms/step
Epoch 56/100
176/176 - 8s - loss: 0.3804 - accuracy: 0.8656 - val_loss: 0.7898 - val_accuracy: 0.7279 - lr: 0.0010 - 8s/epoch - 48ms/step
Epoch 57/100
176/176 - 8s - loss: 0.3823 - accuracy: 0.8634 - val_loss: 0.7277 - val_accuracy: 0.7513 - lr: 0.0010 - 8s/epoch - 48ms/step
Epoch 58/100
176/176 - 8s - loss: 0.3812 - accuracy: 0.8650 - val_loss: 0.7548 - val_accuracy: 0.7500 - lr: 0.0010 - 8s/epoch - 48ms/step
Epoch 59/100
176/176 - 8s - loss: 0.3862 - accuracy: 0.8631 - val_loss: 0.7585 - val_accuracy: 0.7407 - lr: 0.0010 - 8s/epoch - 48ms/step
Epoch 60/100
176/176 - 8s - loss: 0.3804 - accuracy: 0.8661 - val_loss: 0.7381 - val_accuracy: 0.7546 - lr: 0.0010 - 8s/epoch - 48ms/step
Epoch 61/100
176/176 - 8s - loss: 0.3853 - accuracy: 0.8627 - val_loss: 0.7583 - val_accuracy: 0.7397 - lr: 0.0010 - 8s/epoch - 48ms/step
Epoch 62/100
176/176 - 8s - loss: 0.3814 - accuracy: 0.8647 - val_loss: 0.7782 - val_accuracy: 0.7405 - lr: 0.0010 - 8s/epoch - 48ms/step
Epoch 63/100
176/176 - 8s - loss: 0.3832 - accuracy: 0.8637 - val_loss: 0.7670 - val_accuracy: 0.7384 - lr: 0.0010 - 8s/epoch - 48ms/step
Epoch 64/100
176/176 - 8s - loss: 0.3904 - accuracy: 0.8601 - val_loss: 0.7749 - val_accuracy: 0.7382 - lr: 0.0010 - 8s/epoch - 48ms/step
Epoch 65/100
176/176 - 8s - loss: 0.3784 - accuracy: 0.8651 - val_loss: 0.7644 - val_accuracy: 0.7450 - lr: 0.0010 - 8s/epoch - 48ms/step
Epoch 66/100
176/176 - 8s - loss: 0.3781 - accuracy: 0.8649 - val_loss: 0.8067 - val_accuracy: 0.7244 - lr: 0.0010 - 8s/epoch - 48ms/step
Epoch 67/100
176/176 - 8s - loss: 0.3825 - accuracy: 0.8630 - val_loss: 0.7432 - val_accuracy: 0.7465 - lr: 0.0010 - 8s/epoch - 48ms/step
Epoch 68/100
176/176 - 8s - loss: 0.3753 - accuracy: 0.8674 - val_loss: 0.7665 - val_accuracy: 0.7432 - lr: 0.0010 - 8s/epoch - 48ms/step
Epoch 69/100
176/176 - 8s - loss: 0.3768 - accuracy: 0.8660 - val_loss: 0.7557 - val_accuracy: 0.7337 - lr: 0.0010 - 8s/epoch - 48ms/step
Epoch 70/100
176/176 - 8s - loss: 0.3762 - accuracy: 0.8666 - val_loss: 0.7913 - val_accuracy: 0.7243 - lr: 0.0010 - 8s/epoch - 48ms/step
Epoch 71/100
176/176 - 8s - loss: 0.3750 - accuracy: 0.8667 - val_loss: 0.7990 - val_accuracy: 0.7254 - lr: 0.0010 - 8s/epoch - 48ms/step
Epoch 72/100
176/176 - 8s - loss: 0.3778 - accuracy: 0.8662 - val_loss: 0.8237 - val_accuracy: 0.7200 - lr: 0.0010 - 8s/epoch - 48ms/step
Epoch 73/100
176/176 - 8s - loss: 0.3979 - accuracy: 0.8580 - val_loss: 0.7081 - val_accuracy: 0.7531 - lr: 0.0010 - 8s/epoch - 48ms/step
Epoch 74/100
176/176 - 8s - loss: 0.3766 - accuracy: 0.8662 - val_loss: 0.7644 - val_accuracy: 0.7343 - lr: 0.0010 - 8s/epoch - 48ms/step
Epoch 75/100
176/176 - 8s - loss: 0.3727 - accuracy: 0.8672 - val_loss: 0.7718 - val_accuracy: 0.7384 - lr: 0.0010 - 8s/epoch - 48ms/step
Epoch 76/100
176/176 - 8s - loss: 0.3794 - accuracy: 0.8654 - val_loss: 0.7303 - val_accuracy: 0.7514 - lr: 0.0010 - 8s/epoch - 48ms/step
Epoch 77/100
176/176 - 8s - loss: 0.3741 - accuracy: 0.8668 - val_loss: 0.7381 - val_accuracy: 0.7452 - lr: 0.0010 - 8s/epoch - 48ms/step
Epoch 78/100
176/176 - 8s - loss: 0.3783 - accuracy: 0.8659 - val_loss: 0.7634 - val_accuracy: 0.7335 - lr: 0.0010 - 8s/epoch - 48ms/step
Epoch 79/100
176/176 - 8s - loss: 0.3736 - accuracy: 0.8677 - val_loss: 0.7406 - val_accuracy: 0.7519 - lr: 0.0010 - 8s/epoch - 48ms/step
Epoch 80/100
176/176 - 8s - loss: 0.3761 - accuracy: 0.8653 - val_loss: 0.7732 - val_accuracy: 0.7389 - lr: 0.0010 - 8s/epoch - 48ms/step
Epoch 81/100
176/176 - 8s - loss: 0.3719 - accuracy: 0.8685 - val_loss: 0.8198 - val_accuracy: 0.7236 - lr: 0.0010 - 8s/epoch - 48ms/step
Epoch 82/100
176/176 - 8s - loss: 0.3753 - accuracy: 0.8672 - val_loss: 0.7907 - val_accuracy: 0.7275 - lr: 0.0010 - 8s/epoch - 48ms/step
Epoch 83/100
176/176 - 8s - loss: 0.3757 - accuracy: 0.8659 - val_loss: 0.7319 - val_accuracy: 0.7454 - lr: 0.0010 - 8s/epoch - 48ms/step
Epoch 84/100
176/176 - 8s - loss: 0.3727 - accuracy: 0.8679 - val_loss: 0.6755 - val_accuracy: 0.7617 - lr: 0.0010 - 8s/epoch - 48ms/step
Epoch 85/100
176/176 - 8s - loss: 0.3724 - accuracy: 0.8671 - val_loss: 0.8158 - val_accuracy: 0.7290 - lr: 0.0010 - 8s/epoch - 48ms/step
Epoch 86/100
176/176 - 8s - loss: 0.3737 - accuracy: 0.8665 - val_loss: 0.7899 - val_accuracy: 0.7388 - lr: 0.0010 - 8s/epoch - 48ms/step
Epoch 87/100
176/176 - 8s - loss: 0.3710 - accuracy: 0.8680 - val_loss: 0.7761 - val_accuracy: 0.7292 - lr: 0.0010 - 8s/epoch - 48ms/step
Epoch 88/100
176/176 - 8s - loss: 0.3765 - accuracy: 0.8651 - val_loss: 0.7726 - val_accuracy: 0.7362 - lr: 0.0010 - 8s/epoch - 48ms/step
Epoch 89/100
176/176 - 8s - loss: 0.3718 - accuracy: 0.8673 - val_loss: 0.7141 - val_accuracy: 0.7553 - lr: 0.0010 - 8s/epoch - 48ms/step
Epoch 90/100
176/176 - 8s - loss: 0.3736 - accuracy: 0.8669 - val_loss: 0.8004 - val_accuracy: 0.7317 - lr: 0.0010 - 8s/epoch - 48ms/step
Epoch 91/100
176/176 - 8s - loss: 0.3662 - accuracy: 0.8704 - val_loss: 0.8147 - val_accuracy: 0.7217 - lr: 0.0010 - 8s/epoch - 48ms/step
Epoch 92/100
176/176 - 8s - loss: 0.3706 - accuracy: 0.8677 - val_loss: 0.7589 - val_accuracy: 0.7396 - lr: 0.0010 - 8s/epoch - 48ms/step
Epoch 93/100
176/176 - 8s - loss: 0.3707 - accuracy: 0.8684 - val_loss: 0.7893 - val_accuracy: 0.7349 - lr: 0.0010 - 8s/epoch - 48ms/step
Epoch 94/100
176/176 - 8s - loss: 0.3708 - accuracy: 0.8680 - val_loss: 0.8057 - val_accuracy: 0.7280 - lr: 0.0010 - 8s/epoch - 48ms/step
Epoch 95/100
176/176 - 8s - loss: 0.3685 - accuracy: 0.8692 - val_loss: 0.7999 - val_accuracy: 0.7286 - lr: 0.0010 - 8s/epoch - 48ms/step
Epoch 96/100
176/176 - 8s - loss: 0.3703 - accuracy: 0.8683 - val_loss: 0.7523 - val_accuracy: 0.7485 - lr: 0.0010 - 8s/epoch - 48ms/step
Epoch 97/100
176/176 - 8s - loss: 0.3810 - accuracy: 0.8649 - val_loss: 0.7940 - val_accuracy: 0.7344 - lr: 0.0010 - 8s/epoch - 48ms/step
Epoch 98/100
176/176 - 8s - loss: 0.3707 - accuracy: 0.8676 - val_loss: 0.8146 - val_accuracy: 0.7263 - lr: 0.0010 - 8s/epoch - 48ms/step
Epoch 99/100
176/176 - 8s - loss: 0.3749 - accuracy: 0.8667 - val_loss: 0.8040 - val_accuracy: 0.7317 - lr: 0.0010 - 8s/epoch - 48ms/step
Epoch 100/100
176/176 - 8s - loss: 0.3687 - accuracy: 0.8687 - val_loss: 0.7704 - val_accuracy: 0.7379 - lr: 0.0010 - 8s/epoch - 48ms/step
Loss: poisson
Epoch number: 100
fitting with batch size: 20
Epoch 1/100
4378/4378 - 70s - loss: 0.3284 - accuracy: 0.7717 - val_loss: 0.3533 - val_accuracy: 0.7447 - lr: 0.0010 - 70s/epoch - 16ms/step
Epoch 2/100
4378/4378 - 68s - loss: 0.3302 - accuracy: 0.7676 - val_loss: 0.3339 - val_accuracy: 0.7722 - lr: 0.0010 - 68s/epoch - 16ms/step
Epoch 3/100
4378/4378 - 68s - loss: 0.3295 - accuracy: 0.7674 - val_loss: 0.3476 - val_accuracy: 0.7509 - lr: 0.0010 - 68s/epoch - 16ms/step
Epoch 4/100
4378/4378 - 68s - loss: 0.3309 - accuracy: 0.7653 - val_loss: 0.3397 - val_accuracy: 0.7751 - lr: 0.0010 - 68s/epoch - 16ms/step
Epoch 5/100
4378/4378 - 68s - loss: 0.3312 - accuracy: 0.7650 - val_loss: 0.3479 - val_accuracy: 0.7671 - lr: 0.0010 - 68s/epoch - 16ms/step
Epoch 6/100
4378/4378 - 68s - loss: 0.3320 - accuracy: 0.7626 - val_loss: 0.3557 - val_accuracy: 0.7418 - lr: 0.0010 - 68s/epoch - 16ms/step
Epoch 7/100
4378/4378 - 68s - loss: 0.3318 - accuracy: 0.7632 - val_loss: 0.3428 - val_accuracy: 0.7672 - lr: 0.0010 - 68s/epoch - 16ms/step
Epoch 8/100
4378/4378 - 67s - loss: 0.3326 - accuracy: 0.7616 - val_loss: 0.3348 - val_accuracy: 0.7804 - lr: 0.0010 - 67s/epoch - 15ms/step
Epoch 9/100
4378/4378 - 68s - loss: 0.3305 - accuracy: 0.7650 - val_loss: 0.3466 - val_accuracy: 0.7565 - lr: 0.0010 - 68s/epoch - 16ms/step
Epoch 10/100
4378/4378 - 68s - loss: 0.3324 - accuracy: 0.7616 - val_loss: 0.3531 - val_accuracy: 0.7495 - lr: 0.0010 - 68s/epoch - 16ms/step
Epoch 11/100
4378/4378 - 67s - loss: 0.3325 - accuracy: 0.7616 - val_loss: 0.3511 - val_accuracy: 0.7499 - lr: 0.0010 - 67s/epoch - 15ms/step
Epoch 12/100
4378/4378 - 68s - loss: 0.3330 - accuracy: 0.7616 - val_loss: 0.3626 - val_accuracy: 0.7109 - lr: 0.0010 - 68s/epoch - 16ms/step
Epoch 13/100
4378/4378 - 67s - loss: 0.3329 - accuracy: 0.7627 - val_loss: 0.3442 - val_accuracy: 0.7655 - lr: 0.0010 - 67s/epoch - 15ms/step
Epoch 14/100
4378/4378 - 68s - loss: 0.3325 - accuracy: 0.7622 - val_loss: 0.3397 - val_accuracy: 0.7743 - lr: 0.0010 - 68s/epoch - 15ms/step
Epoch 15/100
4378/4378 - 68s - loss: 0.3340 - accuracy: 0.7593 - val_loss: 0.3487 - val_accuracy: 0.7474 - lr: 0.0010 - 68s/epoch - 15ms/step
Epoch 16/100
4378/4378 - 68s - loss: 0.3347 - accuracy: 0.7570 - val_loss: 0.3357 - val_accuracy: 0.7653 - lr: 0.0010 - 68s/epoch - 15ms/step
Epoch 17/100
4378/4378 - 68s - loss: 0.3334 - accuracy: 0.7607 - val_loss: 0.3668 - val_accuracy: 0.7276 - lr: 0.0010 - 68s/epoch - 15ms/step
Epoch 18/100
4378/4378 - 68s - loss: 0.3342 - accuracy: 0.7579 - val_loss: 0.3536 - val_accuracy: 0.7328 - lr: 0.0010 - 68s/epoch - 15ms/step
Epoch 19/100
4378/4378 - 68s - loss: 0.3351 - accuracy: 0.7577 - val_loss: 0.3427 - val_accuracy: 0.7666 - lr: 0.0010 - 68s/epoch - 15ms/step
Epoch 20/100
4378/4378 - 68s - loss: 0.3370 - accuracy: 0.7523 - val_loss: 0.3544 - val_accuracy: 0.7336 - lr: 0.0010 - 68s/epoch - 16ms/step
Epoch 21/100
4378/4378 - 68s - loss: 0.3337 - accuracy: 0.7578 - val_loss: 0.3587 - val_accuracy: 0.7289 - lr: 0.0010 - 68s/epoch - 16ms/step
Epoch 22/100
4378/4378 - 68s - loss: 0.3363 - accuracy: 0.7579 - val_loss: 0.3418 - val_accuracy: 0.7824 - lr: 0.0010 - 68s/epoch - 15ms/step
Epoch 23/100
4378/4378 - 68s - loss: 0.3348 - accuracy: 0.7563 - val_loss: 0.3358 - val_accuracy: 0.7742 - lr: 0.0010 - 68s/epoch - 15ms/step
Epoch 24/100
4378/4378 - 68s - loss: 0.3353 - accuracy: 0.7555 - val_loss: 0.3465 - val_accuracy: 0.7557 - lr: 0.0010 - 68s/epoch - 16ms/step
Epoch 25/100
4378/4378 - 68s - loss: 0.3345 - accuracy: 0.7580 - val_loss: 0.3472 - val_accuracy: 0.7522 - lr: 0.0010 - 68s/epoch - 16ms/step
Epoch 26/100
4378/4378 - 68s - loss: 0.3354 - accuracy: 0.7551 - val_loss: 0.3391 - val_accuracy: 0.7521 - lr: 0.0010 - 68s/epoch - 16ms/step
Epoch 27/100
4378/4378 - 68s - loss: 0.3359 - accuracy: 0.7574 - val_loss: 0.3670 - val_accuracy: 0.6746 - lr: 0.0010 - 68s/epoch - 16ms/step
Epoch 28/100
4378/4378 - 68s - loss: 0.3354 - accuracy: 0.7559 - val_loss: 0.3679 - val_accuracy: 0.7238 - lr: 0.0010 - 68s/epoch - 16ms/step
Epoch 29/100
4378/4378 - 68s - loss: 0.3369 - accuracy: 0.7545 - val_loss: 0.3777 - val_accuracy: 0.6943 - lr: 0.0010 - 68s/epoch - 15ms/step
Epoch 30/100
4378/4378 - 68s - loss: 0.3378 - accuracy: 0.7544 - val_loss: 0.3384 - val_accuracy: 0.7472 - lr: 0.0010 - 68s/epoch - 15ms/step
Epoch 31/100
4378/4378 - 68s - loss: 0.3366 - accuracy: 0.7540 - val_loss: 0.3396 - val_accuracy: 0.7624 - lr: 0.0010 - 68s/epoch - 15ms/step
Epoch 32/100
4378/4378 - 68s - loss: 0.3357 - accuracy: 0.7553 - val_loss: 0.3505 - val_accuracy: 0.7428 - lr: 0.0010 - 68s/epoch - 16ms/step
Epoch 33/100
4378/4378 - 68s - loss: 0.3405 - accuracy: 0.7514 - val_loss: 0.3470 - val_accuracy: 0.7516 - lr: 0.0010 - 68s/epoch - 15ms/step
Epoch 34/100
4378/4378 - 68s - loss: 0.3392 - accuracy: 0.7506 - val_loss: 0.3497 - val_accuracy: 0.7518 - lr: 0.0010 - 68s/epoch - 15ms/step
Epoch 35/100
4378/4378 - 68s - loss: 0.3378 - accuracy: 0.7501 - val_loss: 0.3809 - val_accuracy: 0.6791 - lr: 0.0010 - 68s/epoch - 16ms/step
Epoch 36/100
4378/4378 - 68s - loss: 0.3380 - accuracy: 0.7512 - val_loss: 0.3499 - val_accuracy: 0.7415 - lr: 0.0010 - 68s/epoch - 15ms/step
Epoch 37/100
4378/4378 - 68s - loss: 0.3373 - accuracy: 0.7532 - val_loss: 0.3438 - val_accuracy: 0.7644 - lr: 0.0010 - 68s/epoch - 16ms/step
Epoch 38/100
4378/4378 - 68s - loss: 0.3371 - accuracy: 0.7539 - val_loss: 0.3527 - val_accuracy: 0.7642 - lr: 0.0010 - 68s/epoch - 15ms/step
Epoch 39/100
4378/4378 - 68s - loss: 0.3375 - accuracy: 0.7525 - val_loss: 0.3494 - val_accuracy: 0.7204 - lr: 0.0010 - 68s/epoch - 16ms/step
Epoch 40/100
4378/4378 - 68s - loss: 0.3376 - accuracy: 0.7507 - val_loss: 0.3495 - val_accuracy: 0.7347 - lr: 0.0010 - 68s/epoch - 16ms/step
Epoch 41/100
4378/4378 - 68s - loss: 0.3399 - accuracy: 0.7486 - val_loss: 0.3634 - val_accuracy: 0.7254 - lr: 0.0010 - 68s/epoch - 16ms/step
Epoch 42/100
4378/4378 - 68s - loss: 0.3394 - accuracy: 0.7494 - val_loss: 0.3524 - val_accuracy: 0.7461 - lr: 0.0010 - 68s/epoch - 16ms/step
Epoch 43/100
4378/4378 - 68s - loss: 0.3383 - accuracy: 0.7507 - val_loss: 0.3313 - val_accuracy: 0.7934 - lr: 0.0010 - 68s/epoch - 15ms/step
Epoch 44/100
4378/4378 - 68s - loss: 0.3389 - accuracy: 0.7498 - val_loss: 0.3699 - val_accuracy: 0.6991 - lr: 0.0010 - 68s/epoch - 16ms/step
Epoch 45/100
4378/4378 - 68s - loss: 0.3380 - accuracy: 0.7519 - val_loss: 0.3142 - val_accuracy: 0.8325 - lr: 0.0010 - 68s/epoch - 16ms/step
Epoch 46/100
4378/4378 - 67s - loss: 0.3383 - accuracy: 0.7500 - val_loss: 0.3450 - val_accuracy: 0.7540 - lr: 0.0010 - 67s/epoch - 15ms/step
Epoch 47/100
4378/4378 - 68s - loss: 0.3383 - accuracy: 0.7490 - val_loss: 0.3643 - val_accuracy: 0.7247 - lr: 0.0010 - 68s/epoch - 15ms/step
Epoch 48/100
4378/4378 - 68s - loss: 0.3386 - accuracy: 0.7508 - val_loss: 0.3424 - val_accuracy: 0.7575 - lr: 0.0010 - 68s/epoch - 16ms/step
Epoch 49/100
4378/4378 - 67s - loss: 0.3391 - accuracy: 0.7494 - val_loss: 0.3457 - val_accuracy: 0.7474 - lr: 0.0010 - 67s/epoch - 15ms/step
Epoch 50/100
4378/4378 - 67s - loss: 0.3381 - accuracy: 0.7525 - val_loss: 0.3258 - val_accuracy: 0.7907 - lr: 0.0010 - 67s/epoch - 15ms/step
Epoch 51/100
4378/4378 - 67s - loss: 0.3404 - accuracy: 0.7483 - val_loss: 0.3503 - val_accuracy: 0.7393 - lr: 0.0010 - 67s/epoch - 15ms/step
Epoch 52/100
4378/4378 - 68s - loss: 0.3395 - accuracy: 0.7474 - val_loss: 0.3550 - val_accuracy: 0.7558 - lr: 0.0010 - 68s/epoch - 15ms/step
Epoch 53/100
4378/4378 - 67s - loss: 0.3395 - accuracy: 0.7488 - val_loss: 0.3616 - val_accuracy: 0.7381 - lr: 0.0010 - 67s/epoch - 15ms/step
Epoch 54/100
4378/4378 - 68s - loss: 0.3400 - accuracy: 0.7472 - val_loss: 0.3386 - val_accuracy: 0.7595 - lr: 0.0010 - 68s/epoch - 15ms/step
Epoch 55/100
4378/4378 - 68s - loss: 0.3393 - accuracy: 0.7491 - val_loss: 0.3583 - val_accuracy: 0.7057 - lr: 0.0010 - 68s/epoch - 16ms/step
Epoch 56/100
4378/4378 - 68s - loss: 0.3397 - accuracy: 0.7486 - val_loss: 0.3441 - val_accuracy: 0.7757 - lr: 0.0010 - 68s/epoch - 15ms/step
Epoch 57/100
4378/4378 - 67s - loss: 0.3390 - accuracy: 0.7478 - val_loss: 0.3457 - val_accuracy: 0.7594 - lr: 0.0010 - 67s/epoch - 15ms/step
Epoch 58/100
4378/4378 - 68s - loss: 0.3395 - accuracy: 0.7478 - val_loss: 0.3477 - val_accuracy: 0.7654 - lr: 0.0010 - 68s/epoch - 15ms/step
Epoch 59/100
4378/4378 - 67s - loss: 0.3405 - accuracy: 0.7461 - val_loss: 0.3623 - val_accuracy: 0.7348 - lr: 0.0010 - 67s/epoch - 15ms/step
Epoch 60/100
4378/4378 - 68s - loss: 0.3398 - accuracy: 0.7480 - val_loss: 0.3450 - val_accuracy: 0.7637 - lr: 0.0010 - 68s/epoch - 15ms/step
Epoch 61/100
4378/4378 - 67s - loss: 0.3393 - accuracy: 0.7480 - val_loss: 0.3443 - val_accuracy: 0.7784 - lr: 0.0010 - 67s/epoch - 15ms/step
Epoch 62/100
4378/4378 - 67s - loss: 0.3393 - accuracy: 0.7485 - val_loss: 0.3627 - val_accuracy: 0.7391 - lr: 0.0010 - 67s/epoch - 15ms/step
Epoch 63/100
4378/4378 - 68s - loss: 0.3416 - accuracy: 0.7458 - val_loss: 0.3430 - val_accuracy: 0.7689 - lr: 0.0010 - 68s/epoch - 16ms/step
Epoch 64/100
4378/4378 - 68s - loss: 0.3411 - accuracy: 0.7453 - val_loss: 0.3309 - val_accuracy: 0.7965 - lr: 0.0010 - 68s/epoch - 16ms/step
Epoch 65/100
4378/4378 - 68s - loss: 0.3398 - accuracy: 0.7481 - val_loss: 0.3559 - val_accuracy: 0.7280 - lr: 0.0010 - 68s/epoch - 15ms/step
Epoch 66/100
4378/4378 - 68s - loss: 0.3406 - accuracy: 0.7459 - val_loss: 0.3435 - val_accuracy: 0.7680 - lr: 0.0010 - 68s/epoch - 15ms/step
Epoch 67/100
4378/4378 - 68s - loss: 0.3429 - accuracy: 0.7429 - val_loss: 0.3390 - val_accuracy: 0.7727 - lr: 0.0010 - 68s/epoch - 16ms/step
Epoch 68/100
4378/4378 - 68s - loss: 0.3410 - accuracy: 0.7466 - val_loss: 0.3395 - val_accuracy: 0.7624 - lr: 0.0010 - 68s/epoch - 15ms/step
Epoch 69/100
4378/4378 - 67s - loss: 0.3424 - accuracy: 0.7433 - val_loss: 0.3428 - val_accuracy: 0.7585 - lr: 0.0010 - 67s/epoch - 15ms/step
Epoch 70/100
4378/4378 - 68s - loss: 0.3413 - accuracy: 0.7440 - val_loss: 0.3695 - val_accuracy: 0.6899 - lr: 0.0010 - 68s/epoch - 16ms/step
Epoch 71/100
4378/4378 - 68s - loss: 0.3433 - accuracy: 0.7424 - val_loss: 0.3363 - val_accuracy: 0.7882 - lr: 0.0010 - 68s/epoch - 16ms/step
Epoch 72/100
4378/4378 - 68s - loss: 0.3431 - accuracy: 0.7429 - val_loss: 0.3771 - val_accuracy: 0.6859 - lr: 0.0010 - 68s/epoch - 16ms/step
Epoch 73/100
4378/4378 - 68s - loss: 0.3423 - accuracy: 0.7436 - val_loss: 0.3283 - val_accuracy: 0.7649 - lr: 0.0010 - 68s/epoch - 16ms/step
Epoch 74/100
4378/4378 - 68s - loss: 0.3423 - accuracy: 0.7438 - val_loss: 0.3474 - val_accuracy: 0.7340 - lr: 0.0010 - 68s/epoch - 16ms/step
Epoch 75/100
4378/4378 - 67s - loss: 0.3431 - accuracy: 0.7413 - val_loss: 0.3625 - val_accuracy: 0.7104 - lr: 0.0010 - 67s/epoch - 15ms/step
Epoch 76/100
4378/4378 - 68s - loss: 0.3467 - accuracy: 0.7411 - val_loss: 0.3332 - val_accuracy: 0.8065 - lr: 0.0010 - 68s/epoch - 16ms/step
Epoch 77/100
4378/4378 - 67s - loss: 0.3433 - accuracy: 0.7415 - val_loss: 0.3252 - val_accuracy: 0.7828 - lr: 0.0010 - 67s/epoch - 15ms/step
Epoch 78/100
4378/4378 - 68s - loss: 0.3440 - accuracy: 0.7406 - val_loss: 0.3374 - val_accuracy: 0.7721 - lr: 0.0010 - 68s/epoch - 16ms/step
Epoch 79/100
4378/4378 - 67s - loss: 0.3428 - accuracy: 0.7409 - val_loss: 0.3108 - val_accuracy: 0.8322 - lr: 0.0010 - 67s/epoch - 15ms/step
Epoch 80/100
4378/4378 - 68s - loss: 0.3437 - accuracy: 0.7404 - val_loss: 0.3512 - val_accuracy: 0.7650 - lr: 0.0010 - 68s/epoch - 15ms/step
Epoch 81/100
4378/4378 - 68s - loss: 0.3520 - accuracy: 0.7363 - val_loss: 0.3538 - val_accuracy: 0.7209 - lr: 0.0010 - 68s/epoch - 16ms/step
Epoch 82/100
4378/4378 - 67s - loss: 0.3443 - accuracy: 0.7397 - val_loss: 0.3311 - val_accuracy: 0.8276 - lr: 0.0010 - 67s/epoch - 15ms/step
Epoch 83/100
4378/4378 - 68s - loss: 0.3439 - accuracy: 0.7400 - val_loss: 0.3385 - val_accuracy: 0.7817 - lr: 0.0010 - 68s/epoch - 15ms/step
Epoch 84/100
4378/4378 - 68s - loss: 0.3440 - accuracy: 0.7407 - val_loss: 0.3291 - val_accuracy: 0.8254 - lr: 0.0010 - 68s/epoch - 15ms/step
Epoch 85/100
4378/4378 - 68s - loss: 0.3445 - accuracy: 0.7394 - val_loss: 0.3598 - val_accuracy: 0.7376 - lr: 0.0010 - 68s/epoch - 16ms/step
Epoch 86/100
4378/4378 - 67s - loss: 0.3460 - accuracy: 0.7377 - val_loss: 0.3526 - val_accuracy: 0.7346 - lr: 0.0010 - 67s/epoch - 15ms/step
Epoch 87/100
4378/4378 - 68s - loss: 0.3449 - accuracy: 0.7383 - val_loss: 0.3647 - val_accuracy: 0.7484 - lr: 0.0010 - 68s/epoch - 16ms/step
Epoch 88/100
4378/4378 - 68s - loss: 0.3473 - accuracy: 0.7349 - val_loss: 0.3470 - val_accuracy: 0.7792 - lr: 0.0010 - 68s/epoch - 16ms/step
Epoch 89/100
4378/4378 - 68s - loss: 0.3564 - accuracy: 0.7303 - val_loss: 0.3695 - val_accuracy: 0.7188 - lr: 0.0010 - 68s/epoch - 16ms/step
Epoch 90/100
4378/4378 - 67s - loss: 0.3458 - accuracy: 0.7373 - val_loss: 0.3468 - val_accuracy: 0.7600 - lr: 0.0010 - 67s/epoch - 15ms/step
Epoch 91/100
4378/4378 - 70s - loss: 0.3456 - accuracy: 0.7376 - val_loss: 0.3135 - val_accuracy: 0.8113 - lr: 0.0010 - 70s/epoch - 16ms/step
Epoch 92/100
4378/4378 - 68s - loss: 0.3443 - accuracy: 0.7393 - val_loss: 0.3435 - val_accuracy: 0.7770 - lr: 0.0010 - 68s/epoch - 16ms/step
Epoch 93/100
4378/4378 - 68s - loss: 0.3479 - accuracy: 0.7369 - val_loss: 0.3440 - val_accuracy: 0.7656 - lr: 0.0010 - 68s/epoch - 16ms/step
Epoch 94/100
4378/4378 - 68s - loss: 0.3439 - accuracy: 0.7386 - val_loss: 0.3566 - val_accuracy: 0.7212 - lr: 0.0010 - 68s/epoch - 16ms/step
Epoch 95/100
4378/4378 - 68s - loss: 0.3448 - accuracy: 0.7380 - val_loss: 0.3552 - val_accuracy: 0.7273 - lr: 0.0010 - 68s/epoch - 16ms/step
Epoch 96/100
4378/4378 - 68s - loss: 0.3484 - accuracy: 0.7318 - val_loss: 0.3319 - val_accuracy: 0.7965 - lr: 0.0010 - 68s/epoch - 15ms/step
Epoch 97/100
4378/4378 - 69s - loss: 2.3900 - accuracy: 0.2856 - val_loss: 2.0762 - val_accuracy: 0.0281 - lr: 0.0010 - 69s/epoch - 16ms/step
Epoch 98/100
4378/4378 - 68s - loss: 2.7793 - accuracy: 0.1999 - val_loss: 3.3406 - val_accuracy: 0.0254 - lr: 0.0010 - 68s/epoch - 16ms/step
Epoch 99/100
4378/4378 - 68s - loss: 2.7789 - accuracy: 0.2000 - val_loss: 3.3406 - val_accuracy: 0.0254 - lr: 0.0010 - 68s/epoch - 16ms/step
Epoch 100/100
4378/4378 - 68s - loss: 2.7789 - accuracy: 0.2000 - val_loss: 3.3406 - val_accuracy: 0.0254 - lr: 0.0010 - 68s/epoch - 15ms/step
fitting with batch size: 100
Epoch 1/100
876/876 - 19s - loss: 2.7789 - accuracy: 0.2000 - val_loss: 3.3406 - val_accuracy: 0.0254 - lr: 0.0010 - 19s/epoch - 22ms/step
Epoch 2/100
876/876 - 17s - loss: 2.7789 - accuracy: 0.2000 - val_loss: 3.3406 - val_accuracy: 0.0254 - lr: 0.0010 - 17s/epoch - 19ms/step
Epoch 3/100
876/876 - 17s - loss: 2.7789 - accuracy: 0.2000 - val_loss: 3.3406 - val_accuracy: 0.0254 - lr: 0.0010 - 17s/epoch - 19ms/step
Epoch 4/100
876/876 - 17s - loss: 2.7789 - accuracy: 0.2000 - val_loss: 3.3406 - val_accuracy: 0.0254 - lr: 0.0010 - 17s/epoch - 19ms/step
Epoch 5/100
876/876 - 17s - loss: 2.7789 - accuracy: 0.2000 - val_loss: 3.3406 - val_accuracy: 0.0254 - lr: 0.0010 - 17s/epoch - 19ms/step
Epoch 6/100
876/876 - 17s - loss: 2.7789 - accuracy: 0.2000 - val_loss: 3.3406 - val_accuracy: 0.0254 - lr: 0.0010 - 17s/epoch - 19ms/step
Epoch 7/100
876/876 - 17s - loss: 2.7789 - accuracy: 0.2000 - val_loss: 3.3406 - val_accuracy: 0.0254 - lr: 0.0010 - 17s/epoch - 19ms/step
Epoch 8/100
876/876 - 17s - loss: 2.7789 - accuracy: 0.2000 - val_loss: 3.3406 - val_accuracy: 0.0254 - lr: 0.0010 - 17s/epoch - 19ms/step
Epoch 9/100
876/876 - 17s - loss: 2.7789 - accuracy: 0.2000 - val_loss: 3.3406 - val_accuracy: 0.0254 - lr: 0.0010 - 17s/epoch - 19ms/step
Epoch 10/100
876/876 - 17s - loss: 2.7789 - accuracy: 0.2000 - val_loss: 3.3406 - val_accuracy: 0.0254 - lr: 0.0010 - 17s/epoch - 19ms/step
Epoch 11/100
876/876 - 17s - loss: 2.7789 - accuracy: 0.2000 - val_loss: 3.3406 - val_accuracy: 0.0254 - lr: 0.0010 - 17s/epoch - 19ms/step
Epoch 12/100
876/876 - 17s - loss: 2.7789 - accuracy: 0.2000 - val_loss: 3.3406 - val_accuracy: 0.0254 - lr: 0.0010 - 17s/epoch - 19ms/step
Epoch 13/100
876/876 - 17s - loss: 2.7789 - accuracy: 0.2000 - val_loss: 3.3406 - val_accuracy: 0.0254 - lr: 0.0010 - 17s/epoch - 19ms/step
Epoch 14/100
876/876 - 17s - loss: 2.7789 - accuracy: 0.2000 - val_loss: 3.3406 - val_accuracy: 0.0254 - lr: 0.0010 - 17s/epoch - 19ms/step
Epoch 15/100
876/876 - 17s - loss: 2.7789 - accuracy: 0.2000 - val_loss: 3.3406 - val_accuracy: 0.0254 - lr: 0.0010 - 17s/epoch - 19ms/step
Epoch 16/100
876/876 - 17s - loss: 2.7789 - accuracy: 0.2000 - val_loss: 3.3406 - val_accuracy: 0.0254 - lr: 0.0010 - 17s/epoch - 19ms/step
Epoch 17/100
876/876 - 17s - loss: 2.7789 - accuracy: 0.2000 - val_loss: 3.3406 - val_accuracy: 0.0254 - lr: 0.0010 - 17s/epoch - 19ms/step
Epoch 18/100
876/876 - 17s - loss: 2.7789 - accuracy: 0.2000 - val_loss: 3.3406 - val_accuracy: 0.0254 - lr: 0.0010 - 17s/epoch - 19ms/step
Epoch 19/100
876/876 - 17s - loss: 2.7789 - accuracy: 0.2000 - val_loss: 3.3406 - val_accuracy: 0.0254 - lr: 0.0010 - 17s/epoch - 19ms/step
Epoch 20/100
876/876 - 17s - loss: 2.7789 - accuracy: 0.2000 - val_loss: 3.3406 - val_accuracy: 0.0254 - lr: 0.0010 - 17s/epoch - 19ms/step
Epoch 21/100
876/876 - 17s - loss: 2.7789 - accuracy: 0.2000 - val_loss: 3.3406 - val_accuracy: 0.0254 - lr: 0.0010 - 17s/epoch - 19ms/step
Epoch 22/100
876/876 - 17s - loss: 2.7789 - accuracy: 0.2000 - val_loss: 3.3406 - val_accuracy: 0.0254 - lr: 0.0010 - 17s/epoch - 19ms/step
Epoch 23/100
876/876 - 17s - loss: 2.7789 - accuracy: 0.2000 - val_loss: 3.3406 - val_accuracy: 0.0254 - lr: 0.0010 - 17s/epoch - 19ms/step
Epoch 24/100
876/876 - 17s - loss: 2.7789 - accuracy: 0.2000 - val_loss: 3.3406 - val_accuracy: 0.0254 - lr: 0.0010 - 17s/epoch - 19ms/step
Epoch 25/100
876/876 - 17s - loss: 2.7789 - accuracy: 0.2000 - val_loss: 3.3406 - val_accuracy: 0.0254 - lr: 0.0010 - 17s/epoch - 19ms/step
Epoch 26/100
876/876 - 17s - loss: 2.7789 - accuracy: 0.2000 - val_loss: 3.3406 - val_accuracy: 0.0254 - lr: 0.0010 - 17s/epoch - 19ms/step
Epoch 27/100
876/876 - 17s - loss: 2.7789 - accuracy: 0.2000 - val_loss: 3.3406 - val_accuracy: 0.0254 - lr: 0.0010 - 17s/epoch - 19ms/step
Epoch 28/100
876/876 - 17s - loss: 2.7789 - accuracy: 0.2000 - val_loss: 3.3406 - val_accuracy: 0.0254 - lr: 0.0010 - 17s/epoch - 19ms/step
Epoch 29/100
876/876 - 17s - loss: 2.7789 - accuracy: 0.2000 - val_loss: 3.3406 - val_accuracy: 0.0254 - lr: 0.0010 - 17s/epoch - 19ms/step
Epoch 30/100
876/876 - 17s - loss: 2.7789 - accuracy: 0.2000 - val_loss: 3.3406 - val_accuracy: 0.0254 - lr: 0.0010 - 17s/epoch - 19ms/step
Epoch 31/100
876/876 - 17s - loss: 2.7789 - accuracy: 0.2000 - val_loss: 3.3406 - val_accuracy: 0.0254 - lr: 0.0010 - 17s/epoch - 19ms/step
Epoch 32/100
876/876 - 17s - loss: 2.7789 - accuracy: 0.2000 - val_loss: 3.3406 - val_accuracy: 0.0254 - lr: 0.0010 - 17s/epoch - 19ms/step
Epoch 33/100
876/876 - 17s - loss: 2.7789 - accuracy: 0.2000 - val_loss: 3.3406 - val_accuracy: 0.0254 - lr: 0.0010 - 17s/epoch - 19ms/step
Epoch 34/100
876/876 - 17s - loss: 2.7789 - accuracy: 0.2000 - val_loss: 3.3406 - val_accuracy: 0.0254 - lr: 0.0010 - 17s/epoch - 19ms/step
Epoch 35/100
876/876 - 17s - loss: 2.7789 - accuracy: 0.2000 - val_loss: 3.3406 - val_accuracy: 0.0254 - lr: 0.0010 - 17s/epoch - 19ms/step
Epoch 36/100
876/876 - 17s - loss: 2.7789 - accuracy: 0.2000 - val_loss: 3.3406 - val_accuracy: 0.0254 - lr: 0.0010 - 17s/epoch - 19ms/step
Epoch 37/100
876/876 - 17s - loss: 2.7789 - accuracy: 0.2000 - val_loss: 3.3406 - val_accuracy: 0.0254 - lr: 0.0010 - 17s/epoch - 19ms/step
Epoch 38/100
876/876 - 17s - loss: 2.7789 - accuracy: 0.2000 - val_loss: 3.3406 - val_accuracy: 0.0254 - lr: 0.0010 - 17s/epoch - 19ms/step
Epoch 39/100
876/876 - 17s - loss: 2.7789 - accuracy: 0.2000 - val_loss: 3.3406 - val_accuracy: 0.0254 - lr: 0.0010 - 17s/epoch - 19ms/step
Epoch 40/100
876/876 - 17s - loss: 2.7789 - accuracy: 0.2000 - val_loss: 3.3406 - val_accuracy: 0.0254 - lr: 0.0010 - 17s/epoch - 19ms/step
Epoch 41/100
876/876 - 17s - loss: 2.7789 - accuracy: 0.2000 - val_loss: 3.3406 - val_accuracy: 0.0254 - lr: 0.0010 - 17s/epoch - 19ms/step
Epoch 42/100
876/876 - 17s - loss: 2.7789 - accuracy: 0.2000 - val_loss: 3.3406 - val_accuracy: 0.0254 - lr: 0.0010 - 17s/epoch - 19ms/step
Epoch 43/100
876/876 - 17s - loss: 2.7789 - accuracy: 0.2000 - val_loss: 3.3406 - val_accuracy: 0.0254 - lr: 0.0010 - 17s/epoch - 19ms/step
Epoch 44/100
876/876 - 17s - loss: 2.7789 - accuracy: 0.2000 - val_loss: 3.3406 - val_accuracy: 0.0254 - lr: 0.0010 - 17s/epoch - 19ms/step
Epoch 45/100
876/876 - 17s - loss: 2.7789 - accuracy: 0.2000 - val_loss: 3.3406 - val_accuracy: 0.0254 - lr: 0.0010 - 17s/epoch - 19ms/step
Epoch 46/100
876/876 - 17s - loss: 2.7789 - accuracy: 0.2000 - val_loss: 3.3406 - val_accuracy: 0.0254 - lr: 0.0010 - 17s/epoch - 19ms/step
Epoch 47/100
876/876 - 17s - loss: 2.7789 - accuracy: 0.2000 - val_loss: 3.3406 - val_accuracy: 0.0254 - lr: 0.0010 - 17s/epoch - 19ms/step
Epoch 48/100
876/876 - 17s - loss: 2.7789 - accuracy: 0.2000 - val_loss: 3.3406 - val_accuracy: 0.0254 - lr: 0.0010 - 17s/epoch - 19ms/step
Epoch 49/100
876/876 - 17s - loss: 2.7789 - accuracy: 0.2000 - val_loss: 3.3406 - val_accuracy: 0.0254 - lr: 0.0010 - 17s/epoch - 19ms/step
Epoch 50/100
876/876 - 17s - loss: 2.7789 - accuracy: 0.2000 - val_loss: 3.3406 - val_accuracy: 0.0254 - lr: 0.0010 - 17s/epoch - 19ms/step
Epoch 51/100
876/876 - 17s - loss: 2.7789 - accuracy: 0.2000 - val_loss: 3.3406 - val_accuracy: 0.0254 - lr: 0.0010 - 17s/epoch - 19ms/step
Epoch 52/100
876/876 - 17s - loss: 2.7789 - accuracy: 0.2000 - val_loss: 3.3406 - val_accuracy: 0.0254 - lr: 0.0010 - 17s/epoch - 19ms/step
Epoch 53/100
876/876 - 17s - loss: 2.7789 - accuracy: 0.2000 - val_loss: 3.3406 - val_accuracy: 0.0254 - lr: 0.0010 - 17s/epoch - 19ms/step
Epoch 54/100
876/876 - 17s - loss: 2.7789 - accuracy: 0.2000 - val_loss: 3.3406 - val_accuracy: 0.0254 - lr: 0.0010 - 17s/epoch - 19ms/step
Epoch 55/100
876/876 - 17s - loss: 2.7789 - accuracy: 0.2000 - val_loss: 3.3406 - val_accuracy: 0.0254 - lr: 0.0010 - 17s/epoch - 19ms/step
Epoch 56/100
876/876 - 17s - loss: 2.7789 - accuracy: 0.2000 - val_loss: 3.3406 - val_accuracy: 0.0254 - lr: 0.0010 - 17s/epoch - 19ms/step
Epoch 57/100
876/876 - 17s - loss: 2.7789 - accuracy: 0.2000 - val_loss: 3.3406 - val_accuracy: 0.0254 - lr: 0.0010 - 17s/epoch - 19ms/step
Epoch 58/100
876/876 - 17s - loss: 2.7789 - accuracy: 0.2000 - val_loss: 3.3406 - val_accuracy: 0.0254 - lr: 0.0010 - 17s/epoch - 19ms/step
Epoch 59/100
876/876 - 17s - loss: 2.7789 - accuracy: 0.2000 - val_loss: 3.3406 - val_accuracy: 0.0254 - lr: 0.0010 - 17s/epoch - 19ms/step
Epoch 60/100
876/876 - 17s - loss: 2.7789 - accuracy: 0.2000 - val_loss: 3.3406 - val_accuracy: 0.0254 - lr: 0.0010 - 17s/epoch - 19ms/step
Epoch 61/100
876/876 - 17s - loss: 2.7789 - accuracy: 0.2000 - val_loss: 3.3406 - val_accuracy: 0.0254 - lr: 0.0010 - 17s/epoch - 19ms/step
Epoch 62/100
876/876 - 17s - loss: 2.7789 - accuracy: 0.2000 - val_loss: 3.3406 - val_accuracy: 0.0254 - lr: 0.0010 - 17s/epoch - 19ms/step
Epoch 63/100
876/876 - 17s - loss: 2.7789 - accuracy: 0.2000 - val_loss: 3.3406 - val_accuracy: 0.0254 - lr: 0.0010 - 17s/epoch - 19ms/step
Epoch 64/100
876/876 - 17s - loss: 2.7789 - accuracy: 0.2000 - val_loss: 3.3406 - val_accuracy: 0.0254 - lr: 0.0010 - 17s/epoch - 19ms/step
Epoch 65/100
876/876 - 17s - loss: 2.7789 - accuracy: 0.2000 - val_loss: 3.3406 - val_accuracy: 0.0254 - lr: 0.0010 - 17s/epoch - 19ms/step
Epoch 66/100
876/876 - 17s - loss: 2.7789 - accuracy: 0.2000 - val_loss: 3.3406 - val_accuracy: 0.0254 - lr: 0.0010 - 17s/epoch - 19ms/step
Epoch 67/100
876/876 - 17s - loss: 2.7789 - accuracy: 0.2000 - val_loss: 3.3406 - val_accuracy: 0.0254 - lr: 0.0010 - 17s/epoch - 19ms/step
Epoch 68/100
876/876 - 17s - loss: 2.7789 - accuracy: 0.2000 - val_loss: 3.3406 - val_accuracy: 0.0254 - lr: 0.0010 - 17s/epoch - 19ms/step
Epoch 69/100
876/876 - 17s - loss: 2.7789 - accuracy: 0.2000 - val_loss: 3.3406 - val_accuracy: 0.0254 - lr: 0.0010 - 17s/epoch - 19ms/step
Epoch 70/100
876/876 - 17s - loss: 2.7789 - accuracy: 0.2000 - val_loss: 3.3406 - val_accuracy: 0.0254 - lr: 0.0010 - 17s/epoch - 19ms/step
Epoch 71/100
876/876 - 17s - loss: 2.7789 - accuracy: 0.2000 - val_loss: 3.3406 - val_accuracy: 0.0254 - lr: 0.0010 - 17s/epoch - 19ms/step
Epoch 72/100
876/876 - 17s - loss: 2.7789 - accuracy: 0.2000 - val_loss: 3.3406 - val_accuracy: 0.0254 - lr: 0.0010 - 17s/epoch - 19ms/step
Epoch 73/100
876/876 - 17s - loss: 2.7789 - accuracy: 0.2000 - val_loss: 3.3406 - val_accuracy: 0.0254 - lr: 0.0010 - 17s/epoch - 19ms/step
Epoch 74/100
876/876 - 17s - loss: 2.7789 - accuracy: 0.2000 - val_loss: 3.3406 - val_accuracy: 0.0254 - lr: 0.0010 - 17s/epoch - 19ms/step
Epoch 75/100
876/876 - 17s - loss: 2.7789 - accuracy: 0.2000 - val_loss: 3.3406 - val_accuracy: 0.0254 - lr: 0.0010 - 17s/epoch - 19ms/step
Epoch 76/100
876/876 - 17s - loss: 2.7789 - accuracy: 0.2000 - val_loss: 3.3406 - val_accuracy: 0.0254 - lr: 0.0010 - 17s/epoch - 19ms/step
Epoch 77/100
876/876 - 17s - loss: 2.7789 - accuracy: 0.2000 - val_loss: 3.3406 - val_accuracy: 0.0254 - lr: 0.0010 - 17s/epoch - 19ms/step
Epoch 78/100
876/876 - 17s - loss: 2.7789 - accuracy: 0.2000 - val_loss: 3.3406 - val_accuracy: 0.0254 - lr: 0.0010 - 17s/epoch - 19ms/step
Epoch 79/100
876/876 - 17s - loss: 2.7789 - accuracy: 0.2000 - val_loss: 3.3406 - val_accuracy: 0.0254 - lr: 0.0010 - 17s/epoch - 19ms/step
Epoch 80/100
876/876 - 17s - loss: 2.7789 - accuracy: 0.2000 - val_loss: 3.3406 - val_accuracy: 0.0254 - lr: 0.0010 - 17s/epoch - 19ms/step
Epoch 81/100
876/876 - 17s - loss: 2.7789 - accuracy: 0.2000 - val_loss: 3.3406 - val_accuracy: 0.0254 - lr: 0.0010 - 17s/epoch - 19ms/step
Epoch 82/100
876/876 - 17s - loss: 2.7789 - accuracy: 0.2000 - val_loss: 3.3406 - val_accuracy: 0.0254 - lr: 0.0010 - 17s/epoch - 19ms/step
Epoch 83/100
876/876 - 17s - loss: 2.7789 - accuracy: 0.2000 - val_loss: 3.3406 - val_accuracy: 0.0254 - lr: 0.0010 - 17s/epoch - 19ms/step
Epoch 84/100
876/876 - 17s - loss: 2.7789 - accuracy: 0.2000 - val_loss: 3.3406 - val_accuracy: 0.0254 - lr: 0.0010 - 17s/epoch - 19ms/step
Epoch 85/100
876/876 - 17s - loss: 2.7789 - accuracy: 0.2000 - val_loss: 3.3406 - val_accuracy: 0.0254 - lr: 0.0010 - 17s/epoch - 19ms/step
Epoch 86/100
876/876 - 17s - loss: 2.7789 - accuracy: 0.2000 - val_loss: 3.3406 - val_accuracy: 0.0254 - lr: 0.0010 - 17s/epoch - 19ms/step
Epoch 87/100
876/876 - 17s - loss: 2.7789 - accuracy: 0.2000 - val_loss: 3.3406 - val_accuracy: 0.0254 - lr: 0.0010 - 17s/epoch - 19ms/step
Epoch 88/100
876/876 - 17s - loss: 2.7789 - accuracy: 0.2000 - val_loss: 3.3406 - val_accuracy: 0.0254 - lr: 0.0010 - 17s/epoch - 19ms/step
Epoch 89/100
876/876 - 17s - loss: 2.7789 - accuracy: 0.2000 - val_loss: 3.3406 - val_accuracy: 0.0254 - lr: 0.0010 - 17s/epoch - 19ms/step
Epoch 90/100
876/876 - 17s - loss: 2.7789 - accuracy: 0.2000 - val_loss: 3.3406 - val_accuracy: 0.0254 - lr: 0.0010 - 17s/epoch - 19ms/step
Epoch 91/100
876/876 - 17s - loss: 2.7789 - accuracy: 0.2000 - val_loss: 3.3406 - val_accuracy: 0.0254 - lr: 0.0010 - 17s/epoch - 19ms/step
Epoch 92/100
876/876 - 17s - loss: 2.7789 - accuracy: 0.2000 - val_loss: 3.3406 - val_accuracy: 0.0254 - lr: 0.0010 - 17s/epoch - 19ms/step
Epoch 93/100
876/876 - 17s - loss: 2.7789 - accuracy: 0.2000 - val_loss: 3.3406 - val_accuracy: 0.0254 - lr: 0.0010 - 17s/epoch - 19ms/step
Epoch 94/100
876/876 - 17s - loss: 2.7789 - accuracy: 0.2000 - val_loss: 3.3406 - val_accuracy: 0.0254 - lr: 0.0010 - 17s/epoch - 19ms/step
Epoch 95/100
876/876 - 17s - loss: 2.7789 - accuracy: 0.2000 - val_loss: 3.3406 - val_accuracy: 0.0254 - lr: 0.0010 - 17s/epoch - 19ms/step
Epoch 96/100
876/876 - 17s - loss: 2.7789 - accuracy: 0.2000 - val_loss: 3.3406 - val_accuracy: 0.0254 - lr: 0.0010 - 17s/epoch - 19ms/step
Epoch 97/100
876/876 - 17s - loss: 2.7789 - accuracy: 0.2000 - val_loss: 3.3406 - val_accuracy: 0.0254 - lr: 0.0010 - 17s/epoch - 19ms/step
Epoch 98/100
876/876 - 17s - loss: 2.7789 - accuracy: 0.2000 - val_loss: 3.3406 - val_accuracy: 0.0254 - lr: 0.0010 - 17s/epoch - 19ms/step
Epoch 99/100
876/876 - 17s - loss: 2.7789 - accuracy: 0.2000 - val_loss: 3.3406 - val_accuracy: 0.0254 - lr: 0.0010 - 17s/epoch - 19ms/step
Epoch 100/100
876/876 - 17s - loss: 2.7789 - accuracy: 0.2000 - val_loss: 3.3406 - val_accuracy: 0.0254 - lr: 0.0010 - 17s/epoch - 19ms/step
fitting with batch size: 500
Epoch 1/100
176/176 - 11s - loss: 2.7789 - accuracy: 0.2000 - val_loss: 3.3406 - val_accuracy: 0.0254 - lr: 0.0010 - 11s/epoch - 61ms/step
Epoch 2/100
176/176 - 8s - loss: 2.7789 - accuracy: 0.2000 - val_loss: 3.3406 - val_accuracy: 0.0254 - lr: 0.0010 - 8s/epoch - 47ms/step
Epoch 3/100
176/176 - 8s - loss: 2.7789 - accuracy: 0.2000 - val_loss: 3.3406 - val_accuracy: 0.0254 - lr: 0.0010 - 8s/epoch - 48ms/step
Epoch 4/100
176/176 - 8s - loss: 2.7789 - accuracy: 0.2000 - val_loss: 3.3406 - val_accuracy: 0.0254 - lr: 0.0010 - 8s/epoch - 48ms/step
Epoch 5/100
176/176 - 8s - loss: 2.7789 - accuracy: 0.2000 - val_loss: 3.3406 - val_accuracy: 0.0254 - lr: 0.0010 - 8s/epoch - 48ms/step
Epoch 6/100
176/176 - 8s - loss: 2.7789 - accuracy: 0.2000 - val_loss: 3.3406 - val_accuracy: 0.0254 - lr: 0.0010 - 8s/epoch - 47ms/step
Epoch 7/100
176/176 - 8s - loss: 2.7789 - accuracy: 0.2000 - val_loss: 3.3406 - val_accuracy: 0.0254 - lr: 0.0010 - 8s/epoch - 48ms/step
Epoch 8/100
176/176 - 8s - loss: 2.7789 - accuracy: 0.2000 - val_loss: 3.3406 - val_accuracy: 0.0254 - lr: 0.0010 - 8s/epoch - 48ms/step
Epoch 9/100
176/176 - 8s - loss: 2.7789 - accuracy: 0.2000 - val_loss: 3.3406 - val_accuracy: 0.0254 - lr: 0.0010 - 8s/epoch - 48ms/step
Epoch 10/100
176/176 - 8s - loss: 2.7789 - accuracy: 0.2000 - val_loss: 3.3406 - val_accuracy: 0.0254 - lr: 0.0010 - 8s/epoch - 48ms/step
Epoch 11/100
176/176 - 8s - loss: 2.7789 - accuracy: 0.2000 - val_loss: 3.3406 - val_accuracy: 0.0254 - lr: 0.0010 - 8s/epoch - 48ms/step
Epoch 12/100
176/176 - 8s - loss: 2.7789 - accuracy: 0.2000 - val_loss: 3.3406 - val_accuracy: 0.0254 - lr: 0.0010 - 8s/epoch - 48ms/step
Epoch 13/100
176/176 - 8s - loss: 2.7789 - accuracy: 0.2000 - val_loss: 3.3406 - val_accuracy: 0.0254 - lr: 0.0010 - 8s/epoch - 48ms/step
Epoch 14/100
176/176 - 8s - loss: 2.7789 - accuracy: 0.2000 - val_loss: 3.3406 - val_accuracy: 0.0254 - lr: 0.0010 - 8s/epoch - 48ms/step
Epoch 15/100
176/176 - 8s - loss: 2.7789 - accuracy: 0.2000 - val_loss: 3.3406 - val_accuracy: 0.0254 - lr: 0.0010 - 8s/epoch - 48ms/step
Epoch 16/100
176/176 - 8s - loss: 2.7789 - accuracy: 0.2000 - val_loss: 3.3406 - val_accuracy: 0.0254 - lr: 0.0010 - 8s/epoch - 48ms/step
Epoch 17/100
176/176 - 8s - loss: 2.7789 - accuracy: 0.2000 - val_loss: 3.3406 - val_accuracy: 0.0254 - lr: 0.0010 - 8s/epoch - 48ms/step
Epoch 18/100
176/176 - 8s - loss: 2.7789 - accuracy: 0.2000 - val_loss: 3.3406 - val_accuracy: 0.0254 - lr: 0.0010 - 8s/epoch - 48ms/step
Epoch 19/100
176/176 - 8s - loss: 2.7789 - accuracy: 0.2000 - val_loss: 3.3406 - val_accuracy: 0.0254 - lr: 0.0010 - 8s/epoch - 48ms/step
Epoch 20/100
176/176 - 8s - loss: 2.7789 - accuracy: 0.2000 - val_loss: 3.3406 - val_accuracy: 0.0254 - lr: 0.0010 - 8s/epoch - 48ms/step
Epoch 21/100
176/176 - 8s - loss: 2.7789 - accuracy: 0.2000 - val_loss: 3.3406 - val_accuracy: 0.0254 - lr: 0.0010 - 8s/epoch - 48ms/step
Epoch 22/100
176/176 - 8s - loss: 2.7789 - accuracy: 0.2000 - val_loss: 3.3406 - val_accuracy: 0.0254 - lr: 0.0010 - 8s/epoch - 48ms/step
Epoch 23/100
176/176 - 8s - loss: 2.7789 - accuracy: 0.2000 - val_loss: 3.3406 - val_accuracy: 0.0254 - lr: 0.0010 - 8s/epoch - 48ms/step
Epoch 24/100
176/176 - 8s - loss: 2.7789 - accuracy: 0.2000 - val_loss: 3.3406 - val_accuracy: 0.0254 - lr: 0.0010 - 8s/epoch - 48ms/step
Epoch 25/100
176/176 - 8s - loss: 2.7789 - accuracy: 0.2000 - val_loss: 3.3406 - val_accuracy: 0.0254 - lr: 0.0010 - 8s/epoch - 48ms/step
Epoch 26/100
176/176 - 8s - loss: 2.7789 - accuracy: 0.2000 - val_loss: 3.3406 - val_accuracy: 0.0254 - lr: 0.0010 - 8s/epoch - 48ms/step
Epoch 27/100
176/176 - 8s - loss: 2.7789 - accuracy: 0.2000 - val_loss: 3.3406 - val_accuracy: 0.0254 - lr: 0.0010 - 8s/epoch - 48ms/step
Epoch 28/100
176/176 - 8s - loss: 2.7789 - accuracy: 0.2000 - val_loss: 3.3406 - val_accuracy: 0.0254 - lr: 0.0010 - 8s/epoch - 48ms/step
Epoch 29/100
176/176 - 8s - loss: 2.7789 - accuracy: 0.2000 - val_loss: 3.3406 - val_accuracy: 0.0254 - lr: 0.0010 - 8s/epoch - 48ms/step
Epoch 30/100
176/176 - 8s - loss: 2.7789 - accuracy: 0.2000 - val_loss: 3.3406 - val_accuracy: 0.0254 - lr: 0.0010 - 8s/epoch - 48ms/step
Epoch 31/100
176/176 - 8s - loss: 2.7789 - accuracy: 0.2000 - val_loss: 3.3406 - val_accuracy: 0.0254 - lr: 0.0010 - 8s/epoch - 48ms/step
Epoch 32/100
176/176 - 8s - loss: 2.7789 - accuracy: 0.2000 - val_loss: 3.3406 - val_accuracy: 0.0254 - lr: 0.0010 - 8s/epoch - 48ms/step
Epoch 33/100
176/176 - 8s - loss: 2.7789 - accuracy: 0.2000 - val_loss: 3.3406 - val_accuracy: 0.0254 - lr: 0.0010 - 8s/epoch - 48ms/step
Epoch 34/100
176/176 - 8s - loss: 2.7789 - accuracy: 0.2000 - val_loss: 3.3406 - val_accuracy: 0.0254 - lr: 0.0010 - 8s/epoch - 48ms/step
Epoch 35/100
176/176 - 8s - loss: 2.7789 - accuracy: 0.2000 - val_loss: 3.3406 - val_accuracy: 0.0254 - lr: 0.0010 - 8s/epoch - 48ms/step
Epoch 36/100
176/176 - 8s - loss: 2.7789 - accuracy: 0.2000 - val_loss: 3.3406 - val_accuracy: 0.0254 - lr: 0.0010 - 8s/epoch - 48ms/step
Epoch 37/100
176/176 - 8s - loss: 2.7789 - accuracy: 0.2000 - val_loss: 3.3406 - val_accuracy: 0.0254 - lr: 0.0010 - 8s/epoch - 48ms/step
Epoch 38/100
176/176 - 8s - loss: 2.7789 - accuracy: 0.2000 - val_loss: 3.3406 - val_accuracy: 0.0254 - lr: 0.0010 - 8s/epoch - 48ms/step
Epoch 39/100
176/176 - 8s - loss: 2.7789 - accuracy: 0.2000 - val_loss: 3.3406 - val_accuracy: 0.0254 - lr: 0.0010 - 8s/epoch - 48ms/step
Epoch 40/100
176/176 - 8s - loss: 2.7789 - accuracy: 0.2000 - val_loss: 3.3406 - val_accuracy: 0.0254 - lr: 0.0010 - 8s/epoch - 48ms/step
Epoch 41/100
176/176 - 8s - loss: 2.7789 - accuracy: 0.2000 - val_loss: 3.3406 - val_accuracy: 0.0254 - lr: 0.0010 - 8s/epoch - 48ms/step
Epoch 42/100
176/176 - 8s - loss: 2.7789 - accuracy: 0.2000 - val_loss: 3.3406 - val_accuracy: 0.0254 - lr: 0.0010 - 8s/epoch - 48ms/step
Epoch 43/100
176/176 - 8s - loss: 2.7789 - accuracy: 0.2000 - val_loss: 3.3406 - val_accuracy: 0.0254 - lr: 0.0010 - 8s/epoch - 48ms/step
Epoch 44/100
176/176 - 8s - loss: 2.7789 - accuracy: 0.2000 - val_loss: 3.3406 - val_accuracy: 0.0254 - lr: 0.0010 - 8s/epoch - 48ms/step
Epoch 45/100
176/176 - 8s - loss: 2.7789 - accuracy: 0.2000 - val_loss: 3.3406 - val_accuracy: 0.0254 - lr: 0.0010 - 8s/epoch - 48ms/step
Epoch 46/100
176/176 - 8s - loss: 2.7789 - accuracy: 0.2000 - val_loss: 3.3406 - val_accuracy: 0.0254 - lr: 0.0010 - 8s/epoch - 48ms/step
Epoch 47/100
176/176 - 8s - loss: 2.7789 - accuracy: 0.2000 - val_loss: 3.3406 - val_accuracy: 0.0254 - lr: 0.0010 - 8s/epoch - 48ms/step
Epoch 48/100
176/176 - 8s - loss: 2.7789 - accuracy: 0.2000 - val_loss: 3.3406 - val_accuracy: 0.0254 - lr: 0.0010 - 8s/epoch - 48ms/step
Epoch 49/100
176/176 - 8s - loss: 2.7789 - accuracy: 0.2000 - val_loss: 3.3406 - val_accuracy: 0.0254 - lr: 0.0010 - 8s/epoch - 48ms/step
Epoch 50/100
176/176 - 8s - loss: 2.7789 - accuracy: 0.2000 - val_loss: 3.3406 - val_accuracy: 0.0254 - lr: 0.0010 - 8s/epoch - 48ms/step
Epoch 51/100
176/176 - 8s - loss: 2.7789 - accuracy: 0.2000 - val_loss: 3.3406 - val_accuracy: 0.0254 - lr: 0.0010 - 8s/epoch - 48ms/step
Epoch 52/100
176/176 - 8s - loss: 2.7789 - accuracy: 0.2000 - val_loss: 3.3406 - val_accuracy: 0.0254 - lr: 0.0010 - 8s/epoch - 48ms/step
Epoch 53/100
176/176 - 8s - loss: 2.7789 - accuracy: 0.2000 - val_loss: 3.3406 - val_accuracy: 0.0254 - lr: 0.0010 - 8s/epoch - 48ms/step
Epoch 54/100
176/176 - 8s - loss: 2.7789 - accuracy: 0.2000 - val_loss: 3.3406 - val_accuracy: 0.0254 - lr: 0.0010 - 8s/epoch - 48ms/step
Epoch 55/100
176/176 - 8s - loss: 2.7789 - accuracy: 0.2000 - val_loss: 3.3406 - val_accuracy: 0.0254 - lr: 0.0010 - 8s/epoch - 48ms/step
Epoch 56/100
176/176 - 8s - loss: 2.7789 - accuracy: 0.2000 - val_loss: 3.3406 - val_accuracy: 0.0254 - lr: 0.0010 - 8s/epoch - 48ms/step
Epoch 57/100
176/176 - 8s - loss: 2.7789 - accuracy: 0.2000 - val_loss: 3.3406 - val_accuracy: 0.0254 - lr: 0.0010 - 8s/epoch - 48ms/step
Epoch 58/100
176/176 - 8s - loss: 2.7789 - accuracy: 0.2000 - val_loss: 3.3406 - val_accuracy: 0.0254 - lr: 0.0010 - 8s/epoch - 48ms/step
Epoch 59/100
176/176 - 8s - loss: 2.7789 - accuracy: 0.2000 - val_loss: 3.3406 - val_accuracy: 0.0254 - lr: 0.0010 - 8s/epoch - 48ms/step
Epoch 60/100
176/176 - 8s - loss: 2.7789 - accuracy: 0.2000 - val_loss: 3.3406 - val_accuracy: 0.0254 - lr: 0.0010 - 8s/epoch - 48ms/step
Epoch 61/100
176/176 - 8s - loss: 2.7789 - accuracy: 0.2000 - val_loss: 3.3406 - val_accuracy: 0.0254 - lr: 0.0010 - 8s/epoch - 48ms/step
Epoch 62/100
176/176 - 8s - loss: 2.7789 - accuracy: 0.2000 - val_loss: 3.3406 - val_accuracy: 0.0254 - lr: 0.0010 - 8s/epoch - 48ms/step
Epoch 63/100
176/176 - 8s - loss: 2.7789 - accuracy: 0.2000 - val_loss: 3.3406 - val_accuracy: 0.0254 - lr: 0.0010 - 8s/epoch - 48ms/step
Epoch 64/100
176/176 - 8s - loss: 2.7789 - accuracy: 0.2000 - val_loss: 3.3406 - val_accuracy: 0.0254 - lr: 0.0010 - 8s/epoch - 48ms/step
Epoch 65/100
176/176 - 8s - loss: 2.7789 - accuracy: 0.2000 - val_loss: 3.3406 - val_accuracy: 0.0254 - lr: 0.0010 - 8s/epoch - 48ms/step
Epoch 66/100
176/176 - 8s - loss: 2.7789 - accuracy: 0.2000 - val_loss: 3.3406 - val_accuracy: 0.0254 - lr: 0.0010 - 8s/epoch - 48ms/step
Epoch 67/100
176/176 - 8s - loss: 2.7789 - accuracy: 0.2000 - val_loss: 3.3406 - val_accuracy: 0.0254 - lr: 0.0010 - 8s/epoch - 48ms/step
Epoch 68/100
176/176 - 8s - loss: 2.7789 - accuracy: 0.2000 - val_loss: 3.3406 - val_accuracy: 0.0254 - lr: 0.0010 - 8s/epoch - 48ms/step
Epoch 69/100
176/176 - 8s - loss: 2.7789 - accuracy: 0.2000 - val_loss: 3.3406 - val_accuracy: 0.0254 - lr: 0.0010 - 8s/epoch - 48ms/step
Epoch 70/100
176/176 - 8s - loss: 2.7789 - accuracy: 0.2000 - val_loss: 3.3406 - val_accuracy: 0.0254 - lr: 0.0010 - 8s/epoch - 48ms/step
Epoch 71/100
176/176 - 8s - loss: 2.7789 - accuracy: 0.2000 - val_loss: 3.3406 - val_accuracy: 0.0254 - lr: 0.0010 - 8s/epoch - 48ms/step
Epoch 72/100
176/176 - 8s - loss: 2.7789 - accuracy: 0.2000 - val_loss: 3.3406 - val_accuracy: 0.0254 - lr: 0.0010 - 8s/epoch - 48ms/step
Epoch 73/100
176/176 - 8s - loss: 2.7789 - accuracy: 0.2000 - val_loss: 3.3406 - val_accuracy: 0.0254 - lr: 0.0010 - 8s/epoch - 48ms/step
Epoch 74/100
176/176 - 8s - loss: 2.7789 - accuracy: 0.2000 - val_loss: 3.3406 - val_accuracy: 0.0254 - lr: 0.0010 - 8s/epoch - 48ms/step
Epoch 75/100
176/176 - 8s - loss: 2.7789 - accuracy: 0.2000 - val_loss: 3.3406 - val_accuracy: 0.0254 - lr: 0.0010 - 8s/epoch - 48ms/step
Epoch 76/100
176/176 - 8s - loss: 2.7789 - accuracy: 0.2000 - val_loss: 3.3406 - val_accuracy: 0.0254 - lr: 0.0010 - 8s/epoch - 48ms/step
Epoch 77/100
176/176 - 8s - loss: 2.7789 - accuracy: 0.2000 - val_loss: 3.3406 - val_accuracy: 0.0254 - lr: 0.0010 - 8s/epoch - 48ms/step
Epoch 78/100
176/176 - 8s - loss: 2.7789 - accuracy: 0.2000 - val_loss: 3.3406 - val_accuracy: 0.0254 - lr: 0.0010 - 8s/epoch - 48ms/step
Epoch 79/100
176/176 - 8s - loss: 2.7789 - accuracy: 0.2000 - val_loss: 3.3406 - val_accuracy: 0.0254 - lr: 0.0010 - 8s/epoch - 48ms/step
Epoch 80/100
176/176 - 8s - loss: 2.7789 - accuracy: 0.2000 - val_loss: 3.3406 - val_accuracy: 0.0254 - lr: 0.0010 - 8s/epoch - 48ms/step
Epoch 81/100
176/176 - 8s - loss: 2.7789 - accuracy: 0.2000 - val_loss: 3.3406 - val_accuracy: 0.0254 - lr: 0.0010 - 8s/epoch - 48ms/step
Epoch 82/100
176/176 - 8s - loss: 2.7789 - accuracy: 0.2000 - val_loss: 3.3406 - val_accuracy: 0.0254 - lr: 0.0010 - 8s/epoch - 48ms/step
Epoch 83/100
176/176 - 8s - loss: 2.7789 - accuracy: 0.2000 - val_loss: 3.3406 - val_accuracy: 0.0254 - lr: 0.0010 - 8s/epoch - 48ms/step
Epoch 84/100
176/176 - 8s - loss: 2.7789 - accuracy: 0.2000 - val_loss: 3.3406 - val_accuracy: 0.0254 - lr: 0.0010 - 8s/epoch - 48ms/step
Epoch 85/100
176/176 - 8s - loss: 2.7789 - accuracy: 0.2000 - val_loss: 3.3406 - val_accuracy: 0.0254 - lr: 0.0010 - 8s/epoch - 48ms/step
Epoch 86/100
176/176 - 8s - loss: 2.7789 - accuracy: 0.2000 - val_loss: 3.3406 - val_accuracy: 0.0254 - lr: 0.0010 - 8s/epoch - 48ms/step
Epoch 87/100
176/176 - 8s - loss: 2.7789 - accuracy: 0.2000 - val_loss: 3.3406 - val_accuracy: 0.0254 - lr: 0.0010 - 8s/epoch - 48ms/step
Epoch 88/100
176/176 - 8s - loss: 2.7789 - accuracy: 0.2000 - val_loss: 3.3406 - val_accuracy: 0.0254 - lr: 0.0010 - 8s/epoch - 48ms/step
Epoch 89/100
176/176 - 8s - loss: 2.7789 - accuracy: 0.2000 - val_loss: 3.3406 - val_accuracy: 0.0254 - lr: 0.0010 - 8s/epoch - 48ms/step
Epoch 90/100
176/176 - 8s - loss: 2.7789 - accuracy: 0.2000 - val_loss: 3.3406 - val_accuracy: 0.0254 - lr: 0.0010 - 8s/epoch - 48ms/step
Epoch 91/100
176/176 - 8s - loss: 2.7789 - accuracy: 0.2000 - val_loss: 3.3406 - val_accuracy: 0.0254 - lr: 0.0010 - 8s/epoch - 48ms/step
Epoch 92/100
176/176 - 8s - loss: 2.7789 - accuracy: 0.2000 - val_loss: 3.3406 - val_accuracy: 0.0254 - lr: 0.0010 - 8s/epoch - 48ms/step
Epoch 93/100
176/176 - 8s - loss: 2.7789 - accuracy: 0.2000 - val_loss: 3.3406 - val_accuracy: 0.0254 - lr: 0.0010 - 8s/epoch - 48ms/step
Epoch 94/100
176/176 - 8s - loss: 2.7789 - accuracy: 0.2000 - val_loss: 3.3406 - val_accuracy: 0.0254 - lr: 0.0010 - 8s/epoch - 48ms/step
Epoch 95/100
176/176 - 8s - loss: 2.7789 - accuracy: 0.2000 - val_loss: 3.3406 - val_accuracy: 0.0254 - lr: 0.0010 - 8s/epoch - 48ms/step
Epoch 96/100
176/176 - 8s - loss: 2.7789 - accuracy: 0.2000 - val_loss: 3.3406 - val_accuracy: 0.0254 - lr: 0.0010 - 8s/epoch - 48ms/step
Epoch 97/100
176/176 - 8s - loss: 2.7789 - accuracy: 0.2000 - val_loss: 3.3406 - val_accuracy: 0.0254 - lr: 0.0010 - 8s/epoch - 48ms/step
Epoch 98/100
176/176 - 8s - loss: 2.7789 - accuracy: 0.2000 - val_loss: 3.3406 - val_accuracy: 0.0254 - lr: 0.0010 - 8s/epoch - 48ms/step
Epoch 99/100
176/176 - 8s - loss: 2.7789 - accuracy: 0.2000 - val_loss: 3.3406 - val_accuracy: 0.0254 - lr: 0.0010 - 8s/epoch - 48ms/step
Epoch 100/100
176/176 - 8s - loss: 2.7789 - accuracy: 0.2000 - val_loss: 3.3406 - val_accuracy: 0.0254 - lr: 0.0010 - 8s/epoch - 48ms/step
Loss: kullback_leibler_divergence
Epoch number: 100
fitting with batch size: 20
Epoch 1/100
4378/4378 - 70s - loss: 12.8942 - accuracy: 0.2000 - val_loss: 15.7033 - val_accuracy: 0.0254 - lr: 0.0010 - 70s/epoch - 16ms/step
Epoch 2/100
4378/4378 - 68s - loss: 12.8942 - accuracy: 0.2000 - val_loss: 15.7033 - val_accuracy: 0.0254 - lr: 0.0010 - 68s/epoch - 16ms/step
Epoch 3/100
4378/4378 - 68s - loss: 12.8942 - accuracy: 0.2000 - val_loss: 15.7033 - val_accuracy: 0.0254 - lr: 0.0010 - 68s/epoch - 16ms/step
Epoch 4/100
4378/4378 - 68s - loss: 12.8942 - accuracy: 0.2000 - val_loss: 15.7033 - val_accuracy: 0.0254 - lr: 0.0010 - 68s/epoch - 16ms/step
Epoch 5/100
4378/4378 - 68s - loss: 12.8942 - accuracy: 0.2000 - val_loss: 15.7033 - val_accuracy: 0.0254 - lr: 0.0010 - 68s/epoch - 15ms/step
Epoch 6/100
4378/4378 - 68s - loss: 12.8942 - accuracy: 0.2000 - val_loss: 15.7033 - val_accuracy: 0.0254 - lr: 0.0010 - 68s/epoch - 15ms/step
Epoch 7/100
4378/4378 - 68s - loss: 12.8942 - accuracy: 0.2000 - val_loss: 15.7033 - val_accuracy: 0.0254 - lr: 0.0010 - 68s/epoch - 16ms/step
Epoch 8/100
4378/4378 - 68s - loss: 12.8942 - accuracy: 0.2000 - val_loss: 15.7033 - val_accuracy: 0.0254 - lr: 0.0010 - 68s/epoch - 16ms/step
Epoch 9/100
4378/4378 - 68s - loss: 12.8942 - accuracy: 0.2000 - val_loss: 15.7033 - val_accuracy: 0.0254 - lr: 0.0010 - 68s/epoch - 16ms/step
Epoch 10/100
4378/4378 - 68s - loss: 12.8942 - accuracy: 0.2000 - val_loss: 15.7033 - val_accuracy: 0.0254 - lr: 0.0010 - 68s/epoch - 16ms/step
Epoch 11/100
4378/4378 - 68s - loss: 12.8942 - accuracy: 0.2000 - val_loss: 15.7033 - val_accuracy: 0.0254 - lr: 0.0010 - 68s/epoch - 16ms/step
Epoch 12/100
4378/4378 - 68s - loss: 12.8942 - accuracy: 0.2000 - val_loss: 15.7033 - val_accuracy: 0.0254 - lr: 0.0010 - 68s/epoch - 15ms/step
Epoch 13/100
4378/4378 - 68s - loss: 12.8942 - accuracy: 0.2000 - val_loss: 15.7033 - val_accuracy: 0.0254 - lr: 0.0010 - 68s/epoch - 15ms/step
Epoch 14/100
4378/4378 - 68s - loss: 12.8942 - accuracy: 0.2000 - val_loss: 15.7033 - val_accuracy: 0.0254 - lr: 0.0010 - 68s/epoch - 16ms/step
Epoch 15/100
4378/4378 - 68s - loss: 12.8942 - accuracy: 0.2000 - val_loss: 15.7033 - val_accuracy: 0.0254 - lr: 0.0010 - 68s/epoch - 15ms/step
Epoch 16/100
4378/4378 - 68s - loss: 12.8942 - accuracy: 0.2000 - val_loss: 15.7033 - val_accuracy: 0.0254 - lr: 0.0010 - 68s/epoch - 16ms/step
Epoch 17/100
4378/4378 - 68s - loss: 12.8942 - accuracy: 0.2000 - val_loss: 15.7033 - val_accuracy: 0.0254 - lr: 0.0010 - 68s/epoch - 16ms/step
Epoch 18/100
4378/4378 - 68s - loss: 12.8942 - accuracy: 0.2000 - val_loss: 15.7033 - val_accuracy: 0.0254 - lr: 0.0010 - 68s/epoch - 16ms/step
Epoch 19/100
4378/4378 - 69s - loss: 12.8942 - accuracy: 0.2000 - val_loss: 15.7033 - val_accuracy: 0.0254 - lr: 0.0010 - 69s/epoch - 16ms/step
Epoch 20/100
4378/4378 - 68s - loss: 12.8942 - accuracy: 0.2000 - val_loss: 15.7033 - val_accuracy: 0.0254 - lr: 0.0010 - 68s/epoch - 16ms/step
Epoch 21/100
4378/4378 - 68s - loss: 12.8942 - accuracy: 0.2000 - val_loss: 15.7033 - val_accuracy: 0.0254 - lr: 0.0010 - 68s/epoch - 16ms/step
Epoch 22/100
4378/4378 - 68s - loss: 12.8942 - accuracy: 0.2000 - val_loss: 15.7033 - val_accuracy: 0.0254 - lr: 0.0010 - 68s/epoch - 16ms/step
Epoch 23/100
4378/4378 - 68s - loss: 12.8942 - accuracy: 0.2000 - val_loss: 15.7033 - val_accuracy: 0.0254 - lr: 0.0010 - 68s/epoch - 16ms/step
Epoch 24/100
4378/4378 - 68s - loss: 12.8942 - accuracy: 0.2000 - val_loss: 15.7033 - val_accuracy: 0.0254 - lr: 0.0010 - 68s/epoch - 16ms/step
Epoch 25/100
4378/4378 - 68s - loss: 12.8942 - accuracy: 0.2000 - val_loss: 15.7033 - val_accuracy: 0.0254 - lr: 0.0010 - 68s/epoch - 16ms/step
Epoch 26/100
4378/4378 - 68s - loss: 12.8942 - accuracy: 0.2000 - val_loss: 15.7033 - val_accuracy: 0.0254 - lr: 0.0010 - 68s/epoch - 16ms/step
Epoch 27/100
4378/4378 - 68s - loss: 12.8942 - accuracy: 0.2000 - val_loss: 15.7033 - val_accuracy: 0.0254 - lr: 0.0010 - 68s/epoch - 16ms/step
Epoch 28/100
4378/4378 - 68s - loss: 12.8942 - accuracy: 0.2000 - val_loss: 15.7033 - val_accuracy: 0.0254 - lr: 0.0010 - 68s/epoch - 15ms/step
Epoch 29/100
4378/4378 - 68s - loss: 12.8942 - accuracy: 0.2000 - val_loss: 15.7033 - val_accuracy: 0.0254 - lr: 0.0010 - 68s/epoch - 15ms/step
Epoch 30/100
4378/4378 - 68s - loss: 12.8942 - accuracy: 0.2000 - val_loss: 15.7033 - val_accuracy: 0.0254 - lr: 0.0010 - 68s/epoch - 16ms/step
Epoch 31/100
4378/4378 - 68s - loss: 12.8942 - accuracy: 0.2000 - val_loss: 15.7033 - val_accuracy: 0.0254 - lr: 0.0010 - 68s/epoch - 16ms/step
Epoch 32/100
4378/4378 - 68s - loss: 12.8942 - accuracy: 0.2000 - val_loss: 15.7033 - val_accuracy: 0.0254 - lr: 0.0010 - 68s/epoch - 16ms/step
Epoch 33/100
4378/4378 - 68s - loss: 12.8942 - accuracy: 0.2000 - val_loss: 15.7033 - val_accuracy: 0.0254 - lr: 0.0010 - 68s/epoch - 16ms/step
Epoch 34/100
4378/4378 - 68s - loss: 12.8942 - accuracy: 0.2000 - val_loss: 15.7033 - val_accuracy: 0.0254 - lr: 0.0010 - 68s/epoch - 15ms/step
Epoch 35/100
4378/4378 - 68s - loss: 12.8942 - accuracy: 0.2000 - val_loss: 15.7033 - val_accuracy: 0.0254 - lr: 0.0010 - 68s/epoch - 15ms/step
Epoch 36/100
4378/4378 - 68s - loss: 12.8942 - accuracy: 0.2000 - val_loss: 15.7033 - val_accuracy: 0.0254 - lr: 0.0010 - 68s/epoch - 16ms/step
Epoch 37/100
4378/4378 - 68s - loss: 12.8942 - accuracy: 0.2000 - val_loss: 15.7033 - val_accuracy: 0.0254 - lr: 0.0010 - 68s/epoch - 16ms/step
Epoch 38/100
4378/4378 - 68s - loss: 12.8942 - accuracy: 0.2000 - val_loss: 15.7033 - val_accuracy: 0.0254 - lr: 0.0010 - 68s/epoch - 15ms/step
Epoch 39/100
4378/4378 - 68s - loss: 12.8942 - accuracy: 0.2000 - val_loss: 15.7033 - val_accuracy: 0.0254 - lr: 0.0010 - 68s/epoch - 15ms/step
Epoch 40/100
4378/4378 - 69s - loss: 12.8942 - accuracy: 0.2000 - val_loss: 15.7033 - val_accuracy: 0.0254 - lr: 0.0010 - 69s/epoch - 16ms/step
Epoch 41/100
4378/4378 - 68s - loss: 12.8942 - accuracy: 0.2000 - val_loss: 15.7033 - val_accuracy: 0.0254 - lr: 0.0010 - 68s/epoch - 16ms/step
Epoch 42/100
4378/4378 - 68s - loss: 12.8942 - accuracy: 0.2000 - val_loss: 15.7033 - val_accuracy: 0.0254 - lr: 0.0010 - 68s/epoch - 16ms/step
Epoch 43/100
4378/4378 - 68s - loss: 12.8942 - accuracy: 0.2000 - val_loss: 15.7033 - val_accuracy: 0.0254 - lr: 0.0010 - 68s/epoch - 16ms/step
Epoch 44/100
4378/4378 - 68s - loss: 12.8942 - accuracy: 0.2000 - val_loss: 15.7033 - val_accuracy: 0.0254 - lr: 0.0010 - 68s/epoch - 15ms/step
Epoch 45/100
4378/4378 - 68s - loss: 12.8942 - accuracy: 0.2000 - val_loss: 15.7033 - val_accuracy: 0.0254 - lr: 0.0010 - 68s/epoch - 16ms/step
Epoch 46/100
4378/4378 - 69s - loss: 12.8942 - accuracy: 0.2000 - val_loss: 15.7033 - val_accuracy: 0.0254 - lr: 0.0010 - 69s/epoch - 16ms/step
Epoch 47/100
4378/4378 - 68s - loss: 12.8942 - accuracy: 0.2000 - val_loss: 15.7033 - val_accuracy: 0.0254 - lr: 0.0010 - 68s/epoch - 16ms/step
Epoch 48/100
4378/4378 - 68s - loss: 12.8942 - accuracy: 0.2000 - val_loss: 15.7033 - val_accuracy: 0.0254 - lr: 0.0010 - 68s/epoch - 16ms/step
Epoch 49/100
4378/4378 - 68s - loss: 12.8942 - accuracy: 0.2000 - val_loss: 15.7033 - val_accuracy: 0.0254 - lr: 0.0010 - 68s/epoch - 15ms/step
Epoch 50/100
4378/4378 - 68s - loss: 12.8942 - accuracy: 0.2000 - val_loss: 15.7033 - val_accuracy: 0.0254 - lr: 0.0010 - 68s/epoch - 16ms/step
Epoch 51/100
4378/4378 - 68s - loss: 12.8942 - accuracy: 0.2000 - val_loss: 15.7033 - val_accuracy: 0.0254 - lr: 0.0010 - 68s/epoch - 16ms/step
Epoch 52/100
4378/4378 - 68s - loss: 12.8942 - accuracy: 0.2000 - val_loss: 15.7033 - val_accuracy: 0.0254 - lr: 0.0010 - 68s/epoch - 16ms/step
Epoch 53/100
4378/4378 - 68s - loss: 12.8942 - accuracy: 0.2000 - val_loss: 15.7033 - val_accuracy: 0.0254 - lr: 0.0010 - 68s/epoch - 16ms/step
Epoch 54/100
4378/4378 - 68s - loss: 12.8942 - accuracy: 0.2000 - val_loss: 15.7033 - val_accuracy: 0.0254 - lr: 0.0010 - 68s/epoch - 15ms/step
Epoch 55/100
4378/4378 - 68s - loss: 12.8942 - accuracy: 0.2000 - val_loss: 15.7033 - val_accuracy: 0.0254 - lr: 0.0010 - 68s/epoch - 16ms/step
Epoch 56/100
4378/4378 - 68s - loss: 12.8942 - accuracy: 0.2000 - val_loss: 15.7033 - val_accuracy: 0.0254 - lr: 0.0010 - 68s/epoch - 16ms/step
Epoch 57/100
4378/4378 - 68s - loss: 12.8942 - accuracy: 0.2000 - val_loss: 15.7033 - val_accuracy: 0.0254 - lr: 0.0010 - 68s/epoch - 16ms/step
Epoch 58/100
4378/4378 - 68s - loss: 12.8942 - accuracy: 0.2000 - val_loss: 15.7033 - val_accuracy: 0.0254 - lr: 0.0010 - 68s/epoch - 15ms/step
Epoch 59/100
4378/4378 - 68s - loss: 12.8942 - accuracy: 0.2000 - val_loss: 15.7033 - val_accuracy: 0.0254 - lr: 0.0010 - 68s/epoch - 16ms/step
Epoch 60/100
4378/4378 - 68s - loss: 12.8942 - accuracy: 0.2000 - val_loss: 15.7033 - val_accuracy: 0.0254 - lr: 0.0010 - 68s/epoch - 16ms/step
Epoch 61/100
4378/4378 - 68s - loss: 12.8942 - accuracy: 0.2000 - val_loss: 15.7033 - val_accuracy: 0.0254 - lr: 0.0010 - 68s/epoch - 16ms/step
Epoch 62/100
4378/4378 - 68s - loss: 12.8942 - accuracy: 0.2000 - val_loss: 15.7033 - val_accuracy: 0.0254 - lr: 0.0010 - 68s/epoch - 16ms/step
Epoch 63/100
4378/4378 - 68s - loss: 12.8942 - accuracy: 0.2000 - val_loss: 15.7033 - val_accuracy: 0.0254 - lr: 0.0010 - 68s/epoch - 16ms/step
Epoch 64/100
4378/4378 - 68s - loss: 12.8942 - accuracy: 0.2000 - val_loss: 15.7033 - val_accuracy: 0.0254 - lr: 0.0010 - 68s/epoch - 15ms/step
Epoch 65/100
4378/4378 - 68s - loss: 12.8942 - accuracy: 0.2000 - val_loss: 15.7033 - val_accuracy: 0.0254 - lr: 0.0010 - 68s/epoch - 16ms/step
Epoch 66/100
4378/4378 - 68s - loss: 12.8942 - accuracy: 0.2000 - val_loss: 15.7033 - val_accuracy: 0.0254 - lr: 0.0010 - 68s/epoch - 15ms/step
Epoch 67/100
4378/4378 - 68s - loss: 12.8942 - accuracy: 0.2000 - val_loss: 15.7033 - val_accuracy: 0.0254 - lr: 0.0010 - 68s/epoch - 15ms/step
Epoch 68/100
4378/4378 - 68s - loss: 12.8942 - accuracy: 0.2000 - val_loss: 15.7033 - val_accuracy: 0.0254 - lr: 0.0010 - 68s/epoch - 16ms/step
Epoch 69/100
4378/4378 - 68s - loss: 12.8942 - accuracy: 0.2000 - val_loss: 15.7033 - val_accuracy: 0.0254 - lr: 0.0010 - 68s/epoch - 16ms/step
Epoch 70/100
4378/4378 - 68s - loss: 12.8942 - accuracy: 0.2000 - val_loss: 15.7033 - val_accuracy: 0.0254 - lr: 0.0010 - 68s/epoch - 16ms/step
Epoch 71/100
4378/4378 - 68s - loss: 12.8942 - accuracy: 0.2000 - val_loss: 15.7033 - val_accuracy: 0.0254 - lr: 0.0010 - 68s/epoch - 15ms/step
Epoch 72/100
4378/4378 - 68s - loss: 12.8942 - accuracy: 0.2000 - val_loss: 15.7033 - val_accuracy: 0.0254 - lr: 0.0010 - 68s/epoch - 15ms/step
Epoch 73/100
4378/4378 - 68s - loss: 12.8942 - accuracy: 0.2000 - val_loss: 15.7033 - val_accuracy: 0.0254 - lr: 0.0010 - 68s/epoch - 16ms/step
Epoch 74/100
4378/4378 - 68s - loss: 12.8942 - accuracy: 0.2000 - val_loss: 15.7033 - val_accuracy: 0.0254 - lr: 0.0010 - 68s/epoch - 15ms/step
Epoch 75/100
4378/4378 - 68s - loss: 12.8942 - accuracy: 0.2000 - val_loss: 15.7033 - val_accuracy: 0.0254 - lr: 0.0010 - 68s/epoch - 16ms/step
Epoch 76/100
4378/4378 - 68s - loss: 12.8942 - accuracy: 0.2000 - val_loss: 15.7033 - val_accuracy: 0.0254 - lr: 0.0010 - 68s/epoch - 16ms/step
Epoch 77/100
4378/4378 - 68s - loss: 12.8942 - accuracy: 0.2000 - val_loss: 15.7033 - val_accuracy: 0.0254 - lr: 0.0010 - 68s/epoch - 15ms/step
Epoch 78/100
4378/4378 - 68s - loss: 12.8942 - accuracy: 0.2000 - val_loss: 15.7033 - val_accuracy: 0.0254 - lr: 0.0010 - 68s/epoch - 15ms/step
Epoch 79/100
4378/4378 - 68s - loss: 12.8942 - accuracy: 0.2000 - val_loss: 15.7033 - val_accuracy: 0.0254 - lr: 0.0010 - 68s/epoch - 16ms/step
Epoch 80/100
4378/4378 - 68s - loss: 12.8942 - accuracy: 0.2000 - val_loss: 15.7033 - val_accuracy: 0.0254 - lr: 0.0010 - 68s/epoch - 16ms/step
Epoch 81/100
4378/4378 - 68s - loss: 12.8942 - accuracy: 0.2000 - val_loss: 15.7033 - val_accuracy: 0.0254 - lr: 0.0010 - 68s/epoch - 15ms/step
Epoch 82/100
4378/4378 - 68s - loss: 12.8942 - accuracy: 0.2000 - val_loss: 15.7033 - val_accuracy: 0.0254 - lr: 0.0010 - 68s/epoch - 16ms/step
Epoch 83/100
4378/4378 - 68s - loss: 12.8942 - accuracy: 0.2000 - val_loss: 15.7033 - val_accuracy: 0.0254 - lr: 0.0010 - 68s/epoch - 16ms/step
Epoch 84/100
4378/4378 - 68s - loss: 12.8942 - accuracy: 0.2000 - val_loss: 15.7033 - val_accuracy: 0.0254 - lr: 0.0010 - 68s/epoch - 16ms/step
Epoch 85/100
4378/4378 - 68s - loss: 12.8942 - accuracy: 0.2000 - val_loss: 15.7033 - val_accuracy: 0.0254 - lr: 0.0010 - 68s/epoch - 16ms/step
Epoch 86/100
4378/4378 - 68s - loss: 12.8942 - accuracy: 0.2000 - val_loss: 15.7033 - val_accuracy: 0.0254 - lr: 0.0010 - 68s/epoch - 16ms/step
Epoch 87/100
4378/4378 - 68s - loss: 12.8942 - accuracy: 0.2000 - val_loss: 15.7033 - val_accuracy: 0.0254 - lr: 0.0010 - 68s/epoch - 16ms/step
Epoch 88/100
4378/4378 - 68s - loss: 12.8942 - accuracy: 0.2000 - val_loss: 15.7033 - val_accuracy: 0.0254 - lr: 0.0010 - 68s/epoch - 16ms/step
Epoch 89/100
4378/4378 - 68s - loss: 12.8942 - accuracy: 0.2000 - val_loss: 15.7033 - val_accuracy: 0.0254 - lr: 0.0010 - 68s/epoch - 16ms/step
Epoch 90/100
4378/4378 - 68s - loss: 12.8942 - accuracy: 0.2000 - val_loss: 15.7033 - val_accuracy: 0.0254 - lr: 0.0010 - 68s/epoch - 15ms/step
Epoch 91/100
4378/4378 - 68s - loss: 12.8942 - accuracy: 0.2000 - val_loss: 15.7033 - val_accuracy: 0.0254 - lr: 0.0010 - 68s/epoch - 16ms/step
Epoch 92/100
4378/4378 - 68s - loss: 12.8942 - accuracy: 0.2000 - val_loss: 15.7033 - val_accuracy: 0.0254 - lr: 0.0010 - 68s/epoch - 16ms/step
Epoch 93/100
4378/4378 - 68s - loss: 12.8942 - accuracy: 0.2000 - val_loss: 15.7033 - val_accuracy: 0.0254 - lr: 0.0010 - 68s/epoch - 16ms/step
Epoch 94/100
4378/4378 - 68s - loss: 12.8942 - accuracy: 0.2000 - val_loss: 15.7033 - val_accuracy: 0.0254 - lr: 0.0010 - 68s/epoch - 16ms/step
Epoch 95/100
4378/4378 - 68s - loss: 12.8942 - accuracy: 0.2000 - val_loss: 15.7033 - val_accuracy: 0.0254 - lr: 0.0010 - 68s/epoch - 16ms/step
Epoch 96/100
4378/4378 - 68s - loss: 12.8942 - accuracy: 0.2000 - val_loss: 15.7033 - val_accuracy: 0.0254 - lr: 0.0010 - 68s/epoch - 16ms/step
Epoch 97/100
4378/4378 - 68s - loss: 12.8942 - accuracy: 0.2000 - val_loss: 15.7033 - val_accuracy: 0.0254 - lr: 0.0010 - 68s/epoch - 15ms/step
Epoch 98/100
4378/4378 - 68s - loss: 12.8942 - accuracy: 0.2000 - val_loss: 15.7033 - val_accuracy: 0.0254 - lr: 0.0010 - 68s/epoch - 16ms/step
Epoch 99/100
4378/4378 - 68s - loss: 12.8942 - accuracy: 0.2000 - val_loss: 15.7033 - val_accuracy: 0.0254 - lr: 0.0010 - 68s/epoch - 16ms/step
Epoch 100/100
4378/4378 - 68s - loss: 12.8942 - accuracy: 0.2000 - val_loss: 15.7033 - val_accuracy: 0.0254 - lr: 0.0010 - 68s/epoch - 16ms/step
fitting with batch size: 100
Epoch 1/100
876/876 - 19s - loss: 12.8945 - accuracy: 0.2000 - val_loss: 15.7032 - val_accuracy: 0.0254 - lr: 0.0010 - 19s/epoch - 22ms/step
Epoch 2/100
876/876 - 17s - loss: 12.8945 - accuracy: 0.2000 - val_loss: 15.7032 - val_accuracy: 0.0254 - lr: 0.0010 - 17s/epoch - 19ms/step
Epoch 3/100
876/876 - 17s - loss: 12.8945 - accuracy: 0.2000 - val_loss: 15.7032 - val_accuracy: 0.0254 - lr: 0.0010 - 17s/epoch - 19ms/step
Epoch 4/100
876/876 - 17s - loss: 12.8945 - accuracy: 0.2000 - val_loss: 15.7032 - val_accuracy: 0.0254 - lr: 0.0010 - 17s/epoch - 19ms/step
Epoch 5/100
876/876 - 17s - loss: 12.8945 - accuracy: 0.2000 - val_loss: 15.7032 - val_accuracy: 0.0254 - lr: 0.0010 - 17s/epoch - 19ms/step
Epoch 6/100
876/876 - 17s - loss: 12.8945 - accuracy: 0.2000 - val_loss: 15.7032 - val_accuracy: 0.0254 - lr: 0.0010 - 17s/epoch - 19ms/step
Epoch 7/100
876/876 - 17s - loss: 12.8945 - accuracy: 0.2000 - val_loss: 15.7032 - val_accuracy: 0.0254 - lr: 0.0010 - 17s/epoch - 19ms/step
Epoch 8/100
876/876 - 17s - loss: 12.8945 - accuracy: 0.2000 - val_loss: 15.7032 - val_accuracy: 0.0254 - lr: 0.0010 - 17s/epoch - 19ms/step
Epoch 9/100
876/876 - 17s - loss: 12.8945 - accuracy: 0.2000 - val_loss: 15.7032 - val_accuracy: 0.0254 - lr: 0.0010 - 17s/epoch - 19ms/step
Epoch 10/100
876/876 - 17s - loss: 12.8945 - accuracy: 0.2000 - val_loss: 15.7032 - val_accuracy: 0.0254 - lr: 0.0010 - 17s/epoch - 20ms/step
Epoch 11/100
876/876 - 17s - loss: 12.8945 - accuracy: 0.2000 - val_loss: 15.7032 - val_accuracy: 0.0254 - lr: 0.0010 - 17s/epoch - 19ms/step
Epoch 12/100
876/876 - 17s - loss: 12.8945 - accuracy: 0.2000 - val_loss: 15.7032 - val_accuracy: 0.0254 - lr: 0.0010 - 17s/epoch - 19ms/step
Epoch 13/100
876/876 - 17s - loss: 12.8945 - accuracy: 0.2000 - val_loss: 15.7032 - val_accuracy: 0.0254 - lr: 0.0010 - 17s/epoch - 19ms/step
Epoch 14/100
876/876 - 17s - loss: 12.8945 - accuracy: 0.2000 - val_loss: 15.7032 - val_accuracy: 0.0254 - lr: 0.0010 - 17s/epoch - 19ms/step
Epoch 15/100
876/876 - 17s - loss: 12.8945 - accuracy: 0.2000 - val_loss: 15.7032 - val_accuracy: 0.0254 - lr: 0.0010 - 17s/epoch - 19ms/step
Epoch 16/100
876/876 - 17s - loss: 12.8945 - accuracy: 0.2000 - val_loss: 15.7032 - val_accuracy: 0.0254 - lr: 0.0010 - 17s/epoch - 19ms/step
Epoch 17/100
876/876 - 17s - loss: 12.8945 - accuracy: 0.2000 - val_loss: 15.7032 - val_accuracy: 0.0254 - lr: 0.0010 - 17s/epoch - 19ms/step
Epoch 18/100
876/876 - 17s - loss: 12.8945 - accuracy: 0.2000 - val_loss: 15.7032 - val_accuracy: 0.0254 - lr: 0.0010 - 17s/epoch - 19ms/step
Epoch 19/100
876/876 - 17s - loss: 12.8945 - accuracy: 0.2000 - val_loss: 15.7032 - val_accuracy: 0.0254 - lr: 0.0010 - 17s/epoch - 19ms/step
Epoch 20/100
876/876 - 17s - loss: 12.8945 - accuracy: 0.2000 - val_loss: 15.7032 - val_accuracy: 0.0254 - lr: 0.0010 - 17s/epoch - 19ms/step
Epoch 21/100
876/876 - 17s - loss: 12.8945 - accuracy: 0.2000 - val_loss: 15.7032 - val_accuracy: 0.0254 - lr: 0.0010 - 17s/epoch - 19ms/step
Epoch 22/100
876/876 - 17s - loss: 12.8945 - accuracy: 0.2000 - val_loss: 15.7032 - val_accuracy: 0.0254 - lr: 0.0010 - 17s/epoch - 19ms/step
Epoch 23/100
876/876 - 17s - loss: 12.8945 - accuracy: 0.2000 - val_loss: 15.7032 - val_accuracy: 0.0254 - lr: 0.0010 - 17s/epoch - 19ms/step
Epoch 24/100
876/876 - 17s - loss: 12.8945 - accuracy: 0.2000 - val_loss: 15.7032 - val_accuracy: 0.0254 - lr: 0.0010 - 17s/epoch - 19ms/step
Epoch 25/100
876/876 - 17s - loss: 12.8945 - accuracy: 0.2000 - val_loss: 15.7032 - val_accuracy: 0.0254 - lr: 0.0010 - 17s/epoch - 19ms/step
Epoch 26/100
876/876 - 17s - loss: 12.8945 - accuracy: 0.2000 - val_loss: 15.7032 - val_accuracy: 0.0254 - lr: 0.0010 - 17s/epoch - 19ms/step
Epoch 27/100
876/876 - 17s - loss: 12.8945 - accuracy: 0.2000 - val_loss: 15.7032 - val_accuracy: 0.0254 - lr: 0.0010 - 17s/epoch - 19ms/step
Epoch 28/100
876/876 - 17s - loss: 12.8945 - accuracy: 0.2000 - val_loss: 15.7032 - val_accuracy: 0.0254 - lr: 0.0010 - 17s/epoch - 19ms/step
Epoch 29/100
876/876 - 17s - loss: 12.8945 - accuracy: 0.2000 - val_loss: 15.7032 - val_accuracy: 0.0254 - lr: 0.0010 - 17s/epoch - 19ms/step
Epoch 30/100
876/876 - 17s - loss: 12.8945 - accuracy: 0.2000 - val_loss: 15.7032 - val_accuracy: 0.0254 - lr: 0.0010 - 17s/epoch - 20ms/step
Epoch 31/100
876/876 - 17s - loss: 12.8945 - accuracy: 0.2000 - val_loss: 15.7032 - val_accuracy: 0.0254 - lr: 0.0010 - 17s/epoch - 19ms/step
Epoch 32/100
876/876 - 17s - loss: 12.8945 - accuracy: 0.2000 - val_loss: 15.7032 - val_accuracy: 0.0254 - lr: 0.0010 - 17s/epoch - 19ms/step
Epoch 33/100
876/876 - 17s - loss: 12.8945 - accuracy: 0.2000 - val_loss: 15.7032 - val_accuracy: 0.0254 - lr: 0.0010 - 17s/epoch - 19ms/step
Epoch 34/100
876/876 - 17s - loss: 12.8945 - accuracy: 0.2000 - val_loss: 15.7032 - val_accuracy: 0.0254 - lr: 0.0010 - 17s/epoch - 19ms/step
Epoch 35/100
876/876 - 17s - loss: 12.8945 - accuracy: 0.2000 - val_loss: 15.7032 - val_accuracy: 0.0254 - lr: 0.0010 - 17s/epoch - 19ms/step
Epoch 36/100
876/876 - 17s - loss: 12.8945 - accuracy: 0.2000 - val_loss: 15.7032 - val_accuracy: 0.0254 - lr: 0.0010 - 17s/epoch - 20ms/step
Epoch 37/100
876/876 - 17s - loss: 12.8945 - accuracy: 0.2000 - val_loss: 15.7032 - val_accuracy: 0.0254 - lr: 0.0010 - 17s/epoch - 19ms/step
Epoch 38/100
876/876 - 17s - loss: 12.8945 - accuracy: 0.2000 - val_loss: 15.7032 - val_accuracy: 0.0254 - lr: 0.0010 - 17s/epoch - 19ms/step
Epoch 39/100
876/876 - 17s - loss: 12.8945 - accuracy: 0.2000 - val_loss: 15.7032 - val_accuracy: 0.0254 - lr: 0.0010 - 17s/epoch - 19ms/step
Epoch 40/100
876/876 - 17s - loss: 12.8945 - accuracy: 0.2000 - val_loss: 15.7032 - val_accuracy: 0.0254 - lr: 0.0010 - 17s/epoch - 19ms/step
Epoch 41/100
876/876 - 17s - loss: 12.8945 - accuracy: 0.2000 - val_loss: 15.7032 - val_accuracy: 0.0254 - lr: 0.0010 - 17s/epoch - 19ms/step
Epoch 42/100
876/876 - 17s - loss: 12.8945 - accuracy: 0.2000 - val_loss: 15.7032 - val_accuracy: 0.0254 - lr: 0.0010 - 17s/epoch - 19ms/step
Epoch 43/100
876/876 - 17s - loss: 12.8945 - accuracy: 0.2000 - val_loss: 15.7032 - val_accuracy: 0.0254 - lr: 0.0010 - 17s/epoch - 19ms/step
Epoch 44/100
876/876 - 17s - loss: 12.8945 - accuracy: 0.2000 - val_loss: 15.7032 - val_accuracy: 0.0254 - lr: 0.0010 - 17s/epoch - 19ms/step
Epoch 45/100
876/876 - 17s - loss: 12.8945 - accuracy: 0.2000 - val_loss: 15.7032 - val_accuracy: 0.0254 - lr: 0.0010 - 17s/epoch - 19ms/step
Epoch 46/100
876/876 - 17s - loss: 12.8945 - accuracy: 0.2000 - val_loss: 15.7032 - val_accuracy: 0.0254 - lr: 0.0010 - 17s/epoch - 19ms/step
Epoch 47/100
876/876 - 17s - loss: 12.8945 - accuracy: 0.2000 - val_loss: 15.7032 - val_accuracy: 0.0254 - lr: 0.0010 - 17s/epoch - 19ms/step
Epoch 48/100
876/876 - 17s - loss: 12.8945 - accuracy: 0.2000 - val_loss: 15.7032 - val_accuracy: 0.0254 - lr: 0.0010 - 17s/epoch - 19ms/step
Epoch 49/100
876/876 - 17s - loss: 12.8945 - accuracy: 0.2000 - val_loss: 15.7032 - val_accuracy: 0.0254 - lr: 0.0010 - 17s/epoch - 19ms/step
Epoch 50/100
876/876 - 17s - loss: 12.8945 - accuracy: 0.2000 - val_loss: 15.7032 - val_accuracy: 0.0254 - lr: 0.0010 - 17s/epoch - 19ms/step
Epoch 51/100
876/876 - 17s - loss: 12.8945 - accuracy: 0.2000 - val_loss: 15.7032 - val_accuracy: 0.0254 - lr: 0.0010 - 17s/epoch - 19ms/step
Epoch 52/100
876/876 - 17s - loss: 12.8945 - accuracy: 0.2000 - val_loss: 15.7032 - val_accuracy: 0.0254 - lr: 0.0010 - 17s/epoch - 19ms/step
Epoch 53/100
876/876 - 17s - loss: 12.8945 - accuracy: 0.2000 - val_loss: 15.7032 - val_accuracy: 0.0254 - lr: 0.0010 - 17s/epoch - 19ms/step
Epoch 54/100
876/876 - 17s - loss: 12.8945 - accuracy: 0.2000 - val_loss: 15.7032 - val_accuracy: 0.0254 - lr: 0.0010 - 17s/epoch - 20ms/step
Epoch 55/100
876/876 - 17s - loss: 12.8945 - accuracy: 0.2000 - val_loss: 15.7032 - val_accuracy: 0.0254 - lr: 0.0010 - 17s/epoch - 20ms/step
Epoch 56/100
876/876 - 17s - loss: 12.8945 - accuracy: 0.2000 - val_loss: 15.7032 - val_accuracy: 0.0254 - lr: 0.0010 - 17s/epoch - 20ms/step
Epoch 57/100
876/876 - 17s - loss: 12.8945 - accuracy: 0.2000 - val_loss: 15.7032 - val_accuracy: 0.0254 - lr: 0.0010 - 17s/epoch - 19ms/step
Epoch 58/100
876/876 - 17s - loss: 12.8945 - accuracy: 0.2000 - val_loss: 15.7032 - val_accuracy: 0.0254 - lr: 0.0010 - 17s/epoch - 20ms/step
Epoch 59/100
876/876 - 17s - loss: 12.8945 - accuracy: 0.2000 - val_loss: 15.7032 - val_accuracy: 0.0254 - lr: 0.0010 - 17s/epoch - 20ms/step
Epoch 60/100
876/876 - 17s - loss: 12.8945 - accuracy: 0.2000 - val_loss: 15.7032 - val_accuracy: 0.0254 - lr: 0.0010 - 17s/epoch - 20ms/step
Epoch 61/100
876/876 - 17s - loss: 12.8945 - accuracy: 0.2000 - val_loss: 15.7032 - val_accuracy: 0.0254 - lr: 0.0010 - 17s/epoch - 19ms/step
Epoch 62/100
876/876 - 17s - loss: 12.8945 - accuracy: 0.2000 - val_loss: 15.7032 - val_accuracy: 0.0254 - lr: 0.0010 - 17s/epoch - 20ms/step
Epoch 63/100
876/876 - 17s - loss: 12.8945 - accuracy: 0.2000 - val_loss: 15.7032 - val_accuracy: 0.0254 - lr: 0.0010 - 17s/epoch - 19ms/step
Epoch 64/100
876/876 - 17s - loss: 12.8945 - accuracy: 0.2000 - val_loss: 15.7032 - val_accuracy: 0.0254 - lr: 0.0010 - 17s/epoch - 19ms/step
Epoch 65/100
876/876 - 17s - loss: 12.8945 - accuracy: 0.2000 - val_loss: 15.7032 - val_accuracy: 0.0254 - lr: 0.0010 - 17s/epoch - 19ms/step
Epoch 66/100
876/876 - 17s - loss: 12.8945 - accuracy: 0.2000 - val_loss: 15.7032 - val_accuracy: 0.0254 - lr: 0.0010 - 17s/epoch - 19ms/step
Epoch 67/100
876/876 - 17s - loss: 12.8945 - accuracy: 0.2000 - val_loss: 15.7032 - val_accuracy: 0.0254 - lr: 0.0010 - 17s/epoch - 19ms/step
Epoch 68/100
876/876 - 17s - loss: 12.8945 - accuracy: 0.2000 - val_loss: 15.7032 - val_accuracy: 0.0254 - lr: 0.0010 - 17s/epoch - 20ms/step
Epoch 69/100
876/876 - 17s - loss: 12.8945 - accuracy: 0.2000 - val_loss: 15.7032 - val_accuracy: 0.0254 - lr: 0.0010 - 17s/epoch - 19ms/step
Epoch 70/100
876/876 - 17s - loss: 12.8945 - accuracy: 0.2000 - val_loss: 15.7032 - val_accuracy: 0.0254 - lr: 0.0010 - 17s/epoch - 19ms/step
Epoch 71/100
876/876 - 17s - loss: 12.8945 - accuracy: 0.2000 - val_loss: 15.7032 - val_accuracy: 0.0254 - lr: 0.0010 - 17s/epoch - 19ms/step
Epoch 72/100
876/876 - 17s - loss: 12.8945 - accuracy: 0.2000 - val_loss: 15.7032 - val_accuracy: 0.0254 - lr: 0.0010 - 17s/epoch - 19ms/step
Epoch 73/100
876/876 - 17s - loss: 12.8945 - accuracy: 0.2000 - val_loss: 15.7032 - val_accuracy: 0.0254 - lr: 0.0010 - 17s/epoch - 19ms/step
Epoch 74/100
876/876 - 17s - loss: 12.8945 - accuracy: 0.2000 - val_loss: 15.7032 - val_accuracy: 0.0254 - lr: 0.0010 - 17s/epoch - 19ms/step
Epoch 75/100
876/876 - 17s - loss: 12.8945 - accuracy: 0.2000 - val_loss: 15.7032 - val_accuracy: 0.0254 - lr: 0.0010 - 17s/epoch - 19ms/step
Epoch 76/100
876/876 - 17s - loss: 12.8945 - accuracy: 0.2000 - val_loss: 15.7032 - val_accuracy: 0.0254 - lr: 0.0010 - 17s/epoch - 19ms/step
Epoch 77/100
876/876 - 17s - loss: 12.8945 - accuracy: 0.2000 - val_loss: 15.7032 - val_accuracy: 0.0254 - lr: 0.0010 - 17s/epoch - 19ms/step
Epoch 78/100
876/876 - 17s - loss: 12.8945 - accuracy: 0.2000 - val_loss: 15.7032 - val_accuracy: 0.0254 - lr: 0.0010 - 17s/epoch - 19ms/step
Epoch 79/100
876/876 - 17s - loss: 12.8945 - accuracy: 0.2000 - val_loss: 15.7032 - val_accuracy: 0.0254 - lr: 0.0010 - 17s/epoch - 19ms/step
Epoch 80/100
876/876 - 17s - loss: 12.8945 - accuracy: 0.2000 - val_loss: 15.7032 - val_accuracy: 0.0254 - lr: 0.0010 - 17s/epoch - 19ms/step
Epoch 81/100
876/876 - 17s - loss: 12.8945 - accuracy: 0.2000 - val_loss: 15.7032 - val_accuracy: 0.0254 - lr: 0.0010 - 17s/epoch - 19ms/step
Epoch 82/100
876/876 - 17s - loss: 12.8945 - accuracy: 0.2000 - val_loss: 15.7032 - val_accuracy: 0.0254 - lr: 0.0010 - 17s/epoch - 19ms/step
Epoch 83/100
876/876 - 17s - loss: 12.8945 - accuracy: 0.2000 - val_loss: 15.7032 - val_accuracy: 0.0254 - lr: 0.0010 - 17s/epoch - 19ms/step
Epoch 84/100
876/876 - 17s - loss: 12.8945 - accuracy: 0.2000 - val_loss: 15.7032 - val_accuracy: 0.0254 - lr: 0.0010 - 17s/epoch - 19ms/step
Epoch 85/100
876/876 - 17s - loss: 12.8945 - accuracy: 0.2000 - val_loss: 15.7032 - val_accuracy: 0.0254 - lr: 0.0010 - 17s/epoch - 19ms/step
Epoch 86/100
876/876 - 17s - loss: 12.8945 - accuracy: 0.2000 - val_loss: 15.7032 - val_accuracy: 0.0254 - lr: 0.0010 - 17s/epoch - 19ms/step
Epoch 87/100
876/876 - 17s - loss: 12.8945 - accuracy: 0.2000 - val_loss: 15.7032 - val_accuracy: 0.0254 - lr: 0.0010 - 17s/epoch - 19ms/step
Epoch 88/100
876/876 - 17s - loss: 12.8945 - accuracy: 0.2000 - val_loss: 15.7032 - val_accuracy: 0.0254 - lr: 0.0010 - 17s/epoch - 19ms/step
Epoch 89/100
876/876 - 17s - loss: 12.8945 - accuracy: 0.2000 - val_loss: 15.7032 - val_accuracy: 0.0254 - lr: 0.0010 - 17s/epoch - 19ms/step
Epoch 90/100
876/876 - 17s - loss: 12.8945 - accuracy: 0.2000 - val_loss: 15.7032 - val_accuracy: 0.0254 - lr: 0.0010 - 17s/epoch - 19ms/step
Epoch 91/100
876/876 - 17s - loss: 12.8945 - accuracy: 0.2000 - val_loss: 15.7032 - val_accuracy: 0.0254 - lr: 0.0010 - 17s/epoch - 19ms/step
Epoch 92/100
876/876 - 17s - loss: 12.8945 - accuracy: 0.2000 - val_loss: 15.7032 - val_accuracy: 0.0254 - lr: 0.0010 - 17s/epoch - 19ms/step
Epoch 93/100
876/876 - 17s - loss: 12.8945 - accuracy: 0.2000 - val_loss: 15.7032 - val_accuracy: 0.0254 - lr: 0.0010 - 17s/epoch - 19ms/step
Epoch 94/100
876/876 - 17s - loss: 12.8945 - accuracy: 0.2000 - val_loss: 15.7032 - val_accuracy: 0.0254 - lr: 0.0010 - 17s/epoch - 19ms/step
Epoch 95/100
876/876 - 17s - loss: 12.8945 - accuracy: 0.2000 - val_loss: 15.7032 - val_accuracy: 0.0254 - lr: 0.0010 - 17s/epoch - 19ms/step
Epoch 96/100
876/876 - 17s - loss: 12.8945 - accuracy: 0.2000 - val_loss: 15.7032 - val_accuracy: 0.0254 - lr: 0.0010 - 17s/epoch - 19ms/step
Epoch 97/100
876/876 - 17s - loss: 12.8945 - accuracy: 0.2000 - val_loss: 15.7032 - val_accuracy: 0.0254 - lr: 0.0010 - 17s/epoch - 19ms/step
Epoch 98/100
876/876 - 17s - loss: 12.8945 - accuracy: 0.2000 - val_loss: 15.7032 - val_accuracy: 0.0254 - lr: 0.0010 - 17s/epoch - 19ms/step
Epoch 99/100
876/876 - 17s - loss: 12.8945 - accuracy: 0.2000 - val_loss: 15.7032 - val_accuracy: 0.0254 - lr: 0.0010 - 17s/epoch - 20ms/step
Epoch 100/100
876/876 - 17s - loss: 12.8945 - accuracy: 0.2000 - val_loss: 15.7032 - val_accuracy: 0.0254 - lr: 0.0010 - 17s/epoch - 19ms/step
fitting with batch size: 500
Epoch 1/100
176/176 - 11s - loss: 12.8945 - accuracy: 0.2000 - val_loss: 15.7032 - val_accuracy: 0.0254 - lr: 0.0010 - 11s/epoch - 61ms/step
Epoch 2/100
176/176 - 8s - loss: 12.8945 - accuracy: 0.2000 - val_loss: 15.7032 - val_accuracy: 0.0254 - lr: 0.0010 - 8s/epoch - 48ms/step
Epoch 3/100
176/176 - 8s - loss: 12.8945 - accuracy: 0.2000 - val_loss: 15.7032 - val_accuracy: 0.0254 - lr: 0.0010 - 8s/epoch - 48ms/step
Epoch 4/100
176/176 - 8s - loss: 12.8945 - accuracy: 0.2000 - val_loss: 15.7032 - val_accuracy: 0.0254 - lr: 0.0010 - 8s/epoch - 48ms/step
Epoch 5/100
176/176 - 8s - loss: 12.8945 - accuracy: 0.2000 - val_loss: 15.7032 - val_accuracy: 0.0254 - lr: 0.0010 - 8s/epoch - 48ms/step
Epoch 6/100
176/176 - 8s - loss: 12.8945 - accuracy: 0.2000 - val_loss: 15.7032 - val_accuracy: 0.0254 - lr: 0.0010 - 8s/epoch - 48ms/step
Epoch 7/100
176/176 - 7s - loss: 12.8945 - accuracy: 0.2000 - val_loss: 15.7032 - val_accuracy: 0.0254 - lr: 0.0010 - 7s/epoch - 42ms/step
Epoch 8/100
176/176 - 9s - loss: 12.8945 - accuracy: 0.2000 - val_loss: 15.7032 - val_accuracy: 0.0254 - lr: 0.0010 - 9s/epoch - 48ms/step
Epoch 9/100
176/176 - 8s - loss: 12.8945 - accuracy: 0.2000 - val_loss: 15.7032 - val_accuracy: 0.0254 - lr: 0.0010 - 8s/epoch - 48ms/step
Epoch 10/100
176/176 - 8s - loss: 12.8945 - accuracy: 0.2000 - val_loss: 15.7032 - val_accuracy: 0.0254 - lr: 0.0010 - 8s/epoch - 48ms/step
Epoch 11/100
176/176 - 9s - loss: 12.8945 - accuracy: 0.2000 - val_loss: 15.7032 - val_accuracy: 0.0254 - lr: 0.0010 - 9s/epoch - 48ms/step
Epoch 12/100
176/176 - 9s - loss: 12.8945 - accuracy: 0.2000 - val_loss: 15.7032 - val_accuracy: 0.0254 - lr: 0.0010 - 9s/epoch - 48ms/step
Epoch 13/100
176/176 - 8s - loss: 12.8945 - accuracy: 0.2000 - val_loss: 15.7032 - val_accuracy: 0.0254 - lr: 0.0010 - 8s/epoch - 48ms/step
Epoch 14/100
176/176 - 8s - loss: 12.8945 - accuracy: 0.2000 - val_loss: 15.7032 - val_accuracy: 0.0254 - lr: 0.0010 - 8s/epoch - 48ms/step
Epoch 15/100
176/176 - 8s - loss: 12.8945 - accuracy: 0.2000 - val_loss: 15.7032 - val_accuracy: 0.0254 - lr: 0.0010 - 8s/epoch - 48ms/step
Epoch 16/100
176/176 - 8s - loss: 12.8945 - accuracy: 0.2000 - val_loss: 15.7032 - val_accuracy: 0.0254 - lr: 0.0010 - 8s/epoch - 48ms/step
Epoch 17/100
176/176 - 8s - loss: 12.8945 - accuracy: 0.2000 - val_loss: 15.7032 - val_accuracy: 0.0254 - lr: 0.0010 - 8s/epoch - 48ms/step
Epoch 18/100
176/176 - 9s - loss: 12.8945 - accuracy: 0.2000 - val_loss: 15.7032 - val_accuracy: 0.0254 - lr: 0.0010 - 9s/epoch - 48ms/step
Epoch 19/100
176/176 - 9s - loss: 12.8945 - accuracy: 0.2000 - val_loss: 15.7032 - val_accuracy: 0.0254 - lr: 0.0010 - 9s/epoch - 48ms/step
Epoch 20/100
176/176 - 8s - loss: 12.8945 - accuracy: 0.2000 - val_loss: 15.7032 - val_accuracy: 0.0254 - lr: 0.0010 - 8s/epoch - 48ms/step
Epoch 21/100
176/176 - 8s - loss: 12.8945 - accuracy: 0.2000 - val_loss: 15.7032 - val_accuracy: 0.0254 - lr: 0.0010 - 8s/epoch - 48ms/step
Epoch 22/100
176/176 - 8s - loss: 12.8945 - accuracy: 0.2000 - val_loss: 15.7032 - val_accuracy: 0.0254 - lr: 0.0010 - 8s/epoch - 48ms/step
Epoch 23/100
176/176 - 9s - loss: 12.8945 - accuracy: 0.2000 - val_loss: 15.7032 - val_accuracy: 0.0254 - lr: 0.0010 - 9s/epoch - 48ms/step
Epoch 24/100
176/176 - 8s - loss: 12.8945 - accuracy: 0.2000 - val_loss: 15.7032 - val_accuracy: 0.0254 - lr: 0.0010 - 8s/epoch - 48ms/step
Epoch 25/100
176/176 - 8s - loss: 12.8945 - accuracy: 0.2000 - val_loss: 15.7032 - val_accuracy: 0.0254 - lr: 0.0010 - 8s/epoch - 48ms/step
Epoch 26/100
176/176 - 8s - loss: 12.8945 - accuracy: 0.2000 - val_loss: 15.7032 - val_accuracy: 0.0254 - lr: 0.0010 - 8s/epoch - 48ms/step
Epoch 27/100
176/176 - 8s - loss: 12.8945 - accuracy: 0.2000 - val_loss: 15.7032 - val_accuracy: 0.0254 - lr: 0.0010 - 8s/epoch - 48ms/step
Epoch 28/100
176/176 - 8s - loss: 12.8945 - accuracy: 0.2000 - val_loss: 15.7032 - val_accuracy: 0.0254 - lr: 0.0010 - 8s/epoch - 48ms/step
Epoch 29/100
176/176 - 8s - loss: 12.8945 - accuracy: 0.2000 - val_loss: 15.7032 - val_accuracy: 0.0254 - lr: 0.0010 - 8s/epoch - 48ms/step
Epoch 30/100
176/176 - 9s - loss: 12.8945 - accuracy: 0.2000 - val_loss: 15.7032 - val_accuracy: 0.0254 - lr: 0.0010 - 9s/epoch - 48ms/step
Epoch 31/100
176/176 - 8s - loss: 12.8945 - accuracy: 0.2000 - val_loss: 15.7032 - val_accuracy: 0.0254 - lr: 0.0010 - 8s/epoch - 48ms/step
Epoch 32/100
176/176 - 8s - loss: 12.8945 - accuracy: 0.2000 - val_loss: 15.7032 - val_accuracy: 0.0254 - lr: 0.0010 - 8s/epoch - 48ms/step
Epoch 33/100
176/176 - 8s - loss: 12.8945 - accuracy: 0.2000 - val_loss: 15.7032 - val_accuracy: 0.0254 - lr: 0.0010 - 8s/epoch - 48ms/step
Epoch 34/100
176/176 - 9s - loss: 12.8945 - accuracy: 0.2000 - val_loss: 15.7032 - val_accuracy: 0.0254 - lr: 0.0010 - 9s/epoch - 48ms/step
Epoch 35/100
176/176 - 9s - loss: 12.8945 - accuracy: 0.2000 - val_loss: 15.7032 - val_accuracy: 0.0254 - lr: 0.0010 - 9s/epoch - 48ms/step
Epoch 36/100
176/176 - 8s - loss: 12.8945 - accuracy: 0.2000 - val_loss: 15.7032 - val_accuracy: 0.0254 - lr: 0.0010 - 8s/epoch - 48ms/step
Epoch 37/100
176/176 - 8s - loss: 12.8945 - accuracy: 0.2000 - val_loss: 15.7032 - val_accuracy: 0.0254 - lr: 0.0010 - 8s/epoch - 48ms/step
Epoch 38/100
176/176 - 8s - loss: 12.8945 - accuracy: 0.2000 - val_loss: 15.7032 - val_accuracy: 0.0254 - lr: 0.0010 - 8s/epoch - 48ms/step
Epoch 39/100
176/176 - 8s - loss: 12.8945 - accuracy: 0.2000 - val_loss: 15.7032 - val_accuracy: 0.0254 - lr: 0.0010 - 8s/epoch - 48ms/step
Epoch 40/100
176/176 - 8s - loss: 12.8945 - accuracy: 0.2000 - val_loss: 15.7032 - val_accuracy: 0.0254 - lr: 0.0010 - 8s/epoch - 48ms/step
Epoch 41/100
176/176 - 9s - loss: 12.8945 - accuracy: 0.2000 - val_loss: 15.7032 - val_accuracy: 0.0254 - lr: 0.0010 - 9s/epoch - 48ms/step
Epoch 42/100
176/176 - 8s - loss: 12.8945 - accuracy: 0.2000 - val_loss: 15.7032 - val_accuracy: 0.0254 - lr: 0.0010 - 8s/epoch - 48ms/step
Epoch 43/100
176/176 - 8s - loss: 12.8945 - accuracy: 0.2000 - val_loss: 15.7032 - val_accuracy: 0.0254 - lr: 0.0010 - 8s/epoch - 48ms/step
Epoch 44/100
176/176 - 8s - loss: 12.8945 - accuracy: 0.2000 - val_loss: 15.7032 - val_accuracy: 0.0254 - lr: 0.0010 - 8s/epoch - 48ms/step
Epoch 45/100
176/176 - 8s - loss: 12.8945 - accuracy: 0.2000 - val_loss: 15.7032 - val_accuracy: 0.0254 - lr: 0.0010 - 8s/epoch - 48ms/step
Epoch 46/100
176/176 - 8s - loss: 12.8945 - accuracy: 0.2000 - val_loss: 15.7032 - val_accuracy: 0.0254 - lr: 0.0010 - 8s/epoch - 48ms/step
Epoch 47/100
176/176 - 8s - loss: 12.8945 - accuracy: 0.2000 - val_loss: 15.7032 - val_accuracy: 0.0254 - lr: 0.0010 - 8s/epoch - 48ms/step
Epoch 48/100
176/176 - 9s - loss: 12.8945 - accuracy: 0.2000 - val_loss: 15.7032 - val_accuracy: 0.0254 - lr: 0.0010 - 9s/epoch - 48ms/step
Epoch 49/100
176/176 - 8s - loss: 12.8945 - accuracy: 0.2000 - val_loss: 15.7032 - val_accuracy: 0.0254 - lr: 0.0010 - 8s/epoch - 48ms/step
Epoch 50/100
176/176 - 8s - loss: 12.8945 - accuracy: 0.2000 - val_loss: 15.7032 - val_accuracy: 0.0254 - lr: 0.0010 - 8s/epoch - 48ms/step
Epoch 51/100
176/176 - 8s - loss: 12.8945 - accuracy: 0.2000 - val_loss: 15.7032 - val_accuracy: 0.0254 - lr: 0.0010 - 8s/epoch - 48ms/step
Epoch 52/100
176/176 - 8s - loss: 12.8945 - accuracy: 0.2000 - val_loss: 15.7032 - val_accuracy: 0.0254 - lr: 0.0010 - 8s/epoch - 48ms/step
Epoch 53/100
176/176 - 8s - loss: 12.8945 - accuracy: 0.2000 - val_loss: 15.7032 - val_accuracy: 0.0254 - lr: 0.0010 - 8s/epoch - 48ms/step
Epoch 54/100
176/176 - 9s - loss: 12.8945 - accuracy: 0.2000 - val_loss: 15.7032 - val_accuracy: 0.0254 - lr: 0.0010 - 9s/epoch - 48ms/step
Epoch 55/100
176/176 - 8s - loss: 12.8945 - accuracy: 0.2000 - val_loss: 15.7032 - val_accuracy: 0.0254 - lr: 0.0010 - 8s/epoch - 48ms/step
Epoch 56/100
176/176 - 8s - loss: 12.8945 - accuracy: 0.2000 - val_loss: 15.7032 - val_accuracy: 0.0254 - lr: 0.0010 - 8s/epoch - 48ms/step
Epoch 57/100
176/176 - 8s - loss: 12.8945 - accuracy: 0.2000 - val_loss: 15.7032 - val_accuracy: 0.0254 - lr: 0.0010 - 8s/epoch - 48ms/step
Epoch 58/100
176/176 - 8s - loss: 12.8945 - accuracy: 0.2000 - val_loss: 15.7032 - val_accuracy: 0.0254 - lr: 0.0010 - 8s/epoch - 48ms/step
Epoch 59/100
176/176 - 8s - loss: 12.8945 - accuracy: 0.2000 - val_loss: 15.7032 - val_accuracy: 0.0254 - lr: 0.0010 - 8s/epoch - 48ms/step
Epoch 60/100
176/176 - 8s - loss: 12.8945 - accuracy: 0.2000 - val_loss: 15.7032 - val_accuracy: 0.0254 - lr: 0.0010 - 8s/epoch - 48ms/step
Epoch 61/100
176/176 - 8s - loss: 12.8945 - accuracy: 0.2000 - val_loss: 15.7032 - val_accuracy: 0.0254 - lr: 0.0010 - 8s/epoch - 48ms/step
Epoch 62/100
176/176 - 8s - loss: 12.8945 - accuracy: 0.2000 - val_loss: 15.7032 - val_accuracy: 0.0254 - lr: 0.0010 - 8s/epoch - 48ms/step
Epoch 63/100
176/176 - 9s - loss: 12.8945 - accuracy: 0.2000 - val_loss: 15.7032 - val_accuracy: 0.0254 - lr: 0.0010 - 9s/epoch - 48ms/step
Epoch 64/100
176/176 - 8s - loss: 12.8945 - accuracy: 0.2000 - val_loss: 15.7032 - val_accuracy: 0.0254 - lr: 0.0010 - 8s/epoch - 48ms/step
Epoch 65/100
176/176 - 8s - loss: 12.8945 - accuracy: 0.2000 - val_loss: 15.7032 - val_accuracy: 0.0254 - lr: 0.0010 - 8s/epoch - 48ms/step
Epoch 66/100
176/176 - 8s - loss: 12.8945 - accuracy: 0.2000 - val_loss: 15.7032 - val_accuracy: 0.0254 - lr: 0.0010 - 8s/epoch - 48ms/step
Epoch 67/100
176/176 - 8s - loss: 12.8945 - accuracy: 0.2000 - val_loss: 15.7032 - val_accuracy: 0.0254 - lr: 0.0010 - 8s/epoch - 48ms/step
Epoch 68/100
176/176 - 9s - loss: 12.8945 - accuracy: 0.2000 - val_loss: 15.7032 - val_accuracy: 0.0254 - lr: 0.0010 - 9s/epoch - 48ms/step
Epoch 69/100
176/176 - 8s - loss: 12.8945 - accuracy: 0.2000 - val_loss: 15.7032 - val_accuracy: 0.0254 - lr: 0.0010 - 8s/epoch - 48ms/step
Epoch 70/100
176/176 - 8s - loss: 12.8945 - accuracy: 0.2000 - val_loss: 15.7032 - val_accuracy: 0.0254 - lr: 0.0010 - 8s/epoch - 48ms/step
Epoch 71/100
176/176 - 8s - loss: 12.8945 - accuracy: 0.2000 - val_loss: 15.7032 - val_accuracy: 0.0254 - lr: 0.0010 - 8s/epoch - 48ms/step
Epoch 72/100
176/176 - 8s - loss: 12.8945 - accuracy: 0.2000 - val_loss: 15.7032 - val_accuracy: 0.0254 - lr: 0.0010 - 8s/epoch - 48ms/step
Epoch 73/100
176/176 - 9s - loss: 12.8945 - accuracy: 0.2000 - val_loss: 15.7032 - val_accuracy: 0.0254 - lr: 0.0010 - 9s/epoch - 48ms/step
Epoch 74/100
176/176 - 9s - loss: 12.8945 - accuracy: 0.2000 - val_loss: 15.7032 - val_accuracy: 0.0254 - lr: 0.0010 - 9s/epoch - 48ms/step
Epoch 75/100
176/176 - 8s - loss: 12.8945 - accuracy: 0.2000 - val_loss: 15.7032 - val_accuracy: 0.0254 - lr: 0.0010 - 8s/epoch - 48ms/step
Epoch 76/100
176/176 - 8s - loss: 12.8945 - accuracy: 0.2000 - val_loss: 15.7032 - val_accuracy: 0.0254 - lr: 0.0010 - 8s/epoch - 48ms/step
Epoch 77/100
176/176 - 8s - loss: 12.8945 - accuracy: 0.2000 - val_loss: 15.7032 - val_accuracy: 0.0254 - lr: 0.0010 - 8s/epoch - 48ms/step
Epoch 78/100
176/176 - 8s - loss: 12.8945 - accuracy: 0.2000 - val_loss: 15.7032 - val_accuracy: 0.0254 - lr: 0.0010 - 8s/epoch - 48ms/step
Epoch 79/100
176/176 - 8s - loss: 12.8945 - accuracy: 0.2000 - val_loss: 15.7032 - val_accuracy: 0.0254 - lr: 0.0010 - 8s/epoch - 48ms/step
Epoch 80/100
176/176 - 8s - loss: 12.8945 - accuracy: 0.2000 - val_loss: 15.7032 - val_accuracy: 0.0254 - lr: 0.0010 - 8s/epoch - 48ms/step
Epoch 81/100
176/176 - 9s - loss: 12.8945 - accuracy: 0.2000 - val_loss: 15.7032 - val_accuracy: 0.0254 - lr: 0.0010 - 9s/epoch - 48ms/step
Epoch 82/100
176/176 - 8s - loss: 12.8945 - accuracy: 0.2000 - val_loss: 15.7032 - val_accuracy: 0.0254 - lr: 0.0010 - 8s/epoch - 48ms/step
Epoch 83/100
176/176 - 8s - loss: 12.8945 - accuracy: 0.2000 - val_loss: 15.7032 - val_accuracy: 0.0254 - lr: 0.0010 - 8s/epoch - 48ms/step
Epoch 84/100
176/176 - 9s - loss: 12.8945 - accuracy: 0.2000 - val_loss: 15.7032 - val_accuracy: 0.0254 - lr: 0.0010 - 9s/epoch - 48ms/step
Epoch 85/100
176/176 - 8s - loss: 12.8945 - accuracy: 0.2000 - val_loss: 15.7032 - val_accuracy: 0.0254 - lr: 0.0010 - 8s/epoch - 48ms/step
Epoch 86/100
176/176 - 8s - loss: 12.8945 - accuracy: 0.2000 - val_loss: 15.7032 - val_accuracy: 0.0254 - lr: 0.0010 - 8s/epoch - 48ms/step
Epoch 87/100
176/176 - 8s - loss: 12.8945 - accuracy: 0.2000 - val_loss: 15.7032 - val_accuracy: 0.0254 - lr: 0.0010 - 8s/epoch - 48ms/step
Epoch 88/100
176/176 - 8s - loss: 12.8945 - accuracy: 0.2000 - val_loss: 15.7032 - val_accuracy: 0.0254 - lr: 0.0010 - 8s/epoch - 48ms/step
Epoch 89/100
176/176 - 8s - loss: 12.8945 - accuracy: 0.2000 - val_loss: 15.7032 - val_accuracy: 0.0254 - lr: 0.0010 - 8s/epoch - 48ms/step
Epoch 90/100
176/176 - 9s - loss: 12.8945 - accuracy: 0.2000 - val_loss: 15.7032 - val_accuracy: 0.0254 - lr: 0.0010 - 9s/epoch - 48ms/step
Epoch 91/100
176/176 - 9s - loss: 12.8945 - accuracy: 0.2000 - val_loss: 15.7032 - val_accuracy: 0.0254 - lr: 0.0010 - 9s/epoch - 48ms/step
Epoch 92/100
176/176 - 8s - loss: 12.8945 - accuracy: 0.2000 - val_loss: 15.7032 - val_accuracy: 0.0254 - lr: 0.0010 - 8s/epoch - 48ms/step
Epoch 93/100
176/176 - 8s - loss: 12.8945 - accuracy: 0.2000 - val_loss: 15.7032 - val_accuracy: 0.0254 - lr: 0.0010 - 8s/epoch - 48ms/step
Epoch 94/100
176/176 - 8s - loss: 12.8945 - accuracy: 0.2000 - val_loss: 15.7032 - val_accuracy: 0.0254 - lr: 0.0010 - 8s/epoch - 48ms/step
Epoch 95/100
176/176 - 8s - loss: 12.8945 - accuracy: 0.2000 - val_loss: 15.7032 - val_accuracy: 0.0254 - lr: 0.0010 - 8s/epoch - 48ms/step
Epoch 96/100
176/176 - 8s - loss: 12.8945 - accuracy: 0.2000 - val_loss: 15.7032 - val_accuracy: 0.0254 - lr: 0.0010 - 8s/epoch - 48ms/step
Epoch 97/100
176/176 - 8s - loss: 12.8945 - accuracy: 0.2000 - val_loss: 15.7032 - val_accuracy: 0.0254 - lr: 0.0010 - 8s/epoch - 48ms/step
Epoch 98/100
176/176 - 8s - loss: 12.8945 - accuracy: 0.2000 - val_loss: 15.7032 - val_accuracy: 0.0254 - lr: 0.0010 - 8s/epoch - 48ms/step
Epoch 99/100
176/176 - 8s - loss: 12.8945 - accuracy: 0.2000 - val_loss: 15.7032 - val_accuracy: 0.0254 - lr: 0.0010 - 8s/epoch - 48ms/step
Epoch 100/100
176/176 - 9s - loss: 12.8945 - accuracy: 0.2000 - val_loss: 15.7032 - val_accuracy: 0.0254 - lr: 0.0010 - 9s/epoch - 48ms/step
