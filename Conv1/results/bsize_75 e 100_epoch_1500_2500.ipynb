Loss: categorical_crossentropy
Epoch number: 75
fitting with batch size: 1500
Epoch 1/75
59/59 - 12s - loss: 0.7516 - accuracy: 0.7160 - val_loss: 0.7416 - val_accuracy: 0.7478 - lr: 0.0010 - 12s/epoch - 206ms/step
Epoch 2/75
59/59 - 9s - loss: 0.7398 - accuracy: 0.7213 - val_loss: 0.7562 - val_accuracy: 0.7292 - lr: 0.0010 - 9s/epoch - 158ms/step
Epoch 3/75
59/59 - 9s - loss: 0.7335 - accuracy: 0.7251 - val_loss: 0.7409 - val_accuracy: 0.7310 - lr: 0.0010 - 9s/epoch - 152ms/step
Epoch 4/75
59/59 - 9s - loss: 0.7266 - accuracy: 0.7256 - val_loss: 0.7012 - val_accuracy: 0.7882 - lr: 0.0010 - 9s/epoch - 159ms/step
Epoch 5/75
59/59 - 9s - loss: 0.7237 - accuracy: 0.7281 - val_loss: 0.7685 - val_accuracy: 0.7462 - lr: 0.0010 - 9s/epoch - 158ms/step
Epoch 6/75
59/59 - 9s - loss: 0.7276 - accuracy: 0.7261 - val_loss: 0.7002 - val_accuracy: 0.7747 - lr: 0.0010 - 9s/epoch - 160ms/step
Epoch 7/75
59/59 - 9s - loss: 0.7193 - accuracy: 0.7279 - val_loss: 0.7634 - val_accuracy: 0.7477 - lr: 0.0010 - 9s/epoch - 154ms/step
Epoch 8/75
59/59 - 9s - loss: 0.7188 - accuracy: 0.7299 - val_loss: 0.7326 - val_accuracy: 0.7644 - lr: 0.0010 - 9s/epoch - 150ms/step
Epoch 9/75
59/59 - 9s - loss: 0.7138 - accuracy: 0.7315 - val_loss: 0.6999 - val_accuracy: 0.7572 - lr: 0.0010 - 9s/epoch - 159ms/step
Epoch 10/75
59/59 - 10s - loss: 0.7117 - accuracy: 0.7329 - val_loss: 0.7413 - val_accuracy: 0.7504 - lr: 0.0010 - 10s/epoch - 162ms/step
Epoch 11/75
59/59 - 9s - loss: 0.7077 - accuracy: 0.7327 - val_loss: 0.7215 - val_accuracy: 0.7548 - lr: 0.0010 - 9s/epoch - 153ms/step
Epoch 12/75
59/59 - 9s - loss: 0.7051 - accuracy: 0.7333 - val_loss: 0.7064 - val_accuracy: 0.7497 - lr: 0.0010 - 9s/epoch - 159ms/step
Epoch 13/75
59/59 - 9s - loss: 0.7026 - accuracy: 0.7368 - val_loss: 0.6580 - val_accuracy: 0.7873 - lr: 0.0010 - 9s/epoch - 151ms/step
Epoch 14/75
59/59 - 10s - loss: 0.7000 - accuracy: 0.7359 - val_loss: 0.7314 - val_accuracy: 0.7479 - lr: 0.0010 - 10s/epoch - 163ms/step
Epoch 15/75
59/59 - 10s - loss: 0.6975 - accuracy: 0.7372 - val_loss: 0.7180 - val_accuracy: 0.7594 - lr: 0.0010 - 10s/epoch - 161ms/step
Epoch 16/75
59/59 - 9s - loss: 0.6951 - accuracy: 0.7394 - val_loss: 0.7040 - val_accuracy: 0.7733 - lr: 0.0010 - 9s/epoch - 160ms/step
Epoch 17/75
59/59 - 10s - loss: 0.6938 - accuracy: 0.7399 - val_loss: 0.7138 - val_accuracy: 0.7539 - lr: 0.0010 - 10s/epoch - 162ms/step
Epoch 18/75
59/59 - 9s - loss: 0.6911 - accuracy: 0.7397 - val_loss: 0.6781 - val_accuracy: 0.7686 - lr: 0.0010 - 9s/epoch - 145ms/step
Epoch 19/75
59/59 - 8s - loss: 0.6891 - accuracy: 0.7404 - val_loss: 0.7138 - val_accuracy: 0.7625 - lr: 0.0010 - 8s/epoch - 138ms/step
Epoch 20/75
59/59 - 8s - loss: 0.6829 - accuracy: 0.7438 - val_loss: 0.7273 - val_accuracy: 0.7690 - lr: 0.0010 - 8s/epoch - 138ms/step
Epoch 21/75
59/59 - 8s - loss: 0.6809 - accuracy: 0.7448 - val_loss: 0.6677 - val_accuracy: 0.7943 - lr: 0.0010 - 8s/epoch - 141ms/step
Epoch 22/75
59/59 - 8s - loss: 0.6780 - accuracy: 0.7463 - val_loss: 0.6937 - val_accuracy: 0.7706 - lr: 0.0010 - 8s/epoch - 142ms/step
Epoch 23/75
59/59 - 8s - loss: 0.6777 - accuracy: 0.7439 - val_loss: 0.7389 - val_accuracy: 0.7513 - lr: 0.0010 - 8s/epoch - 141ms/step
Epoch 24/75
59/59 - 8s - loss: 0.6765 - accuracy: 0.7457 - val_loss: 0.6588 - val_accuracy: 0.7886 - lr: 0.0010 - 8s/epoch - 137ms/step
Epoch 25/75
59/59 - 8s - loss: 0.6741 - accuracy: 0.7465 - val_loss: 0.6873 - val_accuracy: 0.7852 - lr: 0.0010 - 8s/epoch - 138ms/step
Epoch 26/75
59/59 - 8s - loss: 0.6704 - accuracy: 0.7486 - val_loss: 0.6986 - val_accuracy: 0.7673 - lr: 0.0010 - 8s/epoch - 139ms/step
Epoch 27/75
59/59 - 9s - loss: 0.6654 - accuracy: 0.7499 - val_loss: 0.6480 - val_accuracy: 0.7902 - lr: 0.0010 - 9s/epoch - 158ms/step
Epoch 28/75
59/59 - 10s - loss: 0.6625 - accuracy: 0.7510 - val_loss: 0.6310 - val_accuracy: 0.7860 - lr: 0.0010 - 10s/epoch - 161ms/step
Epoch 29/75
59/59 - 9s - loss: 0.6598 - accuracy: 0.7514 - val_loss: 0.6443 - val_accuracy: 0.7834 - lr: 0.0010 - 9s/epoch - 158ms/step
Epoch 30/75
59/59 - 9s - loss: 0.6558 - accuracy: 0.7538 - val_loss: 0.6798 - val_accuracy: 0.7792 - lr: 0.0010 - 9s/epoch - 160ms/step
Epoch 31/75
59/59 - 10s - loss: 0.6548 - accuracy: 0.7538 - val_loss: 0.6527 - val_accuracy: 0.7846 - lr: 0.0010 - 10s/epoch - 162ms/step
Epoch 32/75
59/59 - 10s - loss: 0.6553 - accuracy: 0.7524 - val_loss: 0.6458 - val_accuracy: 0.8023 - lr: 0.0010 - 10s/epoch - 163ms/step
Epoch 33/75
59/59 - 9s - loss: 0.6542 - accuracy: 0.7538 - val_loss: 0.6631 - val_accuracy: 0.7698 - lr: 0.0010 - 9s/epoch - 158ms/step
Epoch 34/75
59/59 - 10s - loss: 0.6463 - accuracy: 0.7556 - val_loss: 0.6131 - val_accuracy: 0.8108 - lr: 0.0010 - 10s/epoch - 166ms/step
Epoch 35/75
59/59 - 9s - loss: 0.6469 - accuracy: 0.7564 - val_loss: 0.6176 - val_accuracy: 0.8092 - lr: 0.0010 - 9s/epoch - 161ms/step
Epoch 36/75
59/59 - 11s - loss: 0.6456 - accuracy: 0.7579 - val_loss: 0.6677 - val_accuracy: 0.7858 - lr: 0.0010 - 11s/epoch - 178ms/step
Epoch 37/75
59/59 - 10s - loss: 0.6428 - accuracy: 0.7586 - val_loss: 0.6237 - val_accuracy: 0.7978 - lr: 0.0010 - 10s/epoch - 177ms/step
Epoch 38/75
59/59 - 9s - loss: 0.6408 - accuracy: 0.7579 - val_loss: 0.6130 - val_accuracy: 0.8079 - lr: 0.0010 - 9s/epoch - 156ms/step
Epoch 39/75
59/59 - 11s - loss: 0.6345 - accuracy: 0.7617 - val_loss: 0.6751 - val_accuracy: 0.7713 - lr: 0.0010 - 11s/epoch - 181ms/step
Epoch 40/75
59/59 - 10s - loss: 0.6335 - accuracy: 0.7617 - val_loss: 0.6450 - val_accuracy: 0.7798 - lr: 0.0010 - 10s/epoch - 170ms/step
Epoch 41/75
59/59 - 10s - loss: 0.6350 - accuracy: 0.7607 - val_loss: 0.6424 - val_accuracy: 0.7872 - lr: 0.0010 - 10s/epoch - 173ms/step
Epoch 42/75
59/59 - 10s - loss: 0.6271 - accuracy: 0.7642 - val_loss: 0.6514 - val_accuracy: 0.7676 - lr: 0.0010 - 10s/epoch - 169ms/step
Epoch 43/75
59/59 - 10s - loss: 0.6325 - accuracy: 0.7612 - val_loss: 0.6061 - val_accuracy: 0.8154 - lr: 0.0010 - 10s/epoch - 174ms/step
Epoch 44/75
59/59 - 10s - loss: 0.6278 - accuracy: 0.7643 - val_loss: 0.6286 - val_accuracy: 0.7992 - lr: 0.0010 - 10s/epoch - 173ms/step
Epoch 45/75
59/59 - 10s - loss: 0.6249 - accuracy: 0.7647 - val_loss: 0.6066 - val_accuracy: 0.8151 - lr: 0.0010 - 10s/epoch - 173ms/step
Epoch 46/75
59/59 - 10s - loss: 0.6249 - accuracy: 0.7643 - val_loss: 0.6900 - val_accuracy: 0.7643 - lr: 0.0010 - 10s/epoch - 171ms/step
Epoch 47/75
59/59 - 11s - loss: 0.6170 - accuracy: 0.7672 - val_loss: 0.6100 - val_accuracy: 0.7976 - lr: 0.0010 - 11s/epoch - 183ms/step
Epoch 48/75
59/59 - 10s - loss: 0.6190 - accuracy: 0.7661 - val_loss: 0.6355 - val_accuracy: 0.7776 - lr: 0.0010 - 10s/epoch - 175ms/step
Epoch 49/75
59/59 - 11s - loss: 0.6147 - accuracy: 0.7675 - val_loss: 0.6428 - val_accuracy: 0.7762 - lr: 0.0010 - 11s/epoch - 186ms/step
Epoch 50/75
59/59 - 10s - loss: 0.6127 - accuracy: 0.7694 - val_loss: 0.5917 - val_accuracy: 0.7945 - lr: 0.0010 - 10s/epoch - 167ms/step
Epoch 51/75
59/59 - 9s - loss: 0.6136 - accuracy: 0.7683 - val_loss: 0.6096 - val_accuracy: 0.7999 - lr: 0.0010 - 9s/epoch - 153ms/step
Epoch 52/75
59/59 - 9s - loss: 0.6116 - accuracy: 0.7697 - val_loss: 0.6186 - val_accuracy: 0.7998 - lr: 0.0010 - 9s/epoch - 154ms/step
Epoch 53/75
59/59 - 10s - loss: 0.6080 - accuracy: 0.7720 - val_loss: 0.6533 - val_accuracy: 0.7812 - lr: 0.0010 - 10s/epoch - 168ms/step
Epoch 54/75
59/59 - 10s - loss: 0.6091 - accuracy: 0.7699 - val_loss: 0.6006 - val_accuracy: 0.8011 - lr: 0.0010 - 10s/epoch - 167ms/step
Epoch 55/75
59/59 - 9s - loss: 0.5995 - accuracy: 0.7735 - val_loss: 0.6449 - val_accuracy: 0.7851 - lr: 0.0010 - 9s/epoch - 151ms/step
Epoch 56/75
59/59 - 9s - loss: 0.5995 - accuracy: 0.7734 - val_loss: 0.5903 - val_accuracy: 0.8183 - lr: 0.0010 - 9s/epoch - 151ms/step
Epoch 57/75
59/59 - 9s - loss: 0.5972 - accuracy: 0.7744 - val_loss: 0.6035 - val_accuracy: 0.7957 - lr: 0.0010 - 9s/epoch - 150ms/step
Epoch 58/75
59/59 - 9s - loss: 0.5951 - accuracy: 0.7767 - val_loss: 0.5805 - val_accuracy: 0.8059 - lr: 0.0010 - 9s/epoch - 147ms/step
Epoch 59/75
59/59 - 9s - loss: 0.5947 - accuracy: 0.7766 - val_loss: 0.6145 - val_accuracy: 0.7881 - lr: 0.0010 - 9s/epoch - 149ms/step
Epoch 60/75
59/59 - 9s - loss: 0.5930 - accuracy: 0.7765 - val_loss: 0.6356 - val_accuracy: 0.7795 - lr: 0.0010 - 9s/epoch - 146ms/step
Epoch 61/75
59/59 - 9s - loss: 0.5864 - accuracy: 0.7795 - val_loss: 0.6090 - val_accuracy: 0.7978 - lr: 0.0010 - 9s/epoch - 151ms/step
Epoch 62/75
59/59 - 9s - loss: 0.5945 - accuracy: 0.7770 - val_loss: 0.5923 - val_accuracy: 0.8025 - lr: 0.0010 - 9s/epoch - 151ms/step
Epoch 63/75
59/59 - 9s - loss: 0.5838 - accuracy: 0.7818 - val_loss: 0.5904 - val_accuracy: 0.8054 - lr: 0.0010 - 9s/epoch - 151ms/step
Epoch 64/75
59/59 - 9s - loss: 0.5859 - accuracy: 0.7798 - val_loss: 0.5553 - val_accuracy: 0.8292 - lr: 0.0010 - 9s/epoch - 152ms/step
Epoch 65/75
59/59 - 9s - loss: 0.5787 - accuracy: 0.7812 - val_loss: 0.6107 - val_accuracy: 0.7849 - lr: 0.0010 - 9s/epoch - 149ms/step
Epoch 66/75
59/59 - 9s - loss: 0.5797 - accuracy: 0.7827 - val_loss: 0.6129 - val_accuracy: 0.7862 - lr: 0.0010 - 9s/epoch - 148ms/step
Epoch 67/75
59/59 - 9s - loss: 0.5782 - accuracy: 0.7814 - val_loss: 0.6638 - val_accuracy: 0.7761 - lr: 0.0010 - 9s/epoch - 148ms/step
Epoch 68/75
59/59 - 9s - loss: 0.5798 - accuracy: 0.7815 - val_loss: 0.5995 - val_accuracy: 0.8002 - lr: 0.0010 - 9s/epoch - 148ms/step
Epoch 69/75
59/59 - 9s - loss: 0.5789 - accuracy: 0.7822 - val_loss: 0.6366 - val_accuracy: 0.7723 - lr: 0.0010 - 9s/epoch - 151ms/step
Epoch 70/75
59/59 - 9s - loss: 0.5711 - accuracy: 0.7865 - val_loss: 0.5996 - val_accuracy: 0.7949 - lr: 0.0010 - 9s/epoch - 155ms/step
Epoch 71/75
59/59 - 9s - loss: 0.5727 - accuracy: 0.7829 - val_loss: 0.6031 - val_accuracy: 0.8103 - lr: 0.0010 - 9s/epoch - 152ms/step
Epoch 72/75
59/59 - 9s - loss: 0.5690 - accuracy: 0.7861 - val_loss: 0.6289 - val_accuracy: 0.7923 - lr: 0.0010 - 9s/epoch - 149ms/step
Epoch 73/75
59/59 - 9s - loss: 0.5652 - accuracy: 0.7875 - val_loss: 0.5653 - val_accuracy: 0.8158 - lr: 0.0010 - 9s/epoch - 148ms/step
Epoch 74/75
59/59 - 9s - loss: 0.5648 - accuracy: 0.7873 - val_loss: 0.6046 - val_accuracy: 0.7929 - lr: 0.0010 - 9s/epoch - 149ms/step
Epoch 75/75
59/59 - 8s - loss: 0.5620 - accuracy: 0.7890 - val_loss: 0.5848 - val_accuracy: 0.8066 - lr: 0.0010 - 8s/epoch - 136ms/step
fitting with batch size: 2500
Epoch 1/75
36/36 - 10s - loss: 0.5419 - accuracy: 0.7952 - val_loss: 0.5789 - val_accuracy: 0.8086 - lr: 0.0010 - 10s/epoch - 279ms/step
Epoch 2/75
36/36 - 8s - loss: 0.5588 - accuracy: 0.7881 - val_loss: 0.6460 - val_accuracy: 0.7770 - lr: 0.0010 - 8s/epoch - 219ms/step
Epoch 3/75
36/36 - 12s - loss: 0.5639 - accuracy: 0.7875 - val_loss: 0.6213 - val_accuracy: 0.8007 - lr: 0.0010 - 12s/epoch - 340ms/step
Epoch 4/75
36/36 - 9s - loss: 0.5739 - accuracy: 0.7839 - val_loss: 0.5859 - val_accuracy: 0.7942 - lr: 0.0010 - 9s/epoch - 261ms/step
Epoch 5/75
36/36 - 11s - loss: 0.5912 - accuracy: 0.7761 - val_loss: 0.6320 - val_accuracy: 0.7851 - lr: 0.0010 - 11s/epoch - 294ms/step
Epoch 6/75
36/36 - 10s - loss: 0.5589 - accuracy: 0.7895 - val_loss: 0.5904 - val_accuracy: 0.8037 - lr: 0.0010 - 10s/epoch - 290ms/step
Epoch 7/75
36/36 - 10s - loss: 0.5598 - accuracy: 0.7878 - val_loss: 0.5147 - val_accuracy: 0.8376 - lr: 0.0010 - 10s/epoch - 284ms/step
Epoch 8/75
36/36 - 10s - loss: 0.5575 - accuracy: 0.7885 - val_loss: 0.5928 - val_accuracy: 0.8087 - lr: 0.0010 - 10s/epoch - 277ms/step
Epoch 9/75
36/36 - 11s - loss: 0.5513 - accuracy: 0.7916 - val_loss: 0.5777 - val_accuracy: 0.8066 - lr: 0.0010 - 11s/epoch - 293ms/step
Epoch 10/75
36/36 - 10s - loss: 0.5438 - accuracy: 0.7950 - val_loss: 0.6010 - val_accuracy: 0.7965 - lr: 0.0010 - 10s/epoch - 276ms/step
Epoch 11/75
36/36 - 10s - loss: 0.5432 - accuracy: 0.7956 - val_loss: 0.5700 - val_accuracy: 0.8231 - lr: 0.0010 - 10s/epoch - 284ms/step
Epoch 12/75
36/36 - 10s - loss: 0.5604 - accuracy: 0.7881 - val_loss: 0.5614 - val_accuracy: 0.8260 - lr: 0.0010 - 10s/epoch - 287ms/step
Epoch 13/75
36/36 - 10s - loss: 0.5931 - accuracy: 0.7754 - val_loss: 0.5406 - val_accuracy: 0.8366 - lr: 0.0010 - 10s/epoch - 287ms/step
Epoch 14/75
36/36 - 10s - loss: 0.5940 - accuracy: 0.7743 - val_loss: 0.5670 - val_accuracy: 0.8113 - lr: 0.0010 - 10s/epoch - 279ms/step
Epoch 15/75
36/36 - 10s - loss: 0.5608 - accuracy: 0.7885 - val_loss: 0.6349 - val_accuracy: 0.7835 - lr: 0.0010 - 10s/epoch - 290ms/step
Epoch 16/75
36/36 - 10s - loss: 0.5770 - accuracy: 0.7810 - val_loss: 0.5457 - val_accuracy: 0.8220 - lr: 0.0010 - 10s/epoch - 290ms/step
Epoch 17/75
36/36 - 11s - loss: 0.5433 - accuracy: 0.7962 - val_loss: 0.5707 - val_accuracy: 0.8131 - lr: 0.0010 - 11s/epoch - 298ms/step
Epoch 18/75
36/36 - 10s - loss: 0.5405 - accuracy: 0.7970 - val_loss: 0.6316 - val_accuracy: 0.7875 - lr: 0.0010 - 10s/epoch - 286ms/step
Epoch 19/75
36/36 - 10s - loss: 0.5760 - accuracy: 0.7825 - val_loss: 0.5762 - val_accuracy: 0.8057 - lr: 0.0010 - 10s/epoch - 283ms/step
Epoch 20/75
36/36 - 10s - loss: 0.5441 - accuracy: 0.7950 - val_loss: 0.6045 - val_accuracy: 0.7855 - lr: 0.0010 - 10s/epoch - 289ms/step
Epoch 21/75
36/36 - 11s - loss: 0.5350 - accuracy: 0.7994 - val_loss: 0.5620 - val_accuracy: 0.8095 - lr: 0.0010 - 11s/epoch - 300ms/step
Epoch 22/75
36/36 - 11s - loss: 0.5405 - accuracy: 0.7970 - val_loss: 0.6125 - val_accuracy: 0.7994 - lr: 0.0010 - 11s/epoch - 306ms/step
Epoch 23/75
36/36 - 10s - loss: 0.5400 - accuracy: 0.7958 - val_loss: 0.5542 - val_accuracy: 0.8171 - lr: 0.0010 - 10s/epoch - 289ms/step
Epoch 24/75
36/36 - 10s - loss: 0.5679 - accuracy: 0.7849 - val_loss: 0.5672 - val_accuracy: 0.8084 - lr: 0.0010 - 10s/epoch - 280ms/step
Epoch 25/75
36/36 - 11s - loss: 0.5547 - accuracy: 0.7903 - val_loss: 0.6245 - val_accuracy: 0.7856 - lr: 0.0010 - 11s/epoch - 293ms/step
Epoch 26/75
36/36 - 11s - loss: 0.5614 - accuracy: 0.7873 - val_loss: 0.6018 - val_accuracy: 0.7979 - lr: 0.0010 - 11s/epoch - 303ms/step
Epoch 27/75
36/36 - 11s - loss: 0.5490 - accuracy: 0.7933 - val_loss: 0.5703 - val_accuracy: 0.8058 - lr: 0.0010 - 11s/epoch - 305ms/step
Epoch 28/75
36/36 - 11s - loss: 0.5461 - accuracy: 0.7932 - val_loss: 0.6017 - val_accuracy: 0.8043 - lr: 0.0010 - 11s/epoch - 311ms/step
Epoch 29/75
36/36 - 11s - loss: 0.5395 - accuracy: 0.7962 - val_loss: 0.5803 - val_accuracy: 0.8055 - lr: 0.0010 - 11s/epoch - 304ms/step
Epoch 30/75
36/36 - 11s - loss: 0.5704 - accuracy: 0.7833 - val_loss: 0.5851 - val_accuracy: 0.8122 - lr: 0.0010 - 11s/epoch - 304ms/step
Epoch 31/75
36/36 - 11s - loss: 0.5471 - accuracy: 0.7928 - val_loss: 0.5331 - val_accuracy: 0.8268 - lr: 0.0010 - 11s/epoch - 297ms/step
Epoch 32/75
36/36 - 10s - loss: 0.5574 - accuracy: 0.7899 - val_loss: 0.5936 - val_accuracy: 0.7932 - lr: 0.0010 - 10s/epoch - 280ms/step
Epoch 33/75
36/36 - 10s - loss: 0.5388 - accuracy: 0.7962 - val_loss: 0.5514 - val_accuracy: 0.8037 - lr: 0.0010 - 10s/epoch - 279ms/step
Epoch 34/75
36/36 - 10s - loss: 0.5342 - accuracy: 0.7981 - val_loss: 0.5835 - val_accuracy: 0.8014 - lr: 0.0010 - 10s/epoch - 277ms/step
Epoch 35/75
36/36 - 10s - loss: 0.5254 - accuracy: 0.8022 - val_loss: 0.5967 - val_accuracy: 0.8026 - lr: 0.0010 - 10s/epoch - 276ms/step
Epoch 36/75
36/36 - 10s - loss: 0.5494 - accuracy: 0.7919 - val_loss: 0.6316 - val_accuracy: 0.7734 - lr: 0.0010 - 10s/epoch - 278ms/step
Epoch 37/75
36/36 - 10s - loss: 0.5540 - accuracy: 0.7905 - val_loss: 0.6046 - val_accuracy: 0.8097 - lr: 0.0010 - 10s/epoch - 278ms/step
Epoch 38/75
36/36 - 10s - loss: 0.5590 - accuracy: 0.7879 - val_loss: 0.6108 - val_accuracy: 0.7955 - lr: 0.0010 - 10s/epoch - 283ms/step
Epoch 39/75
36/36 - 10s - loss: 0.5316 - accuracy: 0.7988 - val_loss: 0.5393 - val_accuracy: 0.8188 - lr: 0.0010 - 10s/epoch - 278ms/step
Epoch 40/75
36/36 - 10s - loss: 0.5314 - accuracy: 0.7989 - val_loss: 0.5995 - val_accuracy: 0.8060 - lr: 0.0010 - 10s/epoch - 285ms/step
Epoch 41/75
36/36 - 11s - loss: 0.5493 - accuracy: 0.7923 - val_loss: 0.5094 - val_accuracy: 0.8356 - lr: 0.0010 - 11s/epoch - 302ms/step
Epoch 42/75
36/36 - 11s - loss: 0.5179 - accuracy: 0.8050 - val_loss: 0.6039 - val_accuracy: 0.7980 - lr: 0.0010 - 11s/epoch - 309ms/step
Epoch 43/75
36/36 - 11s - loss: 0.5285 - accuracy: 0.8011 - val_loss: 0.5599 - val_accuracy: 0.8137 - lr: 0.0010 - 11s/epoch - 307ms/step
Epoch 44/75
36/36 - 11s - loss: 0.5483 - accuracy: 0.7936 - val_loss: 0.5504 - val_accuracy: 0.8111 - lr: 0.0010 - 11s/epoch - 311ms/step
Epoch 45/75
36/36 - 11s - loss: 0.5363 - accuracy: 0.7972 - val_loss: 0.5556 - val_accuracy: 0.8219 - lr: 0.0010 - 11s/epoch - 311ms/step
Epoch 46/75
36/36 - 10s - loss: 0.5149 - accuracy: 0.8065 - val_loss: 0.5344 - val_accuracy: 0.8185 - lr: 0.0010 - 10s/epoch - 274ms/step
Epoch 47/75
36/36 - 11s - loss: 0.5293 - accuracy: 0.7994 - val_loss: 0.6297 - val_accuracy: 0.7956 - lr: 0.0010 - 11s/epoch - 310ms/step
Epoch 48/75
36/36 - 11s - loss: 0.5401 - accuracy: 0.7958 - val_loss: 0.5883 - val_accuracy: 0.8029 - lr: 0.0010 - 11s/epoch - 304ms/step
Epoch 49/75
36/36 - 11s - loss: 0.5256 - accuracy: 0.8014 - val_loss: 0.5460 - val_accuracy: 0.8219 - lr: 0.0010 - 11s/epoch - 308ms/step
Epoch 50/75
36/36 - 11s - loss: 0.5244 - accuracy: 0.8014 - val_loss: 0.5911 - val_accuracy: 0.7960 - lr: 0.0010 - 11s/epoch - 309ms/step
Epoch 51/75
36/36 - 11s - loss: 0.5203 - accuracy: 0.8031 - val_loss: 0.6382 - val_accuracy: 0.7719 - lr: 0.0010 - 11s/epoch - 302ms/step
Epoch 52/75
36/36 - 11s - loss: 0.5259 - accuracy: 0.8013 - val_loss: 0.6439 - val_accuracy: 0.7768 - lr: 0.0010 - 11s/epoch - 304ms/step
Epoch 53/75
36/36 - 11s - loss: 0.5176 - accuracy: 0.8042 - val_loss: 0.5671 - val_accuracy: 0.8043 - lr: 0.0010 - 11s/epoch - 311ms/step
Epoch 54/75
36/36 - 11s - loss: 0.5237 - accuracy: 0.8019 - val_loss: 0.5694 - val_accuracy: 0.8096 - lr: 0.0010 - 11s/epoch - 306ms/step
Epoch 55/75
36/36 - 11s - loss: 0.5269 - accuracy: 0.8013 - val_loss: 0.5556 - val_accuracy: 0.8042 - lr: 0.0010 - 11s/epoch - 302ms/step
Epoch 56/75
36/36 - 10s - loss: 0.5459 - accuracy: 0.7939 - val_loss: 0.5715 - val_accuracy: 0.8063 - lr: 0.0010 - 10s/epoch - 290ms/step
Epoch 57/75
36/36 - 11s - loss: 0.5295 - accuracy: 0.7992 - val_loss: 0.5971 - val_accuracy: 0.7913 - lr: 0.0010 - 11s/epoch - 296ms/step
Epoch 58/75
36/36 - 11s - loss: 0.5187 - accuracy: 0.8041 - val_loss: 0.5803 - val_accuracy: 0.8007 - lr: 0.0010 - 11s/epoch - 315ms/step
Epoch 59/75
36/36 - 11s - loss: 0.5659 - accuracy: 0.7862 - val_loss: 0.4940 - val_accuracy: 0.8490 - lr: 0.0010 - 11s/epoch - 313ms/step
Epoch 60/75
36/36 - 11s - loss: 0.5223 - accuracy: 0.8013 - val_loss: 0.6258 - val_accuracy: 0.7861 - lr: 0.0010 - 11s/epoch - 310ms/step
Epoch 61/75
36/36 - 11s - loss: 0.5316 - accuracy: 0.7993 - val_loss: 0.5642 - val_accuracy: 0.8192 - lr: 0.0010 - 11s/epoch - 306ms/step
Epoch 62/75
36/36 - 11s - loss: 0.5360 - accuracy: 0.7966 - val_loss: 0.5603 - val_accuracy: 0.8199 - lr: 0.0010 - 11s/epoch - 307ms/step
Epoch 63/75
36/36 - 11s - loss: 0.5350 - accuracy: 0.7979 - val_loss: 0.5853 - val_accuracy: 0.7951 - lr: 0.0010 - 11s/epoch - 313ms/step
Epoch 64/75
36/36 - 10s - loss: 0.5120 - accuracy: 0.8071 - val_loss: 0.5558 - val_accuracy: 0.8032 - lr: 0.0010 - 10s/epoch - 288ms/step
Epoch 65/75
36/36 - 11s - loss: 0.5171 - accuracy: 0.8052 - val_loss: 0.5936 - val_accuracy: 0.7896 - lr: 0.0010 - 11s/epoch - 299ms/step
Epoch 66/75
36/36 - 11s - loss: 0.5137 - accuracy: 0.8062 - val_loss: 0.5340 - val_accuracy: 0.8164 - lr: 0.0010 - 11s/epoch - 314ms/step
Epoch 67/75
36/36 - 11s - loss: 0.5033 - accuracy: 0.8094 - val_loss: 0.5972 - val_accuracy: 0.7907 - lr: 0.0010 - 11s/epoch - 315ms/step
Epoch 68/75
36/36 - 11s - loss: 0.4980 - accuracy: 0.8111 - val_loss: 0.5616 - val_accuracy: 0.8037 - lr: 0.0010 - 11s/epoch - 315ms/step
Epoch 69/75
36/36 - 11s - loss: 0.5035 - accuracy: 0.8090 - val_loss: 0.5581 - val_accuracy: 0.8260 - lr: 0.0010 - 11s/epoch - 307ms/step
Epoch 70/75
36/36 - 10s - loss: 0.5294 - accuracy: 0.8002 - val_loss: 0.6236 - val_accuracy: 0.7811 - lr: 0.0010 - 10s/epoch - 288ms/step
Epoch 71/75
36/36 - 11s - loss: 0.5111 - accuracy: 0.8076 - val_loss: 0.5749 - val_accuracy: 0.8032 - lr: 0.0010 - 11s/epoch - 295ms/step
Epoch 72/75
36/36 - 10s - loss: 0.4889 - accuracy: 0.8147 - val_loss: 0.5740 - val_accuracy: 0.8007 - lr: 0.0010 - 10s/epoch - 291ms/step
Epoch 73/75
36/36 - 10s - loss: 0.5011 - accuracy: 0.8111 - val_loss: 0.5843 - val_accuracy: 0.7980 - lr: 0.0010 - 10s/epoch - 280ms/step
Epoch 74/75
36/36 - 10s - loss: 0.5081 - accuracy: 0.8079 - val_loss: 0.5417 - val_accuracy: 0.8144 - lr: 0.0010 - 10s/epoch - 280ms/step
Epoch 75/75
36/36 - 11s - loss: 0.5456 - accuracy: 0.7923 - val_loss: 0.5935 - val_accuracy: 0.7967 - lr: 0.0010 - 11s/epoch - 310ms/step
Epoch number: 100
fitting with batch size: 1500
Epoch 1/100
59/59 - 14s - loss: 0.5218 - accuracy: 0.8019 - val_loss: 0.6031 - val_accuracy: 0.7879 - lr: 0.0010 - 14s/epoch - 245ms/step
Epoch 2/100
59/59 - 11s - loss: 0.4972 - accuracy: 0.8114 - val_loss: 0.5848 - val_accuracy: 0.7938 - lr: 0.0010 - 11s/epoch - 186ms/step
Epoch 3/100
59/59 - 11s - loss: 0.4967 - accuracy: 0.8128 - val_loss: 0.5515 - val_accuracy: 0.8180 - lr: 0.0010 - 11s/epoch - 187ms/step
Epoch 4/100
59/59 - 11s - loss: 0.4977 - accuracy: 0.8112 - val_loss: 0.5678 - val_accuracy: 0.8008 - lr: 0.0010 - 11s/epoch - 189ms/step
Epoch 5/100
59/59 - 11s - loss: 0.4913 - accuracy: 0.8130 - val_loss: 0.5958 - val_accuracy: 0.7936 - lr: 0.0010 - 11s/epoch - 192ms/step
Epoch 6/100
59/59 - 11s - loss: 0.4946 - accuracy: 0.8127 - val_loss: 0.5371 - val_accuracy: 0.8127 - lr: 0.0010 - 11s/epoch - 188ms/step
Epoch 7/100
59/59 - 11s - loss: 0.4963 - accuracy: 0.8117 - val_loss: 0.5363 - val_accuracy: 0.8128 - lr: 0.0010 - 11s/epoch - 184ms/step
Epoch 8/100
59/59 - 11s - loss: 0.4932 - accuracy: 0.8115 - val_loss: 0.5508 - val_accuracy: 0.8111 - lr: 0.0010 - 11s/epoch - 181ms/step
Epoch 9/100
59/59 - 11s - loss: 0.4878 - accuracy: 0.8148 - val_loss: 0.6250 - val_accuracy: 0.7692 - lr: 0.0010 - 11s/epoch - 189ms/step
Epoch 10/100
59/59 - 11s - loss: 0.4955 - accuracy: 0.8122 - val_loss: 0.6007 - val_accuracy: 0.7969 - lr: 0.0010 - 11s/epoch - 187ms/step
Epoch 11/100
59/59 - 12s - loss: 0.4890 - accuracy: 0.8136 - val_loss: 0.5297 - val_accuracy: 0.8114 - lr: 0.0010 - 12s/epoch - 197ms/step
Epoch 12/100
59/59 - 11s - loss: 0.4875 - accuracy: 0.8159 - val_loss: 0.5511 - val_accuracy: 0.8031 - lr: 0.0010 - 11s/epoch - 192ms/step
Epoch 13/100
59/59 - 11s - loss: 0.4870 - accuracy: 0.8151 - val_loss: 0.5475 - val_accuracy: 0.8015 - lr: 0.0010 - 11s/epoch - 187ms/step
Epoch 14/100
59/59 - 11s - loss: 0.4848 - accuracy: 0.8156 - val_loss: 0.5858 - val_accuracy: 0.7915 - lr: 0.0010 - 11s/epoch - 185ms/step
Epoch 15/100
59/59 - 11s - loss: 0.4896 - accuracy: 0.8136 - val_loss: 0.5846 - val_accuracy: 0.7908 - lr: 0.0010 - 11s/epoch - 179ms/step
Epoch 16/100
59/59 - 11s - loss: 0.4782 - accuracy: 0.8196 - val_loss: 0.5532 - val_accuracy: 0.8109 - lr: 0.0010 - 11s/epoch - 183ms/step
Epoch 17/100
59/59 - 11s - loss: 0.4806 - accuracy: 0.8184 - val_loss: 0.5848 - val_accuracy: 0.8002 - lr: 0.0010 - 11s/epoch - 185ms/step
Epoch 18/100
59/59 - 11s - loss: 0.4827 - accuracy: 0.8173 - val_loss: 0.5559 - val_accuracy: 0.8088 - lr: 0.0010 - 11s/epoch - 190ms/step
Epoch 19/100
59/59 - 11s - loss: 0.4813 - accuracy: 0.8182 - val_loss: 0.6086 - val_accuracy: 0.7920 - lr: 0.0010 - 11s/epoch - 189ms/step
Epoch 20/100
59/59 - 11s - loss: 0.4828 - accuracy: 0.8161 - val_loss: 0.5285 - val_accuracy: 0.8109 - lr: 0.0010 - 11s/epoch - 191ms/step
Epoch 21/100
59/59 - 11s - loss: 0.4740 - accuracy: 0.8199 - val_loss: 0.5635 - val_accuracy: 0.8042 - lr: 0.0010 - 11s/epoch - 195ms/step
Epoch 22/100
59/59 - 11s - loss: 0.4733 - accuracy: 0.8201 - val_loss: 0.6075 - val_accuracy: 0.7900 - lr: 0.0010 - 11s/epoch - 185ms/step
Epoch 23/100
59/59 - 11s - loss: 0.4756 - accuracy: 0.8199 - val_loss: 0.5648 - val_accuracy: 0.8041 - lr: 0.0010 - 11s/epoch - 190ms/step
Epoch 24/100
59/59 - 11s - loss: 0.4842 - accuracy: 0.8169 - val_loss: 0.5488 - val_accuracy: 0.8115 - lr: 0.0010 - 11s/epoch - 188ms/step
Epoch 25/100
59/59 - 11s - loss: 0.4748 - accuracy: 0.8204 - val_loss: 0.5280 - val_accuracy: 0.8122 - lr: 0.0010 - 11s/epoch - 188ms/step
Epoch 26/100
59/59 - 11s - loss: 0.4753 - accuracy: 0.8183 - val_loss: 0.5399 - val_accuracy: 0.8106 - lr: 0.0010 - 11s/epoch - 188ms/step
Epoch 27/100
59/59 - 11s - loss: 0.4662 - accuracy: 0.8233 - val_loss: 0.5922 - val_accuracy: 0.7883 - lr: 0.0010 - 11s/epoch - 185ms/step
Epoch 28/100
59/59 - 11s - loss: 0.4728 - accuracy: 0.8201 - val_loss: 0.5987 - val_accuracy: 0.7932 - lr: 0.0010 - 11s/epoch - 193ms/step
Epoch 29/100
59/59 - 11s - loss: 0.4667 - accuracy: 0.8232 - val_loss: 0.5647 - val_accuracy: 0.8039 - lr: 0.0010 - 11s/epoch - 195ms/step
Epoch 30/100
59/59 - 11s - loss: 0.4636 - accuracy: 0.8238 - val_loss: 0.5533 - val_accuracy: 0.8106 - lr: 0.0010 - 11s/epoch - 193ms/step
Epoch 31/100
59/59 - 11s - loss: 0.4661 - accuracy: 0.8230 - val_loss: 0.5612 - val_accuracy: 0.8070 - lr: 0.0010 - 11s/epoch - 190ms/step
Epoch 32/100
59/59 - 11s - loss: 0.4668 - accuracy: 0.8218 - val_loss: 0.5768 - val_accuracy: 0.7927 - lr: 0.0010 - 11s/epoch - 190ms/step
Epoch 33/100
59/59 - 11s - loss: 0.4682 - accuracy: 0.8209 - val_loss: 0.5262 - val_accuracy: 0.8116 - lr: 0.0010 - 11s/epoch - 183ms/step
Epoch 34/100
59/59 - 11s - loss: 0.4627 - accuracy: 0.8241 - val_loss: 0.5611 - val_accuracy: 0.8044 - lr: 0.0010 - 11s/epoch - 179ms/step
Epoch 35/100
59/59 - 11s - loss: 0.4603 - accuracy: 0.8254 - val_loss: 0.5735 - val_accuracy: 0.7904 - lr: 0.0010 - 11s/epoch - 185ms/step
Epoch 36/100
59/59 - 11s - loss: 0.4588 - accuracy: 0.8271 - val_loss: 0.5771 - val_accuracy: 0.7971 - lr: 0.0010 - 11s/epoch - 187ms/step
Epoch 37/100
59/59 - 11s - loss: 0.4604 - accuracy: 0.8253 - val_loss: 0.5822 - val_accuracy: 0.7937 - lr: 0.0010 - 11s/epoch - 188ms/step
Epoch 38/100
59/59 - 11s - loss: 0.4558 - accuracy: 0.8264 - val_loss: 0.5966 - val_accuracy: 0.7897 - lr: 0.0010 - 11s/epoch - 187ms/step
Epoch 39/100
59/59 - 11s - loss: 0.4517 - accuracy: 0.8279 - val_loss: 0.5743 - val_accuracy: 0.7972 - lr: 0.0010 - 11s/epoch - 186ms/step
Epoch 40/100
59/59 - 11s - loss: 0.4606 - accuracy: 0.8241 - val_loss: 0.5493 - val_accuracy: 0.8027 - lr: 0.0010 - 11s/epoch - 191ms/step
Epoch 41/100
59/59 - 11s - loss: 0.4540 - accuracy: 0.8285 - val_loss: 0.6267 - val_accuracy: 0.7782 - lr: 0.0010 - 11s/epoch - 191ms/step
Epoch 42/100
59/59 - 11s - loss: 0.4533 - accuracy: 0.8267 - val_loss: 0.5726 - val_accuracy: 0.8065 - lr: 0.0010 - 11s/epoch - 193ms/step
Epoch 43/100
59/59 - 11s - loss: 0.4521 - accuracy: 0.8289 - val_loss: 0.5399 - val_accuracy: 0.8066 - lr: 0.0010 - 11s/epoch - 187ms/step
Epoch 44/100
59/59 - 11s - loss: 0.4535 - accuracy: 0.8266 - val_loss: 0.5755 - val_accuracy: 0.7982 - lr: 0.0010 - 11s/epoch - 179ms/step
Epoch 45/100
59/59 - 11s - loss: 0.4533 - accuracy: 0.8272 - val_loss: 0.5673 - val_accuracy: 0.8118 - lr: 0.0010 - 11s/epoch - 193ms/step
Epoch 46/100
59/59 - 11s - loss: 0.4593 - accuracy: 0.8255 - val_loss: 0.5519 - val_accuracy: 0.8145 - lr: 0.0010 - 11s/epoch - 184ms/step
Epoch 47/100
59/59 - 11s - loss: 0.4516 - accuracy: 0.8283 - val_loss: 0.6131 - val_accuracy: 0.7854 - lr: 0.0010 - 11s/epoch - 187ms/step
Epoch 48/100
59/59 - 10s - loss: 0.4504 - accuracy: 0.8285 - val_loss: 0.5735 - val_accuracy: 0.7933 - lr: 0.0010 - 10s/epoch - 174ms/step
Epoch 49/100
59/59 - 11s - loss: 0.4544 - accuracy: 0.8268 - val_loss: 0.5784 - val_accuracy: 0.8094 - lr: 0.0010 - 11s/epoch - 186ms/step
Epoch 50/100
59/59 - 11s - loss: 0.4573 - accuracy: 0.8257 - val_loss: 0.5562 - val_accuracy: 0.7981 - lr: 0.0010 - 11s/epoch - 184ms/step
Epoch 51/100
59/59 - 11s - loss: 0.4420 - accuracy: 0.8323 - val_loss: 0.6115 - val_accuracy: 0.7874 - lr: 0.0010 - 11s/epoch - 191ms/step
Epoch 52/100
59/59 - 11s - loss: 0.4438 - accuracy: 0.8307 - val_loss: 0.6139 - val_accuracy: 0.7857 - lr: 0.0010 - 11s/epoch - 192ms/step
Epoch 53/100
59/59 - 11s - loss: 0.4525 - accuracy: 0.8282 - val_loss: 0.5649 - val_accuracy: 0.8091 - lr: 0.0010 - 11s/epoch - 180ms/step
Epoch 54/100
59/59 - 12s - loss: 0.4458 - accuracy: 0.8314 - val_loss: 0.6158 - val_accuracy: 0.7869 - lr: 0.0010 - 12s/epoch - 200ms/step
Epoch 55/100
59/59 - 12s - loss: 0.4466 - accuracy: 0.8300 - val_loss: 0.6851 - val_accuracy: 0.7557 - lr: 0.0010 - 12s/epoch - 200ms/step
Epoch 56/100
59/59 - 11s - loss: 0.4423 - accuracy: 0.8314 - val_loss: 0.6194 - val_accuracy: 0.7813 - lr: 0.0010 - 11s/epoch - 192ms/step
Epoch 57/100
59/59 - 11s - loss: 0.4464 - accuracy: 0.8294 - val_loss: 0.5837 - val_accuracy: 0.8002 - lr: 0.0010 - 11s/epoch - 190ms/step
Epoch 58/100
59/59 - 11s - loss: 0.4434 - accuracy: 0.8307 - val_loss: 0.5751 - val_accuracy: 0.8021 - lr: 0.0010 - 11s/epoch - 193ms/step
Epoch 59/100
59/59 - 11s - loss: 0.4379 - accuracy: 0.8337 - val_loss: 0.5649 - val_accuracy: 0.8009 - lr: 0.0010 - 11s/epoch - 189ms/step
Epoch 60/100
59/59 - 11s - loss: 0.4379 - accuracy: 0.8340 - val_loss: 0.5532 - val_accuracy: 0.8140 - lr: 0.0010 - 11s/epoch - 190ms/step
Epoch 61/100
59/59 - 11s - loss: 0.4343 - accuracy: 0.8351 - val_loss: 0.5904 - val_accuracy: 0.7964 - lr: 0.0010 - 11s/epoch - 192ms/step
Epoch 62/100
59/59 - 11s - loss: 0.4412 - accuracy: 0.8309 - val_loss: 0.5678 - val_accuracy: 0.7920 - lr: 0.0010 - 11s/epoch - 194ms/step
Epoch 63/100
59/59 - 11s - loss: 0.4361 - accuracy: 0.8342 - val_loss: 0.6223 - val_accuracy: 0.7821 - lr: 0.0010 - 11s/epoch - 194ms/step
Epoch 64/100
59/59 - 11s - loss: 0.4378 - accuracy: 0.8322 - val_loss: 0.5941 - val_accuracy: 0.7893 - lr: 0.0010 - 11s/epoch - 193ms/step
Epoch 65/100
59/59 - 11s - loss: 0.4297 - accuracy: 0.8365 - val_loss: 0.5635 - val_accuracy: 0.7954 - lr: 0.0010 - 11s/epoch - 188ms/step
Epoch 66/100
59/59 - 11s - loss: 0.4339 - accuracy: 0.8334 - val_loss: 0.6084 - val_accuracy: 0.7906 - lr: 0.0010 - 11s/epoch - 193ms/step
Epoch 67/100
59/59 - 11s - loss: 0.4298 - accuracy: 0.8356 - val_loss: 0.5486 - val_accuracy: 0.8092 - lr: 0.0010 - 11s/epoch - 191ms/step
Epoch 68/100
59/59 - 11s - loss: 0.4293 - accuracy: 0.8369 - val_loss: 0.6290 - val_accuracy: 0.7788 - lr: 0.0010 - 11s/epoch - 192ms/step
Epoch 69/100
59/59 - 12s - loss: 0.4366 - accuracy: 0.8337 - val_loss: 0.6070 - val_accuracy: 0.7834 - lr: 0.0010 - 12s/epoch - 196ms/step
Epoch 70/100
59/59 - 11s - loss: 0.4316 - accuracy: 0.8348 - val_loss: 0.5738 - val_accuracy: 0.8038 - lr: 0.0010 - 11s/epoch - 193ms/step
Epoch 71/100
59/59 - 11s - loss: 0.4315 - accuracy: 0.8350 - val_loss: 0.6196 - val_accuracy: 0.7842 - lr: 0.0010 - 11s/epoch - 191ms/step
Epoch 72/100
59/59 - 11s - loss: 0.4250 - accuracy: 0.8375 - val_loss: 0.6173 - val_accuracy: 0.7855 - lr: 0.0010 - 11s/epoch - 194ms/step
Epoch 73/100
59/59 - 12s - loss: 0.4340 - accuracy: 0.8338 - val_loss: 0.5362 - val_accuracy: 0.8160 - lr: 0.0010 - 12s/epoch - 196ms/step
Epoch 74/100
59/59 - 12s - loss: 0.4318 - accuracy: 0.8342 - val_loss: 0.6554 - val_accuracy: 0.7646 - lr: 0.0010 - 12s/epoch - 196ms/step
Epoch 75/100
59/59 - 12s - loss: 0.4204 - accuracy: 0.8415 - val_loss: 0.5486 - val_accuracy: 0.8081 - lr: 0.0010 - 12s/epoch - 200ms/step
Epoch 76/100
59/59 - 12s - loss: 0.4291 - accuracy: 0.8368 - val_loss: 0.5646 - val_accuracy: 0.8040 - lr: 0.0010 - 12s/epoch - 196ms/step
Epoch 77/100
59/59 - 13s - loss: 0.4246 - accuracy: 0.8387 - val_loss: 0.5941 - val_accuracy: 0.7982 - lr: 0.0010 - 13s/epoch - 220ms/step
Epoch 78/100
59/59 - 12s - loss: 0.4233 - accuracy: 0.8394 - val_loss: 0.5896 - val_accuracy: 0.7902 - lr: 0.0010 - 12s/epoch - 199ms/step
Epoch 79/100
59/59 - 11s - loss: 0.4256 - accuracy: 0.8370 - val_loss: 0.5603 - val_accuracy: 0.8106 - lr: 0.0010 - 11s/epoch - 186ms/step
Epoch 80/100
59/59 - 11s - loss: 0.4171 - accuracy: 0.8404 - val_loss: 0.5936 - val_accuracy: 0.7804 - lr: 0.0010 - 11s/epoch - 187ms/step
Epoch 81/100
59/59 - 11s - loss: 0.4222 - accuracy: 0.8389 - val_loss: 0.5921 - val_accuracy: 0.7921 - lr: 0.0010 - 11s/epoch - 192ms/step
Epoch 82/100
59/59 - 11s - loss: 0.4196 - accuracy: 0.8400 - val_loss: 0.6091 - val_accuracy: 0.7909 - lr: 0.0010 - 11s/epoch - 192ms/step
Epoch 83/100
59/59 - 11s - loss: 0.4218 - accuracy: 0.8402 - val_loss: 0.5982 - val_accuracy: 0.7937 - lr: 0.0010 - 11s/epoch - 188ms/step
Epoch 84/100
59/59 - 12s - loss: 0.4314 - accuracy: 0.8351 - val_loss: 0.5592 - val_accuracy: 0.7971 - lr: 0.0010 - 12s/epoch - 197ms/step
Epoch 85/100
59/59 - 12s - loss: 0.4189 - accuracy: 0.8403 - val_loss: 0.6106 - val_accuracy: 0.7900 - lr: 0.0010 - 12s/epoch - 196ms/step
Epoch 86/100
59/59 - 12s - loss: 0.4162 - accuracy: 0.8406 - val_loss: 0.5997 - val_accuracy: 0.7939 - lr: 0.0010 - 12s/epoch - 199ms/step
Epoch 87/100
59/59 - 11s - loss: 0.4216 - accuracy: 0.8393 - val_loss: 0.6054 - val_accuracy: 0.7952 - lr: 0.0010 - 11s/epoch - 191ms/step
Epoch 88/100
59/59 - 12s - loss: 0.4215 - accuracy: 0.8388 - val_loss: 0.5778 - val_accuracy: 0.8000 - lr: 0.0010 - 12s/epoch - 198ms/step
Epoch 89/100
59/59 - 12s - loss: 0.4157 - accuracy: 0.8408 - val_loss: 0.5570 - val_accuracy: 0.8138 - lr: 0.0010 - 12s/epoch - 202ms/step
Epoch 90/100
59/59 - 12s - loss: 0.4116 - accuracy: 0.8428 - val_loss: 0.5973 - val_accuracy: 0.8008 - lr: 0.0010 - 12s/epoch - 203ms/step
Epoch 91/100
59/59 - 12s - loss: 0.4155 - accuracy: 0.8406 - val_loss: 0.5692 - val_accuracy: 0.8075 - lr: 0.0010 - 12s/epoch - 210ms/step
Epoch 92/100
59/59 - 12s - loss: 0.4189 - accuracy: 0.8408 - val_loss: 0.6230 - val_accuracy: 0.7845 - lr: 0.0010 - 12s/epoch - 198ms/step
Epoch 93/100
59/59 - 11s - loss: 0.4117 - accuracy: 0.8425 - val_loss: 0.5811 - val_accuracy: 0.7986 - lr: 0.0010 - 11s/epoch - 186ms/step
Epoch 94/100
59/59 - 10s - loss: 0.4080 - accuracy: 0.8455 - val_loss: 0.5782 - val_accuracy: 0.8083 - lr: 0.0010 - 10s/epoch - 177ms/step
Epoch 95/100
59/59 - 11s - loss: 0.4122 - accuracy: 0.8422 - val_loss: 0.5894 - val_accuracy: 0.7967 - lr: 0.0010 - 11s/epoch - 179ms/step
Epoch 96/100
59/59 - 10s - loss: 0.4110 - accuracy: 0.8421 - val_loss: 0.5176 - val_accuracy: 0.8245 - lr: 0.0010 - 10s/epoch - 177ms/step
Epoch 97/100
59/59 - 11s - loss: 0.4156 - accuracy: 0.8418 - val_loss: 0.5479 - val_accuracy: 0.8135 - lr: 0.0010 - 11s/epoch - 184ms/step
Epoch 98/100
59/59 - 12s - loss: 0.4058 - accuracy: 0.8457 - val_loss: 0.5789 - val_accuracy: 0.8090 - lr: 0.0010 - 12s/epoch - 197ms/step
Epoch 99/100
59/59 - 12s - loss: 0.4079 - accuracy: 0.8430 - val_loss: 0.5625 - val_accuracy: 0.8083 - lr: 0.0010 - 12s/epoch - 201ms/step
Epoch 100/100
59/59 - 11s - loss: 0.4143 - accuracy: 0.8421 - val_loss: 0.5241 - val_accuracy: 0.8249 - lr: 0.0010 - 11s/epoch - 194ms/step
fitting with batch size: 2500
Epoch 1/100
36/36 - 15s - loss: 0.3807 - accuracy: 0.8544 - val_loss: 0.6120 - val_accuracy: 0.7831 - lr: 0.0010 - 15s/epoch - 427ms/step
Epoch 2/100
36/36 - 12s - loss: 0.4336 - accuracy: 0.8353 - val_loss: 0.5915 - val_accuracy: 0.7965 - lr: 0.0010 - 12s/epoch - 326ms/step
Epoch 3/100
36/36 - 12s - loss: 0.4110 - accuracy: 0.8431 - val_loss: 0.6427 - val_accuracy: 0.7733 - lr: 0.0010 - 12s/epoch - 321ms/step
Epoch 4/100
36/36 - 12s - loss: 0.3955 - accuracy: 0.8493 - val_loss: 0.5901 - val_accuracy: 0.8007 - lr: 0.0010 - 12s/epoch - 322ms/step
Epoch 5/100
36/36 - 11s - loss: 0.4057 - accuracy: 0.8448 - val_loss: 0.5511 - val_accuracy: 0.8166 - lr: 0.0010 - 11s/epoch - 316ms/step
Epoch 6/100
36/36 - 11s - loss: 0.4388 - accuracy: 0.8327 - val_loss: 0.5771 - val_accuracy: 0.8083 - lr: 0.0010 - 11s/epoch - 300ms/step
Epoch 7/100
36/36 - 11s - loss: 0.4237 - accuracy: 0.8381 - val_loss: 0.5685 - val_accuracy: 0.8088 - lr: 0.0010 - 11s/epoch - 301ms/step
Epoch 8/100
36/36 - 10s - loss: 0.4193 - accuracy: 0.8408 - val_loss: 0.4958 - val_accuracy: 0.8270 - lr: 0.0010 - 10s/epoch - 281ms/step
Epoch 9/100
36/36 - 10s - loss: 0.4604 - accuracy: 0.8241 - val_loss: 0.5978 - val_accuracy: 0.7912 - lr: 0.0010 - 10s/epoch - 291ms/step
Epoch 10/100
36/36 - 11s - loss: 0.4218 - accuracy: 0.8378 - val_loss: 0.5980 - val_accuracy: 0.7929 - lr: 0.0010 - 11s/epoch - 297ms/step
Epoch 11/100
36/36 - 11s - loss: 0.4108 - accuracy: 0.8429 - val_loss: 0.5607 - val_accuracy: 0.8138 - lr: 0.0010 - 11s/epoch - 298ms/step
Epoch 12/100
36/36 - 11s - loss: 0.4403 - accuracy: 0.8321 - val_loss: 0.5176 - val_accuracy: 0.8269 - lr: 0.0010 - 11s/epoch - 303ms/step
Epoch 13/100
36/36 - 10s - loss: 0.4089 - accuracy: 0.8444 - val_loss: 0.6163 - val_accuracy: 0.7832 - lr: 0.0010 - 10s/epoch - 291ms/step
Epoch 14/100
36/36 - 11s - loss: 0.4170 - accuracy: 0.8400 - val_loss: 0.6015 - val_accuracy: 0.7923 - lr: 0.0010 - 11s/epoch - 314ms/step
Epoch 15/100
36/36 - 10s - loss: 0.3846 - accuracy: 0.8542 - val_loss: 0.5857 - val_accuracy: 0.8043 - lr: 0.0010 - 10s/epoch - 291ms/step
Epoch 16/100
36/36 - 10s - loss: 0.4055 - accuracy: 0.8451 - val_loss: 0.5194 - val_accuracy: 0.8310 - lr: 0.0010 - 10s/epoch - 288ms/step
Epoch 17/100
36/36 - 11s - loss: 0.3947 - accuracy: 0.8489 - val_loss: 0.5535 - val_accuracy: 0.8156 - lr: 0.0010 - 11s/epoch - 310ms/step
Epoch 18/100
36/36 - 11s - loss: 0.3782 - accuracy: 0.8555 - val_loss: 0.5722 - val_accuracy: 0.8066 - lr: 0.0010 - 11s/epoch - 295ms/step
Epoch 19/100
36/36 - 11s - loss: 0.4408 - accuracy: 0.8318 - val_loss: 0.6094 - val_accuracy: 0.7920 - lr: 0.0010 - 11s/epoch - 308ms/step
Epoch 20/100
36/36 - 11s - loss: 0.4334 - accuracy: 0.8340 - val_loss: 0.6035 - val_accuracy: 0.7965 - lr: 0.0010 - 11s/epoch - 319ms/step
Epoch 21/100
36/36 - 11s - loss: 0.4240 - accuracy: 0.8376 - val_loss: 0.5237 - val_accuracy: 0.8281 - lr: 0.0010 - 11s/epoch - 301ms/step
Epoch 22/100
36/36 - 10s - loss: 0.4379 - accuracy: 0.8328 - val_loss: 0.5673 - val_accuracy: 0.8124 - lr: 0.0010 - 10s/epoch - 290ms/step
Epoch 23/100
36/36 - 11s - loss: 0.4106 - accuracy: 0.8429 - val_loss: 0.5324 - val_accuracy: 0.8176 - lr: 0.0010 - 11s/epoch - 292ms/step
Epoch 24/100
36/36 - 11s - loss: 0.4185 - accuracy: 0.8392 - val_loss: 0.5319 - val_accuracy: 0.8179 - lr: 0.0010 - 11s/epoch - 297ms/step
Epoch 25/100
36/36 - 11s - loss: 0.3896 - accuracy: 0.8525 - val_loss: 0.5380 - val_accuracy: 0.8207 - lr: 0.0010 - 11s/epoch - 312ms/step
Epoch 26/100
36/36 - 11s - loss: 0.4319 - accuracy: 0.8345 - val_loss: 0.5503 - val_accuracy: 0.8138 - lr: 0.0010 - 11s/epoch - 303ms/step
Epoch 27/100
36/36 - 11s - loss: 0.4088 - accuracy: 0.8442 - val_loss: 0.5646 - val_accuracy: 0.8060 - lr: 0.0010 - 11s/epoch - 293ms/step
Epoch 28/100
36/36 - 10s - loss: 0.3993 - accuracy: 0.8469 - val_loss: 0.6013 - val_accuracy: 0.7969 - lr: 0.0010 - 10s/epoch - 291ms/step
Epoch 29/100
36/36 - 11s - loss: 0.4207 - accuracy: 0.8390 - val_loss: 0.5971 - val_accuracy: 0.7924 - lr: 0.0010 - 11s/epoch - 310ms/step
Epoch 30/100
36/36 - 11s - loss: 0.4816 - accuracy: 0.8174 - val_loss: 0.5786 - val_accuracy: 0.7976 - lr: 0.0010 - 11s/epoch - 305ms/step
Epoch 31/100
36/36 - 11s - loss: 0.4107 - accuracy: 0.8428 - val_loss: 0.5557 - val_accuracy: 0.8100 - lr: 0.0010 - 11s/epoch - 294ms/step
Epoch 32/100
36/36 - 11s - loss: 0.4099 - accuracy: 0.8431 - val_loss: 0.5363 - val_accuracy: 0.8157 - lr: 0.0010 - 11s/epoch - 296ms/step
Epoch 33/100
36/36 - 10s - loss: 0.3940 - accuracy: 0.8492 - val_loss: 0.5493 - val_accuracy: 0.8129 - lr: 0.0010 - 10s/epoch - 290ms/step
Epoch 34/100
36/36 - 11s - loss: 0.4130 - accuracy: 0.8418 - val_loss: 0.5768 - val_accuracy: 0.8073 - lr: 0.0010 - 11s/epoch - 306ms/step
Epoch 35/100
36/36 - 10s - loss: 0.4091 - accuracy: 0.8425 - val_loss: 0.5763 - val_accuracy: 0.8078 - lr: 0.0010 - 10s/epoch - 290ms/step
Epoch 36/100
36/36 - 11s - loss: 0.4168 - accuracy: 0.8400 - val_loss: 0.6204 - val_accuracy: 0.7902 - lr: 0.0010 - 11s/epoch - 312ms/step
Epoch 37/100
36/36 - 11s - loss: 0.4444 - accuracy: 0.8296 - val_loss: 0.5689 - val_accuracy: 0.8064 - lr: 0.0010 - 11s/epoch - 293ms/step
Epoch 38/100
36/36 - 10s - loss: 0.4162 - accuracy: 0.8405 - val_loss: 0.6110 - val_accuracy: 0.7935 - lr: 0.0010 - 10s/epoch - 283ms/step
Epoch 39/100
36/36 - 11s - loss: 0.3971 - accuracy: 0.8486 - val_loss: 0.5578 - val_accuracy: 0.8073 - lr: 0.0010 - 11s/epoch - 312ms/step
Epoch 40/100
36/36 - 11s - loss: 0.4398 - accuracy: 0.8325 - val_loss: 0.5640 - val_accuracy: 0.8118 - lr: 0.0010 - 11s/epoch - 304ms/step
Epoch 41/100
36/36 - 11s - loss: 0.3970 - accuracy: 0.8485 - val_loss: 0.5684 - val_accuracy: 0.8047 - lr: 0.0010 - 11s/epoch - 306ms/step
Epoch 42/100
36/36 - 11s - loss: 0.4691 - accuracy: 0.8209 - val_loss: 0.5290 - val_accuracy: 0.8257 - lr: 0.0010 - 11s/epoch - 307ms/step
Epoch 43/100
36/36 - 11s - loss: 0.4651 - accuracy: 0.8231 - val_loss: 0.5987 - val_accuracy: 0.7900 - lr: 0.0010 - 11s/epoch - 314ms/step
Epoch 44/100
36/36 - 11s - loss: 0.4249 - accuracy: 0.8372 - val_loss: 0.5321 - val_accuracy: 0.8186 - lr: 0.0010 - 11s/epoch - 317ms/step
Epoch 45/100
36/36 - 11s - loss: 0.4088 - accuracy: 0.8430 - val_loss: 0.5244 - val_accuracy: 0.8228 - lr: 0.0010 - 11s/epoch - 292ms/step
Epoch 46/100
36/36 - 11s - loss: 0.3866 - accuracy: 0.8540 - val_loss: 0.5465 - val_accuracy: 0.8207 - lr: 0.0010 - 11s/epoch - 293ms/step
Epoch 47/100
36/36 - 11s - loss: 0.4023 - accuracy: 0.8466 - val_loss: 0.5572 - val_accuracy: 0.8087 - lr: 0.0010 - 11s/epoch - 309ms/step
Epoch 48/100
36/36 - 11s - loss: 0.4160 - accuracy: 0.8412 - val_loss: 0.6057 - val_accuracy: 0.7871 - lr: 0.0010 - 11s/epoch - 296ms/step
Epoch 49/100
36/36 - 10s - loss: 0.4388 - accuracy: 0.8319 - val_loss: 0.5796 - val_accuracy: 0.7998 - lr: 0.0010 - 10s/epoch - 283ms/step
Epoch 50/100
36/36 - 11s - loss: 0.4330 - accuracy: 0.8345 - val_loss: 0.5785 - val_accuracy: 0.8071 - lr: 0.0010 - 11s/epoch - 316ms/step
Epoch 51/100
36/36 - 11s - loss: 0.4166 - accuracy: 0.8408 - val_loss: 0.5419 - val_accuracy: 0.8197 - lr: 0.0010 - 11s/epoch - 314ms/step
Epoch 52/100
36/36 - 11s - loss: 0.3869 - accuracy: 0.8532 - val_loss: 0.5755 - val_accuracy: 0.8039 - lr: 0.0010 - 11s/epoch - 294ms/step
Epoch 53/100
36/36 - 10s - loss: 0.4078 - accuracy: 0.8438 - val_loss: 0.5289 - val_accuracy: 0.8238 - lr: 0.0010 - 10s/epoch - 284ms/step
Epoch 54/100
36/36 - 9s - loss: 0.3882 - accuracy: 0.8520 - val_loss: 0.4972 - val_accuracy: 0.8367 - lr: 0.0010 - 9s/epoch - 252ms/step
Epoch 55/100
36/36 - 9s - loss: 0.4137 - accuracy: 0.8412 - val_loss: 0.5604 - val_accuracy: 0.8129 - lr: 0.0010 - 9s/epoch - 247ms/step
Epoch 56/100
36/36 - 10s - loss: 0.4036 - accuracy: 0.8447 - val_loss: 0.5745 - val_accuracy: 0.8037 - lr: 0.0010 - 10s/epoch - 282ms/step
Epoch 57/100
36/36 - 10s - loss: 0.3863 - accuracy: 0.8528 - val_loss: 0.5857 - val_accuracy: 0.8035 - lr: 0.0010 - 10s/epoch - 280ms/step
Epoch 58/100
36/36 - 11s - loss: 0.4000 - accuracy: 0.8463 - val_loss: 0.5289 - val_accuracy: 0.8203 - lr: 0.0010 - 11s/epoch - 296ms/step
Epoch 59/100
36/36 - 11s - loss: 0.3717 - accuracy: 0.8576 - val_loss: 0.5830 - val_accuracy: 0.8040 - lr: 0.0010 - 11s/epoch - 300ms/step
Epoch 60/100
36/36 - 11s - loss: 0.3970 - accuracy: 0.8482 - val_loss: 0.6409 - val_accuracy: 0.7746 - lr: 0.0010 - 11s/epoch - 293ms/step
Epoch 61/100
36/36 - 11s - loss: 0.4022 - accuracy: 0.8461 - val_loss: 0.6342 - val_accuracy: 0.7822 - lr: 0.0010 - 11s/epoch - 296ms/step
Epoch 62/100
36/36 - 11s - loss: 0.4623 - accuracy: 0.8234 - val_loss: 0.5476 - val_accuracy: 0.8177 - lr: 0.0010 - 11s/epoch - 302ms/step
Epoch 63/100
36/36 - 11s - loss: 0.4420 - accuracy: 0.8315 - val_loss: 0.5097 - val_accuracy: 0.8313 - lr: 0.0010 - 11s/epoch - 307ms/step
Epoch 64/100
36/36 - 10s - loss: 0.3998 - accuracy: 0.8473 - val_loss: 0.5344 - val_accuracy: 0.8193 - lr: 0.0010 - 10s/epoch - 291ms/step
Epoch 65/100
36/36 - 11s - loss: 0.3779 - accuracy: 0.8554 - val_loss: 0.5822 - val_accuracy: 0.8056 - lr: 0.0010 - 11s/epoch - 292ms/step
Epoch 66/100
36/36 - 11s - loss: 0.3895 - accuracy: 0.8511 - val_loss: 0.6566 - val_accuracy: 0.7732 - lr: 0.0010 - 11s/epoch - 303ms/step
Epoch 67/100
36/36 - 11s - loss: 0.4625 - accuracy: 0.8230 - val_loss: 0.5353 - val_accuracy: 0.8205 - lr: 0.0010 - 11s/epoch - 301ms/step
Epoch 68/100
36/36 - 10s - loss: 0.4265 - accuracy: 0.8368 - val_loss: 0.5925 - val_accuracy: 0.7964 - lr: 0.0010 - 10s/epoch - 276ms/step
Epoch 69/100
36/36 - 10s - loss: 0.4017 - accuracy: 0.8465 - val_loss: 0.5267 - val_accuracy: 0.8179 - lr: 0.0010 - 10s/epoch - 282ms/step
Epoch 70/100
36/36 - 10s - loss: 0.4051 - accuracy: 0.8454 - val_loss: 0.6221 - val_accuracy: 0.7752 - lr: 0.0010 - 10s/epoch - 290ms/step
Epoch 71/100
36/36 - 11s - loss: 0.3974 - accuracy: 0.8480 - val_loss: 0.6133 - val_accuracy: 0.7886 - lr: 0.0010 - 11s/epoch - 293ms/step
Epoch 72/100
36/36 - 11s - loss: 0.4289 - accuracy: 0.8343 - val_loss: 0.5518 - val_accuracy: 0.8157 - lr: 0.0010 - 11s/epoch - 294ms/step
Epoch 73/100
36/36 - 10s - loss: 0.3906 - accuracy: 0.8498 - val_loss: 0.5629 - val_accuracy: 0.8085 - lr: 0.0010 - 10s/epoch - 288ms/step
Epoch 74/100
36/36 - 10s - loss: 0.3909 - accuracy: 0.8501 - val_loss: 0.5914 - val_accuracy: 0.7970 - lr: 0.0010 - 10s/epoch - 289ms/step
Epoch 75/100
36/36 - 10s - loss: 0.4594 - accuracy: 0.8238 - val_loss: 0.5988 - val_accuracy: 0.7817 - lr: 0.0010 - 10s/epoch - 290ms/step
Epoch 76/100
36/36 - 10s - loss: 0.3942 - accuracy: 0.8492 - val_loss: 0.5764 - val_accuracy: 0.7990 - lr: 0.0010 - 10s/epoch - 291ms/step
Epoch 77/100
36/36 - 10s - loss: 0.3927 - accuracy: 0.8504 - val_loss: 0.5760 - val_accuracy: 0.8039 - lr: 0.0010 - 10s/epoch - 286ms/step
Epoch 78/100
36/36 - 11s - loss: 0.3806 - accuracy: 0.8540 - val_loss: 0.5727 - val_accuracy: 0.8055 - lr: 0.0010 - 11s/epoch - 295ms/step
Epoch 79/100
36/36 - 10s - loss: 0.3840 - accuracy: 0.8539 - val_loss: 0.6212 - val_accuracy: 0.7858 - lr: 0.0010 - 10s/epoch - 291ms/step
Epoch 80/100
36/36 - 11s - loss: 0.4211 - accuracy: 0.8385 - val_loss: 0.5875 - val_accuracy: 0.7885 - lr: 0.0010 - 11s/epoch - 303ms/step
Epoch 81/100
36/36 - 10s - loss: 0.4148 - accuracy: 0.8413 - val_loss: 0.5061 - val_accuracy: 0.8279 - lr: 0.0010 - 10s/epoch - 290ms/step
Epoch 82/100
36/36 - 10s - loss: 0.4167 - accuracy: 0.8410 - val_loss: 0.6410 - val_accuracy: 0.7745 - lr: 0.0010 - 10s/epoch - 283ms/step
Epoch 83/100
36/36 - 10s - loss: 0.4319 - accuracy: 0.8353 - val_loss: 0.5341 - val_accuracy: 0.8149 - lr: 0.0010 - 10s/epoch - 274ms/step
Epoch 84/100
36/36 - 10s - loss: 0.3854 - accuracy: 0.8517 - val_loss: 0.6267 - val_accuracy: 0.7833 - lr: 0.0010 - 10s/epoch - 273ms/step
Epoch 85/100
36/36 - 10s - loss: 0.3969 - accuracy: 0.8480 - val_loss: 0.6141 - val_accuracy: 0.7870 - lr: 0.0010 - 10s/epoch - 270ms/step
Epoch 86/100
36/36 - 10s - loss: 0.3697 - accuracy: 0.8589 - val_loss: 0.5934 - val_accuracy: 0.7989 - lr: 0.0010 - 10s/epoch - 287ms/step
Epoch 87/100
36/36 - 10s - loss: 0.3729 - accuracy: 0.8569 - val_loss: 0.5853 - val_accuracy: 0.7950 - lr: 0.0010 - 10s/epoch - 284ms/step
Epoch 88/100
36/36 - 10s - loss: 0.3746 - accuracy: 0.8557 - val_loss: 0.5845 - val_accuracy: 0.7969 - lr: 0.0010 - 10s/epoch - 274ms/step
Epoch 89/100
36/36 - 10s - loss: 0.3729 - accuracy: 0.8572 - val_loss: 0.5703 - val_accuracy: 0.8039 - lr: 0.0010 - 10s/epoch - 285ms/step
Epoch 90/100
36/36 - 11s - loss: 0.4226 - accuracy: 0.8386 - val_loss: 0.5578 - val_accuracy: 0.8085 - lr: 0.0010 - 11s/epoch - 293ms/step
Epoch 91/100
36/36 - 10s - loss: 0.3781 - accuracy: 0.8546 - val_loss: 0.6569 - val_accuracy: 0.7698 - lr: 0.0010 - 10s/epoch - 290ms/step
Epoch 92/100
36/36 - 8s - loss: 0.4044 - accuracy: 0.8441 - val_loss: 0.5824 - val_accuracy: 0.7984 - lr: 0.0010 - 8s/epoch - 222ms/step
Epoch 93/100
36/36 - 8s - loss: 0.3703 - accuracy: 0.8577 - val_loss: 0.5573 - val_accuracy: 0.8062 - lr: 0.0010 - 8s/epoch - 232ms/step
Epoch 94/100
36/36 - 8s - loss: 0.4075 - accuracy: 0.8448 - val_loss: 0.6378 - val_accuracy: 0.7833 - lr: 0.0010 - 8s/epoch - 223ms/step
Epoch 95/100
36/36 - 8s - loss: 0.4175 - accuracy: 0.8382 - val_loss: 0.5590 - val_accuracy: 0.8095 - lr: 0.0010 - 8s/epoch - 228ms/step
Epoch 96/100
36/36 - 11s - loss: 0.4674 - accuracy: 0.8195 - val_loss: 0.5437 - val_accuracy: 0.8116 - lr: 0.0010 - 11s/epoch - 292ms/step
Epoch 97/100
36/36 - 10s - loss: 0.3692 - accuracy: 0.8588 - val_loss: 0.5838 - val_accuracy: 0.8007 - lr: 0.0010 - 10s/epoch - 290ms/step
Epoch 98/100
36/36 - 10s - loss: 0.3830 - accuracy: 0.8522 - val_loss: 0.5686 - val_accuracy: 0.8045 - lr: 0.0010 - 10s/epoch - 287ms/step
Epoch 99/100
36/36 - 10s - loss: 0.4005 - accuracy: 0.8472 - val_loss: 0.5914 - val_accuracy: 0.7921 - lr: 0.0010 - 10s/epoch - 286ms/step
Epoch 100/100
36/36 - 10s - loss: 0.3857 - accuracy: 0.8527 - val_loss: 0.6527 - val_accuracy: 0.7718 - lr: 0.0010 - 10s/epoch - 285ms/step
Loss: binary_crossentropy
Epoch number: 75
fitting with batch size: 1500
Epoch 1/75
59/59 - 17s - loss: 0.1391 - accuracy: 0.8512 - val_loss: 0.2152 - val_accuracy: 0.7966 - lr: 0.0010 - 17s/epoch - 285ms/step
Epoch 2/75
59/59 - 10s - loss: 0.1170 - accuracy: 0.8760 - val_loss: 0.2183 - val_accuracy: 0.7995 - lr: 0.0010 - 10s/epoch - 170ms/step
Epoch 3/75
59/59 - 10s - loss: 0.1196 - accuracy: 0.8718 - val_loss: 0.2009 - val_accuracy: 0.8120 - lr: 0.0010 - 10s/epoch - 169ms/step
Epoch 4/75
59/59 - 10s - loss: 0.1245 - accuracy: 0.8663 - val_loss: 0.2193 - val_accuracy: 0.7979 - lr: 0.0010 - 10s/epoch - 170ms/step
Epoch 5/75
59/59 - 10s - loss: 0.1290 - accuracy: 0.8606 - val_loss: 0.2119 - val_accuracy: 0.8042 - lr: 0.0010 - 10s/epoch - 173ms/step
Epoch 6/75
59/59 - 10s - loss: 0.1321 - accuracy: 0.8573 - val_loss: 0.2172 - val_accuracy: 0.8018 - lr: 0.0010 - 10s/epoch - 175ms/step
Epoch 7/75
59/59 - 10s - loss: 0.1300 - accuracy: 0.8596 - val_loss: 0.2050 - val_accuracy: 0.8044 - lr: 0.0010 - 10s/epoch - 169ms/step
Epoch 8/75
59/59 - 10s - loss: 0.1335 - accuracy: 0.8558 - val_loss: 0.2232 - val_accuracy: 0.7957 - lr: 0.0010 - 10s/epoch - 169ms/step
Epoch 9/75
59/59 - 10s - loss: 0.1385 - accuracy: 0.8499 - val_loss: 0.1965 - val_accuracy: 0.8131 - lr: 0.0010 - 10s/epoch - 171ms/step
Epoch 10/75
59/59 - 10s - loss: 0.1357 - accuracy: 0.8528 - val_loss: 0.1963 - val_accuracy: 0.8118 - lr: 0.0010 - 10s/epoch - 169ms/step
Epoch 11/75
59/59 - 10s - loss: 0.1321 - accuracy: 0.8577 - val_loss: 0.2005 - val_accuracy: 0.8124 - lr: 0.0010 - 10s/epoch - 169ms/step
Epoch 12/75
59/59 - 10s - loss: 0.1334 - accuracy: 0.8560 - val_loss: 0.2481 - val_accuracy: 0.7568 - lr: 0.0010 - 10s/epoch - 171ms/step
Epoch 13/75
59/59 - 10s - loss: 0.1341 - accuracy: 0.8545 - val_loss: 0.2044 - val_accuracy: 0.8085 - lr: 0.0010 - 10s/epoch - 171ms/step
Epoch 14/75
59/59 - 10s - loss: 0.1361 - accuracy: 0.8527 - val_loss: 0.2120 - val_accuracy: 0.7932 - lr: 0.0010 - 10s/epoch - 170ms/step
Epoch 15/75
59/59 - 10s - loss: 0.1323 - accuracy: 0.8572 - val_loss: 0.2186 - val_accuracy: 0.7914 - lr: 0.0010 - 10s/epoch - 168ms/step
Epoch 16/75
59/59 - 10s - loss: 0.1339 - accuracy: 0.8560 - val_loss: 0.2139 - val_accuracy: 0.8020 - lr: 0.0010 - 10s/epoch - 170ms/step
Epoch 17/75
59/59 - 10s - loss: 0.1337 - accuracy: 0.8562 - val_loss: 0.2152 - val_accuracy: 0.7905 - lr: 0.0010 - 10s/epoch - 169ms/step
Epoch 18/75
59/59 - 10s - loss: 0.1330 - accuracy: 0.8551 - val_loss: 0.2143 - val_accuracy: 0.7927 - lr: 0.0010 - 10s/epoch - 169ms/step
Epoch 19/75
59/59 - 10s - loss: 0.1343 - accuracy: 0.8554 - val_loss: 0.1998 - val_accuracy: 0.8172 - lr: 0.0010 - 10s/epoch - 169ms/step
Epoch 20/75
59/59 - 10s - loss: 0.1328 - accuracy: 0.8574 - val_loss: 0.2109 - val_accuracy: 0.7985 - lr: 0.0010 - 10s/epoch - 168ms/step
Epoch 21/75
59/59 - 10s - loss: 0.1332 - accuracy: 0.8559 - val_loss: 0.2182 - val_accuracy: 0.7974 - lr: 0.0010 - 10s/epoch - 169ms/step
Epoch 22/75
59/59 - 10s - loss: 0.1338 - accuracy: 0.8556 - val_loss: 0.2168 - val_accuracy: 0.8041 - lr: 0.0010 - 10s/epoch - 168ms/step
Epoch 23/75
59/59 - 10s - loss: 0.1315 - accuracy: 0.8589 - val_loss: 0.1950 - val_accuracy: 0.8157 - lr: 0.0010 - 10s/epoch - 170ms/step
Epoch 24/75
59/59 - 10s - loss: 0.1317 - accuracy: 0.8561 - val_loss: 0.2350 - val_accuracy: 0.7808 - lr: 0.0010 - 10s/epoch - 170ms/step
Epoch 25/75
59/59 - 10s - loss: 0.1339 - accuracy: 0.8560 - val_loss: 0.2231 - val_accuracy: 0.7873 - lr: 0.0010 - 10s/epoch - 168ms/step
Epoch 26/75
59/59 - 10s - loss: 0.1328 - accuracy: 0.8565 - val_loss: 0.2091 - val_accuracy: 0.8075 - lr: 0.0010 - 10s/epoch - 171ms/step
Epoch 27/75
59/59 - 10s - loss: 0.1311 - accuracy: 0.8585 - val_loss: 0.2031 - val_accuracy: 0.8150 - lr: 0.0010 - 10s/epoch - 170ms/step
Epoch 28/75
59/59 - 10s - loss: 0.1343 - accuracy: 0.8552 - val_loss: 0.2068 - val_accuracy: 0.8073 - lr: 0.0010 - 10s/epoch - 170ms/step
Epoch 29/75
59/59 - 10s - loss: 0.1325 - accuracy: 0.8577 - val_loss: 0.2161 - val_accuracy: 0.7942 - lr: 0.0010 - 10s/epoch - 170ms/step
Epoch 30/75
59/59 - 10s - loss: 0.1310 - accuracy: 0.8592 - val_loss: 0.2131 - val_accuracy: 0.8042 - lr: 0.0010 - 10s/epoch - 169ms/step
Epoch 31/75
59/59 - 10s - loss: 0.1321 - accuracy: 0.8568 - val_loss: 0.2285 - val_accuracy: 0.7865 - lr: 0.0010 - 10s/epoch - 169ms/step
Epoch 32/75
59/59 - 10s - loss: 0.1307 - accuracy: 0.8601 - val_loss: 0.2050 - val_accuracy: 0.8066 - lr: 0.0010 - 10s/epoch - 170ms/step
Epoch 33/75
59/59 - 10s - loss: 0.1314 - accuracy: 0.8584 - val_loss: 0.2211 - val_accuracy: 0.7897 - lr: 0.0010 - 10s/epoch - 169ms/step
Epoch 34/75
59/59 - 10s - loss: 0.1287 - accuracy: 0.8615 - val_loss: 0.2164 - val_accuracy: 0.7953 - lr: 0.0010 - 10s/epoch - 170ms/step
Epoch 35/75
59/59 - 10s - loss: 0.1325 - accuracy: 0.8575 - val_loss: 0.2192 - val_accuracy: 0.8004 - lr: 0.0010 - 10s/epoch - 171ms/step
Epoch 36/75
59/59 - 10s - loss: 0.1301 - accuracy: 0.8596 - val_loss: 0.2110 - val_accuracy: 0.8074 - lr: 0.0010 - 10s/epoch - 169ms/step
Epoch 37/75
59/59 - 10s - loss: 0.1312 - accuracy: 0.8582 - val_loss: 0.2186 - val_accuracy: 0.8003 - lr: 0.0010 - 10s/epoch - 170ms/step
Epoch 38/75
59/59 - 10s - loss: 0.1309 - accuracy: 0.8590 - val_loss: 0.2148 - val_accuracy: 0.7973 - lr: 0.0010 - 10s/epoch - 169ms/step
Epoch 39/75
59/59 - 10s - loss: 0.1317 - accuracy: 0.8592 - val_loss: 0.2086 - val_accuracy: 0.8047 - lr: 0.0010 - 10s/epoch - 170ms/step
Epoch 40/75
59/59 - 10s - loss: 0.1303 - accuracy: 0.8596 - val_loss: 0.2067 - val_accuracy: 0.8144 - lr: 0.0010 - 10s/epoch - 170ms/step
Epoch 41/75
59/59 - 10s - loss: 0.1307 - accuracy: 0.8589 - val_loss: 0.2004 - val_accuracy: 0.8126 - lr: 0.0010 - 10s/epoch - 170ms/step
Epoch 42/75
59/59 - 10s - loss: 0.1314 - accuracy: 0.8581 - val_loss: 0.2216 - val_accuracy: 0.7923 - lr: 0.0010 - 10s/epoch - 169ms/step
Epoch 43/75
59/59 - 10s - loss: 0.1289 - accuracy: 0.8615 - val_loss: 0.2028 - val_accuracy: 0.8151 - lr: 0.0010 - 10s/epoch - 170ms/step
Epoch 44/75
59/59 - 10s - loss: 0.1297 - accuracy: 0.8602 - val_loss: 0.2052 - val_accuracy: 0.8114 - lr: 0.0010 - 10s/epoch - 169ms/step
Epoch 45/75
59/59 - 10s - loss: 0.1275 - accuracy: 0.8628 - val_loss: 0.2264 - val_accuracy: 0.7911 - lr: 0.0010 - 10s/epoch - 168ms/step
Epoch 46/75
59/59 - 10s - loss: 0.1292 - accuracy: 0.8603 - val_loss: 0.2043 - val_accuracy: 0.8177 - lr: 0.0010 - 10s/epoch - 170ms/step
Epoch 47/75
59/59 - 10s - loss: 0.1280 - accuracy: 0.8617 - val_loss: 0.2108 - val_accuracy: 0.8137 - lr: 0.0010 - 10s/epoch - 170ms/step
Epoch 48/75
59/59 - 10s - loss: 0.1292 - accuracy: 0.8611 - val_loss: 0.2200 - val_accuracy: 0.7961 - lr: 0.0010 - 10s/epoch - 170ms/step
Epoch 49/75
59/59 - 10s - loss: 0.1308 - accuracy: 0.8589 - val_loss: 0.1985 - val_accuracy: 0.8185 - lr: 0.0010 - 10s/epoch - 169ms/step
Epoch 50/75
59/59 - 10s - loss: 0.1277 - accuracy: 0.8623 - val_loss: 0.2065 - val_accuracy: 0.8150 - lr: 0.0010 - 10s/epoch - 169ms/step
Epoch 51/75
59/59 - 10s - loss: 0.1294 - accuracy: 0.8608 - val_loss: 0.2246 - val_accuracy: 0.7970 - lr: 0.0010 - 10s/epoch - 169ms/step
Epoch 52/75
59/59 - 10s - loss: 0.1271 - accuracy: 0.8627 - val_loss: 0.1960 - val_accuracy: 0.8219 - lr: 0.0010 - 10s/epoch - 170ms/step
Epoch 53/75
59/59 - 10s - loss: 0.1324 - accuracy: 0.8580 - val_loss: 0.2160 - val_accuracy: 0.8024 - lr: 0.0010 - 10s/epoch - 170ms/step
Epoch 54/75
59/59 - 10s - loss: 0.1264 - accuracy: 0.8638 - val_loss: 0.2237 - val_accuracy: 0.8036 - lr: 0.0010 - 10s/epoch - 169ms/step
Epoch 55/75
59/59 - 10s - loss: 0.1301 - accuracy: 0.8600 - val_loss: 0.2163 - val_accuracy: 0.8040 - lr: 0.0010 - 10s/epoch - 169ms/step
Epoch 56/75
59/59 - 10s - loss: 0.1264 - accuracy: 0.8630 - val_loss: 0.2069 - val_accuracy: 0.8124 - lr: 0.0010 - 10s/epoch - 170ms/step
Epoch 57/75
59/59 - 10s - loss: 0.1264 - accuracy: 0.8629 - val_loss: 0.2135 - val_accuracy: 0.8073 - lr: 0.0010 - 10s/epoch - 170ms/step
Epoch 58/75
59/59 - 10s - loss: 0.1298 - accuracy: 0.8603 - val_loss: 0.2238 - val_accuracy: 0.7977 - lr: 0.0010 - 10s/epoch - 169ms/step
Epoch 59/75
59/59 - 10s - loss: 0.1255 - accuracy: 0.8654 - val_loss: 0.1978 - val_accuracy: 0.8264 - lr: 0.0010 - 10s/epoch - 170ms/step
Epoch 60/75
59/59 - 10s - loss: 0.1305 - accuracy: 0.8595 - val_loss: 0.2120 - val_accuracy: 0.8073 - lr: 0.0010 - 10s/epoch - 169ms/step
Epoch 61/75
59/59 - 10s - loss: 0.1268 - accuracy: 0.8626 - val_loss: 0.1951 - val_accuracy: 0.8234 - lr: 0.0010 - 10s/epoch - 169ms/step
Epoch 62/75
59/59 - 10s - loss: 0.1294 - accuracy: 0.8596 - val_loss: 0.2336 - val_accuracy: 0.7911 - lr: 0.0010 - 10s/epoch - 169ms/step
Epoch 63/75
59/59 - 10s - loss: 0.1283 - accuracy: 0.8612 - val_loss: 0.2088 - val_accuracy: 0.8096 - lr: 0.0010 - 10s/epoch - 169ms/step
Epoch 64/75
59/59 - 10s - loss: 0.1224 - accuracy: 0.8680 - val_loss: 0.2071 - val_accuracy: 0.8126 - lr: 0.0010 - 10s/epoch - 169ms/step
Epoch 65/75
59/59 - 10s - loss: 0.1291 - accuracy: 0.8611 - val_loss: 0.2156 - val_accuracy: 0.8029 - lr: 0.0010 - 10s/epoch - 171ms/step
Epoch 66/75
59/59 - 10s - loss: 0.1253 - accuracy: 0.8650 - val_loss: 0.2303 - val_accuracy: 0.7921 - lr: 0.0010 - 10s/epoch - 168ms/step
Epoch 67/75
59/59 - 10s - loss: 0.1272 - accuracy: 0.8624 - val_loss: 0.2222 - val_accuracy: 0.7910 - lr: 0.0010 - 10s/epoch - 169ms/step
Epoch 68/75
59/59 - 10s - loss: 0.1267 - accuracy: 0.8638 - val_loss: 0.2262 - val_accuracy: 0.8000 - lr: 0.0010 - 10s/epoch - 169ms/step
Epoch 69/75
59/59 - 10s - loss: 0.1254 - accuracy: 0.8646 - val_loss: 0.2019 - val_accuracy: 0.8146 - lr: 0.0010 - 10s/epoch - 170ms/step
Epoch 70/75
59/59 - 10s - loss: 0.1244 - accuracy: 0.8657 - val_loss: 0.2155 - val_accuracy: 0.8028 - lr: 0.0010 - 10s/epoch - 169ms/step
Epoch 71/75
59/59 - 10s - loss: 0.1264 - accuracy: 0.8639 - val_loss: 0.2000 - val_accuracy: 0.8177 - lr: 0.0010 - 10s/epoch - 169ms/step
Epoch 72/75
59/59 - 10s - loss: 0.1246 - accuracy: 0.8644 - val_loss: 0.2210 - val_accuracy: 0.8030 - lr: 0.0010 - 10s/epoch - 170ms/step
Epoch 73/75
59/59 - 10s - loss: 0.1264 - accuracy: 0.8644 - val_loss: 0.2262 - val_accuracy: 0.7897 - lr: 0.0010 - 10s/epoch - 171ms/step
Epoch 74/75
59/59 - 10s - loss: 0.1272 - accuracy: 0.8633 - val_loss: 0.2089 - val_accuracy: 0.8120 - lr: 0.0010 - 10s/epoch - 170ms/step
Epoch 75/75
59/59 - 10s - loss: 0.1233 - accuracy: 0.8668 - val_loss: 0.2117 - val_accuracy: 0.8098 - lr: 0.0010 - 10s/epoch - 169ms/step
fitting with batch size: 2500
Epoch 1/75
36/36 - 13s - loss: 0.1180 - accuracy: 0.8731 - val_loss: 0.2093 - val_accuracy: 0.8135 - lr: 0.0010 - 13s/epoch - 363ms/step
Epoch 2/75
36/36 - 10s - loss: 0.1367 - accuracy: 0.8514 - val_loss: 0.2155 - val_accuracy: 0.8000 - lr: 0.0010 - 10s/epoch - 281ms/step
Epoch 3/75
36/36 - 10s - loss: 0.1324 - accuracy: 0.8564 - val_loss: 0.2136 - val_accuracy: 0.8007 - lr: 0.0010 - 10s/epoch - 281ms/step
Epoch 4/75
36/36 - 10s - loss: 0.1207 - accuracy: 0.8698 - val_loss: 0.1994 - val_accuracy: 0.8261 - lr: 0.0010 - 10s/epoch - 281ms/step
Epoch 5/75
36/36 - 10s - loss: 0.1208 - accuracy: 0.8709 - val_loss: 0.2175 - val_accuracy: 0.8075 - lr: 0.0010 - 10s/epoch - 281ms/step
Epoch 6/75
36/36 - 10s - loss: 0.1237 - accuracy: 0.8660 - val_loss: 0.1962 - val_accuracy: 0.8282 - lr: 0.0010 - 10s/epoch - 280ms/step
Epoch 7/75
36/36 - 10s - loss: 0.1276 - accuracy: 0.8620 - val_loss: 0.2117 - val_accuracy: 0.8101 - lr: 0.0010 - 10s/epoch - 281ms/step
Epoch 8/75
36/36 - 10s - loss: 0.1211 - accuracy: 0.8693 - val_loss: 0.2196 - val_accuracy: 0.7976 - lr: 0.0010 - 10s/epoch - 282ms/step
Epoch 9/75
36/36 - 10s - loss: 0.1207 - accuracy: 0.8707 - val_loss: 0.2443 - val_accuracy: 0.7801 - lr: 0.0010 - 10s/epoch - 280ms/step
Epoch 10/75
36/36 - 10s - loss: 0.1262 - accuracy: 0.8644 - val_loss: 0.1946 - val_accuracy: 0.8343 - lr: 0.0010 - 10s/epoch - 279ms/step
Epoch 11/75
36/36 - 10s - loss: 0.1316 - accuracy: 0.8581 - val_loss: 0.2288 - val_accuracy: 0.8001 - lr: 0.0010 - 10s/epoch - 280ms/step
Epoch 12/75
36/36 - 10s - loss: 0.1347 - accuracy: 0.8556 - val_loss: 0.2258 - val_accuracy: 0.7916 - lr: 0.0010 - 10s/epoch - 282ms/step
Epoch 13/75
36/36 - 10s - loss: 0.1230 - accuracy: 0.8681 - val_loss: 0.2145 - val_accuracy: 0.8151 - lr: 0.0010 - 10s/epoch - 279ms/step
Epoch 14/75
36/36 - 10s - loss: 0.1197 - accuracy: 0.8718 - val_loss: 0.1921 - val_accuracy: 0.8293 - lr: 0.0010 - 10s/epoch - 282ms/step
Epoch 15/75
36/36 - 10s - loss: 0.1184 - accuracy: 0.8733 - val_loss: 0.1930 - val_accuracy: 0.8368 - lr: 0.0010 - 10s/epoch - 282ms/step
Epoch 16/75
36/36 - 10s - loss: 0.1417 - accuracy: 0.8478 - val_loss: 0.2102 - val_accuracy: 0.8062 - lr: 0.0010 - 10s/epoch - 282ms/step
Epoch 17/75
36/36 - 10s - loss: 0.1235 - accuracy: 0.8669 - val_loss: 0.2105 - val_accuracy: 0.8094 - lr: 0.0010 - 10s/epoch - 281ms/step
Epoch 18/75
36/36 - 10s - loss: 0.1213 - accuracy: 0.8693 - val_loss: 0.2322 - val_accuracy: 0.7904 - lr: 0.0010 - 10s/epoch - 282ms/step
Epoch 19/75
36/36 - 10s - loss: 0.1493 - accuracy: 0.8401 - val_loss: 0.2344 - val_accuracy: 0.7761 - lr: 0.0010 - 10s/epoch - 282ms/step
Epoch 20/75
36/36 - 10s - loss: 0.1323 - accuracy: 0.8570 - val_loss: 0.1696 - val_accuracy: 0.8446 - lr: 0.0010 - 10s/epoch - 279ms/step
Epoch 21/75
36/36 - 10s - loss: 0.1452 - accuracy: 0.8425 - val_loss: 0.2187 - val_accuracy: 0.7997 - lr: 0.0010 - 10s/epoch - 280ms/step
Epoch 22/75
36/36 - 10s - loss: 0.1294 - accuracy: 0.8617 - val_loss: 0.1864 - val_accuracy: 0.8372 - lr: 0.0010 - 10s/epoch - 281ms/step
Epoch 23/75
36/36 - 10s - loss: 0.1379 - accuracy: 0.8501 - val_loss: 0.2075 - val_accuracy: 0.8119 - lr: 0.0010 - 10s/epoch - 282ms/step
Epoch 24/75
36/36 - 10s - loss: 0.1227 - accuracy: 0.8686 - val_loss: 0.1986 - val_accuracy: 0.8233 - lr: 0.0010 - 10s/epoch - 282ms/step
Epoch 25/75
36/36 - 10s - loss: 0.1274 - accuracy: 0.8624 - val_loss: 0.1929 - val_accuracy: 0.8311 - lr: 0.0010 - 10s/epoch - 280ms/step
Epoch 26/75
36/36 - 10s - loss: 0.1316 - accuracy: 0.8562 - val_loss: 0.1962 - val_accuracy: 0.8201 - lr: 0.0010 - 10s/epoch - 283ms/step
Epoch 27/75
36/36 - 10s - loss: 0.1304 - accuracy: 0.8596 - val_loss: 0.2109 - val_accuracy: 0.8129 - lr: 0.0010 - 10s/epoch - 283ms/step
Epoch 28/75
36/36 - 10s - loss: 0.1245 - accuracy: 0.8667 - val_loss: 0.2122 - val_accuracy: 0.8122 - lr: 0.0010 - 10s/epoch - 281ms/step
Epoch 29/75
36/36 - 10s - loss: 0.1253 - accuracy: 0.8652 - val_loss: 0.2093 - val_accuracy: 0.8194 - lr: 0.0010 - 10s/epoch - 282ms/step
Epoch 30/75
36/36 - 10s - loss: 0.1261 - accuracy: 0.8644 - val_loss: 0.2496 - val_accuracy: 0.7764 - lr: 0.0010 - 10s/epoch - 281ms/step
Epoch 31/75
36/36 - 10s - loss: 0.1417 - accuracy: 0.8478 - val_loss: 0.1974 - val_accuracy: 0.8215 - lr: 0.0010 - 10s/epoch - 281ms/step
Epoch 32/75
36/36 - 10s - loss: 0.1272 - accuracy: 0.8634 - val_loss: 0.2302 - val_accuracy: 0.7864 - lr: 0.0010 - 10s/epoch - 281ms/step
Epoch 33/75
36/36 - 10s - loss: 0.1471 - accuracy: 0.8413 - val_loss: 0.2251 - val_accuracy: 0.7905 - lr: 0.0010 - 10s/epoch - 281ms/step
Epoch 34/75
36/36 - 10s - loss: 0.1258 - accuracy: 0.8643 - val_loss: 0.2096 - val_accuracy: 0.8155 - lr: 0.0010 - 10s/epoch - 281ms/step
Epoch 35/75
36/36 - 10s - loss: 0.1210 - accuracy: 0.8707 - val_loss: 0.2166 - val_accuracy: 0.8075 - lr: 0.0010 - 10s/epoch - 283ms/step
Epoch 36/75
36/36 - 10s - loss: 0.1374 - accuracy: 0.8528 - val_loss: 0.2098 - val_accuracy: 0.8116 - lr: 0.0010 - 10s/epoch - 281ms/step
Epoch 37/75
36/36 - 10s - loss: 0.1232 - accuracy: 0.8678 - val_loss: 0.1977 - val_accuracy: 0.8207 - lr: 0.0010 - 10s/epoch - 282ms/step
Epoch 38/75
36/36 - 10s - loss: 0.1207 - accuracy: 0.8698 - val_loss: 0.2189 - val_accuracy: 0.7957 - lr: 0.0010 - 10s/epoch - 280ms/step
Epoch 39/75
36/36 - 10s - loss: 0.1218 - accuracy: 0.8692 - val_loss: 0.2024 - val_accuracy: 0.8190 - lr: 0.0010 - 10s/epoch - 281ms/step
Epoch 40/75
36/36 - 10s - loss: 0.1557 - accuracy: 0.8320 - val_loss: 0.1822 - val_accuracy: 0.8292 - lr: 0.0010 - 10s/epoch - 283ms/step
Epoch 41/75
36/36 - 10s - loss: 0.1470 - accuracy: 0.8417 - val_loss: 0.2105 - val_accuracy: 0.8054 - lr: 0.0010 - 10s/epoch - 281ms/step
Epoch 42/75
36/36 - 10s - loss: 0.1154 - accuracy: 0.8765 - val_loss: 0.2114 - val_accuracy: 0.8154 - lr: 0.0010 - 10s/epoch - 283ms/step
Epoch 43/75
36/36 - 10s - loss: 0.1425 - accuracy: 0.8470 - val_loss: 0.1884 - val_accuracy: 0.8268 - lr: 0.0010 - 10s/epoch - 282ms/step
Epoch 44/75
36/36 - 10s - loss: 0.1240 - accuracy: 0.8671 - val_loss: 0.2101 - val_accuracy: 0.8102 - lr: 0.0010 - 10s/epoch - 281ms/step
Epoch 45/75
36/36 - 10s - loss: 0.1220 - accuracy: 0.8696 - val_loss: 0.2203 - val_accuracy: 0.8013 - lr: 0.0010 - 10s/epoch - 282ms/step
Epoch 46/75
36/36 - 10s - loss: 0.1329 - accuracy: 0.8564 - val_loss: 0.1978 - val_accuracy: 0.8225 - lr: 0.0010 - 10s/epoch - 282ms/step
Epoch 47/75
36/36 - 10s - loss: 0.1351 - accuracy: 0.8551 - val_loss: 0.2059 - val_accuracy: 0.8161 - lr: 0.0010 - 10s/epoch - 282ms/step
Epoch 48/75
36/36 - 10s - loss: 0.1271 - accuracy: 0.8631 - val_loss: 0.2051 - val_accuracy: 0.8166 - lr: 0.0010 - 10s/epoch - 282ms/step
Epoch 49/75
36/36 - 10s - loss: 0.1206 - accuracy: 0.8709 - val_loss: 0.2330 - val_accuracy: 0.7855 - lr: 0.0010 - 10s/epoch - 280ms/step
Epoch 50/75
36/36 - 10s - loss: 0.1332 - accuracy: 0.8564 - val_loss: 0.2161 - val_accuracy: 0.8025 - lr: 0.0010 - 10s/epoch - 281ms/step
Epoch 51/75
36/36 - 10s - loss: 0.1151 - accuracy: 0.8772 - val_loss: 0.2134 - val_accuracy: 0.8078 - lr: 0.0010 - 10s/epoch - 282ms/step
Epoch 52/75
36/36 - 10s - loss: 0.1394 - accuracy: 0.8504 - val_loss: 0.1961 - val_accuracy: 0.8293 - lr: 0.0010 - 10s/epoch - 282ms/step
Epoch 53/75
36/36 - 10s - loss: 0.1317 - accuracy: 0.8573 - val_loss: 0.2050 - val_accuracy: 0.8118 - lr: 0.0010 - 10s/epoch - 280ms/step
Epoch 54/75
36/36 - 10s - loss: 0.1206 - accuracy: 0.8705 - val_loss: 0.2145 - val_accuracy: 0.8089 - lr: 0.0010 - 10s/epoch - 280ms/step
Epoch 55/75
36/36 - 10s - loss: 0.1214 - accuracy: 0.8697 - val_loss: 0.2024 - val_accuracy: 0.8240 - lr: 0.0010 - 10s/epoch - 282ms/step
Epoch 56/75
36/36 - 10s - loss: 0.1224 - accuracy: 0.8674 - val_loss: 0.2252 - val_accuracy: 0.8038 - lr: 0.0010 - 10s/epoch - 281ms/step
Epoch 57/75
36/36 - 10s - loss: 0.1197 - accuracy: 0.8724 - val_loss: 0.2275 - val_accuracy: 0.8004 - lr: 0.0010 - 10s/epoch - 284ms/step
Epoch 58/75
36/36 - 10s - loss: 0.1247 - accuracy: 0.8667 - val_loss: 0.2007 - val_accuracy: 0.8232 - lr: 0.0010 - 10s/epoch - 281ms/step
Epoch 59/75
36/36 - 10s - loss: 0.1163 - accuracy: 0.8761 - val_loss: 0.1845 - val_accuracy: 0.8400 - lr: 0.0010 - 10s/epoch - 279ms/step
Epoch 60/75
36/36 - 10s - loss: 0.1284 - accuracy: 0.8617 - val_loss: 0.2173 - val_accuracy: 0.8132 - lr: 0.0010 - 10s/epoch - 282ms/step
Epoch 61/75
36/36 - 10s - loss: 0.1522 - accuracy: 0.8363 - val_loss: 0.2594 - val_accuracy: 0.7535 - lr: 0.0010 - 10s/epoch - 280ms/step
Epoch 62/75
36/36 - 10s - loss: 0.1581 - accuracy: 0.8298 - val_loss: 0.2064 - val_accuracy: 0.8109 - lr: 0.0010 - 10s/epoch - 281ms/step
Epoch 63/75
36/36 - 10s - loss: 0.1242 - accuracy: 0.8677 - val_loss: 0.2169 - val_accuracy: 0.8069 - lr: 0.0010 - 10s/epoch - 282ms/step
Epoch 64/75
36/36 - 10s - loss: 0.1360 - accuracy: 0.8521 - val_loss: 0.1890 - val_accuracy: 0.8349 - lr: 0.0010 - 10s/epoch - 281ms/step
Epoch 65/75
36/36 - 10s - loss: 0.1223 - accuracy: 0.8690 - val_loss: 0.2094 - val_accuracy: 0.8096 - lr: 0.0010 - 10s/epoch - 281ms/step
Epoch 66/75
36/36 - 10s - loss: 0.1236 - accuracy: 0.8663 - val_loss: 0.1967 - val_accuracy: 0.8210 - lr: 0.0010 - 10s/epoch - 280ms/step
Epoch 67/75
36/36 - 10s - loss: 0.1198 - accuracy: 0.8717 - val_loss: 0.2258 - val_accuracy: 0.7963 - lr: 0.0010 - 10s/epoch - 281ms/step
Epoch 68/75
36/36 - 10s - loss: 0.1328 - accuracy: 0.8578 - val_loss: 0.2156 - val_accuracy: 0.8093 - lr: 0.0010 - 10s/epoch - 281ms/step
Epoch 69/75
36/36 - 10s - loss: 0.1442 - accuracy: 0.8445 - val_loss: 0.2035 - val_accuracy: 0.8149 - lr: 0.0010 - 10s/epoch - 282ms/step
Epoch 70/75
36/36 - 10s - loss: 0.1195 - accuracy: 0.8713 - val_loss: 0.1875 - val_accuracy: 0.8333 - lr: 0.0010 - 10s/epoch - 282ms/step
Epoch 71/75
36/36 - 10s - loss: 0.1206 - accuracy: 0.8706 - val_loss: 0.2205 - val_accuracy: 0.8009 - lr: 0.0010 - 10s/epoch - 281ms/step
Epoch 72/75
36/36 - 10s - loss: 0.1202 - accuracy: 0.8716 - val_loss: 0.2029 - val_accuracy: 0.8256 - lr: 0.0010 - 10s/epoch - 281ms/step
Epoch 73/75
36/36 - 10s - loss: 0.1237 - accuracy: 0.8669 - val_loss: 0.2315 - val_accuracy: 0.7875 - lr: 0.0010 - 10s/epoch - 281ms/step
Epoch 74/75
36/36 - 10s - loss: 0.1249 - accuracy: 0.8662 - val_loss: 0.1774 - val_accuracy: 0.8410 - lr: 0.0010 - 10s/epoch - 281ms/step
Epoch 75/75
36/36 - 10s - loss: 0.1274 - accuracy: 0.8628 - val_loss: 0.2281 - val_accuracy: 0.7892 - lr: 0.0010 - 10s/epoch - 281ms/step
Epoch number: 100
fitting with batch size: 1500
Epoch 1/100
59/59 - 13s - loss: 0.1215 - accuracy: 0.8690 - val_loss: 0.2223 - val_accuracy: 0.7962 - lr: 0.0010 - 13s/epoch - 217ms/step
Epoch 2/100
59/59 - 10s - loss: 0.1256 - accuracy: 0.8648 - val_loss: 0.2093 - val_accuracy: 0.8136 - lr: 0.0010 - 10s/epoch - 169ms/step
Epoch 3/100
59/59 - 10s - loss: 0.1236 - accuracy: 0.8672 - val_loss: 0.2163 - val_accuracy: 0.7971 - lr: 0.0010 - 10s/epoch - 170ms/step
Epoch 4/100
59/59 - 10s - loss: 0.1218 - accuracy: 0.8687 - val_loss: 0.2123 - val_accuracy: 0.8085 - lr: 0.0010 - 10s/epoch - 168ms/step
Epoch 5/100
59/59 - 10s - loss: 0.1221 - accuracy: 0.8684 - val_loss: 0.2034 - val_accuracy: 0.8133 - lr: 0.0010 - 10s/epoch - 169ms/step
Epoch 6/100
59/59 - 10s - loss: 0.1225 - accuracy: 0.8688 - val_loss: 0.2027 - val_accuracy: 0.8100 - lr: 0.0010 - 10s/epoch - 169ms/step
Epoch 7/100
59/59 - 10s - loss: 0.1230 - accuracy: 0.8678 - val_loss: 0.2054 - val_accuracy: 0.8140 - lr: 0.0010 - 10s/epoch - 169ms/step
Epoch 8/100
59/59 - 10s - loss: 0.1216 - accuracy: 0.8697 - val_loss: 0.2153 - val_accuracy: 0.8054 - lr: 0.0010 - 10s/epoch - 170ms/step
Epoch 9/100
59/59 - 10s - loss: 0.1197 - accuracy: 0.8715 - val_loss: 0.1976 - val_accuracy: 0.8247 - lr: 0.0010 - 10s/epoch - 168ms/step
Epoch 10/100
59/59 - 10s - loss: 0.1218 - accuracy: 0.8687 - val_loss: 0.2304 - val_accuracy: 0.7872 - lr: 0.0010 - 10s/epoch - 169ms/step
Epoch 11/100
59/59 - 10s - loss: 0.1221 - accuracy: 0.8694 - val_loss: 0.2176 - val_accuracy: 0.8103 - lr: 0.0010 - 10s/epoch - 169ms/step
Epoch 12/100
59/59 - 10s - loss: 0.1191 - accuracy: 0.8721 - val_loss: 0.1999 - val_accuracy: 0.8176 - lr: 0.0010 - 10s/epoch - 169ms/step
Epoch 13/100
59/59 - 10s - loss: 0.1187 - accuracy: 0.8730 - val_loss: 0.2232 - val_accuracy: 0.7905 - lr: 0.0010 - 10s/epoch - 168ms/step
Epoch 14/100
59/59 - 10s - loss: 0.1235 - accuracy: 0.8669 - val_loss: 0.2157 - val_accuracy: 0.8039 - lr: 0.0010 - 10s/epoch - 168ms/step
Epoch 15/100
59/59 - 10s - loss: 0.1240 - accuracy: 0.8667 - val_loss: 0.2132 - val_accuracy: 0.8054 - lr: 0.0010 - 10s/epoch - 169ms/step
Epoch 16/100
59/59 - 10s - loss: 0.1183 - accuracy: 0.8711 - val_loss: 0.2068 - val_accuracy: 0.8115 - lr: 0.0010 - 10s/epoch - 169ms/step
Epoch 17/100
59/59 - 10s - loss: 0.1197 - accuracy: 0.8716 - val_loss: 0.2144 - val_accuracy: 0.8105 - lr: 0.0010 - 10s/epoch - 169ms/step
Epoch 18/100
59/59 - 10s - loss: 0.1184 - accuracy: 0.8735 - val_loss: 0.2116 - val_accuracy: 0.8101 - lr: 0.0010 - 10s/epoch - 169ms/step
Epoch 19/100
59/59 - 10s - loss: 0.1167 - accuracy: 0.8750 - val_loss: 0.2150 - val_accuracy: 0.8053 - lr: 0.0010 - 10s/epoch - 169ms/step
Epoch 20/100
59/59 - 10s - loss: 0.1194 - accuracy: 0.8713 - val_loss: 0.2157 - val_accuracy: 0.8066 - lr: 0.0010 - 10s/epoch - 169ms/step
Epoch 21/100
59/59 - 10s - loss: 0.1212 - accuracy: 0.8699 - val_loss: 0.1944 - val_accuracy: 0.8296 - lr: 0.0010 - 10s/epoch - 169ms/step
Epoch 22/100
59/59 - 10s - loss: 0.1208 - accuracy: 0.8704 - val_loss: 0.2064 - val_accuracy: 0.8131 - lr: 0.0010 - 10s/epoch - 169ms/step
Epoch 23/100
59/59 - 10s - loss: 0.1189 - accuracy: 0.8717 - val_loss: 0.2265 - val_accuracy: 0.7981 - lr: 0.0010 - 10s/epoch - 169ms/step
Epoch 24/100
59/59 - 10s - loss: 0.1190 - accuracy: 0.8715 - val_loss: 0.2021 - val_accuracy: 0.8225 - lr: 0.0010 - 10s/epoch - 168ms/step
Epoch 25/100
59/59 - 10s - loss: 0.1193 - accuracy: 0.8726 - val_loss: 0.2169 - val_accuracy: 0.8034 - lr: 0.0010 - 10s/epoch - 168ms/step
Epoch 26/100
59/59 - 10s - loss: 0.1218 - accuracy: 0.8695 - val_loss: 0.2037 - val_accuracy: 0.8188 - lr: 0.0010 - 10s/epoch - 169ms/step
Epoch 27/100
59/59 - 10s - loss: 0.1190 - accuracy: 0.8723 - val_loss: 0.2006 - val_accuracy: 0.8155 - lr: 0.0010 - 10s/epoch - 168ms/step
Epoch 28/100
59/59 - 10s - loss: 0.1189 - accuracy: 0.8726 - val_loss: 0.2031 - val_accuracy: 0.8185 - lr: 0.0010 - 10s/epoch - 169ms/step
Epoch 29/100
59/59 - 10s - loss: 0.1187 - accuracy: 0.8725 - val_loss: 0.2032 - val_accuracy: 0.8232 - lr: 0.0010 - 10s/epoch - 170ms/step
Epoch 30/100
59/59 - 10s - loss: 0.1188 - accuracy: 0.8724 - val_loss: 0.2269 - val_accuracy: 0.7897 - lr: 0.0010 - 10s/epoch - 169ms/step
Epoch 31/100
59/59 - 10s - loss: 0.1191 - accuracy: 0.8722 - val_loss: 0.2045 - val_accuracy: 0.8145 - lr: 0.0010 - 10s/epoch - 168ms/step
Epoch 32/100
59/59 - 10s - loss: 0.1194 - accuracy: 0.8719 - val_loss: 0.2111 - val_accuracy: 0.8102 - lr: 0.0010 - 10s/epoch - 168ms/step
Epoch 33/100
59/59 - 10s - loss: 0.1170 - accuracy: 0.8737 - val_loss: 0.2250 - val_accuracy: 0.7987 - lr: 0.0010 - 10s/epoch - 168ms/step
Epoch 34/100
59/59 - 10s - loss: 0.1179 - accuracy: 0.8742 - val_loss: 0.2429 - val_accuracy: 0.7759 - lr: 0.0010 - 10s/epoch - 169ms/step
Epoch 35/100
59/59 - 10s - loss: 0.1206 - accuracy: 0.8704 - val_loss: 0.2129 - val_accuracy: 0.8069 - lr: 0.0010 - 10s/epoch - 170ms/step
Epoch 36/100
59/59 - 10s - loss: 0.1211 - accuracy: 0.8694 - val_loss: 0.2093 - val_accuracy: 0.8150 - lr: 0.0010 - 10s/epoch - 169ms/step
Epoch 37/100
59/59 - 10s - loss: 0.1181 - accuracy: 0.8740 - val_loss: 0.2287 - val_accuracy: 0.8008 - lr: 0.0010 - 10s/epoch - 169ms/step
Epoch 38/100
59/59 - 10s - loss: 0.1204 - accuracy: 0.8707 - val_loss: 0.2087 - val_accuracy: 0.8119 - lr: 0.0010 - 10s/epoch - 170ms/step
Epoch 39/100
59/59 - 10s - loss: 0.1193 - accuracy: 0.8712 - val_loss: 0.2313 - val_accuracy: 0.7934 - lr: 0.0010 - 10s/epoch - 169ms/step
Epoch 40/100
59/59 - 10s - loss: 0.1161 - accuracy: 0.8761 - val_loss: 0.2017 - val_accuracy: 0.8218 - lr: 0.0010 - 10s/epoch - 170ms/step
Epoch 41/100
59/59 - 10s - loss: 0.1156 - accuracy: 0.8764 - val_loss: 0.2120 - val_accuracy: 0.8071 - lr: 0.0010 - 10s/epoch - 169ms/step
Epoch 42/100
59/59 - 10s - loss: 0.1189 - accuracy: 0.8724 - val_loss: 0.2128 - val_accuracy: 0.8081 - lr: 0.0010 - 10s/epoch - 169ms/step
Epoch 43/100
59/59 - 10s - loss: 0.1191 - accuracy: 0.8729 - val_loss: 0.2279 - val_accuracy: 0.7944 - lr: 0.0010 - 10s/epoch - 168ms/step
Epoch 44/100
59/59 - 10s - loss: 0.1176 - accuracy: 0.8737 - val_loss: 0.2064 - val_accuracy: 0.8150 - lr: 0.0010 - 10s/epoch - 168ms/step
Epoch 45/100
59/59 - 10s - loss: 0.1165 - accuracy: 0.8746 - val_loss: 0.2136 - val_accuracy: 0.8130 - lr: 0.0010 - 10s/epoch - 168ms/step
Epoch 46/100
59/59 - 10s - loss: 0.1157 - accuracy: 0.8758 - val_loss: 0.2181 - val_accuracy: 0.8040 - lr: 0.0010 - 10s/epoch - 168ms/step
Epoch 47/100
59/59 - 10s - loss: 0.1170 - accuracy: 0.8741 - val_loss: 0.2041 - val_accuracy: 0.8150 - lr: 0.0010 - 10s/epoch - 170ms/step
Epoch 48/100
59/59 - 10s - loss: 0.1165 - accuracy: 0.8752 - val_loss: 0.2073 - val_accuracy: 0.8164 - lr: 0.0010 - 10s/epoch - 168ms/step
Epoch 49/100
59/59 - 10s - loss: 0.1176 - accuracy: 0.8740 - val_loss: 0.2335 - val_accuracy: 0.7875 - lr: 0.0010 - 10s/epoch - 169ms/step
Epoch 50/100
59/59 - 10s - loss: 0.1156 - accuracy: 0.8755 - val_loss: 0.2216 - val_accuracy: 0.7949 - lr: 0.0010 - 10s/epoch - 169ms/step
Epoch 51/100
59/59 - 10s - loss: 0.1150 - accuracy: 0.8771 - val_loss: 0.2266 - val_accuracy: 0.7886 - lr: 0.0010 - 10s/epoch - 171ms/step
Epoch 52/100
59/59 - 10s - loss: 0.1176 - accuracy: 0.8742 - val_loss: 0.2461 - val_accuracy: 0.7673 - lr: 0.0010 - 10s/epoch - 169ms/step
Epoch 53/100
59/59 - 10s - loss: 0.1151 - accuracy: 0.8758 - val_loss: 0.2186 - val_accuracy: 0.8033 - lr: 0.0010 - 10s/epoch - 168ms/step
Epoch 54/100
59/59 - 10s - loss: 0.1167 - accuracy: 0.8758 - val_loss: 0.2249 - val_accuracy: 0.8003 - lr: 0.0010 - 10s/epoch - 167ms/step
Epoch 55/100
59/59 - 10s - loss: 0.1176 - accuracy: 0.8749 - val_loss: 0.2233 - val_accuracy: 0.7939 - lr: 0.0010 - 10s/epoch - 168ms/step
Epoch 56/100
59/59 - 10s - loss: 0.1153 - accuracy: 0.8763 - val_loss: 0.2021 - val_accuracy: 0.8173 - lr: 0.0010 - 10s/epoch - 168ms/step
Epoch 57/100
59/59 - 10s - loss: 0.1169 - accuracy: 0.8742 - val_loss: 0.2008 - val_accuracy: 0.8210 - lr: 0.0010 - 10s/epoch - 167ms/step
Epoch 58/100
59/59 - 10s - loss: 0.1152 - accuracy: 0.8759 - val_loss: 0.2244 - val_accuracy: 0.7956 - lr: 0.0010 - 10s/epoch - 168ms/step
Epoch 59/100
59/59 - 10s - loss: 0.1199 - accuracy: 0.8707 - val_loss: 0.2174 - val_accuracy: 0.8003 - lr: 0.0010 - 10s/epoch - 168ms/step
Epoch 60/100
59/59 - 10s - loss: 0.1166 - accuracy: 0.8749 - val_loss: 0.2216 - val_accuracy: 0.7974 - lr: 0.0010 - 10s/epoch - 168ms/step
Epoch 61/100
59/59 - 10s - loss: 0.1154 - accuracy: 0.8770 - val_loss: 0.2045 - val_accuracy: 0.8130 - lr: 0.0010 - 10s/epoch - 168ms/step
Epoch 62/100
59/59 - 10s - loss: 0.1136 - accuracy: 0.8780 - val_loss: 0.2024 - val_accuracy: 0.8157 - lr: 0.0010 - 10s/epoch - 169ms/step
Epoch 63/100
59/59 - 10s - loss: 0.1171 - accuracy: 0.8746 - val_loss: 0.2100 - val_accuracy: 0.8095 - lr: 0.0010 - 10s/epoch - 168ms/step
Epoch 64/100
59/59 - 10s - loss: 0.1187 - accuracy: 0.8724 - val_loss: 0.2158 - val_accuracy: 0.8000 - lr: 0.0010 - 10s/epoch - 170ms/step
Epoch 65/100
59/59 - 10s - loss: 0.1158 - accuracy: 0.8756 - val_loss: 0.2025 - val_accuracy: 0.8171 - lr: 0.0010 - 10s/epoch - 167ms/step
Epoch 66/100
59/59 - 10s - loss: 0.1156 - accuracy: 0.8765 - val_loss: 0.2149 - val_accuracy: 0.8045 - lr: 0.0010 - 10s/epoch - 168ms/step
Epoch 67/100
59/59 - 10s - loss: 0.1129 - accuracy: 0.8775 - val_loss: 0.2162 - val_accuracy: 0.8042 - lr: 0.0010 - 10s/epoch - 168ms/step
Epoch 68/100
59/59 - 10s - loss: 0.1160 - accuracy: 0.8747 - val_loss: 0.1988 - val_accuracy: 0.8229 - lr: 0.0010 - 10s/epoch - 168ms/step
Epoch 69/100
59/59 - 10s - loss: 0.1148 - accuracy: 0.8764 - val_loss: 0.2157 - val_accuracy: 0.8097 - lr: 0.0010 - 10s/epoch - 167ms/step
Epoch 70/100
59/59 - 10s - loss: 0.1119 - accuracy: 0.8785 - val_loss: 0.2232 - val_accuracy: 0.7971 - lr: 0.0010 - 10s/epoch - 169ms/step
Epoch 71/100
59/59 - 10s - loss: 0.1161 - accuracy: 0.8765 - val_loss: 0.2091 - val_accuracy: 0.8144 - lr: 0.0010 - 10s/epoch - 169ms/step
Epoch 72/100
59/59 - 10s - loss: 0.1159 - accuracy: 0.8760 - val_loss: 0.1996 - val_accuracy: 0.8240 - lr: 0.0010 - 10s/epoch - 168ms/step
Epoch 73/100
59/59 - 10s - loss: 0.1125 - accuracy: 0.8799 - val_loss: 0.2177 - val_accuracy: 0.8103 - lr: 0.0010 - 10s/epoch - 169ms/step
Epoch 74/100
59/59 - 10s - loss: 0.1158 - accuracy: 0.8750 - val_loss: 0.2073 - val_accuracy: 0.8145 - lr: 0.0010 - 10s/epoch - 169ms/step
Epoch 75/100
59/59 - 10s - loss: 0.1152 - accuracy: 0.8768 - val_loss: 0.2019 - val_accuracy: 0.8200 - lr: 0.0010 - 10s/epoch - 169ms/step
Epoch 76/100
59/59 - 10s - loss: 0.1163 - accuracy: 0.8759 - val_loss: 0.2229 - val_accuracy: 0.8016 - lr: 0.0010 - 10s/epoch - 168ms/step
Epoch 77/100
59/59 - 10s - loss: 0.1160 - accuracy: 0.8758 - val_loss: 0.1766 - val_accuracy: 0.8452 - lr: 0.0010 - 10s/epoch - 168ms/step
Epoch 78/100
59/59 - 10s - loss: 0.1144 - accuracy: 0.8778 - val_loss: 0.2168 - val_accuracy: 0.8099 - lr: 0.0010 - 10s/epoch - 169ms/step
Epoch 79/100
59/59 - 10s - loss: 0.1160 - accuracy: 0.8756 - val_loss: 0.2093 - val_accuracy: 0.8147 - lr: 0.0010 - 10s/epoch - 168ms/step
Epoch 80/100
59/59 - 10s - loss: 0.1149 - accuracy: 0.8766 - val_loss: 0.2080 - val_accuracy: 0.8187 - lr: 0.0010 - 10s/epoch - 168ms/step
Epoch 81/100
59/59 - 10s - loss: 0.1163 - accuracy: 0.8752 - val_loss: 0.2081 - val_accuracy: 0.8139 - lr: 0.0010 - 10s/epoch - 167ms/step
Epoch 82/100
59/59 - 10s - loss: 0.1167 - accuracy: 0.8756 - val_loss: 0.2021 - val_accuracy: 0.8218 - lr: 0.0010 - 10s/epoch - 169ms/step
Epoch 83/100
59/59 - 10s - loss: 0.1135 - accuracy: 0.8797 - val_loss: 0.2042 - val_accuracy: 0.8139 - lr: 0.0010 - 10s/epoch - 168ms/step
Epoch 84/100
59/59 - 10s - loss: 0.1126 - accuracy: 0.8792 - val_loss: 0.2045 - val_accuracy: 0.8262 - lr: 0.0010 - 10s/epoch - 167ms/step
Epoch 85/100
59/59 - 10s - loss: 0.1142 - accuracy: 0.8777 - val_loss: 0.2167 - val_accuracy: 0.8049 - lr: 0.0010 - 10s/epoch - 167ms/step
Epoch 86/100
59/59 - 10s - loss: 0.1139 - accuracy: 0.8771 - val_loss: 0.2213 - val_accuracy: 0.7962 - lr: 0.0010 - 10s/epoch - 169ms/step
Epoch 87/100
59/59 - 10s - loss: 0.1126 - accuracy: 0.8792 - val_loss: 0.2184 - val_accuracy: 0.8052 - lr: 0.0010 - 10s/epoch - 169ms/step
Epoch 88/100
59/59 - 10s - loss: 0.1169 - accuracy: 0.8743 - val_loss: 0.2054 - val_accuracy: 0.8150 - lr: 0.0010 - 10s/epoch - 167ms/step
Epoch 89/100
59/59 - 10s - loss: 0.1115 - accuracy: 0.8807 - val_loss: 0.2116 - val_accuracy: 0.8071 - lr: 0.0010 - 10s/epoch - 168ms/step
Epoch 90/100
59/59 - 10s - loss: 0.1141 - accuracy: 0.8774 - val_loss: 0.1854 - val_accuracy: 0.8355 - lr: 0.0010 - 10s/epoch - 169ms/step
Epoch 91/100
59/59 - 10s - loss: 0.1147 - accuracy: 0.8770 - val_loss: 0.2224 - val_accuracy: 0.7952 - lr: 0.0010 - 10s/epoch - 170ms/step
Epoch 92/100
59/59 - 10s - loss: 0.1126 - accuracy: 0.8792 - val_loss: 0.2092 - val_accuracy: 0.8119 - lr: 0.0010 - 10s/epoch - 169ms/step
Epoch 93/100
59/59 - 10s - loss: 0.1186 - accuracy: 0.8735 - val_loss: 0.2047 - val_accuracy: 0.8129 - lr: 0.0010 - 10s/epoch - 167ms/step
Epoch 94/100
59/59 - 10s - loss: 0.1147 - accuracy: 0.8768 - val_loss: 0.2157 - val_accuracy: 0.8085 - lr: 0.0010 - 10s/epoch - 168ms/step
Epoch 95/100
59/59 - 10s - loss: 0.1119 - accuracy: 0.8811 - val_loss: 0.2040 - val_accuracy: 0.8171 - lr: 0.0010 - 10s/epoch - 168ms/step
Epoch 96/100
59/59 - 10s - loss: 0.1139 - accuracy: 0.8792 - val_loss: 0.2194 - val_accuracy: 0.8049 - lr: 0.0010 - 10s/epoch - 168ms/step
Epoch 97/100
59/59 - 10s - loss: 0.1116 - accuracy: 0.8816 - val_loss: 0.2168 - val_accuracy: 0.8052 - lr: 0.0010 - 10s/epoch - 169ms/step
Epoch 98/100
59/59 - 10s - loss: 0.1151 - accuracy: 0.8770 - val_loss: 0.2251 - val_accuracy: 0.7966 - lr: 0.0010 - 10s/epoch - 169ms/step
Epoch 99/100
59/59 - 10s - loss: 0.1154 - accuracy: 0.8764 - val_loss: 0.2041 - val_accuracy: 0.8121 - lr: 0.0010 - 10s/epoch - 168ms/step
Epoch 100/100
59/59 - 10s - loss: 0.1105 - accuracy: 0.8810 - val_loss: 0.2222 - val_accuracy: 0.8001 - lr: 0.0010 - 10s/epoch - 169ms/step
fitting with batch size: 2500
Epoch 1/100
36/36 - 14s - loss: 0.1054 - accuracy: 0.8877 - val_loss: 0.2083 - val_accuracy: 0.8128 - lr: 0.0010 - 14s/epoch - 383ms/step
Epoch 2/100
36/36 - 10s - loss: 0.1155 - accuracy: 0.8762 - val_loss: 0.2185 - val_accuracy: 0.8051 - lr: 0.0010 - 10s/epoch - 280ms/step
Epoch 3/100
36/36 - 10s - loss: 0.1043 - accuracy: 0.8888 - val_loss: 0.2200 - val_accuracy: 0.8048 - lr: 0.0010 - 10s/epoch - 281ms/step
Epoch 4/100
36/36 - 10s - loss: 0.1061 - accuracy: 0.8872 - val_loss: 0.2133 - val_accuracy: 0.8180 - lr: 0.0010 - 10s/epoch - 279ms/step
Epoch 5/100
36/36 - 10s - loss: 0.1262 - accuracy: 0.8647 - val_loss: 0.2037 - val_accuracy: 0.8083 - lr: 0.0010 - 10s/epoch - 281ms/step
Epoch 6/100
36/36 - 10s - loss: 0.1214 - accuracy: 0.8703 - val_loss: 0.2280 - val_accuracy: 0.7941 - lr: 0.0010 - 10s/epoch - 280ms/step
Epoch 7/100
36/36 - 10s - loss: 0.1238 - accuracy: 0.8683 - val_loss: 0.2137 - val_accuracy: 0.8089 - lr: 0.0010 - 10s/epoch - 280ms/step
Epoch 8/100
36/36 - 10s - loss: 0.1064 - accuracy: 0.8869 - val_loss: 0.2264 - val_accuracy: 0.7974 - lr: 0.0010 - 10s/epoch - 281ms/step
Epoch 9/100
36/36 - 10s - loss: 0.1157 - accuracy: 0.8763 - val_loss: 0.2146 - val_accuracy: 0.8006 - lr: 0.0010 - 10s/epoch - 279ms/step
Epoch 10/100
36/36 - 10s - loss: 0.1070 - accuracy: 0.8859 - val_loss: 0.2354 - val_accuracy: 0.7928 - lr: 0.0010 - 10s/epoch - 281ms/step
Epoch 11/100
36/36 - 10s - loss: 0.1291 - accuracy: 0.8617 - val_loss: 0.2188 - val_accuracy: 0.8036 - lr: 0.0010 - 10s/epoch - 279ms/step
Epoch 12/100
36/36 - 10s - loss: 0.1133 - accuracy: 0.8789 - val_loss: 0.2105 - val_accuracy: 0.8117 - lr: 0.0010 - 10s/epoch - 282ms/step
Epoch 13/100
36/36 - 10s - loss: 0.1050 - accuracy: 0.8883 - val_loss: 0.2141 - val_accuracy: 0.8172 - lr: 0.0010 - 10s/epoch - 281ms/step
Epoch 14/100
36/36 - 10s - loss: 0.1138 - accuracy: 0.8786 - val_loss: 0.2310 - val_accuracy: 0.7949 - lr: 0.0010 - 10s/epoch - 280ms/step
Epoch 15/100
36/36 - 10s - loss: 0.1060 - accuracy: 0.8867 - val_loss: 0.2090 - val_accuracy: 0.8198 - lr: 0.0010 - 10s/epoch - 280ms/step
Epoch 16/100
36/36 - 10s - loss: 0.1351 - accuracy: 0.8567 - val_loss: 0.2047 - val_accuracy: 0.8198 - lr: 0.0010 - 10s/epoch - 281ms/step
Epoch 17/100
36/36 - 10s - loss: 0.1229 - accuracy: 0.8668 - val_loss: 0.1944 - val_accuracy: 0.8261 - lr: 0.0010 - 10s/epoch - 279ms/step
Epoch 18/100
36/36 - 10s - loss: 0.1055 - accuracy: 0.8878 - val_loss: 0.2210 - val_accuracy: 0.8046 - lr: 0.0010 - 10s/epoch - 277ms/step
Epoch 19/100
36/36 - 10s - loss: 0.1056 - accuracy: 0.8866 - val_loss: 0.2163 - val_accuracy: 0.8116 - lr: 0.0010 - 10s/epoch - 279ms/step
Epoch 20/100
36/36 - 10s - loss: 0.1174 - accuracy: 0.8748 - val_loss: 0.2113 - val_accuracy: 0.8144 - lr: 0.0010 - 10s/epoch - 281ms/step
Epoch 21/100
36/36 - 10s - loss: 0.1331 - accuracy: 0.8574 - val_loss: 0.2317 - val_accuracy: 0.7876 - lr: 0.0010 - 10s/epoch - 280ms/step
Epoch 22/100
36/36 - 10s - loss: 0.1098 - accuracy: 0.8822 - val_loss: 0.2179 - val_accuracy: 0.8103 - lr: 0.0010 - 10s/epoch - 281ms/step
Epoch 23/100
36/36 - 10s - loss: 0.1415 - accuracy: 0.8502 - val_loss: 0.2028 - val_accuracy: 0.8140 - lr: 0.0010 - 10s/epoch - 281ms/step
Epoch 24/100
36/36 - 10s - loss: 0.1226 - accuracy: 0.8685 - val_loss: 0.1945 - val_accuracy: 0.8247 - lr: 0.0010 - 10s/epoch - 281ms/step
Epoch 25/100
36/36 - 10s - loss: 0.1282 - accuracy: 0.8616 - val_loss: 0.2111 - val_accuracy: 0.8027 - lr: 0.0010 - 10s/epoch - 280ms/step
Epoch 26/100
36/36 - 10s - loss: 0.1248 - accuracy: 0.8668 - val_loss: 0.2098 - val_accuracy: 0.8069 - lr: 0.0010 - 10s/epoch - 279ms/step
Epoch 27/100
36/36 - 10s - loss: 0.1048 - accuracy: 0.8888 - val_loss: 0.2130 - val_accuracy: 0.8112 - lr: 0.0010 - 10s/epoch - 280ms/step
Epoch 28/100
36/36 - 10s - loss: 0.1098 - accuracy: 0.8825 - val_loss: 0.2260 - val_accuracy: 0.8009 - lr: 0.0010 - 10s/epoch - 281ms/step
Epoch 29/100
36/36 - 10s - loss: 0.1090 - accuracy: 0.8829 - val_loss: 0.2061 - val_accuracy: 0.8153 - lr: 0.0010 - 10s/epoch - 278ms/step
Epoch 30/100
36/36 - 10s - loss: 0.1063 - accuracy: 0.8859 - val_loss: 0.2076 - val_accuracy: 0.8169 - lr: 0.0010 - 10s/epoch - 279ms/step
Epoch 31/100
36/36 - 10s - loss: 0.1034 - accuracy: 0.8899 - val_loss: 0.2190 - val_accuracy: 0.8076 - lr: 0.0010 - 10s/epoch - 279ms/step
Epoch 32/100
36/36 - 10s - loss: 0.1218 - accuracy: 0.8702 - val_loss: 0.2036 - val_accuracy: 0.8205 - lr: 0.0010 - 10s/epoch - 280ms/step
Epoch 33/100
36/36 - 10s - loss: 0.1137 - accuracy: 0.8771 - val_loss: 0.2149 - val_accuracy: 0.8094 - lr: 0.0010 - 10s/epoch - 280ms/step
Epoch 34/100
36/36 - 10s - loss: 0.1168 - accuracy: 0.8744 - val_loss: 0.2305 - val_accuracy: 0.7924 - lr: 0.0010 - 10s/epoch - 280ms/step
Epoch 35/100
36/36 - 10s - loss: 0.1439 - accuracy: 0.8437 - val_loss: 0.1946 - val_accuracy: 0.8167 - lr: 0.0010 - 10s/epoch - 282ms/step
Epoch 36/100
36/36 - 10s - loss: 0.1325 - accuracy: 0.8573 - val_loss: 0.2333 - val_accuracy: 0.7822 - lr: 0.0010 - 10s/epoch - 280ms/step
Epoch 37/100
36/36 - 10s - loss: 0.1181 - accuracy: 0.8730 - val_loss: 0.2091 - val_accuracy: 0.8075 - lr: 0.0010 - 10s/epoch - 280ms/step
Epoch 38/100
36/36 - 10s - loss: 0.1136 - accuracy: 0.8786 - val_loss: 0.1985 - val_accuracy: 0.8174 - lr: 0.0010 - 10s/epoch - 279ms/step
Epoch 39/100
36/36 - 10s - loss: 0.1124 - accuracy: 0.8803 - val_loss: 0.2120 - val_accuracy: 0.8057 - lr: 0.0010 - 10s/epoch - 279ms/step
Epoch 40/100
36/36 - 10s - loss: 0.1034 - accuracy: 0.8895 - val_loss: 0.2170 - val_accuracy: 0.8054 - lr: 0.0010 - 10s/epoch - 281ms/step
Epoch 41/100
36/36 - 10s - loss: 0.1328 - accuracy: 0.8574 - val_loss: 0.2145 - val_accuracy: 0.8004 - lr: 0.0010 - 10s/epoch - 281ms/step
Epoch 42/100
36/36 - 10s - loss: 0.1124 - accuracy: 0.8789 - val_loss: 0.2025 - val_accuracy: 0.8207 - lr: 0.0010 - 10s/epoch - 282ms/step
Epoch 43/100
36/36 - 10s - loss: 0.1032 - accuracy: 0.8904 - val_loss: 0.2123 - val_accuracy: 0.8112 - lr: 0.0010 - 10s/epoch - 281ms/step
Epoch 44/100
36/36 - 10s - loss: 0.1168 - accuracy: 0.8746 - val_loss: 0.1997 - val_accuracy: 0.8161 - lr: 0.0010 - 10s/epoch - 278ms/step
Epoch 45/100
36/36 - 10s - loss: 0.1161 - accuracy: 0.8756 - val_loss: 0.2157 - val_accuracy: 0.8043 - lr: 0.0010 - 10s/epoch - 278ms/step
Epoch 46/100
36/36 - 10s - loss: 0.1162 - accuracy: 0.8747 - val_loss: 0.2128 - val_accuracy: 0.8034 - lr: 0.0010 - 10s/epoch - 280ms/step
Epoch 47/100
36/36 - 10s - loss: 0.1058 - accuracy: 0.8865 - val_loss: 0.2331 - val_accuracy: 0.7923 - lr: 0.0010 - 10s/epoch - 280ms/step
Epoch 48/100
36/36 - 10s - loss: 0.1181 - accuracy: 0.8738 - val_loss: 0.2285 - val_accuracy: 0.7965 - lr: 0.0010 - 10s/epoch - 280ms/step
Epoch 49/100
36/36 - 10s - loss: 0.1086 - accuracy: 0.8839 - val_loss: 0.2148 - val_accuracy: 0.8114 - lr: 0.0010 - 10s/epoch - 278ms/step
Epoch 50/100
36/36 - 10s - loss: 0.1182 - accuracy: 0.8735 - val_loss: 0.2187 - val_accuracy: 0.8006 - lr: 0.0010 - 10s/epoch - 280ms/step
Epoch 51/100
36/36 - 10s - loss: 0.1075 - accuracy: 0.8850 - val_loss: 0.2399 - val_accuracy: 0.7915 - lr: 0.0010 - 10s/epoch - 280ms/step
Epoch 52/100
36/36 - 10s - loss: 0.1069 - accuracy: 0.8870 - val_loss: 0.2185 - val_accuracy: 0.8116 - lr: 0.0010 - 10s/epoch - 279ms/step
Epoch 53/100
36/36 - 10s - loss: 0.1083 - accuracy: 0.8851 - val_loss: 0.2127 - val_accuracy: 0.8129 - lr: 0.0010 - 10s/epoch - 280ms/step
Epoch 54/100
36/36 - 10s - loss: 0.1212 - accuracy: 0.8702 - val_loss: 0.2125 - val_accuracy: 0.8114 - lr: 0.0010 - 10s/epoch - 279ms/step
Epoch 55/100
36/36 - 10s - loss: 0.1196 - accuracy: 0.8728 - val_loss: 0.2084 - val_accuracy: 0.8145 - lr: 0.0010 - 10s/epoch - 281ms/step
Epoch 56/100
36/36 - 10s - loss: 0.1193 - accuracy: 0.8728 - val_loss: 0.2203 - val_accuracy: 0.7988 - lr: 0.0010 - 10s/epoch - 280ms/step
Epoch 57/100
36/36 - 10s - loss: 0.1108 - accuracy: 0.8814 - val_loss: 0.2211 - val_accuracy: 0.8104 - lr: 0.0010 - 10s/epoch - 282ms/step
Epoch 58/100
36/36 - 10s - loss: 0.1090 - accuracy: 0.8830 - val_loss: 0.2044 - val_accuracy: 0.8161 - lr: 0.0010 - 10s/epoch - 281ms/step
Epoch 59/100
36/36 - 10s - loss: 0.1184 - accuracy: 0.8723 - val_loss: 0.2139 - val_accuracy: 0.8036 - lr: 0.0010 - 10s/epoch - 280ms/step
Epoch 60/100
36/36 - 10s - loss: 0.1295 - accuracy: 0.8613 - val_loss: 0.1887 - val_accuracy: 0.8264 - lr: 0.0010 - 10s/epoch - 281ms/step
Epoch 61/100
36/36 - 10s - loss: 0.1302 - accuracy: 0.8618 - val_loss: 0.2071 - val_accuracy: 0.8088 - lr: 0.0010 - 10s/epoch - 281ms/step
Epoch 62/100
36/36 - 10s - loss: 0.1042 - accuracy: 0.8898 - val_loss: 0.2317 - val_accuracy: 0.7964 - lr: 0.0010 - 10s/epoch - 280ms/step
Epoch 63/100
36/36 - 10s - loss: 0.1175 - accuracy: 0.8735 - val_loss: 0.2022 - val_accuracy: 0.8189 - lr: 0.0010 - 10s/epoch - 280ms/step
Epoch 64/100
36/36 - 10s - loss: 0.1131 - accuracy: 0.8784 - val_loss: 0.1961 - val_accuracy: 0.8278 - lr: 0.0010 - 10s/epoch - 279ms/step
Epoch 65/100
36/36 - 10s - loss: 0.0989 - accuracy: 0.8946 - val_loss: 0.2209 - val_accuracy: 0.8105 - lr: 0.0010 - 10s/epoch - 280ms/step
Epoch 66/100
36/36 - 10s - loss: 0.1038 - accuracy: 0.8889 - val_loss: 0.2188 - val_accuracy: 0.8105 - lr: 0.0010 - 10s/epoch - 280ms/step
Epoch 67/100
36/36 - 10s - loss: 0.1123 - accuracy: 0.8803 - val_loss: 0.2178 - val_accuracy: 0.8032 - lr: 0.0010 - 10s/epoch - 280ms/step
Epoch 68/100
36/36 - 10s - loss: 0.1144 - accuracy: 0.8777 - val_loss: 0.2128 - val_accuracy: 0.8078 - lr: 0.0010 - 10s/epoch - 279ms/step
Epoch 69/100
36/36 - 10s - loss: 0.1213 - accuracy: 0.8703 - val_loss: 0.2070 - val_accuracy: 0.8139 - lr: 0.0010 - 10s/epoch - 280ms/step
Epoch 70/100
36/36 - 10s - loss: 0.1057 - accuracy: 0.8871 - val_loss: 0.2356 - val_accuracy: 0.7888 - lr: 0.0010 - 10s/epoch - 278ms/step
Epoch 71/100
36/36 - 10s - loss: 0.1140 - accuracy: 0.8788 - val_loss: 0.2066 - val_accuracy: 0.8161 - lr: 0.0010 - 10s/epoch - 280ms/step
Epoch 72/100
36/36 - 10s - loss: 0.1084 - accuracy: 0.8834 - val_loss: 0.2329 - val_accuracy: 0.7961 - lr: 0.0010 - 10s/epoch - 280ms/step
Epoch 73/100
36/36 - 10s - loss: 0.1041 - accuracy: 0.8891 - val_loss: 0.2577 - val_accuracy: 0.7697 - lr: 0.0010 - 10s/epoch - 280ms/step
Epoch 74/100
36/36 - 10s - loss: 0.1336 - accuracy: 0.8574 - val_loss: 0.2042 - val_accuracy: 0.8116 - lr: 0.0010 - 10s/epoch - 280ms/step
Epoch 75/100
36/36 - 10s - loss: 0.1107 - accuracy: 0.8820 - val_loss: 0.2423 - val_accuracy: 0.7787 - lr: 0.0010 - 10s/epoch - 280ms/step
Epoch 76/100
36/36 - 10s - loss: 0.1173 - accuracy: 0.8733 - val_loss: 0.2111 - val_accuracy: 0.8077 - lr: 0.0010 - 10s/epoch - 279ms/step
Epoch 77/100
36/36 - 10s - loss: 0.1095 - accuracy: 0.8821 - val_loss: 0.2083 - val_accuracy: 0.8139 - lr: 0.0010 - 10s/epoch - 280ms/step
Epoch 78/100
36/36 - 10s - loss: 0.1150 - accuracy: 0.8774 - val_loss: 0.1955 - val_accuracy: 0.8202 - lr: 0.0010 - 10s/epoch - 280ms/step
Epoch 79/100
36/36 - 10s - loss: 0.1026 - accuracy: 0.8911 - val_loss: 0.2310 - val_accuracy: 0.7973 - lr: 0.0010 - 10s/epoch - 280ms/step
Epoch 80/100
36/36 - 10s - loss: 0.1080 - accuracy: 0.8852 - val_loss: 0.2043 - val_accuracy: 0.8203 - lr: 0.0010 - 10s/epoch - 282ms/step
Epoch 81/100
36/36 - 9s - loss: 0.1277 - accuracy: 0.8642 - val_loss: 0.2302 - val_accuracy: 0.7884 - lr: 0.0010 - 9s/epoch - 243ms/step
Epoch 82/100
36/36 - 9s - loss: 0.1355 - accuracy: 0.8546 - val_loss: 0.2084 - val_accuracy: 0.8123 - lr: 0.0010 - 9s/epoch - 241ms/step
Epoch 83/100
36/36 - 7s - loss: 0.1119 - accuracy: 0.8806 - val_loss: 0.2209 - val_accuracy: 0.7970 - lr: 0.0010 - 7s/epoch - 208ms/step
Epoch 84/100
36/36 - 7s - loss: 0.1076 - accuracy: 0.8845 - val_loss: 0.2172 - val_accuracy: 0.8041 - lr: 0.0010 - 7s/epoch - 207ms/step
Epoch 85/100
36/36 - 8s - loss: 0.1110 - accuracy: 0.8808 - val_loss: 0.2295 - val_accuracy: 0.7912 - lr: 0.0010 - 8s/epoch - 209ms/step
Epoch 86/100
36/36 - 7s - loss: 0.1091 - accuracy: 0.8839 - val_loss: 0.2269 - val_accuracy: 0.8026 - lr: 0.0010 - 7s/epoch - 207ms/step
Epoch 87/100
36/36 - 8s - loss: 0.1142 - accuracy: 0.8780 - val_loss: 0.2037 - val_accuracy: 0.8174 - lr: 0.0010 - 8s/epoch - 210ms/step
Epoch 88/100
36/36 - 9s - loss: 0.1085 - accuracy: 0.8843 - val_loss: 0.2200 - val_accuracy: 0.8039 - lr: 0.0010 - 9s/epoch - 236ms/step
Epoch 89/100
36/36 - 11s - loss: 0.1154 - accuracy: 0.8764 - val_loss: 0.2196 - val_accuracy: 0.8044 - lr: 0.0010 - 11s/epoch - 293ms/step
Epoch 90/100
36/36 - 10s - loss: 0.1121 - accuracy: 0.8800 - val_loss: 0.2015 - val_accuracy: 0.8176 - lr: 0.0010 - 10s/epoch - 280ms/step
Epoch 91/100
36/36 - 10s - loss: 0.1390 - accuracy: 0.8505 - val_loss: 0.2040 - val_accuracy: 0.8145 - lr: 0.0010 - 10s/epoch - 288ms/step
Epoch 92/100
36/36 - 10s - loss: 0.1054 - accuracy: 0.8883 - val_loss: 0.2217 - val_accuracy: 0.8019 - lr: 0.0010 - 10s/epoch - 279ms/step
Epoch 93/100
36/36 - 10s - loss: 0.1091 - accuracy: 0.8832 - val_loss: 0.2012 - val_accuracy: 0.8267 - lr: 0.0010 - 10s/epoch - 271ms/step
Epoch 94/100
36/36 - 9s - loss: 0.1261 - accuracy: 0.8651 - val_loss: 0.2060 - val_accuracy: 0.8127 - lr: 0.0010 - 9s/epoch - 261ms/step
Epoch 95/100
36/36 - 10s - loss: 0.1090 - accuracy: 0.8834 - val_loss: 0.2137 - val_accuracy: 0.8085 - lr: 0.0010 - 10s/epoch - 291ms/step
Epoch 96/100
36/36 - 10s - loss: 0.1050 - accuracy: 0.8882 - val_loss: 0.2111 - val_accuracy: 0.8167 - lr: 0.0010 - 10s/epoch - 286ms/step
Epoch 97/100
36/36 - 10s - loss: 0.0964 - accuracy: 0.8983 - val_loss: 0.2146 - val_accuracy: 0.8136 - lr: 0.0010 - 10s/epoch - 275ms/step
Epoch 98/100
36/36 - 10s - loss: 0.1143 - accuracy: 0.8793 - val_loss: 0.2039 - val_accuracy: 0.8225 - lr: 0.0010 - 10s/epoch - 274ms/step
Epoch 99/100
36/36 - 10s - loss: 0.1263 - accuracy: 0.8657 - val_loss: 0.2123 - val_accuracy: 0.8075 - lr: 0.0010 - 10s/epoch - 278ms/step
Epoch 100/100
36/36 - 10s - loss: 0.1138 - accuracy: 0.8777 - val_loss: 0.2097 - val_accuracy: 0.8183 - lr: 0.0010 - 10s/epoch - 277ms/step
Loss: huber_loss
Epoch number: 75
fitting with batch size: 1500
Epoch 1/75
59/59 - 14s - loss: 0.0290 - accuracy: 0.7979 - val_loss: 0.0281 - val_accuracy: 0.8209 - lr: 0.0010 - 14s/epoch - 233ms/step
Epoch 2/75
59/59 - 10s - loss: 0.0149 - accuracy: 0.8946 - val_loss: 0.0279 - val_accuracy: 0.8188 - lr: 0.0010 - 10s/epoch - 173ms/step
Epoch 3/75
59/59 - 10s - loss: 0.0130 - accuracy: 0.9085 - val_loss: 0.0286 - val_accuracy: 0.8150 - lr: 0.0010 - 10s/epoch - 170ms/step
Epoch 4/75
59/59 - 10s - loss: 0.0127 - accuracy: 0.9114 - val_loss: 0.0298 - val_accuracy: 0.8085 - lr: 0.0010 - 10s/epoch - 171ms/step
Epoch 5/75
59/59 - 10s - loss: 0.0132 - accuracy: 0.9064 - val_loss: 0.0305 - val_accuracy: 0.8044 - lr: 0.0010 - 10s/epoch - 177ms/step
Epoch 6/75
59/59 - 11s - loss: 0.0138 - accuracy: 0.9016 - val_loss: 0.0288 - val_accuracy: 0.8183 - lr: 0.0010 - 11s/epoch - 181ms/step
Epoch 7/75
59/59 - 11s - loss: 0.0156 - accuracy: 0.8894 - val_loss: 0.0311 - val_accuracy: 0.8009 - lr: 0.0010 - 11s/epoch - 182ms/step
Epoch 8/75
59/59 - 11s - loss: 0.0166 - accuracy: 0.8819 - val_loss: 0.0320 - val_accuracy: 0.7896 - lr: 0.0010 - 11s/epoch - 183ms/step
Epoch 9/75
59/59 - 11s - loss: 0.0167 - accuracy: 0.8818 - val_loss: 0.0336 - val_accuracy: 0.7776 - lr: 0.0010 - 11s/epoch - 180ms/step
Epoch 10/75
59/59 - 11s - loss: 0.0179 - accuracy: 0.8731 - val_loss: 0.0260 - val_accuracy: 0.8317 - lr: 0.0010 - 11s/epoch - 180ms/step
Epoch 11/75
59/59 - 11s - loss: 0.0172 - accuracy: 0.8778 - val_loss: 0.0296 - val_accuracy: 0.8076 - lr: 0.0010 - 11s/epoch - 184ms/step
Epoch 12/75
59/59 - 11s - loss: 0.0175 - accuracy: 0.8756 - val_loss: 0.0313 - val_accuracy: 0.7997 - lr: 0.0010 - 11s/epoch - 184ms/step
Epoch 13/75
59/59 - 11s - loss: 0.0174 - accuracy: 0.8770 - val_loss: 0.0273 - val_accuracy: 0.8248 - lr: 0.0010 - 11s/epoch - 188ms/step
Epoch 14/75
59/59 - 11s - loss: 0.0172 - accuracy: 0.8783 - val_loss: 0.0324 - val_accuracy: 0.7914 - lr: 0.0010 - 11s/epoch - 186ms/step
Epoch 15/75
59/59 - 11s - loss: 0.0173 - accuracy: 0.8781 - val_loss: 0.0269 - val_accuracy: 0.8257 - lr: 0.0010 - 11s/epoch - 182ms/step
Epoch 16/75
59/59 - 11s - loss: 0.0179 - accuracy: 0.8732 - val_loss: 0.0299 - val_accuracy: 0.8073 - lr: 0.0010 - 11s/epoch - 189ms/step
Epoch 17/75
59/59 - 11s - loss: 0.0180 - accuracy: 0.8718 - val_loss: 0.0260 - val_accuracy: 0.8303 - lr: 0.0010 - 11s/epoch - 182ms/step
Epoch 18/75
59/59 - 11s - loss: 0.0175 - accuracy: 0.8757 - val_loss: 0.0310 - val_accuracy: 0.7954 - lr: 0.0010 - 11s/epoch - 181ms/step
Epoch 19/75
59/59 - 11s - loss: 0.0173 - accuracy: 0.8773 - val_loss: 0.0299 - val_accuracy: 0.8036 - lr: 0.0010 - 11s/epoch - 178ms/step
Epoch 20/75
59/59 - 10s - loss: 0.0170 - accuracy: 0.8801 - val_loss: 0.0279 - val_accuracy: 0.8194 - lr: 0.0010 - 10s/epoch - 178ms/step
Epoch 21/75
59/59 - 10s - loss: 0.0174 - accuracy: 0.8778 - val_loss: 0.0303 - val_accuracy: 0.8056 - lr: 0.0010 - 10s/epoch - 173ms/step
Epoch 22/75
59/59 - 10s - loss: 0.0177 - accuracy: 0.8750 - val_loss: 0.0303 - val_accuracy: 0.8078 - lr: 0.0010 - 10s/epoch - 177ms/step
Epoch 23/75
59/59 - 11s - loss: 0.0174 - accuracy: 0.8776 - val_loss: 0.0299 - val_accuracy: 0.8074 - lr: 0.0010 - 11s/epoch - 186ms/step
Epoch 24/75
59/59 - 10s - loss: 0.0168 - accuracy: 0.8819 - val_loss: 0.0302 - val_accuracy: 0.8075 - lr: 0.0010 - 10s/epoch - 177ms/step
Epoch 25/75
59/59 - 11s - loss: 0.0173 - accuracy: 0.8787 - val_loss: 0.0285 - val_accuracy: 0.8159 - lr: 0.0010 - 11s/epoch - 179ms/step
Epoch 26/75
59/59 - 10s - loss: 0.0174 - accuracy: 0.8782 - val_loss: 0.0297 - val_accuracy: 0.8059 - lr: 0.0010 - 10s/epoch - 175ms/step
Epoch 27/75
59/59 - 10s - loss: 0.0179 - accuracy: 0.8746 - val_loss: 0.0293 - val_accuracy: 0.8085 - lr: 0.0010 - 10s/epoch - 170ms/step
Epoch 28/75
59/59 - 10s - loss: 0.0175 - accuracy: 0.8781 - val_loss: 0.0288 - val_accuracy: 0.8169 - lr: 0.0010 - 10s/epoch - 172ms/step
Epoch 29/75
59/59 - 10s - loss: 0.0177 - accuracy: 0.8754 - val_loss: 0.0292 - val_accuracy: 0.8098 - lr: 0.0010 - 10s/epoch - 173ms/step
Epoch 30/75
59/59 - 10s - loss: 0.0175 - accuracy: 0.8775 - val_loss: 0.0302 - val_accuracy: 0.8062 - lr: 0.0010 - 10s/epoch - 174ms/step
Epoch 31/75
59/59 - 11s - loss: 0.0174 - accuracy: 0.8776 - val_loss: 0.0295 - val_accuracy: 0.8096 - lr: 0.0010 - 11s/epoch - 186ms/step
Epoch 32/75
59/59 - 11s - loss: 0.0175 - accuracy: 0.8772 - val_loss: 0.0332 - val_accuracy: 0.7809 - lr: 0.0010 - 11s/epoch - 189ms/step
Epoch 33/75
59/59 - 11s - loss: 0.0177 - accuracy: 0.8759 - val_loss: 0.0283 - val_accuracy: 0.8134 - lr: 0.0010 - 11s/epoch - 190ms/step
Epoch 34/75
59/59 - 11s - loss: 0.0171 - accuracy: 0.8796 - val_loss: 0.0286 - val_accuracy: 0.8193 - lr: 0.0010 - 11s/epoch - 180ms/step
Epoch 35/75
59/59 - 10s - loss: 0.0176 - accuracy: 0.8764 - val_loss: 0.0296 - val_accuracy: 0.8093 - lr: 0.0010 - 10s/epoch - 175ms/step
Epoch 36/75
59/59 - 11s - loss: 0.0175 - accuracy: 0.8767 - val_loss: 0.0288 - val_accuracy: 0.8166 - lr: 0.0010 - 11s/epoch - 180ms/step
Epoch 37/75
59/59 - 11s - loss: 0.0169 - accuracy: 0.8814 - val_loss: 0.0291 - val_accuracy: 0.8128 - lr: 0.0010 - 11s/epoch - 181ms/step
Epoch 38/75
59/59 - 11s - loss: 0.0171 - accuracy: 0.8804 - val_loss: 0.0315 - val_accuracy: 0.7921 - lr: 0.0010 - 11s/epoch - 178ms/step
Epoch 39/75
59/59 - 11s - loss: 0.0176 - accuracy: 0.8767 - val_loss: 0.0275 - val_accuracy: 0.8210 - lr: 0.0010 - 11s/epoch - 179ms/step
Epoch 40/75
59/59 - 10s - loss: 0.0175 - accuracy: 0.8784 - val_loss: 0.0277 - val_accuracy: 0.8233 - lr: 0.0010 - 10s/epoch - 176ms/step
Epoch 41/75
59/59 - 11s - loss: 0.0173 - accuracy: 0.8795 - val_loss: 0.0299 - val_accuracy: 0.8083 - lr: 0.0010 - 11s/epoch - 186ms/step
Epoch 42/75
59/59 - 11s - loss: 0.0177 - accuracy: 0.8760 - val_loss: 0.0286 - val_accuracy: 0.8126 - lr: 0.0010 - 11s/epoch - 185ms/step
Epoch 43/75
59/59 - 9s - loss: 0.0174 - accuracy: 0.8783 - val_loss: 0.0323 - val_accuracy: 0.7878 - lr: 0.0010 - 9s/epoch - 154ms/step
Epoch 44/75
59/59 - 11s - loss: 0.0175 - accuracy: 0.8778 - val_loss: 0.0286 - val_accuracy: 0.8121 - lr: 0.0010 - 11s/epoch - 178ms/step
Epoch 45/75
59/59 - 11s - loss: 0.0173 - accuracy: 0.8791 - val_loss: 0.0279 - val_accuracy: 0.8186 - lr: 0.0010 - 11s/epoch - 180ms/step
Epoch 46/75
59/59 - 11s - loss: 0.0168 - accuracy: 0.8818 - val_loss: 0.0279 - val_accuracy: 0.8219 - lr: 0.0010 - 11s/epoch - 181ms/step
Epoch 47/75
59/59 - 11s - loss: 0.0177 - accuracy: 0.8756 - val_loss: 0.0280 - val_accuracy: 0.8247 - lr: 0.0010 - 11s/epoch - 180ms/step
Epoch 48/75
59/59 - 10s - loss: 0.0175 - accuracy: 0.8775 - val_loss: 0.0272 - val_accuracy: 0.8275 - lr: 0.0010 - 10s/epoch - 177ms/step
Epoch 49/75
59/59 - 10s - loss: 0.0174 - accuracy: 0.8783 - val_loss: 0.0293 - val_accuracy: 0.8160 - lr: 0.0010 - 10s/epoch - 170ms/step
Epoch 50/75
59/59 - 10s - loss: 0.0171 - accuracy: 0.8810 - val_loss: 0.0305 - val_accuracy: 0.8009 - lr: 0.0010 - 10s/epoch - 175ms/step
Epoch 51/75
59/59 - 10s - loss: 0.0176 - accuracy: 0.8763 - val_loss: 0.0292 - val_accuracy: 0.8129 - lr: 0.0010 - 10s/epoch - 175ms/step
Epoch 52/75
59/59 - 10s - loss: 0.0175 - accuracy: 0.8775 - val_loss: 0.0289 - val_accuracy: 0.8159 - lr: 0.0010 - 10s/epoch - 172ms/step
Epoch 53/75
59/59 - 11s - loss: 0.0175 - accuracy: 0.8790 - val_loss: 0.0284 - val_accuracy: 0.8154 - lr: 0.0010 - 11s/epoch - 188ms/step
Epoch 54/75
59/59 - 11s - loss: 0.0170 - accuracy: 0.8818 - val_loss: 0.0267 - val_accuracy: 0.8296 - lr: 0.0010 - 11s/epoch - 185ms/step
Epoch 55/75
59/59 - 12s - loss: 0.0171 - accuracy: 0.8810 - val_loss: 0.0268 - val_accuracy: 0.8274 - lr: 0.0010 - 12s/epoch - 197ms/step
Epoch 56/75
59/59 - 11s - loss: 0.0175 - accuracy: 0.8779 - val_loss: 0.0307 - val_accuracy: 0.8002 - lr: 0.0010 - 11s/epoch - 192ms/step
Epoch 57/75
59/59 - 11s - loss: 0.0171 - accuracy: 0.8804 - val_loss: 0.0271 - val_accuracy: 0.8272 - lr: 0.0010 - 11s/epoch - 192ms/step
Epoch 58/75
59/59 - 11s - loss: 0.0172 - accuracy: 0.8799 - val_loss: 0.0277 - val_accuracy: 0.8195 - lr: 0.0010 - 11s/epoch - 185ms/step
Epoch 59/75
59/59 - 11s - loss: 0.0178 - accuracy: 0.8762 - val_loss: 0.0301 - val_accuracy: 0.8111 - lr: 0.0010 - 11s/epoch - 184ms/step
Epoch 60/75
59/59 - 11s - loss: 0.0173 - accuracy: 0.8784 - val_loss: 0.0294 - val_accuracy: 0.8115 - lr: 0.0010 - 11s/epoch - 183ms/step
Epoch 61/75
59/59 - 11s - loss: 0.0166 - accuracy: 0.8841 - val_loss: 0.0275 - val_accuracy: 0.8270 - lr: 0.0010 - 11s/epoch - 180ms/step
Epoch 62/75
59/59 - 11s - loss: 0.0176 - accuracy: 0.8768 - val_loss: 0.0311 - val_accuracy: 0.7975 - lr: 0.0010 - 11s/epoch - 182ms/step
Epoch 63/75
59/59 - 11s - loss: 0.0174 - accuracy: 0.8787 - val_loss: 0.0308 - val_accuracy: 0.8025 - lr: 0.0010 - 11s/epoch - 182ms/step
Epoch 64/75
59/59 - 11s - loss: 0.0174 - accuracy: 0.8781 - val_loss: 0.0308 - val_accuracy: 0.8022 - lr: 0.0010 - 11s/epoch - 185ms/step
Epoch 65/75
59/59 - 11s - loss: 0.0171 - accuracy: 0.8802 - val_loss: 0.0289 - val_accuracy: 0.8160 - lr: 0.0010 - 11s/epoch - 190ms/step
Epoch 66/75
59/59 - 11s - loss: 0.0175 - accuracy: 0.8789 - val_loss: 0.0269 - val_accuracy: 0.8259 - lr: 0.0010 - 11s/epoch - 195ms/step
Epoch 67/75
59/59 - 11s - loss: 0.0164 - accuracy: 0.8864 - val_loss: 0.0299 - val_accuracy: 0.8090 - lr: 0.0010 - 11s/epoch - 187ms/step
Epoch 68/75
59/59 - 11s - loss: 0.0173 - accuracy: 0.8803 - val_loss: 0.0292 - val_accuracy: 0.8136 - lr: 0.0010 - 11s/epoch - 183ms/step
Epoch 69/75
59/59 - 11s - loss: 0.0171 - accuracy: 0.8809 - val_loss: 0.0273 - val_accuracy: 0.8238 - lr: 0.0010 - 11s/epoch - 189ms/step
Epoch 70/75
59/59 - 11s - loss: 0.0170 - accuracy: 0.8825 - val_loss: 0.0282 - val_accuracy: 0.8194 - lr: 0.0010 - 11s/epoch - 187ms/step
Epoch 71/75
59/59 - 11s - loss: 0.0176 - accuracy: 0.8781 - val_loss: 0.0289 - val_accuracy: 0.8151 - lr: 0.0010 - 11s/epoch - 193ms/step
Epoch 72/75
59/59 - 12s - loss: 0.0168 - accuracy: 0.8833 - val_loss: 0.0299 - val_accuracy: 0.8092 - lr: 0.0010 - 12s/epoch - 196ms/step
Epoch 73/75
59/59 - 11s - loss: 0.0171 - accuracy: 0.8819 - val_loss: 0.0312 - val_accuracy: 0.7955 - lr: 0.0010 - 11s/epoch - 193ms/step
Epoch 74/75
59/59 - 11s - loss: 0.0174 - accuracy: 0.8787 - val_loss: 0.0277 - val_accuracy: 0.8172 - lr: 0.0010 - 11s/epoch - 188ms/step
Epoch 75/75
59/59 - 9s - loss: 0.0172 - accuracy: 0.8796 - val_loss: 0.0295 - val_accuracy: 0.8067 - lr: 0.0010 - 9s/epoch - 155ms/step
fitting with batch size: 2500
Epoch 1/75
36/36 - 13s - loss: 0.0153 - accuracy: 0.8944 - val_loss: 0.0293 - val_accuracy: 0.8050 - lr: 0.0010 - 13s/epoch - 372ms/step
Epoch 2/75
36/36 - 12s - loss: 0.0278 - accuracy: 0.8072 - val_loss: 0.0286 - val_accuracy: 0.8156 - lr: 0.0010 - 12s/epoch - 320ms/step
Epoch 3/75
36/36 - 12s - loss: 0.0199 - accuracy: 0.8616 - val_loss: 0.0279 - val_accuracy: 0.8181 - lr: 0.0010 - 12s/epoch - 325ms/step
Epoch 4/75
36/36 - 11s - loss: 0.0167 - accuracy: 0.8833 - val_loss: 0.0252 - val_accuracy: 0.8388 - lr: 0.0010 - 11s/epoch - 308ms/step
Epoch 5/75
36/36 - 11s - loss: 0.0188 - accuracy: 0.8686 - val_loss: 0.0265 - val_accuracy: 0.8320 - lr: 0.0010 - 11s/epoch - 298ms/step
Epoch 6/75
36/36 - 11s - loss: 0.0168 - accuracy: 0.8842 - val_loss: 0.0301 - val_accuracy: 0.8039 - lr: 0.0010 - 11s/epoch - 303ms/step
Epoch 7/75
36/36 - 11s - loss: 0.0168 - accuracy: 0.8832 - val_loss: 0.0284 - val_accuracy: 0.8137 - lr: 0.0010 - 11s/epoch - 307ms/step
Epoch 8/75
36/36 - 11s - loss: 0.0177 - accuracy: 0.8771 - val_loss: 0.0265 - val_accuracy: 0.8300 - lr: 0.0010 - 11s/epoch - 313ms/step
Epoch 9/75
36/36 - 11s - loss: 0.0180 - accuracy: 0.8745 - val_loss: 0.0289 - val_accuracy: 0.8148 - lr: 0.0010 - 11s/epoch - 297ms/step
Epoch 10/75
36/36 - 11s - loss: 0.0175 - accuracy: 0.8784 - val_loss: 0.0265 - val_accuracy: 0.8307 - lr: 0.0010 - 11s/epoch - 313ms/step
Epoch 11/75
36/36 - 11s - loss: 0.0169 - accuracy: 0.8821 - val_loss: 0.0260 - val_accuracy: 0.8314 - lr: 0.0010 - 11s/epoch - 308ms/step
Epoch 12/75
36/36 - 11s - loss: 0.0207 - accuracy: 0.8550 - val_loss: 0.0283 - val_accuracy: 0.8217 - lr: 0.0010 - 11s/epoch - 308ms/step
Epoch 13/75
36/36 - 11s - loss: 0.0176 - accuracy: 0.8770 - val_loss: 0.0283 - val_accuracy: 0.8130 - lr: 0.0010 - 11s/epoch - 315ms/step
Epoch 14/75
36/36 - 11s - loss: 0.0213 - accuracy: 0.8511 - val_loss: 0.0282 - val_accuracy: 0.8203 - lr: 0.0010 - 11s/epoch - 315ms/step
Epoch 15/75
36/36 - 11s - loss: 0.0211 - accuracy: 0.8522 - val_loss: 0.0255 - val_accuracy: 0.8380 - lr: 0.0010 - 11s/epoch - 319ms/step
Epoch 16/75
36/36 - 12s - loss: 0.0165 - accuracy: 0.8853 - val_loss: 0.0260 - val_accuracy: 0.8313 - lr: 0.0010 - 12s/epoch - 320ms/step
Epoch 17/75
36/36 - 11s - loss: 0.0157 - accuracy: 0.8922 - val_loss: 0.0259 - val_accuracy: 0.8351 - lr: 0.0010 - 11s/epoch - 309ms/step
Epoch 18/75
36/36 - 11s - loss: 0.0176 - accuracy: 0.8775 - val_loss: 0.0316 - val_accuracy: 0.7926 - lr: 0.0010 - 11s/epoch - 319ms/step
Epoch 19/75
36/36 - 11s - loss: 0.0180 - accuracy: 0.8750 - val_loss: 0.0255 - val_accuracy: 0.8360 - lr: 0.0010 - 11s/epoch - 296ms/step
Epoch 20/75
36/36 - 11s - loss: 0.0164 - accuracy: 0.8866 - val_loss: 0.0263 - val_accuracy: 0.8335 - lr: 0.0010 - 11s/epoch - 303ms/step
Epoch 21/75
36/36 - 11s - loss: 0.0169 - accuracy: 0.8822 - val_loss: 0.0319 - val_accuracy: 0.7916 - lr: 0.0010 - 11s/epoch - 292ms/step
Epoch 22/75
36/36 - 11s - loss: 0.0172 - accuracy: 0.8808 - val_loss: 0.0285 - val_accuracy: 0.8197 - lr: 0.0010 - 11s/epoch - 294ms/step
Epoch 23/75
36/36 - 10s - loss: 0.0184 - accuracy: 0.8721 - val_loss: 0.0289 - val_accuracy: 0.8161 - lr: 0.0010 - 10s/epoch - 278ms/step
Epoch 24/75
36/36 - 11s - loss: 0.0164 - accuracy: 0.8866 - val_loss: 0.0294 - val_accuracy: 0.8114 - lr: 0.0010 - 11s/epoch - 303ms/step
Epoch 25/75
36/36 - 12s - loss: 0.0170 - accuracy: 0.8810 - val_loss: 0.0309 - val_accuracy: 0.8035 - lr: 0.0010 - 12s/epoch - 320ms/step
Epoch 26/75
36/36 - 11s - loss: 0.0163 - accuracy: 0.8866 - val_loss: 0.0282 - val_accuracy: 0.8225 - lr: 0.0010 - 11s/epoch - 318ms/step
Epoch 27/75
36/36 - 12s - loss: 0.0164 - accuracy: 0.8866 - val_loss: 0.0287 - val_accuracy: 0.8155 - lr: 0.0010 - 12s/epoch - 326ms/step
Epoch 28/75
36/36 - 11s - loss: 0.0167 - accuracy: 0.8845 - val_loss: 0.0278 - val_accuracy: 0.8246 - lr: 0.0010 - 11s/epoch - 317ms/step
Epoch 29/75
36/36 - 11s - loss: 0.0202 - accuracy: 0.8597 - val_loss: 0.0254 - val_accuracy: 0.8380 - lr: 0.0010 - 11s/epoch - 310ms/step
Epoch 30/75
36/36 - 11s - loss: 0.0176 - accuracy: 0.8776 - val_loss: 0.0272 - val_accuracy: 0.8285 - lr: 0.0010 - 11s/epoch - 310ms/step
Epoch 31/75
36/36 - 11s - loss: 0.0152 - accuracy: 0.8958 - val_loss: 0.0282 - val_accuracy: 0.8189 - lr: 0.0010 - 11s/epoch - 308ms/step
Epoch 32/75
36/36 - 11s - loss: 0.0191 - accuracy: 0.8682 - val_loss: 0.0255 - val_accuracy: 0.8368 - lr: 0.0010 - 11s/epoch - 310ms/step
Epoch 33/75
36/36 - 11s - loss: 0.0177 - accuracy: 0.8773 - val_loss: 0.0247 - val_accuracy: 0.8425 - lr: 0.0010 - 11s/epoch - 306ms/step
Epoch 34/75
36/36 - 11s - loss: 0.0172 - accuracy: 0.8810 - val_loss: 0.0256 - val_accuracy: 0.8359 - lr: 0.0010 - 11s/epoch - 302ms/step
Epoch 35/75
36/36 - 11s - loss: 0.0184 - accuracy: 0.8727 - val_loss: 0.0325 - val_accuracy: 0.7870 - lr: 0.0010 - 11s/epoch - 311ms/step
Epoch 36/75
36/36 - 11s - loss: 0.0235 - accuracy: 0.8371 - val_loss: 0.0280 - val_accuracy: 0.8204 - lr: 0.0010 - 11s/epoch - 311ms/step
Epoch 37/75
36/36 - 11s - loss: 0.0172 - accuracy: 0.8811 - val_loss: 0.0313 - val_accuracy: 0.7986 - lr: 0.0010 - 11s/epoch - 311ms/step
Epoch 38/75
36/36 - 11s - loss: 0.0182 - accuracy: 0.8740 - val_loss: 0.0286 - val_accuracy: 0.8187 - lr: 0.0010 - 11s/epoch - 309ms/step
Epoch 39/75
36/36 - 11s - loss: 0.0163 - accuracy: 0.8878 - val_loss: 0.0289 - val_accuracy: 0.8126 - lr: 0.0010 - 11s/epoch - 316ms/step
Epoch 40/75
36/36 - 11s - loss: 0.0167 - accuracy: 0.8838 - val_loss: 0.0336 - val_accuracy: 0.7837 - lr: 0.0010 - 11s/epoch - 308ms/step
Epoch 41/75
36/36 - 11s - loss: 0.0181 - accuracy: 0.8738 - val_loss: 0.0284 - val_accuracy: 0.8203 - lr: 0.0010 - 11s/epoch - 317ms/step
Epoch 42/75
36/36 - 11s - loss: 0.0163 - accuracy: 0.8865 - val_loss: 0.0306 - val_accuracy: 0.8005 - lr: 0.0010 - 11s/epoch - 318ms/step
Epoch 43/75
36/36 - 11s - loss: 0.0156 - accuracy: 0.8923 - val_loss: 0.0256 - val_accuracy: 0.8369 - lr: 0.0010 - 11s/epoch - 319ms/step
Epoch 44/75
36/36 - 11s - loss: 0.0180 - accuracy: 0.8740 - val_loss: 0.0310 - val_accuracy: 0.7982 - lr: 0.0010 - 11s/epoch - 314ms/step
Epoch 45/75
36/36 - 11s - loss: 0.0204 - accuracy: 0.8575 - val_loss: 0.0290 - val_accuracy: 0.8104 - lr: 0.0010 - 11s/epoch - 302ms/step
Epoch 46/75
36/36 - 11s - loss: 0.0194 - accuracy: 0.8645 - val_loss: 0.0304 - val_accuracy: 0.8034 - lr: 0.0010 - 11s/epoch - 304ms/step
Epoch 47/75
36/36 - 11s - loss: 0.0183 - accuracy: 0.8728 - val_loss: 0.0264 - val_accuracy: 0.8295 - lr: 0.0010 - 11s/epoch - 311ms/step
Epoch 48/75
36/36 - 11s - loss: 0.0162 - accuracy: 0.8888 - val_loss: 0.0282 - val_accuracy: 0.8172 - lr: 0.0010 - 11s/epoch - 313ms/step
Epoch 49/75
36/36 - 11s - loss: 0.0202 - accuracy: 0.8594 - val_loss: 0.0263 - val_accuracy: 0.8338 - lr: 0.0010 - 11s/epoch - 310ms/step
Epoch 50/75
36/36 - 11s - loss: 0.0158 - accuracy: 0.8915 - val_loss: 0.0289 - val_accuracy: 0.8139 - lr: 0.0010 - 11s/epoch - 305ms/step
Epoch 51/75
36/36 - 12s - loss: 0.0169 - accuracy: 0.8827 - val_loss: 0.0280 - val_accuracy: 0.8192 - lr: 0.0010 - 12s/epoch - 326ms/step
Epoch 52/75
36/36 - 12s - loss: 0.0202 - accuracy: 0.8601 - val_loss: 0.0270 - val_accuracy: 0.8274 - lr: 0.0010 - 12s/epoch - 323ms/step
Epoch 53/75
36/36 - 12s - loss: 0.0169 - accuracy: 0.8833 - val_loss: 0.0276 - val_accuracy: 0.8223 - lr: 0.0010 - 12s/epoch - 320ms/step
Epoch 54/75
36/36 - 11s - loss: 0.0169 - accuracy: 0.8832 - val_loss: 0.0286 - val_accuracy: 0.8178 - lr: 0.0010 - 11s/epoch - 315ms/step
Epoch 55/75
36/36 - 11s - loss: 0.0190 - accuracy: 0.8674 - val_loss: 0.0290 - val_accuracy: 0.8113 - lr: 0.0010 - 11s/epoch - 307ms/step
Epoch 56/75
36/36 - 11s - loss: 0.0151 - accuracy: 0.8958 - val_loss: 0.0249 - val_accuracy: 0.8409 - lr: 0.0010 - 11s/epoch - 305ms/step
Epoch 57/75
36/36 - 10s - loss: 0.0207 - accuracy: 0.8557 - val_loss: 0.0279 - val_accuracy: 0.8198 - lr: 0.0010 - 10s/epoch - 282ms/step
Epoch 58/75
36/36 - 10s - loss: 0.0196 - accuracy: 0.8639 - val_loss: 0.0291 - val_accuracy: 0.8101 - lr: 0.0010 - 10s/epoch - 283ms/step
Epoch 59/75
36/36 - 10s - loss: 0.0167 - accuracy: 0.8847 - val_loss: 0.0312 - val_accuracy: 0.7974 - lr: 0.0010 - 10s/epoch - 283ms/step
Epoch 60/75
36/36 - 11s - loss: 0.0160 - accuracy: 0.8900 - val_loss: 0.0268 - val_accuracy: 0.8308 - lr: 0.0010 - 11s/epoch - 300ms/step
Epoch 61/75
36/36 - 10s - loss: 0.0169 - accuracy: 0.8835 - val_loss: 0.0262 - val_accuracy: 0.8342 - lr: 0.0010 - 10s/epoch - 284ms/step
Epoch 62/75
36/36 - 10s - loss: 0.0163 - accuracy: 0.8870 - val_loss: 0.0283 - val_accuracy: 0.8222 - lr: 0.0010 - 10s/epoch - 285ms/step
Epoch 63/75
36/36 - 11s - loss: 0.0199 - accuracy: 0.8613 - val_loss: 0.0285 - val_accuracy: 0.8181 - lr: 0.0010 - 11s/epoch - 314ms/step
Epoch 64/75
36/36 - 11s - loss: 0.0159 - accuracy: 0.8901 - val_loss: 0.0320 - val_accuracy: 0.7912 - lr: 0.0010 - 11s/epoch - 313ms/step
Epoch 65/75
36/36 - 11s - loss: 0.0190 - accuracy: 0.8676 - val_loss: 0.0245 - val_accuracy: 0.8454 - lr: 0.0010 - 11s/epoch - 314ms/step
Epoch 66/75
36/36 - 11s - loss: 0.0175 - accuracy: 0.8781 - val_loss: 0.0257 - val_accuracy: 0.8404 - lr: 0.0010 - 11s/epoch - 311ms/step
Epoch 67/75
36/36 - 12s - loss: 0.0171 - accuracy: 0.8816 - val_loss: 0.0287 - val_accuracy: 0.8140 - lr: 0.0010 - 12s/epoch - 320ms/step
Epoch 68/75
36/36 - 11s - loss: 0.0164 - accuracy: 0.8868 - val_loss: 0.0305 - val_accuracy: 0.8040 - lr: 0.0010 - 11s/epoch - 318ms/step
Epoch 69/75
36/36 - 11s - loss: 0.0153 - accuracy: 0.8943 - val_loss: 0.0293 - val_accuracy: 0.8108 - lr: 0.0010 - 11s/epoch - 319ms/step
Epoch 70/75
36/36 - 12s - loss: 0.0180 - accuracy: 0.8751 - val_loss: 0.0258 - val_accuracy: 0.8346 - lr: 0.0010 - 12s/epoch - 325ms/step
Epoch 71/75
36/36 - 12s - loss: 0.0166 - accuracy: 0.8855 - val_loss: 0.0285 - val_accuracy: 0.8161 - lr: 0.0010 - 12s/epoch - 323ms/step
Epoch 72/75
36/36 - 12s - loss: 0.0158 - accuracy: 0.8911 - val_loss: 0.0283 - val_accuracy: 0.8204 - lr: 0.0010 - 12s/epoch - 321ms/step
Epoch 73/75
36/36 - 11s - loss: 0.0169 - accuracy: 0.8835 - val_loss: 0.0306 - val_accuracy: 0.8101 - lr: 0.0010 - 11s/epoch - 309ms/step
Epoch 74/75
36/36 - 9s - loss: 0.0165 - accuracy: 0.8852 - val_loss: 0.0288 - val_accuracy: 0.8132 - lr: 0.0010 - 9s/epoch - 244ms/step
Epoch 75/75
36/36 - 9s - loss: 0.0154 - accuracy: 0.8937 - val_loss: 0.0300 - val_accuracy: 0.8074 - lr: 0.0010 - 9s/epoch - 247ms/step
Epoch number: 100
fitting with batch size: 1500
Epoch 1/100
59/59 - 12s - loss: 0.0189 - accuracy: 0.8692 - val_loss: 0.0300 - val_accuracy: 0.8060 - lr: 0.0010 - 12s/epoch - 207ms/step
Epoch 2/100
59/59 - 9s - loss: 0.0169 - accuracy: 0.8830 - val_loss: 0.0291 - val_accuracy: 0.8159 - lr: 0.0010 - 9s/epoch - 152ms/step
Epoch 3/100
59/59 - 9s - loss: 0.0170 - accuracy: 0.8820 - val_loss: 0.0301 - val_accuracy: 0.8113 - lr: 0.0010 - 9s/epoch - 154ms/step
Epoch 4/100
59/59 - 11s - loss: 0.0173 - accuracy: 0.8804 - val_loss: 0.0281 - val_accuracy: 0.8190 - lr: 0.0010 - 11s/epoch - 189ms/step
Epoch 5/100
59/59 - 12s - loss: 0.0164 - accuracy: 0.8860 - val_loss: 0.0290 - val_accuracy: 0.8189 - lr: 0.0010 - 12s/epoch - 197ms/step
Epoch 6/100
59/59 - 12s - loss: 0.0167 - accuracy: 0.8846 - val_loss: 0.0294 - val_accuracy: 0.8122 - lr: 0.0010 - 12s/epoch - 200ms/step
Epoch 7/100
59/59 - 12s - loss: 0.0171 - accuracy: 0.8816 - val_loss: 0.0259 - val_accuracy: 0.8401 - lr: 0.0010 - 12s/epoch - 198ms/step
Epoch 8/100
59/59 - 12s - loss: 0.0175 - accuracy: 0.8784 - val_loss: 0.0286 - val_accuracy: 0.8191 - lr: 0.0010 - 12s/epoch - 198ms/step
Epoch 9/100
59/59 - 12s - loss: 0.0167 - accuracy: 0.8847 - val_loss: 0.0260 - val_accuracy: 0.8343 - lr: 0.0010 - 12s/epoch - 195ms/step
Epoch 10/100
59/59 - 11s - loss: 0.0164 - accuracy: 0.8863 - val_loss: 0.0281 - val_accuracy: 0.8207 - lr: 0.0010 - 11s/epoch - 189ms/step
Epoch 11/100
59/59 - 11s - loss: 0.0166 - accuracy: 0.8848 - val_loss: 0.0297 - val_accuracy: 0.8095 - lr: 0.0010 - 11s/epoch - 192ms/step
Epoch 12/100
59/59 - 11s - loss: 0.0166 - accuracy: 0.8855 - val_loss: 0.0292 - val_accuracy: 0.8171 - lr: 0.0010 - 11s/epoch - 194ms/step
Epoch 13/100
59/59 - 12s - loss: 0.0167 - accuracy: 0.8849 - val_loss: 0.0306 - val_accuracy: 0.8036 - lr: 0.0010 - 12s/epoch - 195ms/step
Epoch 14/100
59/59 - 11s - loss: 0.0172 - accuracy: 0.8819 - val_loss: 0.0286 - val_accuracy: 0.8183 - lr: 0.0010 - 11s/epoch - 193ms/step
Epoch 15/100
59/59 - 11s - loss: 0.0168 - accuracy: 0.8850 - val_loss: 0.0285 - val_accuracy: 0.8136 - lr: 0.0010 - 11s/epoch - 195ms/step
Epoch 16/100
59/59 - 11s - loss: 0.0167 - accuracy: 0.8851 - val_loss: 0.0283 - val_accuracy: 0.8179 - lr: 0.0010 - 11s/epoch - 194ms/step
Epoch 17/100
59/59 - 11s - loss: 0.0167 - accuracy: 0.8841 - val_loss: 0.0281 - val_accuracy: 0.8222 - lr: 0.0010 - 11s/epoch - 191ms/step
Epoch 18/100
59/59 - 10s - loss: 0.0164 - accuracy: 0.8877 - val_loss: 0.0293 - val_accuracy: 0.8119 - lr: 0.0010 - 10s/epoch - 176ms/step
Epoch 19/100
59/59 - 11s - loss: 0.0162 - accuracy: 0.8881 - val_loss: 0.0278 - val_accuracy: 0.8227 - lr: 0.0010 - 11s/epoch - 191ms/step
Epoch 20/100
59/59 - 11s - loss: 0.0168 - accuracy: 0.8842 - val_loss: 0.0287 - val_accuracy: 0.8180 - lr: 0.0010 - 11s/epoch - 179ms/step
Epoch 21/100
59/59 - 10s - loss: 0.0166 - accuracy: 0.8857 - val_loss: 0.0301 - val_accuracy: 0.8044 - lr: 0.0010 - 10s/epoch - 175ms/step
Epoch 22/100
59/59 - 10s - loss: 0.0170 - accuracy: 0.8831 - val_loss: 0.0270 - val_accuracy: 0.8323 - lr: 0.0010 - 10s/epoch - 175ms/step
Epoch 23/100
59/59 - 10s - loss: 0.0175 - accuracy: 0.8796 - val_loss: 0.0270 - val_accuracy: 0.8287 - lr: 0.0010 - 10s/epoch - 178ms/step
Epoch 24/100
59/59 - 10s - loss: 0.0167 - accuracy: 0.8853 - val_loss: 0.0296 - val_accuracy: 0.8118 - lr: 0.0010 - 10s/epoch - 176ms/step
Epoch 25/100
59/59 - 11s - loss: 0.0170 - accuracy: 0.8829 - val_loss: 0.0312 - val_accuracy: 0.7993 - lr: 0.0010 - 11s/epoch - 186ms/step
Epoch 26/100
59/59 - 10s - loss: 0.0163 - accuracy: 0.8881 - val_loss: 0.0296 - val_accuracy: 0.8064 - lr: 0.0010 - 10s/epoch - 176ms/step
Epoch 27/100
59/59 - 10s - loss: 0.0164 - accuracy: 0.8870 - val_loss: 0.0273 - val_accuracy: 0.8271 - lr: 0.0010 - 10s/epoch - 170ms/step
Epoch 28/100
59/59 - 10s - loss: 0.0169 - accuracy: 0.8833 - val_loss: 0.0287 - val_accuracy: 0.8192 - lr: 0.0010 - 10s/epoch - 178ms/step
Epoch 29/100
59/59 - 11s - loss: 0.0165 - accuracy: 0.8862 - val_loss: 0.0289 - val_accuracy: 0.8118 - lr: 0.0010 - 11s/epoch - 188ms/step
Epoch 30/100
59/59 - 11s - loss: 0.0162 - accuracy: 0.8882 - val_loss: 0.0289 - val_accuracy: 0.8182 - lr: 0.0010 - 11s/epoch - 181ms/step
Epoch 31/100
59/59 - 10s - loss: 0.0165 - accuracy: 0.8872 - val_loss: 0.0300 - val_accuracy: 0.8113 - lr: 0.0010 - 10s/epoch - 172ms/step
Epoch 32/100
59/59 - 10s - loss: 0.0164 - accuracy: 0.8866 - val_loss: 0.0276 - val_accuracy: 0.8205 - lr: 0.0010 - 10s/epoch - 174ms/step
Epoch 33/100
59/59 - 11s - loss: 0.0170 - accuracy: 0.8838 - val_loss: 0.0287 - val_accuracy: 0.8133 - lr: 0.0010 - 11s/epoch - 180ms/step
Epoch 34/100
59/59 - 11s - loss: 0.0166 - accuracy: 0.8856 - val_loss: 0.0312 - val_accuracy: 0.8019 - lr: 0.0010 - 11s/epoch - 180ms/step
Epoch 35/100
59/59 - 11s - loss: 0.0163 - accuracy: 0.8883 - val_loss: 0.0280 - val_accuracy: 0.8236 - lr: 0.0010 - 11s/epoch - 187ms/step
Epoch 36/100
59/59 - 11s - loss: 0.0164 - accuracy: 0.8866 - val_loss: 0.0288 - val_accuracy: 0.8210 - lr: 0.0010 - 11s/epoch - 179ms/step
Epoch 37/100
59/59 - 10s - loss: 0.0165 - accuracy: 0.8871 - val_loss: 0.0312 - val_accuracy: 0.8031 - lr: 0.0010 - 10s/epoch - 177ms/step
Epoch 38/100
59/59 - 11s - loss: 0.0167 - accuracy: 0.8846 - val_loss: 0.0287 - val_accuracy: 0.8157 - lr: 0.0010 - 11s/epoch - 180ms/step
Epoch 39/100
59/59 - 11s - loss: 0.0166 - accuracy: 0.8860 - val_loss: 0.0305 - val_accuracy: 0.8095 - lr: 0.0010 - 11s/epoch - 182ms/step
Epoch 40/100
59/59 - 11s - loss: 0.0163 - accuracy: 0.8881 - val_loss: 0.0304 - val_accuracy: 0.8073 - lr: 0.0010 - 11s/epoch - 181ms/step
Epoch 41/100
59/59 - 11s - loss: 0.0166 - accuracy: 0.8859 - val_loss: 0.0271 - val_accuracy: 0.8259 - lr: 0.0010 - 11s/epoch - 181ms/step
Epoch 42/100
59/59 - 10s - loss: 0.0165 - accuracy: 0.8868 - val_loss: 0.0296 - val_accuracy: 0.8102 - lr: 0.0010 - 10s/epoch - 174ms/step
Epoch 43/100
59/59 - 11s - loss: 0.0162 - accuracy: 0.8883 - val_loss: 0.0300 - val_accuracy: 0.8090 - lr: 0.0010 - 11s/epoch - 181ms/step
Epoch 44/100
59/59 - 11s - loss: 0.0167 - accuracy: 0.8844 - val_loss: 0.0273 - val_accuracy: 0.8261 - lr: 0.0010 - 11s/epoch - 187ms/step
Epoch 45/100
59/59 - 11s - loss: 0.0167 - accuracy: 0.8850 - val_loss: 0.0290 - val_accuracy: 0.8172 - lr: 0.0010 - 11s/epoch - 185ms/step
Epoch 46/100
59/59 - 10s - loss: 0.0162 - accuracy: 0.8873 - val_loss: 0.0287 - val_accuracy: 0.8149 - lr: 0.0010 - 10s/epoch - 177ms/step
Epoch 47/100
59/59 - 10s - loss: 0.0160 - accuracy: 0.8895 - val_loss: 0.0310 - val_accuracy: 0.8015 - lr: 0.0010 - 10s/epoch - 176ms/step
Epoch 48/100
59/59 - 10s - loss: 0.0162 - accuracy: 0.8883 - val_loss: 0.0292 - val_accuracy: 0.8151 - lr: 0.0010 - 10s/epoch - 167ms/step
Epoch 49/100
59/59 - 10s - loss: 0.0166 - accuracy: 0.8862 - val_loss: 0.0334 - val_accuracy: 0.7845 - lr: 0.0010 - 10s/epoch - 176ms/step
Epoch 50/100
59/59 - 11s - loss: 0.0167 - accuracy: 0.8857 - val_loss: 0.0294 - val_accuracy: 0.8141 - lr: 0.0010 - 11s/epoch - 186ms/step
Epoch 51/100
59/59 - 11s - loss: 0.0174 - accuracy: 0.8803 - val_loss: 0.0273 - val_accuracy: 0.8276 - lr: 0.0010 - 11s/epoch - 180ms/step
Epoch 52/100
59/59 - 11s - loss: 0.0160 - accuracy: 0.8902 - val_loss: 0.0299 - val_accuracy: 0.8123 - lr: 0.0010 - 11s/epoch - 181ms/step
Epoch 53/100
59/59 - 11s - loss: 0.0163 - accuracy: 0.8890 - val_loss: 0.0327 - val_accuracy: 0.7896 - lr: 0.0010 - 11s/epoch - 188ms/step
Epoch 54/100
59/59 - 10s - loss: 0.0167 - accuracy: 0.8854 - val_loss: 0.0294 - val_accuracy: 0.8135 - lr: 0.0010 - 10s/epoch - 178ms/step
Epoch 55/100
59/59 - 10s - loss: 0.0165 - accuracy: 0.8867 - val_loss: 0.0287 - val_accuracy: 0.8178 - lr: 0.0010 - 10s/epoch - 169ms/step
Epoch 56/100
59/59 - 10s - loss: 0.0164 - accuracy: 0.8877 - val_loss: 0.0284 - val_accuracy: 0.8226 - lr: 0.0010 - 10s/epoch - 175ms/step
Epoch 57/100
59/59 - 10s - loss: 0.0158 - accuracy: 0.8911 - val_loss: 0.0293 - val_accuracy: 0.8184 - lr: 0.0010 - 10s/epoch - 171ms/step
Epoch 58/100
59/59 - 10s - loss: 0.0173 - accuracy: 0.8805 - val_loss: 0.0306 - val_accuracy: 0.8044 - lr: 0.0010 - 10s/epoch - 176ms/step
Epoch 59/100
59/59 - 11s - loss: 0.0159 - accuracy: 0.8905 - val_loss: 0.0285 - val_accuracy: 0.8179 - lr: 0.0010 - 11s/epoch - 181ms/step
Epoch 60/100
59/59 - 11s - loss: 0.0160 - accuracy: 0.8904 - val_loss: 0.0330 - val_accuracy: 0.7902 - lr: 0.0010 - 11s/epoch - 178ms/step
Epoch 61/100
59/59 - 11s - loss: 0.0166 - accuracy: 0.8868 - val_loss: 0.0278 - val_accuracy: 0.8219 - lr: 0.0010 - 11s/epoch - 186ms/step
Epoch 62/100
59/59 - 11s - loss: 0.0161 - accuracy: 0.8896 - val_loss: 0.0312 - val_accuracy: 0.7991 - lr: 0.0010 - 11s/epoch - 179ms/step
Epoch 63/100
59/59 - 11s - loss: 0.0162 - accuracy: 0.8888 - val_loss: 0.0319 - val_accuracy: 0.7953 - lr: 0.0010 - 11s/epoch - 182ms/step
Epoch 64/100
59/59 - 11s - loss: 0.0165 - accuracy: 0.8864 - val_loss: 0.0282 - val_accuracy: 0.8211 - lr: 0.0010 - 11s/epoch - 180ms/step
Epoch 65/100
59/59 - 11s - loss: 0.0168 - accuracy: 0.8844 - val_loss: 0.0284 - val_accuracy: 0.8180 - lr: 0.0010 - 11s/epoch - 181ms/step
Epoch 66/100
59/59 - 10s - loss: 0.0165 - accuracy: 0.8870 - val_loss: 0.0294 - val_accuracy: 0.8194 - lr: 0.0010 - 10s/epoch - 173ms/step
Epoch 67/100
59/59 - 10s - loss: 0.0164 - accuracy: 0.8871 - val_loss: 0.0307 - val_accuracy: 0.8081 - lr: 0.0010 - 10s/epoch - 171ms/step
Epoch 68/100
59/59 - 10s - loss: 0.0162 - accuracy: 0.8878 - val_loss: 0.0298 - val_accuracy: 0.8107 - lr: 0.0010 - 10s/epoch - 172ms/step
Epoch 69/100
59/59 - 10s - loss: 0.0157 - accuracy: 0.8926 - val_loss: 0.0308 - val_accuracy: 0.8044 - lr: 0.0010 - 10s/epoch - 174ms/step
Epoch 70/100
59/59 - 11s - loss: 0.0166 - accuracy: 0.8861 - val_loss: 0.0284 - val_accuracy: 0.8208 - lr: 0.0010 - 11s/epoch - 186ms/step
Epoch 71/100
59/59 - 11s - loss: 0.0169 - accuracy: 0.8826 - val_loss: 0.0299 - val_accuracy: 0.8100 - lr: 0.0010 - 11s/epoch - 183ms/step
Epoch 72/100
59/59 - 11s - loss: 0.0156 - accuracy: 0.8934 - val_loss: 0.0294 - val_accuracy: 0.8114 - lr: 0.0010 - 11s/epoch - 182ms/step
Epoch 73/100
59/59 - 11s - loss: 0.0163 - accuracy: 0.8882 - val_loss: 0.0307 - val_accuracy: 0.8039 - lr: 0.0010 - 11s/epoch - 188ms/step
Epoch 74/100
59/59 - 11s - loss: 0.0160 - accuracy: 0.8911 - val_loss: 0.0305 - val_accuracy: 0.8050 - lr: 0.0010 - 11s/epoch - 187ms/step
Epoch 75/100
59/59 - 11s - loss: 0.0159 - accuracy: 0.8901 - val_loss: 0.0287 - val_accuracy: 0.8207 - lr: 0.0010 - 11s/epoch - 182ms/step
Epoch 76/100
59/59 - 11s - loss: 0.0166 - accuracy: 0.8870 - val_loss: 0.0314 - val_accuracy: 0.7992 - lr: 0.0010 - 11s/epoch - 181ms/step
Epoch 77/100
59/59 - 11s - loss: 0.0161 - accuracy: 0.8896 - val_loss: 0.0334 - val_accuracy: 0.7899 - lr: 0.0010 - 11s/epoch - 184ms/step
Epoch 78/100
59/59 - 11s - loss: 0.0164 - accuracy: 0.8870 - val_loss: 0.0304 - val_accuracy: 0.8093 - lr: 0.0010 - 11s/epoch - 188ms/step
Epoch 79/100
59/59 - 11s - loss: 0.0164 - accuracy: 0.8872 - val_loss: 0.0254 - val_accuracy: 0.8398 - lr: 0.0010 - 11s/epoch - 182ms/step
Epoch 80/100
59/59 - 11s - loss: 0.0162 - accuracy: 0.8898 - val_loss: 0.0285 - val_accuracy: 0.8195 - lr: 0.0010 - 11s/epoch - 180ms/step
Epoch 81/100
59/59 - 10s - loss: 0.0162 - accuracy: 0.8886 - val_loss: 0.0328 - val_accuracy: 0.7906 - lr: 0.0010 - 10s/epoch - 172ms/step
Epoch 82/100
59/59 - 10s - loss: 0.0167 - accuracy: 0.8859 - val_loss: 0.0328 - val_accuracy: 0.7877 - lr: 0.0010 - 10s/epoch - 176ms/step
Epoch 83/100
59/59 - 11s - loss: 0.0163 - accuracy: 0.8879 - val_loss: 0.0291 - val_accuracy: 0.8199 - lr: 0.0010 - 11s/epoch - 187ms/step
Epoch 84/100
59/59 - 10s - loss: 0.0158 - accuracy: 0.8916 - val_loss: 0.0302 - val_accuracy: 0.8096 - lr: 0.0010 - 10s/epoch - 175ms/step
Epoch 85/100
59/59 - 10s - loss: 0.0169 - accuracy: 0.8835 - val_loss: 0.0271 - val_accuracy: 0.8266 - lr: 0.0010 - 10s/epoch - 166ms/step
Epoch 86/100
59/59 - 10s - loss: 0.0158 - accuracy: 0.8920 - val_loss: 0.0283 - val_accuracy: 0.8224 - lr: 0.0010 - 10s/epoch - 171ms/step
Epoch 87/100
59/59 - 10s - loss: 0.0158 - accuracy: 0.8916 - val_loss: 0.0310 - val_accuracy: 0.8032 - lr: 0.0010 - 10s/epoch - 174ms/step
Epoch 88/100
59/59 - 10s - loss: 0.0158 - accuracy: 0.8920 - val_loss: 0.0326 - val_accuracy: 0.7944 - lr: 0.0010 - 10s/epoch - 173ms/step
Epoch 89/100
59/59 - 10s - loss: 0.0160 - accuracy: 0.8899 - val_loss: 0.0290 - val_accuracy: 0.8189 - lr: 0.0010 - 10s/epoch - 174ms/step
Epoch 90/100
59/59 - 10s - loss: 0.0159 - accuracy: 0.8905 - val_loss: 0.0292 - val_accuracy: 0.8176 - lr: 0.0010 - 10s/epoch - 174ms/step
Epoch 91/100
59/59 - 11s - loss: 0.0160 - accuracy: 0.8900 - val_loss: 0.0281 - val_accuracy: 0.8279 - lr: 0.0010 - 11s/epoch - 183ms/step
Epoch 92/100
59/59 - 10s - loss: 0.0161 - accuracy: 0.8903 - val_loss: 0.0294 - val_accuracy: 0.8159 - lr: 0.0010 - 10s/epoch - 176ms/step
Epoch 93/100
59/59 - 10s - loss: 0.0166 - accuracy: 0.8858 - val_loss: 0.0290 - val_accuracy: 0.8173 - lr: 0.0010 - 10s/epoch - 173ms/step
Epoch 94/100
59/59 - 10s - loss: 0.0158 - accuracy: 0.8928 - val_loss: 0.0289 - val_accuracy: 0.8200 - lr: 0.0010 - 10s/epoch - 177ms/step
Epoch 95/100
59/59 - 10s - loss: 0.0158 - accuracy: 0.8919 - val_loss: 0.0294 - val_accuracy: 0.8190 - lr: 0.0010 - 10s/epoch - 176ms/step
Epoch 96/100
59/59 - 11s - loss: 0.0159 - accuracy: 0.8910 - val_loss: 0.0276 - val_accuracy: 0.8243 - lr: 0.0010 - 11s/epoch - 182ms/step
Epoch 97/100
59/59 - 11s - loss: 0.0163 - accuracy: 0.8884 - val_loss: 0.0264 - val_accuracy: 0.8361 - lr: 0.0010 - 11s/epoch - 182ms/step
Epoch 98/100
59/59 - 10s - loss: 0.0164 - accuracy: 0.8874 - val_loss: 0.0293 - val_accuracy: 0.8179 - lr: 0.0010 - 10s/epoch - 176ms/step
Epoch 99/100
59/59 - 11s - loss: 0.0153 - accuracy: 0.8947 - val_loss: 0.0304 - val_accuracy: 0.8135 - lr: 0.0010 - 11s/epoch - 180ms/step
Epoch 100/100
59/59 - 11s - loss: 0.0162 - accuracy: 0.8890 - val_loss: 0.0287 - val_accuracy: 0.8198 - lr: 0.0010 - 11s/epoch - 185ms/step
fitting with batch size: 2500
Epoch 1/100
36/36 - 16s - loss: 0.0148 - accuracy: 0.8993 - val_loss: 0.0310 - val_accuracy: 0.8030 - lr: 0.0010 - 16s/epoch - 433ms/step
Epoch 2/100
36/36 - 11s - loss: 0.0163 - accuracy: 0.8884 - val_loss: 0.0242 - val_accuracy: 0.8477 - lr: 0.0010 - 11s/epoch - 302ms/step
Epoch 3/100
36/36 - 11s - loss: 0.0189 - accuracy: 0.8699 - val_loss: 0.0281 - val_accuracy: 0.8265 - lr: 0.0010 - 11s/epoch - 299ms/step
Epoch 4/100
36/36 - 10s - loss: 0.0151 - accuracy: 0.8968 - val_loss: 0.0308 - val_accuracy: 0.8079 - lr: 0.0010 - 10s/epoch - 286ms/step
Epoch 5/100
36/36 - 11s - loss: 0.0178 - accuracy: 0.8786 - val_loss: 0.0335 - val_accuracy: 0.7866 - lr: 0.0010 - 11s/epoch - 297ms/step
Epoch 6/100
36/36 - 11s - loss: 0.0161 - accuracy: 0.8896 - val_loss: 0.0274 - val_accuracy: 0.8298 - lr: 0.0010 - 11s/epoch - 300ms/step
Epoch 7/100
36/36 - 11s - loss: 0.0172 - accuracy: 0.8821 - val_loss: 0.0295 - val_accuracy: 0.8103 - lr: 0.0010 - 11s/epoch - 303ms/step
Epoch 8/100
36/36 - 10s - loss: 0.0218 - accuracy: 0.8494 - val_loss: 0.0296 - val_accuracy: 0.8176 - lr: 0.0010 - 10s/epoch - 280ms/step
Epoch 9/100
36/36 - 10s - loss: 0.0160 - accuracy: 0.8900 - val_loss: 0.0289 - val_accuracy: 0.8196 - lr: 0.0010 - 10s/epoch - 285ms/step
Epoch 10/100
36/36 - 10s - loss: 0.0154 - accuracy: 0.8950 - val_loss: 0.0287 - val_accuracy: 0.8192 - lr: 0.0010 - 10s/epoch - 291ms/step
Epoch 11/100
36/36 - 10s - loss: 0.0157 - accuracy: 0.8923 - val_loss: 0.0283 - val_accuracy: 0.8261 - lr: 0.0010 - 10s/epoch - 277ms/step
Epoch 12/100
36/36 - 10s - loss: 0.0141 - accuracy: 0.9047 - val_loss: 0.0310 - val_accuracy: 0.8092 - lr: 0.0010 - 10s/epoch - 273ms/step
Epoch 13/100
36/36 - 11s - loss: 0.0167 - accuracy: 0.8856 - val_loss: 0.0287 - val_accuracy: 0.8225 - lr: 0.0010 - 11s/epoch - 298ms/step
Epoch 14/100
36/36 - 10s - loss: 0.0134 - accuracy: 0.9096 - val_loss: 0.0264 - val_accuracy: 0.8366 - lr: 0.0010 - 10s/epoch - 289ms/step
Epoch 15/100
36/36 - 10s - loss: 0.0178 - accuracy: 0.8780 - val_loss: 0.0255 - val_accuracy: 0.8400 - lr: 0.0010 - 10s/epoch - 288ms/step
Epoch 16/100
36/36 - 10s - loss: 0.0162 - accuracy: 0.8884 - val_loss: 0.0285 - val_accuracy: 0.8243 - lr: 0.0010 - 10s/epoch - 290ms/step
Epoch 17/100
36/36 - 10s - loss: 0.0146 - accuracy: 0.9011 - val_loss: 0.0290 - val_accuracy: 0.8169 - lr: 0.0010 - 10s/epoch - 291ms/step
Epoch 18/100
36/36 - 10s - loss: 0.0167 - accuracy: 0.8853 - val_loss: 0.0278 - val_accuracy: 0.8260 - lr: 0.0010 - 10s/epoch - 290ms/step
Epoch 19/100
36/36 - 11s - loss: 0.0164 - accuracy: 0.8865 - val_loss: 0.0302 - val_accuracy: 0.8084 - lr: 0.0010 - 11s/epoch - 293ms/step
Epoch 20/100
36/36 - 10s - loss: 0.0176 - accuracy: 0.8786 - val_loss: 0.0293 - val_accuracy: 0.8174 - lr: 0.0010 - 10s/epoch - 291ms/step
Epoch 21/100
36/36 - 11s - loss: 0.0137 - accuracy: 0.9071 - val_loss: 0.0284 - val_accuracy: 0.8262 - lr: 0.0010 - 11s/epoch - 304ms/step
Epoch 22/100
36/36 - 11s - loss: 0.0165 - accuracy: 0.8868 - val_loss: 0.0302 - val_accuracy: 0.8089 - lr: 0.0010 - 11s/epoch - 295ms/step
Epoch 23/100
36/36 - 10s - loss: 0.0149 - accuracy: 0.8989 - val_loss: 0.0300 - val_accuracy: 0.8118 - lr: 0.0010 - 10s/epoch - 291ms/step
Epoch 24/100
36/36 - 10s - loss: 0.0163 - accuracy: 0.8885 - val_loss: 0.0303 - val_accuracy: 0.8124 - lr: 0.0010 - 10s/epoch - 279ms/step
Epoch 25/100
36/36 - 10s - loss: 0.0184 - accuracy: 0.8737 - val_loss: 0.0295 - val_accuracy: 0.8112 - lr: 0.0010 - 10s/epoch - 285ms/step
Epoch 26/100
36/36 - 10s - loss: 0.0154 - accuracy: 0.8951 - val_loss: 0.0292 - val_accuracy: 0.8128 - lr: 0.0010 - 10s/epoch - 281ms/step
Epoch 27/100
36/36 - 10s - loss: 0.0143 - accuracy: 0.9033 - val_loss: 0.0314 - val_accuracy: 0.8028 - lr: 0.0010 - 10s/epoch - 278ms/step
Epoch 28/100
36/36 - 11s - loss: 0.0138 - accuracy: 0.9069 - val_loss: 0.0309 - val_accuracy: 0.8062 - lr: 0.0010 - 11s/epoch - 294ms/step
Epoch 29/100
36/36 - 10s - loss: 0.0146 - accuracy: 0.9005 - val_loss: 0.0306 - val_accuracy: 0.8060 - lr: 0.0010 - 10s/epoch - 290ms/step
Epoch 30/100
36/36 - 10s - loss: 0.0146 - accuracy: 0.9012 - val_loss: 0.0291 - val_accuracy: 0.8164 - lr: 0.0010 - 10s/epoch - 287ms/step
Epoch 31/100
36/36 - 11s - loss: 0.0172 - accuracy: 0.8826 - val_loss: 0.0275 - val_accuracy: 0.8290 - lr: 0.0010 - 11s/epoch - 292ms/step
Epoch 32/100
36/36 - 11s - loss: 0.0139 - accuracy: 0.9060 - val_loss: 0.0278 - val_accuracy: 0.8256 - lr: 0.0010 - 11s/epoch - 298ms/step
Epoch 33/100
36/36 - 11s - loss: 0.0209 - accuracy: 0.8575 - val_loss: 0.0292 - val_accuracy: 0.8157 - lr: 0.0010 - 11s/epoch - 293ms/step
Epoch 34/100
36/36 - 10s - loss: 0.0164 - accuracy: 0.8883 - val_loss: 0.0271 - val_accuracy: 0.8306 - lr: 0.0010 - 10s/epoch - 290ms/step
Epoch 35/100
36/36 - 11s - loss: 0.0140 - accuracy: 0.9056 - val_loss: 0.0290 - val_accuracy: 0.8172 - lr: 0.0010 - 11s/epoch - 294ms/step
Epoch 36/100
36/36 - 10s - loss: 0.0173 - accuracy: 0.8816 - val_loss: 0.0304 - val_accuracy: 0.8070 - lr: 0.0010 - 10s/epoch - 287ms/step
Epoch 37/100
36/36 - 10s - loss: 0.0165 - accuracy: 0.8863 - val_loss: 0.0307 - val_accuracy: 0.8048 - lr: 0.0010 - 10s/epoch - 272ms/step
Epoch 38/100
36/36 - 10s - loss: 0.0155 - accuracy: 0.8937 - val_loss: 0.0312 - val_accuracy: 0.8044 - lr: 0.0010 - 10s/epoch - 290ms/step
Epoch 39/100
36/36 - 11s - loss: 0.0186 - accuracy: 0.8728 - val_loss: 0.0266 - val_accuracy: 0.8291 - lr: 0.0010 - 11s/epoch - 296ms/step
Epoch 40/100
36/36 - 11s - loss: 0.0185 - accuracy: 0.8725 - val_loss: 0.0286 - val_accuracy: 0.8191 - lr: 0.0010 - 11s/epoch - 297ms/step
Epoch 41/100
36/36 - 11s - loss: 0.0155 - accuracy: 0.8943 - val_loss: 0.0282 - val_accuracy: 0.8245 - lr: 0.0010 - 11s/epoch - 297ms/step
Epoch 42/100
36/36 - 10s - loss: 0.0156 - accuracy: 0.8938 - val_loss: 0.0275 - val_accuracy: 0.8267 - lr: 0.0010 - 10s/epoch - 290ms/step
Epoch 43/100
36/36 - 10s - loss: 0.0164 - accuracy: 0.8876 - val_loss: 0.0264 - val_accuracy: 0.8354 - lr: 0.0010 - 10s/epoch - 278ms/step
Epoch 44/100
36/36 - 10s - loss: 0.0191 - accuracy: 0.8691 - val_loss: 0.0293 - val_accuracy: 0.8144 - lr: 0.0010 - 10s/epoch - 284ms/step
Epoch 45/100
36/36 - 10s - loss: 0.0178 - accuracy: 0.8777 - val_loss: 0.0298 - val_accuracy: 0.8070 - lr: 0.0010 - 10s/epoch - 284ms/step
Epoch 46/100
36/36 - 10s - loss: 0.0182 - accuracy: 0.8755 - val_loss: 0.0284 - val_accuracy: 0.8202 - lr: 0.0010 - 10s/epoch - 284ms/step
Epoch 47/100
36/36 - 10s - loss: 0.0184 - accuracy: 0.8736 - val_loss: 0.0304 - val_accuracy: 0.8046 - lr: 0.0010 - 10s/epoch - 289ms/step
Epoch 48/100
36/36 - 11s - loss: 0.0148 - accuracy: 0.8994 - val_loss: 0.0319 - val_accuracy: 0.7946 - lr: 0.0010 - 11s/epoch - 299ms/step
Epoch 49/100
36/36 - 11s - loss: 0.0171 - accuracy: 0.8829 - val_loss: 0.0284 - val_accuracy: 0.8192 - lr: 0.0010 - 11s/epoch - 292ms/step
Epoch 50/100
36/36 - 11s - loss: 0.0152 - accuracy: 0.8958 - val_loss: 0.0292 - val_accuracy: 0.8127 - lr: 0.0010 - 11s/epoch - 307ms/step
Epoch 51/100
36/36 - 11s - loss: 0.0157 - accuracy: 0.8931 - val_loss: 0.0287 - val_accuracy: 0.8184 - lr: 0.0010 - 11s/epoch - 302ms/step
Epoch 52/100
36/36 - 11s - loss: 0.0143 - accuracy: 0.9025 - val_loss: 0.0285 - val_accuracy: 0.8196 - lr: 0.0010 - 11s/epoch - 306ms/step
Epoch 53/100
36/36 - 11s - loss: 0.0163 - accuracy: 0.8894 - val_loss: 0.0283 - val_accuracy: 0.8236 - lr: 0.0010 - 11s/epoch - 298ms/step
Epoch 54/100
36/36 - 11s - loss: 0.0154 - accuracy: 0.8951 - val_loss: 0.0303 - val_accuracy: 0.8075 - lr: 0.0010 - 11s/epoch - 311ms/step
Epoch 55/100
36/36 - 11s - loss: 0.0175 - accuracy: 0.8805 - val_loss: 0.0286 - val_accuracy: 0.8195 - lr: 0.0010 - 11s/epoch - 313ms/step
Epoch 56/100
36/36 - 11s - loss: 0.0151 - accuracy: 0.8972 - val_loss: 0.0301 - val_accuracy: 0.8108 - lr: 0.0010 - 11s/epoch - 296ms/step
Epoch 57/100
36/36 - 11s - loss: 0.0161 - accuracy: 0.8897 - val_loss: 0.0264 - val_accuracy: 0.8350 - lr: 0.0010 - 11s/epoch - 293ms/step
Epoch 58/100
36/36 - 11s - loss: 0.0169 - accuracy: 0.8846 - val_loss: 0.0300 - val_accuracy: 0.8049 - lr: 0.0010 - 11s/epoch - 301ms/step
Epoch 59/100
36/36 - 11s - loss: 0.0163 - accuracy: 0.8884 - val_loss: 0.0294 - val_accuracy: 0.8190 - lr: 0.0010 - 11s/epoch - 294ms/step
Epoch 60/100
36/36 - 11s - loss: 0.0163 - accuracy: 0.8889 - val_loss: 0.0309 - val_accuracy: 0.8032 - lr: 0.0010 - 11s/epoch - 296ms/step
Epoch 61/100
36/36 - 11s - loss: 0.0176 - accuracy: 0.8803 - val_loss: 0.0276 - val_accuracy: 0.8247 - lr: 0.0010 - 11s/epoch - 296ms/step
Epoch 62/100
36/36 - 11s - loss: 0.0169 - accuracy: 0.8843 - val_loss: 0.0293 - val_accuracy: 0.8131 - lr: 0.0010 - 11s/epoch - 298ms/step
Epoch 63/100
36/36 - 11s - loss: 0.0177 - accuracy: 0.8791 - val_loss: 0.0293 - val_accuracy: 0.8135 - lr: 0.0010 - 11s/epoch - 295ms/step
Epoch 64/100
36/36 - 11s - loss: 0.0150 - accuracy: 0.8981 - val_loss: 0.0310 - val_accuracy: 0.7995 - lr: 0.0010 - 11s/epoch - 297ms/step
Epoch 65/100
36/36 - 11s - loss: 0.0159 - accuracy: 0.8920 - val_loss: 0.0284 - val_accuracy: 0.8242 - lr: 0.0010 - 11s/epoch - 301ms/step
Epoch 66/100
36/36 - 11s - loss: 0.0203 - accuracy: 0.8598 - val_loss: 0.0308 - val_accuracy: 0.8047 - lr: 0.0010 - 11s/epoch - 302ms/step
Epoch 67/100
36/36 - 10s - loss: 0.0154 - accuracy: 0.8954 - val_loss: 0.0285 - val_accuracy: 0.8177 - lr: 0.0010 - 10s/epoch - 283ms/step
Epoch 68/100
36/36 - 11s - loss: 0.0142 - accuracy: 0.9037 - val_loss: 0.0293 - val_accuracy: 0.8151 - lr: 0.0010 - 11s/epoch - 300ms/step
Epoch 69/100
36/36 - 11s - loss: 0.0141 - accuracy: 0.9038 - val_loss: 0.0270 - val_accuracy: 0.8299 - lr: 0.0010 - 11s/epoch - 298ms/step
Epoch 70/100
36/36 - 11s - loss: 0.0155 - accuracy: 0.8939 - val_loss: 0.0266 - val_accuracy: 0.8354 - lr: 0.0010 - 11s/epoch - 294ms/step
Epoch 71/100
36/36 - 11s - loss: 0.0168 - accuracy: 0.8849 - val_loss: 0.0274 - val_accuracy: 0.8292 - lr: 0.0010 - 11s/epoch - 295ms/step
Epoch 72/100
36/36 - 11s - loss: 0.0181 - accuracy: 0.8751 - val_loss: 0.0265 - val_accuracy: 0.8347 - lr: 0.0010 - 11s/epoch - 296ms/step
Epoch 73/100
36/36 - 11s - loss: 0.0149 - accuracy: 0.8983 - val_loss: 0.0275 - val_accuracy: 0.8271 - lr: 0.0010 - 11s/epoch - 296ms/step
Epoch 74/100
36/36 - 10s - loss: 0.0141 - accuracy: 0.9048 - val_loss: 0.0296 - val_accuracy: 0.8084 - lr: 0.0010 - 10s/epoch - 292ms/step
Epoch 75/100
36/36 - 10s - loss: 0.0143 - accuracy: 0.9026 - val_loss: 0.0282 - val_accuracy: 0.8219 - lr: 0.0010 - 10s/epoch - 284ms/step
Epoch 76/100
36/36 - 10s - loss: 0.0184 - accuracy: 0.8740 - val_loss: 0.0290 - val_accuracy: 0.8180 - lr: 0.0010 - 10s/epoch - 285ms/step
Epoch 77/100
36/36 - 10s - loss: 0.0172 - accuracy: 0.8829 - val_loss: 0.0314 - val_accuracy: 0.7981 - lr: 0.0010 - 10s/epoch - 284ms/step
Epoch 78/100
36/36 - 10s - loss: 0.0236 - accuracy: 0.8381 - val_loss: 0.0277 - val_accuracy: 0.8249 - lr: 0.0010 - 10s/epoch - 288ms/step
Epoch 79/100
36/36 - 10s - loss: 0.0172 - accuracy: 0.8819 - val_loss: 0.0288 - val_accuracy: 0.8203 - lr: 0.0010 - 10s/epoch - 281ms/step
Epoch 80/100
36/36 - 11s - loss: 0.0155 - accuracy: 0.8947 - val_loss: 0.0324 - val_accuracy: 0.7917 - lr: 0.0010 - 11s/epoch - 307ms/step
Epoch 81/100
36/36 - 11s - loss: 0.0203 - accuracy: 0.8612 - val_loss: 0.0289 - val_accuracy: 0.8212 - lr: 0.0010 - 11s/epoch - 295ms/step
Epoch 82/100
36/36 - 10s - loss: 0.0163 - accuracy: 0.8876 - val_loss: 0.0267 - val_accuracy: 0.8327 - lr: 0.0010 - 10s/epoch - 282ms/step
Epoch 83/100
36/36 - 10s - loss: 0.0162 - accuracy: 0.8891 - val_loss: 0.0303 - val_accuracy: 0.8105 - lr: 0.0010 - 10s/epoch - 281ms/step
Epoch 84/100
36/36 - 10s - loss: 0.0160 - accuracy: 0.8907 - val_loss: 0.0287 - val_accuracy: 0.8199 - lr: 0.0010 - 10s/epoch - 280ms/step
Epoch 85/100
36/36 - 10s - loss: 0.0148 - accuracy: 0.8994 - val_loss: 0.0265 - val_accuracy: 0.8356 - lr: 0.0010 - 10s/epoch - 289ms/step
Epoch 86/100
36/36 - 11s - loss: 0.0150 - accuracy: 0.8980 - val_loss: 0.0274 - val_accuracy: 0.8306 - lr: 0.0010 - 11s/epoch - 307ms/step
Epoch 87/100
36/36 - 11s - loss: 0.0158 - accuracy: 0.8926 - val_loss: 0.0294 - val_accuracy: 0.8098 - lr: 0.0010 - 11s/epoch - 309ms/step
Epoch 88/100
36/36 - 11s - loss: 0.0148 - accuracy: 0.8996 - val_loss: 0.0288 - val_accuracy: 0.8204 - lr: 0.0010 - 11s/epoch - 303ms/step
Epoch 89/100
36/36 - 11s - loss: 0.0169 - accuracy: 0.8851 - val_loss: 0.0266 - val_accuracy: 0.8327 - lr: 0.0010 - 11s/epoch - 306ms/step
Epoch 90/100
36/36 - 11s - loss: 0.0138 - accuracy: 0.9064 - val_loss: 0.0294 - val_accuracy: 0.8148 - lr: 0.0010 - 11s/epoch - 306ms/step
Epoch 91/100
36/36 - 11s - loss: 0.0148 - accuracy: 0.8994 - val_loss: 0.0260 - val_accuracy: 0.8400 - lr: 0.0010 - 11s/epoch - 315ms/step
Epoch 92/100
36/36 - 11s - loss: 0.0168 - accuracy: 0.8861 - val_loss: 0.0283 - val_accuracy: 0.8205 - lr: 0.0010 - 11s/epoch - 315ms/step
Epoch 93/100
36/36 - 11s - loss: 0.0183 - accuracy: 0.8745 - val_loss: 0.0292 - val_accuracy: 0.8154 - lr: 0.0010 - 11s/epoch - 310ms/step
Epoch 94/100
36/36 - 11s - loss: 0.0142 - accuracy: 0.9042 - val_loss: 0.0278 - val_accuracy: 0.8288 - lr: 0.0010 - 11s/epoch - 293ms/step
Epoch 95/100
36/36 - 11s - loss: 0.0151 - accuracy: 0.8965 - val_loss: 0.0293 - val_accuracy: 0.8177 - lr: 0.0010 - 11s/epoch - 294ms/step
Epoch 96/100
36/36 - 11s - loss: 0.0142 - accuracy: 0.9039 - val_loss: 0.0287 - val_accuracy: 0.8199 - lr: 0.0010 - 11s/epoch - 304ms/step
Epoch 97/100
36/36 - 11s - loss: 0.0144 - accuracy: 0.9026 - val_loss: 0.0269 - val_accuracy: 0.8311 - lr: 0.0010 - 11s/epoch - 311ms/step
Epoch 98/100
36/36 - 11s - loss: 0.0182 - accuracy: 0.8752 - val_loss: 0.0278 - val_accuracy: 0.8269 - lr: 0.0010 - 11s/epoch - 312ms/step
Epoch 99/100
36/36 - 11s - loss: 0.0197 - accuracy: 0.8653 - val_loss: 0.0289 - val_accuracy: 0.8179 - lr: 0.0010 - 11s/epoch - 301ms/step
Epoch 100/100
36/36 - 11s - loss: 0.0154 - accuracy: 0.8956 - val_loss: 0.0249 - val_accuracy: 0.8451 - lr: 0.0010 - 11s/epoch - 307ms/step
Loss: kullback_leibler_divergence
Epoch number: 75
fitting with batch size: 1500
Epoch 1/75
59/59 - 14s - loss: 0.4289 - accuracy: 0.8507 - val_loss: 0.5014 - val_accuracy: 0.8465 - lr: 0.0010 - 14s/epoch - 239ms/step
Epoch 2/75
59/59 - 11s - loss: 0.3378 - accuracy: 0.8846 - val_loss: 0.5639 - val_accuracy: 0.8191 - lr: 0.0010 - 11s/epoch - 185ms/step
Epoch 3/75
59/59 - 11s - loss: 0.3285 - accuracy: 0.8864 - val_loss: 0.5545 - val_accuracy: 0.8270 - lr: 0.0010 - 11s/epoch - 181ms/step
Epoch 4/75
59/59 - 11s - loss: 0.3133 - accuracy: 0.8936 - val_loss: 0.5579 - val_accuracy: 0.8278 - lr: 0.0010 - 11s/epoch - 186ms/step
Epoch 5/75
59/59 - 11s - loss: 0.3012 - accuracy: 0.8979 - val_loss: 0.5542 - val_accuracy: 0.8328 - lr: 0.0010 - 11s/epoch - 184ms/step
Epoch 6/75
59/59 - 11s - loss: 0.3058 - accuracy: 0.8953 - val_loss: 0.6030 - val_accuracy: 0.8162 - lr: 0.0010 - 11s/epoch - 195ms/step
Epoch 7/75
59/59 - 11s - loss: 0.2929 - accuracy: 0.9001 - val_loss: 0.5815 - val_accuracy: 0.8237 - lr: 0.0010 - 11s/epoch - 194ms/step
Epoch 8/75
59/59 - 12s - loss: 0.3057 - accuracy: 0.8934 - val_loss: 0.6550 - val_accuracy: 0.8019 - lr: 0.0010 - 12s/epoch - 200ms/step
Epoch 9/75
59/59 - 12s - loss: 0.3004 - accuracy: 0.8963 - val_loss: 0.5562 - val_accuracy: 0.8325 - lr: 0.0010 - 12s/epoch - 198ms/step
Epoch 10/75
59/59 - 10s - loss: 0.3049 - accuracy: 0.8941 - val_loss: 0.5503 - val_accuracy: 0.8290 - lr: 0.0010 - 10s/epoch - 177ms/step
Epoch 11/75
59/59 - 11s - loss: 0.2876 - accuracy: 0.9011 - val_loss: 0.6182 - val_accuracy: 0.8107 - lr: 0.0010 - 11s/epoch - 185ms/step
Epoch 12/75
59/59 - 10s - loss: 0.2925 - accuracy: 0.8980 - val_loss: 0.6343 - val_accuracy: 0.8054 - lr: 0.0010 - 10s/epoch - 169ms/step
Epoch 13/75
59/59 - 11s - loss: 0.2973 - accuracy: 0.8968 - val_loss: 0.5986 - val_accuracy: 0.8116 - lr: 0.0010 - 11s/epoch - 179ms/step
Epoch 14/75
59/59 - 10s - loss: 0.2886 - accuracy: 0.9001 - val_loss: 0.6116 - val_accuracy: 0.8121 - lr: 0.0010 - 10s/epoch - 177ms/step
Epoch 15/75
59/59 - 10s - loss: 0.2823 - accuracy: 0.9027 - val_loss: 0.6084 - val_accuracy: 0.8178 - lr: 0.0010 - 10s/epoch - 169ms/step
Epoch 16/75
59/59 - 11s - loss: 0.2924 - accuracy: 0.8986 - val_loss: 0.5978 - val_accuracy: 0.8181 - lr: 0.0010 - 11s/epoch - 193ms/step
Epoch 17/75
59/59 - 11s - loss: 0.2954 - accuracy: 0.8970 - val_loss: 0.6210 - val_accuracy: 0.8108 - lr: 0.0010 - 11s/epoch - 192ms/step
Epoch 18/75
59/59 - 11s - loss: 0.2902 - accuracy: 0.8988 - val_loss: 0.6580 - val_accuracy: 0.7957 - lr: 0.0010 - 11s/epoch - 194ms/step
Epoch 19/75
59/59 - 11s - loss: 0.2817 - accuracy: 0.9011 - val_loss: 0.5891 - val_accuracy: 0.8229 - lr: 0.0010 - 11s/epoch - 194ms/step
Epoch 20/75
59/59 - 12s - loss: 0.2863 - accuracy: 0.8983 - val_loss: 0.5964 - val_accuracy: 0.8193 - lr: 0.0010 - 12s/epoch - 195ms/step
Epoch 21/75
59/59 - 11s - loss: 0.2847 - accuracy: 0.8996 - val_loss: 0.6144 - val_accuracy: 0.8128 - lr: 0.0010 - 11s/epoch - 194ms/step
Epoch 22/75
59/59 - 12s - loss: 0.2797 - accuracy: 0.9017 - val_loss: 0.5549 - val_accuracy: 0.8293 - lr: 0.0010 - 12s/epoch - 195ms/step
Epoch 23/75
59/59 - 11s - loss: 0.2865 - accuracy: 0.9001 - val_loss: 0.6138 - val_accuracy: 0.8118 - lr: 0.0010 - 11s/epoch - 187ms/step
Epoch 24/75
59/59 - 11s - loss: 0.2857 - accuracy: 0.8995 - val_loss: 0.5839 - val_accuracy: 0.8226 - lr: 0.0010 - 11s/epoch - 183ms/step
Epoch 25/75
59/59 - 11s - loss: 0.2874 - accuracy: 0.8981 - val_loss: 0.6332 - val_accuracy: 0.8110 - lr: 0.0010 - 11s/epoch - 184ms/step
Epoch 26/75
59/59 - 11s - loss: 0.2861 - accuracy: 0.8994 - val_loss: 0.6436 - val_accuracy: 0.8005 - lr: 0.0010 - 11s/epoch - 185ms/step
Epoch 27/75
59/59 - 11s - loss: 0.2801 - accuracy: 0.9008 - val_loss: 0.6796 - val_accuracy: 0.8020 - lr: 0.0010 - 11s/epoch - 185ms/step
Epoch 28/75
59/59 - 11s - loss: 0.2837 - accuracy: 0.8989 - val_loss: 0.7161 - val_accuracy: 0.7841 - lr: 0.0010 - 11s/epoch - 193ms/step
Epoch 29/75
59/59 - 11s - loss: 0.2840 - accuracy: 0.8994 - val_loss: 0.6749 - val_accuracy: 0.8039 - lr: 0.0010 - 11s/epoch - 195ms/step
Epoch 30/75
59/59 - 11s - loss: 0.2894 - accuracy: 0.8968 - val_loss: 0.6291 - val_accuracy: 0.8106 - lr: 0.0010 - 11s/epoch - 190ms/step
Epoch 31/75
59/59 - 11s - loss: 0.2830 - accuracy: 0.8993 - val_loss: 0.6678 - val_accuracy: 0.8012 - lr: 0.0010 - 11s/epoch - 194ms/step
Epoch 32/75
59/59 - 11s - loss: 0.2763 - accuracy: 0.9013 - val_loss: 0.6241 - val_accuracy: 0.8129 - lr: 0.0010 - 11s/epoch - 194ms/step
Epoch 33/75
59/59 - 11s - loss: 0.2787 - accuracy: 0.9003 - val_loss: 0.6369 - val_accuracy: 0.8069 - lr: 0.0010 - 11s/epoch - 182ms/step
Epoch 34/75
59/59 - 11s - loss: 0.2810 - accuracy: 0.8998 - val_loss: 0.6161 - val_accuracy: 0.8164 - lr: 0.0010 - 11s/epoch - 178ms/step
Epoch 35/75
59/59 - 11s - loss: 0.2923 - accuracy: 0.8963 - val_loss: 0.6350 - val_accuracy: 0.8002 - lr: 0.0010 - 11s/epoch - 186ms/step
Epoch 36/75
59/59 - 11s - loss: 0.2763 - accuracy: 0.9020 - val_loss: 0.6714 - val_accuracy: 0.7996 - lr: 0.0010 - 11s/epoch - 190ms/step
Epoch 37/75
59/59 - 11s - loss: 0.2825 - accuracy: 0.8985 - val_loss: 0.6067 - val_accuracy: 0.8106 - lr: 0.0010 - 11s/epoch - 187ms/step
Epoch 38/75
59/59 - 11s - loss: 0.2764 - accuracy: 0.9013 - val_loss: 0.6828 - val_accuracy: 0.7937 - lr: 0.0010 - 11s/epoch - 194ms/step
Epoch 39/75
59/59 - 11s - loss: 0.2805 - accuracy: 0.9003 - val_loss: 0.6407 - val_accuracy: 0.8110 - lr: 0.0010 - 11s/epoch - 194ms/step
Epoch 40/75
59/59 - 11s - loss: 0.2872 - accuracy: 0.8969 - val_loss: 0.6628 - val_accuracy: 0.7889 - lr: 0.0010 - 11s/epoch - 188ms/step
Epoch 41/75
59/59 - 11s - loss: 0.2799 - accuracy: 0.9010 - val_loss: 0.5950 - val_accuracy: 0.8118 - lr: 0.0010 - 11s/epoch - 181ms/step
Epoch 42/75
59/59 - 11s - loss: 0.2766 - accuracy: 0.9020 - val_loss: 0.6104 - val_accuracy: 0.8159 - lr: 0.0010 - 11s/epoch - 184ms/step
Epoch 43/75
59/59 - 11s - loss: 0.2770 - accuracy: 0.9004 - val_loss: 0.6466 - val_accuracy: 0.8033 - lr: 0.0010 - 11s/epoch - 181ms/step
Epoch 44/75
59/59 - 11s - loss: 0.2763 - accuracy: 0.9007 - val_loss: 0.6532 - val_accuracy: 0.8010 - lr: 0.0010 - 11s/epoch - 193ms/step
Epoch 45/75
59/59 - 12s - loss: 0.2793 - accuracy: 0.9000 - val_loss: 0.6656 - val_accuracy: 0.7996 - lr: 0.0010 - 12s/epoch - 200ms/step
Epoch 46/75
59/59 - 12s - loss: 0.2707 - accuracy: 0.9033 - val_loss: 0.6165 - val_accuracy: 0.8187 - lr: 0.0010 - 12s/epoch - 196ms/step
Epoch 47/75
59/59 - 12s - loss: 0.2808 - accuracy: 0.8992 - val_loss: 0.5973 - val_accuracy: 0.8249 - lr: 0.0010 - 12s/epoch - 195ms/step
Epoch 48/75
59/59 - 11s - loss: 0.2760 - accuracy: 0.9010 - val_loss: 0.6524 - val_accuracy: 0.8082 - lr: 0.0010 - 11s/epoch - 194ms/step
Epoch 49/75
59/59 - 11s - loss: 0.2818 - accuracy: 0.8991 - val_loss: 0.6419 - val_accuracy: 0.8052 - lr: 0.0010 - 11s/epoch - 183ms/step
Epoch 50/75
59/59 - 11s - loss: 0.2676 - accuracy: 0.9038 - val_loss: 0.6141 - val_accuracy: 0.8156 - lr: 0.0010 - 11s/epoch - 183ms/step
Epoch 51/75
59/59 - 10s - loss: 0.2841 - accuracy: 0.8983 - val_loss: 0.6349 - val_accuracy: 0.8025 - lr: 0.0010 - 10s/epoch - 176ms/step
Epoch 52/75
59/59 - 10s - loss: 0.2836 - accuracy: 0.8971 - val_loss: 0.6320 - val_accuracy: 0.8043 - lr: 0.0010 - 10s/epoch - 168ms/step
Epoch 53/75
59/59 - 11s - loss: 0.2761 - accuracy: 0.9007 - val_loss: 0.5695 - val_accuracy: 0.8317 - lr: 0.0010 - 11s/epoch - 185ms/step
Epoch 54/75
59/59 - 11s - loss: 0.2748 - accuracy: 0.9014 - val_loss: 0.6164 - val_accuracy: 0.8131 - lr: 0.0010 - 11s/epoch - 189ms/step
Epoch 55/75
59/59 - 11s - loss: 0.2809 - accuracy: 0.8986 - val_loss: 0.6629 - val_accuracy: 0.7998 - lr: 0.0010 - 11s/epoch - 190ms/step
Epoch 56/75
59/59 - 12s - loss: 0.2763 - accuracy: 0.9006 - val_loss: 0.6581 - val_accuracy: 0.8036 - lr: 0.0010 - 12s/epoch - 197ms/step
Epoch 57/75
59/59 - 11s - loss: 0.2706 - accuracy: 0.9029 - val_loss: 0.5822 - val_accuracy: 0.8266 - lr: 0.0010 - 11s/epoch - 194ms/step
Epoch 58/75
59/59 - 11s - loss: 0.2768 - accuracy: 0.9010 - val_loss: 0.6157 - val_accuracy: 0.8131 - lr: 0.0010 - 11s/epoch - 180ms/step
Epoch 59/75
59/59 - 11s - loss: 0.2776 - accuracy: 0.9003 - val_loss: 0.6294 - val_accuracy: 0.8121 - lr: 0.0010 - 11s/epoch - 192ms/step
Epoch 60/75
59/59 - 11s - loss: 0.2744 - accuracy: 0.9017 - val_loss: 0.6790 - val_accuracy: 0.7998 - lr: 0.0010 - 11s/epoch - 181ms/step
Epoch 61/75
59/59 - 11s - loss: 0.2869 - accuracy: 0.8959 - val_loss: 0.6000 - val_accuracy: 0.8207 - lr: 0.0010 - 11s/epoch - 189ms/step
Epoch 62/75
59/59 - 11s - loss: 0.2715 - accuracy: 0.9027 - val_loss: 0.5876 - val_accuracy: 0.8227 - lr: 0.0010 - 11s/epoch - 193ms/step
Epoch 63/75
59/59 - 11s - loss: 0.2744 - accuracy: 0.9008 - val_loss: 0.6557 - val_accuracy: 0.8030 - lr: 0.0010 - 11s/epoch - 192ms/step
Epoch 64/75
59/59 - 11s - loss: 0.2694 - accuracy: 0.9025 - val_loss: 0.6247 - val_accuracy: 0.8062 - lr: 0.0010 - 11s/epoch - 186ms/step
Epoch 65/75
59/59 - 11s - loss: 0.2821 - accuracy: 0.8985 - val_loss: 0.6233 - val_accuracy: 0.8059 - lr: 0.0010 - 11s/epoch - 192ms/step
Epoch 66/75
59/59 - 12s - loss: 0.2708 - accuracy: 0.9033 - val_loss: 0.6040 - val_accuracy: 0.8183 - lr: 0.0010 - 12s/epoch - 197ms/step
Epoch 67/75
59/59 - 12s - loss: 0.2815 - accuracy: 0.8991 - val_loss: 0.5952 - val_accuracy: 0.8190 - lr: 0.0010 - 12s/epoch - 198ms/step
Epoch 68/75
59/59 - 12s - loss: 0.2696 - accuracy: 0.9025 - val_loss: 0.5999 - val_accuracy: 0.8171 - lr: 0.0010 - 12s/epoch - 197ms/step
Epoch 69/75
59/59 - 12s - loss: 0.2719 - accuracy: 0.9013 - val_loss: 0.6223 - val_accuracy: 0.8127 - lr: 0.0010 - 12s/epoch - 199ms/step
Epoch 70/75
59/59 - 12s - loss: 0.2802 - accuracy: 0.8997 - val_loss: 0.5915 - val_accuracy: 0.8158 - lr: 0.0010 - 12s/epoch - 196ms/step
Epoch 71/75
59/59 - 11s - loss: 0.2613 - accuracy: 0.9060 - val_loss: 0.6386 - val_accuracy: 0.8088 - lr: 0.0010 - 11s/epoch - 185ms/step
Epoch 72/75
59/59 - 11s - loss: 0.2806 - accuracy: 0.8976 - val_loss: 0.6421 - val_accuracy: 0.8108 - lr: 0.0010 - 11s/epoch - 185ms/step
Epoch 73/75
59/59 - 11s - loss: 0.2719 - accuracy: 0.9020 - val_loss: 0.6220 - val_accuracy: 0.8120 - lr: 0.0010 - 11s/epoch - 179ms/step
Epoch 74/75
59/59 - 10s - loss: 0.2748 - accuracy: 0.9009 - val_loss: 0.6659 - val_accuracy: 0.8036 - lr: 0.0010 - 10s/epoch - 174ms/step
Epoch 75/75
59/59 - 11s - loss: 0.2696 - accuracy: 0.9024 - val_loss: 0.7007 - val_accuracy: 0.7871 - lr: 0.0010 - 11s/epoch - 180ms/step
fitting with batch size: 2500
Epoch 1/75
36/36 - 14s - loss: 0.2469 - accuracy: 0.9105 - val_loss: 0.5978 - val_accuracy: 0.8212 - lr: 0.0010 - 14s/epoch - 390ms/step
Epoch 2/75
36/36 - 11s - loss: 0.3295 - accuracy: 0.8797 - val_loss: 0.6668 - val_accuracy: 0.7926 - lr: 0.0010 - 11s/epoch - 305ms/step
Epoch 3/75
36/36 - 11s - loss: 0.2620 - accuracy: 0.9051 - val_loss: 0.6565 - val_accuracy: 0.8031 - lr: 0.0010 - 11s/epoch - 307ms/step
Epoch 4/75
36/36 - 11s - loss: 0.2998 - accuracy: 0.8922 - val_loss: 0.5633 - val_accuracy: 0.8322 - lr: 0.0010 - 11s/epoch - 312ms/step
Epoch 5/75
36/36 - 11s - loss: 0.2767 - accuracy: 0.8996 - val_loss: 0.6580 - val_accuracy: 0.8063 - lr: 0.0010 - 11s/epoch - 316ms/step
Epoch 6/75
36/36 - 11s - loss: 0.2926 - accuracy: 0.8941 - val_loss: 0.6364 - val_accuracy: 0.8033 - lr: 0.0010 - 11s/epoch - 305ms/step
Epoch 7/75
36/36 - 11s - loss: 0.2371 - accuracy: 0.9152 - val_loss: 0.6727 - val_accuracy: 0.8054 - lr: 0.0010 - 11s/epoch - 318ms/step
Epoch 8/75
36/36 - 12s - loss: 0.2716 - accuracy: 0.9017 - val_loss: 0.6172 - val_accuracy: 0.8235 - lr: 0.0010 - 12s/epoch - 328ms/step
Epoch 9/75
36/36 - 12s - loss: 0.2781 - accuracy: 0.8992 - val_loss: 0.6614 - val_accuracy: 0.8003 - lr: 0.0010 - 12s/epoch - 325ms/step
Epoch 10/75
36/36 - 12s - loss: 0.3299 - accuracy: 0.8798 - val_loss: 0.6071 - val_accuracy: 0.8187 - lr: 0.0010 - 12s/epoch - 330ms/step
Epoch 11/75
36/36 - 12s - loss: 0.3081 - accuracy: 0.8882 - val_loss: 0.6223 - val_accuracy: 0.8155 - lr: 0.0010 - 12s/epoch - 321ms/step
Epoch 12/75
36/36 - 11s - loss: 0.2729 - accuracy: 0.9008 - val_loss: 0.6327 - val_accuracy: 0.8161 - lr: 0.0010 - 11s/epoch - 313ms/step
Epoch 13/75
36/36 - 11s - loss: 0.2755 - accuracy: 0.8998 - val_loss: 0.6708 - val_accuracy: 0.7948 - lr: 0.0010 - 11s/epoch - 319ms/step
Epoch 14/75
36/36 - 11s - loss: 0.2472 - accuracy: 0.9116 - val_loss: 0.6185 - val_accuracy: 0.8150 - lr: 0.0010 - 11s/epoch - 316ms/step
Epoch 15/75
36/36 - 12s - loss: 0.2545 - accuracy: 0.9076 - val_loss: 0.6094 - val_accuracy: 0.8210 - lr: 0.0010 - 12s/epoch - 329ms/step
Epoch 16/75
36/36 - 12s - loss: 0.2870 - accuracy: 0.8958 - val_loss: 0.5985 - val_accuracy: 0.8217 - lr: 0.0010 - 12s/epoch - 326ms/step
Epoch 17/75
36/36 - 11s - loss: 0.2668 - accuracy: 0.9044 - val_loss: 0.7155 - val_accuracy: 0.7886 - lr: 0.0010 - 11s/epoch - 313ms/step
Epoch 18/75
36/36 - 11s - loss: 0.2592 - accuracy: 0.9066 - val_loss: 0.6127 - val_accuracy: 0.8138 - lr: 0.0010 - 11s/epoch - 309ms/step
Epoch 19/75
36/36 - 12s - loss: 0.2726 - accuracy: 0.9011 - val_loss: 0.7269 - val_accuracy: 0.7840 - lr: 0.0010 - 12s/epoch - 324ms/step
Epoch 20/75
36/36 - 12s - loss: 0.3034 - accuracy: 0.8891 - val_loss: 0.5848 - val_accuracy: 0.8205 - lr: 0.0010 - 12s/epoch - 327ms/step
Epoch 21/75
36/36 - 12s - loss: 0.2619 - accuracy: 0.9055 - val_loss: 0.6715 - val_accuracy: 0.7982 - lr: 0.0010 - 12s/epoch - 326ms/step
Epoch 22/75
36/36 - 12s - loss: 0.2660 - accuracy: 0.9040 - val_loss: 0.6137 - val_accuracy: 0.8168 - lr: 0.0010 - 12s/epoch - 320ms/step
Epoch 23/75
36/36 - 11s - loss: 0.2590 - accuracy: 0.9054 - val_loss: 0.6566 - val_accuracy: 0.8096 - lr: 0.0010 - 11s/epoch - 317ms/step
Epoch 24/75
36/36 - 12s - loss: 0.2692 - accuracy: 0.9019 - val_loss: 0.6366 - val_accuracy: 0.8122 - lr: 0.0010 - 12s/epoch - 324ms/step
Epoch 25/75
36/36 - 12s - loss: 0.3185 - accuracy: 0.8836 - val_loss: 0.6800 - val_accuracy: 0.7874 - lr: 0.0010 - 12s/epoch - 323ms/step
Epoch 26/75
36/36 - 11s - loss: 0.2768 - accuracy: 0.8987 - val_loss: 0.6276 - val_accuracy: 0.8079 - lr: 0.0010 - 11s/epoch - 316ms/step
Epoch 27/75
36/36 - 11s - loss: 0.2983 - accuracy: 0.8905 - val_loss: 0.6052 - val_accuracy: 0.8211 - lr: 0.0010 - 11s/epoch - 307ms/step
Epoch 28/75
36/36 - 12s - loss: 0.2606 - accuracy: 0.9050 - val_loss: 0.6716 - val_accuracy: 0.8040 - lr: 0.0010 - 12s/epoch - 323ms/step
Epoch 29/75
36/36 - 12s - loss: 0.2978 - accuracy: 0.8916 - val_loss: 0.5649 - val_accuracy: 0.8278 - lr: 0.0010 - 12s/epoch - 323ms/step
Epoch 30/75
36/36 - 12s - loss: 0.2800 - accuracy: 0.8985 - val_loss: 0.6129 - val_accuracy: 0.8159 - lr: 0.0010 - 12s/epoch - 323ms/step
Epoch 31/75
36/36 - 12s - loss: 0.2787 - accuracy: 0.8987 - val_loss: 0.6103 - val_accuracy: 0.8184 - lr: 0.0010 - 12s/epoch - 326ms/step
Epoch 32/75
36/36 - 12s - loss: 0.3012 - accuracy: 0.8898 - val_loss: 0.6226 - val_accuracy: 0.8129 - lr: 0.0010 - 12s/epoch - 322ms/step
Epoch 33/75
36/36 - 11s - loss: 0.2667 - accuracy: 0.9028 - val_loss: 0.6755 - val_accuracy: 0.7971 - lr: 0.0010 - 11s/epoch - 311ms/step
Epoch 34/75
36/36 - 11s - loss: 0.2431 - accuracy: 0.9120 - val_loss: 0.6680 - val_accuracy: 0.8030 - lr: 0.0010 - 11s/epoch - 317ms/step
Epoch 35/75
36/36 - 11s - loss: 0.2690 - accuracy: 0.9022 - val_loss: 0.7118 - val_accuracy: 0.7955 - lr: 0.0010 - 11s/epoch - 310ms/step
Epoch 36/75
36/36 - 11s - loss: 0.2708 - accuracy: 0.9015 - val_loss: 0.5810 - val_accuracy: 0.8273 - lr: 0.0010 - 11s/epoch - 316ms/step
Epoch 37/75
36/36 - 11s - loss: 0.2710 - accuracy: 0.9025 - val_loss: 0.6669 - val_accuracy: 0.8034 - lr: 0.0010 - 11s/epoch - 314ms/step
Epoch 38/75
36/36 - 11s - loss: 0.2868 - accuracy: 0.8950 - val_loss: 0.6183 - val_accuracy: 0.8230 - lr: 0.0010 - 11s/epoch - 312ms/step
Epoch 39/75
36/36 - 12s - loss: 0.3455 - accuracy: 0.8734 - val_loss: 0.6145 - val_accuracy: 0.8077 - lr: 0.0010 - 12s/epoch - 322ms/step
Epoch 40/75
36/36 - 12s - loss: 0.2786 - accuracy: 0.8979 - val_loss: 0.7021 - val_accuracy: 0.7895 - lr: 0.0010 - 12s/epoch - 334ms/step
Epoch 41/75
36/36 - 12s - loss: 0.2593 - accuracy: 0.9061 - val_loss: 0.6783 - val_accuracy: 0.7976 - lr: 0.0010 - 12s/epoch - 330ms/step
Epoch 42/75
36/36 - 12s - loss: 0.2566 - accuracy: 0.9071 - val_loss: 0.6363 - val_accuracy: 0.8088 - lr: 0.0010 - 12s/epoch - 323ms/step
Epoch 43/75
36/36 - 12s - loss: 0.2951 - accuracy: 0.8919 - val_loss: 0.6474 - val_accuracy: 0.7955 - lr: 0.0010 - 12s/epoch - 324ms/step
Epoch 44/75
36/36 - 12s - loss: 0.2963 - accuracy: 0.8916 - val_loss: 0.6464 - val_accuracy: 0.7988 - lr: 0.0010 - 12s/epoch - 323ms/step
Epoch 45/75
36/36 - 12s - loss: 0.2474 - accuracy: 0.9107 - val_loss: 0.7194 - val_accuracy: 0.7789 - lr: 0.0010 - 12s/epoch - 324ms/step
Epoch 46/75
36/36 - 11s - loss: 0.2454 - accuracy: 0.9112 - val_loss: 0.6955 - val_accuracy: 0.7962 - lr: 0.0010 - 11s/epoch - 316ms/step
Epoch 47/75
36/36 - 11s - loss: 0.2522 - accuracy: 0.9076 - val_loss: 0.6949 - val_accuracy: 0.7999 - lr: 0.0010 - 11s/epoch - 317ms/step
Epoch 48/75
36/36 - 12s - loss: 0.3015 - accuracy: 0.8911 - val_loss: 0.6780 - val_accuracy: 0.7875 - lr: 0.0010 - 12s/epoch - 327ms/step
Epoch 49/75
36/36 - 12s - loss: 0.2486 - accuracy: 0.9100 - val_loss: 0.7625 - val_accuracy: 0.7787 - lr: 0.0010 - 12s/epoch - 323ms/step
Epoch 50/75
36/36 - 11s - loss: 0.2681 - accuracy: 0.9017 - val_loss: 0.7316 - val_accuracy: 0.7838 - lr: 0.0010 - 11s/epoch - 315ms/step
Epoch 51/75
36/36 - 12s - loss: 0.2781 - accuracy: 0.8978 - val_loss: 0.6727 - val_accuracy: 0.7999 - lr: 0.0010 - 12s/epoch - 323ms/step
Epoch 52/75
36/36 - 11s - loss: 0.2540 - accuracy: 0.9082 - val_loss: 0.7040 - val_accuracy: 0.7876 - lr: 0.0010 - 11s/epoch - 319ms/step
Epoch 53/75
36/36 - 12s - loss: 0.2603 - accuracy: 0.9046 - val_loss: 0.7414 - val_accuracy: 0.7774 - lr: 0.0010 - 12s/epoch - 321ms/step
Epoch 54/75
36/36 - 12s - loss: 0.3212 - accuracy: 0.8821 - val_loss: 0.6523 - val_accuracy: 0.8044 - lr: 0.0010 - 12s/epoch - 327ms/step
Epoch 55/75
36/36 - 12s - loss: 0.2720 - accuracy: 0.9019 - val_loss: 0.6274 - val_accuracy: 0.8114 - lr: 0.0010 - 12s/epoch - 328ms/step
Epoch 56/75
36/36 - 11s - loss: 0.2639 - accuracy: 0.9037 - val_loss: 0.6455 - val_accuracy: 0.8086 - lr: 0.0010 - 11s/epoch - 317ms/step
Epoch 57/75
36/36 - 11s - loss: 0.2493 - accuracy: 0.9087 - val_loss: 0.7102 - val_accuracy: 0.7992 - lr: 0.0010 - 11s/epoch - 298ms/step
Epoch 58/75
36/36 - 11s - loss: 0.2714 - accuracy: 0.9014 - val_loss: 0.6813 - val_accuracy: 0.7939 - lr: 0.0010 - 11s/epoch - 302ms/step
Epoch 59/75
36/36 - 11s - loss: 0.2624 - accuracy: 0.9035 - val_loss: 0.7084 - val_accuracy: 0.7965 - lr: 0.0010 - 11s/epoch - 305ms/step
Epoch 60/75
36/36 - 11s - loss: 0.2429 - accuracy: 0.9127 - val_loss: 0.7142 - val_accuracy: 0.7878 - lr: 0.0010 - 11s/epoch - 294ms/step
Epoch 61/75
36/36 - 12s - loss: 0.2570 - accuracy: 0.9056 - val_loss: 0.6847 - val_accuracy: 0.7926 - lr: 0.0010 - 12s/epoch - 343ms/step
Epoch 62/75
36/36 - 14s - loss: 0.4570 - accuracy: 0.8363 - val_loss: 0.5578 - val_accuracy: 0.8243 - lr: 0.0010 - 14s/epoch - 400ms/step
Epoch 63/75
36/36 - 14s - loss: 0.3139 - accuracy: 0.8857 - val_loss: 0.6327 - val_accuracy: 0.8001 - lr: 0.0010 - 14s/epoch - 398ms/step
Epoch 64/75
36/36 - 14s - loss: 0.2562 - accuracy: 0.9066 - val_loss: 0.6027 - val_accuracy: 0.8165 - lr: 0.0010 - 14s/epoch - 394ms/step
Epoch 65/75
36/36 - 15s - loss: 0.2443 - accuracy: 0.9103 - val_loss: 0.6569 - val_accuracy: 0.8047 - lr: 0.0010 - 15s/epoch - 408ms/step
Epoch 66/75
36/36 - 14s - loss: 0.3403 - accuracy: 0.8753 - val_loss: 0.5672 - val_accuracy: 0.8209 - lr: 0.0010 - 14s/epoch - 392ms/step
Epoch 67/75
36/36 - 14s - loss: 0.3718 - accuracy: 0.8638 - val_loss: 0.5679 - val_accuracy: 0.8197 - lr: 0.0010 - 14s/epoch - 388ms/step
Epoch 68/75
36/36 - 14s - loss: 0.3004 - accuracy: 0.8890 - val_loss: 0.5961 - val_accuracy: 0.8161 - lr: 0.0010 - 14s/epoch - 399ms/step
Epoch 69/75
36/36 - 14s - loss: 0.2730 - accuracy: 0.8984 - val_loss: 0.6157 - val_accuracy: 0.8140 - lr: 0.0010 - 14s/epoch - 382ms/step
Epoch 70/75
36/36 - 13s - loss: 0.2905 - accuracy: 0.8936 - val_loss: 0.5899 - val_accuracy: 0.8193 - lr: 0.0010 - 13s/epoch - 374ms/step
Epoch 71/75
36/36 - 12s - loss: 0.2833 - accuracy: 0.8958 - val_loss: 0.6089 - val_accuracy: 0.8210 - lr: 0.0010 - 12s/epoch - 347ms/step
Epoch 72/75
36/36 - 12s - loss: 0.2727 - accuracy: 0.9004 - val_loss: 0.6649 - val_accuracy: 0.8014 - lr: 0.0010 - 12s/epoch - 341ms/step
Epoch 73/75
36/36 - 10s - loss: 0.3233 - accuracy: 0.8812 - val_loss: 0.6166 - val_accuracy: 0.8085 - lr: 0.0010 - 10s/epoch - 277ms/step
Epoch 74/75
36/36 - 9s - loss: 0.2455 - accuracy: 0.9115 - val_loss: 0.6400 - val_accuracy: 0.8033 - lr: 0.0010 - 9s/epoch - 252ms/step
Epoch 75/75
36/36 - 12s - loss: 0.2508 - accuracy: 0.9079 - val_loss: 0.6759 - val_accuracy: 0.7956 - lr: 0.0010 - 12s/epoch - 344ms/step
Epoch number: 100
fitting with batch size: 1500
Epoch 1/100
59/59 - 17s - loss: 0.2650 - accuracy: 0.9028 - val_loss: 0.6534 - val_accuracy: 0.8035 - lr: 0.0010 - 17s/epoch - 283ms/step
Epoch 2/100
59/59 - 12s - loss: 0.2617 - accuracy: 0.9036 - val_loss: 0.6578 - val_accuracy: 0.8080 - lr: 0.0010 - 12s/epoch - 212ms/step
Epoch 3/100
59/59 - 13s - loss: 0.2709 - accuracy: 0.9001 - val_loss: 0.5940 - val_accuracy: 0.8131 - lr: 0.0010 - 13s/epoch - 226ms/step
Epoch 4/100
59/59 - 12s - loss: 0.2653 - accuracy: 0.9016 - val_loss: 0.6707 - val_accuracy: 0.7964 - lr: 0.0010 - 12s/epoch - 210ms/step
Epoch 5/100
59/59 - 12s - loss: 0.2703 - accuracy: 0.9007 - val_loss: 0.6529 - val_accuracy: 0.8044 - lr: 0.0010 - 12s/epoch - 203ms/step
Epoch 6/100
59/59 - 12s - loss: 0.2756 - accuracy: 0.8989 - val_loss: 0.6297 - val_accuracy: 0.8037 - lr: 0.0010 - 12s/epoch - 208ms/step
Epoch 7/100
59/59 - 13s - loss: 0.2665 - accuracy: 0.9029 - val_loss: 0.6427 - val_accuracy: 0.8100 - lr: 0.0010 - 13s/epoch - 218ms/step
Epoch 8/100
59/59 - 13s - loss: 0.2576 - accuracy: 0.9053 - val_loss: 0.6126 - val_accuracy: 0.8181 - lr: 0.0010 - 13s/epoch - 225ms/step
Epoch 9/100
59/59 - 13s - loss: 0.2703 - accuracy: 0.9003 - val_loss: 0.6490 - val_accuracy: 0.8007 - lr: 0.0010 - 13s/epoch - 228ms/step
Epoch 10/100
59/59 - 14s - loss: 0.2630 - accuracy: 0.9043 - val_loss: 0.5974 - val_accuracy: 0.8208 - lr: 0.0010 - 14s/epoch - 236ms/step
Epoch 11/100
59/59 - 13s - loss: 0.2615 - accuracy: 0.9040 - val_loss: 0.6651 - val_accuracy: 0.8047 - lr: 0.0010 - 13s/epoch - 226ms/step
Epoch 12/100
59/59 - 13s - loss: 0.2629 - accuracy: 0.9042 - val_loss: 0.6521 - val_accuracy: 0.8065 - lr: 0.0010 - 13s/epoch - 220ms/step
Epoch 13/100
59/59 - 13s - loss: 0.2688 - accuracy: 0.9008 - val_loss: 0.6685 - val_accuracy: 0.8043 - lr: 0.0010 - 13s/epoch - 215ms/step
Epoch 14/100
59/59 - 13s - loss: 0.2667 - accuracy: 0.9034 - val_loss: 0.6714 - val_accuracy: 0.8025 - lr: 0.0010 - 13s/epoch - 213ms/step
Epoch 15/100
59/59 - 13s - loss: 0.2569 - accuracy: 0.9060 - val_loss: 0.7192 - val_accuracy: 0.7858 - lr: 0.0010 - 13s/epoch - 220ms/step
Epoch 16/100
59/59 - 13s - loss: 0.2656 - accuracy: 0.9030 - val_loss: 0.6270 - val_accuracy: 0.8096 - lr: 0.0010 - 13s/epoch - 215ms/step
Epoch 17/100
59/59 - 13s - loss: 0.2660 - accuracy: 0.9025 - val_loss: 0.6450 - val_accuracy: 0.8140 - lr: 0.0010 - 13s/epoch - 212ms/step
Epoch 18/100
59/59 - 9s - loss: 0.2526 - accuracy: 0.9072 - val_loss: 0.6568 - val_accuracy: 0.8065 - lr: 0.0010 - 9s/epoch - 157ms/step
Epoch 19/100
59/59 - 11s - loss: 0.2711 - accuracy: 0.9003 - val_loss: 0.5940 - val_accuracy: 0.8249 - lr: 0.0010 - 11s/epoch - 180ms/step
Epoch 20/100
59/59 - 15s - loss: 0.2577 - accuracy: 0.9061 - val_loss: 0.6483 - val_accuracy: 0.8105 - lr: 0.0010 - 15s/epoch - 249ms/step
Epoch 21/100
59/59 - 14s - loss: 0.2633 - accuracy: 0.9029 - val_loss: 0.6453 - val_accuracy: 0.8126 - lr: 0.0010 - 14s/epoch - 232ms/step
Epoch 22/100
59/59 - 14s - loss: 0.2584 - accuracy: 0.9058 - val_loss: 0.6195 - val_accuracy: 0.8186 - lr: 0.0010 - 14s/epoch - 231ms/step
Epoch 23/100
59/59 - 13s - loss: 0.2608 - accuracy: 0.9042 - val_loss: 0.6159 - val_accuracy: 0.8143 - lr: 0.0010 - 13s/epoch - 226ms/step
Epoch 24/100
59/59 - 13s - loss: 0.2565 - accuracy: 0.9062 - val_loss: 0.6380 - val_accuracy: 0.8081 - lr: 0.0010 - 13s/epoch - 225ms/step
Epoch 25/100
59/59 - 14s - loss: 0.2622 - accuracy: 0.9041 - val_loss: 0.6683 - val_accuracy: 0.8036 - lr: 0.0010 - 14s/epoch - 236ms/step
Epoch 26/100
59/59 - 13s - loss: 0.2727 - accuracy: 0.8995 - val_loss: 0.6821 - val_accuracy: 0.8031 - lr: 0.0010 - 13s/epoch - 226ms/step
Epoch 27/100
59/59 - 14s - loss: 0.2660 - accuracy: 0.9021 - val_loss: 0.6862 - val_accuracy: 0.7984 - lr: 0.0010 - 14s/epoch - 229ms/step
Epoch 28/100
59/59 - 13s - loss: 0.2594 - accuracy: 0.9053 - val_loss: 0.7275 - val_accuracy: 0.7918 - lr: 0.0010 - 13s/epoch - 228ms/step
Epoch 29/100
59/59 - 12s - loss: 0.2591 - accuracy: 0.9049 - val_loss: 0.7298 - val_accuracy: 0.7862 - lr: 0.0010 - 12s/epoch - 208ms/step
Epoch 30/100
59/59 - 12s - loss: 0.2600 - accuracy: 0.9042 - val_loss: 0.6759 - val_accuracy: 0.8027 - lr: 0.0010 - 12s/epoch - 208ms/step
Epoch 31/100
59/59 - 13s - loss: 0.2635 - accuracy: 0.9035 - val_loss: 0.7185 - val_accuracy: 0.7854 - lr: 0.0010 - 13s/epoch - 215ms/step
Epoch 32/100
59/59 - 13s - loss: 0.2572 - accuracy: 0.9066 - val_loss: 0.7094 - val_accuracy: 0.7912 - lr: 0.0010 - 13s/epoch - 212ms/step
Epoch 33/100
59/59 - 13s - loss: 0.2578 - accuracy: 0.9055 - val_loss: 0.6455 - val_accuracy: 0.8135 - lr: 0.0010 - 13s/epoch - 220ms/step
Epoch 34/100
59/59 - 13s - loss: 0.2541 - accuracy: 0.9068 - val_loss: 0.7125 - val_accuracy: 0.7995 - lr: 0.0010 - 13s/epoch - 217ms/step
Epoch 35/100
59/59 - 13s - loss: 0.2577 - accuracy: 0.9052 - val_loss: 0.6631 - val_accuracy: 0.8120 - lr: 0.0010 - 13s/epoch - 215ms/step
Epoch 36/100
59/59 - 13s - loss: 0.2625 - accuracy: 0.9035 - val_loss: 0.6142 - val_accuracy: 0.8178 - lr: 0.0010 - 13s/epoch - 215ms/step
Epoch 37/100
59/59 - 13s - loss: 0.2596 - accuracy: 0.9042 - val_loss: 0.6091 - val_accuracy: 0.8247 - lr: 0.0010 - 13s/epoch - 217ms/step
Epoch 38/100
59/59 - 13s - loss: 0.2657 - accuracy: 0.9028 - val_loss: 0.5960 - val_accuracy: 0.8257 - lr: 0.0010 - 13s/epoch - 213ms/step
Epoch 39/100
59/59 - 12s - loss: 0.2553 - accuracy: 0.9058 - val_loss: 0.6704 - val_accuracy: 0.8032 - lr: 0.0010 - 12s/epoch - 207ms/step
Epoch 40/100
59/59 - 12s - loss: 0.2505 - accuracy: 0.9079 - val_loss: 0.6829 - val_accuracy: 0.8048 - lr: 0.0010 - 12s/epoch - 208ms/step
Epoch 41/100
59/59 - 12s - loss: 0.2639 - accuracy: 0.9033 - val_loss: 0.6861 - val_accuracy: 0.8004 - lr: 0.0010 - 12s/epoch - 212ms/step
Epoch 42/100
59/59 - 12s - loss: 0.2653 - accuracy: 0.9025 - val_loss: 0.6665 - val_accuracy: 0.8095 - lr: 0.0010 - 12s/epoch - 207ms/step
Epoch 43/100
59/59 - 12s - loss: 0.2587 - accuracy: 0.9051 - val_loss: 0.6205 - val_accuracy: 0.8096 - lr: 0.0010 - 12s/epoch - 204ms/step
Epoch 44/100
59/59 - 13s - loss: 0.2575 - accuracy: 0.9050 - val_loss: 0.6345 - val_accuracy: 0.8163 - lr: 0.0010 - 13s/epoch - 221ms/step
Epoch 45/100
59/59 - 13s - loss: 0.2478 - accuracy: 0.9095 - val_loss: 0.6587 - val_accuracy: 0.8076 - lr: 0.0010 - 13s/epoch - 219ms/step
Epoch 46/100
59/59 - 13s - loss: 0.2630 - accuracy: 0.9039 - val_loss: 0.6603 - val_accuracy: 0.8078 - lr: 0.0010 - 13s/epoch - 227ms/step
Epoch 47/100
59/59 - 13s - loss: 0.2637 - accuracy: 0.9025 - val_loss: 0.6205 - val_accuracy: 0.8129 - lr: 0.0010 - 13s/epoch - 215ms/step
Epoch 48/100
59/59 - 12s - loss: 0.2669 - accuracy: 0.9016 - val_loss: 0.6766 - val_accuracy: 0.8011 - lr: 0.0010 - 12s/epoch - 212ms/step
Epoch 49/100
59/59 - 13s - loss: 0.2524 - accuracy: 0.9068 - val_loss: 0.6424 - val_accuracy: 0.8212 - lr: 0.0010 - 13s/epoch - 213ms/step
Epoch 50/100
59/59 - 13s - loss: 0.2578 - accuracy: 0.9060 - val_loss: 0.6963 - val_accuracy: 0.7979 - lr: 0.0010 - 13s/epoch - 224ms/step
Epoch 51/100
59/59 - 12s - loss: 0.2661 - accuracy: 0.9032 - val_loss: 0.6355 - val_accuracy: 0.8096 - lr: 0.0010 - 12s/epoch - 201ms/step
Epoch 52/100
59/59 - 12s - loss: 0.2680 - accuracy: 0.9019 - val_loss: 0.6362 - val_accuracy: 0.8166 - lr: 0.0010 - 12s/epoch - 203ms/step
Epoch 53/100
59/59 - 13s - loss: 0.2403 - accuracy: 0.9123 - val_loss: 0.6503 - val_accuracy: 0.8100 - lr: 0.0010 - 13s/epoch - 213ms/step
Epoch 54/100
59/59 - 13s - loss: 0.2599 - accuracy: 0.9040 - val_loss: 0.7225 - val_accuracy: 0.7909 - lr: 0.0010 - 13s/epoch - 215ms/step
Epoch 55/100
59/59 - 13s - loss: 0.2608 - accuracy: 0.9039 - val_loss: 0.6239 - val_accuracy: 0.8210 - lr: 0.0010 - 13s/epoch - 218ms/step
Epoch 56/100
59/59 - 13s - loss: 0.2584 - accuracy: 0.9045 - val_loss: 0.6435 - val_accuracy: 0.8153 - lr: 0.0010 - 13s/epoch - 220ms/step
Epoch 57/100
59/59 - 13s - loss: 0.2596 - accuracy: 0.9044 - val_loss: 0.6484 - val_accuracy: 0.8152 - lr: 0.0010 - 13s/epoch - 212ms/step
Epoch 58/100
59/59 - 12s - loss: 0.2567 - accuracy: 0.9061 - val_loss: 0.6560 - val_accuracy: 0.8087 - lr: 0.0010 - 12s/epoch - 209ms/step
Epoch 59/100
59/59 - 13s - loss: 0.2574 - accuracy: 0.9058 - val_loss: 0.6588 - val_accuracy: 0.8159 - lr: 0.0010 - 13s/epoch - 216ms/step
Epoch 60/100
59/59 - 12s - loss: 0.2598 - accuracy: 0.9048 - val_loss: 0.6415 - val_accuracy: 0.8158 - lr: 0.0010 - 12s/epoch - 210ms/step
Epoch 61/100
59/59 - 13s - loss: 0.2627 - accuracy: 0.9032 - val_loss: 0.6634 - val_accuracy: 0.8094 - lr: 0.0010 - 13s/epoch - 221ms/step
Epoch 62/100
59/59 - 13s - loss: 0.2626 - accuracy: 0.9031 - val_loss: 0.6361 - val_accuracy: 0.8119 - lr: 0.0010 - 13s/epoch - 218ms/step
Epoch 63/100
59/59 - 13s - loss: 0.2548 - accuracy: 0.9066 - val_loss: 0.6504 - val_accuracy: 0.8080 - lr: 0.0010 - 13s/epoch - 224ms/step
Epoch 64/100
59/59 - 13s - loss: 0.2543 - accuracy: 0.9070 - val_loss: 0.6596 - val_accuracy: 0.8041 - lr: 0.0010 - 13s/epoch - 223ms/step
Epoch 65/100
59/59 - 14s - loss: 0.2610 - accuracy: 0.9033 - val_loss: 0.6116 - val_accuracy: 0.8222 - lr: 0.0010 - 14s/epoch - 233ms/step
Epoch 66/100
59/59 - 13s - loss: 0.2607 - accuracy: 0.9041 - val_loss: 0.6245 - val_accuracy: 0.8173 - lr: 0.0010 - 13s/epoch - 228ms/step
Epoch 67/100
59/59 - 12s - loss: 0.2536 - accuracy: 0.9060 - val_loss: 0.6684 - val_accuracy: 0.8107 - lr: 0.0010 - 12s/epoch - 209ms/step
Epoch 68/100
59/59 - 11s - loss: 0.2569 - accuracy: 0.9057 - val_loss: 0.6775 - val_accuracy: 0.8025 - lr: 0.0010 - 11s/epoch - 194ms/step
Epoch 69/100
59/59 - 12s - loss: 0.2543 - accuracy: 0.9056 - val_loss: 0.6463 - val_accuracy: 0.8141 - lr: 0.0010 - 12s/epoch - 206ms/step
Epoch 70/100
59/59 - 12s - loss: 0.2468 - accuracy: 0.9092 - val_loss: 0.7175 - val_accuracy: 0.7921 - lr: 0.0010 - 12s/epoch - 198ms/step
Epoch 71/100
59/59 - 11s - loss: 0.2621 - accuracy: 0.9033 - val_loss: 0.6732 - val_accuracy: 0.8071 - lr: 0.0010 - 11s/epoch - 193ms/step
Epoch 72/100
59/59 - 12s - loss: 0.2558 - accuracy: 0.9057 - val_loss: 0.6336 - val_accuracy: 0.8145 - lr: 0.0010 - 12s/epoch - 198ms/step
Epoch 73/100
59/59 - 12s - loss: 0.2605 - accuracy: 0.9044 - val_loss: 0.6642 - val_accuracy: 0.8095 - lr: 0.0010 - 12s/epoch - 209ms/step
Epoch 74/100
59/59 - 12s - loss: 0.2547 - accuracy: 0.9058 - val_loss: 0.6312 - val_accuracy: 0.8160 - lr: 0.0010 - 12s/epoch - 209ms/step
Epoch 75/100
59/59 - 12s - loss: 0.2587 - accuracy: 0.9044 - val_loss: 0.6745 - val_accuracy: 0.8075 - lr: 0.0010 - 12s/epoch - 205ms/step
Epoch 76/100
59/59 - 12s - loss: 0.2590 - accuracy: 0.9044 - val_loss: 0.6907 - val_accuracy: 0.7887 - lr: 0.0010 - 12s/epoch - 210ms/step
Epoch 77/100
59/59 - 13s - loss: 0.2657 - accuracy: 0.9015 - val_loss: 0.6689 - val_accuracy: 0.7996 - lr: 0.0010 - 13s/epoch - 224ms/step
Epoch 78/100
59/59 - 12s - loss: 0.2575 - accuracy: 0.9059 - val_loss: 0.6417 - val_accuracy: 0.8116 - lr: 0.0010 - 12s/epoch - 208ms/step
Epoch 79/100
59/59 - 12s - loss: 0.2484 - accuracy: 0.9081 - val_loss: 0.6869 - val_accuracy: 0.7926 - lr: 0.0010 - 12s/epoch - 202ms/step
Epoch 80/100
59/59 - 12s - loss: 0.2480 - accuracy: 0.9081 - val_loss: 0.6596 - val_accuracy: 0.8067 - lr: 0.0010 - 12s/epoch - 200ms/step
Epoch 81/100
59/59 - 12s - loss: 0.2466 - accuracy: 0.9089 - val_loss: 0.6374 - val_accuracy: 0.8178 - lr: 0.0010 - 12s/epoch - 202ms/step
Epoch 82/100
59/59 - 12s - loss: 0.2574 - accuracy: 0.9050 - val_loss: 0.6419 - val_accuracy: 0.8089 - lr: 0.0010 - 12s/epoch - 201ms/step
Epoch 83/100
59/59 - 12s - loss: 0.2555 - accuracy: 0.9063 - val_loss: 0.6621 - val_accuracy: 0.8016 - lr: 0.0010 - 12s/epoch - 204ms/step
Epoch 84/100
59/59 - 12s - loss: 0.2491 - accuracy: 0.9086 - val_loss: 0.6598 - val_accuracy: 0.8041 - lr: 0.0010 - 12s/epoch - 196ms/step
Epoch 85/100
59/59 - 12s - loss: 0.2555 - accuracy: 0.9062 - val_loss: 0.6422 - val_accuracy: 0.8175 - lr: 0.0010 - 12s/epoch - 199ms/step
Epoch 86/100
59/59 - 12s - loss: 0.2563 - accuracy: 0.9044 - val_loss: 0.6336 - val_accuracy: 0.8084 - lr: 0.0010 - 12s/epoch - 205ms/step
Epoch 87/100
59/59 - 12s - loss: 0.2467 - accuracy: 0.9083 - val_loss: 0.6345 - val_accuracy: 0.8133 - lr: 0.0010 - 12s/epoch - 206ms/step
Epoch 88/100
59/59 - 14s - loss: 0.2548 - accuracy: 0.9061 - val_loss: 0.6529 - val_accuracy: 0.8071 - lr: 0.0010 - 14s/epoch - 230ms/step
Epoch 89/100
59/59 - 11s - loss: 0.2630 - accuracy: 0.9033 - val_loss: 0.6267 - val_accuracy: 0.8216 - lr: 0.0010 - 11s/epoch - 194ms/step
Epoch 90/100
59/59 - 11s - loss: 0.2575 - accuracy: 0.9046 - val_loss: 0.5962 - val_accuracy: 0.8245 - lr: 0.0010 - 11s/epoch - 190ms/step
Epoch 91/100
59/59 - 11s - loss: 0.2430 - accuracy: 0.9102 - val_loss: 0.6979 - val_accuracy: 0.7985 - lr: 0.0010 - 11s/epoch - 192ms/step
Epoch 92/100
59/59 - 13s - loss: 0.2495 - accuracy: 0.9074 - val_loss: 0.7016 - val_accuracy: 0.8015 - lr: 0.0010 - 13s/epoch - 220ms/step
Epoch 93/100
59/59 - 12s - loss: 0.2537 - accuracy: 0.9062 - val_loss: 0.6537 - val_accuracy: 0.8154 - lr: 0.0010 - 12s/epoch - 210ms/step
Epoch 94/100
59/59 - 13s - loss: 0.2584 - accuracy: 0.9050 - val_loss: 0.6596 - val_accuracy: 0.7999 - lr: 0.0010 - 13s/epoch - 218ms/step
Epoch 95/100
59/59 - 13s - loss: 0.2534 - accuracy: 0.9073 - val_loss: 0.7148 - val_accuracy: 0.7898 - lr: 0.0010 - 13s/epoch - 216ms/step
Epoch 96/100
59/59 - 12s - loss: 0.2559 - accuracy: 0.9061 - val_loss: 0.6905 - val_accuracy: 0.8025 - lr: 0.0010 - 12s/epoch - 204ms/step
Epoch 97/100
59/59 - 12s - loss: 0.2432 - accuracy: 0.9107 - val_loss: 0.6908 - val_accuracy: 0.7960 - lr: 0.0010 - 12s/epoch - 207ms/step
Epoch 98/100
59/59 - 12s - loss: 0.2528 - accuracy: 0.9069 - val_loss: 0.6415 - val_accuracy: 0.8123 - lr: 0.0010 - 12s/epoch - 212ms/step
Epoch 99/100
59/59 - 12s - loss: 0.2629 - accuracy: 0.9029 - val_loss: 0.6779 - val_accuracy: 0.8011 - lr: 0.0010 - 12s/epoch - 203ms/step
Epoch 100/100
59/59 - 12s - loss: 0.2490 - accuracy: 0.9098 - val_loss: 0.6592 - val_accuracy: 0.8111 - lr: 0.0010 - 12s/epoch - 202ms/step
fitting with batch size: 2500
Epoch 1/100
36/36 - 15s - loss: 0.2238 - accuracy: 0.9179 - val_loss: 0.7288 - val_accuracy: 0.7916 - lr: 0.0010 - 15s/epoch - 414ms/step
Epoch 2/100
36/36 - 12s - loss: 0.2482 - accuracy: 0.9085 - val_loss: 0.7281 - val_accuracy: 0.7900 - lr: 0.0010 - 12s/epoch - 320ms/step
Epoch 3/100
36/36 - 11s - loss: 0.2843 - accuracy: 0.8958 - val_loss: 0.5942 - val_accuracy: 0.8277 - lr: 0.0010 - 11s/epoch - 315ms/step
Epoch 4/100
36/36 - 12s - loss: 0.2734 - accuracy: 0.9002 - val_loss: 0.6423 - val_accuracy: 0.8112 - lr: 0.0010 - 12s/epoch - 323ms/step
Epoch 5/100
36/36 - 11s - loss: 0.2478 - accuracy: 0.9090 - val_loss: 0.6840 - val_accuracy: 0.8038 - lr: 0.0010 - 11s/epoch - 318ms/step
Epoch 6/100
36/36 - 11s - loss: 0.2207 - accuracy: 0.9188 - val_loss: 0.7635 - val_accuracy: 0.7897 - lr: 0.0010 - 11s/epoch - 319ms/step
Epoch 7/100
36/36 - 11s - loss: 0.2675 - accuracy: 0.9013 - val_loss: 0.7270 - val_accuracy: 0.7895 - lr: 0.0010 - 11s/epoch - 316ms/step
Epoch 8/100
36/36 - 11s - loss: 0.3167 - accuracy: 0.8848 - val_loss: 0.7201 - val_accuracy: 0.7826 - lr: 0.0010 - 11s/epoch - 313ms/step
Epoch 9/100
36/36 - 10s - loss: 0.2598 - accuracy: 0.9038 - val_loss: 0.6982 - val_accuracy: 0.8000 - lr: 0.0010 - 10s/epoch - 278ms/step
Epoch 10/100
36/36 - 10s - loss: 0.2764 - accuracy: 0.8991 - val_loss: 0.6365 - val_accuracy: 0.8153 - lr: 0.0010 - 10s/epoch - 278ms/step
Epoch 11/100
36/36 - 9s - loss: 0.2490 - accuracy: 0.9073 - val_loss: 0.6850 - val_accuracy: 0.8046 - lr: 0.0010 - 9s/epoch - 250ms/step
Epoch 12/100
36/36 - 9s - loss: 0.2560 - accuracy: 0.9061 - val_loss: 0.6605 - val_accuracy: 0.8008 - lr: 0.0010 - 9s/epoch - 247ms/step
Epoch 13/100
36/36 - 9s - loss: 0.3205 - accuracy: 0.8814 - val_loss: 0.6660 - val_accuracy: 0.7905 - lr: 0.0010 - 9s/epoch - 247ms/step
Epoch 14/100
36/36 - 10s - loss: 0.2562 - accuracy: 0.9047 - val_loss: 0.6871 - val_accuracy: 0.8022 - lr: 0.0010 - 10s/epoch - 273ms/step
Epoch 15/100
36/36 - 10s - loss: 0.2335 - accuracy: 0.9143 - val_loss: 0.7109 - val_accuracy: 0.7949 - lr: 0.0010 - 10s/epoch - 276ms/step
Epoch 16/100
36/36 - 10s - loss: 0.2495 - accuracy: 0.9072 - val_loss: 0.6562 - val_accuracy: 0.8115 - lr: 0.0010 - 10s/epoch - 272ms/step
Epoch 17/100
36/36 - 10s - loss: 0.3060 - accuracy: 0.8881 - val_loss: 0.6349 - val_accuracy: 0.8018 - lr: 0.0010 - 10s/epoch - 271ms/step
Epoch 18/100
36/36 - 9s - loss: 0.2608 - accuracy: 0.9042 - val_loss: 0.7023 - val_accuracy: 0.7955 - lr: 0.0010 - 9s/epoch - 260ms/step
Epoch 19/100
36/36 - 10s - loss: 0.2408 - accuracy: 0.9111 - val_loss: 0.6743 - val_accuracy: 0.8068 - lr: 0.0010 - 10s/epoch - 288ms/step
Epoch 20/100
36/36 - 10s - loss: 0.3024 - accuracy: 0.8878 - val_loss: 0.6564 - val_accuracy: 0.7992 - lr: 0.0010 - 10s/epoch - 282ms/step
Epoch 21/100
36/36 - 10s - loss: 0.2360 - accuracy: 0.9126 - val_loss: 0.7027 - val_accuracy: 0.7934 - lr: 0.0010 - 10s/epoch - 287ms/step
Epoch 22/100
36/36 - 10s - loss: 0.2424 - accuracy: 0.9103 - val_loss: 0.6153 - val_accuracy: 0.8259 - lr: 0.0010 - 10s/epoch - 287ms/step
Epoch 23/100
36/36 - 10s - loss: 0.2483 - accuracy: 0.9081 - val_loss: 0.7079 - val_accuracy: 0.8034 - lr: 0.0010 - 10s/epoch - 287ms/step
Epoch 24/100
36/36 - 10s - loss: 0.2552 - accuracy: 0.9064 - val_loss: 0.6749 - val_accuracy: 0.8029 - lr: 0.0010 - 10s/epoch - 287ms/step
Epoch 25/100
36/36 - 10s - loss: 0.3302 - accuracy: 0.8784 - val_loss: 0.6187 - val_accuracy: 0.8099 - lr: 0.0010 - 10s/epoch - 291ms/step
Epoch 26/100
36/36 - 10s - loss: 0.2361 - accuracy: 0.9134 - val_loss: 0.6700 - val_accuracy: 0.8044 - lr: 0.0010 - 10s/epoch - 268ms/step
Epoch 27/100
36/36 - 8s - loss: 0.2589 - accuracy: 0.9035 - val_loss: 0.5984 - val_accuracy: 0.8240 - lr: 0.0010 - 8s/epoch - 216ms/step
Epoch 28/100
36/36 - 8s - loss: 0.2392 - accuracy: 0.9120 - val_loss: 0.6671 - val_accuracy: 0.8087 - lr: 0.0010 - 8s/epoch - 215ms/step
Epoch 29/100
36/36 - 8s - loss: 0.2672 - accuracy: 0.9026 - val_loss: 0.6318 - val_accuracy: 0.8073 - lr: 0.0010 - 8s/epoch - 220ms/step
Epoch 30/100
36/36 - 8s - loss: 0.2881 - accuracy: 0.8928 - val_loss: 0.6766 - val_accuracy: 0.7926 - lr: 0.0010 - 8s/epoch - 230ms/step
Epoch 31/100
36/36 - 10s - loss: 0.2215 - accuracy: 0.9181 - val_loss: 0.6227 - val_accuracy: 0.8206 - lr: 0.0010 - 10s/epoch - 267ms/step
Epoch 32/100
36/36 - 9s - loss: 0.2595 - accuracy: 0.9042 - val_loss: 0.6855 - val_accuracy: 0.7992 - lr: 0.0010 - 9s/epoch - 256ms/step
Epoch 33/100
36/36 - 9s - loss: 0.2617 - accuracy: 0.9032 - val_loss: 0.6975 - val_accuracy: 0.7921 - lr: 0.0010 - 9s/epoch - 260ms/step
Epoch 34/100
36/36 - 9s - loss: 0.2283 - accuracy: 0.9160 - val_loss: 0.7005 - val_accuracy: 0.7992 - lr: 0.0010 - 9s/epoch - 253ms/step
Epoch 35/100
36/36 - 10s - loss: 0.2161 - accuracy: 0.9212 - val_loss: 0.7395 - val_accuracy: 0.7882 - lr: 0.0010 - 10s/epoch - 286ms/step
Epoch 36/100
36/36 - 10s - loss: 0.2161 - accuracy: 0.9208 - val_loss: 0.8096 - val_accuracy: 0.7769 - lr: 0.0010 - 10s/epoch - 265ms/step
Epoch 37/100
36/36 - 10s - loss: 0.2776 - accuracy: 0.8971 - val_loss: 0.7322 - val_accuracy: 0.7898 - lr: 0.0010 - 10s/epoch - 291ms/step
Epoch 38/100
36/36 - 10s - loss: 0.2430 - accuracy: 0.9091 - val_loss: 0.6662 - val_accuracy: 0.8114 - lr: 0.0010 - 10s/epoch - 283ms/step
Epoch 39/100
36/36 - 10s - loss: 0.2418 - accuracy: 0.9110 - val_loss: 0.6270 - val_accuracy: 0.8214 - lr: 0.0010 - 10s/epoch - 282ms/step
Epoch 40/100
36/36 - 10s - loss: 0.2305 - accuracy: 0.9148 - val_loss: 0.7169 - val_accuracy: 0.7969 - lr: 0.0010 - 10s/epoch - 284ms/step
Epoch 41/100
36/36 - 11s - loss: 0.2932 - accuracy: 0.8928 - val_loss: 0.6264 - val_accuracy: 0.8173 - lr: 0.0010 - 11s/epoch - 293ms/step
Epoch 42/100
36/36 - 10s - loss: 0.2549 - accuracy: 0.9055 - val_loss: 0.6421 - val_accuracy: 0.8134 - lr: 0.0010 - 10s/epoch - 289ms/step
Epoch 43/100
36/36 - 10s - loss: 0.3635 - accuracy: 0.8664 - val_loss: 0.6479 - val_accuracy: 0.8036 - lr: 0.0010 - 10s/epoch - 286ms/step
Epoch 44/100
36/36 - 10s - loss: 0.3000 - accuracy: 0.8890 - val_loss: 0.6660 - val_accuracy: 0.8052 - lr: 0.0010 - 10s/epoch - 289ms/step
Epoch 45/100
36/36 - 10s - loss: 0.2296 - accuracy: 0.9144 - val_loss: 0.6570 - val_accuracy: 0.8094 - lr: 0.0010 - 10s/epoch - 285ms/step
Epoch 46/100
36/36 - 10s - loss: 0.2093 - accuracy: 0.9241 - val_loss: 0.6625 - val_accuracy: 0.8128 - lr: 0.0010 - 10s/epoch - 281ms/step
Epoch 47/100
36/36 - 9s - loss: 0.2348 - accuracy: 0.9142 - val_loss: 0.7345 - val_accuracy: 0.7909 - lr: 0.0010 - 9s/epoch - 258ms/step
Epoch 48/100
36/36 - 9s - loss: 0.3687 - accuracy: 0.8650 - val_loss: 0.6172 - val_accuracy: 0.8140 - lr: 0.0010 - 9s/epoch - 249ms/step
Epoch 49/100
36/36 - 9s - loss: 0.2975 - accuracy: 0.8896 - val_loss: 0.6646 - val_accuracy: 0.8006 - lr: 0.0010 - 9s/epoch - 264ms/step
Epoch 50/100
36/36 - 9s - loss: 0.2841 - accuracy: 0.8936 - val_loss: 0.6489 - val_accuracy: 0.8052 - lr: 0.0010 - 9s/epoch - 248ms/step
Epoch 51/100
36/36 - 9s - loss: 0.2504 - accuracy: 0.9068 - val_loss: 0.6098 - val_accuracy: 0.8234 - lr: 0.0010 - 9s/epoch - 252ms/step
Epoch 52/100
36/36 - 10s - loss: 0.2437 - accuracy: 0.9109 - val_loss: 0.6783 - val_accuracy: 0.8025 - lr: 0.0010 - 10s/epoch - 270ms/step
Epoch 53/100
36/36 - 10s - loss: 0.2607 - accuracy: 0.9034 - val_loss: 0.6207 - val_accuracy: 0.8196 - lr: 0.0010 - 10s/epoch - 270ms/step
Epoch 54/100
36/36 - 9s - loss: 0.2427 - accuracy: 0.9108 - val_loss: 0.7004 - val_accuracy: 0.7982 - lr: 0.0010 - 9s/epoch - 259ms/step
Epoch 55/100
36/36 - 10s - loss: 0.2204 - accuracy: 0.9194 - val_loss: 0.7294 - val_accuracy: 0.7899 - lr: 0.0010 - 10s/epoch - 267ms/step
Epoch 56/100
36/36 - 10s - loss: 0.2924 - accuracy: 0.8924 - val_loss: 0.6846 - val_accuracy: 0.7902 - lr: 0.0010 - 10s/epoch - 269ms/step
Epoch 57/100
36/36 - 9s - loss: 0.3255 - accuracy: 0.8799 - val_loss: 0.5821 - val_accuracy: 0.8233 - lr: 0.0010 - 9s/epoch - 250ms/step
Epoch 58/100
36/36 - 9s - loss: 0.2382 - accuracy: 0.9113 - val_loss: 0.6709 - val_accuracy: 0.8047 - lr: 0.0010 - 9s/epoch - 249ms/step
Epoch 59/100
36/36 - 9s - loss: 0.2377 - accuracy: 0.9122 - val_loss: 0.6026 - val_accuracy: 0.8297 - lr: 0.0010 - 9s/epoch - 251ms/step
Epoch 60/100
36/36 - 9s - loss: 0.2358 - accuracy: 0.9125 - val_loss: 0.6352 - val_accuracy: 0.8213 - lr: 0.0010 - 9s/epoch - 250ms/step
Epoch 61/100
36/36 - 9s - loss: 0.2410 - accuracy: 0.9113 - val_loss: 0.7608 - val_accuracy: 0.7766 - lr: 0.0010 - 9s/epoch - 250ms/step
Epoch 62/100
36/36 - 9s - loss: 0.3462 - accuracy: 0.8727 - val_loss: 0.5795 - val_accuracy: 0.8179 - lr: 0.0010 - 9s/epoch - 254ms/step
Epoch 63/100
36/36 - 9s - loss: 0.3097 - accuracy: 0.8844 - val_loss: 0.6675 - val_accuracy: 0.7983 - lr: 0.0010 - 9s/epoch - 262ms/step
Epoch 64/100
36/36 - 10s - loss: 0.2798 - accuracy: 0.8962 - val_loss: 0.6129 - val_accuracy: 0.8115 - lr: 0.0010 - 10s/epoch - 268ms/step
Epoch 65/100
36/36 - 9s - loss: 0.2548 - accuracy: 0.9060 - val_loss: 0.6245 - val_accuracy: 0.8183 - lr: 0.0010 - 9s/epoch - 257ms/step
Epoch 66/100
36/36 - 9s - loss: 0.2787 - accuracy: 0.8974 - val_loss: 0.6333 - val_accuracy: 0.8133 - lr: 0.0010 - 9s/epoch - 262ms/step
Epoch 67/100
36/36 - 10s - loss: 0.2830 - accuracy: 0.8951 - val_loss: 0.6439 - val_accuracy: 0.8034 - lr: 0.0010 - 10s/epoch - 291ms/step
Epoch 68/100
36/36 - 10s - loss: 0.2244 - accuracy: 0.9173 - val_loss: 0.6695 - val_accuracy: 0.8018 - lr: 0.0010 - 10s/epoch - 286ms/step
Epoch 69/100
36/36 - 10s - loss: 0.2604 - accuracy: 0.9041 - val_loss: 0.7338 - val_accuracy: 0.7850 - lr: 0.0010 - 10s/epoch - 286ms/step
Epoch 70/100
36/36 - 10s - loss: 0.2493 - accuracy: 0.9079 - val_loss: 0.6656 - val_accuracy: 0.8091 - lr: 0.0010 - 10s/epoch - 287ms/step
Epoch 71/100
36/36 - 10s - loss: 0.2517 - accuracy: 0.9074 - val_loss: 0.6710 - val_accuracy: 0.8018 - lr: 0.0010 - 10s/epoch - 286ms/step
Epoch 72/100
36/36 - 10s - loss: 0.2436 - accuracy: 0.9099 - val_loss: 0.6872 - val_accuracy: 0.7986 - lr: 0.0010 - 10s/epoch - 283ms/step
Epoch 73/100
36/36 - 9s - loss: 0.2261 - accuracy: 0.9169 - val_loss: 0.6976 - val_accuracy: 0.8057 - lr: 0.0010 - 9s/epoch - 250ms/step
Epoch 74/100
36/36 - 10s - loss: 0.2397 - accuracy: 0.9124 - val_loss: 0.7132 - val_accuracy: 0.7974 - lr: 0.0010 - 10s/epoch - 275ms/step
Epoch 75/100
36/36 - 9s - loss: 0.2852 - accuracy: 0.8949 - val_loss: 0.6379 - val_accuracy: 0.8193 - lr: 0.0010 - 9s/epoch - 252ms/step
Epoch 76/100
36/36 - 9s - loss: 0.2493 - accuracy: 0.9078 - val_loss: 0.7648 - val_accuracy: 0.7789 - lr: 0.0010 - 9s/epoch - 257ms/step
Epoch 77/100
36/36 - 11s - loss: 0.2424 - accuracy: 0.9111 - val_loss: 0.6364 - val_accuracy: 0.8150 - lr: 0.0010 - 11s/epoch - 293ms/step
Epoch 78/100
36/36 - 9s - loss: 0.2396 - accuracy: 0.9103 - val_loss: 0.6941 - val_accuracy: 0.8020 - lr: 0.0010 - 9s/epoch - 262ms/step
Epoch 79/100
36/36 - 10s - loss: 0.2744 - accuracy: 0.8987 - val_loss: 0.7197 - val_accuracy: 0.7977 - lr: 0.0010 - 10s/epoch - 287ms/step
Epoch 80/100
36/36 - 11s - loss: 0.2194 - accuracy: 0.9185 - val_loss: 0.6959 - val_accuracy: 0.8130 - lr: 0.0010 - 11s/epoch - 293ms/step
Epoch 81/100
36/36 - 11s - loss: 0.2240 - accuracy: 0.9176 - val_loss: 0.6905 - val_accuracy: 0.8072 - lr: 0.0010 - 11s/epoch - 292ms/step
Epoch 82/100
36/36 - 10s - loss: 0.2777 - accuracy: 0.8973 - val_loss: 0.6973 - val_accuracy: 0.7971 - lr: 0.0010 - 10s/epoch - 279ms/step
Epoch 83/100
36/36 - 10s - loss: 0.3313 - accuracy: 0.8785 - val_loss: 0.6132 - val_accuracy: 0.8110 - lr: 0.0010 - 10s/epoch - 289ms/step
Epoch 84/100
36/36 - 10s - loss: 0.2376 - accuracy: 0.9131 - val_loss: 0.7283 - val_accuracy: 0.7928 - lr: 0.0010 - 10s/epoch - 289ms/step
Epoch 85/100
36/36 - 10s - loss: 0.2461 - accuracy: 0.9079 - val_loss: 0.7347 - val_accuracy: 0.7881 - lr: 0.0010 - 10s/epoch - 288ms/step
Epoch 86/100
36/36 - 10s - loss: 0.2547 - accuracy: 0.9058 - val_loss: 0.6667 - val_accuracy: 0.8107 - lr: 0.0010 - 10s/epoch - 290ms/step
Epoch 87/100
36/36 - 10s - loss: 0.2392 - accuracy: 0.9113 - val_loss: 0.7265 - val_accuracy: 0.8005 - lr: 0.0010 - 10s/epoch - 290ms/step
Epoch 88/100
36/36 - 10s - loss: 0.3423 - accuracy: 0.8752 - val_loss: 0.6823 - val_accuracy: 0.7804 - lr: 0.0010 - 10s/epoch - 289ms/step
Epoch 89/100
36/36 - 10s - loss: 0.2835 - accuracy: 0.8948 - val_loss: 0.6694 - val_accuracy: 0.8000 - lr: 0.0010 - 10s/epoch - 288ms/step
Epoch 90/100
36/36 - 10s - loss: 0.2371 - accuracy: 0.9111 - val_loss: 0.6567 - val_accuracy: 0.8109 - lr: 0.0010 - 10s/epoch - 289ms/step
Epoch 91/100
36/36 - 10s - loss: 0.2372 - accuracy: 0.9123 - val_loss: 0.7409 - val_accuracy: 0.7828 - lr: 0.0010 - 10s/epoch - 289ms/step
Epoch 92/100
36/36 - 10s - loss: 0.2583 - accuracy: 0.9047 - val_loss: 0.7281 - val_accuracy: 0.7925 - lr: 0.0010 - 10s/epoch - 290ms/step
Epoch 93/100
36/36 - 10s - loss: 0.2789 - accuracy: 0.8976 - val_loss: 0.6572 - val_accuracy: 0.8041 - lr: 0.0010 - 10s/epoch - 291ms/step
Epoch 94/100
36/36 - 11s - loss: 0.2328 - accuracy: 0.9146 - val_loss: 0.6857 - val_accuracy: 0.8070 - lr: 0.0010 - 11s/epoch - 294ms/step
Epoch 95/100
36/36 - 10s - loss: 0.2616 - accuracy: 0.9023 - val_loss: 0.7358 - val_accuracy: 0.7876 - lr: 0.0010 - 10s/epoch - 290ms/step
Epoch 96/100
36/36 - 10s - loss: 0.2417 - accuracy: 0.9105 - val_loss: 0.6827 - val_accuracy: 0.8051 - lr: 0.0010 - 10s/epoch - 291ms/step
Epoch 97/100
36/36 - 10s - loss: 0.2584 - accuracy: 0.9034 - val_loss: 0.7006 - val_accuracy: 0.7961 - lr: 0.0010 - 10s/epoch - 274ms/step
Epoch 98/100
36/36 - 9s - loss: 0.3530 - accuracy: 0.8711 - val_loss: 0.6064 - val_accuracy: 0.8108 - lr: 0.0010 - 9s/epoch - 252ms/step
Epoch 99/100
36/36 - 9s - loss: 0.2813 - accuracy: 0.8958 - val_loss: 0.6396 - val_accuracy: 0.8077 - lr: 0.0010 - 9s/epoch - 251ms/step
Epoch 100/100
36/36 - 9s - loss: 0.2658 - accuracy: 0.9020 - val_loss: 0.6237 - val_accuracy: 0.8128 - lr: 0.0010 - 9s/epoch - 254ms/step
Loss: poisson
Epoch number: 75
fitting with batch size: 1500
Epoch 1/75
59/59 - 16s - loss: 0.2480 - accuracy: 0.9126 - val_loss: 0.3327 - val_accuracy: 0.8040 - lr: 0.0010 - 16s/epoch - 279ms/step
Epoch 2/75
59/59 - 9s - loss: 0.2355 - accuracy: 0.9362 - val_loss: 0.3421 - val_accuracy: 0.8019 - lr: 0.0010 - 9s/epoch - 158ms/step
Epoch 3/75
59/59 - 9s - loss: 0.2348 - accuracy: 0.9377 - val_loss: 0.3561 - val_accuracy: 0.7875 - lr: 0.0010 - 9s/epoch - 155ms/step
Epoch 4/75
59/59 - 9s - loss: 0.2347 - accuracy: 0.9372 - val_loss: 0.3527 - val_accuracy: 0.7988 - lr: 0.0010 - 9s/epoch - 155ms/step
Epoch 5/75
59/59 - 9s - loss: 0.2372 - accuracy: 0.9310 - val_loss: 0.3494 - val_accuracy: 0.8012 - lr: 0.0010 - 9s/epoch - 159ms/step
Epoch 6/75
59/59 - 9s - loss: 0.2400 - accuracy: 0.9261 - val_loss: 0.3539 - val_accuracy: 0.7938 - lr: 0.0010 - 9s/epoch - 161ms/step
Epoch 7/75
59/59 - 9s - loss: 0.2457 - accuracy: 0.9153 - val_loss: 0.3433 - val_accuracy: 0.7978 - lr: 0.0010 - 9s/epoch - 154ms/step
Epoch 8/75
59/59 - 9s - loss: 0.2472 - accuracy: 0.9122 - val_loss: 0.3345 - val_accuracy: 0.8103 - lr: 0.0010 - 9s/epoch - 157ms/step
Epoch 9/75
59/59 - 9s - loss: 0.2470 - accuracy: 0.9125 - val_loss: 0.3475 - val_accuracy: 0.7936 - lr: 0.0010 - 9s/epoch - 154ms/step
Epoch 10/75
59/59 - 9s - loss: 0.2467 - accuracy: 0.9129 - val_loss: 0.3375 - val_accuracy: 0.8035 - lr: 0.0010 - 9s/epoch - 154ms/step
Epoch 11/75
59/59 - 9s - loss: 0.2500 - accuracy: 0.9075 - val_loss: 0.3376 - val_accuracy: 0.8027 - lr: 0.0010 - 9s/epoch - 154ms/step
Epoch 12/75
59/59 - 9s - loss: 0.2482 - accuracy: 0.9105 - val_loss: 0.3526 - val_accuracy: 0.7813 - lr: 0.0010 - 9s/epoch - 158ms/step
Epoch 13/75
59/59 - 10s - loss: 0.2495 - accuracy: 0.9081 - val_loss: 0.3436 - val_accuracy: 0.7948 - lr: 0.0010 - 10s/epoch - 169ms/step
Epoch 14/75
59/59 - 10s - loss: 0.2486 - accuracy: 0.9106 - val_loss: 0.3402 - val_accuracy: 0.7976 - lr: 0.0010 - 10s/epoch - 162ms/step
Epoch 15/75
59/59 - 9s - loss: 0.2479 - accuracy: 0.9117 - val_loss: 0.3491 - val_accuracy: 0.7964 - lr: 0.0010 - 9s/epoch - 159ms/step
Epoch 16/75
59/59 - 10s - loss: 0.2502 - accuracy: 0.9072 - val_loss: 0.3383 - val_accuracy: 0.7963 - lr: 0.0010 - 10s/epoch - 172ms/step
Epoch 17/75
59/59 - 10s - loss: 0.2520 - accuracy: 0.9036 - val_loss: 0.3488 - val_accuracy: 0.7793 - lr: 0.0010 - 10s/epoch - 173ms/step
Epoch 18/75
59/59 - 10s - loss: 0.2487 - accuracy: 0.9103 - val_loss: 0.3311 - val_accuracy: 0.8021 - lr: 0.0010 - 10s/epoch - 175ms/step
Epoch 19/75
59/59 - 10s - loss: 0.2490 - accuracy: 0.9076 - val_loss: 0.3400 - val_accuracy: 0.7949 - lr: 0.0010 - 10s/epoch - 171ms/step
Epoch 20/75
59/59 - 10s - loss: 0.2503 - accuracy: 0.9061 - val_loss: 0.3471 - val_accuracy: 0.7811 - lr: 0.0010 - 10s/epoch - 175ms/step
Epoch 21/75
59/59 - 10s - loss: 0.2477 - accuracy: 0.9120 - val_loss: 0.3305 - val_accuracy: 0.8067 - lr: 0.0010 - 10s/epoch - 172ms/step
Epoch 22/75
59/59 - 10s - loss: 0.2496 - accuracy: 0.9079 - val_loss: 0.3357 - val_accuracy: 0.8055 - lr: 0.0010 - 10s/epoch - 172ms/step
Epoch 23/75
59/59 - 10s - loss: 0.2482 - accuracy: 0.9108 - val_loss: 0.3389 - val_accuracy: 0.7968 - lr: 0.0010 - 10s/epoch - 175ms/step
Epoch 24/75
59/59 - 10s - loss: 0.2501 - accuracy: 0.9071 - val_loss: 0.3484 - val_accuracy: 0.7858 - lr: 0.0010 - 10s/epoch - 174ms/step
Epoch 25/75
59/59 - 10s - loss: 0.2499 - accuracy: 0.9074 - val_loss: 0.3307 - val_accuracy: 0.8123 - lr: 0.0010 - 10s/epoch - 176ms/step
Epoch 26/75
59/59 - 10s - loss: 0.2491 - accuracy: 0.9082 - val_loss: 0.3350 - val_accuracy: 0.8010 - lr: 0.0010 - 10s/epoch - 175ms/step
Epoch 27/75
59/59 - 10s - loss: 0.2509 - accuracy: 0.9057 - val_loss: 0.3295 - val_accuracy: 0.8170 - lr: 0.0010 - 10s/epoch - 173ms/step
Epoch 28/75
59/59 - 10s - loss: 0.2484 - accuracy: 0.9103 - val_loss: 0.3364 - val_accuracy: 0.8091 - lr: 0.0010 - 10s/epoch - 174ms/step
Epoch 29/75
59/59 - 10s - loss: 0.2487 - accuracy: 0.9103 - val_loss: 0.3335 - val_accuracy: 0.8053 - lr: 0.0010 - 10s/epoch - 174ms/step
Epoch 30/75
59/59 - 10s - loss: 0.2482 - accuracy: 0.9114 - val_loss: 0.3399 - val_accuracy: 0.7951 - lr: 0.0010 - 10s/epoch - 172ms/step
Epoch 31/75
59/59 - 10s - loss: 0.2484 - accuracy: 0.9101 - val_loss: 0.3285 - val_accuracy: 0.8147 - lr: 0.0010 - 10s/epoch - 163ms/step
Epoch 32/75
59/59 - 12s - loss: 0.2498 - accuracy: 0.9081 - val_loss: 0.3365 - val_accuracy: 0.8032 - lr: 0.0010 - 12s/epoch - 196ms/step
Epoch 33/75
59/59 - 9s - loss: 0.2493 - accuracy: 0.9082 - val_loss: 0.3395 - val_accuracy: 0.7928 - lr: 0.0010 - 9s/epoch - 157ms/step
Epoch 34/75
59/59 - 9s - loss: 0.2508 - accuracy: 0.9064 - val_loss: 0.3286 - val_accuracy: 0.8130 - lr: 0.0010 - 9s/epoch - 159ms/step
Epoch 35/75
59/59 - 9s - loss: 0.2498 - accuracy: 0.9068 - val_loss: 0.3309 - val_accuracy: 0.8013 - lr: 0.0010 - 9s/epoch - 155ms/step
Epoch 36/75
59/59 - 9s - loss: 0.2471 - accuracy: 0.9131 - val_loss: 0.3427 - val_accuracy: 0.7869 - lr: 0.0010 - 9s/epoch - 154ms/step
Epoch 37/75
59/59 - 9s - loss: 0.2490 - accuracy: 0.9090 - val_loss: 0.3290 - val_accuracy: 0.8174 - lr: 0.0010 - 9s/epoch - 152ms/step
Epoch 38/75
59/59 - 9s - loss: 0.2483 - accuracy: 0.9105 - val_loss: 0.3584 - val_accuracy: 0.7781 - lr: 0.0010 - 9s/epoch - 155ms/step
Epoch 39/75
59/59 - 10s - loss: 0.2490 - accuracy: 0.9095 - val_loss: 0.3460 - val_accuracy: 0.7924 - lr: 0.0010 - 10s/epoch - 169ms/step
Epoch 40/75
59/59 - 9s - loss: 0.2479 - accuracy: 0.9103 - val_loss: 0.3537 - val_accuracy: 0.7813 - lr: 0.0010 - 9s/epoch - 151ms/step
Epoch 41/75
59/59 - 9s - loss: 0.2483 - accuracy: 0.9109 - val_loss: 0.3425 - val_accuracy: 0.7979 - lr: 0.0010 - 9s/epoch - 156ms/step
Epoch 42/75
59/59 - 9s - loss: 0.2504 - accuracy: 0.9068 - val_loss: 0.3206 - val_accuracy: 0.8237 - lr: 0.0010 - 9s/epoch - 152ms/step
Epoch 43/75
59/59 - 9s - loss: 0.2481 - accuracy: 0.9114 - val_loss: 0.3328 - val_accuracy: 0.8095 - lr: 0.0010 - 9s/epoch - 154ms/step
Epoch 44/75
59/59 - 13s - loss: 0.2501 - accuracy: 0.9067 - val_loss: 0.3382 - val_accuracy: 0.7981 - lr: 0.0010 - 13s/epoch - 217ms/step
Epoch 45/75
59/59 - 10s - loss: 0.2496 - accuracy: 0.9084 - val_loss: 0.3389 - val_accuracy: 0.7993 - lr: 0.0010 - 10s/epoch - 162ms/step
Epoch 46/75
59/59 - 9s - loss: 0.2485 - accuracy: 0.9100 - val_loss: 0.3322 - val_accuracy: 0.8074 - lr: 0.0010 - 9s/epoch - 159ms/step
Epoch 47/75
59/59 - 10s - loss: 0.2500 - accuracy: 0.9072 - val_loss: 0.3298 - val_accuracy: 0.8180 - lr: 0.0010 - 10s/epoch - 162ms/step
Epoch 48/75
59/59 - 9s - loss: 0.2501 - accuracy: 0.9072 - val_loss: 0.3344 - val_accuracy: 0.8007 - lr: 0.0010 - 9s/epoch - 158ms/step
Epoch 49/75
59/59 - 10s - loss: 0.2478 - accuracy: 0.9114 - val_loss: 0.3321 - val_accuracy: 0.8142 - lr: 0.0010 - 10s/epoch - 167ms/step
Epoch 50/75
59/59 - 9s - loss: 0.2473 - accuracy: 0.9125 - val_loss: 0.3306 - val_accuracy: 0.8153 - lr: 0.0010 - 9s/epoch - 154ms/step
Epoch 51/75
59/59 - 9s - loss: 0.2491 - accuracy: 0.9098 - val_loss: 0.3334 - val_accuracy: 0.8073 - lr: 0.0010 - 9s/epoch - 159ms/step
Epoch 52/75
59/59 - 10s - loss: 0.2484 - accuracy: 0.9102 - val_loss: 0.3313 - val_accuracy: 0.8037 - lr: 0.0010 - 10s/epoch - 164ms/step
Epoch 53/75
59/59 - 9s - loss: 0.2486 - accuracy: 0.9100 - val_loss: 0.3397 - val_accuracy: 0.8019 - lr: 0.0010 - 9s/epoch - 158ms/step
Epoch 54/75
59/59 - 9s - loss: 0.2495 - accuracy: 0.9079 - val_loss: 0.3354 - val_accuracy: 0.8043 - lr: 0.0010 - 9s/epoch - 156ms/step
Epoch 55/75
59/59 - 9s - loss: 0.2499 - accuracy: 0.9071 - val_loss: 0.3550 - val_accuracy: 0.7783 - lr: 0.0010 - 9s/epoch - 152ms/step
Epoch 56/75
59/59 - 10s - loss: 0.2476 - accuracy: 0.9119 - val_loss: 0.3431 - val_accuracy: 0.7930 - lr: 0.0010 - 10s/epoch - 162ms/step
Epoch 57/75
59/59 - 9s - loss: 0.2484 - accuracy: 0.9099 - val_loss: 0.3454 - val_accuracy: 0.7877 - lr: 0.0010 - 9s/epoch - 151ms/step
Epoch 58/75
59/59 - 9s - loss: 0.2499 - accuracy: 0.9075 - val_loss: 0.3328 - val_accuracy: 0.8048 - lr: 0.0010 - 9s/epoch - 153ms/step
Epoch 59/75
59/59 - 9s - loss: 0.2490 - accuracy: 0.9090 - val_loss: 0.3358 - val_accuracy: 0.8048 - lr: 0.0010 - 9s/epoch - 155ms/step
Epoch 60/75
59/59 - 9s - loss: 0.2482 - accuracy: 0.9106 - val_loss: 0.3311 - val_accuracy: 0.8121 - lr: 0.0010 - 9s/epoch - 155ms/step
Epoch 61/75
59/59 - 9s - loss: 0.2483 - accuracy: 0.9100 - val_loss: 0.3327 - val_accuracy: 0.8063 - lr: 0.0010 - 9s/epoch - 158ms/step
Epoch 62/75
59/59 - 9s - loss: 0.2493 - accuracy: 0.9078 - val_loss: 0.3344 - val_accuracy: 0.7953 - lr: 0.0010 - 9s/epoch - 153ms/step
Epoch 63/75
59/59 - 9s - loss: 0.2488 - accuracy: 0.9101 - val_loss: 0.3327 - val_accuracy: 0.8069 - lr: 0.0010 - 9s/epoch - 156ms/step
Epoch 64/75
59/59 - 10s - loss: 0.2472 - accuracy: 0.9123 - val_loss: 0.3436 - val_accuracy: 0.7978 - lr: 0.0010 - 10s/epoch - 161ms/step
Epoch 65/75
59/59 - 10s - loss: 0.2475 - accuracy: 0.9122 - val_loss: 0.3392 - val_accuracy: 0.7961 - lr: 0.0010 - 10s/epoch - 167ms/step
Epoch 66/75
59/59 - 10s - loss: 0.2492 - accuracy: 0.9086 - val_loss: 0.3360 - val_accuracy: 0.7965 - lr: 0.0010 - 10s/epoch - 170ms/step
Epoch 67/75
59/59 - 10s - loss: 0.2485 - accuracy: 0.9098 - val_loss: 0.3443 - val_accuracy: 0.7968 - lr: 0.0010 - 10s/epoch - 165ms/step
Epoch 68/75
59/59 - 10s - loss: 0.2508 - accuracy: 0.9049 - val_loss: 0.3368 - val_accuracy: 0.7974 - lr: 0.0010 - 10s/epoch - 177ms/step
Epoch 69/75
59/59 - 9s - loss: 0.2456 - accuracy: 0.9158 - val_loss: 0.3431 - val_accuracy: 0.7993 - lr: 0.0010 - 9s/epoch - 156ms/step
Epoch 70/75
59/59 - 9s - loss: 0.2499 - accuracy: 0.9070 - val_loss: 0.3321 - val_accuracy: 0.8087 - lr: 0.0010 - 9s/epoch - 152ms/step
Epoch 71/75
59/59 - 9s - loss: 0.2481 - accuracy: 0.9116 - val_loss: 0.3299 - val_accuracy: 0.8122 - lr: 0.0010 - 9s/epoch - 161ms/step
Epoch 72/75
59/59 - 10s - loss: 0.2469 - accuracy: 0.9128 - val_loss: 0.3437 - val_accuracy: 0.7920 - lr: 0.0010 - 10s/epoch - 172ms/step
Epoch 73/75
59/59 - 10s - loss: 0.2485 - accuracy: 0.9093 - val_loss: 0.3308 - val_accuracy: 0.8108 - lr: 0.0010 - 10s/epoch - 168ms/step
Epoch 74/75
59/59 - 10s - loss: 0.2482 - accuracy: 0.9108 - val_loss: 0.3210 - val_accuracy: 0.8182 - lr: 0.0010 - 10s/epoch - 166ms/step
Epoch 75/75
59/59 - 9s - loss: 0.2479 - accuracy: 0.9106 - val_loss: 0.3330 - val_accuracy: 0.8052 - lr: 0.0010 - 9s/epoch - 154ms/step
fitting with batch size: 2500
Epoch 1/75
36/36 - 12s - loss: 0.2421 - accuracy: 0.9229 - val_loss: 0.3461 - val_accuracy: 0.7933 - lr: 0.0010 - 12s/epoch - 325ms/step
Epoch 2/75
36/36 - 9s - loss: 0.2560 - accuracy: 0.8965 - val_loss: 0.3230 - val_accuracy: 0.8160 - lr: 0.0010 - 9s/epoch - 262ms/step
Epoch 3/75
36/36 - 9s - loss: 0.2491 - accuracy: 0.9094 - val_loss: 0.3201 - val_accuracy: 0.8269 - lr: 0.0010 - 9s/epoch - 256ms/step
Epoch 4/75
36/36 - 9s - loss: 0.2420 - accuracy: 0.9231 - val_loss: 0.3393 - val_accuracy: 0.8040 - lr: 0.0010 - 9s/epoch - 251ms/step
Epoch 5/75
36/36 - 9s - loss: 0.2440 - accuracy: 0.9188 - val_loss: 0.3482 - val_accuracy: 0.7923 - lr: 0.0010 - 9s/epoch - 260ms/step
Epoch 6/75
36/36 - 9s - loss: 0.2519 - accuracy: 0.9032 - val_loss: 0.3462 - val_accuracy: 0.7883 - lr: 0.0010 - 9s/epoch - 259ms/step
Epoch 7/75
36/36 - 9s - loss: 0.2473 - accuracy: 0.9128 - val_loss: 0.3378 - val_accuracy: 0.8093 - lr: 0.0010 - 9s/epoch - 258ms/step
Epoch 8/75
36/36 - 9s - loss: 0.2616 - accuracy: 0.8869 - val_loss: 0.3230 - val_accuracy: 0.8117 - lr: 0.0010 - 9s/epoch - 249ms/step
Epoch 9/75
36/36 - 9s - loss: 0.2587 - accuracy: 0.8917 - val_loss: 0.3177 - val_accuracy: 0.8219 - lr: 0.0010 - 9s/epoch - 257ms/step
Epoch 10/75
36/36 - 9s - loss: 0.2640 - accuracy: 0.8807 - val_loss: 0.3231 - val_accuracy: 0.8143 - lr: 0.0010 - 9s/epoch - 248ms/step
Epoch 11/75
36/36 - 9s - loss: 0.2443 - accuracy: 0.9181 - val_loss: 0.3274 - val_accuracy: 0.8125 - lr: 0.0010 - 9s/epoch - 259ms/step
Epoch 12/75
36/36 - 9s - loss: 0.2444 - accuracy: 0.9179 - val_loss: 0.3347 - val_accuracy: 0.8030 - lr: 0.0010 - 9s/epoch - 251ms/step
Epoch 13/75
36/36 - 9s - loss: 0.2513 - accuracy: 0.9051 - val_loss: 0.3278 - val_accuracy: 0.8119 - lr: 0.0010 - 9s/epoch - 250ms/step
Epoch 14/75
36/36 - 9s - loss: 0.2445 - accuracy: 0.9175 - val_loss: 0.3454 - val_accuracy: 0.7930 - lr: 0.0010 - 9s/epoch - 248ms/step
Epoch 15/75
36/36 - 9s - loss: 0.2520 - accuracy: 0.9033 - val_loss: 0.3364 - val_accuracy: 0.7981 - lr: 0.0010 - 9s/epoch - 248ms/step
Epoch 16/75
36/36 - 9s - loss: 0.2415 - accuracy: 0.9234 - val_loss: 0.3396 - val_accuracy: 0.7983 - lr: 0.0010 - 9s/epoch - 250ms/step
Epoch 17/75
36/36 - 9s - loss: 0.2420 - accuracy: 0.9221 - val_loss: 0.3551 - val_accuracy: 0.7855 - lr: 0.0010 - 9s/epoch - 257ms/step
Epoch 18/75
36/36 - 9s - loss: 0.2527 - accuracy: 0.9029 - val_loss: 0.3369 - val_accuracy: 0.7977 - lr: 0.0010 - 9s/epoch - 252ms/step
Epoch 19/75
36/36 - 9s - loss: 0.2476 - accuracy: 0.9106 - val_loss: 0.3409 - val_accuracy: 0.7933 - lr: 0.0010 - 9s/epoch - 258ms/step
Epoch 20/75
36/36 - 9s - loss: 0.2477 - accuracy: 0.9106 - val_loss: 0.3374 - val_accuracy: 0.7988 - lr: 0.0010 - 9s/epoch - 262ms/step
Epoch 21/75
36/36 - 9s - loss: 0.2469 - accuracy: 0.9128 - val_loss: 0.3372 - val_accuracy: 0.8045 - lr: 0.0010 - 9s/epoch - 254ms/step
Epoch 22/75
36/36 - 10s - loss: 0.2644 - accuracy: 0.8816 - val_loss: 0.3178 - val_accuracy: 0.8212 - lr: 0.0010 - 10s/epoch - 291ms/step
Epoch 23/75
36/36 - 10s - loss: 0.2764 - accuracy: 0.8596 - val_loss: 0.3140 - val_accuracy: 0.8216 - lr: 0.0010 - 10s/epoch - 266ms/step
Epoch 24/75
36/36 - 9s - loss: 0.2585 - accuracy: 0.8909 - val_loss: 0.3172 - val_accuracy: 0.8198 - lr: 0.0010 - 9s/epoch - 250ms/step
Epoch 25/75
36/36 - 9s - loss: 0.2550 - accuracy: 0.8978 - val_loss: 0.3189 - val_accuracy: 0.8228 - lr: 0.0010 - 9s/epoch - 251ms/step
Epoch 26/75
36/36 - 9s - loss: 0.2418 - accuracy: 0.9230 - val_loss: 0.3359 - val_accuracy: 0.8069 - lr: 0.0010 - 9s/epoch - 252ms/step
Epoch 27/75
36/36 - 9s - loss: 0.2462 - accuracy: 0.9138 - val_loss: 0.3324 - val_accuracy: 0.8125 - lr: 0.0010 - 9s/epoch - 251ms/step
Epoch 28/75
36/36 - 9s - loss: 0.2413 - accuracy: 0.9236 - val_loss: 0.3448 - val_accuracy: 0.7974 - lr: 0.0010 - 9s/epoch - 250ms/step
Epoch 29/75
36/36 - 9s - loss: 0.2420 - accuracy: 0.9236 - val_loss: 0.3532 - val_accuracy: 0.7891 - lr: 0.0010 - 9s/epoch - 250ms/step
Epoch 30/75
36/36 - 9s - loss: 0.2674 - accuracy: 0.8761 - val_loss: 0.3189 - val_accuracy: 0.8239 - lr: 0.0010 - 9s/epoch - 251ms/step
Epoch 31/75
36/36 - 9s - loss: 0.2536 - accuracy: 0.9001 - val_loss: 0.3415 - val_accuracy: 0.7921 - lr: 0.0010 - 9s/epoch - 248ms/step
Epoch 32/75
36/36 - 9s - loss: 0.2522 - accuracy: 0.9034 - val_loss: 0.3378 - val_accuracy: 0.7952 - lr: 0.0010 - 9s/epoch - 250ms/step
Epoch 33/75
36/36 - 9s - loss: 0.2459 - accuracy: 0.9147 - val_loss: 0.3320 - val_accuracy: 0.8105 - lr: 0.0010 - 9s/epoch - 251ms/step
Epoch 34/75
36/36 - 9s - loss: 0.2416 - accuracy: 0.9230 - val_loss: 0.3503 - val_accuracy: 0.7954 - lr: 0.0010 - 9s/epoch - 250ms/step
Epoch 35/75
36/36 - 9s - loss: 0.2542 - accuracy: 0.9002 - val_loss: 0.3271 - val_accuracy: 0.8095 - lr: 0.0010 - 9s/epoch - 250ms/step
Epoch 36/75
36/36 - 9s - loss: 0.2479 - accuracy: 0.9108 - val_loss: 0.3332 - val_accuracy: 0.8069 - lr: 0.0010 - 9s/epoch - 252ms/step
Epoch 37/75
36/36 - 9s - loss: 0.2486 - accuracy: 0.9095 - val_loss: 0.3261 - val_accuracy: 0.8168 - lr: 0.0010 - 9s/epoch - 251ms/step
Epoch 38/75
36/36 - 9s - loss: 0.2465 - accuracy: 0.9138 - val_loss: 0.3384 - val_accuracy: 0.8060 - lr: 0.0010 - 9s/epoch - 251ms/step
Epoch 39/75
36/36 - 9s - loss: 0.2648 - accuracy: 0.8808 - val_loss: 0.3305 - val_accuracy: 0.8005 - lr: 0.0010 - 9s/epoch - 251ms/step
Epoch 40/75
36/36 - 9s - loss: 0.2497 - accuracy: 0.9085 - val_loss: 0.3210 - val_accuracy: 0.8214 - lr: 0.0010 - 9s/epoch - 252ms/step
Epoch 41/75
36/36 - 9s - loss: 0.2486 - accuracy: 0.9091 - val_loss: 0.3362 - val_accuracy: 0.8021 - lr: 0.0010 - 9s/epoch - 251ms/step
Epoch 42/75
36/36 - 9s - loss: 0.2503 - accuracy: 0.9057 - val_loss: 0.3348 - val_accuracy: 0.7993 - lr: 0.0010 - 9s/epoch - 251ms/step
Epoch 43/75
36/36 - 9s - loss: 0.2490 - accuracy: 0.9099 - val_loss: 0.3376 - val_accuracy: 0.7996 - lr: 0.0010 - 9s/epoch - 248ms/step
Epoch 44/75
36/36 - 9s - loss: 0.2412 - accuracy: 0.9237 - val_loss: 0.3493 - val_accuracy: 0.7944 - lr: 0.0010 - 9s/epoch - 251ms/step
Epoch 45/75
36/36 - 9s - loss: 0.2435 - accuracy: 0.9188 - val_loss: 0.3428 - val_accuracy: 0.8007 - lr: 0.0010 - 9s/epoch - 253ms/step
Epoch 46/75
36/36 - 9s - loss: 0.2422 - accuracy: 0.9221 - val_loss: 0.3434 - val_accuracy: 0.8031 - lr: 0.0010 - 9s/epoch - 253ms/step
Epoch 47/75
36/36 - 9s - loss: 0.2503 - accuracy: 0.9070 - val_loss: 0.3419 - val_accuracy: 0.8017 - lr: 0.0010 - 9s/epoch - 252ms/step
Epoch 48/75
36/36 - 9s - loss: 0.2587 - accuracy: 0.8916 - val_loss: 0.3401 - val_accuracy: 0.7941 - lr: 0.0010 - 9s/epoch - 252ms/step
Epoch 49/75
36/36 - 9s - loss: 0.2633 - accuracy: 0.8830 - val_loss: 0.3364 - val_accuracy: 0.7962 - lr: 0.0010 - 9s/epoch - 250ms/step
Epoch 50/75
36/36 - 9s - loss: 0.2516 - accuracy: 0.9034 - val_loss: 0.3329 - val_accuracy: 0.8036 - lr: 0.0010 - 9s/epoch - 252ms/step
Epoch 51/75
36/36 - 9s - loss: 0.2416 - accuracy: 0.9239 - val_loss: 0.3408 - val_accuracy: 0.7987 - lr: 0.0010 - 9s/epoch - 248ms/step
Epoch 52/75
36/36 - 9s - loss: 0.2417 - accuracy: 0.9226 - val_loss: 0.3393 - val_accuracy: 0.8092 - lr: 0.0010 - 9s/epoch - 250ms/step
Epoch 53/75
36/36 - 9s - loss: 0.2406 - accuracy: 0.9245 - val_loss: 0.3335 - val_accuracy: 0.8151 - lr: 0.0010 - 9s/epoch - 255ms/step
Epoch 54/75
36/36 - 9s - loss: 0.2562 - accuracy: 0.8962 - val_loss: 0.3419 - val_accuracy: 0.7881 - lr: 0.0010 - 9s/epoch - 252ms/step
Epoch 55/75
36/36 - 9s - loss: 0.2523 - accuracy: 0.9033 - val_loss: 0.3411 - val_accuracy: 0.7931 - lr: 0.0010 - 9s/epoch - 253ms/step
Epoch 56/75
36/36 - 9s - loss: 0.2435 - accuracy: 0.9193 - val_loss: 0.3274 - val_accuracy: 0.8185 - lr: 0.0010 - 9s/epoch - 251ms/step
Epoch 57/75
36/36 - 9s - loss: 0.2556 - accuracy: 0.8964 - val_loss: 0.3263 - val_accuracy: 0.8153 - lr: 0.0010 - 9s/epoch - 249ms/step
Epoch 58/75
36/36 - 9s - loss: 0.2409 - accuracy: 0.9247 - val_loss: 0.3345 - val_accuracy: 0.8099 - lr: 0.0010 - 9s/epoch - 251ms/step
Epoch 59/75
36/36 - 9s - loss: 0.2393 - accuracy: 0.9272 - val_loss: 0.3431 - val_accuracy: 0.8016 - lr: 0.0010 - 9s/epoch - 250ms/step
Epoch 60/75
36/36 - 9s - loss: 0.2430 - accuracy: 0.9204 - val_loss: 0.3290 - val_accuracy: 0.8243 - lr: 0.0010 - 9s/epoch - 250ms/step
Epoch 61/75
36/36 - 9s - loss: 0.2468 - accuracy: 0.9132 - val_loss: 0.3416 - val_accuracy: 0.7978 - lr: 0.0010 - 9s/epoch - 252ms/step
Epoch 62/75
36/36 - 9s - loss: 0.2492 - accuracy: 0.9094 - val_loss: 0.3393 - val_accuracy: 0.7981 - lr: 0.0010 - 9s/epoch - 249ms/step
Epoch 63/75
36/36 - 9s - loss: 0.2473 - accuracy: 0.9124 - val_loss: 0.3372 - val_accuracy: 0.8064 - lr: 0.0010 - 9s/epoch - 251ms/step
Epoch 64/75
36/36 - 9s - loss: 0.2440 - accuracy: 0.9179 - val_loss: 0.3464 - val_accuracy: 0.7882 - lr: 0.0010 - 9s/epoch - 250ms/step
Epoch 65/75
36/36 - 9s - loss: 0.2386 - accuracy: 0.9290 - val_loss: 0.3446 - val_accuracy: 0.7993 - lr: 0.0010 - 9s/epoch - 251ms/step
Epoch 66/75
36/36 - 9s - loss: 0.2471 - accuracy: 0.9129 - val_loss: 0.3475 - val_accuracy: 0.7859 - lr: 0.0010 - 9s/epoch - 250ms/step
Epoch 67/75
36/36 - 9s - loss: 0.2537 - accuracy: 0.9020 - val_loss: 0.3391 - val_accuracy: 0.7956 - lr: 0.0010 - 9s/epoch - 251ms/step
Epoch 68/75
36/36 - 9s - loss: 0.2525 - accuracy: 0.9027 - val_loss: 0.3374 - val_accuracy: 0.7997 - lr: 0.0010 - 9s/epoch - 250ms/step
Epoch 69/75
36/36 - 9s - loss: 0.2440 - accuracy: 0.9188 - val_loss: 0.3328 - val_accuracy: 0.8048 - lr: 0.0010 - 9s/epoch - 249ms/step
Epoch 70/75
36/36 - 9s - loss: 0.2443 - accuracy: 0.9167 - val_loss: 0.3510 - val_accuracy: 0.7849 - lr: 0.0010 - 9s/epoch - 250ms/step
Epoch 71/75
36/36 - 9s - loss: 0.2416 - accuracy: 0.9230 - val_loss: 0.3309 - val_accuracy: 0.8170 - lr: 0.0010 - 9s/epoch - 251ms/step
Epoch 72/75
36/36 - 9s - loss: 0.2433 - accuracy: 0.9206 - val_loss: 0.3465 - val_accuracy: 0.7952 - lr: 0.0010 - 9s/epoch - 252ms/step
Epoch 73/75
36/36 - 9s - loss: 0.2585 - accuracy: 0.8932 - val_loss: 0.3383 - val_accuracy: 0.7940 - lr: 0.0010 - 9s/epoch - 250ms/step
Epoch 74/75
36/36 - 9s - loss: 0.2481 - accuracy: 0.9101 - val_loss: 0.3373 - val_accuracy: 0.7940 - lr: 0.0010 - 9s/epoch - 249ms/step
Epoch 75/75
36/36 - 9s - loss: 0.2401 - accuracy: 0.9262 - val_loss: 0.3516 - val_accuracy: 0.7840 - lr: 0.0010 - 9s/epoch - 251ms/step
Epoch number: 100
fitting with batch size: 1500
Epoch 1/100
59/59 - 12s - loss: 0.2525 - accuracy: 0.9033 - val_loss: 0.3493 - val_accuracy: 0.7813 - lr: 0.0010 - 12s/epoch - 197ms/step
Epoch 2/100
59/59 - 9s - loss: 0.2483 - accuracy: 0.9103 - val_loss: 0.3352 - val_accuracy: 0.8035 - lr: 0.0010 - 9s/epoch - 156ms/step
Epoch 3/100
59/59 - 9s - loss: 0.2457 - accuracy: 0.9150 - val_loss: 0.3348 - val_accuracy: 0.8077 - lr: 0.0010 - 9s/epoch - 155ms/step
Epoch 4/100
59/59 - 9s - loss: 0.2465 - accuracy: 0.9142 - val_loss: 0.3310 - val_accuracy: 0.8002 - lr: 0.0010 - 9s/epoch - 155ms/step
Epoch 5/100
59/59 - 9s - loss: 0.2472 - accuracy: 0.9125 - val_loss: 0.3429 - val_accuracy: 0.8022 - lr: 0.0010 - 9s/epoch - 155ms/step
Epoch 6/100
59/59 - 9s - loss: 0.2504 - accuracy: 0.9045 - val_loss: 0.3221 - val_accuracy: 0.8242 - lr: 0.0010 - 9s/epoch - 157ms/step
Epoch 7/100
59/59 - 9s - loss: 0.2477 - accuracy: 0.9108 - val_loss: 0.3372 - val_accuracy: 0.7956 - lr: 0.0010 - 9s/epoch - 154ms/step
Epoch 8/100
59/59 - 9s - loss: 0.2475 - accuracy: 0.9118 - val_loss: 0.3426 - val_accuracy: 0.7954 - lr: 0.0010 - 9s/epoch - 154ms/step
Epoch 9/100
59/59 - 9s - loss: 0.2480 - accuracy: 0.9103 - val_loss: 0.3269 - val_accuracy: 0.8166 - lr: 0.0010 - 9s/epoch - 155ms/step
Epoch 10/100
59/59 - 9s - loss: 0.2467 - accuracy: 0.9133 - val_loss: 0.3410 - val_accuracy: 0.8006 - lr: 0.0010 - 9s/epoch - 153ms/step
Epoch 11/100
59/59 - 9s - loss: 0.2484 - accuracy: 0.9100 - val_loss: 0.3302 - val_accuracy: 0.8144 - lr: 0.0010 - 9s/epoch - 156ms/step
Epoch 12/100
59/59 - 9s - loss: 0.2462 - accuracy: 0.9147 - val_loss: 0.3310 - val_accuracy: 0.8096 - lr: 0.0010 - 9s/epoch - 155ms/step
Epoch 13/100
59/59 - 9s - loss: 0.2494 - accuracy: 0.9081 - val_loss: 0.3304 - val_accuracy: 0.8126 - lr: 0.0010 - 9s/epoch - 156ms/step
Epoch 14/100
59/59 - 9s - loss: 0.2462 - accuracy: 0.9146 - val_loss: 0.3416 - val_accuracy: 0.7919 - lr: 0.0010 - 9s/epoch - 155ms/step
Epoch 15/100
59/59 - 9s - loss: 0.2497 - accuracy: 0.9070 - val_loss: 0.3462 - val_accuracy: 0.7764 - lr: 0.0010 - 9s/epoch - 155ms/step
Epoch 16/100
59/59 - 9s - loss: 0.2461 - accuracy: 0.9148 - val_loss: 0.3358 - val_accuracy: 0.8098 - lr: 0.0010 - 9s/epoch - 155ms/step
Epoch 17/100
59/59 - 9s - loss: 0.2491 - accuracy: 0.9083 - val_loss: 0.3363 - val_accuracy: 0.8029 - lr: 0.0010 - 9s/epoch - 156ms/step
Epoch 18/100
59/59 - 9s - loss: 0.2466 - accuracy: 0.9132 - val_loss: 0.3283 - val_accuracy: 0.8140 - lr: 0.0010 - 9s/epoch - 155ms/step
Epoch 19/100
59/59 - 9s - loss: 0.2469 - accuracy: 0.9131 - val_loss: 0.3311 - val_accuracy: 0.8108 - lr: 0.0010 - 9s/epoch - 155ms/step
Epoch 20/100
59/59 - 9s - loss: 0.2468 - accuracy: 0.9134 - val_loss: 0.3473 - val_accuracy: 0.7826 - lr: 0.0010 - 9s/epoch - 154ms/step
Epoch 21/100
59/59 - 9s - loss: 0.2463 - accuracy: 0.9136 - val_loss: 0.3381 - val_accuracy: 0.8013 - lr: 0.0010 - 9s/epoch - 156ms/step
Epoch 22/100
59/59 - 9s - loss: 0.2490 - accuracy: 0.9100 - val_loss: 0.3351 - val_accuracy: 0.8086 - lr: 0.0010 - 9s/epoch - 155ms/step
Epoch 23/100
59/59 - 9s - loss: 0.2466 - accuracy: 0.9138 - val_loss: 0.3273 - val_accuracy: 0.8157 - lr: 0.0010 - 9s/epoch - 155ms/step
Epoch 24/100
59/59 - 9s - loss: 0.2460 - accuracy: 0.9147 - val_loss: 0.3391 - val_accuracy: 0.8008 - lr: 0.0010 - 9s/epoch - 157ms/step
Epoch 25/100
59/59 - 9s - loss: 0.2469 - accuracy: 0.9128 - val_loss: 0.3459 - val_accuracy: 0.7882 - lr: 0.0010 - 9s/epoch - 157ms/step
Epoch 26/100
59/59 - 9s - loss: 0.2483 - accuracy: 0.9102 - val_loss: 0.3374 - val_accuracy: 0.8035 - lr: 0.0010 - 9s/epoch - 155ms/step
Epoch 27/100
59/59 - 9s - loss: 0.2458 - accuracy: 0.9152 - val_loss: 0.3354 - val_accuracy: 0.8030 - lr: 0.0010 - 9s/epoch - 155ms/step
Epoch 28/100
59/59 - 9s - loss: 0.2477 - accuracy: 0.9124 - val_loss: 0.3258 - val_accuracy: 0.8196 - lr: 0.0010 - 9s/epoch - 156ms/step
Epoch 29/100
59/59 - 9s - loss: 0.2475 - accuracy: 0.9122 - val_loss: 0.3399 - val_accuracy: 0.7908 - lr: 0.0010 - 9s/epoch - 156ms/step
Epoch 30/100
59/59 - 9s - loss: 0.2494 - accuracy: 0.9081 - val_loss: 0.3317 - val_accuracy: 0.8056 - lr: 0.0010 - 9s/epoch - 154ms/step
Epoch 31/100
59/59 - 9s - loss: 0.2446 - accuracy: 0.9179 - val_loss: 0.3433 - val_accuracy: 0.7934 - lr: 0.0010 - 9s/epoch - 158ms/step
Epoch 32/100
59/59 - 9s - loss: 0.2483 - accuracy: 0.9115 - val_loss: 0.3265 - val_accuracy: 0.8157 - lr: 0.0010 - 9s/epoch - 155ms/step
Epoch 33/100
59/59 - 9s - loss: 0.2471 - accuracy: 0.9125 - val_loss: 0.3361 - val_accuracy: 0.7987 - lr: 0.0010 - 9s/epoch - 156ms/step
Epoch 34/100
59/59 - 9s - loss: 0.2478 - accuracy: 0.9112 - val_loss: 0.3357 - val_accuracy: 0.8043 - lr: 0.0010 - 9s/epoch - 157ms/step
Epoch 35/100
59/59 - 9s - loss: 0.2472 - accuracy: 0.9123 - val_loss: 0.3444 - val_accuracy: 0.7953 - lr: 0.0010 - 9s/epoch - 154ms/step
Epoch 36/100
59/59 - 9s - loss: 0.2458 - accuracy: 0.9149 - val_loss: 0.3229 - val_accuracy: 0.8169 - lr: 0.0010 - 9s/epoch - 155ms/step
Epoch 37/100
59/59 - 9s - loss: 0.2475 - accuracy: 0.9113 - val_loss: 0.3388 - val_accuracy: 0.7960 - lr: 0.0010 - 9s/epoch - 156ms/step
Epoch 38/100
59/59 - 9s - loss: 0.2469 - accuracy: 0.9126 - val_loss: 0.3384 - val_accuracy: 0.7978 - lr: 0.0010 - 9s/epoch - 156ms/step
Epoch 39/100
59/59 - 9s - loss: 0.2476 - accuracy: 0.9111 - val_loss: 0.3317 - val_accuracy: 0.8054 - lr: 0.0010 - 9s/epoch - 157ms/step
Epoch 40/100
59/59 - 9s - loss: 0.2467 - accuracy: 0.9145 - val_loss: 0.3440 - val_accuracy: 0.7891 - lr: 0.0010 - 9s/epoch - 155ms/step
Epoch 41/100
59/59 - 9s - loss: 0.2481 - accuracy: 0.9109 - val_loss: 0.3242 - val_accuracy: 0.8152 - lr: 0.0010 - 9s/epoch - 155ms/step
Epoch 42/100
59/59 - 9s - loss: 0.2465 - accuracy: 0.9133 - val_loss: 0.3519 - val_accuracy: 0.7798 - lr: 0.0010 - 9s/epoch - 155ms/step
Epoch 43/100
59/59 - 9s - loss: 0.2475 - accuracy: 0.9110 - val_loss: 0.3321 - val_accuracy: 0.8092 - lr: 0.0010 - 9s/epoch - 155ms/step
Epoch 44/100
59/59 - 9s - loss: 0.2457 - accuracy: 0.9148 - val_loss: 0.3367 - val_accuracy: 0.8057 - lr: 0.0010 - 9s/epoch - 157ms/step
Epoch 45/100
59/59 - 9s - loss: 0.2452 - accuracy: 0.9158 - val_loss: 0.3493 - val_accuracy: 0.7917 - lr: 0.0010 - 9s/epoch - 156ms/step
Epoch 46/100
59/59 - 9s - loss: 0.2470 - accuracy: 0.9129 - val_loss: 0.3277 - val_accuracy: 0.8201 - lr: 0.0010 - 9s/epoch - 154ms/step
Epoch 47/100
59/59 - 9s - loss: 0.2461 - accuracy: 0.9147 - val_loss: 0.3356 - val_accuracy: 0.8052 - lr: 0.0010 - 9s/epoch - 155ms/step
Epoch 48/100
59/59 - 9s - loss: 0.2477 - accuracy: 0.9110 - val_loss: 0.3334 - val_accuracy: 0.8121 - lr: 0.0010 - 9s/epoch - 156ms/step
Epoch 49/100
59/59 - 9s - loss: 0.2446 - accuracy: 0.9165 - val_loss: 0.3386 - val_accuracy: 0.8071 - lr: 0.0010 - 9s/epoch - 157ms/step
Epoch 50/100
59/59 - 9s - loss: 0.2464 - accuracy: 0.9134 - val_loss: 0.3366 - val_accuracy: 0.8079 - lr: 0.0010 - 9s/epoch - 156ms/step
Epoch 51/100
59/59 - 9s - loss: 0.2479 - accuracy: 0.9116 - val_loss: 0.3349 - val_accuracy: 0.8049 - lr: 0.0010 - 9s/epoch - 156ms/step
Epoch 52/100
59/59 - 9s - loss: 0.2477 - accuracy: 0.9114 - val_loss: 0.3362 - val_accuracy: 0.7972 - lr: 0.0010 - 9s/epoch - 156ms/step
Epoch 53/100
59/59 - 9s - loss: 0.2474 - accuracy: 0.9115 - val_loss: 0.3292 - val_accuracy: 0.8122 - lr: 0.0010 - 9s/epoch - 156ms/step
Epoch 54/100
59/59 - 9s - loss: 0.2467 - accuracy: 0.9131 - val_loss: 0.3366 - val_accuracy: 0.7965 - lr: 0.0010 - 9s/epoch - 155ms/step
Epoch 55/100
59/59 - 9s - loss: 0.2477 - accuracy: 0.9120 - val_loss: 0.3256 - val_accuracy: 0.8219 - lr: 0.0010 - 9s/epoch - 154ms/step
Epoch 56/100
59/59 - 9s - loss: 0.2454 - accuracy: 0.9152 - val_loss: 0.3300 - val_accuracy: 0.8092 - lr: 0.0010 - 9s/epoch - 157ms/step
Epoch 57/100
59/59 - 9s - loss: 0.2467 - accuracy: 0.9134 - val_loss: 0.3493 - val_accuracy: 0.7831 - lr: 0.0010 - 9s/epoch - 155ms/step
Epoch 58/100
59/59 - 9s - loss: 0.2486 - accuracy: 0.9093 - val_loss: 0.3377 - val_accuracy: 0.8013 - lr: 0.0010 - 9s/epoch - 154ms/step
Epoch 59/100
59/59 - 9s - loss: 0.2456 - accuracy: 0.9151 - val_loss: 0.3297 - val_accuracy: 0.8142 - lr: 0.0010 - 9s/epoch - 153ms/step
Epoch 60/100
59/59 - 9s - loss: 0.2476 - accuracy: 0.9113 - val_loss: 0.3373 - val_accuracy: 0.8037 - lr: 0.0010 - 9s/epoch - 154ms/step
Epoch 61/100
59/59 - 9s - loss: 0.2448 - accuracy: 0.9164 - val_loss: 0.3413 - val_accuracy: 0.8020 - lr: 0.0010 - 9s/epoch - 154ms/step
Epoch 62/100
59/59 - 9s - loss: 0.2499 - accuracy: 0.9081 - val_loss: 0.3402 - val_accuracy: 0.7971 - lr: 0.0010 - 9s/epoch - 154ms/step
Epoch 63/100
59/59 - 9s - loss: 0.2463 - accuracy: 0.9143 - val_loss: 0.3398 - val_accuracy: 0.7941 - lr: 0.0010 - 9s/epoch - 155ms/step
Epoch 64/100
59/59 - 9s - loss: 0.2451 - accuracy: 0.9163 - val_loss: 0.3346 - val_accuracy: 0.8107 - lr: 0.0010 - 9s/epoch - 154ms/step
Epoch 65/100
59/59 - 9s - loss: 0.2467 - accuracy: 0.9138 - val_loss: 0.3330 - val_accuracy: 0.8160 - lr: 0.0010 - 9s/epoch - 155ms/step
Epoch 66/100
59/59 - 9s - loss: 0.2447 - accuracy: 0.9163 - val_loss: 0.3260 - val_accuracy: 0.8230 - lr: 0.0010 - 9s/epoch - 156ms/step
Epoch 67/100
59/59 - 9s - loss: 0.2467 - accuracy: 0.9135 - val_loss: 0.3298 - val_accuracy: 0.8152 - lr: 0.0010 - 9s/epoch - 155ms/step
Epoch 68/100
59/59 - 9s - loss: 0.2461 - accuracy: 0.9136 - val_loss: 0.3403 - val_accuracy: 0.7989 - lr: 0.0010 - 9s/epoch - 154ms/step
Epoch 69/100
59/59 - 9s - loss: 0.2464 - accuracy: 0.9139 - val_loss: 0.3330 - val_accuracy: 0.8103 - lr: 0.0010 - 9s/epoch - 155ms/step
Epoch 70/100
59/59 - 9s - loss: 0.2501 - accuracy: 0.9069 - val_loss: 0.3269 - val_accuracy: 0.8181 - lr: 0.0010 - 9s/epoch - 154ms/step
Epoch 71/100
59/59 - 9s - loss: 0.2461 - accuracy: 0.9147 - val_loss: 0.3316 - val_accuracy: 0.8134 - lr: 0.0010 - 9s/epoch - 155ms/step
Epoch 72/100
59/59 - 9s - loss: 0.2470 - accuracy: 0.9126 - val_loss: 0.3375 - val_accuracy: 0.8021 - lr: 0.0010 - 9s/epoch - 156ms/step
Epoch 73/100
59/59 - 9s - loss: 0.2454 - accuracy: 0.9149 - val_loss: 0.3238 - val_accuracy: 0.8233 - lr: 0.0010 - 9s/epoch - 156ms/step
Epoch 74/100
59/59 - 9s - loss: 0.2460 - accuracy: 0.9139 - val_loss: 0.3380 - val_accuracy: 0.8019 - lr: 0.0010 - 9s/epoch - 155ms/step
Epoch 75/100
59/59 - 9s - loss: 0.2463 - accuracy: 0.9134 - val_loss: 0.3365 - val_accuracy: 0.8080 - lr: 0.0010 - 9s/epoch - 155ms/step
Epoch 76/100
59/59 - 9s - loss: 0.2454 - accuracy: 0.9158 - val_loss: 0.3417 - val_accuracy: 0.7960 - lr: 0.0010 - 9s/epoch - 155ms/step
Epoch 77/100
59/59 - 9s - loss: 0.2476 - accuracy: 0.9117 - val_loss: 0.3340 - val_accuracy: 0.8021 - lr: 0.0010 - 9s/epoch - 155ms/step
Epoch 78/100
59/59 - 9s - loss: 0.2473 - accuracy: 0.9123 - val_loss: 0.3356 - val_accuracy: 0.8079 - lr: 0.0010 - 9s/epoch - 155ms/step
Epoch 79/100
59/59 - 9s - loss: 0.2461 - accuracy: 0.9139 - val_loss: 0.3412 - val_accuracy: 0.8004 - lr: 0.0010 - 9s/epoch - 155ms/step
Epoch 80/100
59/59 - 9s - loss: 0.2465 - accuracy: 0.9122 - val_loss: 0.3293 - val_accuracy: 0.8099 - lr: 0.0010 - 9s/epoch - 154ms/step
Epoch 81/100
59/59 - 9s - loss: 0.2478 - accuracy: 0.9103 - val_loss: 0.3294 - val_accuracy: 0.8118 - lr: 0.0010 - 9s/epoch - 155ms/step
Epoch 82/100
59/59 - 9s - loss: 0.2461 - accuracy: 0.9142 - val_loss: 0.3217 - val_accuracy: 0.8222 - lr: 0.0010 - 9s/epoch - 155ms/step
Epoch 83/100
59/59 - 9s - loss: 0.2479 - accuracy: 0.9111 - val_loss: 0.3399 - val_accuracy: 0.7954 - lr: 0.0010 - 9s/epoch - 153ms/step
Epoch 84/100
59/59 - 9s - loss: 0.2460 - accuracy: 0.9148 - val_loss: 0.3288 - val_accuracy: 0.8127 - lr: 0.0010 - 9s/epoch - 155ms/step
Epoch 85/100
59/59 - 9s - loss: 0.2476 - accuracy: 0.9111 - val_loss: 0.3412 - val_accuracy: 0.7950 - lr: 0.0010 - 9s/epoch - 156ms/step
Epoch 86/100
59/59 - 9s - loss: 0.2462 - accuracy: 0.9150 - val_loss: 0.3392 - val_accuracy: 0.7955 - lr: 0.0010 - 9s/epoch - 155ms/step
Epoch 87/100
59/59 - 9s - loss: 0.2455 - accuracy: 0.9151 - val_loss: 0.3266 - val_accuracy: 0.8205 - lr: 0.0010 - 9s/epoch - 156ms/step
Epoch 88/100
59/59 - 9s - loss: 0.2463 - accuracy: 0.9133 - val_loss: 0.3393 - val_accuracy: 0.7959 - lr: 0.0010 - 9s/epoch - 157ms/step
Epoch 89/100
59/59 - 9s - loss: 0.2459 - accuracy: 0.9148 - val_loss: 0.3304 - val_accuracy: 0.8117 - lr: 0.0010 - 9s/epoch - 155ms/step
Epoch 90/100
59/59 - 9s - loss: 0.2472 - accuracy: 0.9126 - val_loss: 0.3368 - val_accuracy: 0.7994 - lr: 0.0010 - 9s/epoch - 155ms/step
Epoch 91/100
59/59 - 9s - loss: 0.2470 - accuracy: 0.9124 - val_loss: 0.3348 - val_accuracy: 0.8034 - lr: 0.0010 - 9s/epoch - 157ms/step
Epoch 92/100
59/59 - 9s - loss: 0.2482 - accuracy: 0.9095 - val_loss: 0.3307 - val_accuracy: 0.8091 - lr: 0.0010 - 9s/epoch - 155ms/step
Epoch 93/100
59/59 - 9s - loss: 0.2455 - accuracy: 0.9148 - val_loss: 0.3362 - val_accuracy: 0.8014 - lr: 0.0010 - 9s/epoch - 154ms/step
Epoch 94/100
59/59 - 9s - loss: 0.2461 - accuracy: 0.9132 - val_loss: 0.3432 - val_accuracy: 0.7925 - lr: 0.0010 - 9s/epoch - 155ms/step
Epoch 95/100
59/59 - 9s - loss: 0.2458 - accuracy: 0.9158 - val_loss: 0.3352 - val_accuracy: 0.8065 - lr: 0.0010 - 9s/epoch - 156ms/step
Epoch 96/100
59/59 - 9s - loss: 0.2469 - accuracy: 0.9123 - val_loss: 0.3378 - val_accuracy: 0.7976 - lr: 0.0010 - 9s/epoch - 154ms/step
Epoch 97/100
59/59 - 9s - loss: 0.2454 - accuracy: 0.9162 - val_loss: 0.3388 - val_accuracy: 0.7918 - lr: 0.0010 - 9s/epoch - 154ms/step
Epoch 98/100
59/59 - 9s - loss: 0.2467 - accuracy: 0.9137 - val_loss: 0.3233 - val_accuracy: 0.8243 - lr: 0.0010 - 9s/epoch - 154ms/step
Epoch 99/100
59/59 - 9s - loss: 0.2466 - accuracy: 0.9142 - val_loss: 0.3445 - val_accuracy: 0.7834 - lr: 0.0010 - 9s/epoch - 155ms/step
Epoch 100/100
59/59 - 9s - loss: 0.2452 - accuracy: 0.9166 - val_loss: 0.3357 - val_accuracy: 0.8039 - lr: 0.0010 - 9s/epoch - 154ms/step
fitting with batch size: 2500
Epoch 1/100
36/36 - 12s - loss: 0.2416 - accuracy: 0.9224 - val_loss: 0.3535 - val_accuracy: 0.7812 - lr: 0.0010 - 12s/epoch - 322ms/step
Epoch 2/100
36/36 - 9s - loss: 0.2385 - accuracy: 0.9298 - val_loss: 0.3513 - val_accuracy: 0.7864 - lr: 0.0010 - 9s/epoch - 248ms/step
Epoch 3/100
36/36 - 9s - loss: 0.2467 - accuracy: 0.9132 - val_loss: 0.3333 - val_accuracy: 0.8086 - lr: 0.0010 - 9s/epoch - 251ms/step
Epoch 4/100
36/36 - 9s - loss: 0.2518 - accuracy: 0.9036 - val_loss: 0.3301 - val_accuracy: 0.8117 - lr: 0.0010 - 9s/epoch - 251ms/step
Epoch 5/100
36/36 - 9s - loss: 0.2524 - accuracy: 0.9035 - val_loss: 0.3260 - val_accuracy: 0.8150 - lr: 0.0010 - 9s/epoch - 249ms/step
Epoch 6/100
36/36 - 9s - loss: 0.2413 - accuracy: 0.9233 - val_loss: 0.3427 - val_accuracy: 0.7979 - lr: 0.0010 - 9s/epoch - 250ms/step
Epoch 7/100
36/36 - 9s - loss: 0.2449 - accuracy: 0.9169 - val_loss: 0.3400 - val_accuracy: 0.7958 - lr: 0.0010 - 9s/epoch - 251ms/step
Epoch 8/100
36/36 - 9s - loss: 0.2876 - accuracy: 0.8433 - val_loss: 0.3154 - val_accuracy: 0.8142 - lr: 0.0010 - 9s/epoch - 251ms/step
Epoch 9/100
36/36 - 9s - loss: 0.2504 - accuracy: 0.9062 - val_loss: 0.3216 - val_accuracy: 0.8154 - lr: 0.0010 - 9s/epoch - 251ms/step
Epoch 10/100
36/36 - 9s - loss: 0.2448 - accuracy: 0.9172 - val_loss: 0.3260 - val_accuracy: 0.8141 - lr: 0.0010 - 9s/epoch - 248ms/step
Epoch 11/100
36/36 - 9s - loss: 0.2487 - accuracy: 0.9084 - val_loss: 0.3348 - val_accuracy: 0.8049 - lr: 0.0010 - 9s/epoch - 249ms/step
Epoch 12/100
36/36 - 9s - loss: 0.2450 - accuracy: 0.9157 - val_loss: 0.3452 - val_accuracy: 0.7927 - lr: 0.0010 - 9s/epoch - 247ms/step
Epoch 13/100
36/36 - 9s - loss: 0.2481 - accuracy: 0.9108 - val_loss: 0.3449 - val_accuracy: 0.7853 - lr: 0.0010 - 9s/epoch - 247ms/step
Epoch 14/100
36/36 - 9s - loss: 0.2467 - accuracy: 0.9134 - val_loss: 0.3295 - val_accuracy: 0.8133 - lr: 0.0010 - 9s/epoch - 247ms/step
Epoch 15/100
36/36 - 9s - loss: 0.2389 - accuracy: 0.9278 - val_loss: 0.3535 - val_accuracy: 0.7942 - lr: 0.0010 - 9s/epoch - 248ms/step
Epoch 16/100
36/36 - 9s - loss: 0.2436 - accuracy: 0.9196 - val_loss: 0.3418 - val_accuracy: 0.8000 - lr: 0.0010 - 9s/epoch - 249ms/step
Epoch 17/100
36/36 - 9s - loss: 0.2418 - accuracy: 0.9228 - val_loss: 0.3336 - val_accuracy: 0.8173 - lr: 0.0010 - 9s/epoch - 249ms/step
Epoch 18/100
36/36 - 9s - loss: 0.2490 - accuracy: 0.9086 - val_loss: 0.3373 - val_accuracy: 0.8008 - lr: 0.0010 - 9s/epoch - 248ms/step
Epoch 19/100
36/36 - 9s - loss: 0.2397 - accuracy: 0.9264 - val_loss: 0.3331 - val_accuracy: 0.8156 - lr: 0.0010 - 9s/epoch - 249ms/step
Epoch 20/100
36/36 - 9s - loss: 0.2406 - accuracy: 0.9240 - val_loss: 0.3487 - val_accuracy: 0.7946 - lr: 0.0010 - 9s/epoch - 248ms/step
Epoch 21/100
36/36 - 9s - loss: 0.2526 - accuracy: 0.9026 - val_loss: 0.3310 - val_accuracy: 0.8100 - lr: 0.0010 - 9s/epoch - 247ms/step
Epoch 22/100
36/36 - 9s - loss: 0.2487 - accuracy: 0.9090 - val_loss: 0.3402 - val_accuracy: 0.8008 - lr: 0.0010 - 9s/epoch - 248ms/step
Epoch 23/100
36/36 - 9s - loss: 0.2415 - accuracy: 0.9233 - val_loss: 0.3587 - val_accuracy: 0.7755 - lr: 0.0010 - 9s/epoch - 252ms/step
Epoch 24/100
36/36 - 9s - loss: 0.2390 - accuracy: 0.9282 - val_loss: 0.3420 - val_accuracy: 0.8011 - lr: 0.0010 - 9s/epoch - 249ms/step
Epoch 25/100
36/36 - 9s - loss: 0.2545 - accuracy: 0.8989 - val_loss: 0.3312 - val_accuracy: 0.8091 - lr: 0.0010 - 9s/epoch - 250ms/step
Epoch 26/100
36/36 - 9s - loss: 0.2415 - accuracy: 0.9232 - val_loss: 0.3335 - val_accuracy: 0.8108 - lr: 0.0010 - 9s/epoch - 250ms/step
Epoch 27/100
36/36 - 9s - loss: 0.2472 - accuracy: 0.9119 - val_loss: 0.3423 - val_accuracy: 0.7937 - lr: 0.0010 - 9s/epoch - 249ms/step
Epoch 28/100
36/36 - 9s - loss: 0.2431 - accuracy: 0.9198 - val_loss: 0.3382 - val_accuracy: 0.8018 - lr: 0.0010 - 9s/epoch - 249ms/step
Epoch 29/100
36/36 - 9s - loss: 0.2437 - accuracy: 0.9182 - val_loss: 0.3258 - val_accuracy: 0.8200 - lr: 0.0010 - 9s/epoch - 249ms/step
Epoch 30/100
36/36 - 9s - loss: 0.2448 - accuracy: 0.9160 - val_loss: 0.3318 - val_accuracy: 0.8143 - lr: 0.0010 - 9s/epoch - 247ms/step
Epoch 31/100
36/36 - 9s - loss: 0.2454 - accuracy: 0.9158 - val_loss: 0.3398 - val_accuracy: 0.8000 - lr: 0.0010 - 9s/epoch - 248ms/step
Epoch 32/100
36/36 - 9s - loss: 0.2492 - accuracy: 0.9083 - val_loss: 0.3319 - val_accuracy: 0.8042 - lr: 0.0010 - 9s/epoch - 248ms/step
Epoch 33/100
36/36 - 9s - loss: 0.2516 - accuracy: 0.9042 - val_loss: 0.3343 - val_accuracy: 0.8024 - lr: 0.0010 - 9s/epoch - 250ms/step
Epoch 34/100
36/36 - 9s - loss: 0.2476 - accuracy: 0.9106 - val_loss: 0.3333 - val_accuracy: 0.8051 - lr: 0.0010 - 9s/epoch - 249ms/step
Epoch 35/100
36/36 - 9s - loss: 0.2429 - accuracy: 0.9196 - val_loss: 0.3431 - val_accuracy: 0.7941 - lr: 0.0010 - 9s/epoch - 248ms/step
Epoch 36/100
36/36 - 9s - loss: 0.2483 - accuracy: 0.9100 - val_loss: 0.3433 - val_accuracy: 0.7874 - lr: 0.0010 - 9s/epoch - 249ms/step
Epoch 37/100
36/36 - 9s - loss: 0.2410 - accuracy: 0.9241 - val_loss: 0.3421 - val_accuracy: 0.7986 - lr: 0.0010 - 9s/epoch - 248ms/step
Epoch 38/100
36/36 - 9s - loss: 0.2410 - accuracy: 0.9230 - val_loss: 0.3421 - val_accuracy: 0.8019 - lr: 0.0010 - 9s/epoch - 249ms/step
Epoch 39/100
36/36 - 9s - loss: 0.2449 - accuracy: 0.9169 - val_loss: 0.3424 - val_accuracy: 0.7912 - lr: 0.0010 - 9s/epoch - 251ms/step
Epoch 40/100
36/36 - 9s - loss: 0.2475 - accuracy: 0.9113 - val_loss: 0.3491 - val_accuracy: 0.7891 - lr: 0.0010 - 9s/epoch - 250ms/step
Epoch 41/100
36/36 - 10s - loss: 0.2526 - accuracy: 0.9029 - val_loss: 0.3306 - val_accuracy: 0.8095 - lr: 0.0010 - 10s/epoch - 281ms/step
Epoch 42/100
36/36 - 10s - loss: 0.2558 - accuracy: 0.8965 - val_loss: 0.3396 - val_accuracy: 0.7903 - lr: 0.0010 - 10s/epoch - 271ms/step
Epoch 43/100
36/36 - 10s - loss: 0.2413 - accuracy: 0.9228 - val_loss: 0.3385 - val_accuracy: 0.7997 - lr: 0.0010 - 10s/epoch - 265ms/step
Epoch 44/100
36/36 - 10s - loss: 0.2548 - accuracy: 0.8984 - val_loss: 0.3417 - val_accuracy: 0.7927 - lr: 0.0010 - 10s/epoch - 271ms/step
Epoch 45/100
36/36 - 9s - loss: 0.2516 - accuracy: 0.9037 - val_loss: 0.3127 - val_accuracy: 0.8322 - lr: 0.0010 - 9s/epoch - 258ms/step
Epoch 46/100
36/36 - 9s - loss: 0.2542 - accuracy: 0.8991 - val_loss: 0.3271 - val_accuracy: 0.8045 - lr: 0.0010 - 9s/epoch - 250ms/step
Epoch 47/100
36/36 - 9s - loss: 0.2517 - accuracy: 0.9037 - val_loss: 0.3352 - val_accuracy: 0.7962 - lr: 0.0010 - 9s/epoch - 259ms/step
Epoch 48/100
36/36 - 9s - loss: 0.2462 - accuracy: 0.9136 - val_loss: 0.3292 - val_accuracy: 0.8098 - lr: 0.0010 - 9s/epoch - 259ms/step
Epoch 49/100
36/36 - 9s - loss: 0.2469 - accuracy: 0.9126 - val_loss: 0.3258 - val_accuracy: 0.8206 - lr: 0.0010 - 9s/epoch - 248ms/step
Epoch 50/100
36/36 - 9s - loss: 0.2416 - accuracy: 0.9219 - val_loss: 0.3365 - val_accuracy: 0.8112 - lr: 0.0010 - 9s/epoch - 250ms/step
Epoch 51/100
36/36 - 9s - loss: 0.2471 - accuracy: 0.9118 - val_loss: 0.3293 - val_accuracy: 0.8190 - lr: 0.0010 - 9s/epoch - 249ms/step
Epoch 52/100
36/36 - 10s - loss: 0.2409 - accuracy: 0.9244 - val_loss: 0.3514 - val_accuracy: 0.7816 - lr: 0.0010 - 10s/epoch - 285ms/step
Epoch 53/100
36/36 - 10s - loss: 0.2441 - accuracy: 0.9174 - val_loss: 0.3421 - val_accuracy: 0.7997 - lr: 0.0010 - 10s/epoch - 287ms/step
Epoch 54/100
36/36 - 10s - loss: 0.2571 - accuracy: 0.8963 - val_loss: 0.3385 - val_accuracy: 0.7975 - lr: 0.0010 - 10s/epoch - 286ms/step
Epoch 55/100
36/36 - 10s - loss: 0.2470 - accuracy: 0.9109 - val_loss: 0.3292 - val_accuracy: 0.8125 - lr: 0.0010 - 10s/epoch - 285ms/step
Epoch 56/100
36/36 - 10s - loss: 0.2409 - accuracy: 0.9238 - val_loss: 0.3391 - val_accuracy: 0.8008 - lr: 0.0010 - 10s/epoch - 285ms/step
Epoch 57/100
36/36 - 10s - loss: 0.2456 - accuracy: 0.9147 - val_loss: 0.3332 - val_accuracy: 0.8083 - lr: 0.0010 - 10s/epoch - 288ms/step
Epoch 58/100
36/36 - 10s - loss: 0.2543 - accuracy: 0.8985 - val_loss: 0.3297 - val_accuracy: 0.8081 - lr: 0.0010 - 10s/epoch - 286ms/step
Epoch 59/100
36/36 - 10s - loss: 0.2485 - accuracy: 0.9090 - val_loss: 0.3456 - val_accuracy: 0.7843 - lr: 0.0010 - 10s/epoch - 288ms/step
Epoch 60/100
36/36 - 10s - loss: 0.2505 - accuracy: 0.9061 - val_loss: 0.3265 - val_accuracy: 0.8203 - lr: 0.0010 - 10s/epoch - 287ms/step
Epoch 61/100
36/36 - 10s - loss: 0.2505 - accuracy: 0.9070 - val_loss: 0.3384 - val_accuracy: 0.7980 - lr: 0.0010 - 10s/epoch - 287ms/step
Epoch 62/100
36/36 - 10s - loss: 0.2479 - accuracy: 0.9105 - val_loss: 0.3466 - val_accuracy: 0.7854 - lr: 0.0010 - 10s/epoch - 291ms/step
Epoch 63/100
36/36 - 10s - loss: 0.2407 - accuracy: 0.9247 - val_loss: 0.3399 - val_accuracy: 0.8005 - lr: 0.0010 - 10s/epoch - 291ms/step
Epoch 64/100
36/36 - 10s - loss: 0.2451 - accuracy: 0.9156 - val_loss: 0.3367 - val_accuracy: 0.8008 - lr: 0.0010 - 10s/epoch - 285ms/step
Epoch 65/100
36/36 - 10s - loss: 0.2486 - accuracy: 0.9098 - val_loss: 0.3314 - val_accuracy: 0.8092 - lr: 0.0010 - 10s/epoch - 286ms/step
Epoch 66/100
36/36 - 10s - loss: 0.2401 - accuracy: 0.9255 - val_loss: 0.3475 - val_accuracy: 0.7977 - lr: 0.0010 - 10s/epoch - 287ms/step
Epoch 67/100
36/36 - 10s - loss: 0.2424 - accuracy: 0.9211 - val_loss: 0.3370 - val_accuracy: 0.8066 - lr: 0.0010 - 10s/epoch - 286ms/step
Epoch 68/100
36/36 - 10s - loss: 0.2432 - accuracy: 0.9191 - val_loss: 0.3412 - val_accuracy: 0.8011 - lr: 0.0010 - 10s/epoch - 286ms/step
Epoch 69/100
36/36 - 10s - loss: 0.2435 - accuracy: 0.9193 - val_loss: 0.3322 - val_accuracy: 0.8165 - lr: 0.0010 - 10s/epoch - 286ms/step
Epoch 70/100
36/36 - 10s - loss: 0.2440 - accuracy: 0.9182 - val_loss: 0.3525 - val_accuracy: 0.7859 - lr: 0.0010 - 10s/epoch - 289ms/step
Epoch 71/100
36/36 - 10s - loss: 0.2531 - accuracy: 0.9021 - val_loss: 0.3206 - val_accuracy: 0.8204 - lr: 0.0010 - 10s/epoch - 286ms/step
Epoch 72/100
36/36 - 10s - loss: 0.2528 - accuracy: 0.9023 - val_loss: 0.3397 - val_accuracy: 0.7925 - lr: 0.0010 - 10s/epoch - 286ms/step
Epoch 73/100
36/36 - 11s - loss: 0.2442 - accuracy: 0.9173 - val_loss: 0.3293 - val_accuracy: 0.8127 - lr: 0.0010 - 11s/epoch - 294ms/step
Epoch 74/100
36/36 - 10s - loss: 0.2428 - accuracy: 0.9202 - val_loss: 0.3335 - val_accuracy: 0.8065 - lr: 0.0010 - 10s/epoch - 291ms/step
Epoch 75/100
36/36 - 10s - loss: 0.2560 - accuracy: 0.8968 - val_loss: 0.3289 - val_accuracy: 0.8099 - lr: 0.0010 - 10s/epoch - 284ms/step
Epoch 76/100
36/36 - 10s - loss: 0.2421 - accuracy: 0.9216 - val_loss: 0.3337 - val_accuracy: 0.8126 - lr: 0.0010 - 10s/epoch - 290ms/step
Epoch 77/100
36/36 - 10s - loss: 0.2475 - accuracy: 0.9117 - val_loss: 0.3343 - val_accuracy: 0.8065 - lr: 0.0010 - 10s/epoch - 288ms/step
Epoch 78/100
36/36 - 10s - loss: 0.2440 - accuracy: 0.9185 - val_loss: 0.3396 - val_accuracy: 0.8026 - lr: 0.0010 - 10s/epoch - 289ms/step
Epoch 79/100
36/36 - 10s - loss: 0.2548 - accuracy: 0.8981 - val_loss: 0.3200 - val_accuracy: 0.8181 - lr: 0.0010 - 10s/epoch - 287ms/step
Epoch 80/100
36/36 - 10s - loss: 0.2515 - accuracy: 0.9049 - val_loss: 0.3239 - val_accuracy: 0.8137 - lr: 0.0010 - 10s/epoch - 289ms/step
Epoch 81/100
36/36 - 10s - loss: 0.2602 - accuracy: 0.8888 - val_loss: 0.3199 - val_accuracy: 0.8187 - lr: 0.0010 - 10s/epoch - 284ms/step
Epoch 82/100
36/36 - 10s - loss: 0.2424 - accuracy: 0.9215 - val_loss: 0.3273 - val_accuracy: 0.8171 - lr: 0.0010 - 10s/epoch - 288ms/step
Epoch 83/100
36/36 - 10s - loss: 0.2429 - accuracy: 0.9209 - val_loss: 0.3384 - val_accuracy: 0.7969 - lr: 0.0010 - 10s/epoch - 290ms/step
Epoch 84/100
36/36 - 10s - loss: 0.2524 - accuracy: 0.9030 - val_loss: 0.3241 - val_accuracy: 0.8153 - lr: 0.0010 - 10s/epoch - 283ms/step
Epoch 85/100
36/36 - 10s - loss: 0.2399 - accuracy: 0.9256 - val_loss: 0.3429 - val_accuracy: 0.7913 - lr: 0.0010 - 10s/epoch - 279ms/step
Epoch 86/100
36/36 - 11s - loss: 0.2490 - accuracy: 0.9095 - val_loss: 0.3303 - val_accuracy: 0.8113 - lr: 0.0010 - 11s/epoch - 298ms/step
Epoch 87/100
36/36 - 9s - loss: 0.2424 - accuracy: 0.9216 - val_loss: 0.3376 - val_accuracy: 0.8048 - lr: 0.0010 - 9s/epoch - 255ms/step
Epoch 88/100
36/36 - 9s - loss: 0.2407 - accuracy: 0.9248 - val_loss: 0.3431 - val_accuracy: 0.7954 - lr: 0.0010 - 9s/epoch - 254ms/step
Epoch 89/100
36/36 - 10s - loss: 0.2478 - accuracy: 0.9127 - val_loss: 0.3367 - val_accuracy: 0.8106 - lr: 0.0010 - 10s/epoch - 274ms/step
Epoch 90/100
36/36 - 9s - loss: 0.2477 - accuracy: 0.9118 - val_loss: 0.3360 - val_accuracy: 0.8095 - lr: 0.0010 - 9s/epoch - 263ms/step
Epoch 91/100
36/36 - 10s - loss: 0.2370 - accuracy: 0.9313 - val_loss: 0.3461 - val_accuracy: 0.8019 - lr: 0.0010 - 10s/epoch - 271ms/step
Epoch 92/100
36/36 - 9s - loss: 0.2427 - accuracy: 0.9210 - val_loss: 0.3640 - val_accuracy: 0.7715 - lr: 0.0010 - 9s/epoch - 254ms/step
Epoch 93/100
36/36 - 9s - loss: 0.2520 - accuracy: 0.9034 - val_loss: 0.3361 - val_accuracy: 0.8105 - lr: 0.0010 - 9s/epoch - 253ms/step
Epoch 94/100
36/36 - 9s - loss: 0.2578 - accuracy: 0.8929 - val_loss: 0.3220 - val_accuracy: 0.8209 - lr: 0.0010 - 9s/epoch - 252ms/step
Epoch 95/100
36/36 - 9s - loss: 0.2560 - accuracy: 0.8962 - val_loss: 0.3420 - val_accuracy: 0.7906 - lr: 0.0010 - 9s/epoch - 255ms/step
Epoch 96/100
36/36 - 9s - loss: 0.2438 - accuracy: 0.9181 - val_loss: 0.3424 - val_accuracy: 0.7893 - lr: 0.0010 - 9s/epoch - 256ms/step
Epoch 97/100
36/36 - 10s - loss: 0.2570 - accuracy: 0.8950 - val_loss: 0.3370 - val_accuracy: 0.7924 - lr: 0.0010 - 10s/epoch - 265ms/step
Epoch 98/100
36/36 - 9s - loss: 0.2427 - accuracy: 0.9202 - val_loss: 0.3356 - val_accuracy: 0.8042 - lr: 0.0010 - 9s/epoch - 252ms/step
Epoch 99/100
36/36 - 9s - loss: 0.2517 - accuracy: 0.9028 - val_loss: 0.3270 - val_accuracy: 0.8122 - lr: 0.0010 - 9s/epoch - 261ms/step
Epoch 100/100
36/36 - 10s - loss: 0.2559 - accuracy: 0.8962 - val_loss: 0.3401 - val_accuracy: 0.7862 - lr: 0.0010 - 10s/epoch - 268ms/step
Loss: kullback_leibler_divergence
Epoch number: 75
fitting with batch size: 1500
Epoch 1/75
59/59 - 12s - loss: 0.3420 - accuracy: 0.8730 - val_loss: 0.5733 - val_accuracy: 0.8199 - lr: 0.0010 - 12s/epoch - 203ms/step
Epoch 2/75
59/59 - 9s - loss: 0.2770 - accuracy: 0.8961 - val_loss: 0.6339 - val_accuracy: 0.8070 - lr: 0.0010 - 9s/epoch - 159ms/step
Epoch 3/75
59/59 - 9s - loss: 0.2510 - accuracy: 0.9060 - val_loss: 0.6576 - val_accuracy: 0.7976 - lr: 0.0010 - 9s/epoch - 158ms/step
Epoch 4/75
59/59 - 10s - loss: 0.2432 - accuracy: 0.9085 - val_loss: 0.6282 - val_accuracy: 0.8125 - lr: 0.0010 - 10s/epoch - 165ms/step
Epoch 5/75
59/59 - 11s - loss: 0.2462 - accuracy: 0.9083 - val_loss: 0.6735 - val_accuracy: 0.7975 - lr: 0.0010 - 11s/epoch - 181ms/step
Epoch 6/75
59/59 - 10s - loss: 0.2445 - accuracy: 0.9082 - val_loss: 0.6283 - val_accuracy: 0.8117 - lr: 0.0010 - 10s/epoch - 169ms/step
Epoch 7/75
59/59 - 9s - loss: 0.2277 - accuracy: 0.9149 - val_loss: 0.6321 - val_accuracy: 0.8141 - lr: 0.0010 - 9s/epoch - 160ms/step
Epoch 8/75
59/59 - 9s - loss: 0.2258 - accuracy: 0.9163 - val_loss: 0.6697 - val_accuracy: 0.8072 - lr: 0.0010 - 9s/epoch - 156ms/step
Epoch 9/75
59/59 - 10s - loss: 0.2448 - accuracy: 0.9085 - val_loss: 0.6156 - val_accuracy: 0.8208 - lr: 0.0010 - 10s/epoch - 170ms/step
Epoch 10/75
59/59 - 10s - loss: 0.2243 - accuracy: 0.9162 - val_loss: 0.7212 - val_accuracy: 0.7935 - lr: 0.0010 - 10s/epoch - 168ms/step
Epoch 11/75
59/59 - 9s - loss: 0.2309 - accuracy: 0.9135 - val_loss: 0.6979 - val_accuracy: 0.8019 - lr: 0.0010 - 9s/epoch - 156ms/step
Epoch 12/75
59/59 - 9s - loss: 0.2415 - accuracy: 0.9099 - val_loss: 0.6447 - val_accuracy: 0.8088 - lr: 0.0010 - 9s/epoch - 160ms/step
Epoch 13/75
59/59 - 9s - loss: 0.2298 - accuracy: 0.9138 - val_loss: 0.6580 - val_accuracy: 0.8071 - lr: 0.0010 - 9s/epoch - 158ms/step
Epoch 14/75
59/59 - 9s - loss: 0.2266 - accuracy: 0.9157 - val_loss: 0.7352 - val_accuracy: 0.7826 - lr: 0.0010 - 9s/epoch - 158ms/step
Epoch 15/75
59/59 - 9s - loss: 0.2393 - accuracy: 0.9105 - val_loss: 0.7005 - val_accuracy: 0.7921 - lr: 0.0010 - 9s/epoch - 159ms/step
Epoch 16/75
59/59 - 9s - loss: 0.2260 - accuracy: 0.9170 - val_loss: 0.6727 - val_accuracy: 0.8061 - lr: 0.0010 - 9s/epoch - 157ms/step
Epoch 17/75
59/59 - 9s - loss: 0.2305 - accuracy: 0.9144 - val_loss: 0.6702 - val_accuracy: 0.8092 - lr: 0.0010 - 9s/epoch - 160ms/step
Epoch 18/75
59/59 - 10s - loss: 0.2276 - accuracy: 0.9153 - val_loss: 0.6183 - val_accuracy: 0.8203 - lr: 0.0010 - 10s/epoch - 172ms/step
Epoch 19/75
59/59 - 11s - loss: 0.2222 - accuracy: 0.9178 - val_loss: 0.6671 - val_accuracy: 0.8098 - lr: 0.0010 - 11s/epoch - 188ms/step
Epoch 20/75
59/59 - 10s - loss: 0.2351 - accuracy: 0.9121 - val_loss: 0.7067 - val_accuracy: 0.7908 - lr: 0.0010 - 10s/epoch - 174ms/step
Epoch 21/75
59/59 - 10s - loss: 0.2199 - accuracy: 0.9181 - val_loss: 0.6723 - val_accuracy: 0.8128 - lr: 0.0010 - 10s/epoch - 172ms/step
Epoch 22/75
59/59 - 10s - loss: 0.2313 - accuracy: 0.9131 - val_loss: 0.6581 - val_accuracy: 0.8074 - lr: 0.0010 - 10s/epoch - 173ms/step
Epoch 23/75
59/59 - 10s - loss: 0.2299 - accuracy: 0.9140 - val_loss: 0.6719 - val_accuracy: 0.7976 - lr: 0.0010 - 10s/epoch - 173ms/step
Epoch 24/75
59/59 - 10s - loss: 0.2263 - accuracy: 0.9151 - val_loss: 0.6702 - val_accuracy: 0.8036 - lr: 0.0010 - 10s/epoch - 172ms/step
Epoch 25/75
59/59 - 10s - loss: 0.2256 - accuracy: 0.9153 - val_loss: 0.6875 - val_accuracy: 0.7973 - lr: 0.0010 - 10s/epoch - 172ms/step
Epoch 26/75
59/59 - 10s - loss: 0.2242 - accuracy: 0.9176 - val_loss: 0.6437 - val_accuracy: 0.8155 - lr: 0.0010 - 10s/epoch - 173ms/step
Epoch 27/75
59/59 - 10s - loss: 0.2362 - accuracy: 0.9126 - val_loss: 0.6754 - val_accuracy: 0.8026 - lr: 0.0010 - 10s/epoch - 172ms/step
Epoch 28/75
59/59 - 10s - loss: 0.2173 - accuracy: 0.9190 - val_loss: 0.6673 - val_accuracy: 0.8048 - lr: 0.0010 - 10s/epoch - 175ms/step
Epoch 29/75
59/59 - 10s - loss: 0.2276 - accuracy: 0.9149 - val_loss: 0.6035 - val_accuracy: 0.8251 - lr: 0.0010 - 10s/epoch - 162ms/step
Epoch 30/75
59/59 - 10s - loss: 0.2268 - accuracy: 0.9151 - val_loss: 0.6430 - val_accuracy: 0.8135 - lr: 0.0010 - 10s/epoch - 161ms/step
Epoch 31/75
59/59 - 10s - loss: 0.2365 - accuracy: 0.9120 - val_loss: 0.7186 - val_accuracy: 0.7858 - lr: 0.0010 - 10s/epoch - 163ms/step
Epoch 32/75
59/59 - 10s - loss: 0.2328 - accuracy: 0.9130 - val_loss: 0.6459 - val_accuracy: 0.8072 - lr: 0.0010 - 10s/epoch - 162ms/step
Epoch 33/75
59/59 - 10s - loss: 0.2239 - accuracy: 0.9165 - val_loss: 0.6319 - val_accuracy: 0.8145 - lr: 0.0010 - 10s/epoch - 163ms/step
Epoch 34/75
59/59 - 10s - loss: 0.2357 - accuracy: 0.9127 - val_loss: 0.7348 - val_accuracy: 0.7824 - lr: 0.0010 - 10s/epoch - 161ms/step
Epoch 35/75
59/59 - 10s - loss: 0.2241 - accuracy: 0.9166 - val_loss: 0.7220 - val_accuracy: 0.7814 - lr: 0.0010 - 10s/epoch - 164ms/step
Epoch 36/75
59/59 - 9s - loss: 0.2276 - accuracy: 0.9150 - val_loss: 0.7068 - val_accuracy: 0.7895 - lr: 0.0010 - 9s/epoch - 160ms/step
Epoch 37/75
59/59 - 9s - loss: 0.2257 - accuracy: 0.9157 - val_loss: 0.6642 - val_accuracy: 0.8020 - lr: 0.0010 - 9s/epoch - 161ms/step
Epoch 38/75
59/59 - 10s - loss: 0.2258 - accuracy: 0.9155 - val_loss: 0.5798 - val_accuracy: 0.8334 - lr: 0.0010 - 10s/epoch - 161ms/step
Epoch 39/75
59/59 - 10s - loss: 0.2299 - accuracy: 0.9144 - val_loss: 0.6468 - val_accuracy: 0.8113 - lr: 0.0010 - 10s/epoch - 162ms/step
Epoch 40/75
59/59 - 10s - loss: 0.2201 - accuracy: 0.9178 - val_loss: 0.6575 - val_accuracy: 0.8105 - lr: 0.0010 - 10s/epoch - 161ms/step
Epoch 41/75
59/59 - 9s - loss: 0.2226 - accuracy: 0.9168 - val_loss: 0.6925 - val_accuracy: 0.8020 - lr: 0.0010 - 9s/epoch - 159ms/step
Epoch 42/75
59/59 - 9s - loss: 0.2348 - accuracy: 0.9130 - val_loss: 0.6859 - val_accuracy: 0.8049 - lr: 0.0010 - 9s/epoch - 161ms/step
Epoch 43/75
59/59 - 9s - loss: 0.2242 - accuracy: 0.9160 - val_loss: 0.6795 - val_accuracy: 0.7991 - lr: 0.0010 - 9s/epoch - 160ms/step
Epoch 44/75
59/59 - 10s - loss: 0.2304 - accuracy: 0.9137 - val_loss: 0.6722 - val_accuracy: 0.8058 - lr: 0.0010 - 10s/epoch - 163ms/step
Epoch 45/75
59/59 - 10s - loss: 0.2255 - accuracy: 0.9158 - val_loss: 0.6357 - val_accuracy: 0.8176 - lr: 0.0010 - 10s/epoch - 173ms/step
Epoch 46/75
59/59 - 10s - loss: 0.2218 - accuracy: 0.9172 - val_loss: 0.6870 - val_accuracy: 0.8013 - lr: 0.0010 - 10s/epoch - 175ms/step
Epoch 47/75
59/59 - 10s - loss: 0.2220 - accuracy: 0.9175 - val_loss: 0.6661 - val_accuracy: 0.8024 - lr: 0.0010 - 10s/epoch - 176ms/step
Epoch 48/75
59/59 - 9s - loss: 0.2285 - accuracy: 0.9145 - val_loss: 0.6371 - val_accuracy: 0.8133 - lr: 0.0010 - 9s/epoch - 158ms/step
Epoch 49/75
59/59 - 9s - loss: 0.2260 - accuracy: 0.9155 - val_loss: 0.6948 - val_accuracy: 0.7970 - lr: 0.0010 - 9s/epoch - 158ms/step
Epoch 50/75
59/59 - 9s - loss: 0.2325 - accuracy: 0.9132 - val_loss: 0.6936 - val_accuracy: 0.7925 - lr: 0.0010 - 9s/epoch - 160ms/step
Epoch 51/75
59/59 - 10s - loss: 0.2233 - accuracy: 0.9169 - val_loss: 0.6832 - val_accuracy: 0.8005 - lr: 0.0010 - 10s/epoch - 161ms/step
Epoch 52/75
59/59 - 9s - loss: 0.2293 - accuracy: 0.9142 - val_loss: 0.6949 - val_accuracy: 0.7997 - lr: 0.0010 - 9s/epoch - 157ms/step
Epoch 53/75
59/59 - 9s - loss: 0.2278 - accuracy: 0.9157 - val_loss: 0.6849 - val_accuracy: 0.8043 - lr: 0.0010 - 9s/epoch - 159ms/step
Epoch 54/75
59/59 - 10s - loss: 0.2245 - accuracy: 0.9163 - val_loss: 0.7265 - val_accuracy: 0.7859 - lr: 0.0010 - 10s/epoch - 164ms/step
Epoch 55/75
59/59 - 9s - loss: 0.2155 - accuracy: 0.9209 - val_loss: 0.6957 - val_accuracy: 0.8072 - lr: 0.0010 - 9s/epoch - 158ms/step
Epoch 56/75
59/59 - 10s - loss: 0.2249 - accuracy: 0.9158 - val_loss: 0.6691 - val_accuracy: 0.8097 - lr: 0.0010 - 10s/epoch - 172ms/step
Epoch 57/75
59/59 - 10s - loss: 0.2280 - accuracy: 0.9150 - val_loss: 0.6791 - val_accuracy: 0.8053 - lr: 0.0010 - 10s/epoch - 173ms/step
Epoch 58/75
59/59 - 10s - loss: 0.2274 - accuracy: 0.9148 - val_loss: 0.6892 - val_accuracy: 0.7990 - lr: 0.0010 - 10s/epoch - 170ms/step
Epoch 59/75
59/59 - 10s - loss: 0.2229 - accuracy: 0.9166 - val_loss: 0.6852 - val_accuracy: 0.8050 - lr: 0.0010 - 10s/epoch - 172ms/step
Epoch 60/75
59/59 - 10s - loss: 0.2163 - accuracy: 0.9197 - val_loss: 0.6784 - val_accuracy: 0.8132 - lr: 0.0010 - 10s/epoch - 173ms/step
Epoch 61/75
59/59 - 10s - loss: 0.2314 - accuracy: 0.9139 - val_loss: 0.7346 - val_accuracy: 0.7958 - lr: 0.0010 - 10s/epoch - 173ms/step
Epoch 62/75
59/59 - 10s - loss: 0.2348 - accuracy: 0.9121 - val_loss: 0.6873 - val_accuracy: 0.8023 - lr: 0.0010 - 10s/epoch - 170ms/step
Epoch 63/75
59/59 - 10s - loss: 0.2205 - accuracy: 0.9174 - val_loss: 0.6593 - val_accuracy: 0.8088 - lr: 0.0010 - 10s/epoch - 163ms/step
Epoch 64/75
59/59 - 10s - loss: 0.2260 - accuracy: 0.9155 - val_loss: 0.8100 - val_accuracy: 0.7622 - lr: 0.0010 - 10s/epoch - 163ms/step
Epoch 65/75
59/59 - 10s - loss: 0.2236 - accuracy: 0.9157 - val_loss: 0.7277 - val_accuracy: 0.7923 - lr: 0.0010 - 10s/epoch - 161ms/step
Epoch 66/75
59/59 - 10s - loss: 0.2220 - accuracy: 0.9176 - val_loss: 0.6706 - val_accuracy: 0.8067 - lr: 0.0010 - 10s/epoch - 165ms/step
Epoch 67/75
59/59 - 10s - loss: 0.2265 - accuracy: 0.9159 - val_loss: 0.6457 - val_accuracy: 0.8134 - lr: 0.0010 - 10s/epoch - 163ms/step
Epoch 68/75
59/59 - 10s - loss: 0.2287 - accuracy: 0.9140 - val_loss: 0.7240 - val_accuracy: 0.7884 - lr: 0.0010 - 10s/epoch - 167ms/step
Epoch 69/75
59/59 - 10s - loss: 0.2222 - accuracy: 0.9172 - val_loss: 0.7353 - val_accuracy: 0.7907 - lr: 0.0010 - 10s/epoch - 167ms/step
Epoch 70/75
59/59 - 10s - loss: 0.2157 - accuracy: 0.9200 - val_loss: 0.6800 - val_accuracy: 0.8020 - lr: 0.0010 - 10s/epoch - 165ms/step
Epoch 71/75
59/59 - 10s - loss: 0.2262 - accuracy: 0.9168 - val_loss: 0.6666 - val_accuracy: 0.8132 - lr: 0.0010 - 10s/epoch - 163ms/step
Epoch 72/75
59/59 - 10s - loss: 0.2280 - accuracy: 0.9146 - val_loss: 0.6632 - val_accuracy: 0.8070 - lr: 0.0010 - 10s/epoch - 165ms/step
Epoch 73/75
59/59 - 10s - loss: 0.2212 - accuracy: 0.9177 - val_loss: 0.6648 - val_accuracy: 0.8070 - lr: 0.0010 - 10s/epoch - 167ms/step
Epoch 74/75
59/59 - 10s - loss: 0.2256 - accuracy: 0.9149 - val_loss: 0.7159 - val_accuracy: 0.8004 - lr: 0.0010 - 10s/epoch - 171ms/step
Epoch 75/75
59/59 - 10s - loss: 0.2297 - accuracy: 0.9144 - val_loss: 0.6502 - val_accuracy: 0.8133 - lr: 0.0010 - 10s/epoch - 167ms/step
fitting with batch size: 2500
Epoch 1/75
36/36 - 14s - loss: 0.1947 - accuracy: 0.9280 - val_loss: 0.7106 - val_accuracy: 0.7968 - lr: 0.0010 - 14s/epoch - 401ms/step
Epoch 2/75
36/36 - 10s - loss: 0.2088 - accuracy: 0.9217 - val_loss: 0.7269 - val_accuracy: 0.7954 - lr: 0.0010 - 10s/epoch - 264ms/step
Epoch 3/75
36/36 - 9s - loss: 0.2352 - accuracy: 0.9132 - val_loss: 0.6934 - val_accuracy: 0.8017 - lr: 0.0010 - 9s/epoch - 249ms/step
Epoch 4/75
36/36 - 8s - loss: 0.2180 - accuracy: 0.9193 - val_loss: 0.6295 - val_accuracy: 0.8234 - lr: 0.0010 - 8s/epoch - 229ms/step
Epoch 5/75
36/36 - 8s - loss: 0.2559 - accuracy: 0.9053 - val_loss: 0.7051 - val_accuracy: 0.7965 - lr: 0.0010 - 8s/epoch - 234ms/step
Epoch 6/75
36/36 - 8s - loss: 0.2063 - accuracy: 0.9236 - val_loss: 0.7161 - val_accuracy: 0.8007 - lr: 0.0010 - 8s/epoch - 232ms/step
Epoch 7/75
36/36 - 8s - loss: 0.2045 - accuracy: 0.9246 - val_loss: 0.7302 - val_accuracy: 0.8023 - lr: 0.0010 - 8s/epoch - 230ms/step
Epoch 8/75
36/36 - 8s - loss: 0.2431 - accuracy: 0.9099 - val_loss: 0.7057 - val_accuracy: 0.7970 - lr: 0.0010 - 8s/epoch - 230ms/step
Epoch 9/75
36/36 - 8s - loss: 0.1967 - accuracy: 0.9264 - val_loss: 0.7086 - val_accuracy: 0.8043 - lr: 0.0010 - 8s/epoch - 229ms/step
Epoch 10/75
36/36 - 8s - loss: 0.2608 - accuracy: 0.9032 - val_loss: 0.6330 - val_accuracy: 0.8162 - lr: 0.0010 - 8s/epoch - 234ms/step
Epoch 11/75
36/36 - 8s - loss: 0.2639 - accuracy: 0.9031 - val_loss: 0.6968 - val_accuracy: 0.8053 - lr: 0.0010 - 8s/epoch - 215ms/step
Epoch 12/75
36/36 - 8s - loss: 0.1894 - accuracy: 0.9290 - val_loss: 0.6968 - val_accuracy: 0.8123 - lr: 0.0010 - 8s/epoch - 217ms/step
Epoch 13/75
36/36 - 9s - loss: 0.1868 - accuracy: 0.9308 - val_loss: 0.7958 - val_accuracy: 0.7933 - lr: 0.0010 - 9s/epoch - 242ms/step
Epoch 14/75
36/36 - 9s - loss: 0.2454 - accuracy: 0.9083 - val_loss: 0.7223 - val_accuracy: 0.7992 - lr: 0.0010 - 9s/epoch - 239ms/step
Epoch 15/75
36/36 - 9s - loss: 0.2026 - accuracy: 0.9245 - val_loss: 0.6950 - val_accuracy: 0.8121 - lr: 0.0010 - 9s/epoch - 238ms/step
Epoch 16/75
36/36 - 9s - loss: 0.2275 - accuracy: 0.9161 - val_loss: 0.7186 - val_accuracy: 0.7976 - lr: 0.0010 - 9s/epoch - 239ms/step
Epoch 17/75
36/36 - 9s - loss: 0.2636 - accuracy: 0.9011 - val_loss: 0.6639 - val_accuracy: 0.8135 - lr: 0.0010 - 9s/epoch - 238ms/step
Epoch 18/75
36/36 - 9s - loss: 0.2450 - accuracy: 0.9086 - val_loss: 0.6930 - val_accuracy: 0.8032 - lr: 0.0010 - 9s/epoch - 239ms/step
Epoch 19/75
36/36 - 9s - loss: 0.1909 - accuracy: 0.9289 - val_loss: 0.6992 - val_accuracy: 0.8098 - lr: 0.0010 - 9s/epoch - 238ms/step
Epoch 20/75
36/36 - 8s - loss: 0.2885 - accuracy: 0.8926 - val_loss: 0.6633 - val_accuracy: 0.8047 - lr: 0.0010 - 8s/epoch - 229ms/step
Epoch 21/75
36/36 - 9s - loss: 0.1971 - accuracy: 0.9264 - val_loss: 0.7303 - val_accuracy: 0.7952 - lr: 0.0010 - 9s/epoch - 239ms/step
Epoch 22/75
36/36 - 9s - loss: 0.2212 - accuracy: 0.9172 - val_loss: 0.6700 - val_accuracy: 0.8156 - lr: 0.0010 - 9s/epoch - 246ms/step
Epoch 23/75
36/36 - 8s - loss: 0.2256 - accuracy: 0.9160 - val_loss: 0.6979 - val_accuracy: 0.8000 - lr: 0.0010 - 8s/epoch - 212ms/step
Epoch 24/75
36/36 - 8s - loss: 0.2630 - accuracy: 0.9033 - val_loss: 0.5828 - val_accuracy: 0.8269 - lr: 0.0010 - 8s/epoch - 230ms/step
Epoch 25/75
36/36 - 8s - loss: 0.2440 - accuracy: 0.9087 - val_loss: 0.6901 - val_accuracy: 0.8002 - lr: 0.0010 - 8s/epoch - 232ms/step
Epoch 26/75
36/36 - 8s - loss: 0.2901 - accuracy: 0.8936 - val_loss: 0.6018 - val_accuracy: 0.8226 - lr: 0.0010 - 8s/epoch - 227ms/step
Epoch 27/75
36/36 - 8s - loss: 0.2298 - accuracy: 0.9131 - val_loss: 0.6723 - val_accuracy: 0.8045 - lr: 0.0010 - 8s/epoch - 211ms/step
Epoch 28/75
36/36 - 8s - loss: 0.1886 - accuracy: 0.9301 - val_loss: 0.7312 - val_accuracy: 0.7930 - lr: 0.0010 - 8s/epoch - 225ms/step
Epoch 29/75
36/36 - 8s - loss: 0.1824 - accuracy: 0.9321 - val_loss: 0.7270 - val_accuracy: 0.7957 - lr: 0.0010 - 8s/epoch - 234ms/step
Epoch 30/75
36/36 - 8s - loss: 0.2519 - accuracy: 0.9069 - val_loss: 0.6719 - val_accuracy: 0.8056 - lr: 0.0010 - 8s/epoch - 218ms/step
Epoch 31/75
36/36 - 8s - loss: 0.2813 - accuracy: 0.8957 - val_loss: 0.6703 - val_accuracy: 0.8001 - lr: 0.0010 - 8s/epoch - 228ms/step
Epoch 32/75
36/36 - 9s - loss: 0.2628 - accuracy: 0.9019 - val_loss: 0.6275 - val_accuracy: 0.8142 - lr: 0.0010 - 9s/epoch - 242ms/step
Epoch 33/75
36/36 - 9s - loss: 0.2443 - accuracy: 0.9082 - val_loss: 0.6621 - val_accuracy: 0.8025 - lr: 0.0010 - 9s/epoch - 248ms/step
Epoch 34/75
36/36 - 8s - loss: 0.2333 - accuracy: 0.9122 - val_loss: 0.6949 - val_accuracy: 0.7909 - lr: 0.0010 - 8s/epoch - 217ms/step
Epoch 35/75
36/36 - 8s - loss: 0.2341 - accuracy: 0.9136 - val_loss: 0.6247 - val_accuracy: 0.8146 - lr: 0.0010 - 8s/epoch - 218ms/step
Epoch 36/75
36/36 - 8s - loss: 0.2419 - accuracy: 0.9104 - val_loss: 0.7284 - val_accuracy: 0.7840 - lr: 0.0010 - 8s/epoch - 209ms/step
Epoch 37/75
36/36 - 8s - loss: 0.2775 - accuracy: 0.8976 - val_loss: 0.6257 - val_accuracy: 0.8126 - lr: 0.0010 - 8s/epoch - 209ms/step
Epoch 38/75
36/36 - 8s - loss: 0.2011 - accuracy: 0.9244 - val_loss: 0.6059 - val_accuracy: 0.8228 - lr: 0.0010 - 8s/epoch - 219ms/step
Epoch 39/75
36/36 - 9s - loss: 0.2105 - accuracy: 0.9216 - val_loss: 0.7059 - val_accuracy: 0.7915 - lr: 0.0010 - 9s/epoch - 237ms/step
Epoch 40/75
36/36 - 8s - loss: 0.2280 - accuracy: 0.9149 - val_loss: 0.6459 - val_accuracy: 0.8172 - lr: 0.0010 - 8s/epoch - 231ms/step
Epoch 41/75
36/36 - 8s - loss: 0.2297 - accuracy: 0.9153 - val_loss: 0.6816 - val_accuracy: 0.8011 - lr: 0.0010 - 8s/epoch - 222ms/step
Epoch 42/75
36/36 - 8s - loss: 0.2180 - accuracy: 0.9190 - val_loss: 0.7611 - val_accuracy: 0.7753 - lr: 0.0010 - 8s/epoch - 212ms/step
Epoch 43/75
36/36 - 8s - loss: 0.2236 - accuracy: 0.9162 - val_loss: 0.7264 - val_accuracy: 0.7913 - lr: 0.0010 - 8s/epoch - 221ms/step
Epoch 44/75
36/36 - 8s - loss: 0.2521 - accuracy: 0.9069 - val_loss: 0.6060 - val_accuracy: 0.8263 - lr: 0.0010 - 8s/epoch - 211ms/step
Epoch 45/75
36/36 - 8s - loss: 0.2430 - accuracy: 0.9090 - val_loss: 0.6210 - val_accuracy: 0.8187 - lr: 0.0010 - 8s/epoch - 230ms/step
Epoch 46/75
36/36 - 8s - loss: 0.2398 - accuracy: 0.9114 - val_loss: 0.6660 - val_accuracy: 0.8080 - lr: 0.0010 - 8s/epoch - 221ms/step
Epoch 47/75
36/36 - 8s - loss: 0.1846 - accuracy: 0.9313 - val_loss: 0.7594 - val_accuracy: 0.7899 - lr: 0.0010 - 8s/epoch - 223ms/step
Epoch 48/75
36/36 - 8s - loss: 0.2042 - accuracy: 0.9245 - val_loss: 0.7582 - val_accuracy: 0.7879 - lr: 0.0010 - 8s/epoch - 235ms/step
Epoch 49/75
36/36 - 9s - loss: 0.2706 - accuracy: 0.8994 - val_loss: 0.6926 - val_accuracy: 0.7906 - lr: 0.0010 - 9s/epoch - 262ms/step
Epoch 50/75
36/36 - 9s - loss: 0.2007 - accuracy: 0.9258 - val_loss: 0.6858 - val_accuracy: 0.8118 - lr: 0.0010 - 9s/epoch - 250ms/step
Epoch 51/75
36/36 - 9s - loss: 0.1953 - accuracy: 0.9274 - val_loss: 0.7639 - val_accuracy: 0.7887 - lr: 0.0010 - 9s/epoch - 255ms/step
Epoch 52/75
36/36 - 9s - loss: 0.2165 - accuracy: 0.9199 - val_loss: 0.6518 - val_accuracy: 0.8164 - lr: 0.0010 - 9s/epoch - 252ms/step
Epoch 53/75
36/36 - 9s - loss: 0.1915 - accuracy: 0.9287 - val_loss: 0.7170 - val_accuracy: 0.8001 - lr: 0.0010 - 9s/epoch - 251ms/step
Epoch 54/75
36/36 - 9s - loss: 0.1982 - accuracy: 0.9255 - val_loss: 0.7607 - val_accuracy: 0.7942 - lr: 0.0010 - 9s/epoch - 249ms/step
Epoch 55/75
36/36 - 9s - loss: 0.2615 - accuracy: 0.9032 - val_loss: 0.7221 - val_accuracy: 0.7952 - lr: 0.0010 - 9s/epoch - 248ms/step
Epoch 56/75
36/36 - 9s - loss: 0.2225 - accuracy: 0.9163 - val_loss: 0.6882 - val_accuracy: 0.8044 - lr: 0.0010 - 9s/epoch - 247ms/step
Epoch 57/75
36/36 - 9s - loss: 0.2025 - accuracy: 0.9247 - val_loss: 0.7074 - val_accuracy: 0.8060 - lr: 0.0010 - 9s/epoch - 248ms/step
Epoch 58/75
36/36 - 9s - loss: 0.2285 - accuracy: 0.9156 - val_loss: 0.6742 - val_accuracy: 0.8128 - lr: 0.0010 - 9s/epoch - 249ms/step
Epoch 59/75
36/36 - 9s - loss: 0.2046 - accuracy: 0.9237 - val_loss: 0.7661 - val_accuracy: 0.7870 - lr: 0.0010 - 9s/epoch - 250ms/step
Epoch 60/75
36/36 - 9s - loss: 0.2217 - accuracy: 0.9173 - val_loss: 0.7499 - val_accuracy: 0.7875 - lr: 0.0010 - 9s/epoch - 250ms/step
Epoch 61/75
36/36 - 9s - loss: 0.1901 - accuracy: 0.9296 - val_loss: 0.7361 - val_accuracy: 0.8015 - lr: 0.0010 - 9s/epoch - 254ms/step
Epoch 62/75
36/36 - 9s - loss: 0.2322 - accuracy: 0.9142 - val_loss: 0.7062 - val_accuracy: 0.8009 - lr: 0.0010 - 9s/epoch - 243ms/step
Epoch 63/75
36/36 - 8s - loss: 0.2475 - accuracy: 0.9080 - val_loss: 0.6808 - val_accuracy: 0.8024 - lr: 0.0010 - 8s/epoch - 235ms/step
Epoch 64/75
36/36 - 8s - loss: 0.2196 - accuracy: 0.9182 - val_loss: 0.7346 - val_accuracy: 0.7868 - lr: 0.0010 - 8s/epoch - 229ms/step
Epoch 65/75
36/36 - 8s - loss: 0.2081 - accuracy: 0.9224 - val_loss: 0.6718 - val_accuracy: 0.8187 - lr: 0.0010 - 8s/epoch - 229ms/step
Epoch 66/75
36/36 - 8s - loss: 0.2937 - accuracy: 0.8917 - val_loss: 0.6510 - val_accuracy: 0.8090 - lr: 0.0010 - 8s/epoch - 227ms/step
Epoch 67/75
36/36 - 8s - loss: 0.2093 - accuracy: 0.9225 - val_loss: 0.6648 - val_accuracy: 0.8120 - lr: 0.0010 - 8s/epoch - 229ms/step
Epoch 68/75
36/36 - 8s - loss: 0.2571 - accuracy: 0.9054 - val_loss: 0.6559 - val_accuracy: 0.8110 - lr: 0.0010 - 8s/epoch - 229ms/step
Epoch 69/75
36/36 - 8s - loss: 0.2305 - accuracy: 0.9143 - val_loss: 0.6860 - val_accuracy: 0.8044 - lr: 0.0010 - 8s/epoch - 229ms/step
Epoch 70/75
36/36 - 8s - loss: 0.2113 - accuracy: 0.9212 - val_loss: 0.7253 - val_accuracy: 0.7931 - lr: 0.0010 - 8s/epoch - 229ms/step
Epoch 71/75
36/36 - 8s - loss: 0.2124 - accuracy: 0.9213 - val_loss: 0.7042 - val_accuracy: 0.8031 - lr: 0.0010 - 8s/epoch - 229ms/step
Epoch 72/75
36/36 - 8s - loss: 0.2199 - accuracy: 0.9172 - val_loss: 0.7901 - val_accuracy: 0.7722 - lr: 0.0010 - 8s/epoch - 230ms/step
Epoch 73/75
36/36 - 8s - loss: 0.2121 - accuracy: 0.9209 - val_loss: 0.7198 - val_accuracy: 0.7993 - lr: 0.0010 - 8s/epoch - 230ms/step
Epoch 74/75
36/36 - 8s - loss: 0.2921 - accuracy: 0.8944 - val_loss: 0.6779 - val_accuracy: 0.7988 - lr: 0.0010 - 8s/epoch - 230ms/step
Epoch 75/75
36/36 - 8s - loss: 0.2063 - accuracy: 0.9232 - val_loss: 0.6352 - val_accuracy: 0.8161 - lr: 0.0010 - 8s/epoch - 231ms/step
Epoch number: 100
fitting with batch size: 1500
Epoch 1/100
59/59 - 11s - loss: 0.2564 - accuracy: 0.9050 - val_loss: 0.6437 - val_accuracy: 0.8075 - lr: 0.0010 - 11s/epoch - 185ms/step
Epoch 2/100
59/59 - 8s - loss: 0.2174 - accuracy: 0.9187 - val_loss: 0.6734 - val_accuracy: 0.8115 - lr: 0.0010 - 8s/epoch - 140ms/step
Epoch 3/100
59/59 - 8s - loss: 0.2270 - accuracy: 0.9149 - val_loss: 0.7150 - val_accuracy: 0.7880 - lr: 0.0010 - 8s/epoch - 141ms/step
Epoch 4/100
59/59 - 8s - loss: 0.2207 - accuracy: 0.9176 - val_loss: 0.7168 - val_accuracy: 0.7951 - lr: 0.0010 - 8s/epoch - 140ms/step
Epoch 5/100
59/59 - 8s - loss: 0.2123 - accuracy: 0.9202 - val_loss: 0.6796 - val_accuracy: 0.7994 - lr: 0.0010 - 8s/epoch - 140ms/step
Epoch 6/100
59/59 - 8s - loss: 0.2233 - accuracy: 0.9160 - val_loss: 0.7443 - val_accuracy: 0.7849 - lr: 0.0010 - 8s/epoch - 141ms/step
Epoch 7/100
59/59 - 8s - loss: 0.2226 - accuracy: 0.9171 - val_loss: 0.6375 - val_accuracy: 0.8160 - lr: 0.0010 - 8s/epoch - 138ms/step
Epoch 8/100
59/59 - 8s - loss: 0.2278 - accuracy: 0.9135 - val_loss: 0.7090 - val_accuracy: 0.7984 - lr: 0.0010 - 8s/epoch - 138ms/step
Epoch 9/100
59/59 - 8s - loss: 0.2303 - accuracy: 0.9143 - val_loss: 0.6629 - val_accuracy: 0.8076 - lr: 0.0010 - 8s/epoch - 138ms/step
Epoch 10/100
59/59 - 8s - loss: 0.2223 - accuracy: 0.9167 - val_loss: 0.6581 - val_accuracy: 0.8096 - lr: 0.0010 - 8s/epoch - 138ms/step
Epoch 11/100
59/59 - 8s - loss: 0.2183 - accuracy: 0.9187 - val_loss: 0.7294 - val_accuracy: 0.7947 - lr: 0.0010 - 8s/epoch - 141ms/step
Epoch 12/100
59/59 - 8s - loss: 0.2128 - accuracy: 0.9208 - val_loss: 0.6986 - val_accuracy: 0.7990 - lr: 0.0010 - 8s/epoch - 142ms/step
Epoch 13/100
59/59 - 8s - loss: 0.2250 - accuracy: 0.9158 - val_loss: 0.7283 - val_accuracy: 0.7933 - lr: 0.0010 - 8s/epoch - 140ms/step
Epoch 14/100
59/59 - 8s - loss: 0.2234 - accuracy: 0.9172 - val_loss: 0.6738 - val_accuracy: 0.8127 - lr: 0.0010 - 8s/epoch - 140ms/step
Epoch 15/100
59/59 - 8s - loss: 0.2186 - accuracy: 0.9179 - val_loss: 0.7189 - val_accuracy: 0.7928 - lr: 0.0010 - 8s/epoch - 140ms/step
Epoch 16/100
59/59 - 8s - loss: 0.2207 - accuracy: 0.9166 - val_loss: 0.6730 - val_accuracy: 0.8059 - lr: 0.0010 - 8s/epoch - 141ms/step
Epoch 17/100
59/59 - 8s - loss: 0.2366 - accuracy: 0.9118 - val_loss: 0.6617 - val_accuracy: 0.8061 - lr: 0.0010 - 8s/epoch - 140ms/step
Epoch 18/100
59/59 - 8s - loss: 0.2245 - accuracy: 0.9168 - val_loss: 0.7032 - val_accuracy: 0.7982 - lr: 0.0010 - 8s/epoch - 140ms/step
Epoch 19/100
59/59 - 8s - loss: 0.2180 - accuracy: 0.9184 - val_loss: 0.6782 - val_accuracy: 0.8118 - lr: 0.0010 - 8s/epoch - 140ms/step
Epoch 20/100
59/59 - 9s - loss: 0.2211 - accuracy: 0.9183 - val_loss: 0.7208 - val_accuracy: 0.7951 - lr: 0.0010 - 9s/epoch - 145ms/step
Epoch 21/100
59/59 - 8s - loss: 0.2198 - accuracy: 0.9185 - val_loss: 0.6791 - val_accuracy: 0.8046 - lr: 0.0010 - 8s/epoch - 136ms/step
Epoch 22/100
59/59 - 8s - loss: 0.2268 - accuracy: 0.9157 - val_loss: 0.6574 - val_accuracy: 0.8119 - lr: 0.0010 - 8s/epoch - 135ms/step
Epoch 23/100
59/59 - 8s - loss: 0.2176 - accuracy: 0.9186 - val_loss: 0.7259 - val_accuracy: 0.7899 - lr: 0.0010 - 8s/epoch - 138ms/step
Epoch 24/100
59/59 - 8s - loss: 0.2208 - accuracy: 0.9170 - val_loss: 0.7344 - val_accuracy: 0.7854 - lr: 0.0010 - 8s/epoch - 143ms/step
Epoch 25/100
59/59 - 8s - loss: 0.2250 - accuracy: 0.9156 - val_loss: 0.6966 - val_accuracy: 0.7960 - lr: 0.0010 - 8s/epoch - 138ms/step
Epoch 26/100
59/59 - 8s - loss: 0.2230 - accuracy: 0.9170 - val_loss: 0.7193 - val_accuracy: 0.7912 - lr: 0.0010 - 8s/epoch - 140ms/step
Epoch 27/100
59/59 - 8s - loss: 0.2193 - accuracy: 0.9181 - val_loss: 0.6997 - val_accuracy: 0.7990 - lr: 0.0010 - 8s/epoch - 139ms/step
Epoch 28/100
59/59 - 8s - loss: 0.2254 - accuracy: 0.9150 - val_loss: 0.7354 - val_accuracy: 0.7876 - lr: 0.0010 - 8s/epoch - 138ms/step
Epoch 29/100
59/59 - 8s - loss: 0.2273 - accuracy: 0.9149 - val_loss: 0.6911 - val_accuracy: 0.8029 - lr: 0.0010 - 8s/epoch - 144ms/step
Epoch 30/100
59/59 - 8s - loss: 0.2302 - accuracy: 0.9138 - val_loss: 0.7371 - val_accuracy: 0.7837 - lr: 0.0010 - 8s/epoch - 142ms/step
Epoch 31/100
59/59 - 9s - loss: 0.2195 - accuracy: 0.9172 - val_loss: 0.6869 - val_accuracy: 0.8022 - lr: 0.0010 - 9s/epoch - 145ms/step
Epoch 32/100
59/59 - 10s - loss: 0.2262 - accuracy: 0.9140 - val_loss: 0.6734 - val_accuracy: 0.8112 - lr: 0.0010 - 10s/epoch - 167ms/step
Epoch 33/100
59/59 - 10s - loss: 0.2399 - accuracy: 0.9112 - val_loss: 0.6736 - val_accuracy: 0.8044 - lr: 0.0010 - 10s/epoch - 163ms/step
Epoch 34/100
59/59 - 10s - loss: 0.2250 - accuracy: 0.9163 - val_loss: 0.7235 - val_accuracy: 0.7912 - lr: 0.0010 - 10s/epoch - 164ms/step
Epoch 35/100
59/59 - 10s - loss: 0.2245 - accuracy: 0.9150 - val_loss: 0.7526 - val_accuracy: 0.7811 - lr: 0.0010 - 10s/epoch - 165ms/step
Epoch 36/100
59/59 - 10s - loss: 0.2214 - accuracy: 0.9176 - val_loss: 0.6629 - val_accuracy: 0.8061 - lr: 0.0010 - 10s/epoch - 165ms/step
Epoch 37/100
59/59 - 10s - loss: 0.2210 - accuracy: 0.9176 - val_loss: 0.7734 - val_accuracy: 0.7784 - lr: 0.0010 - 10s/epoch - 164ms/step
Epoch 38/100
59/59 - 10s - loss: 0.2213 - accuracy: 0.9174 - val_loss: 0.7345 - val_accuracy: 0.7894 - lr: 0.0010 - 10s/epoch - 164ms/step
Epoch 39/100
59/59 - 10s - loss: 0.2211 - accuracy: 0.9179 - val_loss: 0.7166 - val_accuracy: 0.7985 - lr: 0.0010 - 10s/epoch - 165ms/step
Epoch 40/100
59/59 - 10s - loss: 0.2168 - accuracy: 0.9189 - val_loss: 0.7047 - val_accuracy: 0.8029 - lr: 0.0010 - 10s/epoch - 167ms/step
Epoch 41/100
59/59 - 10s - loss: 0.2241 - accuracy: 0.9160 - val_loss: 0.7147 - val_accuracy: 0.7970 - lr: 0.0010 - 10s/epoch - 166ms/step
Epoch 42/100
59/59 - 10s - loss: 0.2246 - accuracy: 0.9158 - val_loss: 0.6683 - val_accuracy: 0.8083 - lr: 0.0010 - 10s/epoch - 165ms/step
Epoch 43/100
59/59 - 10s - loss: 0.2262 - accuracy: 0.9162 - val_loss: 0.7045 - val_accuracy: 0.7987 - lr: 0.0010 - 10s/epoch - 165ms/step
Epoch 44/100
59/59 - 10s - loss: 0.2156 - accuracy: 0.9195 - val_loss: 0.7587 - val_accuracy: 0.7896 - lr: 0.0010 - 10s/epoch - 166ms/step
Epoch 45/100
59/59 - 9s - loss: 0.2274 - accuracy: 0.9142 - val_loss: 0.7143 - val_accuracy: 0.7978 - lr: 0.0010 - 9s/epoch - 149ms/step
Epoch 46/100
59/59 - 9s - loss: 0.2161 - accuracy: 0.9205 - val_loss: 0.6491 - val_accuracy: 0.8112 - lr: 0.0010 - 9s/epoch - 145ms/step
Epoch 47/100
59/59 - 8s - loss: 0.2167 - accuracy: 0.9190 - val_loss: 0.7724 - val_accuracy: 0.7820 - lr: 0.0010 - 8s/epoch - 141ms/step
Epoch 48/100
59/59 - 8s - loss: 0.2248 - accuracy: 0.9159 - val_loss: 0.7346 - val_accuracy: 0.7897 - lr: 0.0010 - 8s/epoch - 139ms/step
Epoch 49/100
59/59 - 8s - loss: 0.2192 - accuracy: 0.9185 - val_loss: 0.6476 - val_accuracy: 0.8157 - lr: 0.0010 - 8s/epoch - 141ms/step
Epoch 50/100
59/59 - 9s - loss: 0.2161 - accuracy: 0.9189 - val_loss: 0.7173 - val_accuracy: 0.7864 - lr: 0.0010 - 9s/epoch - 145ms/step
Epoch 51/100
59/59 - 8s - loss: 0.2296 - accuracy: 0.9145 - val_loss: 0.7313 - val_accuracy: 0.7856 - lr: 0.0010 - 8s/epoch - 130ms/step
Epoch 52/100
59/59 - 8s - loss: 0.2298 - accuracy: 0.9144 - val_loss: 0.7302 - val_accuracy: 0.7915 - lr: 0.0010 - 8s/epoch - 144ms/step
Epoch 53/100
59/59 - 8s - loss: 0.2160 - accuracy: 0.9190 - val_loss: 0.7381 - val_accuracy: 0.7938 - lr: 0.0010 - 8s/epoch - 138ms/step
Epoch 54/100
59/59 - 8s - loss: 0.2177 - accuracy: 0.9188 - val_loss: 0.7725 - val_accuracy: 0.7788 - lr: 0.0010 - 8s/epoch - 135ms/step
Epoch 55/100
59/59 - 8s - loss: 0.2202 - accuracy: 0.9180 - val_loss: 0.6962 - val_accuracy: 0.8045 - lr: 0.0010 - 8s/epoch - 138ms/step
Epoch 56/100
59/59 - 9s - loss: 0.2208 - accuracy: 0.9179 - val_loss: 0.7421 - val_accuracy: 0.7819 - lr: 0.0010 - 9s/epoch - 145ms/step
Epoch 57/100
59/59 - 8s - loss: 0.2216 - accuracy: 0.9175 - val_loss: 0.7233 - val_accuracy: 0.7949 - lr: 0.0010 - 8s/epoch - 135ms/step
Epoch 58/100
59/59 - 8s - loss: 0.2194 - accuracy: 0.9181 - val_loss: 0.7348 - val_accuracy: 0.7844 - lr: 0.0010 - 8s/epoch - 141ms/step
Epoch 59/100
59/59 - 8s - loss: 0.2160 - accuracy: 0.9190 - val_loss: 0.7312 - val_accuracy: 0.7876 - lr: 0.0010 - 8s/epoch - 137ms/step
Epoch 60/100
59/59 - 10s - loss: 0.2249 - accuracy: 0.9155 - val_loss: 0.7747 - val_accuracy: 0.7721 - lr: 0.0010 - 10s/epoch - 164ms/step
Epoch 61/100
59/59 - 10s - loss: 0.2287 - accuracy: 0.9143 - val_loss: 0.7592 - val_accuracy: 0.7826 - lr: 0.0010 - 10s/epoch - 165ms/step
Epoch 62/100
59/59 - 10s - loss: 0.2207 - accuracy: 0.9180 - val_loss: 0.7470 - val_accuracy: 0.7820 - lr: 0.0010 - 10s/epoch - 164ms/step
Epoch 63/100
59/59 - 10s - loss: 0.2230 - accuracy: 0.9171 - val_loss: 0.7105 - val_accuracy: 0.7961 - lr: 0.0010 - 10s/epoch - 164ms/step
Epoch 64/100
59/59 - 10s - loss: 0.2151 - accuracy: 0.9196 - val_loss: 0.7381 - val_accuracy: 0.7827 - lr: 0.0010 - 10s/epoch - 164ms/step
Epoch 65/100
59/59 - 10s - loss: 0.2243 - accuracy: 0.9166 - val_loss: 0.7207 - val_accuracy: 0.7900 - lr: 0.0010 - 10s/epoch - 164ms/step
Epoch 66/100
59/59 - 10s - loss: 0.2146 - accuracy: 0.9209 - val_loss: 0.7347 - val_accuracy: 0.7829 - lr: 0.0010 - 10s/epoch - 165ms/step
Epoch 67/100
59/59 - 10s - loss: 0.2176 - accuracy: 0.9181 - val_loss: 0.7589 - val_accuracy: 0.7836 - lr: 0.0010 - 10s/epoch - 163ms/step
Epoch 68/100
59/59 - 10s - loss: 0.2319 - accuracy: 0.9130 - val_loss: 0.6820 - val_accuracy: 0.8009 - lr: 0.0010 - 10s/epoch - 164ms/step
Epoch 69/100
59/59 - 10s - loss: 0.2114 - accuracy: 0.9204 - val_loss: 0.7234 - val_accuracy: 0.7925 - lr: 0.0010 - 10s/epoch - 163ms/step
Epoch 70/100
59/59 - 10s - loss: 0.2236 - accuracy: 0.9171 - val_loss: 0.6722 - val_accuracy: 0.8046 - lr: 0.0010 - 10s/epoch - 162ms/step
Epoch 71/100
59/59 - 10s - loss: 0.2223 - accuracy: 0.9164 - val_loss: 0.6807 - val_accuracy: 0.8056 - lr: 0.0010 - 10s/epoch - 163ms/step
Epoch 72/100
59/59 - 10s - loss: 0.2294 - accuracy: 0.9140 - val_loss: 0.6594 - val_accuracy: 0.8148 - lr: 0.0010 - 10s/epoch - 161ms/step
Epoch 73/100
59/59 - 10s - loss: 0.2171 - accuracy: 0.9183 - val_loss: 0.6717 - val_accuracy: 0.8096 - lr: 0.0010 - 10s/epoch - 163ms/step
Epoch 74/100
59/59 - 10s - loss: 0.2211 - accuracy: 0.9172 - val_loss: 0.6847 - val_accuracy: 0.8028 - lr: 0.0010 - 10s/epoch - 162ms/step
Epoch 75/100
59/59 - 10s - loss: 0.2153 - accuracy: 0.9201 - val_loss: 0.6870 - val_accuracy: 0.8068 - lr: 0.0010 - 10s/epoch - 162ms/step
Epoch 76/100
59/59 - 10s - loss: 0.2168 - accuracy: 0.9192 - val_loss: 0.7492 - val_accuracy: 0.7923 - lr: 0.0010 - 10s/epoch - 164ms/step
Epoch 77/100
59/59 - 10s - loss: 0.2315 - accuracy: 0.9130 - val_loss: 0.7582 - val_accuracy: 0.7776 - lr: 0.0010 - 10s/epoch - 165ms/step
Epoch 78/100
59/59 - 10s - loss: 0.2123 - accuracy: 0.9216 - val_loss: 0.7365 - val_accuracy: 0.7972 - lr: 0.0010 - 10s/epoch - 164ms/step
Epoch 79/100
59/59 - 10s - loss: 0.2238 - accuracy: 0.9167 - val_loss: 0.7877 - val_accuracy: 0.7715 - lr: 0.0010 - 10s/epoch - 163ms/step
Epoch 80/100
59/59 - 10s - loss: 0.2127 - accuracy: 0.9205 - val_loss: 0.7094 - val_accuracy: 0.7957 - lr: 0.0010 - 10s/epoch - 162ms/step
Epoch 81/100
59/59 - 8s - loss: 0.2172 - accuracy: 0.9182 - val_loss: 0.7137 - val_accuracy: 0.7955 - lr: 0.0010 - 8s/epoch - 140ms/step
Epoch 82/100
59/59 - 8s - loss: 0.2148 - accuracy: 0.9202 - val_loss: 0.6497 - val_accuracy: 0.8136 - lr: 0.0010 - 8s/epoch - 136ms/step
Epoch 83/100
59/59 - 8s - loss: 0.2222 - accuracy: 0.9172 - val_loss: 0.6809 - val_accuracy: 0.8097 - lr: 0.0010 - 8s/epoch - 135ms/step
Epoch 84/100
59/59 - 8s - loss: 0.2177 - accuracy: 0.9188 - val_loss: 0.6441 - val_accuracy: 0.8137 - lr: 0.0010 - 8s/epoch - 130ms/step
Epoch 85/100
59/59 - 8s - loss: 0.2131 - accuracy: 0.9202 - val_loss: 0.7209 - val_accuracy: 0.7998 - lr: 0.0010 - 8s/epoch - 138ms/step
Epoch 86/100
59/59 - 8s - loss: 0.2213 - accuracy: 0.9160 - val_loss: 0.7383 - val_accuracy: 0.7919 - lr: 0.0010 - 8s/epoch - 134ms/step
Epoch 87/100
59/59 - 8s - loss: 0.2226 - accuracy: 0.9170 - val_loss: 0.7479 - val_accuracy: 0.7832 - lr: 0.0010 - 8s/epoch - 143ms/step
Epoch 88/100
59/59 - 8s - loss: 0.2203 - accuracy: 0.9175 - val_loss: 0.7459 - val_accuracy: 0.7958 - lr: 0.0010 - 8s/epoch - 138ms/step
Epoch 89/100
59/59 - 9s - loss: 0.2187 - accuracy: 0.9189 - val_loss: 0.6648 - val_accuracy: 0.8118 - lr: 0.0010 - 9s/epoch - 155ms/step
Epoch 90/100
59/59 - 9s - loss: 0.2142 - accuracy: 0.9199 - val_loss: 0.7742 - val_accuracy: 0.7811 - lr: 0.0010 - 9s/epoch - 155ms/step
Epoch 91/100
59/59 - 10s - loss: 0.2260 - accuracy: 0.9153 - val_loss: 0.7503 - val_accuracy: 0.7822 - lr: 0.0010 - 10s/epoch - 167ms/step
Epoch 92/100
59/59 - 10s - loss: 0.2211 - accuracy: 0.9175 - val_loss: 0.7578 - val_accuracy: 0.7875 - lr: 0.0010 - 10s/epoch - 162ms/step
Epoch 93/100
59/59 - 9s - loss: 0.2247 - accuracy: 0.9164 - val_loss: 0.6753 - val_accuracy: 0.8052 - lr: 0.0010 - 9s/epoch - 149ms/step
Epoch 94/100
59/59 - 8s - loss: 0.2153 - accuracy: 0.9195 - val_loss: 0.7391 - val_accuracy: 0.7885 - lr: 0.0010 - 8s/epoch - 134ms/step
Epoch 95/100
59/59 - 10s - loss: 0.2217 - accuracy: 0.9174 - val_loss: 0.6960 - val_accuracy: 0.7998 - lr: 0.0010 - 10s/epoch - 175ms/step
Epoch 96/100
59/59 - 10s - loss: 0.2146 - accuracy: 0.9197 - val_loss: 0.7390 - val_accuracy: 0.7933 - lr: 0.0010 - 10s/epoch - 175ms/step
Epoch 97/100
59/59 - 11s - loss: 0.2162 - accuracy: 0.9196 - val_loss: 0.7576 - val_accuracy: 0.7904 - lr: 0.0010 - 11s/epoch - 179ms/step
Epoch 98/100
59/59 - 11s - loss: 0.2162 - accuracy: 0.9191 - val_loss: 0.7568 - val_accuracy: 0.7869 - lr: 0.0010 - 11s/epoch - 183ms/step
Epoch 99/100
59/59 - 11s - loss: 0.2197 - accuracy: 0.9177 - val_loss: 0.7065 - val_accuracy: 0.7988 - lr: 0.0010 - 11s/epoch - 185ms/step
Epoch 100/100
59/59 - 10s - loss: 0.2184 - accuracy: 0.9186 - val_loss: 0.6727 - val_accuracy: 0.8131 - lr: 0.0010 - 10s/epoch - 177ms/step
fitting with batch size: 2500
Epoch 1/100
36/36 - 14s - loss: 0.1955 - accuracy: 0.9270 - val_loss: 0.8123 - val_accuracy: 0.7717 - lr: 0.0010 - 14s/epoch - 389ms/step
Epoch 2/100
36/36 - 11s - loss: 0.2111 - accuracy: 0.9213 - val_loss: 0.7742 - val_accuracy: 0.7864 - lr: 0.0010 - 11s/epoch - 292ms/step
Epoch 3/100
36/36 - 10s - loss: 0.2070 - accuracy: 0.9225 - val_loss: 0.7214 - val_accuracy: 0.7935 - lr: 0.0010 - 10s/epoch - 287ms/step
Epoch 4/100
36/36 - 11s - loss: 0.1861 - accuracy: 0.9309 - val_loss: 0.8244 - val_accuracy: 0.7730 - lr: 0.0010 - 11s/epoch - 301ms/step
Epoch 5/100
36/36 - 11s - loss: 0.1717 - accuracy: 0.9360 - val_loss: 0.7961 - val_accuracy: 0.7886 - lr: 0.0010 - 11s/epoch - 296ms/step
Epoch 6/100
36/36 - 11s - loss: 0.2644 - accuracy: 0.9023 - val_loss: 0.7035 - val_accuracy: 0.7984 - lr: 0.0010 - 11s/epoch - 297ms/step
Epoch 7/100
36/36 - 11s - loss: 0.2117 - accuracy: 0.9227 - val_loss: 0.6857 - val_accuracy: 0.8058 - lr: 0.0010 - 11s/epoch - 292ms/step
Epoch 8/100
36/36 - 11s - loss: 0.2494 - accuracy: 0.9077 - val_loss: 0.7382 - val_accuracy: 0.7851 - lr: 0.0010 - 11s/epoch - 304ms/step
Epoch 9/100
36/36 - 11s - loss: 0.2631 - accuracy: 0.9020 - val_loss: 0.6367 - val_accuracy: 0.8130 - lr: 0.0010 - 11s/epoch - 319ms/step
Epoch 10/100
36/36 - 12s - loss: 0.2613 - accuracy: 0.9035 - val_loss: 0.6585 - val_accuracy: 0.8069 - lr: 0.0010 - 12s/epoch - 321ms/step
Epoch 11/100
36/36 - 13s - loss: 0.1841 - accuracy: 0.9323 - val_loss: 0.7078 - val_accuracy: 0.8029 - lr: 0.0010 - 13s/epoch - 347ms/step
Epoch 12/100
36/36 - 11s - loss: 0.2007 - accuracy: 0.9244 - val_loss: 0.7161 - val_accuracy: 0.8083 - lr: 0.0010 - 11s/epoch - 316ms/step
Epoch 13/100
36/36 - 11s - loss: 0.2077 - accuracy: 0.9224 - val_loss: 0.7086 - val_accuracy: 0.8002 - lr: 0.0010 - 11s/epoch - 304ms/step
Epoch 14/100
36/36 - 11s - loss: 0.2118 - accuracy: 0.9207 - val_loss: 0.7717 - val_accuracy: 0.7859 - lr: 0.0010 - 11s/epoch - 317ms/step
Epoch 15/100
36/36 - 12s - loss: 0.1922 - accuracy: 0.9287 - val_loss: 0.7630 - val_accuracy: 0.7902 - lr: 0.0010 - 12s/epoch - 325ms/step
Epoch 16/100
36/36 - 11s - loss: 0.1786 - accuracy: 0.9334 - val_loss: 0.7251 - val_accuracy: 0.7989 - lr: 0.0010 - 11s/epoch - 314ms/step
Epoch 17/100
36/36 - 11s - loss: 0.2887 - accuracy: 0.8939 - val_loss: 0.6783 - val_accuracy: 0.8006 - lr: 0.0010 - 11s/epoch - 299ms/step
Epoch 18/100
36/36 - 11s - loss: 0.3116 - accuracy: 0.8854 - val_loss: 0.6682 - val_accuracy: 0.8011 - lr: 0.0010 - 11s/epoch - 311ms/step
Epoch 19/100
36/36 - 12s - loss: 0.2102 - accuracy: 0.9218 - val_loss: 0.6792 - val_accuracy: 0.8076 - lr: 0.0010 - 12s/epoch - 329ms/step
Epoch 20/100
36/36 - 12s - loss: 0.1949 - accuracy: 0.9287 - val_loss: 0.6824 - val_accuracy: 0.8052 - lr: 0.0010 - 12s/epoch - 333ms/step
Epoch 21/100
36/36 - 10s - loss: 0.3540 - accuracy: 0.8707 - val_loss: 0.5949 - val_accuracy: 0.8216 - lr: 0.0010 - 10s/epoch - 290ms/step
Epoch 22/100
36/36 - 10s - loss: 0.2162 - accuracy: 0.9197 - val_loss: 0.7282 - val_accuracy: 0.7878 - lr: 0.0010 - 10s/epoch - 292ms/step
Epoch 23/100
36/36 - 10s - loss: 0.2059 - accuracy: 0.9232 - val_loss: 0.6949 - val_accuracy: 0.8022 - lr: 0.0010 - 10s/epoch - 291ms/step
Epoch 24/100
36/36 - 11s - loss: 0.2484 - accuracy: 0.9073 - val_loss: 0.7114 - val_accuracy: 0.7913 - lr: 0.0010 - 11s/epoch - 305ms/step
Epoch 25/100
36/36 - 12s - loss: 0.1964 - accuracy: 0.9268 - val_loss: 0.7453 - val_accuracy: 0.7933 - lr: 0.0010 - 12s/epoch - 320ms/step
Epoch 26/100
36/36 - 11s - loss: 0.2181 - accuracy: 0.9195 - val_loss: 0.7516 - val_accuracy: 0.7870 - lr: 0.0010 - 11s/epoch - 294ms/step
Epoch 27/100
36/36 - 11s - loss: 0.2930 - accuracy: 0.8921 - val_loss: 0.7048 - val_accuracy: 0.7950 - lr: 0.0010 - 11s/epoch - 296ms/step
Epoch 28/100
36/36 - 11s - loss: 0.2050 - accuracy: 0.9238 - val_loss: 0.7788 - val_accuracy: 0.7808 - lr: 0.0010 - 11s/epoch - 295ms/step
Epoch 29/100
36/36 - 12s - loss: 0.1932 - accuracy: 0.9278 - val_loss: 0.7684 - val_accuracy: 0.7850 - lr: 0.0010 - 12s/epoch - 337ms/step
Epoch 30/100
36/36 - 12s - loss: 0.2508 - accuracy: 0.9061 - val_loss: 0.6778 - val_accuracy: 0.8019 - lr: 0.0010 - 12s/epoch - 324ms/step
Epoch 31/100
36/36 - 12s - loss: 0.1892 - accuracy: 0.9298 - val_loss: 0.7248 - val_accuracy: 0.7976 - lr: 0.0010 - 12s/epoch - 329ms/step
Epoch 32/100
36/36 - 11s - loss: 0.1872 - accuracy: 0.9301 - val_loss: 0.9153 - val_accuracy: 0.7530 - lr: 0.0010 - 11s/epoch - 319ms/step
Epoch 33/100
36/36 - 11s - loss: 0.2283 - accuracy: 0.9160 - val_loss: 0.7170 - val_accuracy: 0.7985 - lr: 0.0010 - 11s/epoch - 318ms/step
Epoch 34/100
36/36 - 12s - loss: 0.1672 - accuracy: 0.9381 - val_loss: 0.8245 - val_accuracy: 0.7845 - lr: 0.0010 - 12s/epoch - 324ms/step
Epoch 35/100
36/36 - 11s - loss: 0.2117 - accuracy: 0.9208 - val_loss: 0.7250 - val_accuracy: 0.7946 - lr: 0.0010 - 11s/epoch - 312ms/step
Epoch 36/100
36/36 - 12s - loss: 0.2504 - accuracy: 0.9074 - val_loss: 0.7187 - val_accuracy: 0.7965 - lr: 0.0010 - 12s/epoch - 323ms/step
Epoch 37/100
36/36 - 12s - loss: 0.2593 - accuracy: 0.9037 - val_loss: 0.7429 - val_accuracy: 0.7895 - lr: 0.0010 - 12s/epoch - 326ms/step
Epoch 38/100
36/36 - 12s - loss: 0.2159 - accuracy: 0.9192 - val_loss: 0.7088 - val_accuracy: 0.8043 - lr: 0.0010 - 12s/epoch - 328ms/step
Epoch 39/100
36/36 - 12s - loss: 0.2222 - accuracy: 0.9170 - val_loss: 0.7317 - val_accuracy: 0.7945 - lr: 0.0010 - 12s/epoch - 330ms/step
Epoch 40/100
36/36 - 12s - loss: 0.1737 - accuracy: 0.9358 - val_loss: 0.7572 - val_accuracy: 0.7963 - lr: 0.0010 - 12s/epoch - 328ms/step
Epoch 41/100
36/36 - 12s - loss: 0.1984 - accuracy: 0.9250 - val_loss: 0.7722 - val_accuracy: 0.7912 - lr: 0.0010 - 12s/epoch - 320ms/step
Epoch 42/100
36/36 - 12s - loss: 0.2703 - accuracy: 0.9008 - val_loss: 0.7376 - val_accuracy: 0.7906 - lr: 0.0010 - 12s/epoch - 320ms/step
Epoch 43/100
36/36 - 12s - loss: 0.1864 - accuracy: 0.9302 - val_loss: 0.7210 - val_accuracy: 0.8006 - lr: 0.0010 - 12s/epoch - 338ms/step
Epoch 44/100
36/36 - 12s - loss: 0.2692 - accuracy: 0.9018 - val_loss: 0.6976 - val_accuracy: 0.8015 - lr: 0.0010 - 12s/epoch - 326ms/step
Epoch 45/100
36/36 - 11s - loss: 0.2154 - accuracy: 0.9202 - val_loss: 0.7353 - val_accuracy: 0.7948 - lr: 0.0010 - 11s/epoch - 315ms/step
Epoch 46/100
36/36 - 12s - loss: 0.2493 - accuracy: 0.9068 - val_loss: 0.7267 - val_accuracy: 0.7876 - lr: 0.0010 - 12s/epoch - 322ms/step
Epoch 47/100
36/36 - 12s - loss: 0.2750 - accuracy: 0.8980 - val_loss: 0.6565 - val_accuracy: 0.8113 - lr: 0.0010 - 12s/epoch - 328ms/step
Epoch 48/100
36/36 - 12s - loss: 0.2110 - accuracy: 0.9212 - val_loss: 0.7322 - val_accuracy: 0.7949 - lr: 0.0010 - 12s/epoch - 321ms/step
Epoch 49/100
36/36 - 12s - loss: 0.2080 - accuracy: 0.9220 - val_loss: 0.7225 - val_accuracy: 0.7951 - lr: 0.0010 - 12s/epoch - 328ms/step
Epoch 50/100
36/36 - 12s - loss: 0.1923 - accuracy: 0.9288 - val_loss: 0.7799 - val_accuracy: 0.7855 - lr: 0.0010 - 12s/epoch - 335ms/step
Epoch 51/100
36/36 - 12s - loss: 0.2414 - accuracy: 0.9101 - val_loss: 0.6914 - val_accuracy: 0.8085 - lr: 0.0010 - 12s/epoch - 324ms/step
Epoch 52/100
36/36 - 12s - loss: 0.1922 - accuracy: 0.9287 - val_loss: 0.7389 - val_accuracy: 0.7929 - lr: 0.0010 - 12s/epoch - 324ms/step
Epoch 53/100
36/36 - 12s - loss: 0.1771 - accuracy: 0.9341 - val_loss: 0.6959 - val_accuracy: 0.8138 - lr: 0.0010 - 12s/epoch - 323ms/step
Epoch 54/100
36/36 - 11s - loss: 0.3475 - accuracy: 0.8734 - val_loss: 0.6523 - val_accuracy: 0.8044 - lr: 0.0010 - 11s/epoch - 318ms/step
Epoch 55/100
36/36 - 12s - loss: 0.2115 - accuracy: 0.9222 - val_loss: 0.7141 - val_accuracy: 0.7999 - lr: 0.0010 - 12s/epoch - 324ms/step
Epoch 56/100
36/36 - 12s - loss: 0.1881 - accuracy: 0.9303 - val_loss: 0.8065 - val_accuracy: 0.7881 - lr: 0.0010 - 12s/epoch - 323ms/step
Epoch 57/100
36/36 - 12s - loss: 0.2894 - accuracy: 0.8944 - val_loss: 0.6772 - val_accuracy: 0.7961 - lr: 0.0010 - 12s/epoch - 330ms/step
Epoch 58/100
36/36 - 12s - loss: 0.2042 - accuracy: 0.9237 - val_loss: 0.7025 - val_accuracy: 0.7963 - lr: 0.0010 - 12s/epoch - 334ms/step
Epoch 59/100
36/36 - 12s - loss: 0.1766 - accuracy: 0.9337 - val_loss: 0.7145 - val_accuracy: 0.8013 - lr: 0.0010 - 12s/epoch - 320ms/step
Epoch 60/100
36/36 - 12s - loss: 0.2277 - accuracy: 0.9160 - val_loss: 0.6871 - val_accuracy: 0.8069 - lr: 0.0010 - 12s/epoch - 326ms/step
Epoch 61/100
36/36 - 12s - loss: 0.2363 - accuracy: 0.9114 - val_loss: 0.7564 - val_accuracy: 0.7845 - lr: 0.0010 - 12s/epoch - 342ms/step
Epoch 62/100
36/36 - 12s - loss: 0.2311 - accuracy: 0.9141 - val_loss: 0.7086 - val_accuracy: 0.7994 - lr: 0.0010 - 12s/epoch - 336ms/step
Epoch 63/100
36/36 - 11s - loss: 0.2156 - accuracy: 0.9190 - val_loss: 0.7727 - val_accuracy: 0.7775 - lr: 0.0010 - 11s/epoch - 298ms/step
Epoch 64/100
36/36 - 12s - loss: 0.2342 - accuracy: 0.9126 - val_loss: 0.7231 - val_accuracy: 0.7974 - lr: 0.0010 - 12s/epoch - 320ms/step
Epoch 65/100
36/36 - 12s - loss: 0.1909 - accuracy: 0.9288 - val_loss: 0.7257 - val_accuracy: 0.7964 - lr: 0.0010 - 12s/epoch - 320ms/step
Epoch 66/100
36/36 - 12s - loss: 0.2261 - accuracy: 0.9157 - val_loss: 0.7203 - val_accuracy: 0.8020 - lr: 0.0010 - 12s/epoch - 325ms/step
Epoch 67/100
36/36 - 11s - loss: 0.2000 - accuracy: 0.9257 - val_loss: 0.7461 - val_accuracy: 0.7954 - lr: 0.0010 - 11s/epoch - 319ms/step
Epoch 68/100
36/36 - 11s - loss: 0.1882 - accuracy: 0.9302 - val_loss: 0.7463 - val_accuracy: 0.7960 - lr: 0.0010 - 11s/epoch - 309ms/step
Epoch 69/100
36/36 - 12s - loss: 0.2426 - accuracy: 0.9100 - val_loss: 0.7484 - val_accuracy: 0.7957 - lr: 0.0010 - 12s/epoch - 329ms/step
Epoch 70/100
36/36 - 12s - loss: 0.2060 - accuracy: 0.9232 - val_loss: 0.7038 - val_accuracy: 0.8029 - lr: 0.0010 - 12s/epoch - 326ms/step
Epoch 71/100
36/36 - 12s - loss: 0.2594 - accuracy: 0.9042 - val_loss: 0.6537 - val_accuracy: 0.8113 - lr: 0.0010 - 12s/epoch - 332ms/step
Epoch 72/100
36/36 - 12s - loss: 0.2183 - accuracy: 0.9191 - val_loss: 0.6866 - val_accuracy: 0.8053 - lr: 0.0010 - 12s/epoch - 335ms/step
Epoch 73/100
36/36 - 12s - loss: 0.3037 - accuracy: 0.8895 - val_loss: 0.6755 - val_accuracy: 0.8017 - lr: 0.0010 - 12s/epoch - 337ms/step
Epoch 74/100
36/36 - 12s - loss: 0.2480 - accuracy: 0.9080 - val_loss: 0.6590 - val_accuracy: 0.8055 - lr: 0.0010 - 12s/epoch - 332ms/step
Epoch 75/100
36/36 - 11s - loss: 0.2137 - accuracy: 0.9210 - val_loss: 0.6262 - val_accuracy: 0.8194 - lr: 0.0010 - 11s/epoch - 311ms/step
Epoch 76/100
36/36 - 12s - loss: 0.2364 - accuracy: 0.9122 - val_loss: 0.6285 - val_accuracy: 0.8217 - lr: 0.0010 - 12s/epoch - 339ms/step
Epoch 77/100
36/36 - 12s - loss: 0.2499 - accuracy: 0.9075 - val_loss: 0.7270 - val_accuracy: 0.7936 - lr: 0.0010 - 12s/epoch - 328ms/step
Epoch 78/100
36/36 - 12s - loss: 0.2672 - accuracy: 0.9004 - val_loss: 0.6648 - val_accuracy: 0.8021 - lr: 0.0010 - 12s/epoch - 334ms/step
Epoch 79/100
36/36 - 11s - loss: 0.2140 - accuracy: 0.9204 - val_loss: 0.7276 - val_accuracy: 0.7940 - lr: 0.0010 - 11s/epoch - 319ms/step
Epoch 80/100
36/36 - 12s - loss: 0.2294 - accuracy: 0.9144 - val_loss: 0.7613 - val_accuracy: 0.7813 - lr: 0.0010 - 12s/epoch - 327ms/step
Epoch 81/100
36/36 - 12s - loss: 0.2213 - accuracy: 0.9177 - val_loss: 0.7159 - val_accuracy: 0.7914 - lr: 0.0010 - 12s/epoch - 331ms/step
Epoch 82/100
36/36 - 12s - loss: 0.1862 - accuracy: 0.9314 - val_loss: 0.7560 - val_accuracy: 0.7953 - lr: 0.0010 - 12s/epoch - 334ms/step
Epoch 83/100
36/36 - 12s - loss: 0.1824 - accuracy: 0.9324 - val_loss: 0.7538 - val_accuracy: 0.7972 - lr: 0.0010 - 12s/epoch - 336ms/step
Epoch 84/100
36/36 - 12s - loss: 0.2828 - accuracy: 0.8965 - val_loss: 0.6772 - val_accuracy: 0.8017 - lr: 0.0010 - 12s/epoch - 336ms/step
Epoch 85/100
36/36 - 12s - loss: 0.2608 - accuracy: 0.9021 - val_loss: 0.6760 - val_accuracy: 0.7982 - lr: 0.0010 - 12s/epoch - 333ms/step
Epoch 86/100
36/36 - 12s - loss: 0.2517 - accuracy: 0.9053 - val_loss: 0.6540 - val_accuracy: 0.8041 - lr: 0.0010 - 12s/epoch - 335ms/step
Epoch 87/100
36/36 - 12s - loss: 0.2054 - accuracy: 0.9239 - val_loss: 0.6998 - val_accuracy: 0.8037 - lr: 0.0010 - 12s/epoch - 329ms/step
Epoch 88/100
36/36 - 12s - loss: 0.1696 - accuracy: 0.9371 - val_loss: 0.7881 - val_accuracy: 0.7849 - lr: 0.0010 - 12s/epoch - 325ms/step
Epoch 89/100
36/36 - 12s - loss: 0.2081 - accuracy: 0.9225 - val_loss: 0.6481 - val_accuracy: 0.8195 - lr: 0.0010 - 12s/epoch - 322ms/step
Epoch 90/100
36/36 - 12s - loss: 0.2604 - accuracy: 0.9032 - val_loss: 0.6962 - val_accuracy: 0.7936 - lr: 0.0010 - 12s/epoch - 330ms/step
Epoch 91/100
36/36 - 12s - loss: 0.2085 - accuracy: 0.9230 - val_loss: 0.7736 - val_accuracy: 0.7902 - lr: 0.0010 - 12s/epoch - 330ms/step
Epoch 92/100
36/36 - 12s - loss: 0.2639 - accuracy: 0.9018 - val_loss: 0.7488 - val_accuracy: 0.7803 - lr: 0.0010 - 12s/epoch - 331ms/step
Epoch 93/100
36/36 - 12s - loss: 0.2183 - accuracy: 0.9185 - val_loss: 0.7486 - val_accuracy: 0.7836 - lr: 0.0010 - 12s/epoch - 327ms/step
Epoch 94/100
36/36 - 11s - loss: 0.2753 - accuracy: 0.8967 - val_loss: 0.6140 - val_accuracy: 0.8157 - lr: 0.0010 - 11s/epoch - 316ms/step
Epoch 95/100
36/36 - 12s - loss: 0.2225 - accuracy: 0.9169 - val_loss: 0.6463 - val_accuracy: 0.8128 - lr: 0.0010 - 12s/epoch - 327ms/step
Epoch 96/100
36/36 - 12s - loss: 0.2239 - accuracy: 0.9167 - val_loss: 0.6926 - val_accuracy: 0.7987 - lr: 0.0010 - 12s/epoch - 321ms/step
Epoch 97/100
36/36 - 12s - loss: 0.1967 - accuracy: 0.9266 - val_loss: 0.6806 - val_accuracy: 0.8079 - lr: 0.0010 - 12s/epoch - 327ms/step
Epoch 98/100
36/36 - 12s - loss: 0.2396 - accuracy: 0.9118 - val_loss: 0.7458 - val_accuracy: 0.7903 - lr: 0.0010 - 12s/epoch - 327ms/step
Epoch 99/100
36/36 - 12s - loss: 0.1961 - accuracy: 0.9268 - val_loss: 0.7737 - val_accuracy: 0.7889 - lr: 0.0010 - 12s/epoch - 327ms/step
Epoch 100/100
36/36 - 12s - loss: 0.2035 - accuracy: 0.9247 - val_loss: 0.7178 - val_accuracy: 0.7988 - lr: 0.0010 - 12s/epoch - 320ms/step
