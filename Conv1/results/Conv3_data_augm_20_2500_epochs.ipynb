Loss: categorical_crossentropy
Epoch number: 25
fitting with batch size: 20
Epoch 1/25
4378/4378 - 75s - loss: 0.7936 - accuracy: 0.7030 - val_loss: 0.7664 - val_accuracy: 0.7486 - lr: 0.0010 - 75s/epoch - 17ms/step
Epoch 2/25
4378/4378 - 71s - loss: 0.7864 - accuracy: 0.7048 - val_loss: 0.7773 - val_accuracy: 0.7131 - lr: 0.0010 - 71s/epoch - 16ms/step
Epoch 3/25
4378/4378 - 71s - loss: 0.7825 - accuracy: 0.7070 - val_loss: 0.8080 - val_accuracy: 0.7188 - lr: 0.0010 - 71s/epoch - 16ms/step
Epoch 4/25
4378/4378 - 70s - loss: 0.7784 - accuracy: 0.7076 - val_loss: 0.7870 - val_accuracy: 0.7131 - lr: 0.0010 - 70s/epoch - 16ms/step
Epoch 5/25
4378/4378 - 71s - loss: 0.7724 - accuracy: 0.7101 - val_loss: 0.7077 - val_accuracy: 0.7595 - lr: 0.0010 - 71s/epoch - 16ms/step
Epoch 6/25
4378/4378 - 71s - loss: 0.7691 - accuracy: 0.7128 - val_loss: 0.8009 - val_accuracy: 0.7267 - lr: 0.0010 - 71s/epoch - 16ms/step
Epoch 7/25
4378/4378 - 72s - loss: 0.7651 - accuracy: 0.7145 - val_loss: 0.8357 - val_accuracy: 0.7251 - lr: 0.0010 - 72s/epoch - 16ms/step
Epoch 8/25
4378/4378 - 71s - loss: 0.7605 - accuracy: 0.7141 - val_loss: 0.7439 - val_accuracy: 0.7405 - lr: 0.0010 - 71s/epoch - 16ms/step
Epoch 9/25
4378/4378 - 73s - loss: 0.7570 - accuracy: 0.7161 - val_loss: 0.7874 - val_accuracy: 0.7006 - lr: 0.0010 - 73s/epoch - 17ms/step
Epoch 10/25
4378/4378 - 71s - loss: 0.7571 - accuracy: 0.7160 - val_loss: 0.6643 - val_accuracy: 0.7628 - lr: 0.0010 - 71s/epoch - 16ms/step
Epoch 11/25
4378/4378 - 70s - loss: 0.7543 - accuracy: 0.7171 - val_loss: 0.8348 - val_accuracy: 0.7191 - lr: 0.0010 - 70s/epoch - 16ms/step
Epoch 12/25
4378/4378 - 71s - loss: 0.7508 - accuracy: 0.7175 - val_loss: 0.7519 - val_accuracy: 0.7362 - lr: 0.0010 - 71s/epoch - 16ms/step
Epoch 13/25
4378/4378 - 71s - loss: 0.7484 - accuracy: 0.7199 - val_loss: 0.7357 - val_accuracy: 0.7533 - lr: 0.0010 - 71s/epoch - 16ms/step
Epoch 14/25
4378/4378 - 71s - loss: 0.7468 - accuracy: 0.7195 - val_loss: 0.8094 - val_accuracy: 0.7226 - lr: 0.0010 - 71s/epoch - 16ms/step
Epoch 15/25
4378/4378 - 71s - loss: 0.7447 - accuracy: 0.7203 - val_loss: 0.7433 - val_accuracy: 0.7565 - lr: 0.0010 - 71s/epoch - 16ms/step
Epoch 16/25
4378/4378 - 70s - loss: 0.7433 - accuracy: 0.7211 - val_loss: 0.7786 - val_accuracy: 0.7257 - lr: 0.0010 - 70s/epoch - 16ms/step
Epoch 17/25
4378/4378 - 71s - loss: 0.7409 - accuracy: 0.7219 - val_loss: 0.7237 - val_accuracy: 0.7498 - lr: 0.0010 - 71s/epoch - 16ms/step
Epoch 18/25
4378/4378 - 71s - loss: 0.7382 - accuracy: 0.7216 - val_loss: 0.8096 - val_accuracy: 0.7274 - lr: 0.0010 - 71s/epoch - 16ms/step
Epoch 19/25
4378/4378 - 70s - loss: 0.7391 - accuracy: 0.7229 - val_loss: 0.7956 - val_accuracy: 0.7161 - lr: 0.0010 - 70s/epoch - 16ms/step
Epoch 20/25
4378/4378 - 70s - loss: 0.7379 - accuracy: 0.7228 - val_loss: 0.7537 - val_accuracy: 0.7198 - lr: 0.0010 - 70s/epoch - 16ms/step
Epoch 21/25
4378/4378 - 71s - loss: 0.7362 - accuracy: 0.7230 - val_loss: 0.7429 - val_accuracy: 0.7308 - lr: 0.0010 - 71s/epoch - 16ms/step
Epoch 22/25
4378/4378 - 70s - loss: 0.7361 - accuracy: 0.7230 - val_loss: 0.8292 - val_accuracy: 0.7154 - lr: 0.0010 - 70s/epoch - 16ms/step
Epoch 23/25
4378/4378 - 70s - loss: 0.7341 - accuracy: 0.7241 - val_loss: 0.8045 - val_accuracy: 0.6941 - lr: 0.0010 - 70s/epoch - 16ms/step
Epoch 24/25
4378/4378 - 71s - loss: 0.7323 - accuracy: 0.7248 - val_loss: 0.7614 - val_accuracy: 0.7354 - lr: 0.0010 - 71s/epoch - 16ms/step
Epoch 25/25
4378/4378 - 71s - loss: 0.7304 - accuracy: 0.7278 - val_loss: 0.9194 - val_accuracy: 0.6483 - lr: 0.0010 - 71s/epoch - 16ms/step
fitting with batch size: 100
Epoch 1/25
876/876 - 20s - loss: 0.6877 - accuracy: 0.7423 - val_loss: 0.6384 - val_accuracy: 0.7834 - lr: 0.0010 - 20s/epoch - 23ms/step
Epoch 2/25
876/876 - 17s - loss: 0.6785 - accuracy: 0.7445 - val_loss: 0.7100 - val_accuracy: 0.7526 - lr: 0.0010 - 17s/epoch - 20ms/step
Epoch 3/25
876/876 - 17s - loss: 0.6726 - accuracy: 0.7475 - val_loss: 0.7135 - val_accuracy: 0.7617 - lr: 0.0010 - 17s/epoch - 20ms/step
Epoch 4/25
876/876 - 17s - loss: 0.6660 - accuracy: 0.7479 - val_loss: 0.6840 - val_accuracy: 0.7631 - lr: 0.0010 - 17s/epoch - 20ms/step
Epoch 5/25
876/876 - 17s - loss: 0.6619 - accuracy: 0.7512 - val_loss: 0.7309 - val_accuracy: 0.7444 - lr: 0.0010 - 17s/epoch - 20ms/step
Epoch 6/25
876/876 - 17s - loss: 0.6573 - accuracy: 0.7514 - val_loss: 0.6850 - val_accuracy: 0.7676 - lr: 0.0010 - 17s/epoch - 20ms/step
Epoch 7/25
876/876 - 17s - loss: 0.6561 - accuracy: 0.7522 - val_loss: 0.7300 - val_accuracy: 0.7439 - lr: 0.0010 - 17s/epoch - 20ms/step
Epoch 8/25
876/876 - 17s - loss: 0.6506 - accuracy: 0.7544 - val_loss: 0.7182 - val_accuracy: 0.7500 - lr: 0.0010 - 17s/epoch - 20ms/step
Epoch 9/25
876/876 - 17s - loss: 0.6462 - accuracy: 0.7563 - val_loss: 0.6630 - val_accuracy: 0.7708 - lr: 0.0010 - 17s/epoch - 20ms/step
Epoch 10/25
876/876 - 17s - loss: 0.6425 - accuracy: 0.7573 - val_loss: 0.7551 - val_accuracy: 0.7279 - lr: 0.0010 - 17s/epoch - 20ms/step
Epoch 11/25
876/876 - 17s - loss: 0.6416 - accuracy: 0.7562 - val_loss: 0.7034 - val_accuracy: 0.7506 - lr: 0.0010 - 17s/epoch - 20ms/step
Epoch 12/25
876/876 - 17s - loss: 0.6378 - accuracy: 0.7578 - val_loss: 0.7394 - val_accuracy: 0.7327 - lr: 0.0010 - 17s/epoch - 20ms/step
Epoch 13/25
876/876 - 17s - loss: 0.6344 - accuracy: 0.7619 - val_loss: 0.7095 - val_accuracy: 0.7485 - lr: 0.0010 - 17s/epoch - 20ms/step
Epoch 14/25
876/876 - 17s - loss: 0.6314 - accuracy: 0.7617 - val_loss: 0.7121 - val_accuracy: 0.7591 - lr: 0.0010 - 17s/epoch - 20ms/step
Epoch 15/25
876/876 - 17s - loss: 0.6301 - accuracy: 0.7632 - val_loss: 0.7323 - val_accuracy: 0.7357 - lr: 0.0010 - 17s/epoch - 20ms/step
Epoch 16/25
876/876 - 17s - loss: 0.6260 - accuracy: 0.7633 - val_loss: 0.7117 - val_accuracy: 0.7469 - lr: 0.0010 - 17s/epoch - 20ms/step
Epoch 17/25
876/876 - 17s - loss: 0.6235 - accuracy: 0.7643 - val_loss: 0.7714 - val_accuracy: 0.7158 - lr: 0.0010 - 17s/epoch - 20ms/step
Epoch 18/25
876/876 - 17s - loss: 0.6236 - accuracy: 0.7650 - val_loss: 0.7361 - val_accuracy: 0.7377 - lr: 0.0010 - 17s/epoch - 20ms/step
Epoch 19/25
876/876 - 17s - loss: 0.6193 - accuracy: 0.7653 - val_loss: 0.6899 - val_accuracy: 0.7503 - lr: 0.0010 - 17s/epoch - 20ms/step
Epoch 20/25
876/876 - 17s - loss: 0.6191 - accuracy: 0.7667 - val_loss: 0.7162 - val_accuracy: 0.7443 - lr: 0.0010 - 17s/epoch - 20ms/step
Epoch 21/25
876/876 - 17s - loss: 0.6175 - accuracy: 0.7665 - val_loss: 0.7784 - val_accuracy: 0.7245 - lr: 0.0010 - 17s/epoch - 20ms/step
Epoch 22/25
876/876 - 17s - loss: 0.6141 - accuracy: 0.7686 - val_loss: 0.7617 - val_accuracy: 0.7320 - lr: 0.0010 - 17s/epoch - 20ms/step
Epoch 23/25
876/876 - 17s - loss: 0.6111 - accuracy: 0.7679 - val_loss: 0.7311 - val_accuracy: 0.7369 - lr: 0.0010 - 17s/epoch - 20ms/step
Epoch 24/25
876/876 - 17s - loss: 0.6098 - accuracy: 0.7692 - val_loss: 0.7396 - val_accuracy: 0.7311 - lr: 0.0010 - 17s/epoch - 20ms/step
Epoch 25/25
876/876 - 17s - loss: 0.6105 - accuracy: 0.7702 - val_loss: 0.7200 - val_accuracy: 0.7496 - lr: 0.0010 - 17s/epoch - 20ms/step
fitting with batch size: 500
Epoch 1/25
176/176 - 11s - loss: 0.5722 - accuracy: 0.7838 - val_loss: 0.7221 - val_accuracy: 0.7428 - lr: 0.0010 - 11s/epoch - 63ms/step
Epoch 2/25
176/176 - 9s - loss: 0.5648 - accuracy: 0.7875 - val_loss: 0.7114 - val_accuracy: 0.7472 - lr: 0.0010 - 9s/epoch - 50ms/step
Epoch 3/25
176/176 - 9s - loss: 0.5602 - accuracy: 0.7888 - val_loss: 0.7457 - val_accuracy: 0.7273 - lr: 0.0010 - 9s/epoch - 50ms/step
Epoch 4/25
176/176 - 9s - loss: 0.5589 - accuracy: 0.7894 - val_loss: 0.6882 - val_accuracy: 0.7502 - lr: 0.0010 - 9s/epoch - 50ms/step
Epoch 5/25
176/176 - 9s - loss: 0.5554 - accuracy: 0.7914 - val_loss: 0.7121 - val_accuracy: 0.7435 - lr: 0.0010 - 9s/epoch - 50ms/step
Epoch 6/25
176/176 - 9s - loss: 0.5516 - accuracy: 0.7921 - val_loss: 0.6954 - val_accuracy: 0.7547 - lr: 0.0010 - 9s/epoch - 50ms/step
Epoch 7/25
176/176 - 9s - loss: 0.5513 - accuracy: 0.7925 - val_loss: 0.7320 - val_accuracy: 0.7294 - lr: 0.0010 - 9s/epoch - 49ms/step
Epoch 8/25
176/176 - 9s - loss: 0.5462 - accuracy: 0.7953 - val_loss: 0.7395 - val_accuracy: 0.7294 - lr: 0.0010 - 9s/epoch - 50ms/step
Epoch 9/25
176/176 - 9s - loss: 0.5435 - accuracy: 0.7952 - val_loss: 0.6842 - val_accuracy: 0.7538 - lr: 0.0010 - 9s/epoch - 50ms/step
Epoch 10/25
176/176 - 9s - loss: 0.5425 - accuracy: 0.7952 - val_loss: 0.7167 - val_accuracy: 0.7380 - lr: 0.0010 - 9s/epoch - 50ms/step
Epoch 11/25
176/176 - 9s - loss: 0.5398 - accuracy: 0.7978 - val_loss: 0.7401 - val_accuracy: 0.7278 - lr: 0.0010 - 9s/epoch - 50ms/step
Epoch 12/25
176/176 - 9s - loss: 0.5362 - accuracy: 0.7980 - val_loss: 0.7287 - val_accuracy: 0.7368 - lr: 0.0010 - 9s/epoch - 50ms/step
Epoch 13/25
176/176 - 9s - loss: 0.5349 - accuracy: 0.7986 - val_loss: 0.7001 - val_accuracy: 0.7503 - lr: 0.0010 - 9s/epoch - 50ms/step
Epoch 14/25
176/176 - 9s - loss: 0.5323 - accuracy: 0.7996 - val_loss: 0.7082 - val_accuracy: 0.7455 - lr: 0.0010 - 9s/epoch - 50ms/step
Epoch 15/25
176/176 - 9s - loss: 0.5287 - accuracy: 0.8008 - val_loss: 0.7235 - val_accuracy: 0.7364 - lr: 0.0010 - 9s/epoch - 50ms/step
Epoch 16/25
176/176 - 9s - loss: 0.5275 - accuracy: 0.8022 - val_loss: 0.7140 - val_accuracy: 0.7420 - lr: 0.0010 - 9s/epoch - 50ms/step
Epoch 17/25
176/176 - 9s - loss: 0.5268 - accuracy: 0.8022 - val_loss: 0.7477 - val_accuracy: 0.7321 - lr: 0.0010 - 9s/epoch - 49ms/step
Epoch 18/25
176/176 - 9s - loss: 0.5228 - accuracy: 0.8036 - val_loss: 0.7555 - val_accuracy: 0.7298 - lr: 0.0010 - 9s/epoch - 50ms/step
Epoch 19/25
176/176 - 9s - loss: 0.5228 - accuracy: 0.8034 - val_loss: 0.7408 - val_accuracy: 0.7313 - lr: 0.0010 - 9s/epoch - 50ms/step
Epoch 20/25
176/176 - 9s - loss: 0.5201 - accuracy: 0.8055 - val_loss: 0.7457 - val_accuracy: 0.7334 - lr: 0.0010 - 9s/epoch - 50ms/step
Epoch 21/25
176/176 - 9s - loss: 0.5187 - accuracy: 0.8054 - val_loss: 0.7087 - val_accuracy: 0.7428 - lr: 0.0010 - 9s/epoch - 50ms/step
Epoch 22/25
176/176 - 9s - loss: 0.5167 - accuracy: 0.8065 - val_loss: 0.7248 - val_accuracy: 0.7432 - lr: 0.0010 - 9s/epoch - 49ms/step
Epoch 23/25
176/176 - 9s - loss: 0.5141 - accuracy: 0.8072 - val_loss: 0.7429 - val_accuracy: 0.7326 - lr: 0.0010 - 9s/epoch - 50ms/step
Epoch 24/25
176/176 - 9s - loss: 0.5148 - accuracy: 0.8090 - val_loss: 0.7296 - val_accuracy: 0.7344 - lr: 0.0010 - 9s/epoch - 50ms/step
Epoch 25/25
176/176 - 9s - loss: 0.5102 - accuracy: 0.8087 - val_loss: 0.7408 - val_accuracy: 0.7410 - lr: 0.0010 - 9s/epoch - 50ms/step
fitting with batch size: 1500
Epoch 1/25
59/59 - 11s - loss: 0.4963 - accuracy: 0.8162 - val_loss: 0.7433 - val_accuracy: 0.7270 - lr: 0.0010 - 11s/epoch - 191ms/step
Epoch 2/25
59/59 - 8s - loss: 0.4862 - accuracy: 0.8198 - val_loss: 0.7200 - val_accuracy: 0.7360 - lr: 0.0010 - 8s/epoch - 132ms/step
Epoch 3/25
59/59 - 8s - loss: 0.4834 - accuracy: 0.8211 - val_loss: 0.7573 - val_accuracy: 0.7266 - lr: 0.0010 - 8s/epoch - 132ms/step
Epoch 4/25
59/59 - 8s - loss: 0.4842 - accuracy: 0.8195 - val_loss: 0.7294 - val_accuracy: 0.7358 - lr: 0.0010 - 8s/epoch - 132ms/step
Epoch 5/25
59/59 - 8s - loss: 0.4831 - accuracy: 0.8212 - val_loss: 0.7343 - val_accuracy: 0.7324 - lr: 0.0010 - 8s/epoch - 132ms/step
Epoch 6/25
59/59 - 8s - loss: 0.4821 - accuracy: 0.8209 - val_loss: 0.7366 - val_accuracy: 0.7281 - lr: 0.0010 - 8s/epoch - 132ms/step
Epoch 7/25
59/59 - 8s - loss: 0.4808 - accuracy: 0.8214 - val_loss: 0.7386 - val_accuracy: 0.7295 - lr: 0.0010 - 8s/epoch - 132ms/step
Epoch 8/25
59/59 - 8s - loss: 0.4788 - accuracy: 0.8220 - val_loss: 0.7440 - val_accuracy: 0.7303 - lr: 0.0010 - 8s/epoch - 132ms/step
Epoch 9/25
59/59 - 8s - loss: 0.4767 - accuracy: 0.8245 - val_loss: 0.7464 - val_accuracy: 0.7331 - lr: 0.0010 - 8s/epoch - 132ms/step
Epoch 10/25
59/59 - 8s - loss: 0.4758 - accuracy: 0.8235 - val_loss: 0.7609 - val_accuracy: 0.7216 - lr: 0.0010 - 8s/epoch - 132ms/step
Epoch 11/25
59/59 - 8s - loss: 0.4730 - accuracy: 0.8251 - val_loss: 0.7360 - val_accuracy: 0.7288 - lr: 0.0010 - 8s/epoch - 132ms/step
Epoch 12/25
59/59 - 8s - loss: 0.4708 - accuracy: 0.8258 - val_loss: 0.6936 - val_accuracy: 0.7474 - lr: 0.0010 - 8s/epoch - 132ms/step
Epoch 13/25
59/59 - 8s - loss: 0.4704 - accuracy: 0.8253 - val_loss: 0.7496 - val_accuracy: 0.7275 - lr: 0.0010 - 8s/epoch - 132ms/step
Epoch 14/25
59/59 - 8s - loss: 0.4704 - accuracy: 0.8264 - val_loss: 0.7341 - val_accuracy: 0.7331 - lr: 0.0010 - 8s/epoch - 132ms/step
Epoch 15/25
59/59 - 8s - loss: 0.4698 - accuracy: 0.8264 - val_loss: 0.7253 - val_accuracy: 0.7310 - lr: 0.0010 - 8s/epoch - 132ms/step
Epoch 16/25
59/59 - 8s - loss: 0.4684 - accuracy: 0.8267 - val_loss: 0.7419 - val_accuracy: 0.7274 - lr: 0.0010 - 8s/epoch - 132ms/step
Epoch 17/25
59/59 - 8s - loss: 0.4662 - accuracy: 0.8278 - val_loss: 0.7368 - val_accuracy: 0.7310 - lr: 0.0010 - 8s/epoch - 132ms/step
Epoch 18/25
59/59 - 8s - loss: 0.4656 - accuracy: 0.8286 - val_loss: 0.6995 - val_accuracy: 0.7452 - lr: 0.0010 - 8s/epoch - 132ms/step
Epoch 19/25
59/59 - 8s - loss: 0.4631 - accuracy: 0.8292 - val_loss: 0.7643 - val_accuracy: 0.7214 - lr: 0.0010 - 8s/epoch - 132ms/step
Epoch 20/25
59/59 - 8s - loss: 0.4643 - accuracy: 0.8282 - val_loss: 0.7488 - val_accuracy: 0.7213 - lr: 0.0010 - 8s/epoch - 132ms/step
Epoch 21/25
59/59 - 8s - loss: 0.4612 - accuracy: 0.8298 - val_loss: 0.7619 - val_accuracy: 0.7213 - lr: 0.0010 - 8s/epoch - 132ms/step
Epoch 22/25
59/59 - 8s - loss: 0.4587 - accuracy: 0.8306 - val_loss: 0.7550 - val_accuracy: 0.7230 - lr: 0.0010 - 8s/epoch - 132ms/step
Epoch 23/25
59/59 - 8s - loss: 0.4589 - accuracy: 0.8306 - val_loss: 0.7298 - val_accuracy: 0.7291 - lr: 0.0010 - 8s/epoch - 132ms/step
Epoch 24/25
59/59 - 8s - loss: 0.4573 - accuracy: 0.8316 - val_loss: 0.7474 - val_accuracy: 0.7289 - lr: 0.0010 - 8s/epoch - 132ms/step
Epoch 25/25
59/59 - 8s - loss: 0.4540 - accuracy: 0.8325 - val_loss: 0.7424 - val_accuracy: 0.7212 - lr: 0.0010 - 8s/epoch - 132ms/step
fitting with batch size: 2500
Epoch 1/25
36/36 - 10s - loss: 0.4474 - accuracy: 0.8357 - val_loss: 0.7002 - val_accuracy: 0.7427 - lr: 0.0010 - 10s/epoch - 277ms/step
Epoch 2/25
36/36 - 8s - loss: 0.4526 - accuracy: 0.8336 - val_loss: 0.7547 - val_accuracy: 0.7247 - lr: 0.0010 - 8s/epoch - 215ms/step
Epoch 3/25
36/36 - 8s - loss: 0.4599 - accuracy: 0.8297 - val_loss: 0.7387 - val_accuracy: 0.7300 - lr: 0.0010 - 8s/epoch - 215ms/step
Epoch 4/25
36/36 - 8s - loss: 0.4539 - accuracy: 0.8326 - val_loss: 0.7550 - val_accuracy: 0.7211 - lr: 0.0010 - 8s/epoch - 217ms/step
Epoch 5/25
36/36 - 8s - loss: 0.4509 - accuracy: 0.8337 - val_loss: 0.7540 - val_accuracy: 0.7220 - lr: 0.0010 - 8s/epoch - 215ms/step
Epoch 6/25
36/36 - 8s - loss: 0.4524 - accuracy: 0.8337 - val_loss: 0.7553 - val_accuracy: 0.7241 - lr: 0.0010 - 8s/epoch - 215ms/step
Epoch 7/25
36/36 - 8s - loss: 0.4473 - accuracy: 0.8349 - val_loss: 0.7710 - val_accuracy: 0.7190 - lr: 0.0010 - 8s/epoch - 215ms/step
Epoch 8/25
36/36 - 8s - loss: 0.4474 - accuracy: 0.8362 - val_loss: 0.7450 - val_accuracy: 0.7280 - lr: 0.0010 - 8s/epoch - 215ms/step
Epoch 9/25
36/36 - 8s - loss: 0.4545 - accuracy: 0.8323 - val_loss: 0.7625 - val_accuracy: 0.7237 - lr: 0.0010 - 8s/epoch - 215ms/step
Epoch 10/25
36/36 - 8s - loss: 0.4530 - accuracy: 0.8331 - val_loss: 0.7325 - val_accuracy: 0.7344 - lr: 0.0010 - 8s/epoch - 215ms/step
Epoch 11/25
36/36 - 8s - loss: 0.4497 - accuracy: 0.8346 - val_loss: 0.7362 - val_accuracy: 0.7324 - lr: 0.0010 - 8s/epoch - 215ms/step
Epoch 12/25
36/36 - 8s - loss: 0.4470 - accuracy: 0.8357 - val_loss: 0.7809 - val_accuracy: 0.7177 - lr: 0.0010 - 8s/epoch - 215ms/step
Epoch 13/25
36/36 - 8s - loss: 0.4495 - accuracy: 0.8346 - val_loss: 0.7649 - val_accuracy: 0.7212 - lr: 0.0010 - 8s/epoch - 216ms/step
Epoch 14/25
36/36 - 8s - loss: 0.4513 - accuracy: 0.8340 - val_loss: 0.7605 - val_accuracy: 0.7244 - lr: 0.0010 - 8s/epoch - 215ms/step
Epoch 15/25
36/36 - 8s - loss: 0.4430 - accuracy: 0.8379 - val_loss: 0.7442 - val_accuracy: 0.7264 - lr: 0.0010 - 8s/epoch - 215ms/step
Epoch 16/25
36/36 - 8s - loss: 0.4406 - accuracy: 0.8381 - val_loss: 0.7733 - val_accuracy: 0.7148 - lr: 0.0010 - 8s/epoch - 215ms/step
Epoch 17/25
36/36 - 8s - loss: 0.4465 - accuracy: 0.8356 - val_loss: 0.7562 - val_accuracy: 0.7259 - lr: 0.0010 - 8s/epoch - 215ms/step
Epoch 18/25
36/36 - 8s - loss: 0.4376 - accuracy: 0.8396 - val_loss: 0.7654 - val_accuracy: 0.7186 - lr: 0.0010 - 8s/epoch - 215ms/step
Epoch 19/25
36/36 - 8s - loss: 0.4439 - accuracy: 0.8365 - val_loss: 0.7496 - val_accuracy: 0.7252 - lr: 0.0010 - 8s/epoch - 215ms/step
Epoch 20/25
36/36 - 8s - loss: 0.4413 - accuracy: 0.8379 - val_loss: 0.7488 - val_accuracy: 0.7262 - lr: 0.0010 - 8s/epoch - 215ms/step
Epoch 21/25
36/36 - 8s - loss: 0.4385 - accuracy: 0.8387 - val_loss: 0.7737 - val_accuracy: 0.7157 - lr: 0.0010 - 8s/epoch - 215ms/step
Epoch 22/25
36/36 - 8s - loss: 0.4432 - accuracy: 0.8368 - val_loss: 0.7609 - val_accuracy: 0.7191 - lr: 0.0010 - 8s/epoch - 215ms/step
Epoch 23/25
36/36 - 8s - loss: 0.4392 - accuracy: 0.8376 - val_loss: 0.7574 - val_accuracy: 0.7199 - lr: 0.0010 - 8s/epoch - 215ms/step
Epoch 24/25
36/36 - 8s - loss: 0.4424 - accuracy: 0.8383 - val_loss: 0.7394 - val_accuracy: 0.7234 - lr: 0.0010 - 8s/epoch - 215ms/step
Epoch 25/25
36/36 - 8s - loss: 0.4458 - accuracy: 0.8363 - val_loss: 0.7301 - val_accuracy: 0.7306 - lr: 0.0010 - 8s/epoch - 215ms/step
Epoch number: 50
fitting with batch size: 20
Epoch 1/50
4378/4378 - 73s - loss: 0.7213 - accuracy: 0.7293 - val_loss: 0.6900 - val_accuracy: 0.7574 - lr: 0.0010 - 73s/epoch - 17ms/step
Epoch 2/50
4378/4378 - 71s - loss: 0.7096 - accuracy: 0.7317 - val_loss: 0.7574 - val_accuracy: 0.7347 - lr: 0.0010 - 71s/epoch - 16ms/step
Epoch 3/50
4378/4378 - 71s - loss: 0.7099 - accuracy: 0.7339 - val_loss: 0.6978 - val_accuracy: 0.7645 - lr: 0.0010 - 71s/epoch - 16ms/step
Epoch 4/50
4378/4378 - 70s - loss: 0.7112 - accuracy: 0.7324 - val_loss: 0.7670 - val_accuracy: 0.7563 - lr: 0.0010 - 70s/epoch - 16ms/step
Epoch 5/50
4378/4378 - 70s - loss: 0.7082 - accuracy: 0.7346 - val_loss: 0.6502 - val_accuracy: 0.7874 - lr: 0.0010 - 70s/epoch - 16ms/step
Epoch 6/50
4378/4378 - 71s - loss: 0.7085 - accuracy: 0.7325 - val_loss: 0.6980 - val_accuracy: 0.7503 - lr: 0.0010 - 71s/epoch - 16ms/step
Epoch 7/50
4378/4378 - 70s - loss: 0.7081 - accuracy: 0.7356 - val_loss: 0.7494 - val_accuracy: 0.7280 - lr: 0.0010 - 70s/epoch - 16ms/step
Epoch 8/50
4378/4378 - 71s - loss: 0.7038 - accuracy: 0.7359 - val_loss: 0.7606 - val_accuracy: 0.7266 - lr: 0.0010 - 71s/epoch - 16ms/step
Epoch 9/50
4378/4378 - 71s - loss: 0.7114 - accuracy: 0.7326 - val_loss: 0.8060 - val_accuracy: 0.7333 - lr: 0.0010 - 71s/epoch - 16ms/step
Epoch 10/50
4378/4378 - 71s - loss: 0.7097 - accuracy: 0.7334 - val_loss: 0.7469 - val_accuracy: 0.7468 - lr: 0.0010 - 71s/epoch - 16ms/step
Epoch 11/50
4378/4378 - 71s - loss: 0.7077 - accuracy: 0.7347 - val_loss: 0.7413 - val_accuracy: 0.7410 - lr: 0.0010 - 71s/epoch - 16ms/step
Epoch 12/50
4378/4378 - 71s - loss: 0.7062 - accuracy: 0.7362 - val_loss: 0.8266 - val_accuracy: 0.7014 - lr: 0.0010 - 71s/epoch - 16ms/step
Epoch 13/50
4378/4378 - 71s - loss: 0.7072 - accuracy: 0.7359 - val_loss: 0.7222 - val_accuracy: 0.7695 - lr: 0.0010 - 71s/epoch - 16ms/step
Epoch 14/50
4378/4378 - 71s - loss: 0.7055 - accuracy: 0.7350 - val_loss: 0.6070 - val_accuracy: 0.8034 - lr: 0.0010 - 71s/epoch - 16ms/step
Epoch 15/50
4378/4378 - 71s - loss: 0.7077 - accuracy: 0.7352 - val_loss: 0.6902 - val_accuracy: 0.7815 - lr: 0.0010 - 71s/epoch - 16ms/step
Epoch 16/50
4378/4378 - 71s - loss: 0.7035 - accuracy: 0.7374 - val_loss: 0.8223 - val_accuracy: 0.7209 - lr: 0.0010 - 71s/epoch - 16ms/step
Epoch 17/50
4378/4378 - 70s - loss: 0.7082 - accuracy: 0.7343 - val_loss: 0.7943 - val_accuracy: 0.7264 - lr: 0.0010 - 70s/epoch - 16ms/step
Epoch 18/50
4378/4378 - 70s - loss: 0.7091 - accuracy: 0.7346 - val_loss: 0.7523 - val_accuracy: 0.7482 - lr: 0.0010 - 70s/epoch - 16ms/step
Epoch 19/50
4378/4378 - 71s - loss: 0.7070 - accuracy: 0.7361 - val_loss: 0.7400 - val_accuracy: 0.7628 - lr: 0.0010 - 71s/epoch - 16ms/step
Epoch 20/50
4378/4378 - 73s - loss: 0.7038 - accuracy: 0.7372 - val_loss: 0.7890 - val_accuracy: 0.7269 - lr: 0.0010 - 73s/epoch - 17ms/step
Epoch 21/50
4378/4378 - 70s - loss: 0.7071 - accuracy: 0.7355 - val_loss: 0.8620 - val_accuracy: 0.6925 - lr: 0.0010 - 70s/epoch - 16ms/step
Epoch 22/50
4378/4378 - 70s - loss: 0.7070 - accuracy: 0.7349 - val_loss: 0.6589 - val_accuracy: 0.7806 - lr: 0.0010 - 70s/epoch - 16ms/step
Epoch 23/50
4378/4378 - 71s - loss: 0.7042 - accuracy: 0.7368 - val_loss: 0.7523 - val_accuracy: 0.7387 - lr: 0.0010 - 71s/epoch - 16ms/step
Epoch 24/50
4378/4378 - 71s - loss: 0.7030 - accuracy: 0.7366 - val_loss: 0.7562 - val_accuracy: 0.7376 - lr: 0.0010 - 71s/epoch - 16ms/step
Epoch 25/50
4378/4378 - 71s - loss: 0.7019 - accuracy: 0.7364 - val_loss: 0.7611 - val_accuracy: 0.7322 - lr: 0.0010 - 71s/epoch - 16ms/step
Epoch 26/50
4378/4378 - 71s - loss: 0.7073 - accuracy: 0.7354 - val_loss: 0.7076 - val_accuracy: 0.7421 - lr: 0.0010 - 71s/epoch - 16ms/step
Epoch 27/50
4378/4378 - 71s - loss: 0.7059 - accuracy: 0.7370 - val_loss: 0.7138 - val_accuracy: 0.7606 - lr: 0.0010 - 71s/epoch - 16ms/step
Epoch 28/50
4378/4378 - 71s - loss: 0.7062 - accuracy: 0.7349 - val_loss: 0.6610 - val_accuracy: 0.7718 - lr: 0.0010 - 71s/epoch - 16ms/step
Epoch 29/50
4378/4378 - 70s - loss: 0.7042 - accuracy: 0.7360 - val_loss: 0.6778 - val_accuracy: 0.7425 - lr: 0.0010 - 70s/epoch - 16ms/step
Epoch 30/50
4378/4378 - 70s - loss: 0.7052 - accuracy: 0.7351 - val_loss: 0.7518 - val_accuracy: 0.7371 - lr: 0.0010 - 70s/epoch - 16ms/step
Epoch 31/50
4378/4378 - 71s - loss: 0.7025 - accuracy: 0.7374 - val_loss: 0.7349 - val_accuracy: 0.7508 - lr: 0.0010 - 71s/epoch - 16ms/step
Epoch 32/50
4378/4378 - 70s - loss: 0.6994 - accuracy: 0.7385 - val_loss: 0.7411 - val_accuracy: 0.7785 - lr: 0.0010 - 70s/epoch - 16ms/step
Epoch 33/50
4378/4378 - 71s - loss: 0.7111 - accuracy: 0.7384 - val_loss: 0.7896 - val_accuracy: 0.7286 - lr: 0.0010 - 71s/epoch - 16ms/step
Epoch 34/50
4378/4378 - 71s - loss: 0.6998 - accuracy: 0.7377 - val_loss: 0.7127 - val_accuracy: 0.7362 - lr: 0.0010 - 71s/epoch - 16ms/step
Epoch 35/50
4378/4378 - 71s - loss: 0.7030 - accuracy: 0.7371 - val_loss: 0.7774 - val_accuracy: 0.7150 - lr: 0.0010 - 71s/epoch - 16ms/step
Epoch 36/50
4378/4378 - 71s - loss: 0.7045 - accuracy: 0.7360 - val_loss: 0.7215 - val_accuracy: 0.7539 - lr: 0.0010 - 71s/epoch - 16ms/step
Epoch 37/50
4378/4378 - 70s - loss: 0.7035 - accuracy: 0.7363 - val_loss: 0.7709 - val_accuracy: 0.7194 - lr: 0.0010 - 70s/epoch - 16ms/step
Epoch 38/50
4378/4378 - 71s - loss: 0.7032 - accuracy: 0.7358 - val_loss: 0.7081 - val_accuracy: 0.7575 - lr: 0.0010 - 71s/epoch - 16ms/step
Epoch 39/50
4378/4378 - 71s - loss: 0.7029 - accuracy: 0.7367 - val_loss: 0.7487 - val_accuracy: 0.7298 - lr: 0.0010 - 71s/epoch - 16ms/step
Epoch 40/50
4378/4378 - 71s - loss: 0.7137 - accuracy: 0.7352 - val_loss: 0.7462 - val_accuracy: 0.7658 - lr: 0.0010 - 71s/epoch - 16ms/step
Epoch 41/50
4378/4378 - 71s - loss: 0.7003 - accuracy: 0.7378 - val_loss: 0.7960 - val_accuracy: 0.7304 - lr: 0.0010 - 71s/epoch - 16ms/step
Epoch 42/50
4378/4378 - 71s - loss: 0.7029 - accuracy: 0.7370 - val_loss: 0.7689 - val_accuracy: 0.7250 - lr: 0.0010 - 71s/epoch - 16ms/step
Epoch 43/50
4378/4378 - 70s - loss: 0.7029 - accuracy: 0.7372 - val_loss: 0.8349 - val_accuracy: 0.7002 - lr: 0.0010 - 70s/epoch - 16ms/step
Epoch 44/50
4378/4378 - 70s - loss: 0.7046 - accuracy: 0.7357 - val_loss: 0.8178 - val_accuracy: 0.7033 - lr: 0.0010 - 70s/epoch - 16ms/step
Epoch 45/50
4378/4378 - 71s - loss: 0.7013 - accuracy: 0.7385 - val_loss: 0.7219 - val_accuracy: 0.7765 - lr: 0.0010 - 71s/epoch - 16ms/step
Epoch 46/50
4378/4378 - 71s - loss: 0.7071 - accuracy: 0.7346 - val_loss: 0.7685 - val_accuracy: 0.7436 - lr: 0.0010 - 71s/epoch - 16ms/step
Epoch 47/50
4378/4378 - 71s - loss: 0.7058 - accuracy: 0.7368 - val_loss: 0.7392 - val_accuracy: 0.7414 - lr: 0.0010 - 71s/epoch - 16ms/step
Epoch 48/50
4378/4378 - 72s - loss: 0.7041 - accuracy: 0.7367 - val_loss: 0.7386 - val_accuracy: 0.7549 - lr: 0.0010 - 72s/epoch - 16ms/step
Epoch 49/50
4378/4378 - 72s - loss: 0.7024 - accuracy: 0.7360 - val_loss: 0.7420 - val_accuracy: 0.7617 - lr: 0.0010 - 72s/epoch - 16ms/step
Epoch 50/50
4378/4378 - 72s - loss: 0.7029 - accuracy: 0.7383 - val_loss: 0.7763 - val_accuracy: 0.7250 - lr: 0.0010 - 72s/epoch - 16ms/step
fitting with batch size: 100
Epoch 1/50
876/876 - 20s - loss: 0.6488 - accuracy: 0.7560 - val_loss: 0.6946 - val_accuracy: 0.7585 - lr: 0.0010 - 20s/epoch - 23ms/step
Epoch 2/50
876/876 - 17s - loss: 0.6367 - accuracy: 0.7608 - val_loss: 0.7699 - val_accuracy: 0.7280 - lr: 0.0010 - 17s/epoch - 20ms/step
Epoch 3/50
876/876 - 17s - loss: 0.6308 - accuracy: 0.7619 - val_loss: 0.6937 - val_accuracy: 0.7536 - lr: 0.0010 - 17s/epoch - 20ms/step
Epoch 4/50
876/876 - 17s - loss: 0.6278 - accuracy: 0.7630 - val_loss: 0.7708 - val_accuracy: 0.7259 - lr: 0.0010 - 17s/epoch - 20ms/step
Epoch 5/50
876/876 - 17s - loss: 0.6218 - accuracy: 0.7642 - val_loss: 0.7133 - val_accuracy: 0.7341 - lr: 0.0010 - 17s/epoch - 20ms/step
Epoch 6/50
876/876 - 17s - loss: 0.6173 - accuracy: 0.7666 - val_loss: 0.7489 - val_accuracy: 0.7372 - lr: 0.0010 - 17s/epoch - 20ms/step
Epoch 7/50
876/876 - 17s - loss: 0.6158 - accuracy: 0.7673 - val_loss: 0.7761 - val_accuracy: 0.7282 - lr: 0.0010 - 17s/epoch - 20ms/step
Epoch 8/50
876/876 - 17s - loss: 0.6125 - accuracy: 0.7690 - val_loss: 0.7287 - val_accuracy: 0.7311 - lr: 0.0010 - 17s/epoch - 20ms/step
Epoch 9/50
876/876 - 17s - loss: 0.6097 - accuracy: 0.7702 - val_loss: 0.7208 - val_accuracy: 0.7331 - lr: 0.0010 - 17s/epoch - 20ms/step
Epoch 10/50
876/876 - 17s - loss: 0.6068 - accuracy: 0.7703 - val_loss: 0.7495 - val_accuracy: 0.7262 - lr: 0.0010 - 17s/epoch - 20ms/step
Epoch 11/50
876/876 - 17s - loss: 0.6026 - accuracy: 0.7726 - val_loss: 0.7653 - val_accuracy: 0.7301 - lr: 0.0010 - 17s/epoch - 20ms/step
Epoch 12/50
876/876 - 17s - loss: 0.6023 - accuracy: 0.7733 - val_loss: 0.7993 - val_accuracy: 0.7170 - lr: 0.0010 - 17s/epoch - 20ms/step
Epoch 13/50
876/876 - 17s - loss: 0.5985 - accuracy: 0.7743 - val_loss: 0.7451 - val_accuracy: 0.7461 - lr: 0.0010 - 17s/epoch - 20ms/step
Epoch 14/50
876/876 - 17s - loss: 0.5997 - accuracy: 0.7738 - val_loss: 0.7419 - val_accuracy: 0.7315 - lr: 0.0010 - 17s/epoch - 20ms/step
Epoch 15/50
876/876 - 17s - loss: 0.5955 - accuracy: 0.7743 - val_loss: 0.7891 - val_accuracy: 0.7179 - lr: 0.0010 - 17s/epoch - 20ms/step
Epoch 16/50
876/876 - 17s - loss: 0.5957 - accuracy: 0.7765 - val_loss: 0.7752 - val_accuracy: 0.7159 - lr: 0.0010 - 17s/epoch - 20ms/step
Epoch 17/50
876/876 - 17s - loss: 0.5931 - accuracy: 0.7769 - val_loss: 0.7555 - val_accuracy: 0.7451 - lr: 0.0010 - 17s/epoch - 20ms/step
Epoch 18/50
876/876 - 17s - loss: 0.5910 - accuracy: 0.7774 - val_loss: 0.7292 - val_accuracy: 0.7423 - lr: 0.0010 - 17s/epoch - 20ms/step
Epoch 19/50
876/876 - 17s - loss: 0.5900 - accuracy: 0.7779 - val_loss: 0.7464 - val_accuracy: 0.7339 - lr: 0.0010 - 17s/epoch - 20ms/step
Epoch 20/50
876/876 - 17s - loss: 0.5887 - accuracy: 0.7792 - val_loss: 0.7338 - val_accuracy: 0.7325 - lr: 0.0010 - 17s/epoch - 20ms/step
Epoch 21/50
876/876 - 17s - loss: 0.5866 - accuracy: 0.7790 - val_loss: 0.7005 - val_accuracy: 0.7630 - lr: 0.0010 - 17s/epoch - 20ms/step
Epoch 22/50
876/876 - 17s - loss: 0.5847 - accuracy: 0.7806 - val_loss: 0.7376 - val_accuracy: 0.7391 - lr: 0.0010 - 17s/epoch - 20ms/step
Epoch 23/50
876/876 - 17s - loss: 0.5837 - accuracy: 0.7819 - val_loss: 0.7600 - val_accuracy: 0.7313 - lr: 0.0010 - 17s/epoch - 20ms/step
Epoch 24/50
876/876 - 17s - loss: 0.5803 - accuracy: 0.7816 - val_loss: 0.7211 - val_accuracy: 0.7436 - lr: 0.0010 - 17s/epoch - 20ms/step
Epoch 25/50
876/876 - 17s - loss: 0.5774 - accuracy: 0.7829 - val_loss: 0.6870 - val_accuracy: 0.7631 - lr: 0.0010 - 17s/epoch - 20ms/step
Epoch 26/50
876/876 - 17s - loss: 0.5768 - accuracy: 0.7831 - val_loss: 0.7220 - val_accuracy: 0.7477 - lr: 0.0010 - 17s/epoch - 20ms/step
Epoch 27/50
876/876 - 17s - loss: 0.5751 - accuracy: 0.7844 - val_loss: 0.7201 - val_accuracy: 0.7391 - lr: 0.0010 - 17s/epoch - 20ms/step
Epoch 28/50
876/876 - 18s - loss: 0.5743 - accuracy: 0.7827 - val_loss: 0.8083 - val_accuracy: 0.7028 - lr: 0.0010 - 18s/epoch - 20ms/step
Epoch 29/50
876/876 - 18s - loss: 0.5723 - accuracy: 0.7848 - val_loss: 0.7460 - val_accuracy: 0.7375 - lr: 0.0010 - 18s/epoch - 20ms/step
Epoch 30/50
876/876 - 18s - loss: 0.5716 - accuracy: 0.7843 - val_loss: 0.7773 - val_accuracy: 0.7173 - lr: 0.0010 - 18s/epoch - 20ms/step
Epoch 31/50
876/876 - 17s - loss: 0.5736 - accuracy: 0.7842 - val_loss: 0.7398 - val_accuracy: 0.7363 - lr: 0.0010 - 17s/epoch - 20ms/step
Epoch 32/50
876/876 - 17s - loss: 0.5700 - accuracy: 0.7845 - val_loss: 0.6933 - val_accuracy: 0.7631 - lr: 0.0010 - 17s/epoch - 20ms/step
Epoch 33/50
876/876 - 17s - loss: 0.5748 - accuracy: 0.7860 - val_loss: 0.7669 - val_accuracy: 0.7237 - lr: 0.0010 - 17s/epoch - 20ms/step
Epoch 34/50
876/876 - 17s - loss: 0.5667 - accuracy: 0.7867 - val_loss: 0.7530 - val_accuracy: 0.7246 - lr: 0.0010 - 17s/epoch - 20ms/step
Epoch 35/50
876/876 - 17s - loss: 0.5689 - accuracy: 0.7863 - val_loss: 0.7576 - val_accuracy: 0.7318 - lr: 0.0010 - 17s/epoch - 20ms/step
Epoch 36/50
876/876 - 17s - loss: 0.5655 - accuracy: 0.7880 - val_loss: 0.7821 - val_accuracy: 0.7201 - lr: 0.0010 - 17s/epoch - 20ms/step
Epoch 37/50
876/876 - 17s - loss: 0.5639 - accuracy: 0.7877 - val_loss: 0.7598 - val_accuracy: 0.7154 - lr: 0.0010 - 17s/epoch - 20ms/step
Epoch 38/50
876/876 - 17s - loss: 0.5668 - accuracy: 0.7862 - val_loss: 0.7683 - val_accuracy: 0.7243 - lr: 0.0010 - 17s/epoch - 20ms/step
Epoch 39/50
876/876 - 17s - loss: 0.5612 - accuracy: 0.7886 - val_loss: 0.7670 - val_accuracy: 0.7246 - lr: 0.0010 - 17s/epoch - 20ms/step
Epoch 40/50
876/876 - 17s - loss: 0.5624 - accuracy: 0.7892 - val_loss: 0.7221 - val_accuracy: 0.7358 - lr: 0.0010 - 17s/epoch - 20ms/step
Epoch 41/50
876/876 - 17s - loss: 0.5604 - accuracy: 0.7893 - val_loss: 0.8030 - val_accuracy: 0.7050 - lr: 0.0010 - 17s/epoch - 20ms/step
Epoch 42/50
876/876 - 17s - loss: 0.5597 - accuracy: 0.7891 - val_loss: 0.7846 - val_accuracy: 0.7216 - lr: 0.0010 - 17s/epoch - 20ms/step
Epoch 43/50
876/876 - 17s - loss: 0.5593 - accuracy: 0.7893 - val_loss: 0.7227 - val_accuracy: 0.7464 - lr: 0.0010 - 17s/epoch - 20ms/step
Epoch 44/50
876/876 - 17s - loss: 0.5565 - accuracy: 0.7894 - val_loss: 0.7519 - val_accuracy: 0.7331 - lr: 0.0010 - 17s/epoch - 20ms/step
Epoch 45/50
876/876 - 17s - loss: 0.5554 - accuracy: 0.7914 - val_loss: 0.7506 - val_accuracy: 0.7278 - lr: 0.0010 - 17s/epoch - 20ms/step
Epoch 46/50
876/876 - 17s - loss: 0.5550 - accuracy: 0.7913 - val_loss: 0.7191 - val_accuracy: 0.7490 - lr: 0.0010 - 17s/epoch - 20ms/step
Epoch 47/50
876/876 - 17s - loss: 0.5524 - accuracy: 0.7920 - val_loss: 0.7400 - val_accuracy: 0.7352 - lr: 0.0010 - 17s/epoch - 20ms/step
Epoch 48/50
876/876 - 17s - loss: 0.5528 - accuracy: 0.7923 - val_loss: 0.7690 - val_accuracy: 0.7233 - lr: 0.0010 - 17s/epoch - 20ms/step
Epoch 49/50
876/876 - 17s - loss: 0.5527 - accuracy: 0.7926 - val_loss: 0.7193 - val_accuracy: 0.7481 - lr: 0.0010 - 17s/epoch - 20ms/step
Epoch 50/50
876/876 - 17s - loss: 0.5498 - accuracy: 0.7941 - val_loss: 0.7373 - val_accuracy: 0.7379 - lr: 0.0010 - 17s/epoch - 20ms/step
fitting with batch size: 500
Epoch 1/50
176/176 - 11s - loss: 0.5120 - accuracy: 0.8078 - val_loss: 0.7559 - val_accuracy: 0.7244 - lr: 0.0010 - 11s/epoch - 62ms/step
Epoch 2/50
176/176 - 9s - loss: 0.5030 - accuracy: 0.8125 - val_loss: 0.7339 - val_accuracy: 0.7403 - lr: 0.0010 - 9s/epoch - 49ms/step
Epoch 3/50
176/176 - 9s - loss: 0.5028 - accuracy: 0.8121 - val_loss: 0.7515 - val_accuracy: 0.7328 - lr: 0.0010 - 9s/epoch - 49ms/step
Epoch 4/50
176/176 - 9s - loss: 0.4984 - accuracy: 0.8125 - val_loss: 0.7181 - val_accuracy: 0.7479 - lr: 0.0010 - 9s/epoch - 50ms/step
Epoch 5/50
176/176 - 9s - loss: 0.4976 - accuracy: 0.8133 - val_loss: 0.7097 - val_accuracy: 0.7416 - lr: 0.0010 - 9s/epoch - 49ms/step
Epoch 6/50
176/176 - 9s - loss: 0.4961 - accuracy: 0.8142 - val_loss: 0.6990 - val_accuracy: 0.7542 - lr: 0.0010 - 9s/epoch - 50ms/step
Epoch 7/50
176/176 - 9s - loss: 0.4965 - accuracy: 0.8145 - val_loss: 0.7503 - val_accuracy: 0.7292 - lr: 0.0010 - 9s/epoch - 50ms/step
Epoch 8/50
176/176 - 9s - loss: 0.4912 - accuracy: 0.8160 - val_loss: 0.6830 - val_accuracy: 0.7560 - lr: 0.0010 - 9s/epoch - 50ms/step
Epoch 9/50
176/176 - 9s - loss: 0.4891 - accuracy: 0.8159 - val_loss: 0.7511 - val_accuracy: 0.7284 - lr: 0.0010 - 9s/epoch - 50ms/step
Epoch 10/50
176/176 - 9s - loss: 0.4877 - accuracy: 0.8173 - val_loss: 0.7338 - val_accuracy: 0.7392 - lr: 0.0010 - 9s/epoch - 50ms/step
Epoch 11/50
176/176 - 9s - loss: 0.4879 - accuracy: 0.8177 - val_loss: 0.7531 - val_accuracy: 0.7335 - lr: 0.0010 - 9s/epoch - 50ms/step
Epoch 12/50
176/176 - 9s - loss: 0.4869 - accuracy: 0.8180 - val_loss: 0.7320 - val_accuracy: 0.7381 - lr: 0.0010 - 9s/epoch - 50ms/step
Epoch 13/50
176/176 - 9s - loss: 0.4864 - accuracy: 0.8177 - val_loss: 0.7410 - val_accuracy: 0.7304 - lr: 0.0010 - 9s/epoch - 49ms/step
Epoch 14/50
176/176 - 9s - loss: 0.4836 - accuracy: 0.8192 - val_loss: 0.7581 - val_accuracy: 0.7290 - lr: 0.0010 - 9s/epoch - 52ms/step
Epoch 15/50
176/176 - 9s - loss: 0.4833 - accuracy: 0.8187 - val_loss: 0.7041 - val_accuracy: 0.7512 - lr: 0.0010 - 9s/epoch - 50ms/step
Epoch 16/50
176/176 - 9s - loss: 0.4818 - accuracy: 0.8198 - val_loss: 0.7331 - val_accuracy: 0.7359 - lr: 0.0010 - 9s/epoch - 50ms/step
Epoch 17/50
176/176 - 9s - loss: 0.4797 - accuracy: 0.8193 - val_loss: 0.7464 - val_accuracy: 0.7355 - lr: 0.0010 - 9s/epoch - 49ms/step
Epoch 18/50
176/176 - 9s - loss: 0.4779 - accuracy: 0.8218 - val_loss: 0.7464 - val_accuracy: 0.7237 - lr: 0.0010 - 9s/epoch - 49ms/step
Epoch 19/50
176/176 - 9s - loss: 0.4754 - accuracy: 0.8234 - val_loss: 0.7293 - val_accuracy: 0.7446 - lr: 0.0010 - 9s/epoch - 49ms/step
Epoch 20/50
176/176 - 9s - loss: 0.4750 - accuracy: 0.8223 - val_loss: 0.7314 - val_accuracy: 0.7407 - lr: 0.0010 - 9s/epoch - 49ms/step
Epoch 21/50
176/176 - 9s - loss: 0.4752 - accuracy: 0.8221 - val_loss: 0.7469 - val_accuracy: 0.7362 - lr: 0.0010 - 9s/epoch - 50ms/step
Epoch 22/50
176/176 - 9s - loss: 0.4747 - accuracy: 0.8220 - val_loss: 0.7347 - val_accuracy: 0.7320 - lr: 0.0010 - 9s/epoch - 49ms/step
Epoch 23/50
176/176 - 9s - loss: 0.4743 - accuracy: 0.8223 - val_loss: 0.7320 - val_accuracy: 0.7330 - lr: 0.0010 - 9s/epoch - 49ms/step
Epoch 24/50
176/176 - 9s - loss: 0.4719 - accuracy: 0.8237 - val_loss: 0.7924 - val_accuracy: 0.7081 - lr: 0.0010 - 9s/epoch - 49ms/step
Epoch 25/50
176/176 - 9s - loss: 0.4728 - accuracy: 0.8234 - val_loss: 0.7721 - val_accuracy: 0.7173 - lr: 0.0010 - 9s/epoch - 50ms/step
Epoch 26/50
176/176 - 9s - loss: 0.4699 - accuracy: 0.8241 - val_loss: 0.7306 - val_accuracy: 0.7396 - lr: 0.0010 - 9s/epoch - 49ms/step
Epoch 27/50
176/176 - 9s - loss: 0.4659 - accuracy: 0.8260 - val_loss: 0.7512 - val_accuracy: 0.7326 - lr: 0.0010 - 9s/epoch - 49ms/step
Epoch 28/50
176/176 - 9s - loss: 0.4701 - accuracy: 0.8243 - val_loss: 0.7526 - val_accuracy: 0.7283 - lr: 0.0010 - 9s/epoch - 49ms/step
Epoch 29/50
176/176 - 9s - loss: 0.4655 - accuracy: 0.8257 - val_loss: 0.7482 - val_accuracy: 0.7306 - lr: 0.0010 - 9s/epoch - 50ms/step
Epoch 30/50
176/176 - 9s - loss: 0.4666 - accuracy: 0.8256 - val_loss: 0.7193 - val_accuracy: 0.7373 - lr: 0.0010 - 9s/epoch - 50ms/step
Epoch 31/50
176/176 - 9s - loss: 0.4667 - accuracy: 0.8249 - val_loss: 0.7616 - val_accuracy: 0.7174 - lr: 0.0010 - 9s/epoch - 50ms/step
Epoch 32/50
176/176 - 9s - loss: 0.4660 - accuracy: 0.8255 - val_loss: 0.7411 - val_accuracy: 0.7337 - lr: 0.0010 - 9s/epoch - 50ms/step
Epoch 33/50
176/176 - 9s - loss: 0.4654 - accuracy: 0.8262 - val_loss: 0.7508 - val_accuracy: 0.7260 - lr: 0.0010 - 9s/epoch - 50ms/step
Epoch 34/50
176/176 - 9s - loss: 0.4643 - accuracy: 0.8265 - val_loss: 0.7467 - val_accuracy: 0.7344 - lr: 0.0010 - 9s/epoch - 50ms/step
Epoch 35/50
176/176 - 9s - loss: 0.4612 - accuracy: 0.8278 - val_loss: 0.7433 - val_accuracy: 0.7298 - lr: 0.0010 - 9s/epoch - 50ms/step
Epoch 36/50
176/176 - 9s - loss: 0.4630 - accuracy: 0.8276 - val_loss: 0.7098 - val_accuracy: 0.7436 - lr: 0.0010 - 9s/epoch - 50ms/step
Epoch 37/50
176/176 - 9s - loss: 0.4615 - accuracy: 0.8271 - val_loss: 0.7694 - val_accuracy: 0.7209 - lr: 0.0010 - 9s/epoch - 50ms/step
Epoch 38/50
176/176 - 9s - loss: 0.4579 - accuracy: 0.8289 - val_loss: 0.7681 - val_accuracy: 0.7202 - lr: 0.0010 - 9s/epoch - 51ms/step
Epoch 39/50
176/176 - 9s - loss: 0.4602 - accuracy: 0.8270 - val_loss: 0.7569 - val_accuracy: 0.7278 - lr: 0.0010 - 9s/epoch - 50ms/step
Epoch 40/50
176/176 - 9s - loss: 0.4591 - accuracy: 0.8290 - val_loss: 0.7882 - val_accuracy: 0.7134 - lr: 0.0010 - 9s/epoch - 50ms/step
Epoch 41/50
176/176 - 9s - loss: 0.4574 - accuracy: 0.8296 - val_loss: 0.6977 - val_accuracy: 0.7505 - lr: 0.0010 - 9s/epoch - 50ms/step
Epoch 42/50
176/176 - 9s - loss: 0.4598 - accuracy: 0.8276 - val_loss: 0.7393 - val_accuracy: 0.7328 - lr: 0.0010 - 9s/epoch - 50ms/step
Epoch 43/50
176/176 - 9s - loss: 0.4566 - accuracy: 0.8296 - val_loss: 0.7284 - val_accuracy: 0.7352 - lr: 0.0010 - 9s/epoch - 50ms/step
Epoch 44/50
176/176 - 9s - loss: 0.4546 - accuracy: 0.8306 - val_loss: 0.7746 - val_accuracy: 0.7141 - lr: 0.0010 - 9s/epoch - 50ms/step
Epoch 45/50
176/176 - 9s - loss: 0.4539 - accuracy: 0.8304 - val_loss: 0.7524 - val_accuracy: 0.7275 - lr: 0.0010 - 9s/epoch - 50ms/step
Epoch 46/50
176/176 - 9s - loss: 0.4532 - accuracy: 0.8302 - val_loss: 0.7626 - val_accuracy: 0.7182 - lr: 0.0010 - 9s/epoch - 50ms/step
Epoch 47/50
176/176 - 9s - loss: 0.4541 - accuracy: 0.8297 - val_loss: 0.7393 - val_accuracy: 0.7355 - lr: 0.0010 - 9s/epoch - 50ms/step
Epoch 48/50
176/176 - 9s - loss: 0.4531 - accuracy: 0.8324 - val_loss: 0.7300 - val_accuracy: 0.7331 - lr: 0.0010 - 9s/epoch - 50ms/step
Epoch 49/50
176/176 - 9s - loss: 0.4522 - accuracy: 0.8315 - val_loss: 0.7697 - val_accuracy: 0.7183 - lr: 0.0010 - 9s/epoch - 50ms/step
Epoch 50/50
176/176 - 9s - loss: 0.4543 - accuracy: 0.8295 - val_loss: 0.7751 - val_accuracy: 0.7174 - lr: 0.0010 - 9s/epoch - 50ms/step
fitting with batch size: 1500
Epoch 1/50
59/59 - 10s - loss: 0.4329 - accuracy: 0.8395 - val_loss: 0.7804 - val_accuracy: 0.7148 - lr: 0.0010 - 10s/epoch - 170ms/step
Epoch 2/50
59/59 - 8s - loss: 0.4252 - accuracy: 0.8424 - val_loss: 0.7482 - val_accuracy: 0.7268 - lr: 0.0010 - 8s/epoch - 132ms/step
Epoch 3/50
59/59 - 8s - loss: 0.4248 - accuracy: 0.8427 - val_loss: 0.7579 - val_accuracy: 0.7209 - lr: 0.0010 - 8s/epoch - 131ms/step
Epoch 4/50
59/59 - 8s - loss: 0.4236 - accuracy: 0.8430 - val_loss: 0.8004 - val_accuracy: 0.7015 - lr: 0.0010 - 8s/epoch - 132ms/step
Epoch 5/50
59/59 - 8s - loss: 0.4251 - accuracy: 0.8429 - val_loss: 0.7399 - val_accuracy: 0.7278 - lr: 0.0010 - 8s/epoch - 132ms/step
Epoch 6/50
59/59 - 8s - loss: 0.4223 - accuracy: 0.8437 - val_loss: 0.7661 - val_accuracy: 0.7209 - lr: 0.0010 - 8s/epoch - 132ms/step
Epoch 7/50
59/59 - 8s - loss: 0.4229 - accuracy: 0.8428 - val_loss: 0.7903 - val_accuracy: 0.7137 - lr: 0.0010 - 8s/epoch - 132ms/step
Epoch 8/50
59/59 - 8s - loss: 0.4220 - accuracy: 0.8437 - val_loss: 0.7903 - val_accuracy: 0.7131 - lr: 0.0010 - 8s/epoch - 132ms/step
Epoch 9/50
59/59 - 8s - loss: 0.4209 - accuracy: 0.8446 - val_loss: 0.7671 - val_accuracy: 0.7179 - lr: 0.0010 - 8s/epoch - 132ms/step
Epoch 10/50
59/59 - 8s - loss: 0.4214 - accuracy: 0.8457 - val_loss: 0.8067 - val_accuracy: 0.7019 - lr: 0.0010 - 8s/epoch - 132ms/step
Epoch 11/50
59/59 - 8s - loss: 0.4228 - accuracy: 0.8434 - val_loss: 0.7948 - val_accuracy: 0.7046 - lr: 0.0010 - 8s/epoch - 132ms/step
Epoch 12/50
59/59 - 8s - loss: 0.4206 - accuracy: 0.8445 - val_loss: 0.7648 - val_accuracy: 0.7187 - lr: 0.0010 - 8s/epoch - 132ms/step
Epoch 13/50
59/59 - 8s - loss: 0.4203 - accuracy: 0.8448 - val_loss: 0.7426 - val_accuracy: 0.7269 - lr: 0.0010 - 8s/epoch - 132ms/step
Epoch 14/50
59/59 - 8s - loss: 0.4193 - accuracy: 0.8445 - val_loss: 0.7423 - val_accuracy: 0.7278 - lr: 0.0010 - 8s/epoch - 132ms/step
Epoch 15/50
59/59 - 8s - loss: 0.4204 - accuracy: 0.8434 - val_loss: 0.7915 - val_accuracy: 0.7051 - lr: 0.0010 - 8s/epoch - 131ms/step
Epoch 16/50
59/59 - 8s - loss: 0.4162 - accuracy: 0.8464 - val_loss: 0.7595 - val_accuracy: 0.7212 - lr: 0.0010 - 8s/epoch - 131ms/step
Epoch 17/50
59/59 - 8s - loss: 0.4184 - accuracy: 0.8445 - val_loss: 0.7801 - val_accuracy: 0.7173 - lr: 0.0010 - 8s/epoch - 133ms/step
Epoch 18/50
59/59 - 8s - loss: 0.4146 - accuracy: 0.8465 - val_loss: 0.8020 - val_accuracy: 0.7007 - lr: 0.0010 - 8s/epoch - 134ms/step
Epoch 19/50
59/59 - 8s - loss: 0.4153 - accuracy: 0.8462 - val_loss: 0.7613 - val_accuracy: 0.7205 - lr: 0.0010 - 8s/epoch - 133ms/step
Epoch 20/50
59/59 - 8s - loss: 0.4145 - accuracy: 0.8467 - val_loss: 0.7548 - val_accuracy: 0.7257 - lr: 0.0010 - 8s/epoch - 133ms/step
Epoch 21/50
59/59 - 8s - loss: 0.4156 - accuracy: 0.8464 - val_loss: 0.7774 - val_accuracy: 0.7138 - lr: 0.0010 - 8s/epoch - 132ms/step
Epoch 22/50
59/59 - 8s - loss: 0.4128 - accuracy: 0.8481 - val_loss: 0.7912 - val_accuracy: 0.7075 - lr: 0.0010 - 8s/epoch - 132ms/step
Epoch 23/50
59/59 - 8s - loss: 0.4171 - accuracy: 0.8451 - val_loss: 0.7985 - val_accuracy: 0.7069 - lr: 0.0010 - 8s/epoch - 132ms/step
Epoch 24/50
59/59 - 8s - loss: 0.4163 - accuracy: 0.8461 - val_loss: 0.7700 - val_accuracy: 0.7241 - lr: 0.0010 - 8s/epoch - 132ms/step
Epoch 25/50
59/59 - 8s - loss: 0.4159 - accuracy: 0.8466 - val_loss: 0.8289 - val_accuracy: 0.6907 - lr: 0.0010 - 8s/epoch - 131ms/step
Epoch 26/50
59/59 - 8s - loss: 0.4111 - accuracy: 0.8479 - val_loss: 0.8143 - val_accuracy: 0.7018 - lr: 0.0010 - 8s/epoch - 132ms/step
Epoch 27/50
59/59 - 8s - loss: 0.4087 - accuracy: 0.8492 - val_loss: 0.7932 - val_accuracy: 0.7121 - lr: 0.0010 - 8s/epoch - 132ms/step
Epoch 28/50
59/59 - 8s - loss: 0.4123 - accuracy: 0.8473 - val_loss: 0.8188 - val_accuracy: 0.6972 - lr: 0.0010 - 8s/epoch - 132ms/step
Epoch 29/50
59/59 - 8s - loss: 0.4089 - accuracy: 0.8489 - val_loss: 0.7630 - val_accuracy: 0.7240 - lr: 0.0010 - 8s/epoch - 132ms/step
Epoch 30/50
59/59 - 8s - loss: 0.4086 - accuracy: 0.8491 - val_loss: 0.7616 - val_accuracy: 0.7208 - lr: 0.0010 - 8s/epoch - 132ms/step
Epoch 31/50
59/59 - 8s - loss: 0.4109 - accuracy: 0.8484 - val_loss: 0.7907 - val_accuracy: 0.7134 - lr: 0.0010 - 8s/epoch - 132ms/step
Epoch 32/50
59/59 - 8s - loss: 0.4128 - accuracy: 0.8464 - val_loss: 0.8026 - val_accuracy: 0.7067 - lr: 0.0010 - 8s/epoch - 132ms/step
Epoch 33/50
59/59 - 8s - loss: 0.4074 - accuracy: 0.8488 - val_loss: 0.7701 - val_accuracy: 0.7201 - lr: 0.0010 - 8s/epoch - 131ms/step
Epoch 34/50
59/59 - 8s - loss: 0.4059 - accuracy: 0.8498 - val_loss: 0.7725 - val_accuracy: 0.7172 - lr: 0.0010 - 8s/epoch - 132ms/step
Epoch 35/50
59/59 - 8s - loss: 0.4082 - accuracy: 0.8495 - val_loss: 0.8005 - val_accuracy: 0.7133 - lr: 0.0010 - 8s/epoch - 132ms/step
Epoch 36/50
59/59 - 8s - loss: 0.4068 - accuracy: 0.8495 - val_loss: 0.8167 - val_accuracy: 0.7024 - lr: 0.0010 - 8s/epoch - 132ms/step
Epoch 37/50
59/59 - 8s - loss: 0.4067 - accuracy: 0.8501 - val_loss: 0.7929 - val_accuracy: 0.7135 - lr: 0.0010 - 8s/epoch - 132ms/step
Epoch 38/50
59/59 - 8s - loss: 0.4092 - accuracy: 0.8487 - val_loss: 0.8112 - val_accuracy: 0.7051 - lr: 0.0010 - 8s/epoch - 132ms/step
Epoch 39/50
59/59 - 8s - loss: 0.4042 - accuracy: 0.8511 - val_loss: 0.8281 - val_accuracy: 0.6947 - lr: 0.0010 - 8s/epoch - 132ms/step
Epoch 40/50
59/59 - 8s - loss: 0.4066 - accuracy: 0.8499 - val_loss: 0.8109 - val_accuracy: 0.7009 - lr: 0.0010 - 8s/epoch - 132ms/step
Epoch 41/50
59/59 - 8s - loss: 0.4044 - accuracy: 0.8519 - val_loss: 0.8017 - val_accuracy: 0.7093 - lr: 0.0010 - 8s/epoch - 132ms/step
Epoch 42/50
59/59 - 8s - loss: 0.4046 - accuracy: 0.8513 - val_loss: 0.8236 - val_accuracy: 0.6977 - lr: 0.0010 - 8s/epoch - 132ms/step
Epoch 43/50
59/59 - 8s - loss: 0.4045 - accuracy: 0.8516 - val_loss: 0.7870 - val_accuracy: 0.7136 - lr: 0.0010 - 8s/epoch - 132ms/step
Epoch 44/50
59/59 - 8s - loss: 0.4048 - accuracy: 0.8504 - val_loss: 0.8285 - val_accuracy: 0.6961 - lr: 0.0010 - 8s/epoch - 132ms/step
Epoch 45/50
59/59 - 8s - loss: 0.4040 - accuracy: 0.8510 - val_loss: 0.8063 - val_accuracy: 0.7052 - lr: 0.0010 - 8s/epoch - 132ms/step
Epoch 46/50
59/59 - 8s - loss: 0.4036 - accuracy: 0.8518 - val_loss: 0.7922 - val_accuracy: 0.7116 - lr: 0.0010 - 8s/epoch - 132ms/step
Epoch 47/50
59/59 - 8s - loss: 0.4039 - accuracy: 0.8501 - val_loss: 0.7565 - val_accuracy: 0.7232 - lr: 0.0010 - 8s/epoch - 132ms/step
Epoch 48/50
59/59 - 8s - loss: 0.4012 - accuracy: 0.8526 - val_loss: 0.7922 - val_accuracy: 0.7090 - lr: 0.0010 - 8s/epoch - 132ms/step
Epoch 49/50
59/59 - 8s - loss: 0.4044 - accuracy: 0.8506 - val_loss: 0.7782 - val_accuracy: 0.7175 - lr: 0.0010 - 8s/epoch - 132ms/step
Epoch 50/50
59/59 - 8s - loss: 0.4045 - accuracy: 0.8510 - val_loss: 0.7980 - val_accuracy: 0.7059 - lr: 0.0010 - 8s/epoch - 132ms/step
fitting with batch size: 2500
Epoch 1/50
36/36 - 10s - loss: 0.3943 - accuracy: 0.8548 - val_loss: 0.7771 - val_accuracy: 0.7182 - lr: 0.0010 - 10s/epoch - 280ms/step
Epoch 2/50
36/36 - 8s - loss: 0.3969 - accuracy: 0.8539 - val_loss: 0.7894 - val_accuracy: 0.7105 - lr: 0.0010 - 8s/epoch - 215ms/step
Epoch 3/50
36/36 - 8s - loss: 0.4010 - accuracy: 0.8516 - val_loss: 0.7682 - val_accuracy: 0.7200 - lr: 0.0010 - 8s/epoch - 216ms/step
Epoch 4/50
36/36 - 8s - loss: 0.3991 - accuracy: 0.8534 - val_loss: 0.8316 - val_accuracy: 0.6925 - lr: 0.0010 - 8s/epoch - 214ms/step
Epoch 5/50
36/36 - 8s - loss: 0.4081 - accuracy: 0.8493 - val_loss: 0.7899 - val_accuracy: 0.7104 - lr: 0.0010 - 8s/epoch - 214ms/step
Epoch 6/50
36/36 - 8s - loss: 0.4023 - accuracy: 0.8524 - val_loss: 0.7983 - val_accuracy: 0.7098 - lr: 0.0010 - 8s/epoch - 215ms/step
Epoch 7/50
36/36 - 8s - loss: 0.4065 - accuracy: 0.8497 - val_loss: 0.7939 - val_accuracy: 0.7113 - lr: 0.0010 - 8s/epoch - 214ms/step
Epoch 8/50
36/36 - 8s - loss: 0.3954 - accuracy: 0.8548 - val_loss: 0.7939 - val_accuracy: 0.7135 - lr: 0.0010 - 8s/epoch - 215ms/step
Epoch 9/50
36/36 - 8s - loss: 0.3948 - accuracy: 0.8547 - val_loss: 0.8097 - val_accuracy: 0.7047 - lr: 0.0010 - 8s/epoch - 215ms/step
Epoch 10/50
36/36 - 8s - loss: 0.3921 - accuracy: 0.8561 - val_loss: 0.7807 - val_accuracy: 0.7136 - lr: 0.0010 - 8s/epoch - 215ms/step
Epoch 11/50
36/36 - 8s - loss: 0.3943 - accuracy: 0.8556 - val_loss: 0.7732 - val_accuracy: 0.7219 - lr: 0.0010 - 8s/epoch - 215ms/step
Epoch 12/50
36/36 - 8s - loss: 0.3934 - accuracy: 0.8549 - val_loss: 0.7968 - val_accuracy: 0.7120 - lr: 0.0010 - 8s/epoch - 215ms/step
Epoch 13/50
36/36 - 8s - loss: 0.4039 - accuracy: 0.8509 - val_loss: 0.7849 - val_accuracy: 0.7104 - lr: 0.0010 - 8s/epoch - 215ms/step
Epoch 14/50
36/36 - 8s - loss: 0.3967 - accuracy: 0.8533 - val_loss: 0.7905 - val_accuracy: 0.7159 - lr: 0.0010 - 8s/epoch - 215ms/step
Epoch 15/50
36/36 - 8s - loss: 0.3971 - accuracy: 0.8540 - val_loss: 0.7780 - val_accuracy: 0.7167 - lr: 0.0010 - 8s/epoch - 215ms/step
Epoch 16/50
36/36 - 8s - loss: 0.4060 - accuracy: 0.8500 - val_loss: 0.7658 - val_accuracy: 0.7220 - lr: 0.0010 - 8s/epoch - 215ms/step
Epoch 17/50
36/36 - 8s - loss: 0.3977 - accuracy: 0.8528 - val_loss: 0.7908 - val_accuracy: 0.7083 - lr: 0.0010 - 8s/epoch - 215ms/step
Epoch 18/50
36/36 - 8s - loss: 0.3938 - accuracy: 0.8554 - val_loss: 0.7840 - val_accuracy: 0.7156 - lr: 0.0010 - 8s/epoch - 215ms/step
Epoch 19/50
36/36 - 8s - loss: 0.3957 - accuracy: 0.8551 - val_loss: 0.8226 - val_accuracy: 0.7031 - lr: 0.0010 - 8s/epoch - 216ms/step
Epoch 20/50
36/36 - 8s - loss: 0.3975 - accuracy: 0.8529 - val_loss: 0.7868 - val_accuracy: 0.7149 - lr: 0.0010 - 8s/epoch - 216ms/step
Epoch 21/50
36/36 - 8s - loss: 0.3998 - accuracy: 0.8522 - val_loss: 0.8010 - val_accuracy: 0.7080 - lr: 0.0010 - 8s/epoch - 215ms/step
Epoch 22/50
36/36 - 8s - loss: 0.4010 - accuracy: 0.8514 - val_loss: 0.7723 - val_accuracy: 0.7206 - lr: 0.0010 - 8s/epoch - 215ms/step
Epoch 23/50
36/36 - 8s - loss: 0.3902 - accuracy: 0.8562 - val_loss: 0.7703 - val_accuracy: 0.7226 - lr: 0.0010 - 8s/epoch - 216ms/step
Epoch 24/50
36/36 - 8s - loss: 0.3941 - accuracy: 0.8546 - val_loss: 0.7920 - val_accuracy: 0.7175 - lr: 0.0010 - 8s/epoch - 216ms/step
Epoch 25/50
36/36 - 8s - loss: 0.3937 - accuracy: 0.8539 - val_loss: 0.7745 - val_accuracy: 0.7231 - lr: 0.0010 - 8s/epoch - 216ms/step
Epoch 26/50
36/36 - 8s - loss: 0.3921 - accuracy: 0.8554 - val_loss: 0.8020 - val_accuracy: 0.7153 - lr: 0.0010 - 8s/epoch - 216ms/step
Epoch 27/50
36/36 - 8s - loss: 0.3946 - accuracy: 0.8549 - val_loss: 0.7961 - val_accuracy: 0.7119 - lr: 0.0010 - 8s/epoch - 215ms/step
Epoch 28/50
36/36 - 8s - loss: 0.3916 - accuracy: 0.8567 - val_loss: 0.8171 - val_accuracy: 0.7023 - lr: 0.0010 - 8s/epoch - 216ms/step
Epoch 29/50
36/36 - 8s - loss: 0.3939 - accuracy: 0.8545 - val_loss: 0.7839 - val_accuracy: 0.7167 - lr: 0.0010 - 8s/epoch - 216ms/step
Epoch 30/50
36/36 - 8s - loss: 0.3922 - accuracy: 0.8558 - val_loss: 0.7957 - val_accuracy: 0.7149 - lr: 0.0010 - 8s/epoch - 216ms/step
Epoch 31/50
36/36 - 8s - loss: 0.4008 - accuracy: 0.8513 - val_loss: 0.7963 - val_accuracy: 0.7124 - lr: 0.0010 - 8s/epoch - 216ms/step
Epoch 32/50
36/36 - 8s - loss: 0.3908 - accuracy: 0.8564 - val_loss: 0.8163 - val_accuracy: 0.7110 - lr: 0.0010 - 8s/epoch - 216ms/step
Epoch 33/50
36/36 - 8s - loss: 0.3901 - accuracy: 0.8564 - val_loss: 0.7642 - val_accuracy: 0.7273 - lr: 0.0010 - 8s/epoch - 216ms/step
Epoch 34/50
36/36 - 8s - loss: 0.3982 - accuracy: 0.8536 - val_loss: 0.7786 - val_accuracy: 0.7229 - lr: 0.0010 - 8s/epoch - 216ms/step
Epoch 35/50
36/36 - 8s - loss: 0.3889 - accuracy: 0.8576 - val_loss: 0.8008 - val_accuracy: 0.7106 - lr: 0.0010 - 8s/epoch - 216ms/step
Epoch 36/50
36/36 - 8s - loss: 0.3983 - accuracy: 0.8527 - val_loss: 0.7777 - val_accuracy: 0.7231 - lr: 0.0010 - 8s/epoch - 216ms/step
Epoch 37/50
36/36 - 8s - loss: 0.3960 - accuracy: 0.8551 - val_loss: 0.8000 - val_accuracy: 0.7080 - lr: 0.0010 - 8s/epoch - 216ms/step
Epoch 38/50
36/36 - 8s - loss: 0.4110 - accuracy: 0.8477 - val_loss: 0.7978 - val_accuracy: 0.7080 - lr: 0.0010 - 8s/epoch - 216ms/step
Epoch 39/50
36/36 - 8s - loss: 0.3970 - accuracy: 0.8539 - val_loss: 0.7928 - val_accuracy: 0.7162 - lr: 0.0010 - 8s/epoch - 216ms/step
Epoch 40/50
36/36 - 8s - loss: 0.3928 - accuracy: 0.8548 - val_loss: 0.8082 - val_accuracy: 0.7091 - lr: 0.0010 - 8s/epoch - 216ms/step
Epoch 41/50
36/36 - 8s - loss: 0.3894 - accuracy: 0.8575 - val_loss: 0.7985 - val_accuracy: 0.7087 - lr: 0.0010 - 8s/epoch - 216ms/step
Epoch 42/50
36/36 - 8s - loss: 0.3888 - accuracy: 0.8567 - val_loss: 0.8070 - val_accuracy: 0.7101 - lr: 0.0010 - 8s/epoch - 216ms/step
Epoch 43/50
36/36 - 8s - loss: 0.3944 - accuracy: 0.8546 - val_loss: 0.8080 - val_accuracy: 0.7065 - lr: 0.0010 - 8s/epoch - 216ms/step
Epoch 44/50
36/36 - 8s - loss: 0.4018 - accuracy: 0.8511 - val_loss: 0.7958 - val_accuracy: 0.7144 - lr: 0.0010 - 8s/epoch - 216ms/step
Epoch 45/50
36/36 - 8s - loss: 0.3973 - accuracy: 0.8537 - val_loss: 0.8584 - val_accuracy: 0.6898 - lr: 0.0010 - 8s/epoch - 216ms/step
Epoch 46/50
36/36 - 8s - loss: 0.3947 - accuracy: 0.8534 - val_loss: 0.8159 - val_accuracy: 0.7073 - lr: 0.0010 - 8s/epoch - 216ms/step
Epoch 47/50
36/36 - 8s - loss: 0.3921 - accuracy: 0.8558 - val_loss: 0.7928 - val_accuracy: 0.7134 - lr: 0.0010 - 8s/epoch - 216ms/step
Epoch 48/50
36/36 - 8s - loss: 0.3896 - accuracy: 0.8567 - val_loss: 0.7850 - val_accuracy: 0.7172 - lr: 0.0010 - 8s/epoch - 216ms/step
Epoch 49/50
36/36 - 8s - loss: 0.3943 - accuracy: 0.8536 - val_loss: 0.8085 - val_accuracy: 0.7063 - lr: 0.0010 - 8s/epoch - 216ms/step
Epoch 50/50
36/36 - 8s - loss: 0.3902 - accuracy: 0.8560 - val_loss: 0.7822 - val_accuracy: 0.7177 - lr: 0.0010 - 8s/epoch - 216ms/step
Epoch number: 75
fitting with batch size: 20
Epoch 1/75
4378/4378 - 73s - loss: 0.6826 - accuracy: 0.7463 - val_loss: 0.7866 - val_accuracy: 0.7363 - lr: 0.0010 - 73s/epoch - 17ms/step
Epoch 2/75
4378/4378 - 71s - loss: 0.6854 - accuracy: 0.7463 - val_loss: 0.8342 - val_accuracy: 0.7341 - lr: 0.0010 - 71s/epoch - 16ms/step
Epoch 3/75
4378/4378 - 71s - loss: 0.6813 - accuracy: 0.7463 - val_loss: 0.8481 - val_accuracy: 0.6928 - lr: 0.0010 - 71s/epoch - 16ms/step
Epoch 4/75
4378/4378 - 70s - loss: 0.6795 - accuracy: 0.7455 - val_loss: 0.8455 - val_accuracy: 0.7037 - lr: 0.0010 - 70s/epoch - 16ms/step
Epoch 5/75
4378/4378 - 71s - loss: 0.6768 - accuracy: 0.7461 - val_loss: 0.7676 - val_accuracy: 0.7105 - lr: 0.0010 - 71s/epoch - 16ms/step
Epoch 6/75
4378/4378 - 70s - loss: 0.6762 - accuracy: 0.7464 - val_loss: 0.5605 - val_accuracy: 0.8289 - lr: 0.0010 - 70s/epoch - 16ms/step
Epoch 7/75
4378/4378 - 70s - loss: 0.6946 - accuracy: 0.7447 - val_loss: 0.7961 - val_accuracy: 0.7383 - lr: 0.0010 - 70s/epoch - 16ms/step
Epoch 8/75
4378/4378 - 70s - loss: 0.6793 - accuracy: 0.7451 - val_loss: 0.7778 - val_accuracy: 0.7415 - lr: 0.0010 - 70s/epoch - 16ms/step
Epoch 9/75
4378/4378 - 70s - loss: 0.6875 - accuracy: 0.7425 - val_loss: 0.7861 - val_accuracy: 0.7221 - lr: 0.0010 - 70s/epoch - 16ms/step
Epoch 10/75
4378/4378 - 70s - loss: 0.6877 - accuracy: 0.7435 - val_loss: 0.6644 - val_accuracy: 0.7822 - lr: 0.0010 - 70s/epoch - 16ms/step
Epoch 11/75
4378/4378 - 70s - loss: 0.6899 - accuracy: 0.7422 - val_loss: 0.8934 - val_accuracy: 0.7100 - lr: 0.0010 - 70s/epoch - 16ms/step
Epoch 12/75
4378/4378 - 70s - loss: 0.7415 - accuracy: 0.7318 - val_loss: 0.9295 - val_accuracy: 0.6330 - lr: 0.0010 - 70s/epoch - 16ms/step
Epoch 13/75
4378/4378 - 71s - loss: 0.6922 - accuracy: 0.7413 - val_loss: 0.7374 - val_accuracy: 0.7513 - lr: 0.0010 - 71s/epoch - 16ms/step
Epoch 14/75
4378/4378 - 71s - loss: 0.6886 - accuracy: 0.7418 - val_loss: 0.8028 - val_accuracy: 0.7407 - lr: 0.0010 - 71s/epoch - 16ms/step
Epoch 15/75
4378/4378 - 71s - loss: 0.7069 - accuracy: 0.7428 - val_loss: 0.7802 - val_accuracy: 0.7283 - lr: 0.0010 - 71s/epoch - 16ms/step
Epoch 16/75
4378/4378 - 70s - loss: 0.6936 - accuracy: 0.7413 - val_loss: 0.7213 - val_accuracy: 0.7617 - lr: 0.0010 - 70s/epoch - 16ms/step
Epoch 17/75
4378/4378 - 70s - loss: 0.6928 - accuracy: 0.7415 - val_loss: 0.7321 - val_accuracy: 0.7306 - lr: 0.0010 - 70s/epoch - 16ms/step
Epoch 18/75
4378/4378 - 70s - loss: 0.6923 - accuracy: 0.7421 - val_loss: 0.6916 - val_accuracy: 0.7702 - lr: 0.0010 - 70s/epoch - 16ms/step
Epoch 19/75
4378/4378 - 70s - loss: 0.7240 - accuracy: 0.7431 - val_loss: 0.7547 - val_accuracy: 0.7568 - lr: 0.0010 - 70s/epoch - 16ms/step
Epoch 20/75
4378/4378 - 70s - loss: 0.7005 - accuracy: 0.7407 - val_loss: 0.8260 - val_accuracy: 0.7076 - lr: 0.0010 - 70s/epoch - 16ms/step
Epoch 21/75
4378/4378 - 71s - loss: 0.6919 - accuracy: 0.7406 - val_loss: 0.7369 - val_accuracy: 0.7631 - lr: 0.0010 - 71s/epoch - 16ms/step
Epoch 22/75
4378/4378 - 71s - loss: 0.6956 - accuracy: 0.7397 - val_loss: 0.7561 - val_accuracy: 0.7492 - lr: 0.0010 - 71s/epoch - 16ms/step
Epoch 23/75
4378/4378 - 70s - loss: 0.6965 - accuracy: 0.7417 - val_loss: 0.7663 - val_accuracy: 0.7431 - lr: 0.0010 - 70s/epoch - 16ms/step
Epoch 24/75
4378/4378 - 70s - loss: 0.6974 - accuracy: 0.7408 - val_loss: 0.8895 - val_accuracy: 0.6955 - lr: 0.0010 - 70s/epoch - 16ms/step
Epoch 25/75
4378/4378 - 71s - loss: 0.7081 - accuracy: 0.7380 - val_loss: 0.7490 - val_accuracy: 0.7505 - lr: 0.0010 - 71s/epoch - 16ms/step
Epoch 26/75
4378/4378 - 70s - loss: 0.6940 - accuracy: 0.7409 - val_loss: 0.7834 - val_accuracy: 0.7404 - lr: 0.0010 - 70s/epoch - 16ms/step
Epoch 27/75
4378/4378 - 70s - loss: 0.7287 - accuracy: 0.7377 - val_loss: 1.0870 - val_accuracy: 0.6449 - lr: 0.0010 - 70s/epoch - 16ms/step
Epoch 28/75
4378/4378 - 71s - loss: 0.7487 - accuracy: 0.7354 - val_loss: 0.6820 - val_accuracy: 0.7751 - lr: 0.0010 - 71s/epoch - 16ms/step
Epoch 29/75
4378/4378 - 71s - loss: 0.6910 - accuracy: 0.7429 - val_loss: 0.8388 - val_accuracy: 0.7212 - lr: 0.0010 - 71s/epoch - 16ms/step
Epoch 30/75
4378/4378 - 70s - loss: 0.7007 - accuracy: 0.7396 - val_loss: 0.6981 - val_accuracy: 0.7614 - lr: 0.0010 - 70s/epoch - 16ms/step
Epoch 31/75
4378/4378 - 70s - loss: 0.6975 - accuracy: 0.7396 - val_loss: 0.8629 - val_accuracy: 0.7192 - lr: 0.0010 - 70s/epoch - 16ms/step
Epoch 32/75
4378/4378 - 71s - loss: 0.6933 - accuracy: 0.7414 - val_loss: 0.7515 - val_accuracy: 0.7417 - lr: 0.0010 - 71s/epoch - 16ms/step
Epoch 33/75
4378/4378 - 71s - loss: 0.7020 - accuracy: 0.7397 - val_loss: 0.8545 - val_accuracy: 0.7179 - lr: 0.0010 - 71s/epoch - 16ms/step
Epoch 34/75
4378/4378 - 70s - loss: 0.7069 - accuracy: 0.7395 - val_loss: 0.7146 - val_accuracy: 0.7818 - lr: 0.0010 - 70s/epoch - 16ms/step
Epoch 35/75
4378/4378 - 71s - loss: 0.7270 - accuracy: 0.7413 - val_loss: 0.7798 - val_accuracy: 0.7038 - lr: 0.0010 - 71s/epoch - 16ms/step
Epoch 36/75
4378/4378 - 71s - loss: 0.6928 - accuracy: 0.7418 - val_loss: 0.8142 - val_accuracy: 0.7111 - lr: 0.0010 - 71s/epoch - 16ms/step
Epoch 37/75
4378/4378 - 70s - loss: 0.6970 - accuracy: 0.7406 - val_loss: 0.7978 - val_accuracy: 0.7276 - lr: 0.0010 - 70s/epoch - 16ms/step
Epoch 38/75
4378/4378 - 70s - loss: 0.6961 - accuracy: 0.7396 - val_loss: 0.8415 - val_accuracy: 0.7146 - lr: 0.0010 - 70s/epoch - 16ms/step
Epoch 39/75
4378/4378 - 71s - loss: 0.6976 - accuracy: 0.7409 - val_loss: 0.6675 - val_accuracy: 0.7661 - lr: 0.0010 - 71s/epoch - 16ms/step
Epoch 40/75
4378/4378 - 71s - loss: 0.6970 - accuracy: 0.7413 - val_loss: 0.7639 - val_accuracy: 0.7526 - lr: 0.0010 - 71s/epoch - 16ms/step
Epoch 41/75
4378/4378 - 70s - loss: 0.7018 - accuracy: 0.7411 - val_loss: 0.8623 - val_accuracy: 0.6892 - lr: 0.0010 - 70s/epoch - 16ms/step
Epoch 42/75
4378/4378 - 72s - loss: 0.7032 - accuracy: 0.7390 - val_loss: 0.7382 - val_accuracy: 0.7235 - lr: 0.0010 - 72s/epoch - 16ms/step
Epoch 43/75
4378/4378 - 71s - loss: 0.7094 - accuracy: 0.7429 - val_loss: 0.7380 - val_accuracy: 0.7257 - lr: 0.0010 - 71s/epoch - 16ms/step
Epoch 44/75
4378/4378 - 70s - loss: 0.6955 - accuracy: 0.7425 - val_loss: 0.7044 - val_accuracy: 0.7491 - lr: 0.0010 - 70s/epoch - 16ms/step
Epoch 45/75
4378/4378 - 71s - loss: 0.6989 - accuracy: 0.7396 - val_loss: 0.9354 - val_accuracy: 0.6443 - lr: 0.0010 - 71s/epoch - 16ms/step
Epoch 46/75
4378/4378 - 70s - loss: 0.6985 - accuracy: 0.7398 - val_loss: 1.0378 - val_accuracy: 0.5840 - lr: 0.0010 - 70s/epoch - 16ms/step
Epoch 47/75
4378/4378 - 70s - loss: 0.6944 - accuracy: 0.7415 - val_loss: 0.9375 - val_accuracy: 0.6590 - lr: 0.0010 - 70s/epoch - 16ms/step
Epoch 48/75
4378/4378 - 70s - loss: 0.6974 - accuracy: 0.7420 - val_loss: 0.7773 - val_accuracy: 0.7230 - lr: 0.0010 - 70s/epoch - 16ms/step
Epoch 49/75
4378/4378 - 70s - loss: 0.7134 - accuracy: 0.7390 - val_loss: 0.8927 - val_accuracy: 0.6786 - lr: 0.0010 - 70s/epoch - 16ms/step
Epoch 50/75
4378/4378 - 70s - loss: 0.7004 - accuracy: 0.7391 - val_loss: 0.8626 - val_accuracy: 0.6959 - lr: 0.0010 - 70s/epoch - 16ms/step
Epoch 51/75
4378/4378 - 71s - loss: 0.7006 - accuracy: 0.7384 - val_loss: 0.8868 - val_accuracy: 0.6703 - lr: 0.0010 - 71s/epoch - 16ms/step
Epoch 52/75
4378/4378 - 71s - loss: 0.7096 - accuracy: 0.7374 - val_loss: 0.8629 - val_accuracy: 0.6760 - lr: 0.0010 - 71s/epoch - 16ms/step
Epoch 53/75
4378/4378 - 71s - loss: 0.7116 - accuracy: 0.7398 - val_loss: 0.7813 - val_accuracy: 0.7327 - lr: 0.0010 - 71s/epoch - 16ms/step
Epoch 54/75
4378/4378 - 70s - loss: 0.7338 - accuracy: 0.7347 - val_loss: 0.7655 - val_accuracy: 0.7305 - lr: 0.0010 - 70s/epoch - 16ms/step
Epoch 55/75
4378/4378 - 70s - loss: 0.7041 - accuracy: 0.7374 - val_loss: 0.7664 - val_accuracy: 0.7086 - lr: 0.0010 - 70s/epoch - 16ms/step
Epoch 56/75
4378/4378 - 70s - loss: 0.7031 - accuracy: 0.7387 - val_loss: 0.7302 - val_accuracy: 0.7713 - lr: 0.0010 - 70s/epoch - 16ms/step
Epoch 57/75
4378/4378 - 71s - loss: 0.7051 - accuracy: 0.7388 - val_loss: 0.7604 - val_accuracy: 0.7348 - lr: 0.0010 - 71s/epoch - 16ms/step
Epoch 58/75
4378/4378 - 70s - loss: 0.7208 - accuracy: 0.7387 - val_loss: 0.7532 - val_accuracy: 0.7141 - lr: 0.0010 - 70s/epoch - 16ms/step
Epoch 59/75
4378/4378 - 70s - loss: 0.7049 - accuracy: 0.7376 - val_loss: 0.7463 - val_accuracy: 0.7286 - lr: 0.0010 - 70s/epoch - 16ms/step
Epoch 60/75
4378/4378 - 71s - loss: 0.7057 - accuracy: 0.7358 - val_loss: 0.6971 - val_accuracy: 0.7551 - lr: 0.0010 - 71s/epoch - 16ms/step
Epoch 61/75
4378/4378 - 70s - loss: 0.7097 - accuracy: 0.7361 - val_loss: 0.8003 - val_accuracy: 0.7155 - lr: 0.0010 - 70s/epoch - 16ms/step
Epoch 62/75
4378/4378 - 70s - loss: 0.7104 - accuracy: 0.7373 - val_loss: 0.7525 - val_accuracy: 0.7428 - lr: 0.0010 - 70s/epoch - 16ms/step
Epoch 63/75
4378/4378 - 71s - loss: 0.7109 - accuracy: 0.7368 - val_loss: 0.7496 - val_accuracy: 0.7533 - lr: 0.0010 - 71s/epoch - 16ms/step
Epoch 64/75
4378/4378 - 71s - loss: 0.7408 - accuracy: 0.7343 - val_loss: 0.8761 - val_accuracy: 0.6754 - lr: 0.0010 - 71s/epoch - 16ms/step
Epoch 65/75
4378/4378 - 71s - loss: 0.7008 - accuracy: 0.7396 - val_loss: 0.8413 - val_accuracy: 0.7016 - lr: 0.0010 - 71s/epoch - 16ms/step
Epoch 66/75
4378/4378 - 71s - loss: 0.7375 - accuracy: 0.7309 - val_loss: 0.6926 - val_accuracy: 0.7909 - lr: 0.0010 - 71s/epoch - 16ms/step
Epoch 67/75
4378/4378 - 71s - loss: 0.7121 - accuracy: 0.7373 - val_loss: 0.8883 - val_accuracy: 0.6920 - lr: 0.0010 - 71s/epoch - 16ms/step
Epoch 68/75
4378/4378 - 70s - loss: 0.7375 - accuracy: 0.7339 - val_loss: 0.7160 - val_accuracy: 0.7463 - lr: 0.0010 - 70s/epoch - 16ms/step
Epoch 69/75
4378/4378 - 70s - loss: 0.7168 - accuracy: 0.7375 - val_loss: 0.9071 - val_accuracy: 0.6802 - lr: 0.0010 - 70s/epoch - 16ms/step
Epoch 70/75
4378/4378 - 70s - loss: 0.7108 - accuracy: 0.7356 - val_loss: 0.7718 - val_accuracy: 0.7137 - lr: 0.0010 - 70s/epoch - 16ms/step
Epoch 71/75
4378/4378 - 70s - loss: 0.7034 - accuracy: 0.7372 - val_loss: 0.7922 - val_accuracy: 0.7222 - lr: 0.0010 - 70s/epoch - 16ms/step
Epoch 72/75
4378/4378 - 70s - loss: 0.7057 - accuracy: 0.7373 - val_loss: 0.7890 - val_accuracy: 0.7347 - lr: 0.0010 - 70s/epoch - 16ms/step
Epoch 73/75
4378/4378 - 71s - loss: 0.7045 - accuracy: 0.7390 - val_loss: 0.6842 - val_accuracy: 0.7706 - lr: 0.0010 - 71s/epoch - 16ms/step
Epoch 74/75
4378/4378 - 71s - loss: 0.7408 - accuracy: 0.7362 - val_loss: 0.7655 - val_accuracy: 0.7301 - lr: 0.0010 - 71s/epoch - 16ms/step
Epoch 75/75
4378/4378 - 70s - loss: 0.7063 - accuracy: 0.7364 - val_loss: 0.7380 - val_accuracy: 0.7344 - lr: 0.0010 - 70s/epoch - 16ms/step
fitting with batch size: 100
Epoch 1/75
876/876 - 20s - loss: 0.6399 - accuracy: 0.7614 - val_loss: 0.6893 - val_accuracy: 0.7536 - lr: 0.0010 - 20s/epoch - 23ms/step
Epoch 2/75
876/876 - 17s - loss: 0.6398 - accuracy: 0.7637 - val_loss: 0.7280 - val_accuracy: 0.7505 - lr: 0.0010 - 17s/epoch - 20ms/step
Epoch 3/75
876/876 - 17s - loss: 0.6216 - accuracy: 0.7680 - val_loss: 0.7247 - val_accuracy: 0.7494 - lr: 0.0010 - 17s/epoch - 20ms/step
Epoch 4/75
876/876 - 17s - loss: 0.6199 - accuracy: 0.7668 - val_loss: 0.7149 - val_accuracy: 0.7600 - lr: 0.0010 - 17s/epoch - 20ms/step
Epoch 5/75
876/876 - 17s - loss: 0.6132 - accuracy: 0.7710 - val_loss: 0.6987 - val_accuracy: 0.7475 - lr: 0.0010 - 17s/epoch - 20ms/step
Epoch 6/75
876/876 - 17s - loss: 0.6171 - accuracy: 0.7713 - val_loss: 0.7155 - val_accuracy: 0.7380 - lr: 0.0010 - 17s/epoch - 20ms/step
Epoch 7/75
876/876 - 17s - loss: 0.6068 - accuracy: 0.7736 - val_loss: 0.6588 - val_accuracy: 0.7631 - lr: 0.0010 - 17s/epoch - 20ms/step
Epoch 8/75
876/876 - 17s - loss: 0.6029 - accuracy: 0.7743 - val_loss: 0.7293 - val_accuracy: 0.7483 - lr: 0.0010 - 17s/epoch - 20ms/step
Epoch 9/75
876/876 - 18s - loss: 0.6011 - accuracy: 0.7750 - val_loss: 0.6901 - val_accuracy: 0.7566 - lr: 0.0010 - 18s/epoch - 20ms/step
Epoch 10/75
876/876 - 17s - loss: 0.6005 - accuracy: 0.7745 - val_loss: 0.7201 - val_accuracy: 0.7617 - lr: 0.0010 - 17s/epoch - 20ms/step
Epoch 11/75
876/876 - 17s - loss: 0.5968 - accuracy: 0.7752 - val_loss: 0.7443 - val_accuracy: 0.7298 - lr: 0.0010 - 17s/epoch - 20ms/step
Epoch 12/75
876/876 - 17s - loss: 0.5956 - accuracy: 0.7767 - val_loss: 0.6745 - val_accuracy: 0.7698 - lr: 0.0010 - 17s/epoch - 20ms/step
Epoch 13/75
876/876 - 17s - loss: 0.5935 - accuracy: 0.7772 - val_loss: 0.7007 - val_accuracy: 0.7505 - lr: 0.0010 - 17s/epoch - 20ms/step
Epoch 14/75
876/876 - 17s - loss: 0.5911 - accuracy: 0.7780 - val_loss: 0.7268 - val_accuracy: 0.7494 - lr: 0.0010 - 17s/epoch - 20ms/step
Epoch 15/75
876/876 - 17s - loss: 0.5909 - accuracy: 0.7774 - val_loss: 0.7420 - val_accuracy: 0.7325 - lr: 0.0010 - 17s/epoch - 20ms/step
Epoch 16/75
876/876 - 17s - loss: 0.5908 - accuracy: 0.7791 - val_loss: 0.6517 - val_accuracy: 0.7859 - lr: 0.0010 - 17s/epoch - 20ms/step
Epoch 17/75
876/876 - 17s - loss: 0.5848 - accuracy: 0.7793 - val_loss: 0.7450 - val_accuracy: 0.7273 - lr: 0.0010 - 17s/epoch - 20ms/step
Epoch 18/75
876/876 - 17s - loss: 0.5833 - accuracy: 0.7816 - val_loss: 0.7166 - val_accuracy: 0.7437 - lr: 0.0010 - 17s/epoch - 20ms/step
Epoch 19/75
876/876 - 17s - loss: 0.5858 - accuracy: 0.7821 - val_loss: 0.7322 - val_accuracy: 0.7466 - lr: 0.0010 - 17s/epoch - 20ms/step
Epoch 20/75
876/876 - 17s - loss: 0.5847 - accuracy: 0.7791 - val_loss: 0.6926 - val_accuracy: 0.7518 - lr: 0.0010 - 17s/epoch - 20ms/step
Epoch 21/75
876/876 - 17s - loss: 0.5805 - accuracy: 0.7811 - val_loss: 0.7596 - val_accuracy: 0.7300 - lr: 0.0010 - 17s/epoch - 20ms/step
Epoch 22/75
876/876 - 17s - loss: 0.5790 - accuracy: 0.7836 - val_loss: 0.7855 - val_accuracy: 0.6942 - lr: 0.0010 - 17s/epoch - 20ms/step
Epoch 23/75
876/876 - 17s - loss: 0.5806 - accuracy: 0.7829 - val_loss: 0.6939 - val_accuracy: 0.7461 - lr: 0.0010 - 17s/epoch - 20ms/step
Epoch 24/75
876/876 - 17s - loss: 0.5790 - accuracy: 0.7827 - val_loss: 0.7376 - val_accuracy: 0.7416 - lr: 0.0010 - 17s/epoch - 20ms/step
Epoch 25/75
876/876 - 17s - loss: 0.5741 - accuracy: 0.7846 - val_loss: 0.7171 - val_accuracy: 0.7458 - lr: 0.0010 - 17s/epoch - 20ms/step
Epoch 26/75
876/876 - 17s - loss: 0.5788 - accuracy: 0.7827 - val_loss: 0.6780 - val_accuracy: 0.7591 - lr: 0.0010 - 17s/epoch - 20ms/step
Epoch 27/75
876/876 - 17s - loss: 0.5723 - accuracy: 0.7851 - val_loss: 0.7283 - val_accuracy: 0.7468 - lr: 0.0010 - 17s/epoch - 20ms/step
Epoch 28/75
876/876 - 17s - loss: 0.5690 - accuracy: 0.7865 - val_loss: 0.7258 - val_accuracy: 0.7526 - lr: 0.0010 - 17s/epoch - 20ms/step
Epoch 29/75
876/876 - 17s - loss: 0.5706 - accuracy: 0.7858 - val_loss: 0.6979 - val_accuracy: 0.7550 - lr: 0.0010 - 17s/epoch - 20ms/step
Epoch 30/75
876/876 - 17s - loss: 0.5659 - accuracy: 0.7888 - val_loss: 0.7515 - val_accuracy: 0.7326 - lr: 0.0010 - 17s/epoch - 20ms/step
Epoch 31/75
876/876 - 17s - loss: 0.5659 - accuracy: 0.7865 - val_loss: 0.6913 - val_accuracy: 0.7521 - lr: 0.0010 - 17s/epoch - 20ms/step
Epoch 32/75
876/876 - 17s - loss: 0.5701 - accuracy: 0.7857 - val_loss: 0.7194 - val_accuracy: 0.7422 - lr: 0.0010 - 17s/epoch - 20ms/step
Epoch 33/75
876/876 - 17s - loss: 0.5632 - accuracy: 0.7884 - val_loss: 0.7179 - val_accuracy: 0.7507 - lr: 0.0010 - 17s/epoch - 20ms/step
Epoch 34/75
876/876 - 17s - loss: 0.5699 - accuracy: 0.7855 - val_loss: 0.7211 - val_accuracy: 0.7491 - lr: 0.0010 - 17s/epoch - 20ms/step
Epoch 35/75
876/876 - 17s - loss: 0.5649 - accuracy: 0.7859 - val_loss: 0.7626 - val_accuracy: 0.7319 - lr: 0.0010 - 17s/epoch - 20ms/step
Epoch 36/75
876/876 - 17s - loss: 0.5664 - accuracy: 0.7883 - val_loss: 0.7278 - val_accuracy: 0.7378 - lr: 0.0010 - 17s/epoch - 20ms/step
Epoch 37/75
876/876 - 17s - loss: 0.5613 - accuracy: 0.7895 - val_loss: 0.8004 - val_accuracy: 0.7076 - lr: 0.0010 - 17s/epoch - 20ms/step
Epoch 38/75
876/876 - 17s - loss: 0.5612 - accuracy: 0.7887 - val_loss: 0.7268 - val_accuracy: 0.7462 - lr: 0.0010 - 17s/epoch - 20ms/step
Epoch 39/75
876/876 - 17s - loss: 0.5601 - accuracy: 0.7909 - val_loss: 0.6622 - val_accuracy: 0.7616 - lr: 0.0010 - 17s/epoch - 20ms/step
Epoch 40/75
876/876 - 17s - loss: 0.5592 - accuracy: 0.7892 - val_loss: 0.7931 - val_accuracy: 0.7071 - lr: 0.0010 - 17s/epoch - 20ms/step
Epoch 41/75
876/876 - 17s - loss: 0.5562 - accuracy: 0.7922 - val_loss: 0.7403 - val_accuracy: 0.7301 - lr: 0.0010 - 17s/epoch - 20ms/step
Epoch 42/75
876/876 - 17s - loss: 0.5585 - accuracy: 0.7897 - val_loss: 0.7346 - val_accuracy: 0.7344 - lr: 0.0010 - 17s/epoch - 20ms/step
Epoch 43/75
876/876 - 17s - loss: 0.5613 - accuracy: 0.7896 - val_loss: 0.7325 - val_accuracy: 0.7292 - lr: 0.0010 - 17s/epoch - 20ms/step
Epoch 44/75
876/876 - 17s - loss: 0.5590 - accuracy: 0.7920 - val_loss: 0.6949 - val_accuracy: 0.7617 - lr: 0.0010 - 17s/epoch - 20ms/step
Epoch 45/75
876/876 - 17s - loss: 0.5568 - accuracy: 0.7908 - val_loss: 0.6353 - val_accuracy: 0.7801 - lr: 0.0010 - 17s/epoch - 20ms/step
Epoch 46/75
876/876 - 17s - loss: 0.5553 - accuracy: 0.7914 - val_loss: 0.7216 - val_accuracy: 0.7468 - lr: 0.0010 - 17s/epoch - 20ms/step
Epoch 47/75
876/876 - 18s - loss: 0.5602 - accuracy: 0.7912 - val_loss: 0.7376 - val_accuracy: 0.7359 - lr: 0.0010 - 18s/epoch - 21ms/step
Epoch 48/75
876/876 - 17s - loss: 0.5542 - accuracy: 0.7937 - val_loss: 0.7526 - val_accuracy: 0.7370 - lr: 0.0010 - 17s/epoch - 20ms/step
Epoch 49/75
876/876 - 17s - loss: 0.5504 - accuracy: 0.7944 - val_loss: 0.7791 - val_accuracy: 0.7078 - lr: 0.0010 - 17s/epoch - 20ms/step
Epoch 50/75
876/876 - 17s - loss: 0.5547 - accuracy: 0.7930 - val_loss: 0.7204 - val_accuracy: 0.7358 - lr: 0.0010 - 17s/epoch - 20ms/step
Epoch 51/75
876/876 - 17s - loss: 0.5469 - accuracy: 0.7947 - val_loss: 0.7045 - val_accuracy: 0.7574 - lr: 0.0010 - 17s/epoch - 20ms/step
Epoch 52/75
876/876 - 17s - loss: 0.5503 - accuracy: 0.7937 - val_loss: 0.7078 - val_accuracy: 0.7520 - lr: 0.0010 - 17s/epoch - 20ms/step
Epoch 53/75
876/876 - 17s - loss: 0.5511 - accuracy: 0.7939 - val_loss: 0.7192 - val_accuracy: 0.7438 - lr: 0.0010 - 17s/epoch - 20ms/step
Epoch 54/75
876/876 - 17s - loss: 0.5507 - accuracy: 0.7934 - val_loss: 0.6935 - val_accuracy: 0.7460 - lr: 0.0010 - 17s/epoch - 20ms/step
Epoch 55/75
876/876 - 17s - loss: 0.5481 - accuracy: 0.7954 - val_loss: 0.7672 - val_accuracy: 0.7283 - lr: 0.0010 - 17s/epoch - 20ms/step
Epoch 56/75
876/876 - 17s - loss: 0.5485 - accuracy: 0.7944 - val_loss: 0.7900 - val_accuracy: 0.7138 - lr: 0.0010 - 17s/epoch - 20ms/step
Epoch 57/75
876/876 - 17s - loss: 0.5545 - accuracy: 0.7936 - val_loss: 0.7278 - val_accuracy: 0.7433 - lr: 0.0010 - 17s/epoch - 20ms/step
Epoch 58/75
876/876 - 17s - loss: 0.5435 - accuracy: 0.7963 - val_loss: 0.7838 - val_accuracy: 0.7133 - lr: 0.0010 - 17s/epoch - 20ms/step
Epoch 59/75
876/876 - 17s - loss: 0.5456 - accuracy: 0.7960 - val_loss: 0.7004 - val_accuracy: 0.7441 - lr: 0.0010 - 17s/epoch - 20ms/step
Epoch 60/75
876/876 - 17s - loss: 0.5437 - accuracy: 0.7965 - val_loss: 0.7679 - val_accuracy: 0.7296 - lr: 0.0010 - 17s/epoch - 20ms/step
Epoch 61/75
876/876 - 17s - loss: 0.5464 - accuracy: 0.7958 - val_loss: 0.7401 - val_accuracy: 0.7296 - lr: 0.0010 - 17s/epoch - 20ms/step
Epoch 62/75
876/876 - 17s - loss: 0.5394 - accuracy: 0.7981 - val_loss: 0.7368 - val_accuracy: 0.7415 - lr: 0.0010 - 17s/epoch - 20ms/step
Epoch 63/75
876/876 - 17s - loss: 0.5396 - accuracy: 0.7987 - val_loss: 0.7181 - val_accuracy: 0.7473 - lr: 0.0010 - 17s/epoch - 20ms/step
Epoch 64/75
876/876 - 17s - loss: 0.5436 - accuracy: 0.7957 - val_loss: 0.7231 - val_accuracy: 0.7324 - lr: 0.0010 - 17s/epoch - 20ms/step
Epoch 65/75
876/876 - 17s - loss: 0.5377 - accuracy: 0.7994 - val_loss: 0.7062 - val_accuracy: 0.7426 - lr: 0.0010 - 17s/epoch - 20ms/step
Epoch 66/75
876/876 - 17s - loss: 0.5404 - accuracy: 0.7980 - val_loss: 0.8306 - val_accuracy: 0.6968 - lr: 0.0010 - 17s/epoch - 20ms/step
Epoch 67/75
876/876 - 18s - loss: 0.5443 - accuracy: 0.7974 - val_loss: 0.7486 - val_accuracy: 0.7126 - lr: 0.0010 - 18s/epoch - 20ms/step
Epoch 68/75
876/876 - 17s - loss: 0.5364 - accuracy: 0.8001 - val_loss: 0.6855 - val_accuracy: 0.7602 - lr: 0.0010 - 17s/epoch - 20ms/step
Epoch 69/75
876/876 - 17s - loss: 0.5371 - accuracy: 0.7992 - val_loss: 0.6906 - val_accuracy: 0.7527 - lr: 0.0010 - 17s/epoch - 20ms/step
Epoch 70/75
876/876 - 17s - loss: 0.5441 - accuracy: 0.7964 - val_loss: 0.8111 - val_accuracy: 0.6920 - lr: 0.0010 - 17s/epoch - 20ms/step
Epoch 71/75
876/876 - 17s - loss: 0.5415 - accuracy: 0.7982 - val_loss: 0.6932 - val_accuracy: 0.7375 - lr: 0.0010 - 17s/epoch - 20ms/step
Epoch 72/75
876/876 - 17s - loss: 0.5470 - accuracy: 0.7970 - val_loss: 0.7185 - val_accuracy: 0.7427 - lr: 0.0010 - 17s/epoch - 20ms/step
Epoch 73/75
876/876 - 18s - loss: 0.5349 - accuracy: 0.7989 - val_loss: 0.7894 - val_accuracy: 0.7070 - lr: 0.0010 - 18s/epoch - 20ms/step
Epoch 74/75
876/876 - 18s - loss: 0.5450 - accuracy: 0.7967 - val_loss: 0.7832 - val_accuracy: 0.6984 - lr: 0.0010 - 18s/epoch - 21ms/step
Epoch 75/75
876/876 - 17s - loss: 0.7770 - accuracy: 0.7764 - val_loss: 0.7174 - val_accuracy: 0.7338 - lr: 0.0010 - 17s/epoch - 20ms/step
fitting with batch size: 500
Epoch 1/75
176/176 - 11s - loss: 0.4982 - accuracy: 0.8152 - val_loss: 0.6926 - val_accuracy: 0.7391 - lr: 0.0010 - 11s/epoch - 63ms/step
Epoch 2/75
176/176 - 9s - loss: 0.4871 - accuracy: 0.8181 - val_loss: 0.6686 - val_accuracy: 0.7463 - lr: 0.0010 - 9s/epoch - 50ms/step
Epoch 3/75
176/176 - 9s - loss: 0.4933 - accuracy: 0.8162 - val_loss: 0.6804 - val_accuracy: 0.7398 - lr: 0.0010 - 9s/epoch - 50ms/step
Epoch 4/75
176/176 - 9s - loss: 0.4868 - accuracy: 0.8188 - val_loss: 0.7129 - val_accuracy: 0.7314 - lr: 0.0010 - 9s/epoch - 50ms/step
Epoch 5/75
176/176 - 9s - loss: 0.4909 - accuracy: 0.8189 - val_loss: 0.6992 - val_accuracy: 0.7402 - lr: 0.0010 - 9s/epoch - 50ms/step
Epoch 6/75
176/176 - 9s - loss: 0.4890 - accuracy: 0.8173 - val_loss: 0.7336 - val_accuracy: 0.7174 - lr: 0.0010 - 9s/epoch - 50ms/step
Epoch 7/75
176/176 - 9s - loss: 0.4795 - accuracy: 0.8209 - val_loss: 0.7347 - val_accuracy: 0.7197 - lr: 0.0010 - 9s/epoch - 50ms/step
Epoch 8/75
176/176 - 9s - loss: 0.4763 - accuracy: 0.8223 - val_loss: 0.7164 - val_accuracy: 0.7299 - lr: 0.0010 - 9s/epoch - 50ms/step
Epoch 9/75
176/176 - 9s - loss: 0.4757 - accuracy: 0.8223 - val_loss: 0.7049 - val_accuracy: 0.7321 - lr: 0.0010 - 9s/epoch - 50ms/step
Epoch 10/75
176/176 - 9s - loss: 0.4731 - accuracy: 0.8237 - val_loss: 0.7304 - val_accuracy: 0.7209 - lr: 0.0010 - 9s/epoch - 50ms/step
Epoch 11/75
176/176 - 9s - loss: 0.4740 - accuracy: 0.8234 - val_loss: 0.7041 - val_accuracy: 0.7341 - lr: 0.0010 - 9s/epoch - 50ms/step
Epoch 12/75
176/176 - 9s - loss: 0.4724 - accuracy: 0.8237 - val_loss: 0.7161 - val_accuracy: 0.7354 - lr: 0.0010 - 9s/epoch - 50ms/step
Epoch 13/75
176/176 - 9s - loss: 0.4763 - accuracy: 0.8223 - val_loss: 0.7337 - val_accuracy: 0.7244 - lr: 0.0010 - 9s/epoch - 50ms/step
Epoch 14/75
176/176 - 9s - loss: 0.4671 - accuracy: 0.8266 - val_loss: 0.7732 - val_accuracy: 0.7044 - lr: 0.0010 - 9s/epoch - 50ms/step
Epoch 15/75
176/176 - 9s - loss: 0.4701 - accuracy: 0.8254 - val_loss: 0.7429 - val_accuracy: 0.7231 - lr: 0.0010 - 9s/epoch - 50ms/step
Epoch 16/75
176/176 - 9s - loss: 0.4722 - accuracy: 0.8236 - val_loss: 0.7499 - val_accuracy: 0.7213 - lr: 0.0010 - 9s/epoch - 50ms/step
Epoch 17/75
176/176 - 9s - loss: 0.4668 - accuracy: 0.8259 - val_loss: 0.7128 - val_accuracy: 0.7336 - lr: 0.0010 - 9s/epoch - 50ms/step
Epoch 18/75
176/176 - 9s - loss: 0.4736 - accuracy: 0.8237 - val_loss: 0.7704 - val_accuracy: 0.7145 - lr: 0.0010 - 9s/epoch - 50ms/step
Epoch 19/75
176/176 - 9s - loss: 0.4649 - accuracy: 0.8268 - val_loss: 0.7099 - val_accuracy: 0.7351 - lr: 0.0010 - 9s/epoch - 50ms/step
Epoch 20/75
176/176 - 9s - loss: 0.4637 - accuracy: 0.8274 - val_loss: 0.7130 - val_accuracy: 0.7291 - lr: 0.0010 - 9s/epoch - 50ms/step
Epoch 21/75
176/176 - 9s - loss: 0.4650 - accuracy: 0.8261 - val_loss: 0.7658 - val_accuracy: 0.7116 - lr: 0.0010 - 9s/epoch - 50ms/step
Epoch 22/75
176/176 - 9s - loss: 0.4658 - accuracy: 0.8259 - val_loss: 0.7402 - val_accuracy: 0.7313 - lr: 0.0010 - 9s/epoch - 50ms/step
Epoch 23/75
176/176 - 9s - loss: 0.4588 - accuracy: 0.8282 - val_loss: 0.7492 - val_accuracy: 0.7136 - lr: 0.0010 - 9s/epoch - 50ms/step
Epoch 24/75
176/176 - 9s - loss: 0.4627 - accuracy: 0.8279 - val_loss: 0.7419 - val_accuracy: 0.7246 - lr: 0.0010 - 9s/epoch - 50ms/step
Epoch 25/75
176/176 - 9s - loss: 0.4583 - accuracy: 0.8291 - val_loss: 0.7195 - val_accuracy: 0.7273 - lr: 0.0010 - 9s/epoch - 50ms/step
Epoch 26/75
176/176 - 9s - loss: 0.4617 - accuracy: 0.8272 - val_loss: 0.7810 - val_accuracy: 0.7124 - lr: 0.0010 - 9s/epoch - 50ms/step
Epoch 27/75
176/176 - 9s - loss: 0.4633 - accuracy: 0.8275 - val_loss: 0.7029 - val_accuracy: 0.7378 - lr: 0.0010 - 9s/epoch - 50ms/step
Epoch 28/75
176/176 - 9s - loss: 0.4582 - accuracy: 0.8289 - val_loss: 0.7306 - val_accuracy: 0.7300 - lr: 0.0010 - 9s/epoch - 50ms/step
Epoch 29/75
176/176 - 9s - loss: 0.4545 - accuracy: 0.8300 - val_loss: 0.7797 - val_accuracy: 0.7032 - lr: 0.0010 - 9s/epoch - 50ms/step
Epoch 30/75
176/176 - 9s - loss: 0.4547 - accuracy: 0.8323 - val_loss: 0.7727 - val_accuracy: 0.7028 - lr: 0.0010 - 9s/epoch - 50ms/step
Epoch 31/75
176/176 - 9s - loss: 0.4565 - accuracy: 0.8301 - val_loss: 0.7649 - val_accuracy: 0.7110 - lr: 0.0010 - 9s/epoch - 49ms/step
Epoch 32/75
176/176 - 9s - loss: 0.4519 - accuracy: 0.8320 - val_loss: 0.8012 - val_accuracy: 0.6968 - lr: 0.0010 - 9s/epoch - 50ms/step
Epoch 33/75
176/176 - 9s - loss: 0.4541 - accuracy: 0.8312 - val_loss: 0.7054 - val_accuracy: 0.7321 - lr: 0.0010 - 9s/epoch - 50ms/step
Epoch 34/75
176/176 - 9s - loss: 0.4689 - accuracy: 0.8257 - val_loss: 0.7032 - val_accuracy: 0.7367 - lr: 0.0010 - 9s/epoch - 50ms/step
Epoch 35/75
176/176 - 9s - loss: 0.4518 - accuracy: 0.8319 - val_loss: 0.7250 - val_accuracy: 0.7332 - lr: 0.0010 - 9s/epoch - 50ms/step
Epoch 36/75
176/176 - 9s - loss: 0.4499 - accuracy: 0.8319 - val_loss: 0.7600 - val_accuracy: 0.7156 - lr: 0.0010 - 9s/epoch - 50ms/step
Epoch 37/75
176/176 - 9s - loss: 0.4562 - accuracy: 0.8296 - val_loss: 0.7963 - val_accuracy: 0.6921 - lr: 0.0010 - 9s/epoch - 50ms/step
Epoch 38/75
176/176 - 9s - loss: 0.4519 - accuracy: 0.8317 - val_loss: 0.7371 - val_accuracy: 0.7188 - lr: 0.0010 - 9s/epoch - 50ms/step
Epoch 39/75
176/176 - 9s - loss: 0.4483 - accuracy: 0.8339 - val_loss: 0.7794 - val_accuracy: 0.7006 - lr: 0.0010 - 9s/epoch - 50ms/step
Epoch 40/75
176/176 - 9s - loss: 0.4518 - accuracy: 0.8320 - val_loss: 0.7678 - val_accuracy: 0.7104 - lr: 0.0010 - 9s/epoch - 50ms/step
Epoch 41/75
176/176 - 9s - loss: 0.4533 - accuracy: 0.8315 - val_loss: 0.7808 - val_accuracy: 0.6999 - lr: 0.0010 - 9s/epoch - 50ms/step
Epoch 42/75
176/176 - 9s - loss: 0.4504 - accuracy: 0.8325 - val_loss: 0.7954 - val_accuracy: 0.6925 - lr: 0.0010 - 9s/epoch - 50ms/step
Epoch 43/75
176/176 - 9s - loss: 0.4465 - accuracy: 0.8343 - val_loss: 0.7524 - val_accuracy: 0.7105 - lr: 0.0010 - 9s/epoch - 50ms/step
Epoch 44/75
176/176 - 9s - loss: 0.4499 - accuracy: 0.8325 - val_loss: 0.7667 - val_accuracy: 0.7140 - lr: 0.0010 - 9s/epoch - 50ms/step
Epoch 45/75
176/176 - 9s - loss: 0.4450 - accuracy: 0.8343 - val_loss: 0.7545 - val_accuracy: 0.7186 - lr: 0.0010 - 9s/epoch - 50ms/step
Epoch 46/75
176/176 - 9s - loss: 0.4520 - accuracy: 0.8315 - val_loss: 0.7088 - val_accuracy: 0.7468 - lr: 0.0010 - 9s/epoch - 50ms/step
Epoch 47/75
176/176 - 9s - loss: 0.4458 - accuracy: 0.8341 - val_loss: 0.7527 - val_accuracy: 0.7138 - lr: 0.0010 - 9s/epoch - 50ms/step
Epoch 48/75
176/176 - 9s - loss: 0.4459 - accuracy: 0.8346 - val_loss: 0.7314 - val_accuracy: 0.7314 - lr: 0.0010 - 9s/epoch - 50ms/step
Epoch 49/75
176/176 - 9s - loss: 0.4559 - accuracy: 0.8310 - val_loss: 0.7757 - val_accuracy: 0.6998 - lr: 0.0010 - 9s/epoch - 50ms/step
Epoch 50/75
176/176 - 9s - loss: 0.4447 - accuracy: 0.8335 - val_loss: 0.7273 - val_accuracy: 0.7241 - lr: 0.0010 - 9s/epoch - 50ms/step
Epoch 51/75
176/176 - 9s - loss: 0.4418 - accuracy: 0.8358 - val_loss: 0.7614 - val_accuracy: 0.7081 - lr: 0.0010 - 9s/epoch - 50ms/step
Epoch 52/75
176/176 - 9s - loss: 0.4429 - accuracy: 0.8352 - val_loss: 0.7191 - val_accuracy: 0.7359 - lr: 0.0010 - 9s/epoch - 50ms/step
Epoch 53/75
176/176 - 9s - loss: 0.4581 - accuracy: 0.8294 - val_loss: 0.8112 - val_accuracy: 0.6852 - lr: 0.0010 - 9s/epoch - 50ms/step
Epoch 54/75
176/176 - 9s - loss: 0.4457 - accuracy: 0.8342 - val_loss: 0.6689 - val_accuracy: 0.7584 - lr: 0.0010 - 9s/epoch - 50ms/step
Epoch 55/75
176/176 - 9s - loss: 0.4376 - accuracy: 0.8372 - val_loss: 0.7811 - val_accuracy: 0.7036 - lr: 0.0010 - 9s/epoch - 50ms/step
Epoch 56/75
176/176 - 9s - loss: 0.4436 - accuracy: 0.8354 - val_loss: 0.7578 - val_accuracy: 0.7171 - lr: 0.0010 - 9s/epoch - 50ms/step
Epoch 57/75
176/176 - 9s - loss: 0.4589 - accuracy: 0.8297 - val_loss: 0.7484 - val_accuracy: 0.7270 - lr: 0.0010 - 9s/epoch - 50ms/step
Epoch 58/75
176/176 - 9s - loss: 0.4413 - accuracy: 0.8358 - val_loss: 0.7338 - val_accuracy: 0.7302 - lr: 0.0010 - 9s/epoch - 50ms/step
Epoch 59/75
176/176 - 9s - loss: 0.4424 - accuracy: 0.8369 - val_loss: 0.7434 - val_accuracy: 0.7279 - lr: 0.0010 - 9s/epoch - 50ms/step
Epoch 60/75
176/176 - 9s - loss: 0.4373 - accuracy: 0.8369 - val_loss: 0.7212 - val_accuracy: 0.7375 - lr: 0.0010 - 9s/epoch - 50ms/step
Epoch 61/75
176/176 - 9s - loss: 0.4363 - accuracy: 0.8385 - val_loss: 0.7304 - val_accuracy: 0.7294 - lr: 0.0010 - 9s/epoch - 50ms/step
Epoch 62/75
176/176 - 9s - loss: 0.4392 - accuracy: 0.8368 - val_loss: 0.7959 - val_accuracy: 0.7058 - lr: 0.0010 - 9s/epoch - 50ms/step
Epoch 63/75
176/176 - 9s - loss: 0.4382 - accuracy: 0.8374 - val_loss: 0.7222 - val_accuracy: 0.7396 - lr: 0.0010 - 9s/epoch - 50ms/step
Epoch 64/75
176/176 - 9s - loss: 0.4386 - accuracy: 0.8374 - val_loss: 0.7027 - val_accuracy: 0.7492 - lr: 0.0010 - 9s/epoch - 49ms/step
Epoch 65/75
176/176 - 9s - loss: 0.4422 - accuracy: 0.8357 - val_loss: 0.7995 - val_accuracy: 0.6862 - lr: 0.0010 - 9s/epoch - 50ms/step
Epoch 66/75
176/176 - 9s - loss: 0.4394 - accuracy: 0.8364 - val_loss: 0.7413 - val_accuracy: 0.7363 - lr: 0.0010 - 9s/epoch - 50ms/step
Epoch 67/75
176/176 - 9s - loss: 0.4367 - accuracy: 0.8383 - val_loss: 0.7869 - val_accuracy: 0.7031 - lr: 0.0010 - 9s/epoch - 50ms/step
Epoch 68/75
176/176 - 9s - loss: 0.4367 - accuracy: 0.8371 - val_loss: 0.7506 - val_accuracy: 0.7281 - lr: 0.0010 - 9s/epoch - 50ms/step
Epoch 69/75
176/176 - 9s - loss: 0.4409 - accuracy: 0.8359 - val_loss: 0.7604 - val_accuracy: 0.7158 - lr: 0.0010 - 9s/epoch - 50ms/step
Epoch 70/75
176/176 - 9s - loss: 0.4399 - accuracy: 0.8381 - val_loss: 0.7796 - val_accuracy: 0.7070 - lr: 0.0010 - 9s/epoch - 50ms/step
Epoch 71/75
176/176 - 9s - loss: 0.4375 - accuracy: 0.8367 - val_loss: 0.7796 - val_accuracy: 0.6987 - lr: 0.0010 - 9s/epoch - 50ms/step
Epoch 72/75
176/176 - 9s - loss: 0.4462 - accuracy: 0.8350 - val_loss: 0.7484 - val_accuracy: 0.7146 - lr: 0.0010 - 9s/epoch - 50ms/step
Epoch 73/75
176/176 - 9s - loss: 0.4463 - accuracy: 0.8349 - val_loss: 0.7589 - val_accuracy: 0.7109 - lr: 0.0010 - 9s/epoch - 50ms/step
Epoch 74/75
176/176 - 9s - loss: 0.4352 - accuracy: 0.8392 - val_loss: 0.7170 - val_accuracy: 0.7402 - lr: 0.0010 - 9s/epoch - 50ms/step
Epoch 75/75
176/176 - 9s - loss: 0.4353 - accuracy: 0.8390 - val_loss: 0.7682 - val_accuracy: 0.7171 - lr: 0.0010 - 9s/epoch - 50ms/step
fitting with batch size: 1500
Epoch 1/75
59/59 - 10s - loss: 0.4213 - accuracy: 0.8443 - val_loss: 0.7463 - val_accuracy: 0.7244 - lr: 0.0010 - 10s/epoch - 170ms/step
Epoch 2/75
59/59 - 8s - loss: 0.4066 - accuracy: 0.8509 - val_loss: 0.7652 - val_accuracy: 0.7120 - lr: 0.0010 - 8s/epoch - 132ms/step
Epoch 3/75
59/59 - 8s - loss: 0.4052 - accuracy: 0.8509 - val_loss: 0.7693 - val_accuracy: 0.7141 - lr: 0.0010 - 8s/epoch - 132ms/step
Epoch 4/75
59/59 - 8s - loss: 0.4093 - accuracy: 0.8485 - val_loss: 0.7690 - val_accuracy: 0.7117 - lr: 0.0010 - 8s/epoch - 132ms/step
Epoch 5/75
59/59 - 8s - loss: 0.4071 - accuracy: 0.8504 - val_loss: 0.7651 - val_accuracy: 0.7151 - lr: 0.0010 - 8s/epoch - 132ms/step
Epoch 6/75
59/59 - 8s - loss: 0.4082 - accuracy: 0.8499 - val_loss: 0.7994 - val_accuracy: 0.6914 - lr: 0.0010 - 8s/epoch - 132ms/step
Epoch 7/75
59/59 - 8s - loss: 0.4138 - accuracy: 0.8475 - val_loss: 0.7896 - val_accuracy: 0.6952 - lr: 0.0010 - 8s/epoch - 131ms/step
Epoch 8/75
59/59 - 8s - loss: 0.4096 - accuracy: 0.8491 - val_loss: 0.7450 - val_accuracy: 0.7213 - lr: 0.0010 - 8s/epoch - 132ms/step
Epoch 9/75
59/59 - 8s - loss: 0.4089 - accuracy: 0.8497 - val_loss: 0.7559 - val_accuracy: 0.7163 - lr: 0.0010 - 8s/epoch - 132ms/step
Epoch 10/75
59/59 - 8s - loss: 0.4167 - accuracy: 0.8454 - val_loss: 0.7503 - val_accuracy: 0.7198 - lr: 0.0010 - 8s/epoch - 132ms/step
Epoch 11/75
59/59 - 8s - loss: 0.4035 - accuracy: 0.8515 - val_loss: 0.7754 - val_accuracy: 0.7074 - lr: 0.0010 - 8s/epoch - 132ms/step
Epoch 12/75
59/59 - 8s - loss: 0.4044 - accuracy: 0.8510 - val_loss: 0.7942 - val_accuracy: 0.6940 - lr: 0.0010 - 8s/epoch - 132ms/step
Epoch 13/75
59/59 - 8s - loss: 0.4026 - accuracy: 0.8520 - val_loss: 0.7645 - val_accuracy: 0.7113 - lr: 0.0010 - 8s/epoch - 132ms/step
Epoch 14/75
59/59 - 8s - loss: 0.4031 - accuracy: 0.8523 - val_loss: 0.7793 - val_accuracy: 0.7022 - lr: 0.0010 - 8s/epoch - 131ms/step
Epoch 15/75
59/59 - 8s - loss: 0.4037 - accuracy: 0.8515 - val_loss: 0.8035 - val_accuracy: 0.7008 - lr: 0.0010 - 8s/epoch - 132ms/step
Epoch 16/75
59/59 - 8s - loss: 0.4044 - accuracy: 0.8513 - val_loss: 0.7676 - val_accuracy: 0.7064 - lr: 0.0010 - 8s/epoch - 132ms/step
Epoch 17/75
59/59 - 8s - loss: 0.4143 - accuracy: 0.8474 - val_loss: 0.7806 - val_accuracy: 0.7117 - lr: 0.0010 - 8s/epoch - 132ms/step
Epoch 18/75
59/59 - 8s - loss: 0.4080 - accuracy: 0.8494 - val_loss: 0.7807 - val_accuracy: 0.6995 - lr: 0.0010 - 8s/epoch - 132ms/step
Epoch 19/75
59/59 - 8s - loss: 0.4019 - accuracy: 0.8522 - val_loss: 0.7728 - val_accuracy: 0.7072 - lr: 0.0010 - 8s/epoch - 131ms/step
Epoch 20/75
59/59 - 8s - loss: 0.3991 - accuracy: 0.8533 - val_loss: 0.7876 - val_accuracy: 0.7088 - lr: 0.0010 - 8s/epoch - 132ms/step
Epoch 21/75
59/59 - 8s - loss: 0.3994 - accuracy: 0.8539 - val_loss: 0.7935 - val_accuracy: 0.7026 - lr: 0.0010 - 8s/epoch - 132ms/step
Epoch 22/75
59/59 - 8s - loss: 0.4017 - accuracy: 0.8528 - val_loss: 0.7637 - val_accuracy: 0.7105 - lr: 0.0010 - 8s/epoch - 131ms/step
Epoch 23/75
59/59 - 8s - loss: 0.3994 - accuracy: 0.8537 - val_loss: 0.7769 - val_accuracy: 0.7117 - lr: 0.0010 - 8s/epoch - 132ms/step
Epoch 24/75
59/59 - 8s - loss: 0.4095 - accuracy: 0.8502 - val_loss: 0.7914 - val_accuracy: 0.7028 - lr: 0.0010 - 8s/epoch - 132ms/step
Epoch 25/75
59/59 - 8s - loss: 0.4001 - accuracy: 0.8522 - val_loss: 0.8022 - val_accuracy: 0.6977 - lr: 0.0010 - 8s/epoch - 131ms/step
Epoch 26/75
59/59 - 8s - loss: 0.3998 - accuracy: 0.8524 - val_loss: 0.7897 - val_accuracy: 0.6996 - lr: 0.0010 - 8s/epoch - 132ms/step
Epoch 27/75
59/59 - 8s - loss: 0.4017 - accuracy: 0.8521 - val_loss: 0.7907 - val_accuracy: 0.7056 - lr: 0.0010 - 8s/epoch - 132ms/step
Epoch 28/75
59/59 - 8s - loss: 0.3976 - accuracy: 0.8536 - val_loss: 0.7716 - val_accuracy: 0.7141 - lr: 0.0010 - 8s/epoch - 132ms/step
Epoch 29/75
59/59 - 8s - loss: 0.3977 - accuracy: 0.8542 - val_loss: 0.7783 - val_accuracy: 0.7072 - lr: 0.0010 - 8s/epoch - 131ms/step
Epoch 30/75
59/59 - 8s - loss: 0.3971 - accuracy: 0.8540 - val_loss: 0.7791 - val_accuracy: 0.7120 - lr: 0.0010 - 8s/epoch - 132ms/step
Epoch 31/75
59/59 - 8s - loss: 0.3932 - accuracy: 0.8570 - val_loss: 0.8117 - val_accuracy: 0.6889 - lr: 0.0010 - 8s/epoch - 132ms/step
Epoch 32/75
59/59 - 8s - loss: 0.3973 - accuracy: 0.8539 - val_loss: 0.7817 - val_accuracy: 0.7148 - lr: 0.0010 - 8s/epoch - 131ms/step
Epoch 33/75
59/59 - 8s - loss: 0.3978 - accuracy: 0.8534 - val_loss: 0.7822 - val_accuracy: 0.7069 - lr: 0.0010 - 8s/epoch - 132ms/step
Epoch 34/75
59/59 - 8s - loss: 0.3981 - accuracy: 0.8532 - val_loss: 0.7898 - val_accuracy: 0.7024 - lr: 0.0010 - 8s/epoch - 132ms/step
Epoch 35/75
59/59 - 8s - loss: 0.3956 - accuracy: 0.8547 - val_loss: 0.7798 - val_accuracy: 0.7096 - lr: 0.0010 - 8s/epoch - 132ms/step
Epoch 36/75
59/59 - 8s - loss: 0.3960 - accuracy: 0.8548 - val_loss: 0.7751 - val_accuracy: 0.7037 - lr: 0.0010 - 8s/epoch - 132ms/step
Epoch 37/75
59/59 - 8s - loss: 0.3965 - accuracy: 0.8547 - val_loss: 0.7870 - val_accuracy: 0.7054 - lr: 0.0010 - 8s/epoch - 132ms/step
Epoch 38/75
59/59 - 8s - loss: 0.4010 - accuracy: 0.8517 - val_loss: 0.7900 - val_accuracy: 0.7058 - lr: 0.0010 - 8s/epoch - 132ms/step
Epoch 39/75
59/59 - 8s - loss: 0.3948 - accuracy: 0.8550 - val_loss: 0.7909 - val_accuracy: 0.7034 - lr: 0.0010 - 8s/epoch - 132ms/step
Epoch 40/75
59/59 - 8s - loss: 0.3928 - accuracy: 0.8560 - val_loss: 0.7993 - val_accuracy: 0.7021 - lr: 0.0010 - 8s/epoch - 133ms/step
Epoch 41/75
59/59 - 8s - loss: 0.3943 - accuracy: 0.8547 - val_loss: 0.8229 - val_accuracy: 0.6942 - lr: 0.0010 - 8s/epoch - 133ms/step
Epoch 42/75
59/59 - 8s - loss: 0.3915 - accuracy: 0.8557 - val_loss: 0.7867 - val_accuracy: 0.7122 - lr: 0.0010 - 8s/epoch - 133ms/step
Epoch 43/75
59/59 - 8s - loss: 0.3937 - accuracy: 0.8553 - val_loss: 0.8279 - val_accuracy: 0.6823 - lr: 0.0010 - 8s/epoch - 133ms/step
Epoch 44/75
59/59 - 8s - loss: 0.3941 - accuracy: 0.8556 - val_loss: 0.8193 - val_accuracy: 0.6976 - lr: 0.0010 - 8s/epoch - 133ms/step
Epoch 45/75
59/59 - 8s - loss: 0.3920 - accuracy: 0.8560 - val_loss: 0.8552 - val_accuracy: 0.6806 - lr: 0.0010 - 8s/epoch - 134ms/step
Epoch 46/75
59/59 - 8s - loss: 0.3964 - accuracy: 0.8543 - val_loss: 0.8117 - val_accuracy: 0.6972 - lr: 0.0010 - 8s/epoch - 133ms/step
Epoch 47/75
59/59 - 8s - loss: 0.3926 - accuracy: 0.8554 - val_loss: 0.7605 - val_accuracy: 0.7187 - lr: 0.0010 - 8s/epoch - 133ms/step
Epoch 48/75
59/59 - 8s - loss: 0.3915 - accuracy: 0.8569 - val_loss: 0.8236 - val_accuracy: 0.6939 - lr: 0.0010 - 8s/epoch - 132ms/step
Epoch 49/75
59/59 - 8s - loss: 0.3912 - accuracy: 0.8553 - val_loss: 0.7820 - val_accuracy: 0.7138 - lr: 0.0010 - 8s/epoch - 132ms/step
Epoch 50/75
59/59 - 8s - loss: 0.3935 - accuracy: 0.8555 - val_loss: 0.7991 - val_accuracy: 0.6949 - lr: 0.0010 - 8s/epoch - 132ms/step
Epoch 51/75
59/59 - 8s - loss: 0.3907 - accuracy: 0.8562 - val_loss: 0.8157 - val_accuracy: 0.6960 - lr: 0.0010 - 8s/epoch - 132ms/step
Epoch 52/75
59/59 - 8s - loss: 0.3918 - accuracy: 0.8559 - val_loss: 0.7977 - val_accuracy: 0.7155 - lr: 0.0010 - 8s/epoch - 132ms/step
Epoch 53/75
59/59 - 8s - loss: 0.3927 - accuracy: 0.8554 - val_loss: 0.7899 - val_accuracy: 0.7000 - lr: 0.0010 - 8s/epoch - 132ms/step
Epoch 54/75
59/59 - 8s - loss: 0.3914 - accuracy: 0.8559 - val_loss: 0.7621 - val_accuracy: 0.7109 - lr: 0.0010 - 8s/epoch - 133ms/step
Epoch 55/75
59/59 - 8s - loss: 0.3941 - accuracy: 0.8547 - val_loss: 0.7934 - val_accuracy: 0.7048 - lr: 0.0010 - 8s/epoch - 132ms/step
Epoch 56/75
59/59 - 8s - loss: 0.3879 - accuracy: 0.8584 - val_loss: 0.8267 - val_accuracy: 0.6871 - lr: 0.0010 - 8s/epoch - 132ms/step
Epoch 57/75
59/59 - 8s - loss: 0.3872 - accuracy: 0.8577 - val_loss: 0.8067 - val_accuracy: 0.7007 - lr: 0.0010 - 8s/epoch - 132ms/step
Epoch 58/75
59/59 - 8s - loss: 0.3878 - accuracy: 0.8579 - val_loss: 0.7915 - val_accuracy: 0.7137 - lr: 0.0010 - 8s/epoch - 132ms/step
Epoch 59/75
59/59 - 8s - loss: 0.3875 - accuracy: 0.8568 - val_loss: 0.8054 - val_accuracy: 0.6982 - lr: 0.0010 - 8s/epoch - 132ms/step
Epoch 60/75
59/59 - 8s - loss: 0.3892 - accuracy: 0.8559 - val_loss: 0.7714 - val_accuracy: 0.7111 - lr: 0.0010 - 8s/epoch - 132ms/step
Epoch 61/75
59/59 - 8s - loss: 0.3900 - accuracy: 0.8569 - val_loss: 0.7926 - val_accuracy: 0.7012 - lr: 0.0010 - 8s/epoch - 132ms/step
Epoch 62/75
59/59 - 8s - loss: 0.3884 - accuracy: 0.8575 - val_loss: 0.8159 - val_accuracy: 0.6957 - lr: 0.0010 - 8s/epoch - 132ms/step
Epoch 63/75
59/59 - 8s - loss: 0.3886 - accuracy: 0.8575 - val_loss: 0.8271 - val_accuracy: 0.6884 - lr: 0.0010 - 8s/epoch - 132ms/step
Epoch 64/75
59/59 - 8s - loss: 0.3873 - accuracy: 0.8580 - val_loss: 0.8178 - val_accuracy: 0.6866 - lr: 0.0010 - 8s/epoch - 132ms/step
Epoch 65/75
59/59 - 8s - loss: 0.3838 - accuracy: 0.8595 - val_loss: 0.8506 - val_accuracy: 0.6801 - lr: 0.0010 - 8s/epoch - 132ms/step
Epoch 66/75
59/59 - 8s - loss: 0.3876 - accuracy: 0.8575 - val_loss: 0.7979 - val_accuracy: 0.7001 - lr: 0.0010 - 8s/epoch - 132ms/step
Epoch 67/75
59/59 - 8s - loss: 0.3896 - accuracy: 0.8570 - val_loss: 0.8312 - val_accuracy: 0.6858 - lr: 0.0010 - 8s/epoch - 132ms/step
Epoch 68/75
59/59 - 8s - loss: 0.3842 - accuracy: 0.8600 - val_loss: 0.8536 - val_accuracy: 0.6848 - lr: 0.0010 - 8s/epoch - 132ms/step
Epoch 69/75
59/59 - 8s - loss: 0.3872 - accuracy: 0.8567 - val_loss: 0.8271 - val_accuracy: 0.6818 - lr: 0.0010 - 8s/epoch - 132ms/step
Epoch 70/75
59/59 - 8s - loss: 0.3853 - accuracy: 0.8589 - val_loss: 0.7908 - val_accuracy: 0.7057 - lr: 0.0010 - 8s/epoch - 132ms/step
Epoch 71/75
59/59 - 8s - loss: 0.4057 - accuracy: 0.8490 - val_loss: 0.7814 - val_accuracy: 0.7111 - lr: 0.0010 - 8s/epoch - 132ms/step
Epoch 72/75
59/59 - 8s - loss: 0.3886 - accuracy: 0.8576 - val_loss: 0.8139 - val_accuracy: 0.7011 - lr: 0.0010 - 8s/epoch - 132ms/step
Epoch 73/75
59/59 - 8s - loss: 0.3844 - accuracy: 0.8588 - val_loss: 0.8341 - val_accuracy: 0.6831 - lr: 0.0010 - 8s/epoch - 132ms/step
Epoch 74/75
59/59 - 8s - loss: 0.3862 - accuracy: 0.8584 - val_loss: 0.8062 - val_accuracy: 0.6987 - lr: 0.0010 - 8s/epoch - 132ms/step
Epoch 75/75
59/59 - 8s - loss: 0.3816 - accuracy: 0.8603 - val_loss: 0.8379 - val_accuracy: 0.6901 - lr: 0.0010 - 8s/epoch - 132ms/step
fitting with batch size: 2500
Epoch 1/75
36/36 - 10s - loss: 0.3776 - accuracy: 0.8615 - val_loss: 0.8155 - val_accuracy: 0.6957 - lr: 0.0010 - 10s/epoch - 280ms/step
Epoch 2/75
36/36 - 8s - loss: 0.3818 - accuracy: 0.8597 - val_loss: 0.8373 - val_accuracy: 0.6885 - lr: 0.0010 - 8s/epoch - 215ms/step
Epoch 3/75
36/36 - 8s - loss: 0.3857 - accuracy: 0.8581 - val_loss: 0.8450 - val_accuracy: 0.6777 - lr: 0.0010 - 8s/epoch - 215ms/step
Epoch 4/75
36/36 - 8s - loss: 0.3849 - accuracy: 0.8594 - val_loss: 0.8544 - val_accuracy: 0.6800 - lr: 0.0010 - 8s/epoch - 215ms/step
Epoch 5/75
36/36 - 8s - loss: 0.4069 - accuracy: 0.8486 - val_loss: 0.8198 - val_accuracy: 0.6931 - lr: 0.0010 - 8s/epoch - 216ms/step
Epoch 6/75
36/36 - 8s - loss: 0.3830 - accuracy: 0.8591 - val_loss: 0.8081 - val_accuracy: 0.6966 - lr: 0.0010 - 8s/epoch - 215ms/step
Epoch 7/75
36/36 - 8s - loss: 0.4059 - accuracy: 0.8485 - val_loss: 0.7993 - val_accuracy: 0.6950 - lr: 0.0010 - 8s/epoch - 215ms/step
Epoch 8/75
36/36 - 8s - loss: 0.3871 - accuracy: 0.8574 - val_loss: 0.8165 - val_accuracy: 0.6942 - lr: 0.0010 - 8s/epoch - 215ms/step
Epoch 9/75
36/36 - 8s - loss: 0.3741 - accuracy: 0.8624 - val_loss: 0.7960 - val_accuracy: 0.6998 - lr: 0.0010 - 8s/epoch - 216ms/step
Epoch 10/75
36/36 - 8s - loss: 0.3820 - accuracy: 0.8585 - val_loss: 0.8061 - val_accuracy: 0.7007 - lr: 0.0010 - 8s/epoch - 215ms/step
Epoch 11/75
36/36 - 8s - loss: 0.3914 - accuracy: 0.8554 - val_loss: 0.8223 - val_accuracy: 0.6863 - lr: 0.0010 - 8s/epoch - 215ms/step
Epoch 12/75
36/36 - 8s - loss: 0.3815 - accuracy: 0.8609 - val_loss: 0.8035 - val_accuracy: 0.7003 - lr: 0.0010 - 8s/epoch - 215ms/step
Epoch 13/75
36/36 - 8s - loss: 0.3760 - accuracy: 0.8627 - val_loss: 0.7906 - val_accuracy: 0.7037 - lr: 0.0010 - 8s/epoch - 216ms/step
Epoch 14/75
36/36 - 8s - loss: 0.3836 - accuracy: 0.8597 - val_loss: 0.8194 - val_accuracy: 0.6929 - lr: 0.0010 - 8s/epoch - 215ms/step
Epoch 15/75
36/36 - 8s - loss: 0.3774 - accuracy: 0.8620 - val_loss: 0.8340 - val_accuracy: 0.6864 - lr: 0.0010 - 8s/epoch - 215ms/step
Epoch 16/75
36/36 - 8s - loss: 0.3861 - accuracy: 0.8584 - val_loss: 0.8102 - val_accuracy: 0.6942 - lr: 0.0010 - 8s/epoch - 215ms/step
Epoch 17/75
36/36 - 8s - loss: 0.3862 - accuracy: 0.8580 - val_loss: 0.8251 - val_accuracy: 0.6925 - lr: 0.0010 - 8s/epoch - 215ms/step
Epoch 18/75
36/36 - 8s - loss: 0.3828 - accuracy: 0.8605 - val_loss: 0.7822 - val_accuracy: 0.7150 - lr: 0.0010 - 8s/epoch - 215ms/step
Epoch 19/75
36/36 - 8s - loss: 0.3971 - accuracy: 0.8536 - val_loss: 0.7909 - val_accuracy: 0.7062 - lr: 0.0010 - 8s/epoch - 215ms/step
Epoch 20/75
36/36 - 8s - loss: 0.3765 - accuracy: 0.8616 - val_loss: 0.8137 - val_accuracy: 0.6967 - lr: 0.0010 - 8s/epoch - 215ms/step
Epoch 21/75
36/36 - 8s - loss: 0.3791 - accuracy: 0.8605 - val_loss: 0.8195 - val_accuracy: 0.6924 - lr: 0.0010 - 8s/epoch - 215ms/step
Epoch 22/75
36/36 - 8s - loss: 0.3751 - accuracy: 0.8634 - val_loss: 0.7817 - val_accuracy: 0.7101 - lr: 0.0010 - 8s/epoch - 215ms/step
Epoch 23/75
36/36 - 8s - loss: 0.3828 - accuracy: 0.8596 - val_loss: 0.8299 - val_accuracy: 0.6898 - lr: 0.0010 - 8s/epoch - 215ms/step
Epoch 24/75
36/36 - 8s - loss: 0.3793 - accuracy: 0.8602 - val_loss: 0.7983 - val_accuracy: 0.7016 - lr: 0.0010 - 8s/epoch - 215ms/step
Epoch 25/75
36/36 - 8s - loss: 0.4022 - accuracy: 0.8502 - val_loss: 0.7593 - val_accuracy: 0.7172 - lr: 0.0010 - 8s/epoch - 215ms/step
Epoch 26/75
36/36 - 8s - loss: 0.3873 - accuracy: 0.8579 - val_loss: 0.7946 - val_accuracy: 0.7043 - lr: 0.0010 - 8s/epoch - 216ms/step
Epoch 27/75
36/36 - 8s - loss: 0.3849 - accuracy: 0.8573 - val_loss: 0.8132 - val_accuracy: 0.6977 - lr: 0.0010 - 8s/epoch - 215ms/step
Epoch 28/75
36/36 - 8s - loss: 0.3783 - accuracy: 0.8611 - val_loss: 0.7955 - val_accuracy: 0.7086 - lr: 0.0010 - 8s/epoch - 215ms/step
Epoch 29/75
36/36 - 8s - loss: 0.3847 - accuracy: 0.8586 - val_loss: 0.7912 - val_accuracy: 0.7109 - lr: 0.0010 - 8s/epoch - 215ms/step
Epoch 30/75
36/36 - 8s - loss: 0.3822 - accuracy: 0.8594 - val_loss: 0.7586 - val_accuracy: 0.7220 - lr: 0.0010 - 8s/epoch - 216ms/step
Epoch 31/75
36/36 - 8s - loss: 0.3783 - accuracy: 0.8612 - val_loss: 0.7999 - val_accuracy: 0.7007 - lr: 0.0010 - 8s/epoch - 215ms/step
Epoch 32/75
36/36 - 8s - loss: 0.3750 - accuracy: 0.8629 - val_loss: 0.8121 - val_accuracy: 0.7026 - lr: 0.0010 - 8s/epoch - 215ms/step
Epoch 33/75
36/36 - 8s - loss: 0.3868 - accuracy: 0.8579 - val_loss: 0.8031 - val_accuracy: 0.7003 - lr: 0.0010 - 8s/epoch - 215ms/step
Epoch 34/75
36/36 - 8s - loss: 0.3764 - accuracy: 0.8621 - val_loss: 0.8108 - val_accuracy: 0.6998 - lr: 0.0010 - 8s/epoch - 216ms/step
Epoch 35/75
36/36 - 8s - loss: 0.3751 - accuracy: 0.8620 - val_loss: 0.8054 - val_accuracy: 0.7026 - lr: 0.0010 - 8s/epoch - 215ms/step
Epoch 36/75
36/36 - 8s - loss: 0.3834 - accuracy: 0.8601 - val_loss: 0.7754 - val_accuracy: 0.7178 - lr: 0.0010 - 8s/epoch - 215ms/step
Epoch 37/75
36/36 - 8s - loss: 0.3772 - accuracy: 0.8620 - val_loss: 0.7584 - val_accuracy: 0.7237 - lr: 0.0010 - 8s/epoch - 215ms/step
Epoch 38/75
36/36 - 8s - loss: 0.3764 - accuracy: 0.8615 - val_loss: 0.8250 - val_accuracy: 0.6992 - lr: 0.0010 - 8s/epoch - 216ms/step
Epoch 39/75
36/36 - 8s - loss: 0.3828 - accuracy: 0.8589 - val_loss: 0.8534 - val_accuracy: 0.6868 - lr: 0.0010 - 8s/epoch - 215ms/step
Epoch 40/75
36/36 - 8s - loss: 0.3785 - accuracy: 0.8609 - val_loss: 0.8455 - val_accuracy: 0.6864 - lr: 0.0010 - 8s/epoch - 215ms/step
Epoch 41/75
36/36 - 8s - loss: 0.3760 - accuracy: 0.8623 - val_loss: 0.7945 - val_accuracy: 0.7024 - lr: 0.0010 - 8s/epoch - 215ms/step
Epoch 42/75
36/36 - 8s - loss: 0.3744 - accuracy: 0.8631 - val_loss: 0.8629 - val_accuracy: 0.6779 - lr: 0.0010 - 8s/epoch - 216ms/step
Epoch 43/75
36/36 - 8s - loss: 0.3754 - accuracy: 0.8630 - val_loss: 0.8264 - val_accuracy: 0.6892 - lr: 0.0010 - 8s/epoch - 216ms/step
Epoch 44/75
36/36 - 8s - loss: 0.3736 - accuracy: 0.8631 - val_loss: 0.8164 - val_accuracy: 0.6949 - lr: 0.0010 - 8s/epoch - 215ms/step
Epoch 45/75
36/36 - 8s - loss: 0.3843 - accuracy: 0.8587 - val_loss: 0.8245 - val_accuracy: 0.6932 - lr: 0.0010 - 8s/epoch - 215ms/step
Epoch 46/75
36/36 - 8s - loss: 0.3750 - accuracy: 0.8633 - val_loss: 0.8344 - val_accuracy: 0.6913 - lr: 0.0010 - 8s/epoch - 215ms/step
Epoch 47/75
36/36 - 8s - loss: 0.3810 - accuracy: 0.8597 - val_loss: 0.8346 - val_accuracy: 0.6917 - lr: 0.0010 - 8s/epoch - 215ms/step
Epoch 48/75
36/36 - 8s - loss: 0.3770 - accuracy: 0.8620 - val_loss: 0.8183 - val_accuracy: 0.6951 - lr: 0.0010 - 8s/epoch - 215ms/step
Epoch 49/75
36/36 - 8s - loss: 0.3739 - accuracy: 0.8624 - val_loss: 0.8469 - val_accuracy: 0.6848 - lr: 0.0010 - 8s/epoch - 215ms/step
Epoch 50/75
36/36 - 8s - loss: 0.3745 - accuracy: 0.8630 - val_loss: 0.8011 - val_accuracy: 0.7003 - lr: 0.0010 - 8s/epoch - 215ms/step
Epoch 51/75
36/36 - 8s - loss: 0.3775 - accuracy: 0.8618 - val_loss: 0.8325 - val_accuracy: 0.6886 - lr: 0.0010 - 8s/epoch - 215ms/step
Epoch 52/75
36/36 - 8s - loss: 0.3734 - accuracy: 0.8631 - val_loss: 0.7739 - val_accuracy: 0.7095 - lr: 0.0010 - 8s/epoch - 215ms/step
Epoch 53/75
36/36 - 8s - loss: 0.3782 - accuracy: 0.8606 - val_loss: 0.8233 - val_accuracy: 0.6976 - lr: 0.0010 - 8s/epoch - 215ms/step
Epoch 54/75
36/36 - 8s - loss: 0.3749 - accuracy: 0.8634 - val_loss: 0.8223 - val_accuracy: 0.6929 - lr: 0.0010 - 8s/epoch - 215ms/step
Epoch 55/75
36/36 - 8s - loss: 0.3754 - accuracy: 0.8611 - val_loss: 0.8214 - val_accuracy: 0.6918 - lr: 0.0010 - 8s/epoch - 215ms/step
Epoch 56/75
36/36 - 8s - loss: 0.3694 - accuracy: 0.8650 - val_loss: 0.8292 - val_accuracy: 0.6943 - lr: 0.0010 - 8s/epoch - 215ms/step
Epoch 57/75
36/36 - 8s - loss: 0.3830 - accuracy: 0.8601 - val_loss: 0.8089 - val_accuracy: 0.7014 - lr: 0.0010 - 8s/epoch - 215ms/step
Epoch 58/75
36/36 - 8s - loss: 0.3791 - accuracy: 0.8609 - val_loss: 0.8262 - val_accuracy: 0.6979 - lr: 0.0010 - 8s/epoch - 217ms/step
Epoch 59/75
36/36 - 8s - loss: 0.3737 - accuracy: 0.8620 - val_loss: 0.8347 - val_accuracy: 0.6870 - lr: 0.0010 - 8s/epoch - 217ms/step
Epoch 60/75
36/36 - 8s - loss: 0.3775 - accuracy: 0.8618 - val_loss: 0.8251 - val_accuracy: 0.6971 - lr: 0.0010 - 8s/epoch - 215ms/step
Epoch 61/75
36/36 - 8s - loss: 0.3847 - accuracy: 0.8580 - val_loss: 0.7806 - val_accuracy: 0.7065 - lr: 0.0010 - 8s/epoch - 215ms/step
Epoch 62/75
36/36 - 8s - loss: 0.3717 - accuracy: 0.8642 - val_loss: 0.8416 - val_accuracy: 0.6804 - lr: 0.0010 - 8s/epoch - 216ms/step
Epoch 63/75
36/36 - 8s - loss: 0.3699 - accuracy: 0.8640 - val_loss: 0.8501 - val_accuracy: 0.6761 - lr: 0.0010 - 8s/epoch - 215ms/step
Epoch 64/75
36/36 - 8s - loss: 0.3816 - accuracy: 0.8601 - val_loss: 0.8190 - val_accuracy: 0.7090 - lr: 0.0010 - 8s/epoch - 215ms/step
Epoch 65/75
36/36 - 8s - loss: 0.3836 - accuracy: 0.8585 - val_loss: 0.8173 - val_accuracy: 0.6948 - lr: 0.0010 - 8s/epoch - 215ms/step
Epoch 66/75
36/36 - 8s - loss: 0.3796 - accuracy: 0.8603 - val_loss: 0.8002 - val_accuracy: 0.6956 - lr: 0.0010 - 8s/epoch - 216ms/step
Epoch 67/75
36/36 - 8s - loss: 0.3739 - accuracy: 0.8621 - val_loss: 0.8166 - val_accuracy: 0.6912 - lr: 0.0010 - 8s/epoch - 215ms/step
Epoch 68/75
36/36 - 8s - loss: 0.3749 - accuracy: 0.8634 - val_loss: 0.8263 - val_accuracy: 0.6893 - lr: 0.0010 - 8s/epoch - 215ms/step
Epoch 69/75
36/36 - 8s - loss: 0.3716 - accuracy: 0.8637 - val_loss: 0.8166 - val_accuracy: 0.6972 - lr: 0.0010 - 8s/epoch - 215ms/step
Epoch 70/75
36/36 - 8s - loss: 0.3731 - accuracy: 0.8631 - val_loss: 0.8203 - val_accuracy: 0.6971 - lr: 0.0010 - 8s/epoch - 215ms/step
Epoch 71/75
36/36 - 8s - loss: 0.3719 - accuracy: 0.8634 - val_loss: 0.8371 - val_accuracy: 0.6897 - lr: 0.0010 - 8s/epoch - 215ms/step
Epoch 72/75
36/36 - 8s - loss: 0.3693 - accuracy: 0.8650 - val_loss: 0.8478 - val_accuracy: 0.6822 - lr: 0.0010 - 8s/epoch - 215ms/step
Epoch 73/75
36/36 - 8s - loss: 0.3680 - accuracy: 0.8651 - val_loss: 0.8523 - val_accuracy: 0.6786 - lr: 0.0010 - 8s/epoch - 215ms/step
Epoch 74/75
36/36 - 8s - loss: 0.4027 - accuracy: 0.8520 - val_loss: 0.8116 - val_accuracy: 0.6989 - lr: 0.0010 - 8s/epoch - 216ms/step
Epoch 75/75
36/36 - 8s - loss: 0.3765 - accuracy: 0.8615 - val_loss: 0.8364 - val_accuracy: 0.6862 - lr: 0.0010 - 8s/epoch - 215ms/step
Epoch number: 100
fitting with batch size: 20
Epoch 1/100
4378/4378 - 75s - loss: 0.6961 - accuracy: 0.7446 - val_loss: 0.8308 - val_accuracy: 0.7408 - lr: 0.0010 - 75s/epoch - 17ms/step
Epoch 2/100
4378/4378 - 71s - loss: 0.7865 - accuracy: 0.7397 - val_loss: 0.7582 - val_accuracy: 0.7523 - lr: 0.0010 - 71s/epoch - 16ms/step
Epoch 3/100
4378/4378 - 71s - loss: 0.7144 - accuracy: 0.7384 - val_loss: 0.7124 - val_accuracy: 0.7637 - lr: 0.0010 - 71s/epoch - 16ms/step
Epoch 4/100
4378/4378 - 71s - loss: 0.6969 - accuracy: 0.7425 - val_loss: 0.6835 - val_accuracy: 0.7664 - lr: 0.0010 - 71s/epoch - 16ms/step
Epoch 5/100
4378/4378 - 71s - loss: 0.6806 - accuracy: 0.7467 - val_loss: 0.7551 - val_accuracy: 0.7514 - lr: 0.0010 - 71s/epoch - 16ms/step
Epoch 6/100
4378/4378 - 71s - loss: 0.6896 - accuracy: 0.7465 - val_loss: 0.6224 - val_accuracy: 0.7875 - lr: 0.0010 - 71s/epoch - 16ms/step
Epoch 7/100
4378/4378 - 71s - loss: 0.6946 - accuracy: 0.7458 - val_loss: 0.8104 - val_accuracy: 0.7217 - lr: 0.0010 - 71s/epoch - 16ms/step
Epoch 8/100
4378/4378 - 71s - loss: 0.6771 - accuracy: 0.7500 - val_loss: 0.7060 - val_accuracy: 0.7781 - lr: 0.0010 - 71s/epoch - 16ms/step
Epoch 9/100
4378/4378 - 71s - loss: 0.6789 - accuracy: 0.7483 - val_loss: 0.7690 - val_accuracy: 0.7210 - lr: 0.0010 - 71s/epoch - 16ms/step
Epoch 10/100
4378/4378 - 71s - loss: 0.7279 - accuracy: 0.7458 - val_loss: 1.1687 - val_accuracy: 0.4910 - lr: 0.0010 - 71s/epoch - 16ms/step
Epoch 11/100
4378/4378 - 71s - loss: 0.6980 - accuracy: 0.7429 - val_loss: 0.7573 - val_accuracy: 0.7459 - lr: 0.0010 - 71s/epoch - 16ms/step
Epoch 12/100
4378/4378 - 71s - loss: 0.7360 - accuracy: 0.7367 - val_loss: 0.7310 - val_accuracy: 0.7391 - lr: 0.0010 - 71s/epoch - 16ms/step
Epoch 13/100
4378/4378 - 71s - loss: 0.9669 - accuracy: 0.7440 - val_loss: 0.7519 - val_accuracy: 0.7374 - lr: 0.0010 - 71s/epoch - 16ms/step
Epoch 14/100
4378/4378 - 71s - loss: 0.6914 - accuracy: 0.7458 - val_loss: 0.7900 - val_accuracy: 0.7389 - lr: 0.0010 - 71s/epoch - 16ms/step
Epoch 15/100
4378/4378 - 71s - loss: 0.6856 - accuracy: 0.7459 - val_loss: 0.7490 - val_accuracy: 0.7470 - lr: 0.0010 - 71s/epoch - 16ms/step
Epoch 16/100
4378/4378 - 71s - loss: 0.7270 - accuracy: 0.7391 - val_loss: 0.7305 - val_accuracy: 0.7486 - lr: 0.0010 - 71s/epoch - 16ms/step
Epoch 17/100
4378/4378 - 71s - loss: 0.6829 - accuracy: 0.7467 - val_loss: 0.7311 - val_accuracy: 0.7452 - lr: 0.0010 - 71s/epoch - 16ms/step
Epoch 18/100
4378/4378 - 72s - loss: 0.6852 - accuracy: 0.7465 - val_loss: 0.8865 - val_accuracy: 0.6518 - lr: 0.0010 - 72s/epoch - 16ms/step
Epoch 19/100
4378/4378 - 72s - loss: 0.6952 - accuracy: 0.7434 - val_loss: 0.8568 - val_accuracy: 0.6963 - lr: 0.0010 - 72s/epoch - 16ms/step
Epoch 20/100
4378/4378 - 71s - loss: 0.6911 - accuracy: 0.7461 - val_loss: 0.7673 - val_accuracy: 0.7413 - lr: 0.0010 - 71s/epoch - 16ms/step
Epoch 21/100
4378/4378 - 71s - loss: 0.6880 - accuracy: 0.7453 - val_loss: 0.6858 - val_accuracy: 0.7552 - lr: 0.0010 - 71s/epoch - 16ms/step
Epoch 22/100
4378/4378 - 71s - loss: 0.6953 - accuracy: 0.7437 - val_loss: 0.8120 - val_accuracy: 0.7505 - lr: 0.0010 - 71s/epoch - 16ms/step
Epoch 23/100
4378/4378 - 71s - loss: 0.6888 - accuracy: 0.7458 - val_loss: 0.8588 - val_accuracy: 0.6910 - lr: 0.0010 - 71s/epoch - 16ms/step
Epoch 24/100
4378/4378 - 71s - loss: 0.6851 - accuracy: 0.7462 - val_loss: 0.7320 - val_accuracy: 0.7318 - lr: 0.0010 - 71s/epoch - 16ms/step
Epoch 25/100
4378/4378 - 74s - loss: 0.6848 - accuracy: 0.7465 - val_loss: 0.7450 - val_accuracy: 0.7618 - lr: 0.0010 - 74s/epoch - 17ms/step
Epoch 26/100
4378/4378 - 71s - loss: 0.6900 - accuracy: 0.7452 - val_loss: 0.8673 - val_accuracy: 0.6767 - lr: 0.0010 - 71s/epoch - 16ms/step
Epoch 27/100
4378/4378 - 71s - loss: 0.6906 - accuracy: 0.7433 - val_loss: 0.7043 - val_accuracy: 0.7769 - lr: 0.0010 - 71s/epoch - 16ms/step
Epoch 28/100
4378/4378 - 71s - loss: 0.6990 - accuracy: 0.7440 - val_loss: 0.7617 - val_accuracy: 0.7283 - lr: 0.0010 - 71s/epoch - 16ms/step
Epoch 29/100
4378/4378 - 71s - loss: 0.6980 - accuracy: 0.7417 - val_loss: 0.8348 - val_accuracy: 0.6706 - lr: 0.0010 - 71s/epoch - 16ms/step
Epoch 30/100
4378/4378 - 71s - loss: 0.6994 - accuracy: 0.7401 - val_loss: 0.7645 - val_accuracy: 0.7244 - lr: 0.0010 - 71s/epoch - 16ms/step
Epoch 31/100
4378/4378 - 71s - loss: 0.7040 - accuracy: 0.7425 - val_loss: 0.7909 - val_accuracy: 0.7292 - lr: 0.0010 - 71s/epoch - 16ms/step
Epoch 32/100
4378/4378 - 71s - loss: 0.6988 - accuracy: 0.7441 - val_loss: 0.6581 - val_accuracy: 0.7770 - lr: 0.0010 - 71s/epoch - 16ms/step
Epoch 33/100
4378/4378 - 71s - loss: 0.7248 - accuracy: 0.7363 - val_loss: 0.8327 - val_accuracy: 0.6943 - lr: 0.0010 - 71s/epoch - 16ms/step
Epoch 34/100
4378/4378 - 71s - loss: 0.6967 - accuracy: 0.7427 - val_loss: 0.8060 - val_accuracy: 0.7373 - lr: 0.0010 - 71s/epoch - 16ms/step
Epoch 35/100
4378/4378 - 71s - loss: 0.7468 - accuracy: 0.7388 - val_loss: 0.8154 - val_accuracy: 0.7127 - lr: 0.0010 - 71s/epoch - 16ms/step
Epoch 36/100
4378/4378 - 71s - loss: 0.7231 - accuracy: 0.7382 - val_loss: 0.7335 - val_accuracy: 0.7374 - lr: 0.0010 - 71s/epoch - 16ms/step
Epoch 37/100
4378/4378 - 71s - loss: 0.7163 - accuracy: 0.7363 - val_loss: 0.7978 - val_accuracy: 0.7270 - lr: 0.0010 - 71s/epoch - 16ms/step
Epoch 38/100
4378/4378 - 71s - loss: 0.7043 - accuracy: 0.7393 - val_loss: 0.8407 - val_accuracy: 0.6875 - lr: 0.0010 - 71s/epoch - 16ms/step
Epoch 39/100
4378/4378 - 71s - loss: 0.7194 - accuracy: 0.7402 - val_loss: 0.7553 - val_accuracy: 0.7579 - lr: 0.0010 - 71s/epoch - 16ms/step
Epoch 40/100
4378/4378 - 71s - loss: 0.7142 - accuracy: 0.7368 - val_loss: 0.7943 - val_accuracy: 0.7030 - lr: 0.0010 - 71s/epoch - 16ms/step
Epoch 41/100
4378/4378 - 71s - loss: 0.6987 - accuracy: 0.7403 - val_loss: 0.6600 - val_accuracy: 0.7947 - lr: 0.0010 - 71s/epoch - 16ms/step
Epoch 42/100
4378/4378 - 71s - loss: 0.7159 - accuracy: 0.7401 - val_loss: 0.7643 - val_accuracy: 0.7482 - lr: 0.0010 - 71s/epoch - 16ms/step
Epoch 43/100
4378/4378 - 70s - loss: 0.6995 - accuracy: 0.7401 - val_loss: 0.6417 - val_accuracy: 0.7888 - lr: 0.0010 - 70s/epoch - 16ms/step
Epoch 44/100
4378/4378 - 71s - loss: 0.7043 - accuracy: 0.7395 - val_loss: 0.7663 - val_accuracy: 0.7505 - lr: 0.0010 - 71s/epoch - 16ms/step
Epoch 45/100
4378/4378 - 71s - loss: 0.7156 - accuracy: 0.7376 - val_loss: 0.8294 - val_accuracy: 0.6938 - lr: 0.0010 - 71s/epoch - 16ms/step
Epoch 46/100
4378/4378 - 71s - loss: 0.7159 - accuracy: 0.7367 - val_loss: 0.7500 - val_accuracy: 0.7447 - lr: 0.0010 - 71s/epoch - 16ms/step
Epoch 47/100
4378/4378 - 70s - loss: 0.7115 - accuracy: 0.7368 - val_loss: 0.7830 - val_accuracy: 0.7004 - lr: 0.0010 - 70s/epoch - 16ms/step
Epoch 48/100
4378/4378 - 69s - loss: 0.7306 - accuracy: 0.7334 - val_loss: 0.6884 - val_accuracy: 0.7801 - lr: 0.0010 - 69s/epoch - 16ms/step
Epoch 49/100
