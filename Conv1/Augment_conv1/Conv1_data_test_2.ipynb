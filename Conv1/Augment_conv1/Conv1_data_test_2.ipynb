{
 "cells": [
  {
   "cell_type": "code",
   "execution_count": 117,
   "metadata": {
    "_cell_guid": "b1076dfc-b9ad-4769-8c92-a6c4dae69d19",
    "_uuid": "8f2839f25d086af736a60e9eeb907d3b93b6e0e5",
    "jupyter": {
     "outputs_hidden": true
    }
   },
   "outputs": [
    {
     "name": "stdout",
     "output_type": "stream",
     "text": [
      "['mitbih_test.csv', 'mitbih_test.csv.zip', 'mitbih_train.csv', 'mitbih_train.csv.zip', 'ptbdb_abnormal.csv', 'ptbdb_abnormal.csv.zip', 'ptbdb_normal.csv', 'ptbdb_normal.csv.zip']\n"
     ]
    }
   ],
   "source": [
    "# This Python 3 environment comes with many helpful analytics libraries installed0\n",
    "# For example, here's several helpful packages to load in \n",
    "import math\n",
    "import random\n",
    "import pickle\n",
    "import itertools\n",
    "\n",
    "import numpy as np # linear algebra\n",
    "import pandas as pd # data processing, CSV file I/O (e.g. pd.read_csv)\n",
    "\n",
    "from sklearn.metrics import accuracy_score, classification_report, confusion_matrix, label_ranking_average_precision_score, label_ranking_loss, coverage_error \n",
    "\n",
    "from sklearn.utils import shuffle\n",
    "\n",
    "from scipy.signal import resample\n",
    "\n",
    "import matplotlib.pyplot as plt\n",
    "\n",
    "np.random.seed(42)\n",
    "\n",
    "import pickle\n",
    "#from sklearn.preprocessing import OneHotEncoder\n",
    "from keras.utils.np_utils import to_categorical\n",
    "from keras.models import Model\n",
    "from keras.layers import Input, Dense, Conv1D, MaxPooling1D,UpSampling1D, UpSampling2D,UpSampling3D, Softmax, Add, Flatten, Activation , Dropout\n",
    "from keras import backend as K\n",
    "from keras.optimizers import Adam, Adamax,SGD\n",
    "from keras.callbacks import LearningRateScheduler, ModelCheckpoint\n",
    "\n",
    "# Input data files are available in the \"../input/\" directory.\n",
    "# For example, running this (by clicking run or pressing Shift+Enter) will list the files in the input directory\n",
    "\n",
    "import os\n",
    "print(os.listdir(\"D:/UFS/F2 - Copia/database\"))\n",
    "\n",
    "# Any results you write to the current directory are saved as output."
   ]
  },
  {
   "cell_type": "code",
   "execution_count": 118,
   "metadata": {
    "_cell_guid": "79c7e3d0-c299-4dcb-8224-4455121ee9b0",
    "_uuid": "d629ff2d2480ee46fbb7e2d37f6b5fab8052498a",
    "jupyter": {
     "outputs_hidden": true
    }
   },
   "outputs": [],
   "source": [
    "train_df = pd.read_csv(\"D:/UFS/F2 - Copia/database/mitbih_train.csv\", header=None)\n",
    "test_df = pd.read_csv(\"D:/UFS/F2 - Copia/database/mitbih_test.csv\", header=None)\n",
    "#df = pd.concat([df, df2], axis=0)"
   ]
  },
  {
   "cell_type": "code",
   "execution_count": 119,
   "metadata": {
    "_uuid": "494fc8a26ba40beb73fc1a4f7b219b213fb7705e",
    "jupyter": {
     "outputs_hidden": true
    }
   },
   "outputs": [
    {
     "data": {
      "text/html": [
       "<div>\n",
       "<style scoped>\n",
       "    .dataframe tbody tr th:only-of-type {\n",
       "        vertical-align: middle;\n",
       "    }\n",
       "\n",
       "    .dataframe tbody tr th {\n",
       "        vertical-align: top;\n",
       "    }\n",
       "\n",
       "    .dataframe thead th {\n",
       "        text-align: right;\n",
       "    }\n",
       "</style>\n",
       "<table border=\"1\" class=\"dataframe\">\n",
       "  <thead>\n",
       "    <tr style=\"text-align: right;\">\n",
       "      <th></th>\n",
       "      <th>0</th>\n",
       "      <th>1</th>\n",
       "      <th>2</th>\n",
       "      <th>3</th>\n",
       "      <th>4</th>\n",
       "      <th>5</th>\n",
       "      <th>6</th>\n",
       "      <th>7</th>\n",
       "      <th>8</th>\n",
       "      <th>9</th>\n",
       "      <th>...</th>\n",
       "      <th>178</th>\n",
       "      <th>179</th>\n",
       "      <th>180</th>\n",
       "      <th>181</th>\n",
       "      <th>182</th>\n",
       "      <th>183</th>\n",
       "      <th>184</th>\n",
       "      <th>185</th>\n",
       "      <th>186</th>\n",
       "      <th>187</th>\n",
       "    </tr>\n",
       "  </thead>\n",
       "  <tbody>\n",
       "    <tr>\n",
       "      <th>0</th>\n",
       "      <td>0.977941</td>\n",
       "      <td>0.926471</td>\n",
       "      <td>0.681373</td>\n",
       "      <td>0.245098</td>\n",
       "      <td>0.154412</td>\n",
       "      <td>0.191176</td>\n",
       "      <td>0.151961</td>\n",
       "      <td>0.085784</td>\n",
       "      <td>0.058824</td>\n",
       "      <td>0.049020</td>\n",
       "      <td>...</td>\n",
       "      <td>0.0</td>\n",
       "      <td>0.0</td>\n",
       "      <td>0.0</td>\n",
       "      <td>0.0</td>\n",
       "      <td>0.0</td>\n",
       "      <td>0.0</td>\n",
       "      <td>0.0</td>\n",
       "      <td>0.0</td>\n",
       "      <td>0.0</td>\n",
       "      <td>0.0</td>\n",
       "    </tr>\n",
       "    <tr>\n",
       "      <th>1</th>\n",
       "      <td>0.960114</td>\n",
       "      <td>0.863248</td>\n",
       "      <td>0.461538</td>\n",
       "      <td>0.196581</td>\n",
       "      <td>0.094017</td>\n",
       "      <td>0.125356</td>\n",
       "      <td>0.099715</td>\n",
       "      <td>0.088319</td>\n",
       "      <td>0.074074</td>\n",
       "      <td>0.082621</td>\n",
       "      <td>...</td>\n",
       "      <td>0.0</td>\n",
       "      <td>0.0</td>\n",
       "      <td>0.0</td>\n",
       "      <td>0.0</td>\n",
       "      <td>0.0</td>\n",
       "      <td>0.0</td>\n",
       "      <td>0.0</td>\n",
       "      <td>0.0</td>\n",
       "      <td>0.0</td>\n",
       "      <td>0.0</td>\n",
       "    </tr>\n",
       "    <tr>\n",
       "      <th>2</th>\n",
       "      <td>1.000000</td>\n",
       "      <td>0.659459</td>\n",
       "      <td>0.186486</td>\n",
       "      <td>0.070270</td>\n",
       "      <td>0.070270</td>\n",
       "      <td>0.059459</td>\n",
       "      <td>0.056757</td>\n",
       "      <td>0.043243</td>\n",
       "      <td>0.054054</td>\n",
       "      <td>0.045946</td>\n",
       "      <td>...</td>\n",
       "      <td>0.0</td>\n",
       "      <td>0.0</td>\n",
       "      <td>0.0</td>\n",
       "      <td>0.0</td>\n",
       "      <td>0.0</td>\n",
       "      <td>0.0</td>\n",
       "      <td>0.0</td>\n",
       "      <td>0.0</td>\n",
       "      <td>0.0</td>\n",
       "      <td>0.0</td>\n",
       "    </tr>\n",
       "    <tr>\n",
       "      <th>3</th>\n",
       "      <td>0.925414</td>\n",
       "      <td>0.665746</td>\n",
       "      <td>0.541436</td>\n",
       "      <td>0.276243</td>\n",
       "      <td>0.196133</td>\n",
       "      <td>0.077348</td>\n",
       "      <td>0.071823</td>\n",
       "      <td>0.060773</td>\n",
       "      <td>0.066298</td>\n",
       "      <td>0.058011</td>\n",
       "      <td>...</td>\n",
       "      <td>0.0</td>\n",
       "      <td>0.0</td>\n",
       "      <td>0.0</td>\n",
       "      <td>0.0</td>\n",
       "      <td>0.0</td>\n",
       "      <td>0.0</td>\n",
       "      <td>0.0</td>\n",
       "      <td>0.0</td>\n",
       "      <td>0.0</td>\n",
       "      <td>0.0</td>\n",
       "    </tr>\n",
       "    <tr>\n",
       "      <th>4</th>\n",
       "      <td>0.967136</td>\n",
       "      <td>1.000000</td>\n",
       "      <td>0.830986</td>\n",
       "      <td>0.586854</td>\n",
       "      <td>0.356808</td>\n",
       "      <td>0.248826</td>\n",
       "      <td>0.145540</td>\n",
       "      <td>0.089202</td>\n",
       "      <td>0.117371</td>\n",
       "      <td>0.150235</td>\n",
       "      <td>...</td>\n",
       "      <td>0.0</td>\n",
       "      <td>0.0</td>\n",
       "      <td>0.0</td>\n",
       "      <td>0.0</td>\n",
       "      <td>0.0</td>\n",
       "      <td>0.0</td>\n",
       "      <td>0.0</td>\n",
       "      <td>0.0</td>\n",
       "      <td>0.0</td>\n",
       "      <td>0.0</td>\n",
       "    </tr>\n",
       "  </tbody>\n",
       "</table>\n",
       "<p>5 rows × 188 columns</p>\n",
       "</div>"
      ],
      "text/plain": [
       "        0         1         2         3         4         5         6    \\\n",
       "0  0.977941  0.926471  0.681373  0.245098  0.154412  0.191176  0.151961   \n",
       "1  0.960114  0.863248  0.461538  0.196581  0.094017  0.125356  0.099715   \n",
       "2  1.000000  0.659459  0.186486  0.070270  0.070270  0.059459  0.056757   \n",
       "3  0.925414  0.665746  0.541436  0.276243  0.196133  0.077348  0.071823   \n",
       "4  0.967136  1.000000  0.830986  0.586854  0.356808  0.248826  0.145540   \n",
       "\n",
       "        7         8         9    ...  178  179  180  181  182  183  184  185  \\\n",
       "0  0.085784  0.058824  0.049020  ...  0.0  0.0  0.0  0.0  0.0  0.0  0.0  0.0   \n",
       "1  0.088319  0.074074  0.082621  ...  0.0  0.0  0.0  0.0  0.0  0.0  0.0  0.0   \n",
       "2  0.043243  0.054054  0.045946  ...  0.0  0.0  0.0  0.0  0.0  0.0  0.0  0.0   \n",
       "3  0.060773  0.066298  0.058011  ...  0.0  0.0  0.0  0.0  0.0  0.0  0.0  0.0   \n",
       "4  0.089202  0.117371  0.150235  ...  0.0  0.0  0.0  0.0  0.0  0.0  0.0  0.0   \n",
       "\n",
       "   186  187  \n",
       "0  0.0  0.0  \n",
       "1  0.0  0.0  \n",
       "2  0.0  0.0  \n",
       "3  0.0  0.0  \n",
       "4  0.0  0.0  \n",
       "\n",
       "[5 rows x 188 columns]"
      ]
     },
     "execution_count": 119,
     "metadata": {},
     "output_type": "execute_result"
    }
   ],
   "source": [
    "train_df.head()"
   ]
  },
  {
   "cell_type": "code",
   "execution_count": 120,
   "metadata": {
    "_uuid": "5281cb19f54f3bd379f875c24ae52b3b15fcafaf",
    "jupyter": {
     "outputs_hidden": true
    }
   },
   "outputs": [
    {
     "name": "stdout",
     "output_type": "stream",
     "text": [
      "<class 'pandas.core.frame.DataFrame'>\n",
      "RangeIndex: 87554 entries, 0 to 87553\n",
      "Columns: 188 entries, 0 to 187\n",
      "dtypes: float64(188)\n",
      "memory usage: 125.6 MB\n",
      "17510\n"
     ]
    }
   ],
   "source": [
    "train_df.info()\n",
    "dataset_row = train_df.shape[0]\n",
    "dataset_size= int(dataset_row/5)\n",
    "print(dataset_size)"
   ]
  },
  {
   "cell_type": "code",
   "execution_count": 121,
   "metadata": {},
   "outputs": [
    {
     "name": "stdout",
     "output_type": "stream",
     "text": [
      "0    72471\n",
      "4     6431\n",
      "2     5788\n",
      "1     2223\n",
      "3      641\n",
      "Name: 187, dtype: int64\n"
     ]
    }
   ],
   "source": [
    "train_df[187]=train_df[187].astype(int)\n",
    "equilibre= train_df[187].value_counts()\n",
    "print(equilibre)\n",
    "\n"
   ]
  },
  {
   "cell_type": "code",
   "execution_count": 122,
   "metadata": {
    "_uuid": "0fac0fb658ea34b48055838b4ad85078e883360d",
    "jupyter": {
     "outputs_hidden": true
    }
   },
   "outputs": [],
   "source": [
    "train_df[187].value_counts()\n",
    "equilibre = train_df[187].value_counts()"
   ]
  },
  {
   "cell_type": "code",
   "execution_count": 123,
   "metadata": {},
   "outputs": [
    {
     "data": {
      "image/png": "[encoded data removed]",
      "text/plain": [
       "<Figure size 1440x720 with 1 Axes>"
      ]
     },
     "metadata": {},
     "output_type": "display_data"
    }
   ],
   "source": [
    "plt.figure(figsize=(20,10))\n",
    "my_circle=plt.Circle((0,0), 0.7, color='white')\n",
    "plt.pie(equilibre, labels=['n','q','v','s','f'], colors=['red','green','blue','skyblue','orange'],autopct='%1.1f%%')\n",
    "p=plt.gcf()\n",
    "p.gca().add_artist(my_circle)\n",
    "plt.show()"
   ]
  },
  {
   "cell_type": "code",
   "execution_count": 124,
   "metadata": {},
   "outputs": [],
   "source": [
    "from sklearn.utils import resample\n",
    "k=72471\n",
    "#dataset_size= 2000\n",
    "df_1=train_df[train_df[187]==1]\n",
    "df_2=train_df[train_df[187]==2]\n",
    "df_3=train_df[train_df[187]==3]\n",
    "df_4=train_df[train_df[187]==4]\n",
    "df_0=(train_df[train_df[187]==0]).sample(n=dataset_size,random_state=42)\n",
    "\n",
    "df_1_upsample=resample(df_1,replace=True,n_samples=dataset_size,random_state=123)\n",
    "df_2_upsample=resample(df_2,replace=True,n_samples=dataset_size,random_state=124)\n",
    "df_3_upsample=resample(df_3,replace=True,n_samples=dataset_size,random_state=125)\n",
    "df_4_upsample=resample(df_4,replace=True,n_samples=dataset_size,random_state=126)\n",
    "\n",
    "train_df=pd.concat([df_0,df_1_upsample,df_2_upsample,df_3_upsample,df_4_upsample])"
   ]
  },
  {
   "cell_type": "code",
   "execution_count": 125,
   "metadata": {},
   "outputs": [
    {
     "name": "stdout",
     "output_type": "stream",
     "text": [
      "0    17510\n",
      "1    17510\n",
      "2    17510\n",
      "3    17510\n",
      "4    17510\n",
      "Name: 187, dtype: int64\n"
     ]
    }
   ],
   "source": [
    "equilibre=train_df[187].value_counts()\n",
    "print(equilibre)"
   ]
  },
  {
   "cell_type": "code",
   "execution_count": 126,
   "metadata": {},
   "outputs": [
    {
     "data": {
      "image/png": "[encoded data removed]",
      "text/plain": [
       "<Figure size 1440x720 with 1 Axes>"
      ]
     },
     "metadata": {},
     "output_type": "display_data"
    }
   ],
   "source": [
    "plt.figure(figsize=(20,10))\n",
    "my_circle=plt.Circle( (0,0), 0.7, color='white')\n",
    "plt.pie(equilibre, labels=['n','q','v','s','f'], colors=['red','green','blue','skyblue','orange'],autopct='%1.1f%%')\n",
    "p=plt.gcf()\n",
    "p.gca().add_artist(my_circle)\n",
    "plt.show()"
   ]
  },
  {
   "cell_type": "code",
   "execution_count": 127,
   "metadata": {
    "_uuid": "147b7604bd8a389d7f6aa111f38ae308af7c4eb7",
    "jupyter": {
     "outputs_hidden": true
    }
   },
   "outputs": [],
   "source": [
    "M = train_df.values\n",
    "X = M[:, :-1]\n",
    "y = M[:, -1].astype(int)"
   ]
  },
  {
   "cell_type": "code",
   "execution_count": 128,
   "metadata": {
    "_uuid": "504d95532114efa4cc581d80bf02159c3ce519c6",
    "jupyter": {
     "outputs_hidden": true
    }
   },
   "outputs": [],
   "source": [
    "#del train_df\n",
    "#del test_df\n",
    "#del M"
   ]
  },
  {
   "cell_type": "code",
   "execution_count": 129,
   "metadata": {},
   "outputs": [],
   "source": [
    "def add_gaussian_noise(signal):\n",
    "    noise=np.random.normal(0,0.5,186)\n",
    "    return (signal+noise)\n"
   ]
  },
  {
   "cell_type": "code",
   "execution_count": 130,
   "metadata": {},
   "outputs": [],
   "source": [
    "#tempo=c.iloc[0,:186]\n",
    "#bruiter=add_gaussian_noise(tempo)\n",
    "\n",
    "#plt.subplot(2,1,1)\n",
    "#plt.plot(c.iloc[0,:186])\n",
    "\n",
    "#plt.subplot(2,1,2)\n",
    "#plt.plot(bruiter)\n",
    "\n",
    "#plt.show()\n",
    "\n"
   ]
  },
  {
   "cell_type": "code",
   "execution_count": 131,
   "metadata": {},
   "outputs": [],
   "source": [
    "target_train=train_df[187]\n",
    "target_test=test_df[187]\n",
    "y_train=to_categorical(target_train)\n",
    "y_test=to_categorical(target_test)"
   ]
  },
  {
   "cell_type": "code",
   "execution_count": 132,
   "metadata": {},
   "outputs": [],
   "source": [
    "X_train=train_df.iloc[:,:186].values\n",
    "X_test=test_df.iloc[:,:186].values\n",
    "for i in range(len(X_train)):\n",
    "    X_train[i,:186]= add_gaussian_noise(X_train[i,:186])\n",
    "X_train = X_train.reshape(len(X_train), X_train.shape[1],1)\n",
    "X_test = X_test.reshape(len(X_test), X_test.shape[1],1)"
   ]
  },
  {
   "cell_type": "code",
   "execution_count": 133,
   "metadata": {},
   "outputs": [],
   "source": [
    "target_train=train_df[187]\n",
    "target_test=test_df[187]\n",
    "y_train=to_categorical(target_train)\n",
    "y_test=to_categorical(target_test)"
   ]
  },
  {
   "cell_type": "markdown",
   "metadata": {
    "_uuid": "c269ab78773e4b5a960a5e55d2b48c53d5f9c446"
   },
   "source": [
    "# Data augmentation\n",
    "\n",
    "To train properly the model, we sould have to augment all data to the same level. Nevertheless, for a first try, we will just augment the smallest class to the same level as class 1. With that we will be able to have a test set of around 5x800 observations."
   ]
  },
  {
   "cell_type": "markdown",
   "metadata": {
    "_uuid": "c42605d020fd51885437f4af3cf10cebbeafc9bb"
   },
   "source": [
    "# Split"
   ]
  },
  {
   "cell_type": "code",
   "execution_count": 134,
   "metadata": {
    "_uuid": "16c106c2702045790367fc49d7223560fc613d75",
    "jupyter": {
     "outputs_hidden": true
    }
   },
   "outputs": [
    {
     "name": "stdout",
     "output_type": "stream",
     "text": [
      "X_train (87550, 186, 1)\n",
      "y_train (87550, 5)\n",
      "X_test (21892, 186, 1)\n",
      "y_test (21892, 5)\n"
     ]
    }
   ],
   "source": [
    "print(\"X_train\", X_train.shape)\n",
    "print(\"y_train\", y_train.shape)\n",
    "print(\"X_test\", X_test.shape)\n",
    "print(\"y_test\", y_test.shape)"
   ]
  },
  {
   "cell_type": "markdown",
   "metadata": {
    "_uuid": "c4de23b85abe34a726eab268171da0e827bafa35"
   },
   "source": [
    "# Model\n",
    "\n",
    "Now let's re-create the model from the ArXiv Document"
   ]
  },
  {
   "cell_type": "code",
   "execution_count": 135,
   "metadata": {
    "_uuid": "fb0dc9775ddfa761c0ad948d59020fcbd2681c57",
    "jupyter": {
     "outputs_hidden": true
    }
   },
   "outputs": [],
   "source": [
    "n_obs, feature, depth = X_train.shape\n",
    "batch_size = 1500\n",
    "#batch_size = 500"
   ]
  },
  {
   "cell_type": "code",
   "execution_count": null,
   "metadata": {},
   "outputs": [],
   "source": []
  },
  {
   "cell_type": "code",
   "execution_count": 142,
   "metadata": {
    "_uuid": "e70fab0b07290e042ba9cd7c6cba37462a457b03",
    "jupyter": {
     "outputs_hidden": true
    }
   },
   "outputs": [],
   "source": [
    "K.clear_session()\n",
    "\n",
    "inp = Input(shape=(feature, depth))\n",
    "C = Conv1D(filters=32, kernel_size=5, strides=1)(inp)\n",
    "C11 = Conv1D(filters=32, kernel_size=5, strides=1, padding='same')(C)\n",
    "A11 = Activation(\"relu\")(C11)\n",
    "C12 = Conv1D(filters=32, kernel_size=5, strides=1, padding='same')(A11)\n",
    "S11 = Add()([C12, C])\n",
    "A12 = Activation(\"relu\")(S11)\n",
    "M11 = MaxPooling1D(pool_size=5, strides=2)(A12)\n",
    "\n",
    "\n",
    "C21 = Conv1D(filters=32, kernel_size=5, strides=1, padding='same')(M11)\n",
    "A21 = Activation(\"relu\")(C21)\n",
    "C22 = Conv1D(filters=32, kernel_size=5, strides=1, padding='same')(A21)\n",
    "S21 = Add()([C22, M11])\n",
    "A22 = Activation(\"relu\")(S21)\n",
    "M21 = MaxPooling1D(pool_size=5, strides=2)(A22)\n",
    "\n",
    "\n",
    "C31 = Conv1D(filters=32, kernel_size=5, strides=1, padding='same')(M21)\n",
    "A31 = Activation(\"relu\")(C31)\n",
    "C32 = Conv1D(filters=32, kernel_size=5, strides=1, padding='same')(A31)\n",
    "S31 = Add()([C32, M21])\n",
    "A32 = Activation(\"relu\")(S31)\n",
    "M31 = MaxPooling1D(pool_size=5, strides=2)(A32)\n",
    "\n",
    "\n",
    "C41 = Conv1D(filters=32, kernel_size=5, strides=1, padding='same')(M31)\n",
    "A41 = Activation(\"relu\")(C41)\n",
    "C42 = Conv1D(filters=32, kernel_size=5, strides=1, padding='same')(A41)\n",
    "S41 = Add()([C42, M31])\n",
    "A42 = Activation(\"relu\")(S41)\n",
    "M41 = MaxPooling1D(pool_size=5, strides=2)(A42)\n",
    "\n",
    "\n",
    "C51 = Conv1D(filters=32, kernel_size=5, strides=1, padding='same')(M41)\n",
    "A51 = Activation(\"relu\")(C51)\n",
    "C52 = Conv1D(filters=32, kernel_size=5, strides=1, padding='same')(A51)\n",
    "S51 = Add()([C52, M41])\n",
    "A52 = Activation(\"relu\")(S51)\n",
    "M51 = MaxPooling1D(pool_size=5, strides=2)(A52)\n"
   ]
  },
  {
   "cell_type": "code",
   "execution_count": 145,
   "metadata": {},
   "outputs": [
    {
     "name": "stdout",
     "output_type": "stream",
     "text": [
      "Model: \"model\"\n",
      "__________________________________________________________________________________________________\n",
      " Layer (type)                   Output Shape         Param #     Connected to                     \n",
      "==================================================================================================\n",
      " input_1 (InputLayer)           [(None, 186, 1)]     0           []                               \n",
      "                                                                                                  \n",
      " conv1d (Conv1D)                (None, 182, 32)      192         ['input_1[0][0]']                \n",
      "                                                                                                  \n",
      " conv1d_1 (Conv1D)              (None, 182, 32)      5152        ['conv1d[0][0]']                 \n",
      "                                                                                                  \n",
      " activation (Activation)        (None, 182, 32)      0           ['conv1d_1[0][0]']               \n",
      "                                                                                                  \n",
      " conv1d_2 (Conv1D)              (None, 182, 32)      5152        ['activation[0][0]']             \n",
      "                                                                                                  \n",
      " add (Add)                      (None, 182, 32)      0           ['conv1d_2[0][0]',               \n",
      "                                                                  'conv1d[0][0]']                 \n",
      "                                                                                                  \n",
      " activation_1 (Activation)      (None, 182, 32)      0           ['add[0][0]']                    \n",
      "                                                                                                  \n",
      " max_pooling1d (MaxPooling1D)   (None, 89, 32)       0           ['activation_1[0][0]']           \n",
      "                                                                                                  \n",
      " conv1d_3 (Conv1D)              (None, 89, 32)       5152        ['max_pooling1d[0][0]']          \n",
      "                                                                                                  \n",
      " activation_2 (Activation)      (None, 89, 32)       0           ['conv1d_3[0][0]']               \n",
      "                                                                                                  \n",
      " conv1d_4 (Conv1D)              (None, 89, 32)       5152        ['activation_2[0][0]']           \n",
      "                                                                                                  \n",
      " add_1 (Add)                    (None, 89, 32)       0           ['conv1d_4[0][0]',               \n",
      "                                                                  'max_pooling1d[0][0]']          \n",
      "                                                                                                  \n",
      " activation_3 (Activation)      (None, 89, 32)       0           ['add_1[0][0]']                  \n",
      "                                                                                                  \n",
      " max_pooling1d_1 (MaxPooling1D)  (None, 43, 32)      0           ['activation_3[0][0]']           \n",
      "                                                                                                  \n",
      " conv1d_5 (Conv1D)              (None, 43, 32)       5152        ['max_pooling1d_1[0][0]']        \n",
      "                                                                                                  \n",
      " activation_4 (Activation)      (None, 43, 32)       0           ['conv1d_5[0][0]']               \n",
      "                                                                                                  \n",
      " conv1d_6 (Conv1D)              (None, 43, 32)       5152        ['activation_4[0][0]']           \n",
      "                                                                                                  \n",
      " add_2 (Add)                    (None, 43, 32)       0           ['conv1d_6[0][0]',               \n",
      "                                                                  'max_pooling1d_1[0][0]']        \n",
      "                                                                                                  \n",
      " activation_5 (Activation)      (None, 43, 32)       0           ['add_2[0][0]']                  \n",
      "                                                                                                  \n",
      " max_pooling1d_2 (MaxPooling1D)  (None, 20, 32)      0           ['activation_5[0][0]']           \n",
      "                                                                                                  \n",
      " conv1d_7 (Conv1D)              (None, 20, 32)       5152        ['max_pooling1d_2[0][0]']        \n",
      "                                                                                                  \n",
      " activation_6 (Activation)      (None, 20, 32)       0           ['conv1d_7[0][0]']               \n",
      "                                                                                                  \n",
      " conv1d_8 (Conv1D)              (None, 20, 32)       5152        ['activation_6[0][0]']           \n",
      "                                                                                                  \n",
      " add_3 (Add)                    (None, 20, 32)       0           ['conv1d_8[0][0]',               \n",
      "                                                                  'max_pooling1d_2[0][0]']        \n",
      "                                                                                                  \n",
      " activation_7 (Activation)      (None, 20, 32)       0           ['add_3[0][0]']                  \n",
      "                                                                                                  \n",
      " max_pooling1d_3 (MaxPooling1D)  (None, 8, 32)       0           ['activation_7[0][0]']           \n",
      "                                                                                                  \n",
      " conv1d_9 (Conv1D)              (None, 8, 32)        5152        ['max_pooling1d_3[0][0]']        \n",
      "                                                                                                  \n",
      " activation_8 (Activation)      (None, 8, 32)        0           ['conv1d_9[0][0]']               \n",
      "                                                                                                  \n",
      " conv1d_10 (Conv1D)             (None, 8, 32)        5152        ['activation_8[0][0]']           \n",
      "                                                                                                  \n",
      " add_4 (Add)                    (None, 8, 32)        0           ['conv1d_10[0][0]',              \n",
      "                                                                  'max_pooling1d_3[0][0]']        \n",
      "                                                                                                  \n",
      " activation_9 (Activation)      (None, 8, 32)        0           ['add_4[0][0]']                  \n",
      "                                                                                                  \n",
      " max_pooling1d_4 (MaxPooling1D)  (None, 2, 32)       0           ['activation_9[0][0]']           \n",
      "                                                                                                  \n",
      " conv1d_23 (Conv1D)             (None, 1, 32)        5152        ['max_pooling1d_4[0][0]']        \n",
      "                                                                                                  \n",
      " activation_21 (Activation)     (None, 1, 32)        0           ['conv1d_23[0][0]']              \n",
      "                                                                                                  \n",
      " conv1d_24 (Conv1D)             (None, 1, 32)        5152        ['activation_21[0][0]']          \n",
      "                                                                                                  \n",
      " add_11 (Add)                   (None, 2, 32)        0           ['conv1d_24[0][0]',              \n",
      "                                                                  'max_pooling1d_4[0][0]']        \n",
      "                                                                                                  \n",
      " activation_22 (Activation)     (None, 2, 32)        0           ['add_11[0][0]']                 \n",
      "                                                                                                  \n",
      " up_sampling1d_4 (UpSampling1D)  (None, 8, 32)       0           ['activation_22[0][0]']          \n",
      "                                                                                                  \n",
      " conv1d_25 (Conv1D)             (None, 8, 32)        5152        ['up_sampling1d_4[0][0]']        \n",
      "                                                                                                  \n",
      " activation_23 (Activation)     (None, 8, 32)        0           ['conv1d_25[0][0]']              \n",
      "                                                                                                  \n",
      " conv1d_26 (Conv1D)             (None, 8, 32)        5152        ['activation_23[0][0]']          \n",
      "                                                                                                  \n",
      " add_12 (Add)                   (None, 8, 32)        0           ['conv1d_26[0][0]',              \n",
      "                                                                  'up_sampling1d_4[0][0]']        \n",
      "                                                                                                  \n",
      " activation_24 (Activation)     (None, 8, 32)        0           ['add_12[0][0]']                 \n",
      "                                                                                                  \n",
      " up_sampling1d_5 (UpSampling1D)  (None, 16, 32)      0           ['activation_24[0][0]']          \n",
      "                                                                                                  \n",
      " conv1d_27 (Conv1D)             (None, 16, 32)       5152        ['up_sampling1d_5[0][0]']        \n",
      "                                                                                                  \n",
      " activation_25 (Activation)     (None, 16, 32)       0           ['conv1d_27[0][0]']              \n",
      "                                                                                                  \n",
      " conv1d_28 (Conv1D)             (None, 16, 32)       5152        ['activation_25[0][0]']          \n",
      "                                                                                                  \n",
      " add_13 (Add)                   (None, 16, 32)       0           ['conv1d_28[0][0]',              \n",
      "                                                                  'up_sampling1d_5[0][0]']        \n",
      "                                                                                                  \n",
      " activation_26 (Activation)     (None, 16, 32)       0           ['add_13[0][0]']                 \n",
      "                                                                                                  \n",
      " up_sampling1d_6 (UpSampling1D)  (None, 32, 32)      0           ['activation_26[0][0]']          \n",
      "                                                                                                  \n",
      " conv1d_29 (Conv1D)             (None, 32, 32)       5152        ['up_sampling1d_6[0][0]']        \n",
      "                                                                                                  \n",
      " activation_27 (Activation)     (None, 32, 32)       0           ['conv1d_29[0][0]']              \n",
      "                                                                                                  \n",
      " conv1d_30 (Conv1D)             (None, 32, 32)       5152        ['activation_27[0][0]']          \n",
      "                                                                                                  \n",
      " add_14 (Add)                   (None, 32, 32)       0           ['conv1d_30[0][0]',              \n",
      "                                                                  'up_sampling1d_6[0][0]']        \n",
      "                                                                                                  \n",
      " activation_28 (Activation)     (None, 32, 32)       0           ['add_14[0][0]']                 \n",
      "                                                                                                  \n",
      " up_sampling1d_7 (UpSampling1D)  (None, 64, 32)      0           ['activation_28[0][0]']          \n",
      "                                                                                                  \n",
      " conv1d_31 (Conv1D)             (None, 64, 32)       5152        ['up_sampling1d_7[0][0]']        \n",
      "                                                                                                  \n",
      " activation_29 (Activation)     (None, 64, 32)       0           ['conv1d_31[0][0]']              \n",
      "                                                                                                  \n",
      " conv1d_32 (Conv1D)             (None, 64, 32)       5152        ['activation_29[0][0]']          \n",
      "                                                                                                  \n",
      " add_15 (Add)                   (None, 64, 32)       0           ['conv1d_32[0][0]',              \n",
      "                                                                  'up_sampling1d_7[0][0]']        \n",
      "                                                                                                  \n",
      " activation_30 (Activation)     (None, 64, 32)       0           ['add_15[0][0]']                 \n",
      "                                                                                                  \n",
      " up_sampling1d_8 (UpSampling1D)  (None, 128, 32)     0           ['activation_30[0][0]']          \n",
      "                                                                                                  \n",
      " dropout (Dropout)              (None, 128, 32)      0           ['up_sampling1d_8[0][0]']        \n",
      "                                                                                                  \n",
      " flatten (Flatten)              (None, 4096)         0           ['dropout[0][0]']                \n",
      "                                                                                                  \n",
      " dense (Dense)                  (None, 32)           131104      ['flatten[0][0]']                \n",
      "                                                                                                  \n",
      " activation_31 (Activation)     (None, 32)           0           ['dense[0][0]']                  \n",
      "                                                                                                  \n",
      " dense_1 (Dense)                (None, 32)           1056        ['activation_31[0][0]']          \n",
      "                                                                                                  \n",
      " dense_2 (Dense)                (None, 5)            165         ['dense_1[0][0]']                \n",
      "                                                                                                  \n",
      " softmax (Softmax)              (None, 5)            0           ['dense_2[0][0]']                \n",
      "                                                                                                  \n",
      "==================================================================================================\n",
      "Total params: 235,557\n",
      "Trainable params: 235,557\n",
      "Non-trainable params: 0\n",
      "__________________________________________________________________________________________________\n"
     ]
    }
   ],
   "source": [
    "\n",
    "#---Decoding-------------------\n",
    "UC11 = Conv1D(filters=32, kernel_size=5, strides=2, padding='same')(M51)\n",
    "UA11 = Activation(\"relu\")(UC11)\n",
    "UC12 = Conv1D(filters=32, kernel_size=5, strides=2, padding='same')(UA11)\n",
    "US11 = Add()([UC12,M51 ])\n",
    "UA12 = Activation(\"relu\")(US11)\n",
    "UM11 =UpSampling1D(size= (4))(UA12)\n",
    "\n",
    "\n",
    "UC21 = Conv1D(filters=32, kernel_size=5, strides=1, padding='same')(UM11)\n",
    "UA21 = Activation(\"relu\")(UC21)\n",
    "UC22 = Conv1D(filters=32, kernel_size=5, strides=1, padding='same')(UA21)\n",
    "US21 = Add()([UC22, UM11])\n",
    "UA22 = Activation(\"relu\")(US21)\n",
    "UM21 =UpSampling1D()(UA22)\n",
    "\n",
    "\n",
    "UC31 = Conv1D(filters=32, kernel_size=5, strides=1, padding='same')(UM21)\n",
    "UA31 = Activation(\"relu\")(UC31)\n",
    "UC32 = Conv1D(filters=32, kernel_size=5, strides=1, padding='same')(UA31)\n",
    "US31 = Add()([UC32, UM21])\n",
    "UA32 = Activation(\"relu\")(US31)\n",
    "UM31 =UpSampling1D()(UA32)\n",
    "\n",
    "\n",
    "UC41 = Conv1D(filters=32, kernel_size=5, strides=1, padding='same')(UM31)\n",
    "UA41 = Activation(\"relu\")(UC41)\n",
    "UC42 = Conv1D(filters=32, kernel_size=5, strides=1, padding='same')(UA41)\n",
    "US41 = Add()([UC42, UM31])\n",
    "UA42 = Activation(\"relu\")(US41)\n",
    "UM41 =UpSampling1D()(UA42)\n",
    "\n",
    "\n",
    "UC51 = Conv1D(filters=32, kernel_size=5, strides=1, padding='same')(UM41)\n",
    "UA51 = Activation(\"relu\")(UC51)\n",
    "UC52 = Conv1D(filters=32, kernel_size=5, strides=1, padding='same')(UA51)\n",
    "US51 = Add()([UC52, UM41])\n",
    "UA52 = Activation(\"relu\")(US51)\n",
    "UM51 =UpSampling1D()(UA52)\n",
    "\n",
    "M52 = (Dropout(0.25))(UM51)\n",
    "\n",
    "F1 = Flatten()(M52)\n",
    "\n",
    "D1 = Dense(32)(F1)\n",
    "A6 = Activation(\"relu\")(D1)\n",
    "D2 = Dense(32)(A6)\n",
    "D3 = Dense(5)(D2)\n",
    "A7 = Softmax()(D3)\n",
    "\n",
    "model = Model(inputs=inp, outputs=A7)\n",
    "\n",
    "model.summary()"
   ]
  },
  {
   "cell_type": "code",
   "execution_count": 146,
   "metadata": {
    "_uuid": "fdc0d8aa8475330af8d8e652d0b9ce214da66956",
    "jupyter": {
     "outputs_hidden": true
    }
   },
   "outputs": [],
   "source": [
    "def exp_decay(epoch):\n",
    "    initial_lrate = 0.001\n",
    "    k = 0.75\n",
    "    t = n_obs//(10000 * batch_size)  # every epoch we do n_obs/batch_size iteration\n",
    "    lrate = initial_lrate * math.exp(-k*t)\n",
    "    return lrate\n",
    "\n",
    "lrate = LearningRateScheduler(exp_decay)"
   ]
  },
  {
   "cell_type": "code",
   "execution_count": 147,
   "metadata": {
    "_uuid": "abcd2f0e8488c8f3b33cd6ed9ca7fd60fa44404b",
    "jupyter": {
     "outputs_hidden": true
    }
   },
   "outputs": [],
   "source": [
    "#adam = SGD(learning_rate = 0.01)\n",
    "adam = Adamax(learning_rate = 0.001, beta_1 = 0.9, beta_2 = 0.999)"
   ]
  },
  {
   "cell_type": "code",
   "execution_count": 148,
   "metadata": {
    "_uuid": "812e637ae56f6a4be9c8e98d3b501cfb11ef78cb",
    "jupyter": {
     "outputs_hidden": true
    }
   },
   "outputs": [],
   "source": [
    "#model.compile(loss='binary_crossentropy', optimizer=adam, metrics=['accuracy'])"
   ]
  },
  {
   "cell_type": "code",
   "execution_count": 151,
   "metadata": {},
   "outputs": [
    {
     "name": "stdout",
     "output_type": "stream",
     "text": [
      "Epoch 1/100\n",
      "36/36 - 273s - loss: 1.7618 - accuracy: 0.1974 - val_loss: 1.6170 - val_accuracy: 0.0268 - lr: 0.0010 - 273s/epoch - 8s/step\n",
      "Epoch 2/100\n",
      "36/36 - 131s - loss: 1.6040 - accuracy: 0.2110 - val_loss: 1.5699 - val_accuracy: 0.0756 - lr: 0.0010 - 131s/epoch - 4s/step\n",
      "Epoch 3/100\n",
      "36/36 - 96s - loss: 1.5405 - accuracy: 0.2933 - val_loss: 1.5629 - val_accuracy: 0.0756 - lr: 0.0010 - 96s/epoch - 3s/step\n",
      "Epoch 4/100\n",
      "36/36 - 98s - loss: 1.4377 - accuracy: 0.3698 - val_loss: 1.6495 - val_accuracy: 0.0790 - lr: 0.0010 - 98s/epoch - 3s/step\n",
      "Epoch 5/100\n",
      "36/36 - 102s - loss: 1.3693 - accuracy: 0.4034 - val_loss: 1.6074 - val_accuracy: 0.0650 - lr: 0.0010 - 102s/epoch - 3s/step\n",
      "Epoch 6/100\n",
      "36/36 - 95s - loss: 1.3152 - accuracy: 0.4420 - val_loss: 1.6266 - val_accuracy: 0.0647 - lr: 0.0010 - 95s/epoch - 3s/step\n",
      "Epoch 7/100\n",
      "36/36 - 96s - loss: 1.2573 - accuracy: 0.4710 - val_loss: 1.5397 - val_accuracy: 0.0719 - lr: 0.0010 - 96s/epoch - 3s/step\n",
      "Epoch 8/100\n",
      "36/36 - 97s - loss: 1.2365 - accuracy: 0.4810 - val_loss: 1.5762 - val_accuracy: 0.0822 - lr: 0.0010 - 97s/epoch - 3s/step\n",
      "Epoch 9/100\n",
      "36/36 - 96s - loss: 1.1686 - accuracy: 0.5160 - val_loss: 1.5768 - val_accuracy: 0.1549 - lr: 0.0010 - 96s/epoch - 3s/step\n",
      "Epoch 10/100\n",
      "36/36 - 97s - loss: 1.1193 - accuracy: 0.5453 - val_loss: 1.5328 - val_accuracy: 0.2024 - lr: 0.0010 - 97s/epoch - 3s/step\n",
      "Epoch 11/100\n",
      "36/36 - 97s - loss: 1.0675 - accuracy: 0.5722 - val_loss: 1.3968 - val_accuracy: 0.2636 - lr: 0.0010 - 97s/epoch - 3s/step\n",
      "Epoch 12/100\n",
      "36/36 - 97s - loss: 1.0288 - accuracy: 0.5943 - val_loss: 1.5302 - val_accuracy: 0.2339 - lr: 0.0010 - 97s/epoch - 3s/step\n",
      "Epoch 13/100\n",
      "36/36 - 97s - loss: 1.0049 - accuracy: 0.6046 - val_loss: 1.3005 - val_accuracy: 0.3791 - lr: 0.0010 - 97s/epoch - 3s/step\n",
      "Epoch 14/100\n",
      "36/36 - 96s - loss: 0.9804 - accuracy: 0.6161 - val_loss: 1.4251 - val_accuracy: 0.3385 - lr: 0.0010 - 96s/epoch - 3s/step\n",
      "Epoch 15/100\n",
      "36/36 - 97s - loss: 0.9573 - accuracy: 0.6253 - val_loss: 1.3560 - val_accuracy: 0.3599 - lr: 0.0010 - 97s/epoch - 3s/step\n",
      "Epoch 16/100\n",
      "36/36 - 97s - loss: 0.9436 - accuracy: 0.6312 - val_loss: 1.3735 - val_accuracy: 0.3511 - lr: 0.0010 - 97s/epoch - 3s/step\n",
      "Epoch 17/100\n",
      "36/36 - 99s - loss: 0.9332 - accuracy: 0.6358 - val_loss: 1.2403 - val_accuracy: 0.4391 - lr: 0.0010 - 99s/epoch - 3s/step\n",
      "Epoch 18/100\n",
      "36/36 - 96s - loss: 0.9195 - accuracy: 0.6427 - val_loss: 1.2511 - val_accuracy: 0.4662 - lr: 0.0010 - 96s/epoch - 3s/step\n",
      "Epoch 19/100\n",
      "36/36 - 98s - loss: 0.9099 - accuracy: 0.6485 - val_loss: 1.0863 - val_accuracy: 0.5502 - lr: 0.0010 - 98s/epoch - 3s/step\n",
      "Epoch 20/100\n",
      "36/36 - 96s - loss: 0.9031 - accuracy: 0.6508 - val_loss: 1.1459 - val_accuracy: 0.5086 - lr: 0.0010 - 96s/epoch - 3s/step\n",
      "Epoch 21/100\n",
      "36/36 - 97s - loss: 0.8929 - accuracy: 0.6550 - val_loss: 1.1655 - val_accuracy: 0.5130 - lr: 0.0010 - 97s/epoch - 3s/step\n",
      "Epoch 22/100\n",
      "36/36 - 98s - loss: 0.8873 - accuracy: 0.6579 - val_loss: 1.0092 - val_accuracy: 0.5874 - lr: 0.0010 - 98s/epoch - 3s/step\n",
      "Epoch 23/100\n",
      "36/36 - 98s - loss: 0.8786 - accuracy: 0.6620 - val_loss: 1.0381 - val_accuracy: 0.5575 - lr: 0.0010 - 98s/epoch - 3s/step\n",
      "Epoch 24/100\n",
      "36/36 - 97s - loss: 0.8724 - accuracy: 0.6650 - val_loss: 1.0229 - val_accuracy: 0.5803 - lr: 0.0010 - 97s/epoch - 3s/step\n",
      "Epoch 25/100\n",
      "36/36 - 97s - loss: 0.8605 - accuracy: 0.6694 - val_loss: 1.0424 - val_accuracy: 0.5900 - lr: 0.0010 - 97s/epoch - 3s/step\n",
      "Epoch 26/100\n",
      "36/36 - 96s - loss: 0.8618 - accuracy: 0.6690 - val_loss: 0.9886 - val_accuracy: 0.6103 - lr: 0.0010 - 96s/epoch - 3s/step\n",
      "Epoch 27/100\n",
      "36/36 - 96s - loss: 0.8527 - accuracy: 0.6737 - val_loss: 1.0706 - val_accuracy: 0.5313 - lr: 0.0010 - 96s/epoch - 3s/step\n",
      "Epoch 28/100\n",
      "36/36 - 97s - loss: 0.8478 - accuracy: 0.6758 - val_loss: 0.9830 - val_accuracy: 0.5812 - lr: 0.0010 - 97s/epoch - 3s/step\n",
      "Epoch 29/100\n",
      "36/36 - 97s - loss: 0.8460 - accuracy: 0.6760 - val_loss: 1.0477 - val_accuracy: 0.5653 - lr: 0.0010 - 97s/epoch - 3s/step\n",
      "Epoch 30/100\n",
      "36/36 - 99s - loss: 0.8395 - accuracy: 0.6782 - val_loss: 0.8956 - val_accuracy: 0.6529 - lr: 0.0010 - 99s/epoch - 3s/step\n",
      "Epoch 31/100\n",
      "36/36 - 98s - loss: 0.8368 - accuracy: 0.6803 - val_loss: 1.0099 - val_accuracy: 0.5985 - lr: 0.0010 - 98s/epoch - 3s/step\n",
      "Epoch 32/100\n",
      "36/36 - 97s - loss: 0.8355 - accuracy: 0.6800 - val_loss: 0.8738 - val_accuracy: 0.6621 - lr: 0.0010 - 97s/epoch - 3s/step\n",
      "Epoch 33/100\n",
      "36/36 - 97s - loss: 0.8323 - accuracy: 0.6829 - val_loss: 0.9731 - val_accuracy: 0.6132 - lr: 0.0010 - 97s/epoch - 3s/step\n",
      "Epoch 34/100\n",
      "36/36 - 97s - loss: 0.8257 - accuracy: 0.6839 - val_loss: 0.8607 - val_accuracy: 0.6689 - lr: 0.0010 - 97s/epoch - 3s/step\n",
      "Epoch 35/100\n",
      "36/36 - 101s - loss: 0.8213 - accuracy: 0.6858 - val_loss: 0.9141 - val_accuracy: 0.6440 - lr: 0.0010 - 101s/epoch - 3s/step\n",
      "Epoch 36/100\n",
      "36/36 - 97s - loss: 0.8221 - accuracy: 0.6845 - val_loss: 0.9010 - val_accuracy: 0.6432 - lr: 0.0010 - 97s/epoch - 3s/step\n",
      "Epoch 37/100\n",
      "36/36 - 97s - loss: 0.8162 - accuracy: 0.6885 - val_loss: 0.9183 - val_accuracy: 0.6408 - lr: 0.0010 - 97s/epoch - 3s/step\n",
      "Epoch 38/100\n",
      "36/36 - 96s - loss: 0.8183 - accuracy: 0.6880 - val_loss: 0.8444 - val_accuracy: 0.6672 - lr: 0.0010 - 96s/epoch - 3s/step\n",
      "Epoch 39/100\n",
      "36/36 - 97s - loss: 0.8064 - accuracy: 0.6935 - val_loss: 0.8497 - val_accuracy: 0.6870 - lr: 0.0010 - 97s/epoch - 3s/step\n",
      "Epoch 40/100\n",
      "36/36 - 97s - loss: 0.8051 - accuracy: 0.6933 - val_loss: 0.8053 - val_accuracy: 0.7001 - lr: 0.0010 - 97s/epoch - 3s/step\n",
      "Epoch 41/100\n",
      "36/36 - 98s - loss: 0.8031 - accuracy: 0.6939 - val_loss: 0.8480 - val_accuracy: 0.6750 - lr: 0.0010 - 98s/epoch - 3s/step\n",
      "Epoch 42/100\n",
      "36/36 - 97s - loss: 0.8030 - accuracy: 0.6942 - val_loss: 0.7725 - val_accuracy: 0.7082 - lr: 0.0010 - 97s/epoch - 3s/step\n",
      "Epoch 43/100\n",
      "36/36 - 97s - loss: 0.7958 - accuracy: 0.6966 - val_loss: 0.8123 - val_accuracy: 0.6812 - lr: 0.0010 - 97s/epoch - 3s/step\n",
      "Epoch 44/100\n",
      "36/36 - 97s - loss: 0.7972 - accuracy: 0.6964 - val_loss: 0.8743 - val_accuracy: 0.6763 - lr: 0.0010 - 97s/epoch - 3s/step\n",
      "Epoch 45/100\n",
      "36/36 - 97s - loss: 0.7938 - accuracy: 0.6985 - val_loss: 0.8750 - val_accuracy: 0.6808 - lr: 0.0010 - 97s/epoch - 3s/step\n",
      "Epoch 46/100\n",
      "36/36 - 98s - loss: 0.7932 - accuracy: 0.6974 - val_loss: 0.7184 - val_accuracy: 0.7340 - lr: 0.0010 - 98s/epoch - 3s/step\n",
      "Epoch 47/100\n",
      "36/36 - 96s - loss: 0.7944 - accuracy: 0.6971 - val_loss: 0.7595 - val_accuracy: 0.7400 - lr: 0.0010 - 96s/epoch - 3s/step\n",
      "Epoch 48/100\n",
      "36/36 - 97s - loss: 0.7884 - accuracy: 0.7013 - val_loss: 0.8647 - val_accuracy: 0.6808 - lr: 0.0010 - 97s/epoch - 3s/step\n",
      "Epoch 49/100\n",
      "36/36 - 97s - loss: 0.7842 - accuracy: 0.7021 - val_loss: 0.7647 - val_accuracy: 0.7192 - lr: 0.0010 - 97s/epoch - 3s/step\n",
      "Epoch 50/100\n",
      "36/36 - 97s - loss: 0.7823 - accuracy: 0.7024 - val_loss: 0.7985 - val_accuracy: 0.7185 - lr: 0.0010 - 97s/epoch - 3s/step\n",
      "Epoch 51/100\n",
      "36/36 - 97s - loss: 0.7779 - accuracy: 0.7045 - val_loss: 0.8233 - val_accuracy: 0.6961 - lr: 0.0010 - 97s/epoch - 3s/step\n",
      "Epoch 52/100\n",
      "36/36 - 97s - loss: 0.7832 - accuracy: 0.7013 - val_loss: 0.7476 - val_accuracy: 0.7146 - lr: 0.0010 - 97s/epoch - 3s/step\n",
      "Epoch 53/100\n",
      "36/36 - 97s - loss: 0.7755 - accuracy: 0.7060 - val_loss: 0.8189 - val_accuracy: 0.6928 - lr: 0.0010 - 97s/epoch - 3s/step\n",
      "Epoch 54/100\n",
      "36/36 - 98s - loss: 0.7727 - accuracy: 0.7067 - val_loss: 0.7638 - val_accuracy: 0.7158 - lr: 0.0010 - 98s/epoch - 3s/step\n",
      "Epoch 55/100\n",
      "36/36 - 97s - loss: 0.7721 - accuracy: 0.7061 - val_loss: 0.7446 - val_accuracy: 0.7250 - lr: 0.0010 - 97s/epoch - 3s/step\n",
      "Epoch 56/100\n",
      "36/36 - 97s - loss: 0.7734 - accuracy: 0.7072 - val_loss: 0.6858 - val_accuracy: 0.7708 - lr: 0.0010 - 97s/epoch - 3s/step\n",
      "Epoch 57/100\n",
      "36/36 - 97s - loss: 0.7668 - accuracy: 0.7100 - val_loss: 0.7727 - val_accuracy: 0.7371 - lr: 0.0010 - 97s/epoch - 3s/step\n",
      "Epoch 58/100\n",
      "36/36 - 97s - loss: 0.7723 - accuracy: 0.7054 - val_loss: 0.7321 - val_accuracy: 0.7458 - lr: 0.0010 - 97s/epoch - 3s/step\n",
      "Epoch 59/100\n",
      "36/36 - 100s - loss: 0.7608 - accuracy: 0.7106 - val_loss: 0.7750 - val_accuracy: 0.7108 - lr: 0.0010 - 100s/epoch - 3s/step\n",
      "Epoch 60/100\n",
      "36/36 - 99s - loss: 0.7612 - accuracy: 0.7119 - val_loss: 0.7388 - val_accuracy: 0.7081 - lr: 0.0010 - 99s/epoch - 3s/step\n",
      "Epoch 61/100\n",
      "36/36 - 98s - loss: 0.7699 - accuracy: 0.7071 - val_loss: 0.6953 - val_accuracy: 0.7679 - lr: 0.0010 - 98s/epoch - 3s/step\n",
      "Epoch 62/100\n",
      "36/36 - 102s - loss: 0.7611 - accuracy: 0.7123 - val_loss: 0.7230 - val_accuracy: 0.7355 - lr: 0.0010 - 102s/epoch - 3s/step\n",
      "Epoch 63/100\n",
      "36/36 - 106s - loss: 0.7633 - accuracy: 0.7102 - val_loss: 0.7823 - val_accuracy: 0.7186 - lr: 0.0010 - 106s/epoch - 3s/step\n",
      "Epoch 64/100\n",
      "36/36 - 96s - loss: 0.7572 - accuracy: 0.7114 - val_loss: 0.7291 - val_accuracy: 0.7472 - lr: 0.0010 - 96s/epoch - 3s/step\n",
      "Epoch 65/100\n",
      "36/36 - 98s - loss: 0.7554 - accuracy: 0.7124 - val_loss: 0.6867 - val_accuracy: 0.7752 - lr: 0.0010 - 98s/epoch - 3s/step\n",
      "Epoch 66/100\n",
      "36/36 - 97s - loss: 0.7537 - accuracy: 0.7129 - val_loss: 0.7839 - val_accuracy: 0.6994 - lr: 0.0010 - 97s/epoch - 3s/step\n",
      "Epoch 67/100\n",
      "36/36 - 96s - loss: 0.7538 - accuracy: 0.7131 - val_loss: 0.6858 - val_accuracy: 0.7566 - lr: 0.0010 - 96s/epoch - 3s/step\n",
      "Epoch 68/100\n",
      "36/36 - 97s - loss: 0.7521 - accuracy: 0.7136 - val_loss: 0.7330 - val_accuracy: 0.7186 - lr: 0.0010 - 97s/epoch - 3s/step\n",
      "Epoch 69/100\n",
      "36/36 - 98s - loss: 0.7511 - accuracy: 0.7148 - val_loss: 0.6527 - val_accuracy: 0.7666 - lr: 0.0010 - 98s/epoch - 3s/step\n",
      "Epoch 70/100\n",
      "36/36 - 96s - loss: 0.7491 - accuracy: 0.7166 - val_loss: 0.6635 - val_accuracy: 0.7759 - lr: 0.0010 - 96s/epoch - 3s/step\n",
      "Epoch 71/100\n",
      "36/36 - 97s - loss: 0.7439 - accuracy: 0.7172 - val_loss: 0.7250 - val_accuracy: 0.7418 - lr: 0.0010 - 97s/epoch - 3s/step\n",
      "Epoch 72/100\n",
      "36/36 - 100s - loss: 0.7463 - accuracy: 0.7172 - val_loss: 0.7169 - val_accuracy: 0.7592 - lr: 0.0010 - 100s/epoch - 3s/step\n",
      "Epoch 73/100\n",
      "36/36 - 97s - loss: 0.7437 - accuracy: 0.7170 - val_loss: 0.7031 - val_accuracy: 0.7637 - lr: 0.0010 - 97s/epoch - 3s/step\n",
      "Epoch 74/100\n",
      "36/36 - 97s - loss: 0.7424 - accuracy: 0.7190 - val_loss: 0.7863 - val_accuracy: 0.7304 - lr: 0.0010 - 97s/epoch - 3s/step\n",
      "Epoch 75/100\n",
      "36/36 - 96s - loss: 0.7416 - accuracy: 0.7177 - val_loss: 0.7902 - val_accuracy: 0.7114 - lr: 0.0010 - 96s/epoch - 3s/step\n",
      "Epoch 76/100\n",
      "36/36 - 97s - loss: 0.7509 - accuracy: 0.7144 - val_loss: 0.7901 - val_accuracy: 0.7009 - lr: 0.0010 - 97s/epoch - 3s/step\n",
      "Epoch 77/100\n",
      "36/36 - 97s - loss: 0.7410 - accuracy: 0.7191 - val_loss: 0.7196 - val_accuracy: 0.7373 - lr: 0.0010 - 97s/epoch - 3s/step\n",
      "Epoch 78/100\n",
      "36/36 - 98s - loss: 0.7418 - accuracy: 0.7178 - val_loss: 0.8274 - val_accuracy: 0.7066 - lr: 0.0010 - 98s/epoch - 3s/step\n",
      "Epoch 79/100\n",
      "36/36 - 97s - loss: 0.7399 - accuracy: 0.7187 - val_loss: 0.6974 - val_accuracy: 0.7554 - lr: 0.0010 - 97s/epoch - 3s/step\n",
      "Epoch 80/100\n",
      "36/36 - 97s - loss: 0.7331 - accuracy: 0.7219 - val_loss: 0.7025 - val_accuracy: 0.7576 - lr: 0.0010 - 97s/epoch - 3s/step\n",
      "Epoch 81/100\n",
      "36/36 - 96s - loss: 0.7328 - accuracy: 0.7216 - val_loss: 0.6654 - val_accuracy: 0.7878 - lr: 0.0010 - 96s/epoch - 3s/step\n",
      "Epoch 82/100\n",
      "36/36 - 96s - loss: 0.7376 - accuracy: 0.7210 - val_loss: 0.7783 - val_accuracy: 0.7320 - lr: 0.0010 - 96s/epoch - 3s/step\n",
      "Epoch 83/100\n",
      "36/36 - 97s - loss: 0.7306 - accuracy: 0.7224 - val_loss: 0.6762 - val_accuracy: 0.7643 - lr: 0.0010 - 97s/epoch - 3s/step\n",
      "Epoch 84/100\n",
      "36/36 - 97s - loss: 0.7276 - accuracy: 0.7236 - val_loss: 0.6758 - val_accuracy: 0.7740 - lr: 0.0010 - 97s/epoch - 3s/step\n",
      "Epoch 85/100\n",
      "36/36 - 98s - loss: 0.7263 - accuracy: 0.7239 - val_loss: 0.7173 - val_accuracy: 0.7556 - lr: 0.0010 - 98s/epoch - 3s/step\n",
      "Epoch 86/100\n",
      "36/36 - 97s - loss: 0.7295 - accuracy: 0.7231 - val_loss: 0.7343 - val_accuracy: 0.7489 - lr: 0.0010 - 97s/epoch - 3s/step\n",
      "Epoch 87/100\n",
      "36/36 - 97s - loss: 0.7308 - accuracy: 0.7241 - val_loss: 0.6829 - val_accuracy: 0.7652 - lr: 0.0010 - 97s/epoch - 3s/step\n",
      "Epoch 88/100\n",
      "36/36 - 97s - loss: 0.7243 - accuracy: 0.7250 - val_loss: 0.7794 - val_accuracy: 0.7236 - lr: 0.0010 - 97s/epoch - 3s/step\n",
      "Epoch 89/100\n",
      "36/36 - 98s - loss: 0.7242 - accuracy: 0.7255 - val_loss: 0.6718 - val_accuracy: 0.7621 - lr: 0.0010 - 98s/epoch - 3s/step\n",
      "Epoch 90/100\n",
      "36/36 - 97s - loss: 0.7240 - accuracy: 0.7247 - val_loss: 0.7190 - val_accuracy: 0.7456 - lr: 0.0010 - 97s/epoch - 3s/step\n",
      "Epoch 91/100\n",
      "36/36 - 100s - loss: 0.7258 - accuracy: 0.7244 - val_loss: 0.6531 - val_accuracy: 0.7819 - lr: 0.0010 - 100s/epoch - 3s/step\n",
      "Epoch 92/100\n",
      "36/36 - 97s - loss: 0.7227 - accuracy: 0.7259 - val_loss: 0.7386 - val_accuracy: 0.7533 - lr: 0.0010 - 97s/epoch - 3s/step\n",
      "Epoch 93/100\n",
      "36/36 - 97s - loss: 0.7223 - accuracy: 0.7256 - val_loss: 0.6046 - val_accuracy: 0.8068 - lr: 0.0010 - 97s/epoch - 3s/step\n",
      "Epoch 94/100\n",
      "36/36 - 96s - loss: 0.7278 - accuracy: 0.7241 - val_loss: 0.6843 - val_accuracy: 0.7611 - lr: 0.0010 - 96s/epoch - 3s/step\n",
      "Epoch 95/100\n",
      "36/36 - 96s - loss: 0.7233 - accuracy: 0.7245 - val_loss: 0.7188 - val_accuracy: 0.7610 - lr: 0.0010 - 96s/epoch - 3s/step\n",
      "Epoch 96/100\n",
      "36/36 - 98s - loss: 0.7178 - accuracy: 0.7283 - val_loss: 0.7670 - val_accuracy: 0.7269 - lr: 0.0010 - 98s/epoch - 3s/step\n",
      "Epoch 97/100\n",
      "36/36 - 98s - loss: 0.7169 - accuracy: 0.7285 - val_loss: 0.7433 - val_accuracy: 0.7471 - lr: 0.0010 - 98s/epoch - 3s/step\n",
      "Epoch 98/100\n",
      "36/36 - 99s - loss: 0.7144 - accuracy: 0.7283 - val_loss: 0.7300 - val_accuracy: 0.7492 - lr: 0.0010 - 99s/epoch - 3s/step\n",
      "Epoch 99/100\n",
      "36/36 - 103s - loss: 0.7128 - accuracy: 0.7301 - val_loss: 0.6779 - val_accuracy: 0.7757 - lr: 0.0010 - 103s/epoch - 3s/step\n",
      "Epoch 100/100\n",
      "36/36 - 103s - loss: 0.7149 - accuracy: 0.7296 - val_loss: 0.8164 - val_accuracy: 0.6945 - lr: 0.0010 - 103s/epoch - 3s/step\n"
     ]
    }
   ],
   "source": [
    "model.compile(loss= 'categorical_crossentropy', optimizer= adam, metrics=['accuracy'])\n",
    "history = model.fit(X_train, y_train, \n",
    "                                epochs=100, \n",
    "                                batch_size=2500, \n",
    "                                verbose=2, \n",
    "                                validation_data=(X_test, y_test), \n",
    "                                callbacks=[lrate])"
   ]
  },
  {
   "cell_type": "code",
   "execution_count": 152,
   "metadata": {},
   "outputs": [],
   "source": [
    "from sklearn.metrics import classification_report, confusion_matrix\n",
    "\n",
    "labels = [\"Normal\",\n",
    "          \"Supraventricular ectopic beats\",\n",
    "          \"Ventricular ectopic beats\",\n",
    "          \"Fusion Beats\",\n",
    "          \"Unknown Beats\"]"
   ]
  },
  {
   "cell_type": "code",
   "execution_count": 153,
   "metadata": {},
   "outputs": [
    {
     "name": "stdout",
     "output_type": "stream",
     "text": [
      "685/685 [==============================] - 13s 12ms/step\n",
      "[[12016  2879   429  2090   704]\n",
      " [   89   409    12    37     9]\n",
      " [   87    57  1129   143    32]\n",
      " [   12     0     5   145     0]\n",
      " [   60    12    19    13  1504]]\n"
     ]
    }
   ],
   "source": [
    "# Test Model\n",
    "predY = model.predict(X_test)\n",
    "y_pred = np.argmax(predY,axis=1)\n",
    "y_actual = np.argmax(y_test,axis=1)\n",
    "cm = confusion_matrix(y_actual, y_pred)\n",
    "print(cm)"
   ]
  },
  {
   "cell_type": "code",
   "execution_count": 154,
   "metadata": {},
   "outputs": [
    {
     "name": "stdout",
     "output_type": "stream",
     "text": [
      "                                precision    recall  f1-score   support\n",
      "\n",
      "                        Normal       0.98      0.66      0.79     18118\n",
      "Supraventricular ectopic beats       0.12      0.74      0.21       556\n",
      "     Ventricular ectopic beats       0.71      0.78      0.74      1448\n",
      "                  Fusion Beats       0.06      0.90      0.11       162\n",
      "                 Unknown Beats       0.67      0.94      0.78      1608\n",
      "\n",
      "                      accuracy                           0.69     21892\n",
      "                     macro avg       0.51      0.80      0.53     21892\n",
      "                  weighted avg       0.91      0.69      0.77     21892\n",
      "\n"
     ]
    }
   ],
   "source": [
    "print(classification_report(y_actual, y_pred, target_names=labels))"
   ]
  },
  {
   "cell_type": "code",
   "execution_count": 155,
   "metadata": {
    "_uuid": "d43023d26a87e3c4702b96bea5962c990c76aa0a",
    "jupyter": {
     "outputs_hidden": true
    }
   },
   "outputs": [
    {
     "name": "stdout",
     "output_type": "stream",
     "text": [
      "44/44 [==============================] - 8s 102ms/step\n"
     ]
    }
   ],
   "source": [
    "y_pred = model.predict(X_test, batch_size = 500)"
   ]
  },
  {
   "cell_type": "code",
   "execution_count": 156,
   "metadata": {
    "_uuid": "20cfe7f5891e3c26c599fa4cd728ac0a499ac70e",
    "jupyter": {
     "outputs_hidden": true
    }
   },
   "outputs": [
    {
     "name": "stdout",
     "output_type": "stream",
     "text": [
      "              precision    recall  f1-score   support\n",
      "\n",
      "           0       0.98      0.66      0.79     18118\n",
      "           1       0.12      0.74      0.21       556\n",
      "           2       0.71      0.78      0.74      1448\n",
      "           3       0.06      0.90      0.11       162\n",
      "           4       0.67      0.94      0.78      1608\n",
      "\n",
      "    accuracy                           0.69     21892\n",
      "   macro avg       0.51      0.80      0.53     21892\n",
      "weighted avg       0.91      0.69      0.77     21892\n",
      "\n"
     ]
    }
   ],
   "source": [
    "print(classification_report(y_test.argmax(axis=1), y_pred.argmax(axis=1)))"
   ]
  },
  {
   "cell_type": "code",
   "execution_count": 157,
   "metadata": {
    "_uuid": "017f2431a45766fb0d4b2ef17ce613c1142ca085",
    "jupyter": {
     "outputs_hidden": true
    }
   },
   "outputs": [
    {
     "name": "stdout",
     "output_type": "stream",
     "text": [
      "ranking-based average precision : 0.833\n",
      "Ranking loss : 0.100\n",
      "Coverage_error : 1.398\n"
     ]
    }
   ],
   "source": [
    "print(\"ranking-based average precision : {:.3f}\".format(label_ranking_average_precision_score(y_test, y_pred)))\n",
    "print(\"Ranking loss : {:.3f}\".format(label_ranking_loss(y_test, y_pred)))\n",
    "print(\"Coverage_error : {:.3f}\".format(coverage_error(y_test, y_pred)))"
   ]
  },
  {
   "cell_type": "code",
   "execution_count": 158,
   "metadata": {},
   "outputs": [
    {
     "name": "stdout",
     "output_type": "stream",
     "text": [
      "Normalized confusion matrix\n"
     ]
    },
    {
     "data": {
      "image/png": "[encoded data removed]",
      "text/plain": [
       "<Figure size 720x720 with 2 Axes>"
      ]
     },
     "metadata": {
      "needs_background": "light"
     },
     "output_type": "display_data"
    }
   ],
   "source": [
    "import itertools\n",
    "def plot_confusion_matrix(cm, classes,\n",
    "                          normalize=False,\n",
    "                          title='Confusion matrix',\n",
    "                          cmap=plt.cm.Blues):\n",
    "    \"\"\"\n",
    "    This function prints and plots the confusion matrix.\n",
    "    Normalization can be applied by setting `normalize=True`.\n",
    "    \"\"\"\n",
    "    if normalize:\n",
    "        cm = cm.astype('float') / cm.sum(axis=1)[:, np.newaxis]\n",
    "        print(\"Normalized confusion matrix\")\n",
    "    else:\n",
    "        print('Confusion matrix, without normalization')\n",
    "\n",
    "    plt.imshow(cm, interpolation='nearest', cmap=cmap)\n",
    "    plt.title(title)\n",
    "    plt.colorbar()\n",
    "    tick_marks = np.arange(len(classes))\n",
    "    plt.xticks(tick_marks, classes, rotation=45)\n",
    "    plt.yticks(tick_marks, classes)\n",
    "\n",
    "    fmt = '.2f' if normalize else 'd'\n",
    "    thresh = cm.max() / 2.\n",
    "    for i, j in itertools.product(range(cm.shape[0]), range(cm.shape[1])):\n",
    "        plt.text(j, i, format(cm[i, j], fmt),\n",
    "                 horizontalalignment=\"center\",\n",
    "                 color=\"white\" if cm[i, j] > thresh else \"black\", fontsize=30)\n",
    "\n",
    "    plt.tight_layout()\n",
    "    plt.ylabel('True label')\n",
    "    plt.xlabel('Predicted label')\n",
    "\n",
    "# Compute confusion matrix\n",
    "cnf_matrix = confusion_matrix(y_test.argmax(axis=1), y_pred.argmax(axis=1))\n",
    "np.set_printoptions(precision=2)\n",
    "\n",
    "# Plot non-normalized confusion matrix\n",
    "plt.figure(figsize=(10, 10))\n",
    "plot_confusion_matrix(cnf_matrix, classes=['N', 'S', 'V', 'F', 'Q'],normalize=True,\n",
    "                      title='Confusion matrix, with normalization')\n",
    "plt.show()"
   ]
  },
  {
   "cell_type": "code",
   "execution_count": 159,
   "metadata": {},
   "outputs": [],
   "source": [
    "FP = cnf_matrix.sum(axis=0) - np.diag(cnf_matrix)  \n",
    "FN = cnf_matrix.sum(axis=1) - np.diag(cnf_matrix)\n",
    "TP = np.diag(cnf_matrix)\n",
    "TN = cnf_matrix.sum() - (FP + FN + TP)\n",
    "\n",
    "# Sensitivity, hit rate, recall, or true positive rate\n",
    "RECALL = TP/(TP+FN)\n",
    "# Specificity or true negative rate\n",
    "SPECIFICITY = TN/(TN+FP) \n",
    "# Precision or positive predictive value\n",
    "PRECISION = TP/(TP+FP)\n",
    "# Negative predictive value\n",
    "NPV = TN/(TN+FN)\n",
    "# Fall out or false positive rate\n",
    "FPR = FP/(FP+TN)\n",
    "# False negative rate\n",
    "FNR = FN/(TP+FN)\n",
    "# False discovery rate\n",
    "FDR = FP/(TP+FP)\n",
    "\n",
    "# Overall accuracy\n",
    "ACC = (TP+TN)/(TP+FP+FN+TN)\n",
    "#F1-score\n",
    "F1 = 2*((RECALL*PRECISION)/(RECALL+PRECISION))"
   ]
  },
  {
   "cell_type": "code",
   "execution_count": 161,
   "metadata": {},
   "outputs": [
    {
     "name": "stdout",
     "output_type": "stream",
     "text": [
      "44/44 [==============================] - 6s 105ms/step - loss: 0.8164 - accuracy: 0.6945\n",
      "44/44 [==============================] - 6s 111ms/step - loss: 0.9331 - accuracy: 1.0000\n",
      "Accuracy: 81.64%\n",
      "Accuracy: 69.45%\n",
      "Precision: 50.77%\n",
      "Specificity: 92.63%\n",
      "Recall :80.18%\n",
      "F1-Score :52.68%\n",
      "Recall:80.18%\n"
     ]
    }
   ],
   "source": [
    "from statistics import mean, median\n",
    "from tkinter import N\n",
    "scores = model.evaluate((X_test), y_test, batch_size = 500)\n",
    "scores2 = model.evaluate(X_test, y_pred, batch_size = 500)\n",
    "print(\"Accuracy: %.2f%%\" % (scores[0]*100))\n",
    "print(\"Accuracy: %.2f%%\" % (scores[1]*100))\n",
    "PRE = mean(PRECISION)\n",
    "print(\"Precision: %.2f%%\"% (PRE*100))\n",
    "#print(\"Precision: \", PRECISION)\n",
    "SPE = mean(SPECIFICITY)\n",
    "print(\"Specificity: %.2f%%\"% (SPE*100))\n",
    "#print(\"Specificity\", SPECIFICITY)\n",
    "RE = mean(RECALL)\n",
    "print(\"Recall :%.2f%%\"% (RE*100))\n",
    "#print(\"Recall\", RECALL)\n",
    "#print(\"F1: \", F1)\n",
    "F1S = mean(F1)\n",
    "print(\"F1-Score :%.2f%%\"% (F1S*100))\n",
    "Z= mean(1-FNR)*100\n",
    "print(\"Recall:%.2f%%\"%Z)"
   ]
  }
 ],
 "metadata": {
  "kernelspec": {
   "display_name": "base",
   "language": "python",
   "name": "python3"
  },
  "language_info": {
   "codemirror_mode": {
    "name": "ipython",
    "version": 3
   },
   "file_extension": ".py",
   "mimetype": "text/x-python",
   "name": "python",
   "nbconvert_exporter": "python",
   "pygments_lexer": "ipython3",
   "version": "3.9.7"
  },
  "vscode": {
   "interpreter": {
    "hash": "52d90d3cc821dd0beedd6e719dbdecc722c226b9d90ed1b663c34e1877f1142e"
   }
  }
 },
 "nbformat": 4,
 "nbformat_minor": 4
}
