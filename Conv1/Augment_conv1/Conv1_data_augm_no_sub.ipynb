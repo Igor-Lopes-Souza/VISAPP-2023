{
 "cells": [
  {
   "cell_type": "code",
   "execution_count": 3,
   "metadata": {
    "_cell_guid": "b1076dfc-b9ad-4769-8c92-a6c4dae69d19",
    "_uuid": "8f2839f25d086af736a60e9eeb907d3b93b6e0e5",
    "jupyter": {
     "outputs_hidden": true
    }
   },
   "outputs": [
    {
     "name": "stdout",
     "output_type": "stream",
     "text": [
      "['mitbih_test.csv', 'mitbih_test.csv.zip', 'mitbih_train.csv', 'mitbih_train.csv.zip', 'ptbdb_abnormal.csv', 'ptbdb_abnormal.csv.zip', 'ptbdb_normal.csv', 'ptbdb_normal.csv.zip']\n"
     ]
    }
   ],
   "source": [
    "# This Python 3 environment comes with many helpful analytics libraries installed0\n",
    "# For example, here's several helpful packages to load in \n",
    "import math\n",
    "import random\n",
    "import pickle\n",
    "import itertools\n",
    "\n",
    "import numpy as np # linear algebra\n",
    "import pandas as pd # data processing, CSV file I/O (e.g. pd.read_csv)\n",
    "\n",
    "from sklearn.metrics import accuracy_score, classification_report, confusion_matrix, label_ranking_average_precision_score, label_ranking_loss, coverage_error \n",
    "\n",
    "from sklearn.utils import shuffle\n",
    "\n",
    "from scipy.signal import resample\n",
    "\n",
    "import matplotlib.pyplot as plt\n",
    "\n",
    "np.random.seed(42)\n",
    "\n",
    "import pickle\n",
    "#from sklearn.preprocessing import OneHotEncoder\n",
    "from keras.utils.np_utils import to_categorical\n",
    "from keras.models import Model\n",
    "from keras.layers import Input, Dense, Conv1D, MaxPooling1D, Softmax, Add, Flatten, Activation , Dropout\n",
    "from keras import backend as K\n",
    "from keras.optimizers import Adam, Adamax,SGD\n",
    "from keras.callbacks import LearningRateScheduler, ModelCheckpoint\n",
    "\n",
    "# Input data files are available in the \"../input/\" directory.\n",
    "# For example, running this (by clicking run or pressing Shift+Enter) will list the files in the input directory\n",
    "\n",
    "import os\n",
    "print(os.listdir(\"/UFS/F2 - Copia/database\"))\n",
    "\n",
    "# Any results you write to the current directory are saved as output."
   ]
  },
  {
   "cell_type": "code",
   "execution_count": 2,
   "metadata": {},
   "outputs": [
    {
     "name": "stdout",
     "output_type": "stream",
     "text": [
      "Name: numpy\n",
      "Version: 1.21.5\n",
      "Summary: NumPy is the fundamental package for array computing with Python.\n",
      "Home-page: https://www.numpy.org\n",
      "Author: Travis E. Oliphant et al.\n",
      "Author-email: \n",
      "License: BSD\n",
      "Location: c:\\users\\usuario\\anaconda3\\lib\\site-packages\n",
      "Requires: \n",
      "Required-by: xarray, tifffile, tensorflow, tensorboard, tables, statsmodels, seaborn, scipy, scikit-learn, scikit-image, PyWavelets, pyerfa, patsy, pandas, opt-einsum, numexpr, numba, mkl-random, mkl-fft, matplotlib, Keras-Preprocessing, imbalanced-learn, imageio, imagecodecs, hvplot, holoviews, h5py, gensim, datashape, datashader, daal4py, Bottleneck, bokeh, bkcharts, astropy\n",
      "Note: you may need to restart the kernel to use updated packages.\n"
     ]
    }
   ],
   "source": [
    "pip show numpy"
   ]
  },
  {
   "cell_type": "code",
   "execution_count": 2,
   "metadata": {
    "_cell_guid": "79c7e3d0-c299-4dcb-8224-4455121ee9b0",
    "_uuid": "d629ff2d2480ee46fbb7e2d37f6b5fab8052498a",
    "jupyter": {
     "outputs_hidden": true
    }
   },
   "outputs": [],
   "source": [
    "train_df = pd.read_csv(\"/UFS/F2 - Copia/database/mitbih_train.csv\", header=None)\n",
    "test_df = pd.read_csv(\"/UFS/F2 - Copia/database/mitbih_test.csv\", header=None)\n",
    "#df = pd.concat([df, df2], axis=0)"
   ]
  },
  {
   "cell_type": "code",
   "execution_count": 3,
   "metadata": {
    "_uuid": "494fc8a26ba40beb73fc1a4f7b219b213fb7705e",
    "jupyter": {
     "outputs_hidden": true
    }
   },
   "outputs": [
    {
     "data": {
      "text/html": [
       "<div>\n",
       "<style scoped>\n",
       "    .dataframe tbody tr th:only-of-type {\n",
       "        vertical-align: middle;\n",
       "    }\n",
       "\n",
       "    .dataframe tbody tr th {\n",
       "        vertical-align: top;\n",
       "    }\n",
       "\n",
       "    .dataframe thead th {\n",
       "        text-align: right;\n",
       "    }\n",
       "</style>\n",
       "<table border=\"1\" class=\"dataframe\">\n",
       "  <thead>\n",
       "    <tr style=\"text-align: right;\">\n",
       "      <th></th>\n",
       "      <th>0</th>\n",
       "      <th>1</th>\n",
       "      <th>2</th>\n",
       "      <th>3</th>\n",
       "      <th>4</th>\n",
       "      <th>5</th>\n",
       "      <th>6</th>\n",
       "      <th>7</th>\n",
       "      <th>8</th>\n",
       "      <th>9</th>\n",
       "      <th>...</th>\n",
       "      <th>178</th>\n",
       "      <th>179</th>\n",
       "      <th>180</th>\n",
       "      <th>181</th>\n",
       "      <th>182</th>\n",
       "      <th>183</th>\n",
       "      <th>184</th>\n",
       "      <th>185</th>\n",
       "      <th>186</th>\n",
       "      <th>187</th>\n",
       "    </tr>\n",
       "  </thead>\n",
       "  <tbody>\n",
       "    <tr>\n",
       "      <th>0</th>\n",
       "      <td>0.977941</td>\n",
       "      <td>0.926471</td>\n",
       "      <td>0.681373</td>\n",
       "      <td>0.245098</td>\n",
       "      <td>0.154412</td>\n",
       "      <td>0.191176</td>\n",
       "      <td>0.151961</td>\n",
       "      <td>0.085784</td>\n",
       "      <td>0.058824</td>\n",
       "      <td>0.049020</td>\n",
       "      <td>...</td>\n",
       "      <td>0.0</td>\n",
       "      <td>0.0</td>\n",
       "      <td>0.0</td>\n",
       "      <td>0.0</td>\n",
       "      <td>0.0</td>\n",
       "      <td>0.0</td>\n",
       "      <td>0.0</td>\n",
       "      <td>0.0</td>\n",
       "      <td>0.0</td>\n",
       "      <td>0.0</td>\n",
       "    </tr>\n",
       "    <tr>\n",
       "      <th>1</th>\n",
       "      <td>0.960114</td>\n",
       "      <td>0.863248</td>\n",
       "      <td>0.461538</td>\n",
       "      <td>0.196581</td>\n",
       "      <td>0.094017</td>\n",
       "      <td>0.125356</td>\n",
       "      <td>0.099715</td>\n",
       "      <td>0.088319</td>\n",
       "      <td>0.074074</td>\n",
       "      <td>0.082621</td>\n",
       "      <td>...</td>\n",
       "      <td>0.0</td>\n",
       "      <td>0.0</td>\n",
       "      <td>0.0</td>\n",
       "      <td>0.0</td>\n",
       "      <td>0.0</td>\n",
       "      <td>0.0</td>\n",
       "      <td>0.0</td>\n",
       "      <td>0.0</td>\n",
       "      <td>0.0</td>\n",
       "      <td>0.0</td>\n",
       "    </tr>\n",
       "    <tr>\n",
       "      <th>2</th>\n",
       "      <td>1.000000</td>\n",
       "      <td>0.659459</td>\n",
       "      <td>0.186486</td>\n",
       "      <td>0.070270</td>\n",
       "      <td>0.070270</td>\n",
       "      <td>0.059459</td>\n",
       "      <td>0.056757</td>\n",
       "      <td>0.043243</td>\n",
       "      <td>0.054054</td>\n",
       "      <td>0.045946</td>\n",
       "      <td>...</td>\n",
       "      <td>0.0</td>\n",
       "      <td>0.0</td>\n",
       "      <td>0.0</td>\n",
       "      <td>0.0</td>\n",
       "      <td>0.0</td>\n",
       "      <td>0.0</td>\n",
       "      <td>0.0</td>\n",
       "      <td>0.0</td>\n",
       "      <td>0.0</td>\n",
       "      <td>0.0</td>\n",
       "    </tr>\n",
       "    <tr>\n",
       "      <th>3</th>\n",
       "      <td>0.925414</td>\n",
       "      <td>0.665746</td>\n",
       "      <td>0.541436</td>\n",
       "      <td>0.276243</td>\n",
       "      <td>0.196133</td>\n",
       "      <td>0.077348</td>\n",
       "      <td>0.071823</td>\n",
       "      <td>0.060773</td>\n",
       "      <td>0.066298</td>\n",
       "      <td>0.058011</td>\n",
       "      <td>...</td>\n",
       "      <td>0.0</td>\n",
       "      <td>0.0</td>\n",
       "      <td>0.0</td>\n",
       "      <td>0.0</td>\n",
       "      <td>0.0</td>\n",
       "      <td>0.0</td>\n",
       "      <td>0.0</td>\n",
       "      <td>0.0</td>\n",
       "      <td>0.0</td>\n",
       "      <td>0.0</td>\n",
       "    </tr>\n",
       "    <tr>\n",
       "      <th>4</th>\n",
       "      <td>0.967136</td>\n",
       "      <td>1.000000</td>\n",
       "      <td>0.830986</td>\n",
       "      <td>0.586854</td>\n",
       "      <td>0.356808</td>\n",
       "      <td>0.248826</td>\n",
       "      <td>0.145540</td>\n",
       "      <td>0.089202</td>\n",
       "      <td>0.117371</td>\n",
       "      <td>0.150235</td>\n",
       "      <td>...</td>\n",
       "      <td>0.0</td>\n",
       "      <td>0.0</td>\n",
       "      <td>0.0</td>\n",
       "      <td>0.0</td>\n",
       "      <td>0.0</td>\n",
       "      <td>0.0</td>\n",
       "      <td>0.0</td>\n",
       "      <td>0.0</td>\n",
       "      <td>0.0</td>\n",
       "      <td>0.0</td>\n",
       "    </tr>\n",
       "  </tbody>\n",
       "</table>\n",
       "<p>5 rows × 188 columns</p>\n",
       "</div>"
      ],
      "text/plain": [
       "        0         1         2         3         4         5         6    \\\n",
       "0  0.977941  0.926471  0.681373  0.245098  0.154412  0.191176  0.151961   \n",
       "1  0.960114  0.863248  0.461538  0.196581  0.094017  0.125356  0.099715   \n",
       "2  1.000000  0.659459  0.186486  0.070270  0.070270  0.059459  0.056757   \n",
       "3  0.925414  0.665746  0.541436  0.276243  0.196133  0.077348  0.071823   \n",
       "4  0.967136  1.000000  0.830986  0.586854  0.356808  0.248826  0.145540   \n",
       "\n",
       "        7         8         9    ...  178  179  180  181  182  183  184  185  \\\n",
       "0  0.085784  0.058824  0.049020  ...  0.0  0.0  0.0  0.0  0.0  0.0  0.0  0.0   \n",
       "1  0.088319  0.074074  0.082621  ...  0.0  0.0  0.0  0.0  0.0  0.0  0.0  0.0   \n",
       "2  0.043243  0.054054  0.045946  ...  0.0  0.0  0.0  0.0  0.0  0.0  0.0  0.0   \n",
       "3  0.060773  0.066298  0.058011  ...  0.0  0.0  0.0  0.0  0.0  0.0  0.0  0.0   \n",
       "4  0.089202  0.117371  0.150235  ...  0.0  0.0  0.0  0.0  0.0  0.0  0.0  0.0   \n",
       "\n",
       "   186  187  \n",
       "0  0.0  0.0  \n",
       "1  0.0  0.0  \n",
       "2  0.0  0.0  \n",
       "3  0.0  0.0  \n",
       "4  0.0  0.0  \n",
       "\n",
       "[5 rows x 188 columns]"
      ]
     },
     "execution_count": 3,
     "metadata": {},
     "output_type": "execute_result"
    }
   ],
   "source": [
    "train_df.head()"
   ]
  },
  {
   "cell_type": "code",
   "execution_count": 4,
   "metadata": {
    "_uuid": "5281cb19f54f3bd379f875c24ae52b3b15fcafaf",
    "jupyter": {
     "outputs_hidden": true
    }
   },
   "outputs": [
    {
     "name": "stdout",
     "output_type": "stream",
     "text": [
      "<class 'pandas.core.frame.DataFrame'>\n",
      "RangeIndex: 87554 entries, 0 to 87553\n",
      "Columns: 188 entries, 0 to 187\n",
      "dtypes: float64(188)\n",
      "memory usage: 125.6 MB\n",
      "17510\n"
     ]
    }
   ],
   "source": [
    "train_df.info()\n",
    "dataset_row = train_df.shape[0]\n",
    "dataset_size= int(dataset_row/5)\n",
    "print(dataset_size)"
   ]
  },
  {
   "cell_type": "code",
   "execution_count": 5,
   "metadata": {},
   "outputs": [
    {
     "name": "stdout",
     "output_type": "stream",
     "text": [
      "0    72471\n",
      "4     6431\n",
      "2     5788\n",
      "1     2223\n",
      "3      641\n",
      "Name: 187, dtype: int64\n"
     ]
    }
   ],
   "source": [
    "train_df[187]=train_df[187].astype(int)\n",
    "equilibre= train_df[187].value_counts()\n",
    "print(equilibre)\n",
    "\n"
   ]
  },
  {
   "cell_type": "code",
   "execution_count": 6,
   "metadata": {
    "_uuid": "0fac0fb658ea34b48055838b4ad85078e883360d",
    "jupyter": {
     "outputs_hidden": true
    }
   },
   "outputs": [],
   "source": [
    "train_df[187].value_counts()\n",
    "equilibre = train_df[187].value_counts()"
   ]
  },
  {
   "cell_type": "code",
   "execution_count": 7,
   "metadata": {},
   "outputs": [
    {
     "data": {
      "image/png": "[encoded data removed]",
      "text/plain": [
       "<Figure size 1440x720 with 1 Axes>"
      ]
     },
     "metadata": {},
     "output_type": "display_data"
    }
   ],
   "source": [
    "plt.figure(figsize=(20,10))\n",
    "my_circle=plt.Circle((0,0), 0.7, color='white')\n",
    "plt.pie(equilibre, labels=['n','q','v','s','f'], colors=['red','green','blue','skyblue','orange'],autopct='%1.1f%%')\n",
    "p=plt.gcf()\n",
    "p.gca().add_artist(my_circle)\n",
    "plt.show()"
   ]
  },
  {
   "cell_type": "code",
   "execution_count": 8,
   "metadata": {},
   "outputs": [],
   "source": [
    "from sklearn.utils import resample\n",
    "k=72471\n",
    "#dataset_size= 2000\n",
    "df_1=train_df[train_df[187]==1]\n",
    "df_2=train_df[train_df[187]==2]\n",
    "df_3=train_df[train_df[187]==3]\n",
    "df_4=train_df[train_df[187]==4]\n",
    "df_0=(train_df[train_df[187]==0]).sample(n=dataset_size,random_state=42)\n",
    "\n",
    "df_1_upsample=resample(df_1,replace=True,n_samples=dataset_size,random_state=123)\n",
    "df_2_upsample=resample(df_2,replace=True,n_samples=dataset_size,random_state=124)\n",
    "df_3_upsample=resample(df_3,replace=True,n_samples=dataset_size,random_state=125)\n",
    "df_4_upsample=resample(df_4,replace=True,n_samples=dataset_size,random_state=126)\n",
    "\n",
    "train_df=pd.concat([df_0,df_1_upsample,df_2_upsample,df_3_upsample,df_4_upsample])"
   ]
  },
  {
   "cell_type": "code",
   "execution_count": 9,
   "metadata": {},
   "outputs": [
    {
     "name": "stdout",
     "output_type": "stream",
     "text": [
      "0    17510\n",
      "1    17510\n",
      "2    17510\n",
      "3    17510\n",
      "4    17510\n",
      "Name: 187, dtype: int64\n"
     ]
    }
   ],
   "source": [
    "equilibre=train_df[187].value_counts()\n",
    "print(equilibre)"
   ]
  },
  {
   "cell_type": "code",
   "execution_count": 10,
   "metadata": {},
   "outputs": [
    {
     "data": {
      "image/png": "[encoded data removed]",
      "text/plain": [
       "<Figure size 1440x720 with 1 Axes>"
      ]
     },
     "metadata": {},
     "output_type": "display_data"
    }
   ],
   "source": [
    "plt.figure(figsize=(20,10))\n",
    "my_circle=plt.Circle( (0,0), 0.7, color='white')\n",
    "plt.pie(equilibre, labels=['n','q','v','s','f'], colors=['red','green','blue','skyblue','orange'],autopct='%1.1f%%')\n",
    "p=plt.gcf()\n",
    "p.gca().add_artist(my_circle)\n",
    "plt.show()"
   ]
  },
  {
   "cell_type": "code",
   "execution_count": 11,
   "metadata": {
    "_uuid": "147b7604bd8a389d7f6aa111f38ae308af7c4eb7",
    "jupyter": {
     "outputs_hidden": true
    }
   },
   "outputs": [],
   "source": [
    "M = train_df.values\n",
    "X = M[:, :-1]\n",
    "y = M[:, -1].astype(int)"
   ]
  },
  {
   "cell_type": "code",
   "execution_count": 12,
   "metadata": {
    "_uuid": "504d95532114efa4cc581d80bf02159c3ce519c6",
    "jupyter": {
     "outputs_hidden": true
    }
   },
   "outputs": [],
   "source": [
    "#del train_df\n",
    "#del test_df\n",
    "#del M"
   ]
  },
  {
   "cell_type": "code",
   "execution_count": 13,
   "metadata": {},
   "outputs": [],
   "source": [
    "def add_gaussian_noise(signal):\n",
    "    noise=np.random.normal(0,0.5,186)\n",
    "    return (signal+noise)\n"
   ]
  },
  {
   "cell_type": "code",
   "execution_count": 14,
   "metadata": {},
   "outputs": [],
   "source": [
    "#tempo=c.iloc[0,:186]\n",
    "#bruiter=add_gaussian_noise(tempo)\n",
    "\n",
    "#plt.subplot(2,1,1)\n",
    "#plt.plot(c.iloc[0,:186])\n",
    "\n",
    "#plt.subplot(2,1,2)\n",
    "#plt.plot(bruiter)\n",
    "\n",
    "#plt.show()\n",
    "\n"
   ]
  },
  {
   "cell_type": "code",
   "execution_count": 15,
   "metadata": {},
   "outputs": [],
   "source": [
    "target_train=train_df[187]\n",
    "target_test=test_df[187]\n",
    "y_train=to_categorical(target_train)\n",
    "y_test=to_categorical(target_test)"
   ]
  },
  {
   "cell_type": "code",
   "execution_count": 16,
   "metadata": {},
   "outputs": [],
   "source": [
    "X_train=train_df.iloc[:,:186].values\n",
    "X_test=test_df.iloc[:,:186].values\n",
    "for i in range(len(X_train)):\n",
    "    X_train[i,:186]= add_gaussian_noise(X_train[i,:186])\n",
    "X_train = X_train.reshape(len(X_train), X_train.shape[1],1)\n",
    "X_test = X_test.reshape(len(X_test), X_test.shape[1],1)"
   ]
  },
  {
   "cell_type": "code",
   "execution_count": 17,
   "metadata": {},
   "outputs": [],
   "source": [
    "target_train=train_df[187]\n",
    "target_test=test_df[187]\n",
    "y_train=to_categorical(target_train)\n",
    "y_test=to_categorical(target_test)"
   ]
  },
  {
   "cell_type": "markdown",
   "metadata": {
    "_uuid": "c269ab78773e4b5a960a5e55d2b48c53d5f9c446"
   },
   "source": [
    "# Data augmentation\n",
    "\n",
    "To train properly the model, we sould have to augment all data to the same level. Nevertheless, for a first try, we will just augment the smallest class to the same level as class 1. With that we will be able to have a test set of around 5x800 observations."
   ]
  },
  {
   "cell_type": "markdown",
   "metadata": {
    "_uuid": "c42605d020fd51885437f4af3cf10cebbeafc9bb"
   },
   "source": [
    "# Split"
   ]
  },
  {
   "cell_type": "code",
   "execution_count": 18,
   "metadata": {
    "_uuid": "16c106c2702045790367fc49d7223560fc613d75",
    "jupyter": {
     "outputs_hidden": true
    }
   },
   "outputs": [
    {
     "name": "stdout",
     "output_type": "stream",
     "text": [
      "X_train (87550, 186, 1)\n",
      "y_train (87550, 5)\n",
      "X_test (21892, 186, 1)\n",
      "y_test (21892, 5)\n"
     ]
    }
   ],
   "source": [
    "print(\"X_train\", X_train.shape)\n",
    "print(\"y_train\", y_train.shape)\n",
    "print(\"X_test\", X_test.shape)\n",
    "print(\"y_test\", y_test.shape)"
   ]
  },
  {
   "cell_type": "markdown",
   "metadata": {
    "_uuid": "c4de23b85abe34a726eab268171da0e827bafa35"
   },
   "source": [
    "# Model\n",
    "\n",
    "Now let's re-create the model from the ArXiv Document"
   ]
  },
  {
   "cell_type": "code",
   "execution_count": 19,
   "metadata": {
    "_uuid": "fb0dc9775ddfa761c0ad948d59020fcbd2681c57",
    "jupyter": {
     "outputs_hidden": true
    }
   },
   "outputs": [],
   "source": [
    "n_obs, feature, depth = X_train.shape\n",
    "batch_size = 1500\n",
    "#batch_size = 500"
   ]
  },
  {
   "cell_type": "code",
   "execution_count": null,
   "metadata": {},
   "outputs": [],
   "source": []
  },
  {
   "cell_type": "code",
   "execution_count": 20,
   "metadata": {
    "_uuid": "e70fab0b07290e042ba9cd7c6cba37462a457b03",
    "jupyter": {
     "outputs_hidden": true
    }
   },
   "outputs": [
    {
     "name": "stdout",
     "output_type": "stream",
     "text": [
      "KerasTensor(type_spec=TensorSpec(shape=(None, 8, 32), dtype=tf.float32, name=None), name='conv1d_17/BiasAdd:0', description=\"created by layer 'conv1d_17'\")\n",
      "KerasTensor(type_spec=TensorSpec(shape=(None, 2, 32), dtype=tf.float32, name=None), name='max_pooling1d_4/Squeeze:0', description=\"created by layer 'max_pooling1d_4'\")\n",
      "Model: \"model\"\n",
      "__________________________________________________________________________________________________\n",
      " Layer (type)                   Output Shape         Param #     Connected to                     \n",
      "==================================================================================================\n",
      " input_1 (InputLayer)           [(None, 186, 1)]     0           []                               \n",
      "                                                                                                  \n",
      " conv1d (Conv1D)                (None, 182, 32)      192         ['input_1[0][0]']                \n",
      "                                                                                                  \n",
      " conv1d_1 (Conv1D)              (None, 182, 32)      5152        ['conv1d[0][0]']                 \n",
      "                                                                                                  \n",
      " activation (Activation)        (None, 182, 32)      0           ['conv1d_1[0][0]']               \n",
      "                                                                                                  \n",
      " conv1d_2 (Conv1D)              (None, 182, 32)      5152        ['activation[0][0]']             \n",
      "                                                                                                  \n",
      " conv1d_3 (Conv1D)              (None, 182, 32)      5152        ['conv1d_2[0][0]']               \n",
      "                                                                                                  \n",
      " conv1d_4 (Conv1D)              (None, 182, 32)      5152        ['conv1d_3[0][0]']               \n",
      "                                                                                                  \n",
      " add (Add)                      (None, 182, 32)      0           ['conv1d_4[0][0]',               \n",
      "                                                                  'conv1d[0][0]']                 \n",
      "                                                                                                  \n",
      " activation_1 (Activation)      (None, 182, 32)      0           ['add[0][0]']                    \n",
      "                                                                                                  \n",
      " max_pooling1d (MaxPooling1D)   (None, 89, 32)       0           ['activation_1[0][0]']           \n",
      "                                                                                                  \n",
      " conv1d_5 (Conv1D)              (None, 89, 32)       5152        ['max_pooling1d[0][0]']          \n",
      "                                                                                                  \n",
      " activation_2 (Activation)      (None, 89, 32)       0           ['conv1d_5[0][0]']               \n",
      "                                                                                                  \n",
      " conv1d_6 (Conv1D)              (None, 89, 32)       5152        ['activation_2[0][0]']           \n",
      "                                                                                                  \n",
      " conv1d_7 (Conv1D)              (None, 89, 32)       5152        ['conv1d_6[0][0]']               \n",
      "                                                                                                  \n",
      " conv1d_8 (Conv1D)              (None, 89, 32)       5152        ['conv1d_7[0][0]']               \n",
      "                                                                                                  \n",
      " add_1 (Add)                    (None, 89, 32)       0           ['conv1d_8[0][0]',               \n",
      "                                                                  'max_pooling1d[0][0]']          \n",
      "                                                                                                  \n",
      " activation_3 (Activation)      (None, 89, 32)       0           ['add_1[0][0]']                  \n",
      "                                                                                                  \n",
      " max_pooling1d_1 (MaxPooling1D)  (None, 43, 32)      0           ['activation_3[0][0]']           \n",
      "                                                                                                  \n",
      " conv1d_9 (Conv1D)              (None, 43, 32)       5152        ['max_pooling1d_1[0][0]']        \n",
      "                                                                                                  \n",
      " activation_4 (Activation)      (None, 43, 32)       0           ['conv1d_9[0][0]']               \n",
      "                                                                                                  \n",
      " conv1d_10 (Conv1D)             (None, 43, 32)       5152        ['activation_4[0][0]']           \n",
      "                                                                                                  \n",
      " conv1d_11 (Conv1D)             (None, 43, 32)       5152        ['conv1d_10[0][0]']              \n",
      "                                                                                                  \n",
      " conv1d_12 (Conv1D)             (None, 43, 32)       5152        ['conv1d_11[0][0]']              \n",
      "                                                                                                  \n",
      " add_2 (Add)                    (None, 43, 32)       0           ['conv1d_12[0][0]',              \n",
      "                                                                  'max_pooling1d_1[0][0]']        \n",
      "                                                                                                  \n",
      " activation_5 (Activation)      (None, 43, 32)       0           ['add_2[0][0]']                  \n",
      "                                                                                                  \n",
      " max_pooling1d_2 (MaxPooling1D)  (None, 20, 32)      0           ['activation_5[0][0]']           \n",
      "                                                                                                  \n",
      " conv1d_13 (Conv1D)             (None, 20, 32)       5152        ['max_pooling1d_2[0][0]']        \n",
      "                                                                                                  \n",
      " activation_6 (Activation)      (None, 20, 32)       0           ['conv1d_13[0][0]']              \n",
      "                                                                                                  \n",
      " conv1d_14 (Conv1D)             (None, 20, 32)       5152        ['activation_6[0][0]']           \n",
      "                                                                                                  \n",
      " conv1d_15 (Conv1D)             (None, 20, 32)       5152        ['conv1d_14[0][0]']              \n",
      "                                                                                                  \n",
      " conv1d_16 (Conv1D)             (None, 20, 32)       5152        ['conv1d_15[0][0]']              \n",
      "                                                                                                  \n",
      " add_3 (Add)                    (None, 20, 32)       0           ['conv1d_16[0][0]',              \n",
      "                                                                  'max_pooling1d_2[0][0]']        \n",
      "                                                                                                  \n",
      " activation_7 (Activation)      (None, 20, 32)       0           ['add_3[0][0]']                  \n",
      "                                                                                                  \n",
      " max_pooling1d_3 (MaxPooling1D)  (None, 8, 32)       0           ['activation_7[0][0]']           \n",
      "                                                                                                  \n",
      " conv1d_17 (Conv1D)             (None, 8, 32)        5152        ['max_pooling1d_3[0][0]']        \n",
      "                                                                                                  \n",
      " activation_8 (Activation)      (None, 8, 32)        0           ['conv1d_17[0][0]']              \n",
      "                                                                                                  \n",
      " conv1d_18 (Conv1D)             (None, 8, 32)        5152        ['activation_8[0][0]']           \n",
      "                                                                                                  \n",
      " conv1d_19 (Conv1D)             (None, 8, 32)        5152        ['conv1d_18[0][0]']              \n",
      "                                                                                                  \n",
      " conv1d_20 (Conv1D)             (None, 8, 32)        5152        ['conv1d_19[0][0]']              \n",
      "                                                                                                  \n",
      " add_4 (Add)                    (None, 8, 32)        0           ['conv1d_20[0][0]',              \n",
      "                                                                  'max_pooling1d_3[0][0]']        \n",
      "                                                                                                  \n",
      " activation_9 (Activation)      (None, 8, 32)        0           ['add_4[0][0]']                  \n",
      "                                                                                                  \n",
      " max_pooling1d_4 (MaxPooling1D)  (None, 2, 32)       0           ['activation_9[0][0]']           \n",
      "                                                                                                  \n",
      " dropout (Dropout)              (None, 2, 32)        0           ['max_pooling1d_4[0][0]']        \n",
      "                                                                                                  \n",
      " flatten (Flatten)              (None, 64)           0           ['dropout[0][0]']                \n",
      "                                                                                                  \n",
      " dense (Dense)                  (None, 32)           2080        ['flatten[0][0]']                \n",
      "                                                                                                  \n",
      " activation_10 (Activation)     (None, 32)           0           ['dense[0][0]']                  \n",
      "                                                                                                  \n",
      " dense_1 (Dense)                (None, 32)           1056        ['activation_10[0][0]']          \n",
      "                                                                                                  \n",
      " dense_2 (Dense)                (None, 5)            165         ['dense_1[0][0]']                \n",
      "                                                                                                  \n",
      " softmax (Softmax)              (None, 5)            0           ['dense_2[0][0]']                \n",
      "                                                                                                  \n",
      "==================================================================================================\n",
      "Total params: 106,533\n",
      "Trainable params: 106,533\n",
      "Non-trainable params: 0\n",
      "__________________________________________________________________________________________________\n"
     ]
    }
   ],
   "source": [
    "K.clear_session()\n",
    "\n",
    "inp = Input(shape=(feature, depth))\n",
    "C = Conv1D(filters=32, kernel_size=5, strides=1)(inp)\n",
    "C11 = Conv1D(filters=32, kernel_size=5, strides=1, padding='same')(C)\n",
    "A11 = Activation(\"relu\")(C11)\n",
    "C12 = Conv1D(filters=32, kernel_size=5, strides=1, padding='same')(A11)\n",
    "S11 = Add()([C12, C])\n",
    "A12 = Activation(\"relu\")(S11)\n",
    "#M11 = MaxPooling1D(pool_size=5, strides=2)(A12)\n",
    "\n",
    "\n",
    "C21 = Conv1D(filters=32, kernel_size=5, strides=1, padding='same')(A12)\n",
    "A21 = Activation(\"relu\")(C21)\n",
    "C22 = Conv1D(filters=32, kernel_size=5, strides=1, padding='same')(A21)\n",
    "S21 = Add()([C22, S11])\n",
    "A22 = Activation(\"relu\")(S21)\n",
    "#M21 = MaxPooling1D(pool_size=5, strides=2)(A22)\n",
    "\n",
    "\n",
    "C31 = Conv1D(filters=32, kernel_size=5, strides=1, padding='same')(A22)\n",
    "A31 = Activation(\"relu\")(C31)\n",
    "C32 = Conv1D(filters=32, kernel_size=5, strides=1, padding='same')(A31)\n",
    "S31 = Add()([C32, S21])\n",
    "A32 = Activation(\"relu\")(S31)\n",
    "#M31 = MaxPooling1D(pool_size=5, strides=2)(A32)\n",
    "\n",
    "\n",
    "C41 = Conv1D(filters=32, kernel_size=5, strides=1, padding='same')(A32)\n",
    "A41 = Activation(\"relu\")(C41)\n",
    "C42 = Conv1D(filters=32, kernel_size=5, strides=1, padding='same')(A41)\n",
    "S41 = Add()([C42, S31])\n",
    "A42 = Activation(\"relu\")(S41)\n",
    "#M41 = MaxPooling1D(pool_size=5, strides=2)(A42)\n",
    "\n",
    "\n",
    "C51 = Conv1D(filters=32, kernel_size=5, strides=1, padding='same')(A42)\n",
    "A51 = Activation(\"relu\")(C51)\n",
    "C52 = Conv1D(filters=32, kernel_size=5, strides=1, padding='same')(A51)\n",
    "S51 = Add()([C52, S41])\n",
    "A52 = Activation(\"relu\")(S51)\n",
    "#M51 = MaxPooling1D(pool_size=5, strides=2)(A52)\n",
    "\n",
    "M52 = (Dropout(0.25))(A52)\n",
    "\n",
    "F1 = Flatten()(M52)\n",
    "\n",
    "D1 = Dense(32)(F1)\n",
    "A6 = Activation(\"relu\")(D1)\n",
    "D2 = Dense(32)(A6)\n",
    "D3 = Dense(5)(D2)\n",
    "A7 = Softmax()(D3)\n",
    "\n",
    "model = Model(inputs=inp, outputs=A7)\n",
    "\n",
    "model.summary()"
   ]
  },
  {
   "cell_type": "code",
   "execution_count": 21,
   "metadata": {
    "_uuid": "fdc0d8aa8475330af8d8e652d0b9ce214da66956",
    "jupyter": {
     "outputs_hidden": true
    }
   },
   "outputs": [],
   "source": [
    "def exp_decay(epoch):\n",
    "    initial_lrate = 0.001\n",
    "    k = 0.75\n",
    "    t = n_obs//(10000 * batch_size)  # every epoch we do n_obs/batch_size iteration\n",
    "    lrate = initial_lrate * math.exp(-k*t)\n",
    "    return lrate\n",
    "\n",
    "lrate = LearningRateScheduler(exp_decay)"
   ]
  },
  {
   "cell_type": "code",
   "execution_count": 22,
   "metadata": {
    "_uuid": "abcd2f0e8488c8f3b33cd6ed9ca7fd60fa44404b",
    "jupyter": {
     "outputs_hidden": true
    }
   },
   "outputs": [],
   "source": [
    "#adam = SGD(learning_rate = 0.01)\n",
    "adam = Adamax(learning_rate = 0.001, beta_1 = 0.9, beta_2 = 0.999)"
   ]
  },
  {
   "cell_type": "code",
   "execution_count": 23,
   "metadata": {
    "_uuid": "812e637ae56f6a4be9c8e98d3b501cfb11ef78cb",
    "jupyter": {
     "outputs_hidden": true
    }
   },
   "outputs": [],
   "source": [
    "#model.compile(loss='binary_crossentropy', optimizer=adam, metrics=['accuracy'])"
   ]
  },
  {
   "cell_type": "code",
   "execution_count": 24,
   "metadata": {
    "_uuid": "1e6ef643f6a55ab5b3c1b46126832c3ac45a6a2b",
    "jupyter": {
     "outputs_hidden": true
    }
   },
   "outputs": [
    {
     "name": "stdout",
     "output_type": "stream",
     "text": [
      "Loss: categorical_crossentropy\n",
      "Epoch number: 75\n",
      "fitting with batch size: 1500\n",
      "Epoch 1/75\n"
     ]
    },
    {
     "ename": "KeyboardInterrupt",
     "evalue": "",
     "output_type": "error",
     "traceback": [
      "\u001b[1;31m---------------------------------------------------------------------------\u001b[0m",
      "\u001b[1;31mKeyboardInterrupt\u001b[0m                         Traceback (most recent call last)",
      "\u001b[1;32mf:\\UFS\\F2 - Copia\\Conv1\\Conv3_data_augm2.ipynb Célula: 28\u001b[0m in \u001b[0;36m<cell line: 10>\u001b[1;34m()\u001b[0m\n\u001b[0;32m     <a href='vscode-notebook-cell:/f%3A/UFS/F2%20-%20Copia/Conv1/Conv3_data_augm2.ipynb#X36sZmlsZQ%3D%3D?line=14'>15</a>\u001b[0m     \u001b[39mprint\u001b[39m(\u001b[39mf\u001b[39m\u001b[39m\"\u001b[39m\u001b[39mfitting with batch size: \u001b[39m\u001b[39m{\u001b[39;00mbs\u001b[39m}\u001b[39;00m\u001b[39m\"\u001b[39m)\n\u001b[0;32m     <a href='vscode-notebook-cell:/f%3A/UFS/F2%20-%20Copia/Conv1/Conv3_data_augm2.ipynb#X36sZmlsZQ%3D%3D?line=15'>16</a>\u001b[0m     model\u001b[39m.\u001b[39mcompile(loss\u001b[39m=\u001b[39m loss_range[t], optimizer\u001b[39m=\u001b[39m adam, metrics\u001b[39m=\u001b[39m[\u001b[39m'\u001b[39m\u001b[39maccuracy\u001b[39m\u001b[39m'\u001b[39m])\n\u001b[1;32m---> <a href='vscode-notebook-cell:/f%3A/UFS/F2%20-%20Copia/Conv1/Conv3_data_augm2.ipynb#X36sZmlsZQ%3D%3D?line=16'>17</a>\u001b[0m     history \u001b[39m=\u001b[39m model\u001b[39m.\u001b[39;49mfit(X_train, y_train, \n\u001b[0;32m     <a href='vscode-notebook-cell:/f%3A/UFS/F2%20-%20Copia/Conv1/Conv3_data_augm2.ipynb#X36sZmlsZQ%3D%3D?line=17'>18</a>\u001b[0m                         epochs\u001b[39m=\u001b[39;49mepochs_range[i], \n\u001b[0;32m     <a href='vscode-notebook-cell:/f%3A/UFS/F2%20-%20Copia/Conv1/Conv3_data_augm2.ipynb#X36sZmlsZQ%3D%3D?line=18'>19</a>\u001b[0m                         batch_size\u001b[39m=\u001b[39;49mbatch_range[n], \n\u001b[0;32m     <a href='vscode-notebook-cell:/f%3A/UFS/F2%20-%20Copia/Conv1/Conv3_data_augm2.ipynb#X36sZmlsZQ%3D%3D?line=19'>20</a>\u001b[0m                         verbose\u001b[39m=\u001b[39;49m\u001b[39m2\u001b[39;49m, \n\u001b[0;32m     <a href='vscode-notebook-cell:/f%3A/UFS/F2%20-%20Copia/Conv1/Conv3_data_augm2.ipynb#X36sZmlsZQ%3D%3D?line=20'>21</a>\u001b[0m                         validation_data\u001b[39m=\u001b[39;49m(X_test, y_test), \n\u001b[0;32m     <a href='vscode-notebook-cell:/f%3A/UFS/F2%20-%20Copia/Conv1/Conv3_data_augm2.ipynb#X36sZmlsZQ%3D%3D?line=21'>22</a>\u001b[0m                         callbacks\u001b[39m=\u001b[39;49m[lrate])\n\u001b[0;32m     <a href='vscode-notebook-cell:/f%3A/UFS/F2%20-%20Copia/Conv1/Conv3_data_augm2.ipynb#X36sZmlsZQ%3D%3D?line=22'>23</a>\u001b[0m     n \u001b[39m=\u001b[39m n\u001b[39m+\u001b[39m\u001b[39m1\u001b[39m\n\u001b[0;32m     <a href='vscode-notebook-cell:/f%3A/UFS/F2%20-%20Copia/Conv1/Conv3_data_augm2.ipynb#X36sZmlsZQ%3D%3D?line=23'>24</a>\u001b[0m n\u001b[39m=\u001b[39m\u001b[39m0\u001b[39m    \n",
      "File \u001b[1;32mc:\\Users\\Usuario\\anaconda3\\lib\\site-packages\\keras\\utils\\traceback_utils.py:65\u001b[0m, in \u001b[0;36mfilter_traceback.<locals>.error_handler\u001b[1;34m(*args, **kwargs)\u001b[0m\n\u001b[0;32m     63\u001b[0m filtered_tb \u001b[39m=\u001b[39m \u001b[39mNone\u001b[39;00m\n\u001b[0;32m     64\u001b[0m \u001b[39mtry\u001b[39;00m:\n\u001b[1;32m---> 65\u001b[0m     \u001b[39mreturn\u001b[39;00m fn(\u001b[39m*\u001b[39margs, \u001b[39m*\u001b[39m\u001b[39m*\u001b[39mkwargs)\n\u001b[0;32m     66\u001b[0m \u001b[39mexcept\u001b[39;00m \u001b[39mException\u001b[39;00m \u001b[39mas\u001b[39;00m e:\n\u001b[0;32m     67\u001b[0m     filtered_tb \u001b[39m=\u001b[39m _process_traceback_frames(e\u001b[39m.\u001b[39m__traceback__)\n",
      "File \u001b[1;32mc:\\Users\\Usuario\\anaconda3\\lib\\site-packages\\keras\\engine\\training.py:1606\u001b[0m, in \u001b[0;36mModel.fit\u001b[1;34m(self, x, y, batch_size, epochs, verbose, callbacks, validation_split, validation_data, shuffle, class_weight, sample_weight, initial_epoch, steps_per_epoch, validation_steps, validation_batch_size, validation_freq, max_queue_size, workers, use_multiprocessing)\u001b[0m\n\u001b[0;32m   1591\u001b[0m \u001b[39mif\u001b[39;00m \u001b[39mgetattr\u001b[39m(\u001b[39mself\u001b[39m, \u001b[39m\"\u001b[39m\u001b[39m_eval_data_handler\u001b[39m\u001b[39m\"\u001b[39m, \u001b[39mNone\u001b[39;00m) \u001b[39mis\u001b[39;00m \u001b[39mNone\u001b[39;00m:\n\u001b[0;32m   1592\u001b[0m     \u001b[39mself\u001b[39m\u001b[39m.\u001b[39m_eval_data_handler \u001b[39m=\u001b[39m data_adapter\u001b[39m.\u001b[39mget_data_handler(\n\u001b[0;32m   1593\u001b[0m         x\u001b[39m=\u001b[39mval_x,\n\u001b[0;32m   1594\u001b[0m         y\u001b[39m=\u001b[39mval_y,\n\u001b[1;32m   (...)\u001b[0m\n\u001b[0;32m   1604\u001b[0m         steps_per_execution\u001b[39m=\u001b[39m\u001b[39mself\u001b[39m\u001b[39m.\u001b[39m_steps_per_execution,\n\u001b[0;32m   1605\u001b[0m     )\n\u001b[1;32m-> 1606\u001b[0m val_logs \u001b[39m=\u001b[39m \u001b[39mself\u001b[39;49m\u001b[39m.\u001b[39;49mevaluate(\n\u001b[0;32m   1607\u001b[0m     x\u001b[39m=\u001b[39;49mval_x,\n\u001b[0;32m   1608\u001b[0m     y\u001b[39m=\u001b[39;49mval_y,\n\u001b[0;32m   1609\u001b[0m     sample_weight\u001b[39m=\u001b[39;49mval_sample_weight,\n\u001b[0;32m   1610\u001b[0m     batch_size\u001b[39m=\u001b[39;49mvalidation_batch_size \u001b[39mor\u001b[39;49;00m batch_size,\n\u001b[0;32m   1611\u001b[0m     steps\u001b[39m=\u001b[39;49mvalidation_steps,\n\u001b[0;32m   1612\u001b[0m     callbacks\u001b[39m=\u001b[39;49mcallbacks,\n\u001b[0;32m   1613\u001b[0m     max_queue_size\u001b[39m=\u001b[39;49mmax_queue_size,\n\u001b[0;32m   1614\u001b[0m     workers\u001b[39m=\u001b[39;49mworkers,\n\u001b[0;32m   1615\u001b[0m     use_multiprocessing\u001b[39m=\u001b[39;49muse_multiprocessing,\n\u001b[0;32m   1616\u001b[0m     return_dict\u001b[39m=\u001b[39;49m\u001b[39mTrue\u001b[39;49;00m,\n\u001b[0;32m   1617\u001b[0m     _use_cached_eval_dataset\u001b[39m=\u001b[39;49m\u001b[39mTrue\u001b[39;49;00m,\n\u001b[0;32m   1618\u001b[0m )\n\u001b[0;32m   1619\u001b[0m val_logs \u001b[39m=\u001b[39m {\n\u001b[0;32m   1620\u001b[0m     \u001b[39m\"\u001b[39m\u001b[39mval_\u001b[39m\u001b[39m\"\u001b[39m \u001b[39m+\u001b[39m name: val \u001b[39mfor\u001b[39;00m name, val \u001b[39min\u001b[39;00m val_logs\u001b[39m.\u001b[39mitems()\n\u001b[0;32m   1621\u001b[0m }\n\u001b[0;32m   1622\u001b[0m epoch_logs\u001b[39m.\u001b[39mupdate(val_logs)\n",
      "File \u001b[1;32mc:\\Users\\Usuario\\anaconda3\\lib\\site-packages\\keras\\utils\\traceback_utils.py:65\u001b[0m, in \u001b[0;36mfilter_traceback.<locals>.error_handler\u001b[1;34m(*args, **kwargs)\u001b[0m\n\u001b[0;32m     63\u001b[0m filtered_tb \u001b[39m=\u001b[39m \u001b[39mNone\u001b[39;00m\n\u001b[0;32m     64\u001b[0m \u001b[39mtry\u001b[39;00m:\n\u001b[1;32m---> 65\u001b[0m     \u001b[39mreturn\u001b[39;00m fn(\u001b[39m*\u001b[39margs, \u001b[39m*\u001b[39m\u001b[39m*\u001b[39mkwargs)\n\u001b[0;32m     66\u001b[0m \u001b[39mexcept\u001b[39;00m \u001b[39mException\u001b[39;00m \u001b[39mas\u001b[39;00m e:\n\u001b[0;32m     67\u001b[0m     filtered_tb \u001b[39m=\u001b[39m _process_traceback_frames(e\u001b[39m.\u001b[39m__traceback__)\n",
      "File \u001b[1;32mc:\\Users\\Usuario\\anaconda3\\lib\\site-packages\\keras\\engine\\training.py:1947\u001b[0m, in \u001b[0;36mModel.evaluate\u001b[1;34m(self, x, y, batch_size, verbose, sample_weight, steps, callbacks, max_queue_size, workers, use_multiprocessing, return_dict, **kwargs)\u001b[0m\n\u001b[0;32m   1943\u001b[0m \u001b[39mwith\u001b[39;00m tf\u001b[39m.\u001b[39mprofiler\u001b[39m.\u001b[39mexperimental\u001b[39m.\u001b[39mTrace(\n\u001b[0;32m   1944\u001b[0m     \u001b[39m\"\u001b[39m\u001b[39mtest\u001b[39m\u001b[39m\"\u001b[39m, step_num\u001b[39m=\u001b[39mstep, _r\u001b[39m=\u001b[39m\u001b[39m1\u001b[39m\n\u001b[0;32m   1945\u001b[0m ):\n\u001b[0;32m   1946\u001b[0m     callbacks\u001b[39m.\u001b[39mon_test_batch_begin(step)\n\u001b[1;32m-> 1947\u001b[0m     tmp_logs \u001b[39m=\u001b[39m \u001b[39mself\u001b[39;49m\u001b[39m.\u001b[39;49mtest_function(iterator)\n\u001b[0;32m   1948\u001b[0m     \u001b[39mif\u001b[39;00m data_handler\u001b[39m.\u001b[39mshould_sync:\n\u001b[0;32m   1949\u001b[0m         context\u001b[39m.\u001b[39masync_wait()\n",
      "File \u001b[1;32mc:\\Users\\Usuario\\anaconda3\\lib\\site-packages\\tensorflow\\python\\util\\traceback_utils.py:150\u001b[0m, in \u001b[0;36mfilter_traceback.<locals>.error_handler\u001b[1;34m(*args, **kwargs)\u001b[0m\n\u001b[0;32m    148\u001b[0m filtered_tb \u001b[39m=\u001b[39m \u001b[39mNone\u001b[39;00m\n\u001b[0;32m    149\u001b[0m \u001b[39mtry\u001b[39;00m:\n\u001b[1;32m--> 150\u001b[0m   \u001b[39mreturn\u001b[39;00m fn(\u001b[39m*\u001b[39margs, \u001b[39m*\u001b[39m\u001b[39m*\u001b[39mkwargs)\n\u001b[0;32m    151\u001b[0m \u001b[39mexcept\u001b[39;00m \u001b[39mException\u001b[39;00m \u001b[39mas\u001b[39;00m e:\n\u001b[0;32m    152\u001b[0m   filtered_tb \u001b[39m=\u001b[39m _process_traceback_frames(e\u001b[39m.\u001b[39m__traceback__)\n",
      "File \u001b[1;32mc:\\Users\\Usuario\\anaconda3\\lib\\site-packages\\tensorflow\\python\\eager\\def_function.py:915\u001b[0m, in \u001b[0;36mFunction.__call__\u001b[1;34m(self, *args, **kwds)\u001b[0m\n\u001b[0;32m    912\u001b[0m compiler \u001b[39m=\u001b[39m \u001b[39m\"\u001b[39m\u001b[39mxla\u001b[39m\u001b[39m\"\u001b[39m \u001b[39mif\u001b[39;00m \u001b[39mself\u001b[39m\u001b[39m.\u001b[39m_jit_compile \u001b[39melse\u001b[39;00m \u001b[39m\"\u001b[39m\u001b[39mnonXla\u001b[39m\u001b[39m\"\u001b[39m\n\u001b[0;32m    914\u001b[0m \u001b[39mwith\u001b[39;00m OptionalXlaContext(\u001b[39mself\u001b[39m\u001b[39m.\u001b[39m_jit_compile):\n\u001b[1;32m--> 915\u001b[0m   result \u001b[39m=\u001b[39m \u001b[39mself\u001b[39m\u001b[39m.\u001b[39m_call(\u001b[39m*\u001b[39margs, \u001b[39m*\u001b[39m\u001b[39m*\u001b[39mkwds)\n\u001b[0;32m    917\u001b[0m new_tracing_count \u001b[39m=\u001b[39m \u001b[39mself\u001b[39m\u001b[39m.\u001b[39mexperimental_get_tracing_count()\n\u001b[0;32m    918\u001b[0m without_tracing \u001b[39m=\u001b[39m (tracing_count \u001b[39m==\u001b[39m new_tracing_count)\n",
      "File \u001b[1;32mc:\\Users\\Usuario\\anaconda3\\lib\\site-packages\\tensorflow\\python\\eager\\def_function.py:986\u001b[0m, in \u001b[0;36mFunction._call\u001b[1;34m(self, *args, **kwds)\u001b[0m\n\u001b[0;32m    982\u001b[0m   _, _, filtered_flat_args \u001b[39m=\u001b[39m (\n\u001b[0;32m    983\u001b[0m       \u001b[39mself\u001b[39m\u001b[39m.\u001b[39m_stateful_fn\u001b[39m.\u001b[39m_function_spec\u001b[39m.\u001b[39mcanonicalize_function_inputs(  \u001b[39m# pylint: disable=protected-access\u001b[39;00m\n\u001b[0;32m    984\u001b[0m           \u001b[39m*\u001b[39margs, \u001b[39m*\u001b[39m\u001b[39m*\u001b[39mkwds))\n\u001b[0;32m    985\u001b[0m   \u001b[39m# If we did not create any variables the trace we have is good enough.\u001b[39;00m\n\u001b[1;32m--> 986\u001b[0m   \u001b[39mreturn\u001b[39;00m \u001b[39mself\u001b[39;49m\u001b[39m.\u001b[39;49m_concrete_stateful_fn\u001b[39m.\u001b[39;49m_call_flat(\n\u001b[0;32m    987\u001b[0m       filtered_flat_args, \u001b[39mself\u001b[39;49m\u001b[39m.\u001b[39;49m_concrete_stateful_fn\u001b[39m.\u001b[39;49mcaptured_inputs)  \u001b[39m# pylint: disable=protected-access\u001b[39;00m\n\u001b[0;32m    989\u001b[0m \u001b[39mdef\u001b[39;00m \u001b[39mfn_with_cond\u001b[39m(inner_args, inner_kwds, inner_filtered_flat_args):\n\u001b[0;32m    990\u001b[0m   \u001b[39m\"\"\"Conditionally runs initialization if it's needed.\"\"\"\u001b[39;00m\n",
      "File \u001b[1;32mc:\\Users\\Usuario\\anaconda3\\lib\\site-packages\\tensorflow\\python\\eager\\function.py:1862\u001b[0m, in \u001b[0;36mConcreteFunction._call_flat\u001b[1;34m(self, args, captured_inputs, cancellation_manager)\u001b[0m\n\u001b[0;32m   1858\u001b[0m possible_gradient_type \u001b[39m=\u001b[39m gradients_util\u001b[39m.\u001b[39mPossibleTapeGradientTypes(args)\n\u001b[0;32m   1859\u001b[0m \u001b[39mif\u001b[39;00m (possible_gradient_type \u001b[39m==\u001b[39m gradients_util\u001b[39m.\u001b[39mPOSSIBLE_GRADIENT_TYPES_NONE\n\u001b[0;32m   1860\u001b[0m     \u001b[39mand\u001b[39;00m executing_eagerly):\n\u001b[0;32m   1861\u001b[0m   \u001b[39m# No tape is watching; skip to running the function.\u001b[39;00m\n\u001b[1;32m-> 1862\u001b[0m   \u001b[39mreturn\u001b[39;00m \u001b[39mself\u001b[39m\u001b[39m.\u001b[39m_build_call_outputs(\u001b[39mself\u001b[39;49m\u001b[39m.\u001b[39;49m_inference_function\u001b[39m.\u001b[39;49mcall(\n\u001b[0;32m   1863\u001b[0m       ctx, args, cancellation_manager\u001b[39m=\u001b[39;49mcancellation_manager))\n\u001b[0;32m   1864\u001b[0m forward_backward \u001b[39m=\u001b[39m \u001b[39mself\u001b[39m\u001b[39m.\u001b[39m_select_forward_and_backward_functions(\n\u001b[0;32m   1865\u001b[0m     args,\n\u001b[0;32m   1866\u001b[0m     possible_gradient_type,\n\u001b[0;32m   1867\u001b[0m     executing_eagerly)\n\u001b[0;32m   1868\u001b[0m forward_function, args_with_tangents \u001b[39m=\u001b[39m forward_backward\u001b[39m.\u001b[39mforward()\n",
      "File \u001b[1;32mc:\\Users\\Usuario\\anaconda3\\lib\\site-packages\\tensorflow\\python\\eager\\function.py:499\u001b[0m, in \u001b[0;36m_EagerDefinedFunction.call\u001b[1;34m(self, ctx, args, cancellation_manager)\u001b[0m\n\u001b[0;32m    497\u001b[0m \u001b[39mwith\u001b[39;00m _InterpolateFunctionError(\u001b[39mself\u001b[39m):\n\u001b[0;32m    498\u001b[0m   \u001b[39mif\u001b[39;00m cancellation_manager \u001b[39mis\u001b[39;00m \u001b[39mNone\u001b[39;00m:\n\u001b[1;32m--> 499\u001b[0m     outputs \u001b[39m=\u001b[39m execute\u001b[39m.\u001b[39;49mexecute(\n\u001b[0;32m    500\u001b[0m         \u001b[39mstr\u001b[39;49m(\u001b[39mself\u001b[39;49m\u001b[39m.\u001b[39;49msignature\u001b[39m.\u001b[39;49mname),\n\u001b[0;32m    501\u001b[0m         num_outputs\u001b[39m=\u001b[39;49m\u001b[39mself\u001b[39;49m\u001b[39m.\u001b[39;49m_num_outputs,\n\u001b[0;32m    502\u001b[0m         inputs\u001b[39m=\u001b[39;49margs,\n\u001b[0;32m    503\u001b[0m         attrs\u001b[39m=\u001b[39;49mattrs,\n\u001b[0;32m    504\u001b[0m         ctx\u001b[39m=\u001b[39;49mctx)\n\u001b[0;32m    505\u001b[0m   \u001b[39melse\u001b[39;00m:\n\u001b[0;32m    506\u001b[0m     outputs \u001b[39m=\u001b[39m execute\u001b[39m.\u001b[39mexecute_with_cancellation(\n\u001b[0;32m    507\u001b[0m         \u001b[39mstr\u001b[39m(\u001b[39mself\u001b[39m\u001b[39m.\u001b[39msignature\u001b[39m.\u001b[39mname),\n\u001b[0;32m    508\u001b[0m         num_outputs\u001b[39m=\u001b[39m\u001b[39mself\u001b[39m\u001b[39m.\u001b[39m_num_outputs,\n\u001b[1;32m   (...)\u001b[0m\n\u001b[0;32m    511\u001b[0m         ctx\u001b[39m=\u001b[39mctx,\n\u001b[0;32m    512\u001b[0m         cancellation_manager\u001b[39m=\u001b[39mcancellation_manager)\n",
      "File \u001b[1;32mc:\\Users\\Usuario\\anaconda3\\lib\\site-packages\\tensorflow\\python\\eager\\execute.py:54\u001b[0m, in \u001b[0;36mquick_execute\u001b[1;34m(op_name, num_outputs, inputs, attrs, ctx, name)\u001b[0m\n\u001b[0;32m     52\u001b[0m \u001b[39mtry\u001b[39;00m:\n\u001b[0;32m     53\u001b[0m   ctx\u001b[39m.\u001b[39mensure_initialized()\n\u001b[1;32m---> 54\u001b[0m   tensors \u001b[39m=\u001b[39m pywrap_tfe\u001b[39m.\u001b[39;49mTFE_Py_Execute(ctx\u001b[39m.\u001b[39;49m_handle, device_name, op_name,\n\u001b[0;32m     55\u001b[0m                                       inputs, attrs, num_outputs)\n\u001b[0;32m     56\u001b[0m \u001b[39mexcept\u001b[39;00m core\u001b[39m.\u001b[39m_NotOkStatusException \u001b[39mas\u001b[39;00m e:\n\u001b[0;32m     57\u001b[0m   \u001b[39mif\u001b[39;00m name \u001b[39mis\u001b[39;00m \u001b[39mnot\u001b[39;00m \u001b[39mNone\u001b[39;00m:\n",
      "\u001b[1;31mKeyboardInterrupt\u001b[0m: "
     ]
    }
   ],
   "source": [
    "#epochs = 0\n",
    "batch_range = [ 1500, 2500]#20, 100, 500, 1500, 2500\n",
    "epochs_range= [75,100]#25,50,75,100\n",
    "loss_range=['categorical_crossentropy','binary_crossentropy']#'categorical_crossentropy','binary_crossentropy','huber_loss','kullback_leibler_divergence','poisson'\n",
    "n=0\n",
    "i=0\n",
    "t=0\n",
    "#optimizer_range= [adamax,adam]\n",
    "#itertools\n",
    "for lsr in loss_range:\n",
    "    print(f\"Loss: {loss_range[t]}\")\n",
    "    for ep in epochs_range:\n",
    "        print(f\"Epoch number: {ep}\")\n",
    "        for bs in batch_range:\n",
    "            print(f\"fitting with batch size: {bs}\")\n",
    "            model.compile(loss= loss_range[t], optimizer= adam, metrics=['accuracy'])\n",
    "            history = model.fit(X_train, y_train, \n",
    "                                epochs=epochs_range[i], \n",
    "                                batch_size=batch_range[n], \n",
    "                                verbose=2, \n",
    "                                validation_data=(X_test, y_test), \n",
    "                                callbacks=[lrate])\n",
    "            n = n+1\n",
    "        n=0    \n",
    "        i=i+1\n",
    "    i=0\n",
    "    t=t + 1\n",
    "t= 0       "
   ]
  },
  {
   "cell_type": "code",
   "execution_count": 32,
   "metadata": {},
   "outputs": [
    {
     "name": "stdout",
     "output_type": "stream",
     "text": [
      "Epoch 1/100\n",
      "36/36 - 20s - loss: 0.7178 - accuracy: 0.7272 - val_loss: 0.7092 - val_accuracy: 0.7487 - lr: 0.0010 - 20s/epoch - 555ms/step\n",
      "Epoch 2/100\n",
      "36/36 - 13s - loss: 0.7211 - accuracy: 0.7263 - val_loss: 0.6602 - val_accuracy: 0.7769 - lr: 0.0010 - 13s/epoch - 365ms/step\n",
      "Epoch 3/100\n",
      "36/36 - 13s - loss: 0.7188 - accuracy: 0.7271 - val_loss: 0.6945 - val_accuracy: 0.7605 - lr: 0.0010 - 13s/epoch - 365ms/step\n",
      "Epoch 4/100\n",
      "36/36 - 13s - loss: 0.7143 - accuracy: 0.7293 - val_loss: 0.7590 - val_accuracy: 0.7394 - lr: 0.0010 - 13s/epoch - 362ms/step\n",
      "Epoch 5/100\n",
      "36/36 - 13s - loss: 0.7147 - accuracy: 0.7298 - val_loss: 0.7400 - val_accuracy: 0.7476 - lr: 0.0010 - 13s/epoch - 363ms/step\n",
      "Epoch 6/100\n",
      "36/36 - 13s - loss: 0.7109 - accuracy: 0.7309 - val_loss: 0.7186 - val_accuracy: 0.7672 - lr: 0.0010 - 13s/epoch - 364ms/step\n",
      "Epoch 7/100\n",
      "36/36 - 13s - loss: 0.7118 - accuracy: 0.7298 - val_loss: 0.6757 - val_accuracy: 0.7680 - lr: 0.0010 - 13s/epoch - 364ms/step\n",
      "Epoch 8/100\n",
      "36/36 - 13s - loss: 0.7132 - accuracy: 0.7291 - val_loss: 0.6923 - val_accuracy: 0.7702 - lr: 0.0010 - 13s/epoch - 366ms/step\n",
      "Epoch 9/100\n",
      "36/36 - 13s - loss: 0.7093 - accuracy: 0.7325 - val_loss: 0.7835 - val_accuracy: 0.7294 - lr: 0.0010 - 13s/epoch - 357ms/step\n",
      "Epoch 10/100\n",
      "36/36 - 12s - loss: 0.7143 - accuracy: 0.7290 - val_loss: 0.8052 - val_accuracy: 0.7242 - lr: 0.0010 - 12s/epoch - 336ms/step\n",
      "Epoch 11/100\n",
      "36/36 - 15s - loss: 0.7099 - accuracy: 0.7316 - val_loss: 0.6654 - val_accuracy: 0.7918 - lr: 0.0010 - 15s/epoch - 422ms/step\n",
      "Epoch 12/100\n",
      "36/36 - 14s - loss: 0.7064 - accuracy: 0.7314 - val_loss: 0.6334 - val_accuracy: 0.7914 - lr: 0.0010 - 14s/epoch - 395ms/step\n",
      "Epoch 13/100\n",
      "36/36 - 14s - loss: 0.7121 - accuracy: 0.7284 - val_loss: 0.6490 - val_accuracy: 0.7907 - lr: 0.0010 - 14s/epoch - 399ms/step\n",
      "Epoch 14/100\n",
      "36/36 - 14s - loss: 0.7116 - accuracy: 0.7300 - val_loss: 0.7589 - val_accuracy: 0.7362 - lr: 0.0010 - 14s/epoch - 401ms/step\n",
      "Epoch 15/100\n",
      "36/36 - 14s - loss: 0.7070 - accuracy: 0.7327 - val_loss: 0.7104 - val_accuracy: 0.7554 - lr: 0.0010 - 14s/epoch - 391ms/step\n",
      "Epoch 16/100\n",
      "36/36 - 15s - loss: 0.7052 - accuracy: 0.7328 - val_loss: 0.6848 - val_accuracy: 0.7700 - lr: 0.0010 - 15s/epoch - 408ms/step\n",
      "Epoch 17/100\n",
      "36/36 - 14s - loss: 0.7030 - accuracy: 0.7342 - val_loss: 0.7420 - val_accuracy: 0.7410 - lr: 0.0010 - 14s/epoch - 389ms/step\n",
      "Epoch 18/100\n",
      "36/36 - 15s - loss: 0.7025 - accuracy: 0.7339 - val_loss: 0.8084 - val_accuracy: 0.7128 - lr: 0.0010 - 15s/epoch - 406ms/step\n",
      "Epoch 19/100\n",
      "36/36 - 14s - loss: 0.7037 - accuracy: 0.7337 - val_loss: 0.7098 - val_accuracy: 0.7633 - lr: 0.0010 - 14s/epoch - 393ms/step\n",
      "Epoch 20/100\n",
      "36/36 - 14s - loss: 0.7006 - accuracy: 0.7337 - val_loss: 0.6855 - val_accuracy: 0.7716 - lr: 0.0010 - 14s/epoch - 396ms/step\n",
      "Epoch 21/100\n",
      "36/36 - 15s - loss: 0.7004 - accuracy: 0.7349 - val_loss: 0.7084 - val_accuracy: 0.7564 - lr: 0.0010 - 15s/epoch - 407ms/step\n",
      "Epoch 22/100\n",
      "36/36 - 14s - loss: 0.7022 - accuracy: 0.7339 - val_loss: 0.7433 - val_accuracy: 0.7432 - lr: 0.0010 - 14s/epoch - 393ms/step\n",
      "Epoch 23/100\n",
      "36/36 - 15s - loss: 0.6973 - accuracy: 0.7352 - val_loss: 0.6665 - val_accuracy: 0.7788 - lr: 0.0010 - 15s/epoch - 408ms/step\n",
      "Epoch 24/100\n",
      "36/36 - 14s - loss: 0.7009 - accuracy: 0.7344 - val_loss: 0.7478 - val_accuracy: 0.7446 - lr: 0.0010 - 14s/epoch - 388ms/step\n",
      "Epoch 25/100\n",
      "36/36 - 15s - loss: 0.7004 - accuracy: 0.7342 - val_loss: 0.7000 - val_accuracy: 0.7636 - lr: 0.0010 - 15s/epoch - 405ms/step\n",
      "Epoch 26/100\n",
      "36/36 - 14s - loss: 0.6949 - accuracy: 0.7368 - val_loss: 0.7666 - val_accuracy: 0.7246 - lr: 0.0010 - 14s/epoch - 389ms/step\n",
      "Epoch 27/100\n",
      "36/36 - 14s - loss: 0.6940 - accuracy: 0.7376 - val_loss: 0.8044 - val_accuracy: 0.7170 - lr: 0.0010 - 14s/epoch - 392ms/step\n",
      "Epoch 28/100\n",
      "36/36 - 16s - loss: 0.6987 - accuracy: 0.7350 - val_loss: 0.6868 - val_accuracy: 0.7696 - lr: 0.0010 - 16s/epoch - 455ms/step\n",
      "Epoch 29/100\n",
      "36/36 - 16s - loss: 0.6925 - accuracy: 0.7376 - val_loss: 0.7220 - val_accuracy: 0.7622 - lr: 0.0010 - 16s/epoch - 443ms/step\n",
      "Epoch 30/100\n",
      "36/36 - 16s - loss: 0.6957 - accuracy: 0.7377 - val_loss: 0.7123 - val_accuracy: 0.7599 - lr: 0.0010 - 16s/epoch - 443ms/step\n",
      "Epoch 31/100\n",
      "36/36 - 16s - loss: 0.6930 - accuracy: 0.7367 - val_loss: 0.7026 - val_accuracy: 0.7500 - lr: 0.0010 - 16s/epoch - 431ms/step\n",
      "Epoch 32/100\n",
      "36/36 - 16s - loss: 0.6926 - accuracy: 0.7375 - val_loss: 0.6573 - val_accuracy: 0.7848 - lr: 0.0010 - 16s/epoch - 438ms/step\n",
      "Epoch 33/100\n",
      "36/36 - 15s - loss: 0.6942 - accuracy: 0.7360 - val_loss: 0.6565 - val_accuracy: 0.7839 - lr: 0.0010 - 15s/epoch - 417ms/step\n",
      "Epoch 34/100\n",
      "36/36 - 14s - loss: 0.6920 - accuracy: 0.7382 - val_loss: 0.7003 - val_accuracy: 0.7714 - lr: 0.0010 - 14s/epoch - 388ms/step\n",
      "Epoch 35/100\n",
      "36/36 - 15s - loss: 0.6960 - accuracy: 0.7352 - val_loss: 0.6945 - val_accuracy: 0.7637 - lr: 0.0010 - 15s/epoch - 405ms/step\n",
      "Epoch 36/100\n",
      "36/36 - 14s - loss: 0.6891 - accuracy: 0.7391 - val_loss: 0.5811 - val_accuracy: 0.8180 - lr: 0.0010 - 14s/epoch - 400ms/step\n",
      "Epoch 37/100\n",
      "36/36 - 14s - loss: 0.6891 - accuracy: 0.7390 - val_loss: 0.6912 - val_accuracy: 0.7687 - lr: 0.0010 - 14s/epoch - 396ms/step\n",
      "Epoch 38/100\n",
      "36/36 - 15s - loss: 0.6846 - accuracy: 0.7402 - val_loss: 0.7565 - val_accuracy: 0.7289 - lr: 0.0010 - 15s/epoch - 407ms/step\n",
      "Epoch 39/100\n",
      "36/36 - 14s - loss: 0.6879 - accuracy: 0.7390 - val_loss: 0.7235 - val_accuracy: 0.7514 - lr: 0.0010 - 14s/epoch - 390ms/step\n",
      "Epoch 40/100\n",
      "36/36 - 15s - loss: 0.6865 - accuracy: 0.7400 - val_loss: 0.8325 - val_accuracy: 0.7028 - lr: 0.0010 - 15s/epoch - 412ms/step\n",
      "Epoch 41/100\n",
      "36/36 - 14s - loss: 0.6900 - accuracy: 0.7387 - val_loss: 0.7039 - val_accuracy: 0.7629 - lr: 0.0010 - 14s/epoch - 391ms/step\n",
      "Epoch 42/100\n",
      "36/36 - 14s - loss: 0.6929 - accuracy: 0.7376 - val_loss: 0.7624 - val_accuracy: 0.7350 - lr: 0.0010 - 14s/epoch - 402ms/step\n",
      "Epoch 43/100\n",
      "36/36 - 15s - loss: 0.6846 - accuracy: 0.7406 - val_loss: 0.6366 - val_accuracy: 0.7945 - lr: 0.0010 - 15s/epoch - 410ms/step\n",
      "Epoch 44/100\n",
      "36/36 - 16s - loss: 0.6831 - accuracy: 0.7397 - val_loss: 0.7082 - val_accuracy: 0.7558 - lr: 0.0010 - 16s/epoch - 441ms/step\n",
      "Epoch 45/100\n",
      "36/36 - 14s - loss: 0.6819 - accuracy: 0.7407 - val_loss: 0.6292 - val_accuracy: 0.7964 - lr: 0.0010 - 14s/epoch - 376ms/step\n",
      "Epoch 46/100\n",
      "36/36 - 12s - loss: 0.6809 - accuracy: 0.7420 - val_loss: 0.6821 - val_accuracy: 0.7905 - lr: 0.0010 - 12s/epoch - 330ms/step\n",
      "Epoch 47/100\n",
      "36/36 - 12s - loss: 0.6873 - accuracy: 0.7391 - val_loss: 0.7124 - val_accuracy: 0.7706 - lr: 0.0010 - 12s/epoch - 338ms/step\n",
      "Epoch 48/100\n",
      "36/36 - 13s - loss: 0.6770 - accuracy: 0.7444 - val_loss: 0.7004 - val_accuracy: 0.7711 - lr: 0.0010 - 13s/epoch - 359ms/step\n",
      "Epoch 49/100\n",
      "36/36 - 12s - loss: 0.6797 - accuracy: 0.7424 - val_loss: 0.7003 - val_accuracy: 0.7617 - lr: 0.0010 - 12s/epoch - 345ms/step\n",
      "Epoch 50/100\n",
      "36/36 - 18s - loss: 0.6796 - accuracy: 0.7423 - val_loss: 0.7129 - val_accuracy: 0.7561 - lr: 0.0010 - 18s/epoch - 495ms/step\n",
      "Epoch 51/100\n",
      "36/36 - 12s - loss: 0.6777 - accuracy: 0.7444 - val_loss: 0.6114 - val_accuracy: 0.8049 - lr: 0.0010 - 12s/epoch - 340ms/step\n",
      "Epoch 52/100\n",
      "36/36 - 12s - loss: 0.6775 - accuracy: 0.7425 - val_loss: 0.6163 - val_accuracy: 0.8006 - lr: 0.0010 - 12s/epoch - 339ms/step\n",
      "Epoch 53/100\n",
      "36/36 - 13s - loss: 0.6809 - accuracy: 0.7399 - val_loss: 0.7328 - val_accuracy: 0.7426 - lr: 0.0010 - 13s/epoch - 351ms/step\n",
      "Epoch 54/100\n",
      "36/36 - 13s - loss: 0.6769 - accuracy: 0.7436 - val_loss: 0.6623 - val_accuracy: 0.7804 - lr: 0.0010 - 13s/epoch - 350ms/step\n",
      "Epoch 55/100\n",
      "36/36 - 15s - loss: 0.6770 - accuracy: 0.7446 - val_loss: 0.6841 - val_accuracy: 0.7731 - lr: 0.0010 - 15s/epoch - 411ms/step\n",
      "Epoch 56/100\n",
      "36/36 - 16s - loss: 0.6718 - accuracy: 0.7456 - val_loss: 0.6799 - val_accuracy: 0.7771 - lr: 0.0010 - 16s/epoch - 437ms/step\n",
      "Epoch 57/100\n",
      "36/36 - 15s - loss: 0.6791 - accuracy: 0.7428 - val_loss: 0.7186 - val_accuracy: 0.7438 - lr: 0.0010 - 15s/epoch - 419ms/step\n",
      "Epoch 58/100\n",
      "36/36 - 14s - loss: 0.6801 - accuracy: 0.7431 - val_loss: 0.6705 - val_accuracy: 0.7745 - lr: 0.0010 - 14s/epoch - 398ms/step\n",
      "Epoch 59/100\n",
      "36/36 - 13s - loss: 0.6731 - accuracy: 0.7446 - val_loss: 0.6774 - val_accuracy: 0.7859 - lr: 0.0010 - 13s/epoch - 374ms/step\n",
      "Epoch 60/100\n",
      "36/36 - 16s - loss: 0.6770 - accuracy: 0.7427 - val_loss: 0.6795 - val_accuracy: 0.7746 - lr: 0.0010 - 16s/epoch - 431ms/step\n",
      "Epoch 61/100\n",
      "36/36 - 12s - loss: 0.6717 - accuracy: 0.7459 - val_loss: 0.7160 - val_accuracy: 0.7558 - lr: 0.0010 - 12s/epoch - 344ms/step\n",
      "Epoch 62/100\n",
      "36/36 - 13s - loss: 0.6723 - accuracy: 0.7453 - val_loss: 0.7062 - val_accuracy: 0.7600 - lr: 0.0010 - 13s/epoch - 355ms/step\n",
      "Epoch 63/100\n",
      "36/36 - 12s - loss: 0.6709 - accuracy: 0.7459 - val_loss: 0.7633 - val_accuracy: 0.7287 - lr: 0.0010 - 12s/epoch - 337ms/step\n",
      "Epoch 64/100\n",
      "36/36 - 13s - loss: 0.6708 - accuracy: 0.7451 - val_loss: 0.7002 - val_accuracy: 0.7727 - lr: 0.0010 - 13s/epoch - 350ms/step\n",
      "Epoch 65/100\n",
      "36/36 - 14s - loss: 0.6658 - accuracy: 0.7489 - val_loss: 0.6642 - val_accuracy: 0.7742 - lr: 0.0010 - 14s/epoch - 380ms/step\n",
      "Epoch 66/100\n",
      "36/36 - 13s - loss: 0.6647 - accuracy: 0.7495 - val_loss: 0.6524 - val_accuracy: 0.7886 - lr: 0.0010 - 13s/epoch - 362ms/step\n",
      "Epoch 67/100\n",
      "36/36 - 14s - loss: 0.6632 - accuracy: 0.7499 - val_loss: 0.6786 - val_accuracy: 0.7764 - lr: 0.0010 - 14s/epoch - 381ms/step\n",
      "Epoch 68/100\n",
      "36/36 - 15s - loss: 0.6735 - accuracy: 0.7450 - val_loss: 0.7133 - val_accuracy: 0.7583 - lr: 0.0010 - 15s/epoch - 411ms/step\n",
      "Epoch 69/100\n",
      "36/36 - 15s - loss: 0.6652 - accuracy: 0.7485 - val_loss: 0.6187 - val_accuracy: 0.8001 - lr: 0.0010 - 15s/epoch - 406ms/step\n",
      "Epoch 70/100\n",
      "36/36 - 15s - loss: 0.6703 - accuracy: 0.7462 - val_loss: 0.7578 - val_accuracy: 0.7384 - lr: 0.0010 - 15s/epoch - 404ms/step\n",
      "Epoch 71/100\n",
      "36/36 - 16s - loss: 0.6651 - accuracy: 0.7486 - val_loss: 0.7382 - val_accuracy: 0.7599 - lr: 0.0010 - 16s/epoch - 436ms/step\n",
      "Epoch 72/100\n",
      "36/36 - 18s - loss: 0.6655 - accuracy: 0.7487 - val_loss: 0.6727 - val_accuracy: 0.7845 - lr: 0.0010 - 18s/epoch - 487ms/step\n",
      "Epoch 73/100\n",
      "36/36 - 16s - loss: 0.6631 - accuracy: 0.7505 - val_loss: 0.6653 - val_accuracy: 0.7852 - lr: 0.0010 - 16s/epoch - 448ms/step\n",
      "Epoch 74/100\n",
      "36/36 - 16s - loss: 0.6668 - accuracy: 0.7470 - val_loss: 0.6722 - val_accuracy: 0.7859 - lr: 0.0010 - 16s/epoch - 448ms/step\n",
      "Epoch 75/100\n",
      "36/36 - 16s - loss: 0.6616 - accuracy: 0.7505 - val_loss: 0.6650 - val_accuracy: 0.7778 - lr: 0.0010 - 16s/epoch - 439ms/step\n",
      "Epoch 76/100\n",
      "36/36 - 16s - loss: 0.6611 - accuracy: 0.7502 - val_loss: 0.6427 - val_accuracy: 0.7861 - lr: 0.0010 - 16s/epoch - 446ms/step\n",
      "Epoch 77/100\n",
      "36/36 - 16s - loss: 0.6590 - accuracy: 0.7499 - val_loss: 0.6828 - val_accuracy: 0.7812 - lr: 0.0010 - 16s/epoch - 440ms/step\n",
      "Epoch 78/100\n",
      "36/36 - 16s - loss: 0.6592 - accuracy: 0.7515 - val_loss: 0.6974 - val_accuracy: 0.7705 - lr: 0.0010 - 16s/epoch - 445ms/step\n",
      "Epoch 79/100\n",
      "36/36 - 16s - loss: 0.6587 - accuracy: 0.7510 - val_loss: 0.6691 - val_accuracy: 0.7810 - lr: 0.0010 - 16s/epoch - 448ms/step\n",
      "Epoch 80/100\n",
      "36/36 - 17s - loss: 0.6646 - accuracy: 0.7489 - val_loss: 0.6859 - val_accuracy: 0.7721 - lr: 0.0010 - 17s/epoch - 486ms/step\n",
      "Epoch 81/100\n",
      "36/36 - 14s - loss: 0.6575 - accuracy: 0.7509 - val_loss: 0.6785 - val_accuracy: 0.7780 - lr: 0.0010 - 14s/epoch - 402ms/step\n",
      "Epoch 82/100\n",
      "36/36 - 13s - loss: 0.6553 - accuracy: 0.7515 - val_loss: 0.7189 - val_accuracy: 0.7451 - lr: 0.0010 - 13s/epoch - 360ms/step\n",
      "Epoch 83/100\n",
      "36/36 - 20s - loss: 0.6576 - accuracy: 0.7518 - val_loss: 0.7159 - val_accuracy: 0.7505 - lr: 0.0010 - 20s/epoch - 561ms/step\n",
      "Epoch 84/100\n",
      "36/36 - 13s - loss: 0.6626 - accuracy: 0.7491 - val_loss: 0.7207 - val_accuracy: 0.7527 - lr: 0.0010 - 13s/epoch - 358ms/step\n",
      "Epoch 85/100\n",
      "36/36 - 13s - loss: 0.6540 - accuracy: 0.7522 - val_loss: 0.6593 - val_accuracy: 0.7775 - lr: 0.0010 - 13s/epoch - 356ms/step\n",
      "Epoch 86/100\n",
      "36/36 - 12s - loss: 0.6515 - accuracy: 0.7537 - val_loss: 0.6686 - val_accuracy: 0.7789 - lr: 0.0010 - 12s/epoch - 346ms/step\n",
      "Epoch 87/100\n",
      "36/36 - 13s - loss: 0.6554 - accuracy: 0.7529 - val_loss: 0.7643 - val_accuracy: 0.7297 - lr: 0.0010 - 13s/epoch - 373ms/step\n",
      "Epoch 88/100\n",
      "36/36 - 13s - loss: 0.6533 - accuracy: 0.7527 - val_loss: 0.6937 - val_accuracy: 0.7640 - lr: 0.0010 - 13s/epoch - 368ms/step\n",
      "Epoch 89/100\n",
      "36/36 - 14s - loss: 0.6495 - accuracy: 0.7545 - val_loss: 0.6880 - val_accuracy: 0.7735 - lr: 0.0010 - 14s/epoch - 381ms/step\n",
      "Epoch 90/100\n",
      "36/36 - 12s - loss: 0.6506 - accuracy: 0.7541 - val_loss: 0.6897 - val_accuracy: 0.7763 - lr: 0.0010 - 12s/epoch - 346ms/step\n",
      "Epoch 91/100\n",
      "36/36 - 14s - loss: 0.6528 - accuracy: 0.7539 - val_loss: 0.7101 - val_accuracy: 0.7570 - lr: 0.0010 - 14s/epoch - 387ms/step\n",
      "Epoch 92/100\n",
      "36/36 - 13s - loss: 0.6527 - accuracy: 0.7530 - val_loss: 0.7461 - val_accuracy: 0.7420 - lr: 0.0010 - 13s/epoch - 369ms/step\n",
      "Epoch 93/100\n",
      "36/36 - 16s - loss: 0.6572 - accuracy: 0.7520 - val_loss: 0.7644 - val_accuracy: 0.7305 - lr: 0.0010 - 16s/epoch - 443ms/step\n",
      "Epoch 94/100\n",
      "36/36 - 14s - loss: 0.6507 - accuracy: 0.7544 - val_loss: 0.6733 - val_accuracy: 0.7736 - lr: 0.0010 - 14s/epoch - 401ms/step\n",
      "Epoch 95/100\n",
      "36/36 - 16s - loss: 0.6442 - accuracy: 0.7579 - val_loss: 0.6414 - val_accuracy: 0.7900 - lr: 0.0010 - 16s/epoch - 446ms/step\n",
      "Epoch 96/100\n",
      "36/36 - 13s - loss: 0.6438 - accuracy: 0.7569 - val_loss: 0.6750 - val_accuracy: 0.7668 - lr: 0.0010 - 13s/epoch - 365ms/step\n",
      "Epoch 97/100\n",
      "36/36 - 12s - loss: 0.6503 - accuracy: 0.7528 - val_loss: 0.6876 - val_accuracy: 0.7583 - lr: 0.0010 - 12s/epoch - 336ms/step\n",
      "Epoch 98/100\n",
      "36/36 - 17s - loss: 0.6502 - accuracy: 0.7536 - val_loss: 0.7026 - val_accuracy: 0.7686 - lr: 0.0010 - 17s/epoch - 466ms/step\n",
      "Epoch 99/100\n",
      "36/36 - 17s - loss: 0.6434 - accuracy: 0.7574 - val_loss: 0.6719 - val_accuracy: 0.7783 - lr: 0.0010 - 17s/epoch - 466ms/step\n",
      "Epoch 100/100\n",
      "36/36 - 17s - loss: 0.6455 - accuracy: 0.7552 - val_loss: 0.7204 - val_accuracy: 0.7518 - lr: 0.0010 - 17s/epoch - 475ms/step\n"
     ]
    }
   ],
   "source": [
    "model.compile(loss= 'categorical_crossentropy', optimizer= adam, metrics=['accuracy'])\n",
    "history = model.fit(X_train, y_train, \n",
    "                                epochs=100, \n",
    "                                batch_size=2500, \n",
    "                                verbose=2, \n",
    "                                validation_data=(X_test, y_test), \n",
    "                                callbacks=[lrate])"
   ]
  },
  {
   "cell_type": "code",
   "execution_count": 33,
   "metadata": {
    "_uuid": "d43023d26a87e3c4702b96bea5962c990c76aa0a",
    "jupyter": {
     "outputs_hidden": true
    }
   },
   "outputs": [
    {
     "name": "stdout",
     "output_type": "stream",
     "text": [
      "44/44 [==============================] - 2s 33ms/step\n"
     ]
    }
   ],
   "source": [
    "y_pred = model.predict(X_test, batch_size = 500)"
   ]
  },
  {
   "cell_type": "code",
   "execution_count": 34,
   "metadata": {
    "_uuid": "20cfe7f5891e3c26c599fa4cd728ac0a499ac70e",
    "jupyter": {
     "outputs_hidden": true
    }
   },
   "outputs": [
    {
     "name": "stdout",
     "output_type": "stream",
     "text": [
      "              precision    recall  f1-score   support\n",
      "\n",
      "           0       0.99      0.73      0.84     18118\n",
      "           1       0.20      0.70      0.31       556\n",
      "           2       0.66      0.83      0.73      1448\n",
      "           3       0.07      0.92      0.13       162\n",
      "           4       0.61      0.96      0.74      1608\n",
      "\n",
      "    accuracy                           0.75     21892\n",
      "   macro avg       0.50      0.83      0.55     21892\n",
      "weighted avg       0.91      0.75      0.80     21892\n",
      "\n"
     ]
    }
   ],
   "source": [
    "print(classification_report(y_test.argmax(axis=1), y_pred.argmax(axis=1)))"
   ]
  },
  {
   "cell_type": "code",
   "execution_count": 35,
   "metadata": {
    "_uuid": "017f2431a45766fb0d4b2ef17ce613c1142ca085",
    "jupyter": {
     "outputs_hidden": true
    }
   },
   "outputs": [
    {
     "name": "stdout",
     "output_type": "stream",
     "text": [
      "ranking-based average precision : 0.867\n",
      "Ranking loss : 0.077\n",
      "Coverage_error : 1.306\n"
     ]
    }
   ],
   "source": [
    "print(\"ranking-based average precision : {:.3f}\".format(label_ranking_average_precision_score(y_test, y_pred)))\n",
    "print(\"Ranking loss : {:.3f}\".format(label_ranking_loss(y_test, y_pred)))\n",
    "print(\"Coverage_error : {:.3f}\".format(coverage_error(y_test, y_pred)))"
   ]
  },
  {
   "cell_type": "code",
   "execution_count": 36,
   "metadata": {},
   "outputs": [
    {
     "name": "stdout",
     "output_type": "stream",
     "text": [
      "Normalized confusion matrix\n"
     ]
    },
    {
     "data": {
      "image/png": "[encoded data removed]",
      "text/plain": [
       "<Figure size 720x720 with 2 Axes>"
      ]
     },
     "metadata": {
      "needs_background": "light"
     },
     "output_type": "display_data"
    }
   ],
   "source": [
    "import itertools\n",
    "def plot_confusion_matrix(cm, classes,\n",
    "                          normalize=False,\n",
    "                          title='Confusion matrix',\n",
    "                          cmap=plt.cm.Blues):\n",
    "    \"\"\"\n",
    "    This function prints and plots the confusion matrix.\n",
    "    Normalization can be applied by setting `normalize=True`.\n",
    "    \"\"\"\n",
    "    if normalize:\n",
    "        cm = cm.astype('float') / cm.sum(axis=1)[:, np.newaxis]\n",
    "        print(\"Normalized confusion matrix\")\n",
    "    else:\n",
    "        print('Confusion matrix, without normalization')\n",
    "\n",
    "    plt.imshow(cm, interpolation='nearest', cmap=cmap)\n",
    "    plt.title(title)\n",
    "    plt.colorbar()\n",
    "    tick_marks = np.arange(len(classes))\n",
    "    plt.xticks(tick_marks, classes, rotation=45)\n",
    "    plt.yticks(tick_marks, classes)\n",
    "\n",
    "    fmt = '.2f' if normalize else 'd'\n",
    "    thresh = cm.max() / 2.\n",
    "    for i, j in itertools.product(range(cm.shape[0]), range(cm.shape[1])):\n",
    "        plt.text(j, i, format(cm[i, j], fmt),\n",
    "                 horizontalalignment=\"center\",\n",
    "                 color=\"white\" if cm[i, j] > thresh else \"black\", fontsize=30)\n",
    "\n",
    "    plt.tight_layout()\n",
    "    plt.ylabel('True label')\n",
    "    plt.xlabel('Predicted label')\n",
    "\n",
    "# Compute confusion matrix\n",
    "cnf_matrix = confusion_matrix(y_test.argmax(axis=1), y_pred.argmax(axis=1))\n",
    "np.set_printoptions(precision=2)\n",
    "\n",
    "# Plot non-normalized confusion matrix\n",
    "plt.figure(figsize=(10, 10))\n",
    "plot_confusion_matrix(cnf_matrix, classes=['N', 'S', 'V', 'F', 'Q'],normalize=True,\n",
    "                      title='Confusion matrix, with normalization')\n",
    "plt.show()"
   ]
  },
  {
   "cell_type": "code",
   "execution_count": 37,
   "metadata": {},
   "outputs": [],
   "source": [
    "FP = cnf_matrix.sum(axis=0) - np.diag(cnf_matrix)  \n",
    "FN = cnf_matrix.sum(axis=1) - np.diag(cnf_matrix)\n",
    "TP = np.diag(cnf_matrix)\n",
    "TN = cnf_matrix.sum() - (FP + FN + TP)\n",
    "\n",
    "# Sensitivity, hit rate, recall, or true positive rate\n",
    "RECALL = TP/(TP+FN)\n",
    "# Specificity or true negative rate\n",
    "SPECIFICITY = TN/(TN+FP) \n",
    "# Precision or positive predictive value\n",
    "PRECISION = TP/(TP+FP)\n",
    "# Negative predictive value\n",
    "NPV = TN/(TN+FN)\n",
    "# Fall out or false positive rate\n",
    "FPR = FP/(FP+TN)\n",
    "# False negative rate\n",
    "FNR = FN/(TP+FN)\n",
    "# False discovery rate\n",
    "FDR = FP/(TP+FP)\n",
    "\n",
    "# Overall accuracy\n",
    "ACC = (TP+TN)/(TP+FP+FN+TN)\n",
    "#F1-score\n",
    "F1 = 2*((RECALL*PRECISION)/(RECALL+PRECISION))"
   ]
  },
  {
   "cell_type": "code",
   "execution_count": 38,
   "metadata": {},
   "outputs": [
    {
     "name": "stdout",
     "output_type": "stream",
     "text": [
      "44/44 [==============================] - 2s 44ms/step - loss: 0.7204 - accuracy: 0.7518\n",
      "44/44 [==============================] - 2s 37ms/step - loss: 0.8328 - accuracy: 1.0000\n",
      "Accuracy: 72.04%\n",
      "Accuracy: 75.18%\n",
      "Precision: 50.38%\n",
      "Specificity: 94.02%\n",
      "Recall :82.63%\n",
      "F1-Score :55.00%\n",
      "Recall:82.63%\n"
     ]
    }
   ],
   "source": [
    "from statistics import mean, median\n",
    "from tkinter import N\n",
    "scores = model.evaluate((X_test), y_test, batch_size = 500)\n",
    "scores2 = model.evaluate(X_test, y_pred, batch_size = 500)\n",
    "print(\"Accuracy: %.2f%%\" % (scores[0]*100))\n",
    "print(\"Accuracy: %.2f%%\" % (scores[1]*100))\n",
    "PRE = mean(PRECISION)\n",
    "print(\"Precision: %.2f%%\"% (PRE*100))\n",
    "#print(\"Precision: \", PRECISION)\n",
    "SPE = mean(SPECIFICITY)\n",
    "print(\"Specificity: %.2f%%\"% (SPE*100))\n",
    "#print(\"Specificity\", SPECIFICITY)\n",
    "RE = mean(RECALL)\n",
    "print(\"Recall :%.2f%%\"% (RE*100))\n",
    "#print(\"Recall\", RECALL)\n",
    "#print(\"F1: \", F1)\n",
    "F1S = mean(F1)\n",
    "print(\"F1-Score :%.2f%%\"% (F1S*100))\n",
    "Z= mean(1-FNR)*100\n",
    "print(\"Recall:%.2f%%\"%Z)"
   ]
  }
 ],
 "metadata": {
  "kernelspec": {
   "display_name": "base",
   "language": "python",
   "name": "python3"
  },
  "language_info": {
   "codemirror_mode": {
    "name": "ipython",
    "version": 3
   },
   "file_extension": ".py",
   "mimetype": "text/x-python",
   "name": "python",
   "nbconvert_exporter": "python",
   "pygments_lexer": "ipython3",
   "version": "3.9.12 (main, Apr  4 2022, 05:22:27) [MSC v.1916 64 bit (AMD64)]"
  },
  "vscode": {
   "interpreter": {
    "hash": "e06ff7da33dc9620448857a90ad8b5f428f0d573d205a934d2841c8aee45ea32"
   }
  }
 },
 "nbformat": 4,
 "nbformat_minor": 4
}
