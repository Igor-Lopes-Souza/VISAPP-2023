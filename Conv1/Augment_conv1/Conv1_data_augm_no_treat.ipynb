{
 "cells": [
  {
   "cell_type": "code",
   "execution_count": 4,
   "metadata": {
    "_cell_guid": "b1076dfc-b9ad-4769-8c92-a6c4dae69d19",
    "_uuid": "8f2839f25d086af736a60e9eeb907d3b93b6e0e5",
    "jupyter": {
     "outputs_hidden": true
    }
   },
   "outputs": [
    {
     "name": "stdout",
     "output_type": "stream",
     "text": [
      "['mitbih_test.csv', 'mitbih_test.csv.zip', 'mitbih_train.csv', 'mitbih_train.csv.zip', 'ptbdb_abnormal.csv', 'ptbdb_abnormal.csv.zip', 'ptbdb_normal.csv', 'ptbdb_normal.csv.zip']\n"
     ]
    }
   ],
   "source": [
    "# This Python 3 environment comes with many helpful analytics libraries installed0\n",
    "# For example, here's several helpful packages to load in \n",
    "import math\n",
    "import random\n",
    "import pickle\n",
    "import itertools\n",
    "\n",
    "import numpy as np # linear algebra\n",
    "import pandas as pd # data processing, CSV file I/O (e.g. pd.read_csv)\n",
    "\n",
    "from sklearn.metrics import accuracy_score, classification_report, confusion_matrix, label_ranking_average_precision_score, label_ranking_loss, coverage_error \n",
    "\n",
    "from sklearn.utils import shuffle\n",
    "\n",
    "from scipy.signal import resample\n",
    "\n",
    "import matplotlib.pyplot as plt\n",
    "\n",
    "np.random.seed(42)\n",
    "\n",
    "import pickle\n",
    "#from sklearn.preprocessing import OneHotEncoder\n",
    "from keras.utils.np_utils import to_categorical\n",
    "from keras.models import Model\n",
    "from keras.layers import Input, Dense, Conv1D, MaxPooling1D, Softmax, Add, Flatten, Activation , Dropout\n",
    "from keras import backend as K\n",
    "from keras.optimizers import Adam, Adamax,SGD\n",
    "from keras.callbacks import LearningRateScheduler, ModelCheckpoint\n",
    "\n",
    "# Input data files are available in the \"../input/\" directory.\n",
    "# For example, running this (by clicking run or pressing Shift+Enter) will list the files in the input directory\n",
    "\n",
    "import os\n",
    "print(os.listdir(\"/UFS/F2 - Copia/database\"))\n",
    "\n",
    "# Any results you write to the current directory are saved as output."
   ]
  },
  {
   "cell_type": "code",
   "execution_count": 5,
   "metadata": {
    "_cell_guid": "79c7e3d0-c299-4dcb-8224-4455121ee9b0",
    "_uuid": "d629ff2d2480ee46fbb7e2d37f6b5fab8052498a",
    "jupyter": {
     "outputs_hidden": true
    }
   },
   "outputs": [],
   "source": [
    "train_df = pd.read_csv(\"/UFS/F2 - Copia/database/mitbih_train.csv\", header=None)\n",
    "test_df = pd.read_csv(\"/UFS/F2 - Copia/database/mitbih_test.csv\", header=None)\n",
    "#df = pd.concat([df, df2], axis=0)"
   ]
  },
  {
   "cell_type": "code",
   "execution_count": 6,
   "metadata": {
    "_uuid": "494fc8a26ba40beb73fc1a4f7b219b213fb7705e",
    "jupyter": {
     "outputs_hidden": true
    }
   },
   "outputs": [
    {
     "data": {
      "text/html": [
       "<div>\n",
       "<style scoped>\n",
       "    .dataframe tbody tr th:only-of-type {\n",
       "        vertical-align: middle;\n",
       "    }\n",
       "\n",
       "    .dataframe tbody tr th {\n",
       "        vertical-align: top;\n",
       "    }\n",
       "\n",
       "    .dataframe thead th {\n",
       "        text-align: right;\n",
       "    }\n",
       "</style>\n",
       "<table border=\"1\" class=\"dataframe\">\n",
       "  <thead>\n",
       "    <tr style=\"text-align: right;\">\n",
       "      <th></th>\n",
       "      <th>0</th>\n",
       "      <th>1</th>\n",
       "      <th>2</th>\n",
       "      <th>3</th>\n",
       "      <th>4</th>\n",
       "      <th>5</th>\n",
       "      <th>6</th>\n",
       "      <th>7</th>\n",
       "      <th>8</th>\n",
       "      <th>9</th>\n",
       "      <th>...</th>\n",
       "      <th>178</th>\n",
       "      <th>179</th>\n",
       "      <th>180</th>\n",
       "      <th>181</th>\n",
       "      <th>182</th>\n",
       "      <th>183</th>\n",
       "      <th>184</th>\n",
       "      <th>185</th>\n",
       "      <th>186</th>\n",
       "      <th>187</th>\n",
       "    </tr>\n",
       "  </thead>\n",
       "  <tbody>\n",
       "    <tr>\n",
       "      <th>0</th>\n",
       "      <td>0.977941</td>\n",
       "      <td>0.926471</td>\n",
       "      <td>0.681373</td>\n",
       "      <td>0.245098</td>\n",
       "      <td>0.154412</td>\n",
       "      <td>0.191176</td>\n",
       "      <td>0.151961</td>\n",
       "      <td>0.085784</td>\n",
       "      <td>0.058824</td>\n",
       "      <td>0.049020</td>\n",
       "      <td>...</td>\n",
       "      <td>0.0</td>\n",
       "      <td>0.0</td>\n",
       "      <td>0.0</td>\n",
       "      <td>0.0</td>\n",
       "      <td>0.0</td>\n",
       "      <td>0.0</td>\n",
       "      <td>0.0</td>\n",
       "      <td>0.0</td>\n",
       "      <td>0.0</td>\n",
       "      <td>0.0</td>\n",
       "    </tr>\n",
       "    <tr>\n",
       "      <th>1</th>\n",
       "      <td>0.960114</td>\n",
       "      <td>0.863248</td>\n",
       "      <td>0.461538</td>\n",
       "      <td>0.196581</td>\n",
       "      <td>0.094017</td>\n",
       "      <td>0.125356</td>\n",
       "      <td>0.099715</td>\n",
       "      <td>0.088319</td>\n",
       "      <td>0.074074</td>\n",
       "      <td>0.082621</td>\n",
       "      <td>...</td>\n",
       "      <td>0.0</td>\n",
       "      <td>0.0</td>\n",
       "      <td>0.0</td>\n",
       "      <td>0.0</td>\n",
       "      <td>0.0</td>\n",
       "      <td>0.0</td>\n",
       "      <td>0.0</td>\n",
       "      <td>0.0</td>\n",
       "      <td>0.0</td>\n",
       "      <td>0.0</td>\n",
       "    </tr>\n",
       "    <tr>\n",
       "      <th>2</th>\n",
       "      <td>1.000000</td>\n",
       "      <td>0.659459</td>\n",
       "      <td>0.186486</td>\n",
       "      <td>0.070270</td>\n",
       "      <td>0.070270</td>\n",
       "      <td>0.059459</td>\n",
       "      <td>0.056757</td>\n",
       "      <td>0.043243</td>\n",
       "      <td>0.054054</td>\n",
       "      <td>0.045946</td>\n",
       "      <td>...</td>\n",
       "      <td>0.0</td>\n",
       "      <td>0.0</td>\n",
       "      <td>0.0</td>\n",
       "      <td>0.0</td>\n",
       "      <td>0.0</td>\n",
       "      <td>0.0</td>\n",
       "      <td>0.0</td>\n",
       "      <td>0.0</td>\n",
       "      <td>0.0</td>\n",
       "      <td>0.0</td>\n",
       "    </tr>\n",
       "    <tr>\n",
       "      <th>3</th>\n",
       "      <td>0.925414</td>\n",
       "      <td>0.665746</td>\n",
       "      <td>0.541436</td>\n",
       "      <td>0.276243</td>\n",
       "      <td>0.196133</td>\n",
       "      <td>0.077348</td>\n",
       "      <td>0.071823</td>\n",
       "      <td>0.060773</td>\n",
       "      <td>0.066298</td>\n",
       "      <td>0.058011</td>\n",
       "      <td>...</td>\n",
       "      <td>0.0</td>\n",
       "      <td>0.0</td>\n",
       "      <td>0.0</td>\n",
       "      <td>0.0</td>\n",
       "      <td>0.0</td>\n",
       "      <td>0.0</td>\n",
       "      <td>0.0</td>\n",
       "      <td>0.0</td>\n",
       "      <td>0.0</td>\n",
       "      <td>0.0</td>\n",
       "    </tr>\n",
       "    <tr>\n",
       "      <th>4</th>\n",
       "      <td>0.967136</td>\n",
       "      <td>1.000000</td>\n",
       "      <td>0.830986</td>\n",
       "      <td>0.586854</td>\n",
       "      <td>0.356808</td>\n",
       "      <td>0.248826</td>\n",
       "      <td>0.145540</td>\n",
       "      <td>0.089202</td>\n",
       "      <td>0.117371</td>\n",
       "      <td>0.150235</td>\n",
       "      <td>...</td>\n",
       "      <td>0.0</td>\n",
       "      <td>0.0</td>\n",
       "      <td>0.0</td>\n",
       "      <td>0.0</td>\n",
       "      <td>0.0</td>\n",
       "      <td>0.0</td>\n",
       "      <td>0.0</td>\n",
       "      <td>0.0</td>\n",
       "      <td>0.0</td>\n",
       "      <td>0.0</td>\n",
       "    </tr>\n",
       "  </tbody>\n",
       "</table>\n",
       "<p>5 rows × 188 columns</p>\n",
       "</div>"
      ],
      "text/plain": [
       "        0         1         2         3         4         5         6    \\\n",
       "0  0.977941  0.926471  0.681373  0.245098  0.154412  0.191176  0.151961   \n",
       "1  0.960114  0.863248  0.461538  0.196581  0.094017  0.125356  0.099715   \n",
       "2  1.000000  0.659459  0.186486  0.070270  0.070270  0.059459  0.056757   \n",
       "3  0.925414  0.665746  0.541436  0.276243  0.196133  0.077348  0.071823   \n",
       "4  0.967136  1.000000  0.830986  0.586854  0.356808  0.248826  0.145540   \n",
       "\n",
       "        7         8         9    ...  178  179  180  181  182  183  184  185  \\\n",
       "0  0.085784  0.058824  0.049020  ...  0.0  0.0  0.0  0.0  0.0  0.0  0.0  0.0   \n",
       "1  0.088319  0.074074  0.082621  ...  0.0  0.0  0.0  0.0  0.0  0.0  0.0  0.0   \n",
       "2  0.043243  0.054054  0.045946  ...  0.0  0.0  0.0  0.0  0.0  0.0  0.0  0.0   \n",
       "3  0.060773  0.066298  0.058011  ...  0.0  0.0  0.0  0.0  0.0  0.0  0.0  0.0   \n",
       "4  0.089202  0.117371  0.150235  ...  0.0  0.0  0.0  0.0  0.0  0.0  0.0  0.0   \n",
       "\n",
       "   186  187  \n",
       "0  0.0  0.0  \n",
       "1  0.0  0.0  \n",
       "2  0.0  0.0  \n",
       "3  0.0  0.0  \n",
       "4  0.0  0.0  \n",
       "\n",
       "[5 rows x 188 columns]"
      ]
     },
     "execution_count": 6,
     "metadata": {},
     "output_type": "execute_result"
    }
   ],
   "source": [
    "train_df.head()"
   ]
  },
  {
   "cell_type": "code",
   "execution_count": 7,
   "metadata": {
    "_uuid": "5281cb19f54f3bd379f875c24ae52b3b15fcafaf",
    "jupyter": {
     "outputs_hidden": true
    }
   },
   "outputs": [
    {
     "name": "stdout",
     "output_type": "stream",
     "text": [
      "<class 'pandas.core.frame.DataFrame'>\n",
      "RangeIndex: 87554 entries, 0 to 87553\n",
      "Columns: 188 entries, 0 to 187\n",
      "dtypes: float64(188)\n",
      "memory usage: 125.6 MB\n",
      "17510\n"
     ]
    }
   ],
   "source": [
    "train_df.info()\n",
    "dataset_row = train_df.shape[0]\n",
    "dataset_size= int(dataset_row/5)\n",
    "print(dataset_size)"
   ]
  },
  {
   "cell_type": "code",
   "execution_count": 8,
   "metadata": {},
   "outputs": [
    {
     "name": "stdout",
     "output_type": "stream",
     "text": [
      "0    72471\n",
      "4     6431\n",
      "2     5788\n",
      "1     2223\n",
      "3      641\n",
      "Name: 187, dtype: int64\n"
     ]
    }
   ],
   "source": [
    "train_df[187]=train_df[187].astype(int)\n",
    "equilibre= train_df[187].value_counts()\n",
    "print(equilibre)\n",
    "\n"
   ]
  },
  {
   "cell_type": "code",
   "execution_count": 9,
   "metadata": {
    "_uuid": "0fac0fb658ea34b48055838b4ad85078e883360d",
    "jupyter": {
     "outputs_hidden": true
    }
   },
   "outputs": [],
   "source": [
    "train_df[187].value_counts()\n",
    "equilibre = train_df[187].value_counts()"
   ]
  },
  {
   "cell_type": "code",
   "execution_count": 10,
   "metadata": {},
   "outputs": [
    {
     "data": {
      "image/png": "[encoded data removed]",
      "text/plain": [
       "<Figure size 1440x720 with 1 Axes>"
      ]
     },
     "metadata": {},
     "output_type": "display_data"
    }
   ],
   "source": [
    "plt.figure(figsize=(20,10))\n",
    "my_circle=plt.Circle((0,0), 0.7, color='white')\n",
    "plt.pie(equilibre, labels=['n','q','v','s','f'], colors=['red','green','blue','skyblue','orange'],autopct='%1.1f%%')\n",
    "p=plt.gcf()\n",
    "p.gca().add_artist(my_circle)\n",
    "plt.show()"
   ]
  },
  {
   "cell_type": "code",
   "execution_count": 11,
   "metadata": {
    "_uuid": "147b7604bd8a389d7f6aa111f38ae308af7c4eb7",
    "jupyter": {
     "outputs_hidden": true
    }
   },
   "outputs": [],
   "source": [
    "M = train_df.values\n",
    "X = M[:, :-1]\n",
    "y = M[:, -1].astype(int)"
   ]
  },
  {
   "cell_type": "code",
   "execution_count": 12,
   "metadata": {
    "_uuid": "504d95532114efa4cc581d80bf02159c3ce519c6",
    "jupyter": {
     "outputs_hidden": true
    }
   },
   "outputs": [],
   "source": [
    "#del train_df\n",
    "#del test_df\n",
    "#del M"
   ]
  },
  {
   "cell_type": "code",
   "execution_count": 13,
   "metadata": {},
   "outputs": [],
   "source": [
    "def add_gaussian_noise(signal):\n",
    "    noise=np.random.normal(0,0.5,186)\n",
    "    return (signal+noise)\n"
   ]
  },
  {
   "cell_type": "code",
   "execution_count": 14,
   "metadata": {},
   "outputs": [],
   "source": [
    "#tempo=c.iloc[0,:186]\n",
    "#bruiter=add_gaussian_noise(tempo)\n",
    "\n",
    "#plt.subplot(2,1,1)\n",
    "#plt.plot(c.iloc[0,:186])\n",
    "\n",
    "#plt.subplot(2,1,2)\n",
    "#plt.plot(bruiter)\n",
    "\n",
    "#plt.show()\n",
    "\n"
   ]
  },
  {
   "cell_type": "code",
   "execution_count": 15,
   "metadata": {},
   "outputs": [],
   "source": [
    "target_train=train_df[187]\n",
    "target_test=test_df[187]\n",
    "y_train=to_categorical(target_train)\n",
    "y_test=to_categorical(target_test)"
   ]
  },
  {
   "cell_type": "code",
   "execution_count": 16,
   "metadata": {},
   "outputs": [],
   "source": [
    "X_train=train_df.iloc[:,:186].values\n",
    "X_test=test_df.iloc[:,:186].values\n",
    "for i in range(len(X_train)):\n",
    "    X_train[i,:186]= add_gaussian_noise(X_train[i,:186])\n",
    "X_train = X_train.reshape(len(X_train), X_train.shape[1],1)\n",
    "X_test = X_test.reshape(len(X_test), X_test.shape[1],1)"
   ]
  },
  {
   "cell_type": "code",
   "execution_count": 17,
   "metadata": {},
   "outputs": [],
   "source": [
    "target_train=train_df[187]\n",
    "target_test=test_df[187]\n",
    "y_train=to_categorical(target_train)\n",
    "y_test=to_categorical(target_test)"
   ]
  },
  {
   "cell_type": "markdown",
   "metadata": {
    "_uuid": "c269ab78773e4b5a960a5e55d2b48c53d5f9c446"
   },
   "source": [
    "# Data augmentation\n",
    "\n",
    "To train properly the model, we sould have to augment all data to the same level. Nevertheless, for a first try, we will just augment the smallest class to the same level as class 1. With that we will be able to have a test set of around 5x800 observations."
   ]
  },
  {
   "cell_type": "markdown",
   "metadata": {
    "_uuid": "c42605d020fd51885437f4af3cf10cebbeafc9bb"
   },
   "source": [
    "# Split"
   ]
  },
  {
   "cell_type": "code",
   "execution_count": 18,
   "metadata": {
    "_uuid": "16c106c2702045790367fc49d7223560fc613d75",
    "jupyter": {
     "outputs_hidden": true
    }
   },
   "outputs": [
    {
     "name": "stdout",
     "output_type": "stream",
     "text": [
      "X_train (87554, 186, 1)\n",
      "y_train (87554, 5)\n",
      "X_test (21892, 186, 1)\n",
      "y_test (21892, 5)\n"
     ]
    }
   ],
   "source": [
    "print(\"X_train\", X_train.shape)\n",
    "print(\"y_train\", y_train.shape)\n",
    "print(\"X_test\", X_test.shape)\n",
    "print(\"y_test\", y_test.shape)"
   ]
  },
  {
   "cell_type": "markdown",
   "metadata": {
    "_uuid": "c4de23b85abe34a726eab268171da0e827bafa35"
   },
   "source": [
    "# Model\n",
    "\n",
    "Now let's re-create the model from the ArXiv Document"
   ]
  },
  {
   "cell_type": "code",
   "execution_count": 19,
   "metadata": {
    "_uuid": "fb0dc9775ddfa761c0ad948d59020fcbd2681c57",
    "jupyter": {
     "outputs_hidden": true
    }
   },
   "outputs": [],
   "source": [
    "n_obs, feature, depth = X_train.shape\n",
    "batch_size = 1500\n",
    "#batch_size = 500"
   ]
  },
  {
   "cell_type": "code",
   "execution_count": null,
   "metadata": {},
   "outputs": [],
   "source": []
  },
  {
   "cell_type": "code",
   "execution_count": 20,
   "metadata": {
    "_uuid": "e70fab0b07290e042ba9cd7c6cba37462a457b03",
    "jupyter": {
     "outputs_hidden": true
    }
   },
   "outputs": [
    {
     "name": "stdout",
     "output_type": "stream",
     "text": [
      "KerasTensor(type_spec=TensorSpec(shape=(None, 8, 32), dtype=tf.float32, name=None), name='conv1d_17/BiasAdd:0', description=\"created by layer 'conv1d_17'\")\n",
      "KerasTensor(type_spec=TensorSpec(shape=(None, 2, 32), dtype=tf.float32, name=None), name='max_pooling1d_4/Squeeze:0', description=\"created by layer 'max_pooling1d_4'\")\n",
      "Model: \"model\"\n",
      "__________________________________________________________________________________________________\n",
      " Layer (type)                   Output Shape         Param #     Connected to                     \n",
      "==================================================================================================\n",
      " input_1 (InputLayer)           [(None, 186, 1)]     0           []                               \n",
      "                                                                                                  \n",
      " conv1d (Conv1D)                (None, 182, 32)      192         ['input_1[0][0]']                \n",
      "                                                                                                  \n",
      " conv1d_1 (Conv1D)              (None, 182, 32)      5152        ['conv1d[0][0]']                 \n",
      "                                                                                                  \n",
      " activation (Activation)        (None, 182, 32)      0           ['conv1d_1[0][0]']               \n",
      "                                                                                                  \n",
      " conv1d_2 (Conv1D)              (None, 182, 32)      5152        ['activation[0][0]']             \n",
      "                                                                                                  \n",
      " conv1d_3 (Conv1D)              (None, 182, 32)      5152        ['conv1d_2[0][0]']               \n",
      "                                                                                                  \n",
      " conv1d_4 (Conv1D)              (None, 182, 32)      5152        ['conv1d_3[0][0]']               \n",
      "                                                                                                  \n",
      " add (Add)                      (None, 182, 32)      0           ['conv1d_4[0][0]',               \n",
      "                                                                  'conv1d[0][0]']                 \n",
      "                                                                                                  \n",
      " activation_1 (Activation)      (None, 182, 32)      0           ['add[0][0]']                    \n",
      "                                                                                                  \n",
      " max_pooling1d (MaxPooling1D)   (None, 89, 32)       0           ['activation_1[0][0]']           \n",
      "                                                                                                  \n",
      " conv1d_5 (Conv1D)              (None, 89, 32)       5152        ['max_pooling1d[0][0]']          \n",
      "                                                                                                  \n",
      " activation_2 (Activation)      (None, 89, 32)       0           ['conv1d_5[0][0]']               \n",
      "                                                                                                  \n",
      " conv1d_6 (Conv1D)              (None, 89, 32)       5152        ['activation_2[0][0]']           \n",
      "                                                                                                  \n",
      " conv1d_7 (Conv1D)              (None, 89, 32)       5152        ['conv1d_6[0][0]']               \n",
      "                                                                                                  \n",
      " conv1d_8 (Conv1D)              (None, 89, 32)       5152        ['conv1d_7[0][0]']               \n",
      "                                                                                                  \n",
      " add_1 (Add)                    (None, 89, 32)       0           ['conv1d_8[0][0]',               \n",
      "                                                                  'max_pooling1d[0][0]']          \n",
      "                                                                                                  \n",
      " activation_3 (Activation)      (None, 89, 32)       0           ['add_1[0][0]']                  \n",
      "                                                                                                  \n",
      " max_pooling1d_1 (MaxPooling1D)  (None, 43, 32)      0           ['activation_3[0][0]']           \n",
      "                                                                                                  \n",
      " conv1d_9 (Conv1D)              (None, 43, 32)       5152        ['max_pooling1d_1[0][0]']        \n",
      "                                                                                                  \n",
      " activation_4 (Activation)      (None, 43, 32)       0           ['conv1d_9[0][0]']               \n",
      "                                                                                                  \n",
      " conv1d_10 (Conv1D)             (None, 43, 32)       5152        ['activation_4[0][0]']           \n",
      "                                                                                                  \n",
      " conv1d_11 (Conv1D)             (None, 43, 32)       5152        ['conv1d_10[0][0]']              \n",
      "                                                                                                  \n",
      " conv1d_12 (Conv1D)             (None, 43, 32)       5152        ['conv1d_11[0][0]']              \n",
      "                                                                                                  \n",
      " add_2 (Add)                    (None, 43, 32)       0           ['conv1d_12[0][0]',              \n",
      "                                                                  'max_pooling1d_1[0][0]']        \n",
      "                                                                                                  \n",
      " activation_5 (Activation)      (None, 43, 32)       0           ['add_2[0][0]']                  \n",
      "                                                                                                  \n",
      " max_pooling1d_2 (MaxPooling1D)  (None, 20, 32)      0           ['activation_5[0][0]']           \n",
      "                                                                                                  \n",
      " conv1d_13 (Conv1D)             (None, 20, 32)       5152        ['max_pooling1d_2[0][0]']        \n",
      "                                                                                                  \n",
      " activation_6 (Activation)      (None, 20, 32)       0           ['conv1d_13[0][0]']              \n",
      "                                                                                                  \n",
      " conv1d_14 (Conv1D)             (None, 20, 32)       5152        ['activation_6[0][0]']           \n",
      "                                                                                                  \n",
      " conv1d_15 (Conv1D)             (None, 20, 32)       5152        ['conv1d_14[0][0]']              \n",
      "                                                                                                  \n",
      " conv1d_16 (Conv1D)             (None, 20, 32)       5152        ['conv1d_15[0][0]']              \n",
      "                                                                                                  \n",
      " add_3 (Add)                    (None, 20, 32)       0           ['conv1d_16[0][0]',              \n",
      "                                                                  'max_pooling1d_2[0][0]']        \n",
      "                                                                                                  \n",
      " activation_7 (Activation)      (None, 20, 32)       0           ['add_3[0][0]']                  \n",
      "                                                                                                  \n",
      " max_pooling1d_3 (MaxPooling1D)  (None, 8, 32)       0           ['activation_7[0][0]']           \n",
      "                                                                                                  \n",
      " conv1d_17 (Conv1D)             (None, 8, 32)        5152        ['max_pooling1d_3[0][0]']        \n",
      "                                                                                                  \n",
      " activation_8 (Activation)      (None, 8, 32)        0           ['conv1d_17[0][0]']              \n",
      "                                                                                                  \n",
      " conv1d_18 (Conv1D)             (None, 8, 32)        5152        ['activation_8[0][0]']           \n",
      "                                                                                                  \n",
      " conv1d_19 (Conv1D)             (None, 8, 32)        5152        ['conv1d_18[0][0]']              \n",
      "                                                                                                  \n",
      " conv1d_20 (Conv1D)             (None, 8, 32)        5152        ['conv1d_19[0][0]']              \n",
      "                                                                                                  \n",
      " add_4 (Add)                    (None, 8, 32)        0           ['conv1d_20[0][0]',              \n",
      "                                                                  'max_pooling1d_3[0][0]']        \n",
      "                                                                                                  \n",
      " activation_9 (Activation)      (None, 8, 32)        0           ['add_4[0][0]']                  \n",
      "                                                                                                  \n",
      " max_pooling1d_4 (MaxPooling1D)  (None, 2, 32)       0           ['activation_9[0][0]']           \n",
      "                                                                                                  \n",
      " dropout (Dropout)              (None, 2, 32)        0           ['max_pooling1d_4[0][0]']        \n",
      "                                                                                                  \n",
      " flatten (Flatten)              (None, 64)           0           ['dropout[0][0]']                \n",
      "                                                                                                  \n",
      " dense (Dense)                  (None, 32)           2080        ['flatten[0][0]']                \n",
      "                                                                                                  \n",
      " activation_10 (Activation)     (None, 32)           0           ['dense[0][0]']                  \n",
      "                                                                                                  \n",
      " dense_1 (Dense)                (None, 32)           1056        ['activation_10[0][0]']          \n",
      "                                                                                                  \n",
      " dense_2 (Dense)                (None, 5)            165         ['dense_1[0][0]']                \n",
      "                                                                                                  \n",
      " softmax (Softmax)              (None, 5)            0           ['dense_2[0][0]']                \n",
      "                                                                                                  \n",
      "==================================================================================================\n",
      "Total params: 106,533\n",
      "Trainable params: 106,533\n",
      "Non-trainable params: 0\n",
      "__________________________________________________________________________________________________\n"
     ]
    }
   ],
   "source": [
    "K.clear_session()\n",
    "\n",
    "inp = Input(shape=(feature, depth))\n",
    "C = Conv1D(filters=32, kernel_size=5, strides=1)(inp)\n",
    "C11 = Conv1D(filters=32, kernel_size=5, strides=1, padding='same')(C)\n",
    "A11 = Activation(\"relu\")(C11)\n",
    "C12 = Conv1D(filters=32, kernel_size=5, strides=1, padding='same')(A11)\n",
    "S11 = Add()([C12, C])\n",
    "A12 = Activation(\"relu\")(S11)\n",
    "M11 = MaxPooling1D(pool_size=5, strides=2)(A12)\n",
    "\n",
    "\n",
    "C21 = Conv1D(filters=32, kernel_size=5, strides=1, padding='same')(M11)\n",
    "A21 = Activation(\"relu\")(C21)\n",
    "C22 = Conv1D(filters=32, kernel_size=5, strides=1, padding='same')(A21)\n",
    "S21 = Add()([C22, M11])\n",
    "A22 = Activation(\"relu\")(S21)\n",
    "M21 = MaxPooling1D(pool_size=5, strides=2)(A22)\n",
    "\n",
    "\n",
    "C31 = Conv1D(filters=32, kernel_size=5, strides=1, padding='same')(M21)\n",
    "A31 = Activation(\"relu\")(C31)\n",
    "C32 = Conv1D(filters=32, kernel_size=5, strides=1, padding='same')(A31)\n",
    "S31 = Add()([C32, M21])\n",
    "A32 = Activation(\"relu\")(S31)\n",
    "M31 = MaxPooling1D(pool_size=5, strides=2)(A32)\n",
    "\n",
    "\n",
    "C41 = Conv1D(filters=32, kernel_size=5, strides=1, padding='same')(M31)\n",
    "A41 = Activation(\"relu\")(C41)\n",
    "C42 = Conv1D(filters=32, kernel_size=5, strides=1, padding='same')(A41)\n",
    "S41 = Add()([C42, M31])\n",
    "A42 = Activation(\"relu\")(S41)\n",
    "M41 = MaxPooling1D(pool_size=5, strides=2)(A42)\n",
    "\n",
    "\n",
    "C51 = Conv1D(filters=32, kernel_size=5, strides=1, padding='same')(M41)\n",
    "A51 = Activation(\"relu\")(C51)\n",
    "C52 = Conv1D(filters=32, kernel_size=5, strides=1, padding='same')(A51)\n",
    "S51 = Add()([C52, M41])\n",
    "A52 = Activation(\"relu\")(S51)\n",
    "M51 = MaxPooling1D(pool_size=5, strides=2)(A52)\n",
    "\n",
    "M52 = (Dropout(0.25))(M51)\n",
    "\n",
    "F1 = Flatten()(M52)\n",
    "\n",
    "D1 = Dense(32)(F1)\n",
    "A6 = Activation(\"relu\")(D1)\n",
    "D2 = Dense(32)(A6)\n",
    "D3 = Dense(5)(D2)\n",
    "A7 = Softmax()(D3)\n",
    "\n",
    "model = Model(inputs=inp, outputs=A7)\n",
    "\n",
    "model.summary()"
   ]
  },
  {
   "cell_type": "code",
   "execution_count": 21,
   "metadata": {
    "_uuid": "fdc0d8aa8475330af8d8e652d0b9ce214da66956",
    "jupyter": {
     "outputs_hidden": true
    }
   },
   "outputs": [],
   "source": [
    "def exp_decay(epoch):\n",
    "    initial_lrate = 0.001\n",
    "    k = 0.75\n",
    "    t = n_obs//(10000 * batch_size)  # every epoch we do n_obs/batch_size iteration\n",
    "    lrate = initial_lrate * math.exp(-k*t)\n",
    "    return lrate\n",
    "\n",
    "lrate = LearningRateScheduler(exp_decay)"
   ]
  },
  {
   "cell_type": "code",
   "execution_count": 22,
   "metadata": {
    "_uuid": "abcd2f0e8488c8f3b33cd6ed9ca7fd60fa44404b",
    "jupyter": {
     "outputs_hidden": true
    }
   },
   "outputs": [],
   "source": [
    "#adam = SGD(learning_rate = 0.01)\n",
    "adam = Adamax(learning_rate = 0.001, beta_1 = 0.9, beta_2 = 0.999)"
   ]
  },
  {
   "cell_type": "code",
   "execution_count": null,
   "metadata": {
    "_uuid": "812e637ae56f6a4be9c8e98d3b501cfb11ef78cb",
    "jupyter": {
     "outputs_hidden": true
    }
   },
   "outputs": [],
   "source": [
    "#model.compile(loss='binary_crossentropy', optimizer=adam, metrics=['accuracy'])"
   ]
  },
  {
   "cell_type": "code",
   "execution_count": null,
   "metadata": {
    "_uuid": "1e6ef643f6a55ab5b3c1b46126832c3ac45a6a2b",
    "jupyter": {
     "outputs_hidden": true
    }
   },
   "outputs": [
    {
     "name": "stdout",
     "output_type": "stream",
     "text": [
      "Loss: categorical_crossentropy\n",
      "Epoch number: 75\n",
      "fitting with batch size: 1500\n",
      "Epoch 1/75\n"
     ]
    },
    {
     "ename": "KeyboardInterrupt",
     "evalue": "",
     "output_type": "error",
     "traceback": [
      "\u001b[1;31m---------------------------------------------------------------------------\u001b[0m",
      "\u001b[1;31mKeyboardInterrupt\u001b[0m                         Traceback (most recent call last)",
      "\u001b[1;32mf:\\UFS\\F2 - Copia\\Conv1\\Conv3_data_augm2.ipynb Célula: 28\u001b[0m in \u001b[0;36m<cell line: 10>\u001b[1;34m()\u001b[0m\n\u001b[0;32m     <a href='vscode-notebook-cell:/f%3A/UFS/F2%20-%20Copia/Conv1/Conv3_data_augm2.ipynb#X36sZmlsZQ%3D%3D?line=14'>15</a>\u001b[0m     \u001b[39mprint\u001b[39m(\u001b[39mf\u001b[39m\u001b[39m\"\u001b[39m\u001b[39mfitting with batch size: \u001b[39m\u001b[39m{\u001b[39;00mbs\u001b[39m}\u001b[39;00m\u001b[39m\"\u001b[39m)\n\u001b[0;32m     <a href='vscode-notebook-cell:/f%3A/UFS/F2%20-%20Copia/Conv1/Conv3_data_augm2.ipynb#X36sZmlsZQ%3D%3D?line=15'>16</a>\u001b[0m     model\u001b[39m.\u001b[39mcompile(loss\u001b[39m=\u001b[39m loss_range[t], optimizer\u001b[39m=\u001b[39m adam, metrics\u001b[39m=\u001b[39m[\u001b[39m'\u001b[39m\u001b[39maccuracy\u001b[39m\u001b[39m'\u001b[39m])\n\u001b[1;32m---> <a href='vscode-notebook-cell:/f%3A/UFS/F2%20-%20Copia/Conv1/Conv3_data_augm2.ipynb#X36sZmlsZQ%3D%3D?line=16'>17</a>\u001b[0m     history \u001b[39m=\u001b[39m model\u001b[39m.\u001b[39;49mfit(X_train, y_train, \n\u001b[0;32m     <a href='vscode-notebook-cell:/f%3A/UFS/F2%20-%20Copia/Conv1/Conv3_data_augm2.ipynb#X36sZmlsZQ%3D%3D?line=17'>18</a>\u001b[0m                         epochs\u001b[39m=\u001b[39;49mepochs_range[i], \n\u001b[0;32m     <a href='vscode-notebook-cell:/f%3A/UFS/F2%20-%20Copia/Conv1/Conv3_data_augm2.ipynb#X36sZmlsZQ%3D%3D?line=18'>19</a>\u001b[0m                         batch_size\u001b[39m=\u001b[39;49mbatch_range[n], \n\u001b[0;32m     <a href='vscode-notebook-cell:/f%3A/UFS/F2%20-%20Copia/Conv1/Conv3_data_augm2.ipynb#X36sZmlsZQ%3D%3D?line=19'>20</a>\u001b[0m                         verbose\u001b[39m=\u001b[39;49m\u001b[39m2\u001b[39;49m, \n\u001b[0;32m     <a href='vscode-notebook-cell:/f%3A/UFS/F2%20-%20Copia/Conv1/Conv3_data_augm2.ipynb#X36sZmlsZQ%3D%3D?line=20'>21</a>\u001b[0m                         validation_data\u001b[39m=\u001b[39;49m(X_test, y_test), \n\u001b[0;32m     <a href='vscode-notebook-cell:/f%3A/UFS/F2%20-%20Copia/Conv1/Conv3_data_augm2.ipynb#X36sZmlsZQ%3D%3D?line=21'>22</a>\u001b[0m                         callbacks\u001b[39m=\u001b[39;49m[lrate])\n\u001b[0;32m     <a href='vscode-notebook-cell:/f%3A/UFS/F2%20-%20Copia/Conv1/Conv3_data_augm2.ipynb#X36sZmlsZQ%3D%3D?line=22'>23</a>\u001b[0m     n \u001b[39m=\u001b[39m n\u001b[39m+\u001b[39m\u001b[39m1\u001b[39m\n\u001b[0;32m     <a href='vscode-notebook-cell:/f%3A/UFS/F2%20-%20Copia/Conv1/Conv3_data_augm2.ipynb#X36sZmlsZQ%3D%3D?line=23'>24</a>\u001b[0m n\u001b[39m=\u001b[39m\u001b[39m0\u001b[39m    \n",
      "File \u001b[1;32mc:\\Users\\Usuario\\anaconda3\\lib\\site-packages\\keras\\utils\\traceback_utils.py:65\u001b[0m, in \u001b[0;36mfilter_traceback.<locals>.error_handler\u001b[1;34m(*args, **kwargs)\u001b[0m\n\u001b[0;32m     63\u001b[0m filtered_tb \u001b[39m=\u001b[39m \u001b[39mNone\u001b[39;00m\n\u001b[0;32m     64\u001b[0m \u001b[39mtry\u001b[39;00m:\n\u001b[1;32m---> 65\u001b[0m     \u001b[39mreturn\u001b[39;00m fn(\u001b[39m*\u001b[39margs, \u001b[39m*\u001b[39m\u001b[39m*\u001b[39mkwargs)\n\u001b[0;32m     66\u001b[0m \u001b[39mexcept\u001b[39;00m \u001b[39mException\u001b[39;00m \u001b[39mas\u001b[39;00m e:\n\u001b[0;32m     67\u001b[0m     filtered_tb \u001b[39m=\u001b[39m _process_traceback_frames(e\u001b[39m.\u001b[39m__traceback__)\n",
      "File \u001b[1;32mc:\\Users\\Usuario\\anaconda3\\lib\\site-packages\\keras\\engine\\training.py:1606\u001b[0m, in \u001b[0;36mModel.fit\u001b[1;34m(self, x, y, batch_size, epochs, verbose, callbacks, validation_split, validation_data, shuffle, class_weight, sample_weight, initial_epoch, steps_per_epoch, validation_steps, validation_batch_size, validation_freq, max_queue_size, workers, use_multiprocessing)\u001b[0m\n\u001b[0;32m   1591\u001b[0m \u001b[39mif\u001b[39;00m \u001b[39mgetattr\u001b[39m(\u001b[39mself\u001b[39m, \u001b[39m\"\u001b[39m\u001b[39m_eval_data_handler\u001b[39m\u001b[39m\"\u001b[39m, \u001b[39mNone\u001b[39;00m) \u001b[39mis\u001b[39;00m \u001b[39mNone\u001b[39;00m:\n\u001b[0;32m   1592\u001b[0m     \u001b[39mself\u001b[39m\u001b[39m.\u001b[39m_eval_data_handler \u001b[39m=\u001b[39m data_adapter\u001b[39m.\u001b[39mget_data_handler(\n\u001b[0;32m   1593\u001b[0m         x\u001b[39m=\u001b[39mval_x,\n\u001b[0;32m   1594\u001b[0m         y\u001b[39m=\u001b[39mval_y,\n\u001b[1;32m   (...)\u001b[0m\n\u001b[0;32m   1604\u001b[0m         steps_per_execution\u001b[39m=\u001b[39m\u001b[39mself\u001b[39m\u001b[39m.\u001b[39m_steps_per_execution,\n\u001b[0;32m   1605\u001b[0m     )\n\u001b[1;32m-> 1606\u001b[0m val_logs \u001b[39m=\u001b[39m \u001b[39mself\u001b[39;49m\u001b[39m.\u001b[39;49mevaluate(\n\u001b[0;32m   1607\u001b[0m     x\u001b[39m=\u001b[39;49mval_x,\n\u001b[0;32m   1608\u001b[0m     y\u001b[39m=\u001b[39;49mval_y,\n\u001b[0;32m   1609\u001b[0m     sample_weight\u001b[39m=\u001b[39;49mval_sample_weight,\n\u001b[0;32m   1610\u001b[0m     batch_size\u001b[39m=\u001b[39;49mvalidation_batch_size \u001b[39mor\u001b[39;49;00m batch_size,\n\u001b[0;32m   1611\u001b[0m     steps\u001b[39m=\u001b[39;49mvalidation_steps,\n\u001b[0;32m   1612\u001b[0m     callbacks\u001b[39m=\u001b[39;49mcallbacks,\n\u001b[0;32m   1613\u001b[0m     max_queue_size\u001b[39m=\u001b[39;49mmax_queue_size,\n\u001b[0;32m   1614\u001b[0m     workers\u001b[39m=\u001b[39;49mworkers,\n\u001b[0;32m   1615\u001b[0m     use_multiprocessing\u001b[39m=\u001b[39;49muse_multiprocessing,\n\u001b[0;32m   1616\u001b[0m     return_dict\u001b[39m=\u001b[39;49m\u001b[39mTrue\u001b[39;49;00m,\n\u001b[0;32m   1617\u001b[0m     _use_cached_eval_dataset\u001b[39m=\u001b[39;49m\u001b[39mTrue\u001b[39;49;00m,\n\u001b[0;32m   1618\u001b[0m )\n\u001b[0;32m   1619\u001b[0m val_logs \u001b[39m=\u001b[39m {\n\u001b[0;32m   1620\u001b[0m     \u001b[39m\"\u001b[39m\u001b[39mval_\u001b[39m\u001b[39m\"\u001b[39m \u001b[39m+\u001b[39m name: val \u001b[39mfor\u001b[39;00m name, val \u001b[39min\u001b[39;00m val_logs\u001b[39m.\u001b[39mitems()\n\u001b[0;32m   1621\u001b[0m }\n\u001b[0;32m   1622\u001b[0m epoch_logs\u001b[39m.\u001b[39mupdate(val_logs)\n",
      "File \u001b[1;32mc:\\Users\\Usuario\\anaconda3\\lib\\site-packages\\keras\\utils\\traceback_utils.py:65\u001b[0m, in \u001b[0;36mfilter_traceback.<locals>.error_handler\u001b[1;34m(*args, **kwargs)\u001b[0m\n\u001b[0;32m     63\u001b[0m filtered_tb \u001b[39m=\u001b[39m \u001b[39mNone\u001b[39;00m\n\u001b[0;32m     64\u001b[0m \u001b[39mtry\u001b[39;00m:\n\u001b[1;32m---> 65\u001b[0m     \u001b[39mreturn\u001b[39;00m fn(\u001b[39m*\u001b[39margs, \u001b[39m*\u001b[39m\u001b[39m*\u001b[39mkwargs)\n\u001b[0;32m     66\u001b[0m \u001b[39mexcept\u001b[39;00m \u001b[39mException\u001b[39;00m \u001b[39mas\u001b[39;00m e:\n\u001b[0;32m     67\u001b[0m     filtered_tb \u001b[39m=\u001b[39m _process_traceback_frames(e\u001b[39m.\u001b[39m__traceback__)\n",
      "File \u001b[1;32mc:\\Users\\Usuario\\anaconda3\\lib\\site-packages\\keras\\engine\\training.py:1947\u001b[0m, in \u001b[0;36mModel.evaluate\u001b[1;34m(self, x, y, batch_size, verbose, sample_weight, steps, callbacks, max_queue_size, workers, use_multiprocessing, return_dict, **kwargs)\u001b[0m\n\u001b[0;32m   1943\u001b[0m \u001b[39mwith\u001b[39;00m tf\u001b[39m.\u001b[39mprofiler\u001b[39m.\u001b[39mexperimental\u001b[39m.\u001b[39mTrace(\n\u001b[0;32m   1944\u001b[0m     \u001b[39m\"\u001b[39m\u001b[39mtest\u001b[39m\u001b[39m\"\u001b[39m, step_num\u001b[39m=\u001b[39mstep, _r\u001b[39m=\u001b[39m\u001b[39m1\u001b[39m\n\u001b[0;32m   1945\u001b[0m ):\n\u001b[0;32m   1946\u001b[0m     callbacks\u001b[39m.\u001b[39mon_test_batch_begin(step)\n\u001b[1;32m-> 1947\u001b[0m     tmp_logs \u001b[39m=\u001b[39m \u001b[39mself\u001b[39;49m\u001b[39m.\u001b[39;49mtest_function(iterator)\n\u001b[0;32m   1948\u001b[0m     \u001b[39mif\u001b[39;00m data_handler\u001b[39m.\u001b[39mshould_sync:\n\u001b[0;32m   1949\u001b[0m         context\u001b[39m.\u001b[39masync_wait()\n",
      "File \u001b[1;32mc:\\Users\\Usuario\\anaconda3\\lib\\site-packages\\tensorflow\\python\\util\\traceback_utils.py:150\u001b[0m, in \u001b[0;36mfilter_traceback.<locals>.error_handler\u001b[1;34m(*args, **kwargs)\u001b[0m\n\u001b[0;32m    148\u001b[0m filtered_tb \u001b[39m=\u001b[39m \u001b[39mNone\u001b[39;00m\n\u001b[0;32m    149\u001b[0m \u001b[39mtry\u001b[39;00m:\n\u001b[1;32m--> 150\u001b[0m   \u001b[39mreturn\u001b[39;00m fn(\u001b[39m*\u001b[39margs, \u001b[39m*\u001b[39m\u001b[39m*\u001b[39mkwargs)\n\u001b[0;32m    151\u001b[0m \u001b[39mexcept\u001b[39;00m \u001b[39mException\u001b[39;00m \u001b[39mas\u001b[39;00m e:\n\u001b[0;32m    152\u001b[0m   filtered_tb \u001b[39m=\u001b[39m _process_traceback_frames(e\u001b[39m.\u001b[39m__traceback__)\n",
      "File \u001b[1;32mc:\\Users\\Usuario\\anaconda3\\lib\\site-packages\\tensorflow\\python\\eager\\def_function.py:915\u001b[0m, in \u001b[0;36mFunction.__call__\u001b[1;34m(self, *args, **kwds)\u001b[0m\n\u001b[0;32m    912\u001b[0m compiler \u001b[39m=\u001b[39m \u001b[39m\"\u001b[39m\u001b[39mxla\u001b[39m\u001b[39m\"\u001b[39m \u001b[39mif\u001b[39;00m \u001b[39mself\u001b[39m\u001b[39m.\u001b[39m_jit_compile \u001b[39melse\u001b[39;00m \u001b[39m\"\u001b[39m\u001b[39mnonXla\u001b[39m\u001b[39m\"\u001b[39m\n\u001b[0;32m    914\u001b[0m \u001b[39mwith\u001b[39;00m OptionalXlaContext(\u001b[39mself\u001b[39m\u001b[39m.\u001b[39m_jit_compile):\n\u001b[1;32m--> 915\u001b[0m   result \u001b[39m=\u001b[39m \u001b[39mself\u001b[39m\u001b[39m.\u001b[39m_call(\u001b[39m*\u001b[39margs, \u001b[39m*\u001b[39m\u001b[39m*\u001b[39mkwds)\n\u001b[0;32m    917\u001b[0m new_tracing_count \u001b[39m=\u001b[39m \u001b[39mself\u001b[39m\u001b[39m.\u001b[39mexperimental_get_tracing_count()\n\u001b[0;32m    918\u001b[0m without_tracing \u001b[39m=\u001b[39m (tracing_count \u001b[39m==\u001b[39m new_tracing_count)\n",
      "File \u001b[1;32mc:\\Users\\Usuario\\anaconda3\\lib\\site-packages\\tensorflow\\python\\eager\\def_function.py:986\u001b[0m, in \u001b[0;36mFunction._call\u001b[1;34m(self, *args, **kwds)\u001b[0m\n\u001b[0;32m    982\u001b[0m   _, _, filtered_flat_args \u001b[39m=\u001b[39m (\n\u001b[0;32m    983\u001b[0m       \u001b[39mself\u001b[39m\u001b[39m.\u001b[39m_stateful_fn\u001b[39m.\u001b[39m_function_spec\u001b[39m.\u001b[39mcanonicalize_function_inputs(  \u001b[39m# pylint: disable=protected-access\u001b[39;00m\n\u001b[0;32m    984\u001b[0m           \u001b[39m*\u001b[39margs, \u001b[39m*\u001b[39m\u001b[39m*\u001b[39mkwds))\n\u001b[0;32m    985\u001b[0m   \u001b[39m# If we did not create any variables the trace we have is good enough.\u001b[39;00m\n\u001b[1;32m--> 986\u001b[0m   \u001b[39mreturn\u001b[39;00m \u001b[39mself\u001b[39;49m\u001b[39m.\u001b[39;49m_concrete_stateful_fn\u001b[39m.\u001b[39;49m_call_flat(\n\u001b[0;32m    987\u001b[0m       filtered_flat_args, \u001b[39mself\u001b[39;49m\u001b[39m.\u001b[39;49m_concrete_stateful_fn\u001b[39m.\u001b[39;49mcaptured_inputs)  \u001b[39m# pylint: disable=protected-access\u001b[39;00m\n\u001b[0;32m    989\u001b[0m \u001b[39mdef\u001b[39;00m \u001b[39mfn_with_cond\u001b[39m(inner_args, inner_kwds, inner_filtered_flat_args):\n\u001b[0;32m    990\u001b[0m   \u001b[39m\"\"\"Conditionally runs initialization if it's needed.\"\"\"\u001b[39;00m\n",
      "File \u001b[1;32mc:\\Users\\Usuario\\anaconda3\\lib\\site-packages\\tensorflow\\python\\eager\\function.py:1862\u001b[0m, in \u001b[0;36mConcreteFunction._call_flat\u001b[1;34m(self, args, captured_inputs, cancellation_manager)\u001b[0m\n\u001b[0;32m   1858\u001b[0m possible_gradient_type \u001b[39m=\u001b[39m gradients_util\u001b[39m.\u001b[39mPossibleTapeGradientTypes(args)\n\u001b[0;32m   1859\u001b[0m \u001b[39mif\u001b[39;00m (possible_gradient_type \u001b[39m==\u001b[39m gradients_util\u001b[39m.\u001b[39mPOSSIBLE_GRADIENT_TYPES_NONE\n\u001b[0;32m   1860\u001b[0m     \u001b[39mand\u001b[39;00m executing_eagerly):\n\u001b[0;32m   1861\u001b[0m   \u001b[39m# No tape is watching; skip to running the function.\u001b[39;00m\n\u001b[1;32m-> 1862\u001b[0m   \u001b[39mreturn\u001b[39;00m \u001b[39mself\u001b[39m\u001b[39m.\u001b[39m_build_call_outputs(\u001b[39mself\u001b[39;49m\u001b[39m.\u001b[39;49m_inference_function\u001b[39m.\u001b[39;49mcall(\n\u001b[0;32m   1863\u001b[0m       ctx, args, cancellation_manager\u001b[39m=\u001b[39;49mcancellation_manager))\n\u001b[0;32m   1864\u001b[0m forward_backward \u001b[39m=\u001b[39m \u001b[39mself\u001b[39m\u001b[39m.\u001b[39m_select_forward_and_backward_functions(\n\u001b[0;32m   1865\u001b[0m     args,\n\u001b[0;32m   1866\u001b[0m     possible_gradient_type,\n\u001b[0;32m   1867\u001b[0m     executing_eagerly)\n\u001b[0;32m   1868\u001b[0m forward_function, args_with_tangents \u001b[39m=\u001b[39m forward_backward\u001b[39m.\u001b[39mforward()\n",
      "File \u001b[1;32mc:\\Users\\Usuario\\anaconda3\\lib\\site-packages\\tensorflow\\python\\eager\\function.py:499\u001b[0m, in \u001b[0;36m_EagerDefinedFunction.call\u001b[1;34m(self, ctx, args, cancellation_manager)\u001b[0m\n\u001b[0;32m    497\u001b[0m \u001b[39mwith\u001b[39;00m _InterpolateFunctionError(\u001b[39mself\u001b[39m):\n\u001b[0;32m    498\u001b[0m   \u001b[39mif\u001b[39;00m cancellation_manager \u001b[39mis\u001b[39;00m \u001b[39mNone\u001b[39;00m:\n\u001b[1;32m--> 499\u001b[0m     outputs \u001b[39m=\u001b[39m execute\u001b[39m.\u001b[39;49mexecute(\n\u001b[0;32m    500\u001b[0m         \u001b[39mstr\u001b[39;49m(\u001b[39mself\u001b[39;49m\u001b[39m.\u001b[39;49msignature\u001b[39m.\u001b[39;49mname),\n\u001b[0;32m    501\u001b[0m         num_outputs\u001b[39m=\u001b[39;49m\u001b[39mself\u001b[39;49m\u001b[39m.\u001b[39;49m_num_outputs,\n\u001b[0;32m    502\u001b[0m         inputs\u001b[39m=\u001b[39;49margs,\n\u001b[0;32m    503\u001b[0m         attrs\u001b[39m=\u001b[39;49mattrs,\n\u001b[0;32m    504\u001b[0m         ctx\u001b[39m=\u001b[39;49mctx)\n\u001b[0;32m    505\u001b[0m   \u001b[39melse\u001b[39;00m:\n\u001b[0;32m    506\u001b[0m     outputs \u001b[39m=\u001b[39m execute\u001b[39m.\u001b[39mexecute_with_cancellation(\n\u001b[0;32m    507\u001b[0m         \u001b[39mstr\u001b[39m(\u001b[39mself\u001b[39m\u001b[39m.\u001b[39msignature\u001b[39m.\u001b[39mname),\n\u001b[0;32m    508\u001b[0m         num_outputs\u001b[39m=\u001b[39m\u001b[39mself\u001b[39m\u001b[39m.\u001b[39m_num_outputs,\n\u001b[1;32m   (...)\u001b[0m\n\u001b[0;32m    511\u001b[0m         ctx\u001b[39m=\u001b[39mctx,\n\u001b[0;32m    512\u001b[0m         cancellation_manager\u001b[39m=\u001b[39mcancellation_manager)\n",
      "File \u001b[1;32mc:\\Users\\Usuario\\anaconda3\\lib\\site-packages\\tensorflow\\python\\eager\\execute.py:54\u001b[0m, in \u001b[0;36mquick_execute\u001b[1;34m(op_name, num_outputs, inputs, attrs, ctx, name)\u001b[0m\n\u001b[0;32m     52\u001b[0m \u001b[39mtry\u001b[39;00m:\n\u001b[0;32m     53\u001b[0m   ctx\u001b[39m.\u001b[39mensure_initialized()\n\u001b[1;32m---> 54\u001b[0m   tensors \u001b[39m=\u001b[39m pywrap_tfe\u001b[39m.\u001b[39;49mTFE_Py_Execute(ctx\u001b[39m.\u001b[39;49m_handle, device_name, op_name,\n\u001b[0;32m     55\u001b[0m                                       inputs, attrs, num_outputs)\n\u001b[0;32m     56\u001b[0m \u001b[39mexcept\u001b[39;00m core\u001b[39m.\u001b[39m_NotOkStatusException \u001b[39mas\u001b[39;00m e:\n\u001b[0;32m     57\u001b[0m   \u001b[39mif\u001b[39;00m name \u001b[39mis\u001b[39;00m \u001b[39mnot\u001b[39;00m \u001b[39mNone\u001b[39;00m:\n",
      "\u001b[1;31mKeyboardInterrupt\u001b[0m: "
     ]
    }
   ],
   "source": [
    "#epochs = 0\n",
    "batch_range = [ 1500, 2500]#20, 100, 500, 1500, 2500\n",
    "epochs_range= [75,100]#25,50,75,100\n",
    "loss_range=['categorical_crossentropy','binary_crossentropy']#'categorical_crossentropy','binary_crossentropy','huber_loss','kullback_leibler_divergence','poisson'\n",
    "n=0\n",
    "i=0\n",
    "t=0\n",
    "#optimizer_range= [adamax,adam]\n",
    "#itertools\n",
    "for lsr in loss_range:\n",
    "    print(f\"Loss: {loss_range[t]}\")\n",
    "    for ep in epochs_range:\n",
    "        print(f\"Epoch number: {ep}\")\n",
    "        for bs in batch_range:\n",
    "            print(f\"fitting with batch size: {bs}\")\n",
    "            model.compile(loss= loss_range[t], optimizer= adam, metrics=['accuracy'])\n",
    "            history = model.fit(X_train, y_train, \n",
    "                                epochs=epochs_range[i], \n",
    "                                batch_size=batch_range[n], \n",
    "                                verbose=2, \n",
    "                                validation_data=(X_test, y_test), \n",
    "                                callbacks=[lrate])\n",
    "            n = n+1\n",
    "        n=0    \n",
    "        i=i+1\n",
    "    i=0\n",
    "    t=t + 1\n",
    "t= 0       "
   ]
  },
  {
   "cell_type": "code",
   "execution_count": 23,
   "metadata": {},
   "outputs": [
    {
     "name": "stdout",
     "output_type": "stream",
     "text": [
      "Epoch 1/100\n",
      "36/36 - 25s - loss: 0.7247 - accuracy: 0.8055 - val_loss: 1.0598 - val_accuracy: 0.8276 - lr: 0.0010 - 25s/epoch - 692ms/step\n",
      "Epoch 2/100\n",
      "36/36 - 13s - loss: 0.6427 - accuracy: 0.8277 - val_loss: 0.9983 - val_accuracy: 0.8276 - lr: 0.0010 - 13s/epoch - 362ms/step\n",
      "Epoch 3/100\n",
      "36/36 - 13s - loss: 0.6271 - accuracy: 0.8277 - val_loss: 0.9617 - val_accuracy: 0.8276 - lr: 0.0010 - 13s/epoch - 362ms/step\n",
      "Epoch 4/100\n",
      "36/36 - 13s - loss: 0.6100 - accuracy: 0.8278 - val_loss: 0.9024 - val_accuracy: 0.8276 - lr: 0.0010 - 13s/epoch - 365ms/step\n",
      "Epoch 5/100\n",
      "36/36 - 13s - loss: 0.5883 - accuracy: 0.8313 - val_loss: 0.8221 - val_accuracy: 0.8276 - lr: 0.0010 - 13s/epoch - 365ms/step\n",
      "Epoch 6/100\n",
      "36/36 - 13s - loss: 0.5593 - accuracy: 0.8411 - val_loss: 0.7221 - val_accuracy: 0.8588 - lr: 0.0010 - 13s/epoch - 365ms/step\n",
      "Epoch 7/100\n",
      "36/36 - 13s - loss: 0.5313 - accuracy: 0.8484 - val_loss: 0.7447 - val_accuracy: 0.8558 - lr: 0.0010 - 13s/epoch - 365ms/step\n",
      "Epoch 8/100\n",
      "36/36 - 13s - loss: 0.4957 - accuracy: 0.8569 - val_loss: 0.8499 - val_accuracy: 0.7082 - lr: 0.0010 - 13s/epoch - 366ms/step\n",
      "Epoch 9/100\n",
      "36/36 - 13s - loss: 0.4729 - accuracy: 0.8633 - val_loss: 0.8232 - val_accuracy: 0.7163 - lr: 0.0010 - 13s/epoch - 365ms/step\n",
      "Epoch 10/100\n",
      "36/36 - 13s - loss: 0.4571 - accuracy: 0.8670 - val_loss: 0.6966 - val_accuracy: 0.7969 - lr: 0.0010 - 13s/epoch - 365ms/step\n",
      "Epoch 11/100\n",
      "36/36 - 13s - loss: 0.4473 - accuracy: 0.8695 - val_loss: 0.7311 - val_accuracy: 0.7414 - lr: 0.0010 - 13s/epoch - 366ms/step\n",
      "Epoch 12/100\n",
      "36/36 - 13s - loss: 0.4392 - accuracy: 0.8717 - val_loss: 0.5847 - val_accuracy: 0.8647 - lr: 0.0010 - 13s/epoch - 365ms/step\n",
      "Epoch 13/100\n",
      "36/36 - 13s - loss: 0.4349 - accuracy: 0.8723 - val_loss: 0.6239 - val_accuracy: 0.8197 - lr: 0.0010 - 13s/epoch - 367ms/step\n",
      "Epoch 14/100\n",
      "36/36 - 13s - loss: 0.4283 - accuracy: 0.8747 - val_loss: 0.5686 - val_accuracy: 0.8508 - lr: 0.0010 - 13s/epoch - 370ms/step\n",
      "Epoch 15/100\n",
      "36/36 - 13s - loss: 0.4267 - accuracy: 0.8744 - val_loss: 0.6207 - val_accuracy: 0.8158 - lr: 0.0010 - 13s/epoch - 369ms/step\n",
      "Epoch 16/100\n",
      "36/36 - 13s - loss: 0.4185 - accuracy: 0.8768 - val_loss: 0.4920 - val_accuracy: 0.8834 - lr: 0.0010 - 13s/epoch - 369ms/step\n",
      "Epoch 17/100\n",
      "36/36 - 13s - loss: 0.4214 - accuracy: 0.8764 - val_loss: 0.5552 - val_accuracy: 0.8529 - lr: 0.0010 - 13s/epoch - 369ms/step\n",
      "Epoch 18/100\n",
      "36/36 - 13s - loss: 0.4139 - accuracy: 0.8778 - val_loss: 0.4967 - val_accuracy: 0.8775 - lr: 0.0010 - 13s/epoch - 370ms/step\n",
      "Epoch 19/100\n",
      "36/36 - 13s - loss: 0.4110 - accuracy: 0.8782 - val_loss: 0.6538 - val_accuracy: 0.7799 - lr: 0.0010 - 13s/epoch - 370ms/step\n",
      "Epoch 20/100\n",
      "36/36 - 14s - loss: 0.4129 - accuracy: 0.8783 - val_loss: 0.5010 - val_accuracy: 0.8743 - lr: 0.0010 - 14s/epoch - 379ms/step\n",
      "Epoch 21/100\n",
      "36/36 - 13s - loss: 0.4046 - accuracy: 0.8801 - val_loss: 0.4806 - val_accuracy: 0.8861 - lr: 0.0010 - 13s/epoch - 369ms/step\n",
      "Epoch 22/100\n",
      "36/36 - 13s - loss: 0.4044 - accuracy: 0.8803 - val_loss: 0.4831 - val_accuracy: 0.8747 - lr: 0.0010 - 13s/epoch - 369ms/step\n",
      "Epoch 23/100\n",
      "36/36 - 13s - loss: 0.4007 - accuracy: 0.8807 - val_loss: 0.4690 - val_accuracy: 0.8811 - lr: 0.0010 - 13s/epoch - 369ms/step\n",
      "Epoch 24/100\n",
      "36/36 - 13s - loss: 0.3975 - accuracy: 0.8820 - val_loss: 0.4194 - val_accuracy: 0.8996 - lr: 0.0010 - 13s/epoch - 369ms/step\n",
      "Epoch 25/100\n",
      "36/36 - 13s - loss: 0.3966 - accuracy: 0.8815 - val_loss: 0.4158 - val_accuracy: 0.8899 - lr: 0.0010 - 13s/epoch - 369ms/step\n",
      "Epoch 26/100\n",
      "36/36 - 13s - loss: 0.3953 - accuracy: 0.8820 - val_loss: 0.4276 - val_accuracy: 0.9022 - lr: 0.0010 - 13s/epoch - 370ms/step\n",
      "Epoch 27/100\n",
      "36/36 - 13s - loss: 0.3935 - accuracy: 0.8824 - val_loss: 0.3949 - val_accuracy: 0.9094 - lr: 0.0010 - 13s/epoch - 369ms/step\n",
      "Epoch 28/100\n",
      "36/36 - 13s - loss: 0.3896 - accuracy: 0.8839 - val_loss: 0.3325 - val_accuracy: 0.9217 - lr: 0.0010 - 13s/epoch - 369ms/step\n",
      "Epoch 29/100\n",
      "36/36 - 13s - loss: 0.3935 - accuracy: 0.8827 - val_loss: 0.3329 - val_accuracy: 0.9222 - lr: 0.0010 - 13s/epoch - 369ms/step\n",
      "Epoch 30/100\n",
      "36/36 - 13s - loss: 0.3934 - accuracy: 0.8823 - val_loss: 0.3439 - val_accuracy: 0.9189 - lr: 0.0010 - 13s/epoch - 369ms/step\n",
      "Epoch 31/100\n",
      "36/36 - 13s - loss: 0.3869 - accuracy: 0.8839 - val_loss: 0.3937 - val_accuracy: 0.9039 - lr: 0.0010 - 13s/epoch - 371ms/step\n",
      "Epoch 32/100\n",
      "36/36 - 13s - loss: 0.3848 - accuracy: 0.8845 - val_loss: 0.3883 - val_accuracy: 0.9006 - lr: 0.0010 - 13s/epoch - 374ms/step\n",
      "Epoch 33/100\n",
      "36/36 - 13s - loss: 0.3824 - accuracy: 0.8851 - val_loss: 0.3808 - val_accuracy: 0.9070 - lr: 0.0010 - 13s/epoch - 370ms/step\n",
      "Epoch 34/100\n",
      "36/36 - 18s - loss: 0.3843 - accuracy: 0.8845 - val_loss: 0.4289 - val_accuracy: 0.8821 - lr: 0.0010 - 18s/epoch - 496ms/step\n",
      "Epoch 35/100\n",
      "36/36 - 18s - loss: 0.3862 - accuracy: 0.8842 - val_loss: 0.3996 - val_accuracy: 0.9068 - lr: 0.0010 - 18s/epoch - 491ms/step\n",
      "Epoch 36/100\n",
      "36/36 - 16s - loss: 0.3841 - accuracy: 0.8839 - val_loss: 0.3365 - val_accuracy: 0.9193 - lr: 0.0010 - 16s/epoch - 438ms/step\n",
      "Epoch 37/100\n",
      "36/36 - 16s - loss: 0.3783 - accuracy: 0.8863 - val_loss: 0.3543 - val_accuracy: 0.9197 - lr: 0.0010 - 16s/epoch - 438ms/step\n",
      "Epoch 38/100\n",
      "36/36 - 17s - loss: 0.3768 - accuracy: 0.8863 - val_loss: 0.2933 - val_accuracy: 0.9277 - lr: 0.0010 - 17s/epoch - 484ms/step\n",
      "Epoch 39/100\n",
      "36/36 - 16s - loss: 0.3819 - accuracy: 0.8846 - val_loss: 0.3181 - val_accuracy: 0.9234 - lr: 0.0010 - 16s/epoch - 448ms/step\n",
      "Epoch 40/100\n",
      "36/36 - 16s - loss: 0.3744 - accuracy: 0.8869 - val_loss: 0.3241 - val_accuracy: 0.9276 - lr: 0.0010 - 16s/epoch - 438ms/step\n",
      "Epoch 41/100\n",
      "36/36 - 18s - loss: 0.3763 - accuracy: 0.8862 - val_loss: 0.3107 - val_accuracy: 0.9253 - lr: 0.0010 - 18s/epoch - 495ms/step\n",
      "Epoch 42/100\n",
      "36/36 - 15s - loss: 0.3712 - accuracy: 0.8888 - val_loss: 0.2951 - val_accuracy: 0.9283 - lr: 0.0010 - 15s/epoch - 428ms/step\n",
      "Epoch 43/100\n",
      "36/36 - 15s - loss: 0.3705 - accuracy: 0.8872 - val_loss: 0.2914 - val_accuracy: 0.9280 - lr: 0.0010 - 15s/epoch - 427ms/step\n",
      "Epoch 44/100\n",
      "36/36 - 15s - loss: 0.3713 - accuracy: 0.8879 - val_loss: 0.2865 - val_accuracy: 0.9301 - lr: 0.0010 - 15s/epoch - 414ms/step\n",
      "Epoch 45/100\n",
      "36/36 - 15s - loss: 0.3710 - accuracy: 0.8880 - val_loss: 0.2707 - val_accuracy: 0.9293 - lr: 0.0010 - 15s/epoch - 414ms/step\n",
      "Epoch 46/100\n",
      "36/36 - 15s - loss: 0.3662 - accuracy: 0.8892 - val_loss: 0.2788 - val_accuracy: 0.9337 - lr: 0.0010 - 15s/epoch - 416ms/step\n",
      "Epoch 47/100\n",
      "36/36 - 26s - loss: 0.3684 - accuracy: 0.8885 - val_loss: 0.2818 - val_accuracy: 0.9292 - lr: 0.0010 - 26s/epoch - 721ms/step\n",
      "Epoch 48/100\n",
      "36/36 - 13s - loss: 0.3651 - accuracy: 0.8893 - val_loss: 0.2625 - val_accuracy: 0.9318 - lr: 0.0010 - 13s/epoch - 365ms/step\n",
      "Epoch 49/100\n",
      "36/36 - 13s - loss: 0.3712 - accuracy: 0.8878 - val_loss: 0.2736 - val_accuracy: 0.9273 - lr: 0.0010 - 13s/epoch - 371ms/step\n",
      "Epoch 50/100\n",
      "36/36 - 14s - loss: 0.3646 - accuracy: 0.8897 - val_loss: 0.3037 - val_accuracy: 0.9268 - lr: 0.0010 - 14s/epoch - 403ms/step\n",
      "Epoch 51/100\n",
      "36/36 - 15s - loss: 0.3648 - accuracy: 0.8898 - val_loss: 0.2567 - val_accuracy: 0.9312 - lr: 0.0010 - 15s/epoch - 415ms/step\n",
      "Epoch 52/100\n",
      "36/36 - 14s - loss: 0.3602 - accuracy: 0.8910 - val_loss: 0.2644 - val_accuracy: 0.9316 - lr: 0.0010 - 14s/epoch - 398ms/step\n",
      "Epoch 53/100\n",
      "36/36 - 13s - loss: 0.3600 - accuracy: 0.8906 - val_loss: 0.2566 - val_accuracy: 0.9319 - lr: 0.0010 - 13s/epoch - 371ms/step\n",
      "Epoch 54/100\n",
      "36/36 - 16s - loss: 0.3662 - accuracy: 0.8891 - val_loss: 0.3532 - val_accuracy: 0.9136 - lr: 0.0010 - 16s/epoch - 431ms/step\n",
      "Epoch 55/100\n",
      "36/36 - 16s - loss: 0.3748 - accuracy: 0.8863 - val_loss: 0.2760 - val_accuracy: 0.9330 - lr: 0.0010 - 16s/epoch - 436ms/step\n",
      "Epoch 56/100\n",
      "36/36 - 15s - loss: 0.3591 - accuracy: 0.8911 - val_loss: 0.2764 - val_accuracy: 0.9313 - lr: 0.0010 - 15s/epoch - 418ms/step\n",
      "Epoch 57/100\n",
      "36/36 - 15s - loss: 0.3548 - accuracy: 0.8920 - val_loss: 0.2599 - val_accuracy: 0.9343 - lr: 0.0010 - 15s/epoch - 420ms/step\n",
      "Epoch 58/100\n",
      "36/36 - 14s - loss: 0.3553 - accuracy: 0.8917 - val_loss: 0.2624 - val_accuracy: 0.9321 - lr: 0.0010 - 14s/epoch - 398ms/step\n",
      "Epoch 59/100\n",
      "36/36 - 14s - loss: 0.3549 - accuracy: 0.8921 - val_loss: 0.2794 - val_accuracy: 0.9373 - lr: 0.0010 - 14s/epoch - 383ms/step\n",
      "Epoch 60/100\n",
      "36/36 - 16s - loss: 0.3592 - accuracy: 0.8912 - val_loss: 0.2533 - val_accuracy: 0.9341 - lr: 0.0010 - 16s/epoch - 434ms/step\n",
      "Epoch 61/100\n",
      "36/36 - 17s - loss: 0.3527 - accuracy: 0.8926 - val_loss: 0.2700 - val_accuracy: 0.9334 - lr: 0.0010 - 17s/epoch - 470ms/step\n",
      "Epoch 62/100\n",
      "36/36 - 16s - loss: 0.3542 - accuracy: 0.8926 - val_loss: 0.2572 - val_accuracy: 0.9371 - lr: 0.0010 - 16s/epoch - 434ms/step\n",
      "Epoch 63/100\n",
      "36/36 - 16s - loss: 0.3524 - accuracy: 0.8931 - val_loss: 0.2491 - val_accuracy: 0.9301 - lr: 0.0010 - 16s/epoch - 443ms/step\n",
      "Epoch 64/100\n",
      "36/36 - 14s - loss: 0.3527 - accuracy: 0.8928 - val_loss: 0.2696 - val_accuracy: 0.9326 - lr: 0.0010 - 14s/epoch - 376ms/step\n",
      "Epoch 65/100\n",
      "36/36 - 13s - loss: 0.3522 - accuracy: 0.8931 - val_loss: 0.2445 - val_accuracy: 0.9382 - lr: 0.0010 - 13s/epoch - 365ms/step\n",
      "Epoch 66/100\n",
      "36/36 - 14s - loss: 0.3524 - accuracy: 0.8921 - val_loss: 0.2647 - val_accuracy: 0.9309 - lr: 0.0010 - 14s/epoch - 387ms/step\n",
      "Epoch 67/100\n",
      "36/36 - 15s - loss: 0.3537 - accuracy: 0.8921 - val_loss: 0.2476 - val_accuracy: 0.9359 - lr: 0.0010 - 15s/epoch - 414ms/step\n",
      "Epoch 68/100\n",
      "36/36 - 16s - loss: 0.3492 - accuracy: 0.8936 - val_loss: 0.2489 - val_accuracy: 0.9353 - lr: 0.0010 - 16s/epoch - 434ms/step\n",
      "Epoch 69/100\n",
      "36/36 - 16s - loss: 0.3495 - accuracy: 0.8930 - val_loss: 0.2603 - val_accuracy: 0.9397 - lr: 0.0010 - 16s/epoch - 454ms/step\n",
      "Epoch 70/100\n",
      "36/36 - 16s - loss: 0.3500 - accuracy: 0.8934 - val_loss: 0.2637 - val_accuracy: 0.9320 - lr: 0.0010 - 16s/epoch - 453ms/step\n",
      "Epoch 71/100\n",
      "36/36 - 15s - loss: 0.3511 - accuracy: 0.8928 - val_loss: 0.2431 - val_accuracy: 0.9388 - lr: 0.0010 - 15s/epoch - 427ms/step\n",
      "Epoch 72/100\n",
      "36/36 - 15s - loss: 0.3491 - accuracy: 0.8934 - val_loss: 0.2408 - val_accuracy: 0.9329 - lr: 0.0010 - 15s/epoch - 417ms/step\n",
      "Epoch 73/100\n",
      "36/36 - 16s - loss: 0.3556 - accuracy: 0.8916 - val_loss: 0.2556 - val_accuracy: 0.9373 - lr: 0.0010 - 16s/epoch - 433ms/step\n",
      "Epoch 74/100\n",
      "36/36 - 15s - loss: 0.3469 - accuracy: 0.8941 - val_loss: 0.2458 - val_accuracy: 0.9382 - lr: 0.0010 - 15s/epoch - 421ms/step\n",
      "Epoch 75/100\n",
      "36/36 - 14s - loss: 0.3455 - accuracy: 0.8947 - val_loss: 0.2502 - val_accuracy: 0.9390 - lr: 0.0010 - 14s/epoch - 388ms/step\n",
      "Epoch 76/100\n",
      "36/36 - 13s - loss: 0.3434 - accuracy: 0.8944 - val_loss: 0.2355 - val_accuracy: 0.9369 - lr: 0.0010 - 13s/epoch - 373ms/step\n",
      "Epoch 77/100\n",
      "36/36 - 13s - loss: 0.3432 - accuracy: 0.8949 - val_loss: 0.2400 - val_accuracy: 0.9400 - lr: 0.0010 - 13s/epoch - 358ms/step\n",
      "Epoch 78/100\n",
      "36/36 - 13s - loss: 0.3429 - accuracy: 0.8952 - val_loss: 0.2466 - val_accuracy: 0.9398 - lr: 0.0010 - 13s/epoch - 367ms/step\n",
      "Epoch 79/100\n",
      "36/36 - 13s - loss: 0.3425 - accuracy: 0.8952 - val_loss: 0.2528 - val_accuracy: 0.9394 - lr: 0.0010 - 13s/epoch - 367ms/step\n",
      "Epoch 80/100\n",
      "36/36 - 13s - loss: 0.3434 - accuracy: 0.8951 - val_loss: 0.2400 - val_accuracy: 0.9391 - lr: 0.0010 - 13s/epoch - 373ms/step\n",
      "Epoch 81/100\n",
      "36/36 - 14s - loss: 0.3428 - accuracy: 0.8953 - val_loss: 0.2391 - val_accuracy: 0.9400 - lr: 0.0010 - 14s/epoch - 386ms/step\n",
      "Epoch 82/100\n",
      "36/36 - 14s - loss: 0.3402 - accuracy: 0.8953 - val_loss: 0.2398 - val_accuracy: 0.9416 - lr: 0.0010 - 14s/epoch - 376ms/step\n",
      "Epoch 83/100\n",
      "36/36 - 14s - loss: 0.3445 - accuracy: 0.8946 - val_loss: 0.2408 - val_accuracy: 0.9382 - lr: 0.0010 - 14s/epoch - 381ms/step\n",
      "Epoch 84/100\n",
      "36/36 - 14s - loss: 0.3404 - accuracy: 0.8958 - val_loss: 0.2432 - val_accuracy: 0.9418 - lr: 0.0010 - 14s/epoch - 402ms/step\n",
      "Epoch 85/100\n",
      "36/36 - 14s - loss: 0.3390 - accuracy: 0.8964 - val_loss: 0.2323 - val_accuracy: 0.9392 - lr: 0.0010 - 14s/epoch - 399ms/step\n",
      "Epoch 86/100\n",
      "36/36 - 15s - loss: 0.3369 - accuracy: 0.8965 - val_loss: 0.2298 - val_accuracy: 0.9428 - lr: 0.0010 - 15s/epoch - 413ms/step\n",
      "Epoch 87/100\n",
      "36/36 - 15s - loss: 0.3413 - accuracy: 0.8951 - val_loss: 0.2685 - val_accuracy: 0.9370 - lr: 0.0010 - 15s/epoch - 422ms/step\n",
      "Epoch 88/100\n",
      "36/36 - 15s - loss: 0.3396 - accuracy: 0.8949 - val_loss: 0.2296 - val_accuracy: 0.9378 - lr: 0.0010 - 15s/epoch - 409ms/step\n",
      "Epoch 89/100\n",
      "36/36 - 15s - loss: 0.3380 - accuracy: 0.8959 - val_loss: 0.2335 - val_accuracy: 0.9406 - lr: 0.0010 - 15s/epoch - 415ms/step\n",
      "Epoch 90/100\n",
      "36/36 - 15s - loss: 0.3347 - accuracy: 0.8968 - val_loss: 0.2475 - val_accuracy: 0.9360 - lr: 0.0010 - 15s/epoch - 417ms/step\n",
      "Epoch 91/100\n",
      "36/36 - 14s - loss: 0.3397 - accuracy: 0.8954 - val_loss: 0.2260 - val_accuracy: 0.9424 - lr: 0.0010 - 14s/epoch - 385ms/step\n",
      "Epoch 92/100\n",
      "36/36 - 14s - loss: 0.3339 - accuracy: 0.8973 - val_loss: 0.2311 - val_accuracy: 0.9422 - lr: 0.0010 - 14s/epoch - 382ms/step\n",
      "Epoch 93/100\n",
      "36/36 - 14s - loss: 0.3335 - accuracy: 0.8967 - val_loss: 0.2506 - val_accuracy: 0.9416 - lr: 0.0010 - 14s/epoch - 388ms/step\n",
      "Epoch 94/100\n",
      "36/36 - 40s - loss: 0.3347 - accuracy: 0.8965 - val_loss: 0.2331 - val_accuracy: 0.9433 - lr: 0.0010 - 40s/epoch - 1s/step\n",
      "Epoch 95/100\n",
      "36/36 - 14s - loss: 0.3349 - accuracy: 0.8977 - val_loss: 0.2348 - val_accuracy: 0.9414 - lr: 0.0010 - 14s/epoch - 387ms/step\n",
      "Epoch 96/100\n",
      "36/36 - 14s - loss: 0.3323 - accuracy: 0.8979 - val_loss: 0.2331 - val_accuracy: 0.9401 - lr: 0.0010 - 14s/epoch - 388ms/step\n",
      "Epoch 97/100\n",
      "36/36 - 13s - loss: 0.3342 - accuracy: 0.8969 - val_loss: 0.2425 - val_accuracy: 0.9447 - lr: 0.0010 - 13s/epoch - 364ms/step\n",
      "Epoch 98/100\n",
      "36/36 - 17s - loss: 0.3328 - accuracy: 0.8971 - val_loss: 0.2355 - val_accuracy: 0.9382 - lr: 0.0010 - 17s/epoch - 464ms/step\n",
      "Epoch 99/100\n",
      "36/36 - 15s - loss: 0.3297 - accuracy: 0.8987 - val_loss: 0.2236 - val_accuracy: 0.9416 - lr: 0.0010 - 15s/epoch - 430ms/step\n",
      "Epoch 100/100\n",
      "36/36 - 15s - loss: 0.3281 - accuracy: 0.8984 - val_loss: 0.2186 - val_accuracy: 0.9417 - lr: 0.0010 - 15s/epoch - 409ms/step\n"
     ]
    }
   ],
   "source": [
    "model.compile(loss= 'categorical_crossentropy', optimizer= adam, metrics=['accuracy'])\n",
    "history = model.fit(X_train, y_train, \n",
    "                                epochs=100, \n",
    "                                batch_size=2500, \n",
    "                                verbose=2, \n",
    "                                validation_data=(X_test, y_test), \n",
    "                                callbacks=[lrate])"
   ]
  },
  {
   "cell_type": "code",
   "execution_count": 24,
   "metadata": {
    "_uuid": "d43023d26a87e3c4702b96bea5962c990c76aa0a",
    "jupyter": {
     "outputs_hidden": true
    }
   },
   "outputs": [
    {
     "name": "stdout",
     "output_type": "stream",
     "text": [
      "44/44 [==============================] - 2s 30ms/step\n"
     ]
    }
   ],
   "source": [
    "y_pred = model.predict(X_test, batch_size = 500)"
   ]
  },
  {
   "cell_type": "code",
   "execution_count": 25,
   "metadata": {
    "_uuid": "20cfe7f5891e3c26c599fa4cd728ac0a499ac70e",
    "jupyter": {
     "outputs_hidden": true
    }
   },
   "outputs": [
    {
     "name": "stdout",
     "output_type": "stream",
     "text": [
      "              precision    recall  f1-score   support\n",
      "\n",
      "           0       0.94      1.00      0.97     18118\n",
      "           1       0.97      0.26      0.40       556\n",
      "           2       0.93      0.70      0.80      1448\n",
      "           3       1.00      0.08      0.15       162\n",
      "           4       0.96      0.87      0.91      1608\n",
      "\n",
      "    accuracy                           0.94     21892\n",
      "   macro avg       0.96      0.58      0.65     21892\n",
      "weighted avg       0.94      0.94      0.93     21892\n",
      "\n"
     ]
    }
   ],
   "source": [
    "print(classification_report(y_test.argmax(axis=1), y_pred.argmax(axis=1)))"
   ]
  },
  {
   "cell_type": "code",
   "execution_count": 26,
   "metadata": {
    "_uuid": "017f2431a45766fb0d4b2ef17ce613c1142ca085",
    "jupyter": {
     "outputs_hidden": true
    }
   },
   "outputs": [
    {
     "name": "stdout",
     "output_type": "stream",
     "text": [
      "ranking-based average precision : 0.968\n",
      "Ranking loss : 0.020\n",
      "Coverage_error : 1.079\n"
     ]
    }
   ],
   "source": [
    "print(\"ranking-based average precision : {:.3f}\".format(label_ranking_average_precision_score(y_test, y_pred)))\n",
    "print(\"Ranking loss : {:.3f}\".format(label_ranking_loss(y_test, y_pred)))\n",
    "print(\"Coverage_error : {:.3f}\".format(coverage_error(y_test, y_pred)))"
   ]
  },
  {
   "cell_type": "code",
   "execution_count": 27,
   "metadata": {},
   "outputs": [
    {
     "name": "stdout",
     "output_type": "stream",
     "text": [
      "Normalized confusion matrix\n"
     ]
    },
    {
     "data": {
      "image/png": "[encoded data removed]",
      "text/plain": [
       "<Figure size 720x720 with 2 Axes>"
      ]
     },
     "metadata": {
      "needs_background": "light"
     },
     "output_type": "display_data"
    }
   ],
   "source": [
    "import itertools\n",
    "def plot_confusion_matrix(cm, classes,\n",
    "                          normalize=False,\n",
    "                          title='Confusion matrix',\n",
    "                          cmap=plt.cm.Blues):\n",
    "    \"\"\"\n",
    "    This function prints and plots the confusion matrix.\n",
    "    Normalization can be applied by setting `normalize=True`.\n",
    "    \"\"\"\n",
    "    if normalize:\n",
    "        cm = cm.astype('float') / cm.sum(axis=1)[:, np.newaxis]\n",
    "        print(\"Normalized confusion matrix\")\n",
    "    else:\n",
    "        print('Confusion matrix, without normalization')\n",
    "\n",
    "    plt.imshow(cm, interpolation='nearest', cmap=cmap)\n",
    "    plt.title(title)\n",
    "    plt.colorbar()\n",
    "    tick_marks = np.arange(len(classes))\n",
    "    plt.xticks(tick_marks, classes, rotation=45)\n",
    "    plt.yticks(tick_marks, classes)\n",
    "\n",
    "    fmt = '.2f' if normalize else 'd'\n",
    "    thresh = cm.max() / 2.\n",
    "    for i, j in itertools.product(range(cm.shape[0]), range(cm.shape[1])):\n",
    "        plt.text(j, i, format(cm[i, j], fmt),\n",
    "                 horizontalalignment=\"center\",\n",
    "                 color=\"white\" if cm[i, j] > thresh else \"black\", fontsize=30)\n",
    "\n",
    "    plt.tight_layout()\n",
    "    plt.ylabel('True label')\n",
    "    plt.xlabel('Predicted label')\n",
    "\n",
    "# Compute confusion matrix\n",
    "cnf_matrix = confusion_matrix(y_test.argmax(axis=1), y_pred.argmax(axis=1))\n",
    "np.set_printoptions(precision=2)\n",
    "\n",
    "# Plot non-normalized confusion matrix\n",
    "plt.figure(figsize=(10, 10))\n",
    "plot_confusion_matrix(cnf_matrix, classes=['N', 'S', 'V', 'F', 'Q'],normalize=True,\n",
    "                      title='Confusion matrix, with normalization')\n",
    "plt.show()"
   ]
  },
  {
   "cell_type": "code",
   "execution_count": 28,
   "metadata": {},
   "outputs": [],
   "source": [
    "FP = cnf_matrix.sum(axis=0) - np.diag(cnf_matrix)  \n",
    "FN = cnf_matrix.sum(axis=1) - np.diag(cnf_matrix)\n",
    "TP = np.diag(cnf_matrix)\n",
    "TN = cnf_matrix.sum() - (FP + FN + TP)\n",
    "\n",
    "# Sensitivity, hit rate, recall, or true positive rate\n",
    "RECALL = TP/(TP+FN)\n",
    "# Specificity or true negative rate\n",
    "SPECIFICITY = TN/(TN+FP) \n",
    "# Precision or positive predictive value\n",
    "PRECISION = TP/(TP+FP)\n",
    "# Negative predictive value\n",
    "NPV = TN/(TN+FN)\n",
    "# Fall out or false positive rate\n",
    "FPR = FP/(FP+TN)\n",
    "# False negative rate\n",
    "FNR = FN/(TP+FN)\n",
    "# False discovery rate\n",
    "FDR = FP/(TP+FP)\n",
    "\n",
    "# Overall accuracy\n",
    "ACC = (TP+TN)/(TP+FP+FN+TN)\n",
    "#F1-score\n",
    "F1 = 2*((RECALL*PRECISION)/(RECALL+PRECISION))"
   ]
  },
  {
   "cell_type": "code",
   "execution_count": 29,
   "metadata": {},
   "outputs": [
    {
     "name": "stdout",
     "output_type": "stream",
     "text": [
      "44/44 [==============================] - 2s 33ms/step - loss: 0.2186 - accuracy: 0.9417\n",
      "44/44 [==============================] - 1s 30ms/step - loss: 0.3004 - accuracy: 1.0000\n",
      "Accuracy: 21.86%\n",
      "Accuracy: 94.17%\n",
      "Precision: 96.13%\n",
      "Specificity: 93.82%\n",
      "Recall :58.04%\n",
      "F1-Score :64.67%\n",
      "Recall:58.04%\n"
     ]
    }
   ],
   "source": [
    "from statistics import mean, median\n",
    "from tkinter import N\n",
    "scores = model.evaluate((X_test), y_test, batch_size = 500)\n",
    "scores2 = model.evaluate(X_test, y_pred, batch_size = 500)\n",
    "print(\"Accuracy: %.2f%%\" % (scores[0]*100))\n",
    "print(\"Accuracy: %.2f%%\" % (scores[1]*100))\n",
    "PRE = mean(PRECISION)\n",
    "print(\"Precision: %.2f%%\"% (PRE*100))\n",
    "#print(\"Precision: \", PRECISION)\n",
    "SPE = mean(SPECIFICITY)\n",
    "print(\"Specificity: %.2f%%\"% (SPE*100))\n",
    "#print(\"Specificity\", SPECIFICITY)\n",
    "RE = mean(RECALL)\n",
    "print(\"Recall :%.2f%%\"% (RE*100))\n",
    "#print(\"Recall\", RECALL)\n",
    "#print(\"F1: \", F1)\n",
    "F1S = mean(F1)\n",
    "print(\"F1-Score :%.2f%%\"% (F1S*100))\n",
    "Z= mean(1-FNR)*100\n",
    "print(\"Recall:%.2f%%\"%Z)"
   ]
  }
 ],
 "metadata": {
  "kernelspec": {
   "display_name": "base",
   "language": "python",
   "name": "python3"
  },
  "language_info": {
   "codemirror_mode": {
    "name": "ipython",
    "version": 3
   },
   "file_extension": ".py",
   "mimetype": "text/x-python",
   "name": "python",
   "nbconvert_exporter": "python",
   "pygments_lexer": "ipython3",
   "version": "3.9.12 (main, Apr  4 2022, 05:22:27) [MSC v.1916 64 bit (AMD64)]"
  },
  "vscode": {
   "interpreter": {
    "hash": "e06ff7da33dc9620448857a90ad8b5f428f0d573d205a934d2841c8aee45ea32"
   }
  }
 },
 "nbformat": 4,
 "nbformat_minor": 4
}
