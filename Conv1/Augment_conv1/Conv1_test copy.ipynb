{
 "cells": [
  {
   "cell_type": "code",
   "execution_count": 1,
   "metadata": {
    "_cell_guid": "b1076dfc-b9ad-4769-8c92-a6c4dae69d19",
    "_uuid": "8f2839f25d086af736a60e9eeb907d3b93b6e0e5",
    "jupyter": {
     "outputs_hidden": true
    }
   },
   "outputs": [
    {
     "name": "stdout",
     "output_type": "stream",
     "text": [
      "['mitbih_test.csv', 'mitbih_test.csv.zip', 'mitbih_train.csv', 'mitbih_train.csv.zip', 'ptbdb_abnormal.csv', 'ptbdb_abnormal.csv.zip', 'ptbdb_normal.csv', 'ptbdb_normal.csv.zip']\n"
     ]
    }
   ],
   "source": [
    "# This Python 3 environment comes with many helpful analytics libraries installed0\n",
    "# For example, here's several helpful packages to load in \n",
    "import math\n",
    "import random\n",
    "import pickle\n",
    "import itertools\n",
    "\n",
    "import numpy as np # linear algebra\n",
    "import pandas as pd # data processing, CSV file I/O (e.g. pd.read_csv)\n",
    "\n",
    "from sklearn.metrics import accuracy_score, classification_report, confusion_matrix, label_ranking_average_precision_score, label_ranking_loss, coverage_error \n",
    "\n",
    "from sklearn.utils import shuffle\n",
    "\n",
    "from scipy.signal import resample\n",
    "\n",
    "import matplotlib.pyplot as plt\n",
    "\n",
    "np.random.seed(42)\n",
    "\n",
    "import pickle\n",
    "#from sklearn.preprocessing import OneHotEncoder\n",
    "from keras.utils.np_utils import to_categorical\n",
    "from keras.models import Model\n",
    "from keras.layers import Input, Dense, Conv1D, MaxPooling1D, Softmax, Add, Flatten, Activation , Dropout,BatchNormalization\n",
    "from keras import backend as K\n",
    "from keras.optimizers import Adam, Adamax,SGD\n",
    "from keras.callbacks import LearningRateScheduler, ModelCheckpoint\n",
    "\n",
    "# Input data files are available in the \"../input/\" directory.\n",
    "# For example, running this (by clicking run or pressing Shift+Enter) will list the files in the input directory\n",
    "\n",
    "import os\n",
    "print(os.listdir(\"D:/UFS/F2 - Copia/database\"))\n",
    "\n",
    "# Any results you write to the current directory are saved as output."
   ]
  },
  {
   "cell_type": "code",
   "execution_count": 2,
   "metadata": {
    "_cell_guid": "79c7e3d0-c299-4dcb-8224-4455121ee9b0",
    "_uuid": "d629ff2d2480ee46fbb7e2d37f6b5fab8052498a",
    "jupyter": {
     "outputs_hidden": true
    }
   },
   "outputs": [],
   "source": [
    "train_df = pd.read_csv(\"D:/UFS/F2 - Copia/database/mitbih_train.csv\", header=None)\n",
    "test_df = pd.read_csv(\"D:/UFS/F2 - Copia/database/mitbih_test.csv\", header=None)\n",
    "#df = pd.concat([df, df2], axis=0)"
   ]
  },
  {
   "cell_type": "code",
   "execution_count": 3,
   "metadata": {
    "_uuid": "494fc8a26ba40beb73fc1a4f7b219b213fb7705e",
    "jupyter": {
     "outputs_hidden": true
    }
   },
   "outputs": [
    {
     "data": {
      "text/html": [
       "<div>\n",
       "<style scoped>\n",
       "    .dataframe tbody tr th:only-of-type {\n",
       "        vertical-align: middle;\n",
       "    }\n",
       "\n",
       "    .dataframe tbody tr th {\n",
       "        vertical-align: top;\n",
       "    }\n",
       "\n",
       "    .dataframe thead th {\n",
       "        text-align: right;\n",
       "    }\n",
       "</style>\n",
       "<table border=\"1\" class=\"dataframe\">\n",
       "  <thead>\n",
       "    <tr style=\"text-align: right;\">\n",
       "      <th></th>\n",
       "      <th>0</th>\n",
       "      <th>1</th>\n",
       "      <th>2</th>\n",
       "      <th>3</th>\n",
       "      <th>4</th>\n",
       "      <th>5</th>\n",
       "      <th>6</th>\n",
       "      <th>7</th>\n",
       "      <th>8</th>\n",
       "      <th>9</th>\n",
       "      <th>...</th>\n",
       "      <th>178</th>\n",
       "      <th>179</th>\n",
       "      <th>180</th>\n",
       "      <th>181</th>\n",
       "      <th>182</th>\n",
       "      <th>183</th>\n",
       "      <th>184</th>\n",
       "      <th>185</th>\n",
       "      <th>186</th>\n",
       "      <th>187</th>\n",
       "    </tr>\n",
       "  </thead>\n",
       "  <tbody>\n",
       "    <tr>\n",
       "      <th>0</th>\n",
       "      <td>0.977941</td>\n",
       "      <td>0.926471</td>\n",
       "      <td>0.681373</td>\n",
       "      <td>0.245098</td>\n",
       "      <td>0.154412</td>\n",
       "      <td>0.191176</td>\n",
       "      <td>0.151961</td>\n",
       "      <td>0.085784</td>\n",
       "      <td>0.058824</td>\n",
       "      <td>0.049020</td>\n",
       "      <td>...</td>\n",
       "      <td>0.0</td>\n",
       "      <td>0.0</td>\n",
       "      <td>0.0</td>\n",
       "      <td>0.0</td>\n",
       "      <td>0.0</td>\n",
       "      <td>0.0</td>\n",
       "      <td>0.0</td>\n",
       "      <td>0.0</td>\n",
       "      <td>0.0</td>\n",
       "      <td>0.0</td>\n",
       "    </tr>\n",
       "    <tr>\n",
       "      <th>1</th>\n",
       "      <td>0.960114</td>\n",
       "      <td>0.863248</td>\n",
       "      <td>0.461538</td>\n",
       "      <td>0.196581</td>\n",
       "      <td>0.094017</td>\n",
       "      <td>0.125356</td>\n",
       "      <td>0.099715</td>\n",
       "      <td>0.088319</td>\n",
       "      <td>0.074074</td>\n",
       "      <td>0.082621</td>\n",
       "      <td>...</td>\n",
       "      <td>0.0</td>\n",
       "      <td>0.0</td>\n",
       "      <td>0.0</td>\n",
       "      <td>0.0</td>\n",
       "      <td>0.0</td>\n",
       "      <td>0.0</td>\n",
       "      <td>0.0</td>\n",
       "      <td>0.0</td>\n",
       "      <td>0.0</td>\n",
       "      <td>0.0</td>\n",
       "    </tr>\n",
       "    <tr>\n",
       "      <th>2</th>\n",
       "      <td>1.000000</td>\n",
       "      <td>0.659459</td>\n",
       "      <td>0.186486</td>\n",
       "      <td>0.070270</td>\n",
       "      <td>0.070270</td>\n",
       "      <td>0.059459</td>\n",
       "      <td>0.056757</td>\n",
       "      <td>0.043243</td>\n",
       "      <td>0.054054</td>\n",
       "      <td>0.045946</td>\n",
       "      <td>...</td>\n",
       "      <td>0.0</td>\n",
       "      <td>0.0</td>\n",
       "      <td>0.0</td>\n",
       "      <td>0.0</td>\n",
       "      <td>0.0</td>\n",
       "      <td>0.0</td>\n",
       "      <td>0.0</td>\n",
       "      <td>0.0</td>\n",
       "      <td>0.0</td>\n",
       "      <td>0.0</td>\n",
       "    </tr>\n",
       "    <tr>\n",
       "      <th>3</th>\n",
       "      <td>0.925414</td>\n",
       "      <td>0.665746</td>\n",
       "      <td>0.541436</td>\n",
       "      <td>0.276243</td>\n",
       "      <td>0.196133</td>\n",
       "      <td>0.077348</td>\n",
       "      <td>0.071823</td>\n",
       "      <td>0.060773</td>\n",
       "      <td>0.066298</td>\n",
       "      <td>0.058011</td>\n",
       "      <td>...</td>\n",
       "      <td>0.0</td>\n",
       "      <td>0.0</td>\n",
       "      <td>0.0</td>\n",
       "      <td>0.0</td>\n",
       "      <td>0.0</td>\n",
       "      <td>0.0</td>\n",
       "      <td>0.0</td>\n",
       "      <td>0.0</td>\n",
       "      <td>0.0</td>\n",
       "      <td>0.0</td>\n",
       "    </tr>\n",
       "    <tr>\n",
       "      <th>4</th>\n",
       "      <td>0.967136</td>\n",
       "      <td>1.000000</td>\n",
       "      <td>0.830986</td>\n",
       "      <td>0.586854</td>\n",
       "      <td>0.356808</td>\n",
       "      <td>0.248826</td>\n",
       "      <td>0.145540</td>\n",
       "      <td>0.089202</td>\n",
       "      <td>0.117371</td>\n",
       "      <td>0.150235</td>\n",
       "      <td>...</td>\n",
       "      <td>0.0</td>\n",
       "      <td>0.0</td>\n",
       "      <td>0.0</td>\n",
       "      <td>0.0</td>\n",
       "      <td>0.0</td>\n",
       "      <td>0.0</td>\n",
       "      <td>0.0</td>\n",
       "      <td>0.0</td>\n",
       "      <td>0.0</td>\n",
       "      <td>0.0</td>\n",
       "    </tr>\n",
       "  </tbody>\n",
       "</table>\n",
       "<p>5 rows × 188 columns</p>\n",
       "</div>"
      ],
      "text/plain": [
       "        0         1         2         3         4         5         6    \\\n",
       "0  0.977941  0.926471  0.681373  0.245098  0.154412  0.191176  0.151961   \n",
       "1  0.960114  0.863248  0.461538  0.196581  0.094017  0.125356  0.099715   \n",
       "2  1.000000  0.659459  0.186486  0.070270  0.070270  0.059459  0.056757   \n",
       "3  0.925414  0.665746  0.541436  0.276243  0.196133  0.077348  0.071823   \n",
       "4  0.967136  1.000000  0.830986  0.586854  0.356808  0.248826  0.145540   \n",
       "\n",
       "        7         8         9    ...  178  179  180  181  182  183  184  185  \\\n",
       "0  0.085784  0.058824  0.049020  ...  0.0  0.0  0.0  0.0  0.0  0.0  0.0  0.0   \n",
       "1  0.088319  0.074074  0.082621  ...  0.0  0.0  0.0  0.0  0.0  0.0  0.0  0.0   \n",
       "2  0.043243  0.054054  0.045946  ...  0.0  0.0  0.0  0.0  0.0  0.0  0.0  0.0   \n",
       "3  0.060773  0.066298  0.058011  ...  0.0  0.0  0.0  0.0  0.0  0.0  0.0  0.0   \n",
       "4  0.089202  0.117371  0.150235  ...  0.0  0.0  0.0  0.0  0.0  0.0  0.0  0.0   \n",
       "\n",
       "   186  187  \n",
       "0  0.0  0.0  \n",
       "1  0.0  0.0  \n",
       "2  0.0  0.0  \n",
       "3  0.0  0.0  \n",
       "4  0.0  0.0  \n",
       "\n",
       "[5 rows x 188 columns]"
      ]
     },
     "execution_count": 3,
     "metadata": {},
     "output_type": "execute_result"
    }
   ],
   "source": [
    "train_df.head()"
   ]
  },
  {
   "cell_type": "code",
   "execution_count": 4,
   "metadata": {
    "_uuid": "5281cb19f54f3bd379f875c24ae52b3b15fcafaf",
    "jupyter": {
     "outputs_hidden": true
    }
   },
   "outputs": [
    {
     "name": "stdout",
     "output_type": "stream",
     "text": [
      "<class 'pandas.core.frame.DataFrame'>\n",
      "RangeIndex: 87554 entries, 0 to 87553\n",
      "Columns: 188 entries, 0 to 187\n",
      "dtypes: float64(188)\n",
      "memory usage: 125.6 MB\n",
      "17510\n"
     ]
    }
   ],
   "source": [
    "train_df.info()\n",
    "dataset_row = train_df.shape[0]\n",
    "dataset_size= int(dataset_row/5)\n",
    "print(dataset_size)"
   ]
  },
  {
   "cell_type": "code",
   "execution_count": 5,
   "metadata": {},
   "outputs": [
    {
     "name": "stdout",
     "output_type": "stream",
     "text": [
      "0    72471\n",
      "4     6431\n",
      "2     5788\n",
      "1     2223\n",
      "3      641\n",
      "Name: 187, dtype: int64\n"
     ]
    }
   ],
   "source": [
    "train_df[187]=train_df[187].astype(int)\n",
    "equilibre= train_df[187].value_counts()\n",
    "print(equilibre)\n",
    "\n"
   ]
  },
  {
   "cell_type": "code",
   "execution_count": 6,
   "metadata": {
    "_uuid": "0fac0fb658ea34b48055838b4ad85078e883360d",
    "jupyter": {
     "outputs_hidden": true
    }
   },
   "outputs": [],
   "source": [
    "train_df[187].value_counts()\n",
    "equilibre = train_df[187].value_counts()"
   ]
  },
  {
   "cell_type": "code",
   "execution_count": 7,
   "metadata": {},
   "outputs": [
    {
     "data": {
      "image/png": "[encoded data removed]",
      "text/plain": [
       "<Figure size 1440x720 with 1 Axes>"
      ]
     },
     "metadata": {},
     "output_type": "display_data"
    }
   ],
   "source": [
    "plt.figure(figsize=(20,10))\n",
    "my_circle=plt.Circle((0,0), 0.7, color='white')\n",
    "plt.pie(equilibre, labels=['n','q','v','s','f'], colors=['red','green','blue','skyblue','orange'],autopct='%1.1f%%')\n",
    "p=plt.gcf()\n",
    "p.gca().add_artist(my_circle)\n",
    "plt.show()"
   ]
  },
  {
   "cell_type": "code",
   "execution_count": 8,
   "metadata": {},
   "outputs": [],
   "source": [
    "from sklearn.utils import resample\n",
    "k=72471\n",
    "#dataset_size= 2000\n",
    "df_1=train_df[train_df[187]==1]\n",
    "df_2=train_df[train_df[187]==2]\n",
    "df_3=train_df[train_df[187]==3]\n",
    "df_4=train_df[train_df[187]==4]\n",
    "df_0=(train_df[train_df[187]==0]).sample(n=dataset_size,random_state=42)\n",
    "\n",
    "df_1_upsample=resample(df_1,replace=True,n_samples=dataset_size,random_state=123)\n",
    "df_2_upsample=resample(df_2,replace=True,n_samples=dataset_size,random_state=124)\n",
    "df_3_upsample=resample(df_3,replace=True,n_samples=dataset_size,random_state=125)\n",
    "df_4_upsample=resample(df_4,replace=True,n_samples=dataset_size,random_state=126)\n",
    "\n",
    "train_df=pd.concat([df_0,df_1_upsample,df_2_upsample,df_3_upsample,df_4_upsample])"
   ]
  },
  {
   "cell_type": "code",
   "execution_count": 9,
   "metadata": {},
   "outputs": [
    {
     "name": "stdout",
     "output_type": "stream",
     "text": [
      "0    17510\n",
      "1    17510\n",
      "2    17510\n",
      "3    17510\n",
      "4    17510\n",
      "Name: 187, dtype: int64\n"
     ]
    }
   ],
   "source": [
    "equilibre=train_df[187].value_counts()\n",
    "print(equilibre)"
   ]
  },
  {
   "cell_type": "code",
   "execution_count": 10,
   "metadata": {},
   "outputs": [
    {
     "data": {
      "image/png": "[encoded data removed]",
      "text/plain": [
       "<Figure size 1440x720 with 1 Axes>"
      ]
     },
     "metadata": {},
     "output_type": "display_data"
    }
   ],
   "source": [
    "plt.figure(figsize=(20,10))\n",
    "my_circle=plt.Circle( (0,0), 0.7, color='white')\n",
    "plt.pie(equilibre, labels=['n','q','v','s','f'], colors=['red','green','blue','skyblue','orange'],autopct='%1.1f%%')\n",
    "p=plt.gcf()\n",
    "p.gca().add_artist(my_circle)\n",
    "plt.show()"
   ]
  },
  {
   "cell_type": "code",
   "execution_count": 11,
   "metadata": {
    "_uuid": "147b7604bd8a389d7f6aa111f38ae308af7c4eb7",
    "jupyter": {
     "outputs_hidden": true
    }
   },
   "outputs": [],
   "source": [
    "M = train_df.values\n",
    "X = M[:, :-1]\n",
    "y = M[:, -1].astype(int)"
   ]
  },
  {
   "cell_type": "code",
   "execution_count": 12,
   "metadata": {
    "_uuid": "504d95532114efa4cc581d80bf02159c3ce519c6",
    "jupyter": {
     "outputs_hidden": true
    }
   },
   "outputs": [],
   "source": [
    "#del train_df\n",
    "#del test_df\n",
    "#del M"
   ]
  },
  {
   "cell_type": "code",
   "execution_count": 13,
   "metadata": {},
   "outputs": [],
   "source": [
    "def add_gaussian_noise(signal):\n",
    "    noise=np.random.normal(0,0.5,186)\n",
    "    return (signal+noise)\n"
   ]
  },
  {
   "cell_type": "code",
   "execution_count": 14,
   "metadata": {},
   "outputs": [],
   "source": [
    "#tempo=c.iloc[0,:186]\n",
    "#bruiter=add_gaussian_noise(tempo)\n",
    "\n",
    "#plt.subplot(2,1,1)\n",
    "#plt.plot(c.iloc[0,:186])\n",
    "\n",
    "#plt.subplot(2,1,2)\n",
    "#plt.plot(bruiter)\n",
    "\n",
    "#plt.show()\n",
    "\n"
   ]
  },
  {
   "cell_type": "code",
   "execution_count": 15,
   "metadata": {},
   "outputs": [],
   "source": [
    "target_train=train_df[187]\n",
    "target_test=test_df[187]\n",
    "y_train=to_categorical(target_train)\n",
    "y_test=to_categorical(target_test)"
   ]
  },
  {
   "cell_type": "code",
   "execution_count": 16,
   "metadata": {},
   "outputs": [],
   "source": [
    "X_train=train_df.iloc[:,:186].values\n",
    "X_test=test_df.iloc[:,:186].values\n",
    "for i in range(len(X_train)):\n",
    "    X_train[i,:186]= add_gaussian_noise(X_train[i,:186])\n",
    "X_train = X_train.reshape(len(X_train), X_train.shape[1],1)\n",
    "X_test = X_test.reshape(len(X_test), X_test.shape[1],1)"
   ]
  },
  {
   "cell_type": "code",
   "execution_count": 17,
   "metadata": {},
   "outputs": [],
   "source": [
    "target_train=train_df[187]\n",
    "target_test=test_df[187]\n",
    "y_train=to_categorical(target_train)\n",
    "y_test=to_categorical(target_test)"
   ]
  },
  {
   "cell_type": "markdown",
   "metadata": {
    "_uuid": "c269ab78773e4b5a960a5e55d2b48c53d5f9c446"
   },
   "source": [
    "# Data augmentation\n",
    "\n",
    "To train properly the model, we sould have to augment all data to the same level. Nevertheless, for a first try, we will just augment the smallest class to the same level as class 1. With that we will be able to have a test set of around 5x800 observations."
   ]
  },
  {
   "cell_type": "markdown",
   "metadata": {
    "_uuid": "c42605d020fd51885437f4af3cf10cebbeafc9bb"
   },
   "source": [
    "# Split"
   ]
  },
  {
   "cell_type": "code",
   "execution_count": 18,
   "metadata": {
    "_uuid": "16c106c2702045790367fc49d7223560fc613d75",
    "jupyter": {
     "outputs_hidden": true
    }
   },
   "outputs": [
    {
     "name": "stdout",
     "output_type": "stream",
     "text": [
      "X_train (87550, 186, 1)\n",
      "y_train (87550, 5)\n",
      "X_test (21892, 186, 1)\n",
      "y_test (21892, 5)\n"
     ]
    }
   ],
   "source": [
    "print(\"X_train\", X_train.shape)\n",
    "print(\"y_train\", y_train.shape)\n",
    "print(\"X_test\", X_test.shape)\n",
    "print(\"y_test\", y_test.shape)"
   ]
  },
  {
   "cell_type": "markdown",
   "metadata": {
    "_uuid": "c4de23b85abe34a726eab268171da0e827bafa35"
   },
   "source": [
    "# Model\n",
    "\n",
    "Now let's re-create the model from the ArXiv Document"
   ]
  },
  {
   "cell_type": "code",
   "execution_count": 19,
   "metadata": {
    "_uuid": "fb0dc9775ddfa761c0ad948d59020fcbd2681c57",
    "jupyter": {
     "outputs_hidden": true
    }
   },
   "outputs": [],
   "source": [
    "n_obs, feature, depth = X_train.shape\n",
    "batch_size = 1500\n",
    "#batch_size = 500"
   ]
  },
  {
   "cell_type": "code",
   "execution_count": null,
   "metadata": {},
   "outputs": [],
   "source": []
  },
  {
   "cell_type": "code",
   "execution_count": 20,
   "metadata": {
    "_uuid": "e70fab0b07290e042ba9cd7c6cba37462a457b03",
    "jupyter": {
     "outputs_hidden": true
    }
   },
   "outputs": [
    {
     "name": "stdout",
     "output_type": "stream",
     "text": [
      "Model: \"model\"\n",
      "__________________________________________________________________________________________________\n",
      " Layer (type)                   Output Shape         Param #     Connected to                     \n",
      "==================================================================================================\n",
      " input_1 (InputLayer)           [(None, 186, 1)]     0           []                               \n",
      "                                                                                                  \n",
      " conv1d (Conv1D)                (None, 182, 32)      192         ['input_1[0][0]']                \n",
      "                                                                                                  \n",
      " conv1d_1 (Conv1D)              (None, 182, 32)      5152        ['conv1d[0][0]']                 \n",
      "                                                                                                  \n",
      " batch_normalization (BatchNorm  (None, 182, 32)     128         ['conv1d_1[0][0]']               \n",
      " alization)                                                                                       \n",
      "                                                                                                  \n",
      " activation (Activation)        (None, 182, 32)      0           ['batch_normalization[0][0]']    \n",
      "                                                                                                  \n",
      " conv1d_2 (Conv1D)              (None, 182, 32)      5152        ['activation[0][0]']             \n",
      "                                                                                                  \n",
      " batch_normalization_1 (BatchNo  (None, 182, 32)     128         ['conv1d_2[0][0]']               \n",
      " rmalization)                                                                                     \n",
      "                                                                                                  \n",
      " add (Add)                      (None, 182, 32)      0           ['batch_normalization_1[0][0]',  \n",
      "                                                                  'conv1d[0][0]']                 \n",
      "                                                                                                  \n",
      " activation_1 (Activation)      (None, 182, 32)      0           ['add[0][0]']                    \n",
      "                                                                                                  \n",
      " max_pooling1d (MaxPooling1D)   (None, 89, 32)       0           ['activation_1[0][0]']           \n",
      "                                                                                                  \n",
      " conv1d_3 (Conv1D)              (None, 89, 32)       5152        ['max_pooling1d[0][0]']          \n",
      "                                                                                                  \n",
      " batch_normalization_2 (BatchNo  (None, 89, 32)      128         ['conv1d_3[0][0]']               \n",
      " rmalization)                                                                                     \n",
      "                                                                                                  \n",
      " activation_2 (Activation)      (None, 89, 32)       0           ['batch_normalization_2[0][0]']  \n",
      "                                                                                                  \n",
      " conv1d_4 (Conv1D)              (None, 89, 32)       5152        ['activation_2[0][0]']           \n",
      "                                                                                                  \n",
      " batch_normalization_3 (BatchNo  (None, 89, 32)      128         ['conv1d_4[0][0]']               \n",
      " rmalization)                                                                                     \n",
      "                                                                                                  \n",
      " add_1 (Add)                    (None, 89, 32)       0           ['batch_normalization_3[0][0]',  \n",
      "                                                                  'max_pooling1d[0][0]']          \n",
      "                                                                                                  \n",
      " activation_3 (Activation)      (None, 89, 32)       0           ['add_1[0][0]']                  \n",
      "                                                                                                  \n",
      " max_pooling1d_1 (MaxPooling1D)  (None, 43, 32)      0           ['activation_3[0][0]']           \n",
      "                                                                                                  \n",
      " conv1d_5 (Conv1D)              (None, 43, 32)       5152        ['max_pooling1d_1[0][0]']        \n",
      "                                                                                                  \n",
      " batch_normalization_4 (BatchNo  (None, 43, 32)      128         ['conv1d_5[0][0]']               \n",
      " rmalization)                                                                                     \n",
      "                                                                                                  \n",
      " activation_4 (Activation)      (None, 43, 32)       0           ['batch_normalization_4[0][0]']  \n",
      "                                                                                                  \n",
      " conv1d_6 (Conv1D)              (None, 43, 32)       5152        ['activation_4[0][0]']           \n",
      "                                                                                                  \n",
      " batch_normalization_5 (BatchNo  (None, 43, 32)      128         ['conv1d_6[0][0]']               \n",
      " rmalization)                                                                                     \n",
      "                                                                                                  \n",
      " add_2 (Add)                    (None, 43, 32)       0           ['batch_normalization_5[0][0]',  \n",
      "                                                                  'max_pooling1d_1[0][0]']        \n",
      "                                                                                                  \n",
      " activation_5 (Activation)      (None, 43, 32)       0           ['add_2[0][0]']                  \n",
      "                                                                                                  \n",
      " max_pooling1d_2 (MaxPooling1D)  (None, 20, 32)      0           ['activation_5[0][0]']           \n",
      "                                                                                                  \n",
      " conv1d_7 (Conv1D)              (None, 20, 32)       5152        ['max_pooling1d_2[0][0]']        \n",
      "                                                                                                  \n",
      " batch_normalization_6 (BatchNo  (None, 20, 32)      128         ['conv1d_7[0][0]']               \n",
      " rmalization)                                                                                     \n",
      "                                                                                                  \n",
      " activation_6 (Activation)      (None, 20, 32)       0           ['batch_normalization_6[0][0]']  \n",
      "                                                                                                  \n",
      " conv1d_8 (Conv1D)              (None, 20, 32)       5152        ['activation_6[0][0]']           \n",
      "                                                                                                  \n",
      " batch_normalization_7 (BatchNo  (None, 20, 32)      128         ['conv1d_8[0][0]']               \n",
      " rmalization)                                                                                     \n",
      "                                                                                                  \n",
      " add_3 (Add)                    (None, 20, 32)       0           ['batch_normalization_7[0][0]',  \n",
      "                                                                  'max_pooling1d_2[0][0]']        \n",
      "                                                                                                  \n",
      " activation_7 (Activation)      (None, 20, 32)       0           ['add_3[0][0]']                  \n",
      "                                                                                                  \n",
      " max_pooling1d_3 (MaxPooling1D)  (None, 8, 32)       0           ['activation_7[0][0]']           \n",
      "                                                                                                  \n",
      " conv1d_9 (Conv1D)              (None, 8, 32)        5152        ['max_pooling1d_3[0][0]']        \n",
      "                                                                                                  \n",
      " batch_normalization_8 (BatchNo  (None, 8, 32)       128         ['conv1d_9[0][0]']               \n",
      " rmalization)                                                                                     \n",
      "                                                                                                  \n",
      " activation_8 (Activation)      (None, 8, 32)        0           ['batch_normalization_8[0][0]']  \n",
      "                                                                                                  \n",
      " conv1d_10 (Conv1D)             (None, 8, 32)        5152        ['activation_8[0][0]']           \n",
      "                                                                                                  \n",
      " batch_normalization_9 (BatchNo  (None, 8, 32)       128         ['conv1d_10[0][0]']              \n",
      " rmalization)                                                                                     \n",
      "                                                                                                  \n",
      " add_4 (Add)                    (None, 8, 32)        0           ['batch_normalization_9[0][0]',  \n",
      "                                                                  'max_pooling1d_3[0][0]']        \n",
      "                                                                                                  \n",
      " activation_9 (Activation)      (None, 8, 32)        0           ['add_4[0][0]']                  \n",
      "                                                                                                  \n",
      " max_pooling1d_4 (MaxPooling1D)  (None, 2, 32)       0           ['activation_9[0][0]']           \n",
      "                                                                                                  \n",
      " dropout (Dropout)              (None, 2, 32)        0           ['max_pooling1d_4[0][0]']        \n",
      "                                                                                                  \n",
      " flatten (Flatten)              (None, 64)           0           ['dropout[0][0]']                \n",
      "                                                                                                  \n",
      " dense (Dense)                  (None, 32)           2080        ['flatten[0][0]']                \n",
      "                                                                                                  \n",
      " activation_10 (Activation)     (None, 32)           0           ['dense[0][0]']                  \n",
      "                                                                                                  \n",
      " dense_1 (Dense)                (None, 32)           1056        ['activation_10[0][0]']          \n",
      "                                                                                                  \n",
      " dense_2 (Dense)                (None, 5)            165         ['dense_1[0][0]']                \n",
      "                                                                                                  \n",
      " softmax (Softmax)              (None, 5)            0           ['dense_2[0][0]']                \n",
      "                                                                                                  \n",
      "==================================================================================================\n",
      "Total params: 56,293\n",
      "Trainable params: 55,653\n",
      "Non-trainable params: 640\n",
      "__________________________________________________________________________________________________\n"
     ]
    }
   ],
   "source": [
    "K.clear_session()\n",
    "\n",
    "inp = Input(shape=(feature, depth))\n",
    "C = Conv1D(filters=32, kernel_size=5, strides=1)(inp)\n",
    "C11 = Conv1D(filters=32, kernel_size=5, strides=1, padding='same')(C)\n",
    "B11 = BatchNormalization()(C11)\n",
    "A11 = Activation(\"relu\")(B11)\n",
    "C12 = Conv1D(filters=32, kernel_size=5, strides=1, padding='same')(A11)\n",
    "B12 = BatchNormalization()(C12)\n",
    "S11 = Add()([B12, C])\n",
    "A12 = Activation(\"relu\")(S11)\n",
    "M11 = MaxPooling1D(pool_size=5, strides=2)(A12)\n",
    "\n",
    "\n",
    "C21 = Conv1D(filters=32, kernel_size=5, strides=1, padding='same')(M11)\n",
    "B12 = BatchNormalization()(C21)\n",
    "A21 = Activation(\"relu\")(B12)\n",
    "C22 = Conv1D(filters=32, kernel_size=5, strides=1, padding='same')(A21)\n",
    "B11 = BatchNormalization()(C22)\n",
    "S21 = Add()([B11, M11])\n",
    "A22 = Activation(\"relu\")(S21)\n",
    "M21 = MaxPooling1D(pool_size=5, strides=2)(A22)\n",
    "\n",
    "\n",
    "C31 = Conv1D(filters=32, kernel_size=5, strides=1, padding='same')(M21)\n",
    "B13 = BatchNormalization()(C31)\n",
    "A31 = Activation(\"relu\")(B13)\n",
    "C32 = Conv1D(filters=32, kernel_size=5, strides=1, padding='same')(A31)\n",
    "B14 = BatchNormalization()(C32)\n",
    "S31 = Add()([B14, M21])\n",
    "A32 = Activation(\"relu\")(S31)\n",
    "M31 = MaxPooling1D(pool_size=5, strides=2)(A32)\n",
    "\n",
    "\n",
    "C41 = Conv1D(filters=32, kernel_size=5, strides=1, padding='same')(M31)\n",
    "B15 = BatchNormalization()(C41)\n",
    "A41 = Activation(\"relu\")(B15)\n",
    "C42 = Conv1D(filters=32, kernel_size=5, strides=1, padding='same')(A41)\n",
    "B16 = BatchNormalization()(C42)\n",
    "S41 = Add()([B16, M31])\n",
    "A42 = Activation(\"relu\")(S41)\n",
    "M41 = MaxPooling1D(pool_size=5, strides=2)(A42)\n",
    "\n",
    "\n",
    "C51 = Conv1D(filters=32, kernel_size=5, strides=1, padding='same')(M41)\n",
    "B17 = BatchNormalization()(C51)\n",
    "A51 = Activation(\"relu\")(B17)\n",
    "C52 = Conv1D(filters=32, kernel_size=5, strides=1, padding='same')(A51)\n",
    "B18 = BatchNormalization()(C52)\n",
    "S51 = Add()([B18, M41])\n",
    "A52 = Activation(\"relu\")(S51)\n",
    "M51 = MaxPooling1D(pool_size=5, strides=2)(A52)\n",
    "\n",
    "M52 = (Dropout(0.25))(M51)\n",
    "\n",
    "F1 = Flatten()(M52)\n",
    "\n",
    "D1 = Dense(32)(F1)\n",
    "A6 = Activation(\"relu\")(D1)\n",
    "D2 = Dense(32)(A6)\n",
    "D3 = Dense(5)(D2)\n",
    "A7 = Softmax()(D3)\n",
    "\n",
    "model = Model(inputs=inp, outputs=A7)\n",
    "\n",
    "model.summary()"
   ]
  },
  {
   "cell_type": "code",
   "execution_count": 21,
   "metadata": {
    "_uuid": "fdc0d8aa8475330af8d8e652d0b9ce214da66956",
    "jupyter": {
     "outputs_hidden": true
    }
   },
   "outputs": [],
   "source": [
    "def exp_decay(epoch):\n",
    "    initial_lrate = 0.001\n",
    "    k = 0.75\n",
    "    t = n_obs//(10000 * batch_size)  # every epoch we do n_obs/batch_size iteration\n",
    "    lrate = initial_lrate * math.exp(-k*t)\n",
    "    return lrate\n",
    "\n",
    "lrate = LearningRateScheduler(exp_decay)"
   ]
  },
  {
   "cell_type": "code",
   "execution_count": 22,
   "metadata": {
    "_uuid": "abcd2f0e8488c8f3b33cd6ed9ca7fd60fa44404b",
    "jupyter": {
     "outputs_hidden": true
    }
   },
   "outputs": [],
   "source": [
    "#adam = SGD(learning_rate = 0.01)\n",
    "adam = Adamax(learning_rate = 0.001, beta_1 = 0.9, beta_2 = 0.999)"
   ]
  },
  {
   "cell_type": "code",
   "execution_count": 23,
   "metadata": {
    "_uuid": "812e637ae56f6a4be9c8e98d3b501cfb11ef78cb",
    "jupyter": {
     "outputs_hidden": true
    }
   },
   "outputs": [],
   "source": [
    "#model.compile(loss='binary_crossentropy', optimizer=adam, metrics=['accuracy'])"
   ]
  },
  {
   "cell_type": "code",
   "execution_count": 23,
   "metadata": {},
   "outputs": [
    {
     "name": "stdout",
     "output_type": "stream",
     "text": [
      "Epoch 1/100\n",
      "36/36 - 111s - loss: 3.4582 - accuracy: 0.2630 - val_loss: 2.3422 - val_accuracy: 0.0469 - lr: 0.0010 - 111s/epoch - 3s/step\n",
      "Epoch 2/100\n",
      "36/36 - 107s - loss: 1.8932 - accuracy: 0.3214 - val_loss: 2.5661 - val_accuracy: 0.0257 - lr: 0.0010 - 107s/epoch - 3s/step\n",
      "Epoch 3/100\n",
      "36/36 - 111s - loss: 1.6519 - accuracy: 0.3525 - val_loss: 2.6995 - val_accuracy: 0.0259 - lr: 0.0010 - 111s/epoch - 3s/step\n",
      "Epoch 4/100\n",
      "36/36 - 113s - loss: 1.5241 - accuracy: 0.3829 - val_loss: 2.6218 - val_accuracy: 0.0277 - lr: 0.0010 - 113s/epoch - 3s/step\n",
      "Epoch 5/100\n",
      "36/36 - 112s - loss: 1.4461 - accuracy: 0.4087 - val_loss: 2.5361 - val_accuracy: 0.0305 - lr: 0.0010 - 112s/epoch - 3s/step\n",
      "Epoch 6/100\n",
      "36/36 - 114s - loss: 1.3937 - accuracy: 0.4283 - val_loss: 2.3928 - val_accuracy: 0.0349 - lr: 0.0010 - 114s/epoch - 3s/step\n",
      "Epoch 7/100\n",
      "36/36 - 117s - loss: 1.3405 - accuracy: 0.4510 - val_loss: 2.2198 - val_accuracy: 0.0369 - lr: 0.0010 - 117s/epoch - 3s/step\n",
      "Epoch 8/100\n",
      "36/36 - 116s - loss: 1.3018 - accuracy: 0.4697 - val_loss: 1.9900 - val_accuracy: 0.0455 - lr: 0.0010 - 116s/epoch - 3s/step\n",
      "Epoch 9/100\n",
      "36/36 - 107s - loss: 1.2667 - accuracy: 0.4850 - val_loss: 1.8022 - val_accuracy: 0.0523 - lr: 0.0010 - 107s/epoch - 3s/step\n",
      "Epoch 10/100\n",
      "36/36 - 105s - loss: 1.2300 - accuracy: 0.5025 - val_loss: 1.6911 - val_accuracy: 0.0646 - lr: 0.0010 - 105s/epoch - 3s/step\n",
      "Epoch 11/100\n",
      "36/36 - 106s - loss: 1.2038 - accuracy: 0.5184 - val_loss: 1.5126 - val_accuracy: 0.0944 - lr: 0.0010 - 106s/epoch - 3s/step\n",
      "Epoch 12/100\n",
      "36/36 - 107s - loss: 1.1721 - accuracy: 0.5315 - val_loss: 1.4387 - val_accuracy: 0.1705 - lr: 0.0010 - 107s/epoch - 3s/step\n",
      "Epoch 13/100\n",
      "36/36 - 106s - loss: 1.1415 - accuracy: 0.5446 - val_loss: 1.3430 - val_accuracy: 0.3544 - lr: 0.0010 - 106s/epoch - 3s/step\n",
      "Epoch 14/100\n",
      "36/36 - 107s - loss: 1.1224 - accuracy: 0.5556 - val_loss: 1.2971 - val_accuracy: 0.4110 - lr: 0.0010 - 107s/epoch - 3s/step\n",
      "Epoch 15/100\n",
      "36/36 - 106s - loss: 1.0956 - accuracy: 0.5653 - val_loss: 1.2485 - val_accuracy: 0.4405 - lr: 0.0010 - 106s/epoch - 3s/step\n",
      "Epoch 16/100\n",
      "36/36 - 105s - loss: 1.0793 - accuracy: 0.5729 - val_loss: 1.2011 - val_accuracy: 0.4741 - lr: 0.0010 - 105s/epoch - 3s/step\n",
      "Epoch 17/100\n",
      "36/36 - 107s - loss: 1.0627 - accuracy: 0.5800 - val_loss: 1.1927 - val_accuracy: 0.4720 - lr: 0.0010 - 107s/epoch - 3s/step\n",
      "Epoch 18/100\n",
      "36/36 - 112s - loss: 1.0502 - accuracy: 0.5850 - val_loss: 1.1352 - val_accuracy: 0.4963 - lr: 0.0010 - 112s/epoch - 3s/step\n",
      "Epoch 19/100\n",
      "36/36 - 109s - loss: 1.0357 - accuracy: 0.5927 - val_loss: 1.1217 - val_accuracy: 0.5046 - lr: 0.0010 - 109s/epoch - 3s/step\n",
      "Epoch 20/100\n",
      "36/36 - 108s - loss: 1.0244 - accuracy: 0.5973 - val_loss: 1.1121 - val_accuracy: 0.5032 - lr: 0.0010 - 108s/epoch - 3s/step\n",
      "Epoch 21/100\n",
      "36/36 - 108s - loss: 1.0155 - accuracy: 0.6013 - val_loss: 1.1090 - val_accuracy: 0.5114 - lr: 0.0010 - 108s/epoch - 3s/step\n",
      "Epoch 22/100\n",
      "36/36 - 106s - loss: 1.0050 - accuracy: 0.6059 - val_loss: 1.1005 - val_accuracy: 0.5163 - lr: 0.0010 - 106s/epoch - 3s/step\n",
      "Epoch 23/100\n",
      "36/36 - 107s - loss: 0.9954 - accuracy: 0.6102 - val_loss: 1.1097 - val_accuracy: 0.5085 - lr: 0.0010 - 107s/epoch - 3s/step\n",
      "Epoch 24/100\n",
      "36/36 - 107s - loss: 0.9866 - accuracy: 0.6152 - val_loss: 1.1342 - val_accuracy: 0.4984 - lr: 0.0010 - 107s/epoch - 3s/step\n",
      "Epoch 25/100\n",
      "36/36 - 109s - loss: 0.9811 - accuracy: 0.6167 - val_loss: 1.1152 - val_accuracy: 0.5013 - lr: 0.0010 - 109s/epoch - 3s/step\n",
      "Epoch 26/100\n",
      "36/36 - 108s - loss: 0.9722 - accuracy: 0.6214 - val_loss: 1.1320 - val_accuracy: 0.5075 - lr: 0.0010 - 108s/epoch - 3s/step\n",
      "Epoch 27/100\n",
      "36/36 - 107s - loss: 0.9670 - accuracy: 0.6238 - val_loss: 1.0974 - val_accuracy: 0.5081 - lr: 0.0010 - 107s/epoch - 3s/step\n",
      "Epoch 28/100\n",
      "36/36 - 119s - loss: 0.9595 - accuracy: 0.6288 - val_loss: 1.1060 - val_accuracy: 0.5090 - lr: 0.0010 - 119s/epoch - 3s/step\n",
      "Epoch 29/100\n",
      "36/36 - 167s - loss: 0.9510 - accuracy: 0.6310 - val_loss: 1.1150 - val_accuracy: 0.5097 - lr: 0.0010 - 167s/epoch - 5s/step\n",
      "Epoch 30/100\n",
      "36/36 - 174s - loss: 0.9447 - accuracy: 0.6327 - val_loss: 1.0990 - val_accuracy: 0.5166 - lr: 0.0010 - 174s/epoch - 5s/step\n",
      "Epoch 31/100\n",
      "36/36 - 153s - loss: 0.9400 - accuracy: 0.6382 - val_loss: 1.0836 - val_accuracy: 0.5292 - lr: 0.0010 - 153s/epoch - 4s/step\n",
      "Epoch 32/100\n",
      "36/36 - 176s - loss: 0.9369 - accuracy: 0.6393 - val_loss: 1.1149 - val_accuracy: 0.5202 - lr: 0.0010 - 176s/epoch - 5s/step\n",
      "Epoch 33/100\n",
      "36/36 - 148s - loss: 0.9293 - accuracy: 0.6417 - val_loss: 1.0908 - val_accuracy: 0.5263 - lr: 0.0010 - 148s/epoch - 4s/step\n",
      "Epoch 34/100\n",
      "36/36 - 161s - loss: 0.9234 - accuracy: 0.6454 - val_loss: 1.1272 - val_accuracy: 0.5084 - lr: 0.0010 - 161s/epoch - 4s/step\n",
      "Epoch 35/100\n",
      "36/36 - 180s - loss: 0.9166 - accuracy: 0.6488 - val_loss: 1.0985 - val_accuracy: 0.5137 - lr: 0.0010 - 180s/epoch - 5s/step\n",
      "Epoch 36/100\n",
      "36/36 - 185s - loss: 0.9096 - accuracy: 0.6509 - val_loss: 1.0835 - val_accuracy: 0.5240 - lr: 0.0010 - 185s/epoch - 5s/step\n",
      "Epoch 37/100\n",
      "36/36 - 154s - loss: 0.9071 - accuracy: 0.6502 - val_loss: 1.0782 - val_accuracy: 0.5353 - lr: 0.0010 - 154s/epoch - 4s/step\n",
      "Epoch 38/100\n",
      "36/36 - 171s - loss: 0.9041 - accuracy: 0.6535 - val_loss: 1.0569 - val_accuracy: 0.5418 - lr: 0.0010 - 171s/epoch - 5s/step\n",
      "Epoch 39/100\n",
      "36/36 - 103s - loss: 0.8990 - accuracy: 0.6559 - val_loss: 1.0748 - val_accuracy: 0.5366 - lr: 0.0010 - 103s/epoch - 3s/step\n",
      "Epoch 40/100\n",
      "36/36 - 177s - loss: 0.8917 - accuracy: 0.6591 - val_loss: 1.1041 - val_accuracy: 0.5276 - lr: 0.0010 - 177s/epoch - 5s/step\n",
      "Epoch 41/100\n",
      "36/36 - 128s - loss: 0.8875 - accuracy: 0.6606 - val_loss: 1.0542 - val_accuracy: 0.5477 - lr: 0.0010 - 128s/epoch - 4s/step\n",
      "Epoch 42/100\n",
      "36/36 - 181s - loss: 0.8842 - accuracy: 0.6621 - val_loss: 1.0788 - val_accuracy: 0.5401 - lr: 0.0010 - 181s/epoch - 5s/step\n",
      "Epoch 43/100\n",
      "36/36 - 188s - loss: 0.8816 - accuracy: 0.6631 - val_loss: 1.0849 - val_accuracy: 0.5344 - lr: 0.0010 - 188s/epoch - 5s/step\n",
      "Epoch 44/100\n",
      "36/36 - 179s - loss: 0.8767 - accuracy: 0.6670 - val_loss: 1.0692 - val_accuracy: 0.5425 - lr: 0.0010 - 179s/epoch - 5s/step\n",
      "Epoch 45/100\n",
      "36/36 - 176s - loss: 0.8734 - accuracy: 0.6692 - val_loss: 1.0621 - val_accuracy: 0.5449 - lr: 0.0010 - 176s/epoch - 5s/step\n",
      "Epoch 46/100\n",
      "36/36 - 153s - loss: 0.8667 - accuracy: 0.6700 - val_loss: 1.0642 - val_accuracy: 0.5470 - lr: 0.0010 - 153s/epoch - 4s/step\n",
      "Epoch 47/100\n",
      "36/36 - 137s - loss: 0.8645 - accuracy: 0.6715 - val_loss: 1.0370 - val_accuracy: 0.5572 - lr: 0.0010 - 137s/epoch - 4s/step\n",
      "Epoch 48/100\n",
      "36/36 - 139s - loss: 0.8640 - accuracy: 0.6720 - val_loss: 1.0693 - val_accuracy: 0.5425 - lr: 0.0010 - 139s/epoch - 4s/step\n",
      "Epoch 49/100\n",
      "36/36 - 137s - loss: 0.8591 - accuracy: 0.6721 - val_loss: 1.0714 - val_accuracy: 0.5511 - lr: 0.0010 - 137s/epoch - 4s/step\n",
      "Epoch 50/100\n",
      "36/36 - 144s - loss: 0.8564 - accuracy: 0.6741 - val_loss: 1.0525 - val_accuracy: 0.5496 - lr: 0.0010 - 144s/epoch - 4s/step\n",
      "Epoch 51/100\n",
      "36/36 - 135s - loss: 0.8549 - accuracy: 0.6755 - val_loss: 1.0855 - val_accuracy: 0.5354 - lr: 0.0010 - 135s/epoch - 4s/step\n",
      "Epoch 52/100\n",
      "36/36 - 138s - loss: 0.8527 - accuracy: 0.6761 - val_loss: 1.0773 - val_accuracy: 0.5401 - lr: 0.0010 - 138s/epoch - 4s/step\n",
      "Epoch 53/100\n",
      "36/36 - 125s - loss: 0.8474 - accuracy: 0.6786 - val_loss: 1.1223 - val_accuracy: 0.5264 - lr: 0.0010 - 125s/epoch - 3s/step\n",
      "Epoch 54/100\n",
      "36/36 - 131s - loss: 0.8436 - accuracy: 0.6817 - val_loss: 1.0884 - val_accuracy: 0.5448 - lr: 0.0010 - 131s/epoch - 4s/step\n",
      "Epoch 55/100\n",
      "36/36 - 105s - loss: 0.8425 - accuracy: 0.6801 - val_loss: 1.0426 - val_accuracy: 0.5522 - lr: 0.0010 - 105s/epoch - 3s/step\n",
      "Epoch 56/100\n",
      "36/36 - 104s - loss: 0.8406 - accuracy: 0.6808 - val_loss: 1.0784 - val_accuracy: 0.5421 - lr: 0.0010 - 104s/epoch - 3s/step\n",
      "Epoch 57/100\n",
      "36/36 - 107s - loss: 0.8365 - accuracy: 0.6836 - val_loss: 1.0521 - val_accuracy: 0.5505 - lr: 0.0010 - 107s/epoch - 3s/step\n",
      "Epoch 58/100\n",
      "36/36 - 109s - loss: 0.8340 - accuracy: 0.6844 - val_loss: 1.0434 - val_accuracy: 0.5481 - lr: 0.0010 - 109s/epoch - 3s/step\n",
      "Epoch 59/100\n",
      "36/36 - 110s - loss: 0.8309 - accuracy: 0.6845 - val_loss: 1.0386 - val_accuracy: 0.5516 - lr: 0.0010 - 110s/epoch - 3s/step\n",
      "Epoch 60/100\n",
      "36/36 - 112s - loss: 0.8312 - accuracy: 0.6843 - val_loss: 1.0433 - val_accuracy: 0.5583 - lr: 0.0010 - 112s/epoch - 3s/step\n",
      "Epoch 61/100\n",
      "36/36 - 101s - loss: 0.8265 - accuracy: 0.6874 - val_loss: 1.0445 - val_accuracy: 0.5525 - lr: 0.0010 - 101s/epoch - 3s/step\n",
      "Epoch 62/100\n",
      "36/36 - 139s - loss: 0.8274 - accuracy: 0.6874 - val_loss: 1.0520 - val_accuracy: 0.5531 - lr: 0.0010 - 139s/epoch - 4s/step\n",
      "Epoch 63/100\n",
      "36/36 - 145s - loss: 0.8260 - accuracy: 0.6865 - val_loss: 1.0975 - val_accuracy: 0.5396 - lr: 0.0010 - 145s/epoch - 4s/step\n",
      "Epoch 64/100\n",
      "36/36 - 153s - loss: 0.8246 - accuracy: 0.6905 - val_loss: 1.0511 - val_accuracy: 0.5448 - lr: 0.0010 - 153s/epoch - 4s/step\n",
      "Epoch 65/100\n",
      "36/36 - 142s - loss: 0.8224 - accuracy: 0.6876 - val_loss: 1.1464 - val_accuracy: 0.5156 - lr: 0.0010 - 142s/epoch - 4s/step\n",
      "Epoch 66/100\n",
      "36/36 - 114s - loss: 0.8182 - accuracy: 0.6916 - val_loss: 1.1439 - val_accuracy: 0.5330 - lr: 0.0010 - 114s/epoch - 3s/step\n",
      "Epoch 67/100\n",
      "36/36 - 126s - loss: 0.8167 - accuracy: 0.6918 - val_loss: 1.0974 - val_accuracy: 0.5416 - lr: 0.0010 - 126s/epoch - 4s/step\n",
      "Epoch 68/100\n",
      "36/36 - 136s - loss: 0.8113 - accuracy: 0.6943 - val_loss: 1.0418 - val_accuracy: 0.5539 - lr: 0.0010 - 136s/epoch - 4s/step\n",
      "Epoch 69/100\n",
      "36/36 - 175s - loss: 0.8106 - accuracy: 0.6945 - val_loss: 1.1421 - val_accuracy: 0.5224 - lr: 0.0010 - 175s/epoch - 5s/step\n",
      "Epoch 70/100\n",
      "36/36 - 189s - loss: 0.8095 - accuracy: 0.6938 - val_loss: 1.0847 - val_accuracy: 0.5390 - lr: 0.0010 - 189s/epoch - 5s/step\n",
      "Epoch 71/100\n",
      "36/36 - 198s - loss: 0.8097 - accuracy: 0.6944 - val_loss: 1.0764 - val_accuracy: 0.5554 - lr: 0.0010 - 198s/epoch - 6s/step\n",
      "Epoch 72/100\n",
      "36/36 - 182s - loss: 0.8035 - accuracy: 0.6974 - val_loss: 1.0528 - val_accuracy: 0.5623 - lr: 0.0010 - 182s/epoch - 5s/step\n",
      "Epoch 73/100\n",
      "36/36 - 155s - loss: 0.8034 - accuracy: 0.6964 - val_loss: 1.0714 - val_accuracy: 0.5522 - lr: 0.0010 - 155s/epoch - 4s/step\n",
      "Epoch 74/100\n",
      "36/36 - 140s - loss: 0.8043 - accuracy: 0.6969 - val_loss: 1.0830 - val_accuracy: 0.5516 - lr: 0.0010 - 140s/epoch - 4s/step\n",
      "Epoch 75/100\n",
      "36/36 - 181s - loss: 0.8022 - accuracy: 0.6970 - val_loss: 1.0905 - val_accuracy: 0.5544 - lr: 0.0010 - 181s/epoch - 5s/step\n",
      "Epoch 76/100\n",
      "36/36 - 169s - loss: 0.8007 - accuracy: 0.6982 - val_loss: 1.0667 - val_accuracy: 0.5549 - lr: 0.0010 - 169s/epoch - 5s/step\n",
      "Epoch 77/100\n",
      "36/36 - 113s - loss: 0.7994 - accuracy: 0.6979 - val_loss: 1.0681 - val_accuracy: 0.5542 - lr: 0.0010 - 113s/epoch - 3s/step\n",
      "Epoch 78/100\n",
      "36/36 - 98s - loss: 0.7963 - accuracy: 0.7008 - val_loss: 1.0426 - val_accuracy: 0.5731 - lr: 0.0010 - 98s/epoch - 3s/step\n",
      "Epoch 79/100\n",
      "36/36 - 106s - loss: 0.7947 - accuracy: 0.7000 - val_loss: 1.0905 - val_accuracy: 0.5512 - lr: 0.0010 - 106s/epoch - 3s/step\n",
      "Epoch 80/100\n",
      "36/36 - 98s - loss: 0.7962 - accuracy: 0.6997 - val_loss: 1.1492 - val_accuracy: 0.5333 - lr: 0.0010 - 98s/epoch - 3s/step\n",
      "Epoch 81/100\n",
      "36/36 - 96s - loss: 0.7944 - accuracy: 0.7009 - val_loss: 1.0262 - val_accuracy: 0.5755 - lr: 0.0010 - 96s/epoch - 3s/step\n",
      "Epoch 82/100\n",
      "36/36 - 95s - loss: 0.7904 - accuracy: 0.7024 - val_loss: 1.0562 - val_accuracy: 0.5600 - lr: 0.0010 - 95s/epoch - 3s/step\n",
      "Epoch 83/100\n",
      "36/36 - 97s - loss: 0.7888 - accuracy: 0.7023 - val_loss: 0.9900 - val_accuracy: 0.5897 - lr: 0.0010 - 97s/epoch - 3s/step\n",
      "Epoch 84/100\n",
      "36/36 - 97s - loss: 0.7867 - accuracy: 0.7039 - val_loss: 1.0028 - val_accuracy: 0.5847 - lr: 0.0010 - 97s/epoch - 3s/step\n",
      "Epoch 85/100\n",
      "36/36 - 95s - loss: 0.7865 - accuracy: 0.7042 - val_loss: 1.0603 - val_accuracy: 0.5660 - lr: 0.0010 - 95s/epoch - 3s/step\n",
      "Epoch 86/100\n",
      "36/36 - 96s - loss: 0.7843 - accuracy: 0.7043 - val_loss: 1.0331 - val_accuracy: 0.5666 - lr: 0.0010 - 96s/epoch - 3s/step\n",
      "Epoch 87/100\n",
      "36/36 - 101s - loss: 0.7830 - accuracy: 0.7047 - val_loss: 1.0731 - val_accuracy: 0.5515 - lr: 0.0010 - 101s/epoch - 3s/step\n",
      "Epoch 88/100\n",
      "36/36 - 110s - loss: 0.7835 - accuracy: 0.7060 - val_loss: 0.9689 - val_accuracy: 0.5840 - lr: 0.0010 - 110s/epoch - 3s/step\n",
      "Epoch 89/100\n",
      "36/36 - 160s - loss: 0.7809 - accuracy: 0.7063 - val_loss: 1.1105 - val_accuracy: 0.5323 - lr: 0.0010 - 160s/epoch - 4s/step\n",
      "Epoch 90/100\n",
      "36/36 - 141s - loss: 0.7828 - accuracy: 0.7045 - val_loss: 1.0486 - val_accuracy: 0.5647 - lr: 0.0010 - 141s/epoch - 4s/step\n",
      "Epoch 91/100\n",
      "36/36 - 223s - loss: 0.7781 - accuracy: 0.7061 - val_loss: 1.0466 - val_accuracy: 0.5678 - lr: 0.0010 - 223s/epoch - 6s/step\n",
      "Epoch 92/100\n",
      "36/36 - 114s - loss: 0.7753 - accuracy: 0.7069 - val_loss: 1.0386 - val_accuracy: 0.5728 - lr: 0.0010 - 114s/epoch - 3s/step\n",
      "Epoch 93/100\n",
      "36/36 - 114s - loss: 0.7771 - accuracy: 0.7070 - val_loss: 0.9893 - val_accuracy: 0.5875 - lr: 0.0010 - 114s/epoch - 3s/step\n",
      "Epoch 94/100\n",
      "36/36 - 114s - loss: 0.7756 - accuracy: 0.7081 - val_loss: 1.0154 - val_accuracy: 0.5794 - lr: 0.0010 - 114s/epoch - 3s/step\n",
      "Epoch 95/100\n",
      "36/36 - 112s - loss: 0.7713 - accuracy: 0.7099 - val_loss: 1.0437 - val_accuracy: 0.5732 - lr: 0.0010 - 112s/epoch - 3s/step\n",
      "Epoch 96/100\n",
      "36/36 - 109s - loss: 0.7737 - accuracy: 0.7095 - val_loss: 0.9832 - val_accuracy: 0.5840 - lr: 0.0010 - 109s/epoch - 3s/step\n",
      "Epoch 97/100\n",
      "36/36 - 109s - loss: 0.7724 - accuracy: 0.7096 - val_loss: 1.0609 - val_accuracy: 0.5510 - lr: 0.0010 - 109s/epoch - 3s/step\n",
      "Epoch 98/100\n",
      "36/36 - 110s - loss: 0.7689 - accuracy: 0.7119 - val_loss: 1.0467 - val_accuracy: 0.5647 - lr: 0.0010 - 110s/epoch - 3s/step\n",
      "Epoch 99/100\n",
      "36/36 - 112s - loss: 0.7681 - accuracy: 0.7107 - val_loss: 1.0019 - val_accuracy: 0.5887 - lr: 0.0010 - 112s/epoch - 3s/step\n",
      "Epoch 100/100\n",
      "36/36 - 109s - loss: 0.7669 - accuracy: 0.7118 - val_loss: 0.9975 - val_accuracy: 0.5839 - lr: 0.0010 - 109s/epoch - 3s/step\n"
     ]
    }
   ],
   "source": [
    "model.compile(loss= 'categorical_crossentropy', optimizer= adam, metrics=['accuracy'])\n",
    "history = model.fit(X_train, y_train, \n",
    "                                epochs=100, \n",
    "                                batch_size=2500, \n",
    "                                verbose=2, \n",
    "                                validation_data=(X_test, y_test), \n",
    "                                callbacks=[lrate])"
   ]
  },
  {
   "cell_type": "code",
   "execution_count": 24,
   "metadata": {},
   "outputs": [],
   "source": [
    "from sklearn.metrics import classification_report, confusion_matrix\n",
    "\n",
    "labels = [\"Normal\",\n",
    "          \"Supraventricular ectopic beats\",\n",
    "          \"Ventricular ectopic beats\",\n",
    "          \"Fusion Beats\",\n",
    "          \"Unknown Beats\"]"
   ]
  },
  {
   "cell_type": "code",
   "execution_count": 25,
   "metadata": {},
   "outputs": [
    {
     "name": "stdout",
     "output_type": "stream",
     "text": [
      "685/685 [==============================] - 10s 13ms/step\n",
      "[[9622 4417 1243 1885  951]\n",
      " [  63  439   16   31    7]\n",
      " [  49  131 1071  115   82]\n",
      " [   7    2    5  148    0]\n",
      " [  55   21   17   12 1503]]\n"
     ]
    }
   ],
   "source": [
    "# Test Model\n",
    "predY = model.predict(X_test)\n",
    "y_pred = np.argmax(predY,axis=1)\n",
    "y_actual = np.argmax(y_test,axis=1)\n",
    "cm = confusion_matrix(y_actual, y_pred)\n",
    "print(cm)"
   ]
  },
  {
   "cell_type": "code",
   "execution_count": 26,
   "metadata": {},
   "outputs": [
    {
     "name": "stdout",
     "output_type": "stream",
     "text": [
      "                                precision    recall  f1-score   support\n",
      "\n",
      "                        Normal       0.98      0.53      0.69     18118\n",
      "Supraventricular ectopic beats       0.09      0.79      0.16       556\n",
      "     Ventricular ectopic beats       0.46      0.74      0.56      1448\n",
      "                  Fusion Beats       0.07      0.91      0.13       162\n",
      "                 Unknown Beats       0.59      0.93      0.72      1608\n",
      "\n",
      "                      accuracy                           0.58     21892\n",
      "                     macro avg       0.44      0.78      0.45     21892\n",
      "                  weighted avg       0.89      0.58      0.67     21892\n",
      "\n"
     ]
    }
   ],
   "source": [
    "print(classification_report(y_actual, y_pred, target_names=labels))"
   ]
  },
  {
   "cell_type": "code",
   "execution_count": 27,
   "metadata": {
    "_uuid": "d43023d26a87e3c4702b96bea5962c990c76aa0a",
    "jupyter": {
     "outputs_hidden": true
    }
   },
   "outputs": [
    {
     "name": "stdout",
     "output_type": "stream",
     "text": [
      "44/44 [==============================] - 5s 103ms/step\n"
     ]
    }
   ],
   "source": [
    "y_pred = model.predict(X_test, batch_size = 500)"
   ]
  },
  {
   "cell_type": "code",
   "execution_count": 28,
   "metadata": {
    "_uuid": "20cfe7f5891e3c26c599fa4cd728ac0a499ac70e",
    "jupyter": {
     "outputs_hidden": true
    }
   },
   "outputs": [
    {
     "name": "stdout",
     "output_type": "stream",
     "text": [
      "              precision    recall  f1-score   support\n",
      "\n",
      "           0       0.98      0.53      0.69     18118\n",
      "           1       0.09      0.79      0.16       556\n",
      "           2       0.46      0.74      0.56      1448\n",
      "           3       0.07      0.91      0.13       162\n",
      "           4       0.59      0.93      0.72      1608\n",
      "\n",
      "    accuracy                           0.58     21892\n",
      "   macro avg       0.44      0.78      0.45     21892\n",
      "weighted avg       0.89      0.58      0.67     21892\n",
      "\n"
     ]
    }
   ],
   "source": [
    "print(classification_report(y_test.argmax(axis=1), y_pred.argmax(axis=1)))"
   ]
  },
  {
   "cell_type": "code",
   "execution_count": 29,
   "metadata": {
    "_uuid": "017f2431a45766fb0d4b2ef17ce613c1142ca085",
    "jupyter": {
     "outputs_hidden": true
    }
   },
   "outputs": [
    {
     "name": "stdout",
     "output_type": "stream",
     "text": [
      "ranking-based average precision : 0.774\n",
      "Ranking loss : 0.132\n",
      "Coverage_error : 1.530\n"
     ]
    }
   ],
   "source": [
    "print(\"ranking-based average precision : {:.3f}\".format(label_ranking_average_precision_score(y_test, y_pred)))\n",
    "print(\"Ranking loss : {:.3f}\".format(label_ranking_loss(y_test, y_pred)))\n",
    "print(\"Coverage_error : {:.3f}\".format(coverage_error(y_test, y_pred)))"
   ]
  },
  {
   "cell_type": "code",
   "execution_count": 30,
   "metadata": {},
   "outputs": [
    {
     "name": "stdout",
     "output_type": "stream",
     "text": [
      "Normalized confusion matrix\n"
     ]
    },
    {
     "data": {
      "image/png": "[encoded data removed]",
      "text/plain": [
       "<Figure size 720x720 with 2 Axes>"
      ]
     },
     "metadata": {
      "needs_background": "light"
     },
     "output_type": "display_data"
    }
   ],
   "source": [
    "import itertools\n",
    "def plot_confusion_matrix(cm, classes,\n",
    "                          normalize=False,\n",
    "                          title='Confusion matrix',\n",
    "                          cmap=plt.cm.Blues):\n",
    "    \"\"\"\n",
    "    This function prints and plots the confusion matrix.\n",
    "    Normalization can be applied by setting `normalize=True`.\n",
    "    \"\"\"\n",
    "    if normalize:\n",
    "        cm = cm.astype('float') / cm.sum(axis=1)[:, np.newaxis]\n",
    "        print(\"Normalized confusion matrix\")\n",
    "    else:\n",
    "        print('Confusion matrix, without normalization')\n",
    "\n",
    "    plt.imshow(cm, interpolation='nearest', cmap=cmap)\n",
    "    plt.title(title)\n",
    "    plt.colorbar()\n",
    "    tick_marks = np.arange(len(classes))\n",
    "    plt.xticks(tick_marks, classes, rotation=45)\n",
    "    plt.yticks(tick_marks, classes)\n",
    "\n",
    "    fmt = '.2f' if normalize else 'd'\n",
    "    thresh = cm.max() / 2.\n",
    "    for i, j in itertools.product(range(cm.shape[0]), range(cm.shape[1])):\n",
    "        plt.text(j, i, format(cm[i, j], fmt),\n",
    "                 horizontalalignment=\"center\",\n",
    "                 color=\"white\" if cm[i, j] > thresh else \"black\", fontsize=30)\n",
    "\n",
    "    plt.tight_layout()\n",
    "    plt.ylabel('True label')\n",
    "    plt.xlabel('Predicted label')\n",
    "\n",
    "# Compute confusion matrix\n",
    "cnf_matrix = confusion_matrix(y_test.argmax(axis=1), y_pred.argmax(axis=1))\n",
    "np.set_printoptions(precision=2)\n",
    "\n",
    "# Plot non-normalized confusion matrix\n",
    "plt.figure(figsize=(10, 10))\n",
    "plot_confusion_matrix(cnf_matrix, classes=['N', 'S', 'V', 'F', 'Q'],normalize=True,\n",
    "                      title='Confusion matrix, with normalization')\n",
    "plt.show()"
   ]
  },
  {
   "cell_type": "code",
   "execution_count": 31,
   "metadata": {},
   "outputs": [],
   "source": [
    "FP = cnf_matrix.sum(axis=0) - np.diag(cnf_matrix)  \n",
    "FN = cnf_matrix.sum(axis=1) - np.diag(cnf_matrix)\n",
    "TP = np.diag(cnf_matrix)\n",
    "TN = cnf_matrix.sum() - (FP + FN + TP)\n",
    "\n",
    "# Sensitivity, hit rate, recall, or true positive rate\n",
    "RECALL = TP/(TP+FN)\n",
    "# Specificity or true negative rate\n",
    "SPECIFICITY = TN/(TN+FP) \n",
    "# Precision or positive predictive value\n",
    "PRECISION = TP/(TP+FP)\n",
    "# Negative predictive value\n",
    "NPV = TN/(TN+FN)\n",
    "# Fall out or false positive rate\n",
    "FPR = FP/(FP+TN)\n",
    "# False negative rate\n",
    "FNR = FN/(TP+FN)\n",
    "# False discovery rate\n",
    "FDR = FP/(TP+FP)\n",
    "\n",
    "# Overall accuracy\n",
    "ACC = (TP+TN)/(TP+FP+FN+TN)\n",
    "#F1-score\n",
    "F1 = 2*((RECALL*PRECISION)/(RECALL+PRECISION))"
   ]
  },
  {
   "cell_type": "code",
   "execution_count": 32,
   "metadata": {},
   "outputs": [
    {
     "name": "stdout",
     "output_type": "stream",
     "text": [
      "44/44 [==============================] - 5s 101ms/step - loss: 0.9975 - accuracy: 0.5839\n",
      "44/44 [==============================] - 5s 108ms/step - loss: 0.9324 - accuracy: 1.0000\n",
      "Accuracy: 99.75%\n",
      "Accuracy: 58.39%\n",
      "Precision: 43.68%\n",
      "Specificity: 90.63%\n",
      "Recall :78.17%\n",
      "F1-Score :45.22%\n",
      "Recall:78.17%\n"
     ]
    }
   ],
   "source": [
    "from statistics import mean, median\n",
    "from tkinter import N\n",
    "scores = model.evaluate((X_test), y_test, batch_size = 500)\n",
    "scores2 = model.evaluate(X_test, y_pred, batch_size = 500)\n",
    "print(\"Accuracy: %.2f%%\" % (scores[0]*100))\n",
    "print(\"Accuracy: %.2f%%\" % (scores[1]*100))\n",
    "PRE = mean(PRECISION)\n",
    "print(\"Precision: %.2f%%\"% (PRE*100))\n",
    "#print(\"Precision: \", PRECISION)\n",
    "SPE = mean(SPECIFICITY)\n",
    "print(\"Specificity: %.2f%%\"% (SPE*100))\n",
    "#print(\"Specificity\", SPECIFICITY)\n",
    "RE = mean(RECALL)\n",
    "print(\"Recall :%.2f%%\"% (RE*100))\n",
    "#print(\"Recall\", RECALL)\n",
    "#print(\"F1: \", F1)\n",
    "F1S = mean(F1)\n",
    "print(\"F1-Score :%.2f%%\"% (F1S*100))\n",
    "Z= mean(1-FNR)*100\n",
    "print(\"Recall:%.2f%%\"%Z)"
   ]
  }
 ],
 "metadata": {
  "kernelspec": {
   "display_name": "base",
   "language": "python",
   "name": "python3"
  },
  "language_info": {
   "codemirror_mode": {
    "name": "ipython",
    "version": 3
   },
   "file_extension": ".py",
   "mimetype": "text/x-python",
   "name": "python",
   "nbconvert_exporter": "python",
   "pygments_lexer": "ipython3",
   "version": "3.9.7"
  },
  "vscode": {
   "interpreter": {
    "hash": "52d90d3cc821dd0beedd6e719dbdecc722c226b9d90ed1b663c34e1877f1142e"
   }
  }
 },
 "nbformat": 4,
 "nbformat_minor": 4
}
